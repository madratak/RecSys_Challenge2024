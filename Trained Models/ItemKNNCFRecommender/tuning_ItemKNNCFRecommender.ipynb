{
 "cells": [
  {
   "cell_type": "markdown",
   "metadata": {},
   "source": [
    "# Pre-processing"
   ]
  },
  {
   "cell_type": "code",
   "execution_count": 75,
   "metadata": {
    "_cell_guid": "b1076dfc-b9ad-4769-8c92-a6c4dae69d19",
    "_uuid": "8f2839f25d086af736a60e9eeb907d3b93b6e0e5",
    "execution": {
     "iopub.execute_input": "2024-11-09T19:35:45.465509Z",
     "iopub.status.busy": "2024-11-09T19:35:45.465207Z",
     "iopub.status.idle": "2024-11-09T19:35:46.699471Z",
     "shell.execute_reply": "2024-11-09T19:35:46.698542Z",
     "shell.execute_reply.started": "2024-11-09T19:35:45.465470Z"
    },
    "trusted": true
   },
   "outputs": [],
   "source": [
    "import numpy as np\n",
    "import pandas as pd\n",
    "import scipy.sparse as sps\n",
    "import time"
   ]
  },
  {
   "cell_type": "markdown",
   "metadata": {},
   "source": [
    "## URM"
   ]
  },
  {
   "cell_type": "code",
   "execution_count": 76,
   "metadata": {
    "execution": {
     "iopub.execute_input": "2024-11-09T19:35:46.701627Z",
     "iopub.status.busy": "2024-11-09T19:35:46.701212Z",
     "iopub.status.idle": "2024-11-09T19:35:47.621851Z",
     "shell.execute_reply": "2024-11-09T19:35:47.620870Z",
     "shell.execute_reply.started": "2024-11-09T19:35:46.701593Z"
    },
    "trusted": true
   },
   "outputs": [
    {
     "data": {
      "text/html": [
       "<div>\n",
       "<style scoped>\n",
       "    .dataframe tbody tr th:only-of-type {\n",
       "        vertical-align: middle;\n",
       "    }\n",
       "\n",
       "    .dataframe tbody tr th {\n",
       "        vertical-align: top;\n",
       "    }\n",
       "\n",
       "    .dataframe thead th {\n",
       "        text-align: right;\n",
       "    }\n",
       "</style>\n",
       "<table border=\"1\" class=\"dataframe\">\n",
       "  <thead>\n",
       "    <tr style=\"text-align: right;\">\n",
       "      <th></th>\n",
       "      <th>user_id</th>\n",
       "      <th>item_id</th>\n",
       "      <th>data</th>\n",
       "    </tr>\n",
       "  </thead>\n",
       "  <tbody>\n",
       "    <tr>\n",
       "      <th>0</th>\n",
       "      <td>0</td>\n",
       "      <td>0</td>\n",
       "      <td>1.0</td>\n",
       "    </tr>\n",
       "    <tr>\n",
       "      <th>1</th>\n",
       "      <td>0</td>\n",
       "      <td>2</td>\n",
       "      <td>1.0</td>\n",
       "    </tr>\n",
       "    <tr>\n",
       "      <th>2</th>\n",
       "      <td>0</td>\n",
       "      <td>120</td>\n",
       "      <td>1.0</td>\n",
       "    </tr>\n",
       "    <tr>\n",
       "      <th>3</th>\n",
       "      <td>0</td>\n",
       "      <td>128</td>\n",
       "      <td>1.0</td>\n",
       "    </tr>\n",
       "    <tr>\n",
       "      <th>4</th>\n",
       "      <td>0</td>\n",
       "      <td>211</td>\n",
       "      <td>1.0</td>\n",
       "    </tr>\n",
       "    <tr>\n",
       "      <th>5</th>\n",
       "      <td>0</td>\n",
       "      <td>232</td>\n",
       "      <td>1.0</td>\n",
       "    </tr>\n",
       "    <tr>\n",
       "      <th>6</th>\n",
       "      <td>0</td>\n",
       "      <td>282</td>\n",
       "      <td>1.0</td>\n",
       "    </tr>\n",
       "    <tr>\n",
       "      <th>7</th>\n",
       "      <td>0</td>\n",
       "      <td>453</td>\n",
       "      <td>1.0</td>\n",
       "    </tr>\n",
       "    <tr>\n",
       "      <th>8</th>\n",
       "      <td>0</td>\n",
       "      <td>458</td>\n",
       "      <td>1.0</td>\n",
       "    </tr>\n",
       "    <tr>\n",
       "      <th>9</th>\n",
       "      <td>0</td>\n",
       "      <td>491</td>\n",
       "      <td>1.0</td>\n",
       "    </tr>\n",
       "  </tbody>\n",
       "</table>\n",
       "</div>"
      ],
      "text/plain": [
       "   user_id  item_id  data\n",
       "0        0        0   1.0\n",
       "1        0        2   1.0\n",
       "2        0      120   1.0\n",
       "3        0      128   1.0\n",
       "4        0      211   1.0\n",
       "5        0      232   1.0\n",
       "6        0      282   1.0\n",
       "7        0      453   1.0\n",
       "8        0      458   1.0\n",
       "9        0      491   1.0"
      ]
     },
     "execution_count": 76,
     "metadata": {},
     "output_type": "execute_result"
    }
   ],
   "source": [
    "URM_all_dataframe = pd.read_csv(\"C:/Users/mauro/Downloads/Recommender System/Input/data_train.csv\")\n",
    "URM_all_dataframe.head(10)"
   ]
  },
  {
   "cell_type": "code",
   "execution_count": 77,
   "metadata": {
    "execution": {
     "iopub.execute_input": "2024-11-09T19:35:47.623639Z",
     "iopub.status.busy": "2024-11-09T19:35:47.623222Z",
     "iopub.status.idle": "2024-11-09T19:35:47.676275Z",
     "shell.execute_reply": "2024-11-09T19:35:47.675346Z",
     "shell.execute_reply.started": "2024-11-09T19:35:47.623592Z"
    },
    "trusted": true
   },
   "outputs": [
    {
     "name": "stdout",
     "output_type": "stream",
     "text": [
      "Number of items\t 38121, Number of users\t 35736\n",
      "Max ID items\t 38120, Max Id users\t 35735\n",
      "\n",
      "The number of interactions is 1764607\n"
     ]
    }
   ],
   "source": [
    "userID_unique = URM_all_dataframe[\"user_id\"].unique()\n",
    "itemID_unique = URM_all_dataframe[\"item_id\"].unique()\n",
    "\n",
    "n_users = len(userID_unique)\n",
    "n_items = len(itemID_unique)\n",
    "n_interactions = len(URM_all_dataframe)\n",
    "\n",
    "print (\"Number of items\\t {}, Number of users\\t {}\".format(n_items, n_users))\n",
    "print (\"Max ID items\\t {}, Max Id users\\t {}\\n\".format(max(itemID_unique), max(userID_unique)))\n",
    "print (\"The number of interactions is {}\".format(n_interactions))"
   ]
  },
  {
   "cell_type": "markdown",
   "metadata": {},
   "source": [
    "## ICM"
   ]
  },
  {
   "cell_type": "code",
   "execution_count": 78,
   "metadata": {
    "execution": {
     "iopub.execute_input": "2024-11-09T19:35:47.679201Z",
     "iopub.status.busy": "2024-11-09T19:35:47.678744Z",
     "iopub.status.idle": "2024-11-09T19:35:49.085938Z",
     "shell.execute_reply": "2024-11-09T19:35:49.084884Z",
     "shell.execute_reply.started": "2024-11-09T19:35:47.679158Z"
    },
    "trusted": true
   },
   "outputs": [
    {
     "data": {
      "text/html": [
       "<div>\n",
       "<style scoped>\n",
       "    .dataframe tbody tr th:only-of-type {\n",
       "        vertical-align: middle;\n",
       "    }\n",
       "\n",
       "    .dataframe tbody tr th {\n",
       "        vertical-align: top;\n",
       "    }\n",
       "\n",
       "    .dataframe thead th {\n",
       "        text-align: right;\n",
       "    }\n",
       "</style>\n",
       "<table border=\"1\" class=\"dataframe\">\n",
       "  <thead>\n",
       "    <tr style=\"text-align: right;\">\n",
       "      <th></th>\n",
       "      <th>item_id</th>\n",
       "      <th>feature_id</th>\n",
       "      <th>data</th>\n",
       "    </tr>\n",
       "  </thead>\n",
       "  <tbody>\n",
       "    <tr>\n",
       "      <th>0</th>\n",
       "      <td>2519</td>\n",
       "      <td>0</td>\n",
       "      <td>1.0</td>\n",
       "    </tr>\n",
       "    <tr>\n",
       "      <th>1</th>\n",
       "      <td>2642</td>\n",
       "      <td>0</td>\n",
       "      <td>1.0</td>\n",
       "    </tr>\n",
       "    <tr>\n",
       "      <th>2</th>\n",
       "      <td>3316</td>\n",
       "      <td>0</td>\n",
       "      <td>1.0</td>\n",
       "    </tr>\n",
       "    <tr>\n",
       "      <th>3</th>\n",
       "      <td>3400</td>\n",
       "      <td>0</td>\n",
       "      <td>1.0</td>\n",
       "    </tr>\n",
       "    <tr>\n",
       "      <th>4</th>\n",
       "      <td>3472</td>\n",
       "      <td>0</td>\n",
       "      <td>1.0</td>\n",
       "    </tr>\n",
       "    <tr>\n",
       "      <th>5</th>\n",
       "      <td>4361</td>\n",
       "      <td>0</td>\n",
       "      <td>1.0</td>\n",
       "    </tr>\n",
       "    <tr>\n",
       "      <th>6</th>\n",
       "      <td>4661</td>\n",
       "      <td>0</td>\n",
       "      <td>1.0</td>\n",
       "    </tr>\n",
       "    <tr>\n",
       "      <th>7</th>\n",
       "      <td>8697</td>\n",
       "      <td>0</td>\n",
       "      <td>1.0</td>\n",
       "    </tr>\n",
       "    <tr>\n",
       "      <th>8</th>\n",
       "      <td>9692</td>\n",
       "      <td>0</td>\n",
       "      <td>1.0</td>\n",
       "    </tr>\n",
       "    <tr>\n",
       "      <th>9</th>\n",
       "      <td>9693</td>\n",
       "      <td>0</td>\n",
       "      <td>1.0</td>\n",
       "    </tr>\n",
       "  </tbody>\n",
       "</table>\n",
       "</div>"
      ],
      "text/plain": [
       "   item_id  feature_id  data\n",
       "0     2519           0   1.0\n",
       "1     2642           0   1.0\n",
       "2     3316           0   1.0\n",
       "3     3400           0   1.0\n",
       "4     3472           0   1.0\n",
       "5     4361           0   1.0\n",
       "6     4661           0   1.0\n",
       "7     8697           0   1.0\n",
       "8     9692           0   1.0\n",
       "9     9693           0   1.0"
      ]
     },
     "execution_count": 78,
     "metadata": {},
     "output_type": "execute_result"
    }
   ],
   "source": [
    "ICM_dataframe = pd.read_csv(\"C:/Users/mauro/Downloads/Recommender System/Input/data_ICM_metadata.csv\")\n",
    "ICM_dataframe.head(10)"
   ]
  },
  {
   "cell_type": "code",
   "execution_count": 79,
   "metadata": {
    "execution": {
     "iopub.execute_input": "2024-11-09T19:35:49.087524Z",
     "iopub.status.busy": "2024-11-09T19:35:49.087126Z",
     "iopub.status.idle": "2024-11-09T19:35:49.153189Z",
     "shell.execute_reply": "2024-11-09T19:35:49.152268Z",
     "shell.execute_reply.started": "2024-11-09T19:35:49.087481Z"
    },
    "trusted": true
   },
   "outputs": [
    {
     "name": "stdout",
     "output_type": "stream",
     "text": [
      "Number of items\t 38121, Number of features\t 94331\n",
      "Max ID items\t 38120, Max Id features\t 94330\n",
      "\n",
      "The number of combinations is 2940040\n"
     ]
    }
   ],
   "source": [
    "featureID_unique = ICM_dataframe[\"feature_id\"].unique()\n",
    "itemID_unique = ICM_dataframe[\"item_id\"].unique()\n",
    "\n",
    "n_items = len(itemID_unique)\n",
    "n_features = len(featureID_unique)\n",
    "n_interactions = len(ICM_dataframe)\n",
    "\n",
    "print (\"Number of items\\t {}, Number of features\\t {}\".format(n_items, n_features))\n",
    "print (\"Max ID items\\t {}, Max Id features\\t {}\\n\".format(max(itemID_unique), max(featureID_unique)))\n",
    "print (\"The number of combinations is {}\".format(n_interactions))"
   ]
  },
  {
   "cell_type": "markdown",
   "metadata": {},
   "source": [
    "## Construction of URM and ICM matrices"
   ]
  },
  {
   "cell_type": "code",
   "execution_count": 80,
   "metadata": {
    "execution": {
     "iopub.execute_input": "2024-11-09T19:35:49.517183Z",
     "iopub.status.busy": "2024-11-09T19:35:49.516847Z",
     "iopub.status.idle": "2024-11-09T19:35:49.614039Z",
     "shell.execute_reply": "2024-11-09T19:35:49.612996Z",
     "shell.execute_reply.started": "2024-11-09T19:35:49.517143Z"
    },
    "trusted": true
   },
   "outputs": [
    {
     "data": {
      "text/plain": [
       "<35736x38121 sparse matrix of type '<class 'numpy.float64'>'\n",
       "\twith 1764607 stored elements in Compressed Sparse Row format>"
      ]
     },
     "execution_count": 80,
     "metadata": {},
     "output_type": "execute_result"
    }
   ],
   "source": [
    "URM_all = sps.csr_matrix((URM_all_dataframe[\"data\"].values, \n",
    "                          (URM_all_dataframe[\"user_id\"].values, URM_all_dataframe[\"item_id\"].values)),\n",
    "                        shape = (n_users, n_items))\n",
    "\n",
    "URM_all"
   ]
  },
  {
   "cell_type": "code",
   "execution_count": 81,
   "metadata": {
    "execution": {
     "iopub.execute_input": "2024-11-09T19:35:49.615476Z",
     "iopub.status.busy": "2024-11-09T19:35:49.615128Z",
     "iopub.status.idle": "2024-11-09T19:35:49.700841Z",
     "shell.execute_reply": "2024-11-09T19:35:49.699829Z",
     "shell.execute_reply.started": "2024-11-09T19:35:49.615442Z"
    },
    "trusted": true
   },
   "outputs": [
    {
     "data": {
      "text/plain": [
       "<38121x94331 sparse matrix of type '<class 'numpy.float64'>'\n",
       "\twith 2940040 stored elements in Compressed Sparse Row format>"
      ]
     },
     "execution_count": 81,
     "metadata": {},
     "output_type": "execute_result"
    }
   ],
   "source": [
    "ICM_all = sps.csr_matrix((ICM_dataframe[\"data\"].values, \n",
    "                          (ICM_dataframe[\"item_id\"].values, ICM_dataframe[\"feature_id\"].values)),\n",
    "                        shape = (n_items, n_features))\n",
    "\n",
    "ICM_all"
   ]
  },
  {
   "cell_type": "markdown",
   "metadata": {},
   "source": [
    "# Training"
   ]
  },
  {
   "cell_type": "code",
   "execution_count": 82,
   "metadata": {
    "execution": {
     "iopub.execute_input": "2024-11-09T19:35:49.702631Z",
     "iopub.status.busy": "2024-11-09T19:35:49.702229Z",
     "iopub.status.idle": "2024-11-09T19:35:54.630146Z",
     "shell.execute_reply": "2024-11-09T19:35:54.629001Z",
     "shell.execute_reply.started": "2024-11-09T19:35:49.702585Z"
    },
    "trusted": true
   },
   "outputs": [
    {
     "name": "stdout",
     "output_type": "stream",
     "text": [
      "c:\\Users\\mauro\\Downloads\\Recommender System\\RecSys_Course_AT_PoliMi\\RecSys_Course_AT_PoliMi\\RecSys_Course_AT_PoliMi\n"
     ]
    },
    {
     "name": "stderr",
     "output_type": "stream",
     "text": [
      "Cloning into 'RecSys_Course_AT_PoliMi'...\n"
     ]
    }
   ],
   "source": [
    "!git clone https://github.com/recsyspolimi/RecSys_Course_AT_PoliMi.git\n",
    "%cd RecSys_Course_AT_PoliMi"
   ]
  },
  {
   "cell_type": "code",
   "execution_count": 83,
   "metadata": {
    "execution": {
     "iopub.execute_input": "2024-11-09T19:35:54.631925Z",
     "iopub.status.busy": "2024-11-09T19:35:54.631574Z",
     "iopub.status.idle": "2024-11-09T19:35:58.955067Z",
     "shell.execute_reply": "2024-11-09T19:35:58.954052Z",
     "shell.execute_reply.started": "2024-11-09T19:35:54.631892Z"
    },
    "trusted": true
   },
   "outputs": [
    {
     "name": "stdout",
     "output_type": "stream",
     "text": [
      "Warning: 177 (0.50 %) of 35736 users have no sampled items\n",
      "EvaluatorHoldout: Ignoring 177 ( 0.5%) Users that have less than 1 test interactions\n"
     ]
    }
   ],
   "source": [
    "from Evaluation.Evaluator import EvaluatorHoldout\n",
    "from Data_manager.split_functions.split_train_validation_random_holdout import split_train_in_two_percentage_global_sample\n",
    "\n",
    "URM_train, URM_validation = split_train_in_two_percentage_global_sample(URM_all, train_percentage = 0.80)\n",
    "\n",
    "evaluator_validation = EvaluatorHoldout(URM_validation, cutoff_list=[10])"
   ]
  },
  {
   "cell_type": "code",
   "execution_count": 84,
   "metadata": {
    "execution": {
     "iopub.execute_input": "2024-11-09T19:35:58.956586Z",
     "iopub.status.busy": "2024-11-09T19:35:58.956248Z",
     "iopub.status.idle": "2024-11-09T19:35:59.143694Z",
     "shell.execute_reply": "2024-11-09T19:35:59.142726Z",
     "shell.execute_reply.started": "2024-11-09T19:35:58.956541Z"
    },
    "trusted": true
   },
   "outputs": [],
   "source": [
    "import optuna\n",
    "import pandas as pd\n",
    "from Recommenders.KNN.ItemKNNCFRecommender import ItemKNNCFRecommender\n",
    "\n",
    "def objective_function_KNN_similarities(optuna_trial):\n",
    "    \n",
    "    recommender_instance = ItemKNNCFRecommender(URM_train)\n",
    "    similarity = optuna_trial.suggest_categorical(\"similarity\", ['cosine', 'dice', 'jaccard', 'asymmetric', 'tversky', 'euclidean'])\n",
    "    \n",
    "    full_hyperp = {\"similarity\": similarity,\n",
    "                   \"topK\": optuna_trial.suggest_int(\"topK\", 0, 1500),\n",
    "                   \"shrink\": optuna_trial.suggest_int(\"shrink\", 0, 1000),\n",
    "                  }\n",
    "    \n",
    "    if similarity == \"asymmetric\":\n",
    "        full_hyperp[\"asymmetric_alpha\"] = optuna_trial.suggest_float(\"asymmetric_alpha\", 0, 2, log=False)\n",
    "        full_hyperp[\"normalize\"] = True     \n",
    "\n",
    "    elif similarity == \"tversky\":\n",
    "        full_hyperp[\"tversky_alpha\"] = optuna_trial.suggest_float(\"tversky_alpha\", 0, 2, log=False)\n",
    "        full_hyperp[\"tversky_beta\"] = optuna_trial.suggest_float(\"tversky_beta\", 0, 2, log=False)\n",
    "        full_hyperp[\"normalize\"] = True \n",
    "\n",
    "    elif similarity == \"euclidean\":\n",
    "        full_hyperp[\"normalize_avg_row\"] = optuna_trial.suggest_categorical(\"normalize_avg_row\", [True, False])\n",
    "        full_hyperp[\"similarity_from_distance_mode\"] = optuna_trial.suggest_categorical(\"similarity_from_distance_mode\", [\"lin\", \"log\", \"exp\"])\n",
    "        full_hyperp[\"normalize\"] = optuna_trial.suggest_categorical(\"normalize\", [True, False])\n",
    "        \n",
    "    \n",
    "    recommender_instance.fit(**full_hyperp)\n",
    "    \n",
    "    result_df, _ = evaluator_validation.evaluateRecommender(recommender_instance)\n",
    "    \n",
    "    return result_df.loc[10][\"MAP\"]"
   ]
  },
  {
   "cell_type": "code",
   "execution_count": 85,
   "metadata": {
    "execution": {
     "iopub.execute_input": "2024-11-09T19:39:53.118526Z",
     "iopub.status.busy": "2024-11-09T19:39:53.118150Z",
     "iopub.status.idle": "2024-11-09T19:39:53.125021Z",
     "shell.execute_reply": "2024-11-09T19:39:53.124096Z",
     "shell.execute_reply.started": "2024-11-09T19:39:53.118489Z"
    },
    "trusted": true
   },
   "outputs": [],
   "source": [
    "class SaveResults(object):\n",
    "    \n",
    "    def __init__(self):\n",
    "        self.results_df = pd.DataFrame(columns=[\"result\"])\n",
    "    \n",
    "    def __call__(self, optuna_study, optuna_trial):\n",
    "        hyperparam_dict = optuna_trial.params.copy()\n",
    "        hyperparam_dict[\"result\"] = optuna_trial.values[0]\n",
    "        \n",
    "        new_row = pd.DataFrame([hyperparam_dict])\n",
    "        \n",
    "        if not new_row.empty:\n",
    "            self.results_df = pd.concat([self.results_df, new_row], ignore_index=True)"
   ]
  },
  {
   "cell_type": "code",
   "execution_count": 86,
   "metadata": {
    "execution": {
     "iopub.execute_input": "2024-11-09T19:35:59.152715Z",
     "iopub.status.busy": "2024-11-09T19:35:59.152408Z",
     "iopub.status.idle": "2024-11-09T19:39:36.984532Z",
     "shell.execute_reply": "2024-11-09T19:39:36.983070Z",
     "shell.execute_reply.started": "2024-11-09T19:35:59.152653Z"
    },
    "trusted": true
   },
   "outputs": [
    {
     "name": "stderr",
     "output_type": "stream",
     "text": [
      "[I 2024-11-10 19:03:42,358] A new study created in memory with name: no-name-a70169b4-9ec8-4046-a773-25dc0b59ae3f\n"
     ]
    },
    {
     "name": "stdout",
     "output_type": "stream",
     "text": [
      "Similarity column 38121 (100.0%), 3034.27 column/sec. Elapsed time 12.56 sec\n",
      "EvaluatorHoldout: Processed 35559 (100.0%) in 42.29 sec. Users per second: 841\n"
     ]
    },
    {
     "name": "stderr",
     "output_type": "stream",
     "text": [
      "[I 2024-11-10 19:04:37,645] Trial 0 finished with value: 0.03618247919732636 and parameters: {'similarity': 'jaccard', 'topK': 108, 'shrink': 889}. Best is trial 0 with value: 0.03618247919732636.\n",
      "C:\\Users\\mauro\\AppData\\Local\\Temp\\ipykernel_2768\\3560955234.py:13: FutureWarning: The behavior of DataFrame concatenation with empty or all-NA entries is deprecated. In a future version, this will no longer exclude empty or all-NA columns when determining the result dtypes. To retain the old behavior, exclude the relevant entries before the concat operation.\n",
      "  self.results_df = pd.concat([self.results_df, new_row], ignore_index=True)\n"
     ]
    },
    {
     "name": "stdout",
     "output_type": "stream",
     "text": [
      "Similarity column 38121 (100.0%), 3189.30 column/sec. Elapsed time 11.95 sec\n",
      "EvaluatorHoldout: Processed 35559 (100.0%) in 56.26 sec. Users per second: 632\n"
     ]
    },
    {
     "name": "stderr",
     "output_type": "stream",
     "text": [
      "[I 2024-11-10 19:05:47,861] Trial 1 finished with value: 0.031666938961715574 and parameters: {'similarity': 'jaccard', 'topK': 778, 'shrink': 846}. Best is trial 0 with value: 0.03618247919732636.\n"
     ]
    },
    {
     "name": "stdout",
     "output_type": "stream",
     "text": [
      "Similarity column 38121 (100.0%), 3273.31 column/sec. Elapsed time 11.65 sec\n",
      "EvaluatorHoldout: Processed 35559 (100.0%) in 1.04 min. Users per second: 571\n"
     ]
    },
    {
     "name": "stderr",
     "output_type": "stream",
     "text": [
      "[I 2024-11-10 19:07:05,155] Trial 2 finished with value: 0.0320988803763198 and parameters: {'similarity': 'tversky', 'topK': 1466, 'shrink': 515, 'tversky_alpha': 1.0113686774799142, 'tversky_beta': 0.362472596616771}. Best is trial 0 with value: 0.03618247919732636.\n"
     ]
    },
    {
     "name": "stdout",
     "output_type": "stream",
     "text": [
      "Similarity column 38121 (100.0%), 3224.39 column/sec. Elapsed time 11.82 sec\n",
      "EvaluatorHoldout: Processed 35559 (100.0%) in 46.77 sec. Users per second: 760\n"
     ]
    },
    {
     "name": "stderr",
     "output_type": "stream",
     "text": [
      "[I 2024-11-10 19:08:05,684] Trial 3 finished with value: 0.03718856811639088 and parameters: {'similarity': 'tversky', 'topK': 956, 'shrink': 246, 'tversky_alpha': 1.1975928916150314, 'tversky_beta': 0.7328826083937854}. Best is trial 3 with value: 0.03718856811639088.\n"
     ]
    },
    {
     "name": "stdout",
     "output_type": "stream",
     "text": [
      "Similarity column 38121 (100.0%), 3592.99 column/sec. Elapsed time 10.61 sec\n",
      "EvaluatorHoldout: Processed 35559 (100.0%) in 35.73 sec. Users per second: 995\n"
     ]
    },
    {
     "name": "stderr",
     "output_type": "stream",
     "text": [
      "[I 2024-11-10 19:08:52,507] Trial 4 finished with value: 0.03544687300381919 and parameters: {'similarity': 'asymmetric', 'topK': 270, 'shrink': 187, 'asymmetric_alpha': 0.30749688125763774}. Best is trial 3 with value: 0.03718856811639088.\n"
     ]
    },
    {
     "name": "stdout",
     "output_type": "stream",
     "text": [
      "Similarity column 38121 (100.0%), 3313.15 column/sec. Elapsed time 11.51 sec\n",
      "EvaluatorHoldout: Processed 35559 (100.0%) in 39.13 sec. Users per second: 909\n"
     ]
    },
    {
     "name": "stderr",
     "output_type": "stream",
     "text": [
      "[I 2024-11-10 19:09:43,906] Trial 5 finished with value: 0.03476388894468585 and parameters: {'similarity': 'tversky', 'topK': 357, 'shrink': 916, 'tversky_alpha': 1.8048533328280576, 'tversky_beta': 0.06981944669010698}. Best is trial 3 with value: 0.03718856811639088.\n"
     ]
    },
    {
     "name": "stdout",
     "output_type": "stream",
     "text": [
      "Similarity column 38121 (100.0%), 3521.70 column/sec. Elapsed time 10.82 sec\n",
      "EvaluatorHoldout: Processed 35559 (100.0%) in 58.06 sec. Users per second: 612\n"
     ]
    },
    {
     "name": "stderr",
     "output_type": "stream",
     "text": [
      "[I 2024-11-10 19:10:55,261] Trial 6 finished with value: 0.03281676060845804 and parameters: {'similarity': 'asymmetric', 'topK': 1291, 'shrink': 620, 'asymmetric_alpha': 1.3443301349452965}. Best is trial 3 with value: 0.03718856811639088.\n"
     ]
    },
    {
     "name": "stdout",
     "output_type": "stream",
     "text": [
      "Similarity column 38121 (100.0%), 332.01 column/sec. Elapsed time 1.91 min\n",
      "EvaluatorHoldout: Processed 35559 (100.0%) in 56.78 sec. Users per second: 626\n"
     ]
    },
    {
     "name": "stderr",
     "output_type": "stream",
     "text": [
      "[I 2024-11-10 19:13:49,528] Trial 7 finished with value: 0.014677197566128964 and parameters: {'similarity': 'euclidean', 'topK': 1326, 'shrink': 76, 'normalize_avg_row': True, 'similarity_from_distance_mode': 'lin', 'normalize': True}. Best is trial 3 with value: 0.03718856811639088.\n"
     ]
    },
    {
     "name": "stdout",
     "output_type": "stream",
     "text": [
      "Similarity column 38121 (100.0%), 3511.08 column/sec. Elapsed time 10.86 sec\n",
      "EvaluatorHoldout: Processed 35559 (100.0%) in 51.50 sec. Users per second: 690\n"
     ]
    },
    {
     "name": "stderr",
     "output_type": "stream",
     "text": [
      "[I 2024-11-10 19:14:52,918] Trial 8 finished with value: 0.033480365964546094 and parameters: {'similarity': 'asymmetric', 'topK': 632, 'shrink': 864, 'asymmetric_alpha': 1.7987645783920634}. Best is trial 3 with value: 0.03718856811639088.\n"
     ]
    },
    {
     "name": "stdout",
     "output_type": "stream",
     "text": [
      "Similarity column 38121 (100.0%), 3068.82 column/sec. Elapsed time 12.42 sec\n",
      "EvaluatorHoldout: Processed 35559 (100.0%) in 33.79 sec. Users per second: 1052\n"
     ]
    },
    {
     "name": "stderr",
     "output_type": "stream",
     "text": [
      "[I 2024-11-10 19:15:39,425] Trial 9 finished with value: 0.038444764502723223 and parameters: {'similarity': 'tversky', 'topK': 18, 'shrink': 879, 'tversky_alpha': 0.2805327624022278, 'tversky_beta': 1.2701936475905395}. Best is trial 9 with value: 0.038444764502723223.\n"
     ]
    },
    {
     "name": "stdout",
     "output_type": "stream",
     "text": [
      "Similarity column 38121 (100.0%), 3611.50 column/sec. Elapsed time 10.56 sec\n",
      "EvaluatorHoldout: Processed 35559 (100.0%) in 29.28 sec. Users per second: 1215\n"
     ]
    },
    {
     "name": "stderr",
     "output_type": "stream",
     "text": [
      "[I 2024-11-10 19:16:19,404] Trial 10 finished with value: 0.0380563869482273 and parameters: {'similarity': 'cosine', 'topK': 16, 'shrink': 667}. Best is trial 9 with value: 0.038444764502723223.\n"
     ]
    },
    {
     "name": "stdout",
     "output_type": "stream",
     "text": [
      "Similarity column 38121 (100.0%), 3528.60 column/sec. Elapsed time 10.80 sec\n",
      "EvaluatorHoldout: Processed 35559 (100.0%) in 28.07 sec. Users per second: 1267\n"
     ]
    },
    {
     "name": "stderr",
     "output_type": "stream",
     "text": [
      "[I 2024-11-10 19:16:58,419] Trial 11 finished with value: 0.03801388660116271 and parameters: {'similarity': 'cosine', 'topK': 16, 'shrink': 679}. Best is trial 9 with value: 0.038444764502723223.\n"
     ]
    },
    {
     "name": "stdout",
     "output_type": "stream",
     "text": [
      "Similarity column 38121 (100.0%), 3594.87 column/sec. Elapsed time 10.60 sec\n",
      "EvaluatorHoldout: Processed 35559 (100.0%) in 43.42 sec. Users per second: 819\n"
     ]
    },
    {
     "name": "stderr",
     "output_type": "stream",
     "text": [
      "[I 2024-11-10 19:17:53,182] Trial 12 finished with value: 0.03092828060852944 and parameters: {'similarity': 'cosine', 'topK': 422, 'shrink': 717}. Best is trial 9 with value: 0.038444764502723223.\n"
     ]
    },
    {
     "name": "stdout",
     "output_type": "stream",
     "text": [
      "Similarity column 38121 (100.0%), 3747.17 column/sec. Elapsed time 10.17 sec\n",
      "EvaluatorHoldout: Processed 35559 (100.0%) in 29.36 sec. Users per second: 1211\n"
     ]
    },
    {
     "name": "stderr",
     "output_type": "stream",
     "text": [
      "[I 2024-11-10 19:18:33,037] Trial 13 finished with value: 0.04221054143415435 and parameters: {'similarity': 'dice', 'topK': 17, 'shrink': 415}. Best is trial 13 with value: 0.04221054143415435.\n"
     ]
    },
    {
     "name": "stdout",
     "output_type": "stream",
     "text": [
      "Similarity column 38121 (100.0%), 3094.48 column/sec. Elapsed time 12.32 sec\n",
      "EvaluatorHoldout: Processed 35559 (100.0%) in 44.12 sec. Users per second: 806\n"
     ]
    },
    {
     "name": "stderr",
     "output_type": "stream",
     "text": [
      "[I 2024-11-10 19:19:30,556] Trial 14 finished with value: 0.035783360495879275 and parameters: {'similarity': 'dice', 'topK': 515, 'shrink': 369}. Best is trial 13 with value: 0.04221054143415435.\n"
     ]
    },
    {
     "name": "stdout",
     "output_type": "stream",
     "text": [
      "Similarity column 38121 (100.0%), 3651.16 column/sec. Elapsed time 10.44 sec\n",
      "EvaluatorHoldout: Processed 35559 (100.0%) in 34.98 sec. Users per second: 1017\n"
     ]
    },
    {
     "name": "stderr",
     "output_type": "stream",
     "text": [
      "[I 2024-11-10 19:20:16,515] Trial 15 finished with value: 0.037852493753951805 and parameters: {'similarity': 'dice', 'topK': 161, 'shrink': 442}. Best is trial 13 with value: 0.04221054143415435.\n"
     ]
    },
    {
     "name": "stdout",
     "output_type": "stream",
     "text": [
      "Similarity column 38121 (100.0%), 3602.22 column/sec. Elapsed time 10.58 sec\n",
      "EvaluatorHoldout: Processed 35559 (100.0%) in 46.47 sec. Users per second: 765\n"
     ]
    },
    {
     "name": "stderr",
     "output_type": "stream",
     "text": [
      "[I 2024-11-10 19:21:15,343] Trial 16 finished with value: 0.03504238317091502 and parameters: {'similarity': 'dice', 'topK': 906, 'shrink': 320}. Best is trial 13 with value: 0.04221054143415435.\n"
     ]
    },
    {
     "name": "stdout",
     "output_type": "stream",
     "text": [
      "Similarity column 38121 (100.0%), 534.40 column/sec. Elapsed time 1.19 min\n",
      "EvaluatorHoldout: Processed 35559 (100.0%) in 28.01 sec. Users per second: 1270\n"
     ]
    },
    {
     "name": "stderr",
     "output_type": "stream",
     "text": [
      "[I 2024-11-10 19:22:54,949] Trial 17 finished with value: 0.02628149862267783 and parameters: {'similarity': 'euclidean', 'topK': 219, 'shrink': 544, 'normalize_avg_row': False, 'similarity_from_distance_mode': 'log', 'normalize': False}. Best is trial 13 with value: 0.04221054143415435.\n"
     ]
    },
    {
     "name": "stdout",
     "output_type": "stream",
     "text": [
      "Similarity column 38121 (100.0%), 3635.02 column/sec. Elapsed time 10.49 sec\n",
      "EvaluatorHoldout: Processed 35559 (100.0%) in 42.67 sec. Users per second: 833\n"
     ]
    },
    {
     "name": "stderr",
     "output_type": "stream",
     "text": [
      "[I 2024-11-10 19:23:49,166] Trial 18 finished with value: 0.03288555974711283 and parameters: {'similarity': 'dice', 'topK': 547, 'shrink': 756}. Best is trial 13 with value: 0.04221054143415435.\n"
     ]
    },
    {
     "name": "stdout",
     "output_type": "stream",
     "text": [
      "Similarity column 38121 (100.0%), 3122.02 column/sec. Elapsed time 12.21 sec\n",
      "EvaluatorHoldout: Processed 35559 (100.0%) in 35.30 sec. Users per second: 1007\n"
     ]
    },
    {
     "name": "stderr",
     "output_type": "stream",
     "text": [
      "[I 2024-11-10 19:24:37,436] Trial 19 finished with value: 0.0357747039684091 and parameters: {'similarity': 'tversky', 'topK': 351, 'shrink': 85, 'tversky_alpha': 0.017187888332216794, 'tversky_beta': 1.7347908783596457}. Best is trial 13 with value: 0.04221054143415435.\n"
     ]
    },
    {
     "name": "stdout",
     "output_type": "stream",
     "text": [
      "Similarity column 38121 (100.0%), 3533.14 column/sec. Elapsed time 10.79 sec\n",
      "EvaluatorHoldout: Processed 35559 (100.0%) in 48.57 sec. Users per second: 732\n"
     ]
    },
    {
     "name": "stderr",
     "output_type": "stream",
     "text": [
      "[I 2024-11-10 19:25:38,693] Trial 20 finished with value: 0.03036330297466629 and parameters: {'similarity': 'dice', 'topK': 1051, 'shrink': 990}. Best is trial 13 with value: 0.04221054143415435.\n"
     ]
    },
    {
     "name": "stdout",
     "output_type": "stream",
     "text": [
      "Similarity column 38121 (100.0%), 3697.91 column/sec. Elapsed time 10.31 sec\n",
      "EvaluatorHoldout: Processed 35559 (100.0%) in 30.47 sec. Users per second: 1167\n"
     ]
    },
    {
     "name": "stderr",
     "output_type": "stream",
     "text": [
      "[I 2024-11-10 19:26:19,670] Trial 21 finished with value: 0.037045066393120156 and parameters: {'similarity': 'cosine', 'topK': 44, 'shrink': 607}. Best is trial 13 with value: 0.04221054143415435.\n"
     ]
    },
    {
     "name": "stdout",
     "output_type": "stream",
     "text": [
      "Similarity column 38121 (100.0%), 3668.96 column/sec. Elapsed time 10.39 sec\n",
      "EvaluatorHoldout: Processed 35559 (100.0%) in 29.30 sec. Users per second: 1213\n"
     ]
    },
    {
     "name": "stderr",
     "output_type": "stream",
     "text": [
      "[I 2024-11-10 19:26:59,569] Trial 22 finished with value: 0.03715445981348996 and parameters: {'similarity': 'cosine', 'topK': 30, 'shrink': 776}. Best is trial 13 with value: 0.04221054143415435.\n"
     ]
    },
    {
     "name": "stdout",
     "output_type": "stream",
     "text": [
      "Similarity column 38121 (100.0%), 3651.64 column/sec. Elapsed time 10.44 sec\n",
      "EvaluatorHoldout: Processed 35559 (100.0%) in 36.23 sec. Users per second: 981\n"
     ]
    },
    {
     "name": "stderr",
     "output_type": "stream",
     "text": [
      "[I 2024-11-10 19:27:46,609] Trial 23 finished with value: 0.03456204912291857 and parameters: {'similarity': 'cosine', 'topK': 187, 'shrink': 449}. Best is trial 13 with value: 0.04221054143415435.\n"
     ]
    },
    {
     "name": "stdout",
     "output_type": "stream",
     "text": [
      "Similarity column 38121 (100.0%), 3233.32 column/sec. Elapsed time 11.79 sec\n",
      "EvaluatorHoldout: Processed 35559 (100.0%) in 38.08 sec. Users per second: 934\n"
     ]
    },
    {
     "name": "stderr",
     "output_type": "stream",
     "text": [
      "[I 2024-11-10 19:28:37,109] Trial 24 finished with value: 0.03065006648909369 and parameters: {'similarity': 'tversky', 'topK': 274, 'shrink': 988, 'tversky_alpha': 0.026506333742532195, 'tversky_beta': 1.4988649521790331}. Best is trial 13 with value: 0.04221054143415435.\n"
     ]
    },
    {
     "name": "stdout",
     "output_type": "stream",
     "text": [
      "Similarity column 38121 (100.0%), 548.48 column/sec. Elapsed time 1.16 min\n",
      "EvaluatorHoldout: Processed 35559 (100.0%) in 30.84 sec. Users per second: 1153\n"
     ]
    },
    {
     "name": "stderr",
     "output_type": "stream",
     "text": [
      "[I 2024-11-10 19:30:17,661] Trial 25 finished with value: 0.024637501634885588 and parameters: {'similarity': 'euclidean', 'topK': 129, 'shrink': 636, 'normalize_avg_row': True, 'similarity_from_distance_mode': 'exp', 'normalize': True}. Best is trial 13 with value: 0.04221054143415435.\n"
     ]
    },
    {
     "name": "stdout",
     "output_type": "stream",
     "text": [
      "Similarity column 38121 (100.0%), 3270.61 column/sec. Elapsed time 11.66 sec\n",
      "EvaluatorHoldout: Processed 35559 (100.0%) in 41.06 sec. Users per second: 866\n"
     ]
    },
    {
     "name": "stderr",
     "output_type": "stream",
     "text": [
      "[I 2024-11-10 19:31:11,363] Trial 26 finished with value: 0.0346190023109357 and parameters: {'similarity': 'jaccard', 'topK': 459, 'shrink': 550}. Best is trial 13 with value: 0.04221054143415435.\n"
     ]
    },
    {
     "name": "stdout",
     "output_type": "stream",
     "text": [
      "Similarity column 38121 (100.0%), 3256.01 column/sec. Elapsed time 11.71 sec\n",
      "EvaluatorHoldout: Processed 35559 (100.0%) in 27.44 sec. Users per second: 1296\n"
     ]
    },
    {
     "name": "stderr",
     "output_type": "stream",
     "text": [
      "[I 2024-11-10 19:31:50,811] Trial 27 finished with value: 0.039360287418583474 and parameters: {'similarity': 'tversky', 'topK': 14, 'shrink': 779, 'tversky_alpha': 0.5373146415834493, 'tversky_beta': 1.1675418068191288}. Best is trial 13 with value: 0.04221054143415435.\n"
     ]
    },
    {
     "name": "stdout",
     "output_type": "stream",
     "text": [
      "Similarity column 38121 (100.0%), 3188.65 column/sec. Elapsed time 11.96 sec\n",
      "EvaluatorHoldout: Processed 35559 (100.0%) in 38.75 sec. Users per second: 918\n"
     ]
    },
    {
     "name": "stderr",
     "output_type": "stream",
     "text": [
      "[I 2024-11-10 19:32:42,246] Trial 28 finished with value: 0.03242754384954573 and parameters: {'similarity': 'tversky', 'topK': 313, 'shrink': 786, 'tversky_alpha': 0.47938157824966265, 'tversky_beta': 1.1213535460826312}. Best is trial 13 with value: 0.04221054143415435.\n"
     ]
    },
    {
     "name": "stdout",
     "output_type": "stream",
     "text": [
      "Similarity column 38121 (100.0%), 3270.25 column/sec. Elapsed time 11.66 sec\n",
      "EvaluatorHoldout: Processed 35559 (100.0%) in 32.71 sec. Users per second: 1087\n"
     ]
    },
    {
     "name": "stderr",
     "output_type": "stream",
     "text": [
      "[I 2024-11-10 19:33:27,004] Trial 29 finished with value: 0.03514354078198539 and parameters: {'similarity': 'tversky', 'topK': 100, 'shrink': 917, 'tversky_alpha': 0.5290810557564682, 'tversky_beta': 1.1799918101923113}. Best is trial 13 with value: 0.04221054143415435.\n"
     ]
    },
    {
     "name": "stdout",
     "output_type": "stream",
     "text": [
      "Similarity column 38121 (100.0%), 3188.68 column/sec. Elapsed time 11.96 sec\n",
      "EvaluatorHoldout: Processed 35559 (100.0%) in 43.44 sec. Users per second: 819\n"
     ]
    },
    {
     "name": "stderr",
     "output_type": "stream",
     "text": [
      "[I 2024-11-10 19:34:23,687] Trial 30 finished with value: 0.03297913550338981 and parameters: {'similarity': 'tversky', 'topK': 660, 'shrink': 425, 'tversky_alpha': 0.5568690818399755, 'tversky_beta': 1.4333168618026084}. Best is trial 13 with value: 0.04221054143415435.\n"
     ]
    },
    {
     "name": "stdout",
     "output_type": "stream",
     "text": [
      "Similarity column 38121 (100.0%), 3733.84 column/sec. Elapsed time 10.21 sec\n",
      "EvaluatorHoldout: Processed 35559 (100.0%) in 27.23 sec. Users per second: 1306\n"
     ]
    },
    {
     "name": "stderr",
     "output_type": "stream",
     "text": [
      "[I 2024-11-10 19:35:01,418] Trial 31 finished with value: 0.039187252842022735 and parameters: {'similarity': 'jaccard', 'topK': 5, 'shrink': 828}. Best is trial 13 with value: 0.04221054143415435.\n"
     ]
    },
    {
     "name": "stdout",
     "output_type": "stream",
     "text": [
      "Similarity column 38121 (100.0%), 3671.26 column/sec. Elapsed time 10.38 sec\n",
      "EvaluatorHoldout: Processed 35559 (100.0%) in 34.89 sec. Users per second: 1019\n"
     ]
    },
    {
     "name": "stderr",
     "output_type": "stream",
     "text": [
      "[I 2024-11-10 19:35:47,140] Trial 32 finished with value: 0.03611224604580586 and parameters: {'similarity': 'jaccard', 'topK': 121, 'shrink': 835}. Best is trial 13 with value: 0.04221054143415435.\n"
     ]
    },
    {
     "name": "stdout",
     "output_type": "stream",
     "text": [
      "Similarity column 38121 (100.0%), 4835.58 column/sec. Elapsed time 7.88 sec\n",
      "EvaluatorHoldout: Processed 35559 (100.0%) in 26.17 sec. Users per second: 1359\n"
     ]
    },
    {
     "name": "stderr",
     "output_type": "stream",
     "text": [
      "[I 2024-11-10 19:36:21,459] Trial 33 finished with value: 0.031401672248714485 and parameters: {'similarity': 'jaccard', 'topK': 1, 'shrink': 823}. Best is trial 13 with value: 0.04221054143415435.\n"
     ]
    },
    {
     "name": "stdout",
     "output_type": "stream",
     "text": [
      "Similarity column 38121 (100.0%), 3478.75 column/sec. Elapsed time 10.96 sec\n",
      "EvaluatorHoldout: Processed 35559 (100.0%) in 33.75 sec. Users per second: 1054\n"
     ]
    },
    {
     "name": "stderr",
     "output_type": "stream",
     "text": [
      "[I 2024-11-10 19:37:06,618] Trial 34 finished with value: 0.03577370518123776 and parameters: {'similarity': 'jaccard', 'topK': 122, 'shrink': 921}. Best is trial 13 with value: 0.04221054143415435.\n"
     ]
    },
    {
     "name": "stdout",
     "output_type": "stream",
     "text": [
      "Similarity column 38121 (100.0%), 3662.89 column/sec. Elapsed time 10.41 sec\n",
      "EvaluatorHoldout: Processed 35559 (100.0%) in 36.47 sec. Users per second: 975\n"
     ]
    },
    {
     "name": "stderr",
     "output_type": "stream",
     "text": [
      "[I 2024-11-10 19:37:54,022] Trial 35 finished with value: 0.039396299554907636 and parameters: {'similarity': 'jaccard', 'topK': 216, 'shrink': 258}. Best is trial 13 with value: 0.04221054143415435.\n"
     ]
    },
    {
     "name": "stdout",
     "output_type": "stream",
     "text": [
      "Similarity column 38121 (100.0%), 3662.95 column/sec. Elapsed time 10.41 sec\n",
      "EvaluatorHoldout: Processed 35559 (100.0%) in 35.23 sec. Users per second: 1009\n"
     ]
    },
    {
     "name": "stderr",
     "output_type": "stream",
     "text": [
      "[I 2024-11-10 19:38:40,243] Trial 36 finished with value: 0.040185937344461166 and parameters: {'similarity': 'jaccard', 'topK': 222, 'shrink': 210}. Best is trial 13 with value: 0.04221054143415435.\n"
     ]
    },
    {
     "name": "stdout",
     "output_type": "stream",
     "text": [
      "Similarity column 38121 (100.0%), 3633.85 column/sec. Elapsed time 10.49 sec\n",
      "EvaluatorHoldout: Processed 35559 (100.0%) in 35.95 sec. Users per second: 989\n"
     ]
    },
    {
     "name": "stderr",
     "output_type": "stream",
     "text": [
      "[I 2024-11-10 19:39:27,251] Trial 37 finished with value: 0.040147949953060855 and parameters: {'similarity': 'jaccard', 'topK': 238, 'shrink': 206}. Best is trial 13 with value: 0.04221054143415435.\n"
     ]
    },
    {
     "name": "stdout",
     "output_type": "stream",
     "text": [
      "Similarity column 38121 (100.0%), 3651.00 column/sec. Elapsed time 10.44 sec\n",
      "EvaluatorHoldout: Processed 35559 (100.0%) in 36.20 sec. Users per second: 982\n"
     ]
    },
    {
     "name": "stderr",
     "output_type": "stream",
     "text": [
      "[I 2024-11-10 19:40:14,455] Trial 38 finished with value: 0.040191841906385015 and parameters: {'similarity': 'jaccard', 'topK': 234, 'shrink': 203}. Best is trial 13 with value: 0.04221054143415435.\n"
     ]
    },
    {
     "name": "stdout",
     "output_type": "stream",
     "text": [
      "Similarity column 38121 (100.0%), 3600.33 column/sec. Elapsed time 10.59 sec\n",
      "EvaluatorHoldout: Processed 35559 (100.0%) in 38.23 sec. Users per second: 930\n"
     ]
    },
    {
     "name": "stderr",
     "output_type": "stream",
     "text": [
      "[I 2024-11-10 19:41:04,094] Trial 39 finished with value: 0.040060767550641835 and parameters: {'similarity': 'jaccard', 'topK': 396, 'shrink': 152}. Best is trial 13 with value: 0.04221054143415435.\n"
     ]
    },
    {
     "name": "stdout",
     "output_type": "stream",
     "text": [
      "Similarity column 38121 (100.0%), 3516.46 column/sec. Elapsed time 10.84 sec\n",
      "EvaluatorHoldout: Processed 35559 (100.0%) in 34.22 sec. Users per second: 1039\n"
     ]
    },
    {
     "name": "stderr",
     "output_type": "stream",
     "text": [
      "[I 2024-11-10 19:41:49,767] Trial 40 finished with value: 0.04399164790732171 and parameters: {'similarity': 'jaccard', 'topK': 272, 'shrink': 25}. Best is trial 40 with value: 0.04399164790732171.\n"
     ]
    },
    {
     "name": "stdout",
     "output_type": "stream",
     "text": [
      "Similarity column 38121 (100.0%), 3645.20 column/sec. Elapsed time 10.46 sec\n",
      "EvaluatorHoldout: Processed 35559 (100.0%) in 33.47 sec. Users per second: 1062\n"
     ]
    },
    {
     "name": "stderr",
     "output_type": "stream",
     "text": [
      "[I 2024-11-10 19:42:34,276] Trial 41 finished with value: 0.044327081930007714 and parameters: {'similarity': 'jaccard', 'topK': 231, 'shrink': 21}. Best is trial 41 with value: 0.044327081930007714.\n"
     ]
    },
    {
     "name": "stdout",
     "output_type": "stream",
     "text": [
      "Similarity column 38121 (100.0%), 3640.61 column/sec. Elapsed time 10.47 sec\n",
      "EvaluatorHoldout: Processed 35559 (100.0%) in 34.22 sec. Users per second: 1039\n"
     ]
    },
    {
     "name": "stderr",
     "output_type": "stream",
     "text": [
      "[I 2024-11-10 19:43:19,649] Trial 42 finished with value: 0.043937083996772174 and parameters: {'similarity': 'jaccard', 'topK': 302, 'shrink': 15}. Best is trial 41 with value: 0.044327081930007714.\n"
     ]
    },
    {
     "name": "stdout",
     "output_type": "stream",
     "text": [
      "Similarity column 38121 (100.0%), 3616.42 column/sec. Elapsed time 10.54 sec\n",
      "EvaluatorHoldout: Processed 35559 (100.0%) in 34.22 sec. Users per second: 1039\n"
     ]
    },
    {
     "name": "stderr",
     "output_type": "stream",
     "text": [
      "[I 2024-11-10 19:44:05,042] Trial 43 finished with value: 0.04391618981553887 and parameters: {'similarity': 'jaccard', 'topK': 295, 'shrink': 8}. Best is trial 41 with value: 0.044327081930007714.\n"
     ]
    },
    {
     "name": "stdout",
     "output_type": "stream",
     "text": [
      "Similarity column 38121 (100.0%), 3459.48 column/sec. Elapsed time 11.02 sec\n",
      "EvaluatorHoldout: Processed 35559 (100.0%) in 32.87 sec. Users per second: 1082\n"
     ]
    },
    {
     "name": "stderr",
     "output_type": "stream",
     "text": [
      "[I 2024-11-10 19:44:49,498] Trial 44 finished with value: 0.04085855075646533 and parameters: {'similarity': 'asymmetric', 'topK': 331, 'shrink': 2, 'asymmetric_alpha': 0.10118139983188645}. Best is trial 41 with value: 0.044327081930007714.\n"
     ]
    },
    {
     "name": "stdout",
     "output_type": "stream",
     "text": [
      "Similarity column 38121 (100.0%), 3101.48 column/sec. Elapsed time 12.29 sec\n",
      "EvaluatorHoldout: Processed 35559 (100.0%) in 38.05 sec. Users per second: 935\n"
     ]
    },
    {
     "name": "stderr",
     "output_type": "stream",
     "text": [
      "[I 2024-11-10 19:45:40,956] Trial 45 finished with value: 0.0433216592410449 and parameters: {'similarity': 'jaccard', 'topK': 472, 'shrink': 11}. Best is trial 41 with value: 0.044327081930007714.\n"
     ]
    },
    {
     "name": "stdout",
     "output_type": "stream",
     "text": [
      "Similarity column 38121 (100.0%), 3605.46 column/sec. Elapsed time 10.57 sec\n",
      "EvaluatorHoldout: Processed 35559 (100.0%) in 38.30 sec. Users per second: 928\n"
     ]
    },
    {
     "name": "stderr",
     "output_type": "stream",
     "text": [
      "[I 2024-11-10 19:46:30,887] Trial 46 finished with value: 0.043056814362178425 and parameters: {'similarity': 'jaccard', 'topK': 516, 'shrink': 6}. Best is trial 41 with value: 0.044327081930007714.\n"
     ]
    },
    {
     "name": "stdout",
     "output_type": "stream",
     "text": [
      "Similarity column 38121 (100.0%), 3588.58 column/sec. Elapsed time 10.62 sec\n",
      "EvaluatorHoldout: Processed 35559 (100.0%) in 43.11 sec. Users per second: 825\n"
     ]
    },
    {
     "name": "stderr",
     "output_type": "stream",
     "text": [
      "[I 2024-11-10 19:47:26,020] Trial 47 finished with value: 0.041129796800933274 and parameters: {'similarity': 'jaccard', 'topK': 679, 'shrink': 74}. Best is trial 41 with value: 0.044327081930007714.\n"
     ]
    },
    {
     "name": "stdout",
     "output_type": "stream",
     "text": [
      "Similarity column 38121 (100.0%), 3412.47 column/sec. Elapsed time 11.17 sec\n",
      "EvaluatorHoldout: Processed 35559 (100.0%) in 38.78 sec. Users per second: 917\n"
     ]
    },
    {
     "name": "stderr",
     "output_type": "stream",
     "text": [
      "[I 2024-11-10 19:48:16,870] Trial 48 finished with value: 0.040652519376469465 and parameters: {'similarity': 'jaccard', 'topK': 438, 'shrink': 121}. Best is trial 41 with value: 0.044327081930007714.\n"
     ]
    },
    {
     "name": "stdout",
     "output_type": "stream",
     "text": [
      "Similarity column 38121 (100.0%), 3468.34 column/sec. Elapsed time 10.99 sec\n",
      "EvaluatorHoldout: Processed 35559 (100.0%) in 36.51 sec. Users per second: 974\n"
     ]
    },
    {
     "name": "stderr",
     "output_type": "stream",
     "text": [
      "[I 2024-11-10 19:49:05,258] Trial 49 finished with value: 0.04312164290334188 and parameters: {'similarity': 'jaccard', 'topK': 378, 'shrink': 41}. Best is trial 41 with value: 0.044327081930007714.\n"
     ]
    },
    {
     "name": "stdout",
     "output_type": "stream",
     "text": [
      "\n",
      "\n",
      "Training loop of 50 trials took 45 minutes and 22 seconds.\n"
     ]
    }
   ],
   "source": [
    "# Start measuring time\n",
    "start_time = time.time()\n",
    "\n",
    "# Create study and optimize\n",
    "optuna_study = optuna.create_study(direction=\"maximize\")\n",
    "save_results = SaveResults()\n",
    "optuna_study.optimize(objective_function_KNN_similarities,\n",
    "                      callbacks=[save_results],\n",
    "                      n_trials=50)\n",
    "\n",
    "# Calculate elapsed time\n",
    "end_time = time.time()\n",
    "elapsed_time = end_time - start_time\n",
    "\n",
    "# Convert the time to minutes or hours\n",
    "hours = elapsed_time // 3600\n",
    "minutes = (elapsed_time % 3600) // 60\n",
    "seconds = elapsed_time % 60\n",
    "\n",
    "print('\\n')\n",
    "# Display the time in a more readable format\n",
    "if hours > 0:\n",
    "    print(f\"Training loop of 50 trials took {int(hours)} hours, {int(minutes)} minutes, and {int(seconds)} seconds.\")\n",
    "elif minutes > 0:\n",
    "    print(f\"Training loop of 50 trials took {int(minutes)} minutes and {int(seconds)} seconds.\")\n",
    "else:\n",
    "    print(f\"Training loop of 50 trials took {int(seconds)} seconds.\")"
   ]
  },
  {
   "cell_type": "code",
   "execution_count": 87,
   "metadata": {},
   "outputs": [
    {
     "name": "stdout",
     "output_type": "stream",
     "text": [
      "Study statistics: \n",
      "  Number of finished trials:  50\n",
      "  Number of pruned trials:  0\n",
      "  Number of complete trials:  50\n",
      "Best trial:\n",
      "  Value Validation:  0.044327081930007714\n"
     ]
    }
   ],
   "source": [
    "pruned_trials = [t for t in optuna_study.trials if t.state == optuna.trial.TrialState.PRUNED]\n",
    "complete_trials = [t for t in optuna_study.trials if t.state == optuna.trial.TrialState.COMPLETE]\n",
    "\n",
    "print(\"Study statistics: \")\n",
    "print(\"  Number of finished trials: \", len(optuna_study.trials))\n",
    "print(\"  Number of pruned trials: \", len(pruned_trials))\n",
    "print(\"  Number of complete trials: \", len(complete_trials))\n",
    "\n",
    "print(\"Best trial:\")\n",
    "print(\"  Value Validation: \", optuna_study.best_trial.value)"
   ]
  },
  {
   "cell_type": "code",
   "execution_count": 88,
   "metadata": {},
   "outputs": [
    {
     "data": {
      "text/plain": [
       "FrozenTrial(number=41, state=TrialState.COMPLETE, values=[0.044327081930007714], datetime_start=datetime.datetime(2024, 11, 10, 19, 41, 49, 770714), datetime_complete=datetime.datetime(2024, 11, 10, 19, 42, 34, 276324), params={'similarity': 'jaccard', 'topK': 231, 'shrink': 21}, user_attrs={}, system_attrs={}, intermediate_values={}, distributions={'similarity': CategoricalDistribution(choices=('cosine', 'dice', 'jaccard', 'asymmetric', 'tversky', 'euclidean')), 'topK': IntDistribution(high=1500, log=False, low=0, step=1), 'shrink': IntDistribution(high=1000, log=False, low=0, step=1)}, trial_id=41, value=None)"
      ]
     },
     "execution_count": 88,
     "metadata": {},
     "output_type": "execute_result"
    }
   ],
   "source": [
    "optuna_study.best_trial"
   ]
  },
  {
   "cell_type": "code",
   "execution_count": 89,
   "metadata": {},
   "outputs": [
    {
     "data": {
      "text/plain": [
       "{'similarity': 'jaccard', 'topK': 231, 'shrink': 21}"
      ]
     },
     "execution_count": 89,
     "metadata": {},
     "output_type": "execute_result"
    }
   ],
   "source": [
    "optuna_study.best_trial.params"
   ]
  },
  {
   "cell_type": "code",
   "execution_count": 90,
   "metadata": {},
   "outputs": [
    {
     "data": {
      "text/html": [
       "<div>\n",
       "<style scoped>\n",
       "    .dataframe tbody tr th:only-of-type {\n",
       "        vertical-align: middle;\n",
       "    }\n",
       "\n",
       "    .dataframe tbody tr th {\n",
       "        vertical-align: top;\n",
       "    }\n",
       "\n",
       "    .dataframe thead th {\n",
       "        text-align: right;\n",
       "    }\n",
       "</style>\n",
       "<table border=\"1\" class=\"dataframe\">\n",
       "  <thead>\n",
       "    <tr style=\"text-align: right;\">\n",
       "      <th></th>\n",
       "      <th>result</th>\n",
       "      <th>similarity</th>\n",
       "      <th>topK</th>\n",
       "      <th>shrink</th>\n",
       "      <th>tversky_alpha</th>\n",
       "      <th>tversky_beta</th>\n",
       "      <th>asymmetric_alpha</th>\n",
       "      <th>normalize_avg_row</th>\n",
       "      <th>similarity_from_distance_mode</th>\n",
       "      <th>normalize</th>\n",
       "    </tr>\n",
       "  </thead>\n",
       "  <tbody>\n",
       "    <tr>\n",
       "      <th>0</th>\n",
       "      <td>0.036182</td>\n",
       "      <td>jaccard</td>\n",
       "      <td>108.0</td>\n",
       "      <td>889.0</td>\n",
       "      <td>NaN</td>\n",
       "      <td>NaN</td>\n",
       "      <td>NaN</td>\n",
       "      <td>NaN</td>\n",
       "      <td>NaN</td>\n",
       "      <td>NaN</td>\n",
       "    </tr>\n",
       "    <tr>\n",
       "      <th>1</th>\n",
       "      <td>0.031667</td>\n",
       "      <td>jaccard</td>\n",
       "      <td>778.0</td>\n",
       "      <td>846.0</td>\n",
       "      <td>NaN</td>\n",
       "      <td>NaN</td>\n",
       "      <td>NaN</td>\n",
       "      <td>NaN</td>\n",
       "      <td>NaN</td>\n",
       "      <td>NaN</td>\n",
       "    </tr>\n",
       "    <tr>\n",
       "      <th>2</th>\n",
       "      <td>0.032099</td>\n",
       "      <td>tversky</td>\n",
       "      <td>1466.0</td>\n",
       "      <td>515.0</td>\n",
       "      <td>1.011369</td>\n",
       "      <td>0.362473</td>\n",
       "      <td>NaN</td>\n",
       "      <td>NaN</td>\n",
       "      <td>NaN</td>\n",
       "      <td>NaN</td>\n",
       "    </tr>\n",
       "    <tr>\n",
       "      <th>3</th>\n",
       "      <td>0.037189</td>\n",
       "      <td>tversky</td>\n",
       "      <td>956.0</td>\n",
       "      <td>246.0</td>\n",
       "      <td>1.197593</td>\n",
       "      <td>0.732883</td>\n",
       "      <td>NaN</td>\n",
       "      <td>NaN</td>\n",
       "      <td>NaN</td>\n",
       "      <td>NaN</td>\n",
       "    </tr>\n",
       "    <tr>\n",
       "      <th>4</th>\n",
       "      <td>0.035447</td>\n",
       "      <td>asymmetric</td>\n",
       "      <td>270.0</td>\n",
       "      <td>187.0</td>\n",
       "      <td>NaN</td>\n",
       "      <td>NaN</td>\n",
       "      <td>0.307497</td>\n",
       "      <td>NaN</td>\n",
       "      <td>NaN</td>\n",
       "      <td>NaN</td>\n",
       "    </tr>\n",
       "    <tr>\n",
       "      <th>5</th>\n",
       "      <td>0.034764</td>\n",
       "      <td>tversky</td>\n",
       "      <td>357.0</td>\n",
       "      <td>916.0</td>\n",
       "      <td>1.804853</td>\n",
       "      <td>0.069819</td>\n",
       "      <td>NaN</td>\n",
       "      <td>NaN</td>\n",
       "      <td>NaN</td>\n",
       "      <td>NaN</td>\n",
       "    </tr>\n",
       "    <tr>\n",
       "      <th>6</th>\n",
       "      <td>0.032817</td>\n",
       "      <td>asymmetric</td>\n",
       "      <td>1291.0</td>\n",
       "      <td>620.0</td>\n",
       "      <td>NaN</td>\n",
       "      <td>NaN</td>\n",
       "      <td>1.344330</td>\n",
       "      <td>NaN</td>\n",
       "      <td>NaN</td>\n",
       "      <td>NaN</td>\n",
       "    </tr>\n",
       "    <tr>\n",
       "      <th>7</th>\n",
       "      <td>0.014677</td>\n",
       "      <td>euclidean</td>\n",
       "      <td>1326.0</td>\n",
       "      <td>76.0</td>\n",
       "      <td>NaN</td>\n",
       "      <td>NaN</td>\n",
       "      <td>NaN</td>\n",
       "      <td>True</td>\n",
       "      <td>lin</td>\n",
       "      <td>True</td>\n",
       "    </tr>\n",
       "    <tr>\n",
       "      <th>8</th>\n",
       "      <td>0.033480</td>\n",
       "      <td>asymmetric</td>\n",
       "      <td>632.0</td>\n",
       "      <td>864.0</td>\n",
       "      <td>NaN</td>\n",
       "      <td>NaN</td>\n",
       "      <td>1.798765</td>\n",
       "      <td>NaN</td>\n",
       "      <td>NaN</td>\n",
       "      <td>NaN</td>\n",
       "    </tr>\n",
       "    <tr>\n",
       "      <th>9</th>\n",
       "      <td>0.038445</td>\n",
       "      <td>tversky</td>\n",
       "      <td>18.0</td>\n",
       "      <td>879.0</td>\n",
       "      <td>0.280533</td>\n",
       "      <td>1.270194</td>\n",
       "      <td>NaN</td>\n",
       "      <td>NaN</td>\n",
       "      <td>NaN</td>\n",
       "      <td>NaN</td>\n",
       "    </tr>\n",
       "    <tr>\n",
       "      <th>10</th>\n",
       "      <td>0.038056</td>\n",
       "      <td>cosine</td>\n",
       "      <td>16.0</td>\n",
       "      <td>667.0</td>\n",
       "      <td>NaN</td>\n",
       "      <td>NaN</td>\n",
       "      <td>NaN</td>\n",
       "      <td>NaN</td>\n",
       "      <td>NaN</td>\n",
       "      <td>NaN</td>\n",
       "    </tr>\n",
       "    <tr>\n",
       "      <th>11</th>\n",
       "      <td>0.038014</td>\n",
       "      <td>cosine</td>\n",
       "      <td>16.0</td>\n",
       "      <td>679.0</td>\n",
       "      <td>NaN</td>\n",
       "      <td>NaN</td>\n",
       "      <td>NaN</td>\n",
       "      <td>NaN</td>\n",
       "      <td>NaN</td>\n",
       "      <td>NaN</td>\n",
       "    </tr>\n",
       "    <tr>\n",
       "      <th>12</th>\n",
       "      <td>0.030928</td>\n",
       "      <td>cosine</td>\n",
       "      <td>422.0</td>\n",
       "      <td>717.0</td>\n",
       "      <td>NaN</td>\n",
       "      <td>NaN</td>\n",
       "      <td>NaN</td>\n",
       "      <td>NaN</td>\n",
       "      <td>NaN</td>\n",
       "      <td>NaN</td>\n",
       "    </tr>\n",
       "    <tr>\n",
       "      <th>13</th>\n",
       "      <td>0.042211</td>\n",
       "      <td>dice</td>\n",
       "      <td>17.0</td>\n",
       "      <td>415.0</td>\n",
       "      <td>NaN</td>\n",
       "      <td>NaN</td>\n",
       "      <td>NaN</td>\n",
       "      <td>NaN</td>\n",
       "      <td>NaN</td>\n",
       "      <td>NaN</td>\n",
       "    </tr>\n",
       "    <tr>\n",
       "      <th>14</th>\n",
       "      <td>0.035783</td>\n",
       "      <td>dice</td>\n",
       "      <td>515.0</td>\n",
       "      <td>369.0</td>\n",
       "      <td>NaN</td>\n",
       "      <td>NaN</td>\n",
       "      <td>NaN</td>\n",
       "      <td>NaN</td>\n",
       "      <td>NaN</td>\n",
       "      <td>NaN</td>\n",
       "    </tr>\n",
       "    <tr>\n",
       "      <th>15</th>\n",
       "      <td>0.037852</td>\n",
       "      <td>dice</td>\n",
       "      <td>161.0</td>\n",
       "      <td>442.0</td>\n",
       "      <td>NaN</td>\n",
       "      <td>NaN</td>\n",
       "      <td>NaN</td>\n",
       "      <td>NaN</td>\n",
       "      <td>NaN</td>\n",
       "      <td>NaN</td>\n",
       "    </tr>\n",
       "    <tr>\n",
       "      <th>16</th>\n",
       "      <td>0.035042</td>\n",
       "      <td>dice</td>\n",
       "      <td>906.0</td>\n",
       "      <td>320.0</td>\n",
       "      <td>NaN</td>\n",
       "      <td>NaN</td>\n",
       "      <td>NaN</td>\n",
       "      <td>NaN</td>\n",
       "      <td>NaN</td>\n",
       "      <td>NaN</td>\n",
       "    </tr>\n",
       "    <tr>\n",
       "      <th>17</th>\n",
       "      <td>0.026281</td>\n",
       "      <td>euclidean</td>\n",
       "      <td>219.0</td>\n",
       "      <td>544.0</td>\n",
       "      <td>NaN</td>\n",
       "      <td>NaN</td>\n",
       "      <td>NaN</td>\n",
       "      <td>False</td>\n",
       "      <td>log</td>\n",
       "      <td>False</td>\n",
       "    </tr>\n",
       "    <tr>\n",
       "      <th>18</th>\n",
       "      <td>0.032886</td>\n",
       "      <td>dice</td>\n",
       "      <td>547.0</td>\n",
       "      <td>756.0</td>\n",
       "      <td>NaN</td>\n",
       "      <td>NaN</td>\n",
       "      <td>NaN</td>\n",
       "      <td>NaN</td>\n",
       "      <td>NaN</td>\n",
       "      <td>NaN</td>\n",
       "    </tr>\n",
       "    <tr>\n",
       "      <th>19</th>\n",
       "      <td>0.035775</td>\n",
       "      <td>tversky</td>\n",
       "      <td>351.0</td>\n",
       "      <td>85.0</td>\n",
       "      <td>0.017188</td>\n",
       "      <td>1.734791</td>\n",
       "      <td>NaN</td>\n",
       "      <td>NaN</td>\n",
       "      <td>NaN</td>\n",
       "      <td>NaN</td>\n",
       "    </tr>\n",
       "    <tr>\n",
       "      <th>20</th>\n",
       "      <td>0.030363</td>\n",
       "      <td>dice</td>\n",
       "      <td>1051.0</td>\n",
       "      <td>990.0</td>\n",
       "      <td>NaN</td>\n",
       "      <td>NaN</td>\n",
       "      <td>NaN</td>\n",
       "      <td>NaN</td>\n",
       "      <td>NaN</td>\n",
       "      <td>NaN</td>\n",
       "    </tr>\n",
       "    <tr>\n",
       "      <th>21</th>\n",
       "      <td>0.037045</td>\n",
       "      <td>cosine</td>\n",
       "      <td>44.0</td>\n",
       "      <td>607.0</td>\n",
       "      <td>NaN</td>\n",
       "      <td>NaN</td>\n",
       "      <td>NaN</td>\n",
       "      <td>NaN</td>\n",
       "      <td>NaN</td>\n",
       "      <td>NaN</td>\n",
       "    </tr>\n",
       "    <tr>\n",
       "      <th>22</th>\n",
       "      <td>0.037154</td>\n",
       "      <td>cosine</td>\n",
       "      <td>30.0</td>\n",
       "      <td>776.0</td>\n",
       "      <td>NaN</td>\n",
       "      <td>NaN</td>\n",
       "      <td>NaN</td>\n",
       "      <td>NaN</td>\n",
       "      <td>NaN</td>\n",
       "      <td>NaN</td>\n",
       "    </tr>\n",
       "    <tr>\n",
       "      <th>23</th>\n",
       "      <td>0.034562</td>\n",
       "      <td>cosine</td>\n",
       "      <td>187.0</td>\n",
       "      <td>449.0</td>\n",
       "      <td>NaN</td>\n",
       "      <td>NaN</td>\n",
       "      <td>NaN</td>\n",
       "      <td>NaN</td>\n",
       "      <td>NaN</td>\n",
       "      <td>NaN</td>\n",
       "    </tr>\n",
       "    <tr>\n",
       "      <th>24</th>\n",
       "      <td>0.030650</td>\n",
       "      <td>tversky</td>\n",
       "      <td>274.0</td>\n",
       "      <td>988.0</td>\n",
       "      <td>0.026506</td>\n",
       "      <td>1.498865</td>\n",
       "      <td>NaN</td>\n",
       "      <td>NaN</td>\n",
       "      <td>NaN</td>\n",
       "      <td>NaN</td>\n",
       "    </tr>\n",
       "    <tr>\n",
       "      <th>25</th>\n",
       "      <td>0.024638</td>\n",
       "      <td>euclidean</td>\n",
       "      <td>129.0</td>\n",
       "      <td>636.0</td>\n",
       "      <td>NaN</td>\n",
       "      <td>NaN</td>\n",
       "      <td>NaN</td>\n",
       "      <td>True</td>\n",
       "      <td>exp</td>\n",
       "      <td>True</td>\n",
       "    </tr>\n",
       "    <tr>\n",
       "      <th>26</th>\n",
       "      <td>0.034619</td>\n",
       "      <td>jaccard</td>\n",
       "      <td>459.0</td>\n",
       "      <td>550.0</td>\n",
       "      <td>NaN</td>\n",
       "      <td>NaN</td>\n",
       "      <td>NaN</td>\n",
       "      <td>NaN</td>\n",
       "      <td>NaN</td>\n",
       "      <td>NaN</td>\n",
       "    </tr>\n",
       "    <tr>\n",
       "      <th>27</th>\n",
       "      <td>0.039360</td>\n",
       "      <td>tversky</td>\n",
       "      <td>14.0</td>\n",
       "      <td>779.0</td>\n",
       "      <td>0.537315</td>\n",
       "      <td>1.167542</td>\n",
       "      <td>NaN</td>\n",
       "      <td>NaN</td>\n",
       "      <td>NaN</td>\n",
       "      <td>NaN</td>\n",
       "    </tr>\n",
       "    <tr>\n",
       "      <th>28</th>\n",
       "      <td>0.032428</td>\n",
       "      <td>tversky</td>\n",
       "      <td>313.0</td>\n",
       "      <td>786.0</td>\n",
       "      <td>0.479382</td>\n",
       "      <td>1.121354</td>\n",
       "      <td>NaN</td>\n",
       "      <td>NaN</td>\n",
       "      <td>NaN</td>\n",
       "      <td>NaN</td>\n",
       "    </tr>\n",
       "    <tr>\n",
       "      <th>29</th>\n",
       "      <td>0.035144</td>\n",
       "      <td>tversky</td>\n",
       "      <td>100.0</td>\n",
       "      <td>917.0</td>\n",
       "      <td>0.529081</td>\n",
       "      <td>1.179992</td>\n",
       "      <td>NaN</td>\n",
       "      <td>NaN</td>\n",
       "      <td>NaN</td>\n",
       "      <td>NaN</td>\n",
       "    </tr>\n",
       "    <tr>\n",
       "      <th>30</th>\n",
       "      <td>0.032979</td>\n",
       "      <td>tversky</td>\n",
       "      <td>660.0</td>\n",
       "      <td>425.0</td>\n",
       "      <td>0.556869</td>\n",
       "      <td>1.433317</td>\n",
       "      <td>NaN</td>\n",
       "      <td>NaN</td>\n",
       "      <td>NaN</td>\n",
       "      <td>NaN</td>\n",
       "    </tr>\n",
       "    <tr>\n",
       "      <th>31</th>\n",
       "      <td>0.039187</td>\n",
       "      <td>jaccard</td>\n",
       "      <td>5.0</td>\n",
       "      <td>828.0</td>\n",
       "      <td>NaN</td>\n",
       "      <td>NaN</td>\n",
       "      <td>NaN</td>\n",
       "      <td>NaN</td>\n",
       "      <td>NaN</td>\n",
       "      <td>NaN</td>\n",
       "    </tr>\n",
       "    <tr>\n",
       "      <th>32</th>\n",
       "      <td>0.036112</td>\n",
       "      <td>jaccard</td>\n",
       "      <td>121.0</td>\n",
       "      <td>835.0</td>\n",
       "      <td>NaN</td>\n",
       "      <td>NaN</td>\n",
       "      <td>NaN</td>\n",
       "      <td>NaN</td>\n",
       "      <td>NaN</td>\n",
       "      <td>NaN</td>\n",
       "    </tr>\n",
       "    <tr>\n",
       "      <th>33</th>\n",
       "      <td>0.031402</td>\n",
       "      <td>jaccard</td>\n",
       "      <td>1.0</td>\n",
       "      <td>823.0</td>\n",
       "      <td>NaN</td>\n",
       "      <td>NaN</td>\n",
       "      <td>NaN</td>\n",
       "      <td>NaN</td>\n",
       "      <td>NaN</td>\n",
       "      <td>NaN</td>\n",
       "    </tr>\n",
       "    <tr>\n",
       "      <th>34</th>\n",
       "      <td>0.035774</td>\n",
       "      <td>jaccard</td>\n",
       "      <td>122.0</td>\n",
       "      <td>921.0</td>\n",
       "      <td>NaN</td>\n",
       "      <td>NaN</td>\n",
       "      <td>NaN</td>\n",
       "      <td>NaN</td>\n",
       "      <td>NaN</td>\n",
       "      <td>NaN</td>\n",
       "    </tr>\n",
       "    <tr>\n",
       "      <th>35</th>\n",
       "      <td>0.039396</td>\n",
       "      <td>jaccard</td>\n",
       "      <td>216.0</td>\n",
       "      <td>258.0</td>\n",
       "      <td>NaN</td>\n",
       "      <td>NaN</td>\n",
       "      <td>NaN</td>\n",
       "      <td>NaN</td>\n",
       "      <td>NaN</td>\n",
       "      <td>NaN</td>\n",
       "    </tr>\n",
       "    <tr>\n",
       "      <th>36</th>\n",
       "      <td>0.040186</td>\n",
       "      <td>jaccard</td>\n",
       "      <td>222.0</td>\n",
       "      <td>210.0</td>\n",
       "      <td>NaN</td>\n",
       "      <td>NaN</td>\n",
       "      <td>NaN</td>\n",
       "      <td>NaN</td>\n",
       "      <td>NaN</td>\n",
       "      <td>NaN</td>\n",
       "    </tr>\n",
       "    <tr>\n",
       "      <th>37</th>\n",
       "      <td>0.040148</td>\n",
       "      <td>jaccard</td>\n",
       "      <td>238.0</td>\n",
       "      <td>206.0</td>\n",
       "      <td>NaN</td>\n",
       "      <td>NaN</td>\n",
       "      <td>NaN</td>\n",
       "      <td>NaN</td>\n",
       "      <td>NaN</td>\n",
       "      <td>NaN</td>\n",
       "    </tr>\n",
       "    <tr>\n",
       "      <th>38</th>\n",
       "      <td>0.040192</td>\n",
       "      <td>jaccard</td>\n",
       "      <td>234.0</td>\n",
       "      <td>203.0</td>\n",
       "      <td>NaN</td>\n",
       "      <td>NaN</td>\n",
       "      <td>NaN</td>\n",
       "      <td>NaN</td>\n",
       "      <td>NaN</td>\n",
       "      <td>NaN</td>\n",
       "    </tr>\n",
       "    <tr>\n",
       "      <th>39</th>\n",
       "      <td>0.040061</td>\n",
       "      <td>jaccard</td>\n",
       "      <td>396.0</td>\n",
       "      <td>152.0</td>\n",
       "      <td>NaN</td>\n",
       "      <td>NaN</td>\n",
       "      <td>NaN</td>\n",
       "      <td>NaN</td>\n",
       "      <td>NaN</td>\n",
       "      <td>NaN</td>\n",
       "    </tr>\n",
       "    <tr>\n",
       "      <th>40</th>\n",
       "      <td>0.043992</td>\n",
       "      <td>jaccard</td>\n",
       "      <td>272.0</td>\n",
       "      <td>25.0</td>\n",
       "      <td>NaN</td>\n",
       "      <td>NaN</td>\n",
       "      <td>NaN</td>\n",
       "      <td>NaN</td>\n",
       "      <td>NaN</td>\n",
       "      <td>NaN</td>\n",
       "    </tr>\n",
       "    <tr>\n",
       "      <th>41</th>\n",
       "      <td>0.044327</td>\n",
       "      <td>jaccard</td>\n",
       "      <td>231.0</td>\n",
       "      <td>21.0</td>\n",
       "      <td>NaN</td>\n",
       "      <td>NaN</td>\n",
       "      <td>NaN</td>\n",
       "      <td>NaN</td>\n",
       "      <td>NaN</td>\n",
       "      <td>NaN</td>\n",
       "    </tr>\n",
       "    <tr>\n",
       "      <th>42</th>\n",
       "      <td>0.043937</td>\n",
       "      <td>jaccard</td>\n",
       "      <td>302.0</td>\n",
       "      <td>15.0</td>\n",
       "      <td>NaN</td>\n",
       "      <td>NaN</td>\n",
       "      <td>NaN</td>\n",
       "      <td>NaN</td>\n",
       "      <td>NaN</td>\n",
       "      <td>NaN</td>\n",
       "    </tr>\n",
       "    <tr>\n",
       "      <th>43</th>\n",
       "      <td>0.043916</td>\n",
       "      <td>jaccard</td>\n",
       "      <td>295.0</td>\n",
       "      <td>8.0</td>\n",
       "      <td>NaN</td>\n",
       "      <td>NaN</td>\n",
       "      <td>NaN</td>\n",
       "      <td>NaN</td>\n",
       "      <td>NaN</td>\n",
       "      <td>NaN</td>\n",
       "    </tr>\n",
       "    <tr>\n",
       "      <th>44</th>\n",
       "      <td>0.040859</td>\n",
       "      <td>asymmetric</td>\n",
       "      <td>331.0</td>\n",
       "      <td>2.0</td>\n",
       "      <td>NaN</td>\n",
       "      <td>NaN</td>\n",
       "      <td>0.101181</td>\n",
       "      <td>NaN</td>\n",
       "      <td>NaN</td>\n",
       "      <td>NaN</td>\n",
       "    </tr>\n",
       "    <tr>\n",
       "      <th>45</th>\n",
       "      <td>0.043322</td>\n",
       "      <td>jaccard</td>\n",
       "      <td>472.0</td>\n",
       "      <td>11.0</td>\n",
       "      <td>NaN</td>\n",
       "      <td>NaN</td>\n",
       "      <td>NaN</td>\n",
       "      <td>NaN</td>\n",
       "      <td>NaN</td>\n",
       "      <td>NaN</td>\n",
       "    </tr>\n",
       "    <tr>\n",
       "      <th>46</th>\n",
       "      <td>0.043057</td>\n",
       "      <td>jaccard</td>\n",
       "      <td>516.0</td>\n",
       "      <td>6.0</td>\n",
       "      <td>NaN</td>\n",
       "      <td>NaN</td>\n",
       "      <td>NaN</td>\n",
       "      <td>NaN</td>\n",
       "      <td>NaN</td>\n",
       "      <td>NaN</td>\n",
       "    </tr>\n",
       "    <tr>\n",
       "      <th>47</th>\n",
       "      <td>0.041130</td>\n",
       "      <td>jaccard</td>\n",
       "      <td>679.0</td>\n",
       "      <td>74.0</td>\n",
       "      <td>NaN</td>\n",
       "      <td>NaN</td>\n",
       "      <td>NaN</td>\n",
       "      <td>NaN</td>\n",
       "      <td>NaN</td>\n",
       "      <td>NaN</td>\n",
       "    </tr>\n",
       "    <tr>\n",
       "      <th>48</th>\n",
       "      <td>0.040653</td>\n",
       "      <td>jaccard</td>\n",
       "      <td>438.0</td>\n",
       "      <td>121.0</td>\n",
       "      <td>NaN</td>\n",
       "      <td>NaN</td>\n",
       "      <td>NaN</td>\n",
       "      <td>NaN</td>\n",
       "      <td>NaN</td>\n",
       "      <td>NaN</td>\n",
       "    </tr>\n",
       "    <tr>\n",
       "      <th>49</th>\n",
       "      <td>0.043122</td>\n",
       "      <td>jaccard</td>\n",
       "      <td>378.0</td>\n",
       "      <td>41.0</td>\n",
       "      <td>NaN</td>\n",
       "      <td>NaN</td>\n",
       "      <td>NaN</td>\n",
       "      <td>NaN</td>\n",
       "      <td>NaN</td>\n",
       "      <td>NaN</td>\n",
       "    </tr>\n",
       "  </tbody>\n",
       "</table>\n",
       "</div>"
      ],
      "text/plain": [
       "      result  similarity    topK  shrink  tversky_alpha  tversky_beta  \\\n",
       "0   0.036182     jaccard   108.0   889.0            NaN           NaN   \n",
       "1   0.031667     jaccard   778.0   846.0            NaN           NaN   \n",
       "2   0.032099     tversky  1466.0   515.0       1.011369      0.362473   \n",
       "3   0.037189     tversky   956.0   246.0       1.197593      0.732883   \n",
       "4   0.035447  asymmetric   270.0   187.0            NaN           NaN   \n",
       "5   0.034764     tversky   357.0   916.0       1.804853      0.069819   \n",
       "6   0.032817  asymmetric  1291.0   620.0            NaN           NaN   \n",
       "7   0.014677   euclidean  1326.0    76.0            NaN           NaN   \n",
       "8   0.033480  asymmetric   632.0   864.0            NaN           NaN   \n",
       "9   0.038445     tversky    18.0   879.0       0.280533      1.270194   \n",
       "10  0.038056      cosine    16.0   667.0            NaN           NaN   \n",
       "11  0.038014      cosine    16.0   679.0            NaN           NaN   \n",
       "12  0.030928      cosine   422.0   717.0            NaN           NaN   \n",
       "13  0.042211        dice    17.0   415.0            NaN           NaN   \n",
       "14  0.035783        dice   515.0   369.0            NaN           NaN   \n",
       "15  0.037852        dice   161.0   442.0            NaN           NaN   \n",
       "16  0.035042        dice   906.0   320.0            NaN           NaN   \n",
       "17  0.026281   euclidean   219.0   544.0            NaN           NaN   \n",
       "18  0.032886        dice   547.0   756.0            NaN           NaN   \n",
       "19  0.035775     tversky   351.0    85.0       0.017188      1.734791   \n",
       "20  0.030363        dice  1051.0   990.0            NaN           NaN   \n",
       "21  0.037045      cosine    44.0   607.0            NaN           NaN   \n",
       "22  0.037154      cosine    30.0   776.0            NaN           NaN   \n",
       "23  0.034562      cosine   187.0   449.0            NaN           NaN   \n",
       "24  0.030650     tversky   274.0   988.0       0.026506      1.498865   \n",
       "25  0.024638   euclidean   129.0   636.0            NaN           NaN   \n",
       "26  0.034619     jaccard   459.0   550.0            NaN           NaN   \n",
       "27  0.039360     tversky    14.0   779.0       0.537315      1.167542   \n",
       "28  0.032428     tversky   313.0   786.0       0.479382      1.121354   \n",
       "29  0.035144     tversky   100.0   917.0       0.529081      1.179992   \n",
       "30  0.032979     tversky   660.0   425.0       0.556869      1.433317   \n",
       "31  0.039187     jaccard     5.0   828.0            NaN           NaN   \n",
       "32  0.036112     jaccard   121.0   835.0            NaN           NaN   \n",
       "33  0.031402     jaccard     1.0   823.0            NaN           NaN   \n",
       "34  0.035774     jaccard   122.0   921.0            NaN           NaN   \n",
       "35  0.039396     jaccard   216.0   258.0            NaN           NaN   \n",
       "36  0.040186     jaccard   222.0   210.0            NaN           NaN   \n",
       "37  0.040148     jaccard   238.0   206.0            NaN           NaN   \n",
       "38  0.040192     jaccard   234.0   203.0            NaN           NaN   \n",
       "39  0.040061     jaccard   396.0   152.0            NaN           NaN   \n",
       "40  0.043992     jaccard   272.0    25.0            NaN           NaN   \n",
       "41  0.044327     jaccard   231.0    21.0            NaN           NaN   \n",
       "42  0.043937     jaccard   302.0    15.0            NaN           NaN   \n",
       "43  0.043916     jaccard   295.0     8.0            NaN           NaN   \n",
       "44  0.040859  asymmetric   331.0     2.0            NaN           NaN   \n",
       "45  0.043322     jaccard   472.0    11.0            NaN           NaN   \n",
       "46  0.043057     jaccard   516.0     6.0            NaN           NaN   \n",
       "47  0.041130     jaccard   679.0    74.0            NaN           NaN   \n",
       "48  0.040653     jaccard   438.0   121.0            NaN           NaN   \n",
       "49  0.043122     jaccard   378.0    41.0            NaN           NaN   \n",
       "\n",
       "    asymmetric_alpha normalize_avg_row similarity_from_distance_mode normalize  \n",
       "0                NaN               NaN                           NaN       NaN  \n",
       "1                NaN               NaN                           NaN       NaN  \n",
       "2                NaN               NaN                           NaN       NaN  \n",
       "3                NaN               NaN                           NaN       NaN  \n",
       "4           0.307497               NaN                           NaN       NaN  \n",
       "5                NaN               NaN                           NaN       NaN  \n",
       "6           1.344330               NaN                           NaN       NaN  \n",
       "7                NaN              True                           lin      True  \n",
       "8           1.798765               NaN                           NaN       NaN  \n",
       "9                NaN               NaN                           NaN       NaN  \n",
       "10               NaN               NaN                           NaN       NaN  \n",
       "11               NaN               NaN                           NaN       NaN  \n",
       "12               NaN               NaN                           NaN       NaN  \n",
       "13               NaN               NaN                           NaN       NaN  \n",
       "14               NaN               NaN                           NaN       NaN  \n",
       "15               NaN               NaN                           NaN       NaN  \n",
       "16               NaN               NaN                           NaN       NaN  \n",
       "17               NaN             False                           log     False  \n",
       "18               NaN               NaN                           NaN       NaN  \n",
       "19               NaN               NaN                           NaN       NaN  \n",
       "20               NaN               NaN                           NaN       NaN  \n",
       "21               NaN               NaN                           NaN       NaN  \n",
       "22               NaN               NaN                           NaN       NaN  \n",
       "23               NaN               NaN                           NaN       NaN  \n",
       "24               NaN               NaN                           NaN       NaN  \n",
       "25               NaN              True                           exp      True  \n",
       "26               NaN               NaN                           NaN       NaN  \n",
       "27               NaN               NaN                           NaN       NaN  \n",
       "28               NaN               NaN                           NaN       NaN  \n",
       "29               NaN               NaN                           NaN       NaN  \n",
       "30               NaN               NaN                           NaN       NaN  \n",
       "31               NaN               NaN                           NaN       NaN  \n",
       "32               NaN               NaN                           NaN       NaN  \n",
       "33               NaN               NaN                           NaN       NaN  \n",
       "34               NaN               NaN                           NaN       NaN  \n",
       "35               NaN               NaN                           NaN       NaN  \n",
       "36               NaN               NaN                           NaN       NaN  \n",
       "37               NaN               NaN                           NaN       NaN  \n",
       "38               NaN               NaN                           NaN       NaN  \n",
       "39               NaN               NaN                           NaN       NaN  \n",
       "40               NaN               NaN                           NaN       NaN  \n",
       "41               NaN               NaN                           NaN       NaN  \n",
       "42               NaN               NaN                           NaN       NaN  \n",
       "43               NaN               NaN                           NaN       NaN  \n",
       "44          0.101181               NaN                           NaN       NaN  \n",
       "45               NaN               NaN                           NaN       NaN  \n",
       "46               NaN               NaN                           NaN       NaN  \n",
       "47               NaN               NaN                           NaN       NaN  \n",
       "48               NaN               NaN                           NaN       NaN  \n",
       "49               NaN               NaN                           NaN       NaN  "
      ]
     },
     "execution_count": 90,
     "metadata": {},
     "output_type": "execute_result"
    }
   ],
   "source": [
    "save_results.results_df"
   ]
  },
  {
   "cell_type": "code",
   "execution_count": 91,
   "metadata": {},
   "outputs": [
    {
     "name": "stdout",
     "output_type": "stream",
     "text": [
      "Similarity column 38121 (100.0%), 3220.71 column/sec. Elapsed time 11.84 sec\n"
     ]
    }
   ],
   "source": [
    "recommender_instance = ItemKNNCFRecommender(URM_train + URM_validation)\n",
    "recommender_instance.fit(**optuna_study.best_trial.params)"
   ]
  },
  {
   "cell_type": "markdown",
   "metadata": {},
   "source": [
    "# Testing"
   ]
  },
  {
   "cell_type": "code",
   "execution_count": 92,
   "metadata": {},
   "outputs": [
    {
     "data": {
      "text/html": [
       "<div>\n",
       "<style scoped>\n",
       "    .dataframe tbody tr th:only-of-type {\n",
       "        vertical-align: middle;\n",
       "    }\n",
       "\n",
       "    .dataframe tbody tr th {\n",
       "        vertical-align: top;\n",
       "    }\n",
       "\n",
       "    .dataframe thead th {\n",
       "        text-align: right;\n",
       "    }\n",
       "</style>\n",
       "<table border=\"1\" class=\"dataframe\">\n",
       "  <thead>\n",
       "    <tr style=\"text-align: right;\">\n",
       "      <th></th>\n",
       "      <th>user_id</th>\n",
       "    </tr>\n",
       "  </thead>\n",
       "  <tbody>\n",
       "    <tr>\n",
       "      <th>0</th>\n",
       "      <td>0</td>\n",
       "    </tr>\n",
       "    <tr>\n",
       "      <th>1</th>\n",
       "      <td>1</td>\n",
       "    </tr>\n",
       "    <tr>\n",
       "      <th>2</th>\n",
       "      <td>2</td>\n",
       "    </tr>\n",
       "    <tr>\n",
       "      <th>3</th>\n",
       "      <td>3</td>\n",
       "    </tr>\n",
       "    <tr>\n",
       "      <th>4</th>\n",
       "      <td>4</td>\n",
       "    </tr>\n",
       "    <tr>\n",
       "      <th>5</th>\n",
       "      <td>5</td>\n",
       "    </tr>\n",
       "    <tr>\n",
       "      <th>6</th>\n",
       "      <td>6</td>\n",
       "    </tr>\n",
       "    <tr>\n",
       "      <th>7</th>\n",
       "      <td>7</td>\n",
       "    </tr>\n",
       "    <tr>\n",
       "      <th>8</th>\n",
       "      <td>8</td>\n",
       "    </tr>\n",
       "    <tr>\n",
       "      <th>9</th>\n",
       "      <td>9</td>\n",
       "    </tr>\n",
       "  </tbody>\n",
       "</table>\n",
       "</div>"
      ],
      "text/plain": [
       "   user_id\n",
       "0        0\n",
       "1        1\n",
       "2        2\n",
       "3        3\n",
       "4        4\n",
       "5        5\n",
       "6        6\n",
       "7        7\n",
       "8        8\n",
       "9        9"
      ]
     },
     "execution_count": 92,
     "metadata": {},
     "output_type": "execute_result"
    }
   ],
   "source": [
    "data_target_users_test = pd.read_csv(\"C:/Users/mauro/Downloads/Recommender System/Input/data_target_users_test.csv\")\n",
    "data_target_users_test.head(10)"
   ]
  },
  {
   "cell_type": "code",
   "execution_count": null,
   "metadata": {},
   "outputs": [],
   "source": [
    "target_result = []\n",
    "for target in data_target_users_test[\"user_id\"]:\n",
    "    target_result.append(recommender_instance.recommend(target, cutoff = 10, remove_seen_flag=True))"
   ]
  },
  {
   "cell_type": "code",
   "execution_count": null,
   "metadata": {},
   "outputs": [],
   "source": [
    "user_ids = data_target_users_test[\"user_id\"]\n",
    "\n",
    "# Convert `target_result` to the required format for each user\n",
    "formatted_data = {\n",
    "    \"user_id\": user_ids,\n",
    "    \"item_list\": [\" \".join(map(str, items)) for items in target_result]\n",
    "}\n",
    "\n",
    "# Create the DataFrame\n",
    "submission_df = pd.DataFrame(formatted_data)\n",
    "\n",
    "submission_df.to_csv(\"C:/Users/mauro/Downloads/Recommender System/Submissions/submission_optuna_ItemKNNCFRecommender.csv\", index=False, header=[\"user_id\", \"item_list\"])"
   ]
  }
 ],
 "metadata": {
  "kaggle": {
   "accelerator": "none",
   "dataSources": [
    {
     "databundleVersionId": 9982103,
     "sourceId": 87439,
     "sourceType": "competition"
    }
   ],
   "dockerImageVersionId": 30786,
   "isGpuEnabled": false,
   "isInternetEnabled": true,
   "language": "python",
   "sourceType": "notebook"
  },
  "kernelspec": {
   "display_name": "Python 3",
   "language": "python",
   "name": "python3"
  },
  "language_info": {
   "codemirror_mode": {
    "name": "ipython",
    "version": 3
   },
   "file_extension": ".py",
   "mimetype": "text/x-python",
   "name": "python",
   "nbconvert_exporter": "python",
   "pygments_lexer": "ipython3",
   "version": "3.10.11"
  }
 },
 "nbformat": 4,
 "nbformat_minor": 4
}
