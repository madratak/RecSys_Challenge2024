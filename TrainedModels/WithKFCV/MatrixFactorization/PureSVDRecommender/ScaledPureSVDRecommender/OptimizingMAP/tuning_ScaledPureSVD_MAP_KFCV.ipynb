{
 "cells": [
  {
   "cell_type": "markdown",
   "id": "540345c8",
   "metadata": {
    "papermill": {
     "duration": 0.005728,
     "end_time": "2025-01-06T22:41:48.702150",
     "exception": false,
     "start_time": "2025-01-06T22:41:48.696422",
     "status": "completed"
    },
    "tags": []
   },
   "source": [
    "# Set connection with GitHub"
   ]
  },
  {
   "cell_type": "code",
   "execution_count": 1,
   "id": "811cf0fb",
   "metadata": {
    "_cell_guid": "b1076dfc-b9ad-4769-8c92-a6c4dae69d19",
    "_uuid": "8f2839f25d086af736a60e9eeb907d3b93b6e0e5",
    "execution": {
     "iopub.execute_input": "2025-01-06T22:41:48.713057Z",
     "iopub.status.busy": "2025-01-06T22:41:48.712723Z",
     "iopub.status.idle": "2025-01-06T22:41:48.719817Z",
     "shell.execute_reply": "2025-01-06T22:41:48.718858Z"
    },
    "papermill": {
     "duration": 0.01441,
     "end_time": "2025-01-06T22:41:48.721486",
     "exception": false,
     "start_time": "2025-01-06T22:41:48.707076",
     "status": "completed"
    },
    "tags": []
   },
   "outputs": [],
   "source": [
    "# ! cd /kaggle/working && rm -rf RECsys_Challenge2024"
   ]
  },
  {
   "cell_type": "code",
   "execution_count": 2,
   "id": "14638d1e",
   "metadata": {
    "execution": {
     "iopub.execute_input": "2025-01-06T22:41:48.732681Z",
     "iopub.status.busy": "2025-01-06T22:41:48.732301Z",
     "iopub.status.idle": "2025-01-06T22:42:11.932510Z",
     "shell.execute_reply": "2025-01-06T22:42:11.931138Z"
    },
    "papermill": {
     "duration": 23.207841,
     "end_time": "2025-01-06T22:42:11.934482",
     "exception": false,
     "start_time": "2025-01-06T22:41:48.726641",
     "status": "completed"
    },
    "tags": []
   },
   "outputs": [
    {
     "name": "stdout",
     "output_type": "stream",
     "text": [
      "Cloning into 'RECsys_Challenge2024'...\r\n",
      "remote: Enumerating objects: 7035, done.\u001b[K\r\n",
      "remote: Counting objects: 100% (213/213), done.\u001b[K\r\n",
      "remote: Compressing objects: 100% (186/186), done.\u001b[K\r\n",
      "remote: Total 7035 (delta 84), reused 7 (delta 2), pack-reused 6822 (from 3)\u001b[K\r\n",
      "Receiving objects: 100% (7035/7035), 414.90 MiB | 23.43 MiB/s, done.\r\n",
      "Resolving deltas: 100% (3815/3815), done.\r\n",
      "Updating files: 100% (506/506), done.\r\n"
     ]
    }
   ],
   "source": [
    "from kaggle_secrets import UserSecretsClient\n",
    "\n",
    "token = UserSecretsClient().get_secret(\"Token\")\n",
    "\n",
    "! git clone https://{token}@github.com/madratak/RECsys_Challenge2024.git"
   ]
  },
  {
   "cell_type": "code",
   "execution_count": 3,
   "id": "400e4ee3",
   "metadata": {
    "execution": {
     "iopub.execute_input": "2025-01-06T22:42:11.957004Z",
     "iopub.status.busy": "2025-01-06T22:42:11.956590Z",
     "iopub.status.idle": "2025-01-06T22:42:19.275436Z",
     "shell.execute_reply": "2025-01-06T22:42:19.274138Z"
    },
    "papermill": {
     "duration": 7.332189,
     "end_time": "2025-01-06T22:42:19.277485",
     "exception": false,
     "start_time": "2025-01-06T22:42:11.945296",
     "status": "completed"
    },
    "tags": []
   },
   "outputs": [
    {
     "name": "stdout",
     "output_type": "stream",
     "text": [
      "Collecting PyGithub\r\n",
      "  Downloading PyGithub-2.5.0-py3-none-any.whl.metadata (3.9 kB)\r\n",
      "Requirement already satisfied: requests in /usr/local/lib/python3.10/dist-packages (2.32.3)\r\n",
      "Collecting pynacl>=1.4.0 (from PyGithub)\r\n",
      "  Downloading PyNaCl-1.5.0-cp36-abi3-manylinux_2_17_x86_64.manylinux2014_x86_64.manylinux_2_24_x86_64.whl.metadata (8.6 kB)\r\n",
      "Requirement already satisfied: pyjwt>=2.4.0 in /usr/local/lib/python3.10/dist-packages (from pyjwt[crypto]>=2.4.0->PyGithub) (2.9.0)\r\n",
      "Requirement already satisfied: typing-extensions>=4.0.0 in /usr/local/lib/python3.10/dist-packages (from PyGithub) (4.12.2)\r\n",
      "Requirement already satisfied: urllib3>=1.26.0 in /usr/local/lib/python3.10/dist-packages (from PyGithub) (2.2.3)\r\n",
      "Requirement already satisfied: Deprecated in /usr/local/lib/python3.10/dist-packages (from PyGithub) (1.2.15)\r\n",
      "Requirement already satisfied: charset-normalizer<4,>=2 in /usr/local/lib/python3.10/dist-packages (from requests) (3.3.2)\r\n",
      "Requirement already satisfied: idna<4,>=2.5 in /usr/local/lib/python3.10/dist-packages (from requests) (3.10)\r\n",
      "Requirement already satisfied: certifi>=2017.4.17 in /usr/local/lib/python3.10/dist-packages (from requests) (2024.8.30)\r\n",
      "Requirement already satisfied: cryptography>=3.4.0 in /usr/local/lib/python3.10/dist-packages (from pyjwt[crypto]>=2.4.0->PyGithub) (43.0.1)\r\n",
      "Requirement already satisfied: cffi>=1.4.1 in /usr/local/lib/python3.10/dist-packages (from pynacl>=1.4.0->PyGithub) (1.17.1)\r\n",
      "Requirement already satisfied: wrapt<2,>=1.10 in /usr/local/lib/python3.10/dist-packages (from Deprecated->PyGithub) (1.16.0)\r\n",
      "Requirement already satisfied: pycparser in /usr/local/lib/python3.10/dist-packages (from cffi>=1.4.1->pynacl>=1.4.0->PyGithub) (2.22)\r\n",
      "Downloading PyGithub-2.5.0-py3-none-any.whl (375 kB)\r\n",
      "\u001b[2K   \u001b[90m━━━━━━━━━━━━━━━━━━━━━━━━━━━━━━━━━━━━━━━━\u001b[0m \u001b[32m375.9/375.9 kB\u001b[0m \u001b[31m6.2 MB/s\u001b[0m eta \u001b[36m0:00:00\u001b[0m\r\n",
      "\u001b[?25hDownloading PyNaCl-1.5.0-cp36-abi3-manylinux_2_17_x86_64.manylinux2014_x86_64.manylinux_2_24_x86_64.whl (856 kB)\r\n",
      "\u001b[2K   \u001b[90m━━━━━━━━━━━━━━━━━━━━━━━━━━━━━━━━━━━━━━━━\u001b[0m \u001b[32m856.7/856.7 kB\u001b[0m \u001b[31m26.0 MB/s\u001b[0m eta \u001b[36m0:00:00\u001b[0m\r\n",
      "\u001b[?25hInstalling collected packages: pynacl, PyGithub\r\n",
      "Successfully installed PyGithub-2.5.0 pynacl-1.5.0\r\n"
     ]
    }
   ],
   "source": [
    "! pip install PyGithub requests"
   ]
  },
  {
   "cell_type": "code",
   "execution_count": 4,
   "id": "99116db8",
   "metadata": {
    "execution": {
     "iopub.execute_input": "2025-01-06T22:42:19.301577Z",
     "iopub.status.busy": "2025-01-06T22:42:19.301224Z",
     "iopub.status.idle": "2025-01-06T22:44:57.102148Z",
     "shell.execute_reply": "2025-01-06T22:44:57.100760Z"
    },
    "papermill": {
     "duration": 157.814907,
     "end_time": "2025-01-06T22:44:57.104136",
     "exception": false,
     "start_time": "2025-01-06T22:42:19.289229",
     "status": "completed"
    },
    "tags": []
   },
   "outputs": [
    {
     "name": "stdout",
     "output_type": "stream",
     "text": [
      "/kaggle/working/RECsys_Challenge2024\n",
      "run_compile_all_cython: Found 11 Cython files in 5 folders...\r\n",
      "run_compile_all_cython: All files will be compiled using your current python environment: '/usr/bin/python3'\r\n",
      "Compiling [1/11]: MatrixFactorizationImpressions_Cython_Epoch.pyx... \r\n",
      "In file included from \u001b[01m\u001b[K/usr/local/lib/python3.10/dist-packages/numpy/core/include/numpy/ndarraytypes.h:1929\u001b[m\u001b[K,\r\n",
      "                 from \u001b[01m\u001b[K/usr/local/lib/python3.10/dist-packages/numpy/core/include/numpy/ndarrayobject.h:12\u001b[m\u001b[K,\r\n",
      "                 from \u001b[01m\u001b[K/usr/local/lib/python3.10/dist-packages/numpy/core/include/numpy/arrayobject.h:5\u001b[m\u001b[K,\r\n",
      "                 from \u001b[01m\u001b[KMatrixFactorizationImpressions_Cython_Epoch.c:1252\u001b[m\u001b[K:\r\n",
      "\u001b[01m\u001b[K/usr/local/lib/python3.10/dist-packages/numpy/core/include/numpy/npy_1_7_deprecated_api.h:17:2:\u001b[m\u001b[K \u001b[01;35m\u001b[Kwarning: \u001b[m\u001b[K#warning \"Using deprecated NumPy API, disable it with \" \"#define NPY_NO_DEPRECATED_API NPY_1_7_API_VERSION\" [\u001b[01;35m\u001b[K\u001b]8;;https://gcc.gnu.org/onlinedocs/gcc/Warning-Options.html#index-Wcpp\u0007-Wcpp\u001b]8;;\u0007\u001b[m\u001b[K]\r\n",
      "   17 | #\u001b[01;35m\u001b[Kwarning\u001b[m\u001b[K \"Using deprecated NumPy API, disable it with \" \\\r\n",
      "      |  \u001b[01;35m\u001b[K^~~~~~~\u001b[m\u001b[K\r\n",
      "\u001b[01m\u001b[KMatrixFactorizationImpressions_Cython_Epoch.c:\u001b[m\u001b[K In function ‘\u001b[01m\u001b[K__pyx_f_43MatrixFactorizationImpressions_Cython_Epoch_32MatrixFactorization_Cython_Epoch_sampleBPR_Cython\u001b[m\u001b[K’:\r\n",
      "\u001b[01m\u001b[KMatrixFactorizationImpressions_Cython_Epoch.c:30353:17:\u001b[m\u001b[K \u001b[01;35m\u001b[Kwarning: \u001b[m\u001b[K‘\u001b[01m\u001b[K__pyx_v_start_pos_impression_items\u001b[m\u001b[K’ may be used uninitialized in this function [\u001b[01;35m\u001b[K\u001b]8;;https://gcc.gnu.org/onlinedocs/gcc/Warning-Options.html#index-Wmaybe-uninitialized\u0007-Wmaybe-uninitialized\u001b]8;;\u0007\u001b[m\u001b[K]\r\n",
      "30353 |       \u001b[01;35m\u001b[K__pyx_t_4 = (__pyx_v_start_pos_impression_items + __pyx_v_index)\u001b[m\u001b[K;\r\n",
      "      |       \u001b[01;35m\u001b[K~~~~~~~~~~^~~~~~~~~~~~~~~~~~~~~~~~~~~~~~~~~~~~~~~~~~~~~~~~~~~~~~\u001b[m\u001b[K\r\n",
      "\u001b[01m\u001b[KMatrixFactorizationImpressions_Cython_Epoch.c:\u001b[m\u001b[K In function ‘\u001b[01m\u001b[K__pyx_pf_43MatrixFactorizationImpressions_Cython_Epoch_32MatrixFactorization_Cython_Epoch_10epochIteration_Cython_ASY_SVD_SGD\u001b[m\u001b[K’:\r\n",
      "\u001b[01m\u001b[KMatrixFactorizationImpressions_Cython_Epoch.c:26112:66:\u001b[m\u001b[K \u001b[01;35m\u001b[Kwarning: \u001b[m\u001b[K‘\u001b[01m\u001b[K__pyx_v_end_pos_seen_items\u001b[m\u001b[K’ may be used uninitialized in this function [\u001b[01;35m\u001b[K\u001b]8;;https://gcc.gnu.org/onlinedocs/gcc/Warning-Options.html#index-Wmaybe-uninitialized\u0007-Wmaybe-uninitialized\u001b]8;;\u0007\u001b[m\u001b[K]\r\n",
      "26112 |       for (__pyx_t_22 = __pyx_v_start_pos_seen_items; \u001b[01;35m\u001b[K__pyx_t_22 < __pyx_t_21\u001b[m\u001b[K; __pyx_t_22+=1) {\r\n",
      "      |                                                       \u001b[01;35m\u001b[K~~~~~~~~~~~^~~~~~~~~~~~\u001b[m\u001b[K\r\n",
      "\u001b[01m\u001b[KMatrixFactorizationImpressions_Cython_Epoch.c:26112:66:\u001b[m\u001b[K \u001b[01;35m\u001b[Kwarning: \u001b[m\u001b[K‘\u001b[01m\u001b[K__pyx_v_start_pos_seen_items\u001b[m\u001b[K’ may be used uninitialized in this function [\u001b[01;35m\u001b[K\u001b]8;;https://gcc.gnu.org/onlinedocs/gcc/Warning-Options.html#index-Wmaybe-uninitialized\u0007-Wmaybe-uninitialized\u001b]8;;\u0007\u001b[m\u001b[K]\r\n",
      "/usr/local/lib/python3.10/dist-packages/Cython/Compiler/Main.py:381: FutureWarning: Cython directive 'language_level' not set, using '3str' for now (Py3). This has changed from earlier releases! File: /kaggle/working/RECsys_Challenge2024/Recommenders/MatrixFactorization/Cython/MatrixFactorizationImpressions_Cython_Epoch.pyx\r\n",
      "  tree = Parsing.p_module(s, pxd, full_module_name)\r\n",
      "Compiling [1/11]: MatrixFactorizationImpressions_Cython_Epoch.pyx... PASS\r\n",
      "\r\n",
      "Compiling [2/11]: MatrixFactorization_Cython_Epoch.pyx... \r\n",
      "In file included from \u001b[01m\u001b[K/usr/local/lib/python3.10/dist-packages/numpy/core/include/numpy/ndarraytypes.h:1929\u001b[m\u001b[K,\r\n",
      "                 from \u001b[01m\u001b[K/usr/local/lib/python3.10/dist-packages/numpy/core/include/numpy/ndarrayobject.h:12\u001b[m\u001b[K,\r\n",
      "                 from \u001b[01m\u001b[K/usr/local/lib/python3.10/dist-packages/numpy/core/include/numpy/arrayobject.h:5\u001b[m\u001b[K,\r\n",
      "                 from \u001b[01m\u001b[KMatrixFactorization_Cython_Epoch.c:1252\u001b[m\u001b[K:\r\n",
      "\u001b[01m\u001b[K/usr/local/lib/python3.10/dist-packages/numpy/core/include/numpy/npy_1_7_deprecated_api.h:17:2:\u001b[m\u001b[K \u001b[01;35m\u001b[Kwarning: \u001b[m\u001b[K#warning \"Using deprecated NumPy API, disable it with \" \"#define NPY_NO_DEPRECATED_API NPY_1_7_API_VERSION\" [\u001b[01;35m\u001b[K\u001b]8;;https://gcc.gnu.org/onlinedocs/gcc/Warning-Options.html#index-Wcpp\u0007-Wcpp\u001b]8;;\u0007\u001b[m\u001b[K]\r\n",
      "   17 | #\u001b[01;35m\u001b[Kwarning\u001b[m\u001b[K \"Using deprecated NumPy API, disable it with \" \\\r\n",
      "      |  \u001b[01;35m\u001b[K^~~~~~~\u001b[m\u001b[K\r\n",
      "\u001b[01m\u001b[KMatrixFactorization_Cython_Epoch.c:\u001b[m\u001b[K In function ‘\u001b[01m\u001b[K__pyx_pf_32MatrixFactorization_Cython_Epoch_32MatrixFactorization_Cython_Epoch_10epochIteration_Cython_ASY_SVD_SGD\u001b[m\u001b[K’:\r\n",
      "\u001b[01m\u001b[KMatrixFactorization_Cython_Epoch.c:26256:68:\u001b[m\u001b[K \u001b[01;35m\u001b[Kwarning: \u001b[m\u001b[K‘\u001b[01m\u001b[K__pyx_v_end_pos_seen_items\u001b[m\u001b[K’ may be used uninitialized in this function [\u001b[01;35m\u001b[K\u001b]8;;https://gcc.gnu.org/onlinedocs/gcc/Warning-Options.html#index-Wmaybe-uninitialized\u0007-Wmaybe-uninitialized\u001b]8;;\u0007\u001b[m\u001b[K]\r\n",
      "26256 |         for (__pyx_t_22 = __pyx_v_start_pos_seen_items; \u001b[01;35m\u001b[K__pyx_t_22 < __pyx_t_21\u001b[m\u001b[K; __pyx_t_22+=1) {\r\n",
      "      |                                                         \u001b[01;35m\u001b[K~~~~~~~~~~~^~~~~~~~~~~~\u001b[m\u001b[K\r\n",
      "\u001b[01m\u001b[KMatrixFactorization_Cython_Epoch.c:26256:68:\u001b[m\u001b[K \u001b[01;35m\u001b[Kwarning: \u001b[m\u001b[K‘\u001b[01m\u001b[K__pyx_v_start_pos_seen_items\u001b[m\u001b[K’ may be used uninitialized in this function [\u001b[01;35m\u001b[K\u001b]8;;https://gcc.gnu.org/onlinedocs/gcc/Warning-Options.html#index-Wmaybe-uninitialized\u0007-Wmaybe-uninitialized\u001b]8;;\u0007\u001b[m\u001b[K]\r\n",
      "/usr/local/lib/python3.10/dist-packages/Cython/Compiler/Main.py:381: FutureWarning: Cython directive 'language_level' not set, using '3str' for now (Py3). This has changed from earlier releases! File: /kaggle/working/RECsys_Challenge2024/Recommenders/MatrixFactorization/Cython/MatrixFactorization_Cython_Epoch.pyx\r\n",
      "  tree = Parsing.p_module(s, pxd, full_module_name)\r\n",
      "Compiling [2/11]: MatrixFactorization_Cython_Epoch.pyx... PASS\r\n",
      "\r\n",
      "Compiling [3/11]: Compute_Similarity_Cython.pyx... \r\n",
      "warning: Compute_Similarity_Cython.pyx:21:0: The 'IF' statement is deprecated and will be removed in a future Cython version. Consider using runtime conditions or C macros instead. See https://github.com/cython/cython/issues/4310\r\n",
      "In file included from \u001b[01m\u001b[K/usr/local/lib/python3.10/dist-packages/numpy/core/include/numpy/ndarraytypes.h:1929\u001b[m\u001b[K,\r\n",
      "                 from \u001b[01m\u001b[K/usr/local/lib/python3.10/dist-packages/numpy/core/include/numpy/ndarrayobject.h:12\u001b[m\u001b[K,\r\n",
      "                 from \u001b[01m\u001b[K/usr/local/lib/python3.10/dist-packages/numpy/core/include/numpy/arrayobject.h:5\u001b[m\u001b[K,\r\n",
      "                 from \u001b[01m\u001b[KCompute_Similarity_Cython.c:1252\u001b[m\u001b[K:\r\n",
      "\u001b[01m\u001b[K/usr/local/lib/python3.10/dist-packages/numpy/core/include/numpy/npy_1_7_deprecated_api.h:17:2:\u001b[m\u001b[K \u001b[01;35m\u001b[Kwarning: \u001b[m\u001b[K#warning \"Using deprecated NumPy API, disable it with \" \"#define NPY_NO_DEPRECATED_API NPY_1_7_API_VERSION\" [\u001b[01;35m\u001b[K\u001b]8;;https://gcc.gnu.org/onlinedocs/gcc/Warning-Options.html#index-Wcpp\u0007-Wcpp\u001b]8;;\u0007\u001b[m\u001b[K]\r\n",
      "   17 | #\u001b[01;35m\u001b[Kwarning\u001b[m\u001b[K \"Using deprecated NumPy API, disable it with \" \\\r\n",
      "      |  \u001b[01;35m\u001b[K^~~~~~~\u001b[m\u001b[K\r\n",
      "/usr/local/lib/python3.10/dist-packages/Cython/Compiler/Main.py:381: FutureWarning: Cython directive 'language_level' not set, using '3str' for now (Py3). This has changed from earlier releases! File: /kaggle/working/RECsys_Challenge2024/Recommenders/Similarity/Cython/Compute_Similarity_Cython.pyx\r\n",
      "  tree = Parsing.p_module(s, pxd, full_module_name)\r\n",
      "warning: Compute_Similarity_Cython.pyx:21:0: The 'IF' statement is deprecated and will be removed in a future Cython version. Consider using runtime conditions or C macros instead. See https://github.com/cython/cython/issues/4310\r\n",
      "Compiling [3/11]: Compute_Similarity_Cython.pyx... PASS\r\n",
      "\r\n",
      "Compiling [4/11]: Sparse_Matrix_Tree_CSR.pyx... \r\n",
      "warning: Sparse_Matrix_Tree_CSR.pyx:132:34: Non-trivial type declarators in shared declaration (e.g. mix of pointers and values). Each pointer declaration should be on its own line.\r\n",
      "warning: Sparse_Matrix_Tree_CSR.pyx:132:66: Non-trivial type declarators in shared declaration (e.g. mix of pointers and values). Each pointer declaration should be on its own line.\r\n",
      "warning: Sparse_Matrix_Tree_CSR.pyx:343:35: Non-trivial type declarators in shared declaration (e.g. mix of pointers and values). Each pointer declaration should be on its own line.\r\n",
      "warning: Sparse_Matrix_Tree_CSR.pyx:343:52: Non-trivial type declarators in shared declaration (e.g. mix of pointers and values). Each pointer declaration should be on its own line.\r\n",
      "warning: Sparse_Matrix_Tree_CSR.pyx:442:35: Non-trivial type declarators in shared declaration (e.g. mix of pointers and values). Each pointer declaration should be on its own line.\r\n",
      "warning: Sparse_Matrix_Tree_CSR.pyx:442:53: Non-trivial type declarators in shared declaration (e.g. mix of pointers and values). Each pointer declaration should be on its own line.\r\n",
      "warning: Sparse_Matrix_Tree_CSR.pyx:442:69: Non-trivial type declarators in shared declaration (e.g. mix of pointers and values). Each pointer declaration should be on its own line.\r\n",
      "warning: Sparse_Matrix_Tree_CSR.pyx:577:35: Non-trivial type declarators in shared declaration (e.g. mix of pointers and values). Each pointer declaration should be on its own line.\r\n",
      "warning: Sparse_Matrix_Tree_CSR.pyx:577:42: Non-trivial type declarators in shared declaration (e.g. mix of pointers and values). Each pointer declaration should be on its own line.\r\n",
      "warning: Sparse_Matrix_Tree_CSR.pyx:578:35: Non-trivial type declarators in shared declaration (e.g. mix of pointers and values). Each pointer declaration should be on its own line.\r\n",
      "warning: Sparse_Matrix_Tree_CSR.pyx:578:53: Non-trivial type declarators in shared declaration (e.g. mix of pointers and values). Each pointer declaration should be on its own line.\r\n",
      "\r\n",
      "Error compiling Cython file:\r\n",
      "------------------------------------------------------------\r\n",
      "...\r\n",
      "            vector_pointer_to_list_elements[index].head = current_element\r\n",
      "            current_element = current_element.higher\r\n",
      "\r\n",
      "\r\n",
      "        # Sort array elements on their data field\r\n",
      "        qsort(vector_pointer_to_list_elements, list_length, sizeof(head_pointer_tree_s), compare_struct_on_data)\r\n",
      "                                                                                         ^\r\n",
      "------------------------------------------------------------\r\n",
      "\r\n",
      "Sparse_Matrix_Tree_CSR.pyx:516:89: Cannot assign type 'int (const void *, const void *) except? -1' to 'int (*)(const_void *, const_void *) noexcept'. Exception values are incompatible. Suggest adding 'noexcept' to the type of 'compare_struct_on_data'.\r\n",
      "\r\n",
      "Error compiling Cython file:\r\n",
      "------------------------------------------------------------\r\n",
      "...\r\n",
      "        # Sort array elements on their data field\r\n",
      "        qsort(vector_pointer_to_list_elements, list_length, sizeof(head_pointer_tree_s), compare_struct_on_data)\r\n",
      "\r\n",
      "        # Sort only the TopK according to their column field\r\n",
      "        # Sort is from lower to higher, therefore the elements to be considered are from len-topK to len\r\n",
      "        qsort(&vector_pointer_to_list_elements[list_length-TopK], TopK, sizeof(head_pointer_tree_s), compare_struct_on_column)\r\n",
      "                                                                                                     ^\r\n",
      "------------------------------------------------------------\r\n",
      "\r\n",
      "Sparse_Matrix_Tree_CSR.pyx:520:101: Cannot assign type 'int (const void *, const void *) except? -1' to 'int (*)(const_void *, const_void *) noexcept'. Exception values are incompatible. Suggest adding 'noexcept' to the type of 'compare_struct_on_column'.\r\n",
      "Traceback (most recent call last):\r\n",
      "  File \"/kaggle/working/RECsys_Challenge2024/CythonCompiler/compile_script.py\", line 48, in <module>\r\n",
      "    setup(\r\n",
      "  File \"/usr/local/lib/python3.10/dist-packages/setuptools/__init__.py\", line 108, in setup\r\n",
      "    return distutils.core.setup(**attrs)\r\n",
      "  File \"/usr/local/lib/python3.10/dist-packages/setuptools/_distutils/core.py\", line 184, in setup\r\n",
      "    return run_commands(dist)\r\n",
      "  File \"/usr/local/lib/python3.10/dist-packages/setuptools/_distutils/core.py\", line 200, in run_commands\r\n",
      "    dist.run_commands()\r\n",
      "  File \"/usr/local/lib/python3.10/dist-packages/setuptools/_distutils/dist.py\", line 970, in run_commands\r\n",
      "    self.run_command(cmd)\r\n",
      "  File \"/usr/local/lib/python3.10/dist-packages/setuptools/dist.py\", line 956, in run_command\r\n",
      "    super().run_command(command)\r\n",
      "  File \"/usr/local/lib/python3.10/dist-packages/setuptools/_distutils/dist.py\", line 989, in run_command\r\n",
      "    cmd_obj.run()\r\n",
      "  File \"/usr/local/lib/python3.10/dist-packages/setuptools/_distutils/command/build_ext.py\", line 359, in run\r\n",
      "    self.build_extensions()\r\n",
      "  File \"/usr/local/lib/python3.10/dist-packages/setuptools/_distutils/command/build_ext.py\", line 479, in build_extensions\r\n",
      "    self._build_extensions_serial()\r\n",
      "  File \"/usr/local/lib/python3.10/dist-packages/setuptools/_distutils/command/build_ext.py\", line 505, in _build_extensions_serial\r\n",
      "    self.build_extension(ext)\r\n",
      "  File \"/usr/local/lib/python3.10/dist-packages/Cython/Distutils/build_ext.py\", line 130, in build_extension\r\n",
      "    new_ext = cythonize(\r\n",
      "  File \"/usr/local/lib/python3.10/dist-packages/Cython/Build/Dependencies.py\", line 1154, in cythonize\r\n",
      "    cythonize_one(*args)\r\n",
      "  File \"/usr/local/lib/python3.10/dist-packages/Cython/Build/Dependencies.py\", line 1321, in cythonize_one\r\n",
      "    raise CompileError(None, pyx_file)\r\n",
      "Cython.Compiler.Errors.CompileError: Sparse_Matrix_Tree_CSR.pyx\r\n",
      "Traceback (most recent call last):\r\n",
      "  File \"/kaggle/working/RECsys_Challenge2024/run_compile_all_cython.py\", line 60, in <module>\r\n",
      "    run_compile_subprocess(file_path, [file_name])\r\n",
      "  File \"/kaggle/working/RECsys_Challenge2024/CythonCompiler/run_compile_subprocess.py\", line 51, in run_compile_subprocess\r\n",
      "    raise exc\r\n",
      "  File \"/kaggle/working/RECsys_Challenge2024/CythonCompiler/run_compile_subprocess.py\", line 32, in run_compile_subprocess\r\n",
      "    output = subprocess.check_output(' '.join(command),\r\n",
      "  File \"/usr/lib/python3.10/subprocess.py\", line 421, in check_output\r\n",
      "    return run(*popenargs, stdout=PIPE, timeout=timeout, check=True,\r\n",
      "  File \"/usr/lib/python3.10/subprocess.py\", line 526, in run\r\n",
      "    raise CalledProcessError(retcode, process.args,\r\n",
      "subprocess.CalledProcessError: Command '/usr/bin/python3 /kaggle/working/RECsys_Challenge2024/CythonCompiler/compile_script.py Sparse_Matrix_Tree_CSR.pyx build_ext --inplace' returned non-zero exit status 1.\r\n",
      "Compiling [4/11]: Sparse_Matrix_Tree_CSR.pyx... FAIL: Command '/usr/bin/python3 /kaggle/working/RECsys_Challenge2024/CythonCompiler/compile_script.py Sparse_Matrix_Tree_CSR.pyx build_ext --inplace' returned non-zero exit status 1.\r\n",
      "\r\n",
      "Compiling [5/11]: SLIM_BPR_Cython_Epoch.pyx... \r\n",
      "warning: SLIM_BPR_Cython_Epoch.pyx:24:0: The 'IF' statement is deprecated and will be removed in a future Cython version. Consider using runtime conditions or C macros instead. See https://github.com/cython/cython/issues/4310\r\n",
      "warning: SLIM_BPR_Cython_Epoch.pyx:632:34: Non-trivial type declarators in shared declaration (e.g. mix of pointers and values). Each pointer declaration should be on its own line.\r\n",
      "warning: SLIM_BPR_Cython_Epoch.pyx:632:66: Non-trivial type declarators in shared declaration (e.g. mix of pointers and values). Each pointer declaration should be on its own line.\r\n",
      "warning: SLIM_BPR_Cython_Epoch.pyx:817:35: Non-trivial type declarators in shared declaration (e.g. mix of pointers and values). Each pointer declaration should be on its own line.\r\n",
      "warning: SLIM_BPR_Cython_Epoch.pyx:817:52: Non-trivial type declarators in shared declaration (e.g. mix of pointers and values). Each pointer declaration should be on its own line.\r\n",
      "warning: SLIM_BPR_Cython_Epoch.pyx:916:35: Non-trivial type declarators in shared declaration (e.g. mix of pointers and values). Each pointer declaration should be on its own line.\r\n",
      "warning: SLIM_BPR_Cython_Epoch.pyx:916:53: Non-trivial type declarators in shared declaration (e.g. mix of pointers and values). Each pointer declaration should be on its own line.\r\n",
      "warning: SLIM_BPR_Cython_Epoch.pyx:916:69: Non-trivial type declarators in shared declaration (e.g. mix of pointers and values). Each pointer declaration should be on its own line.\r\n",
      "warning: SLIM_BPR_Cython_Epoch.pyx:1051:35: Non-trivial type declarators in shared declaration (e.g. mix of pointers and values). Each pointer declaration should be on its own line.\r\n",
      "warning: SLIM_BPR_Cython_Epoch.pyx:1051:42: Non-trivial type declarators in shared declaration (e.g. mix of pointers and values). Each pointer declaration should be on its own line.\r\n",
      "warning: SLIM_BPR_Cython_Epoch.pyx:1052:35: Non-trivial type declarators in shared declaration (e.g. mix of pointers and values). Each pointer declaration should be on its own line.\r\n",
      "warning: SLIM_BPR_Cython_Epoch.pyx:1052:53: Non-trivial type declarators in shared declaration (e.g. mix of pointers and values). Each pointer declaration should be on its own line.\r\n",
      "\r\n",
      "Error compiling Cython file:\r\n",
      "------------------------------------------------------------\r\n",
      "...\r\n",
      "            vector_pointer_to_list_elements[index].head = current_element\r\n",
      "            current_element = current_element.higher\r\n",
      "\r\n",
      "\r\n",
      "        # Sort array elements on their data field\r\n",
      "        qsort(vector_pointer_to_list_elements, list_length, sizeof(head_pointer_tree_s), compare_struct_on_data)\r\n",
      "                                                                                         ^\r\n",
      "------------------------------------------------------------\r\n",
      "\r\n",
      "SLIM_BPR_Cython_Epoch.pyx:990:89: Cannot assign type 'int (const void *, const void *) except? -1' to 'int (*)(const_void *, const_void *) noexcept'. Exception values are incompatible. Suggest adding 'noexcept' to the type of 'compare_struct_on_data'.\r\n",
      "\r\n",
      "Error compiling Cython file:\r\n",
      "------------------------------------------------------------\r\n",
      "...\r\n",
      "        # Sort array elements on their data field\r\n",
      "        qsort(vector_pointer_to_list_elements, list_length, sizeof(head_pointer_tree_s), compare_struct_on_data)\r\n",
      "\r\n",
      "        # Sort only the TopK according to their column field\r\n",
      "        # Sort is from lower to higher, therefore the elements to be considered are from len-topK to len\r\n",
      "        qsort(&vector_pointer_to_list_elements[list_length-TopK], TopK, sizeof(head_pointer_tree_s), compare_struct_on_column)\r\n",
      "                                                                                                     ^\r\n",
      "------------------------------------------------------------\r\n",
      "\r\n",
      "SLIM_BPR_Cython_Epoch.pyx:994:101: Cannot assign type 'int (const void *, const void *) except? -1' to 'int (*)(const_void *, const_void *) noexcept'. Exception values are incompatible. Suggest adding 'noexcept' to the type of 'compare_struct_on_column'.\r\n",
      "Traceback (most recent call last):\r\n",
      "  File \"/kaggle/working/RECsys_Challenge2024/CythonCompiler/compile_script.py\", line 48, in <module>\r\n",
      "    setup(\r\n",
      "  File \"/usr/local/lib/python3.10/dist-packages/setuptools/__init__.py\", line 108, in setup\r\n",
      "    return distutils.core.setup(**attrs)\r\n",
      "  File \"/usr/local/lib/python3.10/dist-packages/setuptools/_distutils/core.py\", line 184, in setup\r\n",
      "    return run_commands(dist)\r\n",
      "  File \"/usr/local/lib/python3.10/dist-packages/setuptools/_distutils/core.py\", line 200, in run_commands\r\n",
      "    dist.run_commands()\r\n",
      "  File \"/usr/local/lib/python3.10/dist-packages/setuptools/_distutils/dist.py\", line 970, in run_commands\r\n",
      "    self.run_command(cmd)\r\n",
      "  File \"/usr/local/lib/python3.10/dist-packages/setuptools/dist.py\", line 956, in run_command\r\n",
      "    super().run_command(command)\r\n",
      "  File \"/usr/local/lib/python3.10/dist-packages/setuptools/_distutils/dist.py\", line 989, in run_command\r\n",
      "    cmd_obj.run()\r\n",
      "  File \"/usr/local/lib/python3.10/dist-packages/setuptools/_distutils/command/build_ext.py\", line 359, in run\r\n",
      "    self.build_extensions()\r\n",
      "  File \"/usr/local/lib/python3.10/dist-packages/setuptools/_distutils/command/build_ext.py\", line 479, in build_extensions\r\n",
      "    self._build_extensions_serial()\r\n",
      "  File \"/usr/local/lib/python3.10/dist-packages/setuptools/_distutils/command/build_ext.py\", line 505, in _build_extensions_serial\r\n",
      "    self.build_extension(ext)\r\n",
      "  File \"/usr/local/lib/python3.10/dist-packages/Cython/Distutils/build_ext.py\", line 130, in build_extension\r\n",
      "    new_ext = cythonize(\r\n",
      "  File \"/usr/local/lib/python3.10/dist-packages/Cython/Build/Dependencies.py\", line 1154, in cythonize\r\n",
      "    cythonize_one(*args)\r\n",
      "  File \"/usr/local/lib/python3.10/dist-packages/Cython/Build/Dependencies.py\", line 1321, in cythonize_one\r\n",
      "    raise CompileError(None, pyx_file)\r\n",
      "Cython.Compiler.Errors.CompileError: SLIM_BPR_Cython_Epoch.pyx\r\n",
      "Traceback (most recent call last):\r\n",
      "  File \"/kaggle/working/RECsys_Challenge2024/run_compile_all_cython.py\", line 60, in <module>\r\n",
      "    run_compile_subprocess(file_path, [file_name])\r\n",
      "  File \"/kaggle/working/RECsys_Challenge2024/CythonCompiler/run_compile_subprocess.py\", line 51, in run_compile_subprocess\r\n",
      "    raise exc\r\n",
      "  File \"/kaggle/working/RECsys_Challenge2024/CythonCompiler/run_compile_subprocess.py\", line 32, in run_compile_subprocess\r\n",
      "    output = subprocess.check_output(' '.join(command),\r\n",
      "  File \"/usr/lib/python3.10/subprocess.py\", line 421, in check_output\r\n",
      "    return run(*popenargs, stdout=PIPE, timeout=timeout, check=True,\r\n",
      "  File \"/usr/lib/python3.10/subprocess.py\", line 526, in run\r\n",
      "    raise CalledProcessError(retcode, process.args,\r\n",
      "subprocess.CalledProcessError: Command '/usr/bin/python3 /kaggle/working/RECsys_Challenge2024/CythonCompiler/compile_script.py SLIM_BPR_Cython_Epoch.pyx build_ext --inplace' returned non-zero exit status 1.\r\n",
      "Compiling [5/11]: SLIM_BPR_Cython_Epoch.pyx... FAIL: Command '/usr/bin/python3 /kaggle/working/RECsys_Challenge2024/CythonCompiler/compile_script.py SLIM_BPR_Cython_Epoch.pyx build_ext --inplace' returned non-zero exit status 1.\r\n",
      "\r\n",
      "Compiling [6/11]: Triangular_Matrix.pyx... \r\n",
      "warning: Triangular_Matrix.pyx:22:0: The 'IF' statement is deprecated and will be removed in a future Cython version. Consider using runtime conditions or C macros instead. See https://github.com/cython/cython/issues/4310\r\n",
      "In file included from \u001b[01m\u001b[K/usr/local/lib/python3.10/dist-packages/numpy/core/include/numpy/ndarraytypes.h:1929\u001b[m\u001b[K,\r\n",
      "                 from \u001b[01m\u001b[K/usr/local/lib/python3.10/dist-packages/numpy/core/include/numpy/ndarrayobject.h:12\u001b[m\u001b[K,\r\n",
      "                 from \u001b[01m\u001b[K/usr/local/lib/python3.10/dist-packages/numpy/core/include/numpy/arrayobject.h:5\u001b[m\u001b[K,\r\n",
      "                 from \u001b[01m\u001b[KTriangular_Matrix.c:1252\u001b[m\u001b[K:\r\n",
      "\u001b[01m\u001b[K/usr/local/lib/python3.10/dist-packages/numpy/core/include/numpy/npy_1_7_deprecated_api.h:17:2:\u001b[m\u001b[K \u001b[01;35m\u001b[Kwarning: \u001b[m\u001b[K#warning \"Using deprecated NumPy API, disable it with \" \"#define NPY_NO_DEPRECATED_API NPY_1_7_API_VERSION\" [\u001b[01;35m\u001b[K\u001b]8;;https://gcc.gnu.org/onlinedocs/gcc/Warning-Options.html#index-Wcpp\u0007-Wcpp\u001b]8;;\u0007\u001b[m\u001b[K]\r\n",
      "   17 | #\u001b[01;35m\u001b[Kwarning\u001b[m\u001b[K \"Using deprecated NumPy API, disable it with \" \\\r\n",
      "      |  \u001b[01;35m\u001b[K^~~~~~~\u001b[m\u001b[K\r\n",
      "In function ‘\u001b[01m\u001b[K__pyx_pf_17Triangular_Matrix_17Triangular_Matrix___init__\u001b[m\u001b[K’,\r\n",
      "    inlined from ‘\u001b[01m\u001b[K__pyx_pw_17Triangular_Matrix_17Triangular_Matrix_1__init__\u001b[m\u001b[K’ at \u001b[01m\u001b[KTriangular_Matrix.c:5541:13\u001b[m\u001b[K:\r\n",
      "\u001b[01m\u001b[KTriangular_Matrix.c:5599:43:\u001b[m\u001b[K \u001b[01;35m\u001b[Kwarning: \u001b[m\u001b[Kargument 1 value ‘\u001b[01m\u001b[K18446744073709551608\u001b[m\u001b[K’ exceeds maximum object size 9223372036854775807 [\u001b[01;35m\u001b[K\u001b]8;;https://gcc.gnu.org/onlinedocs/gcc/Warning-Options.html#index-Walloc-size-larger-than=\u0007-Walloc-size-larger-than=\u001b]8;;\u0007\u001b[m\u001b[K]\r\n",
      " 5599 |   __pyx_v_self->row_pointer = ((double **)\u001b[01;35m\u001b[Kmalloc((__pyx_v_self->num_rows * (sizeof(double *))))\u001b[m\u001b[K);\r\n",
      "      |                                           \u001b[01;35m\u001b[K^~~~~~~~~~~~~~~~~~~~~~~~~~~~~~~~~~~~~~~~~~~~~~~~~~~~~\u001b[m\u001b[K\r\n",
      "In file included from \u001b[01m\u001b[K/usr/include/python3.10/Python.h:34\u001b[m\u001b[K,\r\n",
      "                 from \u001b[01m\u001b[KTriangular_Matrix.c:41\u001b[m\u001b[K:\r\n",
      "\u001b[01m\u001b[KTriangular_Matrix.c:\u001b[m\u001b[K In function ‘\u001b[01m\u001b[K__pyx_pw_17Triangular_Matrix_17Triangular_Matrix_1__init__\u001b[m\u001b[K’:\r\n",
      "\u001b[01m\u001b[K/usr/include/stdlib.h:540:14:\u001b[m\u001b[K \u001b[01;36m\u001b[Knote: \u001b[m\u001b[Kin a call to allocation function ‘\u001b[01m\u001b[Kmalloc\u001b[m\u001b[K’ declared here\r\n",
      "  540 | extern void *\u001b[01;36m\u001b[Kmalloc\u001b[m\u001b[K (size_t __size) __THROW __attribute_malloc__\r\n",
      "      |              \u001b[01;36m\u001b[K^~~~~~\u001b[m\u001b[K\r\n",
      "/usr/local/lib/python3.10/dist-packages/Cython/Compiler/Main.py:381: FutureWarning: Cython directive 'language_level' not set, using '3str' for now (Py3). This has changed from earlier releases! File: /kaggle/working/RECsys_Challenge2024/Recommenders/SLIM/Cython/Triangular_Matrix.pyx\r\n",
      "  tree = Parsing.p_module(s, pxd, full_module_name)\r\n",
      "warning: Triangular_Matrix.pyx:22:0: The 'IF' statement is deprecated and will be removed in a future Cython version. Consider using runtime conditions or C macros instead. See https://github.com/cython/cython/issues/4310\r\n",
      "Compiling [6/11]: Triangular_Matrix.pyx... PASS\r\n",
      "\r\n",
      "Compiling [7/11]: CFW_DVV_Similarity_Cython_SGD.pyx... \r\n",
      "In file included from \u001b[01m\u001b[K/usr/local/lib/python3.10/dist-packages/numpy/core/include/numpy/ndarraytypes.h:1929\u001b[m\u001b[K,\r\n",
      "                 from \u001b[01m\u001b[K/usr/local/lib/python3.10/dist-packages/numpy/core/include/numpy/ndarrayobject.h:12\u001b[m\u001b[K,\r\n",
      "                 from \u001b[01m\u001b[K/usr/local/lib/python3.10/dist-packages/numpy/core/include/numpy/arrayobject.h:5\u001b[m\u001b[K,\r\n",
      "                 from \u001b[01m\u001b[KCFW_DVV_Similarity_Cython_SGD.c:1252\u001b[m\u001b[K:\r\n",
      "\u001b[01m\u001b[K/usr/local/lib/python3.10/dist-packages/numpy/core/include/numpy/npy_1_7_deprecated_api.h:17:2:\u001b[m\u001b[K \u001b[01;35m\u001b[Kwarning: \u001b[m\u001b[K#warning \"Using deprecated NumPy API, disable it with \" \"#define NPY_NO_DEPRECATED_API NPY_1_7_API_VERSION\" [\u001b[01;35m\u001b[K\u001b]8;;https://gcc.gnu.org/onlinedocs/gcc/Warning-Options.html#index-Wcpp\u0007-Wcpp\u001b]8;;\u0007\u001b[m\u001b[K]\r\n",
      "   17 | #\u001b[01;35m\u001b[Kwarning\u001b[m\u001b[K \"Using deprecated NumPy API, disable it with \" \\\r\n",
      "      |  \u001b[01;35m\u001b[K^~~~~~~\u001b[m\u001b[K\r\n",
      "/usr/local/lib/python3.10/dist-packages/Cython/Compiler/Main.py:381: FutureWarning: Cython directive 'language_level' not set, using '3str' for now (Py3). This has changed from earlier releases! File: /kaggle/working/RECsys_Challenge2024/Recommenders/FeatureWeighting/Cython/CFW_DVV_Similarity_Cython_SGD.pyx\r\n",
      "  tree = Parsing.p_module(s, pxd, full_module_name)\r\n",
      "Compiling [7/11]: CFW_DVV_Similarity_Cython_SGD.pyx... PASS\r\n",
      "\r\n",
      "Compiling [8/11]: HP3_Similarity_Cython_SGD.pyx... \r\n",
      "performance hint: HP3_Similarity_Cython_SGD.pyx:113:40: Index should be typed for more efficient access\r\n",
      "performance hint: HP3_Similarity_Cython_SGD.pyx:114:40: Index should be typed for more efficient access\r\n",
      "In file included from \u001b[01m\u001b[K/usr/local/lib/python3.10/dist-packages/numpy/core/include/numpy/ndarraytypes.h:1929\u001b[m\u001b[K,\r\n",
      "                 from \u001b[01m\u001b[K/usr/local/lib/python3.10/dist-packages/numpy/core/include/numpy/ndarrayobject.h:12\u001b[m\u001b[K,\r\n",
      "                 from \u001b[01m\u001b[K/usr/local/lib/python3.10/dist-packages/numpy/core/include/numpy/arrayobject.h:5\u001b[m\u001b[K,\r\n",
      "                 from \u001b[01m\u001b[KHP3_Similarity_Cython_SGD.c:1252\u001b[m\u001b[K:\r\n",
      "\u001b[01m\u001b[K/usr/local/lib/python3.10/dist-packages/numpy/core/include/numpy/npy_1_7_deprecated_api.h:17:2:\u001b[m\u001b[K \u001b[01;35m\u001b[Kwarning: \u001b[m\u001b[K#warning \"Using deprecated NumPy API, disable it with \" \"#define NPY_NO_DEPRECATED_API NPY_1_7_API_VERSION\" [\u001b[01;35m\u001b[K\u001b]8;;https://gcc.gnu.org/onlinedocs/gcc/Warning-Options.html#index-Wcpp\u0007-Wcpp\u001b]8;;\u0007\u001b[m\u001b[K]\r\n",
      "   17 | #\u001b[01;35m\u001b[Kwarning\u001b[m\u001b[K \"Using deprecated NumPy API, disable it with \" \\\r\n",
      "      |  \u001b[01;35m\u001b[K^~~~~~~\u001b[m\u001b[K\r\n",
      "\u001b[01m\u001b[KHP3_Similarity_Cython_SGD.c:\u001b[m\u001b[K In function ‘\u001b[01m\u001b[K__pyx_pf_25HP3_Similarity_Cython_SGD_25HP3_Similarity_Cython_SGD_4fit\u001b[m\u001b[K’:\r\n",
      "\u001b[01m\u001b[KHP3_Similarity_Cython_SGD.c:23631:55:\u001b[m\u001b[K \u001b[01;35m\u001b[Kwarning: \u001b[m\u001b[K‘\u001b[01m\u001b[K__pyx_v_sample_num\u001b[m\u001b[K’ may be used uninitialized in this function [\u001b[01;35m\u001b[K\u001b]8;;https://gcc.gnu.org/onlinedocs/gcc/Warning-Options.html#index-Wmaybe-uninitialized\u0007-Wmaybe-uninitialized\u001b]8;;\u0007\u001b[m\u001b[K]\r\n",
      "23631 |   __pyx_t_1 = PyFloat_FromDouble((__pyx_v_cum_loss / \u001b[01;35m\u001b[K((double)__pyx_v_sample_num)\u001b[m\u001b[K)); if (unlikely(!__pyx_t_1)) __PYX_ERR(0, 291, __pyx_L1_error)\r\n",
      "      |                                                      \u001b[01;35m\u001b[K~^~~~~~~~~~~~~~~~~~~~~~~~~~~\u001b[m\u001b[K\r\n",
      "/usr/local/lib/python3.10/dist-packages/Cython/Compiler/Main.py:381: FutureWarning: Cython directive 'language_level' not set, using '3str' for now (Py3). This has changed from earlier releases! File: /kaggle/working/RECsys_Challenge2024/Recommenders/FeatureWeighting/Cython/HP3_Similarity_Cython_SGD.pyx\r\n",
      "  tree = Parsing.p_module(s, pxd, full_module_name)\r\n",
      "performance hint: HP3_Similarity_Cython_SGD.pyx:113:40: Index should be typed for more efficient access\r\n",
      "performance hint: HP3_Similarity_Cython_SGD.pyx:114:40: Index should be typed for more efficient access\r\n",
      "Compiling [8/11]: HP3_Similarity_Cython_SGD.pyx... PASS\r\n",
      "\r\n",
      "Compiling [9/11]: CFW_D_Similarity_Cython_SGD.pyx... \r\n",
      "In file included from \u001b[01m\u001b[K/usr/local/lib/python3.10/dist-packages/numpy/core/include/numpy/ndarraytypes.h:1929\u001b[m\u001b[K,\r\n",
      "                 from \u001b[01m\u001b[K/usr/local/lib/python3.10/dist-packages/numpy/core/include/numpy/ndarrayobject.h:12\u001b[m\u001b[K,\r\n",
      "                 from \u001b[01m\u001b[K/usr/local/lib/python3.10/dist-packages/numpy/core/include/numpy/arrayobject.h:5\u001b[m\u001b[K,\r\n",
      "                 from \u001b[01m\u001b[KCFW_D_Similarity_Cython_SGD.c:1252\u001b[m\u001b[K:\r\n",
      "\u001b[01m\u001b[K/usr/local/lib/python3.10/dist-packages/numpy/core/include/numpy/npy_1_7_deprecated_api.h:17:2:\u001b[m\u001b[K \u001b[01;35m\u001b[Kwarning: \u001b[m\u001b[K#warning \"Using deprecated NumPy API, disable it with \" \"#define NPY_NO_DEPRECATED_API NPY_1_7_API_VERSION\" [\u001b[01;35m\u001b[K\u001b]8;;https://gcc.gnu.org/onlinedocs/gcc/Warning-Options.html#index-Wcpp\u0007-Wcpp\u001b]8;;\u0007\u001b[m\u001b[K]\r\n",
      "   17 | #\u001b[01;35m\u001b[Kwarning\u001b[m\u001b[K \"Using deprecated NumPy API, disable it with \" \\\r\n",
      "      |  \u001b[01;35m\u001b[K^~~~~~~\u001b[m\u001b[K\r\n",
      "\u001b[01m\u001b[KCFW_D_Similarity_Cython_SGD.c:\u001b[m\u001b[K In function ‘\u001b[01m\u001b[K__pyx_pf_27CFW_D_Similarity_Cython_SGD_27CFW_D_Similarity_Cython_SGD_6fit\u001b[m\u001b[K’:\r\n",
      "\u001b[01m\u001b[KCFW_D_Similarity_Cython_SGD.c:23373:55:\u001b[m\u001b[K \u001b[01;35m\u001b[Kwarning: \u001b[m\u001b[K‘\u001b[01m\u001b[K__pyx_v_sample_num\u001b[m\u001b[K’ may be used uninitialized in this function [\u001b[01;35m\u001b[K\u001b]8;;https://gcc.gnu.org/onlinedocs/gcc/Warning-Options.html#index-Wmaybe-uninitialized\u0007-Wmaybe-uninitialized\u001b]8;;\u0007\u001b[m\u001b[K]\r\n",
      "23373 |   __pyx_t_3 = PyFloat_FromDouble((__pyx_v_cum_loss / \u001b[01;35m\u001b[K((double)__pyx_v_sample_num)\u001b[m\u001b[K)); if (unlikely(!__pyx_t_3)) __PYX_ERR(0, 290, __pyx_L1_error)\r\n",
      "      |                                                      \u001b[01;35m\u001b[K~^~~~~~~~~~~~~~~~~~~~~~~~~~~\u001b[m\u001b[K\r\n",
      "/usr/local/lib/python3.10/dist-packages/Cython/Compiler/Main.py:381: FutureWarning: Cython directive 'language_level' not set, using '3str' for now (Py3). This has changed from earlier releases! File: /kaggle/working/RECsys_Challenge2024/Recommenders/FeatureWeighting/Cython/CFW_D_Similarity_Cython_SGD.pyx\r\n",
      "  tree = Parsing.p_module(s, pxd, full_module_name)\r\n",
      "Compiling [9/11]: CFW_D_Similarity_Cython_SGD.pyx... PASS\r\n",
      "\r\n",
      "Compiling [10/11]: FBSM_Rating_Cython_SGD.pyx... \r\n",
      "In file included from \u001b[01m\u001b[K/usr/local/lib/python3.10/dist-packages/numpy/core/include/numpy/ndarraytypes.h:1929\u001b[m\u001b[K,\r\n",
      "                 from \u001b[01m\u001b[K/usr/local/lib/python3.10/dist-packages/numpy/core/include/numpy/ndarrayobject.h:12\u001b[m\u001b[K,\r\n",
      "                 from \u001b[01m\u001b[K/usr/local/lib/python3.10/dist-packages/numpy/core/include/numpy/arrayobject.h:5\u001b[m\u001b[K,\r\n",
      "                 from \u001b[01m\u001b[KFBSM_Rating_Cython_SGD.c:1252\u001b[m\u001b[K:\r\n",
      "\u001b[01m\u001b[K/usr/local/lib/python3.10/dist-packages/numpy/core/include/numpy/npy_1_7_deprecated_api.h:17:2:\u001b[m\u001b[K \u001b[01;35m\u001b[Kwarning: \u001b[m\u001b[K#warning \"Using deprecated NumPy API, disable it with \" \"#define NPY_NO_DEPRECATED_API NPY_1_7_API_VERSION\" [\u001b[01;35m\u001b[K\u001b]8;;https://gcc.gnu.org/onlinedocs/gcc/Warning-Options.html#index-Wcpp\u0007-Wcpp\u001b]8;;\u0007\u001b[m\u001b[K]\r\n",
      "   17 | #\u001b[01;35m\u001b[Kwarning\u001b[m\u001b[K \"Using deprecated NumPy API, disable it with \" \\\r\n",
      "      |  \u001b[01;35m\u001b[K^~~~~~~\u001b[m\u001b[K\r\n",
      "\u001b[01m\u001b[KFBSM_Rating_Cython_SGD.c:\u001b[m\u001b[K In function ‘\u001b[01m\u001b[K__pyx_pf_22FBSM_Rating_Cython_SGD_22FBSM_Rating_Cython_SGD_2fit\u001b[m\u001b[K’:\r\n",
      "\u001b[01m\u001b[KFBSM_Rating_Cython_SGD.c:26607:55:\u001b[m\u001b[K \u001b[01;35m\u001b[Kwarning: \u001b[m\u001b[K‘\u001b[01m\u001b[K__pyx_v_num_sample\u001b[m\u001b[K’ may be used uninitialized in this function [\u001b[01;35m\u001b[K\u001b]8;;https://gcc.gnu.org/onlinedocs/gcc/Warning-Options.html#index-Wmaybe-uninitialized\u0007-Wmaybe-uninitialized\u001b]8;;\u0007\u001b[m\u001b[K]\r\n",
      "26607 |   __pyx_t_5 = PyFloat_FromDouble((__pyx_v_cum_loss / \u001b[01;35m\u001b[K((double)__pyx_v_num_sample)\u001b[m\u001b[K)); if (unlikely(!__pyx_t_5)) __PYX_ERR(0, 551, __pyx_L1_error)\r\n",
      "      |                                                      \u001b[01;35m\u001b[K~^~~~~~~~~~~~~~~~~~~~~~~~~~~\u001b[m\u001b[K\r\n",
      "/usr/local/lib/python3.10/dist-packages/Cython/Compiler/Main.py:381: FutureWarning: Cython directive 'language_level' not set, using '3str' for now (Py3). This has changed from earlier releases! File: /kaggle/working/RECsys_Challenge2024/Recommenders/FeatureWeighting/Cython/FBSM_Rating_Cython_SGD.pyx\r\n",
      "  tree = Parsing.p_module(s, pxd, full_module_name)\r\n",
      "Compiling [10/11]: FBSM_Rating_Cython_SGD.pyx... PASS\r\n",
      "\r\n",
      "Compiling [11/11]: DataIterator.pyx... \r\n",
      "In file included from \u001b[01m\u001b[K/usr/local/lib/python3.10/dist-packages/numpy/core/include/numpy/ndarraytypes.h:1929\u001b[m\u001b[K,\r\n",
      "                 from \u001b[01m\u001b[K/usr/local/lib/python3.10/dist-packages/numpy/core/include/numpy/ndarrayobject.h:12\u001b[m\u001b[K,\r\n",
      "                 from \u001b[01m\u001b[K/usr/local/lib/python3.10/dist-packages/numpy/core/include/numpy/arrayobject.h:5\u001b[m\u001b[K,\r\n",
      "                 from \u001b[01m\u001b[KDataIterator.c:1252\u001b[m\u001b[K:\r\n",
      "\u001b[01m\u001b[K/usr/local/lib/python3.10/dist-packages/numpy/core/include/numpy/npy_1_7_deprecated_api.h:17:2:\u001b[m\u001b[K \u001b[01;35m\u001b[Kwarning: \u001b[m\u001b[K#warning \"Using deprecated NumPy API, disable it with \" \"#define NPY_NO_DEPRECATED_API NPY_1_7_API_VERSION\" [\u001b[01;35m\u001b[K\u001b]8;;https://gcc.gnu.org/onlinedocs/gcc/Warning-Options.html#index-Wcpp\u0007-Wcpp\u001b]8;;\u0007\u001b[m\u001b[K]\r\n",
      "   17 | #\u001b[01;35m\u001b[Kwarning\u001b[m\u001b[K \"Using deprecated NumPy API, disable it with \" \\\r\n",
      "      |  \u001b[01;35m\u001b[K^~~~~~~\u001b[m\u001b[K\r\n",
      "\u001b[01m\u001b[KDataIterator.c:\u001b[m\u001b[K In function ‘\u001b[01m\u001b[K__pyx_pf_12DataIterator_19InteractionIterator_6__next__\u001b[m\u001b[K’:\r\n",
      "\u001b[01m\u001b[KDataIterator.c:20937:22:\u001b[m\u001b[K \u001b[01;35m\u001b[Kwarning: \u001b[m\u001b[K‘\u001b[01m\u001b[K__pyx_v_i_batch\u001b[m\u001b[K’ may be used uninitialized in this function [\u001b[01;35m\u001b[K\u001b]8;;https://gcc.gnu.org/onlinedocs/gcc/Warning-Options.html#index-Wmaybe-uninitialized\u0007-Wmaybe-uninitialized\u001b]8;;\u0007\u001b[m\u001b[K]\r\n",
      "20937 |     (__pyx_v_i_batch \u001b[01;35m\u001b[K+\u001b[m\u001b[K 1),\r\n",
      "      |                      \u001b[01;35m\u001b[K^\u001b[m\u001b[K\r\n",
      "\u001b[01m\u001b[KDataIterator.c:\u001b[m\u001b[K In function ‘\u001b[01m\u001b[K__pyx_pf_12DataIterator_30InteractionAndNegativeIterator_6__next__\u001b[m\u001b[K’:\r\n",
      "\u001b[01m\u001b[KDataIterator.c:25499:22:\u001b[m\u001b[K \u001b[01;35m\u001b[Kwarning: \u001b[m\u001b[K‘\u001b[01m\u001b[K__pyx_v_i_batch\u001b[m\u001b[K’ may be used uninitialized in this function [\u001b[01;35m\u001b[K\u001b]8;;https://gcc.gnu.org/onlinedocs/gcc/Warning-Options.html#index-Wmaybe-uninitialized\u0007-Wmaybe-uninitialized\u001b]8;;\u0007\u001b[m\u001b[K]\r\n",
      "25499 |     (__pyx_v_i_batch \u001b[01;35m\u001b[K+\u001b[m\u001b[K 1),\r\n",
      "      |                      \u001b[01;35m\u001b[K^\u001b[m\u001b[K\r\n",
      "\u001b[01m\u001b[KDataIterator.c:\u001b[m\u001b[K In function ‘\u001b[01m\u001b[K__pyx_pf_12DataIterator_11BPRIterator_6__next__\u001b[m\u001b[K’:\r\n",
      "\u001b[01m\u001b[KDataIterator.c:23056:22:\u001b[m\u001b[K \u001b[01;35m\u001b[Kwarning: \u001b[m\u001b[K‘\u001b[01m\u001b[K__pyx_v_i_batch\u001b[m\u001b[K’ may be used uninitialized in this function [\u001b[01;35m\u001b[K\u001b]8;;https://gcc.gnu.org/onlinedocs/gcc/Warning-Options.html#index-Wmaybe-uninitialized\u0007-Wmaybe-uninitialized\u001b]8;;\u0007\u001b[m\u001b[K]\r\n",
      "23056 |     (__pyx_v_i_batch \u001b[01;35m\u001b[K+\u001b[m\u001b[K 1),\r\n",
      "      |                      \u001b[01;35m\u001b[K^\u001b[m\u001b[K\r\n",
      "/usr/local/lib/python3.10/dist-packages/Cython/Compiler/Main.py:381: FutureWarning: Cython directive 'language_level' not set, using '3str' for now (Py3). This has changed from earlier releases! File: /kaggle/working/RECsys_Challenge2024/Utils/PyTorch/Cython/DataIterator.pyx\r\n",
      "  tree = Parsing.p_module(s, pxd, full_module_name)\r\n",
      "Compiling [11/11]: DataIterator.pyx... PASS\r\n",
      "\r\n",
      "run_compile_all_cython: Compilation finished. FAILS 2/11.\r\n",
      "Compilation log can be found here: './result_experiments/run_compile_all_cython.txt'\r\n"
     ]
    }
   ],
   "source": [
    "%cd /kaggle/working/RECsys_Challenge2024 \n",
    "! python run_compile_all_cython.py"
   ]
  },
  {
   "cell_type": "code",
   "execution_count": 5,
   "id": "b4a42111",
   "metadata": {
    "execution": {
     "iopub.execute_input": "2025-01-06T22:44:57.136379Z",
     "iopub.status.busy": "2025-01-06T22:44:57.136021Z",
     "iopub.status.idle": "2025-01-06T22:44:58.537230Z",
     "shell.execute_reply": "2025-01-06T22:44:58.536258Z"
    },
    "papermill": {
     "duration": 1.419764,
     "end_time": "2025-01-06T22:44:58.539101",
     "exception": false,
     "start_time": "2025-01-06T22:44:57.119337",
     "status": "completed"
    },
    "tags": []
   },
   "outputs": [],
   "source": [
    "from Utils.notebookFunctions import *\n",
    "import numpy as np\n",
    "import pandas as pd\n",
    "import scipy.sparse as sps\n",
    "import time\n",
    "import shutil\n",
    "import optuna\n",
    "import json\n",
    "import os\n",
    "from Utils.seconds_to_biggest_unit import seconds_to_biggest_unit\n",
    "\n",
    "\n",
    "K_PATH = '/kaggle/working/RECsys_Challenge2024'\n",
    "GH_PATH = 'TrainedModels/WithKFCV/MatrixFactorization/PureSVDRecommender'\n",
    "\n",
    "np.random.seed(42)"
   ]
  },
  {
   "cell_type": "markdown",
   "id": "fac6c0f6",
   "metadata": {
    "papermill": {
     "duration": 0.014375,
     "end_time": "2025-01-06T22:44:58.568215",
     "exception": false,
     "start_time": "2025-01-06T22:44:58.553840",
     "status": "completed"
    },
    "tags": []
   },
   "source": [
    "## Import the repository **RECsys_Challenge2024**"
   ]
  },
  {
   "cell_type": "code",
   "execution_count": 6,
   "id": "1ab8fbfd",
   "metadata": {
    "execution": {
     "iopub.execute_input": "2025-01-06T22:44:58.599787Z",
     "iopub.status.busy": "2025-01-06T22:44:58.599233Z",
     "iopub.status.idle": "2025-01-06T22:44:59.181885Z",
     "shell.execute_reply": "2025-01-06T22:44:59.180528Z"
    },
    "papermill": {
     "duration": 0.600755,
     "end_time": "2025-01-06T22:44:59.184012",
     "exception": false,
     "start_time": "2025-01-06T22:44:58.583257",
     "status": "completed"
    },
    "tags": []
   },
   "outputs": [
    {
     "name": "stdout",
     "output_type": "stream",
     "text": [
      "Repository 'RECsys_Challenge2024' found.\n"
     ]
    }
   ],
   "source": [
    "repo = get_repo_from_github(token)"
   ]
  },
  {
   "cell_type": "code",
   "execution_count": 7,
   "id": "aa1e2162",
   "metadata": {
    "execution": {
     "iopub.execute_input": "2025-01-06T22:44:59.215225Z",
     "iopub.status.busy": "2025-01-06T22:44:59.214810Z",
     "iopub.status.idle": "2025-01-06T22:44:59.219717Z",
     "shell.execute_reply": "2025-01-06T22:44:59.218583Z"
    },
    "papermill": {
     "duration": 0.022197,
     "end_time": "2025-01-06T22:44:59.221293",
     "exception": false,
     "start_time": "2025-01-06T22:44:59.199096",
     "status": "completed"
    },
    "tags": []
   },
   "outputs": [],
   "source": [
    "config = {\n",
    "    'model': 'ScaledPureSVD',\n",
    "    'n_folds': 5,\n",
    "    'metric': 'MAP',\n",
    "    'tune_parameters': True,\n",
    "    'database_path': '/kaggle/working/history_ScaledPureSVD_MAP.db',\n",
    "    'copy_prev_best_params': False,\n",
    "    'tune_best_params': True,\n",
    "    'save_github': True\n",
    "}"
   ]
  },
  {
   "cell_type": "markdown",
   "id": "7746a41c",
   "metadata": {
    "papermill": {
     "duration": 0.014226,
     "end_time": "2025-01-06T22:44:59.250488",
     "exception": false,
     "start_time": "2025-01-06T22:44:59.236262",
     "status": "completed"
    },
    "tags": []
   },
   "source": [
    "Import the database where previous tuning trials have been saved."
   ]
  },
  {
   "cell_type": "code",
   "execution_count": 8,
   "id": "3355901b",
   "metadata": {
    "execution": {
     "iopub.execute_input": "2025-01-06T22:44:59.280820Z",
     "iopub.status.busy": "2025-01-06T22:44:59.280440Z",
     "iopub.status.idle": "2025-01-06T22:44:59.285951Z",
     "shell.execute_reply": "2025-01-06T22:44:59.284871Z"
    },
    "papermill": {
     "duration": 0.02269,
     "end_time": "2025-01-06T22:44:59.287712",
     "exception": false,
     "start_time": "2025-01-06T22:44:59.265022",
     "status": "completed"
    },
    "tags": []
   },
   "outputs": [],
   "source": [
    "try:\n",
    "    shutil.copyfile(\n",
    "        f'{K_PATH}/{GH_PATH}/{config[\"model\"]}Recommender/Optimizing{config[\"metric\"]}/history_{config[\"model\"]}_{config[\"metric\"]}.db', \n",
    "        config['database_path']\n",
    "    )\n",
    "except FileNotFoundError:\n",
    "    pass # if not present optuna will create it"
   ]
  },
  {
   "cell_type": "markdown",
   "id": "30e34083",
   "metadata": {
    "papermill": {
     "duration": 0.014261,
     "end_time": "2025-01-06T22:44:59.317151",
     "exception": false,
     "start_time": "2025-01-06T22:44:59.302890",
     "status": "completed"
    },
    "tags": []
   },
   "source": [
    "# Construction of URM and ICM matrices"
   ]
  },
  {
   "cell_type": "code",
   "execution_count": 9,
   "id": "3a7a75af",
   "metadata": {
    "execution": {
     "iopub.execute_input": "2025-01-06T22:44:59.347265Z",
     "iopub.status.busy": "2025-01-06T22:44:59.346922Z",
     "iopub.status.idle": "2025-01-06T22:44:59.912311Z",
     "shell.execute_reply": "2025-01-06T22:44:59.911415Z"
    },
    "papermill": {
     "duration": 0.582273,
     "end_time": "2025-01-06T22:44:59.913918",
     "exception": false,
     "start_time": "2025-01-06T22:44:59.331645",
     "status": "completed"
    },
    "tags": []
   },
   "outputs": [
    {
     "data": {
      "text/plain": [
       "<35736x38121 sparse matrix of type '<class 'numpy.float64'>'\n",
       "\twith 1764607 stored elements in Compressed Sparse Row format>"
      ]
     },
     "execution_count": 9,
     "metadata": {},
     "output_type": "execute_result"
    }
   ],
   "source": [
    "URM_all_dataframe = pd.read_csv(\"/kaggle/working/RECsys_Challenge2024/Dataset/data_train.csv\")\n",
    "\n",
    "n_users = len(URM_all_dataframe[\"user_id\"].unique())\n",
    "n_items = len(URM_all_dataframe[\"item_id\"].unique())\n",
    "\n",
    "URM_all = sps.csr_matrix((URM_all_dataframe[\"data\"].values, \n",
    "                          (URM_all_dataframe[\"user_id\"].values, URM_all_dataframe[\"item_id\"].values)),\n",
    "                        shape = (n_users, n_items))\n",
    "\n",
    "URM_all"
   ]
  },
  {
   "cell_type": "code",
   "execution_count": 10,
   "id": "d4c30649",
   "metadata": {
    "execution": {
     "iopub.execute_input": "2025-01-06T22:44:59.945062Z",
     "iopub.status.busy": "2025-01-06T22:44:59.944701Z",
     "iopub.status.idle": "2025-01-06T22:45:00.817998Z",
     "shell.execute_reply": "2025-01-06T22:45:00.816961Z"
    },
    "papermill": {
     "duration": 0.890721,
     "end_time": "2025-01-06T22:45:00.819698",
     "exception": false,
     "start_time": "2025-01-06T22:44:59.928977",
     "status": "completed"
    },
    "tags": []
   },
   "outputs": [
    {
     "data": {
      "text/plain": [
       "<38121x94331 sparse matrix of type '<class 'numpy.float64'>'\n",
       "\twith 2940040 stored elements in Compressed Sparse Row format>"
      ]
     },
     "execution_count": 10,
     "metadata": {},
     "output_type": "execute_result"
    }
   ],
   "source": [
    "ICM_dataframe = pd.read_csv(\"/kaggle/working/RECsys_Challenge2024/Dataset/data_ICM_metadata.csv\")\n",
    "\n",
    "n_items = len(ICM_dataframe[\"item_id\"].unique())\n",
    "n_features = len(ICM_dataframe[\"feature_id\"].unique())\n",
    "\n",
    "ICM_all = sps.csr_matrix((ICM_dataframe[\"data\"].values, \n",
    "                          (ICM_dataframe[\"item_id\"].values, ICM_dataframe[\"feature_id\"].values)),\n",
    "                        shape = (n_items, n_features))\n",
    "\n",
    "ICM_all"
   ]
  },
  {
   "cell_type": "markdown",
   "id": "66b8fd4b",
   "metadata": {
    "papermill": {
     "duration": 0.016961,
     "end_time": "2025-01-06T22:45:00.852055",
     "exception": false,
     "start_time": "2025-01-06T22:45:00.835094",
     "status": "completed"
    },
    "tags": []
   },
   "source": [
    "# Training"
   ]
  },
  {
   "cell_type": "code",
   "execution_count": 11,
   "id": "d58310f5",
   "metadata": {
    "execution": {
     "iopub.execute_input": "2025-01-06T22:45:00.883249Z",
     "iopub.status.busy": "2025-01-06T22:45:00.882911Z",
     "iopub.status.idle": "2025-01-06T22:45:19.183413Z",
     "shell.execute_reply": "2025-01-06T22:45:19.182431Z"
    },
    "papermill": {
     "duration": 18.318508,
     "end_time": "2025-01-06T22:45:19.185325",
     "exception": false,
     "start_time": "2025-01-06T22:45:00.866817",
     "status": "completed"
    },
    "tags": []
   },
   "outputs": [
    {
     "name": "stdout",
     "output_type": "stream",
     "text": [
      "Warning: 141 (0.39 %) of 35736 users have no sampled items\n"
     ]
    }
   ],
   "source": [
    "from Evaluation.Evaluator import EvaluatorHoldout\n",
    "from Data_manager.split_functions.split_train_validation_random_holdout import split_train_in_two_percentage_global_sample\n",
    "from Data_manager.split_functions.split_train_k_folds import split_train_k_folds\n",
    "\n",
    "URM_train, URM_validation = split_train_in_two_percentage_global_sample(URM_all, train_percentage = 0.80)\n",
    "\n",
    "folds = split_train_k_folds(URM_all, k=config['n_folds'])"
   ]
  },
  {
   "cell_type": "code",
   "execution_count": 12,
   "id": "8c28d0eb",
   "metadata": {
    "execution": {
     "iopub.execute_input": "2025-01-06T22:45:19.217467Z",
     "iopub.status.busy": "2025-01-06T22:45:19.217085Z",
     "iopub.status.idle": "2025-01-06T22:45:20.342294Z",
     "shell.execute_reply": "2025-01-06T22:45:20.341427Z"
    },
    "papermill": {
     "duration": 1.143126,
     "end_time": "2025-01-06T22:45:20.344023",
     "exception": false,
     "start_time": "2025-01-06T22:45:19.200897",
     "status": "completed"
    },
    "tags": []
   },
   "outputs": [],
   "source": [
    "from Recommenders.MatrixFactorization.PureSVDRecommender import ScaledPureSVDRecommender\n",
    "\n",
    "def objective_function_ScaledPureSVD(optuna_trial):\n",
    "    \n",
    "    full_hyperp = {\n",
    "                    'num_factors': optuna_trial.suggest_int('num_factors', 1, 2000, log=True),\n",
    "                    'scaling_items': optuna_trial.suggest_float('scaling_items', 1e-2, 2, log=True),\n",
    "                    'scaling_users': optuna_trial.suggest_float('scaling_users', 1e-2, 2, log=True),\n",
    "                  }        \n",
    "    \n",
    "    validation_results = []\n",
    "    \n",
    "    for fold_idx, (URM_train_fold, URM_validation_fold) in enumerate(folds):\n",
    "    \n",
    "        recommender_instance = ScaledPureSVDRecommender(URM_train_fold)\n",
    "        recommender_instance.fit(**full_hyperp)\n",
    "        \n",
    "        evaluator = EvaluatorHoldout(URM_validation_fold, cutoff_list=[10])\n",
    "        result_df, _ = evaluator.evaluateRecommender(recommender_instance)\n",
    "        \n",
    "        validation_results.append(result_df.loc[10][\"MAP\"])\n",
    "    \n",
    "    return np.mean(validation_results)"
   ]
  },
  {
   "cell_type": "code",
   "execution_count": 13,
   "id": "22835641",
   "metadata": {
    "execution": {
     "iopub.execute_input": "2025-01-06T22:45:20.376143Z",
     "iopub.status.busy": "2025-01-06T22:45:20.375544Z",
     "iopub.status.idle": "2025-01-06T23:31:08.962969Z",
     "shell.execute_reply": "2025-01-06T23:31:08.961846Z"
    },
    "papermill": {
     "duration": 2748.604915,
     "end_time": "2025-01-06T23:31:08.964624",
     "exception": false,
     "start_time": "2025-01-06T22:45:20.359709",
     "status": "completed"
    },
    "tags": []
   },
   "outputs": [
    {
     "name": "stderr",
     "output_type": "stream",
     "text": [
      "[I 2025-01-06 22:45:21,360] Using an existing study with name 'hyperparameters_tuning_ScaledPureSVD_MAP' instead of creating a new one.\n"
     ]
    },
    {
     "name": "stdout",
     "output_type": "stream",
     "text": [
      "ScaledPureSVDRecommender: Computing SVD decomposition...\n",
      "ScaledPureSVDRecommender: Computing SVD decomposition... done in 1.37 min\n",
      "EvaluatorHoldout: Ignoring 173 ( 0.5%) Users that have less than 1 test interactions\n",
      "EvaluatorHoldout: Processed 35563 (100.0%) in 1.91 min. Users per second: 310\n",
      "ScaledPureSVDRecommender: Computing SVD decomposition...\n",
      "ScaledPureSVDRecommender: Computing SVD decomposition... done in 1.30 min\n",
      "EvaluatorHoldout: Ignoring 163 ( 0.5%) Users that have less than 1 test interactions\n",
      "EvaluatorHoldout: Processed 35573 (100.0%) in 1.91 min. Users per second: 310\n",
      "ScaledPureSVDRecommender: Computing SVD decomposition...\n",
      "ScaledPureSVDRecommender: Computing SVD decomposition... done in 1.29 min\n",
      "EvaluatorHoldout: Ignoring 150 ( 0.4%) Users that have less than 1 test interactions\n",
      "EvaluatorHoldout: Processed 35586 (100.0%) in 1.91 min. Users per second: 310\n",
      "ScaledPureSVDRecommender: Computing SVD decomposition...\n",
      "ScaledPureSVDRecommender: Computing SVD decomposition... done in 1.30 min\n",
      "EvaluatorHoldout: Ignoring 167 ( 0.5%) Users that have less than 1 test interactions\n",
      "EvaluatorHoldout: Processed 35569 (100.0%) in 1.91 min. Users per second: 311\n",
      "ScaledPureSVDRecommender: Computing SVD decomposition...\n",
      "ScaledPureSVDRecommender: Computing SVD decomposition... done in 1.29 min\n",
      "EvaluatorHoldout: Ignoring 172 ( 0.5%) Users that have less than 1 test interactions\n",
      "EvaluatorHoldout: Processed 35564 (100.0%) in 1.92 min. Users per second: 309\n"
     ]
    },
    {
     "name": "stderr",
     "output_type": "stream",
     "text": [
      "[I 2025-01-06 23:01:29,111] Trial 100 finished with value: 0.03698022485308601 and parameters: {'num_factors': 1065, 'scaling_items': 0.010009703692439614, 'scaling_users': 0.07430544922387046}. Best is trial 64 with value: 0.04041611779585121.\n"
     ]
    },
    {
     "name": "stdout",
     "output_type": "stream",
     "text": [
      "ScaledPureSVDRecommender: Computing SVD decomposition...\n",
      "ScaledPureSVDRecommender: Computing SVD decomposition... done in 2.95 min\n",
      "EvaluatorHoldout: Ignoring 173 ( 0.5%) Users that have less than 1 test interactions\n",
      "EvaluatorHoldout: Processed 35563 (100.0%) in 3.06 min. Users per second: 194\n",
      "ScaledPureSVDRecommender: Computing SVD decomposition...\n",
      "ScaledPureSVDRecommender: Computing SVD decomposition... done in 2.96 min\n",
      "EvaluatorHoldout: Ignoring 163 ( 0.5%) Users that have less than 1 test interactions\n",
      "EvaluatorHoldout: Processed 35573 (100.0%) in 3.00 min. Users per second: 198\n",
      "ScaledPureSVDRecommender: Computing SVD decomposition...\n",
      "ScaledPureSVDRecommender: Computing SVD decomposition... done in 2.90 min\n",
      "EvaluatorHoldout: Ignoring 150 ( 0.4%) Users that have less than 1 test interactions\n",
      "EvaluatorHoldout: Processed 35586 (100.0%) in 3.00 min. Users per second: 198\n",
      "ScaledPureSVDRecommender: Computing SVD decomposition...\n",
      "ScaledPureSVDRecommender: Computing SVD decomposition... done in 2.92 min\n",
      "EvaluatorHoldout: Ignoring 167 ( 0.5%) Users that have less than 1 test interactions\n",
      "EvaluatorHoldout: Processed 35569 (100.0%) in 2.99 min. Users per second: 199\n",
      "ScaledPureSVDRecommender: Computing SVD decomposition...\n",
      "ScaledPureSVDRecommender: Computing SVD decomposition... done in 2.89 min\n",
      "EvaluatorHoldout: Ignoring 172 ( 0.5%) Users that have less than 1 test interactions\n",
      "EvaluatorHoldout: Processed 35564 (100.0%) in 2.98 min. Users per second: 199\n"
     ]
    },
    {
     "name": "stderr",
     "output_type": "stream",
     "text": [
      "[I 2025-01-06 23:31:08,958] Trial 101 finished with value: 0.0401787042659081 and parameters: {'num_factors': 1941, 'scaling_items': 0.017999491123597625, 'scaling_users': 0.058902765679024624}. Best is trial 64 with value: 0.04041611779585121.\n"
     ]
    }
   ],
   "source": [
    "if config['tune_parameters']:\n",
    "    \n",
    "    optuna_study = optuna.create_study(direction='maximize', study_name=f'hyperparameters_tuning_{config[\"model\"]}_{config[\"metric\"]}',\n",
    "                                storage=f'sqlite:///{config[\"database_path\"]}', load_if_exists=True)\n",
    "\n",
    "    optuna_study.optimize(objective_function_ScaledPureSVD, timeout=60 * 40)"
   ]
  },
  {
   "cell_type": "markdown",
   "id": "69264e28",
   "metadata": {
    "papermill": {
     "duration": 0.016865,
     "end_time": "2025-01-06T23:31:08.998387",
     "exception": false,
     "start_time": "2025-01-06T23:31:08.981522",
     "status": "completed"
    },
    "tags": []
   },
   "source": [
    "## Some optuna visualizations on recommender parameters"
   ]
  },
  {
   "cell_type": "code",
   "execution_count": 14,
   "id": "3b70d238",
   "metadata": {
    "execution": {
     "iopub.execute_input": "2025-01-06T23:31:09.033152Z",
     "iopub.status.busy": "2025-01-06T23:31:09.032786Z",
     "iopub.status.idle": "2025-01-06T23:31:10.393765Z",
     "shell.execute_reply": "2025-01-06T23:31:10.392344Z"
    },
    "papermill": {
     "duration": 1.380376,
     "end_time": "2025-01-06T23:31:10.395567",
     "exception": false,
     "start_time": "2025-01-06T23:31:09.015191",
     "status": "completed"
    },
    "tags": []
   },
   "outputs": [
    {
     "data": {
      "text/html": [
       "<html>\n",
       "<head><meta charset=\"utf-8\" /></head>\n",
       "<body>\n",
       "    <div>            <script src=\"https://cdnjs.cloudflare.com/ajax/libs/mathjax/2.7.5/MathJax.js?config=TeX-AMS-MML_SVG\"></script><script type=\"text/javascript\">if (window.MathJax && window.MathJax.Hub && window.MathJax.Hub.Config) {window.MathJax.Hub.Config({SVG: {font: \"STIX-Web\"}});}</script>                <script type=\"text/javascript\">window.PlotlyConfig = {MathJaxConfig: 'local'};</script>\n",
       "        <script charset=\"utf-8\" src=\"https://cdn.plot.ly/plotly-2.35.2.min.js\"></script>                <div id=\"55e645c5-82c1-4b68-9a94-9b62fe0c3e88\" class=\"plotly-graph-div\" style=\"height:525px; width:100%;\"></div>            <script type=\"text/javascript\">                                    window.PLOTLYENV=window.PLOTLYENV || {};                                    if (document.getElementById(\"55e645c5-82c1-4b68-9a94-9b62fe0c3e88\")) {                    Plotly.newPlot(                        \"55e645c5-82c1-4b68-9a94-9b62fe0c3e88\",                        [{\"marker\":{\"color\":[0,1,2,3,4,5,6,7,8,9,10,11,12,13,14,15,16,17,18,19,20,21,22,23,24,25,26,27,28,29,30,31,32,33,34,35,36,37,38,39,40,41,42,43,44,45,46,47,48,49,50,51,52,53,54,55,56,57,58,59,60,61,62,63,64,65,66,67,68,69,70,71,72,73,74,75,76,77,78,79,80,81,82,83,84,85,86,87,88,89,90,91,92,93,94,95,96,97,98,99,100,101],\"colorbar\":{\"title\":{\"text\":\"Trial\"},\"x\":1.0,\"xpad\":40},\"colorscale\":[[0.0,\"rgb(247,251,255)\"],[0.125,\"rgb(222,235,247)\"],[0.25,\"rgb(198,219,239)\"],[0.375,\"rgb(158,202,225)\"],[0.5,\"rgb(107,174,214)\"],[0.625,\"rgb(66,146,198)\"],[0.75,\"rgb(33,113,181)\"],[0.875,\"rgb(8,81,156)\"],[1.0,\"rgb(8,48,107)\"]],\"line\":{\"color\":\"Grey\",\"width\":0.5},\"showscale\":true},\"mode\":\"markers\",\"name\":\"Feasible Trial\",\"showlegend\":false,\"x\":[41,6,2,137,7,20,1,1,1106,1,366,242,228,260,1522,1787,1768,760,74,641,1247,1255,1873,480,807,117,740,685,718,27,61,693,434,147,587,284,11,3,145,882,1056,983,1069,1029,1071,424,1058,334,195,1089,1959,1967,1889,1882,1938,1971,1914,1414,1525,1971,534,1597,1909,1420,1996,1483,1394,828,1992,1325,1990,1331,1887,629,848,1529,1214,530,869,5,1633,1996,1993,1247,1625,1214,17,55,945,717,1658,1986,1643,1979,1191,963,2,1303,1622,1992,1065,1941],\"y\":[0.007138301506590852,0.004995323826639392,0.0007283453813908277,0.021462698361031745,0.006493834972167723,0.011123684924482354,0.0009230412911014413,0.0023156165793570883,0.01416471597584081,0.0009638189351730767,0.024214711241833314,0.021247008901816,0.0201480518216365,0.02277538495896412,0.03217330506858227,0.029198820675572185,0.02633523163912769,0.02499016269242512,0.006626672202153341,0.016767390517934938,0.029143548373414728,0.031177530979560976,0.03291997864697201,0.02622349664370243,0.033366822064820056,0.020359152727334635,0.03401375422913715,0.03377093184749998,0.034058903828334076,0.01320252718610213,0.017095413450646114,0.0345890422492219,0.031334513314914506,0.023110175534543354,0.03318860344239326,0.027397395283723026,0.008177181752265603,0.005038427149014339,0.009355898490289071,0.03611661867808101,0.036741060665780846,0.03682417368585797,0.03604077143431082,0.035994724823370926,0.035932884681290356,0.02973130765459414,0.03699934341616755,0.02899451100673976,0.022422861179835548,0.029101180043909724,0.04013001711822456,0.04005471059122628,0.040029630162754244,0.03998196755144543,0.03987483853118087,0.039888327267669256,0.03981862934445178,0.03785861644025194,0.03805046647253823,0.0402735539662995,0.03268694360492637,0.03939902299706336,0.040131357357452935,0.038799618502475236,0.04041611779585121,0.03872199780469813,0.03877237895264289,0.03373529042871418,0.03998821146431401,0.03534322292557127,0.04020270029263321,0.038193160755752624,0.039946971506624025,0.033057150441044084,0.03559787734061746,0.03939336560257084,0.03740837907660084,0.03145284408719162,0.01844519856559669,0.005491513977846925,0.03947411014032427,0.040275288205559215,0.04033462425809144,0.03792283459835607,0.03926917629203775,0.03808032948747717,0.010074151871353468,0.006708161954004518,0.03626123451486814,0.034724535189529095,0.03854756836790883,0.04005963194123876,0.039048725561758216,0.040321239985895915,0.03727880419019882,0.03622079398216823,0.0038423444018230854,0.03849417785225277,0.03520687358706711,0.04017868945540429,0.03698022485308601,0.0401787042659081],\"type\":\"scatter\",\"xaxis\":\"x\",\"yaxis\":\"y\"},{\"marker\":{\"color\":[0,1,2,3,4,5,6,7,8,9,10,11,12,13,14,15,16,17,18,19,20,21,22,23,24,25,26,27,28,29,30,31,32,33,34,35,36,37,38,39,40,41,42,43,44,45,46,47,48,49,50,51,52,53,54,55,56,57,58,59,60,61,62,63,64,65,66,67,68,69,70,71,72,73,74,75,76,77,78,79,80,81,82,83,84,85,86,87,88,89,90,91,92,93,94,95,96,97,98,99,100,101],\"colorbar\":{\"title\":{\"text\":\"Trial\"},\"x\":1.0,\"xpad\":40},\"colorscale\":[[0.0,\"rgb(247,251,255)\"],[0.125,\"rgb(222,235,247)\"],[0.25,\"rgb(198,219,239)\"],[0.375,\"rgb(158,202,225)\"],[0.5,\"rgb(107,174,214)\"],[0.625,\"rgb(66,146,198)\"],[0.75,\"rgb(33,113,181)\"],[0.875,\"rgb(8,81,156)\"],[1.0,\"rgb(8,48,107)\"]],\"line\":{\"color\":\"Grey\",\"width\":0.5},\"showscale\":false},\"mode\":\"markers\",\"name\":\"Feasible Trial\",\"showlegend\":false,\"x\":[0.09202742716266923,0.868393617506134,0.02061939864679692,0.01629082741114409,0.3736530922004886,0.01281183095889387,0.04363666413112088,0.010043453604647666,1.6412757228533665,0.012031348797843894,0.13796320017043617,0.18128170681376365,0.04432893169203986,0.21448372725333556,0.2780136672599498,0.4516495058544892,0.6053547634338963,0.4219081432719116,1.774345462839338,0.9566005082326594,0.365907052857316,0.2795419608325479,0.29108884480967073,0.2510439875798354,0.1068672553664196,0.09932152264137764,0.06277927627308437,0.051897690716315566,0.05402301522999003,0.05362794308097185,0.06461260632388367,0.025661787995754082,0.027644549507346912,0.026353685544624982,0.032845929618108026,0.0668152258555104,0.018144352277502263,0.07756528619528423,0.038000011797896915,0.022349089638774265,0.022960048618530734,0.02252763701523418,0.023093030879129776,0.01476378422454059,0.01452082108180358,0.020623750172124488,0.011358252879745574,0.010215067653437875,0.020657461817122903,0.012508623971645,0.01728957763878379,0.0226769727448233,0.016567050266179648,0.017362138279340498,0.017369047285900115,0.017267413342080363,0.01610328303630667,0.030478580067107002,0.03778609853185361,0.017683924350255252,0.013624220148179305,0.017402397358566284,0.016743797569928304,0.011731305633212783,0.01011292858061108,0.013616493547879426,0.010101869437370485,0.03543120433761862,0.02805211889585848,0.12796809758471644,0.029298560818569474,0.030149401623337197,0.02617840849611099,0.044216648019870665,0.01497019422882869,0.011591465477744709,0.01923805305155287,0.02788378258566558,0.9244683535347976,0.01970467159943001,0.023679988969597318,0.01637775739690773,0.015503642423657706,0.015616555759792698,0.013221009023557193,0.01090102863124757,0.012379697266399451,1.3924943369978349,0.020610971633353046,0.01907741327116594,0.014912380661022634,0.024110041934151453,0.02445423755804133,0.016316861995002423,0.03242833623917281,0.021446806989726726,0.013266259690556236,0.015646346440172,0.17330380279003743,0.017923832222814268,0.010009703692439614,0.017999491123597625],\"y\":[0.007138301506590852,0.004995323826639392,0.0007283453813908277,0.021462698361031745,0.006493834972167723,0.011123684924482354,0.0009230412911014413,0.0023156165793570883,0.01416471597584081,0.0009638189351730767,0.024214711241833314,0.021247008901816,0.0201480518216365,0.02277538495896412,0.03217330506858227,0.029198820675572185,0.02633523163912769,0.02499016269242512,0.006626672202153341,0.016767390517934938,0.029143548373414728,0.031177530979560976,0.03291997864697201,0.02622349664370243,0.033366822064820056,0.020359152727334635,0.03401375422913715,0.03377093184749998,0.034058903828334076,0.01320252718610213,0.017095413450646114,0.0345890422492219,0.031334513314914506,0.023110175534543354,0.03318860344239326,0.027397395283723026,0.008177181752265603,0.005038427149014339,0.009355898490289071,0.03611661867808101,0.036741060665780846,0.03682417368585797,0.03604077143431082,0.035994724823370926,0.035932884681290356,0.02973130765459414,0.03699934341616755,0.02899451100673976,0.022422861179835548,0.029101180043909724,0.04013001711822456,0.04005471059122628,0.040029630162754244,0.03998196755144543,0.03987483853118087,0.039888327267669256,0.03981862934445178,0.03785861644025194,0.03805046647253823,0.0402735539662995,0.03268694360492637,0.03939902299706336,0.040131357357452935,0.038799618502475236,0.04041611779585121,0.03872199780469813,0.03877237895264289,0.03373529042871418,0.03998821146431401,0.03534322292557127,0.04020270029263321,0.038193160755752624,0.039946971506624025,0.033057150441044084,0.03559787734061746,0.03939336560257084,0.03740837907660084,0.03145284408719162,0.01844519856559669,0.005491513977846925,0.03947411014032427,0.040275288205559215,0.04033462425809144,0.03792283459835607,0.03926917629203775,0.03808032948747717,0.010074151871353468,0.006708161954004518,0.03626123451486814,0.034724535189529095,0.03854756836790883,0.04005963194123876,0.039048725561758216,0.040321239985895915,0.03727880419019882,0.03622079398216823,0.0038423444018230854,0.03849417785225277,0.03520687358706711,0.04017868945540429,0.03698022485308601,0.0401787042659081],\"type\":\"scatter\",\"xaxis\":\"x2\",\"yaxis\":\"y2\"},{\"marker\":{\"color\":[0,1,2,3,4,5,6,7,8,9,10,11,12,13,14,15,16,17,18,19,20,21,22,23,24,25,26,27,28,29,30,31,32,33,34,35,36,37,38,39,40,41,42,43,44,45,46,47,48,49,50,51,52,53,54,55,56,57,58,59,60,61,62,63,64,65,66,67,68,69,70,71,72,73,74,75,76,77,78,79,80,81,82,83,84,85,86,87,88,89,90,91,92,93,94,95,96,97,98,99,100,101],\"colorbar\":{\"title\":{\"text\":\"Trial\"},\"x\":1.0,\"xpad\":40},\"colorscale\":[[0.0,\"rgb(247,251,255)\"],[0.125,\"rgb(222,235,247)\"],[0.25,\"rgb(198,219,239)\"],[0.375,\"rgb(158,202,225)\"],[0.5,\"rgb(107,174,214)\"],[0.625,\"rgb(66,146,198)\"],[0.75,\"rgb(33,113,181)\"],[0.875,\"rgb(8,81,156)\"],[1.0,\"rgb(8,48,107)\"]],\"line\":{\"color\":\"Grey\",\"width\":0.5},\"showscale\":false},\"mode\":\"markers\",\"name\":\"Feasible Trial\",\"showlegend\":false,\"x\":[1.1601875260504637,0.016890764356669752,1.309899141112828,0.11867455348280095,0.02749832611061046,0.08017910325832754,0.8683080791947823,0.02709470253146698,0.09118264766133041,0.20034461016814362,0.3171898960708655,0.3033784380501289,0.4143972159468795,0.0845596855823325,0.0465564572928155,0.03849816418295613,0.04713046244579731,0.012489329398582693,0.04781739050513421,0.02738046317945312,0.0567771082719638,0.04536382719589303,0.019467884035811626,0.010071126525594647,0.017462803648256905,0.0203845103051869,0.01646737054990977,0.01718808139075456,0.013943589332504358,0.011993171213784203,0.03067521192826745,0.015008622751071078,0.014023213395014928,0.016600413596585914,0.02141823128233032,0.010544774535610181,0.03406498739490553,0.023895873182147243,1.687593735367871,0.014108179368975649,0.0659323836078526,0.01492612670935785,0.1328950225466458,0.1281281377324726,0.1589271772058308,0.12769126231370645,0.06848055117020743,0.0754131233768062,0.19696534147656983,0.694091456002227,0.07074029668808823,0.06612545853922586,0.06523580800615364,0.07066698544136316,0.0941492577981987,0.10046007299698698,0.09418013874250344,0.10009629852231713,0.1048198144100635,0.058587313231889815,0.057669170921512525,0.03992114697525159,0.05893024199005129,0.05647953883180041,0.0736100575551587,0.08137170570827891,0.055114639584153066,0.1625371192363614,0.06839036446314771,0.04584608315648025,0.03765996487332113,0.033478811207168405,0.04227215763793553,0.05286749609114225,0.06438034056030162,0.03574947464660301,0.08592714609141397,0.11535994978228035,0.025403033451039156,0.05029148921443409,0.03021768068995849,0.07191405346578975,0.06688601669544914,0.06188904166719779,0.07708934971796545,0.043067629464241364,0.11379032803651147,0.08065630579797244,0.048606920179259,0.039015953274806,0.15192081518772513,0.06897266927461576,0.07418209211507708,0.06301693336396262,0.052233332309551725,0.060046993433083826,0.08854701774541149,0.029620082232232895,0.036072872030645284,0.07240109851408531,0.07430544922387046,0.058902765679024624],\"y\":[0.007138301506590852,0.004995323826639392,0.0007283453813908277,0.021462698361031745,0.006493834972167723,0.011123684924482354,0.0009230412911014413,0.0023156165793570883,0.01416471597584081,0.0009638189351730767,0.024214711241833314,0.021247008901816,0.0201480518216365,0.02277538495896412,0.03217330506858227,0.029198820675572185,0.02633523163912769,0.02499016269242512,0.006626672202153341,0.016767390517934938,0.029143548373414728,0.031177530979560976,0.03291997864697201,0.02622349664370243,0.033366822064820056,0.020359152727334635,0.03401375422913715,0.03377093184749998,0.034058903828334076,0.01320252718610213,0.017095413450646114,0.0345890422492219,0.031334513314914506,0.023110175534543354,0.03318860344239326,0.027397395283723026,0.008177181752265603,0.005038427149014339,0.009355898490289071,0.03611661867808101,0.036741060665780846,0.03682417368585797,0.03604077143431082,0.035994724823370926,0.035932884681290356,0.02973130765459414,0.03699934341616755,0.02899451100673976,0.022422861179835548,0.029101180043909724,0.04013001711822456,0.04005471059122628,0.040029630162754244,0.03998196755144543,0.03987483853118087,0.039888327267669256,0.03981862934445178,0.03785861644025194,0.03805046647253823,0.0402735539662995,0.03268694360492637,0.03939902299706336,0.040131357357452935,0.038799618502475236,0.04041611779585121,0.03872199780469813,0.03877237895264289,0.03373529042871418,0.03998821146431401,0.03534322292557127,0.04020270029263321,0.038193160755752624,0.039946971506624025,0.033057150441044084,0.03559787734061746,0.03939336560257084,0.03740837907660084,0.03145284408719162,0.01844519856559669,0.005491513977846925,0.03947411014032427,0.040275288205559215,0.04033462425809144,0.03792283459835607,0.03926917629203775,0.03808032948747717,0.010074151871353468,0.006708161954004518,0.03626123451486814,0.034724535189529095,0.03854756836790883,0.04005963194123876,0.039048725561758216,0.040321239985895915,0.03727880419019882,0.03622079398216823,0.0038423444018230854,0.03849417785225277,0.03520687358706711,0.04017868945540429,0.03698022485308601,0.0401787042659081],\"type\":\"scatter\",\"xaxis\":\"x3\",\"yaxis\":\"y3\"}],                        {\"template\":{\"data\":{\"histogram2dcontour\":[{\"type\":\"histogram2dcontour\",\"colorbar\":{\"outlinewidth\":0,\"ticks\":\"\"},\"colorscale\":[[0.0,\"#0d0887\"],[0.1111111111111111,\"#46039f\"],[0.2222222222222222,\"#7201a8\"],[0.3333333333333333,\"#9c179e\"],[0.4444444444444444,\"#bd3786\"],[0.5555555555555556,\"#d8576b\"],[0.6666666666666666,\"#ed7953\"],[0.7777777777777778,\"#fb9f3a\"],[0.8888888888888888,\"#fdca26\"],[1.0,\"#f0f921\"]]}],\"choropleth\":[{\"type\":\"choropleth\",\"colorbar\":{\"outlinewidth\":0,\"ticks\":\"\"}}],\"histogram2d\":[{\"type\":\"histogram2d\",\"colorbar\":{\"outlinewidth\":0,\"ticks\":\"\"},\"colorscale\":[[0.0,\"#0d0887\"],[0.1111111111111111,\"#46039f\"],[0.2222222222222222,\"#7201a8\"],[0.3333333333333333,\"#9c179e\"],[0.4444444444444444,\"#bd3786\"],[0.5555555555555556,\"#d8576b\"],[0.6666666666666666,\"#ed7953\"],[0.7777777777777778,\"#fb9f3a\"],[0.8888888888888888,\"#fdca26\"],[1.0,\"#f0f921\"]]}],\"heatmap\":[{\"type\":\"heatmap\",\"colorbar\":{\"outlinewidth\":0,\"ticks\":\"\"},\"colorscale\":[[0.0,\"#0d0887\"],[0.1111111111111111,\"#46039f\"],[0.2222222222222222,\"#7201a8\"],[0.3333333333333333,\"#9c179e\"],[0.4444444444444444,\"#bd3786\"],[0.5555555555555556,\"#d8576b\"],[0.6666666666666666,\"#ed7953\"],[0.7777777777777778,\"#fb9f3a\"],[0.8888888888888888,\"#fdca26\"],[1.0,\"#f0f921\"]]}],\"heatmapgl\":[{\"type\":\"heatmapgl\",\"colorbar\":{\"outlinewidth\":0,\"ticks\":\"\"},\"colorscale\":[[0.0,\"#0d0887\"],[0.1111111111111111,\"#46039f\"],[0.2222222222222222,\"#7201a8\"],[0.3333333333333333,\"#9c179e\"],[0.4444444444444444,\"#bd3786\"],[0.5555555555555556,\"#d8576b\"],[0.6666666666666666,\"#ed7953\"],[0.7777777777777778,\"#fb9f3a\"],[0.8888888888888888,\"#fdca26\"],[1.0,\"#f0f921\"]]}],\"contourcarpet\":[{\"type\":\"contourcarpet\",\"colorbar\":{\"outlinewidth\":0,\"ticks\":\"\"}}],\"contour\":[{\"type\":\"contour\",\"colorbar\":{\"outlinewidth\":0,\"ticks\":\"\"},\"colorscale\":[[0.0,\"#0d0887\"],[0.1111111111111111,\"#46039f\"],[0.2222222222222222,\"#7201a8\"],[0.3333333333333333,\"#9c179e\"],[0.4444444444444444,\"#bd3786\"],[0.5555555555555556,\"#d8576b\"],[0.6666666666666666,\"#ed7953\"],[0.7777777777777778,\"#fb9f3a\"],[0.8888888888888888,\"#fdca26\"],[1.0,\"#f0f921\"]]}],\"surface\":[{\"type\":\"surface\",\"colorbar\":{\"outlinewidth\":0,\"ticks\":\"\"},\"colorscale\":[[0.0,\"#0d0887\"],[0.1111111111111111,\"#46039f\"],[0.2222222222222222,\"#7201a8\"],[0.3333333333333333,\"#9c179e\"],[0.4444444444444444,\"#bd3786\"],[0.5555555555555556,\"#d8576b\"],[0.6666666666666666,\"#ed7953\"],[0.7777777777777778,\"#fb9f3a\"],[0.8888888888888888,\"#fdca26\"],[1.0,\"#f0f921\"]]}],\"mesh3d\":[{\"type\":\"mesh3d\",\"colorbar\":{\"outlinewidth\":0,\"ticks\":\"\"}}],\"scatter\":[{\"fillpattern\":{\"fillmode\":\"overlay\",\"size\":10,\"solidity\":0.2},\"type\":\"scatter\"}],\"parcoords\":[{\"type\":\"parcoords\",\"line\":{\"colorbar\":{\"outlinewidth\":0,\"ticks\":\"\"}}}],\"scatterpolargl\":[{\"type\":\"scatterpolargl\",\"marker\":{\"colorbar\":{\"outlinewidth\":0,\"ticks\":\"\"}}}],\"bar\":[{\"error_x\":{\"color\":\"#2a3f5f\"},\"error_y\":{\"color\":\"#2a3f5f\"},\"marker\":{\"line\":{\"color\":\"#E5ECF6\",\"width\":0.5},\"pattern\":{\"fillmode\":\"overlay\",\"size\":10,\"solidity\":0.2}},\"type\":\"bar\"}],\"scattergeo\":[{\"type\":\"scattergeo\",\"marker\":{\"colorbar\":{\"outlinewidth\":0,\"ticks\":\"\"}}}],\"scatterpolar\":[{\"type\":\"scatterpolar\",\"marker\":{\"colorbar\":{\"outlinewidth\":0,\"ticks\":\"\"}}}],\"histogram\":[{\"marker\":{\"pattern\":{\"fillmode\":\"overlay\",\"size\":10,\"solidity\":0.2}},\"type\":\"histogram\"}],\"scattergl\":[{\"type\":\"scattergl\",\"marker\":{\"colorbar\":{\"outlinewidth\":0,\"ticks\":\"\"}}}],\"scatter3d\":[{\"type\":\"scatter3d\",\"line\":{\"colorbar\":{\"outlinewidth\":0,\"ticks\":\"\"}},\"marker\":{\"colorbar\":{\"outlinewidth\":0,\"ticks\":\"\"}}}],\"scattermapbox\":[{\"type\":\"scattermapbox\",\"marker\":{\"colorbar\":{\"outlinewidth\":0,\"ticks\":\"\"}}}],\"scatterternary\":[{\"type\":\"scatterternary\",\"marker\":{\"colorbar\":{\"outlinewidth\":0,\"ticks\":\"\"}}}],\"scattercarpet\":[{\"type\":\"scattercarpet\",\"marker\":{\"colorbar\":{\"outlinewidth\":0,\"ticks\":\"\"}}}],\"carpet\":[{\"aaxis\":{\"endlinecolor\":\"#2a3f5f\",\"gridcolor\":\"white\",\"linecolor\":\"white\",\"minorgridcolor\":\"white\",\"startlinecolor\":\"#2a3f5f\"},\"baxis\":{\"endlinecolor\":\"#2a3f5f\",\"gridcolor\":\"white\",\"linecolor\":\"white\",\"minorgridcolor\":\"white\",\"startlinecolor\":\"#2a3f5f\"},\"type\":\"carpet\"}],\"table\":[{\"cells\":{\"fill\":{\"color\":\"#EBF0F8\"},\"line\":{\"color\":\"white\"}},\"header\":{\"fill\":{\"color\":\"#C8D4E3\"},\"line\":{\"color\":\"white\"}},\"type\":\"table\"}],\"barpolar\":[{\"marker\":{\"line\":{\"color\":\"#E5ECF6\",\"width\":0.5},\"pattern\":{\"fillmode\":\"overlay\",\"size\":10,\"solidity\":0.2}},\"type\":\"barpolar\"}],\"pie\":[{\"automargin\":true,\"type\":\"pie\"}]},\"layout\":{\"autotypenumbers\":\"strict\",\"colorway\":[\"#636efa\",\"#EF553B\",\"#00cc96\",\"#ab63fa\",\"#FFA15A\",\"#19d3f3\",\"#FF6692\",\"#B6E880\",\"#FF97FF\",\"#FECB52\"],\"font\":{\"color\":\"#2a3f5f\"},\"hovermode\":\"closest\",\"hoverlabel\":{\"align\":\"left\"},\"paper_bgcolor\":\"white\",\"plot_bgcolor\":\"#E5ECF6\",\"polar\":{\"bgcolor\":\"#E5ECF6\",\"angularaxis\":{\"gridcolor\":\"white\",\"linecolor\":\"white\",\"ticks\":\"\"},\"radialaxis\":{\"gridcolor\":\"white\",\"linecolor\":\"white\",\"ticks\":\"\"}},\"ternary\":{\"bgcolor\":\"#E5ECF6\",\"aaxis\":{\"gridcolor\":\"white\",\"linecolor\":\"white\",\"ticks\":\"\"},\"baxis\":{\"gridcolor\":\"white\",\"linecolor\":\"white\",\"ticks\":\"\"},\"caxis\":{\"gridcolor\":\"white\",\"linecolor\":\"white\",\"ticks\":\"\"}},\"coloraxis\":{\"colorbar\":{\"outlinewidth\":0,\"ticks\":\"\"}},\"colorscale\":{\"sequential\":[[0.0,\"#0d0887\"],[0.1111111111111111,\"#46039f\"],[0.2222222222222222,\"#7201a8\"],[0.3333333333333333,\"#9c179e\"],[0.4444444444444444,\"#bd3786\"],[0.5555555555555556,\"#d8576b\"],[0.6666666666666666,\"#ed7953\"],[0.7777777777777778,\"#fb9f3a\"],[0.8888888888888888,\"#fdca26\"],[1.0,\"#f0f921\"]],\"sequentialminus\":[[0.0,\"#0d0887\"],[0.1111111111111111,\"#46039f\"],[0.2222222222222222,\"#7201a8\"],[0.3333333333333333,\"#9c179e\"],[0.4444444444444444,\"#bd3786\"],[0.5555555555555556,\"#d8576b\"],[0.6666666666666666,\"#ed7953\"],[0.7777777777777778,\"#fb9f3a\"],[0.8888888888888888,\"#fdca26\"],[1.0,\"#f0f921\"]],\"diverging\":[[0,\"#8e0152\"],[0.1,\"#c51b7d\"],[0.2,\"#de77ae\"],[0.3,\"#f1b6da\"],[0.4,\"#fde0ef\"],[0.5,\"#f7f7f7\"],[0.6,\"#e6f5d0\"],[0.7,\"#b8e186\"],[0.8,\"#7fbc41\"],[0.9,\"#4d9221\"],[1,\"#276419\"]]},\"xaxis\":{\"gridcolor\":\"white\",\"linecolor\":\"white\",\"ticks\":\"\",\"title\":{\"standoff\":15},\"zerolinecolor\":\"white\",\"automargin\":true,\"zerolinewidth\":2},\"yaxis\":{\"gridcolor\":\"white\",\"linecolor\":\"white\",\"ticks\":\"\",\"title\":{\"standoff\":15},\"zerolinecolor\":\"white\",\"automargin\":true,\"zerolinewidth\":2},\"scene\":{\"xaxis\":{\"backgroundcolor\":\"#E5ECF6\",\"gridcolor\":\"white\",\"linecolor\":\"white\",\"showbackground\":true,\"ticks\":\"\",\"zerolinecolor\":\"white\",\"gridwidth\":2},\"yaxis\":{\"backgroundcolor\":\"#E5ECF6\",\"gridcolor\":\"white\",\"linecolor\":\"white\",\"showbackground\":true,\"ticks\":\"\",\"zerolinecolor\":\"white\",\"gridwidth\":2},\"zaxis\":{\"backgroundcolor\":\"#E5ECF6\",\"gridcolor\":\"white\",\"linecolor\":\"white\",\"showbackground\":true,\"ticks\":\"\",\"zerolinecolor\":\"white\",\"gridwidth\":2}},\"shapedefaults\":{\"line\":{\"color\":\"#2a3f5f\"}},\"annotationdefaults\":{\"arrowcolor\":\"#2a3f5f\",\"arrowhead\":0,\"arrowwidth\":1},\"geo\":{\"bgcolor\":\"white\",\"landcolor\":\"#E5ECF6\",\"subunitcolor\":\"white\",\"showland\":true,\"showlakes\":true,\"lakecolor\":\"white\"},\"title\":{\"x\":0.05},\"mapbox\":{\"style\":\"light\"}}},\"xaxis\":{\"anchor\":\"y\",\"domain\":[0.0,0.2888888888888889],\"title\":{\"text\":\"num_factors\"},\"type\":\"log\"},\"yaxis\":{\"anchor\":\"x\",\"domain\":[0.0,1.0],\"title\":{\"text\":\"Objective Value\"}},\"xaxis2\":{\"anchor\":\"y2\",\"domain\":[0.35555555555555557,0.6444444444444445],\"title\":{\"text\":\"scaling_items\"},\"type\":\"log\"},\"yaxis2\":{\"anchor\":\"x2\",\"domain\":[0.0,1.0],\"matches\":\"y\",\"showticklabels\":false},\"xaxis3\":{\"anchor\":\"y3\",\"domain\":[0.7111111111111111,1.0],\"title\":{\"text\":\"scaling_users\"},\"type\":\"log\"},\"yaxis3\":{\"anchor\":\"x3\",\"domain\":[0.0,1.0],\"matches\":\"y\",\"showticklabels\":false},\"title\":{\"text\":\"Slice Plot\"}},                        {\"responsive\": true}                    ).then(function(){\n",
       "                            \n",
       "var gd = document.getElementById('55e645c5-82c1-4b68-9a94-9b62fe0c3e88');\n",
       "var x = new MutationObserver(function (mutations, observer) {{\n",
       "        var display = window.getComputedStyle(gd).display;\n",
       "        if (!display || display === 'none') {{\n",
       "            console.log([gd, 'removed!']);\n",
       "            Plotly.purge(gd);\n",
       "            observer.disconnect();\n",
       "        }}\n",
       "}});\n",
       "\n",
       "// Listen for the removal of the full notebook cells\n",
       "var notebookContainer = gd.closest('#notebook-container');\n",
       "if (notebookContainer) {{\n",
       "    x.observe(notebookContainer, {childList: true});\n",
       "}}\n",
       "\n",
       "// Listen for the clearing of the current output cell\n",
       "var outputEl = gd.closest('.output');\n",
       "if (outputEl) {{\n",
       "    x.observe(outputEl, {childList: true});\n",
       "}}\n",
       "\n",
       "                        })                };                            </script>        </div>\n",
       "</body>\n",
       "</html>"
      ]
     },
     "metadata": {},
     "output_type": "display_data"
    }
   ],
   "source": [
    "if not config['tune_parameters']:\n",
    "    optuna_study = optuna.load_study(study_name=f'hyperparameters_tuning_{config[\"model\"]}_{config[\"metric\"]}', storage=f'sqlite:///{config[\"database_path\"]}')\n",
    "    \n",
    "fig = optuna.visualization.plot_slice(optuna_study)\n",
    "fig.show()"
   ]
  },
  {
   "cell_type": "code",
   "execution_count": 15,
   "id": "471e7c67",
   "metadata": {
    "execution": {
     "iopub.execute_input": "2025-01-06T23:31:10.432548Z",
     "iopub.status.busy": "2025-01-06T23:31:10.432149Z",
     "iopub.status.idle": "2025-01-06T23:31:11.850093Z",
     "shell.execute_reply": "2025-01-06T23:31:11.848769Z"
    },
    "papermill": {
     "duration": 1.43858,
     "end_time": "2025-01-06T23:31:11.851991",
     "exception": false,
     "start_time": "2025-01-06T23:31:10.413411",
     "status": "completed"
    },
    "tags": []
   },
   "outputs": [
    {
     "data": {
      "text/html": [
       "<html>\n",
       "<head><meta charset=\"utf-8\" /></head>\n",
       "<body>\n",
       "    <div>            <script src=\"https://cdnjs.cloudflare.com/ajax/libs/mathjax/2.7.5/MathJax.js?config=TeX-AMS-MML_SVG\"></script><script type=\"text/javascript\">if (window.MathJax && window.MathJax.Hub && window.MathJax.Hub.Config) {window.MathJax.Hub.Config({SVG: {font: \"STIX-Web\"}});}</script>                <script type=\"text/javascript\">window.PlotlyConfig = {MathJaxConfig: 'local'};</script>\n",
       "        <script charset=\"utf-8\" src=\"https://cdn.plot.ly/plotly-2.35.2.min.js\"></script>                <div id=\"67f395ec-d7c1-4a9d-b071-4f9a21be219d\" class=\"plotly-graph-div\" style=\"height:525px; width:100%;\"></div>            <script type=\"text/javascript\">                                    window.PLOTLYENV=window.PLOTLYENV || {};                                    if (document.getElementById(\"67f395ec-d7c1-4a9d-b071-4f9a21be219d\")) {                    Plotly.newPlot(                        \"67f395ec-d7c1-4a9d-b071-4f9a21be219d\",                        [{\"cliponaxis\":false,\"hovertemplate\":[\"scaling_users (FloatDistribution): 0.006598764755099147\\u003cextra\\u003e\\u003c\\u002fextra\\u003e\",\"num_factors (IntDistribution): 0.47917122314882726\\u003cextra\\u003e\\u003c\\u002fextra\\u003e\",\"scaling_items (FloatDistribution): 0.5142300120960736\\u003cextra\\u003e\\u003c\\u002fextra\\u003e\"],\"name\":\"Objective Value\",\"orientation\":\"h\",\"text\":[\"\\u003c0.01\",\"0.48\",\"0.51\"],\"textposition\":\"outside\",\"x\":[0.006598764755099147,0.47917122314882726,0.5142300120960736],\"y\":[\"scaling_users\",\"num_factors\",\"scaling_items\"],\"type\":\"bar\"}],                        {\"title\":{\"text\":\"Hyperparameter Importances\"},\"xaxis\":{\"title\":{\"text\":\"Hyperparameter Importance\"}},\"yaxis\":{\"title\":{\"text\":\"Hyperparameter\"}},\"template\":{\"data\":{\"histogram2dcontour\":[{\"type\":\"histogram2dcontour\",\"colorbar\":{\"outlinewidth\":0,\"ticks\":\"\"},\"colorscale\":[[0.0,\"#0d0887\"],[0.1111111111111111,\"#46039f\"],[0.2222222222222222,\"#7201a8\"],[0.3333333333333333,\"#9c179e\"],[0.4444444444444444,\"#bd3786\"],[0.5555555555555556,\"#d8576b\"],[0.6666666666666666,\"#ed7953\"],[0.7777777777777778,\"#fb9f3a\"],[0.8888888888888888,\"#fdca26\"],[1.0,\"#f0f921\"]]}],\"choropleth\":[{\"type\":\"choropleth\",\"colorbar\":{\"outlinewidth\":0,\"ticks\":\"\"}}],\"histogram2d\":[{\"type\":\"histogram2d\",\"colorbar\":{\"outlinewidth\":0,\"ticks\":\"\"},\"colorscale\":[[0.0,\"#0d0887\"],[0.1111111111111111,\"#46039f\"],[0.2222222222222222,\"#7201a8\"],[0.3333333333333333,\"#9c179e\"],[0.4444444444444444,\"#bd3786\"],[0.5555555555555556,\"#d8576b\"],[0.6666666666666666,\"#ed7953\"],[0.7777777777777778,\"#fb9f3a\"],[0.8888888888888888,\"#fdca26\"],[1.0,\"#f0f921\"]]}],\"heatmap\":[{\"type\":\"heatmap\",\"colorbar\":{\"outlinewidth\":0,\"ticks\":\"\"},\"colorscale\":[[0.0,\"#0d0887\"],[0.1111111111111111,\"#46039f\"],[0.2222222222222222,\"#7201a8\"],[0.3333333333333333,\"#9c179e\"],[0.4444444444444444,\"#bd3786\"],[0.5555555555555556,\"#d8576b\"],[0.6666666666666666,\"#ed7953\"],[0.7777777777777778,\"#fb9f3a\"],[0.8888888888888888,\"#fdca26\"],[1.0,\"#f0f921\"]]}],\"heatmapgl\":[{\"type\":\"heatmapgl\",\"colorbar\":{\"outlinewidth\":0,\"ticks\":\"\"},\"colorscale\":[[0.0,\"#0d0887\"],[0.1111111111111111,\"#46039f\"],[0.2222222222222222,\"#7201a8\"],[0.3333333333333333,\"#9c179e\"],[0.4444444444444444,\"#bd3786\"],[0.5555555555555556,\"#d8576b\"],[0.6666666666666666,\"#ed7953\"],[0.7777777777777778,\"#fb9f3a\"],[0.8888888888888888,\"#fdca26\"],[1.0,\"#f0f921\"]]}],\"contourcarpet\":[{\"type\":\"contourcarpet\",\"colorbar\":{\"outlinewidth\":0,\"ticks\":\"\"}}],\"contour\":[{\"type\":\"contour\",\"colorbar\":{\"outlinewidth\":0,\"ticks\":\"\"},\"colorscale\":[[0.0,\"#0d0887\"],[0.1111111111111111,\"#46039f\"],[0.2222222222222222,\"#7201a8\"],[0.3333333333333333,\"#9c179e\"],[0.4444444444444444,\"#bd3786\"],[0.5555555555555556,\"#d8576b\"],[0.6666666666666666,\"#ed7953\"],[0.7777777777777778,\"#fb9f3a\"],[0.8888888888888888,\"#fdca26\"],[1.0,\"#f0f921\"]]}],\"surface\":[{\"type\":\"surface\",\"colorbar\":{\"outlinewidth\":0,\"ticks\":\"\"},\"colorscale\":[[0.0,\"#0d0887\"],[0.1111111111111111,\"#46039f\"],[0.2222222222222222,\"#7201a8\"],[0.3333333333333333,\"#9c179e\"],[0.4444444444444444,\"#bd3786\"],[0.5555555555555556,\"#d8576b\"],[0.6666666666666666,\"#ed7953\"],[0.7777777777777778,\"#fb9f3a\"],[0.8888888888888888,\"#fdca26\"],[1.0,\"#f0f921\"]]}],\"mesh3d\":[{\"type\":\"mesh3d\",\"colorbar\":{\"outlinewidth\":0,\"ticks\":\"\"}}],\"scatter\":[{\"fillpattern\":{\"fillmode\":\"overlay\",\"size\":10,\"solidity\":0.2},\"type\":\"scatter\"}],\"parcoords\":[{\"type\":\"parcoords\",\"line\":{\"colorbar\":{\"outlinewidth\":0,\"ticks\":\"\"}}}],\"scatterpolargl\":[{\"type\":\"scatterpolargl\",\"marker\":{\"colorbar\":{\"outlinewidth\":0,\"ticks\":\"\"}}}],\"bar\":[{\"error_x\":{\"color\":\"#2a3f5f\"},\"error_y\":{\"color\":\"#2a3f5f\"},\"marker\":{\"line\":{\"color\":\"#E5ECF6\",\"width\":0.5},\"pattern\":{\"fillmode\":\"overlay\",\"size\":10,\"solidity\":0.2}},\"type\":\"bar\"}],\"scattergeo\":[{\"type\":\"scattergeo\",\"marker\":{\"colorbar\":{\"outlinewidth\":0,\"ticks\":\"\"}}}],\"scatterpolar\":[{\"type\":\"scatterpolar\",\"marker\":{\"colorbar\":{\"outlinewidth\":0,\"ticks\":\"\"}}}],\"histogram\":[{\"marker\":{\"pattern\":{\"fillmode\":\"overlay\",\"size\":10,\"solidity\":0.2}},\"type\":\"histogram\"}],\"scattergl\":[{\"type\":\"scattergl\",\"marker\":{\"colorbar\":{\"outlinewidth\":0,\"ticks\":\"\"}}}],\"scatter3d\":[{\"type\":\"scatter3d\",\"line\":{\"colorbar\":{\"outlinewidth\":0,\"ticks\":\"\"}},\"marker\":{\"colorbar\":{\"outlinewidth\":0,\"ticks\":\"\"}}}],\"scattermapbox\":[{\"type\":\"scattermapbox\",\"marker\":{\"colorbar\":{\"outlinewidth\":0,\"ticks\":\"\"}}}],\"scatterternary\":[{\"type\":\"scatterternary\",\"marker\":{\"colorbar\":{\"outlinewidth\":0,\"ticks\":\"\"}}}],\"scattercarpet\":[{\"type\":\"scattercarpet\",\"marker\":{\"colorbar\":{\"outlinewidth\":0,\"ticks\":\"\"}}}],\"carpet\":[{\"aaxis\":{\"endlinecolor\":\"#2a3f5f\",\"gridcolor\":\"white\",\"linecolor\":\"white\",\"minorgridcolor\":\"white\",\"startlinecolor\":\"#2a3f5f\"},\"baxis\":{\"endlinecolor\":\"#2a3f5f\",\"gridcolor\":\"white\",\"linecolor\":\"white\",\"minorgridcolor\":\"white\",\"startlinecolor\":\"#2a3f5f\"},\"type\":\"carpet\"}],\"table\":[{\"cells\":{\"fill\":{\"color\":\"#EBF0F8\"},\"line\":{\"color\":\"white\"}},\"header\":{\"fill\":{\"color\":\"#C8D4E3\"},\"line\":{\"color\":\"white\"}},\"type\":\"table\"}],\"barpolar\":[{\"marker\":{\"line\":{\"color\":\"#E5ECF6\",\"width\":0.5},\"pattern\":{\"fillmode\":\"overlay\",\"size\":10,\"solidity\":0.2}},\"type\":\"barpolar\"}],\"pie\":[{\"automargin\":true,\"type\":\"pie\"}]},\"layout\":{\"autotypenumbers\":\"strict\",\"colorway\":[\"#636efa\",\"#EF553B\",\"#00cc96\",\"#ab63fa\",\"#FFA15A\",\"#19d3f3\",\"#FF6692\",\"#B6E880\",\"#FF97FF\",\"#FECB52\"],\"font\":{\"color\":\"#2a3f5f\"},\"hovermode\":\"closest\",\"hoverlabel\":{\"align\":\"left\"},\"paper_bgcolor\":\"white\",\"plot_bgcolor\":\"#E5ECF6\",\"polar\":{\"bgcolor\":\"#E5ECF6\",\"angularaxis\":{\"gridcolor\":\"white\",\"linecolor\":\"white\",\"ticks\":\"\"},\"radialaxis\":{\"gridcolor\":\"white\",\"linecolor\":\"white\",\"ticks\":\"\"}},\"ternary\":{\"bgcolor\":\"#E5ECF6\",\"aaxis\":{\"gridcolor\":\"white\",\"linecolor\":\"white\",\"ticks\":\"\"},\"baxis\":{\"gridcolor\":\"white\",\"linecolor\":\"white\",\"ticks\":\"\"},\"caxis\":{\"gridcolor\":\"white\",\"linecolor\":\"white\",\"ticks\":\"\"}},\"coloraxis\":{\"colorbar\":{\"outlinewidth\":0,\"ticks\":\"\"}},\"colorscale\":{\"sequential\":[[0.0,\"#0d0887\"],[0.1111111111111111,\"#46039f\"],[0.2222222222222222,\"#7201a8\"],[0.3333333333333333,\"#9c179e\"],[0.4444444444444444,\"#bd3786\"],[0.5555555555555556,\"#d8576b\"],[0.6666666666666666,\"#ed7953\"],[0.7777777777777778,\"#fb9f3a\"],[0.8888888888888888,\"#fdca26\"],[1.0,\"#f0f921\"]],\"sequentialminus\":[[0.0,\"#0d0887\"],[0.1111111111111111,\"#46039f\"],[0.2222222222222222,\"#7201a8\"],[0.3333333333333333,\"#9c179e\"],[0.4444444444444444,\"#bd3786\"],[0.5555555555555556,\"#d8576b\"],[0.6666666666666666,\"#ed7953\"],[0.7777777777777778,\"#fb9f3a\"],[0.8888888888888888,\"#fdca26\"],[1.0,\"#f0f921\"]],\"diverging\":[[0,\"#8e0152\"],[0.1,\"#c51b7d\"],[0.2,\"#de77ae\"],[0.3,\"#f1b6da\"],[0.4,\"#fde0ef\"],[0.5,\"#f7f7f7\"],[0.6,\"#e6f5d0\"],[0.7,\"#b8e186\"],[0.8,\"#7fbc41\"],[0.9,\"#4d9221\"],[1,\"#276419\"]]},\"xaxis\":{\"gridcolor\":\"white\",\"linecolor\":\"white\",\"ticks\":\"\",\"title\":{\"standoff\":15},\"zerolinecolor\":\"white\",\"automargin\":true,\"zerolinewidth\":2},\"yaxis\":{\"gridcolor\":\"white\",\"linecolor\":\"white\",\"ticks\":\"\",\"title\":{\"standoff\":15},\"zerolinecolor\":\"white\",\"automargin\":true,\"zerolinewidth\":2},\"scene\":{\"xaxis\":{\"backgroundcolor\":\"#E5ECF6\",\"gridcolor\":\"white\",\"linecolor\":\"white\",\"showbackground\":true,\"ticks\":\"\",\"zerolinecolor\":\"white\",\"gridwidth\":2},\"yaxis\":{\"backgroundcolor\":\"#E5ECF6\",\"gridcolor\":\"white\",\"linecolor\":\"white\",\"showbackground\":true,\"ticks\":\"\",\"zerolinecolor\":\"white\",\"gridwidth\":2},\"zaxis\":{\"backgroundcolor\":\"#E5ECF6\",\"gridcolor\":\"white\",\"linecolor\":\"white\",\"showbackground\":true,\"ticks\":\"\",\"zerolinecolor\":\"white\",\"gridwidth\":2}},\"shapedefaults\":{\"line\":{\"color\":\"#2a3f5f\"}},\"annotationdefaults\":{\"arrowcolor\":\"#2a3f5f\",\"arrowhead\":0,\"arrowwidth\":1},\"geo\":{\"bgcolor\":\"white\",\"landcolor\":\"#E5ECF6\",\"subunitcolor\":\"white\",\"showland\":true,\"showlakes\":true,\"lakecolor\":\"white\"},\"title\":{\"x\":0.05},\"mapbox\":{\"style\":\"light\"}}}},                        {\"responsive\": true}                    ).then(function(){\n",
       "                            \n",
       "var gd = document.getElementById('67f395ec-d7c1-4a9d-b071-4f9a21be219d');\n",
       "var x = new MutationObserver(function (mutations, observer) {{\n",
       "        var display = window.getComputedStyle(gd).display;\n",
       "        if (!display || display === 'none') {{\n",
       "            console.log([gd, 'removed!']);\n",
       "            Plotly.purge(gd);\n",
       "            observer.disconnect();\n",
       "        }}\n",
       "}});\n",
       "\n",
       "// Listen for the removal of the full notebook cells\n",
       "var notebookContainer = gd.closest('#notebook-container');\n",
       "if (notebookContainer) {{\n",
       "    x.observe(notebookContainer, {childList: true});\n",
       "}}\n",
       "\n",
       "// Listen for the clearing of the current output cell\n",
       "var outputEl = gd.closest('.output');\n",
       "if (outputEl) {{\n",
       "    x.observe(outputEl, {childList: true});\n",
       "}}\n",
       "\n",
       "                        })                };                            </script>        </div>\n",
       "</body>\n",
       "</html>"
      ]
     },
     "metadata": {},
     "output_type": "display_data"
    }
   ],
   "source": [
    "if not config['tune_parameters']:\n",
    "    optuna_study = optuna.load_study(study_name=f'hyperparameters_tuning_{config[\"model\"]}_{config[\"metric\"]}', storage=f'sqlite:///{config[\"database_path\"]}')\n",
    "    \n",
    "fig = optuna.visualization.plot_param_importances(optuna_study)\n",
    "fig.show()"
   ]
  },
  {
   "cell_type": "markdown",
   "id": "40579c1a",
   "metadata": {
    "papermill": {
     "duration": 0.017405,
     "end_time": "2025-01-06T23:31:11.887370",
     "exception": false,
     "start_time": "2025-01-06T23:31:11.869965",
     "status": "completed"
    },
    "tags": []
   },
   "source": [
    "## Let's train the recommender with best parameter values"
   ]
  },
  {
   "cell_type": "code",
   "execution_count": 16,
   "id": "6c7bdad8",
   "metadata": {
    "execution": {
     "iopub.execute_input": "2025-01-06T23:31:11.923499Z",
     "iopub.status.busy": "2025-01-06T23:31:11.923177Z",
     "iopub.status.idle": "2025-01-06T23:34:22.175284Z",
     "shell.execute_reply": "2025-01-06T23:34:22.174171Z"
    },
    "papermill": {
     "duration": 190.289581,
     "end_time": "2025-01-06T23:34:22.194449",
     "exception": false,
     "start_time": "2025-01-06T23:31:11.904868",
     "status": "completed"
    },
    "tags": []
   },
   "outputs": [
    {
     "name": "stdout",
     "output_type": "stream",
     "text": [
      "ScaledPureSVDRecommender: Computing SVD decomposition...\n",
      "ScaledPureSVDRecommender: Computing SVD decomposition... done in 3.17 min\n"
     ]
    }
   ],
   "source": [
    "if config['tune_best_params']:\n",
    "\n",
    "    if config['tune_parameters']:\n",
    "        best_params = optuna_study.best_trial.params\n",
    "    else: \n",
    "        with open(f'{K_PATH}/{GH_PATH}/{config[\"model\"]}Recommender/Optimizing{config[\"metric\"]}/best_params_{config[\"model\"]}_{config[\"metric\"]}.json', 'r') as best_params_json:\n",
    "            best_params = json.load(best_params_json)\n",
    "\n",
    "    recommender_instance = ScaledPureSVDRecommender(URM_train + URM_validation)\n",
    "    recommender_instance.fit(**best_params)"
   ]
  },
  {
   "cell_type": "markdown",
   "id": "7b28188c",
   "metadata": {
    "papermill": {
     "duration": 0.017551,
     "end_time": "2025-01-06T23:34:22.229500",
     "exception": false,
     "start_time": "2025-01-06T23:34:22.211949",
     "status": "completed"
    },
    "tags": []
   },
   "source": [
    "# Testing\n",
    "\n",
    "Create the recommendations for the submission. "
   ]
  },
  {
   "cell_type": "code",
   "execution_count": 17,
   "id": "8f051be7",
   "metadata": {
    "execution": {
     "iopub.execute_input": "2025-01-06T23:34:22.265960Z",
     "iopub.status.busy": "2025-01-06T23:34:22.265526Z",
     "iopub.status.idle": "2025-01-06T23:36:08.114670Z",
     "shell.execute_reply": "2025-01-06T23:36:08.113575Z"
    },
    "papermill": {
     "duration": 105.8868,
     "end_time": "2025-01-06T23:36:08.133841",
     "exception": false,
     "start_time": "2025-01-06T23:34:22.247041",
     "status": "completed"
    },
    "tags": []
   },
   "outputs": [
    {
     "name": "stdout",
     "output_type": "stream",
     "text": [
      "Submission file saved as /kaggle/working/submission_ScaledPureSVD_MAP.csv\n"
     ]
    }
   ],
   "source": [
    "if config['tune_best_params']:\n",
    "\n",
    "    data_target_users_test = pd.read_csv('/kaggle/working/RECsys_Challenge2024/Dataset/data_target_users_test.csv')\n",
    "    create_submission(data_target_users_test, recommender_instance, f'/kaggle/working/submission_{config[\"model\"]}_{config[\"metric\"]}.csv')"
   ]
  },
  {
   "cell_type": "markdown",
   "id": "04034b67",
   "metadata": {
    "papermill": {
     "duration": 0.017402,
     "end_time": "2025-01-06T23:36:08.169179",
     "exception": false,
     "start_time": "2025-01-06T23:36:08.151777",
     "status": "completed"
    },
    "tags": []
   },
   "source": [
    "# Save Version on GitHub \n",
    "\n",
    "Write or import a json file where best hyperparameters are saved. "
   ]
  },
  {
   "cell_type": "code",
   "execution_count": 18,
   "id": "2890c47b",
   "metadata": {
    "execution": {
     "iopub.execute_input": "2025-01-06T23:36:08.204805Z",
     "iopub.status.busy": "2025-01-06T23:36:08.204389Z",
     "iopub.status.idle": "2025-01-06T23:36:09.460595Z",
     "shell.execute_reply": "2025-01-06T23:36:09.459555Z"
    },
    "papermill": {
     "duration": 1.276151,
     "end_time": "2025-01-06T23:36:09.462370",
     "exception": false,
     "start_time": "2025-01-06T23:36:08.186219",
     "status": "completed"
    },
    "tags": []
   },
   "outputs": [
    {
     "name": "stdout",
     "output_type": "stream",
     "text": [
      "File 'TrainedModels/WithKFCV/MatrixFactorization/PureSVDRecommender/ScaledPureSVDRecommender/OptimizingMAP/best_params_ScaledPureSVD_MAP.json' updated successfully.\n"
     ]
    }
   ],
   "source": [
    "if config['tune_parameters']:\n",
    "    with open(f'/kaggle/working/best_params_{config[\"model\"]}_{config[\"metric\"]}.json', 'w') as params_file:\n",
    "        json.dump(optuna_study.best_params, params_file)\n",
    "        \n",
    "    if config['save_github']:\n",
    "        upload_file(\n",
    "            f'/kaggle/working/best_params_{config[\"model\"]}_{config[\"metric\"]}.json', \n",
    "            f'{GH_PATH}/{config[\"model\"]}Recommender/Optimizing{config[\"metric\"]}/best_params_{config[\"model\"]}_{config[\"metric\"]}.json', \n",
    "            f'{config[\"model\"]}_{config[\"metric\"]} tuning results (from kaggle notebook)',\n",
    "            repo\n",
    "        )\n",
    "elif config['copy_prev_best_params']:\n",
    "    shutil.copyfile(\n",
    "        f'{K_PATH}/{GH_PATH}/{config[\"model\"]}Recommender/Optimizing{config[\"metric\"]}/'\\\n",
    "        f'best_params_{config[\"model\"]}_{config[\"metric\"]}.json', \n",
    "        f'/kaggle/working/best_params_{config[\"model\"]}_{config[\"metric\"]}.json'\n",
    "    )"
   ]
  },
  {
   "cell_type": "markdown",
   "id": "16b102d9",
   "metadata": {
    "papermill": {
     "duration": 0.021607,
     "end_time": "2025-01-06T23:36:09.509703",
     "exception": false,
     "start_time": "2025-01-06T23:36:09.488096",
     "status": "completed"
    },
    "tags": []
   },
   "source": [
    "Save the history of the tuned model."
   ]
  },
  {
   "cell_type": "code",
   "execution_count": 19,
   "id": "2dc8e489",
   "metadata": {
    "execution": {
     "iopub.execute_input": "2025-01-06T23:36:09.546815Z",
     "iopub.status.busy": "2025-01-06T23:36:09.546321Z",
     "iopub.status.idle": "2025-01-06T23:36:11.557272Z",
     "shell.execute_reply": "2025-01-06T23:36:11.555999Z"
    },
    "papermill": {
     "duration": 2.030942,
     "end_time": "2025-01-06T23:36:11.559010",
     "exception": false,
     "start_time": "2025-01-06T23:36:09.528068",
     "status": "completed"
    },
    "tags": []
   },
   "outputs": [
    {
     "name": "stdout",
     "output_type": "stream",
     "text": [
      "File 'TrainedModels/WithKFCV/MatrixFactorization/PureSVDRecommender/ScaledPureSVDRecommender/OptimizingMAP/history_ScaledPureSVD_MAP.db' updated successfully.\n"
     ]
    }
   ],
   "source": [
    "if config['save_github'] and config['tune_parameters']:\n",
    "    upload_file(\n",
    "        config['database_path'], \n",
    "        f'{GH_PATH}/{config[\"model\"]}Recommender/Optimizing{config[\"metric\"]}/history_{config[\"model\"]}_{config[\"metric\"]}.db',\n",
    "        f'Tuning {config[\"model\"]}_{config[\"metric\"]} db updated results (from kaggle notebook)',\n",
    "        repo\n",
    "    )"
   ]
  },
  {
   "cell_type": "markdown",
   "id": "03b1bcae",
   "metadata": {
    "papermill": {
     "duration": 0.017873,
     "end_time": "2025-01-06T23:36:11.595363",
     "exception": false,
     "start_time": "2025-01-06T23:36:11.577490",
     "status": "completed"
    },
    "tags": []
   },
   "source": [
    "Save the best trained model and its submission."
   ]
  },
  {
   "cell_type": "code",
   "execution_count": 20,
   "id": "2119d791",
   "metadata": {
    "execution": {
     "iopub.execute_input": "2025-01-06T23:36:11.631975Z",
     "iopub.status.busy": "2025-01-06T23:36:11.631592Z",
     "iopub.status.idle": "2025-01-06T23:36:14.032238Z",
     "shell.execute_reply": "2025-01-06T23:36:14.031103Z"
    },
    "papermill": {
     "duration": 2.42071,
     "end_time": "2025-01-06T23:36:14.033902",
     "exception": false,
     "start_time": "2025-01-06T23:36:11.613192",
     "status": "completed"
    },
    "tags": []
   },
   "outputs": [
    {
     "name": "stdout",
     "output_type": "stream",
     "text": [
      "File 'TrainedModels/WithKFCV/MatrixFactorization/PureSVDRecommender/ScaledPureSVDRecommender/OptimizingMAP/Submission/submission_ScaledPureSVD_MAP.csv' updated successfully.\n"
     ]
    }
   ],
   "source": [
    "if config['save_github'] and config['tune_best_params']: \n",
    "    upload_file(\n",
    "                f'/kaggle/working/submission_{config[\"model\"]}_{config[\"metric\"]}.csv', \n",
    "                f'{GH_PATH}/{config[\"model\"]}Recommender/Optimizing{config[\"metric\"]}/Submission/submission_{config[\"model\"]}_{config[\"metric\"]}.csv', \n",
    "                f'New {config[\"model\"]}_{config[\"metric\"]} submission (from kaggle notebook)',\n",
    "                repo\n",
    "            )"
   ]
  }
 ],
 "metadata": {
  "kaggle": {
   "accelerator": "none",
   "dataSources": [],
   "dockerImageVersionId": 30822,
   "isGpuEnabled": false,
   "isInternetEnabled": true,
   "language": "python",
   "sourceType": "notebook"
  },
  "kernelspec": {
   "display_name": "Python 3",
   "language": "python",
   "name": "python3"
  },
  "language_info": {
   "codemirror_mode": {
    "name": "ipython",
    "version": 3
   },
   "file_extension": ".py",
   "mimetype": "text/x-python",
   "name": "python",
   "nbconvert_exporter": "python",
   "pygments_lexer": "ipython3",
   "version": "3.10.12"
  },
  "papermill": {
   "default_parameters": {},
   "duration": 3268.671625,
   "end_time": "2025-01-06T23:36:15.078180",
   "environment_variables": {},
   "exception": null,
   "input_path": "__notebook__.ipynb",
   "output_path": "__notebook__.ipynb",
   "parameters": {},
   "start_time": "2025-01-06T22:41:46.406555",
   "version": "2.6.0"
  }
 },
 "nbformat": 4,
 "nbformat_minor": 5
}
