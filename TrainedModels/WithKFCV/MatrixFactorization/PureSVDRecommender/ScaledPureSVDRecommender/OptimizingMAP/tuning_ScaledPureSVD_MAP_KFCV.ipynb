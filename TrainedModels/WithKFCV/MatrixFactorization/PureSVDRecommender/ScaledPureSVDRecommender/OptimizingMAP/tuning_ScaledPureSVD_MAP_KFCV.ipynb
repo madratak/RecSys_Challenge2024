{
 "cells": [
  {
   "cell_type": "markdown",
   "id": "388432e6",
   "metadata": {
    "papermill": {
     "duration": 0.006071,
     "end_time": "2025-01-06T23:45:17.224723",
     "exception": false,
     "start_time": "2025-01-06T23:45:17.218652",
     "status": "completed"
    },
    "tags": []
   },
   "source": [
    "# Set connection with GitHub"
   ]
  },
  {
   "cell_type": "code",
   "execution_count": 1,
   "id": "bdef0b15",
   "metadata": {
    "_cell_guid": "b1076dfc-b9ad-4769-8c92-a6c4dae69d19",
    "_uuid": "8f2839f25d086af736a60e9eeb907d3b93b6e0e5",
    "execution": {
     "iopub.execute_input": "2025-01-06T23:45:17.236416Z",
     "iopub.status.busy": "2025-01-06T23:45:17.236037Z",
     "iopub.status.idle": "2025-01-06T23:45:17.241838Z",
     "shell.execute_reply": "2025-01-06T23:45:17.240695Z"
    },
    "papermill": {
     "duration": 0.013645,
     "end_time": "2025-01-06T23:45:17.243718",
     "exception": false,
     "start_time": "2025-01-06T23:45:17.230073",
     "status": "completed"
    },
    "tags": []
   },
   "outputs": [],
   "source": [
    "# ! cd /kaggle/working && rm -rf RECsys_Challenge2024"
   ]
  },
  {
   "cell_type": "code",
   "execution_count": 2,
   "id": "8b658707",
   "metadata": {
    "execution": {
     "iopub.execute_input": "2025-01-06T23:45:17.255552Z",
     "iopub.status.busy": "2025-01-06T23:45:17.255129Z",
     "iopub.status.idle": "2025-01-06T23:45:33.463282Z",
     "shell.execute_reply": "2025-01-06T23:45:33.461953Z"
    },
    "papermill": {
     "duration": 16.216102,
     "end_time": "2025-01-06T23:45:33.465310",
     "exception": false,
     "start_time": "2025-01-06T23:45:17.249208",
     "status": "completed"
    },
    "tags": []
   },
   "outputs": [
    {
     "name": "stdout",
     "output_type": "stream",
     "text": [
      "Cloning into 'RECsys_Challenge2024'...\r\n",
      "remote: Enumerating objects: 7196, done.\u001b[K\r\n",
      "remote: Counting objects: 100% (42/42), done.\u001b[K\r\n",
      "remote: Compressing objects: 100% (35/35), done.\u001b[K\r\n",
      "remote: Total 7196 (delta 14), reused 0 (delta 0), pack-reused 7154 (from 5)\u001b[K\r\n",
      "Receiving objects: 100% (7196/7196), 417.52 MiB | 36.96 MiB/s, done.\r\n",
      "Resolving deltas: 100% (3895/3895), done.\r\n",
      "Updating files: 100% (506/506), done.\r\n"
     ]
    }
   ],
   "source": [
    "from kaggle_secrets import UserSecretsClient\n",
    "\n",
    "token = UserSecretsClient().get_secret(\"Token\")\n",
    "\n",
    "! git clone https://{token}@github.com/madratak/RECsys_Challenge2024.git"
   ]
  },
  {
   "cell_type": "code",
   "execution_count": 3,
   "id": "153e8007",
   "metadata": {
    "execution": {
     "iopub.execute_input": "2025-01-06T23:45:33.489006Z",
     "iopub.status.busy": "2025-01-06T23:45:33.488623Z",
     "iopub.status.idle": "2025-01-06T23:45:40.024054Z",
     "shell.execute_reply": "2025-01-06T23:45:40.022724Z"
    },
    "papermill": {
     "duration": 6.549794,
     "end_time": "2025-01-06T23:45:40.026118",
     "exception": false,
     "start_time": "2025-01-06T23:45:33.476324",
     "status": "completed"
    },
    "tags": []
   },
   "outputs": [
    {
     "name": "stdout",
     "output_type": "stream",
     "text": [
      "Collecting PyGithub\r\n",
      "  Downloading PyGithub-2.5.0-py3-none-any.whl.metadata (3.9 kB)\r\n",
      "Requirement already satisfied: requests in /usr/local/lib/python3.10/dist-packages (2.32.3)\r\n",
      "Collecting pynacl>=1.4.0 (from PyGithub)\r\n",
      "  Downloading PyNaCl-1.5.0-cp36-abi3-manylinux_2_17_x86_64.manylinux2014_x86_64.manylinux_2_24_x86_64.whl.metadata (8.6 kB)\r\n",
      "Requirement already satisfied: pyjwt>=2.4.0 in /usr/local/lib/python3.10/dist-packages (from pyjwt[crypto]>=2.4.0->PyGithub) (2.9.0)\r\n",
      "Requirement already satisfied: typing-extensions>=4.0.0 in /usr/local/lib/python3.10/dist-packages (from PyGithub) (4.12.2)\r\n",
      "Requirement already satisfied: urllib3>=1.26.0 in /usr/local/lib/python3.10/dist-packages (from PyGithub) (2.2.3)\r\n",
      "Requirement already satisfied: Deprecated in /usr/local/lib/python3.10/dist-packages (from PyGithub) (1.2.15)\r\n",
      "Requirement already satisfied: charset-normalizer<4,>=2 in /usr/local/lib/python3.10/dist-packages (from requests) (3.3.2)\r\n",
      "Requirement already satisfied: idna<4,>=2.5 in /usr/local/lib/python3.10/dist-packages (from requests) (3.10)\r\n",
      "Requirement already satisfied: certifi>=2017.4.17 in /usr/local/lib/python3.10/dist-packages (from requests) (2024.8.30)\r\n",
      "Requirement already satisfied: cryptography>=3.4.0 in /usr/local/lib/python3.10/dist-packages (from pyjwt[crypto]>=2.4.0->PyGithub) (43.0.1)\r\n",
      "Requirement already satisfied: cffi>=1.4.1 in /usr/local/lib/python3.10/dist-packages (from pynacl>=1.4.0->PyGithub) (1.17.1)\r\n",
      "Requirement already satisfied: wrapt<2,>=1.10 in /usr/local/lib/python3.10/dist-packages (from Deprecated->PyGithub) (1.16.0)\r\n",
      "Requirement already satisfied: pycparser in /usr/local/lib/python3.10/dist-packages (from cffi>=1.4.1->pynacl>=1.4.0->PyGithub) (2.22)\r\n",
      "Downloading PyGithub-2.5.0-py3-none-any.whl (375 kB)\r\n",
      "\u001b[2K   \u001b[90m━━━━━━━━━━━━━━━━━━━━━━━━━━━━━━━━━━━━━━━━\u001b[0m \u001b[32m375.9/375.9 kB\u001b[0m \u001b[31m7.6 MB/s\u001b[0m eta \u001b[36m0:00:00\u001b[0m\r\n",
      "\u001b[?25hDownloading PyNaCl-1.5.0-cp36-abi3-manylinux_2_17_x86_64.manylinux2014_x86_64.manylinux_2_24_x86_64.whl (856 kB)\r\n",
      "\u001b[2K   \u001b[90m━━━━━━━━━━━━━━━━━━━━━━━━━━━━━━━━━━━━━━━━\u001b[0m \u001b[32m856.7/856.7 kB\u001b[0m \u001b[31m28.5 MB/s\u001b[0m eta \u001b[36m0:00:00\u001b[0m\r\n",
      "\u001b[?25hInstalling collected packages: pynacl, PyGithub\r\n",
      "Successfully installed PyGithub-2.5.0 pynacl-1.5.0\r\n"
     ]
    }
   ],
   "source": [
    "! pip install PyGithub requests"
   ]
  },
  {
   "cell_type": "code",
   "execution_count": 4,
   "id": "0b350fea",
   "metadata": {
    "execution": {
     "iopub.execute_input": "2025-01-06T23:45:40.049016Z",
     "iopub.status.busy": "2025-01-06T23:45:40.048576Z",
     "iopub.status.idle": "2025-01-06T23:48:19.991584Z",
     "shell.execute_reply": "2025-01-06T23:48:19.990377Z"
    },
    "papermill": {
     "duration": 159.956588,
     "end_time": "2025-01-06T23:48:19.993636",
     "exception": false,
     "start_time": "2025-01-06T23:45:40.037048",
     "status": "completed"
    },
    "tags": []
   },
   "outputs": [
    {
     "name": "stdout",
     "output_type": "stream",
     "text": [
      "/kaggle/working/RECsys_Challenge2024\n",
      "run_compile_all_cython: Found 11 Cython files in 5 folders...\r\n",
      "run_compile_all_cython: All files will be compiled using your current python environment: '/usr/bin/python3'\r\n",
      "Compiling [1/11]: MatrixFactorizationImpressions_Cython_Epoch.pyx... \r\n",
      "In file included from \u001b[01m\u001b[K/usr/local/lib/python3.10/dist-packages/numpy/core/include/numpy/ndarraytypes.h:1929\u001b[m\u001b[K,\r\n",
      "                 from \u001b[01m\u001b[K/usr/local/lib/python3.10/dist-packages/numpy/core/include/numpy/ndarrayobject.h:12\u001b[m\u001b[K,\r\n",
      "                 from \u001b[01m\u001b[K/usr/local/lib/python3.10/dist-packages/numpy/core/include/numpy/arrayobject.h:5\u001b[m\u001b[K,\r\n",
      "                 from \u001b[01m\u001b[KMatrixFactorizationImpressions_Cython_Epoch.c:1252\u001b[m\u001b[K:\r\n",
      "\u001b[01m\u001b[K/usr/local/lib/python3.10/dist-packages/numpy/core/include/numpy/npy_1_7_deprecated_api.h:17:2:\u001b[m\u001b[K \u001b[01;35m\u001b[Kwarning: \u001b[m\u001b[K#warning \"Using deprecated NumPy API, disable it with \" \"#define NPY_NO_DEPRECATED_API NPY_1_7_API_VERSION\" [\u001b[01;35m\u001b[K\u001b]8;;https://gcc.gnu.org/onlinedocs/gcc/Warning-Options.html#index-Wcpp\u0007-Wcpp\u001b]8;;\u0007\u001b[m\u001b[K]\r\n",
      "   17 | #\u001b[01;35m\u001b[Kwarning\u001b[m\u001b[K \"Using deprecated NumPy API, disable it with \" \\\r\n",
      "      |  \u001b[01;35m\u001b[K^~~~~~~\u001b[m\u001b[K\r\n",
      "\u001b[01m\u001b[KMatrixFactorizationImpressions_Cython_Epoch.c:\u001b[m\u001b[K In function ‘\u001b[01m\u001b[K__pyx_f_43MatrixFactorizationImpressions_Cython_Epoch_32MatrixFactorization_Cython_Epoch_sampleBPR_Cython\u001b[m\u001b[K’:\r\n",
      "\u001b[01m\u001b[KMatrixFactorizationImpressions_Cython_Epoch.c:30353:17:\u001b[m\u001b[K \u001b[01;35m\u001b[Kwarning: \u001b[m\u001b[K‘\u001b[01m\u001b[K__pyx_v_start_pos_impression_items\u001b[m\u001b[K’ may be used uninitialized in this function [\u001b[01;35m\u001b[K\u001b]8;;https://gcc.gnu.org/onlinedocs/gcc/Warning-Options.html#index-Wmaybe-uninitialized\u0007-Wmaybe-uninitialized\u001b]8;;\u0007\u001b[m\u001b[K]\r\n",
      "30353 |       \u001b[01;35m\u001b[K__pyx_t_4 = (__pyx_v_start_pos_impression_items + __pyx_v_index)\u001b[m\u001b[K;\r\n",
      "      |       \u001b[01;35m\u001b[K~~~~~~~~~~^~~~~~~~~~~~~~~~~~~~~~~~~~~~~~~~~~~~~~~~~~~~~~~~~~~~~~\u001b[m\u001b[K\r\n",
      "\u001b[01m\u001b[KMatrixFactorizationImpressions_Cython_Epoch.c:\u001b[m\u001b[K In function ‘\u001b[01m\u001b[K__pyx_pf_43MatrixFactorizationImpressions_Cython_Epoch_32MatrixFactorization_Cython_Epoch_10epochIteration_Cython_ASY_SVD_SGD\u001b[m\u001b[K’:\r\n",
      "\u001b[01m\u001b[KMatrixFactorizationImpressions_Cython_Epoch.c:26112:66:\u001b[m\u001b[K \u001b[01;35m\u001b[Kwarning: \u001b[m\u001b[K‘\u001b[01m\u001b[K__pyx_v_end_pos_seen_items\u001b[m\u001b[K’ may be used uninitialized in this function [\u001b[01;35m\u001b[K\u001b]8;;https://gcc.gnu.org/onlinedocs/gcc/Warning-Options.html#index-Wmaybe-uninitialized\u0007-Wmaybe-uninitialized\u001b]8;;\u0007\u001b[m\u001b[K]\r\n",
      "26112 |       for (__pyx_t_22 = __pyx_v_start_pos_seen_items; \u001b[01;35m\u001b[K__pyx_t_22 < __pyx_t_21\u001b[m\u001b[K; __pyx_t_22+=1) {\r\n",
      "      |                                                       \u001b[01;35m\u001b[K~~~~~~~~~~~^~~~~~~~~~~~\u001b[m\u001b[K\r\n",
      "\u001b[01m\u001b[KMatrixFactorizationImpressions_Cython_Epoch.c:26112:66:\u001b[m\u001b[K \u001b[01;35m\u001b[Kwarning: \u001b[m\u001b[K‘\u001b[01m\u001b[K__pyx_v_start_pos_seen_items\u001b[m\u001b[K’ may be used uninitialized in this function [\u001b[01;35m\u001b[K\u001b]8;;https://gcc.gnu.org/onlinedocs/gcc/Warning-Options.html#index-Wmaybe-uninitialized\u0007-Wmaybe-uninitialized\u001b]8;;\u0007\u001b[m\u001b[K]\r\n",
      "/usr/local/lib/python3.10/dist-packages/Cython/Compiler/Main.py:381: FutureWarning: Cython directive 'language_level' not set, using '3str' for now (Py3). This has changed from earlier releases! File: /kaggle/working/RECsys_Challenge2024/Recommenders/MatrixFactorization/Cython/MatrixFactorizationImpressions_Cython_Epoch.pyx\r\n",
      "  tree = Parsing.p_module(s, pxd, full_module_name)\r\n",
      "Compiling [1/11]: MatrixFactorizationImpressions_Cython_Epoch.pyx... PASS\r\n",
      "\r\n",
      "Compiling [2/11]: MatrixFactorization_Cython_Epoch.pyx... \r\n",
      "In file included from \u001b[01m\u001b[K/usr/local/lib/python3.10/dist-packages/numpy/core/include/numpy/ndarraytypes.h:1929\u001b[m\u001b[K,\r\n",
      "                 from \u001b[01m\u001b[K/usr/local/lib/python3.10/dist-packages/numpy/core/include/numpy/ndarrayobject.h:12\u001b[m\u001b[K,\r\n",
      "                 from \u001b[01m\u001b[K/usr/local/lib/python3.10/dist-packages/numpy/core/include/numpy/arrayobject.h:5\u001b[m\u001b[K,\r\n",
      "                 from \u001b[01m\u001b[KMatrixFactorization_Cython_Epoch.c:1252\u001b[m\u001b[K:\r\n",
      "\u001b[01m\u001b[K/usr/local/lib/python3.10/dist-packages/numpy/core/include/numpy/npy_1_7_deprecated_api.h:17:2:\u001b[m\u001b[K \u001b[01;35m\u001b[Kwarning: \u001b[m\u001b[K#warning \"Using deprecated NumPy API, disable it with \" \"#define NPY_NO_DEPRECATED_API NPY_1_7_API_VERSION\" [\u001b[01;35m\u001b[K\u001b]8;;https://gcc.gnu.org/onlinedocs/gcc/Warning-Options.html#index-Wcpp\u0007-Wcpp\u001b]8;;\u0007\u001b[m\u001b[K]\r\n",
      "   17 | #\u001b[01;35m\u001b[Kwarning\u001b[m\u001b[K \"Using deprecated NumPy API, disable it with \" \\\r\n",
      "      |  \u001b[01;35m\u001b[K^~~~~~~\u001b[m\u001b[K\r\n",
      "\u001b[01m\u001b[KMatrixFactorization_Cython_Epoch.c:\u001b[m\u001b[K In function ‘\u001b[01m\u001b[K__pyx_pf_32MatrixFactorization_Cython_Epoch_32MatrixFactorization_Cython_Epoch_10epochIteration_Cython_ASY_SVD_SGD\u001b[m\u001b[K’:\r\n",
      "\u001b[01m\u001b[KMatrixFactorization_Cython_Epoch.c:26256:68:\u001b[m\u001b[K \u001b[01;35m\u001b[Kwarning: \u001b[m\u001b[K‘\u001b[01m\u001b[K__pyx_v_end_pos_seen_items\u001b[m\u001b[K’ may be used uninitialized in this function [\u001b[01;35m\u001b[K\u001b]8;;https://gcc.gnu.org/onlinedocs/gcc/Warning-Options.html#index-Wmaybe-uninitialized\u0007-Wmaybe-uninitialized\u001b]8;;\u0007\u001b[m\u001b[K]\r\n",
      "26256 |         for (__pyx_t_22 = __pyx_v_start_pos_seen_items; \u001b[01;35m\u001b[K__pyx_t_22 < __pyx_t_21\u001b[m\u001b[K; __pyx_t_22+=1) {\r\n",
      "      |                                                         \u001b[01;35m\u001b[K~~~~~~~~~~~^~~~~~~~~~~~\u001b[m\u001b[K\r\n",
      "\u001b[01m\u001b[KMatrixFactorization_Cython_Epoch.c:26256:68:\u001b[m\u001b[K \u001b[01;35m\u001b[Kwarning: \u001b[m\u001b[K‘\u001b[01m\u001b[K__pyx_v_start_pos_seen_items\u001b[m\u001b[K’ may be used uninitialized in this function [\u001b[01;35m\u001b[K\u001b]8;;https://gcc.gnu.org/onlinedocs/gcc/Warning-Options.html#index-Wmaybe-uninitialized\u0007-Wmaybe-uninitialized\u001b]8;;\u0007\u001b[m\u001b[K]\r\n",
      "/usr/local/lib/python3.10/dist-packages/Cython/Compiler/Main.py:381: FutureWarning: Cython directive 'language_level' not set, using '3str' for now (Py3). This has changed from earlier releases! File: /kaggle/working/RECsys_Challenge2024/Recommenders/MatrixFactorization/Cython/MatrixFactorization_Cython_Epoch.pyx\r\n",
      "  tree = Parsing.p_module(s, pxd, full_module_name)\r\n",
      "Compiling [2/11]: MatrixFactorization_Cython_Epoch.pyx... PASS\r\n",
      "\r\n",
      "Compiling [3/11]: Compute_Similarity_Cython.pyx... \r\n",
      "warning: Compute_Similarity_Cython.pyx:21:0: The 'IF' statement is deprecated and will be removed in a future Cython version. Consider using runtime conditions or C macros instead. See https://github.com/cython/cython/issues/4310\r\n",
      "In file included from \u001b[01m\u001b[K/usr/local/lib/python3.10/dist-packages/numpy/core/include/numpy/ndarraytypes.h:1929\u001b[m\u001b[K,\r\n",
      "                 from \u001b[01m\u001b[K/usr/local/lib/python3.10/dist-packages/numpy/core/include/numpy/ndarrayobject.h:12\u001b[m\u001b[K,\r\n",
      "                 from \u001b[01m\u001b[K/usr/local/lib/python3.10/dist-packages/numpy/core/include/numpy/arrayobject.h:5\u001b[m\u001b[K,\r\n",
      "                 from \u001b[01m\u001b[KCompute_Similarity_Cython.c:1252\u001b[m\u001b[K:\r\n",
      "\u001b[01m\u001b[K/usr/local/lib/python3.10/dist-packages/numpy/core/include/numpy/npy_1_7_deprecated_api.h:17:2:\u001b[m\u001b[K \u001b[01;35m\u001b[Kwarning: \u001b[m\u001b[K#warning \"Using deprecated NumPy API, disable it with \" \"#define NPY_NO_DEPRECATED_API NPY_1_7_API_VERSION\" [\u001b[01;35m\u001b[K\u001b]8;;https://gcc.gnu.org/onlinedocs/gcc/Warning-Options.html#index-Wcpp\u0007-Wcpp\u001b]8;;\u0007\u001b[m\u001b[K]\r\n",
      "   17 | #\u001b[01;35m\u001b[Kwarning\u001b[m\u001b[K \"Using deprecated NumPy API, disable it with \" \\\r\n",
      "      |  \u001b[01;35m\u001b[K^~~~~~~\u001b[m\u001b[K\r\n",
      "/usr/local/lib/python3.10/dist-packages/Cython/Compiler/Main.py:381: FutureWarning: Cython directive 'language_level' not set, using '3str' for now (Py3). This has changed from earlier releases! File: /kaggle/working/RECsys_Challenge2024/Recommenders/Similarity/Cython/Compute_Similarity_Cython.pyx\r\n",
      "  tree = Parsing.p_module(s, pxd, full_module_name)\r\n",
      "warning: Compute_Similarity_Cython.pyx:21:0: The 'IF' statement is deprecated and will be removed in a future Cython version. Consider using runtime conditions or C macros instead. See https://github.com/cython/cython/issues/4310\r\n",
      "Compiling [3/11]: Compute_Similarity_Cython.pyx... PASS\r\n",
      "\r\n",
      "Compiling [4/11]: Sparse_Matrix_Tree_CSR.pyx... \r\n",
      "warning: Sparse_Matrix_Tree_CSR.pyx:132:34: Non-trivial type declarators in shared declaration (e.g. mix of pointers and values). Each pointer declaration should be on its own line.\r\n",
      "warning: Sparse_Matrix_Tree_CSR.pyx:132:66: Non-trivial type declarators in shared declaration (e.g. mix of pointers and values). Each pointer declaration should be on its own line.\r\n",
      "warning: Sparse_Matrix_Tree_CSR.pyx:343:35: Non-trivial type declarators in shared declaration (e.g. mix of pointers and values). Each pointer declaration should be on its own line.\r\n",
      "warning: Sparse_Matrix_Tree_CSR.pyx:343:52: Non-trivial type declarators in shared declaration (e.g. mix of pointers and values). Each pointer declaration should be on its own line.\r\n",
      "warning: Sparse_Matrix_Tree_CSR.pyx:442:35: Non-trivial type declarators in shared declaration (e.g. mix of pointers and values). Each pointer declaration should be on its own line.\r\n",
      "warning: Sparse_Matrix_Tree_CSR.pyx:442:53: Non-trivial type declarators in shared declaration (e.g. mix of pointers and values). Each pointer declaration should be on its own line.\r\n",
      "warning: Sparse_Matrix_Tree_CSR.pyx:442:69: Non-trivial type declarators in shared declaration (e.g. mix of pointers and values). Each pointer declaration should be on its own line.\r\n",
      "warning: Sparse_Matrix_Tree_CSR.pyx:577:35: Non-trivial type declarators in shared declaration (e.g. mix of pointers and values). Each pointer declaration should be on its own line.\r\n",
      "warning: Sparse_Matrix_Tree_CSR.pyx:577:42: Non-trivial type declarators in shared declaration (e.g. mix of pointers and values). Each pointer declaration should be on its own line.\r\n",
      "warning: Sparse_Matrix_Tree_CSR.pyx:578:35: Non-trivial type declarators in shared declaration (e.g. mix of pointers and values). Each pointer declaration should be on its own line.\r\n",
      "warning: Sparse_Matrix_Tree_CSR.pyx:578:53: Non-trivial type declarators in shared declaration (e.g. mix of pointers and values). Each pointer declaration should be on its own line.\r\n",
      "\r\n",
      "Error compiling Cython file:\r\n",
      "------------------------------------------------------------\r\n",
      "...\r\n",
      "            vector_pointer_to_list_elements[index].head = current_element\r\n",
      "            current_element = current_element.higher\r\n",
      "\r\n",
      "\r\n",
      "        # Sort array elements on their data field\r\n",
      "        qsort(vector_pointer_to_list_elements, list_length, sizeof(head_pointer_tree_s), compare_struct_on_data)\r\n",
      "                                                                                         ^\r\n",
      "------------------------------------------------------------\r\n",
      "\r\n",
      "Sparse_Matrix_Tree_CSR.pyx:516:89: Cannot assign type 'int (const void *, const void *) except? -1' to 'int (*)(const_void *, const_void *) noexcept'. Exception values are incompatible. Suggest adding 'noexcept' to the type of 'compare_struct_on_data'.\r\n",
      "\r\n",
      "Error compiling Cython file:\r\n",
      "------------------------------------------------------------\r\n",
      "...\r\n",
      "        # Sort array elements on their data field\r\n",
      "        qsort(vector_pointer_to_list_elements, list_length, sizeof(head_pointer_tree_s), compare_struct_on_data)\r\n",
      "\r\n",
      "        # Sort only the TopK according to their column field\r\n",
      "        # Sort is from lower to higher, therefore the elements to be considered are from len-topK to len\r\n",
      "        qsort(&vector_pointer_to_list_elements[list_length-TopK], TopK, sizeof(head_pointer_tree_s), compare_struct_on_column)\r\n",
      "                                                                                                     ^\r\n",
      "------------------------------------------------------------\r\n",
      "\r\n",
      "Sparse_Matrix_Tree_CSR.pyx:520:101: Cannot assign type 'int (const void *, const void *) except? -1' to 'int (*)(const_void *, const_void *) noexcept'. Exception values are incompatible. Suggest adding 'noexcept' to the type of 'compare_struct_on_column'.\r\n",
      "Traceback (most recent call last):\r\n",
      "  File \"/kaggle/working/RECsys_Challenge2024/CythonCompiler/compile_script.py\", line 48, in <module>\r\n",
      "    setup(\r\n",
      "  File \"/usr/local/lib/python3.10/dist-packages/setuptools/__init__.py\", line 108, in setup\r\n",
      "    return distutils.core.setup(**attrs)\r\n",
      "  File \"/usr/local/lib/python3.10/dist-packages/setuptools/_distutils/core.py\", line 184, in setup\r\n",
      "    return run_commands(dist)\r\n",
      "  File \"/usr/local/lib/python3.10/dist-packages/setuptools/_distutils/core.py\", line 200, in run_commands\r\n",
      "    dist.run_commands()\r\n",
      "  File \"/usr/local/lib/python3.10/dist-packages/setuptools/_distutils/dist.py\", line 970, in run_commands\r\n",
      "    self.run_command(cmd)\r\n",
      "  File \"/usr/local/lib/python3.10/dist-packages/setuptools/dist.py\", line 956, in run_command\r\n",
      "    super().run_command(command)\r\n",
      "  File \"/usr/local/lib/python3.10/dist-packages/setuptools/_distutils/dist.py\", line 989, in run_command\r\n",
      "    cmd_obj.run()\r\n",
      "  File \"/usr/local/lib/python3.10/dist-packages/setuptools/_distutils/command/build_ext.py\", line 359, in run\r\n",
      "    self.build_extensions()\r\n",
      "  File \"/usr/local/lib/python3.10/dist-packages/setuptools/_distutils/command/build_ext.py\", line 479, in build_extensions\r\n",
      "    self._build_extensions_serial()\r\n",
      "  File \"/usr/local/lib/python3.10/dist-packages/setuptools/_distutils/command/build_ext.py\", line 505, in _build_extensions_serial\r\n",
      "    self.build_extension(ext)\r\n",
      "  File \"/usr/local/lib/python3.10/dist-packages/Cython/Distutils/build_ext.py\", line 130, in build_extension\r\n",
      "    new_ext = cythonize(\r\n",
      "  File \"/usr/local/lib/python3.10/dist-packages/Cython/Build/Dependencies.py\", line 1154, in cythonize\r\n",
      "    cythonize_one(*args)\r\n",
      "  File \"/usr/local/lib/python3.10/dist-packages/Cython/Build/Dependencies.py\", line 1321, in cythonize_one\r\n",
      "    raise CompileError(None, pyx_file)\r\n",
      "Cython.Compiler.Errors.CompileError: Sparse_Matrix_Tree_CSR.pyx\r\n",
      "Traceback (most recent call last):\r\n",
      "  File \"/kaggle/working/RECsys_Challenge2024/run_compile_all_cython.py\", line 60, in <module>\r\n",
      "    run_compile_subprocess(file_path, [file_name])\r\n",
      "  File \"/kaggle/working/RECsys_Challenge2024/CythonCompiler/run_compile_subprocess.py\", line 51, in run_compile_subprocess\r\n",
      "    raise exc\r\n",
      "  File \"/kaggle/working/RECsys_Challenge2024/CythonCompiler/run_compile_subprocess.py\", line 32, in run_compile_subprocess\r\n",
      "    output = subprocess.check_output(' '.join(command),\r\n",
      "  File \"/usr/lib/python3.10/subprocess.py\", line 421, in check_output\r\n",
      "    return run(*popenargs, stdout=PIPE, timeout=timeout, check=True,\r\n",
      "  File \"/usr/lib/python3.10/subprocess.py\", line 526, in run\r\n",
      "    raise CalledProcessError(retcode, process.args,\r\n",
      "subprocess.CalledProcessError: Command '/usr/bin/python3 /kaggle/working/RECsys_Challenge2024/CythonCompiler/compile_script.py Sparse_Matrix_Tree_CSR.pyx build_ext --inplace' returned non-zero exit status 1.\r\n",
      "Compiling [4/11]: Sparse_Matrix_Tree_CSR.pyx... FAIL: Command '/usr/bin/python3 /kaggle/working/RECsys_Challenge2024/CythonCompiler/compile_script.py Sparse_Matrix_Tree_CSR.pyx build_ext --inplace' returned non-zero exit status 1.\r\n",
      "\r\n",
      "Compiling [5/11]: Triangular_Matrix.pyx... \r\n",
      "warning: Triangular_Matrix.pyx:22:0: The 'IF' statement is deprecated and will be removed in a future Cython version. Consider using runtime conditions or C macros instead. See https://github.com/cython/cython/issues/4310\r\n",
      "In file included from \u001b[01m\u001b[K/usr/local/lib/python3.10/dist-packages/numpy/core/include/numpy/ndarraytypes.h:1929\u001b[m\u001b[K,\r\n",
      "                 from \u001b[01m\u001b[K/usr/local/lib/python3.10/dist-packages/numpy/core/include/numpy/ndarrayobject.h:12\u001b[m\u001b[K,\r\n",
      "                 from \u001b[01m\u001b[K/usr/local/lib/python3.10/dist-packages/numpy/core/include/numpy/arrayobject.h:5\u001b[m\u001b[K,\r\n",
      "                 from \u001b[01m\u001b[KTriangular_Matrix.c:1252\u001b[m\u001b[K:\r\n",
      "\u001b[01m\u001b[K/usr/local/lib/python3.10/dist-packages/numpy/core/include/numpy/npy_1_7_deprecated_api.h:17:2:\u001b[m\u001b[K \u001b[01;35m\u001b[Kwarning: \u001b[m\u001b[K#warning \"Using deprecated NumPy API, disable it with \" \"#define NPY_NO_DEPRECATED_API NPY_1_7_API_VERSION\" [\u001b[01;35m\u001b[K\u001b]8;;https://gcc.gnu.org/onlinedocs/gcc/Warning-Options.html#index-Wcpp\u0007-Wcpp\u001b]8;;\u0007\u001b[m\u001b[K]\r\n",
      "   17 | #\u001b[01;35m\u001b[Kwarning\u001b[m\u001b[K \"Using deprecated NumPy API, disable it with \" \\\r\n",
      "      |  \u001b[01;35m\u001b[K^~~~~~~\u001b[m\u001b[K\r\n",
      "In function ‘\u001b[01m\u001b[K__pyx_pf_17Triangular_Matrix_17Triangular_Matrix___init__\u001b[m\u001b[K’,\r\n",
      "    inlined from ‘\u001b[01m\u001b[K__pyx_pw_17Triangular_Matrix_17Triangular_Matrix_1__init__\u001b[m\u001b[K’ at \u001b[01m\u001b[KTriangular_Matrix.c:5541:13\u001b[m\u001b[K:\r\n",
      "\u001b[01m\u001b[KTriangular_Matrix.c:5599:43:\u001b[m\u001b[K \u001b[01;35m\u001b[Kwarning: \u001b[m\u001b[Kargument 1 value ‘\u001b[01m\u001b[K18446744073709551608\u001b[m\u001b[K’ exceeds maximum object size 9223372036854775807 [\u001b[01;35m\u001b[K\u001b]8;;https://gcc.gnu.org/onlinedocs/gcc/Warning-Options.html#index-Walloc-size-larger-than=\u0007-Walloc-size-larger-than=\u001b]8;;\u0007\u001b[m\u001b[K]\r\n",
      " 5599 |   __pyx_v_self->row_pointer = ((double **)\u001b[01;35m\u001b[Kmalloc((__pyx_v_self->num_rows * (sizeof(double *))))\u001b[m\u001b[K);\r\n",
      "      |                                           \u001b[01;35m\u001b[K^~~~~~~~~~~~~~~~~~~~~~~~~~~~~~~~~~~~~~~~~~~~~~~~~~~~~\u001b[m\u001b[K\r\n",
      "In file included from \u001b[01m\u001b[K/usr/include/python3.10/Python.h:34\u001b[m\u001b[K,\r\n",
      "                 from \u001b[01m\u001b[KTriangular_Matrix.c:41\u001b[m\u001b[K:\r\n",
      "\u001b[01m\u001b[KTriangular_Matrix.c:\u001b[m\u001b[K In function ‘\u001b[01m\u001b[K__pyx_pw_17Triangular_Matrix_17Triangular_Matrix_1__init__\u001b[m\u001b[K’:\r\n",
      "\u001b[01m\u001b[K/usr/include/stdlib.h:540:14:\u001b[m\u001b[K \u001b[01;36m\u001b[Knote: \u001b[m\u001b[Kin a call to allocation function ‘\u001b[01m\u001b[Kmalloc\u001b[m\u001b[K’ declared here\r\n",
      "  540 | extern void *\u001b[01;36m\u001b[Kmalloc\u001b[m\u001b[K (size_t __size) __THROW __attribute_malloc__\r\n",
      "      |              \u001b[01;36m\u001b[K^~~~~~\u001b[m\u001b[K\r\n",
      "/usr/local/lib/python3.10/dist-packages/Cython/Compiler/Main.py:381: FutureWarning: Cython directive 'language_level' not set, using '3str' for now (Py3). This has changed from earlier releases! File: /kaggle/working/RECsys_Challenge2024/Recommenders/SLIM/Cython/Triangular_Matrix.pyx\r\n",
      "  tree = Parsing.p_module(s, pxd, full_module_name)\r\n",
      "warning: Triangular_Matrix.pyx:22:0: The 'IF' statement is deprecated and will be removed in a future Cython version. Consider using runtime conditions or C macros instead. See https://github.com/cython/cython/issues/4310\r\n",
      "Compiling [5/11]: Triangular_Matrix.pyx... PASS\r\n",
      "\r\n",
      "Compiling [6/11]: SLIM_BPR_Cython_Epoch.pyx... \r\n",
      "warning: SLIM_BPR_Cython_Epoch.pyx:24:0: The 'IF' statement is deprecated and will be removed in a future Cython version. Consider using runtime conditions or C macros instead. See https://github.com/cython/cython/issues/4310\r\n",
      "warning: SLIM_BPR_Cython_Epoch.pyx:632:34: Non-trivial type declarators in shared declaration (e.g. mix of pointers and values). Each pointer declaration should be on its own line.\r\n",
      "warning: SLIM_BPR_Cython_Epoch.pyx:632:66: Non-trivial type declarators in shared declaration (e.g. mix of pointers and values). Each pointer declaration should be on its own line.\r\n",
      "warning: SLIM_BPR_Cython_Epoch.pyx:817:35: Non-trivial type declarators in shared declaration (e.g. mix of pointers and values). Each pointer declaration should be on its own line.\r\n",
      "warning: SLIM_BPR_Cython_Epoch.pyx:817:52: Non-trivial type declarators in shared declaration (e.g. mix of pointers and values). Each pointer declaration should be on its own line.\r\n",
      "warning: SLIM_BPR_Cython_Epoch.pyx:916:35: Non-trivial type declarators in shared declaration (e.g. mix of pointers and values). Each pointer declaration should be on its own line.\r\n",
      "warning: SLIM_BPR_Cython_Epoch.pyx:916:53: Non-trivial type declarators in shared declaration (e.g. mix of pointers and values). Each pointer declaration should be on its own line.\r\n",
      "warning: SLIM_BPR_Cython_Epoch.pyx:916:69: Non-trivial type declarators in shared declaration (e.g. mix of pointers and values). Each pointer declaration should be on its own line.\r\n",
      "warning: SLIM_BPR_Cython_Epoch.pyx:1051:35: Non-trivial type declarators in shared declaration (e.g. mix of pointers and values). Each pointer declaration should be on its own line.\r\n",
      "warning: SLIM_BPR_Cython_Epoch.pyx:1051:42: Non-trivial type declarators in shared declaration (e.g. mix of pointers and values). Each pointer declaration should be on its own line.\r\n",
      "warning: SLIM_BPR_Cython_Epoch.pyx:1052:35: Non-trivial type declarators in shared declaration (e.g. mix of pointers and values). Each pointer declaration should be on its own line.\r\n",
      "warning: SLIM_BPR_Cython_Epoch.pyx:1052:53: Non-trivial type declarators in shared declaration (e.g. mix of pointers and values). Each pointer declaration should be on its own line.\r\n",
      "\r\n",
      "Error compiling Cython file:\r\n",
      "------------------------------------------------------------\r\n",
      "...\r\n",
      "            vector_pointer_to_list_elements[index].head = current_element\r\n",
      "            current_element = current_element.higher\r\n",
      "\r\n",
      "\r\n",
      "        # Sort array elements on their data field\r\n",
      "        qsort(vector_pointer_to_list_elements, list_length, sizeof(head_pointer_tree_s), compare_struct_on_data)\r\n",
      "                                                                                         ^\r\n",
      "------------------------------------------------------------\r\n",
      "\r\n",
      "SLIM_BPR_Cython_Epoch.pyx:990:89: Cannot assign type 'int (const void *, const void *) except? -1' to 'int (*)(const_void *, const_void *) noexcept'. Exception values are incompatible. Suggest adding 'noexcept' to the type of 'compare_struct_on_data'.\r\n",
      "\r\n",
      "Error compiling Cython file:\r\n",
      "------------------------------------------------------------\r\n",
      "...\r\n",
      "        # Sort array elements on their data field\r\n",
      "        qsort(vector_pointer_to_list_elements, list_length, sizeof(head_pointer_tree_s), compare_struct_on_data)\r\n",
      "\r\n",
      "        # Sort only the TopK according to their column field\r\n",
      "        # Sort is from lower to higher, therefore the elements to be considered are from len-topK to len\r\n",
      "        qsort(&vector_pointer_to_list_elements[list_length-TopK], TopK, sizeof(head_pointer_tree_s), compare_struct_on_column)\r\n",
      "                                                                                                     ^\r\n",
      "------------------------------------------------------------\r\n",
      "\r\n",
      "SLIM_BPR_Cython_Epoch.pyx:994:101: Cannot assign type 'int (const void *, const void *) except? -1' to 'int (*)(const_void *, const_void *) noexcept'. Exception values are incompatible. Suggest adding 'noexcept' to the type of 'compare_struct_on_column'.\r\n",
      "Traceback (most recent call last):\r\n",
      "  File \"/kaggle/working/RECsys_Challenge2024/CythonCompiler/compile_script.py\", line 48, in <module>\r\n",
      "    setup(\r\n",
      "  File \"/usr/local/lib/python3.10/dist-packages/setuptools/__init__.py\", line 108, in setup\r\n",
      "    return distutils.core.setup(**attrs)\r\n",
      "  File \"/usr/local/lib/python3.10/dist-packages/setuptools/_distutils/core.py\", line 184, in setup\r\n",
      "    return run_commands(dist)\r\n",
      "  File \"/usr/local/lib/python3.10/dist-packages/setuptools/_distutils/core.py\", line 200, in run_commands\r\n",
      "    dist.run_commands()\r\n",
      "  File \"/usr/local/lib/python3.10/dist-packages/setuptools/_distutils/dist.py\", line 970, in run_commands\r\n",
      "    self.run_command(cmd)\r\n",
      "  File \"/usr/local/lib/python3.10/dist-packages/setuptools/dist.py\", line 956, in run_command\r\n",
      "    super().run_command(command)\r\n",
      "  File \"/usr/local/lib/python3.10/dist-packages/setuptools/_distutils/dist.py\", line 989, in run_command\r\n",
      "    cmd_obj.run()\r\n",
      "  File \"/usr/local/lib/python3.10/dist-packages/setuptools/_distutils/command/build_ext.py\", line 359, in run\r\n",
      "    self.build_extensions()\r\n",
      "  File \"/usr/local/lib/python3.10/dist-packages/setuptools/_distutils/command/build_ext.py\", line 479, in build_extensions\r\n",
      "    self._build_extensions_serial()\r\n",
      "  File \"/usr/local/lib/python3.10/dist-packages/setuptools/_distutils/command/build_ext.py\", line 505, in _build_extensions_serial\r\n",
      "    self.build_extension(ext)\r\n",
      "  File \"/usr/local/lib/python3.10/dist-packages/Cython/Distutils/build_ext.py\", line 130, in build_extension\r\n",
      "    new_ext = cythonize(\r\n",
      "  File \"/usr/local/lib/python3.10/dist-packages/Cython/Build/Dependencies.py\", line 1154, in cythonize\r\n",
      "    cythonize_one(*args)\r\n",
      "  File \"/usr/local/lib/python3.10/dist-packages/Cython/Build/Dependencies.py\", line 1321, in cythonize_one\r\n",
      "    raise CompileError(None, pyx_file)\r\n",
      "Cython.Compiler.Errors.CompileError: SLIM_BPR_Cython_Epoch.pyx\r\n",
      "Traceback (most recent call last):\r\n",
      "  File \"/kaggle/working/RECsys_Challenge2024/run_compile_all_cython.py\", line 60, in <module>\r\n",
      "    run_compile_subprocess(file_path, [file_name])\r\n",
      "  File \"/kaggle/working/RECsys_Challenge2024/CythonCompiler/run_compile_subprocess.py\", line 51, in run_compile_subprocess\r\n",
      "    raise exc\r\n",
      "  File \"/kaggle/working/RECsys_Challenge2024/CythonCompiler/run_compile_subprocess.py\", line 32, in run_compile_subprocess\r\n",
      "    output = subprocess.check_output(' '.join(command),\r\n",
      "  File \"/usr/lib/python3.10/subprocess.py\", line 421, in check_output\r\n",
      "    return run(*popenargs, stdout=PIPE, timeout=timeout, check=True,\r\n",
      "  File \"/usr/lib/python3.10/subprocess.py\", line 526, in run\r\n",
      "    raise CalledProcessError(retcode, process.args,\r\n",
      "subprocess.CalledProcessError: Command '/usr/bin/python3 /kaggle/working/RECsys_Challenge2024/CythonCompiler/compile_script.py SLIM_BPR_Cython_Epoch.pyx build_ext --inplace' returned non-zero exit status 1.\r\n",
      "Compiling [6/11]: SLIM_BPR_Cython_Epoch.pyx... FAIL: Command '/usr/bin/python3 /kaggle/working/RECsys_Challenge2024/CythonCompiler/compile_script.py SLIM_BPR_Cython_Epoch.pyx build_ext --inplace' returned non-zero exit status 1.\r\n",
      "\r\n",
      "Compiling [7/11]: CFW_D_Similarity_Cython_SGD.pyx... \r\n",
      "In file included from \u001b[01m\u001b[K/usr/local/lib/python3.10/dist-packages/numpy/core/include/numpy/ndarraytypes.h:1929\u001b[m\u001b[K,\r\n",
      "                 from \u001b[01m\u001b[K/usr/local/lib/python3.10/dist-packages/numpy/core/include/numpy/ndarrayobject.h:12\u001b[m\u001b[K,\r\n",
      "                 from \u001b[01m\u001b[K/usr/local/lib/python3.10/dist-packages/numpy/core/include/numpy/arrayobject.h:5\u001b[m\u001b[K,\r\n",
      "                 from \u001b[01m\u001b[KCFW_D_Similarity_Cython_SGD.c:1252\u001b[m\u001b[K:\r\n",
      "\u001b[01m\u001b[K/usr/local/lib/python3.10/dist-packages/numpy/core/include/numpy/npy_1_7_deprecated_api.h:17:2:\u001b[m\u001b[K \u001b[01;35m\u001b[Kwarning: \u001b[m\u001b[K#warning \"Using deprecated NumPy API, disable it with \" \"#define NPY_NO_DEPRECATED_API NPY_1_7_API_VERSION\" [\u001b[01;35m\u001b[K\u001b]8;;https://gcc.gnu.org/onlinedocs/gcc/Warning-Options.html#index-Wcpp\u0007-Wcpp\u001b]8;;\u0007\u001b[m\u001b[K]\r\n",
      "   17 | #\u001b[01;35m\u001b[Kwarning\u001b[m\u001b[K \"Using deprecated NumPy API, disable it with \" \\\r\n",
      "      |  \u001b[01;35m\u001b[K^~~~~~~\u001b[m\u001b[K\r\n",
      "\u001b[01m\u001b[KCFW_D_Similarity_Cython_SGD.c:\u001b[m\u001b[K In function ‘\u001b[01m\u001b[K__pyx_pf_27CFW_D_Similarity_Cython_SGD_27CFW_D_Similarity_Cython_SGD_6fit\u001b[m\u001b[K’:\r\n",
      "\u001b[01m\u001b[KCFW_D_Similarity_Cython_SGD.c:23373:55:\u001b[m\u001b[K \u001b[01;35m\u001b[Kwarning: \u001b[m\u001b[K‘\u001b[01m\u001b[K__pyx_v_sample_num\u001b[m\u001b[K’ may be used uninitialized in this function [\u001b[01;35m\u001b[K\u001b]8;;https://gcc.gnu.org/onlinedocs/gcc/Warning-Options.html#index-Wmaybe-uninitialized\u0007-Wmaybe-uninitialized\u001b]8;;\u0007\u001b[m\u001b[K]\r\n",
      "23373 |   __pyx_t_3 = PyFloat_FromDouble((__pyx_v_cum_loss / \u001b[01;35m\u001b[K((double)__pyx_v_sample_num)\u001b[m\u001b[K)); if (unlikely(!__pyx_t_3)) __PYX_ERR(0, 290, __pyx_L1_error)\r\n",
      "      |                                                      \u001b[01;35m\u001b[K~^~~~~~~~~~~~~~~~~~~~~~~~~~~\u001b[m\u001b[K\r\n",
      "/usr/local/lib/python3.10/dist-packages/Cython/Compiler/Main.py:381: FutureWarning: Cython directive 'language_level' not set, using '3str' for now (Py3). This has changed from earlier releases! File: /kaggle/working/RECsys_Challenge2024/Recommenders/FeatureWeighting/Cython/CFW_D_Similarity_Cython_SGD.pyx\r\n",
      "  tree = Parsing.p_module(s, pxd, full_module_name)\r\n",
      "Compiling [7/11]: CFW_D_Similarity_Cython_SGD.pyx... PASS\r\n",
      "\r\n",
      "Compiling [8/11]: HP3_Similarity_Cython_SGD.pyx... \r\n",
      "performance hint: HP3_Similarity_Cython_SGD.pyx:113:40: Index should be typed for more efficient access\r\n",
      "performance hint: HP3_Similarity_Cython_SGD.pyx:114:40: Index should be typed for more efficient access\r\n",
      "In file included from \u001b[01m\u001b[K/usr/local/lib/python3.10/dist-packages/numpy/core/include/numpy/ndarraytypes.h:1929\u001b[m\u001b[K,\r\n",
      "                 from \u001b[01m\u001b[K/usr/local/lib/python3.10/dist-packages/numpy/core/include/numpy/ndarrayobject.h:12\u001b[m\u001b[K,\r\n",
      "                 from \u001b[01m\u001b[K/usr/local/lib/python3.10/dist-packages/numpy/core/include/numpy/arrayobject.h:5\u001b[m\u001b[K,\r\n",
      "                 from \u001b[01m\u001b[KHP3_Similarity_Cython_SGD.c:1252\u001b[m\u001b[K:\r\n",
      "\u001b[01m\u001b[K/usr/local/lib/python3.10/dist-packages/numpy/core/include/numpy/npy_1_7_deprecated_api.h:17:2:\u001b[m\u001b[K \u001b[01;35m\u001b[Kwarning: \u001b[m\u001b[K#warning \"Using deprecated NumPy API, disable it with \" \"#define NPY_NO_DEPRECATED_API NPY_1_7_API_VERSION\" [\u001b[01;35m\u001b[K\u001b]8;;https://gcc.gnu.org/onlinedocs/gcc/Warning-Options.html#index-Wcpp\u0007-Wcpp\u001b]8;;\u0007\u001b[m\u001b[K]\r\n",
      "   17 | #\u001b[01;35m\u001b[Kwarning\u001b[m\u001b[K \"Using deprecated NumPy API, disable it with \" \\\r\n",
      "      |  \u001b[01;35m\u001b[K^~~~~~~\u001b[m\u001b[K\r\n",
      "\u001b[01m\u001b[KHP3_Similarity_Cython_SGD.c:\u001b[m\u001b[K In function ‘\u001b[01m\u001b[K__pyx_pf_25HP3_Similarity_Cython_SGD_25HP3_Similarity_Cython_SGD_4fit\u001b[m\u001b[K’:\r\n",
      "\u001b[01m\u001b[KHP3_Similarity_Cython_SGD.c:23631:55:\u001b[m\u001b[K \u001b[01;35m\u001b[Kwarning: \u001b[m\u001b[K‘\u001b[01m\u001b[K__pyx_v_sample_num\u001b[m\u001b[K’ may be used uninitialized in this function [\u001b[01;35m\u001b[K\u001b]8;;https://gcc.gnu.org/onlinedocs/gcc/Warning-Options.html#index-Wmaybe-uninitialized\u0007-Wmaybe-uninitialized\u001b]8;;\u0007\u001b[m\u001b[K]\r\n",
      "23631 |   __pyx_t_1 = PyFloat_FromDouble((__pyx_v_cum_loss / \u001b[01;35m\u001b[K((double)__pyx_v_sample_num)\u001b[m\u001b[K)); if (unlikely(!__pyx_t_1)) __PYX_ERR(0, 291, __pyx_L1_error)\r\n",
      "      |                                                      \u001b[01;35m\u001b[K~^~~~~~~~~~~~~~~~~~~~~~~~~~~\u001b[m\u001b[K\r\n",
      "/usr/local/lib/python3.10/dist-packages/Cython/Compiler/Main.py:381: FutureWarning: Cython directive 'language_level' not set, using '3str' for now (Py3). This has changed from earlier releases! File: /kaggle/working/RECsys_Challenge2024/Recommenders/FeatureWeighting/Cython/HP3_Similarity_Cython_SGD.pyx\r\n",
      "  tree = Parsing.p_module(s, pxd, full_module_name)\r\n",
      "performance hint: HP3_Similarity_Cython_SGD.pyx:113:40: Index should be typed for more efficient access\r\n",
      "performance hint: HP3_Similarity_Cython_SGD.pyx:114:40: Index should be typed for more efficient access\r\n",
      "Compiling [8/11]: HP3_Similarity_Cython_SGD.pyx... PASS\r\n",
      "\r\n",
      "Compiling [9/11]: FBSM_Rating_Cython_SGD.pyx... \r\n",
      "In file included from \u001b[01m\u001b[K/usr/local/lib/python3.10/dist-packages/numpy/core/include/numpy/ndarraytypes.h:1929\u001b[m\u001b[K,\r\n",
      "                 from \u001b[01m\u001b[K/usr/local/lib/python3.10/dist-packages/numpy/core/include/numpy/ndarrayobject.h:12\u001b[m\u001b[K,\r\n",
      "                 from \u001b[01m\u001b[K/usr/local/lib/python3.10/dist-packages/numpy/core/include/numpy/arrayobject.h:5\u001b[m\u001b[K,\r\n",
      "                 from \u001b[01m\u001b[KFBSM_Rating_Cython_SGD.c:1252\u001b[m\u001b[K:\r\n",
      "\u001b[01m\u001b[K/usr/local/lib/python3.10/dist-packages/numpy/core/include/numpy/npy_1_7_deprecated_api.h:17:2:\u001b[m\u001b[K \u001b[01;35m\u001b[Kwarning: \u001b[m\u001b[K#warning \"Using deprecated NumPy API, disable it with \" \"#define NPY_NO_DEPRECATED_API NPY_1_7_API_VERSION\" [\u001b[01;35m\u001b[K\u001b]8;;https://gcc.gnu.org/onlinedocs/gcc/Warning-Options.html#index-Wcpp\u0007-Wcpp\u001b]8;;\u0007\u001b[m\u001b[K]\r\n",
      "   17 | #\u001b[01;35m\u001b[Kwarning\u001b[m\u001b[K \"Using deprecated NumPy API, disable it with \" \\\r\n",
      "      |  \u001b[01;35m\u001b[K^~~~~~~\u001b[m\u001b[K\r\n",
      "\u001b[01m\u001b[KFBSM_Rating_Cython_SGD.c:\u001b[m\u001b[K In function ‘\u001b[01m\u001b[K__pyx_pf_22FBSM_Rating_Cython_SGD_22FBSM_Rating_Cython_SGD_2fit\u001b[m\u001b[K’:\r\n",
      "\u001b[01m\u001b[KFBSM_Rating_Cython_SGD.c:26607:55:\u001b[m\u001b[K \u001b[01;35m\u001b[Kwarning: \u001b[m\u001b[K‘\u001b[01m\u001b[K__pyx_v_num_sample\u001b[m\u001b[K’ may be used uninitialized in this function [\u001b[01;35m\u001b[K\u001b]8;;https://gcc.gnu.org/onlinedocs/gcc/Warning-Options.html#index-Wmaybe-uninitialized\u0007-Wmaybe-uninitialized\u001b]8;;\u0007\u001b[m\u001b[K]\r\n",
      "26607 |   __pyx_t_5 = PyFloat_FromDouble((__pyx_v_cum_loss / \u001b[01;35m\u001b[K((double)__pyx_v_num_sample)\u001b[m\u001b[K)); if (unlikely(!__pyx_t_5)) __PYX_ERR(0, 551, __pyx_L1_error)\r\n",
      "      |                                                      \u001b[01;35m\u001b[K~^~~~~~~~~~~~~~~~~~~~~~~~~~~\u001b[m\u001b[K\r\n",
      "/usr/local/lib/python3.10/dist-packages/Cython/Compiler/Main.py:381: FutureWarning: Cython directive 'language_level' not set, using '3str' for now (Py3). This has changed from earlier releases! File: /kaggle/working/RECsys_Challenge2024/Recommenders/FeatureWeighting/Cython/FBSM_Rating_Cython_SGD.pyx\r\n",
      "  tree = Parsing.p_module(s, pxd, full_module_name)\r\n",
      "Compiling [9/11]: FBSM_Rating_Cython_SGD.pyx... PASS\r\n",
      "\r\n",
      "Compiling [10/11]: CFW_DVV_Similarity_Cython_SGD.pyx... \r\n",
      "In file included from \u001b[01m\u001b[K/usr/local/lib/python3.10/dist-packages/numpy/core/include/numpy/ndarraytypes.h:1929\u001b[m\u001b[K,\r\n",
      "                 from \u001b[01m\u001b[K/usr/local/lib/python3.10/dist-packages/numpy/core/include/numpy/ndarrayobject.h:12\u001b[m\u001b[K,\r\n",
      "                 from \u001b[01m\u001b[K/usr/local/lib/python3.10/dist-packages/numpy/core/include/numpy/arrayobject.h:5\u001b[m\u001b[K,\r\n",
      "                 from \u001b[01m\u001b[KCFW_DVV_Similarity_Cython_SGD.c:1252\u001b[m\u001b[K:\r\n",
      "\u001b[01m\u001b[K/usr/local/lib/python3.10/dist-packages/numpy/core/include/numpy/npy_1_7_deprecated_api.h:17:2:\u001b[m\u001b[K \u001b[01;35m\u001b[Kwarning: \u001b[m\u001b[K#warning \"Using deprecated NumPy API, disable it with \" \"#define NPY_NO_DEPRECATED_API NPY_1_7_API_VERSION\" [\u001b[01;35m\u001b[K\u001b]8;;https://gcc.gnu.org/onlinedocs/gcc/Warning-Options.html#index-Wcpp\u0007-Wcpp\u001b]8;;\u0007\u001b[m\u001b[K]\r\n",
      "   17 | #\u001b[01;35m\u001b[Kwarning\u001b[m\u001b[K \"Using deprecated NumPy API, disable it with \" \\\r\n",
      "      |  \u001b[01;35m\u001b[K^~~~~~~\u001b[m\u001b[K\r\n",
      "/usr/local/lib/python3.10/dist-packages/Cython/Compiler/Main.py:381: FutureWarning: Cython directive 'language_level' not set, using '3str' for now (Py3). This has changed from earlier releases! File: /kaggle/working/RECsys_Challenge2024/Recommenders/FeatureWeighting/Cython/CFW_DVV_Similarity_Cython_SGD.pyx\r\n",
      "  tree = Parsing.p_module(s, pxd, full_module_name)\r\n",
      "Compiling [10/11]: CFW_DVV_Similarity_Cython_SGD.pyx... PASS\r\n",
      "\r\n",
      "Compiling [11/11]: DataIterator.pyx... \r\n",
      "In file included from \u001b[01m\u001b[K/usr/local/lib/python3.10/dist-packages/numpy/core/include/numpy/ndarraytypes.h:1929\u001b[m\u001b[K,\r\n",
      "                 from \u001b[01m\u001b[K/usr/local/lib/python3.10/dist-packages/numpy/core/include/numpy/ndarrayobject.h:12\u001b[m\u001b[K,\r\n",
      "                 from \u001b[01m\u001b[K/usr/local/lib/python3.10/dist-packages/numpy/core/include/numpy/arrayobject.h:5\u001b[m\u001b[K,\r\n",
      "                 from \u001b[01m\u001b[KDataIterator.c:1252\u001b[m\u001b[K:\r\n",
      "\u001b[01m\u001b[K/usr/local/lib/python3.10/dist-packages/numpy/core/include/numpy/npy_1_7_deprecated_api.h:17:2:\u001b[m\u001b[K \u001b[01;35m\u001b[Kwarning: \u001b[m\u001b[K#warning \"Using deprecated NumPy API, disable it with \" \"#define NPY_NO_DEPRECATED_API NPY_1_7_API_VERSION\" [\u001b[01;35m\u001b[K\u001b]8;;https://gcc.gnu.org/onlinedocs/gcc/Warning-Options.html#index-Wcpp\u0007-Wcpp\u001b]8;;\u0007\u001b[m\u001b[K]\r\n",
      "   17 | #\u001b[01;35m\u001b[Kwarning\u001b[m\u001b[K \"Using deprecated NumPy API, disable it with \" \\\r\n",
      "      |  \u001b[01;35m\u001b[K^~~~~~~\u001b[m\u001b[K\r\n",
      "\u001b[01m\u001b[KDataIterator.c:\u001b[m\u001b[K In function ‘\u001b[01m\u001b[K__pyx_pf_12DataIterator_19InteractionIterator_6__next__\u001b[m\u001b[K’:\r\n",
      "\u001b[01m\u001b[KDataIterator.c:20937:22:\u001b[m\u001b[K \u001b[01;35m\u001b[Kwarning: \u001b[m\u001b[K‘\u001b[01m\u001b[K__pyx_v_i_batch\u001b[m\u001b[K’ may be used uninitialized in this function [\u001b[01;35m\u001b[K\u001b]8;;https://gcc.gnu.org/onlinedocs/gcc/Warning-Options.html#index-Wmaybe-uninitialized\u0007-Wmaybe-uninitialized\u001b]8;;\u0007\u001b[m\u001b[K]\r\n",
      "20937 |     (__pyx_v_i_batch \u001b[01;35m\u001b[K+\u001b[m\u001b[K 1),\r\n",
      "      |                      \u001b[01;35m\u001b[K^\u001b[m\u001b[K\r\n",
      "\u001b[01m\u001b[KDataIterator.c:\u001b[m\u001b[K In function ‘\u001b[01m\u001b[K__pyx_pf_12DataIterator_30InteractionAndNegativeIterator_6__next__\u001b[m\u001b[K’:\r\n",
      "\u001b[01m\u001b[KDataIterator.c:25499:22:\u001b[m\u001b[K \u001b[01;35m\u001b[Kwarning: \u001b[m\u001b[K‘\u001b[01m\u001b[K__pyx_v_i_batch\u001b[m\u001b[K’ may be used uninitialized in this function [\u001b[01;35m\u001b[K\u001b]8;;https://gcc.gnu.org/onlinedocs/gcc/Warning-Options.html#index-Wmaybe-uninitialized\u0007-Wmaybe-uninitialized\u001b]8;;\u0007\u001b[m\u001b[K]\r\n",
      "25499 |     (__pyx_v_i_batch \u001b[01;35m\u001b[K+\u001b[m\u001b[K 1),\r\n",
      "      |                      \u001b[01;35m\u001b[K^\u001b[m\u001b[K\r\n",
      "\u001b[01m\u001b[KDataIterator.c:\u001b[m\u001b[K In function ‘\u001b[01m\u001b[K__pyx_pf_12DataIterator_11BPRIterator_6__next__\u001b[m\u001b[K’:\r\n",
      "\u001b[01m\u001b[KDataIterator.c:23056:22:\u001b[m\u001b[K \u001b[01;35m\u001b[Kwarning: \u001b[m\u001b[K‘\u001b[01m\u001b[K__pyx_v_i_batch\u001b[m\u001b[K’ may be used uninitialized in this function [\u001b[01;35m\u001b[K\u001b]8;;https://gcc.gnu.org/onlinedocs/gcc/Warning-Options.html#index-Wmaybe-uninitialized\u0007-Wmaybe-uninitialized\u001b]8;;\u0007\u001b[m\u001b[K]\r\n",
      "23056 |     (__pyx_v_i_batch \u001b[01;35m\u001b[K+\u001b[m\u001b[K 1),\r\n",
      "      |                      \u001b[01;35m\u001b[K^\u001b[m\u001b[K\r\n",
      "/usr/local/lib/python3.10/dist-packages/Cython/Compiler/Main.py:381: FutureWarning: Cython directive 'language_level' not set, using '3str' for now (Py3). This has changed from earlier releases! File: /kaggle/working/RECsys_Challenge2024/Utils/PyTorch/Cython/DataIterator.pyx\r\n",
      "  tree = Parsing.p_module(s, pxd, full_module_name)\r\n",
      "Compiling [11/11]: DataIterator.pyx... PASS\r\n",
      "\r\n",
      "run_compile_all_cython: Compilation finished. FAILS 2/11.\r\n",
      "Compilation log can be found here: './result_experiments/run_compile_all_cython.txt'\r\n"
     ]
    }
   ],
   "source": [
    "%cd /kaggle/working/RECsys_Challenge2024 \n",
    "! python run_compile_all_cython.py"
   ]
  },
  {
   "cell_type": "code",
   "execution_count": 5,
   "id": "ac0a685d",
   "metadata": {
    "execution": {
     "iopub.execute_input": "2025-01-06T23:48:20.023776Z",
     "iopub.status.busy": "2025-01-06T23:48:20.023289Z",
     "iopub.status.idle": "2025-01-06T23:48:21.354468Z",
     "shell.execute_reply": "2025-01-06T23:48:21.353563Z"
    },
    "papermill": {
     "duration": 1.348192,
     "end_time": "2025-01-06T23:48:21.356324",
     "exception": false,
     "start_time": "2025-01-06T23:48:20.008132",
     "status": "completed"
    },
    "tags": []
   },
   "outputs": [],
   "source": [
    "from Utils.notebookFunctions import *\n",
    "import numpy as np\n",
    "import pandas as pd\n",
    "import scipy.sparse as sps\n",
    "import time\n",
    "import shutil\n",
    "import optuna\n",
    "import json\n",
    "import os\n",
    "from Utils.seconds_to_biggest_unit import seconds_to_biggest_unit\n",
    "\n",
    "\n",
    "K_PATH = '/kaggle/working/RECsys_Challenge2024'\n",
    "GH_PATH = 'TrainedModels/WithKFCV/MatrixFactorization/PureSVDRecommender'\n",
    "\n",
    "np.random.seed(42)"
   ]
  },
  {
   "cell_type": "markdown",
   "id": "be513947",
   "metadata": {
    "papermill": {
     "duration": 0.017285,
     "end_time": "2025-01-06T23:48:21.387786",
     "exception": false,
     "start_time": "2025-01-06T23:48:21.370501",
     "status": "completed"
    },
    "tags": []
   },
   "source": [
    "## Import the repository **RECsys_Challenge2024**"
   ]
  },
  {
   "cell_type": "code",
   "execution_count": 6,
   "id": "7e1fc1f9",
   "metadata": {
    "execution": {
     "iopub.execute_input": "2025-01-06T23:48:21.419484Z",
     "iopub.status.busy": "2025-01-06T23:48:21.419011Z",
     "iopub.status.idle": "2025-01-06T23:48:21.720035Z",
     "shell.execute_reply": "2025-01-06T23:48:21.718817Z"
    },
    "papermill": {
     "duration": 0.318867,
     "end_time": "2025-01-06T23:48:21.721820",
     "exception": false,
     "start_time": "2025-01-06T23:48:21.402953",
     "status": "completed"
    },
    "tags": []
   },
   "outputs": [
    {
     "name": "stdout",
     "output_type": "stream",
     "text": [
      "Repository 'RECsys_Challenge2024' found.\n"
     ]
    }
   ],
   "source": [
    "repo = get_repo_from_github(token)"
   ]
  },
  {
   "cell_type": "code",
   "execution_count": 7,
   "id": "aeb3f05e",
   "metadata": {
    "execution": {
     "iopub.execute_input": "2025-01-06T23:48:21.751818Z",
     "iopub.status.busy": "2025-01-06T23:48:21.751433Z",
     "iopub.status.idle": "2025-01-06T23:48:21.755961Z",
     "shell.execute_reply": "2025-01-06T23:48:21.754802Z"
    },
    "papermill": {
     "duration": 0.021414,
     "end_time": "2025-01-06T23:48:21.757707",
     "exception": false,
     "start_time": "2025-01-06T23:48:21.736293",
     "status": "completed"
    },
    "tags": []
   },
   "outputs": [],
   "source": [
    "config = {\n",
    "    'model': 'ScaledPureSVD',\n",
    "    'n_folds': 5,\n",
    "    'metric': 'MAP',\n",
    "    'tune_parameters': True,\n",
    "    'database_path': '/kaggle/working/history_ScaledPureSVD_MAP.db',\n",
    "    'copy_prev_best_params': False,\n",
    "    'tune_best_params': True,\n",
    "    'save_github': True\n",
    "}"
   ]
  },
  {
   "cell_type": "markdown",
   "id": "40a8bc9c",
   "metadata": {
    "papermill": {
     "duration": 0.013646,
     "end_time": "2025-01-06T23:48:21.785543",
     "exception": false,
     "start_time": "2025-01-06T23:48:21.771897",
     "status": "completed"
    },
    "tags": []
   },
   "source": [
    "Import the database where previous tuning trials have been saved."
   ]
  },
  {
   "cell_type": "code",
   "execution_count": 8,
   "id": "55336e0e",
   "metadata": {
    "execution": {
     "iopub.execute_input": "2025-01-06T23:48:21.815152Z",
     "iopub.status.busy": "2025-01-06T23:48:21.814819Z",
     "iopub.status.idle": "2025-01-06T23:48:21.819863Z",
     "shell.execute_reply": "2025-01-06T23:48:21.819010Z"
    },
    "papermill": {
     "duration": 0.021277,
     "end_time": "2025-01-06T23:48:21.821337",
     "exception": false,
     "start_time": "2025-01-06T23:48:21.800060",
     "status": "completed"
    },
    "tags": []
   },
   "outputs": [],
   "source": [
    "try:\n",
    "    shutil.copyfile(\n",
    "        f'{K_PATH}/{GH_PATH}/{config[\"model\"]}Recommender/Optimizing{config[\"metric\"]}/history_{config[\"model\"]}_{config[\"metric\"]}.db', \n",
    "        config['database_path']\n",
    "    )\n",
    "except FileNotFoundError:\n",
    "    pass # if not present optuna will create it"
   ]
  },
  {
   "cell_type": "markdown",
   "id": "699677a5",
   "metadata": {
    "papermill": {
     "duration": 0.013602,
     "end_time": "2025-01-06T23:48:21.849233",
     "exception": false,
     "start_time": "2025-01-06T23:48:21.835631",
     "status": "completed"
    },
    "tags": []
   },
   "source": [
    "# Construction of URM and ICM matrices"
   ]
  },
  {
   "cell_type": "code",
   "execution_count": 9,
   "id": "f917cdb1",
   "metadata": {
    "execution": {
     "iopub.execute_input": "2025-01-06T23:48:21.878364Z",
     "iopub.status.busy": "2025-01-06T23:48:21.878020Z",
     "iopub.status.idle": "2025-01-06T23:48:22.429451Z",
     "shell.execute_reply": "2025-01-06T23:48:22.428392Z"
    },
    "papermill": {
     "duration": 0.567911,
     "end_time": "2025-01-06T23:48:22.431162",
     "exception": false,
     "start_time": "2025-01-06T23:48:21.863251",
     "status": "completed"
    },
    "tags": []
   },
   "outputs": [
    {
     "data": {
      "text/plain": [
       "<35736x38121 sparse matrix of type '<class 'numpy.float64'>'\n",
       "\twith 1764607 stored elements in Compressed Sparse Row format>"
      ]
     },
     "execution_count": 9,
     "metadata": {},
     "output_type": "execute_result"
    }
   ],
   "source": [
    "URM_all_dataframe = pd.read_csv(\"/kaggle/working/RECsys_Challenge2024/Dataset/data_train.csv\")\n",
    "\n",
    "n_users = len(URM_all_dataframe[\"user_id\"].unique())\n",
    "n_items = len(URM_all_dataframe[\"item_id\"].unique())\n",
    "\n",
    "URM_all = sps.csr_matrix((URM_all_dataframe[\"data\"].values, \n",
    "                          (URM_all_dataframe[\"user_id\"].values, URM_all_dataframe[\"item_id\"].values)),\n",
    "                        shape = (n_users, n_items))\n",
    "\n",
    "URM_all"
   ]
  },
  {
   "cell_type": "code",
   "execution_count": 10,
   "id": "41dd25c7",
   "metadata": {
    "execution": {
     "iopub.execute_input": "2025-01-06T23:48:22.461225Z",
     "iopub.status.busy": "2025-01-06T23:48:22.460908Z",
     "iopub.status.idle": "2025-01-06T23:48:23.319076Z",
     "shell.execute_reply": "2025-01-06T23:48:23.318062Z"
    },
    "papermill": {
     "duration": 0.875069,
     "end_time": "2025-01-06T23:48:23.320823",
     "exception": false,
     "start_time": "2025-01-06T23:48:22.445754",
     "status": "completed"
    },
    "tags": []
   },
   "outputs": [
    {
     "data": {
      "text/plain": [
       "<38121x94331 sparse matrix of type '<class 'numpy.float64'>'\n",
       "\twith 2940040 stored elements in Compressed Sparse Row format>"
      ]
     },
     "execution_count": 10,
     "metadata": {},
     "output_type": "execute_result"
    }
   ],
   "source": [
    "ICM_dataframe = pd.read_csv(\"/kaggle/working/RECsys_Challenge2024/Dataset/data_ICM_metadata.csv\")\n",
    "\n",
    "n_items = len(ICM_dataframe[\"item_id\"].unique())\n",
    "n_features = len(ICM_dataframe[\"feature_id\"].unique())\n",
    "\n",
    "ICM_all = sps.csr_matrix((ICM_dataframe[\"data\"].values, \n",
    "                          (ICM_dataframe[\"item_id\"].values, ICM_dataframe[\"feature_id\"].values)),\n",
    "                        shape = (n_items, n_features))\n",
    "\n",
    "ICM_all"
   ]
  },
  {
   "cell_type": "markdown",
   "id": "dcac0d5f",
   "metadata": {
    "papermill": {
     "duration": 0.013907,
     "end_time": "2025-01-06T23:48:23.349298",
     "exception": false,
     "start_time": "2025-01-06T23:48:23.335391",
     "status": "completed"
    },
    "tags": []
   },
   "source": [
    "# Training"
   ]
  },
  {
   "cell_type": "code",
   "execution_count": 11,
   "id": "11875688",
   "metadata": {
    "execution": {
     "iopub.execute_input": "2025-01-06T23:48:23.378972Z",
     "iopub.status.busy": "2025-01-06T23:48:23.378580Z",
     "iopub.status.idle": "2025-01-06T23:48:41.196160Z",
     "shell.execute_reply": "2025-01-06T23:48:41.194968Z"
    },
    "papermill": {
     "duration": 17.835121,
     "end_time": "2025-01-06T23:48:41.198610",
     "exception": false,
     "start_time": "2025-01-06T23:48:23.363489",
     "status": "completed"
    },
    "tags": []
   },
   "outputs": [
    {
     "name": "stdout",
     "output_type": "stream",
     "text": [
      "Warning: 141 (0.39 %) of 35736 users have no sampled items\n"
     ]
    }
   ],
   "source": [
    "from Evaluation.Evaluator import EvaluatorHoldout\n",
    "from Data_manager.split_functions.split_train_validation_random_holdout import split_train_in_two_percentage_global_sample\n",
    "from Data_manager.split_functions.split_train_k_folds import split_train_k_folds\n",
    "\n",
    "URM_train, URM_validation = split_train_in_two_percentage_global_sample(URM_all, train_percentage = 0.80)\n",
    "\n",
    "folds = split_train_k_folds(URM_all, k=config['n_folds'])"
   ]
  },
  {
   "cell_type": "code",
   "execution_count": 12,
   "id": "f660ae45",
   "metadata": {
    "execution": {
     "iopub.execute_input": "2025-01-06T23:48:41.254142Z",
     "iopub.status.busy": "2025-01-06T23:48:41.253780Z",
     "iopub.status.idle": "2025-01-06T23:48:42.299595Z",
     "shell.execute_reply": "2025-01-06T23:48:42.298547Z"
    },
    "papermill": {
     "duration": 1.075912,
     "end_time": "2025-01-06T23:48:42.301619",
     "exception": false,
     "start_time": "2025-01-06T23:48:41.225707",
     "status": "completed"
    },
    "tags": []
   },
   "outputs": [],
   "source": [
    "from Recommenders.MatrixFactorization.PureSVDRecommender import ScaledPureSVDRecommender\n",
    "\n",
    "def objective_function_ScaledPureSVD(optuna_trial):\n",
    "    \n",
    "    full_hyperp = {\n",
    "                    'num_factors': optuna_trial.suggest_int('num_factors', 1, 2000, log=True),\n",
    "                    'scaling_items': optuna_trial.suggest_float('scaling_items', 1e-2, 2, log=True),\n",
    "                    'scaling_users': optuna_trial.suggest_float('scaling_users', 1e-2, 2, log=True),\n",
    "                  }        \n",
    "    \n",
    "    validation_results = []\n",
    "    \n",
    "    for fold_idx, (URM_train_fold, URM_validation_fold) in enumerate(folds):\n",
    "    \n",
    "        recommender_instance = ScaledPureSVDRecommender(URM_train_fold)\n",
    "        recommender_instance.fit(**full_hyperp)\n",
    "        \n",
    "        evaluator = EvaluatorHoldout(URM_validation_fold, cutoff_list=[10])\n",
    "        result_df, _ = evaluator.evaluateRecommender(recommender_instance)\n",
    "        \n",
    "        validation_results.append(result_df.loc[10][\"MAP\"])\n",
    "    \n",
    "    return np.mean(validation_results)"
   ]
  },
  {
   "cell_type": "code",
   "execution_count": 13,
   "id": "9f829916",
   "metadata": {
    "execution": {
     "iopub.execute_input": "2025-01-06T23:48:42.334675Z",
     "iopub.status.busy": "2025-01-06T23:48:42.334108Z",
     "iopub.status.idle": "2025-01-07T10:42:00.961942Z",
     "shell.execute_reply": "2025-01-07T10:42:00.959770Z"
    },
    "papermill": {
     "duration": 39198.649257,
     "end_time": "2025-01-07T10:42:00.966551",
     "exception": false,
     "start_time": "2025-01-06T23:48:42.317294",
     "status": "completed"
    },
    "tags": []
   },
   "outputs": [
    {
     "name": "stderr",
     "output_type": "stream",
     "text": [
      "[I 2025-01-06 23:48:43,312] Using an existing study with name 'hyperparameters_tuning_ScaledPureSVD_MAP' instead of creating a new one.\n"
     ]
    },
    {
     "name": "stdout",
     "output_type": "stream",
     "text": [
      "ScaledPureSVDRecommender: Computing SVD decomposition...\n",
      "ScaledPureSVDRecommender: Computing SVD decomposition... done in 3.05 min\n",
      "EvaluatorHoldout: Ignoring 173 ( 0.5%) Users that have less than 1 test interactions\n",
      "EvaluatorHoldout: Processed 35563 (100.0%) in 3.35 min. Users per second: 177\n",
      "ScaledPureSVDRecommender: Computing SVD decomposition...\n",
      "ScaledPureSVDRecommender: Computing SVD decomposition... done in 3.22 min\n",
      "EvaluatorHoldout: Ignoring 163 ( 0.5%) Users that have less than 1 test interactions\n",
      "EvaluatorHoldout: Processed 35573 (100.0%) in 3.29 min. Users per second: 180\n",
      "ScaledPureSVDRecommender: Computing SVD decomposition...\n",
      "ScaledPureSVDRecommender: Computing SVD decomposition... done in 3.57 min\n",
      "EvaluatorHoldout: Ignoring 150 ( 0.4%) Users that have less than 1 test interactions\n",
      "EvaluatorHoldout: Processed 35586 (100.0%) in 3.45 min. Users per second: 172\n",
      "ScaledPureSVDRecommender: Computing SVD decomposition...\n",
      "ScaledPureSVDRecommender: Computing SVD decomposition... done in 3.44 min\n",
      "EvaluatorHoldout: Ignoring 167 ( 0.5%) Users that have less than 1 test interactions\n",
      "EvaluatorHoldout: Processed 35569 (100.0%) in 3.40 min. Users per second: 174\n",
      "ScaledPureSVDRecommender: Computing SVD decomposition...\n",
      "ScaledPureSVDRecommender: Computing SVD decomposition... done in 3.36 min\n",
      "EvaluatorHoldout: Ignoring 172 ( 0.5%) Users that have less than 1 test interactions\n",
      "EvaluatorHoldout: Processed 35564 (100.0%) in 3.37 min. Users per second: 176\n"
     ]
    },
    {
     "name": "stderr",
     "output_type": "stream",
     "text": [
      "[I 2025-01-07 00:22:14,408] Trial 102 finished with value: 0.040272735457935506 and parameters: {'num_factors': 1987, 'scaling_items': 0.018369043502190627, 'scaling_users': 0.06053866120163277}. Best is trial 64 with value: 0.04041611779585121.\n"
     ]
    },
    {
     "name": "stdout",
     "output_type": "stream",
     "text": [
      "ScaledPureSVDRecommender: Computing SVD decomposition...\n",
      "ScaledPureSVDRecommender: Computing SVD decomposition... done in 2.42 min\n",
      "EvaluatorHoldout: Ignoring 173 ( 0.5%) Users that have less than 1 test interactions\n",
      "EvaluatorHoldout: Processed 35563 (100.0%) in 2.82 min. Users per second: 210\n",
      "ScaledPureSVDRecommender: Computing SVD decomposition...\n",
      "ScaledPureSVDRecommender: Computing SVD decomposition... done in 2.41 min\n",
      "EvaluatorHoldout: Ignoring 163 ( 0.5%) Users that have less than 1 test interactions\n",
      "EvaluatorHoldout: Processed 35573 (100.0%) in 3.04 min. Users per second: 195\n",
      "ScaledPureSVDRecommender: Computing SVD decomposition...\n",
      "ScaledPureSVDRecommender: Computing SVD decomposition... done in 2.36 min\n",
      "EvaluatorHoldout: Ignoring 150 ( 0.4%) Users that have less than 1 test interactions\n",
      "EvaluatorHoldout: Processed 35586 (100.0%) in 2.78 min. Users per second: 213\n",
      "ScaledPureSVDRecommender: Computing SVD decomposition...\n",
      "ScaledPureSVDRecommender: Computing SVD decomposition... done in 2.42 min\n",
      "EvaluatorHoldout: Ignoring 167 ( 0.5%) Users that have less than 1 test interactions\n",
      "EvaluatorHoldout: Processed 35569 (100.0%) in 2.99 min. Users per second: 198\n",
      "ScaledPureSVDRecommender: Computing SVD decomposition...\n",
      "ScaledPureSVDRecommender: Computing SVD decomposition... done in 2.43 min\n",
      "EvaluatorHoldout: Ignoring 172 ( 0.5%) Users that have less than 1 test interactions\n",
      "EvaluatorHoldout: Processed 35564 (100.0%) in 2.78 min. Users per second: 213\n"
     ]
    },
    {
     "name": "stderr",
     "output_type": "stream",
     "text": [
      "[I 2025-01-07 00:48:42,397] Trial 103 finished with value: 0.03900465622973684 and parameters: {'num_factors': 1521, 'scaling_items': 0.017914600468599825, 'scaling_users': 0.058869785851138105}. Best is trial 64 with value: 0.04041611779585121.\n"
     ]
    },
    {
     "name": "stdout",
     "output_type": "stream",
     "text": [
      "ScaledPureSVDRecommender: Computing SVD decomposition...\n",
      "ScaledPureSVDRecommender: Computing SVD decomposition... done in 1.79 min\n",
      "EvaluatorHoldout: Ignoring 173 ( 0.5%) Users that have less than 1 test interactions\n",
      "EvaluatorHoldout: Processed 35563 (100.0%) in 2.32 min. Users per second: 255\n",
      "ScaledPureSVDRecommender: Computing SVD decomposition...\n",
      "ScaledPureSVDRecommender: Computing SVD decomposition... done in 1.74 min\n",
      "EvaluatorHoldout: Ignoring 163 ( 0.5%) Users that have less than 1 test interactions\n",
      "EvaluatorHoldout: Processed 35573 (100.0%) in 2.34 min. Users per second: 253\n",
      "ScaledPureSVDRecommender: Computing SVD decomposition...\n",
      "ScaledPureSVDRecommender: Computing SVD decomposition... done in 1.75 min\n",
      "EvaluatorHoldout: Ignoring 150 ( 0.4%) Users that have less than 1 test interactions\n",
      "EvaluatorHoldout: Processed 35586 (100.0%) in 2.34 min. Users per second: 253\n",
      "ScaledPureSVDRecommender: Computing SVD decomposition...\n",
      "ScaledPureSVDRecommender: Computing SVD decomposition... done in 1.80 min\n",
      "EvaluatorHoldout: Ignoring 167 ( 0.5%) Users that have less than 1 test interactions\n",
      "EvaluatorHoldout: Processed 35569 (100.0%) in 2.33 min. Users per second: 254\n",
      "ScaledPureSVDRecommender: Computing SVD decomposition...\n",
      "ScaledPureSVDRecommender: Computing SVD decomposition... done in 1.74 min\n",
      "EvaluatorHoldout: Ignoring 172 ( 0.5%) Users that have less than 1 test interactions\n",
      "EvaluatorHoldout: Processed 35564 (100.0%) in 2.33 min. Users per second: 254\n"
     ]
    },
    {
     "name": "stderr",
     "output_type": "stream",
     "text": [
      "[I 2025-01-07 01:09:12,790] Trial 104 finished with value: 0.037816863163871596 and parameters: {'num_factors': 1189, 'scaling_items': 0.014458833845098896, 'scaling_users': 0.0456362902500508}. Best is trial 64 with value: 0.04041611779585121.\n"
     ]
    },
    {
     "name": "stdout",
     "output_type": "stream",
     "text": [
      "ScaledPureSVDRecommender: Computing SVD decomposition...\n",
      "ScaledPureSVDRecommender: Computing SVD decomposition... done in 2.72 min\n",
      "EvaluatorHoldout: Ignoring 173 ( 0.5%) Users that have less than 1 test interactions\n",
      "EvaluatorHoldout: Processed 35563 (100.0%) in 3.05 min. Users per second: 194\n",
      "ScaledPureSVDRecommender: Computing SVD decomposition...\n",
      "ScaledPureSVDRecommender: Computing SVD decomposition... done in 2.68 min\n",
      "EvaluatorHoldout: Ignoring 163 ( 0.5%) Users that have less than 1 test interactions\n",
      "EvaluatorHoldout: Processed 35573 (100.0%) in 3.00 min. Users per second: 198\n",
      "ScaledPureSVDRecommender: Computing SVD decomposition...\n",
      "ScaledPureSVDRecommender: Computing SVD decomposition... done in 2.71 min\n",
      "EvaluatorHoldout: Ignoring 150 ( 0.4%) Users that have less than 1 test interactions\n",
      "EvaluatorHoldout: Processed 35586 (100.0%) in 3.03 min. Users per second: 196\n",
      "ScaledPureSVDRecommender: Computing SVD decomposition...\n",
      "ScaledPureSVDRecommender: Computing SVD decomposition... done in 2.70 min\n",
      "EvaluatorHoldout: Ignoring 167 ( 0.5%) Users that have less than 1 test interactions\n",
      "EvaluatorHoldout: Processed 35569 (100.0%) in 3.00 min. Users per second: 198\n",
      "ScaledPureSVDRecommender: Computing SVD decomposition...\n",
      "ScaledPureSVDRecommender: Computing SVD decomposition... done in 2.66 min\n",
      "EvaluatorHoldout: Ignoring 172 ( 0.5%) Users that have less than 1 test interactions\n",
      "EvaluatorHoldout: Processed 35564 (100.0%) in 3.00 min. Users per second: 197\n"
     ]
    },
    {
     "name": "stderr",
     "output_type": "stream",
     "text": [
      "[I 2025-01-07 01:37:47,198] Trial 105 finished with value: 0.0393166412189161 and parameters: {'num_factors': 1664, 'scaling_items': 0.011950409509254988, 'scaling_users': 0.08872214334881419}. Best is trial 64 with value: 0.04041611779585121.\n"
     ]
    },
    {
     "name": "stdout",
     "output_type": "stream",
     "text": [
      "ScaledPureSVDRecommender: Computing SVD decomposition...\n",
      "ScaledPureSVDRecommender: Computing SVD decomposition... done in 1.08 min\n",
      "EvaluatorHoldout: Ignoring 173 ( 0.5%) Users that have less than 1 test interactions\n",
      "EvaluatorHoldout: Processed 35563 (100.0%) in 1.78 min. Users per second: 334\n",
      "ScaledPureSVDRecommender: Computing SVD decomposition...\n",
      "ScaledPureSVDRecommender: Computing SVD decomposition... done in 1.07 min\n",
      "EvaluatorHoldout: Ignoring 163 ( 0.5%) Users that have less than 1 test interactions\n",
      "EvaluatorHoldout: Processed 35573 (100.0%) in 1.76 min. Users per second: 336\n",
      "ScaledPureSVDRecommender: Computing SVD decomposition...\n",
      "ScaledPureSVDRecommender: Computing SVD decomposition... done in 1.12 min\n",
      "EvaluatorHoldout: Ignoring 150 ( 0.4%) Users that have less than 1 test interactions\n",
      "EvaluatorHoldout: Processed 35586 (100.0%) in 1.78 min. Users per second: 333\n",
      "ScaledPureSVDRecommender: Computing SVD decomposition...\n",
      "ScaledPureSVDRecommender: Computing SVD decomposition... done in 1.08 min\n",
      "EvaluatorHoldout: Ignoring 167 ( 0.5%) Users that have less than 1 test interactions\n",
      "EvaluatorHoldout: Processed 35569 (100.0%) in 1.77 min. Users per second: 334\n",
      "ScaledPureSVDRecommender: Computing SVD decomposition...\n",
      "ScaledPureSVDRecommender: Computing SVD decomposition... done in 1.13 min\n",
      "EvaluatorHoldout: Ignoring 172 ( 0.5%) Users that have less than 1 test interactions\n",
      "EvaluatorHoldout: Processed 35564 (100.0%) in 1.78 min. Users per second: 333\n"
     ]
    },
    {
     "name": "stderr",
     "output_type": "stream",
     "text": [
      "[I 2025-01-07 01:52:09,100] Trial 106 finished with value: 0.03454337607018097 and parameters: {'num_factors': 793, 'scaling_items': 0.016422740056133135, 'scaling_users': 0.10964979287866954}. Best is trial 64 with value: 0.04041611779585121.\n"
     ]
    },
    {
     "name": "stdout",
     "output_type": "stream",
     "text": [
      "ScaledPureSVDRecommender: Computing SVD decomposition...\n",
      "ScaledPureSVDRecommender: Computing SVD decomposition... done in 2.05 min\n",
      "EvaluatorHoldout: Ignoring 173 ( 0.5%) Users that have less than 1 test interactions\n",
      "EvaluatorHoldout: Processed 35563 (100.0%) in 2.53 min. Users per second: 235\n",
      "ScaledPureSVDRecommender: Computing SVD decomposition...\n",
      "ScaledPureSVDRecommender: Computing SVD decomposition... done in 2.05 min\n",
      "EvaluatorHoldout: Ignoring 163 ( 0.5%) Users that have less than 1 test interactions\n",
      "EvaluatorHoldout: Processed 35573 (100.0%) in 2.56 min. Users per second: 232\n",
      "ScaledPureSVDRecommender: Computing SVD decomposition...\n",
      "ScaledPureSVDRecommender: Computing SVD decomposition... done in 2.06 min\n",
      "EvaluatorHoldout: Ignoring 150 ( 0.4%) Users that have less than 1 test interactions\n",
      "EvaluatorHoldout: Processed 35586 (100.0%) in 2.57 min. Users per second: 231\n",
      "ScaledPureSVDRecommender: Computing SVD decomposition...\n",
      "ScaledPureSVDRecommender: Computing SVD decomposition... done in 2.06 min\n",
      "EvaluatorHoldout: Ignoring 167 ( 0.5%) Users that have less than 1 test interactions\n",
      "EvaluatorHoldout: Processed 35569 (100.0%) in 2.56 min. Users per second: 232\n",
      "ScaledPureSVDRecommender: Computing SVD decomposition...\n",
      "ScaledPureSVDRecommender: Computing SVD decomposition... done in 2.07 min\n",
      "EvaluatorHoldout: Ignoring 172 ( 0.5%) Users that have less than 1 test interactions\n",
      "EvaluatorHoldout: Processed 35564 (100.0%) in 2.56 min. Users per second: 232\n"
     ]
    },
    {
     "name": "stderr",
     "output_type": "stream",
     "text": [
      "[I 2025-01-07 02:15:13,651] Trial 107 finished with value: 0.038378823078934934 and parameters: {'num_factors': 1341, 'scaling_items': 0.019049318047733178, 'scaling_users': 0.04921258006250253}. Best is trial 64 with value: 0.04041611779585121.\n"
     ]
    },
    {
     "name": "stdout",
     "output_type": "stream",
     "text": [
      "ScaledPureSVDRecommender: Computing SVD decomposition...\n",
      "ScaledPureSVDRecommender: Computing SVD decomposition... done in 2.87 min\n",
      "EvaluatorHoldout: Ignoring 173 ( 0.5%) Users that have less than 1 test interactions\n",
      "EvaluatorHoldout: Processed 35563 (100.0%) in 3.12 min. Users per second: 190\n",
      "ScaledPureSVDRecommender: Computing SVD decomposition...\n",
      "ScaledPureSVDRecommender: Computing SVD decomposition... done in 2.92 min\n",
      "EvaluatorHoldout: Ignoring 163 ( 0.5%) Users that have less than 1 test interactions\n",
      "EvaluatorHoldout: Processed 35573 (100.0%) in 3.10 min. Users per second: 191\n",
      "ScaledPureSVDRecommender: Computing SVD decomposition...\n",
      "ScaledPureSVDRecommender: Computing SVD decomposition... done in 2.87 min\n",
      "EvaluatorHoldout: Ignoring 150 ( 0.4%) Users that have less than 1 test interactions\n",
      "EvaluatorHoldout: Processed 35586 (100.0%) in 3.10 min. Users per second: 192\n",
      "ScaledPureSVDRecommender: Computing SVD decomposition...\n",
      "ScaledPureSVDRecommender: Computing SVD decomposition... done in 2.93 min\n",
      "EvaluatorHoldout: Ignoring 167 ( 0.5%) Users that have less than 1 test interactions\n",
      "EvaluatorHoldout: Processed 35569 (100.0%) in 3.13 min. Users per second: 190\n",
      "ScaledPureSVDRecommender: Computing SVD decomposition...\n",
      "ScaledPureSVDRecommender: Computing SVD decomposition... done in 2.92 min\n",
      "EvaluatorHoldout: Ignoring 172 ( 0.5%) Users that have less than 1 test interactions\n",
      "EvaluatorHoldout: Processed 35564 (100.0%) in 3.10 min. Users per second: 191\n"
     ]
    },
    {
     "name": "stderr",
     "output_type": "stream",
     "text": [
      "[I 2025-01-07 02:45:17,636] Trial 108 finished with value: 0.03984005907111889 and parameters: {'num_factors': 1747, 'scaling_items': 0.014163400871011873, 'scaling_users': 0.05468324068417504}. Best is trial 64 with value: 0.04041611779585121.\n"
     ]
    },
    {
     "name": "stdout",
     "output_type": "stream",
     "text": [
      "ScaledPureSVDRecommender: Computing SVD decomposition...\n",
      "ScaledPureSVDRecommender: Computing SVD decomposition... done in 1.32 min\n",
      "EvaluatorHoldout: Ignoring 173 ( 0.5%) Users that have less than 1 test interactions\n",
      "EvaluatorHoldout: Processed 35563 (100.0%) in 2.01 min. Users per second: 295\n",
      "ScaledPureSVDRecommender: Computing SVD decomposition...\n",
      "ScaledPureSVDRecommender: Computing SVD decomposition... done in 1.37 min\n",
      "EvaluatorHoldout: Ignoring 163 ( 0.5%) Users that have less than 1 test interactions\n",
      "EvaluatorHoldout: Processed 35573 (100.0%) in 2.00 min. Users per second: 297\n",
      "ScaledPureSVDRecommender: Computing SVD decomposition...\n",
      "ScaledPureSVDRecommender: Computing SVD decomposition... done in 1.33 min\n",
      "EvaluatorHoldout: Ignoring 150 ( 0.4%) Users that have less than 1 test interactions\n",
      "EvaluatorHoldout: Processed 35586 (100.0%) in 2.01 min. Users per second: 295\n",
      "ScaledPureSVDRecommender: Computing SVD decomposition...\n",
      "ScaledPureSVDRecommender: Computing SVD decomposition... done in 1.59 min\n",
      "EvaluatorHoldout: Ignoring 167 ( 0.5%) Users that have less than 1 test interactions\n",
      "EvaluatorHoldout: Processed 35569 (100.0%) in 2.01 min. Users per second: 295\n",
      "ScaledPureSVDRecommender: Computing SVD decomposition...\n",
      "ScaledPureSVDRecommender: Computing SVD decomposition... done in 1.35 min\n",
      "EvaluatorHoldout: Ignoring 172 ( 0.5%) Users that have less than 1 test interactions\n",
      "EvaluatorHoldout: Processed 35564 (100.0%) in 2.03 min. Users per second: 292\n"
     ]
    },
    {
     "name": "stderr",
     "output_type": "stream",
     "text": [
      "[I 2025-01-07 03:02:19,258] Trial 109 finished with value: 0.03616871144582766 and parameters: {'num_factors': 955, 'scaling_items': 0.013342761891646437, 'scaling_users': 0.08059814838571919}. Best is trial 64 with value: 0.04041611779585121.\n"
     ]
    },
    {
     "name": "stdout",
     "output_type": "stream",
     "text": [
      "ScaledPureSVDRecommender: Computing SVD decomposition...\n",
      "ScaledPureSVDRecommender: Computing SVD decomposition... done in 7.04 sec\n",
      "EvaluatorHoldout: Ignoring 173 ( 0.5%) Users that have less than 1 test interactions\n",
      "EvaluatorHoldout: Processed 35563 (100.0%) in 45.14 sec. Users per second: 788\n",
      "ScaledPureSVDRecommender: Computing SVD decomposition...\n",
      "ScaledPureSVDRecommender: Computing SVD decomposition... done in 7.03 sec\n",
      "EvaluatorHoldout: Ignoring 163 ( 0.5%) Users that have less than 1 test interactions\n",
      "EvaluatorHoldout: Processed 35573 (100.0%) in 44.93 sec. Users per second: 792\n",
      "ScaledPureSVDRecommender: Computing SVD decomposition...\n",
      "ScaledPureSVDRecommender: Computing SVD decomposition... done in 6.82 sec\n",
      "EvaluatorHoldout: Ignoring 150 ( 0.4%) Users that have less than 1 test interactions\n",
      "EvaluatorHoldout: Processed 35586 (100.0%) in 45.93 sec. Users per second: 775\n",
      "ScaledPureSVDRecommender: Computing SVD decomposition...\n",
      "ScaledPureSVDRecommender: Computing SVD decomposition... done in 6.89 sec\n",
      "EvaluatorHoldout: Ignoring 167 ( 0.5%) Users that have less than 1 test interactions\n",
      "EvaluatorHoldout: Processed 35569 (100.0%) in 44.66 sec. Users per second: 796\n",
      "ScaledPureSVDRecommender: Computing SVD decomposition...\n",
      "ScaledPureSVDRecommender: Computing SVD decomposition... done in 8.89 sec\n",
      "EvaluatorHoldout: Ignoring 172 ( 0.5%) Users that have less than 1 test interactions\n",
      "EvaluatorHoldout: Processed 35564 (100.0%) in 55.65 sec. Users per second: 639\n"
     ]
    },
    {
     "name": "stderr",
     "output_type": "stream",
     "text": [
      "[I 2025-01-07 03:06:53,167] Trial 110 finished with value: 0.01958459328359194 and parameters: {'num_factors': 88, 'scaling_items': 0.011006586755032901, 'scaling_users': 0.061696524374669236}. Best is trial 64 with value: 0.04041611779585121.\n"
     ]
    },
    {
     "name": "stdout",
     "output_type": "stream",
     "text": [
      "ScaledPureSVDRecommender: Computing SVD decomposition...\n",
      "ScaledPureSVDRecommender: Computing SVD decomposition... done in 3.58 min\n",
      "EvaluatorHoldout: Ignoring 173 ( 0.5%) Users that have less than 1 test interactions\n",
      "EvaluatorHoldout: Processed 35563 (100.0%) in 3.52 min. Users per second: 168\n",
      "ScaledPureSVDRecommender: Computing SVD decomposition...\n",
      "ScaledPureSVDRecommender: Computing SVD decomposition... done in 3.47 min\n",
      "EvaluatorHoldout: Ignoring 163 ( 0.5%) Users that have less than 1 test interactions\n",
      "EvaluatorHoldout: Processed 35573 (100.0%) in 3.49 min. Users per second: 170\n",
      "ScaledPureSVDRecommender: Computing SVD decomposition...\n",
      "ScaledPureSVDRecommender: Computing SVD decomposition... done in 3.44 min\n",
      "EvaluatorHoldout: Ignoring 150 ( 0.4%) Users that have less than 1 test interactions\n",
      "EvaluatorHoldout: Processed 35586 (100.0%) in 3.48 min. Users per second: 171\n",
      "ScaledPureSVDRecommender: Computing SVD decomposition...\n",
      "ScaledPureSVDRecommender: Computing SVD decomposition... done in 3.41 min\n",
      "EvaluatorHoldout: Ignoring 167 ( 0.5%) Users that have less than 1 test interactions\n",
      "EvaluatorHoldout: Processed 35569 (100.0%) in 3.47 min. Users per second: 171\n",
      "ScaledPureSVDRecommender: Computing SVD decomposition...\n",
      "ScaledPureSVDRecommender: Computing SVD decomposition... done in 3.42 min\n",
      "EvaluatorHoldout: Ignoring 172 ( 0.5%) Users that have less than 1 test interactions\n",
      "EvaluatorHoldout: Processed 35564 (100.0%) in 3.47 min. Users per second: 171\n"
     ]
    },
    {
     "name": "stderr",
     "output_type": "stream",
     "text": [
      "[I 2025-01-07 03:41:38,532] Trial 111 finished with value: 0.04008731392233443 and parameters: {'num_factors': 1984, 'scaling_items': 0.021655430428067016, 'scaling_users': 0.07048053193416984}. Best is trial 64 with value: 0.04041611779585121.\n"
     ]
    },
    {
     "name": "stdout",
     "output_type": "stream",
     "text": [
      "ScaledPureSVDRecommender: Computing SVD decomposition...\n",
      "ScaledPureSVDRecommender: Computing SVD decomposition... done in 3.48 min\n",
      "EvaluatorHoldout: Ignoring 173 ( 0.5%) Users that have less than 1 test interactions\n",
      "EvaluatorHoldout: Processed 35563 (100.0%) in 3.50 min. Users per second: 170\n",
      "ScaledPureSVDRecommender: Computing SVD decomposition...\n",
      "ScaledPureSVDRecommender: Computing SVD decomposition... done in 3.47 min\n",
      "EvaluatorHoldout: Ignoring 163 ( 0.5%) Users that have less than 1 test interactions\n",
      "EvaluatorHoldout: Processed 35573 (100.0%) in 3.48 min. Users per second: 170\n",
      "ScaledPureSVDRecommender: Computing SVD decomposition...\n",
      "ScaledPureSVDRecommender: Computing SVD decomposition... done in 3.48 min\n",
      "EvaluatorHoldout: Ignoring 150 ( 0.4%) Users that have less than 1 test interactions\n",
      "EvaluatorHoldout: Processed 35586 (100.0%) in 3.49 min. Users per second: 170\n",
      "ScaledPureSVDRecommender: Computing SVD decomposition...\n",
      "ScaledPureSVDRecommender: Computing SVD decomposition... done in 3.49 min\n",
      "EvaluatorHoldout: Ignoring 167 ( 0.5%) Users that have less than 1 test interactions\n",
      "EvaluatorHoldout: Processed 35569 (100.0%) in 3.48 min. Users per second: 170\n",
      "ScaledPureSVDRecommender: Computing SVD decomposition...\n",
      "ScaledPureSVDRecommender: Computing SVD decomposition... done in 3.47 min\n",
      "EvaluatorHoldout: Ignoring 172 ( 0.5%) Users that have less than 1 test interactions\n",
      "EvaluatorHoldout: Processed 35564 (100.0%) in 3.53 min. Users per second: 168\n"
     ]
    },
    {
     "name": "stderr",
     "output_type": "stream",
     "text": [
      "[I 2025-01-07 04:16:31,630] Trial 112 finished with value: 0.04009555966211329 and parameters: {'num_factors': 1986, 'scaling_items': 0.021493906681120237, 'scaling_users': 0.07366310331971714}. Best is trial 64 with value: 0.04041611779585121.\n"
     ]
    },
    {
     "name": "stdout",
     "output_type": "stream",
     "text": [
      "ScaledPureSVDRecommender: Computing SVD decomposition...\n",
      "ScaledPureSVDRecommender: Computing SVD decomposition... done in 2.20 min\n",
      "EvaluatorHoldout: Ignoring 173 ( 0.5%) Users that have less than 1 test interactions\n",
      "EvaluatorHoldout: Processed 35563 (100.0%) in 2.66 min. Users per second: 222\n",
      "ScaledPureSVDRecommender: Computing SVD decomposition...\n",
      "ScaledPureSVDRecommender: Computing SVD decomposition... done in 2.23 min\n",
      "EvaluatorHoldout: Ignoring 163 ( 0.5%) Users that have less than 1 test interactions\n",
      "EvaluatorHoldout: Processed 35573 (100.0%) in 2.66 min. Users per second: 222\n",
      "ScaledPureSVDRecommender: Computing SVD decomposition...\n",
      "ScaledPureSVDRecommender: Computing SVD decomposition... done in 2.33 min\n",
      "EvaluatorHoldout: Ignoring 150 ( 0.4%) Users that have less than 1 test interactions\n",
      "EvaluatorHoldout: Processed 35586 (100.0%) in 2.67 min. Users per second: 222\n",
      "ScaledPureSVDRecommender: Computing SVD decomposition...\n",
      "ScaledPureSVDRecommender: Computing SVD decomposition... done in 2.22 min\n",
      "EvaluatorHoldout: Ignoring 167 ( 0.5%) Users that have less than 1 test interactions\n",
      "EvaluatorHoldout: Processed 35569 (100.0%) in 2.66 min. Users per second: 223\n",
      "ScaledPureSVDRecommender: Computing SVD decomposition...\n",
      "ScaledPureSVDRecommender: Computing SVD decomposition... done in 2.39 min\n",
      "EvaluatorHoldout: Ignoring 172 ( 0.5%) Users that have less than 1 test interactions\n",
      "EvaluatorHoldout: Processed 35564 (100.0%) in 2.69 min. Users per second: 220\n"
     ]
    },
    {
     "name": "stderr",
     "output_type": "stream",
     "text": [
      "[I 2025-01-07 04:41:15,611] Trial 113 finished with value: 0.038131491885756964 and parameters: {'num_factors': 1410, 'scaling_items': 0.018621221464018137, 'scaling_users': 0.09572675132774111}. Best is trial 64 with value: 0.04041611779585121.\n"
     ]
    },
    {
     "name": "stdout",
     "output_type": "stream",
     "text": [
      "ScaledPureSVDRecommender: Computing SVD decomposition...\n",
      "ScaledPureSVDRecommender: Computing SVD decomposition... done in 1.65 min\n",
      "EvaluatorHoldout: Ignoring 173 ( 0.5%) Users that have less than 1 test interactions\n",
      "EvaluatorHoldout: Processed 35563 (100.0%) in 2.27 min. Users per second: 261\n",
      "ScaledPureSVDRecommender: Computing SVD decomposition...\n",
      "ScaledPureSVDRecommender: Computing SVD decomposition... done in 1.66 min\n",
      "EvaluatorHoldout: Ignoring 163 ( 0.5%) Users that have less than 1 test interactions\n",
      "EvaluatorHoldout: Processed 35573 (100.0%) in 2.53 min. Users per second: 235\n",
      "ScaledPureSVDRecommender: Computing SVD decomposition...\n",
      "ScaledPureSVDRecommender: Computing SVD decomposition... done in 1.67 min\n",
      "EvaluatorHoldout: Ignoring 150 ( 0.4%) Users that have less than 1 test interactions\n",
      "EvaluatorHoldout: Processed 35586 (100.0%) in 2.27 min. Users per second: 261\n",
      "ScaledPureSVDRecommender: Computing SVD decomposition...\n",
      "ScaledPureSVDRecommender: Computing SVD decomposition... done in 1.65 min\n",
      "EvaluatorHoldout: Ignoring 167 ( 0.5%) Users that have less than 1 test interactions\n",
      "EvaluatorHoldout: Processed 35569 (100.0%) in 2.27 min. Users per second: 261\n",
      "ScaledPureSVDRecommender: Computing SVD decomposition...\n",
      "ScaledPureSVDRecommender: Computing SVD decomposition... done in 1.79 min\n",
      "EvaluatorHoldout: Ignoring 172 ( 0.5%) Users that have less than 1 test interactions\n",
      "EvaluatorHoldout: Processed 35564 (100.0%) in 2.29 min. Users per second: 259\n"
     ]
    },
    {
     "name": "stderr",
     "output_type": "stream",
     "text": [
      "[I 2025-01-07 05:01:19,718] Trial 114 finished with value: 0.03746794556681785 and parameters: {'num_factors': 1118, 'scaling_items': 0.016331845558363256, 'scaling_users': 0.0413188018852045}. Best is trial 64 with value: 0.04041611779585121.\n"
     ]
    },
    {
     "name": "stdout",
     "output_type": "stream",
     "text": [
      "ScaledPureSVDRecommender: Computing SVD decomposition...\n",
      "ScaledPureSVDRecommender: Computing SVD decomposition... done in 2.32 min\n",
      "EvaluatorHoldout: Ignoring 173 ( 0.5%) Users that have less than 1 test interactions\n",
      "EvaluatorHoldout: Processed 35563 (100.0%) in 2.72 min. Users per second: 218\n",
      "ScaledPureSVDRecommender: Computing SVD decomposition...\n",
      "ScaledPureSVDRecommender: Computing SVD decomposition... done in 2.27 min\n",
      "EvaluatorHoldout: Ignoring 163 ( 0.5%) Users that have less than 1 test interactions\n",
      "EvaluatorHoldout: Processed 35573 (100.0%) in 2.76 min. Users per second: 215\n",
      "ScaledPureSVDRecommender: Computing SVD decomposition...\n",
      "ScaledPureSVDRecommender: Computing SVD decomposition... done in 2.25 min\n",
      "EvaluatorHoldout: Ignoring 150 ( 0.4%) Users that have less than 1 test interactions\n",
      "EvaluatorHoldout: Processed 35586 (100.0%) in 2.71 min. Users per second: 219\n",
      "ScaledPureSVDRecommender: Computing SVD decomposition...\n",
      "ScaledPureSVDRecommender: Computing SVD decomposition... done in 2.31 min\n",
      "EvaluatorHoldout: Ignoring 167 ( 0.5%) Users that have less than 1 test interactions\n",
      "EvaluatorHoldout: Processed 35569 (100.0%) in 2.71 min. Users per second: 219\n",
      "ScaledPureSVDRecommender: Computing SVD decomposition...\n",
      "ScaledPureSVDRecommender: Computing SVD decomposition... done in 2.28 min\n",
      "EvaluatorHoldout: Ignoring 172 ( 0.5%) Users that have less than 1 test interactions\n",
      "EvaluatorHoldout: Processed 35564 (100.0%) in 2.71 min. Users per second: 219\n"
     ]
    },
    {
     "name": "stderr",
     "output_type": "stream",
     "text": [
      "[I 2025-01-07 05:26:23,036] Trial 115 finished with value: 0.0385218855060383 and parameters: {'num_factors': 1439, 'scaling_items': 0.02653160103740416, 'scaling_users': 0.05497082638252705}. Best is trial 64 with value: 0.04041611779585121.\n"
     ]
    },
    {
     "name": "stdout",
     "output_type": "stream",
     "text": [
      "ScaledPureSVDRecommender: Computing SVD decomposition...\n",
      "ScaledPureSVDRecommender: Computing SVD decomposition... done in 2.79 min\n",
      "EvaluatorHoldout: Ignoring 173 ( 0.5%) Users that have less than 1 test interactions\n",
      "EvaluatorHoldout: Processed 35563 (100.0%) in 3.07 min. Users per second: 193\n",
      "ScaledPureSVDRecommender: Computing SVD decomposition...\n",
      "ScaledPureSVDRecommender: Computing SVD decomposition... done in 2.82 min\n",
      "EvaluatorHoldout: Ignoring 163 ( 0.5%) Users that have less than 1 test interactions\n",
      "EvaluatorHoldout: Processed 35573 (100.0%) in 3.09 min. Users per second: 192\n",
      "ScaledPureSVDRecommender: Computing SVD decomposition...\n",
      "ScaledPureSVDRecommender: Computing SVD decomposition... done in 2.87 min\n",
      "EvaluatorHoldout: Ignoring 150 ( 0.4%) Users that have less than 1 test interactions\n",
      "EvaluatorHoldout: Processed 35586 (100.0%) in 3.09 min. Users per second: 192\n",
      "ScaledPureSVDRecommender: Computing SVD decomposition...\n",
      "ScaledPureSVDRecommender: Computing SVD decomposition... done in 2.87 min\n",
      "EvaluatorHoldout: Ignoring 167 ( 0.5%) Users that have less than 1 test interactions\n",
      "EvaluatorHoldout: Processed 35569 (100.0%) in 3.11 min. Users per second: 190\n",
      "ScaledPureSVDRecommender: Computing SVD decomposition...\n",
      "ScaledPureSVDRecommender: Computing SVD decomposition... done in 2.89 min\n",
      "EvaluatorHoldout: Ignoring 172 ( 0.5%) Users that have less than 1 test interactions\n",
      "EvaluatorHoldout: Processed 35564 (100.0%) in 3.10 min. Users per second: 191\n"
     ]
    },
    {
     "name": "stderr",
     "output_type": "stream",
     "text": [
      "[I 2025-01-07 05:56:06,370] Trial 116 finished with value: 0.03940073778370411 and parameters: {'num_factors': 1691, 'scaling_items': 0.02069183319611042, 'scaling_users': 0.06219820028539728}. Best is trial 64 with value: 0.04041611779585121.\n"
     ]
    },
    {
     "name": "stdout",
     "output_type": "stream",
     "text": [
      "ScaledPureSVDRecommender: Computing SVD decomposition...\n",
      "ScaledPureSVDRecommender: Computing SVD decomposition... done in 2.98 min\n",
      "EvaluatorHoldout: Ignoring 173 ( 0.5%) Users that have less than 1 test interactions\n",
      "EvaluatorHoldout: Processed 35563 (100.0%) in 3.17 min. Users per second: 187\n",
      "ScaledPureSVDRecommender: Computing SVD decomposition...\n",
      "ScaledPureSVDRecommender: Computing SVD decomposition... done in 2.97 min\n",
      "EvaluatorHoldout: Ignoring 163 ( 0.5%) Users that have less than 1 test interactions\n",
      "EvaluatorHoldout: Processed 35573 (100.0%) in 3.19 min. Users per second: 186\n",
      "ScaledPureSVDRecommender: Computing SVD decomposition...\n",
      "ScaledPureSVDRecommender: Computing SVD decomposition... done in 2.98 min\n",
      "EvaluatorHoldout: Ignoring 150 ( 0.4%) Users that have less than 1 test interactions\n",
      "EvaluatorHoldout: Processed 35586 (100.0%) in 3.18 min. Users per second: 186\n",
      "ScaledPureSVDRecommender: Computing SVD decomposition...\n",
      "ScaledPureSVDRecommender: Computing SVD decomposition... done in 2.99 min\n",
      "EvaluatorHoldout: Ignoring 167 ( 0.5%) Users that have less than 1 test interactions\n",
      "EvaluatorHoldout: Processed 35569 (100.0%) in 3.14 min. Users per second: 189\n",
      "ScaledPureSVDRecommender: Computing SVD decomposition...\n",
      "ScaledPureSVDRecommender: Computing SVD decomposition... done in 2.99 min\n",
      "EvaluatorHoldout: Ignoring 172 ( 0.5%) Users that have less than 1 test interactions\n",
      "EvaluatorHoldout: Processed 35564 (100.0%) in 3.19 min. Users per second: 186\n"
     ]
    },
    {
     "name": "stderr",
     "output_type": "stream",
     "text": [
      "[I 2025-01-07 06:26:54,222] Trial 117 finished with value: 0.03956360469402499 and parameters: {'num_factors': 1743, 'scaling_items': 0.012431210828204024, 'scaling_users': 0.08334905383090126}. Best is trial 64 with value: 0.04041611779585121.\n"
     ]
    },
    {
     "name": "stdout",
     "output_type": "stream",
     "text": [
      "ScaledPureSVDRecommender: Computing SVD decomposition...\n",
      "ScaledPureSVDRecommender: Computing SVD decomposition... done in 3.64 min\n",
      "EvaluatorHoldout: Ignoring 173 ( 0.5%) Users that have less than 1 test interactions\n",
      "EvaluatorHoldout: Processed 35563 (100.0%) in 3.53 min. Users per second: 168\n",
      "ScaledPureSVDRecommender: Computing SVD decomposition...\n",
      "ScaledPureSVDRecommender: Computing SVD decomposition... done in 3.55 min\n",
      "EvaluatorHoldout: Ignoring 163 ( 0.5%) Users that have less than 1 test interactions\n",
      "EvaluatorHoldout: Processed 35573 (100.0%) in 3.51 min. Users per second: 169\n",
      "ScaledPureSVDRecommender: Computing SVD decomposition...\n",
      "ScaledPureSVDRecommender: Computing SVD decomposition... done in 3.58 min\n",
      "EvaluatorHoldout: Ignoring 150 ( 0.4%) Users that have less than 1 test interactions\n",
      "EvaluatorHoldout: Processed 35586 (100.0%) in 3.55 min. Users per second: 167\n",
      "ScaledPureSVDRecommender: Computing SVD decomposition...\n",
      "ScaledPureSVDRecommender: Computing SVD decomposition... done in 3.60 min\n",
      "EvaluatorHoldout: Ignoring 167 ( 0.5%) Users that have less than 1 test interactions\n",
      "EvaluatorHoldout: Processed 35569 (100.0%) in 3.50 min. Users per second: 170\n",
      "ScaledPureSVDRecommender: Computing SVD decomposition...\n",
      "ScaledPureSVDRecommender: Computing SVD decomposition... done in 3.55 min\n",
      "EvaluatorHoldout: Ignoring 172 ( 0.5%) Users that have less than 1 test interactions\n",
      "EvaluatorHoldout: Processed 35564 (100.0%) in 3.51 min. Users per second: 169\n"
     ]
    },
    {
     "name": "stderr",
     "output_type": "stream",
     "text": [
      "[I 2025-01-07 07:02:26,093] Trial 118 finished with value: 0.039908490627990956 and parameters: {'num_factors': 1989, 'scaling_items': 0.017704048862026665, 'scaling_users': 0.10441537320530889}. Best is trial 64 with value: 0.04041611779585121.\n"
     ]
    },
    {
     "name": "stdout",
     "output_type": "stream",
     "text": [
      "ScaledPureSVDRecommender: Computing SVD decomposition...\n",
      "ScaledPureSVDRecommender: Computing SVD decomposition... done in 2.06 min\n",
      "EvaluatorHoldout: Ignoring 173 ( 0.5%) Users that have less than 1 test interactions\n",
      "EvaluatorHoldout: Processed 35563 (100.0%) in 2.56 min. Users per second: 232\n",
      "ScaledPureSVDRecommender: Computing SVD decomposition...\n",
      "ScaledPureSVDRecommender: Computing SVD decomposition... done in 2.03 min\n",
      "EvaluatorHoldout: Ignoring 163 ( 0.5%) Users that have less than 1 test interactions\n",
      "EvaluatorHoldout: Processed 35573 (100.0%) in 2.53 min. Users per second: 234\n",
      "ScaledPureSVDRecommender: Computing SVD decomposition...\n",
      "ScaledPureSVDRecommender: Computing SVD decomposition... done in 2.22 min\n",
      "EvaluatorHoldout: Ignoring 150 ( 0.4%) Users that have less than 1 test interactions\n",
      "EvaluatorHoldout: Processed 35586 (100.0%) in 2.53 min. Users per second: 235\n",
      "ScaledPureSVDRecommender: Computing SVD decomposition...\n",
      "ScaledPureSVDRecommender: Computing SVD decomposition... done in 2.03 min\n",
      "EvaluatorHoldout: Ignoring 167 ( 0.5%) Users that have less than 1 test interactions\n",
      "EvaluatorHoldout: Processed 35569 (100.0%) in 2.53 min. Users per second: 234\n",
      "ScaledPureSVDRecommender: Computing SVD decomposition...\n",
      "ScaledPureSVDRecommender: Computing SVD decomposition... done in 2.04 min\n",
      "EvaluatorHoldout: Ignoring 172 ( 0.5%) Users that have less than 1 test interactions\n",
      "EvaluatorHoldout: Processed 35564 (100.0%) in 2.53 min. Users per second: 234\n"
     ]
    },
    {
     "name": "stderr",
     "output_type": "stream",
     "text": [
      "[I 2025-01-07 07:25:30,549] Trial 119 finished with value: 0.03799754099919618 and parameters: {'num_factors': 1309, 'scaling_items': 0.030128522779045964, 'scaling_users': 0.048699399597491984}. Best is trial 64 with value: 0.04041611779585121.\n"
     ]
    },
    {
     "name": "stdout",
     "output_type": "stream",
     "text": [
      "ScaledPureSVDRecommender: Computing SVD decomposition...\n",
      "ScaledPureSVDRecommender: Computing SVD decomposition... done in 1.69 min\n",
      "EvaluatorHoldout: Ignoring 173 ( 0.5%) Users that have less than 1 test interactions\n",
      "EvaluatorHoldout: Processed 35563 (100.0%) in 2.28 min. Users per second: 260\n",
      "ScaledPureSVDRecommender: Computing SVD decomposition...\n",
      "ScaledPureSVDRecommender: Computing SVD decomposition... done in 1.67 min\n",
      "EvaluatorHoldout: Ignoring 163 ( 0.5%) Users that have less than 1 test interactions\n",
      "EvaluatorHoldout: Processed 35573 (100.0%) in 2.28 min. Users per second: 260\n",
      "ScaledPureSVDRecommender: Computing SVD decomposition...\n",
      "ScaledPureSVDRecommender: Computing SVD decomposition... done in 1.65 min\n",
      "EvaluatorHoldout: Ignoring 150 ( 0.4%) Users that have less than 1 test interactions\n",
      "EvaluatorHoldout: Processed 35586 (100.0%) in 2.52 min. Users per second: 235\n",
      "ScaledPureSVDRecommender: Computing SVD decomposition...\n",
      "ScaledPureSVDRecommender: Computing SVD decomposition... done in 1.66 min\n",
      "EvaluatorHoldout: Ignoring 167 ( 0.5%) Users that have less than 1 test interactions\n",
      "EvaluatorHoldout: Processed 35569 (100.0%) in 2.28 min. Users per second: 261\n",
      "ScaledPureSVDRecommender: Computing SVD decomposition...\n",
      "ScaledPureSVDRecommender: Computing SVD decomposition... done in 1.66 min\n",
      "EvaluatorHoldout: Ignoring 172 ( 0.5%) Users that have less than 1 test interactions\n",
      "EvaluatorHoldout: Processed 35564 (100.0%) in 2.30 min. Users per second: 258\n"
     ]
    },
    {
     "name": "stderr",
     "output_type": "stream",
     "text": [
      "[I 2025-01-07 07:45:30,894] Trial 120 finished with value: 0.03718119432745058 and parameters: {'num_factors': 1122, 'scaling_items': 0.014278010710953306, 'scaling_users': 0.07553865808510626}. Best is trial 64 with value: 0.04041611779585121.\n"
     ]
    },
    {
     "name": "stdout",
     "output_type": "stream",
     "text": [
      "ScaledPureSVDRecommender: Computing SVD decomposition...\n",
      "ScaledPureSVDRecommender: Computing SVD decomposition... done in 3.49 min\n",
      "EvaluatorHoldout: Ignoring 173 ( 0.5%) Users that have less than 1 test interactions\n",
      "EvaluatorHoldout: Processed 35563 (100.0%) in 3.48 min. Users per second: 170\n",
      "ScaledPureSVDRecommender: Computing SVD decomposition...\n",
      "ScaledPureSVDRecommender: Computing SVD decomposition... done in 3.50 min\n",
      "EvaluatorHoldout: Ignoring 163 ( 0.5%) Users that have less than 1 test interactions\n",
      "EvaluatorHoldout: Processed 35573 (100.0%) in 3.55 min. Users per second: 167\n",
      "ScaledPureSVDRecommender: Computing SVD decomposition...\n",
      "ScaledPureSVDRecommender: Computing SVD decomposition... done in 3.62 min\n",
      "EvaluatorHoldout: Ignoring 150 ( 0.4%) Users that have less than 1 test interactions\n",
      "EvaluatorHoldout: Processed 35586 (100.0%) in 3.54 min. Users per second: 168\n",
      "ScaledPureSVDRecommender: Computing SVD decomposition...\n",
      "ScaledPureSVDRecommender: Computing SVD decomposition... done in 3.49 min\n",
      "EvaluatorHoldout: Ignoring 167 ( 0.5%) Users that have less than 1 test interactions\n",
      "EvaluatorHoldout: Processed 35569 (100.0%) in 3.47 min. Users per second: 171\n",
      "ScaledPureSVDRecommender: Computing SVD decomposition...\n",
      "ScaledPureSVDRecommender: Computing SVD decomposition... done in 3.53 min\n",
      "EvaluatorHoldout: Ignoring 172 ( 0.5%) Users that have less than 1 test interactions\n",
      "EvaluatorHoldout: Processed 35564 (100.0%) in 3.47 min. Users per second: 171\n"
     ]
    },
    {
     "name": "stderr",
     "output_type": "stream",
     "text": [
      "[I 2025-01-07 08:20:39,469] Trial 121 finished with value: 0.040040157292061215 and parameters: {'num_factors': 1946, 'scaling_items': 0.021269776439373625, 'scaling_users': 0.06990367473687023}. Best is trial 64 with value: 0.04041611779585121.\n"
     ]
    },
    {
     "name": "stdout",
     "output_type": "stream",
     "text": [
      "ScaledPureSVDRecommender: Computing SVD decomposition...\n",
      "ScaledPureSVDRecommender: Computing SVD decomposition... done in 3.59 min\n",
      "EvaluatorHoldout: Ignoring 173 ( 0.5%) Users that have less than 1 test interactions\n",
      "EvaluatorHoldout: Processed 35563 (100.0%) in 3.54 min. Users per second: 167\n",
      "ScaledPureSVDRecommender: Computing SVD decomposition...\n",
      "ScaledPureSVDRecommender: Computing SVD decomposition... done in 3.59 min\n",
      "EvaluatorHoldout: Ignoring 163 ( 0.5%) Users that have less than 1 test interactions\n",
      "EvaluatorHoldout: Processed 35573 (100.0%) in 3.56 min. Users per second: 167\n",
      "ScaledPureSVDRecommender: Computing SVD decomposition...\n",
      "ScaledPureSVDRecommender: Computing SVD decomposition... done in 3.65 min\n",
      "EvaluatorHoldout: Ignoring 150 ( 0.4%) Users that have less than 1 test interactions\n",
      "EvaluatorHoldout: Processed 35586 (100.0%) in 3.60 min. Users per second: 165\n",
      "ScaledPureSVDRecommender: Computing SVD decomposition...\n",
      "ScaledPureSVDRecommender: Computing SVD decomposition... done in 3.67 min\n",
      "EvaluatorHoldout: Ignoring 167 ( 0.5%) Users that have less than 1 test interactions\n",
      "EvaluatorHoldout: Processed 35569 (100.0%) in 3.57 min. Users per second: 166\n",
      "ScaledPureSVDRecommender: Computing SVD decomposition...\n",
      "ScaledPureSVDRecommender: Computing SVD decomposition... done in 3.66 min\n",
      "EvaluatorHoldout: Ignoring 172 ( 0.5%) Users that have less than 1 test interactions\n",
      "EvaluatorHoldout: Processed 35564 (100.0%) in 3.63 min. Users per second: 163\n"
     ]
    },
    {
     "name": "stderr",
     "output_type": "stream",
     "text": [
      "[I 2025-01-07 08:56:43,972] Trial 122 finished with value: 0.027155737635310383 and parameters: {'num_factors': 1996, 'scaling_items': 0.5876112202006487, 'scaling_users': 0.06874898717596888}. Best is trial 64 with value: 0.04041611779585121.\n"
     ]
    },
    {
     "name": "stdout",
     "output_type": "stream",
     "text": [
      "ScaledPureSVDRecommender: Computing SVD decomposition...\n",
      "ScaledPureSVDRecommender: Computing SVD decomposition... done in 2.59 min\n",
      "EvaluatorHoldout: Ignoring 173 ( 0.5%) Users that have less than 1 test interactions\n",
      "EvaluatorHoldout: Processed 35563 (100.0%) in 2.91 min. Users per second: 203\n",
      "ScaledPureSVDRecommender: Computing SVD decomposition...\n",
      "ScaledPureSVDRecommender: Computing SVD decomposition... done in 2.52 min\n",
      "EvaluatorHoldout: Ignoring 163 ( 0.5%) Users that have less than 1 test interactions\n",
      "EvaluatorHoldout: Processed 35573 (100.0%) in 2.91 min. Users per second: 204\n",
      "ScaledPureSVDRecommender: Computing SVD decomposition...\n",
      "ScaledPureSVDRecommender: Computing SVD decomposition... done in 2.52 min\n",
      "EvaluatorHoldout: Ignoring 150 ( 0.4%) Users that have less than 1 test interactions\n",
      "EvaluatorHoldout: Processed 35586 (100.0%) in 2.92 min. Users per second: 203\n",
      "ScaledPureSVDRecommender: Computing SVD decomposition...\n",
      "ScaledPureSVDRecommender: Computing SVD decomposition... done in 2.55 min\n",
      "EvaluatorHoldout: Ignoring 167 ( 0.5%) Users that have less than 1 test interactions\n",
      "EvaluatorHoldout: Processed 35569 (100.0%) in 2.90 min. Users per second: 204\n",
      "ScaledPureSVDRecommender: Computing SVD decomposition...\n",
      "ScaledPureSVDRecommender: Computing SVD decomposition... done in 2.49 min\n",
      "EvaluatorHoldout: Ignoring 172 ( 0.5%) Users that have less than 1 test interactions\n",
      "EvaluatorHoldout: Processed 35564 (100.0%) in 2.88 min. Users per second: 205\n"
     ]
    },
    {
     "name": "stderr",
     "output_type": "stream",
     "text": [
      "[I 2025-01-07 09:23:57,354] Trial 123 finished with value: 0.03858684267502897 and parameters: {'num_factors': 1538, 'scaling_items': 0.022999104070824564, 'scaling_users': 0.09246284578049054}. Best is trial 64 with value: 0.04041611779585121.\n"
     ]
    },
    {
     "name": "stdout",
     "output_type": "stream",
     "text": [
      "ScaledPureSVDRecommender: Computing SVD decomposition...\n",
      "ScaledPureSVDRecommender: Computing SVD decomposition... done in 2.29 min\n",
      "EvaluatorHoldout: Ignoring 173 ( 0.5%) Users that have less than 1 test interactions\n",
      "EvaluatorHoldout: Processed 35563 (100.0%) in 2.75 min. Users per second: 216\n",
      "ScaledPureSVDRecommender: Computing SVD decomposition...\n",
      "ScaledPureSVDRecommender: Computing SVD decomposition... done in 2.27 min\n",
      "EvaluatorHoldout: Ignoring 163 ( 0.5%) Users that have less than 1 test interactions\n",
      "EvaluatorHoldout: Processed 35573 (100.0%) in 2.69 min. Users per second: 221\n",
      "ScaledPureSVDRecommender: Computing SVD decomposition...\n",
      "ScaledPureSVDRecommender: Computing SVD decomposition... done in 2.28 min\n",
      "EvaluatorHoldout: Ignoring 150 ( 0.4%) Users that have less than 1 test interactions\n",
      "EvaluatorHoldout: Processed 35586 (100.0%) in 2.74 min. Users per second: 217\n",
      "ScaledPureSVDRecommender: Computing SVD decomposition...\n",
      "ScaledPureSVDRecommender: Computing SVD decomposition... done in 2.25 min\n",
      "EvaluatorHoldout: Ignoring 167 ( 0.5%) Users that have less than 1 test interactions\n",
      "EvaluatorHoldout: Processed 35569 (100.0%) in 2.71 min. Users per second: 219\n",
      "ScaledPureSVDRecommender: Computing SVD decomposition...\n",
      "ScaledPureSVDRecommender: Computing SVD decomposition... done in 2.25 min\n",
      "EvaluatorHoldout: Ignoring 172 ( 0.5%) Users that have less than 1 test interactions\n",
      "EvaluatorHoldout: Processed 35564 (100.0%) in 2.76 min. Users per second: 214\n"
     ]
    },
    {
     "name": "stderr",
     "output_type": "stream",
     "text": [
      "[I 2025-01-07 09:48:57,608] Trial 124 finished with value: 0.03576177015377796 and parameters: {'num_factors': 1437, 'scaling_items': 0.01585617340733272, 'scaling_users': 0.31724121233223085}. Best is trial 64 with value: 0.04041611779585121.\n"
     ]
    },
    {
     "name": "stdout",
     "output_type": "stream",
     "text": [
      "ScaledPureSVDRecommender: Computing SVD decomposition...\n",
      "ScaledPureSVDRecommender: Computing SVD decomposition... done in 1.29 min\n",
      "EvaluatorHoldout: Ignoring 173 ( 0.5%) Users that have less than 1 test interactions\n",
      "EvaluatorHoldout: Processed 35563 (100.0%) in 1.98 min. Users per second: 300\n",
      "ScaledPureSVDRecommender: Computing SVD decomposition...\n",
      "ScaledPureSVDRecommender: Computing SVD decomposition... done in 1.32 min\n",
      "EvaluatorHoldout: Ignoring 163 ( 0.5%) Users that have less than 1 test interactions\n",
      "EvaluatorHoldout: Processed 35573 (100.0%) in 1.98 min. Users per second: 299\n",
      "ScaledPureSVDRecommender: Computing SVD decomposition...\n",
      "ScaledPureSVDRecommender: Computing SVD decomposition... done in 1.27 min\n",
      "EvaluatorHoldout: Ignoring 150 ( 0.4%) Users that have less than 1 test interactions\n",
      "EvaluatorHoldout: Processed 35586 (100.0%) in 1.99 min. Users per second: 298\n",
      "ScaledPureSVDRecommender: Computing SVD decomposition...\n",
      "ScaledPureSVDRecommender: Computing SVD decomposition... done in 1.48 min\n",
      "EvaluatorHoldout: Ignoring 167 ( 0.5%) Users that have less than 1 test interactions\n",
      "EvaluatorHoldout: Processed 35569 (100.0%) in 1.96 min. Users per second: 302\n",
      "ScaledPureSVDRecommender: Computing SVD decomposition...\n",
      "ScaledPureSVDRecommender: Computing SVD decomposition... done in 1.30 min\n",
      "EvaluatorHoldout: Ignoring 172 ( 0.5%) Users that have less than 1 test interactions\n",
      "EvaluatorHoldout: Processed 35564 (100.0%) in 1.97 min. Users per second: 301\n"
     ]
    },
    {
     "name": "stderr",
     "output_type": "stream",
     "text": [
      "[I 2025-01-07 10:05:31,195] Trial 125 finished with value: 0.036001126709909057 and parameters: {'num_factors': 916, 'scaling_items': 0.019230998871721267, 'scaling_users': 0.05802553693545808}. Best is trial 64 with value: 0.04041611779585121.\n"
     ]
    },
    {
     "name": "stdout",
     "output_type": "stream",
     "text": [
      "ScaledPureSVDRecommender: Computing SVD decomposition...\n",
      "ScaledPureSVDRecommender: Computing SVD decomposition... done in 3.62 min\n",
      "EvaluatorHoldout: Ignoring 173 ( 0.5%) Users that have less than 1 test interactions\n",
      "EvaluatorHoldout: Processed 35563 (100.0%) in 3.83 min. Users per second: 155\n",
      "ScaledPureSVDRecommender: Computing SVD decomposition...\n",
      "ScaledPureSVDRecommender: Computing SVD decomposition... done in 3.69 min\n",
      "EvaluatorHoldout: Ignoring 163 ( 0.5%) Users that have less than 1 test interactions\n",
      "EvaluatorHoldout: Processed 35573 (100.0%) in 3.78 min. Users per second: 157\n",
      "ScaledPureSVDRecommender: Computing SVD decomposition...\n",
      "ScaledPureSVDRecommender: Computing SVD decomposition... done in 3.61 min\n",
      "EvaluatorHoldout: Ignoring 150 ( 0.4%) Users that have less than 1 test interactions\n",
      "EvaluatorHoldout: Processed 35586 (100.0%) in 3.55 min. Users per second: 167\n",
      "ScaledPureSVDRecommender: Computing SVD decomposition...\n",
      "ScaledPureSVDRecommender: Computing SVD decomposition... done in 3.67 min\n",
      "EvaluatorHoldout: Ignoring 167 ( 0.5%) Users that have less than 1 test interactions\n",
      "EvaluatorHoldout: Processed 35569 (100.0%) in 3.56 min. Users per second: 167\n",
      "ScaledPureSVDRecommender: Computing SVD decomposition...\n",
      "ScaledPureSVDRecommender: Computing SVD decomposition... done in 3.62 min\n",
      "EvaluatorHoldout: Ignoring 172 ( 0.5%) Users that have less than 1 test interactions\n",
      "EvaluatorHoldout: Processed 35564 (100.0%) in 3.56 min. Users per second: 167\n"
     ]
    },
    {
     "name": "stderr",
     "output_type": "stream",
     "text": [
      "[I 2025-01-07 10:42:00,947] Trial 126 finished with value: 0.04023213900728219 and parameters: {'num_factors': 2000, 'scaling_items': 0.0256610286407541, 'scaling_users': 0.04538110478992028}. Best is trial 64 with value: 0.04041611779585121.\n"
     ]
    }
   ],
   "source": [
    "if config['tune_parameters']:\n",
    "    \n",
    "    optuna_study = optuna.create_study(direction='maximize', study_name=f'hyperparameters_tuning_{config[\"model\"]}_{config[\"metric\"]}',\n",
    "                                storage=f'sqlite:///{config[\"database_path\"]}', load_if_exists=True)\n",
    "\n",
    "    optuna_study.optimize(objective_function_ScaledPureSVD, timeout=3600 * 10.5)"
   ]
  },
  {
   "cell_type": "markdown",
   "id": "6ec5467f",
   "metadata": {
    "papermill": {
     "duration": 0.038491,
     "end_time": "2025-01-07T10:42:01.051055",
     "exception": false,
     "start_time": "2025-01-07T10:42:01.012564",
     "status": "completed"
    },
    "tags": []
   },
   "source": [
    "## Some optuna visualizations on recommender parameters"
   ]
  },
  {
   "cell_type": "code",
   "execution_count": 14,
   "id": "04d7b62c",
   "metadata": {
    "execution": {
     "iopub.execute_input": "2025-01-07T10:42:01.131448Z",
     "iopub.status.busy": "2025-01-07T10:42:01.130766Z",
     "iopub.status.idle": "2025-01-07T10:42:02.916170Z",
     "shell.execute_reply": "2025-01-07T10:42:02.915073Z"
    },
    "papermill": {
     "duration": 1.829728,
     "end_time": "2025-01-07T10:42:02.918131",
     "exception": false,
     "start_time": "2025-01-07T10:42:01.088403",
     "status": "completed"
    },
    "tags": []
   },
   "outputs": [
    {
     "data": {
      "text/html": [
       "<html>\n",
       "<head><meta charset=\"utf-8\" /></head>\n",
       "<body>\n",
       "    <div>            <script src=\"https://cdnjs.cloudflare.com/ajax/libs/mathjax/2.7.5/MathJax.js?config=TeX-AMS-MML_SVG\"></script><script type=\"text/javascript\">if (window.MathJax && window.MathJax.Hub && window.MathJax.Hub.Config) {window.MathJax.Hub.Config({SVG: {font: \"STIX-Web\"}});}</script>                <script type=\"text/javascript\">window.PlotlyConfig = {MathJaxConfig: 'local'};</script>\n",
       "        <script charset=\"utf-8\" src=\"https://cdn.plot.ly/plotly-2.35.2.min.js\"></script>                <div id=\"1d6346a7-befd-4680-ac21-3ff3b10f6a37\" class=\"plotly-graph-div\" style=\"height:525px; width:100%;\"></div>            <script type=\"text/javascript\">                                    window.PLOTLYENV=window.PLOTLYENV || {};                                    if (document.getElementById(\"1d6346a7-befd-4680-ac21-3ff3b10f6a37\")) {                    Plotly.newPlot(                        \"1d6346a7-befd-4680-ac21-3ff3b10f6a37\",                        [{\"marker\":{\"color\":[0,1,2,3,4,5,6,7,8,9,10,11,12,13,14,15,16,17,18,19,20,21,22,23,24,25,26,27,28,29,30,31,32,33,34,35,36,37,38,39,40,41,42,43,44,45,46,47,48,49,50,51,52,53,54,55,56,57,58,59,60,61,62,63,64,65,66,67,68,69,70,71,72,73,74,75,76,77,78,79,80,81,82,83,84,85,86,87,88,89,90,91,92,93,94,95,96,97,98,99,100,101,102,103,104,105,106,107,108,109,110,111,112,113,114,115,116,117,118,119,120,121,122,123,124,125,126],\"colorbar\":{\"title\":{\"text\":\"Trial\"},\"x\":1.0,\"xpad\":40},\"colorscale\":[[0.0,\"rgb(247,251,255)\"],[0.125,\"rgb(222,235,247)\"],[0.25,\"rgb(198,219,239)\"],[0.375,\"rgb(158,202,225)\"],[0.5,\"rgb(107,174,214)\"],[0.625,\"rgb(66,146,198)\"],[0.75,\"rgb(33,113,181)\"],[0.875,\"rgb(8,81,156)\"],[1.0,\"rgb(8,48,107)\"]],\"line\":{\"color\":\"Grey\",\"width\":0.5},\"showscale\":true},\"mode\":\"markers\",\"name\":\"Feasible Trial\",\"showlegend\":false,\"x\":[41,6,2,137,7,20,1,1,1106,1,366,242,228,260,1522,1787,1768,760,74,641,1247,1255,1873,480,807,117,740,685,718,27,61,693,434,147,587,284,11,3,145,882,1056,983,1069,1029,1071,424,1058,334,195,1089,1959,1967,1889,1882,1938,1971,1914,1414,1525,1971,534,1597,1909,1420,1996,1483,1394,828,1992,1325,1990,1331,1887,629,848,1529,1214,530,869,5,1633,1996,1993,1247,1625,1214,17,55,945,717,1658,1986,1643,1979,1191,963,2,1303,1622,1992,1065,1941,1987,1521,1189,1664,793,1341,1747,955,88,1984,1986,1410,1118,1439,1691,1743,1989,1309,1122,1946,1996,1538,1437,916,2000],\"y\":[0.007138301506590852,0.004995323826639392,0.0007283453813908277,0.021462698361031745,0.006493834972167723,0.011123684924482354,0.0009230412911014413,0.0023156165793570883,0.01416471597584081,0.0009638189351730767,0.024214711241833314,0.021247008901816,0.0201480518216365,0.02277538495896412,0.03217330506858227,0.029198820675572185,0.02633523163912769,0.02499016269242512,0.006626672202153341,0.016767390517934938,0.029143548373414728,0.031177530979560976,0.03291997864697201,0.02622349664370243,0.033366822064820056,0.020359152727334635,0.03401375422913715,0.03377093184749998,0.034058903828334076,0.01320252718610213,0.017095413450646114,0.0345890422492219,0.031334513314914506,0.023110175534543354,0.03318860344239326,0.027397395283723026,0.008177181752265603,0.005038427149014339,0.009355898490289071,0.03611661867808101,0.036741060665780846,0.03682417368585797,0.03604077143431082,0.035994724823370926,0.035932884681290356,0.02973130765459414,0.03699934341616755,0.02899451100673976,0.022422861179835548,0.029101180043909724,0.04013001711822456,0.04005471059122628,0.040029630162754244,0.03998196755144543,0.03987483853118087,0.039888327267669256,0.03981862934445178,0.03785861644025194,0.03805046647253823,0.0402735539662995,0.03268694360492637,0.03939902299706336,0.040131357357452935,0.038799618502475236,0.04041611779585121,0.03872199780469813,0.03877237895264289,0.03373529042871418,0.03998821146431401,0.03534322292557127,0.04020270029263321,0.038193160755752624,0.039946971506624025,0.033057150441044084,0.03559787734061746,0.03939336560257084,0.03740837907660084,0.03145284408719162,0.01844519856559669,0.005491513977846925,0.03947411014032427,0.040275288205559215,0.04033462425809144,0.03792283459835607,0.03926917629203775,0.03808032948747717,0.010074151871353468,0.006708161954004518,0.03626123451486814,0.034724535189529095,0.03854756836790883,0.04005963194123876,0.039048725561758216,0.040321239985895915,0.03727880419019882,0.03622079398216823,0.0038423444018230854,0.03849417785225277,0.03520687358706711,0.04017868945540429,0.03698022485308601,0.0401787042659081,0.040272735457935506,0.03900465622973684,0.037816863163871596,0.0393166412189161,0.03454337607018097,0.038378823078934934,0.03984005907111889,0.03616871144582766,0.01958459328359194,0.04008731392233443,0.04009555966211329,0.038131491885756964,0.03746794556681785,0.0385218855060383,0.03940073778370411,0.03956360469402499,0.039908490627990956,0.03799754099919618,0.03718119432745058,0.040040157292061215,0.027155737635310383,0.03858684267502897,0.03576177015377796,0.036001126709909057,0.04023213900728219],\"type\":\"scatter\",\"xaxis\":\"x\",\"yaxis\":\"y\"},{\"marker\":{\"color\":[0,1,2,3,4,5,6,7,8,9,10,11,12,13,14,15,16,17,18,19,20,21,22,23,24,25,26,27,28,29,30,31,32,33,34,35,36,37,38,39,40,41,42,43,44,45,46,47,48,49,50,51,52,53,54,55,56,57,58,59,60,61,62,63,64,65,66,67,68,69,70,71,72,73,74,75,76,77,78,79,80,81,82,83,84,85,86,87,88,89,90,91,92,93,94,95,96,97,98,99,100,101,102,103,104,105,106,107,108,109,110,111,112,113,114,115,116,117,118,119,120,121,122,123,124,125,126],\"colorbar\":{\"title\":{\"text\":\"Trial\"},\"x\":1.0,\"xpad\":40},\"colorscale\":[[0.0,\"rgb(247,251,255)\"],[0.125,\"rgb(222,235,247)\"],[0.25,\"rgb(198,219,239)\"],[0.375,\"rgb(158,202,225)\"],[0.5,\"rgb(107,174,214)\"],[0.625,\"rgb(66,146,198)\"],[0.75,\"rgb(33,113,181)\"],[0.875,\"rgb(8,81,156)\"],[1.0,\"rgb(8,48,107)\"]],\"line\":{\"color\":\"Grey\",\"width\":0.5},\"showscale\":false},\"mode\":\"markers\",\"name\":\"Feasible Trial\",\"showlegend\":false,\"x\":[0.09202742716266923,0.868393617506134,0.02061939864679692,0.01629082741114409,0.3736530922004886,0.01281183095889387,0.04363666413112088,0.010043453604647666,1.6412757228533665,0.012031348797843894,0.13796320017043617,0.18128170681376365,0.04432893169203986,0.21448372725333556,0.2780136672599498,0.4516495058544892,0.6053547634338963,0.4219081432719116,1.774345462839338,0.9566005082326594,0.365907052857316,0.2795419608325479,0.29108884480967073,0.2510439875798354,0.1068672553664196,0.09932152264137764,0.06277927627308437,0.051897690716315566,0.05402301522999003,0.05362794308097185,0.06461260632388367,0.025661787995754082,0.027644549507346912,0.026353685544624982,0.032845929618108026,0.0668152258555104,0.018144352277502263,0.07756528619528423,0.038000011797896915,0.022349089638774265,0.022960048618530734,0.02252763701523418,0.023093030879129776,0.01476378422454059,0.01452082108180358,0.020623750172124488,0.011358252879745574,0.010215067653437875,0.020657461817122903,0.012508623971645,0.01728957763878379,0.0226769727448233,0.016567050266179648,0.017362138279340498,0.017369047285900115,0.017267413342080363,0.01610328303630667,0.030478580067107002,0.03778609853185361,0.017683924350255252,0.013624220148179305,0.017402397358566284,0.016743797569928304,0.011731305633212783,0.01011292858061108,0.013616493547879426,0.010101869437370485,0.03543120433761862,0.02805211889585848,0.12796809758471644,0.029298560818569474,0.030149401623337197,0.02617840849611099,0.044216648019870665,0.01497019422882869,0.011591465477744709,0.01923805305155287,0.02788378258566558,0.9244683535347976,0.01970467159943001,0.023679988969597318,0.01637775739690773,0.015503642423657706,0.015616555759792698,0.013221009023557193,0.01090102863124757,0.012379697266399451,1.3924943369978349,0.020610971633353046,0.01907741327116594,0.014912380661022634,0.024110041934151453,0.02445423755804133,0.016316861995002423,0.03242833623917281,0.021446806989726726,0.013266259690556236,0.015646346440172,0.17330380279003743,0.017923832222814268,0.010009703692439614,0.017999491123597625,0.018369043502190627,0.017914600468599825,0.014458833845098896,0.011950409509254988,0.016422740056133135,0.019049318047733178,0.014163400871011873,0.013342761891646437,0.011006586755032901,0.021655430428067016,0.021493906681120237,0.018621221464018137,0.016331845558363256,0.02653160103740416,0.02069183319611042,0.012431210828204024,0.017704048862026665,0.030128522779045964,0.014278010710953306,0.021269776439373625,0.5876112202006487,0.022999104070824564,0.01585617340733272,0.019230998871721267,0.0256610286407541],\"y\":[0.007138301506590852,0.004995323826639392,0.0007283453813908277,0.021462698361031745,0.006493834972167723,0.011123684924482354,0.0009230412911014413,0.0023156165793570883,0.01416471597584081,0.0009638189351730767,0.024214711241833314,0.021247008901816,0.0201480518216365,0.02277538495896412,0.03217330506858227,0.029198820675572185,0.02633523163912769,0.02499016269242512,0.006626672202153341,0.016767390517934938,0.029143548373414728,0.031177530979560976,0.03291997864697201,0.02622349664370243,0.033366822064820056,0.020359152727334635,0.03401375422913715,0.03377093184749998,0.034058903828334076,0.01320252718610213,0.017095413450646114,0.0345890422492219,0.031334513314914506,0.023110175534543354,0.03318860344239326,0.027397395283723026,0.008177181752265603,0.005038427149014339,0.009355898490289071,0.03611661867808101,0.036741060665780846,0.03682417368585797,0.03604077143431082,0.035994724823370926,0.035932884681290356,0.02973130765459414,0.03699934341616755,0.02899451100673976,0.022422861179835548,0.029101180043909724,0.04013001711822456,0.04005471059122628,0.040029630162754244,0.03998196755144543,0.03987483853118087,0.039888327267669256,0.03981862934445178,0.03785861644025194,0.03805046647253823,0.0402735539662995,0.03268694360492637,0.03939902299706336,0.040131357357452935,0.038799618502475236,0.04041611779585121,0.03872199780469813,0.03877237895264289,0.03373529042871418,0.03998821146431401,0.03534322292557127,0.04020270029263321,0.038193160755752624,0.039946971506624025,0.033057150441044084,0.03559787734061746,0.03939336560257084,0.03740837907660084,0.03145284408719162,0.01844519856559669,0.005491513977846925,0.03947411014032427,0.040275288205559215,0.04033462425809144,0.03792283459835607,0.03926917629203775,0.03808032948747717,0.010074151871353468,0.006708161954004518,0.03626123451486814,0.034724535189529095,0.03854756836790883,0.04005963194123876,0.039048725561758216,0.040321239985895915,0.03727880419019882,0.03622079398216823,0.0038423444018230854,0.03849417785225277,0.03520687358706711,0.04017868945540429,0.03698022485308601,0.0401787042659081,0.040272735457935506,0.03900465622973684,0.037816863163871596,0.0393166412189161,0.03454337607018097,0.038378823078934934,0.03984005907111889,0.03616871144582766,0.01958459328359194,0.04008731392233443,0.04009555966211329,0.038131491885756964,0.03746794556681785,0.0385218855060383,0.03940073778370411,0.03956360469402499,0.039908490627990956,0.03799754099919618,0.03718119432745058,0.040040157292061215,0.027155737635310383,0.03858684267502897,0.03576177015377796,0.036001126709909057,0.04023213900728219],\"type\":\"scatter\",\"xaxis\":\"x2\",\"yaxis\":\"y2\"},{\"marker\":{\"color\":[0,1,2,3,4,5,6,7,8,9,10,11,12,13,14,15,16,17,18,19,20,21,22,23,24,25,26,27,28,29,30,31,32,33,34,35,36,37,38,39,40,41,42,43,44,45,46,47,48,49,50,51,52,53,54,55,56,57,58,59,60,61,62,63,64,65,66,67,68,69,70,71,72,73,74,75,76,77,78,79,80,81,82,83,84,85,86,87,88,89,90,91,92,93,94,95,96,97,98,99,100,101,102,103,104,105,106,107,108,109,110,111,112,113,114,115,116,117,118,119,120,121,122,123,124,125,126],\"colorbar\":{\"title\":{\"text\":\"Trial\"},\"x\":1.0,\"xpad\":40},\"colorscale\":[[0.0,\"rgb(247,251,255)\"],[0.125,\"rgb(222,235,247)\"],[0.25,\"rgb(198,219,239)\"],[0.375,\"rgb(158,202,225)\"],[0.5,\"rgb(107,174,214)\"],[0.625,\"rgb(66,146,198)\"],[0.75,\"rgb(33,113,181)\"],[0.875,\"rgb(8,81,156)\"],[1.0,\"rgb(8,48,107)\"]],\"line\":{\"color\":\"Grey\",\"width\":0.5},\"showscale\":false},\"mode\":\"markers\",\"name\":\"Feasible Trial\",\"showlegend\":false,\"x\":[1.1601875260504637,0.016890764356669752,1.309899141112828,0.11867455348280095,0.02749832611061046,0.08017910325832754,0.8683080791947823,0.02709470253146698,0.09118264766133041,0.20034461016814362,0.3171898960708655,0.3033784380501289,0.4143972159468795,0.0845596855823325,0.0465564572928155,0.03849816418295613,0.04713046244579731,0.012489329398582693,0.04781739050513421,0.02738046317945312,0.0567771082719638,0.04536382719589303,0.019467884035811626,0.010071126525594647,0.017462803648256905,0.0203845103051869,0.01646737054990977,0.01718808139075456,0.013943589332504358,0.011993171213784203,0.03067521192826745,0.015008622751071078,0.014023213395014928,0.016600413596585914,0.02141823128233032,0.010544774535610181,0.03406498739490553,0.023895873182147243,1.687593735367871,0.014108179368975649,0.0659323836078526,0.01492612670935785,0.1328950225466458,0.1281281377324726,0.1589271772058308,0.12769126231370645,0.06848055117020743,0.0754131233768062,0.19696534147656983,0.694091456002227,0.07074029668808823,0.06612545853922586,0.06523580800615364,0.07066698544136316,0.0941492577981987,0.10046007299698698,0.09418013874250344,0.10009629852231713,0.1048198144100635,0.058587313231889815,0.057669170921512525,0.03992114697525159,0.05893024199005129,0.05647953883180041,0.0736100575551587,0.08137170570827891,0.055114639584153066,0.1625371192363614,0.06839036446314771,0.04584608315648025,0.03765996487332113,0.033478811207168405,0.04227215763793553,0.05286749609114225,0.06438034056030162,0.03574947464660301,0.08592714609141397,0.11535994978228035,0.025403033451039156,0.05029148921443409,0.03021768068995849,0.07191405346578975,0.06688601669544914,0.06188904166719779,0.07708934971796545,0.043067629464241364,0.11379032803651147,0.08065630579797244,0.048606920179259,0.039015953274806,0.15192081518772513,0.06897266927461576,0.07418209211507708,0.06301693336396262,0.052233332309551725,0.060046993433083826,0.08854701774541149,0.029620082232232895,0.036072872030645284,0.07240109851408531,0.07430544922387046,0.058902765679024624,0.06053866120163277,0.058869785851138105,0.0456362902500508,0.08872214334881419,0.10964979287866954,0.04921258006250253,0.05468324068417504,0.08059814838571919,0.061696524374669236,0.07048053193416984,0.07366310331971714,0.09572675132774111,0.0413188018852045,0.05497082638252705,0.06219820028539728,0.08334905383090126,0.10441537320530889,0.048699399597491984,0.07553865808510626,0.06990367473687023,0.06874898717596888,0.09246284578049054,0.31724121233223085,0.05802553693545808,0.04538110478992028],\"y\":[0.007138301506590852,0.004995323826639392,0.0007283453813908277,0.021462698361031745,0.006493834972167723,0.011123684924482354,0.0009230412911014413,0.0023156165793570883,0.01416471597584081,0.0009638189351730767,0.024214711241833314,0.021247008901816,0.0201480518216365,0.02277538495896412,0.03217330506858227,0.029198820675572185,0.02633523163912769,0.02499016269242512,0.006626672202153341,0.016767390517934938,0.029143548373414728,0.031177530979560976,0.03291997864697201,0.02622349664370243,0.033366822064820056,0.020359152727334635,0.03401375422913715,0.03377093184749998,0.034058903828334076,0.01320252718610213,0.017095413450646114,0.0345890422492219,0.031334513314914506,0.023110175534543354,0.03318860344239326,0.027397395283723026,0.008177181752265603,0.005038427149014339,0.009355898490289071,0.03611661867808101,0.036741060665780846,0.03682417368585797,0.03604077143431082,0.035994724823370926,0.035932884681290356,0.02973130765459414,0.03699934341616755,0.02899451100673976,0.022422861179835548,0.029101180043909724,0.04013001711822456,0.04005471059122628,0.040029630162754244,0.03998196755144543,0.03987483853118087,0.039888327267669256,0.03981862934445178,0.03785861644025194,0.03805046647253823,0.0402735539662995,0.03268694360492637,0.03939902299706336,0.040131357357452935,0.038799618502475236,0.04041611779585121,0.03872199780469813,0.03877237895264289,0.03373529042871418,0.03998821146431401,0.03534322292557127,0.04020270029263321,0.038193160755752624,0.039946971506624025,0.033057150441044084,0.03559787734061746,0.03939336560257084,0.03740837907660084,0.03145284408719162,0.01844519856559669,0.005491513977846925,0.03947411014032427,0.040275288205559215,0.04033462425809144,0.03792283459835607,0.03926917629203775,0.03808032948747717,0.010074151871353468,0.006708161954004518,0.03626123451486814,0.034724535189529095,0.03854756836790883,0.04005963194123876,0.039048725561758216,0.040321239985895915,0.03727880419019882,0.03622079398216823,0.0038423444018230854,0.03849417785225277,0.03520687358706711,0.04017868945540429,0.03698022485308601,0.0401787042659081,0.040272735457935506,0.03900465622973684,0.037816863163871596,0.0393166412189161,0.03454337607018097,0.038378823078934934,0.03984005907111889,0.03616871144582766,0.01958459328359194,0.04008731392233443,0.04009555966211329,0.038131491885756964,0.03746794556681785,0.0385218855060383,0.03940073778370411,0.03956360469402499,0.039908490627990956,0.03799754099919618,0.03718119432745058,0.040040157292061215,0.027155737635310383,0.03858684267502897,0.03576177015377796,0.036001126709909057,0.04023213900728219],\"type\":\"scatter\",\"xaxis\":\"x3\",\"yaxis\":\"y3\"}],                        {\"template\":{\"data\":{\"histogram2dcontour\":[{\"type\":\"histogram2dcontour\",\"colorbar\":{\"outlinewidth\":0,\"ticks\":\"\"},\"colorscale\":[[0.0,\"#0d0887\"],[0.1111111111111111,\"#46039f\"],[0.2222222222222222,\"#7201a8\"],[0.3333333333333333,\"#9c179e\"],[0.4444444444444444,\"#bd3786\"],[0.5555555555555556,\"#d8576b\"],[0.6666666666666666,\"#ed7953\"],[0.7777777777777778,\"#fb9f3a\"],[0.8888888888888888,\"#fdca26\"],[1.0,\"#f0f921\"]]}],\"choropleth\":[{\"type\":\"choropleth\",\"colorbar\":{\"outlinewidth\":0,\"ticks\":\"\"}}],\"histogram2d\":[{\"type\":\"histogram2d\",\"colorbar\":{\"outlinewidth\":0,\"ticks\":\"\"},\"colorscale\":[[0.0,\"#0d0887\"],[0.1111111111111111,\"#46039f\"],[0.2222222222222222,\"#7201a8\"],[0.3333333333333333,\"#9c179e\"],[0.4444444444444444,\"#bd3786\"],[0.5555555555555556,\"#d8576b\"],[0.6666666666666666,\"#ed7953\"],[0.7777777777777778,\"#fb9f3a\"],[0.8888888888888888,\"#fdca26\"],[1.0,\"#f0f921\"]]}],\"heatmap\":[{\"type\":\"heatmap\",\"colorbar\":{\"outlinewidth\":0,\"ticks\":\"\"},\"colorscale\":[[0.0,\"#0d0887\"],[0.1111111111111111,\"#46039f\"],[0.2222222222222222,\"#7201a8\"],[0.3333333333333333,\"#9c179e\"],[0.4444444444444444,\"#bd3786\"],[0.5555555555555556,\"#d8576b\"],[0.6666666666666666,\"#ed7953\"],[0.7777777777777778,\"#fb9f3a\"],[0.8888888888888888,\"#fdca26\"],[1.0,\"#f0f921\"]]}],\"heatmapgl\":[{\"type\":\"heatmapgl\",\"colorbar\":{\"outlinewidth\":0,\"ticks\":\"\"},\"colorscale\":[[0.0,\"#0d0887\"],[0.1111111111111111,\"#46039f\"],[0.2222222222222222,\"#7201a8\"],[0.3333333333333333,\"#9c179e\"],[0.4444444444444444,\"#bd3786\"],[0.5555555555555556,\"#d8576b\"],[0.6666666666666666,\"#ed7953\"],[0.7777777777777778,\"#fb9f3a\"],[0.8888888888888888,\"#fdca26\"],[1.0,\"#f0f921\"]]}],\"contourcarpet\":[{\"type\":\"contourcarpet\",\"colorbar\":{\"outlinewidth\":0,\"ticks\":\"\"}}],\"contour\":[{\"type\":\"contour\",\"colorbar\":{\"outlinewidth\":0,\"ticks\":\"\"},\"colorscale\":[[0.0,\"#0d0887\"],[0.1111111111111111,\"#46039f\"],[0.2222222222222222,\"#7201a8\"],[0.3333333333333333,\"#9c179e\"],[0.4444444444444444,\"#bd3786\"],[0.5555555555555556,\"#d8576b\"],[0.6666666666666666,\"#ed7953\"],[0.7777777777777778,\"#fb9f3a\"],[0.8888888888888888,\"#fdca26\"],[1.0,\"#f0f921\"]]}],\"surface\":[{\"type\":\"surface\",\"colorbar\":{\"outlinewidth\":0,\"ticks\":\"\"},\"colorscale\":[[0.0,\"#0d0887\"],[0.1111111111111111,\"#46039f\"],[0.2222222222222222,\"#7201a8\"],[0.3333333333333333,\"#9c179e\"],[0.4444444444444444,\"#bd3786\"],[0.5555555555555556,\"#d8576b\"],[0.6666666666666666,\"#ed7953\"],[0.7777777777777778,\"#fb9f3a\"],[0.8888888888888888,\"#fdca26\"],[1.0,\"#f0f921\"]]}],\"mesh3d\":[{\"type\":\"mesh3d\",\"colorbar\":{\"outlinewidth\":0,\"ticks\":\"\"}}],\"scatter\":[{\"fillpattern\":{\"fillmode\":\"overlay\",\"size\":10,\"solidity\":0.2},\"type\":\"scatter\"}],\"parcoords\":[{\"type\":\"parcoords\",\"line\":{\"colorbar\":{\"outlinewidth\":0,\"ticks\":\"\"}}}],\"scatterpolargl\":[{\"type\":\"scatterpolargl\",\"marker\":{\"colorbar\":{\"outlinewidth\":0,\"ticks\":\"\"}}}],\"bar\":[{\"error_x\":{\"color\":\"#2a3f5f\"},\"error_y\":{\"color\":\"#2a3f5f\"},\"marker\":{\"line\":{\"color\":\"#E5ECF6\",\"width\":0.5},\"pattern\":{\"fillmode\":\"overlay\",\"size\":10,\"solidity\":0.2}},\"type\":\"bar\"}],\"scattergeo\":[{\"type\":\"scattergeo\",\"marker\":{\"colorbar\":{\"outlinewidth\":0,\"ticks\":\"\"}}}],\"scatterpolar\":[{\"type\":\"scatterpolar\",\"marker\":{\"colorbar\":{\"outlinewidth\":0,\"ticks\":\"\"}}}],\"histogram\":[{\"marker\":{\"pattern\":{\"fillmode\":\"overlay\",\"size\":10,\"solidity\":0.2}},\"type\":\"histogram\"}],\"scattergl\":[{\"type\":\"scattergl\",\"marker\":{\"colorbar\":{\"outlinewidth\":0,\"ticks\":\"\"}}}],\"scatter3d\":[{\"type\":\"scatter3d\",\"line\":{\"colorbar\":{\"outlinewidth\":0,\"ticks\":\"\"}},\"marker\":{\"colorbar\":{\"outlinewidth\":0,\"ticks\":\"\"}}}],\"scattermapbox\":[{\"type\":\"scattermapbox\",\"marker\":{\"colorbar\":{\"outlinewidth\":0,\"ticks\":\"\"}}}],\"scatterternary\":[{\"type\":\"scatterternary\",\"marker\":{\"colorbar\":{\"outlinewidth\":0,\"ticks\":\"\"}}}],\"scattercarpet\":[{\"type\":\"scattercarpet\",\"marker\":{\"colorbar\":{\"outlinewidth\":0,\"ticks\":\"\"}}}],\"carpet\":[{\"aaxis\":{\"endlinecolor\":\"#2a3f5f\",\"gridcolor\":\"white\",\"linecolor\":\"white\",\"minorgridcolor\":\"white\",\"startlinecolor\":\"#2a3f5f\"},\"baxis\":{\"endlinecolor\":\"#2a3f5f\",\"gridcolor\":\"white\",\"linecolor\":\"white\",\"minorgridcolor\":\"white\",\"startlinecolor\":\"#2a3f5f\"},\"type\":\"carpet\"}],\"table\":[{\"cells\":{\"fill\":{\"color\":\"#EBF0F8\"},\"line\":{\"color\":\"white\"}},\"header\":{\"fill\":{\"color\":\"#C8D4E3\"},\"line\":{\"color\":\"white\"}},\"type\":\"table\"}],\"barpolar\":[{\"marker\":{\"line\":{\"color\":\"#E5ECF6\",\"width\":0.5},\"pattern\":{\"fillmode\":\"overlay\",\"size\":10,\"solidity\":0.2}},\"type\":\"barpolar\"}],\"pie\":[{\"automargin\":true,\"type\":\"pie\"}]},\"layout\":{\"autotypenumbers\":\"strict\",\"colorway\":[\"#636efa\",\"#EF553B\",\"#00cc96\",\"#ab63fa\",\"#FFA15A\",\"#19d3f3\",\"#FF6692\",\"#B6E880\",\"#FF97FF\",\"#FECB52\"],\"font\":{\"color\":\"#2a3f5f\"},\"hovermode\":\"closest\",\"hoverlabel\":{\"align\":\"left\"},\"paper_bgcolor\":\"white\",\"plot_bgcolor\":\"#E5ECF6\",\"polar\":{\"bgcolor\":\"#E5ECF6\",\"angularaxis\":{\"gridcolor\":\"white\",\"linecolor\":\"white\",\"ticks\":\"\"},\"radialaxis\":{\"gridcolor\":\"white\",\"linecolor\":\"white\",\"ticks\":\"\"}},\"ternary\":{\"bgcolor\":\"#E5ECF6\",\"aaxis\":{\"gridcolor\":\"white\",\"linecolor\":\"white\",\"ticks\":\"\"},\"baxis\":{\"gridcolor\":\"white\",\"linecolor\":\"white\",\"ticks\":\"\"},\"caxis\":{\"gridcolor\":\"white\",\"linecolor\":\"white\",\"ticks\":\"\"}},\"coloraxis\":{\"colorbar\":{\"outlinewidth\":0,\"ticks\":\"\"}},\"colorscale\":{\"sequential\":[[0.0,\"#0d0887\"],[0.1111111111111111,\"#46039f\"],[0.2222222222222222,\"#7201a8\"],[0.3333333333333333,\"#9c179e\"],[0.4444444444444444,\"#bd3786\"],[0.5555555555555556,\"#d8576b\"],[0.6666666666666666,\"#ed7953\"],[0.7777777777777778,\"#fb9f3a\"],[0.8888888888888888,\"#fdca26\"],[1.0,\"#f0f921\"]],\"sequentialminus\":[[0.0,\"#0d0887\"],[0.1111111111111111,\"#46039f\"],[0.2222222222222222,\"#7201a8\"],[0.3333333333333333,\"#9c179e\"],[0.4444444444444444,\"#bd3786\"],[0.5555555555555556,\"#d8576b\"],[0.6666666666666666,\"#ed7953\"],[0.7777777777777778,\"#fb9f3a\"],[0.8888888888888888,\"#fdca26\"],[1.0,\"#f0f921\"]],\"diverging\":[[0,\"#8e0152\"],[0.1,\"#c51b7d\"],[0.2,\"#de77ae\"],[0.3,\"#f1b6da\"],[0.4,\"#fde0ef\"],[0.5,\"#f7f7f7\"],[0.6,\"#e6f5d0\"],[0.7,\"#b8e186\"],[0.8,\"#7fbc41\"],[0.9,\"#4d9221\"],[1,\"#276419\"]]},\"xaxis\":{\"gridcolor\":\"white\",\"linecolor\":\"white\",\"ticks\":\"\",\"title\":{\"standoff\":15},\"zerolinecolor\":\"white\",\"automargin\":true,\"zerolinewidth\":2},\"yaxis\":{\"gridcolor\":\"white\",\"linecolor\":\"white\",\"ticks\":\"\",\"title\":{\"standoff\":15},\"zerolinecolor\":\"white\",\"automargin\":true,\"zerolinewidth\":2},\"scene\":{\"xaxis\":{\"backgroundcolor\":\"#E5ECF6\",\"gridcolor\":\"white\",\"linecolor\":\"white\",\"showbackground\":true,\"ticks\":\"\",\"zerolinecolor\":\"white\",\"gridwidth\":2},\"yaxis\":{\"backgroundcolor\":\"#E5ECF6\",\"gridcolor\":\"white\",\"linecolor\":\"white\",\"showbackground\":true,\"ticks\":\"\",\"zerolinecolor\":\"white\",\"gridwidth\":2},\"zaxis\":{\"backgroundcolor\":\"#E5ECF6\",\"gridcolor\":\"white\",\"linecolor\":\"white\",\"showbackground\":true,\"ticks\":\"\",\"zerolinecolor\":\"white\",\"gridwidth\":2}},\"shapedefaults\":{\"line\":{\"color\":\"#2a3f5f\"}},\"annotationdefaults\":{\"arrowcolor\":\"#2a3f5f\",\"arrowhead\":0,\"arrowwidth\":1},\"geo\":{\"bgcolor\":\"white\",\"landcolor\":\"#E5ECF6\",\"subunitcolor\":\"white\",\"showland\":true,\"showlakes\":true,\"lakecolor\":\"white\"},\"title\":{\"x\":0.05},\"mapbox\":{\"style\":\"light\"}}},\"xaxis\":{\"anchor\":\"y\",\"domain\":[0.0,0.2888888888888889],\"title\":{\"text\":\"num_factors\"},\"type\":\"log\"},\"yaxis\":{\"anchor\":\"x\",\"domain\":[0.0,1.0],\"title\":{\"text\":\"Objective Value\"}},\"xaxis2\":{\"anchor\":\"y2\",\"domain\":[0.35555555555555557,0.6444444444444445],\"title\":{\"text\":\"scaling_items\"},\"type\":\"log\"},\"yaxis2\":{\"anchor\":\"x2\",\"domain\":[0.0,1.0],\"matches\":\"y\",\"showticklabels\":false},\"xaxis3\":{\"anchor\":\"y3\",\"domain\":[0.7111111111111111,1.0],\"title\":{\"text\":\"scaling_users\"},\"type\":\"log\"},\"yaxis3\":{\"anchor\":\"x3\",\"domain\":[0.0,1.0],\"matches\":\"y\",\"showticklabels\":false},\"title\":{\"text\":\"Slice Plot\"}},                        {\"responsive\": true}                    ).then(function(){\n",
       "                            \n",
       "var gd = document.getElementById('1d6346a7-befd-4680-ac21-3ff3b10f6a37');\n",
       "var x = new MutationObserver(function (mutations, observer) {{\n",
       "        var display = window.getComputedStyle(gd).display;\n",
       "        if (!display || display === 'none') {{\n",
       "            console.log([gd, 'removed!']);\n",
       "            Plotly.purge(gd);\n",
       "            observer.disconnect();\n",
       "        }}\n",
       "}});\n",
       "\n",
       "// Listen for the removal of the full notebook cells\n",
       "var notebookContainer = gd.closest('#notebook-container');\n",
       "if (notebookContainer) {{\n",
       "    x.observe(notebookContainer, {childList: true});\n",
       "}}\n",
       "\n",
       "// Listen for the clearing of the current output cell\n",
       "var outputEl = gd.closest('.output');\n",
       "if (outputEl) {{\n",
       "    x.observe(outputEl, {childList: true});\n",
       "}}\n",
       "\n",
       "                        })                };                            </script>        </div>\n",
       "</body>\n",
       "</html>"
      ]
     },
     "metadata": {},
     "output_type": "display_data"
    }
   ],
   "source": [
    "if not config['tune_parameters']:\n",
    "    optuna_study = optuna.load_study(study_name=f'hyperparameters_tuning_{config[\"model\"]}_{config[\"metric\"]}', storage=f'sqlite:///{config[\"database_path\"]}')\n",
    "    \n",
    "fig = optuna.visualization.plot_slice(optuna_study)\n",
    "fig.show()"
   ]
  },
  {
   "cell_type": "code",
   "execution_count": 15,
   "id": "34ccd29e",
   "metadata": {
    "execution": {
     "iopub.execute_input": "2025-01-07T10:42:02.995427Z",
     "iopub.status.busy": "2025-01-07T10:42:02.995019Z",
     "iopub.status.idle": "2025-01-07T10:42:04.601030Z",
     "shell.execute_reply": "2025-01-07T10:42:04.599966Z"
    },
    "papermill": {
     "duration": 1.646426,
     "end_time": "2025-01-07T10:42:04.602869",
     "exception": false,
     "start_time": "2025-01-07T10:42:02.956443",
     "status": "completed"
    },
    "tags": []
   },
   "outputs": [
    {
     "data": {
      "text/html": [
       "<html>\n",
       "<head><meta charset=\"utf-8\" /></head>\n",
       "<body>\n",
       "    <div>            <script src=\"https://cdnjs.cloudflare.com/ajax/libs/mathjax/2.7.5/MathJax.js?config=TeX-AMS-MML_SVG\"></script><script type=\"text/javascript\">if (window.MathJax && window.MathJax.Hub && window.MathJax.Hub.Config) {window.MathJax.Hub.Config({SVG: {font: \"STIX-Web\"}});}</script>                <script type=\"text/javascript\">window.PlotlyConfig = {MathJaxConfig: 'local'};</script>\n",
       "        <script charset=\"utf-8\" src=\"https://cdn.plot.ly/plotly-2.35.2.min.js\"></script>                <div id=\"2d47ba95-99cf-4804-82a4-25f657361255\" class=\"plotly-graph-div\" style=\"height:525px; width:100%;\"></div>            <script type=\"text/javascript\">                                    window.PLOTLYENV=window.PLOTLYENV || {};                                    if (document.getElementById(\"2d47ba95-99cf-4804-82a4-25f657361255\")) {                    Plotly.newPlot(                        \"2d47ba95-99cf-4804-82a4-25f657361255\",                        [{\"cliponaxis\":false,\"hovertemplate\":[\"scaling_users (FloatDistribution): 0.006368375791499355\\u003cextra\\u003e\\u003c\\u002fextra\\u003e\",\"num_factors (IntDistribution): 0.3939820103099919\\u003cextra\\u003e\\u003c\\u002fextra\\u003e\",\"scaling_items (FloatDistribution): 0.5996496138985087\\u003cextra\\u003e\\u003c\\u002fextra\\u003e\"],\"name\":\"Objective Value\",\"orientation\":\"h\",\"text\":[\"\\u003c0.01\",\"0.39\",\"0.60\"],\"textposition\":\"outside\",\"x\":[0.006368375791499355,0.3939820103099919,0.5996496138985087],\"y\":[\"scaling_users\",\"num_factors\",\"scaling_items\"],\"type\":\"bar\"}],                        {\"title\":{\"text\":\"Hyperparameter Importances\"},\"xaxis\":{\"title\":{\"text\":\"Hyperparameter Importance\"}},\"yaxis\":{\"title\":{\"text\":\"Hyperparameter\"}},\"template\":{\"data\":{\"histogram2dcontour\":[{\"type\":\"histogram2dcontour\",\"colorbar\":{\"outlinewidth\":0,\"ticks\":\"\"},\"colorscale\":[[0.0,\"#0d0887\"],[0.1111111111111111,\"#46039f\"],[0.2222222222222222,\"#7201a8\"],[0.3333333333333333,\"#9c179e\"],[0.4444444444444444,\"#bd3786\"],[0.5555555555555556,\"#d8576b\"],[0.6666666666666666,\"#ed7953\"],[0.7777777777777778,\"#fb9f3a\"],[0.8888888888888888,\"#fdca26\"],[1.0,\"#f0f921\"]]}],\"choropleth\":[{\"type\":\"choropleth\",\"colorbar\":{\"outlinewidth\":0,\"ticks\":\"\"}}],\"histogram2d\":[{\"type\":\"histogram2d\",\"colorbar\":{\"outlinewidth\":0,\"ticks\":\"\"},\"colorscale\":[[0.0,\"#0d0887\"],[0.1111111111111111,\"#46039f\"],[0.2222222222222222,\"#7201a8\"],[0.3333333333333333,\"#9c179e\"],[0.4444444444444444,\"#bd3786\"],[0.5555555555555556,\"#d8576b\"],[0.6666666666666666,\"#ed7953\"],[0.7777777777777778,\"#fb9f3a\"],[0.8888888888888888,\"#fdca26\"],[1.0,\"#f0f921\"]]}],\"heatmap\":[{\"type\":\"heatmap\",\"colorbar\":{\"outlinewidth\":0,\"ticks\":\"\"},\"colorscale\":[[0.0,\"#0d0887\"],[0.1111111111111111,\"#46039f\"],[0.2222222222222222,\"#7201a8\"],[0.3333333333333333,\"#9c179e\"],[0.4444444444444444,\"#bd3786\"],[0.5555555555555556,\"#d8576b\"],[0.6666666666666666,\"#ed7953\"],[0.7777777777777778,\"#fb9f3a\"],[0.8888888888888888,\"#fdca26\"],[1.0,\"#f0f921\"]]}],\"heatmapgl\":[{\"type\":\"heatmapgl\",\"colorbar\":{\"outlinewidth\":0,\"ticks\":\"\"},\"colorscale\":[[0.0,\"#0d0887\"],[0.1111111111111111,\"#46039f\"],[0.2222222222222222,\"#7201a8\"],[0.3333333333333333,\"#9c179e\"],[0.4444444444444444,\"#bd3786\"],[0.5555555555555556,\"#d8576b\"],[0.6666666666666666,\"#ed7953\"],[0.7777777777777778,\"#fb9f3a\"],[0.8888888888888888,\"#fdca26\"],[1.0,\"#f0f921\"]]}],\"contourcarpet\":[{\"type\":\"contourcarpet\",\"colorbar\":{\"outlinewidth\":0,\"ticks\":\"\"}}],\"contour\":[{\"type\":\"contour\",\"colorbar\":{\"outlinewidth\":0,\"ticks\":\"\"},\"colorscale\":[[0.0,\"#0d0887\"],[0.1111111111111111,\"#46039f\"],[0.2222222222222222,\"#7201a8\"],[0.3333333333333333,\"#9c179e\"],[0.4444444444444444,\"#bd3786\"],[0.5555555555555556,\"#d8576b\"],[0.6666666666666666,\"#ed7953\"],[0.7777777777777778,\"#fb9f3a\"],[0.8888888888888888,\"#fdca26\"],[1.0,\"#f0f921\"]]}],\"surface\":[{\"type\":\"surface\",\"colorbar\":{\"outlinewidth\":0,\"ticks\":\"\"},\"colorscale\":[[0.0,\"#0d0887\"],[0.1111111111111111,\"#46039f\"],[0.2222222222222222,\"#7201a8\"],[0.3333333333333333,\"#9c179e\"],[0.4444444444444444,\"#bd3786\"],[0.5555555555555556,\"#d8576b\"],[0.6666666666666666,\"#ed7953\"],[0.7777777777777778,\"#fb9f3a\"],[0.8888888888888888,\"#fdca26\"],[1.0,\"#f0f921\"]]}],\"mesh3d\":[{\"type\":\"mesh3d\",\"colorbar\":{\"outlinewidth\":0,\"ticks\":\"\"}}],\"scatter\":[{\"fillpattern\":{\"fillmode\":\"overlay\",\"size\":10,\"solidity\":0.2},\"type\":\"scatter\"}],\"parcoords\":[{\"type\":\"parcoords\",\"line\":{\"colorbar\":{\"outlinewidth\":0,\"ticks\":\"\"}}}],\"scatterpolargl\":[{\"type\":\"scatterpolargl\",\"marker\":{\"colorbar\":{\"outlinewidth\":0,\"ticks\":\"\"}}}],\"bar\":[{\"error_x\":{\"color\":\"#2a3f5f\"},\"error_y\":{\"color\":\"#2a3f5f\"},\"marker\":{\"line\":{\"color\":\"#E5ECF6\",\"width\":0.5},\"pattern\":{\"fillmode\":\"overlay\",\"size\":10,\"solidity\":0.2}},\"type\":\"bar\"}],\"scattergeo\":[{\"type\":\"scattergeo\",\"marker\":{\"colorbar\":{\"outlinewidth\":0,\"ticks\":\"\"}}}],\"scatterpolar\":[{\"type\":\"scatterpolar\",\"marker\":{\"colorbar\":{\"outlinewidth\":0,\"ticks\":\"\"}}}],\"histogram\":[{\"marker\":{\"pattern\":{\"fillmode\":\"overlay\",\"size\":10,\"solidity\":0.2}},\"type\":\"histogram\"}],\"scattergl\":[{\"type\":\"scattergl\",\"marker\":{\"colorbar\":{\"outlinewidth\":0,\"ticks\":\"\"}}}],\"scatter3d\":[{\"type\":\"scatter3d\",\"line\":{\"colorbar\":{\"outlinewidth\":0,\"ticks\":\"\"}},\"marker\":{\"colorbar\":{\"outlinewidth\":0,\"ticks\":\"\"}}}],\"scattermapbox\":[{\"type\":\"scattermapbox\",\"marker\":{\"colorbar\":{\"outlinewidth\":0,\"ticks\":\"\"}}}],\"scatterternary\":[{\"type\":\"scatterternary\",\"marker\":{\"colorbar\":{\"outlinewidth\":0,\"ticks\":\"\"}}}],\"scattercarpet\":[{\"type\":\"scattercarpet\",\"marker\":{\"colorbar\":{\"outlinewidth\":0,\"ticks\":\"\"}}}],\"carpet\":[{\"aaxis\":{\"endlinecolor\":\"#2a3f5f\",\"gridcolor\":\"white\",\"linecolor\":\"white\",\"minorgridcolor\":\"white\",\"startlinecolor\":\"#2a3f5f\"},\"baxis\":{\"endlinecolor\":\"#2a3f5f\",\"gridcolor\":\"white\",\"linecolor\":\"white\",\"minorgridcolor\":\"white\",\"startlinecolor\":\"#2a3f5f\"},\"type\":\"carpet\"}],\"table\":[{\"cells\":{\"fill\":{\"color\":\"#EBF0F8\"},\"line\":{\"color\":\"white\"}},\"header\":{\"fill\":{\"color\":\"#C8D4E3\"},\"line\":{\"color\":\"white\"}},\"type\":\"table\"}],\"barpolar\":[{\"marker\":{\"line\":{\"color\":\"#E5ECF6\",\"width\":0.5},\"pattern\":{\"fillmode\":\"overlay\",\"size\":10,\"solidity\":0.2}},\"type\":\"barpolar\"}],\"pie\":[{\"automargin\":true,\"type\":\"pie\"}]},\"layout\":{\"autotypenumbers\":\"strict\",\"colorway\":[\"#636efa\",\"#EF553B\",\"#00cc96\",\"#ab63fa\",\"#FFA15A\",\"#19d3f3\",\"#FF6692\",\"#B6E880\",\"#FF97FF\",\"#FECB52\"],\"font\":{\"color\":\"#2a3f5f\"},\"hovermode\":\"closest\",\"hoverlabel\":{\"align\":\"left\"},\"paper_bgcolor\":\"white\",\"plot_bgcolor\":\"#E5ECF6\",\"polar\":{\"bgcolor\":\"#E5ECF6\",\"angularaxis\":{\"gridcolor\":\"white\",\"linecolor\":\"white\",\"ticks\":\"\"},\"radialaxis\":{\"gridcolor\":\"white\",\"linecolor\":\"white\",\"ticks\":\"\"}},\"ternary\":{\"bgcolor\":\"#E5ECF6\",\"aaxis\":{\"gridcolor\":\"white\",\"linecolor\":\"white\",\"ticks\":\"\"},\"baxis\":{\"gridcolor\":\"white\",\"linecolor\":\"white\",\"ticks\":\"\"},\"caxis\":{\"gridcolor\":\"white\",\"linecolor\":\"white\",\"ticks\":\"\"}},\"coloraxis\":{\"colorbar\":{\"outlinewidth\":0,\"ticks\":\"\"}},\"colorscale\":{\"sequential\":[[0.0,\"#0d0887\"],[0.1111111111111111,\"#46039f\"],[0.2222222222222222,\"#7201a8\"],[0.3333333333333333,\"#9c179e\"],[0.4444444444444444,\"#bd3786\"],[0.5555555555555556,\"#d8576b\"],[0.6666666666666666,\"#ed7953\"],[0.7777777777777778,\"#fb9f3a\"],[0.8888888888888888,\"#fdca26\"],[1.0,\"#f0f921\"]],\"sequentialminus\":[[0.0,\"#0d0887\"],[0.1111111111111111,\"#46039f\"],[0.2222222222222222,\"#7201a8\"],[0.3333333333333333,\"#9c179e\"],[0.4444444444444444,\"#bd3786\"],[0.5555555555555556,\"#d8576b\"],[0.6666666666666666,\"#ed7953\"],[0.7777777777777778,\"#fb9f3a\"],[0.8888888888888888,\"#fdca26\"],[1.0,\"#f0f921\"]],\"diverging\":[[0,\"#8e0152\"],[0.1,\"#c51b7d\"],[0.2,\"#de77ae\"],[0.3,\"#f1b6da\"],[0.4,\"#fde0ef\"],[0.5,\"#f7f7f7\"],[0.6,\"#e6f5d0\"],[0.7,\"#b8e186\"],[0.8,\"#7fbc41\"],[0.9,\"#4d9221\"],[1,\"#276419\"]]},\"xaxis\":{\"gridcolor\":\"white\",\"linecolor\":\"white\",\"ticks\":\"\",\"title\":{\"standoff\":15},\"zerolinecolor\":\"white\",\"automargin\":true,\"zerolinewidth\":2},\"yaxis\":{\"gridcolor\":\"white\",\"linecolor\":\"white\",\"ticks\":\"\",\"title\":{\"standoff\":15},\"zerolinecolor\":\"white\",\"automargin\":true,\"zerolinewidth\":2},\"scene\":{\"xaxis\":{\"backgroundcolor\":\"#E5ECF6\",\"gridcolor\":\"white\",\"linecolor\":\"white\",\"showbackground\":true,\"ticks\":\"\",\"zerolinecolor\":\"white\",\"gridwidth\":2},\"yaxis\":{\"backgroundcolor\":\"#E5ECF6\",\"gridcolor\":\"white\",\"linecolor\":\"white\",\"showbackground\":true,\"ticks\":\"\",\"zerolinecolor\":\"white\",\"gridwidth\":2},\"zaxis\":{\"backgroundcolor\":\"#E5ECF6\",\"gridcolor\":\"white\",\"linecolor\":\"white\",\"showbackground\":true,\"ticks\":\"\",\"zerolinecolor\":\"white\",\"gridwidth\":2}},\"shapedefaults\":{\"line\":{\"color\":\"#2a3f5f\"}},\"annotationdefaults\":{\"arrowcolor\":\"#2a3f5f\",\"arrowhead\":0,\"arrowwidth\":1},\"geo\":{\"bgcolor\":\"white\",\"landcolor\":\"#E5ECF6\",\"subunitcolor\":\"white\",\"showland\":true,\"showlakes\":true,\"lakecolor\":\"white\"},\"title\":{\"x\":0.05},\"mapbox\":{\"style\":\"light\"}}}},                        {\"responsive\": true}                    ).then(function(){\n",
       "                            \n",
       "var gd = document.getElementById('2d47ba95-99cf-4804-82a4-25f657361255');\n",
       "var x = new MutationObserver(function (mutations, observer) {{\n",
       "        var display = window.getComputedStyle(gd).display;\n",
       "        if (!display || display === 'none') {{\n",
       "            console.log([gd, 'removed!']);\n",
       "            Plotly.purge(gd);\n",
       "            observer.disconnect();\n",
       "        }}\n",
       "}});\n",
       "\n",
       "// Listen for the removal of the full notebook cells\n",
       "var notebookContainer = gd.closest('#notebook-container');\n",
       "if (notebookContainer) {{\n",
       "    x.observe(notebookContainer, {childList: true});\n",
       "}}\n",
       "\n",
       "// Listen for the clearing of the current output cell\n",
       "var outputEl = gd.closest('.output');\n",
       "if (outputEl) {{\n",
       "    x.observe(outputEl, {childList: true});\n",
       "}}\n",
       "\n",
       "                        })                };                            </script>        </div>\n",
       "</body>\n",
       "</html>"
      ]
     },
     "metadata": {},
     "output_type": "display_data"
    }
   ],
   "source": [
    "if not config['tune_parameters']:\n",
    "    optuna_study = optuna.load_study(study_name=f'hyperparameters_tuning_{config[\"model\"]}_{config[\"metric\"]}', storage=f'sqlite:///{config[\"database_path\"]}')\n",
    "    \n",
    "fig = optuna.visualization.plot_param_importances(optuna_study)\n",
    "fig.show()"
   ]
  },
  {
   "cell_type": "markdown",
   "id": "801c0d0d",
   "metadata": {
    "papermill": {
     "duration": 0.037534,
     "end_time": "2025-01-07T10:42:04.679937",
     "exception": false,
     "start_time": "2025-01-07T10:42:04.642403",
     "status": "completed"
    },
    "tags": []
   },
   "source": [
    "## Let's train the recommender with best parameter values"
   ]
  },
  {
   "cell_type": "code",
   "execution_count": 16,
   "id": "9b7e8917",
   "metadata": {
    "execution": {
     "iopub.execute_input": "2025-01-07T10:42:04.757998Z",
     "iopub.status.busy": "2025-01-07T10:42:04.757568Z",
     "iopub.status.idle": "2025-01-07T10:45:54.338479Z",
     "shell.execute_reply": "2025-01-07T10:45:54.337274Z"
    },
    "papermill": {
     "duration": 229.658905,
     "end_time": "2025-01-07T10:45:54.377220",
     "exception": false,
     "start_time": "2025-01-07T10:42:04.718315",
     "status": "completed"
    },
    "tags": []
   },
   "outputs": [
    {
     "name": "stdout",
     "output_type": "stream",
     "text": [
      "ScaledPureSVDRecommender: Computing SVD decomposition...\n",
      "ScaledPureSVDRecommender: Computing SVD decomposition... done in 3.82 min\n"
     ]
    }
   ],
   "source": [
    "if config['tune_best_params']:\n",
    "\n",
    "    if config['tune_parameters']:\n",
    "        best_params = optuna_study.best_trial.params\n",
    "    else: \n",
    "        with open(f'{K_PATH}/{GH_PATH}/{config[\"model\"]}Recommender/Optimizing{config[\"metric\"]}/best_params_{config[\"model\"]}_{config[\"metric\"]}.json', 'r') as best_params_json:\n",
    "            best_params = json.load(best_params_json)\n",
    "\n",
    "    recommender_instance = ScaledPureSVDRecommender(URM_train + URM_validation)\n",
    "    recommender_instance.fit(**best_params)"
   ]
  },
  {
   "cell_type": "markdown",
   "id": "63c4b62c",
   "metadata": {
    "papermill": {
     "duration": 0.036754,
     "end_time": "2025-01-07T10:45:54.452001",
     "exception": false,
     "start_time": "2025-01-07T10:45:54.415247",
     "status": "completed"
    },
    "tags": []
   },
   "source": [
    "# Testing\n",
    "\n",
    "Create the recommendations for the submission. "
   ]
  },
  {
   "cell_type": "code",
   "execution_count": 17,
   "id": "40b24d77",
   "metadata": {
    "execution": {
     "iopub.execute_input": "2025-01-07T10:45:54.528604Z",
     "iopub.status.busy": "2025-01-07T10:45:54.528184Z",
     "iopub.status.idle": "2025-01-07T10:48:03.263491Z",
     "shell.execute_reply": "2025-01-07T10:48:03.262358Z"
    },
    "papermill": {
     "duration": 128.813167,
     "end_time": "2025-01-07T10:48:03.302516",
     "exception": false,
     "start_time": "2025-01-07T10:45:54.489349",
     "status": "completed"
    },
    "tags": []
   },
   "outputs": [
    {
     "name": "stdout",
     "output_type": "stream",
     "text": [
      "Submission file saved as /kaggle/working/submission_ScaledPureSVD_MAP.csv\n"
     ]
    }
   ],
   "source": [
    "if config['tune_best_params']:\n",
    "\n",
    "    data_target_users_test = pd.read_csv('/kaggle/working/RECsys_Challenge2024/Dataset/data_target_users_test.csv')\n",
    "    create_submission(data_target_users_test, recommender_instance, f'/kaggle/working/submission_{config[\"model\"]}_{config[\"metric\"]}.csv')"
   ]
  },
  {
   "cell_type": "markdown",
   "id": "0562d759",
   "metadata": {
    "papermill": {
     "duration": 0.039761,
     "end_time": "2025-01-07T10:48:03.379732",
     "exception": false,
     "start_time": "2025-01-07T10:48:03.339971",
     "status": "completed"
    },
    "tags": []
   },
   "source": [
    "# Save Version on GitHub \n",
    "\n",
    "Write or import a json file where best hyperparameters are saved. "
   ]
  },
  {
   "cell_type": "code",
   "execution_count": 18,
   "id": "8a12a0d7",
   "metadata": {
    "execution": {
     "iopub.execute_input": "2025-01-07T10:48:03.456582Z",
     "iopub.status.busy": "2025-01-07T10:48:03.456165Z",
     "iopub.status.idle": "2025-01-07T10:48:04.366292Z",
     "shell.execute_reply": "2025-01-07T10:48:04.364783Z"
    },
    "papermill": {
     "duration": 0.951343,
     "end_time": "2025-01-07T10:48:04.368687",
     "exception": false,
     "start_time": "2025-01-07T10:48:03.417344",
     "status": "completed"
    },
    "tags": []
   },
   "outputs": [
    {
     "name": "stdout",
     "output_type": "stream",
     "text": [
      "File 'TrainedModels/WithKFCV/MatrixFactorization/PureSVDRecommender/ScaledPureSVDRecommender/OptimizingMAP/best_params_ScaledPureSVD_MAP.json' updated successfully.\n"
     ]
    }
   ],
   "source": [
    "if config['tune_parameters']:\n",
    "    with open(f'/kaggle/working/best_params_{config[\"model\"]}_{config[\"metric\"]}.json', 'w') as params_file:\n",
    "        json.dump(optuna_study.best_params, params_file)\n",
    "        \n",
    "    if config['save_github']:\n",
    "        upload_file(\n",
    "            f'/kaggle/working/best_params_{config[\"model\"]}_{config[\"metric\"]}.json', \n",
    "            f'{GH_PATH}/{config[\"model\"]}Recommender/Optimizing{config[\"metric\"]}/best_params_{config[\"model\"]}_{config[\"metric\"]}.json', \n",
    "            f'{config[\"model\"]}_{config[\"metric\"]} tuning results (from kaggle notebook)',\n",
    "            repo\n",
    "        )\n",
    "elif config['copy_prev_best_params']:\n",
    "    shutil.copyfile(\n",
    "        f'{K_PATH}/{GH_PATH}/{config[\"model\"]}Recommender/Optimizing{config[\"metric\"]}/'\\\n",
    "        f'best_params_{config[\"model\"]}_{config[\"metric\"]}.json', \n",
    "        f'/kaggle/working/best_params_{config[\"model\"]}_{config[\"metric\"]}.json'\n",
    "    )"
   ]
  },
  {
   "cell_type": "markdown",
   "id": "100a91b1",
   "metadata": {
    "papermill": {
     "duration": 0.040463,
     "end_time": "2025-01-07T10:48:04.450760",
     "exception": false,
     "start_time": "2025-01-07T10:48:04.410297",
     "status": "completed"
    },
    "tags": []
   },
   "source": [
    "Save the history of the tuned model."
   ]
  },
  {
   "cell_type": "code",
   "execution_count": 19,
   "id": "a61ebca6",
   "metadata": {
    "execution": {
     "iopub.execute_input": "2025-01-07T10:48:04.537996Z",
     "iopub.status.busy": "2025-01-07T10:48:04.537474Z",
     "iopub.status.idle": "2025-01-07T10:48:06.933314Z",
     "shell.execute_reply": "2025-01-07T10:48:06.931971Z"
    },
    "papermill": {
     "duration": 2.439874,
     "end_time": "2025-01-07T10:48:06.935382",
     "exception": false,
     "start_time": "2025-01-07T10:48:04.495508",
     "status": "completed"
    },
    "tags": []
   },
   "outputs": [
    {
     "name": "stdout",
     "output_type": "stream",
     "text": [
      "File 'TrainedModels/WithKFCV/MatrixFactorization/PureSVDRecommender/ScaledPureSVDRecommender/OptimizingMAP/history_ScaledPureSVD_MAP.db' updated successfully.\n"
     ]
    }
   ],
   "source": [
    "if config['save_github'] and config['tune_parameters']:\n",
    "    upload_file(\n",
    "        config['database_path'], \n",
    "        f'{GH_PATH}/{config[\"model\"]}Recommender/Optimizing{config[\"metric\"]}/history_{config[\"model\"]}_{config[\"metric\"]}.db',\n",
    "        f'Tuning {config[\"model\"]}_{config[\"metric\"]} db updated results (from kaggle notebook)',\n",
    "        repo\n",
    "    )"
   ]
  },
  {
   "cell_type": "markdown",
   "id": "eae2a42c",
   "metadata": {
    "papermill": {
     "duration": 0.043072,
     "end_time": "2025-01-07T10:48:07.021686",
     "exception": false,
     "start_time": "2025-01-07T10:48:06.978614",
     "status": "completed"
    },
    "tags": []
   },
   "source": [
    "Save the best trained model and its submission."
   ]
  },
  {
   "cell_type": "code",
   "execution_count": 20,
   "id": "3f47ffc3",
   "metadata": {
    "execution": {
     "iopub.execute_input": "2025-01-07T10:48:07.107933Z",
     "iopub.status.busy": "2025-01-07T10:48:07.107385Z",
     "iopub.status.idle": "2025-01-07T10:48:12.586439Z",
     "shell.execute_reply": "2025-01-07T10:48:12.585172Z"
    },
    "papermill": {
     "duration": 5.524715,
     "end_time": "2025-01-07T10:48:12.588636",
     "exception": false,
     "start_time": "2025-01-07T10:48:07.063921",
     "status": "completed"
    },
    "tags": []
   },
   "outputs": [
    {
     "name": "stdout",
     "output_type": "stream",
     "text": [
      "File 'TrainedModels/WithKFCV/MatrixFactorization/PureSVDRecommender/ScaledPureSVDRecommender/OptimizingMAP/Submission/submission_ScaledPureSVD_MAP.csv' updated successfully.\n"
     ]
    }
   ],
   "source": [
    "if config['save_github'] and config['tune_best_params']: \n",
    "    upload_file(\n",
    "                f'/kaggle/working/submission_{config[\"model\"]}_{config[\"metric\"]}.csv', \n",
    "                f'{GH_PATH}/{config[\"model\"]}Recommender/Optimizing{config[\"metric\"]}/Submission/submission_{config[\"model\"]}_{config[\"metric\"]}.csv', \n",
    "                f'New {config[\"model\"]}_{config[\"metric\"]} submission (from kaggle notebook)',\n",
    "                repo\n",
    "            )"
   ]
  }
 ],
 "metadata": {
  "kaggle": {
   "accelerator": "none",
   "dataSources": [],
   "dockerImageVersionId": 30822,
   "isGpuEnabled": false,
   "isInternetEnabled": true,
   "language": "python",
   "sourceType": "notebook"
  },
  "kernelspec": {
   "display_name": "Python 3",
   "language": "python",
   "name": "python3"
  },
  "language_info": {
   "codemirror_mode": {
    "name": "ipython",
    "version": 3
   },
   "file_extension": ".py",
   "mimetype": "text/x-python",
   "name": "python",
   "nbconvert_exporter": "python",
   "pygments_lexer": "ipython3",
   "version": "3.10.12"
  },
  "papermill": {
   "default_parameters": {},
   "duration": 39779.199622,
   "end_time": "2025-01-07T10:48:14.182437",
   "environment_variables": {},
   "exception": null,
   "input_path": "__notebook__.ipynb",
   "output_path": "__notebook__.ipynb",
   "parameters": {},
   "start_time": "2025-01-06T23:45:14.982815",
   "version": "2.6.0"
  }
 },
 "nbformat": 4,
 "nbformat_minor": 5
}
