{
 "cells": [
  {
   "cell_type": "markdown",
   "id": "93c14852",
   "metadata": {
    "papermill": {
     "duration": 0.00484,
     "end_time": "2025-01-05T14:37:42.883819",
     "exception": false,
     "start_time": "2025-01-05T14:37:42.878979",
     "status": "completed"
    },
    "tags": []
   },
   "source": [
    "# Set connection with GitHub"
   ]
  },
  {
   "cell_type": "code",
   "execution_count": 1,
   "id": "9c8ff3c5",
   "metadata": {
    "_cell_guid": "b1076dfc-b9ad-4769-8c92-a6c4dae69d19",
    "_uuid": "8f2839f25d086af736a60e9eeb907d3b93b6e0e5",
    "execution": {
     "iopub.execute_input": "2025-01-05T14:37:42.894326Z",
     "iopub.status.busy": "2025-01-05T14:37:42.893915Z",
     "iopub.status.idle": "2025-01-05T14:37:42.898827Z",
     "shell.execute_reply": "2025-01-05T14:37:42.897997Z"
    },
    "papermill": {
     "duration": 0.012027,
     "end_time": "2025-01-05T14:37:42.900299",
     "exception": false,
     "start_time": "2025-01-05T14:37:42.888272",
     "status": "completed"
    },
    "tags": []
   },
   "outputs": [],
   "source": [
    "# ! cd /kaggle/working && rm -rf RECsys_Challenge2024"
   ]
  },
  {
   "cell_type": "code",
   "execution_count": 2,
   "id": "85e7356f",
   "metadata": {
    "execution": {
     "iopub.execute_input": "2025-01-05T14:37:42.910191Z",
     "iopub.status.busy": "2025-01-05T14:37:42.909872Z",
     "iopub.status.idle": "2025-01-05T14:38:08.468242Z",
     "shell.execute_reply": "2025-01-05T14:38:08.466858Z"
    },
    "papermill": {
     "duration": 25.565417,
     "end_time": "2025-01-05T14:38:08.470155",
     "exception": false,
     "start_time": "2025-01-05T14:37:42.904738",
     "status": "completed"
    },
    "tags": []
   },
   "outputs": [
    {
     "name": "stdout",
     "output_type": "stream",
     "text": [
      "Cloning into 'RECsys_Challenge2024'...\r\n",
      "remote: Enumerating objects: 6243, done.\u001b[K\r\n",
      "remote: Counting objects: 100% (154/154), done.\u001b[K\r\n",
      "remote: Compressing objects: 100% (123/123), done.\u001b[K\r\n",
      "remote: Total 6243 (delta 53), reused 25 (delta 10), pack-reused 6089 (from 4)\u001b[K\r\n",
      "Receiving objects: 100% (6243/6243), 400.66 MiB | 19.51 MiB/s, done.\r\n",
      "Resolving deltas: 100% (3433/3433), done.\r\n",
      "Updating files: 100% (490/490), done.\r\n"
     ]
    }
   ],
   "source": [
    "from kaggle_secrets import UserSecretsClient\n",
    "\n",
    "token = UserSecretsClient().get_secret(\"Token\")\n",
    "\n",
    "! git clone https://{token}@github.com/madratak/RECsys_Challenge2024.git"
   ]
  },
  {
   "cell_type": "code",
   "execution_count": 3,
   "id": "7c28642d",
   "metadata": {
    "execution": {
     "iopub.execute_input": "2025-01-05T14:38:08.489714Z",
     "iopub.status.busy": "2025-01-05T14:38:08.489389Z",
     "iopub.status.idle": "2025-01-05T14:38:14.400258Z",
     "shell.execute_reply": "2025-01-05T14:38:14.399122Z"
    },
    "papermill": {
     "duration": 5.922603,
     "end_time": "2025-01-05T14:38:14.402172",
     "exception": false,
     "start_time": "2025-01-05T14:38:08.479569",
     "status": "completed"
    },
    "tags": []
   },
   "outputs": [
    {
     "name": "stdout",
     "output_type": "stream",
     "text": [
      "Collecting PyGithub\r\n",
      "  Downloading PyGithub-2.5.0-py3-none-any.whl.metadata (3.9 kB)\r\n",
      "Requirement already satisfied: requests in /usr/local/lib/python3.10/dist-packages (2.32.3)\r\n",
      "Collecting pynacl>=1.4.0 (from PyGithub)\r\n",
      "  Downloading PyNaCl-1.5.0-cp36-abi3-manylinux_2_17_x86_64.manylinux2014_x86_64.manylinux_2_24_x86_64.whl.metadata (8.6 kB)\r\n",
      "Requirement already satisfied: pyjwt>=2.4.0 in /usr/local/lib/python3.10/dist-packages (from pyjwt[crypto]>=2.4.0->PyGithub) (2.9.0)\r\n",
      "Requirement already satisfied: typing-extensions>=4.0.0 in /usr/local/lib/python3.10/dist-packages (from PyGithub) (4.12.2)\r\n",
      "Requirement already satisfied: urllib3>=1.26.0 in /usr/local/lib/python3.10/dist-packages (from PyGithub) (2.2.3)\r\n",
      "Requirement already satisfied: Deprecated in /usr/local/lib/python3.10/dist-packages (from PyGithub) (1.2.15)\r\n",
      "Requirement already satisfied: charset-normalizer<4,>=2 in /usr/local/lib/python3.10/dist-packages (from requests) (3.3.2)\r\n",
      "Requirement already satisfied: idna<4,>=2.5 in /usr/local/lib/python3.10/dist-packages (from requests) (3.10)\r\n",
      "Requirement already satisfied: certifi>=2017.4.17 in /usr/local/lib/python3.10/dist-packages (from requests) (2024.8.30)\r\n",
      "Requirement already satisfied: cryptography>=3.4.0 in /usr/local/lib/python3.10/dist-packages (from pyjwt[crypto]>=2.4.0->PyGithub) (43.0.1)\r\n",
      "Requirement already satisfied: cffi>=1.4.1 in /usr/local/lib/python3.10/dist-packages (from pynacl>=1.4.0->PyGithub) (1.17.1)\r\n",
      "Requirement already satisfied: wrapt<2,>=1.10 in /usr/local/lib/python3.10/dist-packages (from Deprecated->PyGithub) (1.16.0)\r\n",
      "Requirement already satisfied: pycparser in /usr/local/lib/python3.10/dist-packages (from cffi>=1.4.1->pynacl>=1.4.0->PyGithub) (2.22)\r\n",
      "Downloading PyGithub-2.5.0-py3-none-any.whl (375 kB)\r\n",
      "\u001b[2K   \u001b[90m━━━━━━━━━━━━━━━━━━━━━━━━━━━━━━━━━━━━━━━━\u001b[0m \u001b[32m375.9/375.9 kB\u001b[0m \u001b[31m14.1 MB/s\u001b[0m eta \u001b[36m0:00:00\u001b[0m\r\n",
      "\u001b[?25hDownloading PyNaCl-1.5.0-cp36-abi3-manylinux_2_17_x86_64.manylinux2014_x86_64.manylinux_2_24_x86_64.whl (856 kB)\r\n",
      "\u001b[2K   \u001b[90m━━━━━━━━━━━━━━━━━━━━━━━━━━━━━━━━━━━━━━━━\u001b[0m \u001b[32m856.7/856.7 kB\u001b[0m \u001b[31m41.5 MB/s\u001b[0m eta \u001b[36m0:00:00\u001b[0m\r\n",
      "\u001b[?25hInstalling collected packages: pynacl, PyGithub\r\n",
      "Successfully installed PyGithub-2.5.0 pynacl-1.5.0\r\n"
     ]
    }
   ],
   "source": [
    "! pip install PyGithub requests"
   ]
  },
  {
   "cell_type": "code",
   "execution_count": 4,
   "id": "00a07aa5",
   "metadata": {
    "execution": {
     "iopub.execute_input": "2025-01-05T14:38:14.422801Z",
     "iopub.status.busy": "2025-01-05T14:38:14.422490Z",
     "iopub.status.idle": "2025-01-05T14:40:32.949299Z",
     "shell.execute_reply": "2025-01-05T14:40:32.947938Z"
    },
    "papermill": {
     "duration": 138.539171,
     "end_time": "2025-01-05T14:40:32.951077",
     "exception": false,
     "start_time": "2025-01-05T14:38:14.411906",
     "status": "completed"
    },
    "tags": []
   },
   "outputs": [
    {
     "name": "stdout",
     "output_type": "stream",
     "text": [
      "/kaggle/working/RECsys_Challenge2024\n",
      "run_compile_all_cython: Found 11 Cython files in 5 folders...\r\n",
      "run_compile_all_cython: All files will be compiled using your current python environment: '/usr/bin/python3'\r\n",
      "Compiling [1/11]: MatrixFactorizationImpressions_Cython_Epoch.pyx... \r\n",
      "In file included from \u001b[01m\u001b[K/usr/local/lib/python3.10/dist-packages/numpy/core/include/numpy/ndarraytypes.h:1929\u001b[m\u001b[K,\r\n",
      "                 from \u001b[01m\u001b[K/usr/local/lib/python3.10/dist-packages/numpy/core/include/numpy/ndarrayobject.h:12\u001b[m\u001b[K,\r\n",
      "                 from \u001b[01m\u001b[K/usr/local/lib/python3.10/dist-packages/numpy/core/include/numpy/arrayobject.h:5\u001b[m\u001b[K,\r\n",
      "                 from \u001b[01m\u001b[KMatrixFactorizationImpressions_Cython_Epoch.c:1252\u001b[m\u001b[K:\r\n",
      "\u001b[01m\u001b[K/usr/local/lib/python3.10/dist-packages/numpy/core/include/numpy/npy_1_7_deprecated_api.h:17:2:\u001b[m\u001b[K \u001b[01;35m\u001b[Kwarning: \u001b[m\u001b[K#warning \"Using deprecated NumPy API, disable it with \" \"#define NPY_NO_DEPRECATED_API NPY_1_7_API_VERSION\" [\u001b[01;35m\u001b[K\u001b]8;;https://gcc.gnu.org/onlinedocs/gcc/Warning-Options.html#index-Wcpp\u0007-Wcpp\u001b]8;;\u0007\u001b[m\u001b[K]\r\n",
      "   17 | #\u001b[01;35m\u001b[Kwarning\u001b[m\u001b[K \"Using deprecated NumPy API, disable it with \" \\\r\n",
      "      |  \u001b[01;35m\u001b[K^~~~~~~\u001b[m\u001b[K\r\n",
      "\u001b[01m\u001b[KMatrixFactorizationImpressions_Cython_Epoch.c:\u001b[m\u001b[K In function ‘\u001b[01m\u001b[K__pyx_f_43MatrixFactorizationImpressions_Cython_Epoch_32MatrixFactorization_Cython_Epoch_sampleBPR_Cython\u001b[m\u001b[K’:\r\n",
      "\u001b[01m\u001b[KMatrixFactorizationImpressions_Cython_Epoch.c:30353:17:\u001b[m\u001b[K \u001b[01;35m\u001b[Kwarning: \u001b[m\u001b[K‘\u001b[01m\u001b[K__pyx_v_start_pos_impression_items\u001b[m\u001b[K’ may be used uninitialized in this function [\u001b[01;35m\u001b[K\u001b]8;;https://gcc.gnu.org/onlinedocs/gcc/Warning-Options.html#index-Wmaybe-uninitialized\u0007-Wmaybe-uninitialized\u001b]8;;\u0007\u001b[m\u001b[K]\r\n",
      "30353 |       \u001b[01;35m\u001b[K__pyx_t_4 = (__pyx_v_start_pos_impression_items + __pyx_v_index)\u001b[m\u001b[K;\r\n",
      "      |       \u001b[01;35m\u001b[K~~~~~~~~~~^~~~~~~~~~~~~~~~~~~~~~~~~~~~~~~~~~~~~~~~~~~~~~~~~~~~~~\u001b[m\u001b[K\r\n",
      "\u001b[01m\u001b[KMatrixFactorizationImpressions_Cython_Epoch.c:\u001b[m\u001b[K In function ‘\u001b[01m\u001b[K__pyx_pf_43MatrixFactorizationImpressions_Cython_Epoch_32MatrixFactorization_Cython_Epoch_10epochIteration_Cython_ASY_SVD_SGD\u001b[m\u001b[K’:\r\n",
      "\u001b[01m\u001b[KMatrixFactorizationImpressions_Cython_Epoch.c:26112:66:\u001b[m\u001b[K \u001b[01;35m\u001b[Kwarning: \u001b[m\u001b[K‘\u001b[01m\u001b[K__pyx_v_end_pos_seen_items\u001b[m\u001b[K’ may be used uninitialized in this function [\u001b[01;35m\u001b[K\u001b]8;;https://gcc.gnu.org/onlinedocs/gcc/Warning-Options.html#index-Wmaybe-uninitialized\u0007-Wmaybe-uninitialized\u001b]8;;\u0007\u001b[m\u001b[K]\r\n",
      "26112 |       for (__pyx_t_22 = __pyx_v_start_pos_seen_items; \u001b[01;35m\u001b[K__pyx_t_22 < __pyx_t_21\u001b[m\u001b[K; __pyx_t_22+=1) {\r\n",
      "      |                                                       \u001b[01;35m\u001b[K~~~~~~~~~~~^~~~~~~~~~~~\u001b[m\u001b[K\r\n",
      "\u001b[01m\u001b[KMatrixFactorizationImpressions_Cython_Epoch.c:26112:66:\u001b[m\u001b[K \u001b[01;35m\u001b[Kwarning: \u001b[m\u001b[K‘\u001b[01m\u001b[K__pyx_v_start_pos_seen_items\u001b[m\u001b[K’ may be used uninitialized in this function [\u001b[01;35m\u001b[K\u001b]8;;https://gcc.gnu.org/onlinedocs/gcc/Warning-Options.html#index-Wmaybe-uninitialized\u0007-Wmaybe-uninitialized\u001b]8;;\u0007\u001b[m\u001b[K]\r\n",
      "/usr/local/lib/python3.10/dist-packages/Cython/Compiler/Main.py:381: FutureWarning: Cython directive 'language_level' not set, using '3str' for now (Py3). This has changed from earlier releases! File: /kaggle/working/RECsys_Challenge2024/Recommenders/MatrixFactorization/Cython/MatrixFactorizationImpressions_Cython_Epoch.pyx\r\n",
      "  tree = Parsing.p_module(s, pxd, full_module_name)\r\n",
      "Compiling [1/11]: MatrixFactorizationImpressions_Cython_Epoch.pyx... PASS\r\n",
      "\r\n",
      "Compiling [2/11]: MatrixFactorization_Cython_Epoch.pyx... \r\n",
      "In file included from \u001b[01m\u001b[K/usr/local/lib/python3.10/dist-packages/numpy/core/include/numpy/ndarraytypes.h:1929\u001b[m\u001b[K,\r\n",
      "                 from \u001b[01m\u001b[K/usr/local/lib/python3.10/dist-packages/numpy/core/include/numpy/ndarrayobject.h:12\u001b[m\u001b[K,\r\n",
      "                 from \u001b[01m\u001b[K/usr/local/lib/python3.10/dist-packages/numpy/core/include/numpy/arrayobject.h:5\u001b[m\u001b[K,\r\n",
      "                 from \u001b[01m\u001b[KMatrixFactorization_Cython_Epoch.c:1252\u001b[m\u001b[K:\r\n",
      "\u001b[01m\u001b[K/usr/local/lib/python3.10/dist-packages/numpy/core/include/numpy/npy_1_7_deprecated_api.h:17:2:\u001b[m\u001b[K \u001b[01;35m\u001b[Kwarning: \u001b[m\u001b[K#warning \"Using deprecated NumPy API, disable it with \" \"#define NPY_NO_DEPRECATED_API NPY_1_7_API_VERSION\" [\u001b[01;35m\u001b[K\u001b]8;;https://gcc.gnu.org/onlinedocs/gcc/Warning-Options.html#index-Wcpp\u0007-Wcpp\u001b]8;;\u0007\u001b[m\u001b[K]\r\n",
      "   17 | #\u001b[01;35m\u001b[Kwarning\u001b[m\u001b[K \"Using deprecated NumPy API, disable it with \" \\\r\n",
      "      |  \u001b[01;35m\u001b[K^~~~~~~\u001b[m\u001b[K\r\n",
      "\u001b[01m\u001b[KMatrixFactorization_Cython_Epoch.c:\u001b[m\u001b[K In function ‘\u001b[01m\u001b[K__pyx_pf_32MatrixFactorization_Cython_Epoch_32MatrixFactorization_Cython_Epoch_10epochIteration_Cython_ASY_SVD_SGD\u001b[m\u001b[K’:\r\n",
      "\u001b[01m\u001b[KMatrixFactorization_Cython_Epoch.c:26256:68:\u001b[m\u001b[K \u001b[01;35m\u001b[Kwarning: \u001b[m\u001b[K‘\u001b[01m\u001b[K__pyx_v_end_pos_seen_items\u001b[m\u001b[K’ may be used uninitialized in this function [\u001b[01;35m\u001b[K\u001b]8;;https://gcc.gnu.org/onlinedocs/gcc/Warning-Options.html#index-Wmaybe-uninitialized\u0007-Wmaybe-uninitialized\u001b]8;;\u0007\u001b[m\u001b[K]\r\n",
      "26256 |         for (__pyx_t_22 = __pyx_v_start_pos_seen_items; \u001b[01;35m\u001b[K__pyx_t_22 < __pyx_t_21\u001b[m\u001b[K; __pyx_t_22+=1) {\r\n",
      "      |                                                         \u001b[01;35m\u001b[K~~~~~~~~~~~^~~~~~~~~~~~\u001b[m\u001b[K\r\n",
      "\u001b[01m\u001b[KMatrixFactorization_Cython_Epoch.c:26256:68:\u001b[m\u001b[K \u001b[01;35m\u001b[Kwarning: \u001b[m\u001b[K‘\u001b[01m\u001b[K__pyx_v_start_pos_seen_items\u001b[m\u001b[K’ may be used uninitialized in this function [\u001b[01;35m\u001b[K\u001b]8;;https://gcc.gnu.org/onlinedocs/gcc/Warning-Options.html#index-Wmaybe-uninitialized\u0007-Wmaybe-uninitialized\u001b]8;;\u0007\u001b[m\u001b[K]\r\n",
      "/usr/local/lib/python3.10/dist-packages/Cython/Compiler/Main.py:381: FutureWarning: Cython directive 'language_level' not set, using '3str' for now (Py3). This has changed from earlier releases! File: /kaggle/working/RECsys_Challenge2024/Recommenders/MatrixFactorization/Cython/MatrixFactorization_Cython_Epoch.pyx\r\n",
      "  tree = Parsing.p_module(s, pxd, full_module_name)\r\n",
      "Compiling [2/11]: MatrixFactorization_Cython_Epoch.pyx... PASS\r\n",
      "\r\n",
      "Compiling [3/11]: Compute_Similarity_Cython.pyx... \r\n",
      "warning: Compute_Similarity_Cython.pyx:21:0: The 'IF' statement is deprecated and will be removed in a future Cython version. Consider using runtime conditions or C macros instead. See https://github.com/cython/cython/issues/4310\r\n",
      "In file included from \u001b[01m\u001b[K/usr/local/lib/python3.10/dist-packages/numpy/core/include/numpy/ndarraytypes.h:1929\u001b[m\u001b[K,\r\n",
      "                 from \u001b[01m\u001b[K/usr/local/lib/python3.10/dist-packages/numpy/core/include/numpy/ndarrayobject.h:12\u001b[m\u001b[K,\r\n",
      "                 from \u001b[01m\u001b[K/usr/local/lib/python3.10/dist-packages/numpy/core/include/numpy/arrayobject.h:5\u001b[m\u001b[K,\r\n",
      "                 from \u001b[01m\u001b[KCompute_Similarity_Cython.c:1252\u001b[m\u001b[K:\r\n",
      "\u001b[01m\u001b[K/usr/local/lib/python3.10/dist-packages/numpy/core/include/numpy/npy_1_7_deprecated_api.h:17:2:\u001b[m\u001b[K \u001b[01;35m\u001b[Kwarning: \u001b[m\u001b[K#warning \"Using deprecated NumPy API, disable it with \" \"#define NPY_NO_DEPRECATED_API NPY_1_7_API_VERSION\" [\u001b[01;35m\u001b[K\u001b]8;;https://gcc.gnu.org/onlinedocs/gcc/Warning-Options.html#index-Wcpp\u0007-Wcpp\u001b]8;;\u0007\u001b[m\u001b[K]\r\n",
      "   17 | #\u001b[01;35m\u001b[Kwarning\u001b[m\u001b[K \"Using deprecated NumPy API, disable it with \" \\\r\n",
      "      |  \u001b[01;35m\u001b[K^~~~~~~\u001b[m\u001b[K\r\n",
      "/usr/local/lib/python3.10/dist-packages/Cython/Compiler/Main.py:381: FutureWarning: Cython directive 'language_level' not set, using '3str' for now (Py3). This has changed from earlier releases! File: /kaggle/working/RECsys_Challenge2024/Recommenders/Similarity/Cython/Compute_Similarity_Cython.pyx\r\n",
      "  tree = Parsing.p_module(s, pxd, full_module_name)\r\n",
      "warning: Compute_Similarity_Cython.pyx:21:0: The 'IF' statement is deprecated and will be removed in a future Cython version. Consider using runtime conditions or C macros instead. See https://github.com/cython/cython/issues/4310\r\n",
      "Compiling [3/11]: Compute_Similarity_Cython.pyx... PASS\r\n",
      "\r\n",
      "Compiling [4/11]: Sparse_Matrix_Tree_CSR.pyx... \r\n",
      "warning: Sparse_Matrix_Tree_CSR.pyx:132:34: Non-trivial type declarators in shared declaration (e.g. mix of pointers and values). Each pointer declaration should be on its own line.\r\n",
      "warning: Sparse_Matrix_Tree_CSR.pyx:132:66: Non-trivial type declarators in shared declaration (e.g. mix of pointers and values). Each pointer declaration should be on its own line.\r\n",
      "warning: Sparse_Matrix_Tree_CSR.pyx:343:35: Non-trivial type declarators in shared declaration (e.g. mix of pointers and values). Each pointer declaration should be on its own line.\r\n",
      "warning: Sparse_Matrix_Tree_CSR.pyx:343:52: Non-trivial type declarators in shared declaration (e.g. mix of pointers and values). Each pointer declaration should be on its own line.\r\n",
      "warning: Sparse_Matrix_Tree_CSR.pyx:442:35: Non-trivial type declarators in shared declaration (e.g. mix of pointers and values). Each pointer declaration should be on its own line.\r\n",
      "warning: Sparse_Matrix_Tree_CSR.pyx:442:53: Non-trivial type declarators in shared declaration (e.g. mix of pointers and values). Each pointer declaration should be on its own line.\r\n",
      "warning: Sparse_Matrix_Tree_CSR.pyx:442:69: Non-trivial type declarators in shared declaration (e.g. mix of pointers and values). Each pointer declaration should be on its own line.\r\n",
      "warning: Sparse_Matrix_Tree_CSR.pyx:577:35: Non-trivial type declarators in shared declaration (e.g. mix of pointers and values). Each pointer declaration should be on its own line.\r\n",
      "warning: Sparse_Matrix_Tree_CSR.pyx:577:42: Non-trivial type declarators in shared declaration (e.g. mix of pointers and values). Each pointer declaration should be on its own line.\r\n",
      "warning: Sparse_Matrix_Tree_CSR.pyx:578:35: Non-trivial type declarators in shared declaration (e.g. mix of pointers and values). Each pointer declaration should be on its own line.\r\n",
      "warning: Sparse_Matrix_Tree_CSR.pyx:578:53: Non-trivial type declarators in shared declaration (e.g. mix of pointers and values). Each pointer declaration should be on its own line.\r\n",
      "\r\n",
      "Error compiling Cython file:\r\n",
      "------------------------------------------------------------\r\n",
      "...\r\n",
      "            vector_pointer_to_list_elements[index].head = current_element\r\n",
      "            current_element = current_element.higher\r\n",
      "\r\n",
      "\r\n",
      "        # Sort array elements on their data field\r\n",
      "        qsort(vector_pointer_to_list_elements, list_length, sizeof(head_pointer_tree_s), compare_struct_on_data)\r\n",
      "                                                                                         ^\r\n",
      "------------------------------------------------------------\r\n",
      "\r\n",
      "Sparse_Matrix_Tree_CSR.pyx:516:89: Cannot assign type 'int (const void *, const void *) except? -1' to 'int (*)(const_void *, const_void *) noexcept'. Exception values are incompatible. Suggest adding 'noexcept' to the type of 'compare_struct_on_data'.\r\n",
      "\r\n",
      "Error compiling Cython file:\r\n",
      "------------------------------------------------------------\r\n",
      "...\r\n",
      "        # Sort array elements on their data field\r\n",
      "        qsort(vector_pointer_to_list_elements, list_length, sizeof(head_pointer_tree_s), compare_struct_on_data)\r\n",
      "\r\n",
      "        # Sort only the TopK according to their column field\r\n",
      "        # Sort is from lower to higher, therefore the elements to be considered are from len-topK to len\r\n",
      "        qsort(&vector_pointer_to_list_elements[list_length-TopK], TopK, sizeof(head_pointer_tree_s), compare_struct_on_column)\r\n",
      "                                                                                                     ^\r\n",
      "------------------------------------------------------------\r\n",
      "\r\n",
      "Sparse_Matrix_Tree_CSR.pyx:520:101: Cannot assign type 'int (const void *, const void *) except? -1' to 'int (*)(const_void *, const_void *) noexcept'. Exception values are incompatible. Suggest adding 'noexcept' to the type of 'compare_struct_on_column'.\r\n",
      "Traceback (most recent call last):\r\n",
      "  File \"/kaggle/working/RECsys_Challenge2024/CythonCompiler/compile_script.py\", line 48, in <module>\r\n",
      "    setup(\r\n",
      "  File \"/usr/local/lib/python3.10/dist-packages/setuptools/__init__.py\", line 108, in setup\r\n",
      "    return distutils.core.setup(**attrs)\r\n",
      "  File \"/usr/local/lib/python3.10/dist-packages/setuptools/_distutils/core.py\", line 184, in setup\r\n",
      "    return run_commands(dist)\r\n",
      "  File \"/usr/local/lib/python3.10/dist-packages/setuptools/_distutils/core.py\", line 200, in run_commands\r\n",
      "    dist.run_commands()\r\n",
      "  File \"/usr/local/lib/python3.10/dist-packages/setuptools/_distutils/dist.py\", line 970, in run_commands\r\n",
      "    self.run_command(cmd)\r\n",
      "  File \"/usr/local/lib/python3.10/dist-packages/setuptools/dist.py\", line 956, in run_command\r\n",
      "    super().run_command(command)\r\n",
      "  File \"/usr/local/lib/python3.10/dist-packages/setuptools/_distutils/dist.py\", line 989, in run_command\r\n",
      "    cmd_obj.run()\r\n",
      "  File \"/usr/local/lib/python3.10/dist-packages/setuptools/_distutils/command/build_ext.py\", line 359, in run\r\n",
      "    self.build_extensions()\r\n",
      "  File \"/usr/local/lib/python3.10/dist-packages/setuptools/_distutils/command/build_ext.py\", line 479, in build_extensions\r\n",
      "    self._build_extensions_serial()\r\n",
      "  File \"/usr/local/lib/python3.10/dist-packages/setuptools/_distutils/command/build_ext.py\", line 505, in _build_extensions_serial\r\n",
      "    self.build_extension(ext)\r\n",
      "  File \"/usr/local/lib/python3.10/dist-packages/Cython/Distutils/build_ext.py\", line 130, in build_extension\r\n",
      "    new_ext = cythonize(\r\n",
      "  File \"/usr/local/lib/python3.10/dist-packages/Cython/Build/Dependencies.py\", line 1154, in cythonize\r\n",
      "    cythonize_one(*args)\r\n",
      "  File \"/usr/local/lib/python3.10/dist-packages/Cython/Build/Dependencies.py\", line 1321, in cythonize_one\r\n",
      "    raise CompileError(None, pyx_file)\r\n",
      "Cython.Compiler.Errors.CompileError: Sparse_Matrix_Tree_CSR.pyx\r\n",
      "Traceback (most recent call last):\r\n",
      "  File \"/kaggle/working/RECsys_Challenge2024/run_compile_all_cython.py\", line 60, in <module>\r\n",
      "    run_compile_subprocess(file_path, [file_name])\r\n",
      "  File \"/kaggle/working/RECsys_Challenge2024/CythonCompiler/run_compile_subprocess.py\", line 51, in run_compile_subprocess\r\n",
      "    raise exc\r\n",
      "  File \"/kaggle/working/RECsys_Challenge2024/CythonCompiler/run_compile_subprocess.py\", line 32, in run_compile_subprocess\r\n",
      "    output = subprocess.check_output(' '.join(command),\r\n",
      "  File \"/usr/lib/python3.10/subprocess.py\", line 421, in check_output\r\n",
      "    return run(*popenargs, stdout=PIPE, timeout=timeout, check=True,\r\n",
      "  File \"/usr/lib/python3.10/subprocess.py\", line 526, in run\r\n",
      "    raise CalledProcessError(retcode, process.args,\r\n",
      "subprocess.CalledProcessError: Command '/usr/bin/python3 /kaggle/working/RECsys_Challenge2024/CythonCompiler/compile_script.py Sparse_Matrix_Tree_CSR.pyx build_ext --inplace' returned non-zero exit status 1.\r\n",
      "Compiling [4/11]: Sparse_Matrix_Tree_CSR.pyx... FAIL: Command '/usr/bin/python3 /kaggle/working/RECsys_Challenge2024/CythonCompiler/compile_script.py Sparse_Matrix_Tree_CSR.pyx build_ext --inplace' returned non-zero exit status 1.\r\n",
      "\r\n",
      "Compiling [5/11]: Triangular_Matrix.pyx... \r\n",
      "warning: Triangular_Matrix.pyx:22:0: The 'IF' statement is deprecated and will be removed in a future Cython version. Consider using runtime conditions or C macros instead. See https://github.com/cython/cython/issues/4310\r\n",
      "In file included from \u001b[01m\u001b[K/usr/local/lib/python3.10/dist-packages/numpy/core/include/numpy/ndarraytypes.h:1929\u001b[m\u001b[K,\r\n",
      "                 from \u001b[01m\u001b[K/usr/local/lib/python3.10/dist-packages/numpy/core/include/numpy/ndarrayobject.h:12\u001b[m\u001b[K,\r\n",
      "                 from \u001b[01m\u001b[K/usr/local/lib/python3.10/dist-packages/numpy/core/include/numpy/arrayobject.h:5\u001b[m\u001b[K,\r\n",
      "                 from \u001b[01m\u001b[KTriangular_Matrix.c:1252\u001b[m\u001b[K:\r\n",
      "\u001b[01m\u001b[K/usr/local/lib/python3.10/dist-packages/numpy/core/include/numpy/npy_1_7_deprecated_api.h:17:2:\u001b[m\u001b[K \u001b[01;35m\u001b[Kwarning: \u001b[m\u001b[K#warning \"Using deprecated NumPy API, disable it with \" \"#define NPY_NO_DEPRECATED_API NPY_1_7_API_VERSION\" [\u001b[01;35m\u001b[K\u001b]8;;https://gcc.gnu.org/onlinedocs/gcc/Warning-Options.html#index-Wcpp\u0007-Wcpp\u001b]8;;\u0007\u001b[m\u001b[K]\r\n",
      "   17 | #\u001b[01;35m\u001b[Kwarning\u001b[m\u001b[K \"Using deprecated NumPy API, disable it with \" \\\r\n",
      "      |  \u001b[01;35m\u001b[K^~~~~~~\u001b[m\u001b[K\r\n",
      "In function ‘\u001b[01m\u001b[K__pyx_pf_17Triangular_Matrix_17Triangular_Matrix___init__\u001b[m\u001b[K’,\r\n",
      "    inlined from ‘\u001b[01m\u001b[K__pyx_pw_17Triangular_Matrix_17Triangular_Matrix_1__init__\u001b[m\u001b[K’ at \u001b[01m\u001b[KTriangular_Matrix.c:5541:13\u001b[m\u001b[K:\r\n",
      "\u001b[01m\u001b[KTriangular_Matrix.c:5599:43:\u001b[m\u001b[K \u001b[01;35m\u001b[Kwarning: \u001b[m\u001b[Kargument 1 value ‘\u001b[01m\u001b[K18446744073709551608\u001b[m\u001b[K’ exceeds maximum object size 9223372036854775807 [\u001b[01;35m\u001b[K\u001b]8;;https://gcc.gnu.org/onlinedocs/gcc/Warning-Options.html#index-Walloc-size-larger-than=\u0007-Walloc-size-larger-than=\u001b]8;;\u0007\u001b[m\u001b[K]\r\n",
      " 5599 |   __pyx_v_self->row_pointer = ((double **)\u001b[01;35m\u001b[Kmalloc((__pyx_v_self->num_rows * (sizeof(double *))))\u001b[m\u001b[K);\r\n",
      "      |                                           \u001b[01;35m\u001b[K^~~~~~~~~~~~~~~~~~~~~~~~~~~~~~~~~~~~~~~~~~~~~~~~~~~~~\u001b[m\u001b[K\r\n",
      "In file included from \u001b[01m\u001b[K/usr/include/python3.10/Python.h:34\u001b[m\u001b[K,\r\n",
      "                 from \u001b[01m\u001b[KTriangular_Matrix.c:41\u001b[m\u001b[K:\r\n",
      "\u001b[01m\u001b[KTriangular_Matrix.c:\u001b[m\u001b[K In function ‘\u001b[01m\u001b[K__pyx_pw_17Triangular_Matrix_17Triangular_Matrix_1__init__\u001b[m\u001b[K’:\r\n",
      "\u001b[01m\u001b[K/usr/include/stdlib.h:540:14:\u001b[m\u001b[K \u001b[01;36m\u001b[Knote: \u001b[m\u001b[Kin a call to allocation function ‘\u001b[01m\u001b[Kmalloc\u001b[m\u001b[K’ declared here\r\n",
      "  540 | extern void *\u001b[01;36m\u001b[Kmalloc\u001b[m\u001b[K (size_t __size) __THROW __attribute_malloc__\r\n",
      "      |              \u001b[01;36m\u001b[K^~~~~~\u001b[m\u001b[K\r\n",
      "/usr/local/lib/python3.10/dist-packages/Cython/Compiler/Main.py:381: FutureWarning: Cython directive 'language_level' not set, using '3str' for now (Py3). This has changed from earlier releases! File: /kaggle/working/RECsys_Challenge2024/Recommenders/SLIM/Cython/Triangular_Matrix.pyx\r\n",
      "  tree = Parsing.p_module(s, pxd, full_module_name)\r\n",
      "warning: Triangular_Matrix.pyx:22:0: The 'IF' statement is deprecated and will be removed in a future Cython version. Consider using runtime conditions or C macros instead. See https://github.com/cython/cython/issues/4310\r\n",
      "Compiling [5/11]: Triangular_Matrix.pyx... PASS\r\n",
      "\r\n",
      "Compiling [6/11]: SLIM_BPR_Cython_Epoch.pyx... \r\n",
      "warning: SLIM_BPR_Cython_Epoch.pyx:24:0: The 'IF' statement is deprecated and will be removed in a future Cython version. Consider using runtime conditions or C macros instead. See https://github.com/cython/cython/issues/4310\r\n",
      "warning: SLIM_BPR_Cython_Epoch.pyx:632:34: Non-trivial type declarators in shared declaration (e.g. mix of pointers and values). Each pointer declaration should be on its own line.\r\n",
      "warning: SLIM_BPR_Cython_Epoch.pyx:632:66: Non-trivial type declarators in shared declaration (e.g. mix of pointers and values). Each pointer declaration should be on its own line.\r\n",
      "warning: SLIM_BPR_Cython_Epoch.pyx:817:35: Non-trivial type declarators in shared declaration (e.g. mix of pointers and values). Each pointer declaration should be on its own line.\r\n",
      "warning: SLIM_BPR_Cython_Epoch.pyx:817:52: Non-trivial type declarators in shared declaration (e.g. mix of pointers and values). Each pointer declaration should be on its own line.\r\n",
      "warning: SLIM_BPR_Cython_Epoch.pyx:916:35: Non-trivial type declarators in shared declaration (e.g. mix of pointers and values). Each pointer declaration should be on its own line.\r\n",
      "warning: SLIM_BPR_Cython_Epoch.pyx:916:53: Non-trivial type declarators in shared declaration (e.g. mix of pointers and values). Each pointer declaration should be on its own line.\r\n",
      "warning: SLIM_BPR_Cython_Epoch.pyx:916:69: Non-trivial type declarators in shared declaration (e.g. mix of pointers and values). Each pointer declaration should be on its own line.\r\n",
      "warning: SLIM_BPR_Cython_Epoch.pyx:1051:35: Non-trivial type declarators in shared declaration (e.g. mix of pointers and values). Each pointer declaration should be on its own line.\r\n",
      "warning: SLIM_BPR_Cython_Epoch.pyx:1051:42: Non-trivial type declarators in shared declaration (e.g. mix of pointers and values). Each pointer declaration should be on its own line.\r\n",
      "warning: SLIM_BPR_Cython_Epoch.pyx:1052:35: Non-trivial type declarators in shared declaration (e.g. mix of pointers and values). Each pointer declaration should be on its own line.\r\n",
      "warning: SLIM_BPR_Cython_Epoch.pyx:1052:53: Non-trivial type declarators in shared declaration (e.g. mix of pointers and values). Each pointer declaration should be on its own line.\r\n",
      "\r\n",
      "Error compiling Cython file:\r\n",
      "------------------------------------------------------------\r\n",
      "...\r\n",
      "            vector_pointer_to_list_elements[index].head = current_element\r\n",
      "            current_element = current_element.higher\r\n",
      "\r\n",
      "\r\n",
      "        # Sort array elements on their data field\r\n",
      "        qsort(vector_pointer_to_list_elements, list_length, sizeof(head_pointer_tree_s), compare_struct_on_data)\r\n",
      "                                                                                         ^\r\n",
      "------------------------------------------------------------\r\n",
      "\r\n",
      "SLIM_BPR_Cython_Epoch.pyx:990:89: Cannot assign type 'int (const void *, const void *) except? -1' to 'int (*)(const_void *, const_void *) noexcept'. Exception values are incompatible. Suggest adding 'noexcept' to the type of 'compare_struct_on_data'.\r\n",
      "\r\n",
      "Error compiling Cython file:\r\n",
      "------------------------------------------------------------\r\n",
      "...\r\n",
      "        # Sort array elements on their data field\r\n",
      "        qsort(vector_pointer_to_list_elements, list_length, sizeof(head_pointer_tree_s), compare_struct_on_data)\r\n",
      "\r\n",
      "        # Sort only the TopK according to their column field\r\n",
      "        # Sort is from lower to higher, therefore the elements to be considered are from len-topK to len\r\n",
      "        qsort(&vector_pointer_to_list_elements[list_length-TopK], TopK, sizeof(head_pointer_tree_s), compare_struct_on_column)\r\n",
      "                                                                                                     ^\r\n",
      "------------------------------------------------------------\r\n",
      "\r\n",
      "SLIM_BPR_Cython_Epoch.pyx:994:101: Cannot assign type 'int (const void *, const void *) except? -1' to 'int (*)(const_void *, const_void *) noexcept'. Exception values are incompatible. Suggest adding 'noexcept' to the type of 'compare_struct_on_column'.\r\n",
      "Traceback (most recent call last):\r\n",
      "  File \"/kaggle/working/RECsys_Challenge2024/CythonCompiler/compile_script.py\", line 48, in <module>\r\n",
      "    setup(\r\n",
      "  File \"/usr/local/lib/python3.10/dist-packages/setuptools/__init__.py\", line 108, in setup\r\n",
      "    return distutils.core.setup(**attrs)\r\n",
      "  File \"/usr/local/lib/python3.10/dist-packages/setuptools/_distutils/core.py\", line 184, in setup\r\n",
      "    return run_commands(dist)\r\n",
      "  File \"/usr/local/lib/python3.10/dist-packages/setuptools/_distutils/core.py\", line 200, in run_commands\r\n",
      "    dist.run_commands()\r\n",
      "  File \"/usr/local/lib/python3.10/dist-packages/setuptools/_distutils/dist.py\", line 970, in run_commands\r\n",
      "    self.run_command(cmd)\r\n",
      "  File \"/usr/local/lib/python3.10/dist-packages/setuptools/dist.py\", line 956, in run_command\r\n",
      "    super().run_command(command)\r\n",
      "  File \"/usr/local/lib/python3.10/dist-packages/setuptools/_distutils/dist.py\", line 989, in run_command\r\n",
      "    cmd_obj.run()\r\n",
      "  File \"/usr/local/lib/python3.10/dist-packages/setuptools/_distutils/command/build_ext.py\", line 359, in run\r\n",
      "    self.build_extensions()\r\n",
      "  File \"/usr/local/lib/python3.10/dist-packages/setuptools/_distutils/command/build_ext.py\", line 479, in build_extensions\r\n",
      "    self._build_extensions_serial()\r\n",
      "  File \"/usr/local/lib/python3.10/dist-packages/setuptools/_distutils/command/build_ext.py\", line 505, in _build_extensions_serial\r\n",
      "    self.build_extension(ext)\r\n",
      "  File \"/usr/local/lib/python3.10/dist-packages/Cython/Distutils/build_ext.py\", line 130, in build_extension\r\n",
      "    new_ext = cythonize(\r\n",
      "  File \"/usr/local/lib/python3.10/dist-packages/Cython/Build/Dependencies.py\", line 1154, in cythonize\r\n",
      "    cythonize_one(*args)\r\n",
      "  File \"/usr/local/lib/python3.10/dist-packages/Cython/Build/Dependencies.py\", line 1321, in cythonize_one\r\n",
      "    raise CompileError(None, pyx_file)\r\n",
      "Cython.Compiler.Errors.CompileError: SLIM_BPR_Cython_Epoch.pyx\r\n",
      "Traceback (most recent call last):\r\n",
      "  File \"/kaggle/working/RECsys_Challenge2024/run_compile_all_cython.py\", line 60, in <module>\r\n",
      "    run_compile_subprocess(file_path, [file_name])\r\n",
      "  File \"/kaggle/working/RECsys_Challenge2024/CythonCompiler/run_compile_subprocess.py\", line 51, in run_compile_subprocess\r\n",
      "    raise exc\r\n",
      "  File \"/kaggle/working/RECsys_Challenge2024/CythonCompiler/run_compile_subprocess.py\", line 32, in run_compile_subprocess\r\n",
      "    output = subprocess.check_output(' '.join(command),\r\n",
      "  File \"/usr/lib/python3.10/subprocess.py\", line 421, in check_output\r\n",
      "    return run(*popenargs, stdout=PIPE, timeout=timeout, check=True,\r\n",
      "  File \"/usr/lib/python3.10/subprocess.py\", line 526, in run\r\n",
      "    raise CalledProcessError(retcode, process.args,\r\n",
      "subprocess.CalledProcessError: Command '/usr/bin/python3 /kaggle/working/RECsys_Challenge2024/CythonCompiler/compile_script.py SLIM_BPR_Cython_Epoch.pyx build_ext --inplace' returned non-zero exit status 1.\r\n",
      "Compiling [6/11]: SLIM_BPR_Cython_Epoch.pyx... FAIL: Command '/usr/bin/python3 /kaggle/working/RECsys_Challenge2024/CythonCompiler/compile_script.py SLIM_BPR_Cython_Epoch.pyx build_ext --inplace' returned non-zero exit status 1.\r\n",
      "\r\n",
      "Compiling [7/11]: CFW_DVV_Similarity_Cython_SGD.pyx... \r\n",
      "In file included from \u001b[01m\u001b[K/usr/local/lib/python3.10/dist-packages/numpy/core/include/numpy/ndarraytypes.h:1929\u001b[m\u001b[K,\r\n",
      "                 from \u001b[01m\u001b[K/usr/local/lib/python3.10/dist-packages/numpy/core/include/numpy/ndarrayobject.h:12\u001b[m\u001b[K,\r\n",
      "                 from \u001b[01m\u001b[K/usr/local/lib/python3.10/dist-packages/numpy/core/include/numpy/arrayobject.h:5\u001b[m\u001b[K,\r\n",
      "                 from \u001b[01m\u001b[KCFW_DVV_Similarity_Cython_SGD.c:1252\u001b[m\u001b[K:\r\n",
      "\u001b[01m\u001b[K/usr/local/lib/python3.10/dist-packages/numpy/core/include/numpy/npy_1_7_deprecated_api.h:17:2:\u001b[m\u001b[K \u001b[01;35m\u001b[Kwarning: \u001b[m\u001b[K#warning \"Using deprecated NumPy API, disable it with \" \"#define NPY_NO_DEPRECATED_API NPY_1_7_API_VERSION\" [\u001b[01;35m\u001b[K\u001b]8;;https://gcc.gnu.org/onlinedocs/gcc/Warning-Options.html#index-Wcpp\u0007-Wcpp\u001b]8;;\u0007\u001b[m\u001b[K]\r\n",
      "   17 | #\u001b[01;35m\u001b[Kwarning\u001b[m\u001b[K \"Using deprecated NumPy API, disable it with \" \\\r\n",
      "      |  \u001b[01;35m\u001b[K^~~~~~~\u001b[m\u001b[K\r\n",
      "/usr/local/lib/python3.10/dist-packages/Cython/Compiler/Main.py:381: FutureWarning: Cython directive 'language_level' not set, using '3str' for now (Py3). This has changed from earlier releases! File: /kaggle/working/RECsys_Challenge2024/Recommenders/FeatureWeighting/Cython/CFW_DVV_Similarity_Cython_SGD.pyx\r\n",
      "  tree = Parsing.p_module(s, pxd, full_module_name)\r\n",
      "Compiling [7/11]: CFW_DVV_Similarity_Cython_SGD.pyx... PASS\r\n",
      "\r\n",
      "Compiling [8/11]: FBSM_Rating_Cython_SGD.pyx... \r\n",
      "In file included from \u001b[01m\u001b[K/usr/local/lib/python3.10/dist-packages/numpy/core/include/numpy/ndarraytypes.h:1929\u001b[m\u001b[K,\r\n",
      "                 from \u001b[01m\u001b[K/usr/local/lib/python3.10/dist-packages/numpy/core/include/numpy/ndarrayobject.h:12\u001b[m\u001b[K,\r\n",
      "                 from \u001b[01m\u001b[K/usr/local/lib/python3.10/dist-packages/numpy/core/include/numpy/arrayobject.h:5\u001b[m\u001b[K,\r\n",
      "                 from \u001b[01m\u001b[KFBSM_Rating_Cython_SGD.c:1252\u001b[m\u001b[K:\r\n",
      "\u001b[01m\u001b[K/usr/local/lib/python3.10/dist-packages/numpy/core/include/numpy/npy_1_7_deprecated_api.h:17:2:\u001b[m\u001b[K \u001b[01;35m\u001b[Kwarning: \u001b[m\u001b[K#warning \"Using deprecated NumPy API, disable it with \" \"#define NPY_NO_DEPRECATED_API NPY_1_7_API_VERSION\" [\u001b[01;35m\u001b[K\u001b]8;;https://gcc.gnu.org/onlinedocs/gcc/Warning-Options.html#index-Wcpp\u0007-Wcpp\u001b]8;;\u0007\u001b[m\u001b[K]\r\n",
      "   17 | #\u001b[01;35m\u001b[Kwarning\u001b[m\u001b[K \"Using deprecated NumPy API, disable it with \" \\\r\n",
      "      |  \u001b[01;35m\u001b[K^~~~~~~\u001b[m\u001b[K\r\n",
      "\u001b[01m\u001b[KFBSM_Rating_Cython_SGD.c:\u001b[m\u001b[K In function ‘\u001b[01m\u001b[K__pyx_pf_22FBSM_Rating_Cython_SGD_22FBSM_Rating_Cython_SGD_2fit\u001b[m\u001b[K’:\r\n",
      "\u001b[01m\u001b[KFBSM_Rating_Cython_SGD.c:26607:55:\u001b[m\u001b[K \u001b[01;35m\u001b[Kwarning: \u001b[m\u001b[K‘\u001b[01m\u001b[K__pyx_v_num_sample\u001b[m\u001b[K’ may be used uninitialized in this function [\u001b[01;35m\u001b[K\u001b]8;;https://gcc.gnu.org/onlinedocs/gcc/Warning-Options.html#index-Wmaybe-uninitialized\u0007-Wmaybe-uninitialized\u001b]8;;\u0007\u001b[m\u001b[K]\r\n",
      "26607 |   __pyx_t_5 = PyFloat_FromDouble((__pyx_v_cum_loss / \u001b[01;35m\u001b[K((double)__pyx_v_num_sample)\u001b[m\u001b[K)); if (unlikely(!__pyx_t_5)) __PYX_ERR(0, 551, __pyx_L1_error)\r\n",
      "      |                                                      \u001b[01;35m\u001b[K~^~~~~~~~~~~~~~~~~~~~~~~~~~~\u001b[m\u001b[K\r\n",
      "/usr/local/lib/python3.10/dist-packages/Cython/Compiler/Main.py:381: FutureWarning: Cython directive 'language_level' not set, using '3str' for now (Py3). This has changed from earlier releases! File: /kaggle/working/RECsys_Challenge2024/Recommenders/FeatureWeighting/Cython/FBSM_Rating_Cython_SGD.pyx\r\n",
      "  tree = Parsing.p_module(s, pxd, full_module_name)\r\n",
      "Compiling [8/11]: FBSM_Rating_Cython_SGD.pyx... PASS\r\n",
      "\r\n",
      "Compiling [9/11]: CFW_D_Similarity_Cython_SGD.pyx... \r\n",
      "In file included from \u001b[01m\u001b[K/usr/local/lib/python3.10/dist-packages/numpy/core/include/numpy/ndarraytypes.h:1929\u001b[m\u001b[K,\r\n",
      "                 from \u001b[01m\u001b[K/usr/local/lib/python3.10/dist-packages/numpy/core/include/numpy/ndarrayobject.h:12\u001b[m\u001b[K,\r\n",
      "                 from \u001b[01m\u001b[K/usr/local/lib/python3.10/dist-packages/numpy/core/include/numpy/arrayobject.h:5\u001b[m\u001b[K,\r\n",
      "                 from \u001b[01m\u001b[KCFW_D_Similarity_Cython_SGD.c:1252\u001b[m\u001b[K:\r\n",
      "\u001b[01m\u001b[K/usr/local/lib/python3.10/dist-packages/numpy/core/include/numpy/npy_1_7_deprecated_api.h:17:2:\u001b[m\u001b[K \u001b[01;35m\u001b[Kwarning: \u001b[m\u001b[K#warning \"Using deprecated NumPy API, disable it with \" \"#define NPY_NO_DEPRECATED_API NPY_1_7_API_VERSION\" [\u001b[01;35m\u001b[K\u001b]8;;https://gcc.gnu.org/onlinedocs/gcc/Warning-Options.html#index-Wcpp\u0007-Wcpp\u001b]8;;\u0007\u001b[m\u001b[K]\r\n",
      "   17 | #\u001b[01;35m\u001b[Kwarning\u001b[m\u001b[K \"Using deprecated NumPy API, disable it with \" \\\r\n",
      "      |  \u001b[01;35m\u001b[K^~~~~~~\u001b[m\u001b[K\r\n",
      "\u001b[01m\u001b[KCFW_D_Similarity_Cython_SGD.c:\u001b[m\u001b[K In function ‘\u001b[01m\u001b[K__pyx_pf_27CFW_D_Similarity_Cython_SGD_27CFW_D_Similarity_Cython_SGD_6fit\u001b[m\u001b[K’:\r\n",
      "\u001b[01m\u001b[KCFW_D_Similarity_Cython_SGD.c:23373:55:\u001b[m\u001b[K \u001b[01;35m\u001b[Kwarning: \u001b[m\u001b[K‘\u001b[01m\u001b[K__pyx_v_sample_num\u001b[m\u001b[K’ may be used uninitialized in this function [\u001b[01;35m\u001b[K\u001b]8;;https://gcc.gnu.org/onlinedocs/gcc/Warning-Options.html#index-Wmaybe-uninitialized\u0007-Wmaybe-uninitialized\u001b]8;;\u0007\u001b[m\u001b[K]\r\n",
      "23373 |   __pyx_t_3 = PyFloat_FromDouble((__pyx_v_cum_loss / \u001b[01;35m\u001b[K((double)__pyx_v_sample_num)\u001b[m\u001b[K)); if (unlikely(!__pyx_t_3)) __PYX_ERR(0, 290, __pyx_L1_error)\r\n",
      "      |                                                      \u001b[01;35m\u001b[K~^~~~~~~~~~~~~~~~~~~~~~~~~~~\u001b[m\u001b[K\r\n",
      "/usr/local/lib/python3.10/dist-packages/Cython/Compiler/Main.py:381: FutureWarning: Cython directive 'language_level' not set, using '3str' for now (Py3). This has changed from earlier releases! File: /kaggle/working/RECsys_Challenge2024/Recommenders/FeatureWeighting/Cython/CFW_D_Similarity_Cython_SGD.pyx\r\n",
      "  tree = Parsing.p_module(s, pxd, full_module_name)\r\n",
      "Compiling [9/11]: CFW_D_Similarity_Cython_SGD.pyx... PASS\r\n",
      "\r\n",
      "Compiling [10/11]: HP3_Similarity_Cython_SGD.pyx... \r\n",
      "performance hint: HP3_Similarity_Cython_SGD.pyx:113:40: Index should be typed for more efficient access\r\n",
      "performance hint: HP3_Similarity_Cython_SGD.pyx:114:40: Index should be typed for more efficient access\r\n",
      "In file included from \u001b[01m\u001b[K/usr/local/lib/python3.10/dist-packages/numpy/core/include/numpy/ndarraytypes.h:1929\u001b[m\u001b[K,\r\n",
      "                 from \u001b[01m\u001b[K/usr/local/lib/python3.10/dist-packages/numpy/core/include/numpy/ndarrayobject.h:12\u001b[m\u001b[K,\r\n",
      "                 from \u001b[01m\u001b[K/usr/local/lib/python3.10/dist-packages/numpy/core/include/numpy/arrayobject.h:5\u001b[m\u001b[K,\r\n",
      "                 from \u001b[01m\u001b[KHP3_Similarity_Cython_SGD.c:1252\u001b[m\u001b[K:\r\n",
      "\u001b[01m\u001b[K/usr/local/lib/python3.10/dist-packages/numpy/core/include/numpy/npy_1_7_deprecated_api.h:17:2:\u001b[m\u001b[K \u001b[01;35m\u001b[Kwarning: \u001b[m\u001b[K#warning \"Using deprecated NumPy API, disable it with \" \"#define NPY_NO_DEPRECATED_API NPY_1_7_API_VERSION\" [\u001b[01;35m\u001b[K\u001b]8;;https://gcc.gnu.org/onlinedocs/gcc/Warning-Options.html#index-Wcpp\u0007-Wcpp\u001b]8;;\u0007\u001b[m\u001b[K]\r\n",
      "   17 | #\u001b[01;35m\u001b[Kwarning\u001b[m\u001b[K \"Using deprecated NumPy API, disable it with \" \\\r\n",
      "      |  \u001b[01;35m\u001b[K^~~~~~~\u001b[m\u001b[K\r\n",
      "\u001b[01m\u001b[KHP3_Similarity_Cython_SGD.c:\u001b[m\u001b[K In function ‘\u001b[01m\u001b[K__pyx_pf_25HP3_Similarity_Cython_SGD_25HP3_Similarity_Cython_SGD_4fit\u001b[m\u001b[K’:\r\n",
      "\u001b[01m\u001b[KHP3_Similarity_Cython_SGD.c:23631:55:\u001b[m\u001b[K \u001b[01;35m\u001b[Kwarning: \u001b[m\u001b[K‘\u001b[01m\u001b[K__pyx_v_sample_num\u001b[m\u001b[K’ may be used uninitialized in this function [\u001b[01;35m\u001b[K\u001b]8;;https://gcc.gnu.org/onlinedocs/gcc/Warning-Options.html#index-Wmaybe-uninitialized\u0007-Wmaybe-uninitialized\u001b]8;;\u0007\u001b[m\u001b[K]\r\n",
      "23631 |   __pyx_t_1 = PyFloat_FromDouble((__pyx_v_cum_loss / \u001b[01;35m\u001b[K((double)__pyx_v_sample_num)\u001b[m\u001b[K)); if (unlikely(!__pyx_t_1)) __PYX_ERR(0, 291, __pyx_L1_error)\r\n",
      "      |                                                      \u001b[01;35m\u001b[K~^~~~~~~~~~~~~~~~~~~~~~~~~~~\u001b[m\u001b[K\r\n",
      "/usr/local/lib/python3.10/dist-packages/Cython/Compiler/Main.py:381: FutureWarning: Cython directive 'language_level' not set, using '3str' for now (Py3). This has changed from earlier releases! File: /kaggle/working/RECsys_Challenge2024/Recommenders/FeatureWeighting/Cython/HP3_Similarity_Cython_SGD.pyx\r\n",
      "  tree = Parsing.p_module(s, pxd, full_module_name)\r\n",
      "performance hint: HP3_Similarity_Cython_SGD.pyx:113:40: Index should be typed for more efficient access\r\n",
      "performance hint: HP3_Similarity_Cython_SGD.pyx:114:40: Index should be typed for more efficient access\r\n",
      "Compiling [10/11]: HP3_Similarity_Cython_SGD.pyx... PASS\r\n",
      "\r\n",
      "Compiling [11/11]: DataIterator.pyx... \r\n",
      "In file included from \u001b[01m\u001b[K/usr/local/lib/python3.10/dist-packages/numpy/core/include/numpy/ndarraytypes.h:1929\u001b[m\u001b[K,\r\n",
      "                 from \u001b[01m\u001b[K/usr/local/lib/python3.10/dist-packages/numpy/core/include/numpy/ndarrayobject.h:12\u001b[m\u001b[K,\r\n",
      "                 from \u001b[01m\u001b[K/usr/local/lib/python3.10/dist-packages/numpy/core/include/numpy/arrayobject.h:5\u001b[m\u001b[K,\r\n",
      "                 from \u001b[01m\u001b[KDataIterator.c:1252\u001b[m\u001b[K:\r\n",
      "\u001b[01m\u001b[K/usr/local/lib/python3.10/dist-packages/numpy/core/include/numpy/npy_1_7_deprecated_api.h:17:2:\u001b[m\u001b[K \u001b[01;35m\u001b[Kwarning: \u001b[m\u001b[K#warning \"Using deprecated NumPy API, disable it with \" \"#define NPY_NO_DEPRECATED_API NPY_1_7_API_VERSION\" [\u001b[01;35m\u001b[K\u001b]8;;https://gcc.gnu.org/onlinedocs/gcc/Warning-Options.html#index-Wcpp\u0007-Wcpp\u001b]8;;\u0007\u001b[m\u001b[K]\r\n",
      "   17 | #\u001b[01;35m\u001b[Kwarning\u001b[m\u001b[K \"Using deprecated NumPy API, disable it with \" \\\r\n",
      "      |  \u001b[01;35m\u001b[K^~~~~~~\u001b[m\u001b[K\r\n",
      "\u001b[01m\u001b[KDataIterator.c:\u001b[m\u001b[K In function ‘\u001b[01m\u001b[K__pyx_pf_12DataIterator_19InteractionIterator_6__next__\u001b[m\u001b[K’:\r\n",
      "\u001b[01m\u001b[KDataIterator.c:20937:22:\u001b[m\u001b[K \u001b[01;35m\u001b[Kwarning: \u001b[m\u001b[K‘\u001b[01m\u001b[K__pyx_v_i_batch\u001b[m\u001b[K’ may be used uninitialized in this function [\u001b[01;35m\u001b[K\u001b]8;;https://gcc.gnu.org/onlinedocs/gcc/Warning-Options.html#index-Wmaybe-uninitialized\u0007-Wmaybe-uninitialized\u001b]8;;\u0007\u001b[m\u001b[K]\r\n",
      "20937 |     (__pyx_v_i_batch \u001b[01;35m\u001b[K+\u001b[m\u001b[K 1),\r\n",
      "      |                      \u001b[01;35m\u001b[K^\u001b[m\u001b[K\r\n",
      "\u001b[01m\u001b[KDataIterator.c:\u001b[m\u001b[K In function ‘\u001b[01m\u001b[K__pyx_pf_12DataIterator_30InteractionAndNegativeIterator_6__next__\u001b[m\u001b[K’:\r\n",
      "\u001b[01m\u001b[KDataIterator.c:25499:22:\u001b[m\u001b[K \u001b[01;35m\u001b[Kwarning: \u001b[m\u001b[K‘\u001b[01m\u001b[K__pyx_v_i_batch\u001b[m\u001b[K’ may be used uninitialized in this function [\u001b[01;35m\u001b[K\u001b]8;;https://gcc.gnu.org/onlinedocs/gcc/Warning-Options.html#index-Wmaybe-uninitialized\u0007-Wmaybe-uninitialized\u001b]8;;\u0007\u001b[m\u001b[K]\r\n",
      "25499 |     (__pyx_v_i_batch \u001b[01;35m\u001b[K+\u001b[m\u001b[K 1),\r\n",
      "      |                      \u001b[01;35m\u001b[K^\u001b[m\u001b[K\r\n",
      "\u001b[01m\u001b[KDataIterator.c:\u001b[m\u001b[K In function ‘\u001b[01m\u001b[K__pyx_pf_12DataIterator_11BPRIterator_6__next__\u001b[m\u001b[K’:\r\n",
      "\u001b[01m\u001b[KDataIterator.c:23056:22:\u001b[m\u001b[K \u001b[01;35m\u001b[Kwarning: \u001b[m\u001b[K‘\u001b[01m\u001b[K__pyx_v_i_batch\u001b[m\u001b[K’ may be used uninitialized in this function [\u001b[01;35m\u001b[K\u001b]8;;https://gcc.gnu.org/onlinedocs/gcc/Warning-Options.html#index-Wmaybe-uninitialized\u0007-Wmaybe-uninitialized\u001b]8;;\u0007\u001b[m\u001b[K]\r\n",
      "23056 |     (__pyx_v_i_batch \u001b[01;35m\u001b[K+\u001b[m\u001b[K 1),\r\n",
      "      |                      \u001b[01;35m\u001b[K^\u001b[m\u001b[K\r\n",
      "/usr/local/lib/python3.10/dist-packages/Cython/Compiler/Main.py:381: FutureWarning: Cython directive 'language_level' not set, using '3str' for now (Py3). This has changed from earlier releases! File: /kaggle/working/RECsys_Challenge2024/Utils/PyTorch/Cython/DataIterator.pyx\r\n",
      "  tree = Parsing.p_module(s, pxd, full_module_name)\r\n",
      "Compiling [11/11]: DataIterator.pyx... PASS\r\n",
      "\r\n",
      "run_compile_all_cython: Compilation finished. FAILS 2/11.\r\n",
      "Compilation log can be found here: './result_experiments/run_compile_all_cython.txt'\r\n"
     ]
    }
   ],
   "source": [
    "%cd /kaggle/working/RECsys_Challenge2024 \n",
    "! python run_compile_all_cython.py"
   ]
  },
  {
   "cell_type": "code",
   "execution_count": 5,
   "id": "eb84c2fd",
   "metadata": {
    "execution": {
     "iopub.execute_input": "2025-01-05T14:40:32.977754Z",
     "iopub.status.busy": "2025-01-05T14:40:32.977387Z",
     "iopub.status.idle": "2025-01-05T14:40:34.147092Z",
     "shell.execute_reply": "2025-01-05T14:40:34.146237Z"
    },
    "papermill": {
     "duration": 1.18452,
     "end_time": "2025-01-05T14:40:34.148651",
     "exception": false,
     "start_time": "2025-01-05T14:40:32.964131",
     "status": "completed"
    },
    "tags": []
   },
   "outputs": [],
   "source": [
    "from Utils.notebookFunctions import *\n",
    "import numpy as np\n",
    "import pandas as pd\n",
    "import scipy.sparse as sps\n",
    "import time\n",
    "import shutil\n",
    "import optuna\n",
    "import json\n",
    "import os\n",
    "from Utils.seconds_to_biggest_unit import seconds_to_biggest_unit\n",
    "\n",
    "\n",
    "K_PATH = '/kaggle/working/RECsys_Challenge2024'\n",
    "GH_PATH = 'TrainedModels/WithKFCV/MatrixFactorization/PureSVDRecommender'\n",
    "\n",
    "np.random.seed(42)"
   ]
  },
  {
   "cell_type": "markdown",
   "id": "1f385bb4",
   "metadata": {
    "papermill": {
     "duration": 0.012556,
     "end_time": "2025-01-05T14:40:34.173809",
     "exception": false,
     "start_time": "2025-01-05T14:40:34.161253",
     "status": "completed"
    },
    "tags": []
   },
   "source": [
    "## Import the repository **RECsys_Challenge2024**"
   ]
  },
  {
   "cell_type": "code",
   "execution_count": 6,
   "id": "dd04e352",
   "metadata": {
    "execution": {
     "iopub.execute_input": "2025-01-05T14:40:34.201812Z",
     "iopub.status.busy": "2025-01-05T14:40:34.201297Z",
     "iopub.status.idle": "2025-01-05T14:40:34.562090Z",
     "shell.execute_reply": "2025-01-05T14:40:34.560744Z"
    },
    "papermill": {
     "duration": 0.375428,
     "end_time": "2025-01-05T14:40:34.563595",
     "exception": false,
     "start_time": "2025-01-05T14:40:34.188167",
     "status": "completed"
    },
    "tags": []
   },
   "outputs": [
    {
     "name": "stdout",
     "output_type": "stream",
     "text": [
      "Repository 'RECsys_Challenge2024' found.\n"
     ]
    }
   ],
   "source": [
    "repo = get_repo_from_github(token)"
   ]
  },
  {
   "cell_type": "code",
   "execution_count": 7,
   "id": "4d9deeaa",
   "metadata": {
    "execution": {
     "iopub.execute_input": "2025-01-05T14:40:34.590176Z",
     "iopub.status.busy": "2025-01-05T14:40:34.589812Z",
     "iopub.status.idle": "2025-01-05T14:40:34.594269Z",
     "shell.execute_reply": "2025-01-05T14:40:34.593338Z"
    },
    "papermill": {
     "duration": 0.019273,
     "end_time": "2025-01-05T14:40:34.595796",
     "exception": false,
     "start_time": "2025-01-05T14:40:34.576523",
     "status": "completed"
    },
    "tags": []
   },
   "outputs": [],
   "source": [
    "config = {\n",
    "    'model': 'ScaledPureSVD',\n",
    "    'n_folds': 5,\n",
    "    'metric': 'MAP',\n",
    "    'tune_parameters': True,\n",
    "    'database_path': '/kaggle/working/history_ScaledPureSVD_MAP.db',\n",
    "    'copy_prev_best_params': False,\n",
    "    'tune_best_params': True,\n",
    "    'save_github': True\n",
    "}"
   ]
  },
  {
   "cell_type": "markdown",
   "id": "09d80013",
   "metadata": {
    "papermill": {
     "duration": 0.012973,
     "end_time": "2025-01-05T14:40:34.621533",
     "exception": false,
     "start_time": "2025-01-05T14:40:34.608560",
     "status": "completed"
    },
    "tags": []
   },
   "source": [
    "Import the database where previous tuning trials have been saved."
   ]
  },
  {
   "cell_type": "code",
   "execution_count": 8,
   "id": "51f1bf5c",
   "metadata": {
    "execution": {
     "iopub.execute_input": "2025-01-05T14:40:34.647776Z",
     "iopub.status.busy": "2025-01-05T14:40:34.647476Z",
     "iopub.status.idle": "2025-01-05T14:40:34.651948Z",
     "shell.execute_reply": "2025-01-05T14:40:34.650920Z"
    },
    "papermill": {
     "duration": 0.020102,
     "end_time": "2025-01-05T14:40:34.654002",
     "exception": false,
     "start_time": "2025-01-05T14:40:34.633900",
     "status": "completed"
    },
    "tags": []
   },
   "outputs": [],
   "source": [
    "try:\n",
    "    shutil.copyfile(\n",
    "        f'{K_PATH}/{GH_PATH}/{config[\"model\"]}Recommender/Optimizing{config[\"metric\"]}/history_{config[\"model\"]}_{config[\"metric\"]}.db', \n",
    "        config['database_path']\n",
    "    )\n",
    "except FileNotFoundError:\n",
    "    pass # if not present optuna will create it"
   ]
  },
  {
   "cell_type": "markdown",
   "id": "fa92ca74",
   "metadata": {
    "papermill": {
     "duration": 0.012454,
     "end_time": "2025-01-05T14:40:34.679660",
     "exception": false,
     "start_time": "2025-01-05T14:40:34.667206",
     "status": "completed"
    },
    "tags": []
   },
   "source": [
    "# Construction of URM and ICM matrices"
   ]
  },
  {
   "cell_type": "code",
   "execution_count": 9,
   "id": "1383b2e9",
   "metadata": {
    "execution": {
     "iopub.execute_input": "2025-01-05T14:40:34.705930Z",
     "iopub.status.busy": "2025-01-05T14:40:34.705608Z",
     "iopub.status.idle": "2025-01-05T14:40:35.118742Z",
     "shell.execute_reply": "2025-01-05T14:40:35.117705Z"
    },
    "papermill": {
     "duration": 0.427976,
     "end_time": "2025-01-05T14:40:35.120235",
     "exception": false,
     "start_time": "2025-01-05T14:40:34.692259",
     "status": "completed"
    },
    "tags": []
   },
   "outputs": [
    {
     "data": {
      "text/plain": [
       "<35736x38121 sparse matrix of type '<class 'numpy.float64'>'\n",
       "\twith 1764607 stored elements in Compressed Sparse Row format>"
      ]
     },
     "execution_count": 9,
     "metadata": {},
     "output_type": "execute_result"
    }
   ],
   "source": [
    "URM_all_dataframe = pd.read_csv(\"/kaggle/working/RECsys_Challenge2024/Dataset/data_train.csv\")\n",
    "\n",
    "n_users = len(URM_all_dataframe[\"user_id\"].unique())\n",
    "n_items = len(URM_all_dataframe[\"item_id\"].unique())\n",
    "\n",
    "URM_all = sps.csr_matrix((URM_all_dataframe[\"data\"].values, \n",
    "                          (URM_all_dataframe[\"user_id\"].values, URM_all_dataframe[\"item_id\"].values)),\n",
    "                        shape = (n_users, n_items))\n",
    "\n",
    "URM_all"
   ]
  },
  {
   "cell_type": "code",
   "execution_count": 10,
   "id": "e4d93d2b",
   "metadata": {
    "execution": {
     "iopub.execute_input": "2025-01-05T14:40:35.148252Z",
     "iopub.status.busy": "2025-01-05T14:40:35.147939Z",
     "iopub.status.idle": "2025-01-05T14:40:35.799182Z",
     "shell.execute_reply": "2025-01-05T14:40:35.798010Z"
    },
    "papermill": {
     "duration": 0.668174,
     "end_time": "2025-01-05T14:40:35.801298",
     "exception": false,
     "start_time": "2025-01-05T14:40:35.133124",
     "status": "completed"
    },
    "tags": []
   },
   "outputs": [
    {
     "data": {
      "text/plain": [
       "<38121x94331 sparse matrix of type '<class 'numpy.float64'>'\n",
       "\twith 2940040 stored elements in Compressed Sparse Row format>"
      ]
     },
     "execution_count": 10,
     "metadata": {},
     "output_type": "execute_result"
    }
   ],
   "source": [
    "ICM_dataframe = pd.read_csv(\"/kaggle/working/RECsys_Challenge2024/Dataset/data_ICM_metadata.csv\")\n",
    "\n",
    "n_items = len(ICM_dataframe[\"item_id\"].unique())\n",
    "n_features = len(ICM_dataframe[\"feature_id\"].unique())\n",
    "\n",
    "ICM_all = sps.csr_matrix((ICM_dataframe[\"data\"].values, \n",
    "                          (ICM_dataframe[\"item_id\"].values, ICM_dataframe[\"feature_id\"].values)),\n",
    "                        shape = (n_items, n_features))\n",
    "\n",
    "ICM_all"
   ]
  },
  {
   "cell_type": "markdown",
   "id": "25f72ba6",
   "metadata": {
    "papermill": {
     "duration": 0.013005,
     "end_time": "2025-01-05T14:40:35.827892",
     "exception": false,
     "start_time": "2025-01-05T14:40:35.814887",
     "status": "completed"
    },
    "tags": []
   },
   "source": [
    "# Training"
   ]
  },
  {
   "cell_type": "code",
   "execution_count": 11,
   "id": "4a0f808b",
   "metadata": {
    "execution": {
     "iopub.execute_input": "2025-01-05T14:40:35.856038Z",
     "iopub.status.busy": "2025-01-05T14:40:35.855653Z",
     "iopub.status.idle": "2025-01-05T14:40:51.277633Z",
     "shell.execute_reply": "2025-01-05T14:40:51.276455Z"
    },
    "papermill": {
     "duration": 15.437817,
     "end_time": "2025-01-05T14:40:51.279483",
     "exception": false,
     "start_time": "2025-01-05T14:40:35.841666",
     "status": "completed"
    },
    "tags": []
   },
   "outputs": [
    {
     "name": "stdout",
     "output_type": "stream",
     "text": [
      "Warning: 141 (0.39 %) of 35736 users have no sampled items\n"
     ]
    }
   ],
   "source": [
    "from Evaluation.Evaluator import EvaluatorHoldout\n",
    "from Data_manager.split_functions.split_train_validation_random_holdout import split_train_in_two_percentage_global_sample\n",
    "from Data_manager.split_functions.split_train_k_folds import split_train_k_folds\n",
    "\n",
    "URM_train, URM_validation = split_train_in_two_percentage_global_sample(URM_all, train_percentage = 0.80)\n",
    "\n",
    "folds = split_train_k_folds(URM_all, k=config['n_folds'])"
   ]
  },
  {
   "cell_type": "code",
   "execution_count": 12,
   "id": "ca50e02f",
   "metadata": {
    "execution": {
     "iopub.execute_input": "2025-01-05T14:40:51.306928Z",
     "iopub.status.busy": "2025-01-05T14:40:51.306632Z",
     "iopub.status.idle": "2025-01-05T14:40:52.186637Z",
     "shell.execute_reply": "2025-01-05T14:40:52.185709Z"
    },
    "papermill": {
     "duration": 0.89583,
     "end_time": "2025-01-05T14:40:52.188701",
     "exception": false,
     "start_time": "2025-01-05T14:40:51.292871",
     "status": "completed"
    },
    "tags": []
   },
   "outputs": [],
   "source": [
    "from Recommenders.MatrixFactorization.PureSVDRecommender import ScaledPureSVDRecommender\n",
    "\n",
    "def objective_function_ScaledPureSVD(optuna_trial):\n",
    "    \n",
    "    full_hyperp = {\n",
    "                    'num_factors': optuna_trial.suggest_int('num_factors', 1, 2000, log=True),\n",
    "                    'scaling_items': optuna_trial.suggest_float('scaling_items', 1e-2, 2, log=True),\n",
    "                    'scaling_users': optuna_trial.suggest_float('scaling_users', 1e-2, 2, log=True),\n",
    "                  }        \n",
    "    \n",
    "    validation_results = []\n",
    "    \n",
    "    for fold_idx, (URM_train_fold, URM_validation_fold) in enumerate(folds):\n",
    "    \n",
    "        recommender_instance = ScaledPureSVDRecommender(URM_train_fold)\n",
    "        recommender_instance.fit(**full_hyperp)\n",
    "        \n",
    "        evaluator = EvaluatorHoldout(URM_validation_fold, cutoff_list=[10])\n",
    "        result_df, _ = evaluator.evaluateRecommender(recommender_instance)\n",
    "        \n",
    "        validation_results.append(result_df.loc[10][\"MAP\"])\n",
    "    \n",
    "    return np.mean(validation_results)"
   ]
  },
  {
   "cell_type": "code",
   "execution_count": 13,
   "id": "6dc3fabe",
   "metadata": {
    "execution": {
     "iopub.execute_input": "2025-01-05T14:40:52.216446Z",
     "iopub.status.busy": "2025-01-05T14:40:52.215966Z",
     "iopub.status.idle": "2025-01-05T20:42:47.710378Z",
     "shell.execute_reply": "2025-01-05T20:42:47.708347Z"
    },
    "papermill": {
     "duration": 21715.511349,
     "end_time": "2025-01-05T20:42:47.713469",
     "exception": false,
     "start_time": "2025-01-05T14:40:52.202120",
     "status": "completed"
    },
    "tags": []
   },
   "outputs": [
    {
     "name": "stderr",
     "output_type": "stream",
     "text": [
      "[I 2025-01-05 14:40:53,105] Using an existing study with name 'hyperparameters_tuning_ScaledPureSVD_MAP' instead of creating a new one.\n"
     ]
    },
    {
     "name": "stdout",
     "output_type": "stream",
     "text": [
      "ScaledPureSVDRecommender: Computing SVD decomposition...\n",
      "ScaledPureSVDRecommender: Computing SVD decomposition... done in 1.57 min\n",
      "EvaluatorHoldout: Ignoring 173 ( 0.5%) Users that have less than 1 test interactions\n",
      "EvaluatorHoldout: Processed 35563 (100.0%) in 2.14 min. Users per second: 277\n",
      "ScaledPureSVDRecommender: Computing SVD decomposition...\n",
      "ScaledPureSVDRecommender: Computing SVD decomposition... done in 1.59 min\n",
      "EvaluatorHoldout: Ignoring 163 ( 0.5%) Users that have less than 1 test interactions\n",
      "EvaluatorHoldout: Processed 35573 (100.0%) in 2.10 min. Users per second: 282\n",
      "ScaledPureSVDRecommender: Computing SVD decomposition...\n",
      "ScaledPureSVDRecommender: Computing SVD decomposition... done in 1.57 min\n",
      "EvaluatorHoldout: Ignoring 150 ( 0.4%) Users that have less than 1 test interactions\n",
      "EvaluatorHoldout: Processed 35586 (100.0%) in 2.12 min. Users per second: 279\n",
      "ScaledPureSVDRecommender: Computing SVD decomposition...\n",
      "ScaledPureSVDRecommender: Computing SVD decomposition... done in 1.56 min\n",
      "EvaluatorHoldout: Ignoring 167 ( 0.5%) Users that have less than 1 test interactions\n",
      "EvaluatorHoldout: Processed 35569 (100.0%) in 2.12 min. Users per second: 279\n",
      "ScaledPureSVDRecommender: Computing SVD decomposition...\n",
      "ScaledPureSVDRecommender: Computing SVD decomposition... done in 1.53 min\n",
      "EvaluatorHoldout: Ignoring 172 ( 0.5%) Users that have less than 1 test interactions\n",
      "EvaluatorHoldout: Processed 35564 (100.0%) in 2.10 min. Users per second: 283\n"
     ]
    },
    {
     "name": "stderr",
     "output_type": "stream",
     "text": [
      "[I 2025-01-05 14:59:18,424] Trial 20 finished with value: 0.029143548373414728 and parameters: {'num_factors': 1247, 'scaling_items': 0.365907052857316, 'scaling_users': 0.0567771082719638}. Best is trial 14 with value: 0.03217330506858227.\n"
     ]
    },
    {
     "name": "stdout",
     "output_type": "stream",
     "text": [
      "ScaledPureSVDRecommender: Computing SVD decomposition...\n",
      "ScaledPureSVDRecommender: Computing SVD decomposition... done in 1.58 min\n",
      "EvaluatorHoldout: Ignoring 173 ( 0.5%) Users that have less than 1 test interactions\n",
      "EvaluatorHoldout: Processed 35563 (100.0%) in 2.14 min. Users per second: 277\n",
      "ScaledPureSVDRecommender: Computing SVD decomposition...\n",
      "ScaledPureSVDRecommender: Computing SVD decomposition... done in 1.61 min\n",
      "EvaluatorHoldout: Ignoring 163 ( 0.5%) Users that have less than 1 test interactions\n",
      "EvaluatorHoldout: Processed 35573 (100.0%) in 2.17 min. Users per second: 273\n",
      "ScaledPureSVDRecommender: Computing SVD decomposition...\n",
      "ScaledPureSVDRecommender: Computing SVD decomposition... done in 1.59 min\n",
      "EvaluatorHoldout: Ignoring 150 ( 0.4%) Users that have less than 1 test interactions\n",
      "EvaluatorHoldout: Processed 35586 (100.0%) in 2.19 min. Users per second: 270\n",
      "ScaledPureSVDRecommender: Computing SVD decomposition...\n",
      "ScaledPureSVDRecommender: Computing SVD decomposition... done in 1.56 min\n",
      "EvaluatorHoldout: Ignoring 167 ( 0.5%) Users that have less than 1 test interactions\n",
      "EvaluatorHoldout: Processed 35569 (100.0%) in 2.12 min. Users per second: 280\n",
      "ScaledPureSVDRecommender: Computing SVD decomposition...\n",
      "ScaledPureSVDRecommender: Computing SVD decomposition... done in 1.60 min\n",
      "EvaluatorHoldout: Ignoring 172 ( 0.5%) Users that have less than 1 test interactions\n",
      "EvaluatorHoldout: Processed 35564 (100.0%) in 2.11 min. Users per second: 280\n"
     ]
    },
    {
     "name": "stderr",
     "output_type": "stream",
     "text": [
      "[I 2025-01-05 15:18:00,357] Trial 21 finished with value: 0.031177530979560976 and parameters: {'num_factors': 1255, 'scaling_items': 0.2795419608325479, 'scaling_users': 0.04536382719589303}. Best is trial 14 with value: 0.03217330506858227.\n"
     ]
    },
    {
     "name": "stdout",
     "output_type": "stream",
     "text": [
      "ScaledPureSVDRecommender: Computing SVD decomposition...\n",
      "ScaledPureSVDRecommender: Computing SVD decomposition... done in 2.78 min\n",
      "EvaluatorHoldout: Ignoring 173 ( 0.5%) Users that have less than 1 test interactions\n",
      "EvaluatorHoldout: Processed 35563 (100.0%) in 3.11 min. Users per second: 190\n",
      "ScaledPureSVDRecommender: Computing SVD decomposition...\n",
      "ScaledPureSVDRecommender: Computing SVD decomposition... done in 3.00 min\n",
      "EvaluatorHoldout: Ignoring 163 ( 0.5%) Users that have less than 1 test interactions\n",
      "EvaluatorHoldout: Processed 35573 (100.0%) in 3.08 min. Users per second: 193\n",
      "ScaledPureSVDRecommender: Computing SVD decomposition...\n",
      "ScaledPureSVDRecommender: Computing SVD decomposition... done in 3.24 min\n",
      "EvaluatorHoldout: Ignoring 150 ( 0.4%) Users that have less than 1 test interactions\n",
      "EvaluatorHoldout: Processed 35586 (100.0%) in 3.27 min. Users per second: 181\n",
      "ScaledPureSVDRecommender: Computing SVD decomposition...\n",
      "ScaledPureSVDRecommender: Computing SVD decomposition... done in 3.12 min\n",
      "EvaluatorHoldout: Ignoring 167 ( 0.5%) Users that have less than 1 test interactions\n",
      "EvaluatorHoldout: Processed 35569 (100.0%) in 3.43 min. Users per second: 173\n",
      "ScaledPureSVDRecommender: Computing SVD decomposition...\n",
      "ScaledPureSVDRecommender: Computing SVD decomposition... done in 3.14 min\n",
      "EvaluatorHoldout: Ignoring 172 ( 0.5%) Users that have less than 1 test interactions\n",
      "EvaluatorHoldout: Processed 35564 (100.0%) in 3.22 min. Users per second: 184\n"
     ]
    },
    {
     "name": "stderr",
     "output_type": "stream",
     "text": [
      "[I 2025-01-05 15:49:24,794] Trial 22 finished with value: 0.03291997864697201 and parameters: {'num_factors': 1873, 'scaling_items': 0.29108884480967073, 'scaling_users': 0.019467884035811626}. Best is trial 22 with value: 0.03291997864697201.\n"
     ]
    },
    {
     "name": "stdout",
     "output_type": "stream",
     "text": [
      "ScaledPureSVDRecommender: Computing SVD decomposition...\n",
      "ScaledPureSVDRecommender: Computing SVD decomposition... done in 36.98 sec\n",
      "EvaluatorHoldout: Ignoring 173 ( 0.5%) Users that have less than 1 test interactions\n",
      "EvaluatorHoldout: Processed 35563 (100.0%) in 1.27 min. Users per second: 467\n",
      "ScaledPureSVDRecommender: Computing SVD decomposition...\n",
      "ScaledPureSVDRecommender: Computing SVD decomposition... done in 36.53 sec\n",
      "EvaluatorHoldout: Ignoring 163 ( 0.5%) Users that have less than 1 test interactions\n",
      "EvaluatorHoldout: Processed 35573 (100.0%) in 1.29 min. Users per second: 460\n",
      "ScaledPureSVDRecommender: Computing SVD decomposition...\n",
      "ScaledPureSVDRecommender: Computing SVD decomposition... done in 36.14 sec\n",
      "EvaluatorHoldout: Ignoring 150 ( 0.4%) Users that have less than 1 test interactions\n",
      "EvaluatorHoldout: Processed 35586 (100.0%) in 1.27 min. Users per second: 469\n",
      "ScaledPureSVDRecommender: Computing SVD decomposition...\n",
      "ScaledPureSVDRecommender: Computing SVD decomposition... done in 36.81 sec\n",
      "EvaluatorHoldout: Ignoring 167 ( 0.5%) Users that have less than 1 test interactions\n",
      "EvaluatorHoldout: Processed 35569 (100.0%) in 1.27 min. Users per second: 465\n",
      "ScaledPureSVDRecommender: Computing SVD decomposition...\n",
      "ScaledPureSVDRecommender: Computing SVD decomposition... done in 36.78 sec\n",
      "EvaluatorHoldout: Ignoring 172 ( 0.5%) Users that have less than 1 test interactions\n",
      "EvaluatorHoldout: Processed 35564 (100.0%) in 1.26 min. Users per second: 469\n"
     ]
    },
    {
     "name": "stderr",
     "output_type": "stream",
     "text": [
      "[I 2025-01-05 15:58:50,492] Trial 23 finished with value: 0.02622349664370243 and parameters: {'num_factors': 480, 'scaling_items': 0.2510439875798354, 'scaling_users': 0.010071126525594647}. Best is trial 22 with value: 0.03291997864697201.\n"
     ]
    },
    {
     "name": "stdout",
     "output_type": "stream",
     "text": [
      "ScaledPureSVDRecommender: Computing SVD decomposition...\n",
      "ScaledPureSVDRecommender: Computing SVD decomposition... done in 1.39 min\n",
      "EvaluatorHoldout: Ignoring 173 ( 0.5%) Users that have less than 1 test interactions\n",
      "EvaluatorHoldout: Processed 35563 (100.0%) in 1.75 min. Users per second: 339\n",
      "ScaledPureSVDRecommender: Computing SVD decomposition...\n",
      "ScaledPureSVDRecommender: Computing SVD decomposition... done in 1.12 min\n",
      "EvaluatorHoldout: Ignoring 163 ( 0.5%) Users that have less than 1 test interactions\n",
      "EvaluatorHoldout: Processed 35573 (100.0%) in 1.74 min. Users per second: 341\n",
      "ScaledPureSVDRecommender: Computing SVD decomposition...\n",
      "ScaledPureSVDRecommender: Computing SVD decomposition... done in 1.07 min\n",
      "EvaluatorHoldout: Ignoring 150 ( 0.4%) Users that have less than 1 test interactions\n",
      "EvaluatorHoldout: Processed 35586 (100.0%) in 1.81 min. Users per second: 328\n",
      "ScaledPureSVDRecommender: Computing SVD decomposition...\n",
      "ScaledPureSVDRecommender: Computing SVD decomposition... done in 1.11 min\n",
      "EvaluatorHoldout: Ignoring 167 ( 0.5%) Users that have less than 1 test interactions\n",
      "EvaluatorHoldout: Processed 35569 (100.0%) in 1.74 min. Users per second: 340\n",
      "ScaledPureSVDRecommender: Computing SVD decomposition...\n",
      "ScaledPureSVDRecommender: Computing SVD decomposition... done in 1.12 min\n",
      "EvaluatorHoldout: Ignoring 172 ( 0.5%) Users that have less than 1 test interactions\n",
      "EvaluatorHoldout: Processed 35564 (100.0%) in 1.74 min. Users per second: 340\n"
     ]
    },
    {
     "name": "stderr",
     "output_type": "stream",
     "text": [
      "[I 2025-01-05 16:13:26,697] Trial 24 finished with value: 0.033366822064820056 and parameters: {'num_factors': 807, 'scaling_items': 0.1068672553664196, 'scaling_users': 0.017462803648256905}. Best is trial 24 with value: 0.033366822064820056.\n"
     ]
    },
    {
     "name": "stdout",
     "output_type": "stream",
     "text": [
      "ScaledPureSVDRecommender: Computing SVD decomposition...\n",
      "ScaledPureSVDRecommender: Computing SVD decomposition... done in 10.42 sec\n",
      "EvaluatorHoldout: Ignoring 173 ( 0.5%) Users that have less than 1 test interactions\n",
      "EvaluatorHoldout: Processed 35563 (100.0%) in 44.44 sec. Users per second: 800\n",
      "ScaledPureSVDRecommender: Computing SVD decomposition...\n",
      "ScaledPureSVDRecommender: Computing SVD decomposition... done in 9.04 sec\n",
      "EvaluatorHoldout: Ignoring 163 ( 0.5%) Users that have less than 1 test interactions\n",
      "EvaluatorHoldout: Processed 35573 (100.0%) in 44.35 sec. Users per second: 802\n",
      "ScaledPureSVDRecommender: Computing SVD decomposition...\n",
      "ScaledPureSVDRecommender: Computing SVD decomposition... done in 8.52 sec\n",
      "EvaluatorHoldout: Ignoring 150 ( 0.4%) Users that have less than 1 test interactions\n",
      "EvaluatorHoldout: Processed 35586 (100.0%) in 42.85 sec. Users per second: 830\n",
      "ScaledPureSVDRecommender: Computing SVD decomposition...\n",
      "ScaledPureSVDRecommender: Computing SVD decomposition... done in 8.41 sec\n",
      "EvaluatorHoldout: Ignoring 167 ( 0.5%) Users that have less than 1 test interactions\n",
      "EvaluatorHoldout: Processed 35569 (100.0%) in 42.58 sec. Users per second: 835\n",
      "ScaledPureSVDRecommender: Computing SVD decomposition...\n",
      "ScaledPureSVDRecommender: Computing SVD decomposition... done in 8.39 sec\n",
      "EvaluatorHoldout: Ignoring 172 ( 0.5%) Users that have less than 1 test interactions\n",
      "EvaluatorHoldout: Processed 35564 (100.0%) in 42.78 sec. Users per second: 831\n"
     ]
    },
    {
     "name": "stderr",
     "output_type": "stream",
     "text": [
      "[I 2025-01-05 16:17:49,273] Trial 25 finished with value: 0.020359152727334635 and parameters: {'num_factors': 117, 'scaling_items': 0.09932152264137764, 'scaling_users': 0.0203845103051869}. Best is trial 24 with value: 0.033366822064820056.\n"
     ]
    },
    {
     "name": "stdout",
     "output_type": "stream",
     "text": [
      "ScaledPureSVDRecommender: Computing SVD decomposition...\n",
      "ScaledPureSVDRecommender: Computing SVD decomposition... done in 58.99 sec\n",
      "EvaluatorHoldout: Ignoring 173 ( 0.5%) Users that have less than 1 test interactions\n",
      "EvaluatorHoldout: Processed 35563 (100.0%) in 1.64 min. Users per second: 361\n",
      "ScaledPureSVDRecommender: Computing SVD decomposition...\n",
      "ScaledPureSVDRecommender: Computing SVD decomposition... done in 58.34 sec\n",
      "EvaluatorHoldout: Ignoring 163 ( 0.5%) Users that have less than 1 test interactions\n",
      "EvaluatorHoldout: Processed 35573 (100.0%) in 1.65 min. Users per second: 360\n",
      "ScaledPureSVDRecommender: Computing SVD decomposition...\n",
      "ScaledPureSVDRecommender: Computing SVD decomposition... done in 1.02 min\n",
      "EvaluatorHoldout: Ignoring 150 ( 0.4%) Users that have less than 1 test interactions\n",
      "EvaluatorHoldout: Processed 35586 (100.0%) in 1.66 min. Users per second: 356\n",
      "ScaledPureSVDRecommender: Computing SVD decomposition...\n",
      "ScaledPureSVDRecommender: Computing SVD decomposition... done in 1.01 min\n",
      "EvaluatorHoldout: Ignoring 167 ( 0.5%) Users that have less than 1 test interactions\n",
      "EvaluatorHoldout: Processed 35569 (100.0%) in 1.64 min. Users per second: 360\n",
      "ScaledPureSVDRecommender: Computing SVD decomposition...\n",
      "ScaledPureSVDRecommender: Computing SVD decomposition... done in 1.02 min\n",
      "EvaluatorHoldout: Ignoring 172 ( 0.5%) Users that have less than 1 test interactions\n",
      "EvaluatorHoldout: Processed 35564 (100.0%) in 1.65 min. Users per second: 358\n"
     ]
    },
    {
     "name": "stderr",
     "output_type": "stream",
     "text": [
      "[I 2025-01-05 16:31:05,258] Trial 26 finished with value: 0.03401375422913715 and parameters: {'num_factors': 740, 'scaling_items': 0.06277927627308437, 'scaling_users': 0.01646737054990977}. Best is trial 26 with value: 0.03401375422913715.\n"
     ]
    },
    {
     "name": "stdout",
     "output_type": "stream",
     "text": [
      "ScaledPureSVDRecommender: Computing SVD decomposition...\n",
      "ScaledPureSVDRecommender: Computing SVD decomposition... done in 55.93 sec\n",
      "EvaluatorHoldout: Ignoring 173 ( 0.5%) Users that have less than 1 test interactions\n",
      "EvaluatorHoldout: Processed 35563 (100.0%) in 1.56 min. Users per second: 380\n",
      "ScaledPureSVDRecommender: Computing SVD decomposition...\n",
      "ScaledPureSVDRecommender: Computing SVD decomposition... done in 53.83 sec\n",
      "EvaluatorHoldout: Ignoring 163 ( 0.5%) Users that have less than 1 test interactions\n",
      "EvaluatorHoldout: Processed 35573 (100.0%) in 1.55 min. Users per second: 382\n",
      "ScaledPureSVDRecommender: Computing SVD decomposition...\n",
      "ScaledPureSVDRecommender: Computing SVD decomposition... done in 56.46 sec\n",
      "EvaluatorHoldout: Ignoring 150 ( 0.4%) Users that have less than 1 test interactions\n",
      "EvaluatorHoldout: Processed 35586 (100.0%) in 1.55 min. Users per second: 382\n",
      "ScaledPureSVDRecommender: Computing SVD decomposition...\n",
      "ScaledPureSVDRecommender: Computing SVD decomposition... done in 53.51 sec\n",
      "EvaluatorHoldout: Ignoring 167 ( 0.5%) Users that have less than 1 test interactions\n",
      "EvaluatorHoldout: Processed 35569 (100.0%) in 1.56 min. Users per second: 379\n",
      "ScaledPureSVDRecommender: Computing SVD decomposition...\n",
      "ScaledPureSVDRecommender: Computing SVD decomposition... done in 57.44 sec\n",
      "EvaluatorHoldout: Ignoring 172 ( 0.5%) Users that have less than 1 test interactions\n",
      "EvaluatorHoldout: Processed 35564 (100.0%) in 1.57 min. Users per second: 378\n"
     ]
    },
    {
     "name": "stderr",
     "output_type": "stream",
     "text": [
      "[I 2025-01-05 16:43:30,909] Trial 27 finished with value: 0.03377093184749998 and parameters: {'num_factors': 685, 'scaling_items': 0.051897690716315566, 'scaling_users': 0.01718808139075456}. Best is trial 26 with value: 0.03401375422913715.\n"
     ]
    },
    {
     "name": "stdout",
     "output_type": "stream",
     "text": [
      "ScaledPureSVDRecommender: Computing SVD decomposition...\n",
      "ScaledPureSVDRecommender: Computing SVD decomposition... done in 58.77 sec\n",
      "EvaluatorHoldout: Ignoring 173 ( 0.5%) Users that have less than 1 test interactions\n",
      "EvaluatorHoldout: Processed 35563 (100.0%) in 1.62 min. Users per second: 365\n",
      "ScaledPureSVDRecommender: Computing SVD decomposition...\n",
      "ScaledPureSVDRecommender: Computing SVD decomposition... done in 56.74 sec\n",
      "EvaluatorHoldout: Ignoring 163 ( 0.5%) Users that have less than 1 test interactions\n",
      "EvaluatorHoldout: Processed 35573 (100.0%) in 1.62 min. Users per second: 367\n",
      "ScaledPureSVDRecommender: Computing SVD decomposition...\n",
      "ScaledPureSVDRecommender: Computing SVD decomposition... done in 57.55 sec\n",
      "EvaluatorHoldout: Ignoring 150 ( 0.4%) Users that have less than 1 test interactions\n",
      "EvaluatorHoldout: Processed 35586 (100.0%) in 1.63 min. Users per second: 364\n",
      "ScaledPureSVDRecommender: Computing SVD decomposition...\n",
      "ScaledPureSVDRecommender: Computing SVD decomposition... done in 56.93 sec\n",
      "EvaluatorHoldout: Ignoring 167 ( 0.5%) Users that have less than 1 test interactions\n",
      "EvaluatorHoldout: Processed 35569 (100.0%) in 1.63 min. Users per second: 365\n",
      "ScaledPureSVDRecommender: Computing SVD decomposition...\n",
      "ScaledPureSVDRecommender: Computing SVD decomposition... done in 59.97 sec\n",
      "EvaluatorHoldout: Ignoring 172 ( 0.5%) Users that have less than 1 test interactions\n",
      "EvaluatorHoldout: Processed 35564 (100.0%) in 1.64 min. Users per second: 360\n"
     ]
    },
    {
     "name": "stderr",
     "output_type": "stream",
     "text": [
      "[I 2025-01-05 16:56:29,901] Trial 28 finished with value: 0.034058903828334076 and parameters: {'num_factors': 718, 'scaling_items': 0.05402301522999003, 'scaling_users': 0.013943589332504358}. Best is trial 28 with value: 0.034058903828334076.\n"
     ]
    },
    {
     "name": "stdout",
     "output_type": "stream",
     "text": [
      "ScaledPureSVDRecommender: Computing SVD decomposition...\n",
      "ScaledPureSVDRecommender: Computing SVD decomposition... done in 2.21 sec\n",
      "EvaluatorHoldout: Ignoring 173 ( 0.5%) Users that have less than 1 test interactions\n",
      "EvaluatorHoldout: Processed 35563 (100.0%) in 37.28 sec. Users per second: 954\n",
      "ScaledPureSVDRecommender: Computing SVD decomposition...\n",
      "ScaledPureSVDRecommender: Computing SVD decomposition... done in 2.34 sec\n",
      "EvaluatorHoldout: Ignoring 163 ( 0.5%) Users that have less than 1 test interactions\n",
      "EvaluatorHoldout: Processed 35573 (100.0%) in 36.88 sec. Users per second: 965\n",
      "ScaledPureSVDRecommender: Computing SVD decomposition...\n",
      "ScaledPureSVDRecommender: Computing SVD decomposition... done in 2.38 sec\n",
      "EvaluatorHoldout: Ignoring 150 ( 0.4%) Users that have less than 1 test interactions\n",
      "EvaluatorHoldout: Processed 35586 (100.0%) in 37.72 sec. Users per second: 943\n",
      "ScaledPureSVDRecommender: Computing SVD decomposition...\n",
      "ScaledPureSVDRecommender: Computing SVD decomposition... done in 2.25 sec\n",
      "EvaluatorHoldout: Ignoring 167 ( 0.5%) Users that have less than 1 test interactions\n",
      "EvaluatorHoldout: Processed 35569 (100.0%) in 36.54 sec. Users per second: 973\n",
      "ScaledPureSVDRecommender: Computing SVD decomposition...\n",
      "ScaledPureSVDRecommender: Computing SVD decomposition... done in 2.28 sec\n",
      "EvaluatorHoldout: Ignoring 172 ( 0.5%) Users that have less than 1 test interactions\n",
      "EvaluatorHoldout: Processed 35564 (100.0%) in 36.80 sec. Users per second: 966\n"
     ]
    },
    {
     "name": "stderr",
     "output_type": "stream",
     "text": [
      "[I 2025-01-05 16:59:47,484] Trial 29 finished with value: 0.01320252718610213 and parameters: {'num_factors': 27, 'scaling_items': 0.05362794308097185, 'scaling_users': 0.011993171213784203}. Best is trial 28 with value: 0.034058903828334076.\n"
     ]
    },
    {
     "name": "stdout",
     "output_type": "stream",
     "text": [
      "ScaledPureSVDRecommender: Computing SVD decomposition...\n",
      "ScaledPureSVDRecommender: Computing SVD decomposition... done in 4.63 sec\n",
      "EvaluatorHoldout: Ignoring 173 ( 0.5%) Users that have less than 1 test interactions\n",
      "EvaluatorHoldout: Processed 35563 (100.0%) in 40.96 sec. Users per second: 868\n",
      "ScaledPureSVDRecommender: Computing SVD decomposition...\n",
      "ScaledPureSVDRecommender: Computing SVD decomposition... done in 5.12 sec\n",
      "EvaluatorHoldout: Ignoring 163 ( 0.5%) Users that have less than 1 test interactions\n",
      "EvaluatorHoldout: Processed 35573 (100.0%) in 40.34 sec. Users per second: 882\n",
      "ScaledPureSVDRecommender: Computing SVD decomposition...\n",
      "ScaledPureSVDRecommender: Computing SVD decomposition... done in 4.64 sec\n",
      "EvaluatorHoldout: Ignoring 150 ( 0.4%) Users that have less than 1 test interactions\n",
      "EvaluatorHoldout: Processed 35586 (100.0%) in 39.52 sec. Users per second: 900\n",
      "ScaledPureSVDRecommender: Computing SVD decomposition...\n",
      "ScaledPureSVDRecommender: Computing SVD decomposition... done in 4.57 sec\n",
      "EvaluatorHoldout: Ignoring 167 ( 0.5%) Users that have less than 1 test interactions\n",
      "EvaluatorHoldout: Processed 35569 (100.0%) in 39.51 sec. Users per second: 900\n",
      "ScaledPureSVDRecommender: Computing SVD decomposition...\n",
      "ScaledPureSVDRecommender: Computing SVD decomposition... done in 4.60 sec\n",
      "EvaluatorHoldout: Ignoring 172 ( 0.5%) Users that have less than 1 test interactions\n",
      "EvaluatorHoldout: Processed 35564 (100.0%) in 39.09 sec. Users per second: 910\n"
     ]
    },
    {
     "name": "stderr",
     "output_type": "stream",
     "text": [
      "[I 2025-01-05 17:03:31,379] Trial 30 finished with value: 0.017095413450646114 and parameters: {'num_factors': 61, 'scaling_items': 0.06461260632388367, 'scaling_users': 0.03067521192826745}. Best is trial 28 with value: 0.034058903828334076.\n"
     ]
    },
    {
     "name": "stdout",
     "output_type": "stream",
     "text": [
      "ScaledPureSVDRecommender: Computing SVD decomposition...\n",
      "ScaledPureSVDRecommender: Computing SVD decomposition... done in 57.26 sec\n",
      "EvaluatorHoldout: Ignoring 173 ( 0.5%) Users that have less than 1 test interactions\n",
      "EvaluatorHoldout: Processed 35563 (100.0%) in 1.58 min. Users per second: 376\n",
      "ScaledPureSVDRecommender: Computing SVD decomposition...\n",
      "ScaledPureSVDRecommender: Computing SVD decomposition... done in 54.78 sec\n",
      "EvaluatorHoldout: Ignoring 163 ( 0.5%) Users that have less than 1 test interactions\n",
      "EvaluatorHoldout: Processed 35573 (100.0%) in 1.57 min. Users per second: 378\n",
      "ScaledPureSVDRecommender: Computing SVD decomposition...\n",
      "ScaledPureSVDRecommender: Computing SVD decomposition... done in 55.52 sec\n",
      "EvaluatorHoldout: Ignoring 150 ( 0.4%) Users that have less than 1 test interactions\n",
      "EvaluatorHoldout: Processed 35586 (100.0%) in 1.58 min. Users per second: 375\n",
      "ScaledPureSVDRecommender: Computing SVD decomposition...\n",
      "ScaledPureSVDRecommender: Computing SVD decomposition... done in 57.66 sec\n",
      "EvaluatorHoldout: Ignoring 167 ( 0.5%) Users that have less than 1 test interactions\n",
      "EvaluatorHoldout: Processed 35569 (100.0%) in 1.58 min. Users per second: 376\n",
      "ScaledPureSVDRecommender: Computing SVD decomposition...\n",
      "ScaledPureSVDRecommender: Computing SVD decomposition... done in 55.25 sec\n",
      "EvaluatorHoldout: Ignoring 172 ( 0.5%) Users that have less than 1 test interactions\n",
      "EvaluatorHoldout: Processed 35564 (100.0%) in 1.58 min. Users per second: 375\n"
     ]
    },
    {
     "name": "stderr",
     "output_type": "stream",
     "text": [
      "[I 2025-01-05 17:16:06,003] Trial 31 finished with value: 0.0345890422492219 and parameters: {'num_factors': 693, 'scaling_items': 0.025661787995754082, 'scaling_users': 0.015008622751071078}. Best is trial 31 with value: 0.0345890422492219.\n"
     ]
    },
    {
     "name": "stdout",
     "output_type": "stream",
     "text": [
      "ScaledPureSVDRecommender: Computing SVD decomposition...\n",
      "ScaledPureSVDRecommender: Computing SVD decomposition... done in 32.68 sec\n",
      "EvaluatorHoldout: Ignoring 173 ( 0.5%) Users that have less than 1 test interactions\n",
      "EvaluatorHoldout: Processed 35563 (100.0%) in 1.22 min. Users per second: 488\n",
      "ScaledPureSVDRecommender: Computing SVD decomposition...\n",
      "ScaledPureSVDRecommender: Computing SVD decomposition... done in 33.81 sec\n",
      "EvaluatorHoldout: Ignoring 163 ( 0.5%) Users that have less than 1 test interactions\n",
      "EvaluatorHoldout: Processed 35573 (100.0%) in 1.20 min. Users per second: 496\n",
      "ScaledPureSVDRecommender: Computing SVD decomposition...\n",
      "ScaledPureSVDRecommender: Computing SVD decomposition... done in 33.20 sec\n",
      "EvaluatorHoldout: Ignoring 150 ( 0.4%) Users that have less than 1 test interactions\n",
      "EvaluatorHoldout: Processed 35586 (100.0%) in 1.21 min. Users per second: 491\n",
      "ScaledPureSVDRecommender: Computing SVD decomposition...\n",
      "ScaledPureSVDRecommender: Computing SVD decomposition... done in 33.46 sec\n",
      "EvaluatorHoldout: Ignoring 167 ( 0.5%) Users that have less than 1 test interactions\n",
      "EvaluatorHoldout: Processed 35569 (100.0%) in 1.22 min. Users per second: 485\n",
      "ScaledPureSVDRecommender: Computing SVD decomposition...\n",
      "ScaledPureSVDRecommender: Computing SVD decomposition... done in 35.83 sec\n",
      "EvaluatorHoldout: Ignoring 172 ( 0.5%) Users that have less than 1 test interactions\n",
      "EvaluatorHoldout: Processed 35564 (100.0%) in 1.22 min. Users per second: 486\n"
     ]
    },
    {
     "name": "stderr",
     "output_type": "stream",
     "text": [
      "[I 2025-01-05 17:24:59,296] Trial 32 finished with value: 0.031334513314914506 and parameters: {'num_factors': 434, 'scaling_items': 0.027644549507346912, 'scaling_users': 0.014023213395014928}. Best is trial 31 with value: 0.0345890422492219.\n"
     ]
    },
    {
     "name": "stdout",
     "output_type": "stream",
     "text": [
      "ScaledPureSVDRecommender: Computing SVD decomposition...\n",
      "ScaledPureSVDRecommender: Computing SVD decomposition... done in 11.73 sec\n",
      "EvaluatorHoldout: Ignoring 173 ( 0.5%) Users that have less than 1 test interactions\n",
      "EvaluatorHoldout: Processed 35563 (100.0%) in 48.65 sec. Users per second: 731\n",
      "ScaledPureSVDRecommender: Computing SVD decomposition...\n",
      "ScaledPureSVDRecommender: Computing SVD decomposition... done in 11.56 sec\n",
      "EvaluatorHoldout: Ignoring 163 ( 0.5%) Users that have less than 1 test interactions\n",
      "EvaluatorHoldout: Processed 35573 (100.0%) in 47.32 sec. Users per second: 752\n",
      "ScaledPureSVDRecommender: Computing SVD decomposition...\n",
      "ScaledPureSVDRecommender: Computing SVD decomposition... done in 11.21 sec\n",
      "EvaluatorHoldout: Ignoring 150 ( 0.4%) Users that have less than 1 test interactions\n",
      "EvaluatorHoldout: Processed 35586 (100.0%) in 47.75 sec. Users per second: 745\n",
      "ScaledPureSVDRecommender: Computing SVD decomposition...\n",
      "ScaledPureSVDRecommender: Computing SVD decomposition... done in 11.54 sec\n",
      "EvaluatorHoldout: Ignoring 167 ( 0.5%) Users that have less than 1 test interactions\n",
      "EvaluatorHoldout: Processed 35569 (100.0%) in 47.19 sec. Users per second: 754\n",
      "ScaledPureSVDRecommender: Computing SVD decomposition...\n",
      "ScaledPureSVDRecommender: Computing SVD decomposition... done in 11.70 sec\n",
      "EvaluatorHoldout: Ignoring 172 ( 0.5%) Users that have less than 1 test interactions\n",
      "EvaluatorHoldout: Processed 35564 (100.0%) in 47.14 sec. Users per second: 754\n"
     ]
    },
    {
     "name": "stderr",
     "output_type": "stream",
     "text": [
      "[I 2025-01-05 17:29:55,906] Trial 33 finished with value: 0.023110175534543354 and parameters: {'num_factors': 147, 'scaling_items': 0.026353685544624982, 'scaling_users': 0.016600413596585914}. Best is trial 31 with value: 0.0345890422492219.\n"
     ]
    },
    {
     "name": "stdout",
     "output_type": "stream",
     "text": [
      "ScaledPureSVDRecommender: Computing SVD decomposition...\n",
      "ScaledPureSVDRecommender: Computing SVD decomposition... done in 50.37 sec\n",
      "EvaluatorHoldout: Ignoring 173 ( 0.5%) Users that have less than 1 test interactions\n",
      "EvaluatorHoldout: Processed 35563 (100.0%) in 1.44 min. Users per second: 411\n",
      "ScaledPureSVDRecommender: Computing SVD decomposition...\n",
      "ScaledPureSVDRecommender: Computing SVD decomposition... done in 48.77 sec\n",
      "EvaluatorHoldout: Ignoring 163 ( 0.5%) Users that have less than 1 test interactions\n",
      "EvaluatorHoldout: Processed 35573 (100.0%) in 1.45 min. Users per second: 408\n",
      "ScaledPureSVDRecommender: Computing SVD decomposition...\n",
      "ScaledPureSVDRecommender: Computing SVD decomposition... done in 47.46 sec\n",
      "EvaluatorHoldout: Ignoring 150 ( 0.4%) Users that have less than 1 test interactions\n",
      "EvaluatorHoldout: Processed 35586 (100.0%) in 1.46 min. Users per second: 406\n",
      "ScaledPureSVDRecommender: Computing SVD decomposition...\n",
      "ScaledPureSVDRecommender: Computing SVD decomposition... done in 46.22 sec\n",
      "EvaluatorHoldout: Ignoring 167 ( 0.5%) Users that have less than 1 test interactions\n",
      "EvaluatorHoldout: Processed 35569 (100.0%) in 1.45 min. Users per second: 408\n",
      "ScaledPureSVDRecommender: Computing SVD decomposition...\n",
      "ScaledPureSVDRecommender: Computing SVD decomposition... done in 46.75 sec\n",
      "EvaluatorHoldout: Ignoring 172 ( 0.5%) Users that have less than 1 test interactions\n",
      "EvaluatorHoldout: Processed 35564 (100.0%) in 1.46 min. Users per second: 407\n"
     ]
    },
    {
     "name": "stderr",
     "output_type": "stream",
     "text": [
      "[I 2025-01-05 17:41:12,324] Trial 34 finished with value: 0.03318860344239326 and parameters: {'num_factors': 587, 'scaling_items': 0.032845929618108026, 'scaling_users': 0.02141823128233032}. Best is trial 31 with value: 0.0345890422492219.\n"
     ]
    },
    {
     "name": "stdout",
     "output_type": "stream",
     "text": [
      "ScaledPureSVDRecommender: Computing SVD decomposition...\n",
      "ScaledPureSVDRecommender: Computing SVD decomposition... done in 23.04 sec\n",
      "EvaluatorHoldout: Ignoring 173 ( 0.5%) Users that have less than 1 test interactions\n",
      "EvaluatorHoldout: Processed 35563 (100.0%) in 58.87 sec. Users per second: 604\n",
      "ScaledPureSVDRecommender: Computing SVD decomposition...\n",
      "ScaledPureSVDRecommender: Computing SVD decomposition... done in 20.76 sec\n",
      "EvaluatorHoldout: Ignoring 163 ( 0.5%) Users that have less than 1 test interactions\n",
      "EvaluatorHoldout: Processed 35573 (100.0%) in 58.84 sec. Users per second: 605\n",
      "ScaledPureSVDRecommender: Computing SVD decomposition...\n",
      "ScaledPureSVDRecommender: Computing SVD decomposition... done in 23.12 sec\n",
      "EvaluatorHoldout: Ignoring 150 ( 0.4%) Users that have less than 1 test interactions\n",
      "EvaluatorHoldout: Processed 35586 (100.0%) in 58.30 sec. Users per second: 610\n",
      "ScaledPureSVDRecommender: Computing SVD decomposition...\n",
      "ScaledPureSVDRecommender: Computing SVD decomposition... done in 20.58 sec\n",
      "EvaluatorHoldout: Ignoring 167 ( 0.5%) Users that have less than 1 test interactions\n",
      "EvaluatorHoldout: Processed 35569 (100.0%) in 58.20 sec. Users per second: 611\n",
      "ScaledPureSVDRecommender: Computing SVD decomposition...\n",
      "ScaledPureSVDRecommender: Computing SVD decomposition... done in 22.97 sec\n",
      "EvaluatorHoldout: Ignoring 172 ( 0.5%) Users that have less than 1 test interactions\n",
      "EvaluatorHoldout: Processed 35564 (100.0%) in 57.42 sec. Users per second: 619\n"
     ]
    },
    {
     "name": "stderr",
     "output_type": "stream",
     "text": [
      "[I 2025-01-05 17:47:55,279] Trial 35 finished with value: 0.027397395283723026 and parameters: {'num_factors': 284, 'scaling_items': 0.0668152258555104, 'scaling_users': 0.010544774535610181}. Best is trial 31 with value: 0.0345890422492219.\n"
     ]
    },
    {
     "name": "stdout",
     "output_type": "stream",
     "text": [
      "ScaledPureSVDRecommender: Computing SVD decomposition...\n",
      "ScaledPureSVDRecommender: Computing SVD decomposition... done in 1.21 sec\n",
      "EvaluatorHoldout: Ignoring 173 ( 0.5%) Users that have less than 1 test interactions\n",
      "EvaluatorHoldout: Processed 35563 (100.0%) in 36.02 sec. Users per second: 987\n",
      "ScaledPureSVDRecommender: Computing SVD decomposition...\n",
      "ScaledPureSVDRecommender: Computing SVD decomposition... done in 1.17 sec\n",
      "EvaluatorHoldout: Ignoring 163 ( 0.5%) Users that have less than 1 test interactions\n",
      "EvaluatorHoldout: Processed 35573 (100.0%) in 35.84 sec. Users per second: 993\n",
      "ScaledPureSVDRecommender: Computing SVD decomposition...\n",
      "ScaledPureSVDRecommender: Computing SVD decomposition... done in 1.16 sec\n",
      "EvaluatorHoldout: Ignoring 150 ( 0.4%) Users that have less than 1 test interactions\n",
      "EvaluatorHoldout: Processed 35586 (100.0%) in 36.00 sec. Users per second: 988\n",
      "ScaledPureSVDRecommender: Computing SVD decomposition...\n",
      "ScaledPureSVDRecommender: Computing SVD decomposition... done in 1.23 sec\n",
      "EvaluatorHoldout: Ignoring 167 ( 0.5%) Users that have less than 1 test interactions\n",
      "EvaluatorHoldout: Processed 35569 (100.0%) in 36.23 sec. Users per second: 982\n",
      "ScaledPureSVDRecommender: Computing SVD decomposition...\n",
      "ScaledPureSVDRecommender: Computing SVD decomposition... done in 1.14 sec\n",
      "EvaluatorHoldout: Ignoring 172 ( 0.5%) Users that have less than 1 test interactions\n",
      "EvaluatorHoldout: Processed 35564 (100.0%) in 35.33 sec. Users per second: 1007\n"
     ]
    },
    {
     "name": "stderr",
     "output_type": "stream",
     "text": [
      "[I 2025-01-05 17:51:01,459] Trial 36 finished with value: 0.008177181752265603 and parameters: {'num_factors': 11, 'scaling_items': 0.018144352277502263, 'scaling_users': 0.03406498739490553}. Best is trial 31 with value: 0.0345890422492219.\n"
     ]
    },
    {
     "name": "stdout",
     "output_type": "stream",
     "text": [
      "ScaledPureSVDRecommender: Computing SVD decomposition...\n",
      "ScaledPureSVDRecommender: Computing SVD decomposition... done in 0.41 sec\n",
      "EvaluatorHoldout: Ignoring 173 ( 0.5%) Users that have less than 1 test interactions\n",
      "EvaluatorHoldout: Processed 35563 (100.0%) in 36.00 sec. Users per second: 988\n",
      "ScaledPureSVDRecommender: Computing SVD decomposition...\n",
      "ScaledPureSVDRecommender: Computing SVD decomposition... done in 0.38 sec\n",
      "EvaluatorHoldout: Ignoring 163 ( 0.5%) Users that have less than 1 test interactions\n",
      "EvaluatorHoldout: Processed 35573 (100.0%) in 36.05 sec. Users per second: 987\n",
      "ScaledPureSVDRecommender: Computing SVD decomposition...\n",
      "ScaledPureSVDRecommender: Computing SVD decomposition... done in 0.49 sec\n",
      "EvaluatorHoldout: Ignoring 150 ( 0.4%) Users that have less than 1 test interactions\n",
      "EvaluatorHoldout: Processed 35586 (100.0%) in 36.40 sec. Users per second: 978\n",
      "ScaledPureSVDRecommender: Computing SVD decomposition...\n",
      "ScaledPureSVDRecommender: Computing SVD decomposition... done in 0.40 sec\n",
      "EvaluatorHoldout: Ignoring 167 ( 0.5%) Users that have less than 1 test interactions\n",
      "EvaluatorHoldout: Processed 35569 (100.0%) in 35.66 sec. Users per second: 997\n",
      "ScaledPureSVDRecommender: Computing SVD decomposition...\n",
      "ScaledPureSVDRecommender: Computing SVD decomposition... done in 0.44 sec\n",
      "EvaluatorHoldout: Ignoring 172 ( 0.5%) Users that have less than 1 test interactions\n",
      "EvaluatorHoldout: Processed 35564 (100.0%) in 36.27 sec. Users per second: 980\n"
     ]
    },
    {
     "name": "stderr",
     "output_type": "stream",
     "text": [
      "[I 2025-01-05 17:54:04,836] Trial 37 finished with value: 0.005038427149014339 and parameters: {'num_factors': 3, 'scaling_items': 0.07756528619528423, 'scaling_users': 0.023895873182147243}. Best is trial 31 with value: 0.0345890422492219.\n"
     ]
    },
    {
     "name": "stdout",
     "output_type": "stream",
     "text": [
      "ScaledPureSVDRecommender: Computing SVD decomposition...\n",
      "ScaledPureSVDRecommender: Computing SVD decomposition... done in 10.99 sec\n",
      "EvaluatorHoldout: Ignoring 173 ( 0.5%) Users that have less than 1 test interactions\n",
      "EvaluatorHoldout: Processed 35563 (100.0%) in 47.18 sec. Users per second: 754\n",
      "ScaledPureSVDRecommender: Computing SVD decomposition...\n",
      "ScaledPureSVDRecommender: Computing SVD decomposition... done in 11.45 sec\n",
      "EvaluatorHoldout: Ignoring 163 ( 0.5%) Users that have less than 1 test interactions\n",
      "EvaluatorHoldout: Processed 35573 (100.0%) in 47.79 sec. Users per second: 744\n",
      "ScaledPureSVDRecommender: Computing SVD decomposition...\n",
      "ScaledPureSVDRecommender: Computing SVD decomposition... done in 11.19 sec\n",
      "EvaluatorHoldout: Ignoring 150 ( 0.4%) Users that have less than 1 test interactions\n",
      "EvaluatorHoldout: Processed 35586 (100.0%) in 46.98 sec. Users per second: 758\n",
      "ScaledPureSVDRecommender: Computing SVD decomposition...\n",
      "ScaledPureSVDRecommender: Computing SVD decomposition... done in 11.04 sec\n",
      "EvaluatorHoldout: Ignoring 167 ( 0.5%) Users that have less than 1 test interactions\n",
      "EvaluatorHoldout: Processed 35569 (100.0%) in 46.64 sec. Users per second: 763\n",
      "ScaledPureSVDRecommender: Computing SVD decomposition...\n",
      "ScaledPureSVDRecommender: Computing SVD decomposition... done in 11.43 sec\n",
      "EvaluatorHoldout: Ignoring 172 ( 0.5%) Users that have less than 1 test interactions\n",
      "EvaluatorHoldout: Processed 35564 (100.0%) in 46.71 sec. Users per second: 761\n"
     ]
    },
    {
     "name": "stderr",
     "output_type": "stream",
     "text": [
      "[I 2025-01-05 17:58:57,072] Trial 38 finished with value: 0.009355898490289071 and parameters: {'num_factors': 145, 'scaling_items': 0.038000011797896915, 'scaling_users': 1.687593735367871}. Best is trial 31 with value: 0.0345890422492219.\n"
     ]
    },
    {
     "name": "stdout",
     "output_type": "stream",
     "text": [
      "ScaledPureSVDRecommender: Computing SVD decomposition...\n",
      "ScaledPureSVDRecommender: Computing SVD decomposition... done in 1.25 min\n",
      "EvaluatorHoldout: Ignoring 173 ( 0.5%) Users that have less than 1 test interactions\n",
      "EvaluatorHoldout: Processed 35563 (100.0%) in 1.87 min. Users per second: 317\n",
      "ScaledPureSVDRecommender: Computing SVD decomposition...\n",
      "ScaledPureSVDRecommender: Computing SVD decomposition... done in 1.26 min\n",
      "EvaluatorHoldout: Ignoring 163 ( 0.5%) Users that have less than 1 test interactions\n",
      "EvaluatorHoldout: Processed 35573 (100.0%) in 1.88 min. Users per second: 316\n",
      "ScaledPureSVDRecommender: Computing SVD decomposition...\n",
      "ScaledPureSVDRecommender: Computing SVD decomposition... done in 1.26 min\n",
      "EvaluatorHoldout: Ignoring 150 ( 0.4%) Users that have less than 1 test interactions\n",
      "EvaluatorHoldout: Processed 35586 (100.0%) in 1.86 min. Users per second: 319\n",
      "ScaledPureSVDRecommender: Computing SVD decomposition...\n",
      "ScaledPureSVDRecommender: Computing SVD decomposition... done in 1.26 min\n",
      "EvaluatorHoldout: Ignoring 167 ( 0.5%) Users that have less than 1 test interactions\n",
      "EvaluatorHoldout: Processed 35569 (100.0%) in 1.87 min. Users per second: 317\n",
      "ScaledPureSVDRecommender: Computing SVD decomposition...\n",
      "ScaledPureSVDRecommender: Computing SVD decomposition... done in 1.22 min\n",
      "EvaluatorHoldout: Ignoring 172 ( 0.5%) Users that have less than 1 test interactions\n",
      "EvaluatorHoldout: Processed 35564 (100.0%) in 1.86 min. Users per second: 319\n"
     ]
    },
    {
     "name": "stderr",
     "output_type": "stream",
     "text": [
      "[I 2025-01-05 18:14:32,629] Trial 39 finished with value: 0.03611661867808101 and parameters: {'num_factors': 882, 'scaling_items': 0.022349089638774265, 'scaling_users': 0.014108179368975649}. Best is trial 39 with value: 0.03611661867808101.\n"
     ]
    },
    {
     "name": "stdout",
     "output_type": "stream",
     "text": [
      "ScaledPureSVDRecommender: Computing SVD decomposition...\n",
      "ScaledPureSVDRecommender: Computing SVD decomposition... done in 1.54 min\n",
      "EvaluatorHoldout: Ignoring 173 ( 0.5%) Users that have less than 1 test interactions\n",
      "EvaluatorHoldout: Processed 35563 (100.0%) in 2.11 min. Users per second: 281\n",
      "ScaledPureSVDRecommender: Computing SVD decomposition...\n",
      "ScaledPureSVDRecommender: Computing SVD decomposition... done in 1.53 min\n",
      "EvaluatorHoldout: Ignoring 163 ( 0.5%) Users that have less than 1 test interactions\n",
      "EvaluatorHoldout: Processed 35573 (100.0%) in 2.14 min. Users per second: 277\n",
      "ScaledPureSVDRecommender: Computing SVD decomposition...\n",
      "ScaledPureSVDRecommender: Computing SVD decomposition... done in 1.51 min\n",
      "EvaluatorHoldout: Ignoring 150 ( 0.4%) Users that have less than 1 test interactions\n",
      "EvaluatorHoldout: Processed 35586 (100.0%) in 2.10 min. Users per second: 282\n",
      "ScaledPureSVDRecommender: Computing SVD decomposition...\n",
      "ScaledPureSVDRecommender: Computing SVD decomposition... done in 1.53 min\n",
      "EvaluatorHoldout: Ignoring 167 ( 0.5%) Users that have less than 1 test interactions\n",
      "EvaluatorHoldout: Processed 35569 (100.0%) in 2.11 min. Users per second: 281\n",
      "ScaledPureSVDRecommender: Computing SVD decomposition...\n",
      "ScaledPureSVDRecommender: Computing SVD decomposition... done in 1.51 min\n",
      "EvaluatorHoldout: Ignoring 172 ( 0.5%) Users that have less than 1 test interactions\n",
      "EvaluatorHoldout: Processed 35564 (100.0%) in 2.11 min. Users per second: 280\n"
     ]
    },
    {
     "name": "stderr",
     "output_type": "stream",
     "text": [
      "[I 2025-01-05 18:32:45,766] Trial 40 finished with value: 0.036741060665780846 and parameters: {'num_factors': 1056, 'scaling_items': 0.022960048618530734, 'scaling_users': 0.0659323836078526}. Best is trial 40 with value: 0.036741060665780846.\n"
     ]
    },
    {
     "name": "stdout",
     "output_type": "stream",
     "text": [
      "ScaledPureSVDRecommender: Computing SVD decomposition...\n",
      "ScaledPureSVDRecommender: Computing SVD decomposition... done in 1.35 min\n",
      "EvaluatorHoldout: Ignoring 173 ( 0.5%) Users that have less than 1 test interactions\n",
      "EvaluatorHoldout: Processed 35563 (100.0%) in 2.00 min. Users per second: 297\n",
      "ScaledPureSVDRecommender: Computing SVD decomposition...\n",
      "ScaledPureSVDRecommender: Computing SVD decomposition... done in 1.35 min\n",
      "EvaluatorHoldout: Ignoring 163 ( 0.5%) Users that have less than 1 test interactions\n",
      "EvaluatorHoldout: Processed 35573 (100.0%) in 2.00 min. Users per second: 297\n",
      "ScaledPureSVDRecommender: Computing SVD decomposition...\n",
      "ScaledPureSVDRecommender: Computing SVD decomposition... done in 1.35 min\n",
      "EvaluatorHoldout: Ignoring 150 ( 0.4%) Users that have less than 1 test interactions\n",
      "EvaluatorHoldout: Processed 35586 (100.0%) in 1.98 min. Users per second: 299\n",
      "ScaledPureSVDRecommender: Computing SVD decomposition...\n",
      "ScaledPureSVDRecommender: Computing SVD decomposition... done in 1.40 min\n",
      "EvaluatorHoldout: Ignoring 167 ( 0.5%) Users that have less than 1 test interactions\n",
      "EvaluatorHoldout: Processed 35569 (100.0%) in 2.00 min. Users per second: 297\n",
      "ScaledPureSVDRecommender: Computing SVD decomposition...\n",
      "ScaledPureSVDRecommender: Computing SVD decomposition... done in 1.39 min\n",
      "EvaluatorHoldout: Ignoring 172 ( 0.5%) Users that have less than 1 test interactions\n",
      "EvaluatorHoldout: Processed 35564 (100.0%) in 2.00 min. Users per second: 296\n"
     ]
    },
    {
     "name": "stderr",
     "output_type": "stream",
     "text": [
      "[I 2025-01-05 18:49:35,210] Trial 41 finished with value: 0.03682417368585797 and parameters: {'num_factors': 983, 'scaling_items': 0.02252763701523418, 'scaling_users': 0.01492612670935785}. Best is trial 41 with value: 0.03682417368585797.\n"
     ]
    },
    {
     "name": "stdout",
     "output_type": "stream",
     "text": [
      "ScaledPureSVDRecommender: Computing SVD decomposition...\n",
      "ScaledPureSVDRecommender: Computing SVD decomposition... done in 1.50 min\n",
      "EvaluatorHoldout: Ignoring 173 ( 0.5%) Users that have less than 1 test interactions\n",
      "EvaluatorHoldout: Processed 35563 (100.0%) in 2.10 min. Users per second: 282\n",
      "ScaledPureSVDRecommender: Computing SVD decomposition...\n",
      "ScaledPureSVDRecommender: Computing SVD decomposition... done in 1.51 min\n",
      "EvaluatorHoldout: Ignoring 163 ( 0.5%) Users that have less than 1 test interactions\n",
      "EvaluatorHoldout: Processed 35573 (100.0%) in 2.10 min. Users per second: 282\n",
      "ScaledPureSVDRecommender: Computing SVD decomposition...\n",
      "ScaledPureSVDRecommender: Computing SVD decomposition... done in 1.55 min\n",
      "EvaluatorHoldout: Ignoring 150 ( 0.4%) Users that have less than 1 test interactions\n",
      "EvaluatorHoldout: Processed 35586 (100.0%) in 2.16 min. Users per second: 274\n",
      "ScaledPureSVDRecommender: Computing SVD decomposition...\n",
      "ScaledPureSVDRecommender: Computing SVD decomposition... done in 1.57 min\n",
      "EvaluatorHoldout: Ignoring 167 ( 0.5%) Users that have less than 1 test interactions\n",
      "EvaluatorHoldout: Processed 35569 (100.0%) in 2.13 min. Users per second: 278\n",
      "ScaledPureSVDRecommender: Computing SVD decomposition...\n",
      "ScaledPureSVDRecommender: Computing SVD decomposition... done in 1.52 min\n",
      "EvaluatorHoldout: Ignoring 172 ( 0.5%) Users that have less than 1 test interactions\n",
      "EvaluatorHoldout: Processed 35564 (100.0%) in 2.11 min. Users per second: 280\n"
     ]
    },
    {
     "name": "stderr",
     "output_type": "stream",
     "text": [
      "[I 2025-01-05 19:07:52,140] Trial 42 finished with value: 0.03604077143431082 and parameters: {'num_factors': 1069, 'scaling_items': 0.023093030879129776, 'scaling_users': 0.1328950225466458}. Best is trial 41 with value: 0.03682417368585797.\n"
     ]
    },
    {
     "name": "stdout",
     "output_type": "stream",
     "text": [
      "ScaledPureSVDRecommender: Computing SVD decomposition...\n",
      "ScaledPureSVDRecommender: Computing SVD decomposition... done in 1.48 min\n",
      "EvaluatorHoldout: Ignoring 173 ( 0.5%) Users that have less than 1 test interactions\n",
      "EvaluatorHoldout: Processed 35563 (100.0%) in 2.08 min. Users per second: 286\n",
      "ScaledPureSVDRecommender: Computing SVD decomposition...\n",
      "ScaledPureSVDRecommender: Computing SVD decomposition... done in 1.49 min\n",
      "EvaluatorHoldout: Ignoring 163 ( 0.5%) Users that have less than 1 test interactions\n",
      "EvaluatorHoldout: Processed 35573 (100.0%) in 2.08 min. Users per second: 285\n",
      "ScaledPureSVDRecommender: Computing SVD decomposition...\n",
      "ScaledPureSVDRecommender: Computing SVD decomposition... done in 1.46 min\n",
      "EvaluatorHoldout: Ignoring 150 ( 0.4%) Users that have less than 1 test interactions\n",
      "EvaluatorHoldout: Processed 35586 (100.0%) in 2.07 min. Users per second: 287\n",
      "ScaledPureSVDRecommender: Computing SVD decomposition...\n",
      "ScaledPureSVDRecommender: Computing SVD decomposition... done in 1.50 min\n",
      "EvaluatorHoldout: Ignoring 167 ( 0.5%) Users that have less than 1 test interactions\n",
      "EvaluatorHoldout: Processed 35569 (100.0%) in 2.07 min. Users per second: 287\n",
      "ScaledPureSVDRecommender: Computing SVD decomposition...\n",
      "ScaledPureSVDRecommender: Computing SVD decomposition... done in 1.42 min\n",
      "EvaluatorHoldout: Ignoring 172 ( 0.5%) Users that have less than 1 test interactions\n",
      "EvaluatorHoldout: Processed 35564 (100.0%) in 2.06 min. Users per second: 288\n"
     ]
    },
    {
     "name": "stderr",
     "output_type": "stream",
     "text": [
      "[I 2025-01-05 19:25:34,934] Trial 43 finished with value: 0.035994724823370926 and parameters: {'num_factors': 1029, 'scaling_items': 0.01476378422454059, 'scaling_users': 0.1281281377324726}. Best is trial 41 with value: 0.03682417368585797.\n"
     ]
    },
    {
     "name": "stdout",
     "output_type": "stream",
     "text": [
      "ScaledPureSVDRecommender: Computing SVD decomposition...\n",
      "ScaledPureSVDRecommender: Computing SVD decomposition... done in 1.55 min\n",
      "EvaluatorHoldout: Ignoring 173 ( 0.5%) Users that have less than 1 test interactions\n",
      "EvaluatorHoldout: Processed 35563 (100.0%) in 2.11 min. Users per second: 282\n",
      "ScaledPureSVDRecommender: Computing SVD decomposition...\n",
      "ScaledPureSVDRecommender: Computing SVD decomposition... done in 1.59 min\n",
      "EvaluatorHoldout: Ignoring 163 ( 0.5%) Users that have less than 1 test interactions\n",
      "EvaluatorHoldout: Processed 35573 (100.0%) in 2.13 min. Users per second: 278\n",
      "ScaledPureSVDRecommender: Computing SVD decomposition...\n",
      "ScaledPureSVDRecommender: Computing SVD decomposition... done in 1.58 min\n",
      "EvaluatorHoldout: Ignoring 150 ( 0.4%) Users that have less than 1 test interactions\n",
      "EvaluatorHoldout: Processed 35586 (100.0%) in 2.20 min. Users per second: 270\n",
      "ScaledPureSVDRecommender: Computing SVD decomposition...\n",
      "ScaledPureSVDRecommender: Computing SVD decomposition... done in 1.52 min\n",
      "EvaluatorHoldout: Ignoring 167 ( 0.5%) Users that have less than 1 test interactions\n",
      "EvaluatorHoldout: Processed 35569 (100.0%) in 2.14 min. Users per second: 277\n",
      "ScaledPureSVDRecommender: Computing SVD decomposition...\n",
      "ScaledPureSVDRecommender: Computing SVD decomposition... done in 1.54 min\n",
      "EvaluatorHoldout: Ignoring 172 ( 0.5%) Users that have less than 1 test interactions\n",
      "EvaluatorHoldout: Processed 35564 (100.0%) in 2.10 min. Users per second: 282\n"
     ]
    },
    {
     "name": "stderr",
     "output_type": "stream",
     "text": [
      "[I 2025-01-05 19:44:03,376] Trial 44 finished with value: 0.035932884681290356 and parameters: {'num_factors': 1071, 'scaling_items': 0.01452082108180358, 'scaling_users': 0.1589271772058308}. Best is trial 41 with value: 0.03682417368585797.\n"
     ]
    },
    {
     "name": "stdout",
     "output_type": "stream",
     "text": [
      "ScaledPureSVDRecommender: Computing SVD decomposition...\n",
      "ScaledPureSVDRecommender: Computing SVD decomposition... done in 31.53 sec\n",
      "EvaluatorHoldout: Ignoring 173 ( 0.5%) Users that have less than 1 test interactions\n",
      "EvaluatorHoldout: Processed 35563 (100.0%) in 1.19 min. Users per second: 499\n",
      "ScaledPureSVDRecommender: Computing SVD decomposition...\n",
      "ScaledPureSVDRecommender: Computing SVD decomposition... done in 31.20 sec\n",
      "EvaluatorHoldout: Ignoring 163 ( 0.5%) Users that have less than 1 test interactions\n",
      "EvaluatorHoldout: Processed 35573 (100.0%) in 1.18 min. Users per second: 504\n",
      "ScaledPureSVDRecommender: Computing SVD decomposition...\n",
      "ScaledPureSVDRecommender: Computing SVD decomposition... done in 32.13 sec\n",
      "EvaluatorHoldout: Ignoring 150 ( 0.4%) Users that have less than 1 test interactions\n",
      "EvaluatorHoldout: Processed 35586 (100.0%) in 1.18 min. Users per second: 501\n",
      "ScaledPureSVDRecommender: Computing SVD decomposition...\n",
      "ScaledPureSVDRecommender: Computing SVD decomposition... done in 31.46 sec\n",
      "EvaluatorHoldout: Ignoring 167 ( 0.5%) Users that have less than 1 test interactions\n",
      "EvaluatorHoldout: Processed 35569 (100.0%) in 1.18 min. Users per second: 504\n",
      "ScaledPureSVDRecommender: Computing SVD decomposition...\n",
      "ScaledPureSVDRecommender: Computing SVD decomposition... done in 31.37 sec\n",
      "EvaluatorHoldout: Ignoring 172 ( 0.5%) Users that have less than 1 test interactions\n",
      "EvaluatorHoldout: Processed 35564 (100.0%) in 1.17 min. Users per second: 505\n"
     ]
    },
    {
     "name": "stderr",
     "output_type": "stream",
     "text": [
      "[I 2025-01-05 19:52:35,772] Trial 45 finished with value: 0.02973130765459414 and parameters: {'num_factors': 424, 'scaling_items': 0.020623750172124488, 'scaling_users': 0.12769126231370645}. Best is trial 41 with value: 0.03682417368585797.\n"
     ]
    },
    {
     "name": "stdout",
     "output_type": "stream",
     "text": [
      "ScaledPureSVDRecommender: Computing SVD decomposition...\n",
      "ScaledPureSVDRecommender: Computing SVD decomposition... done in 1.53 min\n",
      "EvaluatorHoldout: Ignoring 173 ( 0.5%) Users that have less than 1 test interactions\n",
      "EvaluatorHoldout: Processed 35563 (100.0%) in 2.10 min. Users per second: 282\n",
      "ScaledPureSVDRecommender: Computing SVD decomposition...\n",
      "ScaledPureSVDRecommender: Computing SVD decomposition... done in 1.51 min\n",
      "EvaluatorHoldout: Ignoring 163 ( 0.5%) Users that have less than 1 test interactions\n",
      "EvaluatorHoldout: Processed 35573 (100.0%) in 2.08 min. Users per second: 285\n",
      "ScaledPureSVDRecommender: Computing SVD decomposition...\n",
      "ScaledPureSVDRecommender: Computing SVD decomposition... done in 1.52 min\n",
      "EvaluatorHoldout: Ignoring 150 ( 0.4%) Users that have less than 1 test interactions\n",
      "EvaluatorHoldout: Processed 35586 (100.0%) in 2.13 min. Users per second: 278\n",
      "ScaledPureSVDRecommender: Computing SVD decomposition...\n",
      "ScaledPureSVDRecommender: Computing SVD decomposition... done in 1.59 min\n",
      "EvaluatorHoldout: Ignoring 167 ( 0.5%) Users that have less than 1 test interactions\n",
      "EvaluatorHoldout: Processed 35569 (100.0%) in 2.11 min. Users per second: 280\n",
      "ScaledPureSVDRecommender: Computing SVD decomposition...\n",
      "ScaledPureSVDRecommender: Computing SVD decomposition... done in 1.57 min\n",
      "EvaluatorHoldout: Ignoring 172 ( 0.5%) Users that have less than 1 test interactions\n",
      "EvaluatorHoldout: Processed 35564 (100.0%) in 2.19 min. Users per second: 270\n"
     ]
    },
    {
     "name": "stderr",
     "output_type": "stream",
     "text": [
      "[I 2025-01-05 20:10:56,788] Trial 46 finished with value: 0.03699934341616755 and parameters: {'num_factors': 1058, 'scaling_items': 0.011358252879745574, 'scaling_users': 0.06848055117020743}. Best is trial 46 with value: 0.03699934341616755.\n"
     ]
    },
    {
     "name": "stdout",
     "output_type": "stream",
     "text": [
      "ScaledPureSVDRecommender: Computing SVD decomposition...\n",
      "ScaledPureSVDRecommender: Computing SVD decomposition... done in 25.33 sec\n",
      "EvaluatorHoldout: Ignoring 173 ( 0.5%) Users that have less than 1 test interactions\n",
      "EvaluatorHoldout: Processed 35563 (100.0%) in 1.07 min. Users per second: 556\n",
      "ScaledPureSVDRecommender: Computing SVD decomposition...\n",
      "ScaledPureSVDRecommender: Computing SVD decomposition... done in 25.48 sec\n",
      "EvaluatorHoldout: Ignoring 163 ( 0.5%) Users that have less than 1 test interactions\n",
      "EvaluatorHoldout: Processed 35573 (100.0%) in 1.07 min. Users per second: 552\n",
      "ScaledPureSVDRecommender: Computing SVD decomposition...\n",
      "ScaledPureSVDRecommender: Computing SVD decomposition... done in 24.74 sec\n",
      "EvaluatorHoldout: Ignoring 150 ( 0.4%) Users that have less than 1 test interactions\n",
      "EvaluatorHoldout: Processed 35586 (100.0%) in 1.07 min. Users per second: 554\n",
      "ScaledPureSVDRecommender: Computing SVD decomposition...\n",
      "ScaledPureSVDRecommender: Computing SVD decomposition... done in 24.87 sec\n",
      "EvaluatorHoldout: Ignoring 167 ( 0.5%) Users that have less than 1 test interactions\n",
      "EvaluatorHoldout: Processed 35569 (100.0%) in 1.07 min. Users per second: 555\n",
      "ScaledPureSVDRecommender: Computing SVD decomposition...\n",
      "ScaledPureSVDRecommender: Computing SVD decomposition... done in 25.10 sec\n",
      "EvaluatorHoldout: Ignoring 172 ( 0.5%) Users that have less than 1 test interactions\n",
      "EvaluatorHoldout: Processed 35564 (100.0%) in 1.07 min. Users per second: 554\n"
     ]
    },
    {
     "name": "stderr",
     "output_type": "stream",
     "text": [
      "[I 2025-01-05 20:18:24,087] Trial 47 finished with value: 0.02899451100673976 and parameters: {'num_factors': 334, 'scaling_items': 0.010215067653437875, 'scaling_users': 0.0754131233768062}. Best is trial 46 with value: 0.03699934341616755.\n"
     ]
    },
    {
     "name": "stdout",
     "output_type": "stream",
     "text": [
      "ScaledPureSVDRecommender: Computing SVD decomposition...\n",
      "ScaledPureSVDRecommender: Computing SVD decomposition... done in 14.29 sec\n",
      "EvaluatorHoldout: Ignoring 173 ( 0.5%) Users that have less than 1 test interactions\n",
      "EvaluatorHoldout: Processed 35563 (100.0%) in 52.84 sec. Users per second: 673\n",
      "ScaledPureSVDRecommender: Computing SVD decomposition...\n",
      "ScaledPureSVDRecommender: Computing SVD decomposition... done in 16.98 sec\n",
      "EvaluatorHoldout: Ignoring 163 ( 0.5%) Users that have less than 1 test interactions\n",
      "EvaluatorHoldout: Processed 35573 (100.0%) in 52.97 sec. Users per second: 672\n",
      "ScaledPureSVDRecommender: Computing SVD decomposition...\n",
      "ScaledPureSVDRecommender: Computing SVD decomposition... done in 15.21 sec\n",
      "EvaluatorHoldout: Ignoring 150 ( 0.4%) Users that have less than 1 test interactions\n",
      "EvaluatorHoldout: Processed 35586 (100.0%) in 53.02 sec. Users per second: 671\n",
      "ScaledPureSVDRecommender: Computing SVD decomposition...\n",
      "ScaledPureSVDRecommender: Computing SVD decomposition... done in 15.05 sec\n",
      "EvaluatorHoldout: Ignoring 167 ( 0.5%) Users that have less than 1 test interactions\n",
      "EvaluatorHoldout: Processed 35569 (100.0%) in 51.78 sec. Users per second: 687\n",
      "ScaledPureSVDRecommender: Computing SVD decomposition...\n",
      "ScaledPureSVDRecommender: Computing SVD decomposition... done in 14.75 sec\n",
      "EvaluatorHoldout: Ignoring 172 ( 0.5%) Users that have less than 1 test interactions\n",
      "EvaluatorHoldout: Processed 35564 (100.0%) in 52.03 sec. Users per second: 683\n"
     ]
    },
    {
     "name": "stderr",
     "output_type": "stream",
     "text": [
      "[I 2025-01-05 20:24:03,790] Trial 48 finished with value: 0.022422861179835548 and parameters: {'num_factors': 195, 'scaling_items': 0.020657461817122903, 'scaling_users': 0.19696534147656983}. Best is trial 46 with value: 0.03699934341616755.\n"
     ]
    },
    {
     "name": "stdout",
     "output_type": "stream",
     "text": [
      "ScaledPureSVDRecommender: Computing SVD decomposition...\n",
      "ScaledPureSVDRecommender: Computing SVD decomposition... done in 1.57 min\n",
      "EvaluatorHoldout: Ignoring 173 ( 0.5%) Users that have less than 1 test interactions\n",
      "EvaluatorHoldout: Processed 35563 (100.0%) in 2.23 min. Users per second: 265\n",
      "ScaledPureSVDRecommender: Computing SVD decomposition...\n",
      "ScaledPureSVDRecommender: Computing SVD decomposition... done in 1.55 min\n",
      "EvaluatorHoldout: Ignoring 163 ( 0.5%) Users that have less than 1 test interactions\n",
      "EvaluatorHoldout: Processed 35573 (100.0%) in 2.19 min. Users per second: 270\n",
      "ScaledPureSVDRecommender: Computing SVD decomposition...\n",
      "ScaledPureSVDRecommender: Computing SVD decomposition... done in 1.56 min\n",
      "EvaluatorHoldout: Ignoring 150 ( 0.4%) Users that have less than 1 test interactions\n",
      "EvaluatorHoldout: Processed 35586 (100.0%) in 2.19 min. Users per second: 270\n",
      "ScaledPureSVDRecommender: Computing SVD decomposition...\n",
      "ScaledPureSVDRecommender: Computing SVD decomposition... done in 1.56 min\n",
      "EvaluatorHoldout: Ignoring 167 ( 0.5%) Users that have less than 1 test interactions\n",
      "EvaluatorHoldout: Processed 35569 (100.0%) in 2.14 min. Users per second: 278\n",
      "ScaledPureSVDRecommender: Computing SVD decomposition...\n",
      "ScaledPureSVDRecommender: Computing SVD decomposition... done in 1.58 min\n",
      "EvaluatorHoldout: Ignoring 172 ( 0.5%) Users that have less than 1 test interactions\n",
      "EvaluatorHoldout: Processed 35564 (100.0%) in 2.14 min. Users per second: 277\n"
     ]
    },
    {
     "name": "stderr",
     "output_type": "stream",
     "text": [
      "[I 2025-01-05 20:42:47,701] Trial 49 finished with value: 0.029101180043909724 and parameters: {'num_factors': 1089, 'scaling_items': 0.012508623971645, 'scaling_users': 0.694091456002227}. Best is trial 46 with value: 0.03699934341616755.\n"
     ]
    }
   ],
   "source": [
    "if config['tune_parameters']:\n",
    "    \n",
    "    optuna_study = optuna.create_study(direction='maximize', study_name=f'hyperparameters_tuning_{config[\"model\"]}_{config[\"metric\"]}',\n",
    "                                storage=f'sqlite:///{config[\"database_path\"]}', load_if_exists=True)\n",
    "\n",
    "    optuna_study.optimize(objective_function_ScaledPureSVD, n_trials=30)"
   ]
  },
  {
   "cell_type": "markdown",
   "id": "ccf2102b",
   "metadata": {
    "papermill": {
     "duration": 0.036967,
     "end_time": "2025-01-05T20:42:47.786446",
     "exception": false,
     "start_time": "2025-01-05T20:42:47.749479",
     "status": "completed"
    },
    "tags": []
   },
   "source": [
    "## Some optuna visualizations on recommender parameters"
   ]
  },
  {
   "cell_type": "code",
   "execution_count": 14,
   "id": "d0314b96",
   "metadata": {
    "execution": {
     "iopub.execute_input": "2025-01-05T20:42:47.907807Z",
     "iopub.status.busy": "2025-01-05T20:42:47.907328Z",
     "iopub.status.idle": "2025-01-05T20:42:49.515151Z",
     "shell.execute_reply": "2025-01-05T20:42:49.514056Z"
    },
    "papermill": {
     "duration": 1.678955,
     "end_time": "2025-01-05T20:42:49.516941",
     "exception": false,
     "start_time": "2025-01-05T20:42:47.837986",
     "status": "completed"
    },
    "tags": []
   },
   "outputs": [
    {
     "data": {
      "text/html": [
       "<html>\n",
       "<head><meta charset=\"utf-8\" /></head>\n",
       "<body>\n",
       "    <div>            <script src=\"https://cdnjs.cloudflare.com/ajax/libs/mathjax/2.7.5/MathJax.js?config=TeX-AMS-MML_SVG\"></script><script type=\"text/javascript\">if (window.MathJax && window.MathJax.Hub && window.MathJax.Hub.Config) {window.MathJax.Hub.Config({SVG: {font: \"STIX-Web\"}});}</script>                <script type=\"text/javascript\">window.PlotlyConfig = {MathJaxConfig: 'local'};</script>\n",
       "        <script charset=\"utf-8\" src=\"https://cdn.plot.ly/plotly-2.35.2.min.js\"></script>                <div id=\"6e1d0823-920a-41ef-a3b5-ad54f990ac60\" class=\"plotly-graph-div\" style=\"height:525px; width:100%;\"></div>            <script type=\"text/javascript\">                                    window.PLOTLYENV=window.PLOTLYENV || {};                                    if (document.getElementById(\"6e1d0823-920a-41ef-a3b5-ad54f990ac60\")) {                    Plotly.newPlot(                        \"6e1d0823-920a-41ef-a3b5-ad54f990ac60\",                        [{\"marker\":{\"color\":[0,1,2,3,4,5,6,7,8,9,10,11,12,13,14,15,16,17,18,19,20,21,22,23,24,25,26,27,28,29,30,31,32,33,34,35,36,37,38,39,40,41,42,43,44,45,46,47,48,49],\"colorbar\":{\"title\":{\"text\":\"Trial\"},\"x\":1.0,\"xpad\":40},\"colorscale\":[[0.0,\"rgb(247,251,255)\"],[0.125,\"rgb(222,235,247)\"],[0.25,\"rgb(198,219,239)\"],[0.375,\"rgb(158,202,225)\"],[0.5,\"rgb(107,174,214)\"],[0.625,\"rgb(66,146,198)\"],[0.75,\"rgb(33,113,181)\"],[0.875,\"rgb(8,81,156)\"],[1.0,\"rgb(8,48,107)\"]],\"line\":{\"color\":\"Grey\",\"width\":0.5},\"showscale\":true},\"mode\":\"markers\",\"name\":\"Feasible Trial\",\"showlegend\":false,\"x\":[41,6,2,137,7,20,1,1,1106,1,366,242,228,260,1522,1787,1768,760,74,641,1247,1255,1873,480,807,117,740,685,718,27,61,693,434,147,587,284,11,3,145,882,1056,983,1069,1029,1071,424,1058,334,195,1089],\"y\":[0.007138301506590852,0.004995323826639392,0.0007283453813908277,0.021462698361031745,0.006493834972167723,0.011123684924482354,0.0009230412911014413,0.0023156165793570883,0.01416471597584081,0.0009638189351730767,0.024214711241833314,0.021247008901816,0.0201480518216365,0.02277538495896412,0.03217330506858227,0.029198820675572185,0.02633523163912769,0.02499016269242512,0.006626672202153341,0.016767390517934938,0.029143548373414728,0.031177530979560976,0.03291997864697201,0.02622349664370243,0.033366822064820056,0.020359152727334635,0.03401375422913715,0.03377093184749998,0.034058903828334076,0.01320252718610213,0.017095413450646114,0.0345890422492219,0.031334513314914506,0.023110175534543354,0.03318860344239326,0.027397395283723026,0.008177181752265603,0.005038427149014339,0.009355898490289071,0.03611661867808101,0.036741060665780846,0.03682417368585797,0.03604077143431082,0.035994724823370926,0.035932884681290356,0.02973130765459414,0.03699934341616755,0.02899451100673976,0.022422861179835548,0.029101180043909724],\"type\":\"scatter\",\"xaxis\":\"x\",\"yaxis\":\"y\"},{\"marker\":{\"color\":[0,1,2,3,4,5,6,7,8,9,10,11,12,13,14,15,16,17,18,19,20,21,22,23,24,25,26,27,28,29,30,31,32,33,34,35,36,37,38,39,40,41,42,43,44,45,46,47,48,49],\"colorbar\":{\"title\":{\"text\":\"Trial\"},\"x\":1.0,\"xpad\":40},\"colorscale\":[[0.0,\"rgb(247,251,255)\"],[0.125,\"rgb(222,235,247)\"],[0.25,\"rgb(198,219,239)\"],[0.375,\"rgb(158,202,225)\"],[0.5,\"rgb(107,174,214)\"],[0.625,\"rgb(66,146,198)\"],[0.75,\"rgb(33,113,181)\"],[0.875,\"rgb(8,81,156)\"],[1.0,\"rgb(8,48,107)\"]],\"line\":{\"color\":\"Grey\",\"width\":0.5},\"showscale\":false},\"mode\":\"markers\",\"name\":\"Feasible Trial\",\"showlegend\":false,\"x\":[0.09202742716266923,0.868393617506134,0.02061939864679692,0.01629082741114409,0.3736530922004886,0.01281183095889387,0.04363666413112088,0.010043453604647666,1.6412757228533665,0.012031348797843894,0.13796320017043617,0.18128170681376365,0.04432893169203986,0.21448372725333556,0.2780136672599498,0.4516495058544892,0.6053547634338963,0.4219081432719116,1.774345462839338,0.9566005082326594,0.365907052857316,0.2795419608325479,0.29108884480967073,0.2510439875798354,0.1068672553664196,0.09932152264137764,0.06277927627308437,0.051897690716315566,0.05402301522999003,0.05362794308097185,0.06461260632388367,0.025661787995754082,0.027644549507346912,0.026353685544624982,0.032845929618108026,0.0668152258555104,0.018144352277502263,0.07756528619528423,0.038000011797896915,0.022349089638774265,0.022960048618530734,0.02252763701523418,0.023093030879129776,0.01476378422454059,0.01452082108180358,0.020623750172124488,0.011358252879745574,0.010215067653437875,0.020657461817122903,0.012508623971645],\"y\":[0.007138301506590852,0.004995323826639392,0.0007283453813908277,0.021462698361031745,0.006493834972167723,0.011123684924482354,0.0009230412911014413,0.0023156165793570883,0.01416471597584081,0.0009638189351730767,0.024214711241833314,0.021247008901816,0.0201480518216365,0.02277538495896412,0.03217330506858227,0.029198820675572185,0.02633523163912769,0.02499016269242512,0.006626672202153341,0.016767390517934938,0.029143548373414728,0.031177530979560976,0.03291997864697201,0.02622349664370243,0.033366822064820056,0.020359152727334635,0.03401375422913715,0.03377093184749998,0.034058903828334076,0.01320252718610213,0.017095413450646114,0.0345890422492219,0.031334513314914506,0.023110175534543354,0.03318860344239326,0.027397395283723026,0.008177181752265603,0.005038427149014339,0.009355898490289071,0.03611661867808101,0.036741060665780846,0.03682417368585797,0.03604077143431082,0.035994724823370926,0.035932884681290356,0.02973130765459414,0.03699934341616755,0.02899451100673976,0.022422861179835548,0.029101180043909724],\"type\":\"scatter\",\"xaxis\":\"x2\",\"yaxis\":\"y2\"},{\"marker\":{\"color\":[0,1,2,3,4,5,6,7,8,9,10,11,12,13,14,15,16,17,18,19,20,21,22,23,24,25,26,27,28,29,30,31,32,33,34,35,36,37,38,39,40,41,42,43,44,45,46,47,48,49],\"colorbar\":{\"title\":{\"text\":\"Trial\"},\"x\":1.0,\"xpad\":40},\"colorscale\":[[0.0,\"rgb(247,251,255)\"],[0.125,\"rgb(222,235,247)\"],[0.25,\"rgb(198,219,239)\"],[0.375,\"rgb(158,202,225)\"],[0.5,\"rgb(107,174,214)\"],[0.625,\"rgb(66,146,198)\"],[0.75,\"rgb(33,113,181)\"],[0.875,\"rgb(8,81,156)\"],[1.0,\"rgb(8,48,107)\"]],\"line\":{\"color\":\"Grey\",\"width\":0.5},\"showscale\":false},\"mode\":\"markers\",\"name\":\"Feasible Trial\",\"showlegend\":false,\"x\":[1.1601875260504637,0.016890764356669752,1.309899141112828,0.11867455348280095,0.02749832611061046,0.08017910325832754,0.8683080791947823,0.02709470253146698,0.09118264766133041,0.20034461016814362,0.3171898960708655,0.3033784380501289,0.4143972159468795,0.0845596855823325,0.0465564572928155,0.03849816418295613,0.04713046244579731,0.012489329398582693,0.04781739050513421,0.02738046317945312,0.0567771082719638,0.04536382719589303,0.019467884035811626,0.010071126525594647,0.017462803648256905,0.0203845103051869,0.01646737054990977,0.01718808139075456,0.013943589332504358,0.011993171213784203,0.03067521192826745,0.015008622751071078,0.014023213395014928,0.016600413596585914,0.02141823128233032,0.010544774535610181,0.03406498739490553,0.023895873182147243,1.687593735367871,0.014108179368975649,0.0659323836078526,0.01492612670935785,0.1328950225466458,0.1281281377324726,0.1589271772058308,0.12769126231370645,0.06848055117020743,0.0754131233768062,0.19696534147656983,0.694091456002227],\"y\":[0.007138301506590852,0.004995323826639392,0.0007283453813908277,0.021462698361031745,0.006493834972167723,0.011123684924482354,0.0009230412911014413,0.0023156165793570883,0.01416471597584081,0.0009638189351730767,0.024214711241833314,0.021247008901816,0.0201480518216365,0.02277538495896412,0.03217330506858227,0.029198820675572185,0.02633523163912769,0.02499016269242512,0.006626672202153341,0.016767390517934938,0.029143548373414728,0.031177530979560976,0.03291997864697201,0.02622349664370243,0.033366822064820056,0.020359152727334635,0.03401375422913715,0.03377093184749998,0.034058903828334076,0.01320252718610213,0.017095413450646114,0.0345890422492219,0.031334513314914506,0.023110175534543354,0.03318860344239326,0.027397395283723026,0.008177181752265603,0.005038427149014339,0.009355898490289071,0.03611661867808101,0.036741060665780846,0.03682417368585797,0.03604077143431082,0.035994724823370926,0.035932884681290356,0.02973130765459414,0.03699934341616755,0.02899451100673976,0.022422861179835548,0.029101180043909724],\"type\":\"scatter\",\"xaxis\":\"x3\",\"yaxis\":\"y3\"}],                        {\"template\":{\"data\":{\"histogram2dcontour\":[{\"type\":\"histogram2dcontour\",\"colorbar\":{\"outlinewidth\":0,\"ticks\":\"\"},\"colorscale\":[[0.0,\"#0d0887\"],[0.1111111111111111,\"#46039f\"],[0.2222222222222222,\"#7201a8\"],[0.3333333333333333,\"#9c179e\"],[0.4444444444444444,\"#bd3786\"],[0.5555555555555556,\"#d8576b\"],[0.6666666666666666,\"#ed7953\"],[0.7777777777777778,\"#fb9f3a\"],[0.8888888888888888,\"#fdca26\"],[1.0,\"#f0f921\"]]}],\"choropleth\":[{\"type\":\"choropleth\",\"colorbar\":{\"outlinewidth\":0,\"ticks\":\"\"}}],\"histogram2d\":[{\"type\":\"histogram2d\",\"colorbar\":{\"outlinewidth\":0,\"ticks\":\"\"},\"colorscale\":[[0.0,\"#0d0887\"],[0.1111111111111111,\"#46039f\"],[0.2222222222222222,\"#7201a8\"],[0.3333333333333333,\"#9c179e\"],[0.4444444444444444,\"#bd3786\"],[0.5555555555555556,\"#d8576b\"],[0.6666666666666666,\"#ed7953\"],[0.7777777777777778,\"#fb9f3a\"],[0.8888888888888888,\"#fdca26\"],[1.0,\"#f0f921\"]]}],\"heatmap\":[{\"type\":\"heatmap\",\"colorbar\":{\"outlinewidth\":0,\"ticks\":\"\"},\"colorscale\":[[0.0,\"#0d0887\"],[0.1111111111111111,\"#46039f\"],[0.2222222222222222,\"#7201a8\"],[0.3333333333333333,\"#9c179e\"],[0.4444444444444444,\"#bd3786\"],[0.5555555555555556,\"#d8576b\"],[0.6666666666666666,\"#ed7953\"],[0.7777777777777778,\"#fb9f3a\"],[0.8888888888888888,\"#fdca26\"],[1.0,\"#f0f921\"]]}],\"heatmapgl\":[{\"type\":\"heatmapgl\",\"colorbar\":{\"outlinewidth\":0,\"ticks\":\"\"},\"colorscale\":[[0.0,\"#0d0887\"],[0.1111111111111111,\"#46039f\"],[0.2222222222222222,\"#7201a8\"],[0.3333333333333333,\"#9c179e\"],[0.4444444444444444,\"#bd3786\"],[0.5555555555555556,\"#d8576b\"],[0.6666666666666666,\"#ed7953\"],[0.7777777777777778,\"#fb9f3a\"],[0.8888888888888888,\"#fdca26\"],[1.0,\"#f0f921\"]]}],\"contourcarpet\":[{\"type\":\"contourcarpet\",\"colorbar\":{\"outlinewidth\":0,\"ticks\":\"\"}}],\"contour\":[{\"type\":\"contour\",\"colorbar\":{\"outlinewidth\":0,\"ticks\":\"\"},\"colorscale\":[[0.0,\"#0d0887\"],[0.1111111111111111,\"#46039f\"],[0.2222222222222222,\"#7201a8\"],[0.3333333333333333,\"#9c179e\"],[0.4444444444444444,\"#bd3786\"],[0.5555555555555556,\"#d8576b\"],[0.6666666666666666,\"#ed7953\"],[0.7777777777777778,\"#fb9f3a\"],[0.8888888888888888,\"#fdca26\"],[1.0,\"#f0f921\"]]}],\"surface\":[{\"type\":\"surface\",\"colorbar\":{\"outlinewidth\":0,\"ticks\":\"\"},\"colorscale\":[[0.0,\"#0d0887\"],[0.1111111111111111,\"#46039f\"],[0.2222222222222222,\"#7201a8\"],[0.3333333333333333,\"#9c179e\"],[0.4444444444444444,\"#bd3786\"],[0.5555555555555556,\"#d8576b\"],[0.6666666666666666,\"#ed7953\"],[0.7777777777777778,\"#fb9f3a\"],[0.8888888888888888,\"#fdca26\"],[1.0,\"#f0f921\"]]}],\"mesh3d\":[{\"type\":\"mesh3d\",\"colorbar\":{\"outlinewidth\":0,\"ticks\":\"\"}}],\"scatter\":[{\"fillpattern\":{\"fillmode\":\"overlay\",\"size\":10,\"solidity\":0.2},\"type\":\"scatter\"}],\"parcoords\":[{\"type\":\"parcoords\",\"line\":{\"colorbar\":{\"outlinewidth\":0,\"ticks\":\"\"}}}],\"scatterpolargl\":[{\"type\":\"scatterpolargl\",\"marker\":{\"colorbar\":{\"outlinewidth\":0,\"ticks\":\"\"}}}],\"bar\":[{\"error_x\":{\"color\":\"#2a3f5f\"},\"error_y\":{\"color\":\"#2a3f5f\"},\"marker\":{\"line\":{\"color\":\"#E5ECF6\",\"width\":0.5},\"pattern\":{\"fillmode\":\"overlay\",\"size\":10,\"solidity\":0.2}},\"type\":\"bar\"}],\"scattergeo\":[{\"type\":\"scattergeo\",\"marker\":{\"colorbar\":{\"outlinewidth\":0,\"ticks\":\"\"}}}],\"scatterpolar\":[{\"type\":\"scatterpolar\",\"marker\":{\"colorbar\":{\"outlinewidth\":0,\"ticks\":\"\"}}}],\"histogram\":[{\"marker\":{\"pattern\":{\"fillmode\":\"overlay\",\"size\":10,\"solidity\":0.2}},\"type\":\"histogram\"}],\"scattergl\":[{\"type\":\"scattergl\",\"marker\":{\"colorbar\":{\"outlinewidth\":0,\"ticks\":\"\"}}}],\"scatter3d\":[{\"type\":\"scatter3d\",\"line\":{\"colorbar\":{\"outlinewidth\":0,\"ticks\":\"\"}},\"marker\":{\"colorbar\":{\"outlinewidth\":0,\"ticks\":\"\"}}}],\"scattermapbox\":[{\"type\":\"scattermapbox\",\"marker\":{\"colorbar\":{\"outlinewidth\":0,\"ticks\":\"\"}}}],\"scatterternary\":[{\"type\":\"scatterternary\",\"marker\":{\"colorbar\":{\"outlinewidth\":0,\"ticks\":\"\"}}}],\"scattercarpet\":[{\"type\":\"scattercarpet\",\"marker\":{\"colorbar\":{\"outlinewidth\":0,\"ticks\":\"\"}}}],\"carpet\":[{\"aaxis\":{\"endlinecolor\":\"#2a3f5f\",\"gridcolor\":\"white\",\"linecolor\":\"white\",\"minorgridcolor\":\"white\",\"startlinecolor\":\"#2a3f5f\"},\"baxis\":{\"endlinecolor\":\"#2a3f5f\",\"gridcolor\":\"white\",\"linecolor\":\"white\",\"minorgridcolor\":\"white\",\"startlinecolor\":\"#2a3f5f\"},\"type\":\"carpet\"}],\"table\":[{\"cells\":{\"fill\":{\"color\":\"#EBF0F8\"},\"line\":{\"color\":\"white\"}},\"header\":{\"fill\":{\"color\":\"#C8D4E3\"},\"line\":{\"color\":\"white\"}},\"type\":\"table\"}],\"barpolar\":[{\"marker\":{\"line\":{\"color\":\"#E5ECF6\",\"width\":0.5},\"pattern\":{\"fillmode\":\"overlay\",\"size\":10,\"solidity\":0.2}},\"type\":\"barpolar\"}],\"pie\":[{\"automargin\":true,\"type\":\"pie\"}]},\"layout\":{\"autotypenumbers\":\"strict\",\"colorway\":[\"#636efa\",\"#EF553B\",\"#00cc96\",\"#ab63fa\",\"#FFA15A\",\"#19d3f3\",\"#FF6692\",\"#B6E880\",\"#FF97FF\",\"#FECB52\"],\"font\":{\"color\":\"#2a3f5f\"},\"hovermode\":\"closest\",\"hoverlabel\":{\"align\":\"left\"},\"paper_bgcolor\":\"white\",\"plot_bgcolor\":\"#E5ECF6\",\"polar\":{\"bgcolor\":\"#E5ECF6\",\"angularaxis\":{\"gridcolor\":\"white\",\"linecolor\":\"white\",\"ticks\":\"\"},\"radialaxis\":{\"gridcolor\":\"white\",\"linecolor\":\"white\",\"ticks\":\"\"}},\"ternary\":{\"bgcolor\":\"#E5ECF6\",\"aaxis\":{\"gridcolor\":\"white\",\"linecolor\":\"white\",\"ticks\":\"\"},\"baxis\":{\"gridcolor\":\"white\",\"linecolor\":\"white\",\"ticks\":\"\"},\"caxis\":{\"gridcolor\":\"white\",\"linecolor\":\"white\",\"ticks\":\"\"}},\"coloraxis\":{\"colorbar\":{\"outlinewidth\":0,\"ticks\":\"\"}},\"colorscale\":{\"sequential\":[[0.0,\"#0d0887\"],[0.1111111111111111,\"#46039f\"],[0.2222222222222222,\"#7201a8\"],[0.3333333333333333,\"#9c179e\"],[0.4444444444444444,\"#bd3786\"],[0.5555555555555556,\"#d8576b\"],[0.6666666666666666,\"#ed7953\"],[0.7777777777777778,\"#fb9f3a\"],[0.8888888888888888,\"#fdca26\"],[1.0,\"#f0f921\"]],\"sequentialminus\":[[0.0,\"#0d0887\"],[0.1111111111111111,\"#46039f\"],[0.2222222222222222,\"#7201a8\"],[0.3333333333333333,\"#9c179e\"],[0.4444444444444444,\"#bd3786\"],[0.5555555555555556,\"#d8576b\"],[0.6666666666666666,\"#ed7953\"],[0.7777777777777778,\"#fb9f3a\"],[0.8888888888888888,\"#fdca26\"],[1.0,\"#f0f921\"]],\"diverging\":[[0,\"#8e0152\"],[0.1,\"#c51b7d\"],[0.2,\"#de77ae\"],[0.3,\"#f1b6da\"],[0.4,\"#fde0ef\"],[0.5,\"#f7f7f7\"],[0.6,\"#e6f5d0\"],[0.7,\"#b8e186\"],[0.8,\"#7fbc41\"],[0.9,\"#4d9221\"],[1,\"#276419\"]]},\"xaxis\":{\"gridcolor\":\"white\",\"linecolor\":\"white\",\"ticks\":\"\",\"title\":{\"standoff\":15},\"zerolinecolor\":\"white\",\"automargin\":true,\"zerolinewidth\":2},\"yaxis\":{\"gridcolor\":\"white\",\"linecolor\":\"white\",\"ticks\":\"\",\"title\":{\"standoff\":15},\"zerolinecolor\":\"white\",\"automargin\":true,\"zerolinewidth\":2},\"scene\":{\"xaxis\":{\"backgroundcolor\":\"#E5ECF6\",\"gridcolor\":\"white\",\"linecolor\":\"white\",\"showbackground\":true,\"ticks\":\"\",\"zerolinecolor\":\"white\",\"gridwidth\":2},\"yaxis\":{\"backgroundcolor\":\"#E5ECF6\",\"gridcolor\":\"white\",\"linecolor\":\"white\",\"showbackground\":true,\"ticks\":\"\",\"zerolinecolor\":\"white\",\"gridwidth\":2},\"zaxis\":{\"backgroundcolor\":\"#E5ECF6\",\"gridcolor\":\"white\",\"linecolor\":\"white\",\"showbackground\":true,\"ticks\":\"\",\"zerolinecolor\":\"white\",\"gridwidth\":2}},\"shapedefaults\":{\"line\":{\"color\":\"#2a3f5f\"}},\"annotationdefaults\":{\"arrowcolor\":\"#2a3f5f\",\"arrowhead\":0,\"arrowwidth\":1},\"geo\":{\"bgcolor\":\"white\",\"landcolor\":\"#E5ECF6\",\"subunitcolor\":\"white\",\"showland\":true,\"showlakes\":true,\"lakecolor\":\"white\"},\"title\":{\"x\":0.05},\"mapbox\":{\"style\":\"light\"}}},\"xaxis\":{\"anchor\":\"y\",\"domain\":[0.0,0.2888888888888889],\"title\":{\"text\":\"num_factors\"},\"type\":\"log\"},\"yaxis\":{\"anchor\":\"x\",\"domain\":[0.0,1.0],\"title\":{\"text\":\"Objective Value\"}},\"xaxis2\":{\"anchor\":\"y2\",\"domain\":[0.35555555555555557,0.6444444444444445],\"title\":{\"text\":\"scaling_items\"},\"type\":\"log\"},\"yaxis2\":{\"anchor\":\"x2\",\"domain\":[0.0,1.0],\"matches\":\"y\",\"showticklabels\":false},\"xaxis3\":{\"anchor\":\"y3\",\"domain\":[0.7111111111111111,1.0],\"title\":{\"text\":\"scaling_users\"},\"type\":\"log\"},\"yaxis3\":{\"anchor\":\"x3\",\"domain\":[0.0,1.0],\"matches\":\"y\",\"showticklabels\":false},\"title\":{\"text\":\"Slice Plot\"}},                        {\"responsive\": true}                    ).then(function(){\n",
       "                            \n",
       "var gd = document.getElementById('6e1d0823-920a-41ef-a3b5-ad54f990ac60');\n",
       "var x = new MutationObserver(function (mutations, observer) {{\n",
       "        var display = window.getComputedStyle(gd).display;\n",
       "        if (!display || display === 'none') {{\n",
       "            console.log([gd, 'removed!']);\n",
       "            Plotly.purge(gd);\n",
       "            observer.disconnect();\n",
       "        }}\n",
       "}});\n",
       "\n",
       "// Listen for the removal of the full notebook cells\n",
       "var notebookContainer = gd.closest('#notebook-container');\n",
       "if (notebookContainer) {{\n",
       "    x.observe(notebookContainer, {childList: true});\n",
       "}}\n",
       "\n",
       "// Listen for the clearing of the current output cell\n",
       "var outputEl = gd.closest('.output');\n",
       "if (outputEl) {{\n",
       "    x.observe(outputEl, {childList: true});\n",
       "}}\n",
       "\n",
       "                        })                };                            </script>        </div>\n",
       "</body>\n",
       "</html>"
      ]
     },
     "metadata": {},
     "output_type": "display_data"
    }
   ],
   "source": [
    "if not config['tune_parameters']:\n",
    "    optuna_study = optuna.load_study(study_name=f'hyperparameters_tuning_{config[\"model\"]}_{config[\"metric\"]}', storage=f'sqlite:///{config[\"database_path\"]}')\n",
    "    \n",
    "fig = optuna.visualization.plot_slice(optuna_study)\n",
    "fig.show()"
   ]
  },
  {
   "cell_type": "code",
   "execution_count": 15,
   "id": "6057c9ca",
   "metadata": {
    "execution": {
     "iopub.execute_input": "2025-01-05T20:42:49.592446Z",
     "iopub.status.busy": "2025-01-05T20:42:49.592084Z",
     "iopub.status.idle": "2025-01-05T20:42:50.088077Z",
     "shell.execute_reply": "2025-01-05T20:42:50.086840Z"
    },
    "papermill": {
     "duration": 0.535883,
     "end_time": "2025-01-05T20:42:50.089854",
     "exception": false,
     "start_time": "2025-01-05T20:42:49.553971",
     "status": "completed"
    },
    "tags": []
   },
   "outputs": [
    {
     "data": {
      "text/html": [
       "<html>\n",
       "<head><meta charset=\"utf-8\" /></head>\n",
       "<body>\n",
       "    <div>            <script src=\"https://cdnjs.cloudflare.com/ajax/libs/mathjax/2.7.5/MathJax.js?config=TeX-AMS-MML_SVG\"></script><script type=\"text/javascript\">if (window.MathJax && window.MathJax.Hub && window.MathJax.Hub.Config) {window.MathJax.Hub.Config({SVG: {font: \"STIX-Web\"}});}</script>                <script type=\"text/javascript\">window.PlotlyConfig = {MathJaxConfig: 'local'};</script>\n",
       "        <script charset=\"utf-8\" src=\"https://cdn.plot.ly/plotly-2.35.2.min.js\"></script>                <div id=\"f9f032f7-7be3-4822-a942-3c60ddb16d4a\" class=\"plotly-graph-div\" style=\"height:525px; width:100%;\"></div>            <script type=\"text/javascript\">                                    window.PLOTLYENV=window.PLOTLYENV || {};                                    if (document.getElementById(\"f9f032f7-7be3-4822-a942-3c60ddb16d4a\")) {                    Plotly.newPlot(                        \"f9f032f7-7be3-4822-a942-3c60ddb16d4a\",                        [{\"cliponaxis\":false,\"hovertemplate\":[\"scaling_users (FloatDistribution): 0.012244246780384783\\u003cextra\\u003e\\u003c\\u002fextra\\u003e\",\"scaling_items (FloatDistribution): 0.4609484435461369\\u003cextra\\u003e\\u003c\\u002fextra\\u003e\",\"num_factors (IntDistribution): 0.5268073096734784\\u003cextra\\u003e\\u003c\\u002fextra\\u003e\"],\"name\":\"Objective Value\",\"orientation\":\"h\",\"text\":[\"0.01\",\"0.46\",\"0.53\"],\"textposition\":\"outside\",\"x\":[0.012244246780384783,0.4609484435461369,0.5268073096734784],\"y\":[\"scaling_users\",\"scaling_items\",\"num_factors\"],\"type\":\"bar\"}],                        {\"title\":{\"text\":\"Hyperparameter Importances\"},\"xaxis\":{\"title\":{\"text\":\"Hyperparameter Importance\"}},\"yaxis\":{\"title\":{\"text\":\"Hyperparameter\"}},\"template\":{\"data\":{\"histogram2dcontour\":[{\"type\":\"histogram2dcontour\",\"colorbar\":{\"outlinewidth\":0,\"ticks\":\"\"},\"colorscale\":[[0.0,\"#0d0887\"],[0.1111111111111111,\"#46039f\"],[0.2222222222222222,\"#7201a8\"],[0.3333333333333333,\"#9c179e\"],[0.4444444444444444,\"#bd3786\"],[0.5555555555555556,\"#d8576b\"],[0.6666666666666666,\"#ed7953\"],[0.7777777777777778,\"#fb9f3a\"],[0.8888888888888888,\"#fdca26\"],[1.0,\"#f0f921\"]]}],\"choropleth\":[{\"type\":\"choropleth\",\"colorbar\":{\"outlinewidth\":0,\"ticks\":\"\"}}],\"histogram2d\":[{\"type\":\"histogram2d\",\"colorbar\":{\"outlinewidth\":0,\"ticks\":\"\"},\"colorscale\":[[0.0,\"#0d0887\"],[0.1111111111111111,\"#46039f\"],[0.2222222222222222,\"#7201a8\"],[0.3333333333333333,\"#9c179e\"],[0.4444444444444444,\"#bd3786\"],[0.5555555555555556,\"#d8576b\"],[0.6666666666666666,\"#ed7953\"],[0.7777777777777778,\"#fb9f3a\"],[0.8888888888888888,\"#fdca26\"],[1.0,\"#f0f921\"]]}],\"heatmap\":[{\"type\":\"heatmap\",\"colorbar\":{\"outlinewidth\":0,\"ticks\":\"\"},\"colorscale\":[[0.0,\"#0d0887\"],[0.1111111111111111,\"#46039f\"],[0.2222222222222222,\"#7201a8\"],[0.3333333333333333,\"#9c179e\"],[0.4444444444444444,\"#bd3786\"],[0.5555555555555556,\"#d8576b\"],[0.6666666666666666,\"#ed7953\"],[0.7777777777777778,\"#fb9f3a\"],[0.8888888888888888,\"#fdca26\"],[1.0,\"#f0f921\"]]}],\"heatmapgl\":[{\"type\":\"heatmapgl\",\"colorbar\":{\"outlinewidth\":0,\"ticks\":\"\"},\"colorscale\":[[0.0,\"#0d0887\"],[0.1111111111111111,\"#46039f\"],[0.2222222222222222,\"#7201a8\"],[0.3333333333333333,\"#9c179e\"],[0.4444444444444444,\"#bd3786\"],[0.5555555555555556,\"#d8576b\"],[0.6666666666666666,\"#ed7953\"],[0.7777777777777778,\"#fb9f3a\"],[0.8888888888888888,\"#fdca26\"],[1.0,\"#f0f921\"]]}],\"contourcarpet\":[{\"type\":\"contourcarpet\",\"colorbar\":{\"outlinewidth\":0,\"ticks\":\"\"}}],\"contour\":[{\"type\":\"contour\",\"colorbar\":{\"outlinewidth\":0,\"ticks\":\"\"},\"colorscale\":[[0.0,\"#0d0887\"],[0.1111111111111111,\"#46039f\"],[0.2222222222222222,\"#7201a8\"],[0.3333333333333333,\"#9c179e\"],[0.4444444444444444,\"#bd3786\"],[0.5555555555555556,\"#d8576b\"],[0.6666666666666666,\"#ed7953\"],[0.7777777777777778,\"#fb9f3a\"],[0.8888888888888888,\"#fdca26\"],[1.0,\"#f0f921\"]]}],\"surface\":[{\"type\":\"surface\",\"colorbar\":{\"outlinewidth\":0,\"ticks\":\"\"},\"colorscale\":[[0.0,\"#0d0887\"],[0.1111111111111111,\"#46039f\"],[0.2222222222222222,\"#7201a8\"],[0.3333333333333333,\"#9c179e\"],[0.4444444444444444,\"#bd3786\"],[0.5555555555555556,\"#d8576b\"],[0.6666666666666666,\"#ed7953\"],[0.7777777777777778,\"#fb9f3a\"],[0.8888888888888888,\"#fdca26\"],[1.0,\"#f0f921\"]]}],\"mesh3d\":[{\"type\":\"mesh3d\",\"colorbar\":{\"outlinewidth\":0,\"ticks\":\"\"}}],\"scatter\":[{\"fillpattern\":{\"fillmode\":\"overlay\",\"size\":10,\"solidity\":0.2},\"type\":\"scatter\"}],\"parcoords\":[{\"type\":\"parcoords\",\"line\":{\"colorbar\":{\"outlinewidth\":0,\"ticks\":\"\"}}}],\"scatterpolargl\":[{\"type\":\"scatterpolargl\",\"marker\":{\"colorbar\":{\"outlinewidth\":0,\"ticks\":\"\"}}}],\"bar\":[{\"error_x\":{\"color\":\"#2a3f5f\"},\"error_y\":{\"color\":\"#2a3f5f\"},\"marker\":{\"line\":{\"color\":\"#E5ECF6\",\"width\":0.5},\"pattern\":{\"fillmode\":\"overlay\",\"size\":10,\"solidity\":0.2}},\"type\":\"bar\"}],\"scattergeo\":[{\"type\":\"scattergeo\",\"marker\":{\"colorbar\":{\"outlinewidth\":0,\"ticks\":\"\"}}}],\"scatterpolar\":[{\"type\":\"scatterpolar\",\"marker\":{\"colorbar\":{\"outlinewidth\":0,\"ticks\":\"\"}}}],\"histogram\":[{\"marker\":{\"pattern\":{\"fillmode\":\"overlay\",\"size\":10,\"solidity\":0.2}},\"type\":\"histogram\"}],\"scattergl\":[{\"type\":\"scattergl\",\"marker\":{\"colorbar\":{\"outlinewidth\":0,\"ticks\":\"\"}}}],\"scatter3d\":[{\"type\":\"scatter3d\",\"line\":{\"colorbar\":{\"outlinewidth\":0,\"ticks\":\"\"}},\"marker\":{\"colorbar\":{\"outlinewidth\":0,\"ticks\":\"\"}}}],\"scattermapbox\":[{\"type\":\"scattermapbox\",\"marker\":{\"colorbar\":{\"outlinewidth\":0,\"ticks\":\"\"}}}],\"scatterternary\":[{\"type\":\"scatterternary\",\"marker\":{\"colorbar\":{\"outlinewidth\":0,\"ticks\":\"\"}}}],\"scattercarpet\":[{\"type\":\"scattercarpet\",\"marker\":{\"colorbar\":{\"outlinewidth\":0,\"ticks\":\"\"}}}],\"carpet\":[{\"aaxis\":{\"endlinecolor\":\"#2a3f5f\",\"gridcolor\":\"white\",\"linecolor\":\"white\",\"minorgridcolor\":\"white\",\"startlinecolor\":\"#2a3f5f\"},\"baxis\":{\"endlinecolor\":\"#2a3f5f\",\"gridcolor\":\"white\",\"linecolor\":\"white\",\"minorgridcolor\":\"white\",\"startlinecolor\":\"#2a3f5f\"},\"type\":\"carpet\"}],\"table\":[{\"cells\":{\"fill\":{\"color\":\"#EBF0F8\"},\"line\":{\"color\":\"white\"}},\"header\":{\"fill\":{\"color\":\"#C8D4E3\"},\"line\":{\"color\":\"white\"}},\"type\":\"table\"}],\"barpolar\":[{\"marker\":{\"line\":{\"color\":\"#E5ECF6\",\"width\":0.5},\"pattern\":{\"fillmode\":\"overlay\",\"size\":10,\"solidity\":0.2}},\"type\":\"barpolar\"}],\"pie\":[{\"automargin\":true,\"type\":\"pie\"}]},\"layout\":{\"autotypenumbers\":\"strict\",\"colorway\":[\"#636efa\",\"#EF553B\",\"#00cc96\",\"#ab63fa\",\"#FFA15A\",\"#19d3f3\",\"#FF6692\",\"#B6E880\",\"#FF97FF\",\"#FECB52\"],\"font\":{\"color\":\"#2a3f5f\"},\"hovermode\":\"closest\",\"hoverlabel\":{\"align\":\"left\"},\"paper_bgcolor\":\"white\",\"plot_bgcolor\":\"#E5ECF6\",\"polar\":{\"bgcolor\":\"#E5ECF6\",\"angularaxis\":{\"gridcolor\":\"white\",\"linecolor\":\"white\",\"ticks\":\"\"},\"radialaxis\":{\"gridcolor\":\"white\",\"linecolor\":\"white\",\"ticks\":\"\"}},\"ternary\":{\"bgcolor\":\"#E5ECF6\",\"aaxis\":{\"gridcolor\":\"white\",\"linecolor\":\"white\",\"ticks\":\"\"},\"baxis\":{\"gridcolor\":\"white\",\"linecolor\":\"white\",\"ticks\":\"\"},\"caxis\":{\"gridcolor\":\"white\",\"linecolor\":\"white\",\"ticks\":\"\"}},\"coloraxis\":{\"colorbar\":{\"outlinewidth\":0,\"ticks\":\"\"}},\"colorscale\":{\"sequential\":[[0.0,\"#0d0887\"],[0.1111111111111111,\"#46039f\"],[0.2222222222222222,\"#7201a8\"],[0.3333333333333333,\"#9c179e\"],[0.4444444444444444,\"#bd3786\"],[0.5555555555555556,\"#d8576b\"],[0.6666666666666666,\"#ed7953\"],[0.7777777777777778,\"#fb9f3a\"],[0.8888888888888888,\"#fdca26\"],[1.0,\"#f0f921\"]],\"sequentialminus\":[[0.0,\"#0d0887\"],[0.1111111111111111,\"#46039f\"],[0.2222222222222222,\"#7201a8\"],[0.3333333333333333,\"#9c179e\"],[0.4444444444444444,\"#bd3786\"],[0.5555555555555556,\"#d8576b\"],[0.6666666666666666,\"#ed7953\"],[0.7777777777777778,\"#fb9f3a\"],[0.8888888888888888,\"#fdca26\"],[1.0,\"#f0f921\"]],\"diverging\":[[0,\"#8e0152\"],[0.1,\"#c51b7d\"],[0.2,\"#de77ae\"],[0.3,\"#f1b6da\"],[0.4,\"#fde0ef\"],[0.5,\"#f7f7f7\"],[0.6,\"#e6f5d0\"],[0.7,\"#b8e186\"],[0.8,\"#7fbc41\"],[0.9,\"#4d9221\"],[1,\"#276419\"]]},\"xaxis\":{\"gridcolor\":\"white\",\"linecolor\":\"white\",\"ticks\":\"\",\"title\":{\"standoff\":15},\"zerolinecolor\":\"white\",\"automargin\":true,\"zerolinewidth\":2},\"yaxis\":{\"gridcolor\":\"white\",\"linecolor\":\"white\",\"ticks\":\"\",\"title\":{\"standoff\":15},\"zerolinecolor\":\"white\",\"automargin\":true,\"zerolinewidth\":2},\"scene\":{\"xaxis\":{\"backgroundcolor\":\"#E5ECF6\",\"gridcolor\":\"white\",\"linecolor\":\"white\",\"showbackground\":true,\"ticks\":\"\",\"zerolinecolor\":\"white\",\"gridwidth\":2},\"yaxis\":{\"backgroundcolor\":\"#E5ECF6\",\"gridcolor\":\"white\",\"linecolor\":\"white\",\"showbackground\":true,\"ticks\":\"\",\"zerolinecolor\":\"white\",\"gridwidth\":2},\"zaxis\":{\"backgroundcolor\":\"#E5ECF6\",\"gridcolor\":\"white\",\"linecolor\":\"white\",\"showbackground\":true,\"ticks\":\"\",\"zerolinecolor\":\"white\",\"gridwidth\":2}},\"shapedefaults\":{\"line\":{\"color\":\"#2a3f5f\"}},\"annotationdefaults\":{\"arrowcolor\":\"#2a3f5f\",\"arrowhead\":0,\"arrowwidth\":1},\"geo\":{\"bgcolor\":\"white\",\"landcolor\":\"#E5ECF6\",\"subunitcolor\":\"white\",\"showland\":true,\"showlakes\":true,\"lakecolor\":\"white\"},\"title\":{\"x\":0.05},\"mapbox\":{\"style\":\"light\"}}}},                        {\"responsive\": true}                    ).then(function(){\n",
       "                            \n",
       "var gd = document.getElementById('f9f032f7-7be3-4822-a942-3c60ddb16d4a');\n",
       "var x = new MutationObserver(function (mutations, observer) {{\n",
       "        var display = window.getComputedStyle(gd).display;\n",
       "        if (!display || display === 'none') {{\n",
       "            console.log([gd, 'removed!']);\n",
       "            Plotly.purge(gd);\n",
       "            observer.disconnect();\n",
       "        }}\n",
       "}});\n",
       "\n",
       "// Listen for the removal of the full notebook cells\n",
       "var notebookContainer = gd.closest('#notebook-container');\n",
       "if (notebookContainer) {{\n",
       "    x.observe(notebookContainer, {childList: true});\n",
       "}}\n",
       "\n",
       "// Listen for the clearing of the current output cell\n",
       "var outputEl = gd.closest('.output');\n",
       "if (outputEl) {{\n",
       "    x.observe(outputEl, {childList: true});\n",
       "}}\n",
       "\n",
       "                        })                };                            </script>        </div>\n",
       "</body>\n",
       "</html>"
      ]
     },
     "metadata": {},
     "output_type": "display_data"
    }
   ],
   "source": [
    "if not config['tune_parameters']:\n",
    "    optuna_study = optuna.load_study(study_name=f'hyperparameters_tuning_{config[\"model\"]}_{config[\"metric\"]}', storage=f'sqlite:///{config[\"database_path\"]}')\n",
    "    \n",
    "fig = optuna.visualization.plot_param_importances(optuna_study)\n",
    "fig.show()"
   ]
  },
  {
   "cell_type": "markdown",
   "id": "cfe9f90e",
   "metadata": {
    "papermill": {
     "duration": 0.037946,
     "end_time": "2025-01-05T20:42:50.166428",
     "exception": false,
     "start_time": "2025-01-05T20:42:50.128482",
     "status": "completed"
    },
    "tags": []
   },
   "source": [
    "## Let's train the recommender with best parameter values"
   ]
  },
  {
   "cell_type": "code",
   "execution_count": 16,
   "id": "215ce5f1",
   "metadata": {
    "execution": {
     "iopub.execute_input": "2025-01-05T20:42:50.243497Z",
     "iopub.status.busy": "2025-01-05T20:42:50.243115Z",
     "iopub.status.idle": "2025-01-05T20:44:27.994628Z",
     "shell.execute_reply": "2025-01-05T20:44:27.993190Z"
    },
    "papermill": {
     "duration": 97.83015,
     "end_time": "2025-01-05T20:44:28.034481",
     "exception": false,
     "start_time": "2025-01-05T20:42:50.204331",
     "status": "completed"
    },
    "tags": []
   },
   "outputs": [
    {
     "name": "stdout",
     "output_type": "stream",
     "text": [
      "ScaledPureSVDRecommender: Computing SVD decomposition...\n",
      "ScaledPureSVDRecommender: Computing SVD decomposition... done in 1.63 min\n"
     ]
    }
   ],
   "source": [
    "if config['tune_best_params']:\n",
    "\n",
    "    if config['tune_parameters']:\n",
    "        best_params = optuna_study.best_trial.params\n",
    "    else: \n",
    "        with open(f'{K_PATH}/{GH_PATH}/{config[\"model\"]}Recommender/Optimizing{config[\"metric\"]}/best_params_{config[\"model\"]}_{config[\"metric\"]}.json', 'r') as best_params_json:\n",
    "            best_params = json.load(best_params_json)\n",
    "\n",
    "    recommender_instance = ScaledPureSVDRecommender(URM_train + URM_validation)\n",
    "    recommender_instance.fit(**best_params)"
   ]
  },
  {
   "cell_type": "markdown",
   "id": "cfcfe2f8",
   "metadata": {
    "papermill": {
     "duration": 0.037041,
     "end_time": "2025-01-05T20:44:28.110534",
     "exception": false,
     "start_time": "2025-01-05T20:44:28.073493",
     "status": "completed"
    },
    "tags": []
   },
   "source": [
    "# Testing\n",
    "\n",
    "Create the recommendations for the submission. "
   ]
  },
  {
   "cell_type": "code",
   "execution_count": 17,
   "id": "69d1ccad",
   "metadata": {
    "execution": {
     "iopub.execute_input": "2025-01-05T20:44:28.190180Z",
     "iopub.status.busy": "2025-01-05T20:44:28.189858Z",
     "iopub.status.idle": "2025-01-05T20:46:17.915145Z",
     "shell.execute_reply": "2025-01-05T20:46:17.913912Z"
    },
    "papermill": {
     "duration": 109.803222,
     "end_time": "2025-01-05T20:46:17.955598",
     "exception": false,
     "start_time": "2025-01-05T20:44:28.152376",
     "status": "completed"
    },
    "tags": []
   },
   "outputs": [
    {
     "name": "stdout",
     "output_type": "stream",
     "text": [
      "Submission file saved as /kaggle/working/submission_ScaledPureSVD_MAP.csv\n"
     ]
    }
   ],
   "source": [
    "if config['tune_best_params']:\n",
    "\n",
    "    data_target_users_test = pd.read_csv('/kaggle/working/RECsys_Challenge2024/Dataset/data_target_users_test.csv')\n",
    "    create_submission(data_target_users_test, recommender_instance, f'/kaggle/working/submission_{config[\"model\"]}_{config[\"metric\"]}.csv')"
   ]
  },
  {
   "cell_type": "markdown",
   "id": "e4653c83",
   "metadata": {
    "papermill": {
     "duration": 0.035976,
     "end_time": "2025-01-05T20:46:18.028379",
     "exception": false,
     "start_time": "2025-01-05T20:46:17.992403",
     "status": "completed"
    },
    "tags": []
   },
   "source": [
    "# Save Version on GitHub \n",
    "\n",
    "Write or import a json file where best hyperparameters are saved. "
   ]
  },
  {
   "cell_type": "code",
   "execution_count": 18,
   "id": "c2d27482",
   "metadata": {
    "execution": {
     "iopub.execute_input": "2025-01-05T20:46:18.106988Z",
     "iopub.status.busy": "2025-01-05T20:46:18.106592Z",
     "iopub.status.idle": "2025-01-05T20:46:19.227881Z",
     "shell.execute_reply": "2025-01-05T20:46:19.226539Z"
    },
    "papermill": {
     "duration": 1.165032,
     "end_time": "2025-01-05T20:46:19.230002",
     "exception": false,
     "start_time": "2025-01-05T20:46:18.064970",
     "status": "completed"
    },
    "tags": []
   },
   "outputs": [
    {
     "name": "stdout",
     "output_type": "stream",
     "text": [
      "File 'TrainedModels/WithKFCV/MatrixFactorization/PureSVDRecommender/ScaledPureSVDRecommender/OptimizingMAP/best_params_ScaledPureSVD_MAP.json' updated successfully.\n"
     ]
    }
   ],
   "source": [
    "if config['tune_parameters']:\n",
    "    with open(f'/kaggle/working/best_params_{config[\"model\"]}_{config[\"metric\"]}.json', 'w') as params_file:\n",
    "        json.dump(optuna_study.best_params, params_file)\n",
    "        \n",
    "    if config['save_github']:\n",
    "        upload_file(\n",
    "            f'/kaggle/working/best_params_{config[\"model\"]}_{config[\"metric\"]}.json', \n",
    "            f'{GH_PATH}/{config[\"model\"]}Recommender/Optimizing{config[\"metric\"]}/best_params_{config[\"model\"]}_{config[\"metric\"]}.json', \n",
    "            f'{config[\"model\"]}_{config[\"metric\"]} tuning results (from kaggle notebook)',\n",
    "            repo\n",
    "        )\n",
    "elif config['copy_prev_best_params']:\n",
    "    shutil.copyfile(\n",
    "        f'{K_PATH}/{GH_PATH}/{config[\"model\"]}Recommender/Optimizing{config[\"metric\"]}/'\\\n",
    "        f'best_params_{config[\"model\"]}_{config[\"metric\"]}.json', \n",
    "        f'/kaggle/working/best_params_{config[\"model\"]}_{config[\"metric\"]}.json'\n",
    "    )"
   ]
  },
  {
   "cell_type": "markdown",
   "id": "96de4078",
   "metadata": {
    "papermill": {
     "duration": 0.037631,
     "end_time": "2025-01-05T20:46:19.309450",
     "exception": false,
     "start_time": "2025-01-05T20:46:19.271819",
     "status": "completed"
    },
    "tags": []
   },
   "source": [
    "Save the history of the tuned model."
   ]
  },
  {
   "cell_type": "code",
   "execution_count": 19,
   "id": "87875b13",
   "metadata": {
    "execution": {
     "iopub.execute_input": "2025-01-05T20:46:19.386798Z",
     "iopub.status.busy": "2025-01-05T20:46:19.386413Z",
     "iopub.status.idle": "2025-01-05T20:46:21.328471Z",
     "shell.execute_reply": "2025-01-05T20:46:21.327078Z"
    },
    "papermill": {
     "duration": 1.983081,
     "end_time": "2025-01-05T20:46:21.330215",
     "exception": false,
     "start_time": "2025-01-05T20:46:19.347134",
     "status": "completed"
    },
    "tags": []
   },
   "outputs": [
    {
     "name": "stdout",
     "output_type": "stream",
     "text": [
      "File 'TrainedModels/WithKFCV/MatrixFactorization/PureSVDRecommender/ScaledPureSVDRecommender/OptimizingMAP/history_ScaledPureSVD_MAP.db' updated successfully.\n"
     ]
    }
   ],
   "source": [
    "if config['save_github'] and config['tune_parameters']:\n",
    "    upload_file(\n",
    "        config['database_path'], \n",
    "        f'{GH_PATH}/{config[\"model\"]}Recommender/Optimizing{config[\"metric\"]}/history_{config[\"model\"]}_{config[\"metric\"]}.db',\n",
    "        f'Tuning {config[\"model\"]}_{config[\"metric\"]} db updated results (from kaggle notebook)',\n",
    "        repo\n",
    "    )"
   ]
  },
  {
   "cell_type": "markdown",
   "id": "f62d0993",
   "metadata": {
    "papermill": {
     "duration": 0.037773,
     "end_time": "2025-01-05T20:46:21.408332",
     "exception": false,
     "start_time": "2025-01-05T20:46:21.370559",
     "status": "completed"
    },
    "tags": []
   },
   "source": [
    "Save the best trained model and its submission."
   ]
  },
  {
   "cell_type": "code",
   "execution_count": 20,
   "id": "1a2615c1",
   "metadata": {
    "execution": {
     "iopub.execute_input": "2025-01-05T20:46:21.485655Z",
     "iopub.status.busy": "2025-01-05T20:46:21.485238Z",
     "iopub.status.idle": "2025-01-05T20:46:24.263096Z",
     "shell.execute_reply": "2025-01-05T20:46:24.261705Z"
    },
    "papermill": {
     "duration": 2.818356,
     "end_time": "2025-01-05T20:46:24.265297",
     "exception": false,
     "start_time": "2025-01-05T20:46:21.446941",
     "status": "completed"
    },
    "tags": []
   },
   "outputs": [
    {
     "name": "stdout",
     "output_type": "stream",
     "text": [
      "File 'TrainedModels/WithKFCV/MatrixFactorization/PureSVDRecommender/ScaledPureSVDRecommender/OptimizingMAP/Submission/submission_ScaledPureSVD_MAP.csv' updated successfully.\n"
     ]
    }
   ],
   "source": [
    "if config['save_github'] and config['tune_best_params']: \n",
    "    upload_file(\n",
    "                f'/kaggle/working/submission_{config[\"model\"]}_{config[\"metric\"]}.csv', \n",
    "                f'{GH_PATH}/{config[\"model\"]}Recommender/Optimizing{config[\"metric\"]}/Submission/submission_{config[\"model\"]}_{config[\"metric\"]}.csv', \n",
    "                f'New {config[\"model\"]}_{config[\"metric\"]} submission (from kaggle notebook)',\n",
    "                repo\n",
    "            )"
   ]
  }
 ],
 "metadata": {
  "kaggle": {
   "accelerator": "none",
   "dataSources": [],
   "isGpuEnabled": false,
   "isInternetEnabled": true,
   "language": "python",
   "sourceType": "notebook"
  },
  "kernelspec": {
   "display_name": "Python 3",
   "language": "python",
   "name": "python3"
  },
  "language_info": {
   "codemirror_mode": {
    "name": "ipython",
    "version": 3
   },
   "file_extension": ".py",
   "mimetype": "text/x-python",
   "name": "python",
   "nbconvert_exporter": "python",
   "pygments_lexer": "ipython3",
   "version": "3.10.12"
  },
  "papermill": {
   "default_parameters": {},
   "duration": 22124.459477,
   "end_time": "2025-01-05T20:46:25.360789",
   "environment_variables": {},
   "exception": null,
   "input_path": "__notebook__.ipynb",
   "output_path": "__notebook__.ipynb",
   "parameters": {},
   "start_time": "2025-01-05T14:37:40.901312",
   "version": "2.6.0"
  }
 },
 "nbformat": 4,
 "nbformat_minor": 5
}
