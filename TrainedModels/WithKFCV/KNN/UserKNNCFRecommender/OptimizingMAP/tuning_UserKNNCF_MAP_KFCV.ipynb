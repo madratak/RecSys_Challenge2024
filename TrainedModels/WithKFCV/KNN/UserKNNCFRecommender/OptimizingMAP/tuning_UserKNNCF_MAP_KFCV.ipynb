{
 "cells": [
  {
   "cell_type": "markdown",
   "id": "21264498",
   "metadata": {
    "papermill": {
     "duration": 0.005702,
     "end_time": "2025-01-07T11:03:58.488365",
     "exception": false,
     "start_time": "2025-01-07T11:03:58.482663",
     "status": "completed"
    },
    "tags": []
   },
   "source": [
    "# Set connection with GitHub"
   ]
  },
  {
   "cell_type": "code",
   "execution_count": 1,
   "id": "7c8dc455",
   "metadata": {
    "_cell_guid": "b1076dfc-b9ad-4769-8c92-a6c4dae69d19",
    "_uuid": "8f2839f25d086af736a60e9eeb907d3b93b6e0e5",
    "execution": {
     "iopub.execute_input": "2025-01-07T11:03:58.499925Z",
     "iopub.status.busy": "2025-01-07T11:03:58.499567Z",
     "iopub.status.idle": "2025-01-07T11:03:58.505392Z",
     "shell.execute_reply": "2025-01-07T11:03:58.504263Z"
    },
    "papermill": {
     "duration": 0.013472,
     "end_time": "2025-01-07T11:03:58.507243",
     "exception": false,
     "start_time": "2025-01-07T11:03:58.493771",
     "status": "completed"
    },
    "tags": []
   },
   "outputs": [],
   "source": [
    "# ! cd /kaggle/working && rm -rf RECsys_Challenge2024"
   ]
  },
  {
   "cell_type": "code",
   "execution_count": 2,
   "id": "13c08df0",
   "metadata": {
    "execution": {
     "iopub.execute_input": "2025-01-07T11:03:58.518789Z",
     "iopub.status.busy": "2025-01-07T11:03:58.518417Z",
     "iopub.status.idle": "2025-01-07T11:04:17.498544Z",
     "shell.execute_reply": "2025-01-07T11:04:17.497158Z"
    },
    "papermill": {
     "duration": 18.988404,
     "end_time": "2025-01-07T11:04:17.500908",
     "exception": false,
     "start_time": "2025-01-07T11:03:58.512504",
     "status": "completed"
    },
    "tags": []
   },
   "outputs": [
    {
     "name": "stdout",
     "output_type": "stream",
     "text": [
      "Cloning into 'RECsys_Challenge2024'...\r\n",
      "remote: Enumerating objects: 7455, done.\u001b[K\r\n",
      "remote: Counting objects: 100% (301/301), done.\u001b[K\r\n",
      "remote: Compressing objects: 100% (257/257), done.\u001b[K\r\n",
      "remote: Total 7455 (delta 136), reused 8 (delta 4), pack-reused 7154 (from 5)\u001b[K\r\n",
      "Receiving objects: 100% (7455/7455), 423.85 MiB | 34.17 MiB/s, done.\r\n",
      "Resolving deltas: 100% (4017/4017), done.\r\n",
      "Updating files: 100% (506/506), done.\r\n"
     ]
    }
   ],
   "source": [
    "from kaggle_secrets import UserSecretsClient\n",
    "\n",
    "token = UserSecretsClient().get_secret(\"Token\")\n",
    "\n",
    "! git clone https://{token}@github.com/madratak/RECsys_Challenge2024.git"
   ]
  },
  {
   "cell_type": "code",
   "execution_count": 3,
   "id": "b285f13a",
   "metadata": {
    "execution": {
     "iopub.execute_input": "2025-01-07T11:04:17.524262Z",
     "iopub.status.busy": "2025-01-07T11:04:17.523869Z",
     "iopub.status.idle": "2025-01-07T11:04:25.607660Z",
     "shell.execute_reply": "2025-01-07T11:04:25.606164Z"
    },
    "papermill": {
     "duration": 8.09768,
     "end_time": "2025-01-07T11:04:25.609726",
     "exception": false,
     "start_time": "2025-01-07T11:04:17.512046",
     "status": "completed"
    },
    "tags": []
   },
   "outputs": [
    {
     "name": "stdout",
     "output_type": "stream",
     "text": [
      "Collecting PyGithub\r\n",
      "  Downloading PyGithub-2.5.0-py3-none-any.whl.metadata (3.9 kB)\r\n",
      "Requirement already satisfied: requests in /usr/local/lib/python3.10/dist-packages (2.32.3)\r\n",
      "Collecting pynacl>=1.4.0 (from PyGithub)\r\n",
      "  Downloading PyNaCl-1.5.0-cp36-abi3-manylinux_2_17_x86_64.manylinux2014_x86_64.manylinux_2_24_x86_64.whl.metadata (8.6 kB)\r\n",
      "Requirement already satisfied: pyjwt>=2.4.0 in /usr/local/lib/python3.10/dist-packages (from pyjwt[crypto]>=2.4.0->PyGithub) (2.9.0)\r\n",
      "Requirement already satisfied: typing-extensions>=4.0.0 in /usr/local/lib/python3.10/dist-packages (from PyGithub) (4.12.2)\r\n",
      "Requirement already satisfied: urllib3>=1.26.0 in /usr/local/lib/python3.10/dist-packages (from PyGithub) (2.2.3)\r\n",
      "Requirement already satisfied: Deprecated in /usr/local/lib/python3.10/dist-packages (from PyGithub) (1.2.15)\r\n",
      "Requirement already satisfied: charset-normalizer<4,>=2 in /usr/local/lib/python3.10/dist-packages (from requests) (3.3.2)\r\n",
      "Requirement already satisfied: idna<4,>=2.5 in /usr/local/lib/python3.10/dist-packages (from requests) (3.10)\r\n",
      "Requirement already satisfied: certifi>=2017.4.17 in /usr/local/lib/python3.10/dist-packages (from requests) (2024.8.30)\r\n",
      "Requirement already satisfied: cryptography>=3.4.0 in /usr/local/lib/python3.10/dist-packages (from pyjwt[crypto]>=2.4.0->PyGithub) (43.0.1)\r\n",
      "Requirement already satisfied: cffi>=1.4.1 in /usr/local/lib/python3.10/dist-packages (from pynacl>=1.4.0->PyGithub) (1.17.1)\r\n",
      "Requirement already satisfied: wrapt<2,>=1.10 in /usr/local/lib/python3.10/dist-packages (from Deprecated->PyGithub) (1.16.0)\r\n",
      "Requirement already satisfied: pycparser in /usr/local/lib/python3.10/dist-packages (from cffi>=1.4.1->pynacl>=1.4.0->PyGithub) (2.22)\r\n",
      "Downloading PyGithub-2.5.0-py3-none-any.whl (375 kB)\r\n",
      "\u001b[2K   \u001b[90m━━━━━━━━━━━━━━━━━━━━━━━━━━━━━━━━━━━━━━━━\u001b[0m \u001b[32m375.9/375.9 kB\u001b[0m \u001b[31m9.9 MB/s\u001b[0m eta \u001b[36m0:00:00\u001b[0m\r\n",
      "\u001b[?25hDownloading PyNaCl-1.5.0-cp36-abi3-manylinux_2_17_x86_64.manylinux2014_x86_64.manylinux_2_24_x86_64.whl (856 kB)\r\n",
      "\u001b[2K   \u001b[90m━━━━━━━━━━━━━━━━━━━━━━━━━━━━━━━━━━━━━━━━\u001b[0m \u001b[32m856.7/856.7 kB\u001b[0m \u001b[31m31.9 MB/s\u001b[0m eta \u001b[36m0:00:00\u001b[0m\r\n",
      "\u001b[?25hInstalling collected packages: pynacl, PyGithub\r\n",
      "Successfully installed PyGithub-2.5.0 pynacl-1.5.0\r\n"
     ]
    }
   ],
   "source": [
    "! pip install PyGithub requests"
   ]
  },
  {
   "cell_type": "code",
   "execution_count": 4,
   "id": "62171caf",
   "metadata": {
    "execution": {
     "iopub.execute_input": "2025-01-07T11:04:25.636069Z",
     "iopub.status.busy": "2025-01-07T11:04:25.635691Z",
     "iopub.status.idle": "2025-01-07T11:07:08.254097Z",
     "shell.execute_reply": "2025-01-07T11:07:08.252777Z"
    },
    "papermill": {
     "duration": 162.633098,
     "end_time": "2025-01-07T11:07:08.256078",
     "exception": false,
     "start_time": "2025-01-07T11:04:25.622980",
     "status": "completed"
    },
    "tags": []
   },
   "outputs": [
    {
     "name": "stdout",
     "output_type": "stream",
     "text": [
      "/kaggle/working/RECsys_Challenge2024\n",
      "run_compile_all_cython: Found 11 Cython files in 5 folders...\r\n",
      "run_compile_all_cython: All files will be compiled using your current python environment: '/usr/bin/python3'\r\n",
      "Compiling [1/11]: MatrixFactorization_Cython_Epoch.pyx... \r\n",
      "In file included from \u001b[01m\u001b[K/usr/local/lib/python3.10/dist-packages/numpy/core/include/numpy/ndarraytypes.h:1929\u001b[m\u001b[K,\r\n",
      "                 from \u001b[01m\u001b[K/usr/local/lib/python3.10/dist-packages/numpy/core/include/numpy/ndarrayobject.h:12\u001b[m\u001b[K,\r\n",
      "                 from \u001b[01m\u001b[K/usr/local/lib/python3.10/dist-packages/numpy/core/include/numpy/arrayobject.h:5\u001b[m\u001b[K,\r\n",
      "                 from \u001b[01m\u001b[KMatrixFactorization_Cython_Epoch.c:1252\u001b[m\u001b[K:\r\n",
      "\u001b[01m\u001b[K/usr/local/lib/python3.10/dist-packages/numpy/core/include/numpy/npy_1_7_deprecated_api.h:17:2:\u001b[m\u001b[K \u001b[01;35m\u001b[Kwarning: \u001b[m\u001b[K#warning \"Using deprecated NumPy API, disable it with \" \"#define NPY_NO_DEPRECATED_API NPY_1_7_API_VERSION\" [\u001b[01;35m\u001b[K\u001b]8;;https://gcc.gnu.org/onlinedocs/gcc/Warning-Options.html#index-Wcpp\u0007-Wcpp\u001b]8;;\u0007\u001b[m\u001b[K]\r\n",
      "   17 | #\u001b[01;35m\u001b[Kwarning\u001b[m\u001b[K \"Using deprecated NumPy API, disable it with \" \\\r\n",
      "      |  \u001b[01;35m\u001b[K^~~~~~~\u001b[m\u001b[K\r\n",
      "\u001b[01m\u001b[KMatrixFactorization_Cython_Epoch.c:\u001b[m\u001b[K In function ‘\u001b[01m\u001b[K__pyx_pf_32MatrixFactorization_Cython_Epoch_32MatrixFactorization_Cython_Epoch_10epochIteration_Cython_ASY_SVD_SGD\u001b[m\u001b[K’:\r\n",
      "\u001b[01m\u001b[KMatrixFactorization_Cython_Epoch.c:26256:68:\u001b[m\u001b[K \u001b[01;35m\u001b[Kwarning: \u001b[m\u001b[K‘\u001b[01m\u001b[K__pyx_v_end_pos_seen_items\u001b[m\u001b[K’ may be used uninitialized in this function [\u001b[01;35m\u001b[K\u001b]8;;https://gcc.gnu.org/onlinedocs/gcc/Warning-Options.html#index-Wmaybe-uninitialized\u0007-Wmaybe-uninitialized\u001b]8;;\u0007\u001b[m\u001b[K]\r\n",
      "26256 |         for (__pyx_t_22 = __pyx_v_start_pos_seen_items; \u001b[01;35m\u001b[K__pyx_t_22 < __pyx_t_21\u001b[m\u001b[K; __pyx_t_22+=1) {\r\n",
      "      |                                                         \u001b[01;35m\u001b[K~~~~~~~~~~~^~~~~~~~~~~~\u001b[m\u001b[K\r\n",
      "\u001b[01m\u001b[KMatrixFactorization_Cython_Epoch.c:26256:68:\u001b[m\u001b[K \u001b[01;35m\u001b[Kwarning: \u001b[m\u001b[K‘\u001b[01m\u001b[K__pyx_v_start_pos_seen_items\u001b[m\u001b[K’ may be used uninitialized in this function [\u001b[01;35m\u001b[K\u001b]8;;https://gcc.gnu.org/onlinedocs/gcc/Warning-Options.html#index-Wmaybe-uninitialized\u0007-Wmaybe-uninitialized\u001b]8;;\u0007\u001b[m\u001b[K]\r\n",
      "/usr/local/lib/python3.10/dist-packages/Cython/Compiler/Main.py:381: FutureWarning: Cython directive 'language_level' not set, using '3str' for now (Py3). This has changed from earlier releases! File: /kaggle/working/RECsys_Challenge2024/Recommenders/MatrixFactorization/Cython/MatrixFactorization_Cython_Epoch.pyx\r\n",
      "  tree = Parsing.p_module(s, pxd, full_module_name)\r\n",
      "Compiling [1/11]: MatrixFactorization_Cython_Epoch.pyx... PASS\r\n",
      "\r\n",
      "Compiling [2/11]: MatrixFactorizationImpressions_Cython_Epoch.pyx... \r\n",
      "In file included from \u001b[01m\u001b[K/usr/local/lib/python3.10/dist-packages/numpy/core/include/numpy/ndarraytypes.h:1929\u001b[m\u001b[K,\r\n",
      "                 from \u001b[01m\u001b[K/usr/local/lib/python3.10/dist-packages/numpy/core/include/numpy/ndarrayobject.h:12\u001b[m\u001b[K,\r\n",
      "                 from \u001b[01m\u001b[K/usr/local/lib/python3.10/dist-packages/numpy/core/include/numpy/arrayobject.h:5\u001b[m\u001b[K,\r\n",
      "                 from \u001b[01m\u001b[KMatrixFactorizationImpressions_Cython_Epoch.c:1252\u001b[m\u001b[K:\r\n",
      "\u001b[01m\u001b[K/usr/local/lib/python3.10/dist-packages/numpy/core/include/numpy/npy_1_7_deprecated_api.h:17:2:\u001b[m\u001b[K \u001b[01;35m\u001b[Kwarning: \u001b[m\u001b[K#warning \"Using deprecated NumPy API, disable it with \" \"#define NPY_NO_DEPRECATED_API NPY_1_7_API_VERSION\" [\u001b[01;35m\u001b[K\u001b]8;;https://gcc.gnu.org/onlinedocs/gcc/Warning-Options.html#index-Wcpp\u0007-Wcpp\u001b]8;;\u0007\u001b[m\u001b[K]\r\n",
      "   17 | #\u001b[01;35m\u001b[Kwarning\u001b[m\u001b[K \"Using deprecated NumPy API, disable it with \" \\\r\n",
      "      |  \u001b[01;35m\u001b[K^~~~~~~\u001b[m\u001b[K\r\n",
      "\u001b[01m\u001b[KMatrixFactorizationImpressions_Cython_Epoch.c:\u001b[m\u001b[K In function ‘\u001b[01m\u001b[K__pyx_f_43MatrixFactorizationImpressions_Cython_Epoch_32MatrixFactorization_Cython_Epoch_sampleBPR_Cython\u001b[m\u001b[K’:\r\n",
      "\u001b[01m\u001b[KMatrixFactorizationImpressions_Cython_Epoch.c:30353:17:\u001b[m\u001b[K \u001b[01;35m\u001b[Kwarning: \u001b[m\u001b[K‘\u001b[01m\u001b[K__pyx_v_start_pos_impression_items\u001b[m\u001b[K’ may be used uninitialized in this function [\u001b[01;35m\u001b[K\u001b]8;;https://gcc.gnu.org/onlinedocs/gcc/Warning-Options.html#index-Wmaybe-uninitialized\u0007-Wmaybe-uninitialized\u001b]8;;\u0007\u001b[m\u001b[K]\r\n",
      "30353 |       \u001b[01;35m\u001b[K__pyx_t_4 = (__pyx_v_start_pos_impression_items + __pyx_v_index)\u001b[m\u001b[K;\r\n",
      "      |       \u001b[01;35m\u001b[K~~~~~~~~~~^~~~~~~~~~~~~~~~~~~~~~~~~~~~~~~~~~~~~~~~~~~~~~~~~~~~~~\u001b[m\u001b[K\r\n",
      "\u001b[01m\u001b[KMatrixFactorizationImpressions_Cython_Epoch.c:\u001b[m\u001b[K In function ‘\u001b[01m\u001b[K__pyx_pf_43MatrixFactorizationImpressions_Cython_Epoch_32MatrixFactorization_Cython_Epoch_10epochIteration_Cython_ASY_SVD_SGD\u001b[m\u001b[K’:\r\n",
      "\u001b[01m\u001b[KMatrixFactorizationImpressions_Cython_Epoch.c:26112:66:\u001b[m\u001b[K \u001b[01;35m\u001b[Kwarning: \u001b[m\u001b[K‘\u001b[01m\u001b[K__pyx_v_end_pos_seen_items\u001b[m\u001b[K’ may be used uninitialized in this function [\u001b[01;35m\u001b[K\u001b]8;;https://gcc.gnu.org/onlinedocs/gcc/Warning-Options.html#index-Wmaybe-uninitialized\u0007-Wmaybe-uninitialized\u001b]8;;\u0007\u001b[m\u001b[K]\r\n",
      "26112 |       for (__pyx_t_22 = __pyx_v_start_pos_seen_items; \u001b[01;35m\u001b[K__pyx_t_22 < __pyx_t_21\u001b[m\u001b[K; __pyx_t_22+=1) {\r\n",
      "      |                                                       \u001b[01;35m\u001b[K~~~~~~~~~~~^~~~~~~~~~~~\u001b[m\u001b[K\r\n",
      "\u001b[01m\u001b[KMatrixFactorizationImpressions_Cython_Epoch.c:26112:66:\u001b[m\u001b[K \u001b[01;35m\u001b[Kwarning: \u001b[m\u001b[K‘\u001b[01m\u001b[K__pyx_v_start_pos_seen_items\u001b[m\u001b[K’ may be used uninitialized in this function [\u001b[01;35m\u001b[K\u001b]8;;https://gcc.gnu.org/onlinedocs/gcc/Warning-Options.html#index-Wmaybe-uninitialized\u0007-Wmaybe-uninitialized\u001b]8;;\u0007\u001b[m\u001b[K]\r\n",
      "/usr/local/lib/python3.10/dist-packages/Cython/Compiler/Main.py:381: FutureWarning: Cython directive 'language_level' not set, using '3str' for now (Py3). This has changed from earlier releases! File: /kaggle/working/RECsys_Challenge2024/Recommenders/MatrixFactorization/Cython/MatrixFactorizationImpressions_Cython_Epoch.pyx\r\n",
      "  tree = Parsing.p_module(s, pxd, full_module_name)\r\n",
      "Compiling [2/11]: MatrixFactorizationImpressions_Cython_Epoch.pyx... PASS\r\n",
      "\r\n",
      "Compiling [3/11]: Compute_Similarity_Cython.pyx... \r\n",
      "warning: Compute_Similarity_Cython.pyx:21:0: The 'IF' statement is deprecated and will be removed in a future Cython version. Consider using runtime conditions or C macros instead. See https://github.com/cython/cython/issues/4310\r\n",
      "In file included from \u001b[01m\u001b[K/usr/local/lib/python3.10/dist-packages/numpy/core/include/numpy/ndarraytypes.h:1929\u001b[m\u001b[K,\r\n",
      "                 from \u001b[01m\u001b[K/usr/local/lib/python3.10/dist-packages/numpy/core/include/numpy/ndarrayobject.h:12\u001b[m\u001b[K,\r\n",
      "                 from \u001b[01m\u001b[K/usr/local/lib/python3.10/dist-packages/numpy/core/include/numpy/arrayobject.h:5\u001b[m\u001b[K,\r\n",
      "                 from \u001b[01m\u001b[KCompute_Similarity_Cython.c:1252\u001b[m\u001b[K:\r\n",
      "\u001b[01m\u001b[K/usr/local/lib/python3.10/dist-packages/numpy/core/include/numpy/npy_1_7_deprecated_api.h:17:2:\u001b[m\u001b[K \u001b[01;35m\u001b[Kwarning: \u001b[m\u001b[K#warning \"Using deprecated NumPy API, disable it with \" \"#define NPY_NO_DEPRECATED_API NPY_1_7_API_VERSION\" [\u001b[01;35m\u001b[K\u001b]8;;https://gcc.gnu.org/onlinedocs/gcc/Warning-Options.html#index-Wcpp\u0007-Wcpp\u001b]8;;\u0007\u001b[m\u001b[K]\r\n",
      "   17 | #\u001b[01;35m\u001b[Kwarning\u001b[m\u001b[K \"Using deprecated NumPy API, disable it with \" \\\r\n",
      "      |  \u001b[01;35m\u001b[K^~~~~~~\u001b[m\u001b[K\r\n",
      "/usr/local/lib/python3.10/dist-packages/Cython/Compiler/Main.py:381: FutureWarning: Cython directive 'language_level' not set, using '3str' for now (Py3). This has changed from earlier releases! File: /kaggle/working/RECsys_Challenge2024/Recommenders/Similarity/Cython/Compute_Similarity_Cython.pyx\r\n",
      "  tree = Parsing.p_module(s, pxd, full_module_name)\r\n",
      "warning: Compute_Similarity_Cython.pyx:21:0: The 'IF' statement is deprecated and will be removed in a future Cython version. Consider using runtime conditions or C macros instead. See https://github.com/cython/cython/issues/4310\r\n",
      "Compiling [3/11]: Compute_Similarity_Cython.pyx... PASS\r\n",
      "\r\n",
      "Compiling [4/11]: Sparse_Matrix_Tree_CSR.pyx... \r\n",
      "warning: Sparse_Matrix_Tree_CSR.pyx:132:34: Non-trivial type declarators in shared declaration (e.g. mix of pointers and values). Each pointer declaration should be on its own line.\r\n",
      "warning: Sparse_Matrix_Tree_CSR.pyx:132:66: Non-trivial type declarators in shared declaration (e.g. mix of pointers and values). Each pointer declaration should be on its own line.\r\n",
      "warning: Sparse_Matrix_Tree_CSR.pyx:343:35: Non-trivial type declarators in shared declaration (e.g. mix of pointers and values). Each pointer declaration should be on its own line.\r\n",
      "warning: Sparse_Matrix_Tree_CSR.pyx:343:52: Non-trivial type declarators in shared declaration (e.g. mix of pointers and values). Each pointer declaration should be on its own line.\r\n",
      "warning: Sparse_Matrix_Tree_CSR.pyx:442:35: Non-trivial type declarators in shared declaration (e.g. mix of pointers and values). Each pointer declaration should be on its own line.\r\n",
      "warning: Sparse_Matrix_Tree_CSR.pyx:442:53: Non-trivial type declarators in shared declaration (e.g. mix of pointers and values). Each pointer declaration should be on its own line.\r\n",
      "warning: Sparse_Matrix_Tree_CSR.pyx:442:69: Non-trivial type declarators in shared declaration (e.g. mix of pointers and values). Each pointer declaration should be on its own line.\r\n",
      "warning: Sparse_Matrix_Tree_CSR.pyx:577:35: Non-trivial type declarators in shared declaration (e.g. mix of pointers and values). Each pointer declaration should be on its own line.\r\n",
      "warning: Sparse_Matrix_Tree_CSR.pyx:577:42: Non-trivial type declarators in shared declaration (e.g. mix of pointers and values). Each pointer declaration should be on its own line.\r\n",
      "warning: Sparse_Matrix_Tree_CSR.pyx:578:35: Non-trivial type declarators in shared declaration (e.g. mix of pointers and values). Each pointer declaration should be on its own line.\r\n",
      "warning: Sparse_Matrix_Tree_CSR.pyx:578:53: Non-trivial type declarators in shared declaration (e.g. mix of pointers and values). Each pointer declaration should be on its own line.\r\n",
      "\r\n",
      "Error compiling Cython file:\r\n",
      "------------------------------------------------------------\r\n",
      "...\r\n",
      "            vector_pointer_to_list_elements[index].head = current_element\r\n",
      "            current_element = current_element.higher\r\n",
      "\r\n",
      "\r\n",
      "        # Sort array elements on their data field\r\n",
      "        qsort(vector_pointer_to_list_elements, list_length, sizeof(head_pointer_tree_s), compare_struct_on_data)\r\n",
      "                                                                                         ^\r\n",
      "------------------------------------------------------------\r\n",
      "\r\n",
      "Sparse_Matrix_Tree_CSR.pyx:516:89: Cannot assign type 'int (const void *, const void *) except? -1' to 'int (*)(const_void *, const_void *) noexcept'. Exception values are incompatible. Suggest adding 'noexcept' to the type of 'compare_struct_on_data'.\r\n",
      "\r\n",
      "Error compiling Cython file:\r\n",
      "------------------------------------------------------------\r\n",
      "...\r\n",
      "        # Sort array elements on their data field\r\n",
      "        qsort(vector_pointer_to_list_elements, list_length, sizeof(head_pointer_tree_s), compare_struct_on_data)\r\n",
      "\r\n",
      "        # Sort only the TopK according to their column field\r\n",
      "        # Sort is from lower to higher, therefore the elements to be considered are from len-topK to len\r\n",
      "        qsort(&vector_pointer_to_list_elements[list_length-TopK], TopK, sizeof(head_pointer_tree_s), compare_struct_on_column)\r\n",
      "                                                                                                     ^\r\n",
      "------------------------------------------------------------\r\n",
      "\r\n",
      "Sparse_Matrix_Tree_CSR.pyx:520:101: Cannot assign type 'int (const void *, const void *) except? -1' to 'int (*)(const_void *, const_void *) noexcept'. Exception values are incompatible. Suggest adding 'noexcept' to the type of 'compare_struct_on_column'.\r\n",
      "Traceback (most recent call last):\r\n",
      "  File \"/kaggle/working/RECsys_Challenge2024/CythonCompiler/compile_script.py\", line 48, in <module>\r\n",
      "    setup(\r\n",
      "  File \"/usr/local/lib/python3.10/dist-packages/setuptools/__init__.py\", line 108, in setup\r\n",
      "    return distutils.core.setup(**attrs)\r\n",
      "  File \"/usr/local/lib/python3.10/dist-packages/setuptools/_distutils/core.py\", line 184, in setup\r\n",
      "    return run_commands(dist)\r\n",
      "  File \"/usr/local/lib/python3.10/dist-packages/setuptools/_distutils/core.py\", line 200, in run_commands\r\n",
      "    dist.run_commands()\r\n",
      "  File \"/usr/local/lib/python3.10/dist-packages/setuptools/_distutils/dist.py\", line 970, in run_commands\r\n",
      "    self.run_command(cmd)\r\n",
      "  File \"/usr/local/lib/python3.10/dist-packages/setuptools/dist.py\", line 956, in run_command\r\n",
      "    super().run_command(command)\r\n",
      "  File \"/usr/local/lib/python3.10/dist-packages/setuptools/_distutils/dist.py\", line 989, in run_command\r\n",
      "    cmd_obj.run()\r\n",
      "  File \"/usr/local/lib/python3.10/dist-packages/setuptools/_distutils/command/build_ext.py\", line 359, in run\r\n",
      "    self.build_extensions()\r\n",
      "  File \"/usr/local/lib/python3.10/dist-packages/setuptools/_distutils/command/build_ext.py\", line 479, in build_extensions\r\n",
      "    self._build_extensions_serial()\r\n",
      "  File \"/usr/local/lib/python3.10/dist-packages/setuptools/_distutils/command/build_ext.py\", line 505, in _build_extensions_serial\r\n",
      "    self.build_extension(ext)\r\n",
      "  File \"/usr/local/lib/python3.10/dist-packages/Cython/Distutils/build_ext.py\", line 130, in build_extension\r\n",
      "    new_ext = cythonize(\r\n",
      "  File \"/usr/local/lib/python3.10/dist-packages/Cython/Build/Dependencies.py\", line 1154, in cythonize\r\n",
      "    cythonize_one(*args)\r\n",
      "  File \"/usr/local/lib/python3.10/dist-packages/Cython/Build/Dependencies.py\", line 1321, in cythonize_one\r\n",
      "    raise CompileError(None, pyx_file)\r\n",
      "Cython.Compiler.Errors.CompileError: Sparse_Matrix_Tree_CSR.pyx\r\n",
      "Traceback (most recent call last):\r\n",
      "  File \"/kaggle/working/RECsys_Challenge2024/run_compile_all_cython.py\", line 60, in <module>\r\n",
      "    run_compile_subprocess(file_path, [file_name])\r\n",
      "  File \"/kaggle/working/RECsys_Challenge2024/CythonCompiler/run_compile_subprocess.py\", line 51, in run_compile_subprocess\r\n",
      "    raise exc\r\n",
      "  File \"/kaggle/working/RECsys_Challenge2024/CythonCompiler/run_compile_subprocess.py\", line 32, in run_compile_subprocess\r\n",
      "    output = subprocess.check_output(' '.join(command),\r\n",
      "  File \"/usr/lib/python3.10/subprocess.py\", line 421, in check_output\r\n",
      "    return run(*popenargs, stdout=PIPE, timeout=timeout, check=True,\r\n",
      "  File \"/usr/lib/python3.10/subprocess.py\", line 526, in run\r\n",
      "    raise CalledProcessError(retcode, process.args,\r\n",
      "subprocess.CalledProcessError: Command '/usr/bin/python3 /kaggle/working/RECsys_Challenge2024/CythonCompiler/compile_script.py Sparse_Matrix_Tree_CSR.pyx build_ext --inplace' returned non-zero exit status 1.\r\n",
      "Compiling [4/11]: Sparse_Matrix_Tree_CSR.pyx... FAIL: Command '/usr/bin/python3 /kaggle/working/RECsys_Challenge2024/CythonCompiler/compile_script.py Sparse_Matrix_Tree_CSR.pyx build_ext --inplace' returned non-zero exit status 1.\r\n",
      "\r\n",
      "Compiling [5/11]: Triangular_Matrix.pyx... \r\n",
      "warning: Triangular_Matrix.pyx:22:0: The 'IF' statement is deprecated and will be removed in a future Cython version. Consider using runtime conditions or C macros instead. See https://github.com/cython/cython/issues/4310\r\n",
      "In file included from \u001b[01m\u001b[K/usr/local/lib/python3.10/dist-packages/numpy/core/include/numpy/ndarraytypes.h:1929\u001b[m\u001b[K,\r\n",
      "                 from \u001b[01m\u001b[K/usr/local/lib/python3.10/dist-packages/numpy/core/include/numpy/ndarrayobject.h:12\u001b[m\u001b[K,\r\n",
      "                 from \u001b[01m\u001b[K/usr/local/lib/python3.10/dist-packages/numpy/core/include/numpy/arrayobject.h:5\u001b[m\u001b[K,\r\n",
      "                 from \u001b[01m\u001b[KTriangular_Matrix.c:1252\u001b[m\u001b[K:\r\n",
      "\u001b[01m\u001b[K/usr/local/lib/python3.10/dist-packages/numpy/core/include/numpy/npy_1_7_deprecated_api.h:17:2:\u001b[m\u001b[K \u001b[01;35m\u001b[Kwarning: \u001b[m\u001b[K#warning \"Using deprecated NumPy API, disable it with \" \"#define NPY_NO_DEPRECATED_API NPY_1_7_API_VERSION\" [\u001b[01;35m\u001b[K\u001b]8;;https://gcc.gnu.org/onlinedocs/gcc/Warning-Options.html#index-Wcpp\u0007-Wcpp\u001b]8;;\u0007\u001b[m\u001b[K]\r\n",
      "   17 | #\u001b[01;35m\u001b[Kwarning\u001b[m\u001b[K \"Using deprecated NumPy API, disable it with \" \\\r\n",
      "      |  \u001b[01;35m\u001b[K^~~~~~~\u001b[m\u001b[K\r\n",
      "In function ‘\u001b[01m\u001b[K__pyx_pf_17Triangular_Matrix_17Triangular_Matrix___init__\u001b[m\u001b[K’,\r\n",
      "    inlined from ‘\u001b[01m\u001b[K__pyx_pw_17Triangular_Matrix_17Triangular_Matrix_1__init__\u001b[m\u001b[K’ at \u001b[01m\u001b[KTriangular_Matrix.c:5541:13\u001b[m\u001b[K:\r\n",
      "\u001b[01m\u001b[KTriangular_Matrix.c:5599:43:\u001b[m\u001b[K \u001b[01;35m\u001b[Kwarning: \u001b[m\u001b[Kargument 1 value ‘\u001b[01m\u001b[K18446744073709551608\u001b[m\u001b[K’ exceeds maximum object size 9223372036854775807 [\u001b[01;35m\u001b[K\u001b]8;;https://gcc.gnu.org/onlinedocs/gcc/Warning-Options.html#index-Walloc-size-larger-than=\u0007-Walloc-size-larger-than=\u001b]8;;\u0007\u001b[m\u001b[K]\r\n",
      " 5599 |   __pyx_v_self->row_pointer = ((double **)\u001b[01;35m\u001b[Kmalloc((__pyx_v_self->num_rows * (sizeof(double *))))\u001b[m\u001b[K);\r\n",
      "      |                                           \u001b[01;35m\u001b[K^~~~~~~~~~~~~~~~~~~~~~~~~~~~~~~~~~~~~~~~~~~~~~~~~~~~~\u001b[m\u001b[K\r\n",
      "In file included from \u001b[01m\u001b[K/usr/include/python3.10/Python.h:34\u001b[m\u001b[K,\r\n",
      "                 from \u001b[01m\u001b[KTriangular_Matrix.c:41\u001b[m\u001b[K:\r\n",
      "\u001b[01m\u001b[KTriangular_Matrix.c:\u001b[m\u001b[K In function ‘\u001b[01m\u001b[K__pyx_pw_17Triangular_Matrix_17Triangular_Matrix_1__init__\u001b[m\u001b[K’:\r\n",
      "\u001b[01m\u001b[K/usr/include/stdlib.h:540:14:\u001b[m\u001b[K \u001b[01;36m\u001b[Knote: \u001b[m\u001b[Kin a call to allocation function ‘\u001b[01m\u001b[Kmalloc\u001b[m\u001b[K’ declared here\r\n",
      "  540 | extern void *\u001b[01;36m\u001b[Kmalloc\u001b[m\u001b[K (size_t __size) __THROW __attribute_malloc__\r\n",
      "      |              \u001b[01;36m\u001b[K^~~~~~\u001b[m\u001b[K\r\n",
      "/usr/local/lib/python3.10/dist-packages/Cython/Compiler/Main.py:381: FutureWarning: Cython directive 'language_level' not set, using '3str' for now (Py3). This has changed from earlier releases! File: /kaggle/working/RECsys_Challenge2024/Recommenders/SLIM/Cython/Triangular_Matrix.pyx\r\n",
      "  tree = Parsing.p_module(s, pxd, full_module_name)\r\n",
      "warning: Triangular_Matrix.pyx:22:0: The 'IF' statement is deprecated and will be removed in a future Cython version. Consider using runtime conditions or C macros instead. See https://github.com/cython/cython/issues/4310\r\n",
      "Compiling [5/11]: Triangular_Matrix.pyx... PASS\r\n",
      "\r\n",
      "Compiling [6/11]: SLIM_BPR_Cython_Epoch.pyx... \r\n",
      "warning: SLIM_BPR_Cython_Epoch.pyx:24:0: The 'IF' statement is deprecated and will be removed in a future Cython version. Consider using runtime conditions or C macros instead. See https://github.com/cython/cython/issues/4310\r\n",
      "warning: SLIM_BPR_Cython_Epoch.pyx:632:34: Non-trivial type declarators in shared declaration (e.g. mix of pointers and values). Each pointer declaration should be on its own line.\r\n",
      "warning: SLIM_BPR_Cython_Epoch.pyx:632:66: Non-trivial type declarators in shared declaration (e.g. mix of pointers and values). Each pointer declaration should be on its own line.\r\n",
      "warning: SLIM_BPR_Cython_Epoch.pyx:817:35: Non-trivial type declarators in shared declaration (e.g. mix of pointers and values). Each pointer declaration should be on its own line.\r\n",
      "warning: SLIM_BPR_Cython_Epoch.pyx:817:52: Non-trivial type declarators in shared declaration (e.g. mix of pointers and values). Each pointer declaration should be on its own line.\r\n",
      "warning: SLIM_BPR_Cython_Epoch.pyx:916:35: Non-trivial type declarators in shared declaration (e.g. mix of pointers and values). Each pointer declaration should be on its own line.\r\n",
      "warning: SLIM_BPR_Cython_Epoch.pyx:916:53: Non-trivial type declarators in shared declaration (e.g. mix of pointers and values). Each pointer declaration should be on its own line.\r\n",
      "warning: SLIM_BPR_Cython_Epoch.pyx:916:69: Non-trivial type declarators in shared declaration (e.g. mix of pointers and values). Each pointer declaration should be on its own line.\r\n",
      "warning: SLIM_BPR_Cython_Epoch.pyx:1051:35: Non-trivial type declarators in shared declaration (e.g. mix of pointers and values). Each pointer declaration should be on its own line.\r\n",
      "warning: SLIM_BPR_Cython_Epoch.pyx:1051:42: Non-trivial type declarators in shared declaration (e.g. mix of pointers and values). Each pointer declaration should be on its own line.\r\n",
      "warning: SLIM_BPR_Cython_Epoch.pyx:1052:35: Non-trivial type declarators in shared declaration (e.g. mix of pointers and values). Each pointer declaration should be on its own line.\r\n",
      "warning: SLIM_BPR_Cython_Epoch.pyx:1052:53: Non-trivial type declarators in shared declaration (e.g. mix of pointers and values). Each pointer declaration should be on its own line.\r\n",
      "\r\n",
      "Error compiling Cython file:\r\n",
      "------------------------------------------------------------\r\n",
      "...\r\n",
      "            vector_pointer_to_list_elements[index].head = current_element\r\n",
      "            current_element = current_element.higher\r\n",
      "\r\n",
      "\r\n",
      "        # Sort array elements on their data field\r\n",
      "        qsort(vector_pointer_to_list_elements, list_length, sizeof(head_pointer_tree_s), compare_struct_on_data)\r\n",
      "                                                                                         ^\r\n",
      "------------------------------------------------------------\r\n",
      "\r\n",
      "SLIM_BPR_Cython_Epoch.pyx:990:89: Cannot assign type 'int (const void *, const void *) except? -1' to 'int (*)(const_void *, const_void *) noexcept'. Exception values are incompatible. Suggest adding 'noexcept' to the type of 'compare_struct_on_data'.\r\n",
      "\r\n",
      "Error compiling Cython file:\r\n",
      "------------------------------------------------------------\r\n",
      "...\r\n",
      "        # Sort array elements on their data field\r\n",
      "        qsort(vector_pointer_to_list_elements, list_length, sizeof(head_pointer_tree_s), compare_struct_on_data)\r\n",
      "\r\n",
      "        # Sort only the TopK according to their column field\r\n",
      "        # Sort is from lower to higher, therefore the elements to be considered are from len-topK to len\r\n",
      "        qsort(&vector_pointer_to_list_elements[list_length-TopK], TopK, sizeof(head_pointer_tree_s), compare_struct_on_column)\r\n",
      "                                                                                                     ^\r\n",
      "------------------------------------------------------------\r\n",
      "\r\n",
      "SLIM_BPR_Cython_Epoch.pyx:994:101: Cannot assign type 'int (const void *, const void *) except? -1' to 'int (*)(const_void *, const_void *) noexcept'. Exception values are incompatible. Suggest adding 'noexcept' to the type of 'compare_struct_on_column'.\r\n",
      "Traceback (most recent call last):\r\n",
      "  File \"/kaggle/working/RECsys_Challenge2024/CythonCompiler/compile_script.py\", line 48, in <module>\r\n",
      "    setup(\r\n",
      "  File \"/usr/local/lib/python3.10/dist-packages/setuptools/__init__.py\", line 108, in setup\r\n",
      "    return distutils.core.setup(**attrs)\r\n",
      "  File \"/usr/local/lib/python3.10/dist-packages/setuptools/_distutils/core.py\", line 184, in setup\r\n",
      "    return run_commands(dist)\r\n",
      "  File \"/usr/local/lib/python3.10/dist-packages/setuptools/_distutils/core.py\", line 200, in run_commands\r\n",
      "    dist.run_commands()\r\n",
      "  File \"/usr/local/lib/python3.10/dist-packages/setuptools/_distutils/dist.py\", line 970, in run_commands\r\n",
      "    self.run_command(cmd)\r\n",
      "  File \"/usr/local/lib/python3.10/dist-packages/setuptools/dist.py\", line 956, in run_command\r\n",
      "    super().run_command(command)\r\n",
      "  File \"/usr/local/lib/python3.10/dist-packages/setuptools/_distutils/dist.py\", line 989, in run_command\r\n",
      "    cmd_obj.run()\r\n",
      "  File \"/usr/local/lib/python3.10/dist-packages/setuptools/_distutils/command/build_ext.py\", line 359, in run\r\n",
      "    self.build_extensions()\r\n",
      "  File \"/usr/local/lib/python3.10/dist-packages/setuptools/_distutils/command/build_ext.py\", line 479, in build_extensions\r\n",
      "    self._build_extensions_serial()\r\n",
      "  File \"/usr/local/lib/python3.10/dist-packages/setuptools/_distutils/command/build_ext.py\", line 505, in _build_extensions_serial\r\n",
      "    self.build_extension(ext)\r\n",
      "  File \"/usr/local/lib/python3.10/dist-packages/Cython/Distutils/build_ext.py\", line 130, in build_extension\r\n",
      "    new_ext = cythonize(\r\n",
      "  File \"/usr/local/lib/python3.10/dist-packages/Cython/Build/Dependencies.py\", line 1154, in cythonize\r\n",
      "    cythonize_one(*args)\r\n",
      "  File \"/usr/local/lib/python3.10/dist-packages/Cython/Build/Dependencies.py\", line 1321, in cythonize_one\r\n",
      "    raise CompileError(None, pyx_file)\r\n",
      "Cython.Compiler.Errors.CompileError: SLIM_BPR_Cython_Epoch.pyx\r\n",
      "Traceback (most recent call last):\r\n",
      "  File \"/kaggle/working/RECsys_Challenge2024/run_compile_all_cython.py\", line 60, in <module>\r\n",
      "    run_compile_subprocess(file_path, [file_name])\r\n",
      "  File \"/kaggle/working/RECsys_Challenge2024/CythonCompiler/run_compile_subprocess.py\", line 51, in run_compile_subprocess\r\n",
      "    raise exc\r\n",
      "  File \"/kaggle/working/RECsys_Challenge2024/CythonCompiler/run_compile_subprocess.py\", line 32, in run_compile_subprocess\r\n",
      "    output = subprocess.check_output(' '.join(command),\r\n",
      "  File \"/usr/lib/python3.10/subprocess.py\", line 421, in check_output\r\n",
      "    return run(*popenargs, stdout=PIPE, timeout=timeout, check=True,\r\n",
      "  File \"/usr/lib/python3.10/subprocess.py\", line 526, in run\r\n",
      "    raise CalledProcessError(retcode, process.args,\r\n",
      "subprocess.CalledProcessError: Command '/usr/bin/python3 /kaggle/working/RECsys_Challenge2024/CythonCompiler/compile_script.py SLIM_BPR_Cython_Epoch.pyx build_ext --inplace' returned non-zero exit status 1.\r\n",
      "Compiling [6/11]: SLIM_BPR_Cython_Epoch.pyx... FAIL: Command '/usr/bin/python3 /kaggle/working/RECsys_Challenge2024/CythonCompiler/compile_script.py SLIM_BPR_Cython_Epoch.pyx build_ext --inplace' returned non-zero exit status 1.\r\n",
      "\r\n",
      "Compiling [7/11]: FBSM_Rating_Cython_SGD.pyx... \r\n",
      "In file included from \u001b[01m\u001b[K/usr/local/lib/python3.10/dist-packages/numpy/core/include/numpy/ndarraytypes.h:1929\u001b[m\u001b[K,\r\n",
      "                 from \u001b[01m\u001b[K/usr/local/lib/python3.10/dist-packages/numpy/core/include/numpy/ndarrayobject.h:12\u001b[m\u001b[K,\r\n",
      "                 from \u001b[01m\u001b[K/usr/local/lib/python3.10/dist-packages/numpy/core/include/numpy/arrayobject.h:5\u001b[m\u001b[K,\r\n",
      "                 from \u001b[01m\u001b[KFBSM_Rating_Cython_SGD.c:1252\u001b[m\u001b[K:\r\n",
      "\u001b[01m\u001b[K/usr/local/lib/python3.10/dist-packages/numpy/core/include/numpy/npy_1_7_deprecated_api.h:17:2:\u001b[m\u001b[K \u001b[01;35m\u001b[Kwarning: \u001b[m\u001b[K#warning \"Using deprecated NumPy API, disable it with \" \"#define NPY_NO_DEPRECATED_API NPY_1_7_API_VERSION\" [\u001b[01;35m\u001b[K\u001b]8;;https://gcc.gnu.org/onlinedocs/gcc/Warning-Options.html#index-Wcpp\u0007-Wcpp\u001b]8;;\u0007\u001b[m\u001b[K]\r\n",
      "   17 | #\u001b[01;35m\u001b[Kwarning\u001b[m\u001b[K \"Using deprecated NumPy API, disable it with \" \\\r\n",
      "      |  \u001b[01;35m\u001b[K^~~~~~~\u001b[m\u001b[K\r\n",
      "\u001b[01m\u001b[KFBSM_Rating_Cython_SGD.c:\u001b[m\u001b[K In function ‘\u001b[01m\u001b[K__pyx_pf_22FBSM_Rating_Cython_SGD_22FBSM_Rating_Cython_SGD_2fit\u001b[m\u001b[K’:\r\n",
      "\u001b[01m\u001b[KFBSM_Rating_Cython_SGD.c:26607:55:\u001b[m\u001b[K \u001b[01;35m\u001b[Kwarning: \u001b[m\u001b[K‘\u001b[01m\u001b[K__pyx_v_num_sample\u001b[m\u001b[K’ may be used uninitialized in this function [\u001b[01;35m\u001b[K\u001b]8;;https://gcc.gnu.org/onlinedocs/gcc/Warning-Options.html#index-Wmaybe-uninitialized\u0007-Wmaybe-uninitialized\u001b]8;;\u0007\u001b[m\u001b[K]\r\n",
      "26607 |   __pyx_t_5 = PyFloat_FromDouble((__pyx_v_cum_loss / \u001b[01;35m\u001b[K((double)__pyx_v_num_sample)\u001b[m\u001b[K)); if (unlikely(!__pyx_t_5)) __PYX_ERR(0, 551, __pyx_L1_error)\r\n",
      "      |                                                      \u001b[01;35m\u001b[K~^~~~~~~~~~~~~~~~~~~~~~~~~~~\u001b[m\u001b[K\r\n",
      "/usr/local/lib/python3.10/dist-packages/Cython/Compiler/Main.py:381: FutureWarning: Cython directive 'language_level' not set, using '3str' for now (Py3). This has changed from earlier releases! File: /kaggle/working/RECsys_Challenge2024/Recommenders/FeatureWeighting/Cython/FBSM_Rating_Cython_SGD.pyx\r\n",
      "  tree = Parsing.p_module(s, pxd, full_module_name)\r\n",
      "Compiling [7/11]: FBSM_Rating_Cython_SGD.pyx... PASS\r\n",
      "\r\n",
      "Compiling [8/11]: HP3_Similarity_Cython_SGD.pyx... \r\n",
      "performance hint: HP3_Similarity_Cython_SGD.pyx:113:40: Index should be typed for more efficient access\r\n",
      "performance hint: HP3_Similarity_Cython_SGD.pyx:114:40: Index should be typed for more efficient access\r\n",
      "In file included from \u001b[01m\u001b[K/usr/local/lib/python3.10/dist-packages/numpy/core/include/numpy/ndarraytypes.h:1929\u001b[m\u001b[K,\r\n",
      "                 from \u001b[01m\u001b[K/usr/local/lib/python3.10/dist-packages/numpy/core/include/numpy/ndarrayobject.h:12\u001b[m\u001b[K,\r\n",
      "                 from \u001b[01m\u001b[K/usr/local/lib/python3.10/dist-packages/numpy/core/include/numpy/arrayobject.h:5\u001b[m\u001b[K,\r\n",
      "                 from \u001b[01m\u001b[KHP3_Similarity_Cython_SGD.c:1252\u001b[m\u001b[K:\r\n",
      "\u001b[01m\u001b[K/usr/local/lib/python3.10/dist-packages/numpy/core/include/numpy/npy_1_7_deprecated_api.h:17:2:\u001b[m\u001b[K \u001b[01;35m\u001b[Kwarning: \u001b[m\u001b[K#warning \"Using deprecated NumPy API, disable it with \" \"#define NPY_NO_DEPRECATED_API NPY_1_7_API_VERSION\" [\u001b[01;35m\u001b[K\u001b]8;;https://gcc.gnu.org/onlinedocs/gcc/Warning-Options.html#index-Wcpp\u0007-Wcpp\u001b]8;;\u0007\u001b[m\u001b[K]\r\n",
      "   17 | #\u001b[01;35m\u001b[Kwarning\u001b[m\u001b[K \"Using deprecated NumPy API, disable it with \" \\\r\n",
      "      |  \u001b[01;35m\u001b[K^~~~~~~\u001b[m\u001b[K\r\n",
      "\u001b[01m\u001b[KHP3_Similarity_Cython_SGD.c:\u001b[m\u001b[K In function ‘\u001b[01m\u001b[K__pyx_pf_25HP3_Similarity_Cython_SGD_25HP3_Similarity_Cython_SGD_4fit\u001b[m\u001b[K’:\r\n",
      "\u001b[01m\u001b[KHP3_Similarity_Cython_SGD.c:23631:55:\u001b[m\u001b[K \u001b[01;35m\u001b[Kwarning: \u001b[m\u001b[K‘\u001b[01m\u001b[K__pyx_v_sample_num\u001b[m\u001b[K’ may be used uninitialized in this function [\u001b[01;35m\u001b[K\u001b]8;;https://gcc.gnu.org/onlinedocs/gcc/Warning-Options.html#index-Wmaybe-uninitialized\u0007-Wmaybe-uninitialized\u001b]8;;\u0007\u001b[m\u001b[K]\r\n",
      "23631 |   __pyx_t_1 = PyFloat_FromDouble((__pyx_v_cum_loss / \u001b[01;35m\u001b[K((double)__pyx_v_sample_num)\u001b[m\u001b[K)); if (unlikely(!__pyx_t_1)) __PYX_ERR(0, 291, __pyx_L1_error)\r\n",
      "      |                                                      \u001b[01;35m\u001b[K~^~~~~~~~~~~~~~~~~~~~~~~~~~~\u001b[m\u001b[K\r\n",
      "/usr/local/lib/python3.10/dist-packages/Cython/Compiler/Main.py:381: FutureWarning: Cython directive 'language_level' not set, using '3str' for now (Py3). This has changed from earlier releases! File: /kaggle/working/RECsys_Challenge2024/Recommenders/FeatureWeighting/Cython/HP3_Similarity_Cython_SGD.pyx\r\n",
      "  tree = Parsing.p_module(s, pxd, full_module_name)\r\n",
      "performance hint: HP3_Similarity_Cython_SGD.pyx:113:40: Index should be typed for more efficient access\r\n",
      "performance hint: HP3_Similarity_Cython_SGD.pyx:114:40: Index should be typed for more efficient access\r\n",
      "Compiling [8/11]: HP3_Similarity_Cython_SGD.pyx... PASS\r\n",
      "\r\n",
      "Compiling [9/11]: CFW_D_Similarity_Cython_SGD.pyx... \r\n",
      "In file included from \u001b[01m\u001b[K/usr/local/lib/python3.10/dist-packages/numpy/core/include/numpy/ndarraytypes.h:1929\u001b[m\u001b[K,\r\n",
      "                 from \u001b[01m\u001b[K/usr/local/lib/python3.10/dist-packages/numpy/core/include/numpy/ndarrayobject.h:12\u001b[m\u001b[K,\r\n",
      "                 from \u001b[01m\u001b[K/usr/local/lib/python3.10/dist-packages/numpy/core/include/numpy/arrayobject.h:5\u001b[m\u001b[K,\r\n",
      "                 from \u001b[01m\u001b[KCFW_D_Similarity_Cython_SGD.c:1252\u001b[m\u001b[K:\r\n",
      "\u001b[01m\u001b[K/usr/local/lib/python3.10/dist-packages/numpy/core/include/numpy/npy_1_7_deprecated_api.h:17:2:\u001b[m\u001b[K \u001b[01;35m\u001b[Kwarning: \u001b[m\u001b[K#warning \"Using deprecated NumPy API, disable it with \" \"#define NPY_NO_DEPRECATED_API NPY_1_7_API_VERSION\" [\u001b[01;35m\u001b[K\u001b]8;;https://gcc.gnu.org/onlinedocs/gcc/Warning-Options.html#index-Wcpp\u0007-Wcpp\u001b]8;;\u0007\u001b[m\u001b[K]\r\n",
      "   17 | #\u001b[01;35m\u001b[Kwarning\u001b[m\u001b[K \"Using deprecated NumPy API, disable it with \" \\\r\n",
      "      |  \u001b[01;35m\u001b[K^~~~~~~\u001b[m\u001b[K\r\n",
      "\u001b[01m\u001b[KCFW_D_Similarity_Cython_SGD.c:\u001b[m\u001b[K In function ‘\u001b[01m\u001b[K__pyx_pf_27CFW_D_Similarity_Cython_SGD_27CFW_D_Similarity_Cython_SGD_6fit\u001b[m\u001b[K’:\r\n",
      "\u001b[01m\u001b[KCFW_D_Similarity_Cython_SGD.c:23373:55:\u001b[m\u001b[K \u001b[01;35m\u001b[Kwarning: \u001b[m\u001b[K‘\u001b[01m\u001b[K__pyx_v_sample_num\u001b[m\u001b[K’ may be used uninitialized in this function [\u001b[01;35m\u001b[K\u001b]8;;https://gcc.gnu.org/onlinedocs/gcc/Warning-Options.html#index-Wmaybe-uninitialized\u0007-Wmaybe-uninitialized\u001b]8;;\u0007\u001b[m\u001b[K]\r\n",
      "23373 |   __pyx_t_3 = PyFloat_FromDouble((__pyx_v_cum_loss / \u001b[01;35m\u001b[K((double)__pyx_v_sample_num)\u001b[m\u001b[K)); if (unlikely(!__pyx_t_3)) __PYX_ERR(0, 290, __pyx_L1_error)\r\n",
      "      |                                                      \u001b[01;35m\u001b[K~^~~~~~~~~~~~~~~~~~~~~~~~~~~\u001b[m\u001b[K\r\n",
      "/usr/local/lib/python3.10/dist-packages/Cython/Compiler/Main.py:381: FutureWarning: Cython directive 'language_level' not set, using '3str' for now (Py3). This has changed from earlier releases! File: /kaggle/working/RECsys_Challenge2024/Recommenders/FeatureWeighting/Cython/CFW_D_Similarity_Cython_SGD.pyx\r\n",
      "  tree = Parsing.p_module(s, pxd, full_module_name)\r\n",
      "Compiling [9/11]: CFW_D_Similarity_Cython_SGD.pyx... PASS\r\n",
      "\r\n",
      "Compiling [10/11]: CFW_DVV_Similarity_Cython_SGD.pyx... \r\n",
      "In file included from \u001b[01m\u001b[K/usr/local/lib/python3.10/dist-packages/numpy/core/include/numpy/ndarraytypes.h:1929\u001b[m\u001b[K,\r\n",
      "                 from \u001b[01m\u001b[K/usr/local/lib/python3.10/dist-packages/numpy/core/include/numpy/ndarrayobject.h:12\u001b[m\u001b[K,\r\n",
      "                 from \u001b[01m\u001b[K/usr/local/lib/python3.10/dist-packages/numpy/core/include/numpy/arrayobject.h:5\u001b[m\u001b[K,\r\n",
      "                 from \u001b[01m\u001b[KCFW_DVV_Similarity_Cython_SGD.c:1252\u001b[m\u001b[K:\r\n",
      "\u001b[01m\u001b[K/usr/local/lib/python3.10/dist-packages/numpy/core/include/numpy/npy_1_7_deprecated_api.h:17:2:\u001b[m\u001b[K \u001b[01;35m\u001b[Kwarning: \u001b[m\u001b[K#warning \"Using deprecated NumPy API, disable it with \" \"#define NPY_NO_DEPRECATED_API NPY_1_7_API_VERSION\" [\u001b[01;35m\u001b[K\u001b]8;;https://gcc.gnu.org/onlinedocs/gcc/Warning-Options.html#index-Wcpp\u0007-Wcpp\u001b]8;;\u0007\u001b[m\u001b[K]\r\n",
      "   17 | #\u001b[01;35m\u001b[Kwarning\u001b[m\u001b[K \"Using deprecated NumPy API, disable it with \" \\\r\n",
      "      |  \u001b[01;35m\u001b[K^~~~~~~\u001b[m\u001b[K\r\n",
      "/usr/local/lib/python3.10/dist-packages/Cython/Compiler/Main.py:381: FutureWarning: Cython directive 'language_level' not set, using '3str' for now (Py3). This has changed from earlier releases! File: /kaggle/working/RECsys_Challenge2024/Recommenders/FeatureWeighting/Cython/CFW_DVV_Similarity_Cython_SGD.pyx\r\n",
      "  tree = Parsing.p_module(s, pxd, full_module_name)\r\n",
      "Compiling [10/11]: CFW_DVV_Similarity_Cython_SGD.pyx... PASS\r\n",
      "\r\n",
      "Compiling [11/11]: DataIterator.pyx... \r\n",
      "In file included from \u001b[01m\u001b[K/usr/local/lib/python3.10/dist-packages/numpy/core/include/numpy/ndarraytypes.h:1929\u001b[m\u001b[K,\r\n",
      "                 from \u001b[01m\u001b[K/usr/local/lib/python3.10/dist-packages/numpy/core/include/numpy/ndarrayobject.h:12\u001b[m\u001b[K,\r\n",
      "                 from \u001b[01m\u001b[K/usr/local/lib/python3.10/dist-packages/numpy/core/include/numpy/arrayobject.h:5\u001b[m\u001b[K,\r\n",
      "                 from \u001b[01m\u001b[KDataIterator.c:1252\u001b[m\u001b[K:\r\n",
      "\u001b[01m\u001b[K/usr/local/lib/python3.10/dist-packages/numpy/core/include/numpy/npy_1_7_deprecated_api.h:17:2:\u001b[m\u001b[K \u001b[01;35m\u001b[Kwarning: \u001b[m\u001b[K#warning \"Using deprecated NumPy API, disable it with \" \"#define NPY_NO_DEPRECATED_API NPY_1_7_API_VERSION\" [\u001b[01;35m\u001b[K\u001b]8;;https://gcc.gnu.org/onlinedocs/gcc/Warning-Options.html#index-Wcpp\u0007-Wcpp\u001b]8;;\u0007\u001b[m\u001b[K]\r\n",
      "   17 | #\u001b[01;35m\u001b[Kwarning\u001b[m\u001b[K \"Using deprecated NumPy API, disable it with \" \\\r\n",
      "      |  \u001b[01;35m\u001b[K^~~~~~~\u001b[m\u001b[K\r\n",
      "\u001b[01m\u001b[KDataIterator.c:\u001b[m\u001b[K In function ‘\u001b[01m\u001b[K__pyx_pf_12DataIterator_19InteractionIterator_6__next__\u001b[m\u001b[K’:\r\n",
      "\u001b[01m\u001b[KDataIterator.c:20937:22:\u001b[m\u001b[K \u001b[01;35m\u001b[Kwarning: \u001b[m\u001b[K‘\u001b[01m\u001b[K__pyx_v_i_batch\u001b[m\u001b[K’ may be used uninitialized in this function [\u001b[01;35m\u001b[K\u001b]8;;https://gcc.gnu.org/onlinedocs/gcc/Warning-Options.html#index-Wmaybe-uninitialized\u0007-Wmaybe-uninitialized\u001b]8;;\u0007\u001b[m\u001b[K]\r\n",
      "20937 |     (__pyx_v_i_batch \u001b[01;35m\u001b[K+\u001b[m\u001b[K 1),\r\n",
      "      |                      \u001b[01;35m\u001b[K^\u001b[m\u001b[K\r\n",
      "\u001b[01m\u001b[KDataIterator.c:\u001b[m\u001b[K In function ‘\u001b[01m\u001b[K__pyx_pf_12DataIterator_30InteractionAndNegativeIterator_6__next__\u001b[m\u001b[K’:\r\n",
      "\u001b[01m\u001b[KDataIterator.c:25499:22:\u001b[m\u001b[K \u001b[01;35m\u001b[Kwarning: \u001b[m\u001b[K‘\u001b[01m\u001b[K__pyx_v_i_batch\u001b[m\u001b[K’ may be used uninitialized in this function [\u001b[01;35m\u001b[K\u001b]8;;https://gcc.gnu.org/onlinedocs/gcc/Warning-Options.html#index-Wmaybe-uninitialized\u0007-Wmaybe-uninitialized\u001b]8;;\u0007\u001b[m\u001b[K]\r\n",
      "25499 |     (__pyx_v_i_batch \u001b[01;35m\u001b[K+\u001b[m\u001b[K 1),\r\n",
      "      |                      \u001b[01;35m\u001b[K^\u001b[m\u001b[K\r\n",
      "\u001b[01m\u001b[KDataIterator.c:\u001b[m\u001b[K In function ‘\u001b[01m\u001b[K__pyx_pf_12DataIterator_11BPRIterator_6__next__\u001b[m\u001b[K’:\r\n",
      "\u001b[01m\u001b[KDataIterator.c:23056:22:\u001b[m\u001b[K \u001b[01;35m\u001b[Kwarning: \u001b[m\u001b[K‘\u001b[01m\u001b[K__pyx_v_i_batch\u001b[m\u001b[K’ may be used uninitialized in this function [\u001b[01;35m\u001b[K\u001b]8;;https://gcc.gnu.org/onlinedocs/gcc/Warning-Options.html#index-Wmaybe-uninitialized\u0007-Wmaybe-uninitialized\u001b]8;;\u0007\u001b[m\u001b[K]\r\n",
      "23056 |     (__pyx_v_i_batch \u001b[01;35m\u001b[K+\u001b[m\u001b[K 1),\r\n",
      "      |                      \u001b[01;35m\u001b[K^\u001b[m\u001b[K\r\n",
      "/usr/local/lib/python3.10/dist-packages/Cython/Compiler/Main.py:381: FutureWarning: Cython directive 'language_level' not set, using '3str' for now (Py3). This has changed from earlier releases! File: /kaggle/working/RECsys_Challenge2024/Utils/PyTorch/Cython/DataIterator.pyx\r\n",
      "  tree = Parsing.p_module(s, pxd, full_module_name)\r\n",
      "Compiling [11/11]: DataIterator.pyx... PASS\r\n",
      "\r\n",
      "run_compile_all_cython: Compilation finished. FAILS 2/11.\r\n",
      "Compilation log can be found here: './result_experiments/run_compile_all_cython.txt'\r\n"
     ]
    }
   ],
   "source": [
    "%cd /kaggle/working/RECsys_Challenge2024 \n",
    "! python run_compile_all_cython.py"
   ]
  },
  {
   "cell_type": "code",
   "execution_count": 5,
   "id": "29d09b29",
   "metadata": {
    "execution": {
     "iopub.execute_input": "2025-01-07T11:07:08.290615Z",
     "iopub.status.busy": "2025-01-07T11:07:08.290247Z",
     "iopub.status.idle": "2025-01-07T11:07:10.311041Z",
     "shell.execute_reply": "2025-01-07T11:07:10.309884Z"
    },
    "papermill": {
     "duration": 2.040081,
     "end_time": "2025-01-07T11:07:10.313021",
     "exception": false,
     "start_time": "2025-01-07T11:07:08.272940",
     "status": "completed"
    },
    "tags": []
   },
   "outputs": [],
   "source": [
    "from Utils.notebookFunctions import *\n",
    "import numpy as np\n",
    "import pandas as pd\n",
    "import scipy.sparse as sps\n",
    "import time\n",
    "import shutil\n",
    "import optuna\n",
    "import json\n",
    "import os\n",
    "from Utils.seconds_to_biggest_unit import seconds_to_biggest_unit\n",
    "\n",
    "\n",
    "K_PATH = '/kaggle/working/RECsys_Challenge2024'\n",
    "GH_PATH = 'TrainedModels/WithKFCV/KNN'\n",
    "\n",
    "np.random.seed(42)"
   ]
  },
  {
   "cell_type": "markdown",
   "id": "54979530",
   "metadata": {
    "papermill": {
     "duration": 0.013987,
     "end_time": "2025-01-07T11:07:10.341723",
     "exception": false,
     "start_time": "2025-01-07T11:07:10.327736",
     "status": "completed"
    },
    "tags": []
   },
   "source": [
    "## Import the repository **RECsys_Challenge2024**"
   ]
  },
  {
   "cell_type": "code",
   "execution_count": 6,
   "id": "5dd64e65",
   "metadata": {
    "execution": {
     "iopub.execute_input": "2025-01-07T11:07:10.371785Z",
     "iopub.status.busy": "2025-01-07T11:07:10.371263Z",
     "iopub.status.idle": "2025-01-07T11:07:10.856443Z",
     "shell.execute_reply": "2025-01-07T11:07:10.855131Z"
    },
    "papermill": {
     "duration": 0.502233,
     "end_time": "2025-01-07T11:07:10.858332",
     "exception": false,
     "start_time": "2025-01-07T11:07:10.356099",
     "status": "completed"
    },
    "tags": []
   },
   "outputs": [
    {
     "name": "stdout",
     "output_type": "stream",
     "text": [
      "Repository 'RECsys_Challenge2024' found.\n"
     ]
    }
   ],
   "source": [
    "repo = get_repo_from_github(token)"
   ]
  },
  {
   "cell_type": "code",
   "execution_count": 7,
   "id": "a9c8f84b",
   "metadata": {
    "execution": {
     "iopub.execute_input": "2025-01-07T11:07:10.889259Z",
     "iopub.status.busy": "2025-01-07T11:07:10.888812Z",
     "iopub.status.idle": "2025-01-07T11:07:10.893396Z",
     "shell.execute_reply": "2025-01-07T11:07:10.892353Z"
    },
    "papermill": {
     "duration": 0.021841,
     "end_time": "2025-01-07T11:07:10.895098",
     "exception": false,
     "start_time": "2025-01-07T11:07:10.873257",
     "status": "completed"
    },
    "tags": []
   },
   "outputs": [],
   "source": [
    "config = {\n",
    "    'model': 'UserKNNCF',\n",
    "    'n_folds': 5,\n",
    "    'metric': 'MAP',\n",
    "    'tune_parameters': True,\n",
    "    'database_path': '/kaggle/working/history_UserKNNCF_MAP.db',\n",
    "    'copy_prev_best_params': False,\n",
    "    'tune_best_params': True,\n",
    "    'save_github': True\n",
    "}"
   ]
  },
  {
   "cell_type": "markdown",
   "id": "e55dc1a8",
   "metadata": {
    "papermill": {
     "duration": 0.014546,
     "end_time": "2025-01-07T11:07:10.924441",
     "exception": false,
     "start_time": "2025-01-07T11:07:10.909895",
     "status": "completed"
    },
    "tags": []
   },
   "source": [
    "Import the database where previous tuning trials have been saved."
   ]
  },
  {
   "cell_type": "code",
   "execution_count": 8,
   "id": "79bc92a3",
   "metadata": {
    "execution": {
     "iopub.execute_input": "2025-01-07T11:07:10.955895Z",
     "iopub.status.busy": "2025-01-07T11:07:10.955550Z",
     "iopub.status.idle": "2025-01-07T11:07:10.960845Z",
     "shell.execute_reply": "2025-01-07T11:07:10.960009Z"
    },
    "papermill": {
     "duration": 0.02291,
     "end_time": "2025-01-07T11:07:10.962488",
     "exception": false,
     "start_time": "2025-01-07T11:07:10.939578",
     "status": "completed"
    },
    "tags": []
   },
   "outputs": [],
   "source": [
    "try:\n",
    "    shutil.copyfile(\n",
    "        f'{K_PATH}/{GH_PATH}/{config[\"model\"]}Recommender/Optimizing{config[\"metric\"]}/history_{config[\"model\"]}_{config[\"metric\"]}.db', \n",
    "        config['database_path']\n",
    "    )\n",
    "except FileNotFoundError:\n",
    "    pass # if not present optuna will create it"
   ]
  },
  {
   "cell_type": "markdown",
   "id": "201d3a0d",
   "metadata": {
    "papermill": {
     "duration": 0.014239,
     "end_time": "2025-01-07T11:07:10.991942",
     "exception": false,
     "start_time": "2025-01-07T11:07:10.977703",
     "status": "completed"
    },
    "tags": []
   },
   "source": [
    "# Construction of URM and ICM matrices"
   ]
  },
  {
   "cell_type": "code",
   "execution_count": 9,
   "id": "20267e3f",
   "metadata": {
    "execution": {
     "iopub.execute_input": "2025-01-07T11:07:11.022319Z",
     "iopub.status.busy": "2025-01-07T11:07:11.021900Z",
     "iopub.status.idle": "2025-01-07T11:07:11.560543Z",
     "shell.execute_reply": "2025-01-07T11:07:11.559493Z"
    },
    "papermill": {
     "duration": 0.555644,
     "end_time": "2025-01-07T11:07:11.562138",
     "exception": false,
     "start_time": "2025-01-07T11:07:11.006494",
     "status": "completed"
    },
    "tags": []
   },
   "outputs": [
    {
     "data": {
      "text/plain": [
       "<35736x38121 sparse matrix of type '<class 'numpy.float64'>'\n",
       "\twith 1764607 stored elements in Compressed Sparse Row format>"
      ]
     },
     "execution_count": 9,
     "metadata": {},
     "output_type": "execute_result"
    }
   ],
   "source": [
    "URM_all_dataframe = pd.read_csv(\"/kaggle/working/RECsys_Challenge2024/Dataset/data_train.csv\")\n",
    "\n",
    "n_users = len(URM_all_dataframe[\"user_id\"].unique())\n",
    "n_items = len(URM_all_dataframe[\"item_id\"].unique())\n",
    "\n",
    "URM_all = sps.csr_matrix((URM_all_dataframe[\"data\"].values, \n",
    "                          (URM_all_dataframe[\"user_id\"].values, URM_all_dataframe[\"item_id\"].values)),\n",
    "                        shape = (n_users, n_items))\n",
    "\n",
    "URM_all"
   ]
  },
  {
   "cell_type": "code",
   "execution_count": 10,
   "id": "3c74b94b",
   "metadata": {
    "execution": {
     "iopub.execute_input": "2025-01-07T11:07:11.593212Z",
     "iopub.status.busy": "2025-01-07T11:07:11.592809Z",
     "iopub.status.idle": "2025-01-07T11:07:12.449399Z",
     "shell.execute_reply": "2025-01-07T11:07:12.448348Z"
    },
    "papermill": {
     "duration": 0.873798,
     "end_time": "2025-01-07T11:07:12.451028",
     "exception": false,
     "start_time": "2025-01-07T11:07:11.577230",
     "status": "completed"
    },
    "tags": []
   },
   "outputs": [
    {
     "data": {
      "text/plain": [
       "<38121x94331 sparse matrix of type '<class 'numpy.float64'>'\n",
       "\twith 2940040 stored elements in Compressed Sparse Row format>"
      ]
     },
     "execution_count": 10,
     "metadata": {},
     "output_type": "execute_result"
    }
   ],
   "source": [
    "ICM_dataframe = pd.read_csv(\"/kaggle/working/RECsys_Challenge2024/Dataset/data_ICM_metadata.csv\")\n",
    "\n",
    "n_items = len(ICM_dataframe[\"item_id\"].unique())\n",
    "n_features = len(ICM_dataframe[\"feature_id\"].unique())\n",
    "\n",
    "ICM_all = sps.csr_matrix((ICM_dataframe[\"data\"].values, \n",
    "                          (ICM_dataframe[\"item_id\"].values, ICM_dataframe[\"feature_id\"].values)),\n",
    "                        shape = (n_items, n_features))\n",
    "\n",
    "ICM_all"
   ]
  },
  {
   "cell_type": "markdown",
   "id": "352cafcf",
   "metadata": {
    "papermill": {
     "duration": 0.014812,
     "end_time": "2025-01-07T11:07:12.481046",
     "exception": false,
     "start_time": "2025-01-07T11:07:12.466234",
     "status": "completed"
    },
    "tags": []
   },
   "source": [
    "# Training"
   ]
  },
  {
   "cell_type": "code",
   "execution_count": 11,
   "id": "a67e2cf1",
   "metadata": {
    "execution": {
     "iopub.execute_input": "2025-01-07T11:07:12.512253Z",
     "iopub.status.busy": "2025-01-07T11:07:12.511832Z",
     "iopub.status.idle": "2025-01-07T11:07:30.597933Z",
     "shell.execute_reply": "2025-01-07T11:07:30.596824Z"
    },
    "papermill": {
     "duration": 18.104073,
     "end_time": "2025-01-07T11:07:30.600012",
     "exception": false,
     "start_time": "2025-01-07T11:07:12.495939",
     "status": "completed"
    },
    "tags": []
   },
   "outputs": [
    {
     "name": "stdout",
     "output_type": "stream",
     "text": [
      "Warning: 141 (0.39 %) of 35736 users have no sampled items\n"
     ]
    }
   ],
   "source": [
    "from Evaluation.Evaluator import EvaluatorHoldout\n",
    "from Data_manager.split_functions.split_train_validation_random_holdout import split_train_in_two_percentage_global_sample\n",
    "from Data_manager.split_functions.split_train_k_folds import split_train_k_folds\n",
    "\n",
    "URM_train, URM_validation = split_train_in_two_percentage_global_sample(URM_all, train_percentage = 0.80)\n",
    "\n",
    "folds = split_train_k_folds(URM_all, k=config['n_folds'])"
   ]
  },
  {
   "cell_type": "code",
   "execution_count": 12,
   "id": "2c664952",
   "metadata": {
    "execution": {
     "iopub.execute_input": "2025-01-07T11:07:30.632658Z",
     "iopub.status.busy": "2025-01-07T11:07:30.632316Z",
     "iopub.status.idle": "2025-01-07T11:07:30.648833Z",
     "shell.execute_reply": "2025-01-07T11:07:30.647996Z"
    },
    "papermill": {
     "duration": 0.034986,
     "end_time": "2025-01-07T11:07:30.650543",
     "exception": false,
     "start_time": "2025-01-07T11:07:30.615557",
     "status": "completed"
    },
    "tags": []
   },
   "outputs": [],
   "source": [
    "from Recommenders.KNN.UserKNNCFRecommender import UserKNNCFRecommender\n",
    "\n",
    "def objective_function_UserKNNCF(optuna_trial):\n",
    "    \n",
    "    similarity = optuna_trial.suggest_categorical(\"similarity\", ['cosine', 'dice', 'jaccard', 'asymmetric', 'tversky', 'euclidean'])\n",
    "    \n",
    "    full_hyperp = {\"similarity\": similarity,\n",
    "                   \"topK\": optuna_trial.suggest_int(\"topK\", 0, 750),\n",
    "                   \"shrink\": optuna_trial.suggest_int(\"shrink\", 0, 1000),\n",
    "                   'feature_weighting': optuna_trial.suggest_categorical('feature_weighting', [\"BM25\", \"TF-IDF\", \"none\"])\n",
    "                  }\n",
    "    \n",
    "    if similarity == \"asymmetric\":\n",
    "        full_hyperp[\"asymmetric_alpha\"] = optuna_trial.suggest_float(\"asymmetric_alpha\", 0, 2, log=False)\n",
    "        full_hyperp[\"normalize\"] = True     \n",
    "\n",
    "    elif similarity == \"tversky\":\n",
    "        full_hyperp[\"tversky_alpha\"] = optuna_trial.suggest_float(\"tversky_alpha\", 0, 2, log=False)\n",
    "        full_hyperp[\"tversky_beta\"] = optuna_trial.suggest_float(\"tversky_beta\", 0, 2, log=False)\n",
    "        full_hyperp[\"normalize\"] = True \n",
    "\n",
    "    elif similarity == \"euclidean\":\n",
    "        full_hyperp[\"normalize_avg_row\"] = optuna_trial.suggest_categorical(\"normalize_avg_row\", [True, False])\n",
    "        full_hyperp[\"similarity_from_distance_mode\"] = optuna_trial.suggest_categorical(\"similarity_from_distance_mode\", [\"lin\", \"log\", \"exp\"])\n",
    "        full_hyperp[\"normalize\"] = optuna_trial.suggest_categorical(\"normalize\", [True, False])\n",
    "        \n",
    "    \n",
    "    validation_results = []\n",
    "    \n",
    "    for fold_idx, (URM_train_fold, URM_validation_fold) in enumerate(folds):\n",
    "    \n",
    "        recommender_instance = UserKNNCFRecommender(URM_train_fold)\n",
    "        recommender_instance.fit(**full_hyperp)\n",
    "        \n",
    "        evaluator = EvaluatorHoldout(URM_validation_fold, cutoff_list=[10])\n",
    "        result_df, _ = evaluator.evaluateRecommender(recommender_instance)\n",
    "        \n",
    "        validation_results.append(result_df.loc[10][\"MAP\"])\n",
    "    \n",
    "    return np.mean(validation_results)"
   ]
  },
  {
   "cell_type": "code",
   "execution_count": 13,
   "id": "cef6d0ac",
   "metadata": {
    "execution": {
     "iopub.execute_input": "2025-01-07T11:07:30.682540Z",
     "iopub.status.busy": "2025-01-07T11:07:30.682204Z",
     "iopub.status.idle": "2025-01-07T11:40:41.774694Z",
     "shell.execute_reply": "2025-01-07T11:40:41.773226Z"
    },
    "papermill": {
     "duration": 1991.110764,
     "end_time": "2025-01-07T11:40:41.776703",
     "exception": false,
     "start_time": "2025-01-07T11:07:30.665939",
     "status": "completed"
    },
    "tags": []
   },
   "outputs": [
    {
     "name": "stderr",
     "output_type": "stream",
     "text": [
      "[I 2025-01-07 11:07:31,680] Using an existing study with name 'hyperparameters_tuning_UserKNNCF_MAP' instead of creating a new one.\n"
     ]
    },
    {
     "name": "stdout",
     "output_type": "stream",
     "text": [
      "Similarity column 35736 (100.0%), 3063.42 column/sec. Elapsed time 11.67 sec\n",
      "EvaluatorHoldout: Ignoring 173 ( 0.5%) Users that have less than 1 test interactions\n",
      "EvaluatorHoldout: Processed 35563 (100.0%) in 55.50 sec. Users per second: 641\n",
      "Similarity column 35736 (100.0%), 3051.85 column/sec. Elapsed time 11.71 sec\n",
      "EvaluatorHoldout: Ignoring 163 ( 0.5%) Users that have less than 1 test interactions\n",
      "EvaluatorHoldout: Processed 35573 (100.0%) in 54.85 sec. Users per second: 649\n",
      "Similarity column 35736 (100.0%), 3068.40 column/sec. Elapsed time 11.65 sec\n",
      "EvaluatorHoldout: Ignoring 150 ( 0.4%) Users that have less than 1 test interactions\n",
      "EvaluatorHoldout: Processed 35586 (100.0%) in 55.62 sec. Users per second: 640\n",
      "Similarity column 35736 (100.0%), 3080.38 column/sec. Elapsed time 11.60 sec\n",
      "EvaluatorHoldout: Ignoring 167 ( 0.5%) Users that have less than 1 test interactions\n",
      "EvaluatorHoldout: Processed 35569 (100.0%) in 55.19 sec. Users per second: 644\n",
      "Similarity column 35736 (100.0%), 3085.40 column/sec. Elapsed time 11.58 sec\n",
      "EvaluatorHoldout: Ignoring 172 ( 0.5%) Users that have less than 1 test interactions\n",
      "EvaluatorHoldout: Processed 35564 (100.0%) in 55.27 sec. Users per second: 643\n"
     ]
    },
    {
     "name": "stderr",
     "output_type": "stream",
     "text": [
      "[I 2025-01-07 11:13:12,854] Trial 445 finished with value: 0.0424567662613292 and parameters: {'similarity': 'asymmetric', 'topK': 697, 'shrink': 31, 'feature_weighting': 'BM25', 'asymmetric_alpha': 0.5713745393994158}. Best is trial 339 with value: 0.042576295839399356.\n"
     ]
    },
    {
     "name": "stdout",
     "output_type": "stream",
     "text": [
      "Similarity column 35736 (100.0%), 3023.96 column/sec. Elapsed time 11.82 sec\n",
      "EvaluatorHoldout: Ignoring 173 ( 0.5%) Users that have less than 1 test interactions\n",
      "EvaluatorHoldout: Processed 35563 (100.0%) in 54.24 sec. Users per second: 656\n",
      "Similarity column 35736 (100.0%), 3023.31 column/sec. Elapsed time 11.82 sec\n",
      "EvaluatorHoldout: Ignoring 163 ( 0.5%) Users that have less than 1 test interactions\n",
      "EvaluatorHoldout: Processed 35573 (100.0%) in 54.26 sec. Users per second: 656\n",
      "Similarity column 35736 (100.0%), 3021.20 column/sec. Elapsed time 11.83 sec\n",
      "EvaluatorHoldout: Ignoring 150 ( 0.4%) Users that have less than 1 test interactions\n",
      "EvaluatorHoldout: Processed 35586 (100.0%) in 54.59 sec. Users per second: 652\n",
      "Similarity column 35736 (100.0%), 3005.26 column/sec. Elapsed time 11.89 sec\n",
      "EvaluatorHoldout: Ignoring 167 ( 0.5%) Users that have less than 1 test interactions\n",
      "EvaluatorHoldout: Processed 35569 (100.0%) in 54.52 sec. Users per second: 652\n",
      "Similarity column 35736 (100.0%), 3018.67 column/sec. Elapsed time 11.84 sec\n",
      "EvaluatorHoldout: Ignoring 172 ( 0.5%) Users that have less than 1 test interactions\n",
      "EvaluatorHoldout: Processed 35564 (100.0%) in 54.38 sec. Users per second: 654\n"
     ]
    },
    {
     "name": "stderr",
     "output_type": "stream",
     "text": [
      "[I 2025-01-07 11:18:49,372] Trial 446 finished with value: 0.03389516999869228 and parameters: {'similarity': 'asymmetric', 'topK': 720, 'shrink': 60, 'feature_weighting': 'none', 'asymmetric_alpha': 0.5156966141357019}. Best is trial 339 with value: 0.042576295839399356.\n"
     ]
    },
    {
     "name": "stdout",
     "output_type": "stream",
     "text": [
      "Similarity column 35736 (100.0%), 3131.05 column/sec. Elapsed time 11.41 sec\n",
      "EvaluatorHoldout: Ignoring 173 ( 0.5%) Users that have less than 1 test interactions\n",
      "EvaluatorHoldout: Processed 35563 (100.0%) in 45.64 sec. Users per second: 779\n",
      "Similarity column 35736 (100.0%), 3123.61 column/sec. Elapsed time 11.44 sec\n",
      "EvaluatorHoldout: Ignoring 163 ( 0.5%) Users that have less than 1 test interactions\n",
      "EvaluatorHoldout: Processed 35573 (100.0%) in 45.93 sec. Users per second: 774\n",
      "Similarity column 35736 (100.0%), 3150.26 column/sec. Elapsed time 11.34 sec\n",
      "EvaluatorHoldout: Ignoring 150 ( 0.4%) Users that have less than 1 test interactions\n",
      "EvaluatorHoldout: Processed 35586 (100.0%) in 46.05 sec. Users per second: 773\n",
      "Similarity column 35736 (100.0%), 3146.48 column/sec. Elapsed time 11.36 sec\n",
      "EvaluatorHoldout: Ignoring 167 ( 0.5%) Users that have less than 1 test interactions\n",
      "EvaluatorHoldout: Processed 35569 (100.0%) in 46.02 sec. Users per second: 773\n",
      "Similarity column 35736 (100.0%), 3139.03 column/sec. Elapsed time 11.38 sec\n",
      "EvaluatorHoldout: Ignoring 172 ( 0.5%) Users that have less than 1 test interactions\n",
      "EvaluatorHoldout: Processed 35564 (100.0%) in 45.77 sec. Users per second: 777\n"
     ]
    },
    {
     "name": "stderr",
     "output_type": "stream",
     "text": [
      "[I 2025-01-07 11:23:39,318] Trial 447 finished with value: 0.03966670943929375 and parameters: {'similarity': 'asymmetric', 'topK': 334, 'shrink': 85, 'feature_weighting': 'BM25', 'asymmetric_alpha': 0.43617532187894514}. Best is trial 339 with value: 0.042576295839399356.\n"
     ]
    },
    {
     "name": "stdout",
     "output_type": "stream",
     "text": [
      "Similarity column 35736 (100.0%), 3090.05 column/sec. Elapsed time 11.56 sec\n",
      "EvaluatorHoldout: Ignoring 173 ( 0.5%) Users that have less than 1 test interactions\n",
      "EvaluatorHoldout: Processed 35563 (100.0%) in 55.20 sec. Users per second: 644\n",
      "Similarity column 35736 (100.0%), 3087.22 column/sec. Elapsed time 11.58 sec\n",
      "EvaluatorHoldout: Ignoring 163 ( 0.5%) Users that have less than 1 test interactions\n",
      "EvaluatorHoldout: Processed 35573 (100.0%) in 55.64 sec. Users per second: 639\n",
      "Similarity column 35736 (100.0%), 3088.31 column/sec. Elapsed time 11.57 sec\n",
      "EvaluatorHoldout: Ignoring 150 ( 0.4%) Users that have less than 1 test interactions\n",
      "EvaluatorHoldout: Processed 35586 (100.0%) in 55.31 sec. Users per second: 643\n",
      "Similarity column 35736 (100.0%), 3086.58 column/sec. Elapsed time 11.58 sec\n",
      "EvaluatorHoldout: Ignoring 167 ( 0.5%) Users that have less than 1 test interactions\n",
      "EvaluatorHoldout: Processed 35569 (100.0%) in 55.32 sec. Users per second: 643\n",
      "Similarity column 35736 (100.0%), 3052.59 column/sec. Elapsed time 11.71 sec\n",
      "EvaluatorHoldout: Ignoring 172 ( 0.5%) Users that have less than 1 test interactions\n",
      "EvaluatorHoldout: Processed 35564 (100.0%) in 55.13 sec. Users per second: 645\n"
     ]
    },
    {
     "name": "stderr",
     "output_type": "stream",
     "text": [
      "[I 2025-01-07 11:29:20,298] Trial 448 finished with value: 0.04261365462929629 and parameters: {'similarity': 'asymmetric', 'topK': 721, 'shrink': 41, 'feature_weighting': 'BM25', 'asymmetric_alpha': 0.6680207869245566}. Best is trial 448 with value: 0.04261365462929629.\n"
     ]
    },
    {
     "name": "stdout",
     "output_type": "stream",
     "text": [
      "Similarity column 35736 (100.0%), 3063.16 column/sec. Elapsed time 11.67 sec\n",
      "EvaluatorHoldout: Ignoring 173 ( 0.5%) Users that have less than 1 test interactions\n",
      "EvaluatorHoldout: Processed 35563 (100.0%) in 55.29 sec. Users per second: 643\n",
      "Similarity column 35736 (100.0%), 3081.09 column/sec. Elapsed time 11.60 sec\n",
      "EvaluatorHoldout: Ignoring 163 ( 0.5%) Users that have less than 1 test interactions\n",
      "EvaluatorHoldout: Processed 35573 (100.0%) in 55.38 sec. Users per second: 642\n",
      "Similarity column 35736 (100.0%), 3086.57 column/sec. Elapsed time 11.58 sec\n",
      "EvaluatorHoldout: Ignoring 150 ( 0.4%) Users that have less than 1 test interactions\n",
      "EvaluatorHoldout: Processed 35586 (100.0%) in 55.33 sec. Users per second: 643\n",
      "Similarity column 35736 (100.0%), 3075.42 column/sec. Elapsed time 11.62 sec\n",
      "EvaluatorHoldout: Ignoring 167 ( 0.5%) Users that have less than 1 test interactions\n",
      "EvaluatorHoldout: Processed 35569 (100.0%) in 55.36 sec. Users per second: 643\n",
      "Similarity column 35736 (100.0%), 3075.89 column/sec. Elapsed time 11.62 sec\n",
      "EvaluatorHoldout: Ignoring 172 ( 0.5%) Users that have less than 1 test interactions\n",
      "EvaluatorHoldout: Processed 35564 (100.0%) in 55.25 sec. Users per second: 644\n"
     ]
    },
    {
     "name": "stderr",
     "output_type": "stream",
     "text": [
      "[I 2025-01-07 11:35:00,816] Trial 449 finished with value: 0.04260960402614384 and parameters: {'similarity': 'asymmetric', 'topK': 720, 'shrink': 37, 'feature_weighting': 'BM25', 'asymmetric_alpha': 0.6721463398345757}. Best is trial 448 with value: 0.04261365462929629.\n"
     ]
    },
    {
     "name": "stdout",
     "output_type": "stream",
     "text": [
      "Similarity column 35736 (100.0%), 3063.08 column/sec. Elapsed time 11.67 sec\n",
      "EvaluatorHoldout: Ignoring 173 ( 0.5%) Users that have less than 1 test interactions\n",
      "EvaluatorHoldout: Processed 35563 (100.0%) in 55.16 sec. Users per second: 645\n",
      "Similarity column 35736 (100.0%), 3061.83 column/sec. Elapsed time 11.67 sec\n",
      "EvaluatorHoldout: Ignoring 163 ( 0.5%) Users that have less than 1 test interactions\n",
      "EvaluatorHoldout: Processed 35573 (100.0%) in 55.38 sec. Users per second: 642\n",
      "Similarity column 35736 (100.0%), 3043.99 column/sec. Elapsed time 11.74 sec\n",
      "EvaluatorHoldout: Ignoring 150 ( 0.4%) Users that have less than 1 test interactions\n",
      "EvaluatorHoldout: Processed 35586 (100.0%) in 55.20 sec. Users per second: 645\n",
      "Similarity column 35736 (100.0%), 3082.31 column/sec. Elapsed time 11.59 sec\n",
      "EvaluatorHoldout: Ignoring 167 ( 0.5%) Users that have less than 1 test interactions\n",
      "EvaluatorHoldout: Processed 35569 (100.0%) in 55.23 sec. Users per second: 644\n",
      "Similarity column 35736 (100.0%), 3077.99 column/sec. Elapsed time 11.61 sec\n",
      "EvaluatorHoldout: Ignoring 172 ( 0.5%) Users that have less than 1 test interactions\n",
      "EvaluatorHoldout: Processed 35564 (100.0%) in 55.24 sec. Users per second: 644\n"
     ]
    },
    {
     "name": "stderr",
     "output_type": "stream",
     "text": [
      "[I 2025-01-07 11:40:41,768] Trial 450 finished with value: 0.042615703099556104 and parameters: {'similarity': 'asymmetric', 'topK': 721, 'shrink': 26, 'feature_weighting': 'BM25', 'asymmetric_alpha': 0.6677129067861548}. Best is trial 450 with value: 0.042615703099556104.\n"
     ]
    }
   ],
   "source": [
    "if config['tune_parameters']:\n",
    "    \n",
    "    optuna_study = optuna.create_study(direction='maximize', study_name=f'hyperparameters_tuning_{config[\"model\"]}_{config[\"metric\"]}',\n",
    "                                storage=f'sqlite:///{config[\"database_path\"]}', load_if_exists=True)\n",
    "\n",
    "    optuna_study.optimize(objective_function_UserKNNCF, n_trials=6)"
   ]
  },
  {
   "cell_type": "markdown",
   "id": "444a7217",
   "metadata": {
    "papermill": {
     "duration": 0.027569,
     "end_time": "2025-01-07T11:40:41.829770",
     "exception": false,
     "start_time": "2025-01-07T11:40:41.802201",
     "status": "completed"
    },
    "tags": []
   },
   "source": [
    "## Some optuna visualizations on recommender parameters"
   ]
  },
  {
   "cell_type": "code",
   "execution_count": 14,
   "id": "ce8039d5",
   "metadata": {
    "execution": {
     "iopub.execute_input": "2025-01-07T11:40:41.880331Z",
     "iopub.status.busy": "2025-01-07T11:40:41.879694Z",
     "iopub.status.idle": "2025-01-07T11:40:44.774535Z",
     "shell.execute_reply": "2025-01-07T11:40:44.773417Z"
    },
    "papermill": {
     "duration": 2.919165,
     "end_time": "2025-01-07T11:40:44.776770",
     "exception": false,
     "start_time": "2025-01-07T11:40:41.857605",
     "status": "completed"
    },
    "tags": []
   },
   "outputs": [
    {
     "data": {
      "text/html": [
       "<html>\n",
       "<head><meta charset=\"utf-8\" /></head>\n",
       "<body>\n",
       "    <div>            <script src=\"https://cdnjs.cloudflare.com/ajax/libs/mathjax/2.7.5/MathJax.js?config=TeX-AMS-MML_SVG\"></script><script type=\"text/javascript\">if (window.MathJax && window.MathJax.Hub && window.MathJax.Hub.Config) {window.MathJax.Hub.Config({SVG: {font: \"STIX-Web\"}});}</script>                <script type=\"text/javascript\">window.PlotlyConfig = {MathJaxConfig: 'local'};</script>\n",
       "        <script charset=\"utf-8\" src=\"https://cdn.plot.ly/plotly-2.35.2.min.js\"></script>                <div id=\"9ebb1679-5a91-4a1d-a108-02f7a4e4a506\" class=\"plotly-graph-div\" style=\"height:525px; width:3000px;\"></div>            <script type=\"text/javascript\">                                    window.PLOTLYENV=window.PLOTLYENV || {};                                    if (document.getElementById(\"9ebb1679-5a91-4a1d-a108-02f7a4e4a506\")) {                    Plotly.newPlot(                        \"9ebb1679-5a91-4a1d-a108-02f7a4e4a506\",                        [{\"marker\":{\"color\":[5,9,27,40,55,75,76,77,78,79,80,81,82,83,84,85,86,87,88,89,90,91,92,93,94,95,96,97,98,99,100,101,102,103,104,105,106,107,108,109,110,111,112,113,114,116,117,119,121,122,123,124,126,127,128,129,130,131,132,133,134,135,137,138,140,141,142,143,144,145,146,148,150,151,152,153,154,155,156,157,158,159,160,161,162,163,164,165,167,168,169,170,171,172,173,174,175,177,178,180,181,182,183,184,185,186,188,189,190,191,192,193,194,195,196,197,198,199,200,201,202,203,204,205,206,208,209,210,211,212,213,214,215,216,218,219,221,222,223,224,225,226,227,228,229,231,232,233,234,235,236,237,238,239,240,241,242,243,244,245,246,247,248,249,250,251,253,254,255,256,257,258,259,262,263,264,265,267,268,269,270,271,272,273,274,275,276,277,278,280,281,282,283,284,285,286,288,290,291,292,294,295,296,297,298,299,300,301,302,303,304,305,306,307,308,310,311,312,313,314,315,316,317,320,321,322,323,324,325,326,328,329,330,331,332,333,334,335,336,338,339,340,341,342,343,344,346,347,349,350,351,352,354,355,356,357,358,359,360,361,362,363,364,365,366,367,368,370,371,373,374,375,377,379,380,382,383,384,385,386,387,388,389,390,391,392,393,394,395,396,398,399,400,402,403,404,407,408,409,410,412,413,414,415,416,417,418,419,420,421,422,423,425,426,427,428,429,430,431,432,436,437,438,439,440,442,443,444,445,446,447,448,449,450],\"colorbar\":{\"title\":{\"text\":\"Trial\"},\"x\":1.0,\"xpad\":40},\"colorscale\":[[0.0,\"rgb(247,251,255)\"],[0.125,\"rgb(222,235,247)\"],[0.25,\"rgb(198,219,239)\"],[0.375,\"rgb(158,202,225)\"],[0.5,\"rgb(107,174,214)\"],[0.625,\"rgb(66,146,198)\"],[0.75,\"rgb(33,113,181)\"],[0.875,\"rgb(8,81,156)\"],[1.0,\"rgb(8,48,107)\"]],\"line\":{\"color\":\"Grey\",\"width\":0.5},\"showscale\":true},\"mode\":\"markers\",\"name\":\"Feasible Trial\",\"showlegend\":false,\"x\":[0.4169117630145689,1.742069155717465,0.001614986365835458,1.9456221173510102,1.0965008733321449,1.0733647894530987,1.126134195367899,1.1232342527081431,1.098738862371363,1.1429183768601041,1.1173976984837253,1.0995494832850339,1.0023601787763998,1.3737141188443887,0.7327031144163606,0.7777683334913436,0.740597232525724,0.7098635334599472,0.7163904243280802,0.6760479538910207,0.6610287072521076,0.6527601332540618,0.6601738291906588,0.6697401638635566,0.649513361555658,0.6911870134368665,0.6674970192718164,0.7291467587355255,0.5629978663102088,0.817990148204545,0.83911810183373,0.8143137439112769,0.8239757401856114,0.8865019711095871,0.87383466612268,0.8847797719468465,0.869895659808061,0.885580017102876,0.9198213290186732,0.4766206209372544,0.9131663180630369,0.9081967126679962,0.9435087140785797,0.9482795728827466,0.9532246100210537,0.9651347360563919,0.9702027301892868,0.9919511278135282,1.0191089260214479,0.9733024726409373,0.976334107621329,1.0007747958848583,0.9713202516818382,1.2594424495692982,0.9795479012228263,0.13141935623404066,1.0478622113321527,0.9518880906799936,0.9561385889736673,1.1883027405920588,1.0514732154657966,0.967008515116372,0.9536926400733093,0.5290257555003215,1.0802498486681191,0.9445482782925498,0.933442455410522,0.9268173373760741,0.9320806539450862,1.026603572412044,0.9351074029986696,1.148816418417192,1.0254582800026053,0.9288264153940503,0.9279527745127946,0.9019163688493604,0.7846535958154323,0.8125161423806794,0.7697256436395116,0.8353353833854249,0.7800264402562485,0.7821081992016309,0.7954458950982178,0.7890844988832812,0.8422535015506789,0.8368850040501714,0.8510183937107124,0.8373414538670371,0.8332680866058738,0.7625233324285247,0.7769727739536263,0.8397315889429112,0.8476677562338082,0.7351164461303885,0.743192121302472,0.8018558214965299,0.7891008219270657,0.6134928512727651,0.8013868177330944,0.7415864259939318,0.7199558663466574,0.8479527935706496,0.8592456376304145,0.6981807362876854,0.8118173950514936,0.701147037341551,0.7747695837418905,0.8613934017971964,0.8686455835567262,0.8242111875258396,0.8263805379122208,0.8463890200991697,0.8797913693764674,0.8360292311841369,0.6263745662426943,0.7214779115775871,1.6785706824759912,0.88823622869425,0.8657410690360096,0.8820450631949618,0.8822165781398035,0.8919044681223856,0.8323474676447021,0.6957492811381553,0.8129988162330338,0.7486447728979578,0.7545516825657542,0.8410949840362116,0.8133429377703987,0.8015671143452289,0.741398288275278,0.7441126474953027,0.77003067864006,0.7350396088700466,0.8808813384614301,0.6559689879366924,0.8777677501072773,0.7898403492409651,0.8579798393623105,0.7548818669187382,0.7938258356843384,0.7982273576548075,0.7242674164038805,0.796287706887566,0.8549107555668908,0.8599322654744996,0.8431837999412853,0.7543630691426709,0.7588458326392903,0.6828616893033881,0.6736820875508296,0.6055814633279637,0.6805693060316125,0.7017512639511052,0.6656444144657055,0.7509697482418383,0.7321318204603244,0.734289800125247,0.7432185979093834,0.7202439370129399,0.776212720734784,0.778915926278175,0.795997909976302,0.7374568961521599,0.7691204702757557,0.7683774050541587,0.7048881383659091,0.7971291371357695,0.7958794055267164,0.5719848425443417,0.8047112167171621,0.6315569021665622,0.7117899460419875,0.7740985328256695,0.7702802156517514,0.7984092338169169,0.8014590501310963,0.7987229452169856,0.6926876127248385,0.6998571023630951,0.6871507375195025,0.6818973324472543,0.6551025917830133,0.6406365983074368,0.5900150301128442,0.6739504543682592,0.6518179494630594,0.6518730107571727,0.5355465506159282,0.6489372458795057,0.6217899301347648,0.6748903840797668,0.6616082816305987,0.6580127704602188,0.5748338703818534,0.6682749286959953,0.6602334920409354,0.6510415213117517,0.6722736225264492,0.616641316382441,0.6022104273653212,0.5298534630542182,0.6672789129173191,0.6738568380965165,0.685159000520062,0.6800923924040397,0.6806062633004863,0.6775733275640067,0.6852173882745557,0.4708424465241985,0.6800384952727954,0.6788855081546079,0.6743142685689792,0.6861536547942397,0.6077401588319803,0.5556416293156977,0.6011730039149593,0.6798906485579903,0.6900050931901707,0.679598156638714,0.6896933695375436,0.6343900981935621,0.6956674518104828,0.6907165945623264,0.7000627885943354,0.29467012790978875,0.6392250264604754,0.6279366658986781,0.5867368998512307,0.6988308402715684,0.6419442102418342,0.7011763868441274,0.6614319450013393,0.56694819610271,0.6221396977846211,0.6990059469976991,0.6571585940244443,0.5934692336934855,0.485065234207536,0.6452435054269567,0.66092600096456,0.7185713510030752,1.9342034973777418,0.7177976230893585,0.7158915462970477,0.7196301073782148,0.7059224451970076,0.6957104003816095,1.3913619615606638,0.7254291659062364,0.6018774358411813,0.7195618128754516,0.6412903433299495,0.7112793633564075,0.7194229895648936,0.6252622613342612,0.720223162432373,0.718045745506414,0.626451354510957,0.5540048121577341,0.716323672546638,0.6725383400088168,0.5932369411227597,0.5749050088394966,0.5197207330799302,0.6001934120954104,0.641226100141358,0.7345721913757213,0.7334603080555213,0.6291481912122793,0.6192536015532483,0.5255483658486625,0.5763557122644624,0.6183676040284789,0.6234206076386338,0.648720771788853,0.6468301639062358,0.6186941537606394,0.6371597188880453,0.5501028908263685,0.63079048643589,0.6390665811261448,0.49838894441729475,0.5696736214556611,0.4058431312000506,0.6432608533979933,0.644801057276499,0.5947924009410694,0.5978536974791185,0.5814540761249136,0.538053232574098,0.6112937554266729,0.6470935558809138,0.6418717662246195,0.5756791893872482,0.6474369337334609,0.6355793092628126,0.5509868758188858,0.6201968425955892,0.4633840951209718,0.6142222039297652,0.6387313455231222,0.5943752551098168,0.5109444575974762,0.6458957508167786,0.5424497582467344,0.5797055982191056,0.6573126062847142,0.6195982337547402,0.6602234642647526,0.6141205303056846,0.5742866779975302,0.6525113506122523,1.3475608881356274,0.6402137510552763,0.07188413827144635,0.6265988646894969,0.5571155362426311,0.6500800216793975,0.5919478390074332,0.6415524916104526,0.6336819941891251,0.5966773487485356,0.5458946268319027,0.6456290877383215,0.6555213576650952,0.6164545858578586,0.6595691477817048,0.5713745393994158,0.5156966141357019,0.43617532187894514,0.6680207869245566,0.6721463398345757,0.6677129067861548],\"y\":[0.03707826471642752,0.03073591621117076,0.03697661949748708,0.025895924580448194,0.035073781534686335,0.041211667872499,0.041199815527245706,0.04118710400434709,0.04129960128332609,0.041351391999530994,0.04154552872966882,0.04151616648513147,0.04174835022278569,0.040932350638236095,0.04192699394126524,0.0419866265318241,0.041996908589045825,0.04198944870540431,0.04201970650971439,0.04199343565751286,0.041961066653306484,0.04196270161519747,0.0419546738645667,0.04214653805738862,0.04213683164488156,0.04218983390037057,0.04213501034132614,0.032898285704093734,0.041954741777764024,0.04209370200742202,0.04205694178905003,0.042078039361169925,0.04208077221658176,0.04208811078872451,0.04209918779105696,0.04209755856557842,0.04207737679101302,0.04212538066503789,0.03312724188411208,0.041661760954692574,0.04226818870133802,0.042275096661424635,0.04222355937931005,0.042225234064783304,0.04222140385609942,0.042150167787502885,0.04217800744055069,0.04219098439430134,0.041964335249881024,0.04213616854984386,0.04214898501877183,0.04212032015693434,0.04224293841888195,0.0418547757031864,0.03364909437584379,0.040398678506854524,0.04194287869984168,0.04214859257839686,0.04201049536408811,0.0418914805944309,0.042120279195458,0.042117906373857525,0.04199617293156818,0.04187349596086755,0.04199583633200719,0.04217088977587583,0.04220185168588423,0.04217346203077831,0.04213690131298262,0.04193285273042657,0.04216901548029598,0.04189764243012316,0.04214151431564361,0.04214721847128452,0.04219816124254635,0.042275725170262436,0.04227190336926325,0.04228991808389853,0.03294040286109399,0.04228003808401254,0.0422749635752382,0.042270276595239735,0.04229197443009659,0.04215861911619051,0.042296450972296,0.042290807176725106,0.04230017966262716,0.04230162404495765,0.042184448085513145,0.042358117506657106,0.042116507450456385,0.042310640245393424,0.04221876842747968,0.04227014667873973,0.042184998289597916,0.04235975952863978,0.04230759048778564,0.042042413446637936,0.04216314736045158,0.04226571955619708,0.04227199316744396,0.04234599319089425,0.04224495125226111,0.042285270685046186,0.04217821490294149,0.042264221690686374,0.04224572086431734,0.042331020620943086,0.042167095158544984,0.042343471527857314,0.04226735439457681,0.04233131256416171,0.04226649717204898,0.04226145977686405,0.04218875379866753,0.04233627255279251,0.04052616743950559,0.042290123633068,0.04210971503568724,0.04230333958586393,0.042288876450618004,0.042269549628525985,0.04219815708427566,0.04225394131490588,0.04227700713940262,0.04231017130466274,0.04225919832593004,0.0421553383852586,0.042286436810832995,0.042349750372562514,0.042340161579888194,0.04231492367982613,0.04009190504981825,0.04226585912172752,0.04229577347464637,0.0422699478421344,0.04229930985733535,0.042389745203136445,0.04230473700056118,0.03975976980412295,0.042421652977767725,0.04232078708541735,0.042259425584893276,0.03323225079092358,0.0423196148735781,0.0423278130722116,0.04230863663055442,0.04232063224293754,0.04218676286277703,0.04233046724539148,0.04230527285693151,0.04223009203164237,0.04222507431468346,0.04227710071181274,0.042213018910009135,0.04236973195595058,0.04233941850943866,0.04232850563695923,0.04230255699793496,0.04218004754361666,0.042331939754105964,0.040933429821890445,0.04232875526895782,0.042261331227828484,0.04234224529047925,0.04223249611163178,0.04225645792465758,0.0423449559290188,0.04219939464538152,0.042150408790428424,0.04224853286306229,0.03308828344235486,0.042306288827994906,0.04238477690013629,0.042264826991122835,0.04235980477601002,0.04235820056689206,0.04230214123841079,0.042394893127948266,0.04239061256762724,0.04243332795278116,0.042378915961777536,0.04237486716902607,0.041392585020335194,0.04230041607293176,0.04241506002410401,0.04235119887211903,0.0423431155190652,0.0421740515898673,0.038898771751008414,0.03308028532845937,0.042380542480215,0.04241655878606284,0.042414063941302066,0.042246444597185,0.04242148252761939,0.04243687323576895,0.04182581233242871,0.04243160279050974,0.042348559109961235,0.04234075751605893,0.04220797007737723,0.04244630970090261,0.04245879057709363,0.04250542256425647,0.04242526940864166,0.04250074468220984,0.042501330124034994,0.034560663790042856,0.0421037644792354,0.042454453167286424,0.0424881683723153,0.033369146753421175,0.04246618973455631,0.042375266524694075,0.04232329219160015,0.04234443642737009,0.042480239565006316,0.042445820295304915,0.042374583696995,0.0424290927483914,0.04237572739451757,0.04233522292889533,0.042471214874234164,0.042429892318510395,0.04133668607660006,0.042477372047579426,0.04234774717134556,0.03481947253169802,0.04250581613131398,0.042355796266955306,0.04237505508953284,0.03311809896912724,0.042293010654434866,0.042363955885147284,0.042357993741625986,0.0424994096362127,0.04233556312642726,0.024114068866089734,0.04232413097730626,0.042576295839399356,0.042499032580017825,0.037972888491850695,0.04248109230589788,0.04234895015112573,0.04247340205890082,0.04248271947496057,0.04235341908630366,0.040321874196370774,0.03473856340205904,0.042381871485845005,0.04239334207972828,0.033329419507169576,0.042471498063060525,0.042440664594687205,0.04227524068705529,0.04235360313746579,0.04228750054596389,0.04242591262442005,0.03125834998767057,0.04236277629949432,0.04248251402316123,0.04244238044874141,0.04227957348088552,0.042303028882486646,0.042247360607570374,0.04232562841346417,0.04245044783288928,0.04229258172026392,0.042487146641117635,0.042444777246253104,0.04224569925768367,0.03374436961761249,0.04245326294147297,0.04252501055863856,0.04256146590922894,0.04250550540847623,0.04243378255680052,0.04248324636170382,0.042365804628586884,0.04254119860430133,0.042550839539068255,0.04229850478352905,0.04226068132958476,0.04202918175760349,0.042279504615036,0.03640083557845997,0.0425333148695008,0.04246559134409561,0.03501987196487252,0.04236266618601601,0.04245817112838741,0.04256771851079309,0.042434929696498896,0.04245309828048253,0.042517088187303195,0.042492412938117785,0.04232927197260451,0.04250542976188335,0.04206337908808823,0.042410629812625854,0.04249145204188137,0.04238662659806759,0.04230066882832787,0.04234747139943192,0.042380087700166866,0.035254749023856315,0.03866308500672083,0.04246109974387936,0.042462874752098465,0.0422495306816351,0.0424393065819467,0.04252620267771664,0.039549825942586075,0.04254062060918752,0.039664156681869185,0.042266932133109204,0.04237614611016712,0.04255933405157684,0.04236590501213935,0.04253449604258026,0.042478158756605634,0.04230678004815042,0.042481774723550574,0.04248556221697162,0.042496957159153984,0.04233532990830594,0.04065248991300829,0.0424567662613292,0.03389516999869228,0.03966670943929375,0.04261365462929629,0.04260960402614384,0.042615703099556104],\"type\":\"scatter\",\"xaxis\":\"x\",\"yaxis\":\"y\"},{\"marker\":{\"color\":[0,1,2,3,4,5,6,7,8,9,10,11,12,13,14,15,16,17,18,19,20,21,22,23,24,25,26,27,28,29,30,31,32,33,34,35,36,37,38,39,40,41,42,43,44,45,46,47,48,49,50,51,52,53,54,55,56,57,58,59,60,61,62,63,64,65,66,67,68,69,70,71,72,73,74,75,76,77,78,79,80,81,82,83,84,85,86,87,88,89,90,91,92,93,94,95,96,97,98,99,100,101,102,103,104,105,106,107,108,109,110,111,112,113,114,115,116,117,118,119,120,121,122,123,124,125,126,127,128,129,130,131,132,133,134,135,136,137,138,139,140,141,142,143,144,145,146,147,148,149,150,151,152,153,154,155,156,157,158,159,160,161,162,163,164,165,166,167,168,169,170,171,172,173,174,175,176,177,178,179,180,181,182,183,184,185,186,187,188,189,190,191,192,193,194,195,196,197,198,199,200,201,202,203,204,205,206,207,208,209,210,211,212,213,214,215,216,217,218,219,220,221,222,223,224,225,226,227,228,229,230,231,232,233,234,235,236,237,238,239,240,241,242,243,244,245,246,247,248,249,250,251,252,253,254,255,256,257,258,259,260,261,262,263,264,265,266,267,268,269,270,271,272,273,274,275,276,277,278,279,280,281,282,283,284,285,286,287,288,289,290,291,292,293,294,295,296,297,298,299,300,301,302,303,304,305,306,307,308,309,310,311,312,313,314,315,316,317,318,319,320,321,322,323,324,325,326,327,328,329,330,331,332,333,334,335,336,337,338,339,340,341,342,343,344,345,346,347,348,349,350,351,352,353,354,355,356,357,358,359,360,361,362,363,364,365,366,367,368,369,370,371,372,373,374,375,376,377,378,379,380,381,382,383,384,385,386,387,388,389,390,391,392,393,394,395,396,397,398,399,400,401,402,403,404,405,406,407,408,409,410,411,412,413,414,415,416,417,418,419,420,421,422,423,424,425,426,427,428,429,430,431,432,433,434,435,436,437,438,439,440,441,442,443,444,445,446,447,448,449,450],\"colorbar\":{\"title\":{\"text\":\"Trial\"},\"x\":1.0,\"xpad\":40},\"colorscale\":[[0.0,\"rgb(247,251,255)\"],[0.125,\"rgb(222,235,247)\"],[0.25,\"rgb(198,219,239)\"],[0.375,\"rgb(158,202,225)\"],[0.5,\"rgb(107,174,214)\"],[0.625,\"rgb(66,146,198)\"],[0.75,\"rgb(33,113,181)\"],[0.875,\"rgb(8,81,156)\"],[1.0,\"rgb(8,48,107)\"]],\"line\":{\"color\":\"Grey\",\"width\":0.5},\"showscale\":false},\"mode\":\"markers\",\"name\":\"Feasible Trial\",\"showlegend\":false,\"x\":[\"none\",\"TF-IDF\",\"TF-IDF\",\"none\",\"none\",\"TF-IDF\",\"TF-IDF\",\"BM25\",\"TF-IDF\",\"BM25\",\"TF-IDF\",\"TF-IDF\",\"TF-IDF\",\"TF-IDF\",\"TF-IDF\",\"BM25\",\"TF-IDF\",\"TF-IDF\",\"none\",\"BM25\",\"TF-IDF\",\"TF-IDF\",\"TF-IDF\",\"TF-IDF\",\"TF-IDF\",\"TF-IDF\",\"TF-IDF\",\"TF-IDF\",\"BM25\",\"none\",\"none\",\"TF-IDF\",\"TF-IDF\",\"TF-IDF\",\"TF-IDF\",\"TF-IDF\",\"TF-IDF\",\"none\",\"TF-IDF\",\"TF-IDF\",\"BM25\",\"TF-IDF\",\"TF-IDF\",\"TF-IDF\",\"TF-IDF\",\"TF-IDF\",\"TF-IDF\",\"TF-IDF\",\"TF-IDF\",\"none\",\"TF-IDF\",\"TF-IDF\",\"TF-IDF\",\"TF-IDF\",\"TF-IDF\",\"TF-IDF\",\"BM25\",\"BM25\",\"BM25\",\"BM25\",\"BM25\",\"BM25\",\"BM25\",\"BM25\",\"BM25\",\"BM25\",\"BM25\",\"BM25\",\"BM25\",\"BM25\",\"BM25\",\"BM25\",\"BM25\",\"BM25\",\"BM25\",\"BM25\",\"BM25\",\"BM25\",\"BM25\",\"BM25\",\"BM25\",\"BM25\",\"BM25\",\"BM25\",\"BM25\",\"BM25\",\"BM25\",\"BM25\",\"BM25\",\"BM25\",\"BM25\",\"BM25\",\"BM25\",\"BM25\",\"BM25\",\"BM25\",\"BM25\",\"none\",\"BM25\",\"BM25\",\"BM25\",\"BM25\",\"BM25\",\"BM25\",\"BM25\",\"BM25\",\"BM25\",\"BM25\",\"none\",\"BM25\",\"BM25\",\"BM25\",\"BM25\",\"BM25\",\"BM25\",\"BM25\",\"BM25\",\"BM25\",\"BM25\",\"BM25\",\"BM25\",\"BM25\",\"BM25\",\"BM25\",\"BM25\",\"BM25\",\"BM25\",\"BM25\",\"none\",\"BM25\",\"BM25\",\"BM25\",\"BM25\",\"BM25\",\"BM25\",\"BM25\",\"BM25\",\"BM25\",\"BM25\",\"BM25\",\"BM25\",\"BM25\",\"BM25\",\"BM25\",\"BM25\",\"BM25\",\"BM25\",\"BM25\",\"BM25\",\"BM25\",\"BM25\",\"BM25\",\"BM25\",\"BM25\",\"BM25\",\"BM25\",\"none\",\"BM25\",\"BM25\",\"BM25\",\"BM25\",\"BM25\",\"BM25\",\"BM25\",\"BM25\",\"BM25\",\"BM25\",\"BM25\",\"BM25\",\"BM25\",\"BM25\",\"BM25\",\"BM25\",\"BM25\",\"BM25\",\"BM25\",\"BM25\",\"BM25\",\"BM25\",\"BM25\",\"BM25\",\"BM25\",\"BM25\",\"BM25\",\"BM25\",\"BM25\",\"BM25\",\"none\",\"BM25\",\"BM25\",\"BM25\",\"BM25\",\"BM25\",\"BM25\",\"BM25\",\"BM25\",\"BM25\",\"BM25\",\"BM25\",\"BM25\",\"BM25\",\"BM25\",\"BM25\",\"BM25\",\"BM25\",\"BM25\",\"BM25\",\"BM25\",\"BM25\",\"BM25\",\"BM25\",\"BM25\",\"BM25\",\"BM25\",\"BM25\",\"BM25\",\"BM25\",\"BM25\",\"BM25\",\"BM25\",\"BM25\",\"BM25\",\"BM25\",\"BM25\",\"BM25\",\"BM25\",\"BM25\",\"BM25\",\"none\",\"BM25\",\"BM25\",\"BM25\",\"BM25\",\"BM25\",\"BM25\",\"BM25\",\"BM25\",\"BM25\",\"BM25\",\"BM25\",\"BM25\",\"BM25\",\"BM25\",\"BM25\",\"BM25\",\"BM25\",\"BM25\",\"BM25\",\"BM25\",\"BM25\",\"BM25\",\"BM25\",\"BM25\",\"BM25\",\"BM25\",\"BM25\",\"BM25\",\"BM25\",\"none\",\"BM25\",\"BM25\",\"BM25\",\"BM25\",\"BM25\",\"BM25\",\"BM25\",\"BM25\",\"BM25\",\"BM25\",\"BM25\",\"BM25\",\"BM25\",\"BM25\",\"BM25\",\"BM25\",\"BM25\",\"BM25\",\"BM25\",\"BM25\",\"TF-IDF\",\"BM25\",\"none\",\"BM25\",\"BM25\",\"BM25\",\"BM25\",\"BM25\",\"BM25\",\"BM25\",\"BM25\",\"BM25\",\"BM25\",\"BM25\",\"BM25\",\"BM25\",\"BM25\",\"BM25\",\"BM25\",\"BM25\",\"BM25\",\"BM25\",\"BM25\",\"TF-IDF\",\"BM25\",\"BM25\",\"BM25\",\"none\",\"BM25\",\"BM25\",\"BM25\",\"BM25\",\"BM25\",\"BM25\",\"BM25\",\"BM25\",\"BM25\",\"BM25\",\"BM25\",\"BM25\",\"BM25\",\"BM25\",\"BM25\",\"BM25\",\"BM25\",\"BM25\",\"TF-IDF\",\"BM25\",\"BM25\",\"BM25\",\"BM25\",\"none\",\"BM25\",\"BM25\",\"BM25\",\"BM25\",\"BM25\",\"BM25\",\"BM25\",\"BM25\",\"BM25\",\"BM25\",\"BM25\",\"BM25\",\"BM25\",\"BM25\",\"BM25\",\"BM25\",\"BM25\",\"BM25\",\"BM25\",\"TF-IDF\",\"BM25\",\"BM25\",\"BM25\",\"none\",\"BM25\",\"BM25\",\"BM25\",\"BM25\",\"BM25\",\"BM25\",\"BM25\",\"BM25\",\"BM25\",\"BM25\",\"BM25\",\"BM25\",\"BM25\",\"BM25\",\"BM25\",\"BM25\",\"BM25\",\"TF-IDF\",\"BM25\",\"BM25\",\"BM25\",\"BM25\",\"none\",\"BM25\",\"BM25\",\"BM25\",\"BM25\",\"BM25\",\"BM25\",\"BM25\",\"BM25\",\"BM25\",\"BM25\",\"BM25\",\"BM25\",\"BM25\",\"BM25\",\"BM25\",\"BM25\",\"BM25\",\"BM25\",\"TF-IDF\",\"BM25\",\"BM25\",\"BM25\",\"BM25\",\"none\",\"BM25\",\"BM25\",\"BM25\",\"BM25\",\"BM25\",\"BM25\",\"BM25\",\"BM25\",\"BM25\",\"BM25\",\"BM25\",\"BM25\",\"BM25\",\"BM25\",\"BM25\",\"BM25\",\"TF-IDF\",\"BM25\",\"BM25\",\"BM25\",\"BM25\",\"BM25\",\"none\",\"BM25\",\"BM25\",\"BM25\",\"BM25\",\"BM25\",\"BM25\",\"BM25\",\"BM25\",\"BM25\",\"BM25\",\"BM25\",\"BM25\",\"BM25\",\"BM25\",\"BM25\",\"BM25\",\"TF-IDF\",\"BM25\",\"BM25\",\"BM25\",\"BM25\",\"none\",\"BM25\",\"BM25\",\"BM25\",\"BM25\"],\"y\":[0.03438354964465644,0.03765997704303814,0.036466401535762326,0.03603158336802389,0.03568205879326173,0.03707826471642752,0.03882455742842482,0.03716477889561431,0.036119113490618554,0.03073591621117076,0.03489465279018752,0.010519718257202142,0.03452483875654129,0.03879314828144394,0.038356702311881916,0.034770983278465686,0.0386338607570533,0.03685686407324793,0.020856998057932702,0.0364109637716706,0.038111985741480114,0.03870609635775418,0.03870380595536108,0.03850648070902666,0.037924346454905625,0.0386958636152821,0.01052096284159112,0.03697661949748708,0.03743385492120776,0.03344925214369809,0.034729761085852996,0.03880283408727345,0.03897912078738226,0.03608331516471448,0.03567220195251934,0.038989590832045784,0.03718364173126744,0.03435241197641509,0.03897699101948849,0.010666893236326858,0.025895924580448194,0.03895160821938885,0.038941289084112374,0.038939554483515805,0.03892527741804938,0.03683441943169132,0.03200754234125541,0.037445586390519404,0.0323601580091676,0.03613122358719782,0.03597665863880977,0.038966110570538934,0.03895248452983744,0.03895558340642112,0.03889133321155448,0.035073781534686335,0.03930237985639624,0.03905219382376225,0.03936396739193279,0.03620514591628303,0.040299755217404906,0.04041086809620674,0.04015987455197013,0.040408480431374516,0.04022586921656578,0.03162591739011223,0.040485377734646666,0.040775898316922424,0.03737154943984992,0.04116918116886592,0.04105501835500318,0.04121901835551252,0.04122970757050187,0.04123925299039255,0.04126272912650639,0.041211667872499,0.041199815527245706,0.04118710400434709,0.04129960128332609,0.041351391999530994,0.04154552872966882,0.04151616648513147,0.04174835022278569,0.040932350638236095,0.04192699394126524,0.0419866265318241,0.041996908589045825,0.04198944870540431,0.04201970650971439,0.04199343565751286,0.041961066653306484,0.04196270161519747,0.0419546738645667,0.04214653805738862,0.04213683164488156,0.04218983390037057,0.04213501034132614,0.032898285704093734,0.041954741777764024,0.04209370200742202,0.04205694178905003,0.042078039361169925,0.04208077221658176,0.04208811078872451,0.04209918779105696,0.04209755856557842,0.04207737679101302,0.04212538066503789,0.03312724188411208,0.041661760954692574,0.04226818870133802,0.042275096661424635,0.04222355937931005,0.042225234064783304,0.04222140385609942,0.03885568037321961,0.042150167787502885,0.04217800744055069,0.038543792123151024,0.04219098439430134,0.0037793006916639615,0.041964335249881024,0.04213616854984386,0.04214898501877183,0.04212032015693434,0.038488559453537,0.04224293841888195,0.0418547757031864,0.03364909437584379,0.040398678506854524,0.04194287869984168,0.04214859257839686,0.04201049536408811,0.0418914805944309,0.042120279195458,0.042117906373857525,0.038156278816451894,0.04199617293156818,0.04187349596086755,0.03819021473703196,0.04199583633200719,0.04217088977587583,0.04220185168588423,0.04217346203077831,0.04213690131298262,0.04193285273042657,0.04216901548029598,0.031249702191768237,0.04189764243012316,0.0383351764536244,0.04214151431564361,0.04214721847128452,0.04219816124254635,0.042275725170262436,0.04227190336926325,0.04228991808389853,0.03294040286109399,0.04228003808401254,0.0422749635752382,0.042270276595239735,0.04229197443009659,0.04215861911619051,0.042296450972296,0.042290807176725106,0.04230017966262716,0.04230162404495765,0.038945043230115495,0.042184448085513145,0.042358117506657106,0.042116507450456385,0.042310640245393424,0.04221876842747968,0.04227014667873973,0.042184998289597916,0.04235975952863978,0.04230759048778564,0.0386036954462445,0.042042413446637936,0.04216314736045158,0.0037215610702131747,0.04226571955619708,0.04227199316744396,0.04234599319089425,0.04224495125226111,0.042285270685046186,0.04217821490294149,0.042264221690686374,0.03311978453504452,0.04224572086431734,0.042331020620943086,0.042167095158544984,0.042343471527857314,0.04226735439457681,0.04233131256416171,0.04226649717204898,0.04226145977686405,0.04218875379866753,0.04233627255279251,0.04052616743950559,0.042290123633068,0.04210971503568724,0.04230333958586393,0.042288876450618004,0.042269549628525985,0.04219815708427566,0.04225394131490588,0.04227700713940262,0.03811509356595545,0.04231017130466274,0.04225919832593004,0.0421553383852586,0.042286436810832995,0.042349750372562514,0.042340161579888194,0.04231492367982613,0.04009190504981825,0.04226585912172752,0.03888011431765274,0.04229577347464637,0.0422699478421344,0.003760883116526311,0.04229930985733535,0.042389745203136445,0.04230473700056118,0.03975976980412295,0.042421652977767725,0.04232078708541735,0.042259425584893276,0.03323225079092358,0.0423196148735781,0.03875046757443752,0.0423278130722116,0.04230863663055442,0.04232063224293754,0.04218676286277703,0.04233046724539148,0.04230527285693151,0.04223009203164237,0.04222507431468346,0.04227710071181274,0.042213018910009135,0.04236973195595058,0.04233941850943866,0.04232850563695923,0.04230255699793496,0.04218004754361666,0.042331939754105964,0.040933429821890445,0.04232875526895782,0.042261331227828484,0.04234224529047925,0.04223249611163178,0.03919302820936669,0.04225645792465758,0.0423449559290188,0.04219939464538152,0.042150408790428424,0.04224853286306229,0.03308828344235486,0.042306288827994906,0.038901738565473194,0.03126944980955811,0.04238477690013629,0.042264826991122835,0.04235980477601002,0.04235820056689206,0.03891177481482007,0.04230214123841079,0.042394893127948266,0.04239061256762724,0.04243332795278116,0.042378915961777536,0.04237486716902607,0.041392585020335194,0.04230041607293176,0.04241506002410401,0.04235119887211903,0.0423431155190652,0.0421740515898673,0.03360444557555732,0.038898771751008414,0.03308028532845937,0.042380542480215,0.04241655878606284,0.042414063941302066,0.042246444597185,0.04242148252761939,0.03917508680908858,0.04243687323576895,0.030885648381855348,0.04182581233242871,0.04243160279050974,0.042348559109961235,0.03908033554974142,0.04234075751605893,0.04220797007737723,0.04244630970090261,0.04245879057709363,0.04250542256425647,0.04242526940864166,0.04250074468220984,0.042501330124034994,0.034560663790042856,0.0421037644792354,0.042454453167286424,0.0424881683723153,0.033369146753421175,0.04246618973455631,0.042375266524694075,0.0394746862765263,0.04232329219160015,0.04234443642737009,0.042480239565006316,0.042445820295304915,0.042374583696995,0.0424290927483914,0.04237572739451757,0.04233522292889533,0.03924775283698941,0.003740746748729586,0.042471214874234164,0.042429892318510395,0.04133668607660006,0.042477372047579426,0.04234774717134556,0.03481947253169802,0.04250581613131398,0.03920229113895244,0.042355796266955306,0.04237505508953284,0.03311809896912724,0.042293010654434866,0.042363955885147284,0.042357993741625986,0.0424994096362127,0.04233556312642726,0.024114068866089734,0.03963040555756928,0.04232413097730626,0.042576295839399356,0.042499032580017825,0.037972888491850695,0.04248109230589788,0.04234895015112573,0.04247340205890082,0.03938600216543991,0.04248271947496057,0.04235341908630366,0.0036904673536174775,0.040321874196370774,0.03473856340205904,0.042381871485845005,0.04239334207972828,0.03935301965739056,0.033329419507169576,0.042471498063060525,0.042440664594687205,0.04227524068705529,0.04235360313746579,0.04228750054596389,0.04242591262442005,0.03125834998767057,0.04236277629949432,0.04248251402316123,0.04244238044874141,0.04227957348088552,0.042303028882486646,0.042247360607570374,0.04232562841346417,0.038634926889993974,0.04245044783288928,0.04229258172026392,0.03430092283643053,0.042487146641117635,0.042444777246253104,0.04224569925768367,0.031406154429122854,0.03374436961761249,0.04215446467040065,0.04245326294147297,0.04252501055863856,0.03979965448406538,0.04256146590922894,0.04250550540847623,0.04243378255680052,0.04248324636170382,0.042365804628586884,0.04254119860430133,0.042550839539068255,0.04229850478352905,0.04226068132958476,0.04202918175760349,0.042279504615036,0.03640083557845997,0.0425333148695008,0.04246559134409561,0.03501987196487252,0.03908635009426355,0.04236266618601601,0.04245817112838741,0.04256771851079309,0.03448349833757564,0.042434929696498896,0.04245309828048253,0.042517088187303195,0.04206695152400826,0.003599950944239277,0.042492412938117785,0.04232927197260451,0.04250542976188335,0.04206337908808823,0.03906483394547612,0.042410629812625854,0.04249145204188137,0.04238662659806759,0.04230066882832787,0.04234747139943192,0.042380087700166866,0.035254749023856315,0.03866308500672083,0.04246109974387936,0.042462874752098465,0.0422495306816351,0.0424393065819467,0.03444466992978404,0.04252620267771664,0.039549825942586075,0.04254062060918752,0.039664156681869185,0.042266932133109204,0.04237614611016712,0.04255933405157684,0.04236590501213935,0.04035583969850351,0.04234769460409343,0.031451169387114494,0.04253449604258026,0.042478158756605634,0.04230678004815042,0.042481774723550574,0.04248556221697162,0.03484875340242753,0.042496957159153984,0.04233532990830594,0.04065248991300829,0.0424567662613292,0.03389516999869228,0.03966670943929375,0.04261365462929629,0.04260960402614384,0.042615703099556104],\"type\":\"scatter\",\"xaxis\":\"x2\",\"yaxis\":\"y2\"},{\"marker\":{\"color\":[11,18,26,48,65,120,147,179,220,261,289,319,348,376,406,435],\"colorbar\":{\"title\":{\"text\":\"Trial\"},\"x\":1.0,\"xpad\":40},\"colorscale\":[[0.0,\"rgb(247,251,255)\"],[0.125,\"rgb(222,235,247)\"],[0.25,\"rgb(198,219,239)\"],[0.375,\"rgb(158,202,225)\"],[0.5,\"rgb(107,174,214)\"],[0.625,\"rgb(66,146,198)\"],[0.75,\"rgb(33,113,181)\"],[0.875,\"rgb(8,81,156)\"],[1.0,\"rgb(8,48,107)\"]],\"line\":{\"color\":\"Grey\",\"width\":0.5},\"showscale\":false},\"mode\":\"markers\",\"name\":\"Feasible Trial\",\"showlegend\":false,\"x\":[false,true,false,true,true,false,true,false,false,true,true,false,false,true,false,true],\"y\":[0.010519718257202142,0.020856998057932702,0.01052096284159112,0.0323601580091676,0.03162591739011223,0.0037793006916639615,0.031249702191768237,0.0037215610702131747,0.003760883116526311,0.03126944980955811,0.030885648381855348,0.003740746748729586,0.0036904673536174775,0.031406154429122854,0.003599950944239277,0.031451169387114494],\"type\":\"scatter\",\"xaxis\":\"x3\",\"yaxis\":\"y3\"},{\"marker\":{\"color\":[11,18,26,48,65,120,147,179,220,261,289,319,348,376,406,435],\"colorbar\":{\"title\":{\"text\":\"Trial\"},\"x\":1.0,\"xpad\":40},\"colorscale\":[[0.0,\"rgb(247,251,255)\"],[0.125,\"rgb(222,235,247)\"],[0.25,\"rgb(198,219,239)\"],[0.375,\"rgb(158,202,225)\"],[0.5,\"rgb(107,174,214)\"],[0.625,\"rgb(66,146,198)\"],[0.75,\"rgb(33,113,181)\"],[0.875,\"rgb(8,81,156)\"],[1.0,\"rgb(8,48,107)\"]],\"line\":{\"color\":\"Grey\",\"width\":0.5},\"showscale\":false},\"mode\":\"markers\",\"name\":\"Feasible Trial\",\"showlegend\":false,\"x\":[false,true,true,false,true,false,false,true,true,false,true,false,true,false,true,false],\"y\":[0.010519718257202142,0.020856998057932702,0.01052096284159112,0.0323601580091676,0.03162591739011223,0.0037793006916639615,0.031249702191768237,0.0037215610702131747,0.003760883116526311,0.03126944980955811,0.030885648381855348,0.003740746748729586,0.0036904673536174775,0.031406154429122854,0.003599950944239277,0.031451169387114494],\"type\":\"scatter\",\"xaxis\":\"x4\",\"yaxis\":\"y4\"},{\"marker\":{\"color\":[0,1,2,3,4,5,6,7,8,9,10,11,12,13,14,15,16,17,18,19,20,21,22,23,24,25,26,27,28,29,30,31,32,33,34,35,36,37,38,39,40,41,42,43,44,45,46,47,48,49,50,51,52,53,54,55,56,57,58,59,60,61,62,63,64,65,66,67,68,69,70,71,72,73,74,75,76,77,78,79,80,81,82,83,84,85,86,87,88,89,90,91,92,93,94,95,96,97,98,99,100,101,102,103,104,105,106,107,108,109,110,111,112,113,114,115,116,117,118,119,120,121,122,123,124,125,126,127,128,129,130,131,132,133,134,135,136,137,138,139,140,141,142,143,144,145,146,147,148,149,150,151,152,153,154,155,156,157,158,159,160,161,162,163,164,165,166,167,168,169,170,171,172,173,174,175,176,177,178,179,180,181,182,183,184,185,186,187,188,189,190,191,192,193,194,195,196,197,198,199,200,201,202,203,204,205,206,207,208,209,210,211,212,213,214,215,216,217,218,219,220,221,222,223,224,225,226,227,228,229,230,231,232,233,234,235,236,237,238,239,240,241,242,243,244,245,246,247,248,249,250,251,252,253,254,255,256,257,258,259,260,261,262,263,264,265,266,267,268,269,270,271,272,273,274,275,276,277,278,279,280,281,282,283,284,285,286,287,288,289,290,291,292,293,294,295,296,297,298,299,300,301,302,303,304,305,306,307,308,309,310,311,312,313,314,315,316,317,318,319,320,321,322,323,324,325,326,327,328,329,330,331,332,333,334,335,336,337,338,339,340,341,342,343,344,345,346,347,348,349,350,351,352,353,354,355,356,357,358,359,360,361,362,363,364,365,366,367,368,369,370,371,372,373,374,375,376,377,378,379,380,381,382,383,384,385,386,387,388,389,390,391,392,393,394,395,396,397,398,399,400,401,402,403,404,405,406,407,408,409,410,411,412,413,414,415,416,417,418,419,420,421,422,423,424,425,426,427,428,429,430,431,432,433,434,435,436,437,438,439,440,441,442,443,444,445,446,447,448,449,450],\"colorbar\":{\"title\":{\"text\":\"Trial\"},\"x\":1.0,\"xpad\":40},\"colorscale\":[[0.0,\"rgb(247,251,255)\"],[0.125,\"rgb(222,235,247)\"],[0.25,\"rgb(198,219,239)\"],[0.375,\"rgb(158,202,225)\"],[0.5,\"rgb(107,174,214)\"],[0.625,\"rgb(66,146,198)\"],[0.75,\"rgb(33,113,181)\"],[0.875,\"rgb(8,81,156)\"],[1.0,\"rgb(8,48,107)\"]],\"line\":{\"color\":\"Grey\",\"width\":0.5},\"showscale\":false},\"mode\":\"markers\",\"name\":\"Feasible Trial\",\"showlegend\":false,\"x\":[910,214,73,325,13,527,373,596,584,119,822,316,330,216,431,738,176,420,235,436,708,218,257,107,355,166,2,265,487,982,379,263,185,150,57,284,294,522,391,594,396,292,472,462,648,313,359,553,479,190,97,468,407,404,386,535,412,443,342,347,431,431,429,439,442,505,432,561,659,554,542,565,572,558,633,620,633,628,637,630,738,772,785,827,767,775,779,776,762,792,785,783,846,853,879,876,904,894,907,941,963,987,993,982,989,969,989,1000,946,935,875,871,875,876,876,866,880,894,878,850,813,856,919,916,926,883,821,837,866,805,887,918,839,874,909,852,821,896,950,918,856,922,888,928,958,923,895,894,834,940,805,907,870,878,875,861,823,866,865,860,864,863,838,845,830,837,804,748,704,833,822,699,823,820,703,838,842,801,690,846,748,727,679,715,664,705,675,658,687,721,717,721,739,735,722,679,734,602,617,664,663,606,600,611,649,699,600,592,673,758,669,605,572,588,584,503,573,574,537,533,525,587,631,633,629,551,545,547,578,560,588,550,569,561,554,518,513,484,525,510,639,557,559,560,564,561,550,546,569,567,550,538,550,579,525,496,523,548,592,526,557,578,540,507,551,536,538,520,466,496,467,490,485,450,466,485,481,484,476,461,491,488,461,450,427,457,412,424,403,413,382,444,446,441,443,393,414,411,363,405,356,357,361,323,412,368,371,408,404,402,346,418,384,387,376,391,357,420,391,305,331,330,344,327,331,289,387,370,390,330,361,407,380,427,260,303,261,399,363,234,227,226,243,178,230,273,204,239,209,199,242,250,156,229,342,219,216,224,275,192,210,175,313,208,119,216,91,63,244,256,132,134,195,113,123,127,29,129,111,148,105,173,94,150,94,148,159,96,93,77,94,78,285,111,45,29,32,42,71,192,47,12,148,91,57,58,40,59,53,1,16,3,67,85,101,57,79,48,104,81,140,108,1,73,25,40,51,61,38,61,94,21,22,45,17,71,84,109,88,53,0,7,35,39,72,31,60,85,41,37,26],\"y\":[0.03438354964465644,0.03765997704303814,0.036466401535762326,0.03603158336802389,0.03568205879326173,0.03707826471642752,0.03882455742842482,0.03716477889561431,0.036119113490618554,0.03073591621117076,0.03489465279018752,0.010519718257202142,0.03452483875654129,0.03879314828144394,0.038356702311881916,0.034770983278465686,0.0386338607570533,0.03685686407324793,0.020856998057932702,0.0364109637716706,0.038111985741480114,0.03870609635775418,0.03870380595536108,0.03850648070902666,0.037924346454905625,0.0386958636152821,0.01052096284159112,0.03697661949748708,0.03743385492120776,0.03344925214369809,0.034729761085852996,0.03880283408727345,0.03897912078738226,0.03608331516471448,0.03567220195251934,0.038989590832045784,0.03718364173126744,0.03435241197641509,0.03897699101948849,0.010666893236326858,0.025895924580448194,0.03895160821938885,0.038941289084112374,0.038939554483515805,0.03892527741804938,0.03683441943169132,0.03200754234125541,0.037445586390519404,0.0323601580091676,0.03613122358719782,0.03597665863880977,0.038966110570538934,0.03895248452983744,0.03895558340642112,0.03889133321155448,0.035073781534686335,0.03930237985639624,0.03905219382376225,0.03936396739193279,0.03620514591628303,0.040299755217404906,0.04041086809620674,0.04015987455197013,0.040408480431374516,0.04022586921656578,0.03162591739011223,0.040485377734646666,0.040775898316922424,0.03737154943984992,0.04116918116886592,0.04105501835500318,0.04121901835551252,0.04122970757050187,0.04123925299039255,0.04126272912650639,0.041211667872499,0.041199815527245706,0.04118710400434709,0.04129960128332609,0.041351391999530994,0.04154552872966882,0.04151616648513147,0.04174835022278569,0.040932350638236095,0.04192699394126524,0.0419866265318241,0.041996908589045825,0.04198944870540431,0.04201970650971439,0.04199343565751286,0.041961066653306484,0.04196270161519747,0.0419546738645667,0.04214653805738862,0.04213683164488156,0.04218983390037057,0.04213501034132614,0.032898285704093734,0.041954741777764024,0.04209370200742202,0.04205694178905003,0.042078039361169925,0.04208077221658176,0.04208811078872451,0.04209918779105696,0.04209755856557842,0.04207737679101302,0.04212538066503789,0.03312724188411208,0.041661760954692574,0.04226818870133802,0.042275096661424635,0.04222355937931005,0.042225234064783304,0.04222140385609942,0.03885568037321961,0.042150167787502885,0.04217800744055069,0.038543792123151024,0.04219098439430134,0.0037793006916639615,0.041964335249881024,0.04213616854984386,0.04214898501877183,0.04212032015693434,0.038488559453537,0.04224293841888195,0.0418547757031864,0.03364909437584379,0.040398678506854524,0.04194287869984168,0.04214859257839686,0.04201049536408811,0.0418914805944309,0.042120279195458,0.042117906373857525,0.038156278816451894,0.04199617293156818,0.04187349596086755,0.03819021473703196,0.04199583633200719,0.04217088977587583,0.04220185168588423,0.04217346203077831,0.04213690131298262,0.04193285273042657,0.04216901548029598,0.031249702191768237,0.04189764243012316,0.0383351764536244,0.04214151431564361,0.04214721847128452,0.04219816124254635,0.042275725170262436,0.04227190336926325,0.04228991808389853,0.03294040286109399,0.04228003808401254,0.0422749635752382,0.042270276595239735,0.04229197443009659,0.04215861911619051,0.042296450972296,0.042290807176725106,0.04230017966262716,0.04230162404495765,0.038945043230115495,0.042184448085513145,0.042358117506657106,0.042116507450456385,0.042310640245393424,0.04221876842747968,0.04227014667873973,0.042184998289597916,0.04235975952863978,0.04230759048778564,0.0386036954462445,0.042042413446637936,0.04216314736045158,0.0037215610702131747,0.04226571955619708,0.04227199316744396,0.04234599319089425,0.04224495125226111,0.042285270685046186,0.04217821490294149,0.042264221690686374,0.03311978453504452,0.04224572086431734,0.042331020620943086,0.042167095158544984,0.042343471527857314,0.04226735439457681,0.04233131256416171,0.04226649717204898,0.04226145977686405,0.04218875379866753,0.04233627255279251,0.04052616743950559,0.042290123633068,0.04210971503568724,0.04230333958586393,0.042288876450618004,0.042269549628525985,0.04219815708427566,0.04225394131490588,0.04227700713940262,0.03811509356595545,0.04231017130466274,0.04225919832593004,0.0421553383852586,0.042286436810832995,0.042349750372562514,0.042340161579888194,0.04231492367982613,0.04009190504981825,0.04226585912172752,0.03888011431765274,0.04229577347464637,0.0422699478421344,0.003760883116526311,0.04229930985733535,0.042389745203136445,0.04230473700056118,0.03975976980412295,0.042421652977767725,0.04232078708541735,0.042259425584893276,0.03323225079092358,0.0423196148735781,0.03875046757443752,0.0423278130722116,0.04230863663055442,0.04232063224293754,0.04218676286277703,0.04233046724539148,0.04230527285693151,0.04223009203164237,0.04222507431468346,0.04227710071181274,0.042213018910009135,0.04236973195595058,0.04233941850943866,0.04232850563695923,0.04230255699793496,0.04218004754361666,0.042331939754105964,0.040933429821890445,0.04232875526895782,0.042261331227828484,0.04234224529047925,0.04223249611163178,0.03919302820936669,0.04225645792465758,0.0423449559290188,0.04219939464538152,0.042150408790428424,0.04224853286306229,0.03308828344235486,0.042306288827994906,0.038901738565473194,0.03126944980955811,0.04238477690013629,0.042264826991122835,0.04235980477601002,0.04235820056689206,0.03891177481482007,0.04230214123841079,0.042394893127948266,0.04239061256762724,0.04243332795278116,0.042378915961777536,0.04237486716902607,0.041392585020335194,0.04230041607293176,0.04241506002410401,0.04235119887211903,0.0423431155190652,0.0421740515898673,0.03360444557555732,0.038898771751008414,0.03308028532845937,0.042380542480215,0.04241655878606284,0.042414063941302066,0.042246444597185,0.04242148252761939,0.03917508680908858,0.04243687323576895,0.030885648381855348,0.04182581233242871,0.04243160279050974,0.042348559109961235,0.03908033554974142,0.04234075751605893,0.04220797007737723,0.04244630970090261,0.04245879057709363,0.04250542256425647,0.04242526940864166,0.04250074468220984,0.042501330124034994,0.034560663790042856,0.0421037644792354,0.042454453167286424,0.0424881683723153,0.033369146753421175,0.04246618973455631,0.042375266524694075,0.0394746862765263,0.04232329219160015,0.04234443642737009,0.042480239565006316,0.042445820295304915,0.042374583696995,0.0424290927483914,0.04237572739451757,0.04233522292889533,0.03924775283698941,0.003740746748729586,0.042471214874234164,0.042429892318510395,0.04133668607660006,0.042477372047579426,0.04234774717134556,0.03481947253169802,0.04250581613131398,0.03920229113895244,0.042355796266955306,0.04237505508953284,0.03311809896912724,0.042293010654434866,0.042363955885147284,0.042357993741625986,0.0424994096362127,0.04233556312642726,0.024114068866089734,0.03963040555756928,0.04232413097730626,0.042576295839399356,0.042499032580017825,0.037972888491850695,0.04248109230589788,0.04234895015112573,0.04247340205890082,0.03938600216543991,0.04248271947496057,0.04235341908630366,0.0036904673536174775,0.040321874196370774,0.03473856340205904,0.042381871485845005,0.04239334207972828,0.03935301965739056,0.033329419507169576,0.042471498063060525,0.042440664594687205,0.04227524068705529,0.04235360313746579,0.04228750054596389,0.04242591262442005,0.03125834998767057,0.04236277629949432,0.04248251402316123,0.04244238044874141,0.04227957348088552,0.042303028882486646,0.042247360607570374,0.04232562841346417,0.038634926889993974,0.04245044783288928,0.04229258172026392,0.03430092283643053,0.042487146641117635,0.042444777246253104,0.04224569925768367,0.031406154429122854,0.03374436961761249,0.04215446467040065,0.04245326294147297,0.04252501055863856,0.03979965448406538,0.04256146590922894,0.04250550540847623,0.04243378255680052,0.04248324636170382,0.042365804628586884,0.04254119860430133,0.042550839539068255,0.04229850478352905,0.04226068132958476,0.04202918175760349,0.042279504615036,0.03640083557845997,0.0425333148695008,0.04246559134409561,0.03501987196487252,0.03908635009426355,0.04236266618601601,0.04245817112838741,0.04256771851079309,0.03448349833757564,0.042434929696498896,0.04245309828048253,0.042517088187303195,0.04206695152400826,0.003599950944239277,0.042492412938117785,0.04232927197260451,0.04250542976188335,0.04206337908808823,0.03906483394547612,0.042410629812625854,0.04249145204188137,0.04238662659806759,0.04230066882832787,0.04234747139943192,0.042380087700166866,0.035254749023856315,0.03866308500672083,0.04246109974387936,0.042462874752098465,0.0422495306816351,0.0424393065819467,0.03444466992978404,0.04252620267771664,0.039549825942586075,0.04254062060918752,0.039664156681869185,0.042266932133109204,0.04237614611016712,0.04255933405157684,0.04236590501213935,0.04035583969850351,0.04234769460409343,0.031451169387114494,0.04253449604258026,0.042478158756605634,0.04230678004815042,0.042481774723550574,0.04248556221697162,0.03484875340242753,0.042496957159153984,0.04233532990830594,0.04065248991300829,0.0424567662613292,0.03389516999869228,0.03966670943929375,0.04261365462929629,0.04260960402614384,0.042615703099556104],\"type\":\"scatter\",\"xaxis\":\"x5\",\"yaxis\":\"y5\"},{\"marker\":{\"color\":[0,1,2,3,4,5,6,7,8,9,10,11,12,13,14,15,16,17,18,19,20,21,22,23,24,25,26,27,28,29,30,31,32,33,34,35,36,37,38,39,40,41,42,43,44,45,46,47,48,49,50,51,52,53,54,55,56,57,58,59,60,61,62,63,64,65,66,67,68,69,70,71,72,73,74,75,76,77,78,79,80,81,82,83,84,85,86,87,88,89,90,91,92,93,94,95,96,97,98,99,100,101,102,103,104,105,106,107,108,109,110,111,112,113,114,115,116,117,118,119,120,121,122,123,124,125,126,127,128,129,130,131,132,133,134,135,136,137,138,139,140,141,142,143,144,145,146,147,148,149,150,151,152,153,154,155,156,157,158,159,160,161,162,163,164,165,166,167,168,169,170,171,172,173,174,175,176,177,178,179,180,181,182,183,184,185,186,187,188,189,190,191,192,193,194,195,196,197,198,199,200,201,202,203,204,205,206,207,208,209,210,211,212,213,214,215,216,217,218,219,220,221,222,223,224,225,226,227,228,229,230,231,232,233,234,235,236,237,238,239,240,241,242,243,244,245,246,247,248,249,250,251,252,253,254,255,256,257,258,259,260,261,262,263,264,265,266,267,268,269,270,271,272,273,274,275,276,277,278,279,280,281,282,283,284,285,286,287,288,289,290,291,292,293,294,295,296,297,298,299,300,301,302,303,304,305,306,307,308,309,310,311,312,313,314,315,316,317,318,319,320,321,322,323,324,325,326,327,328,329,330,331,332,333,334,335,336,337,338,339,340,341,342,343,344,345,346,347,348,349,350,351,352,353,354,355,356,357,358,359,360,361,362,363,364,365,366,367,368,369,370,371,372,373,374,375,376,377,378,379,380,381,382,383,384,385,386,387,388,389,390,391,392,393,394,395,396,397,398,399,400,401,402,403,404,405,406,407,408,409,410,411,412,413,414,415,416,417,418,419,420,421,422,423,424,425,426,427,428,429,430,431,432,433,434,435,436,437,438,439,440,441,442,443,444,445,446,447,448,449,450],\"colorbar\":{\"title\":{\"text\":\"Trial\"},\"x\":1.0,\"xpad\":40},\"colorscale\":[[0.0,\"rgb(247,251,255)\"],[0.125,\"rgb(222,235,247)\"],[0.25,\"rgb(198,219,239)\"],[0.375,\"rgb(158,202,225)\"],[0.5,\"rgb(107,174,214)\"],[0.625,\"rgb(66,146,198)\"],[0.75,\"rgb(33,113,181)\"],[0.875,\"rgb(8,81,156)\"],[1.0,\"rgb(8,48,107)\"]],\"line\":{\"color\":\"Grey\",\"width\":0.5},\"showscale\":false},\"mode\":\"markers\",\"name\":\"Feasible Trial\",\"showlegend\":false,\"x\":[\"tversky\",\"tversky\",\"tversky\",\"jaccard\",\"jaccard\",\"asymmetric\",\"cosine\",\"tversky\",\"dice\",\"asymmetric\",\"cosine\",\"euclidean\",\"cosine\",\"cosine\",\"cosine\",\"cosine\",\"cosine\",\"dice\",\"euclidean\",\"cosine\",\"cosine\",\"cosine\",\"cosine\",\"cosine\",\"cosine\",\"cosine\",\"euclidean\",\"asymmetric\",\"jaccard\",\"dice\",\"cosine\",\"cosine\",\"cosine\",\"tversky\",\"cosine\",\"cosine\",\"jaccard\",\"tversky\",\"cosine\",\"jaccard\",\"asymmetric\",\"cosine\",\"cosine\",\"cosine\",\"cosine\",\"dice\",\"cosine\",\"cosine\",\"euclidean\",\"tversky\",\"cosine\",\"cosine\",\"cosine\",\"cosine\",\"cosine\",\"asymmetric\",\"cosine\",\"cosine\",\"cosine\",\"dice\",\"cosine\",\"cosine\",\"cosine\",\"cosine\",\"cosine\",\"euclidean\",\"cosine\",\"cosine\",\"jaccard\",\"cosine\",\"cosine\",\"cosine\",\"cosine\",\"cosine\",\"cosine\",\"asymmetric\",\"asymmetric\",\"asymmetric\",\"asymmetric\",\"asymmetric\",\"asymmetric\",\"asymmetric\",\"asymmetric\",\"asymmetric\",\"asymmetric\",\"asymmetric\",\"asymmetric\",\"asymmetric\",\"asymmetric\",\"asymmetric\",\"asymmetric\",\"asymmetric\",\"asymmetric\",\"asymmetric\",\"asymmetric\",\"asymmetric\",\"asymmetric\",\"asymmetric\",\"asymmetric\",\"asymmetric\",\"asymmetric\",\"asymmetric\",\"asymmetric\",\"asymmetric\",\"asymmetric\",\"asymmetric\",\"asymmetric\",\"asymmetric\",\"asymmetric\",\"asymmetric\",\"asymmetric\",\"asymmetric\",\"asymmetric\",\"asymmetric\",\"asymmetric\",\"tversky\",\"asymmetric\",\"asymmetric\",\"dice\",\"asymmetric\",\"euclidean\",\"asymmetric\",\"asymmetric\",\"asymmetric\",\"asymmetric\",\"jaccard\",\"asymmetric\",\"asymmetric\",\"asymmetric\",\"asymmetric\",\"asymmetric\",\"asymmetric\",\"asymmetric\",\"asymmetric\",\"asymmetric\",\"asymmetric\",\"tversky\",\"asymmetric\",\"asymmetric\",\"dice\",\"asymmetric\",\"asymmetric\",\"asymmetric\",\"asymmetric\",\"asymmetric\",\"asymmetric\",\"asymmetric\",\"euclidean\",\"asymmetric\",\"jaccard\",\"asymmetric\",\"asymmetric\",\"asymmetric\",\"asymmetric\",\"asymmetric\",\"asymmetric\",\"asymmetric\",\"asymmetric\",\"asymmetric\",\"asymmetric\",\"asymmetric\",\"asymmetric\",\"asymmetric\",\"asymmetric\",\"asymmetric\",\"asymmetric\",\"tversky\",\"asymmetric\",\"asymmetric\",\"asymmetric\",\"asymmetric\",\"asymmetric\",\"asymmetric\",\"asymmetric\",\"asymmetric\",\"asymmetric\",\"dice\",\"asymmetric\",\"asymmetric\",\"euclidean\",\"asymmetric\",\"asymmetric\",\"asymmetric\",\"asymmetric\",\"asymmetric\",\"asymmetric\",\"asymmetric\",\"jaccard\",\"asymmetric\",\"asymmetric\",\"asymmetric\",\"asymmetric\",\"asymmetric\",\"asymmetric\",\"asymmetric\",\"asymmetric\",\"asymmetric\",\"asymmetric\",\"asymmetric\",\"asymmetric\",\"asymmetric\",\"asymmetric\",\"asymmetric\",\"asymmetric\",\"asymmetric\",\"asymmetric\",\"asymmetric\",\"tversky\",\"asymmetric\",\"asymmetric\",\"asymmetric\",\"asymmetric\",\"asymmetric\",\"asymmetric\",\"asymmetric\",\"asymmetric\",\"asymmetric\",\"dice\",\"asymmetric\",\"asymmetric\",\"euclidean\",\"asymmetric\",\"asymmetric\",\"asymmetric\",\"asymmetric\",\"asymmetric\",\"asymmetric\",\"asymmetric\",\"asymmetric\",\"asymmetric\",\"jaccard\",\"asymmetric\",\"asymmetric\",\"asymmetric\",\"asymmetric\",\"asymmetric\",\"asymmetric\",\"asymmetric\",\"asymmetric\",\"asymmetric\",\"asymmetric\",\"asymmetric\",\"asymmetric\",\"asymmetric\",\"asymmetric\",\"asymmetric\",\"asymmetric\",\"asymmetric\",\"asymmetric\",\"asymmetric\",\"asymmetric\",\"asymmetric\",\"tversky\",\"asymmetric\",\"asymmetric\",\"asymmetric\",\"asymmetric\",\"asymmetric\",\"asymmetric\",\"asymmetric\",\"dice\",\"euclidean\",\"asymmetric\",\"asymmetric\",\"asymmetric\",\"asymmetric\",\"jaccard\",\"asymmetric\",\"asymmetric\",\"asymmetric\",\"asymmetric\",\"asymmetric\",\"asymmetric\",\"asymmetric\",\"asymmetric\",\"asymmetric\",\"asymmetric\",\"asymmetric\",\"asymmetric\",\"tversky\",\"asymmetric\",\"asymmetric\",\"asymmetric\",\"asymmetric\",\"asymmetric\",\"asymmetric\",\"asymmetric\",\"dice\",\"asymmetric\",\"euclidean\",\"asymmetric\",\"asymmetric\",\"asymmetric\",\"jaccard\",\"asymmetric\",\"asymmetric\",\"asymmetric\",\"asymmetric\",\"asymmetric\",\"asymmetric\",\"asymmetric\",\"asymmetric\",\"asymmetric\",\"asymmetric\",\"asymmetric\",\"asymmetric\",\"asymmetric\",\"asymmetric\",\"asymmetric\",\"tversky\",\"asymmetric\",\"asymmetric\",\"asymmetric\",\"asymmetric\",\"asymmetric\",\"asymmetric\",\"asymmetric\",\"asymmetric\",\"dice\",\"euclidean\",\"asymmetric\",\"asymmetric\",\"asymmetric\",\"asymmetric\",\"asymmetric\",\"asymmetric\",\"asymmetric\",\"jaccard\",\"asymmetric\",\"asymmetric\",\"asymmetric\",\"asymmetric\",\"asymmetric\",\"asymmetric\",\"asymmetric\",\"asymmetric\",\"asymmetric\",\"tversky\",\"asymmetric\",\"asymmetric\",\"asymmetric\",\"asymmetric\",\"asymmetric\",\"asymmetric\",\"asymmetric\",\"dice\",\"asymmetric\",\"asymmetric\",\"euclidean\",\"asymmetric\",\"asymmetric\",\"asymmetric\",\"asymmetric\",\"jaccard\",\"asymmetric\",\"asymmetric\",\"asymmetric\",\"asymmetric\",\"asymmetric\",\"asymmetric\",\"asymmetric\",\"asymmetric\",\"asymmetric\",\"asymmetric\",\"asymmetric\",\"asymmetric\",\"asymmetric\",\"asymmetric\",\"asymmetric\",\"tversky\",\"asymmetric\",\"asymmetric\",\"dice\",\"asymmetric\",\"asymmetric\",\"asymmetric\",\"euclidean\",\"asymmetric\",\"cosine\",\"asymmetric\",\"asymmetric\",\"jaccard\",\"asymmetric\",\"asymmetric\",\"asymmetric\",\"asymmetric\",\"asymmetric\",\"asymmetric\",\"asymmetric\",\"asymmetric\",\"asymmetric\",\"asymmetric\",\"asymmetric\",\"asymmetric\",\"asymmetric\",\"asymmetric\",\"asymmetric\",\"tversky\",\"asymmetric\",\"asymmetric\",\"asymmetric\",\"dice\",\"asymmetric\",\"asymmetric\",\"asymmetric\",\"cosine\",\"euclidean\",\"asymmetric\",\"asymmetric\",\"asymmetric\",\"asymmetric\",\"jaccard\",\"asymmetric\",\"asymmetric\",\"asymmetric\",\"asymmetric\",\"asymmetric\",\"asymmetric\",\"asymmetric\",\"asymmetric\",\"asymmetric\",\"asymmetric\",\"asymmetric\",\"asymmetric\",\"tversky\",\"asymmetric\",\"asymmetric\",\"asymmetric\",\"asymmetric\",\"asymmetric\",\"asymmetric\",\"asymmetric\",\"asymmetric\",\"dice\",\"cosine\",\"euclidean\",\"asymmetric\",\"asymmetric\",\"asymmetric\",\"asymmetric\",\"asymmetric\",\"jaccard\",\"asymmetric\",\"asymmetric\",\"asymmetric\",\"asymmetric\",\"asymmetric\",\"asymmetric\",\"asymmetric\",\"asymmetric\",\"asymmetric\"],\"y\":[0.03438354964465644,0.03765997704303814,0.036466401535762326,0.03603158336802389,0.03568205879326173,0.03707826471642752,0.03882455742842482,0.03716477889561431,0.036119113490618554,0.03073591621117076,0.03489465279018752,0.010519718257202142,0.03452483875654129,0.03879314828144394,0.038356702311881916,0.034770983278465686,0.0386338607570533,0.03685686407324793,0.020856998057932702,0.0364109637716706,0.038111985741480114,0.03870609635775418,0.03870380595536108,0.03850648070902666,0.037924346454905625,0.0386958636152821,0.01052096284159112,0.03697661949748708,0.03743385492120776,0.03344925214369809,0.034729761085852996,0.03880283408727345,0.03897912078738226,0.03608331516471448,0.03567220195251934,0.038989590832045784,0.03718364173126744,0.03435241197641509,0.03897699101948849,0.010666893236326858,0.025895924580448194,0.03895160821938885,0.038941289084112374,0.038939554483515805,0.03892527741804938,0.03683441943169132,0.03200754234125541,0.037445586390519404,0.0323601580091676,0.03613122358719782,0.03597665863880977,0.038966110570538934,0.03895248452983744,0.03895558340642112,0.03889133321155448,0.035073781534686335,0.03930237985639624,0.03905219382376225,0.03936396739193279,0.03620514591628303,0.040299755217404906,0.04041086809620674,0.04015987455197013,0.040408480431374516,0.04022586921656578,0.03162591739011223,0.040485377734646666,0.040775898316922424,0.03737154943984992,0.04116918116886592,0.04105501835500318,0.04121901835551252,0.04122970757050187,0.04123925299039255,0.04126272912650639,0.041211667872499,0.041199815527245706,0.04118710400434709,0.04129960128332609,0.041351391999530994,0.04154552872966882,0.04151616648513147,0.04174835022278569,0.040932350638236095,0.04192699394126524,0.0419866265318241,0.041996908589045825,0.04198944870540431,0.04201970650971439,0.04199343565751286,0.041961066653306484,0.04196270161519747,0.0419546738645667,0.04214653805738862,0.04213683164488156,0.04218983390037057,0.04213501034132614,0.032898285704093734,0.041954741777764024,0.04209370200742202,0.04205694178905003,0.042078039361169925,0.04208077221658176,0.04208811078872451,0.04209918779105696,0.04209755856557842,0.04207737679101302,0.04212538066503789,0.03312724188411208,0.041661760954692574,0.04226818870133802,0.042275096661424635,0.04222355937931005,0.042225234064783304,0.04222140385609942,0.03885568037321961,0.042150167787502885,0.04217800744055069,0.038543792123151024,0.04219098439430134,0.0037793006916639615,0.041964335249881024,0.04213616854984386,0.04214898501877183,0.04212032015693434,0.038488559453537,0.04224293841888195,0.0418547757031864,0.03364909437584379,0.040398678506854524,0.04194287869984168,0.04214859257839686,0.04201049536408811,0.0418914805944309,0.042120279195458,0.042117906373857525,0.038156278816451894,0.04199617293156818,0.04187349596086755,0.03819021473703196,0.04199583633200719,0.04217088977587583,0.04220185168588423,0.04217346203077831,0.04213690131298262,0.04193285273042657,0.04216901548029598,0.031249702191768237,0.04189764243012316,0.0383351764536244,0.04214151431564361,0.04214721847128452,0.04219816124254635,0.042275725170262436,0.04227190336926325,0.04228991808389853,0.03294040286109399,0.04228003808401254,0.0422749635752382,0.042270276595239735,0.04229197443009659,0.04215861911619051,0.042296450972296,0.042290807176725106,0.04230017966262716,0.04230162404495765,0.038945043230115495,0.042184448085513145,0.042358117506657106,0.042116507450456385,0.042310640245393424,0.04221876842747968,0.04227014667873973,0.042184998289597916,0.04235975952863978,0.04230759048778564,0.0386036954462445,0.042042413446637936,0.04216314736045158,0.0037215610702131747,0.04226571955619708,0.04227199316744396,0.04234599319089425,0.04224495125226111,0.042285270685046186,0.04217821490294149,0.042264221690686374,0.03311978453504452,0.04224572086431734,0.042331020620943086,0.042167095158544984,0.042343471527857314,0.04226735439457681,0.04233131256416171,0.04226649717204898,0.04226145977686405,0.04218875379866753,0.04233627255279251,0.04052616743950559,0.042290123633068,0.04210971503568724,0.04230333958586393,0.042288876450618004,0.042269549628525985,0.04219815708427566,0.04225394131490588,0.04227700713940262,0.03811509356595545,0.04231017130466274,0.04225919832593004,0.0421553383852586,0.042286436810832995,0.042349750372562514,0.042340161579888194,0.04231492367982613,0.04009190504981825,0.04226585912172752,0.03888011431765274,0.04229577347464637,0.0422699478421344,0.003760883116526311,0.04229930985733535,0.042389745203136445,0.04230473700056118,0.03975976980412295,0.042421652977767725,0.04232078708541735,0.042259425584893276,0.03323225079092358,0.0423196148735781,0.03875046757443752,0.0423278130722116,0.04230863663055442,0.04232063224293754,0.04218676286277703,0.04233046724539148,0.04230527285693151,0.04223009203164237,0.04222507431468346,0.04227710071181274,0.042213018910009135,0.04236973195595058,0.04233941850943866,0.04232850563695923,0.04230255699793496,0.04218004754361666,0.042331939754105964,0.040933429821890445,0.04232875526895782,0.042261331227828484,0.04234224529047925,0.04223249611163178,0.03919302820936669,0.04225645792465758,0.0423449559290188,0.04219939464538152,0.042150408790428424,0.04224853286306229,0.03308828344235486,0.042306288827994906,0.038901738565473194,0.03126944980955811,0.04238477690013629,0.042264826991122835,0.04235980477601002,0.04235820056689206,0.03891177481482007,0.04230214123841079,0.042394893127948266,0.04239061256762724,0.04243332795278116,0.042378915961777536,0.04237486716902607,0.041392585020335194,0.04230041607293176,0.04241506002410401,0.04235119887211903,0.0423431155190652,0.0421740515898673,0.03360444557555732,0.038898771751008414,0.03308028532845937,0.042380542480215,0.04241655878606284,0.042414063941302066,0.042246444597185,0.04242148252761939,0.03917508680908858,0.04243687323576895,0.030885648381855348,0.04182581233242871,0.04243160279050974,0.042348559109961235,0.03908033554974142,0.04234075751605893,0.04220797007737723,0.04244630970090261,0.04245879057709363,0.04250542256425647,0.04242526940864166,0.04250074468220984,0.042501330124034994,0.034560663790042856,0.0421037644792354,0.042454453167286424,0.0424881683723153,0.033369146753421175,0.04246618973455631,0.042375266524694075,0.0394746862765263,0.04232329219160015,0.04234443642737009,0.042480239565006316,0.042445820295304915,0.042374583696995,0.0424290927483914,0.04237572739451757,0.04233522292889533,0.03924775283698941,0.003740746748729586,0.042471214874234164,0.042429892318510395,0.04133668607660006,0.042477372047579426,0.04234774717134556,0.03481947253169802,0.04250581613131398,0.03920229113895244,0.042355796266955306,0.04237505508953284,0.03311809896912724,0.042293010654434866,0.042363955885147284,0.042357993741625986,0.0424994096362127,0.04233556312642726,0.024114068866089734,0.03963040555756928,0.04232413097730626,0.042576295839399356,0.042499032580017825,0.037972888491850695,0.04248109230589788,0.04234895015112573,0.04247340205890082,0.03938600216543991,0.04248271947496057,0.04235341908630366,0.0036904673536174775,0.040321874196370774,0.03473856340205904,0.042381871485845005,0.04239334207972828,0.03935301965739056,0.033329419507169576,0.042471498063060525,0.042440664594687205,0.04227524068705529,0.04235360313746579,0.04228750054596389,0.04242591262442005,0.03125834998767057,0.04236277629949432,0.04248251402316123,0.04244238044874141,0.04227957348088552,0.042303028882486646,0.042247360607570374,0.04232562841346417,0.038634926889993974,0.04245044783288928,0.04229258172026392,0.03430092283643053,0.042487146641117635,0.042444777246253104,0.04224569925768367,0.031406154429122854,0.03374436961761249,0.04215446467040065,0.04245326294147297,0.04252501055863856,0.03979965448406538,0.04256146590922894,0.04250550540847623,0.04243378255680052,0.04248324636170382,0.042365804628586884,0.04254119860430133,0.042550839539068255,0.04229850478352905,0.04226068132958476,0.04202918175760349,0.042279504615036,0.03640083557845997,0.0425333148695008,0.04246559134409561,0.03501987196487252,0.03908635009426355,0.04236266618601601,0.04245817112838741,0.04256771851079309,0.03448349833757564,0.042434929696498896,0.04245309828048253,0.042517088187303195,0.04206695152400826,0.003599950944239277,0.042492412938117785,0.04232927197260451,0.04250542976188335,0.04206337908808823,0.03906483394547612,0.042410629812625854,0.04249145204188137,0.04238662659806759,0.04230066882832787,0.04234747139943192,0.042380087700166866,0.035254749023856315,0.03866308500672083,0.04246109974387936,0.042462874752098465,0.0422495306816351,0.0424393065819467,0.03444466992978404,0.04252620267771664,0.039549825942586075,0.04254062060918752,0.039664156681869185,0.042266932133109204,0.04237614611016712,0.04255933405157684,0.04236590501213935,0.04035583969850351,0.04234769460409343,0.031451169387114494,0.04253449604258026,0.042478158756605634,0.04230678004815042,0.042481774723550574,0.04248556221697162,0.03484875340242753,0.042496957159153984,0.04233532990830594,0.04065248991300829,0.0424567662613292,0.03389516999869228,0.03966670943929375,0.04261365462929629,0.04260960402614384,0.042615703099556104],\"type\":\"scatter\",\"xaxis\":\"x6\",\"yaxis\":\"y6\"},{\"marker\":{\"color\":[11,18,26,48,65,120,147,179,220,261,289,319,348,376,406,435],\"colorbar\":{\"title\":{\"text\":\"Trial\"},\"x\":1.0,\"xpad\":40},\"colorscale\":[[0.0,\"rgb(247,251,255)\"],[0.125,\"rgb(222,235,247)\"],[0.25,\"rgb(198,219,239)\"],[0.375,\"rgb(158,202,225)\"],[0.5,\"rgb(107,174,214)\"],[0.625,\"rgb(66,146,198)\"],[0.75,\"rgb(33,113,181)\"],[0.875,\"rgb(8,81,156)\"],[1.0,\"rgb(8,48,107)\"]],\"line\":{\"color\":\"Grey\",\"width\":0.5},\"showscale\":false},\"mode\":\"markers\",\"name\":\"Feasible Trial\",\"showlegend\":false,\"x\":[\"lin\",\"log\",\"exp\",\"log\",\"exp\",\"lin\",\"exp\",\"lin\",\"log\",\"lin\",\"exp\",\"log\",\"exp\",\"lin\",\"log\",\"exp\"],\"y\":[0.010519718257202142,0.020856998057932702,0.01052096284159112,0.0323601580091676,0.03162591739011223,0.0037793006916639615,0.031249702191768237,0.0037215610702131747,0.003760883116526311,0.03126944980955811,0.030885648381855348,0.003740746748729586,0.0036904673536174775,0.031406154429122854,0.003599950944239277,0.031451169387114494],\"type\":\"scatter\",\"xaxis\":\"x7\",\"yaxis\":\"y7\"},{\"marker\":{\"color\":[0,1,2,3,4,5,6,7,8,9,10,11,12,13,14,15,16,17,18,19,20,21,22,23,24,25,26,27,28,29,30,31,32,33,34,35,36,37,38,39,40,41,42,43,44,45,46,47,48,49,50,51,52,53,54,55,56,57,58,59,60,61,62,63,64,65,66,67,68,69,70,71,72,73,74,75,76,77,78,79,80,81,82,83,84,85,86,87,88,89,90,91,92,93,94,95,96,97,98,99,100,101,102,103,104,105,106,107,108,109,110,111,112,113,114,115,116,117,118,119,120,121,122,123,124,125,126,127,128,129,130,131,132,133,134,135,136,137,138,139,140,141,142,143,144,145,146,147,148,149,150,151,152,153,154,155,156,157,158,159,160,161,162,163,164,165,166,167,168,169,170,171,172,173,174,175,176,177,178,179,180,181,182,183,184,185,186,187,188,189,190,191,192,193,194,195,196,197,198,199,200,201,202,203,204,205,206,207,208,209,210,211,212,213,214,215,216,217,218,219,220,221,222,223,224,225,226,227,228,229,230,231,232,233,234,235,236,237,238,239,240,241,242,243,244,245,246,247,248,249,250,251,252,253,254,255,256,257,258,259,260,261,262,263,264,265,266,267,268,269,270,271,272,273,274,275,276,277,278,279,280,281,282,283,284,285,286,287,288,289,290,291,292,293,294,295,296,297,298,299,300,301,302,303,304,305,306,307,308,309,310,311,312,313,314,315,316,317,318,319,320,321,322,323,324,325,326,327,328,329,330,331,332,333,334,335,336,337,338,339,340,341,342,343,344,345,346,347,348,349,350,351,352,353,354,355,356,357,358,359,360,361,362,363,364,365,366,367,368,369,370,371,372,373,374,375,376,377,378,379,380,381,382,383,384,385,386,387,388,389,390,391,392,393,394,395,396,397,398,399,400,401,402,403,404,405,406,407,408,409,410,411,412,413,414,415,416,417,418,419,420,421,422,423,424,425,426,427,428,429,430,431,432,433,434,435,436,437,438,439,440,441,442,443,444,445,446,447,448,449,450],\"colorbar\":{\"title\":{\"text\":\"Trial\"},\"x\":1.0,\"xpad\":40},\"colorscale\":[[0.0,\"rgb(247,251,255)\"],[0.125,\"rgb(222,235,247)\"],[0.25,\"rgb(198,219,239)\"],[0.375,\"rgb(158,202,225)\"],[0.5,\"rgb(107,174,214)\"],[0.625,\"rgb(66,146,198)\"],[0.75,\"rgb(33,113,181)\"],[0.875,\"rgb(8,81,156)\"],[1.0,\"rgb(8,48,107)\"]],\"line\":{\"color\":\"Grey\",\"width\":0.5},\"showscale\":false},\"mode\":\"markers\",\"name\":\"Feasible Trial\",\"showlegend\":false,\"x\":[570,182,76,363,523,450,227,422,388,200,709,220,49,242,296,120,275,285,12,162,314,262,255,120,349,132,228,333,447,677,492,238,175,161,61,183,185,106,166,4,85,172,162,167,194,149,35,84,211,377,602,184,195,199,216,98,304,289,306,303,401,413,385,413,393,402,422,479,468,534,514,547,549,549,564,551,563,560,571,596,624,613,632,606,648,666,670,670,676,677,671,672,678,736,749,745,740,749,734,706,697,706,707,707,709,708,705,716,725,718,747,748,745,748,748,750,729,737,733,741,741,689,727,731,729,727,750,749,651,750,696,729,691,725,741,721,735,692,750,651,717,732,737,730,721,688,729,736,713,694,736,720,733,750,750,747,749,749,749,747,750,712,749,748,747,750,749,711,750,701,749,718,747,717,749,749,750,719,697,717,734,736,750,726,736,703,732,749,718,750,706,750,732,750,734,723,750,734,719,734,684,736,733,730,704,733,717,717,733,732,698,721,734,731,723,358,708,732,736,720,737,736,750,736,331,750,719,707,722,734,709,735,728,722,688,725,719,720,697,705,721,732,724,723,715,689,720,450,725,707,725,694,723,708,727,683,723,704,727,713,734,722,735,699,734,736,737,714,733,735,750,738,749,513,749,750,740,739,739,743,263,738,736,750,749,740,739,750,749,750,584,750,749,737,750,737,750,750,750,736,750,750,737,736,749,747,711,748,749,748,750,748,750,734,713,730,726,706,750,727,733,714,713,750,713,725,750,733,724,699,750,750,734,714,734,723,25,736,702,750,719,686,712,672,711,696,707,680,704,694,706,714,683,665,719,711,702,670,688,661,707,63,693,708,702,691,700,642,680,715,702,662,679,699,696,688,693,703,675,703,713,715,714,712,685,708,716,715,715,712,658,713,681,144,719,692,713,434,696,720,707,674,688,707,698,641,668,694,676,694,656,486,678,692,686,693,659,694,675,227,700,687,626,701,670,697,687,702,681,644,694,701,665,691,704,679,701,695,661,721,679,675,688,656,377,697,720,334,721,720,721],\"y\":[0.03438354964465644,0.03765997704303814,0.036466401535762326,0.03603158336802389,0.03568205879326173,0.03707826471642752,0.03882455742842482,0.03716477889561431,0.036119113490618554,0.03073591621117076,0.03489465279018752,0.010519718257202142,0.03452483875654129,0.03879314828144394,0.038356702311881916,0.034770983278465686,0.0386338607570533,0.03685686407324793,0.020856998057932702,0.0364109637716706,0.038111985741480114,0.03870609635775418,0.03870380595536108,0.03850648070902666,0.037924346454905625,0.0386958636152821,0.01052096284159112,0.03697661949748708,0.03743385492120776,0.03344925214369809,0.034729761085852996,0.03880283408727345,0.03897912078738226,0.03608331516471448,0.03567220195251934,0.038989590832045784,0.03718364173126744,0.03435241197641509,0.03897699101948849,0.010666893236326858,0.025895924580448194,0.03895160821938885,0.038941289084112374,0.038939554483515805,0.03892527741804938,0.03683441943169132,0.03200754234125541,0.037445586390519404,0.0323601580091676,0.03613122358719782,0.03597665863880977,0.038966110570538934,0.03895248452983744,0.03895558340642112,0.03889133321155448,0.035073781534686335,0.03930237985639624,0.03905219382376225,0.03936396739193279,0.03620514591628303,0.040299755217404906,0.04041086809620674,0.04015987455197013,0.040408480431374516,0.04022586921656578,0.03162591739011223,0.040485377734646666,0.040775898316922424,0.03737154943984992,0.04116918116886592,0.04105501835500318,0.04121901835551252,0.04122970757050187,0.04123925299039255,0.04126272912650639,0.041211667872499,0.041199815527245706,0.04118710400434709,0.04129960128332609,0.041351391999530994,0.04154552872966882,0.04151616648513147,0.04174835022278569,0.040932350638236095,0.04192699394126524,0.0419866265318241,0.041996908589045825,0.04198944870540431,0.04201970650971439,0.04199343565751286,0.041961066653306484,0.04196270161519747,0.0419546738645667,0.04214653805738862,0.04213683164488156,0.04218983390037057,0.04213501034132614,0.032898285704093734,0.041954741777764024,0.04209370200742202,0.04205694178905003,0.042078039361169925,0.04208077221658176,0.04208811078872451,0.04209918779105696,0.04209755856557842,0.04207737679101302,0.04212538066503789,0.03312724188411208,0.041661760954692574,0.04226818870133802,0.042275096661424635,0.04222355937931005,0.042225234064783304,0.04222140385609942,0.03885568037321961,0.042150167787502885,0.04217800744055069,0.038543792123151024,0.04219098439430134,0.0037793006916639615,0.041964335249881024,0.04213616854984386,0.04214898501877183,0.04212032015693434,0.038488559453537,0.04224293841888195,0.0418547757031864,0.03364909437584379,0.040398678506854524,0.04194287869984168,0.04214859257839686,0.04201049536408811,0.0418914805944309,0.042120279195458,0.042117906373857525,0.038156278816451894,0.04199617293156818,0.04187349596086755,0.03819021473703196,0.04199583633200719,0.04217088977587583,0.04220185168588423,0.04217346203077831,0.04213690131298262,0.04193285273042657,0.04216901548029598,0.031249702191768237,0.04189764243012316,0.0383351764536244,0.04214151431564361,0.04214721847128452,0.04219816124254635,0.042275725170262436,0.04227190336926325,0.04228991808389853,0.03294040286109399,0.04228003808401254,0.0422749635752382,0.042270276595239735,0.04229197443009659,0.04215861911619051,0.042296450972296,0.042290807176725106,0.04230017966262716,0.04230162404495765,0.038945043230115495,0.042184448085513145,0.042358117506657106,0.042116507450456385,0.042310640245393424,0.04221876842747968,0.04227014667873973,0.042184998289597916,0.04235975952863978,0.04230759048778564,0.0386036954462445,0.042042413446637936,0.04216314736045158,0.0037215610702131747,0.04226571955619708,0.04227199316744396,0.04234599319089425,0.04224495125226111,0.042285270685046186,0.04217821490294149,0.042264221690686374,0.03311978453504452,0.04224572086431734,0.042331020620943086,0.042167095158544984,0.042343471527857314,0.04226735439457681,0.04233131256416171,0.04226649717204898,0.04226145977686405,0.04218875379866753,0.04233627255279251,0.04052616743950559,0.042290123633068,0.04210971503568724,0.04230333958586393,0.042288876450618004,0.042269549628525985,0.04219815708427566,0.04225394131490588,0.04227700713940262,0.03811509356595545,0.04231017130466274,0.04225919832593004,0.0421553383852586,0.042286436810832995,0.042349750372562514,0.042340161579888194,0.04231492367982613,0.04009190504981825,0.04226585912172752,0.03888011431765274,0.04229577347464637,0.0422699478421344,0.003760883116526311,0.04229930985733535,0.042389745203136445,0.04230473700056118,0.03975976980412295,0.042421652977767725,0.04232078708541735,0.042259425584893276,0.03323225079092358,0.0423196148735781,0.03875046757443752,0.0423278130722116,0.04230863663055442,0.04232063224293754,0.04218676286277703,0.04233046724539148,0.04230527285693151,0.04223009203164237,0.04222507431468346,0.04227710071181274,0.042213018910009135,0.04236973195595058,0.04233941850943866,0.04232850563695923,0.04230255699793496,0.04218004754361666,0.042331939754105964,0.040933429821890445,0.04232875526895782,0.042261331227828484,0.04234224529047925,0.04223249611163178,0.03919302820936669,0.04225645792465758,0.0423449559290188,0.04219939464538152,0.042150408790428424,0.04224853286306229,0.03308828344235486,0.042306288827994906,0.038901738565473194,0.03126944980955811,0.04238477690013629,0.042264826991122835,0.04235980477601002,0.04235820056689206,0.03891177481482007,0.04230214123841079,0.042394893127948266,0.04239061256762724,0.04243332795278116,0.042378915961777536,0.04237486716902607,0.041392585020335194,0.04230041607293176,0.04241506002410401,0.04235119887211903,0.0423431155190652,0.0421740515898673,0.03360444557555732,0.038898771751008414,0.03308028532845937,0.042380542480215,0.04241655878606284,0.042414063941302066,0.042246444597185,0.04242148252761939,0.03917508680908858,0.04243687323576895,0.030885648381855348,0.04182581233242871,0.04243160279050974,0.042348559109961235,0.03908033554974142,0.04234075751605893,0.04220797007737723,0.04244630970090261,0.04245879057709363,0.04250542256425647,0.04242526940864166,0.04250074468220984,0.042501330124034994,0.034560663790042856,0.0421037644792354,0.042454453167286424,0.0424881683723153,0.033369146753421175,0.04246618973455631,0.042375266524694075,0.0394746862765263,0.04232329219160015,0.04234443642737009,0.042480239565006316,0.042445820295304915,0.042374583696995,0.0424290927483914,0.04237572739451757,0.04233522292889533,0.03924775283698941,0.003740746748729586,0.042471214874234164,0.042429892318510395,0.04133668607660006,0.042477372047579426,0.04234774717134556,0.03481947253169802,0.04250581613131398,0.03920229113895244,0.042355796266955306,0.04237505508953284,0.03311809896912724,0.042293010654434866,0.042363955885147284,0.042357993741625986,0.0424994096362127,0.04233556312642726,0.024114068866089734,0.03963040555756928,0.04232413097730626,0.042576295839399356,0.042499032580017825,0.037972888491850695,0.04248109230589788,0.04234895015112573,0.04247340205890082,0.03938600216543991,0.04248271947496057,0.04235341908630366,0.0036904673536174775,0.040321874196370774,0.03473856340205904,0.042381871485845005,0.04239334207972828,0.03935301965739056,0.033329419507169576,0.042471498063060525,0.042440664594687205,0.04227524068705529,0.04235360313746579,0.04228750054596389,0.04242591262442005,0.03125834998767057,0.04236277629949432,0.04248251402316123,0.04244238044874141,0.04227957348088552,0.042303028882486646,0.042247360607570374,0.04232562841346417,0.038634926889993974,0.04245044783288928,0.04229258172026392,0.03430092283643053,0.042487146641117635,0.042444777246253104,0.04224569925768367,0.031406154429122854,0.03374436961761249,0.04215446467040065,0.04245326294147297,0.04252501055863856,0.03979965448406538,0.04256146590922894,0.04250550540847623,0.04243378255680052,0.04248324636170382,0.042365804628586884,0.04254119860430133,0.042550839539068255,0.04229850478352905,0.04226068132958476,0.04202918175760349,0.042279504615036,0.03640083557845997,0.0425333148695008,0.04246559134409561,0.03501987196487252,0.03908635009426355,0.04236266618601601,0.04245817112838741,0.04256771851079309,0.03448349833757564,0.042434929696498896,0.04245309828048253,0.042517088187303195,0.04206695152400826,0.003599950944239277,0.042492412938117785,0.04232927197260451,0.04250542976188335,0.04206337908808823,0.03906483394547612,0.042410629812625854,0.04249145204188137,0.04238662659806759,0.04230066882832787,0.04234747139943192,0.042380087700166866,0.035254749023856315,0.03866308500672083,0.04246109974387936,0.042462874752098465,0.0422495306816351,0.0424393065819467,0.03444466992978404,0.04252620267771664,0.039549825942586075,0.04254062060918752,0.039664156681869185,0.042266932133109204,0.04237614611016712,0.04255933405157684,0.04236590501213935,0.04035583969850351,0.04234769460409343,0.031451169387114494,0.04253449604258026,0.042478158756605634,0.04230678004815042,0.042481774723550574,0.04248556221697162,0.03484875340242753,0.042496957159153984,0.04233532990830594,0.04065248991300829,0.0424567662613292,0.03389516999869228,0.03966670943929375,0.04261365462929629,0.04260960402614384,0.042615703099556104],\"type\":\"scatter\",\"xaxis\":\"x8\",\"yaxis\":\"y8\"},{\"marker\":{\"color\":[0,1,2,7,33,37,49,115,136,166,207,252,279,309,337,369,397,424],\"colorbar\":{\"title\":{\"text\":\"Trial\"},\"x\":1.0,\"xpad\":40},\"colorscale\":[[0.0,\"rgb(247,251,255)\"],[0.125,\"rgb(222,235,247)\"],[0.25,\"rgb(198,219,239)\"],[0.375,\"rgb(158,202,225)\"],[0.5,\"rgb(107,174,214)\"],[0.625,\"rgb(66,146,198)\"],[0.75,\"rgb(33,113,181)\"],[0.875,\"rgb(8,81,156)\"],[1.0,\"rgb(8,48,107)\"]],\"line\":{\"color\":\"Grey\",\"width\":0.5},\"showscale\":false},\"mode\":\"markers\",\"name\":\"Feasible Trial\",\"showlegend\":false,\"x\":[1.9162996424704613,0.9331405812571156,1.9850899411906355,1.1167000718605908,0.02488167405374897,0.005762861884655246,0.8264074043569967,1.4250965243047704,0.49693060066018657,1.5092374352538918,0.32455086880523654,1.5812052261032874,0.6207373203037436,1.2506852927038588,1.711051684926896,0.33411792968618115,1.3031045485208614,0.6601966495685652],\"y\":[0.03438354964465644,0.03765997704303814,0.036466401535762326,0.03716477889561431,0.03608331516471448,0.03435241197641509,0.03613122358719782,0.03885568037321961,0.038156278816451894,0.038945043230115495,0.03811509356595545,0.03919302820936669,0.03360444557555732,0.0394746862765263,0.03963040555756928,0.038634926889993974,0.03908635009426355,0.03444466992978404],\"type\":\"scatter\",\"xaxis\":\"x9\",\"yaxis\":\"y9\"},{\"marker\":{\"color\":[0,1,2,7,33,37,49,115,136,166,207,252,279,309,337,369,397,424],\"colorbar\":{\"title\":{\"text\":\"Trial\"},\"x\":1.0,\"xpad\":40},\"colorscale\":[[0.0,\"rgb(247,251,255)\"],[0.125,\"rgb(222,235,247)\"],[0.25,\"rgb(198,219,239)\"],[0.375,\"rgb(158,202,225)\"],[0.5,\"rgb(107,174,214)\"],[0.625,\"rgb(66,146,198)\"],[0.75,\"rgb(33,113,181)\"],[0.875,\"rgb(8,81,156)\"],[1.0,\"rgb(8,48,107)\"]],\"line\":{\"color\":\"Grey\",\"width\":0.5},\"showscale\":false},\"mode\":\"markers\",\"name\":\"Feasible Trial\",\"showlegend\":false,\"x\":[0.37185718657749445,1.5204811914205834,1.804336509419103,1.631059262328189,0.07898641759245595,0.7431800220371774,1.155613983449837,0.9815827364681174,0.5095268368356665,1.3034880426982927,0.03123811852732783,1.8633506212965294,0.8236172777394507,0.5480047477811675,1.372836283446023,0.2281928395318531,1.0533955252571747,1.9852365871625814],\"y\":[0.03438354964465644,0.03765997704303814,0.036466401535762326,0.03716477889561431,0.03608331516471448,0.03435241197641509,0.03613122358719782,0.03885568037321961,0.038156278816451894,0.038945043230115495,0.03811509356595545,0.03919302820936669,0.03360444557555732,0.0394746862765263,0.03963040555756928,0.038634926889993974,0.03908635009426355,0.03444466992978404],\"type\":\"scatter\",\"xaxis\":\"x10\",\"yaxis\":\"y10\"}],                        {\"template\":{\"data\":{\"histogram2dcontour\":[{\"type\":\"histogram2dcontour\",\"colorbar\":{\"outlinewidth\":0,\"ticks\":\"\"},\"colorscale\":[[0.0,\"#0d0887\"],[0.1111111111111111,\"#46039f\"],[0.2222222222222222,\"#7201a8\"],[0.3333333333333333,\"#9c179e\"],[0.4444444444444444,\"#bd3786\"],[0.5555555555555556,\"#d8576b\"],[0.6666666666666666,\"#ed7953\"],[0.7777777777777778,\"#fb9f3a\"],[0.8888888888888888,\"#fdca26\"],[1.0,\"#f0f921\"]]}],\"choropleth\":[{\"type\":\"choropleth\",\"colorbar\":{\"outlinewidth\":0,\"ticks\":\"\"}}],\"histogram2d\":[{\"type\":\"histogram2d\",\"colorbar\":{\"outlinewidth\":0,\"ticks\":\"\"},\"colorscale\":[[0.0,\"#0d0887\"],[0.1111111111111111,\"#46039f\"],[0.2222222222222222,\"#7201a8\"],[0.3333333333333333,\"#9c179e\"],[0.4444444444444444,\"#bd3786\"],[0.5555555555555556,\"#d8576b\"],[0.6666666666666666,\"#ed7953\"],[0.7777777777777778,\"#fb9f3a\"],[0.8888888888888888,\"#fdca26\"],[1.0,\"#f0f921\"]]}],\"heatmap\":[{\"type\":\"heatmap\",\"colorbar\":{\"outlinewidth\":0,\"ticks\":\"\"},\"colorscale\":[[0.0,\"#0d0887\"],[0.1111111111111111,\"#46039f\"],[0.2222222222222222,\"#7201a8\"],[0.3333333333333333,\"#9c179e\"],[0.4444444444444444,\"#bd3786\"],[0.5555555555555556,\"#d8576b\"],[0.6666666666666666,\"#ed7953\"],[0.7777777777777778,\"#fb9f3a\"],[0.8888888888888888,\"#fdca26\"],[1.0,\"#f0f921\"]]}],\"heatmapgl\":[{\"type\":\"heatmapgl\",\"colorbar\":{\"outlinewidth\":0,\"ticks\":\"\"},\"colorscale\":[[0.0,\"#0d0887\"],[0.1111111111111111,\"#46039f\"],[0.2222222222222222,\"#7201a8\"],[0.3333333333333333,\"#9c179e\"],[0.4444444444444444,\"#bd3786\"],[0.5555555555555556,\"#d8576b\"],[0.6666666666666666,\"#ed7953\"],[0.7777777777777778,\"#fb9f3a\"],[0.8888888888888888,\"#fdca26\"],[1.0,\"#f0f921\"]]}],\"contourcarpet\":[{\"type\":\"contourcarpet\",\"colorbar\":{\"outlinewidth\":0,\"ticks\":\"\"}}],\"contour\":[{\"type\":\"contour\",\"colorbar\":{\"outlinewidth\":0,\"ticks\":\"\"},\"colorscale\":[[0.0,\"#0d0887\"],[0.1111111111111111,\"#46039f\"],[0.2222222222222222,\"#7201a8\"],[0.3333333333333333,\"#9c179e\"],[0.4444444444444444,\"#bd3786\"],[0.5555555555555556,\"#d8576b\"],[0.6666666666666666,\"#ed7953\"],[0.7777777777777778,\"#fb9f3a\"],[0.8888888888888888,\"#fdca26\"],[1.0,\"#f0f921\"]]}],\"surface\":[{\"type\":\"surface\",\"colorbar\":{\"outlinewidth\":0,\"ticks\":\"\"},\"colorscale\":[[0.0,\"#0d0887\"],[0.1111111111111111,\"#46039f\"],[0.2222222222222222,\"#7201a8\"],[0.3333333333333333,\"#9c179e\"],[0.4444444444444444,\"#bd3786\"],[0.5555555555555556,\"#d8576b\"],[0.6666666666666666,\"#ed7953\"],[0.7777777777777778,\"#fb9f3a\"],[0.8888888888888888,\"#fdca26\"],[1.0,\"#f0f921\"]]}],\"mesh3d\":[{\"type\":\"mesh3d\",\"colorbar\":{\"outlinewidth\":0,\"ticks\":\"\"}}],\"scatter\":[{\"fillpattern\":{\"fillmode\":\"overlay\",\"size\":10,\"solidity\":0.2},\"type\":\"scatter\"}],\"parcoords\":[{\"type\":\"parcoords\",\"line\":{\"colorbar\":{\"outlinewidth\":0,\"ticks\":\"\"}}}],\"scatterpolargl\":[{\"type\":\"scatterpolargl\",\"marker\":{\"colorbar\":{\"outlinewidth\":0,\"ticks\":\"\"}}}],\"bar\":[{\"error_x\":{\"color\":\"#2a3f5f\"},\"error_y\":{\"color\":\"#2a3f5f\"},\"marker\":{\"line\":{\"color\":\"#E5ECF6\",\"width\":0.5},\"pattern\":{\"fillmode\":\"overlay\",\"size\":10,\"solidity\":0.2}},\"type\":\"bar\"}],\"scattergeo\":[{\"type\":\"scattergeo\",\"marker\":{\"colorbar\":{\"outlinewidth\":0,\"ticks\":\"\"}}}],\"scatterpolar\":[{\"type\":\"scatterpolar\",\"marker\":{\"colorbar\":{\"outlinewidth\":0,\"ticks\":\"\"}}}],\"histogram\":[{\"marker\":{\"pattern\":{\"fillmode\":\"overlay\",\"size\":10,\"solidity\":0.2}},\"type\":\"histogram\"}],\"scattergl\":[{\"type\":\"scattergl\",\"marker\":{\"colorbar\":{\"outlinewidth\":0,\"ticks\":\"\"}}}],\"scatter3d\":[{\"type\":\"scatter3d\",\"line\":{\"colorbar\":{\"outlinewidth\":0,\"ticks\":\"\"}},\"marker\":{\"colorbar\":{\"outlinewidth\":0,\"ticks\":\"\"}}}],\"scattermapbox\":[{\"type\":\"scattermapbox\",\"marker\":{\"colorbar\":{\"outlinewidth\":0,\"ticks\":\"\"}}}],\"scatterternary\":[{\"type\":\"scatterternary\",\"marker\":{\"colorbar\":{\"outlinewidth\":0,\"ticks\":\"\"}}}],\"scattercarpet\":[{\"type\":\"scattercarpet\",\"marker\":{\"colorbar\":{\"outlinewidth\":0,\"ticks\":\"\"}}}],\"carpet\":[{\"aaxis\":{\"endlinecolor\":\"#2a3f5f\",\"gridcolor\":\"white\",\"linecolor\":\"white\",\"minorgridcolor\":\"white\",\"startlinecolor\":\"#2a3f5f\"},\"baxis\":{\"endlinecolor\":\"#2a3f5f\",\"gridcolor\":\"white\",\"linecolor\":\"white\",\"minorgridcolor\":\"white\",\"startlinecolor\":\"#2a3f5f\"},\"type\":\"carpet\"}],\"table\":[{\"cells\":{\"fill\":{\"color\":\"#EBF0F8\"},\"line\":{\"color\":\"white\"}},\"header\":{\"fill\":{\"color\":\"#C8D4E3\"},\"line\":{\"color\":\"white\"}},\"type\":\"table\"}],\"barpolar\":[{\"marker\":{\"line\":{\"color\":\"#E5ECF6\",\"width\":0.5},\"pattern\":{\"fillmode\":\"overlay\",\"size\":10,\"solidity\":0.2}},\"type\":\"barpolar\"}],\"pie\":[{\"automargin\":true,\"type\":\"pie\"}]},\"layout\":{\"autotypenumbers\":\"strict\",\"colorway\":[\"#636efa\",\"#EF553B\",\"#00cc96\",\"#ab63fa\",\"#FFA15A\",\"#19d3f3\",\"#FF6692\",\"#B6E880\",\"#FF97FF\",\"#FECB52\"],\"font\":{\"color\":\"#2a3f5f\"},\"hovermode\":\"closest\",\"hoverlabel\":{\"align\":\"left\"},\"paper_bgcolor\":\"white\",\"plot_bgcolor\":\"#E5ECF6\",\"polar\":{\"bgcolor\":\"#E5ECF6\",\"angularaxis\":{\"gridcolor\":\"white\",\"linecolor\":\"white\",\"ticks\":\"\"},\"radialaxis\":{\"gridcolor\":\"white\",\"linecolor\":\"white\",\"ticks\":\"\"}},\"ternary\":{\"bgcolor\":\"#E5ECF6\",\"aaxis\":{\"gridcolor\":\"white\",\"linecolor\":\"white\",\"ticks\":\"\"},\"baxis\":{\"gridcolor\":\"white\",\"linecolor\":\"white\",\"ticks\":\"\"},\"caxis\":{\"gridcolor\":\"white\",\"linecolor\":\"white\",\"ticks\":\"\"}},\"coloraxis\":{\"colorbar\":{\"outlinewidth\":0,\"ticks\":\"\"}},\"colorscale\":{\"sequential\":[[0.0,\"#0d0887\"],[0.1111111111111111,\"#46039f\"],[0.2222222222222222,\"#7201a8\"],[0.3333333333333333,\"#9c179e\"],[0.4444444444444444,\"#bd3786\"],[0.5555555555555556,\"#d8576b\"],[0.6666666666666666,\"#ed7953\"],[0.7777777777777778,\"#fb9f3a\"],[0.8888888888888888,\"#fdca26\"],[1.0,\"#f0f921\"]],\"sequentialminus\":[[0.0,\"#0d0887\"],[0.1111111111111111,\"#46039f\"],[0.2222222222222222,\"#7201a8\"],[0.3333333333333333,\"#9c179e\"],[0.4444444444444444,\"#bd3786\"],[0.5555555555555556,\"#d8576b\"],[0.6666666666666666,\"#ed7953\"],[0.7777777777777778,\"#fb9f3a\"],[0.8888888888888888,\"#fdca26\"],[1.0,\"#f0f921\"]],\"diverging\":[[0,\"#8e0152\"],[0.1,\"#c51b7d\"],[0.2,\"#de77ae\"],[0.3,\"#f1b6da\"],[0.4,\"#fde0ef\"],[0.5,\"#f7f7f7\"],[0.6,\"#e6f5d0\"],[0.7,\"#b8e186\"],[0.8,\"#7fbc41\"],[0.9,\"#4d9221\"],[1,\"#276419\"]]},\"xaxis\":{\"gridcolor\":\"white\",\"linecolor\":\"white\",\"ticks\":\"\",\"title\":{\"standoff\":15},\"zerolinecolor\":\"white\",\"automargin\":true,\"zerolinewidth\":2},\"yaxis\":{\"gridcolor\":\"white\",\"linecolor\":\"white\",\"ticks\":\"\",\"title\":{\"standoff\":15},\"zerolinecolor\":\"white\",\"automargin\":true,\"zerolinewidth\":2},\"scene\":{\"xaxis\":{\"backgroundcolor\":\"#E5ECF6\",\"gridcolor\":\"white\",\"linecolor\":\"white\",\"showbackground\":true,\"ticks\":\"\",\"zerolinecolor\":\"white\",\"gridwidth\":2},\"yaxis\":{\"backgroundcolor\":\"#E5ECF6\",\"gridcolor\":\"white\",\"linecolor\":\"white\",\"showbackground\":true,\"ticks\":\"\",\"zerolinecolor\":\"white\",\"gridwidth\":2},\"zaxis\":{\"backgroundcolor\":\"#E5ECF6\",\"gridcolor\":\"white\",\"linecolor\":\"white\",\"showbackground\":true,\"ticks\":\"\",\"zerolinecolor\":\"white\",\"gridwidth\":2}},\"shapedefaults\":{\"line\":{\"color\":\"#2a3f5f\"}},\"annotationdefaults\":{\"arrowcolor\":\"#2a3f5f\",\"arrowhead\":0,\"arrowwidth\":1},\"geo\":{\"bgcolor\":\"white\",\"landcolor\":\"#E5ECF6\",\"subunitcolor\":\"white\",\"showland\":true,\"showlakes\":true,\"lakecolor\":\"white\"},\"title\":{\"x\":0.05},\"mapbox\":{\"style\":\"light\"}}},\"xaxis\":{\"anchor\":\"y\",\"domain\":[0.0,0.082],\"title\":{\"text\":\"asymmetric_alpha\"}},\"yaxis\":{\"anchor\":\"x\",\"domain\":[0.0,1.0],\"title\":{\"text\":\"Objective Value\"}},\"xaxis2\":{\"anchor\":\"y2\",\"domain\":[0.10200000000000001,0.184],\"title\":{\"text\":\"feature_weighting\"},\"type\":\"category\",\"categoryorder\":\"array\",\"categoryarray\":[\"BM25\",\"TF-IDF\",\"none\"]},\"yaxis2\":{\"anchor\":\"x2\",\"domain\":[0.0,1.0],\"matches\":\"y\",\"showticklabels\":false},\"xaxis3\":{\"anchor\":\"y3\",\"domain\":[0.20400000000000001,0.28600000000000003],\"title\":{\"text\":\"normalize\"},\"type\":\"category\",\"categoryorder\":\"array\",\"categoryarray\":[true,false]},\"yaxis3\":{\"anchor\":\"x3\",\"domain\":[0.0,1.0],\"matches\":\"y\",\"showticklabels\":false},\"xaxis4\":{\"anchor\":\"y4\",\"domain\":[0.306,0.388],\"title\":{\"text\":\"normalize_avg_row\"},\"type\":\"category\",\"categoryorder\":\"array\",\"categoryarray\":[true,false]},\"yaxis4\":{\"anchor\":\"x4\",\"domain\":[0.0,1.0],\"matches\":\"y\",\"showticklabels\":false},\"xaxis5\":{\"anchor\":\"y5\",\"domain\":[0.40800000000000003,0.49000000000000005],\"title\":{\"text\":\"shrink\"}},\"yaxis5\":{\"anchor\":\"x5\",\"domain\":[0.0,1.0],\"matches\":\"y\",\"showticklabels\":false},\"xaxis6\":{\"anchor\":\"y6\",\"domain\":[0.51,0.592],\"title\":{\"text\":\"similarity\"},\"type\":\"category\",\"categoryorder\":\"array\",\"categoryarray\":[\"cosine\",\"dice\",\"jaccard\",\"asymmetric\",\"tversky\",\"euclidean\"]},\"yaxis6\":{\"anchor\":\"x6\",\"domain\":[0.0,1.0],\"matches\":\"y\",\"showticklabels\":false},\"xaxis7\":{\"anchor\":\"y7\",\"domain\":[0.6120000000000001,0.6940000000000001],\"title\":{\"text\":\"similarity_from_distance_mode\"},\"type\":\"category\",\"categoryorder\":\"array\",\"categoryarray\":[\"lin\",\"log\",\"exp\"]},\"yaxis7\":{\"anchor\":\"x7\",\"domain\":[0.0,1.0],\"matches\":\"y\",\"showticklabels\":false},\"xaxis8\":{\"anchor\":\"y8\",\"domain\":[0.7140000000000001,0.796],\"title\":{\"text\":\"topK\"}},\"yaxis8\":{\"anchor\":\"x8\",\"domain\":[0.0,1.0],\"matches\":\"y\",\"showticklabels\":false},\"xaxis9\":{\"anchor\":\"y9\",\"domain\":[0.8160000000000001,0.898],\"title\":{\"text\":\"tversky_alpha\"}},\"yaxis9\":{\"anchor\":\"x9\",\"domain\":[0.0,1.0],\"matches\":\"y\",\"showticklabels\":false},\"xaxis10\":{\"anchor\":\"y10\",\"domain\":[0.9179999999999999,0.9999999999999999],\"title\":{\"text\":\"tversky_beta\"}},\"yaxis10\":{\"anchor\":\"x10\",\"domain\":[0.0,1.0],\"matches\":\"y\",\"showticklabels\":false},\"title\":{\"text\":\"Slice Plot\"},\"width\":3000},                        {\"responsive\": true}                    ).then(function(){\n",
       "                            \n",
       "var gd = document.getElementById('9ebb1679-5a91-4a1d-a108-02f7a4e4a506');\n",
       "var x = new MutationObserver(function (mutations, observer) {{\n",
       "        var display = window.getComputedStyle(gd).display;\n",
       "        if (!display || display === 'none') {{\n",
       "            console.log([gd, 'removed!']);\n",
       "            Plotly.purge(gd);\n",
       "            observer.disconnect();\n",
       "        }}\n",
       "}});\n",
       "\n",
       "// Listen for the removal of the full notebook cells\n",
       "var notebookContainer = gd.closest('#notebook-container');\n",
       "if (notebookContainer) {{\n",
       "    x.observe(notebookContainer, {childList: true});\n",
       "}}\n",
       "\n",
       "// Listen for the clearing of the current output cell\n",
       "var outputEl = gd.closest('.output');\n",
       "if (outputEl) {{\n",
       "    x.observe(outputEl, {childList: true});\n",
       "}}\n",
       "\n",
       "                        })                };                            </script>        </div>\n",
       "</body>\n",
       "</html>"
      ]
     },
     "metadata": {},
     "output_type": "display_data"
    }
   ],
   "source": [
    "if not config['tune_parameters']:\n",
    "    optuna_study = optuna.load_study(study_name=f'hyperparameters_tuning_{config[\"model\"]}_{config[\"metric\"]}', storage=f'sqlite:///{config[\"database_path\"]}')\n",
    "    \n",
    "fig = optuna.visualization.plot_slice(optuna_study)\n",
    "fig.show()"
   ]
  },
  {
   "cell_type": "code",
   "execution_count": 15,
   "id": "1b73af12",
   "metadata": {
    "execution": {
     "iopub.execute_input": "2025-01-07T11:40:44.821733Z",
     "iopub.status.busy": "2025-01-07T11:40:44.821399Z",
     "iopub.status.idle": "2025-01-07T11:40:53.591313Z",
     "shell.execute_reply": "2025-01-07T11:40:53.589947Z"
    },
    "papermill": {
     "duration": 8.794372,
     "end_time": "2025-01-07T11:40:53.593306",
     "exception": false,
     "start_time": "2025-01-07T11:40:44.798934",
     "status": "completed"
    },
    "tags": []
   },
   "outputs": [
    {
     "data": {
      "text/html": [
       "<html>\n",
       "<head><meta charset=\"utf-8\" /></head>\n",
       "<body>\n",
       "    <div>            <script src=\"https://cdnjs.cloudflare.com/ajax/libs/mathjax/2.7.5/MathJax.js?config=TeX-AMS-MML_SVG\"></script><script type=\"text/javascript\">if (window.MathJax && window.MathJax.Hub && window.MathJax.Hub.Config) {window.MathJax.Hub.Config({SVG: {font: \"STIX-Web\"}});}</script>                <script type=\"text/javascript\">window.PlotlyConfig = {MathJaxConfig: 'local'};</script>\n",
       "        <script charset=\"utf-8\" src=\"https://cdn.plot.ly/plotly-2.35.2.min.js\"></script>                <div id=\"901c940d-2c09-49f0-be33-a9025e5f6273\" class=\"plotly-graph-div\" style=\"height:525px; width:100%;\"></div>            <script type=\"text/javascript\">                                    window.PLOTLYENV=window.PLOTLYENV || {};                                    if (document.getElementById(\"901c940d-2c09-49f0-be33-a9025e5f6273\")) {                    Plotly.newPlot(                        \"901c940d-2c09-49f0-be33-a9025e5f6273\",                        [{\"cliponaxis\":false,\"hovertemplate\":[\"feature_weighting (CategoricalDistribution): 0.029189200174138404\\u003cextra\\u003e\\u003c\\u002fextra\\u003e\",\"topK (IntDistribution): 0.11347476514929536\\u003cextra\\u003e\\u003c\\u002fextra\\u003e\",\"shrink (IntDistribution): 0.19932039297625193\\u003cextra\\u003e\\u003c\\u002fextra\\u003e\",\"similarity (CategoricalDistribution): 0.6580156417003145\\u003cextra\\u003e\\u003c\\u002fextra\\u003e\"],\"name\":\"Objective Value\",\"orientation\":\"h\",\"text\":[\"0.03\",\"0.11\",\"0.20\",\"0.66\"],\"textposition\":\"outside\",\"x\":[0.029189200174138404,0.11347476514929536,0.19932039297625193,0.6580156417003145],\"y\":[\"feature_weighting\",\"topK\",\"shrink\",\"similarity\"],\"type\":\"bar\"}],                        {\"title\":{\"text\":\"Hyperparameter Importances\"},\"xaxis\":{\"title\":{\"text\":\"Hyperparameter Importance\"}},\"yaxis\":{\"title\":{\"text\":\"Hyperparameter\"}},\"template\":{\"data\":{\"histogram2dcontour\":[{\"type\":\"histogram2dcontour\",\"colorbar\":{\"outlinewidth\":0,\"ticks\":\"\"},\"colorscale\":[[0.0,\"#0d0887\"],[0.1111111111111111,\"#46039f\"],[0.2222222222222222,\"#7201a8\"],[0.3333333333333333,\"#9c179e\"],[0.4444444444444444,\"#bd3786\"],[0.5555555555555556,\"#d8576b\"],[0.6666666666666666,\"#ed7953\"],[0.7777777777777778,\"#fb9f3a\"],[0.8888888888888888,\"#fdca26\"],[1.0,\"#f0f921\"]]}],\"choropleth\":[{\"type\":\"choropleth\",\"colorbar\":{\"outlinewidth\":0,\"ticks\":\"\"}}],\"histogram2d\":[{\"type\":\"histogram2d\",\"colorbar\":{\"outlinewidth\":0,\"ticks\":\"\"},\"colorscale\":[[0.0,\"#0d0887\"],[0.1111111111111111,\"#46039f\"],[0.2222222222222222,\"#7201a8\"],[0.3333333333333333,\"#9c179e\"],[0.4444444444444444,\"#bd3786\"],[0.5555555555555556,\"#d8576b\"],[0.6666666666666666,\"#ed7953\"],[0.7777777777777778,\"#fb9f3a\"],[0.8888888888888888,\"#fdca26\"],[1.0,\"#f0f921\"]]}],\"heatmap\":[{\"type\":\"heatmap\",\"colorbar\":{\"outlinewidth\":0,\"ticks\":\"\"},\"colorscale\":[[0.0,\"#0d0887\"],[0.1111111111111111,\"#46039f\"],[0.2222222222222222,\"#7201a8\"],[0.3333333333333333,\"#9c179e\"],[0.4444444444444444,\"#bd3786\"],[0.5555555555555556,\"#d8576b\"],[0.6666666666666666,\"#ed7953\"],[0.7777777777777778,\"#fb9f3a\"],[0.8888888888888888,\"#fdca26\"],[1.0,\"#f0f921\"]]}],\"heatmapgl\":[{\"type\":\"heatmapgl\",\"colorbar\":{\"outlinewidth\":0,\"ticks\":\"\"},\"colorscale\":[[0.0,\"#0d0887\"],[0.1111111111111111,\"#46039f\"],[0.2222222222222222,\"#7201a8\"],[0.3333333333333333,\"#9c179e\"],[0.4444444444444444,\"#bd3786\"],[0.5555555555555556,\"#d8576b\"],[0.6666666666666666,\"#ed7953\"],[0.7777777777777778,\"#fb9f3a\"],[0.8888888888888888,\"#fdca26\"],[1.0,\"#f0f921\"]]}],\"contourcarpet\":[{\"type\":\"contourcarpet\",\"colorbar\":{\"outlinewidth\":0,\"ticks\":\"\"}}],\"contour\":[{\"type\":\"contour\",\"colorbar\":{\"outlinewidth\":0,\"ticks\":\"\"},\"colorscale\":[[0.0,\"#0d0887\"],[0.1111111111111111,\"#46039f\"],[0.2222222222222222,\"#7201a8\"],[0.3333333333333333,\"#9c179e\"],[0.4444444444444444,\"#bd3786\"],[0.5555555555555556,\"#d8576b\"],[0.6666666666666666,\"#ed7953\"],[0.7777777777777778,\"#fb9f3a\"],[0.8888888888888888,\"#fdca26\"],[1.0,\"#f0f921\"]]}],\"surface\":[{\"type\":\"surface\",\"colorbar\":{\"outlinewidth\":0,\"ticks\":\"\"},\"colorscale\":[[0.0,\"#0d0887\"],[0.1111111111111111,\"#46039f\"],[0.2222222222222222,\"#7201a8\"],[0.3333333333333333,\"#9c179e\"],[0.4444444444444444,\"#bd3786\"],[0.5555555555555556,\"#d8576b\"],[0.6666666666666666,\"#ed7953\"],[0.7777777777777778,\"#fb9f3a\"],[0.8888888888888888,\"#fdca26\"],[1.0,\"#f0f921\"]]}],\"mesh3d\":[{\"type\":\"mesh3d\",\"colorbar\":{\"outlinewidth\":0,\"ticks\":\"\"}}],\"scatter\":[{\"fillpattern\":{\"fillmode\":\"overlay\",\"size\":10,\"solidity\":0.2},\"type\":\"scatter\"}],\"parcoords\":[{\"type\":\"parcoords\",\"line\":{\"colorbar\":{\"outlinewidth\":0,\"ticks\":\"\"}}}],\"scatterpolargl\":[{\"type\":\"scatterpolargl\",\"marker\":{\"colorbar\":{\"outlinewidth\":0,\"ticks\":\"\"}}}],\"bar\":[{\"error_x\":{\"color\":\"#2a3f5f\"},\"error_y\":{\"color\":\"#2a3f5f\"},\"marker\":{\"line\":{\"color\":\"#E5ECF6\",\"width\":0.5},\"pattern\":{\"fillmode\":\"overlay\",\"size\":10,\"solidity\":0.2}},\"type\":\"bar\"}],\"scattergeo\":[{\"type\":\"scattergeo\",\"marker\":{\"colorbar\":{\"outlinewidth\":0,\"ticks\":\"\"}}}],\"scatterpolar\":[{\"type\":\"scatterpolar\",\"marker\":{\"colorbar\":{\"outlinewidth\":0,\"ticks\":\"\"}}}],\"histogram\":[{\"marker\":{\"pattern\":{\"fillmode\":\"overlay\",\"size\":10,\"solidity\":0.2}},\"type\":\"histogram\"}],\"scattergl\":[{\"type\":\"scattergl\",\"marker\":{\"colorbar\":{\"outlinewidth\":0,\"ticks\":\"\"}}}],\"scatter3d\":[{\"type\":\"scatter3d\",\"line\":{\"colorbar\":{\"outlinewidth\":0,\"ticks\":\"\"}},\"marker\":{\"colorbar\":{\"outlinewidth\":0,\"ticks\":\"\"}}}],\"scattermapbox\":[{\"type\":\"scattermapbox\",\"marker\":{\"colorbar\":{\"outlinewidth\":0,\"ticks\":\"\"}}}],\"scatterternary\":[{\"type\":\"scatterternary\",\"marker\":{\"colorbar\":{\"outlinewidth\":0,\"ticks\":\"\"}}}],\"scattercarpet\":[{\"type\":\"scattercarpet\",\"marker\":{\"colorbar\":{\"outlinewidth\":0,\"ticks\":\"\"}}}],\"carpet\":[{\"aaxis\":{\"endlinecolor\":\"#2a3f5f\",\"gridcolor\":\"white\",\"linecolor\":\"white\",\"minorgridcolor\":\"white\",\"startlinecolor\":\"#2a3f5f\"},\"baxis\":{\"endlinecolor\":\"#2a3f5f\",\"gridcolor\":\"white\",\"linecolor\":\"white\",\"minorgridcolor\":\"white\",\"startlinecolor\":\"#2a3f5f\"},\"type\":\"carpet\"}],\"table\":[{\"cells\":{\"fill\":{\"color\":\"#EBF0F8\"},\"line\":{\"color\":\"white\"}},\"header\":{\"fill\":{\"color\":\"#C8D4E3\"},\"line\":{\"color\":\"white\"}},\"type\":\"table\"}],\"barpolar\":[{\"marker\":{\"line\":{\"color\":\"#E5ECF6\",\"width\":0.5},\"pattern\":{\"fillmode\":\"overlay\",\"size\":10,\"solidity\":0.2}},\"type\":\"barpolar\"}],\"pie\":[{\"automargin\":true,\"type\":\"pie\"}]},\"layout\":{\"autotypenumbers\":\"strict\",\"colorway\":[\"#636efa\",\"#EF553B\",\"#00cc96\",\"#ab63fa\",\"#FFA15A\",\"#19d3f3\",\"#FF6692\",\"#B6E880\",\"#FF97FF\",\"#FECB52\"],\"font\":{\"color\":\"#2a3f5f\"},\"hovermode\":\"closest\",\"hoverlabel\":{\"align\":\"left\"},\"paper_bgcolor\":\"white\",\"plot_bgcolor\":\"#E5ECF6\",\"polar\":{\"bgcolor\":\"#E5ECF6\",\"angularaxis\":{\"gridcolor\":\"white\",\"linecolor\":\"white\",\"ticks\":\"\"},\"radialaxis\":{\"gridcolor\":\"white\",\"linecolor\":\"white\",\"ticks\":\"\"}},\"ternary\":{\"bgcolor\":\"#E5ECF6\",\"aaxis\":{\"gridcolor\":\"white\",\"linecolor\":\"white\",\"ticks\":\"\"},\"baxis\":{\"gridcolor\":\"white\",\"linecolor\":\"white\",\"ticks\":\"\"},\"caxis\":{\"gridcolor\":\"white\",\"linecolor\":\"white\",\"ticks\":\"\"}},\"coloraxis\":{\"colorbar\":{\"outlinewidth\":0,\"ticks\":\"\"}},\"colorscale\":{\"sequential\":[[0.0,\"#0d0887\"],[0.1111111111111111,\"#46039f\"],[0.2222222222222222,\"#7201a8\"],[0.3333333333333333,\"#9c179e\"],[0.4444444444444444,\"#bd3786\"],[0.5555555555555556,\"#d8576b\"],[0.6666666666666666,\"#ed7953\"],[0.7777777777777778,\"#fb9f3a\"],[0.8888888888888888,\"#fdca26\"],[1.0,\"#f0f921\"]],\"sequentialminus\":[[0.0,\"#0d0887\"],[0.1111111111111111,\"#46039f\"],[0.2222222222222222,\"#7201a8\"],[0.3333333333333333,\"#9c179e\"],[0.4444444444444444,\"#bd3786\"],[0.5555555555555556,\"#d8576b\"],[0.6666666666666666,\"#ed7953\"],[0.7777777777777778,\"#fb9f3a\"],[0.8888888888888888,\"#fdca26\"],[1.0,\"#f0f921\"]],\"diverging\":[[0,\"#8e0152\"],[0.1,\"#c51b7d\"],[0.2,\"#de77ae\"],[0.3,\"#f1b6da\"],[0.4,\"#fde0ef\"],[0.5,\"#f7f7f7\"],[0.6,\"#e6f5d0\"],[0.7,\"#b8e186\"],[0.8,\"#7fbc41\"],[0.9,\"#4d9221\"],[1,\"#276419\"]]},\"xaxis\":{\"gridcolor\":\"white\",\"linecolor\":\"white\",\"ticks\":\"\",\"title\":{\"standoff\":15},\"zerolinecolor\":\"white\",\"automargin\":true,\"zerolinewidth\":2},\"yaxis\":{\"gridcolor\":\"white\",\"linecolor\":\"white\",\"ticks\":\"\",\"title\":{\"standoff\":15},\"zerolinecolor\":\"white\",\"automargin\":true,\"zerolinewidth\":2},\"scene\":{\"xaxis\":{\"backgroundcolor\":\"#E5ECF6\",\"gridcolor\":\"white\",\"linecolor\":\"white\",\"showbackground\":true,\"ticks\":\"\",\"zerolinecolor\":\"white\",\"gridwidth\":2},\"yaxis\":{\"backgroundcolor\":\"#E5ECF6\",\"gridcolor\":\"white\",\"linecolor\":\"white\",\"showbackground\":true,\"ticks\":\"\",\"zerolinecolor\":\"white\",\"gridwidth\":2},\"zaxis\":{\"backgroundcolor\":\"#E5ECF6\",\"gridcolor\":\"white\",\"linecolor\":\"white\",\"showbackground\":true,\"ticks\":\"\",\"zerolinecolor\":\"white\",\"gridwidth\":2}},\"shapedefaults\":{\"line\":{\"color\":\"#2a3f5f\"}},\"annotationdefaults\":{\"arrowcolor\":\"#2a3f5f\",\"arrowhead\":0,\"arrowwidth\":1},\"geo\":{\"bgcolor\":\"white\",\"landcolor\":\"#E5ECF6\",\"subunitcolor\":\"white\",\"showland\":true,\"showlakes\":true,\"lakecolor\":\"white\"},\"title\":{\"x\":0.05},\"mapbox\":{\"style\":\"light\"}}}},                        {\"responsive\": true}                    ).then(function(){\n",
       "                            \n",
       "var gd = document.getElementById('901c940d-2c09-49f0-be33-a9025e5f6273');\n",
       "var x = new MutationObserver(function (mutations, observer) {{\n",
       "        var display = window.getComputedStyle(gd).display;\n",
       "        if (!display || display === 'none') {{\n",
       "            console.log([gd, 'removed!']);\n",
       "            Plotly.purge(gd);\n",
       "            observer.disconnect();\n",
       "        }}\n",
       "}});\n",
       "\n",
       "// Listen for the removal of the full notebook cells\n",
       "var notebookContainer = gd.closest('#notebook-container');\n",
       "if (notebookContainer) {{\n",
       "    x.observe(notebookContainer, {childList: true});\n",
       "}}\n",
       "\n",
       "// Listen for the clearing of the current output cell\n",
       "var outputEl = gd.closest('.output');\n",
       "if (outputEl) {{\n",
       "    x.observe(outputEl, {childList: true});\n",
       "}}\n",
       "\n",
       "                        })                };                            </script>        </div>\n",
       "</body>\n",
       "</html>"
      ]
     },
     "metadata": {},
     "output_type": "display_data"
    }
   ],
   "source": [
    "if not config['tune_parameters']:\n",
    "    optuna_study = optuna.load_study(study_name=f'hyperparameters_tuning_{config[\"model\"]}_{config[\"metric\"]}', storage=f'sqlite:///{config[\"database_path\"]}')\n",
    "    \n",
    "fig = optuna.visualization.plot_param_importances(optuna_study)\n",
    "fig.show()"
   ]
  },
  {
   "cell_type": "markdown",
   "id": "da63a2b6",
   "metadata": {
    "papermill": {
     "duration": 0.021611,
     "end_time": "2025-01-07T11:40:53.636963",
     "exception": false,
     "start_time": "2025-01-07T11:40:53.615352",
     "status": "completed"
    },
    "tags": []
   },
   "source": [
    "## Let's train the recommender with best parameter values"
   ]
  },
  {
   "cell_type": "code",
   "execution_count": 16,
   "id": "48d13241",
   "metadata": {
    "execution": {
     "iopub.execute_input": "2025-01-07T11:40:53.681950Z",
     "iopub.status.busy": "2025-01-07T11:40:53.681576Z",
     "iopub.status.idle": "2025-01-07T11:41:08.255180Z",
     "shell.execute_reply": "2025-01-07T11:41:08.254192Z"
    },
    "papermill": {
     "duration": 14.598254,
     "end_time": "2025-01-07T11:41:08.257089",
     "exception": false,
     "start_time": "2025-01-07T11:40:53.658835",
     "status": "completed"
    },
    "tags": []
   },
   "outputs": [
    {
     "name": "stdout",
     "output_type": "stream",
     "text": [
      "Similarity column 35736 (100.0%), 2781.63 column/sec. Elapsed time 12.85 sec\n"
     ]
    }
   ],
   "source": [
    "if config['tune_best_params']:\n",
    "\n",
    "    if config['tune_parameters']:\n",
    "        best_params = optuna_study.best_trial.params\n",
    "    else: \n",
    "        with open(f'{K_PATH}/{GH_PATH}/{config[\"model\"]}Recommender/Optimizing{config[\"metric\"]}/best_params_{config[\"model\"]}_{config[\"metric\"]}.json', 'r') as best_params_json:\n",
    "            best_params = json.load(best_params_json)\n",
    "\n",
    "    recommender_instance = UserKNNCFRecommender(URM_train + URM_validation)\n",
    "    recommender_instance.fit(**best_params)"
   ]
  },
  {
   "cell_type": "markdown",
   "id": "e827def1",
   "metadata": {
    "papermill": {
     "duration": 0.021812,
     "end_time": "2025-01-07T11:41:08.301432",
     "exception": false,
     "start_time": "2025-01-07T11:41:08.279620",
     "status": "completed"
    },
    "tags": []
   },
   "source": [
    "# Testing\n",
    "\n",
    "Create the recommendations for the submission. "
   ]
  },
  {
   "cell_type": "code",
   "execution_count": 17,
   "id": "6487b3b1",
   "metadata": {
    "execution": {
     "iopub.execute_input": "2025-01-07T11:41:08.346963Z",
     "iopub.status.busy": "2025-01-07T11:41:08.346602Z",
     "iopub.status.idle": "2025-01-07T11:41:53.340955Z",
     "shell.execute_reply": "2025-01-07T11:41:53.339745Z"
    },
    "papermill": {
     "duration": 45.041689,
     "end_time": "2025-01-07T11:41:53.365357",
     "exception": false,
     "start_time": "2025-01-07T11:41:08.323668",
     "status": "completed"
    },
    "tags": []
   },
   "outputs": [
    {
     "name": "stdout",
     "output_type": "stream",
     "text": [
      "Submission file saved as /kaggle/working/submission_UserKNNCF_MAP.csv\n"
     ]
    }
   ],
   "source": [
    "if config['tune_best_params']:\n",
    "\n",
    "    data_target_users_test = pd.read_csv('/kaggle/working/RECsys_Challenge2024/Dataset/data_target_users_test.csv')\n",
    "    create_submission(data_target_users_test, recommender_instance, f'/kaggle/working/submission_{config[\"model\"]}_{config[\"metric\"]}.csv')"
   ]
  },
  {
   "cell_type": "markdown",
   "id": "12ce5a57",
   "metadata": {
    "papermill": {
     "duration": 0.021695,
     "end_time": "2025-01-07T11:41:53.409364",
     "exception": false,
     "start_time": "2025-01-07T11:41:53.387669",
     "status": "completed"
    },
    "tags": []
   },
   "source": [
    "# Save Version on GitHub \n",
    "\n",
    "Write or import a json file where best hyperparameters are saved. "
   ]
  },
  {
   "cell_type": "code",
   "execution_count": 18,
   "id": "a7d69c01",
   "metadata": {
    "execution": {
     "iopub.execute_input": "2025-01-07T11:41:53.454443Z",
     "iopub.status.busy": "2025-01-07T11:41:53.454053Z",
     "iopub.status.idle": "2025-01-07T11:41:54.371932Z",
     "shell.execute_reply": "2025-01-07T11:41:54.370838Z"
    },
    "papermill": {
     "duration": 0.942571,
     "end_time": "2025-01-07T11:41:54.373998",
     "exception": false,
     "start_time": "2025-01-07T11:41:53.431427",
     "status": "completed"
    },
    "tags": []
   },
   "outputs": [
    {
     "name": "stdout",
     "output_type": "stream",
     "text": [
      "File 'TrainedModels/WithKFCV/KNN/UserKNNCFRecommender/OptimizingMAP/best_params_UserKNNCF_MAP.json' updated successfully.\n"
     ]
    }
   ],
   "source": [
    "if config['tune_parameters']:\n",
    "    with open(f'/kaggle/working/best_params_{config[\"model\"]}_{config[\"metric\"]}.json', 'w') as params_file:\n",
    "        json.dump(optuna_study.best_params, params_file)\n",
    "        \n",
    "    if config['save_github']:\n",
    "        upload_file(\n",
    "            f'/kaggle/working/best_params_{config[\"model\"]}_{config[\"metric\"]}.json', \n",
    "            f'{GH_PATH}/{config[\"model\"]}Recommender/Optimizing{config[\"metric\"]}/best_params_{config[\"model\"]}_{config[\"metric\"]}.json', \n",
    "            f'{config[\"model\"]}_{config[\"metric\"]} tuning results (from kaggle notebook)',\n",
    "            repo\n",
    "        )\n",
    "elif config['copy_prev_best_params']:\n",
    "    shutil.copyfile(\n",
    "        f'{K_PATH}/{GH_PATH}/{config[\"model\"]}Recommender/Optimizing{config[\"metric\"]}/'\\\n",
    "        f'best_params_{config[\"model\"]}_{config[\"metric\"]}.json', \n",
    "        f'/kaggle/working/best_params_{config[\"model\"]}_{config[\"metric\"]}.json'\n",
    "    )"
   ]
  },
  {
   "cell_type": "markdown",
   "id": "5e44032d",
   "metadata": {
    "papermill": {
     "duration": 0.021747,
     "end_time": "2025-01-07T11:41:54.418068",
     "exception": false,
     "start_time": "2025-01-07T11:41:54.396321",
     "status": "completed"
    },
    "tags": []
   },
   "source": [
    "Save the history of the tuned model."
   ]
  },
  {
   "cell_type": "code",
   "execution_count": 19,
   "id": "33a8f09b",
   "metadata": {
    "execution": {
     "iopub.execute_input": "2025-01-07T11:41:54.463707Z",
     "iopub.status.busy": "2025-01-07T11:41:54.463368Z",
     "iopub.status.idle": "2025-01-07T11:41:56.097290Z",
     "shell.execute_reply": "2025-01-07T11:41:56.096163Z"
    },
    "papermill": {
     "duration": 1.658605,
     "end_time": "2025-01-07T11:41:56.098989",
     "exception": false,
     "start_time": "2025-01-07T11:41:54.440384",
     "status": "completed"
    },
    "tags": []
   },
   "outputs": [
    {
     "name": "stdout",
     "output_type": "stream",
     "text": [
      "File 'TrainedModels/WithKFCV/KNN/UserKNNCFRecommender/OptimizingMAP/history_UserKNNCF_MAP.db' updated successfully.\n"
     ]
    }
   ],
   "source": [
    "if config['save_github'] and config['tune_parameters']:\n",
    "    upload_file(\n",
    "        config['database_path'], \n",
    "        f'{GH_PATH}/{config[\"model\"]}Recommender/Optimizing{config[\"metric\"]}/history_{config[\"model\"]}_{config[\"metric\"]}.db',\n",
    "        f'Tuning {config[\"model\"]}_{config[\"metric\"]} db updated results (from kaggle notebook)',\n",
    "        repo\n",
    "    )"
   ]
  },
  {
   "cell_type": "markdown",
   "id": "ee5713c3",
   "metadata": {
    "papermill": {
     "duration": 0.022113,
     "end_time": "2025-01-07T11:41:56.143599",
     "exception": false,
     "start_time": "2025-01-07T11:41:56.121486",
     "status": "completed"
    },
    "tags": []
   },
   "source": [
    "Save the best trained model and its submission."
   ]
  },
  {
   "cell_type": "code",
   "execution_count": 20,
   "id": "720b6c89",
   "metadata": {
    "execution": {
     "iopub.execute_input": "2025-01-07T11:41:56.189600Z",
     "iopub.status.busy": "2025-01-07T11:41:56.189277Z",
     "iopub.status.idle": "2025-01-07T11:41:58.072342Z",
     "shell.execute_reply": "2025-01-07T11:41:58.071164Z"
    },
    "papermill": {
     "duration": 1.908254,
     "end_time": "2025-01-07T11:41:58.074050",
     "exception": false,
     "start_time": "2025-01-07T11:41:56.165796",
     "status": "completed"
    },
    "tags": []
   },
   "outputs": [
    {
     "name": "stdout",
     "output_type": "stream",
     "text": [
      "File 'TrainedModels/WithKFCV/KNN/UserKNNCFRecommender/OptimizingMAP/Submission/submission_UserKNNCF_MAP.csv' updated successfully.\n"
     ]
    }
   ],
   "source": [
    "if config['save_github'] and config['tune_best_params']: \n",
    "    upload_file(\n",
    "                f'/kaggle/working/submission_{config[\"model\"]}_{config[\"metric\"]}.csv', \n",
    "                f'{GH_PATH}/{config[\"model\"]}Recommender/Optimizing{config[\"metric\"]}/Submission/submission_{config[\"model\"]}_{config[\"metric\"]}.csv', \n",
    "                f'New {config[\"model\"]}_{config[\"metric\"]} submission (from kaggle notebook)',\n",
    "                repo\n",
    "            )"
   ]
  }
 ],
 "metadata": {
  "kaggle": {
   "accelerator": "none",
   "dataSources": [],
   "dockerImageVersionId": 30822,
   "isGpuEnabled": false,
   "isInternetEnabled": true,
   "language": "python",
   "sourceType": "notebook"
  },
  "kernelspec": {
   "display_name": "Python 3",
   "language": "python",
   "name": "python3"
  },
  "language_info": {
   "codemirror_mode": {
    "name": "ipython",
    "version": 3
   },
   "file_extension": ".py",
   "mimetype": "text/x-python",
   "name": "python",
   "nbconvert_exporter": "python",
   "pygments_lexer": "ipython3",
   "version": "3.10.12"
  },
  "papermill": {
   "default_parameters": {},
   "duration": 2283.82472,
   "end_time": "2025-01-07T11:41:59.222515",
   "environment_variables": {},
   "exception": null,
   "input_path": "__notebook__.ipynb",
   "output_path": "__notebook__.ipynb",
   "parameters": {},
   "start_time": "2025-01-07T11:03:55.397795",
   "version": "2.6.0"
  }
 },
 "nbformat": 4,
 "nbformat_minor": 5
}
