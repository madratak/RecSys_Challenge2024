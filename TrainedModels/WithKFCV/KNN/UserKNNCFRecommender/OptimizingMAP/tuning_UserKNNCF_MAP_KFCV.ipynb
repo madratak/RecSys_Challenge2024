{
 "cells": [
  {
   "cell_type": "markdown",
   "id": "5f2e0c77",
   "metadata": {
    "papermill": {
     "duration": 0.006218,
     "end_time": "2025-01-05T11:33:20.133062",
     "exception": false,
     "start_time": "2025-01-05T11:33:20.126844",
     "status": "completed"
    },
    "tags": []
   },
   "source": [
    "# Set connection with GitHub"
   ]
  },
  {
   "cell_type": "code",
   "execution_count": 1,
   "id": "c2bb6c35",
   "metadata": {
    "_cell_guid": "b1076dfc-b9ad-4769-8c92-a6c4dae69d19",
    "_uuid": "8f2839f25d086af736a60e9eeb907d3b93b6e0e5",
    "execution": {
     "iopub.execute_input": "2025-01-05T11:33:20.145684Z",
     "iopub.status.busy": "2025-01-05T11:33:20.145169Z",
     "iopub.status.idle": "2025-01-05T11:33:20.151264Z",
     "shell.execute_reply": "2025-01-05T11:33:20.150143Z"
    },
    "papermill": {
     "duration": 0.014288,
     "end_time": "2025-01-05T11:33:20.152944",
     "exception": false,
     "start_time": "2025-01-05T11:33:20.138656",
     "status": "completed"
    },
    "tags": []
   },
   "outputs": [],
   "source": [
    "# ! cd /kaggle/working && rm -rf RECsys_Challenge2024"
   ]
  },
  {
   "cell_type": "code",
   "execution_count": 2,
   "id": "9abd41bd",
   "metadata": {
    "execution": {
     "iopub.execute_input": "2025-01-05T11:33:20.165421Z",
     "iopub.status.busy": "2025-01-05T11:33:20.164983Z",
     "iopub.status.idle": "2025-01-05T11:33:36.093090Z",
     "shell.execute_reply": "2025-01-05T11:33:36.091831Z"
    },
    "papermill": {
     "duration": 15.936811,
     "end_time": "2025-01-05T11:33:36.095439",
     "exception": false,
     "start_time": "2025-01-05T11:33:20.158628",
     "status": "completed"
    },
    "tags": []
   },
   "outputs": [
    {
     "name": "stdout",
     "output_type": "stream",
     "text": [
      "Cloning into 'RECsys_Challenge2024'...\r\n",
      "remote: Enumerating objects: 6196, done.\u001b[K\r\n",
      "remote: Counting objects: 100% (107/107), done.\u001b[K\r\n",
      "remote: Compressing objects: 100% (88/88), done.\u001b[K\r\n",
      "remote: Total 6196 (delta 35), reused 16 (delta 6), pack-reused 6089 (from 4)\u001b[K\r\n",
      "Receiving objects: 100% (6196/6196), 399.83 MiB | 36.16 MiB/s, done.\r\n",
      "Resolving deltas: 100% (3415/3415), done.\r\n",
      "Updating files: 100% (486/486), done.\r\n"
     ]
    }
   ],
   "source": [
    "from kaggle_secrets import UserSecretsClient\n",
    "\n",
    "token = UserSecretsClient().get_secret(\"Token\")\n",
    "\n",
    "! git clone https://{token}@github.com/madratak/RECsys_Challenge2024.git"
   ]
  },
  {
   "cell_type": "code",
   "execution_count": 3,
   "id": "25b6d1e1",
   "metadata": {
    "execution": {
     "iopub.execute_input": "2025-01-05T11:33:36.120228Z",
     "iopub.status.busy": "2025-01-05T11:33:36.119769Z",
     "iopub.status.idle": "2025-01-05T11:33:43.179186Z",
     "shell.execute_reply": "2025-01-05T11:33:43.177909Z"
    },
    "papermill": {
     "duration": 7.073203,
     "end_time": "2025-01-05T11:33:43.181495",
     "exception": false,
     "start_time": "2025-01-05T11:33:36.108292",
     "status": "completed"
    },
    "tags": []
   },
   "outputs": [
    {
     "name": "stdout",
     "output_type": "stream",
     "text": [
      "Collecting PyGithub\r\n",
      "  Downloading PyGithub-2.5.0-py3-none-any.whl.metadata (3.9 kB)\r\n",
      "Requirement already satisfied: requests in /usr/local/lib/python3.10/dist-packages (2.32.3)\r\n",
      "Collecting pynacl>=1.4.0 (from PyGithub)\r\n",
      "  Downloading PyNaCl-1.5.0-cp36-abi3-manylinux_2_17_x86_64.manylinux2014_x86_64.manylinux_2_24_x86_64.whl.metadata (8.6 kB)\r\n",
      "Requirement already satisfied: pyjwt>=2.4.0 in /usr/local/lib/python3.10/dist-packages (from pyjwt[crypto]>=2.4.0->PyGithub) (2.9.0)\r\n",
      "Requirement already satisfied: typing-extensions>=4.0.0 in /usr/local/lib/python3.10/dist-packages (from PyGithub) (4.12.2)\r\n",
      "Requirement already satisfied: urllib3>=1.26.0 in /usr/local/lib/python3.10/dist-packages (from PyGithub) (2.2.3)\r\n",
      "Requirement already satisfied: Deprecated in /usr/local/lib/python3.10/dist-packages (from PyGithub) (1.2.15)\r\n",
      "Requirement already satisfied: charset-normalizer<4,>=2 in /usr/local/lib/python3.10/dist-packages (from requests) (3.3.2)\r\n",
      "Requirement already satisfied: idna<4,>=2.5 in /usr/local/lib/python3.10/dist-packages (from requests) (3.10)\r\n",
      "Requirement already satisfied: certifi>=2017.4.17 in /usr/local/lib/python3.10/dist-packages (from requests) (2024.8.30)\r\n",
      "Requirement already satisfied: cryptography>=3.4.0 in /usr/local/lib/python3.10/dist-packages (from pyjwt[crypto]>=2.4.0->PyGithub) (43.0.1)\r\n",
      "Requirement already satisfied: cffi>=1.4.1 in /usr/local/lib/python3.10/dist-packages (from pynacl>=1.4.0->PyGithub) (1.17.1)\r\n",
      "Requirement already satisfied: wrapt<2,>=1.10 in /usr/local/lib/python3.10/dist-packages (from Deprecated->PyGithub) (1.16.0)\r\n",
      "Requirement already satisfied: pycparser in /usr/local/lib/python3.10/dist-packages (from cffi>=1.4.1->pynacl>=1.4.0->PyGithub) (2.22)\r\n",
      "Downloading PyGithub-2.5.0-py3-none-any.whl (375 kB)\r\n",
      "\u001b[2K   \u001b[90m━━━━━━━━━━━━━━━━━━━━━━━━━━━━━━━━━━━━━━━━\u001b[0m \u001b[32m375.9/375.9 kB\u001b[0m \u001b[31m8.5 MB/s\u001b[0m eta \u001b[36m0:00:00\u001b[0m\r\n",
      "\u001b[?25hDownloading PyNaCl-1.5.0-cp36-abi3-manylinux_2_17_x86_64.manylinux2014_x86_64.manylinux_2_24_x86_64.whl (856 kB)\r\n",
      "\u001b[2K   \u001b[90m━━━━━━━━━━━━━━━━━━━━━━━━━━━━━━━━━━━━━━━━\u001b[0m \u001b[32m856.7/856.7 kB\u001b[0m \u001b[31m28.1 MB/s\u001b[0m eta \u001b[36m0:00:00\u001b[0m\r\n",
      "\u001b[?25hInstalling collected packages: pynacl, PyGithub\r\n",
      "Successfully installed PyGithub-2.5.0 pynacl-1.5.0\r\n"
     ]
    }
   ],
   "source": [
    "! pip install PyGithub requests"
   ]
  },
  {
   "cell_type": "code",
   "execution_count": 4,
   "id": "600c0b2c",
   "metadata": {
    "execution": {
     "iopub.execute_input": "2025-01-05T11:33:43.205224Z",
     "iopub.status.busy": "2025-01-05T11:33:43.204726Z",
     "iopub.status.idle": "2025-01-05T11:36:32.771341Z",
     "shell.execute_reply": "2025-01-05T11:36:32.770079Z"
    },
    "papermill": {
     "duration": 169.580597,
     "end_time": "2025-01-05T11:36:32.773227",
     "exception": false,
     "start_time": "2025-01-05T11:33:43.192630",
     "status": "completed"
    },
    "tags": []
   },
   "outputs": [
    {
     "name": "stdout",
     "output_type": "stream",
     "text": [
      "/kaggle/working/RECsys_Challenge2024\n",
      "run_compile_all_cython: Found 11 Cython files in 5 folders...\r\n",
      "run_compile_all_cython: All files will be compiled using your current python environment: '/usr/bin/python3'\r\n",
      "Compiling [1/11]: MatrixFactorization_Cython_Epoch.pyx... \r\n",
      "In file included from \u001b[01m\u001b[K/usr/local/lib/python3.10/dist-packages/numpy/core/include/numpy/ndarraytypes.h:1929\u001b[m\u001b[K,\r\n",
      "                 from \u001b[01m\u001b[K/usr/local/lib/python3.10/dist-packages/numpy/core/include/numpy/ndarrayobject.h:12\u001b[m\u001b[K,\r\n",
      "                 from \u001b[01m\u001b[K/usr/local/lib/python3.10/dist-packages/numpy/core/include/numpy/arrayobject.h:5\u001b[m\u001b[K,\r\n",
      "                 from \u001b[01m\u001b[KMatrixFactorization_Cython_Epoch.c:1252\u001b[m\u001b[K:\r\n",
      "\u001b[01m\u001b[K/usr/local/lib/python3.10/dist-packages/numpy/core/include/numpy/npy_1_7_deprecated_api.h:17:2:\u001b[m\u001b[K \u001b[01;35m\u001b[Kwarning: \u001b[m\u001b[K#warning \"Using deprecated NumPy API, disable it with \" \"#define NPY_NO_DEPRECATED_API NPY_1_7_API_VERSION\" [\u001b[01;35m\u001b[K\u001b]8;;https://gcc.gnu.org/onlinedocs/gcc/Warning-Options.html#index-Wcpp\u0007-Wcpp\u001b]8;;\u0007\u001b[m\u001b[K]\r\n",
      "   17 | #\u001b[01;35m\u001b[Kwarning\u001b[m\u001b[K \"Using deprecated NumPy API, disable it with \" \\\r\n",
      "      |  \u001b[01;35m\u001b[K^~~~~~~\u001b[m\u001b[K\r\n",
      "\u001b[01m\u001b[KMatrixFactorization_Cython_Epoch.c:\u001b[m\u001b[K In function ‘\u001b[01m\u001b[K__pyx_pf_32MatrixFactorization_Cython_Epoch_32MatrixFactorization_Cython_Epoch_10epochIteration_Cython_ASY_SVD_SGD\u001b[m\u001b[K’:\r\n",
      "\u001b[01m\u001b[KMatrixFactorization_Cython_Epoch.c:26256:68:\u001b[m\u001b[K \u001b[01;35m\u001b[Kwarning: \u001b[m\u001b[K‘\u001b[01m\u001b[K__pyx_v_end_pos_seen_items\u001b[m\u001b[K’ may be used uninitialized in this function [\u001b[01;35m\u001b[K\u001b]8;;https://gcc.gnu.org/onlinedocs/gcc/Warning-Options.html#index-Wmaybe-uninitialized\u0007-Wmaybe-uninitialized\u001b]8;;\u0007\u001b[m\u001b[K]\r\n",
      "26256 |         for (__pyx_t_22 = __pyx_v_start_pos_seen_items; \u001b[01;35m\u001b[K__pyx_t_22 < __pyx_t_21\u001b[m\u001b[K; __pyx_t_22+=1) {\r\n",
      "      |                                                         \u001b[01;35m\u001b[K~~~~~~~~~~~^~~~~~~~~~~~\u001b[m\u001b[K\r\n",
      "\u001b[01m\u001b[KMatrixFactorization_Cython_Epoch.c:26256:68:\u001b[m\u001b[K \u001b[01;35m\u001b[Kwarning: \u001b[m\u001b[K‘\u001b[01m\u001b[K__pyx_v_start_pos_seen_items\u001b[m\u001b[K’ may be used uninitialized in this function [\u001b[01;35m\u001b[K\u001b]8;;https://gcc.gnu.org/onlinedocs/gcc/Warning-Options.html#index-Wmaybe-uninitialized\u0007-Wmaybe-uninitialized\u001b]8;;\u0007\u001b[m\u001b[K]\r\n",
      "/usr/local/lib/python3.10/dist-packages/Cython/Compiler/Main.py:381: FutureWarning: Cython directive 'language_level' not set, using '3str' for now (Py3). This has changed from earlier releases! File: /kaggle/working/RECsys_Challenge2024/Recommenders/MatrixFactorization/Cython/MatrixFactorization_Cython_Epoch.pyx\r\n",
      "  tree = Parsing.p_module(s, pxd, full_module_name)\r\n",
      "Compiling [1/11]: MatrixFactorization_Cython_Epoch.pyx... PASS\r\n",
      "\r\n",
      "Compiling [2/11]: MatrixFactorizationImpressions_Cython_Epoch.pyx... \r\n",
      "In file included from \u001b[01m\u001b[K/usr/local/lib/python3.10/dist-packages/numpy/core/include/numpy/ndarraytypes.h:1929\u001b[m\u001b[K,\r\n",
      "                 from \u001b[01m\u001b[K/usr/local/lib/python3.10/dist-packages/numpy/core/include/numpy/ndarrayobject.h:12\u001b[m\u001b[K,\r\n",
      "                 from \u001b[01m\u001b[K/usr/local/lib/python3.10/dist-packages/numpy/core/include/numpy/arrayobject.h:5\u001b[m\u001b[K,\r\n",
      "                 from \u001b[01m\u001b[KMatrixFactorizationImpressions_Cython_Epoch.c:1252\u001b[m\u001b[K:\r\n",
      "\u001b[01m\u001b[K/usr/local/lib/python3.10/dist-packages/numpy/core/include/numpy/npy_1_7_deprecated_api.h:17:2:\u001b[m\u001b[K \u001b[01;35m\u001b[Kwarning: \u001b[m\u001b[K#warning \"Using deprecated NumPy API, disable it with \" \"#define NPY_NO_DEPRECATED_API NPY_1_7_API_VERSION\" [\u001b[01;35m\u001b[K\u001b]8;;https://gcc.gnu.org/onlinedocs/gcc/Warning-Options.html#index-Wcpp\u0007-Wcpp\u001b]8;;\u0007\u001b[m\u001b[K]\r\n",
      "   17 | #\u001b[01;35m\u001b[Kwarning\u001b[m\u001b[K \"Using deprecated NumPy API, disable it with \" \\\r\n",
      "      |  \u001b[01;35m\u001b[K^~~~~~~\u001b[m\u001b[K\r\n",
      "\u001b[01m\u001b[KMatrixFactorizationImpressions_Cython_Epoch.c:\u001b[m\u001b[K In function ‘\u001b[01m\u001b[K__pyx_f_43MatrixFactorizationImpressions_Cython_Epoch_32MatrixFactorization_Cython_Epoch_sampleBPR_Cython\u001b[m\u001b[K’:\r\n",
      "\u001b[01m\u001b[KMatrixFactorizationImpressions_Cython_Epoch.c:30353:17:\u001b[m\u001b[K \u001b[01;35m\u001b[Kwarning: \u001b[m\u001b[K‘\u001b[01m\u001b[K__pyx_v_start_pos_impression_items\u001b[m\u001b[K’ may be used uninitialized in this function [\u001b[01;35m\u001b[K\u001b]8;;https://gcc.gnu.org/onlinedocs/gcc/Warning-Options.html#index-Wmaybe-uninitialized\u0007-Wmaybe-uninitialized\u001b]8;;\u0007\u001b[m\u001b[K]\r\n",
      "30353 |       \u001b[01;35m\u001b[K__pyx_t_4 = (__pyx_v_start_pos_impression_items + __pyx_v_index)\u001b[m\u001b[K;\r\n",
      "      |       \u001b[01;35m\u001b[K~~~~~~~~~~^~~~~~~~~~~~~~~~~~~~~~~~~~~~~~~~~~~~~~~~~~~~~~~~~~~~~~\u001b[m\u001b[K\r\n",
      "\u001b[01m\u001b[KMatrixFactorizationImpressions_Cython_Epoch.c:\u001b[m\u001b[K In function ‘\u001b[01m\u001b[K__pyx_pf_43MatrixFactorizationImpressions_Cython_Epoch_32MatrixFactorization_Cython_Epoch_10epochIteration_Cython_ASY_SVD_SGD\u001b[m\u001b[K’:\r\n",
      "\u001b[01m\u001b[KMatrixFactorizationImpressions_Cython_Epoch.c:26112:66:\u001b[m\u001b[K \u001b[01;35m\u001b[Kwarning: \u001b[m\u001b[K‘\u001b[01m\u001b[K__pyx_v_end_pos_seen_items\u001b[m\u001b[K’ may be used uninitialized in this function [\u001b[01;35m\u001b[K\u001b]8;;https://gcc.gnu.org/onlinedocs/gcc/Warning-Options.html#index-Wmaybe-uninitialized\u0007-Wmaybe-uninitialized\u001b]8;;\u0007\u001b[m\u001b[K]\r\n",
      "26112 |       for (__pyx_t_22 = __pyx_v_start_pos_seen_items; \u001b[01;35m\u001b[K__pyx_t_22 < __pyx_t_21\u001b[m\u001b[K; __pyx_t_22+=1) {\r\n",
      "      |                                                       \u001b[01;35m\u001b[K~~~~~~~~~~~^~~~~~~~~~~~\u001b[m\u001b[K\r\n",
      "\u001b[01m\u001b[KMatrixFactorizationImpressions_Cython_Epoch.c:26112:66:\u001b[m\u001b[K \u001b[01;35m\u001b[Kwarning: \u001b[m\u001b[K‘\u001b[01m\u001b[K__pyx_v_start_pos_seen_items\u001b[m\u001b[K’ may be used uninitialized in this function [\u001b[01;35m\u001b[K\u001b]8;;https://gcc.gnu.org/onlinedocs/gcc/Warning-Options.html#index-Wmaybe-uninitialized\u0007-Wmaybe-uninitialized\u001b]8;;\u0007\u001b[m\u001b[K]\r\n",
      "/usr/local/lib/python3.10/dist-packages/Cython/Compiler/Main.py:381: FutureWarning: Cython directive 'language_level' not set, using '3str' for now (Py3). This has changed from earlier releases! File: /kaggle/working/RECsys_Challenge2024/Recommenders/MatrixFactorization/Cython/MatrixFactorizationImpressions_Cython_Epoch.pyx\r\n",
      "  tree = Parsing.p_module(s, pxd, full_module_name)\r\n",
      "Compiling [2/11]: MatrixFactorizationImpressions_Cython_Epoch.pyx... PASS\r\n",
      "\r\n",
      "Compiling [3/11]: Compute_Similarity_Cython.pyx... \r\n",
      "warning: Compute_Similarity_Cython.pyx:21:0: The 'IF' statement is deprecated and will be removed in a future Cython version. Consider using runtime conditions or C macros instead. See https://github.com/cython/cython/issues/4310\r\n",
      "In file included from \u001b[01m\u001b[K/usr/local/lib/python3.10/dist-packages/numpy/core/include/numpy/ndarraytypes.h:1929\u001b[m\u001b[K,\r\n",
      "                 from \u001b[01m\u001b[K/usr/local/lib/python3.10/dist-packages/numpy/core/include/numpy/ndarrayobject.h:12\u001b[m\u001b[K,\r\n",
      "                 from \u001b[01m\u001b[K/usr/local/lib/python3.10/dist-packages/numpy/core/include/numpy/arrayobject.h:5\u001b[m\u001b[K,\r\n",
      "                 from \u001b[01m\u001b[KCompute_Similarity_Cython.c:1252\u001b[m\u001b[K:\r\n",
      "\u001b[01m\u001b[K/usr/local/lib/python3.10/dist-packages/numpy/core/include/numpy/npy_1_7_deprecated_api.h:17:2:\u001b[m\u001b[K \u001b[01;35m\u001b[Kwarning: \u001b[m\u001b[K#warning \"Using deprecated NumPy API, disable it with \" \"#define NPY_NO_DEPRECATED_API NPY_1_7_API_VERSION\" [\u001b[01;35m\u001b[K\u001b]8;;https://gcc.gnu.org/onlinedocs/gcc/Warning-Options.html#index-Wcpp\u0007-Wcpp\u001b]8;;\u0007\u001b[m\u001b[K]\r\n",
      "   17 | #\u001b[01;35m\u001b[Kwarning\u001b[m\u001b[K \"Using deprecated NumPy API, disable it with \" \\\r\n",
      "      |  \u001b[01;35m\u001b[K^~~~~~~\u001b[m\u001b[K\r\n",
      "/usr/local/lib/python3.10/dist-packages/Cython/Compiler/Main.py:381: FutureWarning: Cython directive 'language_level' not set, using '3str' for now (Py3). This has changed from earlier releases! File: /kaggle/working/RECsys_Challenge2024/Recommenders/Similarity/Cython/Compute_Similarity_Cython.pyx\r\n",
      "  tree = Parsing.p_module(s, pxd, full_module_name)\r\n",
      "warning: Compute_Similarity_Cython.pyx:21:0: The 'IF' statement is deprecated and will be removed in a future Cython version. Consider using runtime conditions or C macros instead. See https://github.com/cython/cython/issues/4310\r\n",
      "Compiling [3/11]: Compute_Similarity_Cython.pyx... PASS\r\n",
      "\r\n",
      "Compiling [4/11]: Triangular_Matrix.pyx... \r\n",
      "warning: Triangular_Matrix.pyx:22:0: The 'IF' statement is deprecated and will be removed in a future Cython version. Consider using runtime conditions or C macros instead. See https://github.com/cython/cython/issues/4310\r\n",
      "In file included from \u001b[01m\u001b[K/usr/local/lib/python3.10/dist-packages/numpy/core/include/numpy/ndarraytypes.h:1929\u001b[m\u001b[K,\r\n",
      "                 from \u001b[01m\u001b[K/usr/local/lib/python3.10/dist-packages/numpy/core/include/numpy/ndarrayobject.h:12\u001b[m\u001b[K,\r\n",
      "                 from \u001b[01m\u001b[K/usr/local/lib/python3.10/dist-packages/numpy/core/include/numpy/arrayobject.h:5\u001b[m\u001b[K,\r\n",
      "                 from \u001b[01m\u001b[KTriangular_Matrix.c:1252\u001b[m\u001b[K:\r\n",
      "\u001b[01m\u001b[K/usr/local/lib/python3.10/dist-packages/numpy/core/include/numpy/npy_1_7_deprecated_api.h:17:2:\u001b[m\u001b[K \u001b[01;35m\u001b[Kwarning: \u001b[m\u001b[K#warning \"Using deprecated NumPy API, disable it with \" \"#define NPY_NO_DEPRECATED_API NPY_1_7_API_VERSION\" [\u001b[01;35m\u001b[K\u001b]8;;https://gcc.gnu.org/onlinedocs/gcc/Warning-Options.html#index-Wcpp\u0007-Wcpp\u001b]8;;\u0007\u001b[m\u001b[K]\r\n",
      "   17 | #\u001b[01;35m\u001b[Kwarning\u001b[m\u001b[K \"Using deprecated NumPy API, disable it with \" \\\r\n",
      "      |  \u001b[01;35m\u001b[K^~~~~~~\u001b[m\u001b[K\r\n",
      "In function ‘\u001b[01m\u001b[K__pyx_pf_17Triangular_Matrix_17Triangular_Matrix___init__\u001b[m\u001b[K’,\r\n",
      "    inlined from ‘\u001b[01m\u001b[K__pyx_pw_17Triangular_Matrix_17Triangular_Matrix_1__init__\u001b[m\u001b[K’ at \u001b[01m\u001b[KTriangular_Matrix.c:5541:13\u001b[m\u001b[K:\r\n",
      "\u001b[01m\u001b[KTriangular_Matrix.c:5599:43:\u001b[m\u001b[K \u001b[01;35m\u001b[Kwarning: \u001b[m\u001b[Kargument 1 value ‘\u001b[01m\u001b[K18446744073709551608\u001b[m\u001b[K’ exceeds maximum object size 9223372036854775807 [\u001b[01;35m\u001b[K\u001b]8;;https://gcc.gnu.org/onlinedocs/gcc/Warning-Options.html#index-Walloc-size-larger-than=\u0007-Walloc-size-larger-than=\u001b]8;;\u0007\u001b[m\u001b[K]\r\n",
      " 5599 |   __pyx_v_self->row_pointer = ((double **)\u001b[01;35m\u001b[Kmalloc((__pyx_v_self->num_rows * (sizeof(double *))))\u001b[m\u001b[K);\r\n",
      "      |                                           \u001b[01;35m\u001b[K^~~~~~~~~~~~~~~~~~~~~~~~~~~~~~~~~~~~~~~~~~~~~~~~~~~~~\u001b[m\u001b[K\r\n",
      "In file included from \u001b[01m\u001b[K/usr/include/python3.10/Python.h:34\u001b[m\u001b[K,\r\n",
      "                 from \u001b[01m\u001b[KTriangular_Matrix.c:41\u001b[m\u001b[K:\r\n",
      "\u001b[01m\u001b[KTriangular_Matrix.c:\u001b[m\u001b[K In function ‘\u001b[01m\u001b[K__pyx_pw_17Triangular_Matrix_17Triangular_Matrix_1__init__\u001b[m\u001b[K’:\r\n",
      "\u001b[01m\u001b[K/usr/include/stdlib.h:540:14:\u001b[m\u001b[K \u001b[01;36m\u001b[Knote: \u001b[m\u001b[Kin a call to allocation function ‘\u001b[01m\u001b[Kmalloc\u001b[m\u001b[K’ declared here\r\n",
      "  540 | extern void *\u001b[01;36m\u001b[Kmalloc\u001b[m\u001b[K (size_t __size) __THROW __attribute_malloc__\r\n",
      "      |              \u001b[01;36m\u001b[K^~~~~~\u001b[m\u001b[K\r\n",
      "/usr/local/lib/python3.10/dist-packages/Cython/Compiler/Main.py:381: FutureWarning: Cython directive 'language_level' not set, using '3str' for now (Py3). This has changed from earlier releases! File: /kaggle/working/RECsys_Challenge2024/Recommenders/SLIM/Cython/Triangular_Matrix.pyx\r\n",
      "  tree = Parsing.p_module(s, pxd, full_module_name)\r\n",
      "warning: Triangular_Matrix.pyx:22:0: The 'IF' statement is deprecated and will be removed in a future Cython version. Consider using runtime conditions or C macros instead. See https://github.com/cython/cython/issues/4310\r\n",
      "Compiling [4/11]: Triangular_Matrix.pyx... PASS\r\n",
      "\r\n",
      "Compiling [5/11]: SLIM_BPR_Cython_Epoch.pyx... \r\n",
      "warning: SLIM_BPR_Cython_Epoch.pyx:24:0: The 'IF' statement is deprecated and will be removed in a future Cython version. Consider using runtime conditions or C macros instead. See https://github.com/cython/cython/issues/4310\r\n",
      "warning: SLIM_BPR_Cython_Epoch.pyx:632:34: Non-trivial type declarators in shared declaration (e.g. mix of pointers and values). Each pointer declaration should be on its own line.\r\n",
      "warning: SLIM_BPR_Cython_Epoch.pyx:632:66: Non-trivial type declarators in shared declaration (e.g. mix of pointers and values). Each pointer declaration should be on its own line.\r\n",
      "warning: SLIM_BPR_Cython_Epoch.pyx:817:35: Non-trivial type declarators in shared declaration (e.g. mix of pointers and values). Each pointer declaration should be on its own line.\r\n",
      "warning: SLIM_BPR_Cython_Epoch.pyx:817:52: Non-trivial type declarators in shared declaration (e.g. mix of pointers and values). Each pointer declaration should be on its own line.\r\n",
      "warning: SLIM_BPR_Cython_Epoch.pyx:916:35: Non-trivial type declarators in shared declaration (e.g. mix of pointers and values). Each pointer declaration should be on its own line.\r\n",
      "warning: SLIM_BPR_Cython_Epoch.pyx:916:53: Non-trivial type declarators in shared declaration (e.g. mix of pointers and values). Each pointer declaration should be on its own line.\r\n",
      "warning: SLIM_BPR_Cython_Epoch.pyx:916:69: Non-trivial type declarators in shared declaration (e.g. mix of pointers and values). Each pointer declaration should be on its own line.\r\n",
      "warning: SLIM_BPR_Cython_Epoch.pyx:1051:35: Non-trivial type declarators in shared declaration (e.g. mix of pointers and values). Each pointer declaration should be on its own line.\r\n",
      "warning: SLIM_BPR_Cython_Epoch.pyx:1051:42: Non-trivial type declarators in shared declaration (e.g. mix of pointers and values). Each pointer declaration should be on its own line.\r\n",
      "warning: SLIM_BPR_Cython_Epoch.pyx:1052:35: Non-trivial type declarators in shared declaration (e.g. mix of pointers and values). Each pointer declaration should be on its own line.\r\n",
      "warning: SLIM_BPR_Cython_Epoch.pyx:1052:53: Non-trivial type declarators in shared declaration (e.g. mix of pointers and values). Each pointer declaration should be on its own line.\r\n",
      "\r\n",
      "Error compiling Cython file:\r\n",
      "------------------------------------------------------------\r\n",
      "...\r\n",
      "            vector_pointer_to_list_elements[index].head = current_element\r\n",
      "            current_element = current_element.higher\r\n",
      "\r\n",
      "\r\n",
      "        # Sort array elements on their data field\r\n",
      "        qsort(vector_pointer_to_list_elements, list_length, sizeof(head_pointer_tree_s), compare_struct_on_data)\r\n",
      "                                                                                         ^\r\n",
      "------------------------------------------------------------\r\n",
      "\r\n",
      "SLIM_BPR_Cython_Epoch.pyx:990:89: Cannot assign type 'int (const void *, const void *) except? -1' to 'int (*)(const_void *, const_void *) noexcept'. Exception values are incompatible. Suggest adding 'noexcept' to the type of 'compare_struct_on_data'.\r\n",
      "\r\n",
      "Error compiling Cython file:\r\n",
      "------------------------------------------------------------\r\n",
      "...\r\n",
      "        # Sort array elements on their data field\r\n",
      "        qsort(vector_pointer_to_list_elements, list_length, sizeof(head_pointer_tree_s), compare_struct_on_data)\r\n",
      "\r\n",
      "        # Sort only the TopK according to their column field\r\n",
      "        # Sort is from lower to higher, therefore the elements to be considered are from len-topK to len\r\n",
      "        qsort(&vector_pointer_to_list_elements[list_length-TopK], TopK, sizeof(head_pointer_tree_s), compare_struct_on_column)\r\n",
      "                                                                                                     ^\r\n",
      "------------------------------------------------------------\r\n",
      "\r\n",
      "SLIM_BPR_Cython_Epoch.pyx:994:101: Cannot assign type 'int (const void *, const void *) except? -1' to 'int (*)(const_void *, const_void *) noexcept'. Exception values are incompatible. Suggest adding 'noexcept' to the type of 'compare_struct_on_column'.\r\n",
      "Traceback (most recent call last):\r\n",
      "  File \"/kaggle/working/RECsys_Challenge2024/CythonCompiler/compile_script.py\", line 48, in <module>\r\n",
      "    setup(\r\n",
      "  File \"/usr/local/lib/python3.10/dist-packages/setuptools/__init__.py\", line 108, in setup\r\n",
      "    return distutils.core.setup(**attrs)\r\n",
      "  File \"/usr/local/lib/python3.10/dist-packages/setuptools/_distutils/core.py\", line 184, in setup\r\n",
      "    return run_commands(dist)\r\n",
      "  File \"/usr/local/lib/python3.10/dist-packages/setuptools/_distutils/core.py\", line 200, in run_commands\r\n",
      "    dist.run_commands()\r\n",
      "  File \"/usr/local/lib/python3.10/dist-packages/setuptools/_distutils/dist.py\", line 970, in run_commands\r\n",
      "    self.run_command(cmd)\r\n",
      "  File \"/usr/local/lib/python3.10/dist-packages/setuptools/dist.py\", line 956, in run_command\r\n",
      "    super().run_command(command)\r\n",
      "  File \"/usr/local/lib/python3.10/dist-packages/setuptools/_distutils/dist.py\", line 989, in run_command\r\n",
      "    cmd_obj.run()\r\n",
      "  File \"/usr/local/lib/python3.10/dist-packages/setuptools/_distutils/command/build_ext.py\", line 359, in run\r\n",
      "    self.build_extensions()\r\n",
      "  File \"/usr/local/lib/python3.10/dist-packages/setuptools/_distutils/command/build_ext.py\", line 479, in build_extensions\r\n",
      "    self._build_extensions_serial()\r\n",
      "  File \"/usr/local/lib/python3.10/dist-packages/setuptools/_distutils/command/build_ext.py\", line 505, in _build_extensions_serial\r\n",
      "    self.build_extension(ext)\r\n",
      "  File \"/usr/local/lib/python3.10/dist-packages/Cython/Distutils/build_ext.py\", line 130, in build_extension\r\n",
      "    new_ext = cythonize(\r\n",
      "  File \"/usr/local/lib/python3.10/dist-packages/Cython/Build/Dependencies.py\", line 1154, in cythonize\r\n",
      "    cythonize_one(*args)\r\n",
      "  File \"/usr/local/lib/python3.10/dist-packages/Cython/Build/Dependencies.py\", line 1321, in cythonize_one\r\n",
      "    raise CompileError(None, pyx_file)\r\n",
      "Cython.Compiler.Errors.CompileError: SLIM_BPR_Cython_Epoch.pyx\r\n",
      "Traceback (most recent call last):\r\n",
      "  File \"/kaggle/working/RECsys_Challenge2024/run_compile_all_cython.py\", line 60, in <module>\r\n",
      "    run_compile_subprocess(file_path, [file_name])\r\n",
      "  File \"/kaggle/working/RECsys_Challenge2024/CythonCompiler/run_compile_subprocess.py\", line 51, in run_compile_subprocess\r\n",
      "    raise exc\r\n",
      "  File \"/kaggle/working/RECsys_Challenge2024/CythonCompiler/run_compile_subprocess.py\", line 32, in run_compile_subprocess\r\n",
      "    output = subprocess.check_output(' '.join(command),\r\n",
      "  File \"/usr/lib/python3.10/subprocess.py\", line 421, in check_output\r\n",
      "    return run(*popenargs, stdout=PIPE, timeout=timeout, check=True,\r\n",
      "  File \"/usr/lib/python3.10/subprocess.py\", line 526, in run\r\n",
      "    raise CalledProcessError(retcode, process.args,\r\n",
      "subprocess.CalledProcessError: Command '/usr/bin/python3 /kaggle/working/RECsys_Challenge2024/CythonCompiler/compile_script.py SLIM_BPR_Cython_Epoch.pyx build_ext --inplace' returned non-zero exit status 1.\r\n",
      "Compiling [5/11]: SLIM_BPR_Cython_Epoch.pyx... FAIL: Command '/usr/bin/python3 /kaggle/working/RECsys_Challenge2024/CythonCompiler/compile_script.py SLIM_BPR_Cython_Epoch.pyx build_ext --inplace' returned non-zero exit status 1.\r\n",
      "\r\n",
      "Compiling [6/11]: Sparse_Matrix_Tree_CSR.pyx... \r\n",
      "warning: Sparse_Matrix_Tree_CSR.pyx:132:34: Non-trivial type declarators in shared declaration (e.g. mix of pointers and values). Each pointer declaration should be on its own line.\r\n",
      "warning: Sparse_Matrix_Tree_CSR.pyx:132:66: Non-trivial type declarators in shared declaration (e.g. mix of pointers and values). Each pointer declaration should be on its own line.\r\n",
      "warning: Sparse_Matrix_Tree_CSR.pyx:343:35: Non-trivial type declarators in shared declaration (e.g. mix of pointers and values). Each pointer declaration should be on its own line.\r\n",
      "warning: Sparse_Matrix_Tree_CSR.pyx:343:52: Non-trivial type declarators in shared declaration (e.g. mix of pointers and values). Each pointer declaration should be on its own line.\r\n",
      "warning: Sparse_Matrix_Tree_CSR.pyx:442:35: Non-trivial type declarators in shared declaration (e.g. mix of pointers and values). Each pointer declaration should be on its own line.\r\n",
      "warning: Sparse_Matrix_Tree_CSR.pyx:442:53: Non-trivial type declarators in shared declaration (e.g. mix of pointers and values). Each pointer declaration should be on its own line.\r\n",
      "warning: Sparse_Matrix_Tree_CSR.pyx:442:69: Non-trivial type declarators in shared declaration (e.g. mix of pointers and values). Each pointer declaration should be on its own line.\r\n",
      "warning: Sparse_Matrix_Tree_CSR.pyx:577:35: Non-trivial type declarators in shared declaration (e.g. mix of pointers and values). Each pointer declaration should be on its own line.\r\n",
      "warning: Sparse_Matrix_Tree_CSR.pyx:577:42: Non-trivial type declarators in shared declaration (e.g. mix of pointers and values). Each pointer declaration should be on its own line.\r\n",
      "warning: Sparse_Matrix_Tree_CSR.pyx:578:35: Non-trivial type declarators in shared declaration (e.g. mix of pointers and values). Each pointer declaration should be on its own line.\r\n",
      "warning: Sparse_Matrix_Tree_CSR.pyx:578:53: Non-trivial type declarators in shared declaration (e.g. mix of pointers and values). Each pointer declaration should be on its own line.\r\n",
      "\r\n",
      "Error compiling Cython file:\r\n",
      "------------------------------------------------------------\r\n",
      "...\r\n",
      "            vector_pointer_to_list_elements[index].head = current_element\r\n",
      "            current_element = current_element.higher\r\n",
      "\r\n",
      "\r\n",
      "        # Sort array elements on their data field\r\n",
      "        qsort(vector_pointer_to_list_elements, list_length, sizeof(head_pointer_tree_s), compare_struct_on_data)\r\n",
      "                                                                                         ^\r\n",
      "------------------------------------------------------------\r\n",
      "\r\n",
      "Sparse_Matrix_Tree_CSR.pyx:516:89: Cannot assign type 'int (const void *, const void *) except? -1' to 'int (*)(const_void *, const_void *) noexcept'. Exception values are incompatible. Suggest adding 'noexcept' to the type of 'compare_struct_on_data'.\r\n",
      "\r\n",
      "Error compiling Cython file:\r\n",
      "------------------------------------------------------------\r\n",
      "...\r\n",
      "        # Sort array elements on their data field\r\n",
      "        qsort(vector_pointer_to_list_elements, list_length, sizeof(head_pointer_tree_s), compare_struct_on_data)\r\n",
      "\r\n",
      "        # Sort only the TopK according to their column field\r\n",
      "        # Sort is from lower to higher, therefore the elements to be considered are from len-topK to len\r\n",
      "        qsort(&vector_pointer_to_list_elements[list_length-TopK], TopK, sizeof(head_pointer_tree_s), compare_struct_on_column)\r\n",
      "                                                                                                     ^\r\n",
      "------------------------------------------------------------\r\n",
      "\r\n",
      "Sparse_Matrix_Tree_CSR.pyx:520:101: Cannot assign type 'int (const void *, const void *) except? -1' to 'int (*)(const_void *, const_void *) noexcept'. Exception values are incompatible. Suggest adding 'noexcept' to the type of 'compare_struct_on_column'.\r\n",
      "Traceback (most recent call last):\r\n",
      "  File \"/kaggle/working/RECsys_Challenge2024/CythonCompiler/compile_script.py\", line 48, in <module>\r\n",
      "    setup(\r\n",
      "  File \"/usr/local/lib/python3.10/dist-packages/setuptools/__init__.py\", line 108, in setup\r\n",
      "    return distutils.core.setup(**attrs)\r\n",
      "  File \"/usr/local/lib/python3.10/dist-packages/setuptools/_distutils/core.py\", line 184, in setup\r\n",
      "    return run_commands(dist)\r\n",
      "  File \"/usr/local/lib/python3.10/dist-packages/setuptools/_distutils/core.py\", line 200, in run_commands\r\n",
      "    dist.run_commands()\r\n",
      "  File \"/usr/local/lib/python3.10/dist-packages/setuptools/_distutils/dist.py\", line 970, in run_commands\r\n",
      "    self.run_command(cmd)\r\n",
      "  File \"/usr/local/lib/python3.10/dist-packages/setuptools/dist.py\", line 956, in run_command\r\n",
      "    super().run_command(command)\r\n",
      "  File \"/usr/local/lib/python3.10/dist-packages/setuptools/_distutils/dist.py\", line 989, in run_command\r\n",
      "    cmd_obj.run()\r\n",
      "  File \"/usr/local/lib/python3.10/dist-packages/setuptools/_distutils/command/build_ext.py\", line 359, in run\r\n",
      "    self.build_extensions()\r\n",
      "  File \"/usr/local/lib/python3.10/dist-packages/setuptools/_distutils/command/build_ext.py\", line 479, in build_extensions\r\n",
      "    self._build_extensions_serial()\r\n",
      "  File \"/usr/local/lib/python3.10/dist-packages/setuptools/_distutils/command/build_ext.py\", line 505, in _build_extensions_serial\r\n",
      "    self.build_extension(ext)\r\n",
      "  File \"/usr/local/lib/python3.10/dist-packages/Cython/Distutils/build_ext.py\", line 130, in build_extension\r\n",
      "    new_ext = cythonize(\r\n",
      "  File \"/usr/local/lib/python3.10/dist-packages/Cython/Build/Dependencies.py\", line 1154, in cythonize\r\n",
      "    cythonize_one(*args)\r\n",
      "  File \"/usr/local/lib/python3.10/dist-packages/Cython/Build/Dependencies.py\", line 1321, in cythonize_one\r\n",
      "    raise CompileError(None, pyx_file)\r\n",
      "Cython.Compiler.Errors.CompileError: Sparse_Matrix_Tree_CSR.pyx\r\n",
      "Traceback (most recent call last):\r\n",
      "  File \"/kaggle/working/RECsys_Challenge2024/run_compile_all_cython.py\", line 60, in <module>\r\n",
      "    run_compile_subprocess(file_path, [file_name])\r\n",
      "  File \"/kaggle/working/RECsys_Challenge2024/CythonCompiler/run_compile_subprocess.py\", line 51, in run_compile_subprocess\r\n",
      "    raise exc\r\n",
      "  File \"/kaggle/working/RECsys_Challenge2024/CythonCompiler/run_compile_subprocess.py\", line 32, in run_compile_subprocess\r\n",
      "    output = subprocess.check_output(' '.join(command),\r\n",
      "  File \"/usr/lib/python3.10/subprocess.py\", line 421, in check_output\r\n",
      "    return run(*popenargs, stdout=PIPE, timeout=timeout, check=True,\r\n",
      "  File \"/usr/lib/python3.10/subprocess.py\", line 526, in run\r\n",
      "    raise CalledProcessError(retcode, process.args,\r\n",
      "subprocess.CalledProcessError: Command '/usr/bin/python3 /kaggle/working/RECsys_Challenge2024/CythonCompiler/compile_script.py Sparse_Matrix_Tree_CSR.pyx build_ext --inplace' returned non-zero exit status 1.\r\n",
      "Compiling [6/11]: Sparse_Matrix_Tree_CSR.pyx... FAIL: Command '/usr/bin/python3 /kaggle/working/RECsys_Challenge2024/CythonCompiler/compile_script.py Sparse_Matrix_Tree_CSR.pyx build_ext --inplace' returned non-zero exit status 1.\r\n",
      "\r\n",
      "Compiling [7/11]: FBSM_Rating_Cython_SGD.pyx... \r\n",
      "In file included from \u001b[01m\u001b[K/usr/local/lib/python3.10/dist-packages/numpy/core/include/numpy/ndarraytypes.h:1929\u001b[m\u001b[K,\r\n",
      "                 from \u001b[01m\u001b[K/usr/local/lib/python3.10/dist-packages/numpy/core/include/numpy/ndarrayobject.h:12\u001b[m\u001b[K,\r\n",
      "                 from \u001b[01m\u001b[K/usr/local/lib/python3.10/dist-packages/numpy/core/include/numpy/arrayobject.h:5\u001b[m\u001b[K,\r\n",
      "                 from \u001b[01m\u001b[KFBSM_Rating_Cython_SGD.c:1252\u001b[m\u001b[K:\r\n",
      "\u001b[01m\u001b[K/usr/local/lib/python3.10/dist-packages/numpy/core/include/numpy/npy_1_7_deprecated_api.h:17:2:\u001b[m\u001b[K \u001b[01;35m\u001b[Kwarning: \u001b[m\u001b[K#warning \"Using deprecated NumPy API, disable it with \" \"#define NPY_NO_DEPRECATED_API NPY_1_7_API_VERSION\" [\u001b[01;35m\u001b[K\u001b]8;;https://gcc.gnu.org/onlinedocs/gcc/Warning-Options.html#index-Wcpp\u0007-Wcpp\u001b]8;;\u0007\u001b[m\u001b[K]\r\n",
      "   17 | #\u001b[01;35m\u001b[Kwarning\u001b[m\u001b[K \"Using deprecated NumPy API, disable it with \" \\\r\n",
      "      |  \u001b[01;35m\u001b[K^~~~~~~\u001b[m\u001b[K\r\n",
      "\u001b[01m\u001b[KFBSM_Rating_Cython_SGD.c:\u001b[m\u001b[K In function ‘\u001b[01m\u001b[K__pyx_pf_22FBSM_Rating_Cython_SGD_22FBSM_Rating_Cython_SGD_2fit\u001b[m\u001b[K’:\r\n",
      "\u001b[01m\u001b[KFBSM_Rating_Cython_SGD.c:26607:55:\u001b[m\u001b[K \u001b[01;35m\u001b[Kwarning: \u001b[m\u001b[K‘\u001b[01m\u001b[K__pyx_v_num_sample\u001b[m\u001b[K’ may be used uninitialized in this function [\u001b[01;35m\u001b[K\u001b]8;;https://gcc.gnu.org/onlinedocs/gcc/Warning-Options.html#index-Wmaybe-uninitialized\u0007-Wmaybe-uninitialized\u001b]8;;\u0007\u001b[m\u001b[K]\r\n",
      "26607 |   __pyx_t_5 = PyFloat_FromDouble((__pyx_v_cum_loss / \u001b[01;35m\u001b[K((double)__pyx_v_num_sample)\u001b[m\u001b[K)); if (unlikely(!__pyx_t_5)) __PYX_ERR(0, 551, __pyx_L1_error)\r\n",
      "      |                                                      \u001b[01;35m\u001b[K~^~~~~~~~~~~~~~~~~~~~~~~~~~~\u001b[m\u001b[K\r\n",
      "/usr/local/lib/python3.10/dist-packages/Cython/Compiler/Main.py:381: FutureWarning: Cython directive 'language_level' not set, using '3str' for now (Py3). This has changed from earlier releases! File: /kaggle/working/RECsys_Challenge2024/Recommenders/FeatureWeighting/Cython/FBSM_Rating_Cython_SGD.pyx\r\n",
      "  tree = Parsing.p_module(s, pxd, full_module_name)\r\n",
      "Compiling [7/11]: FBSM_Rating_Cython_SGD.pyx... PASS\r\n",
      "\r\n",
      "Compiling [8/11]: HP3_Similarity_Cython_SGD.pyx... \r\n",
      "performance hint: HP3_Similarity_Cython_SGD.pyx:113:40: Index should be typed for more efficient access\r\n",
      "performance hint: HP3_Similarity_Cython_SGD.pyx:114:40: Index should be typed for more efficient access\r\n",
      "In file included from \u001b[01m\u001b[K/usr/local/lib/python3.10/dist-packages/numpy/core/include/numpy/ndarraytypes.h:1929\u001b[m\u001b[K,\r\n",
      "                 from \u001b[01m\u001b[K/usr/local/lib/python3.10/dist-packages/numpy/core/include/numpy/ndarrayobject.h:12\u001b[m\u001b[K,\r\n",
      "                 from \u001b[01m\u001b[K/usr/local/lib/python3.10/dist-packages/numpy/core/include/numpy/arrayobject.h:5\u001b[m\u001b[K,\r\n",
      "                 from \u001b[01m\u001b[KHP3_Similarity_Cython_SGD.c:1252\u001b[m\u001b[K:\r\n",
      "\u001b[01m\u001b[K/usr/local/lib/python3.10/dist-packages/numpy/core/include/numpy/npy_1_7_deprecated_api.h:17:2:\u001b[m\u001b[K \u001b[01;35m\u001b[Kwarning: \u001b[m\u001b[K#warning \"Using deprecated NumPy API, disable it with \" \"#define NPY_NO_DEPRECATED_API NPY_1_7_API_VERSION\" [\u001b[01;35m\u001b[K\u001b]8;;https://gcc.gnu.org/onlinedocs/gcc/Warning-Options.html#index-Wcpp\u0007-Wcpp\u001b]8;;\u0007\u001b[m\u001b[K]\r\n",
      "   17 | #\u001b[01;35m\u001b[Kwarning\u001b[m\u001b[K \"Using deprecated NumPy API, disable it with \" \\\r\n",
      "      |  \u001b[01;35m\u001b[K^~~~~~~\u001b[m\u001b[K\r\n",
      "\u001b[01m\u001b[KHP3_Similarity_Cython_SGD.c:\u001b[m\u001b[K In function ‘\u001b[01m\u001b[K__pyx_pf_25HP3_Similarity_Cython_SGD_25HP3_Similarity_Cython_SGD_4fit\u001b[m\u001b[K’:\r\n",
      "\u001b[01m\u001b[KHP3_Similarity_Cython_SGD.c:23631:55:\u001b[m\u001b[K \u001b[01;35m\u001b[Kwarning: \u001b[m\u001b[K‘\u001b[01m\u001b[K__pyx_v_sample_num\u001b[m\u001b[K’ may be used uninitialized in this function [\u001b[01;35m\u001b[K\u001b]8;;https://gcc.gnu.org/onlinedocs/gcc/Warning-Options.html#index-Wmaybe-uninitialized\u0007-Wmaybe-uninitialized\u001b]8;;\u0007\u001b[m\u001b[K]\r\n",
      "23631 |   __pyx_t_1 = PyFloat_FromDouble((__pyx_v_cum_loss / \u001b[01;35m\u001b[K((double)__pyx_v_sample_num)\u001b[m\u001b[K)); if (unlikely(!__pyx_t_1)) __PYX_ERR(0, 291, __pyx_L1_error)\r\n",
      "      |                                                      \u001b[01;35m\u001b[K~^~~~~~~~~~~~~~~~~~~~~~~~~~~\u001b[m\u001b[K\r\n",
      "/usr/local/lib/python3.10/dist-packages/Cython/Compiler/Main.py:381: FutureWarning: Cython directive 'language_level' not set, using '3str' for now (Py3). This has changed from earlier releases! File: /kaggle/working/RECsys_Challenge2024/Recommenders/FeatureWeighting/Cython/HP3_Similarity_Cython_SGD.pyx\r\n",
      "  tree = Parsing.p_module(s, pxd, full_module_name)\r\n",
      "performance hint: HP3_Similarity_Cython_SGD.pyx:113:40: Index should be typed for more efficient access\r\n",
      "performance hint: HP3_Similarity_Cython_SGD.pyx:114:40: Index should be typed for more efficient access\r\n",
      "Compiling [8/11]: HP3_Similarity_Cython_SGD.pyx... PASS\r\n",
      "\r\n",
      "Compiling [9/11]: CFW_D_Similarity_Cython_SGD.pyx... \r\n",
      "In file included from \u001b[01m\u001b[K/usr/local/lib/python3.10/dist-packages/numpy/core/include/numpy/ndarraytypes.h:1929\u001b[m\u001b[K,\r\n",
      "                 from \u001b[01m\u001b[K/usr/local/lib/python3.10/dist-packages/numpy/core/include/numpy/ndarrayobject.h:12\u001b[m\u001b[K,\r\n",
      "                 from \u001b[01m\u001b[K/usr/local/lib/python3.10/dist-packages/numpy/core/include/numpy/arrayobject.h:5\u001b[m\u001b[K,\r\n",
      "                 from \u001b[01m\u001b[KCFW_D_Similarity_Cython_SGD.c:1252\u001b[m\u001b[K:\r\n",
      "\u001b[01m\u001b[K/usr/local/lib/python3.10/dist-packages/numpy/core/include/numpy/npy_1_7_deprecated_api.h:17:2:\u001b[m\u001b[K \u001b[01;35m\u001b[Kwarning: \u001b[m\u001b[K#warning \"Using deprecated NumPy API, disable it with \" \"#define NPY_NO_DEPRECATED_API NPY_1_7_API_VERSION\" [\u001b[01;35m\u001b[K\u001b]8;;https://gcc.gnu.org/onlinedocs/gcc/Warning-Options.html#index-Wcpp\u0007-Wcpp\u001b]8;;\u0007\u001b[m\u001b[K]\r\n",
      "   17 | #\u001b[01;35m\u001b[Kwarning\u001b[m\u001b[K \"Using deprecated NumPy API, disable it with \" \\\r\n",
      "      |  \u001b[01;35m\u001b[K^~~~~~~\u001b[m\u001b[K\r\n",
      "\u001b[01m\u001b[KCFW_D_Similarity_Cython_SGD.c:\u001b[m\u001b[K In function ‘\u001b[01m\u001b[K__pyx_pf_27CFW_D_Similarity_Cython_SGD_27CFW_D_Similarity_Cython_SGD_6fit\u001b[m\u001b[K’:\r\n",
      "\u001b[01m\u001b[KCFW_D_Similarity_Cython_SGD.c:23373:55:\u001b[m\u001b[K \u001b[01;35m\u001b[Kwarning: \u001b[m\u001b[K‘\u001b[01m\u001b[K__pyx_v_sample_num\u001b[m\u001b[K’ may be used uninitialized in this function [\u001b[01;35m\u001b[K\u001b]8;;https://gcc.gnu.org/onlinedocs/gcc/Warning-Options.html#index-Wmaybe-uninitialized\u0007-Wmaybe-uninitialized\u001b]8;;\u0007\u001b[m\u001b[K]\r\n",
      "23373 |   __pyx_t_3 = PyFloat_FromDouble((__pyx_v_cum_loss / \u001b[01;35m\u001b[K((double)__pyx_v_sample_num)\u001b[m\u001b[K)); if (unlikely(!__pyx_t_3)) __PYX_ERR(0, 290, __pyx_L1_error)\r\n",
      "      |                                                      \u001b[01;35m\u001b[K~^~~~~~~~~~~~~~~~~~~~~~~~~~~\u001b[m\u001b[K\r\n",
      "/usr/local/lib/python3.10/dist-packages/Cython/Compiler/Main.py:381: FutureWarning: Cython directive 'language_level' not set, using '3str' for now (Py3). This has changed from earlier releases! File: /kaggle/working/RECsys_Challenge2024/Recommenders/FeatureWeighting/Cython/CFW_D_Similarity_Cython_SGD.pyx\r\n",
      "  tree = Parsing.p_module(s, pxd, full_module_name)\r\n",
      "Compiling [9/11]: CFW_D_Similarity_Cython_SGD.pyx... PASS\r\n",
      "\r\n",
      "Compiling [10/11]: CFW_DVV_Similarity_Cython_SGD.pyx... \r\n",
      "In file included from \u001b[01m\u001b[K/usr/local/lib/python3.10/dist-packages/numpy/core/include/numpy/ndarraytypes.h:1929\u001b[m\u001b[K,\r\n",
      "                 from \u001b[01m\u001b[K/usr/local/lib/python3.10/dist-packages/numpy/core/include/numpy/ndarrayobject.h:12\u001b[m\u001b[K,\r\n",
      "                 from \u001b[01m\u001b[K/usr/local/lib/python3.10/dist-packages/numpy/core/include/numpy/arrayobject.h:5\u001b[m\u001b[K,\r\n",
      "                 from \u001b[01m\u001b[KCFW_DVV_Similarity_Cython_SGD.c:1252\u001b[m\u001b[K:\r\n",
      "\u001b[01m\u001b[K/usr/local/lib/python3.10/dist-packages/numpy/core/include/numpy/npy_1_7_deprecated_api.h:17:2:\u001b[m\u001b[K \u001b[01;35m\u001b[Kwarning: \u001b[m\u001b[K#warning \"Using deprecated NumPy API, disable it with \" \"#define NPY_NO_DEPRECATED_API NPY_1_7_API_VERSION\" [\u001b[01;35m\u001b[K\u001b]8;;https://gcc.gnu.org/onlinedocs/gcc/Warning-Options.html#index-Wcpp\u0007-Wcpp\u001b]8;;\u0007\u001b[m\u001b[K]\r\n",
      "   17 | #\u001b[01;35m\u001b[Kwarning\u001b[m\u001b[K \"Using deprecated NumPy API, disable it with \" \\\r\n",
      "      |  \u001b[01;35m\u001b[K^~~~~~~\u001b[m\u001b[K\r\n",
      "/usr/local/lib/python3.10/dist-packages/Cython/Compiler/Main.py:381: FutureWarning: Cython directive 'language_level' not set, using '3str' for now (Py3). This has changed from earlier releases! File: /kaggle/working/RECsys_Challenge2024/Recommenders/FeatureWeighting/Cython/CFW_DVV_Similarity_Cython_SGD.pyx\r\n",
      "  tree = Parsing.p_module(s, pxd, full_module_name)\r\n",
      "Compiling [10/11]: CFW_DVV_Similarity_Cython_SGD.pyx... PASS\r\n",
      "\r\n",
      "Compiling [11/11]: DataIterator.pyx... \r\n",
      "In file included from \u001b[01m\u001b[K/usr/local/lib/python3.10/dist-packages/numpy/core/include/numpy/ndarraytypes.h:1929\u001b[m\u001b[K,\r\n",
      "                 from \u001b[01m\u001b[K/usr/local/lib/python3.10/dist-packages/numpy/core/include/numpy/ndarrayobject.h:12\u001b[m\u001b[K,\r\n",
      "                 from \u001b[01m\u001b[K/usr/local/lib/python3.10/dist-packages/numpy/core/include/numpy/arrayobject.h:5\u001b[m\u001b[K,\r\n",
      "                 from \u001b[01m\u001b[KDataIterator.c:1252\u001b[m\u001b[K:\r\n",
      "\u001b[01m\u001b[K/usr/local/lib/python3.10/dist-packages/numpy/core/include/numpy/npy_1_7_deprecated_api.h:17:2:\u001b[m\u001b[K \u001b[01;35m\u001b[Kwarning: \u001b[m\u001b[K#warning \"Using deprecated NumPy API, disable it with \" \"#define NPY_NO_DEPRECATED_API NPY_1_7_API_VERSION\" [\u001b[01;35m\u001b[K\u001b]8;;https://gcc.gnu.org/onlinedocs/gcc/Warning-Options.html#index-Wcpp\u0007-Wcpp\u001b]8;;\u0007\u001b[m\u001b[K]\r\n",
      "   17 | #\u001b[01;35m\u001b[Kwarning\u001b[m\u001b[K \"Using deprecated NumPy API, disable it with \" \\\r\n",
      "      |  \u001b[01;35m\u001b[K^~~~~~~\u001b[m\u001b[K\r\n",
      "\u001b[01m\u001b[KDataIterator.c:\u001b[m\u001b[K In function ‘\u001b[01m\u001b[K__pyx_pf_12DataIterator_19InteractionIterator_6__next__\u001b[m\u001b[K’:\r\n",
      "\u001b[01m\u001b[KDataIterator.c:20937:22:\u001b[m\u001b[K \u001b[01;35m\u001b[Kwarning: \u001b[m\u001b[K‘\u001b[01m\u001b[K__pyx_v_i_batch\u001b[m\u001b[K’ may be used uninitialized in this function [\u001b[01;35m\u001b[K\u001b]8;;https://gcc.gnu.org/onlinedocs/gcc/Warning-Options.html#index-Wmaybe-uninitialized\u0007-Wmaybe-uninitialized\u001b]8;;\u0007\u001b[m\u001b[K]\r\n",
      "20937 |     (__pyx_v_i_batch \u001b[01;35m\u001b[K+\u001b[m\u001b[K 1),\r\n",
      "      |                      \u001b[01;35m\u001b[K^\u001b[m\u001b[K\r\n",
      "\u001b[01m\u001b[KDataIterator.c:\u001b[m\u001b[K In function ‘\u001b[01m\u001b[K__pyx_pf_12DataIterator_30InteractionAndNegativeIterator_6__next__\u001b[m\u001b[K’:\r\n",
      "\u001b[01m\u001b[KDataIterator.c:25499:22:\u001b[m\u001b[K \u001b[01;35m\u001b[Kwarning: \u001b[m\u001b[K‘\u001b[01m\u001b[K__pyx_v_i_batch\u001b[m\u001b[K’ may be used uninitialized in this function [\u001b[01;35m\u001b[K\u001b]8;;https://gcc.gnu.org/onlinedocs/gcc/Warning-Options.html#index-Wmaybe-uninitialized\u0007-Wmaybe-uninitialized\u001b]8;;\u0007\u001b[m\u001b[K]\r\n",
      "25499 |     (__pyx_v_i_batch \u001b[01;35m\u001b[K+\u001b[m\u001b[K 1),\r\n",
      "      |                      \u001b[01;35m\u001b[K^\u001b[m\u001b[K\r\n",
      "\u001b[01m\u001b[KDataIterator.c:\u001b[m\u001b[K In function ‘\u001b[01m\u001b[K__pyx_pf_12DataIterator_11BPRIterator_6__next__\u001b[m\u001b[K’:\r\n",
      "\u001b[01m\u001b[KDataIterator.c:23056:22:\u001b[m\u001b[K \u001b[01;35m\u001b[Kwarning: \u001b[m\u001b[K‘\u001b[01m\u001b[K__pyx_v_i_batch\u001b[m\u001b[K’ may be used uninitialized in this function [\u001b[01;35m\u001b[K\u001b]8;;https://gcc.gnu.org/onlinedocs/gcc/Warning-Options.html#index-Wmaybe-uninitialized\u0007-Wmaybe-uninitialized\u001b]8;;\u0007\u001b[m\u001b[K]\r\n",
      "23056 |     (__pyx_v_i_batch \u001b[01;35m\u001b[K+\u001b[m\u001b[K 1),\r\n",
      "      |                      \u001b[01;35m\u001b[K^\u001b[m\u001b[K\r\n",
      "/usr/local/lib/python3.10/dist-packages/Cython/Compiler/Main.py:381: FutureWarning: Cython directive 'language_level' not set, using '3str' for now (Py3). This has changed from earlier releases! File: /kaggle/working/RECsys_Challenge2024/Utils/PyTorch/Cython/DataIterator.pyx\r\n",
      "  tree = Parsing.p_module(s, pxd, full_module_name)\r\n",
      "Compiling [11/11]: DataIterator.pyx... PASS\r\n",
      "\r\n",
      "run_compile_all_cython: Compilation finished. FAILS 2/11.\r\n",
      "Compilation log can be found here: './result_experiments/run_compile_all_cython.txt'\r\n"
     ]
    }
   ],
   "source": [
    "%cd /kaggle/working/RECsys_Challenge2024 \n",
    "! python run_compile_all_cython.py"
   ]
  },
  {
   "cell_type": "code",
   "execution_count": 5,
   "id": "73cc9f06",
   "metadata": {
    "execution": {
     "iopub.execute_input": "2025-01-05T11:36:32.801988Z",
     "iopub.status.busy": "2025-01-05T11:36:32.801620Z",
     "iopub.status.idle": "2025-01-05T11:36:34.077134Z",
     "shell.execute_reply": "2025-01-05T11:36:34.076282Z"
    },
    "papermill": {
     "duration": 1.291763,
     "end_time": "2025-01-05T11:36:34.078991",
     "exception": false,
     "start_time": "2025-01-05T11:36:32.787228",
     "status": "completed"
    },
    "tags": []
   },
   "outputs": [],
   "source": [
    "from Utils.notebookFunctions import *\n",
    "import numpy as np\n",
    "import pandas as pd\n",
    "import scipy.sparse as sps\n",
    "import time\n",
    "import shutil\n",
    "import optuna\n",
    "import json\n",
    "import os\n",
    "from Utils.seconds_to_biggest_unit import seconds_to_biggest_unit\n",
    "\n",
    "\n",
    "K_PATH = '/kaggle/working/RECsys_Challenge2024'\n",
    "GH_PATH = 'TrainedModels/WithKFCV/KNN'\n",
    "\n",
    "np.random.seed(42)"
   ]
  },
  {
   "cell_type": "markdown",
   "id": "60af4b0c",
   "metadata": {
    "papermill": {
     "duration": 0.013514,
     "end_time": "2025-01-05T11:36:34.106641",
     "exception": false,
     "start_time": "2025-01-05T11:36:34.093127",
     "status": "completed"
    },
    "tags": []
   },
   "source": [
    "## Import the repository **RECsys_Challenge2024**"
   ]
  },
  {
   "cell_type": "code",
   "execution_count": 6,
   "id": "980ffa17",
   "metadata": {
    "execution": {
     "iopub.execute_input": "2025-01-05T11:36:34.135023Z",
     "iopub.status.busy": "2025-01-05T11:36:34.134506Z",
     "iopub.status.idle": "2025-01-05T11:36:34.358848Z",
     "shell.execute_reply": "2025-01-05T11:36:34.357813Z"
    },
    "papermill": {
     "duration": 0.240495,
     "end_time": "2025-01-05T11:36:34.360585",
     "exception": false,
     "start_time": "2025-01-05T11:36:34.120090",
     "status": "completed"
    },
    "tags": []
   },
   "outputs": [
    {
     "name": "stdout",
     "output_type": "stream",
     "text": [
      "Repository 'RECsys_Challenge2024' found.\n"
     ]
    }
   ],
   "source": [
    "repo = get_repo_from_github(token)"
   ]
  },
  {
   "cell_type": "code",
   "execution_count": 7,
   "id": "ea2df7f8",
   "metadata": {
    "execution": {
     "iopub.execute_input": "2025-01-05T11:36:34.389669Z",
     "iopub.status.busy": "2025-01-05T11:36:34.389276Z",
     "iopub.status.idle": "2025-01-05T11:36:34.393244Z",
     "shell.execute_reply": "2025-01-05T11:36:34.392449Z"
    },
    "papermill": {
     "duration": 0.019865,
     "end_time": "2025-01-05T11:36:34.394734",
     "exception": false,
     "start_time": "2025-01-05T11:36:34.374869",
     "status": "completed"
    },
    "tags": []
   },
   "outputs": [],
   "source": [
    "config = {\n",
    "    'model': 'UserKNNCF',\n",
    "    'n_folds': 5,\n",
    "    'metric': 'MAP',\n",
    "    'tune_parameters': True,\n",
    "    'database_path': '/kaggle/working/history_UserKNNCF_MAP.db',\n",
    "    'copy_prev_best_params': False,\n",
    "    'tune_best_params': True,\n",
    "    'save_github': True\n",
    "}"
   ]
  },
  {
   "cell_type": "markdown",
   "id": "8a31ec8a",
   "metadata": {
    "papermill": {
     "duration": 0.013017,
     "end_time": "2025-01-05T11:36:34.421703",
     "exception": false,
     "start_time": "2025-01-05T11:36:34.408686",
     "status": "completed"
    },
    "tags": []
   },
   "source": [
    "Import the database where previous tuning trials have been saved."
   ]
  },
  {
   "cell_type": "code",
   "execution_count": 8,
   "id": "e0d7dc5e",
   "metadata": {
    "execution": {
     "iopub.execute_input": "2025-01-05T11:36:34.450004Z",
     "iopub.status.busy": "2025-01-05T11:36:34.449686Z",
     "iopub.status.idle": "2025-01-05T11:36:34.454532Z",
     "shell.execute_reply": "2025-01-05T11:36:34.453595Z"
    },
    "papermill": {
     "duration": 0.021054,
     "end_time": "2025-01-05T11:36:34.456309",
     "exception": false,
     "start_time": "2025-01-05T11:36:34.435255",
     "status": "completed"
    },
    "tags": []
   },
   "outputs": [],
   "source": [
    "try:\n",
    "    shutil.copyfile(\n",
    "        f'{K_PATH}/{GH_PATH}/{config[\"model\"]}Recommender/Optimizing{config[\"metric\"]}/history_{config[\"model\"]}_{config[\"metric\"]}.db', \n",
    "        config['database_path']\n",
    "    )\n",
    "except FileNotFoundError:\n",
    "    pass # if not present optuna will create it"
   ]
  },
  {
   "cell_type": "markdown",
   "id": "9649313e",
   "metadata": {
    "papermill": {
     "duration": 0.013915,
     "end_time": "2025-01-05T11:36:34.484122",
     "exception": false,
     "start_time": "2025-01-05T11:36:34.470207",
     "status": "completed"
    },
    "tags": []
   },
   "source": [
    "# Construction of URM and ICM matrices"
   ]
  },
  {
   "cell_type": "code",
   "execution_count": 9,
   "id": "40103505",
   "metadata": {
    "execution": {
     "iopub.execute_input": "2025-01-05T11:36:34.513041Z",
     "iopub.status.busy": "2025-01-05T11:36:34.512717Z",
     "iopub.status.idle": "2025-01-05T11:36:35.061575Z",
     "shell.execute_reply": "2025-01-05T11:36:35.060582Z"
    },
    "papermill": {
     "duration": 0.565169,
     "end_time": "2025-01-05T11:36:35.063142",
     "exception": false,
     "start_time": "2025-01-05T11:36:34.497973",
     "status": "completed"
    },
    "tags": []
   },
   "outputs": [
    {
     "data": {
      "text/plain": [
       "<35736x38121 sparse matrix of type '<class 'numpy.float64'>'\n",
       "\twith 1764607 stored elements in Compressed Sparse Row format>"
      ]
     },
     "execution_count": 9,
     "metadata": {},
     "output_type": "execute_result"
    }
   ],
   "source": [
    "URM_all_dataframe = pd.read_csv(\"/kaggle/working/RECsys_Challenge2024/Dataset/data_train.csv\")\n",
    "\n",
    "n_users = len(URM_all_dataframe[\"user_id\"].unique())\n",
    "n_items = len(URM_all_dataframe[\"item_id\"].unique())\n",
    "\n",
    "URM_all = sps.csr_matrix((URM_all_dataframe[\"data\"].values, \n",
    "                          (URM_all_dataframe[\"user_id\"].values, URM_all_dataframe[\"item_id\"].values)),\n",
    "                        shape = (n_users, n_items))\n",
    "\n",
    "URM_all"
   ]
  },
  {
   "cell_type": "code",
   "execution_count": 10,
   "id": "b2e3a93d",
   "metadata": {
    "execution": {
     "iopub.execute_input": "2025-01-05T11:36:35.092651Z",
     "iopub.status.busy": "2025-01-05T11:36:35.092257Z",
     "iopub.status.idle": "2025-01-05T11:36:35.947036Z",
     "shell.execute_reply": "2025-01-05T11:36:35.946074Z"
    },
    "papermill": {
     "duration": 0.871207,
     "end_time": "2025-01-05T11:36:35.948614",
     "exception": false,
     "start_time": "2025-01-05T11:36:35.077407",
     "status": "completed"
    },
    "tags": []
   },
   "outputs": [
    {
     "data": {
      "text/plain": [
       "<38121x94331 sparse matrix of type '<class 'numpy.float64'>'\n",
       "\twith 2940040 stored elements in Compressed Sparse Row format>"
      ]
     },
     "execution_count": 10,
     "metadata": {},
     "output_type": "execute_result"
    }
   ],
   "source": [
    "ICM_dataframe = pd.read_csv(\"/kaggle/working/RECsys_Challenge2024/Dataset/data_ICM_metadata.csv\")\n",
    "\n",
    "n_items = len(ICM_dataframe[\"item_id\"].unique())\n",
    "n_features = len(ICM_dataframe[\"feature_id\"].unique())\n",
    "\n",
    "ICM_all = sps.csr_matrix((ICM_dataframe[\"data\"].values, \n",
    "                          (ICM_dataframe[\"item_id\"].values, ICM_dataframe[\"feature_id\"].values)),\n",
    "                        shape = (n_items, n_features))\n",
    "\n",
    "ICM_all"
   ]
  },
  {
   "cell_type": "markdown",
   "id": "cad51ead",
   "metadata": {
    "papermill": {
     "duration": 0.013834,
     "end_time": "2025-01-05T11:36:35.976569",
     "exception": false,
     "start_time": "2025-01-05T11:36:35.962735",
     "status": "completed"
    },
    "tags": []
   },
   "source": [
    "# Training"
   ]
  },
  {
   "cell_type": "code",
   "execution_count": 11,
   "id": "564bf4ec",
   "metadata": {
    "execution": {
     "iopub.execute_input": "2025-01-05T11:36:36.005855Z",
     "iopub.status.busy": "2025-01-05T11:36:36.005510Z",
     "iopub.status.idle": "2025-01-05T11:36:53.846805Z",
     "shell.execute_reply": "2025-01-05T11:36:53.845630Z"
    },
    "papermill": {
     "duration": 17.858004,
     "end_time": "2025-01-05T11:36:53.848827",
     "exception": false,
     "start_time": "2025-01-05T11:36:35.990823",
     "status": "completed"
    },
    "tags": []
   },
   "outputs": [
    {
     "name": "stdout",
     "output_type": "stream",
     "text": [
      "Warning: 141 (0.39 %) of 35736 users have no sampled items\n"
     ]
    }
   ],
   "source": [
    "from Evaluation.Evaluator import EvaluatorHoldout\n",
    "from Data_manager.split_functions.split_train_validation_random_holdout import split_train_in_two_percentage_global_sample\n",
    "from Data_manager.split_functions.split_train_k_folds import split_train_k_folds\n",
    "\n",
    "URM_train, URM_validation = split_train_in_two_percentage_global_sample(URM_all, train_percentage = 0.80)\n",
    "\n",
    "folds = split_train_k_folds(URM_all, k=config['n_folds'])"
   ]
  },
  {
   "cell_type": "code",
   "execution_count": 12,
   "id": "fb47559a",
   "metadata": {
    "execution": {
     "iopub.execute_input": "2025-01-05T11:36:53.879615Z",
     "iopub.status.busy": "2025-01-05T11:36:53.879173Z",
     "iopub.status.idle": "2025-01-05T11:36:53.895815Z",
     "shell.execute_reply": "2025-01-05T11:36:53.894954Z"
    },
    "papermill": {
     "duration": 0.033878,
     "end_time": "2025-01-05T11:36:53.897753",
     "exception": false,
     "start_time": "2025-01-05T11:36:53.863875",
     "status": "completed"
    },
    "tags": []
   },
   "outputs": [],
   "source": [
    "from Recommenders.KNN.UserKNNCFRecommender import UserKNNCFRecommender\n",
    "\n",
    "def objective_function_UserKNNCF(optuna_trial):\n",
    "    \n",
    "    similarity = optuna_trial.suggest_categorical(\"similarity\", ['cosine', 'dice', 'jaccard', 'asymmetric', 'tversky', 'euclidean'])\n",
    "    \n",
    "    full_hyperp = {\"similarity\": similarity,\n",
    "                   \"topK\": optuna_trial.suggest_int(\"topK\", 0, 750),\n",
    "                   \"shrink\": optuna_trial.suggest_int(\"shrink\", 0, 1000),\n",
    "                   'feature_weighting': optuna_trial.suggest_categorical('feature_weighting', [\"BM25\", \"TF-IDF\", \"none\"])\n",
    "                  }\n",
    "    \n",
    "    if similarity == \"asymmetric\":\n",
    "        full_hyperp[\"asymmetric_alpha\"] = optuna_trial.suggest_float(\"asymmetric_alpha\", 0, 2, log=False)\n",
    "        full_hyperp[\"normalize\"] = True     \n",
    "\n",
    "    elif similarity == \"tversky\":\n",
    "        full_hyperp[\"tversky_alpha\"] = optuna_trial.suggest_float(\"tversky_alpha\", 0, 2, log=False)\n",
    "        full_hyperp[\"tversky_beta\"] = optuna_trial.suggest_float(\"tversky_beta\", 0, 2, log=False)\n",
    "        full_hyperp[\"normalize\"] = True \n",
    "\n",
    "    elif similarity == \"euclidean\":\n",
    "        full_hyperp[\"normalize_avg_row\"] = optuna_trial.suggest_categorical(\"normalize_avg_row\", [True, False])\n",
    "        full_hyperp[\"similarity_from_distance_mode\"] = optuna_trial.suggest_categorical(\"similarity_from_distance_mode\", [\"lin\", \"log\", \"exp\"])\n",
    "        full_hyperp[\"normalize\"] = optuna_trial.suggest_categorical(\"normalize\", [True, False])\n",
    "        \n",
    "    \n",
    "    validation_results = []\n",
    "    \n",
    "    for fold_idx, (URM_train_fold, URM_validation_fold) in enumerate(folds):\n",
    "    \n",
    "        recommender_instance = UserKNNCFRecommender(URM_train_fold)\n",
    "        recommender_instance.fit(**full_hyperp)\n",
    "        \n",
    "        evaluator = EvaluatorHoldout(URM_validation_fold, cutoff_list=[10])\n",
    "        result_df, _ = evaluator.evaluateRecommender(recommender_instance)\n",
    "        \n",
    "        validation_results.append(result_df.loc[10][\"MAP\"])\n",
    "    \n",
    "    return np.mean(validation_results)"
   ]
  },
  {
   "cell_type": "code",
   "execution_count": 13,
   "id": "80cff978",
   "metadata": {
    "execution": {
     "iopub.execute_input": "2025-01-05T11:36:53.928312Z",
     "iopub.status.busy": "2025-01-05T11:36:53.927949Z",
     "iopub.status.idle": "2025-01-05T21:00:06.335644Z",
     "shell.execute_reply": "2025-01-05T21:00:06.334480Z"
    },
    "papermill": {
     "duration": 33792.469266,
     "end_time": "2025-01-05T21:00:06.381827",
     "exception": false,
     "start_time": "2025-01-05T11:36:53.912561",
     "status": "completed"
    },
    "tags": []
   },
   "outputs": [
    {
     "name": "stderr",
     "output_type": "stream",
     "text": [
      "[I 2025-01-05 11:36:55,084] A new study created in RDB with name: hyperparameters_tuning_UserKNNCF_MAP\n"
     ]
    },
    {
     "name": "stdout",
     "output_type": "stream",
     "text": [
      "Similarity column 35736 (100.0%), 2907.26 column/sec. Elapsed time 12.29 sec\n",
      "EvaluatorHoldout: Ignoring 173 ( 0.5%) Users that have less than 1 test interactions\n",
      "EvaluatorHoldout: Processed 35563 (100.0%) in 50.64 sec. Users per second: 702\n",
      "Similarity column 35736 (100.0%), 2947.69 column/sec. Elapsed time 12.12 sec\n",
      "EvaluatorHoldout: Ignoring 163 ( 0.5%) Users that have less than 1 test interactions\n",
      "EvaluatorHoldout: Processed 35573 (100.0%) in 50.22 sec. Users per second: 708\n",
      "Similarity column 35736 (100.0%), 2940.55 column/sec. Elapsed time 12.15 sec\n",
      "EvaluatorHoldout: Ignoring 150 ( 0.4%) Users that have less than 1 test interactions\n",
      "EvaluatorHoldout: Processed 35586 (100.0%) in 50.41 sec. Users per second: 706\n",
      "Similarity column 35736 (100.0%), 2953.62 column/sec. Elapsed time 12.10 sec\n",
      "EvaluatorHoldout: Ignoring 167 ( 0.5%) Users that have less than 1 test interactions\n",
      "EvaluatorHoldout: Processed 35569 (100.0%) in 50.15 sec. Users per second: 709\n",
      "Similarity column 35736 (100.0%), 2948.89 column/sec. Elapsed time 12.12 sec\n",
      "EvaluatorHoldout: Ignoring 172 ( 0.5%) Users that have less than 1 test interactions\n",
      "EvaluatorHoldout: Processed 35564 (100.0%) in 50.56 sec. Users per second: 703\n"
     ]
    },
    {
     "name": "stderr",
     "output_type": "stream",
     "text": [
      "[I 2025-01-05 11:42:13,320] Trial 0 finished with value: 0.03438354964465644 and parameters: {'similarity': 'tversky', 'topK': 570, 'shrink': 910, 'feature_weighting': 'none', 'tversky_alpha': 1.9162996424704613, 'tversky_beta': 0.37185718657749445}. Best is trial 0 with value: 0.03438354964465644.\n"
     ]
    },
    {
     "name": "stdout",
     "output_type": "stream",
     "text": [
      "Similarity column 35736 (100.0%), 3042.80 column/sec. Elapsed time 11.74 sec\n",
      "EvaluatorHoldout: Ignoring 173 ( 0.5%) Users that have less than 1 test interactions\n",
      "EvaluatorHoldout: Processed 35563 (100.0%) in 39.81 sec. Users per second: 893\n",
      "Similarity column 35736 (100.0%), 3016.97 column/sec. Elapsed time 11.85 sec\n",
      "EvaluatorHoldout: Ignoring 163 ( 0.5%) Users that have less than 1 test interactions\n",
      "EvaluatorHoldout: Processed 35573 (100.0%) in 39.78 sec. Users per second: 894\n",
      "Similarity column 35736 (100.0%), 3002.01 column/sec. Elapsed time 11.90 sec\n",
      "EvaluatorHoldout: Ignoring 150 ( 0.4%) Users that have less than 1 test interactions\n",
      "EvaluatorHoldout: Processed 35586 (100.0%) in 39.83 sec. Users per second: 893\n",
      "Similarity column 35736 (100.0%), 3032.21 column/sec. Elapsed time 11.79 sec\n",
      "EvaluatorHoldout: Ignoring 167 ( 0.5%) Users that have less than 1 test interactions\n",
      "EvaluatorHoldout: Processed 35569 (100.0%) in 39.85 sec. Users per second: 893\n",
      "Similarity column 35736 (100.0%), 3024.69 column/sec. Elapsed time 11.81 sec\n",
      "EvaluatorHoldout: Ignoring 172 ( 0.5%) Users that have less than 1 test interactions\n",
      "EvaluatorHoldout: Processed 35564 (100.0%) in 39.95 sec. Users per second: 890\n"
     ]
    },
    {
     "name": "stderr",
     "output_type": "stream",
     "text": [
      "[I 2025-01-05 11:46:34,821] Trial 1 finished with value: 0.03765997704303814 and parameters: {'similarity': 'tversky', 'topK': 182, 'shrink': 214, 'feature_weighting': 'TF-IDF', 'tversky_alpha': 0.9331405812571156, 'tversky_beta': 1.5204811914205834}. Best is trial 1 with value: 0.03765997704303814.\n"
     ]
    },
    {
     "name": "stdout",
     "output_type": "stream",
     "text": [
      "Similarity column 35736 (100.0%), 3008.45 column/sec. Elapsed time 11.88 sec\n",
      "EvaluatorHoldout: Ignoring 173 ( 0.5%) Users that have less than 1 test interactions\n",
      "EvaluatorHoldout: Processed 35563 (100.0%) in 36.25 sec. Users per second: 981\n",
      "Similarity column 35736 (100.0%), 3041.22 column/sec. Elapsed time 11.75 sec\n",
      "EvaluatorHoldout: Ignoring 163 ( 0.5%) Users that have less than 1 test interactions\n",
      "EvaluatorHoldout: Processed 35573 (100.0%) in 35.83 sec. Users per second: 993\n",
      "Similarity column 35736 (100.0%), 3024.10 column/sec. Elapsed time 11.82 sec\n",
      "EvaluatorHoldout: Ignoring 150 ( 0.4%) Users that have less than 1 test interactions\n",
      "EvaluatorHoldout: Processed 35586 (100.0%) in 35.99 sec. Users per second: 989\n",
      "Similarity column 35736 (100.0%), 3062.46 column/sec. Elapsed time 11.67 sec\n",
      "EvaluatorHoldout: Ignoring 167 ( 0.5%) Users that have less than 1 test interactions\n",
      "EvaluatorHoldout: Processed 35569 (100.0%) in 35.81 sec. Users per second: 993\n",
      "Similarity column 35736 (100.0%), 3040.45 column/sec. Elapsed time 11.75 sec\n",
      "EvaluatorHoldout: Ignoring 172 ( 0.5%) Users that have less than 1 test interactions\n",
      "EvaluatorHoldout: Processed 35564 (100.0%) in 35.62 sec. Users per second: 998\n"
     ]
    },
    {
     "name": "stderr",
     "output_type": "stream",
     "text": [
      "[I 2025-01-05 11:50:35,829] Trial 2 finished with value: 0.036466401535762326 and parameters: {'similarity': 'tversky', 'topK': 76, 'shrink': 73, 'feature_weighting': 'TF-IDF', 'tversky_alpha': 1.9850899411906355, 'tversky_beta': 1.804336509419103}. Best is trial 1 with value: 0.03765997704303814.\n"
     ]
    },
    {
     "name": "stdout",
     "output_type": "stream",
     "text": [
      "Similarity column 35736 (100.0%), 3274.40 column/sec. Elapsed time 10.91 sec\n",
      "EvaluatorHoldout: Ignoring 173 ( 0.5%) Users that have less than 1 test interactions\n",
      "EvaluatorHoldout: Processed 35563 (100.0%) in 45.07 sec. Users per second: 789\n",
      "Similarity column 35736 (100.0%), 3269.48 column/sec. Elapsed time 10.93 sec\n",
      "EvaluatorHoldout: Ignoring 163 ( 0.5%) Users that have less than 1 test interactions\n",
      "EvaluatorHoldout: Processed 35573 (100.0%) in 44.92 sec. Users per second: 792\n",
      "Similarity column 35736 (100.0%), 3247.37 column/sec. Elapsed time 11.00 sec\n",
      "EvaluatorHoldout: Ignoring 150 ( 0.4%) Users that have less than 1 test interactions\n",
      "EvaluatorHoldout: Processed 35586 (100.0%) in 45.05 sec. Users per second: 790\n",
      "Similarity column 35736 (100.0%), 3265.19 column/sec. Elapsed time 10.94 sec\n",
      "EvaluatorHoldout: Ignoring 167 ( 0.5%) Users that have less than 1 test interactions\n",
      "EvaluatorHoldout: Processed 35569 (100.0%) in 45.01 sec. Users per second: 790\n",
      "Similarity column 35736 (100.0%), 3266.34 column/sec. Elapsed time 10.94 sec\n",
      "EvaluatorHoldout: Ignoring 172 ( 0.5%) Users that have less than 1 test interactions\n",
      "EvaluatorHoldout: Processed 35564 (100.0%) in 45.15 sec. Users per second: 788\n"
     ]
    },
    {
     "name": "stderr",
     "output_type": "stream",
     "text": [
      "[I 2025-01-05 11:55:19,765] Trial 3 finished with value: 0.03603158336802389 and parameters: {'similarity': 'jaccard', 'topK': 363, 'shrink': 325, 'feature_weighting': 'none'}. Best is trial 1 with value: 0.03765997704303814.\n"
     ]
    },
    {
     "name": "stdout",
     "output_type": "stream",
     "text": [
      "Similarity column 35736 (100.0%), 3213.27 column/sec. Elapsed time 11.12 sec\n",
      "EvaluatorHoldout: Ignoring 173 ( 0.5%) Users that have less than 1 test interactions\n",
      "EvaluatorHoldout: Processed 35563 (100.0%) in 50.93 sec. Users per second: 698\n",
      "Similarity column 35736 (100.0%), 3229.00 column/sec. Elapsed time 11.07 sec\n",
      "EvaluatorHoldout: Ignoring 163 ( 0.5%) Users that have less than 1 test interactions\n",
      "EvaluatorHoldout: Processed 35573 (100.0%) in 50.75 sec. Users per second: 701\n",
      "Similarity column 35736 (100.0%), 3207.12 column/sec. Elapsed time 11.14 sec\n",
      "EvaluatorHoldout: Ignoring 150 ( 0.4%) Users that have less than 1 test interactions\n",
      "EvaluatorHoldout: Processed 35586 (100.0%) in 50.78 sec. Users per second: 701\n",
      "Similarity column 35736 (100.0%), 3217.01 column/sec. Elapsed time 11.11 sec\n",
      "EvaluatorHoldout: Ignoring 167 ( 0.5%) Users that have less than 1 test interactions\n",
      "EvaluatorHoldout: Processed 35569 (100.0%) in 50.58 sec. Users per second: 703\n",
      "Similarity column 35736 (100.0%), 3215.75 column/sec. Elapsed time 11.11 sec\n",
      "EvaluatorHoldout: Ignoring 172 ( 0.5%) Users that have less than 1 test interactions\n",
      "EvaluatorHoldout: Processed 35564 (100.0%) in 50.70 sec. Users per second: 702\n"
     ]
    },
    {
     "name": "stderr",
     "output_type": "stream",
     "text": [
      "[I 2025-01-05 12:00:33,944] Trial 4 finished with value: 0.03568205879326173 and parameters: {'similarity': 'jaccard', 'topK': 523, 'shrink': 13, 'feature_weighting': 'none'}. Best is trial 1 with value: 0.03765997704303814.\n"
     ]
    },
    {
     "name": "stdout",
     "output_type": "stream",
     "text": [
      "Similarity column 35736 (100.0%), 3098.82 column/sec. Elapsed time 11.53 sec\n",
      "EvaluatorHoldout: Ignoring 173 ( 0.5%) Users that have less than 1 test interactions\n",
      "EvaluatorHoldout: Processed 35563 (100.0%) in 49.10 sec. Users per second: 724\n",
      "Similarity column 35736 (100.0%), 3075.31 column/sec. Elapsed time 11.62 sec\n",
      "EvaluatorHoldout: Ignoring 163 ( 0.5%) Users that have less than 1 test interactions\n",
      "EvaluatorHoldout: Processed 35573 (100.0%) in 48.91 sec. Users per second: 727\n",
      "Similarity column 35736 (100.0%), 3094.65 column/sec. Elapsed time 11.55 sec\n",
      "EvaluatorHoldout: Ignoring 150 ( 0.4%) Users that have less than 1 test interactions\n",
      "EvaluatorHoldout: Processed 35586 (100.0%) in 49.02 sec. Users per second: 726\n",
      "Similarity column 35736 (100.0%), 3086.72 column/sec. Elapsed time 11.58 sec\n",
      "EvaluatorHoldout: Ignoring 167 ( 0.5%) Users that have less than 1 test interactions\n",
      "EvaluatorHoldout: Processed 35569 (100.0%) in 48.81 sec. Users per second: 729\n",
      "Similarity column 35736 (100.0%), 3052.87 column/sec. Elapsed time 11.71 sec\n",
      "EvaluatorHoldout: Ignoring 172 ( 0.5%) Users that have less than 1 test interactions\n",
      "EvaluatorHoldout: Processed 35564 (100.0%) in 48.84 sec. Users per second: 728\n"
     ]
    },
    {
     "name": "stderr",
     "output_type": "stream",
     "text": [
      "[I 2025-01-05 12:05:40,725] Trial 5 finished with value: 0.03707826471642752 and parameters: {'similarity': 'asymmetric', 'topK': 450, 'shrink': 527, 'feature_weighting': 'TF-IDF', 'asymmetric_alpha': 0.4169117630145689}. Best is trial 1 with value: 0.03765997704303814.\n"
     ]
    },
    {
     "name": "stdout",
     "output_type": "stream",
     "text": [
      "Similarity column 35736 (100.0%), 3169.91 column/sec. Elapsed time 11.27 sec\n",
      "EvaluatorHoldout: Ignoring 173 ( 0.5%) Users that have less than 1 test interactions\n",
      "EvaluatorHoldout: Processed 35563 (100.0%) in 42.06 sec. Users per second: 846\n",
      "Similarity column 35736 (100.0%), 3171.28 column/sec. Elapsed time 11.27 sec\n",
      "EvaluatorHoldout: Ignoring 163 ( 0.5%) Users that have less than 1 test interactions\n",
      "EvaluatorHoldout: Processed 35573 (100.0%) in 42.04 sec. Users per second: 846\n",
      "Similarity column 35736 (100.0%), 3171.35 column/sec. Elapsed time 11.27 sec\n",
      "EvaluatorHoldout: Ignoring 150 ( 0.4%) Users that have less than 1 test interactions\n",
      "EvaluatorHoldout: Processed 35586 (100.0%) in 42.10 sec. Users per second: 845\n",
      "Similarity column 35736 (100.0%), 3179.57 column/sec. Elapsed time 11.24 sec\n",
      "EvaluatorHoldout: Ignoring 167 ( 0.5%) Users that have less than 1 test interactions\n",
      "EvaluatorHoldout: Processed 35569 (100.0%) in 42.07 sec. Users per second: 845\n",
      "Similarity column 35736 (100.0%), 3143.49 column/sec. Elapsed time 11.37 sec\n",
      "EvaluatorHoldout: Ignoring 172 ( 0.5%) Users that have less than 1 test interactions\n",
      "EvaluatorHoldout: Processed 35564 (100.0%) in 41.92 sec. Users per second: 848\n"
     ]
    },
    {
     "name": "stderr",
     "output_type": "stream",
     "text": [
      "[I 2025-01-05 12:10:10,001] Trial 6 finished with value: 0.03882455742842482 and parameters: {'similarity': 'cosine', 'topK': 227, 'shrink': 373, 'feature_weighting': 'TF-IDF'}. Best is trial 6 with value: 0.03882455742842482.\n"
     ]
    },
    {
     "name": "stdout",
     "output_type": "stream",
     "text": [
      "Similarity column 35736 (100.0%), 2966.38 column/sec. Elapsed time 12.05 sec\n",
      "EvaluatorHoldout: Ignoring 173 ( 0.5%) Users that have less than 1 test interactions\n",
      "EvaluatorHoldout: Processed 35563 (100.0%) in 46.60 sec. Users per second: 763\n",
      "Similarity column 35736 (100.0%), 2964.48 column/sec. Elapsed time 12.05 sec\n",
      "EvaluatorHoldout: Ignoring 163 ( 0.5%) Users that have less than 1 test interactions\n",
      "EvaluatorHoldout: Processed 35573 (100.0%) in 47.24 sec. Users per second: 753\n",
      "Similarity column 35736 (100.0%), 2891.69 column/sec. Elapsed time 12.36 sec\n",
      "EvaluatorHoldout: Ignoring 150 ( 0.4%) Users that have less than 1 test interactions\n",
      "EvaluatorHoldout: Processed 35586 (100.0%) in 52.02 sec. Users per second: 684\n",
      "Similarity column 35736 (100.0%), 2878.13 column/sec. Elapsed time 12.42 sec\n",
      "EvaluatorHoldout: Ignoring 167 ( 0.5%) Users that have less than 1 test interactions\n",
      "EvaluatorHoldout: Processed 35569 (100.0%) in 52.16 sec. Users per second: 682\n",
      "Similarity column 35736 (100.0%), 2903.96 column/sec. Elapsed time 12.31 sec\n",
      "EvaluatorHoldout: Ignoring 172 ( 0.5%) Users that have less than 1 test interactions\n",
      "EvaluatorHoldout: Processed 35564 (100.0%) in 52.08 sec. Users per second: 683\n"
     ]
    },
    {
     "name": "stderr",
     "output_type": "stream",
     "text": [
      "[I 2025-01-05 12:15:27,028] Trial 7 finished with value: 0.03716477889561431 and parameters: {'similarity': 'tversky', 'topK': 422, 'shrink': 596, 'feature_weighting': 'BM25', 'tversky_alpha': 1.1167000718605908, 'tversky_beta': 1.631059262328189}. Best is trial 6 with value: 0.03882455742842482.\n"
     ]
    },
    {
     "name": "stdout",
     "output_type": "stream",
     "text": [
      "Similarity column 35736 (100.0%), 3227.71 column/sec. Elapsed time 11.07 sec\n",
      "EvaluatorHoldout: Ignoring 173 ( 0.5%) Users that have less than 1 test interactions\n",
      "EvaluatorHoldout: Processed 35563 (100.0%) in 50.83 sec. Users per second: 700\n",
      "Similarity column 35736 (100.0%), 3211.52 column/sec. Elapsed time 11.13 sec\n",
      "EvaluatorHoldout: Ignoring 163 ( 0.5%) Users that have less than 1 test interactions\n",
      "EvaluatorHoldout: Processed 35573 (100.0%) in 50.77 sec. Users per second: 701\n",
      "Similarity column 35736 (100.0%), 3226.14 column/sec. Elapsed time 11.08 sec\n",
      "EvaluatorHoldout: Ignoring 150 ( 0.4%) Users that have less than 1 test interactions\n",
      "EvaluatorHoldout: Processed 35586 (100.0%) in 51.02 sec. Users per second: 697\n",
      "Similarity column 35736 (100.0%), 3217.20 column/sec. Elapsed time 11.11 sec\n",
      "EvaluatorHoldout: Ignoring 167 ( 0.5%) Users that have less than 1 test interactions\n",
      "EvaluatorHoldout: Processed 35569 (100.0%) in 50.90 sec. Users per second: 699\n",
      "Similarity column 35736 (100.0%), 3229.78 column/sec. Elapsed time 11.06 sec\n",
      "EvaluatorHoldout: Ignoring 172 ( 0.5%) Users that have less than 1 test interactions\n",
      "EvaluatorHoldout: Processed 35564 (100.0%) in 51.24 sec. Users per second: 694\n"
     ]
    },
    {
     "name": "stderr",
     "output_type": "stream",
     "text": [
      "[I 2025-01-05 12:20:43,211] Trial 8 finished with value: 0.036119113490618554 and parameters: {'similarity': 'dice', 'topK': 388, 'shrink': 584, 'feature_weighting': 'TF-IDF'}. Best is trial 6 with value: 0.03882455742842482.\n"
     ]
    },
    {
     "name": "stdout",
     "output_type": "stream",
     "text": [
      "Similarity column 35736 (100.0%), 3148.75 column/sec. Elapsed time 11.35 sec\n",
      "EvaluatorHoldout: Ignoring 173 ( 0.5%) Users that have less than 1 test interactions\n",
      "EvaluatorHoldout: Processed 35563 (100.0%) in 42.27 sec. Users per second: 841\n",
      "Similarity column 35736 (100.0%), 3132.04 column/sec. Elapsed time 11.41 sec\n",
      "EvaluatorHoldout: Ignoring 163 ( 0.5%) Users that have less than 1 test interactions\n",
      "EvaluatorHoldout: Processed 35573 (100.0%) in 42.36 sec. Users per second: 840\n",
      "Similarity column 35736 (100.0%), 3127.01 column/sec. Elapsed time 11.43 sec\n",
      "EvaluatorHoldout: Ignoring 150 ( 0.4%) Users that have less than 1 test interactions\n",
      "EvaluatorHoldout: Processed 35586 (100.0%) in 42.31 sec. Users per second: 841\n",
      "Similarity column 35736 (100.0%), 3134.03 column/sec. Elapsed time 11.40 sec\n",
      "EvaluatorHoldout: Ignoring 167 ( 0.5%) Users that have less than 1 test interactions\n",
      "EvaluatorHoldout: Processed 35569 (100.0%) in 42.38 sec. Users per second: 839\n",
      "Similarity column 35736 (100.0%), 3128.54 column/sec. Elapsed time 11.42 sec\n",
      "EvaluatorHoldout: Ignoring 172 ( 0.5%) Users that have less than 1 test interactions\n",
      "EvaluatorHoldout: Processed 35564 (100.0%) in 42.16 sec. Users per second: 844\n"
     ]
    },
    {
     "name": "stderr",
     "output_type": "stream",
     "text": [
      "[I 2025-01-05 12:25:14,998] Trial 9 finished with value: 0.03073591621117076 and parameters: {'similarity': 'asymmetric', 'topK': 200, 'shrink': 119, 'feature_weighting': 'BM25', 'asymmetric_alpha': 1.742069155717465}. Best is trial 6 with value: 0.03882455742842482.\n"
     ]
    },
    {
     "name": "stdout",
     "output_type": "stream",
     "text": [
      "Similarity column 35736 (100.0%), 2969.08 column/sec. Elapsed time 12.04 sec\n",
      "EvaluatorHoldout: Ignoring 173 ( 0.5%) Users that have less than 1 test interactions\n",
      "EvaluatorHoldout: Processed 35563 (100.0%) in 1.02 min. Users per second: 579\n",
      "Similarity column 35736 (100.0%), 2960.89 column/sec. Elapsed time 12.07 sec\n",
      "EvaluatorHoldout: Ignoring 163 ( 0.5%) Users that have less than 1 test interactions\n",
      "EvaluatorHoldout: Processed 35573 (100.0%) in 1.01 min. Users per second: 586\n",
      "Similarity column 35736 (100.0%), 2975.14 column/sec. Elapsed time 12.01 sec\n",
      "EvaluatorHoldout: Ignoring 150 ( 0.4%) Users that have less than 1 test interactions\n",
      "EvaluatorHoldout: Processed 35586 (100.0%) in 1.01 min. Users per second: 586\n",
      "Similarity column 35736 (100.0%), 2968.45 column/sec. Elapsed time 12.04 sec\n",
      "EvaluatorHoldout: Ignoring 167 ( 0.5%) Users that have less than 1 test interactions\n",
      "EvaluatorHoldout: Processed 35569 (100.0%) in 1.01 min. Users per second: 584\n",
      "Similarity column 35736 (100.0%), 2988.42 column/sec. Elapsed time 11.96 sec\n",
      "EvaluatorHoldout: Ignoring 172 ( 0.5%) Users that have less than 1 test interactions\n",
      "EvaluatorHoldout: Processed 35564 (100.0%) in 1.02 min. Users per second: 581\n"
     ]
    },
    {
     "name": "stderr",
     "output_type": "stream",
     "text": [
      "[I 2025-01-05 12:31:27,541] Trial 10 finished with value: 0.03489465279018752 and parameters: {'similarity': 'cosine', 'topK': 709, 'shrink': 822, 'feature_weighting': 'TF-IDF'}. Best is trial 6 with value: 0.03882455742842482.\n"
     ]
    },
    {
     "name": "stdout",
     "output_type": "stream",
     "text": [
      "Similarity column 35736 (100.0%), 392.63 column/sec. Elapsed time 1.52 min\n",
      "EvaluatorHoldout: Ignoring 173 ( 0.5%) Users that have less than 1 test interactions\n",
      "EvaluatorHoldout: Processed 35563 (100.0%) in 35.35 sec. Users per second: 1006\n",
      "Similarity column 35736 (100.0%), 391.82 column/sec. Elapsed time 1.52 min\n",
      "EvaluatorHoldout: Ignoring 163 ( 0.5%) Users that have less than 1 test interactions\n",
      "EvaluatorHoldout: Processed 35573 (100.0%) in 35.47 sec. Users per second: 1003\n",
      "Similarity column 35736 (100.0%), 375.96 column/sec. Elapsed time 1.58 min\n",
      "EvaluatorHoldout: Ignoring 150 ( 0.4%) Users that have less than 1 test interactions\n",
      "EvaluatorHoldout: Processed 35586 (100.0%) in 35.31 sec. Users per second: 1008\n",
      "Similarity column 35736 (100.0%), 397.05 column/sec. Elapsed time 1.50 min\n",
      "EvaluatorHoldout: Ignoring 167 ( 0.5%) Users that have less than 1 test interactions\n",
      "EvaluatorHoldout: Processed 35569 (100.0%) in 35.24 sec. Users per second: 1009\n",
      "Similarity column 35736 (100.0%), 399.82 column/sec. Elapsed time 1.49 min\n",
      "EvaluatorHoldout: Ignoring 172 ( 0.5%) Users that have less than 1 test interactions\n",
      "EvaluatorHoldout: Processed 35564 (100.0%) in 35.31 sec. Users per second: 1007\n"
     ]
    },
    {
     "name": "stderr",
     "output_type": "stream",
     "text": [
      "[I 2025-01-05 12:42:03,526] Trial 11 finished with value: 0.010519718257202142 and parameters: {'similarity': 'euclidean', 'topK': 220, 'shrink': 316, 'feature_weighting': 'TF-IDF', 'normalize_avg_row': False, 'similarity_from_distance_mode': 'lin', 'normalize': False}. Best is trial 6 with value: 0.03882455742842482.\n"
     ]
    },
    {
     "name": "stdout",
     "output_type": "stream",
     "text": [
      "Similarity column 35736 (100.0%), 3125.23 column/sec. Elapsed time 11.43 sec\n",
      "EvaluatorHoldout: Ignoring 173 ( 0.5%) Users that have less than 1 test interactions\n",
      "EvaluatorHoldout: Processed 35563 (100.0%) in 38.92 sec. Users per second: 914\n",
      "Similarity column 35736 (100.0%), 3149.51 column/sec. Elapsed time 11.35 sec\n",
      "EvaluatorHoldout: Ignoring 163 ( 0.5%) Users that have less than 1 test interactions\n",
      "EvaluatorHoldout: Processed 35573 (100.0%) in 38.97 sec. Users per second: 913\n",
      "Similarity column 35736 (100.0%), 3117.36 column/sec. Elapsed time 11.46 sec\n",
      "EvaluatorHoldout: Ignoring 150 ( 0.4%) Users that have less than 1 test interactions\n",
      "EvaluatorHoldout: Processed 35586 (100.0%) in 39.16 sec. Users per second: 909\n",
      "Similarity column 35736 (100.0%), 3125.75 column/sec. Elapsed time 11.43 sec\n",
      "EvaluatorHoldout: Ignoring 167 ( 0.5%) Users that have less than 1 test interactions\n",
      "EvaluatorHoldout: Processed 35569 (100.0%) in 39.01 sec. Users per second: 912\n",
      "Similarity column 35736 (100.0%), 3133.22 column/sec. Elapsed time 11.41 sec\n",
      "EvaluatorHoldout: Ignoring 172 ( 0.5%) Users that have less than 1 test interactions\n",
      "EvaluatorHoldout: Processed 35564 (100.0%) in 39.01 sec. Users per second: 912\n"
     ]
    },
    {
     "name": "stderr",
     "output_type": "stream",
     "text": [
      "[I 2025-01-05 12:46:17,771] Trial 12 finished with value: 0.03452483875654129 and parameters: {'similarity': 'cosine', 'topK': 49, 'shrink': 330, 'feature_weighting': 'TF-IDF'}. Best is trial 6 with value: 0.03882455742842482.\n"
     ]
    },
    {
     "name": "stdout",
     "output_type": "stream",
     "text": [
      "Similarity column 35736 (100.0%), 3062.92 column/sec. Elapsed time 11.67 sec\n",
      "EvaluatorHoldout: Ignoring 173 ( 0.5%) Users that have less than 1 test interactions\n",
      "EvaluatorHoldout: Processed 35563 (100.0%) in 47.83 sec. Users per second: 744\n",
      "Similarity column 35736 (100.0%), 3060.58 column/sec. Elapsed time 11.68 sec\n",
      "EvaluatorHoldout: Ignoring 163 ( 0.5%) Users that have less than 1 test interactions\n",
      "EvaluatorHoldout: Processed 35573 (100.0%) in 47.73 sec. Users per second: 745\n",
      "Similarity column 35736 (100.0%), 3080.89 column/sec. Elapsed time 11.60 sec\n",
      "EvaluatorHoldout: Ignoring 150 ( 0.4%) Users that have less than 1 test interactions\n",
      "EvaluatorHoldout: Processed 35586 (100.0%) in 47.69 sec. Users per second: 746\n",
      "Similarity column 35736 (100.0%), 3059.31 column/sec. Elapsed time 11.68 sec\n",
      "EvaluatorHoldout: Ignoring 167 ( 0.5%) Users that have less than 1 test interactions\n",
      "EvaluatorHoldout: Processed 35569 (100.0%) in 47.79 sec. Users per second: 744\n",
      "Similarity column 35736 (100.0%), 3078.64 column/sec. Elapsed time 11.61 sec\n",
      "EvaluatorHoldout: Ignoring 172 ( 0.5%) Users that have less than 1 test interactions\n",
      "EvaluatorHoldout: Processed 35564 (100.0%) in 47.75 sec. Users per second: 745\n"
     ]
    },
    {
     "name": "stderr",
     "output_type": "stream",
     "text": [
      "[I 2025-01-05 12:51:18,711] Trial 13 finished with value: 0.03879314828144394 and parameters: {'similarity': 'cosine', 'topK': 242, 'shrink': 216, 'feature_weighting': 'TF-IDF'}. Best is trial 6 with value: 0.03882455742842482.\n"
     ]
    },
    {
     "name": "stdout",
     "output_type": "stream",
     "text": [
      "Similarity column 35736 (100.0%), 3077.16 column/sec. Elapsed time 11.61 sec\n",
      "EvaluatorHoldout: Ignoring 173 ( 0.5%) Users that have less than 1 test interactions\n",
      "EvaluatorHoldout: Processed 35563 (100.0%) in 49.81 sec. Users per second: 714\n",
      "Similarity column 35736 (100.0%), 3057.82 column/sec. Elapsed time 11.69 sec\n",
      "EvaluatorHoldout: Ignoring 163 ( 0.5%) Users that have less than 1 test interactions\n",
      "EvaluatorHoldout: Processed 35573 (100.0%) in 49.48 sec. Users per second: 719\n",
      "Similarity column 35736 (100.0%), 3057.31 column/sec. Elapsed time 11.69 sec\n",
      "EvaluatorHoldout: Ignoring 150 ( 0.4%) Users that have less than 1 test interactions\n",
      "EvaluatorHoldout: Processed 35586 (100.0%) in 49.54 sec. Users per second: 718\n",
      "Similarity column 35736 (100.0%), 3066.93 column/sec. Elapsed time 11.65 sec\n",
      "EvaluatorHoldout: Ignoring 167 ( 0.5%) Users that have less than 1 test interactions\n",
      "EvaluatorHoldout: Processed 35569 (100.0%) in 49.40 sec. Users per second: 720\n",
      "Similarity column 35736 (100.0%), 3053.27 column/sec. Elapsed time 11.70 sec\n",
      "EvaluatorHoldout: Ignoring 172 ( 0.5%) Users that have less than 1 test interactions\n",
      "EvaluatorHoldout: Processed 35564 (100.0%) in 49.41 sec. Users per second: 720\n"
     ]
    },
    {
     "name": "stderr",
     "output_type": "stream",
     "text": [
      "[I 2025-01-05 12:56:29,064] Trial 14 finished with value: 0.038356702311881916 and parameters: {'similarity': 'cosine', 'topK': 296, 'shrink': 431, 'feature_weighting': 'TF-IDF'}. Best is trial 6 with value: 0.03882455742842482.\n"
     ]
    },
    {
     "name": "stdout",
     "output_type": "stream",
     "text": [
      "Similarity column 35736 (100.0%), 3183.78 column/sec. Elapsed time 11.22 sec\n",
      "EvaluatorHoldout: Ignoring 173 ( 0.5%) Users that have less than 1 test interactions\n",
      "EvaluatorHoldout: Processed 35563 (100.0%) in 43.10 sec. Users per second: 825\n",
      "Similarity column 35736 (100.0%), 3171.32 column/sec. Elapsed time 11.27 sec\n",
      "EvaluatorHoldout: Ignoring 163 ( 0.5%) Users that have less than 1 test interactions\n",
      "EvaluatorHoldout: Processed 35573 (100.0%) in 43.12 sec. Users per second: 825\n",
      "Similarity column 35736 (100.0%), 3211.41 column/sec. Elapsed time 11.13 sec\n",
      "EvaluatorHoldout: Ignoring 150 ( 0.4%) Users that have less than 1 test interactions\n",
      "EvaluatorHoldout: Processed 35586 (100.0%) in 43.13 sec. Users per second: 825\n",
      "Similarity column 35736 (100.0%), 3192.50 column/sec. Elapsed time 11.19 sec\n",
      "EvaluatorHoldout: Ignoring 167 ( 0.5%) Users that have less than 1 test interactions\n",
      "EvaluatorHoldout: Processed 35569 (100.0%) in 43.13 sec. Users per second: 825\n",
      "Similarity column 35736 (100.0%), 3166.63 column/sec. Elapsed time 11.29 sec\n",
      "EvaluatorHoldout: Ignoring 172 ( 0.5%) Users that have less than 1 test interactions\n",
      "EvaluatorHoldout: Processed 35564 (100.0%) in 43.49 sec. Users per second: 818\n"
     ]
    },
    {
     "name": "stderr",
     "output_type": "stream",
     "text": [
      "[I 2025-01-05 13:01:03,771] Trial 15 finished with value: 0.034770983278465686 and parameters: {'similarity': 'cosine', 'topK': 120, 'shrink': 738, 'feature_weighting': 'BM25'}. Best is trial 6 with value: 0.03882455742842482.\n"
     ]
    },
    {
     "name": "stdout",
     "output_type": "stream",
     "text": [
      "Similarity column 35736 (100.0%), 3054.93 column/sec. Elapsed time 11.70 sec\n",
      "EvaluatorHoldout: Ignoring 173 ( 0.5%) Users that have less than 1 test interactions\n",
      "EvaluatorHoldout: Processed 35563 (100.0%) in 49.03 sec. Users per second: 725\n",
      "Similarity column 35736 (100.0%), 3079.21 column/sec. Elapsed time 11.61 sec\n",
      "EvaluatorHoldout: Ignoring 163 ( 0.5%) Users that have less than 1 test interactions\n",
      "EvaluatorHoldout: Processed 35573 (100.0%) in 48.82 sec. Users per second: 729\n",
      "Similarity column 35736 (100.0%), 3081.32 column/sec. Elapsed time 11.60 sec\n",
      "EvaluatorHoldout: Ignoring 150 ( 0.4%) Users that have less than 1 test interactions\n",
      "EvaluatorHoldout: Processed 35586 (100.0%) in 48.84 sec. Users per second: 729\n",
      "Similarity column 35736 (100.0%), 3073.81 column/sec. Elapsed time 11.63 sec\n",
      "EvaluatorHoldout: Ignoring 167 ( 0.5%) Users that have less than 1 test interactions\n",
      "EvaluatorHoldout: Processed 35569 (100.0%) in 48.79 sec. Users per second: 729\n",
      "Similarity column 35736 (100.0%), 3067.47 column/sec. Elapsed time 11.65 sec\n",
      "EvaluatorHoldout: Ignoring 172 ( 0.5%) Users that have less than 1 test interactions\n",
      "EvaluatorHoldout: Processed 35564 (100.0%) in 49.45 sec. Users per second: 719\n"
     ]
    },
    {
     "name": "stderr",
     "output_type": "stream",
     "text": [
      "[I 2025-01-05 13:06:11,094] Trial 16 finished with value: 0.0386338607570533 and parameters: {'similarity': 'cosine', 'topK': 275, 'shrink': 176, 'feature_weighting': 'TF-IDF'}. Best is trial 6 with value: 0.03882455742842482.\n"
     ]
    },
    {
     "name": "stdout",
     "output_type": "stream",
     "text": [
      "Similarity column 35736 (100.0%), 3228.37 column/sec. Elapsed time 11.07 sec\n",
      "EvaluatorHoldout: Ignoring 173 ( 0.5%) Users that have less than 1 test interactions\n",
      "EvaluatorHoldout: Processed 35563 (100.0%) in 48.15 sec. Users per second: 739\n",
      "Similarity column 35736 (100.0%), 3224.53 column/sec. Elapsed time 11.08 sec\n",
      "EvaluatorHoldout: Ignoring 163 ( 0.5%) Users that have less than 1 test interactions\n",
      "EvaluatorHoldout: Processed 35573 (100.0%) in 47.95 sec. Users per second: 742\n",
      "Similarity column 35736 (100.0%), 3247.89 column/sec. Elapsed time 11.00 sec\n",
      "EvaluatorHoldout: Ignoring 150 ( 0.4%) Users that have less than 1 test interactions\n",
      "EvaluatorHoldout: Processed 35586 (100.0%) in 47.67 sec. Users per second: 746\n",
      "Similarity column 35736 (100.0%), 3228.10 column/sec. Elapsed time 11.07 sec\n",
      "EvaluatorHoldout: Ignoring 167 ( 0.5%) Users that have less than 1 test interactions\n",
      "EvaluatorHoldout: Processed 35569 (100.0%) in 47.61 sec. Users per second: 747\n",
      "Similarity column 35736 (100.0%), 3251.97 column/sec. Elapsed time 10.99 sec\n",
      "EvaluatorHoldout: Ignoring 172 ( 0.5%) Users that have less than 1 test interactions\n",
      "EvaluatorHoldout: Processed 35564 (100.0%) in 47.41 sec. Users per second: 750\n"
     ]
    },
    {
     "name": "stderr",
     "output_type": "stream",
     "text": [
      "[I 2025-01-05 13:11:10,795] Trial 17 finished with value: 0.03685686407324793 and parameters: {'similarity': 'dice', 'topK': 285, 'shrink': 420, 'feature_weighting': 'TF-IDF'}. Best is trial 6 with value: 0.03882455742842482.\n"
     ]
    },
    {
     "name": "stdout",
     "output_type": "stream",
     "text": [
      "Similarity column 35736 (100.0%), 410.85 column/sec. Elapsed time 1.45 min\n",
      "EvaluatorHoldout: Ignoring 173 ( 0.5%) Users that have less than 1 test interactions\n",
      "EvaluatorHoldout: Processed 35563 (100.0%) in 35.45 sec. Users per second: 1003\n",
      "Similarity column 35736 (100.0%), 412.85 column/sec. Elapsed time 1.44 min\n",
      "EvaluatorHoldout: Ignoring 163 ( 0.5%) Users that have less than 1 test interactions\n",
      "EvaluatorHoldout: Processed 35573 (100.0%) in 35.53 sec. Users per second: 1001\n",
      "Similarity column 35736 (100.0%), 413.91 column/sec. Elapsed time 1.44 min\n",
      "EvaluatorHoldout: Ignoring 150 ( 0.4%) Users that have less than 1 test interactions\n",
      "EvaluatorHoldout: Processed 35586 (100.0%) in 35.28 sec. Users per second: 1009\n",
      "Similarity column 35736 (100.0%), 405.35 column/sec. Elapsed time 1.47 min\n",
      "EvaluatorHoldout: Ignoring 167 ( 0.5%) Users that have less than 1 test interactions\n",
      "EvaluatorHoldout: Processed 35569 (100.0%) in 35.48 sec. Users per second: 1003\n",
      "Similarity column 35736 (100.0%), 421.81 column/sec. Elapsed time 1.41 min\n",
      "EvaluatorHoldout: Ignoring 172 ( 0.5%) Users that have less than 1 test interactions\n",
      "EvaluatorHoldout: Processed 35564 (100.0%) in 35.41 sec. Users per second: 1004\n"
     ]
    },
    {
     "name": "stderr",
     "output_type": "stream",
     "text": [
      "[I 2025-01-05 13:21:21,494] Trial 18 finished with value: 0.020856998057932702 and parameters: {'similarity': 'euclidean', 'topK': 12, 'shrink': 235, 'feature_weighting': 'none', 'normalize_avg_row': True, 'similarity_from_distance_mode': 'log', 'normalize': True}. Best is trial 6 with value: 0.03882455742842482.\n"
     ]
    },
    {
     "name": "stdout",
     "output_type": "stream",
     "text": [
      "Similarity column 35736 (100.0%), 3144.79 column/sec. Elapsed time 11.36 sec\n",
      "EvaluatorHoldout: Ignoring 173 ( 0.5%) Users that have less than 1 test interactions\n",
      "EvaluatorHoldout: Processed 35563 (100.0%) in 44.59 sec. Users per second: 798\n",
      "Similarity column 35736 (100.0%), 3150.52 column/sec. Elapsed time 11.34 sec\n",
      "EvaluatorHoldout: Ignoring 163 ( 0.5%) Users that have less than 1 test interactions\n",
      "EvaluatorHoldout: Processed 35573 (100.0%) in 44.67 sec. Users per second: 796\n",
      "Similarity column 35736 (100.0%), 3180.81 column/sec. Elapsed time 11.23 sec\n",
      "EvaluatorHoldout: Ignoring 150 ( 0.4%) Users that have less than 1 test interactions\n",
      "EvaluatorHoldout: Processed 35586 (100.0%) in 44.82 sec. Users per second: 794\n",
      "Similarity column 35736 (100.0%), 3168.18 column/sec. Elapsed time 11.28 sec\n",
      "EvaluatorHoldout: Ignoring 167 ( 0.5%) Users that have less than 1 test interactions\n",
      "EvaluatorHoldout: Processed 35569 (100.0%) in 44.91 sec. Users per second: 792\n",
      "Similarity column 35736 (100.0%), 3165.03 column/sec. Elapsed time 11.29 sec\n",
      "EvaluatorHoldout: Ignoring 172 ( 0.5%) Users that have less than 1 test interactions\n",
      "EvaluatorHoldout: Processed 35564 (100.0%) in 44.99 sec. Users per second: 791\n"
     ]
    },
    {
     "name": "stderr",
     "output_type": "stream",
     "text": [
      "[I 2025-01-05 13:26:05,044] Trial 19 finished with value: 0.0364109637716706 and parameters: {'similarity': 'cosine', 'topK': 162, 'shrink': 436, 'feature_weighting': 'BM25'}. Best is trial 6 with value: 0.03882455742842482.\n"
     ]
    },
    {
     "name": "stdout",
     "output_type": "stream",
     "text": [
      "Similarity column 35736 (100.0%), 3025.43 column/sec. Elapsed time 11.81 sec\n",
      "EvaluatorHoldout: Ignoring 173 ( 0.5%) Users that have less than 1 test interactions\n",
      "EvaluatorHoldout: Processed 35563 (100.0%) in 50.27 sec. Users per second: 707\n",
      "Similarity column 35736 (100.0%), 3036.67 column/sec. Elapsed time 11.77 sec\n",
      "EvaluatorHoldout: Ignoring 163 ( 0.5%) Users that have less than 1 test interactions\n",
      "EvaluatorHoldout: Processed 35573 (100.0%) in 50.07 sec. Users per second: 710\n",
      "Similarity column 35736 (100.0%), 3024.56 column/sec. Elapsed time 11.82 sec\n",
      "EvaluatorHoldout: Ignoring 150 ( 0.4%) Users that have less than 1 test interactions\n",
      "EvaluatorHoldout: Processed 35586 (100.0%) in 50.33 sec. Users per second: 707\n",
      "Similarity column 35736 (100.0%), 3022.76 column/sec. Elapsed time 11.82 sec\n",
      "EvaluatorHoldout: Ignoring 167 ( 0.5%) Users that have less than 1 test interactions\n",
      "EvaluatorHoldout: Processed 35569 (100.0%) in 50.37 sec. Users per second: 706\n",
      "Similarity column 35736 (100.0%), 3009.38 column/sec. Elapsed time 11.87 sec\n",
      "EvaluatorHoldout: Ignoring 172 ( 0.5%) Users that have less than 1 test interactions\n",
      "EvaluatorHoldout: Processed 35564 (100.0%) in 51.18 sec. Users per second: 695\n"
     ]
    },
    {
     "name": "stderr",
     "output_type": "stream",
     "text": [
      "[I 2025-01-05 13:31:20,992] Trial 20 finished with value: 0.038111985741480114 and parameters: {'similarity': 'cosine', 'topK': 314, 'shrink': 708, 'feature_weighting': 'TF-IDF'}. Best is trial 6 with value: 0.03882455742842482.\n"
     ]
    },
    {
     "name": "stdout",
     "output_type": "stream",
     "text": [
      "Similarity column 35736 (100.0%), 3024.39 column/sec. Elapsed time 11.82 sec\n",
      "EvaluatorHoldout: Ignoring 173 ( 0.5%) Users that have less than 1 test interactions\n",
      "EvaluatorHoldout: Processed 35563 (100.0%) in 48.64 sec. Users per second: 731\n",
      "Similarity column 35736 (100.0%), 3073.15 column/sec. Elapsed time 11.63 sec\n",
      "EvaluatorHoldout: Ignoring 163 ( 0.5%) Users that have less than 1 test interactions\n",
      "EvaluatorHoldout: Processed 35573 (100.0%) in 48.42 sec. Users per second: 735\n",
      "Similarity column 35736 (100.0%), 3056.71 column/sec. Elapsed time 11.69 sec\n",
      "EvaluatorHoldout: Ignoring 150 ( 0.4%) Users that have less than 1 test interactions\n",
      "EvaluatorHoldout: Processed 35586 (100.0%) in 48.48 sec. Users per second: 734\n",
      "Similarity column 35736 (100.0%), 3077.76 column/sec. Elapsed time 11.61 sec\n",
      "EvaluatorHoldout: Ignoring 167 ( 0.5%) Users that have less than 1 test interactions\n",
      "EvaluatorHoldout: Processed 35569 (100.0%) in 48.43 sec. Users per second: 734\n",
      "Similarity column 35736 (100.0%), 3070.85 column/sec. Elapsed time 11.64 sec\n",
      "EvaluatorHoldout: Ignoring 172 ( 0.5%) Users that have less than 1 test interactions\n",
      "EvaluatorHoldout: Processed 35564 (100.0%) in 48.51 sec. Users per second: 733\n"
     ]
    },
    {
     "name": "stderr",
     "output_type": "stream",
     "text": [
      "[I 2025-01-05 13:36:25,981] Trial 21 finished with value: 0.03870609635775418 and parameters: {'similarity': 'cosine', 'topK': 262, 'shrink': 218, 'feature_weighting': 'TF-IDF'}. Best is trial 6 with value: 0.03882455742842482.\n"
     ]
    },
    {
     "name": "stdout",
     "output_type": "stream",
     "text": [
      "Similarity column 35736 (100.0%), 3082.98 column/sec. Elapsed time 11.59 sec\n",
      "EvaluatorHoldout: Ignoring 173 ( 0.5%) Users that have less than 1 test interactions\n",
      "EvaluatorHoldout: Processed 35563 (100.0%) in 48.07 sec. Users per second: 740\n",
      "Similarity column 35736 (100.0%), 3086.12 column/sec. Elapsed time 11.58 sec\n",
      "EvaluatorHoldout: Ignoring 163 ( 0.5%) Users that have less than 1 test interactions\n",
      "EvaluatorHoldout: Processed 35573 (100.0%) in 48.33 sec. Users per second: 736\n",
      "Similarity column 35736 (100.0%), 3074.18 column/sec. Elapsed time 11.62 sec\n",
      "EvaluatorHoldout: Ignoring 150 ( 0.4%) Users that have less than 1 test interactions\n",
      "EvaluatorHoldout: Processed 35586 (100.0%) in 48.25 sec. Users per second: 737\n",
      "Similarity column 35736 (100.0%), 3082.01 column/sec. Elapsed time 11.60 sec\n",
      "EvaluatorHoldout: Ignoring 167 ( 0.5%) Users that have less than 1 test interactions\n",
      "EvaluatorHoldout: Processed 35569 (100.0%) in 48.00 sec. Users per second: 741\n",
      "Similarity column 35736 (100.0%), 3082.53 column/sec. Elapsed time 11.59 sec\n",
      "EvaluatorHoldout: Ignoring 172 ( 0.5%) Users that have less than 1 test interactions\n",
      "EvaluatorHoldout: Processed 35564 (100.0%) in 48.11 sec. Users per second: 739\n"
     ]
    },
    {
     "name": "stderr",
     "output_type": "stream",
     "text": [
      "[I 2025-01-05 13:41:28,715] Trial 22 finished with value: 0.03870380595536108 and parameters: {'similarity': 'cosine', 'topK': 255, 'shrink': 257, 'feature_weighting': 'TF-IDF'}. Best is trial 6 with value: 0.03882455742842482.\n"
     ]
    },
    {
     "name": "stdout",
     "output_type": "stream",
     "text": [
      "Similarity column 35736 (100.0%), 3111.65 column/sec. Elapsed time 11.48 sec\n",
      "EvaluatorHoldout: Ignoring 173 ( 0.5%) Users that have less than 1 test interactions\n",
      "EvaluatorHoldout: Processed 35563 (100.0%) in 42.86 sec. Users per second: 830\n",
      "Similarity column 35736 (100.0%), 3113.15 column/sec. Elapsed time 11.48 sec\n",
      "EvaluatorHoldout: Ignoring 163 ( 0.5%) Users that have less than 1 test interactions\n",
      "EvaluatorHoldout: Processed 35573 (100.0%) in 42.73 sec. Users per second: 832\n",
      "Similarity column 35736 (100.0%), 3117.33 column/sec. Elapsed time 11.46 sec\n",
      "EvaluatorHoldout: Ignoring 150 ( 0.4%) Users that have less than 1 test interactions\n",
      "EvaluatorHoldout: Processed 35586 (100.0%) in 43.05 sec. Users per second: 827\n",
      "Similarity column 35736 (100.0%), 3121.49 column/sec. Elapsed time 11.45 sec\n",
      "EvaluatorHoldout: Ignoring 167 ( 0.5%) Users that have less than 1 test interactions\n",
      "EvaluatorHoldout: Processed 35569 (100.0%) in 43.02 sec. Users per second: 827\n",
      "Similarity column 35736 (100.0%), 3099.96 column/sec. Elapsed time 11.53 sec\n",
      "EvaluatorHoldout: Ignoring 172 ( 0.5%) Users that have less than 1 test interactions\n",
      "EvaluatorHoldout: Processed 35564 (100.0%) in 42.79 sec. Users per second: 831\n"
     ]
    },
    {
     "name": "stderr",
     "output_type": "stream",
     "text": [
      "[I 2025-01-05 13:46:03,157] Trial 23 finished with value: 0.03850648070902666 and parameters: {'similarity': 'cosine', 'topK': 120, 'shrink': 107, 'feature_weighting': 'TF-IDF'}. Best is trial 6 with value: 0.03882455742842482.\n"
     ]
    },
    {
     "name": "stdout",
     "output_type": "stream",
     "text": [
      "Similarity column 35736 (100.0%), 3061.00 column/sec. Elapsed time 11.67 sec\n",
      "EvaluatorHoldout: Ignoring 173 ( 0.5%) Users that have less than 1 test interactions\n",
      "EvaluatorHoldout: Processed 35563 (100.0%) in 51.30 sec. Users per second: 693\n",
      "Similarity column 35736 (100.0%), 3052.81 column/sec. Elapsed time 11.71 sec\n",
      "EvaluatorHoldout: Ignoring 163 ( 0.5%) Users that have less than 1 test interactions\n",
      "EvaluatorHoldout: Processed 35573 (100.0%) in 51.77 sec. Users per second: 687\n",
      "Similarity column 35736 (100.0%), 3037.30 column/sec. Elapsed time 11.77 sec\n",
      "EvaluatorHoldout: Ignoring 150 ( 0.4%) Users that have less than 1 test interactions\n",
      "EvaluatorHoldout: Processed 35586 (100.0%) in 51.40 sec. Users per second: 692\n",
      "Similarity column 35736 (100.0%), 3054.48 column/sec. Elapsed time 11.70 sec\n",
      "EvaluatorHoldout: Ignoring 167 ( 0.5%) Users that have less than 1 test interactions\n",
      "EvaluatorHoldout: Processed 35569 (100.0%) in 51.20 sec. Users per second: 695\n",
      "Similarity column 35736 (100.0%), 3042.33 column/sec. Elapsed time 11.75 sec\n",
      "EvaluatorHoldout: Ignoring 172 ( 0.5%) Users that have less than 1 test interactions\n",
      "EvaluatorHoldout: Processed 35564 (100.0%) in 51.31 sec. Users per second: 693\n"
     ]
    },
    {
     "name": "stderr",
     "output_type": "stream",
     "text": [
      "[I 2025-01-05 13:51:23,603] Trial 24 finished with value: 0.037924346454905625 and parameters: {'similarity': 'cosine', 'topK': 349, 'shrink': 355, 'feature_weighting': 'TF-IDF'}. Best is trial 6 with value: 0.03882455742842482.\n"
     ]
    },
    {
     "name": "stdout",
     "output_type": "stream",
     "text": [
      "Similarity column 35736 (100.0%), 3105.87 column/sec. Elapsed time 11.51 sec\n",
      "EvaluatorHoldout: Ignoring 173 ( 0.5%) Users that have less than 1 test interactions\n",
      "EvaluatorHoldout: Processed 35563 (100.0%) in 43.31 sec. Users per second: 821\n",
      "Similarity column 35736 (100.0%), 3112.82 column/sec. Elapsed time 11.48 sec\n",
      "EvaluatorHoldout: Ignoring 163 ( 0.5%) Users that have less than 1 test interactions\n",
      "EvaluatorHoldout: Processed 35573 (100.0%) in 43.48 sec. Users per second: 818\n",
      "Similarity column 35736 (100.0%), 3115.06 column/sec. Elapsed time 11.47 sec\n",
      "EvaluatorHoldout: Ignoring 150 ( 0.4%) Users that have less than 1 test interactions\n",
      "EvaluatorHoldout: Processed 35586 (100.0%) in 43.48 sec. Users per second: 818\n",
      "Similarity column 35736 (100.0%), 3085.60 column/sec. Elapsed time 11.58 sec\n",
      "EvaluatorHoldout: Ignoring 167 ( 0.5%) Users that have less than 1 test interactions\n",
      "EvaluatorHoldout: Processed 35569 (100.0%) in 43.44 sec. Users per second: 819\n",
      "Similarity column 35736 (100.0%), 3099.87 column/sec. Elapsed time 11.53 sec\n",
      "EvaluatorHoldout: Ignoring 172 ( 0.5%) Users that have less than 1 test interactions\n",
      "EvaluatorHoldout: Processed 35564 (100.0%) in 43.72 sec. Users per second: 813\n"
     ]
    },
    {
     "name": "stderr",
     "output_type": "stream",
     "text": [
      "[I 2025-01-05 13:56:01,303] Trial 25 finished with value: 0.0386958636152821 and parameters: {'similarity': 'cosine', 'topK': 132, 'shrink': 166, 'feature_weighting': 'TF-IDF'}. Best is trial 6 with value: 0.03882455742842482.\n"
     ]
    },
    {
     "name": "stdout",
     "output_type": "stream",
     "text": [
      "Similarity column 35736 (100.0%), 370.75 column/sec. Elapsed time 1.61 min\n",
      "EvaluatorHoldout: Ignoring 173 ( 0.5%) Users that have less than 1 test interactions\n",
      "EvaluatorHoldout: Processed 35563 (100.0%) in 35.11 sec. Users per second: 1013\n",
      "Similarity column 35736 (100.0%), 382.99 column/sec. Elapsed time 1.56 min\n",
      "EvaluatorHoldout: Ignoring 163 ( 0.5%) Users that have less than 1 test interactions\n",
      "EvaluatorHoldout: Processed 35573 (100.0%) in 35.20 sec. Users per second: 1011\n",
      "Similarity column 35736 (100.0%), 377.48 column/sec. Elapsed time 1.58 min\n",
      "EvaluatorHoldout: Ignoring 150 ( 0.4%) Users that have less than 1 test interactions\n",
      "EvaluatorHoldout: Processed 35586 (100.0%) in 35.31 sec. Users per second: 1008\n",
      "Similarity column 35736 (100.0%), 371.63 column/sec. Elapsed time 1.60 min\n",
      "EvaluatorHoldout: Ignoring 167 ( 0.5%) Users that have less than 1 test interactions\n",
      "EvaluatorHoldout: Processed 35569 (100.0%) in 35.19 sec. Users per second: 1011\n",
      "Similarity column 35736 (100.0%), 385.42 column/sec. Elapsed time 1.55 min\n",
      "EvaluatorHoldout: Ignoring 172 ( 0.5%) Users that have less than 1 test interactions\n",
      "EvaluatorHoldout: Processed 35564 (100.0%) in 35.32 sec. Users per second: 1007\n"
     ]
    },
    {
     "name": "stderr",
     "output_type": "stream",
     "text": [
      "[I 2025-01-05 14:06:53,344] Trial 26 finished with value: 0.01052096284159112 and parameters: {'similarity': 'euclidean', 'topK': 228, 'shrink': 2, 'feature_weighting': 'TF-IDF', 'normalize_avg_row': True, 'similarity_from_distance_mode': 'exp', 'normalize': False}. Best is trial 6 with value: 0.03882455742842482.\n"
     ]
    },
    {
     "name": "stdout",
     "output_type": "stream",
     "text": [
      "Similarity column 35736 (100.0%), 3002.84 column/sec. Elapsed time 11.90 sec\n",
      "EvaluatorHoldout: Ignoring 173 ( 0.5%) Users that have less than 1 test interactions\n",
      "EvaluatorHoldout: Processed 35563 (100.0%) in 50.74 sec. Users per second: 701\n",
      "Similarity column 35736 (100.0%), 3007.43 column/sec. Elapsed time 11.88 sec\n",
      "EvaluatorHoldout: Ignoring 163 ( 0.5%) Users that have less than 1 test interactions\n",
      "EvaluatorHoldout: Processed 35573 (100.0%) in 50.66 sec. Users per second: 702\n",
      "Similarity column 35736 (100.0%), 2994.41 column/sec. Elapsed time 11.93 sec\n",
      "EvaluatorHoldout: Ignoring 150 ( 0.4%) Users that have less than 1 test interactions\n",
      "EvaluatorHoldout: Processed 35586 (100.0%) in 50.91 sec. Users per second: 699\n",
      "Similarity column 35736 (100.0%), 3005.40 column/sec. Elapsed time 11.89 sec\n",
      "EvaluatorHoldout: Ignoring 167 ( 0.5%) Users that have less than 1 test interactions\n",
      "EvaluatorHoldout: Processed 35569 (100.0%) in 50.57 sec. Users per second: 703\n",
      "Similarity column 35736 (100.0%), 2994.17 column/sec. Elapsed time 11.94 sec\n",
      "EvaluatorHoldout: Ignoring 172 ( 0.5%) Users that have less than 1 test interactions\n",
      "EvaluatorHoldout: Processed 35564 (100.0%) in 50.77 sec. Users per second: 701\n"
     ]
    },
    {
     "name": "stderr",
     "output_type": "stream",
     "text": [
      "[I 2025-01-05 14:12:11,803] Trial 27 finished with value: 0.03697661949748708 and parameters: {'similarity': 'asymmetric', 'topK': 333, 'shrink': 265, 'feature_weighting': 'TF-IDF', 'asymmetric_alpha': 0.001614986365835458}. Best is trial 6 with value: 0.03882455742842482.\n"
     ]
    },
    {
     "name": "stdout",
     "output_type": "stream",
     "text": [
      "Similarity column 35736 (100.0%), 3142.86 column/sec. Elapsed time 11.37 sec\n",
      "EvaluatorHoldout: Ignoring 173 ( 0.5%) Users that have less than 1 test interactions\n",
      "EvaluatorHoldout: Processed 35563 (100.0%) in 52.47 sec. Users per second: 678\n",
      "Similarity column 35736 (100.0%), 3152.93 column/sec. Elapsed time 11.33 sec\n",
      "EvaluatorHoldout: Ignoring 163 ( 0.5%) Users that have less than 1 test interactions\n",
      "EvaluatorHoldout: Processed 35573 (100.0%) in 52.44 sec. Users per second: 678\n",
      "Similarity column 35736 (100.0%), 3147.13 column/sec. Elapsed time 11.36 sec\n",
      "EvaluatorHoldout: Ignoring 150 ( 0.4%) Users that have less than 1 test interactions\n",
      "EvaluatorHoldout: Processed 35586 (100.0%) in 52.71 sec. Users per second: 675\n",
      "Similarity column 35736 (100.0%), 3138.94 column/sec. Elapsed time 11.38 sec\n",
      "EvaluatorHoldout: Ignoring 167 ( 0.5%) Users that have less than 1 test interactions\n",
      "EvaluatorHoldout: Processed 35569 (100.0%) in 52.81 sec. Users per second: 674\n",
      "Similarity column 35736 (100.0%), 3140.39 column/sec. Elapsed time 11.38 sec\n",
      "EvaluatorHoldout: Ignoring 172 ( 0.5%) Users that have less than 1 test interactions\n",
      "EvaluatorHoldout: Processed 35564 (100.0%) in 52.79 sec. Users per second: 674\n"
     ]
    },
    {
     "name": "stderr",
     "output_type": "stream",
     "text": [
      "[I 2025-01-05 14:17:38,426] Trial 28 finished with value: 0.03743385492120776 and parameters: {'similarity': 'jaccard', 'topK': 447, 'shrink': 487, 'feature_weighting': 'BM25'}. Best is trial 6 with value: 0.03882455742842482.\n"
     ]
    },
    {
     "name": "stdout",
     "output_type": "stream",
     "text": [
      "Similarity column 35736 (100.0%), 3167.32 column/sec. Elapsed time 11.28 sec\n",
      "EvaluatorHoldout: Ignoring 173 ( 0.5%) Users that have less than 1 test interactions\n",
      "EvaluatorHoldout: Processed 35563 (100.0%) in 59.81 sec. Users per second: 595\n",
      "Similarity column 35736 (100.0%), 3155.47 column/sec. Elapsed time 11.33 sec\n",
      "EvaluatorHoldout: Ignoring 163 ( 0.5%) Users that have less than 1 test interactions\n",
      "EvaluatorHoldout: Processed 35573 (100.0%) in 59.05 sec. Users per second: 602\n",
      "Similarity column 35736 (100.0%), 3131.11 column/sec. Elapsed time 11.41 sec\n",
      "EvaluatorHoldout: Ignoring 150 ( 0.4%) Users that have less than 1 test interactions\n",
      "EvaluatorHoldout: Processed 35586 (100.0%) in 59.86 sec. Users per second: 594\n",
      "Similarity column 35736 (100.0%), 3163.47 column/sec. Elapsed time 11.30 sec\n",
      "EvaluatorHoldout: Ignoring 167 ( 0.5%) Users that have less than 1 test interactions\n",
      "EvaluatorHoldout: Processed 35569 (100.0%) in 59.54 sec. Users per second: 597\n",
      "Similarity column 35736 (100.0%), 3154.76 column/sec. Elapsed time 11.33 sec\n",
      "EvaluatorHoldout: Ignoring 172 ( 0.5%) Users that have less than 1 test interactions\n",
      "EvaluatorHoldout: Processed 35564 (100.0%) in 59.54 sec. Users per second: 597\n"
     ]
    },
    {
     "name": "stderr",
     "output_type": "stream",
     "text": [
      "[I 2025-01-05 14:23:40,925] Trial 29 finished with value: 0.03344925214369809 and parameters: {'similarity': 'dice', 'topK': 677, 'shrink': 982, 'feature_weighting': 'none'}. Best is trial 6 with value: 0.03882455742842482.\n"
     ]
    },
    {
     "name": "stdout",
     "output_type": "stream",
     "text": [
      "Similarity column 35736 (100.0%), 2985.67 column/sec. Elapsed time 11.97 sec\n",
      "EvaluatorHoldout: Ignoring 173 ( 0.5%) Users that have less than 1 test interactions\n",
      "EvaluatorHoldout: Processed 35563 (100.0%) in 54.66 sec. Users per second: 651\n",
      "Similarity column 35736 (100.0%), 3005.86 column/sec. Elapsed time 11.89 sec\n",
      "EvaluatorHoldout: Ignoring 163 ( 0.5%) Users that have less than 1 test interactions\n",
      "EvaluatorHoldout: Processed 35573 (100.0%) in 54.21 sec. Users per second: 656\n",
      "Similarity column 35736 (100.0%), 2993.69 column/sec. Elapsed time 11.94 sec\n",
      "EvaluatorHoldout: Ignoring 150 ( 0.4%) Users that have less than 1 test interactions\n",
      "EvaluatorHoldout: Processed 35586 (100.0%) in 54.35 sec. Users per second: 655\n",
      "Similarity column 35736 (100.0%), 3017.19 column/sec. Elapsed time 11.84 sec\n",
      "EvaluatorHoldout: Ignoring 167 ( 0.5%) Users that have less than 1 test interactions\n",
      "EvaluatorHoldout: Processed 35569 (100.0%) in 54.21 sec. Users per second: 656\n",
      "Similarity column 35736 (100.0%), 3007.05 column/sec. Elapsed time 11.88 sec\n",
      "EvaluatorHoldout: Ignoring 172 ( 0.5%) Users that have less than 1 test interactions\n",
      "EvaluatorHoldout: Processed 35564 (100.0%) in 54.56 sec. Users per second: 652\n"
     ]
    },
    {
     "name": "stderr",
     "output_type": "stream",
     "text": [
      "[I 2025-01-05 14:29:18,031] Trial 30 finished with value: 0.034729761085852996 and parameters: {'similarity': 'cosine', 'topK': 492, 'shrink': 379, 'feature_weighting': 'none'}. Best is trial 6 with value: 0.03882455742842482.\n"
     ]
    },
    {
     "name": "stdout",
     "output_type": "stream",
     "text": [
      "Similarity column 35736 (100.0%), 3066.69 column/sec. Elapsed time 11.65 sec\n",
      "EvaluatorHoldout: Ignoring 173 ( 0.5%) Users that have less than 1 test interactions\n",
      "EvaluatorHoldout: Processed 35563 (100.0%) in 47.93 sec. Users per second: 742\n",
      "Similarity column 35736 (100.0%), 3064.34 column/sec. Elapsed time 11.66 sec\n",
      "EvaluatorHoldout: Ignoring 163 ( 0.5%) Users that have less than 1 test interactions\n",
      "EvaluatorHoldout: Processed 35573 (100.0%) in 48.02 sec. Users per second: 741\n",
      "Similarity column 35736 (100.0%), 3076.11 column/sec. Elapsed time 11.62 sec\n",
      "EvaluatorHoldout: Ignoring 150 ( 0.4%) Users that have less than 1 test interactions\n",
      "EvaluatorHoldout: Processed 35586 (100.0%) in 48.30 sec. Users per second: 737\n",
      "Similarity column 35736 (100.0%), 3065.84 column/sec. Elapsed time 11.66 sec\n",
      "EvaluatorHoldout: Ignoring 167 ( 0.5%) Users that have less than 1 test interactions\n",
      "EvaluatorHoldout: Processed 35569 (100.0%) in 47.44 sec. Users per second: 750\n",
      "Similarity column 35736 (100.0%), 3067.89 column/sec. Elapsed time 11.65 sec\n",
      "EvaluatorHoldout: Ignoring 172 ( 0.5%) Users that have less than 1 test interactions\n",
      "EvaluatorHoldout: Processed 35564 (100.0%) in 47.79 sec. Users per second: 744\n"
     ]
    },
    {
     "name": "stderr",
     "output_type": "stream",
     "text": [
      "[I 2025-01-05 14:34:19,712] Trial 31 finished with value: 0.03880283408727345 and parameters: {'similarity': 'cosine', 'topK': 238, 'shrink': 263, 'feature_weighting': 'TF-IDF'}. Best is trial 6 with value: 0.03882455742842482.\n"
     ]
    },
    {
     "name": "stdout",
     "output_type": "stream",
     "text": [
      "Similarity column 35736 (100.0%), 3081.13 column/sec. Elapsed time 11.60 sec\n",
      "EvaluatorHoldout: Ignoring 173 ( 0.5%) Users that have less than 1 test interactions\n",
      "EvaluatorHoldout: Processed 35563 (100.0%) in 45.40 sec. Users per second: 783\n",
      "Similarity column 35736 (100.0%), 3093.47 column/sec. Elapsed time 11.55 sec\n",
      "EvaluatorHoldout: Ignoring 163 ( 0.5%) Users that have less than 1 test interactions\n",
      "EvaluatorHoldout: Processed 35573 (100.0%) in 45.43 sec. Users per second: 783\n",
      "Similarity column 35736 (100.0%), 3092.91 column/sec. Elapsed time 11.55 sec\n",
      "EvaluatorHoldout: Ignoring 150 ( 0.4%) Users that have less than 1 test interactions\n",
      "EvaluatorHoldout: Processed 35586 (100.0%) in 45.48 sec. Users per second: 782\n",
      "Similarity column 35736 (100.0%), 3090.68 column/sec. Elapsed time 11.56 sec\n",
      "EvaluatorHoldout: Ignoring 167 ( 0.5%) Users that have less than 1 test interactions\n",
      "EvaluatorHoldout: Processed 35569 (100.0%) in 45.35 sec. Users per second: 784\n",
      "Similarity column 35736 (100.0%), 3089.88 column/sec. Elapsed time 11.57 sec\n",
      "EvaluatorHoldout: Ignoring 172 ( 0.5%) Users that have less than 1 test interactions\n",
      "EvaluatorHoldout: Processed 35564 (100.0%) in 45.31 sec. Users per second: 785\n"
     ]
    },
    {
     "name": "stderr",
     "output_type": "stream",
     "text": [
      "[I 2025-01-05 14:39:07,653] Trial 32 finished with value: 0.03897912078738226 and parameters: {'similarity': 'cosine', 'topK': 175, 'shrink': 185, 'feature_weighting': 'TF-IDF'}. Best is trial 32 with value: 0.03897912078738226.\n"
     ]
    },
    {
     "name": "stdout",
     "output_type": "stream",
     "text": [
      "Similarity column 35736 (100.0%), 2918.88 column/sec. Elapsed time 12.24 sec\n",
      "EvaluatorHoldout: Ignoring 173 ( 0.5%) Users that have less than 1 test interactions\n",
      "EvaluatorHoldout: Processed 35563 (100.0%) in 42.86 sec. Users per second: 830\n",
      "Similarity column 35736 (100.0%), 2931.17 column/sec. Elapsed time 12.19 sec\n",
      "EvaluatorHoldout: Ignoring 163 ( 0.5%) Users that have less than 1 test interactions\n",
      "EvaluatorHoldout: Processed 35573 (100.0%) in 43.05 sec. Users per second: 826\n",
      "Similarity column 35736 (100.0%), 2950.58 column/sec. Elapsed time 12.11 sec\n",
      "EvaluatorHoldout: Ignoring 150 ( 0.4%) Users that have less than 1 test interactions\n",
      "EvaluatorHoldout: Processed 35586 (100.0%) in 43.14 sec. Users per second: 825\n",
      "Similarity column 35736 (100.0%), 2925.67 column/sec. Elapsed time 12.21 sec\n",
      "EvaluatorHoldout: Ignoring 167 ( 0.5%) Users that have less than 1 test interactions\n",
      "EvaluatorHoldout: Processed 35569 (100.0%) in 43.40 sec. Users per second: 820\n",
      "Similarity column 35736 (100.0%), 2916.34 column/sec. Elapsed time 12.25 sec\n",
      "EvaluatorHoldout: Ignoring 172 ( 0.5%) Users that have less than 1 test interactions\n",
      "EvaluatorHoldout: Processed 35564 (100.0%) in 43.02 sec. Users per second: 827\n"
     ]
    },
    {
     "name": "stderr",
     "output_type": "stream",
     "text": [
      "[I 2025-01-05 14:43:48,068] Trial 33 finished with value: 0.03608331516471448 and parameters: {'similarity': 'tversky', 'topK': 161, 'shrink': 150, 'feature_weighting': 'TF-IDF', 'tversky_alpha': 0.02488167405374897, 'tversky_beta': 0.07898641759245595}. Best is trial 32 with value: 0.03897912078738226.\n"
     ]
    },
    {
     "name": "stdout",
     "output_type": "stream",
     "text": [
      "Similarity column 35736 (100.0%), 3123.82 column/sec. Elapsed time 11.44 sec\n",
      "EvaluatorHoldout: Ignoring 173 ( 0.5%) Users that have less than 1 test interactions\n",
      "EvaluatorHoldout: Processed 35563 (100.0%) in 39.83 sec. Users per second: 893\n",
      "Similarity column 35736 (100.0%), 3123.90 column/sec. Elapsed time 11.44 sec\n",
      "EvaluatorHoldout: Ignoring 163 ( 0.5%) Users that have less than 1 test interactions\n",
      "EvaluatorHoldout: Processed 35573 (100.0%) in 40.11 sec. Users per second: 887\n",
      "Similarity column 35736 (100.0%), 3103.22 column/sec. Elapsed time 11.52 sec\n",
      "EvaluatorHoldout: Ignoring 150 ( 0.4%) Users that have less than 1 test interactions\n",
      "EvaluatorHoldout: Processed 35586 (100.0%) in 39.82 sec. Users per second: 894\n",
      "Similarity column 35736 (100.0%), 3129.39 column/sec. Elapsed time 11.42 sec\n",
      "EvaluatorHoldout: Ignoring 167 ( 0.5%) Users that have less than 1 test interactions\n",
      "EvaluatorHoldout: Processed 35569 (100.0%) in 39.98 sec. Users per second: 890\n",
      "Similarity column 35736 (100.0%), 3111.00 column/sec. Elapsed time 11.49 sec\n",
      "EvaluatorHoldout: Ignoring 172 ( 0.5%) Users that have less than 1 test interactions\n",
      "EvaluatorHoldout: Processed 35564 (100.0%) in 40.04 sec. Users per second: 888\n"
     ]
    },
    {
     "name": "stderr",
     "output_type": "stream",
     "text": [
      "[I 2025-01-05 14:48:07,355] Trial 34 finished with value: 0.03567220195251934 and parameters: {'similarity': 'cosine', 'topK': 61, 'shrink': 57, 'feature_weighting': 'TF-IDF'}. Best is trial 32 with value: 0.03897912078738226.\n"
     ]
    },
    {
     "name": "stdout",
     "output_type": "stream",
     "text": [
      "Similarity column 35736 (100.0%), 3029.73 column/sec. Elapsed time 11.80 sec\n",
      "EvaluatorHoldout: Ignoring 173 ( 0.5%) Users that have less than 1 test interactions\n",
      "EvaluatorHoldout: Processed 35563 (100.0%) in 45.81 sec. Users per second: 776\n",
      "Similarity column 35736 (100.0%), 3061.17 column/sec. Elapsed time 11.67 sec\n",
      "EvaluatorHoldout: Ignoring 163 ( 0.5%) Users that have less than 1 test interactions\n",
      "EvaluatorHoldout: Processed 35573 (100.0%) in 45.65 sec. Users per second: 779\n",
      "Similarity column 35736 (100.0%), 3082.95 column/sec. Elapsed time 11.59 sec\n",
      "EvaluatorHoldout: Ignoring 150 ( 0.4%) Users that have less than 1 test interactions\n",
      "EvaluatorHoldout: Processed 35586 (100.0%) in 45.76 sec. Users per second: 778\n",
      "Similarity column 35736 (100.0%), 3086.49 column/sec. Elapsed time 11.58 sec\n",
      "EvaluatorHoldout: Ignoring 167 ( 0.5%) Users that have less than 1 test interactions\n",
      "EvaluatorHoldout: Processed 35569 (100.0%) in 45.61 sec. Users per second: 780\n",
      "Similarity column 35736 (100.0%), 3085.68 column/sec. Elapsed time 11.58 sec\n",
      "EvaluatorHoldout: Ignoring 172 ( 0.5%) Users that have less than 1 test interactions\n",
      "EvaluatorHoldout: Processed 35564 (100.0%) in 45.62 sec. Users per second: 779\n"
     ]
    },
    {
     "name": "stderr",
     "output_type": "stream",
     "text": [
      "[I 2025-01-05 14:52:57,248] Trial 35 finished with value: 0.038989590832045784 and parameters: {'similarity': 'cosine', 'topK': 183, 'shrink': 284, 'feature_weighting': 'TF-IDF'}. Best is trial 35 with value: 0.038989590832045784.\n"
     ]
    },
    {
     "name": "stdout",
     "output_type": "stream",
     "text": [
      "Similarity column 35736 (100.0%), 3191.02 column/sec. Elapsed time 11.20 sec\n",
      "EvaluatorHoldout: Ignoring 173 ( 0.5%) Users that have less than 1 test interactions\n",
      "EvaluatorHoldout: Processed 35563 (100.0%) in 44.51 sec. Users per second: 799\n",
      "Similarity column 35736 (100.0%), 3188.70 column/sec. Elapsed time 11.21 sec\n",
      "EvaluatorHoldout: Ignoring 163 ( 0.5%) Users that have less than 1 test interactions\n",
      "EvaluatorHoldout: Processed 35573 (100.0%) in 44.29 sec. Users per second: 803\n",
      "Similarity column 35736 (100.0%), 3231.33 column/sec. Elapsed time 11.06 sec\n",
      "EvaluatorHoldout: Ignoring 150 ( 0.4%) Users that have less than 1 test interactions\n",
      "EvaluatorHoldout: Processed 35586 (100.0%) in 44.46 sec. Users per second: 800\n",
      "Similarity column 35736 (100.0%), 3236.21 column/sec. Elapsed time 11.04 sec\n",
      "EvaluatorHoldout: Ignoring 167 ( 0.5%) Users that have less than 1 test interactions\n",
      "EvaluatorHoldout: Processed 35569 (100.0%) in 44.22 sec. Users per second: 804\n",
      "Similarity column 35736 (100.0%), 3241.78 column/sec. Elapsed time 11.02 sec\n",
      "EvaluatorHoldout: Ignoring 172 ( 0.5%) Users that have less than 1 test interactions\n",
      "EvaluatorHoldout: Processed 35564 (100.0%) in 44.41 sec. Users per second: 801\n"
     ]
    },
    {
     "name": "stderr",
     "output_type": "stream",
     "text": [
      "[I 2025-01-05 14:57:38,665] Trial 36 finished with value: 0.03718364173126744 and parameters: {'similarity': 'jaccard', 'topK': 185, 'shrink': 294, 'feature_weighting': 'TF-IDF'}. Best is trial 35 with value: 0.038989590832045784.\n"
     ]
    },
    {
     "name": "stdout",
     "output_type": "stream",
     "text": [
      "Similarity column 35736 (100.0%), 2982.05 column/sec. Elapsed time 11.98 sec\n",
      "EvaluatorHoldout: Ignoring 173 ( 0.5%) Users that have less than 1 test interactions\n",
      "EvaluatorHoldout: Processed 35563 (100.0%) in 40.90 sec. Users per second: 870\n",
      "Similarity column 35736 (100.0%), 3004.29 column/sec. Elapsed time 11.90 sec\n",
      "EvaluatorHoldout: Ignoring 163 ( 0.5%) Users that have less than 1 test interactions\n",
      "EvaluatorHoldout: Processed 35573 (100.0%) in 40.90 sec. Users per second: 870\n",
      "Similarity column 35736 (100.0%), 3005.43 column/sec. Elapsed time 11.89 sec\n",
      "EvaluatorHoldout: Ignoring 150 ( 0.4%) Users that have less than 1 test interactions\n",
      "EvaluatorHoldout: Processed 35586 (100.0%) in 40.84 sec. Users per second: 871\n",
      "Similarity column 35736 (100.0%), 2984.69 column/sec. Elapsed time 11.97 sec\n",
      "EvaluatorHoldout: Ignoring 167 ( 0.5%) Users that have less than 1 test interactions\n",
      "EvaluatorHoldout: Processed 35569 (100.0%) in 40.89 sec. Users per second: 870\n",
      "Similarity column 35736 (100.0%), 2966.95 column/sec. Elapsed time 12.04 sec\n",
      "EvaluatorHoldout: Ignoring 172 ( 0.5%) Users that have less than 1 test interactions\n",
      "EvaluatorHoldout: Processed 35564 (100.0%) in 41.33 sec. Users per second: 861\n"
     ]
    },
    {
     "name": "stderr",
     "output_type": "stream",
     "text": [
      "[I 2025-01-05 15:02:06,025] Trial 37 finished with value: 0.03435241197641509 and parameters: {'similarity': 'tversky', 'topK': 106, 'shrink': 522, 'feature_weighting': 'none', 'tversky_alpha': 0.005762861884655246, 'tversky_beta': 0.7431800220371774}. Best is trial 35 with value: 0.038989590832045784.\n"
     ]
    },
    {
     "name": "stdout",
     "output_type": "stream",
     "text": [
      "Similarity column 35736 (100.0%), 3145.70 column/sec. Elapsed time 11.36 sec\n",
      "EvaluatorHoldout: Ignoring 173 ( 0.5%) Users that have less than 1 test interactions\n",
      "EvaluatorHoldout: Processed 35563 (100.0%) in 44.63 sec. Users per second: 797\n",
      "Similarity column 35736 (100.0%), 3105.48 column/sec. Elapsed time 11.51 sec\n",
      "EvaluatorHoldout: Ignoring 163 ( 0.5%) Users that have less than 1 test interactions\n",
      "EvaluatorHoldout: Processed 35573 (100.0%) in 45.21 sec. Users per second: 787\n",
      "Similarity column 35736 (100.0%), 3090.77 column/sec. Elapsed time 11.56 sec\n",
      "EvaluatorHoldout: Ignoring 150 ( 0.4%) Users that have less than 1 test interactions\n",
      "EvaluatorHoldout: Processed 35586 (100.0%) in 44.61 sec. Users per second: 798\n",
      "Similarity column 35736 (100.0%), 3112.63 column/sec. Elapsed time 11.48 sec\n",
      "EvaluatorHoldout: Ignoring 167 ( 0.5%) Users that have less than 1 test interactions\n",
      "EvaluatorHoldout: Processed 35569 (100.0%) in 44.57 sec. Users per second: 798\n",
      "Similarity column 35736 (100.0%), 3114.77 column/sec. Elapsed time 11.47 sec\n",
      "EvaluatorHoldout: Ignoring 172 ( 0.5%) Users that have less than 1 test interactions\n",
      "EvaluatorHoldout: Processed 35564 (100.0%) in 44.56 sec. Users per second: 798\n"
     ]
    },
    {
     "name": "stderr",
     "output_type": "stream",
     "text": [
      "[I 2025-01-05 15:06:49,938] Trial 38 finished with value: 0.03897699101948849 and parameters: {'similarity': 'cosine', 'topK': 166, 'shrink': 391, 'feature_weighting': 'TF-IDF'}. Best is trial 35 with value: 0.038989590832045784.\n"
     ]
    },
    {
     "name": "stdout",
     "output_type": "stream",
     "text": [
      "Similarity column 35736 (100.0%), 3338.30 column/sec. Elapsed time 10.70 sec\n",
      "EvaluatorHoldout: Ignoring 173 ( 0.5%) Users that have less than 1 test interactions\n",
      "EvaluatorHoldout: Processed 35563 (100.0%) in 30.84 sec. Users per second: 1153\n",
      "Similarity column 35736 (100.0%), 3329.93 column/sec. Elapsed time 10.73 sec\n",
      "EvaluatorHoldout: Ignoring 163 ( 0.5%) Users that have less than 1 test interactions\n",
      "EvaluatorHoldout: Processed 35573 (100.0%) in 31.05 sec. Users per second: 1146\n",
      "Similarity column 35736 (100.0%), 3299.84 column/sec. Elapsed time 10.83 sec\n",
      "EvaluatorHoldout: Ignoring 150 ( 0.4%) Users that have less than 1 test interactions\n",
      "EvaluatorHoldout: Processed 35586 (100.0%) in 30.87 sec. Users per second: 1153\n",
      "Similarity column 35736 (100.0%), 3327.44 column/sec. Elapsed time 10.74 sec\n",
      "EvaluatorHoldout: Ignoring 167 ( 0.5%) Users that have less than 1 test interactions\n",
      "EvaluatorHoldout: Processed 35569 (100.0%) in 30.93 sec. Users per second: 1150\n",
      "Similarity column 35736 (100.0%), 3313.50 column/sec. Elapsed time 10.78 sec\n",
      "EvaluatorHoldout: Ignoring 172 ( 0.5%) Users that have less than 1 test interactions\n",
      "EvaluatorHoldout: Processed 35564 (100.0%) in 30.86 sec. Users per second: 1152\n"
     ]
    },
    {
     "name": "stderr",
     "output_type": "stream",
     "text": [
      "[I 2025-01-05 15:10:20,791] Trial 39 finished with value: 0.010666893236326858 and parameters: {'similarity': 'jaccard', 'topK': 4, 'shrink': 594, 'feature_weighting': 'TF-IDF'}. Best is trial 35 with value: 0.038989590832045784.\n"
     ]
    },
    {
     "name": "stdout",
     "output_type": "stream",
     "text": [
      "Similarity column 35736 (100.0%), 3200.00 column/sec. Elapsed time 11.17 sec\n",
      "EvaluatorHoldout: Ignoring 173 ( 0.5%) Users that have less than 1 test interactions\n",
      "EvaluatorHoldout: Processed 35563 (100.0%) in 37.54 sec. Users per second: 947\n",
      "Similarity column 35736 (100.0%), 3191.96 column/sec. Elapsed time 11.20 sec\n",
      "EvaluatorHoldout: Ignoring 163 ( 0.5%) Users that have less than 1 test interactions\n",
      "EvaluatorHoldout: Processed 35573 (100.0%) in 37.69 sec. Users per second: 944\n",
      "Similarity column 35736 (100.0%), 3207.31 column/sec. Elapsed time 11.14 sec\n",
      "EvaluatorHoldout: Ignoring 150 ( 0.4%) Users that have less than 1 test interactions\n",
      "EvaluatorHoldout: Processed 35586 (100.0%) in 37.81 sec. Users per second: 941\n",
      "Similarity column 35736 (100.0%), 3227.53 column/sec. Elapsed time 11.07 sec\n",
      "EvaluatorHoldout: Ignoring 167 ( 0.5%) Users that have less than 1 test interactions\n",
      "EvaluatorHoldout: Processed 35569 (100.0%) in 37.58 sec. Users per second: 946\n",
      "Similarity column 35736 (100.0%), 3192.03 column/sec. Elapsed time 11.20 sec\n",
      "EvaluatorHoldout: Ignoring 172 ( 0.5%) Users that have less than 1 test interactions\n",
      "EvaluatorHoldout: Processed 35564 (100.0%) in 37.59 sec. Users per second: 946\n"
     ]
    },
    {
     "name": "stderr",
     "output_type": "stream",
     "text": [
      "[I 2025-01-05 15:14:26,991] Trial 40 finished with value: 0.025895924580448194 and parameters: {'similarity': 'asymmetric', 'topK': 85, 'shrink': 396, 'feature_weighting': 'BM25', 'asymmetric_alpha': 1.9456221173510102}. Best is trial 35 with value: 0.038989590832045784.\n"
     ]
    },
    {
     "name": "stdout",
     "output_type": "stream",
     "text": [
      "Similarity column 35736 (100.0%), 3122.12 column/sec. Elapsed time 11.45 sec\n",
      "EvaluatorHoldout: Ignoring 173 ( 0.5%) Users that have less than 1 test interactions\n",
      "EvaluatorHoldout: Processed 35563 (100.0%) in 45.06 sec. Users per second: 789\n",
      "Similarity column 35736 (100.0%), 3135.76 column/sec. Elapsed time 11.40 sec\n",
      "EvaluatorHoldout: Ignoring 163 ( 0.5%) Users that have less than 1 test interactions\n",
      "EvaluatorHoldout: Processed 35573 (100.0%) in 45.40 sec. Users per second: 784\n",
      "Similarity column 35736 (100.0%), 3116.85 column/sec. Elapsed time 11.47 sec\n",
      "EvaluatorHoldout: Ignoring 150 ( 0.4%) Users that have less than 1 test interactions\n",
      "EvaluatorHoldout: Processed 35586 (100.0%) in 45.13 sec. Users per second: 789\n",
      "Similarity column 35736 (100.0%), 3057.50 column/sec. Elapsed time 11.69 sec\n",
      "EvaluatorHoldout: Ignoring 167 ( 0.5%) Users that have less than 1 test interactions\n",
      "EvaluatorHoldout: Processed 35569 (100.0%) in 44.87 sec. Users per second: 793\n",
      "Similarity column 35736 (100.0%), 3096.53 column/sec. Elapsed time 11.54 sec\n",
      "EvaluatorHoldout: Ignoring 172 ( 0.5%) Users that have less than 1 test interactions\n",
      "EvaluatorHoldout: Processed 35564 (100.0%) in 44.88 sec. Users per second: 792\n"
     ]
    },
    {
     "name": "stderr",
     "output_type": "stream",
     "text": [
      "[I 2025-01-05 15:19:12,898] Trial 41 finished with value: 0.03895160821938885 and parameters: {'similarity': 'cosine', 'topK': 172, 'shrink': 292, 'feature_weighting': 'TF-IDF'}. Best is trial 35 with value: 0.038989590832045784.\n"
     ]
    },
    {
     "name": "stdout",
     "output_type": "stream",
     "text": [
      "Similarity column 35736 (100.0%), 3124.57 column/sec. Elapsed time 11.44 sec\n",
      "EvaluatorHoldout: Ignoring 173 ( 0.5%) Users that have less than 1 test interactions\n",
      "EvaluatorHoldout: Processed 35563 (100.0%) in 44.63 sec. Users per second: 797\n",
      "Similarity column 35736 (100.0%), 3132.97 column/sec. Elapsed time 11.41 sec\n",
      "EvaluatorHoldout: Ignoring 163 ( 0.5%) Users that have less than 1 test interactions\n",
      "EvaluatorHoldout: Processed 35573 (100.0%) in 44.32 sec. Users per second: 803\n",
      "Similarity column 35736 (100.0%), 3118.98 column/sec. Elapsed time 11.46 sec\n",
      "EvaluatorHoldout: Ignoring 150 ( 0.4%) Users that have less than 1 test interactions\n",
      "EvaluatorHoldout: Processed 35586 (100.0%) in 44.51 sec. Users per second: 799\n",
      "Similarity column 35736 (100.0%), 3054.74 column/sec. Elapsed time 11.70 sec\n",
      "EvaluatorHoldout: Ignoring 167 ( 0.5%) Users that have less than 1 test interactions\n",
      "EvaluatorHoldout: Processed 35569 (100.0%) in 44.79 sec. Users per second: 794\n",
      "Similarity column 35736 (100.0%), 3113.33 column/sec. Elapsed time 11.48 sec\n",
      "EvaluatorHoldout: Ignoring 172 ( 0.5%) Users that have less than 1 test interactions\n",
      "EvaluatorHoldout: Processed 35564 (100.0%) in 44.60 sec. Users per second: 797\n"
     ]
    },
    {
     "name": "stderr",
     "output_type": "stream",
     "text": [
      "[I 2025-01-05 15:23:56,095] Trial 42 finished with value: 0.038941289084112374 and parameters: {'similarity': 'cosine', 'topK': 162, 'shrink': 472, 'feature_weighting': 'TF-IDF'}. Best is trial 35 with value: 0.038989590832045784.\n"
     ]
    },
    {
     "name": "stdout",
     "output_type": "stream",
     "text": [
      "Similarity column 35736 (100.0%), 3096.68 column/sec. Elapsed time 11.54 sec\n",
      "EvaluatorHoldout: Ignoring 173 ( 0.5%) Users that have less than 1 test interactions\n",
      "EvaluatorHoldout: Processed 35563 (100.0%) in 44.81 sec. Users per second: 794\n",
      "Similarity column 35736 (100.0%), 3130.60 column/sec. Elapsed time 11.42 sec\n",
      "EvaluatorHoldout: Ignoring 163 ( 0.5%) Users that have less than 1 test interactions\n",
      "EvaluatorHoldout: Processed 35573 (100.0%) in 44.98 sec. Users per second: 791\n",
      "Similarity column 35736 (100.0%), 3124.41 column/sec. Elapsed time 11.44 sec\n",
      "EvaluatorHoldout: Ignoring 150 ( 0.4%) Users that have less than 1 test interactions\n",
      "EvaluatorHoldout: Processed 35586 (100.0%) in 44.74 sec. Users per second: 795\n",
      "Similarity column 35736 (100.0%), 3081.33 column/sec. Elapsed time 11.60 sec\n",
      "EvaluatorHoldout: Ignoring 167 ( 0.5%) Users that have less than 1 test interactions\n",
      "EvaluatorHoldout: Processed 35569 (100.0%) in 45.03 sec. Users per second: 790\n",
      "Similarity column 35736 (100.0%), 3114.38 column/sec. Elapsed time 11.47 sec\n",
      "EvaluatorHoldout: Ignoring 172 ( 0.5%) Users that have less than 1 test interactions\n",
      "EvaluatorHoldout: Processed 35564 (100.0%) in 44.99 sec. Users per second: 790\n"
     ]
    },
    {
     "name": "stderr",
     "output_type": "stream",
     "text": [
      "[I 2025-01-05 15:28:41,146] Trial 43 finished with value: 0.038939554483515805 and parameters: {'similarity': 'cosine', 'topK': 167, 'shrink': 462, 'feature_weighting': 'TF-IDF'}. Best is trial 35 with value: 0.038989590832045784.\n"
     ]
    },
    {
     "name": "stdout",
     "output_type": "stream",
     "text": [
      "Similarity column 35736 (100.0%), 3095.95 column/sec. Elapsed time 11.54 sec\n",
      "EvaluatorHoldout: Ignoring 173 ( 0.5%) Users that have less than 1 test interactions\n",
      "EvaluatorHoldout: Processed 35563 (100.0%) in 46.31 sec. Users per second: 768\n",
      "Similarity column 35736 (100.0%), 3107.14 column/sec. Elapsed time 11.50 sec\n",
      "EvaluatorHoldout: Ignoring 163 ( 0.5%) Users that have less than 1 test interactions\n",
      "EvaluatorHoldout: Processed 35573 (100.0%) in 46.16 sec. Users per second: 771\n",
      "Similarity column 35736 (100.0%), 3103.82 column/sec. Elapsed time 11.51 sec\n",
      "EvaluatorHoldout: Ignoring 150 ( 0.4%) Users that have less than 1 test interactions\n",
      "EvaluatorHoldout: Processed 35586 (100.0%) in 45.93 sec. Users per second: 775\n",
      "Similarity column 35736 (100.0%), 3061.63 column/sec. Elapsed time 11.67 sec\n",
      "EvaluatorHoldout: Ignoring 167 ( 0.5%) Users that have less than 1 test interactions\n",
      "EvaluatorHoldout: Processed 35569 (100.0%) in 45.87 sec. Users per second: 775\n",
      "Similarity column 35736 (100.0%), 3100.14 column/sec. Elapsed time 11.53 sec\n",
      "EvaluatorHoldout: Ignoring 172 ( 0.5%) Users that have less than 1 test interactions\n",
      "EvaluatorHoldout: Processed 35564 (100.0%) in 45.68 sec. Users per second: 779\n"
     ]
    },
    {
     "name": "stderr",
     "output_type": "stream",
     "text": [
      "[I 2025-01-05 15:33:32,138] Trial 44 finished with value: 0.03892527741804938 and parameters: {'similarity': 'cosine', 'topK': 194, 'shrink': 648, 'feature_weighting': 'TF-IDF'}. Best is trial 35 with value: 0.038989590832045784.\n"
     ]
    },
    {
     "name": "stdout",
     "output_type": "stream",
     "text": [
      "Similarity column 35736 (100.0%), 3356.61 column/sec. Elapsed time 10.65 sec\n",
      "EvaluatorHoldout: Ignoring 173 ( 0.5%) Users that have less than 1 test interactions\n",
      "EvaluatorHoldout: Processed 35563 (100.0%) in 43.24 sec. Users per second: 822\n",
      "Similarity column 35736 (100.0%), 3346.67 column/sec. Elapsed time 10.68 sec\n",
      "EvaluatorHoldout: Ignoring 163 ( 0.5%) Users that have less than 1 test interactions\n",
      "EvaluatorHoldout: Processed 35573 (100.0%) in 42.94 sec. Users per second: 828\n",
      "Similarity column 35736 (100.0%), 3325.62 column/sec. Elapsed time 10.75 sec\n",
      "EvaluatorHoldout: Ignoring 150 ( 0.4%) Users that have less than 1 test interactions\n",
      "EvaluatorHoldout: Processed 35586 (100.0%) in 43.40 sec. Users per second: 820\n",
      "Similarity column 35736 (100.0%), 3298.24 column/sec. Elapsed time 10.83 sec\n",
      "EvaluatorHoldout: Ignoring 167 ( 0.5%) Users that have less than 1 test interactions\n",
      "EvaluatorHoldout: Processed 35569 (100.0%) in 43.26 sec. Users per second: 822\n",
      "Similarity column 35736 (100.0%), 3336.34 column/sec. Elapsed time 10.71 sec\n",
      "EvaluatorHoldout: Ignoring 172 ( 0.5%) Users that have less than 1 test interactions\n",
      "EvaluatorHoldout: Processed 35564 (100.0%) in 43.28 sec. Users per second: 822\n"
     ]
    },
    {
     "name": "stderr",
     "output_type": "stream",
     "text": [
      "[I 2025-01-05 15:38:05,547] Trial 45 finished with value: 0.03683441943169132 and parameters: {'similarity': 'dice', 'topK': 149, 'shrink': 313, 'feature_weighting': 'TF-IDF'}. Best is trial 35 with value: 0.038989590832045784.\n"
     ]
    },
    {
     "name": "stdout",
     "output_type": "stream",
     "text": [
      "Similarity column 35736 (100.0%), 3175.72 column/sec. Elapsed time 11.25 sec\n",
      "EvaluatorHoldout: Ignoring 173 ( 0.5%) Users that have less than 1 test interactions\n",
      "EvaluatorHoldout: Processed 35563 (100.0%) in 38.29 sec. Users per second: 929\n",
      "Similarity column 35736 (100.0%), 3146.19 column/sec. Elapsed time 11.36 sec\n",
      "EvaluatorHoldout: Ignoring 163 ( 0.5%) Users that have less than 1 test interactions\n",
      "EvaluatorHoldout: Processed 35573 (100.0%) in 38.35 sec. Users per second: 928\n",
      "Similarity column 35736 (100.0%), 3177.77 column/sec. Elapsed time 11.25 sec\n",
      "EvaluatorHoldout: Ignoring 150 ( 0.4%) Users that have less than 1 test interactions\n",
      "EvaluatorHoldout: Processed 35586 (100.0%) in 38.23 sec. Users per second: 931\n",
      "Similarity column 35736 (100.0%), 3141.23 column/sec. Elapsed time 11.38 sec\n",
      "EvaluatorHoldout: Ignoring 167 ( 0.5%) Users that have less than 1 test interactions\n",
      "EvaluatorHoldout: Processed 35569 (100.0%) in 38.51 sec. Users per second: 924\n",
      "Similarity column 35736 (100.0%), 3171.17 column/sec. Elapsed time 11.27 sec\n",
      "EvaluatorHoldout: Ignoring 172 ( 0.5%) Users that have less than 1 test interactions\n",
      "EvaluatorHoldout: Processed 35564 (100.0%) in 38.09 sec. Users per second: 934\n"
     ]
    },
    {
     "name": "stderr",
     "output_type": "stream",
     "text": [
      "[I 2025-01-05 15:42:15,429] Trial 46 finished with value: 0.03200754234125541 and parameters: {'similarity': 'cosine', 'topK': 35, 'shrink': 359, 'feature_weighting': 'TF-IDF'}. Best is trial 35 with value: 0.038989590832045784.\n"
     ]
    },
    {
     "name": "stdout",
     "output_type": "stream",
     "text": [
      "Similarity column 35736 (100.0%), 3166.55 column/sec. Elapsed time 11.29 sec\n",
      "EvaluatorHoldout: Ignoring 173 ( 0.5%) Users that have less than 1 test interactions\n",
      "EvaluatorHoldout: Processed 35563 (100.0%) in 41.14 sec. Users per second: 864\n",
      "Similarity column 35736 (100.0%), 3123.98 column/sec. Elapsed time 11.44 sec\n",
      "EvaluatorHoldout: Ignoring 163 ( 0.5%) Users that have less than 1 test interactions\n",
      "EvaluatorHoldout: Processed 35573 (100.0%) in 41.22 sec. Users per second: 863\n",
      "Similarity column 35736 (100.0%), 3166.36 column/sec. Elapsed time 11.29 sec\n",
      "EvaluatorHoldout: Ignoring 150 ( 0.4%) Users that have less than 1 test interactions\n",
      "EvaluatorHoldout: Processed 35586 (100.0%) in 41.32 sec. Users per second: 861\n",
      "Similarity column 35736 (100.0%), 3136.35 column/sec. Elapsed time 11.39 sec\n",
      "EvaluatorHoldout: Ignoring 167 ( 0.5%) Users that have less than 1 test interactions\n",
      "EvaluatorHoldout: Processed 35569 (100.0%) in 41.45 sec. Users per second: 858\n",
      "Similarity column 35736 (100.0%), 3126.20 column/sec. Elapsed time 11.43 sec\n",
      "EvaluatorHoldout: Ignoring 172 ( 0.5%) Users that have less than 1 test interactions\n",
      "EvaluatorHoldout: Processed 35564 (100.0%) in 41.45 sec. Users per second: 858\n"
     ]
    },
    {
     "name": "stderr",
     "output_type": "stream",
     "text": [
      "[I 2025-01-05 15:46:41,033] Trial 47 finished with value: 0.037445586390519404 and parameters: {'similarity': 'cosine', 'topK': 84, 'shrink': 553, 'feature_weighting': 'TF-IDF'}. Best is trial 35 with value: 0.038989590832045784.\n"
     ]
    },
    {
     "name": "stdout",
     "output_type": "stream",
     "text": [
      "Similarity column 35736 (100.0%), 352.65 column/sec. Elapsed time 1.69 min\n",
      "EvaluatorHoldout: Ignoring 173 ( 0.5%) Users that have less than 1 test interactions\n",
      "EvaluatorHoldout: Processed 35563 (100.0%) in 46.46 sec. Users per second: 765\n",
      "Similarity column 35736 (100.0%), 361.84 column/sec. Elapsed time 1.65 min\n",
      "EvaluatorHoldout: Ignoring 163 ( 0.5%) Users that have less than 1 test interactions\n",
      "EvaluatorHoldout: Processed 35573 (100.0%) in 46.50 sec. Users per second: 765\n",
      "Similarity column 35736 (100.0%), 360.68 column/sec. Elapsed time 1.65 min\n",
      "EvaluatorHoldout: Ignoring 150 ( 0.4%) Users that have less than 1 test interactions\n",
      "EvaluatorHoldout: Processed 35586 (100.0%) in 46.40 sec. Users per second: 767\n",
      "Similarity column 35736 (100.0%), 352.47 column/sec. Elapsed time 1.69 min\n",
      "EvaluatorHoldout: Ignoring 167 ( 0.5%) Users that have less than 1 test interactions\n",
      "EvaluatorHoldout: Processed 35569 (100.0%) in 46.61 sec. Users per second: 763\n",
      "Similarity column 35736 (100.0%), 366.21 column/sec. Elapsed time 1.63 min\n",
      "EvaluatorHoldout: Ignoring 172 ( 0.5%) Users that have less than 1 test interactions\n",
      "EvaluatorHoldout: Processed 35564 (100.0%) in 46.43 sec. Users per second: 766\n"
     ]
    },
    {
     "name": "stderr",
     "output_type": "stream",
     "text": [
      "[I 2025-01-05 15:58:54,470] Trial 48 finished with value: 0.0323601580091676 and parameters: {'similarity': 'euclidean', 'topK': 211, 'shrink': 479, 'feature_weighting': 'TF-IDF', 'normalize_avg_row': False, 'similarity_from_distance_mode': 'log', 'normalize': True}. Best is trial 35 with value: 0.038989590832045784.\n"
     ]
    },
    {
     "name": "stdout",
     "output_type": "stream",
     "text": [
      "Similarity column 35736 (100.0%), 2905.17 column/sec. Elapsed time 12.30 sec\n",
      "EvaluatorHoldout: Ignoring 173 ( 0.5%) Users that have less than 1 test interactions\n",
      "EvaluatorHoldout: Processed 35563 (100.0%) in 51.52 sec. Users per second: 690\n",
      "Similarity column 35736 (100.0%), 2902.69 column/sec. Elapsed time 12.31 sec\n",
      "EvaluatorHoldout: Ignoring 163 ( 0.5%) Users that have less than 1 test interactions\n",
      "EvaluatorHoldout: Processed 35573 (100.0%) in 51.18 sec. Users per second: 695\n",
      "Similarity column 35736 (100.0%), 2904.37 column/sec. Elapsed time 12.30 sec\n",
      "EvaluatorHoldout: Ignoring 150 ( 0.4%) Users that have less than 1 test interactions\n",
      "EvaluatorHoldout: Processed 35586 (100.0%) in 51.68 sec. Users per second: 689\n",
      "Similarity column 35736 (100.0%), 2877.52 column/sec. Elapsed time 12.42 sec\n",
      "EvaluatorHoldout: Ignoring 167 ( 0.5%) Users that have less than 1 test interactions\n",
      "EvaluatorHoldout: Processed 35569 (100.0%) in 50.93 sec. Users per second: 698\n",
      "Similarity column 35736 (100.0%), 2884.45 column/sec. Elapsed time 12.39 sec\n",
      "EvaluatorHoldout: Ignoring 172 ( 0.5%) Users that have less than 1 test interactions\n",
      "EvaluatorHoldout: Processed 35564 (100.0%) in 51.17 sec. Users per second: 695\n"
     ]
    },
    {
     "name": "stderr",
     "output_type": "stream",
     "text": [
      "[I 2025-01-05 16:04:17,802] Trial 49 finished with value: 0.03613122358719782 and parameters: {'similarity': 'tversky', 'topK': 377, 'shrink': 190, 'feature_weighting': 'none', 'tversky_alpha': 0.8264074043569967, 'tversky_beta': 1.155613983449837}. Best is trial 35 with value: 0.038989590832045784.\n"
     ]
    },
    {
     "name": "stdout",
     "output_type": "stream",
     "text": [
      "Similarity column 35736 (100.0%), 2976.43 column/sec. Elapsed time 12.01 sec\n",
      "EvaluatorHoldout: Ignoring 173 ( 0.5%) Users that have less than 1 test interactions\n",
      "EvaluatorHoldout: Processed 35563 (100.0%) in 58.70 sec. Users per second: 606\n",
      "Similarity column 35736 (100.0%), 2975.54 column/sec. Elapsed time 12.01 sec\n",
      "EvaluatorHoldout: Ignoring 163 ( 0.5%) Users that have less than 1 test interactions\n",
      "EvaluatorHoldout: Processed 35573 (100.0%) in 58.60 sec. Users per second: 607\n",
      "Similarity column 35736 (100.0%), 2992.71 column/sec. Elapsed time 11.94 sec\n",
      "EvaluatorHoldout: Ignoring 150 ( 0.4%) Users that have less than 1 test interactions\n",
      "EvaluatorHoldout: Processed 35586 (100.0%) in 58.75 sec. Users per second: 606\n",
      "Similarity column 35736 (100.0%), 2992.04 column/sec. Elapsed time 11.94 sec\n",
      "EvaluatorHoldout: Ignoring 167 ( 0.5%) Users that have less than 1 test interactions\n",
      "EvaluatorHoldout: Processed 35569 (100.0%) in 58.26 sec. Users per second: 611\n",
      "Similarity column 35736 (100.0%), 2975.49 column/sec. Elapsed time 12.01 sec\n",
      "EvaluatorHoldout: Ignoring 172 ( 0.5%) Users that have less than 1 test interactions\n",
      "EvaluatorHoldout: Processed 35564 (100.0%) in 58.52 sec. Users per second: 608\n"
     ]
    },
    {
     "name": "stderr",
     "output_type": "stream",
     "text": [
      "[I 2025-01-05 16:10:17,737] Trial 50 finished with value: 0.03597665863880977 and parameters: {'similarity': 'cosine', 'topK': 602, 'shrink': 97, 'feature_weighting': 'TF-IDF'}. Best is trial 35 with value: 0.038989590832045784.\n"
     ]
    },
    {
     "name": "stdout",
     "output_type": "stream",
     "text": [
      "Similarity column 35736 (100.0%), 3138.56 column/sec. Elapsed time 11.39 sec\n",
      "EvaluatorHoldout: Ignoring 173 ( 0.5%) Users that have less than 1 test interactions\n",
      "EvaluatorHoldout: Processed 35563 (100.0%) in 45.68 sec. Users per second: 778\n",
      "Similarity column 35736 (100.0%), 3086.18 column/sec. Elapsed time 11.58 sec\n",
      "EvaluatorHoldout: Ignoring 163 ( 0.5%) Users that have less than 1 test interactions\n",
      "EvaluatorHoldout: Processed 35573 (100.0%) in 45.62 sec. Users per second: 780\n",
      "Similarity column 35736 (100.0%), 3107.16 column/sec. Elapsed time 11.50 sec\n",
      "EvaluatorHoldout: Ignoring 150 ( 0.4%) Users that have less than 1 test interactions\n",
      "EvaluatorHoldout: Processed 35586 (100.0%) in 45.70 sec. Users per second: 779\n",
      "Similarity column 35736 (100.0%), 3104.27 column/sec. Elapsed time 11.51 sec\n",
      "EvaluatorHoldout: Ignoring 167 ( 0.5%) Users that have less than 1 test interactions\n",
      "EvaluatorHoldout: Processed 35569 (100.0%) in 45.66 sec. Users per second: 779\n",
      "Similarity column 35736 (100.0%), 3112.31 column/sec. Elapsed time 11.48 sec\n",
      "EvaluatorHoldout: Ignoring 172 ( 0.5%) Users that have less than 1 test interactions\n",
      "EvaluatorHoldout: Processed 35564 (100.0%) in 45.79 sec. Users per second: 777\n"
     ]
    },
    {
     "name": "stderr",
     "output_type": "stream",
     "text": [
      "[I 2025-01-05 16:15:06,761] Trial 51 finished with value: 0.038966110570538934 and parameters: {'similarity': 'cosine', 'topK': 184, 'shrink': 468, 'feature_weighting': 'TF-IDF'}. Best is trial 35 with value: 0.038989590832045784.\n"
     ]
    },
    {
     "name": "stdout",
     "output_type": "stream",
     "text": [
      "Similarity column 35736 (100.0%), 3080.67 column/sec. Elapsed time 11.60 sec\n",
      "EvaluatorHoldout: Ignoring 173 ( 0.5%) Users that have less than 1 test interactions\n",
      "EvaluatorHoldout: Processed 35563 (100.0%) in 46.21 sec. Users per second: 770\n",
      "Similarity column 35736 (100.0%), 3080.90 column/sec. Elapsed time 11.60 sec\n",
      "EvaluatorHoldout: Ignoring 163 ( 0.5%) Users that have less than 1 test interactions\n",
      "EvaluatorHoldout: Processed 35573 (100.0%) in 46.32 sec. Users per second: 768\n",
      "Similarity column 35736 (100.0%), 3077.21 column/sec. Elapsed time 11.61 sec\n",
      "EvaluatorHoldout: Ignoring 150 ( 0.4%) Users that have less than 1 test interactions\n",
      "EvaluatorHoldout: Processed 35586 (100.0%) in 46.49 sec. Users per second: 766\n",
      "Similarity column 35736 (100.0%), 3089.69 column/sec. Elapsed time 11.57 sec\n",
      "EvaluatorHoldout: Ignoring 167 ( 0.5%) Users that have less than 1 test interactions\n",
      "EvaluatorHoldout: Processed 35569 (100.0%) in 46.34 sec. Users per second: 768\n",
      "Similarity column 35736 (100.0%), 3106.91 column/sec. Elapsed time 11.50 sec\n",
      "EvaluatorHoldout: Ignoring 172 ( 0.5%) Users that have less than 1 test interactions\n",
      "EvaluatorHoldout: Processed 35564 (100.0%) in 46.44 sec. Users per second: 766\n"
     ]
    },
    {
     "name": "stderr",
     "output_type": "stream",
     "text": [
      "[I 2025-01-05 16:19:59,778] Trial 52 finished with value: 0.03895248452983744 and parameters: {'similarity': 'cosine', 'topK': 195, 'shrink': 407, 'feature_weighting': 'TF-IDF'}. Best is trial 35 with value: 0.038989590832045784.\n"
     ]
    },
    {
     "name": "stdout",
     "output_type": "stream",
     "text": [
      "Similarity column 35736 (100.0%), 3097.27 column/sec. Elapsed time 11.54 sec\n",
      "EvaluatorHoldout: Ignoring 173 ( 0.5%) Users that have less than 1 test interactions\n",
      "EvaluatorHoldout: Processed 35563 (100.0%) in 46.54 sec. Users per second: 764\n",
      "Similarity column 35736 (100.0%), 3094.70 column/sec. Elapsed time 11.55 sec\n",
      "EvaluatorHoldout: Ignoring 163 ( 0.5%) Users that have less than 1 test interactions\n",
      "EvaluatorHoldout: Processed 35573 (100.0%) in 46.52 sec. Users per second: 765\n",
      "Similarity column 35736 (100.0%), 3120.60 column/sec. Elapsed time 11.45 sec\n",
      "EvaluatorHoldout: Ignoring 150 ( 0.4%) Users that have less than 1 test interactions\n",
      "EvaluatorHoldout: Processed 35586 (100.0%) in 46.30 sec. Users per second: 769\n",
      "Similarity column 35736 (100.0%), 3070.30 column/sec. Elapsed time 11.64 sec\n",
      "EvaluatorHoldout: Ignoring 167 ( 0.5%) Users that have less than 1 test interactions\n",
      "EvaluatorHoldout: Processed 35569 (100.0%) in 46.35 sec. Users per second: 767\n",
      "Similarity column 35736 (100.0%), 3084.57 column/sec. Elapsed time 11.59 sec\n",
      "EvaluatorHoldout: Ignoring 172 ( 0.5%) Users that have less than 1 test interactions\n",
      "EvaluatorHoldout: Processed 35564 (100.0%) in 46.17 sec. Users per second: 770\n"
     ]
    },
    {
     "name": "stderr",
     "output_type": "stream",
     "text": [
      "[I 2025-01-05 16:24:52,783] Trial 53 finished with value: 0.03895558340642112 and parameters: {'similarity': 'cosine', 'topK': 199, 'shrink': 404, 'feature_weighting': 'TF-IDF'}. Best is trial 35 with value: 0.038989590832045784.\n"
     ]
    },
    {
     "name": "stdout",
     "output_type": "stream",
     "text": [
      "Similarity column 35736 (100.0%), 3094.59 column/sec. Elapsed time 11.55 sec\n",
      "EvaluatorHoldout: Ignoring 173 ( 0.5%) Users that have less than 1 test interactions\n",
      "EvaluatorHoldout: Processed 35563 (100.0%) in 47.16 sec. Users per second: 754\n",
      "Similarity column 35736 (100.0%), 3092.49 column/sec. Elapsed time 11.56 sec\n",
      "EvaluatorHoldout: Ignoring 163 ( 0.5%) Users that have less than 1 test interactions\n",
      "EvaluatorHoldout: Processed 35573 (100.0%) in 46.81 sec. Users per second: 760\n",
      "Similarity column 35736 (100.0%), 3101.24 column/sec. Elapsed time 11.52 sec\n",
      "EvaluatorHoldout: Ignoring 150 ( 0.4%) Users that have less than 1 test interactions\n",
      "EvaluatorHoldout: Processed 35586 (100.0%) in 46.96 sec. Users per second: 758\n",
      "Similarity column 35736 (100.0%), 3091.33 column/sec. Elapsed time 11.56 sec\n",
      "EvaluatorHoldout: Ignoring 167 ( 0.5%) Users that have less than 1 test interactions\n",
      "EvaluatorHoldout: Processed 35569 (100.0%) in 46.93 sec. Users per second: 758\n",
      "Similarity column 35736 (100.0%), 3094.27 column/sec. Elapsed time 11.55 sec\n",
      "EvaluatorHoldout: Ignoring 172 ( 0.5%) Users that have less than 1 test interactions\n",
      "EvaluatorHoldout: Processed 35564 (100.0%) in 47.06 sec. Users per second: 756\n"
     ]
    },
    {
     "name": "stderr",
     "output_type": "stream",
     "text": [
      "[I 2025-01-05 16:29:48,950] Trial 54 finished with value: 0.03889133321155448 and parameters: {'similarity': 'cosine', 'topK': 216, 'shrink': 386, 'feature_weighting': 'TF-IDF'}. Best is trial 35 with value: 0.038989590832045784.\n"
     ]
    },
    {
     "name": "stdout",
     "output_type": "stream",
     "text": [
      "Similarity column 35736 (100.0%), 3127.80 column/sec. Elapsed time 11.43 sec\n",
      "EvaluatorHoldout: Ignoring 173 ( 0.5%) Users that have less than 1 test interactions\n",
      "EvaluatorHoldout: Processed 35563 (100.0%) in 40.75 sec. Users per second: 873\n",
      "Similarity column 35736 (100.0%), 3123.06 column/sec. Elapsed time 11.44 sec\n",
      "EvaluatorHoldout: Ignoring 163 ( 0.5%) Users that have less than 1 test interactions\n",
      "EvaluatorHoldout: Processed 35573 (100.0%) in 40.99 sec. Users per second: 868\n",
      "Similarity column 35736 (100.0%), 3138.68 column/sec. Elapsed time 11.39 sec\n",
      "EvaluatorHoldout: Ignoring 150 ( 0.4%) Users that have less than 1 test interactions\n",
      "EvaluatorHoldout: Processed 35586 (100.0%) in 40.80 sec. Users per second: 872\n",
      "Similarity column 35736 (100.0%), 3103.40 column/sec. Elapsed time 11.52 sec\n",
      "EvaluatorHoldout: Ignoring 167 ( 0.5%) Users that have less than 1 test interactions\n",
      "EvaluatorHoldout: Processed 35569 (100.0%) in 40.55 sec. Users per second: 877\n",
      "Similarity column 35736 (100.0%), 3139.32 column/sec. Elapsed time 11.38 sec\n",
      "EvaluatorHoldout: Ignoring 172 ( 0.5%) Users that have less than 1 test interactions\n",
      "EvaluatorHoldout: Processed 35564 (100.0%) in 40.70 sec. Users per second: 874\n"
     ]
    },
    {
     "name": "stderr",
     "output_type": "stream",
     "text": [
      "[I 2025-01-05 16:34:12,305] Trial 55 finished with value: 0.035073781534686335 and parameters: {'similarity': 'asymmetric', 'topK': 98, 'shrink': 535, 'feature_weighting': 'TF-IDF', 'asymmetric_alpha': 1.0965008733321449}. Best is trial 35 with value: 0.038989590832045784.\n"
     ]
    },
    {
     "name": "stdout",
     "output_type": "stream",
     "text": [
      "Similarity column 35736 (100.0%), 3136.99 column/sec. Elapsed time 11.39 sec\n",
      "EvaluatorHoldout: Ignoring 173 ( 0.5%) Users that have less than 1 test interactions\n",
      "EvaluatorHoldout: Processed 35563 (100.0%) in 51.01 sec. Users per second: 697\n",
      "Similarity column 35736 (100.0%), 3126.58 column/sec. Elapsed time 11.43 sec\n",
      "EvaluatorHoldout: Ignoring 163 ( 0.5%) Users that have less than 1 test interactions\n",
      "EvaluatorHoldout: Processed 35573 (100.0%) in 51.00 sec. Users per second: 698\n",
      "Similarity column 35736 (100.0%), 3147.22 column/sec. Elapsed time 11.35 sec\n",
      "EvaluatorHoldout: Ignoring 150 ( 0.4%) Users that have less than 1 test interactions\n",
      "EvaluatorHoldout: Processed 35586 (100.0%) in 51.19 sec. Users per second: 695\n",
      "Similarity column 35736 (100.0%), 3121.48 column/sec. Elapsed time 11.45 sec\n",
      "EvaluatorHoldout: Ignoring 167 ( 0.5%) Users that have less than 1 test interactions\n",
      "EvaluatorHoldout: Processed 35569 (100.0%) in 50.90 sec. Users per second: 699\n",
      "Similarity column 35736 (100.0%), 3114.60 column/sec. Elapsed time 11.47 sec\n",
      "EvaluatorHoldout: Ignoring 172 ( 0.5%) Users that have less than 1 test interactions\n",
      "EvaluatorHoldout: Processed 35564 (100.0%) in 51.53 sec. Users per second: 690\n"
     ]
    },
    {
     "name": "stderr",
     "output_type": "stream",
     "text": [
      "[I 2025-01-05 16:39:29,536] Trial 56 finished with value: 0.03930237985639624 and parameters: {'similarity': 'cosine', 'topK': 304, 'shrink': 412, 'feature_weighting': 'BM25'}. Best is trial 56 with value: 0.03930237985639624.\n"
     ]
    },
    {
     "name": "stdout",
     "output_type": "stream",
     "text": [
      "Similarity column 35736 (100.0%), 3137.52 column/sec. Elapsed time 11.39 sec\n",
      "EvaluatorHoldout: Ignoring 173 ( 0.5%) Users that have less than 1 test interactions\n",
      "EvaluatorHoldout: Processed 35563 (100.0%) in 50.31 sec. Users per second: 707\n",
      "Similarity column 35736 (100.0%), 3127.28 column/sec. Elapsed time 11.43 sec\n",
      "EvaluatorHoldout: Ignoring 163 ( 0.5%) Users that have less than 1 test interactions\n",
      "EvaluatorHoldout: Processed 35573 (100.0%) in 50.31 sec. Users per second: 707\n",
      "Similarity column 35736 (100.0%), 3107.35 column/sec. Elapsed time 11.50 sec\n",
      "EvaluatorHoldout: Ignoring 150 ( 0.4%) Users that have less than 1 test interactions\n",
      "EvaluatorHoldout: Processed 35586 (100.0%) in 50.45 sec. Users per second: 705\n",
      "Similarity column 35736 (100.0%), 3126.44 column/sec. Elapsed time 11.43 sec\n",
      "EvaluatorHoldout: Ignoring 167 ( 0.5%) Users that have less than 1 test interactions\n",
      "EvaluatorHoldout: Processed 35569 (100.0%) in 50.26 sec. Users per second: 708\n",
      "Similarity column 35736 (100.0%), 3128.49 column/sec. Elapsed time 11.42 sec\n",
      "EvaluatorHoldout: Ignoring 172 ( 0.5%) Users that have less than 1 test interactions\n",
      "EvaluatorHoldout: Processed 35564 (100.0%) in 50.36 sec. Users per second: 706\n"
     ]
    },
    {
     "name": "stderr",
     "output_type": "stream",
     "text": [
      "[I 2025-01-05 16:44:42,725] Trial 57 finished with value: 0.03905219382376225 and parameters: {'similarity': 'cosine', 'topK': 289, 'shrink': 443, 'feature_weighting': 'BM25'}. Best is trial 56 with value: 0.03930237985639624.\n"
     ]
    },
    {
     "name": "stdout",
     "output_type": "stream",
     "text": [
      "Similarity column 35736 (100.0%), 3136.73 column/sec. Elapsed time 11.39 sec\n",
      "EvaluatorHoldout: Ignoring 173 ( 0.5%) Users that have less than 1 test interactions\n",
      "EvaluatorHoldout: Processed 35563 (100.0%) in 51.16 sec. Users per second: 695\n",
      "Similarity column 35736 (100.0%), 3113.07 column/sec. Elapsed time 11.48 sec\n",
      "EvaluatorHoldout: Ignoring 163 ( 0.5%) Users that have less than 1 test interactions\n",
      "EvaluatorHoldout: Processed 35573 (100.0%) in 50.85 sec. Users per second: 700\n",
      "Similarity column 35736 (100.0%), 3122.09 column/sec. Elapsed time 11.45 sec\n",
      "EvaluatorHoldout: Ignoring 150 ( 0.4%) Users that have less than 1 test interactions\n",
      "EvaluatorHoldout: Processed 35586 (100.0%) in 51.14 sec. Users per second: 696\n",
      "Similarity column 35736 (100.0%), 3119.00 column/sec. Elapsed time 11.46 sec\n",
      "EvaluatorHoldout: Ignoring 167 ( 0.5%) Users that have less than 1 test interactions\n",
      "EvaluatorHoldout: Processed 35569 (100.0%) in 51.18 sec. Users per second: 695\n",
      "Similarity column 35736 (100.0%), 3116.97 column/sec. Elapsed time 11.47 sec\n",
      "EvaluatorHoldout: Ignoring 172 ( 0.5%) Users that have less than 1 test interactions\n",
      "EvaluatorHoldout: Processed 35564 (100.0%) in 51.13 sec. Users per second: 696\n"
     ]
    },
    {
     "name": "stderr",
     "output_type": "stream",
     "text": [
      "[I 2025-01-05 16:49:59,882] Trial 58 finished with value: 0.03936396739193279 and parameters: {'similarity': 'cosine', 'topK': 306, 'shrink': 342, 'feature_weighting': 'BM25'}. Best is trial 58 with value: 0.03936396739193279.\n"
     ]
    },
    {
     "name": "stdout",
     "output_type": "stream",
     "text": [
      "Similarity column 35736 (100.0%), 3250.40 column/sec. Elapsed time 10.99 sec\n",
      "EvaluatorHoldout: Ignoring 173 ( 0.5%) Users that have less than 1 test interactions\n",
      "EvaluatorHoldout: Processed 35563 (100.0%) in 48.89 sec. Users per second: 727\n",
      "Similarity column 35736 (100.0%), 3225.02 column/sec. Elapsed time 11.08 sec\n",
      "EvaluatorHoldout: Ignoring 163 ( 0.5%) Users that have less than 1 test interactions\n",
      "EvaluatorHoldout: Processed 35573 (100.0%) in 48.85 sec. Users per second: 728\n",
      "Similarity column 35736 (100.0%), 3233.43 column/sec. Elapsed time 11.05 sec\n",
      "EvaluatorHoldout: Ignoring 150 ( 0.4%) Users that have less than 1 test interactions\n",
      "EvaluatorHoldout: Processed 35586 (100.0%) in 48.66 sec. Users per second: 731\n",
      "Similarity column 35736 (100.0%), 3232.12 column/sec. Elapsed time 11.06 sec\n",
      "EvaluatorHoldout: Ignoring 167 ( 0.5%) Users that have less than 1 test interactions\n",
      "EvaluatorHoldout: Processed 35569 (100.0%) in 48.78 sec. Users per second: 729\n",
      "Similarity column 35736 (100.0%), 3228.71 column/sec. Elapsed time 11.07 sec\n",
      "EvaluatorHoldout: Ignoring 172 ( 0.5%) Users that have less than 1 test interactions\n",
      "EvaluatorHoldout: Processed 35564 (100.0%) in 48.75 sec. Users per second: 730\n"
     ]
    },
    {
     "name": "stderr",
     "output_type": "stream",
     "text": [
      "[I 2025-01-05 16:55:04,578] Trial 59 finished with value: 0.03620514591628303 and parameters: {'similarity': 'dice', 'topK': 303, 'shrink': 347, 'feature_weighting': 'BM25'}. Best is trial 58 with value: 0.03936396739193279.\n"
     ]
    },
    {
     "name": "stdout",
     "output_type": "stream",
     "text": [
      "Similarity column 35736 (100.0%), 3082.35 column/sec. Elapsed time 11.59 sec\n",
      "EvaluatorHoldout: Ignoring 173 ( 0.5%) Users that have less than 1 test interactions\n",
      "EvaluatorHoldout: Processed 35563 (100.0%) in 54.13 sec. Users per second: 657\n",
      "Similarity column 35736 (100.0%), 3061.48 column/sec. Elapsed time 11.67 sec\n",
      "EvaluatorHoldout: Ignoring 163 ( 0.5%) Users that have less than 1 test interactions\n",
      "EvaluatorHoldout: Processed 35573 (100.0%) in 54.09 sec. Users per second: 658\n",
      "Similarity column 35736 (100.0%), 3079.16 column/sec. Elapsed time 11.61 sec\n",
      "EvaluatorHoldout: Ignoring 150 ( 0.4%) Users that have less than 1 test interactions\n",
      "EvaluatorHoldout: Processed 35586 (100.0%) in 53.93 sec. Users per second: 660\n",
      "Similarity column 35736 (100.0%), 3065.33 column/sec. Elapsed time 11.66 sec\n",
      "EvaluatorHoldout: Ignoring 167 ( 0.5%) Users that have less than 1 test interactions\n",
      "EvaluatorHoldout: Processed 35569 (100.0%) in 54.05 sec. Users per second: 658\n",
      "Similarity column 35736 (100.0%), 3092.71 column/sec. Elapsed time 11.55 sec\n",
      "EvaluatorHoldout: Ignoring 172 ( 0.5%) Users that have less than 1 test interactions\n",
      "EvaluatorHoldout: Processed 35564 (100.0%) in 54.25 sec. Users per second: 656\n"
     ]
    },
    {
     "name": "stderr",
     "output_type": "stream",
     "text": [
      "[I 2025-01-05 17:00:38,956] Trial 60 finished with value: 0.040299755217404906 and parameters: {'similarity': 'cosine', 'topK': 401, 'shrink': 431, 'feature_weighting': 'BM25'}. Best is trial 60 with value: 0.040299755217404906.\n"
     ]
    },
    {
     "name": "stdout",
     "output_type": "stream",
     "text": [
      "Similarity column 35736 (100.0%), 3077.54 column/sec. Elapsed time 11.61 sec\n",
      "EvaluatorHoldout: Ignoring 173 ( 0.5%) Users that have less than 1 test interactions\n",
      "EvaluatorHoldout: Processed 35563 (100.0%) in 54.43 sec. Users per second: 653\n",
      "Similarity column 35736 (100.0%), 3079.46 column/sec. Elapsed time 11.60 sec\n",
      "EvaluatorHoldout: Ignoring 163 ( 0.5%) Users that have less than 1 test interactions\n",
      "EvaluatorHoldout: Processed 35573 (100.0%) in 54.41 sec. Users per second: 654\n",
      "Similarity column 35736 (100.0%), 3090.76 column/sec. Elapsed time 11.56 sec\n",
      "EvaluatorHoldout: Ignoring 150 ( 0.4%) Users that have less than 1 test interactions\n",
      "EvaluatorHoldout: Processed 35586 (100.0%) in 54.39 sec. Users per second: 654\n",
      "Similarity column 35736 (100.0%), 3082.53 column/sec. Elapsed time 11.59 sec\n",
      "EvaluatorHoldout: Ignoring 167 ( 0.5%) Users that have less than 1 test interactions\n",
      "EvaluatorHoldout: Processed 35569 (100.0%) in 54.28 sec. Users per second: 655\n",
      "Similarity column 35736 (100.0%), 3079.49 column/sec. Elapsed time 11.60 sec\n",
      "EvaluatorHoldout: Ignoring 172 ( 0.5%) Users that have less than 1 test interactions\n",
      "EvaluatorHoldout: Processed 35564 (100.0%) in 54.36 sec. Users per second: 654\n"
     ]
    },
    {
     "name": "stderr",
     "output_type": "stream",
     "text": [
      "[I 2025-01-05 17:06:14,426] Trial 61 finished with value: 0.04041086809620674 and parameters: {'similarity': 'cosine', 'topK': 413, 'shrink': 431, 'feature_weighting': 'BM25'}. Best is trial 61 with value: 0.04041086809620674.\n"
     ]
    },
    {
     "name": "stdout",
     "output_type": "stream",
     "text": [
      "Similarity column 35736 (100.0%), 3078.36 column/sec. Elapsed time 11.61 sec\n",
      "EvaluatorHoldout: Ignoring 173 ( 0.5%) Users that have less than 1 test interactions\n",
      "EvaluatorHoldout: Processed 35563 (100.0%) in 53.31 sec. Users per second: 667\n",
      "Similarity column 35736 (100.0%), 3075.93 column/sec. Elapsed time 11.62 sec\n",
      "EvaluatorHoldout: Ignoring 163 ( 0.5%) Users that have less than 1 test interactions\n",
      "EvaluatorHoldout: Processed 35573 (100.0%) in 53.17 sec. Users per second: 669\n",
      "Similarity column 35736 (100.0%), 3069.47 column/sec. Elapsed time 11.64 sec\n",
      "EvaluatorHoldout: Ignoring 150 ( 0.4%) Users that have less than 1 test interactions\n",
      "EvaluatorHoldout: Processed 35586 (100.0%) in 53.43 sec. Users per second: 666\n",
      "Similarity column 35736 (100.0%), 3061.85 column/sec. Elapsed time 11.67 sec\n",
      "EvaluatorHoldout: Ignoring 167 ( 0.5%) Users that have less than 1 test interactions\n",
      "EvaluatorHoldout: Processed 35569 (100.0%) in 53.64 sec. Users per second: 663\n",
      "Similarity column 35736 (100.0%), 3090.25 column/sec. Elapsed time 11.56 sec\n",
      "EvaluatorHoldout: Ignoring 172 ( 0.5%) Users that have less than 1 test interactions\n",
      "EvaluatorHoldout: Processed 35564 (100.0%) in 53.43 sec. Users per second: 666\n"
     ]
    },
    {
     "name": "stderr",
     "output_type": "stream",
     "text": [
      "[I 2025-01-05 17:11:44,877] Trial 62 finished with value: 0.04015987455197013 and parameters: {'similarity': 'cosine', 'topK': 385, 'shrink': 429, 'feature_weighting': 'BM25'}. Best is trial 61 with value: 0.04041086809620674.\n"
     ]
    },
    {
     "name": "stdout",
     "output_type": "stream",
     "text": [
      "Similarity column 35736 (100.0%), 3078.32 column/sec. Elapsed time 11.61 sec\n",
      "EvaluatorHoldout: Ignoring 173 ( 0.5%) Users that have less than 1 test interactions\n",
      "EvaluatorHoldout: Processed 35563 (100.0%) in 54.40 sec. Users per second: 654\n",
      "Similarity column 35736 (100.0%), 3085.17 column/sec. Elapsed time 11.58 sec\n",
      "EvaluatorHoldout: Ignoring 163 ( 0.5%) Users that have less than 1 test interactions\n",
      "EvaluatorHoldout: Processed 35573 (100.0%) in 54.54 sec. Users per second: 652\n",
      "Similarity column 35736 (100.0%), 3091.53 column/sec. Elapsed time 11.56 sec\n",
      "EvaluatorHoldout: Ignoring 150 ( 0.4%) Users that have less than 1 test interactions\n",
      "EvaluatorHoldout: Processed 35586 (100.0%) in 54.28 sec. Users per second: 656\n",
      "Similarity column 35736 (100.0%), 3074.90 column/sec. Elapsed time 11.62 sec\n",
      "EvaluatorHoldout: Ignoring 167 ( 0.5%) Users that have less than 1 test interactions\n",
      "EvaluatorHoldout: Processed 35569 (100.0%) in 54.31 sec. Users per second: 655\n",
      "Similarity column 35736 (100.0%), 3091.44 column/sec. Elapsed time 11.56 sec\n",
      "EvaluatorHoldout: Ignoring 172 ( 0.5%) Users that have less than 1 test interactions\n",
      "EvaluatorHoldout: Processed 35564 (100.0%) in 54.13 sec. Users per second: 657\n"
     ]
    },
    {
     "name": "stderr",
     "output_type": "stream",
     "text": [
      "[I 2025-01-05 17:17:20,117] Trial 63 finished with value: 0.040408480431374516 and parameters: {'similarity': 'cosine', 'topK': 413, 'shrink': 439, 'feature_weighting': 'BM25'}. Best is trial 61 with value: 0.04041086809620674.\n"
     ]
    },
    {
     "name": "stdout",
     "output_type": "stream",
     "text": [
      "Similarity column 35736 (100.0%), 3073.06 column/sec. Elapsed time 11.63 sec\n",
      "EvaluatorHoldout: Ignoring 173 ( 0.5%) Users that have less than 1 test interactions\n",
      "EvaluatorHoldout: Processed 35563 (100.0%) in 53.18 sec. Users per second: 669\n",
      "Similarity column 35736 (100.0%), 3066.64 column/sec. Elapsed time 11.65 sec\n",
      "EvaluatorHoldout: Ignoring 163 ( 0.5%) Users that have less than 1 test interactions\n",
      "EvaluatorHoldout: Processed 35573 (100.0%) in 53.72 sec. Users per second: 662\n",
      "Similarity column 35736 (100.0%), 3059.93 column/sec. Elapsed time 11.68 sec\n",
      "EvaluatorHoldout: Ignoring 150 ( 0.4%) Users that have less than 1 test interactions\n",
      "EvaluatorHoldout: Processed 35586 (100.0%) in 53.73 sec. Users per second: 662\n",
      "Similarity column 35736 (100.0%), 3067.32 column/sec. Elapsed time 11.65 sec\n",
      "EvaluatorHoldout: Ignoring 167 ( 0.5%) Users that have less than 1 test interactions\n",
      "EvaluatorHoldout: Processed 35569 (100.0%) in 54.10 sec. Users per second: 658\n",
      "Similarity column 35736 (100.0%), 3085.88 column/sec. Elapsed time 11.58 sec\n",
      "EvaluatorHoldout: Ignoring 172 ( 0.5%) Users that have less than 1 test interactions\n",
      "EvaluatorHoldout: Processed 35564 (100.0%) in 53.86 sec. Users per second: 660\n"
     ]
    },
    {
     "name": "stderr",
     "output_type": "stream",
     "text": [
      "[I 2025-01-05 17:22:52,359] Trial 64 finished with value: 0.04022586921656578 and parameters: {'similarity': 'cosine', 'topK': 393, 'shrink': 442, 'feature_weighting': 'BM25'}. Best is trial 61 with value: 0.04041086809620674.\n"
     ]
    },
    {
     "name": "stdout",
     "output_type": "stream",
     "text": [
      "Similarity column 35736 (100.0%), 314.20 column/sec. Elapsed time 1.90 min\n",
      "EvaluatorHoldout: Ignoring 173 ( 0.5%) Users that have less than 1 test interactions\n",
      "EvaluatorHoldout: Processed 35563 (100.0%) in 54.82 sec. Users per second: 649\n",
      "Similarity column 35736 (100.0%), 322.37 column/sec. Elapsed time 1.85 min\n",
      "EvaluatorHoldout: Ignoring 163 ( 0.5%) Users that have less than 1 test interactions\n",
      "EvaluatorHoldout: Processed 35573 (100.0%) in 54.57 sec. Users per second: 652\n",
      "Similarity column 35736 (100.0%), 314.43 column/sec. Elapsed time 1.89 min\n",
      "EvaluatorHoldout: Ignoring 150 ( 0.4%) Users that have less than 1 test interactions\n",
      "EvaluatorHoldout: Processed 35586 (100.0%) in 55.24 sec. Users per second: 644\n",
      "Similarity column 35736 (100.0%), 317.19 column/sec. Elapsed time 1.88 min\n",
      "EvaluatorHoldout: Ignoring 167 ( 0.5%) Users that have less than 1 test interactions\n",
      "EvaluatorHoldout: Processed 35569 (100.0%) in 54.47 sec. Users per second: 653\n",
      "Similarity column 35736 (100.0%), 313.13 column/sec. Elapsed time 1.90 min\n",
      "EvaluatorHoldout: Ignoring 172 ( 0.5%) Users that have less than 1 test interactions\n",
      "EvaluatorHoldout: Processed 35564 (100.0%) in 54.87 sec. Users per second: 648\n"
     ]
    },
    {
     "name": "stderr",
     "output_type": "stream",
     "text": [
      "[I 2025-01-05 17:36:55,943] Trial 65 finished with value: 0.03162591739011223 and parameters: {'similarity': 'euclidean', 'topK': 402, 'shrink': 505, 'feature_weighting': 'BM25', 'normalize_avg_row': True, 'similarity_from_distance_mode': 'exp', 'normalize': True}. Best is trial 61 with value: 0.04041086809620674.\n"
     ]
    },
    {
     "name": "stdout",
     "output_type": "stream",
     "text": [
      "Similarity column 35736 (100.0%), 3050.68 column/sec. Elapsed time 11.71 sec\n",
      "EvaluatorHoldout: Ignoring 173 ( 0.5%) Users that have less than 1 test interactions\n",
      "EvaluatorHoldout: Processed 35563 (100.0%) in 55.22 sec. Users per second: 644\n",
      "Similarity column 35736 (100.0%), 3059.80 column/sec. Elapsed time 11.68 sec\n",
      "EvaluatorHoldout: Ignoring 163 ( 0.5%) Users that have less than 1 test interactions\n",
      "EvaluatorHoldout: Processed 35573 (100.0%) in 54.81 sec. Users per second: 649\n",
      "Similarity column 35736 (100.0%), 3065.26 column/sec. Elapsed time 11.66 sec\n",
      "EvaluatorHoldout: Ignoring 150 ( 0.4%) Users that have less than 1 test interactions\n",
      "EvaluatorHoldout: Processed 35586 (100.0%) in 54.93 sec. Users per second: 648\n",
      "Similarity column 35736 (100.0%), 3090.24 column/sec. Elapsed time 11.56 sec\n",
      "EvaluatorHoldout: Ignoring 167 ( 0.5%) Users that have less than 1 test interactions\n",
      "EvaluatorHoldout: Processed 35569 (100.0%) in 54.97 sec. Users per second: 647\n",
      "Similarity column 35736 (100.0%), 3093.31 column/sec. Elapsed time 11.55 sec\n",
      "EvaluatorHoldout: Ignoring 172 ( 0.5%) Users that have less than 1 test interactions\n",
      "EvaluatorHoldout: Processed 35564 (100.0%) in 54.89 sec. Users per second: 648\n"
     ]
    },
    {
     "name": "stderr",
     "output_type": "stream",
     "text": [
      "[I 2025-01-05 17:42:34,467] Trial 66 finished with value: 0.040485377734646666 and parameters: {'similarity': 'cosine', 'topK': 422, 'shrink': 432, 'feature_weighting': 'BM25'}. Best is trial 66 with value: 0.040485377734646666.\n"
     ]
    },
    {
     "name": "stdout",
     "output_type": "stream",
     "text": [
      "Similarity column 35736 (100.0%), 3065.45 column/sec. Elapsed time 11.66 sec\n",
      "EvaluatorHoldout: Ignoring 173 ( 0.5%) Users that have less than 1 test interactions\n",
      "EvaluatorHoldout: Processed 35563 (100.0%) in 56.70 sec. Users per second: 627\n",
      "Similarity column 35736 (100.0%), 3059.84 column/sec. Elapsed time 11.68 sec\n",
      "EvaluatorHoldout: Ignoring 163 ( 0.5%) Users that have less than 1 test interactions\n",
      "EvaluatorHoldout: Processed 35573 (100.0%) in 56.40 sec. Users per second: 631\n",
      "Similarity column 35736 (100.0%), 3039.69 column/sec. Elapsed time 11.76 sec\n",
      "EvaluatorHoldout: Ignoring 150 ( 0.4%) Users that have less than 1 test interactions\n",
      "EvaluatorHoldout: Processed 35586 (100.0%) in 56.50 sec. Users per second: 630\n",
      "Similarity column 35736 (100.0%), 3043.71 column/sec. Elapsed time 11.74 sec\n",
      "EvaluatorHoldout: Ignoring 167 ( 0.5%) Users that have less than 1 test interactions\n",
      "EvaluatorHoldout: Processed 35569 (100.0%) in 56.53 sec. Users per second: 629\n",
      "Similarity column 35736 (100.0%), 3065.83 column/sec. Elapsed time 11.66 sec\n",
      "EvaluatorHoldout: Ignoring 172 ( 0.5%) Users that have less than 1 test interactions\n",
      "EvaluatorHoldout: Processed 35564 (100.0%) in 56.31 sec. Users per second: 632\n"
     ]
    },
    {
     "name": "stderr",
     "output_type": "stream",
     "text": [
      "[I 2025-01-05 17:48:21,733] Trial 67 finished with value: 0.040775898316922424 and parameters: {'similarity': 'cosine', 'topK': 479, 'shrink': 561, 'feature_weighting': 'BM25'}. Best is trial 67 with value: 0.040775898316922424.\n"
     ]
    },
    {
     "name": "stdout",
     "output_type": "stream",
     "text": [
      "Similarity column 35736 (100.0%), 3144.62 column/sec. Elapsed time 11.36 sec\n",
      "EvaluatorHoldout: Ignoring 173 ( 0.5%) Users that have less than 1 test interactions\n",
      "EvaluatorHoldout: Processed 35563 (100.0%) in 53.62 sec. Users per second: 663\n",
      "Similarity column 35736 (100.0%), 3150.81 column/sec. Elapsed time 11.34 sec\n",
      "EvaluatorHoldout: Ignoring 163 ( 0.5%) Users that have less than 1 test interactions\n",
      "EvaluatorHoldout: Processed 35573 (100.0%) in 53.41 sec. Users per second: 666\n",
      "Similarity column 35736 (100.0%), 3126.13 column/sec. Elapsed time 11.43 sec\n",
      "EvaluatorHoldout: Ignoring 150 ( 0.4%) Users that have less than 1 test interactions\n",
      "EvaluatorHoldout: Processed 35586 (100.0%) in 53.76 sec. Users per second: 662\n",
      "Similarity column 35736 (100.0%), 3129.18 column/sec. Elapsed time 11.42 sec\n",
      "EvaluatorHoldout: Ignoring 167 ( 0.5%) Users that have less than 1 test interactions\n",
      "EvaluatorHoldout: Processed 35569 (100.0%) in 53.47 sec. Users per second: 665\n",
      "Similarity column 35736 (100.0%), 3081.54 column/sec. Elapsed time 11.60 sec\n",
      "EvaluatorHoldout: Ignoring 172 ( 0.5%) Users that have less than 1 test interactions\n",
      "EvaluatorHoldout: Processed 35564 (100.0%) in 53.15 sec. Users per second: 669\n"
     ]
    },
    {
     "name": "stderr",
     "output_type": "stream",
     "text": [
      "[I 2025-01-05 17:53:52,965] Trial 68 finished with value: 0.03737154943984992 and parameters: {'similarity': 'jaccard', 'topK': 468, 'shrink': 659, 'feature_weighting': 'BM25'}. Best is trial 67 with value: 0.040775898316922424.\n"
     ]
    },
    {
     "name": "stdout",
     "output_type": "stream",
     "text": [
      "Similarity column 35736 (100.0%), 3028.50 column/sec. Elapsed time 11.80 sec\n",
      "EvaluatorHoldout: Ignoring 173 ( 0.5%) Users that have less than 1 test interactions\n",
      "EvaluatorHoldout: Processed 35563 (100.0%) in 57.38 sec. Users per second: 620\n",
      "Similarity column 35736 (100.0%), 3032.49 column/sec. Elapsed time 11.78 sec\n",
      "EvaluatorHoldout: Ignoring 163 ( 0.5%) Users that have less than 1 test interactions\n",
      "EvaluatorHoldout: Processed 35573 (100.0%) in 56.85 sec. Users per second: 626\n",
      "Similarity column 35736 (100.0%), 3060.89 column/sec. Elapsed time 11.68 sec\n",
      "EvaluatorHoldout: Ignoring 150 ( 0.4%) Users that have less than 1 test interactions\n",
      "EvaluatorHoldout: Processed 35586 (100.0%) in 56.44 sec. Users per second: 630\n",
      "Similarity column 35736 (100.0%), 3120.74 column/sec. Elapsed time 11.45 sec\n",
      "EvaluatorHoldout: Ignoring 167 ( 0.5%) Users that have less than 1 test interactions\n",
      "EvaluatorHoldout: Processed 35569 (100.0%) in 55.50 sec. Users per second: 641\n",
      "Similarity column 35736 (100.0%), 3129.55 column/sec. Elapsed time 11.42 sec\n",
      "EvaluatorHoldout: Ignoring 172 ( 0.5%) Users that have less than 1 test interactions\n",
      "EvaluatorHoldout: Processed 35564 (100.0%) in 56.39 sec. Users per second: 631\n"
     ]
    },
    {
     "name": "stderr",
     "output_type": "stream",
     "text": [
      "[I 2025-01-05 17:59:40,016] Trial 69 finished with value: 0.04116918116886592 and parameters: {'similarity': 'cosine', 'topK': 534, 'shrink': 554, 'feature_weighting': 'BM25'}. Best is trial 69 with value: 0.04116918116886592.\n"
     ]
    },
    {
     "name": "stdout",
     "output_type": "stream",
     "text": [
      "Similarity column 35736 (100.0%), 3036.69 column/sec. Elapsed time 11.77 sec\n",
      "EvaluatorHoldout: Ignoring 173 ( 0.5%) Users that have less than 1 test interactions\n",
      "EvaluatorHoldout: Processed 35563 (100.0%) in 55.75 sec. Users per second: 638\n",
      "Similarity column 35736 (100.0%), 3050.67 column/sec. Elapsed time 11.71 sec\n",
      "EvaluatorHoldout: Ignoring 163 ( 0.5%) Users that have less than 1 test interactions\n",
      "EvaluatorHoldout: Processed 35573 (100.0%) in 54.94 sec. Users per second: 647\n",
      "Similarity column 35736 (100.0%), 3065.53 column/sec. Elapsed time 11.66 sec\n",
      "EvaluatorHoldout: Ignoring 150 ( 0.4%) Users that have less than 1 test interactions\n",
      "EvaluatorHoldout: Processed 35586 (100.0%) in 53.86 sec. Users per second: 661\n",
      "Similarity column 35736 (100.0%), 3124.98 column/sec. Elapsed time 11.44 sec\n",
      "EvaluatorHoldout: Ignoring 167 ( 0.5%) Users that have less than 1 test interactions\n",
      "EvaluatorHoldout: Processed 35569 (100.0%) in 53.96 sec. Users per second: 659\n",
      "Similarity column 35736 (100.0%), 3122.19 column/sec. Elapsed time 11.45 sec\n",
      "EvaluatorHoldout: Ignoring 172 ( 0.5%) Users that have less than 1 test interactions\n",
      "EvaluatorHoldout: Processed 35564 (100.0%) in 55.05 sec. Users per second: 646\n"
     ]
    },
    {
     "name": "stderr",
     "output_type": "stream",
     "text": [
      "[I 2025-01-05 18:05:17,647] Trial 70 finished with value: 0.04105501835500318 and parameters: {'similarity': 'cosine', 'topK': 514, 'shrink': 542, 'feature_weighting': 'BM25'}. Best is trial 69 with value: 0.04116918116886592.\n"
     ]
    },
    {
     "name": "stdout",
     "output_type": "stream",
     "text": [
      "Similarity column 35736 (100.0%), 3095.15 column/sec. Elapsed time 11.55 sec\n",
      "EvaluatorHoldout: Ignoring 173 ( 0.5%) Users that have less than 1 test interactions\n",
      "EvaluatorHoldout: Processed 35563 (100.0%) in 55.45 sec. Users per second: 641\n",
      "Similarity column 35736 (100.0%), 3096.89 column/sec. Elapsed time 11.54 sec\n",
      "EvaluatorHoldout: Ignoring 163 ( 0.5%) Users that have less than 1 test interactions\n",
      "EvaluatorHoldout: Processed 35573 (100.0%) in 55.74 sec. Users per second: 638\n",
      "Similarity column 35736 (100.0%), 3110.94 column/sec. Elapsed time 11.49 sec\n",
      "EvaluatorHoldout: Ignoring 150 ( 0.4%) Users that have less than 1 test interactions\n",
      "EvaluatorHoldout: Processed 35586 (100.0%) in 56.27 sec. Users per second: 632\n",
      "Similarity column 35736 (100.0%), 3070.49 column/sec. Elapsed time 11.64 sec\n",
      "EvaluatorHoldout: Ignoring 167 ( 0.5%) Users that have less than 1 test interactions\n",
      "EvaluatorHoldout: Processed 35569 (100.0%) in 56.09 sec. Users per second: 634\n",
      "Similarity column 35736 (100.0%), 3044.02 column/sec. Elapsed time 11.74 sec\n",
      "EvaluatorHoldout: Ignoring 172 ( 0.5%) Users that have less than 1 test interactions\n",
      "EvaluatorHoldout: Processed 35564 (100.0%) in 55.75 sec. Users per second: 638\n"
     ]
    },
    {
     "name": "stderr",
     "output_type": "stream",
     "text": [
      "[I 2025-01-05 18:11:01,077] Trial 71 finished with value: 0.04121901835551252 and parameters: {'similarity': 'cosine', 'topK': 547, 'shrink': 565, 'feature_weighting': 'BM25'}. Best is trial 71 with value: 0.04121901835551252.\n"
     ]
    },
    {
     "name": "stdout",
     "output_type": "stream",
     "text": [
      "Similarity column 35736 (100.0%), 3096.80 column/sec. Elapsed time 11.54 sec\n",
      "EvaluatorHoldout: Ignoring 173 ( 0.5%) Users that have less than 1 test interactions\n",
      "EvaluatorHoldout: Processed 35563 (100.0%) in 56.11 sec. Users per second: 634\n",
      "Similarity column 35736 (100.0%), 3077.52 column/sec. Elapsed time 11.61 sec\n",
      "EvaluatorHoldout: Ignoring 163 ( 0.5%) Users that have less than 1 test interactions\n",
      "EvaluatorHoldout: Processed 35573 (100.0%) in 57.17 sec. Users per second: 622\n",
      "Similarity column 35736 (100.0%), 3078.63 column/sec. Elapsed time 11.61 sec\n",
      "EvaluatorHoldout: Ignoring 150 ( 0.4%) Users that have less than 1 test interactions\n",
      "EvaluatorHoldout: Processed 35586 (100.0%) in 56.00 sec. Users per second: 636\n",
      "Similarity column 35736 (100.0%), 3085.70 column/sec. Elapsed time 11.58 sec\n",
      "EvaluatorHoldout: Ignoring 167 ( 0.5%) Users that have less than 1 test interactions\n",
      "EvaluatorHoldout: Processed 35569 (100.0%) in 55.82 sec. Users per second: 637\n",
      "Similarity column 35736 (100.0%), 3072.84 column/sec. Elapsed time 11.63 sec\n",
      "EvaluatorHoldout: Ignoring 172 ( 0.5%) Users that have less than 1 test interactions\n",
      "EvaluatorHoldout: Processed 35564 (100.0%) in 55.79 sec. Users per second: 637\n"
     ]
    },
    {
     "name": "stderr",
     "output_type": "stream",
     "text": [
      "[I 2025-01-05 18:16:46,703] Trial 72 finished with value: 0.04122970757050187 and parameters: {'similarity': 'cosine', 'topK': 549, 'shrink': 572, 'feature_weighting': 'BM25'}. Best is trial 72 with value: 0.04122970757050187.\n"
     ]
    },
    {
     "name": "stdout",
     "output_type": "stream",
     "text": [
      "Similarity column 35736 (100.0%), 3089.10 column/sec. Elapsed time 11.57 sec\n",
      "EvaluatorHoldout: Ignoring 173 ( 0.5%) Users that have less than 1 test interactions\n",
      "EvaluatorHoldout: Processed 35563 (100.0%) in 55.99 sec. Users per second: 635\n",
      "Similarity column 35736 (100.0%), 3091.75 column/sec. Elapsed time 11.56 sec\n",
      "EvaluatorHoldout: Ignoring 163 ( 0.5%) Users that have less than 1 test interactions\n",
      "EvaluatorHoldout: Processed 35573 (100.0%) in 54.89 sec. Users per second: 648\n",
      "Similarity column 35736 (100.0%), 3120.62 column/sec. Elapsed time 11.45 sec\n",
      "EvaluatorHoldout: Ignoring 150 ( 0.4%) Users that have less than 1 test interactions\n",
      "EvaluatorHoldout: Processed 35586 (100.0%) in 55.06 sec. Users per second: 646\n",
      "Similarity column 35736 (100.0%), 3073.37 column/sec. Elapsed time 11.63 sec\n",
      "EvaluatorHoldout: Ignoring 167 ( 0.5%) Users that have less than 1 test interactions\n",
      "EvaluatorHoldout: Processed 35569 (100.0%) in 55.74 sec. Users per second: 638\n",
      "Similarity column 35736 (100.0%), 3085.76 column/sec. Elapsed time 11.58 sec\n",
      "EvaluatorHoldout: Ignoring 172 ( 0.5%) Users that have less than 1 test interactions\n",
      "EvaluatorHoldout: Processed 35564 (100.0%) in 56.14 sec. Users per second: 634\n"
     ]
    },
    {
     "name": "stderr",
     "output_type": "stream",
     "text": [
      "[I 2025-01-05 18:22:28,195] Trial 73 finished with value: 0.04123925299039255 and parameters: {'similarity': 'cosine', 'topK': 549, 'shrink': 558, 'feature_weighting': 'BM25'}. Best is trial 73 with value: 0.04123925299039255.\n"
     ]
    },
    {
     "name": "stdout",
     "output_type": "stream",
     "text": [
      "Similarity column 35736 (100.0%), 3039.17 column/sec. Elapsed time 11.76 sec\n",
      "EvaluatorHoldout: Ignoring 173 ( 0.5%) Users that have less than 1 test interactions\n",
      "EvaluatorHoldout: Processed 35563 (100.0%) in 57.61 sec. Users per second: 617\n",
      "Similarity column 35736 (100.0%), 3063.84 column/sec. Elapsed time 11.66 sec\n",
      "EvaluatorHoldout: Ignoring 163 ( 0.5%) Users that have less than 1 test interactions\n",
      "EvaluatorHoldout: Processed 35573 (100.0%) in 57.19 sec. Users per second: 622\n",
      "Similarity column 35736 (100.0%), 3086.35 column/sec. Elapsed time 11.58 sec\n",
      "EvaluatorHoldout: Ignoring 150 ( 0.4%) Users that have less than 1 test interactions\n",
      "EvaluatorHoldout: Processed 35586 (100.0%) in 57.57 sec. Users per second: 618\n",
      "Similarity column 35736 (100.0%), 3085.76 column/sec. Elapsed time 11.58 sec\n",
      "EvaluatorHoldout: Ignoring 167 ( 0.5%) Users that have less than 1 test interactions\n",
      "EvaluatorHoldout: Processed 35569 (100.0%) in 57.26 sec. Users per second: 621\n",
      "Similarity column 35736 (100.0%), 3037.74 column/sec. Elapsed time 11.76 sec\n",
      "EvaluatorHoldout: Ignoring 172 ( 0.5%) Users that have less than 1 test interactions\n",
      "EvaluatorHoldout: Processed 35564 (100.0%) in 58.04 sec. Users per second: 613\n"
     ]
    },
    {
     "name": "stderr",
     "output_type": "stream",
     "text": [
      "[I 2025-01-05 18:28:20,936] Trial 74 finished with value: 0.04126272912650639 and parameters: {'similarity': 'cosine', 'topK': 564, 'shrink': 633, 'feature_weighting': 'BM25'}. Best is trial 74 with value: 0.04126272912650639.\n"
     ]
    },
    {
     "name": "stdout",
     "output_type": "stream",
     "text": [
      "Similarity column 35736 (100.0%), 3043.62 column/sec. Elapsed time 11.74 sec\n",
      "EvaluatorHoldout: Ignoring 173 ( 0.5%) Users that have less than 1 test interactions\n",
      "EvaluatorHoldout: Processed 35563 (100.0%) in 55.92 sec. Users per second: 636\n",
      "Similarity column 35736 (100.0%), 3058.72 column/sec. Elapsed time 11.68 sec\n",
      "EvaluatorHoldout: Ignoring 163 ( 0.5%) Users that have less than 1 test interactions\n",
      "EvaluatorHoldout: Processed 35573 (100.0%) in 56.05 sec. Users per second: 635\n",
      "Similarity column 35736 (100.0%), 3063.50 column/sec. Elapsed time 11.67 sec\n",
      "EvaluatorHoldout: Ignoring 150 ( 0.4%) Users that have less than 1 test interactions\n",
      "EvaluatorHoldout: Processed 35586 (100.0%) in 56.17 sec. Users per second: 634\n",
      "Similarity column 35736 (100.0%), 3055.31 column/sec. Elapsed time 11.70 sec\n",
      "EvaluatorHoldout: Ignoring 167 ( 0.5%) Users that have less than 1 test interactions\n",
      "EvaluatorHoldout: Processed 35569 (100.0%) in 55.88 sec. Users per second: 637\n",
      "Similarity column 35736 (100.0%), 3064.91 column/sec. Elapsed time 11.66 sec\n",
      "EvaluatorHoldout: Ignoring 172 ( 0.5%) Users that have less than 1 test interactions\n",
      "EvaluatorHoldout: Processed 35564 (100.0%) in 55.83 sec. Users per second: 637\n"
     ]
    },
    {
     "name": "stderr",
     "output_type": "stream",
     "text": [
      "[I 2025-01-05 18:34:06,010] Trial 75 finished with value: 0.041211667872499 and parameters: {'similarity': 'asymmetric', 'topK': 551, 'shrink': 620, 'feature_weighting': 'BM25', 'asymmetric_alpha': 1.0733647894530987}. Best is trial 74 with value: 0.04126272912650639.\n"
     ]
    },
    {
     "name": "stdout",
     "output_type": "stream",
     "text": [
      "Similarity column 35736 (100.0%), 3040.24 column/sec. Elapsed time 11.75 sec\n",
      "EvaluatorHoldout: Ignoring 173 ( 0.5%) Users that have less than 1 test interactions\n",
      "EvaluatorHoldout: Processed 35563 (100.0%) in 55.99 sec. Users per second: 635\n",
      "Similarity column 35736 (100.0%), 3040.55 column/sec. Elapsed time 11.75 sec\n",
      "EvaluatorHoldout: Ignoring 163 ( 0.5%) Users that have less than 1 test interactions\n",
      "EvaluatorHoldout: Processed 35573 (100.0%) in 55.64 sec. Users per second: 639\n",
      "Similarity column 35736 (100.0%), 3064.02 column/sec. Elapsed time 11.66 sec\n",
      "EvaluatorHoldout: Ignoring 150 ( 0.4%) Users that have less than 1 test interactions\n",
      "EvaluatorHoldout: Processed 35586 (100.0%) in 56.00 sec. Users per second: 635\n",
      "Similarity column 35736 (100.0%), 3058.74 column/sec. Elapsed time 11.68 sec\n",
      "EvaluatorHoldout: Ignoring 167 ( 0.5%) Users that have less than 1 test interactions\n",
      "EvaluatorHoldout: Processed 35569 (100.0%) in 55.94 sec. Users per second: 636\n",
      "Similarity column 35736 (100.0%), 3059.81 column/sec. Elapsed time 11.68 sec\n",
      "EvaluatorHoldout: Ignoring 172 ( 0.5%) Users that have less than 1 test interactions\n",
      "EvaluatorHoldout: Processed 35564 (100.0%) in 55.87 sec. Users per second: 637\n"
     ]
    },
    {
     "name": "stderr",
     "output_type": "stream",
     "text": [
      "[I 2025-01-05 18:39:51,019] Trial 76 finished with value: 0.041199815527245706 and parameters: {'similarity': 'asymmetric', 'topK': 563, 'shrink': 633, 'feature_weighting': 'BM25', 'asymmetric_alpha': 1.126134195367899}. Best is trial 74 with value: 0.04126272912650639.\n"
     ]
    },
    {
     "name": "stdout",
     "output_type": "stream",
     "text": [
      "Similarity column 35736 (100.0%), 3031.45 column/sec. Elapsed time 11.79 sec\n",
      "EvaluatorHoldout: Ignoring 173 ( 0.5%) Users that have less than 1 test interactions\n",
      "EvaluatorHoldout: Processed 35563 (100.0%) in 56.41 sec. Users per second: 630\n",
      "Similarity column 35736 (100.0%), 3027.23 column/sec. Elapsed time 11.80 sec\n",
      "EvaluatorHoldout: Ignoring 163 ( 0.5%) Users that have less than 1 test interactions\n",
      "EvaluatorHoldout: Processed 35573 (100.0%) in 55.97 sec. Users per second: 636\n",
      "Similarity column 35736 (100.0%), 3037.04 column/sec. Elapsed time 11.77 sec\n",
      "EvaluatorHoldout: Ignoring 150 ( 0.4%) Users that have less than 1 test interactions\n",
      "EvaluatorHoldout: Processed 35586 (100.0%) in 56.33 sec. Users per second: 632\n",
      "Similarity column 35736 (100.0%), 3056.44 column/sec. Elapsed time 11.69 sec\n",
      "EvaluatorHoldout: Ignoring 167 ( 0.5%) Users that have less than 1 test interactions\n",
      "EvaluatorHoldout: Processed 35569 (100.0%) in 55.85 sec. Users per second: 637\n",
      "Similarity column 35736 (100.0%), 3064.07 column/sec. Elapsed time 11.66 sec\n",
      "EvaluatorHoldout: Ignoring 172 ( 0.5%) Users that have less than 1 test interactions\n",
      "EvaluatorHoldout: Processed 35564 (100.0%) in 55.84 sec. Users per second: 637\n"
     ]
    },
    {
     "name": "stderr",
     "output_type": "stream",
     "text": [
      "[I 2025-01-05 18:45:37,010] Trial 77 finished with value: 0.04118710400434709 and parameters: {'similarity': 'asymmetric', 'topK': 560, 'shrink': 628, 'feature_weighting': 'BM25', 'asymmetric_alpha': 1.1232342527081431}. Best is trial 74 with value: 0.04126272912650639.\n"
     ]
    },
    {
     "name": "stdout",
     "output_type": "stream",
     "text": [
      "Similarity column 35736 (100.0%), 3043.94 column/sec. Elapsed time 11.74 sec\n",
      "EvaluatorHoldout: Ignoring 173 ( 0.5%) Users that have less than 1 test interactions\n",
      "EvaluatorHoldout: Processed 35563 (100.0%) in 56.19 sec. Users per second: 633\n",
      "Similarity column 35736 (100.0%), 3033.40 column/sec. Elapsed time 11.78 sec\n",
      "EvaluatorHoldout: Ignoring 163 ( 0.5%) Users that have less than 1 test interactions\n",
      "EvaluatorHoldout: Processed 35573 (100.0%) in 56.30 sec. Users per second: 632\n",
      "Similarity column 35736 (100.0%), 3029.90 column/sec. Elapsed time 11.79 sec\n",
      "EvaluatorHoldout: Ignoring 150 ( 0.4%) Users that have less than 1 test interactions\n",
      "EvaluatorHoldout: Processed 35586 (100.0%) in 56.42 sec. Users per second: 631\n",
      "Similarity column 35736 (100.0%), 3049.47 column/sec. Elapsed time 11.72 sec\n",
      "EvaluatorHoldout: Ignoring 167 ( 0.5%) Users that have less than 1 test interactions\n",
      "EvaluatorHoldout: Processed 35569 (100.0%) in 56.09 sec. Users per second: 634\n",
      "Similarity column 35736 (100.0%), 3059.70 column/sec. Elapsed time 11.68 sec\n",
      "EvaluatorHoldout: Ignoring 172 ( 0.5%) Users that have less than 1 test interactions\n",
      "EvaluatorHoldout: Processed 35564 (100.0%) in 56.06 sec. Users per second: 634\n"
     ]
    },
    {
     "name": "stderr",
     "output_type": "stream",
     "text": [
      "[I 2025-01-05 18:51:23,800] Trial 78 finished with value: 0.04129960128332609 and parameters: {'similarity': 'asymmetric', 'topK': 571, 'shrink': 637, 'feature_weighting': 'BM25', 'asymmetric_alpha': 1.098738862371363}. Best is trial 78 with value: 0.04129960128332609.\n"
     ]
    },
    {
     "name": "stdout",
     "output_type": "stream",
     "text": [
      "Similarity column 35736 (100.0%), 3062.70 column/sec. Elapsed time 11.67 sec\n",
      "EvaluatorHoldout: Ignoring 173 ( 0.5%) Users that have less than 1 test interactions\n",
      "EvaluatorHoldout: Processed 35563 (100.0%) in 56.52 sec. Users per second: 629\n",
      "Similarity column 35736 (100.0%), 3040.70 column/sec. Elapsed time 11.75 sec\n",
      "EvaluatorHoldout: Ignoring 163 ( 0.5%) Users that have less than 1 test interactions\n",
      "EvaluatorHoldout: Processed 35573 (100.0%) in 56.86 sec. Users per second: 626\n",
      "Similarity column 35736 (100.0%), 3036.28 column/sec. Elapsed time 11.77 sec\n",
      "EvaluatorHoldout: Ignoring 150 ( 0.4%) Users that have less than 1 test interactions\n",
      "EvaluatorHoldout: Processed 35586 (100.0%) in 56.91 sec. Users per second: 625\n",
      "Similarity column 35736 (100.0%), 3054.87 column/sec. Elapsed time 11.70 sec\n",
      "EvaluatorHoldout: Ignoring 167 ( 0.5%) Users that have less than 1 test interactions\n",
      "EvaluatorHoldout: Processed 35569 (100.0%) in 56.92 sec. Users per second: 625\n",
      "Similarity column 35736 (100.0%), 3051.20 column/sec. Elapsed time 11.71 sec\n",
      "EvaluatorHoldout: Ignoring 172 ( 0.5%) Users that have less than 1 test interactions\n",
      "EvaluatorHoldout: Processed 35564 (100.0%) in 56.56 sec. Users per second: 629\n"
     ]
    },
    {
     "name": "stderr",
     "output_type": "stream",
     "text": [
      "[I 2025-01-05 18:57:13,318] Trial 79 finished with value: 0.041351391999530994 and parameters: {'similarity': 'asymmetric', 'topK': 596, 'shrink': 630, 'feature_weighting': 'BM25', 'asymmetric_alpha': 1.1429183768601041}. Best is trial 79 with value: 0.041351391999530994.\n"
     ]
    },
    {
     "name": "stdout",
     "output_type": "stream",
     "text": [
      "Similarity column 35736 (100.0%), 3055.31 column/sec. Elapsed time 11.70 sec\n",
      "EvaluatorHoldout: Ignoring 173 ( 0.5%) Users that have less than 1 test interactions\n",
      "EvaluatorHoldout: Processed 35563 (100.0%) in 57.44 sec. Users per second: 619\n",
      "Similarity column 35736 (100.0%), 3036.62 column/sec. Elapsed time 11.77 sec\n",
      "EvaluatorHoldout: Ignoring 163 ( 0.5%) Users that have less than 1 test interactions\n",
      "EvaluatorHoldout: Processed 35573 (100.0%) in 57.24 sec. Users per second: 621\n",
      "Similarity column 35736 (100.0%), 3043.60 column/sec. Elapsed time 11.74 sec\n",
      "EvaluatorHoldout: Ignoring 150 ( 0.4%) Users that have less than 1 test interactions\n",
      "EvaluatorHoldout: Processed 35586 (100.0%) in 57.78 sec. Users per second: 616\n",
      "Similarity column 35736 (100.0%), 3047.04 column/sec. Elapsed time 11.73 sec\n",
      "EvaluatorHoldout: Ignoring 167 ( 0.5%) Users that have less than 1 test interactions\n",
      "EvaluatorHoldout: Processed 35569 (100.0%) in 57.41 sec. Users per second: 620\n",
      "Similarity column 35736 (100.0%), 3042.12 column/sec. Elapsed time 11.75 sec\n",
      "EvaluatorHoldout: Ignoring 172 ( 0.5%) Users that have less than 1 test interactions\n",
      "EvaluatorHoldout: Processed 35564 (100.0%) in 57.21 sec. Users per second: 622\n"
     ]
    },
    {
     "name": "stderr",
     "output_type": "stream",
     "text": [
      "[I 2025-01-05 19:03:06,406] Trial 80 finished with value: 0.04154552872966882 and parameters: {'similarity': 'asymmetric', 'topK': 624, 'shrink': 738, 'feature_weighting': 'BM25', 'asymmetric_alpha': 1.1173976984837253}. Best is trial 80 with value: 0.04154552872966882.\n"
     ]
    },
    {
     "name": "stdout",
     "output_type": "stream",
     "text": [
      "Similarity column 35736 (100.0%), 3036.36 column/sec. Elapsed time 11.77 sec\n",
      "EvaluatorHoldout: Ignoring 173 ( 0.5%) Users that have less than 1 test interactions\n",
      "EvaluatorHoldout: Processed 35563 (100.0%) in 57.38 sec. Users per second: 620\n",
      "Similarity column 35736 (100.0%), 3029.08 column/sec. Elapsed time 11.80 sec\n",
      "EvaluatorHoldout: Ignoring 163 ( 0.5%) Users that have less than 1 test interactions\n",
      "EvaluatorHoldout: Processed 35573 (100.0%) in 57.09 sec. Users per second: 623\n",
      "Similarity column 35736 (100.0%), 3046.89 column/sec. Elapsed time 11.73 sec\n",
      "EvaluatorHoldout: Ignoring 150 ( 0.4%) Users that have less than 1 test interactions\n",
      "EvaluatorHoldout: Processed 35586 (100.0%) in 57.46 sec. Users per second: 619\n",
      "Similarity column 35736 (100.0%), 3056.58 column/sec. Elapsed time 11.69 sec\n",
      "EvaluatorHoldout: Ignoring 167 ( 0.5%) Users that have less than 1 test interactions\n",
      "EvaluatorHoldout: Processed 35569 (100.0%) in 57.33 sec. Users per second: 620\n",
      "Similarity column 35736 (100.0%), 3058.18 column/sec. Elapsed time 11.69 sec\n",
      "EvaluatorHoldout: Ignoring 172 ( 0.5%) Users that have less than 1 test interactions\n",
      "EvaluatorHoldout: Processed 35564 (100.0%) in 57.36 sec. Users per second: 620\n"
     ]
    },
    {
     "name": "stderr",
     "output_type": "stream",
     "text": [
      "[I 2025-01-05 19:08:59,056] Trial 81 finished with value: 0.04151616648513147 and parameters: {'similarity': 'asymmetric', 'topK': 613, 'shrink': 772, 'feature_weighting': 'BM25', 'asymmetric_alpha': 1.0995494832850339}. Best is trial 80 with value: 0.04154552872966882.\n"
     ]
    },
    {
     "name": "stdout",
     "output_type": "stream",
     "text": [
      "Similarity column 35736 (100.0%), 3035.00 column/sec. Elapsed time 11.77 sec\n",
      "EvaluatorHoldout: Ignoring 173 ( 0.5%) Users that have less than 1 test interactions\n",
      "EvaluatorHoldout: Processed 35563 (100.0%) in 58.14 sec. Users per second: 612\n",
      "Similarity column 35736 (100.0%), 3005.81 column/sec. Elapsed time 11.89 sec\n",
      "EvaluatorHoldout: Ignoring 163 ( 0.5%) Users that have less than 1 test interactions\n",
      "EvaluatorHoldout: Processed 35573 (100.0%) in 57.87 sec. Users per second: 615\n",
      "Similarity column 35736 (100.0%), 3035.83 column/sec. Elapsed time 11.77 sec\n",
      "EvaluatorHoldout: Ignoring 150 ( 0.4%) Users that have less than 1 test interactions\n",
      "EvaluatorHoldout: Processed 35586 (100.0%) in 58.06 sec. Users per second: 613\n",
      "Similarity column 35736 (100.0%), 3039.12 column/sec. Elapsed time 11.76 sec\n",
      "EvaluatorHoldout: Ignoring 167 ( 0.5%) Users that have less than 1 test interactions\n",
      "EvaluatorHoldout: Processed 35569 (100.0%) in 58.37 sec. Users per second: 609\n",
      "Similarity column 35736 (100.0%), 3006.55 column/sec. Elapsed time 11.89 sec\n",
      "EvaluatorHoldout: Ignoring 172 ( 0.5%) Users that have less than 1 test interactions\n",
      "EvaluatorHoldout: Processed 35564 (100.0%) in 58.21 sec. Users per second: 611\n"
     ]
    },
    {
     "name": "stderr",
     "output_type": "stream",
     "text": [
      "[I 2025-01-05 19:14:56,368] Trial 82 finished with value: 0.04174835022278569 and parameters: {'similarity': 'asymmetric', 'topK': 632, 'shrink': 785, 'feature_weighting': 'BM25', 'asymmetric_alpha': 1.0023601787763998}. Best is trial 82 with value: 0.04174835022278569.\n"
     ]
    },
    {
     "name": "stdout",
     "output_type": "stream",
     "text": [
      "Similarity column 35736 (100.0%), 3028.24 column/sec. Elapsed time 11.80 sec\n",
      "EvaluatorHoldout: Ignoring 173 ( 0.5%) Users that have less than 1 test interactions\n",
      "EvaluatorHoldout: Processed 35563 (100.0%) in 56.54 sec. Users per second: 629\n",
      "Similarity column 35736 (100.0%), 3027.68 column/sec. Elapsed time 11.80 sec\n",
      "EvaluatorHoldout: Ignoring 163 ( 0.5%) Users that have less than 1 test interactions\n",
      "EvaluatorHoldout: Processed 35573 (100.0%) in 57.15 sec. Users per second: 622\n",
      "Similarity column 35736 (100.0%), 3015.61 column/sec. Elapsed time 11.85 sec\n",
      "EvaluatorHoldout: Ignoring 150 ( 0.4%) Users that have less than 1 test interactions\n",
      "EvaluatorHoldout: Processed 35586 (100.0%) in 57.27 sec. Users per second: 621\n",
      "Similarity column 35736 (100.0%), 3019.54 column/sec. Elapsed time 11.83 sec\n",
      "EvaluatorHoldout: Ignoring 167 ( 0.5%) Users that have less than 1 test interactions\n",
      "EvaluatorHoldout: Processed 35569 (100.0%) in 57.82 sec. Users per second: 615\n",
      "Similarity column 35736 (100.0%), 3004.11 column/sec. Elapsed time 11.90 sec\n",
      "EvaluatorHoldout: Ignoring 172 ( 0.5%) Users that have less than 1 test interactions\n",
      "EvaluatorHoldout: Processed 35564 (100.0%) in 57.51 sec. Users per second: 618\n"
     ]
    },
    {
     "name": "stderr",
     "output_type": "stream",
     "text": [
      "[I 2025-01-05 19:20:49,398] Trial 83 finished with value: 0.040932350638236095 and parameters: {'similarity': 'asymmetric', 'topK': 606, 'shrink': 827, 'feature_weighting': 'BM25', 'asymmetric_alpha': 1.3737141188443887}. Best is trial 82 with value: 0.04174835022278569.\n"
     ]
    },
    {
     "name": "stdout",
     "output_type": "stream",
     "text": [
      "Similarity column 35736 (100.0%), 3012.35 column/sec. Elapsed time 11.86 sec\n",
      "EvaluatorHoldout: Ignoring 173 ( 0.5%) Users that have less than 1 test interactions\n",
      "EvaluatorHoldout: Processed 35563 (100.0%) in 1.01 min. Users per second: 589\n",
      "Similarity column 35736 (100.0%), 2996.86 column/sec. Elapsed time 11.92 sec\n",
      "EvaluatorHoldout: Ignoring 163 ( 0.5%) Users that have less than 1 test interactions\n",
      "EvaluatorHoldout: Processed 35573 (100.0%) in 1.00 min. Users per second: 592\n",
      "Similarity column 35736 (100.0%), 2962.49 column/sec. Elapsed time 12.06 sec\n",
      "EvaluatorHoldout: Ignoring 150 ( 0.4%) Users that have less than 1 test interactions\n",
      "EvaluatorHoldout: Processed 35586 (100.0%) in 1.00 min. Users per second: 592\n",
      "Similarity column 35736 (100.0%), 3023.51 column/sec. Elapsed time 11.82 sec\n",
      "EvaluatorHoldout: Ignoring 167 ( 0.5%) Users that have less than 1 test interactions\n",
      "EvaluatorHoldout: Processed 35569 (100.0%) in 59.87 sec. Users per second: 594\n",
      "Similarity column 35736 (100.0%), 3009.32 column/sec. Elapsed time 11.88 sec\n",
      "EvaluatorHoldout: Ignoring 172 ( 0.5%) Users that have less than 1 test interactions\n",
      "EvaluatorHoldout: Processed 35564 (100.0%) in 1.00 min. Users per second: 592\n"
     ]
    },
    {
     "name": "stderr",
     "output_type": "stream",
     "text": [
      "[I 2025-01-05 19:26:57,266] Trial 84 finished with value: 0.04192699394126524 and parameters: {'similarity': 'asymmetric', 'topK': 648, 'shrink': 767, 'feature_weighting': 'BM25', 'asymmetric_alpha': 0.7327031144163606}. Best is trial 84 with value: 0.04192699394126524.\n"
     ]
    },
    {
     "name": "stdout",
     "output_type": "stream",
     "text": [
      "Similarity column 35736 (100.0%), 3008.65 column/sec. Elapsed time 11.88 sec\n",
      "EvaluatorHoldout: Ignoring 173 ( 0.5%) Users that have less than 1 test interactions\n",
      "EvaluatorHoldout: Processed 35563 (100.0%) in 1.01 min. Users per second: 589\n",
      "Similarity column 35736 (100.0%), 3001.01 column/sec. Elapsed time 11.91 sec\n",
      "EvaluatorHoldout: Ignoring 163 ( 0.5%) Users that have less than 1 test interactions\n",
      "EvaluatorHoldout: Processed 35573 (100.0%) in 1.00 min. Users per second: 592\n",
      "Similarity column 35736 (100.0%), 3015.34 column/sec. Elapsed time 11.85 sec\n",
      "EvaluatorHoldout: Ignoring 150 ( 0.4%) Users that have less than 1 test interactions\n",
      "EvaluatorHoldout: Processed 35586 (100.0%) in 1.01 min. Users per second: 589\n",
      "Similarity column 35736 (100.0%), 3007.97 column/sec. Elapsed time 11.88 sec\n",
      "EvaluatorHoldout: Ignoring 167 ( 0.5%) Users that have less than 1 test interactions\n",
      "EvaluatorHoldout: Processed 35569 (100.0%) in 59.98 sec. Users per second: 593\n",
      "Similarity column 35736 (100.0%), 2991.55 column/sec. Elapsed time 11.95 sec\n",
      "EvaluatorHoldout: Ignoring 172 ( 0.5%) Users that have less than 1 test interactions\n",
      "EvaluatorHoldout: Processed 35564 (100.0%) in 59.82 sec. Users per second: 594\n"
     ]
    },
    {
     "name": "stderr",
     "output_type": "stream",
     "text": [
      "[I 2025-01-05 19:33:05,471] Trial 85 finished with value: 0.0419866265318241 and parameters: {'similarity': 'asymmetric', 'topK': 666, 'shrink': 775, 'feature_weighting': 'BM25', 'asymmetric_alpha': 0.7777683334913436}. Best is trial 85 with value: 0.0419866265318241.\n"
     ]
    },
    {
     "name": "stdout",
     "output_type": "stream",
     "text": [
      "Similarity column 35736 (100.0%), 3011.23 column/sec. Elapsed time 11.87 sec\n",
      "EvaluatorHoldout: Ignoring 173 ( 0.5%) Users that have less than 1 test interactions\n",
      "EvaluatorHoldout: Processed 35563 (100.0%) in 1.01 min. Users per second: 588\n",
      "Similarity column 35736 (100.0%), 3021.74 column/sec. Elapsed time 11.83 sec\n",
      "EvaluatorHoldout: Ignoring 163 ( 0.5%) Users that have less than 1 test interactions\n",
      "EvaluatorHoldout: Processed 35573 (100.0%) in 59.94 sec. Users per second: 593\n",
      "Similarity column 35736 (100.0%), 2993.57 column/sec. Elapsed time 11.94 sec\n",
      "EvaluatorHoldout: Ignoring 150 ( 0.4%) Users that have less than 1 test interactions\n",
      "EvaluatorHoldout: Processed 35586 (100.0%) in 1.00 min. Users per second: 593\n",
      "Similarity column 35736 (100.0%), 3004.36 column/sec. Elapsed time 11.89 sec\n",
      "EvaluatorHoldout: Ignoring 167 ( 0.5%) Users that have less than 1 test interactions\n",
      "EvaluatorHoldout: Processed 35569 (100.0%) in 59.89 sec. Users per second: 594\n",
      "Similarity column 35736 (100.0%), 3019.44 column/sec. Elapsed time 11.84 sec\n",
      "EvaluatorHoldout: Ignoring 172 ( 0.5%) Users that have less than 1 test interactions\n",
      "EvaluatorHoldout: Processed 35564 (100.0%) in 59.97 sec. Users per second: 593\n"
     ]
    },
    {
     "name": "stderr",
     "output_type": "stream",
     "text": [
      "[I 2025-01-05 19:39:13,135] Trial 86 finished with value: 0.041996908589045825 and parameters: {'similarity': 'asymmetric', 'topK': 670, 'shrink': 779, 'feature_weighting': 'BM25', 'asymmetric_alpha': 0.740597232525724}. Best is trial 86 with value: 0.041996908589045825.\n"
     ]
    },
    {
     "name": "stdout",
     "output_type": "stream",
     "text": [
      "Similarity column 35736 (100.0%), 3000.76 column/sec. Elapsed time 11.91 sec\n",
      "EvaluatorHoldout: Ignoring 173 ( 0.5%) Users that have less than 1 test interactions\n",
      "EvaluatorHoldout: Processed 35563 (100.0%) in 1.00 min. Users per second: 592\n",
      "Similarity column 35736 (100.0%), 3014.85 column/sec. Elapsed time 11.85 sec\n",
      "EvaluatorHoldout: Ignoring 163 ( 0.5%) Users that have less than 1 test interactions\n",
      "EvaluatorHoldout: Processed 35573 (100.0%) in 59.84 sec. Users per second: 595\n",
      "Similarity column 35736 (100.0%), 3025.61 column/sec. Elapsed time 11.81 sec\n",
      "EvaluatorHoldout: Ignoring 150 ( 0.4%) Users that have less than 1 test interactions\n",
      "EvaluatorHoldout: Processed 35586 (100.0%) in 1.00 min. Users per second: 592\n",
      "Similarity column 35736 (100.0%), 2962.69 column/sec. Elapsed time 12.06 sec\n",
      "EvaluatorHoldout: Ignoring 167 ( 0.5%) Users that have less than 1 test interactions\n",
      "EvaluatorHoldout: Processed 35569 (100.0%) in 1.00 min. Users per second: 592\n",
      "Similarity column 35736 (100.0%), 3020.42 column/sec. Elapsed time 11.83 sec\n",
      "EvaluatorHoldout: Ignoring 172 ( 0.5%) Users that have less than 1 test interactions\n",
      "EvaluatorHoldout: Processed 35564 (100.0%) in 59.76 sec. Users per second: 595\n"
     ]
    },
    {
     "name": "stderr",
     "output_type": "stream",
     "text": [
      "[I 2025-01-05 19:45:20,573] Trial 87 finished with value: 0.04198944870540431 and parameters: {'similarity': 'asymmetric', 'topK': 670, 'shrink': 776, 'feature_weighting': 'BM25', 'asymmetric_alpha': 0.7098635334599472}. Best is trial 86 with value: 0.041996908589045825.\n"
     ]
    },
    {
     "name": "stdout",
     "output_type": "stream",
     "text": [
      "Similarity column 35736 (100.0%), 3013.55 column/sec. Elapsed time 11.86 sec\n",
      "EvaluatorHoldout: Ignoring 173 ( 0.5%) Users that have less than 1 test interactions\n",
      "EvaluatorHoldout: Processed 35563 (100.0%) in 59.84 sec. Users per second: 594\n",
      "Similarity column 35736 (100.0%), 3008.26 column/sec. Elapsed time 11.88 sec\n",
      "EvaluatorHoldout: Ignoring 163 ( 0.5%) Users that have less than 1 test interactions\n",
      "EvaluatorHoldout: Processed 35573 (100.0%) in 59.98 sec. Users per second: 593\n",
      "Similarity column 35736 (100.0%), 3026.58 column/sec. Elapsed time 11.81 sec\n",
      "EvaluatorHoldout: Ignoring 150 ( 0.4%) Users that have less than 1 test interactions\n",
      "EvaluatorHoldout: Processed 35586 (100.0%) in 1.01 min. Users per second: 589\n",
      "Similarity column 35736 (100.0%), 3023.50 column/sec. Elapsed time 11.82 sec\n",
      "EvaluatorHoldout: Ignoring 167 ( 0.5%) Users that have less than 1 test interactions\n",
      "EvaluatorHoldout: Processed 35569 (100.0%) in 59.80 sec. Users per second: 595\n",
      "Similarity column 35736 (100.0%), 2993.36 column/sec. Elapsed time 11.94 sec\n",
      "EvaluatorHoldout: Ignoring 172 ( 0.5%) Users that have less than 1 test interactions\n",
      "EvaluatorHoldout: Processed 35564 (100.0%) in 1.01 min. Users per second: 588\n"
     ]
    },
    {
     "name": "stderr",
     "output_type": "stream",
     "text": [
      "[I 2025-01-05 19:51:28,349] Trial 88 finished with value: 0.04201970650971439 and parameters: {'similarity': 'asymmetric', 'topK': 676, 'shrink': 762, 'feature_weighting': 'BM25', 'asymmetric_alpha': 0.7163904243280802}. Best is trial 88 with value: 0.04201970650971439.\n"
     ]
    },
    {
     "name": "stdout",
     "output_type": "stream",
     "text": [
      "Similarity column 35736 (100.0%), 2991.87 column/sec. Elapsed time 11.94 sec\n",
      "EvaluatorHoldout: Ignoring 173 ( 0.5%) Users that have less than 1 test interactions\n",
      "EvaluatorHoldout: Processed 35563 (100.0%) in 1.01 min. Users per second: 589\n",
      "Similarity column 35736 (100.0%), 3002.21 column/sec. Elapsed time 11.90 sec\n",
      "EvaluatorHoldout: Ignoring 163 ( 0.5%) Users that have less than 1 test interactions\n",
      "EvaluatorHoldout: Processed 35573 (100.0%) in 1.01 min. Users per second: 585\n",
      "Similarity column 35736 (100.0%), 2971.62 column/sec. Elapsed time 12.03 sec\n",
      "EvaluatorHoldout: Ignoring 150 ( 0.4%) Users that have less than 1 test interactions\n",
      "EvaluatorHoldout: Processed 35586 (100.0%) in 1.01 min. Users per second: 586\n",
      "Similarity column 35736 (100.0%), 2995.33 column/sec. Elapsed time 11.93 sec\n",
      "EvaluatorHoldout: Ignoring 167 ( 0.5%) Users that have less than 1 test interactions\n",
      "EvaluatorHoldout: Processed 35569 (100.0%) in 1.01 min. Users per second: 586\n",
      "Similarity column 35736 (100.0%), 3018.77 column/sec. Elapsed time 11.84 sec\n",
      "EvaluatorHoldout: Ignoring 172 ( 0.5%) Users that have less than 1 test interactions\n",
      "EvaluatorHoldout: Processed 35564 (100.0%) in 1.01 min. Users per second: 586\n"
     ]
    },
    {
     "name": "stderr",
     "output_type": "stream",
     "text": [
      "[I 2025-01-05 19:57:39,344] Trial 89 finished with value: 0.04199343565751286 and parameters: {'similarity': 'asymmetric', 'topK': 677, 'shrink': 792, 'feature_weighting': 'BM25', 'asymmetric_alpha': 0.6760479538910207}. Best is trial 88 with value: 0.04201970650971439.\n"
     ]
    },
    {
     "name": "stdout",
     "output_type": "stream",
     "text": [
      "Similarity column 35736 (100.0%), 2997.37 column/sec. Elapsed time 11.92 sec\n",
      "EvaluatorHoldout: Ignoring 173 ( 0.5%) Users that have less than 1 test interactions\n",
      "EvaluatorHoldout: Processed 35563 (100.0%) in 1.01 min. Users per second: 586\n",
      "Similarity column 35736 (100.0%), 2990.17 column/sec. Elapsed time 11.95 sec\n",
      "EvaluatorHoldout: Ignoring 163 ( 0.5%) Users that have less than 1 test interactions\n",
      "EvaluatorHoldout: Processed 35573 (100.0%) in 1.01 min. Users per second: 586\n",
      "Similarity column 35736 (100.0%), 3004.17 column/sec. Elapsed time 11.90 sec\n",
      "EvaluatorHoldout: Ignoring 150 ( 0.4%) Users that have less than 1 test interactions\n",
      "EvaluatorHoldout: Processed 35586 (100.0%) in 1.02 min. Users per second: 580\n",
      "Similarity column 35736 (100.0%), 2984.34 column/sec. Elapsed time 11.97 sec\n",
      "EvaluatorHoldout: Ignoring 167 ( 0.5%) Users that have less than 1 test interactions\n",
      "EvaluatorHoldout: Processed 35569 (100.0%) in 1.02 min. Users per second: 584\n",
      "Similarity column 35736 (100.0%), 2978.56 column/sec. Elapsed time 12.00 sec\n",
      "EvaluatorHoldout: Ignoring 172 ( 0.5%) Users that have less than 1 test interactions\n",
      "EvaluatorHoldout: Processed 35564 (100.0%) in 1.01 min. Users per second: 585\n"
     ]
    },
    {
     "name": "stderr",
     "output_type": "stream",
     "text": [
      "[I 2025-01-05 20:03:51,494] Trial 90 finished with value: 0.041961066653306484 and parameters: {'similarity': 'asymmetric', 'topK': 671, 'shrink': 785, 'feature_weighting': 'BM25', 'asymmetric_alpha': 0.6610287072521076}. Best is trial 88 with value: 0.04201970650971439.\n"
     ]
    },
    {
     "name": "stdout",
     "output_type": "stream",
     "text": [
      "Similarity column 35736 (100.0%), 2996.14 column/sec. Elapsed time 11.93 sec\n",
      "EvaluatorHoldout: Ignoring 173 ( 0.5%) Users that have less than 1 test interactions\n",
      "EvaluatorHoldout: Processed 35563 (100.0%) in 1.02 min. Users per second: 580\n",
      "Similarity column 35736 (100.0%), 2969.42 column/sec. Elapsed time 12.03 sec\n",
      "EvaluatorHoldout: Ignoring 163 ( 0.5%) Users that have less than 1 test interactions\n",
      "EvaluatorHoldout: Processed 35573 (100.0%) in 1.01 min. Users per second: 587\n",
      "Similarity column 35736 (100.0%), 3009.50 column/sec. Elapsed time 11.87 sec\n",
      "EvaluatorHoldout: Ignoring 150 ( 0.4%) Users that have less than 1 test interactions\n",
      "EvaluatorHoldout: Processed 35586 (100.0%) in 1.02 min. Users per second: 580\n",
      "Similarity column 35736 (100.0%), 2982.76 column/sec. Elapsed time 11.98 sec\n",
      "EvaluatorHoldout: Ignoring 167 ( 0.5%) Users that have less than 1 test interactions\n",
      "EvaluatorHoldout: Processed 35569 (100.0%) in 1.01 min. Users per second: 586\n",
      "Similarity column 35736 (100.0%), 2988.50 column/sec. Elapsed time 11.96 sec\n",
      "EvaluatorHoldout: Ignoring 172 ( 0.5%) Users that have less than 1 test interactions\n",
      "EvaluatorHoldout: Processed 35564 (100.0%) in 1.02 min. Users per second: 581\n"
     ]
    },
    {
     "name": "stderr",
     "output_type": "stream",
     "text": [
      "[I 2025-01-05 20:10:04,480] Trial 91 finished with value: 0.04196270161519747 and parameters: {'similarity': 'asymmetric', 'topK': 672, 'shrink': 783, 'feature_weighting': 'BM25', 'asymmetric_alpha': 0.6527601332540618}. Best is trial 88 with value: 0.04201970650971439.\n"
     ]
    },
    {
     "name": "stdout",
     "output_type": "stream",
     "text": [
      "Similarity column 35736 (100.0%), 2992.67 column/sec. Elapsed time 11.94 sec\n",
      "EvaluatorHoldout: Ignoring 173 ( 0.5%) Users that have less than 1 test interactions\n",
      "EvaluatorHoldout: Processed 35563 (100.0%) in 1.01 min. Users per second: 589\n",
      "Similarity column 35736 (100.0%), 3018.21 column/sec. Elapsed time 11.84 sec\n",
      "EvaluatorHoldout: Ignoring 163 ( 0.5%) Users that have less than 1 test interactions\n",
      "EvaluatorHoldout: Processed 35573 (100.0%) in 1.01 min. Users per second: 588\n",
      "Similarity column 35736 (100.0%), 2994.81 column/sec. Elapsed time 11.93 sec\n",
      "EvaluatorHoldout: Ignoring 150 ( 0.4%) Users that have less than 1 test interactions\n",
      "EvaluatorHoldout: Processed 35586 (100.0%) in 1.02 min. Users per second: 584\n",
      "Similarity column 35736 (100.0%), 2994.56 column/sec. Elapsed time 11.93 sec\n",
      "EvaluatorHoldout: Ignoring 167 ( 0.5%) Users that have less than 1 test interactions\n",
      "EvaluatorHoldout: Processed 35569 (100.0%) in 1.02 min. Users per second: 582\n",
      "Similarity column 35736 (100.0%), 2989.51 column/sec. Elapsed time 11.95 sec\n",
      "EvaluatorHoldout: Ignoring 172 ( 0.5%) Users that have less than 1 test interactions\n",
      "EvaluatorHoldout: Processed 35564 (100.0%) in 1.02 min. Users per second: 582\n"
     ]
    },
    {
     "name": "stderr",
     "output_type": "stream",
     "text": [
      "[I 2025-01-05 20:16:16,150] Trial 92 finished with value: 0.0419546738645667 and parameters: {'similarity': 'asymmetric', 'topK': 678, 'shrink': 846, 'feature_weighting': 'BM25', 'asymmetric_alpha': 0.6601738291906588}. Best is trial 88 with value: 0.04201970650971439.\n"
     ]
    },
    {
     "name": "stdout",
     "output_type": "stream",
     "text": [
      "Similarity column 35736 (100.0%), 2957.11 column/sec. Elapsed time 12.08 sec\n",
      "EvaluatorHoldout: Ignoring 173 ( 0.5%) Users that have less than 1 test interactions\n",
      "EvaluatorHoldout: Processed 35563 (100.0%) in 1.03 min. Users per second: 576\n",
      "Similarity column 35736 (100.0%), 3004.98 column/sec. Elapsed time 11.89 sec\n",
      "EvaluatorHoldout: Ignoring 163 ( 0.5%) Users that have less than 1 test interactions\n",
      "EvaluatorHoldout: Processed 35573 (100.0%) in 1.04 min. Users per second: 571\n",
      "Similarity column 35736 (100.0%), 2994.77 column/sec. Elapsed time 11.93 sec\n",
      "EvaluatorHoldout: Ignoring 150 ( 0.4%) Users that have less than 1 test interactions\n",
      "EvaluatorHoldout: Processed 35586 (100.0%) in 1.03 min. Users per second: 574\n",
      "Similarity column 35736 (100.0%), 2948.02 column/sec. Elapsed time 12.12 sec\n",
      "EvaluatorHoldout: Ignoring 167 ( 0.5%) Users that have less than 1 test interactions\n",
      "EvaluatorHoldout: Processed 35569 (100.0%) in 1.03 min. Users per second: 575\n",
      "Similarity column 35736 (100.0%), 2988.29 column/sec. Elapsed time 11.96 sec\n",
      "EvaluatorHoldout: Ignoring 172 ( 0.5%) Users that have less than 1 test interactions\n",
      "EvaluatorHoldout: Processed 35564 (100.0%) in 1.03 min. Users per second: 577\n"
     ]
    },
    {
     "name": "stderr",
     "output_type": "stream",
     "text": [
      "[I 2025-01-05 20:22:34,350] Trial 93 finished with value: 0.04214653805738862 and parameters: {'similarity': 'asymmetric', 'topK': 736, 'shrink': 853, 'feature_weighting': 'BM25', 'asymmetric_alpha': 0.6697401638635566}. Best is trial 93 with value: 0.04214653805738862.\n"
     ]
    },
    {
     "name": "stdout",
     "output_type": "stream",
     "text": [
      "Similarity column 35736 (100.0%), 2974.81 column/sec. Elapsed time 12.01 sec\n",
      "EvaluatorHoldout: Ignoring 173 ( 0.5%) Users that have less than 1 test interactions\n",
      "EvaluatorHoldout: Processed 35563 (100.0%) in 1.04 min. Users per second: 569\n",
      "Similarity column 35736 (100.0%), 2990.02 column/sec. Elapsed time 11.95 sec\n",
      "EvaluatorHoldout: Ignoring 163 ( 0.5%) Users that have less than 1 test interactions\n",
      "EvaluatorHoldout: Processed 35573 (100.0%) in 1.04 min. Users per second: 572\n",
      "Similarity column 35736 (100.0%), 2982.42 column/sec. Elapsed time 11.98 sec\n",
      "EvaluatorHoldout: Ignoring 150 ( 0.4%) Users that have less than 1 test interactions\n",
      "EvaluatorHoldout: Processed 35586 (100.0%) in 1.04 min. Users per second: 570\n",
      "Similarity column 35736 (100.0%), 2975.11 column/sec. Elapsed time 12.01 sec\n",
      "EvaluatorHoldout: Ignoring 167 ( 0.5%) Users that have less than 1 test interactions\n",
      "EvaluatorHoldout: Processed 35569 (100.0%) in 1.03 min. Users per second: 575\n",
      "Similarity column 35736 (100.0%), 3013.41 column/sec. Elapsed time 11.86 sec\n",
      "EvaluatorHoldout: Ignoring 172 ( 0.5%) Users that have less than 1 test interactions\n",
      "EvaluatorHoldout: Processed 35564 (100.0%) in 1.03 min. Users per second: 577\n"
     ]
    },
    {
     "name": "stderr",
     "output_type": "stream",
     "text": [
      "[I 2025-01-05 20:28:53,192] Trial 94 finished with value: 0.04213683164488156 and parameters: {'similarity': 'asymmetric', 'topK': 749, 'shrink': 879, 'feature_weighting': 'BM25', 'asymmetric_alpha': 0.649513361555658}. Best is trial 93 with value: 0.04214653805738862.\n"
     ]
    },
    {
     "name": "stdout",
     "output_type": "stream",
     "text": [
      "Similarity column 35736 (100.0%), 2997.24 column/sec. Elapsed time 11.92 sec\n",
      "EvaluatorHoldout: Ignoring 173 ( 0.5%) Users that have less than 1 test interactions\n",
      "EvaluatorHoldout: Processed 35563 (100.0%) in 1.03 min. Users per second: 575\n",
      "Similarity column 35736 (100.0%), 3009.37 column/sec. Elapsed time 11.87 sec\n",
      "EvaluatorHoldout: Ignoring 163 ( 0.5%) Users that have less than 1 test interactions\n",
      "EvaluatorHoldout: Processed 35573 (100.0%) in 1.02 min. Users per second: 580\n",
      "Similarity column 35736 (100.0%), 3013.07 column/sec. Elapsed time 11.86 sec\n",
      "EvaluatorHoldout: Ignoring 150 ( 0.4%) Users that have less than 1 test interactions\n",
      "EvaluatorHoldout: Processed 35586 (100.0%) in 1.03 min. Users per second: 578\n",
      "Similarity column 35736 (100.0%), 2991.96 column/sec. Elapsed time 11.94 sec\n",
      "EvaluatorHoldout: Ignoring 167 ( 0.5%) Users that have less than 1 test interactions\n",
      "EvaluatorHoldout: Processed 35569 (100.0%) in 1.03 min. Users per second: 578\n",
      "Similarity column 35736 (100.0%), 3008.79 column/sec. Elapsed time 11.88 sec\n",
      "EvaluatorHoldout: Ignoring 172 ( 0.5%) Users that have less than 1 test interactions\n",
      "EvaluatorHoldout: Processed 35564 (100.0%) in 1.04 min. Users per second: 572\n"
     ]
    },
    {
     "name": "stderr",
     "output_type": "stream",
     "text": [
      "[I 2025-01-05 20:35:09,447] Trial 95 finished with value: 0.04218983390037057 and parameters: {'similarity': 'asymmetric', 'topK': 745, 'shrink': 876, 'feature_weighting': 'BM25', 'asymmetric_alpha': 0.6911870134368665}. Best is trial 95 with value: 0.04218983390037057.\n"
     ]
    },
    {
     "name": "stdout",
     "output_type": "stream",
     "text": [
      "Similarity column 35736 (100.0%), 3011.78 column/sec. Elapsed time 11.87 sec\n",
      "EvaluatorHoldout: Ignoring 173 ( 0.5%) Users that have less than 1 test interactions\n",
      "EvaluatorHoldout: Processed 35563 (100.0%) in 1.04 min. Users per second: 570\n",
      "Similarity column 35736 (100.0%), 2983.33 column/sec. Elapsed time 11.98 sec\n",
      "EvaluatorHoldout: Ignoring 163 ( 0.5%) Users that have less than 1 test interactions\n",
      "EvaluatorHoldout: Processed 35573 (100.0%) in 1.03 min. Users per second: 573\n",
      "Similarity column 35736 (100.0%), 3002.62 column/sec. Elapsed time 11.90 sec\n",
      "EvaluatorHoldout: Ignoring 150 ( 0.4%) Users that have less than 1 test interactions\n",
      "EvaluatorHoldout: Processed 35586 (100.0%) in 1.04 min. Users per second: 572\n",
      "Similarity column 35736 (100.0%), 2962.11 column/sec. Elapsed time 12.06 sec\n",
      "EvaluatorHoldout: Ignoring 167 ( 0.5%) Users that have less than 1 test interactions\n",
      "EvaluatorHoldout: Processed 35569 (100.0%) in 1.04 min. Users per second: 572\n",
      "Similarity column 35736 (100.0%), 2995.77 column/sec. Elapsed time 11.93 sec\n",
      "EvaluatorHoldout: Ignoring 172 ( 0.5%) Users that have less than 1 test interactions\n",
      "EvaluatorHoldout: Processed 35564 (100.0%) in 1.03 min. Users per second: 577\n"
     ]
    },
    {
     "name": "stderr",
     "output_type": "stream",
     "text": [
      "[I 2025-01-05 20:41:28,303] Trial 96 finished with value: 0.04213501034132614 and parameters: {'similarity': 'asymmetric', 'topK': 740, 'shrink': 904, 'feature_weighting': 'BM25', 'asymmetric_alpha': 0.6674970192718164}. Best is trial 95 with value: 0.04218983390037057.\n"
     ]
    },
    {
     "name": "stdout",
     "output_type": "stream",
     "text": [
      "Similarity column 35736 (100.0%), 2960.15 column/sec. Elapsed time 12.07 sec\n",
      "EvaluatorHoldout: Ignoring 173 ( 0.5%) Users that have less than 1 test interactions\n",
      "EvaluatorHoldout: Processed 35563 (100.0%) in 1.01 min. Users per second: 584\n",
      "Similarity column 35736 (100.0%), 2945.13 column/sec. Elapsed time 12.13 sec\n",
      "EvaluatorHoldout: Ignoring 163 ( 0.5%) Users that have less than 1 test interactions\n",
      "EvaluatorHoldout: Processed 35573 (100.0%) in 1.01 min. Users per second: 587\n",
      "Similarity column 35736 (100.0%), 2952.66 column/sec. Elapsed time 12.10 sec\n",
      "EvaluatorHoldout: Ignoring 150 ( 0.4%) Users that have less than 1 test interactions\n",
      "EvaluatorHoldout: Processed 35586 (100.0%) in 1.01 min. Users per second: 586\n",
      "Similarity column 35736 (100.0%), 2957.08 column/sec. Elapsed time 12.08 sec\n",
      "EvaluatorHoldout: Ignoring 167 ( 0.5%) Users that have less than 1 test interactions\n",
      "EvaluatorHoldout: Processed 35569 (100.0%) in 1.02 min. Users per second: 584\n",
      "Similarity column 35736 (100.0%), 2929.68 column/sec. Elapsed time 12.20 sec\n",
      "EvaluatorHoldout: Ignoring 172 ( 0.5%) Users that have less than 1 test interactions\n",
      "EvaluatorHoldout: Processed 35564 (100.0%) in 1.01 min. Users per second: 589\n"
     ]
    },
    {
     "name": "stderr",
     "output_type": "stream",
     "text": [
      "[I 2025-01-05 20:47:40,094] Trial 97 finished with value: 0.032898285704093734 and parameters: {'similarity': 'asymmetric', 'topK': 749, 'shrink': 894, 'feature_weighting': 'none', 'asymmetric_alpha': 0.7291467587355255}. Best is trial 95 with value: 0.04218983390037057.\n"
     ]
    },
    {
     "name": "stdout",
     "output_type": "stream",
     "text": [
      "Similarity column 35736 (100.0%), 3002.31 column/sec. Elapsed time 11.90 sec\n",
      "EvaluatorHoldout: Ignoring 173 ( 0.5%) Users that have less than 1 test interactions\n",
      "EvaluatorHoldout: Processed 35563 (100.0%) in 1.03 min. Users per second: 576\n",
      "Similarity column 35736 (100.0%), 2997.06 column/sec. Elapsed time 11.92 sec\n",
      "EvaluatorHoldout: Ignoring 163 ( 0.5%) Users that have less than 1 test interactions\n",
      "EvaluatorHoldout: Processed 35573 (100.0%) in 1.03 min. Users per second: 578\n",
      "Similarity column 35736 (100.0%), 2981.40 column/sec. Elapsed time 11.99 sec\n",
      "EvaluatorHoldout: Ignoring 150 ( 0.4%) Users that have less than 1 test interactions\n",
      "EvaluatorHoldout: Processed 35586 (100.0%) in 1.03 min. Users per second: 577\n",
      "Similarity column 35736 (100.0%), 3006.24 column/sec. Elapsed time 11.89 sec\n",
      "EvaluatorHoldout: Ignoring 167 ( 0.5%) Users that have less than 1 test interactions\n",
      "EvaluatorHoldout: Processed 35569 (100.0%) in 1.02 min. Users per second: 580\n",
      "Similarity column 35736 (100.0%), 3009.42 column/sec. Elapsed time 11.87 sec\n",
      "EvaluatorHoldout: Ignoring 172 ( 0.5%) Users that have less than 1 test interactions\n",
      "EvaluatorHoldout: Processed 35564 (100.0%) in 1.03 min. Users per second: 578\n"
     ]
    },
    {
     "name": "stderr",
     "output_type": "stream",
     "text": [
      "[I 2025-01-05 20:53:55,916] Trial 98 finished with value: 0.041954741777764024 and parameters: {'similarity': 'asymmetric', 'topK': 734, 'shrink': 907, 'feature_weighting': 'BM25', 'asymmetric_alpha': 0.5629978663102088}. Best is trial 95 with value: 0.04218983390037057.\n"
     ]
    },
    {
     "name": "stdout",
     "output_type": "stream",
     "text": [
      "Similarity column 35736 (100.0%), 2990.83 column/sec. Elapsed time 11.95 sec\n",
      "EvaluatorHoldout: Ignoring 173 ( 0.5%) Users that have less than 1 test interactions\n",
      "EvaluatorHoldout: Processed 35563 (100.0%) in 1.00 min. Users per second: 591\n",
      "Similarity column 35736 (100.0%), 3017.82 column/sec. Elapsed time 11.84 sec\n",
      "EvaluatorHoldout: Ignoring 163 ( 0.5%) Users that have less than 1 test interactions\n",
      "EvaluatorHoldout: Processed 35573 (100.0%) in 1.00 min. Users per second: 590\n",
      "Similarity column 35736 (100.0%), 3030.76 column/sec. Elapsed time 11.79 sec\n",
      "EvaluatorHoldout: Ignoring 150 ( 0.4%) Users that have less than 1 test interactions\n",
      "EvaluatorHoldout: Processed 35586 (100.0%) in 1.01 min. Users per second: 585\n",
      "Similarity column 35736 (100.0%), 2988.09 column/sec. Elapsed time 11.96 sec\n",
      "EvaluatorHoldout: Ignoring 167 ( 0.5%) Users that have less than 1 test interactions\n",
      "EvaluatorHoldout: Processed 35569 (100.0%) in 1.02 min. Users per second: 584\n",
      "Similarity column 35736 (100.0%), 3012.76 column/sec. Elapsed time 11.86 sec\n",
      "EvaluatorHoldout: Ignoring 172 ( 0.5%) Users that have less than 1 test interactions\n",
      "EvaluatorHoldout: Processed 35564 (100.0%) in 1.01 min. Users per second: 585\n"
     ]
    },
    {
     "name": "stderr",
     "output_type": "stream",
     "text": [
      "[I 2025-01-05 21:00:06,331] Trial 99 finished with value: 0.04209370200742202 and parameters: {'similarity': 'asymmetric', 'topK': 706, 'shrink': 941, 'feature_weighting': 'BM25', 'asymmetric_alpha': 0.817990148204545}. Best is trial 95 with value: 0.04218983390037057.\n"
     ]
    }
   ],
   "source": [
    "if config['tune_parameters']:\n",
    "    \n",
    "    optuna_study = optuna.create_study(direction='maximize', study_name=f'hyperparameters_tuning_{config[\"model\"]}_{config[\"metric\"]}',\n",
    "                                storage=f'sqlite:///{config[\"database_path\"]}', load_if_exists=True)\n",
    "\n",
    "    optuna_study.optimize(objective_function_UserKNNCF, n_trials=100)"
   ]
  },
  {
   "cell_type": "markdown",
   "id": "f784d013",
   "metadata": {
    "papermill": {
     "duration": 0.10519,
     "end_time": "2025-01-05T21:00:06.595761",
     "exception": false,
     "start_time": "2025-01-05T21:00:06.490571",
     "status": "completed"
    },
    "tags": []
   },
   "source": [
    "## Some optuna visualizations on recommender parameters"
   ]
  },
  {
   "cell_type": "code",
   "execution_count": 14,
   "id": "e68ee118",
   "metadata": {
    "execution": {
     "iopub.execute_input": "2025-01-05T21:00:06.808486Z",
     "iopub.status.busy": "2025-01-05T21:00:06.807731Z",
     "iopub.status.idle": "2025-01-05T21:00:09.492310Z",
     "shell.execute_reply": "2025-01-05T21:00:09.491122Z"
    },
    "papermill": {
     "duration": 2.793264,
     "end_time": "2025-01-05T21:00:09.494454",
     "exception": false,
     "start_time": "2025-01-05T21:00:06.701190",
     "status": "completed"
    },
    "tags": []
   },
   "outputs": [
    {
     "data": {
      "text/html": [
       "<html>\n",
       "<head><meta charset=\"utf-8\" /></head>\n",
       "<body>\n",
       "    <div>            <script src=\"https://cdnjs.cloudflare.com/ajax/libs/mathjax/2.7.5/MathJax.js?config=TeX-AMS-MML_SVG\"></script><script type=\"text/javascript\">if (window.MathJax && window.MathJax.Hub && window.MathJax.Hub.Config) {window.MathJax.Hub.Config({SVG: {font: \"STIX-Web\"}});}</script>                <script type=\"text/javascript\">window.PlotlyConfig = {MathJaxConfig: 'local'};</script>\n",
       "        <script charset=\"utf-8\" src=\"https://cdn.plot.ly/plotly-2.35.2.min.js\"></script>                <div id=\"f1a14c2a-8b45-4990-851a-d57d33752b9e\" class=\"plotly-graph-div\" style=\"height:525px; width:3000px;\"></div>            <script type=\"text/javascript\">                                    window.PLOTLYENV=window.PLOTLYENV || {};                                    if (document.getElementById(\"f1a14c2a-8b45-4990-851a-d57d33752b9e\")) {                    Plotly.newPlot(                        \"f1a14c2a-8b45-4990-851a-d57d33752b9e\",                        [{\"marker\":{\"color\":[5,9,27,40,55,75,76,77,78,79,80,81,82,83,84,85,86,87,88,89,90,91,92,93,94,95,96,97,98,99],\"colorbar\":{\"title\":{\"text\":\"Trial\"},\"x\":1.0,\"xpad\":40},\"colorscale\":[[0.0,\"rgb(247,251,255)\"],[0.125,\"rgb(222,235,247)\"],[0.25,\"rgb(198,219,239)\"],[0.375,\"rgb(158,202,225)\"],[0.5,\"rgb(107,174,214)\"],[0.625,\"rgb(66,146,198)\"],[0.75,\"rgb(33,113,181)\"],[0.875,\"rgb(8,81,156)\"],[1.0,\"rgb(8,48,107)\"]],\"line\":{\"color\":\"Grey\",\"width\":0.5},\"showscale\":true},\"mode\":\"markers\",\"name\":\"Feasible Trial\",\"showlegend\":false,\"x\":[0.4169117630145689,1.742069155717465,0.001614986365835458,1.9456221173510102,1.0965008733321449,1.0733647894530987,1.126134195367899,1.1232342527081431,1.098738862371363,1.1429183768601041,1.1173976984837253,1.0995494832850339,1.0023601787763998,1.3737141188443887,0.7327031144163606,0.7777683334913436,0.740597232525724,0.7098635334599472,0.7163904243280802,0.6760479538910207,0.6610287072521076,0.6527601332540618,0.6601738291906588,0.6697401638635566,0.649513361555658,0.6911870134368665,0.6674970192718164,0.7291467587355255,0.5629978663102088,0.817990148204545],\"y\":[0.03707826471642752,0.03073591621117076,0.03697661949748708,0.025895924580448194,0.035073781534686335,0.041211667872499,0.041199815527245706,0.04118710400434709,0.04129960128332609,0.041351391999530994,0.04154552872966882,0.04151616648513147,0.04174835022278569,0.040932350638236095,0.04192699394126524,0.0419866265318241,0.041996908589045825,0.04198944870540431,0.04201970650971439,0.04199343565751286,0.041961066653306484,0.04196270161519747,0.0419546738645667,0.04214653805738862,0.04213683164488156,0.04218983390037057,0.04213501034132614,0.032898285704093734,0.041954741777764024,0.04209370200742202],\"type\":\"scatter\",\"xaxis\":\"x\",\"yaxis\":\"y\"},{\"marker\":{\"color\":[0,1,2,3,4,5,6,7,8,9,10,11,12,13,14,15,16,17,18,19,20,21,22,23,24,25,26,27,28,29,30,31,32,33,34,35,36,37,38,39,40,41,42,43,44,45,46,47,48,49,50,51,52,53,54,55,56,57,58,59,60,61,62,63,64,65,66,67,68,69,70,71,72,73,74,75,76,77,78,79,80,81,82,83,84,85,86,87,88,89,90,91,92,93,94,95,96,97,98,99],\"colorbar\":{\"title\":{\"text\":\"Trial\"},\"x\":1.0,\"xpad\":40},\"colorscale\":[[0.0,\"rgb(247,251,255)\"],[0.125,\"rgb(222,235,247)\"],[0.25,\"rgb(198,219,239)\"],[0.375,\"rgb(158,202,225)\"],[0.5,\"rgb(107,174,214)\"],[0.625,\"rgb(66,146,198)\"],[0.75,\"rgb(33,113,181)\"],[0.875,\"rgb(8,81,156)\"],[1.0,\"rgb(8,48,107)\"]],\"line\":{\"color\":\"Grey\",\"width\":0.5},\"showscale\":false},\"mode\":\"markers\",\"name\":\"Feasible Trial\",\"showlegend\":false,\"x\":[\"none\",\"TF-IDF\",\"TF-IDF\",\"none\",\"none\",\"TF-IDF\",\"TF-IDF\",\"BM25\",\"TF-IDF\",\"BM25\",\"TF-IDF\",\"TF-IDF\",\"TF-IDF\",\"TF-IDF\",\"TF-IDF\",\"BM25\",\"TF-IDF\",\"TF-IDF\",\"none\",\"BM25\",\"TF-IDF\",\"TF-IDF\",\"TF-IDF\",\"TF-IDF\",\"TF-IDF\",\"TF-IDF\",\"TF-IDF\",\"TF-IDF\",\"BM25\",\"none\",\"none\",\"TF-IDF\",\"TF-IDF\",\"TF-IDF\",\"TF-IDF\",\"TF-IDF\",\"TF-IDF\",\"none\",\"TF-IDF\",\"TF-IDF\",\"BM25\",\"TF-IDF\",\"TF-IDF\",\"TF-IDF\",\"TF-IDF\",\"TF-IDF\",\"TF-IDF\",\"TF-IDF\",\"TF-IDF\",\"none\",\"TF-IDF\",\"TF-IDF\",\"TF-IDF\",\"TF-IDF\",\"TF-IDF\",\"TF-IDF\",\"BM25\",\"BM25\",\"BM25\",\"BM25\",\"BM25\",\"BM25\",\"BM25\",\"BM25\",\"BM25\",\"BM25\",\"BM25\",\"BM25\",\"BM25\",\"BM25\",\"BM25\",\"BM25\",\"BM25\",\"BM25\",\"BM25\",\"BM25\",\"BM25\",\"BM25\",\"BM25\",\"BM25\",\"BM25\",\"BM25\",\"BM25\",\"BM25\",\"BM25\",\"BM25\",\"BM25\",\"BM25\",\"BM25\",\"BM25\",\"BM25\",\"BM25\",\"BM25\",\"BM25\",\"BM25\",\"BM25\",\"BM25\",\"none\",\"BM25\",\"BM25\"],\"y\":[0.03438354964465644,0.03765997704303814,0.036466401535762326,0.03603158336802389,0.03568205879326173,0.03707826471642752,0.03882455742842482,0.03716477889561431,0.036119113490618554,0.03073591621117076,0.03489465279018752,0.010519718257202142,0.03452483875654129,0.03879314828144394,0.038356702311881916,0.034770983278465686,0.0386338607570533,0.03685686407324793,0.020856998057932702,0.0364109637716706,0.038111985741480114,0.03870609635775418,0.03870380595536108,0.03850648070902666,0.037924346454905625,0.0386958636152821,0.01052096284159112,0.03697661949748708,0.03743385492120776,0.03344925214369809,0.034729761085852996,0.03880283408727345,0.03897912078738226,0.03608331516471448,0.03567220195251934,0.038989590832045784,0.03718364173126744,0.03435241197641509,0.03897699101948849,0.010666893236326858,0.025895924580448194,0.03895160821938885,0.038941289084112374,0.038939554483515805,0.03892527741804938,0.03683441943169132,0.03200754234125541,0.037445586390519404,0.0323601580091676,0.03613122358719782,0.03597665863880977,0.038966110570538934,0.03895248452983744,0.03895558340642112,0.03889133321155448,0.035073781534686335,0.03930237985639624,0.03905219382376225,0.03936396739193279,0.03620514591628303,0.040299755217404906,0.04041086809620674,0.04015987455197013,0.040408480431374516,0.04022586921656578,0.03162591739011223,0.040485377734646666,0.040775898316922424,0.03737154943984992,0.04116918116886592,0.04105501835500318,0.04121901835551252,0.04122970757050187,0.04123925299039255,0.04126272912650639,0.041211667872499,0.041199815527245706,0.04118710400434709,0.04129960128332609,0.041351391999530994,0.04154552872966882,0.04151616648513147,0.04174835022278569,0.040932350638236095,0.04192699394126524,0.0419866265318241,0.041996908589045825,0.04198944870540431,0.04201970650971439,0.04199343565751286,0.041961066653306484,0.04196270161519747,0.0419546738645667,0.04214653805738862,0.04213683164488156,0.04218983390037057,0.04213501034132614,0.032898285704093734,0.041954741777764024,0.04209370200742202],\"type\":\"scatter\",\"xaxis\":\"x2\",\"yaxis\":\"y2\"},{\"marker\":{\"color\":[11,18,26,48,65],\"colorbar\":{\"title\":{\"text\":\"Trial\"},\"x\":1.0,\"xpad\":40},\"colorscale\":[[0.0,\"rgb(247,251,255)\"],[0.125,\"rgb(222,235,247)\"],[0.25,\"rgb(198,219,239)\"],[0.375,\"rgb(158,202,225)\"],[0.5,\"rgb(107,174,214)\"],[0.625,\"rgb(66,146,198)\"],[0.75,\"rgb(33,113,181)\"],[0.875,\"rgb(8,81,156)\"],[1.0,\"rgb(8,48,107)\"]],\"line\":{\"color\":\"Grey\",\"width\":0.5},\"showscale\":false},\"mode\":\"markers\",\"name\":\"Feasible Trial\",\"showlegend\":false,\"x\":[false,true,false,true,true],\"y\":[0.010519718257202142,0.020856998057932702,0.01052096284159112,0.0323601580091676,0.03162591739011223],\"type\":\"scatter\",\"xaxis\":\"x3\",\"yaxis\":\"y3\"},{\"marker\":{\"color\":[11,18,26,48,65],\"colorbar\":{\"title\":{\"text\":\"Trial\"},\"x\":1.0,\"xpad\":40},\"colorscale\":[[0.0,\"rgb(247,251,255)\"],[0.125,\"rgb(222,235,247)\"],[0.25,\"rgb(198,219,239)\"],[0.375,\"rgb(158,202,225)\"],[0.5,\"rgb(107,174,214)\"],[0.625,\"rgb(66,146,198)\"],[0.75,\"rgb(33,113,181)\"],[0.875,\"rgb(8,81,156)\"],[1.0,\"rgb(8,48,107)\"]],\"line\":{\"color\":\"Grey\",\"width\":0.5},\"showscale\":false},\"mode\":\"markers\",\"name\":\"Feasible Trial\",\"showlegend\":false,\"x\":[false,true,true,false,true],\"y\":[0.010519718257202142,0.020856998057932702,0.01052096284159112,0.0323601580091676,0.03162591739011223],\"type\":\"scatter\",\"xaxis\":\"x4\",\"yaxis\":\"y4\"},{\"marker\":{\"color\":[0,1,2,3,4,5,6,7,8,9,10,11,12,13,14,15,16,17,18,19,20,21,22,23,24,25,26,27,28,29,30,31,32,33,34,35,36,37,38,39,40,41,42,43,44,45,46,47,48,49,50,51,52,53,54,55,56,57,58,59,60,61,62,63,64,65,66,67,68,69,70,71,72,73,74,75,76,77,78,79,80,81,82,83,84,85,86,87,88,89,90,91,92,93,94,95,96,97,98,99],\"colorbar\":{\"title\":{\"text\":\"Trial\"},\"x\":1.0,\"xpad\":40},\"colorscale\":[[0.0,\"rgb(247,251,255)\"],[0.125,\"rgb(222,235,247)\"],[0.25,\"rgb(198,219,239)\"],[0.375,\"rgb(158,202,225)\"],[0.5,\"rgb(107,174,214)\"],[0.625,\"rgb(66,146,198)\"],[0.75,\"rgb(33,113,181)\"],[0.875,\"rgb(8,81,156)\"],[1.0,\"rgb(8,48,107)\"]],\"line\":{\"color\":\"Grey\",\"width\":0.5},\"showscale\":false},\"mode\":\"markers\",\"name\":\"Feasible Trial\",\"showlegend\":false,\"x\":[910,214,73,325,13,527,373,596,584,119,822,316,330,216,431,738,176,420,235,436,708,218,257,107,355,166,2,265,487,982,379,263,185,150,57,284,294,522,391,594,396,292,472,462,648,313,359,553,479,190,97,468,407,404,386,535,412,443,342,347,431,431,429,439,442,505,432,561,659,554,542,565,572,558,633,620,633,628,637,630,738,772,785,827,767,775,779,776,762,792,785,783,846,853,879,876,904,894,907,941],\"y\":[0.03438354964465644,0.03765997704303814,0.036466401535762326,0.03603158336802389,0.03568205879326173,0.03707826471642752,0.03882455742842482,0.03716477889561431,0.036119113490618554,0.03073591621117076,0.03489465279018752,0.010519718257202142,0.03452483875654129,0.03879314828144394,0.038356702311881916,0.034770983278465686,0.0386338607570533,0.03685686407324793,0.020856998057932702,0.0364109637716706,0.038111985741480114,0.03870609635775418,0.03870380595536108,0.03850648070902666,0.037924346454905625,0.0386958636152821,0.01052096284159112,0.03697661949748708,0.03743385492120776,0.03344925214369809,0.034729761085852996,0.03880283408727345,0.03897912078738226,0.03608331516471448,0.03567220195251934,0.038989590832045784,0.03718364173126744,0.03435241197641509,0.03897699101948849,0.010666893236326858,0.025895924580448194,0.03895160821938885,0.038941289084112374,0.038939554483515805,0.03892527741804938,0.03683441943169132,0.03200754234125541,0.037445586390519404,0.0323601580091676,0.03613122358719782,0.03597665863880977,0.038966110570538934,0.03895248452983744,0.03895558340642112,0.03889133321155448,0.035073781534686335,0.03930237985639624,0.03905219382376225,0.03936396739193279,0.03620514591628303,0.040299755217404906,0.04041086809620674,0.04015987455197013,0.040408480431374516,0.04022586921656578,0.03162591739011223,0.040485377734646666,0.040775898316922424,0.03737154943984992,0.04116918116886592,0.04105501835500318,0.04121901835551252,0.04122970757050187,0.04123925299039255,0.04126272912650639,0.041211667872499,0.041199815527245706,0.04118710400434709,0.04129960128332609,0.041351391999530994,0.04154552872966882,0.04151616648513147,0.04174835022278569,0.040932350638236095,0.04192699394126524,0.0419866265318241,0.041996908589045825,0.04198944870540431,0.04201970650971439,0.04199343565751286,0.041961066653306484,0.04196270161519747,0.0419546738645667,0.04214653805738862,0.04213683164488156,0.04218983390037057,0.04213501034132614,0.032898285704093734,0.041954741777764024,0.04209370200742202],\"type\":\"scatter\",\"xaxis\":\"x5\",\"yaxis\":\"y5\"},{\"marker\":{\"color\":[0,1,2,3,4,5,6,7,8,9,10,11,12,13,14,15,16,17,18,19,20,21,22,23,24,25,26,27,28,29,30,31,32,33,34,35,36,37,38,39,40,41,42,43,44,45,46,47,48,49,50,51,52,53,54,55,56,57,58,59,60,61,62,63,64,65,66,67,68,69,70,71,72,73,74,75,76,77,78,79,80,81,82,83,84,85,86,87,88,89,90,91,92,93,94,95,96,97,98,99],\"colorbar\":{\"title\":{\"text\":\"Trial\"},\"x\":1.0,\"xpad\":40},\"colorscale\":[[0.0,\"rgb(247,251,255)\"],[0.125,\"rgb(222,235,247)\"],[0.25,\"rgb(198,219,239)\"],[0.375,\"rgb(158,202,225)\"],[0.5,\"rgb(107,174,214)\"],[0.625,\"rgb(66,146,198)\"],[0.75,\"rgb(33,113,181)\"],[0.875,\"rgb(8,81,156)\"],[1.0,\"rgb(8,48,107)\"]],\"line\":{\"color\":\"Grey\",\"width\":0.5},\"showscale\":false},\"mode\":\"markers\",\"name\":\"Feasible Trial\",\"showlegend\":false,\"x\":[\"tversky\",\"tversky\",\"tversky\",\"jaccard\",\"jaccard\",\"asymmetric\",\"cosine\",\"tversky\",\"dice\",\"asymmetric\",\"cosine\",\"euclidean\",\"cosine\",\"cosine\",\"cosine\",\"cosine\",\"cosine\",\"dice\",\"euclidean\",\"cosine\",\"cosine\",\"cosine\",\"cosine\",\"cosine\",\"cosine\",\"cosine\",\"euclidean\",\"asymmetric\",\"jaccard\",\"dice\",\"cosine\",\"cosine\",\"cosine\",\"tversky\",\"cosine\",\"cosine\",\"jaccard\",\"tversky\",\"cosine\",\"jaccard\",\"asymmetric\",\"cosine\",\"cosine\",\"cosine\",\"cosine\",\"dice\",\"cosine\",\"cosine\",\"euclidean\",\"tversky\",\"cosine\",\"cosine\",\"cosine\",\"cosine\",\"cosine\",\"asymmetric\",\"cosine\",\"cosine\",\"cosine\",\"dice\",\"cosine\",\"cosine\",\"cosine\",\"cosine\",\"cosine\",\"euclidean\",\"cosine\",\"cosine\",\"jaccard\",\"cosine\",\"cosine\",\"cosine\",\"cosine\",\"cosine\",\"cosine\",\"asymmetric\",\"asymmetric\",\"asymmetric\",\"asymmetric\",\"asymmetric\",\"asymmetric\",\"asymmetric\",\"asymmetric\",\"asymmetric\",\"asymmetric\",\"asymmetric\",\"asymmetric\",\"asymmetric\",\"asymmetric\",\"asymmetric\",\"asymmetric\",\"asymmetric\",\"asymmetric\",\"asymmetric\",\"asymmetric\",\"asymmetric\",\"asymmetric\",\"asymmetric\",\"asymmetric\",\"asymmetric\"],\"y\":[0.03438354964465644,0.03765997704303814,0.036466401535762326,0.03603158336802389,0.03568205879326173,0.03707826471642752,0.03882455742842482,0.03716477889561431,0.036119113490618554,0.03073591621117076,0.03489465279018752,0.010519718257202142,0.03452483875654129,0.03879314828144394,0.038356702311881916,0.034770983278465686,0.0386338607570533,0.03685686407324793,0.020856998057932702,0.0364109637716706,0.038111985741480114,0.03870609635775418,0.03870380595536108,0.03850648070902666,0.037924346454905625,0.0386958636152821,0.01052096284159112,0.03697661949748708,0.03743385492120776,0.03344925214369809,0.034729761085852996,0.03880283408727345,0.03897912078738226,0.03608331516471448,0.03567220195251934,0.038989590832045784,0.03718364173126744,0.03435241197641509,0.03897699101948849,0.010666893236326858,0.025895924580448194,0.03895160821938885,0.038941289084112374,0.038939554483515805,0.03892527741804938,0.03683441943169132,0.03200754234125541,0.037445586390519404,0.0323601580091676,0.03613122358719782,0.03597665863880977,0.038966110570538934,0.03895248452983744,0.03895558340642112,0.03889133321155448,0.035073781534686335,0.03930237985639624,0.03905219382376225,0.03936396739193279,0.03620514591628303,0.040299755217404906,0.04041086809620674,0.04015987455197013,0.040408480431374516,0.04022586921656578,0.03162591739011223,0.040485377734646666,0.040775898316922424,0.03737154943984992,0.04116918116886592,0.04105501835500318,0.04121901835551252,0.04122970757050187,0.04123925299039255,0.04126272912650639,0.041211667872499,0.041199815527245706,0.04118710400434709,0.04129960128332609,0.041351391999530994,0.04154552872966882,0.04151616648513147,0.04174835022278569,0.040932350638236095,0.04192699394126524,0.0419866265318241,0.041996908589045825,0.04198944870540431,0.04201970650971439,0.04199343565751286,0.041961066653306484,0.04196270161519747,0.0419546738645667,0.04214653805738862,0.04213683164488156,0.04218983390037057,0.04213501034132614,0.032898285704093734,0.041954741777764024,0.04209370200742202],\"type\":\"scatter\",\"xaxis\":\"x6\",\"yaxis\":\"y6\"},{\"marker\":{\"color\":[11,18,26,48,65],\"colorbar\":{\"title\":{\"text\":\"Trial\"},\"x\":1.0,\"xpad\":40},\"colorscale\":[[0.0,\"rgb(247,251,255)\"],[0.125,\"rgb(222,235,247)\"],[0.25,\"rgb(198,219,239)\"],[0.375,\"rgb(158,202,225)\"],[0.5,\"rgb(107,174,214)\"],[0.625,\"rgb(66,146,198)\"],[0.75,\"rgb(33,113,181)\"],[0.875,\"rgb(8,81,156)\"],[1.0,\"rgb(8,48,107)\"]],\"line\":{\"color\":\"Grey\",\"width\":0.5},\"showscale\":false},\"mode\":\"markers\",\"name\":\"Feasible Trial\",\"showlegend\":false,\"x\":[\"lin\",\"log\",\"exp\",\"log\",\"exp\"],\"y\":[0.010519718257202142,0.020856998057932702,0.01052096284159112,0.0323601580091676,0.03162591739011223],\"type\":\"scatter\",\"xaxis\":\"x7\",\"yaxis\":\"y7\"},{\"marker\":{\"color\":[0,1,2,3,4,5,6,7,8,9,10,11,12,13,14,15,16,17,18,19,20,21,22,23,24,25,26,27,28,29,30,31,32,33,34,35,36,37,38,39,40,41,42,43,44,45,46,47,48,49,50,51,52,53,54,55,56,57,58,59,60,61,62,63,64,65,66,67,68,69,70,71,72,73,74,75,76,77,78,79,80,81,82,83,84,85,86,87,88,89,90,91,92,93,94,95,96,97,98,99],\"colorbar\":{\"title\":{\"text\":\"Trial\"},\"x\":1.0,\"xpad\":40},\"colorscale\":[[0.0,\"rgb(247,251,255)\"],[0.125,\"rgb(222,235,247)\"],[0.25,\"rgb(198,219,239)\"],[0.375,\"rgb(158,202,225)\"],[0.5,\"rgb(107,174,214)\"],[0.625,\"rgb(66,146,198)\"],[0.75,\"rgb(33,113,181)\"],[0.875,\"rgb(8,81,156)\"],[1.0,\"rgb(8,48,107)\"]],\"line\":{\"color\":\"Grey\",\"width\":0.5},\"showscale\":false},\"mode\":\"markers\",\"name\":\"Feasible Trial\",\"showlegend\":false,\"x\":[570,182,76,363,523,450,227,422,388,200,709,220,49,242,296,120,275,285,12,162,314,262,255,120,349,132,228,333,447,677,492,238,175,161,61,183,185,106,166,4,85,172,162,167,194,149,35,84,211,377,602,184,195,199,216,98,304,289,306,303,401,413,385,413,393,402,422,479,468,534,514,547,549,549,564,551,563,560,571,596,624,613,632,606,648,666,670,670,676,677,671,672,678,736,749,745,740,749,734,706],\"y\":[0.03438354964465644,0.03765997704303814,0.036466401535762326,0.03603158336802389,0.03568205879326173,0.03707826471642752,0.03882455742842482,0.03716477889561431,0.036119113490618554,0.03073591621117076,0.03489465279018752,0.010519718257202142,0.03452483875654129,0.03879314828144394,0.038356702311881916,0.034770983278465686,0.0386338607570533,0.03685686407324793,0.020856998057932702,0.0364109637716706,0.038111985741480114,0.03870609635775418,0.03870380595536108,0.03850648070902666,0.037924346454905625,0.0386958636152821,0.01052096284159112,0.03697661949748708,0.03743385492120776,0.03344925214369809,0.034729761085852996,0.03880283408727345,0.03897912078738226,0.03608331516471448,0.03567220195251934,0.038989590832045784,0.03718364173126744,0.03435241197641509,0.03897699101948849,0.010666893236326858,0.025895924580448194,0.03895160821938885,0.038941289084112374,0.038939554483515805,0.03892527741804938,0.03683441943169132,0.03200754234125541,0.037445586390519404,0.0323601580091676,0.03613122358719782,0.03597665863880977,0.038966110570538934,0.03895248452983744,0.03895558340642112,0.03889133321155448,0.035073781534686335,0.03930237985639624,0.03905219382376225,0.03936396739193279,0.03620514591628303,0.040299755217404906,0.04041086809620674,0.04015987455197013,0.040408480431374516,0.04022586921656578,0.03162591739011223,0.040485377734646666,0.040775898316922424,0.03737154943984992,0.04116918116886592,0.04105501835500318,0.04121901835551252,0.04122970757050187,0.04123925299039255,0.04126272912650639,0.041211667872499,0.041199815527245706,0.04118710400434709,0.04129960128332609,0.041351391999530994,0.04154552872966882,0.04151616648513147,0.04174835022278569,0.040932350638236095,0.04192699394126524,0.0419866265318241,0.041996908589045825,0.04198944870540431,0.04201970650971439,0.04199343565751286,0.041961066653306484,0.04196270161519747,0.0419546738645667,0.04214653805738862,0.04213683164488156,0.04218983390037057,0.04213501034132614,0.032898285704093734,0.041954741777764024,0.04209370200742202],\"type\":\"scatter\",\"xaxis\":\"x8\",\"yaxis\":\"y8\"},{\"marker\":{\"color\":[0,1,2,7,33,37,49],\"colorbar\":{\"title\":{\"text\":\"Trial\"},\"x\":1.0,\"xpad\":40},\"colorscale\":[[0.0,\"rgb(247,251,255)\"],[0.125,\"rgb(222,235,247)\"],[0.25,\"rgb(198,219,239)\"],[0.375,\"rgb(158,202,225)\"],[0.5,\"rgb(107,174,214)\"],[0.625,\"rgb(66,146,198)\"],[0.75,\"rgb(33,113,181)\"],[0.875,\"rgb(8,81,156)\"],[1.0,\"rgb(8,48,107)\"]],\"line\":{\"color\":\"Grey\",\"width\":0.5},\"showscale\":false},\"mode\":\"markers\",\"name\":\"Feasible Trial\",\"showlegend\":false,\"x\":[1.9162996424704613,0.9331405812571156,1.9850899411906355,1.1167000718605908,0.02488167405374897,0.005762861884655246,0.8264074043569967],\"y\":[0.03438354964465644,0.03765997704303814,0.036466401535762326,0.03716477889561431,0.03608331516471448,0.03435241197641509,0.03613122358719782],\"type\":\"scatter\",\"xaxis\":\"x9\",\"yaxis\":\"y9\"},{\"marker\":{\"color\":[0,1,2,7,33,37,49],\"colorbar\":{\"title\":{\"text\":\"Trial\"},\"x\":1.0,\"xpad\":40},\"colorscale\":[[0.0,\"rgb(247,251,255)\"],[0.125,\"rgb(222,235,247)\"],[0.25,\"rgb(198,219,239)\"],[0.375,\"rgb(158,202,225)\"],[0.5,\"rgb(107,174,214)\"],[0.625,\"rgb(66,146,198)\"],[0.75,\"rgb(33,113,181)\"],[0.875,\"rgb(8,81,156)\"],[1.0,\"rgb(8,48,107)\"]],\"line\":{\"color\":\"Grey\",\"width\":0.5},\"showscale\":false},\"mode\":\"markers\",\"name\":\"Feasible Trial\",\"showlegend\":false,\"x\":[0.37185718657749445,1.5204811914205834,1.804336509419103,1.631059262328189,0.07898641759245595,0.7431800220371774,1.155613983449837],\"y\":[0.03438354964465644,0.03765997704303814,0.036466401535762326,0.03716477889561431,0.03608331516471448,0.03435241197641509,0.03613122358719782],\"type\":\"scatter\",\"xaxis\":\"x10\",\"yaxis\":\"y10\"}],                        {\"template\":{\"data\":{\"histogram2dcontour\":[{\"type\":\"histogram2dcontour\",\"colorbar\":{\"outlinewidth\":0,\"ticks\":\"\"},\"colorscale\":[[0.0,\"#0d0887\"],[0.1111111111111111,\"#46039f\"],[0.2222222222222222,\"#7201a8\"],[0.3333333333333333,\"#9c179e\"],[0.4444444444444444,\"#bd3786\"],[0.5555555555555556,\"#d8576b\"],[0.6666666666666666,\"#ed7953\"],[0.7777777777777778,\"#fb9f3a\"],[0.8888888888888888,\"#fdca26\"],[1.0,\"#f0f921\"]]}],\"choropleth\":[{\"type\":\"choropleth\",\"colorbar\":{\"outlinewidth\":0,\"ticks\":\"\"}}],\"histogram2d\":[{\"type\":\"histogram2d\",\"colorbar\":{\"outlinewidth\":0,\"ticks\":\"\"},\"colorscale\":[[0.0,\"#0d0887\"],[0.1111111111111111,\"#46039f\"],[0.2222222222222222,\"#7201a8\"],[0.3333333333333333,\"#9c179e\"],[0.4444444444444444,\"#bd3786\"],[0.5555555555555556,\"#d8576b\"],[0.6666666666666666,\"#ed7953\"],[0.7777777777777778,\"#fb9f3a\"],[0.8888888888888888,\"#fdca26\"],[1.0,\"#f0f921\"]]}],\"heatmap\":[{\"type\":\"heatmap\",\"colorbar\":{\"outlinewidth\":0,\"ticks\":\"\"},\"colorscale\":[[0.0,\"#0d0887\"],[0.1111111111111111,\"#46039f\"],[0.2222222222222222,\"#7201a8\"],[0.3333333333333333,\"#9c179e\"],[0.4444444444444444,\"#bd3786\"],[0.5555555555555556,\"#d8576b\"],[0.6666666666666666,\"#ed7953\"],[0.7777777777777778,\"#fb9f3a\"],[0.8888888888888888,\"#fdca26\"],[1.0,\"#f0f921\"]]}],\"heatmapgl\":[{\"type\":\"heatmapgl\",\"colorbar\":{\"outlinewidth\":0,\"ticks\":\"\"},\"colorscale\":[[0.0,\"#0d0887\"],[0.1111111111111111,\"#46039f\"],[0.2222222222222222,\"#7201a8\"],[0.3333333333333333,\"#9c179e\"],[0.4444444444444444,\"#bd3786\"],[0.5555555555555556,\"#d8576b\"],[0.6666666666666666,\"#ed7953\"],[0.7777777777777778,\"#fb9f3a\"],[0.8888888888888888,\"#fdca26\"],[1.0,\"#f0f921\"]]}],\"contourcarpet\":[{\"type\":\"contourcarpet\",\"colorbar\":{\"outlinewidth\":0,\"ticks\":\"\"}}],\"contour\":[{\"type\":\"contour\",\"colorbar\":{\"outlinewidth\":0,\"ticks\":\"\"},\"colorscale\":[[0.0,\"#0d0887\"],[0.1111111111111111,\"#46039f\"],[0.2222222222222222,\"#7201a8\"],[0.3333333333333333,\"#9c179e\"],[0.4444444444444444,\"#bd3786\"],[0.5555555555555556,\"#d8576b\"],[0.6666666666666666,\"#ed7953\"],[0.7777777777777778,\"#fb9f3a\"],[0.8888888888888888,\"#fdca26\"],[1.0,\"#f0f921\"]]}],\"surface\":[{\"type\":\"surface\",\"colorbar\":{\"outlinewidth\":0,\"ticks\":\"\"},\"colorscale\":[[0.0,\"#0d0887\"],[0.1111111111111111,\"#46039f\"],[0.2222222222222222,\"#7201a8\"],[0.3333333333333333,\"#9c179e\"],[0.4444444444444444,\"#bd3786\"],[0.5555555555555556,\"#d8576b\"],[0.6666666666666666,\"#ed7953\"],[0.7777777777777778,\"#fb9f3a\"],[0.8888888888888888,\"#fdca26\"],[1.0,\"#f0f921\"]]}],\"mesh3d\":[{\"type\":\"mesh3d\",\"colorbar\":{\"outlinewidth\":0,\"ticks\":\"\"}}],\"scatter\":[{\"fillpattern\":{\"fillmode\":\"overlay\",\"size\":10,\"solidity\":0.2},\"type\":\"scatter\"}],\"parcoords\":[{\"type\":\"parcoords\",\"line\":{\"colorbar\":{\"outlinewidth\":0,\"ticks\":\"\"}}}],\"scatterpolargl\":[{\"type\":\"scatterpolargl\",\"marker\":{\"colorbar\":{\"outlinewidth\":0,\"ticks\":\"\"}}}],\"bar\":[{\"error_x\":{\"color\":\"#2a3f5f\"},\"error_y\":{\"color\":\"#2a3f5f\"},\"marker\":{\"line\":{\"color\":\"#E5ECF6\",\"width\":0.5},\"pattern\":{\"fillmode\":\"overlay\",\"size\":10,\"solidity\":0.2}},\"type\":\"bar\"}],\"scattergeo\":[{\"type\":\"scattergeo\",\"marker\":{\"colorbar\":{\"outlinewidth\":0,\"ticks\":\"\"}}}],\"scatterpolar\":[{\"type\":\"scatterpolar\",\"marker\":{\"colorbar\":{\"outlinewidth\":0,\"ticks\":\"\"}}}],\"histogram\":[{\"marker\":{\"pattern\":{\"fillmode\":\"overlay\",\"size\":10,\"solidity\":0.2}},\"type\":\"histogram\"}],\"scattergl\":[{\"type\":\"scattergl\",\"marker\":{\"colorbar\":{\"outlinewidth\":0,\"ticks\":\"\"}}}],\"scatter3d\":[{\"type\":\"scatter3d\",\"line\":{\"colorbar\":{\"outlinewidth\":0,\"ticks\":\"\"}},\"marker\":{\"colorbar\":{\"outlinewidth\":0,\"ticks\":\"\"}}}],\"scattermapbox\":[{\"type\":\"scattermapbox\",\"marker\":{\"colorbar\":{\"outlinewidth\":0,\"ticks\":\"\"}}}],\"scatterternary\":[{\"type\":\"scatterternary\",\"marker\":{\"colorbar\":{\"outlinewidth\":0,\"ticks\":\"\"}}}],\"scattercarpet\":[{\"type\":\"scattercarpet\",\"marker\":{\"colorbar\":{\"outlinewidth\":0,\"ticks\":\"\"}}}],\"carpet\":[{\"aaxis\":{\"endlinecolor\":\"#2a3f5f\",\"gridcolor\":\"white\",\"linecolor\":\"white\",\"minorgridcolor\":\"white\",\"startlinecolor\":\"#2a3f5f\"},\"baxis\":{\"endlinecolor\":\"#2a3f5f\",\"gridcolor\":\"white\",\"linecolor\":\"white\",\"minorgridcolor\":\"white\",\"startlinecolor\":\"#2a3f5f\"},\"type\":\"carpet\"}],\"table\":[{\"cells\":{\"fill\":{\"color\":\"#EBF0F8\"},\"line\":{\"color\":\"white\"}},\"header\":{\"fill\":{\"color\":\"#C8D4E3\"},\"line\":{\"color\":\"white\"}},\"type\":\"table\"}],\"barpolar\":[{\"marker\":{\"line\":{\"color\":\"#E5ECF6\",\"width\":0.5},\"pattern\":{\"fillmode\":\"overlay\",\"size\":10,\"solidity\":0.2}},\"type\":\"barpolar\"}],\"pie\":[{\"automargin\":true,\"type\":\"pie\"}]},\"layout\":{\"autotypenumbers\":\"strict\",\"colorway\":[\"#636efa\",\"#EF553B\",\"#00cc96\",\"#ab63fa\",\"#FFA15A\",\"#19d3f3\",\"#FF6692\",\"#B6E880\",\"#FF97FF\",\"#FECB52\"],\"font\":{\"color\":\"#2a3f5f\"},\"hovermode\":\"closest\",\"hoverlabel\":{\"align\":\"left\"},\"paper_bgcolor\":\"white\",\"plot_bgcolor\":\"#E5ECF6\",\"polar\":{\"bgcolor\":\"#E5ECF6\",\"angularaxis\":{\"gridcolor\":\"white\",\"linecolor\":\"white\",\"ticks\":\"\"},\"radialaxis\":{\"gridcolor\":\"white\",\"linecolor\":\"white\",\"ticks\":\"\"}},\"ternary\":{\"bgcolor\":\"#E5ECF6\",\"aaxis\":{\"gridcolor\":\"white\",\"linecolor\":\"white\",\"ticks\":\"\"},\"baxis\":{\"gridcolor\":\"white\",\"linecolor\":\"white\",\"ticks\":\"\"},\"caxis\":{\"gridcolor\":\"white\",\"linecolor\":\"white\",\"ticks\":\"\"}},\"coloraxis\":{\"colorbar\":{\"outlinewidth\":0,\"ticks\":\"\"}},\"colorscale\":{\"sequential\":[[0.0,\"#0d0887\"],[0.1111111111111111,\"#46039f\"],[0.2222222222222222,\"#7201a8\"],[0.3333333333333333,\"#9c179e\"],[0.4444444444444444,\"#bd3786\"],[0.5555555555555556,\"#d8576b\"],[0.6666666666666666,\"#ed7953\"],[0.7777777777777778,\"#fb9f3a\"],[0.8888888888888888,\"#fdca26\"],[1.0,\"#f0f921\"]],\"sequentialminus\":[[0.0,\"#0d0887\"],[0.1111111111111111,\"#46039f\"],[0.2222222222222222,\"#7201a8\"],[0.3333333333333333,\"#9c179e\"],[0.4444444444444444,\"#bd3786\"],[0.5555555555555556,\"#d8576b\"],[0.6666666666666666,\"#ed7953\"],[0.7777777777777778,\"#fb9f3a\"],[0.8888888888888888,\"#fdca26\"],[1.0,\"#f0f921\"]],\"diverging\":[[0,\"#8e0152\"],[0.1,\"#c51b7d\"],[0.2,\"#de77ae\"],[0.3,\"#f1b6da\"],[0.4,\"#fde0ef\"],[0.5,\"#f7f7f7\"],[0.6,\"#e6f5d0\"],[0.7,\"#b8e186\"],[0.8,\"#7fbc41\"],[0.9,\"#4d9221\"],[1,\"#276419\"]]},\"xaxis\":{\"gridcolor\":\"white\",\"linecolor\":\"white\",\"ticks\":\"\",\"title\":{\"standoff\":15},\"zerolinecolor\":\"white\",\"automargin\":true,\"zerolinewidth\":2},\"yaxis\":{\"gridcolor\":\"white\",\"linecolor\":\"white\",\"ticks\":\"\",\"title\":{\"standoff\":15},\"zerolinecolor\":\"white\",\"automargin\":true,\"zerolinewidth\":2},\"scene\":{\"xaxis\":{\"backgroundcolor\":\"#E5ECF6\",\"gridcolor\":\"white\",\"linecolor\":\"white\",\"showbackground\":true,\"ticks\":\"\",\"zerolinecolor\":\"white\",\"gridwidth\":2},\"yaxis\":{\"backgroundcolor\":\"#E5ECF6\",\"gridcolor\":\"white\",\"linecolor\":\"white\",\"showbackground\":true,\"ticks\":\"\",\"zerolinecolor\":\"white\",\"gridwidth\":2},\"zaxis\":{\"backgroundcolor\":\"#E5ECF6\",\"gridcolor\":\"white\",\"linecolor\":\"white\",\"showbackground\":true,\"ticks\":\"\",\"zerolinecolor\":\"white\",\"gridwidth\":2}},\"shapedefaults\":{\"line\":{\"color\":\"#2a3f5f\"}},\"annotationdefaults\":{\"arrowcolor\":\"#2a3f5f\",\"arrowhead\":0,\"arrowwidth\":1},\"geo\":{\"bgcolor\":\"white\",\"landcolor\":\"#E5ECF6\",\"subunitcolor\":\"white\",\"showland\":true,\"showlakes\":true,\"lakecolor\":\"white\"},\"title\":{\"x\":0.05},\"mapbox\":{\"style\":\"light\"}}},\"xaxis\":{\"anchor\":\"y\",\"domain\":[0.0,0.082],\"title\":{\"text\":\"asymmetric_alpha\"}},\"yaxis\":{\"anchor\":\"x\",\"domain\":[0.0,1.0],\"title\":{\"text\":\"Objective Value\"}},\"xaxis2\":{\"anchor\":\"y2\",\"domain\":[0.10200000000000001,0.184],\"title\":{\"text\":\"feature_weighting\"},\"type\":\"category\",\"categoryorder\":\"array\",\"categoryarray\":[\"BM25\",\"TF-IDF\",\"none\"]},\"yaxis2\":{\"anchor\":\"x2\",\"domain\":[0.0,1.0],\"matches\":\"y\",\"showticklabels\":false},\"xaxis3\":{\"anchor\":\"y3\",\"domain\":[0.20400000000000001,0.28600000000000003],\"title\":{\"text\":\"normalize\"},\"type\":\"category\",\"categoryorder\":\"array\",\"categoryarray\":[true,false]},\"yaxis3\":{\"anchor\":\"x3\",\"domain\":[0.0,1.0],\"matches\":\"y\",\"showticklabels\":false},\"xaxis4\":{\"anchor\":\"y4\",\"domain\":[0.306,0.388],\"title\":{\"text\":\"normalize_avg_row\"},\"type\":\"category\",\"categoryorder\":\"array\",\"categoryarray\":[true,false]},\"yaxis4\":{\"anchor\":\"x4\",\"domain\":[0.0,1.0],\"matches\":\"y\",\"showticklabels\":false},\"xaxis5\":{\"anchor\":\"y5\",\"domain\":[0.40800000000000003,0.49000000000000005],\"title\":{\"text\":\"shrink\"}},\"yaxis5\":{\"anchor\":\"x5\",\"domain\":[0.0,1.0],\"matches\":\"y\",\"showticklabels\":false},\"xaxis6\":{\"anchor\":\"y6\",\"domain\":[0.51,0.592],\"title\":{\"text\":\"similarity\"},\"type\":\"category\",\"categoryorder\":\"array\",\"categoryarray\":[\"cosine\",\"dice\",\"jaccard\",\"asymmetric\",\"tversky\",\"euclidean\"]},\"yaxis6\":{\"anchor\":\"x6\",\"domain\":[0.0,1.0],\"matches\":\"y\",\"showticklabels\":false},\"xaxis7\":{\"anchor\":\"y7\",\"domain\":[0.6120000000000001,0.6940000000000001],\"title\":{\"text\":\"similarity_from_distance_mode\"},\"type\":\"category\",\"categoryorder\":\"array\",\"categoryarray\":[\"lin\",\"log\",\"exp\"]},\"yaxis7\":{\"anchor\":\"x7\",\"domain\":[0.0,1.0],\"matches\":\"y\",\"showticklabels\":false},\"xaxis8\":{\"anchor\":\"y8\",\"domain\":[0.7140000000000001,0.796],\"title\":{\"text\":\"topK\"}},\"yaxis8\":{\"anchor\":\"x8\",\"domain\":[0.0,1.0],\"matches\":\"y\",\"showticklabels\":false},\"xaxis9\":{\"anchor\":\"y9\",\"domain\":[0.8160000000000001,0.898],\"title\":{\"text\":\"tversky_alpha\"}},\"yaxis9\":{\"anchor\":\"x9\",\"domain\":[0.0,1.0],\"matches\":\"y\",\"showticklabels\":false},\"xaxis10\":{\"anchor\":\"y10\",\"domain\":[0.9179999999999999,0.9999999999999999],\"title\":{\"text\":\"tversky_beta\"}},\"yaxis10\":{\"anchor\":\"x10\",\"domain\":[0.0,1.0],\"matches\":\"y\",\"showticklabels\":false},\"title\":{\"text\":\"Slice Plot\"},\"width\":3000},                        {\"responsive\": true}                    ).then(function(){\n",
       "                            \n",
       "var gd = document.getElementById('f1a14c2a-8b45-4990-851a-d57d33752b9e');\n",
       "var x = new MutationObserver(function (mutations, observer) {{\n",
       "        var display = window.getComputedStyle(gd).display;\n",
       "        if (!display || display === 'none') {{\n",
       "            console.log([gd, 'removed!']);\n",
       "            Plotly.purge(gd);\n",
       "            observer.disconnect();\n",
       "        }}\n",
       "}});\n",
       "\n",
       "// Listen for the removal of the full notebook cells\n",
       "var notebookContainer = gd.closest('#notebook-container');\n",
       "if (notebookContainer) {{\n",
       "    x.observe(notebookContainer, {childList: true});\n",
       "}}\n",
       "\n",
       "// Listen for the clearing of the current output cell\n",
       "var outputEl = gd.closest('.output');\n",
       "if (outputEl) {{\n",
       "    x.observe(outputEl, {childList: true});\n",
       "}}\n",
       "\n",
       "                        })                };                            </script>        </div>\n",
       "</body>\n",
       "</html>"
      ]
     },
     "metadata": {},
     "output_type": "display_data"
    }
   ],
   "source": [
    "if not config['tune_parameters']:\n",
    "    optuna_study = optuna.load_study(study_name=f'hyperparameters_tuning_{config[\"model\"]}_{config[\"metric\"]}', storage=f'sqlite:///{config[\"database_path\"]}')\n",
    "    \n",
    "fig = optuna.visualization.plot_slice(optuna_study)\n",
    "fig.show()"
   ]
  },
  {
   "cell_type": "code",
   "execution_count": 15,
   "id": "cf3e359d",
   "metadata": {
    "execution": {
     "iopub.execute_input": "2025-01-05T21:00:09.711509Z",
     "iopub.status.busy": "2025-01-05T21:00:09.711047Z",
     "iopub.status.idle": "2025-01-05T21:00:11.183430Z",
     "shell.execute_reply": "2025-01-05T21:00:11.182195Z"
    },
    "papermill": {
     "duration": 1.584024,
     "end_time": "2025-01-05T21:00:11.185452",
     "exception": false,
     "start_time": "2025-01-05T21:00:09.601428",
     "status": "completed"
    },
    "tags": []
   },
   "outputs": [
    {
     "data": {
      "text/html": [
       "<html>\n",
       "<head><meta charset=\"utf-8\" /></head>\n",
       "<body>\n",
       "    <div>            <script src=\"https://cdnjs.cloudflare.com/ajax/libs/mathjax/2.7.5/MathJax.js?config=TeX-AMS-MML_SVG\"></script><script type=\"text/javascript\">if (window.MathJax && window.MathJax.Hub && window.MathJax.Hub.Config) {window.MathJax.Hub.Config({SVG: {font: \"STIX-Web\"}});}</script>                <script type=\"text/javascript\">window.PlotlyConfig = {MathJaxConfig: 'local'};</script>\n",
       "        <script charset=\"utf-8\" src=\"https://cdn.plot.ly/plotly-2.35.2.min.js\"></script>                <div id=\"89bc62ad-777c-4888-9ee3-2468f2f3bb19\" class=\"plotly-graph-div\" style=\"height:525px; width:100%;\"></div>            <script type=\"text/javascript\">                                    window.PLOTLYENV=window.PLOTLYENV || {};                                    if (document.getElementById(\"89bc62ad-777c-4888-9ee3-2468f2f3bb19\")) {                    Plotly.newPlot(                        \"89bc62ad-777c-4888-9ee3-2468f2f3bb19\",                        [{\"cliponaxis\":false,\"hovertemplate\":[\"feature_weighting (CategoricalDistribution): 0.037592822677728635\\u003cextra\\u003e\\u003c\\u002fextra\\u003e\",\"shrink (IntDistribution): 0.18794570509507405\\u003cextra\\u003e\\u003c\\u002fextra\\u003e\",\"topK (IntDistribution): 0.2342202959187534\\u003cextra\\u003e\\u003c\\u002fextra\\u003e\",\"similarity (CategoricalDistribution): 0.5402411763084439\\u003cextra\\u003e\\u003c\\u002fextra\\u003e\"],\"name\":\"Objective Value\",\"orientation\":\"h\",\"text\":[\"0.04\",\"0.19\",\"0.23\",\"0.54\"],\"textposition\":\"outside\",\"x\":[0.037592822677728635,0.18794570509507405,0.2342202959187534,0.5402411763084439],\"y\":[\"feature_weighting\",\"shrink\",\"topK\",\"similarity\"],\"type\":\"bar\"}],                        {\"title\":{\"text\":\"Hyperparameter Importances\"},\"xaxis\":{\"title\":{\"text\":\"Hyperparameter Importance\"}},\"yaxis\":{\"title\":{\"text\":\"Hyperparameter\"}},\"template\":{\"data\":{\"histogram2dcontour\":[{\"type\":\"histogram2dcontour\",\"colorbar\":{\"outlinewidth\":0,\"ticks\":\"\"},\"colorscale\":[[0.0,\"#0d0887\"],[0.1111111111111111,\"#46039f\"],[0.2222222222222222,\"#7201a8\"],[0.3333333333333333,\"#9c179e\"],[0.4444444444444444,\"#bd3786\"],[0.5555555555555556,\"#d8576b\"],[0.6666666666666666,\"#ed7953\"],[0.7777777777777778,\"#fb9f3a\"],[0.8888888888888888,\"#fdca26\"],[1.0,\"#f0f921\"]]}],\"choropleth\":[{\"type\":\"choropleth\",\"colorbar\":{\"outlinewidth\":0,\"ticks\":\"\"}}],\"histogram2d\":[{\"type\":\"histogram2d\",\"colorbar\":{\"outlinewidth\":0,\"ticks\":\"\"},\"colorscale\":[[0.0,\"#0d0887\"],[0.1111111111111111,\"#46039f\"],[0.2222222222222222,\"#7201a8\"],[0.3333333333333333,\"#9c179e\"],[0.4444444444444444,\"#bd3786\"],[0.5555555555555556,\"#d8576b\"],[0.6666666666666666,\"#ed7953\"],[0.7777777777777778,\"#fb9f3a\"],[0.8888888888888888,\"#fdca26\"],[1.0,\"#f0f921\"]]}],\"heatmap\":[{\"type\":\"heatmap\",\"colorbar\":{\"outlinewidth\":0,\"ticks\":\"\"},\"colorscale\":[[0.0,\"#0d0887\"],[0.1111111111111111,\"#46039f\"],[0.2222222222222222,\"#7201a8\"],[0.3333333333333333,\"#9c179e\"],[0.4444444444444444,\"#bd3786\"],[0.5555555555555556,\"#d8576b\"],[0.6666666666666666,\"#ed7953\"],[0.7777777777777778,\"#fb9f3a\"],[0.8888888888888888,\"#fdca26\"],[1.0,\"#f0f921\"]]}],\"heatmapgl\":[{\"type\":\"heatmapgl\",\"colorbar\":{\"outlinewidth\":0,\"ticks\":\"\"},\"colorscale\":[[0.0,\"#0d0887\"],[0.1111111111111111,\"#46039f\"],[0.2222222222222222,\"#7201a8\"],[0.3333333333333333,\"#9c179e\"],[0.4444444444444444,\"#bd3786\"],[0.5555555555555556,\"#d8576b\"],[0.6666666666666666,\"#ed7953\"],[0.7777777777777778,\"#fb9f3a\"],[0.8888888888888888,\"#fdca26\"],[1.0,\"#f0f921\"]]}],\"contourcarpet\":[{\"type\":\"contourcarpet\",\"colorbar\":{\"outlinewidth\":0,\"ticks\":\"\"}}],\"contour\":[{\"type\":\"contour\",\"colorbar\":{\"outlinewidth\":0,\"ticks\":\"\"},\"colorscale\":[[0.0,\"#0d0887\"],[0.1111111111111111,\"#46039f\"],[0.2222222222222222,\"#7201a8\"],[0.3333333333333333,\"#9c179e\"],[0.4444444444444444,\"#bd3786\"],[0.5555555555555556,\"#d8576b\"],[0.6666666666666666,\"#ed7953\"],[0.7777777777777778,\"#fb9f3a\"],[0.8888888888888888,\"#fdca26\"],[1.0,\"#f0f921\"]]}],\"surface\":[{\"type\":\"surface\",\"colorbar\":{\"outlinewidth\":0,\"ticks\":\"\"},\"colorscale\":[[0.0,\"#0d0887\"],[0.1111111111111111,\"#46039f\"],[0.2222222222222222,\"#7201a8\"],[0.3333333333333333,\"#9c179e\"],[0.4444444444444444,\"#bd3786\"],[0.5555555555555556,\"#d8576b\"],[0.6666666666666666,\"#ed7953\"],[0.7777777777777778,\"#fb9f3a\"],[0.8888888888888888,\"#fdca26\"],[1.0,\"#f0f921\"]]}],\"mesh3d\":[{\"type\":\"mesh3d\",\"colorbar\":{\"outlinewidth\":0,\"ticks\":\"\"}}],\"scatter\":[{\"fillpattern\":{\"fillmode\":\"overlay\",\"size\":10,\"solidity\":0.2},\"type\":\"scatter\"}],\"parcoords\":[{\"type\":\"parcoords\",\"line\":{\"colorbar\":{\"outlinewidth\":0,\"ticks\":\"\"}}}],\"scatterpolargl\":[{\"type\":\"scatterpolargl\",\"marker\":{\"colorbar\":{\"outlinewidth\":0,\"ticks\":\"\"}}}],\"bar\":[{\"error_x\":{\"color\":\"#2a3f5f\"},\"error_y\":{\"color\":\"#2a3f5f\"},\"marker\":{\"line\":{\"color\":\"#E5ECF6\",\"width\":0.5},\"pattern\":{\"fillmode\":\"overlay\",\"size\":10,\"solidity\":0.2}},\"type\":\"bar\"}],\"scattergeo\":[{\"type\":\"scattergeo\",\"marker\":{\"colorbar\":{\"outlinewidth\":0,\"ticks\":\"\"}}}],\"scatterpolar\":[{\"type\":\"scatterpolar\",\"marker\":{\"colorbar\":{\"outlinewidth\":0,\"ticks\":\"\"}}}],\"histogram\":[{\"marker\":{\"pattern\":{\"fillmode\":\"overlay\",\"size\":10,\"solidity\":0.2}},\"type\":\"histogram\"}],\"scattergl\":[{\"type\":\"scattergl\",\"marker\":{\"colorbar\":{\"outlinewidth\":0,\"ticks\":\"\"}}}],\"scatter3d\":[{\"type\":\"scatter3d\",\"line\":{\"colorbar\":{\"outlinewidth\":0,\"ticks\":\"\"}},\"marker\":{\"colorbar\":{\"outlinewidth\":0,\"ticks\":\"\"}}}],\"scattermapbox\":[{\"type\":\"scattermapbox\",\"marker\":{\"colorbar\":{\"outlinewidth\":0,\"ticks\":\"\"}}}],\"scatterternary\":[{\"type\":\"scatterternary\",\"marker\":{\"colorbar\":{\"outlinewidth\":0,\"ticks\":\"\"}}}],\"scattercarpet\":[{\"type\":\"scattercarpet\",\"marker\":{\"colorbar\":{\"outlinewidth\":0,\"ticks\":\"\"}}}],\"carpet\":[{\"aaxis\":{\"endlinecolor\":\"#2a3f5f\",\"gridcolor\":\"white\",\"linecolor\":\"white\",\"minorgridcolor\":\"white\",\"startlinecolor\":\"#2a3f5f\"},\"baxis\":{\"endlinecolor\":\"#2a3f5f\",\"gridcolor\":\"white\",\"linecolor\":\"white\",\"minorgridcolor\":\"white\",\"startlinecolor\":\"#2a3f5f\"},\"type\":\"carpet\"}],\"table\":[{\"cells\":{\"fill\":{\"color\":\"#EBF0F8\"},\"line\":{\"color\":\"white\"}},\"header\":{\"fill\":{\"color\":\"#C8D4E3\"},\"line\":{\"color\":\"white\"}},\"type\":\"table\"}],\"barpolar\":[{\"marker\":{\"line\":{\"color\":\"#E5ECF6\",\"width\":0.5},\"pattern\":{\"fillmode\":\"overlay\",\"size\":10,\"solidity\":0.2}},\"type\":\"barpolar\"}],\"pie\":[{\"automargin\":true,\"type\":\"pie\"}]},\"layout\":{\"autotypenumbers\":\"strict\",\"colorway\":[\"#636efa\",\"#EF553B\",\"#00cc96\",\"#ab63fa\",\"#FFA15A\",\"#19d3f3\",\"#FF6692\",\"#B6E880\",\"#FF97FF\",\"#FECB52\"],\"font\":{\"color\":\"#2a3f5f\"},\"hovermode\":\"closest\",\"hoverlabel\":{\"align\":\"left\"},\"paper_bgcolor\":\"white\",\"plot_bgcolor\":\"#E5ECF6\",\"polar\":{\"bgcolor\":\"#E5ECF6\",\"angularaxis\":{\"gridcolor\":\"white\",\"linecolor\":\"white\",\"ticks\":\"\"},\"radialaxis\":{\"gridcolor\":\"white\",\"linecolor\":\"white\",\"ticks\":\"\"}},\"ternary\":{\"bgcolor\":\"#E5ECF6\",\"aaxis\":{\"gridcolor\":\"white\",\"linecolor\":\"white\",\"ticks\":\"\"},\"baxis\":{\"gridcolor\":\"white\",\"linecolor\":\"white\",\"ticks\":\"\"},\"caxis\":{\"gridcolor\":\"white\",\"linecolor\":\"white\",\"ticks\":\"\"}},\"coloraxis\":{\"colorbar\":{\"outlinewidth\":0,\"ticks\":\"\"}},\"colorscale\":{\"sequential\":[[0.0,\"#0d0887\"],[0.1111111111111111,\"#46039f\"],[0.2222222222222222,\"#7201a8\"],[0.3333333333333333,\"#9c179e\"],[0.4444444444444444,\"#bd3786\"],[0.5555555555555556,\"#d8576b\"],[0.6666666666666666,\"#ed7953\"],[0.7777777777777778,\"#fb9f3a\"],[0.8888888888888888,\"#fdca26\"],[1.0,\"#f0f921\"]],\"sequentialminus\":[[0.0,\"#0d0887\"],[0.1111111111111111,\"#46039f\"],[0.2222222222222222,\"#7201a8\"],[0.3333333333333333,\"#9c179e\"],[0.4444444444444444,\"#bd3786\"],[0.5555555555555556,\"#d8576b\"],[0.6666666666666666,\"#ed7953\"],[0.7777777777777778,\"#fb9f3a\"],[0.8888888888888888,\"#fdca26\"],[1.0,\"#f0f921\"]],\"diverging\":[[0,\"#8e0152\"],[0.1,\"#c51b7d\"],[0.2,\"#de77ae\"],[0.3,\"#f1b6da\"],[0.4,\"#fde0ef\"],[0.5,\"#f7f7f7\"],[0.6,\"#e6f5d0\"],[0.7,\"#b8e186\"],[0.8,\"#7fbc41\"],[0.9,\"#4d9221\"],[1,\"#276419\"]]},\"xaxis\":{\"gridcolor\":\"white\",\"linecolor\":\"white\",\"ticks\":\"\",\"title\":{\"standoff\":15},\"zerolinecolor\":\"white\",\"automargin\":true,\"zerolinewidth\":2},\"yaxis\":{\"gridcolor\":\"white\",\"linecolor\":\"white\",\"ticks\":\"\",\"title\":{\"standoff\":15},\"zerolinecolor\":\"white\",\"automargin\":true,\"zerolinewidth\":2},\"scene\":{\"xaxis\":{\"backgroundcolor\":\"#E5ECF6\",\"gridcolor\":\"white\",\"linecolor\":\"white\",\"showbackground\":true,\"ticks\":\"\",\"zerolinecolor\":\"white\",\"gridwidth\":2},\"yaxis\":{\"backgroundcolor\":\"#E5ECF6\",\"gridcolor\":\"white\",\"linecolor\":\"white\",\"showbackground\":true,\"ticks\":\"\",\"zerolinecolor\":\"white\",\"gridwidth\":2},\"zaxis\":{\"backgroundcolor\":\"#E5ECF6\",\"gridcolor\":\"white\",\"linecolor\":\"white\",\"showbackground\":true,\"ticks\":\"\",\"zerolinecolor\":\"white\",\"gridwidth\":2}},\"shapedefaults\":{\"line\":{\"color\":\"#2a3f5f\"}},\"annotationdefaults\":{\"arrowcolor\":\"#2a3f5f\",\"arrowhead\":0,\"arrowwidth\":1},\"geo\":{\"bgcolor\":\"white\",\"landcolor\":\"#E5ECF6\",\"subunitcolor\":\"white\",\"showland\":true,\"showlakes\":true,\"lakecolor\":\"white\"},\"title\":{\"x\":0.05},\"mapbox\":{\"style\":\"light\"}}}},                        {\"responsive\": true}                    ).then(function(){\n",
       "                            \n",
       "var gd = document.getElementById('89bc62ad-777c-4888-9ee3-2468f2f3bb19');\n",
       "var x = new MutationObserver(function (mutations, observer) {{\n",
       "        var display = window.getComputedStyle(gd).display;\n",
       "        if (!display || display === 'none') {{\n",
       "            console.log([gd, 'removed!']);\n",
       "            Plotly.purge(gd);\n",
       "            observer.disconnect();\n",
       "        }}\n",
       "}});\n",
       "\n",
       "// Listen for the removal of the full notebook cells\n",
       "var notebookContainer = gd.closest('#notebook-container');\n",
       "if (notebookContainer) {{\n",
       "    x.observe(notebookContainer, {childList: true});\n",
       "}}\n",
       "\n",
       "// Listen for the clearing of the current output cell\n",
       "var outputEl = gd.closest('.output');\n",
       "if (outputEl) {{\n",
       "    x.observe(outputEl, {childList: true});\n",
       "}}\n",
       "\n",
       "                        })                };                            </script>        </div>\n",
       "</body>\n",
       "</html>"
      ]
     },
     "metadata": {},
     "output_type": "display_data"
    }
   ],
   "source": [
    "if not config['tune_parameters']:\n",
    "    optuna_study = optuna.load_study(study_name=f'hyperparameters_tuning_{config[\"model\"]}_{config[\"metric\"]}', storage=f'sqlite:///{config[\"database_path\"]}')\n",
    "    \n",
    "fig = optuna.visualization.plot_param_importances(optuna_study)\n",
    "fig.show()"
   ]
  },
  {
   "cell_type": "markdown",
   "id": "87a8ce6a",
   "metadata": {
    "papermill": {
     "duration": 0.11261,
     "end_time": "2025-01-05T21:00:11.405802",
     "exception": false,
     "start_time": "2025-01-05T21:00:11.293192",
     "status": "completed"
    },
    "tags": []
   },
   "source": [
    "## Let's train the recommender with best parameter values"
   ]
  },
  {
   "cell_type": "code",
   "execution_count": 16,
   "id": "0da467be",
   "metadata": {
    "execution": {
     "iopub.execute_input": "2025-01-05T21:00:11.633653Z",
     "iopub.status.busy": "2025-01-05T21:00:11.633141Z",
     "iopub.status.idle": "2025-01-05T21:00:26.621618Z",
     "shell.execute_reply": "2025-01-05T21:00:26.620392Z"
    },
    "papermill": {
     "duration": 15.103277,
     "end_time": "2025-01-05T21:00:26.623873",
     "exception": false,
     "start_time": "2025-01-05T21:00:11.520596",
     "status": "completed"
    },
    "tags": []
   },
   "outputs": [
    {
     "name": "stdout",
     "output_type": "stream",
     "text": [
      "Similarity column 35736 (100.0%), 2715.38 column/sec. Elapsed time 13.16 sec\n"
     ]
    }
   ],
   "source": [
    "if config['tune_best_params']:\n",
    "\n",
    "    if config['tune_parameters']:\n",
    "        best_params = optuna_study.best_trial.params\n",
    "    else: \n",
    "        with open(f'{K_PATH}/{GH_PATH}/{config[\"model\"]}Recommender/Optimizing{config[\"metric\"]}/best_params_{config[\"model\"]}_{config[\"metric\"]}.json', 'r') as best_params_json:\n",
    "            best_params = json.load(best_params_json)\n",
    "\n",
    "    recommender_instance = UserKNNCFRecommender(URM_train + URM_validation)\n",
    "    recommender_instance.fit(**best_params)"
   ]
  },
  {
   "cell_type": "markdown",
   "id": "64657301",
   "metadata": {
    "papermill": {
     "duration": 0.108915,
     "end_time": "2025-01-05T21:00:27.030922",
     "exception": false,
     "start_time": "2025-01-05T21:00:26.922007",
     "status": "completed"
    },
    "tags": []
   },
   "source": [
    "# Testing\n",
    "\n",
    "Create the recommendations for the submission. "
   ]
  },
  {
   "cell_type": "code",
   "execution_count": 17,
   "id": "ed8eb861",
   "metadata": {
    "execution": {
     "iopub.execute_input": "2025-01-05T21:00:27.252918Z",
     "iopub.status.busy": "2025-01-05T21:00:27.252381Z",
     "iopub.status.idle": "2025-01-05T21:01:29.540023Z",
     "shell.execute_reply": "2025-01-05T21:01:29.538458Z"
    },
    "papermill": {
     "duration": 62.530078,
     "end_time": "2025-01-05T21:01:29.671739",
     "exception": false,
     "start_time": "2025-01-05T21:00:27.141661",
     "status": "completed"
    },
    "tags": []
   },
   "outputs": [
    {
     "name": "stdout",
     "output_type": "stream",
     "text": [
      "Submission file saved as /kaggle/working/submission_UserKNNCF_MAP.csv\n"
     ]
    }
   ],
   "source": [
    "if config['tune_best_params']:\n",
    "\n",
    "    data_target_users_test = pd.read_csv('/kaggle/working/RECsys_Challenge2024/Dataset/data_target_users_test.csv')\n",
    "    create_submission(data_target_users_test, recommender_instance, f'/kaggle/working/submission_{config[\"model\"]}_{config[\"metric\"]}.csv')"
   ]
  },
  {
   "cell_type": "markdown",
   "id": "fe148abd",
   "metadata": {
    "papermill": {
     "duration": 0.111845,
     "end_time": "2025-01-05T21:01:29.893101",
     "exception": false,
     "start_time": "2025-01-05T21:01:29.781256",
     "status": "completed"
    },
    "tags": []
   },
   "source": [
    "# Save Version on GitHub \n",
    "\n",
    "Write or import a json file where best hyperparameters are saved. "
   ]
  },
  {
   "cell_type": "code",
   "execution_count": 18,
   "id": "3c015bfa",
   "metadata": {
    "execution": {
     "iopub.execute_input": "2025-01-05T21:01:30.115044Z",
     "iopub.status.busy": "2025-01-05T21:01:30.114576Z",
     "iopub.status.idle": "2025-01-05T21:01:31.112570Z",
     "shell.execute_reply": "2025-01-05T21:01:31.111094Z"
    },
    "papermill": {
     "duration": 1.112409,
     "end_time": "2025-01-05T21:01:31.114567",
     "exception": false,
     "start_time": "2025-01-05T21:01:30.002158",
     "status": "completed"
    },
    "tags": []
   },
   "outputs": [
    {
     "name": "stdout",
     "output_type": "stream",
     "text": [
      "File 'TrainedModels/WithKFCV/KNN/UserKNNCFRecommender/OptimizingMAP/best_params_UserKNNCF_MAP.json' created successfully.\n"
     ]
    }
   ],
   "source": [
    "if config['tune_parameters']:\n",
    "    with open(f'/kaggle/working/best_params_{config[\"model\"]}_{config[\"metric\"]}.json', 'w') as params_file:\n",
    "        json.dump(optuna_study.best_params, params_file)\n",
    "        \n",
    "    if config['save_github']:\n",
    "        upload_file(\n",
    "            f'/kaggle/working/best_params_{config[\"model\"]}_{config[\"metric\"]}.json', \n",
    "            f'{GH_PATH}/{config[\"model\"]}Recommender/Optimizing{config[\"metric\"]}/best_params_{config[\"model\"]}_{config[\"metric\"]}.json', \n",
    "            f'{config[\"model\"]}_{config[\"metric\"]} tuning results (from kaggle notebook)',\n",
    "            repo\n",
    "        )\n",
    "elif config['copy_prev_best_params']:\n",
    "    shutil.copyfile(\n",
    "        f'{K_PATH}/{GH_PATH}/{config[\"model\"]}Recommender/Optimizing{config[\"metric\"]}/'\\\n",
    "        f'best_params_{config[\"model\"]}_{config[\"metric\"]}.json', \n",
    "        f'/kaggle/working/best_params_{config[\"model\"]}_{config[\"metric\"]}.json'\n",
    "    )"
   ]
  },
  {
   "cell_type": "markdown",
   "id": "8ad6986c",
   "metadata": {
    "papermill": {
     "duration": 0.104208,
     "end_time": "2025-01-05T21:01:31.322509",
     "exception": false,
     "start_time": "2025-01-05T21:01:31.218301",
     "status": "completed"
    },
    "tags": []
   },
   "source": [
    "Save the history of the tuned model."
   ]
  },
  {
   "cell_type": "code",
   "execution_count": 19,
   "id": "9066935f",
   "metadata": {
    "execution": {
     "iopub.execute_input": "2025-01-05T21:01:31.536534Z",
     "iopub.status.busy": "2025-01-05T21:01:31.536047Z",
     "iopub.status.idle": "2025-01-05T21:01:32.874984Z",
     "shell.execute_reply": "2025-01-05T21:01:32.873373Z"
    },
    "papermill": {
     "duration": 1.450274,
     "end_time": "2025-01-05T21:01:32.877061",
     "exception": false,
     "start_time": "2025-01-05T21:01:31.426787",
     "status": "completed"
    },
    "tags": []
   },
   "outputs": [
    {
     "name": "stdout",
     "output_type": "stream",
     "text": [
      "File 'TrainedModels/WithKFCV/KNN/UserKNNCFRecommender/OptimizingMAP/history_UserKNNCF_MAP.db' created successfully.\n"
     ]
    }
   ],
   "source": [
    "if config['save_github'] and config['tune_parameters']:\n",
    "    upload_file(\n",
    "        config['database_path'], \n",
    "        f'{GH_PATH}/{config[\"model\"]}Recommender/Optimizing{config[\"metric\"]}/history_{config[\"model\"]}_{config[\"metric\"]}.db',\n",
    "        f'Tuning {config[\"model\"]}_{config[\"metric\"]} db updated results (from kaggle notebook)',\n",
    "        repo\n",
    "    )"
   ]
  },
  {
   "cell_type": "markdown",
   "id": "0330760e",
   "metadata": {
    "papermill": {
     "duration": 0.109676,
     "end_time": "2025-01-05T21:01:33.096485",
     "exception": false,
     "start_time": "2025-01-05T21:01:32.986809",
     "status": "completed"
    },
    "tags": []
   },
   "source": [
    "Save the best trained model and its submission."
   ]
  },
  {
   "cell_type": "code",
   "execution_count": 20,
   "id": "b99dd47e",
   "metadata": {
    "execution": {
     "iopub.execute_input": "2025-01-05T21:01:33.316727Z",
     "iopub.status.busy": "2025-01-05T21:01:33.316272Z",
     "iopub.status.idle": "2025-01-05T21:01:34.954418Z",
     "shell.execute_reply": "2025-01-05T21:01:34.953056Z"
    },
    "papermill": {
     "duration": 1.749605,
     "end_time": "2025-01-05T21:01:34.956600",
     "exception": false,
     "start_time": "2025-01-05T21:01:33.206995",
     "status": "completed"
    },
    "tags": []
   },
   "outputs": [
    {
     "name": "stdout",
     "output_type": "stream",
     "text": [
      "File 'TrainedModels/WithKFCV/KNN/UserKNNCFRecommender/OptimizingMAP/Submission/submission_UserKNNCF_MAP.csv' created successfully.\n"
     ]
    }
   ],
   "source": [
    "if config['save_github'] and config['tune_best_params']: \n",
    "    upload_file(\n",
    "                f'/kaggle/working/submission_{config[\"model\"]}_{config[\"metric\"]}.csv', \n",
    "                f'{GH_PATH}/{config[\"model\"]}Recommender/Optimizing{config[\"metric\"]}/Submission/submission_{config[\"model\"]}_{config[\"metric\"]}.csv', \n",
    "                f'New {config[\"model\"]}_{config[\"metric\"]} submission (from kaggle notebook)',\n",
    "                repo\n",
    "            )"
   ]
  }
 ],
 "metadata": {
  "kaggle": {
   "accelerator": "none",
   "dataSources": [],
   "isGpuEnabled": false,
   "isInternetEnabled": true,
   "language": "python",
   "sourceType": "notebook"
  },
  "kernelspec": {
   "display_name": "Python 3",
   "language": "python",
   "name": "python3"
  },
  "language_info": {
   "codemirror_mode": {
    "name": "ipython",
    "version": 3
   },
   "file_extension": ".py",
   "mimetype": "text/x-python",
   "name": "python",
   "nbconvert_exporter": "python",
   "pygments_lexer": "ipython3",
   "version": "3.10.12"
  },
  "papermill": {
   "default_parameters": {},
   "duration": 34100.769417,
   "end_time": "2025-01-05T21:01:38.474999",
   "environment_variables": {},
   "exception": null,
   "input_path": "__notebook__.ipynb",
   "output_path": "__notebook__.ipynb",
   "parameters": {},
   "start_time": "2025-01-05T11:33:17.705582",
   "version": "2.6.0"
  }
 },
 "nbformat": 4,
 "nbformat_minor": 5
}
