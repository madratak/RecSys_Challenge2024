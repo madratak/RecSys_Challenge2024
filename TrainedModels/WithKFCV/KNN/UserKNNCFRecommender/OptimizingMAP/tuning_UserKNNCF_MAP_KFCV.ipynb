{
 "cells": [
  {
   "cell_type": "markdown",
   "id": "6d717ab5",
   "metadata": {
    "papermill": {
     "duration": 0.00612,
     "end_time": "2025-01-06T13:21:18.181002",
     "exception": false,
     "start_time": "2025-01-06T13:21:18.174882",
     "status": "completed"
    },
    "tags": []
   },
   "source": [
    "# Set connection with GitHub"
   ]
  },
  {
   "cell_type": "code",
   "execution_count": 1,
   "id": "0e18911d",
   "metadata": {
    "_cell_guid": "b1076dfc-b9ad-4769-8c92-a6c4dae69d19",
    "_uuid": "8f2839f25d086af736a60e9eeb907d3b93b6e0e5",
    "execution": {
     "iopub.execute_input": "2025-01-06T13:21:18.193120Z",
     "iopub.status.busy": "2025-01-06T13:21:18.192642Z",
     "iopub.status.idle": "2025-01-06T13:21:18.198886Z",
     "shell.execute_reply": "2025-01-06T13:21:18.197594Z"
    },
    "papermill": {
     "duration": 0.014575,
     "end_time": "2025-01-06T13:21:18.200834",
     "exception": false,
     "start_time": "2025-01-06T13:21:18.186259",
     "status": "completed"
    },
    "tags": []
   },
   "outputs": [],
   "source": [
    "# ! cd /kaggle/working && rm -rf RECsys_Challenge2024"
   ]
  },
  {
   "cell_type": "code",
   "execution_count": 2,
   "id": "7dbca07d",
   "metadata": {
    "execution": {
     "iopub.execute_input": "2025-01-06T13:21:18.212396Z",
     "iopub.status.busy": "2025-01-06T13:21:18.212019Z",
     "iopub.status.idle": "2025-01-06T13:21:34.972200Z",
     "shell.execute_reply": "2025-01-06T13:21:34.970437Z"
    },
    "papermill": {
     "duration": 16.768539,
     "end_time": "2025-01-06T13:21:34.974591",
     "exception": false,
     "start_time": "2025-01-06T13:21:18.206052",
     "status": "completed"
    },
    "tags": []
   },
   "outputs": [
    {
     "name": "stdout",
     "output_type": "stream",
     "text": [
      "Cloning into 'RECsys_Challenge2024'...\r\n",
      "remote: Enumerating objects: 6882, done.\u001b[K\r\n",
      "remote: Counting objects: 100% (60/60), done.\u001b[K\r\n",
      "remote: Compressing objects: 100% (50/50), done.\u001b[K\r\n",
      "remote: Total 6882 (delta 18), reused 0 (delta 0), pack-reused 6822 (from 3)\u001b[K\r\n",
      "Receiving objects: 100% (6882/6882), 412.47 MiB | 35.39 MiB/s, done.\r\n",
      "Resolving deltas: 100% (3749/3749), done.\r\n",
      "Updating files: 100% (506/506), done.\r\n"
     ]
    }
   ],
   "source": [
    "from kaggle_secrets import UserSecretsClient\n",
    "\n",
    "token = UserSecretsClient().get_secret(\"Token\")\n",
    "\n",
    "! git clone https://{token}@github.com/madratak/RECsys_Challenge2024.git"
   ]
  },
  {
   "cell_type": "code",
   "execution_count": 3,
   "id": "44927a60",
   "metadata": {
    "execution": {
     "iopub.execute_input": "2025-01-06T13:21:34.998007Z",
     "iopub.status.busy": "2025-01-06T13:21:34.997607Z",
     "iopub.status.idle": "2025-01-06T13:21:42.419780Z",
     "shell.execute_reply": "2025-01-06T13:21:42.417923Z"
    },
    "papermill": {
     "duration": 7.4368,
     "end_time": "2025-01-06T13:21:42.422412",
     "exception": false,
     "start_time": "2025-01-06T13:21:34.985612",
     "status": "completed"
    },
    "tags": []
   },
   "outputs": [
    {
     "name": "stdout",
     "output_type": "stream",
     "text": [
      "Collecting PyGithub\r\n",
      "  Downloading PyGithub-2.5.0-py3-none-any.whl.metadata (3.9 kB)\r\n",
      "Requirement already satisfied: requests in /usr/local/lib/python3.10/dist-packages (2.32.3)\r\n",
      "Collecting pynacl>=1.4.0 (from PyGithub)\r\n",
      "  Downloading PyNaCl-1.5.0-cp36-abi3-manylinux_2_17_x86_64.manylinux2014_x86_64.manylinux_2_24_x86_64.whl.metadata (8.6 kB)\r\n",
      "Requirement already satisfied: pyjwt>=2.4.0 in /usr/local/lib/python3.10/dist-packages (from pyjwt[crypto]>=2.4.0->PyGithub) (2.9.0)\r\n",
      "Requirement already satisfied: typing-extensions>=4.0.0 in /usr/local/lib/python3.10/dist-packages (from PyGithub) (4.12.2)\r\n",
      "Requirement already satisfied: urllib3>=1.26.0 in /usr/local/lib/python3.10/dist-packages (from PyGithub) (2.2.3)\r\n",
      "Requirement already satisfied: Deprecated in /usr/local/lib/python3.10/dist-packages (from PyGithub) (1.2.15)\r\n",
      "Requirement already satisfied: charset-normalizer<4,>=2 in /usr/local/lib/python3.10/dist-packages (from requests) (3.3.2)\r\n",
      "Requirement already satisfied: idna<4,>=2.5 in /usr/local/lib/python3.10/dist-packages (from requests) (3.10)\r\n",
      "Requirement already satisfied: certifi>=2017.4.17 in /usr/local/lib/python3.10/dist-packages (from requests) (2024.8.30)\r\n",
      "Requirement already satisfied: cryptography>=3.4.0 in /usr/local/lib/python3.10/dist-packages (from pyjwt[crypto]>=2.4.0->PyGithub) (43.0.1)\r\n",
      "Requirement already satisfied: cffi>=1.4.1 in /usr/local/lib/python3.10/dist-packages (from pynacl>=1.4.0->PyGithub) (1.17.1)\r\n",
      "Requirement already satisfied: wrapt<2,>=1.10 in /usr/local/lib/python3.10/dist-packages (from Deprecated->PyGithub) (1.16.0)\r\n",
      "Requirement already satisfied: pycparser in /usr/local/lib/python3.10/dist-packages (from cffi>=1.4.1->pynacl>=1.4.0->PyGithub) (2.22)\r\n",
      "Downloading PyGithub-2.5.0-py3-none-any.whl (375 kB)\r\n",
      "\u001b[2K   \u001b[90m━━━━━━━━━━━━━━━━━━━━━━━━━━━━━━━━━━━━━━━━\u001b[0m \u001b[32m375.9/375.9 kB\u001b[0m \u001b[31m7.1 MB/s\u001b[0m eta \u001b[36m0:00:00\u001b[0m\r\n",
      "\u001b[?25hDownloading PyNaCl-1.5.0-cp36-abi3-manylinux_2_17_x86_64.manylinux2014_x86_64.manylinux_2_24_x86_64.whl (856 kB)\r\n",
      "\u001b[2K   \u001b[90m━━━━━━━━━━━━━━━━━━━━━━━━━━━━━━━━━━━━━━━━\u001b[0m \u001b[32m856.7/856.7 kB\u001b[0m \u001b[31m23.0 MB/s\u001b[0m eta \u001b[36m0:00:00\u001b[0m\r\n",
      "\u001b[?25hInstalling collected packages: pynacl, PyGithub\r\n",
      "Successfully installed PyGithub-2.5.0 pynacl-1.5.0\r\n"
     ]
    }
   ],
   "source": [
    "! pip install PyGithub requests"
   ]
  },
  {
   "cell_type": "code",
   "execution_count": 4,
   "id": "9d98a709",
   "metadata": {
    "execution": {
     "iopub.execute_input": "2025-01-06T13:21:42.447454Z",
     "iopub.status.busy": "2025-01-06T13:21:42.446990Z",
     "iopub.status.idle": "2025-01-06T13:24:40.862732Z",
     "shell.execute_reply": "2025-01-06T13:24:40.861300Z"
    },
    "papermill": {
     "duration": 178.430712,
     "end_time": "2025-01-06T13:24:40.865021",
     "exception": false,
     "start_time": "2025-01-06T13:21:42.434309",
     "status": "completed"
    },
    "tags": []
   },
   "outputs": [
    {
     "name": "stdout",
     "output_type": "stream",
     "text": [
      "/kaggle/working/RECsys_Challenge2024\n",
      "run_compile_all_cython: Found 11 Cython files in 5 folders...\r\n",
      "run_compile_all_cython: All files will be compiled using your current python environment: '/usr/bin/python3'\r\n",
      "Compiling [1/11]: MatrixFactorization_Cython_Epoch.pyx... \r\n",
      "In file included from \u001b[01m\u001b[K/usr/local/lib/python3.10/dist-packages/numpy/core/include/numpy/ndarraytypes.h:1929\u001b[m\u001b[K,\r\n",
      "                 from \u001b[01m\u001b[K/usr/local/lib/python3.10/dist-packages/numpy/core/include/numpy/ndarrayobject.h:12\u001b[m\u001b[K,\r\n",
      "                 from \u001b[01m\u001b[K/usr/local/lib/python3.10/dist-packages/numpy/core/include/numpy/arrayobject.h:5\u001b[m\u001b[K,\r\n",
      "                 from \u001b[01m\u001b[KMatrixFactorization_Cython_Epoch.c:1252\u001b[m\u001b[K:\r\n",
      "\u001b[01m\u001b[K/usr/local/lib/python3.10/dist-packages/numpy/core/include/numpy/npy_1_7_deprecated_api.h:17:2:\u001b[m\u001b[K \u001b[01;35m\u001b[Kwarning: \u001b[m\u001b[K#warning \"Using deprecated NumPy API, disable it with \" \"#define NPY_NO_DEPRECATED_API NPY_1_7_API_VERSION\" [\u001b[01;35m\u001b[K\u001b]8;;https://gcc.gnu.org/onlinedocs/gcc/Warning-Options.html#index-Wcpp\u0007-Wcpp\u001b]8;;\u0007\u001b[m\u001b[K]\r\n",
      "   17 | #\u001b[01;35m\u001b[Kwarning\u001b[m\u001b[K \"Using deprecated NumPy API, disable it with \" \\\r\n",
      "      |  \u001b[01;35m\u001b[K^~~~~~~\u001b[m\u001b[K\r\n",
      "\u001b[01m\u001b[KMatrixFactorization_Cython_Epoch.c:\u001b[m\u001b[K In function ‘\u001b[01m\u001b[K__pyx_pf_32MatrixFactorization_Cython_Epoch_32MatrixFactorization_Cython_Epoch_10epochIteration_Cython_ASY_SVD_SGD\u001b[m\u001b[K’:\r\n",
      "\u001b[01m\u001b[KMatrixFactorization_Cython_Epoch.c:26256:68:\u001b[m\u001b[K \u001b[01;35m\u001b[Kwarning: \u001b[m\u001b[K‘\u001b[01m\u001b[K__pyx_v_end_pos_seen_items\u001b[m\u001b[K’ may be used uninitialized in this function [\u001b[01;35m\u001b[K\u001b]8;;https://gcc.gnu.org/onlinedocs/gcc/Warning-Options.html#index-Wmaybe-uninitialized\u0007-Wmaybe-uninitialized\u001b]8;;\u0007\u001b[m\u001b[K]\r\n",
      "26256 |         for (__pyx_t_22 = __pyx_v_start_pos_seen_items; \u001b[01;35m\u001b[K__pyx_t_22 < __pyx_t_21\u001b[m\u001b[K; __pyx_t_22+=1) {\r\n",
      "      |                                                         \u001b[01;35m\u001b[K~~~~~~~~~~~^~~~~~~~~~~~\u001b[m\u001b[K\r\n",
      "\u001b[01m\u001b[KMatrixFactorization_Cython_Epoch.c:26256:68:\u001b[m\u001b[K \u001b[01;35m\u001b[Kwarning: \u001b[m\u001b[K‘\u001b[01m\u001b[K__pyx_v_start_pos_seen_items\u001b[m\u001b[K’ may be used uninitialized in this function [\u001b[01;35m\u001b[K\u001b]8;;https://gcc.gnu.org/onlinedocs/gcc/Warning-Options.html#index-Wmaybe-uninitialized\u0007-Wmaybe-uninitialized\u001b]8;;\u0007\u001b[m\u001b[K]\r\n",
      "/usr/local/lib/python3.10/dist-packages/Cython/Compiler/Main.py:381: FutureWarning: Cython directive 'language_level' not set, using '3str' for now (Py3). This has changed from earlier releases! File: /kaggle/working/RECsys_Challenge2024/Recommenders/MatrixFactorization/Cython/MatrixFactorization_Cython_Epoch.pyx\r\n",
      "  tree = Parsing.p_module(s, pxd, full_module_name)\r\n",
      "Compiling [1/11]: MatrixFactorization_Cython_Epoch.pyx... PASS\r\n",
      "\r\n",
      "Compiling [2/11]: MatrixFactorizationImpressions_Cython_Epoch.pyx... \r\n",
      "In file included from \u001b[01m\u001b[K/usr/local/lib/python3.10/dist-packages/numpy/core/include/numpy/ndarraytypes.h:1929\u001b[m\u001b[K,\r\n",
      "                 from \u001b[01m\u001b[K/usr/local/lib/python3.10/dist-packages/numpy/core/include/numpy/ndarrayobject.h:12\u001b[m\u001b[K,\r\n",
      "                 from \u001b[01m\u001b[K/usr/local/lib/python3.10/dist-packages/numpy/core/include/numpy/arrayobject.h:5\u001b[m\u001b[K,\r\n",
      "                 from \u001b[01m\u001b[KMatrixFactorizationImpressions_Cython_Epoch.c:1252\u001b[m\u001b[K:\r\n",
      "\u001b[01m\u001b[K/usr/local/lib/python3.10/dist-packages/numpy/core/include/numpy/npy_1_7_deprecated_api.h:17:2:\u001b[m\u001b[K \u001b[01;35m\u001b[Kwarning: \u001b[m\u001b[K#warning \"Using deprecated NumPy API, disable it with \" \"#define NPY_NO_DEPRECATED_API NPY_1_7_API_VERSION\" [\u001b[01;35m\u001b[K\u001b]8;;https://gcc.gnu.org/onlinedocs/gcc/Warning-Options.html#index-Wcpp\u0007-Wcpp\u001b]8;;\u0007\u001b[m\u001b[K]\r\n",
      "   17 | #\u001b[01;35m\u001b[Kwarning\u001b[m\u001b[K \"Using deprecated NumPy API, disable it with \" \\\r\n",
      "      |  \u001b[01;35m\u001b[K^~~~~~~\u001b[m\u001b[K\r\n",
      "\u001b[01m\u001b[KMatrixFactorizationImpressions_Cython_Epoch.c:\u001b[m\u001b[K In function ‘\u001b[01m\u001b[K__pyx_f_43MatrixFactorizationImpressions_Cython_Epoch_32MatrixFactorization_Cython_Epoch_sampleBPR_Cython\u001b[m\u001b[K’:\r\n",
      "\u001b[01m\u001b[KMatrixFactorizationImpressions_Cython_Epoch.c:30353:17:\u001b[m\u001b[K \u001b[01;35m\u001b[Kwarning: \u001b[m\u001b[K‘\u001b[01m\u001b[K__pyx_v_start_pos_impression_items\u001b[m\u001b[K’ may be used uninitialized in this function [\u001b[01;35m\u001b[K\u001b]8;;https://gcc.gnu.org/onlinedocs/gcc/Warning-Options.html#index-Wmaybe-uninitialized\u0007-Wmaybe-uninitialized\u001b]8;;\u0007\u001b[m\u001b[K]\r\n",
      "30353 |       \u001b[01;35m\u001b[K__pyx_t_4 = (__pyx_v_start_pos_impression_items + __pyx_v_index)\u001b[m\u001b[K;\r\n",
      "      |       \u001b[01;35m\u001b[K~~~~~~~~~~^~~~~~~~~~~~~~~~~~~~~~~~~~~~~~~~~~~~~~~~~~~~~~~~~~~~~~\u001b[m\u001b[K\r\n",
      "\u001b[01m\u001b[KMatrixFactorizationImpressions_Cython_Epoch.c:\u001b[m\u001b[K In function ‘\u001b[01m\u001b[K__pyx_pf_43MatrixFactorizationImpressions_Cython_Epoch_32MatrixFactorization_Cython_Epoch_10epochIteration_Cython_ASY_SVD_SGD\u001b[m\u001b[K’:\r\n",
      "\u001b[01m\u001b[KMatrixFactorizationImpressions_Cython_Epoch.c:26112:66:\u001b[m\u001b[K \u001b[01;35m\u001b[Kwarning: \u001b[m\u001b[K‘\u001b[01m\u001b[K__pyx_v_end_pos_seen_items\u001b[m\u001b[K’ may be used uninitialized in this function [\u001b[01;35m\u001b[K\u001b]8;;https://gcc.gnu.org/onlinedocs/gcc/Warning-Options.html#index-Wmaybe-uninitialized\u0007-Wmaybe-uninitialized\u001b]8;;\u0007\u001b[m\u001b[K]\r\n",
      "26112 |       for (__pyx_t_22 = __pyx_v_start_pos_seen_items; \u001b[01;35m\u001b[K__pyx_t_22 < __pyx_t_21\u001b[m\u001b[K; __pyx_t_22+=1) {\r\n",
      "      |                                                       \u001b[01;35m\u001b[K~~~~~~~~~~~^~~~~~~~~~~~\u001b[m\u001b[K\r\n",
      "\u001b[01m\u001b[KMatrixFactorizationImpressions_Cython_Epoch.c:26112:66:\u001b[m\u001b[K \u001b[01;35m\u001b[Kwarning: \u001b[m\u001b[K‘\u001b[01m\u001b[K__pyx_v_start_pos_seen_items\u001b[m\u001b[K’ may be used uninitialized in this function [\u001b[01;35m\u001b[K\u001b]8;;https://gcc.gnu.org/onlinedocs/gcc/Warning-Options.html#index-Wmaybe-uninitialized\u0007-Wmaybe-uninitialized\u001b]8;;\u0007\u001b[m\u001b[K]\r\n",
      "/usr/local/lib/python3.10/dist-packages/Cython/Compiler/Main.py:381: FutureWarning: Cython directive 'language_level' not set, using '3str' for now (Py3). This has changed from earlier releases! File: /kaggle/working/RECsys_Challenge2024/Recommenders/MatrixFactorization/Cython/MatrixFactorizationImpressions_Cython_Epoch.pyx\r\n",
      "  tree = Parsing.p_module(s, pxd, full_module_name)\r\n",
      "Compiling [2/11]: MatrixFactorizationImpressions_Cython_Epoch.pyx... PASS\r\n",
      "\r\n",
      "Compiling [3/11]: Compute_Similarity_Cython.pyx... \r\n",
      "warning: Compute_Similarity_Cython.pyx:21:0: The 'IF' statement is deprecated and will be removed in a future Cython version. Consider using runtime conditions or C macros instead. See https://github.com/cython/cython/issues/4310\r\n",
      "In file included from \u001b[01m\u001b[K/usr/local/lib/python3.10/dist-packages/numpy/core/include/numpy/ndarraytypes.h:1929\u001b[m\u001b[K,\r\n",
      "                 from \u001b[01m\u001b[K/usr/local/lib/python3.10/dist-packages/numpy/core/include/numpy/ndarrayobject.h:12\u001b[m\u001b[K,\r\n",
      "                 from \u001b[01m\u001b[K/usr/local/lib/python3.10/dist-packages/numpy/core/include/numpy/arrayobject.h:5\u001b[m\u001b[K,\r\n",
      "                 from \u001b[01m\u001b[KCompute_Similarity_Cython.c:1252\u001b[m\u001b[K:\r\n",
      "\u001b[01m\u001b[K/usr/local/lib/python3.10/dist-packages/numpy/core/include/numpy/npy_1_7_deprecated_api.h:17:2:\u001b[m\u001b[K \u001b[01;35m\u001b[Kwarning: \u001b[m\u001b[K#warning \"Using deprecated NumPy API, disable it with \" \"#define NPY_NO_DEPRECATED_API NPY_1_7_API_VERSION\" [\u001b[01;35m\u001b[K\u001b]8;;https://gcc.gnu.org/onlinedocs/gcc/Warning-Options.html#index-Wcpp\u0007-Wcpp\u001b]8;;\u0007\u001b[m\u001b[K]\r\n",
      "   17 | #\u001b[01;35m\u001b[Kwarning\u001b[m\u001b[K \"Using deprecated NumPy API, disable it with \" \\\r\n",
      "      |  \u001b[01;35m\u001b[K^~~~~~~\u001b[m\u001b[K\r\n",
      "/usr/local/lib/python3.10/dist-packages/Cython/Compiler/Main.py:381: FutureWarning: Cython directive 'language_level' not set, using '3str' for now (Py3). This has changed from earlier releases! File: /kaggle/working/RECsys_Challenge2024/Recommenders/Similarity/Cython/Compute_Similarity_Cython.pyx\r\n",
      "  tree = Parsing.p_module(s, pxd, full_module_name)\r\n",
      "warning: Compute_Similarity_Cython.pyx:21:0: The 'IF' statement is deprecated and will be removed in a future Cython version. Consider using runtime conditions or C macros instead. See https://github.com/cython/cython/issues/4310\r\n",
      "Compiling [3/11]: Compute_Similarity_Cython.pyx... PASS\r\n",
      "\r\n",
      "Compiling [4/11]: Sparse_Matrix_Tree_CSR.pyx... \r\n",
      "warning: Sparse_Matrix_Tree_CSR.pyx:132:34: Non-trivial type declarators in shared declaration (e.g. mix of pointers and values). Each pointer declaration should be on its own line.\r\n",
      "warning: Sparse_Matrix_Tree_CSR.pyx:132:66: Non-trivial type declarators in shared declaration (e.g. mix of pointers and values). Each pointer declaration should be on its own line.\r\n",
      "warning: Sparse_Matrix_Tree_CSR.pyx:343:35: Non-trivial type declarators in shared declaration (e.g. mix of pointers and values). Each pointer declaration should be on its own line.\r\n",
      "warning: Sparse_Matrix_Tree_CSR.pyx:343:52: Non-trivial type declarators in shared declaration (e.g. mix of pointers and values). Each pointer declaration should be on its own line.\r\n",
      "warning: Sparse_Matrix_Tree_CSR.pyx:442:35: Non-trivial type declarators in shared declaration (e.g. mix of pointers and values). Each pointer declaration should be on its own line.\r\n",
      "warning: Sparse_Matrix_Tree_CSR.pyx:442:53: Non-trivial type declarators in shared declaration (e.g. mix of pointers and values). Each pointer declaration should be on its own line.\r\n",
      "warning: Sparse_Matrix_Tree_CSR.pyx:442:69: Non-trivial type declarators in shared declaration (e.g. mix of pointers and values). Each pointer declaration should be on its own line.\r\n",
      "warning: Sparse_Matrix_Tree_CSR.pyx:577:35: Non-trivial type declarators in shared declaration (e.g. mix of pointers and values). Each pointer declaration should be on its own line.\r\n",
      "warning: Sparse_Matrix_Tree_CSR.pyx:577:42: Non-trivial type declarators in shared declaration (e.g. mix of pointers and values). Each pointer declaration should be on its own line.\r\n",
      "warning: Sparse_Matrix_Tree_CSR.pyx:578:35: Non-trivial type declarators in shared declaration (e.g. mix of pointers and values). Each pointer declaration should be on its own line.\r\n",
      "warning: Sparse_Matrix_Tree_CSR.pyx:578:53: Non-trivial type declarators in shared declaration (e.g. mix of pointers and values). Each pointer declaration should be on its own line.\r\n",
      "\r\n",
      "Error compiling Cython file:\r\n",
      "------------------------------------------------------------\r\n",
      "...\r\n",
      "            vector_pointer_to_list_elements[index].head = current_element\r\n",
      "            current_element = current_element.higher\r\n",
      "\r\n",
      "\r\n",
      "        # Sort array elements on their data field\r\n",
      "        qsort(vector_pointer_to_list_elements, list_length, sizeof(head_pointer_tree_s), compare_struct_on_data)\r\n",
      "                                                                                         ^\r\n",
      "------------------------------------------------------------\r\n",
      "\r\n",
      "Sparse_Matrix_Tree_CSR.pyx:516:89: Cannot assign type 'int (const void *, const void *) except? -1' to 'int (*)(const_void *, const_void *) noexcept'. Exception values are incompatible. Suggest adding 'noexcept' to the type of 'compare_struct_on_data'.\r\n",
      "\r\n",
      "Error compiling Cython file:\r\n",
      "------------------------------------------------------------\r\n",
      "...\r\n",
      "        # Sort array elements on their data field\r\n",
      "        qsort(vector_pointer_to_list_elements, list_length, sizeof(head_pointer_tree_s), compare_struct_on_data)\r\n",
      "\r\n",
      "        # Sort only the TopK according to their column field\r\n",
      "        # Sort is from lower to higher, therefore the elements to be considered are from len-topK to len\r\n",
      "        qsort(&vector_pointer_to_list_elements[list_length-TopK], TopK, sizeof(head_pointer_tree_s), compare_struct_on_column)\r\n",
      "                                                                                                     ^\r\n",
      "------------------------------------------------------------\r\n",
      "\r\n",
      "Sparse_Matrix_Tree_CSR.pyx:520:101: Cannot assign type 'int (const void *, const void *) except? -1' to 'int (*)(const_void *, const_void *) noexcept'. Exception values are incompatible. Suggest adding 'noexcept' to the type of 'compare_struct_on_column'.\r\n",
      "Traceback (most recent call last):\r\n",
      "  File \"/kaggle/working/RECsys_Challenge2024/CythonCompiler/compile_script.py\", line 48, in <module>\r\n",
      "    setup(\r\n",
      "  File \"/usr/local/lib/python3.10/dist-packages/setuptools/__init__.py\", line 108, in setup\r\n",
      "    return distutils.core.setup(**attrs)\r\n",
      "  File \"/usr/local/lib/python3.10/dist-packages/setuptools/_distutils/core.py\", line 184, in setup\r\n",
      "    return run_commands(dist)\r\n",
      "  File \"/usr/local/lib/python3.10/dist-packages/setuptools/_distutils/core.py\", line 200, in run_commands\r\n",
      "    dist.run_commands()\r\n",
      "  File \"/usr/local/lib/python3.10/dist-packages/setuptools/_distutils/dist.py\", line 970, in run_commands\r\n",
      "    self.run_command(cmd)\r\n",
      "  File \"/usr/local/lib/python3.10/dist-packages/setuptools/dist.py\", line 956, in run_command\r\n",
      "    super().run_command(command)\r\n",
      "  File \"/usr/local/lib/python3.10/dist-packages/setuptools/_distutils/dist.py\", line 989, in run_command\r\n",
      "    cmd_obj.run()\r\n",
      "  File \"/usr/local/lib/python3.10/dist-packages/setuptools/_distutils/command/build_ext.py\", line 359, in run\r\n",
      "    self.build_extensions()\r\n",
      "  File \"/usr/local/lib/python3.10/dist-packages/setuptools/_distutils/command/build_ext.py\", line 479, in build_extensions\r\n",
      "    self._build_extensions_serial()\r\n",
      "  File \"/usr/local/lib/python3.10/dist-packages/setuptools/_distutils/command/build_ext.py\", line 505, in _build_extensions_serial\r\n",
      "    self.build_extension(ext)\r\n",
      "  File \"/usr/local/lib/python3.10/dist-packages/Cython/Distutils/build_ext.py\", line 130, in build_extension\r\n",
      "    new_ext = cythonize(\r\n",
      "  File \"/usr/local/lib/python3.10/dist-packages/Cython/Build/Dependencies.py\", line 1154, in cythonize\r\n",
      "    cythonize_one(*args)\r\n",
      "  File \"/usr/local/lib/python3.10/dist-packages/Cython/Build/Dependencies.py\", line 1321, in cythonize_one\r\n",
      "    raise CompileError(None, pyx_file)\r\n",
      "Cython.Compiler.Errors.CompileError: Sparse_Matrix_Tree_CSR.pyx\r\n",
      "Traceback (most recent call last):\r\n",
      "  File \"/kaggle/working/RECsys_Challenge2024/run_compile_all_cython.py\", line 60, in <module>\r\n",
      "    run_compile_subprocess(file_path, [file_name])\r\n",
      "  File \"/kaggle/working/RECsys_Challenge2024/CythonCompiler/run_compile_subprocess.py\", line 51, in run_compile_subprocess\r\n",
      "    raise exc\r\n",
      "  File \"/kaggle/working/RECsys_Challenge2024/CythonCompiler/run_compile_subprocess.py\", line 32, in run_compile_subprocess\r\n",
      "    output = subprocess.check_output(' '.join(command),\r\n",
      "  File \"/usr/lib/python3.10/subprocess.py\", line 421, in check_output\r\n",
      "    return run(*popenargs, stdout=PIPE, timeout=timeout, check=True,\r\n",
      "  File \"/usr/lib/python3.10/subprocess.py\", line 526, in run\r\n",
      "    raise CalledProcessError(retcode, process.args,\r\n",
      "subprocess.CalledProcessError: Command '/usr/bin/python3 /kaggle/working/RECsys_Challenge2024/CythonCompiler/compile_script.py Sparse_Matrix_Tree_CSR.pyx build_ext --inplace' returned non-zero exit status 1.\r\n",
      "Compiling [4/11]: Sparse_Matrix_Tree_CSR.pyx... FAIL: Command '/usr/bin/python3 /kaggle/working/RECsys_Challenge2024/CythonCompiler/compile_script.py Sparse_Matrix_Tree_CSR.pyx build_ext --inplace' returned non-zero exit status 1.\r\n",
      "\r\n",
      "Compiling [5/11]: SLIM_BPR_Cython_Epoch.pyx... \r\n",
      "warning: SLIM_BPR_Cython_Epoch.pyx:24:0: The 'IF' statement is deprecated and will be removed in a future Cython version. Consider using runtime conditions or C macros instead. See https://github.com/cython/cython/issues/4310\r\n",
      "warning: SLIM_BPR_Cython_Epoch.pyx:632:34: Non-trivial type declarators in shared declaration (e.g. mix of pointers and values). Each pointer declaration should be on its own line.\r\n",
      "warning: SLIM_BPR_Cython_Epoch.pyx:632:66: Non-trivial type declarators in shared declaration (e.g. mix of pointers and values). Each pointer declaration should be on its own line.\r\n",
      "warning: SLIM_BPR_Cython_Epoch.pyx:817:35: Non-trivial type declarators in shared declaration (e.g. mix of pointers and values). Each pointer declaration should be on its own line.\r\n",
      "warning: SLIM_BPR_Cython_Epoch.pyx:817:52: Non-trivial type declarators in shared declaration (e.g. mix of pointers and values). Each pointer declaration should be on its own line.\r\n",
      "warning: SLIM_BPR_Cython_Epoch.pyx:916:35: Non-trivial type declarators in shared declaration (e.g. mix of pointers and values). Each pointer declaration should be on its own line.\r\n",
      "warning: SLIM_BPR_Cython_Epoch.pyx:916:53: Non-trivial type declarators in shared declaration (e.g. mix of pointers and values). Each pointer declaration should be on its own line.\r\n",
      "warning: SLIM_BPR_Cython_Epoch.pyx:916:69: Non-trivial type declarators in shared declaration (e.g. mix of pointers and values). Each pointer declaration should be on its own line.\r\n",
      "warning: SLIM_BPR_Cython_Epoch.pyx:1051:35: Non-trivial type declarators in shared declaration (e.g. mix of pointers and values). Each pointer declaration should be on its own line.\r\n",
      "warning: SLIM_BPR_Cython_Epoch.pyx:1051:42: Non-trivial type declarators in shared declaration (e.g. mix of pointers and values). Each pointer declaration should be on its own line.\r\n",
      "warning: SLIM_BPR_Cython_Epoch.pyx:1052:35: Non-trivial type declarators in shared declaration (e.g. mix of pointers and values). Each pointer declaration should be on its own line.\r\n",
      "warning: SLIM_BPR_Cython_Epoch.pyx:1052:53: Non-trivial type declarators in shared declaration (e.g. mix of pointers and values). Each pointer declaration should be on its own line.\r\n",
      "\r\n",
      "Error compiling Cython file:\r\n",
      "------------------------------------------------------------\r\n",
      "...\r\n",
      "            vector_pointer_to_list_elements[index].head = current_element\r\n",
      "            current_element = current_element.higher\r\n",
      "\r\n",
      "\r\n",
      "        # Sort array elements on their data field\r\n",
      "        qsort(vector_pointer_to_list_elements, list_length, sizeof(head_pointer_tree_s), compare_struct_on_data)\r\n",
      "                                                                                         ^\r\n",
      "------------------------------------------------------------\r\n",
      "\r\n",
      "SLIM_BPR_Cython_Epoch.pyx:990:89: Cannot assign type 'int (const void *, const void *) except? -1' to 'int (*)(const_void *, const_void *) noexcept'. Exception values are incompatible. Suggest adding 'noexcept' to the type of 'compare_struct_on_data'.\r\n",
      "\r\n",
      "Error compiling Cython file:\r\n",
      "------------------------------------------------------------\r\n",
      "...\r\n",
      "        # Sort array elements on their data field\r\n",
      "        qsort(vector_pointer_to_list_elements, list_length, sizeof(head_pointer_tree_s), compare_struct_on_data)\r\n",
      "\r\n",
      "        # Sort only the TopK according to their column field\r\n",
      "        # Sort is from lower to higher, therefore the elements to be considered are from len-topK to len\r\n",
      "        qsort(&vector_pointer_to_list_elements[list_length-TopK], TopK, sizeof(head_pointer_tree_s), compare_struct_on_column)\r\n",
      "                                                                                                     ^\r\n",
      "------------------------------------------------------------\r\n",
      "\r\n",
      "SLIM_BPR_Cython_Epoch.pyx:994:101: Cannot assign type 'int (const void *, const void *) except? -1' to 'int (*)(const_void *, const_void *) noexcept'. Exception values are incompatible. Suggest adding 'noexcept' to the type of 'compare_struct_on_column'.\r\n",
      "Traceback (most recent call last):\r\n",
      "  File \"/kaggle/working/RECsys_Challenge2024/CythonCompiler/compile_script.py\", line 48, in <module>\r\n",
      "    setup(\r\n",
      "  File \"/usr/local/lib/python3.10/dist-packages/setuptools/__init__.py\", line 108, in setup\r\n",
      "    return distutils.core.setup(**attrs)\r\n",
      "  File \"/usr/local/lib/python3.10/dist-packages/setuptools/_distutils/core.py\", line 184, in setup\r\n",
      "    return run_commands(dist)\r\n",
      "  File \"/usr/local/lib/python3.10/dist-packages/setuptools/_distutils/core.py\", line 200, in run_commands\r\n",
      "    dist.run_commands()\r\n",
      "  File \"/usr/local/lib/python3.10/dist-packages/setuptools/_distutils/dist.py\", line 970, in run_commands\r\n",
      "    self.run_command(cmd)\r\n",
      "  File \"/usr/local/lib/python3.10/dist-packages/setuptools/dist.py\", line 956, in run_command\r\n",
      "    super().run_command(command)\r\n",
      "  File \"/usr/local/lib/python3.10/dist-packages/setuptools/_distutils/dist.py\", line 989, in run_command\r\n",
      "    cmd_obj.run()\r\n",
      "  File \"/usr/local/lib/python3.10/dist-packages/setuptools/_distutils/command/build_ext.py\", line 359, in run\r\n",
      "    self.build_extensions()\r\n",
      "  File \"/usr/local/lib/python3.10/dist-packages/setuptools/_distutils/command/build_ext.py\", line 479, in build_extensions\r\n",
      "    self._build_extensions_serial()\r\n",
      "  File \"/usr/local/lib/python3.10/dist-packages/setuptools/_distutils/command/build_ext.py\", line 505, in _build_extensions_serial\r\n",
      "    self.build_extension(ext)\r\n",
      "  File \"/usr/local/lib/python3.10/dist-packages/Cython/Distutils/build_ext.py\", line 130, in build_extension\r\n",
      "    new_ext = cythonize(\r\n",
      "  File \"/usr/local/lib/python3.10/dist-packages/Cython/Build/Dependencies.py\", line 1154, in cythonize\r\n",
      "    cythonize_one(*args)\r\n",
      "  File \"/usr/local/lib/python3.10/dist-packages/Cython/Build/Dependencies.py\", line 1321, in cythonize_one\r\n",
      "    raise CompileError(None, pyx_file)\r\n",
      "Cython.Compiler.Errors.CompileError: SLIM_BPR_Cython_Epoch.pyx\r\n",
      "Traceback (most recent call last):\r\n",
      "  File \"/kaggle/working/RECsys_Challenge2024/run_compile_all_cython.py\", line 60, in <module>\r\n",
      "    run_compile_subprocess(file_path, [file_name])\r\n",
      "  File \"/kaggle/working/RECsys_Challenge2024/CythonCompiler/run_compile_subprocess.py\", line 51, in run_compile_subprocess\r\n",
      "    raise exc\r\n",
      "  File \"/kaggle/working/RECsys_Challenge2024/CythonCompiler/run_compile_subprocess.py\", line 32, in run_compile_subprocess\r\n",
      "    output = subprocess.check_output(' '.join(command),\r\n",
      "  File \"/usr/lib/python3.10/subprocess.py\", line 421, in check_output\r\n",
      "    return run(*popenargs, stdout=PIPE, timeout=timeout, check=True,\r\n",
      "  File \"/usr/lib/python3.10/subprocess.py\", line 526, in run\r\n",
      "    raise CalledProcessError(retcode, process.args,\r\n",
      "subprocess.CalledProcessError: Command '/usr/bin/python3 /kaggle/working/RECsys_Challenge2024/CythonCompiler/compile_script.py SLIM_BPR_Cython_Epoch.pyx build_ext --inplace' returned non-zero exit status 1.\r\n",
      "Compiling [5/11]: SLIM_BPR_Cython_Epoch.pyx... FAIL: Command '/usr/bin/python3 /kaggle/working/RECsys_Challenge2024/CythonCompiler/compile_script.py SLIM_BPR_Cython_Epoch.pyx build_ext --inplace' returned non-zero exit status 1.\r\n",
      "\r\n",
      "Compiling [6/11]: Triangular_Matrix.pyx... \r\n",
      "warning: Triangular_Matrix.pyx:22:0: The 'IF' statement is deprecated and will be removed in a future Cython version. Consider using runtime conditions or C macros instead. See https://github.com/cython/cython/issues/4310\r\n",
      "In file included from \u001b[01m\u001b[K/usr/local/lib/python3.10/dist-packages/numpy/core/include/numpy/ndarraytypes.h:1929\u001b[m\u001b[K,\r\n",
      "                 from \u001b[01m\u001b[K/usr/local/lib/python3.10/dist-packages/numpy/core/include/numpy/ndarrayobject.h:12\u001b[m\u001b[K,\r\n",
      "                 from \u001b[01m\u001b[K/usr/local/lib/python3.10/dist-packages/numpy/core/include/numpy/arrayobject.h:5\u001b[m\u001b[K,\r\n",
      "                 from \u001b[01m\u001b[KTriangular_Matrix.c:1252\u001b[m\u001b[K:\r\n",
      "\u001b[01m\u001b[K/usr/local/lib/python3.10/dist-packages/numpy/core/include/numpy/npy_1_7_deprecated_api.h:17:2:\u001b[m\u001b[K \u001b[01;35m\u001b[Kwarning: \u001b[m\u001b[K#warning \"Using deprecated NumPy API, disable it with \" \"#define NPY_NO_DEPRECATED_API NPY_1_7_API_VERSION\" [\u001b[01;35m\u001b[K\u001b]8;;https://gcc.gnu.org/onlinedocs/gcc/Warning-Options.html#index-Wcpp\u0007-Wcpp\u001b]8;;\u0007\u001b[m\u001b[K]\r\n",
      "   17 | #\u001b[01;35m\u001b[Kwarning\u001b[m\u001b[K \"Using deprecated NumPy API, disable it with \" \\\r\n",
      "      |  \u001b[01;35m\u001b[K^~~~~~~\u001b[m\u001b[K\r\n",
      "In function ‘\u001b[01m\u001b[K__pyx_pf_17Triangular_Matrix_17Triangular_Matrix___init__\u001b[m\u001b[K’,\r\n",
      "    inlined from ‘\u001b[01m\u001b[K__pyx_pw_17Triangular_Matrix_17Triangular_Matrix_1__init__\u001b[m\u001b[K’ at \u001b[01m\u001b[KTriangular_Matrix.c:5541:13\u001b[m\u001b[K:\r\n",
      "\u001b[01m\u001b[KTriangular_Matrix.c:5599:43:\u001b[m\u001b[K \u001b[01;35m\u001b[Kwarning: \u001b[m\u001b[Kargument 1 value ‘\u001b[01m\u001b[K18446744073709551608\u001b[m\u001b[K’ exceeds maximum object size 9223372036854775807 [\u001b[01;35m\u001b[K\u001b]8;;https://gcc.gnu.org/onlinedocs/gcc/Warning-Options.html#index-Walloc-size-larger-than=\u0007-Walloc-size-larger-than=\u001b]8;;\u0007\u001b[m\u001b[K]\r\n",
      " 5599 |   __pyx_v_self->row_pointer = ((double **)\u001b[01;35m\u001b[Kmalloc((__pyx_v_self->num_rows * (sizeof(double *))))\u001b[m\u001b[K);\r\n",
      "      |                                           \u001b[01;35m\u001b[K^~~~~~~~~~~~~~~~~~~~~~~~~~~~~~~~~~~~~~~~~~~~~~~~~~~~~\u001b[m\u001b[K\r\n",
      "In file included from \u001b[01m\u001b[K/usr/include/python3.10/Python.h:34\u001b[m\u001b[K,\r\n",
      "                 from \u001b[01m\u001b[KTriangular_Matrix.c:41\u001b[m\u001b[K:\r\n",
      "\u001b[01m\u001b[KTriangular_Matrix.c:\u001b[m\u001b[K In function ‘\u001b[01m\u001b[K__pyx_pw_17Triangular_Matrix_17Triangular_Matrix_1__init__\u001b[m\u001b[K’:\r\n",
      "\u001b[01m\u001b[K/usr/include/stdlib.h:540:14:\u001b[m\u001b[K \u001b[01;36m\u001b[Knote: \u001b[m\u001b[Kin a call to allocation function ‘\u001b[01m\u001b[Kmalloc\u001b[m\u001b[K’ declared here\r\n",
      "  540 | extern void *\u001b[01;36m\u001b[Kmalloc\u001b[m\u001b[K (size_t __size) __THROW __attribute_malloc__\r\n",
      "      |              \u001b[01;36m\u001b[K^~~~~~\u001b[m\u001b[K\r\n",
      "/usr/local/lib/python3.10/dist-packages/Cython/Compiler/Main.py:381: FutureWarning: Cython directive 'language_level' not set, using '3str' for now (Py3). This has changed from earlier releases! File: /kaggle/working/RECsys_Challenge2024/Recommenders/SLIM/Cython/Triangular_Matrix.pyx\r\n",
      "  tree = Parsing.p_module(s, pxd, full_module_name)\r\n",
      "warning: Triangular_Matrix.pyx:22:0: The 'IF' statement is deprecated and will be removed in a future Cython version. Consider using runtime conditions or C macros instead. See https://github.com/cython/cython/issues/4310\r\n",
      "Compiling [6/11]: Triangular_Matrix.pyx... PASS\r\n",
      "\r\n",
      "Compiling [7/11]: CFW_DVV_Similarity_Cython_SGD.pyx... \r\n",
      "In file included from \u001b[01m\u001b[K/usr/local/lib/python3.10/dist-packages/numpy/core/include/numpy/ndarraytypes.h:1929\u001b[m\u001b[K,\r\n",
      "                 from \u001b[01m\u001b[K/usr/local/lib/python3.10/dist-packages/numpy/core/include/numpy/ndarrayobject.h:12\u001b[m\u001b[K,\r\n",
      "                 from \u001b[01m\u001b[K/usr/local/lib/python3.10/dist-packages/numpy/core/include/numpy/arrayobject.h:5\u001b[m\u001b[K,\r\n",
      "                 from \u001b[01m\u001b[KCFW_DVV_Similarity_Cython_SGD.c:1252\u001b[m\u001b[K:\r\n",
      "\u001b[01m\u001b[K/usr/local/lib/python3.10/dist-packages/numpy/core/include/numpy/npy_1_7_deprecated_api.h:17:2:\u001b[m\u001b[K \u001b[01;35m\u001b[Kwarning: \u001b[m\u001b[K#warning \"Using deprecated NumPy API, disable it with \" \"#define NPY_NO_DEPRECATED_API NPY_1_7_API_VERSION\" [\u001b[01;35m\u001b[K\u001b]8;;https://gcc.gnu.org/onlinedocs/gcc/Warning-Options.html#index-Wcpp\u0007-Wcpp\u001b]8;;\u0007\u001b[m\u001b[K]\r\n",
      "   17 | #\u001b[01;35m\u001b[Kwarning\u001b[m\u001b[K \"Using deprecated NumPy API, disable it with \" \\\r\n",
      "      |  \u001b[01;35m\u001b[K^~~~~~~\u001b[m\u001b[K\r\n",
      "/usr/local/lib/python3.10/dist-packages/Cython/Compiler/Main.py:381: FutureWarning: Cython directive 'language_level' not set, using '3str' for now (Py3). This has changed from earlier releases! File: /kaggle/working/RECsys_Challenge2024/Recommenders/FeatureWeighting/Cython/CFW_DVV_Similarity_Cython_SGD.pyx\r\n",
      "  tree = Parsing.p_module(s, pxd, full_module_name)\r\n",
      "Compiling [7/11]: CFW_DVV_Similarity_Cython_SGD.pyx... PASS\r\n",
      "\r\n",
      "Compiling [8/11]: HP3_Similarity_Cython_SGD.pyx... \r\n",
      "performance hint: HP3_Similarity_Cython_SGD.pyx:113:40: Index should be typed for more efficient access\r\n",
      "performance hint: HP3_Similarity_Cython_SGD.pyx:114:40: Index should be typed for more efficient access\r\n",
      "In file included from \u001b[01m\u001b[K/usr/local/lib/python3.10/dist-packages/numpy/core/include/numpy/ndarraytypes.h:1929\u001b[m\u001b[K,\r\n",
      "                 from \u001b[01m\u001b[K/usr/local/lib/python3.10/dist-packages/numpy/core/include/numpy/ndarrayobject.h:12\u001b[m\u001b[K,\r\n",
      "                 from \u001b[01m\u001b[K/usr/local/lib/python3.10/dist-packages/numpy/core/include/numpy/arrayobject.h:5\u001b[m\u001b[K,\r\n",
      "                 from \u001b[01m\u001b[KHP3_Similarity_Cython_SGD.c:1252\u001b[m\u001b[K:\r\n",
      "\u001b[01m\u001b[K/usr/local/lib/python3.10/dist-packages/numpy/core/include/numpy/npy_1_7_deprecated_api.h:17:2:\u001b[m\u001b[K \u001b[01;35m\u001b[Kwarning: \u001b[m\u001b[K#warning \"Using deprecated NumPy API, disable it with \" \"#define NPY_NO_DEPRECATED_API NPY_1_7_API_VERSION\" [\u001b[01;35m\u001b[K\u001b]8;;https://gcc.gnu.org/onlinedocs/gcc/Warning-Options.html#index-Wcpp\u0007-Wcpp\u001b]8;;\u0007\u001b[m\u001b[K]\r\n",
      "   17 | #\u001b[01;35m\u001b[Kwarning\u001b[m\u001b[K \"Using deprecated NumPy API, disable it with \" \\\r\n",
      "      |  \u001b[01;35m\u001b[K^~~~~~~\u001b[m\u001b[K\r\n",
      "\u001b[01m\u001b[KHP3_Similarity_Cython_SGD.c:\u001b[m\u001b[K In function ‘\u001b[01m\u001b[K__pyx_pf_25HP3_Similarity_Cython_SGD_25HP3_Similarity_Cython_SGD_4fit\u001b[m\u001b[K’:\r\n",
      "\u001b[01m\u001b[KHP3_Similarity_Cython_SGD.c:23631:55:\u001b[m\u001b[K \u001b[01;35m\u001b[Kwarning: \u001b[m\u001b[K‘\u001b[01m\u001b[K__pyx_v_sample_num\u001b[m\u001b[K’ may be used uninitialized in this function [\u001b[01;35m\u001b[K\u001b]8;;https://gcc.gnu.org/onlinedocs/gcc/Warning-Options.html#index-Wmaybe-uninitialized\u0007-Wmaybe-uninitialized\u001b]8;;\u0007\u001b[m\u001b[K]\r\n",
      "23631 |   __pyx_t_1 = PyFloat_FromDouble((__pyx_v_cum_loss / \u001b[01;35m\u001b[K((double)__pyx_v_sample_num)\u001b[m\u001b[K)); if (unlikely(!__pyx_t_1)) __PYX_ERR(0, 291, __pyx_L1_error)\r\n",
      "      |                                                      \u001b[01;35m\u001b[K~^~~~~~~~~~~~~~~~~~~~~~~~~~~\u001b[m\u001b[K\r\n",
      "/usr/local/lib/python3.10/dist-packages/Cython/Compiler/Main.py:381: FutureWarning: Cython directive 'language_level' not set, using '3str' for now (Py3). This has changed from earlier releases! File: /kaggle/working/RECsys_Challenge2024/Recommenders/FeatureWeighting/Cython/HP3_Similarity_Cython_SGD.pyx\r\n",
      "  tree = Parsing.p_module(s, pxd, full_module_name)\r\n",
      "performance hint: HP3_Similarity_Cython_SGD.pyx:113:40: Index should be typed for more efficient access\r\n",
      "performance hint: HP3_Similarity_Cython_SGD.pyx:114:40: Index should be typed for more efficient access\r\n",
      "Compiling [8/11]: HP3_Similarity_Cython_SGD.pyx... PASS\r\n",
      "\r\n",
      "Compiling [9/11]: FBSM_Rating_Cython_SGD.pyx... \r\n",
      "In file included from \u001b[01m\u001b[K/usr/local/lib/python3.10/dist-packages/numpy/core/include/numpy/ndarraytypes.h:1929\u001b[m\u001b[K,\r\n",
      "                 from \u001b[01m\u001b[K/usr/local/lib/python3.10/dist-packages/numpy/core/include/numpy/ndarrayobject.h:12\u001b[m\u001b[K,\r\n",
      "                 from \u001b[01m\u001b[K/usr/local/lib/python3.10/dist-packages/numpy/core/include/numpy/arrayobject.h:5\u001b[m\u001b[K,\r\n",
      "                 from \u001b[01m\u001b[KFBSM_Rating_Cython_SGD.c:1252\u001b[m\u001b[K:\r\n",
      "\u001b[01m\u001b[K/usr/local/lib/python3.10/dist-packages/numpy/core/include/numpy/npy_1_7_deprecated_api.h:17:2:\u001b[m\u001b[K \u001b[01;35m\u001b[Kwarning: \u001b[m\u001b[K#warning \"Using deprecated NumPy API, disable it with \" \"#define NPY_NO_DEPRECATED_API NPY_1_7_API_VERSION\" [\u001b[01;35m\u001b[K\u001b]8;;https://gcc.gnu.org/onlinedocs/gcc/Warning-Options.html#index-Wcpp\u0007-Wcpp\u001b]8;;\u0007\u001b[m\u001b[K]\r\n",
      "   17 | #\u001b[01;35m\u001b[Kwarning\u001b[m\u001b[K \"Using deprecated NumPy API, disable it with \" \\\r\n",
      "      |  \u001b[01;35m\u001b[K^~~~~~~\u001b[m\u001b[K\r\n",
      "\u001b[01m\u001b[KFBSM_Rating_Cython_SGD.c:\u001b[m\u001b[K In function ‘\u001b[01m\u001b[K__pyx_pf_22FBSM_Rating_Cython_SGD_22FBSM_Rating_Cython_SGD_2fit\u001b[m\u001b[K’:\r\n",
      "\u001b[01m\u001b[KFBSM_Rating_Cython_SGD.c:26607:55:\u001b[m\u001b[K \u001b[01;35m\u001b[Kwarning: \u001b[m\u001b[K‘\u001b[01m\u001b[K__pyx_v_num_sample\u001b[m\u001b[K’ may be used uninitialized in this function [\u001b[01;35m\u001b[K\u001b]8;;https://gcc.gnu.org/onlinedocs/gcc/Warning-Options.html#index-Wmaybe-uninitialized\u0007-Wmaybe-uninitialized\u001b]8;;\u0007\u001b[m\u001b[K]\r\n",
      "26607 |   __pyx_t_5 = PyFloat_FromDouble((__pyx_v_cum_loss / \u001b[01;35m\u001b[K((double)__pyx_v_num_sample)\u001b[m\u001b[K)); if (unlikely(!__pyx_t_5)) __PYX_ERR(0, 551, __pyx_L1_error)\r\n",
      "      |                                                      \u001b[01;35m\u001b[K~^~~~~~~~~~~~~~~~~~~~~~~~~~~\u001b[m\u001b[K\r\n",
      "/usr/local/lib/python3.10/dist-packages/Cython/Compiler/Main.py:381: FutureWarning: Cython directive 'language_level' not set, using '3str' for now (Py3). This has changed from earlier releases! File: /kaggle/working/RECsys_Challenge2024/Recommenders/FeatureWeighting/Cython/FBSM_Rating_Cython_SGD.pyx\r\n",
      "  tree = Parsing.p_module(s, pxd, full_module_name)\r\n",
      "Compiling [9/11]: FBSM_Rating_Cython_SGD.pyx... PASS\r\n",
      "\r\n",
      "Compiling [10/11]: CFW_D_Similarity_Cython_SGD.pyx... \r\n",
      "In file included from \u001b[01m\u001b[K/usr/local/lib/python3.10/dist-packages/numpy/core/include/numpy/ndarraytypes.h:1929\u001b[m\u001b[K,\r\n",
      "                 from \u001b[01m\u001b[K/usr/local/lib/python3.10/dist-packages/numpy/core/include/numpy/ndarrayobject.h:12\u001b[m\u001b[K,\r\n",
      "                 from \u001b[01m\u001b[K/usr/local/lib/python3.10/dist-packages/numpy/core/include/numpy/arrayobject.h:5\u001b[m\u001b[K,\r\n",
      "                 from \u001b[01m\u001b[KCFW_D_Similarity_Cython_SGD.c:1252\u001b[m\u001b[K:\r\n",
      "\u001b[01m\u001b[K/usr/local/lib/python3.10/dist-packages/numpy/core/include/numpy/npy_1_7_deprecated_api.h:17:2:\u001b[m\u001b[K \u001b[01;35m\u001b[Kwarning: \u001b[m\u001b[K#warning \"Using deprecated NumPy API, disable it with \" \"#define NPY_NO_DEPRECATED_API NPY_1_7_API_VERSION\" [\u001b[01;35m\u001b[K\u001b]8;;https://gcc.gnu.org/onlinedocs/gcc/Warning-Options.html#index-Wcpp\u0007-Wcpp\u001b]8;;\u0007\u001b[m\u001b[K]\r\n",
      "   17 | #\u001b[01;35m\u001b[Kwarning\u001b[m\u001b[K \"Using deprecated NumPy API, disable it with \" \\\r\n",
      "      |  \u001b[01;35m\u001b[K^~~~~~~\u001b[m\u001b[K\r\n",
      "\u001b[01m\u001b[KCFW_D_Similarity_Cython_SGD.c:\u001b[m\u001b[K In function ‘\u001b[01m\u001b[K__pyx_pf_27CFW_D_Similarity_Cython_SGD_27CFW_D_Similarity_Cython_SGD_6fit\u001b[m\u001b[K’:\r\n",
      "\u001b[01m\u001b[KCFW_D_Similarity_Cython_SGD.c:23373:55:\u001b[m\u001b[K \u001b[01;35m\u001b[Kwarning: \u001b[m\u001b[K‘\u001b[01m\u001b[K__pyx_v_sample_num\u001b[m\u001b[K’ may be used uninitialized in this function [\u001b[01;35m\u001b[K\u001b]8;;https://gcc.gnu.org/onlinedocs/gcc/Warning-Options.html#index-Wmaybe-uninitialized\u0007-Wmaybe-uninitialized\u001b]8;;\u0007\u001b[m\u001b[K]\r\n",
      "23373 |   __pyx_t_3 = PyFloat_FromDouble((__pyx_v_cum_loss / \u001b[01;35m\u001b[K((double)__pyx_v_sample_num)\u001b[m\u001b[K)); if (unlikely(!__pyx_t_3)) __PYX_ERR(0, 290, __pyx_L1_error)\r\n",
      "      |                                                      \u001b[01;35m\u001b[K~^~~~~~~~~~~~~~~~~~~~~~~~~~~\u001b[m\u001b[K\r\n",
      "/usr/local/lib/python3.10/dist-packages/Cython/Compiler/Main.py:381: FutureWarning: Cython directive 'language_level' not set, using '3str' for now (Py3). This has changed from earlier releases! File: /kaggle/working/RECsys_Challenge2024/Recommenders/FeatureWeighting/Cython/CFW_D_Similarity_Cython_SGD.pyx\r\n",
      "  tree = Parsing.p_module(s, pxd, full_module_name)\r\n",
      "Compiling [10/11]: CFW_D_Similarity_Cython_SGD.pyx... PASS\r\n",
      "\r\n",
      "Compiling [11/11]: DataIterator.pyx... \r\n",
      "In file included from \u001b[01m\u001b[K/usr/local/lib/python3.10/dist-packages/numpy/core/include/numpy/ndarraytypes.h:1929\u001b[m\u001b[K,\r\n",
      "                 from \u001b[01m\u001b[K/usr/local/lib/python3.10/dist-packages/numpy/core/include/numpy/ndarrayobject.h:12\u001b[m\u001b[K,\r\n",
      "                 from \u001b[01m\u001b[K/usr/local/lib/python3.10/dist-packages/numpy/core/include/numpy/arrayobject.h:5\u001b[m\u001b[K,\r\n",
      "                 from \u001b[01m\u001b[KDataIterator.c:1252\u001b[m\u001b[K:\r\n",
      "\u001b[01m\u001b[K/usr/local/lib/python3.10/dist-packages/numpy/core/include/numpy/npy_1_7_deprecated_api.h:17:2:\u001b[m\u001b[K \u001b[01;35m\u001b[Kwarning: \u001b[m\u001b[K#warning \"Using deprecated NumPy API, disable it with \" \"#define NPY_NO_DEPRECATED_API NPY_1_7_API_VERSION\" [\u001b[01;35m\u001b[K\u001b]8;;https://gcc.gnu.org/onlinedocs/gcc/Warning-Options.html#index-Wcpp\u0007-Wcpp\u001b]8;;\u0007\u001b[m\u001b[K]\r\n",
      "   17 | #\u001b[01;35m\u001b[Kwarning\u001b[m\u001b[K \"Using deprecated NumPy API, disable it with \" \\\r\n",
      "      |  \u001b[01;35m\u001b[K^~~~~~~\u001b[m\u001b[K\r\n",
      "\u001b[01m\u001b[KDataIterator.c:\u001b[m\u001b[K In function ‘\u001b[01m\u001b[K__pyx_pf_12DataIterator_19InteractionIterator_6__next__\u001b[m\u001b[K’:\r\n",
      "\u001b[01m\u001b[KDataIterator.c:20937:22:\u001b[m\u001b[K \u001b[01;35m\u001b[Kwarning: \u001b[m\u001b[K‘\u001b[01m\u001b[K__pyx_v_i_batch\u001b[m\u001b[K’ may be used uninitialized in this function [\u001b[01;35m\u001b[K\u001b]8;;https://gcc.gnu.org/onlinedocs/gcc/Warning-Options.html#index-Wmaybe-uninitialized\u0007-Wmaybe-uninitialized\u001b]8;;\u0007\u001b[m\u001b[K]\r\n",
      "20937 |     (__pyx_v_i_batch \u001b[01;35m\u001b[K+\u001b[m\u001b[K 1),\r\n",
      "      |                      \u001b[01;35m\u001b[K^\u001b[m\u001b[K\r\n",
      "\u001b[01m\u001b[KDataIterator.c:\u001b[m\u001b[K In function ‘\u001b[01m\u001b[K__pyx_pf_12DataIterator_30InteractionAndNegativeIterator_6__next__\u001b[m\u001b[K’:\r\n",
      "\u001b[01m\u001b[KDataIterator.c:25499:22:\u001b[m\u001b[K \u001b[01;35m\u001b[Kwarning: \u001b[m\u001b[K‘\u001b[01m\u001b[K__pyx_v_i_batch\u001b[m\u001b[K’ may be used uninitialized in this function [\u001b[01;35m\u001b[K\u001b]8;;https://gcc.gnu.org/onlinedocs/gcc/Warning-Options.html#index-Wmaybe-uninitialized\u0007-Wmaybe-uninitialized\u001b]8;;\u0007\u001b[m\u001b[K]\r\n",
      "25499 |     (__pyx_v_i_batch \u001b[01;35m\u001b[K+\u001b[m\u001b[K 1),\r\n",
      "      |                      \u001b[01;35m\u001b[K^\u001b[m\u001b[K\r\n",
      "\u001b[01m\u001b[KDataIterator.c:\u001b[m\u001b[K In function ‘\u001b[01m\u001b[K__pyx_pf_12DataIterator_11BPRIterator_6__next__\u001b[m\u001b[K’:\r\n",
      "\u001b[01m\u001b[KDataIterator.c:23056:22:\u001b[m\u001b[K \u001b[01;35m\u001b[Kwarning: \u001b[m\u001b[K‘\u001b[01m\u001b[K__pyx_v_i_batch\u001b[m\u001b[K’ may be used uninitialized in this function [\u001b[01;35m\u001b[K\u001b]8;;https://gcc.gnu.org/onlinedocs/gcc/Warning-Options.html#index-Wmaybe-uninitialized\u0007-Wmaybe-uninitialized\u001b]8;;\u0007\u001b[m\u001b[K]\r\n",
      "23056 |     (__pyx_v_i_batch \u001b[01;35m\u001b[K+\u001b[m\u001b[K 1),\r\n",
      "      |                      \u001b[01;35m\u001b[K^\u001b[m\u001b[K\r\n",
      "/usr/local/lib/python3.10/dist-packages/Cython/Compiler/Main.py:381: FutureWarning: Cython directive 'language_level' not set, using '3str' for now (Py3). This has changed from earlier releases! File: /kaggle/working/RECsys_Challenge2024/Utils/PyTorch/Cython/DataIterator.pyx\r\n",
      "  tree = Parsing.p_module(s, pxd, full_module_name)\r\n",
      "Compiling [11/11]: DataIterator.pyx... PASS\r\n",
      "\r\n",
      "run_compile_all_cython: Compilation finished. FAILS 2/11.\r\n",
      "Compilation log can be found here: './result_experiments/run_compile_all_cython.txt'\r\n"
     ]
    }
   ],
   "source": [
    "%cd /kaggle/working/RECsys_Challenge2024 \n",
    "! python run_compile_all_cython.py"
   ]
  },
  {
   "cell_type": "code",
   "execution_count": 5,
   "id": "041b7219",
   "metadata": {
    "execution": {
     "iopub.execute_input": "2025-01-06T13:24:40.895867Z",
     "iopub.status.busy": "2025-01-06T13:24:40.895468Z",
     "iopub.status.idle": "2025-01-06T13:24:42.349477Z",
     "shell.execute_reply": "2025-01-06T13:24:42.347941Z"
    },
    "papermill": {
     "duration": 1.471903,
     "end_time": "2025-01-06T13:24:42.351842",
     "exception": false,
     "start_time": "2025-01-06T13:24:40.879939",
     "status": "completed"
    },
    "tags": []
   },
   "outputs": [],
   "source": [
    "from Utils.notebookFunctions import *\n",
    "import numpy as np\n",
    "import pandas as pd\n",
    "import scipy.sparse as sps\n",
    "import time\n",
    "import shutil\n",
    "import optuna\n",
    "import json\n",
    "import os\n",
    "from Utils.seconds_to_biggest_unit import seconds_to_biggest_unit\n",
    "\n",
    "\n",
    "K_PATH = '/kaggle/working/RECsys_Challenge2024'\n",
    "GH_PATH = 'TrainedModels/WithKFCV/KNN'\n",
    "\n",
    "np.random.seed(42)"
   ]
  },
  {
   "cell_type": "markdown",
   "id": "222ab50a",
   "metadata": {
    "papermill": {
     "duration": 0.014366,
     "end_time": "2025-01-06T13:24:42.381145",
     "exception": false,
     "start_time": "2025-01-06T13:24:42.366779",
     "status": "completed"
    },
    "tags": []
   },
   "source": [
    "## Import the repository **RECsys_Challenge2024**"
   ]
  },
  {
   "cell_type": "code",
   "execution_count": 6,
   "id": "25295651",
   "metadata": {
    "execution": {
     "iopub.execute_input": "2025-01-06T13:24:42.412949Z",
     "iopub.status.busy": "2025-01-06T13:24:42.412292Z",
     "iopub.status.idle": "2025-01-06T13:24:42.772650Z",
     "shell.execute_reply": "2025-01-06T13:24:42.771144Z"
    },
    "papermill": {
     "duration": 0.379327,
     "end_time": "2025-01-06T13:24:42.775381",
     "exception": false,
     "start_time": "2025-01-06T13:24:42.396054",
     "status": "completed"
    },
    "tags": []
   },
   "outputs": [
    {
     "name": "stdout",
     "output_type": "stream",
     "text": [
      "Repository 'RECsys_Challenge2024' found.\n"
     ]
    }
   ],
   "source": [
    "repo = get_repo_from_github(token)"
   ]
  },
  {
   "cell_type": "code",
   "execution_count": 7,
   "id": "d26fdc6c",
   "metadata": {
    "execution": {
     "iopub.execute_input": "2025-01-06T13:24:42.807826Z",
     "iopub.status.busy": "2025-01-06T13:24:42.807393Z",
     "iopub.status.idle": "2025-01-06T13:24:42.812886Z",
     "shell.execute_reply": "2025-01-06T13:24:42.811387Z"
    },
    "papermill": {
     "duration": 0.023512,
     "end_time": "2025-01-06T13:24:42.814789",
     "exception": false,
     "start_time": "2025-01-06T13:24:42.791277",
     "status": "completed"
    },
    "tags": []
   },
   "outputs": [],
   "source": [
    "config = {\n",
    "    'model': 'UserKNNCF',\n",
    "    'n_folds': 5,\n",
    "    'metric': 'MAP',\n",
    "    'tune_parameters': True,\n",
    "    'database_path': '/kaggle/working/history_UserKNNCF_MAP.db',\n",
    "    'copy_prev_best_params': False,\n",
    "    'tune_best_params': True,\n",
    "    'save_github': True\n",
    "}"
   ]
  },
  {
   "cell_type": "markdown",
   "id": "3b3c69ee",
   "metadata": {
    "papermill": {
     "duration": 0.01527,
     "end_time": "2025-01-06T13:24:42.845344",
     "exception": false,
     "start_time": "2025-01-06T13:24:42.830074",
     "status": "completed"
    },
    "tags": []
   },
   "source": [
    "Import the database where previous tuning trials have been saved."
   ]
  },
  {
   "cell_type": "code",
   "execution_count": 8,
   "id": "be997afd",
   "metadata": {
    "execution": {
     "iopub.execute_input": "2025-01-06T13:24:42.876368Z",
     "iopub.status.busy": "2025-01-06T13:24:42.875925Z",
     "iopub.status.idle": "2025-01-06T13:24:42.882261Z",
     "shell.execute_reply": "2025-01-06T13:24:42.881102Z"
    },
    "papermill": {
     "duration": 0.024156,
     "end_time": "2025-01-06T13:24:42.884141",
     "exception": false,
     "start_time": "2025-01-06T13:24:42.859985",
     "status": "completed"
    },
    "tags": []
   },
   "outputs": [],
   "source": [
    "try:\n",
    "    shutil.copyfile(\n",
    "        f'{K_PATH}/{GH_PATH}/{config[\"model\"]}Recommender/Optimizing{config[\"metric\"]}/history_{config[\"model\"]}_{config[\"metric\"]}.db', \n",
    "        config['database_path']\n",
    "    )\n",
    "except FileNotFoundError:\n",
    "    pass # if not present optuna will create it"
   ]
  },
  {
   "cell_type": "markdown",
   "id": "e715729c",
   "metadata": {
    "papermill": {
     "duration": 0.015186,
     "end_time": "2025-01-06T13:24:42.914595",
     "exception": false,
     "start_time": "2025-01-06T13:24:42.899409",
     "status": "completed"
    },
    "tags": []
   },
   "source": [
    "# Construction of URM and ICM matrices"
   ]
  },
  {
   "cell_type": "code",
   "execution_count": 9,
   "id": "4e4a4a70",
   "metadata": {
    "execution": {
     "iopub.execute_input": "2025-01-06T13:24:42.948317Z",
     "iopub.status.busy": "2025-01-06T13:24:42.947846Z",
     "iopub.status.idle": "2025-01-06T13:24:43.590590Z",
     "shell.execute_reply": "2025-01-06T13:24:43.589200Z"
    },
    "papermill": {
     "duration": 0.663076,
     "end_time": "2025-01-06T13:24:43.593394",
     "exception": false,
     "start_time": "2025-01-06T13:24:42.930318",
     "status": "completed"
    },
    "tags": []
   },
   "outputs": [
    {
     "data": {
      "text/plain": [
       "<35736x38121 sparse matrix of type '<class 'numpy.float64'>'\n",
       "\twith 1764607 stored elements in Compressed Sparse Row format>"
      ]
     },
     "execution_count": 9,
     "metadata": {},
     "output_type": "execute_result"
    }
   ],
   "source": [
    "URM_all_dataframe = pd.read_csv(\"/kaggle/working/RECsys_Challenge2024/Dataset/data_train.csv\")\n",
    "\n",
    "n_users = len(URM_all_dataframe[\"user_id\"].unique())\n",
    "n_items = len(URM_all_dataframe[\"item_id\"].unique())\n",
    "\n",
    "URM_all = sps.csr_matrix((URM_all_dataframe[\"data\"].values, \n",
    "                          (URM_all_dataframe[\"user_id\"].values, URM_all_dataframe[\"item_id\"].values)),\n",
    "                        shape = (n_users, n_items))\n",
    "\n",
    "URM_all"
   ]
  },
  {
   "cell_type": "code",
   "execution_count": 10,
   "id": "4d2ae512",
   "metadata": {
    "execution": {
     "iopub.execute_input": "2025-01-06T13:24:43.625596Z",
     "iopub.status.busy": "2025-01-06T13:24:43.625136Z",
     "iopub.status.idle": "2025-01-06T13:24:44.621066Z",
     "shell.execute_reply": "2025-01-06T13:24:44.619815Z"
    },
    "papermill": {
     "duration": 1.014748,
     "end_time": "2025-01-06T13:24:44.623111",
     "exception": false,
     "start_time": "2025-01-06T13:24:43.608363",
     "status": "completed"
    },
    "tags": []
   },
   "outputs": [
    {
     "data": {
      "text/plain": [
       "<38121x94331 sparse matrix of type '<class 'numpy.float64'>'\n",
       "\twith 2940040 stored elements in Compressed Sparse Row format>"
      ]
     },
     "execution_count": 10,
     "metadata": {},
     "output_type": "execute_result"
    }
   ],
   "source": [
    "ICM_dataframe = pd.read_csv(\"/kaggle/working/RECsys_Challenge2024/Dataset/data_ICM_metadata.csv\")\n",
    "\n",
    "n_items = len(ICM_dataframe[\"item_id\"].unique())\n",
    "n_features = len(ICM_dataframe[\"feature_id\"].unique())\n",
    "\n",
    "ICM_all = sps.csr_matrix((ICM_dataframe[\"data\"].values, \n",
    "                          (ICM_dataframe[\"item_id\"].values, ICM_dataframe[\"feature_id\"].values)),\n",
    "                        shape = (n_items, n_features))\n",
    "\n",
    "ICM_all"
   ]
  },
  {
   "cell_type": "markdown",
   "id": "cdb7b0a4",
   "metadata": {
    "papermill": {
     "duration": 0.015464,
     "end_time": "2025-01-06T13:24:44.653984",
     "exception": false,
     "start_time": "2025-01-06T13:24:44.638520",
     "status": "completed"
    },
    "tags": []
   },
   "source": [
    "# Training"
   ]
  },
  {
   "cell_type": "code",
   "execution_count": 11,
   "id": "83a167f9",
   "metadata": {
    "execution": {
     "iopub.execute_input": "2025-01-06T13:24:44.686201Z",
     "iopub.status.busy": "2025-01-06T13:24:44.685757Z",
     "iopub.status.idle": "2025-01-06T13:25:03.495955Z",
     "shell.execute_reply": "2025-01-06T13:25:03.494388Z"
    },
    "papermill": {
     "duration": 18.828933,
     "end_time": "2025-01-06T13:25:03.498341",
     "exception": false,
     "start_time": "2025-01-06T13:24:44.669408",
     "status": "completed"
    },
    "tags": []
   },
   "outputs": [
    {
     "name": "stdout",
     "output_type": "stream",
     "text": [
      "Warning: 141 (0.39 %) of 35736 users have no sampled items\n"
     ]
    }
   ],
   "source": [
    "from Evaluation.Evaluator import EvaluatorHoldout\n",
    "from Data_manager.split_functions.split_train_validation_random_holdout import split_train_in_two_percentage_global_sample\n",
    "from Data_manager.split_functions.split_train_k_folds import split_train_k_folds\n",
    "\n",
    "URM_train, URM_validation = split_train_in_two_percentage_global_sample(URM_all, train_percentage = 0.80)\n",
    "\n",
    "folds = split_train_k_folds(URM_all, k=config['n_folds'])"
   ]
  },
  {
   "cell_type": "code",
   "execution_count": 12,
   "id": "4d251b76",
   "metadata": {
    "execution": {
     "iopub.execute_input": "2025-01-06T13:25:03.529867Z",
     "iopub.status.busy": "2025-01-06T13:25:03.529495Z",
     "iopub.status.idle": "2025-01-06T13:25:03.547661Z",
     "shell.execute_reply": "2025-01-06T13:25:03.546564Z"
    },
    "papermill": {
     "duration": 0.036446,
     "end_time": "2025-01-06T13:25:03.549944",
     "exception": false,
     "start_time": "2025-01-06T13:25:03.513498",
     "status": "completed"
    },
    "tags": []
   },
   "outputs": [],
   "source": [
    "from Recommenders.KNN.UserKNNCFRecommender import UserKNNCFRecommender\n",
    "\n",
    "def objective_function_UserKNNCF(optuna_trial):\n",
    "    \n",
    "    similarity = optuna_trial.suggest_categorical(\"similarity\", ['cosine', 'dice', 'jaccard', 'asymmetric', 'tversky', 'euclidean'])\n",
    "    \n",
    "    full_hyperp = {\"similarity\": similarity,\n",
    "                   \"topK\": optuna_trial.suggest_int(\"topK\", 0, 750),\n",
    "                   \"shrink\": optuna_trial.suggest_int(\"shrink\", 0, 1000),\n",
    "                   'feature_weighting': optuna_trial.suggest_categorical('feature_weighting', [\"BM25\", \"TF-IDF\", \"none\"])\n",
    "                  }\n",
    "    \n",
    "    if similarity == \"asymmetric\":\n",
    "        full_hyperp[\"asymmetric_alpha\"] = optuna_trial.suggest_float(\"asymmetric_alpha\", 0, 2, log=False)\n",
    "        full_hyperp[\"normalize\"] = True     \n",
    "\n",
    "    elif similarity == \"tversky\":\n",
    "        full_hyperp[\"tversky_alpha\"] = optuna_trial.suggest_float(\"tversky_alpha\", 0, 2, log=False)\n",
    "        full_hyperp[\"tversky_beta\"] = optuna_trial.suggest_float(\"tversky_beta\", 0, 2, log=False)\n",
    "        full_hyperp[\"normalize\"] = True \n",
    "\n",
    "    elif similarity == \"euclidean\":\n",
    "        full_hyperp[\"normalize_avg_row\"] = optuna_trial.suggest_categorical(\"normalize_avg_row\", [True, False])\n",
    "        full_hyperp[\"similarity_from_distance_mode\"] = optuna_trial.suggest_categorical(\"similarity_from_distance_mode\", [\"lin\", \"log\", \"exp\"])\n",
    "        full_hyperp[\"normalize\"] = optuna_trial.suggest_categorical(\"normalize\", [True, False])\n",
    "        \n",
    "    \n",
    "    validation_results = []\n",
    "    \n",
    "    for fold_idx, (URM_train_fold, URM_validation_fold) in enumerate(folds):\n",
    "    \n",
    "        recommender_instance = UserKNNCFRecommender(URM_train_fold)\n",
    "        recommender_instance.fit(**full_hyperp)\n",
    "        \n",
    "        evaluator = EvaluatorHoldout(URM_validation_fold, cutoff_list=[10])\n",
    "        result_df, _ = evaluator.evaluateRecommender(recommender_instance)\n",
    "        \n",
    "        validation_results.append(result_df.loc[10][\"MAP\"])\n",
    "    \n",
    "    return np.mean(validation_results)"
   ]
  },
  {
   "cell_type": "code",
   "execution_count": 13,
   "id": "d5ac7816",
   "metadata": {
    "execution": {
     "iopub.execute_input": "2025-01-06T13:25:03.584507Z",
     "iopub.status.busy": "2025-01-06T13:25:03.584095Z",
     "iopub.status.idle": "2025-01-07T00:29:56.991330Z",
     "shell.execute_reply": "2025-01-07T00:29:56.990013Z"
    },
    "papermill": {
     "duration": 39893.475533,
     "end_time": "2025-01-07T00:29:57.042564",
     "exception": false,
     "start_time": "2025-01-06T13:25:03.567031",
     "status": "completed"
    },
    "tags": []
   },
   "outputs": [
    {
     "name": "stderr",
     "output_type": "stream",
     "text": [
      "[I 2025-01-06 13:25:04,684] Using an existing study with name 'hyperparameters_tuning_UserKNNCF_MAP' instead of creating a new one.\n"
     ]
    },
    {
     "name": "stdout",
     "output_type": "stream",
     "text": [
      "Similarity column 35736 (100.0%), 2938.68 column/sec. Elapsed time 12.16 sec\n",
      "EvaluatorHoldout: Ignoring 173 ( 0.5%) Users that have less than 1 test interactions\n",
      "EvaluatorHoldout: Processed 35563 (100.0%) in 1.04 min. Users per second: 570\n",
      "Similarity column 35736 (100.0%), 2943.41 column/sec. Elapsed time 12.14 sec\n",
      "EvaluatorHoldout: Ignoring 163 ( 0.5%) Users that have less than 1 test interactions\n",
      "EvaluatorHoldout: Processed 35573 (100.0%) in 1.03 min. Users per second: 575\n",
      "Similarity column 35736 (100.0%), 2978.62 column/sec. Elapsed time 12.00 sec\n",
      "EvaluatorHoldout: Ignoring 150 ( 0.4%) Users that have less than 1 test interactions\n",
      "EvaluatorHoldout: Processed 35586 (100.0%) in 1.03 min. Users per second: 576\n",
      "Similarity column 35736 (100.0%), 2935.90 column/sec. Elapsed time 12.17 sec\n",
      "EvaluatorHoldout: Ignoring 167 ( 0.5%) Users that have less than 1 test interactions\n",
      "EvaluatorHoldout: Processed 35569 (100.0%) in 1.03 min. Users per second: 573\n",
      "Similarity column 35736 (100.0%), 2941.05 column/sec. Elapsed time 12.15 sec\n",
      "EvaluatorHoldout: Ignoring 172 ( 0.5%) Users that have less than 1 test interactions\n",
      "EvaluatorHoldout: Processed 35564 (100.0%) in 1.03 min. Users per second: 575\n"
     ]
    },
    {
     "name": "stderr",
     "output_type": "stream",
     "text": [
      "[I 2025-01-06 13:31:24,375] Trial 251 finished with value: 0.04223249611163178 and parameters: {'similarity': 'asymmetric', 'topK': 694, 'shrink': 538, 'feature_weighting': 'BM25', 'asymmetric_alpha': 0.7683774050541587}. Best is trial 225 with value: 0.042421652977767725.\n"
     ]
    },
    {
     "name": "stdout",
     "output_type": "stream",
     "text": [
      "Similarity column 35736 (100.0%), 2799.20 column/sec. Elapsed time 12.77 sec\n",
      "EvaluatorHoldout: Ignoring 173 ( 0.5%) Users that have less than 1 test interactions\n",
      "EvaluatorHoldout: Processed 35563 (100.0%) in 1.02 min. Users per second: 578\n",
      "Similarity column 35736 (100.0%), 2783.34 column/sec. Elapsed time 12.84 sec\n",
      "EvaluatorHoldout: Ignoring 163 ( 0.5%) Users that have less than 1 test interactions\n",
      "EvaluatorHoldout: Processed 35573 (100.0%) in 1.02 min. Users per second: 581\n",
      "Similarity column 35736 (100.0%), 2795.41 column/sec. Elapsed time 12.78 sec\n",
      "EvaluatorHoldout: Ignoring 150 ( 0.4%) Users that have less than 1 test interactions\n",
      "EvaluatorHoldout: Processed 35586 (100.0%) in 1.03 min. Users per second: 577\n",
      "Similarity column 35736 (100.0%), 2780.72 column/sec. Elapsed time 12.85 sec\n",
      "EvaluatorHoldout: Ignoring 167 ( 0.5%) Users that have less than 1 test interactions\n",
      "EvaluatorHoldout: Processed 35569 (100.0%) in 1.04 min. Users per second: 572\n",
      "Similarity column 35736 (100.0%), 2786.90 column/sec. Elapsed time 12.82 sec\n",
      "EvaluatorHoldout: Ignoring 172 ( 0.5%) Users that have less than 1 test interactions\n",
      "EvaluatorHoldout: Processed 35564 (100.0%) in 1.03 min. Users per second: 576\n"
     ]
    },
    {
     "name": "stderr",
     "output_type": "stream",
     "text": [
      "[I 2025-01-06 13:37:45,402] Trial 252 finished with value: 0.03919302820936669 and parameters: {'similarity': 'tversky', 'topK': 723, 'shrink': 550, 'feature_weighting': 'BM25', 'tversky_alpha': 1.5812052261032874, 'tversky_beta': 1.8633506212965294}. Best is trial 225 with value: 0.042421652977767725.\n"
     ]
    },
    {
     "name": "stdout",
     "output_type": "stream",
     "text": [
      "Similarity column 35736 (100.0%), 2989.47 column/sec. Elapsed time 11.95 sec\n",
      "EvaluatorHoldout: Ignoring 173 ( 0.5%) Users that have less than 1 test interactions\n",
      "EvaluatorHoldout: Processed 35563 (100.0%) in 1.04 min. Users per second: 572\n",
      "Similarity column 35736 (100.0%), 2966.98 column/sec. Elapsed time 12.04 sec\n",
      "EvaluatorHoldout: Ignoring 163 ( 0.5%) Users that have less than 1 test interactions\n",
      "EvaluatorHoldout: Processed 35573 (100.0%) in 1.04 min. Users per second: 572\n",
      "Similarity column 35736 (100.0%), 2996.22 column/sec. Elapsed time 11.93 sec\n",
      "EvaluatorHoldout: Ignoring 150 ( 0.4%) Users that have less than 1 test interactions\n",
      "EvaluatorHoldout: Processed 35586 (100.0%) in 1.04 min. Users per second: 570\n",
      "Similarity column 35736 (100.0%), 2950.91 column/sec. Elapsed time 12.11 sec\n",
      "EvaluatorHoldout: Ignoring 167 ( 0.5%) Users that have less than 1 test interactions\n",
      "EvaluatorHoldout: Processed 35569 (100.0%) in 1.04 min. Users per second: 571\n",
      "Similarity column 35736 (100.0%), 2974.23 column/sec. Elapsed time 12.02 sec\n",
      "EvaluatorHoldout: Ignoring 172 ( 0.5%) Users that have less than 1 test interactions\n",
      "EvaluatorHoldout: Processed 35564 (100.0%) in 1.03 min. Users per second: 573\n"
     ]
    },
    {
     "name": "stderr",
     "output_type": "stream",
     "text": [
      "[I 2025-01-06 13:44:04,434] Trial 253 finished with value: 0.04225645792465758 and parameters: {'similarity': 'asymmetric', 'topK': 708, 'shrink': 579, 'feature_weighting': 'BM25', 'asymmetric_alpha': 0.7048881383659091}. Best is trial 225 with value: 0.042421652977767725.\n"
     ]
    },
    {
     "name": "stdout",
     "output_type": "stream",
     "text": [
      "Similarity column 35736 (100.0%), 2986.96 column/sec. Elapsed time 11.96 sec\n",
      "EvaluatorHoldout: Ignoring 173 ( 0.5%) Users that have less than 1 test interactions\n",
      "EvaluatorHoldout: Processed 35563 (100.0%) in 1.05 min. Users per second: 567\n",
      "Similarity column 35736 (100.0%), 2968.21 column/sec. Elapsed time 12.04 sec\n",
      "EvaluatorHoldout: Ignoring 163 ( 0.5%) Users that have less than 1 test interactions\n",
      "EvaluatorHoldout: Processed 35573 (100.0%) in 1.04 min. Users per second: 568\n",
      "Similarity column 35736 (100.0%), 2988.02 column/sec. Elapsed time 11.96 sec\n",
      "EvaluatorHoldout: Ignoring 150 ( 0.4%) Users that have less than 1 test interactions\n",
      "EvaluatorHoldout: Processed 35586 (100.0%) in 1.04 min. Users per second: 570\n",
      "Similarity column 35736 (100.0%), 2956.14 column/sec. Elapsed time 12.09 sec\n",
      "EvaluatorHoldout: Ignoring 167 ( 0.5%) Users that have less than 1 test interactions\n",
      "EvaluatorHoldout: Processed 35569 (100.0%) in 1.04 min. Users per second: 572\n",
      "Similarity column 35736 (100.0%), 2996.45 column/sec. Elapsed time 11.93 sec\n",
      "EvaluatorHoldout: Ignoring 172 ( 0.5%) Users that have less than 1 test interactions\n",
      "EvaluatorHoldout: Processed 35564 (100.0%) in 1.04 min. Users per second: 570\n"
     ]
    },
    {
     "name": "stderr",
     "output_type": "stream",
     "text": [
      "[I 2025-01-06 13:50:25,029] Trial 254 finished with value: 0.0423449559290188 and parameters: {'similarity': 'asymmetric', 'topK': 727, 'shrink': 525, 'feature_weighting': 'BM25', 'asymmetric_alpha': 0.7971291371357695}. Best is trial 225 with value: 0.042421652977767725.\n"
     ]
    },
    {
     "name": "stdout",
     "output_type": "stream",
     "text": [
      "Similarity column 35736 (100.0%), 2982.88 column/sec. Elapsed time 11.98 sec\n",
      "EvaluatorHoldout: Ignoring 173 ( 0.5%) Users that have less than 1 test interactions\n",
      "EvaluatorHoldout: Processed 35563 (100.0%) in 1.03 min. Users per second: 577\n",
      "Similarity column 35736 (100.0%), 2975.75 column/sec. Elapsed time 12.01 sec\n",
      "EvaluatorHoldout: Ignoring 163 ( 0.5%) Users that have less than 1 test interactions\n",
      "EvaluatorHoldout: Processed 35573 (100.0%) in 1.03 min. Users per second: 574\n",
      "Similarity column 35736 (100.0%), 2979.02 column/sec. Elapsed time 12.00 sec\n",
      "EvaluatorHoldout: Ignoring 150 ( 0.4%) Users that have less than 1 test interactions\n",
      "EvaluatorHoldout: Processed 35586 (100.0%) in 1.03 min. Users per second: 578\n",
      "Similarity column 35736 (100.0%), 2988.68 column/sec. Elapsed time 11.96 sec\n",
      "EvaluatorHoldout: Ignoring 167 ( 0.5%) Users that have less than 1 test interactions\n",
      "EvaluatorHoldout: Processed 35569 (100.0%) in 1.03 min. Users per second: 577\n",
      "Similarity column 35736 (100.0%), 2959.23 column/sec. Elapsed time 12.08 sec\n",
      "EvaluatorHoldout: Ignoring 172 ( 0.5%) Users that have less than 1 test interactions\n",
      "EvaluatorHoldout: Processed 35564 (100.0%) in 1.03 min. Users per second: 574\n"
     ]
    },
    {
     "name": "stderr",
     "output_type": "stream",
     "text": [
      "[I 2025-01-06 13:56:42,052] Trial 255 finished with value: 0.04219939464538152 and parameters: {'similarity': 'asymmetric', 'topK': 683, 'shrink': 496, 'feature_weighting': 'BM25', 'asymmetric_alpha': 0.7958794055267164}. Best is trial 225 with value: 0.042421652977767725.\n"
     ]
    },
    {
     "name": "stdout",
     "output_type": "stream",
     "text": [
      "Similarity column 35736 (100.0%), 2948.34 column/sec. Elapsed time 12.12 sec\n",
      "EvaluatorHoldout: Ignoring 173 ( 0.5%) Users that have less than 1 test interactions\n",
      "EvaluatorHoldout: Processed 35563 (100.0%) in 1.06 min. Users per second: 559\n",
      "Similarity column 35736 (100.0%), 2950.48 column/sec. Elapsed time 12.11 sec\n",
      "EvaluatorHoldout: Ignoring 163 ( 0.5%) Users that have less than 1 test interactions\n",
      "EvaluatorHoldout: Processed 35573 (100.0%) in 1.06 min. Users per second: 562\n",
      "Similarity column 35736 (100.0%), 2965.75 column/sec. Elapsed time 12.05 sec\n",
      "EvaluatorHoldout: Ignoring 150 ( 0.4%) Users that have less than 1 test interactions\n",
      "EvaluatorHoldout: Processed 35586 (100.0%) in 1.05 min. Users per second: 564\n",
      "Similarity column 35736 (100.0%), 2962.51 column/sec. Elapsed time 12.06 sec\n",
      "EvaluatorHoldout: Ignoring 167 ( 0.5%) Users that have less than 1 test interactions\n",
      "EvaluatorHoldout: Processed 35569 (100.0%) in 1.05 min. Users per second: 563\n",
      "Similarity column 35736 (100.0%), 2949.33 column/sec. Elapsed time 12.12 sec\n",
      "EvaluatorHoldout: Ignoring 172 ( 0.5%) Users that have less than 1 test interactions\n",
      "EvaluatorHoldout: Processed 35564 (100.0%) in 1.06 min. Users per second: 561\n"
     ]
    },
    {
     "name": "stderr",
     "output_type": "stream",
     "text": [
      "[I 2025-01-06 14:03:07,417] Trial 256 finished with value: 0.042150408790428424 and parameters: {'similarity': 'asymmetric', 'topK': 723, 'shrink': 523, 'feature_weighting': 'BM25', 'asymmetric_alpha': 0.5719848425443417}. Best is trial 225 with value: 0.042421652977767725.\n"
     ]
    },
    {
     "name": "stdout",
     "output_type": "stream",
     "text": [
      "Similarity column 35736 (100.0%), 2983.58 column/sec. Elapsed time 11.98 sec\n",
      "EvaluatorHoldout: Ignoring 173 ( 0.5%) Users that have less than 1 test interactions\n",
      "EvaluatorHoldout: Processed 35563 (100.0%) in 1.02 min. Users per second: 583\n",
      "Similarity column 35736 (100.0%), 2983.20 column/sec. Elapsed time 11.98 sec\n",
      "EvaluatorHoldout: Ignoring 163 ( 0.5%) Users that have less than 1 test interactions\n",
      "EvaluatorHoldout: Processed 35573 (100.0%) in 1.02 min. Users per second: 579\n",
      "Similarity column 35736 (100.0%), 3001.41 column/sec. Elapsed time 11.91 sec\n",
      "EvaluatorHoldout: Ignoring 150 ( 0.4%) Users that have less than 1 test interactions\n",
      "EvaluatorHoldout: Processed 35586 (100.0%) in 1.03 min. Users per second: 578\n",
      "Similarity column 35736 (100.0%), 2984.52 column/sec. Elapsed time 11.97 sec\n",
      "EvaluatorHoldout: Ignoring 167 ( 0.5%) Users that have less than 1 test interactions\n",
      "EvaluatorHoldout: Processed 35569 (100.0%) in 1.02 min. Users per second: 581\n",
      "Similarity column 35736 (100.0%), 2983.18 column/sec. Elapsed time 11.98 sec\n",
      "EvaluatorHoldout: Ignoring 172 ( 0.5%) Users that have less than 1 test interactions\n",
      "EvaluatorHoldout: Processed 35564 (100.0%) in 1.02 min. Users per second: 580\n"
     ]
    },
    {
     "name": "stderr",
     "output_type": "stream",
     "text": [
      "[I 2025-01-06 14:09:21,527] Trial 257 finished with value: 0.04224853286306229 and parameters: {'similarity': 'asymmetric', 'topK': 704, 'shrink': 548, 'feature_weighting': 'BM25', 'asymmetric_alpha': 0.8047112167171621}. Best is trial 225 with value: 0.042421652977767725.\n"
     ]
    },
    {
     "name": "stdout",
     "output_type": "stream",
     "text": [
      "Similarity column 35736 (100.0%), 2940.99 column/sec. Elapsed time 12.15 sec\n",
      "EvaluatorHoldout: Ignoring 173 ( 0.5%) Users that have less than 1 test interactions\n",
      "EvaluatorHoldout: Processed 35563 (100.0%) in 1.01 min. Users per second: 585\n",
      "Similarity column 35736 (100.0%), 2917.42 column/sec. Elapsed time 12.25 sec\n",
      "EvaluatorHoldout: Ignoring 163 ( 0.5%) Users that have less than 1 test interactions\n",
      "EvaluatorHoldout: Processed 35573 (100.0%) in 1.02 min. Users per second: 583\n",
      "Similarity column 35736 (100.0%), 2906.45 column/sec. Elapsed time 12.30 sec\n",
      "EvaluatorHoldout: Ignoring 150 ( 0.4%) Users that have less than 1 test interactions\n",
      "EvaluatorHoldout: Processed 35586 (100.0%) in 1.01 min. Users per second: 585\n",
      "Similarity column 35736 (100.0%), 2925.04 column/sec. Elapsed time 12.22 sec\n",
      "EvaluatorHoldout: Ignoring 167 ( 0.5%) Users that have less than 1 test interactions\n",
      "EvaluatorHoldout: Processed 35569 (100.0%) in 1.01 min. Users per second: 586\n",
      "Similarity column 35736 (100.0%), 2911.30 column/sec. Elapsed time 12.27 sec\n",
      "EvaluatorHoldout: Ignoring 172 ( 0.5%) Users that have less than 1 test interactions\n",
      "EvaluatorHoldout: Processed 35564 (100.0%) in 1.01 min. Users per second: 588\n"
     ]
    },
    {
     "name": "stderr",
     "output_type": "stream",
     "text": [
      "[I 2025-01-06 14:15:34,091] Trial 258 finished with value: 0.03308828344235486 and parameters: {'similarity': 'asymmetric', 'topK': 727, 'shrink': 592, 'feature_weighting': 'none', 'asymmetric_alpha': 0.6315569021665622}. Best is trial 225 with value: 0.042421652977767725.\n"
     ]
    },
    {
     "name": "stdout",
     "output_type": "stream",
     "text": [
      "Similarity column 35736 (100.0%), 2977.37 column/sec. Elapsed time 12.00 sec\n",
      "EvaluatorHoldout: Ignoring 173 ( 0.5%) Users that have less than 1 test interactions\n",
      "EvaluatorHoldout: Processed 35563 (100.0%) in 1.03 min. Users per second: 575\n",
      "Similarity column 35736 (100.0%), 2988.44 column/sec. Elapsed time 11.96 sec\n",
      "EvaluatorHoldout: Ignoring 163 ( 0.5%) Users that have less than 1 test interactions\n",
      "EvaluatorHoldout: Processed 35573 (100.0%) in 1.03 min. Users per second: 576\n",
      "Similarity column 35736 (100.0%), 2984.63 column/sec. Elapsed time 11.97 sec\n",
      "EvaluatorHoldout: Ignoring 150 ( 0.4%) Users that have less than 1 test interactions\n",
      "EvaluatorHoldout: Processed 35586 (100.0%) in 1.04 min. Users per second: 570\n",
      "Similarity column 35736 (100.0%), 2991.78 column/sec. Elapsed time 11.94 sec\n",
      "EvaluatorHoldout: Ignoring 167 ( 0.5%) Users that have less than 1 test interactions\n",
      "EvaluatorHoldout: Processed 35569 (100.0%) in 1.03 min. Users per second: 575\n",
      "Similarity column 35736 (100.0%), 2981.38 column/sec. Elapsed time 11.99 sec\n",
      "EvaluatorHoldout: Ignoring 172 ( 0.5%) Users that have less than 1 test interactions\n",
      "EvaluatorHoldout: Processed 35564 (100.0%) in 1.03 min. Users per second: 576\n"
     ]
    },
    {
     "name": "stderr",
     "output_type": "stream",
     "text": [
      "[I 2025-01-06 14:21:52,243] Trial 259 finished with value: 0.042306288827994906 and parameters: {'similarity': 'asymmetric', 'topK': 713, 'shrink': 526, 'feature_weighting': 'BM25', 'asymmetric_alpha': 0.7117899460419875}. Best is trial 225 with value: 0.042421652977767725.\n"
     ]
    },
    {
     "name": "stdout",
     "output_type": "stream",
     "text": [
      "Similarity column 35736 (100.0%), 3113.88 column/sec. Elapsed time 11.48 sec\n",
      "EvaluatorHoldout: Ignoring 173 ( 0.5%) Users that have less than 1 test interactions\n",
      "EvaluatorHoldout: Processed 35563 (100.0%) in 1.02 min. Users per second: 583\n",
      "Similarity column 35736 (100.0%), 3115.56 column/sec. Elapsed time 11.47 sec\n",
      "EvaluatorHoldout: Ignoring 163 ( 0.5%) Users that have less than 1 test interactions\n",
      "EvaluatorHoldout: Processed 35573 (100.0%) in 1.03 min. Users per second: 577\n",
      "Similarity column 35736 (100.0%), 3113.44 column/sec. Elapsed time 11.48 sec\n",
      "EvaluatorHoldout: Ignoring 150 ( 0.4%) Users that have less than 1 test interactions\n",
      "EvaluatorHoldout: Processed 35586 (100.0%) in 1.04 min. Users per second: 570\n",
      "Similarity column 35736 (100.0%), 3078.16 column/sec. Elapsed time 11.61 sec\n",
      "EvaluatorHoldout: Ignoring 167 ( 0.5%) Users that have less than 1 test interactions\n",
      "EvaluatorHoldout: Processed 35569 (100.0%) in 1.04 min. Users per second: 571\n",
      "Similarity column 35736 (100.0%), 3092.79 column/sec. Elapsed time 11.55 sec\n",
      "EvaluatorHoldout: Ignoring 172 ( 0.5%) Users that have less than 1 test interactions\n",
      "EvaluatorHoldout: Processed 35564 (100.0%) in 1.03 min. Users per second: 573\n"
     ]
    },
    {
     "name": "stderr",
     "output_type": "stream",
     "text": [
      "[I 2025-01-06 14:28:08,420] Trial 260 finished with value: 0.038901738565473194 and parameters: {'similarity': 'dice', 'topK': 734, 'shrink': 557, 'feature_weighting': 'BM25'}. Best is trial 225 with value: 0.042421652977767725.\n"
     ]
    },
    {
     "name": "stdout",
     "output_type": "stream",
     "text": [
      "Similarity column 35736 (100.0%), 285.02 column/sec. Elapsed time 2.09 min\n",
      "EvaluatorHoldout: Ignoring 173 ( 0.5%) Users that have less than 1 test interactions\n",
      "EvaluatorHoldout: Processed 35563 (100.0%) in 1.07 min. Users per second: 555\n",
      "Similarity column 35736 (100.0%), 300.91 column/sec. Elapsed time 1.98 min\n",
      "EvaluatorHoldout: Ignoring 163 ( 0.5%) Users that have less than 1 test interactions\n",
      "EvaluatorHoldout: Processed 35573 (100.0%) in 1.06 min. Users per second: 560\n",
      "Similarity column 35736 (100.0%), 300.16 column/sec. Elapsed time 1.98 min\n",
      "EvaluatorHoldout: Ignoring 150 ( 0.4%) Users that have less than 1 test interactions\n",
      "EvaluatorHoldout: Processed 35586 (100.0%) in 1.05 min. Users per second: 565\n",
      "Similarity column 35736 (100.0%), 298.30 column/sec. Elapsed time 2.00 min\n",
      "EvaluatorHoldout: Ignoring 167 ( 0.5%) Users that have less than 1 test interactions\n",
      "EvaluatorHoldout: Processed 35569 (100.0%) in 1.08 min. Users per second: 547\n",
      "Similarity column 35736 (100.0%), 283.25 column/sec. Elapsed time 2.10 min\n",
      "EvaluatorHoldout: Ignoring 172 ( 0.5%) Users that have less than 1 test interactions\n",
      "EvaluatorHoldout: Processed 35564 (100.0%) in 1.07 min. Users per second: 554\n"
     ]
    },
    {
     "name": "stderr",
     "output_type": "stream",
     "text": [
      "[I 2025-01-06 14:43:44,282] Trial 261 finished with value: 0.03126944980955811 and parameters: {'similarity': 'euclidean', 'topK': 722, 'shrink': 578, 'feature_weighting': 'BM25', 'normalize_avg_row': False, 'similarity_from_distance_mode': 'lin', 'normalize': True}. Best is trial 225 with value: 0.042421652977767725.\n"
     ]
    },
    {
     "name": "stdout",
     "output_type": "stream",
     "text": [
      "Similarity column 35736 (100.0%), 3005.27 column/sec. Elapsed time 11.89 sec\n",
      "EvaluatorHoldout: Ignoring 173 ( 0.5%) Users that have less than 1 test interactions\n",
      "EvaluatorHoldout: Processed 35563 (100.0%) in 1.03 min. Users per second: 576\n",
      "Similarity column 35736 (100.0%), 2994.53 column/sec. Elapsed time 11.93 sec\n",
      "EvaluatorHoldout: Ignoring 163 ( 0.5%) Users that have less than 1 test interactions\n",
      "EvaluatorHoldout: Processed 35573 (100.0%) in 1.02 min. Users per second: 582\n",
      "Similarity column 35736 (100.0%), 3001.13 column/sec. Elapsed time 11.91 sec\n",
      "EvaluatorHoldout: Ignoring 150 ( 0.4%) Users that have less than 1 test interactions\n",
      "EvaluatorHoldout: Processed 35586 (100.0%) in 1.03 min. Users per second: 577\n",
      "Similarity column 35736 (100.0%), 3005.02 column/sec. Elapsed time 11.89 sec\n",
      "EvaluatorHoldout: Ignoring 167 ( 0.5%) Users that have less than 1 test interactions\n",
      "EvaluatorHoldout: Processed 35569 (100.0%) in 1.04 min. Users per second: 572\n",
      "Similarity column 35736 (100.0%), 2969.95 column/sec. Elapsed time 12.03 sec\n",
      "EvaluatorHoldout: Ignoring 172 ( 0.5%) Users that have less than 1 test interactions\n",
      "EvaluatorHoldout: Processed 35564 (100.0%) in 1.04 min. Users per second: 571\n"
     ]
    },
    {
     "name": "stderr",
     "output_type": "stream",
     "text": [
      "[I 2025-01-06 14:50:00,677] Trial 262 finished with value: 0.04238477690013629 and parameters: {'similarity': 'asymmetric', 'topK': 735, 'shrink': 540, 'feature_weighting': 'BM25', 'asymmetric_alpha': 0.7740985328256695}. Best is trial 225 with value: 0.042421652977767725.\n"
     ]
    },
    {
     "name": "stdout",
     "output_type": "stream",
     "text": [
      "Similarity column 35736 (100.0%), 3002.15 column/sec. Elapsed time 11.90 sec\n",
      "EvaluatorHoldout: Ignoring 173 ( 0.5%) Users that have less than 1 test interactions\n",
      "EvaluatorHoldout: Processed 35563 (100.0%) in 1.02 min. Users per second: 579\n",
      "Similarity column 35736 (100.0%), 2997.30 column/sec. Elapsed time 11.92 sec\n",
      "EvaluatorHoldout: Ignoring 163 ( 0.5%) Users that have less than 1 test interactions\n",
      "EvaluatorHoldout: Processed 35573 (100.0%) in 1.02 min. Users per second: 583\n",
      "Similarity column 35736 (100.0%), 2978.50 column/sec. Elapsed time 12.00 sec\n",
      "EvaluatorHoldout: Ignoring 150 ( 0.4%) Users that have less than 1 test interactions\n",
      "EvaluatorHoldout: Processed 35586 (100.0%) in 1.01 min. Users per second: 585\n",
      "Similarity column 35736 (100.0%), 3004.70 column/sec. Elapsed time 11.89 sec\n",
      "EvaluatorHoldout: Ignoring 167 ( 0.5%) Users that have less than 1 test interactions\n",
      "EvaluatorHoldout: Processed 35569 (100.0%) in 1.02 min. Users per second: 580\n",
      "Similarity column 35736 (100.0%), 2995.62 column/sec. Elapsed time 11.93 sec\n",
      "EvaluatorHoldout: Ignoring 172 ( 0.5%) Users that have less than 1 test interactions\n",
      "EvaluatorHoldout: Processed 35564 (100.0%) in 1.02 min. Users per second: 581\n"
     ]
    },
    {
     "name": "stderr",
     "output_type": "stream",
     "text": [
      "[I 2025-01-06 14:56:13,956] Trial 263 finished with value: 0.042264826991122835 and parameters: {'similarity': 'asymmetric', 'topK': 699, 'shrink': 507, 'feature_weighting': 'BM25', 'asymmetric_alpha': 0.7702802156517514}. Best is trial 225 with value: 0.042421652977767725.\n"
     ]
    },
    {
     "name": "stdout",
     "output_type": "stream",
     "text": [
      "Similarity column 35736 (100.0%), 2985.08 column/sec. Elapsed time 11.97 sec\n",
      "EvaluatorHoldout: Ignoring 173 ( 0.5%) Users that have less than 1 test interactions\n",
      "EvaluatorHoldout: Processed 35563 (100.0%) in 1.04 min. Users per second: 571\n",
      "Similarity column 35736 (100.0%), 2996.99 column/sec. Elapsed time 11.92 sec\n",
      "EvaluatorHoldout: Ignoring 163 ( 0.5%) Users that have less than 1 test interactions\n",
      "EvaluatorHoldout: Processed 35573 (100.0%) in 1.04 min. Users per second: 572\n",
      "Similarity column 35736 (100.0%), 2995.34 column/sec. Elapsed time 11.93 sec\n",
      "EvaluatorHoldout: Ignoring 150 ( 0.4%) Users that have less than 1 test interactions\n",
      "EvaluatorHoldout: Processed 35586 (100.0%) in 1.03 min. Users per second: 578\n",
      "Similarity column 35736 (100.0%), 2982.41 column/sec. Elapsed time 11.98 sec\n",
      "EvaluatorHoldout: Ignoring 167 ( 0.5%) Users that have less than 1 test interactions\n",
      "EvaluatorHoldout: Processed 35569 (100.0%) in 1.03 min. Users per second: 576\n",
      "Similarity column 35736 (100.0%), 3003.57 column/sec. Elapsed time 11.90 sec\n",
      "EvaluatorHoldout: Ignoring 172 ( 0.5%) Users that have less than 1 test interactions\n",
      "EvaluatorHoldout: Processed 35564 (100.0%) in 1.03 min. Users per second: 574\n"
     ]
    },
    {
     "name": "stderr",
     "output_type": "stream",
     "text": [
      "[I 2025-01-06 15:02:30,995] Trial 264 finished with value: 0.04235980477601002 and parameters: {'similarity': 'asymmetric', 'topK': 734, 'shrink': 551, 'feature_weighting': 'BM25', 'asymmetric_alpha': 0.7984092338169169}. Best is trial 225 with value: 0.042421652977767725.\n"
     ]
    },
    {
     "name": "stdout",
     "output_type": "stream",
     "text": [
      "Similarity column 35736 (100.0%), 2962.50 column/sec. Elapsed time 12.06 sec\n",
      "EvaluatorHoldout: Ignoring 173 ( 0.5%) Users that have less than 1 test interactions\n",
      "EvaluatorHoldout: Processed 35563 (100.0%) in 1.04 min. Users per second: 569\n",
      "Similarity column 35736 (100.0%), 3003.47 column/sec. Elapsed time 11.90 sec\n",
      "EvaluatorHoldout: Ignoring 163 ( 0.5%) Users that have less than 1 test interactions\n",
      "EvaluatorHoldout: Processed 35573 (100.0%) in 1.03 min. Users per second: 575\n",
      "Similarity column 35736 (100.0%), 2979.49 column/sec. Elapsed time 11.99 sec\n",
      "EvaluatorHoldout: Ignoring 150 ( 0.4%) Users that have less than 1 test interactions\n",
      "EvaluatorHoldout: Processed 35586 (100.0%) in 1.04 min. Users per second: 572\n",
      "Similarity column 35736 (100.0%), 2981.22 column/sec. Elapsed time 11.99 sec\n",
      "EvaluatorHoldout: Ignoring 167 ( 0.5%) Users that have less than 1 test interactions\n",
      "EvaluatorHoldout: Processed 35569 (100.0%) in 1.03 min. Users per second: 574\n",
      "Similarity column 35736 (100.0%), 2980.42 column/sec. Elapsed time 11.99 sec\n",
      "EvaluatorHoldout: Ignoring 172 ( 0.5%) Users that have less than 1 test interactions\n",
      "EvaluatorHoldout: Processed 35564 (100.0%) in 1.04 min. Users per second: 569\n"
     ]
    },
    {
     "name": "stderr",
     "output_type": "stream",
     "text": [
      "[I 2025-01-06 15:08:49,995] Trial 265 finished with value: 0.04235820056689206 and parameters: {'similarity': 'asymmetric', 'topK': 736, 'shrink': 536, 'feature_weighting': 'BM25', 'asymmetric_alpha': 0.8014590501310963}. Best is trial 225 with value: 0.042421652977767725.\n"
     ]
    },
    {
     "name": "stdout",
     "output_type": "stream",
     "text": [
      "Similarity column 35736 (100.0%), 3059.20 column/sec. Elapsed time 11.68 sec\n",
      "EvaluatorHoldout: Ignoring 173 ( 0.5%) Users that have less than 1 test interactions\n",
      "EvaluatorHoldout: Processed 35563 (100.0%) in 1.03 min. Users per second: 577\n",
      "Similarity column 35736 (100.0%), 3072.86 column/sec. Elapsed time 11.63 sec\n",
      "EvaluatorHoldout: Ignoring 163 ( 0.5%) Users that have less than 1 test interactions\n",
      "EvaluatorHoldout: Processed 35573 (100.0%) in 1.03 min. Users per second: 577\n",
      "Similarity column 35736 (100.0%), 3066.62 column/sec. Elapsed time 11.65 sec\n",
      "EvaluatorHoldout: Ignoring 150 ( 0.4%) Users that have less than 1 test interactions\n",
      "EvaluatorHoldout: Processed 35586 (100.0%) in 1.02 min. Users per second: 580\n",
      "Similarity column 35736 (100.0%), 3067.71 column/sec. Elapsed time 11.65 sec\n",
      "EvaluatorHoldout: Ignoring 167 ( 0.5%) Users that have less than 1 test interactions\n",
      "EvaluatorHoldout: Processed 35569 (100.0%) in 1.03 min. Users per second: 574\n",
      "Similarity column 35736 (100.0%), 3057.55 column/sec. Elapsed time 11.69 sec\n",
      "EvaluatorHoldout: Ignoring 172 ( 0.5%) Users that have less than 1 test interactions\n",
      "EvaluatorHoldout: Processed 35564 (100.0%) in 1.02 min. Users per second: 582\n"
     ]
    },
    {
     "name": "stderr",
     "output_type": "stream",
     "text": [
      "[I 2025-01-06 15:15:04,662] Trial 266 finished with value: 0.03891177481482007 and parameters: {'similarity': 'jaccard', 'topK': 737, 'shrink': 538, 'feature_weighting': 'BM25'}. Best is trial 225 with value: 0.042421652977767725.\n"
     ]
    },
    {
     "name": "stdout",
     "output_type": "stream",
     "text": [
      "Similarity column 35736 (100.0%), 3005.10 column/sec. Elapsed time 11.89 sec\n",
      "EvaluatorHoldout: Ignoring 173 ( 0.5%) Users that have less than 1 test interactions\n",
      "EvaluatorHoldout: Processed 35563 (100.0%) in 1.02 min. Users per second: 580\n",
      "Similarity column 35736 (100.0%), 2991.56 column/sec. Elapsed time 11.95 sec\n",
      "EvaluatorHoldout: Ignoring 163 ( 0.5%) Users that have less than 1 test interactions\n",
      "EvaluatorHoldout: Processed 35573 (100.0%) in 1.02 min. Users per second: 582\n",
      "Similarity column 35736 (100.0%), 2984.93 column/sec. Elapsed time 11.97 sec\n",
      "EvaluatorHoldout: Ignoring 150 ( 0.4%) Users that have less than 1 test interactions\n",
      "EvaluatorHoldout: Processed 35586 (100.0%) in 1.03 min. Users per second: 576\n",
      "Similarity column 35736 (100.0%), 2973.95 column/sec. Elapsed time 12.02 sec\n",
      "EvaluatorHoldout: Ignoring 167 ( 0.5%) Users that have less than 1 test interactions\n",
      "EvaluatorHoldout: Processed 35569 (100.0%) in 1.03 min. Users per second: 573\n",
      "Similarity column 35736 (100.0%), 2989.73 column/sec. Elapsed time 11.95 sec\n",
      "EvaluatorHoldout: Ignoring 172 ( 0.5%) Users that have less than 1 test interactions\n",
      "EvaluatorHoldout: Processed 35564 (100.0%) in 1.03 min. Users per second: 576\n"
     ]
    },
    {
     "name": "stderr",
     "output_type": "stream",
     "text": [
      "[I 2025-01-06 15:21:20,894] Trial 267 finished with value: 0.04230214123841079 and parameters: {'similarity': 'asymmetric', 'topK': 714, 'shrink': 520, 'feature_weighting': 'BM25', 'asymmetric_alpha': 0.7987229452169856}. Best is trial 225 with value: 0.042421652977767725.\n"
     ]
    },
    {
     "name": "stdout",
     "output_type": "stream",
     "text": [
      "Similarity column 35736 (100.0%), 2984.76 column/sec. Elapsed time 11.97 sec\n",
      "EvaluatorHoldout: Ignoring 173 ( 0.5%) Users that have less than 1 test interactions\n",
      "EvaluatorHoldout: Processed 35563 (100.0%) in 1.05 min. Users per second: 563\n",
      "Similarity column 35736 (100.0%), 2975.93 column/sec. Elapsed time 12.01 sec\n",
      "EvaluatorHoldout: Ignoring 163 ( 0.5%) Users that have less than 1 test interactions\n",
      "EvaluatorHoldout: Processed 35573 (100.0%) in 1.05 min. Users per second: 567\n",
      "Similarity column 35736 (100.0%), 2969.83 column/sec. Elapsed time 12.03 sec\n",
      "EvaluatorHoldout: Ignoring 150 ( 0.4%) Users that have less than 1 test interactions\n",
      "EvaluatorHoldout: Processed 35586 (100.0%) in 1.05 min. Users per second: 563\n",
      "Similarity column 35736 (100.0%), 2974.91 column/sec. Elapsed time 12.01 sec\n",
      "EvaluatorHoldout: Ignoring 167 ( 0.5%) Users that have less than 1 test interactions\n",
      "EvaluatorHoldout: Processed 35569 (100.0%) in 1.05 min. Users per second: 564\n",
      "Similarity column 35736 (100.0%), 2967.88 column/sec. Elapsed time 12.04 sec\n",
      "EvaluatorHoldout: Ignoring 172 ( 0.5%) Users that have less than 1 test interactions\n",
      "EvaluatorHoldout: Processed 35564 (100.0%) in 1.04 min. Users per second: 570\n"
     ]
    },
    {
     "name": "stderr",
     "output_type": "stream",
     "text": [
      "[I 2025-01-06 15:27:43,766] Trial 268 finished with value: 0.042394893127948266 and parameters: {'similarity': 'asymmetric', 'topK': 733, 'shrink': 466, 'feature_weighting': 'BM25', 'asymmetric_alpha': 0.6926876127248385}. Best is trial 225 with value: 0.042421652977767725.\n"
     ]
    },
    {
     "name": "stdout",
     "output_type": "stream",
     "text": [
      "Similarity column 35736 (100.0%), 2995.97 column/sec. Elapsed time 11.93 sec\n",
      "EvaluatorHoldout: Ignoring 173 ( 0.5%) Users that have less than 1 test interactions\n",
      "EvaluatorHoldout: Processed 35563 (100.0%) in 1.04 min. Users per second: 570\n",
      "Similarity column 35736 (100.0%), 2948.53 column/sec. Elapsed time 12.12 sec\n",
      "EvaluatorHoldout: Ignoring 163 ( 0.5%) Users that have less than 1 test interactions\n",
      "EvaluatorHoldout: Processed 35573 (100.0%) in 1.04 min. Users per second: 569\n",
      "Similarity column 35736 (100.0%), 2985.70 column/sec. Elapsed time 11.97 sec\n",
      "EvaluatorHoldout: Ignoring 150 ( 0.4%) Users that have less than 1 test interactions\n",
      "EvaluatorHoldout: Processed 35586 (100.0%) in 1.04 min. Users per second: 569\n",
      "Similarity column 35736 (100.0%), 2986.28 column/sec. Elapsed time 11.97 sec\n",
      "EvaluatorHoldout: Ignoring 167 ( 0.5%) Users that have less than 1 test interactions\n",
      "EvaluatorHoldout: Processed 35569 (100.0%) in 1.04 min. Users per second: 572\n",
      "Similarity column 35736 (100.0%), 2962.01 column/sec. Elapsed time 12.06 sec\n",
      "EvaluatorHoldout: Ignoring 172 ( 0.5%) Users that have less than 1 test interactions\n",
      "EvaluatorHoldout: Processed 35564 (100.0%) in 1.04 min. Users per second: 570\n"
     ]
    },
    {
     "name": "stderr",
     "output_type": "stream",
     "text": [
      "[I 2025-01-06 15:34:04,025] Trial 269 finished with value: 0.04239061256762724 and parameters: {'similarity': 'asymmetric', 'topK': 735, 'shrink': 496, 'feature_weighting': 'BM25', 'asymmetric_alpha': 0.6998571023630951}. Best is trial 225 with value: 0.042421652977767725.\n"
     ]
    },
    {
     "name": "stdout",
     "output_type": "stream",
     "text": [
      "Similarity column 35736 (100.0%), 2979.57 column/sec. Elapsed time 11.99 sec\n",
      "EvaluatorHoldout: Ignoring 173 ( 0.5%) Users that have less than 1 test interactions\n",
      "EvaluatorHoldout: Processed 35563 (100.0%) in 1.06 min. Users per second: 559\n",
      "Similarity column 35736 (100.0%), 2962.13 column/sec. Elapsed time 12.06 sec\n",
      "EvaluatorHoldout: Ignoring 163 ( 0.5%) Users that have less than 1 test interactions\n",
      "EvaluatorHoldout: Processed 35573 (100.0%) in 1.05 min. Users per second: 565\n",
      "Similarity column 35736 (100.0%), 2990.32 column/sec. Elapsed time 11.95 sec\n",
      "EvaluatorHoldout: Ignoring 150 ( 0.4%) Users that have less than 1 test interactions\n",
      "EvaluatorHoldout: Processed 35586 (100.0%) in 1.05 min. Users per second: 563\n",
      "Similarity column 35736 (100.0%), 2988.94 column/sec. Elapsed time 11.96 sec\n",
      "EvaluatorHoldout: Ignoring 167 ( 0.5%) Users that have less than 1 test interactions\n",
      "EvaluatorHoldout: Processed 35569 (100.0%) in 1.06 min. Users per second: 561\n",
      "Similarity column 35736 (100.0%), 2962.84 column/sec. Elapsed time 12.06 sec\n",
      "EvaluatorHoldout: Ignoring 172 ( 0.5%) Users that have less than 1 test interactions\n",
      "EvaluatorHoldout: Processed 35564 (100.0%) in 1.05 min. Users per second: 564\n"
     ]
    },
    {
     "name": "stderr",
     "output_type": "stream",
     "text": [
      "[I 2025-01-06 15:40:28,379] Trial 270 finished with value: 0.04243332795278116 and parameters: {'similarity': 'asymmetric', 'topK': 750, 'shrink': 467, 'feature_weighting': 'BM25', 'asymmetric_alpha': 0.6871507375195025}. Best is trial 270 with value: 0.04243332795278116.\n"
     ]
    },
    {
     "name": "stdout",
     "output_type": "stream",
     "text": [
      "Similarity column 35736 (100.0%), 2984.74 column/sec. Elapsed time 11.97 sec\n",
      "EvaluatorHoldout: Ignoring 173 ( 0.5%) Users that have less than 1 test interactions\n",
      "EvaluatorHoldout: Processed 35563 (100.0%) in 1.06 min. Users per second: 559\n",
      "Similarity column 35736 (100.0%), 2956.69 column/sec. Elapsed time 12.09 sec\n",
      "EvaluatorHoldout: Ignoring 163 ( 0.5%) Users that have less than 1 test interactions\n",
      "EvaluatorHoldout: Processed 35573 (100.0%) in 1.06 min. Users per second: 561\n",
      "Similarity column 35736 (100.0%), 2952.55 column/sec. Elapsed time 12.10 sec\n",
      "EvaluatorHoldout: Ignoring 150 ( 0.4%) Users that have less than 1 test interactions\n",
      "EvaluatorHoldout: Processed 35586 (100.0%) in 1.06 min. Users per second: 562\n",
      "Similarity column 35736 (100.0%), 2964.57 column/sec. Elapsed time 12.05 sec\n",
      "EvaluatorHoldout: Ignoring 167 ( 0.5%) Users that have less than 1 test interactions\n",
      "EvaluatorHoldout: Processed 35569 (100.0%) in 1.06 min. Users per second: 562\n",
      "Similarity column 35736 (100.0%), 2976.24 column/sec. Elapsed time 12.01 sec\n",
      "EvaluatorHoldout: Ignoring 172 ( 0.5%) Users that have less than 1 test interactions\n",
      "EvaluatorHoldout: Processed 35564 (100.0%) in 1.05 min. Users per second: 564\n"
     ]
    },
    {
     "name": "stderr",
     "output_type": "stream",
     "text": [
      "[I 2025-01-06 15:46:53,444] Trial 271 finished with value: 0.042378915961777536 and parameters: {'similarity': 'asymmetric', 'topK': 738, 'shrink': 490, 'feature_weighting': 'BM25', 'asymmetric_alpha': 0.6818973324472543}. Best is trial 270 with value: 0.04243332795278116.\n"
     ]
    },
    {
     "name": "stdout",
     "output_type": "stream",
     "text": [
      "Similarity column 35736 (100.0%), 2962.66 column/sec. Elapsed time 12.06 sec\n",
      "EvaluatorHoldout: Ignoring 173 ( 0.5%) Users that have less than 1 test interactions\n",
      "EvaluatorHoldout: Processed 35563 (100.0%) in 1.06 min. Users per second: 559\n",
      "Similarity column 35736 (100.0%), 2964.56 column/sec. Elapsed time 12.05 sec\n",
      "EvaluatorHoldout: Ignoring 163 ( 0.5%) Users that have less than 1 test interactions\n",
      "EvaluatorHoldout: Processed 35573 (100.0%) in 1.05 min. Users per second: 565\n",
      "Similarity column 35736 (100.0%), 2967.08 column/sec. Elapsed time 12.04 sec\n",
      "EvaluatorHoldout: Ignoring 150 ( 0.4%) Users that have less than 1 test interactions\n",
      "EvaluatorHoldout: Processed 35586 (100.0%) in 1.06 min. Users per second: 561\n",
      "Similarity column 35736 (100.0%), 2949.48 column/sec. Elapsed time 12.12 sec\n",
      "EvaluatorHoldout: Ignoring 167 ( 0.5%) Users that have less than 1 test interactions\n",
      "EvaluatorHoldout: Processed 35569 (100.0%) in 1.06 min. Users per second: 561\n",
      "Similarity column 35736 (100.0%), 2974.25 column/sec. Elapsed time 12.02 sec\n",
      "EvaluatorHoldout: Ignoring 172 ( 0.5%) Users that have less than 1 test interactions\n",
      "EvaluatorHoldout: Processed 35564 (100.0%) in 1.05 min. Users per second: 564\n"
     ]
    },
    {
     "name": "stderr",
     "output_type": "stream",
     "text": [
      "[I 2025-01-06 15:53:18,851] Trial 272 finished with value: 0.04237486716902607 and parameters: {'similarity': 'asymmetric', 'topK': 749, 'shrink': 485, 'feature_weighting': 'BM25', 'asymmetric_alpha': 0.6551025917830133}. Best is trial 270 with value: 0.04243332795278116.\n"
     ]
    },
    {
     "name": "stdout",
     "output_type": "stream",
     "text": [
      "Similarity column 35736 (100.0%), 2996.83 column/sec. Elapsed time 11.92 sec\n",
      "EvaluatorHoldout: Ignoring 173 ( 0.5%) Users that have less than 1 test interactions\n",
      "EvaluatorHoldout: Processed 35563 (100.0%) in 57.98 sec. Users per second: 613\n",
      "Similarity column 35736 (100.0%), 2985.74 column/sec. Elapsed time 11.97 sec\n",
      "EvaluatorHoldout: Ignoring 163 ( 0.5%) Users that have less than 1 test interactions\n",
      "EvaluatorHoldout: Processed 35573 (100.0%) in 57.36 sec. Users per second: 620\n",
      "Similarity column 35736 (100.0%), 3018.58 column/sec. Elapsed time 11.84 sec\n",
      "EvaluatorHoldout: Ignoring 150 ( 0.4%) Users that have less than 1 test interactions\n",
      "EvaluatorHoldout: Processed 35586 (100.0%) in 57.66 sec. Users per second: 617\n",
      "Similarity column 35736 (100.0%), 3020.87 column/sec. Elapsed time 11.83 sec\n",
      "EvaluatorHoldout: Ignoring 167 ( 0.5%) Users that have less than 1 test interactions\n",
      "EvaluatorHoldout: Processed 35569 (100.0%) in 57.12 sec. Users per second: 623\n",
      "Similarity column 35736 (100.0%), 3025.27 column/sec. Elapsed time 11.81 sec\n",
      "EvaluatorHoldout: Ignoring 172 ( 0.5%) Users that have less than 1 test interactions\n",
      "EvaluatorHoldout: Processed 35564 (100.0%) in 57.28 sec. Users per second: 621\n"
     ]
    },
    {
     "name": "stderr",
     "output_type": "stream",
     "text": [
      "[I 2025-01-06 15:59:11,960] Trial 273 finished with value: 0.041392585020335194 and parameters: {'similarity': 'asymmetric', 'topK': 513, 'shrink': 450, 'feature_weighting': 'BM25', 'asymmetric_alpha': 0.6406365983074368}. Best is trial 270 with value: 0.04243332795278116.\n"
     ]
    },
    {
     "name": "stdout",
     "output_type": "stream",
     "text": [
      "Similarity column 35736 (100.0%), 2937.92 column/sec. Elapsed time 12.16 sec\n",
      "EvaluatorHoldout: Ignoring 173 ( 0.5%) Users that have less than 1 test interactions\n",
      "EvaluatorHoldout: Processed 35563 (100.0%) in 1.06 min. Users per second: 559\n",
      "Similarity column 35736 (100.0%), 2970.52 column/sec. Elapsed time 12.03 sec\n",
      "EvaluatorHoldout: Ignoring 163 ( 0.5%) Users that have less than 1 test interactions\n",
      "EvaluatorHoldout: Processed 35573 (100.0%) in 1.05 min. Users per second: 563\n",
      "Similarity column 35736 (100.0%), 2947.90 column/sec. Elapsed time 12.12 sec\n",
      "EvaluatorHoldout: Ignoring 150 ( 0.4%) Users that have less than 1 test interactions\n",
      "EvaluatorHoldout: Processed 35586 (100.0%) in 1.07 min. Users per second: 555\n",
      "Similarity column 35736 (100.0%), 2965.28 column/sec. Elapsed time 12.05 sec\n",
      "EvaluatorHoldout: Ignoring 167 ( 0.5%) Users that have less than 1 test interactions\n",
      "EvaluatorHoldout: Processed 35569 (100.0%) in 1.06 min. Users per second: 561\n",
      "Similarity column 35736 (100.0%), 2982.77 column/sec. Elapsed time 11.98 sec\n",
      "EvaluatorHoldout: Ignoring 172 ( 0.5%) Users that have less than 1 test interactions\n",
      "EvaluatorHoldout: Processed 35564 (100.0%) in 1.05 min. Users per second: 563\n"
     ]
    },
    {
     "name": "stderr",
     "output_type": "stream",
     "text": [
      "[I 2025-01-06 16:05:38,276] Trial 274 finished with value: 0.04230041607293176 and parameters: {'similarity': 'asymmetric', 'topK': 749, 'shrink': 466, 'feature_weighting': 'BM25', 'asymmetric_alpha': 0.5900150301128442}. Best is trial 270 with value: 0.04243332795278116.\n"
     ]
    },
    {
     "name": "stdout",
     "output_type": "stream",
     "text": [
      "Similarity column 35736 (100.0%), 2965.81 column/sec. Elapsed time 12.05 sec\n",
      "EvaluatorHoldout: Ignoring 173 ( 0.5%) Users that have less than 1 test interactions\n",
      "EvaluatorHoldout: Processed 35563 (100.0%) in 1.05 min. Users per second: 563\n",
      "Similarity column 35736 (100.0%), 2978.20 column/sec. Elapsed time 12.00 sec\n",
      "EvaluatorHoldout: Ignoring 163 ( 0.5%) Users that have less than 1 test interactions\n",
      "EvaluatorHoldout: Processed 35573 (100.0%) in 1.06 min. Users per second: 562\n",
      "Similarity column 35736 (100.0%), 2956.90 column/sec. Elapsed time 12.09 sec\n",
      "EvaluatorHoldout: Ignoring 150 ( 0.4%) Users that have less than 1 test interactions\n",
      "EvaluatorHoldout: Processed 35586 (100.0%) in 1.06 min. Users per second: 561\n",
      "Similarity column 35736 (100.0%), 2957.86 column/sec. Elapsed time 12.08 sec\n",
      "EvaluatorHoldout: Ignoring 167 ( 0.5%) Users that have less than 1 test interactions\n",
      "EvaluatorHoldout: Processed 35569 (100.0%) in 1.06 min. Users per second: 560\n",
      "Similarity column 35736 (100.0%), 2944.40 column/sec. Elapsed time 12.14 sec\n",
      "EvaluatorHoldout: Ignoring 172 ( 0.5%) Users that have less than 1 test interactions\n",
      "EvaluatorHoldout: Processed 35564 (100.0%) in 1.06 min. Users per second: 561\n"
     ]
    },
    {
     "name": "stderr",
     "output_type": "stream",
     "text": [
      "[I 2025-01-06 16:12:03,833] Trial 275 finished with value: 0.04241506002410401 and parameters: {'similarity': 'asymmetric', 'topK': 750, 'shrink': 485, 'feature_weighting': 'BM25', 'asymmetric_alpha': 0.6739504543682592}. Best is trial 270 with value: 0.04243332795278116.\n"
     ]
    },
    {
     "name": "stdout",
     "output_type": "stream",
     "text": [
      "Similarity column 35736 (100.0%), 2983.13 column/sec. Elapsed time 11.98 sec\n",
      "EvaluatorHoldout: Ignoring 173 ( 0.5%) Users that have less than 1 test interactions\n",
      "EvaluatorHoldout: Processed 35563 (100.0%) in 1.06 min. Users per second: 560\n",
      "Similarity column 35736 (100.0%), 2972.55 column/sec. Elapsed time 12.02 sec\n",
      "EvaluatorHoldout: Ignoring 163 ( 0.5%) Users that have less than 1 test interactions\n",
      "EvaluatorHoldout: Processed 35573 (100.0%) in 1.05 min. Users per second: 563\n",
      "Similarity column 35736 (100.0%), 2946.48 column/sec. Elapsed time 12.13 sec\n",
      "EvaluatorHoldout: Ignoring 150 ( 0.4%) Users that have less than 1 test interactions\n",
      "EvaluatorHoldout: Processed 35586 (100.0%) in 1.06 min. Users per second: 562\n",
      "Similarity column 35736 (100.0%), 2979.60 column/sec. Elapsed time 11.99 sec\n",
      "EvaluatorHoldout: Ignoring 167 ( 0.5%) Users that have less than 1 test interactions\n",
      "EvaluatorHoldout: Processed 35569 (100.0%) in 1.05 min. Users per second: 565\n",
      "Similarity column 35736 (100.0%), 2954.48 column/sec. Elapsed time 12.10 sec\n",
      "EvaluatorHoldout: Ignoring 172 ( 0.5%) Users that have less than 1 test interactions\n",
      "EvaluatorHoldout: Processed 35564 (100.0%) in 1.05 min. Users per second: 562\n"
     ]
    },
    {
     "name": "stderr",
     "output_type": "stream",
     "text": [
      "[I 2025-01-06 16:18:28,741] Trial 276 finished with value: 0.04235119887211903 and parameters: {'similarity': 'asymmetric', 'topK': 740, 'shrink': 481, 'feature_weighting': 'BM25', 'asymmetric_alpha': 0.6518179494630594}. Best is trial 270 with value: 0.04243332795278116.\n"
     ]
    },
    {
     "name": "stdout",
     "output_type": "stream",
     "text": [
      "Similarity column 35736 (100.0%), 2963.43 column/sec. Elapsed time 12.06 sec\n",
      "EvaluatorHoldout: Ignoring 173 ( 0.5%) Users that have less than 1 test interactions\n",
      "EvaluatorHoldout: Processed 35563 (100.0%) in 1.06 min. Users per second: 560\n",
      "Similarity column 35736 (100.0%), 2963.68 column/sec. Elapsed time 12.06 sec\n",
      "EvaluatorHoldout: Ignoring 163 ( 0.5%) Users that have less than 1 test interactions\n",
      "EvaluatorHoldout: Processed 35573 (100.0%) in 1.06 min. Users per second: 561\n",
      "Similarity column 35736 (100.0%), 2960.63 column/sec. Elapsed time 12.07 sec\n",
      "EvaluatorHoldout: Ignoring 150 ( 0.4%) Users that have less than 1 test interactions\n",
      "EvaluatorHoldout: Processed 35586 (100.0%) in 1.05 min. Users per second: 562\n",
      "Similarity column 35736 (100.0%), 2968.55 column/sec. Elapsed time 12.04 sec\n",
      "EvaluatorHoldout: Ignoring 167 ( 0.5%) Users that have less than 1 test interactions\n",
      "EvaluatorHoldout: Processed 35569 (100.0%) in 1.06 min. Users per second: 557\n",
      "Similarity column 35736 (100.0%), 2976.53 column/sec. Elapsed time 12.01 sec\n",
      "EvaluatorHoldout: Ignoring 172 ( 0.5%) Users that have less than 1 test interactions\n",
      "EvaluatorHoldout: Processed 35564 (100.0%) in 1.05 min. Users per second: 563\n"
     ]
    },
    {
     "name": "stderr",
     "output_type": "stream",
     "text": [
      "[I 2025-01-06 16:24:54,293] Trial 277 finished with value: 0.0423431155190652 and parameters: {'similarity': 'asymmetric', 'topK': 739, 'shrink': 484, 'feature_weighting': 'BM25', 'asymmetric_alpha': 0.6518730107571727}. Best is trial 270 with value: 0.04243332795278116.\n"
     ]
    },
    {
     "name": "stdout",
     "output_type": "stream",
     "text": [
      "Similarity column 35736 (100.0%), 2976.68 column/sec. Elapsed time 12.01 sec\n",
      "EvaluatorHoldout: Ignoring 173 ( 0.5%) Users that have less than 1 test interactions\n",
      "EvaluatorHoldout: Processed 35563 (100.0%) in 1.06 min. Users per second: 559\n",
      "Similarity column 35736 (100.0%), 2966.03 column/sec. Elapsed time 12.05 sec\n",
      "EvaluatorHoldout: Ignoring 163 ( 0.5%) Users that have less than 1 test interactions\n",
      "EvaluatorHoldout: Processed 35573 (100.0%) in 1.06 min. Users per second: 560\n",
      "Similarity column 35736 (100.0%), 2993.77 column/sec. Elapsed time 11.94 sec\n",
      "EvaluatorHoldout: Ignoring 150 ( 0.4%) Users that have less than 1 test interactions\n",
      "EvaluatorHoldout: Processed 35586 (100.0%) in 1.05 min. Users per second: 564\n",
      "Similarity column 35736 (100.0%), 2981.10 column/sec. Elapsed time 11.99 sec\n",
      "EvaluatorHoldout: Ignoring 167 ( 0.5%) Users that have less than 1 test interactions\n",
      "EvaluatorHoldout: Processed 35569 (100.0%) in 1.05 min. Users per second: 564\n",
      "Similarity column 35736 (100.0%), 2978.30 column/sec. Elapsed time 12.00 sec\n",
      "EvaluatorHoldout: Ignoring 172 ( 0.5%) Users that have less than 1 test interactions\n",
      "EvaluatorHoldout: Processed 35564 (100.0%) in 1.05 min. Users per second: 563\n"
     ]
    },
    {
     "name": "stderr",
     "output_type": "stream",
     "text": [
      "[I 2025-01-06 16:31:18,746] Trial 278 finished with value: 0.0421740515898673 and parameters: {'similarity': 'asymmetric', 'topK': 739, 'shrink': 476, 'feature_weighting': 'BM25', 'asymmetric_alpha': 0.5355465506159282}. Best is trial 270 with value: 0.04243332795278116.\n"
     ]
    },
    {
     "name": "stdout",
     "output_type": "stream",
     "text": [
      "Similarity column 35736 (100.0%), 2815.18 column/sec. Elapsed time 12.69 sec\n",
      "EvaluatorHoldout: Ignoring 173 ( 0.5%) Users that have less than 1 test interactions\n",
      "EvaluatorHoldout: Processed 35563 (100.0%) in 1.03 min. Users per second: 575\n",
      "Similarity column 35736 (100.0%), 2813.23 column/sec. Elapsed time 12.70 sec\n",
      "EvaluatorHoldout: Ignoring 163 ( 0.5%) Users that have less than 1 test interactions\n",
      "EvaluatorHoldout: Processed 35573 (100.0%) in 1.02 min. Users per second: 582\n",
      "Similarity column 35736 (100.0%), 2805.91 column/sec. Elapsed time 12.74 sec\n",
      "EvaluatorHoldout: Ignoring 150 ( 0.4%) Users that have less than 1 test interactions\n",
      "EvaluatorHoldout: Processed 35586 (100.0%) in 1.03 min. Users per second: 577\n",
      "Similarity column 35736 (100.0%), 2788.03 column/sec. Elapsed time 12.82 sec\n",
      "EvaluatorHoldout: Ignoring 167 ( 0.5%) Users that have less than 1 test interactions\n",
      "EvaluatorHoldout: Processed 35569 (100.0%) in 1.03 min. Users per second: 576\n",
      "Similarity column 35736 (100.0%), 2804.80 column/sec. Elapsed time 12.74 sec\n",
      "EvaluatorHoldout: Ignoring 172 ( 0.5%) Users that have less than 1 test interactions\n",
      "EvaluatorHoldout: Processed 35564 (100.0%) in 1.02 min. Users per second: 580\n"
     ]
    },
    {
     "name": "stderr",
     "output_type": "stream",
     "text": [
      "[I 2025-01-06 16:37:39,884] Trial 279 finished with value: 0.03360444557555732 and parameters: {'similarity': 'tversky', 'topK': 743, 'shrink': 461, 'feature_weighting': 'TF-IDF', 'tversky_alpha': 0.6207373203037436, 'tversky_beta': 0.8236172777394507}. Best is trial 270 with value: 0.04243332795278116.\n"
     ]
    },
    {
     "name": "stdout",
     "output_type": "stream",
     "text": [
      "Similarity column 35736 (100.0%), 3107.46 column/sec. Elapsed time 11.50 sec\n",
      "EvaluatorHoldout: Ignoring 173 ( 0.5%) Users that have less than 1 test interactions\n",
      "EvaluatorHoldout: Processed 35563 (100.0%) in 49.48 sec. Users per second: 719\n",
      "Similarity column 35736 (100.0%), 3088.25 column/sec. Elapsed time 11.57 sec\n",
      "EvaluatorHoldout: Ignoring 163 ( 0.5%) Users that have less than 1 test interactions\n",
      "EvaluatorHoldout: Processed 35573 (100.0%) in 49.71 sec. Users per second: 716\n",
      "Similarity column 35736 (100.0%), 3094.04 column/sec. Elapsed time 11.55 sec\n",
      "EvaluatorHoldout: Ignoring 150 ( 0.4%) Users that have less than 1 test interactions\n",
      "EvaluatorHoldout: Processed 35586 (100.0%) in 49.69 sec. Users per second: 716\n",
      "Similarity column 35736 (100.0%), 3086.71 column/sec. Elapsed time 11.58 sec\n",
      "EvaluatorHoldout: Ignoring 167 ( 0.5%) Users that have less than 1 test interactions\n",
      "EvaluatorHoldout: Processed 35569 (100.0%) in 49.91 sec. Users per second: 713\n",
      "Similarity column 35736 (100.0%), 3082.15 column/sec. Elapsed time 11.59 sec\n",
      "EvaluatorHoldout: Ignoring 172 ( 0.5%) Users that have less than 1 test interactions\n",
      "EvaluatorHoldout: Processed 35564 (100.0%) in 49.58 sec. Users per second: 717\n"
     ]
    },
    {
     "name": "stderr",
     "output_type": "stream",
     "text": [
      "[I 2025-01-06 16:42:50,378] Trial 280 finished with value: 0.038898771751008414 and parameters: {'similarity': 'asymmetric', 'topK': 263, 'shrink': 491, 'feature_weighting': 'BM25', 'asymmetric_alpha': 0.6489372458795057}. Best is trial 270 with value: 0.04243332795278116.\n"
     ]
    },
    {
     "name": "stdout",
     "output_type": "stream",
     "text": [
      "Similarity column 35736 (100.0%), 2932.03 column/sec. Elapsed time 12.19 sec\n",
      "EvaluatorHoldout: Ignoring 173 ( 0.5%) Users that have less than 1 test interactions\n",
      "EvaluatorHoldout: Processed 35563 (100.0%) in 1.03 min. Users per second: 577\n",
      "Similarity column 35736 (100.0%), 2906.11 column/sec. Elapsed time 12.30 sec\n",
      "EvaluatorHoldout: Ignoring 163 ( 0.5%) Users that have less than 1 test interactions\n",
      "EvaluatorHoldout: Processed 35573 (100.0%) in 1.03 min. Users per second: 575\n",
      "Similarity column 35736 (100.0%), 2910.72 column/sec. Elapsed time 12.28 sec\n",
      "EvaluatorHoldout: Ignoring 150 ( 0.4%) Users that have less than 1 test interactions\n",
      "EvaluatorHoldout: Processed 35586 (100.0%) in 1.03 min. Users per second: 577\n",
      "Similarity column 35736 (100.0%), 2898.98 column/sec. Elapsed time 12.33 sec\n",
      "EvaluatorHoldout: Ignoring 167 ( 0.5%) Users that have less than 1 test interactions\n",
      "EvaluatorHoldout: Processed 35569 (100.0%) in 1.03 min. Users per second: 577\n",
      "Similarity column 35736 (100.0%), 2885.85 column/sec. Elapsed time 12.38 sec\n",
      "EvaluatorHoldout: Ignoring 172 ( 0.5%) Users that have less than 1 test interactions\n",
      "EvaluatorHoldout: Processed 35564 (100.0%) in 1.02 min. Users per second: 581\n"
     ]
    },
    {
     "name": "stderr",
     "output_type": "stream",
     "text": [
      "[I 2025-01-06 16:49:07,715] Trial 281 finished with value: 0.03308028532845937 and parameters: {'similarity': 'asymmetric', 'topK': 738, 'shrink': 488, 'feature_weighting': 'none', 'asymmetric_alpha': 0.6217899301347648}. Best is trial 270 with value: 0.04243332795278116.\n"
     ]
    },
    {
     "name": "stdout",
     "output_type": "stream",
     "text": [
      "Similarity column 35736 (100.0%), 2980.55 column/sec. Elapsed time 11.99 sec\n",
      "EvaluatorHoldout: Ignoring 173 ( 0.5%) Users that have less than 1 test interactions\n",
      "EvaluatorHoldout: Processed 35563 (100.0%) in 1.05 min. Users per second: 565\n",
      "Similarity column 35736 (100.0%), 2959.13 column/sec. Elapsed time 12.08 sec\n",
      "EvaluatorHoldout: Ignoring 163 ( 0.5%) Users that have less than 1 test interactions\n",
      "EvaluatorHoldout: Processed 35573 (100.0%) in 1.06 min. Users per second: 559\n",
      "Similarity column 35736 (100.0%), 2940.82 column/sec. Elapsed time 12.15 sec\n",
      "EvaluatorHoldout: Ignoring 150 ( 0.4%) Users that have less than 1 test interactions\n",
      "EvaluatorHoldout: Processed 35586 (100.0%) in 1.06 min. Users per second: 559\n",
      "Similarity column 35736 (100.0%), 2967.29 column/sec. Elapsed time 12.04 sec\n",
      "EvaluatorHoldout: Ignoring 167 ( 0.5%) Users that have less than 1 test interactions\n",
      "EvaluatorHoldout: Processed 35569 (100.0%) in 1.06 min. Users per second: 561\n",
      "Similarity column 35736 (100.0%), 2958.74 column/sec. Elapsed time 12.08 sec\n",
      "EvaluatorHoldout: Ignoring 172 ( 0.5%) Users that have less than 1 test interactions\n",
      "EvaluatorHoldout: Processed 35564 (100.0%) in 1.05 min. Users per second: 562\n"
     ]
    },
    {
     "name": "stderr",
     "output_type": "stream",
     "text": [
      "[I 2025-01-06 16:55:33,369] Trial 282 finished with value: 0.042380542480215 and parameters: {'similarity': 'asymmetric', 'topK': 736, 'shrink': 461, 'feature_weighting': 'BM25', 'asymmetric_alpha': 0.6748903840797668}. Best is trial 270 with value: 0.04243332795278116.\n"
     ]
    },
    {
     "name": "stdout",
     "output_type": "stream",
     "text": [
      "Similarity column 35736 (100.0%), 2947.94 column/sec. Elapsed time 12.12 sec\n",
      "EvaluatorHoldout: Ignoring 173 ( 0.5%) Users that have less than 1 test interactions\n",
      "EvaluatorHoldout: Processed 35563 (100.0%) in 1.07 min. Users per second: 555\n",
      "Similarity column 35736 (100.0%), 2903.57 column/sec. Elapsed time 12.31 sec\n",
      "EvaluatorHoldout: Ignoring 163 ( 0.5%) Users that have less than 1 test interactions\n",
      "EvaluatorHoldout: Processed 35573 (100.0%) in 1.06 min. Users per second: 558\n",
      "Similarity column 35736 (100.0%), 2959.99 column/sec. Elapsed time 12.07 sec\n",
      "EvaluatorHoldout: Ignoring 150 ( 0.4%) Users that have less than 1 test interactions\n",
      "EvaluatorHoldout: Processed 35586 (100.0%) in 1.07 min. Users per second: 556\n",
      "Similarity column 35736 (100.0%), 2955.47 column/sec. Elapsed time 12.09 sec\n",
      "EvaluatorHoldout: Ignoring 167 ( 0.5%) Users that have less than 1 test interactions\n",
      "EvaluatorHoldout: Processed 35569 (100.0%) in 1.05 min. Users per second: 563\n",
      "Similarity column 35736 (100.0%), 2968.70 column/sec. Elapsed time 12.04 sec\n",
      "EvaluatorHoldout: Ignoring 172 ( 0.5%) Users that have less than 1 test interactions\n",
      "EvaluatorHoldout: Processed 35564 (100.0%) in 1.06 min. Users per second: 561\n"
     ]
    },
    {
     "name": "stderr",
     "output_type": "stream",
     "text": [
      "[I 2025-01-06 17:02:00,774] Trial 283 finished with value: 0.04241655878606284 and parameters: {'similarity': 'asymmetric', 'topK': 750, 'shrink': 450, 'feature_weighting': 'BM25', 'asymmetric_alpha': 0.6616082816305987}. Best is trial 270 with value: 0.04243332795278116.\n"
     ]
    },
    {
     "name": "stdout",
     "output_type": "stream",
     "text": [
      "Similarity column 35736 (100.0%), 2971.24 column/sec. Elapsed time 12.03 sec\n",
      "EvaluatorHoldout: Ignoring 173 ( 0.5%) Users that have less than 1 test interactions\n",
      "EvaluatorHoldout: Processed 35563 (100.0%) in 1.06 min. Users per second: 558\n",
      "Similarity column 35736 (100.0%), 2971.87 column/sec. Elapsed time 12.02 sec\n",
      "EvaluatorHoldout: Ignoring 163 ( 0.5%) Users that have less than 1 test interactions\n",
      "EvaluatorHoldout: Processed 35573 (100.0%) in 1.05 min. Users per second: 563\n",
      "Similarity column 35736 (100.0%), 2968.55 column/sec. Elapsed time 12.04 sec\n",
      "EvaluatorHoldout: Ignoring 150 ( 0.4%) Users that have less than 1 test interactions\n",
      "EvaluatorHoldout: Processed 35586 (100.0%) in 1.06 min. Users per second: 561\n",
      "Similarity column 35736 (100.0%), 2947.08 column/sec. Elapsed time 12.13 sec\n",
      "EvaluatorHoldout: Ignoring 167 ( 0.5%) Users that have less than 1 test interactions\n",
      "EvaluatorHoldout: Processed 35569 (100.0%) in 1.06 min. Users per second: 559\n",
      "Similarity column 35736 (100.0%), 2990.67 column/sec. Elapsed time 11.95 sec\n",
      "EvaluatorHoldout: Ignoring 172 ( 0.5%) Users that have less than 1 test interactions\n",
      "EvaluatorHoldout: Processed 35564 (100.0%) in 1.06 min. Users per second: 558\n"
     ]
    },
    {
     "name": "stderr",
     "output_type": "stream",
     "text": [
      "[I 2025-01-06 17:08:26,878] Trial 284 finished with value: 0.042414063941302066 and parameters: {'similarity': 'asymmetric', 'topK': 749, 'shrink': 427, 'feature_weighting': 'BM25', 'asymmetric_alpha': 0.6580127704602188}. Best is trial 270 with value: 0.04243332795278116.\n"
     ]
    },
    {
     "name": "stdout",
     "output_type": "stream",
     "text": [
      "Similarity column 35736 (100.0%), 2940.62 column/sec. Elapsed time 12.15 sec\n",
      "EvaluatorHoldout: Ignoring 173 ( 0.5%) Users that have less than 1 test interactions\n",
      "EvaluatorHoldout: Processed 35563 (100.0%) in 1.07 min. Users per second: 556\n",
      "Similarity column 35736 (100.0%), 2993.50 column/sec. Elapsed time 11.94 sec\n",
      "EvaluatorHoldout: Ignoring 163 ( 0.5%) Users that have less than 1 test interactions\n",
      "EvaluatorHoldout: Processed 35573 (100.0%) in 1.06 min. Users per second: 560\n",
      "Similarity column 35736 (100.0%), 2979.16 column/sec. Elapsed time 12.00 sec\n",
      "EvaluatorHoldout: Ignoring 150 ( 0.4%) Users that have less than 1 test interactions\n",
      "EvaluatorHoldout: Processed 35586 (100.0%) in 1.05 min. Users per second: 565\n",
      "Similarity column 35736 (100.0%), 2966.26 column/sec. Elapsed time 12.05 sec\n",
      "EvaluatorHoldout: Ignoring 167 ( 0.5%) Users that have less than 1 test interactions\n",
      "EvaluatorHoldout: Processed 35569 (100.0%) in 1.05 min. Users per second: 565\n",
      "Similarity column 35736 (100.0%), 2988.28 column/sec. Elapsed time 11.96 sec\n",
      "EvaluatorHoldout: Ignoring 172 ( 0.5%) Users that have less than 1 test interactions\n",
      "EvaluatorHoldout: Processed 35564 (100.0%) in 1.05 min. Users per second: 565\n"
     ]
    },
    {
     "name": "stderr",
     "output_type": "stream",
     "text": [
      "[I 2025-01-06 17:14:51,220] Trial 285 finished with value: 0.042246444597185 and parameters: {'similarity': 'asymmetric', 'topK': 740, 'shrink': 457, 'feature_weighting': 'BM25', 'asymmetric_alpha': 0.5748338703818534}. Best is trial 270 with value: 0.04243332795278116.\n"
     ]
    },
    {
     "name": "stdout",
     "output_type": "stream",
     "text": [
      "Similarity column 35736 (100.0%), 2995.62 column/sec. Elapsed time 11.93 sec\n",
      "EvaluatorHoldout: Ignoring 173 ( 0.5%) Users that have less than 1 test interactions\n",
      "EvaluatorHoldout: Processed 35563 (100.0%) in 1.04 min. Users per second: 568\n",
      "Similarity column 35736 (100.0%), 2996.45 column/sec. Elapsed time 11.93 sec\n",
      "EvaluatorHoldout: Ignoring 163 ( 0.5%) Users that have less than 1 test interactions\n",
      "EvaluatorHoldout: Processed 35573 (100.0%) in 1.04 min. Users per second: 568\n",
      "Similarity column 35736 (100.0%), 2983.54 column/sec. Elapsed time 11.98 sec\n",
      "EvaluatorHoldout: Ignoring 150 ( 0.4%) Users that have less than 1 test interactions\n",
      "EvaluatorHoldout: Processed 35586 (100.0%) in 1.05 min. Users per second: 564\n",
      "Similarity column 35736 (100.0%), 2966.45 column/sec. Elapsed time 12.05 sec\n",
      "EvaluatorHoldout: Ignoring 167 ( 0.5%) Users that have less than 1 test interactions\n",
      "EvaluatorHoldout: Processed 35569 (100.0%) in 1.05 min. Users per second: 563\n",
      "Similarity column 35736 (100.0%), 2993.96 column/sec. Elapsed time 11.94 sec\n",
      "EvaluatorHoldout: Ignoring 172 ( 0.5%) Users that have less than 1 test interactions\n",
      "EvaluatorHoldout: Processed 35564 (100.0%) in 1.05 min. Users per second: 564\n"
     ]
    },
    {
     "name": "stderr",
     "output_type": "stream",
     "text": [
      "[I 2025-01-06 17:21:12,726] Trial 286 finished with value: 0.04242148252761939 and parameters: {'similarity': 'asymmetric', 'topK': 739, 'shrink': 412, 'feature_weighting': 'BM25', 'asymmetric_alpha': 0.6682749286959953}. Best is trial 270 with value: 0.04243332795278116.\n"
     ]
    },
    {
     "name": "stdout",
     "output_type": "stream",
     "text": [
      "Similarity column 35736 (100.0%), 3115.31 column/sec. Elapsed time 11.47 sec\n",
      "EvaluatorHoldout: Ignoring 173 ( 0.5%) Users that have less than 1 test interactions\n",
      "EvaluatorHoldout: Processed 35563 (100.0%) in 1.04 min. Users per second: 571\n",
      "Similarity column 35736 (100.0%), 3115.88 column/sec. Elapsed time 11.47 sec\n",
      "EvaluatorHoldout: Ignoring 163 ( 0.5%) Users that have less than 1 test interactions\n",
      "EvaluatorHoldout: Processed 35573 (100.0%) in 1.04 min. Users per second: 572\n",
      "Similarity column 35736 (100.0%), 3132.14 column/sec. Elapsed time 11.41 sec\n",
      "EvaluatorHoldout: Ignoring 150 ( 0.4%) Users that have less than 1 test interactions\n",
      "EvaluatorHoldout: Processed 35586 (100.0%) in 1.03 min. Users per second: 577\n",
      "Similarity column 35736 (100.0%), 3092.25 column/sec. Elapsed time 11.56 sec\n",
      "EvaluatorHoldout: Ignoring 167 ( 0.5%) Users that have less than 1 test interactions\n",
      "EvaluatorHoldout: Processed 35569 (100.0%) in 1.03 min. Users per second: 574\n",
      "Similarity column 35736 (100.0%), 3126.57 column/sec. Elapsed time 11.43 sec\n",
      "EvaluatorHoldout: Ignoring 172 ( 0.5%) Users that have less than 1 test interactions\n",
      "EvaluatorHoldout: Processed 35564 (100.0%) in 1.04 min. Users per second: 570\n"
     ]
    },
    {
     "name": "stderr",
     "output_type": "stream",
     "text": [
      "[I 2025-01-06 17:27:29,782] Trial 287 finished with value: 0.03917508680908858 and parameters: {'similarity': 'dice', 'topK': 750, 'shrink': 424, 'feature_weighting': 'BM25'}. Best is trial 270 with value: 0.04243332795278116.\n"
     ]
    },
    {
     "name": "stdout",
     "output_type": "stream",
     "text": [
      "Similarity column 35736 (100.0%), 2980.49 column/sec. Elapsed time 11.99 sec\n",
      "EvaluatorHoldout: Ignoring 173 ( 0.5%) Users that have less than 1 test interactions\n",
      "EvaluatorHoldout: Processed 35563 (100.0%) in 1.06 min. Users per second: 562\n",
      "Similarity column 35736 (100.0%), 2948.90 column/sec. Elapsed time 12.12 sec\n",
      "EvaluatorHoldout: Ignoring 163 ( 0.5%) Users that have less than 1 test interactions\n",
      "EvaluatorHoldout: Processed 35573 (100.0%) in 1.06 min. Users per second: 558\n",
      "Similarity column 35736 (100.0%), 2979.63 column/sec. Elapsed time 11.99 sec\n",
      "EvaluatorHoldout: Ignoring 150 ( 0.4%) Users that have less than 1 test interactions\n",
      "EvaluatorHoldout: Processed 35586 (100.0%) in 1.05 min. Users per second: 563\n",
      "Similarity column 35736 (100.0%), 2973.97 column/sec. Elapsed time 12.02 sec\n",
      "EvaluatorHoldout: Ignoring 167 ( 0.5%) Users that have less than 1 test interactions\n",
      "EvaluatorHoldout: Processed 35569 (100.0%) in 1.05 min. Users per second: 563\n",
      "Similarity column 35736 (100.0%), 2978.38 column/sec. Elapsed time 12.00 sec\n",
      "EvaluatorHoldout: Ignoring 172 ( 0.5%) Users that have less than 1 test interactions\n",
      "EvaluatorHoldout: Processed 35564 (100.0%) in 1.04 min. Users per second: 568\n"
     ]
    },
    {
     "name": "stderr",
     "output_type": "stream",
     "text": [
      "[I 2025-01-06 17:33:54,474] Trial 288 finished with value: 0.04243687323576895 and parameters: {'similarity': 'asymmetric', 'topK': 749, 'shrink': 403, 'feature_weighting': 'BM25', 'asymmetric_alpha': 0.6602334920409354}. Best is trial 288 with value: 0.04243687323576895.\n"
     ]
    },
    {
     "name": "stdout",
     "output_type": "stream",
     "text": [
      "Similarity column 35736 (100.0%), 277.18 column/sec. Elapsed time 2.15 min\n",
      "EvaluatorHoldout: Ignoring 173 ( 0.5%) Users that have less than 1 test interactions\n",
      "EvaluatorHoldout: Processed 35563 (100.0%) in 1.08 min. Users per second: 548\n",
      "Similarity column 35736 (100.0%), 285.66 column/sec. Elapsed time 2.08 min\n",
      "EvaluatorHoldout: Ignoring 163 ( 0.5%) Users that have less than 1 test interactions\n",
      "EvaluatorHoldout: Processed 35573 (100.0%) in 1.09 min. Users per second: 546\n",
      "Similarity column 35736 (100.0%), 290.05 column/sec. Elapsed time 2.05 min\n",
      "EvaluatorHoldout: Ignoring 150 ( 0.4%) Users that have less than 1 test interactions\n",
      "EvaluatorHoldout: Processed 35586 (100.0%) in 1.09 min. Users per second: 546\n",
      "Similarity column 35736 (100.0%), 280.75 column/sec. Elapsed time 2.12 min\n",
      "EvaluatorHoldout: Ignoring 167 ( 0.5%) Users that have less than 1 test interactions\n",
      "EvaluatorHoldout: Processed 35569 (100.0%) in 1.08 min. Users per second: 550\n",
      "Similarity column 35736 (100.0%), 284.18 column/sec. Elapsed time 2.10 min\n",
      "EvaluatorHoldout: Ignoring 172 ( 0.5%) Users that have less than 1 test interactions\n",
      "EvaluatorHoldout: Processed 35564 (100.0%) in 1.09 min. Users per second: 546\n"
     ]
    },
    {
     "name": "stderr",
     "output_type": "stream",
     "text": [
      "[I 2025-01-06 17:49:56,910] Trial 289 finished with value: 0.030885648381855348 and parameters: {'similarity': 'euclidean', 'topK': 750, 'shrink': 413, 'feature_weighting': 'BM25', 'normalize_avg_row': True, 'similarity_from_distance_mode': 'exp', 'normalize': True}. Best is trial 288 with value: 0.04243687323576895.\n"
     ]
    },
    {
     "name": "stdout",
     "output_type": "stream",
     "text": [
      "Similarity column 35736 (100.0%), 3006.20 column/sec. Elapsed time 11.89 sec\n",
      "EvaluatorHoldout: Ignoring 173 ( 0.5%) Users that have less than 1 test interactions\n",
      "EvaluatorHoldout: Processed 35563 (100.0%) in 59.66 sec. Users per second: 596\n",
      "Similarity column 35736 (100.0%), 2993.23 column/sec. Elapsed time 11.94 sec\n",
      "EvaluatorHoldout: Ignoring 163 ( 0.5%) Users that have less than 1 test interactions\n",
      "EvaluatorHoldout: Processed 35573 (100.0%) in 59.54 sec. Users per second: 597\n",
      "Similarity column 35736 (100.0%), 3002.60 column/sec. Elapsed time 11.90 sec\n",
      "EvaluatorHoldout: Ignoring 150 ( 0.4%) Users that have less than 1 test interactions\n",
      "EvaluatorHoldout: Processed 35586 (100.0%) in 59.33 sec. Users per second: 600\n",
      "Similarity column 35736 (100.0%), 2989.40 column/sec. Elapsed time 11.95 sec\n",
      "EvaluatorHoldout: Ignoring 167 ( 0.5%) Users that have less than 1 test interactions\n",
      "EvaluatorHoldout: Processed 35569 (100.0%) in 59.47 sec. Users per second: 598\n",
      "Similarity column 35736 (100.0%), 2970.47 column/sec. Elapsed time 12.03 sec\n",
      "EvaluatorHoldout: Ignoring 172 ( 0.5%) Users that have less than 1 test interactions\n",
      "EvaluatorHoldout: Processed 35564 (100.0%) in 59.46 sec. Users per second: 598\n"
     ]
    },
    {
     "name": "stderr",
     "output_type": "stream",
     "text": [
      "[I 2025-01-06 17:56:01,594] Trial 290 finished with value: 0.04182581233242871 and parameters: {'similarity': 'asymmetric', 'topK': 584, 'shrink': 382, 'feature_weighting': 'BM25', 'asymmetric_alpha': 0.6510415213117517}. Best is trial 288 with value: 0.04243687323576895.\n"
     ]
    },
    {
     "name": "stdout",
     "output_type": "stream",
     "text": [
      "Similarity column 35736 (100.0%), 2977.95 column/sec. Elapsed time 12.00 sec\n",
      "EvaluatorHoldout: Ignoring 173 ( 0.5%) Users that have less than 1 test interactions\n",
      "EvaluatorHoldout: Processed 35563 (100.0%) in 1.05 min. Users per second: 563\n",
      "Similarity column 35736 (100.0%), 2966.88 column/sec. Elapsed time 12.04 sec\n",
      "EvaluatorHoldout: Ignoring 163 ( 0.5%) Users that have less than 1 test interactions\n",
      "EvaluatorHoldout: Processed 35573 (100.0%) in 1.05 min. Users per second: 564\n",
      "Similarity column 35736 (100.0%), 2984.54 column/sec. Elapsed time 11.97 sec\n",
      "EvaluatorHoldout: Ignoring 150 ( 0.4%) Users that have less than 1 test interactions\n",
      "EvaluatorHoldout: Processed 35586 (100.0%) in 1.06 min. Users per second: 562\n",
      "Similarity column 35736 (100.0%), 2953.22 column/sec. Elapsed time 12.10 sec\n",
      "EvaluatorHoldout: Ignoring 167 ( 0.5%) Users that have less than 1 test interactions\n",
      "EvaluatorHoldout: Processed 35569 (100.0%) in 1.05 min. Users per second: 564\n",
      "Similarity column 35736 (100.0%), 2980.37 column/sec. Elapsed time 11.99 sec\n",
      "EvaluatorHoldout: Ignoring 172 ( 0.5%) Users that have less than 1 test interactions\n",
      "EvaluatorHoldout: Processed 35564 (100.0%) in 1.05 min. Users per second: 567\n"
     ]
    },
    {
     "name": "stderr",
     "output_type": "stream",
     "text": [
      "[I 2025-01-06 18:02:25,371] Trial 291 finished with value: 0.04243160279050974 and parameters: {'similarity': 'asymmetric', 'topK': 750, 'shrink': 444, 'feature_weighting': 'BM25', 'asymmetric_alpha': 0.6722736225264492}. Best is trial 288 with value: 0.04243687323576895.\n"
     ]
    },
    {
     "name": "stdout",
     "output_type": "stream",
     "text": [
      "Similarity column 35736 (100.0%), 2995.25 column/sec. Elapsed time 11.93 sec\n",
      "EvaluatorHoldout: Ignoring 173 ( 0.5%) Users that have less than 1 test interactions\n",
      "EvaluatorHoldout: Processed 35563 (100.0%) in 1.06 min. Users per second: 561\n",
      "Similarity column 35736 (100.0%), 2955.89 column/sec. Elapsed time 12.09 sec\n",
      "EvaluatorHoldout: Ignoring 163 ( 0.5%) Users that have less than 1 test interactions\n",
      "EvaluatorHoldout: Processed 35573 (100.0%) in 1.06 min. Users per second: 562\n",
      "Similarity column 35736 (100.0%), 2987.02 column/sec. Elapsed time 11.96 sec\n",
      "EvaluatorHoldout: Ignoring 150 ( 0.4%) Users that have less than 1 test interactions\n",
      "EvaluatorHoldout: Processed 35586 (100.0%) in 1.06 min. Users per second: 562\n",
      "Similarity column 35736 (100.0%), 2979.58 column/sec. Elapsed time 11.99 sec\n",
      "EvaluatorHoldout: Ignoring 167 ( 0.5%) Users that have less than 1 test interactions\n",
      "EvaluatorHoldout: Processed 35569 (100.0%) in 1.06 min. Users per second: 562\n",
      "Similarity column 35736 (100.0%), 2974.54 column/sec. Elapsed time 12.01 sec\n",
      "EvaluatorHoldout: Ignoring 172 ( 0.5%) Users that have less than 1 test interactions\n",
      "EvaluatorHoldout: Processed 35564 (100.0%) in 1.06 min. Users per second: 557\n"
     ]
    },
    {
     "name": "stderr",
     "output_type": "stream",
     "text": [
      "[I 2025-01-06 18:08:50,801] Trial 292 finished with value: 0.042348559109961235 and parameters: {'similarity': 'asymmetric', 'topK': 749, 'shrink': 446, 'feature_weighting': 'BM25', 'asymmetric_alpha': 0.616641316382441}. Best is trial 288 with value: 0.04243687323576895.\n"
     ]
    },
    {
     "name": "stdout",
     "output_type": "stream",
     "text": [
      "Similarity column 35736 (100.0%), 3031.98 column/sec. Elapsed time 11.79 sec\n",
      "EvaluatorHoldout: Ignoring 173 ( 0.5%) Users that have less than 1 test interactions\n",
      "EvaluatorHoldout: Processed 35563 (100.0%) in 1.03 min. Users per second: 573\n",
      "Similarity column 35736 (100.0%), 3072.25 column/sec. Elapsed time 11.63 sec\n",
      "EvaluatorHoldout: Ignoring 163 ( 0.5%) Users that have less than 1 test interactions\n",
      "EvaluatorHoldout: Processed 35573 (100.0%) in 1.02 min. Users per second: 581\n",
      "Similarity column 35736 (100.0%), 3068.76 column/sec. Elapsed time 11.65 sec\n",
      "EvaluatorHoldout: Ignoring 150 ( 0.4%) Users that have less than 1 test interactions\n",
      "EvaluatorHoldout: Processed 35586 (100.0%) in 1.02 min. Users per second: 581\n",
      "Similarity column 35736 (100.0%), 3047.53 column/sec. Elapsed time 11.73 sec\n",
      "EvaluatorHoldout: Ignoring 167 ( 0.5%) Users that have less than 1 test interactions\n",
      "EvaluatorHoldout: Processed 35569 (100.0%) in 1.03 min. Users per second: 576\n",
      "Similarity column 35736 (100.0%), 3063.17 column/sec. Elapsed time 11.67 sec\n",
      "EvaluatorHoldout: Ignoring 172 ( 0.5%) Users that have less than 1 test interactions\n",
      "EvaluatorHoldout: Processed 35564 (100.0%) in 1.02 min. Users per second: 580\n"
     ]
    },
    {
     "name": "stderr",
     "output_type": "stream",
     "text": [
      "[I 2025-01-06 18:15:05,790] Trial 293 finished with value: 0.03908033554974142 and parameters: {'similarity': 'jaccard', 'topK': 737, 'shrink': 441, 'feature_weighting': 'BM25'}. Best is trial 288 with value: 0.04243687323576895.\n"
     ]
    },
    {
     "name": "stdout",
     "output_type": "stream",
     "text": [
      "Similarity column 35736 (100.0%), 2976.97 column/sec. Elapsed time 12.00 sec\n",
      "EvaluatorHoldout: Ignoring 173 ( 0.5%) Users that have less than 1 test interactions\n",
      "EvaluatorHoldout: Processed 35563 (100.0%) in 1.06 min. Users per second: 559\n",
      "Similarity column 35736 (100.0%), 2951.48 column/sec. Elapsed time 12.11 sec\n",
      "EvaluatorHoldout: Ignoring 163 ( 0.5%) Users that have less than 1 test interactions\n",
      "EvaluatorHoldout: Processed 35573 (100.0%) in 1.06 min. Users per second: 558\n",
      "Similarity column 35736 (100.0%), 2980.91 column/sec. Elapsed time 11.99 sec\n",
      "EvaluatorHoldout: Ignoring 150 ( 0.4%) Users that have less than 1 test interactions\n",
      "EvaluatorHoldout: Processed 35586 (100.0%) in 1.06 min. Users per second: 558\n",
      "Similarity column 35736 (100.0%), 2955.05 column/sec. Elapsed time 12.09 sec\n",
      "EvaluatorHoldout: Ignoring 167 ( 0.5%) Users that have less than 1 test interactions\n",
      "EvaluatorHoldout: Processed 35569 (100.0%) in 1.06 min. Users per second: 559\n",
      "Similarity column 35736 (100.0%), 2963.37 column/sec. Elapsed time 12.06 sec\n",
      "EvaluatorHoldout: Ignoring 172 ( 0.5%) Users that have less than 1 test interactions\n",
      "EvaluatorHoldout: Processed 35564 (100.0%) in 1.07 min. Users per second: 554\n"
     ]
    },
    {
     "name": "stderr",
     "output_type": "stream",
     "text": [
      "[I 2025-01-06 18:21:32,982] Trial 294 finished with value: 0.04234075751605893 and parameters: {'similarity': 'asymmetric', 'topK': 750, 'shrink': 443, 'feature_weighting': 'BM25', 'asymmetric_alpha': 0.6022104273653212}. Best is trial 288 with value: 0.04243687323576895.\n"
     ]
    },
    {
     "name": "stdout",
     "output_type": "stream",
     "text": [
      "Similarity column 35736 (100.0%), 2970.03 column/sec. Elapsed time 12.03 sec\n",
      "EvaluatorHoldout: Ignoring 173 ( 0.5%) Users that have less than 1 test interactions\n",
      "EvaluatorHoldout: Processed 35563 (100.0%) in 1.07 min. Users per second: 556\n",
      "Similarity column 35736 (100.0%), 2935.08 column/sec. Elapsed time 12.18 sec\n",
      "EvaluatorHoldout: Ignoring 163 ( 0.5%) Users that have less than 1 test interactions\n",
      "EvaluatorHoldout: Processed 35573 (100.0%) in 1.06 min. Users per second: 557\n",
      "Similarity column 35736 (100.0%), 2960.68 column/sec. Elapsed time 12.07 sec\n",
      "EvaluatorHoldout: Ignoring 150 ( 0.4%) Users that have less than 1 test interactions\n",
      "EvaluatorHoldout: Processed 35586 (100.0%) in 1.07 min. Users per second: 554\n",
      "Similarity column 35736 (100.0%), 2969.00 column/sec. Elapsed time 12.04 sec\n",
      "EvaluatorHoldout: Ignoring 167 ( 0.5%) Users that have less than 1 test interactions\n",
      "EvaluatorHoldout: Processed 35569 (100.0%) in 1.06 min. Users per second: 558\n",
      "Similarity column 35736 (100.0%), 2929.79 column/sec. Elapsed time 12.20 sec\n",
      "EvaluatorHoldout: Ignoring 172 ( 0.5%) Users that have less than 1 test interactions\n",
      "EvaluatorHoldout: Processed 35564 (100.0%) in 1.07 min. Users per second: 554\n"
     ]
    },
    {
     "name": "stderr",
     "output_type": "stream",
     "text": [
      "[I 2025-01-06 18:28:01,354] Trial 295 finished with value: 0.04220797007737723 and parameters: {'similarity': 'asymmetric', 'topK': 737, 'shrink': 393, 'feature_weighting': 'BM25', 'asymmetric_alpha': 0.5298534630542182}. Best is trial 288 with value: 0.04243687323576895.\n"
     ]
    },
    {
     "name": "stdout",
     "output_type": "stream",
     "text": [
      "Similarity column 35736 (100.0%), 2983.02 column/sec. Elapsed time 11.98 sec\n",
      "EvaluatorHoldout: Ignoring 173 ( 0.5%) Users that have less than 1 test interactions\n",
      "EvaluatorHoldout: Processed 35563 (100.0%) in 1.06 min. Users per second: 560\n",
      "Similarity column 35736 (100.0%), 2956.51 column/sec. Elapsed time 12.09 sec\n",
      "EvaluatorHoldout: Ignoring 163 ( 0.5%) Users that have less than 1 test interactions\n",
      "EvaluatorHoldout: Processed 35573 (100.0%) in 1.06 min. Users per second: 559\n",
      "Similarity column 35736 (100.0%), 2982.92 column/sec. Elapsed time 11.98 sec\n",
      "EvaluatorHoldout: Ignoring 150 ( 0.4%) Users that have less than 1 test interactions\n",
      "EvaluatorHoldout: Processed 35586 (100.0%) in 1.07 min. Users per second: 556\n",
      "Similarity column 35736 (100.0%), 2935.81 column/sec. Elapsed time 12.17 sec\n",
      "EvaluatorHoldout: Ignoring 167 ( 0.5%) Users that have less than 1 test interactions\n",
      "EvaluatorHoldout: Processed 35569 (100.0%) in 1.06 min. Users per second: 562\n",
      "Similarity column 35736 (100.0%), 2983.71 column/sec. Elapsed time 11.98 sec\n",
      "EvaluatorHoldout: Ignoring 172 ( 0.5%) Users that have less than 1 test interactions\n",
      "EvaluatorHoldout: Processed 35564 (100.0%) in 1.05 min. Users per second: 562\n"
     ]
    },
    {
     "name": "stderr",
     "output_type": "stream",
     "text": [
      "[I 2025-01-06 18:34:27,049] Trial 296 finished with value: 0.04244630970090261 and parameters: {'similarity': 'asymmetric', 'topK': 750, 'shrink': 414, 'feature_weighting': 'BM25', 'asymmetric_alpha': 0.6672789129173191}. Best is trial 296 with value: 0.04244630970090261.\n"
     ]
    },
    {
     "name": "stdout",
     "output_type": "stream",
     "text": [
      "Similarity column 35736 (100.0%), 2984.96 column/sec. Elapsed time 11.97 sec\n",
      "EvaluatorHoldout: Ignoring 173 ( 0.5%) Users that have less than 1 test interactions\n",
      "EvaluatorHoldout: Processed 35563 (100.0%) in 1.07 min. Users per second: 555\n",
      "Similarity column 35736 (100.0%), 2955.52 column/sec. Elapsed time 12.09 sec\n",
      "EvaluatorHoldout: Ignoring 163 ( 0.5%) Users that have less than 1 test interactions\n",
      "EvaluatorHoldout: Processed 35573 (100.0%) in 1.06 min. Users per second: 562\n",
      "Similarity column 35736 (100.0%), 2979.26 column/sec. Elapsed time 11.99 sec\n",
      "EvaluatorHoldout: Ignoring 150 ( 0.4%) Users that have less than 1 test interactions\n",
      "EvaluatorHoldout: Processed 35586 (100.0%) in 1.05 min. Users per second: 563\n",
      "Similarity column 35736 (100.0%), 2958.06 column/sec. Elapsed time 12.08 sec\n",
      "EvaluatorHoldout: Ignoring 167 ( 0.5%) Users that have less than 1 test interactions\n",
      "EvaluatorHoldout: Processed 35569 (100.0%) in 1.06 min. Users per second: 558\n",
      "Similarity column 35736 (100.0%), 2954.57 column/sec. Elapsed time 12.10 sec\n",
      "EvaluatorHoldout: Ignoring 172 ( 0.5%) Users that have less than 1 test interactions\n",
      "EvaluatorHoldout: Processed 35564 (100.0%) in 1.06 min. Users per second: 558\n"
     ]
    },
    {
     "name": "stderr",
     "output_type": "stream",
     "text": [
      "[I 2025-01-06 18:40:53,610] Trial 297 finished with value: 0.04245879057709363 and parameters: {'similarity': 'asymmetric', 'topK': 750, 'shrink': 411, 'feature_weighting': 'BM25', 'asymmetric_alpha': 0.6738568380965165}. Best is trial 297 with value: 0.04245879057709363.\n"
     ]
    },
    {
     "name": "stdout",
     "output_type": "stream",
     "text": [
      "Similarity column 35736 (100.0%), 2942.81 column/sec. Elapsed time 12.14 sec\n",
      "EvaluatorHoldout: Ignoring 173 ( 0.5%) Users that have less than 1 test interactions\n",
      "EvaluatorHoldout: Processed 35563 (100.0%) in 1.06 min. Users per second: 557\n",
      "Similarity column 35736 (100.0%), 2966.40 column/sec. Elapsed time 12.05 sec\n",
      "EvaluatorHoldout: Ignoring 163 ( 0.5%) Users that have less than 1 test interactions\n",
      "EvaluatorHoldout: Processed 35573 (100.0%) in 1.07 min. Users per second: 553\n",
      "Similarity column 35736 (100.0%), 2958.23 column/sec. Elapsed time 12.08 sec\n",
      "EvaluatorHoldout: Ignoring 150 ( 0.4%) Users that have less than 1 test interactions\n",
      "EvaluatorHoldout: Processed 35586 (100.0%) in 1.08 min. Users per second: 550\n",
      "Similarity column 35736 (100.0%), 2949.98 column/sec. Elapsed time 12.11 sec\n",
      "EvaluatorHoldout: Ignoring 167 ( 0.5%) Users that have less than 1 test interactions\n",
      "EvaluatorHoldout: Processed 35569 (100.0%) in 1.07 min. Users per second: 556\n",
      "Similarity column 35736 (100.0%), 2967.51 column/sec. Elapsed time 12.04 sec\n",
      "EvaluatorHoldout: Ignoring 172 ( 0.5%) Users that have less than 1 test interactions\n",
      "EvaluatorHoldout: Processed 35564 (100.0%) in 1.06 min. Users per second: 560\n"
     ]
    },
    {
     "name": "stderr",
     "output_type": "stream",
     "text": [
      "[I 2025-01-06 18:47:23,011] Trial 298 finished with value: 0.04250542256425647 and parameters: {'similarity': 'asymmetric', 'topK': 750, 'shrink': 363, 'feature_weighting': 'BM25', 'asymmetric_alpha': 0.685159000520062}. Best is trial 298 with value: 0.04250542256425647.\n"
     ]
    },
    {
     "name": "stdout",
     "output_type": "stream",
     "text": [
      "Similarity column 35736 (100.0%), 2959.49 column/sec. Elapsed time 12.08 sec\n",
      "EvaluatorHoldout: Ignoring 173 ( 0.5%) Users that have less than 1 test interactions\n",
      "EvaluatorHoldout: Processed 35563 (100.0%) in 1.07 min. Users per second: 554\n",
      "Similarity column 35736 (100.0%), 2946.83 column/sec. Elapsed time 12.13 sec\n",
      "EvaluatorHoldout: Ignoring 163 ( 0.5%) Users that have less than 1 test interactions\n",
      "EvaluatorHoldout: Processed 35573 (100.0%) in 1.06 min. Users per second: 560\n",
      "Similarity column 35736 (100.0%), 2953.18 column/sec. Elapsed time 12.10 sec\n",
      "EvaluatorHoldout: Ignoring 150 ( 0.4%) Users that have less than 1 test interactions\n",
      "EvaluatorHoldout: Processed 35586 (100.0%) in 1.07 min. Users per second: 557\n",
      "Similarity column 35736 (100.0%), 2962.83 column/sec. Elapsed time 12.06 sec\n",
      "EvaluatorHoldout: Ignoring 167 ( 0.5%) Users that have less than 1 test interactions\n",
      "EvaluatorHoldout: Processed 35569 (100.0%) in 1.04 min. Users per second: 571\n",
      "Similarity column 35736 (100.0%), 2967.72 column/sec. Elapsed time 12.04 sec\n",
      "EvaluatorHoldout: Ignoring 172 ( 0.5%) Users that have less than 1 test interactions\n",
      "EvaluatorHoldout: Processed 35564 (100.0%) in 1.05 min. Users per second: 562\n"
     ]
    },
    {
     "name": "stderr",
     "output_type": "stream",
     "text": [
      "[I 2025-01-06 18:53:48,356] Trial 299 finished with value: 0.04242526940864166 and parameters: {'similarity': 'asymmetric', 'topK': 736, 'shrink': 405, 'feature_weighting': 'BM25', 'asymmetric_alpha': 0.6800923924040397}. Best is trial 298 with value: 0.04250542256425647.\n"
     ]
    },
    {
     "name": "stdout",
     "output_type": "stream",
     "text": [
      "Similarity column 35736 (100.0%), 2982.18 column/sec. Elapsed time 11.98 sec\n",
      "EvaluatorHoldout: Ignoring 173 ( 0.5%) Users that have less than 1 test interactions\n",
      "EvaluatorHoldout: Processed 35563 (100.0%) in 1.06 min. Users per second: 562\n",
      "Similarity column 35736 (100.0%), 2972.01 column/sec. Elapsed time 12.02 sec\n",
      "EvaluatorHoldout: Ignoring 163 ( 0.5%) Users that have less than 1 test interactions\n",
      "EvaluatorHoldout: Processed 35573 (100.0%) in 1.06 min. Users per second: 562\n",
      "Similarity column 35736 (100.0%), 2956.28 column/sec. Elapsed time 12.09 sec\n",
      "EvaluatorHoldout: Ignoring 150 ( 0.4%) Users that have less than 1 test interactions\n",
      "EvaluatorHoldout: Processed 35586 (100.0%) in 1.06 min. Users per second: 561\n",
      "Similarity column 35736 (100.0%), 2985.41 column/sec. Elapsed time 11.97 sec\n",
      "EvaluatorHoldout: Ignoring 167 ( 0.5%) Users that have less than 1 test interactions\n",
      "EvaluatorHoldout: Processed 35569 (100.0%) in 1.06 min. Users per second: 558\n",
      "Similarity column 35736 (100.0%), 2945.82 column/sec. Elapsed time 12.13 sec\n",
      "EvaluatorHoldout: Ignoring 172 ( 0.5%) Users that have less than 1 test interactions\n",
      "EvaluatorHoldout: Processed 35564 (100.0%) in 1.06 min. Users per second: 560\n"
     ]
    },
    {
     "name": "stderr",
     "output_type": "stream",
     "text": [
      "[I 2025-01-06 19:00:14,241] Trial 300 finished with value: 0.04250074468220984 and parameters: {'similarity': 'asymmetric', 'topK': 750, 'shrink': 356, 'feature_weighting': 'BM25', 'asymmetric_alpha': 0.6806062633004863}. Best is trial 298 with value: 0.04250542256425647.\n"
     ]
    },
    {
     "name": "stdout",
     "output_type": "stream",
     "text": [
      "Similarity column 35736 (100.0%), 2982.21 column/sec. Elapsed time 11.98 sec\n",
      "EvaluatorHoldout: Ignoring 173 ( 0.5%) Users that have less than 1 test interactions\n",
      "EvaluatorHoldout: Processed 35563 (100.0%) in 1.06 min. Users per second: 559\n",
      "Similarity column 35736 (100.0%), 2963.36 column/sec. Elapsed time 12.06 sec\n",
      "EvaluatorHoldout: Ignoring 163 ( 0.5%) Users that have less than 1 test interactions\n",
      "EvaluatorHoldout: Processed 35573 (100.0%) in 1.06 min. Users per second: 561\n",
      "Similarity column 35736 (100.0%), 2970.16 column/sec. Elapsed time 12.03 sec\n",
      "EvaluatorHoldout: Ignoring 150 ( 0.4%) Users that have less than 1 test interactions\n",
      "EvaluatorHoldout: Processed 35586 (100.0%) in 1.05 min. Users per second: 562\n",
      "Similarity column 35736 (100.0%), 2987.24 column/sec. Elapsed time 11.96 sec\n",
      "EvaluatorHoldout: Ignoring 167 ( 0.5%) Users that have less than 1 test interactions\n",
      "EvaluatorHoldout: Processed 35569 (100.0%) in 1.05 min. Users per second: 565\n",
      "Similarity column 35736 (100.0%), 2970.57 column/sec. Elapsed time 12.03 sec\n",
      "EvaluatorHoldout: Ignoring 172 ( 0.5%) Users that have less than 1 test interactions\n",
      "EvaluatorHoldout: Processed 35564 (100.0%) in 1.06 min. Users per second: 560\n"
     ]
    },
    {
     "name": "stderr",
     "output_type": "stream",
     "text": [
      "[I 2025-01-06 19:06:38,663] Trial 301 finished with value: 0.042501330124034994 and parameters: {'similarity': 'asymmetric', 'topK': 750, 'shrink': 357, 'feature_weighting': 'BM25', 'asymmetric_alpha': 0.6775733275640067}. Best is trial 298 with value: 0.04250542256425647.\n"
     ]
    },
    {
     "name": "stdout",
     "output_type": "stream",
     "text": [
      "Similarity column 35736 (100.0%), 2928.65 column/sec. Elapsed time 12.20 sec\n",
      "EvaluatorHoldout: Ignoring 173 ( 0.5%) Users that have less than 1 test interactions\n",
      "EvaluatorHoldout: Processed 35563 (100.0%) in 1.05 min. Users per second: 564\n",
      "Similarity column 35736 (100.0%), 2907.75 column/sec. Elapsed time 12.29 sec\n",
      "EvaluatorHoldout: Ignoring 163 ( 0.5%) Users that have less than 1 test interactions\n",
      "EvaluatorHoldout: Processed 35573 (100.0%) in 1.05 min. Users per second: 564\n",
      "Similarity column 35736 (100.0%), 2896.66 column/sec. Elapsed time 12.34 sec\n",
      "EvaluatorHoldout: Ignoring 150 ( 0.4%) Users that have less than 1 test interactions\n",
      "EvaluatorHoldout: Processed 35586 (100.0%) in 1.04 min. Users per second: 568\n",
      "Similarity column 35736 (100.0%), 2890.17 column/sec. Elapsed time 12.36 sec\n",
      "EvaluatorHoldout: Ignoring 167 ( 0.5%) Users that have less than 1 test interactions\n",
      "EvaluatorHoldout: Processed 35569 (100.0%) in 1.05 min. Users per second: 567\n",
      "Similarity column 35736 (100.0%), 2921.78 column/sec. Elapsed time 12.23 sec\n",
      "EvaluatorHoldout: Ignoring 172 ( 0.5%) Users that have less than 1 test interactions\n",
      "EvaluatorHoldout: Processed 35564 (100.0%) in 1.04 min. Users per second: 569\n"
     ]
    },
    {
     "name": "stderr",
     "output_type": "stream",
     "text": [
      "[I 2025-01-06 19:13:02,164] Trial 302 finished with value: 0.034560663790042856 and parameters: {'similarity': 'asymmetric', 'topK': 737, 'shrink': 361, 'feature_weighting': 'TF-IDF', 'asymmetric_alpha': 0.6852173882745557}. Best is trial 298 with value: 0.04250542256425647.\n"
     ]
    },
    {
     "name": "stdout",
     "output_type": "stream",
     "text": [
      "Similarity column 35736 (100.0%), 2968.70 column/sec. Elapsed time 12.04 sec\n",
      "EvaluatorHoldout: Ignoring 173 ( 0.5%) Users that have less than 1 test interactions\n",
      "EvaluatorHoldout: Processed 35563 (100.0%) in 1.07 min. Users per second: 553\n",
      "Similarity column 35736 (100.0%), 2945.31 column/sec. Elapsed time 12.13 sec\n",
      "EvaluatorHoldout: Ignoring 163 ( 0.5%) Users that have less than 1 test interactions\n",
      "EvaluatorHoldout: Processed 35573 (100.0%) in 1.07 min. Users per second: 556\n",
      "Similarity column 35736 (100.0%), 2978.68 column/sec. Elapsed time 12.00 sec\n",
      "EvaluatorHoldout: Ignoring 150 ( 0.4%) Users that have less than 1 test interactions\n",
      "EvaluatorHoldout: Processed 35586 (100.0%) in 1.06 min. Users per second: 559\n",
      "Similarity column 35736 (100.0%), 2963.50 column/sec. Elapsed time 12.06 sec\n",
      "EvaluatorHoldout: Ignoring 167 ( 0.5%) Users that have less than 1 test interactions\n",
      "EvaluatorHoldout: Processed 35569 (100.0%) in 1.07 min. Users per second: 556\n",
      "Similarity column 35736 (100.0%), 2946.94 column/sec. Elapsed time 12.13 sec\n",
      "EvaluatorHoldout: Ignoring 172 ( 0.5%) Users that have less than 1 test interactions\n",
      "EvaluatorHoldout: Processed 35564 (100.0%) in 1.07 min. Users per second: 555\n"
     ]
    },
    {
     "name": "stderr",
     "output_type": "stream",
     "text": [
      "[I 2025-01-06 19:19:29,809] Trial 303 finished with value: 0.0421037644792354 and parameters: {'similarity': 'asymmetric', 'topK': 736, 'shrink': 323, 'feature_weighting': 'BM25', 'asymmetric_alpha': 0.4708424465241985}. Best is trial 298 with value: 0.04250542256425647.\n"
     ]
    },
    {
     "name": "stdout",
     "output_type": "stream",
     "text": [
      "Similarity column 35736 (100.0%), 2967.58 column/sec. Elapsed time 12.04 sec\n",
      "EvaluatorHoldout: Ignoring 173 ( 0.5%) Users that have less than 1 test interactions\n",
      "EvaluatorHoldout: Processed 35563 (100.0%) in 1.06 min. Users per second: 559\n",
      "Similarity column 35736 (100.0%), 2966.25 column/sec. Elapsed time 12.05 sec\n",
      "EvaluatorHoldout: Ignoring 163 ( 0.5%) Users that have less than 1 test interactions\n",
      "EvaluatorHoldout: Processed 35573 (100.0%) in 1.06 min. Users per second: 558\n",
      "Similarity column 35736 (100.0%), 2969.52 column/sec. Elapsed time 12.03 sec\n",
      "EvaluatorHoldout: Ignoring 150 ( 0.4%) Users that have less than 1 test interactions\n",
      "EvaluatorHoldout: Processed 35586 (100.0%) in 1.06 min. Users per second: 561\n",
      "Similarity column 35736 (100.0%), 2948.90 column/sec. Elapsed time 12.12 sec\n",
      "EvaluatorHoldout: Ignoring 167 ( 0.5%) Users that have less than 1 test interactions\n",
      "EvaluatorHoldout: Processed 35569 (100.0%) in 1.05 min. Users per second: 565\n",
      "Similarity column 35736 (100.0%), 2956.16 column/sec. Elapsed time 12.09 sec\n",
      "EvaluatorHoldout: Ignoring 172 ( 0.5%) Users that have less than 1 test interactions\n",
      "EvaluatorHoldout: Processed 35564 (100.0%) in 1.05 min. Users per second: 563\n"
     ]
    },
    {
     "name": "stderr",
     "output_type": "stream",
     "text": [
      "[I 2025-01-06 19:25:55,286] Trial 304 finished with value: 0.042454453167286424 and parameters: {'similarity': 'asymmetric', 'topK': 749, 'shrink': 412, 'feature_weighting': 'BM25', 'asymmetric_alpha': 0.6800384952727954}. Best is trial 298 with value: 0.04250542256425647.\n"
     ]
    },
    {
     "name": "stdout",
     "output_type": "stream",
     "text": [
      "Similarity column 35736 (100.0%), 2972.40 column/sec. Elapsed time 12.02 sec\n",
      "EvaluatorHoldout: Ignoring 173 ( 0.5%) Users that have less than 1 test interactions\n",
      "EvaluatorHoldout: Processed 35563 (100.0%) in 1.05 min. Users per second: 562\n",
      "Similarity column 35736 (100.0%), 2970.64 column/sec. Elapsed time 12.03 sec\n",
      "EvaluatorHoldout: Ignoring 163 ( 0.5%) Users that have less than 1 test interactions\n",
      "EvaluatorHoldout: Processed 35573 (100.0%) in 1.05 min. Users per second: 566\n",
      "Similarity column 35736 (100.0%), 2976.88 column/sec. Elapsed time 12.00 sec\n",
      "EvaluatorHoldout: Ignoring 150 ( 0.4%) Users that have less than 1 test interactions\n",
      "EvaluatorHoldout: Processed 35586 (100.0%) in 1.05 min. Users per second: 562\n",
      "Similarity column 35736 (100.0%), 2980.91 column/sec. Elapsed time 11.99 sec\n",
      "EvaluatorHoldout: Ignoring 167 ( 0.5%) Users that have less than 1 test interactions\n",
      "EvaluatorHoldout: Processed 35569 (100.0%) in 1.06 min. Users per second: 561\n",
      "Similarity column 35736 (100.0%), 2963.81 column/sec. Elapsed time 12.06 sec\n",
      "EvaluatorHoldout: Ignoring 172 ( 0.5%) Users that have less than 1 test interactions\n",
      "EvaluatorHoldout: Processed 35564 (100.0%) in 1.05 min. Users per second: 565\n"
     ]
    },
    {
     "name": "stderr",
     "output_type": "stream",
     "text": [
      "[I 2025-01-06 19:32:19,433] Trial 305 finished with value: 0.0424881683723153 and parameters: {'similarity': 'asymmetric', 'topK': 747, 'shrink': 368, 'feature_weighting': 'BM25', 'asymmetric_alpha': 0.6788855081546079}. Best is trial 298 with value: 0.04250542256425647.\n"
     ]
    },
    {
     "name": "stdout",
     "output_type": "stream",
     "text": [
      "Similarity column 35736 (100.0%), 2920.35 column/sec. Elapsed time 12.24 sec\n",
      "EvaluatorHoldout: Ignoring 173 ( 0.5%) Users that have less than 1 test interactions\n",
      "EvaluatorHoldout: Processed 35563 (100.0%) in 1.02 min. Users per second: 581\n",
      "Similarity column 35736 (100.0%), 2946.72 column/sec. Elapsed time 12.13 sec\n",
      "EvaluatorHoldout: Ignoring 163 ( 0.5%) Users that have less than 1 test interactions\n",
      "EvaluatorHoldout: Processed 35573 (100.0%) in 1.01 min. Users per second: 584\n",
      "Similarity column 35736 (100.0%), 2931.04 column/sec. Elapsed time 12.19 sec\n",
      "EvaluatorHoldout: Ignoring 150 ( 0.4%) Users that have less than 1 test interactions\n",
      "EvaluatorHoldout: Processed 35586 (100.0%) in 1.03 min. Users per second: 575\n",
      "Similarity column 35736 (100.0%), 2896.56 column/sec. Elapsed time 12.34 sec\n",
      "EvaluatorHoldout: Ignoring 167 ( 0.5%) Users that have less than 1 test interactions\n",
      "EvaluatorHoldout: Processed 35569 (100.0%) in 1.02 min. Users per second: 579\n",
      "Similarity column 35736 (100.0%), 2919.59 column/sec. Elapsed time 12.24 sec\n",
      "EvaluatorHoldout: Ignoring 172 ( 0.5%) Users that have less than 1 test interactions\n",
      "EvaluatorHoldout: Processed 35564 (100.0%) in 1.03 min. Users per second: 578\n"
     ]
    },
    {
     "name": "stderr",
     "output_type": "stream",
     "text": [
      "[I 2025-01-06 19:38:34,631] Trial 306 finished with value: 0.033369146753421175 and parameters: {'similarity': 'asymmetric', 'topK': 711, 'shrink': 371, 'feature_weighting': 'none', 'asymmetric_alpha': 0.6743142685689792}. Best is trial 298 with value: 0.04250542256425647.\n"
     ]
    },
    {
     "name": "stdout",
     "output_type": "stream",
     "text": [
      "Similarity column 35736 (100.0%), 2946.38 column/sec. Elapsed time 12.13 sec\n",
      "EvaluatorHoldout: Ignoring 173 ( 0.5%) Users that have less than 1 test interactions\n",
      "EvaluatorHoldout: Processed 35563 (100.0%) in 1.08 min. Users per second: 550\n",
      "Similarity column 35736 (100.0%), 2942.71 column/sec. Elapsed time 12.14 sec\n",
      "EvaluatorHoldout: Ignoring 163 ( 0.5%) Users that have less than 1 test interactions\n",
      "EvaluatorHoldout: Processed 35573 (100.0%) in 1.07 min. Users per second: 556\n",
      "Similarity column 35736 (100.0%), 2970.68 column/sec. Elapsed time 12.03 sec\n",
      "EvaluatorHoldout: Ignoring 150 ( 0.4%) Users that have less than 1 test interactions\n",
      "EvaluatorHoldout: Processed 35586 (100.0%) in 1.05 min. Users per second: 563\n",
      "Similarity column 35736 (100.0%), 2947.77 column/sec. Elapsed time 12.12 sec\n",
      "EvaluatorHoldout: Ignoring 167 ( 0.5%) Users that have less than 1 test interactions\n",
      "EvaluatorHoldout: Processed 35569 (100.0%) in 1.06 min. Users per second: 559\n",
      "Similarity column 35736 (100.0%), 2964.89 column/sec. Elapsed time 12.05 sec\n",
      "EvaluatorHoldout: Ignoring 172 ( 0.5%) Users that have less than 1 test interactions\n",
      "EvaluatorHoldout: Processed 35564 (100.0%) in 1.05 min. Users per second: 562\n"
     ]
    },
    {
     "name": "stderr",
     "output_type": "stream",
     "text": [
      "[I 2025-01-06 19:45:02,442] Trial 307 finished with value: 0.04246618973455631 and parameters: {'similarity': 'asymmetric', 'topK': 748, 'shrink': 408, 'feature_weighting': 'BM25', 'asymmetric_alpha': 0.6861536547942397}. Best is trial 298 with value: 0.04250542256425647.\n"
     ]
    },
    {
     "name": "stdout",
     "output_type": "stream",
     "text": [
      "Similarity column 35736 (100.0%), 2962.06 column/sec. Elapsed time 12.06 sec\n",
      "EvaluatorHoldout: Ignoring 173 ( 0.5%) Users that have less than 1 test interactions\n",
      "EvaluatorHoldout: Processed 35563 (100.0%) in 1.07 min. Users per second: 555\n",
      "Similarity column 35736 (100.0%), 2967.70 column/sec. Elapsed time 12.04 sec\n",
      "EvaluatorHoldout: Ignoring 163 ( 0.5%) Users that have less than 1 test interactions\n",
      "EvaluatorHoldout: Processed 35573 (100.0%) in 1.06 min. Users per second: 557\n",
      "Similarity column 35736 (100.0%), 2940.19 column/sec. Elapsed time 12.15 sec\n",
      "EvaluatorHoldout: Ignoring 150 ( 0.4%) Users that have less than 1 test interactions\n",
      "EvaluatorHoldout: Processed 35586 (100.0%) in 1.06 min. Users per second: 559\n",
      "Similarity column 35736 (100.0%), 2966.18 column/sec. Elapsed time 12.05 sec\n",
      "EvaluatorHoldout: Ignoring 167 ( 0.5%) Users that have less than 1 test interactions\n",
      "EvaluatorHoldout: Processed 35569 (100.0%) in 1.06 min. Users per second: 559\n",
      "Similarity column 35736 (100.0%), 2930.32 column/sec. Elapsed time 12.20 sec\n",
      "EvaluatorHoldout: Ignoring 172 ( 0.5%) Users that have less than 1 test interactions\n",
      "EvaluatorHoldout: Processed 35564 (100.0%) in 1.06 min. Users per second: 560\n"
     ]
    },
    {
     "name": "stderr",
     "output_type": "stream",
     "text": [
      "[I 2025-01-06 19:51:29,876] Trial 308 finished with value: 0.042375266524694075 and parameters: {'similarity': 'asymmetric', 'topK': 749, 'shrink': 404, 'feature_weighting': 'BM25', 'asymmetric_alpha': 0.6077401588319803}. Best is trial 298 with value: 0.04250542256425647.\n"
     ]
    },
    {
     "name": "stdout",
     "output_type": "stream",
     "text": [
      "Similarity column 35736 (100.0%), 2801.45 column/sec. Elapsed time 12.76 sec\n",
      "EvaluatorHoldout: Ignoring 173 ( 0.5%) Users that have less than 1 test interactions\n",
      "EvaluatorHoldout: Processed 35563 (100.0%) in 1.03 min. Users per second: 577\n",
      "Similarity column 35736 (100.0%), 2809.41 column/sec. Elapsed time 12.72 sec\n",
      "EvaluatorHoldout: Ignoring 163 ( 0.5%) Users that have less than 1 test interactions\n",
      "EvaluatorHoldout: Processed 35573 (100.0%) in 1.03 min. Users per second: 576\n",
      "Similarity column 35736 (100.0%), 2790.63 column/sec. Elapsed time 12.81 sec\n",
      "EvaluatorHoldout: Ignoring 150 ( 0.4%) Users that have less than 1 test interactions\n",
      "EvaluatorHoldout: Processed 35586 (100.0%) in 1.04 min. Users per second: 569\n",
      "Similarity column 35736 (100.0%), 2808.04 column/sec. Elapsed time 12.73 sec\n",
      "EvaluatorHoldout: Ignoring 167 ( 0.5%) Users that have less than 1 test interactions\n",
      "EvaluatorHoldout: Processed 35569 (100.0%) in 1.03 min. Users per second: 575\n",
      "Similarity column 35736 (100.0%), 2787.59 column/sec. Elapsed time 12.82 sec\n",
      "EvaluatorHoldout: Ignoring 172 ( 0.5%) Users that have less than 1 test interactions\n",
      "EvaluatorHoldout: Processed 35564 (100.0%) in 1.03 min. Users per second: 575\n"
     ]
    },
    {
     "name": "stderr",
     "output_type": "stream",
     "text": [
      "[I 2025-01-06 19:57:52,777] Trial 309 finished with value: 0.0394746862765263 and parameters: {'similarity': 'tversky', 'topK': 748, 'shrink': 402, 'feature_weighting': 'BM25', 'tversky_alpha': 1.2506852927038588, 'tversky_beta': 0.5480047477811675}. Best is trial 298 with value: 0.04250542256425647.\n"
     ]
    },
    {
     "name": "stdout",
     "output_type": "stream",
     "text": [
      "Similarity column 35736 (100.0%), 2974.74 column/sec. Elapsed time 12.01 sec\n",
      "EvaluatorHoldout: Ignoring 173 ( 0.5%) Users that have less than 1 test interactions\n",
      "EvaluatorHoldout: Processed 35563 (100.0%) in 1.06 min. Users per second: 559\n",
      "Similarity column 35736 (100.0%), 2967.38 column/sec. Elapsed time 12.04 sec\n",
      "EvaluatorHoldout: Ignoring 163 ( 0.5%) Users that have less than 1 test interactions\n",
      "EvaluatorHoldout: Processed 35573 (100.0%) in 1.06 min. Users per second: 559\n",
      "Similarity column 35736 (100.0%), 2962.22 column/sec. Elapsed time 12.06 sec\n",
      "EvaluatorHoldout: Ignoring 150 ( 0.4%) Users that have less than 1 test interactions\n",
      "EvaluatorHoldout: Processed 35586 (100.0%) in 1.07 min. Users per second: 553\n",
      "Similarity column 35736 (100.0%), 2970.58 column/sec. Elapsed time 12.03 sec\n",
      "EvaluatorHoldout: Ignoring 167 ( 0.5%) Users that have less than 1 test interactions\n",
      "EvaluatorHoldout: Processed 35569 (100.0%) in 1.06 min. Users per second: 559\n",
      "Similarity column 35736 (100.0%), 2955.68 column/sec. Elapsed time 12.09 sec\n",
      "EvaluatorHoldout: Ignoring 172 ( 0.5%) Users that have less than 1 test interactions\n",
      "EvaluatorHoldout: Processed 35564 (100.0%) in 1.06 min. Users per second: 560\n"
     ]
    },
    {
     "name": "stderr",
     "output_type": "stream",
     "text": [
      "[I 2025-01-06 20:04:19,751] Trial 310 finished with value: 0.04232329219160015 and parameters: {'similarity': 'asymmetric', 'topK': 750, 'shrink': 346, 'feature_weighting': 'BM25', 'asymmetric_alpha': 0.5556416293156977}. Best is trial 298 with value: 0.04250542256425647.\n"
     ]
    },
    {
     "name": "stdout",
     "output_type": "stream",
     "text": [
      "Similarity column 35736 (100.0%), 2982.68 column/sec. Elapsed time 11.98 sec\n",
      "EvaluatorHoldout: Ignoring 173 ( 0.5%) Users that have less than 1 test interactions\n",
      "EvaluatorHoldout: Processed 35563 (100.0%) in 1.06 min. Users per second: 558\n",
      "Similarity column 35736 (100.0%), 2955.35 column/sec. Elapsed time 12.09 sec\n",
      "EvaluatorHoldout: Ignoring 163 ( 0.5%) Users that have less than 1 test interactions\n",
      "EvaluatorHoldout: Processed 35573 (100.0%) in 1.07 min. Users per second: 554\n",
      "Similarity column 35736 (100.0%), 2955.50 column/sec. Elapsed time 12.09 sec\n",
      "EvaluatorHoldout: Ignoring 150 ( 0.4%) Users that have less than 1 test interactions\n",
      "EvaluatorHoldout: Processed 35586 (100.0%) in 1.06 min. Users per second: 558\n",
      "Similarity column 35736 (100.0%), 2940.04 column/sec. Elapsed time 12.15 sec\n",
      "EvaluatorHoldout: Ignoring 167 ( 0.5%) Users that have less than 1 test interactions\n",
      "EvaluatorHoldout: Processed 35569 (100.0%) in 1.06 min. Users per second: 557\n",
      "Similarity column 35736 (100.0%), 2962.39 column/sec. Elapsed time 12.06 sec\n",
      "EvaluatorHoldout: Ignoring 172 ( 0.5%) Users that have less than 1 test interactions\n",
      "EvaluatorHoldout: Processed 35564 (100.0%) in 1.05 min. Users per second: 563\n"
     ]
    },
    {
     "name": "stderr",
     "output_type": "stream",
     "text": [
      "[I 2025-01-06 20:10:46,035] Trial 311 finished with value: 0.04234443642737009 and parameters: {'similarity': 'asymmetric', 'topK': 748, 'shrink': 418, 'feature_weighting': 'BM25', 'asymmetric_alpha': 0.6011730039149593}. Best is trial 298 with value: 0.04250542256425647.\n"
     ]
    },
    {
     "name": "stdout",
     "output_type": "stream",
     "text": [
      "Similarity column 35736 (100.0%), 2967.28 column/sec. Elapsed time 12.04 sec\n",
      "EvaluatorHoldout: Ignoring 173 ( 0.5%) Users that have less than 1 test interactions\n",
      "EvaluatorHoldout: Processed 35563 (100.0%) in 1.06 min. Users per second: 557\n",
      "Similarity column 35736 (100.0%), 2952.43 column/sec. Elapsed time 12.10 sec\n",
      "EvaluatorHoldout: Ignoring 163 ( 0.5%) Users that have less than 1 test interactions\n",
      "EvaluatorHoldout: Processed 35573 (100.0%) in 1.07 min. Users per second: 557\n",
      "Similarity column 35736 (100.0%), 2958.46 column/sec. Elapsed time 12.08 sec\n",
      "EvaluatorHoldout: Ignoring 150 ( 0.4%) Users that have less than 1 test interactions\n",
      "EvaluatorHoldout: Processed 35586 (100.0%) in 1.05 min. Users per second: 562\n",
      "Similarity column 35736 (100.0%), 2929.29 column/sec. Elapsed time 12.20 sec\n",
      "EvaluatorHoldout: Ignoring 167 ( 0.5%) Users that have less than 1 test interactions\n",
      "EvaluatorHoldout: Processed 35569 (100.0%) in 1.06 min. Users per second: 559\n",
      "Similarity column 35736 (100.0%), 2963.15 column/sec. Elapsed time 12.06 sec\n",
      "EvaluatorHoldout: Ignoring 172 ( 0.5%) Users that have less than 1 test interactions\n",
      "EvaluatorHoldout: Processed 35564 (100.0%) in 1.06 min. Users per second: 557\n"
     ]
    },
    {
     "name": "stderr",
     "output_type": "stream",
     "text": [
      "[I 2025-01-06 20:17:13,353] Trial 312 finished with value: 0.042480239565006316 and parameters: {'similarity': 'asymmetric', 'topK': 750, 'shrink': 384, 'feature_weighting': 'BM25', 'asymmetric_alpha': 0.6798906485579903}. Best is trial 298 with value: 0.04250542256425647.\n"
     ]
    },
    {
     "name": "stdout",
     "output_type": "stream",
     "text": [
      "Similarity column 35736 (100.0%), 2966.38 column/sec. Elapsed time 12.05 sec\n",
      "EvaluatorHoldout: Ignoring 173 ( 0.5%) Users that have less than 1 test interactions\n",
      "EvaluatorHoldout: Processed 35563 (100.0%) in 1.06 min. Users per second: 559\n",
      "Similarity column 35736 (100.0%), 2968.33 column/sec. Elapsed time 12.04 sec\n",
      "EvaluatorHoldout: Ignoring 163 ( 0.5%) Users that have less than 1 test interactions\n",
      "EvaluatorHoldout: Processed 35573 (100.0%) in 1.06 min. Users per second: 557\n",
      "Similarity column 35736 (100.0%), 2963.72 column/sec. Elapsed time 12.06 sec\n",
      "EvaluatorHoldout: Ignoring 150 ( 0.4%) Users that have less than 1 test interactions\n",
      "EvaluatorHoldout: Processed 35586 (100.0%) in 1.06 min. Users per second: 559\n",
      "Similarity column 35736 (100.0%), 2952.97 column/sec. Elapsed time 12.10 sec\n",
      "EvaluatorHoldout: Ignoring 167 ( 0.5%) Users that have less than 1 test interactions\n",
      "EvaluatorHoldout: Processed 35569 (100.0%) in 1.06 min. Users per second: 561\n",
      "Similarity column 35736 (100.0%), 2958.90 column/sec. Elapsed time 12.08 sec\n",
      "EvaluatorHoldout: Ignoring 172 ( 0.5%) Users that have less than 1 test interactions\n",
      "EvaluatorHoldout: Processed 35564 (100.0%) in 1.06 min. Users per second: 562\n"
     ]
    },
    {
     "name": "stderr",
     "output_type": "stream",
     "text": [
      "[I 2025-01-06 20:23:39,741] Trial 313 finished with value: 0.042445820295304915 and parameters: {'similarity': 'asymmetric', 'topK': 734, 'shrink': 387, 'feature_weighting': 'BM25', 'asymmetric_alpha': 0.6900050931901707}. Best is trial 298 with value: 0.04250542256425647.\n"
     ]
    },
    {
     "name": "stdout",
     "output_type": "stream",
     "text": [
      "Similarity column 35736 (100.0%), 2949.67 column/sec. Elapsed time 12.12 sec\n",
      "EvaluatorHoldout: Ignoring 173 ( 0.5%) Users that have less than 1 test interactions\n",
      "EvaluatorHoldout: Processed 35563 (100.0%) in 1.05 min. Users per second: 563\n",
      "Similarity column 35736 (100.0%), 2978.70 column/sec. Elapsed time 12.00 sec\n",
      "EvaluatorHoldout: Ignoring 163 ( 0.5%) Users that have less than 1 test interactions\n",
      "EvaluatorHoldout: Processed 35573 (100.0%) in 1.05 min. Users per second: 564\n",
      "Similarity column 35736 (100.0%), 2972.41 column/sec. Elapsed time 12.02 sec\n",
      "EvaluatorHoldout: Ignoring 150 ( 0.4%) Users that have less than 1 test interactions\n",
      "EvaluatorHoldout: Processed 35586 (100.0%) in 1.05 min. Users per second: 564\n",
      "Similarity column 35736 (100.0%), 2972.77 column/sec. Elapsed time 12.02 sec\n",
      "EvaluatorHoldout: Ignoring 167 ( 0.5%) Users that have less than 1 test interactions\n",
      "EvaluatorHoldout: Processed 35569 (100.0%) in 1.05 min. Users per second: 563\n",
      "Similarity column 35736 (100.0%), 2969.67 column/sec. Elapsed time 12.03 sec\n",
      "EvaluatorHoldout: Ignoring 172 ( 0.5%) Users that have less than 1 test interactions\n",
      "EvaluatorHoldout: Processed 35564 (100.0%) in 1.05 min. Users per second: 567\n"
     ]
    },
    {
     "name": "stderr",
     "output_type": "stream",
     "text": [
      "[I 2025-01-06 20:30:03,584] Trial 314 finished with value: 0.042374583696995 and parameters: {'similarity': 'asymmetric', 'topK': 713, 'shrink': 376, 'feature_weighting': 'BM25', 'asymmetric_alpha': 0.679598156638714}. Best is trial 298 with value: 0.04250542256425647.\n"
     ]
    },
    {
     "name": "stdout",
     "output_type": "stream",
     "text": [
      "Similarity column 35736 (100.0%), 2933.26 column/sec. Elapsed time 12.18 sec\n",
      "EvaluatorHoldout: Ignoring 173 ( 0.5%) Users that have less than 1 test interactions\n",
      "EvaluatorHoldout: Processed 35563 (100.0%) in 1.06 min. Users per second: 560\n",
      "Similarity column 35736 (100.0%), 2974.56 column/sec. Elapsed time 12.01 sec\n",
      "EvaluatorHoldout: Ignoring 163 ( 0.5%) Users that have less than 1 test interactions\n",
      "EvaluatorHoldout: Processed 35573 (100.0%) in 1.06 min. Users per second: 561\n",
      "Similarity column 35736 (100.0%), 2964.86 column/sec. Elapsed time 12.05 sec\n",
      "EvaluatorHoldout: Ignoring 150 ( 0.4%) Users that have less than 1 test interactions\n",
      "EvaluatorHoldout: Processed 35586 (100.0%) in 1.06 min. Users per second: 558\n",
      "Similarity column 35736 (100.0%), 2972.61 column/sec. Elapsed time 12.02 sec\n",
      "EvaluatorHoldout: Ignoring 167 ( 0.5%) Users that have less than 1 test interactions\n",
      "EvaluatorHoldout: Processed 35569 (100.0%) in 1.05 min. Users per second: 565\n",
      "Similarity column 35736 (100.0%), 2949.70 column/sec. Elapsed time 12.12 sec\n",
      "EvaluatorHoldout: Ignoring 172 ( 0.5%) Users that have less than 1 test interactions\n",
      "EvaluatorHoldout: Processed 35564 (100.0%) in 1.05 min. Users per second: 563\n"
     ]
    },
    {
     "name": "stderr",
     "output_type": "stream",
     "text": [
      "[I 2025-01-06 20:36:28,861] Trial 315 finished with value: 0.0424290927483914 and parameters: {'similarity': 'asymmetric', 'topK': 730, 'shrink': 391, 'feature_weighting': 'BM25', 'asymmetric_alpha': 0.6896933695375436}. Best is trial 298 with value: 0.04250542256425647.\n"
     ]
    },
    {
     "name": "stdout",
     "output_type": "stream",
     "text": [
      "Similarity column 35736 (100.0%), 2979.97 column/sec. Elapsed time 11.99 sec\n",
      "EvaluatorHoldout: Ignoring 173 ( 0.5%) Users that have less than 1 test interactions\n",
      "EvaluatorHoldout: Processed 35563 (100.0%) in 1.06 min. Users per second: 561\n",
      "Similarity column 35736 (100.0%), 2974.15 column/sec. Elapsed time 12.02 sec\n",
      "EvaluatorHoldout: Ignoring 163 ( 0.5%) Users that have less than 1 test interactions\n",
      "EvaluatorHoldout: Processed 35573 (100.0%) in 1.06 min. Users per second: 561\n",
      "Similarity column 35736 (100.0%), 2940.03 column/sec. Elapsed time 12.15 sec\n",
      "EvaluatorHoldout: Ignoring 150 ( 0.4%) Users that have less than 1 test interactions\n",
      "EvaluatorHoldout: Processed 35586 (100.0%) in 1.05 min. Users per second: 563\n",
      "Similarity column 35736 (100.0%), 2967.89 column/sec. Elapsed time 12.04 sec\n",
      "EvaluatorHoldout: Ignoring 167 ( 0.5%) Users that have less than 1 test interactions\n",
      "EvaluatorHoldout: Processed 35569 (100.0%) in 1.06 min. Users per second: 558\n",
      "Similarity column 35736 (100.0%), 2964.22 column/sec. Elapsed time 12.06 sec\n",
      "EvaluatorHoldout: Ignoring 172 ( 0.5%) Users that have less than 1 test interactions\n",
      "EvaluatorHoldout: Processed 35564 (100.0%) in 1.06 min. Users per second: 558\n"
     ]
    },
    {
     "name": "stderr",
     "output_type": "stream",
     "text": [
      "[I 2025-01-06 20:42:55,292] Trial 316 finished with value: 0.04237572739451757 and parameters: {'similarity': 'asymmetric', 'topK': 726, 'shrink': 357, 'feature_weighting': 'BM25', 'asymmetric_alpha': 0.6343900981935621}. Best is trial 298 with value: 0.04250542256425647.\n"
     ]
    },
    {
     "name": "stdout",
     "output_type": "stream",
     "text": [
      "Similarity column 35736 (100.0%), 2958.09 column/sec. Elapsed time 12.08 sec\n",
      "EvaluatorHoldout: Ignoring 173 ( 0.5%) Users that have less than 1 test interactions\n",
      "EvaluatorHoldout: Processed 35563 (100.0%) in 1.04 min. Users per second: 569\n",
      "Similarity column 35736 (100.0%), 2985.18 column/sec. Elapsed time 11.97 sec\n",
      "EvaluatorHoldout: Ignoring 163 ( 0.5%) Users that have less than 1 test interactions\n",
      "EvaluatorHoldout: Processed 35573 (100.0%) in 1.04 min. Users per second: 570\n",
      "Similarity column 35736 (100.0%), 2970.86 column/sec. Elapsed time 12.03 sec\n",
      "EvaluatorHoldout: Ignoring 150 ( 0.4%) Users that have less than 1 test interactions\n",
      "EvaluatorHoldout: Processed 35586 (100.0%) in 1.05 min. Users per second: 567\n",
      "Similarity column 35736 (100.0%), 2969.22 column/sec. Elapsed time 12.04 sec\n",
      "EvaluatorHoldout: Ignoring 167 ( 0.5%) Users that have less than 1 test interactions\n",
      "EvaluatorHoldout: Processed 35569 (100.0%) in 1.05 min. Users per second: 566\n",
      "Similarity column 35736 (100.0%), 2950.67 column/sec. Elapsed time 12.11 sec\n",
      "EvaluatorHoldout: Ignoring 172 ( 0.5%) Users that have less than 1 test interactions\n",
      "EvaluatorHoldout: Processed 35564 (100.0%) in 1.06 min. Users per second: 559\n"
     ]
    },
    {
     "name": "stderr",
     "output_type": "stream",
     "text": [
      "[I 2025-01-06 20:49:17,662] Trial 317 finished with value: 0.04233522292889533 and parameters: {'similarity': 'asymmetric', 'topK': 706, 'shrink': 420, 'feature_weighting': 'BM25', 'asymmetric_alpha': 0.6956674518104828}. Best is trial 298 with value: 0.04250542256425647.\n"
     ]
    },
    {
     "name": "stdout",
     "output_type": "stream",
     "text": [
      "Similarity column 35736 (100.0%), 3098.22 column/sec. Elapsed time 11.53 sec\n",
      "EvaluatorHoldout: Ignoring 173 ( 0.5%) Users that have less than 1 test interactions\n",
      "EvaluatorHoldout: Processed 35563 (100.0%) in 1.04 min. Users per second: 568\n",
      "Similarity column 35736 (100.0%), 3096.69 column/sec. Elapsed time 11.54 sec\n",
      "EvaluatorHoldout: Ignoring 163 ( 0.5%) Users that have less than 1 test interactions\n",
      "EvaluatorHoldout: Processed 35573 (100.0%) in 1.04 min. Users per second: 571\n",
      "Similarity column 35736 (100.0%), 3113.82 column/sec. Elapsed time 11.48 sec\n",
      "EvaluatorHoldout: Ignoring 150 ( 0.4%) Users that have less than 1 test interactions\n",
      "EvaluatorHoldout: Processed 35586 (100.0%) in 1.04 min. Users per second: 571\n",
      "Similarity column 35736 (100.0%), 3112.75 column/sec. Elapsed time 11.48 sec\n",
      "EvaluatorHoldout: Ignoring 167 ( 0.5%) Users that have less than 1 test interactions\n",
      "EvaluatorHoldout: Processed 35569 (100.0%) in 1.04 min. Users per second: 571\n",
      "Similarity column 35736 (100.0%), 3079.74 column/sec. Elapsed time 11.60 sec\n",
      "EvaluatorHoldout: Ignoring 172 ( 0.5%) Users that have less than 1 test interactions\n",
      "EvaluatorHoldout: Processed 35564 (100.0%) in 1.04 min. Users per second: 568\n"
     ]
    },
    {
     "name": "stderr",
     "output_type": "stream",
     "text": [
      "[I 2025-01-06 20:55:36,393] Trial 318 finished with value: 0.03924775283698941 and parameters: {'similarity': 'dice', 'topK': 750, 'shrink': 391, 'feature_weighting': 'BM25'}. Best is trial 298 with value: 0.04250542256425647.\n"
     ]
    },
    {
     "name": "stdout",
     "output_type": "stream",
     "text": [
      "Similarity column 35736 (100.0%), 285.98 column/sec. Elapsed time 2.08 min\n",
      "EvaluatorHoldout: Ignoring 173 ( 0.5%) Users that have less than 1 test interactions\n",
      "EvaluatorHoldout: Processed 35563 (100.0%) in 35.07 sec. Users per second: 1014\n",
      "Similarity column 35736 (100.0%), 287.45 column/sec. Elapsed time 2.07 min\n",
      "EvaluatorHoldout: Ignoring 163 ( 0.5%) Users that have less than 1 test interactions\n",
      "EvaluatorHoldout: Processed 35573 (100.0%) in 35.24 sec. Users per second: 1010\n",
      "Similarity column 35736 (100.0%), 274.36 column/sec. Elapsed time 2.17 min\n",
      "EvaluatorHoldout: Ignoring 150 ( 0.4%) Users that have less than 1 test interactions\n",
      "EvaluatorHoldout: Processed 35586 (100.0%) in 35.69 sec. Users per second: 997\n",
      "Similarity column 35736 (100.0%), 275.89 column/sec. Elapsed time 2.16 min\n",
      "EvaluatorHoldout: Ignoring 167 ( 0.5%) Users that have less than 1 test interactions\n",
      "EvaluatorHoldout: Processed 35569 (100.0%) in 35.31 sec. Users per second: 1007\n",
      "Similarity column 35736 (100.0%), 290.96 column/sec. Elapsed time 2.05 min\n",
      "EvaluatorHoldout: Ignoring 172 ( 0.5%) Users that have less than 1 test interactions\n",
      "EvaluatorHoldout: Processed 35564 (100.0%) in 35.23 sec. Users per second: 1009\n"
     ]
    },
    {
     "name": "stderr",
     "output_type": "stream",
     "text": [
      "[I 2025-01-06 21:09:10,070] Trial 319 finished with value: 0.003740746748729586 and parameters: {'similarity': 'euclidean', 'topK': 727, 'shrink': 305, 'feature_weighting': 'BM25', 'normalize_avg_row': False, 'similarity_from_distance_mode': 'log', 'normalize': False}. Best is trial 298 with value: 0.04250542256425647.\n"
     ]
    },
    {
     "name": "stdout",
     "output_type": "stream",
     "text": [
      "Similarity column 35736 (100.0%), 2970.82 column/sec. Elapsed time 12.03 sec\n",
      "EvaluatorHoldout: Ignoring 173 ( 0.5%) Users that have less than 1 test interactions\n",
      "EvaluatorHoldout: Processed 35563 (100.0%) in 1.05 min. Users per second: 562\n",
      "Similarity column 35736 (100.0%), 2976.56 column/sec. Elapsed time 12.01 sec\n",
      "EvaluatorHoldout: Ignoring 163 ( 0.5%) Users that have less than 1 test interactions\n",
      "EvaluatorHoldout: Processed 35573 (100.0%) in 1.05 min. Users per second: 565\n",
      "Similarity column 35736 (100.0%), 2967.70 column/sec. Elapsed time 12.04 sec\n",
      "EvaluatorHoldout: Ignoring 150 ( 0.4%) Users that have less than 1 test interactions\n",
      "EvaluatorHoldout: Processed 35586 (100.0%) in 1.05 min. Users per second: 563\n",
      "Similarity column 35736 (100.0%), 2975.10 column/sec. Elapsed time 12.01 sec\n",
      "EvaluatorHoldout: Ignoring 167 ( 0.5%) Users that have less than 1 test interactions\n",
      "EvaluatorHoldout: Processed 35569 (100.0%) in 1.05 min. Users per second: 565\n",
      "Similarity column 35736 (100.0%), 2983.18 column/sec. Elapsed time 11.98 sec\n",
      "EvaluatorHoldout: Ignoring 172 ( 0.5%) Users that have less than 1 test interactions\n",
      "EvaluatorHoldout: Processed 35564 (100.0%) in 1.05 min. Users per second: 564\n"
     ]
    },
    {
     "name": "stderr",
     "output_type": "stream",
     "text": [
      "[I 2025-01-06 21:15:34,433] Trial 320 finished with value: 0.042471214874234164 and parameters: {'similarity': 'asymmetric', 'topK': 733, 'shrink': 331, 'feature_weighting': 'BM25', 'asymmetric_alpha': 0.6907165945623264}. Best is trial 298 with value: 0.04250542256425647.\n"
     ]
    },
    {
     "name": "stdout",
     "output_type": "stream",
     "text": [
      "Similarity column 35736 (100.0%), 2968.32 column/sec. Elapsed time 12.04 sec\n",
      "EvaluatorHoldout: Ignoring 173 ( 0.5%) Users that have less than 1 test interactions\n",
      "EvaluatorHoldout: Processed 35563 (100.0%) in 1.05 min. Users per second: 566\n",
      "Similarity column 35736 (100.0%), 2980.55 column/sec. Elapsed time 11.99 sec\n",
      "EvaluatorHoldout: Ignoring 163 ( 0.5%) Users that have less than 1 test interactions\n",
      "EvaluatorHoldout: Processed 35573 (100.0%) in 1.05 min. Users per second: 566\n",
      "Similarity column 35736 (100.0%), 2955.03 column/sec. Elapsed time 12.09 sec\n",
      "EvaluatorHoldout: Ignoring 150 ( 0.4%) Users that have less than 1 test interactions\n",
      "EvaluatorHoldout: Processed 35586 (100.0%) in 1.06 min. Users per second: 560\n",
      "Similarity column 35736 (100.0%), 2971.91 column/sec. Elapsed time 12.02 sec\n",
      "EvaluatorHoldout: Ignoring 167 ( 0.5%) Users that have less than 1 test interactions\n",
      "EvaluatorHoldout: Processed 35569 (100.0%) in 1.05 min. Users per second: 563\n",
      "Similarity column 35736 (100.0%), 2935.36 column/sec. Elapsed time 12.17 sec\n",
      "EvaluatorHoldout: Ignoring 172 ( 0.5%) Users that have less than 1 test interactions\n",
      "EvaluatorHoldout: Processed 35564 (100.0%) in 1.05 min. Users per second: 564\n"
     ]
    },
    {
     "name": "stderr",
     "output_type": "stream",
     "text": [
      "[I 2025-01-06 21:21:58,941] Trial 321 finished with value: 0.042429892318510395 and parameters: {'similarity': 'asymmetric', 'topK': 714, 'shrink': 330, 'feature_weighting': 'BM25', 'asymmetric_alpha': 0.7000627885943354}. Best is trial 298 with value: 0.04250542256425647.\n"
     ]
    },
    {
     "name": "stdout",
     "output_type": "stream",
     "text": [
      "Similarity column 35736 (100.0%), 2962.50 column/sec. Elapsed time 12.06 sec\n",
      "EvaluatorHoldout: Ignoring 173 ( 0.5%) Users that have less than 1 test interactions\n",
      "EvaluatorHoldout: Processed 35563 (100.0%) in 1.08 min. Users per second: 551\n",
      "Similarity column 35736 (100.0%), 2943.70 column/sec. Elapsed time 12.14 sec\n",
      "EvaluatorHoldout: Ignoring 163 ( 0.5%) Users that have less than 1 test interactions\n",
      "EvaluatorHoldout: Processed 35573 (100.0%) in 1.07 min. Users per second: 553\n",
      "Similarity column 35736 (100.0%), 2923.21 column/sec. Elapsed time 12.22 sec\n",
      "EvaluatorHoldout: Ignoring 150 ( 0.4%) Users that have less than 1 test interactions\n",
      "EvaluatorHoldout: Processed 35586 (100.0%) in 1.08 min. Users per second: 551\n",
      "Similarity column 35736 (100.0%), 2920.49 column/sec. Elapsed time 12.24 sec\n",
      "EvaluatorHoldout: Ignoring 167 ( 0.5%) Users that have less than 1 test interactions\n",
      "EvaluatorHoldout: Processed 35569 (100.0%) in 1.07 min. Users per second: 553\n",
      "Similarity column 35736 (100.0%), 2939.86 column/sec. Elapsed time 12.16 sec\n",
      "EvaluatorHoldout: Ignoring 172 ( 0.5%) Users that have less than 1 test interactions\n",
      "EvaluatorHoldout: Processed 35564 (100.0%) in 1.07 min. Users per second: 553\n"
     ]
    },
    {
     "name": "stderr",
     "output_type": "stream",
     "text": [
      "[I 2025-01-06 21:28:30,834] Trial 322 finished with value: 0.04133668607660006 and parameters: {'similarity': 'asymmetric', 'topK': 713, 'shrink': 344, 'feature_weighting': 'BM25', 'asymmetric_alpha': 0.29467012790978875}. Best is trial 298 with value: 0.04250542256425647.\n"
     ]
    },
    {
     "name": "stdout",
     "output_type": "stream",
     "text": [
      "Similarity column 35736 (100.0%), 2945.76 column/sec. Elapsed time 12.13 sec\n",
      "EvaluatorHoldout: Ignoring 173 ( 0.5%) Users that have less than 1 test interactions\n",
      "EvaluatorHoldout: Processed 35563 (100.0%) in 1.08 min. Users per second: 551\n",
      "Similarity column 35736 (100.0%), 2921.35 column/sec. Elapsed time 12.23 sec\n",
      "EvaluatorHoldout: Ignoring 163 ( 0.5%) Users that have less than 1 test interactions\n",
      "EvaluatorHoldout: Processed 35573 (100.0%) in 1.08 min. Users per second: 551\n",
      "Similarity column 35736 (100.0%), 2941.12 column/sec. Elapsed time 12.15 sec\n",
      "EvaluatorHoldout: Ignoring 150 ( 0.4%) Users that have less than 1 test interactions\n",
      "EvaluatorHoldout: Processed 35586 (100.0%) in 1.07 min. Users per second: 554\n",
      "Similarity column 35736 (100.0%), 2939.94 column/sec. Elapsed time 12.16 sec\n",
      "EvaluatorHoldout: Ignoring 167 ( 0.5%) Users that have less than 1 test interactions\n",
      "EvaluatorHoldout: Processed 35569 (100.0%) in 1.07 min. Users per second: 555\n",
      "Similarity column 35736 (100.0%), 2971.17 column/sec. Elapsed time 12.03 sec\n",
      "EvaluatorHoldout: Ignoring 172 ( 0.5%) Users that have less than 1 test interactions\n",
      "EvaluatorHoldout: Processed 35564 (100.0%) in 1.06 min. Users per second: 561\n"
     ]
    },
    {
     "name": "stderr",
     "output_type": "stream",
     "text": [
      "[I 2025-01-06 21:35:00,931] Trial 323 finished with value: 0.042477372047579426 and parameters: {'similarity': 'asymmetric', 'topK': 750, 'shrink': 327, 'feature_weighting': 'BM25', 'asymmetric_alpha': 0.6392250264604754}. Best is trial 298 with value: 0.04250542256425647.\n"
     ]
    },
    {
     "name": "stdout",
     "output_type": "stream",
     "text": [
      "Similarity column 35736 (100.0%), 2962.49 column/sec. Elapsed time 12.06 sec\n",
      "EvaluatorHoldout: Ignoring 173 ( 0.5%) Users that have less than 1 test interactions\n",
      "EvaluatorHoldout: Processed 35563 (100.0%) in 1.05 min. Users per second: 567\n",
      "Similarity column 35736 (100.0%), 2994.74 column/sec. Elapsed time 11.93 sec\n",
      "EvaluatorHoldout: Ignoring 163 ( 0.5%) Users that have less than 1 test interactions\n",
      "EvaluatorHoldout: Processed 35573 (100.0%) in 1.04 min. Users per second: 572\n",
      "Similarity column 35736 (100.0%), 2978.17 column/sec. Elapsed time 12.00 sec\n",
      "EvaluatorHoldout: Ignoring 150 ( 0.4%) Users that have less than 1 test interactions\n",
      "EvaluatorHoldout: Processed 35586 (100.0%) in 1.03 min. Users per second: 574\n",
      "Similarity column 35736 (100.0%), 2987.99 column/sec. Elapsed time 11.96 sec\n",
      "EvaluatorHoldout: Ignoring 167 ( 0.5%) Users that have less than 1 test interactions\n",
      "EvaluatorHoldout: Processed 35569 (100.0%) in 1.03 min. Users per second: 573\n",
      "Similarity column 35736 (100.0%), 2987.97 column/sec. Elapsed time 11.96 sec\n",
      "EvaluatorHoldout: Ignoring 172 ( 0.5%) Users that have less than 1 test interactions\n",
      "EvaluatorHoldout: Processed 35564 (100.0%) in 1.04 min. Users per second: 567\n"
     ]
    },
    {
     "name": "stderr",
     "output_type": "stream",
     "text": [
      "[I 2025-01-06 21:41:21,201] Trial 324 finished with value: 0.04234774717134556 and parameters: {'similarity': 'asymmetric', 'topK': 713, 'shrink': 331, 'feature_weighting': 'BM25', 'asymmetric_alpha': 0.6279366658986781}. Best is trial 298 with value: 0.04250542256425647.\n"
     ]
    },
    {
     "name": "stdout",
     "output_type": "stream",
     "text": [
      "Similarity column 35736 (100.0%), 2926.68 column/sec. Elapsed time 12.21 sec\n",
      "EvaluatorHoldout: Ignoring 173 ( 0.5%) Users that have less than 1 test interactions\n",
      "EvaluatorHoldout: Processed 35563 (100.0%) in 1.04 min. Users per second: 572\n",
      "Similarity column 35736 (100.0%), 2930.24 column/sec. Elapsed time 12.20 sec\n",
      "EvaluatorHoldout: Ignoring 163 ( 0.5%) Users that have less than 1 test interactions\n",
      "EvaluatorHoldout: Processed 35573 (100.0%) in 1.03 min. Users per second: 574\n",
      "Similarity column 35736 (100.0%), 2935.38 column/sec. Elapsed time 12.17 sec\n",
      "EvaluatorHoldout: Ignoring 150 ( 0.4%) Users that have less than 1 test interactions\n",
      "EvaluatorHoldout: Processed 35586 (100.0%) in 1.03 min. Users per second: 576\n",
      "Similarity column 35736 (100.0%), 2931.54 column/sec. Elapsed time 12.19 sec\n",
      "EvaluatorHoldout: Ignoring 167 ( 0.5%) Users that have less than 1 test interactions\n",
      "EvaluatorHoldout: Processed 35569 (100.0%) in 1.03 min. Users per second: 578\n",
      "Similarity column 35736 (100.0%), 2937.42 column/sec. Elapsed time 12.17 sec\n",
      "EvaluatorHoldout: Ignoring 172 ( 0.5%) Users that have less than 1 test interactions\n",
      "EvaluatorHoldout: Processed 35564 (100.0%) in 1.03 min. Users per second: 574\n"
     ]
    },
    {
     "name": "stderr",
     "output_type": "stream",
     "text": [
      "[I 2025-01-06 21:47:39,532] Trial 325 finished with value: 0.03481947253169802 and parameters: {'similarity': 'asymmetric', 'topK': 725, 'shrink': 289, 'feature_weighting': 'TF-IDF', 'asymmetric_alpha': 0.5867368998512307}. Best is trial 298 with value: 0.04250542256425647.\n"
     ]
    },
    {
     "name": "stdout",
     "output_type": "stream",
     "text": [
      "Similarity column 35736 (100.0%), 3004.11 column/sec. Elapsed time 11.90 sec\n",
      "EvaluatorHoldout: Ignoring 173 ( 0.5%) Users that have less than 1 test interactions\n",
      "EvaluatorHoldout: Processed 35563 (100.0%) in 1.04 min. Users per second: 568\n",
      "Similarity column 35736 (100.0%), 2995.34 column/sec. Elapsed time 11.93 sec\n",
      "EvaluatorHoldout: Ignoring 163 ( 0.5%) Users that have less than 1 test interactions\n",
      "EvaluatorHoldout: Processed 35573 (100.0%) in 1.04 min. Users per second: 570\n",
      "Similarity column 35736 (100.0%), 2988.69 column/sec. Elapsed time 11.96 sec\n",
      "EvaluatorHoldout: Ignoring 150 ( 0.4%) Users that have less than 1 test interactions\n",
      "EvaluatorHoldout: Processed 35586 (100.0%) in 1.05 min. Users per second: 565\n",
      "Similarity column 35736 (100.0%), 2953.69 column/sec. Elapsed time 12.10 sec\n",
      "EvaluatorHoldout: Ignoring 167 ( 0.5%) Users that have less than 1 test interactions\n",
      "EvaluatorHoldout: Processed 35569 (100.0%) in 1.06 min. Users per second: 559\n",
      "Similarity column 35736 (100.0%), 2972.65 column/sec. Elapsed time 12.02 sec\n",
      "EvaluatorHoldout: Ignoring 172 ( 0.5%) Users that have less than 1 test interactions\n",
      "EvaluatorHoldout: Processed 35564 (100.0%) in 1.07 min. Users per second: 556\n"
     ]
    },
    {
     "name": "stderr",
     "output_type": "stream",
     "text": [
      "[I 2025-01-06 21:54:03,072] Trial 326 finished with value: 0.04250581613131398 and parameters: {'similarity': 'asymmetric', 'topK': 750, 'shrink': 387, 'feature_weighting': 'BM25', 'asymmetric_alpha': 0.6988308402715684}. Best is trial 326 with value: 0.04250581613131398.\n"
     ]
    },
    {
     "name": "stdout",
     "output_type": "stream",
     "text": [
      "Similarity column 35736 (100.0%), 3002.97 column/sec. Elapsed time 11.90 sec\n",
      "EvaluatorHoldout: Ignoring 173 ( 0.5%) Users that have less than 1 test interactions\n",
      "EvaluatorHoldout: Processed 35563 (100.0%) in 1.05 min. Users per second: 565\n",
      "Similarity column 35736 (100.0%), 3062.79 column/sec. Elapsed time 11.67 sec\n",
      "EvaluatorHoldout: Ignoring 163 ( 0.5%) Users that have less than 1 test interactions\n",
      "EvaluatorHoldout: Processed 35573 (100.0%) in 1.04 min. Users per second: 573\n",
      "Similarity column 35736 (100.0%), 3058.46 column/sec. Elapsed time 11.68 sec\n",
      "EvaluatorHoldout: Ignoring 150 ( 0.4%) Users that have less than 1 test interactions\n",
      "EvaluatorHoldout: Processed 35586 (100.0%) in 1.03 min. Users per second: 573\n",
      "Similarity column 35736 (100.0%), 3040.24 column/sec. Elapsed time 11.75 sec\n",
      "EvaluatorHoldout: Ignoring 167 ( 0.5%) Users that have less than 1 test interactions\n",
      "EvaluatorHoldout: Processed 35569 (100.0%) in 1.03 min. Users per second: 574\n",
      "Similarity column 35736 (100.0%), 3049.99 column/sec. Elapsed time 11.72 sec\n",
      "EvaluatorHoldout: Ignoring 172 ( 0.5%) Users that have less than 1 test interactions\n",
      "EvaluatorHoldout: Processed 35564 (100.0%) in 1.03 min. Users per second: 577\n"
     ]
    },
    {
     "name": "stderr",
     "output_type": "stream",
     "text": [
      "[I 2025-01-06 22:00:22,169] Trial 327 finished with value: 0.03920229113895244 and parameters: {'similarity': 'jaccard', 'topK': 733, 'shrink': 370, 'feature_weighting': 'BM25'}. Best is trial 326 with value: 0.04250581613131398.\n"
     ]
    },
    {
     "name": "stdout",
     "output_type": "stream",
     "text": [
      "Similarity column 35736 (100.0%), 2947.32 column/sec. Elapsed time 12.12 sec\n",
      "EvaluatorHoldout: Ignoring 173 ( 0.5%) Users that have less than 1 test interactions\n",
      "EvaluatorHoldout: Processed 35563 (100.0%) in 1.05 min. Users per second: 565\n",
      "Similarity column 35736 (100.0%), 2976.63 column/sec. Elapsed time 12.01 sec\n",
      "EvaluatorHoldout: Ignoring 163 ( 0.5%) Users that have less than 1 test interactions\n",
      "EvaluatorHoldout: Processed 35573 (100.0%) in 1.05 min. Users per second: 564\n",
      "Similarity column 35736 (100.0%), 2985.65 column/sec. Elapsed time 11.97 sec\n",
      "EvaluatorHoldout: Ignoring 150 ( 0.4%) Users that have less than 1 test interactions\n",
      "EvaluatorHoldout: Processed 35586 (100.0%) in 1.04 min. Users per second: 570\n",
      "Similarity column 35736 (100.0%), 2947.11 column/sec. Elapsed time 12.13 sec\n",
      "EvaluatorHoldout: Ignoring 167 ( 0.5%) Users that have less than 1 test interactions\n",
      "EvaluatorHoldout: Processed 35569 (100.0%) in 1.05 min. Users per second: 566\n",
      "Similarity column 35736 (100.0%), 2983.99 column/sec. Elapsed time 11.98 sec\n",
      "EvaluatorHoldout: Ignoring 172 ( 0.5%) Users that have less than 1 test interactions\n",
      "EvaluatorHoldout: Processed 35564 (100.0%) in 1.04 min. Users per second: 568\n"
     ]
    },
    {
     "name": "stderr",
     "output_type": "stream",
     "text": [
      "[I 2025-01-06 22:06:44,663] Trial 328 finished with value: 0.042355796266955306 and parameters: {'similarity': 'asymmetric', 'topK': 724, 'shrink': 390, 'feature_weighting': 'BM25', 'asymmetric_alpha': 0.6419442102418342}. Best is trial 326 with value: 0.04250581613131398.\n"
     ]
    },
    {
     "name": "stdout",
     "output_type": "stream",
     "text": [
      "Similarity column 35736 (100.0%), 2965.81 column/sec. Elapsed time 12.05 sec\n",
      "EvaluatorHoldout: Ignoring 173 ( 0.5%) Users that have less than 1 test interactions\n",
      "EvaluatorHoldout: Processed 35563 (100.0%) in 1.03 min. Users per second: 574\n",
      "Similarity column 35736 (100.0%), 2984.45 column/sec. Elapsed time 11.97 sec\n",
      "EvaluatorHoldout: Ignoring 163 ( 0.5%) Users that have less than 1 test interactions\n",
      "EvaluatorHoldout: Processed 35573 (100.0%) in 1.04 min. Users per second: 568\n",
      "Similarity column 35736 (100.0%), 2973.40 column/sec. Elapsed time 12.02 sec\n",
      "EvaluatorHoldout: Ignoring 150 ( 0.4%) Users that have less than 1 test interactions\n",
      "EvaluatorHoldout: Processed 35586 (100.0%) in 1.05 min. Users per second: 567\n",
      "Similarity column 35736 (100.0%), 2958.07 column/sec. Elapsed time 12.08 sec\n",
      "EvaluatorHoldout: Ignoring 167 ( 0.5%) Users that have less than 1 test interactions\n",
      "EvaluatorHoldout: Processed 35569 (100.0%) in 1.04 min. Users per second: 572\n",
      "Similarity column 35736 (100.0%), 2985.56 column/sec. Elapsed time 11.97 sec\n",
      "EvaluatorHoldout: Ignoring 172 ( 0.5%) Users that have less than 1 test interactions\n",
      "EvaluatorHoldout: Processed 35564 (100.0%) in 1.03 min. Users per second: 574\n"
     ]
    },
    {
     "name": "stderr",
     "output_type": "stream",
     "text": [
      "[I 2025-01-06 22:13:03,837] Trial 329 finished with value: 0.04237505508953284 and parameters: {'similarity': 'asymmetric', 'topK': 699, 'shrink': 330, 'feature_weighting': 'BM25', 'asymmetric_alpha': 0.7011763868441274}. Best is trial 326 with value: 0.04250581613131398.\n"
     ]
    },
    {
     "name": "stdout",
     "output_type": "stream",
     "text": [
      "Similarity column 35736 (100.0%), 2902.37 column/sec. Elapsed time 12.31 sec\n",
      "EvaluatorHoldout: Ignoring 173 ( 0.5%) Users that have less than 1 test interactions\n",
      "EvaluatorHoldout: Processed 35563 (100.0%) in 1.03 min. Users per second: 573\n",
      "Similarity column 35736 (100.0%), 2927.38 column/sec. Elapsed time 12.21 sec\n",
      "EvaluatorHoldout: Ignoring 163 ( 0.5%) Users that have less than 1 test interactions\n",
      "EvaluatorHoldout: Processed 35573 (100.0%) in 1.03 min. Users per second: 575\n",
      "Similarity column 35736 (100.0%), 2919.04 column/sec. Elapsed time 12.24 sec\n",
      "EvaluatorHoldout: Ignoring 150 ( 0.4%) Users that have less than 1 test interactions\n",
      "EvaluatorHoldout: Processed 35586 (100.0%) in 1.04 min. Users per second: 571\n",
      "Similarity column 35736 (100.0%), 2902.55 column/sec. Elapsed time 12.31 sec\n",
      "EvaluatorHoldout: Ignoring 167 ( 0.5%) Users that have less than 1 test interactions\n",
      "EvaluatorHoldout: Processed 35569 (100.0%) in 1.03 min. Users per second: 574\n",
      "Similarity column 35736 (100.0%), 2926.63 column/sec. Elapsed time 12.21 sec\n",
      "EvaluatorHoldout: Ignoring 172 ( 0.5%) Users that have less than 1 test interactions\n",
      "EvaluatorHoldout: Processed 35564 (100.0%) in 1.02 min. Users per second: 581\n"
     ]
    },
    {
     "name": "stderr",
     "output_type": "stream",
     "text": [
      "[I 2025-01-06 22:19:22,104] Trial 330 finished with value: 0.03311809896912724 and parameters: {'similarity': 'asymmetric', 'topK': 750, 'shrink': 361, 'feature_weighting': 'none', 'asymmetric_alpha': 0.6614319450013393}. Best is trial 326 with value: 0.04250581613131398.\n"
     ]
    },
    {
     "name": "stdout",
     "output_type": "stream",
     "text": [
      "Similarity column 35736 (100.0%), 2974.71 column/sec. Elapsed time 12.01 sec\n",
      "EvaluatorHoldout: Ignoring 173 ( 0.5%) Users that have less than 1 test interactions\n",
      "EvaluatorHoldout: Processed 35563 (100.0%) in 1.06 min. Users per second: 557\n",
      "Similarity column 35736 (100.0%), 2976.59 column/sec. Elapsed time 12.01 sec\n",
      "EvaluatorHoldout: Ignoring 163 ( 0.5%) Users that have less than 1 test interactions\n",
      "EvaluatorHoldout: Processed 35573 (100.0%) in 1.05 min. Users per second: 562\n",
      "Similarity column 35736 (100.0%), 2963.17 column/sec. Elapsed time 12.06 sec\n",
      "EvaluatorHoldout: Ignoring 150 ( 0.4%) Users that have less than 1 test interactions\n",
      "EvaluatorHoldout: Processed 35586 (100.0%) in 1.07 min. Users per second: 555\n",
      "Similarity column 35736 (100.0%), 2970.38 column/sec. Elapsed time 12.03 sec\n",
      "EvaluatorHoldout: Ignoring 167 ( 0.5%) Users that have less than 1 test interactions\n",
      "EvaluatorHoldout: Processed 35569 (100.0%) in 1.06 min. Users per second: 559\n",
      "Similarity column 35736 (100.0%), 2955.90 column/sec. Elapsed time 12.09 sec\n",
      "EvaluatorHoldout: Ignoring 172 ( 0.5%) Users that have less than 1 test interactions\n",
      "EvaluatorHoldout: Processed 35564 (100.0%) in 1.06 min. Users per second: 559\n"
     ]
    },
    {
     "name": "stderr",
     "output_type": "stream",
     "text": [
      "[I 2025-01-06 22:25:48,874] Trial 331 finished with value: 0.042293010654434866 and parameters: {'similarity': 'asymmetric', 'topK': 750, 'shrink': 407, 'feature_weighting': 'BM25', 'asymmetric_alpha': 0.56694819610271}. Best is trial 326 with value: 0.04250581613131398.\n"
     ]
    },
    {
     "name": "stdout",
     "output_type": "stream",
     "text": [
      "Similarity column 35736 (100.0%), 2990.78 column/sec. Elapsed time 11.95 sec\n",
      "EvaluatorHoldout: Ignoring 173 ( 0.5%) Users that have less than 1 test interactions\n",
      "EvaluatorHoldout: Processed 35563 (100.0%) in 1.06 min. Users per second: 561\n",
      "Similarity column 35736 (100.0%), 2962.26 column/sec. Elapsed time 12.06 sec\n",
      "EvaluatorHoldout: Ignoring 163 ( 0.5%) Users that have less than 1 test interactions\n",
      "EvaluatorHoldout: Processed 35573 (100.0%) in 1.05 min. Users per second: 563\n",
      "Similarity column 35736 (100.0%), 2975.21 column/sec. Elapsed time 12.01 sec\n",
      "EvaluatorHoldout: Ignoring 150 ( 0.4%) Users that have less than 1 test interactions\n",
      "EvaluatorHoldout: Processed 35586 (100.0%) in 1.06 min. Users per second: 561\n",
      "Similarity column 35736 (100.0%), 2989.59 column/sec. Elapsed time 11.95 sec\n",
      "EvaluatorHoldout: Ignoring 167 ( 0.5%) Users that have less than 1 test interactions\n",
      "EvaluatorHoldout: Processed 35569 (100.0%) in 1.06 min. Users per second: 561\n",
      "Similarity column 35736 (100.0%), 2978.26 column/sec. Elapsed time 12.00 sec\n",
      "EvaluatorHoldout: Ignoring 172 ( 0.5%) Users that have less than 1 test interactions\n",
      "EvaluatorHoldout: Processed 35564 (100.0%) in 1.05 min. Users per second: 564\n"
     ]
    },
    {
     "name": "stderr",
     "output_type": "stream",
     "text": [
      "[I 2025-01-06 22:32:13,222] Trial 332 finished with value: 0.042363955885147284 and parameters: {'similarity': 'asymmetric', 'topK': 734, 'shrink': 380, 'feature_weighting': 'BM25', 'asymmetric_alpha': 0.6221396977846211}. Best is trial 326 with value: 0.04250581613131398.\n"
     ]
    },
    {
     "name": "stdout",
     "output_type": "stream",
     "text": [
      "Similarity column 35736 (100.0%), 2989.65 column/sec. Elapsed time 11.95 sec\n",
      "EvaluatorHoldout: Ignoring 173 ( 0.5%) Users that have less than 1 test interactions\n",
      "EvaluatorHoldout: Processed 35563 (100.0%) in 1.04 min. Users per second: 567\n",
      "Similarity column 35736 (100.0%), 2953.65 column/sec. Elapsed time 12.10 sec\n",
      "EvaluatorHoldout: Ignoring 163 ( 0.5%) Users that have less than 1 test interactions\n",
      "EvaluatorHoldout: Processed 35573 (100.0%) in 1.06 min. Users per second: 557\n",
      "Similarity column 35736 (100.0%), 2954.42 column/sec. Elapsed time 12.10 sec\n",
      "EvaluatorHoldout: Ignoring 150 ( 0.4%) Users that have less than 1 test interactions\n",
      "EvaluatorHoldout: Processed 35586 (100.0%) in 1.05 min. Users per second: 563\n",
      "Similarity column 35736 (100.0%), 2946.91 column/sec. Elapsed time 12.13 sec\n",
      "EvaluatorHoldout: Ignoring 167 ( 0.5%) Users that have less than 1 test interactions\n",
      "EvaluatorHoldout: Processed 35569 (100.0%) in 1.04 min. Users per second: 569\n",
      "Similarity column 35736 (100.0%), 2978.95 column/sec. Elapsed time 12.00 sec\n",
      "EvaluatorHoldout: Ignoring 172 ( 0.5%) Users that have less than 1 test interactions\n",
      "EvaluatorHoldout: Processed 35564 (100.0%) in 1.05 min. Users per second: 566\n"
     ]
    },
    {
     "name": "stderr",
     "output_type": "stream",
     "text": [
      "[I 2025-01-06 22:38:37,168] Trial 333 finished with value: 0.042357993741625986 and parameters: {'similarity': 'asymmetric', 'topK': 714, 'shrink': 427, 'feature_weighting': 'BM25', 'asymmetric_alpha': 0.6990059469976991}. Best is trial 326 with value: 0.04250581613131398.\n"
     ]
    },
    {
     "name": "stdout",
     "output_type": "stream",
     "text": [
      "Similarity column 35736 (100.0%), 2968.15 column/sec. Elapsed time 12.04 sec\n",
      "EvaluatorHoldout: Ignoring 173 ( 0.5%) Users that have less than 1 test interactions\n",
      "EvaluatorHoldout: Processed 35563 (100.0%) in 1.06 min. Users per second: 560\n",
      "Similarity column 35736 (100.0%), 2948.83 column/sec. Elapsed time 12.12 sec\n",
      "EvaluatorHoldout: Ignoring 163 ( 0.5%) Users that have less than 1 test interactions\n",
      "EvaluatorHoldout: Processed 35573 (100.0%) in 1.05 min. Users per second: 562\n",
      "Similarity column 35736 (100.0%), 2976.29 column/sec. Elapsed time 12.01 sec\n",
      "EvaluatorHoldout: Ignoring 150 ( 0.4%) Users that have less than 1 test interactions\n",
      "EvaluatorHoldout: Processed 35586 (100.0%) in 1.05 min. Users per second: 566\n",
      "Similarity column 35736 (100.0%), 2972.32 column/sec. Elapsed time 12.02 sec\n",
      "EvaluatorHoldout: Ignoring 167 ( 0.5%) Users that have less than 1 test interactions\n",
      "EvaluatorHoldout: Processed 35569 (100.0%) in 1.05 min. Users per second: 565\n",
      "Similarity column 35736 (100.0%), 2974.21 column/sec. Elapsed time 12.02 sec\n",
      "EvaluatorHoldout: Ignoring 172 ( 0.5%) Users that have less than 1 test interactions\n",
      "EvaluatorHoldout: Processed 35564 (100.0%) in 1.04 min. Users per second: 567\n"
     ]
    },
    {
     "name": "stderr",
     "output_type": "stream",
     "text": [
      "[I 2025-01-06 22:45:00,531] Trial 334 finished with value: 0.0424994096362127 and parameters: {'similarity': 'asymmetric', 'topK': 734, 'shrink': 260, 'feature_weighting': 'BM25', 'asymmetric_alpha': 0.6571585940244443}. Best is trial 326 with value: 0.04250581613131398.\n"
     ]
    },
    {
     "name": "stdout",
     "output_type": "stream",
     "text": [
      "Similarity column 35736 (100.0%), 2979.66 column/sec. Elapsed time 11.99 sec\n",
      "EvaluatorHoldout: Ignoring 173 ( 0.5%) Users that have less than 1 test interactions\n",
      "EvaluatorHoldout: Processed 35563 (100.0%) in 1.04 min. Users per second: 567\n",
      "Similarity column 35736 (100.0%), 2974.85 column/sec. Elapsed time 12.01 sec\n",
      "EvaluatorHoldout: Ignoring 163 ( 0.5%) Users that have less than 1 test interactions\n",
      "EvaluatorHoldout: Processed 35573 (100.0%) in 1.06 min. Users per second: 560\n",
      "Similarity column 35736 (100.0%), 2971.17 column/sec. Elapsed time 12.03 sec\n",
      "EvaluatorHoldout: Ignoring 150 ( 0.4%) Users that have less than 1 test interactions\n",
      "EvaluatorHoldout: Processed 35586 (100.0%) in 1.06 min. Users per second: 561\n",
      "Similarity column 35736 (100.0%), 2956.39 column/sec. Elapsed time 12.09 sec\n",
      "EvaluatorHoldout: Ignoring 167 ( 0.5%) Users that have less than 1 test interactions\n",
      "EvaluatorHoldout: Processed 35569 (100.0%) in 1.05 min. Users per second: 562\n",
      "Similarity column 35736 (100.0%), 2966.37 column/sec. Elapsed time 12.05 sec\n",
      "EvaluatorHoldout: Ignoring 172 ( 0.5%) Users that have less than 1 test interactions\n",
      "EvaluatorHoldout: Processed 35564 (100.0%) in 1.05 min. Users per second: 566\n"
     ]
    },
    {
     "name": "stderr",
     "output_type": "stream",
     "text": [
      "[I 2025-01-06 22:51:24,707] Trial 335 finished with value: 0.04233556312642726 and parameters: {'similarity': 'asymmetric', 'topK': 723, 'shrink': 303, 'feature_weighting': 'BM25', 'asymmetric_alpha': 0.5934692336934855}. Best is trial 326 with value: 0.04250581613131398.\n"
     ]
    },
    {
     "name": "stdout",
     "output_type": "stream",
     "text": [
      "Similarity column 35736 (100.0%), 3169.77 column/sec. Elapsed time 11.27 sec\n",
      "EvaluatorHoldout: Ignoring 173 ( 0.5%) Users that have less than 1 test interactions\n",
      "EvaluatorHoldout: Processed 35563 (100.0%) in 37.87 sec. Users per second: 939\n",
      "Similarity column 35736 (100.0%), 3183.29 column/sec. Elapsed time 11.23 sec\n",
      "EvaluatorHoldout: Ignoring 163 ( 0.5%) Users that have less than 1 test interactions\n",
      "EvaluatorHoldout: Processed 35573 (100.0%) in 38.34 sec. Users per second: 928\n",
      "Similarity column 35736 (100.0%), 3127.32 column/sec. Elapsed time 11.43 sec\n",
      "EvaluatorHoldout: Ignoring 150 ( 0.4%) Users that have less than 1 test interactions\n",
      "EvaluatorHoldout: Processed 35586 (100.0%) in 38.22 sec. Users per second: 931\n",
      "Similarity column 35736 (100.0%), 3155.31 column/sec. Elapsed time 11.33 sec\n",
      "EvaluatorHoldout: Ignoring 167 ( 0.5%) Users that have less than 1 test interactions\n",
      "EvaluatorHoldout: Processed 35569 (100.0%) in 38.13 sec. Users per second: 933\n",
      "Similarity column 35736 (100.0%), 3148.34 column/sec. Elapsed time 11.35 sec\n",
      "EvaluatorHoldout: Ignoring 172 ( 0.5%) Users that have less than 1 test interactions\n",
      "EvaluatorHoldout: Processed 35564 (100.0%) in 38.37 sec. Users per second: 927\n"
     ]
    },
    {
     "name": "stderr",
     "output_type": "stream",
     "text": [
      "[I 2025-01-06 22:55:34,222] Trial 336 finished with value: 0.024114068866089734 and parameters: {'similarity': 'asymmetric', 'topK': 25, 'shrink': 261, 'feature_weighting': 'BM25', 'asymmetric_alpha': 0.485065234207536}. Best is trial 326 with value: 0.04250581613131398.\n"
     ]
    },
    {
     "name": "stdout",
     "output_type": "stream",
     "text": [
      "Similarity column 35736 (100.0%), 2794.01 column/sec. Elapsed time 12.79 sec\n",
      "EvaluatorHoldout: Ignoring 173 ( 0.5%) Users that have less than 1 test interactions\n",
      "EvaluatorHoldout: Processed 35563 (100.0%) in 1.03 min. Users per second: 576\n",
      "Similarity column 35736 (100.0%), 2794.28 column/sec. Elapsed time 12.79 sec\n",
      "EvaluatorHoldout: Ignoring 163 ( 0.5%) Users that have less than 1 test interactions\n",
      "EvaluatorHoldout: Processed 35573 (100.0%) in 1.03 min. Users per second: 576\n",
      "Similarity column 35736 (100.0%), 2814.44 column/sec. Elapsed time 12.70 sec\n",
      "EvaluatorHoldout: Ignoring 150 ( 0.4%) Users that have less than 1 test interactions\n",
      "EvaluatorHoldout: Processed 35586 (100.0%) in 1.03 min. Users per second: 575\n",
      "Similarity column 35736 (100.0%), 2788.50 column/sec. Elapsed time 12.82 sec\n",
      "EvaluatorHoldout: Ignoring 167 ( 0.5%) Users that have less than 1 test interactions\n",
      "EvaluatorHoldout: Processed 35569 (100.0%) in 1.03 min. Users per second: 573\n",
      "Similarity column 35736 (100.0%), 2768.49 column/sec. Elapsed time 12.91 sec\n",
      "EvaluatorHoldout: Ignoring 172 ( 0.5%) Users that have less than 1 test interactions\n",
      "EvaluatorHoldout: Processed 35564 (100.0%) in 1.06 min. Users per second: 561\n"
     ]
    },
    {
     "name": "stderr",
     "output_type": "stream",
     "text": [
      "[I 2025-01-06 23:01:58,422] Trial 337 finished with value: 0.03963040555756928 and parameters: {'similarity': 'tversky', 'topK': 736, 'shrink': 399, 'feature_weighting': 'BM25', 'tversky_alpha': 1.711051684926896, 'tversky_beta': 1.372836283446023}. Best is trial 326 with value: 0.04250581613131398.\n"
     ]
    },
    {
     "name": "stdout",
     "output_type": "stream",
     "text": [
      "Similarity column 35736 (100.0%), 2950.84 column/sec. Elapsed time 12.11 sec\n",
      "EvaluatorHoldout: Ignoring 173 ( 0.5%) Users that have less than 1 test interactions\n",
      "EvaluatorHoldout: Processed 35563 (100.0%) in 1.06 min. Users per second: 562\n",
      "Similarity column 35736 (100.0%), 2970.92 column/sec. Elapsed time 12.03 sec\n",
      "EvaluatorHoldout: Ignoring 163 ( 0.5%) Users that have less than 1 test interactions\n",
      "EvaluatorHoldout: Processed 35573 (100.0%) in 1.05 min. Users per second: 567\n",
      "Similarity column 35736 (100.0%), 2986.13 column/sec. Elapsed time 11.97 sec\n",
      "EvaluatorHoldout: Ignoring 150 ( 0.4%) Users that have less than 1 test interactions\n",
      "EvaluatorHoldout: Processed 35586 (100.0%) in 1.04 min. Users per second: 571\n",
      "Similarity column 35736 (100.0%), 2976.45 column/sec. Elapsed time 12.01 sec\n",
      "EvaluatorHoldout: Ignoring 167 ( 0.5%) Users that have less than 1 test interactions\n",
      "EvaluatorHoldout: Processed 35569 (100.0%) in 1.02 min. Users per second: 579\n",
      "Similarity column 35736 (100.0%), 2997.28 column/sec. Elapsed time 11.92 sec\n",
      "EvaluatorHoldout: Ignoring 172 ( 0.5%) Users that have less than 1 test interactions\n",
      "EvaluatorHoldout: Processed 35564 (100.0%) in 1.03 min. Users per second: 574\n"
     ]
    },
    {
     "name": "stderr",
     "output_type": "stream",
     "text": [
      "[I 2025-01-06 23:08:18,691] Trial 338 finished with value: 0.04232413097730626 and parameters: {'similarity': 'asymmetric', 'topK': 702, 'shrink': 363, 'feature_weighting': 'BM25', 'asymmetric_alpha': 0.6452435054269567}. Best is trial 326 with value: 0.04250581613131398.\n"
     ]
    },
    {
     "name": "stdout",
     "output_type": "stream",
     "text": [
      "Similarity column 35736 (100.0%), 2966.56 column/sec. Elapsed time 12.05 sec\n",
      "EvaluatorHoldout: Ignoring 173 ( 0.5%) Users that have less than 1 test interactions\n",
      "EvaluatorHoldout: Processed 35563 (100.0%) in 1.06 min. Users per second: 562\n",
      "Similarity column 35736 (100.0%), 2977.53 column/sec. Elapsed time 12.00 sec\n",
      "EvaluatorHoldout: Ignoring 163 ( 0.5%) Users that have less than 1 test interactions\n",
      "EvaluatorHoldout: Processed 35573 (100.0%) in 1.05 min. Users per second: 565\n",
      "Similarity column 35736 (100.0%), 2976.94 column/sec. Elapsed time 12.00 sec\n",
      "EvaluatorHoldout: Ignoring 150 ( 0.4%) Users that have less than 1 test interactions\n",
      "EvaluatorHoldout: Processed 35586 (100.0%) in 1.05 min. Users per second: 564\n",
      "Similarity column 35736 (100.0%), 2957.33 column/sec. Elapsed time 12.08 sec\n",
      "EvaluatorHoldout: Ignoring 167 ( 0.5%) Users that have less than 1 test interactions\n",
      "EvaluatorHoldout: Processed 35569 (100.0%) in 1.05 min. Users per second: 564\n",
      "Similarity column 35736 (100.0%), 2992.89 column/sec. Elapsed time 11.94 sec\n",
      "EvaluatorHoldout: Ignoring 172 ( 0.5%) Users that have less than 1 test interactions\n",
      "EvaluatorHoldout: Processed 35564 (100.0%) in 1.05 min. Users per second: 565\n"
     ]
    },
    {
     "name": "stderr",
     "output_type": "stream",
     "text": [
      "[I 2025-01-06 23:14:42,304] Trial 339 finished with value: 0.042576295839399356 and parameters: {'similarity': 'asymmetric', 'topK': 750, 'shrink': 234, 'feature_weighting': 'BM25', 'asymmetric_alpha': 0.66092600096456}. Best is trial 339 with value: 0.042576295839399356.\n"
     ]
    },
    {
     "name": "stdout",
     "output_type": "stream",
     "text": [
      "Similarity column 35736 (100.0%), 2982.62 column/sec. Elapsed time 11.98 sec\n",
      "EvaluatorHoldout: Ignoring 173 ( 0.5%) Users that have less than 1 test interactions\n",
      "EvaluatorHoldout: Processed 35563 (100.0%) in 1.04 min. Users per second: 568\n",
      "Similarity column 35736 (100.0%), 2993.32 column/sec. Elapsed time 11.94 sec\n",
      "EvaluatorHoldout: Ignoring 163 ( 0.5%) Users that have less than 1 test interactions\n",
      "EvaluatorHoldout: Processed 35573 (100.0%) in 1.04 min. Users per second: 568\n",
      "Similarity column 35736 (100.0%), 2969.34 column/sec. Elapsed time 12.03 sec\n",
      "EvaluatorHoldout: Ignoring 150 ( 0.4%) Users that have less than 1 test interactions\n",
      "EvaluatorHoldout: Processed 35586 (100.0%) in 1.04 min. Users per second: 570\n",
      "Similarity column 35736 (100.0%), 2978.49 column/sec. Elapsed time 12.00 sec\n",
      "EvaluatorHoldout: Ignoring 167 ( 0.5%) Users that have less than 1 test interactions\n",
      "EvaluatorHoldout: Processed 35569 (100.0%) in 1.04 min. Users per second: 572\n",
      "Similarity column 35736 (100.0%), 2999.00 column/sec. Elapsed time 11.92 sec\n",
      "EvaluatorHoldout: Ignoring 172 ( 0.5%) Users that have less than 1 test interactions\n",
      "EvaluatorHoldout: Processed 35564 (100.0%) in 1.04 min. Users per second: 570\n"
     ]
    },
    {
     "name": "stderr",
     "output_type": "stream",
     "text": [
      "[I 2025-01-06 23:21:02,423] Trial 340 finished with value: 0.042499032580017825 and parameters: {'similarity': 'asymmetric', 'topK': 719, 'shrink': 227, 'feature_weighting': 'BM25', 'asymmetric_alpha': 0.7185713510030752}. Best is trial 339 with value: 0.042576295839399356.\n"
     ]
    },
    {
     "name": "stdout",
     "output_type": "stream",
     "text": [
      "Similarity column 35736 (100.0%), 2952.36 column/sec. Elapsed time 12.10 sec\n",
      "EvaluatorHoldout: Ignoring 173 ( 0.5%) Users that have less than 1 test interactions\n",
      "EvaluatorHoldout: Processed 35563 (100.0%) in 57.09 sec. Users per second: 623\n",
      "Similarity column 35736 (100.0%), 2934.28 column/sec. Elapsed time 12.18 sec\n",
      "EvaluatorHoldout: Ignoring 163 ( 0.5%) Users that have less than 1 test interactions\n",
      "EvaluatorHoldout: Processed 35573 (100.0%) in 57.02 sec. Users per second: 624\n",
      "Similarity column 35736 (100.0%), 2978.26 column/sec. Elapsed time 12.00 sec\n",
      "EvaluatorHoldout: Ignoring 150 ( 0.4%) Users that have less than 1 test interactions\n",
      "EvaluatorHoldout: Processed 35586 (100.0%) in 57.00 sec. Users per second: 624\n",
      "Similarity column 35736 (100.0%), 2972.54 column/sec. Elapsed time 12.02 sec\n",
      "EvaluatorHoldout: Ignoring 167 ( 0.5%) Users that have less than 1 test interactions\n",
      "EvaluatorHoldout: Processed 35569 (100.0%) in 56.92 sec. Users per second: 625\n",
      "Similarity column 35736 (100.0%), 2953.52 column/sec. Elapsed time 12.10 sec\n",
      "EvaluatorHoldout: Ignoring 172 ( 0.5%) Users that have less than 1 test interactions\n",
      "EvaluatorHoldout: Processed 35564 (100.0%) in 57.25 sec. Users per second: 621\n"
     ]
    },
    {
     "name": "stderr",
     "output_type": "stream",
     "text": [
      "[I 2025-01-06 23:26:55,609] Trial 341 finished with value: 0.037972888491850695 and parameters: {'similarity': 'asymmetric', 'topK': 686, 'shrink': 226, 'feature_weighting': 'BM25', 'asymmetric_alpha': 1.9342034973777418}. Best is trial 339 with value: 0.042576295839399356.\n"
     ]
    },
    {
     "name": "stdout",
     "output_type": "stream",
     "text": [
      "Similarity column 35736 (100.0%), 2927.80 column/sec. Elapsed time 12.21 sec\n",
      "EvaluatorHoldout: Ignoring 173 ( 0.5%) Users that have less than 1 test interactions\n",
      "EvaluatorHoldout: Processed 35563 (100.0%) in 1.06 min. Users per second: 562\n",
      "Similarity column 35736 (100.0%), 2985.19 column/sec. Elapsed time 11.97 sec\n",
      "EvaluatorHoldout: Ignoring 163 ( 0.5%) Users that have less than 1 test interactions\n",
      "EvaluatorHoldout: Processed 35573 (100.0%) in 1.04 min. Users per second: 572\n",
      "Similarity column 35736 (100.0%), 2964.66 column/sec. Elapsed time 12.05 sec\n",
      "EvaluatorHoldout: Ignoring 150 ( 0.4%) Users that have less than 1 test interactions\n",
      "EvaluatorHoldout: Processed 35586 (100.0%) in 1.05 min. Users per second: 566\n",
      "Similarity column 35736 (100.0%), 2964.63 column/sec. Elapsed time 12.05 sec\n",
      "EvaluatorHoldout: Ignoring 167 ( 0.5%) Users that have less than 1 test interactions\n",
      "EvaluatorHoldout: Processed 35569 (100.0%) in 1.05 min. Users per second: 567\n",
      "Similarity column 35736 (100.0%), 2956.80 column/sec. Elapsed time 12.09 sec\n",
      "EvaluatorHoldout: Ignoring 172 ( 0.5%) Users that have less than 1 test interactions\n",
      "EvaluatorHoldout: Processed 35564 (100.0%) in 1.05 min. Users per second: 562\n"
     ]
    },
    {
     "name": "stderr",
     "output_type": "stream",
     "text": [
      "[I 2025-01-06 23:33:18,728] Trial 342 finished with value: 0.04248109230589788 and parameters: {'similarity': 'asymmetric', 'topK': 712, 'shrink': 243, 'feature_weighting': 'BM25', 'asymmetric_alpha': 0.7177976230893585}. Best is trial 339 with value: 0.042576295839399356.\n"
     ]
    },
    {
     "name": "stdout",
     "output_type": "stream",
     "text": [
      "Similarity column 35736 (100.0%), 2981.36 column/sec. Elapsed time 11.99 sec\n",
      "EvaluatorHoldout: Ignoring 173 ( 0.5%) Users that have less than 1 test interactions\n",
      "EvaluatorHoldout: Processed 35563 (100.0%) in 1.03 min. Users per second: 577\n",
      "Similarity column 35736 (100.0%), 2981.47 column/sec. Elapsed time 11.99 sec\n",
      "EvaluatorHoldout: Ignoring 163 ( 0.5%) Users that have less than 1 test interactions\n",
      "EvaluatorHoldout: Processed 35573 (100.0%) in 1.02 min. Users per second: 580\n",
      "Similarity column 35736 (100.0%), 2980.72 column/sec. Elapsed time 11.99 sec\n",
      "EvaluatorHoldout: Ignoring 150 ( 0.4%) Users that have less than 1 test interactions\n",
      "EvaluatorHoldout: Processed 35586 (100.0%) in 1.02 min. Users per second: 579\n",
      "Similarity column 35736 (100.0%), 2991.99 column/sec. Elapsed time 11.94 sec\n",
      "EvaluatorHoldout: Ignoring 167 ( 0.5%) Users that have less than 1 test interactions\n",
      "EvaluatorHoldout: Processed 35569 (100.0%) in 1.02 min. Users per second: 584\n",
      "Similarity column 35736 (100.0%), 2989.96 column/sec. Elapsed time 11.95 sec\n",
      "EvaluatorHoldout: Ignoring 172 ( 0.5%) Users that have less than 1 test interactions\n",
      "EvaluatorHoldout: Processed 35564 (100.0%) in 1.01 min. Users per second: 585\n"
     ]
    },
    {
     "name": "stderr",
     "output_type": "stream",
     "text": [
      "[I 2025-01-06 23:39:32,859] Trial 343 finished with value: 0.04234895015112573 and parameters: {'similarity': 'asymmetric', 'topK': 672, 'shrink': 178, 'feature_weighting': 'BM25', 'asymmetric_alpha': 0.7158915462970477}. Best is trial 339 with value: 0.042576295839399356.\n"
     ]
    },
    {
     "name": "stdout",
     "output_type": "stream",
     "text": [
      "Similarity column 35736 (100.0%), 2986.24 column/sec. Elapsed time 11.97 sec\n",
      "EvaluatorHoldout: Ignoring 173 ( 0.5%) Users that have less than 1 test interactions\n",
      "EvaluatorHoldout: Processed 35563 (100.0%) in 1.03 min. Users per second: 574\n",
      "Similarity column 35736 (100.0%), 2987.76 column/sec. Elapsed time 11.96 sec\n",
      "EvaluatorHoldout: Ignoring 163 ( 0.5%) Users that have less than 1 test interactions\n",
      "EvaluatorHoldout: Processed 35573 (100.0%) in 1.03 min. Users per second: 573\n",
      "Similarity column 35736 (100.0%), 2984.48 column/sec. Elapsed time 11.97 sec\n",
      "EvaluatorHoldout: Ignoring 150 ( 0.4%) Users that have less than 1 test interactions\n",
      "EvaluatorHoldout: Processed 35586 (100.0%) in 1.04 min. Users per second: 570\n",
      "Similarity column 35736 (100.0%), 2984.41 column/sec. Elapsed time 11.97 sec\n",
      "EvaluatorHoldout: Ignoring 167 ( 0.5%) Users that have less than 1 test interactions\n",
      "EvaluatorHoldout: Processed 35569 (100.0%) in 1.03 min. Users per second: 575\n",
      "Similarity column 35736 (100.0%), 2985.89 column/sec. Elapsed time 11.97 sec\n",
      "EvaluatorHoldout: Ignoring 172 ( 0.5%) Users that have less than 1 test interactions\n",
      "EvaluatorHoldout: Processed 35564 (100.0%) in 1.03 min. Users per second: 573\n"
     ]
    },
    {
     "name": "stderr",
     "output_type": "stream",
     "text": [
      "[I 2025-01-06 23:45:51,030] Trial 344 finished with value: 0.04247340205890082 and parameters: {'similarity': 'asymmetric', 'topK': 711, 'shrink': 230, 'feature_weighting': 'BM25', 'asymmetric_alpha': 0.7196301073782148}. Best is trial 339 with value: 0.042576295839399356.\n"
     ]
    },
    {
     "name": "stdout",
     "output_type": "stream",
     "text": [
      "Similarity column 35736 (100.0%), 3112.74 column/sec. Elapsed time 11.48 sec\n",
      "EvaluatorHoldout: Ignoring 173 ( 0.5%) Users that have less than 1 test interactions\n",
      "EvaluatorHoldout: Processed 35563 (100.0%) in 1.01 min. Users per second: 586\n",
      "Similarity column 35736 (100.0%), 3131.03 column/sec. Elapsed time 11.41 sec\n",
      "EvaluatorHoldout: Ignoring 163 ( 0.5%) Users that have less than 1 test interactions\n",
      "EvaluatorHoldout: Processed 35573 (100.0%) in 1.01 min. Users per second: 590\n",
      "Similarity column 35736 (100.0%), 3137.99 column/sec. Elapsed time 11.39 sec\n",
      "EvaluatorHoldout: Ignoring 150 ( 0.4%) Users that have less than 1 test interactions\n",
      "EvaluatorHoldout: Processed 35586 (100.0%) in 1.00 min. Users per second: 592\n",
      "Similarity column 35736 (100.0%), 3115.98 column/sec. Elapsed time 11.47 sec\n",
      "EvaluatorHoldout: Ignoring 167 ( 0.5%) Users that have less than 1 test interactions\n",
      "EvaluatorHoldout: Processed 35569 (100.0%) in 1.01 min. Users per second: 587\n",
      "Similarity column 35736 (100.0%), 3115.82 column/sec. Elapsed time 11.47 sec\n",
      "EvaluatorHoldout: Ignoring 172 ( 0.5%) Users that have less than 1 test interactions\n",
      "EvaluatorHoldout: Processed 35564 (100.0%) in 1.02 min. Users per second: 582\n"
     ]
    },
    {
     "name": "stderr",
     "output_type": "stream",
     "text": [
      "[I 2025-01-06 23:51:59,211] Trial 345 finished with value: 0.03938600216543991 and parameters: {'similarity': 'dice', 'topK': 696, 'shrink': 273, 'feature_weighting': 'BM25'}. Best is trial 339 with value: 0.042576295839399356.\n"
     ]
    },
    {
     "name": "stdout",
     "output_type": "stream",
     "text": [
      "Similarity column 35736 (100.0%), 2985.03 column/sec. Elapsed time 11.97 sec\n",
      "EvaluatorHoldout: Ignoring 173 ( 0.5%) Users that have less than 1 test interactions\n",
      "EvaluatorHoldout: Processed 35563 (100.0%) in 1.05 min. Users per second: 567\n",
      "Similarity column 35736 (100.0%), 2959.34 column/sec. Elapsed time 12.08 sec\n",
      "EvaluatorHoldout: Ignoring 163 ( 0.5%) Users that have less than 1 test interactions\n",
      "EvaluatorHoldout: Processed 35573 (100.0%) in 1.04 min. Users per second: 571\n",
      "Similarity column 35736 (100.0%), 2983.68 column/sec. Elapsed time 11.98 sec\n",
      "EvaluatorHoldout: Ignoring 150 ( 0.4%) Users that have less than 1 test interactions\n",
      "EvaluatorHoldout: Processed 35586 (100.0%) in 1.03 min. Users per second: 575\n",
      "Similarity column 35736 (100.0%), 2993.28 column/sec. Elapsed time 11.94 sec\n",
      "EvaluatorHoldout: Ignoring 167 ( 0.5%) Users that have less than 1 test interactions\n",
      "EvaluatorHoldout: Processed 35569 (100.0%) in 1.03 min. Users per second: 574\n",
      "Similarity column 35736 (100.0%), 2962.88 column/sec. Elapsed time 12.06 sec\n",
      "EvaluatorHoldout: Ignoring 172 ( 0.5%) Users that have less than 1 test interactions\n",
      "EvaluatorHoldout: Processed 35564 (100.0%) in 1.03 min. Users per second: 573\n"
     ]
    },
    {
     "name": "stderr",
     "output_type": "stream",
     "text": [
      "[I 2025-01-06 23:58:18,589] Trial 346 finished with value: 0.04248271947496057 and parameters: {'similarity': 'asymmetric', 'topK': 707, 'shrink': 204, 'feature_weighting': 'BM25', 'asymmetric_alpha': 0.7059224451970076}. Best is trial 339 with value: 0.042576295839399356.\n"
     ]
    },
    {
     "name": "stdout",
     "output_type": "stream",
     "text": [
      "Similarity column 35736 (100.0%), 2944.05 column/sec. Elapsed time 12.14 sec\n",
      "EvaluatorHoldout: Ignoring 173 ( 0.5%) Users that have less than 1 test interactions\n",
      "EvaluatorHoldout: Processed 35563 (100.0%) in 1.05 min. Users per second: 565\n",
      "Similarity column 35736 (100.0%), 2949.15 column/sec. Elapsed time 12.12 sec\n",
      "EvaluatorHoldout: Ignoring 163 ( 0.5%) Users that have less than 1 test interactions\n",
      "EvaluatorHoldout: Processed 35573 (100.0%) in 1.05 min. Users per second: 566\n",
      "Similarity column 35736 (100.0%), 2984.36 column/sec. Elapsed time 11.97 sec\n",
      "EvaluatorHoldout: Ignoring 150 ( 0.4%) Users that have less than 1 test interactions\n",
      "EvaluatorHoldout: Processed 35586 (100.0%) in 1.02 min. Users per second: 581\n",
      "Similarity column 35736 (100.0%), 3004.66 column/sec. Elapsed time 11.89 sec\n",
      "EvaluatorHoldout: Ignoring 167 ( 0.5%) Users that have less than 1 test interactions\n",
      "EvaluatorHoldout: Processed 35569 (100.0%) in 1.02 min. Users per second: 580\n",
      "Similarity column 35736 (100.0%), 2986.05 column/sec. Elapsed time 11.97 sec\n",
      "EvaluatorHoldout: Ignoring 172 ( 0.5%) Users that have less than 1 test interactions\n",
      "EvaluatorHoldout: Processed 35564 (100.0%) in 1.02 min. Users per second: 583\n"
     ]
    },
    {
     "name": "stderr",
     "output_type": "stream",
     "text": [
      "[I 2025-01-07 00:04:35,759] Trial 347 finished with value: 0.04235341908630366 and parameters: {'similarity': 'asymmetric', 'topK': 680, 'shrink': 239, 'feature_weighting': 'BM25', 'asymmetric_alpha': 0.6957104003816095}. Best is trial 339 with value: 0.042576295839399356.\n"
     ]
    },
    {
     "name": "stdout",
     "output_type": "stream",
     "text": [
      "Similarity column 35736 (100.0%), 308.08 column/sec. Elapsed time 1.93 min\n",
      "EvaluatorHoldout: Ignoring 173 ( 0.5%) Users that have less than 1 test interactions\n",
      "EvaluatorHoldout: Processed 35563 (100.0%) in 34.68 sec. Users per second: 1026\n",
      "Similarity column 35736 (100.0%), 295.93 column/sec. Elapsed time 2.01 min\n",
      "EvaluatorHoldout: Ignoring 163 ( 0.5%) Users that have less than 1 test interactions\n",
      "EvaluatorHoldout: Processed 35573 (100.0%) in 35.30 sec. Users per second: 1008\n",
      "Similarity column 35736 (100.0%), 297.89 column/sec. Elapsed time 2.00 min\n",
      "EvaluatorHoldout: Ignoring 150 ( 0.4%) Users that have less than 1 test interactions\n",
      "EvaluatorHoldout: Processed 35586 (100.0%) in 35.22 sec. Users per second: 1010\n",
      "Similarity column 35736 (100.0%), 287.27 column/sec. Elapsed time 2.07 min\n",
      "EvaluatorHoldout: Ignoring 167 ( 0.5%) Users that have less than 1 test interactions\n",
      "EvaluatorHoldout: Processed 35569 (100.0%) in 35.08 sec. Users per second: 1014\n",
      "Similarity column 35736 (100.0%), 298.02 column/sec. Elapsed time 2.00 min\n",
      "EvaluatorHoldout: Ignoring 172 ( 0.5%) Users that have less than 1 test interactions\n",
      "EvaluatorHoldout: Processed 35564 (100.0%) in 35.17 sec. Users per second: 1011\n"
     ]
    },
    {
     "name": "stderr",
     "output_type": "stream",
     "text": [
      "[I 2025-01-07 00:17:37,643] Trial 348 finished with value: 0.0036904673536174775 and parameters: {'similarity': 'euclidean', 'topK': 704, 'shrink': 209, 'feature_weighting': 'BM25', 'normalize_avg_row': True, 'similarity_from_distance_mode': 'exp', 'normalize': False}. Best is trial 339 with value: 0.042576295839399356.\n"
     ]
    },
    {
     "name": "stdout",
     "output_type": "stream",
     "text": [
      "Similarity column 35736 (100.0%), 2992.92 column/sec. Elapsed time 11.94 sec\n",
      "EvaluatorHoldout: Ignoring 173 ( 0.5%) Users that have less than 1 test interactions\n",
      "EvaluatorHoldout: Processed 35563 (100.0%) in 58.33 sec. Users per second: 610\n",
      "Similarity column 35736 (100.0%), 3009.23 column/sec. Elapsed time 11.88 sec\n",
      "EvaluatorHoldout: Ignoring 163 ( 0.5%) Users that have less than 1 test interactions\n",
      "EvaluatorHoldout: Processed 35573 (100.0%) in 58.24 sec. Users per second: 611\n",
      "Similarity column 35736 (100.0%), 2994.38 column/sec. Elapsed time 11.93 sec\n",
      "EvaluatorHoldout: Ignoring 150 ( 0.4%) Users that have less than 1 test interactions\n",
      "EvaluatorHoldout: Processed 35586 (100.0%) in 59.02 sec. Users per second: 603\n",
      "Similarity column 35736 (100.0%), 2996.69 column/sec. Elapsed time 11.93 sec\n",
      "EvaluatorHoldout: Ignoring 167 ( 0.5%) Users that have less than 1 test interactions\n",
      "EvaluatorHoldout: Processed 35569 (100.0%) in 58.73 sec. Users per second: 606\n",
      "Similarity column 35736 (100.0%), 3003.45 column/sec. Elapsed time 11.90 sec\n",
      "EvaluatorHoldout: Ignoring 172 ( 0.5%) Users that have less than 1 test interactions\n",
      "EvaluatorHoldout: Processed 35564 (100.0%) in 59.20 sec. Users per second: 601\n"
     ]
    },
    {
     "name": "stderr",
     "output_type": "stream",
     "text": [
      "[I 2025-01-07 00:23:38,682] Trial 349 finished with value: 0.040321874196370774 and parameters: {'similarity': 'asymmetric', 'topK': 694, 'shrink': 199, 'feature_weighting': 'BM25', 'asymmetric_alpha': 1.3913619615606638}. Best is trial 339 with value: 0.042576295839399356.\n"
     ]
    },
    {
     "name": "stdout",
     "output_type": "stream",
     "text": [
      "Similarity column 35736 (100.0%), 2922.55 column/sec. Elapsed time 12.23 sec\n",
      "EvaluatorHoldout: Ignoring 173 ( 0.5%) Users that have less than 1 test interactions\n",
      "EvaluatorHoldout: Processed 35563 (100.0%) in 1.03 min. Users per second: 573\n",
      "Similarity column 35736 (100.0%), 2895.36 column/sec. Elapsed time 12.34 sec\n",
      "EvaluatorHoldout: Ignoring 163 ( 0.5%) Users that have less than 1 test interactions\n",
      "EvaluatorHoldout: Processed 35573 (100.0%) in 1.04 min. Users per second: 570\n",
      "Similarity column 35736 (100.0%), 2930.06 column/sec. Elapsed time 12.20 sec\n",
      "EvaluatorHoldout: Ignoring 150 ( 0.4%) Users that have less than 1 test interactions\n",
      "EvaluatorHoldout: Processed 35586 (100.0%) in 1.03 min. Users per second: 576\n",
      "Similarity column 35736 (100.0%), 2931.12 column/sec. Elapsed time 12.19 sec\n",
      "EvaluatorHoldout: Ignoring 167 ( 0.5%) Users that have less than 1 test interactions\n",
      "EvaluatorHoldout: Processed 35569 (100.0%) in 1.03 min. Users per second: 577\n",
      "Similarity column 35736 (100.0%), 2903.47 column/sec. Elapsed time 12.31 sec\n",
      "EvaluatorHoldout: Ignoring 172 ( 0.5%) Users that have less than 1 test interactions\n",
      "EvaluatorHoldout: Processed 35564 (100.0%) in 1.02 min. Users per second: 580\n"
     ]
    },
    {
     "name": "stderr",
     "output_type": "stream",
     "text": [
      "[I 2025-01-07 00:29:56,986] Trial 350 finished with value: 0.03473856340205904 and parameters: {'similarity': 'asymmetric', 'topK': 706, 'shrink': 242, 'feature_weighting': 'TF-IDF', 'asymmetric_alpha': 0.7254291659062364}. Best is trial 339 with value: 0.042576295839399356.\n"
     ]
    }
   ],
   "source": [
    "if config['tune_parameters']:\n",
    "    \n",
    "    optuna_study = optuna.create_study(direction='maximize', study_name=f'hyperparameters_tuning_{config[\"model\"]}_{config[\"metric\"]}',\n",
    "                                storage=f'sqlite:///{config[\"database_path\"]}', load_if_exists=True)\n",
    "\n",
    "    optuna_study.optimize(objective_function_UserKNNCF, n_trials=100, timeout=11 * 3600)"
   ]
  },
  {
   "cell_type": "markdown",
   "id": "746a7abf",
   "metadata": {
    "papermill": {
     "duration": 0.103952,
     "end_time": "2025-01-07T00:29:57.252157",
     "exception": false,
     "start_time": "2025-01-07T00:29:57.148205",
     "status": "completed"
    },
    "tags": []
   },
   "source": [
    "## Some optuna visualizations on recommender parameters"
   ]
  },
  {
   "cell_type": "code",
   "execution_count": 14,
   "id": "8b1df506",
   "metadata": {
    "execution": {
     "iopub.execute_input": "2025-01-07T00:29:57.463685Z",
     "iopub.status.busy": "2025-01-07T00:29:57.462944Z",
     "iopub.status.idle": "2025-01-07T00:29:59.868944Z",
     "shell.execute_reply": "2025-01-07T00:29:59.867543Z"
    },
    "papermill": {
     "duration": 2.51504,
     "end_time": "2025-01-07T00:29:59.871486",
     "exception": false,
     "start_time": "2025-01-07T00:29:57.356446",
     "status": "completed"
    },
    "tags": []
   },
   "outputs": [
    {
     "data": {
      "text/html": [
       "<html>\n",
       "<head><meta charset=\"utf-8\" /></head>\n",
       "<body>\n",
       "    <div>            <script src=\"https://cdnjs.cloudflare.com/ajax/libs/mathjax/2.7.5/MathJax.js?config=TeX-AMS-MML_SVG\"></script><script type=\"text/javascript\">if (window.MathJax && window.MathJax.Hub && window.MathJax.Hub.Config) {window.MathJax.Hub.Config({SVG: {font: \"STIX-Web\"}});}</script>                <script type=\"text/javascript\">window.PlotlyConfig = {MathJaxConfig: 'local'};</script>\n",
       "        <script charset=\"utf-8\" src=\"https://cdn.plot.ly/plotly-2.35.2.min.js\"></script>                <div id=\"b2114375-9d54-4c00-86ee-229ecb70033a\" class=\"plotly-graph-div\" style=\"height:525px; width:3000px;\"></div>            <script type=\"text/javascript\">                                    window.PLOTLYENV=window.PLOTLYENV || {};                                    if (document.getElementById(\"b2114375-9d54-4c00-86ee-229ecb70033a\")) {                    Plotly.newPlot(                        \"b2114375-9d54-4c00-86ee-229ecb70033a\",                        [{\"marker\":{\"color\":[5,9,27,40,55,75,76,77,78,79,80,81,82,83,84,85,86,87,88,89,90,91,92,93,94,95,96,97,98,99,100,101,102,103,104,105,106,107,108,109,110,111,112,113,114,116,117,119,121,122,123,124,126,127,128,129,130,131,132,133,134,135,137,138,140,141,142,143,144,145,146,148,150,151,152,153,154,155,156,157,158,159,160,161,162,163,164,165,167,168,169,170,171,172,173,174,175,177,178,180,181,182,183,184,185,186,188,189,190,191,192,193,194,195,196,197,198,199,200,201,202,203,204,205,206,208,209,210,211,212,213,214,215,216,218,219,221,222,223,224,225,226,227,228,229,231,232,233,234,235,236,237,238,239,240,241,242,243,244,245,246,247,248,249,250,251,253,254,255,256,257,258,259,262,263,264,265,267,268,269,270,271,272,273,274,275,276,277,278,280,281,282,283,284,285,286,288,290,291,292,294,295,296,297,298,299,300,301,302,303,304,305,306,307,308,310,311,312,313,314,315,316,317,320,321,322,323,324,325,326,328,329,330,331,332,333,334,335,336,338,339,340,341,342,343,344,346,347,349,350],\"colorbar\":{\"title\":{\"text\":\"Trial\"},\"x\":1.0,\"xpad\":40},\"colorscale\":[[0.0,\"rgb(247,251,255)\"],[0.125,\"rgb(222,235,247)\"],[0.25,\"rgb(198,219,239)\"],[0.375,\"rgb(158,202,225)\"],[0.5,\"rgb(107,174,214)\"],[0.625,\"rgb(66,146,198)\"],[0.75,\"rgb(33,113,181)\"],[0.875,\"rgb(8,81,156)\"],[1.0,\"rgb(8,48,107)\"]],\"line\":{\"color\":\"Grey\",\"width\":0.5},\"showscale\":true},\"mode\":\"markers\",\"name\":\"Feasible Trial\",\"showlegend\":false,\"x\":[0.4169117630145689,1.742069155717465,0.001614986365835458,1.9456221173510102,1.0965008733321449,1.0733647894530987,1.126134195367899,1.1232342527081431,1.098738862371363,1.1429183768601041,1.1173976984837253,1.0995494832850339,1.0023601787763998,1.3737141188443887,0.7327031144163606,0.7777683334913436,0.740597232525724,0.7098635334599472,0.7163904243280802,0.6760479538910207,0.6610287072521076,0.6527601332540618,0.6601738291906588,0.6697401638635566,0.649513361555658,0.6911870134368665,0.6674970192718164,0.7291467587355255,0.5629978663102088,0.817990148204545,0.83911810183373,0.8143137439112769,0.8239757401856114,0.8865019711095871,0.87383466612268,0.8847797719468465,0.869895659808061,0.885580017102876,0.9198213290186732,0.4766206209372544,0.9131663180630369,0.9081967126679962,0.9435087140785797,0.9482795728827466,0.9532246100210537,0.9651347360563919,0.9702027301892868,0.9919511278135282,1.0191089260214479,0.9733024726409373,0.976334107621329,1.0007747958848583,0.9713202516818382,1.2594424495692982,0.9795479012228263,0.13141935623404066,1.0478622113321527,0.9518880906799936,0.9561385889736673,1.1883027405920588,1.0514732154657966,0.967008515116372,0.9536926400733093,0.5290257555003215,1.0802498486681191,0.9445482782925498,0.933442455410522,0.9268173373760741,0.9320806539450862,1.026603572412044,0.9351074029986696,1.148816418417192,1.0254582800026053,0.9288264153940503,0.9279527745127946,0.9019163688493604,0.7846535958154323,0.8125161423806794,0.7697256436395116,0.8353353833854249,0.7800264402562485,0.7821081992016309,0.7954458950982178,0.7890844988832812,0.8422535015506789,0.8368850040501714,0.8510183937107124,0.8373414538670371,0.8332680866058738,0.7625233324285247,0.7769727739536263,0.8397315889429112,0.8476677562338082,0.7351164461303885,0.743192121302472,0.8018558214965299,0.7891008219270657,0.6134928512727651,0.8013868177330944,0.7415864259939318,0.7199558663466574,0.8479527935706496,0.8592456376304145,0.6981807362876854,0.8118173950514936,0.701147037341551,0.7747695837418905,0.8613934017971964,0.8686455835567262,0.8242111875258396,0.8263805379122208,0.8463890200991697,0.8797913693764674,0.8360292311841369,0.6263745662426943,0.7214779115775871,1.6785706824759912,0.88823622869425,0.8657410690360096,0.8820450631949618,0.8822165781398035,0.8919044681223856,0.8323474676447021,0.6957492811381553,0.8129988162330338,0.7486447728979578,0.7545516825657542,0.8410949840362116,0.8133429377703987,0.8015671143452289,0.741398288275278,0.7441126474953027,0.77003067864006,0.7350396088700466,0.8808813384614301,0.6559689879366924,0.8777677501072773,0.7898403492409651,0.8579798393623105,0.7548818669187382,0.7938258356843384,0.7982273576548075,0.7242674164038805,0.796287706887566,0.8549107555668908,0.8599322654744996,0.8431837999412853,0.7543630691426709,0.7588458326392903,0.6828616893033881,0.6736820875508296,0.6055814633279637,0.6805693060316125,0.7017512639511052,0.6656444144657055,0.7509697482418383,0.7321318204603244,0.734289800125247,0.7432185979093834,0.7202439370129399,0.776212720734784,0.778915926278175,0.795997909976302,0.7374568961521599,0.7691204702757557,0.7683774050541587,0.7048881383659091,0.7971291371357695,0.7958794055267164,0.5719848425443417,0.8047112167171621,0.6315569021665622,0.7117899460419875,0.7740985328256695,0.7702802156517514,0.7984092338169169,0.8014590501310963,0.7987229452169856,0.6926876127248385,0.6998571023630951,0.6871507375195025,0.6818973324472543,0.6551025917830133,0.6406365983074368,0.5900150301128442,0.6739504543682592,0.6518179494630594,0.6518730107571727,0.5355465506159282,0.6489372458795057,0.6217899301347648,0.6748903840797668,0.6616082816305987,0.6580127704602188,0.5748338703818534,0.6682749286959953,0.6602334920409354,0.6510415213117517,0.6722736225264492,0.616641316382441,0.6022104273653212,0.5298534630542182,0.6672789129173191,0.6738568380965165,0.685159000520062,0.6800923924040397,0.6806062633004863,0.6775733275640067,0.6852173882745557,0.4708424465241985,0.6800384952727954,0.6788855081546079,0.6743142685689792,0.6861536547942397,0.6077401588319803,0.5556416293156977,0.6011730039149593,0.6798906485579903,0.6900050931901707,0.679598156638714,0.6896933695375436,0.6343900981935621,0.6956674518104828,0.6907165945623264,0.7000627885943354,0.29467012790978875,0.6392250264604754,0.6279366658986781,0.5867368998512307,0.6988308402715684,0.6419442102418342,0.7011763868441274,0.6614319450013393,0.56694819610271,0.6221396977846211,0.6990059469976991,0.6571585940244443,0.5934692336934855,0.485065234207536,0.6452435054269567,0.66092600096456,0.7185713510030752,1.9342034973777418,0.7177976230893585,0.7158915462970477,0.7196301073782148,0.7059224451970076,0.6957104003816095,1.3913619615606638,0.7254291659062364],\"y\":[0.03707826471642752,0.03073591621117076,0.03697661949748708,0.025895924580448194,0.035073781534686335,0.041211667872499,0.041199815527245706,0.04118710400434709,0.04129960128332609,0.041351391999530994,0.04154552872966882,0.04151616648513147,0.04174835022278569,0.040932350638236095,0.04192699394126524,0.0419866265318241,0.041996908589045825,0.04198944870540431,0.04201970650971439,0.04199343565751286,0.041961066653306484,0.04196270161519747,0.0419546738645667,0.04214653805738862,0.04213683164488156,0.04218983390037057,0.04213501034132614,0.032898285704093734,0.041954741777764024,0.04209370200742202,0.04205694178905003,0.042078039361169925,0.04208077221658176,0.04208811078872451,0.04209918779105696,0.04209755856557842,0.04207737679101302,0.04212538066503789,0.03312724188411208,0.041661760954692574,0.04226818870133802,0.042275096661424635,0.04222355937931005,0.042225234064783304,0.04222140385609942,0.042150167787502885,0.04217800744055069,0.04219098439430134,0.041964335249881024,0.04213616854984386,0.04214898501877183,0.04212032015693434,0.04224293841888195,0.0418547757031864,0.03364909437584379,0.040398678506854524,0.04194287869984168,0.04214859257839686,0.04201049536408811,0.0418914805944309,0.042120279195458,0.042117906373857525,0.04199617293156818,0.04187349596086755,0.04199583633200719,0.04217088977587583,0.04220185168588423,0.04217346203077831,0.04213690131298262,0.04193285273042657,0.04216901548029598,0.04189764243012316,0.04214151431564361,0.04214721847128452,0.04219816124254635,0.042275725170262436,0.04227190336926325,0.04228991808389853,0.03294040286109399,0.04228003808401254,0.0422749635752382,0.042270276595239735,0.04229197443009659,0.04215861911619051,0.042296450972296,0.042290807176725106,0.04230017966262716,0.04230162404495765,0.042184448085513145,0.042358117506657106,0.042116507450456385,0.042310640245393424,0.04221876842747968,0.04227014667873973,0.042184998289597916,0.04235975952863978,0.04230759048778564,0.042042413446637936,0.04216314736045158,0.04226571955619708,0.04227199316744396,0.04234599319089425,0.04224495125226111,0.042285270685046186,0.04217821490294149,0.042264221690686374,0.04224572086431734,0.042331020620943086,0.042167095158544984,0.042343471527857314,0.04226735439457681,0.04233131256416171,0.04226649717204898,0.04226145977686405,0.04218875379866753,0.04233627255279251,0.04052616743950559,0.042290123633068,0.04210971503568724,0.04230333958586393,0.042288876450618004,0.042269549628525985,0.04219815708427566,0.04225394131490588,0.04227700713940262,0.04231017130466274,0.04225919832593004,0.0421553383852586,0.042286436810832995,0.042349750372562514,0.042340161579888194,0.04231492367982613,0.04009190504981825,0.04226585912172752,0.04229577347464637,0.0422699478421344,0.04229930985733535,0.042389745203136445,0.04230473700056118,0.03975976980412295,0.042421652977767725,0.04232078708541735,0.042259425584893276,0.03323225079092358,0.0423196148735781,0.0423278130722116,0.04230863663055442,0.04232063224293754,0.04218676286277703,0.04233046724539148,0.04230527285693151,0.04223009203164237,0.04222507431468346,0.04227710071181274,0.042213018910009135,0.04236973195595058,0.04233941850943866,0.04232850563695923,0.04230255699793496,0.04218004754361666,0.042331939754105964,0.040933429821890445,0.04232875526895782,0.042261331227828484,0.04234224529047925,0.04223249611163178,0.04225645792465758,0.0423449559290188,0.04219939464538152,0.042150408790428424,0.04224853286306229,0.03308828344235486,0.042306288827994906,0.04238477690013629,0.042264826991122835,0.04235980477601002,0.04235820056689206,0.04230214123841079,0.042394893127948266,0.04239061256762724,0.04243332795278116,0.042378915961777536,0.04237486716902607,0.041392585020335194,0.04230041607293176,0.04241506002410401,0.04235119887211903,0.0423431155190652,0.0421740515898673,0.038898771751008414,0.03308028532845937,0.042380542480215,0.04241655878606284,0.042414063941302066,0.042246444597185,0.04242148252761939,0.04243687323576895,0.04182581233242871,0.04243160279050974,0.042348559109961235,0.04234075751605893,0.04220797007737723,0.04244630970090261,0.04245879057709363,0.04250542256425647,0.04242526940864166,0.04250074468220984,0.042501330124034994,0.034560663790042856,0.0421037644792354,0.042454453167286424,0.0424881683723153,0.033369146753421175,0.04246618973455631,0.042375266524694075,0.04232329219160015,0.04234443642737009,0.042480239565006316,0.042445820295304915,0.042374583696995,0.0424290927483914,0.04237572739451757,0.04233522292889533,0.042471214874234164,0.042429892318510395,0.04133668607660006,0.042477372047579426,0.04234774717134556,0.03481947253169802,0.04250581613131398,0.042355796266955306,0.04237505508953284,0.03311809896912724,0.042293010654434866,0.042363955885147284,0.042357993741625986,0.0424994096362127,0.04233556312642726,0.024114068866089734,0.04232413097730626,0.042576295839399356,0.042499032580017825,0.037972888491850695,0.04248109230589788,0.04234895015112573,0.04247340205890082,0.04248271947496057,0.04235341908630366,0.040321874196370774,0.03473856340205904],\"type\":\"scatter\",\"xaxis\":\"x\",\"yaxis\":\"y\"},{\"marker\":{\"color\":[0,1,2,3,4,5,6,7,8,9,10,11,12,13,14,15,16,17,18,19,20,21,22,23,24,25,26,27,28,29,30,31,32,33,34,35,36,37,38,39,40,41,42,43,44,45,46,47,48,49,50,51,52,53,54,55,56,57,58,59,60,61,62,63,64,65,66,67,68,69,70,71,72,73,74,75,76,77,78,79,80,81,82,83,84,85,86,87,88,89,90,91,92,93,94,95,96,97,98,99,100,101,102,103,104,105,106,107,108,109,110,111,112,113,114,115,116,117,118,119,120,121,122,123,124,125,126,127,128,129,130,131,132,133,134,135,136,137,138,139,140,141,142,143,144,145,146,147,148,149,150,151,152,153,154,155,156,157,158,159,160,161,162,163,164,165,166,167,168,169,170,171,172,173,174,175,176,177,178,179,180,181,182,183,184,185,186,187,188,189,190,191,192,193,194,195,196,197,198,199,200,201,202,203,204,205,206,207,208,209,210,211,212,213,214,215,216,217,218,219,220,221,222,223,224,225,226,227,228,229,230,231,232,233,234,235,236,237,238,239,240,241,242,243,244,245,246,247,248,249,250,251,252,253,254,255,256,257,258,259,260,261,262,263,264,265,266,267,268,269,270,271,272,273,274,275,276,277,278,279,280,281,282,283,284,285,286,287,288,289,290,291,292,293,294,295,296,297,298,299,300,301,302,303,304,305,306,307,308,309,310,311,312,313,314,315,316,317,318,319,320,321,322,323,324,325,326,327,328,329,330,331,332,333,334,335,336,337,338,339,340,341,342,343,344,345,346,347,348,349,350],\"colorbar\":{\"title\":{\"text\":\"Trial\"},\"x\":1.0,\"xpad\":40},\"colorscale\":[[0.0,\"rgb(247,251,255)\"],[0.125,\"rgb(222,235,247)\"],[0.25,\"rgb(198,219,239)\"],[0.375,\"rgb(158,202,225)\"],[0.5,\"rgb(107,174,214)\"],[0.625,\"rgb(66,146,198)\"],[0.75,\"rgb(33,113,181)\"],[0.875,\"rgb(8,81,156)\"],[1.0,\"rgb(8,48,107)\"]],\"line\":{\"color\":\"Grey\",\"width\":0.5},\"showscale\":false},\"mode\":\"markers\",\"name\":\"Feasible Trial\",\"showlegend\":false,\"x\":[\"none\",\"TF-IDF\",\"TF-IDF\",\"none\",\"none\",\"TF-IDF\",\"TF-IDF\",\"BM25\",\"TF-IDF\",\"BM25\",\"TF-IDF\",\"TF-IDF\",\"TF-IDF\",\"TF-IDF\",\"TF-IDF\",\"BM25\",\"TF-IDF\",\"TF-IDF\",\"none\",\"BM25\",\"TF-IDF\",\"TF-IDF\",\"TF-IDF\",\"TF-IDF\",\"TF-IDF\",\"TF-IDF\",\"TF-IDF\",\"TF-IDF\",\"BM25\",\"none\",\"none\",\"TF-IDF\",\"TF-IDF\",\"TF-IDF\",\"TF-IDF\",\"TF-IDF\",\"TF-IDF\",\"none\",\"TF-IDF\",\"TF-IDF\",\"BM25\",\"TF-IDF\",\"TF-IDF\",\"TF-IDF\",\"TF-IDF\",\"TF-IDF\",\"TF-IDF\",\"TF-IDF\",\"TF-IDF\",\"none\",\"TF-IDF\",\"TF-IDF\",\"TF-IDF\",\"TF-IDF\",\"TF-IDF\",\"TF-IDF\",\"BM25\",\"BM25\",\"BM25\",\"BM25\",\"BM25\",\"BM25\",\"BM25\",\"BM25\",\"BM25\",\"BM25\",\"BM25\",\"BM25\",\"BM25\",\"BM25\",\"BM25\",\"BM25\",\"BM25\",\"BM25\",\"BM25\",\"BM25\",\"BM25\",\"BM25\",\"BM25\",\"BM25\",\"BM25\",\"BM25\",\"BM25\",\"BM25\",\"BM25\",\"BM25\",\"BM25\",\"BM25\",\"BM25\",\"BM25\",\"BM25\",\"BM25\",\"BM25\",\"BM25\",\"BM25\",\"BM25\",\"BM25\",\"none\",\"BM25\",\"BM25\",\"BM25\",\"BM25\",\"BM25\",\"BM25\",\"BM25\",\"BM25\",\"BM25\",\"BM25\",\"none\",\"BM25\",\"BM25\",\"BM25\",\"BM25\",\"BM25\",\"BM25\",\"BM25\",\"BM25\",\"BM25\",\"BM25\",\"BM25\",\"BM25\",\"BM25\",\"BM25\",\"BM25\",\"BM25\",\"BM25\",\"BM25\",\"BM25\",\"none\",\"BM25\",\"BM25\",\"BM25\",\"BM25\",\"BM25\",\"BM25\",\"BM25\",\"BM25\",\"BM25\",\"BM25\",\"BM25\",\"BM25\",\"BM25\",\"BM25\",\"BM25\",\"BM25\",\"BM25\",\"BM25\",\"BM25\",\"BM25\",\"BM25\",\"BM25\",\"BM25\",\"BM25\",\"BM25\",\"BM25\",\"BM25\",\"none\",\"BM25\",\"BM25\",\"BM25\",\"BM25\",\"BM25\",\"BM25\",\"BM25\",\"BM25\",\"BM25\",\"BM25\",\"BM25\",\"BM25\",\"BM25\",\"BM25\",\"BM25\",\"BM25\",\"BM25\",\"BM25\",\"BM25\",\"BM25\",\"BM25\",\"BM25\",\"BM25\",\"BM25\",\"BM25\",\"BM25\",\"BM25\",\"BM25\",\"BM25\",\"BM25\",\"none\",\"BM25\",\"BM25\",\"BM25\",\"BM25\",\"BM25\",\"BM25\",\"BM25\",\"BM25\",\"BM25\",\"BM25\",\"BM25\",\"BM25\",\"BM25\",\"BM25\",\"BM25\",\"BM25\",\"BM25\",\"BM25\",\"BM25\",\"BM25\",\"BM25\",\"BM25\",\"BM25\",\"BM25\",\"BM25\",\"BM25\",\"BM25\",\"BM25\",\"BM25\",\"BM25\",\"BM25\",\"BM25\",\"BM25\",\"BM25\",\"BM25\",\"BM25\",\"BM25\",\"BM25\",\"BM25\",\"BM25\",\"none\",\"BM25\",\"BM25\",\"BM25\",\"BM25\",\"BM25\",\"BM25\",\"BM25\",\"BM25\",\"BM25\",\"BM25\",\"BM25\",\"BM25\",\"BM25\",\"BM25\",\"BM25\",\"BM25\",\"BM25\",\"BM25\",\"BM25\",\"BM25\",\"BM25\",\"BM25\",\"BM25\",\"BM25\",\"BM25\",\"BM25\",\"BM25\",\"BM25\",\"BM25\",\"none\",\"BM25\",\"BM25\",\"BM25\",\"BM25\",\"BM25\",\"BM25\",\"BM25\",\"BM25\",\"BM25\",\"BM25\",\"BM25\",\"BM25\",\"BM25\",\"BM25\",\"BM25\",\"BM25\",\"BM25\",\"BM25\",\"BM25\",\"BM25\",\"TF-IDF\",\"BM25\",\"none\",\"BM25\",\"BM25\",\"BM25\",\"BM25\",\"BM25\",\"BM25\",\"BM25\",\"BM25\",\"BM25\",\"BM25\",\"BM25\",\"BM25\",\"BM25\",\"BM25\",\"BM25\",\"BM25\",\"BM25\",\"BM25\",\"BM25\",\"BM25\",\"TF-IDF\",\"BM25\",\"BM25\",\"BM25\",\"none\",\"BM25\",\"BM25\",\"BM25\",\"BM25\",\"BM25\",\"BM25\",\"BM25\",\"BM25\",\"BM25\",\"BM25\",\"BM25\",\"BM25\",\"BM25\",\"BM25\",\"BM25\",\"BM25\",\"BM25\",\"BM25\",\"TF-IDF\",\"BM25\",\"BM25\",\"BM25\",\"BM25\",\"none\",\"BM25\",\"BM25\",\"BM25\",\"BM25\",\"BM25\",\"BM25\",\"BM25\",\"BM25\",\"BM25\",\"BM25\",\"BM25\",\"BM25\",\"BM25\",\"BM25\",\"BM25\",\"BM25\",\"BM25\",\"BM25\",\"BM25\",\"TF-IDF\"],\"y\":[0.03438354964465644,0.03765997704303814,0.036466401535762326,0.03603158336802389,0.03568205879326173,0.03707826471642752,0.03882455742842482,0.03716477889561431,0.036119113490618554,0.03073591621117076,0.03489465279018752,0.010519718257202142,0.03452483875654129,0.03879314828144394,0.038356702311881916,0.034770983278465686,0.0386338607570533,0.03685686407324793,0.020856998057932702,0.0364109637716706,0.038111985741480114,0.03870609635775418,0.03870380595536108,0.03850648070902666,0.037924346454905625,0.0386958636152821,0.01052096284159112,0.03697661949748708,0.03743385492120776,0.03344925214369809,0.034729761085852996,0.03880283408727345,0.03897912078738226,0.03608331516471448,0.03567220195251934,0.038989590832045784,0.03718364173126744,0.03435241197641509,0.03897699101948849,0.010666893236326858,0.025895924580448194,0.03895160821938885,0.038941289084112374,0.038939554483515805,0.03892527741804938,0.03683441943169132,0.03200754234125541,0.037445586390519404,0.0323601580091676,0.03613122358719782,0.03597665863880977,0.038966110570538934,0.03895248452983744,0.03895558340642112,0.03889133321155448,0.035073781534686335,0.03930237985639624,0.03905219382376225,0.03936396739193279,0.03620514591628303,0.040299755217404906,0.04041086809620674,0.04015987455197013,0.040408480431374516,0.04022586921656578,0.03162591739011223,0.040485377734646666,0.040775898316922424,0.03737154943984992,0.04116918116886592,0.04105501835500318,0.04121901835551252,0.04122970757050187,0.04123925299039255,0.04126272912650639,0.041211667872499,0.041199815527245706,0.04118710400434709,0.04129960128332609,0.041351391999530994,0.04154552872966882,0.04151616648513147,0.04174835022278569,0.040932350638236095,0.04192699394126524,0.0419866265318241,0.041996908589045825,0.04198944870540431,0.04201970650971439,0.04199343565751286,0.041961066653306484,0.04196270161519747,0.0419546738645667,0.04214653805738862,0.04213683164488156,0.04218983390037057,0.04213501034132614,0.032898285704093734,0.041954741777764024,0.04209370200742202,0.04205694178905003,0.042078039361169925,0.04208077221658176,0.04208811078872451,0.04209918779105696,0.04209755856557842,0.04207737679101302,0.04212538066503789,0.03312724188411208,0.041661760954692574,0.04226818870133802,0.042275096661424635,0.04222355937931005,0.042225234064783304,0.04222140385609942,0.03885568037321961,0.042150167787502885,0.04217800744055069,0.038543792123151024,0.04219098439430134,0.0037793006916639615,0.041964335249881024,0.04213616854984386,0.04214898501877183,0.04212032015693434,0.038488559453537,0.04224293841888195,0.0418547757031864,0.03364909437584379,0.040398678506854524,0.04194287869984168,0.04214859257839686,0.04201049536408811,0.0418914805944309,0.042120279195458,0.042117906373857525,0.038156278816451894,0.04199617293156818,0.04187349596086755,0.03819021473703196,0.04199583633200719,0.04217088977587583,0.04220185168588423,0.04217346203077831,0.04213690131298262,0.04193285273042657,0.04216901548029598,0.031249702191768237,0.04189764243012316,0.0383351764536244,0.04214151431564361,0.04214721847128452,0.04219816124254635,0.042275725170262436,0.04227190336926325,0.04228991808389853,0.03294040286109399,0.04228003808401254,0.0422749635752382,0.042270276595239735,0.04229197443009659,0.04215861911619051,0.042296450972296,0.042290807176725106,0.04230017966262716,0.04230162404495765,0.038945043230115495,0.042184448085513145,0.042358117506657106,0.042116507450456385,0.042310640245393424,0.04221876842747968,0.04227014667873973,0.042184998289597916,0.04235975952863978,0.04230759048778564,0.0386036954462445,0.042042413446637936,0.04216314736045158,0.0037215610702131747,0.04226571955619708,0.04227199316744396,0.04234599319089425,0.04224495125226111,0.042285270685046186,0.04217821490294149,0.042264221690686374,0.03311978453504452,0.04224572086431734,0.042331020620943086,0.042167095158544984,0.042343471527857314,0.04226735439457681,0.04233131256416171,0.04226649717204898,0.04226145977686405,0.04218875379866753,0.04233627255279251,0.04052616743950559,0.042290123633068,0.04210971503568724,0.04230333958586393,0.042288876450618004,0.042269549628525985,0.04219815708427566,0.04225394131490588,0.04227700713940262,0.03811509356595545,0.04231017130466274,0.04225919832593004,0.0421553383852586,0.042286436810832995,0.042349750372562514,0.042340161579888194,0.04231492367982613,0.04009190504981825,0.04226585912172752,0.03888011431765274,0.04229577347464637,0.0422699478421344,0.003760883116526311,0.04229930985733535,0.042389745203136445,0.04230473700056118,0.03975976980412295,0.042421652977767725,0.04232078708541735,0.042259425584893276,0.03323225079092358,0.0423196148735781,0.03875046757443752,0.0423278130722116,0.04230863663055442,0.04232063224293754,0.04218676286277703,0.04233046724539148,0.04230527285693151,0.04223009203164237,0.04222507431468346,0.04227710071181274,0.042213018910009135,0.04236973195595058,0.04233941850943866,0.04232850563695923,0.04230255699793496,0.04218004754361666,0.042331939754105964,0.040933429821890445,0.04232875526895782,0.042261331227828484,0.04234224529047925,0.04223249611163178,0.03919302820936669,0.04225645792465758,0.0423449559290188,0.04219939464538152,0.042150408790428424,0.04224853286306229,0.03308828344235486,0.042306288827994906,0.038901738565473194,0.03126944980955811,0.04238477690013629,0.042264826991122835,0.04235980477601002,0.04235820056689206,0.03891177481482007,0.04230214123841079,0.042394893127948266,0.04239061256762724,0.04243332795278116,0.042378915961777536,0.04237486716902607,0.041392585020335194,0.04230041607293176,0.04241506002410401,0.04235119887211903,0.0423431155190652,0.0421740515898673,0.03360444557555732,0.038898771751008414,0.03308028532845937,0.042380542480215,0.04241655878606284,0.042414063941302066,0.042246444597185,0.04242148252761939,0.03917508680908858,0.04243687323576895,0.030885648381855348,0.04182581233242871,0.04243160279050974,0.042348559109961235,0.03908033554974142,0.04234075751605893,0.04220797007737723,0.04244630970090261,0.04245879057709363,0.04250542256425647,0.04242526940864166,0.04250074468220984,0.042501330124034994,0.034560663790042856,0.0421037644792354,0.042454453167286424,0.0424881683723153,0.033369146753421175,0.04246618973455631,0.042375266524694075,0.0394746862765263,0.04232329219160015,0.04234443642737009,0.042480239565006316,0.042445820295304915,0.042374583696995,0.0424290927483914,0.04237572739451757,0.04233522292889533,0.03924775283698941,0.003740746748729586,0.042471214874234164,0.042429892318510395,0.04133668607660006,0.042477372047579426,0.04234774717134556,0.03481947253169802,0.04250581613131398,0.03920229113895244,0.042355796266955306,0.04237505508953284,0.03311809896912724,0.042293010654434866,0.042363955885147284,0.042357993741625986,0.0424994096362127,0.04233556312642726,0.024114068866089734,0.03963040555756928,0.04232413097730626,0.042576295839399356,0.042499032580017825,0.037972888491850695,0.04248109230589788,0.04234895015112573,0.04247340205890082,0.03938600216543991,0.04248271947496057,0.04235341908630366,0.0036904673536174775,0.040321874196370774,0.03473856340205904],\"type\":\"scatter\",\"xaxis\":\"x2\",\"yaxis\":\"y2\"},{\"marker\":{\"color\":[11,18,26,48,65,120,147,179,220,261,289,319,348],\"colorbar\":{\"title\":{\"text\":\"Trial\"},\"x\":1.0,\"xpad\":40},\"colorscale\":[[0.0,\"rgb(247,251,255)\"],[0.125,\"rgb(222,235,247)\"],[0.25,\"rgb(198,219,239)\"],[0.375,\"rgb(158,202,225)\"],[0.5,\"rgb(107,174,214)\"],[0.625,\"rgb(66,146,198)\"],[0.75,\"rgb(33,113,181)\"],[0.875,\"rgb(8,81,156)\"],[1.0,\"rgb(8,48,107)\"]],\"line\":{\"color\":\"Grey\",\"width\":0.5},\"showscale\":false},\"mode\":\"markers\",\"name\":\"Feasible Trial\",\"showlegend\":false,\"x\":[false,true,false,true,true,false,true,false,false,true,true,false,false],\"y\":[0.010519718257202142,0.020856998057932702,0.01052096284159112,0.0323601580091676,0.03162591739011223,0.0037793006916639615,0.031249702191768237,0.0037215610702131747,0.003760883116526311,0.03126944980955811,0.030885648381855348,0.003740746748729586,0.0036904673536174775],\"type\":\"scatter\",\"xaxis\":\"x3\",\"yaxis\":\"y3\"},{\"marker\":{\"color\":[11,18,26,48,65,120,147,179,220,261,289,319,348],\"colorbar\":{\"title\":{\"text\":\"Trial\"},\"x\":1.0,\"xpad\":40},\"colorscale\":[[0.0,\"rgb(247,251,255)\"],[0.125,\"rgb(222,235,247)\"],[0.25,\"rgb(198,219,239)\"],[0.375,\"rgb(158,202,225)\"],[0.5,\"rgb(107,174,214)\"],[0.625,\"rgb(66,146,198)\"],[0.75,\"rgb(33,113,181)\"],[0.875,\"rgb(8,81,156)\"],[1.0,\"rgb(8,48,107)\"]],\"line\":{\"color\":\"Grey\",\"width\":0.5},\"showscale\":false},\"mode\":\"markers\",\"name\":\"Feasible Trial\",\"showlegend\":false,\"x\":[false,true,true,false,true,false,false,true,true,false,true,false,true],\"y\":[0.010519718257202142,0.020856998057932702,0.01052096284159112,0.0323601580091676,0.03162591739011223,0.0037793006916639615,0.031249702191768237,0.0037215610702131747,0.003760883116526311,0.03126944980955811,0.030885648381855348,0.003740746748729586,0.0036904673536174775],\"type\":\"scatter\",\"xaxis\":\"x4\",\"yaxis\":\"y4\"},{\"marker\":{\"color\":[0,1,2,3,4,5,6,7,8,9,10,11,12,13,14,15,16,17,18,19,20,21,22,23,24,25,26,27,28,29,30,31,32,33,34,35,36,37,38,39,40,41,42,43,44,45,46,47,48,49,50,51,52,53,54,55,56,57,58,59,60,61,62,63,64,65,66,67,68,69,70,71,72,73,74,75,76,77,78,79,80,81,82,83,84,85,86,87,88,89,90,91,92,93,94,95,96,97,98,99,100,101,102,103,104,105,106,107,108,109,110,111,112,113,114,115,116,117,118,119,120,121,122,123,124,125,126,127,128,129,130,131,132,133,134,135,136,137,138,139,140,141,142,143,144,145,146,147,148,149,150,151,152,153,154,155,156,157,158,159,160,161,162,163,164,165,166,167,168,169,170,171,172,173,174,175,176,177,178,179,180,181,182,183,184,185,186,187,188,189,190,191,192,193,194,195,196,197,198,199,200,201,202,203,204,205,206,207,208,209,210,211,212,213,214,215,216,217,218,219,220,221,222,223,224,225,226,227,228,229,230,231,232,233,234,235,236,237,238,239,240,241,242,243,244,245,246,247,248,249,250,251,252,253,254,255,256,257,258,259,260,261,262,263,264,265,266,267,268,269,270,271,272,273,274,275,276,277,278,279,280,281,282,283,284,285,286,287,288,289,290,291,292,293,294,295,296,297,298,299,300,301,302,303,304,305,306,307,308,309,310,311,312,313,314,315,316,317,318,319,320,321,322,323,324,325,326,327,328,329,330,331,332,333,334,335,336,337,338,339,340,341,342,343,344,345,346,347,348,349,350],\"colorbar\":{\"title\":{\"text\":\"Trial\"},\"x\":1.0,\"xpad\":40},\"colorscale\":[[0.0,\"rgb(247,251,255)\"],[0.125,\"rgb(222,235,247)\"],[0.25,\"rgb(198,219,239)\"],[0.375,\"rgb(158,202,225)\"],[0.5,\"rgb(107,174,214)\"],[0.625,\"rgb(66,146,198)\"],[0.75,\"rgb(33,113,181)\"],[0.875,\"rgb(8,81,156)\"],[1.0,\"rgb(8,48,107)\"]],\"line\":{\"color\":\"Grey\",\"width\":0.5},\"showscale\":false},\"mode\":\"markers\",\"name\":\"Feasible Trial\",\"showlegend\":false,\"x\":[910,214,73,325,13,527,373,596,584,119,822,316,330,216,431,738,176,420,235,436,708,218,257,107,355,166,2,265,487,982,379,263,185,150,57,284,294,522,391,594,396,292,472,462,648,313,359,553,479,190,97,468,407,404,386,535,412,443,342,347,431,431,429,439,442,505,432,561,659,554,542,565,572,558,633,620,633,628,637,630,738,772,785,827,767,775,779,776,762,792,785,783,846,853,879,876,904,894,907,941,963,987,993,982,989,969,989,1000,946,935,875,871,875,876,876,866,880,894,878,850,813,856,919,916,926,883,821,837,866,805,887,918,839,874,909,852,821,896,950,918,856,922,888,928,958,923,895,894,834,940,805,907,870,878,875,861,823,866,865,860,864,863,838,845,830,837,804,748,704,833,822,699,823,820,703,838,842,801,690,846,748,727,679,715,664,705,675,658,687,721,717,721,739,735,722,679,734,602,617,664,663,606,600,611,649,699,600,592,673,758,669,605,572,588,584,503,573,574,537,533,525,587,631,633,629,551,545,547,578,560,588,550,569,561,554,518,513,484,525,510,639,557,559,560,564,561,550,546,569,567,550,538,550,579,525,496,523,548,592,526,557,578,540,507,551,536,538,520,466,496,467,490,485,450,466,485,481,484,476,461,491,488,461,450,427,457,412,424,403,413,382,444,446,441,443,393,414,411,363,405,356,357,361,323,412,368,371,408,404,402,346,418,384,387,376,391,357,420,391,305,331,330,344,327,331,289,387,370,390,330,361,407,380,427,260,303,261,399,363,234,227,226,243,178,230,273,204,239,209,199,242],\"y\":[0.03438354964465644,0.03765997704303814,0.036466401535762326,0.03603158336802389,0.03568205879326173,0.03707826471642752,0.03882455742842482,0.03716477889561431,0.036119113490618554,0.03073591621117076,0.03489465279018752,0.010519718257202142,0.03452483875654129,0.03879314828144394,0.038356702311881916,0.034770983278465686,0.0386338607570533,0.03685686407324793,0.020856998057932702,0.0364109637716706,0.038111985741480114,0.03870609635775418,0.03870380595536108,0.03850648070902666,0.037924346454905625,0.0386958636152821,0.01052096284159112,0.03697661949748708,0.03743385492120776,0.03344925214369809,0.034729761085852996,0.03880283408727345,0.03897912078738226,0.03608331516471448,0.03567220195251934,0.038989590832045784,0.03718364173126744,0.03435241197641509,0.03897699101948849,0.010666893236326858,0.025895924580448194,0.03895160821938885,0.038941289084112374,0.038939554483515805,0.03892527741804938,0.03683441943169132,0.03200754234125541,0.037445586390519404,0.0323601580091676,0.03613122358719782,0.03597665863880977,0.038966110570538934,0.03895248452983744,0.03895558340642112,0.03889133321155448,0.035073781534686335,0.03930237985639624,0.03905219382376225,0.03936396739193279,0.03620514591628303,0.040299755217404906,0.04041086809620674,0.04015987455197013,0.040408480431374516,0.04022586921656578,0.03162591739011223,0.040485377734646666,0.040775898316922424,0.03737154943984992,0.04116918116886592,0.04105501835500318,0.04121901835551252,0.04122970757050187,0.04123925299039255,0.04126272912650639,0.041211667872499,0.041199815527245706,0.04118710400434709,0.04129960128332609,0.041351391999530994,0.04154552872966882,0.04151616648513147,0.04174835022278569,0.040932350638236095,0.04192699394126524,0.0419866265318241,0.041996908589045825,0.04198944870540431,0.04201970650971439,0.04199343565751286,0.041961066653306484,0.04196270161519747,0.0419546738645667,0.04214653805738862,0.04213683164488156,0.04218983390037057,0.04213501034132614,0.032898285704093734,0.041954741777764024,0.04209370200742202,0.04205694178905003,0.042078039361169925,0.04208077221658176,0.04208811078872451,0.04209918779105696,0.04209755856557842,0.04207737679101302,0.04212538066503789,0.03312724188411208,0.041661760954692574,0.04226818870133802,0.042275096661424635,0.04222355937931005,0.042225234064783304,0.04222140385609942,0.03885568037321961,0.042150167787502885,0.04217800744055069,0.038543792123151024,0.04219098439430134,0.0037793006916639615,0.041964335249881024,0.04213616854984386,0.04214898501877183,0.04212032015693434,0.038488559453537,0.04224293841888195,0.0418547757031864,0.03364909437584379,0.040398678506854524,0.04194287869984168,0.04214859257839686,0.04201049536408811,0.0418914805944309,0.042120279195458,0.042117906373857525,0.038156278816451894,0.04199617293156818,0.04187349596086755,0.03819021473703196,0.04199583633200719,0.04217088977587583,0.04220185168588423,0.04217346203077831,0.04213690131298262,0.04193285273042657,0.04216901548029598,0.031249702191768237,0.04189764243012316,0.0383351764536244,0.04214151431564361,0.04214721847128452,0.04219816124254635,0.042275725170262436,0.04227190336926325,0.04228991808389853,0.03294040286109399,0.04228003808401254,0.0422749635752382,0.042270276595239735,0.04229197443009659,0.04215861911619051,0.042296450972296,0.042290807176725106,0.04230017966262716,0.04230162404495765,0.038945043230115495,0.042184448085513145,0.042358117506657106,0.042116507450456385,0.042310640245393424,0.04221876842747968,0.04227014667873973,0.042184998289597916,0.04235975952863978,0.04230759048778564,0.0386036954462445,0.042042413446637936,0.04216314736045158,0.0037215610702131747,0.04226571955619708,0.04227199316744396,0.04234599319089425,0.04224495125226111,0.042285270685046186,0.04217821490294149,0.042264221690686374,0.03311978453504452,0.04224572086431734,0.042331020620943086,0.042167095158544984,0.042343471527857314,0.04226735439457681,0.04233131256416171,0.04226649717204898,0.04226145977686405,0.04218875379866753,0.04233627255279251,0.04052616743950559,0.042290123633068,0.04210971503568724,0.04230333958586393,0.042288876450618004,0.042269549628525985,0.04219815708427566,0.04225394131490588,0.04227700713940262,0.03811509356595545,0.04231017130466274,0.04225919832593004,0.0421553383852586,0.042286436810832995,0.042349750372562514,0.042340161579888194,0.04231492367982613,0.04009190504981825,0.04226585912172752,0.03888011431765274,0.04229577347464637,0.0422699478421344,0.003760883116526311,0.04229930985733535,0.042389745203136445,0.04230473700056118,0.03975976980412295,0.042421652977767725,0.04232078708541735,0.042259425584893276,0.03323225079092358,0.0423196148735781,0.03875046757443752,0.0423278130722116,0.04230863663055442,0.04232063224293754,0.04218676286277703,0.04233046724539148,0.04230527285693151,0.04223009203164237,0.04222507431468346,0.04227710071181274,0.042213018910009135,0.04236973195595058,0.04233941850943866,0.04232850563695923,0.04230255699793496,0.04218004754361666,0.042331939754105964,0.040933429821890445,0.04232875526895782,0.042261331227828484,0.04234224529047925,0.04223249611163178,0.03919302820936669,0.04225645792465758,0.0423449559290188,0.04219939464538152,0.042150408790428424,0.04224853286306229,0.03308828344235486,0.042306288827994906,0.038901738565473194,0.03126944980955811,0.04238477690013629,0.042264826991122835,0.04235980477601002,0.04235820056689206,0.03891177481482007,0.04230214123841079,0.042394893127948266,0.04239061256762724,0.04243332795278116,0.042378915961777536,0.04237486716902607,0.041392585020335194,0.04230041607293176,0.04241506002410401,0.04235119887211903,0.0423431155190652,0.0421740515898673,0.03360444557555732,0.038898771751008414,0.03308028532845937,0.042380542480215,0.04241655878606284,0.042414063941302066,0.042246444597185,0.04242148252761939,0.03917508680908858,0.04243687323576895,0.030885648381855348,0.04182581233242871,0.04243160279050974,0.042348559109961235,0.03908033554974142,0.04234075751605893,0.04220797007737723,0.04244630970090261,0.04245879057709363,0.04250542256425647,0.04242526940864166,0.04250074468220984,0.042501330124034994,0.034560663790042856,0.0421037644792354,0.042454453167286424,0.0424881683723153,0.033369146753421175,0.04246618973455631,0.042375266524694075,0.0394746862765263,0.04232329219160015,0.04234443642737009,0.042480239565006316,0.042445820295304915,0.042374583696995,0.0424290927483914,0.04237572739451757,0.04233522292889533,0.03924775283698941,0.003740746748729586,0.042471214874234164,0.042429892318510395,0.04133668607660006,0.042477372047579426,0.04234774717134556,0.03481947253169802,0.04250581613131398,0.03920229113895244,0.042355796266955306,0.04237505508953284,0.03311809896912724,0.042293010654434866,0.042363955885147284,0.042357993741625986,0.0424994096362127,0.04233556312642726,0.024114068866089734,0.03963040555756928,0.04232413097730626,0.042576295839399356,0.042499032580017825,0.037972888491850695,0.04248109230589788,0.04234895015112573,0.04247340205890082,0.03938600216543991,0.04248271947496057,0.04235341908630366,0.0036904673536174775,0.040321874196370774,0.03473856340205904],\"type\":\"scatter\",\"xaxis\":\"x5\",\"yaxis\":\"y5\"},{\"marker\":{\"color\":[0,1,2,3,4,5,6,7,8,9,10,11,12,13,14,15,16,17,18,19,20,21,22,23,24,25,26,27,28,29,30,31,32,33,34,35,36,37,38,39,40,41,42,43,44,45,46,47,48,49,50,51,52,53,54,55,56,57,58,59,60,61,62,63,64,65,66,67,68,69,70,71,72,73,74,75,76,77,78,79,80,81,82,83,84,85,86,87,88,89,90,91,92,93,94,95,96,97,98,99,100,101,102,103,104,105,106,107,108,109,110,111,112,113,114,115,116,117,118,119,120,121,122,123,124,125,126,127,128,129,130,131,132,133,134,135,136,137,138,139,140,141,142,143,144,145,146,147,148,149,150,151,152,153,154,155,156,157,158,159,160,161,162,163,164,165,166,167,168,169,170,171,172,173,174,175,176,177,178,179,180,181,182,183,184,185,186,187,188,189,190,191,192,193,194,195,196,197,198,199,200,201,202,203,204,205,206,207,208,209,210,211,212,213,214,215,216,217,218,219,220,221,222,223,224,225,226,227,228,229,230,231,232,233,234,235,236,237,238,239,240,241,242,243,244,245,246,247,248,249,250,251,252,253,254,255,256,257,258,259,260,261,262,263,264,265,266,267,268,269,270,271,272,273,274,275,276,277,278,279,280,281,282,283,284,285,286,287,288,289,290,291,292,293,294,295,296,297,298,299,300,301,302,303,304,305,306,307,308,309,310,311,312,313,314,315,316,317,318,319,320,321,322,323,324,325,326,327,328,329,330,331,332,333,334,335,336,337,338,339,340,341,342,343,344,345,346,347,348,349,350],\"colorbar\":{\"title\":{\"text\":\"Trial\"},\"x\":1.0,\"xpad\":40},\"colorscale\":[[0.0,\"rgb(247,251,255)\"],[0.125,\"rgb(222,235,247)\"],[0.25,\"rgb(198,219,239)\"],[0.375,\"rgb(158,202,225)\"],[0.5,\"rgb(107,174,214)\"],[0.625,\"rgb(66,146,198)\"],[0.75,\"rgb(33,113,181)\"],[0.875,\"rgb(8,81,156)\"],[1.0,\"rgb(8,48,107)\"]],\"line\":{\"color\":\"Grey\",\"width\":0.5},\"showscale\":false},\"mode\":\"markers\",\"name\":\"Feasible Trial\",\"showlegend\":false,\"x\":[\"tversky\",\"tversky\",\"tversky\",\"jaccard\",\"jaccard\",\"asymmetric\",\"cosine\",\"tversky\",\"dice\",\"asymmetric\",\"cosine\",\"euclidean\",\"cosine\",\"cosine\",\"cosine\",\"cosine\",\"cosine\",\"dice\",\"euclidean\",\"cosine\",\"cosine\",\"cosine\",\"cosine\",\"cosine\",\"cosine\",\"cosine\",\"euclidean\",\"asymmetric\",\"jaccard\",\"dice\",\"cosine\",\"cosine\",\"cosine\",\"tversky\",\"cosine\",\"cosine\",\"jaccard\",\"tversky\",\"cosine\",\"jaccard\",\"asymmetric\",\"cosine\",\"cosine\",\"cosine\",\"cosine\",\"dice\",\"cosine\",\"cosine\",\"euclidean\",\"tversky\",\"cosine\",\"cosine\",\"cosine\",\"cosine\",\"cosine\",\"asymmetric\",\"cosine\",\"cosine\",\"cosine\",\"dice\",\"cosine\",\"cosine\",\"cosine\",\"cosine\",\"cosine\",\"euclidean\",\"cosine\",\"cosine\",\"jaccard\",\"cosine\",\"cosine\",\"cosine\",\"cosine\",\"cosine\",\"cosine\",\"asymmetric\",\"asymmetric\",\"asymmetric\",\"asymmetric\",\"asymmetric\",\"asymmetric\",\"asymmetric\",\"asymmetric\",\"asymmetric\",\"asymmetric\",\"asymmetric\",\"asymmetric\",\"asymmetric\",\"asymmetric\",\"asymmetric\",\"asymmetric\",\"asymmetric\",\"asymmetric\",\"asymmetric\",\"asymmetric\",\"asymmetric\",\"asymmetric\",\"asymmetric\",\"asymmetric\",\"asymmetric\",\"asymmetric\",\"asymmetric\",\"asymmetric\",\"asymmetric\",\"asymmetric\",\"asymmetric\",\"asymmetric\",\"asymmetric\",\"asymmetric\",\"asymmetric\",\"asymmetric\",\"asymmetric\",\"asymmetric\",\"asymmetric\",\"asymmetric\",\"tversky\",\"asymmetric\",\"asymmetric\",\"dice\",\"asymmetric\",\"euclidean\",\"asymmetric\",\"asymmetric\",\"asymmetric\",\"asymmetric\",\"jaccard\",\"asymmetric\",\"asymmetric\",\"asymmetric\",\"asymmetric\",\"asymmetric\",\"asymmetric\",\"asymmetric\",\"asymmetric\",\"asymmetric\",\"asymmetric\",\"tversky\",\"asymmetric\",\"asymmetric\",\"dice\",\"asymmetric\",\"asymmetric\",\"asymmetric\",\"asymmetric\",\"asymmetric\",\"asymmetric\",\"asymmetric\",\"euclidean\",\"asymmetric\",\"jaccard\",\"asymmetric\",\"asymmetric\",\"asymmetric\",\"asymmetric\",\"asymmetric\",\"asymmetric\",\"asymmetric\",\"asymmetric\",\"asymmetric\",\"asymmetric\",\"asymmetric\",\"asymmetric\",\"asymmetric\",\"asymmetric\",\"asymmetric\",\"asymmetric\",\"tversky\",\"asymmetric\",\"asymmetric\",\"asymmetric\",\"asymmetric\",\"asymmetric\",\"asymmetric\",\"asymmetric\",\"asymmetric\",\"asymmetric\",\"dice\",\"asymmetric\",\"asymmetric\",\"euclidean\",\"asymmetric\",\"asymmetric\",\"asymmetric\",\"asymmetric\",\"asymmetric\",\"asymmetric\",\"asymmetric\",\"jaccard\",\"asymmetric\",\"asymmetric\",\"asymmetric\",\"asymmetric\",\"asymmetric\",\"asymmetric\",\"asymmetric\",\"asymmetric\",\"asymmetric\",\"asymmetric\",\"asymmetric\",\"asymmetric\",\"asymmetric\",\"asymmetric\",\"asymmetric\",\"asymmetric\",\"asymmetric\",\"asymmetric\",\"asymmetric\",\"tversky\",\"asymmetric\",\"asymmetric\",\"asymmetric\",\"asymmetric\",\"asymmetric\",\"asymmetric\",\"asymmetric\",\"asymmetric\",\"asymmetric\",\"dice\",\"asymmetric\",\"asymmetric\",\"euclidean\",\"asymmetric\",\"asymmetric\",\"asymmetric\",\"asymmetric\",\"asymmetric\",\"asymmetric\",\"asymmetric\",\"asymmetric\",\"asymmetric\",\"jaccard\",\"asymmetric\",\"asymmetric\",\"asymmetric\",\"asymmetric\",\"asymmetric\",\"asymmetric\",\"asymmetric\",\"asymmetric\",\"asymmetric\",\"asymmetric\",\"asymmetric\",\"asymmetric\",\"asymmetric\",\"asymmetric\",\"asymmetric\",\"asymmetric\",\"asymmetric\",\"asymmetric\",\"asymmetric\",\"asymmetric\",\"asymmetric\",\"tversky\",\"asymmetric\",\"asymmetric\",\"asymmetric\",\"asymmetric\",\"asymmetric\",\"asymmetric\",\"asymmetric\",\"dice\",\"euclidean\",\"asymmetric\",\"asymmetric\",\"asymmetric\",\"asymmetric\",\"jaccard\",\"asymmetric\",\"asymmetric\",\"asymmetric\",\"asymmetric\",\"asymmetric\",\"asymmetric\",\"asymmetric\",\"asymmetric\",\"asymmetric\",\"asymmetric\",\"asymmetric\",\"asymmetric\",\"tversky\",\"asymmetric\",\"asymmetric\",\"asymmetric\",\"asymmetric\",\"asymmetric\",\"asymmetric\",\"asymmetric\",\"dice\",\"asymmetric\",\"euclidean\",\"asymmetric\",\"asymmetric\",\"asymmetric\",\"jaccard\",\"asymmetric\",\"asymmetric\",\"asymmetric\",\"asymmetric\",\"asymmetric\",\"asymmetric\",\"asymmetric\",\"asymmetric\",\"asymmetric\",\"asymmetric\",\"asymmetric\",\"asymmetric\",\"asymmetric\",\"asymmetric\",\"asymmetric\",\"tversky\",\"asymmetric\",\"asymmetric\",\"asymmetric\",\"asymmetric\",\"asymmetric\",\"asymmetric\",\"asymmetric\",\"asymmetric\",\"dice\",\"euclidean\",\"asymmetric\",\"asymmetric\",\"asymmetric\",\"asymmetric\",\"asymmetric\",\"asymmetric\",\"asymmetric\",\"jaccard\",\"asymmetric\",\"asymmetric\",\"asymmetric\",\"asymmetric\",\"asymmetric\",\"asymmetric\",\"asymmetric\",\"asymmetric\",\"asymmetric\",\"tversky\",\"asymmetric\",\"asymmetric\",\"asymmetric\",\"asymmetric\",\"asymmetric\",\"asymmetric\",\"asymmetric\",\"dice\",\"asymmetric\",\"asymmetric\",\"euclidean\",\"asymmetric\",\"asymmetric\"],\"y\":[0.03438354964465644,0.03765997704303814,0.036466401535762326,0.03603158336802389,0.03568205879326173,0.03707826471642752,0.03882455742842482,0.03716477889561431,0.036119113490618554,0.03073591621117076,0.03489465279018752,0.010519718257202142,0.03452483875654129,0.03879314828144394,0.038356702311881916,0.034770983278465686,0.0386338607570533,0.03685686407324793,0.020856998057932702,0.0364109637716706,0.038111985741480114,0.03870609635775418,0.03870380595536108,0.03850648070902666,0.037924346454905625,0.0386958636152821,0.01052096284159112,0.03697661949748708,0.03743385492120776,0.03344925214369809,0.034729761085852996,0.03880283408727345,0.03897912078738226,0.03608331516471448,0.03567220195251934,0.038989590832045784,0.03718364173126744,0.03435241197641509,0.03897699101948849,0.010666893236326858,0.025895924580448194,0.03895160821938885,0.038941289084112374,0.038939554483515805,0.03892527741804938,0.03683441943169132,0.03200754234125541,0.037445586390519404,0.0323601580091676,0.03613122358719782,0.03597665863880977,0.038966110570538934,0.03895248452983744,0.03895558340642112,0.03889133321155448,0.035073781534686335,0.03930237985639624,0.03905219382376225,0.03936396739193279,0.03620514591628303,0.040299755217404906,0.04041086809620674,0.04015987455197013,0.040408480431374516,0.04022586921656578,0.03162591739011223,0.040485377734646666,0.040775898316922424,0.03737154943984992,0.04116918116886592,0.04105501835500318,0.04121901835551252,0.04122970757050187,0.04123925299039255,0.04126272912650639,0.041211667872499,0.041199815527245706,0.04118710400434709,0.04129960128332609,0.041351391999530994,0.04154552872966882,0.04151616648513147,0.04174835022278569,0.040932350638236095,0.04192699394126524,0.0419866265318241,0.041996908589045825,0.04198944870540431,0.04201970650971439,0.04199343565751286,0.041961066653306484,0.04196270161519747,0.0419546738645667,0.04214653805738862,0.04213683164488156,0.04218983390037057,0.04213501034132614,0.032898285704093734,0.041954741777764024,0.04209370200742202,0.04205694178905003,0.042078039361169925,0.04208077221658176,0.04208811078872451,0.04209918779105696,0.04209755856557842,0.04207737679101302,0.04212538066503789,0.03312724188411208,0.041661760954692574,0.04226818870133802,0.042275096661424635,0.04222355937931005,0.042225234064783304,0.04222140385609942,0.03885568037321961,0.042150167787502885,0.04217800744055069,0.038543792123151024,0.04219098439430134,0.0037793006916639615,0.041964335249881024,0.04213616854984386,0.04214898501877183,0.04212032015693434,0.038488559453537,0.04224293841888195,0.0418547757031864,0.03364909437584379,0.040398678506854524,0.04194287869984168,0.04214859257839686,0.04201049536408811,0.0418914805944309,0.042120279195458,0.042117906373857525,0.038156278816451894,0.04199617293156818,0.04187349596086755,0.03819021473703196,0.04199583633200719,0.04217088977587583,0.04220185168588423,0.04217346203077831,0.04213690131298262,0.04193285273042657,0.04216901548029598,0.031249702191768237,0.04189764243012316,0.0383351764536244,0.04214151431564361,0.04214721847128452,0.04219816124254635,0.042275725170262436,0.04227190336926325,0.04228991808389853,0.03294040286109399,0.04228003808401254,0.0422749635752382,0.042270276595239735,0.04229197443009659,0.04215861911619051,0.042296450972296,0.042290807176725106,0.04230017966262716,0.04230162404495765,0.038945043230115495,0.042184448085513145,0.042358117506657106,0.042116507450456385,0.042310640245393424,0.04221876842747968,0.04227014667873973,0.042184998289597916,0.04235975952863978,0.04230759048778564,0.0386036954462445,0.042042413446637936,0.04216314736045158,0.0037215610702131747,0.04226571955619708,0.04227199316744396,0.04234599319089425,0.04224495125226111,0.042285270685046186,0.04217821490294149,0.042264221690686374,0.03311978453504452,0.04224572086431734,0.042331020620943086,0.042167095158544984,0.042343471527857314,0.04226735439457681,0.04233131256416171,0.04226649717204898,0.04226145977686405,0.04218875379866753,0.04233627255279251,0.04052616743950559,0.042290123633068,0.04210971503568724,0.04230333958586393,0.042288876450618004,0.042269549628525985,0.04219815708427566,0.04225394131490588,0.04227700713940262,0.03811509356595545,0.04231017130466274,0.04225919832593004,0.0421553383852586,0.042286436810832995,0.042349750372562514,0.042340161579888194,0.04231492367982613,0.04009190504981825,0.04226585912172752,0.03888011431765274,0.04229577347464637,0.0422699478421344,0.003760883116526311,0.04229930985733535,0.042389745203136445,0.04230473700056118,0.03975976980412295,0.042421652977767725,0.04232078708541735,0.042259425584893276,0.03323225079092358,0.0423196148735781,0.03875046757443752,0.0423278130722116,0.04230863663055442,0.04232063224293754,0.04218676286277703,0.04233046724539148,0.04230527285693151,0.04223009203164237,0.04222507431468346,0.04227710071181274,0.042213018910009135,0.04236973195595058,0.04233941850943866,0.04232850563695923,0.04230255699793496,0.04218004754361666,0.042331939754105964,0.040933429821890445,0.04232875526895782,0.042261331227828484,0.04234224529047925,0.04223249611163178,0.03919302820936669,0.04225645792465758,0.0423449559290188,0.04219939464538152,0.042150408790428424,0.04224853286306229,0.03308828344235486,0.042306288827994906,0.038901738565473194,0.03126944980955811,0.04238477690013629,0.042264826991122835,0.04235980477601002,0.04235820056689206,0.03891177481482007,0.04230214123841079,0.042394893127948266,0.04239061256762724,0.04243332795278116,0.042378915961777536,0.04237486716902607,0.041392585020335194,0.04230041607293176,0.04241506002410401,0.04235119887211903,0.0423431155190652,0.0421740515898673,0.03360444557555732,0.038898771751008414,0.03308028532845937,0.042380542480215,0.04241655878606284,0.042414063941302066,0.042246444597185,0.04242148252761939,0.03917508680908858,0.04243687323576895,0.030885648381855348,0.04182581233242871,0.04243160279050974,0.042348559109961235,0.03908033554974142,0.04234075751605893,0.04220797007737723,0.04244630970090261,0.04245879057709363,0.04250542256425647,0.04242526940864166,0.04250074468220984,0.042501330124034994,0.034560663790042856,0.0421037644792354,0.042454453167286424,0.0424881683723153,0.033369146753421175,0.04246618973455631,0.042375266524694075,0.0394746862765263,0.04232329219160015,0.04234443642737009,0.042480239565006316,0.042445820295304915,0.042374583696995,0.0424290927483914,0.04237572739451757,0.04233522292889533,0.03924775283698941,0.003740746748729586,0.042471214874234164,0.042429892318510395,0.04133668607660006,0.042477372047579426,0.04234774717134556,0.03481947253169802,0.04250581613131398,0.03920229113895244,0.042355796266955306,0.04237505508953284,0.03311809896912724,0.042293010654434866,0.042363955885147284,0.042357993741625986,0.0424994096362127,0.04233556312642726,0.024114068866089734,0.03963040555756928,0.04232413097730626,0.042576295839399356,0.042499032580017825,0.037972888491850695,0.04248109230589788,0.04234895015112573,0.04247340205890082,0.03938600216543991,0.04248271947496057,0.04235341908630366,0.0036904673536174775,0.040321874196370774,0.03473856340205904],\"type\":\"scatter\",\"xaxis\":\"x6\",\"yaxis\":\"y6\"},{\"marker\":{\"color\":[11,18,26,48,65,120,147,179,220,261,289,319,348],\"colorbar\":{\"title\":{\"text\":\"Trial\"},\"x\":1.0,\"xpad\":40},\"colorscale\":[[0.0,\"rgb(247,251,255)\"],[0.125,\"rgb(222,235,247)\"],[0.25,\"rgb(198,219,239)\"],[0.375,\"rgb(158,202,225)\"],[0.5,\"rgb(107,174,214)\"],[0.625,\"rgb(66,146,198)\"],[0.75,\"rgb(33,113,181)\"],[0.875,\"rgb(8,81,156)\"],[1.0,\"rgb(8,48,107)\"]],\"line\":{\"color\":\"Grey\",\"width\":0.5},\"showscale\":false},\"mode\":\"markers\",\"name\":\"Feasible Trial\",\"showlegend\":false,\"x\":[\"lin\",\"log\",\"exp\",\"log\",\"exp\",\"lin\",\"exp\",\"lin\",\"log\",\"lin\",\"exp\",\"log\",\"exp\"],\"y\":[0.010519718257202142,0.020856998057932702,0.01052096284159112,0.0323601580091676,0.03162591739011223,0.0037793006916639615,0.031249702191768237,0.0037215610702131747,0.003760883116526311,0.03126944980955811,0.030885648381855348,0.003740746748729586,0.0036904673536174775],\"type\":\"scatter\",\"xaxis\":\"x7\",\"yaxis\":\"y7\"},{\"marker\":{\"color\":[0,1,2,3,4,5,6,7,8,9,10,11,12,13,14,15,16,17,18,19,20,21,22,23,24,25,26,27,28,29,30,31,32,33,34,35,36,37,38,39,40,41,42,43,44,45,46,47,48,49,50,51,52,53,54,55,56,57,58,59,60,61,62,63,64,65,66,67,68,69,70,71,72,73,74,75,76,77,78,79,80,81,82,83,84,85,86,87,88,89,90,91,92,93,94,95,96,97,98,99,100,101,102,103,104,105,106,107,108,109,110,111,112,113,114,115,116,117,118,119,120,121,122,123,124,125,126,127,128,129,130,131,132,133,134,135,136,137,138,139,140,141,142,143,144,145,146,147,148,149,150,151,152,153,154,155,156,157,158,159,160,161,162,163,164,165,166,167,168,169,170,171,172,173,174,175,176,177,178,179,180,181,182,183,184,185,186,187,188,189,190,191,192,193,194,195,196,197,198,199,200,201,202,203,204,205,206,207,208,209,210,211,212,213,214,215,216,217,218,219,220,221,222,223,224,225,226,227,228,229,230,231,232,233,234,235,236,237,238,239,240,241,242,243,244,245,246,247,248,249,250,251,252,253,254,255,256,257,258,259,260,261,262,263,264,265,266,267,268,269,270,271,272,273,274,275,276,277,278,279,280,281,282,283,284,285,286,287,288,289,290,291,292,293,294,295,296,297,298,299,300,301,302,303,304,305,306,307,308,309,310,311,312,313,314,315,316,317,318,319,320,321,322,323,324,325,326,327,328,329,330,331,332,333,334,335,336,337,338,339,340,341,342,343,344,345,346,347,348,349,350],\"colorbar\":{\"title\":{\"text\":\"Trial\"},\"x\":1.0,\"xpad\":40},\"colorscale\":[[0.0,\"rgb(247,251,255)\"],[0.125,\"rgb(222,235,247)\"],[0.25,\"rgb(198,219,239)\"],[0.375,\"rgb(158,202,225)\"],[0.5,\"rgb(107,174,214)\"],[0.625,\"rgb(66,146,198)\"],[0.75,\"rgb(33,113,181)\"],[0.875,\"rgb(8,81,156)\"],[1.0,\"rgb(8,48,107)\"]],\"line\":{\"color\":\"Grey\",\"width\":0.5},\"showscale\":false},\"mode\":\"markers\",\"name\":\"Feasible Trial\",\"showlegend\":false,\"x\":[570,182,76,363,523,450,227,422,388,200,709,220,49,242,296,120,275,285,12,162,314,262,255,120,349,132,228,333,447,677,492,238,175,161,61,183,185,106,166,4,85,172,162,167,194,149,35,84,211,377,602,184,195,199,216,98,304,289,306,303,401,413,385,413,393,402,422,479,468,534,514,547,549,549,564,551,563,560,571,596,624,613,632,606,648,666,670,670,676,677,671,672,678,736,749,745,740,749,734,706,697,706,707,707,709,708,705,716,725,718,747,748,745,748,748,750,729,737,733,741,741,689,727,731,729,727,750,749,651,750,696,729,691,725,741,721,735,692,750,651,717,732,737,730,721,688,729,736,713,694,736,720,733,750,750,747,749,749,749,747,750,712,749,748,747,750,749,711,750,701,749,718,747,717,749,749,750,719,697,717,734,736,750,726,736,703,732,749,718,750,706,750,732,750,734,723,750,734,719,734,684,736,733,730,704,733,717,717,733,732,698,721,734,731,723,358,708,732,736,720,737,736,750,736,331,750,719,707,722,734,709,735,728,722,688,725,719,720,697,705,721,732,724,723,715,689,720,450,725,707,725,694,723,708,727,683,723,704,727,713,734,722,735,699,734,736,737,714,733,735,750,738,749,513,749,750,740,739,739,743,263,738,736,750,749,740,739,750,749,750,584,750,749,737,750,737,750,750,750,736,750,750,737,736,749,747,711,748,749,748,750,748,750,734,713,730,726,706,750,727,733,714,713,750,713,725,750,733,724,699,750,750,734,714,734,723,25,736,702,750,719,686,712,672,711,696,707,680,704,694,706],\"y\":[0.03438354964465644,0.03765997704303814,0.036466401535762326,0.03603158336802389,0.03568205879326173,0.03707826471642752,0.03882455742842482,0.03716477889561431,0.036119113490618554,0.03073591621117076,0.03489465279018752,0.010519718257202142,0.03452483875654129,0.03879314828144394,0.038356702311881916,0.034770983278465686,0.0386338607570533,0.03685686407324793,0.020856998057932702,0.0364109637716706,0.038111985741480114,0.03870609635775418,0.03870380595536108,0.03850648070902666,0.037924346454905625,0.0386958636152821,0.01052096284159112,0.03697661949748708,0.03743385492120776,0.03344925214369809,0.034729761085852996,0.03880283408727345,0.03897912078738226,0.03608331516471448,0.03567220195251934,0.038989590832045784,0.03718364173126744,0.03435241197641509,0.03897699101948849,0.010666893236326858,0.025895924580448194,0.03895160821938885,0.038941289084112374,0.038939554483515805,0.03892527741804938,0.03683441943169132,0.03200754234125541,0.037445586390519404,0.0323601580091676,0.03613122358719782,0.03597665863880977,0.038966110570538934,0.03895248452983744,0.03895558340642112,0.03889133321155448,0.035073781534686335,0.03930237985639624,0.03905219382376225,0.03936396739193279,0.03620514591628303,0.040299755217404906,0.04041086809620674,0.04015987455197013,0.040408480431374516,0.04022586921656578,0.03162591739011223,0.040485377734646666,0.040775898316922424,0.03737154943984992,0.04116918116886592,0.04105501835500318,0.04121901835551252,0.04122970757050187,0.04123925299039255,0.04126272912650639,0.041211667872499,0.041199815527245706,0.04118710400434709,0.04129960128332609,0.041351391999530994,0.04154552872966882,0.04151616648513147,0.04174835022278569,0.040932350638236095,0.04192699394126524,0.0419866265318241,0.041996908589045825,0.04198944870540431,0.04201970650971439,0.04199343565751286,0.041961066653306484,0.04196270161519747,0.0419546738645667,0.04214653805738862,0.04213683164488156,0.04218983390037057,0.04213501034132614,0.032898285704093734,0.041954741777764024,0.04209370200742202,0.04205694178905003,0.042078039361169925,0.04208077221658176,0.04208811078872451,0.04209918779105696,0.04209755856557842,0.04207737679101302,0.04212538066503789,0.03312724188411208,0.041661760954692574,0.04226818870133802,0.042275096661424635,0.04222355937931005,0.042225234064783304,0.04222140385609942,0.03885568037321961,0.042150167787502885,0.04217800744055069,0.038543792123151024,0.04219098439430134,0.0037793006916639615,0.041964335249881024,0.04213616854984386,0.04214898501877183,0.04212032015693434,0.038488559453537,0.04224293841888195,0.0418547757031864,0.03364909437584379,0.040398678506854524,0.04194287869984168,0.04214859257839686,0.04201049536408811,0.0418914805944309,0.042120279195458,0.042117906373857525,0.038156278816451894,0.04199617293156818,0.04187349596086755,0.03819021473703196,0.04199583633200719,0.04217088977587583,0.04220185168588423,0.04217346203077831,0.04213690131298262,0.04193285273042657,0.04216901548029598,0.031249702191768237,0.04189764243012316,0.0383351764536244,0.04214151431564361,0.04214721847128452,0.04219816124254635,0.042275725170262436,0.04227190336926325,0.04228991808389853,0.03294040286109399,0.04228003808401254,0.0422749635752382,0.042270276595239735,0.04229197443009659,0.04215861911619051,0.042296450972296,0.042290807176725106,0.04230017966262716,0.04230162404495765,0.038945043230115495,0.042184448085513145,0.042358117506657106,0.042116507450456385,0.042310640245393424,0.04221876842747968,0.04227014667873973,0.042184998289597916,0.04235975952863978,0.04230759048778564,0.0386036954462445,0.042042413446637936,0.04216314736045158,0.0037215610702131747,0.04226571955619708,0.04227199316744396,0.04234599319089425,0.04224495125226111,0.042285270685046186,0.04217821490294149,0.042264221690686374,0.03311978453504452,0.04224572086431734,0.042331020620943086,0.042167095158544984,0.042343471527857314,0.04226735439457681,0.04233131256416171,0.04226649717204898,0.04226145977686405,0.04218875379866753,0.04233627255279251,0.04052616743950559,0.042290123633068,0.04210971503568724,0.04230333958586393,0.042288876450618004,0.042269549628525985,0.04219815708427566,0.04225394131490588,0.04227700713940262,0.03811509356595545,0.04231017130466274,0.04225919832593004,0.0421553383852586,0.042286436810832995,0.042349750372562514,0.042340161579888194,0.04231492367982613,0.04009190504981825,0.04226585912172752,0.03888011431765274,0.04229577347464637,0.0422699478421344,0.003760883116526311,0.04229930985733535,0.042389745203136445,0.04230473700056118,0.03975976980412295,0.042421652977767725,0.04232078708541735,0.042259425584893276,0.03323225079092358,0.0423196148735781,0.03875046757443752,0.0423278130722116,0.04230863663055442,0.04232063224293754,0.04218676286277703,0.04233046724539148,0.04230527285693151,0.04223009203164237,0.04222507431468346,0.04227710071181274,0.042213018910009135,0.04236973195595058,0.04233941850943866,0.04232850563695923,0.04230255699793496,0.04218004754361666,0.042331939754105964,0.040933429821890445,0.04232875526895782,0.042261331227828484,0.04234224529047925,0.04223249611163178,0.03919302820936669,0.04225645792465758,0.0423449559290188,0.04219939464538152,0.042150408790428424,0.04224853286306229,0.03308828344235486,0.042306288827994906,0.038901738565473194,0.03126944980955811,0.04238477690013629,0.042264826991122835,0.04235980477601002,0.04235820056689206,0.03891177481482007,0.04230214123841079,0.042394893127948266,0.04239061256762724,0.04243332795278116,0.042378915961777536,0.04237486716902607,0.041392585020335194,0.04230041607293176,0.04241506002410401,0.04235119887211903,0.0423431155190652,0.0421740515898673,0.03360444557555732,0.038898771751008414,0.03308028532845937,0.042380542480215,0.04241655878606284,0.042414063941302066,0.042246444597185,0.04242148252761939,0.03917508680908858,0.04243687323576895,0.030885648381855348,0.04182581233242871,0.04243160279050974,0.042348559109961235,0.03908033554974142,0.04234075751605893,0.04220797007737723,0.04244630970090261,0.04245879057709363,0.04250542256425647,0.04242526940864166,0.04250074468220984,0.042501330124034994,0.034560663790042856,0.0421037644792354,0.042454453167286424,0.0424881683723153,0.033369146753421175,0.04246618973455631,0.042375266524694075,0.0394746862765263,0.04232329219160015,0.04234443642737009,0.042480239565006316,0.042445820295304915,0.042374583696995,0.0424290927483914,0.04237572739451757,0.04233522292889533,0.03924775283698941,0.003740746748729586,0.042471214874234164,0.042429892318510395,0.04133668607660006,0.042477372047579426,0.04234774717134556,0.03481947253169802,0.04250581613131398,0.03920229113895244,0.042355796266955306,0.04237505508953284,0.03311809896912724,0.042293010654434866,0.042363955885147284,0.042357993741625986,0.0424994096362127,0.04233556312642726,0.024114068866089734,0.03963040555756928,0.04232413097730626,0.042576295839399356,0.042499032580017825,0.037972888491850695,0.04248109230589788,0.04234895015112573,0.04247340205890082,0.03938600216543991,0.04248271947496057,0.04235341908630366,0.0036904673536174775,0.040321874196370774,0.03473856340205904],\"type\":\"scatter\",\"xaxis\":\"x8\",\"yaxis\":\"y8\"},{\"marker\":{\"color\":[0,1,2,7,33,37,49,115,136,166,207,252,279,309,337],\"colorbar\":{\"title\":{\"text\":\"Trial\"},\"x\":1.0,\"xpad\":40},\"colorscale\":[[0.0,\"rgb(247,251,255)\"],[0.125,\"rgb(222,235,247)\"],[0.25,\"rgb(198,219,239)\"],[0.375,\"rgb(158,202,225)\"],[0.5,\"rgb(107,174,214)\"],[0.625,\"rgb(66,146,198)\"],[0.75,\"rgb(33,113,181)\"],[0.875,\"rgb(8,81,156)\"],[1.0,\"rgb(8,48,107)\"]],\"line\":{\"color\":\"Grey\",\"width\":0.5},\"showscale\":false},\"mode\":\"markers\",\"name\":\"Feasible Trial\",\"showlegend\":false,\"x\":[1.9162996424704613,0.9331405812571156,1.9850899411906355,1.1167000718605908,0.02488167405374897,0.005762861884655246,0.8264074043569967,1.4250965243047704,0.49693060066018657,1.5092374352538918,0.32455086880523654,1.5812052261032874,0.6207373203037436,1.2506852927038588,1.711051684926896],\"y\":[0.03438354964465644,0.03765997704303814,0.036466401535762326,0.03716477889561431,0.03608331516471448,0.03435241197641509,0.03613122358719782,0.03885568037321961,0.038156278816451894,0.038945043230115495,0.03811509356595545,0.03919302820936669,0.03360444557555732,0.0394746862765263,0.03963040555756928],\"type\":\"scatter\",\"xaxis\":\"x9\",\"yaxis\":\"y9\"},{\"marker\":{\"color\":[0,1,2,7,33,37,49,115,136,166,207,252,279,309,337],\"colorbar\":{\"title\":{\"text\":\"Trial\"},\"x\":1.0,\"xpad\":40},\"colorscale\":[[0.0,\"rgb(247,251,255)\"],[0.125,\"rgb(222,235,247)\"],[0.25,\"rgb(198,219,239)\"],[0.375,\"rgb(158,202,225)\"],[0.5,\"rgb(107,174,214)\"],[0.625,\"rgb(66,146,198)\"],[0.75,\"rgb(33,113,181)\"],[0.875,\"rgb(8,81,156)\"],[1.0,\"rgb(8,48,107)\"]],\"line\":{\"color\":\"Grey\",\"width\":0.5},\"showscale\":false},\"mode\":\"markers\",\"name\":\"Feasible Trial\",\"showlegend\":false,\"x\":[0.37185718657749445,1.5204811914205834,1.804336509419103,1.631059262328189,0.07898641759245595,0.7431800220371774,1.155613983449837,0.9815827364681174,0.5095268368356665,1.3034880426982927,0.03123811852732783,1.8633506212965294,0.8236172777394507,0.5480047477811675,1.372836283446023],\"y\":[0.03438354964465644,0.03765997704303814,0.036466401535762326,0.03716477889561431,0.03608331516471448,0.03435241197641509,0.03613122358719782,0.03885568037321961,0.038156278816451894,0.038945043230115495,0.03811509356595545,0.03919302820936669,0.03360444557555732,0.0394746862765263,0.03963040555756928],\"type\":\"scatter\",\"xaxis\":\"x10\",\"yaxis\":\"y10\"}],                        {\"template\":{\"data\":{\"histogram2dcontour\":[{\"type\":\"histogram2dcontour\",\"colorbar\":{\"outlinewidth\":0,\"ticks\":\"\"},\"colorscale\":[[0.0,\"#0d0887\"],[0.1111111111111111,\"#46039f\"],[0.2222222222222222,\"#7201a8\"],[0.3333333333333333,\"#9c179e\"],[0.4444444444444444,\"#bd3786\"],[0.5555555555555556,\"#d8576b\"],[0.6666666666666666,\"#ed7953\"],[0.7777777777777778,\"#fb9f3a\"],[0.8888888888888888,\"#fdca26\"],[1.0,\"#f0f921\"]]}],\"choropleth\":[{\"type\":\"choropleth\",\"colorbar\":{\"outlinewidth\":0,\"ticks\":\"\"}}],\"histogram2d\":[{\"type\":\"histogram2d\",\"colorbar\":{\"outlinewidth\":0,\"ticks\":\"\"},\"colorscale\":[[0.0,\"#0d0887\"],[0.1111111111111111,\"#46039f\"],[0.2222222222222222,\"#7201a8\"],[0.3333333333333333,\"#9c179e\"],[0.4444444444444444,\"#bd3786\"],[0.5555555555555556,\"#d8576b\"],[0.6666666666666666,\"#ed7953\"],[0.7777777777777778,\"#fb9f3a\"],[0.8888888888888888,\"#fdca26\"],[1.0,\"#f0f921\"]]}],\"heatmap\":[{\"type\":\"heatmap\",\"colorbar\":{\"outlinewidth\":0,\"ticks\":\"\"},\"colorscale\":[[0.0,\"#0d0887\"],[0.1111111111111111,\"#46039f\"],[0.2222222222222222,\"#7201a8\"],[0.3333333333333333,\"#9c179e\"],[0.4444444444444444,\"#bd3786\"],[0.5555555555555556,\"#d8576b\"],[0.6666666666666666,\"#ed7953\"],[0.7777777777777778,\"#fb9f3a\"],[0.8888888888888888,\"#fdca26\"],[1.0,\"#f0f921\"]]}],\"heatmapgl\":[{\"type\":\"heatmapgl\",\"colorbar\":{\"outlinewidth\":0,\"ticks\":\"\"},\"colorscale\":[[0.0,\"#0d0887\"],[0.1111111111111111,\"#46039f\"],[0.2222222222222222,\"#7201a8\"],[0.3333333333333333,\"#9c179e\"],[0.4444444444444444,\"#bd3786\"],[0.5555555555555556,\"#d8576b\"],[0.6666666666666666,\"#ed7953\"],[0.7777777777777778,\"#fb9f3a\"],[0.8888888888888888,\"#fdca26\"],[1.0,\"#f0f921\"]]}],\"contourcarpet\":[{\"type\":\"contourcarpet\",\"colorbar\":{\"outlinewidth\":0,\"ticks\":\"\"}}],\"contour\":[{\"type\":\"contour\",\"colorbar\":{\"outlinewidth\":0,\"ticks\":\"\"},\"colorscale\":[[0.0,\"#0d0887\"],[0.1111111111111111,\"#46039f\"],[0.2222222222222222,\"#7201a8\"],[0.3333333333333333,\"#9c179e\"],[0.4444444444444444,\"#bd3786\"],[0.5555555555555556,\"#d8576b\"],[0.6666666666666666,\"#ed7953\"],[0.7777777777777778,\"#fb9f3a\"],[0.8888888888888888,\"#fdca26\"],[1.0,\"#f0f921\"]]}],\"surface\":[{\"type\":\"surface\",\"colorbar\":{\"outlinewidth\":0,\"ticks\":\"\"},\"colorscale\":[[0.0,\"#0d0887\"],[0.1111111111111111,\"#46039f\"],[0.2222222222222222,\"#7201a8\"],[0.3333333333333333,\"#9c179e\"],[0.4444444444444444,\"#bd3786\"],[0.5555555555555556,\"#d8576b\"],[0.6666666666666666,\"#ed7953\"],[0.7777777777777778,\"#fb9f3a\"],[0.8888888888888888,\"#fdca26\"],[1.0,\"#f0f921\"]]}],\"mesh3d\":[{\"type\":\"mesh3d\",\"colorbar\":{\"outlinewidth\":0,\"ticks\":\"\"}}],\"scatter\":[{\"fillpattern\":{\"fillmode\":\"overlay\",\"size\":10,\"solidity\":0.2},\"type\":\"scatter\"}],\"parcoords\":[{\"type\":\"parcoords\",\"line\":{\"colorbar\":{\"outlinewidth\":0,\"ticks\":\"\"}}}],\"scatterpolargl\":[{\"type\":\"scatterpolargl\",\"marker\":{\"colorbar\":{\"outlinewidth\":0,\"ticks\":\"\"}}}],\"bar\":[{\"error_x\":{\"color\":\"#2a3f5f\"},\"error_y\":{\"color\":\"#2a3f5f\"},\"marker\":{\"line\":{\"color\":\"#E5ECF6\",\"width\":0.5},\"pattern\":{\"fillmode\":\"overlay\",\"size\":10,\"solidity\":0.2}},\"type\":\"bar\"}],\"scattergeo\":[{\"type\":\"scattergeo\",\"marker\":{\"colorbar\":{\"outlinewidth\":0,\"ticks\":\"\"}}}],\"scatterpolar\":[{\"type\":\"scatterpolar\",\"marker\":{\"colorbar\":{\"outlinewidth\":0,\"ticks\":\"\"}}}],\"histogram\":[{\"marker\":{\"pattern\":{\"fillmode\":\"overlay\",\"size\":10,\"solidity\":0.2}},\"type\":\"histogram\"}],\"scattergl\":[{\"type\":\"scattergl\",\"marker\":{\"colorbar\":{\"outlinewidth\":0,\"ticks\":\"\"}}}],\"scatter3d\":[{\"type\":\"scatter3d\",\"line\":{\"colorbar\":{\"outlinewidth\":0,\"ticks\":\"\"}},\"marker\":{\"colorbar\":{\"outlinewidth\":0,\"ticks\":\"\"}}}],\"scattermapbox\":[{\"type\":\"scattermapbox\",\"marker\":{\"colorbar\":{\"outlinewidth\":0,\"ticks\":\"\"}}}],\"scatterternary\":[{\"type\":\"scatterternary\",\"marker\":{\"colorbar\":{\"outlinewidth\":0,\"ticks\":\"\"}}}],\"scattercarpet\":[{\"type\":\"scattercarpet\",\"marker\":{\"colorbar\":{\"outlinewidth\":0,\"ticks\":\"\"}}}],\"carpet\":[{\"aaxis\":{\"endlinecolor\":\"#2a3f5f\",\"gridcolor\":\"white\",\"linecolor\":\"white\",\"minorgridcolor\":\"white\",\"startlinecolor\":\"#2a3f5f\"},\"baxis\":{\"endlinecolor\":\"#2a3f5f\",\"gridcolor\":\"white\",\"linecolor\":\"white\",\"minorgridcolor\":\"white\",\"startlinecolor\":\"#2a3f5f\"},\"type\":\"carpet\"}],\"table\":[{\"cells\":{\"fill\":{\"color\":\"#EBF0F8\"},\"line\":{\"color\":\"white\"}},\"header\":{\"fill\":{\"color\":\"#C8D4E3\"},\"line\":{\"color\":\"white\"}},\"type\":\"table\"}],\"barpolar\":[{\"marker\":{\"line\":{\"color\":\"#E5ECF6\",\"width\":0.5},\"pattern\":{\"fillmode\":\"overlay\",\"size\":10,\"solidity\":0.2}},\"type\":\"barpolar\"}],\"pie\":[{\"automargin\":true,\"type\":\"pie\"}]},\"layout\":{\"autotypenumbers\":\"strict\",\"colorway\":[\"#636efa\",\"#EF553B\",\"#00cc96\",\"#ab63fa\",\"#FFA15A\",\"#19d3f3\",\"#FF6692\",\"#B6E880\",\"#FF97FF\",\"#FECB52\"],\"font\":{\"color\":\"#2a3f5f\"},\"hovermode\":\"closest\",\"hoverlabel\":{\"align\":\"left\"},\"paper_bgcolor\":\"white\",\"plot_bgcolor\":\"#E5ECF6\",\"polar\":{\"bgcolor\":\"#E5ECF6\",\"angularaxis\":{\"gridcolor\":\"white\",\"linecolor\":\"white\",\"ticks\":\"\"},\"radialaxis\":{\"gridcolor\":\"white\",\"linecolor\":\"white\",\"ticks\":\"\"}},\"ternary\":{\"bgcolor\":\"#E5ECF6\",\"aaxis\":{\"gridcolor\":\"white\",\"linecolor\":\"white\",\"ticks\":\"\"},\"baxis\":{\"gridcolor\":\"white\",\"linecolor\":\"white\",\"ticks\":\"\"},\"caxis\":{\"gridcolor\":\"white\",\"linecolor\":\"white\",\"ticks\":\"\"}},\"coloraxis\":{\"colorbar\":{\"outlinewidth\":0,\"ticks\":\"\"}},\"colorscale\":{\"sequential\":[[0.0,\"#0d0887\"],[0.1111111111111111,\"#46039f\"],[0.2222222222222222,\"#7201a8\"],[0.3333333333333333,\"#9c179e\"],[0.4444444444444444,\"#bd3786\"],[0.5555555555555556,\"#d8576b\"],[0.6666666666666666,\"#ed7953\"],[0.7777777777777778,\"#fb9f3a\"],[0.8888888888888888,\"#fdca26\"],[1.0,\"#f0f921\"]],\"sequentialminus\":[[0.0,\"#0d0887\"],[0.1111111111111111,\"#46039f\"],[0.2222222222222222,\"#7201a8\"],[0.3333333333333333,\"#9c179e\"],[0.4444444444444444,\"#bd3786\"],[0.5555555555555556,\"#d8576b\"],[0.6666666666666666,\"#ed7953\"],[0.7777777777777778,\"#fb9f3a\"],[0.8888888888888888,\"#fdca26\"],[1.0,\"#f0f921\"]],\"diverging\":[[0,\"#8e0152\"],[0.1,\"#c51b7d\"],[0.2,\"#de77ae\"],[0.3,\"#f1b6da\"],[0.4,\"#fde0ef\"],[0.5,\"#f7f7f7\"],[0.6,\"#e6f5d0\"],[0.7,\"#b8e186\"],[0.8,\"#7fbc41\"],[0.9,\"#4d9221\"],[1,\"#276419\"]]},\"xaxis\":{\"gridcolor\":\"white\",\"linecolor\":\"white\",\"ticks\":\"\",\"title\":{\"standoff\":15},\"zerolinecolor\":\"white\",\"automargin\":true,\"zerolinewidth\":2},\"yaxis\":{\"gridcolor\":\"white\",\"linecolor\":\"white\",\"ticks\":\"\",\"title\":{\"standoff\":15},\"zerolinecolor\":\"white\",\"automargin\":true,\"zerolinewidth\":2},\"scene\":{\"xaxis\":{\"backgroundcolor\":\"#E5ECF6\",\"gridcolor\":\"white\",\"linecolor\":\"white\",\"showbackground\":true,\"ticks\":\"\",\"zerolinecolor\":\"white\",\"gridwidth\":2},\"yaxis\":{\"backgroundcolor\":\"#E5ECF6\",\"gridcolor\":\"white\",\"linecolor\":\"white\",\"showbackground\":true,\"ticks\":\"\",\"zerolinecolor\":\"white\",\"gridwidth\":2},\"zaxis\":{\"backgroundcolor\":\"#E5ECF6\",\"gridcolor\":\"white\",\"linecolor\":\"white\",\"showbackground\":true,\"ticks\":\"\",\"zerolinecolor\":\"white\",\"gridwidth\":2}},\"shapedefaults\":{\"line\":{\"color\":\"#2a3f5f\"}},\"annotationdefaults\":{\"arrowcolor\":\"#2a3f5f\",\"arrowhead\":0,\"arrowwidth\":1},\"geo\":{\"bgcolor\":\"white\",\"landcolor\":\"#E5ECF6\",\"subunitcolor\":\"white\",\"showland\":true,\"showlakes\":true,\"lakecolor\":\"white\"},\"title\":{\"x\":0.05},\"mapbox\":{\"style\":\"light\"}}},\"xaxis\":{\"anchor\":\"y\",\"domain\":[0.0,0.082],\"title\":{\"text\":\"asymmetric_alpha\"}},\"yaxis\":{\"anchor\":\"x\",\"domain\":[0.0,1.0],\"title\":{\"text\":\"Objective Value\"}},\"xaxis2\":{\"anchor\":\"y2\",\"domain\":[0.10200000000000001,0.184],\"title\":{\"text\":\"feature_weighting\"},\"type\":\"category\",\"categoryorder\":\"array\",\"categoryarray\":[\"BM25\",\"TF-IDF\",\"none\"]},\"yaxis2\":{\"anchor\":\"x2\",\"domain\":[0.0,1.0],\"matches\":\"y\",\"showticklabels\":false},\"xaxis3\":{\"anchor\":\"y3\",\"domain\":[0.20400000000000001,0.28600000000000003],\"title\":{\"text\":\"normalize\"},\"type\":\"category\",\"categoryorder\":\"array\",\"categoryarray\":[true,false]},\"yaxis3\":{\"anchor\":\"x3\",\"domain\":[0.0,1.0],\"matches\":\"y\",\"showticklabels\":false},\"xaxis4\":{\"anchor\":\"y4\",\"domain\":[0.306,0.388],\"title\":{\"text\":\"normalize_avg_row\"},\"type\":\"category\",\"categoryorder\":\"array\",\"categoryarray\":[true,false]},\"yaxis4\":{\"anchor\":\"x4\",\"domain\":[0.0,1.0],\"matches\":\"y\",\"showticklabels\":false},\"xaxis5\":{\"anchor\":\"y5\",\"domain\":[0.40800000000000003,0.49000000000000005],\"title\":{\"text\":\"shrink\"}},\"yaxis5\":{\"anchor\":\"x5\",\"domain\":[0.0,1.0],\"matches\":\"y\",\"showticklabels\":false},\"xaxis6\":{\"anchor\":\"y6\",\"domain\":[0.51,0.592],\"title\":{\"text\":\"similarity\"},\"type\":\"category\",\"categoryorder\":\"array\",\"categoryarray\":[\"cosine\",\"dice\",\"jaccard\",\"asymmetric\",\"tversky\",\"euclidean\"]},\"yaxis6\":{\"anchor\":\"x6\",\"domain\":[0.0,1.0],\"matches\":\"y\",\"showticklabels\":false},\"xaxis7\":{\"anchor\":\"y7\",\"domain\":[0.6120000000000001,0.6940000000000001],\"title\":{\"text\":\"similarity_from_distance_mode\"},\"type\":\"category\",\"categoryorder\":\"array\",\"categoryarray\":[\"lin\",\"log\",\"exp\"]},\"yaxis7\":{\"anchor\":\"x7\",\"domain\":[0.0,1.0],\"matches\":\"y\",\"showticklabels\":false},\"xaxis8\":{\"anchor\":\"y8\",\"domain\":[0.7140000000000001,0.796],\"title\":{\"text\":\"topK\"}},\"yaxis8\":{\"anchor\":\"x8\",\"domain\":[0.0,1.0],\"matches\":\"y\",\"showticklabels\":false},\"xaxis9\":{\"anchor\":\"y9\",\"domain\":[0.8160000000000001,0.898],\"title\":{\"text\":\"tversky_alpha\"}},\"yaxis9\":{\"anchor\":\"x9\",\"domain\":[0.0,1.0],\"matches\":\"y\",\"showticklabels\":false},\"xaxis10\":{\"anchor\":\"y10\",\"domain\":[0.9179999999999999,0.9999999999999999],\"title\":{\"text\":\"tversky_beta\"}},\"yaxis10\":{\"anchor\":\"x10\",\"domain\":[0.0,1.0],\"matches\":\"y\",\"showticklabels\":false},\"title\":{\"text\":\"Slice Plot\"},\"width\":3000},                        {\"responsive\": true}                    ).then(function(){\n",
       "                            \n",
       "var gd = document.getElementById('b2114375-9d54-4c00-86ee-229ecb70033a');\n",
       "var x = new MutationObserver(function (mutations, observer) {{\n",
       "        var display = window.getComputedStyle(gd).display;\n",
       "        if (!display || display === 'none') {{\n",
       "            console.log([gd, 'removed!']);\n",
       "            Plotly.purge(gd);\n",
       "            observer.disconnect();\n",
       "        }}\n",
       "}});\n",
       "\n",
       "// Listen for the removal of the full notebook cells\n",
       "var notebookContainer = gd.closest('#notebook-container');\n",
       "if (notebookContainer) {{\n",
       "    x.observe(notebookContainer, {childList: true});\n",
       "}}\n",
       "\n",
       "// Listen for the clearing of the current output cell\n",
       "var outputEl = gd.closest('.output');\n",
       "if (outputEl) {{\n",
       "    x.observe(outputEl, {childList: true});\n",
       "}}\n",
       "\n",
       "                        })                };                            </script>        </div>\n",
       "</body>\n",
       "</html>"
      ]
     },
     "metadata": {},
     "output_type": "display_data"
    }
   ],
   "source": [
    "if not config['tune_parameters']:\n",
    "    optuna_study = optuna.load_study(study_name=f'hyperparameters_tuning_{config[\"model\"]}_{config[\"metric\"]}', storage=f'sqlite:///{config[\"database_path\"]}')\n",
    "    \n",
    "fig = optuna.visualization.plot_slice(optuna_study)\n",
    "fig.show()"
   ]
  },
  {
   "cell_type": "code",
   "execution_count": 15,
   "id": "34e86021",
   "metadata": {
    "execution": {
     "iopub.execute_input": "2025-01-07T00:30:00.097551Z",
     "iopub.status.busy": "2025-01-07T00:30:00.097140Z",
     "iopub.status.idle": "2025-01-07T00:30:07.002349Z",
     "shell.execute_reply": "2025-01-07T00:30:07.001056Z"
    },
    "papermill": {
     "duration": 7.022545,
     "end_time": "2025-01-07T00:30:07.004309",
     "exception": false,
     "start_time": "2025-01-07T00:29:59.981764",
     "status": "completed"
    },
    "tags": []
   },
   "outputs": [
    {
     "data": {
      "text/html": [
       "<html>\n",
       "<head><meta charset=\"utf-8\" /></head>\n",
       "<body>\n",
       "    <div>            <script src=\"https://cdnjs.cloudflare.com/ajax/libs/mathjax/2.7.5/MathJax.js?config=TeX-AMS-MML_SVG\"></script><script type=\"text/javascript\">if (window.MathJax && window.MathJax.Hub && window.MathJax.Hub.Config) {window.MathJax.Hub.Config({SVG: {font: \"STIX-Web\"}});}</script>                <script type=\"text/javascript\">window.PlotlyConfig = {MathJaxConfig: 'local'};</script>\n",
       "        <script charset=\"utf-8\" src=\"https://cdn.plot.ly/plotly-2.35.2.min.js\"></script>                <div id=\"06df5b08-0e1d-42cb-838b-2824d8b6c7a7\" class=\"plotly-graph-div\" style=\"height:525px; width:100%;\"></div>            <script type=\"text/javascript\">                                    window.PLOTLYENV=window.PLOTLYENV || {};                                    if (document.getElementById(\"06df5b08-0e1d-42cb-838b-2824d8b6c7a7\")) {                    Plotly.newPlot(                        \"06df5b08-0e1d-42cb-838b-2824d8b6c7a7\",                        [{\"cliponaxis\":false,\"hovertemplate\":[\"feature_weighting (CategoricalDistribution): 0.024329370052653256\\u003cextra\\u003e\\u003c\\u002fextra\\u003e\",\"topK (IntDistribution): 0.07493759655953547\\u003cextra\\u003e\\u003c\\u002fextra\\u003e\",\"shrink (IntDistribution): 0.2142695399493246\\u003cextra\\u003e\\u003c\\u002fextra\\u003e\",\"similarity (CategoricalDistribution): 0.6864634934384864\\u003cextra\\u003e\\u003c\\u002fextra\\u003e\"],\"name\":\"Objective Value\",\"orientation\":\"h\",\"text\":[\"0.02\",\"0.07\",\"0.21\",\"0.69\"],\"textposition\":\"outside\",\"x\":[0.024329370052653256,0.07493759655953547,0.2142695399493246,0.6864634934384864],\"y\":[\"feature_weighting\",\"topK\",\"shrink\",\"similarity\"],\"type\":\"bar\"}],                        {\"title\":{\"text\":\"Hyperparameter Importances\"},\"xaxis\":{\"title\":{\"text\":\"Hyperparameter Importance\"}},\"yaxis\":{\"title\":{\"text\":\"Hyperparameter\"}},\"template\":{\"data\":{\"histogram2dcontour\":[{\"type\":\"histogram2dcontour\",\"colorbar\":{\"outlinewidth\":0,\"ticks\":\"\"},\"colorscale\":[[0.0,\"#0d0887\"],[0.1111111111111111,\"#46039f\"],[0.2222222222222222,\"#7201a8\"],[0.3333333333333333,\"#9c179e\"],[0.4444444444444444,\"#bd3786\"],[0.5555555555555556,\"#d8576b\"],[0.6666666666666666,\"#ed7953\"],[0.7777777777777778,\"#fb9f3a\"],[0.8888888888888888,\"#fdca26\"],[1.0,\"#f0f921\"]]}],\"choropleth\":[{\"type\":\"choropleth\",\"colorbar\":{\"outlinewidth\":0,\"ticks\":\"\"}}],\"histogram2d\":[{\"type\":\"histogram2d\",\"colorbar\":{\"outlinewidth\":0,\"ticks\":\"\"},\"colorscale\":[[0.0,\"#0d0887\"],[0.1111111111111111,\"#46039f\"],[0.2222222222222222,\"#7201a8\"],[0.3333333333333333,\"#9c179e\"],[0.4444444444444444,\"#bd3786\"],[0.5555555555555556,\"#d8576b\"],[0.6666666666666666,\"#ed7953\"],[0.7777777777777778,\"#fb9f3a\"],[0.8888888888888888,\"#fdca26\"],[1.0,\"#f0f921\"]]}],\"heatmap\":[{\"type\":\"heatmap\",\"colorbar\":{\"outlinewidth\":0,\"ticks\":\"\"},\"colorscale\":[[0.0,\"#0d0887\"],[0.1111111111111111,\"#46039f\"],[0.2222222222222222,\"#7201a8\"],[0.3333333333333333,\"#9c179e\"],[0.4444444444444444,\"#bd3786\"],[0.5555555555555556,\"#d8576b\"],[0.6666666666666666,\"#ed7953\"],[0.7777777777777778,\"#fb9f3a\"],[0.8888888888888888,\"#fdca26\"],[1.0,\"#f0f921\"]]}],\"heatmapgl\":[{\"type\":\"heatmapgl\",\"colorbar\":{\"outlinewidth\":0,\"ticks\":\"\"},\"colorscale\":[[0.0,\"#0d0887\"],[0.1111111111111111,\"#46039f\"],[0.2222222222222222,\"#7201a8\"],[0.3333333333333333,\"#9c179e\"],[0.4444444444444444,\"#bd3786\"],[0.5555555555555556,\"#d8576b\"],[0.6666666666666666,\"#ed7953\"],[0.7777777777777778,\"#fb9f3a\"],[0.8888888888888888,\"#fdca26\"],[1.0,\"#f0f921\"]]}],\"contourcarpet\":[{\"type\":\"contourcarpet\",\"colorbar\":{\"outlinewidth\":0,\"ticks\":\"\"}}],\"contour\":[{\"type\":\"contour\",\"colorbar\":{\"outlinewidth\":0,\"ticks\":\"\"},\"colorscale\":[[0.0,\"#0d0887\"],[0.1111111111111111,\"#46039f\"],[0.2222222222222222,\"#7201a8\"],[0.3333333333333333,\"#9c179e\"],[0.4444444444444444,\"#bd3786\"],[0.5555555555555556,\"#d8576b\"],[0.6666666666666666,\"#ed7953\"],[0.7777777777777778,\"#fb9f3a\"],[0.8888888888888888,\"#fdca26\"],[1.0,\"#f0f921\"]]}],\"surface\":[{\"type\":\"surface\",\"colorbar\":{\"outlinewidth\":0,\"ticks\":\"\"},\"colorscale\":[[0.0,\"#0d0887\"],[0.1111111111111111,\"#46039f\"],[0.2222222222222222,\"#7201a8\"],[0.3333333333333333,\"#9c179e\"],[0.4444444444444444,\"#bd3786\"],[0.5555555555555556,\"#d8576b\"],[0.6666666666666666,\"#ed7953\"],[0.7777777777777778,\"#fb9f3a\"],[0.8888888888888888,\"#fdca26\"],[1.0,\"#f0f921\"]]}],\"mesh3d\":[{\"type\":\"mesh3d\",\"colorbar\":{\"outlinewidth\":0,\"ticks\":\"\"}}],\"scatter\":[{\"fillpattern\":{\"fillmode\":\"overlay\",\"size\":10,\"solidity\":0.2},\"type\":\"scatter\"}],\"parcoords\":[{\"type\":\"parcoords\",\"line\":{\"colorbar\":{\"outlinewidth\":0,\"ticks\":\"\"}}}],\"scatterpolargl\":[{\"type\":\"scatterpolargl\",\"marker\":{\"colorbar\":{\"outlinewidth\":0,\"ticks\":\"\"}}}],\"bar\":[{\"error_x\":{\"color\":\"#2a3f5f\"},\"error_y\":{\"color\":\"#2a3f5f\"},\"marker\":{\"line\":{\"color\":\"#E5ECF6\",\"width\":0.5},\"pattern\":{\"fillmode\":\"overlay\",\"size\":10,\"solidity\":0.2}},\"type\":\"bar\"}],\"scattergeo\":[{\"type\":\"scattergeo\",\"marker\":{\"colorbar\":{\"outlinewidth\":0,\"ticks\":\"\"}}}],\"scatterpolar\":[{\"type\":\"scatterpolar\",\"marker\":{\"colorbar\":{\"outlinewidth\":0,\"ticks\":\"\"}}}],\"histogram\":[{\"marker\":{\"pattern\":{\"fillmode\":\"overlay\",\"size\":10,\"solidity\":0.2}},\"type\":\"histogram\"}],\"scattergl\":[{\"type\":\"scattergl\",\"marker\":{\"colorbar\":{\"outlinewidth\":0,\"ticks\":\"\"}}}],\"scatter3d\":[{\"type\":\"scatter3d\",\"line\":{\"colorbar\":{\"outlinewidth\":0,\"ticks\":\"\"}},\"marker\":{\"colorbar\":{\"outlinewidth\":0,\"ticks\":\"\"}}}],\"scattermapbox\":[{\"type\":\"scattermapbox\",\"marker\":{\"colorbar\":{\"outlinewidth\":0,\"ticks\":\"\"}}}],\"scatterternary\":[{\"type\":\"scatterternary\",\"marker\":{\"colorbar\":{\"outlinewidth\":0,\"ticks\":\"\"}}}],\"scattercarpet\":[{\"type\":\"scattercarpet\",\"marker\":{\"colorbar\":{\"outlinewidth\":0,\"ticks\":\"\"}}}],\"carpet\":[{\"aaxis\":{\"endlinecolor\":\"#2a3f5f\",\"gridcolor\":\"white\",\"linecolor\":\"white\",\"minorgridcolor\":\"white\",\"startlinecolor\":\"#2a3f5f\"},\"baxis\":{\"endlinecolor\":\"#2a3f5f\",\"gridcolor\":\"white\",\"linecolor\":\"white\",\"minorgridcolor\":\"white\",\"startlinecolor\":\"#2a3f5f\"},\"type\":\"carpet\"}],\"table\":[{\"cells\":{\"fill\":{\"color\":\"#EBF0F8\"},\"line\":{\"color\":\"white\"}},\"header\":{\"fill\":{\"color\":\"#C8D4E3\"},\"line\":{\"color\":\"white\"}},\"type\":\"table\"}],\"barpolar\":[{\"marker\":{\"line\":{\"color\":\"#E5ECF6\",\"width\":0.5},\"pattern\":{\"fillmode\":\"overlay\",\"size\":10,\"solidity\":0.2}},\"type\":\"barpolar\"}],\"pie\":[{\"automargin\":true,\"type\":\"pie\"}]},\"layout\":{\"autotypenumbers\":\"strict\",\"colorway\":[\"#636efa\",\"#EF553B\",\"#00cc96\",\"#ab63fa\",\"#FFA15A\",\"#19d3f3\",\"#FF6692\",\"#B6E880\",\"#FF97FF\",\"#FECB52\"],\"font\":{\"color\":\"#2a3f5f\"},\"hovermode\":\"closest\",\"hoverlabel\":{\"align\":\"left\"},\"paper_bgcolor\":\"white\",\"plot_bgcolor\":\"#E5ECF6\",\"polar\":{\"bgcolor\":\"#E5ECF6\",\"angularaxis\":{\"gridcolor\":\"white\",\"linecolor\":\"white\",\"ticks\":\"\"},\"radialaxis\":{\"gridcolor\":\"white\",\"linecolor\":\"white\",\"ticks\":\"\"}},\"ternary\":{\"bgcolor\":\"#E5ECF6\",\"aaxis\":{\"gridcolor\":\"white\",\"linecolor\":\"white\",\"ticks\":\"\"},\"baxis\":{\"gridcolor\":\"white\",\"linecolor\":\"white\",\"ticks\":\"\"},\"caxis\":{\"gridcolor\":\"white\",\"linecolor\":\"white\",\"ticks\":\"\"}},\"coloraxis\":{\"colorbar\":{\"outlinewidth\":0,\"ticks\":\"\"}},\"colorscale\":{\"sequential\":[[0.0,\"#0d0887\"],[0.1111111111111111,\"#46039f\"],[0.2222222222222222,\"#7201a8\"],[0.3333333333333333,\"#9c179e\"],[0.4444444444444444,\"#bd3786\"],[0.5555555555555556,\"#d8576b\"],[0.6666666666666666,\"#ed7953\"],[0.7777777777777778,\"#fb9f3a\"],[0.8888888888888888,\"#fdca26\"],[1.0,\"#f0f921\"]],\"sequentialminus\":[[0.0,\"#0d0887\"],[0.1111111111111111,\"#46039f\"],[0.2222222222222222,\"#7201a8\"],[0.3333333333333333,\"#9c179e\"],[0.4444444444444444,\"#bd3786\"],[0.5555555555555556,\"#d8576b\"],[0.6666666666666666,\"#ed7953\"],[0.7777777777777778,\"#fb9f3a\"],[0.8888888888888888,\"#fdca26\"],[1.0,\"#f0f921\"]],\"diverging\":[[0,\"#8e0152\"],[0.1,\"#c51b7d\"],[0.2,\"#de77ae\"],[0.3,\"#f1b6da\"],[0.4,\"#fde0ef\"],[0.5,\"#f7f7f7\"],[0.6,\"#e6f5d0\"],[0.7,\"#b8e186\"],[0.8,\"#7fbc41\"],[0.9,\"#4d9221\"],[1,\"#276419\"]]},\"xaxis\":{\"gridcolor\":\"white\",\"linecolor\":\"white\",\"ticks\":\"\",\"title\":{\"standoff\":15},\"zerolinecolor\":\"white\",\"automargin\":true,\"zerolinewidth\":2},\"yaxis\":{\"gridcolor\":\"white\",\"linecolor\":\"white\",\"ticks\":\"\",\"title\":{\"standoff\":15},\"zerolinecolor\":\"white\",\"automargin\":true,\"zerolinewidth\":2},\"scene\":{\"xaxis\":{\"backgroundcolor\":\"#E5ECF6\",\"gridcolor\":\"white\",\"linecolor\":\"white\",\"showbackground\":true,\"ticks\":\"\",\"zerolinecolor\":\"white\",\"gridwidth\":2},\"yaxis\":{\"backgroundcolor\":\"#E5ECF6\",\"gridcolor\":\"white\",\"linecolor\":\"white\",\"showbackground\":true,\"ticks\":\"\",\"zerolinecolor\":\"white\",\"gridwidth\":2},\"zaxis\":{\"backgroundcolor\":\"#E5ECF6\",\"gridcolor\":\"white\",\"linecolor\":\"white\",\"showbackground\":true,\"ticks\":\"\",\"zerolinecolor\":\"white\",\"gridwidth\":2}},\"shapedefaults\":{\"line\":{\"color\":\"#2a3f5f\"}},\"annotationdefaults\":{\"arrowcolor\":\"#2a3f5f\",\"arrowhead\":0,\"arrowwidth\":1},\"geo\":{\"bgcolor\":\"white\",\"landcolor\":\"#E5ECF6\",\"subunitcolor\":\"white\",\"showland\":true,\"showlakes\":true,\"lakecolor\":\"white\"},\"title\":{\"x\":0.05},\"mapbox\":{\"style\":\"light\"}}}},                        {\"responsive\": true}                    ).then(function(){\n",
       "                            \n",
       "var gd = document.getElementById('06df5b08-0e1d-42cb-838b-2824d8b6c7a7');\n",
       "var x = new MutationObserver(function (mutations, observer) {{\n",
       "        var display = window.getComputedStyle(gd).display;\n",
       "        if (!display || display === 'none') {{\n",
       "            console.log([gd, 'removed!']);\n",
       "            Plotly.purge(gd);\n",
       "            observer.disconnect();\n",
       "        }}\n",
       "}});\n",
       "\n",
       "// Listen for the removal of the full notebook cells\n",
       "var notebookContainer = gd.closest('#notebook-container');\n",
       "if (notebookContainer) {{\n",
       "    x.observe(notebookContainer, {childList: true});\n",
       "}}\n",
       "\n",
       "// Listen for the clearing of the current output cell\n",
       "var outputEl = gd.closest('.output');\n",
       "if (outputEl) {{\n",
       "    x.observe(outputEl, {childList: true});\n",
       "}}\n",
       "\n",
       "                        })                };                            </script>        </div>\n",
       "</body>\n",
       "</html>"
      ]
     },
     "metadata": {},
     "output_type": "display_data"
    }
   ],
   "source": [
    "if not config['tune_parameters']:\n",
    "    optuna_study = optuna.load_study(study_name=f'hyperparameters_tuning_{config[\"model\"]}_{config[\"metric\"]}', storage=f'sqlite:///{config[\"database_path\"]}')\n",
    "    \n",
    "fig = optuna.visualization.plot_param_importances(optuna_study)\n",
    "fig.show()"
   ]
  },
  {
   "cell_type": "markdown",
   "id": "02a4a21a",
   "metadata": {
    "papermill": {
     "duration": 0.1081,
     "end_time": "2025-01-07T00:30:07.218921",
     "exception": false,
     "start_time": "2025-01-07T00:30:07.110821",
     "status": "completed"
    },
    "tags": []
   },
   "source": [
    "## Let's train the recommender with best parameter values"
   ]
  },
  {
   "cell_type": "code",
   "execution_count": 16,
   "id": "3899655b",
   "metadata": {
    "execution": {
     "iopub.execute_input": "2025-01-07T00:30:07.440478Z",
     "iopub.status.busy": "2025-01-07T00:30:07.440020Z",
     "iopub.status.idle": "2025-01-07T00:30:22.914904Z",
     "shell.execute_reply": "2025-01-07T00:30:22.913376Z"
    },
    "papermill": {
     "duration": 15.588264,
     "end_time": "2025-01-07T00:30:22.917386",
     "exception": false,
     "start_time": "2025-01-07T00:30:07.329122",
     "status": "completed"
    },
    "tags": []
   },
   "outputs": [
    {
     "name": "stdout",
     "output_type": "stream",
     "text": [
      "Similarity column 35736 (100.0%), 2699.25 column/sec. Elapsed time 13.24 sec\n"
     ]
    }
   ],
   "source": [
    "if config['tune_best_params']:\n",
    "\n",
    "    if config['tune_parameters']:\n",
    "        best_params = optuna_study.best_trial.params\n",
    "    else: \n",
    "        with open(f'{K_PATH}/{GH_PATH}/{config[\"model\"]}Recommender/Optimizing{config[\"metric\"]}/best_params_{config[\"model\"]}_{config[\"metric\"]}.json', 'r') as best_params_json:\n",
    "            best_params = json.load(best_params_json)\n",
    "\n",
    "    recommender_instance = UserKNNCFRecommender(URM_train + URM_validation)\n",
    "    recommender_instance.fit(**best_params)"
   ]
  },
  {
   "cell_type": "markdown",
   "id": "85a0e8c3",
   "metadata": {
    "papermill": {
     "duration": 0.111157,
     "end_time": "2025-01-07T00:30:23.139481",
     "exception": false,
     "start_time": "2025-01-07T00:30:23.028324",
     "status": "completed"
    },
    "tags": []
   },
   "source": [
    "# Testing\n",
    "\n",
    "Create the recommendations for the submission. "
   ]
  },
  {
   "cell_type": "code",
   "execution_count": 17,
   "id": "debf365e",
   "metadata": {
    "execution": {
     "iopub.execute_input": "2025-01-07T00:30:23.364338Z",
     "iopub.status.busy": "2025-01-07T00:30:23.363886Z",
     "iopub.status.idle": "2025-01-07T00:31:26.609504Z",
     "shell.execute_reply": "2025-01-07T00:31:26.607354Z"
    },
    "papermill": {
     "duration": 63.489656,
     "end_time": "2025-01-07T00:31:26.739764",
     "exception": false,
     "start_time": "2025-01-07T00:30:23.250108",
     "status": "completed"
    },
    "tags": []
   },
   "outputs": [
    {
     "name": "stdout",
     "output_type": "stream",
     "text": [
      "Submission file saved as /kaggle/working/submission_UserKNNCF_MAP.csv\n"
     ]
    }
   ],
   "source": [
    "if config['tune_best_params']:\n",
    "\n",
    "    data_target_users_test = pd.read_csv('/kaggle/working/RECsys_Challenge2024/Dataset/data_target_users_test.csv')\n",
    "    create_submission(data_target_users_test, recommender_instance, f'/kaggle/working/submission_{config[\"model\"]}_{config[\"metric\"]}.csv')"
   ]
  },
  {
   "cell_type": "markdown",
   "id": "3d4b9cda",
   "metadata": {
    "papermill": {
     "duration": 0.105618,
     "end_time": "2025-01-07T00:31:26.954998",
     "exception": false,
     "start_time": "2025-01-07T00:31:26.849380",
     "status": "completed"
    },
    "tags": []
   },
   "source": [
    "# Save Version on GitHub \n",
    "\n",
    "Write or import a json file where best hyperparameters are saved. "
   ]
  },
  {
   "cell_type": "code",
   "execution_count": 18,
   "id": "778249c7",
   "metadata": {
    "execution": {
     "iopub.execute_input": "2025-01-07T00:31:27.178312Z",
     "iopub.status.busy": "2025-01-07T00:31:27.177834Z",
     "iopub.status.idle": "2025-01-07T00:31:28.236605Z",
     "shell.execute_reply": "2025-01-07T00:31:28.235171Z"
    },
    "papermill": {
     "duration": 1.174879,
     "end_time": "2025-01-07T00:31:28.238630",
     "exception": false,
     "start_time": "2025-01-07T00:31:27.063751",
     "status": "completed"
    },
    "tags": []
   },
   "outputs": [
    {
     "name": "stdout",
     "output_type": "stream",
     "text": [
      "File 'TrainedModels/WithKFCV/KNN/UserKNNCFRecommender/OptimizingMAP/best_params_UserKNNCF_MAP.json' updated successfully.\n"
     ]
    }
   ],
   "source": [
    "if config['tune_parameters']:\n",
    "    with open(f'/kaggle/working/best_params_{config[\"model\"]}_{config[\"metric\"]}.json', 'w') as params_file:\n",
    "        json.dump(optuna_study.best_params, params_file)\n",
    "        \n",
    "    if config['save_github']:\n",
    "        upload_file(\n",
    "            f'/kaggle/working/best_params_{config[\"model\"]}_{config[\"metric\"]}.json', \n",
    "            f'{GH_PATH}/{config[\"model\"]}Recommender/Optimizing{config[\"metric\"]}/best_params_{config[\"model\"]}_{config[\"metric\"]}.json', \n",
    "            f'{config[\"model\"]}_{config[\"metric\"]} tuning results (from kaggle notebook)',\n",
    "            repo\n",
    "        )\n",
    "elif config['copy_prev_best_params']:\n",
    "    shutil.copyfile(\n",
    "        f'{K_PATH}/{GH_PATH}/{config[\"model\"]}Recommender/Optimizing{config[\"metric\"]}/'\\\n",
    "        f'best_params_{config[\"model\"]}_{config[\"metric\"]}.json', \n",
    "        f'/kaggle/working/best_params_{config[\"model\"]}_{config[\"metric\"]}.json'\n",
    "    )"
   ]
  },
  {
   "cell_type": "markdown",
   "id": "832900f0",
   "metadata": {
    "papermill": {
     "duration": 0.148018,
     "end_time": "2025-01-07T00:31:28.498777",
     "exception": false,
     "start_time": "2025-01-07T00:31:28.350759",
     "status": "completed"
    },
    "tags": []
   },
   "source": [
    "Save the history of the tuned model."
   ]
  },
  {
   "cell_type": "code",
   "execution_count": 19,
   "id": "5ca347b9",
   "metadata": {
    "execution": {
     "iopub.execute_input": "2025-01-07T00:31:28.737118Z",
     "iopub.status.busy": "2025-01-07T00:31:28.736593Z",
     "iopub.status.idle": "2025-01-07T00:31:30.279844Z",
     "shell.execute_reply": "2025-01-07T00:31:30.278547Z"
    },
    "papermill": {
     "duration": 1.669679,
     "end_time": "2025-01-07T00:31:30.281851",
     "exception": false,
     "start_time": "2025-01-07T00:31:28.612172",
     "status": "completed"
    },
    "tags": []
   },
   "outputs": [
    {
     "name": "stdout",
     "output_type": "stream",
     "text": [
      "File 'TrainedModels/WithKFCV/KNN/UserKNNCFRecommender/OptimizingMAP/history_UserKNNCF_MAP.db' updated successfully.\n"
     ]
    }
   ],
   "source": [
    "if config['save_github'] and config['tune_parameters']:\n",
    "    upload_file(\n",
    "        config['database_path'], \n",
    "        f'{GH_PATH}/{config[\"model\"]}Recommender/Optimizing{config[\"metric\"]}/history_{config[\"model\"]}_{config[\"metric\"]}.db',\n",
    "        f'Tuning {config[\"model\"]}_{config[\"metric\"]} db updated results (from kaggle notebook)',\n",
    "        repo\n",
    "    )"
   ]
  },
  {
   "cell_type": "markdown",
   "id": "cf6a875a",
   "metadata": {
    "papermill": {
     "duration": 0.110827,
     "end_time": "2025-01-07T00:31:30.504741",
     "exception": false,
     "start_time": "2025-01-07T00:31:30.393914",
     "status": "completed"
    },
    "tags": []
   },
   "source": [
    "Save the best trained model and its submission."
   ]
  },
  {
   "cell_type": "code",
   "execution_count": 20,
   "id": "306a60b9",
   "metadata": {
    "execution": {
     "iopub.execute_input": "2025-01-07T00:31:30.728902Z",
     "iopub.status.busy": "2025-01-07T00:31:30.728494Z",
     "iopub.status.idle": "2025-01-07T00:31:32.671191Z",
     "shell.execute_reply": "2025-01-07T00:31:32.669431Z"
    },
    "papermill": {
     "duration": 2.056894,
     "end_time": "2025-01-07T00:31:32.673414",
     "exception": false,
     "start_time": "2025-01-07T00:31:30.616520",
     "status": "completed"
    },
    "tags": []
   },
   "outputs": [
    {
     "name": "stdout",
     "output_type": "stream",
     "text": [
      "File 'TrainedModels/WithKFCV/KNN/UserKNNCFRecommender/OptimizingMAP/Submission/submission_UserKNNCF_MAP.csv' updated successfully.\n"
     ]
    }
   ],
   "source": [
    "if config['save_github'] and config['tune_best_params']: \n",
    "    upload_file(\n",
    "                f'/kaggle/working/submission_{config[\"model\"]}_{config[\"metric\"]}.csv', \n",
    "                f'{GH_PATH}/{config[\"model\"]}Recommender/Optimizing{config[\"metric\"]}/Submission/submission_{config[\"model\"]}_{config[\"metric\"]}.csv', \n",
    "                f'New {config[\"model\"]}_{config[\"metric\"]} submission (from kaggle notebook)',\n",
    "                repo\n",
    "            )"
   ]
  }
 ],
 "metadata": {
  "kaggle": {
   "accelerator": "none",
   "dataSources": [],
   "dockerImageVersionId": 30822,
   "isGpuEnabled": false,
   "isInternetEnabled": true,
   "language": "python",
   "sourceType": "notebook"
  },
  "kernelspec": {
   "display_name": "Python 3",
   "language": "python",
   "name": "python3"
  },
  "language_info": {
   "codemirror_mode": {
    "name": "ipython",
    "version": 3
   },
   "file_extension": ".py",
   "mimetype": "text/x-python",
   "name": "python",
   "nbconvert_exporter": "python",
   "pygments_lexer": "ipython3",
   "version": "3.10.12"
  },
  "papermill": {
   "default_parameters": {},
   "duration": 40218.751008,
   "end_time": "2025-01-07T00:31:34.492962",
   "environment_variables": {},
   "exception": null,
   "input_path": "__notebook__.ipynb",
   "output_path": "__notebook__.ipynb",
   "parameters": {},
   "start_time": "2025-01-06T13:21:15.741954",
   "version": "2.6.0"
  }
 },
 "nbformat": 4,
 "nbformat_minor": 5
}
