{
 "cells": [
  {
   "cell_type": "markdown",
   "id": "9bf5f534",
   "metadata": {
    "papermill": {
     "duration": 0.005831,
     "end_time": "2025-01-04T22:27:32.973055",
     "exception": false,
     "start_time": "2025-01-04T22:27:32.967224",
     "status": "completed"
    },
    "tags": []
   },
   "source": [
    "# Set connection with GitHub"
   ]
  },
  {
   "cell_type": "code",
   "execution_count": 1,
   "id": "e10f2887",
   "metadata": {
    "execution": {
     "iopub.execute_input": "2025-01-04T22:27:32.984764Z",
     "iopub.status.busy": "2025-01-04T22:27:32.984403Z",
     "iopub.status.idle": "2025-01-04T22:27:32.992201Z",
     "shell.execute_reply": "2025-01-04T22:27:32.991189Z"
    },
    "papermill": {
     "duration": 0.015602,
     "end_time": "2025-01-04T22:27:32.993928",
     "exception": false,
     "start_time": "2025-01-04T22:27:32.978326",
     "status": "completed"
    },
    "tags": []
   },
   "outputs": [],
   "source": [
    "# ! cd /kaggle/working && rm -rf RECsys_Challenge2024"
   ]
  },
  {
   "cell_type": "code",
   "execution_count": 2,
   "id": "825e9571",
   "metadata": {
    "_cell_guid": "b1076dfc-b9ad-4769-8c92-a6c4dae69d19",
    "_uuid": "8f2839f25d086af736a60e9eeb907d3b93b6e0e5",
    "execution": {
     "iopub.execute_input": "2025-01-04T22:27:33.005943Z",
     "iopub.status.busy": "2025-01-04T22:27:33.005576Z",
     "iopub.status.idle": "2025-01-04T22:27:56.697697Z",
     "shell.execute_reply": "2025-01-04T22:27:56.696323Z"
    },
    "papermill": {
     "duration": 23.700233,
     "end_time": "2025-01-04T22:27:56.699631",
     "exception": false,
     "start_time": "2025-01-04T22:27:32.999398",
     "status": "completed"
    },
    "tags": []
   },
   "outputs": [
    {
     "name": "stdout",
     "output_type": "stream",
     "text": [
      "Cloning into 'RECsys_Challenge2024'...\r\n",
      "remote: Enumerating objects: 6039, done.\u001b[K\r\n",
      "remote: Counting objects: 100% (332/332), done.\u001b[K\r\n",
      "remote: Compressing objects: 100% (292/292), done.\u001b[K\r\n",
      "remote: Total 6039 (delta 132), reused 20 (delta 7), pack-reused 5707 (from 3)\u001b[K\r\n",
      "Receiving objects: 100% (6039/6039), 395.79 MiB | 22.55 MiB/s, done.\r\n",
      "Resolving deltas: 100% (3355/3355), done.\r\n",
      "Updating files: 100% (485/485), done.\r\n"
     ]
    }
   ],
   "source": [
    "from kaggle_secrets import UserSecretsClient\n",
    "\n",
    "token = UserSecretsClient().get_secret(\"Token\")\n",
    "\n",
    "! git clone https://{token}@github.com/madratak/RECsys_Challenge2024.git"
   ]
  },
  {
   "cell_type": "code",
   "execution_count": 3,
   "id": "d6c0b467",
   "metadata": {
    "execution": {
     "iopub.execute_input": "2025-01-04T22:27:56.722347Z",
     "iopub.status.busy": "2025-01-04T22:27:56.721959Z",
     "iopub.status.idle": "2025-01-04T22:28:03.981800Z",
     "shell.execute_reply": "2025-01-04T22:28:03.980564Z"
    },
    "papermill": {
     "duration": 7.273492,
     "end_time": "2025-01-04T22:28:03.983953",
     "exception": false,
     "start_time": "2025-01-04T22:27:56.710461",
     "status": "completed"
    },
    "tags": []
   },
   "outputs": [
    {
     "name": "stdout",
     "output_type": "stream",
     "text": [
      "Collecting PyGithub\r\n",
      "  Downloading PyGithub-2.5.0-py3-none-any.whl.metadata (3.9 kB)\r\n",
      "Requirement already satisfied: requests in /usr/local/lib/python3.10/dist-packages (2.32.3)\r\n",
      "Collecting pynacl>=1.4.0 (from PyGithub)\r\n",
      "  Downloading PyNaCl-1.5.0-cp36-abi3-manylinux_2_17_x86_64.manylinux2014_x86_64.manylinux_2_24_x86_64.whl.metadata (8.6 kB)\r\n",
      "Requirement already satisfied: pyjwt>=2.4.0 in /usr/local/lib/python3.10/dist-packages (from pyjwt[crypto]>=2.4.0->PyGithub) (2.9.0)\r\n",
      "Requirement already satisfied: typing-extensions>=4.0.0 in /usr/local/lib/python3.10/dist-packages (from PyGithub) (4.12.2)\r\n",
      "Requirement already satisfied: urllib3>=1.26.0 in /usr/local/lib/python3.10/dist-packages (from PyGithub) (2.2.3)\r\n",
      "Requirement already satisfied: Deprecated in /usr/local/lib/python3.10/dist-packages (from PyGithub) (1.2.15)\r\n",
      "Requirement already satisfied: charset-normalizer<4,>=2 in /usr/local/lib/python3.10/dist-packages (from requests) (3.3.2)\r\n",
      "Requirement already satisfied: idna<4,>=2.5 in /usr/local/lib/python3.10/dist-packages (from requests) (3.10)\r\n",
      "Requirement already satisfied: certifi>=2017.4.17 in /usr/local/lib/python3.10/dist-packages (from requests) (2024.8.30)\r\n",
      "Requirement already satisfied: cryptography>=3.4.0 in /usr/local/lib/python3.10/dist-packages (from pyjwt[crypto]>=2.4.0->PyGithub) (43.0.1)\r\n",
      "Requirement already satisfied: cffi>=1.4.1 in /usr/local/lib/python3.10/dist-packages (from pynacl>=1.4.0->PyGithub) (1.17.1)\r\n",
      "Requirement already satisfied: wrapt<2,>=1.10 in /usr/local/lib/python3.10/dist-packages (from Deprecated->PyGithub) (1.16.0)\r\n",
      "Requirement already satisfied: pycparser in /usr/local/lib/python3.10/dist-packages (from cffi>=1.4.1->pynacl>=1.4.0->PyGithub) (2.22)\r\n",
      "Downloading PyGithub-2.5.0-py3-none-any.whl (375 kB)\r\n",
      "\u001b[2K   \u001b[90m━━━━━━━━━━━━━━━━━━━━━━━━━━━━━━━━━━━━━━━━\u001b[0m \u001b[32m375.9/375.9 kB\u001b[0m \u001b[31m6.5 MB/s\u001b[0m eta \u001b[36m0:00:00\u001b[0m\r\n",
      "\u001b[?25hDownloading PyNaCl-1.5.0-cp36-abi3-manylinux_2_17_x86_64.manylinux2014_x86_64.manylinux_2_24_x86_64.whl (856 kB)\r\n",
      "\u001b[2K   \u001b[90m━━━━━━━━━━━━━━━━━━━━━━━━━━━━━━━━━━━━━━━━\u001b[0m \u001b[32m856.7/856.7 kB\u001b[0m \u001b[31m25.1 MB/s\u001b[0m eta \u001b[36m0:00:00\u001b[0m\r\n",
      "\u001b[?25hInstalling collected packages: pynacl, PyGithub\r\n",
      "Successfully installed PyGithub-2.5.0 pynacl-1.5.0\r\n"
     ]
    }
   ],
   "source": [
    "! pip install PyGithub requests"
   ]
  },
  {
   "cell_type": "code",
   "execution_count": 4,
   "id": "7eaf7d27",
   "metadata": {
    "_kg_hide-input": false,
    "execution": {
     "iopub.execute_input": "2025-01-04T22:28:04.007861Z",
     "iopub.status.busy": "2025-01-04T22:28:04.007484Z",
     "iopub.status.idle": "2025-01-04T22:30:44.641115Z",
     "shell.execute_reply": "2025-01-04T22:30:44.639840Z"
    },
    "papermill": {
     "duration": 160.647766,
     "end_time": "2025-01-04T22:30:44.643079",
     "exception": false,
     "start_time": "2025-01-04T22:28:03.995313",
     "status": "completed"
    },
    "tags": []
   },
   "outputs": [
    {
     "name": "stdout",
     "output_type": "stream",
     "text": [
      "/kaggle/working/RECsys_Challenge2024\n",
      "run_compile_all_cython: Found 11 Cython files in 5 folders...\r\n",
      "run_compile_all_cython: All files will be compiled using your current python environment: '/usr/bin/python3'\r\n",
      "Compiling [1/11]: MatrixFactorizationImpressions_Cython_Epoch.pyx... \r\n",
      "In file included from \u001b[01m\u001b[K/usr/local/lib/python3.10/dist-packages/numpy/core/include/numpy/ndarraytypes.h:1929\u001b[m\u001b[K,\r\n",
      "                 from \u001b[01m\u001b[K/usr/local/lib/python3.10/dist-packages/numpy/core/include/numpy/ndarrayobject.h:12\u001b[m\u001b[K,\r\n",
      "                 from \u001b[01m\u001b[K/usr/local/lib/python3.10/dist-packages/numpy/core/include/numpy/arrayobject.h:5\u001b[m\u001b[K,\r\n",
      "                 from \u001b[01m\u001b[KMatrixFactorizationImpressions_Cython_Epoch.c:1252\u001b[m\u001b[K:\r\n",
      "\u001b[01m\u001b[K/usr/local/lib/python3.10/dist-packages/numpy/core/include/numpy/npy_1_7_deprecated_api.h:17:2:\u001b[m\u001b[K \u001b[01;35m\u001b[Kwarning: \u001b[m\u001b[K#warning \"Using deprecated NumPy API, disable it with \" \"#define NPY_NO_DEPRECATED_API NPY_1_7_API_VERSION\" [\u001b[01;35m\u001b[K\u001b]8;;https://gcc.gnu.org/onlinedocs/gcc/Warning-Options.html#index-Wcpp\u0007-Wcpp\u001b]8;;\u0007\u001b[m\u001b[K]\r\n",
      "   17 | #\u001b[01;35m\u001b[Kwarning\u001b[m\u001b[K \"Using deprecated NumPy API, disable it with \" \\\r\n",
      "      |  \u001b[01;35m\u001b[K^~~~~~~\u001b[m\u001b[K\r\n",
      "\u001b[01m\u001b[KMatrixFactorizationImpressions_Cython_Epoch.c:\u001b[m\u001b[K In function ‘\u001b[01m\u001b[K__pyx_f_43MatrixFactorizationImpressions_Cython_Epoch_32MatrixFactorization_Cython_Epoch_sampleBPR_Cython\u001b[m\u001b[K’:\r\n",
      "\u001b[01m\u001b[KMatrixFactorizationImpressions_Cython_Epoch.c:30353:17:\u001b[m\u001b[K \u001b[01;35m\u001b[Kwarning: \u001b[m\u001b[K‘\u001b[01m\u001b[K__pyx_v_start_pos_impression_items\u001b[m\u001b[K’ may be used uninitialized in this function [\u001b[01;35m\u001b[K\u001b]8;;https://gcc.gnu.org/onlinedocs/gcc/Warning-Options.html#index-Wmaybe-uninitialized\u0007-Wmaybe-uninitialized\u001b]8;;\u0007\u001b[m\u001b[K]\r\n",
      "30353 |       \u001b[01;35m\u001b[K__pyx_t_4 = (__pyx_v_start_pos_impression_items + __pyx_v_index)\u001b[m\u001b[K;\r\n",
      "      |       \u001b[01;35m\u001b[K~~~~~~~~~~^~~~~~~~~~~~~~~~~~~~~~~~~~~~~~~~~~~~~~~~~~~~~~~~~~~~~~\u001b[m\u001b[K\r\n",
      "\u001b[01m\u001b[KMatrixFactorizationImpressions_Cython_Epoch.c:\u001b[m\u001b[K In function ‘\u001b[01m\u001b[K__pyx_pf_43MatrixFactorizationImpressions_Cython_Epoch_32MatrixFactorization_Cython_Epoch_10epochIteration_Cython_ASY_SVD_SGD\u001b[m\u001b[K’:\r\n",
      "\u001b[01m\u001b[KMatrixFactorizationImpressions_Cython_Epoch.c:26112:66:\u001b[m\u001b[K \u001b[01;35m\u001b[Kwarning: \u001b[m\u001b[K‘\u001b[01m\u001b[K__pyx_v_end_pos_seen_items\u001b[m\u001b[K’ may be used uninitialized in this function [\u001b[01;35m\u001b[K\u001b]8;;https://gcc.gnu.org/onlinedocs/gcc/Warning-Options.html#index-Wmaybe-uninitialized\u0007-Wmaybe-uninitialized\u001b]8;;\u0007\u001b[m\u001b[K]\r\n",
      "26112 |       for (__pyx_t_22 = __pyx_v_start_pos_seen_items; \u001b[01;35m\u001b[K__pyx_t_22 < __pyx_t_21\u001b[m\u001b[K; __pyx_t_22+=1) {\r\n",
      "      |                                                       \u001b[01;35m\u001b[K~~~~~~~~~~~^~~~~~~~~~~~\u001b[m\u001b[K\r\n",
      "\u001b[01m\u001b[KMatrixFactorizationImpressions_Cython_Epoch.c:26112:66:\u001b[m\u001b[K \u001b[01;35m\u001b[Kwarning: \u001b[m\u001b[K‘\u001b[01m\u001b[K__pyx_v_start_pos_seen_items\u001b[m\u001b[K’ may be used uninitialized in this function [\u001b[01;35m\u001b[K\u001b]8;;https://gcc.gnu.org/onlinedocs/gcc/Warning-Options.html#index-Wmaybe-uninitialized\u0007-Wmaybe-uninitialized\u001b]8;;\u0007\u001b[m\u001b[K]\r\n",
      "/usr/local/lib/python3.10/dist-packages/Cython/Compiler/Main.py:381: FutureWarning: Cython directive 'language_level' not set, using '3str' for now (Py3). This has changed from earlier releases! File: /kaggle/working/RECsys_Challenge2024/Recommenders/MatrixFactorization/Cython/MatrixFactorizationImpressions_Cython_Epoch.pyx\r\n",
      "  tree = Parsing.p_module(s, pxd, full_module_name)\r\n",
      "Compiling [1/11]: MatrixFactorizationImpressions_Cython_Epoch.pyx... PASS\r\n",
      "\r\n",
      "Compiling [2/11]: MatrixFactorization_Cython_Epoch.pyx... \r\n",
      "In file included from \u001b[01m\u001b[K/usr/local/lib/python3.10/dist-packages/numpy/core/include/numpy/ndarraytypes.h:1929\u001b[m\u001b[K,\r\n",
      "                 from \u001b[01m\u001b[K/usr/local/lib/python3.10/dist-packages/numpy/core/include/numpy/ndarrayobject.h:12\u001b[m\u001b[K,\r\n",
      "                 from \u001b[01m\u001b[K/usr/local/lib/python3.10/dist-packages/numpy/core/include/numpy/arrayobject.h:5\u001b[m\u001b[K,\r\n",
      "                 from \u001b[01m\u001b[KMatrixFactorization_Cython_Epoch.c:1252\u001b[m\u001b[K:\r\n",
      "\u001b[01m\u001b[K/usr/local/lib/python3.10/dist-packages/numpy/core/include/numpy/npy_1_7_deprecated_api.h:17:2:\u001b[m\u001b[K \u001b[01;35m\u001b[Kwarning: \u001b[m\u001b[K#warning \"Using deprecated NumPy API, disable it with \" \"#define NPY_NO_DEPRECATED_API NPY_1_7_API_VERSION\" [\u001b[01;35m\u001b[K\u001b]8;;https://gcc.gnu.org/onlinedocs/gcc/Warning-Options.html#index-Wcpp\u0007-Wcpp\u001b]8;;\u0007\u001b[m\u001b[K]\r\n",
      "   17 | #\u001b[01;35m\u001b[Kwarning\u001b[m\u001b[K \"Using deprecated NumPy API, disable it with \" \\\r\n",
      "      |  \u001b[01;35m\u001b[K^~~~~~~\u001b[m\u001b[K\r\n",
      "\u001b[01m\u001b[KMatrixFactorization_Cython_Epoch.c:\u001b[m\u001b[K In function ‘\u001b[01m\u001b[K__pyx_pf_32MatrixFactorization_Cython_Epoch_32MatrixFactorization_Cython_Epoch_10epochIteration_Cython_ASY_SVD_SGD\u001b[m\u001b[K’:\r\n",
      "\u001b[01m\u001b[KMatrixFactorization_Cython_Epoch.c:26256:68:\u001b[m\u001b[K \u001b[01;35m\u001b[Kwarning: \u001b[m\u001b[K‘\u001b[01m\u001b[K__pyx_v_end_pos_seen_items\u001b[m\u001b[K’ may be used uninitialized in this function [\u001b[01;35m\u001b[K\u001b]8;;https://gcc.gnu.org/onlinedocs/gcc/Warning-Options.html#index-Wmaybe-uninitialized\u0007-Wmaybe-uninitialized\u001b]8;;\u0007\u001b[m\u001b[K]\r\n",
      "26256 |         for (__pyx_t_22 = __pyx_v_start_pos_seen_items; \u001b[01;35m\u001b[K__pyx_t_22 < __pyx_t_21\u001b[m\u001b[K; __pyx_t_22+=1) {\r\n",
      "      |                                                         \u001b[01;35m\u001b[K~~~~~~~~~~~^~~~~~~~~~~~\u001b[m\u001b[K\r\n",
      "\u001b[01m\u001b[KMatrixFactorization_Cython_Epoch.c:26256:68:\u001b[m\u001b[K \u001b[01;35m\u001b[Kwarning: \u001b[m\u001b[K‘\u001b[01m\u001b[K__pyx_v_start_pos_seen_items\u001b[m\u001b[K’ may be used uninitialized in this function [\u001b[01;35m\u001b[K\u001b]8;;https://gcc.gnu.org/onlinedocs/gcc/Warning-Options.html#index-Wmaybe-uninitialized\u0007-Wmaybe-uninitialized\u001b]8;;\u0007\u001b[m\u001b[K]\r\n",
      "/usr/local/lib/python3.10/dist-packages/Cython/Compiler/Main.py:381: FutureWarning: Cython directive 'language_level' not set, using '3str' for now (Py3). This has changed from earlier releases! File: /kaggle/working/RECsys_Challenge2024/Recommenders/MatrixFactorization/Cython/MatrixFactorization_Cython_Epoch.pyx\r\n",
      "  tree = Parsing.p_module(s, pxd, full_module_name)\r\n",
      "Compiling [2/11]: MatrixFactorization_Cython_Epoch.pyx... PASS\r\n",
      "\r\n",
      "Compiling [3/11]: Compute_Similarity_Cython.pyx... \r\n",
      "warning: Compute_Similarity_Cython.pyx:21:0: The 'IF' statement is deprecated and will be removed in a future Cython version. Consider using runtime conditions or C macros instead. See https://github.com/cython/cython/issues/4310\r\n",
      "In file included from \u001b[01m\u001b[K/usr/local/lib/python3.10/dist-packages/numpy/core/include/numpy/ndarraytypes.h:1929\u001b[m\u001b[K,\r\n",
      "                 from \u001b[01m\u001b[K/usr/local/lib/python3.10/dist-packages/numpy/core/include/numpy/ndarrayobject.h:12\u001b[m\u001b[K,\r\n",
      "                 from \u001b[01m\u001b[K/usr/local/lib/python3.10/dist-packages/numpy/core/include/numpy/arrayobject.h:5\u001b[m\u001b[K,\r\n",
      "                 from \u001b[01m\u001b[KCompute_Similarity_Cython.c:1252\u001b[m\u001b[K:\r\n",
      "\u001b[01m\u001b[K/usr/local/lib/python3.10/dist-packages/numpy/core/include/numpy/npy_1_7_deprecated_api.h:17:2:\u001b[m\u001b[K \u001b[01;35m\u001b[Kwarning: \u001b[m\u001b[K#warning \"Using deprecated NumPy API, disable it with \" \"#define NPY_NO_DEPRECATED_API NPY_1_7_API_VERSION\" [\u001b[01;35m\u001b[K\u001b]8;;https://gcc.gnu.org/onlinedocs/gcc/Warning-Options.html#index-Wcpp\u0007-Wcpp\u001b]8;;\u0007\u001b[m\u001b[K]\r\n",
      "   17 | #\u001b[01;35m\u001b[Kwarning\u001b[m\u001b[K \"Using deprecated NumPy API, disable it with \" \\\r\n",
      "      |  \u001b[01;35m\u001b[K^~~~~~~\u001b[m\u001b[K\r\n",
      "/usr/local/lib/python3.10/dist-packages/Cython/Compiler/Main.py:381: FutureWarning: Cython directive 'language_level' not set, using '3str' for now (Py3). This has changed from earlier releases! File: /kaggle/working/RECsys_Challenge2024/Recommenders/Similarity/Cython/Compute_Similarity_Cython.pyx\r\n",
      "  tree = Parsing.p_module(s, pxd, full_module_name)\r\n",
      "warning: Compute_Similarity_Cython.pyx:21:0: The 'IF' statement is deprecated and will be removed in a future Cython version. Consider using runtime conditions or C macros instead. See https://github.com/cython/cython/issues/4310\r\n",
      "Compiling [3/11]: Compute_Similarity_Cython.pyx... PASS\r\n",
      "\r\n",
      "Compiling [4/11]: SLIM_BPR_Cython_Epoch.pyx... \r\n",
      "warning: SLIM_BPR_Cython_Epoch.pyx:24:0: The 'IF' statement is deprecated and will be removed in a future Cython version. Consider using runtime conditions or C macros instead. See https://github.com/cython/cython/issues/4310\r\n",
      "warning: SLIM_BPR_Cython_Epoch.pyx:632:34: Non-trivial type declarators in shared declaration (e.g. mix of pointers and values). Each pointer declaration should be on its own line.\r\n",
      "warning: SLIM_BPR_Cython_Epoch.pyx:632:66: Non-trivial type declarators in shared declaration (e.g. mix of pointers and values). Each pointer declaration should be on its own line.\r\n",
      "warning: SLIM_BPR_Cython_Epoch.pyx:817:35: Non-trivial type declarators in shared declaration (e.g. mix of pointers and values). Each pointer declaration should be on its own line.\r\n",
      "warning: SLIM_BPR_Cython_Epoch.pyx:817:52: Non-trivial type declarators in shared declaration (e.g. mix of pointers and values). Each pointer declaration should be on its own line.\r\n",
      "warning: SLIM_BPR_Cython_Epoch.pyx:916:35: Non-trivial type declarators in shared declaration (e.g. mix of pointers and values). Each pointer declaration should be on its own line.\r\n",
      "warning: SLIM_BPR_Cython_Epoch.pyx:916:53: Non-trivial type declarators in shared declaration (e.g. mix of pointers and values). Each pointer declaration should be on its own line.\r\n",
      "warning: SLIM_BPR_Cython_Epoch.pyx:916:69: Non-trivial type declarators in shared declaration (e.g. mix of pointers and values). Each pointer declaration should be on its own line.\r\n",
      "warning: SLIM_BPR_Cython_Epoch.pyx:1051:35: Non-trivial type declarators in shared declaration (e.g. mix of pointers and values). Each pointer declaration should be on its own line.\r\n",
      "warning: SLIM_BPR_Cython_Epoch.pyx:1051:42: Non-trivial type declarators in shared declaration (e.g. mix of pointers and values). Each pointer declaration should be on its own line.\r\n",
      "warning: SLIM_BPR_Cython_Epoch.pyx:1052:35: Non-trivial type declarators in shared declaration (e.g. mix of pointers and values). Each pointer declaration should be on its own line.\r\n",
      "warning: SLIM_BPR_Cython_Epoch.pyx:1052:53: Non-trivial type declarators in shared declaration (e.g. mix of pointers and values). Each pointer declaration should be on its own line.\r\n",
      "\r\n",
      "Error compiling Cython file:\r\n",
      "------------------------------------------------------------\r\n",
      "...\r\n",
      "            vector_pointer_to_list_elements[index].head = current_element\r\n",
      "            current_element = current_element.higher\r\n",
      "\r\n",
      "\r\n",
      "        # Sort array elements on their data field\r\n",
      "        qsort(vector_pointer_to_list_elements, list_length, sizeof(head_pointer_tree_s), compare_struct_on_data)\r\n",
      "                                                                                         ^\r\n",
      "------------------------------------------------------------\r\n",
      "\r\n",
      "SLIM_BPR_Cython_Epoch.pyx:990:89: Cannot assign type 'int (const void *, const void *) except? -1' to 'int (*)(const_void *, const_void *) noexcept'. Exception values are incompatible. Suggest adding 'noexcept' to the type of 'compare_struct_on_data'.\r\n",
      "\r\n",
      "Error compiling Cython file:\r\n",
      "------------------------------------------------------------\r\n",
      "...\r\n",
      "        # Sort array elements on their data field\r\n",
      "        qsort(vector_pointer_to_list_elements, list_length, sizeof(head_pointer_tree_s), compare_struct_on_data)\r\n",
      "\r\n",
      "        # Sort only the TopK according to their column field\r\n",
      "        # Sort is from lower to higher, therefore the elements to be considered are from len-topK to len\r\n",
      "        qsort(&vector_pointer_to_list_elements[list_length-TopK], TopK, sizeof(head_pointer_tree_s), compare_struct_on_column)\r\n",
      "                                                                                                     ^\r\n",
      "------------------------------------------------------------\r\n",
      "\r\n",
      "SLIM_BPR_Cython_Epoch.pyx:994:101: Cannot assign type 'int (const void *, const void *) except? -1' to 'int (*)(const_void *, const_void *) noexcept'. Exception values are incompatible. Suggest adding 'noexcept' to the type of 'compare_struct_on_column'.\r\n",
      "Traceback (most recent call last):\r\n",
      "  File \"/kaggle/working/RECsys_Challenge2024/CythonCompiler/compile_script.py\", line 48, in <module>\r\n",
      "    setup(\r\n",
      "  File \"/usr/local/lib/python3.10/dist-packages/setuptools/__init__.py\", line 108, in setup\r\n",
      "    return distutils.core.setup(**attrs)\r\n",
      "  File \"/usr/local/lib/python3.10/dist-packages/setuptools/_distutils/core.py\", line 184, in setup\r\n",
      "    return run_commands(dist)\r\n",
      "  File \"/usr/local/lib/python3.10/dist-packages/setuptools/_distutils/core.py\", line 200, in run_commands\r\n",
      "    dist.run_commands()\r\n",
      "  File \"/usr/local/lib/python3.10/dist-packages/setuptools/_distutils/dist.py\", line 970, in run_commands\r\n",
      "    self.run_command(cmd)\r\n",
      "  File \"/usr/local/lib/python3.10/dist-packages/setuptools/dist.py\", line 956, in run_command\r\n",
      "    super().run_command(command)\r\n",
      "  File \"/usr/local/lib/python3.10/dist-packages/setuptools/_distutils/dist.py\", line 989, in run_command\r\n",
      "    cmd_obj.run()\r\n",
      "  File \"/usr/local/lib/python3.10/dist-packages/setuptools/_distutils/command/build_ext.py\", line 359, in run\r\n",
      "    self.build_extensions()\r\n",
      "  File \"/usr/local/lib/python3.10/dist-packages/setuptools/_distutils/command/build_ext.py\", line 479, in build_extensions\r\n",
      "    self._build_extensions_serial()\r\n",
      "  File \"/usr/local/lib/python3.10/dist-packages/setuptools/_distutils/command/build_ext.py\", line 505, in _build_extensions_serial\r\n",
      "    self.build_extension(ext)\r\n",
      "  File \"/usr/local/lib/python3.10/dist-packages/Cython/Distutils/build_ext.py\", line 130, in build_extension\r\n",
      "    new_ext = cythonize(\r\n",
      "  File \"/usr/local/lib/python3.10/dist-packages/Cython/Build/Dependencies.py\", line 1154, in cythonize\r\n",
      "    cythonize_one(*args)\r\n",
      "  File \"/usr/local/lib/python3.10/dist-packages/Cython/Build/Dependencies.py\", line 1321, in cythonize_one\r\n",
      "    raise CompileError(None, pyx_file)\r\n",
      "Cython.Compiler.Errors.CompileError: SLIM_BPR_Cython_Epoch.pyx\r\n",
      "Traceback (most recent call last):\r\n",
      "  File \"/kaggle/working/RECsys_Challenge2024/run_compile_all_cython.py\", line 60, in <module>\r\n",
      "    run_compile_subprocess(file_path, [file_name])\r\n",
      "  File \"/kaggle/working/RECsys_Challenge2024/CythonCompiler/run_compile_subprocess.py\", line 51, in run_compile_subprocess\r\n",
      "    raise exc\r\n",
      "  File \"/kaggle/working/RECsys_Challenge2024/CythonCompiler/run_compile_subprocess.py\", line 32, in run_compile_subprocess\r\n",
      "    output = subprocess.check_output(' '.join(command),\r\n",
      "  File \"/usr/lib/python3.10/subprocess.py\", line 421, in check_output\r\n",
      "    return run(*popenargs, stdout=PIPE, timeout=timeout, check=True,\r\n",
      "  File \"/usr/lib/python3.10/subprocess.py\", line 526, in run\r\n",
      "    raise CalledProcessError(retcode, process.args,\r\n",
      "subprocess.CalledProcessError: Command '/usr/bin/python3 /kaggle/working/RECsys_Challenge2024/CythonCompiler/compile_script.py SLIM_BPR_Cython_Epoch.pyx build_ext --inplace' returned non-zero exit status 1.\r\n",
      "Compiling [4/11]: SLIM_BPR_Cython_Epoch.pyx... FAIL: Command '/usr/bin/python3 /kaggle/working/RECsys_Challenge2024/CythonCompiler/compile_script.py SLIM_BPR_Cython_Epoch.pyx build_ext --inplace' returned non-zero exit status 1.\r\n",
      "\r\n",
      "Compiling [5/11]: Triangular_Matrix.pyx... \r\n",
      "warning: Triangular_Matrix.pyx:22:0: The 'IF' statement is deprecated and will be removed in a future Cython version. Consider using runtime conditions or C macros instead. See https://github.com/cython/cython/issues/4310\r\n",
      "In file included from \u001b[01m\u001b[K/usr/local/lib/python3.10/dist-packages/numpy/core/include/numpy/ndarraytypes.h:1929\u001b[m\u001b[K,\r\n",
      "                 from \u001b[01m\u001b[K/usr/local/lib/python3.10/dist-packages/numpy/core/include/numpy/ndarrayobject.h:12\u001b[m\u001b[K,\r\n",
      "                 from \u001b[01m\u001b[K/usr/local/lib/python3.10/dist-packages/numpy/core/include/numpy/arrayobject.h:5\u001b[m\u001b[K,\r\n",
      "                 from \u001b[01m\u001b[KTriangular_Matrix.c:1252\u001b[m\u001b[K:\r\n",
      "\u001b[01m\u001b[K/usr/local/lib/python3.10/dist-packages/numpy/core/include/numpy/npy_1_7_deprecated_api.h:17:2:\u001b[m\u001b[K \u001b[01;35m\u001b[Kwarning: \u001b[m\u001b[K#warning \"Using deprecated NumPy API, disable it with \" \"#define NPY_NO_DEPRECATED_API NPY_1_7_API_VERSION\" [\u001b[01;35m\u001b[K\u001b]8;;https://gcc.gnu.org/onlinedocs/gcc/Warning-Options.html#index-Wcpp\u0007-Wcpp\u001b]8;;\u0007\u001b[m\u001b[K]\r\n",
      "   17 | #\u001b[01;35m\u001b[Kwarning\u001b[m\u001b[K \"Using deprecated NumPy API, disable it with \" \\\r\n",
      "      |  \u001b[01;35m\u001b[K^~~~~~~\u001b[m\u001b[K\r\n",
      "In function ‘\u001b[01m\u001b[K__pyx_pf_17Triangular_Matrix_17Triangular_Matrix___init__\u001b[m\u001b[K’,\r\n",
      "    inlined from ‘\u001b[01m\u001b[K__pyx_pw_17Triangular_Matrix_17Triangular_Matrix_1__init__\u001b[m\u001b[K’ at \u001b[01m\u001b[KTriangular_Matrix.c:5541:13\u001b[m\u001b[K:\r\n",
      "\u001b[01m\u001b[KTriangular_Matrix.c:5599:43:\u001b[m\u001b[K \u001b[01;35m\u001b[Kwarning: \u001b[m\u001b[Kargument 1 value ‘\u001b[01m\u001b[K18446744073709551608\u001b[m\u001b[K’ exceeds maximum object size 9223372036854775807 [\u001b[01;35m\u001b[K\u001b]8;;https://gcc.gnu.org/onlinedocs/gcc/Warning-Options.html#index-Walloc-size-larger-than=\u0007-Walloc-size-larger-than=\u001b]8;;\u0007\u001b[m\u001b[K]\r\n",
      " 5599 |   __pyx_v_self->row_pointer = ((double **)\u001b[01;35m\u001b[Kmalloc((__pyx_v_self->num_rows * (sizeof(double *))))\u001b[m\u001b[K);\r\n",
      "      |                                           \u001b[01;35m\u001b[K^~~~~~~~~~~~~~~~~~~~~~~~~~~~~~~~~~~~~~~~~~~~~~~~~~~~~\u001b[m\u001b[K\r\n",
      "In file included from \u001b[01m\u001b[K/usr/include/python3.10/Python.h:34\u001b[m\u001b[K,\r\n",
      "                 from \u001b[01m\u001b[KTriangular_Matrix.c:41\u001b[m\u001b[K:\r\n",
      "\u001b[01m\u001b[KTriangular_Matrix.c:\u001b[m\u001b[K In function ‘\u001b[01m\u001b[K__pyx_pw_17Triangular_Matrix_17Triangular_Matrix_1__init__\u001b[m\u001b[K’:\r\n",
      "\u001b[01m\u001b[K/usr/include/stdlib.h:540:14:\u001b[m\u001b[K \u001b[01;36m\u001b[Knote: \u001b[m\u001b[Kin a call to allocation function ‘\u001b[01m\u001b[Kmalloc\u001b[m\u001b[K’ declared here\r\n",
      "  540 | extern void *\u001b[01;36m\u001b[Kmalloc\u001b[m\u001b[K (size_t __size) __THROW __attribute_malloc__\r\n",
      "      |              \u001b[01;36m\u001b[K^~~~~~\u001b[m\u001b[K\r\n",
      "/usr/local/lib/python3.10/dist-packages/Cython/Compiler/Main.py:381: FutureWarning: Cython directive 'language_level' not set, using '3str' for now (Py3). This has changed from earlier releases! File: /kaggle/working/RECsys_Challenge2024/Recommenders/SLIM/Cython/Triangular_Matrix.pyx\r\n",
      "  tree = Parsing.p_module(s, pxd, full_module_name)\r\n",
      "warning: Triangular_Matrix.pyx:22:0: The 'IF' statement is deprecated and will be removed in a future Cython version. Consider using runtime conditions or C macros instead. See https://github.com/cython/cython/issues/4310\r\n",
      "Compiling [5/11]: Triangular_Matrix.pyx... PASS\r\n",
      "\r\n",
      "Compiling [6/11]: Sparse_Matrix_Tree_CSR.pyx... \r\n",
      "warning: Sparse_Matrix_Tree_CSR.pyx:132:34: Non-trivial type declarators in shared declaration (e.g. mix of pointers and values). Each pointer declaration should be on its own line.\r\n",
      "warning: Sparse_Matrix_Tree_CSR.pyx:132:66: Non-trivial type declarators in shared declaration (e.g. mix of pointers and values). Each pointer declaration should be on its own line.\r\n",
      "warning: Sparse_Matrix_Tree_CSR.pyx:343:35: Non-trivial type declarators in shared declaration (e.g. mix of pointers and values). Each pointer declaration should be on its own line.\r\n",
      "warning: Sparse_Matrix_Tree_CSR.pyx:343:52: Non-trivial type declarators in shared declaration (e.g. mix of pointers and values). Each pointer declaration should be on its own line.\r\n",
      "warning: Sparse_Matrix_Tree_CSR.pyx:442:35: Non-trivial type declarators in shared declaration (e.g. mix of pointers and values). Each pointer declaration should be on its own line.\r\n",
      "warning: Sparse_Matrix_Tree_CSR.pyx:442:53: Non-trivial type declarators in shared declaration (e.g. mix of pointers and values). Each pointer declaration should be on its own line.\r\n",
      "warning: Sparse_Matrix_Tree_CSR.pyx:442:69: Non-trivial type declarators in shared declaration (e.g. mix of pointers and values). Each pointer declaration should be on its own line.\r\n",
      "warning: Sparse_Matrix_Tree_CSR.pyx:577:35: Non-trivial type declarators in shared declaration (e.g. mix of pointers and values). Each pointer declaration should be on its own line.\r\n",
      "warning: Sparse_Matrix_Tree_CSR.pyx:577:42: Non-trivial type declarators in shared declaration (e.g. mix of pointers and values). Each pointer declaration should be on its own line.\r\n",
      "warning: Sparse_Matrix_Tree_CSR.pyx:578:35: Non-trivial type declarators in shared declaration (e.g. mix of pointers and values). Each pointer declaration should be on its own line.\r\n",
      "warning: Sparse_Matrix_Tree_CSR.pyx:578:53: Non-trivial type declarators in shared declaration (e.g. mix of pointers and values). Each pointer declaration should be on its own line.\r\n",
      "\r\n",
      "Error compiling Cython file:\r\n",
      "------------------------------------------------------------\r\n",
      "...\r\n",
      "            vector_pointer_to_list_elements[index].head = current_element\r\n",
      "            current_element = current_element.higher\r\n",
      "\r\n",
      "\r\n",
      "        # Sort array elements on their data field\r\n",
      "        qsort(vector_pointer_to_list_elements, list_length, sizeof(head_pointer_tree_s), compare_struct_on_data)\r\n",
      "                                                                                         ^\r\n",
      "------------------------------------------------------------\r\n",
      "\r\n",
      "Sparse_Matrix_Tree_CSR.pyx:516:89: Cannot assign type 'int (const void *, const void *) except? -1' to 'int (*)(const_void *, const_void *) noexcept'. Exception values are incompatible. Suggest adding 'noexcept' to the type of 'compare_struct_on_data'.\r\n",
      "\r\n",
      "Error compiling Cython file:\r\n",
      "------------------------------------------------------------\r\n",
      "...\r\n",
      "        # Sort array elements on their data field\r\n",
      "        qsort(vector_pointer_to_list_elements, list_length, sizeof(head_pointer_tree_s), compare_struct_on_data)\r\n",
      "\r\n",
      "        # Sort only the TopK according to their column field\r\n",
      "        # Sort is from lower to higher, therefore the elements to be considered are from len-topK to len\r\n",
      "        qsort(&vector_pointer_to_list_elements[list_length-TopK], TopK, sizeof(head_pointer_tree_s), compare_struct_on_column)\r\n",
      "                                                                                                     ^\r\n",
      "------------------------------------------------------------\r\n",
      "\r\n",
      "Sparse_Matrix_Tree_CSR.pyx:520:101: Cannot assign type 'int (const void *, const void *) except? -1' to 'int (*)(const_void *, const_void *) noexcept'. Exception values are incompatible. Suggest adding 'noexcept' to the type of 'compare_struct_on_column'.\r\n",
      "Traceback (most recent call last):\r\n",
      "  File \"/kaggle/working/RECsys_Challenge2024/CythonCompiler/compile_script.py\", line 48, in <module>\r\n",
      "    setup(\r\n",
      "  File \"/usr/local/lib/python3.10/dist-packages/setuptools/__init__.py\", line 108, in setup\r\n",
      "    return distutils.core.setup(**attrs)\r\n",
      "  File \"/usr/local/lib/python3.10/dist-packages/setuptools/_distutils/core.py\", line 184, in setup\r\n",
      "    return run_commands(dist)\r\n",
      "  File \"/usr/local/lib/python3.10/dist-packages/setuptools/_distutils/core.py\", line 200, in run_commands\r\n",
      "    dist.run_commands()\r\n",
      "  File \"/usr/local/lib/python3.10/dist-packages/setuptools/_distutils/dist.py\", line 970, in run_commands\r\n",
      "    self.run_command(cmd)\r\n",
      "  File \"/usr/local/lib/python3.10/dist-packages/setuptools/dist.py\", line 956, in run_command\r\n",
      "    super().run_command(command)\r\n",
      "  File \"/usr/local/lib/python3.10/dist-packages/setuptools/_distutils/dist.py\", line 989, in run_command\r\n",
      "    cmd_obj.run()\r\n",
      "  File \"/usr/local/lib/python3.10/dist-packages/setuptools/_distutils/command/build_ext.py\", line 359, in run\r\n",
      "    self.build_extensions()\r\n",
      "  File \"/usr/local/lib/python3.10/dist-packages/setuptools/_distutils/command/build_ext.py\", line 479, in build_extensions\r\n",
      "    self._build_extensions_serial()\r\n",
      "  File \"/usr/local/lib/python3.10/dist-packages/setuptools/_distutils/command/build_ext.py\", line 505, in _build_extensions_serial\r\n",
      "    self.build_extension(ext)\r\n",
      "  File \"/usr/local/lib/python3.10/dist-packages/Cython/Distutils/build_ext.py\", line 130, in build_extension\r\n",
      "    new_ext = cythonize(\r\n",
      "  File \"/usr/local/lib/python3.10/dist-packages/Cython/Build/Dependencies.py\", line 1154, in cythonize\r\n",
      "    cythonize_one(*args)\r\n",
      "  File \"/usr/local/lib/python3.10/dist-packages/Cython/Build/Dependencies.py\", line 1321, in cythonize_one\r\n",
      "    raise CompileError(None, pyx_file)\r\n",
      "Cython.Compiler.Errors.CompileError: Sparse_Matrix_Tree_CSR.pyx\r\n",
      "Traceback (most recent call last):\r\n",
      "  File \"/kaggle/working/RECsys_Challenge2024/run_compile_all_cython.py\", line 60, in <module>\r\n",
      "    run_compile_subprocess(file_path, [file_name])\r\n",
      "  File \"/kaggle/working/RECsys_Challenge2024/CythonCompiler/run_compile_subprocess.py\", line 51, in run_compile_subprocess\r\n",
      "    raise exc\r\n",
      "  File \"/kaggle/working/RECsys_Challenge2024/CythonCompiler/run_compile_subprocess.py\", line 32, in run_compile_subprocess\r\n",
      "    output = subprocess.check_output(' '.join(command),\r\n",
      "  File \"/usr/lib/python3.10/subprocess.py\", line 421, in check_output\r\n",
      "    return run(*popenargs, stdout=PIPE, timeout=timeout, check=True,\r\n",
      "  File \"/usr/lib/python3.10/subprocess.py\", line 526, in run\r\n",
      "    raise CalledProcessError(retcode, process.args,\r\n",
      "subprocess.CalledProcessError: Command '/usr/bin/python3 /kaggle/working/RECsys_Challenge2024/CythonCompiler/compile_script.py Sparse_Matrix_Tree_CSR.pyx build_ext --inplace' returned non-zero exit status 1.\r\n",
      "Compiling [6/11]: Sparse_Matrix_Tree_CSR.pyx... FAIL: Command '/usr/bin/python3 /kaggle/working/RECsys_Challenge2024/CythonCompiler/compile_script.py Sparse_Matrix_Tree_CSR.pyx build_ext --inplace' returned non-zero exit status 1.\r\n",
      "\r\n",
      "Compiling [7/11]: FBSM_Rating_Cython_SGD.pyx... \r\n",
      "In file included from \u001b[01m\u001b[K/usr/local/lib/python3.10/dist-packages/numpy/core/include/numpy/ndarraytypes.h:1929\u001b[m\u001b[K,\r\n",
      "                 from \u001b[01m\u001b[K/usr/local/lib/python3.10/dist-packages/numpy/core/include/numpy/ndarrayobject.h:12\u001b[m\u001b[K,\r\n",
      "                 from \u001b[01m\u001b[K/usr/local/lib/python3.10/dist-packages/numpy/core/include/numpy/arrayobject.h:5\u001b[m\u001b[K,\r\n",
      "                 from \u001b[01m\u001b[KFBSM_Rating_Cython_SGD.c:1252\u001b[m\u001b[K:\r\n",
      "\u001b[01m\u001b[K/usr/local/lib/python3.10/dist-packages/numpy/core/include/numpy/npy_1_7_deprecated_api.h:17:2:\u001b[m\u001b[K \u001b[01;35m\u001b[Kwarning: \u001b[m\u001b[K#warning \"Using deprecated NumPy API, disable it with \" \"#define NPY_NO_DEPRECATED_API NPY_1_7_API_VERSION\" [\u001b[01;35m\u001b[K\u001b]8;;https://gcc.gnu.org/onlinedocs/gcc/Warning-Options.html#index-Wcpp\u0007-Wcpp\u001b]8;;\u0007\u001b[m\u001b[K]\r\n",
      "   17 | #\u001b[01;35m\u001b[Kwarning\u001b[m\u001b[K \"Using deprecated NumPy API, disable it with \" \\\r\n",
      "      |  \u001b[01;35m\u001b[K^~~~~~~\u001b[m\u001b[K\r\n",
      "\u001b[01m\u001b[KFBSM_Rating_Cython_SGD.c:\u001b[m\u001b[K In function ‘\u001b[01m\u001b[K__pyx_pf_22FBSM_Rating_Cython_SGD_22FBSM_Rating_Cython_SGD_2fit\u001b[m\u001b[K’:\r\n",
      "\u001b[01m\u001b[KFBSM_Rating_Cython_SGD.c:26607:55:\u001b[m\u001b[K \u001b[01;35m\u001b[Kwarning: \u001b[m\u001b[K‘\u001b[01m\u001b[K__pyx_v_num_sample\u001b[m\u001b[K’ may be used uninitialized in this function [\u001b[01;35m\u001b[K\u001b]8;;https://gcc.gnu.org/onlinedocs/gcc/Warning-Options.html#index-Wmaybe-uninitialized\u0007-Wmaybe-uninitialized\u001b]8;;\u0007\u001b[m\u001b[K]\r\n",
      "26607 |   __pyx_t_5 = PyFloat_FromDouble((__pyx_v_cum_loss / \u001b[01;35m\u001b[K((double)__pyx_v_num_sample)\u001b[m\u001b[K)); if (unlikely(!__pyx_t_5)) __PYX_ERR(0, 551, __pyx_L1_error)\r\n",
      "      |                                                      \u001b[01;35m\u001b[K~^~~~~~~~~~~~~~~~~~~~~~~~~~~\u001b[m\u001b[K\r\n",
      "/usr/local/lib/python3.10/dist-packages/Cython/Compiler/Main.py:381: FutureWarning: Cython directive 'language_level' not set, using '3str' for now (Py3). This has changed from earlier releases! File: /kaggle/working/RECsys_Challenge2024/Recommenders/FeatureWeighting/Cython/FBSM_Rating_Cython_SGD.pyx\r\n",
      "  tree = Parsing.p_module(s, pxd, full_module_name)\r\n",
      "Compiling [7/11]: FBSM_Rating_Cython_SGD.pyx... PASS\r\n",
      "\r\n",
      "Compiling [8/11]: CFW_DVV_Similarity_Cython_SGD.pyx... \r\n",
      "In file included from \u001b[01m\u001b[K/usr/local/lib/python3.10/dist-packages/numpy/core/include/numpy/ndarraytypes.h:1929\u001b[m\u001b[K,\r\n",
      "                 from \u001b[01m\u001b[K/usr/local/lib/python3.10/dist-packages/numpy/core/include/numpy/ndarrayobject.h:12\u001b[m\u001b[K,\r\n",
      "                 from \u001b[01m\u001b[K/usr/local/lib/python3.10/dist-packages/numpy/core/include/numpy/arrayobject.h:5\u001b[m\u001b[K,\r\n",
      "                 from \u001b[01m\u001b[KCFW_DVV_Similarity_Cython_SGD.c:1252\u001b[m\u001b[K:\r\n",
      "\u001b[01m\u001b[K/usr/local/lib/python3.10/dist-packages/numpy/core/include/numpy/npy_1_7_deprecated_api.h:17:2:\u001b[m\u001b[K \u001b[01;35m\u001b[Kwarning: \u001b[m\u001b[K#warning \"Using deprecated NumPy API, disable it with \" \"#define NPY_NO_DEPRECATED_API NPY_1_7_API_VERSION\" [\u001b[01;35m\u001b[K\u001b]8;;https://gcc.gnu.org/onlinedocs/gcc/Warning-Options.html#index-Wcpp\u0007-Wcpp\u001b]8;;\u0007\u001b[m\u001b[K]\r\n",
      "   17 | #\u001b[01;35m\u001b[Kwarning\u001b[m\u001b[K \"Using deprecated NumPy API, disable it with \" \\\r\n",
      "      |  \u001b[01;35m\u001b[K^~~~~~~\u001b[m\u001b[K\r\n",
      "/usr/local/lib/python3.10/dist-packages/Cython/Compiler/Main.py:381: FutureWarning: Cython directive 'language_level' not set, using '3str' for now (Py3). This has changed from earlier releases! File: /kaggle/working/RECsys_Challenge2024/Recommenders/FeatureWeighting/Cython/CFW_DVV_Similarity_Cython_SGD.pyx\r\n",
      "  tree = Parsing.p_module(s, pxd, full_module_name)\r\n",
      "Compiling [8/11]: CFW_DVV_Similarity_Cython_SGD.pyx... PASS\r\n",
      "\r\n",
      "Compiling [9/11]: CFW_D_Similarity_Cython_SGD.pyx... \r\n",
      "In file included from \u001b[01m\u001b[K/usr/local/lib/python3.10/dist-packages/numpy/core/include/numpy/ndarraytypes.h:1929\u001b[m\u001b[K,\r\n",
      "                 from \u001b[01m\u001b[K/usr/local/lib/python3.10/dist-packages/numpy/core/include/numpy/ndarrayobject.h:12\u001b[m\u001b[K,\r\n",
      "                 from \u001b[01m\u001b[K/usr/local/lib/python3.10/dist-packages/numpy/core/include/numpy/arrayobject.h:5\u001b[m\u001b[K,\r\n",
      "                 from \u001b[01m\u001b[KCFW_D_Similarity_Cython_SGD.c:1252\u001b[m\u001b[K:\r\n",
      "\u001b[01m\u001b[K/usr/local/lib/python3.10/dist-packages/numpy/core/include/numpy/npy_1_7_deprecated_api.h:17:2:\u001b[m\u001b[K \u001b[01;35m\u001b[Kwarning: \u001b[m\u001b[K#warning \"Using deprecated NumPy API, disable it with \" \"#define NPY_NO_DEPRECATED_API NPY_1_7_API_VERSION\" [\u001b[01;35m\u001b[K\u001b]8;;https://gcc.gnu.org/onlinedocs/gcc/Warning-Options.html#index-Wcpp\u0007-Wcpp\u001b]8;;\u0007\u001b[m\u001b[K]\r\n",
      "   17 | #\u001b[01;35m\u001b[Kwarning\u001b[m\u001b[K \"Using deprecated NumPy API, disable it with \" \\\r\n",
      "      |  \u001b[01;35m\u001b[K^~~~~~~\u001b[m\u001b[K\r\n",
      "\u001b[01m\u001b[KCFW_D_Similarity_Cython_SGD.c:\u001b[m\u001b[K In function ‘\u001b[01m\u001b[K__pyx_pf_27CFW_D_Similarity_Cython_SGD_27CFW_D_Similarity_Cython_SGD_6fit\u001b[m\u001b[K’:\r\n",
      "\u001b[01m\u001b[KCFW_D_Similarity_Cython_SGD.c:23373:55:\u001b[m\u001b[K \u001b[01;35m\u001b[Kwarning: \u001b[m\u001b[K‘\u001b[01m\u001b[K__pyx_v_sample_num\u001b[m\u001b[K’ may be used uninitialized in this function [\u001b[01;35m\u001b[K\u001b]8;;https://gcc.gnu.org/onlinedocs/gcc/Warning-Options.html#index-Wmaybe-uninitialized\u0007-Wmaybe-uninitialized\u001b]8;;\u0007\u001b[m\u001b[K]\r\n",
      "23373 |   __pyx_t_3 = PyFloat_FromDouble((__pyx_v_cum_loss / \u001b[01;35m\u001b[K((double)__pyx_v_sample_num)\u001b[m\u001b[K)); if (unlikely(!__pyx_t_3)) __PYX_ERR(0, 290, __pyx_L1_error)\r\n",
      "      |                                                      \u001b[01;35m\u001b[K~^~~~~~~~~~~~~~~~~~~~~~~~~~~\u001b[m\u001b[K\r\n",
      "/usr/local/lib/python3.10/dist-packages/Cython/Compiler/Main.py:381: FutureWarning: Cython directive 'language_level' not set, using '3str' for now (Py3). This has changed from earlier releases! File: /kaggle/working/RECsys_Challenge2024/Recommenders/FeatureWeighting/Cython/CFW_D_Similarity_Cython_SGD.pyx\r\n",
      "  tree = Parsing.p_module(s, pxd, full_module_name)\r\n",
      "Compiling [9/11]: CFW_D_Similarity_Cython_SGD.pyx... PASS\r\n",
      "\r\n",
      "Compiling [10/11]: HP3_Similarity_Cython_SGD.pyx... \r\n",
      "performance hint: HP3_Similarity_Cython_SGD.pyx:113:40: Index should be typed for more efficient access\r\n",
      "performance hint: HP3_Similarity_Cython_SGD.pyx:114:40: Index should be typed for more efficient access\r\n",
      "In file included from \u001b[01m\u001b[K/usr/local/lib/python3.10/dist-packages/numpy/core/include/numpy/ndarraytypes.h:1929\u001b[m\u001b[K,\r\n",
      "                 from \u001b[01m\u001b[K/usr/local/lib/python3.10/dist-packages/numpy/core/include/numpy/ndarrayobject.h:12\u001b[m\u001b[K,\r\n",
      "                 from \u001b[01m\u001b[K/usr/local/lib/python3.10/dist-packages/numpy/core/include/numpy/arrayobject.h:5\u001b[m\u001b[K,\r\n",
      "                 from \u001b[01m\u001b[KHP3_Similarity_Cython_SGD.c:1252\u001b[m\u001b[K:\r\n",
      "\u001b[01m\u001b[K/usr/local/lib/python3.10/dist-packages/numpy/core/include/numpy/npy_1_7_deprecated_api.h:17:2:\u001b[m\u001b[K \u001b[01;35m\u001b[Kwarning: \u001b[m\u001b[K#warning \"Using deprecated NumPy API, disable it with \" \"#define NPY_NO_DEPRECATED_API NPY_1_7_API_VERSION\" [\u001b[01;35m\u001b[K\u001b]8;;https://gcc.gnu.org/onlinedocs/gcc/Warning-Options.html#index-Wcpp\u0007-Wcpp\u001b]8;;\u0007\u001b[m\u001b[K]\r\n",
      "   17 | #\u001b[01;35m\u001b[Kwarning\u001b[m\u001b[K \"Using deprecated NumPy API, disable it with \" \\\r\n",
      "      |  \u001b[01;35m\u001b[K^~~~~~~\u001b[m\u001b[K\r\n",
      "\u001b[01m\u001b[KHP3_Similarity_Cython_SGD.c:\u001b[m\u001b[K In function ‘\u001b[01m\u001b[K__pyx_pf_25HP3_Similarity_Cython_SGD_25HP3_Similarity_Cython_SGD_4fit\u001b[m\u001b[K’:\r\n",
      "\u001b[01m\u001b[KHP3_Similarity_Cython_SGD.c:23631:55:\u001b[m\u001b[K \u001b[01;35m\u001b[Kwarning: \u001b[m\u001b[K‘\u001b[01m\u001b[K__pyx_v_sample_num\u001b[m\u001b[K’ may be used uninitialized in this function [\u001b[01;35m\u001b[K\u001b]8;;https://gcc.gnu.org/onlinedocs/gcc/Warning-Options.html#index-Wmaybe-uninitialized\u0007-Wmaybe-uninitialized\u001b]8;;\u0007\u001b[m\u001b[K]\r\n",
      "23631 |   __pyx_t_1 = PyFloat_FromDouble((__pyx_v_cum_loss / \u001b[01;35m\u001b[K((double)__pyx_v_sample_num)\u001b[m\u001b[K)); if (unlikely(!__pyx_t_1)) __PYX_ERR(0, 291, __pyx_L1_error)\r\n",
      "      |                                                      \u001b[01;35m\u001b[K~^~~~~~~~~~~~~~~~~~~~~~~~~~~\u001b[m\u001b[K\r\n",
      "/usr/local/lib/python3.10/dist-packages/Cython/Compiler/Main.py:381: FutureWarning: Cython directive 'language_level' not set, using '3str' for now (Py3). This has changed from earlier releases! File: /kaggle/working/RECsys_Challenge2024/Recommenders/FeatureWeighting/Cython/HP3_Similarity_Cython_SGD.pyx\r\n",
      "  tree = Parsing.p_module(s, pxd, full_module_name)\r\n",
      "performance hint: HP3_Similarity_Cython_SGD.pyx:113:40: Index should be typed for more efficient access\r\n",
      "performance hint: HP3_Similarity_Cython_SGD.pyx:114:40: Index should be typed for more efficient access\r\n",
      "Compiling [10/11]: HP3_Similarity_Cython_SGD.pyx... PASS\r\n",
      "\r\n",
      "Compiling [11/11]: DataIterator.pyx... \r\n",
      "In file included from \u001b[01m\u001b[K/usr/local/lib/python3.10/dist-packages/numpy/core/include/numpy/ndarraytypes.h:1929\u001b[m\u001b[K,\r\n",
      "                 from \u001b[01m\u001b[K/usr/local/lib/python3.10/dist-packages/numpy/core/include/numpy/ndarrayobject.h:12\u001b[m\u001b[K,\r\n",
      "                 from \u001b[01m\u001b[K/usr/local/lib/python3.10/dist-packages/numpy/core/include/numpy/arrayobject.h:5\u001b[m\u001b[K,\r\n",
      "                 from \u001b[01m\u001b[KDataIterator.c:1252\u001b[m\u001b[K:\r\n",
      "\u001b[01m\u001b[K/usr/local/lib/python3.10/dist-packages/numpy/core/include/numpy/npy_1_7_deprecated_api.h:17:2:\u001b[m\u001b[K \u001b[01;35m\u001b[Kwarning: \u001b[m\u001b[K#warning \"Using deprecated NumPy API, disable it with \" \"#define NPY_NO_DEPRECATED_API NPY_1_7_API_VERSION\" [\u001b[01;35m\u001b[K\u001b]8;;https://gcc.gnu.org/onlinedocs/gcc/Warning-Options.html#index-Wcpp\u0007-Wcpp\u001b]8;;\u0007\u001b[m\u001b[K]\r\n",
      "   17 | #\u001b[01;35m\u001b[Kwarning\u001b[m\u001b[K \"Using deprecated NumPy API, disable it with \" \\\r\n",
      "      |  \u001b[01;35m\u001b[K^~~~~~~\u001b[m\u001b[K\r\n",
      "\u001b[01m\u001b[KDataIterator.c:\u001b[m\u001b[K In function ‘\u001b[01m\u001b[K__pyx_pf_12DataIterator_19InteractionIterator_6__next__\u001b[m\u001b[K’:\r\n",
      "\u001b[01m\u001b[KDataIterator.c:20937:22:\u001b[m\u001b[K \u001b[01;35m\u001b[Kwarning: \u001b[m\u001b[K‘\u001b[01m\u001b[K__pyx_v_i_batch\u001b[m\u001b[K’ may be used uninitialized in this function [\u001b[01;35m\u001b[K\u001b]8;;https://gcc.gnu.org/onlinedocs/gcc/Warning-Options.html#index-Wmaybe-uninitialized\u0007-Wmaybe-uninitialized\u001b]8;;\u0007\u001b[m\u001b[K]\r\n",
      "20937 |     (__pyx_v_i_batch \u001b[01;35m\u001b[K+\u001b[m\u001b[K 1),\r\n",
      "      |                      \u001b[01;35m\u001b[K^\u001b[m\u001b[K\r\n",
      "\u001b[01m\u001b[KDataIterator.c:\u001b[m\u001b[K In function ‘\u001b[01m\u001b[K__pyx_pf_12DataIterator_30InteractionAndNegativeIterator_6__next__\u001b[m\u001b[K’:\r\n",
      "\u001b[01m\u001b[KDataIterator.c:25499:22:\u001b[m\u001b[K \u001b[01;35m\u001b[Kwarning: \u001b[m\u001b[K‘\u001b[01m\u001b[K__pyx_v_i_batch\u001b[m\u001b[K’ may be used uninitialized in this function [\u001b[01;35m\u001b[K\u001b]8;;https://gcc.gnu.org/onlinedocs/gcc/Warning-Options.html#index-Wmaybe-uninitialized\u0007-Wmaybe-uninitialized\u001b]8;;\u0007\u001b[m\u001b[K]\r\n",
      "25499 |     (__pyx_v_i_batch \u001b[01;35m\u001b[K+\u001b[m\u001b[K 1),\r\n",
      "      |                      \u001b[01;35m\u001b[K^\u001b[m\u001b[K\r\n",
      "\u001b[01m\u001b[KDataIterator.c:\u001b[m\u001b[K In function ‘\u001b[01m\u001b[K__pyx_pf_12DataIterator_11BPRIterator_6__next__\u001b[m\u001b[K’:\r\n",
      "\u001b[01m\u001b[KDataIterator.c:23056:22:\u001b[m\u001b[K \u001b[01;35m\u001b[Kwarning: \u001b[m\u001b[K‘\u001b[01m\u001b[K__pyx_v_i_batch\u001b[m\u001b[K’ may be used uninitialized in this function [\u001b[01;35m\u001b[K\u001b]8;;https://gcc.gnu.org/onlinedocs/gcc/Warning-Options.html#index-Wmaybe-uninitialized\u0007-Wmaybe-uninitialized\u001b]8;;\u0007\u001b[m\u001b[K]\r\n",
      "23056 |     (__pyx_v_i_batch \u001b[01;35m\u001b[K+\u001b[m\u001b[K 1),\r\n",
      "      |                      \u001b[01;35m\u001b[K^\u001b[m\u001b[K\r\n",
      "/usr/local/lib/python3.10/dist-packages/Cython/Compiler/Main.py:381: FutureWarning: Cython directive 'language_level' not set, using '3str' for now (Py3). This has changed from earlier releases! File: /kaggle/working/RECsys_Challenge2024/Utils/PyTorch/Cython/DataIterator.pyx\r\n",
      "  tree = Parsing.p_module(s, pxd, full_module_name)\r\n",
      "Compiling [11/11]: DataIterator.pyx... PASS\r\n",
      "\r\n",
      "run_compile_all_cython: Compilation finished. FAILS 2/11.\r\n",
      "Compilation log can be found here: './result_experiments/run_compile_all_cython.txt'\r\n"
     ]
    }
   ],
   "source": [
    "%cd /kaggle/working/RECsys_Challenge2024 \n",
    "! python run_compile_all_cython.py"
   ]
  },
  {
   "cell_type": "code",
   "execution_count": 5,
   "id": "f46b8c08",
   "metadata": {
    "execution": {
     "iopub.execute_input": "2025-01-04T22:30:44.673909Z",
     "iopub.status.busy": "2025-01-04T22:30:44.673474Z",
     "iopub.status.idle": "2025-01-04T22:30:46.078802Z",
     "shell.execute_reply": "2025-01-04T22:30:46.077869Z"
    },
    "papermill": {
     "duration": 1.423232,
     "end_time": "2025-01-04T22:30:46.081080",
     "exception": false,
     "start_time": "2025-01-04T22:30:44.657848",
     "status": "completed"
    },
    "tags": []
   },
   "outputs": [],
   "source": [
    "from Utils.notebookFunctions import *\n",
    "import numpy as np\n",
    "import pandas as pd\n",
    "import scipy.sparse as sps\n",
    "import time\n",
    "import shutil\n",
    "import optuna\n",
    "import json\n",
    "import os\n",
    "from Utils.seconds_to_biggest_unit import seconds_to_biggest_unit\n",
    "\n",
    "\n",
    "K_PATH = '/kaggle/working/RECsys_Challenge2024'\n",
    "GH_PATH = 'TrainedModels/WithKFCV/KNN'\n",
    "\n",
    "np.random.seed(42)"
   ]
  },
  {
   "cell_type": "markdown",
   "id": "f20941b1",
   "metadata": {
    "papermill": {
     "duration": 0.014175,
     "end_time": "2025-01-04T22:30:46.110574",
     "exception": false,
     "start_time": "2025-01-04T22:30:46.096399",
     "status": "completed"
    },
    "tags": []
   },
   "source": [
    "## Import the repository **RECsys_Challenge2024**"
   ]
  },
  {
   "cell_type": "code",
   "execution_count": 6,
   "id": "07975d06",
   "metadata": {
    "execution": {
     "iopub.execute_input": "2025-01-04T22:30:46.141833Z",
     "iopub.status.busy": "2025-01-04T22:30:46.141309Z",
     "iopub.status.idle": "2025-01-04T22:30:46.604286Z",
     "shell.execute_reply": "2025-01-04T22:30:46.603098Z"
    },
    "papermill": {
     "duration": 0.481153,
     "end_time": "2025-01-04T22:30:46.606187",
     "exception": false,
     "start_time": "2025-01-04T22:30:46.125034",
     "status": "completed"
    },
    "tags": []
   },
   "outputs": [
    {
     "name": "stdout",
     "output_type": "stream",
     "text": [
      "Repository 'RECsys_Challenge2024' found.\n"
     ]
    }
   ],
   "source": [
    "repo = get_repo_from_github(token)"
   ]
  },
  {
   "cell_type": "code",
   "execution_count": 7,
   "id": "ca810b43",
   "metadata": {
    "execution": {
     "iopub.execute_input": "2025-01-04T22:30:46.636815Z",
     "iopub.status.busy": "2025-01-04T22:30:46.636434Z",
     "iopub.status.idle": "2025-01-04T22:30:46.640827Z",
     "shell.execute_reply": "2025-01-04T22:30:46.639963Z"
    },
    "papermill": {
     "duration": 0.021425,
     "end_time": "2025-01-04T22:30:46.642437",
     "exception": false,
     "start_time": "2025-01-04T22:30:46.621012",
     "status": "completed"
    },
    "tags": []
   },
   "outputs": [],
   "source": [
    "config = {\n",
    "    'model': 'ItemKNNCF',\n",
    "    'n_folds': 5,\n",
    "    'metric': 'MAP',\n",
    "    'tune_parameters': True,\n",
    "    'database_path': '/kaggle/working/history_ItemKNNCF_MAP.db',\n",
    "    'copy_prev_best_params': False,\n",
    "    'tune_best_params': True,\n",
    "    'save_github': True\n",
    "}"
   ]
  },
  {
   "cell_type": "markdown",
   "id": "c808b79d",
   "metadata": {
    "papermill": {
     "duration": 0.014038,
     "end_time": "2025-01-04T22:30:46.671058",
     "exception": false,
     "start_time": "2025-01-04T22:30:46.657020",
     "status": "completed"
    },
    "tags": []
   },
   "source": [
    "Import the database where previous tuning trials have been saved."
   ]
  },
  {
   "cell_type": "code",
   "execution_count": 8,
   "id": "80c7069f",
   "metadata": {
    "execution": {
     "iopub.execute_input": "2025-01-04T22:30:46.701015Z",
     "iopub.status.busy": "2025-01-04T22:30:46.700630Z",
     "iopub.status.idle": "2025-01-04T22:30:46.705838Z",
     "shell.execute_reply": "2025-01-04T22:30:46.704960Z"
    },
    "papermill": {
     "duration": 0.022059,
     "end_time": "2025-01-04T22:30:46.707443",
     "exception": false,
     "start_time": "2025-01-04T22:30:46.685384",
     "status": "completed"
    },
    "tags": []
   },
   "outputs": [],
   "source": [
    "try:\n",
    "    shutil.copyfile(\n",
    "        f'{K_PATH}/{GH_PATH}/{config[\"model\"]}Recommender/Optimizing{config[\"metric\"]}/history_{config[\"model\"]}_{config[\"metric\"]}.db', \n",
    "        config['database_path']\n",
    "    )\n",
    "except FileNotFoundError:\n",
    "    pass # if not present optuna will create it"
   ]
  },
  {
   "cell_type": "markdown",
   "id": "51b80588",
   "metadata": {
    "papermill": {
     "duration": 0.013999,
     "end_time": "2025-01-04T22:30:46.736184",
     "exception": false,
     "start_time": "2025-01-04T22:30:46.722185",
     "status": "completed"
    },
    "tags": []
   },
   "source": [
    "# Construction of URM and ICM matrices"
   ]
  },
  {
   "cell_type": "code",
   "execution_count": 9,
   "id": "3cc05ae0",
   "metadata": {
    "execution": {
     "iopub.execute_input": "2025-01-04T22:30:46.766139Z",
     "iopub.status.busy": "2025-01-04T22:30:46.765734Z",
     "iopub.status.idle": "2025-01-04T22:30:47.593556Z",
     "shell.execute_reply": "2025-01-04T22:30:47.592573Z"
    },
    "papermill": {
     "duration": 0.844662,
     "end_time": "2025-01-04T22:30:47.595271",
     "exception": false,
     "start_time": "2025-01-04T22:30:46.750609",
     "status": "completed"
    },
    "tags": []
   },
   "outputs": [
    {
     "data": {
      "text/plain": [
       "<35736x38121 sparse matrix of type '<class 'numpy.float64'>'\n",
       "\twith 1764607 stored elements in Compressed Sparse Row format>"
      ]
     },
     "execution_count": 9,
     "metadata": {},
     "output_type": "execute_result"
    }
   ],
   "source": [
    "URM_all_dataframe = pd.read_csv(\"/kaggle/input/recommender-system-2024-challenge-polimi/data_train.csv\")\n",
    "\n",
    "n_users = len(URM_all_dataframe[\"user_id\"].unique())\n",
    "n_items = len(URM_all_dataframe[\"item_id\"].unique())\n",
    "\n",
    "URM_all = sps.csr_matrix((URM_all_dataframe[\"data\"].values, \n",
    "                          (URM_all_dataframe[\"user_id\"].values, URM_all_dataframe[\"item_id\"].values)),\n",
    "                        shape = (n_users, n_items))\n",
    "\n",
    "URM_all"
   ]
  },
  {
   "cell_type": "code",
   "execution_count": 10,
   "id": "72111922",
   "metadata": {
    "execution": {
     "iopub.execute_input": "2025-01-04T22:30:47.625991Z",
     "iopub.status.busy": "2025-01-04T22:30:47.625608Z",
     "iopub.status.idle": "2025-01-04T22:30:48.827656Z",
     "shell.execute_reply": "2025-01-04T22:30:48.826660Z"
    },
    "papermill": {
     "duration": 1.219338,
     "end_time": "2025-01-04T22:30:48.829377",
     "exception": false,
     "start_time": "2025-01-04T22:30:47.610039",
     "status": "completed"
    },
    "tags": []
   },
   "outputs": [
    {
     "data": {
      "text/plain": [
       "<38121x94331 sparse matrix of type '<class 'numpy.float64'>'\n",
       "\twith 2940040 stored elements in Compressed Sparse Row format>"
      ]
     },
     "execution_count": 10,
     "metadata": {},
     "output_type": "execute_result"
    }
   ],
   "source": [
    "ICM_dataframe = pd.read_csv(\"/kaggle/input/recommender-system-2024-challenge-polimi/data_ICM_metadata.csv\")\n",
    "\n",
    "n_items = len(ICM_dataframe[\"item_id\"].unique())\n",
    "n_features = len(ICM_dataframe[\"feature_id\"].unique())\n",
    "\n",
    "ICM_all = sps.csr_matrix((ICM_dataframe[\"data\"].values, \n",
    "                          (ICM_dataframe[\"item_id\"].values, ICM_dataframe[\"feature_id\"].values)),\n",
    "                        shape = (n_items, n_features))\n",
    "\n",
    "ICM_all"
   ]
  },
  {
   "cell_type": "markdown",
   "id": "ccb85fb9",
   "metadata": {
    "papermill": {
     "duration": 0.014194,
     "end_time": "2025-01-04T22:30:48.858451",
     "exception": false,
     "start_time": "2025-01-04T22:30:48.844257",
     "status": "completed"
    },
    "tags": []
   },
   "source": [
    "# Training"
   ]
  },
  {
   "cell_type": "code",
   "execution_count": 11,
   "id": "3f31547f",
   "metadata": {
    "execution": {
     "iopub.execute_input": "2025-01-04T22:30:48.889079Z",
     "iopub.status.busy": "2025-01-04T22:30:48.888677Z",
     "iopub.status.idle": "2025-01-04T22:31:06.645333Z",
     "shell.execute_reply": "2025-01-04T22:31:06.644464Z"
    },
    "papermill": {
     "duration": 17.774166,
     "end_time": "2025-01-04T22:31:06.647374",
     "exception": false,
     "start_time": "2025-01-04T22:30:48.873208",
     "status": "completed"
    },
    "tags": []
   },
   "outputs": [
    {
     "name": "stdout",
     "output_type": "stream",
     "text": [
      "Warning: 141 (0.39 %) of 35736 users have no sampled items\n"
     ]
    }
   ],
   "source": [
    "from Evaluation.Evaluator import EvaluatorHoldout\n",
    "from Data_manager.split_functions.split_train_validation_random_holdout import split_train_in_two_percentage_global_sample\n",
    "from Data_manager.split_functions.split_train_k_folds import split_train_k_folds\n",
    "\n",
    "URM_train, URM_validation = split_train_in_two_percentage_global_sample(URM_all, train_percentage = 0.80)\n",
    "\n",
    "folds = split_train_k_folds(URM_all, k=config['n_folds'])"
   ]
  },
  {
   "cell_type": "code",
   "execution_count": 12,
   "id": "9f180fa8",
   "metadata": {
    "execution": {
     "iopub.execute_input": "2025-01-04T22:31:06.678660Z",
     "iopub.status.busy": "2025-01-04T22:31:06.678254Z",
     "iopub.status.idle": "2025-01-04T22:31:06.696188Z",
     "shell.execute_reply": "2025-01-04T22:31:06.695100Z"
    },
    "papermill": {
     "duration": 0.035733,
     "end_time": "2025-01-04T22:31:06.698203",
     "exception": false,
     "start_time": "2025-01-04T22:31:06.662470",
     "status": "completed"
    },
    "tags": []
   },
   "outputs": [],
   "source": [
    "from Recommenders.KNN.ItemKNNCFRecommender import ItemKNNCFRecommender\n",
    "\n",
    "def objective_function_ItemKNNCF(optuna_trial):\n",
    "    \n",
    "    similarity = optuna_trial.suggest_categorical(\"similarity\", ['cosine', 'dice', 'jaccard', 'asymmetric', 'tversky', 'euclidean'])\n",
    "    \n",
    "    full_hyperp = {\"similarity\": similarity,\n",
    "                   \"topK\": optuna_trial.suggest_int(\"topK\", 0, 750),\n",
    "                   \"shrink\": optuna_trial.suggest_int(\"shrink\", 0, 1000),\n",
    "                   'feature_weighting': optuna_trial.suggest_categorical('feature_weighting', [\"BM25\", \"TF-IDF\", \"none\"])\n",
    "                  }\n",
    "    \n",
    "    if similarity == \"asymmetric\":\n",
    "        full_hyperp[\"asymmetric_alpha\"] = optuna_trial.suggest_float(\"asymmetric_alpha\", 0, 2, log=False)\n",
    "        full_hyperp[\"normalize\"] = True     \n",
    "\n",
    "    elif similarity == \"tversky\":\n",
    "        full_hyperp[\"tversky_alpha\"] = optuna_trial.suggest_float(\"tversky_alpha\", 0, 2, log=False)\n",
    "        full_hyperp[\"tversky_beta\"] = optuna_trial.suggest_float(\"tversky_beta\", 0, 2, log=False)\n",
    "        full_hyperp[\"normalize\"] = True \n",
    "\n",
    "    elif similarity == \"euclidean\":\n",
    "        full_hyperp[\"normalize_avg_row\"] = optuna_trial.suggest_categorical(\"normalize_avg_row\", [True, False])\n",
    "        full_hyperp[\"similarity_from_distance_mode\"] = optuna_trial.suggest_categorical(\"similarity_from_distance_mode\", [\"lin\", \"log\", \"exp\"])\n",
    "        full_hyperp[\"normalize\"] = optuna_trial.suggest_categorical(\"normalize\", [True, False])\n",
    "        \n",
    "    \n",
    "    validation_results = []\n",
    "    \n",
    "    for fold_idx, (URM_train_fold, URM_validation_fold) in enumerate(folds):\n",
    "    \n",
    "        recommender_instance = ItemKNNCFRecommender(URM_train_fold)\n",
    "        recommender_instance.fit(**full_hyperp)\n",
    "        \n",
    "        evaluator = EvaluatorHoldout(URM_validation_fold, cutoff_list=[10])\n",
    "        result_df, _ = evaluator.evaluateRecommender(recommender_instance)\n",
    "        \n",
    "        validation_results.append(result_df.loc[10][\"MAP\"])\n",
    "    \n",
    "    return np.mean(validation_results)"
   ]
  },
  {
   "cell_type": "code",
   "execution_count": 13,
   "id": "50996a2e",
   "metadata": {
    "_kg_hide-output": true,
    "execution": {
     "iopub.execute_input": "2025-01-04T22:31:06.729153Z",
     "iopub.status.busy": "2025-01-04T22:31:06.728771Z",
     "iopub.status.idle": "2025-01-05T05:00:34.969007Z",
     "shell.execute_reply": "2025-01-05T05:00:34.967683Z"
    },
    "papermill": {
     "duration": 23368.422426,
     "end_time": "2025-01-05T05:00:35.135593",
     "exception": false,
     "start_time": "2025-01-04T22:31:06.713167",
     "status": "completed"
    },
    "tags": []
   },
   "outputs": [
    {
     "name": "stderr",
     "output_type": "stream",
     "text": [
      "[I 2025-01-04 22:31:07,687] Using an existing study with name 'hyperparameters_tuning_ItemKNNCF_MAP' instead of creating a new one.\n"
     ]
    },
    {
     "name": "stdout",
     "output_type": "stream",
     "text": [
      "Similarity column 38121 (100.0%), 2713.54 column/sec. Elapsed time 14.05 sec\n",
      "EvaluatorHoldout: Ignoring 173 ( 0.5%) Users that have less than 1 test interactions\n",
      "EvaluatorHoldout: Processed 35563 (100.0%) in 32.39 sec. Users per second: 1098\n",
      "Similarity column 38121 (100.0%), 2728.84 column/sec. Elapsed time 13.97 sec\n",
      "EvaluatorHoldout: Ignoring 163 ( 0.5%) Users that have less than 1 test interactions\n",
      "EvaluatorHoldout: Processed 35573 (100.0%) in 32.34 sec. Users per second: 1100\n",
      "Similarity column 38121 (100.0%), 2742.72 column/sec. Elapsed time 13.90 sec\n",
      "EvaluatorHoldout: Ignoring 150 ( 0.4%) Users that have less than 1 test interactions\n",
      "EvaluatorHoldout: Processed 35586 (100.0%) in 32.27 sec. Users per second: 1103\n",
      "Similarity column 38121 (100.0%), 2740.85 column/sec. Elapsed time 13.91 sec\n",
      "EvaluatorHoldout: Ignoring 167 ( 0.5%) Users that have less than 1 test interactions\n",
      "EvaluatorHoldout: Processed 35569 (100.0%) in 31.68 sec. Users per second: 1123\n",
      "Similarity column 38121 (100.0%), 2806.47 column/sec. Elapsed time 13.58 sec\n",
      "EvaluatorHoldout: Ignoring 172 ( 0.5%) Users that have less than 1 test interactions\n",
      "EvaluatorHoldout: Processed 35564 (100.0%) in 31.47 sec. Users per second: 1130\n"
     ]
    },
    {
     "name": "stderr",
     "output_type": "stream",
     "text": [
      "[I 2025-01-04 22:34:59,835] Trial 200 finished with value: 0.050427546154826045 and parameters: {'similarity': 'tversky', 'topK': 31, 'shrink': 32, 'feature_weighting': 'TF-IDF', 'tversky_alpha': 0.29664494233594507, 'tversky_beta': 1.8038725374615234}. Best is trial 189 with value: 0.052770132207501916.\n"
     ]
    },
    {
     "name": "stdout",
     "output_type": "stream",
     "text": [
      "Similarity column 38121 (100.0%), 2811.84 column/sec. Elapsed time 13.56 sec\n",
      "EvaluatorHoldout: Ignoring 173 ( 0.5%) Users that have less than 1 test interactions\n",
      "EvaluatorHoldout: Processed 35563 (100.0%) in 31.37 sec. Users per second: 1134\n",
      "Similarity column 38121 (100.0%), 2801.97 column/sec. Elapsed time 13.61 sec\n",
      "EvaluatorHoldout: Ignoring 163 ( 0.5%) Users that have less than 1 test interactions\n",
      "EvaluatorHoldout: Processed 35573 (100.0%) in 31.61 sec. Users per second: 1125\n",
      "Similarity column 38121 (100.0%), 2828.42 column/sec. Elapsed time 13.48 sec\n",
      "EvaluatorHoldout: Ignoring 150 ( 0.4%) Users that have less than 1 test interactions\n",
      "EvaluatorHoldout: Processed 35586 (100.0%) in 30.80 sec. Users per second: 1155\n",
      "Similarity column 38121 (100.0%), 2818.46 column/sec. Elapsed time 13.53 sec\n",
      "EvaluatorHoldout: Ignoring 167 ( 0.5%) Users that have less than 1 test interactions\n",
      "EvaluatorHoldout: Processed 35569 (100.0%) in 31.38 sec. Users per second: 1134\n",
      "Similarity column 38121 (100.0%), 2850.05 column/sec. Elapsed time 13.38 sec\n",
      "EvaluatorHoldout: Ignoring 172 ( 0.5%) Users that have less than 1 test interactions\n",
      "EvaluatorHoldout: Processed 35564 (100.0%) in 30.91 sec. Users per second: 1151\n"
     ]
    },
    {
     "name": "stderr",
     "output_type": "stream",
     "text": [
      "[I 2025-01-04 22:38:45,616] Trial 201 finished with value: 0.05069072979215204 and parameters: {'similarity': 'tversky', 'topK': 31, 'shrink': 25, 'feature_weighting': 'TF-IDF', 'tversky_alpha': 0.33375519447443924, 'tversky_beta': 1.7939413718130928}. Best is trial 189 with value: 0.052770132207501916.\n"
     ]
    },
    {
     "name": "stdout",
     "output_type": "stream",
     "text": [
      "Similarity column 38121 (100.0%), 2892.15 column/sec. Elapsed time 13.18 sec\n",
      "EvaluatorHoldout: Ignoring 173 ( 0.5%) Users that have less than 1 test interactions\n",
      "EvaluatorHoldout: Processed 35563 (100.0%) in 30.47 sec. Users per second: 1167\n",
      "Similarity column 38121 (100.0%), 2880.36 column/sec. Elapsed time 13.23 sec\n",
      "EvaluatorHoldout: Ignoring 163 ( 0.5%) Users that have less than 1 test interactions\n",
      "EvaluatorHoldout: Processed 35573 (100.0%) in 30.80 sec. Users per second: 1155\n",
      "Similarity column 38121 (100.0%), 2816.70 column/sec. Elapsed time 13.53 sec\n",
      "EvaluatorHoldout: Ignoring 150 ( 0.4%) Users that have less than 1 test interactions\n",
      "EvaluatorHoldout: Processed 35586 (100.0%) in 30.62 sec. Users per second: 1162\n",
      "Similarity column 38121 (100.0%), 2870.99 column/sec. Elapsed time 13.28 sec\n",
      "EvaluatorHoldout: Ignoring 167 ( 0.5%) Users that have less than 1 test interactions\n",
      "EvaluatorHoldout: Processed 35569 (100.0%) in 30.76 sec. Users per second: 1156\n",
      "Similarity column 38121 (100.0%), 2934.43 column/sec. Elapsed time 12.99 sec\n",
      "EvaluatorHoldout: Ignoring 172 ( 0.5%) Users that have less than 1 test interactions\n",
      "EvaluatorHoldout: Processed 35564 (100.0%) in 30.25 sec. Users per second: 1176\n"
     ]
    },
    {
     "name": "stderr",
     "output_type": "stream",
     "text": [
      "[I 2025-01-04 22:42:26,898] Trial 202 finished with value: 0.05073869298991869 and parameters: {'similarity': 'tversky', 'topK': 31, 'shrink': 22, 'feature_weighting': 'TF-IDF', 'tversky_alpha': 0.24976967585979346, 'tversky_beta': 1.8215709875637462}. Best is trial 189 with value: 0.052770132207501916.\n"
     ]
    },
    {
     "name": "stdout",
     "output_type": "stream",
     "text": [
      "Similarity column 38121 (100.0%), 2946.86 column/sec. Elapsed time 12.94 sec\n",
      "EvaluatorHoldout: Ignoring 173 ( 0.5%) Users that have less than 1 test interactions\n",
      "EvaluatorHoldout: Processed 35563 (100.0%) in 30.13 sec. Users per second: 1180\n",
      "Similarity column 38121 (100.0%), 2938.57 column/sec. Elapsed time 12.97 sec\n",
      "EvaluatorHoldout: Ignoring 163 ( 0.5%) Users that have less than 1 test interactions\n",
      "EvaluatorHoldout: Processed 35573 (100.0%) in 30.74 sec. Users per second: 1157\n",
      "Similarity column 38121 (100.0%), 2885.70 column/sec. Elapsed time 13.21 sec\n",
      "EvaluatorHoldout: Ignoring 150 ( 0.4%) Users that have less than 1 test interactions\n",
      "EvaluatorHoldout: Processed 35586 (100.0%) in 30.63 sec. Users per second: 1162\n",
      "Similarity column 38121 (100.0%), 2949.43 column/sec. Elapsed time 12.92 sec\n",
      "EvaluatorHoldout: Ignoring 167 ( 0.5%) Users that have less than 1 test interactions\n",
      "EvaluatorHoldout: Processed 35569 (100.0%) in 30.24 sec. Users per second: 1176\n",
      "Similarity column 38121 (100.0%), 2966.25 column/sec. Elapsed time 12.85 sec\n",
      "EvaluatorHoldout: Ignoring 172 ( 0.5%) Users that have less than 1 test interactions\n",
      "EvaluatorHoldout: Processed 35564 (100.0%) in 30.49 sec. Users per second: 1166\n"
     ]
    },
    {
     "name": "stderr",
     "output_type": "stream",
     "text": [
      "[I 2025-01-04 22:46:06,094] Trial 203 finished with value: 0.04989507028462124 and parameters: {'similarity': 'tversky', 'topK': 35, 'shrink': 34, 'feature_weighting': 'TF-IDF', 'tversky_alpha': 0.24183869055485563, 'tversky_beta': 1.8092391827386294}. Best is trial 189 with value: 0.052770132207501916.\n"
     ]
    },
    {
     "name": "stdout",
     "output_type": "stream",
     "text": [
      "Similarity column 38121 (100.0%), 2925.39 column/sec. Elapsed time 13.03 sec\n",
      "EvaluatorHoldout: Ignoring 173 ( 0.5%) Users that have less than 1 test interactions\n",
      "EvaluatorHoldout: Processed 35563 (100.0%) in 30.96 sec. Users per second: 1149\n",
      "Similarity column 38121 (100.0%), 2902.32 column/sec. Elapsed time 13.13 sec\n",
      "EvaluatorHoldout: Ignoring 163 ( 0.5%) Users that have less than 1 test interactions\n",
      "EvaluatorHoldout: Processed 35573 (100.0%) in 30.92 sec. Users per second: 1151\n",
      "Similarity column 38121 (100.0%), 2902.36 column/sec. Elapsed time 13.13 sec\n",
      "EvaluatorHoldout: Ignoring 150 ( 0.4%) Users that have less than 1 test interactions\n",
      "EvaluatorHoldout: Processed 35586 (100.0%) in 30.91 sec. Users per second: 1151\n",
      "Similarity column 38121 (100.0%), 2922.02 column/sec. Elapsed time 13.05 sec\n",
      "EvaluatorHoldout: Ignoring 167 ( 0.5%) Users that have less than 1 test interactions\n",
      "EvaluatorHoldout: Processed 35569 (100.0%) in 31.52 sec. Users per second: 1128\n",
      "Similarity column 38121 (100.0%), 2936.64 column/sec. Elapsed time 12.98 sec\n",
      "EvaluatorHoldout: Ignoring 172 ( 0.5%) Users that have less than 1 test interactions\n",
      "EvaluatorHoldout: Processed 35564 (100.0%) in 30.34 sec. Users per second: 1172\n"
     ]
    },
    {
     "name": "stderr",
     "output_type": "stream",
     "text": [
      "[I 2025-01-04 22:49:48,256] Trial 204 finished with value: 0.049972583889434 and parameters: {'similarity': 'tversky', 'topK': 47, 'shrink': 3, 'feature_weighting': 'TF-IDF', 'tversky_alpha': 0.3945518187917071, 'tversky_beta': 1.8667000038984132}. Best is trial 189 with value: 0.052770132207501916.\n"
     ]
    },
    {
     "name": "stdout",
     "output_type": "stream",
     "text": [
      "Similarity column 38121 (100.0%), 2970.23 column/sec. Elapsed time 12.83 sec\n",
      "EvaluatorHoldout: Ignoring 173 ( 0.5%) Users that have less than 1 test interactions\n",
      "EvaluatorHoldout: Processed 35563 (100.0%) in 31.71 sec. Users per second: 1121\n",
      "Similarity column 38121 (100.0%), 2985.92 column/sec. Elapsed time 12.77 sec\n",
      "EvaluatorHoldout: Ignoring 163 ( 0.5%) Users that have less than 1 test interactions\n",
      "EvaluatorHoldout: Processed 35573 (100.0%) in 31.93 sec. Users per second: 1114\n",
      "Similarity column 38121 (100.0%), 2940.43 column/sec. Elapsed time 12.96 sec\n",
      "EvaluatorHoldout: Ignoring 150 ( 0.4%) Users that have less than 1 test interactions\n",
      "EvaluatorHoldout: Processed 35586 (100.0%) in 32.30 sec. Users per second: 1102\n",
      "Similarity column 38121 (100.0%), 2946.67 column/sec. Elapsed time 12.94 sec\n",
      "EvaluatorHoldout: Ignoring 167 ( 0.5%) Users that have less than 1 test interactions\n",
      "EvaluatorHoldout: Processed 35569 (100.0%) in 32.31 sec. Users per second: 1101\n",
      "Similarity column 38121 (100.0%), 2861.46 column/sec. Elapsed time 13.32 sec\n",
      "EvaluatorHoldout: Ignoring 172 ( 0.5%) Users that have less than 1 test interactions\n",
      "EvaluatorHoldout: Processed 35564 (100.0%) in 32.74 sec. Users per second: 1086\n"
     ]
    },
    {
     "name": "stderr",
     "output_type": "stream",
     "text": [
      "[I 2025-01-04 22:53:36,391] Trial 205 finished with value: 0.04700001020406326 and parameters: {'similarity': 'tversky', 'topK': 69, 'shrink': 32, 'feature_weighting': 'TF-IDF', 'tversky_alpha': 0.14195383883058454, 'tversky_beta': 1.6987357651433017}. Best is trial 189 with value: 0.052770132207501916.\n"
     ]
    },
    {
     "name": "stdout",
     "output_type": "stream",
     "text": [
      "Similarity column 38121 (100.0%), 2872.01 column/sec. Elapsed time 13.27 sec\n",
      "EvaluatorHoldout: Ignoring 173 ( 0.5%) Users that have less than 1 test interactions\n",
      "EvaluatorHoldout: Processed 35563 (100.0%) in 30.56 sec. Users per second: 1164\n",
      "Similarity column 38121 (100.0%), 2888.23 column/sec. Elapsed time 13.20 sec\n",
      "EvaluatorHoldout: Ignoring 163 ( 0.5%) Users that have less than 1 test interactions\n",
      "EvaluatorHoldout: Processed 35573 (100.0%) in 30.33 sec. Users per second: 1173\n",
      "Similarity column 38121 (100.0%), 2849.67 column/sec. Elapsed time 13.38 sec\n",
      "EvaluatorHoldout: Ignoring 150 ( 0.4%) Users that have less than 1 test interactions\n",
      "EvaluatorHoldout: Processed 35586 (100.0%) in 30.48 sec. Users per second: 1168\n",
      "Similarity column 38121 (100.0%), 2871.60 column/sec. Elapsed time 13.28 sec\n",
      "EvaluatorHoldout: Ignoring 167 ( 0.5%) Users that have less than 1 test interactions\n",
      "EvaluatorHoldout: Processed 35569 (100.0%) in 30.58 sec. Users per second: 1163\n",
      "Similarity column 38121 (100.0%), 2908.98 column/sec. Elapsed time 13.10 sec\n",
      "EvaluatorHoldout: Ignoring 172 ( 0.5%) Users that have less than 1 test interactions\n",
      "EvaluatorHoldout: Processed 35564 (100.0%) in 30.46 sec. Users per second: 1168\n"
     ]
    },
    {
     "name": "stderr",
     "output_type": "stream",
     "text": [
      "[I 2025-01-04 22:57:17,142] Trial 206 finished with value: 0.0512353018267241 and parameters: {'similarity': 'tversky', 'topK': 30, 'shrink': 3, 'feature_weighting': 'TF-IDF', 'tversky_alpha': 0.47344404512550436, 'tversky_beta': 1.9877359190109856}. Best is trial 189 with value: 0.052770132207501916.\n"
     ]
    },
    {
     "name": "stdout",
     "output_type": "stream",
     "text": [
      "Similarity column 38121 (100.0%), 2843.60 column/sec. Elapsed time 13.41 sec\n",
      "EvaluatorHoldout: Ignoring 173 ( 0.5%) Users that have less than 1 test interactions\n",
      "EvaluatorHoldout: Processed 35563 (100.0%) in 32.53 sec. Users per second: 1093\n",
      "Similarity column 38121 (100.0%), 2940.25 column/sec. Elapsed time 12.97 sec\n",
      "EvaluatorHoldout: Ignoring 163 ( 0.5%) Users that have less than 1 test interactions\n",
      "EvaluatorHoldout: Processed 35573 (100.0%) in 32.40 sec. Users per second: 1098\n",
      "Similarity column 38121 (100.0%), 2932.51 column/sec. Elapsed time 13.00 sec\n",
      "EvaluatorHoldout: Ignoring 150 ( 0.4%) Users that have less than 1 test interactions\n",
      "EvaluatorHoldout: Processed 35586 (100.0%) in 32.08 sec. Users per second: 1109\n",
      "Similarity column 38121 (100.0%), 2927.73 column/sec. Elapsed time 13.02 sec\n",
      "EvaluatorHoldout: Ignoring 167 ( 0.5%) Users that have less than 1 test interactions\n",
      "EvaluatorHoldout: Processed 35569 (100.0%) in 32.10 sec. Users per second: 1108\n",
      "Similarity column 38121 (100.0%), 2963.45 column/sec. Elapsed time 12.86 sec\n",
      "EvaluatorHoldout: Ignoring 172 ( 0.5%) Users that have less than 1 test interactions\n",
      "EvaluatorHoldout: Processed 35564 (100.0%) in 31.79 sec. Users per second: 1119\n"
     ]
    },
    {
     "name": "stderr",
     "output_type": "stream",
     "text": [
      "[I 2025-01-04 23:01:05,712] Trial 207 finished with value: 0.04827784121151514 and parameters: {'similarity': 'tversky', 'topK': 79, 'shrink': 13, 'feature_weighting': 'TF-IDF', 'tversky_alpha': 0.4775017013958939, 'tversky_beta': 1.9972779563142744}. Best is trial 189 with value: 0.052770132207501916.\n"
     ]
    },
    {
     "name": "stdout",
     "output_type": "stream",
     "text": [
      "Similarity column 38121 (100.0%), 3007.41 column/sec. Elapsed time 12.68 sec\n",
      "EvaluatorHoldout: Ignoring 173 ( 0.5%) Users that have less than 1 test interactions\n",
      "EvaluatorHoldout: Processed 35563 (100.0%) in 29.33 sec. Users per second: 1213\n",
      "Similarity column 38121 (100.0%), 2990.71 column/sec. Elapsed time 12.75 sec\n",
      "EvaluatorHoldout: Ignoring 163 ( 0.5%) Users that have less than 1 test interactions\n",
      "EvaluatorHoldout: Processed 35573 (100.0%) in 29.68 sec. Users per second: 1199\n",
      "Similarity column 38121 (100.0%), 2988.61 column/sec. Elapsed time 12.76 sec\n",
      "EvaluatorHoldout: Ignoring 150 ( 0.4%) Users that have less than 1 test interactions\n",
      "EvaluatorHoldout: Processed 35586 (100.0%) in 29.98 sec. Users per second: 1187\n",
      "Similarity column 38121 (100.0%), 2924.41 column/sec. Elapsed time 13.04 sec\n",
      "EvaluatorHoldout: Ignoring 167 ( 0.5%) Users that have less than 1 test interactions\n",
      "EvaluatorHoldout: Processed 35569 (100.0%) in 30.24 sec. Users per second: 1176\n",
      "Similarity column 38121 (100.0%), 2950.06 column/sec. Elapsed time 12.92 sec\n",
      "EvaluatorHoldout: Ignoring 172 ( 0.5%) Users that have less than 1 test interactions\n",
      "EvaluatorHoldout: Processed 35564 (100.0%) in 30.13 sec. Users per second: 1180\n"
     ]
    },
    {
     "name": "stderr",
     "output_type": "stream",
     "text": [
      "[I 2025-01-04 23:04:40,892] Trial 208 finished with value: 0.05104263186459542 and parameters: {'similarity': 'tversky', 'topK': 32, 'shrink': 2, 'feature_weighting': 'none', 'tversky_alpha': 0.293553908408145, 'tversky_beta': 1.8563748152777997}. Best is trial 189 with value: 0.052770132207501916.\n"
     ]
    },
    {
     "name": "stdout",
     "output_type": "stream",
     "text": [
      "Similarity column 38121 (100.0%), 2803.48 column/sec. Elapsed time 13.60 sec\n",
      "EvaluatorHoldout: Ignoring 173 ( 0.5%) Users that have less than 1 test interactions\n",
      "EvaluatorHoldout: Processed 35563 (100.0%) in 31.19 sec. Users per second: 1140\n",
      "Similarity column 38121 (100.0%), 2803.01 column/sec. Elapsed time 13.60 sec\n",
      "EvaluatorHoldout: Ignoring 163 ( 0.5%) Users that have less than 1 test interactions\n",
      "EvaluatorHoldout: Processed 35573 (100.0%) in 31.31 sec. Users per second: 1136\n",
      "Similarity column 38121 (100.0%), 2851.89 column/sec. Elapsed time 13.37 sec\n",
      "EvaluatorHoldout: Ignoring 150 ( 0.4%) Users that have less than 1 test interactions\n",
      "EvaluatorHoldout: Processed 35586 (100.0%) in 31.85 sec. Users per second: 1117\n",
      "Similarity column 38121 (100.0%), 2719.08 column/sec. Elapsed time 14.02 sec\n",
      "EvaluatorHoldout: Ignoring 167 ( 0.5%) Users that have less than 1 test interactions\n",
      "EvaluatorHoldout: Processed 35569 (100.0%) in 31.97 sec. Users per second: 1113\n",
      "Similarity column 38121 (100.0%), 2733.22 column/sec. Elapsed time 13.95 sec\n",
      "EvaluatorHoldout: Ignoring 172 ( 0.5%) Users that have less than 1 test interactions\n",
      "EvaluatorHoldout: Processed 35564 (100.0%) in 31.99 sec. Users per second: 1112\n"
     ]
    },
    {
     "name": "stderr",
     "output_type": "stream",
     "text": [
      "[I 2025-01-04 23:08:29,638] Trial 209 finished with value: 0.05092531802018609 and parameters: {'similarity': 'tversky', 'topK': 29, 'shrink': 25, 'feature_weighting': 'none', 'tversky_alpha': 0.23231145685281912, 'tversky_beta': 1.868330902029696}. Best is trial 189 with value: 0.052770132207501916.\n"
     ]
    },
    {
     "name": "stdout",
     "output_type": "stream",
     "text": [
      "Similarity column 38121 (100.0%), 2720.30 column/sec. Elapsed time 14.01 sec\n",
      "EvaluatorHoldout: Ignoring 173 ( 0.5%) Users that have less than 1 test interactions\n",
      "EvaluatorHoldout: Processed 35563 (100.0%) in 32.02 sec. Users per second: 1111\n",
      "Similarity column 38121 (100.0%), 2737.92 column/sec. Elapsed time 13.92 sec\n",
      "EvaluatorHoldout: Ignoring 163 ( 0.5%) Users that have less than 1 test interactions\n",
      "EvaluatorHoldout: Processed 35573 (100.0%) in 31.96 sec. Users per second: 1113\n",
      "Similarity column 38121 (100.0%), 2715.71 column/sec. Elapsed time 14.04 sec\n",
      "EvaluatorHoldout: Ignoring 150 ( 0.4%) Users that have less than 1 test interactions\n",
      "EvaluatorHoldout: Processed 35586 (100.0%) in 31.85 sec. Users per second: 1117\n",
      "Similarity column 38121 (100.0%), 2748.28 column/sec. Elapsed time 13.87 sec\n",
      "EvaluatorHoldout: Ignoring 167 ( 0.5%) Users that have less than 1 test interactions\n",
      "EvaluatorHoldout: Processed 35569 (100.0%) in 31.80 sec. Users per second: 1119\n",
      "Similarity column 38121 (100.0%), 2780.63 column/sec. Elapsed time 13.71 sec\n",
      "EvaluatorHoldout: Ignoring 172 ( 0.5%) Users that have less than 1 test interactions\n",
      "EvaluatorHoldout: Processed 35564 (100.0%) in 31.66 sec. Users per second: 1123\n"
     ]
    },
    {
     "name": "stderr",
     "output_type": "stream",
     "text": [
      "[I 2025-01-04 23:12:20,440] Trial 210 finished with value: 0.050869259929248144 and parameters: {'similarity': 'tversky', 'topK': 29, 'shrink': 25, 'feature_weighting': 'none', 'tversky_alpha': 0.23237412277832475, 'tversky_beta': 1.8321372644437168}. Best is trial 189 with value: 0.052770132207501916.\n"
     ]
    },
    {
     "name": "stdout",
     "output_type": "stream",
     "text": [
      "Similarity column 38121 (100.0%), 2775.12 column/sec. Elapsed time 13.74 sec\n",
      "EvaluatorHoldout: Ignoring 173 ( 0.5%) Users that have less than 1 test interactions\n",
      "EvaluatorHoldout: Processed 35563 (100.0%) in 31.58 sec. Users per second: 1126\n",
      "Similarity column 38121 (100.0%), 2780.06 column/sec. Elapsed time 13.71 sec\n",
      "EvaluatorHoldout: Ignoring 163 ( 0.5%) Users that have less than 1 test interactions\n",
      "EvaluatorHoldout: Processed 35573 (100.0%) in 31.50 sec. Users per second: 1129\n",
      "Similarity column 38121 (100.0%), 2778.90 column/sec. Elapsed time 13.72 sec\n",
      "EvaluatorHoldout: Ignoring 150 ( 0.4%) Users that have less than 1 test interactions\n",
      "EvaluatorHoldout: Processed 35586 (100.0%) in 31.35 sec. Users per second: 1135\n",
      "Similarity column 38121 (100.0%), 2820.51 column/sec. Elapsed time 13.52 sec\n",
      "EvaluatorHoldout: Ignoring 167 ( 0.5%) Users that have less than 1 test interactions\n",
      "EvaluatorHoldout: Processed 35569 (100.0%) in 31.61 sec. Users per second: 1125\n",
      "Similarity column 38121 (100.0%), 2798.63 column/sec. Elapsed time 13.62 sec\n",
      "EvaluatorHoldout: Ignoring 172 ( 0.5%) Users that have less than 1 test interactions\n",
      "EvaluatorHoldout: Processed 35564 (100.0%) in 31.48 sec. Users per second: 1130\n"
     ]
    },
    {
     "name": "stderr",
     "output_type": "stream",
     "text": [
      "[I 2025-01-04 23:16:08,202] Trial 211 finished with value: 0.05073879495247531 and parameters: {'similarity': 'tversky', 'topK': 31, 'shrink': 23, 'feature_weighting': 'none', 'tversky_alpha': 0.2275137148870628, 'tversky_beta': 1.8340227545505363}. Best is trial 189 with value: 0.052770132207501916.\n"
     ]
    },
    {
     "name": "stdout",
     "output_type": "stream",
     "text": [
      "Similarity column 38121 (100.0%), 2748.71 column/sec. Elapsed time 13.87 sec\n",
      "EvaluatorHoldout: Ignoring 173 ( 0.5%) Users that have less than 1 test interactions\n",
      "EvaluatorHoldout: Processed 35563 (100.0%) in 32.80 sec. Users per second: 1084\n",
      "Similarity column 38121 (100.0%), 2775.32 column/sec. Elapsed time 13.74 sec\n",
      "EvaluatorHoldout: Ignoring 163 ( 0.5%) Users that have less than 1 test interactions\n",
      "EvaluatorHoldout: Processed 35573 (100.0%) in 32.70 sec. Users per second: 1088\n",
      "Similarity column 38121 (100.0%), 2784.61 column/sec. Elapsed time 13.69 sec\n",
      "EvaluatorHoldout: Ignoring 150 ( 0.4%) Users that have less than 1 test interactions\n",
      "EvaluatorHoldout: Processed 35586 (100.0%) in 32.62 sec. Users per second: 1091\n",
      "Similarity column 38121 (100.0%), 2779.71 column/sec. Elapsed time 13.71 sec\n",
      "EvaluatorHoldout: Ignoring 167 ( 0.5%) Users that have less than 1 test interactions\n",
      "EvaluatorHoldout: Processed 35569 (100.0%) in 32.82 sec. Users per second: 1084\n",
      "Similarity column 38121 (100.0%), 2806.89 column/sec. Elapsed time 13.58 sec\n",
      "EvaluatorHoldout: Ignoring 172 ( 0.5%) Users that have less than 1 test interactions\n",
      "EvaluatorHoldout: Processed 35564 (100.0%) in 32.33 sec. Users per second: 1100\n"
     ]
    },
    {
     "name": "stderr",
     "output_type": "stream",
     "text": [
      "[I 2025-01-04 23:20:02,108] Trial 212 finished with value: 0.049012160319736396 and parameters: {'similarity': 'tversky', 'topK': 50, 'shrink': 25, 'feature_weighting': 'none', 'tversky_alpha': 0.24239234461224346, 'tversky_beta': 1.8496120538342322}. Best is trial 189 with value: 0.052770132207501916.\n"
     ]
    },
    {
     "name": "stdout",
     "output_type": "stream",
     "text": [
      "Similarity column 38121 (100.0%), 2839.34 column/sec. Elapsed time 13.43 sec\n",
      "EvaluatorHoldout: Ignoring 173 ( 0.5%) Users that have less than 1 test interactions\n",
      "EvaluatorHoldout: Processed 35563 (100.0%) in 31.18 sec. Users per second: 1141\n",
      "Similarity column 38121 (100.0%), 2835.73 column/sec. Elapsed time 13.44 sec\n",
      "EvaluatorHoldout: Ignoring 163 ( 0.5%) Users that have less than 1 test interactions\n",
      "EvaluatorHoldout: Processed 35573 (100.0%) in 31.36 sec. Users per second: 1134\n",
      "Similarity column 38121 (100.0%), 2843.12 column/sec. Elapsed time 13.41 sec\n",
      "EvaluatorHoldout: Ignoring 150 ( 0.4%) Users that have less than 1 test interactions\n",
      "EvaluatorHoldout: Processed 35586 (100.0%) in 31.20 sec. Users per second: 1141\n",
      "Similarity column 38121 (100.0%), 2801.10 column/sec. Elapsed time 13.61 sec\n",
      "EvaluatorHoldout: Ignoring 167 ( 0.5%) Users that have less than 1 test interactions\n",
      "EvaluatorHoldout: Processed 35569 (100.0%) in 31.30 sec. Users per second: 1136\n",
      "Similarity column 38121 (100.0%), 2822.37 column/sec. Elapsed time 13.51 sec\n",
      "EvaluatorHoldout: Ignoring 172 ( 0.5%) Users that have less than 1 test interactions\n",
      "EvaluatorHoldout: Processed 35564 (100.0%) in 31.24 sec. Users per second: 1139\n"
     ]
    },
    {
     "name": "stderr",
     "output_type": "stream",
     "text": [
      "[I 2025-01-04 23:23:47,602] Trial 213 finished with value: 0.05039360254194376 and parameters: {'similarity': 'tversky', 'topK': 30, 'shrink': 36, 'feature_weighting': 'none', 'tversky_alpha': 0.18714767100660107, 'tversky_beta': 1.8689635392321735}. Best is trial 189 with value: 0.052770132207501916.\n"
     ]
    },
    {
     "name": "stdout",
     "output_type": "stream",
     "text": [
      "Similarity column 38121 (100.0%), 2793.66 column/sec. Elapsed time 13.65 sec\n",
      "EvaluatorHoldout: Ignoring 173 ( 0.5%) Users that have less than 1 test interactions\n",
      "EvaluatorHoldout: Processed 35563 (100.0%) in 31.14 sec. Users per second: 1142\n",
      "Similarity column 38121 (100.0%), 2797.84 column/sec. Elapsed time 13.63 sec\n",
      "EvaluatorHoldout: Ignoring 163 ( 0.5%) Users that have less than 1 test interactions\n",
      "EvaluatorHoldout: Processed 35573 (100.0%) in 31.07 sec. Users per second: 1145\n",
      "Similarity column 38121 (100.0%), 2764.98 column/sec. Elapsed time 13.79 sec\n",
      "EvaluatorHoldout: Ignoring 150 ( 0.4%) Users that have less than 1 test interactions\n",
      "EvaluatorHoldout: Processed 35586 (100.0%) in 31.35 sec. Users per second: 1135\n",
      "Similarity column 38121 (100.0%), 2721.39 column/sec. Elapsed time 14.01 sec\n",
      "EvaluatorHoldout: Ignoring 167 ( 0.5%) Users that have less than 1 test interactions\n",
      "EvaluatorHoldout: Processed 35569 (100.0%) in 31.55 sec. Users per second: 1127\n",
      "Similarity column 38121 (100.0%), 2745.05 column/sec. Elapsed time 13.89 sec\n",
      "EvaluatorHoldout: Ignoring 172 ( 0.5%) Users that have less than 1 test interactions\n",
      "EvaluatorHoldout: Processed 35564 (100.0%) in 31.74 sec. Users per second: 1120\n"
     ]
    },
    {
     "name": "stderr",
     "output_type": "stream",
     "text": [
      "[I 2025-01-04 23:27:35,275] Trial 214 finished with value: 0.050921486747334446 and parameters: {'similarity': 'tversky', 'topK': 32, 'shrink': 2, 'feature_weighting': 'none', 'tversky_alpha': 0.13538513582021824, 'tversky_beta': 1.8732042758454222}. Best is trial 189 with value: 0.052770132207501916.\n"
     ]
    },
    {
     "name": "stdout",
     "output_type": "stream",
     "text": [
      "Similarity column 38121 (100.0%), 2696.01 column/sec. Elapsed time 14.14 sec\n",
      "EvaluatorHoldout: Ignoring 173 ( 0.5%) Users that have less than 1 test interactions\n",
      "EvaluatorHoldout: Processed 35563 (100.0%) in 32.82 sec. Users per second: 1084\n",
      "Similarity column 38121 (100.0%), 2710.46 column/sec. Elapsed time 14.06 sec\n",
      "EvaluatorHoldout: Ignoring 163 ( 0.5%) Users that have less than 1 test interactions\n",
      "EvaluatorHoldout: Processed 35573 (100.0%) in 33.01 sec. Users per second: 1078\n",
      "Similarity column 38121 (100.0%), 2681.24 column/sec. Elapsed time 14.22 sec\n",
      "EvaluatorHoldout: Ignoring 150 ( 0.4%) Users that have less than 1 test interactions\n",
      "EvaluatorHoldout: Processed 35586 (100.0%) in 33.05 sec. Users per second: 1077\n",
      "Similarity column 38121 (100.0%), 2709.05 column/sec. Elapsed time 14.07 sec\n",
      "EvaluatorHoldout: Ignoring 167 ( 0.5%) Users that have less than 1 test interactions\n",
      "EvaluatorHoldout: Processed 35569 (100.0%) in 32.99 sec. Users per second: 1078\n",
      "Similarity column 38121 (100.0%), 2690.02 column/sec. Elapsed time 14.17 sec\n",
      "EvaluatorHoldout: Ignoring 172 ( 0.5%) Users that have less than 1 test interactions\n",
      "EvaluatorHoldout: Processed 35564 (100.0%) in 32.88 sec. Users per second: 1082\n"
     ]
    },
    {
     "name": "stderr",
     "output_type": "stream",
     "text": [
      "[I 2025-01-04 23:31:32,878] Trial 215 finished with value: 0.04891709249337225 and parameters: {'similarity': 'tversky', 'topK': 56, 'shrink': 1, 'feature_weighting': 'none', 'tversky_alpha': 0.03631749488720548, 'tversky_beta': 1.7332419177006673}. Best is trial 189 with value: 0.052770132207501916.\n"
     ]
    },
    {
     "name": "stdout",
     "output_type": "stream",
     "text": [
      "Similarity column 38121 (100.0%), 2703.26 column/sec. Elapsed time 14.10 sec\n",
      "EvaluatorHoldout: Ignoring 173 ( 0.5%) Users that have less than 1 test interactions\n",
      "EvaluatorHoldout: Processed 35563 (100.0%) in 35.06 sec. Users per second: 1014\n",
      "Similarity column 38121 (100.0%), 2680.65 column/sec. Elapsed time 14.22 sec\n",
      "EvaluatorHoldout: Ignoring 163 ( 0.5%) Users that have less than 1 test interactions\n",
      "EvaluatorHoldout: Processed 35573 (100.0%) in 35.35 sec. Users per second: 1006\n",
      "Similarity column 38121 (100.0%), 2689.40 column/sec. Elapsed time 14.17 sec\n",
      "EvaluatorHoldout: Ignoring 150 ( 0.4%) Users that have less than 1 test interactions\n",
      "EvaluatorHoldout: Processed 35586 (100.0%) in 35.35 sec. Users per second: 1007\n",
      "Similarity column 38121 (100.0%), 2688.53 column/sec. Elapsed time 14.18 sec\n",
      "EvaluatorHoldout: Ignoring 167 ( 0.5%) Users that have less than 1 test interactions\n",
      "EvaluatorHoldout: Processed 35569 (100.0%) in 35.20 sec. Users per second: 1010\n",
      "Similarity column 38121 (100.0%), 2703.63 column/sec. Elapsed time 14.10 sec\n",
      "EvaluatorHoldout: Ignoring 172 ( 0.5%) Users that have less than 1 test interactions\n",
      "EvaluatorHoldout: Processed 35564 (100.0%) in 35.09 sec. Users per second: 1013\n"
     ]
    },
    {
     "name": "stderr",
     "output_type": "stream",
     "text": [
      "[I 2025-01-04 23:35:42,116] Trial 216 finished with value: 0.04711571482008757 and parameters: {'similarity': 'tversky', 'topK': 91, 'shrink': 20, 'feature_weighting': 'none', 'tversky_alpha': 0.3258259179654841, 'tversky_beta': 1.9020589680919047}. Best is trial 189 with value: 0.052770132207501916.\n"
     ]
    },
    {
     "name": "stdout",
     "output_type": "stream",
     "text": [
      "Similarity column 38121 (100.0%), 2702.44 column/sec. Elapsed time 14.11 sec\n",
      "EvaluatorHoldout: Ignoring 173 ( 0.5%) Users that have less than 1 test interactions\n",
      "EvaluatorHoldout: Processed 35563 (100.0%) in 32.38 sec. Users per second: 1098\n",
      "Similarity column 38121 (100.0%), 2732.00 column/sec. Elapsed time 13.95 sec\n",
      "EvaluatorHoldout: Ignoring 163 ( 0.5%) Users that have less than 1 test interactions\n",
      "EvaluatorHoldout: Processed 35573 (100.0%) in 32.34 sec. Users per second: 1100\n",
      "Similarity column 38121 (100.0%), 2724.39 column/sec. Elapsed time 13.99 sec\n",
      "EvaluatorHoldout: Ignoring 150 ( 0.4%) Users that have less than 1 test interactions\n",
      "EvaluatorHoldout: Processed 35586 (100.0%) in 32.47 sec. Users per second: 1096\n",
      "Similarity column 38121 (100.0%), 2722.26 column/sec. Elapsed time 14.00 sec\n",
      "EvaluatorHoldout: Ignoring 167 ( 0.5%) Users that have less than 1 test interactions\n",
      "EvaluatorHoldout: Processed 35569 (100.0%) in 32.44 sec. Users per second: 1096\n",
      "Similarity column 38121 (100.0%), 2702.85 column/sec. Elapsed time 14.10 sec\n",
      "EvaluatorHoldout: Ignoring 172 ( 0.5%) Users that have less than 1 test interactions\n",
      "EvaluatorHoldout: Processed 35564 (100.0%) in 32.47 sec. Users per second: 1095\n"
     ]
    },
    {
     "name": "stderr",
     "output_type": "stream",
     "text": [
      "[I 2025-01-04 23:39:36,398] Trial 217 finished with value: 0.04995752837612295 and parameters: {'similarity': 'tversky', 'topK': 31, 'shrink': 40, 'feature_weighting': 'none', 'tversky_alpha': 0.12485546572378659, 'tversky_beta': 1.790785475932044}. Best is trial 189 with value: 0.052770132207501916.\n"
     ]
    },
    {
     "name": "stdout",
     "output_type": "stream",
     "text": [
      "Similarity column 38121 (100.0%), 2742.06 column/sec. Elapsed time 13.90 sec\n",
      "EvaluatorHoldout: Ignoring 173 ( 0.5%) Users that have less than 1 test interactions\n",
      "EvaluatorHoldout: Processed 35563 (100.0%) in 33.54 sec. Users per second: 1060\n",
      "Similarity column 38121 (100.0%), 2709.92 column/sec. Elapsed time 14.07 sec\n",
      "EvaluatorHoldout: Ignoring 163 ( 0.5%) Users that have less than 1 test interactions\n",
      "EvaluatorHoldout: Processed 35573 (100.0%) in 33.47 sec. Users per second: 1063\n",
      "Similarity column 38121 (100.0%), 2716.15 column/sec. Elapsed time 14.03 sec\n",
      "EvaluatorHoldout: Ignoring 150 ( 0.4%) Users that have less than 1 test interactions\n",
      "EvaluatorHoldout: Processed 35586 (100.0%) in 33.57 sec. Users per second: 1060\n",
      "Similarity column 38121 (100.0%), 2693.08 column/sec. Elapsed time 14.16 sec\n",
      "EvaluatorHoldout: Ignoring 167 ( 0.5%) Users that have less than 1 test interactions\n",
      "EvaluatorHoldout: Processed 35569 (100.0%) in 33.47 sec. Users per second: 1063\n",
      "Similarity column 38121 (100.0%), 2726.26 column/sec. Elapsed time 13.98 sec\n",
      "EvaluatorHoldout: Ignoring 172 ( 0.5%) Users that have less than 1 test interactions\n",
      "EvaluatorHoldout: Processed 35564 (100.0%) in 33.32 sec. Users per second: 1067\n"
     ]
    },
    {
     "name": "stderr",
     "output_type": "stream",
     "text": [
      "[I 2025-01-04 23:43:36,058] Trial 218 finished with value: 0.04922041848900541 and parameters: {'similarity': 'tversky', 'topK': 61, 'shrink': 0, 'feature_weighting': 'none', 'tversky_alpha': 0.4405927537310546, 'tversky_beta': 1.9040914444520407}. Best is trial 189 with value: 0.052770132207501916.\n"
     ]
    },
    {
     "name": "stdout",
     "output_type": "stream",
     "text": [
      "Similarity column 38121 (100.0%), 2735.68 column/sec. Elapsed time 13.93 sec\n",
      "EvaluatorHoldout: Ignoring 173 ( 0.5%) Users that have less than 1 test interactions\n",
      "EvaluatorHoldout: Processed 35563 (100.0%) in 31.90 sec. Users per second: 1115\n",
      "Similarity column 38121 (100.0%), 2740.65 column/sec. Elapsed time 13.91 sec\n",
      "EvaluatorHoldout: Ignoring 163 ( 0.5%) Users that have less than 1 test interactions\n",
      "EvaluatorHoldout: Processed 35573 (100.0%) in 31.94 sec. Users per second: 1114\n",
      "Similarity column 38121 (100.0%), 2744.48 column/sec. Elapsed time 13.89 sec\n",
      "EvaluatorHoldout: Ignoring 150 ( 0.4%) Users that have less than 1 test interactions\n",
      "EvaluatorHoldout: Processed 35586 (100.0%) in 31.95 sec. Users per second: 1114\n",
      "Similarity column 38121 (100.0%), 2752.68 column/sec. Elapsed time 13.85 sec\n",
      "EvaluatorHoldout: Ignoring 167 ( 0.5%) Users that have less than 1 test interactions\n",
      "EvaluatorHoldout: Processed 35569 (100.0%) in 31.95 sec. Users per second: 1113\n",
      "Similarity column 38121 (100.0%), 2753.03 column/sec. Elapsed time 13.85 sec\n",
      "EvaluatorHoldout: Ignoring 172 ( 0.5%) Users that have less than 1 test interactions\n",
      "EvaluatorHoldout: Processed 35564 (100.0%) in 31.97 sec. Users per second: 1112\n"
     ]
    },
    {
     "name": "stderr",
     "output_type": "stream",
     "text": [
      "[I 2025-01-04 23:47:27,088] Trial 219 finished with value: 0.05102792024432849 and parameters: {'similarity': 'tversky', 'topK': 30, 'shrink': 16, 'feature_weighting': 'none', 'tversky_alpha': 0.30746331487974404, 'tversky_beta': 1.7723761505619657}. Best is trial 189 with value: 0.052770132207501916.\n"
     ]
    },
    {
     "name": "stdout",
     "output_type": "stream",
     "text": [
      "Similarity column 38121 (100.0%), 2735.05 column/sec. Elapsed time 13.94 sec\n",
      "EvaluatorHoldout: Ignoring 173 ( 0.5%) Users that have less than 1 test interactions\n",
      "EvaluatorHoldout: Processed 35563 (100.0%) in 32.97 sec. Users per second: 1079\n",
      "Similarity column 38121 (100.0%), 2758.82 column/sec. Elapsed time 13.82 sec\n",
      "EvaluatorHoldout: Ignoring 163 ( 0.5%) Users that have less than 1 test interactions\n",
      "EvaluatorHoldout: Processed 35573 (100.0%) in 33.10 sec. Users per second: 1075\n",
      "Similarity column 38121 (100.0%), 2742.22 column/sec. Elapsed time 13.90 sec\n",
      "EvaluatorHoldout: Ignoring 150 ( 0.4%) Users that have less than 1 test interactions\n",
      "EvaluatorHoldout: Processed 35586 (100.0%) in 32.97 sec. Users per second: 1079\n",
      "Similarity column 38121 (100.0%), 2751.03 column/sec. Elapsed time 13.86 sec\n",
      "EvaluatorHoldout: Ignoring 167 ( 0.5%) Users that have less than 1 test interactions\n",
      "EvaluatorHoldout: Processed 35569 (100.0%) in 32.83 sec. Users per second: 1083\n",
      "Similarity column 38121 (100.0%), 2740.64 column/sec. Elapsed time 13.91 sec\n",
      "EvaluatorHoldout: Ignoring 172 ( 0.5%) Users that have less than 1 test interactions\n",
      "EvaluatorHoldout: Processed 35564 (100.0%) in 32.98 sec. Users per second: 1078\n"
     ]
    },
    {
     "name": "stderr",
     "output_type": "stream",
     "text": [
      "[I 2025-01-04 23:51:23,404] Trial 220 finished with value: 0.04973127692293931 and parameters: {'similarity': 'tversky', 'topK': 45, 'shrink': 16, 'feature_weighting': 'none', 'tversky_alpha': 0.5572384779995706, 'tversky_beta': 1.7257690950520503}. Best is trial 189 with value: 0.052770132207501916.\n"
     ]
    },
    {
     "name": "stdout",
     "output_type": "stream",
     "text": [
      "Similarity column 38121 (100.0%), 2756.15 column/sec. Elapsed time 13.83 sec\n",
      "EvaluatorHoldout: Ignoring 173 ( 0.5%) Users that have less than 1 test interactions\n",
      "EvaluatorHoldout: Processed 35563 (100.0%) in 31.98 sec. Users per second: 1112\n",
      "Similarity column 38121 (100.0%), 2738.21 column/sec. Elapsed time 13.92 sec\n",
      "EvaluatorHoldout: Ignoring 163 ( 0.5%) Users that have less than 1 test interactions\n",
      "EvaluatorHoldout: Processed 35573 (100.0%) in 31.96 sec. Users per second: 1113\n",
      "Similarity column 38121 (100.0%), 2752.70 column/sec. Elapsed time 13.85 sec\n",
      "EvaluatorHoldout: Ignoring 150 ( 0.4%) Users that have less than 1 test interactions\n",
      "EvaluatorHoldout: Processed 35586 (100.0%) in 32.05 sec. Users per second: 1110\n",
      "Similarity column 38121 (100.0%), 2737.25 column/sec. Elapsed time 13.93 sec\n",
      "EvaluatorHoldout: Ignoring 167 ( 0.5%) Users that have less than 1 test interactions\n",
      "EvaluatorHoldout: Processed 35569 (100.0%) in 32.03 sec. Users per second: 1111\n",
      "Similarity column 38121 (100.0%), 2758.86 column/sec. Elapsed time 13.82 sec\n",
      "EvaluatorHoldout: Ignoring 172 ( 0.5%) Users that have less than 1 test interactions\n",
      "EvaluatorHoldout: Processed 35564 (100.0%) in 32.00 sec. Users per second: 1111\n"
     ]
    },
    {
     "name": "stderr",
     "output_type": "stream",
     "text": [
      "[I 2025-01-04 23:55:14,627] Trial 221 finished with value: 0.05038853822528087 and parameters: {'similarity': 'tversky', 'topK': 28, 'shrink': 43, 'feature_weighting': 'none', 'tversky_alpha': 0.29380022416230916, 'tversky_beta': 1.801418947931833}. Best is trial 189 with value: 0.052770132207501916.\n"
     ]
    },
    {
     "name": "stdout",
     "output_type": "stream",
     "text": [
      "Similarity column 38121 (100.0%), 2747.68 column/sec. Elapsed time 13.87 sec\n",
      "EvaluatorHoldout: Ignoring 173 ( 0.5%) Users that have less than 1 test interactions\n",
      "EvaluatorHoldout: Processed 35563 (100.0%) in 31.69 sec. Users per second: 1122\n",
      "Similarity column 38121 (100.0%), 2760.19 column/sec. Elapsed time 13.81 sec\n",
      "EvaluatorHoldout: Ignoring 163 ( 0.5%) Users that have less than 1 test interactions\n",
      "EvaluatorHoldout: Processed 35573 (100.0%) in 31.62 sec. Users per second: 1125\n",
      "Similarity column 38121 (100.0%), 2770.09 column/sec. Elapsed time 13.76 sec\n",
      "EvaluatorHoldout: Ignoring 150 ( 0.4%) Users that have less than 1 test interactions\n",
      "EvaluatorHoldout: Processed 35586 (100.0%) in 31.75 sec. Users per second: 1121\n",
      "Similarity column 38121 (100.0%), 2754.00 column/sec. Elapsed time 13.84 sec\n",
      "EvaluatorHoldout: Ignoring 167 ( 0.5%) Users that have less than 1 test interactions\n",
      "EvaluatorHoldout: Processed 35569 (100.0%) in 31.70 sec. Users per second: 1122\n",
      "Similarity column 38121 (100.0%), 2764.90 column/sec. Elapsed time 13.79 sec\n",
      "EvaluatorHoldout: Ignoring 172 ( 0.5%) Users that have less than 1 test interactions\n",
      "EvaluatorHoldout: Processed 35564 (100.0%) in 31.50 sec. Users per second: 1129\n"
     ]
    },
    {
     "name": "stderr",
     "output_type": "stream",
     "text": [
      "[I 2025-01-04 23:59:03,805] Trial 222 finished with value: 0.05126283537418349 and parameters: {'similarity': 'tversky', 'topK': 28, 'shrink': 21, 'feature_weighting': 'none', 'tversky_alpha': 0.20590378883091076, 'tversky_beta': 1.9153599923871736}. Best is trial 189 with value: 0.052770132207501916.\n"
     ]
    },
    {
     "name": "stdout",
     "output_type": "stream",
     "text": [
      "Similarity column 38121 (100.0%), 2755.49 column/sec. Elapsed time 13.83 sec\n",
      "EvaluatorHoldout: Ignoring 173 ( 0.5%) Users that have less than 1 test interactions\n",
      "EvaluatorHoldout: Processed 35563 (100.0%) in 31.24 sec. Users per second: 1138\n",
      "Similarity column 38121 (100.0%), 2759.86 column/sec. Elapsed time 13.81 sec\n",
      "EvaluatorHoldout: Ignoring 163 ( 0.5%) Users that have less than 1 test interactions\n",
      "EvaluatorHoldout: Processed 35573 (100.0%) in 31.33 sec. Users per second: 1135\n",
      "Similarity column 38121 (100.0%), 2748.72 column/sec. Elapsed time 13.87 sec\n",
      "EvaluatorHoldout: Ignoring 150 ( 0.4%) Users that have less than 1 test interactions\n",
      "EvaluatorHoldout: Processed 35586 (100.0%) in 31.44 sec. Users per second: 1132\n",
      "Similarity column 38121 (100.0%), 2716.62 column/sec. Elapsed time 14.03 sec\n",
      "EvaluatorHoldout: Ignoring 167 ( 0.5%) Users that have less than 1 test interactions\n",
      "EvaluatorHoldout: Processed 35569 (100.0%) in 31.67 sec. Users per second: 1123\n",
      "Similarity column 38121 (100.0%), 2764.17 column/sec. Elapsed time 13.79 sec\n",
      "EvaluatorHoldout: Ignoring 172 ( 0.5%) Users that have less than 1 test interactions\n",
      "EvaluatorHoldout: Processed 35564 (100.0%) in 31.44 sec. Users per second: 1131\n"
     ]
    },
    {
     "name": "stderr",
     "output_type": "stream",
     "text": [
      "[I 2025-01-05 00:02:52,085] Trial 223 finished with value: 0.051778250982194365 and parameters: {'similarity': 'tversky', 'topK': 25, 'shrink': 16, 'feature_weighting': 'none', 'tversky_alpha': 0.17931953544519744, 'tversky_beta': 1.9308088328737163}. Best is trial 189 with value: 0.052770132207501916.\n"
     ]
    },
    {
     "name": "stdout",
     "output_type": "stream",
     "text": [
      "Similarity column 38121 (100.0%), 2757.33 column/sec. Elapsed time 13.83 sec\n",
      "EvaluatorHoldout: Ignoring 173 ( 0.5%) Users that have less than 1 test interactions\n",
      "EvaluatorHoldout: Processed 35563 (100.0%) in 31.46 sec. Users per second: 1130\n",
      "Similarity column 38121 (100.0%), 2746.26 column/sec. Elapsed time 13.88 sec\n",
      "EvaluatorHoldout: Ignoring 163 ( 0.5%) Users that have less than 1 test interactions\n",
      "EvaluatorHoldout: Processed 35573 (100.0%) in 31.39 sec. Users per second: 1133\n",
      "Similarity column 38121 (100.0%), 2734.50 column/sec. Elapsed time 13.94 sec\n",
      "EvaluatorHoldout: Ignoring 150 ( 0.4%) Users that have less than 1 test interactions\n",
      "EvaluatorHoldout: Processed 35586 (100.0%) in 31.59 sec. Users per second: 1126\n",
      "Similarity column 38121 (100.0%), 2737.01 column/sec. Elapsed time 13.93 sec\n",
      "EvaluatorHoldout: Ignoring 167 ( 0.5%) Users that have less than 1 test interactions\n",
      "EvaluatorHoldout: Processed 35569 (100.0%) in 31.67 sec. Users per second: 1123\n",
      "Similarity column 38121 (100.0%), 2722.82 column/sec. Elapsed time 14.00 sec\n",
      "EvaluatorHoldout: Ignoring 172 ( 0.5%) Users that have less than 1 test interactions\n",
      "EvaluatorHoldout: Processed 35564 (100.0%) in 31.86 sec. Users per second: 1116\n"
     ]
    },
    {
     "name": "stderr",
     "output_type": "stream",
     "text": [
      "[I 2025-01-05 00:06:41,490] Trial 224 finished with value: 0.05169413881766273 and parameters: {'similarity': 'tversky', 'topK': 24, 'shrink': 23, 'feature_weighting': 'none', 'tversky_alpha': 0.17170556194507863, 'tversky_beta': 1.9429468680096829}. Best is trial 189 with value: 0.052770132207501916.\n"
     ]
    },
    {
     "name": "stdout",
     "output_type": "stream",
     "text": [
      "Similarity column 38121 (100.0%), 2730.47 column/sec. Elapsed time 13.96 sec\n",
      "EvaluatorHoldout: Ignoring 173 ( 0.5%) Users that have less than 1 test interactions\n",
      "EvaluatorHoldout: Processed 35563 (100.0%) in 32.33 sec. Users per second: 1100\n",
      "Similarity column 38121 (100.0%), 2693.98 column/sec. Elapsed time 14.15 sec\n",
      "EvaluatorHoldout: Ignoring 163 ( 0.5%) Users that have less than 1 test interactions\n",
      "EvaluatorHoldout: Processed 35573 (100.0%) in 32.26 sec. Users per second: 1103\n",
      "Similarity column 38121 (100.0%), 2724.41 column/sec. Elapsed time 13.99 sec\n",
      "EvaluatorHoldout: Ignoring 150 ( 0.4%) Users that have less than 1 test interactions\n",
      "EvaluatorHoldout: Processed 35586 (100.0%) in 32.15 sec. Users per second: 1107\n",
      "Similarity column 38121 (100.0%), 2737.92 column/sec. Elapsed time 13.92 sec\n",
      "EvaluatorHoldout: Ignoring 167 ( 0.5%) Users that have less than 1 test interactions\n",
      "EvaluatorHoldout: Processed 35569 (100.0%) in 31.97 sec. Users per second: 1113\n",
      "Similarity column 38121 (100.0%), 2723.53 column/sec. Elapsed time 14.00 sec\n",
      "EvaluatorHoldout: Ignoring 172 ( 0.5%) Users that have less than 1 test interactions\n",
      "EvaluatorHoldout: Processed 35564 (100.0%) in 32.04 sec. Users per second: 1110\n"
     ]
    },
    {
     "name": "stderr",
     "output_type": "stream",
     "text": [
      "[I 2025-01-05 00:10:34,186] Trial 225 finished with value: 0.050889642540877744 and parameters: {'similarity': 'tversky', 'topK': 25, 'shrink': 45, 'feature_weighting': 'none', 'tversky_alpha': 0.17391382380234852, 'tversky_beta': 1.9990504595285787}. Best is trial 189 with value: 0.052770132207501916.\n"
     ]
    },
    {
     "name": "stdout",
     "output_type": "stream",
     "text": [
      "Similarity column 38121 (100.0%), 2742.02 column/sec. Elapsed time 13.90 sec\n",
      "EvaluatorHoldout: Ignoring 173 ( 0.5%) Users that have less than 1 test interactions\n",
      "EvaluatorHoldout: Processed 35563 (100.0%) in 31.61 sec. Users per second: 1125\n",
      "Similarity column 38121 (100.0%), 2716.97 column/sec. Elapsed time 14.03 sec\n",
      "EvaluatorHoldout: Ignoring 163 ( 0.5%) Users that have less than 1 test interactions\n",
      "EvaluatorHoldout: Processed 35573 (100.0%) in 31.54 sec. Users per second: 1128\n",
      "Similarity column 38121 (100.0%), 2745.00 column/sec. Elapsed time 13.89 sec\n",
      "EvaluatorHoldout: Ignoring 150 ( 0.4%) Users that have less than 1 test interactions\n",
      "EvaluatorHoldout: Processed 35586 (100.0%) in 31.60 sec. Users per second: 1126\n",
      "Similarity column 38121 (100.0%), 2726.12 column/sec. Elapsed time 13.98 sec\n",
      "EvaluatorHoldout: Ignoring 167 ( 0.5%) Users that have less than 1 test interactions\n",
      "EvaluatorHoldout: Processed 35569 (100.0%) in 31.68 sec. Users per second: 1123\n",
      "Similarity column 38121 (100.0%), 2743.74 column/sec. Elapsed time 13.89 sec\n",
      "EvaluatorHoldout: Ignoring 172 ( 0.5%) Users that have less than 1 test interactions\n",
      "EvaluatorHoldout: Processed 35564 (100.0%) in 31.71 sec. Users per second: 1122\n"
     ]
    },
    {
     "name": "stderr",
     "output_type": "stream",
     "text": [
      "[I 2025-01-05 00:14:23,898] Trial 226 finished with value: 0.05130924006573032 and parameters: {'similarity': 'tversky', 'topK': 21, 'shrink': 47, 'feature_weighting': 'none', 'tversky_alpha': 0.16002591709589187, 'tversky_beta': 1.988269076168496}. Best is trial 189 with value: 0.052770132207501916.\n"
     ]
    },
    {
     "name": "stdout",
     "output_type": "stream",
     "text": [
      "Similarity column 38121 (100.0%), 2723.86 column/sec. Elapsed time 14.00 sec\n",
      "EvaluatorHoldout: Ignoring 173 ( 0.5%) Users that have less than 1 test interactions\n",
      "EvaluatorHoldout: Processed 35563 (100.0%) in 31.89 sec. Users per second: 1115\n",
      "Similarity column 38121 (100.0%), 2734.03 column/sec. Elapsed time 13.94 sec\n",
      "EvaluatorHoldout: Ignoring 163 ( 0.5%) Users that have less than 1 test interactions\n",
      "EvaluatorHoldout: Processed 35573 (100.0%) in 31.82 sec. Users per second: 1118\n",
      "Similarity column 38121 (100.0%), 2742.89 column/sec. Elapsed time 13.90 sec\n",
      "EvaluatorHoldout: Ignoring 150 ( 0.4%) Users that have less than 1 test interactions\n",
      "EvaluatorHoldout: Processed 35586 (100.0%) in 31.71 sec. Users per second: 1122\n",
      "Similarity column 38121 (100.0%), 2738.35 column/sec. Elapsed time 13.92 sec\n",
      "EvaluatorHoldout: Ignoring 167 ( 0.5%) Users that have less than 1 test interactions\n",
      "EvaluatorHoldout: Processed 35569 (100.0%) in 31.60 sec. Users per second: 1126\n",
      "Similarity column 38121 (100.0%), 2748.05 column/sec. Elapsed time 13.87 sec\n",
      "EvaluatorHoldout: Ignoring 172 ( 0.5%) Users that have less than 1 test interactions\n",
      "EvaluatorHoldout: Processed 35564 (100.0%) in 31.96 sec. Users per second: 1113\n"
     ]
    },
    {
     "name": "stderr",
     "output_type": "stream",
     "text": [
      "[I 2025-01-05 00:18:14,345] Trial 227 finished with value: 0.05112273381674017 and parameters: {'similarity': 'tversky', 'topK': 22, 'shrink': 48, 'feature_weighting': 'none', 'tversky_alpha': 0.1510898700186708, 'tversky_beta': 1.9865190491277114}. Best is trial 189 with value: 0.052770132207501916.\n"
     ]
    },
    {
     "name": "stdout",
     "output_type": "stream",
     "text": [
      "Similarity column 38121 (100.0%), 2697.59 column/sec. Elapsed time 14.13 sec\n",
      "EvaluatorHoldout: Ignoring 173 ( 0.5%) Users that have less than 1 test interactions\n",
      "EvaluatorHoldout: Processed 35563 (100.0%) in 34.10 sec. Users per second: 1043\n",
      "Similarity column 38121 (100.0%), 2684.57 column/sec. Elapsed time 14.20 sec\n",
      "EvaluatorHoldout: Ignoring 163 ( 0.5%) Users that have less than 1 test interactions\n",
      "EvaluatorHoldout: Processed 35573 (100.0%) in 34.01 sec. Users per second: 1046\n",
      "Similarity column 38121 (100.0%), 2691.99 column/sec. Elapsed time 14.16 sec\n",
      "EvaluatorHoldout: Ignoring 150 ( 0.4%) Users that have less than 1 test interactions\n",
      "EvaluatorHoldout: Processed 35586 (100.0%) in 34.01 sec. Users per second: 1046\n",
      "Similarity column 38121 (100.0%), 2709.78 column/sec. Elapsed time 14.07 sec\n",
      "EvaluatorHoldout: Ignoring 167 ( 0.5%) Users that have less than 1 test interactions\n",
      "EvaluatorHoldout: Processed 35569 (100.0%) in 33.73 sec. Users per second: 1054\n",
      "Similarity column 38121 (100.0%), 2678.47 column/sec. Elapsed time 14.23 sec\n",
      "EvaluatorHoldout: Ignoring 172 ( 0.5%) Users that have less than 1 test interactions\n",
      "EvaluatorHoldout: Processed 35564 (100.0%) in 33.70 sec. Users per second: 1055\n"
     ]
    },
    {
     "name": "stderr",
     "output_type": "stream",
     "text": [
      "[I 2025-01-05 00:22:16,855] Trial 228 finished with value: 0.048247156201741616 and parameters: {'similarity': 'tversky', 'topK': 50, 'shrink': 44, 'feature_weighting': 'none', 'tversky_alpha': 0.15803279102651313, 'tversky_beta': 1.968849403980889}. Best is trial 189 with value: 0.052770132207501916.\n"
     ]
    },
    {
     "name": "stdout",
     "output_type": "stream",
     "text": [
      "Similarity column 38121 (100.0%), 2737.58 column/sec. Elapsed time 13.93 sec\n",
      "EvaluatorHoldout: Ignoring 173 ( 0.5%) Users that have less than 1 test interactions\n",
      "EvaluatorHoldout: Processed 35563 (100.0%) in 31.75 sec. Users per second: 1120\n",
      "Similarity column 38121 (100.0%), 2716.52 column/sec. Elapsed time 14.03 sec\n",
      "EvaluatorHoldout: Ignoring 163 ( 0.5%) Users that have less than 1 test interactions\n",
      "EvaluatorHoldout: Processed 35573 (100.0%) in 31.94 sec. Users per second: 1114\n",
      "Similarity column 38121 (100.0%), 2725.31 column/sec. Elapsed time 13.99 sec\n",
      "EvaluatorHoldout: Ignoring 150 ( 0.4%) Users that have less than 1 test interactions\n",
      "EvaluatorHoldout: Processed 35586 (100.0%) in 31.73 sec. Users per second: 1121\n",
      "Similarity column 38121 (100.0%), 2739.89 column/sec. Elapsed time 13.91 sec\n",
      "EvaluatorHoldout: Ignoring 167 ( 0.5%) Users that have less than 1 test interactions\n",
      "EvaluatorHoldout: Processed 35569 (100.0%) in 31.65 sec. Users per second: 1124\n",
      "Similarity column 38121 (100.0%), 2754.67 column/sec. Elapsed time 13.84 sec\n",
      "EvaluatorHoldout: Ignoring 172 ( 0.5%) Users that have less than 1 test interactions\n",
      "EvaluatorHoldout: Processed 35564 (100.0%) in 31.57 sec. Users per second: 1126\n"
     ]
    },
    {
     "name": "stderr",
     "output_type": "stream",
     "text": [
      "[I 2025-01-05 00:26:07,111] Trial 229 finished with value: 0.05121506243504324 and parameters: {'similarity': 'tversky', 'topK': 22, 'shrink': 45, 'feature_weighting': 'none', 'tversky_alpha': 0.11269564845068722, 'tversky_beta': 1.9845186807437316}. Best is trial 189 with value: 0.052770132207501916.\n"
     ]
    },
    {
     "name": "stdout",
     "output_type": "stream",
     "text": [
      "Similarity column 38121 (100.0%), 2695.48 column/sec. Elapsed time 14.14 sec\n",
      "EvaluatorHoldout: Ignoring 173 ( 0.5%) Users that have less than 1 test interactions\n",
      "EvaluatorHoldout: Processed 35563 (100.0%) in 31.94 sec. Users per second: 1114\n",
      "Similarity column 38121 (100.0%), 2739.64 column/sec. Elapsed time 13.91 sec\n",
      "EvaluatorHoldout: Ignoring 163 ( 0.5%) Users that have less than 1 test interactions\n",
      "EvaluatorHoldout: Processed 35573 (100.0%) in 31.99 sec. Users per second: 1112\n",
      "Similarity column 38121 (100.0%), 2739.86 column/sec. Elapsed time 13.91 sec\n",
      "EvaluatorHoldout: Ignoring 150 ( 0.4%) Users that have less than 1 test interactions\n",
      "EvaluatorHoldout: Processed 35586 (100.0%) in 31.98 sec. Users per second: 1113\n",
      "Similarity column 38121 (100.0%), 2727.68 column/sec. Elapsed time 13.98 sec\n",
      "EvaluatorHoldout: Ignoring 167 ( 0.5%) Users that have less than 1 test interactions\n",
      "EvaluatorHoldout: Processed 35569 (100.0%) in 31.94 sec. Users per second: 1113\n",
      "Similarity column 38121 (100.0%), 2751.52 column/sec. Elapsed time 13.85 sec\n",
      "EvaluatorHoldout: Ignoring 172 ( 0.5%) Users that have less than 1 test interactions\n",
      "EvaluatorHoldout: Processed 35564 (100.0%) in 31.82 sec. Users per second: 1118\n"
     ]
    },
    {
     "name": "stderr",
     "output_type": "stream",
     "text": [
      "[I 2025-01-05 00:29:58,453] Trial 230 finished with value: 0.05051766722476123 and parameters: {'similarity': 'tversky', 'topK': 25, 'shrink': 52, 'feature_weighting': 'none', 'tversky_alpha': 0.09014464492105179, 'tversky_beta': 1.999829780862566}. Best is trial 189 with value: 0.052770132207501916.\n"
     ]
    },
    {
     "name": "stdout",
     "output_type": "stream",
     "text": [
      "Similarity column 38121 (100.0%), 2727.37 column/sec. Elapsed time 13.98 sec\n",
      "EvaluatorHoldout: Ignoring 173 ( 0.5%) Users that have less than 1 test interactions\n",
      "EvaluatorHoldout: Processed 35563 (100.0%) in 31.55 sec. Users per second: 1127\n",
      "Similarity column 38121 (100.0%), 2758.91 column/sec. Elapsed time 13.82 sec\n",
      "EvaluatorHoldout: Ignoring 163 ( 0.5%) Users that have less than 1 test interactions\n",
      "EvaluatorHoldout: Processed 35573 (100.0%) in 31.47 sec. Users per second: 1130\n",
      "Similarity column 38121 (100.0%), 2728.39 column/sec. Elapsed time 13.97 sec\n",
      "EvaluatorHoldout: Ignoring 150 ( 0.4%) Users that have less than 1 test interactions\n",
      "EvaluatorHoldout: Processed 35586 (100.0%) in 31.55 sec. Users per second: 1128\n",
      "Similarity column 38121 (100.0%), 2757.47 column/sec. Elapsed time 13.82 sec\n",
      "EvaluatorHoldout: Ignoring 167 ( 0.5%) Users that have less than 1 test interactions\n",
      "EvaluatorHoldout: Processed 35569 (100.0%) in 31.60 sec. Users per second: 1126\n",
      "Similarity column 38121 (100.0%), 2742.42 column/sec. Elapsed time 13.90 sec\n",
      "EvaluatorHoldout: Ignoring 172 ( 0.5%) Users that have less than 1 test interactions\n",
      "EvaluatorHoldout: Processed 35564 (100.0%) in 31.56 sec. Users per second: 1127\n"
     ]
    },
    {
     "name": "stderr",
     "output_type": "stream",
     "text": [
      "[I 2025-01-05 00:33:47,510] Trial 231 finished with value: 0.05124083401322201 and parameters: {'similarity': 'tversky', 'topK': 21, 'shrink': 47, 'feature_weighting': 'none', 'tversky_alpha': 0.187151476618603, 'tversky_beta': 1.9151404997178978}. Best is trial 189 with value: 0.052770132207501916.\n"
     ]
    },
    {
     "name": "stdout",
     "output_type": "stream",
     "text": [
      "Similarity column 38121 (100.0%), 2749.45 column/sec. Elapsed time 13.86 sec\n",
      "EvaluatorHoldout: Ignoring 173 ( 0.5%) Users that have less than 1 test interactions\n",
      "EvaluatorHoldout: Processed 35563 (100.0%) in 31.77 sec. Users per second: 1119\n",
      "Similarity column 38121 (100.0%), 2752.27 column/sec. Elapsed time 13.85 sec\n",
      "EvaluatorHoldout: Ignoring 163 ( 0.5%) Users that have less than 1 test interactions\n",
      "EvaluatorHoldout: Processed 35573 (100.0%) in 31.75 sec. Users per second: 1121\n",
      "Similarity column 38121 (100.0%), 2740.52 column/sec. Elapsed time 13.91 sec\n",
      "EvaluatorHoldout: Ignoring 150 ( 0.4%) Users that have less than 1 test interactions\n",
      "EvaluatorHoldout: Processed 35586 (100.0%) in 31.79 sec. Users per second: 1119\n",
      "Similarity column 38121 (100.0%), 2759.15 column/sec. Elapsed time 13.82 sec\n",
      "EvaluatorHoldout: Ignoring 167 ( 0.5%) Users that have less than 1 test interactions\n",
      "EvaluatorHoldout: Processed 35569 (100.0%) in 31.76 sec. Users per second: 1120\n",
      "Similarity column 38121 (100.0%), 2742.58 column/sec. Elapsed time 13.90 sec\n",
      "EvaluatorHoldout: Ignoring 172 ( 0.5%) Users that have less than 1 test interactions\n",
      "EvaluatorHoldout: Processed 35564 (100.0%) in 31.73 sec. Users per second: 1121\n"
     ]
    },
    {
     "name": "stderr",
     "output_type": "stream",
     "text": [
      "[I 2025-01-05 00:37:37,512] Trial 232 finished with value: 0.050911436434536786 and parameters: {'similarity': 'tversky', 'topK': 24, 'shrink': 45, 'feature_weighting': 'none', 'tversky_alpha': 0.1984998870842302, 'tversky_beta': 1.9157090461621389}. Best is trial 189 with value: 0.052770132207501916.\n"
     ]
    },
    {
     "name": "stdout",
     "output_type": "stream",
     "text": [
      "Similarity column 38121 (100.0%), 2754.69 column/sec. Elapsed time 13.84 sec\n",
      "EvaluatorHoldout: Ignoring 173 ( 0.5%) Users that have less than 1 test interactions\n",
      "EvaluatorHoldout: Processed 35563 (100.0%) in 31.56 sec. Users per second: 1127\n",
      "Similarity column 38121 (100.0%), 2732.98 column/sec. Elapsed time 13.95 sec\n",
      "EvaluatorHoldout: Ignoring 163 ( 0.5%) Users that have less than 1 test interactions\n",
      "EvaluatorHoldout: Processed 35573 (100.0%) in 31.59 sec. Users per second: 1126\n",
      "Similarity column 38121 (100.0%), 2751.55 column/sec. Elapsed time 13.85 sec\n",
      "EvaluatorHoldout: Ignoring 150 ( 0.4%) Users that have less than 1 test interactions\n",
      "EvaluatorHoldout: Processed 35586 (100.0%) in 31.61 sec. Users per second: 1126\n",
      "Similarity column 38121 (100.0%), 2758.78 column/sec. Elapsed time 13.82 sec\n",
      "EvaluatorHoldout: Ignoring 167 ( 0.5%) Users that have less than 1 test interactions\n",
      "EvaluatorHoldout: Processed 35569 (100.0%) in 31.53 sec. Users per second: 1128\n",
      "Similarity column 38121 (100.0%), 2739.67 column/sec. Elapsed time 13.91 sec\n",
      "EvaluatorHoldout: Ignoring 172 ( 0.5%) Users that have less than 1 test interactions\n",
      "EvaluatorHoldout: Processed 35564 (100.0%) in 31.60 sec. Users per second: 1125\n"
     ]
    },
    {
     "name": "stderr",
     "output_type": "stream",
     "text": [
      "[I 2025-01-05 00:41:26,589] Trial 233 finished with value: 0.05107694519486827 and parameters: {'similarity': 'tversky', 'topK': 21, 'shrink': 51, 'feature_weighting': 'none', 'tversky_alpha': 0.15711071075963084, 'tversky_beta': 1.9206812018231776}. Best is trial 189 with value: 0.052770132207501916.\n"
     ]
    },
    {
     "name": "stdout",
     "output_type": "stream",
     "text": [
      "Similarity column 38121 (100.0%), 2760.17 column/sec. Elapsed time 13.81 sec\n",
      "EvaluatorHoldout: Ignoring 173 ( 0.5%) Users that have less than 1 test interactions\n",
      "EvaluatorHoldout: Processed 35563 (100.0%) in 31.52 sec. Users per second: 1128\n",
      "Similarity column 38121 (100.0%), 2741.80 column/sec. Elapsed time 13.90 sec\n",
      "EvaluatorHoldout: Ignoring 163 ( 0.5%) Users that have less than 1 test interactions\n",
      "EvaluatorHoldout: Processed 35573 (100.0%) in 31.46 sec. Users per second: 1131\n",
      "Similarity column 38121 (100.0%), 2748.71 column/sec. Elapsed time 13.87 sec\n",
      "EvaluatorHoldout: Ignoring 150 ( 0.4%) Users that have less than 1 test interactions\n",
      "EvaluatorHoldout: Processed 35586 (100.0%) in 31.51 sec. Users per second: 1129\n",
      "Similarity column 38121 (100.0%), 2734.53 column/sec. Elapsed time 13.94 sec\n",
      "EvaluatorHoldout: Ignoring 167 ( 0.5%) Users that have less than 1 test interactions\n",
      "EvaluatorHoldout: Processed 35569 (100.0%) in 31.45 sec. Users per second: 1131\n",
      "Similarity column 38121 (100.0%), 2754.12 column/sec. Elapsed time 13.84 sec\n",
      "EvaluatorHoldout: Ignoring 172 ( 0.5%) Users that have less than 1 test interactions\n",
      "EvaluatorHoldout: Processed 35564 (100.0%) in 31.48 sec. Users per second: 1130\n"
     ]
    },
    {
     "name": "stderr",
     "output_type": "stream",
     "text": [
      "[I 2025-01-05 00:45:15,210] Trial 234 finished with value: 0.05080826109915465 and parameters: {'similarity': 'tversky', 'topK': 22, 'shrink': 52, 'feature_weighting': 'none', 'tversky_alpha': 0.008422713390628722, 'tversky_beta': 1.929131298720499}. Best is trial 189 with value: 0.052770132207501916.\n"
     ]
    },
    {
     "name": "stdout",
     "output_type": "stream",
     "text": [
      "Similarity column 38121 (100.0%), 2751.75 column/sec. Elapsed time 13.85 sec\n",
      "EvaluatorHoldout: Ignoring 173 ( 0.5%) Users that have less than 1 test interactions\n",
      "EvaluatorHoldout: Processed 35563 (100.0%) in 33.46 sec. Users per second: 1063\n",
      "Similarity column 38121 (100.0%), 2745.96 column/sec. Elapsed time 13.88 sec\n",
      "EvaluatorHoldout: Ignoring 163 ( 0.5%) Users that have less than 1 test interactions\n",
      "EvaluatorHoldout: Processed 35573 (100.0%) in 33.38 sec. Users per second: 1066\n",
      "Similarity column 38121 (100.0%), 2733.06 column/sec. Elapsed time 13.95 sec\n",
      "EvaluatorHoldout: Ignoring 150 ( 0.4%) Users that have less than 1 test interactions\n",
      "EvaluatorHoldout: Processed 35586 (100.0%) in 33.60 sec. Users per second: 1059\n",
      "Similarity column 38121 (100.0%), 2714.92 column/sec. Elapsed time 14.04 sec\n",
      "EvaluatorHoldout: Ignoring 167 ( 0.5%) Users that have less than 1 test interactions\n",
      "EvaluatorHoldout: Processed 35569 (100.0%) in 33.54 sec. Users per second: 1061\n",
      "Similarity column 38121 (100.0%), 2741.00 column/sec. Elapsed time 13.91 sec\n",
      "EvaluatorHoldout: Ignoring 172 ( 0.5%) Users that have less than 1 test interactions\n",
      "EvaluatorHoldout: Processed 35564 (100.0%) in 33.63 sec. Users per second: 1057\n"
     ]
    },
    {
     "name": "stderr",
     "output_type": "stream",
     "text": [
      "[I 2025-01-05 00:49:14,573] Trial 235 finished with value: 0.04784381402931958 and parameters: {'similarity': 'tversky', 'topK': 49, 'shrink': 54, 'feature_weighting': 'none', 'tversky_alpha': 0.17509794304417092, 'tversky_beta': 1.9315431943636736}. Best is trial 189 with value: 0.052770132207501916.\n"
     ]
    },
    {
     "name": "stdout",
     "output_type": "stream",
     "text": [
      "Similarity column 38121 (100.0%), 2729.48 column/sec. Elapsed time 13.97 sec\n",
      "EvaluatorHoldout: Ignoring 173 ( 0.5%) Users that have less than 1 test interactions\n",
      "EvaluatorHoldout: Processed 35563 (100.0%) in 33.12 sec. Users per second: 1074\n",
      "Similarity column 38121 (100.0%), 2711.14 column/sec. Elapsed time 14.06 sec\n",
      "EvaluatorHoldout: Ignoring 163 ( 0.5%) Users that have less than 1 test interactions\n",
      "EvaluatorHoldout: Processed 35573 (100.0%) in 33.33 sec. Users per second: 1067\n",
      "Similarity column 38121 (100.0%), 2733.44 column/sec. Elapsed time 13.95 sec\n",
      "EvaluatorHoldout: Ignoring 150 ( 0.4%) Users that have less than 1 test interactions\n",
      "EvaluatorHoldout: Processed 35586 (100.0%) in 33.07 sec. Users per second: 1076\n",
      "Similarity column 38121 (100.0%), 2734.94 column/sec. Elapsed time 13.94 sec\n",
      "EvaluatorHoldout: Ignoring 167 ( 0.5%) Users that have less than 1 test interactions\n",
      "EvaluatorHoldout: Processed 35569 (100.0%) in 33.10 sec. Users per second: 1075\n",
      "Similarity column 38121 (100.0%), 2727.61 column/sec. Elapsed time 13.98 sec\n",
      "EvaluatorHoldout: Ignoring 172 ( 0.5%) Users that have less than 1 test interactions\n",
      "EvaluatorHoldout: Processed 35564 (100.0%) in 33.02 sec. Users per second: 1077\n"
     ]
    },
    {
     "name": "stderr",
     "output_type": "stream",
     "text": [
      "[I 2025-01-05 00:53:12,155] Trial 236 finished with value: 0.04868276479117052 and parameters: {'similarity': 'tversky', 'topK': 45, 'shrink': 43, 'feature_weighting': 'none', 'tversky_alpha': 0.12332851520436437, 'tversky_beta': 1.9986944801978141}. Best is trial 189 with value: 0.052770132207501916.\n"
     ]
    },
    {
     "name": "stdout",
     "output_type": "stream",
     "text": [
      "Similarity column 38121 (100.0%), 2749.04 column/sec. Elapsed time 13.87 sec\n",
      "EvaluatorHoldout: Ignoring 173 ( 0.5%) Users that have less than 1 test interactions\n",
      "EvaluatorHoldout: Processed 35563 (100.0%) in 32.00 sec. Users per second: 1111\n",
      "Similarity column 38121 (100.0%), 2728.88 column/sec. Elapsed time 13.97 sec\n",
      "EvaluatorHoldout: Ignoring 163 ( 0.5%) Users that have less than 1 test interactions\n",
      "EvaluatorHoldout: Processed 35573 (100.0%) in 31.89 sec. Users per second: 1116\n",
      "Similarity column 38121 (100.0%), 2747.19 column/sec. Elapsed time 13.88 sec\n",
      "EvaluatorHoldout: Ignoring 150 ( 0.4%) Users that have less than 1 test interactions\n",
      "EvaluatorHoldout: Processed 35586 (100.0%) in 31.90 sec. Users per second: 1116\n",
      "Similarity column 38121 (100.0%), 2718.21 column/sec. Elapsed time 14.02 sec\n",
      "EvaluatorHoldout: Ignoring 167 ( 0.5%) Users that have less than 1 test interactions\n",
      "EvaluatorHoldout: Processed 35569 (100.0%) in 32.07 sec. Users per second: 1109\n",
      "Similarity column 38121 (100.0%), 2739.06 column/sec. Elapsed time 13.92 sec\n",
      "EvaluatorHoldout: Ignoring 172 ( 0.5%) Users that have less than 1 test interactions\n",
      "EvaluatorHoldout: Processed 35564 (100.0%) in 32.02 sec. Users per second: 1111\n"
     ]
    },
    {
     "name": "stderr",
     "output_type": "stream",
     "text": [
      "[I 2025-01-05 00:57:03,531] Trial 237 finished with value: 0.050435703298782 and parameters: {'similarity': 'tversky', 'topK': 23, 'shrink': 59, 'feature_weighting': 'none', 'tversky_alpha': 0.18162968220912284, 'tversky_beta': 1.9075339212081697}. Best is trial 189 with value: 0.052770132207501916.\n"
     ]
    },
    {
     "name": "stdout",
     "output_type": "stream",
     "text": [
      "Similarity column 38121 (100.0%), 2727.51 column/sec. Elapsed time 13.98 sec\n",
      "EvaluatorHoldout: Ignoring 173 ( 0.5%) Users that have less than 1 test interactions\n",
      "EvaluatorHoldout: Processed 35563 (100.0%) in 31.12 sec. Users per second: 1143\n",
      "Similarity column 38121 (100.0%), 2735.26 column/sec. Elapsed time 13.94 sec\n",
      "EvaluatorHoldout: Ignoring 163 ( 0.5%) Users that have less than 1 test interactions\n",
      "EvaluatorHoldout: Processed 35573 (100.0%) in 31.04 sec. Users per second: 1146\n",
      "Similarity column 38121 (100.0%), 2732.05 column/sec. Elapsed time 13.95 sec\n",
      "EvaluatorHoldout: Ignoring 150 ( 0.4%) Users that have less than 1 test interactions\n",
      "EvaluatorHoldout: Processed 35586 (100.0%) in 31.23 sec. Users per second: 1140\n",
      "Similarity column 38121 (100.0%), 2720.70 column/sec. Elapsed time 14.01 sec\n",
      "EvaluatorHoldout: Ignoring 167 ( 0.5%) Users that have less than 1 test interactions\n",
      "EvaluatorHoldout: Processed 35569 (100.0%) in 31.07 sec. Users per second: 1145\n",
      "Similarity column 38121 (100.0%), 2746.51 column/sec. Elapsed time 13.88 sec\n",
      "EvaluatorHoldout: Ignoring 172 ( 0.5%) Users that have less than 1 test interactions\n",
      "EvaluatorHoldout: Processed 35564 (100.0%) in 31.06 sec. Users per second: 1145\n"
     ]
    },
    {
     "name": "stderr",
     "output_type": "stream",
     "text": [
      "[I 2025-01-05 01:00:50,664] Trial 238 finished with value: 0.05143864758675326 and parameters: {'similarity': 'tversky', 'topK': 24, 'shrink': 2, 'feature_weighting': 'none', 'tversky_alpha': 0.07742530723563659, 'tversky_beta': 1.916877099332216}. Best is trial 189 with value: 0.052770132207501916.\n"
     ]
    },
    {
     "name": "stdout",
     "output_type": "stream",
     "text": [
      "Similarity column 38121 (100.0%), 2733.74 column/sec. Elapsed time 13.94 sec\n",
      "EvaluatorHoldout: Ignoring 173 ( 0.5%) Users that have less than 1 test interactions\n",
      "EvaluatorHoldout: Processed 35563 (100.0%) in 30.71 sec. Users per second: 1158\n",
      "Similarity column 38121 (100.0%), 2746.99 column/sec. Elapsed time 13.88 sec\n",
      "EvaluatorHoldout: Ignoring 163 ( 0.5%) Users that have less than 1 test interactions\n",
      "EvaluatorHoldout: Processed 35573 (100.0%) in 30.66 sec. Users per second: 1160\n",
      "Similarity column 38121 (100.0%), 2730.24 column/sec. Elapsed time 13.96 sec\n",
      "EvaluatorHoldout: Ignoring 150 ( 0.4%) Users that have less than 1 test interactions\n",
      "EvaluatorHoldout: Processed 35586 (100.0%) in 30.80 sec. Users per second: 1156\n",
      "Similarity column 38121 (100.0%), 2735.66 column/sec. Elapsed time 13.93 sec\n",
      "EvaluatorHoldout: Ignoring 167 ( 0.5%) Users that have less than 1 test interactions\n",
      "EvaluatorHoldout: Processed 35569 (100.0%) in 30.78 sec. Users per second: 1156\n",
      "Similarity column 38121 (100.0%), 2742.37 column/sec. Elapsed time 13.90 sec\n",
      "EvaluatorHoldout: Ignoring 172 ( 0.5%) Users that have less than 1 test interactions\n",
      "EvaluatorHoldout: Processed 35564 (100.0%) in 30.77 sec. Users per second: 1156\n"
     ]
    },
    {
     "name": "stderr",
     "output_type": "stream",
     "text": [
      "[I 2025-01-05 01:04:35,818] Trial 239 finished with value: 0.05238586893488721 and parameters: {'similarity': 'tversky', 'topK': 19, 'shrink': 4, 'feature_weighting': 'none', 'tversky_alpha': 0.1293497773373078, 'tversky_beta': 1.9278413247414237}. Best is trial 189 with value: 0.052770132207501916.\n"
     ]
    },
    {
     "name": "stdout",
     "output_type": "stream",
     "text": [
      "Similarity column 38121 (100.0%), 2730.52 column/sec. Elapsed time 13.96 sec\n",
      "EvaluatorHoldout: Ignoring 173 ( 0.5%) Users that have less than 1 test interactions\n",
      "EvaluatorHoldout: Processed 35563 (100.0%) in 30.55 sec. Users per second: 1164\n",
      "Similarity column 38121 (100.0%), 2740.93 column/sec. Elapsed time 13.91 sec\n",
      "EvaluatorHoldout: Ignoring 163 ( 0.5%) Users that have less than 1 test interactions\n",
      "EvaluatorHoldout: Processed 35573 (100.0%) in 30.56 sec. Users per second: 1164\n",
      "Similarity column 38121 (100.0%), 2739.33 column/sec. Elapsed time 13.92 sec\n",
      "EvaluatorHoldout: Ignoring 150 ( 0.4%) Users that have less than 1 test interactions\n",
      "EvaluatorHoldout: Processed 35586 (100.0%) in 30.72 sec. Users per second: 1159\n",
      "Similarity column 38121 (100.0%), 2716.62 column/sec. Elapsed time 14.03 sec\n",
      "EvaluatorHoldout: Ignoring 167 ( 0.5%) Users that have less than 1 test interactions\n",
      "EvaluatorHoldout: Processed 35569 (100.0%) in 30.81 sec. Users per second: 1155\n",
      "Similarity column 38121 (100.0%), 2736.56 column/sec. Elapsed time 13.93 sec\n",
      "EvaluatorHoldout: Ignoring 172 ( 0.5%) Users that have less than 1 test interactions\n",
      "EvaluatorHoldout: Processed 35564 (100.0%) in 30.86 sec. Users per second: 1153\n"
     ]
    },
    {
     "name": "stderr",
     "output_type": "stream",
     "text": [
      "[I 2025-01-05 01:08:20,889] Trial 240 finished with value: 0.051812229848526695 and parameters: {'similarity': 'tversky', 'topK': 19, 'shrink': 1, 'feature_weighting': 'none', 'tversky_alpha': 0.0673030042710224, 'tversky_beta': 1.911322799040794}. Best is trial 189 with value: 0.052770132207501916.\n"
     ]
    },
    {
     "name": "stdout",
     "output_type": "stream",
     "text": [
      "Similarity column 38121 (100.0%), 2727.06 column/sec. Elapsed time 13.98 sec\n",
      "EvaluatorHoldout: Ignoring 173 ( 0.5%) Users that have less than 1 test interactions\n",
      "EvaluatorHoldout: Processed 35563 (100.0%) in 30.68 sec. Users per second: 1159\n",
      "Similarity column 38121 (100.0%), 2750.42 column/sec. Elapsed time 13.86 sec\n",
      "EvaluatorHoldout: Ignoring 163 ( 0.5%) Users that have less than 1 test interactions\n",
      "EvaluatorHoldout: Processed 35573 (100.0%) in 30.67 sec. Users per second: 1160\n",
      "Similarity column 38121 (100.0%), 2727.72 column/sec. Elapsed time 13.98 sec\n",
      "EvaluatorHoldout: Ignoring 150 ( 0.4%) Users that have less than 1 test interactions\n",
      "EvaluatorHoldout: Processed 35586 (100.0%) in 30.67 sec. Users per second: 1160\n",
      "Similarity column 38121 (100.0%), 2745.06 column/sec. Elapsed time 13.89 sec\n",
      "EvaluatorHoldout: Ignoring 167 ( 0.5%) Users that have less than 1 test interactions\n",
      "EvaluatorHoldout: Processed 35569 (100.0%) in 30.65 sec. Users per second: 1160\n",
      "Similarity column 38121 (100.0%), 2697.15 column/sec. Elapsed time 14.13 sec\n",
      "EvaluatorHoldout: Ignoring 172 ( 0.5%) Users that have less than 1 test interactions\n",
      "EvaluatorHoldout: Processed 35564 (100.0%) in 31.02 sec. Users per second: 1147\n"
     ]
    },
    {
     "name": "stderr",
     "output_type": "stream",
     "text": [
      "[I 2025-01-05 01:12:06,292] Trial 241 finished with value: 0.05235041859328893 and parameters: {'similarity': 'tversky', 'topK': 18, 'shrink': 7, 'feature_weighting': 'none', 'tversky_alpha': 0.061569365171561405, 'tversky_beta': 1.9143078260154494}. Best is trial 189 with value: 0.052770132207501916.\n"
     ]
    },
    {
     "name": "stdout",
     "output_type": "stream",
     "text": [
      "Similarity column 38121 (100.0%), 3487.24 column/sec. Elapsed time 10.93 sec\n",
      "EvaluatorHoldout: Ignoring 173 ( 0.5%) Users that have less than 1 test interactions\n",
      "EvaluatorHoldout: Processed 35563 (100.0%) in 24.45 sec. Users per second: 1454\n",
      "Similarity column 38121 (100.0%), 3537.58 column/sec. Elapsed time 10.78 sec\n",
      "EvaluatorHoldout: Ignoring 163 ( 0.5%) Users that have less than 1 test interactions\n",
      "EvaluatorHoldout: Processed 35573 (100.0%) in 24.30 sec. Users per second: 1464\n",
      "Similarity column 38121 (100.0%), 3525.04 column/sec. Elapsed time 10.81 sec\n",
      "EvaluatorHoldout: Ignoring 150 ( 0.4%) Users that have less than 1 test interactions\n",
      "EvaluatorHoldout: Processed 35586 (100.0%) in 24.33 sec. Users per second: 1463\n",
      "Similarity column 38121 (100.0%), 3538.92 column/sec. Elapsed time 10.77 sec\n",
      "EvaluatorHoldout: Ignoring 167 ( 0.5%) Users that have less than 1 test interactions\n",
      "EvaluatorHoldout: Processed 35569 (100.0%) in 24.22 sec. Users per second: 1468\n",
      "Similarity column 38121 (100.0%), 3537.45 column/sec. Elapsed time 10.78 sec\n",
      "EvaluatorHoldout: Ignoring 172 ( 0.5%) Users that have less than 1 test interactions\n",
      "EvaluatorHoldout: Processed 35564 (100.0%) in 24.46 sec. Users per second: 1454\n"
     ]
    },
    {
     "name": "stderr",
     "output_type": "stream",
     "text": [
      "[I 2025-01-05 01:15:03,867] Trial 242 finished with value: 0.0002664826418719655 and parameters: {'similarity': 'tversky', 'topK': 0, 'shrink': 6, 'feature_weighting': 'none', 'tversky_alpha': 0.07551182020210925, 'tversky_beta': 1.919100942600386}. Best is trial 189 with value: 0.052770132207501916.\n"
     ]
    },
    {
     "name": "stdout",
     "output_type": "stream",
     "text": [
      "Similarity column 38121 (100.0%), 2736.58 column/sec. Elapsed time 13.93 sec\n",
      "EvaluatorHoldout: Ignoring 173 ( 0.5%) Users that have less than 1 test interactions\n",
      "EvaluatorHoldout: Processed 35563 (100.0%) in 30.48 sec. Users per second: 1167\n",
      "Similarity column 38121 (100.0%), 2708.63 column/sec. Elapsed time 14.07 sec\n",
      "EvaluatorHoldout: Ignoring 163 ( 0.5%) Users that have less than 1 test interactions\n",
      "EvaluatorHoldout: Processed 35573 (100.0%) in 30.33 sec. Users per second: 1173\n",
      "Similarity column 38121 (100.0%), 2748.35 column/sec. Elapsed time 13.87 sec\n",
      "EvaluatorHoldout: Ignoring 150 ( 0.4%) Users that have less than 1 test interactions\n",
      "EvaluatorHoldout: Processed 35586 (100.0%) in 30.29 sec. Users per second: 1175\n",
      "Similarity column 38121 (100.0%), 2714.29 column/sec. Elapsed time 14.04 sec\n",
      "EvaluatorHoldout: Ignoring 167 ( 0.5%) Users that have less than 1 test interactions\n",
      "EvaluatorHoldout: Processed 35569 (100.0%) in 30.27 sec. Users per second: 1175\n",
      "Similarity column 38121 (100.0%), 2742.66 column/sec. Elapsed time 13.90 sec\n",
      "EvaluatorHoldout: Ignoring 172 ( 0.5%) Users that have less than 1 test interactions\n",
      "EvaluatorHoldout: Processed 35564 (100.0%) in 30.29 sec. Users per second: 1174\n"
     ]
    },
    {
     "name": "stderr",
     "output_type": "stream",
     "text": [
      "[I 2025-01-05 01:18:47,206] Trial 243 finished with value: 0.052734651923476726 and parameters: {'similarity': 'tversky', 'topK': 15, 'shrink': 4, 'feature_weighting': 'none', 'tversky_alpha': 0.07984442532657615, 'tversky_beta': 1.934910244957095}. Best is trial 189 with value: 0.052770132207501916.\n"
     ]
    },
    {
     "name": "stdout",
     "output_type": "stream",
     "text": [
      "Similarity column 38121 (100.0%), 2741.72 column/sec. Elapsed time 13.90 sec\n",
      "EvaluatorHoldout: Ignoring 173 ( 0.5%) Users that have less than 1 test interactions\n",
      "EvaluatorHoldout: Processed 35563 (100.0%) in 30.60 sec. Users per second: 1162\n",
      "Similarity column 38121 (100.0%), 2720.28 column/sec. Elapsed time 14.01 sec\n",
      "EvaluatorHoldout: Ignoring 163 ( 0.5%) Users that have less than 1 test interactions\n",
      "EvaluatorHoldout: Processed 35573 (100.0%) in 30.65 sec. Users per second: 1161\n",
      "Similarity column 38121 (100.0%), 2733.91 column/sec. Elapsed time 13.94 sec\n",
      "EvaluatorHoldout: Ignoring 150 ( 0.4%) Users that have less than 1 test interactions\n",
      "EvaluatorHoldout: Processed 35586 (100.0%) in 30.69 sec. Users per second: 1160\n",
      "Similarity column 38121 (100.0%), 2704.10 column/sec. Elapsed time 14.10 sec\n",
      "EvaluatorHoldout: Ignoring 167 ( 0.5%) Users that have less than 1 test interactions\n",
      "EvaluatorHoldout: Processed 35569 (100.0%) in 30.72 sec. Users per second: 1158\n",
      "Similarity column 38121 (100.0%), 2730.94 column/sec. Elapsed time 13.96 sec\n",
      "EvaluatorHoldout: Ignoring 172 ( 0.5%) Users that have less than 1 test interactions\n",
      "EvaluatorHoldout: Processed 35564 (100.0%) in 30.49 sec. Users per second: 1166\n"
     ]
    },
    {
     "name": "stderr",
     "output_type": "stream",
     "text": [
      "[I 2025-01-05 01:22:32,088] Trial 244 finished with value: 0.052749727917604794 and parameters: {'similarity': 'tversky', 'topK': 16, 'shrink': 17, 'feature_weighting': 'none', 'tversky_alpha': 0.040155189501980035, 'tversky_beta': 1.9348952742868375}. Best is trial 189 with value: 0.052770132207501916.\n"
     ]
    },
    {
     "name": "stdout",
     "output_type": "stream",
     "text": [
      "Similarity column 38121 (100.0%), 3533.98 column/sec. Elapsed time 10.79 sec\n",
      "EvaluatorHoldout: Ignoring 173 ( 0.5%) Users that have less than 1 test interactions\n",
      "EvaluatorHoldout: Processed 35563 (100.0%) in 24.11 sec. Users per second: 1475\n",
      "Similarity column 38121 (100.0%), 3540.29 column/sec. Elapsed time 10.77 sec\n",
      "EvaluatorHoldout: Ignoring 163 ( 0.5%) Users that have less than 1 test interactions\n",
      "EvaluatorHoldout: Processed 35573 (100.0%) in 24.38 sec. Users per second: 1459\n",
      "Similarity column 38121 (100.0%), 3490.24 column/sec. Elapsed time 10.92 sec\n",
      "EvaluatorHoldout: Ignoring 150 ( 0.4%) Users that have less than 1 test interactions\n",
      "EvaluatorHoldout: Processed 35586 (100.0%) in 24.33 sec. Users per second: 1462\n",
      "Similarity column 38121 (100.0%), 3480.60 column/sec. Elapsed time 10.95 sec\n",
      "EvaluatorHoldout: Ignoring 167 ( 0.5%) Users that have less than 1 test interactions\n",
      "EvaluatorHoldout: Processed 35569 (100.0%) in 24.40 sec. Users per second: 1458\n",
      "Similarity column 38121 (100.0%), 3518.79 column/sec. Elapsed time 10.83 sec\n",
      "EvaluatorHoldout: Ignoring 172 ( 0.5%) Users that have less than 1 test interactions\n",
      "EvaluatorHoldout: Processed 35564 (100.0%) in 24.33 sec. Users per second: 1462\n"
     ]
    },
    {
     "name": "stderr",
     "output_type": "stream",
     "text": [
      "[I 2025-01-05 01:25:29,676] Trial 245 finished with value: 0.0002664826418719655 and parameters: {'similarity': 'tversky', 'topK': 0, 'shrink': 0, 'feature_weighting': 'none', 'tversky_alpha': 0.06420305615608846, 'tversky_beta': 1.9491852847304854}. Best is trial 189 with value: 0.052770132207501916.\n"
     ]
    },
    {
     "name": "stdout",
     "output_type": "stream",
     "text": [
      "Similarity column 38121 (100.0%), 2711.54 column/sec. Elapsed time 14.06 sec\n",
      "EvaluatorHoldout: Ignoring 173 ( 0.5%) Users that have less than 1 test interactions\n",
      "EvaluatorHoldout: Processed 35563 (100.0%) in 30.23 sec. Users per second: 1177\n",
      "Similarity column 38121 (100.0%), 2728.31 column/sec. Elapsed time 13.97 sec\n",
      "EvaluatorHoldout: Ignoring 163 ( 0.5%) Users that have less than 1 test interactions\n",
      "EvaluatorHoldout: Processed 35573 (100.0%) in 30.21 sec. Users per second: 1177\n",
      "Similarity column 38121 (100.0%), 2712.45 column/sec. Elapsed time 14.05 sec\n",
      "EvaluatorHoldout: Ignoring 150 ( 0.4%) Users that have less than 1 test interactions\n",
      "EvaluatorHoldout: Processed 35586 (100.0%) in 30.19 sec. Users per second: 1179\n",
      "Similarity column 38121 (100.0%), 2728.42 column/sec. Elapsed time 13.97 sec\n",
      "EvaluatorHoldout: Ignoring 167 ( 0.5%) Users that have less than 1 test interactions\n",
      "EvaluatorHoldout: Processed 35569 (100.0%) in 30.11 sec. Users per second: 1181\n",
      "Similarity column 38121 (100.0%), 2698.53 column/sec. Elapsed time 14.13 sec\n",
      "EvaluatorHoldout: Ignoring 172 ( 0.5%) Users that have less than 1 test interactions\n",
      "EvaluatorHoldout: Processed 35564 (100.0%) in 30.25 sec. Users per second: 1176\n"
     ]
    },
    {
     "name": "stderr",
     "output_type": "stream",
     "text": [
      "[I 2025-01-05 01:29:12,723] Trial 246 finished with value: 0.05119815890180516 and parameters: {'similarity': 'tversky', 'topK': 15, 'shrink': 0, 'feature_weighting': 'none', 'tversky_alpha': 0.011395068476860198, 'tversky_beta': 1.9421854142452983}. Best is trial 189 with value: 0.052770132207501916.\n"
     ]
    },
    {
     "name": "stdout",
     "output_type": "stream",
     "text": [
      "Similarity column 38121 (100.0%), 2733.90 column/sec. Elapsed time 13.94 sec\n",
      "EvaluatorHoldout: Ignoring 173 ( 0.5%) Users that have less than 1 test interactions\n",
      "EvaluatorHoldout: Processed 35563 (100.0%) in 30.35 sec. Users per second: 1172\n",
      "Similarity column 38121 (100.0%), 2729.89 column/sec. Elapsed time 13.96 sec\n",
      "EvaluatorHoldout: Ignoring 163 ( 0.5%) Users that have less than 1 test interactions\n",
      "EvaluatorHoldout: Processed 35573 (100.0%) in 30.39 sec. Users per second: 1170\n",
      "Similarity column 38121 (100.0%), 2727.66 column/sec. Elapsed time 13.98 sec\n",
      "EvaluatorHoldout: Ignoring 150 ( 0.4%) Users that have less than 1 test interactions\n",
      "EvaluatorHoldout: Processed 35586 (100.0%) in 30.52 sec. Users per second: 1166\n",
      "Similarity column 38121 (100.0%), 2716.89 column/sec. Elapsed time 14.03 sec\n",
      "EvaluatorHoldout: Ignoring 167 ( 0.5%) Users that have less than 1 test interactions\n",
      "EvaluatorHoldout: Processed 35569 (100.0%) in 30.63 sec. Users per second: 1161\n",
      "Similarity column 38121 (100.0%), 2717.17 column/sec. Elapsed time 14.03 sec\n",
      "EvaluatorHoldout: Ignoring 172 ( 0.5%) Users that have less than 1 test interactions\n",
      "EvaluatorHoldout: Processed 35564 (100.0%) in 30.50 sec. Users per second: 1166\n"
     ]
    },
    {
     "name": "stderr",
     "output_type": "stream",
     "text": [
      "[I 2025-01-05 01:32:56,905] Trial 247 finished with value: 0.05287919963207016 and parameters: {'similarity': 'tversky', 'topK': 14, 'shrink': 16, 'feature_weighting': 'none', 'tversky_alpha': 0.008696618216630717, 'tversky_beta': 1.9431495091462696}. Best is trial 247 with value: 0.05287919963207016.\n"
     ]
    },
    {
     "name": "stdout",
     "output_type": "stream",
     "text": [
      "Similarity column 38121 (100.0%), 2738.57 column/sec. Elapsed time 13.92 sec\n",
      "EvaluatorHoldout: Ignoring 173 ( 0.5%) Users that have less than 1 test interactions\n",
      "EvaluatorHoldout: Processed 35563 (100.0%) in 30.78 sec. Users per second: 1155\n",
      "Similarity column 38121 (100.0%), 2744.52 column/sec. Elapsed time 13.89 sec\n",
      "EvaluatorHoldout: Ignoring 163 ( 0.5%) Users that have less than 1 test interactions\n",
      "EvaluatorHoldout: Processed 35573 (100.0%) in 30.81 sec. Users per second: 1155\n",
      "Similarity column 38121 (100.0%), 2725.83 column/sec. Elapsed time 13.99 sec\n",
      "EvaluatorHoldout: Ignoring 150 ( 0.4%) Users that have less than 1 test interactions\n",
      "EvaluatorHoldout: Processed 35586 (100.0%) in 30.87 sec. Users per second: 1153\n",
      "Similarity column 38121 (100.0%), 2724.52 column/sec. Elapsed time 13.99 sec\n",
      "EvaluatorHoldout: Ignoring 167 ( 0.5%) Users that have less than 1 test interactions\n",
      "EvaluatorHoldout: Processed 35569 (100.0%) in 30.75 sec. Users per second: 1157\n",
      "Similarity column 38121 (100.0%), 2717.70 column/sec. Elapsed time 14.03 sec\n",
      "EvaluatorHoldout: Ignoring 172 ( 0.5%) Users that have less than 1 test interactions\n",
      "EvaluatorHoldout: Processed 35564 (100.0%) in 30.67 sec. Users per second: 1160\n"
     ]
    },
    {
     "name": "stderr",
     "output_type": "stream",
     "text": [
      "[I 2025-01-05 01:36:42,444] Trial 248 finished with value: 0.05223501429331294 and parameters: {'similarity': 'tversky', 'topK': 18, 'shrink': 15, 'feature_weighting': 'none', 'tversky_alpha': 0.0016378930116128614, 'tversky_beta': 1.952041161008228}. Best is trial 247 with value: 0.05287919963207016.\n"
     ]
    },
    {
     "name": "stdout",
     "output_type": "stream",
     "text": [
      "Similarity column 38121 (100.0%), 2747.55 column/sec. Elapsed time 13.87 sec\n",
      "EvaluatorHoldout: Ignoring 173 ( 0.5%) Users that have less than 1 test interactions\n",
      "EvaluatorHoldout: Processed 35563 (100.0%) in 30.15 sec. Users per second: 1179\n",
      "Similarity column 38121 (100.0%), 2736.21 column/sec. Elapsed time 13.93 sec\n",
      "EvaluatorHoldout: Ignoring 163 ( 0.5%) Users that have less than 1 test interactions\n",
      "EvaluatorHoldout: Processed 35573 (100.0%) in 30.28 sec. Users per second: 1175\n",
      "Similarity column 38121 (100.0%), 2714.02 column/sec. Elapsed time 14.05 sec\n",
      "EvaluatorHoldout: Ignoring 150 ( 0.4%) Users that have less than 1 test interactions\n",
      "EvaluatorHoldout: Processed 35586 (100.0%) in 30.22 sec. Users per second: 1177\n",
      "Similarity column 38121 (100.0%), 2734.29 column/sec. Elapsed time 13.94 sec\n",
      "EvaluatorHoldout: Ignoring 167 ( 0.5%) Users that have less than 1 test interactions\n",
      "EvaluatorHoldout: Processed 35569 (100.0%) in 30.19 sec. Users per second: 1178\n",
      "Similarity column 38121 (100.0%), 2716.94 column/sec. Elapsed time 14.03 sec\n",
      "EvaluatorHoldout: Ignoring 172 ( 0.5%) Users that have less than 1 test interactions\n",
      "EvaluatorHoldout: Processed 35564 (100.0%) in 30.17 sec. Users per second: 1179\n"
     ]
    },
    {
     "name": "stderr",
     "output_type": "stream",
     "text": [
      "[I 2025-01-05 01:40:25,123] Trial 249 finished with value: 0.051298554172739305 and parameters: {'similarity': 'tversky', 'topK': 16, 'shrink': 1, 'feature_weighting': 'none', 'tversky_alpha': 0.010608636983433915, 'tversky_beta': 1.9495300554229362}. Best is trial 247 with value: 0.05287919963207016.\n"
     ]
    },
    {
     "name": "stdout",
     "output_type": "stream",
     "text": [
      "Similarity column 38121 (100.0%), 2748.23 column/sec. Elapsed time 13.87 sec\n",
      "EvaluatorHoldout: Ignoring 173 ( 0.5%) Users that have less than 1 test interactions\n",
      "EvaluatorHoldout: Processed 35563 (100.0%) in 29.82 sec. Users per second: 1193\n",
      "Similarity column 38121 (100.0%), 2742.86 column/sec. Elapsed time 13.90 sec\n",
      "EvaluatorHoldout: Ignoring 163 ( 0.5%) Users that have less than 1 test interactions\n",
      "EvaluatorHoldout: Processed 35573 (100.0%) in 29.90 sec. Users per second: 1190\n",
      "Similarity column 38121 (100.0%), 2735.77 column/sec. Elapsed time 13.93 sec\n",
      "EvaluatorHoldout: Ignoring 150 ( 0.4%) Users that have less than 1 test interactions\n",
      "EvaluatorHoldout: Processed 35586 (100.0%) in 29.94 sec. Users per second: 1189\n",
      "Similarity column 38121 (100.0%), 2737.30 column/sec. Elapsed time 13.93 sec\n",
      "EvaluatorHoldout: Ignoring 167 ( 0.5%) Users that have less than 1 test interactions\n",
      "EvaluatorHoldout: Processed 35569 (100.0%) in 29.96 sec. Users per second: 1187\n",
      "Similarity column 38121 (100.0%), 2730.82 column/sec. Elapsed time 13.96 sec\n",
      "EvaluatorHoldout: Ignoring 172 ( 0.5%) Users that have less than 1 test interactions\n",
      "EvaluatorHoldout: Processed 35564 (100.0%) in 29.88 sec. Users per second: 1190\n"
     ]
    },
    {
     "name": "stderr",
     "output_type": "stream",
     "text": [
      "[I 2025-01-05 01:44:06,006] Trial 250 finished with value: 0.05135107591876845 and parameters: {'similarity': 'tversky', 'topK': 14, 'shrink': 0, 'feature_weighting': 'none', 'tversky_alpha': 0.012830335744508634, 'tversky_beta': 1.9708532948793493}. Best is trial 247 with value: 0.05287919963207016.\n"
     ]
    },
    {
     "name": "stdout",
     "output_type": "stream",
     "text": [
      "Similarity column 38121 (100.0%), 3252.89 column/sec. Elapsed time 11.72 sec\n",
      "EvaluatorHoldout: Ignoring 173 ( 0.5%) Users that have less than 1 test interactions\n",
      "EvaluatorHoldout: Processed 35563 (100.0%) in 26.41 sec. Users per second: 1346\n",
      "Similarity column 38121 (100.0%), 3257.74 column/sec. Elapsed time 11.70 sec\n",
      "EvaluatorHoldout: Ignoring 163 ( 0.5%) Users that have less than 1 test interactions\n",
      "EvaluatorHoldout: Processed 35573 (100.0%) in 26.47 sec. Users per second: 1344\n",
      "Similarity column 38121 (100.0%), 3267.16 column/sec. Elapsed time 11.67 sec\n",
      "EvaluatorHoldout: Ignoring 150 ( 0.4%) Users that have less than 1 test interactions\n",
      "EvaluatorHoldout: Processed 35586 (100.0%) in 26.46 sec. Users per second: 1345\n",
      "Similarity column 38121 (100.0%), 3227.77 column/sec. Elapsed time 11.81 sec\n",
      "EvaluatorHoldout: Ignoring 167 ( 0.5%) Users that have less than 1 test interactions\n",
      "EvaluatorHoldout: Processed 35569 (100.0%) in 26.33 sec. Users per second: 1351\n",
      "Similarity column 38121 (100.0%), 3236.59 column/sec. Elapsed time 11.78 sec\n",
      "EvaluatorHoldout: Ignoring 172 ( 0.5%) Users that have less than 1 test interactions\n",
      "EvaluatorHoldout: Processed 35564 (100.0%) in 26.34 sec. Users per second: 1350\n"
     ]
    },
    {
     "name": "stderr",
     "output_type": "stream",
     "text": [
      "[I 2025-01-05 01:47:18,431] Trial 251 finished with value: 0.04254372298438136 and parameters: {'similarity': 'tversky', 'topK': 1, 'shrink': 3, 'feature_weighting': 'none', 'tversky_alpha': 0.006423333284434177, 'tversky_beta': 1.9527308858400552}. Best is trial 247 with value: 0.05287919963207016.\n"
     ]
    },
    {
     "name": "stdout",
     "output_type": "stream",
     "text": [
      "Similarity column 38121 (100.0%), 2740.69 column/sec. Elapsed time 13.91 sec\n",
      "EvaluatorHoldout: Ignoring 173 ( 0.5%) Users that have less than 1 test interactions\n",
      "EvaluatorHoldout: Processed 35563 (100.0%) in 30.48 sec. Users per second: 1167\n",
      "Similarity column 38121 (100.0%), 2752.18 column/sec. Elapsed time 13.85 sec\n",
      "EvaluatorHoldout: Ignoring 163 ( 0.5%) Users that have less than 1 test interactions\n",
      "EvaluatorHoldout: Processed 35573 (100.0%) in 30.43 sec. Users per second: 1169\n",
      "Similarity column 38121 (100.0%), 2726.54 column/sec. Elapsed time 13.98 sec\n",
      "EvaluatorHoldout: Ignoring 150 ( 0.4%) Users that have less than 1 test interactions\n",
      "EvaluatorHoldout: Processed 35586 (100.0%) in 30.50 sec. Users per second: 1167\n",
      "Similarity column 38121 (100.0%), 2743.01 column/sec. Elapsed time 13.90 sec\n",
      "EvaluatorHoldout: Ignoring 167 ( 0.5%) Users that have less than 1 test interactions\n",
      "EvaluatorHoldout: Processed 35569 (100.0%) in 30.48 sec. Users per second: 1167\n",
      "Similarity column 38121 (100.0%), 2727.02 column/sec. Elapsed time 13.98 sec\n",
      "EvaluatorHoldout: Ignoring 172 ( 0.5%) Users that have less than 1 test interactions\n",
      "EvaluatorHoldout: Processed 35564 (100.0%) in 30.59 sec. Users per second: 1163\n"
     ]
    },
    {
     "name": "stderr",
     "output_type": "stream",
     "text": [
      "[I 2025-01-05 01:51:02,301] Trial 252 finished with value: 0.053134600182737454 and parameters: {'similarity': 'tversky', 'topK': 14, 'shrink': 21, 'feature_weighting': 'none', 'tversky_alpha': 0.0686825196628001, 'tversky_beta': 1.9456850735537499}. Best is trial 252 with value: 0.053134600182737454.\n"
     ]
    },
    {
     "name": "stdout",
     "output_type": "stream",
     "text": [
      "Similarity column 38121 (100.0%), 2737.48 column/sec. Elapsed time 13.93 sec\n",
      "EvaluatorHoldout: Ignoring 173 ( 0.5%) Users that have less than 1 test interactions\n",
      "EvaluatorHoldout: Processed 35563 (100.0%) in 30.56 sec. Users per second: 1164\n",
      "Similarity column 38121 (100.0%), 2739.13 column/sec. Elapsed time 13.92 sec\n",
      "EvaluatorHoldout: Ignoring 163 ( 0.5%) Users that have less than 1 test interactions\n",
      "EvaluatorHoldout: Processed 35573 (100.0%) in 30.73 sec. Users per second: 1157\n",
      "Similarity column 38121 (100.0%), 2739.09 column/sec. Elapsed time 13.92 sec\n",
      "EvaluatorHoldout: Ignoring 150 ( 0.4%) Users that have less than 1 test interactions\n",
      "EvaluatorHoldout: Processed 35586 (100.0%) in 30.68 sec. Users per second: 1160\n",
      "Similarity column 38121 (100.0%), 2745.92 column/sec. Elapsed time 13.88 sec\n",
      "EvaluatorHoldout: Ignoring 167 ( 0.5%) Users that have less than 1 test interactions\n",
      "EvaluatorHoldout: Processed 35569 (100.0%) in 30.60 sec. Users per second: 1163\n",
      "Similarity column 38121 (100.0%), 2729.22 column/sec. Elapsed time 13.97 sec\n",
      "EvaluatorHoldout: Ignoring 172 ( 0.5%) Users that have less than 1 test interactions\n",
      "EvaluatorHoldout: Processed 35564 (100.0%) in 30.84 sec. Users per second: 1153\n"
     ]
    },
    {
     "name": "stderr",
     "output_type": "stream",
     "text": [
      "[I 2025-01-05 01:54:47,166] Trial 253 finished with value: 0.052909503083440244 and parameters: {'similarity': 'tversky', 'topK': 15, 'shrink': 24, 'feature_weighting': 'none', 'tversky_alpha': 0.07162016684985006, 'tversky_beta': 1.9432031745674443}. Best is trial 252 with value: 0.053134600182737454.\n"
     ]
    },
    {
     "name": "stdout",
     "output_type": "stream",
     "text": [
      "Similarity column 38121 (100.0%), 3510.22 column/sec. Elapsed time 10.86 sec\n",
      "EvaluatorHoldout: Ignoring 173 ( 0.5%) Users that have less than 1 test interactions\n",
      "EvaluatorHoldout: Processed 35563 (100.0%) in 24.27 sec. Users per second: 1465\n",
      "Similarity column 38121 (100.0%), 3530.87 column/sec. Elapsed time 10.80 sec\n",
      "EvaluatorHoldout: Ignoring 163 ( 0.5%) Users that have less than 1 test interactions\n",
      "EvaluatorHoldout: Processed 35573 (100.0%) in 24.65 sec. Users per second: 1443\n",
      "Similarity column 38121 (100.0%), 3499.00 column/sec. Elapsed time 10.89 sec\n",
      "EvaluatorHoldout: Ignoring 150 ( 0.4%) Users that have less than 1 test interactions\n",
      "EvaluatorHoldout: Processed 35586 (100.0%) in 24.46 sec. Users per second: 1455\n",
      "Similarity column 38121 (100.0%), 3526.94 column/sec. Elapsed time 10.81 sec\n",
      "EvaluatorHoldout: Ignoring 167 ( 0.5%) Users that have less than 1 test interactions\n",
      "EvaluatorHoldout: Processed 35569 (100.0%) in 24.32 sec. Users per second: 1463\n",
      "Similarity column 38121 (100.0%), 3520.90 column/sec. Elapsed time 10.83 sec\n",
      "EvaluatorHoldout: Ignoring 172 ( 0.5%) Users that have less than 1 test interactions\n",
      "EvaluatorHoldout: Processed 35564 (100.0%) in 24.27 sec. Users per second: 1465\n"
     ]
    },
    {
     "name": "stderr",
     "output_type": "stream",
     "text": [
      "[I 2025-01-05 01:57:45,100] Trial 254 finished with value: 0.0002664826418719655 and parameters: {'similarity': 'tversky', 'topK': 0, 'shrink': 23, 'feature_weighting': 'none', 'tversky_alpha': 0.06885446902433126, 'tversky_beta': 1.9446333348176497}. Best is trial 252 with value: 0.053134600182737454.\n"
     ]
    },
    {
     "name": "stdout",
     "output_type": "stream",
     "text": [
      "Similarity column 38121 (100.0%), 2622.57 column/sec. Elapsed time 14.54 sec\n",
      "EvaluatorHoldout: Ignoring 173 ( 0.5%) Users that have less than 1 test interactions\n",
      "EvaluatorHoldout: Processed 35563 (100.0%) in 41.97 sec. Users per second: 847\n",
      "Similarity column 38121 (100.0%), 2637.63 column/sec. Elapsed time 14.45 sec\n",
      "EvaluatorHoldout: Ignoring 163 ( 0.5%) Users that have less than 1 test interactions\n",
      "EvaluatorHoldout: Processed 35573 (100.0%) in 41.91 sec. Users per second: 849\n",
      "Similarity column 38121 (100.0%), 2630.91 column/sec. Elapsed time 14.49 sec\n",
      "EvaluatorHoldout: Ignoring 150 ( 0.4%) Users that have less than 1 test interactions\n",
      "EvaluatorHoldout: Processed 35586 (100.0%) in 42.24 sec. Users per second: 842\n",
      "Similarity column 38121 (100.0%), 2623.71 column/sec. Elapsed time 14.53 sec\n",
      "EvaluatorHoldout: Ignoring 167 ( 0.5%) Users that have less than 1 test interactions\n",
      "EvaluatorHoldout: Processed 35569 (100.0%) in 41.96 sec. Users per second: 848\n",
      "Similarity column 38121 (100.0%), 2617.30 column/sec. Elapsed time 14.57 sec\n",
      "EvaluatorHoldout: Ignoring 172 ( 0.5%) Users that have less than 1 test interactions\n",
      "EvaluatorHoldout: Processed 35564 (100.0%) in 41.98 sec. Users per second: 847\n"
     ]
    },
    {
     "name": "stderr",
     "output_type": "stream",
     "text": [
      "[I 2025-01-05 02:02:32,153] Trial 255 finished with value: 0.03920845351012365 and parameters: {'similarity': 'tversky', 'topK': 393, 'shrink': 27, 'feature_weighting': 'none', 'tversky_alpha': 0.08116823856855097, 'tversky_beta': 1.900981894989739}. Best is trial 252 with value: 0.053134600182737454.\n"
     ]
    },
    {
     "name": "stdout",
     "output_type": "stream",
     "text": [
      "Similarity column 38121 (100.0%), 2719.93 column/sec. Elapsed time 14.02 sec\n",
      "EvaluatorHoldout: Ignoring 173 ( 0.5%) Users that have less than 1 test interactions\n",
      "EvaluatorHoldout: Processed 35563 (100.0%) in 30.94 sec. Users per second: 1149\n",
      "Similarity column 38121 (100.0%), 2723.17 column/sec. Elapsed time 14.00 sec\n",
      "EvaluatorHoldout: Ignoring 163 ( 0.5%) Users that have less than 1 test interactions\n",
      "EvaluatorHoldout: Processed 35573 (100.0%) in 30.97 sec. Users per second: 1149\n",
      "Similarity column 38121 (100.0%), 2724.25 column/sec. Elapsed time 13.99 sec\n",
      "EvaluatorHoldout: Ignoring 150 ( 0.4%) Users that have less than 1 test interactions\n",
      "EvaluatorHoldout: Processed 35586 (100.0%) in 30.95 sec. Users per second: 1150\n",
      "Similarity column 38121 (100.0%), 2695.44 column/sec. Elapsed time 14.14 sec\n",
      "EvaluatorHoldout: Ignoring 167 ( 0.5%) Users that have less than 1 test interactions\n",
      "EvaluatorHoldout: Processed 35569 (100.0%) in 30.99 sec. Users per second: 1148\n",
      "Similarity column 38121 (100.0%), 2728.43 column/sec. Elapsed time 13.97 sec\n",
      "EvaluatorHoldout: Ignoring 172 ( 0.5%) Users that have less than 1 test interactions\n",
      "EvaluatorHoldout: Processed 35564 (100.0%) in 30.91 sec. Users per second: 1151\n"
     ]
    },
    {
     "name": "stderr",
     "output_type": "stream",
     "text": [
      "[I 2025-01-05 02:06:18,902] Trial 256 finished with value: 0.05275915171373006 and parameters: {'similarity': 'tversky', 'topK': 16, 'shrink': 24, 'feature_weighting': 'none', 'tversky_alpha': 0.0644860909213963, 'tversky_beta': 1.9514486601051055}. Best is trial 252 with value: 0.053134600182737454.\n"
     ]
    },
    {
     "name": "stdout",
     "output_type": "stream",
     "text": [
      "Similarity column 38121 (100.0%), 2710.18 column/sec. Elapsed time 14.07 sec\n",
      "EvaluatorHoldout: Ignoring 173 ( 0.5%) Users that have less than 1 test interactions\n",
      "EvaluatorHoldout: Processed 35563 (100.0%) in 30.38 sec. Users per second: 1171\n",
      "Similarity column 38121 (100.0%), 2705.23 column/sec. Elapsed time 14.09 sec\n",
      "EvaluatorHoldout: Ignoring 163 ( 0.5%) Users that have less than 1 test interactions\n",
      "EvaluatorHoldout: Processed 35573 (100.0%) in 30.32 sec. Users per second: 1173\n",
      "Similarity column 38121 (100.0%), 2706.25 column/sec. Elapsed time 14.09 sec\n",
      "EvaluatorHoldout: Ignoring 150 ( 0.4%) Users that have less than 1 test interactions\n",
      "EvaluatorHoldout: Processed 35586 (100.0%) in 30.30 sec. Users per second: 1174\n",
      "Similarity column 38121 (100.0%), 2716.11 column/sec. Elapsed time 14.04 sec\n",
      "EvaluatorHoldout: Ignoring 167 ( 0.5%) Users that have less than 1 test interactions\n",
      "EvaluatorHoldout: Processed 35569 (100.0%) in 30.37 sec. Users per second: 1171\n",
      "Similarity column 38121 (100.0%), 2728.52 column/sec. Elapsed time 13.97 sec\n",
      "EvaluatorHoldout: Ignoring 172 ( 0.5%) Users that have less than 1 test interactions\n",
      "EvaluatorHoldout: Processed 35564 (100.0%) in 30.42 sec. Users per second: 1169\n"
     ]
    },
    {
     "name": "stderr",
     "output_type": "stream",
     "text": [
      "[I 2025-01-05 02:10:02,758] Trial 257 finished with value: 0.05319752032663925 and parameters: {'similarity': 'tversky', 'topK': 13, 'shrink': 21, 'feature_weighting': 'none', 'tversky_alpha': 0.03816290482137871, 'tversky_beta': 1.9007611022323208}. Best is trial 257 with value: 0.05319752032663925.\n"
     ]
    },
    {
     "name": "stdout",
     "output_type": "stream",
     "text": [
      "Similarity column 38121 (100.0%), 2689.57 column/sec. Elapsed time 14.17 sec\n",
      "EvaluatorHoldout: Ignoring 173 ( 0.5%) Users that have less than 1 test interactions\n",
      "EvaluatorHoldout: Processed 35563 (100.0%) in 30.66 sec. Users per second: 1160\n",
      "Similarity column 38121 (100.0%), 2717.97 column/sec. Elapsed time 14.03 sec\n",
      "EvaluatorHoldout: Ignoring 163 ( 0.5%) Users that have less than 1 test interactions\n",
      "EvaluatorHoldout: Processed 35573 (100.0%) in 30.61 sec. Users per second: 1162\n",
      "Similarity column 38121 (100.0%), 2720.86 column/sec. Elapsed time 14.01 sec\n",
      "EvaluatorHoldout: Ignoring 150 ( 0.4%) Users that have less than 1 test interactions\n",
      "EvaluatorHoldout: Processed 35586 (100.0%) in 30.66 sec. Users per second: 1161\n",
      "Similarity column 38121 (100.0%), 2704.79 column/sec. Elapsed time 14.09 sec\n",
      "EvaluatorHoldout: Ignoring 167 ( 0.5%) Users that have less than 1 test interactions\n",
      "EvaluatorHoldout: Processed 35569 (100.0%) in 30.57 sec. Users per second: 1164\n",
      "Similarity column 38121 (100.0%), 2733.65 column/sec. Elapsed time 13.95 sec\n",
      "EvaluatorHoldout: Ignoring 172 ( 0.5%) Users that have less than 1 test interactions\n",
      "EvaluatorHoldout: Processed 35564 (100.0%) in 30.78 sec. Users per second: 1155\n"
     ]
    },
    {
     "name": "stderr",
     "output_type": "stream",
     "text": [
      "[I 2025-01-05 02:13:48,176] Trial 258 finished with value: 0.053035294599967545 and parameters: {'similarity': 'tversky', 'topK': 14, 'shrink': 26, 'feature_weighting': 'none', 'tversky_alpha': 0.05626863830759747, 'tversky_beta': 1.8824059534966424}. Best is trial 257 with value: 0.05319752032663925.\n"
     ]
    },
    {
     "name": "stdout",
     "output_type": "stream",
     "text": [
      "Similarity column 38121 (100.0%), 2716.30 column/sec. Elapsed time 14.03 sec\n",
      "EvaluatorHoldout: Ignoring 173 ( 0.5%) Users that have less than 1 test interactions\n",
      "EvaluatorHoldout: Processed 35563 (100.0%) in 32.48 sec. Users per second: 1095\n",
      "Similarity column 38121 (100.0%), 2734.65 column/sec. Elapsed time 13.94 sec\n",
      "EvaluatorHoldout: Ignoring 163 ( 0.5%) Users that have less than 1 test interactions\n",
      "EvaluatorHoldout: Processed 35573 (100.0%) in 32.42 sec. Users per second: 1097\n",
      "Similarity column 38121 (100.0%), 2716.40 column/sec. Elapsed time 14.03 sec\n",
      "EvaluatorHoldout: Ignoring 150 ( 0.4%) Users that have less than 1 test interactions\n",
      "EvaluatorHoldout: Processed 35586 (100.0%) in 32.41 sec. Users per second: 1098\n",
      "Similarity column 38121 (100.0%), 2743.68 column/sec. Elapsed time 13.89 sec\n",
      "EvaluatorHoldout: Ignoring 167 ( 0.5%) Users that have less than 1 test interactions\n",
      "EvaluatorHoldout: Processed 35569 (100.0%) in 32.22 sec. Users per second: 1104\n",
      "Similarity column 38121 (100.0%), 2730.80 column/sec. Elapsed time 13.96 sec\n",
      "EvaluatorHoldout: Ignoring 172 ( 0.5%) Users that have less than 1 test interactions\n",
      "EvaluatorHoldout: Processed 35564 (100.0%) in 32.25 sec. Users per second: 1103\n"
     ]
    },
    {
     "name": "stderr",
     "output_type": "stream",
     "text": [
      "[I 2025-01-05 02:17:41,661] Trial 259 finished with value: 0.041507624622074385 and parameters: {'similarity': 'tversky', 'topK': 12, 'shrink': 670, 'feature_weighting': 'none', 'tversky_alpha': 0.05212197338908247, 'tversky_beta': 1.8775172837486953}. Best is trial 257 with value: 0.05319752032663925.\n"
     ]
    },
    {
     "name": "stdout",
     "output_type": "stream",
     "text": [
      "Similarity column 38121 (100.0%), 2735.28 column/sec. Elapsed time 13.94 sec\n",
      "EvaluatorHoldout: Ignoring 173 ( 0.5%) Users that have less than 1 test interactions\n",
      "EvaluatorHoldout: Processed 35563 (100.0%) in 30.11 sec. Users per second: 1181\n",
      "Similarity column 38121 (100.0%), 2731.57 column/sec. Elapsed time 13.96 sec\n",
      "EvaluatorHoldout: Ignoring 163 ( 0.5%) Users that have less than 1 test interactions\n",
      "EvaluatorHoldout: Processed 35573 (100.0%) in 30.14 sec. Users per second: 1180\n",
      "Similarity column 38121 (100.0%), 2730.52 column/sec. Elapsed time 13.96 sec\n",
      "EvaluatorHoldout: Ignoring 150 ( 0.4%) Users that have less than 1 test interactions\n",
      "EvaluatorHoldout: Processed 35586 (100.0%) in 30.14 sec. Users per second: 1181\n",
      "Similarity column 38121 (100.0%), 2746.48 column/sec. Elapsed time 13.88 sec\n",
      "EvaluatorHoldout: Ignoring 167 ( 0.5%) Users that have less than 1 test interactions\n",
      "EvaluatorHoldout: Processed 35569 (100.0%) in 30.00 sec. Users per second: 1186\n",
      "Similarity column 38121 (100.0%), 2721.85 column/sec. Elapsed time 14.01 sec\n",
      "EvaluatorHoldout: Ignoring 172 ( 0.5%) Users that have less than 1 test interactions\n",
      "EvaluatorHoldout: Processed 35564 (100.0%) in 30.25 sec. Users per second: 1176\n"
     ]
    },
    {
     "name": "stderr",
     "output_type": "stream",
     "text": [
      "[I 2025-01-05 02:21:23,837] Trial 260 finished with value: 0.053230998474819435 and parameters: {'similarity': 'tversky', 'topK': 12, 'shrink': 22, 'feature_weighting': 'none', 'tversky_alpha': 0.004788479977572868, 'tversky_beta': 1.8849804728609267}. Best is trial 260 with value: 0.053230998474819435.\n"
     ]
    },
    {
     "name": "stdout",
     "output_type": "stream",
     "text": [
      "Similarity column 38121 (100.0%), 2728.15 column/sec. Elapsed time 13.97 sec\n",
      "EvaluatorHoldout: Ignoring 173 ( 0.5%) Users that have less than 1 test interactions\n",
      "EvaluatorHoldout: Processed 35563 (100.0%) in 30.21 sec. Users per second: 1177\n",
      "Similarity column 38121 (100.0%), 2719.95 column/sec. Elapsed time 14.02 sec\n",
      "EvaluatorHoldout: Ignoring 163 ( 0.5%) Users that have less than 1 test interactions\n",
      "EvaluatorHoldout: Processed 35573 (100.0%) in 30.41 sec. Users per second: 1170\n",
      "Similarity column 38121 (100.0%), 2733.45 column/sec. Elapsed time 13.95 sec\n",
      "EvaluatorHoldout: Ignoring 150 ( 0.4%) Users that have less than 1 test interactions\n",
      "EvaluatorHoldout: Processed 35586 (100.0%) in 30.28 sec. Users per second: 1175\n",
      "Similarity column 38121 (100.0%), 2738.16 column/sec. Elapsed time 13.92 sec\n",
      "EvaluatorHoldout: Ignoring 167 ( 0.5%) Users that have less than 1 test interactions\n",
      "EvaluatorHoldout: Processed 35569 (100.0%) in 30.23 sec. Users per second: 1177\n",
      "Similarity column 38121 (100.0%), 2702.31 column/sec. Elapsed time 14.11 sec\n",
      "EvaluatorHoldout: Ignoring 172 ( 0.5%) Users that have less than 1 test interactions\n",
      "EvaluatorHoldout: Processed 35564 (100.0%) in 31.59 sec. Users per second: 1126\n"
     ]
    },
    {
     "name": "stderr",
     "output_type": "stream",
     "text": [
      "[I 2025-01-05 02:25:08,323] Trial 261 finished with value: 0.05318001901092788 and parameters: {'similarity': 'tversky', 'topK': 12, 'shrink': 30, 'feature_weighting': 'none', 'tversky_alpha': 0.014160735809991744, 'tversky_beta': 1.8702773086622155}. Best is trial 260 with value: 0.053230998474819435.\n"
     ]
    },
    {
     "name": "stdout",
     "output_type": "stream",
     "text": [
      "Similarity column 38121 (100.0%), 2977.43 column/sec. Elapsed time 12.80 sec\n",
      "EvaluatorHoldout: Ignoring 173 ( 0.5%) Users that have less than 1 test interactions\n",
      "EvaluatorHoldout: Processed 35563 (100.0%) in 29.29 sec. Users per second: 1214\n",
      "Similarity column 38121 (100.0%), 2981.04 column/sec. Elapsed time 12.79 sec\n",
      "EvaluatorHoldout: Ignoring 163 ( 0.5%) Users that have less than 1 test interactions\n",
      "EvaluatorHoldout: Processed 35573 (100.0%) in 42.07 sec. Users per second: 846\n",
      "Similarity column 38121 (100.0%), 1649.80 column/sec. Elapsed time 23.11 sec\n",
      "EvaluatorHoldout: Ignoring 150 ( 0.4%) Users that have less than 1 test interactions\n",
      "EvaluatorHoldout: Processed 35586 (100.0%) in 55.03 sec. Users per second: 647\n",
      "Similarity column 38121 (100.0%), 2110.39 column/sec. Elapsed time 18.06 sec\n",
      "EvaluatorHoldout: Ignoring 167 ( 0.5%) Users that have less than 1 test interactions\n",
      "EvaluatorHoldout: Processed 35569 (100.0%) in 41.31 sec. Users per second: 861\n",
      "Similarity column 38121 (100.0%), 2190.93 column/sec. Elapsed time 17.40 sec\n",
      "EvaluatorHoldout: Ignoring 172 ( 0.5%) Users that have less than 1 test interactions\n",
      "EvaluatorHoldout: Processed 35564 (100.0%) in 42.26 sec. Users per second: 841\n"
     ]
    },
    {
     "name": "stderr",
     "output_type": "stream",
     "text": [
      "[I 2025-01-05 02:30:05,008] Trial 262 finished with value: 0.04641161061905724 and parameters: {'similarity': 'tversky', 'topK': 1, 'shrink': 28, 'feature_weighting': 'none', 'tversky_alpha': 0.046442149347416375, 'tversky_beta': 1.8578498276860387}. Best is trial 260 with value: 0.053230998474819435.\n"
     ]
    },
    {
     "name": "stdout",
     "output_type": "stream",
     "text": [
      "Similarity column 38121 (100.0%), 1875.34 column/sec. Elapsed time 20.33 sec\n",
      "EvaluatorHoldout: Ignoring 173 ( 0.5%) Users that have less than 1 test interactions\n",
      "EvaluatorHoldout: Processed 35563 (100.0%) in 47.56 sec. Users per second: 748\n",
      "Similarity column 38121 (100.0%), 1774.32 column/sec. Elapsed time 21.48 sec\n",
      "EvaluatorHoldout: Ignoring 163 ( 0.5%) Users that have less than 1 test interactions\n",
      "EvaluatorHoldout: Processed 35573 (100.0%) in 44.65 sec. Users per second: 797\n",
      "Similarity column 38121 (100.0%), 1616.36 column/sec. Elapsed time 23.58 sec\n",
      "EvaluatorHoldout: Ignoring 150 ( 0.4%) Users that have less than 1 test interactions\n",
      "EvaluatorHoldout: Processed 35586 (100.0%) in 46.22 sec. Users per second: 770\n",
      "Similarity column 38121 (100.0%), 2115.96 column/sec. Elapsed time 18.02 sec\n",
      "EvaluatorHoldout: Ignoring 167 ( 0.5%) Users that have less than 1 test interactions\n",
      "EvaluatorHoldout: Processed 35569 (100.0%) in 43.80 sec. Users per second: 812\n",
      "Similarity column 38121 (100.0%), 2580.25 column/sec. Elapsed time 14.77 sec\n",
      "EvaluatorHoldout: Ignoring 172 ( 0.5%) Users that have less than 1 test interactions\n",
      "EvaluatorHoldout: Processed 35564 (100.0%) in 33.85 sec. Users per second: 1051\n"
     ]
    },
    {
     "name": "stderr",
     "output_type": "stream",
     "text": [
      "[I 2025-01-05 02:35:22,905] Trial 263 finished with value: 0.053037738820821044 and parameters: {'similarity': 'tversky', 'topK': 14, 'shrink': 27, 'feature_weighting': 'none', 'tversky_alpha': 0.09198199638828311, 'tversky_beta': 1.8809950055833553}. Best is trial 260 with value: 0.053230998474819435.\n"
     ]
    },
    {
     "name": "stdout",
     "output_type": "stream",
     "text": [
      "Similarity column 38121 (100.0%), 3387.57 column/sec. Elapsed time 11.25 sec\n",
      "EvaluatorHoldout: Ignoring 173 ( 0.5%) Users that have less than 1 test interactions\n",
      "EvaluatorHoldout: Processed 35563 (100.0%) in 25.38 sec. Users per second: 1401\n",
      "Similarity column 38121 (100.0%), 3404.88 column/sec. Elapsed time 11.20 sec\n",
      "EvaluatorHoldout: Ignoring 163 ( 0.5%) Users that have less than 1 test interactions\n",
      "EvaluatorHoldout: Processed 35573 (100.0%) in 24.78 sec. Users per second: 1435\n",
      "Similarity column 38121 (100.0%), 3454.97 column/sec. Elapsed time 11.03 sec\n",
      "EvaluatorHoldout: Ignoring 150 ( 0.4%) Users that have less than 1 test interactions\n",
      "EvaluatorHoldout: Processed 35586 (100.0%) in 25.04 sec. Users per second: 1421\n",
      "Similarity column 38121 (100.0%), 3351.08 column/sec. Elapsed time 11.38 sec\n",
      "EvaluatorHoldout: Ignoring 167 ( 0.5%) Users that have less than 1 test interactions\n",
      "EvaluatorHoldout: Processed 35569 (100.0%) in 25.22 sec. Users per second: 1410\n",
      "Similarity column 38121 (100.0%), 3415.95 column/sec. Elapsed time 11.16 sec\n",
      "EvaluatorHoldout: Ignoring 172 ( 0.5%) Users that have less than 1 test interactions\n",
      "EvaluatorHoldout: Processed 35564 (100.0%) in 25.50 sec. Users per second: 1395\n"
     ]
    },
    {
     "name": "stderr",
     "output_type": "stream",
     "text": [
      "[I 2025-01-05 02:38:26,825] Trial 264 finished with value: 0.0002664826418719655 and parameters: {'similarity': 'tversky', 'topK': 0, 'shrink': 27, 'feature_weighting': 'none', 'tversky_alpha': 0.09151217899541329, 'tversky_beta': 1.880347622146293}. Best is trial 260 with value: 0.053230998474819435.\n"
     ]
    },
    {
     "name": "stdout",
     "output_type": "stream",
     "text": [
      "Similarity column 38121 (100.0%), 2665.27 column/sec. Elapsed time 14.30 sec\n",
      "EvaluatorHoldout: Ignoring 173 ( 0.5%) Users that have less than 1 test interactions\n",
      "EvaluatorHoldout: Processed 35563 (100.0%) in 30.84 sec. Users per second: 1153\n",
      "Similarity column 38121 (100.0%), 2692.47 column/sec. Elapsed time 14.16 sec\n",
      "EvaluatorHoldout: Ignoring 163 ( 0.5%) Users that have less than 1 test interactions\n",
      "EvaluatorHoldout: Processed 35573 (100.0%) in 30.58 sec. Users per second: 1163\n",
      "Similarity column 38121 (100.0%), 2728.09 column/sec. Elapsed time 13.97 sec\n",
      "EvaluatorHoldout: Ignoring 150 ( 0.4%) Users that have less than 1 test interactions\n",
      "EvaluatorHoldout: Processed 35586 (100.0%) in 30.45 sec. Users per second: 1169\n",
      "Similarity column 38121 (100.0%), 2713.50 column/sec. Elapsed time 14.05 sec\n",
      "EvaluatorHoldout: Ignoring 167 ( 0.5%) Users that have less than 1 test interactions\n",
      "EvaluatorHoldout: Processed 35569 (100.0%) in 30.42 sec. Users per second: 1169\n",
      "Similarity column 38121 (100.0%), 2724.90 column/sec. Elapsed time 13.99 sec\n",
      "EvaluatorHoldout: Ignoring 172 ( 0.5%) Users that have less than 1 test interactions\n",
      "EvaluatorHoldout: Processed 35564 (100.0%) in 30.65 sec. Users per second: 1160\n"
     ]
    },
    {
     "name": "stderr",
     "output_type": "stream",
     "text": [
      "[I 2025-01-05 02:42:12,159] Trial 265 finished with value: 0.05312387900539119 and parameters: {'similarity': 'tversky', 'topK': 12, 'shrink': 31, 'feature_weighting': 'none', 'tversky_alpha': 0.004229667903125928, 'tversky_beta': 1.8752091681873402}. Best is trial 260 with value: 0.053230998474819435.\n"
     ]
    },
    {
     "name": "stdout",
     "output_type": "stream",
     "text": [
      "Similarity column 38121 (100.0%), 2710.87 column/sec. Elapsed time 14.06 sec\n",
      "EvaluatorHoldout: Ignoring 173 ( 0.5%) Users that have less than 1 test interactions\n",
      "EvaluatorHoldout: Processed 35563 (100.0%) in 30.44 sec. Users per second: 1168\n",
      "Similarity column 38121 (100.0%), 2724.39 column/sec. Elapsed time 13.99 sec\n",
      "EvaluatorHoldout: Ignoring 163 ( 0.5%) Users that have less than 1 test interactions\n",
      "EvaluatorHoldout: Processed 35573 (100.0%) in 30.59 sec. Users per second: 1163\n",
      "Similarity column 38121 (100.0%), 2728.34 column/sec. Elapsed time 13.97 sec\n",
      "EvaluatorHoldout: Ignoring 150 ( 0.4%) Users that have less than 1 test interactions\n",
      "EvaluatorHoldout: Processed 35586 (100.0%) in 30.55 sec. Users per second: 1165\n",
      "Similarity column 38121 (100.0%), 2679.72 column/sec. Elapsed time 14.23 sec\n",
      "EvaluatorHoldout: Ignoring 167 ( 0.5%) Users that have less than 1 test interactions\n",
      "EvaluatorHoldout: Processed 35569 (100.0%) in 30.47 sec. Users per second: 1167\n",
      "Similarity column 38121 (100.0%), 2737.95 column/sec. Elapsed time 13.92 sec\n",
      "EvaluatorHoldout: Ignoring 172 ( 0.5%) Users that have less than 1 test interactions\n",
      "EvaluatorHoldout: Processed 35564 (100.0%) in 30.52 sec. Users per second: 1165\n"
     ]
    },
    {
     "name": "stderr",
     "output_type": "stream",
     "text": [
      "[I 2025-01-05 02:45:56,759] Trial 266 finished with value: 0.0529325066441798 and parameters: {'similarity': 'tversky', 'topK': 13, 'shrink': 27, 'feature_weighting': 'none', 'tversky_alpha': 0.000724581442593554, 'tversky_beta': 1.8304341692645771}. Best is trial 260 with value: 0.053230998474819435.\n"
     ]
    },
    {
     "name": "stdout",
     "output_type": "stream",
     "text": [
      "Similarity column 38121 (100.0%), 2709.86 column/sec. Elapsed time 14.07 sec\n",
      "EvaluatorHoldout: Ignoring 173 ( 0.5%) Users that have less than 1 test interactions\n",
      "EvaluatorHoldout: Processed 35563 (100.0%) in 30.35 sec. Users per second: 1172\n",
      "Similarity column 38121 (100.0%), 2746.77 column/sec. Elapsed time 13.88 sec\n",
      "EvaluatorHoldout: Ignoring 163 ( 0.5%) Users that have less than 1 test interactions\n",
      "EvaluatorHoldout: Processed 35573 (100.0%) in 30.17 sec. Users per second: 1179\n",
      "Similarity column 38121 (100.0%), 2786.11 column/sec. Elapsed time 13.68 sec\n",
      "EvaluatorHoldout: Ignoring 150 ( 0.4%) Users that have less than 1 test interactions\n",
      "EvaluatorHoldout: Processed 35586 (100.0%) in 29.64 sec. Users per second: 1201\n",
      "Similarity column 38121 (100.0%), 2777.98 column/sec. Elapsed time 13.72 sec\n",
      "EvaluatorHoldout: Ignoring 167 ( 0.5%) Users that have less than 1 test interactions\n",
      "EvaluatorHoldout: Processed 35569 (100.0%) in 28.88 sec. Users per second: 1232\n",
      "Similarity column 38121 (100.0%), 3053.23 column/sec. Elapsed time 12.49 sec\n",
      "EvaluatorHoldout: Ignoring 172 ( 0.5%) Users that have less than 1 test interactions\n",
      "EvaluatorHoldout: Processed 35564 (100.0%) in 27.72 sec. Users per second: 1283\n"
     ]
    },
    {
     "name": "stderr",
     "output_type": "stream",
     "text": [
      "[I 2025-01-05 02:49:33,054] Trial 267 finished with value: 0.05351701566277965 and parameters: {'similarity': 'tversky', 'topK': 11, 'shrink': 30, 'feature_weighting': 'none', 'tversky_alpha': 0.06322371949045463, 'tversky_beta': 1.827729234583476}. Best is trial 267 with value: 0.05351701566277965.\n"
     ]
    },
    {
     "name": "stdout",
     "output_type": "stream",
     "text": [
      "Similarity column 38121 (100.0%), 3021.76 column/sec. Elapsed time 12.62 sec\n",
      "EvaluatorHoldout: Ignoring 173 ( 0.5%) Users that have less than 1 test interactions\n",
      "EvaluatorHoldout: Processed 35563 (100.0%) in 27.64 sec. Users per second: 1287\n",
      "Similarity column 38121 (100.0%), 3026.77 column/sec. Elapsed time 12.59 sec\n",
      "EvaluatorHoldout: Ignoring 163 ( 0.5%) Users that have less than 1 test interactions\n",
      "EvaluatorHoldout: Processed 35573 (100.0%) in 27.79 sec. Users per second: 1280\n",
      "Similarity column 38121 (100.0%), 3017.04 column/sec. Elapsed time 12.64 sec\n",
      "EvaluatorHoldout: Ignoring 150 ( 0.4%) Users that have less than 1 test interactions\n",
      "EvaluatorHoldout: Processed 35586 (100.0%) in 27.89 sec. Users per second: 1276\n",
      "Similarity column 38121 (100.0%), 3035.91 column/sec. Elapsed time 12.56 sec\n",
      "EvaluatorHoldout: Ignoring 167 ( 0.5%) Users that have less than 1 test interactions\n",
      "EvaluatorHoldout: Processed 35569 (100.0%) in 27.72 sec. Users per second: 1283\n",
      "Similarity column 38121 (100.0%), 3010.75 column/sec. Elapsed time 12.66 sec\n",
      "EvaluatorHoldout: Ignoring 172 ( 0.5%) Users that have less than 1 test interactions\n",
      "EvaluatorHoldout: Processed 35564 (100.0%) in 27.87 sec. Users per second: 1276\n"
     ]
    },
    {
     "name": "stderr",
     "output_type": "stream",
     "text": [
      "[I 2025-01-05 02:52:56,586] Trial 268 finished with value: 0.053314355858730775 and parameters: {'similarity': 'tversky', 'topK': 12, 'shrink': 29, 'feature_weighting': 'none', 'tversky_alpha': 0.04791373003261537, 'tversky_beta': 1.831717262712215}. Best is trial 267 with value: 0.05351701566277965.\n"
     ]
    },
    {
     "name": "stdout",
     "output_type": "stream",
     "text": [
      "Similarity column 38121 (100.0%), 3549.71 column/sec. Elapsed time 10.74 sec\n",
      "EvaluatorHoldout: Ignoring 173 ( 0.5%) Users that have less than 1 test interactions\n",
      "EvaluatorHoldout: Processed 35563 (100.0%) in 26.04 sec. Users per second: 1366\n",
      "Similarity column 38121 (100.0%), 3546.62 column/sec. Elapsed time 10.75 sec\n",
      "EvaluatorHoldout: Ignoring 163 ( 0.5%) Users that have less than 1 test interactions\n",
      "EvaluatorHoldout: Processed 35573 (100.0%) in 26.04 sec. Users per second: 1366\n",
      "Similarity column 38121 (100.0%), 3564.97 column/sec. Elapsed time 10.69 sec\n",
      "EvaluatorHoldout: Ignoring 150 ( 0.4%) Users that have less than 1 test interactions\n",
      "EvaluatorHoldout: Processed 35586 (100.0%) in 25.95 sec. Users per second: 1371\n",
      "Similarity column 38121 (100.0%), 3524.21 column/sec. Elapsed time 10.82 sec\n",
      "EvaluatorHoldout: Ignoring 167 ( 0.5%) Users that have less than 1 test interactions\n",
      "EvaluatorHoldout: Processed 35569 (100.0%) in 26.30 sec. Users per second: 1353\n",
      "Similarity column 38121 (100.0%), 3282.71 column/sec. Elapsed time 11.61 sec\n",
      "EvaluatorHoldout: Ignoring 172 ( 0.5%) Users that have less than 1 test interactions\n",
      "EvaluatorHoldout: Processed 35564 (100.0%) in 27.96 sec. Users per second: 1272\n"
     ]
    },
    {
     "name": "stderr",
     "output_type": "stream",
     "text": [
      "[I 2025-01-05 02:56:05,070] Trial 269 finished with value: 0.03307219962532294 and parameters: {'similarity': 'tversky', 'topK': 1, 'shrink': 956, 'feature_weighting': 'none', 'tversky_alpha': 0.05162796283537141, 'tversky_beta': 1.8296071896654695}. Best is trial 267 with value: 0.05351701566277965.\n"
     ]
    },
    {
     "name": "stdout",
     "output_type": "stream",
     "text": [
      "Similarity column 38121 (100.0%), 2738.29 column/sec. Elapsed time 13.92 sec\n",
      "EvaluatorHoldout: Ignoring 173 ( 0.5%) Users that have less than 1 test interactions\n",
      "EvaluatorHoldout: Processed 35563 (100.0%) in 30.70 sec. Users per second: 1158\n",
      "Similarity column 38121 (100.0%), 2760.46 column/sec. Elapsed time 13.81 sec\n",
      "EvaluatorHoldout: Ignoring 163 ( 0.5%) Users that have less than 1 test interactions\n",
      "EvaluatorHoldout: Processed 35573 (100.0%) in 30.66 sec. Users per second: 1160\n",
      "Similarity column 38121 (100.0%), 2733.47 column/sec. Elapsed time 13.95 sec\n",
      "EvaluatorHoldout: Ignoring 150 ( 0.4%) Users that have less than 1 test interactions\n",
      "EvaluatorHoldout: Processed 35586 (100.0%) in 30.85 sec. Users per second: 1154\n",
      "Similarity column 38121 (100.0%), 2744.28 column/sec. Elapsed time 13.89 sec\n",
      "EvaluatorHoldout: Ignoring 167 ( 0.5%) Users that have less than 1 test interactions\n",
      "EvaluatorHoldout: Processed 35569 (100.0%) in 31.23 sec. Users per second: 1139\n",
      "Similarity column 38121 (100.0%), 2722.73 column/sec. Elapsed time 14.00 sec\n",
      "EvaluatorHoldout: Ignoring 172 ( 0.5%) Users that have less than 1 test interactions\n",
      "EvaluatorHoldout: Processed 35564 (100.0%) in 31.48 sec. Users per second: 1130\n"
     ]
    },
    {
     "name": "stderr",
     "output_type": "stream",
     "text": [
      "[I 2025-01-05 02:59:51,377] Trial 270 finished with value: 0.05178013728169698 and parameters: {'similarity': 'tversky', 'topK': 13, 'shrink': 64, 'feature_weighting': 'none', 'tversky_alpha': 0.10255426723376178, 'tversky_beta': 1.8574713495546675}. Best is trial 267 with value: 0.05351701566277965.\n"
     ]
    },
    {
     "name": "stdout",
     "output_type": "stream",
     "text": [
      "Similarity column 38121 (100.0%), 2639.91 column/sec. Elapsed time 14.44 sec\n",
      "EvaluatorHoldout: Ignoring 173 ( 0.5%) Users that have less than 1 test interactions\n",
      "EvaluatorHoldout: Processed 35563 (100.0%) in 34.10 sec. Users per second: 1043\n",
      "Similarity column 38121 (100.0%), 2657.34 column/sec. Elapsed time 14.35 sec\n",
      "EvaluatorHoldout: Ignoring 163 ( 0.5%) Users that have less than 1 test interactions\n",
      "EvaluatorHoldout: Processed 35573 (100.0%) in 33.68 sec. Users per second: 1056\n",
      "Similarity column 38121 (100.0%), 2686.48 column/sec. Elapsed time 14.19 sec\n",
      "EvaluatorHoldout: Ignoring 150 ( 0.4%) Users that have less than 1 test interactions\n",
      "EvaluatorHoldout: Processed 35586 (100.0%) in 33.28 sec. Users per second: 1069\n",
      "Similarity column 38121 (100.0%), 2675.76 column/sec. Elapsed time 14.25 sec\n",
      "EvaluatorHoldout: Ignoring 167 ( 0.5%) Users that have less than 1 test interactions\n",
      "EvaluatorHoldout: Processed 35569 (100.0%) in 33.57 sec. Users per second: 1060\n",
      "Similarity column 38121 (100.0%), 2692.69 column/sec. Elapsed time 14.16 sec\n",
      "EvaluatorHoldout: Ignoring 172 ( 0.5%) Users that have less than 1 test interactions\n",
      "EvaluatorHoldout: Processed 35564 (100.0%) in 33.51 sec. Users per second: 1061\n"
     ]
    },
    {
     "name": "stderr",
     "output_type": "stream",
     "text": [
      "[I 2025-01-05 03:03:53,050] Trial 271 finished with value: 0.049045059421762065 and parameters: {'similarity': 'tversky', 'topK': 46, 'shrink': 31, 'feature_weighting': 'none', 'tversky_alpha': 0.00019723995056575316, 'tversky_beta': 1.872806210456213}. Best is trial 267 with value: 0.05351701566277965.\n"
     ]
    },
    {
     "name": "stdout",
     "output_type": "stream",
     "text": [
      "Similarity column 38121 (100.0%), 2693.68 column/sec. Elapsed time 14.15 sec\n",
      "EvaluatorHoldout: Ignoring 173 ( 0.5%) Users that have less than 1 test interactions\n",
      "EvaluatorHoldout: Processed 35563 (100.0%) in 31.37 sec. Users per second: 1134\n",
      "Similarity column 38121 (100.0%), 2696.82 column/sec. Elapsed time 14.14 sec\n",
      "EvaluatorHoldout: Ignoring 163 ( 0.5%) Users that have less than 1 test interactions\n",
      "EvaluatorHoldout: Processed 35573 (100.0%) in 31.75 sec. Users per second: 1120\n",
      "Similarity column 38121 (100.0%), 2714.06 column/sec. Elapsed time 14.05 sec\n",
      "EvaluatorHoldout: Ignoring 150 ( 0.4%) Users that have less than 1 test interactions\n",
      "EvaluatorHoldout: Processed 35586 (100.0%) in 31.48 sec. Users per second: 1130\n",
      "Similarity column 38121 (100.0%), 2680.42 column/sec. Elapsed time 14.22 sec\n",
      "EvaluatorHoldout: Ignoring 167 ( 0.5%) Users that have less than 1 test interactions\n",
      "EvaluatorHoldout: Processed 35569 (100.0%) in 31.96 sec. Users per second: 1113\n",
      "Similarity column 38121 (100.0%), 2630.46 column/sec. Elapsed time 14.49 sec\n",
      "EvaluatorHoldout: Ignoring 172 ( 0.5%) Users that have less than 1 test interactions\n",
      "EvaluatorHoldout: Processed 35564 (100.0%) in 31.67 sec. Users per second: 1123\n"
     ]
    },
    {
     "name": "stderr",
     "output_type": "stream",
     "text": [
      "[I 2025-01-05 03:07:44,259] Trial 272 finished with value: 0.05127462047917321 and parameters: {'similarity': 'tversky', 'topK': 15, 'shrink': 65, 'feature_weighting': 'none', 'tversky_alpha': 0.09408138366049154, 'tversky_beta': 1.8479124446312833}. Best is trial 267 with value: 0.05351701566277965.\n"
     ]
    },
    {
     "name": "stdout",
     "output_type": "stream",
     "text": [
      "Similarity column 38121 (100.0%), 2532.46 column/sec. Elapsed time 15.05 sec\n",
      "EvaluatorHoldout: Ignoring 173 ( 0.5%) Users that have less than 1 test interactions\n",
      "EvaluatorHoldout: Processed 35563 (100.0%) in 54.09 sec. Users per second: 658\n",
      "Similarity column 38121 (100.0%), 2577.91 column/sec. Elapsed time 14.79 sec\n",
      "EvaluatorHoldout: Ignoring 163 ( 0.5%) Users that have less than 1 test interactions\n",
      "EvaluatorHoldout: Processed 35573 (100.0%) in 53.67 sec. Users per second: 663\n",
      "Similarity column 38121 (100.0%), 2591.21 column/sec. Elapsed time 14.71 sec\n",
      "EvaluatorHoldout: Ignoring 150 ( 0.4%) Users that have less than 1 test interactions\n",
      "EvaluatorHoldout: Processed 35586 (100.0%) in 53.60 sec. Users per second: 664\n",
      "Similarity column 38121 (100.0%), 2604.74 column/sec. Elapsed time 14.64 sec\n",
      "EvaluatorHoldout: Ignoring 167 ( 0.5%) Users that have less than 1 test interactions\n",
      "EvaluatorHoldout: Processed 35569 (100.0%) in 53.92 sec. Users per second: 660\n",
      "Similarity column 38121 (100.0%), 2570.74 column/sec. Elapsed time 14.83 sec\n",
      "EvaluatorHoldout: Ignoring 172 ( 0.5%) Users that have less than 1 test interactions\n",
      "EvaluatorHoldout: Processed 35564 (100.0%) in 53.53 sec. Users per second: 664\n"
     ]
    },
    {
     "name": "stderr",
     "output_type": "stream",
     "text": [
      "[I 2025-01-05 03:13:34,419] Trial 273 finished with value: 0.029566477782746063 and parameters: {'similarity': 'tversky', 'topK': 711, 'shrink': 457, 'feature_weighting': 'none', 'tversky_alpha': 0.04540268705838675, 'tversky_beta': 1.8194801982242088}. Best is trial 267 with value: 0.05351701566277965.\n"
     ]
    },
    {
     "name": "stdout",
     "output_type": "stream",
     "text": [
      "Similarity column 38121 (100.0%), 3497.47 column/sec. Elapsed time 10.90 sec\n",
      "EvaluatorHoldout: Ignoring 173 ( 0.5%) Users that have less than 1 test interactions\n",
      "EvaluatorHoldout: Processed 35563 (100.0%) in 24.48 sec. Users per second: 1453\n",
      "Similarity column 38121 (100.0%), 3494.48 column/sec. Elapsed time 10.91 sec\n",
      "EvaluatorHoldout: Ignoring 163 ( 0.5%) Users that have less than 1 test interactions\n",
      "EvaluatorHoldout: Processed 35573 (100.0%) in 24.61 sec. Users per second: 1445\n",
      "Similarity column 38121 (100.0%), 3485.71 column/sec. Elapsed time 10.94 sec\n",
      "EvaluatorHoldout: Ignoring 150 ( 0.4%) Users that have less than 1 test interactions\n",
      "EvaluatorHoldout: Processed 35586 (100.0%) in 24.72 sec. Users per second: 1439\n",
      "Similarity column 38121 (100.0%), 3471.77 column/sec. Elapsed time 10.98 sec\n",
      "EvaluatorHoldout: Ignoring 167 ( 0.5%) Users that have less than 1 test interactions\n",
      "EvaluatorHoldout: Processed 35569 (100.0%) in 24.55 sec. Users per second: 1449\n",
      "Similarity column 38121 (100.0%), 3480.29 column/sec. Elapsed time 10.95 sec\n",
      "EvaluatorHoldout: Ignoring 172 ( 0.5%) Users that have less than 1 test interactions\n",
      "EvaluatorHoldout: Processed 35564 (100.0%) in 24.39 sec. Users per second: 1458\n"
     ]
    },
    {
     "name": "stderr",
     "output_type": "stream",
     "text": [
      "[I 2025-01-05 03:16:33,607] Trial 274 finished with value: 0.0002664826418719655 and parameters: {'similarity': 'tversky', 'topK': 0, 'shrink': 31, 'feature_weighting': 'none', 'tversky_alpha': 0.10002482764885907, 'tversky_beta': 1.8859251816775324}. Best is trial 267 with value: 0.05351701566277965.\n"
     ]
    },
    {
     "name": "stdout",
     "output_type": "stream",
     "text": [
      "Similarity column 38121 (100.0%), 2861.80 column/sec. Elapsed time 13.32 sec\n",
      "EvaluatorHoldout: Ignoring 173 ( 0.5%) Users that have less than 1 test interactions\n",
      "EvaluatorHoldout: Processed 35563 (100.0%) in 40.18 sec. Users per second: 885\n",
      "Similarity column 38121 (100.0%), 2851.43 column/sec. Elapsed time 13.37 sec\n",
      "EvaluatorHoldout: Ignoring 163 ( 0.5%) Users that have less than 1 test interactions\n",
      "EvaluatorHoldout: Processed 35573 (100.0%) in 40.02 sec. Users per second: 889\n",
      "Similarity column 38121 (100.0%), 2876.68 column/sec. Elapsed time 13.25 sec\n",
      "EvaluatorHoldout: Ignoring 150 ( 0.4%) Users that have less than 1 test interactions\n",
      "EvaluatorHoldout: Processed 35586 (100.0%) in 40.19 sec. Users per second: 885\n",
      "Similarity column 38121 (100.0%), 2876.07 column/sec. Elapsed time 13.25 sec\n",
      "EvaluatorHoldout: Ignoring 167 ( 0.5%) Users that have less than 1 test interactions\n",
      "EvaluatorHoldout: Processed 35569 (100.0%) in 39.66 sec. Users per second: 897\n",
      "Similarity column 38121 (100.0%), 2838.75 column/sec. Elapsed time 13.43 sec\n",
      "EvaluatorHoldout: Ignoring 172 ( 0.5%) Users that have less than 1 test interactions\n",
      "EvaluatorHoldout: Processed 35564 (100.0%) in 39.90 sec. Users per second: 891\n"
     ]
    },
    {
     "name": "stderr",
     "output_type": "stream",
     "text": [
      "[I 2025-01-05 03:21:01,468] Trial 275 finished with value: 0.02873532901480332 and parameters: {'similarity': 'asymmetric', 'topK': 43, 'shrink': 25, 'feature_weighting': 'none', 'asymmetric_alpha': 1.4011725439161304}. Best is trial 267 with value: 0.05351701566277965.\n"
     ]
    },
    {
     "name": "stdout",
     "output_type": "stream",
     "text": [
      "Similarity column 38121 (100.0%), 2718.14 column/sec. Elapsed time 14.02 sec\n",
      "EvaluatorHoldout: Ignoring 173 ( 0.5%) Users that have less than 1 test interactions\n",
      "EvaluatorHoldout: Processed 35563 (100.0%) in 31.58 sec. Users per second: 1126\n",
      "Similarity column 38121 (100.0%), 2703.79 column/sec. Elapsed time 14.10 sec\n",
      "EvaluatorHoldout: Ignoring 163 ( 0.5%) Users that have less than 1 test interactions\n",
      "EvaluatorHoldout: Processed 35573 (100.0%) in 31.54 sec. Users per second: 1128\n",
      "Similarity column 38121 (100.0%), 2739.21 column/sec. Elapsed time 13.92 sec\n",
      "EvaluatorHoldout: Ignoring 150 ( 0.4%) Users that have less than 1 test interactions\n",
      "EvaluatorHoldout: Processed 35586 (100.0%) in 32.20 sec. Users per second: 1105\n",
      "Similarity column 38121 (100.0%), 2699.02 column/sec. Elapsed time 14.12 sec\n",
      "EvaluatorHoldout: Ignoring 167 ( 0.5%) Users that have less than 1 test interactions\n",
      "EvaluatorHoldout: Processed 35569 (100.0%) in 31.68 sec. Users per second: 1123\n",
      "Similarity column 38121 (100.0%), 2743.26 column/sec. Elapsed time 13.90 sec\n",
      "EvaluatorHoldout: Ignoring 172 ( 0.5%) Users that have less than 1 test interactions\n",
      "EvaluatorHoldout: Processed 35564 (100.0%) in 32.03 sec. Users per second: 1110\n"
     ]
    },
    {
     "name": "stderr",
     "output_type": "stream",
     "text": [
      "[I 2025-01-05 03:24:52,562] Trial 276 finished with value: 0.05091777583110446 and parameters: {'similarity': 'tversky', 'topK': 15, 'shrink': 70, 'feature_weighting': 'none', 'tversky_alpha': 0.04737482532279097, 'tversky_beta': 1.7744528586375783}. Best is trial 267 with value: 0.05351701566277965.\n"
     ]
    },
    {
     "name": "stdout",
     "output_type": "stream",
     "text": [
      "Similarity column 38121 (100.0%), 2671.39 column/sec. Elapsed time 14.27 sec\n",
      "EvaluatorHoldout: Ignoring 173 ( 0.5%) Users that have less than 1 test interactions\n",
      "EvaluatorHoldout: Processed 35563 (100.0%) in 32.43 sec. Users per second: 1097\n",
      "Similarity column 38121 (100.0%), 2555.17 column/sec. Elapsed time 14.92 sec\n",
      "EvaluatorHoldout: Ignoring 163 ( 0.5%) Users that have less than 1 test interactions\n",
      "EvaluatorHoldout: Processed 35573 (100.0%) in 35.74 sec. Users per second: 995\n",
      "Similarity column 38121 (100.0%), 2577.92 column/sec. Elapsed time 14.79 sec\n",
      "EvaluatorHoldout: Ignoring 150 ( 0.4%) Users that have less than 1 test interactions\n",
      "EvaluatorHoldout: Processed 35586 (100.0%) in 34.36 sec. Users per second: 1036\n",
      "Similarity column 38121 (100.0%), 2412.21 column/sec. Elapsed time 15.80 sec\n",
      "EvaluatorHoldout: Ignoring 167 ( 0.5%) Users that have less than 1 test interactions\n",
      "EvaluatorHoldout: Processed 35569 (100.0%) in 33.93 sec. Users per second: 1048\n",
      "Similarity column 38121 (100.0%), 2436.57 column/sec. Elapsed time 15.65 sec\n",
      "EvaluatorHoldout: Ignoring 172 ( 0.5%) Users that have less than 1 test interactions\n",
      "EvaluatorHoldout: Processed 35564 (100.0%) in 33.79 sec. Users per second: 1053\n"
     ]
    },
    {
     "name": "stderr",
     "output_type": "stream",
     "text": [
      "[I 2025-01-05 03:29:00,448] Trial 277 finished with value: 0.05267623074832051 and parameters: {'similarity': 'tversky', 'topK': 14, 'shrink': 36, 'feature_weighting': 'none', 'tversky_alpha': 0.11607872548651692, 'tversky_beta': 1.8715450844847978}. Best is trial 267 with value: 0.05351701566277965.\n"
     ]
    },
    {
     "name": "stdout",
     "output_type": "stream",
     "text": [
      "Similarity column 38121 (100.0%), 2591.81 column/sec. Elapsed time 14.71 sec\n",
      "EvaluatorHoldout: Ignoring 173 ( 0.5%) Users that have less than 1 test interactions\n",
      "EvaluatorHoldout: Processed 35563 (100.0%) in 32.96 sec. Users per second: 1079\n",
      "Similarity column 38121 (100.0%), 2597.33 column/sec. Elapsed time 14.68 sec\n",
      "EvaluatorHoldout: Ignoring 163 ( 0.5%) Users that have less than 1 test interactions\n",
      "EvaluatorHoldout: Processed 35573 (100.0%) in 33.06 sec. Users per second: 1076\n",
      "Similarity column 38121 (100.0%), 2593.76 column/sec. Elapsed time 14.70 sec\n",
      "EvaluatorHoldout: Ignoring 150 ( 0.4%) Users that have less than 1 test interactions\n",
      "EvaluatorHoldout: Processed 35586 (100.0%) in 32.72 sec. Users per second: 1088\n",
      "Similarity column 38121 (100.0%), 2606.90 column/sec. Elapsed time 14.62 sec\n",
      "EvaluatorHoldout: Ignoring 167 ( 0.5%) Users that have less than 1 test interactions\n",
      "EvaluatorHoldout: Processed 35569 (100.0%) in 33.03 sec. Users per second: 1077\n",
      "Similarity column 38121 (100.0%), 2573.67 column/sec. Elapsed time 14.81 sec\n",
      "EvaluatorHoldout: Ignoring 172 ( 0.5%) Users that have less than 1 test interactions\n",
      "EvaluatorHoldout: Processed 35564 (100.0%) in 32.66 sec. Users per second: 1089\n"
     ]
    },
    {
     "name": "stderr",
     "output_type": "stream",
     "text": [
      "[I 2025-01-05 03:33:00,374] Trial 278 finished with value: 0.05318563606780051 and parameters: {'similarity': 'tversky', 'topK': 14, 'shrink': 22, 'feature_weighting': 'none', 'tversky_alpha': 0.11798399884127372, 'tversky_beta': 1.8794628854112443}. Best is trial 267 with value: 0.05351701566277965.\n"
     ]
    },
    {
     "name": "stdout",
     "output_type": "stream",
     "text": [
      "Similarity column 38121 (100.0%), 2474.34 column/sec. Elapsed time 15.41 sec\n",
      "EvaluatorHoldout: Ignoring 173 ( 0.5%) Users that have less than 1 test interactions\n",
      "EvaluatorHoldout: Processed 35563 (100.0%) in 48.22 sec. Users per second: 737\n",
      "Similarity column 38121 (100.0%), 2495.99 column/sec. Elapsed time 15.27 sec\n",
      "EvaluatorHoldout: Ignoring 163 ( 0.5%) Users that have less than 1 test interactions\n",
      "EvaluatorHoldout: Processed 35573 (100.0%) in 46.79 sec. Users per second: 760\n",
      "Similarity column 38121 (100.0%), 2641.07 column/sec. Elapsed time 14.43 sec\n",
      "EvaluatorHoldout: Ignoring 150 ( 0.4%) Users that have less than 1 test interactions\n",
      "EvaluatorHoldout: Processed 35586 (100.0%) in 45.45 sec. Users per second: 783\n",
      "Similarity column 38121 (100.0%), 2622.34 column/sec. Elapsed time 14.54 sec\n",
      "EvaluatorHoldout: Ignoring 167 ( 0.5%) Users that have less than 1 test interactions\n",
      "EvaluatorHoldout: Processed 35569 (100.0%) in 44.85 sec. Users per second: 793\n",
      "Similarity column 38121 (100.0%), 2651.34 column/sec. Elapsed time 14.38 sec\n",
      "EvaluatorHoldout: Ignoring 172 ( 0.5%) Users that have less than 1 test interactions\n",
      "EvaluatorHoldout: Processed 35564 (100.0%) in 44.61 sec. Users per second: 797\n"
     ]
    },
    {
     "name": "stderr",
     "output_type": "stream",
     "text": [
      "[I 2025-01-05 03:38:10,361] Trial 279 finished with value: 0.03804079968142458 and parameters: {'similarity': 'tversky', 'topK': 593, 'shrink': 21, 'feature_weighting': 'none', 'tversky_alpha': 0.10733933075864827, 'tversky_beta': 1.880636861208098}. Best is trial 267 with value: 0.05351701566277965.\n"
     ]
    },
    {
     "name": "stdout",
     "output_type": "stream",
     "text": [
      "Similarity column 38121 (100.0%), 2747.42 column/sec. Elapsed time 13.88 sec\n",
      "EvaluatorHoldout: Ignoring 173 ( 0.5%) Users that have less than 1 test interactions\n",
      "EvaluatorHoldout: Processed 35563 (100.0%) in 32.74 sec. Users per second: 1086\n",
      "Similarity column 38121 (100.0%), 2744.79 column/sec. Elapsed time 13.89 sec\n",
      "EvaluatorHoldout: Ignoring 163 ( 0.5%) Users that have less than 1 test interactions\n",
      "EvaluatorHoldout: Processed 35573 (100.0%) in 32.94 sec. Users per second: 1080\n",
      "Similarity column 38121 (100.0%), 2769.35 column/sec. Elapsed time 13.77 sec\n",
      "EvaluatorHoldout: Ignoring 150 ( 0.4%) Users that have less than 1 test interactions\n",
      "EvaluatorHoldout: Processed 35586 (100.0%) in 32.74 sec. Users per second: 1087\n",
      "Similarity column 38121 (100.0%), 2753.92 column/sec. Elapsed time 13.84 sec\n",
      "EvaluatorHoldout: Ignoring 167 ( 0.5%) Users that have less than 1 test interactions\n",
      "EvaluatorHoldout: Processed 35569 (100.0%) in 32.47 sec. Users per second: 1096\n",
      "Similarity column 38121 (100.0%), 2729.05 column/sec. Elapsed time 13.97 sec\n",
      "EvaluatorHoldout: Ignoring 172 ( 0.5%) Users that have less than 1 test interactions\n",
      "EvaluatorHoldout: Processed 35564 (100.0%) in 33.09 sec. Users per second: 1075\n"
     ]
    },
    {
     "name": "stderr",
     "output_type": "stream",
     "text": [
      "[I 2025-01-05 03:42:05,636] Trial 280 finished with value: 0.048897001938809 and parameters: {'similarity': 'tversky', 'topK': 45, 'shrink': 34, 'feature_weighting': 'none', 'tversky_alpha': 0.04350197950938311, 'tversky_beta': 1.8479311582604963}. Best is trial 267 with value: 0.05351701566277965.\n"
     ]
    },
    {
     "name": "stdout",
     "output_type": "stream",
     "text": [
      "Similarity column 38121 (100.0%), 2738.49 column/sec. Elapsed time 13.92 sec\n",
      "EvaluatorHoldout: Ignoring 173 ( 0.5%) Users that have less than 1 test interactions\n",
      "EvaluatorHoldout: Processed 35563 (100.0%) in 30.75 sec. Users per second: 1157\n",
      "Similarity column 38121 (100.0%), 2740.44 column/sec. Elapsed time 13.91 sec\n",
      "EvaluatorHoldout: Ignoring 163 ( 0.5%) Users that have less than 1 test interactions\n",
      "EvaluatorHoldout: Processed 35573 (100.0%) in 30.87 sec. Users per second: 1152\n",
      "Similarity column 38121 (100.0%), 2701.60 column/sec. Elapsed time 14.11 sec\n",
      "EvaluatorHoldout: Ignoring 150 ( 0.4%) Users that have less than 1 test interactions\n",
      "EvaluatorHoldout: Processed 35586 (100.0%) in 31.40 sec. Users per second: 1133\n",
      "Similarity column 38121 (100.0%), 2653.25 column/sec. Elapsed time 14.37 sec\n",
      "EvaluatorHoldout: Ignoring 167 ( 0.5%) Users that have less than 1 test interactions\n",
      "EvaluatorHoldout: Processed 35569 (100.0%) in 31.84 sec. Users per second: 1117\n",
      "Similarity column 38121 (100.0%), 2650.89 column/sec. Elapsed time 14.38 sec\n",
      "EvaluatorHoldout: Ignoring 172 ( 0.5%) Users that have less than 1 test interactions\n",
      "EvaluatorHoldout: Processed 35564 (100.0%) in 31.78 sec. Users per second: 1119\n"
     ]
    },
    {
     "name": "stderr",
     "output_type": "stream",
     "text": [
      "[I 2025-01-05 03:45:54,888] Trial 281 finished with value: 0.05300323925642245 and parameters: {'similarity': 'tversky', 'topK': 15, 'shrink': 22, 'feature_weighting': 'none', 'tversky_alpha': 0.1073235069161637, 'tversky_beta': 1.9509456454376373}. Best is trial 267 with value: 0.05351701566277965.\n"
     ]
    },
    {
     "name": "stdout",
     "output_type": "stream",
     "text": [
      "Similarity column 38121 (100.0%), 2508.48 column/sec. Elapsed time 15.20 sec\n",
      "EvaluatorHoldout: Ignoring 173 ( 0.5%) Users that have less than 1 test interactions\n",
      "EvaluatorHoldout: Processed 35563 (100.0%) in 45.42 sec. Users per second: 783\n",
      "Similarity column 38121 (100.0%), 2597.56 column/sec. Elapsed time 14.68 sec\n",
      "EvaluatorHoldout: Ignoring 163 ( 0.5%) Users that have less than 1 test interactions\n",
      "EvaluatorHoldout: Processed 35573 (100.0%) in 49.42 sec. Users per second: 720\n",
      "Similarity column 38121 (100.0%), 2424.29 column/sec. Elapsed time 15.72 sec\n",
      "EvaluatorHoldout: Ignoring 150 ( 0.4%) Users that have less than 1 test interactions\n",
      "EvaluatorHoldout: Processed 35586 (100.0%) in 49.36 sec. Users per second: 721\n",
      "Similarity column 38121 (100.0%), 2392.88 column/sec. Elapsed time 15.93 sec\n",
      "EvaluatorHoldout: Ignoring 167 ( 0.5%) Users that have less than 1 test interactions\n",
      "EvaluatorHoldout: Processed 35569 (100.0%) in 49.44 sec. Users per second: 719\n",
      "Similarity column 38121 (100.0%), 2416.80 column/sec. Elapsed time 15.77 sec\n",
      "EvaluatorHoldout: Ignoring 172 ( 0.5%) Users that have less than 1 test interactions\n",
      "EvaluatorHoldout: Processed 35564 (100.0%) in 48.59 sec. Users per second: 732\n"
     ]
    },
    {
     "name": "stderr",
     "output_type": "stream",
     "text": [
      "[I 2025-01-05 03:51:20,897] Trial 282 finished with value: 0.03690790987867579 and parameters: {'similarity': 'tversky', 'topK': 472, 'shrink': 65, 'feature_weighting': 'none', 'tversky_alpha': 0.10853051499781682, 'tversky_beta': 1.892372531395725}. Best is trial 267 with value: 0.05351701566277965.\n"
     ]
    },
    {
     "name": "stdout",
     "output_type": "stream",
     "text": [
      "Similarity column 38121 (100.0%), 2585.12 column/sec. Elapsed time 14.75 sec\n",
      "EvaluatorHoldout: Ignoring 173 ( 0.5%) Users that have less than 1 test interactions\n",
      "EvaluatorHoldout: Processed 35563 (100.0%) in 33.48 sec. Users per second: 1062\n",
      "Similarity column 38121 (100.0%), 2558.21 column/sec. Elapsed time 14.90 sec\n",
      "EvaluatorHoldout: Ignoring 163 ( 0.5%) Users that have less than 1 test interactions\n",
      "EvaluatorHoldout: Processed 35573 (100.0%) in 33.47 sec. Users per second: 1063\n",
      "Similarity column 38121 (100.0%), 2595.86 column/sec. Elapsed time 14.69 sec\n",
      "EvaluatorHoldout: Ignoring 150 ( 0.4%) Users that have less than 1 test interactions\n",
      "EvaluatorHoldout: Processed 35586 (100.0%) in 34.14 sec. Users per second: 1043\n",
      "Similarity column 38121 (100.0%), 2602.58 column/sec. Elapsed time 14.65 sec\n",
      "EvaluatorHoldout: Ignoring 167 ( 0.5%) Users that have less than 1 test interactions\n",
      "EvaluatorHoldout: Processed 35569 (100.0%) in 33.27 sec. Users per second: 1069\n",
      "Similarity column 38121 (100.0%), 2587.09 column/sec. Elapsed time 14.74 sec\n",
      "EvaluatorHoldout: Ignoring 172 ( 0.5%) Users that have less than 1 test interactions\n",
      "EvaluatorHoldout: Processed 35564 (100.0%) in 33.36 sec. Users per second: 1066\n"
     ]
    },
    {
     "name": "stderr",
     "output_type": "stream",
     "text": [
      "[I 2025-01-05 03:55:24,546] Trial 283 finished with value: 0.052648941574855224 and parameters: {'similarity': 'tversky', 'topK': 15, 'shrink': 19, 'feature_weighting': 'none', 'tversky_alpha': 0.00010469254780605397, 'tversky_beta': 1.8249773885755949}. Best is trial 267 with value: 0.05351701566277965.\n"
     ]
    },
    {
     "name": "stdout",
     "output_type": "stream",
     "text": [
      "Similarity column 38121 (100.0%), 2621.70 column/sec. Elapsed time 14.54 sec\n",
      "EvaluatorHoldout: Ignoring 173 ( 0.5%) Users that have less than 1 test interactions\n",
      "EvaluatorHoldout: Processed 35563 (100.0%) in 33.32 sec. Users per second: 1067\n",
      "Similarity column 38121 (100.0%), 2585.72 column/sec. Elapsed time 14.74 sec\n",
      "EvaluatorHoldout: Ignoring 163 ( 0.5%) Users that have less than 1 test interactions\n",
      "EvaluatorHoldout: Processed 35573 (100.0%) in 33.27 sec. Users per second: 1069\n",
      "Similarity column 38121 (100.0%), 2626.99 column/sec. Elapsed time 14.51 sec\n",
      "EvaluatorHoldout: Ignoring 150 ( 0.4%) Users that have less than 1 test interactions\n",
      "EvaluatorHoldout: Processed 35586 (100.0%) in 33.38 sec. Users per second: 1066\n",
      "Similarity column 38121 (100.0%), 2615.81 column/sec. Elapsed time 14.57 sec\n",
      "EvaluatorHoldout: Ignoring 167 ( 0.5%) Users that have less than 1 test interactions\n",
      "EvaluatorHoldout: Processed 35569 (100.0%) in 32.76 sec. Users per second: 1086\n",
      "Similarity column 38121 (100.0%), 2614.52 column/sec. Elapsed time 14.58 sec\n",
      "EvaluatorHoldout: Ignoring 172 ( 0.5%) Users that have less than 1 test interactions\n",
      "EvaluatorHoldout: Processed 35564 (100.0%) in 33.15 sec. Users per second: 1073\n"
     ]
    },
    {
     "name": "stderr",
     "output_type": "stream",
     "text": [
      "[I 2025-01-05 03:59:25,574] Trial 284 finished with value: 0.05306271583010617 and parameters: {'similarity': 'tversky', 'topK': 12, 'shrink': 36, 'feature_weighting': 'none', 'tversky_alpha': 0.04083528779444992, 'tversky_beta': 1.8075006623328012}. Best is trial 267 with value: 0.05351701566277965.\n"
     ]
    },
    {
     "name": "stdout",
     "output_type": "stream",
     "text": [
      "Similarity column 38121 (100.0%), 2616.07 column/sec. Elapsed time 14.57 sec\n",
      "EvaluatorHoldout: Ignoring 173 ( 0.5%) Users that have less than 1 test interactions\n",
      "EvaluatorHoldout: Processed 35563 (100.0%) in 33.35 sec. Users per second: 1067\n",
      "Similarity column 38121 (100.0%), 2628.74 column/sec. Elapsed time 14.50 sec\n",
      "EvaluatorHoldout: Ignoring 163 ( 0.5%) Users that have less than 1 test interactions\n",
      "EvaluatorHoldout: Processed 35573 (100.0%) in 33.38 sec. Users per second: 1066\n",
      "Similarity column 38121 (100.0%), 2590.32 column/sec. Elapsed time 14.72 sec\n",
      "EvaluatorHoldout: Ignoring 150 ( 0.4%) Users that have less than 1 test interactions\n",
      "EvaluatorHoldout: Processed 35586 (100.0%) in 32.97 sec. Users per second: 1079\n",
      "Similarity column 38121 (100.0%), 2612.23 column/sec. Elapsed time 14.59 sec\n",
      "EvaluatorHoldout: Ignoring 167 ( 0.5%) Users that have less than 1 test interactions\n",
      "EvaluatorHoldout: Processed 35569 (100.0%) in 33.33 sec. Users per second: 1067\n",
      "Similarity column 38121 (100.0%), 2605.73 column/sec. Elapsed time 14.63 sec\n",
      "EvaluatorHoldout: Ignoring 172 ( 0.5%) Users that have less than 1 test interactions\n",
      "EvaluatorHoldout: Processed 35564 (100.0%) in 33.29 sec. Users per second: 1068\n"
     ]
    },
    {
     "name": "stderr",
     "output_type": "stream",
     "text": [
      "[I 2025-01-05 04:03:26,972] Trial 285 finished with value: 0.05263656227082064 and parameters: {'similarity': 'tversky', 'topK': 14, 'shrink': 36, 'feature_weighting': 'none', 'tversky_alpha': 0.04628032671285619, 'tversky_beta': 1.8081997979774203}. Best is trial 267 with value: 0.05351701566277965.\n"
     ]
    },
    {
     "name": "stdout",
     "output_type": "stream",
     "text": [
      "Similarity column 38121 (100.0%), 2623.81 column/sec. Elapsed time 14.53 sec\n",
      "EvaluatorHoldout: Ignoring 173 ( 0.5%) Users that have less than 1 test interactions\n",
      "EvaluatorHoldout: Processed 35563 (100.0%) in 35.80 sec. Users per second: 993\n",
      "Similarity column 38121 (100.0%), 2600.40 column/sec. Elapsed time 14.66 sec\n",
      "EvaluatorHoldout: Ignoring 163 ( 0.5%) Users that have less than 1 test interactions\n",
      "EvaluatorHoldout: Processed 35573 (100.0%) in 36.12 sec. Users per second: 985\n",
      "Similarity column 38121 (100.0%), 2607.27 column/sec. Elapsed time 14.62 sec\n",
      "EvaluatorHoldout: Ignoring 150 ( 0.4%) Users that have less than 1 test interactions\n",
      "EvaluatorHoldout: Processed 35586 (100.0%) in 35.47 sec. Users per second: 1003\n",
      "Similarity column 38121 (100.0%), 2582.07 column/sec. Elapsed time 14.76 sec\n",
      "EvaluatorHoldout: Ignoring 167 ( 0.5%) Users that have less than 1 test interactions\n",
      "EvaluatorHoldout: Processed 35569 (100.0%) in 35.56 sec. Users per second: 1000\n",
      "Similarity column 38121 (100.0%), 2587.90 column/sec. Elapsed time 14.73 sec\n",
      "EvaluatorHoldout: Ignoring 172 ( 0.5%) Users that have less than 1 test interactions\n",
      "EvaluatorHoldout: Processed 35564 (100.0%) in 36.55 sec. Users per second: 973\n"
     ]
    },
    {
     "name": "stderr",
     "output_type": "stream",
     "text": [
      "[I 2025-01-05 04:07:42,201] Trial 286 finished with value: 0.048891441644559844 and parameters: {'similarity': 'tversky', 'topK': 42, 'shrink': 39, 'feature_weighting': 'none', 'tversky_alpha': 0.0008987537609531776, 'tversky_beta': 1.8120029560412751}. Best is trial 267 with value: 0.05351701566277965.\n"
     ]
    },
    {
     "name": "stdout",
     "output_type": "stream",
     "text": [
      "Similarity column 38121 (100.0%), 2615.46 column/sec. Elapsed time 14.58 sec\n",
      "EvaluatorHoldout: Ignoring 173 ( 0.5%) Users that have less than 1 test interactions\n",
      "EvaluatorHoldout: Processed 35563 (100.0%) in 32.69 sec. Users per second: 1088\n",
      "Similarity column 38121 (100.0%), 2610.10 column/sec. Elapsed time 14.61 sec\n",
      "EvaluatorHoldout: Ignoring 163 ( 0.5%) Users that have less than 1 test interactions\n",
      "EvaluatorHoldout: Processed 35573 (100.0%) in 33.10 sec. Users per second: 1075\n",
      "Similarity column 38121 (100.0%), 2602.10 column/sec. Elapsed time 14.65 sec\n",
      "EvaluatorHoldout: Ignoring 150 ( 0.4%) Users that have less than 1 test interactions\n",
      "EvaluatorHoldout: Processed 35586 (100.0%) in 33.19 sec. Users per second: 1072\n",
      "Similarity column 38121 (100.0%), 2592.11 column/sec. Elapsed time 14.71 sec\n",
      "EvaluatorHoldout: Ignoring 167 ( 0.5%) Users that have less than 1 test interactions\n",
      "EvaluatorHoldout: Processed 35569 (100.0%) in 33.25 sec. Users per second: 1070\n",
      "Similarity column 38121 (100.0%), 2595.51 column/sec. Elapsed time 14.69 sec\n",
      "EvaluatorHoldout: Ignoring 172 ( 0.5%) Users that have less than 1 test interactions\n",
      "EvaluatorHoldout: Processed 35564 (100.0%) in 32.86 sec. Users per second: 1082\n"
     ]
    },
    {
     "name": "stderr",
     "output_type": "stream",
     "text": [
      "[I 2025-01-05 04:11:42,570] Trial 287 finished with value: 0.053398304472673463 and parameters: {'similarity': 'tversky', 'topK': 10, 'shrink': 36, 'feature_weighting': 'none', 'tversky_alpha': 0.040239003271035585, 'tversky_beta': 1.675602059740139}. Best is trial 267 with value: 0.05351701566277965.\n"
     ]
    },
    {
     "name": "stdout",
     "output_type": "stream",
     "text": [
      "Similarity column 38121 (100.0%), 3758.85 column/sec. Elapsed time 10.14 sec\n",
      "EvaluatorHoldout: Ignoring 173 ( 0.5%) Users that have less than 1 test interactions\n",
      "EvaluatorHoldout: Processed 35563 (100.0%) in 26.52 sec. Users per second: 1341\n",
      "Similarity column 38121 (100.0%), 3597.52 column/sec. Elapsed time 10.60 sec\n",
      "EvaluatorHoldout: Ignoring 163 ( 0.5%) Users that have less than 1 test interactions\n",
      "EvaluatorHoldout: Processed 35573 (100.0%) in 26.35 sec. Users per second: 1350\n",
      "Similarity column 38121 (100.0%), 3743.43 column/sec. Elapsed time 10.18 sec\n",
      "EvaluatorHoldout: Ignoring 150 ( 0.4%) Users that have less than 1 test interactions\n",
      "EvaluatorHoldout: Processed 35586 (100.0%) in 26.66 sec. Users per second: 1335\n",
      "Similarity column 38121 (100.0%), 3674.81 column/sec. Elapsed time 10.37 sec\n",
      "EvaluatorHoldout: Ignoring 167 ( 0.5%) Users that have less than 1 test interactions\n",
      "EvaluatorHoldout: Processed 35569 (100.0%) in 26.23 sec. Users per second: 1356\n",
      "Similarity column 38121 (100.0%), 3752.09 column/sec. Elapsed time 10.16 sec\n",
      "EvaluatorHoldout: Ignoring 172 ( 0.5%) Users that have less than 1 test interactions\n",
      "EvaluatorHoldout: Processed 35564 (100.0%) in 26.27 sec. Users per second: 1354\n"
     ]
    },
    {
     "name": "stderr",
     "output_type": "stream",
     "text": [
      "[I 2025-01-05 04:14:48,031] Trial 288 finished with value: 0.0002664826418719655 and parameters: {'similarity': 'jaccard', 'topK': 0, 'shrink': 62, 'feature_weighting': 'none'}. Best is trial 267 with value: 0.05351701566277965.\n"
     ]
    },
    {
     "name": "stdout",
     "output_type": "stream",
     "text": [
      "Similarity column 38121 (100.0%), 2587.48 column/sec. Elapsed time 14.73 sec\n",
      "EvaluatorHoldout: Ignoring 173 ( 0.5%) Users that have less than 1 test interactions\n",
      "EvaluatorHoldout: Processed 35563 (100.0%) in 33.88 sec. Users per second: 1050\n",
      "Similarity column 38121 (100.0%), 2549.98 column/sec. Elapsed time 14.95 sec\n",
      "EvaluatorHoldout: Ignoring 163 ( 0.5%) Users that have less than 1 test interactions\n",
      "EvaluatorHoldout: Processed 35573 (100.0%) in 33.98 sec. Users per second: 1047\n",
      "Similarity column 38121 (100.0%), 2564.95 column/sec. Elapsed time 14.86 sec\n",
      "EvaluatorHoldout: Ignoring 150 ( 0.4%) Users that have less than 1 test interactions\n",
      "EvaluatorHoldout: Processed 35586 (100.0%) in 33.99 sec. Users per second: 1047\n",
      "Similarity column 38121 (100.0%), 2517.60 column/sec. Elapsed time 15.14 sec\n",
      "EvaluatorHoldout: Ignoring 167 ( 0.5%) Users that have less than 1 test interactions\n",
      "EvaluatorHoldout: Processed 35569 (100.0%) in 34.44 sec. Users per second: 1033\n",
      "Similarity column 38121 (100.0%), 2561.63 column/sec. Elapsed time 14.88 sec\n",
      "EvaluatorHoldout: Ignoring 172 ( 0.5%) Users that have less than 1 test interactions\n",
      "EvaluatorHoldout: Processed 35564 (100.0%) in 33.32 sec. Users per second: 1067\n"
     ]
    },
    {
     "name": "stderr",
     "output_type": "stream",
     "text": [
      "[I 2025-01-05 04:18:54,400] Trial 289 finished with value: 0.05272727050856829 and parameters: {'similarity': 'tversky', 'topK': 13, 'shrink': 38, 'feature_weighting': 'none', 'tversky_alpha': 0.04172143824290705, 'tversky_beta': 1.7826019409141207}. Best is trial 267 with value: 0.05351701566277965.\n"
     ]
    },
    {
     "name": "stdout",
     "output_type": "stream",
     "text": [
      "Similarity column 38121 (100.0%), 2629.03 column/sec. Elapsed time 14.50 sec\n",
      "EvaluatorHoldout: Ignoring 173 ( 0.5%) Users that have less than 1 test interactions\n",
      "EvaluatorHoldout: Processed 35563 (100.0%) in 30.83 sec. Users per second: 1154\n",
      "Similarity column 38121 (100.0%), 2722.93 column/sec. Elapsed time 14.00 sec\n",
      "EvaluatorHoldout: Ignoring 163 ( 0.5%) Users that have less than 1 test interactions\n",
      "EvaluatorHoldout: Processed 35573 (100.0%) in 30.65 sec. Users per second: 1161\n",
      "Similarity column 38121 (100.0%), 2773.51 column/sec. Elapsed time 13.74 sec\n",
      "EvaluatorHoldout: Ignoring 150 ( 0.4%) Users that have less than 1 test interactions\n",
      "EvaluatorHoldout: Processed 35586 (100.0%) in 30.10 sec. Users per second: 1182\n",
      "Similarity column 38121 (100.0%), 2804.16 column/sec. Elapsed time 13.59 sec\n",
      "EvaluatorHoldout: Ignoring 167 ( 0.5%) Users that have less than 1 test interactions\n",
      "EvaluatorHoldout: Processed 35569 (100.0%) in 30.00 sec. Users per second: 1186\n",
      "Similarity column 38121 (100.0%), 2824.14 column/sec. Elapsed time 13.50 sec\n",
      "EvaluatorHoldout: Ignoring 172 ( 0.5%) Users that have less than 1 test interactions\n",
      "EvaluatorHoldout: Processed 35564 (100.0%) in 29.78 sec. Users per second: 1194\n"
     ]
    },
    {
     "name": "stderr",
     "output_type": "stream",
     "text": [
      "[I 2025-01-05 04:22:36,924] Trial 290 finished with value: 0.052834820688102344 and parameters: {'similarity': 'tversky', 'topK': 12, 'shrink': 41, 'feature_weighting': 'none', 'tversky_alpha': 0.04469947087486875, 'tversky_beta': 1.7529110560624337}. Best is trial 267 with value: 0.05351701566277965.\n"
     ]
    },
    {
     "name": "stdout",
     "output_type": "stream",
     "text": [
      "Similarity column 38121 (100.0%), 2819.10 column/sec. Elapsed time 13.52 sec\n",
      "EvaluatorHoldout: Ignoring 173 ( 0.5%) Users that have less than 1 test interactions\n",
      "EvaluatorHoldout: Processed 35563 (100.0%) in 33.22 sec. Users per second: 1071\n",
      "Similarity column 38121 (100.0%), 2784.04 column/sec. Elapsed time 13.69 sec\n",
      "EvaluatorHoldout: Ignoring 163 ( 0.5%) Users that have less than 1 test interactions\n",
      "EvaluatorHoldout: Processed 35573 (100.0%) in 33.41 sec. Users per second: 1065\n",
      "Similarity column 38121 (100.0%), 2784.20 column/sec. Elapsed time 13.69 sec\n",
      "EvaluatorHoldout: Ignoring 150 ( 0.4%) Users that have less than 1 test interactions\n",
      "EvaluatorHoldout: Processed 35586 (100.0%) in 33.17 sec. Users per second: 1073\n",
      "Similarity column 38121 (100.0%), 2780.03 column/sec. Elapsed time 13.71 sec\n",
      "EvaluatorHoldout: Ignoring 167 ( 0.5%) Users that have less than 1 test interactions\n",
      "EvaluatorHoldout: Processed 35569 (100.0%) in 33.19 sec. Users per second: 1072\n",
      "Similarity column 38121 (100.0%), 2802.01 column/sec. Elapsed time 13.60 sec\n",
      "EvaluatorHoldout: Ignoring 172 ( 0.5%) Users that have less than 1 test interactions\n",
      "EvaluatorHoldout: Processed 35564 (100.0%) in 33.25 sec. Users per second: 1070\n"
     ]
    },
    {
     "name": "stderr",
     "output_type": "stream",
     "text": [
      "[I 2025-01-05 04:26:33,402] Trial 291 finished with value: 0.04848977138583462 and parameters: {'similarity': 'tversky', 'topK': 43, 'shrink': 61, 'feature_weighting': 'none', 'tversky_alpha': 1.0857284573402364, 'tversky_beta': 1.6862188692241697}. Best is trial 267 with value: 0.05351701566277965.\n"
     ]
    },
    {
     "name": "stdout",
     "output_type": "stream",
     "text": [
      "Similarity column 38121 (100.0%), 2786.54 column/sec. Elapsed time 13.68 sec\n",
      "EvaluatorHoldout: Ignoring 173 ( 0.5%) Users that have less than 1 test interactions\n",
      "EvaluatorHoldout: Processed 35563 (100.0%) in 30.12 sec. Users per second: 1181\n",
      "Similarity column 38121 (100.0%), 2777.71 column/sec. Elapsed time 13.72 sec\n",
      "EvaluatorHoldout: Ignoring 163 ( 0.5%) Users that have less than 1 test interactions\n",
      "EvaluatorHoldout: Processed 35573 (100.0%) in 30.49 sec. Users per second: 1167\n",
      "Similarity column 38121 (100.0%), 2766.88 column/sec. Elapsed time 13.78 sec\n",
      "EvaluatorHoldout: Ignoring 150 ( 0.4%) Users that have less than 1 test interactions\n",
      "EvaluatorHoldout: Processed 35586 (100.0%) in 30.44 sec. Users per second: 1169\n",
      "Similarity column 38121 (100.0%), 2758.99 column/sec. Elapsed time 13.82 sec\n",
      "EvaluatorHoldout: Ignoring 167 ( 0.5%) Users that have less than 1 test interactions\n",
      "EvaluatorHoldout: Processed 35569 (100.0%) in 30.50 sec. Users per second: 1166\n",
      "Similarity column 38121 (100.0%), 2769.74 column/sec. Elapsed time 13.76 sec\n",
      "EvaluatorHoldout: Ignoring 172 ( 0.5%) Users that have less than 1 test interactions\n",
      "EvaluatorHoldout: Processed 35564 (100.0%) in 30.56 sec. Users per second: 1164\n"
     ]
    },
    {
     "name": "stderr",
     "output_type": "stream",
     "text": [
      "[I 2025-01-05 04:30:16,064] Trial 292 finished with value: 0.052674484024547705 and parameters: {'similarity': 'tversky', 'topK': 13, 'shrink': 39, 'feature_weighting': 'none', 'tversky_alpha': 0.03762439441461213, 'tversky_beta': 1.7710624245856392}. Best is trial 267 with value: 0.05351701566277965.\n"
     ]
    },
    {
     "name": "stdout",
     "output_type": "stream",
     "text": [
      "Similarity column 38121 (100.0%), 2752.64 column/sec. Elapsed time 13.85 sec\n",
      "EvaluatorHoldout: Ignoring 173 ( 0.5%) Users that have less than 1 test interactions\n",
      "EvaluatorHoldout: Processed 35563 (100.0%) in 32.82 sec. Users per second: 1084\n",
      "Similarity column 38121 (100.0%), 2732.48 column/sec. Elapsed time 13.95 sec\n",
      "EvaluatorHoldout: Ignoring 163 ( 0.5%) Users that have less than 1 test interactions\n",
      "EvaluatorHoldout: Processed 35573 (100.0%) in 32.73 sec. Users per second: 1087\n",
      "Similarity column 38121 (100.0%), 2714.78 column/sec. Elapsed time 14.04 sec\n",
      "EvaluatorHoldout: Ignoring 150 ( 0.4%) Users that have less than 1 test interactions\n",
      "EvaluatorHoldout: Processed 35586 (100.0%) in 33.08 sec. Users per second: 1076\n",
      "Similarity column 38121 (100.0%), 2684.08 column/sec. Elapsed time 14.20 sec\n",
      "EvaluatorHoldout: Ignoring 167 ( 0.5%) Users that have less than 1 test interactions\n",
      "EvaluatorHoldout: Processed 35569 (100.0%) in 33.37 sec. Users per second: 1066\n",
      "Similarity column 38121 (100.0%), 2734.96 column/sec. Elapsed time 13.94 sec\n",
      "EvaluatorHoldout: Ignoring 172 ( 0.5%) Users that have less than 1 test interactions\n",
      "EvaluatorHoldout: Processed 35564 (100.0%) in 32.97 sec. Users per second: 1079\n"
     ]
    },
    {
     "name": "stderr",
     "output_type": "stream",
     "text": [
      "[I 2025-01-05 04:34:12,886] Trial 293 finished with value: 0.04040126154027886 and parameters: {'similarity': 'tversky', 'topK': 12, 'shrink': 803, 'feature_weighting': 'none', 'tversky_alpha': 0.03802178816924387, 'tversky_beta': 1.7617992456528562}. Best is trial 267 with value: 0.05351701566277965.\n"
     ]
    },
    {
     "name": "stdout",
     "output_type": "stream",
     "text": [
      "Similarity column 38121 (100.0%), 2702.97 column/sec. Elapsed time 14.10 sec\n",
      "EvaluatorHoldout: Ignoring 173 ( 0.5%) Users that have less than 1 test interactions\n",
      "EvaluatorHoldout: Processed 35563 (100.0%) in 33.58 sec. Users per second: 1059\n",
      "Similarity column 38121 (100.0%), 2709.02 column/sec. Elapsed time 14.07 sec\n",
      "EvaluatorHoldout: Ignoring 163 ( 0.5%) Users that have less than 1 test interactions\n",
      "EvaluatorHoldout: Processed 35573 (100.0%) in 33.78 sec. Users per second: 1053\n",
      "Similarity column 38121 (100.0%), 2695.99 column/sec. Elapsed time 14.14 sec\n",
      "EvaluatorHoldout: Ignoring 150 ( 0.4%) Users that have less than 1 test interactions\n",
      "EvaluatorHoldout: Processed 35586 (100.0%) in 33.32 sec. Users per second: 1068\n",
      "Similarity column 38121 (100.0%), 2714.03 column/sec. Elapsed time 14.05 sec\n",
      "EvaluatorHoldout: Ignoring 167 ( 0.5%) Users that have less than 1 test interactions\n",
      "EvaluatorHoldout: Processed 35569 (100.0%) in 33.08 sec. Users per second: 1075\n",
      "Similarity column 38121 (100.0%), 2687.68 column/sec. Elapsed time 14.18 sec\n",
      "EvaluatorHoldout: Ignoring 172 ( 0.5%) Users that have less than 1 test interactions\n",
      "EvaluatorHoldout: Processed 35564 (100.0%) in 33.12 sec. Users per second: 1074\n"
     ]
    },
    {
     "name": "stderr",
     "output_type": "stream",
     "text": [
      "[I 2025-01-05 04:38:12,435] Trial 294 finished with value: 0.04890841429102853 and parameters: {'similarity': 'tversky', 'topK': 40, 'shrink': 40, 'feature_weighting': 'none', 'tversky_alpha': 0.038588733428735596, 'tversky_beta': 1.7205587407697214}. Best is trial 267 with value: 0.05351701566277965.\n"
     ]
    },
    {
     "name": "stdout",
     "output_type": "stream",
     "text": [
      "Similarity column 38121 (100.0%), 3537.72 column/sec. Elapsed time 10.78 sec\n",
      "EvaluatorHoldout: Ignoring 173 ( 0.5%) Users that have less than 1 test interactions\n",
      "EvaluatorHoldout: Processed 35563 (100.0%) in 24.29 sec. Users per second: 1464\n",
      "Similarity column 38121 (100.0%), 3464.47 column/sec. Elapsed time 11.00 sec\n",
      "EvaluatorHoldout: Ignoring 163 ( 0.5%) Users that have less than 1 test interactions\n",
      "EvaluatorHoldout: Processed 35573 (100.0%) in 24.36 sec. Users per second: 1460\n",
      "Similarity column 38121 (100.0%), 3535.30 column/sec. Elapsed time 10.78 sec\n",
      "EvaluatorHoldout: Ignoring 150 ( 0.4%) Users that have less than 1 test interactions\n",
      "EvaluatorHoldout: Processed 35586 (100.0%) in 24.48 sec. Users per second: 1454\n",
      "Similarity column 38121 (100.0%), 3444.62 column/sec. Elapsed time 11.07 sec\n",
      "EvaluatorHoldout: Ignoring 167 ( 0.5%) Users that have less than 1 test interactions\n",
      "EvaluatorHoldout: Processed 35569 (100.0%) in 24.23 sec. Users per second: 1468\n",
      "Similarity column 38121 (100.0%), 3523.33 column/sec. Elapsed time 10.82 sec\n",
      "EvaluatorHoldout: Ignoring 172 ( 0.5%) Users that have less than 1 test interactions\n",
      "EvaluatorHoldout: Processed 35564 (100.0%) in 24.34 sec. Users per second: 1461\n"
     ]
    },
    {
     "name": "stderr",
     "output_type": "stream",
     "text": [
      "[I 2025-01-05 04:41:10,351] Trial 295 finished with value: 0.0002664826418719655 and parameters: {'similarity': 'tversky', 'topK': 0, 'shrink': 62, 'feature_weighting': 'none', 'tversky_alpha': 0.08555081044800847, 'tversky_beta': 1.6691632250380948}. Best is trial 267 with value: 0.05351701566277965.\n"
     ]
    },
    {
     "name": "stdout",
     "output_type": "stream",
     "text": [
      "Similarity column 38121 (100.0%), 2717.46 column/sec. Elapsed time 14.03 sec\n",
      "EvaluatorHoldout: Ignoring 173 ( 0.5%) Users that have less than 1 test interactions\n",
      "EvaluatorHoldout: Processed 35563 (100.0%) in 35.98 sec. Users per second: 988\n",
      "Similarity column 38121 (100.0%), 2682.48 column/sec. Elapsed time 14.21 sec\n",
      "EvaluatorHoldout: Ignoring 163 ( 0.5%) Users that have less than 1 test interactions\n",
      "EvaluatorHoldout: Processed 35573 (100.0%) in 36.23 sec. Users per second: 982\n",
      "Similarity column 38121 (100.0%), 2736.71 column/sec. Elapsed time 13.93 sec\n",
      "EvaluatorHoldout: Ignoring 150 ( 0.4%) Users that have less than 1 test interactions\n",
      "EvaluatorHoldout: Processed 35586 (100.0%) in 36.26 sec. Users per second: 981\n",
      "Similarity column 38121 (100.0%), 2685.61 column/sec. Elapsed time 14.19 sec\n",
      "EvaluatorHoldout: Ignoring 167 ( 0.5%) Users that have less than 1 test interactions\n",
      "EvaluatorHoldout: Processed 35569 (100.0%) in 36.22 sec. Users per second: 982\n",
      "Similarity column 38121 (100.0%), 2737.83 column/sec. Elapsed time 13.92 sec\n",
      "EvaluatorHoldout: Ignoring 172 ( 0.5%) Users that have less than 1 test interactions\n",
      "EvaluatorHoldout: Processed 35564 (100.0%) in 36.20 sec. Users per second: 982\n"
     ]
    },
    {
     "name": "stderr",
     "output_type": "stream",
     "text": [
      "[I 2025-01-05 04:45:23,706] Trial 296 finished with value: 0.03911269935383791 and parameters: {'similarity': 'tversky', 'topK': 57, 'shrink': 413, 'feature_weighting': 'none', 'tversky_alpha': 0.033678280127538374, 'tversky_beta': 1.757606787815881}. Best is trial 267 with value: 0.05351701566277965.\n"
     ]
    },
    {
     "name": "stdout",
     "output_type": "stream",
     "text": [
      "Similarity column 38121 (100.0%), 664.87 column/sec. Elapsed time 57.34 sec\n",
      "EvaluatorHoldout: Ignoring 173 ( 0.5%) Users that have less than 1 test interactions\n",
      "EvaluatorHoldout: Processed 35563 (100.0%) in 24.19 sec. Users per second: 1470\n",
      "Similarity column 38121 (100.0%), 667.31 column/sec. Elapsed time 57.13 sec\n",
      "EvaluatorHoldout: Ignoring 163 ( 0.5%) Users that have less than 1 test interactions\n",
      "EvaluatorHoldout: Processed 35573 (100.0%) in 24.16 sec. Users per second: 1473\n",
      "Similarity column 38121 (100.0%), 674.71 column/sec. Elapsed time 56.50 sec\n",
      "EvaluatorHoldout: Ignoring 150 ( 0.4%) Users that have less than 1 test interactions\n",
      "EvaluatorHoldout: Processed 35586 (100.0%) in 24.28 sec. Users per second: 1466\n",
      "Similarity column 38121 (100.0%), 665.96 column/sec. Elapsed time 57.24 sec\n",
      "EvaluatorHoldout: Ignoring 167 ( 0.5%) Users that have less than 1 test interactions\n",
      "EvaluatorHoldout: Processed 35569 (100.0%) in 24.32 sec. Users per second: 1462\n",
      "Similarity column 38121 (100.0%), 675.22 column/sec. Elapsed time 56.46 sec\n",
      "EvaluatorHoldout: Ignoring 172 ( 0.5%) Users that have less than 1 test interactions\n",
      "EvaluatorHoldout: Processed 35564 (100.0%) in 24.13 sec. Users per second: 1474\n"
     ]
    },
    {
     "name": "stderr",
     "output_type": "stream",
     "text": [
      "[I 2025-01-05 04:52:09,985] Trial 297 finished with value: 0.0002664826418719655 and parameters: {'similarity': 'euclidean', 'topK': 0, 'shrink': 39, 'feature_weighting': 'none', 'normalize_avg_row': False, 'similarity_from_distance_mode': 'exp', 'normalize': False}. Best is trial 267 with value: 0.05351701566277965.\n"
     ]
    },
    {
     "name": "stdout",
     "output_type": "stream",
     "text": [
      "Similarity column 38121 (100.0%), 2660.33 column/sec. Elapsed time 14.33 sec\n",
      "EvaluatorHoldout: Ignoring 173 ( 0.5%) Users that have less than 1 test interactions\n",
      "EvaluatorHoldout: Processed 35563 (100.0%) in 40.26 sec. Users per second: 883\n",
      "Similarity column 38121 (100.0%), 2638.36 column/sec. Elapsed time 14.45 sec\n",
      "EvaluatorHoldout: Ignoring 163 ( 0.5%) Users that have less than 1 test interactions\n",
      "EvaluatorHoldout: Processed 35573 (100.0%) in 40.41 sec. Users per second: 880\n",
      "Similarity column 38121 (100.0%), 2663.30 column/sec. Elapsed time 14.31 sec\n",
      "EvaluatorHoldout: Ignoring 150 ( 0.4%) Users that have less than 1 test interactions\n",
      "EvaluatorHoldout: Processed 35586 (100.0%) in 40.42 sec. Users per second: 880\n",
      "Similarity column 38121 (100.0%), 2625.20 column/sec. Elapsed time 14.52 sec\n",
      "EvaluatorHoldout: Ignoring 167 ( 0.5%) Users that have less than 1 test interactions\n",
      "EvaluatorHoldout: Processed 35569 (100.0%) in 40.34 sec. Users per second: 882\n",
      "Similarity column 38121 (100.0%), 2665.51 column/sec. Elapsed time 14.30 sec\n",
      "EvaluatorHoldout: Ignoring 172 ( 0.5%) Users that have less than 1 test interactions\n",
      "EvaluatorHoldout: Processed 35564 (100.0%) in 40.39 sec. Users per second: 881\n"
     ]
    },
    {
     "name": "stderr",
     "output_type": "stream",
     "text": [
      "[I 2025-01-05 04:56:47,494] Trial 298 finished with value: 0.040218770111744254 and parameters: {'similarity': 'tversky', 'topK': 290, 'shrink': 38, 'feature_weighting': 'none', 'tversky_alpha': 0.11800435936093204, 'tversky_beta': 1.7891937590072169}. Best is trial 267 with value: 0.05351701566277965.\n"
     ]
    },
    {
     "name": "stdout",
     "output_type": "stream",
     "text": [
      "Similarity column 38121 (100.0%), 3079.98 column/sec. Elapsed time 12.38 sec\n",
      "EvaluatorHoldout: Ignoring 173 ( 0.5%) Users that have less than 1 test interactions\n",
      "EvaluatorHoldout: Processed 35563 (100.0%) in 31.60 sec. Users per second: 1125\n",
      "Similarity column 38121 (100.0%), 3007.03 column/sec. Elapsed time 12.68 sec\n",
      "EvaluatorHoldout: Ignoring 163 ( 0.5%) Users that have less than 1 test interactions\n",
      "EvaluatorHoldout: Processed 35573 (100.0%) in 32.08 sec. Users per second: 1109\n",
      "Similarity column 38121 (100.0%), 2936.01 column/sec. Elapsed time 12.98 sec\n",
      "EvaluatorHoldout: Ignoring 150 ( 0.4%) Users that have less than 1 test interactions\n",
      "EvaluatorHoldout: Processed 35586 (100.0%) in 32.59 sec. Users per second: 1092\n",
      "Similarity column 38121 (100.0%), 3018.43 column/sec. Elapsed time 12.63 sec\n",
      "EvaluatorHoldout: Ignoring 167 ( 0.5%) Users that have less than 1 test interactions\n",
      "EvaluatorHoldout: Processed 35569 (100.0%) in 33.30 sec. Users per second: 1068\n",
      "Similarity column 38121 (100.0%), 2992.04 column/sec. Elapsed time 12.74 sec\n",
      "EvaluatorHoldout: Ignoring 172 ( 0.5%) Users that have less than 1 test interactions\n",
      "EvaluatorHoldout: Processed 35564 (100.0%) in 32.66 sec. Users per second: 1089\n"
     ]
    },
    {
     "name": "stderr",
     "output_type": "stream",
     "text": [
      "[I 2025-01-05 05:00:34,964] Trial 299 finished with value: 0.04916640282816878 and parameters: {'similarity': 'dice', 'topK': 12, 'shrink': 65, 'feature_weighting': 'none'}. Best is trial 267 with value: 0.05351701566277965.\n"
     ]
    }
   ],
   "source": [
    "if config['tune_parameters']:\n",
    "    \n",
    "    optuna_study = optuna.create_study(direction='maximize', study_name=f'hyperparameters_tuning_{config[\"model\"]}_{config[\"metric\"]}',\n",
    "                                storage=f'sqlite:///{config[\"database_path\"]}', load_if_exists=True)\n",
    "\n",
    "    optuna_study.optimize(objective_function_ItemKNNCF, n_trials=100)"
   ]
  },
  {
   "cell_type": "markdown",
   "id": "d2528f45",
   "metadata": {
    "papermill": {
     "duration": 0.105359,
     "end_time": "2025-01-05T05:00:35.342087",
     "exception": false,
     "start_time": "2025-01-05T05:00:35.236728",
     "status": "completed"
    },
    "tags": []
   },
   "source": [
    "## Some optuna visualizations on recommender parameters"
   ]
  },
  {
   "cell_type": "code",
   "execution_count": 14,
   "id": "40dcb85d",
   "metadata": {
    "execution": {
     "iopub.execute_input": "2025-01-05T05:00:35.561052Z",
     "iopub.status.busy": "2025-01-05T05:00:35.560428Z",
     "iopub.status.idle": "2025-01-05T05:00:38.465934Z",
     "shell.execute_reply": "2025-01-05T05:00:38.464890Z"
    },
    "papermill": {
     "duration": 3.017008,
     "end_time": "2025-01-05T05:00:38.467652",
     "exception": false,
     "start_time": "2025-01-05T05:00:35.450644",
     "status": "completed"
    },
    "tags": []
   },
   "outputs": [
    {
     "data": {
      "text/html": [
       "<html>\n",
       "<head><meta charset=\"utf-8\" /></head>\n",
       "<body>\n",
       "    <div>            <script src=\"https://cdnjs.cloudflare.com/ajax/libs/mathjax/2.7.5/MathJax.js?config=TeX-AMS-MML_SVG\"></script><script type=\"text/javascript\">if (window.MathJax && window.MathJax.Hub && window.MathJax.Hub.Config) {window.MathJax.Hub.Config({SVG: {font: \"STIX-Web\"}});}</script>                <script type=\"text/javascript\">window.PlotlyConfig = {MathJaxConfig: 'local'};</script>\n",
       "        <script charset=\"utf-8\" src=\"https://cdn.plot.ly/plotly-2.35.2.min.js\"></script>                <div id=\"5bd4c024-b567-4911-922f-8577efbb9d31\" class=\"plotly-graph-div\" style=\"height:525px; width:3000px;\"></div>            <script type=\"text/javascript\">                                    window.PLOTLYENV=window.PLOTLYENV || {};                                    if (document.getElementById(\"5bd4c024-b567-4911-922f-8577efbb9d31\")) {                    Plotly.newPlot(                        \"5bd4c024-b567-4911-922f-8577efbb9d31\",                        [{\"marker\":{\"color\":[1,18,27,36,57,70,97,125,158,275],\"colorbar\":{\"title\":{\"text\":\"Trial\"},\"x\":1.0,\"xpad\":40},\"colorscale\":[[0.0,\"rgb(247,251,255)\"],[0.125,\"rgb(222,235,247)\"],[0.25,\"rgb(198,219,239)\"],[0.375,\"rgb(158,202,225)\"],[0.5,\"rgb(107,174,214)\"],[0.625,\"rgb(66,146,198)\"],[0.75,\"rgb(33,113,181)\"],[0.875,\"rgb(8,81,156)\"],[1.0,\"rgb(8,48,107)\"]],\"line\":{\"color\":\"Grey\",\"width\":0.5},\"showscale\":true},\"mode\":\"markers\",\"name\":\"Feasible Trial\",\"showlegend\":false,\"x\":[0.9418222652166581,1.9529260996222917,0.0012138953143470133,1.934694050596998,0.32257361036385657,1.1078886213783108,1.147248784534726,0.6453577064150977,1.5917489318159819,1.4011725439161304],\"y\":[0.04171964497081084,0.009585828606819929,0.04010564854729204,0.018499769450536042,0.0469879804783168,0.022658722357174747,0.04057861037770286,0.045043685195053494,0.009216016064248595,0.02873532901480332],\"type\":\"scatter\",\"xaxis\":\"x\",\"yaxis\":\"y\"},{\"marker\":{\"color\":[0,1,2,3,4,5,6,7,8,9,10,11,12,13,14,15,16,17,18,19,20,21,22,23,24,25,26,27,28,29,30,31,32,33,34,35,36,37,38,39,40,41,42,43,44,45,46,47,48,49,50,51,52,53,54,55,56,57,58,59,60,61,62,63,64,65,66,67,68,69,70,71,72,73,74,75,76,77,78,79,80,81,82,83,84,85,86,87,88,89,90,91,92,93,94,95,96,97,98,99,100,101,102,103,104,105,106,107,108,109,110,111,112,113,114,115,116,117,118,119,120,121,122,123,124,125,126,127,128,129,130,131,132,133,134,135,136,137,138,139,140,141,142,143,144,145,146,147,148,149,150,151,152,153,154,155,156,157,158,159,160,161,162,163,164,165,166,167,168,169,170,171,172,173,174,175,176,177,178,179,180,181,182,183,184,185,186,187,188,189,190,191,192,193,194,195,196,197,198,199,200,201,202,203,204,205,206,207,208,209,210,211,212,213,214,215,216,217,218,219,220,221,222,223,224,225,226,227,228,229,230,231,232,233,234,235,236,237,238,239,240,241,242,243,244,245,246,247,248,249,250,251,252,253,254,255,256,257,258,259,260,261,262,263,264,265,266,267,268,269,270,271,272,273,274,275,276,277,278,279,280,281,282,283,284,285,286,287,288,289,290,291,292,293,294,295,296,297,298,299],\"colorbar\":{\"title\":{\"text\":\"Trial\"},\"x\":1.0,\"xpad\":40},\"colorscale\":[[0.0,\"rgb(247,251,255)\"],[0.125,\"rgb(222,235,247)\"],[0.25,\"rgb(198,219,239)\"],[0.375,\"rgb(158,202,225)\"],[0.5,\"rgb(107,174,214)\"],[0.625,\"rgb(66,146,198)\"],[0.75,\"rgb(33,113,181)\"],[0.875,\"rgb(8,81,156)\"],[1.0,\"rgb(8,48,107)\"]],\"line\":{\"color\":\"Grey\",\"width\":0.5},\"showscale\":false},\"mode\":\"markers\",\"name\":\"Feasible Trial\",\"showlegend\":false,\"x\":[\"BM25\",\"BM25\",\"TF-IDF\",\"BM25\",\"BM25\",\"BM25\",\"BM25\",\"TF-IDF\",\"BM25\",\"BM25\",\"TF-IDF\",\"TF-IDF\",\"none\",\"TF-IDF\",\"TF-IDF\",\"TF-IDF\",\"none\",\"TF-IDF\",\"TF-IDF\",\"TF-IDF\",\"none\",\"TF-IDF\",\"TF-IDF\",\"TF-IDF\",\"TF-IDF\",\"TF-IDF\",\"TF-IDF\",\"none\",\"TF-IDF\",\"TF-IDF\",\"TF-IDF\",\"TF-IDF\",\"TF-IDF\",\"TF-IDF\",\"TF-IDF\",\"TF-IDF\",\"TF-IDF\",\"none\",\"TF-IDF\",\"BM25\",\"TF-IDF\",\"TF-IDF\",\"TF-IDF\",\"TF-IDF\",\"BM25\",\"TF-IDF\",\"TF-IDF\",\"TF-IDF\",\"BM25\",\"TF-IDF\",\"none\",\"TF-IDF\",\"TF-IDF\",\"TF-IDF\",\"TF-IDF\",\"TF-IDF\",\"TF-IDF\",\"TF-IDF\",\"TF-IDF\",\"BM25\",\"TF-IDF\",\"TF-IDF\",\"TF-IDF\",\"TF-IDF\",\"TF-IDF\",\"TF-IDF\",\"none\",\"TF-IDF\",\"TF-IDF\",\"TF-IDF\",\"TF-IDF\",\"TF-IDF\",\"TF-IDF\",\"TF-IDF\",\"TF-IDF\",\"TF-IDF\",\"TF-IDF\",\"none\",\"TF-IDF\",\"BM25\",\"TF-IDF\",\"TF-IDF\",\"TF-IDF\",\"TF-IDF\",\"TF-IDF\",\"TF-IDF\",\"TF-IDF\",\"TF-IDF\",\"TF-IDF\",\"TF-IDF\",\"none\",\"TF-IDF\",\"TF-IDF\",\"TF-IDF\",\"TF-IDF\",\"TF-IDF\",\"TF-IDF\",\"BM25\",\"TF-IDF\",\"TF-IDF\",\"TF-IDF\",\"TF-IDF\",\"TF-IDF\",\"TF-IDF\",\"TF-IDF\",\"TF-IDF\",\"TF-IDF\",\"TF-IDF\",\"TF-IDF\",\"TF-IDF\",\"TF-IDF\",\"TF-IDF\",\"TF-IDF\",\"TF-IDF\",\"TF-IDF\",\"TF-IDF\",\"TF-IDF\",\"none\",\"BM25\",\"TF-IDF\",\"TF-IDF\",\"TF-IDF\",\"TF-IDF\",\"TF-IDF\",\"TF-IDF\",\"TF-IDF\",\"TF-IDF\",\"TF-IDF\",\"TF-IDF\",\"TF-IDF\",\"TF-IDF\",\"TF-IDF\",\"TF-IDF\",\"TF-IDF\",\"TF-IDF\",\"TF-IDF\",\"TF-IDF\",\"TF-IDF\",\"TF-IDF\",\"none\",\"TF-IDF\",\"TF-IDF\",\"TF-IDF\",\"TF-IDF\",\"TF-IDF\",\"TF-IDF\",\"BM25\",\"TF-IDF\",\"TF-IDF\",\"TF-IDF\",\"TF-IDF\",\"TF-IDF\",\"TF-IDF\",\"TF-IDF\",\"TF-IDF\",\"TF-IDF\",\"TF-IDF\",\"TF-IDF\",\"TF-IDF\",\"TF-IDF\",\"TF-IDF\",\"TF-IDF\",\"TF-IDF\",\"TF-IDF\",\"TF-IDF\",\"TF-IDF\",\"TF-IDF\",\"TF-IDF\",\"TF-IDF\",\"none\",\"TF-IDF\",\"TF-IDF\",\"TF-IDF\",\"TF-IDF\",\"TF-IDF\",\"TF-IDF\",\"TF-IDF\",\"BM25\",\"TF-IDF\",\"TF-IDF\",\"TF-IDF\",\"TF-IDF\",\"TF-IDF\",\"TF-IDF\",\"TF-IDF\",\"TF-IDF\",\"TF-IDF\",\"TF-IDF\",\"TF-IDF\",\"TF-IDF\",\"TF-IDF\",\"TF-IDF\",\"TF-IDF\",\"TF-IDF\",\"TF-IDF\",\"TF-IDF\",\"TF-IDF\",\"TF-IDF\",\"TF-IDF\",\"TF-IDF\",\"TF-IDF\",\"TF-IDF\",\"TF-IDF\",\"TF-IDF\",\"TF-IDF\",\"TF-IDF\",\"TF-IDF\",\"TF-IDF\",\"none\",\"none\",\"none\",\"none\",\"none\",\"none\",\"none\",\"none\",\"none\",\"none\",\"none\",\"none\",\"none\",\"none\",\"none\",\"none\",\"none\",\"none\",\"none\",\"none\",\"none\",\"none\",\"none\",\"none\",\"none\",\"none\",\"none\",\"none\",\"none\",\"none\",\"none\",\"none\",\"none\",\"none\",\"none\",\"none\",\"none\",\"none\",\"none\",\"none\",\"none\",\"none\",\"none\",\"none\",\"none\",\"none\",\"none\",\"none\",\"none\",\"none\",\"none\",\"none\",\"none\",\"none\",\"none\",\"none\",\"none\",\"none\",\"none\",\"none\",\"none\",\"none\",\"none\",\"none\",\"none\",\"none\",\"none\",\"none\",\"none\",\"none\",\"none\",\"none\",\"none\",\"none\",\"none\",\"none\",\"none\",\"none\",\"none\",\"none\",\"none\",\"none\",\"none\",\"none\",\"none\",\"none\",\"none\",\"none\",\"none\",\"none\",\"none\",\"none\"],\"y\":[0.03847803567849229,0.04171964497081084,0.045075083416706754,0.03969241243666473,0.015505116638520241,0.03390989215925825,0.04208916606138639,0.03992089568563728,0.03689398166065726,0.0419195619113201,0.04286446311593473,0.04370869088626762,0.03922014699048953,0.03898220646002158,0.04522533432718656,0.045419613559969596,0.033276953099928765,0.044603421446640534,0.009585828606819929,0.04603685469227625,0.036478533171880455,0.04936385234454629,0.04884736351921455,0.05167910318356951,0.051299149203227944,0.048890057353751605,0.04422724678859554,0.04010564854729204,0.018002904416695022,0.034522039692480196,0.044599477795545094,0.04921190880610869,0.050085003730726205,0.04670507928914593,0.04774758311109263,0.04624842492671421,0.018499769450536042,0.0471228279082221,0.04704902406361122,0.039014626607979955,0.046365675679190935,0.048154934413874154,0.047921209852360445,0.0516509302410396,0.03591129786809708,0.041083810657646824,0.04402098719895735,0.019161143155815477,0.04561184037203904,0.03602128500231943,0.03458822598741253,0.04784897708922793,0.04820380943479764,0.041976571864759823,0.04740382442291594,0.045051453542955366,0.04648504130021554,0.0469879804783168,0.048461992727442914,0.042413896090541955,0.049028092198309045,0.04919733821484708,0.048179967153130845,0.04694401449089732,0.04954915876216106,0.0002664826418719655,0.0395961476902804,0.02765333913833305,0.04249586982388426,0.04387294658296601,0.022658722357174747,0.049331885341930864,0.049934388763156416,0.04844238489569648,0.04950439674902438,0.047842500622259865,0.047141583913202785,0.044330265171293334,0.04507506180411467,0.042850527787547776,0.042630380128308054,0.04933324510119477,0.0481437214970748,0.04975391008487637,0.04686650492269808,0.04726198463493369,0.04656591531270172,0.04282694024513882,0.03238459417420321,0.047910376227795134,0.03642232578734297,0.0494451147008956,0.0002664826418719655,0.049154679926459895,0.04736466281198917,0.049376702406276715,0.04834581653075937,0.04057861037770286,0.05031477680681584,0.05037676712344134,0.04800919581518322,0.04963598798308874,0.0002664826418719655,0.049504241473341926,0.04751151390853433,0.043710622878157565,0.04793737819207235,0.04664669663710096,0.0466421111068875,0.05014495286754074,0.05001918540506721,0.04937054806796139,0.04853121084630373,0.0002664826418719655,0.04086167291275695,0.04711551945335192,0.048255655760942956,0.04232723894120498,0.04212373222017858,0.021211838801501057,0.046355664992873455,0.04879863008544178,0.050289612360944605,0.05094557622011079,0.05141379116754542,0.045043685195053494,0.0421953998415494,0.04824104595311586,0.04536433696221219,0.04804893042642694,0.047355889084013954,0.04994099064968518,0.04844011894775917,0.05072062948872008,0.05167499647934026,0.0002664826418719655,0.047950622301437665,0.047706655214182506,0.04858543575580961,0.0002664826418719655,0.047096205258541024,0.049633379649968196,0.04980878259305179,0.04851957081257526,0.0002664826418719655,0.044756911256342055,0.02784785793175936,0.04847850697449875,0.047116810660729994,0.04318529427697464,0.04837693138361469,0.05005289223297421,0.04983953922684468,0.048081317213503866,0.04739143116001597,0.050711091356320306,0.0423139061213198,0.04850785022691531,0.009216016064248595,0.04782418485527614,0.0002664826418719655,0.049024305900822816,0.04964787000215071,0.04821691192237398,0.04766757359625482,0.049898896364941756,0.04866275228073952,0.050339485124901585,0.04805792166950668,0.03807168129783852,0.04801868844605957,0.04989307820097129,0.04862042917789884,0.0002664826418719655,0.04872917207550892,0.0421431333588106,0.050170333522096044,0.04282836807235073,0.04991526231617852,0.028107451890721297,0.0002664826418719655,0.04993257210734363,0.04898506243922583,0.04955189791234907,0.048159910345721285,0.04999742933612483,0.04651908289037322,0.048688769926603,0.05017736655787099,0.052770132207501916,0.044920360081063405,0.05053286852839014,0.0002664826418719655,0.050562791169713586,0.05031125284117284,0.04990563145551257,0.05112802526300825,0.04885511508997322,0.05069920295812504,0.04950766943167519,0.050427546154826045,0.05069072979215204,0.05073869298991869,0.04989507028462124,0.049972583889434,0.04700001020406326,0.0512353018267241,0.04827784121151514,0.05104263186459542,0.05092531802018609,0.050869259929248144,0.05073879495247531,0.049012160319736396,0.05039360254194376,0.050921486747334446,0.04891709249337225,0.04711571482008757,0.04995752837612295,0.04922041848900541,0.05102792024432849,0.04973127692293931,0.05038853822528087,0.05126283537418349,0.051778250982194365,0.05169413881766273,0.050889642540877744,0.05130924006573032,0.05112273381674017,0.048247156201741616,0.05121506243504324,0.05051766722476123,0.05124083401322201,0.050911436434536786,0.05107694519486827,0.05080826109915465,0.04784381402931958,0.04868276479117052,0.050435703298782,0.05143864758675326,0.05238586893488721,0.051812229848526695,0.05235041859328893,0.0002664826418719655,0.052734651923476726,0.052749727917604794,0.0002664826418719655,0.05119815890180516,0.05287919963207016,0.05223501429331294,0.051298554172739305,0.05135107591876845,0.04254372298438136,0.053134600182737454,0.052909503083440244,0.0002664826418719655,0.03920845351012365,0.05275915171373006,0.05319752032663925,0.053035294599967545,0.041507624622074385,0.053230998474819435,0.05318001901092788,0.04641161061905724,0.053037738820821044,0.0002664826418719655,0.05312387900539119,0.0529325066441798,0.05351701566277965,0.053314355858730775,0.03307219962532294,0.05178013728169698,0.049045059421762065,0.05127462047917321,0.029566477782746063,0.0002664826418719655,0.02873532901480332,0.05091777583110446,0.05267623074832051,0.05318563606780051,0.03804079968142458,0.048897001938809,0.05300323925642245,0.03690790987867579,0.052648941574855224,0.05306271583010617,0.05263656227082064,0.048891441644559844,0.053398304472673463,0.0002664826418719655,0.05272727050856829,0.052834820688102344,0.04848977138583462,0.052674484024547705,0.04040126154027886,0.04890841429102853,0.0002664826418719655,0.03911269935383791,0.0002664826418719655,0.040218770111744254,0.04916640282816878],\"type\":\"scatter\",\"xaxis\":\"x2\",\"yaxis\":\"y2\"},{\"marker\":{\"color\":[4,5,28,37,47,67,88,119,146,179,297],\"colorbar\":{\"title\":{\"text\":\"Trial\"},\"x\":1.0,\"xpad\":40},\"colorscale\":[[0.0,\"rgb(247,251,255)\"],[0.125,\"rgb(222,235,247)\"],[0.25,\"rgb(198,219,239)\"],[0.375,\"rgb(158,202,225)\"],[0.5,\"rgb(107,174,214)\"],[0.625,\"rgb(66,146,198)\"],[0.75,\"rgb(33,113,181)\"],[0.875,\"rgb(8,81,156)\"],[1.0,\"rgb(8,48,107)\"]],\"line\":{\"color\":\"Grey\",\"width\":0.5},\"showscale\":false},\"mode\":\"markers\",\"name\":\"Feasible Trial\",\"showlegend\":false,\"x\":[true,false,false,true,true,false,true,false,true,false,false],\"y\":[0.015505116638520241,0.03390989215925825,0.018002904416695022,0.0471228279082221,0.019161143155815477,0.02765333913833305,0.03238459417420321,0.021211838801501057,0.02784785793175936,0.028107451890721297,0.0002664826418719655],\"type\":\"scatter\",\"xaxis\":\"x3\",\"yaxis\":\"y3\"},{\"marker\":{\"color\":[4,5,28,37,47,67,88,119,146,179,297],\"colorbar\":{\"title\":{\"text\":\"Trial\"},\"x\":1.0,\"xpad\":40},\"colorscale\":[[0.0,\"rgb(247,251,255)\"],[0.125,\"rgb(222,235,247)\"],[0.25,\"rgb(198,219,239)\"],[0.375,\"rgb(158,202,225)\"],[0.5,\"rgb(107,174,214)\"],[0.625,\"rgb(66,146,198)\"],[0.75,\"rgb(33,113,181)\"],[0.875,\"rgb(8,81,156)\"],[1.0,\"rgb(8,48,107)\"]],\"line\":{\"color\":\"Grey\",\"width\":0.5},\"showscale\":false},\"mode\":\"markers\",\"name\":\"Feasible Trial\",\"showlegend\":false,\"x\":[true,true,false,false,false,true,true,false,true,false,false],\"y\":[0.015505116638520241,0.03390989215925825,0.018002904416695022,0.0471228279082221,0.019161143155815477,0.02765333913833305,0.03238459417420321,0.021211838801501057,0.02784785793175936,0.028107451890721297,0.0002664826418719655],\"type\":\"scatter\",\"xaxis\":\"x4\",\"yaxis\":\"y4\"},{\"marker\":{\"color\":[0,1,2,3,4,5,6,7,8,9,10,11,12,13,14,15,16,17,18,19,20,21,22,23,24,25,26,27,28,29,30,31,32,33,34,35,36,37,38,39,40,41,42,43,44,45,46,47,48,49,50,51,52,53,54,55,56,57,58,59,60,61,62,63,64,65,66,67,68,69,70,71,72,73,74,75,76,77,78,79,80,81,82,83,84,85,86,87,88,89,90,91,92,93,94,95,96,97,98,99,100,101,102,103,104,105,106,107,108,109,110,111,112,113,114,115,116,117,118,119,120,121,122,123,124,125,126,127,128,129,130,131,132,133,134,135,136,137,138,139,140,141,142,143,144,145,146,147,148,149,150,151,152,153,154,155,156,157,158,159,160,161,162,163,164,165,166,167,168,169,170,171,172,173,174,175,176,177,178,179,180,181,182,183,184,185,186,187,188,189,190,191,192,193,194,195,196,197,198,199,200,201,202,203,204,205,206,207,208,209,210,211,212,213,214,215,216,217,218,219,220,221,222,223,224,225,226,227,228,229,230,231,232,233,234,235,236,237,238,239,240,241,242,243,244,245,246,247,248,249,250,251,252,253,254,255,256,257,258,259,260,261,262,263,264,265,266,267,268,269,270,271,272,273,274,275,276,277,278,279,280,281,282,283,284,285,286,287,288,289,290,291,292,293,294,295,296,297,298,299],\"colorbar\":{\"title\":{\"text\":\"Trial\"},\"x\":1.0,\"xpad\":40},\"colorscale\":[[0.0,\"rgb(247,251,255)\"],[0.125,\"rgb(222,235,247)\"],[0.25,\"rgb(198,219,239)\"],[0.375,\"rgb(158,202,225)\"],[0.5,\"rgb(107,174,214)\"],[0.625,\"rgb(66,146,198)\"],[0.75,\"rgb(33,113,181)\"],[0.875,\"rgb(8,81,156)\"],[1.0,\"rgb(8,48,107)\"]],\"line\":{\"color\":\"Grey\",\"width\":0.5},\"showscale\":false},\"mode\":\"markers\",\"name\":\"Feasible Trial\",\"showlegend\":false,\"x\":[895,532,250,438,382,879,87,418,992,699,56,15,223,221,201,252,595,316,135,162,325,167,131,128,1,3,95,305,9,703,150,6,57,91,183,68,552,258,63,382,133,28,101,36,49,183,112,271,54,820,463,12,1,52,167,217,73,122,36,94,221,204,365,137,165,39,160,71,287,989,102,194,185,249,182,344,239,151,114,177,81,193,147,279,636,116,31,416,168,299,267,234,227,324,212,129,87,134,56,27,33,55,58,24,71,16,50,100,3,79,81,82,50,34,0,68,110,91,26,503,65,149,123,46,121,124,103,43,82,115,21,60,74,39,44,41,13,58,91,1,45,24,780,70,138,100,37,78,122,59,20,102,89,110,53,145,147,37,76,17,91,167,115,64,130,43,95,149,138,59,580,160,25,1,191,111,83,80,53,97,71,129,153,37,107,79,51,76,22,16,28,5,4,17,0,20,2,1,20,12,32,25,22,34,3,32,3,13,2,25,25,23,25,36,2,1,20,40,0,16,16,43,21,16,23,45,47,48,44,45,52,47,45,51,52,54,43,59,2,4,1,7,6,4,17,0,0,16,15,1,0,3,21,24,23,27,24,21,26,670,22,30,28,27,27,31,27,30,29,956,64,31,65,457,31,25,70,36,22,21,34,22,65,19,36,36,39,36,62,38,41,61,39,803,40,62,413,39,38,65],\"y\":[0.03847803567849229,0.04171964497081084,0.045075083416706754,0.03969241243666473,0.015505116638520241,0.03390989215925825,0.04208916606138639,0.03992089568563728,0.03689398166065726,0.0419195619113201,0.04286446311593473,0.04370869088626762,0.03922014699048953,0.03898220646002158,0.04522533432718656,0.045419613559969596,0.033276953099928765,0.044603421446640534,0.009585828606819929,0.04603685469227625,0.036478533171880455,0.04936385234454629,0.04884736351921455,0.05167910318356951,0.051299149203227944,0.048890057353751605,0.04422724678859554,0.04010564854729204,0.018002904416695022,0.034522039692480196,0.044599477795545094,0.04921190880610869,0.050085003730726205,0.04670507928914593,0.04774758311109263,0.04624842492671421,0.018499769450536042,0.0471228279082221,0.04704902406361122,0.039014626607979955,0.046365675679190935,0.048154934413874154,0.047921209852360445,0.0516509302410396,0.03591129786809708,0.041083810657646824,0.04402098719895735,0.019161143155815477,0.04561184037203904,0.03602128500231943,0.03458822598741253,0.04784897708922793,0.04820380943479764,0.041976571864759823,0.04740382442291594,0.045051453542955366,0.04648504130021554,0.0469879804783168,0.048461992727442914,0.042413896090541955,0.049028092198309045,0.04919733821484708,0.048179967153130845,0.04694401449089732,0.04954915876216106,0.0002664826418719655,0.0395961476902804,0.02765333913833305,0.04249586982388426,0.04387294658296601,0.022658722357174747,0.049331885341930864,0.049934388763156416,0.04844238489569648,0.04950439674902438,0.047842500622259865,0.047141583913202785,0.044330265171293334,0.04507506180411467,0.042850527787547776,0.042630380128308054,0.04933324510119477,0.0481437214970748,0.04975391008487637,0.04686650492269808,0.04726198463493369,0.04656591531270172,0.04282694024513882,0.03238459417420321,0.047910376227795134,0.03642232578734297,0.0494451147008956,0.0002664826418719655,0.049154679926459895,0.04736466281198917,0.049376702406276715,0.04834581653075937,0.04057861037770286,0.05031477680681584,0.05037676712344134,0.04800919581518322,0.04963598798308874,0.0002664826418719655,0.049504241473341926,0.04751151390853433,0.043710622878157565,0.04793737819207235,0.04664669663710096,0.0466421111068875,0.05014495286754074,0.05001918540506721,0.04937054806796139,0.04853121084630373,0.0002664826418719655,0.04086167291275695,0.04711551945335192,0.048255655760942956,0.04232723894120498,0.04212373222017858,0.021211838801501057,0.046355664992873455,0.04879863008544178,0.050289612360944605,0.05094557622011079,0.05141379116754542,0.045043685195053494,0.0421953998415494,0.04824104595311586,0.04536433696221219,0.04804893042642694,0.047355889084013954,0.04994099064968518,0.04844011894775917,0.05072062948872008,0.05167499647934026,0.0002664826418719655,0.047950622301437665,0.047706655214182506,0.04858543575580961,0.0002664826418719655,0.047096205258541024,0.049633379649968196,0.04980878259305179,0.04851957081257526,0.0002664826418719655,0.044756911256342055,0.02784785793175936,0.04847850697449875,0.047116810660729994,0.04318529427697464,0.04837693138361469,0.05005289223297421,0.04983953922684468,0.048081317213503866,0.04739143116001597,0.050711091356320306,0.0423139061213198,0.04850785022691531,0.009216016064248595,0.04782418485527614,0.0002664826418719655,0.049024305900822816,0.04964787000215071,0.04821691192237398,0.04766757359625482,0.049898896364941756,0.04866275228073952,0.050339485124901585,0.04805792166950668,0.03807168129783852,0.04801868844605957,0.04989307820097129,0.04862042917789884,0.0002664826418719655,0.04872917207550892,0.0421431333588106,0.050170333522096044,0.04282836807235073,0.04991526231617852,0.028107451890721297,0.0002664826418719655,0.04993257210734363,0.04898506243922583,0.04955189791234907,0.048159910345721285,0.04999742933612483,0.04651908289037322,0.048688769926603,0.05017736655787099,0.052770132207501916,0.044920360081063405,0.05053286852839014,0.0002664826418719655,0.050562791169713586,0.05031125284117284,0.04990563145551257,0.05112802526300825,0.04885511508997322,0.05069920295812504,0.04950766943167519,0.050427546154826045,0.05069072979215204,0.05073869298991869,0.04989507028462124,0.049972583889434,0.04700001020406326,0.0512353018267241,0.04827784121151514,0.05104263186459542,0.05092531802018609,0.050869259929248144,0.05073879495247531,0.049012160319736396,0.05039360254194376,0.050921486747334446,0.04891709249337225,0.04711571482008757,0.04995752837612295,0.04922041848900541,0.05102792024432849,0.04973127692293931,0.05038853822528087,0.05126283537418349,0.051778250982194365,0.05169413881766273,0.050889642540877744,0.05130924006573032,0.05112273381674017,0.048247156201741616,0.05121506243504324,0.05051766722476123,0.05124083401322201,0.050911436434536786,0.05107694519486827,0.05080826109915465,0.04784381402931958,0.04868276479117052,0.050435703298782,0.05143864758675326,0.05238586893488721,0.051812229848526695,0.05235041859328893,0.0002664826418719655,0.052734651923476726,0.052749727917604794,0.0002664826418719655,0.05119815890180516,0.05287919963207016,0.05223501429331294,0.051298554172739305,0.05135107591876845,0.04254372298438136,0.053134600182737454,0.052909503083440244,0.0002664826418719655,0.03920845351012365,0.05275915171373006,0.05319752032663925,0.053035294599967545,0.041507624622074385,0.053230998474819435,0.05318001901092788,0.04641161061905724,0.053037738820821044,0.0002664826418719655,0.05312387900539119,0.0529325066441798,0.05351701566277965,0.053314355858730775,0.03307219962532294,0.05178013728169698,0.049045059421762065,0.05127462047917321,0.029566477782746063,0.0002664826418719655,0.02873532901480332,0.05091777583110446,0.05267623074832051,0.05318563606780051,0.03804079968142458,0.048897001938809,0.05300323925642245,0.03690790987867579,0.052648941574855224,0.05306271583010617,0.05263656227082064,0.048891441644559844,0.053398304472673463,0.0002664826418719655,0.05272727050856829,0.052834820688102344,0.04848977138583462,0.052674484024547705,0.04040126154027886,0.04890841429102853,0.0002664826418719655,0.03911269935383791,0.0002664826418719655,0.040218770111744254,0.04916640282816878],\"type\":\"scatter\",\"xaxis\":\"x5\",\"yaxis\":\"y5\"},{\"marker\":{\"color\":[0,1,2,3,4,5,6,7,8,9,10,11,12,13,14,15,16,17,18,19,20,21,22,23,24,25,26,27,28,29,30,31,32,33,34,35,36,37,38,39,40,41,42,43,44,45,46,47,48,49,50,51,52,53,54,55,56,57,58,59,60,61,62,63,64,65,66,67,68,69,70,71,72,73,74,75,76,77,78,79,80,81,82,83,84,85,86,87,88,89,90,91,92,93,94,95,96,97,98,99,100,101,102,103,104,105,106,107,108,109,110,111,112,113,114,115,116,117,118,119,120,121,122,123,124,125,126,127,128,129,130,131,132,133,134,135,136,137,138,139,140,141,142,143,144,145,146,147,148,149,150,151,152,153,154,155,156,157,158,159,160,161,162,163,164,165,166,167,168,169,170,171,172,173,174,175,176,177,178,179,180,181,182,183,184,185,186,187,188,189,190,191,192,193,194,195,196,197,198,199,200,201,202,203,204,205,206,207,208,209,210,211,212,213,214,215,216,217,218,219,220,221,222,223,224,225,226,227,228,229,230,231,232,233,234,235,236,237,238,239,240,241,242,243,244,245,246,247,248,249,250,251,252,253,254,255,256,257,258,259,260,261,262,263,264,265,266,267,268,269,270,271,272,273,274,275,276,277,278,279,280,281,282,283,284,285,286,287,288,289,290,291,292,293,294,295,296,297,298,299],\"colorbar\":{\"title\":{\"text\":\"Trial\"},\"x\":1.0,\"xpad\":40},\"colorscale\":[[0.0,\"rgb(247,251,255)\"],[0.125,\"rgb(222,235,247)\"],[0.25,\"rgb(198,219,239)\"],[0.375,\"rgb(158,202,225)\"],[0.5,\"rgb(107,174,214)\"],[0.625,\"rgb(66,146,198)\"],[0.75,\"rgb(33,113,181)\"],[0.875,\"rgb(8,81,156)\"],[1.0,\"rgb(8,48,107)\"]],\"line\":{\"color\":\"Grey\",\"width\":0.5},\"showscale\":false},\"mode\":\"markers\",\"name\":\"Feasible Trial\",\"showlegend\":false,\"x\":[\"tversky\",\"asymmetric\",\"cosine\",\"dice\",\"euclidean\",\"euclidean\",\"cosine\",\"tversky\",\"dice\",\"cosine\",\"jaccard\",\"jaccard\",\"jaccard\",\"jaccard\",\"cosine\",\"cosine\",\"cosine\",\"cosine\",\"asymmetric\",\"cosine\",\"cosine\",\"cosine\",\"cosine\",\"cosine\",\"cosine\",\"cosine\",\"dice\",\"asymmetric\",\"euclidean\",\"tversky\",\"tversky\",\"cosine\",\"cosine\",\"cosine\",\"cosine\",\"cosine\",\"asymmetric\",\"euclidean\",\"cosine\",\"dice\",\"cosine\",\"cosine\",\"cosine\",\"cosine\",\"cosine\",\"tversky\",\"cosine\",\"euclidean\",\"dice\",\"jaccard\",\"cosine\",\"cosine\",\"cosine\",\"cosine\",\"cosine\",\"cosine\",\"cosine\",\"asymmetric\",\"jaccard\",\"cosine\",\"cosine\",\"cosine\",\"cosine\",\"cosine\",\"cosine\",\"tversky\",\"cosine\",\"euclidean\",\"dice\",\"cosine\",\"asymmetric\",\"cosine\",\"cosine\",\"cosine\",\"cosine\",\"cosine\",\"cosine\",\"cosine\",\"jaccard\",\"cosine\",\"tversky\",\"cosine\",\"cosine\",\"cosine\",\"cosine\",\"cosine\",\"cosine\",\"dice\",\"euclidean\",\"cosine\",\"cosine\",\"cosine\",\"cosine\",\"cosine\",\"cosine\",\"cosine\",\"cosine\",\"asymmetric\",\"cosine\",\"cosine\",\"jaccard\",\"cosine\",\"cosine\",\"cosine\",\"cosine\",\"cosine\",\"cosine\",\"cosine\",\"cosine\",\"tversky\",\"tversky\",\"tversky\",\"tversky\",\"tversky\",\"tversky\",\"tversky\",\"tversky\",\"tversky\",\"tversky\",\"euclidean\",\"dice\",\"cosine\",\"cosine\",\"cosine\",\"cosine\",\"asymmetric\",\"cosine\",\"cosine\",\"tversky\",\"jaccard\",\"cosine\",\"cosine\",\"cosine\",\"cosine\",\"cosine\",\"cosine\",\"cosine\",\"cosine\",\"cosine\",\"cosine\",\"cosine\",\"cosine\",\"cosine\",\"cosine\",\"cosine\",\"cosine\",\"euclidean\",\"dice\",\"cosine\",\"tversky\",\"cosine\",\"cosine\",\"cosine\",\"cosine\",\"cosine\",\"cosine\",\"cosine\",\"cosine\",\"asymmetric\",\"cosine\",\"tversky\",\"cosine\",\"cosine\",\"cosine\",\"cosine\",\"jaccard\",\"cosine\",\"cosine\",\"cosine\",\"cosine\",\"cosine\",\"cosine\",\"cosine\",\"cosine\",\"cosine\",\"tversky\",\"cosine\",\"cosine\",\"cosine\",\"euclidean\",\"cosine\",\"cosine\",\"cosine\",\"cosine\",\"cosine\",\"cosine\",\"dice\",\"cosine\",\"cosine\",\"tversky\",\"tversky\",\"tversky\",\"tversky\",\"tversky\",\"tversky\",\"tversky\",\"tversky\",\"tversky\",\"tversky\",\"tversky\",\"tversky\",\"tversky\",\"tversky\",\"tversky\",\"tversky\",\"tversky\",\"tversky\",\"tversky\",\"tversky\",\"tversky\",\"tversky\",\"tversky\",\"tversky\",\"tversky\",\"tversky\",\"tversky\",\"tversky\",\"tversky\",\"tversky\",\"tversky\",\"tversky\",\"tversky\",\"tversky\",\"tversky\",\"tversky\",\"tversky\",\"tversky\",\"tversky\",\"tversky\",\"tversky\",\"tversky\",\"tversky\",\"tversky\",\"tversky\",\"tversky\",\"tversky\",\"tversky\",\"tversky\",\"tversky\",\"tversky\",\"tversky\",\"tversky\",\"tversky\",\"tversky\",\"tversky\",\"tversky\",\"tversky\",\"tversky\",\"tversky\",\"tversky\",\"tversky\",\"tversky\",\"tversky\",\"tversky\",\"tversky\",\"tversky\",\"tversky\",\"tversky\",\"tversky\",\"tversky\",\"tversky\",\"tversky\",\"tversky\",\"tversky\",\"tversky\",\"tversky\",\"tversky\",\"tversky\",\"tversky\",\"tversky\",\"tversky\",\"tversky\",\"tversky\",\"tversky\",\"tversky\",\"asymmetric\",\"tversky\",\"tversky\",\"tversky\",\"tversky\",\"tversky\",\"tversky\",\"tversky\",\"tversky\",\"tversky\",\"tversky\",\"tversky\",\"tversky\",\"jaccard\",\"tversky\",\"tversky\",\"tversky\",\"tversky\",\"tversky\",\"tversky\",\"tversky\",\"tversky\",\"euclidean\",\"tversky\",\"dice\"],\"y\":[0.03847803567849229,0.04171964497081084,0.045075083416706754,0.03969241243666473,0.015505116638520241,0.03390989215925825,0.04208916606138639,0.03992089568563728,0.03689398166065726,0.0419195619113201,0.04286446311593473,0.04370869088626762,0.03922014699048953,0.03898220646002158,0.04522533432718656,0.045419613559969596,0.033276953099928765,0.044603421446640534,0.009585828606819929,0.04603685469227625,0.036478533171880455,0.04936385234454629,0.04884736351921455,0.05167910318356951,0.051299149203227944,0.048890057353751605,0.04422724678859554,0.04010564854729204,0.018002904416695022,0.034522039692480196,0.044599477795545094,0.04921190880610869,0.050085003730726205,0.04670507928914593,0.04774758311109263,0.04624842492671421,0.018499769450536042,0.0471228279082221,0.04704902406361122,0.039014626607979955,0.046365675679190935,0.048154934413874154,0.047921209852360445,0.0516509302410396,0.03591129786809708,0.041083810657646824,0.04402098719895735,0.019161143155815477,0.04561184037203904,0.03602128500231943,0.03458822598741253,0.04784897708922793,0.04820380943479764,0.041976571864759823,0.04740382442291594,0.045051453542955366,0.04648504130021554,0.0469879804783168,0.048461992727442914,0.042413896090541955,0.049028092198309045,0.04919733821484708,0.048179967153130845,0.04694401449089732,0.04954915876216106,0.0002664826418719655,0.0395961476902804,0.02765333913833305,0.04249586982388426,0.04387294658296601,0.022658722357174747,0.049331885341930864,0.049934388763156416,0.04844238489569648,0.04950439674902438,0.047842500622259865,0.047141583913202785,0.044330265171293334,0.04507506180411467,0.042850527787547776,0.042630380128308054,0.04933324510119477,0.0481437214970748,0.04975391008487637,0.04686650492269808,0.04726198463493369,0.04656591531270172,0.04282694024513882,0.03238459417420321,0.047910376227795134,0.03642232578734297,0.0494451147008956,0.0002664826418719655,0.049154679926459895,0.04736466281198917,0.049376702406276715,0.04834581653075937,0.04057861037770286,0.05031477680681584,0.05037676712344134,0.04800919581518322,0.04963598798308874,0.0002664826418719655,0.049504241473341926,0.04751151390853433,0.043710622878157565,0.04793737819207235,0.04664669663710096,0.0466421111068875,0.05014495286754074,0.05001918540506721,0.04937054806796139,0.04853121084630373,0.0002664826418719655,0.04086167291275695,0.04711551945335192,0.048255655760942956,0.04232723894120498,0.04212373222017858,0.021211838801501057,0.046355664992873455,0.04879863008544178,0.050289612360944605,0.05094557622011079,0.05141379116754542,0.045043685195053494,0.0421953998415494,0.04824104595311586,0.04536433696221219,0.04804893042642694,0.047355889084013954,0.04994099064968518,0.04844011894775917,0.05072062948872008,0.05167499647934026,0.0002664826418719655,0.047950622301437665,0.047706655214182506,0.04858543575580961,0.0002664826418719655,0.047096205258541024,0.049633379649968196,0.04980878259305179,0.04851957081257526,0.0002664826418719655,0.044756911256342055,0.02784785793175936,0.04847850697449875,0.047116810660729994,0.04318529427697464,0.04837693138361469,0.05005289223297421,0.04983953922684468,0.048081317213503866,0.04739143116001597,0.050711091356320306,0.0423139061213198,0.04850785022691531,0.009216016064248595,0.04782418485527614,0.0002664826418719655,0.049024305900822816,0.04964787000215071,0.04821691192237398,0.04766757359625482,0.049898896364941756,0.04866275228073952,0.050339485124901585,0.04805792166950668,0.03807168129783852,0.04801868844605957,0.04989307820097129,0.04862042917789884,0.0002664826418719655,0.04872917207550892,0.0421431333588106,0.050170333522096044,0.04282836807235073,0.04991526231617852,0.028107451890721297,0.0002664826418719655,0.04993257210734363,0.04898506243922583,0.04955189791234907,0.048159910345721285,0.04999742933612483,0.04651908289037322,0.048688769926603,0.05017736655787099,0.052770132207501916,0.044920360081063405,0.05053286852839014,0.0002664826418719655,0.050562791169713586,0.05031125284117284,0.04990563145551257,0.05112802526300825,0.04885511508997322,0.05069920295812504,0.04950766943167519,0.050427546154826045,0.05069072979215204,0.05073869298991869,0.04989507028462124,0.049972583889434,0.04700001020406326,0.0512353018267241,0.04827784121151514,0.05104263186459542,0.05092531802018609,0.050869259929248144,0.05073879495247531,0.049012160319736396,0.05039360254194376,0.050921486747334446,0.04891709249337225,0.04711571482008757,0.04995752837612295,0.04922041848900541,0.05102792024432849,0.04973127692293931,0.05038853822528087,0.05126283537418349,0.051778250982194365,0.05169413881766273,0.050889642540877744,0.05130924006573032,0.05112273381674017,0.048247156201741616,0.05121506243504324,0.05051766722476123,0.05124083401322201,0.050911436434536786,0.05107694519486827,0.05080826109915465,0.04784381402931958,0.04868276479117052,0.050435703298782,0.05143864758675326,0.05238586893488721,0.051812229848526695,0.05235041859328893,0.0002664826418719655,0.052734651923476726,0.052749727917604794,0.0002664826418719655,0.05119815890180516,0.05287919963207016,0.05223501429331294,0.051298554172739305,0.05135107591876845,0.04254372298438136,0.053134600182737454,0.052909503083440244,0.0002664826418719655,0.03920845351012365,0.05275915171373006,0.05319752032663925,0.053035294599967545,0.041507624622074385,0.053230998474819435,0.05318001901092788,0.04641161061905724,0.053037738820821044,0.0002664826418719655,0.05312387900539119,0.0529325066441798,0.05351701566277965,0.053314355858730775,0.03307219962532294,0.05178013728169698,0.049045059421762065,0.05127462047917321,0.029566477782746063,0.0002664826418719655,0.02873532901480332,0.05091777583110446,0.05267623074832051,0.05318563606780051,0.03804079968142458,0.048897001938809,0.05300323925642245,0.03690790987867579,0.052648941574855224,0.05306271583010617,0.05263656227082064,0.048891441644559844,0.053398304472673463,0.0002664826418719655,0.05272727050856829,0.052834820688102344,0.04848977138583462,0.052674484024547705,0.04040126154027886,0.04890841429102853,0.0002664826418719655,0.03911269935383791,0.0002664826418719655,0.040218770111744254,0.04916640282816878],\"type\":\"scatter\",\"xaxis\":\"x6\",\"yaxis\":\"y6\"},{\"marker\":{\"color\":[4,5,28,37,47,67,88,119,146,179,297],\"colorbar\":{\"title\":{\"text\":\"Trial\"},\"x\":1.0,\"xpad\":40},\"colorscale\":[[0.0,\"rgb(247,251,255)\"],[0.125,\"rgb(222,235,247)\"],[0.25,\"rgb(198,219,239)\"],[0.375,\"rgb(158,202,225)\"],[0.5,\"rgb(107,174,214)\"],[0.625,\"rgb(66,146,198)\"],[0.75,\"rgb(33,113,181)\"],[0.875,\"rgb(8,81,156)\"],[1.0,\"rgb(8,48,107)\"]],\"line\":{\"color\":\"Grey\",\"width\":0.5},\"showscale\":false},\"mode\":\"markers\",\"name\":\"Feasible Trial\",\"showlegend\":false,\"x\":[\"lin\",\"log\",\"exp\",\"lin\",\"log\",\"exp\",\"log\",\"exp\",\"lin\",\"lin\",\"exp\"],\"y\":[0.015505116638520241,0.03390989215925825,0.018002904416695022,0.0471228279082221,0.019161143155815477,0.02765333913833305,0.03238459417420321,0.021211838801501057,0.02784785793175936,0.028107451890721297,0.0002664826418719655],\"type\":\"scatter\",\"xaxis\":\"x7\",\"yaxis\":\"y7\"},{\"marker\":{\"color\":[0,1,2,3,4,5,6,7,8,9,10,11,12,13,14,15,16,17,18,19,20,21,22,23,24,25,26,27,28,29,30,31,32,33,34,35,36,37,38,39,40,41,42,43,44,45,46,47,48,49,50,51,52,53,54,55,56,57,58,59,60,61,62,63,64,65,66,67,68,69,70,71,72,73,74,75,76,77,78,79,80,81,82,83,84,85,86,87,88,89,90,91,92,93,94,95,96,97,98,99,100,101,102,103,104,105,106,107,108,109,110,111,112,113,114,115,116,117,118,119,120,121,122,123,124,125,126,127,128,129,130,131,132,133,134,135,136,137,138,139,140,141,142,143,144,145,146,147,148,149,150,151,152,153,154,155,156,157,158,159,160,161,162,163,164,165,166,167,168,169,170,171,172,173,174,175,176,177,178,179,180,181,182,183,184,185,186,187,188,189,190,191,192,193,194,195,196,197,198,199,200,201,202,203,204,205,206,207,208,209,210,211,212,213,214,215,216,217,218,219,220,221,222,223,224,225,226,227,228,229,230,231,232,233,234,235,236,237,238,239,240,241,242,243,244,245,246,247,248,249,250,251,252,253,254,255,256,257,258,259,260,261,262,263,264,265,266,267,268,269,270,271,272,273,274,275,276,277,278,279,280,281,282,283,284,285,286,287,288,289,290,291,292,293,294,295,296,297,298,299],\"colorbar\":{\"title\":{\"text\":\"Trial\"},\"x\":1.0,\"xpad\":40},\"colorscale\":[[0.0,\"rgb(247,251,255)\"],[0.125,\"rgb(222,235,247)\"],[0.25,\"rgb(198,219,239)\"],[0.375,\"rgb(158,202,225)\"],[0.5,\"rgb(107,174,214)\"],[0.625,\"rgb(66,146,198)\"],[0.75,\"rgb(33,113,181)\"],[0.875,\"rgb(8,81,156)\"],[1.0,\"rgb(8,48,107)\"]],\"line\":{\"color\":\"Grey\",\"width\":0.5},\"showscale\":false},\"mode\":\"markers\",\"name\":\"Feasible Trial\",\"showlegend\":false,\"x\":[722,95,348,544,720,54,127,249,618,199,400,393,367,410,299,277,250,507,284,165,170,20,25,6,6,20,93,2,81,140,57,17,12,95,56,120,197,5,71,732,123,34,46,4,1,102,656,456,59,163,208,38,29,1,69,334,106,136,31,75,25,23,51,87,18,0,150,109,52,547,77,21,15,38,19,62,88,14,2,45,185,21,42,18,118,69,91,15,42,56,221,20,0,26,75,19,33,61,11,10,42,15,0,15,54,678,40,101,81,9,10,13,34,0,428,63,33,572,313,10,50,27,12,8,7,46,1,33,68,11,53,13,30,9,4,0,36,47,28,0,64,14,17,28,0,371,44,14,76,497,28,13,14,40,55,10,1,27,12,40,0,24,16,35,54,13,27,12,45,1,62,15,24,0,29,256,12,44,13,34,0,14,24,15,38,13,51,26,11,11,1,32,0,33,38,39,32,66,33,54,31,31,31,35,47,69,30,79,32,29,29,31,50,30,32,56,91,31,61,30,45,28,28,25,24,25,21,22,50,22,25,21,24,21,22,49,45,23,24,19,19,18,0,15,16,0,15,14,18,16,14,1,14,15,0,393,16,13,14,12,12,12,1,14,0,12,13,11,12,1,13,46,15,711,0,43,15,14,14,593,45,15,472,15,12,14,42,10,0,13,12,43,13,12,40,0,57,0,290,12],\"y\":[0.03847803567849229,0.04171964497081084,0.045075083416706754,0.03969241243666473,0.015505116638520241,0.03390989215925825,0.04208916606138639,0.03992089568563728,0.03689398166065726,0.0419195619113201,0.04286446311593473,0.04370869088626762,0.03922014699048953,0.03898220646002158,0.04522533432718656,0.045419613559969596,0.033276953099928765,0.044603421446640534,0.009585828606819929,0.04603685469227625,0.036478533171880455,0.04936385234454629,0.04884736351921455,0.05167910318356951,0.051299149203227944,0.048890057353751605,0.04422724678859554,0.04010564854729204,0.018002904416695022,0.034522039692480196,0.044599477795545094,0.04921190880610869,0.050085003730726205,0.04670507928914593,0.04774758311109263,0.04624842492671421,0.018499769450536042,0.0471228279082221,0.04704902406361122,0.039014626607979955,0.046365675679190935,0.048154934413874154,0.047921209852360445,0.0516509302410396,0.03591129786809708,0.041083810657646824,0.04402098719895735,0.019161143155815477,0.04561184037203904,0.03602128500231943,0.03458822598741253,0.04784897708922793,0.04820380943479764,0.041976571864759823,0.04740382442291594,0.045051453542955366,0.04648504130021554,0.0469879804783168,0.048461992727442914,0.042413896090541955,0.049028092198309045,0.04919733821484708,0.048179967153130845,0.04694401449089732,0.04954915876216106,0.0002664826418719655,0.0395961476902804,0.02765333913833305,0.04249586982388426,0.04387294658296601,0.022658722357174747,0.049331885341930864,0.049934388763156416,0.04844238489569648,0.04950439674902438,0.047842500622259865,0.047141583913202785,0.044330265171293334,0.04507506180411467,0.042850527787547776,0.042630380128308054,0.04933324510119477,0.0481437214970748,0.04975391008487637,0.04686650492269808,0.04726198463493369,0.04656591531270172,0.04282694024513882,0.03238459417420321,0.047910376227795134,0.03642232578734297,0.0494451147008956,0.0002664826418719655,0.049154679926459895,0.04736466281198917,0.049376702406276715,0.04834581653075937,0.04057861037770286,0.05031477680681584,0.05037676712344134,0.04800919581518322,0.04963598798308874,0.0002664826418719655,0.049504241473341926,0.04751151390853433,0.043710622878157565,0.04793737819207235,0.04664669663710096,0.0466421111068875,0.05014495286754074,0.05001918540506721,0.04937054806796139,0.04853121084630373,0.0002664826418719655,0.04086167291275695,0.04711551945335192,0.048255655760942956,0.04232723894120498,0.04212373222017858,0.021211838801501057,0.046355664992873455,0.04879863008544178,0.050289612360944605,0.05094557622011079,0.05141379116754542,0.045043685195053494,0.0421953998415494,0.04824104595311586,0.04536433696221219,0.04804893042642694,0.047355889084013954,0.04994099064968518,0.04844011894775917,0.05072062948872008,0.05167499647934026,0.0002664826418719655,0.047950622301437665,0.047706655214182506,0.04858543575580961,0.0002664826418719655,0.047096205258541024,0.049633379649968196,0.04980878259305179,0.04851957081257526,0.0002664826418719655,0.044756911256342055,0.02784785793175936,0.04847850697449875,0.047116810660729994,0.04318529427697464,0.04837693138361469,0.05005289223297421,0.04983953922684468,0.048081317213503866,0.04739143116001597,0.050711091356320306,0.0423139061213198,0.04850785022691531,0.009216016064248595,0.04782418485527614,0.0002664826418719655,0.049024305900822816,0.04964787000215071,0.04821691192237398,0.04766757359625482,0.049898896364941756,0.04866275228073952,0.050339485124901585,0.04805792166950668,0.03807168129783852,0.04801868844605957,0.04989307820097129,0.04862042917789884,0.0002664826418719655,0.04872917207550892,0.0421431333588106,0.050170333522096044,0.04282836807235073,0.04991526231617852,0.028107451890721297,0.0002664826418719655,0.04993257210734363,0.04898506243922583,0.04955189791234907,0.048159910345721285,0.04999742933612483,0.04651908289037322,0.048688769926603,0.05017736655787099,0.052770132207501916,0.044920360081063405,0.05053286852839014,0.0002664826418719655,0.050562791169713586,0.05031125284117284,0.04990563145551257,0.05112802526300825,0.04885511508997322,0.05069920295812504,0.04950766943167519,0.050427546154826045,0.05069072979215204,0.05073869298991869,0.04989507028462124,0.049972583889434,0.04700001020406326,0.0512353018267241,0.04827784121151514,0.05104263186459542,0.05092531802018609,0.050869259929248144,0.05073879495247531,0.049012160319736396,0.05039360254194376,0.050921486747334446,0.04891709249337225,0.04711571482008757,0.04995752837612295,0.04922041848900541,0.05102792024432849,0.04973127692293931,0.05038853822528087,0.05126283537418349,0.051778250982194365,0.05169413881766273,0.050889642540877744,0.05130924006573032,0.05112273381674017,0.048247156201741616,0.05121506243504324,0.05051766722476123,0.05124083401322201,0.050911436434536786,0.05107694519486827,0.05080826109915465,0.04784381402931958,0.04868276479117052,0.050435703298782,0.05143864758675326,0.05238586893488721,0.051812229848526695,0.05235041859328893,0.0002664826418719655,0.052734651923476726,0.052749727917604794,0.0002664826418719655,0.05119815890180516,0.05287919963207016,0.05223501429331294,0.051298554172739305,0.05135107591876845,0.04254372298438136,0.053134600182737454,0.052909503083440244,0.0002664826418719655,0.03920845351012365,0.05275915171373006,0.05319752032663925,0.053035294599967545,0.041507624622074385,0.053230998474819435,0.05318001901092788,0.04641161061905724,0.053037738820821044,0.0002664826418719655,0.05312387900539119,0.0529325066441798,0.05351701566277965,0.053314355858730775,0.03307219962532294,0.05178013728169698,0.049045059421762065,0.05127462047917321,0.029566477782746063,0.0002664826418719655,0.02873532901480332,0.05091777583110446,0.05267623074832051,0.05318563606780051,0.03804079968142458,0.048897001938809,0.05300323925642245,0.03690790987867579,0.052648941574855224,0.05306271583010617,0.05263656227082064,0.048891441644559844,0.053398304472673463,0.0002664826418719655,0.05272727050856829,0.052834820688102344,0.04848977138583462,0.052674484024547705,0.04040126154027886,0.04890841429102853,0.0002664826418719655,0.03911269935383791,0.0002664826418719655,0.040218770111744254,0.04916640282816878],\"type\":\"scatter\",\"xaxis\":\"x8\",\"yaxis\":\"y8\"},{\"marker\":{\"color\":[0,7,29,30,45,65,80,109,110,111,112,113,114,115,116,117,118,128,149,160,175,189,190,191,192,193,194,195,196,197,198,199,200,201,202,203,204,205,206,207,208,209,210,211,212,213,214,215,216,217,218,219,220,221,222,223,224,225,226,227,228,229,230,231,232,233,234,235,236,237,238,239,240,241,242,243,244,245,246,247,248,249,250,251,252,253,254,255,256,257,258,259,260,261,262,263,264,265,266,267,268,269,270,271,272,273,274,276,277,278,279,280,281,282,283,284,285,286,287,289,290,291,292,293,294,295,296,298],\"colorbar\":{\"title\":{\"text\":\"Trial\"},\"x\":1.0,\"xpad\":40},\"colorscale\":[[0.0,\"rgb(247,251,255)\"],[0.125,\"rgb(222,235,247)\"],[0.25,\"rgb(198,219,239)\"],[0.375,\"rgb(158,202,225)\"],[0.5,\"rgb(107,174,214)\"],[0.625,\"rgb(66,146,198)\"],[0.75,\"rgb(33,113,181)\"],[0.875,\"rgb(8,81,156)\"],[1.0,\"rgb(8,48,107)\"]],\"line\":{\"color\":\"Grey\",\"width\":0.5},\"showscale\":false},\"mode\":\"markers\",\"name\":\"Feasible Trial\",\"showlegend\":false,\"x\":[1.6594401451544047,1.9795166830631068,0.0688101636838625,0.4555142890688384,1.0849251477918849,1.0834104845400863,0.5822532013799238,1.4315234234867982,1.4834472485589412,1.4940557969958743,1.451067308620709,1.875605326817625,1.3097684644790935,0.7910082066714876,1.2575998852058397,1.6514756849334922,0.8652633467454001,1.7308381529560617,1.3121177387748078,1.4894872349940336,1.778262178027659,0.9143013375619704,0.9565530701734938,0.7421020962719683,0.6997655092380498,0.44749382257198167,0.3662308580497401,0.33863922799843227,0.3322075892762173,0.25247428851823894,0.53449108763235,0.5673951927808256,0.29664494233594507,0.33375519447443924,0.24976967585979346,0.24183869055485563,0.3945518187917071,0.14195383883058454,0.47344404512550436,0.4775017013958939,0.293553908408145,0.23231145685281912,0.23237412277832475,0.2275137148870628,0.24239234461224346,0.18714767100660107,0.13538513582021824,0.03631749488720548,0.3258259179654841,0.12485546572378659,0.4405927537310546,0.30746331487974404,0.5572384779995706,0.29380022416230916,0.20590378883091076,0.17931953544519744,0.17170556194507863,0.17391382380234852,0.16002591709589187,0.1510898700186708,0.15803279102651313,0.11269564845068722,0.09014464492105179,0.187151476618603,0.1984998870842302,0.15711071075963084,0.008422713390628722,0.17509794304417092,0.12332851520436437,0.18162968220912284,0.07742530723563659,0.1293497773373078,0.0673030042710224,0.061569365171561405,0.07551182020210925,0.07984442532657615,0.040155189501980035,0.06420305615608846,0.011395068476860198,0.008696618216630717,0.0016378930116128614,0.010608636983433915,0.012830335744508634,0.006423333284434177,0.0686825196628001,0.07162016684985006,0.06885446902433126,0.08116823856855097,0.0644860909213963,0.03816290482137871,0.05626863830759747,0.05212197338908247,0.004788479977572868,0.014160735809991744,0.046442149347416375,0.09198199638828311,0.09151217899541329,0.004229667903125928,0.000724581442593554,0.06322371949045463,0.04791373003261537,0.05162796283537141,0.10255426723376178,0.00019723995056575316,0.09408138366049154,0.04540268705838675,0.10002482764885907,0.04737482532279097,0.11607872548651692,0.11798399884127372,0.10733933075864827,0.04350197950938311,0.1073235069161637,0.10853051499781682,0.00010469254780605397,0.04083528779444992,0.04628032671285619,0.0008987537609531776,0.040239003271035585,0.04172143824290705,0.04469947087486875,1.0857284573402364,0.03762439441461213,0.03802178816924387,0.038588733428735596,0.08555081044800847,0.033678280127538374,0.11800435936093204],\"y\":[0.03847803567849229,0.03992089568563728,0.034522039692480196,0.044599477795545094,0.041083810657646824,0.0002664826418719655,0.042630380128308054,0.05014495286754074,0.05001918540506721,0.04937054806796139,0.04853121084630373,0.0002664826418719655,0.04086167291275695,0.04711551945335192,0.048255655760942956,0.04232723894120498,0.04212373222017858,0.04536433696221219,0.04318529427697464,0.0002664826418719655,0.0421431333588106,0.052770132207501916,0.044920360081063405,0.05053286852839014,0.0002664826418719655,0.050562791169713586,0.05031125284117284,0.04990563145551257,0.05112802526300825,0.04885511508997322,0.05069920295812504,0.04950766943167519,0.050427546154826045,0.05069072979215204,0.05073869298991869,0.04989507028462124,0.049972583889434,0.04700001020406326,0.0512353018267241,0.04827784121151514,0.05104263186459542,0.05092531802018609,0.050869259929248144,0.05073879495247531,0.049012160319736396,0.05039360254194376,0.050921486747334446,0.04891709249337225,0.04711571482008757,0.04995752837612295,0.04922041848900541,0.05102792024432849,0.04973127692293931,0.05038853822528087,0.05126283537418349,0.051778250982194365,0.05169413881766273,0.050889642540877744,0.05130924006573032,0.05112273381674017,0.048247156201741616,0.05121506243504324,0.05051766722476123,0.05124083401322201,0.050911436434536786,0.05107694519486827,0.05080826109915465,0.04784381402931958,0.04868276479117052,0.050435703298782,0.05143864758675326,0.05238586893488721,0.051812229848526695,0.05235041859328893,0.0002664826418719655,0.052734651923476726,0.052749727917604794,0.0002664826418719655,0.05119815890180516,0.05287919963207016,0.05223501429331294,0.051298554172739305,0.05135107591876845,0.04254372298438136,0.053134600182737454,0.052909503083440244,0.0002664826418719655,0.03920845351012365,0.05275915171373006,0.05319752032663925,0.053035294599967545,0.041507624622074385,0.053230998474819435,0.05318001901092788,0.04641161061905724,0.053037738820821044,0.0002664826418719655,0.05312387900539119,0.0529325066441798,0.05351701566277965,0.053314355858730775,0.03307219962532294,0.05178013728169698,0.049045059421762065,0.05127462047917321,0.029566477782746063,0.0002664826418719655,0.05091777583110446,0.05267623074832051,0.05318563606780051,0.03804079968142458,0.048897001938809,0.05300323925642245,0.03690790987867579,0.052648941574855224,0.05306271583010617,0.05263656227082064,0.048891441644559844,0.053398304472673463,0.05272727050856829,0.052834820688102344,0.04848977138583462,0.052674484024547705,0.04040126154027886,0.04890841429102853,0.0002664826418719655,0.03911269935383791,0.040218770111744254],\"type\":\"scatter\",\"xaxis\":\"x9\",\"yaxis\":\"y9\"},{\"marker\":{\"color\":[0,7,29,30,45,65,80,109,110,111,112,113,114,115,116,117,118,128,149,160,175,189,190,191,192,193,194,195,196,197,198,199,200,201,202,203,204,205,206,207,208,209,210,211,212,213,214,215,216,217,218,219,220,221,222,223,224,225,226,227,228,229,230,231,232,233,234,235,236,237,238,239,240,241,242,243,244,245,246,247,248,249,250,251,252,253,254,255,256,257,258,259,260,261,262,263,264,265,266,267,268,269,270,271,272,273,274,276,277,278,279,280,281,282,283,284,285,286,287,289,290,291,292,293,294,295,296,298],\"colorbar\":{\"title\":{\"text\":\"Trial\"},\"x\":1.0,\"xpad\":40},\"colorscale\":[[0.0,\"rgb(247,251,255)\"],[0.125,\"rgb(222,235,247)\"],[0.25,\"rgb(198,219,239)\"],[0.375,\"rgb(158,202,225)\"],[0.5,\"rgb(107,174,214)\"],[0.625,\"rgb(66,146,198)\"],[0.75,\"rgb(33,113,181)\"],[0.875,\"rgb(8,81,156)\"],[1.0,\"rgb(8,48,107)\"]],\"line\":{\"color\":\"Grey\",\"width\":0.5},\"showscale\":false},\"mode\":\"markers\",\"name\":\"Feasible Trial\",\"showlegend\":false,\"x\":[0.26204828841445593,1.0041489873346503,1.8293633855239544,1.711304717912446,0.1600389905877364,0.9690905393254672,1.0751799294559916,1.4047961874667565,1.4413843932725054,1.38702598200742,1.4220318632185849,1.4263165613858908,0.6692172372221319,1.5956837621800966,1.9614886939225802,1.2380493365105707,0.6735015201062146,0.7988542838309516,1.6252529251237815,1.2088183563190191,0.496590562478769,1.9604450913585005,1.9354153476642546,1.7577544220193593,1.752882958053434,1.6410737649695715,1.5934919669098861,1.57202631228016,1.998568372012898,1.8508497562899808,1.9276516198063225,1.9909122653788944,1.8038725374615234,1.7939413718130928,1.8215709875637462,1.8092391827386294,1.8667000038984132,1.6987357651433017,1.9877359190109856,1.9972779563142744,1.8563748152777997,1.868330902029696,1.8321372644437168,1.8340227545505363,1.8496120538342322,1.8689635392321735,1.8732042758454222,1.7332419177006673,1.9020589680919047,1.790785475932044,1.9040914444520407,1.7723761505619657,1.7257690950520503,1.801418947931833,1.9153599923871736,1.9308088328737163,1.9429468680096829,1.9990504595285787,1.988269076168496,1.9865190491277114,1.968849403980889,1.9845186807437316,1.999829780862566,1.9151404997178978,1.9157090461621389,1.9206812018231776,1.929131298720499,1.9315431943636736,1.9986944801978141,1.9075339212081697,1.916877099332216,1.9278413247414237,1.911322799040794,1.9143078260154494,1.919100942600386,1.934910244957095,1.9348952742868375,1.9491852847304854,1.9421854142452983,1.9431495091462696,1.952041161008228,1.9495300554229362,1.9708532948793493,1.9527308858400552,1.9456850735537499,1.9432031745674443,1.9446333348176497,1.900981894989739,1.9514486601051055,1.9007611022323208,1.8824059534966424,1.8775172837486953,1.8849804728609267,1.8702773086622155,1.8578498276860387,1.8809950055833553,1.880347622146293,1.8752091681873402,1.8304341692645771,1.827729234583476,1.831717262712215,1.8296071896654695,1.8574713495546675,1.872806210456213,1.8479124446312833,1.8194801982242088,1.8859251816775324,1.7744528586375783,1.8715450844847978,1.8794628854112443,1.880636861208098,1.8479311582604963,1.9509456454376373,1.892372531395725,1.8249773885755949,1.8075006623328012,1.8081997979774203,1.8120029560412751,1.675602059740139,1.7826019409141207,1.7529110560624337,1.6862188692241697,1.7710624245856392,1.7617992456528562,1.7205587407697214,1.6691632250380948,1.757606787815881,1.7891937590072169],\"y\":[0.03847803567849229,0.03992089568563728,0.034522039692480196,0.044599477795545094,0.041083810657646824,0.0002664826418719655,0.042630380128308054,0.05014495286754074,0.05001918540506721,0.04937054806796139,0.04853121084630373,0.0002664826418719655,0.04086167291275695,0.04711551945335192,0.048255655760942956,0.04232723894120498,0.04212373222017858,0.04536433696221219,0.04318529427697464,0.0002664826418719655,0.0421431333588106,0.052770132207501916,0.044920360081063405,0.05053286852839014,0.0002664826418719655,0.050562791169713586,0.05031125284117284,0.04990563145551257,0.05112802526300825,0.04885511508997322,0.05069920295812504,0.04950766943167519,0.050427546154826045,0.05069072979215204,0.05073869298991869,0.04989507028462124,0.049972583889434,0.04700001020406326,0.0512353018267241,0.04827784121151514,0.05104263186459542,0.05092531802018609,0.050869259929248144,0.05073879495247531,0.049012160319736396,0.05039360254194376,0.050921486747334446,0.04891709249337225,0.04711571482008757,0.04995752837612295,0.04922041848900541,0.05102792024432849,0.04973127692293931,0.05038853822528087,0.05126283537418349,0.051778250982194365,0.05169413881766273,0.050889642540877744,0.05130924006573032,0.05112273381674017,0.048247156201741616,0.05121506243504324,0.05051766722476123,0.05124083401322201,0.050911436434536786,0.05107694519486827,0.05080826109915465,0.04784381402931958,0.04868276479117052,0.050435703298782,0.05143864758675326,0.05238586893488721,0.051812229848526695,0.05235041859328893,0.0002664826418719655,0.052734651923476726,0.052749727917604794,0.0002664826418719655,0.05119815890180516,0.05287919963207016,0.05223501429331294,0.051298554172739305,0.05135107591876845,0.04254372298438136,0.053134600182737454,0.052909503083440244,0.0002664826418719655,0.03920845351012365,0.05275915171373006,0.05319752032663925,0.053035294599967545,0.041507624622074385,0.053230998474819435,0.05318001901092788,0.04641161061905724,0.053037738820821044,0.0002664826418719655,0.05312387900539119,0.0529325066441798,0.05351701566277965,0.053314355858730775,0.03307219962532294,0.05178013728169698,0.049045059421762065,0.05127462047917321,0.029566477782746063,0.0002664826418719655,0.05091777583110446,0.05267623074832051,0.05318563606780051,0.03804079968142458,0.048897001938809,0.05300323925642245,0.03690790987867579,0.052648941574855224,0.05306271583010617,0.05263656227082064,0.048891441644559844,0.053398304472673463,0.05272727050856829,0.052834820688102344,0.04848977138583462,0.052674484024547705,0.04040126154027886,0.04890841429102853,0.0002664826418719655,0.03911269935383791,0.040218770111744254],\"type\":\"scatter\",\"xaxis\":\"x10\",\"yaxis\":\"y10\"}],                        {\"template\":{\"data\":{\"histogram2dcontour\":[{\"type\":\"histogram2dcontour\",\"colorbar\":{\"outlinewidth\":0,\"ticks\":\"\"},\"colorscale\":[[0.0,\"#0d0887\"],[0.1111111111111111,\"#46039f\"],[0.2222222222222222,\"#7201a8\"],[0.3333333333333333,\"#9c179e\"],[0.4444444444444444,\"#bd3786\"],[0.5555555555555556,\"#d8576b\"],[0.6666666666666666,\"#ed7953\"],[0.7777777777777778,\"#fb9f3a\"],[0.8888888888888888,\"#fdca26\"],[1.0,\"#f0f921\"]]}],\"choropleth\":[{\"type\":\"choropleth\",\"colorbar\":{\"outlinewidth\":0,\"ticks\":\"\"}}],\"histogram2d\":[{\"type\":\"histogram2d\",\"colorbar\":{\"outlinewidth\":0,\"ticks\":\"\"},\"colorscale\":[[0.0,\"#0d0887\"],[0.1111111111111111,\"#46039f\"],[0.2222222222222222,\"#7201a8\"],[0.3333333333333333,\"#9c179e\"],[0.4444444444444444,\"#bd3786\"],[0.5555555555555556,\"#d8576b\"],[0.6666666666666666,\"#ed7953\"],[0.7777777777777778,\"#fb9f3a\"],[0.8888888888888888,\"#fdca26\"],[1.0,\"#f0f921\"]]}],\"heatmap\":[{\"type\":\"heatmap\",\"colorbar\":{\"outlinewidth\":0,\"ticks\":\"\"},\"colorscale\":[[0.0,\"#0d0887\"],[0.1111111111111111,\"#46039f\"],[0.2222222222222222,\"#7201a8\"],[0.3333333333333333,\"#9c179e\"],[0.4444444444444444,\"#bd3786\"],[0.5555555555555556,\"#d8576b\"],[0.6666666666666666,\"#ed7953\"],[0.7777777777777778,\"#fb9f3a\"],[0.8888888888888888,\"#fdca26\"],[1.0,\"#f0f921\"]]}],\"heatmapgl\":[{\"type\":\"heatmapgl\",\"colorbar\":{\"outlinewidth\":0,\"ticks\":\"\"},\"colorscale\":[[0.0,\"#0d0887\"],[0.1111111111111111,\"#46039f\"],[0.2222222222222222,\"#7201a8\"],[0.3333333333333333,\"#9c179e\"],[0.4444444444444444,\"#bd3786\"],[0.5555555555555556,\"#d8576b\"],[0.6666666666666666,\"#ed7953\"],[0.7777777777777778,\"#fb9f3a\"],[0.8888888888888888,\"#fdca26\"],[1.0,\"#f0f921\"]]}],\"contourcarpet\":[{\"type\":\"contourcarpet\",\"colorbar\":{\"outlinewidth\":0,\"ticks\":\"\"}}],\"contour\":[{\"type\":\"contour\",\"colorbar\":{\"outlinewidth\":0,\"ticks\":\"\"},\"colorscale\":[[0.0,\"#0d0887\"],[0.1111111111111111,\"#46039f\"],[0.2222222222222222,\"#7201a8\"],[0.3333333333333333,\"#9c179e\"],[0.4444444444444444,\"#bd3786\"],[0.5555555555555556,\"#d8576b\"],[0.6666666666666666,\"#ed7953\"],[0.7777777777777778,\"#fb9f3a\"],[0.8888888888888888,\"#fdca26\"],[1.0,\"#f0f921\"]]}],\"surface\":[{\"type\":\"surface\",\"colorbar\":{\"outlinewidth\":0,\"ticks\":\"\"},\"colorscale\":[[0.0,\"#0d0887\"],[0.1111111111111111,\"#46039f\"],[0.2222222222222222,\"#7201a8\"],[0.3333333333333333,\"#9c179e\"],[0.4444444444444444,\"#bd3786\"],[0.5555555555555556,\"#d8576b\"],[0.6666666666666666,\"#ed7953\"],[0.7777777777777778,\"#fb9f3a\"],[0.8888888888888888,\"#fdca26\"],[1.0,\"#f0f921\"]]}],\"mesh3d\":[{\"type\":\"mesh3d\",\"colorbar\":{\"outlinewidth\":0,\"ticks\":\"\"}}],\"scatter\":[{\"fillpattern\":{\"fillmode\":\"overlay\",\"size\":10,\"solidity\":0.2},\"type\":\"scatter\"}],\"parcoords\":[{\"type\":\"parcoords\",\"line\":{\"colorbar\":{\"outlinewidth\":0,\"ticks\":\"\"}}}],\"scatterpolargl\":[{\"type\":\"scatterpolargl\",\"marker\":{\"colorbar\":{\"outlinewidth\":0,\"ticks\":\"\"}}}],\"bar\":[{\"error_x\":{\"color\":\"#2a3f5f\"},\"error_y\":{\"color\":\"#2a3f5f\"},\"marker\":{\"line\":{\"color\":\"#E5ECF6\",\"width\":0.5},\"pattern\":{\"fillmode\":\"overlay\",\"size\":10,\"solidity\":0.2}},\"type\":\"bar\"}],\"scattergeo\":[{\"type\":\"scattergeo\",\"marker\":{\"colorbar\":{\"outlinewidth\":0,\"ticks\":\"\"}}}],\"scatterpolar\":[{\"type\":\"scatterpolar\",\"marker\":{\"colorbar\":{\"outlinewidth\":0,\"ticks\":\"\"}}}],\"histogram\":[{\"marker\":{\"pattern\":{\"fillmode\":\"overlay\",\"size\":10,\"solidity\":0.2}},\"type\":\"histogram\"}],\"scattergl\":[{\"type\":\"scattergl\",\"marker\":{\"colorbar\":{\"outlinewidth\":0,\"ticks\":\"\"}}}],\"scatter3d\":[{\"type\":\"scatter3d\",\"line\":{\"colorbar\":{\"outlinewidth\":0,\"ticks\":\"\"}},\"marker\":{\"colorbar\":{\"outlinewidth\":0,\"ticks\":\"\"}}}],\"scattermapbox\":[{\"type\":\"scattermapbox\",\"marker\":{\"colorbar\":{\"outlinewidth\":0,\"ticks\":\"\"}}}],\"scatterternary\":[{\"type\":\"scatterternary\",\"marker\":{\"colorbar\":{\"outlinewidth\":0,\"ticks\":\"\"}}}],\"scattercarpet\":[{\"type\":\"scattercarpet\",\"marker\":{\"colorbar\":{\"outlinewidth\":0,\"ticks\":\"\"}}}],\"carpet\":[{\"aaxis\":{\"endlinecolor\":\"#2a3f5f\",\"gridcolor\":\"white\",\"linecolor\":\"white\",\"minorgridcolor\":\"white\",\"startlinecolor\":\"#2a3f5f\"},\"baxis\":{\"endlinecolor\":\"#2a3f5f\",\"gridcolor\":\"white\",\"linecolor\":\"white\",\"minorgridcolor\":\"white\",\"startlinecolor\":\"#2a3f5f\"},\"type\":\"carpet\"}],\"table\":[{\"cells\":{\"fill\":{\"color\":\"#EBF0F8\"},\"line\":{\"color\":\"white\"}},\"header\":{\"fill\":{\"color\":\"#C8D4E3\"},\"line\":{\"color\":\"white\"}},\"type\":\"table\"}],\"barpolar\":[{\"marker\":{\"line\":{\"color\":\"#E5ECF6\",\"width\":0.5},\"pattern\":{\"fillmode\":\"overlay\",\"size\":10,\"solidity\":0.2}},\"type\":\"barpolar\"}],\"pie\":[{\"automargin\":true,\"type\":\"pie\"}]},\"layout\":{\"autotypenumbers\":\"strict\",\"colorway\":[\"#636efa\",\"#EF553B\",\"#00cc96\",\"#ab63fa\",\"#FFA15A\",\"#19d3f3\",\"#FF6692\",\"#B6E880\",\"#FF97FF\",\"#FECB52\"],\"font\":{\"color\":\"#2a3f5f\"},\"hovermode\":\"closest\",\"hoverlabel\":{\"align\":\"left\"},\"paper_bgcolor\":\"white\",\"plot_bgcolor\":\"#E5ECF6\",\"polar\":{\"bgcolor\":\"#E5ECF6\",\"angularaxis\":{\"gridcolor\":\"white\",\"linecolor\":\"white\",\"ticks\":\"\"},\"radialaxis\":{\"gridcolor\":\"white\",\"linecolor\":\"white\",\"ticks\":\"\"}},\"ternary\":{\"bgcolor\":\"#E5ECF6\",\"aaxis\":{\"gridcolor\":\"white\",\"linecolor\":\"white\",\"ticks\":\"\"},\"baxis\":{\"gridcolor\":\"white\",\"linecolor\":\"white\",\"ticks\":\"\"},\"caxis\":{\"gridcolor\":\"white\",\"linecolor\":\"white\",\"ticks\":\"\"}},\"coloraxis\":{\"colorbar\":{\"outlinewidth\":0,\"ticks\":\"\"}},\"colorscale\":{\"sequential\":[[0.0,\"#0d0887\"],[0.1111111111111111,\"#46039f\"],[0.2222222222222222,\"#7201a8\"],[0.3333333333333333,\"#9c179e\"],[0.4444444444444444,\"#bd3786\"],[0.5555555555555556,\"#d8576b\"],[0.6666666666666666,\"#ed7953\"],[0.7777777777777778,\"#fb9f3a\"],[0.8888888888888888,\"#fdca26\"],[1.0,\"#f0f921\"]],\"sequentialminus\":[[0.0,\"#0d0887\"],[0.1111111111111111,\"#46039f\"],[0.2222222222222222,\"#7201a8\"],[0.3333333333333333,\"#9c179e\"],[0.4444444444444444,\"#bd3786\"],[0.5555555555555556,\"#d8576b\"],[0.6666666666666666,\"#ed7953\"],[0.7777777777777778,\"#fb9f3a\"],[0.8888888888888888,\"#fdca26\"],[1.0,\"#f0f921\"]],\"diverging\":[[0,\"#8e0152\"],[0.1,\"#c51b7d\"],[0.2,\"#de77ae\"],[0.3,\"#f1b6da\"],[0.4,\"#fde0ef\"],[0.5,\"#f7f7f7\"],[0.6,\"#e6f5d0\"],[0.7,\"#b8e186\"],[0.8,\"#7fbc41\"],[0.9,\"#4d9221\"],[1,\"#276419\"]]},\"xaxis\":{\"gridcolor\":\"white\",\"linecolor\":\"white\",\"ticks\":\"\",\"title\":{\"standoff\":15},\"zerolinecolor\":\"white\",\"automargin\":true,\"zerolinewidth\":2},\"yaxis\":{\"gridcolor\":\"white\",\"linecolor\":\"white\",\"ticks\":\"\",\"title\":{\"standoff\":15},\"zerolinecolor\":\"white\",\"automargin\":true,\"zerolinewidth\":2},\"scene\":{\"xaxis\":{\"backgroundcolor\":\"#E5ECF6\",\"gridcolor\":\"white\",\"linecolor\":\"white\",\"showbackground\":true,\"ticks\":\"\",\"zerolinecolor\":\"white\",\"gridwidth\":2},\"yaxis\":{\"backgroundcolor\":\"#E5ECF6\",\"gridcolor\":\"white\",\"linecolor\":\"white\",\"showbackground\":true,\"ticks\":\"\",\"zerolinecolor\":\"white\",\"gridwidth\":2},\"zaxis\":{\"backgroundcolor\":\"#E5ECF6\",\"gridcolor\":\"white\",\"linecolor\":\"white\",\"showbackground\":true,\"ticks\":\"\",\"zerolinecolor\":\"white\",\"gridwidth\":2}},\"shapedefaults\":{\"line\":{\"color\":\"#2a3f5f\"}},\"annotationdefaults\":{\"arrowcolor\":\"#2a3f5f\",\"arrowhead\":0,\"arrowwidth\":1},\"geo\":{\"bgcolor\":\"white\",\"landcolor\":\"#E5ECF6\",\"subunitcolor\":\"white\",\"showland\":true,\"showlakes\":true,\"lakecolor\":\"white\"},\"title\":{\"x\":0.05},\"mapbox\":{\"style\":\"light\"}}},\"xaxis\":{\"anchor\":\"y\",\"domain\":[0.0,0.082],\"title\":{\"text\":\"asymmetric_alpha\"}},\"yaxis\":{\"anchor\":\"x\",\"domain\":[0.0,1.0],\"title\":{\"text\":\"Objective Value\"}},\"xaxis2\":{\"anchor\":\"y2\",\"domain\":[0.10200000000000001,0.184],\"title\":{\"text\":\"feature_weighting\"},\"type\":\"category\",\"categoryorder\":\"array\",\"categoryarray\":[\"BM25\",\"TF-IDF\",\"none\"]},\"yaxis2\":{\"anchor\":\"x2\",\"domain\":[0.0,1.0],\"matches\":\"y\",\"showticklabels\":false},\"xaxis3\":{\"anchor\":\"y3\",\"domain\":[0.20400000000000001,0.28600000000000003],\"title\":{\"text\":\"normalize\"},\"type\":\"category\",\"categoryorder\":\"array\",\"categoryarray\":[true,false]},\"yaxis3\":{\"anchor\":\"x3\",\"domain\":[0.0,1.0],\"matches\":\"y\",\"showticklabels\":false},\"xaxis4\":{\"anchor\":\"y4\",\"domain\":[0.306,0.388],\"title\":{\"text\":\"normalize_avg_row\"},\"type\":\"category\",\"categoryorder\":\"array\",\"categoryarray\":[true,false]},\"yaxis4\":{\"anchor\":\"x4\",\"domain\":[0.0,1.0],\"matches\":\"y\",\"showticklabels\":false},\"xaxis5\":{\"anchor\":\"y5\",\"domain\":[0.40800000000000003,0.49000000000000005],\"title\":{\"text\":\"shrink\"}},\"yaxis5\":{\"anchor\":\"x5\",\"domain\":[0.0,1.0],\"matches\":\"y\",\"showticklabels\":false},\"xaxis6\":{\"anchor\":\"y6\",\"domain\":[0.51,0.592],\"title\":{\"text\":\"similarity\"},\"type\":\"category\",\"categoryorder\":\"array\",\"categoryarray\":[\"cosine\",\"dice\",\"jaccard\",\"asymmetric\",\"tversky\",\"euclidean\"]},\"yaxis6\":{\"anchor\":\"x6\",\"domain\":[0.0,1.0],\"matches\":\"y\",\"showticklabels\":false},\"xaxis7\":{\"anchor\":\"y7\",\"domain\":[0.6120000000000001,0.6940000000000001],\"title\":{\"text\":\"similarity_from_distance_mode\"},\"type\":\"category\",\"categoryorder\":\"array\",\"categoryarray\":[\"lin\",\"log\",\"exp\"]},\"yaxis7\":{\"anchor\":\"x7\",\"domain\":[0.0,1.0],\"matches\":\"y\",\"showticklabels\":false},\"xaxis8\":{\"anchor\":\"y8\",\"domain\":[0.7140000000000001,0.796],\"title\":{\"text\":\"topK\"}},\"yaxis8\":{\"anchor\":\"x8\",\"domain\":[0.0,1.0],\"matches\":\"y\",\"showticklabels\":false},\"xaxis9\":{\"anchor\":\"y9\",\"domain\":[0.8160000000000001,0.898],\"title\":{\"text\":\"tversky_alpha\"}},\"yaxis9\":{\"anchor\":\"x9\",\"domain\":[0.0,1.0],\"matches\":\"y\",\"showticklabels\":false},\"xaxis10\":{\"anchor\":\"y10\",\"domain\":[0.9179999999999999,0.9999999999999999],\"title\":{\"text\":\"tversky_beta\"}},\"yaxis10\":{\"anchor\":\"x10\",\"domain\":[0.0,1.0],\"matches\":\"y\",\"showticklabels\":false},\"title\":{\"text\":\"Slice Plot\"},\"width\":3000},                        {\"responsive\": true}                    ).then(function(){\n",
       "                            \n",
       "var gd = document.getElementById('5bd4c024-b567-4911-922f-8577efbb9d31');\n",
       "var x = new MutationObserver(function (mutations, observer) {{\n",
       "        var display = window.getComputedStyle(gd).display;\n",
       "        if (!display || display === 'none') {{\n",
       "            console.log([gd, 'removed!']);\n",
       "            Plotly.purge(gd);\n",
       "            observer.disconnect();\n",
       "        }}\n",
       "}});\n",
       "\n",
       "// Listen for the removal of the full notebook cells\n",
       "var notebookContainer = gd.closest('#notebook-container');\n",
       "if (notebookContainer) {{\n",
       "    x.observe(notebookContainer, {childList: true});\n",
       "}}\n",
       "\n",
       "// Listen for the clearing of the current output cell\n",
       "var outputEl = gd.closest('.output');\n",
       "if (outputEl) {{\n",
       "    x.observe(outputEl, {childList: true});\n",
       "}}\n",
       "\n",
       "                        })                };                            </script>        </div>\n",
       "</body>\n",
       "</html>"
      ]
     },
     "metadata": {},
     "output_type": "display_data"
    }
   ],
   "source": [
    "if not config['tune_parameters']:\n",
    "    optuna_study = optuna.load_study(study_name=f'hyperparameters_tuning_{config[\"model\"]}_{config[\"metric\"]}', storage=f'sqlite:///{config[\"database_path\"]}')\n",
    "    \n",
    "fig = optuna.visualization.plot_slice(optuna_study)\n",
    "fig.show()"
   ]
  },
  {
   "cell_type": "code",
   "execution_count": 15,
   "id": "2867c0f6",
   "metadata": {
    "execution": {
     "iopub.execute_input": "2025-01-05T05:00:38.681436Z",
     "iopub.status.busy": "2025-01-05T05:00:38.681062Z",
     "iopub.status.idle": "2025-01-05T05:00:43.480636Z",
     "shell.execute_reply": "2025-01-05T05:00:43.479515Z"
    },
    "papermill": {
     "duration": 4.906676,
     "end_time": "2025-01-05T05:00:43.482411",
     "exception": false,
     "start_time": "2025-01-05T05:00:38.575735",
     "status": "completed"
    },
    "tags": []
   },
   "outputs": [
    {
     "data": {
      "text/html": [
       "<html>\n",
       "<head><meta charset=\"utf-8\" /></head>\n",
       "<body>\n",
       "    <div>            <script src=\"https://cdnjs.cloudflare.com/ajax/libs/mathjax/2.7.5/MathJax.js?config=TeX-AMS-MML_SVG\"></script><script type=\"text/javascript\">if (window.MathJax && window.MathJax.Hub && window.MathJax.Hub.Config) {window.MathJax.Hub.Config({SVG: {font: \"STIX-Web\"}});}</script>                <script type=\"text/javascript\">window.PlotlyConfig = {MathJaxConfig: 'local'};</script>\n",
       "        <script charset=\"utf-8\" src=\"https://cdn.plot.ly/plotly-2.35.2.min.js\"></script>                <div id=\"204b18b9-1bb4-42ff-a8f2-2c51d7dc76d5\" class=\"plotly-graph-div\" style=\"height:525px; width:100%;\"></div>            <script type=\"text/javascript\">                                    window.PLOTLYENV=window.PLOTLYENV || {};                                    if (document.getElementById(\"204b18b9-1bb4-42ff-a8f2-2c51d7dc76d5\")) {                    Plotly.newPlot(                        \"204b18b9-1bb4-42ff-a8f2-2c51d7dc76d5\",                        [{\"cliponaxis\":false,\"hovertemplate\":[\"feature_weighting (CategoricalDistribution): 0.051633624592339895\\u003cextra\\u003e\\u003c\\u002fextra\\u003e\",\"shrink (IntDistribution): 0.062339833330738136\\u003cextra\\u003e\\u003c\\u002fextra\\u003e\",\"topK (IntDistribution): 0.22087280293945388\\u003cextra\\u003e\\u003c\\u002fextra\\u003e\",\"similarity (CategoricalDistribution): 0.6651537391374682\\u003cextra\\u003e\\u003c\\u002fextra\\u003e\"],\"name\":\"Objective Value\",\"orientation\":\"h\",\"text\":[\"0.05\",\"0.06\",\"0.22\",\"0.67\"],\"textposition\":\"outside\",\"x\":[0.051633624592339895,0.062339833330738136,0.22087280293945388,0.6651537391374682],\"y\":[\"feature_weighting\",\"shrink\",\"topK\",\"similarity\"],\"type\":\"bar\"}],                        {\"title\":{\"text\":\"Hyperparameter Importances\"},\"xaxis\":{\"title\":{\"text\":\"Hyperparameter Importance\"}},\"yaxis\":{\"title\":{\"text\":\"Hyperparameter\"}},\"template\":{\"data\":{\"histogram2dcontour\":[{\"type\":\"histogram2dcontour\",\"colorbar\":{\"outlinewidth\":0,\"ticks\":\"\"},\"colorscale\":[[0.0,\"#0d0887\"],[0.1111111111111111,\"#46039f\"],[0.2222222222222222,\"#7201a8\"],[0.3333333333333333,\"#9c179e\"],[0.4444444444444444,\"#bd3786\"],[0.5555555555555556,\"#d8576b\"],[0.6666666666666666,\"#ed7953\"],[0.7777777777777778,\"#fb9f3a\"],[0.8888888888888888,\"#fdca26\"],[1.0,\"#f0f921\"]]}],\"choropleth\":[{\"type\":\"choropleth\",\"colorbar\":{\"outlinewidth\":0,\"ticks\":\"\"}}],\"histogram2d\":[{\"type\":\"histogram2d\",\"colorbar\":{\"outlinewidth\":0,\"ticks\":\"\"},\"colorscale\":[[0.0,\"#0d0887\"],[0.1111111111111111,\"#46039f\"],[0.2222222222222222,\"#7201a8\"],[0.3333333333333333,\"#9c179e\"],[0.4444444444444444,\"#bd3786\"],[0.5555555555555556,\"#d8576b\"],[0.6666666666666666,\"#ed7953\"],[0.7777777777777778,\"#fb9f3a\"],[0.8888888888888888,\"#fdca26\"],[1.0,\"#f0f921\"]]}],\"heatmap\":[{\"type\":\"heatmap\",\"colorbar\":{\"outlinewidth\":0,\"ticks\":\"\"},\"colorscale\":[[0.0,\"#0d0887\"],[0.1111111111111111,\"#46039f\"],[0.2222222222222222,\"#7201a8\"],[0.3333333333333333,\"#9c179e\"],[0.4444444444444444,\"#bd3786\"],[0.5555555555555556,\"#d8576b\"],[0.6666666666666666,\"#ed7953\"],[0.7777777777777778,\"#fb9f3a\"],[0.8888888888888888,\"#fdca26\"],[1.0,\"#f0f921\"]]}],\"heatmapgl\":[{\"type\":\"heatmapgl\",\"colorbar\":{\"outlinewidth\":0,\"ticks\":\"\"},\"colorscale\":[[0.0,\"#0d0887\"],[0.1111111111111111,\"#46039f\"],[0.2222222222222222,\"#7201a8\"],[0.3333333333333333,\"#9c179e\"],[0.4444444444444444,\"#bd3786\"],[0.5555555555555556,\"#d8576b\"],[0.6666666666666666,\"#ed7953\"],[0.7777777777777778,\"#fb9f3a\"],[0.8888888888888888,\"#fdca26\"],[1.0,\"#f0f921\"]]}],\"contourcarpet\":[{\"type\":\"contourcarpet\",\"colorbar\":{\"outlinewidth\":0,\"ticks\":\"\"}}],\"contour\":[{\"type\":\"contour\",\"colorbar\":{\"outlinewidth\":0,\"ticks\":\"\"},\"colorscale\":[[0.0,\"#0d0887\"],[0.1111111111111111,\"#46039f\"],[0.2222222222222222,\"#7201a8\"],[0.3333333333333333,\"#9c179e\"],[0.4444444444444444,\"#bd3786\"],[0.5555555555555556,\"#d8576b\"],[0.6666666666666666,\"#ed7953\"],[0.7777777777777778,\"#fb9f3a\"],[0.8888888888888888,\"#fdca26\"],[1.0,\"#f0f921\"]]}],\"surface\":[{\"type\":\"surface\",\"colorbar\":{\"outlinewidth\":0,\"ticks\":\"\"},\"colorscale\":[[0.0,\"#0d0887\"],[0.1111111111111111,\"#46039f\"],[0.2222222222222222,\"#7201a8\"],[0.3333333333333333,\"#9c179e\"],[0.4444444444444444,\"#bd3786\"],[0.5555555555555556,\"#d8576b\"],[0.6666666666666666,\"#ed7953\"],[0.7777777777777778,\"#fb9f3a\"],[0.8888888888888888,\"#fdca26\"],[1.0,\"#f0f921\"]]}],\"mesh3d\":[{\"type\":\"mesh3d\",\"colorbar\":{\"outlinewidth\":0,\"ticks\":\"\"}}],\"scatter\":[{\"fillpattern\":{\"fillmode\":\"overlay\",\"size\":10,\"solidity\":0.2},\"type\":\"scatter\"}],\"parcoords\":[{\"type\":\"parcoords\",\"line\":{\"colorbar\":{\"outlinewidth\":0,\"ticks\":\"\"}}}],\"scatterpolargl\":[{\"type\":\"scatterpolargl\",\"marker\":{\"colorbar\":{\"outlinewidth\":0,\"ticks\":\"\"}}}],\"bar\":[{\"error_x\":{\"color\":\"#2a3f5f\"},\"error_y\":{\"color\":\"#2a3f5f\"},\"marker\":{\"line\":{\"color\":\"#E5ECF6\",\"width\":0.5},\"pattern\":{\"fillmode\":\"overlay\",\"size\":10,\"solidity\":0.2}},\"type\":\"bar\"}],\"scattergeo\":[{\"type\":\"scattergeo\",\"marker\":{\"colorbar\":{\"outlinewidth\":0,\"ticks\":\"\"}}}],\"scatterpolar\":[{\"type\":\"scatterpolar\",\"marker\":{\"colorbar\":{\"outlinewidth\":0,\"ticks\":\"\"}}}],\"histogram\":[{\"marker\":{\"pattern\":{\"fillmode\":\"overlay\",\"size\":10,\"solidity\":0.2}},\"type\":\"histogram\"}],\"scattergl\":[{\"type\":\"scattergl\",\"marker\":{\"colorbar\":{\"outlinewidth\":0,\"ticks\":\"\"}}}],\"scatter3d\":[{\"type\":\"scatter3d\",\"line\":{\"colorbar\":{\"outlinewidth\":0,\"ticks\":\"\"}},\"marker\":{\"colorbar\":{\"outlinewidth\":0,\"ticks\":\"\"}}}],\"scattermapbox\":[{\"type\":\"scattermapbox\",\"marker\":{\"colorbar\":{\"outlinewidth\":0,\"ticks\":\"\"}}}],\"scatterternary\":[{\"type\":\"scatterternary\",\"marker\":{\"colorbar\":{\"outlinewidth\":0,\"ticks\":\"\"}}}],\"scattercarpet\":[{\"type\":\"scattercarpet\",\"marker\":{\"colorbar\":{\"outlinewidth\":0,\"ticks\":\"\"}}}],\"carpet\":[{\"aaxis\":{\"endlinecolor\":\"#2a3f5f\",\"gridcolor\":\"white\",\"linecolor\":\"white\",\"minorgridcolor\":\"white\",\"startlinecolor\":\"#2a3f5f\"},\"baxis\":{\"endlinecolor\":\"#2a3f5f\",\"gridcolor\":\"white\",\"linecolor\":\"white\",\"minorgridcolor\":\"white\",\"startlinecolor\":\"#2a3f5f\"},\"type\":\"carpet\"}],\"table\":[{\"cells\":{\"fill\":{\"color\":\"#EBF0F8\"},\"line\":{\"color\":\"white\"}},\"header\":{\"fill\":{\"color\":\"#C8D4E3\"},\"line\":{\"color\":\"white\"}},\"type\":\"table\"}],\"barpolar\":[{\"marker\":{\"line\":{\"color\":\"#E5ECF6\",\"width\":0.5},\"pattern\":{\"fillmode\":\"overlay\",\"size\":10,\"solidity\":0.2}},\"type\":\"barpolar\"}],\"pie\":[{\"automargin\":true,\"type\":\"pie\"}]},\"layout\":{\"autotypenumbers\":\"strict\",\"colorway\":[\"#636efa\",\"#EF553B\",\"#00cc96\",\"#ab63fa\",\"#FFA15A\",\"#19d3f3\",\"#FF6692\",\"#B6E880\",\"#FF97FF\",\"#FECB52\"],\"font\":{\"color\":\"#2a3f5f\"},\"hovermode\":\"closest\",\"hoverlabel\":{\"align\":\"left\"},\"paper_bgcolor\":\"white\",\"plot_bgcolor\":\"#E5ECF6\",\"polar\":{\"bgcolor\":\"#E5ECF6\",\"angularaxis\":{\"gridcolor\":\"white\",\"linecolor\":\"white\",\"ticks\":\"\"},\"radialaxis\":{\"gridcolor\":\"white\",\"linecolor\":\"white\",\"ticks\":\"\"}},\"ternary\":{\"bgcolor\":\"#E5ECF6\",\"aaxis\":{\"gridcolor\":\"white\",\"linecolor\":\"white\",\"ticks\":\"\"},\"baxis\":{\"gridcolor\":\"white\",\"linecolor\":\"white\",\"ticks\":\"\"},\"caxis\":{\"gridcolor\":\"white\",\"linecolor\":\"white\",\"ticks\":\"\"}},\"coloraxis\":{\"colorbar\":{\"outlinewidth\":0,\"ticks\":\"\"}},\"colorscale\":{\"sequential\":[[0.0,\"#0d0887\"],[0.1111111111111111,\"#46039f\"],[0.2222222222222222,\"#7201a8\"],[0.3333333333333333,\"#9c179e\"],[0.4444444444444444,\"#bd3786\"],[0.5555555555555556,\"#d8576b\"],[0.6666666666666666,\"#ed7953\"],[0.7777777777777778,\"#fb9f3a\"],[0.8888888888888888,\"#fdca26\"],[1.0,\"#f0f921\"]],\"sequentialminus\":[[0.0,\"#0d0887\"],[0.1111111111111111,\"#46039f\"],[0.2222222222222222,\"#7201a8\"],[0.3333333333333333,\"#9c179e\"],[0.4444444444444444,\"#bd3786\"],[0.5555555555555556,\"#d8576b\"],[0.6666666666666666,\"#ed7953\"],[0.7777777777777778,\"#fb9f3a\"],[0.8888888888888888,\"#fdca26\"],[1.0,\"#f0f921\"]],\"diverging\":[[0,\"#8e0152\"],[0.1,\"#c51b7d\"],[0.2,\"#de77ae\"],[0.3,\"#f1b6da\"],[0.4,\"#fde0ef\"],[0.5,\"#f7f7f7\"],[0.6,\"#e6f5d0\"],[0.7,\"#b8e186\"],[0.8,\"#7fbc41\"],[0.9,\"#4d9221\"],[1,\"#276419\"]]},\"xaxis\":{\"gridcolor\":\"white\",\"linecolor\":\"white\",\"ticks\":\"\",\"title\":{\"standoff\":15},\"zerolinecolor\":\"white\",\"automargin\":true,\"zerolinewidth\":2},\"yaxis\":{\"gridcolor\":\"white\",\"linecolor\":\"white\",\"ticks\":\"\",\"title\":{\"standoff\":15},\"zerolinecolor\":\"white\",\"automargin\":true,\"zerolinewidth\":2},\"scene\":{\"xaxis\":{\"backgroundcolor\":\"#E5ECF6\",\"gridcolor\":\"white\",\"linecolor\":\"white\",\"showbackground\":true,\"ticks\":\"\",\"zerolinecolor\":\"white\",\"gridwidth\":2},\"yaxis\":{\"backgroundcolor\":\"#E5ECF6\",\"gridcolor\":\"white\",\"linecolor\":\"white\",\"showbackground\":true,\"ticks\":\"\",\"zerolinecolor\":\"white\",\"gridwidth\":2},\"zaxis\":{\"backgroundcolor\":\"#E5ECF6\",\"gridcolor\":\"white\",\"linecolor\":\"white\",\"showbackground\":true,\"ticks\":\"\",\"zerolinecolor\":\"white\",\"gridwidth\":2}},\"shapedefaults\":{\"line\":{\"color\":\"#2a3f5f\"}},\"annotationdefaults\":{\"arrowcolor\":\"#2a3f5f\",\"arrowhead\":0,\"arrowwidth\":1},\"geo\":{\"bgcolor\":\"white\",\"landcolor\":\"#E5ECF6\",\"subunitcolor\":\"white\",\"showland\":true,\"showlakes\":true,\"lakecolor\":\"white\"},\"title\":{\"x\":0.05},\"mapbox\":{\"style\":\"light\"}}}},                        {\"responsive\": true}                    ).then(function(){\n",
       "                            \n",
       "var gd = document.getElementById('204b18b9-1bb4-42ff-a8f2-2c51d7dc76d5');\n",
       "var x = new MutationObserver(function (mutations, observer) {{\n",
       "        var display = window.getComputedStyle(gd).display;\n",
       "        if (!display || display === 'none') {{\n",
       "            console.log([gd, 'removed!']);\n",
       "            Plotly.purge(gd);\n",
       "            observer.disconnect();\n",
       "        }}\n",
       "}});\n",
       "\n",
       "// Listen for the removal of the full notebook cells\n",
       "var notebookContainer = gd.closest('#notebook-container');\n",
       "if (notebookContainer) {{\n",
       "    x.observe(notebookContainer, {childList: true});\n",
       "}}\n",
       "\n",
       "// Listen for the clearing of the current output cell\n",
       "var outputEl = gd.closest('.output');\n",
       "if (outputEl) {{\n",
       "    x.observe(outputEl, {childList: true});\n",
       "}}\n",
       "\n",
       "                        })                };                            </script>        </div>\n",
       "</body>\n",
       "</html>"
      ]
     },
     "metadata": {},
     "output_type": "display_data"
    }
   ],
   "source": [
    "if not config['tune_parameters']:\n",
    "    optuna_study = optuna.load_study(study_name=f'hyperparameters_tuning_{config[\"model\"]}_{config[\"metric\"]}', storage=f'sqlite:///{config[\"database_path\"]}')\n",
    "    \n",
    "fig = optuna.visualization.plot_param_importances(optuna_study)\n",
    "fig.show()"
   ]
  },
  {
   "cell_type": "markdown",
   "id": "ab0c20a7",
   "metadata": {
    "papermill": {
     "duration": 0.105364,
     "end_time": "2025-01-05T05:00:43.697104",
     "exception": false,
     "start_time": "2025-01-05T05:00:43.591740",
     "status": "completed"
    },
    "tags": []
   },
   "source": [
    "## Let's train the recommender with best parameter values"
   ]
  },
  {
   "cell_type": "code",
   "execution_count": 16,
   "id": "e393ad10",
   "metadata": {
    "execution": {
     "iopub.execute_input": "2025-01-05T05:00:43.908016Z",
     "iopub.status.busy": "2025-01-05T05:00:43.907591Z",
     "iopub.status.idle": "2025-01-05T05:01:01.177609Z",
     "shell.execute_reply": "2025-01-05T05:01:01.175812Z"
    },
    "papermill": {
     "duration": 17.377449,
     "end_time": "2025-01-05T05:01:01.180039",
     "exception": false,
     "start_time": "2025-01-05T05:00:43.802590",
     "status": "completed"
    },
    "tags": []
   },
   "outputs": [
    {
     "name": "stdout",
     "output_type": "stream",
     "text": [
      "Similarity column 38121 (100.0%), 2260.80 column/sec. Elapsed time 16.86 sec\n"
     ]
    }
   ],
   "source": [
    "if config['tune_best_params']:\n",
    "\n",
    "    if config['tune_parameters']:\n",
    "        best_params = optuna_study.best_trial.params\n",
    "    else: \n",
    "        with open(f'{K_PATH}/{GH_PATH}/{config[\"model\"]}Recommender/Optimizing{config[\"metric\"]}/best_params_{config[\"model\"]}_{config[\"metric\"]}.json', 'r') as best_params_json:\n",
    "            best_params = json.load(best_params_json)\n",
    "\n",
    "    recommender_instance = ItemKNNCFRecommender(URM_train + URM_validation)\n",
    "    recommender_instance.fit(**best_params)"
   ]
  },
  {
   "cell_type": "markdown",
   "id": "7756ba75",
   "metadata": {
    "papermill": {
     "duration": 0.124828,
     "end_time": "2025-01-05T05:01:01.421524",
     "exception": false,
     "start_time": "2025-01-05T05:01:01.296696",
     "status": "completed"
    },
    "tags": []
   },
   "source": [
    "# Testing"
   ]
  },
  {
   "cell_type": "markdown",
   "id": "0431918f",
   "metadata": {
    "papermill": {
     "duration": 0.12238,
     "end_time": "2025-01-05T05:01:01.683998",
     "exception": false,
     "start_time": "2025-01-05T05:01:01.561618",
     "status": "completed"
    },
    "tags": []
   },
   "source": [
    "Create the recommendations for the submission. "
   ]
  },
  {
   "cell_type": "code",
   "execution_count": 17,
   "id": "da2b42ba",
   "metadata": {
    "execution": {
     "iopub.execute_input": "2025-01-05T05:01:01.913653Z",
     "iopub.status.busy": "2025-01-05T05:01:01.913250Z",
     "iopub.status.idle": "2025-01-05T05:01:23.757415Z",
     "shell.execute_reply": "2025-01-05T05:01:23.755273Z"
    },
    "papermill": {
     "duration": 21.956525,
     "end_time": "2025-01-05T05:01:23.759475",
     "exception": false,
     "start_time": "2025-01-05T05:01:01.802950",
     "status": "completed"
    },
    "tags": []
   },
   "outputs": [
    {
     "name": "stdout",
     "output_type": "stream",
     "text": [
      "Submission file saved as /kaggle/working/submission_ItemKNNCF_MAP.csv\n"
     ]
    }
   ],
   "source": [
    "if config['tune_best_params']:\n",
    "\n",
    "    data_target_users_test = pd.read_csv('/kaggle/input/recommender-system-2024-challenge-polimi/data_target_users_test.csv')\n",
    "    create_submission(data_target_users_test, recommender_instance, f'/kaggle/working/submission_{config[\"model\"]}_{config[\"metric\"]}.csv')"
   ]
  },
  {
   "cell_type": "markdown",
   "id": "98485852",
   "metadata": {
    "execution": {
     "iopub.execute_input": "2024-11-14T00:04:16.877791Z",
     "iopub.status.busy": "2024-11-14T00:04:16.877275Z",
     "iopub.status.idle": "2024-11-14T00:04:16.883170Z",
     "shell.execute_reply": "2024-11-14T00:04:16.881889Z",
     "shell.execute_reply.started": "2024-11-14T00:04:16.877743Z"
    },
    "papermill": {
     "duration": 0.114869,
     "end_time": "2025-01-05T05:01:23.989758",
     "exception": false,
     "start_time": "2025-01-05T05:01:23.874889",
     "status": "completed"
    },
    "tags": []
   },
   "source": [
    "# Save Version on GitHub "
   ]
  },
  {
   "cell_type": "markdown",
   "id": "2822246c",
   "metadata": {
    "papermill": {
     "duration": 0.11289,
     "end_time": "2025-01-05T05:01:24.222445",
     "exception": false,
     "start_time": "2025-01-05T05:01:24.109555",
     "status": "completed"
    },
    "tags": []
   },
   "source": [
    "Write or import a json file where best hyperparameters are saved. "
   ]
  },
  {
   "cell_type": "code",
   "execution_count": 18,
   "id": "93696f71",
   "metadata": {
    "execution": {
     "iopub.execute_input": "2025-01-05T05:01:24.457578Z",
     "iopub.status.busy": "2025-01-05T05:01:24.457175Z",
     "iopub.status.idle": "2025-01-05T05:01:26.144513Z",
     "shell.execute_reply": "2025-01-05T05:01:26.142504Z"
    },
    "papermill": {
     "duration": 1.808269,
     "end_time": "2025-01-05T05:01:26.146942",
     "exception": false,
     "start_time": "2025-01-05T05:01:24.338673",
     "status": "completed"
    },
    "tags": []
   },
   "outputs": [
    {
     "name": "stdout",
     "output_type": "stream",
     "text": [
      "File 'TrainedModels/WithKFCV/KNN/ItemKNNCFRecommender/OptimizingMAP/best_params_ItemKNNCF_MAP.json' updated successfully.\n"
     ]
    }
   ],
   "source": [
    "if config['tune_parameters']:\n",
    "    with open(f'/kaggle/working/best_params_{config[\"model\"]}_{config[\"metric\"]}.json', 'w') as params_file:\n",
    "        json.dump(optuna_study.best_params, params_file)\n",
    "        \n",
    "    if config['save_github']:\n",
    "        upload_file(\n",
    "            f'/kaggle/working/best_params_{config[\"model\"]}_{config[\"metric\"]}.json', \n",
    "            f'{GH_PATH}/{config[\"model\"]}Recommender/Optimizing{config[\"metric\"]}/best_params_{config[\"model\"]}_{config[\"metric\"]}.json', \n",
    "            f'{config[\"model\"]}_{config[\"metric\"]} tuning results (from kaggle notebook)',\n",
    "            repo\n",
    "        )\n",
    "elif config['copy_prev_best_params']:\n",
    "    shutil.copyfile(\n",
    "        f'{K_PATH}/{GH_PATH}/{config[\"model\"]}Recommender/Optimizing{config[\"metric\"]}/'\\\n",
    "        f'best_params_{config[\"model\"]}_{config[\"metric\"]}.json', \n",
    "        f'/kaggle/working/best_params_{config[\"model\"]}_{config[\"metric\"]}.json'\n",
    "    )"
   ]
  },
  {
   "cell_type": "markdown",
   "id": "75aba3c7",
   "metadata": {
    "papermill": {
     "duration": 0.116802,
     "end_time": "2025-01-05T05:01:26.379084",
     "exception": false,
     "start_time": "2025-01-05T05:01:26.262282",
     "status": "completed"
    },
    "tags": []
   },
   "source": [
    "Save the history of the tuned model."
   ]
  },
  {
   "cell_type": "code",
   "execution_count": 19,
   "id": "0ad499a4",
   "metadata": {
    "execution": {
     "iopub.execute_input": "2025-01-05T05:01:26.618839Z",
     "iopub.status.busy": "2025-01-05T05:01:26.618377Z",
     "iopub.status.idle": "2025-01-05T05:01:28.889053Z",
     "shell.execute_reply": "2025-01-05T05:01:28.887371Z"
    },
    "papermill": {
     "duration": 2.396862,
     "end_time": "2025-01-05T05:01:28.891557",
     "exception": false,
     "start_time": "2025-01-05T05:01:26.494695",
     "status": "completed"
    },
    "tags": []
   },
   "outputs": [
    {
     "name": "stdout",
     "output_type": "stream",
     "text": [
      "File 'TrainedModels/WithKFCV/KNN/ItemKNNCFRecommender/OptimizingMAP/history_ItemKNNCF_MAP.db' updated successfully.\n"
     ]
    }
   ],
   "source": [
    "if config['save_github'] and config['tune_parameters']:\n",
    "    upload_file(\n",
    "        config['database_path'], \n",
    "        f'{GH_PATH}/{config[\"model\"]}Recommender/Optimizing{config[\"metric\"]}/history_{config[\"model\"]}_{config[\"metric\"]}.db',\n",
    "        f'Tuning {config[\"model\"]}_{config[\"metric\"]} db updated results (from kaggle notebook)',\n",
    "        repo\n",
    "    )"
   ]
  },
  {
   "cell_type": "markdown",
   "id": "5a8e4984",
   "metadata": {
    "execution": {
     "iopub.execute_input": "2024-11-14T00:41:34.294243Z",
     "iopub.status.busy": "2024-11-14T00:41:34.293739Z",
     "iopub.status.idle": "2024-11-14T00:41:34.301478Z",
     "shell.execute_reply": "2024-11-14T00:41:34.299869Z",
     "shell.execute_reply.started": "2024-11-14T00:41:34.294186Z"
    },
    "papermill": {
     "duration": 0.117806,
     "end_time": "2025-01-05T05:01:29.124938",
     "exception": false,
     "start_time": "2025-01-05T05:01:29.007132",
     "status": "completed"
    },
    "tags": []
   },
   "source": [
    "Save the best trained model and its submission."
   ]
  },
  {
   "cell_type": "code",
   "execution_count": 20,
   "id": "1097ff39",
   "metadata": {
    "execution": {
     "iopub.execute_input": "2025-01-05T05:01:29.352236Z",
     "iopub.status.busy": "2025-01-05T05:01:29.351759Z",
     "iopub.status.idle": "2025-01-05T05:01:31.842309Z",
     "shell.execute_reply": "2025-01-05T05:01:31.841316Z"
    },
    "papermill": {
     "duration": 2.6028,
     "end_time": "2025-01-05T05:01:31.844076",
     "exception": false,
     "start_time": "2025-01-05T05:01:29.241276",
     "status": "completed"
    },
    "tags": []
   },
   "outputs": [
    {
     "name": "stdout",
     "output_type": "stream",
     "text": [
      "File 'TrainedModels/WithKFCV/KNN/ItemKNNCFRecommender/OptimizingMAP/Submission/submission_ItemKNNCF_MAP.csv' updated successfully.\n"
     ]
    }
   ],
   "source": [
    "if config['save_github'] and config['tune_best_params']: \n",
    "    upload_file(\n",
    "                f'/kaggle/working/submission_{config[\"model\"]}_{config[\"metric\"]}.csv', \n",
    "                f'{GH_PATH}/{config[\"model\"]}Recommender/Optimizing{config[\"metric\"]}/Submission/submission_{config[\"model\"]}_{config[\"metric\"]}.csv', \n",
    "                f'New {config[\"model\"]}_{config[\"metric\"]} submission (from kaggle notebook)',\n",
    "                repo\n",
    "            )"
   ]
  }
 ],
 "metadata": {
  "kaggle": {
   "accelerator": "none",
   "dataSources": [
    {
     "databundleVersionId": 9982103,
     "sourceId": 87439,
     "sourceType": "competition"
    }
   ],
   "dockerImageVersionId": 30822,
   "isGpuEnabled": false,
   "isInternetEnabled": true,
   "language": "python",
   "sourceType": "notebook"
  },
  "kernelspec": {
   "display_name": "Python 3",
   "language": "python",
   "name": "python3"
  },
  "language_info": {
   "codemirror_mode": {
    "name": "ipython",
    "version": 3
   },
   "file_extension": ".py",
   "mimetype": "text/x-python",
   "name": "python",
   "nbconvert_exporter": "python",
   "pygments_lexer": "ipython3",
   "version": "3.10.12"
  },
  "papermill": {
   "default_parameters": {},
   "duration": 23643.005915,
   "end_time": "2025-01-05T05:01:33.528941",
   "environment_variables": {},
   "exception": null,
   "input_path": "__notebook__.ipynb",
   "output_path": "__notebook__.ipynb",
   "parameters": {},
   "start_time": "2025-01-04T22:27:30.523026",
   "version": "2.6.0"
  }
 },
 "nbformat": 4,
 "nbformat_minor": 5
}
