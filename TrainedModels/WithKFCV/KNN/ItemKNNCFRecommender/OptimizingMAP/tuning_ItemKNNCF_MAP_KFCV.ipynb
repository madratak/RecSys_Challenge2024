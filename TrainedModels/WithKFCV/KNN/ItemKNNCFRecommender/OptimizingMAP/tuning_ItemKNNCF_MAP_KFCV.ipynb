{
 "cells": [
  {
   "cell_type": "markdown",
   "id": "a4e4ba68",
   "metadata": {
    "papermill": {
     "duration": 0.006216,
     "end_time": "2025-01-05T10:38:01.502273",
     "exception": false,
     "start_time": "2025-01-05T10:38:01.496057",
     "status": "completed"
    },
    "tags": []
   },
   "source": [
    "# Set connection with GitHub"
   ]
  },
  {
   "cell_type": "code",
   "execution_count": 1,
   "id": "426a117d",
   "metadata": {
    "execution": {
     "iopub.execute_input": "2025-01-05T10:38:01.514682Z",
     "iopub.status.busy": "2025-01-05T10:38:01.514288Z",
     "iopub.status.idle": "2025-01-05T10:38:01.520902Z",
     "shell.execute_reply": "2025-01-05T10:38:01.519789Z"
    },
    "papermill": {
     "duration": 0.015076,
     "end_time": "2025-01-05T10:38:01.522908",
     "exception": false,
     "start_time": "2025-01-05T10:38:01.507832",
     "status": "completed"
    },
    "tags": []
   },
   "outputs": [],
   "source": [
    "# ! cd /kaggle/working && rm -rf RECsys_Challenge2024"
   ]
  },
  {
   "cell_type": "code",
   "execution_count": 2,
   "id": "2c233ee2",
   "metadata": {
    "_cell_guid": "b1076dfc-b9ad-4769-8c92-a6c4dae69d19",
    "_uuid": "8f2839f25d086af736a60e9eeb907d3b93b6e0e5",
    "execution": {
     "iopub.execute_input": "2025-01-05T10:38:01.534855Z",
     "iopub.status.busy": "2025-01-05T10:38:01.534500Z",
     "iopub.status.idle": "2025-01-05T10:38:23.830527Z",
     "shell.execute_reply": "2025-01-05T10:38:23.829382Z"
    },
    "papermill": {
     "duration": 22.304659,
     "end_time": "2025-01-05T10:38:23.833019",
     "exception": false,
     "start_time": "2025-01-05T10:38:01.528360",
     "status": "completed"
    },
    "tags": []
   },
   "outputs": [
    {
     "name": "stdout",
     "output_type": "stream",
     "text": [
      "Cloning into 'RECsys_Challenge2024'...\r\n",
      "remote: Enumerating objects: 6179, done.\u001b[K\r\n",
      "remote: Counting objects: 100% (90/90), done.\u001b[K\r\n",
      "remote: Compressing objects: 100% (72/72), done.\u001b[K\r\n",
      "remote: Total 6179 (delta 27), reused 19 (delta 7), pack-reused 6089 (from 4)\u001b[K\r\n",
      "Receiving objects: 100% (6179/6179), 398.57 MiB | 22.98 MiB/s, done.\r\n",
      "Resolving deltas: 100% (3407/3407), done.\r\n",
      "Updating files: 100% (486/486), done.\r\n"
     ]
    }
   ],
   "source": [
    "from kaggle_secrets import UserSecretsClient\n",
    "\n",
    "token = UserSecretsClient().get_secret(\"Token\")\n",
    "\n",
    "! git clone https://{token}@github.com/madratak/RECsys_Challenge2024.git"
   ]
  },
  {
   "cell_type": "code",
   "execution_count": 3,
   "id": "768d2fa5",
   "metadata": {
    "execution": {
     "iopub.execute_input": "2025-01-05T10:38:23.855658Z",
     "iopub.status.busy": "2025-01-05T10:38:23.855271Z",
     "iopub.status.idle": "2025-01-05T10:38:31.333206Z",
     "shell.execute_reply": "2025-01-05T10:38:31.331591Z"
    },
    "papermill": {
     "duration": 7.491447,
     "end_time": "2025-01-05T10:38:31.335306",
     "exception": false,
     "start_time": "2025-01-05T10:38:23.843859",
     "status": "completed"
    },
    "tags": []
   },
   "outputs": [
    {
     "name": "stdout",
     "output_type": "stream",
     "text": [
      "Collecting PyGithub\r\n",
      "  Downloading PyGithub-2.5.0-py3-none-any.whl.metadata (3.9 kB)\r\n",
      "Requirement already satisfied: requests in /usr/local/lib/python3.10/dist-packages (2.32.3)\r\n",
      "Collecting pynacl>=1.4.0 (from PyGithub)\r\n",
      "  Downloading PyNaCl-1.5.0-cp36-abi3-manylinux_2_17_x86_64.manylinux2014_x86_64.manylinux_2_24_x86_64.whl.metadata (8.6 kB)\r\n",
      "Requirement already satisfied: pyjwt>=2.4.0 in /usr/local/lib/python3.10/dist-packages (from pyjwt[crypto]>=2.4.0->PyGithub) (2.9.0)\r\n",
      "Requirement already satisfied: typing-extensions>=4.0.0 in /usr/local/lib/python3.10/dist-packages (from PyGithub) (4.12.2)\r\n",
      "Requirement already satisfied: urllib3>=1.26.0 in /usr/local/lib/python3.10/dist-packages (from PyGithub) (2.2.3)\r\n",
      "Requirement already satisfied: Deprecated in /usr/local/lib/python3.10/dist-packages (from PyGithub) (1.2.15)\r\n",
      "Requirement already satisfied: charset-normalizer<4,>=2 in /usr/local/lib/python3.10/dist-packages (from requests) (3.3.2)\r\n",
      "Requirement already satisfied: idna<4,>=2.5 in /usr/local/lib/python3.10/dist-packages (from requests) (3.10)\r\n",
      "Requirement already satisfied: certifi>=2017.4.17 in /usr/local/lib/python3.10/dist-packages (from requests) (2024.8.30)\r\n",
      "Requirement already satisfied: cryptography>=3.4.0 in /usr/local/lib/python3.10/dist-packages (from pyjwt[crypto]>=2.4.0->PyGithub) (43.0.1)\r\n",
      "Requirement already satisfied: cffi>=1.4.1 in /usr/local/lib/python3.10/dist-packages (from pynacl>=1.4.0->PyGithub) (1.17.1)\r\n",
      "Requirement already satisfied: wrapt<2,>=1.10 in /usr/local/lib/python3.10/dist-packages (from Deprecated->PyGithub) (1.16.0)\r\n",
      "Requirement already satisfied: pycparser in /usr/local/lib/python3.10/dist-packages (from cffi>=1.4.1->pynacl>=1.4.0->PyGithub) (2.22)\r\n",
      "Downloading PyGithub-2.5.0-py3-none-any.whl (375 kB)\r\n",
      "\u001b[2K   \u001b[90m━━━━━━━━━━━━━━━━━━━━━━━━━━━━━━━━━━━━━━━━\u001b[0m \u001b[32m375.9/375.9 kB\u001b[0m \u001b[31m6.5 MB/s\u001b[0m eta \u001b[36m0:00:00\u001b[0m\r\n",
      "\u001b[?25hDownloading PyNaCl-1.5.0-cp36-abi3-manylinux_2_17_x86_64.manylinux2014_x86_64.manylinux_2_24_x86_64.whl (856 kB)\r\n",
      "\u001b[2K   \u001b[90m━━━━━━━━━━━━━━━━━━━━━━━━━━━━━━━━━━━━━━━━\u001b[0m \u001b[32m856.7/856.7 kB\u001b[0m \u001b[31m21.1 MB/s\u001b[0m eta \u001b[36m0:00:00\u001b[0m\r\n",
      "\u001b[?25hInstalling collected packages: pynacl, PyGithub\r\n",
      "Successfully installed PyGithub-2.5.0 pynacl-1.5.0\r\n"
     ]
    }
   ],
   "source": [
    "! pip install PyGithub requests"
   ]
  },
  {
   "cell_type": "code",
   "execution_count": 4,
   "id": "304cdb40",
   "metadata": {
    "_kg_hide-input": false,
    "execution": {
     "iopub.execute_input": "2025-01-05T10:38:31.359318Z",
     "iopub.status.busy": "2025-01-05T10:38:31.358916Z",
     "iopub.status.idle": "2025-01-05T10:41:15.703940Z",
     "shell.execute_reply": "2025-01-05T10:41:15.702485Z"
    },
    "papermill": {
     "duration": 164.359254,
     "end_time": "2025-01-05T10:41:15.706032",
     "exception": false,
     "start_time": "2025-01-05T10:38:31.346778",
     "status": "completed"
    },
    "tags": []
   },
   "outputs": [
    {
     "name": "stdout",
     "output_type": "stream",
     "text": [
      "/kaggle/working/RECsys_Challenge2024\n",
      "run_compile_all_cython: Found 11 Cython files in 5 folders...\r\n",
      "run_compile_all_cython: All files will be compiled using your current python environment: '/usr/bin/python3'\r\n",
      "Compiling [1/11]: MatrixFactorizationImpressions_Cython_Epoch.pyx... \r\n",
      "In file included from \u001b[01m\u001b[K/usr/local/lib/python3.10/dist-packages/numpy/core/include/numpy/ndarraytypes.h:1929\u001b[m\u001b[K,\r\n",
      "                 from \u001b[01m\u001b[K/usr/local/lib/python3.10/dist-packages/numpy/core/include/numpy/ndarrayobject.h:12\u001b[m\u001b[K,\r\n",
      "                 from \u001b[01m\u001b[K/usr/local/lib/python3.10/dist-packages/numpy/core/include/numpy/arrayobject.h:5\u001b[m\u001b[K,\r\n",
      "                 from \u001b[01m\u001b[KMatrixFactorizationImpressions_Cython_Epoch.c:1252\u001b[m\u001b[K:\r\n",
      "\u001b[01m\u001b[K/usr/local/lib/python3.10/dist-packages/numpy/core/include/numpy/npy_1_7_deprecated_api.h:17:2:\u001b[m\u001b[K \u001b[01;35m\u001b[Kwarning: \u001b[m\u001b[K#warning \"Using deprecated NumPy API, disable it with \" \"#define NPY_NO_DEPRECATED_API NPY_1_7_API_VERSION\" [\u001b[01;35m\u001b[K\u001b]8;;https://gcc.gnu.org/onlinedocs/gcc/Warning-Options.html#index-Wcpp\u0007-Wcpp\u001b]8;;\u0007\u001b[m\u001b[K]\r\n",
      "   17 | #\u001b[01;35m\u001b[Kwarning\u001b[m\u001b[K \"Using deprecated NumPy API, disable it with \" \\\r\n",
      "      |  \u001b[01;35m\u001b[K^~~~~~~\u001b[m\u001b[K\r\n",
      "\u001b[01m\u001b[KMatrixFactorizationImpressions_Cython_Epoch.c:\u001b[m\u001b[K In function ‘\u001b[01m\u001b[K__pyx_f_43MatrixFactorizationImpressions_Cython_Epoch_32MatrixFactorization_Cython_Epoch_sampleBPR_Cython\u001b[m\u001b[K’:\r\n",
      "\u001b[01m\u001b[KMatrixFactorizationImpressions_Cython_Epoch.c:30353:17:\u001b[m\u001b[K \u001b[01;35m\u001b[Kwarning: \u001b[m\u001b[K‘\u001b[01m\u001b[K__pyx_v_start_pos_impression_items\u001b[m\u001b[K’ may be used uninitialized in this function [\u001b[01;35m\u001b[K\u001b]8;;https://gcc.gnu.org/onlinedocs/gcc/Warning-Options.html#index-Wmaybe-uninitialized\u0007-Wmaybe-uninitialized\u001b]8;;\u0007\u001b[m\u001b[K]\r\n",
      "30353 |       \u001b[01;35m\u001b[K__pyx_t_4 = (__pyx_v_start_pos_impression_items + __pyx_v_index)\u001b[m\u001b[K;\r\n",
      "      |       \u001b[01;35m\u001b[K~~~~~~~~~~^~~~~~~~~~~~~~~~~~~~~~~~~~~~~~~~~~~~~~~~~~~~~~~~~~~~~~\u001b[m\u001b[K\r\n",
      "\u001b[01m\u001b[KMatrixFactorizationImpressions_Cython_Epoch.c:\u001b[m\u001b[K In function ‘\u001b[01m\u001b[K__pyx_pf_43MatrixFactorizationImpressions_Cython_Epoch_32MatrixFactorization_Cython_Epoch_10epochIteration_Cython_ASY_SVD_SGD\u001b[m\u001b[K’:\r\n",
      "\u001b[01m\u001b[KMatrixFactorizationImpressions_Cython_Epoch.c:26112:66:\u001b[m\u001b[K \u001b[01;35m\u001b[Kwarning: \u001b[m\u001b[K‘\u001b[01m\u001b[K__pyx_v_end_pos_seen_items\u001b[m\u001b[K’ may be used uninitialized in this function [\u001b[01;35m\u001b[K\u001b]8;;https://gcc.gnu.org/onlinedocs/gcc/Warning-Options.html#index-Wmaybe-uninitialized\u0007-Wmaybe-uninitialized\u001b]8;;\u0007\u001b[m\u001b[K]\r\n",
      "26112 |       for (__pyx_t_22 = __pyx_v_start_pos_seen_items; \u001b[01;35m\u001b[K__pyx_t_22 < __pyx_t_21\u001b[m\u001b[K; __pyx_t_22+=1) {\r\n",
      "      |                                                       \u001b[01;35m\u001b[K~~~~~~~~~~~^~~~~~~~~~~~\u001b[m\u001b[K\r\n",
      "\u001b[01m\u001b[KMatrixFactorizationImpressions_Cython_Epoch.c:26112:66:\u001b[m\u001b[K \u001b[01;35m\u001b[Kwarning: \u001b[m\u001b[K‘\u001b[01m\u001b[K__pyx_v_start_pos_seen_items\u001b[m\u001b[K’ may be used uninitialized in this function [\u001b[01;35m\u001b[K\u001b]8;;https://gcc.gnu.org/onlinedocs/gcc/Warning-Options.html#index-Wmaybe-uninitialized\u0007-Wmaybe-uninitialized\u001b]8;;\u0007\u001b[m\u001b[K]\r\n",
      "/usr/local/lib/python3.10/dist-packages/Cython/Compiler/Main.py:381: FutureWarning: Cython directive 'language_level' not set, using '3str' for now (Py3). This has changed from earlier releases! File: /kaggle/working/RECsys_Challenge2024/Recommenders/MatrixFactorization/Cython/MatrixFactorizationImpressions_Cython_Epoch.pyx\r\n",
      "  tree = Parsing.p_module(s, pxd, full_module_name)\r\n",
      "Compiling [1/11]: MatrixFactorizationImpressions_Cython_Epoch.pyx... PASS\r\n",
      "\r\n",
      "Compiling [2/11]: MatrixFactorization_Cython_Epoch.pyx... \r\n",
      "In file included from \u001b[01m\u001b[K/usr/local/lib/python3.10/dist-packages/numpy/core/include/numpy/ndarraytypes.h:1929\u001b[m\u001b[K,\r\n",
      "                 from \u001b[01m\u001b[K/usr/local/lib/python3.10/dist-packages/numpy/core/include/numpy/ndarrayobject.h:12\u001b[m\u001b[K,\r\n",
      "                 from \u001b[01m\u001b[K/usr/local/lib/python3.10/dist-packages/numpy/core/include/numpy/arrayobject.h:5\u001b[m\u001b[K,\r\n",
      "                 from \u001b[01m\u001b[KMatrixFactorization_Cython_Epoch.c:1252\u001b[m\u001b[K:\r\n",
      "\u001b[01m\u001b[K/usr/local/lib/python3.10/dist-packages/numpy/core/include/numpy/npy_1_7_deprecated_api.h:17:2:\u001b[m\u001b[K \u001b[01;35m\u001b[Kwarning: \u001b[m\u001b[K#warning \"Using deprecated NumPy API, disable it with \" \"#define NPY_NO_DEPRECATED_API NPY_1_7_API_VERSION\" [\u001b[01;35m\u001b[K\u001b]8;;https://gcc.gnu.org/onlinedocs/gcc/Warning-Options.html#index-Wcpp\u0007-Wcpp\u001b]8;;\u0007\u001b[m\u001b[K]\r\n",
      "   17 | #\u001b[01;35m\u001b[Kwarning\u001b[m\u001b[K \"Using deprecated NumPy API, disable it with \" \\\r\n",
      "      |  \u001b[01;35m\u001b[K^~~~~~~\u001b[m\u001b[K\r\n",
      "\u001b[01m\u001b[KMatrixFactorization_Cython_Epoch.c:\u001b[m\u001b[K In function ‘\u001b[01m\u001b[K__pyx_pf_32MatrixFactorization_Cython_Epoch_32MatrixFactorization_Cython_Epoch_10epochIteration_Cython_ASY_SVD_SGD\u001b[m\u001b[K’:\r\n",
      "\u001b[01m\u001b[KMatrixFactorization_Cython_Epoch.c:26256:68:\u001b[m\u001b[K \u001b[01;35m\u001b[Kwarning: \u001b[m\u001b[K‘\u001b[01m\u001b[K__pyx_v_end_pos_seen_items\u001b[m\u001b[K’ may be used uninitialized in this function [\u001b[01;35m\u001b[K\u001b]8;;https://gcc.gnu.org/onlinedocs/gcc/Warning-Options.html#index-Wmaybe-uninitialized\u0007-Wmaybe-uninitialized\u001b]8;;\u0007\u001b[m\u001b[K]\r\n",
      "26256 |         for (__pyx_t_22 = __pyx_v_start_pos_seen_items; \u001b[01;35m\u001b[K__pyx_t_22 < __pyx_t_21\u001b[m\u001b[K; __pyx_t_22+=1) {\r\n",
      "      |                                                         \u001b[01;35m\u001b[K~~~~~~~~~~~^~~~~~~~~~~~\u001b[m\u001b[K\r\n",
      "\u001b[01m\u001b[KMatrixFactorization_Cython_Epoch.c:26256:68:\u001b[m\u001b[K \u001b[01;35m\u001b[Kwarning: \u001b[m\u001b[K‘\u001b[01m\u001b[K__pyx_v_start_pos_seen_items\u001b[m\u001b[K’ may be used uninitialized in this function [\u001b[01;35m\u001b[K\u001b]8;;https://gcc.gnu.org/onlinedocs/gcc/Warning-Options.html#index-Wmaybe-uninitialized\u0007-Wmaybe-uninitialized\u001b]8;;\u0007\u001b[m\u001b[K]\r\n",
      "/usr/local/lib/python3.10/dist-packages/Cython/Compiler/Main.py:381: FutureWarning: Cython directive 'language_level' not set, using '3str' for now (Py3). This has changed from earlier releases! File: /kaggle/working/RECsys_Challenge2024/Recommenders/MatrixFactorization/Cython/MatrixFactorization_Cython_Epoch.pyx\r\n",
      "  tree = Parsing.p_module(s, pxd, full_module_name)\r\n",
      "Compiling [2/11]: MatrixFactorization_Cython_Epoch.pyx... PASS\r\n",
      "\r\n",
      "Compiling [3/11]: Compute_Similarity_Cython.pyx... \r\n",
      "warning: Compute_Similarity_Cython.pyx:21:0: The 'IF' statement is deprecated and will be removed in a future Cython version. Consider using runtime conditions or C macros instead. See https://github.com/cython/cython/issues/4310\r\n",
      "In file included from \u001b[01m\u001b[K/usr/local/lib/python3.10/dist-packages/numpy/core/include/numpy/ndarraytypes.h:1929\u001b[m\u001b[K,\r\n",
      "                 from \u001b[01m\u001b[K/usr/local/lib/python3.10/dist-packages/numpy/core/include/numpy/ndarrayobject.h:12\u001b[m\u001b[K,\r\n",
      "                 from \u001b[01m\u001b[K/usr/local/lib/python3.10/dist-packages/numpy/core/include/numpy/arrayobject.h:5\u001b[m\u001b[K,\r\n",
      "                 from \u001b[01m\u001b[KCompute_Similarity_Cython.c:1252\u001b[m\u001b[K:\r\n",
      "\u001b[01m\u001b[K/usr/local/lib/python3.10/dist-packages/numpy/core/include/numpy/npy_1_7_deprecated_api.h:17:2:\u001b[m\u001b[K \u001b[01;35m\u001b[Kwarning: \u001b[m\u001b[K#warning \"Using deprecated NumPy API, disable it with \" \"#define NPY_NO_DEPRECATED_API NPY_1_7_API_VERSION\" [\u001b[01;35m\u001b[K\u001b]8;;https://gcc.gnu.org/onlinedocs/gcc/Warning-Options.html#index-Wcpp\u0007-Wcpp\u001b]8;;\u0007\u001b[m\u001b[K]\r\n",
      "   17 | #\u001b[01;35m\u001b[Kwarning\u001b[m\u001b[K \"Using deprecated NumPy API, disable it with \" \\\r\n",
      "      |  \u001b[01;35m\u001b[K^~~~~~~\u001b[m\u001b[K\r\n",
      "/usr/local/lib/python3.10/dist-packages/Cython/Compiler/Main.py:381: FutureWarning: Cython directive 'language_level' not set, using '3str' for now (Py3). This has changed from earlier releases! File: /kaggle/working/RECsys_Challenge2024/Recommenders/Similarity/Cython/Compute_Similarity_Cython.pyx\r\n",
      "  tree = Parsing.p_module(s, pxd, full_module_name)\r\n",
      "warning: Compute_Similarity_Cython.pyx:21:0: The 'IF' statement is deprecated and will be removed in a future Cython version. Consider using runtime conditions or C macros instead. See https://github.com/cython/cython/issues/4310\r\n",
      "Compiling [3/11]: Compute_Similarity_Cython.pyx... PASS\r\n",
      "\r\n",
      "Compiling [4/11]: Sparse_Matrix_Tree_CSR.pyx... \r\n",
      "warning: Sparse_Matrix_Tree_CSR.pyx:132:34: Non-trivial type declarators in shared declaration (e.g. mix of pointers and values). Each pointer declaration should be on its own line.\r\n",
      "warning: Sparse_Matrix_Tree_CSR.pyx:132:66: Non-trivial type declarators in shared declaration (e.g. mix of pointers and values). Each pointer declaration should be on its own line.\r\n",
      "warning: Sparse_Matrix_Tree_CSR.pyx:343:35: Non-trivial type declarators in shared declaration (e.g. mix of pointers and values). Each pointer declaration should be on its own line.\r\n",
      "warning: Sparse_Matrix_Tree_CSR.pyx:343:52: Non-trivial type declarators in shared declaration (e.g. mix of pointers and values). Each pointer declaration should be on its own line.\r\n",
      "warning: Sparse_Matrix_Tree_CSR.pyx:442:35: Non-trivial type declarators in shared declaration (e.g. mix of pointers and values). Each pointer declaration should be on its own line.\r\n",
      "warning: Sparse_Matrix_Tree_CSR.pyx:442:53: Non-trivial type declarators in shared declaration (e.g. mix of pointers and values). Each pointer declaration should be on its own line.\r\n",
      "warning: Sparse_Matrix_Tree_CSR.pyx:442:69: Non-trivial type declarators in shared declaration (e.g. mix of pointers and values). Each pointer declaration should be on its own line.\r\n",
      "warning: Sparse_Matrix_Tree_CSR.pyx:577:35: Non-trivial type declarators in shared declaration (e.g. mix of pointers and values). Each pointer declaration should be on its own line.\r\n",
      "warning: Sparse_Matrix_Tree_CSR.pyx:577:42: Non-trivial type declarators in shared declaration (e.g. mix of pointers and values). Each pointer declaration should be on its own line.\r\n",
      "warning: Sparse_Matrix_Tree_CSR.pyx:578:35: Non-trivial type declarators in shared declaration (e.g. mix of pointers and values). Each pointer declaration should be on its own line.\r\n",
      "warning: Sparse_Matrix_Tree_CSR.pyx:578:53: Non-trivial type declarators in shared declaration (e.g. mix of pointers and values). Each pointer declaration should be on its own line.\r\n",
      "\r\n",
      "Error compiling Cython file:\r\n",
      "------------------------------------------------------------\r\n",
      "...\r\n",
      "            vector_pointer_to_list_elements[index].head = current_element\r\n",
      "            current_element = current_element.higher\r\n",
      "\r\n",
      "\r\n",
      "        # Sort array elements on their data field\r\n",
      "        qsort(vector_pointer_to_list_elements, list_length, sizeof(head_pointer_tree_s), compare_struct_on_data)\r\n",
      "                                                                                         ^\r\n",
      "------------------------------------------------------------\r\n",
      "\r\n",
      "Sparse_Matrix_Tree_CSR.pyx:516:89: Cannot assign type 'int (const void *, const void *) except? -1' to 'int (*)(const_void *, const_void *) noexcept'. Exception values are incompatible. Suggest adding 'noexcept' to the type of 'compare_struct_on_data'.\r\n",
      "\r\n",
      "Error compiling Cython file:\r\n",
      "------------------------------------------------------------\r\n",
      "...\r\n",
      "        # Sort array elements on their data field\r\n",
      "        qsort(vector_pointer_to_list_elements, list_length, sizeof(head_pointer_tree_s), compare_struct_on_data)\r\n",
      "\r\n",
      "        # Sort only the TopK according to their column field\r\n",
      "        # Sort is from lower to higher, therefore the elements to be considered are from len-topK to len\r\n",
      "        qsort(&vector_pointer_to_list_elements[list_length-TopK], TopK, sizeof(head_pointer_tree_s), compare_struct_on_column)\r\n",
      "                                                                                                     ^\r\n",
      "------------------------------------------------------------\r\n",
      "\r\n",
      "Sparse_Matrix_Tree_CSR.pyx:520:101: Cannot assign type 'int (const void *, const void *) except? -1' to 'int (*)(const_void *, const_void *) noexcept'. Exception values are incompatible. Suggest adding 'noexcept' to the type of 'compare_struct_on_column'.\r\n",
      "Traceback (most recent call last):\r\n",
      "  File \"/kaggle/working/RECsys_Challenge2024/CythonCompiler/compile_script.py\", line 48, in <module>\r\n",
      "    setup(\r\n",
      "  File \"/usr/local/lib/python3.10/dist-packages/setuptools/__init__.py\", line 108, in setup\r\n",
      "    return distutils.core.setup(**attrs)\r\n",
      "  File \"/usr/local/lib/python3.10/dist-packages/setuptools/_distutils/core.py\", line 184, in setup\r\n",
      "    return run_commands(dist)\r\n",
      "  File \"/usr/local/lib/python3.10/dist-packages/setuptools/_distutils/core.py\", line 200, in run_commands\r\n",
      "    dist.run_commands()\r\n",
      "  File \"/usr/local/lib/python3.10/dist-packages/setuptools/_distutils/dist.py\", line 970, in run_commands\r\n",
      "    self.run_command(cmd)\r\n",
      "  File \"/usr/local/lib/python3.10/dist-packages/setuptools/dist.py\", line 956, in run_command\r\n",
      "    super().run_command(command)\r\n",
      "  File \"/usr/local/lib/python3.10/dist-packages/setuptools/_distutils/dist.py\", line 989, in run_command\r\n",
      "    cmd_obj.run()\r\n",
      "  File \"/usr/local/lib/python3.10/dist-packages/setuptools/_distutils/command/build_ext.py\", line 359, in run\r\n",
      "    self.build_extensions()\r\n",
      "  File \"/usr/local/lib/python3.10/dist-packages/setuptools/_distutils/command/build_ext.py\", line 479, in build_extensions\r\n",
      "    self._build_extensions_serial()\r\n",
      "  File \"/usr/local/lib/python3.10/dist-packages/setuptools/_distutils/command/build_ext.py\", line 505, in _build_extensions_serial\r\n",
      "    self.build_extension(ext)\r\n",
      "  File \"/usr/local/lib/python3.10/dist-packages/Cython/Distutils/build_ext.py\", line 130, in build_extension\r\n",
      "    new_ext = cythonize(\r\n",
      "  File \"/usr/local/lib/python3.10/dist-packages/Cython/Build/Dependencies.py\", line 1154, in cythonize\r\n",
      "    cythonize_one(*args)\r\n",
      "  File \"/usr/local/lib/python3.10/dist-packages/Cython/Build/Dependencies.py\", line 1321, in cythonize_one\r\n",
      "    raise CompileError(None, pyx_file)\r\n",
      "Cython.Compiler.Errors.CompileError: Sparse_Matrix_Tree_CSR.pyx\r\n",
      "Traceback (most recent call last):\r\n",
      "  File \"/kaggle/working/RECsys_Challenge2024/run_compile_all_cython.py\", line 60, in <module>\r\n",
      "    run_compile_subprocess(file_path, [file_name])\r\n",
      "  File \"/kaggle/working/RECsys_Challenge2024/CythonCompiler/run_compile_subprocess.py\", line 51, in run_compile_subprocess\r\n",
      "    raise exc\r\n",
      "  File \"/kaggle/working/RECsys_Challenge2024/CythonCompiler/run_compile_subprocess.py\", line 32, in run_compile_subprocess\r\n",
      "    output = subprocess.check_output(' '.join(command),\r\n",
      "  File \"/usr/lib/python3.10/subprocess.py\", line 421, in check_output\r\n",
      "    return run(*popenargs, stdout=PIPE, timeout=timeout, check=True,\r\n",
      "  File \"/usr/lib/python3.10/subprocess.py\", line 526, in run\r\n",
      "    raise CalledProcessError(retcode, process.args,\r\n",
      "subprocess.CalledProcessError: Command '/usr/bin/python3 /kaggle/working/RECsys_Challenge2024/CythonCompiler/compile_script.py Sparse_Matrix_Tree_CSR.pyx build_ext --inplace' returned non-zero exit status 1.\r\n",
      "Compiling [4/11]: Sparse_Matrix_Tree_CSR.pyx... FAIL: Command '/usr/bin/python3 /kaggle/working/RECsys_Challenge2024/CythonCompiler/compile_script.py Sparse_Matrix_Tree_CSR.pyx build_ext --inplace' returned non-zero exit status 1.\r\n",
      "\r\n",
      "Compiling [5/11]: SLIM_BPR_Cython_Epoch.pyx... \r\n",
      "warning: SLIM_BPR_Cython_Epoch.pyx:24:0: The 'IF' statement is deprecated and will be removed in a future Cython version. Consider using runtime conditions or C macros instead. See https://github.com/cython/cython/issues/4310\r\n",
      "warning: SLIM_BPR_Cython_Epoch.pyx:632:34: Non-trivial type declarators in shared declaration (e.g. mix of pointers and values). Each pointer declaration should be on its own line.\r\n",
      "warning: SLIM_BPR_Cython_Epoch.pyx:632:66: Non-trivial type declarators in shared declaration (e.g. mix of pointers and values). Each pointer declaration should be on its own line.\r\n",
      "warning: SLIM_BPR_Cython_Epoch.pyx:817:35: Non-trivial type declarators in shared declaration (e.g. mix of pointers and values). Each pointer declaration should be on its own line.\r\n",
      "warning: SLIM_BPR_Cython_Epoch.pyx:817:52: Non-trivial type declarators in shared declaration (e.g. mix of pointers and values). Each pointer declaration should be on its own line.\r\n",
      "warning: SLIM_BPR_Cython_Epoch.pyx:916:35: Non-trivial type declarators in shared declaration (e.g. mix of pointers and values). Each pointer declaration should be on its own line.\r\n",
      "warning: SLIM_BPR_Cython_Epoch.pyx:916:53: Non-trivial type declarators in shared declaration (e.g. mix of pointers and values). Each pointer declaration should be on its own line.\r\n",
      "warning: SLIM_BPR_Cython_Epoch.pyx:916:69: Non-trivial type declarators in shared declaration (e.g. mix of pointers and values). Each pointer declaration should be on its own line.\r\n",
      "warning: SLIM_BPR_Cython_Epoch.pyx:1051:35: Non-trivial type declarators in shared declaration (e.g. mix of pointers and values). Each pointer declaration should be on its own line.\r\n",
      "warning: SLIM_BPR_Cython_Epoch.pyx:1051:42: Non-trivial type declarators in shared declaration (e.g. mix of pointers and values). Each pointer declaration should be on its own line.\r\n",
      "warning: SLIM_BPR_Cython_Epoch.pyx:1052:35: Non-trivial type declarators in shared declaration (e.g. mix of pointers and values). Each pointer declaration should be on its own line.\r\n",
      "warning: SLIM_BPR_Cython_Epoch.pyx:1052:53: Non-trivial type declarators in shared declaration (e.g. mix of pointers and values). Each pointer declaration should be on its own line.\r\n",
      "\r\n",
      "Error compiling Cython file:\r\n",
      "------------------------------------------------------------\r\n",
      "...\r\n",
      "            vector_pointer_to_list_elements[index].head = current_element\r\n",
      "            current_element = current_element.higher\r\n",
      "\r\n",
      "\r\n",
      "        # Sort array elements on their data field\r\n",
      "        qsort(vector_pointer_to_list_elements, list_length, sizeof(head_pointer_tree_s), compare_struct_on_data)\r\n",
      "                                                                                         ^\r\n",
      "------------------------------------------------------------\r\n",
      "\r\n",
      "SLIM_BPR_Cython_Epoch.pyx:990:89: Cannot assign type 'int (const void *, const void *) except? -1' to 'int (*)(const_void *, const_void *) noexcept'. Exception values are incompatible. Suggest adding 'noexcept' to the type of 'compare_struct_on_data'.\r\n",
      "\r\n",
      "Error compiling Cython file:\r\n",
      "------------------------------------------------------------\r\n",
      "...\r\n",
      "        # Sort array elements on their data field\r\n",
      "        qsort(vector_pointer_to_list_elements, list_length, sizeof(head_pointer_tree_s), compare_struct_on_data)\r\n",
      "\r\n",
      "        # Sort only the TopK according to their column field\r\n",
      "        # Sort is from lower to higher, therefore the elements to be considered are from len-topK to len\r\n",
      "        qsort(&vector_pointer_to_list_elements[list_length-TopK], TopK, sizeof(head_pointer_tree_s), compare_struct_on_column)\r\n",
      "                                                                                                     ^\r\n",
      "------------------------------------------------------------\r\n",
      "\r\n",
      "SLIM_BPR_Cython_Epoch.pyx:994:101: Cannot assign type 'int (const void *, const void *) except? -1' to 'int (*)(const_void *, const_void *) noexcept'. Exception values are incompatible. Suggest adding 'noexcept' to the type of 'compare_struct_on_column'.\r\n",
      "Traceback (most recent call last):\r\n",
      "  File \"/kaggle/working/RECsys_Challenge2024/CythonCompiler/compile_script.py\", line 48, in <module>\r\n",
      "    setup(\r\n",
      "  File \"/usr/local/lib/python3.10/dist-packages/setuptools/__init__.py\", line 108, in setup\r\n",
      "    return distutils.core.setup(**attrs)\r\n",
      "  File \"/usr/local/lib/python3.10/dist-packages/setuptools/_distutils/core.py\", line 184, in setup\r\n",
      "    return run_commands(dist)\r\n",
      "  File \"/usr/local/lib/python3.10/dist-packages/setuptools/_distutils/core.py\", line 200, in run_commands\r\n",
      "    dist.run_commands()\r\n",
      "  File \"/usr/local/lib/python3.10/dist-packages/setuptools/_distutils/dist.py\", line 970, in run_commands\r\n",
      "    self.run_command(cmd)\r\n",
      "  File \"/usr/local/lib/python3.10/dist-packages/setuptools/dist.py\", line 956, in run_command\r\n",
      "    super().run_command(command)\r\n",
      "  File \"/usr/local/lib/python3.10/dist-packages/setuptools/_distutils/dist.py\", line 989, in run_command\r\n",
      "    cmd_obj.run()\r\n",
      "  File \"/usr/local/lib/python3.10/dist-packages/setuptools/_distutils/command/build_ext.py\", line 359, in run\r\n",
      "    self.build_extensions()\r\n",
      "  File \"/usr/local/lib/python3.10/dist-packages/setuptools/_distutils/command/build_ext.py\", line 479, in build_extensions\r\n",
      "    self._build_extensions_serial()\r\n",
      "  File \"/usr/local/lib/python3.10/dist-packages/setuptools/_distutils/command/build_ext.py\", line 505, in _build_extensions_serial\r\n",
      "    self.build_extension(ext)\r\n",
      "  File \"/usr/local/lib/python3.10/dist-packages/Cython/Distutils/build_ext.py\", line 130, in build_extension\r\n",
      "    new_ext = cythonize(\r\n",
      "  File \"/usr/local/lib/python3.10/dist-packages/Cython/Build/Dependencies.py\", line 1154, in cythonize\r\n",
      "    cythonize_one(*args)\r\n",
      "  File \"/usr/local/lib/python3.10/dist-packages/Cython/Build/Dependencies.py\", line 1321, in cythonize_one\r\n",
      "    raise CompileError(None, pyx_file)\r\n",
      "Cython.Compiler.Errors.CompileError: SLIM_BPR_Cython_Epoch.pyx\r\n",
      "Traceback (most recent call last):\r\n",
      "  File \"/kaggle/working/RECsys_Challenge2024/run_compile_all_cython.py\", line 60, in <module>\r\n",
      "    run_compile_subprocess(file_path, [file_name])\r\n",
      "  File \"/kaggle/working/RECsys_Challenge2024/CythonCompiler/run_compile_subprocess.py\", line 51, in run_compile_subprocess\r\n",
      "    raise exc\r\n",
      "  File \"/kaggle/working/RECsys_Challenge2024/CythonCompiler/run_compile_subprocess.py\", line 32, in run_compile_subprocess\r\n",
      "    output = subprocess.check_output(' '.join(command),\r\n",
      "  File \"/usr/lib/python3.10/subprocess.py\", line 421, in check_output\r\n",
      "    return run(*popenargs, stdout=PIPE, timeout=timeout, check=True,\r\n",
      "  File \"/usr/lib/python3.10/subprocess.py\", line 526, in run\r\n",
      "    raise CalledProcessError(retcode, process.args,\r\n",
      "subprocess.CalledProcessError: Command '/usr/bin/python3 /kaggle/working/RECsys_Challenge2024/CythonCompiler/compile_script.py SLIM_BPR_Cython_Epoch.pyx build_ext --inplace' returned non-zero exit status 1.\r\n",
      "Compiling [5/11]: SLIM_BPR_Cython_Epoch.pyx... FAIL: Command '/usr/bin/python3 /kaggle/working/RECsys_Challenge2024/CythonCompiler/compile_script.py SLIM_BPR_Cython_Epoch.pyx build_ext --inplace' returned non-zero exit status 1.\r\n",
      "\r\n",
      "Compiling [6/11]: Triangular_Matrix.pyx... \r\n",
      "warning: Triangular_Matrix.pyx:22:0: The 'IF' statement is deprecated and will be removed in a future Cython version. Consider using runtime conditions or C macros instead. See https://github.com/cython/cython/issues/4310\r\n",
      "In file included from \u001b[01m\u001b[K/usr/local/lib/python3.10/dist-packages/numpy/core/include/numpy/ndarraytypes.h:1929\u001b[m\u001b[K,\r\n",
      "                 from \u001b[01m\u001b[K/usr/local/lib/python3.10/dist-packages/numpy/core/include/numpy/ndarrayobject.h:12\u001b[m\u001b[K,\r\n",
      "                 from \u001b[01m\u001b[K/usr/local/lib/python3.10/dist-packages/numpy/core/include/numpy/arrayobject.h:5\u001b[m\u001b[K,\r\n",
      "                 from \u001b[01m\u001b[KTriangular_Matrix.c:1252\u001b[m\u001b[K:\r\n",
      "\u001b[01m\u001b[K/usr/local/lib/python3.10/dist-packages/numpy/core/include/numpy/npy_1_7_deprecated_api.h:17:2:\u001b[m\u001b[K \u001b[01;35m\u001b[Kwarning: \u001b[m\u001b[K#warning \"Using deprecated NumPy API, disable it with \" \"#define NPY_NO_DEPRECATED_API NPY_1_7_API_VERSION\" [\u001b[01;35m\u001b[K\u001b]8;;https://gcc.gnu.org/onlinedocs/gcc/Warning-Options.html#index-Wcpp\u0007-Wcpp\u001b]8;;\u0007\u001b[m\u001b[K]\r\n",
      "   17 | #\u001b[01;35m\u001b[Kwarning\u001b[m\u001b[K \"Using deprecated NumPy API, disable it with \" \\\r\n",
      "      |  \u001b[01;35m\u001b[K^~~~~~~\u001b[m\u001b[K\r\n",
      "In function ‘\u001b[01m\u001b[K__pyx_pf_17Triangular_Matrix_17Triangular_Matrix___init__\u001b[m\u001b[K’,\r\n",
      "    inlined from ‘\u001b[01m\u001b[K__pyx_pw_17Triangular_Matrix_17Triangular_Matrix_1__init__\u001b[m\u001b[K’ at \u001b[01m\u001b[KTriangular_Matrix.c:5541:13\u001b[m\u001b[K:\r\n",
      "\u001b[01m\u001b[KTriangular_Matrix.c:5599:43:\u001b[m\u001b[K \u001b[01;35m\u001b[Kwarning: \u001b[m\u001b[Kargument 1 value ‘\u001b[01m\u001b[K18446744073709551608\u001b[m\u001b[K’ exceeds maximum object size 9223372036854775807 [\u001b[01;35m\u001b[K\u001b]8;;https://gcc.gnu.org/onlinedocs/gcc/Warning-Options.html#index-Walloc-size-larger-than=\u0007-Walloc-size-larger-than=\u001b]8;;\u0007\u001b[m\u001b[K]\r\n",
      " 5599 |   __pyx_v_self->row_pointer = ((double **)\u001b[01;35m\u001b[Kmalloc((__pyx_v_self->num_rows * (sizeof(double *))))\u001b[m\u001b[K);\r\n",
      "      |                                           \u001b[01;35m\u001b[K^~~~~~~~~~~~~~~~~~~~~~~~~~~~~~~~~~~~~~~~~~~~~~~~~~~~~\u001b[m\u001b[K\r\n",
      "In file included from \u001b[01m\u001b[K/usr/include/python3.10/Python.h:34\u001b[m\u001b[K,\r\n",
      "                 from \u001b[01m\u001b[KTriangular_Matrix.c:41\u001b[m\u001b[K:\r\n",
      "\u001b[01m\u001b[KTriangular_Matrix.c:\u001b[m\u001b[K In function ‘\u001b[01m\u001b[K__pyx_pw_17Triangular_Matrix_17Triangular_Matrix_1__init__\u001b[m\u001b[K’:\r\n",
      "\u001b[01m\u001b[K/usr/include/stdlib.h:540:14:\u001b[m\u001b[K \u001b[01;36m\u001b[Knote: \u001b[m\u001b[Kin a call to allocation function ‘\u001b[01m\u001b[Kmalloc\u001b[m\u001b[K’ declared here\r\n",
      "  540 | extern void *\u001b[01;36m\u001b[Kmalloc\u001b[m\u001b[K (size_t __size) __THROW __attribute_malloc__\r\n",
      "      |              \u001b[01;36m\u001b[K^~~~~~\u001b[m\u001b[K\r\n",
      "/usr/local/lib/python3.10/dist-packages/Cython/Compiler/Main.py:381: FutureWarning: Cython directive 'language_level' not set, using '3str' for now (Py3). This has changed from earlier releases! File: /kaggle/working/RECsys_Challenge2024/Recommenders/SLIM/Cython/Triangular_Matrix.pyx\r\n",
      "  tree = Parsing.p_module(s, pxd, full_module_name)\r\n",
      "warning: Triangular_Matrix.pyx:22:0: The 'IF' statement is deprecated and will be removed in a future Cython version. Consider using runtime conditions or C macros instead. See https://github.com/cython/cython/issues/4310\r\n",
      "Compiling [6/11]: Triangular_Matrix.pyx... PASS\r\n",
      "\r\n",
      "Compiling [7/11]: CFW_D_Similarity_Cython_SGD.pyx... \r\n",
      "In file included from \u001b[01m\u001b[K/usr/local/lib/python3.10/dist-packages/numpy/core/include/numpy/ndarraytypes.h:1929\u001b[m\u001b[K,\r\n",
      "                 from \u001b[01m\u001b[K/usr/local/lib/python3.10/dist-packages/numpy/core/include/numpy/ndarrayobject.h:12\u001b[m\u001b[K,\r\n",
      "                 from \u001b[01m\u001b[K/usr/local/lib/python3.10/dist-packages/numpy/core/include/numpy/arrayobject.h:5\u001b[m\u001b[K,\r\n",
      "                 from \u001b[01m\u001b[KCFW_D_Similarity_Cython_SGD.c:1252\u001b[m\u001b[K:\r\n",
      "\u001b[01m\u001b[K/usr/local/lib/python3.10/dist-packages/numpy/core/include/numpy/npy_1_7_deprecated_api.h:17:2:\u001b[m\u001b[K \u001b[01;35m\u001b[Kwarning: \u001b[m\u001b[K#warning \"Using deprecated NumPy API, disable it with \" \"#define NPY_NO_DEPRECATED_API NPY_1_7_API_VERSION\" [\u001b[01;35m\u001b[K\u001b]8;;https://gcc.gnu.org/onlinedocs/gcc/Warning-Options.html#index-Wcpp\u0007-Wcpp\u001b]8;;\u0007\u001b[m\u001b[K]\r\n",
      "   17 | #\u001b[01;35m\u001b[Kwarning\u001b[m\u001b[K \"Using deprecated NumPy API, disable it with \" \\\r\n",
      "      |  \u001b[01;35m\u001b[K^~~~~~~\u001b[m\u001b[K\r\n",
      "\u001b[01m\u001b[KCFW_D_Similarity_Cython_SGD.c:\u001b[m\u001b[K In function ‘\u001b[01m\u001b[K__pyx_pf_27CFW_D_Similarity_Cython_SGD_27CFW_D_Similarity_Cython_SGD_6fit\u001b[m\u001b[K’:\r\n",
      "\u001b[01m\u001b[KCFW_D_Similarity_Cython_SGD.c:23373:55:\u001b[m\u001b[K \u001b[01;35m\u001b[Kwarning: \u001b[m\u001b[K‘\u001b[01m\u001b[K__pyx_v_sample_num\u001b[m\u001b[K’ may be used uninitialized in this function [\u001b[01;35m\u001b[K\u001b]8;;https://gcc.gnu.org/onlinedocs/gcc/Warning-Options.html#index-Wmaybe-uninitialized\u0007-Wmaybe-uninitialized\u001b]8;;\u0007\u001b[m\u001b[K]\r\n",
      "23373 |   __pyx_t_3 = PyFloat_FromDouble((__pyx_v_cum_loss / \u001b[01;35m\u001b[K((double)__pyx_v_sample_num)\u001b[m\u001b[K)); if (unlikely(!__pyx_t_3)) __PYX_ERR(0, 290, __pyx_L1_error)\r\n",
      "      |                                                      \u001b[01;35m\u001b[K~^~~~~~~~~~~~~~~~~~~~~~~~~~~\u001b[m\u001b[K\r\n",
      "/usr/local/lib/python3.10/dist-packages/Cython/Compiler/Main.py:381: FutureWarning: Cython directive 'language_level' not set, using '3str' for now (Py3). This has changed from earlier releases! File: /kaggle/working/RECsys_Challenge2024/Recommenders/FeatureWeighting/Cython/CFW_D_Similarity_Cython_SGD.pyx\r\n",
      "  tree = Parsing.p_module(s, pxd, full_module_name)\r\n",
      "Compiling [7/11]: CFW_D_Similarity_Cython_SGD.pyx... PASS\r\n",
      "\r\n",
      "Compiling [8/11]: CFW_DVV_Similarity_Cython_SGD.pyx... \r\n",
      "In file included from \u001b[01m\u001b[K/usr/local/lib/python3.10/dist-packages/numpy/core/include/numpy/ndarraytypes.h:1929\u001b[m\u001b[K,\r\n",
      "                 from \u001b[01m\u001b[K/usr/local/lib/python3.10/dist-packages/numpy/core/include/numpy/ndarrayobject.h:12\u001b[m\u001b[K,\r\n",
      "                 from \u001b[01m\u001b[K/usr/local/lib/python3.10/dist-packages/numpy/core/include/numpy/arrayobject.h:5\u001b[m\u001b[K,\r\n",
      "                 from \u001b[01m\u001b[KCFW_DVV_Similarity_Cython_SGD.c:1252\u001b[m\u001b[K:\r\n",
      "\u001b[01m\u001b[K/usr/local/lib/python3.10/dist-packages/numpy/core/include/numpy/npy_1_7_deprecated_api.h:17:2:\u001b[m\u001b[K \u001b[01;35m\u001b[Kwarning: \u001b[m\u001b[K#warning \"Using deprecated NumPy API, disable it with \" \"#define NPY_NO_DEPRECATED_API NPY_1_7_API_VERSION\" [\u001b[01;35m\u001b[K\u001b]8;;https://gcc.gnu.org/onlinedocs/gcc/Warning-Options.html#index-Wcpp\u0007-Wcpp\u001b]8;;\u0007\u001b[m\u001b[K]\r\n",
      "   17 | #\u001b[01;35m\u001b[Kwarning\u001b[m\u001b[K \"Using deprecated NumPy API, disable it with \" \\\r\n",
      "      |  \u001b[01;35m\u001b[K^~~~~~~\u001b[m\u001b[K\r\n",
      "/usr/local/lib/python3.10/dist-packages/Cython/Compiler/Main.py:381: FutureWarning: Cython directive 'language_level' not set, using '3str' for now (Py3). This has changed from earlier releases! File: /kaggle/working/RECsys_Challenge2024/Recommenders/FeatureWeighting/Cython/CFW_DVV_Similarity_Cython_SGD.pyx\r\n",
      "  tree = Parsing.p_module(s, pxd, full_module_name)\r\n",
      "Compiling [8/11]: CFW_DVV_Similarity_Cython_SGD.pyx... PASS\r\n",
      "\r\n",
      "Compiling [9/11]: FBSM_Rating_Cython_SGD.pyx... \r\n",
      "In file included from \u001b[01m\u001b[K/usr/local/lib/python3.10/dist-packages/numpy/core/include/numpy/ndarraytypes.h:1929\u001b[m\u001b[K,\r\n",
      "                 from \u001b[01m\u001b[K/usr/local/lib/python3.10/dist-packages/numpy/core/include/numpy/ndarrayobject.h:12\u001b[m\u001b[K,\r\n",
      "                 from \u001b[01m\u001b[K/usr/local/lib/python3.10/dist-packages/numpy/core/include/numpy/arrayobject.h:5\u001b[m\u001b[K,\r\n",
      "                 from \u001b[01m\u001b[KFBSM_Rating_Cython_SGD.c:1252\u001b[m\u001b[K:\r\n",
      "\u001b[01m\u001b[K/usr/local/lib/python3.10/dist-packages/numpy/core/include/numpy/npy_1_7_deprecated_api.h:17:2:\u001b[m\u001b[K \u001b[01;35m\u001b[Kwarning: \u001b[m\u001b[K#warning \"Using deprecated NumPy API, disable it with \" \"#define NPY_NO_DEPRECATED_API NPY_1_7_API_VERSION\" [\u001b[01;35m\u001b[K\u001b]8;;https://gcc.gnu.org/onlinedocs/gcc/Warning-Options.html#index-Wcpp\u0007-Wcpp\u001b]8;;\u0007\u001b[m\u001b[K]\r\n",
      "   17 | #\u001b[01;35m\u001b[Kwarning\u001b[m\u001b[K \"Using deprecated NumPy API, disable it with \" \\\r\n",
      "      |  \u001b[01;35m\u001b[K^~~~~~~\u001b[m\u001b[K\r\n",
      "\u001b[01m\u001b[KFBSM_Rating_Cython_SGD.c:\u001b[m\u001b[K In function ‘\u001b[01m\u001b[K__pyx_pf_22FBSM_Rating_Cython_SGD_22FBSM_Rating_Cython_SGD_2fit\u001b[m\u001b[K’:\r\n",
      "\u001b[01m\u001b[KFBSM_Rating_Cython_SGD.c:26607:55:\u001b[m\u001b[K \u001b[01;35m\u001b[Kwarning: \u001b[m\u001b[K‘\u001b[01m\u001b[K__pyx_v_num_sample\u001b[m\u001b[K’ may be used uninitialized in this function [\u001b[01;35m\u001b[K\u001b]8;;https://gcc.gnu.org/onlinedocs/gcc/Warning-Options.html#index-Wmaybe-uninitialized\u0007-Wmaybe-uninitialized\u001b]8;;\u0007\u001b[m\u001b[K]\r\n",
      "26607 |   __pyx_t_5 = PyFloat_FromDouble((__pyx_v_cum_loss / \u001b[01;35m\u001b[K((double)__pyx_v_num_sample)\u001b[m\u001b[K)); if (unlikely(!__pyx_t_5)) __PYX_ERR(0, 551, __pyx_L1_error)\r\n",
      "      |                                                      \u001b[01;35m\u001b[K~^~~~~~~~~~~~~~~~~~~~~~~~~~~\u001b[m\u001b[K\r\n",
      "/usr/local/lib/python3.10/dist-packages/Cython/Compiler/Main.py:381: FutureWarning: Cython directive 'language_level' not set, using '3str' for now (Py3). This has changed from earlier releases! File: /kaggle/working/RECsys_Challenge2024/Recommenders/FeatureWeighting/Cython/FBSM_Rating_Cython_SGD.pyx\r\n",
      "  tree = Parsing.p_module(s, pxd, full_module_name)\r\n",
      "Compiling [9/11]: FBSM_Rating_Cython_SGD.pyx... PASS\r\n",
      "\r\n",
      "Compiling [10/11]: HP3_Similarity_Cython_SGD.pyx... \r\n",
      "performance hint: HP3_Similarity_Cython_SGD.pyx:113:40: Index should be typed for more efficient access\r\n",
      "performance hint: HP3_Similarity_Cython_SGD.pyx:114:40: Index should be typed for more efficient access\r\n",
      "In file included from \u001b[01m\u001b[K/usr/local/lib/python3.10/dist-packages/numpy/core/include/numpy/ndarraytypes.h:1929\u001b[m\u001b[K,\r\n",
      "                 from \u001b[01m\u001b[K/usr/local/lib/python3.10/dist-packages/numpy/core/include/numpy/ndarrayobject.h:12\u001b[m\u001b[K,\r\n",
      "                 from \u001b[01m\u001b[K/usr/local/lib/python3.10/dist-packages/numpy/core/include/numpy/arrayobject.h:5\u001b[m\u001b[K,\r\n",
      "                 from \u001b[01m\u001b[KHP3_Similarity_Cython_SGD.c:1252\u001b[m\u001b[K:\r\n",
      "\u001b[01m\u001b[K/usr/local/lib/python3.10/dist-packages/numpy/core/include/numpy/npy_1_7_deprecated_api.h:17:2:\u001b[m\u001b[K \u001b[01;35m\u001b[Kwarning: \u001b[m\u001b[K#warning \"Using deprecated NumPy API, disable it with \" \"#define NPY_NO_DEPRECATED_API NPY_1_7_API_VERSION\" [\u001b[01;35m\u001b[K\u001b]8;;https://gcc.gnu.org/onlinedocs/gcc/Warning-Options.html#index-Wcpp\u0007-Wcpp\u001b]8;;\u0007\u001b[m\u001b[K]\r\n",
      "   17 | #\u001b[01;35m\u001b[Kwarning\u001b[m\u001b[K \"Using deprecated NumPy API, disable it with \" \\\r\n",
      "      |  \u001b[01;35m\u001b[K^~~~~~~\u001b[m\u001b[K\r\n",
      "\u001b[01m\u001b[KHP3_Similarity_Cython_SGD.c:\u001b[m\u001b[K In function ‘\u001b[01m\u001b[K__pyx_pf_25HP3_Similarity_Cython_SGD_25HP3_Similarity_Cython_SGD_4fit\u001b[m\u001b[K’:\r\n",
      "\u001b[01m\u001b[KHP3_Similarity_Cython_SGD.c:23631:55:\u001b[m\u001b[K \u001b[01;35m\u001b[Kwarning: \u001b[m\u001b[K‘\u001b[01m\u001b[K__pyx_v_sample_num\u001b[m\u001b[K’ may be used uninitialized in this function [\u001b[01;35m\u001b[K\u001b]8;;https://gcc.gnu.org/onlinedocs/gcc/Warning-Options.html#index-Wmaybe-uninitialized\u0007-Wmaybe-uninitialized\u001b]8;;\u0007\u001b[m\u001b[K]\r\n",
      "23631 |   __pyx_t_1 = PyFloat_FromDouble((__pyx_v_cum_loss / \u001b[01;35m\u001b[K((double)__pyx_v_sample_num)\u001b[m\u001b[K)); if (unlikely(!__pyx_t_1)) __PYX_ERR(0, 291, __pyx_L1_error)\r\n",
      "      |                                                      \u001b[01;35m\u001b[K~^~~~~~~~~~~~~~~~~~~~~~~~~~~\u001b[m\u001b[K\r\n",
      "/usr/local/lib/python3.10/dist-packages/Cython/Compiler/Main.py:381: FutureWarning: Cython directive 'language_level' not set, using '3str' for now (Py3). This has changed from earlier releases! File: /kaggle/working/RECsys_Challenge2024/Recommenders/FeatureWeighting/Cython/HP3_Similarity_Cython_SGD.pyx\r\n",
      "  tree = Parsing.p_module(s, pxd, full_module_name)\r\n",
      "performance hint: HP3_Similarity_Cython_SGD.pyx:113:40: Index should be typed for more efficient access\r\n",
      "performance hint: HP3_Similarity_Cython_SGD.pyx:114:40: Index should be typed for more efficient access\r\n",
      "Compiling [10/11]: HP3_Similarity_Cython_SGD.pyx... PASS\r\n",
      "\r\n",
      "Compiling [11/11]: DataIterator.pyx... \r\n",
      "In file included from \u001b[01m\u001b[K/usr/local/lib/python3.10/dist-packages/numpy/core/include/numpy/ndarraytypes.h:1929\u001b[m\u001b[K,\r\n",
      "                 from \u001b[01m\u001b[K/usr/local/lib/python3.10/dist-packages/numpy/core/include/numpy/ndarrayobject.h:12\u001b[m\u001b[K,\r\n",
      "                 from \u001b[01m\u001b[K/usr/local/lib/python3.10/dist-packages/numpy/core/include/numpy/arrayobject.h:5\u001b[m\u001b[K,\r\n",
      "                 from \u001b[01m\u001b[KDataIterator.c:1252\u001b[m\u001b[K:\r\n",
      "\u001b[01m\u001b[K/usr/local/lib/python3.10/dist-packages/numpy/core/include/numpy/npy_1_7_deprecated_api.h:17:2:\u001b[m\u001b[K \u001b[01;35m\u001b[Kwarning: \u001b[m\u001b[K#warning \"Using deprecated NumPy API, disable it with \" \"#define NPY_NO_DEPRECATED_API NPY_1_7_API_VERSION\" [\u001b[01;35m\u001b[K\u001b]8;;https://gcc.gnu.org/onlinedocs/gcc/Warning-Options.html#index-Wcpp\u0007-Wcpp\u001b]8;;\u0007\u001b[m\u001b[K]\r\n",
      "   17 | #\u001b[01;35m\u001b[Kwarning\u001b[m\u001b[K \"Using deprecated NumPy API, disable it with \" \\\r\n",
      "      |  \u001b[01;35m\u001b[K^~~~~~~\u001b[m\u001b[K\r\n",
      "\u001b[01m\u001b[KDataIterator.c:\u001b[m\u001b[K In function ‘\u001b[01m\u001b[K__pyx_pf_12DataIterator_19InteractionIterator_6__next__\u001b[m\u001b[K’:\r\n",
      "\u001b[01m\u001b[KDataIterator.c:20937:22:\u001b[m\u001b[K \u001b[01;35m\u001b[Kwarning: \u001b[m\u001b[K‘\u001b[01m\u001b[K__pyx_v_i_batch\u001b[m\u001b[K’ may be used uninitialized in this function [\u001b[01;35m\u001b[K\u001b]8;;https://gcc.gnu.org/onlinedocs/gcc/Warning-Options.html#index-Wmaybe-uninitialized\u0007-Wmaybe-uninitialized\u001b]8;;\u0007\u001b[m\u001b[K]\r\n",
      "20937 |     (__pyx_v_i_batch \u001b[01;35m\u001b[K+\u001b[m\u001b[K 1),\r\n",
      "      |                      \u001b[01;35m\u001b[K^\u001b[m\u001b[K\r\n",
      "\u001b[01m\u001b[KDataIterator.c:\u001b[m\u001b[K In function ‘\u001b[01m\u001b[K__pyx_pf_12DataIterator_30InteractionAndNegativeIterator_6__next__\u001b[m\u001b[K’:\r\n",
      "\u001b[01m\u001b[KDataIterator.c:25499:22:\u001b[m\u001b[K \u001b[01;35m\u001b[Kwarning: \u001b[m\u001b[K‘\u001b[01m\u001b[K__pyx_v_i_batch\u001b[m\u001b[K’ may be used uninitialized in this function [\u001b[01;35m\u001b[K\u001b]8;;https://gcc.gnu.org/onlinedocs/gcc/Warning-Options.html#index-Wmaybe-uninitialized\u0007-Wmaybe-uninitialized\u001b]8;;\u0007\u001b[m\u001b[K]\r\n",
      "25499 |     (__pyx_v_i_batch \u001b[01;35m\u001b[K+\u001b[m\u001b[K 1),\r\n",
      "      |                      \u001b[01;35m\u001b[K^\u001b[m\u001b[K\r\n",
      "\u001b[01m\u001b[KDataIterator.c:\u001b[m\u001b[K In function ‘\u001b[01m\u001b[K__pyx_pf_12DataIterator_11BPRIterator_6__next__\u001b[m\u001b[K’:\r\n",
      "\u001b[01m\u001b[KDataIterator.c:23056:22:\u001b[m\u001b[K \u001b[01;35m\u001b[Kwarning: \u001b[m\u001b[K‘\u001b[01m\u001b[K__pyx_v_i_batch\u001b[m\u001b[K’ may be used uninitialized in this function [\u001b[01;35m\u001b[K\u001b]8;;https://gcc.gnu.org/onlinedocs/gcc/Warning-Options.html#index-Wmaybe-uninitialized\u0007-Wmaybe-uninitialized\u001b]8;;\u0007\u001b[m\u001b[K]\r\n",
      "23056 |     (__pyx_v_i_batch \u001b[01;35m\u001b[K+\u001b[m\u001b[K 1),\r\n",
      "      |                      \u001b[01;35m\u001b[K^\u001b[m\u001b[K\r\n",
      "/usr/local/lib/python3.10/dist-packages/Cython/Compiler/Main.py:381: FutureWarning: Cython directive 'language_level' not set, using '3str' for now (Py3). This has changed from earlier releases! File: /kaggle/working/RECsys_Challenge2024/Utils/PyTorch/Cython/DataIterator.pyx\r\n",
      "  tree = Parsing.p_module(s, pxd, full_module_name)\r\n",
      "Compiling [11/11]: DataIterator.pyx... PASS\r\n",
      "\r\n",
      "run_compile_all_cython: Compilation finished. FAILS 2/11.\r\n",
      "Compilation log can be found here: './result_experiments/run_compile_all_cython.txt'\r\n"
     ]
    }
   ],
   "source": [
    "%cd /kaggle/working/RECsys_Challenge2024 \n",
    "! python run_compile_all_cython.py"
   ]
  },
  {
   "cell_type": "code",
   "execution_count": 5,
   "id": "b016bb91",
   "metadata": {
    "execution": {
     "iopub.execute_input": "2025-01-05T10:41:15.737038Z",
     "iopub.status.busy": "2025-01-05T10:41:15.736651Z",
     "iopub.status.idle": "2025-01-05T10:41:17.283825Z",
     "shell.execute_reply": "2025-01-05T10:41:17.282727Z"
    },
    "papermill": {
     "duration": 1.564773,
     "end_time": "2025-01-05T10:41:17.285743",
     "exception": false,
     "start_time": "2025-01-05T10:41:15.720970",
     "status": "completed"
    },
    "tags": []
   },
   "outputs": [],
   "source": [
    "from Utils.notebookFunctions import *\n",
    "import numpy as np\n",
    "import pandas as pd\n",
    "import scipy.sparse as sps\n",
    "import time\n",
    "import shutil\n",
    "import optuna\n",
    "import json\n",
    "import os\n",
    "from Utils.seconds_to_biggest_unit import seconds_to_biggest_unit\n",
    "\n",
    "\n",
    "K_PATH = '/kaggle/working/RECsys_Challenge2024'\n",
    "GH_PATH = 'TrainedModels/WithKFCV/KNN'\n",
    "\n",
    "np.random.seed(42)"
   ]
  },
  {
   "cell_type": "markdown",
   "id": "460669fb",
   "metadata": {
    "papermill": {
     "duration": 0.014241,
     "end_time": "2025-01-05T10:41:17.314712",
     "exception": false,
     "start_time": "2025-01-05T10:41:17.300471",
     "status": "completed"
    },
    "tags": []
   },
   "source": [
    "## Import the repository **RECsys_Challenge2024**"
   ]
  },
  {
   "cell_type": "code",
   "execution_count": 6,
   "id": "2eea57a3",
   "metadata": {
    "execution": {
     "iopub.execute_input": "2025-01-05T10:41:17.345578Z",
     "iopub.status.busy": "2025-01-05T10:41:17.345047Z",
     "iopub.status.idle": "2025-01-05T10:41:17.813791Z",
     "shell.execute_reply": "2025-01-05T10:41:17.812528Z"
    },
    "papermill": {
     "duration": 0.486226,
     "end_time": "2025-01-05T10:41:17.815630",
     "exception": false,
     "start_time": "2025-01-05T10:41:17.329404",
     "status": "completed"
    },
    "tags": []
   },
   "outputs": [
    {
     "name": "stdout",
     "output_type": "stream",
     "text": [
      "Repository 'RECsys_Challenge2024' found.\n"
     ]
    }
   ],
   "source": [
    "repo = get_repo_from_github(token)"
   ]
  },
  {
   "cell_type": "code",
   "execution_count": 7,
   "id": "a8a3134b",
   "metadata": {
    "execution": {
     "iopub.execute_input": "2025-01-05T10:41:17.849197Z",
     "iopub.status.busy": "2025-01-05T10:41:17.848845Z",
     "iopub.status.idle": "2025-01-05T10:41:17.853723Z",
     "shell.execute_reply": "2025-01-05T10:41:17.852445Z"
    },
    "papermill": {
     "duration": 0.023378,
     "end_time": "2025-01-05T10:41:17.855267",
     "exception": false,
     "start_time": "2025-01-05T10:41:17.831889",
     "status": "completed"
    },
    "tags": []
   },
   "outputs": [],
   "source": [
    "config = {\n",
    "    'model': 'ItemKNNCF',\n",
    "    'n_folds': 5,\n",
    "    'metric': 'MAP',\n",
    "    'tune_parameters': True,\n",
    "    'database_path': '/kaggle/working/history_ItemKNNCF_MAP.db',\n",
    "    'copy_prev_best_params': False,\n",
    "    'tune_best_params': True,\n",
    "    'save_github': True\n",
    "}"
   ]
  },
  {
   "cell_type": "markdown",
   "id": "2a08ac33",
   "metadata": {
    "papermill": {
     "duration": 0.014514,
     "end_time": "2025-01-05T10:41:17.884595",
     "exception": false,
     "start_time": "2025-01-05T10:41:17.870081",
     "status": "completed"
    },
    "tags": []
   },
   "source": [
    "Import the database where previous tuning trials have been saved."
   ]
  },
  {
   "cell_type": "code",
   "execution_count": 8,
   "id": "8bf3425c",
   "metadata": {
    "execution": {
     "iopub.execute_input": "2025-01-05T10:41:17.916661Z",
     "iopub.status.busy": "2025-01-05T10:41:17.916245Z",
     "iopub.status.idle": "2025-01-05T10:41:17.921761Z",
     "shell.execute_reply": "2025-01-05T10:41:17.920864Z"
    },
    "papermill": {
     "duration": 0.023787,
     "end_time": "2025-01-05T10:41:17.923360",
     "exception": false,
     "start_time": "2025-01-05T10:41:17.899573",
     "status": "completed"
    },
    "tags": []
   },
   "outputs": [],
   "source": [
    "try:\n",
    "    shutil.copyfile(\n",
    "        f'{K_PATH}/{GH_PATH}/{config[\"model\"]}Recommender/Optimizing{config[\"metric\"]}/history_{config[\"model\"]}_{config[\"metric\"]}.db', \n",
    "        config['database_path']\n",
    "    )\n",
    "except FileNotFoundError:\n",
    "    pass # if not present optuna will create it"
   ]
  },
  {
   "cell_type": "markdown",
   "id": "15e926b4",
   "metadata": {
    "papermill": {
     "duration": 0.014507,
     "end_time": "2025-01-05T10:41:17.953548",
     "exception": false,
     "start_time": "2025-01-05T10:41:17.939041",
     "status": "completed"
    },
    "tags": []
   },
   "source": [
    "# Construction of URM and ICM matrices"
   ]
  },
  {
   "cell_type": "code",
   "execution_count": 9,
   "id": "f52fdc18",
   "metadata": {
    "execution": {
     "iopub.execute_input": "2025-01-05T10:41:17.984504Z",
     "iopub.status.busy": "2025-01-05T10:41:17.984151Z",
     "iopub.status.idle": "2025-01-05T10:41:18.848146Z",
     "shell.execute_reply": "2025-01-05T10:41:18.847122Z"
    },
    "papermill": {
     "duration": 0.881436,
     "end_time": "2025-01-05T10:41:18.849902",
     "exception": false,
     "start_time": "2025-01-05T10:41:17.968466",
     "status": "completed"
    },
    "tags": []
   },
   "outputs": [
    {
     "data": {
      "text/plain": [
       "<35736x38121 sparse matrix of type '<class 'numpy.float64'>'\n",
       "\twith 1764607 stored elements in Compressed Sparse Row format>"
      ]
     },
     "execution_count": 9,
     "metadata": {},
     "output_type": "execute_result"
    }
   ],
   "source": [
    "URM_all_dataframe = pd.read_csv(\"/kaggle/input/recommender-system-2024-challenge-polimi/data_train.csv\")\n",
    "\n",
    "n_users = len(URM_all_dataframe[\"user_id\"].unique())\n",
    "n_items = len(URM_all_dataframe[\"item_id\"].unique())\n",
    "\n",
    "URM_all = sps.csr_matrix((URM_all_dataframe[\"data\"].values, \n",
    "                          (URM_all_dataframe[\"user_id\"].values, URM_all_dataframe[\"item_id\"].values)),\n",
    "                        shape = (n_users, n_items))\n",
    "\n",
    "URM_all"
   ]
  },
  {
   "cell_type": "code",
   "execution_count": 10,
   "id": "5dd3c5fc",
   "metadata": {
    "execution": {
     "iopub.execute_input": "2025-01-05T10:41:18.881003Z",
     "iopub.status.busy": "2025-01-05T10:41:18.880634Z",
     "iopub.status.idle": "2025-01-05T10:41:20.148986Z",
     "shell.execute_reply": "2025-01-05T10:41:20.147978Z"
    },
    "papermill": {
     "duration": 1.285619,
     "end_time": "2025-01-05T10:41:20.150619",
     "exception": false,
     "start_time": "2025-01-05T10:41:18.865000",
     "status": "completed"
    },
    "tags": []
   },
   "outputs": [
    {
     "data": {
      "text/plain": [
       "<38121x94331 sparse matrix of type '<class 'numpy.float64'>'\n",
       "\twith 2940040 stored elements in Compressed Sparse Row format>"
      ]
     },
     "execution_count": 10,
     "metadata": {},
     "output_type": "execute_result"
    }
   ],
   "source": [
    "ICM_dataframe = pd.read_csv(\"/kaggle/input/recommender-system-2024-challenge-polimi/data_ICM_metadata.csv\")\n",
    "\n",
    "n_items = len(ICM_dataframe[\"item_id\"].unique())\n",
    "n_features = len(ICM_dataframe[\"feature_id\"].unique())\n",
    "\n",
    "ICM_all = sps.csr_matrix((ICM_dataframe[\"data\"].values, \n",
    "                          (ICM_dataframe[\"item_id\"].values, ICM_dataframe[\"feature_id\"].values)),\n",
    "                        shape = (n_items, n_features))\n",
    "\n",
    "ICM_all"
   ]
  },
  {
   "cell_type": "markdown",
   "id": "72064e8d",
   "metadata": {
    "papermill": {
     "duration": 0.015023,
     "end_time": "2025-01-05T10:41:20.182266",
     "exception": false,
     "start_time": "2025-01-05T10:41:20.167243",
     "status": "completed"
    },
    "tags": []
   },
   "source": [
    "# Training"
   ]
  },
  {
   "cell_type": "code",
   "execution_count": 11,
   "id": "bdfb3a1d",
   "metadata": {
    "execution": {
     "iopub.execute_input": "2025-01-05T10:41:20.215753Z",
     "iopub.status.busy": "2025-01-05T10:41:20.215358Z",
     "iopub.status.idle": "2025-01-05T10:41:37.819322Z",
     "shell.execute_reply": "2025-01-05T10:41:37.818336Z"
    },
    "papermill": {
     "duration": 17.623745,
     "end_time": "2025-01-05T10:41:37.821328",
     "exception": false,
     "start_time": "2025-01-05T10:41:20.197583",
     "status": "completed"
    },
    "tags": []
   },
   "outputs": [
    {
     "name": "stdout",
     "output_type": "stream",
     "text": [
      "Warning: 141 (0.39 %) of 35736 users have no sampled items\n"
     ]
    }
   ],
   "source": [
    "from Evaluation.Evaluator import EvaluatorHoldout\n",
    "from Data_manager.split_functions.split_train_validation_random_holdout import split_train_in_two_percentage_global_sample\n",
    "from Data_manager.split_functions.split_train_k_folds import split_train_k_folds\n",
    "\n",
    "URM_train, URM_validation = split_train_in_two_percentage_global_sample(URM_all, train_percentage = 0.80)\n",
    "\n",
    "folds = split_train_k_folds(URM_all, k=config['n_folds'])"
   ]
  },
  {
   "cell_type": "code",
   "execution_count": 12,
   "id": "871c4b8c",
   "metadata": {
    "execution": {
     "iopub.execute_input": "2025-01-05T10:41:37.853602Z",
     "iopub.status.busy": "2025-01-05T10:41:37.853174Z",
     "iopub.status.idle": "2025-01-05T10:41:37.870973Z",
     "shell.execute_reply": "2025-01-05T10:41:37.870018Z"
    },
    "papermill": {
     "duration": 0.035975,
     "end_time": "2025-01-05T10:41:37.872883",
     "exception": false,
     "start_time": "2025-01-05T10:41:37.836908",
     "status": "completed"
    },
    "tags": []
   },
   "outputs": [],
   "source": [
    "from Recommenders.KNN.ItemKNNCFRecommender import ItemKNNCFRecommender\n",
    "\n",
    "def objective_function_ItemKNNCF(optuna_trial):\n",
    "    \n",
    "    similarity = optuna_trial.suggest_categorical(\"similarity\", ['cosine', 'dice', 'jaccard', 'asymmetric', 'tversky', 'euclidean'])\n",
    "    \n",
    "    full_hyperp = {\"similarity\": similarity,\n",
    "                   \"topK\": optuna_trial.suggest_int(\"topK\", 0, 750),\n",
    "                   \"shrink\": optuna_trial.suggest_int(\"shrink\", 0, 1000),\n",
    "                   'feature_weighting': optuna_trial.suggest_categorical('feature_weighting', [\"BM25\", \"TF-IDF\", \"none\"])\n",
    "                  }\n",
    "    \n",
    "    if similarity == \"asymmetric\":\n",
    "        full_hyperp[\"asymmetric_alpha\"] = optuna_trial.suggest_float(\"asymmetric_alpha\", 0, 2, log=False)\n",
    "        full_hyperp[\"normalize\"] = True     \n",
    "\n",
    "    elif similarity == \"tversky\":\n",
    "        full_hyperp[\"tversky_alpha\"] = optuna_trial.suggest_float(\"tversky_alpha\", 0, 2, log=False)\n",
    "        full_hyperp[\"tversky_beta\"] = optuna_trial.suggest_float(\"tversky_beta\", 0, 2, log=False)\n",
    "        full_hyperp[\"normalize\"] = True \n",
    "\n",
    "    elif similarity == \"euclidean\":\n",
    "        full_hyperp[\"normalize_avg_row\"] = optuna_trial.suggest_categorical(\"normalize_avg_row\", [True, False])\n",
    "        full_hyperp[\"similarity_from_distance_mode\"] = optuna_trial.suggest_categorical(\"similarity_from_distance_mode\", [\"lin\", \"log\", \"exp\"])\n",
    "        full_hyperp[\"normalize\"] = optuna_trial.suggest_categorical(\"normalize\", [True, False])\n",
    "        \n",
    "    \n",
    "    validation_results = []\n",
    "    \n",
    "    for fold_idx, (URM_train_fold, URM_validation_fold) in enumerate(folds):\n",
    "    \n",
    "        recommender_instance = ItemKNNCFRecommender(URM_train_fold)\n",
    "        recommender_instance.fit(**full_hyperp)\n",
    "        \n",
    "        evaluator = EvaluatorHoldout(URM_validation_fold, cutoff_list=[10])\n",
    "        result_df, _ = evaluator.evaluateRecommender(recommender_instance)\n",
    "        \n",
    "        validation_results.append(result_df.loc[10][\"MAP\"])\n",
    "    \n",
    "    return np.mean(validation_results)"
   ]
  },
  {
   "cell_type": "code",
   "execution_count": 13,
   "id": "b7662130",
   "metadata": {
    "_kg_hide-output": true,
    "execution": {
     "iopub.execute_input": "2025-01-05T10:41:37.905905Z",
     "iopub.status.busy": "2025-01-05T10:41:37.905523Z",
     "iopub.status.idle": "2025-01-05T17:38:11.308842Z",
     "shell.execute_reply": "2025-01-05T17:38:11.307838Z"
    },
    "papermill": {
     "duration": 24993.463914,
     "end_time": "2025-01-05T17:38:11.352856",
     "exception": false,
     "start_time": "2025-01-05T10:41:37.888942",
     "status": "completed"
    },
    "tags": []
   },
   "outputs": [
    {
     "name": "stderr",
     "output_type": "stream",
     "text": [
      "[I 2025-01-05 10:41:39,006] Using an existing study with name 'hyperparameters_tuning_ItemKNNCF_MAP' instead of creating a new one.\n"
     ]
    },
    {
     "name": "stdout",
     "output_type": "stream",
     "text": [
      "Similarity column 38121 (100.0%), 2677.55 column/sec. Elapsed time 14.24 sec\n",
      "EvaluatorHoldout: Ignoring 173 ( 0.5%) Users that have less than 1 test interactions\n",
      "EvaluatorHoldout: Processed 35563 (100.0%) in 35.73 sec. Users per second: 995\n",
      "Similarity column 38121 (100.0%), 2672.40 column/sec. Elapsed time 14.26 sec\n",
      "EvaluatorHoldout: Ignoring 163 ( 0.5%) Users that have less than 1 test interactions\n",
      "EvaluatorHoldout: Processed 35573 (100.0%) in 34.94 sec. Users per second: 1018\n",
      "Similarity column 38121 (100.0%), 2665.71 column/sec. Elapsed time 14.30 sec\n",
      "EvaluatorHoldout: Ignoring 150 ( 0.4%) Users that have less than 1 test interactions\n",
      "EvaluatorHoldout: Processed 35586 (100.0%) in 34.46 sec. Users per second: 1033\n",
      "Similarity column 38121 (100.0%), 2679.77 column/sec. Elapsed time 14.23 sec\n",
      "EvaluatorHoldout: Ignoring 167 ( 0.5%) Users that have less than 1 test interactions\n",
      "EvaluatorHoldout: Processed 35569 (100.0%) in 34.52 sec. Users per second: 1030\n",
      "Similarity column 38121 (100.0%), 2661.97 column/sec. Elapsed time 14.32 sec\n",
      "EvaluatorHoldout: Ignoring 172 ( 0.5%) Users that have less than 1 test interactions\n",
      "EvaluatorHoldout: Processed 35564 (100.0%) in 34.39 sec. Users per second: 1034\n"
     ]
    },
    {
     "name": "stderr",
     "output_type": "stream",
     "text": [
      "[I 2025-01-05 10:45:46,923] Trial 300 finished with value: 0.047323777618326984 and parameters: {'similarity': 'tversky', 'topK': 39, 'shrink': 33, 'feature_weighting': 'none', 'tversky_alpha': 0.03933128437000617, 'tversky_beta': 0.9193922457601659}. Best is trial 267 with value: 0.05351701566277965.\n"
     ]
    },
    {
     "name": "stdout",
     "output_type": "stream",
     "text": [
      "Similarity column 38121 (100.0%), 2678.13 column/sec. Elapsed time 14.23 sec\n",
      "EvaluatorHoldout: Ignoring 173 ( 0.5%) Users that have less than 1 test interactions\n",
      "EvaluatorHoldout: Processed 35563 (100.0%) in 32.28 sec. Users per second: 1102\n",
      "Similarity column 38121 (100.0%), 2692.28 column/sec. Elapsed time 14.16 sec\n",
      "EvaluatorHoldout: Ignoring 163 ( 0.5%) Users that have less than 1 test interactions\n",
      "EvaluatorHoldout: Processed 35573 (100.0%) in 32.36 sec. Users per second: 1099\n",
      "Similarity column 38121 (100.0%), 2708.24 column/sec. Elapsed time 14.08 sec\n",
      "EvaluatorHoldout: Ignoring 150 ( 0.4%) Users that have less than 1 test interactions\n",
      "EvaluatorHoldout: Processed 35586 (100.0%) in 32.16 sec. Users per second: 1106\n",
      "Similarity column 38121 (100.0%), 2699.09 column/sec. Elapsed time 14.12 sec\n",
      "EvaluatorHoldout: Ignoring 167 ( 0.5%) Users that have less than 1 test interactions\n",
      "EvaluatorHoldout: Processed 35569 (100.0%) in 32.10 sec. Users per second: 1108\n",
      "Similarity column 38121 (100.0%), 2696.37 column/sec. Elapsed time 14.14 sec\n",
      "EvaluatorHoldout: Ignoring 172 ( 0.5%) Users that have less than 1 test interactions\n",
      "EvaluatorHoldout: Processed 35564 (100.0%) in 32.19 sec. Users per second: 1105\n"
     ]
    },
    {
     "name": "stderr",
     "output_type": "stream",
     "text": [
      "[I 2025-01-05 10:49:40,620] Trial 301 finished with value: 0.052218659379927014 and parameters: {'similarity': 'tversky', 'topK': 13, 'shrink': 53, 'feature_weighting': 'none', 'tversky_alpha': 0.07652460813760717, 'tversky_beta': 1.8265446112765786}. Best is trial 267 with value: 0.05351701566277965.\n"
     ]
    },
    {
     "name": "stdout",
     "output_type": "stream",
     "text": [
      "Similarity column 38121 (100.0%), 3489.59 column/sec. Elapsed time 10.92 sec\n",
      "EvaluatorHoldout: Ignoring 173 ( 0.5%) Users that have less than 1 test interactions\n",
      "EvaluatorHoldout: Processed 35563 (100.0%) in 25.31 sec. Users per second: 1405\n",
      "Similarity column 38121 (100.0%), 3505.13 column/sec. Elapsed time 10.88 sec\n",
      "EvaluatorHoldout: Ignoring 163 ( 0.5%) Users that have less than 1 test interactions\n",
      "EvaluatorHoldout: Processed 35573 (100.0%) in 25.54 sec. Users per second: 1393\n",
      "Similarity column 38121 (100.0%), 3491.92 column/sec. Elapsed time 10.92 sec\n",
      "EvaluatorHoldout: Ignoring 150 ( 0.4%) Users that have less than 1 test interactions\n",
      "EvaluatorHoldout: Processed 35586 (100.0%) in 25.42 sec. Users per second: 1400\n",
      "Similarity column 38121 (100.0%), 3483.74 column/sec. Elapsed time 10.94 sec\n",
      "EvaluatorHoldout: Ignoring 167 ( 0.5%) Users that have less than 1 test interactions\n",
      "EvaluatorHoldout: Processed 35569 (100.0%) in 25.35 sec. Users per second: 1403\n",
      "Similarity column 38121 (100.0%), 3438.69 column/sec. Elapsed time 11.09 sec\n",
      "EvaluatorHoldout: Ignoring 172 ( 0.5%) Users that have less than 1 test interactions\n",
      "EvaluatorHoldout: Processed 35564 (100.0%) in 25.22 sec. Users per second: 1410\n"
     ]
    },
    {
     "name": "stderr",
     "output_type": "stream",
     "text": [
      "[I 2025-01-05 10:52:44,011] Trial 302 finished with value: 0.0002664826418719655 and parameters: {'similarity': 'tversky', 'topK': 0, 'shrink': 23, 'feature_weighting': 'none', 'tversky_alpha': 0.0005083726853538396, 'tversky_beta': 0.2806292711224745}. Best is trial 267 with value: 0.05351701566277965.\n"
     ]
    },
    {
     "name": "stdout",
     "output_type": "stream",
     "text": [
      "Similarity column 38121 (100.0%), 2696.03 column/sec. Elapsed time 14.14 sec\n",
      "EvaluatorHoldout: Ignoring 173 ( 0.5%) Users that have less than 1 test interactions\n",
      "EvaluatorHoldout: Processed 35563 (100.0%) in 34.15 sec. Users per second: 1041\n",
      "Similarity column 38121 (100.0%), 2712.94 column/sec. Elapsed time 14.05 sec\n",
      "EvaluatorHoldout: Ignoring 163 ( 0.5%) Users that have less than 1 test interactions\n",
      "EvaluatorHoldout: Processed 35573 (100.0%) in 34.20 sec. Users per second: 1040\n",
      "Similarity column 38121 (100.0%), 2680.76 column/sec. Elapsed time 14.22 sec\n",
      "EvaluatorHoldout: Ignoring 150 ( 0.4%) Users that have less than 1 test interactions\n",
      "EvaluatorHoldout: Processed 35586 (100.0%) in 34.35 sec. Users per second: 1036\n",
      "Similarity column 38121 (100.0%), 2687.60 column/sec. Elapsed time 14.18 sec\n",
      "EvaluatorHoldout: Ignoring 167 ( 0.5%) Users that have less than 1 test interactions\n",
      "EvaluatorHoldout: Processed 35569 (100.0%) in 34.36 sec. Users per second: 1035\n",
      "Similarity column 38121 (100.0%), 2686.50 column/sec. Elapsed time 14.19 sec\n",
      "EvaluatorHoldout: Ignoring 172 ( 0.5%) Users that have less than 1 test interactions\n",
      "EvaluatorHoldout: Processed 35564 (100.0%) in 34.04 sec. Users per second: 1045\n"
     ]
    },
    {
     "name": "stderr",
     "output_type": "stream",
     "text": [
      "[I 2025-01-05 10:56:47,961] Trial 303 finished with value: 0.0488647275039855 and parameters: {'similarity': 'tversky', 'topK': 37, 'shrink': 48, 'feature_weighting': 'none', 'tversky_alpha': 0.11695449428781957, 'tversky_beta': 1.750312835971314}. Best is trial 267 with value: 0.05351701566277965.\n"
     ]
    },
    {
     "name": "stdout",
     "output_type": "stream",
     "text": [
      "Similarity column 38121 (100.0%), 2695.48 column/sec. Elapsed time 14.14 sec\n",
      "EvaluatorHoldout: Ignoring 173 ( 0.5%) Users that have less than 1 test interactions\n",
      "EvaluatorHoldout: Processed 35563 (100.0%) in 32.65 sec. Users per second: 1089\n",
      "Similarity column 38121 (100.0%), 2686.47 column/sec. Elapsed time 14.19 sec\n",
      "EvaluatorHoldout: Ignoring 163 ( 0.5%) Users that have less than 1 test interactions\n",
      "EvaluatorHoldout: Processed 35573 (100.0%) in 32.70 sec. Users per second: 1088\n",
      "Similarity column 38121 (100.0%), 2712.45 column/sec. Elapsed time 14.05 sec\n",
      "EvaluatorHoldout: Ignoring 150 ( 0.4%) Users that have less than 1 test interactions\n",
      "EvaluatorHoldout: Processed 35586 (100.0%) in 32.74 sec. Users per second: 1087\n",
      "Similarity column 38121 (100.0%), 2715.44 column/sec. Elapsed time 14.04 sec\n",
      "EvaluatorHoldout: Ignoring 167 ( 0.5%) Users that have less than 1 test interactions\n",
      "EvaluatorHoldout: Processed 35569 (100.0%) in 32.77 sec. Users per second: 1086\n",
      "Similarity column 38121 (100.0%), 2691.26 column/sec. Elapsed time 14.16 sec\n",
      "EvaluatorHoldout: Ignoring 172 ( 0.5%) Users that have less than 1 test interactions\n",
      "EvaluatorHoldout: Processed 35564 (100.0%) in 32.80 sec. Users per second: 1084\n"
     ]
    },
    {
     "name": "stderr",
     "output_type": "stream",
     "text": [
      "[I 2025-01-05 11:00:44,107] Trial 304 finished with value: 0.050529757918228224 and parameters: {'similarity': 'tversky', 'topK': 17, 'shrink': 71, 'feature_weighting': 'none', 'tversky_alpha': 0.06370439023474427, 'tversky_beta': 1.7962450233911453}. Best is trial 267 with value: 0.05351701566277965.\n"
     ]
    },
    {
     "name": "stdout",
     "output_type": "stream",
     "text": [
      "Similarity column 38121 (100.0%), 2651.63 column/sec. Elapsed time 14.38 sec\n",
      "EvaluatorHoldout: Ignoring 173 ( 0.5%) Users that have less than 1 test interactions\n",
      "EvaluatorHoldout: Processed 35563 (100.0%) in 35.12 sec. Users per second: 1013\n",
      "Similarity column 38121 (100.0%), 2696.80 column/sec. Elapsed time 14.14 sec\n",
      "EvaluatorHoldout: Ignoring 163 ( 0.5%) Users that have less than 1 test interactions\n",
      "EvaluatorHoldout: Processed 35573 (100.0%) in 35.30 sec. Users per second: 1008\n",
      "Similarity column 38121 (100.0%), 2667.41 column/sec. Elapsed time 14.29 sec\n",
      "EvaluatorHoldout: Ignoring 150 ( 0.4%) Users that have less than 1 test interactions\n",
      "EvaluatorHoldout: Processed 35586 (100.0%) in 35.67 sec. Users per second: 998\n",
      "Similarity column 38121 (100.0%), 2687.00 column/sec. Elapsed time 14.19 sec\n",
      "EvaluatorHoldout: Ignoring 167 ( 0.5%) Users that have less than 1 test interactions\n",
      "EvaluatorHoldout: Processed 35569 (100.0%) in 35.11 sec. Users per second: 1013\n",
      "Similarity column 38121 (100.0%), 2679.68 column/sec. Elapsed time 14.23 sec\n",
      "EvaluatorHoldout: Ignoring 172 ( 0.5%) Users that have less than 1 test interactions\n",
      "EvaluatorHoldout: Processed 35564 (100.0%) in 35.09 sec. Users per second: 1013\n"
     ]
    },
    {
     "name": "stderr",
     "output_type": "stream",
     "text": [
      "[I 2025-01-05 11:04:53,920] Trial 305 finished with value: 0.047743133713452346 and parameters: {'similarity': 'tversky', 'topK': 61, 'shrink': 23, 'feature_weighting': 'none', 'tversky_alpha': 0.14262390572525138, 'tversky_beta': 1.503626085146554}. Best is trial 267 with value: 0.05351701566277965.\n"
     ]
    },
    {
     "name": "stdout",
     "output_type": "stream",
     "text": [
      "Similarity column 38121 (100.0%), 2607.91 column/sec. Elapsed time 14.62 sec\n",
      "EvaluatorHoldout: Ignoring 173 ( 0.5%) Users that have less than 1 test interactions\n",
      "EvaluatorHoldout: Processed 35563 (100.0%) in 48.51 sec. Users per second: 733\n",
      "Similarity column 38121 (100.0%), 2546.32 column/sec. Elapsed time 14.97 sec\n",
      "EvaluatorHoldout: Ignoring 163 ( 0.5%) Users that have less than 1 test interactions\n",
      "EvaluatorHoldout: Processed 35573 (100.0%) in 48.88 sec. Users per second: 728\n",
      "Similarity column 38121 (100.0%), 2597.65 column/sec. Elapsed time 14.68 sec\n",
      "EvaluatorHoldout: Ignoring 150 ( 0.4%) Users that have less than 1 test interactions\n",
      "EvaluatorHoldout: Processed 35586 (100.0%) in 48.88 sec. Users per second: 728\n",
      "Similarity column 38121 (100.0%), 2605.14 column/sec. Elapsed time 14.63 sec\n",
      "EvaluatorHoldout: Ignoring 167 ( 0.5%) Users that have less than 1 test interactions\n",
      "EvaluatorHoldout: Processed 35569 (100.0%) in 48.33 sec. Users per second: 736\n",
      "Similarity column 38121 (100.0%), 2617.53 column/sec. Elapsed time 14.56 sec\n",
      "EvaluatorHoldout: Ignoring 172 ( 0.5%) Users that have less than 1 test interactions\n",
      "EvaluatorHoldout: Processed 35564 (100.0%) in 48.59 sec. Users per second: 732\n"
     ]
    },
    {
     "name": "stderr",
     "output_type": "stream",
     "text": [
      "[I 2025-01-05 11:10:15,222] Trial 306 finished with value: 0.030807682327581472 and parameters: {'similarity': 'tversky', 'topK': 352, 'shrink': 528, 'feature_weighting': 'none', 'tversky_alpha': 0.02992628339467638, 'tversky_beta': 1.170438114244506}. Best is trial 267 with value: 0.05351701566277965.\n"
     ]
    },
    {
     "name": "stdout",
     "output_type": "stream",
     "text": [
      "Similarity column 38121 (100.0%), 2683.21 column/sec. Elapsed time 14.21 sec\n",
      "EvaluatorHoldout: Ignoring 173 ( 0.5%) Users that have less than 1 test interactions\n",
      "EvaluatorHoldout: Processed 35563 (100.0%) in 33.78 sec. Users per second: 1053\n",
      "Similarity column 38121 (100.0%), 2728.89 column/sec. Elapsed time 13.97 sec\n",
      "EvaluatorHoldout: Ignoring 163 ( 0.5%) Users that have less than 1 test interactions\n",
      "EvaluatorHoldout: Processed 35573 (100.0%) in 33.98 sec. Users per second: 1047\n",
      "Similarity column 38121 (100.0%), 2697.41 column/sec. Elapsed time 14.13 sec\n",
      "EvaluatorHoldout: Ignoring 150 ( 0.4%) Users that have less than 1 test interactions\n",
      "EvaluatorHoldout: Processed 35586 (100.0%) in 34.10 sec. Users per second: 1044\n",
      "Similarity column 38121 (100.0%), 2701.02 column/sec. Elapsed time 14.11 sec\n",
      "EvaluatorHoldout: Ignoring 167 ( 0.5%) Users that have less than 1 test interactions\n",
      "EvaluatorHoldout: Processed 35569 (100.0%) in 33.97 sec. Users per second: 1047\n",
      "Similarity column 38121 (100.0%), 2706.18 column/sec. Elapsed time 14.09 sec\n",
      "EvaluatorHoldout: Ignoring 172 ( 0.5%) Users that have less than 1 test interactions\n",
      "EvaluatorHoldout: Processed 35564 (100.0%) in 34.01 sec. Users per second: 1046\n"
     ]
    },
    {
     "name": "stderr",
     "output_type": "stream",
     "text": [
      "[I 2025-01-05 11:14:17,604] Trial 307 finished with value: 0.04936410099543398 and parameters: {'similarity': 'tversky', 'topK': 37, 'shrink': 40, 'feature_weighting': 'none', 'tversky_alpha': 0.0011215441705307444, 'tversky_beta': 1.84364670802145}. Best is trial 267 with value: 0.05351701566277965.\n"
     ]
    },
    {
     "name": "stdout",
     "output_type": "stream",
     "text": [
      "Similarity column 38121 (100.0%), 2705.62 column/sec. Elapsed time 14.09 sec\n",
      "EvaluatorHoldout: Ignoring 173 ( 0.5%) Users that have less than 1 test interactions\n",
      "EvaluatorHoldout: Processed 35563 (100.0%) in 31.68 sec. Users per second: 1122\n",
      "Similarity column 38121 (100.0%), 2715.18 column/sec. Elapsed time 14.04 sec\n",
      "EvaluatorHoldout: Ignoring 163 ( 0.5%) Users that have less than 1 test interactions\n",
      "EvaluatorHoldout: Processed 35573 (100.0%) in 32.04 sec. Users per second: 1110\n",
      "Similarity column 38121 (100.0%), 2719.47 column/sec. Elapsed time 14.02 sec\n",
      "EvaluatorHoldout: Ignoring 150 ( 0.4%) Users that have less than 1 test interactions\n",
      "EvaluatorHoldout: Processed 35586 (100.0%) in 31.90 sec. Users per second: 1115\n",
      "Similarity column 38121 (100.0%), 2714.19 column/sec. Elapsed time 14.05 sec\n",
      "EvaluatorHoldout: Ignoring 167 ( 0.5%) Users that have less than 1 test interactions\n",
      "EvaluatorHoldout: Processed 35569 (100.0%) in 31.91 sec. Users per second: 1115\n",
      "Similarity column 38121 (100.0%), 2718.91 column/sec. Elapsed time 14.02 sec\n",
      "EvaluatorHoldout: Ignoring 172 ( 0.5%) Users that have less than 1 test interactions\n",
      "EvaluatorHoldout: Processed 35564 (100.0%) in 32.09 sec. Users per second: 1108\n"
     ]
    },
    {
     "name": "stderr",
     "output_type": "stream",
     "text": [
      "[I 2025-01-05 11:18:09,372] Trial 308 finished with value: 0.05293868035823385 and parameters: {'similarity': 'tversky', 'topK': 15, 'shrink': 21, 'feature_weighting': 'none', 'tversky_alpha': 0.0766021259724886, 'tversky_beta': 1.8730560838614327}. Best is trial 267 with value: 0.05351701566277965.\n"
     ]
    },
    {
     "name": "stdout",
     "output_type": "stream",
     "text": [
      "Similarity column 38121 (100.0%), 3517.25 column/sec. Elapsed time 10.84 sec\n",
      "EvaluatorHoldout: Ignoring 173 ( 0.5%) Users that have less than 1 test interactions\n",
      "EvaluatorHoldout: Processed 35563 (100.0%) in 25.19 sec. Users per second: 1412\n",
      "Similarity column 38121 (100.0%), 3505.48 column/sec. Elapsed time 10.87 sec\n",
      "EvaluatorHoldout: Ignoring 163 ( 0.5%) Users that have less than 1 test interactions\n",
      "EvaluatorHoldout: Processed 35573 (100.0%) in 25.25 sec. Users per second: 1409\n",
      "Similarity column 38121 (100.0%), 3486.33 column/sec. Elapsed time 10.93 sec\n",
      "EvaluatorHoldout: Ignoring 150 ( 0.4%) Users that have less than 1 test interactions\n",
      "EvaluatorHoldout: Processed 35586 (100.0%) in 25.26 sec. Users per second: 1409\n",
      "Similarity column 38121 (100.0%), 3483.41 column/sec. Elapsed time 10.94 sec\n",
      "EvaluatorHoldout: Ignoring 167 ( 0.5%) Users that have less than 1 test interactions\n",
      "EvaluatorHoldout: Processed 35569 (100.0%) in 25.39 sec. Users per second: 1401\n",
      "Similarity column 38121 (100.0%), 3490.92 column/sec. Elapsed time 10.92 sec\n",
      "EvaluatorHoldout: Ignoring 172 ( 0.5%) Users that have less than 1 test interactions\n",
      "EvaluatorHoldout: Processed 35564 (100.0%) in 25.61 sec. Users per second: 1389\n"
     ]
    },
    {
     "name": "stderr",
     "output_type": "stream",
     "text": [
      "[I 2025-01-05 11:21:12,457] Trial 309 finished with value: 0.0002664826418719655 and parameters: {'similarity': 'tversky', 'topK': 0, 'shrink': 79, 'feature_weighting': 'none', 'tversky_alpha': 0.08228628141585143, 'tversky_beta': 1.8805692478977118}. Best is trial 267 with value: 0.05351701566277965.\n"
     ]
    },
    {
     "name": "stdout",
     "output_type": "stream",
     "text": [
      "Similarity column 38121 (100.0%), 2725.54 column/sec. Elapsed time 13.99 sec\n",
      "EvaluatorHoldout: Ignoring 173 ( 0.5%) Users that have less than 1 test interactions\n",
      "EvaluatorHoldout: Processed 35563 (100.0%) in 35.01 sec. Users per second: 1016\n",
      "Similarity column 38121 (100.0%), 2692.52 column/sec. Elapsed time 14.16 sec\n",
      "EvaluatorHoldout: Ignoring 163 ( 0.5%) Users that have less than 1 test interactions\n",
      "EvaluatorHoldout: Processed 35573 (100.0%) in 35.30 sec. Users per second: 1008\n",
      "Similarity column 38121 (100.0%), 2682.73 column/sec. Elapsed time 14.21 sec\n",
      "EvaluatorHoldout: Ignoring 150 ( 0.4%) Users that have less than 1 test interactions\n",
      "EvaluatorHoldout: Processed 35586 (100.0%) in 35.76 sec. Users per second: 995\n",
      "Similarity column 38121 (100.0%), 2672.50 column/sec. Elapsed time 14.26 sec\n",
      "EvaluatorHoldout: Ignoring 167 ( 0.5%) Users that have less than 1 test interactions\n",
      "EvaluatorHoldout: Processed 35569 (100.0%) in 35.16 sec. Users per second: 1012\n",
      "Similarity column 38121 (100.0%), 2731.77 column/sec. Elapsed time 13.95 sec\n",
      "EvaluatorHoldout: Ignoring 172 ( 0.5%) Users that have less than 1 test interactions\n",
      "EvaluatorHoldout: Processed 35564 (100.0%) in 35.06 sec. Users per second: 1014\n"
     ]
    },
    {
     "name": "stderr",
     "output_type": "stream",
     "text": [
      "[I 2025-01-05 11:25:21,314] Trial 310 finished with value: 0.04265414117226195 and parameters: {'similarity': 'tversky', 'topK': 21, 'shrink': 744, 'feature_weighting': 'none', 'tversky_alpha': 1.9762604654095672, 'tversky_beta': 1.9623152795225416}. Best is trial 267 with value: 0.05351701566277965.\n"
     ]
    },
    {
     "name": "stdout",
     "output_type": "stream",
     "text": [
      "Similarity column 38121 (100.0%), 2717.86 column/sec. Elapsed time 14.03 sec\n",
      "EvaluatorHoldout: Ignoring 173 ( 0.5%) Users that have less than 1 test interactions\n",
      "EvaluatorHoldout: Processed 35563 (100.0%) in 34.52 sec. Users per second: 1030\n",
      "Similarity column 38121 (100.0%), 2714.37 column/sec. Elapsed time 14.04 sec\n",
      "EvaluatorHoldout: Ignoring 163 ( 0.5%) Users that have less than 1 test interactions\n",
      "EvaluatorHoldout: Processed 35573 (100.0%) in 34.23 sec. Users per second: 1039\n",
      "Similarity column 38121 (100.0%), 2682.69 column/sec. Elapsed time 14.21 sec\n",
      "EvaluatorHoldout: Ignoring 150 ( 0.4%) Users that have less than 1 test interactions\n",
      "EvaluatorHoldout: Processed 35586 (100.0%) in 34.54 sec. Users per second: 1030\n",
      "Similarity column 38121 (100.0%), 2678.49 column/sec. Elapsed time 14.23 sec\n",
      "EvaluatorHoldout: Ignoring 167 ( 0.5%) Users that have less than 1 test interactions\n",
      "EvaluatorHoldout: Processed 35569 (100.0%) in 34.24 sec. Users per second: 1039\n",
      "Similarity column 38121 (100.0%), 2694.74 column/sec. Elapsed time 14.15 sec\n",
      "EvaluatorHoldout: Ignoring 172 ( 0.5%) Users that have less than 1 test interactions\n",
      "EvaluatorHoldout: Processed 35564 (100.0%) in 34.32 sec. Users per second: 1036\n"
     ]
    },
    {
     "name": "stderr",
     "output_type": "stream",
     "text": [
      "[I 2025-01-05 11:29:25,896] Trial 311 finished with value: 0.048691379157994576 and parameters: {'similarity': 'tversky', 'topK': 38, 'shrink': 54, 'feature_weighting': 'none', 'tversky_alpha': 0.1311764118592146, 'tversky_beta': 1.8831682889363297}. Best is trial 267 with value: 0.05351701566277965.\n"
     ]
    },
    {
     "name": "stdout",
     "output_type": "stream",
     "text": [
      "Similarity column 38121 (100.0%), 2616.16 column/sec. Elapsed time 14.57 sec\n",
      "EvaluatorHoldout: Ignoring 173 ( 0.5%) Users that have less than 1 test interactions\n",
      "EvaluatorHoldout: Processed 35563 (100.0%) in 40.46 sec. Users per second: 879\n",
      "Similarity column 38121 (100.0%), 2641.15 column/sec. Elapsed time 14.43 sec\n",
      "EvaluatorHoldout: Ignoring 163 ( 0.5%) Users that have less than 1 test interactions\n",
      "EvaluatorHoldout: Processed 35573 (100.0%) in 41.45 sec. Users per second: 858\n",
      "Similarity column 38121 (100.0%), 2635.04 column/sec. Elapsed time 14.47 sec\n",
      "EvaluatorHoldout: Ignoring 150 ( 0.4%) Users that have less than 1 test interactions\n",
      "EvaluatorHoldout: Processed 35586 (100.0%) in 41.39 sec. Users per second: 860\n",
      "Similarity column 38121 (100.0%), 2619.92 column/sec. Elapsed time 14.55 sec\n",
      "EvaluatorHoldout: Ignoring 167 ( 0.5%) Users that have less than 1 test interactions\n",
      "EvaluatorHoldout: Processed 35569 (100.0%) in 40.70 sec. Users per second: 874\n",
      "Similarity column 38121 (100.0%), 2637.63 column/sec. Elapsed time 14.45 sec\n",
      "EvaluatorHoldout: Ignoring 172 ( 0.5%) Users that have less than 1 test interactions\n",
      "EvaluatorHoldout: Processed 35564 (100.0%) in 40.91 sec. Users per second: 869\n"
     ]
    },
    {
     "name": "stderr",
     "output_type": "stream",
     "text": [
      "[I 2025-01-05 11:34:06,832] Trial 312 finished with value: 0.045019433248485036 and parameters: {'similarity': 'tversky', 'topK': 226, 'shrink': 23, 'feature_weighting': 'none', 'tversky_alpha': 0.6967277569297775, 'tversky_beta': 1.7214270243973537}. Best is trial 267 with value: 0.05351701566277965.\n"
     ]
    },
    {
     "name": "stdout",
     "output_type": "stream",
     "text": [
      "Similarity column 38121 (100.0%), 2965.67 column/sec. Elapsed time 12.85 sec\n",
      "EvaluatorHoldout: Ignoring 173 ( 0.5%) Users that have less than 1 test interactions\n",
      "EvaluatorHoldout: Processed 35563 (100.0%) in 32.77 sec. Users per second: 1085\n",
      "Similarity column 38121 (100.0%), 2976.13 column/sec. Elapsed time 12.81 sec\n",
      "EvaluatorHoldout: Ignoring 163 ( 0.5%) Users that have less than 1 test interactions\n",
      "EvaluatorHoldout: Processed 35573 (100.0%) in 32.98 sec. Users per second: 1078\n",
      "Similarity column 38121 (100.0%), 2996.63 column/sec. Elapsed time 12.72 sec\n",
      "EvaluatorHoldout: Ignoring 150 ( 0.4%) Users that have less than 1 test interactions\n",
      "EvaluatorHoldout: Processed 35586 (100.0%) in 33.26 sec. Users per second: 1070\n",
      "Similarity column 38121 (100.0%), 2951.89 column/sec. Elapsed time 12.91 sec\n",
      "EvaluatorHoldout: Ignoring 167 ( 0.5%) Users that have less than 1 test interactions\n",
      "EvaluatorHoldout: Processed 35569 (100.0%) in 33.16 sec. Users per second: 1073\n",
      "Similarity column 38121 (100.0%), 2979.48 column/sec. Elapsed time 12.79 sec\n",
      "EvaluatorHoldout: Ignoring 172 ( 0.5%) Users that have less than 1 test interactions\n",
      "EvaluatorHoldout: Processed 35564 (100.0%) in 33.15 sec. Users per second: 1073\n"
     ]
    },
    {
     "name": "stderr",
     "output_type": "stream",
     "text": [
      "[I 2025-01-05 11:37:58,652] Trial 313 finished with value: 0.04772679808345506 and parameters: {'similarity': 'jaccard', 'topK': 16, 'shrink': 38, 'feature_weighting': 'BM25'}. Best is trial 267 with value: 0.05351701566277965.\n"
     ]
    },
    {
     "name": "stdout",
     "output_type": "stream",
     "text": [
      "Similarity column 38121 (100.0%), 2680.82 column/sec. Elapsed time 14.22 sec\n",
      "EvaluatorHoldout: Ignoring 173 ( 0.5%) Users that have less than 1 test interactions\n",
      "EvaluatorHoldout: Processed 35563 (100.0%) in 34.37 sec. Users per second: 1035\n",
      "Similarity column 38121 (100.0%), 2694.49 column/sec. Elapsed time 14.15 sec\n",
      "EvaluatorHoldout: Ignoring 163 ( 0.5%) Users that have less than 1 test interactions\n",
      "EvaluatorHoldout: Processed 35573 (100.0%) in 35.07 sec. Users per second: 1014\n",
      "Similarity column 38121 (100.0%), 2655.12 column/sec. Elapsed time 14.36 sec\n",
      "EvaluatorHoldout: Ignoring 150 ( 0.4%) Users that have less than 1 test interactions\n",
      "EvaluatorHoldout: Processed 35586 (100.0%) in 35.17 sec. Users per second: 1012\n",
      "Similarity column 38121 (100.0%), 2669.03 column/sec. Elapsed time 14.28 sec\n",
      "EvaluatorHoldout: Ignoring 167 ( 0.5%) Users that have less than 1 test interactions\n",
      "EvaluatorHoldout: Processed 35569 (100.0%) in 34.45 sec. Users per second: 1033\n",
      "Similarity column 38121 (100.0%), 2674.45 column/sec. Elapsed time 14.25 sec\n",
      "EvaluatorHoldout: Ignoring 172 ( 0.5%) Users that have less than 1 test interactions\n",
      "EvaluatorHoldout: Processed 35564 (100.0%) in 34.56 sec. Users per second: 1029\n"
     ]
    },
    {
     "name": "stderr",
     "output_type": "stream",
     "text": [
      "[I 2025-01-05 11:42:05,776] Trial 314 finished with value: 0.04883103346022026 and parameters: {'similarity': 'tversky', 'topK': 54, 'shrink': 18, 'feature_weighting': 'none', 'tversky_alpha': 0.0754181652768079, 'tversky_beta': 1.7820990174413311}. Best is trial 267 with value: 0.05351701566277965.\n"
     ]
    },
    {
     "name": "stdout",
     "output_type": "stream",
     "text": [
      "Similarity column 38121 (100.0%), 2833.70 column/sec. Elapsed time 13.45 sec\n",
      "EvaluatorHoldout: Ignoring 173 ( 0.5%) Users that have less than 1 test interactions\n",
      "EvaluatorHoldout: Processed 35563 (100.0%) in 35.78 sec. Users per second: 994\n",
      "Similarity column 38121 (100.0%), 2819.20 column/sec. Elapsed time 13.52 sec\n",
      "EvaluatorHoldout: Ignoring 163 ( 0.5%) Users that have less than 1 test interactions\n",
      "EvaluatorHoldout: Processed 35573 (100.0%) in 36.15 sec. Users per second: 984\n",
      "Similarity column 38121 (100.0%), 2810.33 column/sec. Elapsed time 13.56 sec\n",
      "EvaluatorHoldout: Ignoring 150 ( 0.4%) Users that have less than 1 test interactions\n",
      "EvaluatorHoldout: Processed 35586 (100.0%) in 35.83 sec. Users per second: 993\n",
      "Similarity column 38121 (100.0%), 2840.93 column/sec. Elapsed time 13.42 sec\n",
      "EvaluatorHoldout: Ignoring 167 ( 0.5%) Users that have less than 1 test interactions\n",
      "EvaluatorHoldout: Processed 35569 (100.0%) in 35.99 sec. Users per second: 988\n",
      "Similarity column 38121 (100.0%), 2810.29 column/sec. Elapsed time 13.56 sec\n",
      "EvaluatorHoldout: Ignoring 172 ( 0.5%) Users that have less than 1 test interactions\n",
      "EvaluatorHoldout: Processed 35564 (100.0%) in 35.89 sec. Users per second: 991\n"
     ]
    },
    {
     "name": "stderr",
     "output_type": "stream",
     "text": [
      "[I 2025-01-05 11:46:14,087] Trial 315 finished with value: 0.04602518466429443 and parameters: {'similarity': 'asymmetric', 'topK': 27, 'shrink': 53, 'feature_weighting': 'none', 'asymmetric_alpha': 0.6021610970052698}. Best is trial 267 with value: 0.05351701566277965.\n"
     ]
    },
    {
     "name": "stdout",
     "output_type": "stream",
     "text": [
      "Similarity column 38121 (100.0%), 3504.24 column/sec. Elapsed time 10.88 sec\n",
      "EvaluatorHoldout: Ignoring 173 ( 0.5%) Users that have less than 1 test interactions\n",
      "EvaluatorHoldout: Processed 35563 (100.0%) in 25.23 sec. Users per second: 1410\n",
      "Similarity column 38121 (100.0%), 3505.84 column/sec. Elapsed time 10.87 sec\n",
      "EvaluatorHoldout: Ignoring 163 ( 0.5%) Users that have less than 1 test interactions\n",
      "EvaluatorHoldout: Processed 35573 (100.0%) in 25.28 sec. Users per second: 1407\n",
      "Similarity column 38121 (100.0%), 3506.68 column/sec. Elapsed time 10.87 sec\n",
      "EvaluatorHoldout: Ignoring 150 ( 0.4%) Users that have less than 1 test interactions\n",
      "EvaluatorHoldout: Processed 35586 (100.0%) in 25.52 sec. Users per second: 1394\n",
      "Similarity column 38121 (100.0%), 3477.94 column/sec. Elapsed time 10.96 sec\n",
      "EvaluatorHoldout: Ignoring 167 ( 0.5%) Users that have less than 1 test interactions\n",
      "EvaluatorHoldout: Processed 35569 (100.0%) in 25.23 sec. Users per second: 1410\n",
      "Similarity column 38121 (100.0%), 3481.45 column/sec. Elapsed time 10.95 sec\n",
      "EvaluatorHoldout: Ignoring 172 ( 0.5%) Users that have less than 1 test interactions\n",
      "EvaluatorHoldout: Processed 35564 (100.0%) in 25.77 sec. Users per second: 1380\n"
     ]
    },
    {
     "name": "stderr",
     "output_type": "stream",
     "text": [
      "[I 2025-01-05 11:49:17,427] Trial 316 finished with value: 0.0002664826418719655 and parameters: {'similarity': 'tversky', 'topK': 0, 'shrink': 35, 'feature_weighting': 'none', 'tversky_alpha': 0.048085367474256506, 'tversky_beta': 1.351170270550873}. Best is trial 267 with value: 0.05351701566277965.\n"
     ]
    },
    {
     "name": "stdout",
     "output_type": "stream",
     "text": [
      "Similarity column 38121 (100.0%), 2702.64 column/sec. Elapsed time 14.11 sec\n",
      "EvaluatorHoldout: Ignoring 173 ( 0.5%) Users that have less than 1 test interactions\n",
      "EvaluatorHoldout: Processed 35563 (100.0%) in 32.67 sec. Users per second: 1088\n",
      "Similarity column 38121 (100.0%), 2713.16 column/sec. Elapsed time 14.05 sec\n",
      "EvaluatorHoldout: Ignoring 163 ( 0.5%) Users that have less than 1 test interactions\n",
      "EvaluatorHoldout: Processed 35573 (100.0%) in 33.18 sec. Users per second: 1072\n",
      "Similarity column 38121 (100.0%), 2690.76 column/sec. Elapsed time 14.17 sec\n",
      "EvaluatorHoldout: Ignoring 150 ( 0.4%) Users that have less than 1 test interactions\n",
      "EvaluatorHoldout: Processed 35586 (100.0%) in 32.58 sec. Users per second: 1092\n",
      "Similarity column 38121 (100.0%), 2701.23 column/sec. Elapsed time 14.11 sec\n",
      "EvaluatorHoldout: Ignoring 167 ( 0.5%) Users that have less than 1 test interactions\n",
      "EvaluatorHoldout: Processed 35569 (100.0%) in 32.77 sec. Users per second: 1085\n",
      "Similarity column 38121 (100.0%), 2697.83 column/sec. Elapsed time 14.13 sec\n",
      "EvaluatorHoldout: Ignoring 172 ( 0.5%) Users that have less than 1 test interactions\n",
      "EvaluatorHoldout: Processed 35564 (100.0%) in 32.69 sec. Users per second: 1088\n"
     ]
    },
    {
     "name": "stderr",
     "output_type": "stream",
     "text": [
      "[I 2025-01-05 11:53:13,771] Trial 317 finished with value: 0.05084333155381747 and parameters: {'similarity': 'tversky', 'topK': 16, 'shrink': 73, 'feature_weighting': 'none', 'tversky_alpha': 0.10148643192531935, 'tversky_beta': 1.8581384223514132}. Best is trial 267 with value: 0.05351701566277965.\n"
     ]
    },
    {
     "name": "stdout",
     "output_type": "stream",
     "text": [
      "Similarity column 38121 (100.0%), 2722.98 column/sec. Elapsed time 14.00 sec\n",
      "EvaluatorHoldout: Ignoring 173 ( 0.5%) Users that have less than 1 test interactions\n",
      "EvaluatorHoldout: Processed 35563 (100.0%) in 35.11 sec. Users per second: 1013\n",
      "Similarity column 38121 (100.0%), 2697.38 column/sec. Elapsed time 14.13 sec\n",
      "EvaluatorHoldout: Ignoring 163 ( 0.5%) Users that have less than 1 test interactions\n",
      "EvaluatorHoldout: Processed 35573 (100.0%) in 34.96 sec. Users per second: 1018\n",
      "Similarity column 38121 (100.0%), 2691.69 column/sec. Elapsed time 14.16 sec\n",
      "EvaluatorHoldout: Ignoring 150 ( 0.4%) Users that have less than 1 test interactions\n",
      "EvaluatorHoldout: Processed 35586 (100.0%) in 34.62 sec. Users per second: 1028\n",
      "Similarity column 38121 (100.0%), 2694.07 column/sec. Elapsed time 14.15 sec\n",
      "EvaluatorHoldout: Ignoring 167 ( 0.5%) Users that have less than 1 test interactions\n",
      "EvaluatorHoldout: Processed 35569 (100.0%) in 34.56 sec. Users per second: 1029\n",
      "Similarity column 38121 (100.0%), 2702.66 column/sec. Elapsed time 14.11 sec\n",
      "EvaluatorHoldout: Ignoring 172 ( 0.5%) Users that have less than 1 test interactions\n",
      "EvaluatorHoldout: Processed 35564 (100.0%) in 34.72 sec. Users per second: 1024\n"
     ]
    },
    {
     "name": "stderr",
     "output_type": "stream",
     "text": [
      "[I 2025-01-05 11:57:20,415] Trial 318 finished with value: 0.04915832064079717 and parameters: {'similarity': 'tversky', 'topK': 38, 'shrink': 22, 'feature_weighting': 'none', 'tversky_alpha': 1.6427650911873553, 'tversky_beta': 1.9566615712429634}. Best is trial 267 with value: 0.05351701566277965.\n"
     ]
    },
    {
     "name": "stdout",
     "output_type": "stream",
     "text": [
      "Similarity column 38121 (100.0%), 2716.59 column/sec. Elapsed time 14.03 sec\n",
      "EvaluatorHoldout: Ignoring 173 ( 0.5%) Users that have less than 1 test interactions\n",
      "EvaluatorHoldout: Processed 35563 (100.0%) in 33.22 sec. Users per second: 1071\n",
      "Similarity column 38121 (100.0%), 2692.52 column/sec. Elapsed time 14.16 sec\n",
      "EvaluatorHoldout: Ignoring 163 ( 0.5%) Users that have less than 1 test interactions\n",
      "EvaluatorHoldout: Processed 35573 (100.0%) in 33.06 sec. Users per second: 1076\n",
      "Similarity column 38121 (100.0%), 2717.98 column/sec. Elapsed time 14.03 sec\n",
      "EvaluatorHoldout: Ignoring 150 ( 0.4%) Users that have less than 1 test interactions\n",
      "EvaluatorHoldout: Processed 35586 (100.0%) in 33.28 sec. Users per second: 1069\n",
      "Similarity column 38121 (100.0%), 2709.07 column/sec. Elapsed time 14.07 sec\n",
      "EvaluatorHoldout: Ignoring 167 ( 0.5%) Users that have less than 1 test interactions\n",
      "EvaluatorHoldout: Processed 35569 (100.0%) in 33.53 sec. Users per second: 1061\n",
      "Similarity column 38121 (100.0%), 2719.21 column/sec. Elapsed time 14.02 sec\n",
      "EvaluatorHoldout: Ignoring 172 ( 0.5%) Users that have less than 1 test interactions\n",
      "EvaluatorHoldout: Processed 35564 (100.0%) in 33.16 sec. Users per second: 1073\n"
     ]
    },
    {
     "name": "stderr",
     "output_type": "stream",
     "text": [
      "[I 2025-01-05 12:01:19,000] Trial 319 finished with value: 0.05034803846721865 and parameters: {'similarity': 'tversky', 'topK': 24, 'shrink': 58, 'feature_weighting': 'none', 'tversky_alpha': 0.14360603746710673, 'tversky_beta': 1.9059546681431183}. Best is trial 267 with value: 0.05351701566277965.\n"
     ]
    },
    {
     "name": "stdout",
     "output_type": "stream",
     "text": [
      "Similarity column 38121 (100.0%), 2725.97 column/sec. Elapsed time 13.98 sec\n",
      "EvaluatorHoldout: Ignoring 173 ( 0.5%) Users that have less than 1 test interactions\n",
      "EvaluatorHoldout: Processed 35563 (100.0%) in 31.59 sec. Users per second: 1126\n",
      "Similarity column 38121 (100.0%), 2681.52 column/sec. Elapsed time 14.22 sec\n",
      "EvaluatorHoldout: Ignoring 163 ( 0.5%) Users that have less than 1 test interactions\n",
      "EvaluatorHoldout: Processed 35573 (100.0%) in 31.71 sec. Users per second: 1122\n",
      "Similarity column 38121 (100.0%), 2702.16 column/sec. Elapsed time 14.11 sec\n",
      "EvaluatorHoldout: Ignoring 150 ( 0.4%) Users that have less than 1 test interactions\n",
      "EvaluatorHoldout: Processed 35586 (100.0%) in 31.63 sec. Users per second: 1125\n",
      "Similarity column 38121 (100.0%), 2703.02 column/sec. Elapsed time 14.10 sec\n",
      "EvaluatorHoldout: Ignoring 167 ( 0.5%) Users that have less than 1 test interactions\n",
      "EvaluatorHoldout: Processed 35569 (100.0%) in 31.57 sec. Users per second: 1127\n",
      "Similarity column 38121 (100.0%), 2707.31 column/sec. Elapsed time 14.08 sec\n",
      "EvaluatorHoldout: Ignoring 172 ( 0.5%) Users that have less than 1 test interactions\n",
      "EvaluatorHoldout: Processed 35564 (100.0%) in 31.58 sec. Users per second: 1126\n"
     ]
    },
    {
     "name": "stderr",
     "output_type": "stream",
     "text": [
      "[I 2025-01-05 12:05:09,471] Trial 320 finished with value: 0.05332291730899048 and parameters: {'similarity': 'tversky', 'topK': 13, 'shrink': 19, 'feature_weighting': 'none', 'tversky_alpha': 0.07353966442050948, 'tversky_beta': 1.8367121354933544}. Best is trial 267 with value: 0.05351701566277965.\n"
     ]
    },
    {
     "name": "stdout",
     "output_type": "stream",
     "text": [
      "Similarity column 38121 (100.0%), 2693.45 column/sec. Elapsed time 14.15 sec\n",
      "EvaluatorHoldout: Ignoring 173 ( 0.5%) Users that have less than 1 test interactions\n",
      "EvaluatorHoldout: Processed 35563 (100.0%) in 33.55 sec. Users per second: 1060\n",
      "Similarity column 38121 (100.0%), 2693.94 column/sec. Elapsed time 14.15 sec\n",
      "EvaluatorHoldout: Ignoring 163 ( 0.5%) Users that have less than 1 test interactions\n",
      "EvaluatorHoldout: Processed 35573 (100.0%) in 33.69 sec. Users per second: 1056\n",
      "Similarity column 38121 (100.0%), 2676.60 column/sec. Elapsed time 14.24 sec\n",
      "EvaluatorHoldout: Ignoring 150 ( 0.4%) Users that have less than 1 test interactions\n",
      "EvaluatorHoldout: Processed 35586 (100.0%) in 33.80 sec. Users per second: 1053\n",
      "Similarity column 38121 (100.0%), 2712.10 column/sec. Elapsed time 14.06 sec\n",
      "EvaluatorHoldout: Ignoring 167 ( 0.5%) Users that have less than 1 test interactions\n",
      "EvaluatorHoldout: Processed 35569 (100.0%) in 33.50 sec. Users per second: 1062\n",
      "Similarity column 38121 (100.0%), 2676.80 column/sec. Elapsed time 14.24 sec\n",
      "EvaluatorHoldout: Ignoring 172 ( 0.5%) Users that have less than 1 test interactions\n",
      "EvaluatorHoldout: Processed 35564 (100.0%) in 34.01 sec. Users per second: 1046\n"
     ]
    },
    {
     "name": "stderr",
     "output_type": "stream",
     "text": [
      "[I 2025-01-05 12:09:10,954] Trial 321 finished with value: 0.05021782525860478 and parameters: {'similarity': 'tversky', 'topK': 38, 'shrink': 17, 'feature_weighting': 'none', 'tversky_alpha': 0.07635874987161867, 'tversky_beta': 1.8375147659141005}. Best is trial 267 with value: 0.05351701566277965.\n"
     ]
    },
    {
     "name": "stdout",
     "output_type": "stream",
     "text": [
      "Similarity column 38121 (100.0%), 3494.29 column/sec. Elapsed time 10.91 sec\n",
      "EvaluatorHoldout: Ignoring 173 ( 0.5%) Users that have less than 1 test interactions\n",
      "EvaluatorHoldout: Processed 35563 (100.0%) in 25.33 sec. Users per second: 1404\n",
      "Similarity column 38121 (100.0%), 3488.24 column/sec. Elapsed time 10.93 sec\n",
      "EvaluatorHoldout: Ignoring 163 ( 0.5%) Users that have less than 1 test interactions\n",
      "EvaluatorHoldout: Processed 35573 (100.0%) in 25.53 sec. Users per second: 1393\n",
      "Similarity column 38121 (100.0%), 3483.73 column/sec. Elapsed time 10.94 sec\n",
      "EvaluatorHoldout: Ignoring 150 ( 0.4%) Users that have less than 1 test interactions\n",
      "EvaluatorHoldout: Processed 35586 (100.0%) in 25.63 sec. Users per second: 1388\n",
      "Similarity column 38121 (100.0%), 3464.03 column/sec. Elapsed time 11.00 sec\n",
      "EvaluatorHoldout: Ignoring 167 ( 0.5%) Users that have less than 1 test interactions\n",
      "EvaluatorHoldout: Processed 35569 (100.0%) in 25.30 sec. Users per second: 1406\n",
      "Similarity column 38121 (100.0%), 3451.57 column/sec. Elapsed time 11.04 sec\n",
      "EvaluatorHoldout: Ignoring 172 ( 0.5%) Users that have less than 1 test interactions\n",
      "EvaluatorHoldout: Processed 35564 (100.0%) in 25.65 sec. Users per second: 1387\n"
     ]
    },
    {
     "name": "stderr",
     "output_type": "stream",
     "text": [
      "[I 2025-01-05 12:12:15,078] Trial 322 finished with value: 0.0002664826418719655 and parameters: {'similarity': 'tversky', 'topK': 0, 'shrink': 19, 'feature_weighting': 'none', 'tversky_alpha': 0.12423410553204892, 'tversky_beta': 1.890719645310358}. Best is trial 267 with value: 0.05351701566277965.\n"
     ]
    },
    {
     "name": "stdout",
     "output_type": "stream",
     "text": [
      "Similarity column 38121 (100.0%), 395.55 column/sec. Elapsed time 1.61 min\n",
      "EvaluatorHoldout: Ignoring 173 ( 0.5%) Users that have less than 1 test interactions\n",
      "EvaluatorHoldout: Processed 35563 (100.0%) in 35.46 sec. Users per second: 1003\n",
      "Similarity column 38121 (100.0%), 403.28 column/sec. Elapsed time 1.58 min\n",
      "EvaluatorHoldout: Ignoring 163 ( 0.5%) Users that have less than 1 test interactions\n",
      "EvaluatorHoldout: Processed 35573 (100.0%) in 35.64 sec. Users per second: 998\n",
      "Similarity column 38121 (100.0%), 407.42 column/sec. Elapsed time 1.56 min\n",
      "EvaluatorHoldout: Ignoring 150 ( 0.4%) Users that have less than 1 test interactions\n",
      "EvaluatorHoldout: Processed 35586 (100.0%) in 35.75 sec. Users per second: 996\n",
      "Similarity column 38121 (100.0%), 402.90 column/sec. Elapsed time 1.58 min\n",
      "EvaluatorHoldout: Ignoring 167 ( 0.5%) Users that have less than 1 test interactions\n",
      "EvaluatorHoldout: Processed 35569 (100.0%) in 35.33 sec. Users per second: 1007\n",
      "Similarity column 38121 (100.0%), 395.79 column/sec. Elapsed time 1.61 min\n",
      "EvaluatorHoldout: Ignoring 172 ( 0.5%) Users that have less than 1 test interactions\n",
      "EvaluatorHoldout: Processed 35564 (100.0%) in 35.42 sec. Users per second: 1004\n"
     ]
    },
    {
     "name": "stderr",
     "output_type": "stream",
     "text": [
      "[I 2025-01-05 12:23:09,043] Trial 323 finished with value: 0.030700959376724242 and parameters: {'similarity': 'euclidean', 'topK': 53, 'shrink': 44, 'feature_weighting': 'none', 'normalize_avg_row': True, 'similarity_from_distance_mode': 'log', 'normalize': True}. Best is trial 267 with value: 0.05351701566277965.\n"
     ]
    },
    {
     "name": "stdout",
     "output_type": "stream",
     "text": [
      "Similarity column 38121 (100.0%), 2575.02 column/sec. Elapsed time 14.80 sec\n",
      "EvaluatorHoldout: Ignoring 173 ( 0.5%) Users that have less than 1 test interactions\n",
      "EvaluatorHoldout: Processed 35563 (100.0%) in 46.87 sec. Users per second: 759\n",
      "Similarity column 38121 (100.0%), 2570.20 column/sec. Elapsed time 14.83 sec\n",
      "EvaluatorHoldout: Ignoring 163 ( 0.5%) Users that have less than 1 test interactions\n",
      "EvaluatorHoldout: Processed 35573 (100.0%) in 47.07 sec. Users per second: 756\n",
      "Similarity column 38121 (100.0%), 2564.45 column/sec. Elapsed time 14.87 sec\n",
      "EvaluatorHoldout: Ignoring 150 ( 0.4%) Users that have less than 1 test interactions\n",
      "EvaluatorHoldout: Processed 35586 (100.0%) in 47.36 sec. Users per second: 751\n",
      "Similarity column 38121 (100.0%), 2563.49 column/sec. Elapsed time 14.87 sec\n",
      "EvaluatorHoldout: Ignoring 167 ( 0.5%) Users that have less than 1 test interactions\n",
      "EvaluatorHoldout: Processed 35569 (100.0%) in 47.37 sec. Users per second: 751\n",
      "Similarity column 38121 (100.0%), 2573.98 column/sec. Elapsed time 14.81 sec\n",
      "EvaluatorHoldout: Ignoring 172 ( 0.5%) Users that have less than 1 test interactions\n",
      "EvaluatorHoldout: Processed 35564 (100.0%) in 46.88 sec. Users per second: 759\n"
     ]
    },
    {
     "name": "stderr",
     "output_type": "stream",
     "text": [
      "[I 2025-01-05 12:28:25,804] Trial 324 finished with value: 0.03892928588716499 and parameters: {'similarity': 'tversky', 'topK': 641, 'shrink': 0, 'feature_weighting': 'none', 'tversky_alpha': 0.07138964055312987, 'tversky_beta': 1.9529452834520544}. Best is trial 267 with value: 0.05351701566277965.\n"
     ]
    },
    {
     "name": "stdout",
     "output_type": "stream",
     "text": [
      "Similarity column 38121 (100.0%), 2713.12 column/sec. Elapsed time 14.05 sec\n",
      "EvaluatorHoldout: Ignoring 173 ( 0.5%) Users that have less than 1 test interactions\n",
      "EvaluatorHoldout: Processed 35563 (100.0%) in 35.32 sec. Users per second: 1007\n",
      "Similarity column 38121 (100.0%), 2714.39 column/sec. Elapsed time 14.04 sec\n",
      "EvaluatorHoldout: Ignoring 163 ( 0.5%) Users that have less than 1 test interactions\n",
      "EvaluatorHoldout: Processed 35573 (100.0%) in 35.33 sec. Users per second: 1007\n",
      "Similarity column 38121 (100.0%), 2712.91 column/sec. Elapsed time 14.05 sec\n",
      "EvaluatorHoldout: Ignoring 150 ( 0.4%) Users that have less than 1 test interactions\n",
      "EvaluatorHoldout: Processed 35586 (100.0%) in 35.35 sec. Users per second: 1007\n",
      "Similarity column 38121 (100.0%), 2702.79 column/sec. Elapsed time 14.10 sec\n",
      "EvaluatorHoldout: Ignoring 167 ( 0.5%) Users that have less than 1 test interactions\n",
      "EvaluatorHoldout: Processed 35569 (100.0%) in 35.30 sec. Users per second: 1008\n",
      "Similarity column 38121 (100.0%), 2711.36 column/sec. Elapsed time 14.06 sec\n",
      "EvaluatorHoldout: Ignoring 172 ( 0.5%) Users that have less than 1 test interactions\n",
      "EvaluatorHoldout: Processed 35564 (100.0%) in 35.30 sec. Users per second: 1008\n"
     ]
    },
    {
     "name": "stderr",
     "output_type": "stream",
     "text": [
      "[I 2025-01-05 12:32:34,762] Trial 325 finished with value: 0.03888675349644569 and parameters: {'similarity': 'tversky', 'topK': 25, 'shrink': 868, 'feature_weighting': 'none', 'tversky_alpha': 0.04569096454493369, 'tversky_beta': 1.8489421385476348}. Best is trial 267 with value: 0.05351701566277965.\n"
     ]
    },
    {
     "name": "stdout",
     "output_type": "stream",
     "text": [
      "Similarity column 38121 (100.0%), 2597.18 column/sec. Elapsed time 14.68 sec\n",
      "EvaluatorHoldout: Ignoring 173 ( 0.5%) Users that have less than 1 test interactions\n",
      "EvaluatorHoldout: Processed 35563 (100.0%) in 45.70 sec. Users per second: 778\n",
      "Similarity column 38121 (100.0%), 2593.85 column/sec. Elapsed time 14.70 sec\n",
      "EvaluatorHoldout: Ignoring 163 ( 0.5%) Users that have less than 1 test interactions\n",
      "EvaluatorHoldout: Processed 35573 (100.0%) in 45.52 sec. Users per second: 781\n",
      "Similarity column 38121 (100.0%), 2592.95 column/sec. Elapsed time 14.70 sec\n",
      "EvaluatorHoldout: Ignoring 150 ( 0.4%) Users that have less than 1 test interactions\n",
      "EvaluatorHoldout: Processed 35586 (100.0%) in 45.71 sec. Users per second: 779\n",
      "Similarity column 38121 (100.0%), 2586.08 column/sec. Elapsed time 14.74 sec\n",
      "EvaluatorHoldout: Ignoring 167 ( 0.5%) Users that have less than 1 test interactions\n",
      "EvaluatorHoldout: Processed 35569 (100.0%) in 45.67 sec. Users per second: 779\n",
      "Similarity column 38121 (100.0%), 2584.07 column/sec. Elapsed time 14.75 sec\n",
      "EvaluatorHoldout: Ignoring 172 ( 0.5%) Users that have less than 1 test interactions\n",
      "EvaluatorHoldout: Processed 35564 (100.0%) in 45.71 sec. Users per second: 778\n"
     ]
    },
    {
     "name": "stderr",
     "output_type": "stream",
     "text": [
      "[I 2025-01-05 12:37:42,588] Trial 326 finished with value: 0.03851616520440891 and parameters: {'similarity': 'tversky', 'topK': 532, 'shrink': 20, 'feature_weighting': 'none', 'tversky_alpha': 0.10135967747532285, 'tversky_beta': 1.9082829562873138}. Best is trial 267 with value: 0.05351701566277965.\n"
     ]
    },
    {
     "name": "stdout",
     "output_type": "stream",
     "text": [
      "Similarity column 38121 (100.0%), 2912.73 column/sec. Elapsed time 13.09 sec\n",
      "EvaluatorHoldout: Ignoring 173 ( 0.5%) Users that have less than 1 test interactions\n",
      "EvaluatorHoldout: Processed 35563 (100.0%) in 45.12 sec. Users per second: 788\n",
      "Similarity column 38121 (100.0%), 2910.37 column/sec. Elapsed time 13.10 sec\n",
      "EvaluatorHoldout: Ignoring 163 ( 0.5%) Users that have less than 1 test interactions\n",
      "EvaluatorHoldout: Processed 35573 (100.0%) in 44.90 sec. Users per second: 792\n",
      "Similarity column 38121 (100.0%), 2915.90 column/sec. Elapsed time 13.07 sec\n",
      "EvaluatorHoldout: Ignoring 150 ( 0.4%) Users that have less than 1 test interactions\n",
      "EvaluatorHoldout: Processed 35586 (100.0%) in 45.24 sec. Users per second: 787\n",
      "Similarity column 38121 (100.0%), 2919.27 column/sec. Elapsed time 13.06 sec\n",
      "EvaluatorHoldout: Ignoring 167 ( 0.5%) Users that have less than 1 test interactions\n",
      "EvaluatorHoldout: Processed 35569 (100.0%) in 46.01 sec. Users per second: 773\n",
      "Similarity column 38121 (100.0%), 2910.28 column/sec. Elapsed time 13.10 sec\n",
      "EvaluatorHoldout: Ignoring 172 ( 0.5%) Users that have less than 1 test interactions\n",
      "EvaluatorHoldout: Processed 35564 (100.0%) in 45.16 sec. Users per second: 788\n"
     ]
    },
    {
     "name": "stderr",
     "output_type": "stream",
     "text": [
      "[I 2025-01-05 12:42:38,460] Trial 327 finished with value: 0.04194539938141715 and parameters: {'similarity': 'dice', 'topK': 313, 'shrink': 79, 'feature_weighting': 'none'}. Best is trial 267 with value: 0.05351701566277965.\n"
     ]
    },
    {
     "name": "stdout",
     "output_type": "stream",
     "text": [
      "Similarity column 38121 (100.0%), 2700.78 column/sec. Elapsed time 14.11 sec\n",
      "EvaluatorHoldout: Ignoring 173 ( 0.5%) Users that have less than 1 test interactions\n",
      "EvaluatorHoldout: Processed 35563 (100.0%) in 32.79 sec. Users per second: 1085\n",
      "Similarity column 38121 (100.0%), 2679.29 column/sec. Elapsed time 14.23 sec\n",
      "EvaluatorHoldout: Ignoring 163 ( 0.5%) Users that have less than 1 test interactions\n",
      "EvaluatorHoldout: Processed 35573 (100.0%) in 33.64 sec. Users per second: 1057\n",
      "Similarity column 38121 (100.0%), 2688.08 column/sec. Elapsed time 14.18 sec\n",
      "EvaluatorHoldout: Ignoring 150 ( 0.4%) Users that have less than 1 test interactions\n",
      "EvaluatorHoldout: Processed 35586 (100.0%) in 32.32 sec. Users per second: 1101\n",
      "Similarity column 38121 (100.0%), 2677.76 column/sec. Elapsed time 14.24 sec\n",
      "EvaluatorHoldout: Ignoring 167 ( 0.5%) Users that have less than 1 test interactions\n",
      "EvaluatorHoldout: Processed 35569 (100.0%) in 32.32 sec. Users per second: 1101\n",
      "Similarity column 38121 (100.0%), 2693.99 column/sec. Elapsed time 14.15 sec\n",
      "EvaluatorHoldout: Ignoring 172 ( 0.5%) Users that have less than 1 test interactions\n",
      "EvaluatorHoldout: Processed 35564 (100.0%) in 32.43 sec. Users per second: 1097\n"
     ]
    },
    {
     "name": "stderr",
     "output_type": "stream",
     "text": [
      "[I 2025-01-05 12:46:34,835] Trial 328 finished with value: 0.05212252852978096 and parameters: {'similarity': 'tversky', 'topK': 16, 'shrink': 39, 'feature_weighting': 'none', 'tversky_alpha': 0.038964851980192054, 'tversky_beta': 1.819873879353691}. Best is trial 267 with value: 0.05351701566277965.\n"
     ]
    },
    {
     "name": "stdout",
     "output_type": "stream",
     "text": [
      "Similarity column 38121 (100.0%), 2711.85 column/sec. Elapsed time 14.06 sec\n",
      "EvaluatorHoldout: Ignoring 173 ( 0.5%) Users that have less than 1 test interactions\n",
      "EvaluatorHoldout: Processed 35563 (100.0%) in 34.26 sec. Users per second: 1038\n",
      "Similarity column 38121 (100.0%), 2692.71 column/sec. Elapsed time 14.16 sec\n",
      "EvaluatorHoldout: Ignoring 163 ( 0.5%) Users that have less than 1 test interactions\n",
      "EvaluatorHoldout: Processed 35573 (100.0%) in 34.11 sec. Users per second: 1043\n",
      "Similarity column 38121 (100.0%), 2675.73 column/sec. Elapsed time 14.25 sec\n",
      "EvaluatorHoldout: Ignoring 150 ( 0.4%) Users that have less than 1 test interactions\n",
      "EvaluatorHoldout: Processed 35586 (100.0%) in 34.07 sec. Users per second: 1045\n",
      "Similarity column 38121 (100.0%), 2669.13 column/sec. Elapsed time 14.28 sec\n",
      "EvaluatorHoldout: Ignoring 167 ( 0.5%) Users that have less than 1 test interactions\n",
      "EvaluatorHoldout: Processed 35569 (100.0%) in 33.91 sec. Users per second: 1049\n",
      "Similarity column 38121 (100.0%), 2695.09 column/sec. Elapsed time 14.14 sec\n",
      "EvaluatorHoldout: Ignoring 172 ( 0.5%) Users that have less than 1 test interactions\n",
      "EvaluatorHoldout: Processed 35564 (100.0%) in 33.88 sec. Users per second: 1050\n"
     ]
    },
    {
     "name": "stderr",
     "output_type": "stream",
     "text": [
      "[I 2025-01-05 12:50:37,999] Trial 329 finished with value: 0.049119631837963154 and parameters: {'similarity': 'tversky', 'topK': 34, 'shrink': 58, 'feature_weighting': 'none', 'tversky_alpha': 0.1473744918905165, 'tversky_beta': 1.9577698047081478}. Best is trial 267 with value: 0.05351701566277965.\n"
     ]
    },
    {
     "name": "stdout",
     "output_type": "stream",
     "text": [
      "Similarity column 38121 (100.0%), 2715.33 column/sec. Elapsed time 14.04 sec\n",
      "EvaluatorHoldout: Ignoring 173 ( 0.5%) Users that have less than 1 test interactions\n",
      "EvaluatorHoldout: Processed 35563 (100.0%) in 31.19 sec. Users per second: 1140\n",
      "Similarity column 38121 (100.0%), 2723.75 column/sec. Elapsed time 14.00 sec\n",
      "EvaluatorHoldout: Ignoring 163 ( 0.5%) Users that have less than 1 test interactions\n",
      "EvaluatorHoldout: Processed 35573 (100.0%) in 31.12 sec. Users per second: 1143\n",
      "Similarity column 38121 (100.0%), 2699.06 column/sec. Elapsed time 14.12 sec\n",
      "EvaluatorHoldout: Ignoring 150 ( 0.4%) Users that have less than 1 test interactions\n",
      "EvaluatorHoldout: Processed 35586 (100.0%) in 31.31 sec. Users per second: 1136\n",
      "Similarity column 38121 (100.0%), 2683.26 column/sec. Elapsed time 14.21 sec\n",
      "EvaluatorHoldout: Ignoring 167 ( 0.5%) Users that have less than 1 test interactions\n",
      "EvaluatorHoldout: Processed 35569 (100.0%) in 31.13 sec. Users per second: 1143\n",
      "Similarity column 38121 (100.0%), 2707.43 column/sec. Elapsed time 14.08 sec\n",
      "EvaluatorHoldout: Ignoring 172 ( 0.5%) Users that have less than 1 test interactions\n",
      "EvaluatorHoldout: Processed 35564 (100.0%) in 31.21 sec. Users per second: 1139\n"
     ]
    },
    {
     "name": "stderr",
     "output_type": "stream",
     "text": [
      "[I 2025-01-05 12:54:26,267] Trial 330 finished with value: 0.05318691699897445 and parameters: {'similarity': 'tversky', 'topK': 12, 'shrink': 17, 'feature_weighting': 'none', 'tversky_alpha': 0.0018155385433798743, 'tversky_beta': 1.8751057508618327}. Best is trial 267 with value: 0.05351701566277965.\n"
     ]
    },
    {
     "name": "stdout",
     "output_type": "stream",
     "text": [
      "Similarity column 38121 (100.0%), 2710.51 column/sec. Elapsed time 14.06 sec\n",
      "EvaluatorHoldout: Ignoring 173 ( 0.5%) Users that have less than 1 test interactions\n",
      "EvaluatorHoldout: Processed 35563 (100.0%) in 35.89 sec. Users per second: 991\n",
      "Similarity column 38121 (100.0%), 2665.93 column/sec. Elapsed time 14.30 sec\n",
      "EvaluatorHoldout: Ignoring 163 ( 0.5%) Users that have less than 1 test interactions\n",
      "EvaluatorHoldout: Processed 35573 (100.0%) in 35.66 sec. Users per second: 998\n",
      "Similarity column 38121 (100.0%), 2694.32 column/sec. Elapsed time 14.15 sec\n",
      "EvaluatorHoldout: Ignoring 150 ( 0.4%) Users that have less than 1 test interactions\n",
      "EvaluatorHoldout: Processed 35586 (100.0%) in 35.70 sec. Users per second: 997\n",
      "Similarity column 38121 (100.0%), 2674.52 column/sec. Elapsed time 14.25 sec\n",
      "EvaluatorHoldout: Ignoring 167 ( 0.5%) Users that have less than 1 test interactions\n",
      "EvaluatorHoldout: Processed 35569 (100.0%) in 35.65 sec. Users per second: 998\n",
      "Similarity column 38121 (100.0%), 2702.24 column/sec. Elapsed time 14.11 sec\n",
      "EvaluatorHoldout: Ignoring 172 ( 0.5%) Users that have less than 1 test interactions\n",
      "EvaluatorHoldout: Processed 35564 (100.0%) in 36.15 sec. Users per second: 984\n"
     ]
    },
    {
     "name": "stderr",
     "output_type": "stream",
     "text": [
      "[I 2025-01-05 12:58:38,510] Trial 331 finished with value: 0.04859005646792183 and parameters: {'similarity': 'tversky', 'topK': 68, 'shrink': 16, 'feature_weighting': 'none', 'tversky_alpha': 1.0226615561237538, 'tversky_beta': 1.9253571929734112}. Best is trial 267 with value: 0.05351701566277965.\n"
     ]
    },
    {
     "name": "stdout",
     "output_type": "stream",
     "text": [
      "Similarity column 38121 (100.0%), 2727.03 column/sec. Elapsed time 13.98 sec\n",
      "EvaluatorHoldout: Ignoring 173 ( 0.5%) Users that have less than 1 test interactions\n",
      "EvaluatorHoldout: Processed 35563 (100.0%) in 30.80 sec. Users per second: 1155\n",
      "Similarity column 38121 (100.0%), 2699.62 column/sec. Elapsed time 14.12 sec\n",
      "EvaluatorHoldout: Ignoring 163 ( 0.5%) Users that have less than 1 test interactions\n",
      "EvaluatorHoldout: Processed 35573 (100.0%) in 30.52 sec. Users per second: 1165\n",
      "Similarity column 38121 (100.0%), 2662.97 column/sec. Elapsed time 14.32 sec\n",
      "EvaluatorHoldout: Ignoring 150 ( 0.4%) Users that have less than 1 test interactions\n",
      "EvaluatorHoldout: Processed 35586 (100.0%) in 30.97 sec. Users per second: 1149\n",
      "Similarity column 38121 (100.0%), 2690.29 column/sec. Elapsed time 14.17 sec\n",
      "EvaluatorHoldout: Ignoring 167 ( 0.5%) Users that have less than 1 test interactions\n",
      "EvaluatorHoldout: Processed 35569 (100.0%) in 31.09 sec. Users per second: 1144\n",
      "Similarity column 38121 (100.0%), 2685.35 column/sec. Elapsed time 14.20 sec\n",
      "EvaluatorHoldout: Ignoring 172 ( 0.5%) Users that have less than 1 test interactions\n",
      "EvaluatorHoldout: Processed 35564 (100.0%) in 31.01 sec. Users per second: 1147\n"
     ]
    },
    {
     "name": "stderr",
     "output_type": "stream",
     "text": [
      "[I 2025-01-05 13:02:25,628] Trial 332 finished with value: 0.051068356184236205 and parameters: {'similarity': 'tversky', 'topK': 12, 'shrink': 0, 'feature_weighting': 'none', 'tversky_alpha': 0.00014237186257699298, 'tversky_beta': 1.8864999131505094}. Best is trial 267 with value: 0.05351701566277965.\n"
     ]
    },
    {
     "name": "stdout",
     "output_type": "stream",
     "text": [
      "Similarity column 38121 (100.0%), 2702.09 column/sec. Elapsed time 14.11 sec\n",
      "EvaluatorHoldout: Ignoring 173 ( 0.5%) Users that have less than 1 test interactions\n",
      "EvaluatorHoldout: Processed 35563 (100.0%) in 33.31 sec. Users per second: 1068\n",
      "Similarity column 38121 (100.0%), 2671.14 column/sec. Elapsed time 14.27 sec\n",
      "EvaluatorHoldout: Ignoring 163 ( 0.5%) Users that have less than 1 test interactions\n",
      "EvaluatorHoldout: Processed 35573 (100.0%) in 32.90 sec. Users per second: 1081\n",
      "Similarity column 38121 (100.0%), 2715.07 column/sec. Elapsed time 14.04 sec\n",
      "EvaluatorHoldout: Ignoring 150 ( 0.4%) Users that have less than 1 test interactions\n",
      "EvaluatorHoldout: Processed 35586 (100.0%) in 33.01 sec. Users per second: 1078\n",
      "Similarity column 38121 (100.0%), 2691.12 column/sec. Elapsed time 14.17 sec\n",
      "EvaluatorHoldout: Ignoring 167 ( 0.5%) Users that have less than 1 test interactions\n",
      "EvaluatorHoldout: Processed 35569 (100.0%) in 33.07 sec. Users per second: 1076\n",
      "Similarity column 38121 (100.0%), 2713.43 column/sec. Elapsed time 14.05 sec\n",
      "EvaluatorHoldout: Ignoring 172 ( 0.5%) Users that have less than 1 test interactions\n",
      "EvaluatorHoldout: Processed 35564 (100.0%) in 32.84 sec. Users per second: 1083\n"
     ]
    },
    {
     "name": "stderr",
     "output_type": "stream",
     "text": [
      "[I 2025-01-05 13:06:23,907] Trial 333 finished with value: 0.047562021882130046 and parameters: {'similarity': 'tversky', 'topK': 28, 'shrink': 20, 'feature_weighting': 'BM25', 'tversky_alpha': 0.03374535581962403, 'tversky_beta': 1.7973072469639002}. Best is trial 267 with value: 0.05351701566277965.\n"
     ]
    },
    {
     "name": "stdout",
     "output_type": "stream",
     "text": [
      "Similarity column 38121 (100.0%), 2636.00 column/sec. Elapsed time 14.46 sec\n",
      "EvaluatorHoldout: Ignoring 173 ( 0.5%) Users that have less than 1 test interactions\n",
      "EvaluatorHoldout: Processed 35563 (100.0%) in 34.46 sec. Users per second: 1032\n",
      "Similarity column 38121 (100.0%), 2687.72 column/sec. Elapsed time 14.18 sec\n",
      "EvaluatorHoldout: Ignoring 163 ( 0.5%) Users that have less than 1 test interactions\n",
      "EvaluatorHoldout: Processed 35573 (100.0%) in 34.57 sec. Users per second: 1029\n",
      "Similarity column 38121 (100.0%), 2682.22 column/sec. Elapsed time 14.21 sec\n",
      "EvaluatorHoldout: Ignoring 150 ( 0.4%) Users that have less than 1 test interactions\n",
      "EvaluatorHoldout: Processed 35586 (100.0%) in 34.60 sec. Users per second: 1028\n",
      "Similarity column 38121 (100.0%), 2699.22 column/sec. Elapsed time 14.12 sec\n",
      "EvaluatorHoldout: Ignoring 167 ( 0.5%) Users that have less than 1 test interactions\n",
      "EvaluatorHoldout: Processed 35569 (100.0%) in 34.36 sec. Users per second: 1035\n",
      "Similarity column 38121 (100.0%), 2698.88 column/sec. Elapsed time 14.12 sec\n",
      "EvaluatorHoldout: Ignoring 172 ( 0.5%) Users that have less than 1 test interactions\n",
      "EvaluatorHoldout: Processed 35564 (100.0%) in 34.73 sec. Users per second: 1024\n"
     ]
    },
    {
     "name": "stderr",
     "output_type": "stream",
     "text": [
      "[I 2025-01-05 13:10:29,873] Trial 334 finished with value: 0.048584741000029706 and parameters: {'similarity': 'tversky', 'topK': 51, 'shrink': 35, 'feature_weighting': 'none', 'tversky_alpha': 0.07374210351960772, 'tversky_beta': 1.998611563999275}. Best is trial 267 with value: 0.05351701566277965.\n"
     ]
    },
    {
     "name": "stdout",
     "output_type": "stream",
     "text": [
      "Similarity column 38121 (100.0%), 3213.67 column/sec. Elapsed time 11.86 sec\n",
      "EvaluatorHoldout: Ignoring 173 ( 0.5%) Users that have less than 1 test interactions\n",
      "EvaluatorHoldout: Processed 35563 (100.0%) in 28.54 sec. Users per second: 1246\n",
      "Similarity column 38121 (100.0%), 3169.61 column/sec. Elapsed time 12.03 sec\n",
      "EvaluatorHoldout: Ignoring 163 ( 0.5%) Users that have less than 1 test interactions\n",
      "EvaluatorHoldout: Processed 35573 (100.0%) in 28.31 sec. Users per second: 1257\n",
      "Similarity column 38121 (100.0%), 3183.02 column/sec. Elapsed time 11.98 sec\n",
      "EvaluatorHoldout: Ignoring 150 ( 0.4%) Users that have less than 1 test interactions\n",
      "EvaluatorHoldout: Processed 35586 (100.0%) in 28.58 sec. Users per second: 1245\n",
      "Similarity column 38121 (100.0%), 3206.64 column/sec. Elapsed time 11.89 sec\n",
      "EvaluatorHoldout: Ignoring 167 ( 0.5%) Users that have less than 1 test interactions\n",
      "EvaluatorHoldout: Processed 35569 (100.0%) in 28.39 sec. Users per second: 1253\n",
      "Similarity column 38121 (100.0%), 3202.71 column/sec. Elapsed time 11.90 sec\n",
      "EvaluatorHoldout: Ignoring 172 ( 0.5%) Users that have less than 1 test interactions\n",
      "EvaluatorHoldout: Processed 35564 (100.0%) in 28.73 sec. Users per second: 1238\n"
     ]
    },
    {
     "name": "stderr",
     "output_type": "stream",
     "text": [
      "[I 2025-01-05 13:13:53,988] Trial 335 finished with value: 0.043302073935299466 and parameters: {'similarity': 'tversky', 'topK': 1, 'shrink': 60, 'feature_weighting': 'none', 'tversky_alpha': 1.1927019349088663, 'tversky_beta': 1.8500090206797084}. Best is trial 267 with value: 0.05351701566277965.\n"
     ]
    },
    {
     "name": "stdout",
     "output_type": "stream",
     "text": [
      "Similarity column 38121 (100.0%), 2681.78 column/sec. Elapsed time 14.21 sec\n",
      "EvaluatorHoldout: Ignoring 173 ( 0.5%) Users that have less than 1 test interactions\n",
      "EvaluatorHoldout: Processed 35563 (100.0%) in 32.62 sec. Users per second: 1090\n",
      "Similarity column 38121 (100.0%), 2722.75 column/sec. Elapsed time 14.00 sec\n",
      "EvaluatorHoldout: Ignoring 163 ( 0.5%) Users that have less than 1 test interactions\n",
      "EvaluatorHoldout: Processed 35573 (100.0%) in 32.89 sec. Users per second: 1082\n",
      "Similarity column 38121 (100.0%), 2688.08 column/sec. Elapsed time 14.18 sec\n",
      "EvaluatorHoldout: Ignoring 150 ( 0.4%) Users that have less than 1 test interactions\n",
      "EvaluatorHoldout: Processed 35586 (100.0%) in 32.67 sec. Users per second: 1089\n",
      "Similarity column 38121 (100.0%), 2715.12 column/sec. Elapsed time 14.04 sec\n",
      "EvaluatorHoldout: Ignoring 167 ( 0.5%) Users that have less than 1 test interactions\n",
      "EvaluatorHoldout: Processed 35569 (100.0%) in 32.54 sec. Users per second: 1093\n",
      "Similarity column 38121 (100.0%), 2675.27 column/sec. Elapsed time 14.25 sec\n",
      "EvaluatorHoldout: Ignoring 172 ( 0.5%) Users that have less than 1 test interactions\n",
      "EvaluatorHoldout: Processed 35564 (100.0%) in 32.59 sec. Users per second: 1091\n"
     ]
    },
    {
     "name": "stderr",
     "output_type": "stream",
     "text": [
      "[I 2025-01-05 13:17:49,953] Trial 336 finished with value: 0.051398648188950694 and parameters: {'similarity': 'tversky', 'topK': 26, 'shrink': 18, 'feature_weighting': 'none', 'tversky_alpha': 0.03130038991250438, 'tversky_beta': 1.926592066136699}. Best is trial 267 with value: 0.05351701566277965.\n"
     ]
    },
    {
     "name": "stdout",
     "output_type": "stream",
     "text": [
      "Similarity column 38121 (100.0%), 2856.01 column/sec. Elapsed time 13.35 sec\n",
      "EvaluatorHoldout: Ignoring 173 ( 0.5%) Users that have less than 1 test interactions\n",
      "EvaluatorHoldout: Processed 35563 (100.0%) in 40.74 sec. Users per second: 873\n",
      "Similarity column 38121 (100.0%), 2803.49 column/sec. Elapsed time 13.60 sec\n",
      "EvaluatorHoldout: Ignoring 163 ( 0.5%) Users that have less than 1 test interactions\n",
      "EvaluatorHoldout: Processed 35573 (100.0%) in 41.36 sec. Users per second: 860\n",
      "Similarity column 38121 (100.0%), 2864.03 column/sec. Elapsed time 13.31 sec\n",
      "EvaluatorHoldout: Ignoring 150 ( 0.4%) Users that have less than 1 test interactions\n",
      "EvaluatorHoldout: Processed 35586 (100.0%) in 41.10 sec. Users per second: 866\n",
      "Similarity column 38121 (100.0%), 2852.91 column/sec. Elapsed time 13.36 sec\n",
      "EvaluatorHoldout: Ignoring 167 ( 0.5%) Users that have less than 1 test interactions\n",
      "EvaluatorHoldout: Processed 35569 (100.0%) in 40.57 sec. Users per second: 877\n",
      "Similarity column 38121 (100.0%), 2855.88 column/sec. Elapsed time 13.35 sec\n",
      "EvaluatorHoldout: Ignoring 172 ( 0.5%) Users that have less than 1 test interactions\n",
      "EvaluatorHoldout: Processed 35564 (100.0%) in 40.50 sec. Users per second: 878\n"
     ]
    },
    {
     "name": "stderr",
     "output_type": "stream",
     "text": [
      "[I 2025-01-05 13:22:22,425] Trial 337 finished with value: 0.030110588435945503 and parameters: {'similarity': 'asymmetric', 'topK': 40, 'shrink': 45, 'feature_weighting': 'none', 'asymmetric_alpha': 1.6226784951707873}. Best is trial 267 with value: 0.05351701566277965.\n"
     ]
    },
    {
     "name": "stdout",
     "output_type": "stream",
     "text": [
      "Similarity column 38121 (100.0%), 2631.47 column/sec. Elapsed time 14.49 sec\n",
      "EvaluatorHoldout: Ignoring 173 ( 0.5%) Users that have less than 1 test interactions\n",
      "EvaluatorHoldout: Processed 35563 (100.0%) in 38.17 sec. Users per second: 932\n",
      "Similarity column 38121 (100.0%), 2653.33 column/sec. Elapsed time 14.37 sec\n",
      "EvaluatorHoldout: Ignoring 163 ( 0.5%) Users that have less than 1 test interactions\n",
      "EvaluatorHoldout: Processed 35573 (100.0%) in 38.29 sec. Users per second: 929\n",
      "Similarity column 38121 (100.0%), 2638.66 column/sec. Elapsed time 14.45 sec\n",
      "EvaluatorHoldout: Ignoring 150 ( 0.4%) Users that have less than 1 test interactions\n",
      "EvaluatorHoldout: Processed 35586 (100.0%) in 38.37 sec. Users per second: 928\n",
      "Similarity column 38121 (100.0%), 2633.01 column/sec. Elapsed time 14.48 sec\n",
      "EvaluatorHoldout: Ignoring 167 ( 0.5%) Users that have less than 1 test interactions\n",
      "EvaluatorHoldout: Processed 35569 (100.0%) in 38.10 sec. Users per second: 934\n",
      "Similarity column 38121 (100.0%), 2649.01 column/sec. Elapsed time 14.39 sec\n",
      "EvaluatorHoldout: Ignoring 172 ( 0.5%) Users that have less than 1 test interactions\n",
      "EvaluatorHoldout: Processed 35564 (100.0%) in 38.01 sec. Users per second: 936\n"
     ]
    },
    {
     "name": "stderr",
     "output_type": "stream",
     "text": [
      "[I 2025-01-05 13:26:48,607] Trial 338 finished with value: 0.04405993648353966 and parameters: {'similarity': 'tversky', 'topK': 167, 'shrink': 15, 'feature_weighting': 'none', 'tversky_alpha': 0.07963792831673222, 'tversky_beta': 1.8821365906116643}. Best is trial 267 with value: 0.05351701566277965.\n"
     ]
    },
    {
     "name": "stdout",
     "output_type": "stream",
     "text": [
      "Similarity column 38121 (100.0%), 2710.38 column/sec. Elapsed time 14.06 sec\n",
      "EvaluatorHoldout: Ignoring 173 ( 0.5%) Users that have less than 1 test interactions\n",
      "EvaluatorHoldout: Processed 35563 (100.0%) in 30.81 sec. Users per second: 1154\n",
      "Similarity column 38121 (100.0%), 2710.77 column/sec. Elapsed time 14.06 sec\n",
      "EvaluatorHoldout: Ignoring 163 ( 0.5%) Users that have less than 1 test interactions\n",
      "EvaluatorHoldout: Processed 35573 (100.0%) in 30.88 sec. Users per second: 1152\n",
      "Similarity column 38121 (100.0%), 2693.72 column/sec. Elapsed time 14.15 sec\n",
      "EvaluatorHoldout: Ignoring 150 ( 0.4%) Users that have less than 1 test interactions\n",
      "EvaluatorHoldout: Processed 35586 (100.0%) in 30.94 sec. Users per second: 1150\n",
      "Similarity column 38121 (100.0%), 2700.00 column/sec. Elapsed time 14.12 sec\n",
      "EvaluatorHoldout: Ignoring 167 ( 0.5%) Users that have less than 1 test interactions\n",
      "EvaluatorHoldout: Processed 35569 (100.0%) in 30.80 sec. Users per second: 1155\n",
      "Similarity column 38121 (100.0%), 2695.20 column/sec. Elapsed time 14.14 sec\n",
      "EvaluatorHoldout: Ignoring 172 ( 0.5%) Users that have less than 1 test interactions\n",
      "EvaluatorHoldout: Processed 35564 (100.0%) in 30.71 sec. Users per second: 1158\n"
     ]
    },
    {
     "name": "stderr",
     "output_type": "stream",
     "text": [
      "[I 2025-01-05 13:30:35,331] Trial 339 finished with value: 0.051167828048413355 and parameters: {'similarity': 'tversky', 'topK': 12, 'shrink': 0, 'feature_weighting': 'none', 'tversky_alpha': 0.001663189016183994, 'tversky_beta': 1.962733971321973}. Best is trial 267 with value: 0.05351701566277965.\n"
     ]
    },
    {
     "name": "stdout",
     "output_type": "stream",
     "text": [
      "Similarity column 38121 (100.0%), 2719.83 column/sec. Elapsed time 14.02 sec\n",
      "EvaluatorHoldout: Ignoring 173 ( 0.5%) Users that have less than 1 test interactions\n",
      "EvaluatorHoldout: Processed 35563 (100.0%) in 33.37 sec. Users per second: 1066\n",
      "Similarity column 38121 (100.0%), 2692.65 column/sec. Elapsed time 14.16 sec\n",
      "EvaluatorHoldout: Ignoring 163 ( 0.5%) Users that have less than 1 test interactions\n",
      "EvaluatorHoldout: Processed 35573 (100.0%) in 33.53 sec. Users per second: 1061\n",
      "Similarity column 38121 (100.0%), 2716.71 column/sec. Elapsed time 14.03 sec\n",
      "EvaluatorHoldout: Ignoring 150 ( 0.4%) Users that have less than 1 test interactions\n",
      "EvaluatorHoldout: Processed 35586 (100.0%) in 33.80 sec. Users per second: 1053\n",
      "Similarity column 38121 (100.0%), 2689.05 column/sec. Elapsed time 14.18 sec\n",
      "EvaluatorHoldout: Ignoring 167 ( 0.5%) Users that have less than 1 test interactions\n",
      "EvaluatorHoldout: Processed 35569 (100.0%) in 33.37 sec. Users per second: 1066\n",
      "Similarity column 38121 (100.0%), 2725.20 column/sec. Elapsed time 13.99 sec\n",
      "EvaluatorHoldout: Ignoring 172 ( 0.5%) Users that have less than 1 test interactions\n",
      "EvaluatorHoldout: Processed 35564 (100.0%) in 33.59 sec. Users per second: 1059\n"
     ]
    },
    {
     "name": "stderr",
     "output_type": "stream",
     "text": [
      "[I 2025-01-05 13:34:35,319] Trial 340 finished with value: 0.04902288614972887 and parameters: {'similarity': 'tversky', 'topK': 24, 'shrink': 86, 'feature_weighting': 'none', 'tversky_alpha': 0.06693179402109653, 'tversky_beta': 1.8184362976586497}. Best is trial 267 with value: 0.05351701566277965.\n"
     ]
    },
    {
     "name": "stdout",
     "output_type": "stream",
     "text": [
      "Similarity column 38121 (100.0%), 3509.93 column/sec. Elapsed time 10.86 sec\n",
      "EvaluatorHoldout: Ignoring 173 ( 0.5%) Users that have less than 1 test interactions\n",
      "EvaluatorHoldout: Processed 35563 (100.0%) in 25.32 sec. Users per second: 1404\n",
      "Similarity column 38121 (100.0%), 3472.61 column/sec. Elapsed time 10.98 sec\n",
      "EvaluatorHoldout: Ignoring 163 ( 0.5%) Users that have less than 1 test interactions\n",
      "EvaluatorHoldout: Processed 35573 (100.0%) in 25.22 sec. Users per second: 1411\n",
      "Similarity column 38121 (100.0%), 3479.97 column/sec. Elapsed time 10.95 sec\n",
      "EvaluatorHoldout: Ignoring 150 ( 0.4%) Users that have less than 1 test interactions\n",
      "EvaluatorHoldout: Processed 35586 (100.0%) in 25.24 sec. Users per second: 1410\n",
      "Similarity column 38121 (100.0%), 3491.69 column/sec. Elapsed time 10.92 sec\n",
      "EvaluatorHoldout: Ignoring 167 ( 0.5%) Users that have less than 1 test interactions\n",
      "EvaluatorHoldout: Processed 35569 (100.0%) in 25.23 sec. Users per second: 1410\n",
      "Similarity column 38121 (100.0%), 3474.98 column/sec. Elapsed time 10.97 sec\n",
      "EvaluatorHoldout: Ignoring 172 ( 0.5%) Users that have less than 1 test interactions\n",
      "EvaluatorHoldout: Processed 35564 (100.0%) in 25.28 sec. Users per second: 1407\n"
     ]
    },
    {
     "name": "stderr",
     "output_type": "stream",
     "text": [
      "[I 2025-01-05 13:37:38,152] Trial 341 finished with value: 0.0002664826418719655 and parameters: {'similarity': 'tversky', 'topK': 0, 'shrink': 32, 'feature_weighting': 'none', 'tversky_alpha': 0.09735008892771052, 'tversky_beta': 1.7348695266795917}. Best is trial 267 with value: 0.05351701566277965.\n"
     ]
    },
    {
     "name": "stdout",
     "output_type": "stream",
     "text": [
      "Similarity column 38121 (100.0%), 2717.00 column/sec. Elapsed time 14.03 sec\n",
      "EvaluatorHoldout: Ignoring 173 ( 0.5%) Users that have less than 1 test interactions\n",
      "EvaluatorHoldout: Processed 35563 (100.0%) in 34.49 sec. Users per second: 1031\n",
      "Similarity column 38121 (100.0%), 2669.86 column/sec. Elapsed time 14.28 sec\n",
      "EvaluatorHoldout: Ignoring 163 ( 0.5%) Users that have less than 1 test interactions\n",
      "EvaluatorHoldout: Processed 35573 (100.0%) in 35.03 sec. Users per second: 1016\n",
      "Similarity column 38121 (100.0%), 2678.66 column/sec. Elapsed time 14.23 sec\n",
      "EvaluatorHoldout: Ignoring 150 ( 0.4%) Users that have less than 1 test interactions\n",
      "EvaluatorHoldout: Processed 35586 (100.0%) in 34.88 sec. Users per second: 1020\n",
      "Similarity column 38121 (100.0%), 2680.56 column/sec. Elapsed time 14.22 sec\n",
      "EvaluatorHoldout: Ignoring 167 ( 0.5%) Users that have less than 1 test interactions\n",
      "EvaluatorHoldout: Processed 35569 (100.0%) in 34.57 sec. Users per second: 1029\n",
      "Similarity column 38121 (100.0%), 2677.33 column/sec. Elapsed time 14.24 sec\n",
      "EvaluatorHoldout: Ignoring 172 ( 0.5%) Users that have less than 1 test interactions\n",
      "EvaluatorHoldout: Processed 35564 (100.0%) in 35.05 sec. Users per second: 1015\n"
     ]
    },
    {
     "name": "stderr",
     "output_type": "stream",
     "text": [
      "[I 2025-01-05 13:41:45,377] Trial 342 finished with value: 0.0477290652407735 and parameters: {'similarity': 'tversky', 'topK': 46, 'shrink': 60, 'feature_weighting': 'none', 'tversky_alpha': 0.02859498024387773, 'tversky_beta': 1.9152710518487903}. Best is trial 267 with value: 0.05351701566277965.\n"
     ]
    },
    {
     "name": "stdout",
     "output_type": "stream",
     "text": [
      "Similarity column 38121 (100.0%), 2957.41 column/sec. Elapsed time 12.89 sec\n",
      "EvaluatorHoldout: Ignoring 173 ( 0.5%) Users that have less than 1 test interactions\n",
      "EvaluatorHoldout: Processed 35563 (100.0%) in 32.45 sec. Users per second: 1096\n",
      "Similarity column 38121 (100.0%), 2964.99 column/sec. Elapsed time 12.86 sec\n",
      "EvaluatorHoldout: Ignoring 163 ( 0.5%) Users that have less than 1 test interactions\n",
      "EvaluatorHoldout: Processed 35573 (100.0%) in 32.52 sec. Users per second: 1094\n",
      "Similarity column 38121 (100.0%), 2942.88 column/sec. Elapsed time 12.95 sec\n",
      "EvaluatorHoldout: Ignoring 150 ( 0.4%) Users that have less than 1 test interactions\n",
      "EvaluatorHoldout: Processed 35586 (100.0%) in 32.57 sec. Users per second: 1092\n",
      "Similarity column 38121 (100.0%), 2949.19 column/sec. Elapsed time 12.93 sec\n",
      "EvaluatorHoldout: Ignoring 167 ( 0.5%) Users that have less than 1 test interactions\n",
      "EvaluatorHoldout: Processed 35569 (100.0%) in 32.57 sec. Users per second: 1092\n",
      "Similarity column 38121 (100.0%), 2918.51 column/sec. Elapsed time 13.06 sec\n",
      "EvaluatorHoldout: Ignoring 172 ( 0.5%) Users that have less than 1 test interactions\n",
      "EvaluatorHoldout: Processed 35564 (100.0%) in 32.89 sec. Users per second: 1081\n"
     ]
    },
    {
     "name": "stderr",
     "output_type": "stream",
     "text": [
      "[I 2025-01-05 13:45:34,981] Trial 343 finished with value: 0.05009965070172061 and parameters: {'similarity': 'jaccard', 'topK': 13, 'shrink': 35, 'feature_weighting': 'none'}. Best is trial 267 with value: 0.05351701566277965.\n"
     ]
    },
    {
     "name": "stdout",
     "output_type": "stream",
     "text": [
      "Similarity column 38121 (100.0%), 2611.45 column/sec. Elapsed time 14.60 sec\n",
      "EvaluatorHoldout: Ignoring 173 ( 0.5%) Users that have less than 1 test interactions\n",
      "EvaluatorHoldout: Processed 35563 (100.0%) in 49.62 sec. Users per second: 717\n",
      "Similarity column 38121 (100.0%), 2600.94 column/sec. Elapsed time 14.66 sec\n",
      "EvaluatorHoldout: Ignoring 163 ( 0.5%) Users that have less than 1 test interactions\n",
      "EvaluatorHoldout: Processed 35573 (100.0%) in 49.73 sec. Users per second: 715\n",
      "Similarity column 38121 (100.0%), 2589.95 column/sec. Elapsed time 14.72 sec\n",
      "EvaluatorHoldout: Ignoring 150 ( 0.4%) Users that have less than 1 test interactions\n",
      "EvaluatorHoldout: Processed 35586 (100.0%) in 49.59 sec. Users per second: 718\n",
      "Similarity column 38121 (100.0%), 2605.99 column/sec. Elapsed time 14.63 sec\n",
      "EvaluatorHoldout: Ignoring 167 ( 0.5%) Users that have less than 1 test interactions\n",
      "EvaluatorHoldout: Processed 35569 (100.0%) in 49.16 sec. Users per second: 724\n",
      "Similarity column 38121 (100.0%), 2565.87 column/sec. Elapsed time 14.86 sec\n",
      "EvaluatorHoldout: Ignoring 172 ( 0.5%) Users that have less than 1 test interactions\n",
      "EvaluatorHoldout: Processed 35564 (100.0%) in 49.38 sec. Users per second: 720\n"
     ]
    },
    {
     "name": "stderr",
     "output_type": "stream",
     "text": [
      "[I 2025-01-05 13:51:00,987] Trial 344 finished with value: 0.03672381871723387 and parameters: {'similarity': 'tversky', 'topK': 429, 'shrink': 360, 'feature_weighting': 'none', 'tversky_alpha': 0.8394011806461081, 'tversky_beta': 1.8501935936849492}. Best is trial 267 with value: 0.05351701566277965.\n"
     ]
    },
    {
     "name": "stdout",
     "output_type": "stream",
     "text": [
      "Similarity column 38121 (100.0%), 2679.43 column/sec. Elapsed time 14.23 sec\n",
      "EvaluatorHoldout: Ignoring 173 ( 0.5%) Users that have less than 1 test interactions\n",
      "EvaluatorHoldout: Processed 35563 (100.0%) in 33.30 sec. Users per second: 1068\n",
      "Similarity column 38121 (100.0%), 2696.39 column/sec. Elapsed time 14.14 sec\n",
      "EvaluatorHoldout: Ignoring 163 ( 0.5%) Users that have less than 1 test interactions\n",
      "EvaluatorHoldout: Processed 35573 (100.0%) in 33.23 sec. Users per second: 1071\n",
      "Similarity column 38121 (100.0%), 2698.87 column/sec. Elapsed time 14.12 sec\n",
      "EvaluatorHoldout: Ignoring 150 ( 0.4%) Users that have less than 1 test interactions\n",
      "EvaluatorHoldout: Processed 35586 (100.0%) in 33.24 sec. Users per second: 1071\n",
      "Similarity column 38121 (100.0%), 2688.98 column/sec. Elapsed time 14.18 sec\n",
      "EvaluatorHoldout: Ignoring 167 ( 0.5%) Users that have less than 1 test interactions\n",
      "EvaluatorHoldout: Processed 35569 (100.0%) in 33.26 sec. Users per second: 1070\n",
      "Similarity column 38121 (100.0%), 2715.41 column/sec. Elapsed time 14.04 sec\n",
      "EvaluatorHoldout: Ignoring 172 ( 0.5%) Users that have less than 1 test interactions\n",
      "EvaluatorHoldout: Processed 35564 (100.0%) in 33.10 sec. Users per second: 1075\n"
     ]
    },
    {
     "name": "stderr",
     "output_type": "stream",
     "text": [
      "[I 2025-01-05 13:54:59,827] Trial 345 finished with value: 0.05115571159589503 and parameters: {'similarity': 'tversky', 'topK': 30, 'shrink': 16, 'feature_weighting': 'none', 'tversky_alpha': 0.1356735877413765, 'tversky_beta': 1.957955636554697}. Best is trial 267 with value: 0.05351701566277965.\n"
     ]
    },
    {
     "name": "stdout",
     "output_type": "stream",
     "text": [
      "Similarity column 38121 (100.0%), 2691.63 column/sec. Elapsed time 14.16 sec\n",
      "EvaluatorHoldout: Ignoring 173 ( 0.5%) Users that have less than 1 test interactions\n",
      "EvaluatorHoldout: Processed 35563 (100.0%) in 32.07 sec. Users per second: 1109\n",
      "Similarity column 38121 (100.0%), 2707.61 column/sec. Elapsed time 14.08 sec\n",
      "EvaluatorHoldout: Ignoring 163 ( 0.5%) Users that have less than 1 test interactions\n",
      "EvaluatorHoldout: Processed 35573 (100.0%) in 32.11 sec. Users per second: 1108\n",
      "Similarity column 38121 (100.0%), 2700.62 column/sec. Elapsed time 14.12 sec\n",
      "EvaluatorHoldout: Ignoring 150 ( 0.4%) Users that have less than 1 test interactions\n",
      "EvaluatorHoldout: Processed 35586 (100.0%) in 32.67 sec. Users per second: 1089\n",
      "Similarity column 38121 (100.0%), 2712.99 column/sec. Elapsed time 14.05 sec\n",
      "EvaluatorHoldout: Ignoring 167 ( 0.5%) Users that have less than 1 test interactions\n",
      "EvaluatorHoldout: Processed 35569 (100.0%) in 32.07 sec. Users per second: 1109\n",
      "Similarity column 38121 (100.0%), 2686.95 column/sec. Elapsed time 14.19 sec\n",
      "EvaluatorHoldout: Ignoring 172 ( 0.5%) Users that have less than 1 test interactions\n",
      "EvaluatorHoldout: Processed 35564 (100.0%) in 32.56 sec. Users per second: 1092\n"
     ]
    },
    {
     "name": "stderr",
     "output_type": "stream",
     "text": [
      "[I 2025-01-05 13:58:53,842] Trial 346 finished with value: 0.05190464757486465 and parameters: {'similarity': 'tversky', 'topK': 14, 'shrink': 53, 'feature_weighting': 'none', 'tversky_alpha': 0.053740926655291656, 'tversky_beta': 1.7889405953112574}. Best is trial 267 with value: 0.05351701566277965.\n"
     ]
    },
    {
     "name": "stdout",
     "output_type": "stream",
     "text": [
      "Similarity column 38121 (100.0%), 2695.39 column/sec. Elapsed time 14.14 sec\n",
      "EvaluatorHoldout: Ignoring 173 ( 0.5%) Users that have less than 1 test interactions\n",
      "EvaluatorHoldout: Processed 35563 (100.0%) in 33.22 sec. Users per second: 1071\n",
      "Similarity column 38121 (100.0%), 2693.38 column/sec. Elapsed time 14.15 sec\n",
      "EvaluatorHoldout: Ignoring 163 ( 0.5%) Users that have less than 1 test interactions\n",
      "EvaluatorHoldout: Processed 35573 (100.0%) in 33.62 sec. Users per second: 1058\n",
      "Similarity column 38121 (100.0%), 2681.55 column/sec. Elapsed time 14.22 sec\n",
      "EvaluatorHoldout: Ignoring 150 ( 0.4%) Users that have less than 1 test interactions\n",
      "EvaluatorHoldout: Processed 35586 (100.0%) in 33.39 sec. Users per second: 1066\n",
      "Similarity column 38121 (100.0%), 2677.25 column/sec. Elapsed time 14.24 sec\n",
      "EvaluatorHoldout: Ignoring 167 ( 0.5%) Users that have less than 1 test interactions\n",
      "EvaluatorHoldout: Processed 35569 (100.0%) in 33.17 sec. Users per second: 1072\n",
      "Similarity column 38121 (100.0%), 2657.53 column/sec. Elapsed time 14.34 sec\n",
      "EvaluatorHoldout: Ignoring 172 ( 0.5%) Users that have less than 1 test interactions\n",
      "EvaluatorHoldout: Processed 35564 (100.0%) in 33.37 sec. Users per second: 1066\n"
     ]
    },
    {
     "name": "stderr",
     "output_type": "stream",
     "text": [
      "[I 2025-01-05 14:02:53,884] Trial 347 finished with value: 0.050247743921605095 and parameters: {'similarity': 'tversky', 'topK': 38, 'shrink': 0, 'feature_weighting': 'none', 'tversky_alpha': 0.10101974801665375, 'tversky_beta': 1.8916646868505729}. Best is trial 267 with value: 0.05351701566277965.\n"
     ]
    },
    {
     "name": "stdout",
     "output_type": "stream",
     "text": [
      "Similarity column 38121 (100.0%), 3433.33 column/sec. Elapsed time 11.10 sec\n",
      "EvaluatorHoldout: Ignoring 173 ( 0.5%) Users that have less than 1 test interactions\n",
      "EvaluatorHoldout: Processed 35563 (100.0%) in 25.23 sec. Users per second: 1409\n",
      "Similarity column 38121 (100.0%), 3456.34 column/sec. Elapsed time 11.03 sec\n",
      "EvaluatorHoldout: Ignoring 163 ( 0.5%) Users that have less than 1 test interactions\n",
      "EvaluatorHoldout: Processed 35573 (100.0%) in 25.34 sec. Users per second: 1404\n",
      "Similarity column 38121 (100.0%), 3457.84 column/sec. Elapsed time 11.02 sec\n",
      "EvaluatorHoldout: Ignoring 150 ( 0.4%) Users that have less than 1 test interactions\n",
      "EvaluatorHoldout: Processed 35586 (100.0%) in 25.37 sec. Users per second: 1403\n",
      "Similarity column 38121 (100.0%), 3493.80 column/sec. Elapsed time 10.91 sec\n",
      "EvaluatorHoldout: Ignoring 167 ( 0.5%) Users that have less than 1 test interactions\n",
      "EvaluatorHoldout: Processed 35569 (100.0%) in 25.25 sec. Users per second: 1409\n",
      "Similarity column 38121 (100.0%), 3488.58 column/sec. Elapsed time 10.93 sec\n",
      "EvaluatorHoldout: Ignoring 172 ( 0.5%) Users that have less than 1 test interactions\n",
      "EvaluatorHoldout: Processed 35564 (100.0%) in 25.37 sec. Users per second: 1402\n"
     ]
    },
    {
     "name": "stderr",
     "output_type": "stream",
     "text": [
      "[I 2025-01-05 14:05:57,333] Trial 348 finished with value: 0.0002664826418719655 and parameters: {'similarity': 'tversky', 'topK': 0, 'shrink': 36, 'feature_weighting': 'none', 'tversky_alpha': 0.029210751026068297, 'tversky_beta': 1.9352388772953775}. Best is trial 267 with value: 0.05351701566277965.\n"
     ]
    },
    {
     "name": "stdout",
     "output_type": "stream",
     "text": [
      "Similarity column 38121 (100.0%), 2671.57 column/sec. Elapsed time 14.27 sec\n",
      "EvaluatorHoldout: Ignoring 173 ( 0.5%) Users that have less than 1 test interactions\n",
      "EvaluatorHoldout: Processed 35563 (100.0%) in 35.66 sec. Users per second: 997\n",
      "Similarity column 38121 (100.0%), 2675.98 column/sec. Elapsed time 14.25 sec\n",
      "EvaluatorHoldout: Ignoring 163 ( 0.5%) Users that have less than 1 test interactions\n",
      "EvaluatorHoldout: Processed 35573 (100.0%) in 35.82 sec. Users per second: 993\n",
      "Similarity column 38121 (100.0%), 2668.53 column/sec. Elapsed time 14.29 sec\n",
      "EvaluatorHoldout: Ignoring 150 ( 0.4%) Users that have less than 1 test interactions\n",
      "EvaluatorHoldout: Processed 35586 (100.0%) in 35.65 sec. Users per second: 998\n",
      "Similarity column 38121 (100.0%), 2699.15 column/sec. Elapsed time 14.12 sec\n",
      "EvaluatorHoldout: Ignoring 167 ( 0.5%) Users that have less than 1 test interactions\n",
      "EvaluatorHoldout: Processed 35569 (100.0%) in 35.64 sec. Users per second: 998\n",
      "Similarity column 38121 (100.0%), 2676.32 column/sec. Elapsed time 14.24 sec\n",
      "EvaluatorHoldout: Ignoring 172 ( 0.5%) Users that have less than 1 test interactions\n",
      "EvaluatorHoldout: Processed 35564 (100.0%) in 35.52 sec. Users per second: 1001\n"
     ]
    },
    {
     "name": "stderr",
     "output_type": "stream",
     "text": [
      "[I 2025-01-05 14:10:09,088] Trial 349 finished with value: 0.046151171893206104 and parameters: {'similarity': 'tversky', 'topK': 60, 'shrink': 73, 'feature_weighting': 'none', 'tversky_alpha': 0.2022728096697194, 'tversky_beta': 1.841714096020989}. Best is trial 267 with value: 0.05351701566277965.\n"
     ]
    },
    {
     "name": "stdout",
     "output_type": "stream",
     "text": [
      "Similarity column 38121 (100.0%), 487.44 column/sec. Elapsed time 1.30 min\n",
      "EvaluatorHoldout: Ignoring 173 ( 0.5%) Users that have less than 1 test interactions\n",
      "EvaluatorHoldout: Processed 35563 (100.0%) in 28.06 sec. Users per second: 1267\n",
      "Similarity column 38121 (100.0%), 457.30 column/sec. Elapsed time 1.39 min\n",
      "EvaluatorHoldout: Ignoring 163 ( 0.5%) Users that have less than 1 test interactions\n",
      "EvaluatorHoldout: Processed 35573 (100.0%) in 28.35 sec. Users per second: 1255\n",
      "Similarity column 38121 (100.0%), 496.66 column/sec. Elapsed time 1.28 min\n",
      "EvaluatorHoldout: Ignoring 150 ( 0.4%) Users that have less than 1 test interactions\n",
      "EvaluatorHoldout: Processed 35586 (100.0%) in 28.28 sec. Users per second: 1258\n",
      "Similarity column 38121 (100.0%), 446.77 column/sec. Elapsed time 1.42 min\n",
      "EvaluatorHoldout: Ignoring 167 ( 0.5%) Users that have less than 1 test interactions\n",
      "EvaluatorHoldout: Processed 35569 (100.0%) in 28.73 sec. Users per second: 1238\n",
      "Similarity column 38121 (100.0%), 453.68 column/sec. Elapsed time 1.40 min\n",
      "EvaluatorHoldout: Ignoring 172 ( 0.5%) Users that have less than 1 test interactions\n",
      "EvaluatorHoldout: Processed 35564 (100.0%) in 28.63 sec. Users per second: 1242\n"
     ]
    },
    {
     "name": "stderr",
     "output_type": "stream",
     "text": [
      "[I 2025-01-05 14:19:19,545] Trial 350 finished with value: 0.028730403330002617 and parameters: {'similarity': 'euclidean', 'topK': 25, 'shrink': 20, 'feature_weighting': 'none', 'normalize_avg_row': True, 'similarity_from_distance_mode': 'exp', 'normalize': False}. Best is trial 267 with value: 0.05351701566277965.\n"
     ]
    },
    {
     "name": "stdout",
     "output_type": "stream",
     "text": [
      "Similarity column 38121 (100.0%), 2683.00 column/sec. Elapsed time 14.21 sec\n",
      "EvaluatorHoldout: Ignoring 173 ( 0.5%) Users that have less than 1 test interactions\n",
      "EvaluatorHoldout: Processed 35563 (100.0%) in 31.76 sec. Users per second: 1120\n",
      "Similarity column 38121 (100.0%), 2698.76 column/sec. Elapsed time 14.13 sec\n",
      "EvaluatorHoldout: Ignoring 163 ( 0.5%) Users that have less than 1 test interactions\n",
      "EvaluatorHoldout: Processed 35573 (100.0%) in 31.88 sec. Users per second: 1116\n",
      "Similarity column 38121 (100.0%), 2706.79 column/sec. Elapsed time 14.08 sec\n",
      "EvaluatorHoldout: Ignoring 150 ( 0.4%) Users that have less than 1 test interactions\n",
      "EvaluatorHoldout: Processed 35586 (100.0%) in 32.05 sec. Users per second: 1110\n",
      "Similarity column 38121 (100.0%), 2703.48 column/sec. Elapsed time 14.10 sec\n",
      "EvaluatorHoldout: Ignoring 167 ( 0.5%) Users that have less than 1 test interactions\n",
      "EvaluatorHoldout: Processed 35569 (100.0%) in 31.71 sec. Users per second: 1122\n",
      "Similarity column 38121 (100.0%), 2694.84 column/sec. Elapsed time 14.15 sec\n",
      "EvaluatorHoldout: Ignoring 172 ( 0.5%) Users that have less than 1 test interactions\n",
      "EvaluatorHoldout: Processed 35564 (100.0%) in 32.03 sec. Users per second: 1110\n"
     ]
    },
    {
     "name": "stderr",
     "output_type": "stream",
     "text": [
      "[I 2025-01-05 14:23:11,576] Trial 351 finished with value: 0.05228112223311544 and parameters: {'similarity': 'tversky', 'topK': 14, 'shrink': 46, 'feature_weighting': 'none', 'tversky_alpha': 0.007642390371724905, 'tversky_beta': 1.8760955324851454}. Best is trial 267 with value: 0.05351701566277965.\n"
     ]
    },
    {
     "name": "stdout",
     "output_type": "stream",
     "text": [
      "Similarity column 38121 (100.0%), 2627.16 column/sec. Elapsed time 14.51 sec\n",
      "EvaluatorHoldout: Ignoring 173 ( 0.5%) Users that have less than 1 test interactions\n",
      "EvaluatorHoldout: Processed 35563 (100.0%) in 39.57 sec. Users per second: 899\n",
      "Similarity column 38121 (100.0%), 2633.58 column/sec. Elapsed time 14.47 sec\n",
      "EvaluatorHoldout: Ignoring 163 ( 0.5%) Users that have less than 1 test interactions\n",
      "EvaluatorHoldout: Processed 35573 (100.0%) in 39.83 sec. Users per second: 893\n",
      "Similarity column 38121 (100.0%), 2623.18 column/sec. Elapsed time 14.53 sec\n",
      "EvaluatorHoldout: Ignoring 150 ( 0.4%) Users that have less than 1 test interactions\n",
      "EvaluatorHoldout: Processed 35586 (100.0%) in 39.85 sec. Users per second: 893\n",
      "Similarity column 38121 (100.0%), 2620.26 column/sec. Elapsed time 14.55 sec\n",
      "EvaluatorHoldout: Ignoring 167 ( 0.5%) Users that have less than 1 test interactions\n",
      "EvaluatorHoldout: Processed 35569 (100.0%) in 39.72 sec. Users per second: 896\n",
      "Similarity column 38121 (100.0%), 2621.11 column/sec. Elapsed time 14.54 sec\n",
      "EvaluatorHoldout: Ignoring 172 ( 0.5%) Users that have less than 1 test interactions\n",
      "EvaluatorHoldout: Processed 35564 (100.0%) in 39.64 sec. Users per second: 897\n"
     ]
    },
    {
     "name": "stderr",
     "output_type": "stream",
     "text": [
      "[I 2025-01-05 14:27:46,505] Trial 352 finished with value: 0.04005070835123643 and parameters: {'similarity': 'tversky', 'topK': 264, 'shrink': 0, 'feature_weighting': 'none', 'tversky_alpha': 0.06656732985070891, 'tversky_beta': 0.5337038217206012}. Best is trial 267 with value: 0.05351701566277965.\n"
     ]
    },
    {
     "name": "stdout",
     "output_type": "stream",
     "text": [
      "Similarity column 38121 (100.0%), 3495.36 column/sec. Elapsed time 10.91 sec\n",
      "EvaluatorHoldout: Ignoring 173 ( 0.5%) Users that have less than 1 test interactions\n",
      "EvaluatorHoldout: Processed 35563 (100.0%) in 25.06 sec. Users per second: 1419\n",
      "Similarity column 38121 (100.0%), 3501.43 column/sec. Elapsed time 10.89 sec\n",
      "EvaluatorHoldout: Ignoring 163 ( 0.5%) Users that have less than 1 test interactions\n",
      "EvaluatorHoldout: Processed 35573 (100.0%) in 25.11 sec. Users per second: 1417\n",
      "Similarity column 38121 (100.0%), 3484.25 column/sec. Elapsed time 10.94 sec\n",
      "EvaluatorHoldout: Ignoring 150 ( 0.4%) Users that have less than 1 test interactions\n",
      "EvaluatorHoldout: Processed 35586 (100.0%) in 25.12 sec. Users per second: 1417\n",
      "Similarity column 38121 (100.0%), 3478.72 column/sec. Elapsed time 10.96 sec\n",
      "EvaluatorHoldout: Ignoring 167 ( 0.5%) Users that have less than 1 test interactions\n",
      "EvaluatorHoldout: Processed 35569 (100.0%) in 25.08 sec. Users per second: 1418\n",
      "Similarity column 38121 (100.0%), 3479.73 column/sec. Elapsed time 10.96 sec\n",
      "EvaluatorHoldout: Ignoring 172 ( 0.5%) Users that have less than 1 test interactions\n",
      "EvaluatorHoldout: Processed 35564 (100.0%) in 25.24 sec. Users per second: 1409\n"
     ]
    },
    {
     "name": "stderr",
     "output_type": "stream",
     "text": [
      "[I 2025-01-05 14:30:48,534] Trial 353 finished with value: 0.0002664826418719655 and parameters: {'similarity': 'tversky', 'topK': 0, 'shrink': 28, 'feature_weighting': 'none', 'tversky_alpha': 0.0008280451041335901, 'tversky_beta': 1.7596698770906556}. Best is trial 267 with value: 0.05351701566277965.\n"
     ]
    },
    {
     "name": "stdout",
     "output_type": "stream",
     "text": [
      "Similarity column 38121 (100.0%), 2712.30 column/sec. Elapsed time 14.05 sec\n",
      "EvaluatorHoldout: Ignoring 173 ( 0.5%) Users that have less than 1 test interactions\n",
      "EvaluatorHoldout: Processed 35563 (100.0%) in 34.80 sec. Users per second: 1022\n",
      "Similarity column 38121 (100.0%), 2672.62 column/sec. Elapsed time 14.26 sec\n",
      "EvaluatorHoldout: Ignoring 163 ( 0.5%) Users that have less than 1 test interactions\n",
      "EvaluatorHoldout: Processed 35573 (100.0%) in 35.19 sec. Users per second: 1011\n",
      "Similarity column 38121 (100.0%), 2684.68 column/sec. Elapsed time 14.20 sec\n",
      "EvaluatorHoldout: Ignoring 150 ( 0.4%) Users that have less than 1 test interactions\n",
      "EvaluatorHoldout: Processed 35586 (100.0%) in 34.90 sec. Users per second: 1020\n",
      "Similarity column 38121 (100.0%), 2668.03 column/sec. Elapsed time 14.29 sec\n",
      "EvaluatorHoldout: Ignoring 167 ( 0.5%) Users that have less than 1 test interactions\n",
      "EvaluatorHoldout: Processed 35569 (100.0%) in 34.58 sec. Users per second: 1029\n",
      "Similarity column 38121 (100.0%), 2701.72 column/sec. Elapsed time 14.11 sec\n",
      "EvaluatorHoldout: Ignoring 172 ( 0.5%) Users that have less than 1 test interactions\n",
      "EvaluatorHoldout: Processed 35564 (100.0%) in 34.90 sec. Users per second: 1019\n"
     ]
    },
    {
     "name": "stderr",
     "output_type": "stream",
     "text": [
      "[I 2025-01-05 14:34:56,533] Trial 354 finished with value: 0.048282279597252786 and parameters: {'similarity': 'tversky', 'topK': 46, 'shrink': 59, 'feature_weighting': 'BM25', 'tversky_alpha': 0.15993010060001356, 'tversky_beta': 1.9984158685966167}. Best is trial 267 with value: 0.05351701566277965.\n"
     ]
    },
    {
     "name": "stdout",
     "output_type": "stream",
     "text": [
      "Similarity column 38121 (100.0%), 2688.97 column/sec. Elapsed time 14.18 sec\n",
      "EvaluatorHoldout: Ignoring 173 ( 0.5%) Users that have less than 1 test interactions\n",
      "EvaluatorHoldout: Processed 35563 (100.0%) in 32.85 sec. Users per second: 1082\n",
      "Similarity column 38121 (100.0%), 2694.75 column/sec. Elapsed time 14.15 sec\n",
      "EvaluatorHoldout: Ignoring 163 ( 0.5%) Users that have less than 1 test interactions\n",
      "EvaluatorHoldout: Processed 35573 (100.0%) in 33.08 sec. Users per second: 1075\n",
      "Similarity column 38121 (100.0%), 2675.99 column/sec. Elapsed time 14.25 sec\n",
      "EvaluatorHoldout: Ignoring 150 ( 0.4%) Users that have less than 1 test interactions\n",
      "EvaluatorHoldout: Processed 35586 (100.0%) in 33.40 sec. Users per second: 1066\n",
      "Similarity column 38121 (100.0%), 2714.20 column/sec. Elapsed time 14.05 sec\n",
      "EvaluatorHoldout: Ignoring 167 ( 0.5%) Users that have less than 1 test interactions\n",
      "EvaluatorHoldout: Processed 35569 (100.0%) in 33.07 sec. Users per second: 1076\n",
      "Similarity column 38121 (100.0%), 2687.27 column/sec. Elapsed time 14.19 sec\n",
      "EvaluatorHoldout: Ignoring 172 ( 0.5%) Users that have less than 1 test interactions\n",
      "EvaluatorHoldout: Processed 35564 (100.0%) in 33.32 sec. Users per second: 1067\n"
     ]
    },
    {
     "name": "stderr",
     "output_type": "stream",
     "text": [
      "[I 2025-01-05 14:38:55,055] Trial 355 finished with value: 0.051259577771329536 and parameters: {'similarity': 'tversky', 'topK': 28, 'shrink': 20, 'feature_weighting': 'none', 'tversky_alpha': 0.0937353419665541, 'tversky_beta': 1.9197162894308502}. Best is trial 267 with value: 0.05351701566277965.\n"
     ]
    },
    {
     "name": "stdout",
     "output_type": "stream",
     "text": [
      "Similarity column 38121 (100.0%), 3017.08 column/sec. Elapsed time 12.64 sec\n",
      "EvaluatorHoldout: Ignoring 173 ( 0.5%) Users that have less than 1 test interactions\n",
      "EvaluatorHoldout: Processed 35563 (100.0%) in 33.68 sec. Users per second: 1056\n",
      "Similarity column 38121 (100.0%), 3005.24 column/sec. Elapsed time 12.68 sec\n",
      "EvaluatorHoldout: Ignoring 163 ( 0.5%) Users that have less than 1 test interactions\n",
      "EvaluatorHoldout: Processed 35573 (100.0%) in 33.68 sec. Users per second: 1056\n",
      "Similarity column 38121 (100.0%), 3039.88 column/sec. Elapsed time 12.54 sec\n",
      "EvaluatorHoldout: Ignoring 150 ( 0.4%) Users that have less than 1 test interactions\n",
      "EvaluatorHoldout: Processed 35586 (100.0%) in 34.50 sec. Users per second: 1032\n",
      "Similarity column 38121 (100.0%), 2989.28 column/sec. Elapsed time 12.75 sec\n",
      "EvaluatorHoldout: Ignoring 167 ( 0.5%) Users that have less than 1 test interactions\n",
      "EvaluatorHoldout: Processed 35569 (100.0%) in 33.47 sec. Users per second: 1063\n",
      "Similarity column 38121 (100.0%), 3017.38 column/sec. Elapsed time 12.63 sec\n",
      "EvaluatorHoldout: Ignoring 172 ( 0.5%) Users that have less than 1 test interactions\n",
      "EvaluatorHoldout: Processed 35564 (100.0%) in 33.86 sec. Users per second: 1050\n"
     ]
    },
    {
     "name": "stderr",
     "output_type": "stream",
     "text": [
      "[I 2025-01-05 14:42:49,406] Trial 356 finished with value: 0.04780772231426175 and parameters: {'similarity': 'dice', 'topK': 18, 'shrink': 86, 'feature_weighting': 'none'}. Best is trial 267 with value: 0.05351701566277965.\n"
     ]
    },
    {
     "name": "stdout",
     "output_type": "stream",
     "text": [
      "Similarity column 38121 (100.0%), 2698.96 column/sec. Elapsed time 14.12 sec\n",
      "EvaluatorHoldout: Ignoring 173 ( 0.5%) Users that have less than 1 test interactions\n",
      "EvaluatorHoldout: Processed 35563 (100.0%) in 33.82 sec. Users per second: 1051\n",
      "Similarity column 38121 (100.0%), 2717.34 column/sec. Elapsed time 14.03 sec\n",
      "EvaluatorHoldout: Ignoring 163 ( 0.5%) Users that have less than 1 test interactions\n",
      "EvaluatorHoldout: Processed 35573 (100.0%) in 33.78 sec. Users per second: 1053\n",
      "Similarity column 38121 (100.0%), 2687.00 column/sec. Elapsed time 14.19 sec\n",
      "EvaluatorHoldout: Ignoring 150 ( 0.4%) Users that have less than 1 test interactions\n",
      "EvaluatorHoldout: Processed 35586 (100.0%) in 33.80 sec. Users per second: 1053\n",
      "Similarity column 38121 (100.0%), 2693.95 column/sec. Elapsed time 14.15 sec\n",
      "EvaluatorHoldout: Ignoring 167 ( 0.5%) Users that have less than 1 test interactions\n",
      "EvaluatorHoldout: Processed 35569 (100.0%) in 33.75 sec. Users per second: 1054\n",
      "Similarity column 38121 (100.0%), 2688.13 column/sec. Elapsed time 14.18 sec\n",
      "EvaluatorHoldout: Ignoring 172 ( 0.5%) Users that have less than 1 test interactions\n",
      "EvaluatorHoldout: Processed 35564 (100.0%) in 33.92 sec. Users per second: 1048\n"
     ]
    },
    {
     "name": "stderr",
     "output_type": "stream",
     "text": [
      "[I 2025-01-05 14:46:51,168] Trial 357 finished with value: 0.049442899187413444 and parameters: {'similarity': 'tversky', 'topK': 36, 'shrink': 39, 'feature_weighting': 'none', 'tversky_alpha': 0.052518466203365546, 'tversky_beta': 1.7968138223805008}. Best is trial 267 with value: 0.05351701566277965.\n"
     ]
    },
    {
     "name": "stdout",
     "output_type": "stream",
     "text": [
      "Similarity column 38121 (100.0%), 2659.81 column/sec. Elapsed time 14.33 sec\n",
      "EvaluatorHoldout: Ignoring 173 ( 0.5%) Users that have less than 1 test interactions\n",
      "EvaluatorHoldout: Processed 35563 (100.0%) in 37.56 sec. Users per second: 947\n",
      "Similarity column 38121 (100.0%), 2653.49 column/sec. Elapsed time 14.37 sec\n",
      "EvaluatorHoldout: Ignoring 163 ( 0.5%) Users that have less than 1 test interactions\n",
      "EvaluatorHoldout: Processed 35573 (100.0%) in 37.53 sec. Users per second: 948\n",
      "Similarity column 38121 (100.0%), 2671.59 column/sec. Elapsed time 14.27 sec\n",
      "EvaluatorHoldout: Ignoring 150 ( 0.4%) Users that have less than 1 test interactions\n",
      "EvaluatorHoldout: Processed 35586 (100.0%) in 37.99 sec. Users per second: 937\n",
      "Similarity column 38121 (100.0%), 2668.13 column/sec. Elapsed time 14.29 sec\n",
      "EvaluatorHoldout: Ignoring 167 ( 0.5%) Users that have less than 1 test interactions\n",
      "EvaluatorHoldout: Processed 35569 (100.0%) in 37.69 sec. Users per second: 944\n",
      "Similarity column 38121 (100.0%), 2636.83 column/sec. Elapsed time 14.46 sec\n",
      "EvaluatorHoldout: Ignoring 172 ( 0.5%) Users that have less than 1 test interactions\n",
      "EvaluatorHoldout: Processed 35564 (100.0%) in 38.04 sec. Users per second: 935\n"
     ]
    },
    {
     "name": "stderr",
     "output_type": "stream",
     "text": [
      "[I 2025-01-05 14:51:14,518] Trial 358 finished with value: 0.04431384850474095 and parameters: {'similarity': 'tversky', 'topK': 145, 'shrink': 19, 'feature_weighting': 'none', 'tversky_alpha': 0.1162662959841467, 'tversky_beta': 1.6628270447660658}. Best is trial 267 with value: 0.05351701566277965.\n"
     ]
    },
    {
     "name": "stdout",
     "output_type": "stream",
     "text": [
      "Similarity column 38121 (100.0%), 2700.90 column/sec. Elapsed time 14.11 sec\n",
      "EvaluatorHoldout: Ignoring 173 ( 0.5%) Users that have less than 1 test interactions\n",
      "EvaluatorHoldout: Processed 35563 (100.0%) in 32.03 sec. Users per second: 1110\n",
      "Similarity column 38121 (100.0%), 2674.87 column/sec. Elapsed time 14.25 sec\n",
      "EvaluatorHoldout: Ignoring 163 ( 0.5%) Users that have less than 1 test interactions\n",
      "EvaluatorHoldout: Processed 35573 (100.0%) in 32.32 sec. Users per second: 1101\n",
      "Similarity column 38121 (100.0%), 2717.27 column/sec. Elapsed time 14.03 sec\n",
      "EvaluatorHoldout: Ignoring 150 ( 0.4%) Users that have less than 1 test interactions\n",
      "EvaluatorHoldout: Processed 35586 (100.0%) in 32.49 sec. Users per second: 1095\n",
      "Similarity column 38121 (100.0%), 2699.31 column/sec. Elapsed time 14.12 sec\n",
      "EvaluatorHoldout: Ignoring 167 ( 0.5%) Users that have less than 1 test interactions\n",
      "EvaluatorHoldout: Processed 35569 (100.0%) in 31.99 sec. Users per second: 1112\n",
      "Similarity column 38121 (100.0%), 2690.52 column/sec. Elapsed time 14.17 sec\n",
      "EvaluatorHoldout: Ignoring 172 ( 0.5%) Users that have less than 1 test interactions\n",
      "EvaluatorHoldout: Processed 35564 (100.0%) in 32.21 sec. Users per second: 1104\n"
     ]
    },
    {
     "name": "stderr",
     "output_type": "stream",
     "text": [
      "[I 2025-01-05 14:55:08,139] Trial 359 finished with value: 0.051137952942888254 and parameters: {'similarity': 'tversky', 'topK': 11, 'shrink': 61, 'feature_weighting': 'none', 'tversky_alpha': 1.4287099289419074, 'tversky_beta': 1.8294814153736396}. Best is trial 267 with value: 0.05351701566277965.\n"
     ]
    },
    {
     "name": "stdout",
     "output_type": "stream",
     "text": [
      "Similarity column 38121 (100.0%), 2725.28 column/sec. Elapsed time 13.99 sec\n",
      "EvaluatorHoldout: Ignoring 173 ( 0.5%) Users that have less than 1 test interactions\n",
      "EvaluatorHoldout: Processed 35563 (100.0%) in 36.46 sec. Users per second: 975\n",
      "Similarity column 38121 (100.0%), 2733.60 column/sec. Elapsed time 13.95 sec\n",
      "EvaluatorHoldout: Ignoring 163 ( 0.5%) Users that have less than 1 test interactions\n",
      "EvaluatorHoldout: Processed 35573 (100.0%) in 36.58 sec. Users per second: 973\n",
      "Similarity column 38121 (100.0%), 2718.26 column/sec. Elapsed time 14.02 sec\n",
      "EvaluatorHoldout: Ignoring 150 ( 0.4%) Users that have less than 1 test interactions\n",
      "EvaluatorHoldout: Processed 35586 (100.0%) in 36.49 sec. Users per second: 975\n",
      "Similarity column 38121 (100.0%), 2733.90 column/sec. Elapsed time 13.94 sec\n",
      "EvaluatorHoldout: Ignoring 167 ( 0.5%) Users that have less than 1 test interactions\n",
      "EvaluatorHoldout: Processed 35569 (100.0%) in 36.59 sec. Users per second: 972\n",
      "Similarity column 38121 (100.0%), 2731.06 column/sec. Elapsed time 13.96 sec\n",
      "EvaluatorHoldout: Ignoring 172 ( 0.5%) Users that have less than 1 test interactions\n",
      "EvaluatorHoldout: Processed 35564 (100.0%) in 36.40 sec. Users per second: 977\n"
     ]
    },
    {
     "name": "stderr",
     "output_type": "stream",
     "text": [
      "[I 2025-01-05 14:59:22,483] Trial 360 finished with value: 0.039108616243827964 and parameters: {'similarity': 'tversky', 'topK': 27, 'shrink': 43, 'feature_weighting': 'none', 'tversky_alpha': 0.04721757119243737, 'tversky_beta': 0.010508393213481737}. Best is trial 267 with value: 0.05351701566277965.\n"
     ]
    },
    {
     "name": "stdout",
     "output_type": "stream",
     "text": [
      "Similarity column 38121 (100.0%), 2717.50 column/sec. Elapsed time 14.03 sec\n",
      "EvaluatorHoldout: Ignoring 173 ( 0.5%) Users that have less than 1 test interactions\n",
      "EvaluatorHoldout: Processed 35563 (100.0%) in 31.56 sec. Users per second: 1127\n",
      "Similarity column 38121 (100.0%), 2701.49 column/sec. Elapsed time 14.11 sec\n",
      "EvaluatorHoldout: Ignoring 163 ( 0.5%) Users that have less than 1 test interactions\n",
      "EvaluatorHoldout: Processed 35573 (100.0%) in 31.50 sec. Users per second: 1129\n",
      "Similarity column 38121 (100.0%), 2689.16 column/sec. Elapsed time 14.18 sec\n",
      "EvaluatorHoldout: Ignoring 150 ( 0.4%) Users that have less than 1 test interactions\n",
      "EvaluatorHoldout: Processed 35586 (100.0%) in 31.77 sec. Users per second: 1120\n",
      "Similarity column 38121 (100.0%), 2717.51 column/sec. Elapsed time 14.03 sec\n",
      "EvaluatorHoldout: Ignoring 167 ( 0.5%) Users that have less than 1 test interactions\n",
      "EvaluatorHoldout: Processed 35569 (100.0%) in 31.62 sec. Users per second: 1125\n",
      "Similarity column 38121 (100.0%), 2666.36 column/sec. Elapsed time 14.30 sec\n",
      "EvaluatorHoldout: Ignoring 172 ( 0.5%) Users that have less than 1 test interactions\n",
      "EvaluatorHoldout: Processed 35564 (100.0%) in 31.99 sec. Users per second: 1112\n"
     ]
    },
    {
     "name": "stderr",
     "output_type": "stream",
     "text": [
      "[I 2025-01-05 15:03:13,452] Trial 361 finished with value: 0.05318697410454916 and parameters: {'similarity': 'tversky', 'topK': 14, 'shrink': 15, 'feature_weighting': 'none', 'tversky_alpha': 0.08063247500499891, 'tversky_beta': 1.8983689643355246}. Best is trial 267 with value: 0.05351701566277965.\n"
     ]
    },
    {
     "name": "stdout",
     "output_type": "stream",
     "text": [
      "Similarity column 38121 (100.0%), 2679.03 column/sec. Elapsed time 14.23 sec\n",
      "EvaluatorHoldout: Ignoring 173 ( 0.5%) Users that have less than 1 test interactions\n",
      "EvaluatorHoldout: Processed 35563 (100.0%) in 33.79 sec. Users per second: 1052\n",
      "Similarity column 38121 (100.0%), 2667.68 column/sec. Elapsed time 14.29 sec\n",
      "EvaluatorHoldout: Ignoring 163 ( 0.5%) Users that have less than 1 test interactions\n",
      "EvaluatorHoldout: Processed 35573 (100.0%) in 34.50 sec. Users per second: 1031\n",
      "Similarity column 38121 (100.0%), 2669.07 column/sec. Elapsed time 14.28 sec\n",
      "EvaluatorHoldout: Ignoring 150 ( 0.4%) Users that have less than 1 test interactions\n",
      "EvaluatorHoldout: Processed 35586 (100.0%) in 33.84 sec. Users per second: 1052\n",
      "Similarity column 38121 (100.0%), 2709.57 column/sec. Elapsed time 14.07 sec\n",
      "EvaluatorHoldout: Ignoring 167 ( 0.5%) Users that have less than 1 test interactions\n",
      "EvaluatorHoldout: Processed 35569 (100.0%) in 33.77 sec. Users per second: 1053\n",
      "Similarity column 38121 (100.0%), 2677.87 column/sec. Elapsed time 14.24 sec\n",
      "EvaluatorHoldout: Ignoring 172 ( 0.5%) Users that have less than 1 test interactions\n",
      "EvaluatorHoldout: Processed 35564 (100.0%) in 33.73 sec. Users per second: 1054\n"
     ]
    },
    {
     "name": "stderr",
     "output_type": "stream",
     "text": [
      "[I 2025-01-05 15:07:16,436] Trial 362 finished with value: 0.04983285667641849 and parameters: {'similarity': 'tversky', 'topK': 48, 'shrink': 1, 'feature_weighting': 'none', 'tversky_alpha': 0.13287134152524976, 'tversky_beta': 1.95597044582921}. Best is trial 267 with value: 0.05351701566277965.\n"
     ]
    },
    {
     "name": "stdout",
     "output_type": "stream",
     "text": [
      "Similarity column 38121 (100.0%), 2703.07 column/sec. Elapsed time 14.10 sec\n",
      "EvaluatorHoldout: Ignoring 173 ( 0.5%) Users that have less than 1 test interactions\n",
      "EvaluatorHoldout: Processed 35563 (100.0%) in 32.63 sec. Users per second: 1090\n",
      "Similarity column 38121 (100.0%), 2687.69 column/sec. Elapsed time 14.18 sec\n",
      "EvaluatorHoldout: Ignoring 163 ( 0.5%) Users that have less than 1 test interactions\n",
      "EvaluatorHoldout: Processed 35573 (100.0%) in 32.68 sec. Users per second: 1088\n",
      "Similarity column 38121 (100.0%), 2712.11 column/sec. Elapsed time 14.06 sec\n",
      "EvaluatorHoldout: Ignoring 150 ( 0.4%) Users that have less than 1 test interactions\n",
      "EvaluatorHoldout: Processed 35586 (100.0%) in 32.87 sec. Users per second: 1083\n",
      "Similarity column 38121 (100.0%), 2712.58 column/sec. Elapsed time 14.05 sec\n",
      "EvaluatorHoldout: Ignoring 167 ( 0.5%) Users that have less than 1 test interactions\n",
      "EvaluatorHoldout: Processed 35569 (100.0%) in 32.63 sec. Users per second: 1090\n",
      "Similarity column 38121 (100.0%), 2722.68 column/sec. Elapsed time 14.00 sec\n",
      "EvaluatorHoldout: Ignoring 172 ( 0.5%) Users that have less than 1 test interactions\n",
      "EvaluatorHoldout: Processed 35564 (100.0%) in 32.67 sec. Users per second: 1089\n"
     ]
    },
    {
     "name": "stderr",
     "output_type": "stream",
     "text": [
      "[I 2025-01-05 15:11:12,329] Trial 363 finished with value: 0.05172419486866692 and parameters: {'similarity': 'tversky', 'topK': 24, 'shrink': 18, 'feature_weighting': 'none', 'tversky_alpha': 0.09764231066594833, 'tversky_beta': 1.8884565168446668}. Best is trial 267 with value: 0.05351701566277965.\n"
     ]
    },
    {
     "name": "stdout",
     "output_type": "stream",
     "text": [
      "Similarity column 38121 (100.0%), 2777.65 column/sec. Elapsed time 13.72 sec\n",
      "EvaluatorHoldout: Ignoring 173 ( 0.5%) Users that have less than 1 test interactions\n",
      "EvaluatorHoldout: Processed 35563 (100.0%) in 35.43 sec. Users per second: 1004\n",
      "Similarity column 38121 (100.0%), 2772.45 column/sec. Elapsed time 13.75 sec\n",
      "EvaluatorHoldout: Ignoring 163 ( 0.5%) Users that have less than 1 test interactions\n",
      "EvaluatorHoldout: Processed 35573 (100.0%) in 35.50 sec. Users per second: 1002\n",
      "Similarity column 38121 (100.0%), 2785.99 column/sec. Elapsed time 13.68 sec\n",
      "EvaluatorHoldout: Ignoring 150 ( 0.4%) Users that have less than 1 test interactions\n",
      "EvaluatorHoldout: Processed 35586 (100.0%) in 35.64 sec. Users per second: 998\n",
      "Similarity column 38121 (100.0%), 2802.98 column/sec. Elapsed time 13.60 sec\n",
      "EvaluatorHoldout: Ignoring 167 ( 0.5%) Users that have less than 1 test interactions\n",
      "EvaluatorHoldout: Processed 35569 (100.0%) in 35.44 sec. Users per second: 1004\n",
      "Similarity column 38121 (100.0%), 2789.26 column/sec. Elapsed time 13.67 sec\n",
      "EvaluatorHoldout: Ignoring 172 ( 0.5%) Users that have less than 1 test interactions\n",
      "EvaluatorHoldout: Processed 35564 (100.0%) in 35.61 sec. Users per second: 999\n"
     ]
    },
    {
     "name": "stderr",
     "output_type": "stream",
     "text": [
      "[I 2025-01-05 15:15:19,829] Trial 364 finished with value: 0.04619939186223303 and parameters: {'similarity': 'asymmetric', 'topK': 68, 'shrink': 23, 'feature_weighting': 'none', 'asymmetric_alpha': 0.05777588698873659}. Best is trial 267 with value: 0.05351701566277965.\n"
     ]
    },
    {
     "name": "stdout",
     "output_type": "stream",
     "text": [
      "Similarity column 38121 (100.0%), 2694.27 column/sec. Elapsed time 14.15 sec\n",
      "EvaluatorHoldout: Ignoring 173 ( 0.5%) Users that have less than 1 test interactions\n",
      "EvaluatorHoldout: Processed 35563 (100.0%) in 30.80 sec. Users per second: 1155\n",
      "Similarity column 38121 (100.0%), 2695.69 column/sec. Elapsed time 14.14 sec\n",
      "EvaluatorHoldout: Ignoring 163 ( 0.5%) Users that have less than 1 test interactions\n",
      "EvaluatorHoldout: Processed 35573 (100.0%) in 30.69 sec. Users per second: 1159\n",
      "Similarity column 38121 (100.0%), 2717.38 column/sec. Elapsed time 14.03 sec\n",
      "EvaluatorHoldout: Ignoring 150 ( 0.4%) Users that have less than 1 test interactions\n",
      "EvaluatorHoldout: Processed 35586 (100.0%) in 30.75 sec. Users per second: 1157\n",
      "Similarity column 38121 (100.0%), 2693.95 column/sec. Elapsed time 14.15 sec\n",
      "EvaluatorHoldout: Ignoring 167 ( 0.5%) Users that have less than 1 test interactions\n",
      "EvaluatorHoldout: Processed 35569 (100.0%) in 30.38 sec. Users per second: 1171\n",
      "Similarity column 38121 (100.0%), 2704.90 column/sec. Elapsed time 14.09 sec\n",
      "EvaluatorHoldout: Ignoring 172 ( 0.5%) Users that have less than 1 test interactions\n",
      "EvaluatorHoldout: Processed 35564 (100.0%) in 31.10 sec. Users per second: 1143\n"
     ]
    },
    {
     "name": "stderr",
     "output_type": "stream",
     "text": [
      "[I 2025-01-05 15:19:06,004] Trial 365 finished with value: 0.051540571067009634 and parameters: {'similarity': 'tversky', 'topK': 11, 'shrink': 1, 'feature_weighting': 'none', 'tversky_alpha': 0.0009822001228106687, 'tversky_beta': 1.9093069947279615}. Best is trial 267 with value: 0.05351701566277965.\n"
     ]
    },
    {
     "name": "stdout",
     "output_type": "stream",
     "text": [
      "Similarity column 38121 (100.0%), 2540.93 column/sec. Elapsed time 15.00 sec\n",
      "EvaluatorHoldout: Ignoring 173 ( 0.5%) Users that have less than 1 test interactions\n",
      "EvaluatorHoldout: Processed 35563 (100.0%) in 51.52 sec. Users per second: 690\n",
      "Similarity column 38121 (100.0%), 2534.16 column/sec. Elapsed time 15.04 sec\n",
      "EvaluatorHoldout: Ignoring 163 ( 0.5%) Users that have less than 1 test interactions\n",
      "EvaluatorHoldout: Processed 35573 (100.0%) in 51.36 sec. Users per second: 693\n",
      "Similarity column 38121 (100.0%), 2548.50 column/sec. Elapsed time 14.96 sec\n",
      "EvaluatorHoldout: Ignoring 150 ( 0.4%) Users that have less than 1 test interactions\n",
      "EvaluatorHoldout: Processed 35586 (100.0%) in 51.34 sec. Users per second: 693\n",
      "Similarity column 38121 (100.0%), 2561.02 column/sec. Elapsed time 14.89 sec\n",
      "EvaluatorHoldout: Ignoring 167 ( 0.5%) Users that have less than 1 test interactions\n",
      "EvaluatorHoldout: Processed 35569 (100.0%) in 51.06 sec. Users per second: 697\n",
      "Similarity column 38121 (100.0%), 2557.78 column/sec. Elapsed time 14.90 sec\n",
      "EvaluatorHoldout: Ignoring 172 ( 0.5%) Users that have less than 1 test interactions\n",
      "EvaluatorHoldout: Processed 35564 (100.0%) in 51.24 sec. Users per second: 694\n"
     ]
    },
    {
     "name": "stderr",
     "output_type": "stream",
     "text": [
      "[I 2025-01-05 15:24:45,852] Trial 366 finished with value: 0.03492244675424558 and parameters: {'similarity': 'tversky', 'topK': 750, 'shrink': 53, 'feature_weighting': 'none', 'tversky_alpha': 0.07658922814745481, 'tversky_beta': 1.8616516530314462}. Best is trial 267 with value: 0.05351701566277965.\n"
     ]
    },
    {
     "name": "stdout",
     "output_type": "stream",
     "text": [
      "Similarity column 38121 (100.0%), 3204.19 column/sec. Elapsed time 11.90 sec\n",
      "EvaluatorHoldout: Ignoring 173 ( 0.5%) Users that have less than 1 test interactions\n",
      "EvaluatorHoldout: Processed 35563 (100.0%) in 28.58 sec. Users per second: 1244\n",
      "Similarity column 38121 (100.0%), 3181.34 column/sec. Elapsed time 11.98 sec\n",
      "EvaluatorHoldout: Ignoring 163 ( 0.5%) Users that have less than 1 test interactions\n",
      "EvaluatorHoldout: Processed 35573 (100.0%) in 28.03 sec. Users per second: 1269\n",
      "Similarity column 38121 (100.0%), 3186.10 column/sec. Elapsed time 11.96 sec\n",
      "EvaluatorHoldout: Ignoring 150 ( 0.4%) Users that have less than 1 test interactions\n",
      "EvaluatorHoldout: Processed 35586 (100.0%) in 28.16 sec. Users per second: 1264\n",
      "Similarity column 38121 (100.0%), 3218.32 column/sec. Elapsed time 11.85 sec\n",
      "EvaluatorHoldout: Ignoring 167 ( 0.5%) Users that have less than 1 test interactions\n",
      "EvaluatorHoldout: Processed 35569 (100.0%) in 28.01 sec. Users per second: 1270\n",
      "Similarity column 38121 (100.0%), 3198.57 column/sec. Elapsed time 11.92 sec\n",
      "EvaluatorHoldout: Ignoring 172 ( 0.5%) Users that have less than 1 test interactions\n",
      "EvaluatorHoldout: Processed 35564 (100.0%) in 27.86 sec. Users per second: 1277\n"
     ]
    },
    {
     "name": "stderr",
     "output_type": "stream",
     "text": [
      "[I 2025-01-05 15:28:07,895] Trial 367 finished with value: 0.04656199182493171 and parameters: {'similarity': 'tversky', 'topK': 1, 'shrink': 31, 'feature_weighting': 'none', 'tversky_alpha': 0.15638678354932717, 'tversky_beta': 1.957178654842869}. Best is trial 267 with value: 0.05351701566277965.\n"
     ]
    },
    {
     "name": "stdout",
     "output_type": "stream",
     "text": [
      "Similarity column 38121 (100.0%), 2964.45 column/sec. Elapsed time 12.86 sec\n",
      "EvaluatorHoldout: Ignoring 173 ( 0.5%) Users that have less than 1 test interactions\n",
      "EvaluatorHoldout: Processed 35563 (100.0%) in 35.34 sec. Users per second: 1006\n",
      "Similarity column 38121 (100.0%), 2961.09 column/sec. Elapsed time 12.87 sec\n",
      "EvaluatorHoldout: Ignoring 163 ( 0.5%) Users that have less than 1 test interactions\n",
      "EvaluatorHoldout: Processed 35573 (100.0%) in 35.07 sec. Users per second: 1014\n",
      "Similarity column 38121 (100.0%), 2943.77 column/sec. Elapsed time 12.95 sec\n",
      "EvaluatorHoldout: Ignoring 150 ( 0.4%) Users that have less than 1 test interactions\n",
      "EvaluatorHoldout: Processed 35586 (100.0%) in 36.05 sec. Users per second: 987\n",
      "Similarity column 38121 (100.0%), 2965.01 column/sec. Elapsed time 12.86 sec\n",
      "EvaluatorHoldout: Ignoring 167 ( 0.5%) Users that have less than 1 test interactions\n",
      "EvaluatorHoldout: Processed 35569 (100.0%) in 35.38 sec. Users per second: 1005\n",
      "Similarity column 38121 (100.0%), 2921.14 column/sec. Elapsed time 13.05 sec\n",
      "EvaluatorHoldout: Ignoring 172 ( 0.5%) Users that have less than 1 test interactions\n",
      "EvaluatorHoldout: Processed 35564 (100.0%) in 35.35 sec. Users per second: 1006\n"
     ]
    },
    {
     "name": "stderr",
     "output_type": "stream",
     "text": [
      "[I 2025-01-05 15:32:11,722] Trial 368 finished with value: 0.04707263653009917 and parameters: {'similarity': 'jaccard', 'topK': 38, 'shrink': 75, 'feature_weighting': 'none'}. Best is trial 267 with value: 0.05351701566277965.\n"
     ]
    },
    {
     "name": "stdout",
     "output_type": "stream",
     "text": [
      "Similarity column 38121 (100.0%), 3491.87 column/sec. Elapsed time 10.92 sec\n",
      "EvaluatorHoldout: Ignoring 173 ( 0.5%) Users that have less than 1 test interactions\n",
      "EvaluatorHoldout: Processed 35563 (100.0%) in 25.60 sec. Users per second: 1389\n",
      "Similarity column 38121 (100.0%), 3476.49 column/sec. Elapsed time 10.97 sec\n",
      "EvaluatorHoldout: Ignoring 163 ( 0.5%) Users that have less than 1 test interactions\n",
      "EvaluatorHoldout: Processed 35573 (100.0%) in 25.29 sec. Users per second: 1407\n",
      "Similarity column 38121 (100.0%), 3524.64 column/sec. Elapsed time 10.82 sec\n",
      "EvaluatorHoldout: Ignoring 150 ( 0.4%) Users that have less than 1 test interactions\n",
      "EvaluatorHoldout: Processed 35586 (100.0%) in 25.24 sec. Users per second: 1410\n",
      "Similarity column 38121 (100.0%), 3473.57 column/sec. Elapsed time 10.97 sec\n",
      "EvaluatorHoldout: Ignoring 167 ( 0.5%) Users that have less than 1 test interactions\n",
      "EvaluatorHoldout: Processed 35569 (100.0%) in 25.05 sec. Users per second: 1420\n",
      "Similarity column 38121 (100.0%), 3487.60 column/sec. Elapsed time 10.93 sec\n",
      "EvaluatorHoldout: Ignoring 172 ( 0.5%) Users that have less than 1 test interactions\n",
      "EvaluatorHoldout: Processed 35564 (100.0%) in 25.10 sec. Users per second: 1417\n"
     ]
    },
    {
     "name": "stderr",
     "output_type": "stream",
     "text": [
      "[I 2025-01-05 15:35:14,420] Trial 369 finished with value: 0.0002664826418719655 and parameters: {'similarity': 'tversky', 'topK': 0, 'shrink': 15, 'feature_weighting': 'none', 'tversky_alpha': 0.06566658394680847, 'tversky_beta': 1.9123335622240738}. Best is trial 267 with value: 0.05351701566277965.\n"
     ]
    },
    {
     "name": "stdout",
     "output_type": "stream",
     "text": [
      "Similarity column 38121 (100.0%), 2727.01 column/sec. Elapsed time 13.98 sec\n",
      "EvaluatorHoldout: Ignoring 173 ( 0.5%) Users that have less than 1 test interactions\n",
      "EvaluatorHoldout: Processed 35563 (100.0%) in 34.56 sec. Users per second: 1029\n",
      "Similarity column 38121 (100.0%), 2724.13 column/sec. Elapsed time 13.99 sec\n",
      "EvaluatorHoldout: Ignoring 163 ( 0.5%) Users that have less than 1 test interactions\n",
      "EvaluatorHoldout: Processed 35573 (100.0%) in 34.87 sec. Users per second: 1020\n",
      "Similarity column 38121 (100.0%), 2732.99 column/sec. Elapsed time 13.95 sec\n",
      "EvaluatorHoldout: Ignoring 150 ( 0.4%) Users that have less than 1 test interactions\n",
      "EvaluatorHoldout: Processed 35586 (100.0%) in 34.87 sec. Users per second: 1020\n",
      "Similarity column 38121 (100.0%), 2725.57 column/sec. Elapsed time 13.99 sec\n",
      "EvaluatorHoldout: Ignoring 167 ( 0.5%) Users that have less than 1 test interactions\n",
      "EvaluatorHoldout: Processed 35569 (100.0%) in 34.59 sec. Users per second: 1028\n",
      "Similarity column 38121 (100.0%), 2737.46 column/sec. Elapsed time 13.93 sec\n",
      "EvaluatorHoldout: Ignoring 172 ( 0.5%) Users that have less than 1 test interactions\n",
      "EvaluatorHoldout: Processed 35564 (100.0%) in 34.82 sec. Users per second: 1021\n"
     ]
    },
    {
     "name": "stderr",
     "output_type": "stream",
     "text": [
      "[I 2025-01-05 15:39:19,936] Trial 370 finished with value: 0.04040000862559073 and parameters: {'similarity': 'tversky', 'topK': 24, 'shrink': 602, 'feature_weighting': 'none', 'tversky_alpha': 0.039654543445849386, 'tversky_beta': 1.8636132379327714}. Best is trial 267 with value: 0.05351701566277965.\n"
     ]
    },
    {
     "name": "stdout",
     "output_type": "stream",
     "text": [
      "Similarity column 38121 (100.0%), 2702.39 column/sec. Elapsed time 14.11 sec\n",
      "EvaluatorHoldout: Ignoring 173 ( 0.5%) Users that have less than 1 test interactions\n",
      "EvaluatorHoldout: Processed 35563 (100.0%) in 33.71 sec. Users per second: 1055\n",
      "Similarity column 38121 (100.0%), 2699.61 column/sec. Elapsed time 14.12 sec\n",
      "EvaluatorHoldout: Ignoring 163 ( 0.5%) Users that have less than 1 test interactions\n",
      "EvaluatorHoldout: Processed 35573 (100.0%) in 33.98 sec. Users per second: 1047\n",
      "Similarity column 38121 (100.0%), 2699.48 column/sec. Elapsed time 14.12 sec\n",
      "EvaluatorHoldout: Ignoring 150 ( 0.4%) Users that have less than 1 test interactions\n",
      "EvaluatorHoldout: Processed 35586 (100.0%) in 33.99 sec. Users per second: 1047\n",
      "Similarity column 38121 (100.0%), 2724.73 column/sec. Elapsed time 13.99 sec\n",
      "EvaluatorHoldout: Ignoring 167 ( 0.5%) Users that have less than 1 test interactions\n",
      "EvaluatorHoldout: Processed 35569 (100.0%) in 33.87 sec. Users per second: 1050\n",
      "Similarity column 38121 (100.0%), 2651.23 column/sec. Elapsed time 14.38 sec\n",
      "EvaluatorHoldout: Ignoring 172 ( 0.5%) Users that have less than 1 test interactions\n",
      "EvaluatorHoldout: Processed 35564 (100.0%) in 33.86 sec. Users per second: 1050\n"
     ]
    },
    {
     "name": "stderr",
     "output_type": "stream",
     "text": [
      "[I 2025-01-05 15:43:22,130] Trial 371 finished with value: 0.04941823080124984 and parameters: {'similarity': 'tversky', 'topK': 39, 'shrink': 38, 'feature_weighting': 'none', 'tversky_alpha': 0.09507555612276666, 'tversky_beta': 1.9716020136769414}. Best is trial 267 with value: 0.05351701566277965.\n"
     ]
    },
    {
     "name": "stdout",
     "output_type": "stream",
     "text": [
      "Similarity column 38121 (100.0%), 2705.80 column/sec. Elapsed time 14.09 sec\n",
      "EvaluatorHoldout: Ignoring 173 ( 0.5%) Users that have less than 1 test interactions\n",
      "EvaluatorHoldout: Processed 35563 (100.0%) in 32.09 sec. Users per second: 1108\n",
      "Similarity column 38121 (100.0%), 2682.16 column/sec. Elapsed time 14.21 sec\n",
      "EvaluatorHoldout: Ignoring 163 ( 0.5%) Users that have less than 1 test interactions\n",
      "EvaluatorHoldout: Processed 35573 (100.0%) in 31.95 sec. Users per second: 1114\n",
      "Similarity column 38121 (100.0%), 2705.37 column/sec. Elapsed time 14.09 sec\n",
      "EvaluatorHoldout: Ignoring 150 ( 0.4%) Users that have less than 1 test interactions\n",
      "EvaluatorHoldout: Processed 35586 (100.0%) in 31.84 sec. Users per second: 1118\n",
      "Similarity column 38121 (100.0%), 2701.40 column/sec. Elapsed time 14.11 sec\n",
      "EvaluatorHoldout: Ignoring 167 ( 0.5%) Users that have less than 1 test interactions\n",
      "EvaluatorHoldout: Processed 35569 (100.0%) in 31.92 sec. Users per second: 1114\n",
      "Similarity column 38121 (100.0%), 2703.21 column/sec. Elapsed time 14.10 sec\n",
      "EvaluatorHoldout: Ignoring 172 ( 0.5%) Users that have less than 1 test interactions\n",
      "EvaluatorHoldout: Processed 35564 (100.0%) in 31.58 sec. Users per second: 1126\n"
     ]
    },
    {
     "name": "stderr",
     "output_type": "stream",
     "text": [
      "[I 2025-01-05 15:47:14,077] Trial 372 finished with value: 0.05239761587862009 and parameters: {'similarity': 'tversky', 'topK': 17, 'shrink': 19, 'feature_weighting': 'none', 'tversky_alpha': 0.0018547232566422309, 'tversky_beta': 1.8262536293318783}. Best is trial 267 with value: 0.05351701566277965.\n"
     ]
    },
    {
     "name": "stdout",
     "output_type": "stream",
     "text": [
      "Similarity column 38121 (100.0%), 2700.27 column/sec. Elapsed time 14.12 sec\n",
      "EvaluatorHoldout: Ignoring 173 ( 0.5%) Users that have less than 1 test interactions\n",
      "EvaluatorHoldout: Processed 35563 (100.0%) in 34.90 sec. Users per second: 1019\n",
      "Similarity column 38121 (100.0%), 2690.71 column/sec. Elapsed time 14.17 sec\n",
      "EvaluatorHoldout: Ignoring 163 ( 0.5%) Users that have less than 1 test interactions\n",
      "EvaluatorHoldout: Processed 35573 (100.0%) in 35.13 sec. Users per second: 1012\n",
      "Similarity column 38121 (100.0%), 2671.73 column/sec. Elapsed time 14.27 sec\n",
      "EvaluatorHoldout: Ignoring 150 ( 0.4%) Users that have less than 1 test interactions\n",
      "EvaluatorHoldout: Processed 35586 (100.0%) in 35.03 sec. Users per second: 1016\n",
      "Similarity column 38121 (100.0%), 2680.59 column/sec. Elapsed time 14.22 sec\n",
      "EvaluatorHoldout: Ignoring 167 ( 0.5%) Users that have less than 1 test interactions\n",
      "EvaluatorHoldout: Processed 35569 (100.0%) in 34.96 sec. Users per second: 1017\n",
      "Similarity column 38121 (100.0%), 2685.88 column/sec. Elapsed time 14.19 sec\n",
      "EvaluatorHoldout: Ignoring 172 ( 0.5%) Users that have less than 1 test interactions\n",
      "EvaluatorHoldout: Processed 35564 (100.0%) in 34.96 sec. Users per second: 1017\n"
     ]
    },
    {
     "name": "stderr",
     "output_type": "stream",
     "text": [
      "[I 2025-01-05 15:51:22,225] Trial 373 finished with value: 0.04730642709610305 and parameters: {'similarity': 'tversky', 'topK': 54, 'shrink': 59, 'feature_weighting': 'none', 'tversky_alpha': 0.17613348645059823, 'tversky_beta': 1.9337260047957903}. Best is trial 267 with value: 0.05351701566277965.\n"
     ]
    },
    {
     "name": "stdout",
     "output_type": "stream",
     "text": [
      "Similarity column 38121 (100.0%), 3485.02 column/sec. Elapsed time 10.94 sec\n",
      "EvaluatorHoldout: Ignoring 173 ( 0.5%) Users that have less than 1 test interactions\n",
      "EvaluatorHoldout: Processed 35563 (100.0%) in 25.00 sec. Users per second: 1422\n",
      "Similarity column 38121 (100.0%), 3485.17 column/sec. Elapsed time 10.94 sec\n",
      "EvaluatorHoldout: Ignoring 163 ( 0.5%) Users that have less than 1 test interactions\n",
      "EvaluatorHoldout: Processed 35573 (100.0%) in 25.20 sec. Users per second: 1412\n",
      "Similarity column 38121 (100.0%), 3490.80 column/sec. Elapsed time 10.92 sec\n",
      "EvaluatorHoldout: Ignoring 150 ( 0.4%) Users that have less than 1 test interactions\n",
      "EvaluatorHoldout: Processed 35586 (100.0%) in 25.17 sec. Users per second: 1414\n",
      "Similarity column 38121 (100.0%), 3470.90 column/sec. Elapsed time 10.98 sec\n",
      "EvaluatorHoldout: Ignoring 167 ( 0.5%) Users that have less than 1 test interactions\n",
      "EvaluatorHoldout: Processed 35569 (100.0%) in 25.20 sec. Users per second: 1412\n",
      "Similarity column 38121 (100.0%), 3467.85 column/sec. Elapsed time 10.99 sec\n",
      "EvaluatorHoldout: Ignoring 172 ( 0.5%) Users that have less than 1 test interactions\n",
      "EvaluatorHoldout: Processed 35564 (100.0%) in 25.04 sec. Users per second: 1420\n"
     ]
    },
    {
     "name": "stderr",
     "output_type": "stream",
     "text": [
      "[I 2025-01-05 15:54:24,467] Trial 374 finished with value: 0.0002664826418719655 and parameters: {'similarity': 'tversky', 'topK': 0, 'shrink': 1, 'feature_weighting': 'none', 'tversky_alpha': 0.12096031747657289, 'tversky_beta': 1.8771632977123571}. Best is trial 267 with value: 0.05351701566277965.\n"
     ]
    },
    {
     "name": "stdout",
     "output_type": "stream",
     "text": [
      "Similarity column 38121 (100.0%), 2663.90 column/sec. Elapsed time 14.31 sec\n",
      "EvaluatorHoldout: Ignoring 173 ( 0.5%) Users that have less than 1 test interactions\n",
      "EvaluatorHoldout: Processed 35563 (100.0%) in 33.46 sec. Users per second: 1063\n",
      "Similarity column 38121 (100.0%), 2705.69 column/sec. Elapsed time 14.09 sec\n",
      "EvaluatorHoldout: Ignoring 163 ( 0.5%) Users that have less than 1 test interactions\n",
      "EvaluatorHoldout: Processed 35573 (100.0%) in 33.24 sec. Users per second: 1070\n",
      "Similarity column 38121 (100.0%), 2718.55 column/sec. Elapsed time 14.02 sec\n",
      "EvaluatorHoldout: Ignoring 150 ( 0.4%) Users that have less than 1 test interactions\n",
      "EvaluatorHoldout: Processed 35586 (100.0%) in 33.25 sec. Users per second: 1070\n",
      "Similarity column 38121 (100.0%), 2710.89 column/sec. Elapsed time 14.06 sec\n",
      "EvaluatorHoldout: Ignoring 167 ( 0.5%) Users that have less than 1 test interactions\n",
      "EvaluatorHoldout: Processed 35569 (100.0%) in 33.20 sec. Users per second: 1071\n",
      "Similarity column 38121 (100.0%), 2715.27 column/sec. Elapsed time 14.04 sec\n",
      "EvaluatorHoldout: Ignoring 172 ( 0.5%) Users that have less than 1 test interactions\n",
      "EvaluatorHoldout: Processed 35564 (100.0%) in 33.01 sec. Users per second: 1077\n"
     ]
    },
    {
     "name": "stderr",
     "output_type": "stream",
     "text": [
      "[I 2025-01-05 15:58:23,758] Trial 375 finished with value: 0.048651239718197604 and parameters: {'similarity': 'tversky', 'topK': 29, 'shrink': 38, 'feature_weighting': 'BM25', 'tversky_alpha': 0.0638369902403245, 'tversky_beta': 1.9042314392188722}. Best is trial 267 with value: 0.05351701566277965.\n"
     ]
    },
    {
     "name": "stdout",
     "output_type": "stream",
     "text": [
      "Similarity column 38121 (100.0%), 2720.44 column/sec. Elapsed time 14.01 sec\n",
      "EvaluatorHoldout: Ignoring 173 ( 0.5%) Users that have less than 1 test interactions\n",
      "EvaluatorHoldout: Processed 35563 (100.0%) in 31.94 sec. Users per second: 1113\n",
      "Similarity column 38121 (100.0%), 2691.10 column/sec. Elapsed time 14.17 sec\n",
      "EvaluatorHoldout: Ignoring 163 ( 0.5%) Users that have less than 1 test interactions\n",
      "EvaluatorHoldout: Processed 35573 (100.0%) in 32.28 sec. Users per second: 1102\n",
      "Similarity column 38121 (100.0%), 2706.02 column/sec. Elapsed time 14.09 sec\n",
      "EvaluatorHoldout: Ignoring 150 ( 0.4%) Users that have less than 1 test interactions\n",
      "EvaluatorHoldout: Processed 35586 (100.0%) in 32.17 sec. Users per second: 1106\n",
      "Similarity column 38121 (100.0%), 2687.55 column/sec. Elapsed time 14.18 sec\n",
      "EvaluatorHoldout: Ignoring 167 ( 0.5%) Users that have less than 1 test interactions\n",
      "EvaluatorHoldout: Processed 35569 (100.0%) in 32.32 sec. Users per second: 1101\n",
      "Similarity column 38121 (100.0%), 2726.01 column/sec. Elapsed time 13.98 sec\n",
      "EvaluatorHoldout: Ignoring 172 ( 0.5%) Users that have less than 1 test interactions\n",
      "EvaluatorHoldout: Processed 35564 (100.0%) in 32.22 sec. Users per second: 1104\n"
     ]
    },
    {
     "name": "stderr",
     "output_type": "stream",
     "text": [
      "[I 2025-01-05 16:02:17,035] Trial 376 finished with value: 0.05129266217579649 and parameters: {'similarity': 'tversky', 'topK': 15, 'shrink': 70, 'feature_weighting': 'none', 'tversky_alpha': 0.03781436870268285, 'tversky_beta': 1.9935216931233026}. Best is trial 267 with value: 0.05351701566277965.\n"
     ]
    },
    {
     "name": "stdout",
     "output_type": "stream",
     "text": [
      "Similarity column 38121 (100.0%), 440.28 column/sec. Elapsed time 1.44 min\n",
      "EvaluatorHoldout: Ignoring 173 ( 0.5%) Users that have less than 1 test interactions\n",
      "EvaluatorHoldout: Processed 35563 (100.0%) in 34.60 sec. Users per second: 1028\n",
      "Similarity column 38121 (100.0%), 428.25 column/sec. Elapsed time 1.48 min\n",
      "EvaluatorHoldout: Ignoring 163 ( 0.5%) Users that have less than 1 test interactions\n",
      "EvaluatorHoldout: Processed 35573 (100.0%) in 34.71 sec. Users per second: 1025\n",
      "Similarity column 38121 (100.0%), 458.12 column/sec. Elapsed time 1.39 min\n",
      "EvaluatorHoldout: Ignoring 150 ( 0.4%) Users that have less than 1 test interactions\n",
      "EvaluatorHoldout: Processed 35586 (100.0%) in 34.50 sec. Users per second: 1031\n",
      "Similarity column 38121 (100.0%), 436.46 column/sec. Elapsed time 1.46 min\n",
      "EvaluatorHoldout: Ignoring 167 ( 0.5%) Users that have less than 1 test interactions\n",
      "EvaluatorHoldout: Processed 35569 (100.0%) in 34.39 sec. Users per second: 1034\n",
      "Similarity column 38121 (100.0%), 401.59 column/sec. Elapsed time 1.58 min\n",
      "EvaluatorHoldout: Ignoring 172 ( 0.5%) Users that have less than 1 test interactions\n",
      "EvaluatorHoldout: Processed 35564 (100.0%) in 34.65 sec. Users per second: 1026\n"
     ]
    },
    {
     "name": "stderr",
     "output_type": "stream",
     "text": [
      "[I 2025-01-05 16:12:31,833] Trial 377 finished with value: 0.032833428871407125 and parameters: {'similarity': 'euclidean', 'topK': 39, 'shrink': 20, 'feature_weighting': 'none', 'normalize_avg_row': False, 'similarity_from_distance_mode': 'log', 'normalize': True}. Best is trial 267 with value: 0.05351701566277965.\n"
     ]
    },
    {
     "name": "stdout",
     "output_type": "stream",
     "text": [
      "Similarity column 38121 (100.0%), 2696.20 column/sec. Elapsed time 14.14 sec\n",
      "EvaluatorHoldout: Ignoring 173 ( 0.5%) Users that have less than 1 test interactions\n",
      "EvaluatorHoldout: Processed 35563 (100.0%) in 31.94 sec. Users per second: 1113\n",
      "Similarity column 38121 (100.0%), 2715.97 column/sec. Elapsed time 14.04 sec\n",
      "EvaluatorHoldout: Ignoring 163 ( 0.5%) Users that have less than 1 test interactions\n",
      "EvaluatorHoldout: Processed 35573 (100.0%) in 32.16 sec. Users per second: 1106\n",
      "Similarity column 38121 (100.0%), 2704.28 column/sec. Elapsed time 14.10 sec\n",
      "EvaluatorHoldout: Ignoring 150 ( 0.4%) Users that have less than 1 test interactions\n",
      "EvaluatorHoldout: Processed 35586 (100.0%) in 32.08 sec. Users per second: 1109\n",
      "Similarity column 38121 (100.0%), 2703.18 column/sec. Elapsed time 14.10 sec\n",
      "EvaluatorHoldout: Ignoring 167 ( 0.5%) Users that have less than 1 test interactions\n",
      "EvaluatorHoldout: Processed 35569 (100.0%) in 31.90 sec. Users per second: 1115\n",
      "Similarity column 38121 (100.0%), 2694.84 column/sec. Elapsed time 14.15 sec\n",
      "EvaluatorHoldout: Ignoring 172 ( 0.5%) Users that have less than 1 test interactions\n",
      "EvaluatorHoldout: Processed 35564 (100.0%) in 31.99 sec. Users per second: 1112\n"
     ]
    },
    {
     "name": "stderr",
     "output_type": "stream",
     "text": [
      "[I 2025-01-05 16:16:24,326] Trial 378 finished with value: 0.05221626161352992 and parameters: {'similarity': 'tversky', 'topK': 14, 'shrink': 47, 'feature_weighting': 'none', 'tversky_alpha': 0.09596571603618917, 'tversky_beta': 1.826685089605933}. Best is trial 267 with value: 0.05351701566277965.\n"
     ]
    },
    {
     "name": "stdout",
     "output_type": "stream",
     "text": [
      "Similarity column 38121 (100.0%), 2703.19 column/sec. Elapsed time 14.10 sec\n",
      "EvaluatorHoldout: Ignoring 173 ( 0.5%) Users that have less than 1 test interactions\n",
      "EvaluatorHoldout: Processed 35563 (100.0%) in 32.19 sec. Users per second: 1105\n",
      "Similarity column 38121 (100.0%), 2695.07 column/sec. Elapsed time 14.14 sec\n",
      "EvaluatorHoldout: Ignoring 163 ( 0.5%) Users that have less than 1 test interactions\n",
      "EvaluatorHoldout: Processed 35573 (100.0%) in 32.25 sec. Users per second: 1103\n",
      "Similarity column 38121 (100.0%), 2705.27 column/sec. Elapsed time 14.09 sec\n",
      "EvaluatorHoldout: Ignoring 150 ( 0.4%) Users that have less than 1 test interactions\n",
      "EvaluatorHoldout: Processed 35586 (100.0%) in 32.27 sec. Users per second: 1103\n",
      "Similarity column 38121 (100.0%), 2706.18 column/sec. Elapsed time 14.09 sec\n",
      "EvaluatorHoldout: Ignoring 167 ( 0.5%) Users that have less than 1 test interactions\n",
      "EvaluatorHoldout: Processed 35569 (100.0%) in 32.19 sec. Users per second: 1105\n",
      "Similarity column 38121 (100.0%), 2698.80 column/sec. Elapsed time 14.13 sec\n",
      "EvaluatorHoldout: Ignoring 172 ( 0.5%) Users that have less than 1 test interactions\n",
      "EvaluatorHoldout: Processed 35564 (100.0%) in 32.41 sec. Users per second: 1097\n"
     ]
    },
    {
     "name": "stderr",
     "output_type": "stream",
     "text": [
      "[I 2025-01-05 16:20:18,212] Trial 379 finished with value: 0.05062357831681236 and parameters: {'similarity': 'tversky', 'topK': 26, 'shrink': 0, 'feature_weighting': 'none', 'tversky_alpha': 0.036834041488348075, 'tversky_beta': 1.705691005118638}. Best is trial 267 with value: 0.05351701566277965.\n"
     ]
    },
    {
     "name": "stdout",
     "output_type": "stream",
     "text": [
      "Similarity column 38121 (100.0%), 2700.14 column/sec. Elapsed time 14.12 sec\n",
      "EvaluatorHoldout: Ignoring 173 ( 0.5%) Users that have less than 1 test interactions\n",
      "EvaluatorHoldout: Processed 35563 (100.0%) in 34.47 sec. Users per second: 1032\n",
      "Similarity column 38121 (100.0%), 2684.32 column/sec. Elapsed time 14.20 sec\n",
      "EvaluatorHoldout: Ignoring 163 ( 0.5%) Users that have less than 1 test interactions\n",
      "EvaluatorHoldout: Processed 35573 (100.0%) in 34.65 sec. Users per second: 1027\n",
      "Similarity column 38121 (100.0%), 2689.78 column/sec. Elapsed time 14.17 sec\n",
      "EvaluatorHoldout: Ignoring 150 ( 0.4%) Users that have less than 1 test interactions\n",
      "EvaluatorHoldout: Processed 35586 (100.0%) in 34.47 sec. Users per second: 1032\n",
      "Similarity column 38121 (100.0%), 2697.13 column/sec. Elapsed time 14.13 sec\n",
      "EvaluatorHoldout: Ignoring 167 ( 0.5%) Users that have less than 1 test interactions\n",
      "EvaluatorHoldout: Processed 35569 (100.0%) in 34.52 sec. Users per second: 1030\n",
      "Similarity column 38121 (100.0%), 2697.45 column/sec. Elapsed time 14.13 sec\n",
      "EvaluatorHoldout: Ignoring 172 ( 0.5%) Users that have less than 1 test interactions\n",
      "EvaluatorHoldout: Processed 35564 (100.0%) in 34.26 sec. Users per second: 1038\n"
     ]
    },
    {
     "name": "stderr",
     "output_type": "stream",
     "text": [
      "[I 2025-01-05 16:24:23,568] Trial 380 finished with value: 0.048755892234960733 and parameters: {'similarity': 'tversky', 'topK': 50, 'shrink': 32, 'feature_weighting': 'none', 'tversky_alpha': 0.2128558577274879, 'tversky_beta': 1.940158295370262}. Best is trial 267 with value: 0.05351701566277965.\n"
     ]
    },
    {
     "name": "stdout",
     "output_type": "stream",
     "text": [
      "Similarity column 38121 (100.0%), 2678.43 column/sec. Elapsed time 14.23 sec\n",
      "EvaluatorHoldout: Ignoring 173 ( 0.5%) Users that have less than 1 test interactions\n",
      "EvaluatorHoldout: Processed 35563 (100.0%) in 36.30 sec. Users per second: 980\n",
      "Similarity column 38121 (100.0%), 2640.21 column/sec. Elapsed time 14.44 sec\n",
      "EvaluatorHoldout: Ignoring 163 ( 0.5%) Users that have less than 1 test interactions\n",
      "EvaluatorHoldout: Processed 35573 (100.0%) in 36.73 sec. Users per second: 968\n",
      "Similarity column 38121 (100.0%), 2676.44 column/sec. Elapsed time 14.24 sec\n",
      "EvaluatorHoldout: Ignoring 150 ( 0.4%) Users that have less than 1 test interactions\n",
      "EvaluatorHoldout: Processed 35586 (100.0%) in 36.42 sec. Users per second: 977\n",
      "Similarity column 38121 (100.0%), 2672.06 column/sec. Elapsed time 14.27 sec\n",
      "EvaluatorHoldout: Ignoring 167 ( 0.5%) Users that have less than 1 test interactions\n",
      "EvaluatorHoldout: Processed 35569 (100.0%) in 36.37 sec. Users per second: 978\n",
      "Similarity column 38121 (100.0%), 2666.14 column/sec. Elapsed time 14.30 sec\n",
      "EvaluatorHoldout: Ignoring 172 ( 0.5%) Users that have less than 1 test interactions\n",
      "EvaluatorHoldout: Processed 35564 (100.0%) in 36.67 sec. Users per second: 970\n"
     ]
    },
    {
     "name": "stderr",
     "output_type": "stream",
     "text": [
      "[I 2025-01-05 16:28:39,912] Trial 381 finished with value: 0.045554569718085844 and parameters: {'similarity': 'tversky', 'topK': 78, 'shrink': 54, 'feature_weighting': 'none', 'tversky_alpha': 0.0007634424282852992, 'tversky_beta': 1.870714975652947}. Best is trial 267 with value: 0.05351701566277965.\n"
     ]
    },
    {
     "name": "stdout",
     "output_type": "stream",
     "text": [
      "Similarity column 38121 (100.0%), 3997.90 column/sec. Elapsed time 9.54 sec\n",
      "EvaluatorHoldout: Ignoring 173 ( 0.5%) Users that have less than 1 test interactions\n",
      "EvaluatorHoldout: Processed 35563 (100.0%) in 25.50 sec. Users per second: 1395\n",
      "Similarity column 38121 (100.0%), 4001.83 column/sec. Elapsed time 9.53 sec\n",
      "EvaluatorHoldout: Ignoring 163 ( 0.5%) Users that have less than 1 test interactions\n",
      "EvaluatorHoldout: Processed 35573 (100.0%) in 25.38 sec. Users per second: 1401\n",
      "Similarity column 38121 (100.0%), 4043.68 column/sec. Elapsed time 9.43 sec\n",
      "EvaluatorHoldout: Ignoring 150 ( 0.4%) Users that have less than 1 test interactions\n",
      "EvaluatorHoldout: Processed 35586 (100.0%) in 25.28 sec. Users per second: 1408\n",
      "Similarity column 38121 (100.0%), 3993.75 column/sec. Elapsed time 9.55 sec\n",
      "EvaluatorHoldout: Ignoring 167 ( 0.5%) Users that have less than 1 test interactions\n",
      "EvaluatorHoldout: Processed 35569 (100.0%) in 25.27 sec. Users per second: 1407\n",
      "Similarity column 38121 (100.0%), 3999.72 column/sec. Elapsed time 9.53 sec\n",
      "EvaluatorHoldout: Ignoring 172 ( 0.5%) Users that have less than 1 test interactions\n",
      "EvaluatorHoldout: Processed 35564 (100.0%) in 25.31 sec. Users per second: 1405\n"
     ]
    },
    {
     "name": "stderr",
     "output_type": "stream",
     "text": [
      "[I 2025-01-05 16:31:35,984] Trial 382 finished with value: 0.0002664826418719655 and parameters: {'similarity': 'dice', 'topK': 0, 'shrink': 21, 'feature_weighting': 'none'}. Best is trial 267 with value: 0.05351701566277965.\n"
     ]
    },
    {
     "name": "stdout",
     "output_type": "stream",
     "text": [
      "Similarity column 38121 (100.0%), 2705.24 column/sec. Elapsed time 14.09 sec\n",
      "EvaluatorHoldout: Ignoring 173 ( 0.5%) Users that have less than 1 test interactions\n",
      "EvaluatorHoldout: Processed 35563 (100.0%) in 33.92 sec. Users per second: 1049\n",
      "Similarity column 38121 (100.0%), 2720.40 column/sec. Elapsed time 14.01 sec\n",
      "EvaluatorHoldout: Ignoring 163 ( 0.5%) Users that have less than 1 test interactions\n",
      "EvaluatorHoldout: Processed 35573 (100.0%) in 34.28 sec. Users per second: 1038\n",
      "Similarity column 38121 (100.0%), 2693.95 column/sec. Elapsed time 14.15 sec\n",
      "EvaluatorHoldout: Ignoring 150 ( 0.4%) Users that have less than 1 test interactions\n",
      "EvaluatorHoldout: Processed 35586 (100.0%) in 34.01 sec. Users per second: 1046\n",
      "Similarity column 38121 (100.0%), 2705.61 column/sec. Elapsed time 14.09 sec\n",
      "EvaluatorHoldout: Ignoring 167 ( 0.5%) Users that have less than 1 test interactions\n",
      "EvaluatorHoldout: Processed 35569 (100.0%) in 34.45 sec. Users per second: 1033\n",
      "Similarity column 38121 (100.0%), 2686.55 column/sec. Elapsed time 14.19 sec\n",
      "EvaluatorHoldout: Ignoring 172 ( 0.5%) Users that have less than 1 test interactions\n",
      "EvaluatorHoldout: Processed 35564 (100.0%) in 34.00 sec. Users per second: 1046\n"
     ]
    },
    {
     "name": "stderr",
     "output_type": "stream",
     "text": [
      "[I 2025-01-05 16:35:39,148] Trial 383 finished with value: 0.049076559093286454 and parameters: {'similarity': 'tversky', 'topK': 27, 'shrink': 92, 'feature_weighting': 'none', 'tversky_alpha': 0.6774879741876992, 'tversky_beta': 1.9147088048049374}. Best is trial 267 with value: 0.05351701566277965.\n"
     ]
    },
    {
     "name": "stdout",
     "output_type": "stream",
     "text": [
      "Similarity column 38121 (100.0%), 2711.48 column/sec. Elapsed time 14.06 sec\n",
      "EvaluatorHoldout: Ignoring 173 ( 0.5%) Users that have less than 1 test interactions\n",
      "EvaluatorHoldout: Processed 35563 (100.0%) in 32.22 sec. Users per second: 1104\n",
      "Similarity column 38121 (100.0%), 2708.70 column/sec. Elapsed time 14.07 sec\n",
      "EvaluatorHoldout: Ignoring 163 ( 0.5%) Users that have less than 1 test interactions\n",
      "EvaluatorHoldout: Processed 35573 (100.0%) in 31.98 sec. Users per second: 1113\n",
      "Similarity column 38121 (100.0%), 2711.40 column/sec. Elapsed time 14.06 sec\n",
      "EvaluatorHoldout: Ignoring 150 ( 0.4%) Users that have less than 1 test interactions\n",
      "EvaluatorHoldout: Processed 35586 (100.0%) in 32.27 sec. Users per second: 1103\n",
      "Similarity column 38121 (100.0%), 2680.80 column/sec. Elapsed time 14.22 sec\n",
      "EvaluatorHoldout: Ignoring 167 ( 0.5%) Users that have less than 1 test interactions\n",
      "EvaluatorHoldout: Processed 35569 (100.0%) in 32.19 sec. Users per second: 1105\n",
      "Similarity column 38121 (100.0%), 2721.28 column/sec. Elapsed time 14.01 sec\n",
      "EvaluatorHoldout: Ignoring 172 ( 0.5%) Users that have less than 1 test interactions\n",
      "EvaluatorHoldout: Processed 35564 (100.0%) in 32.21 sec. Users per second: 1104\n"
     ]
    },
    {
     "name": "stderr",
     "output_type": "stream",
     "text": [
      "[I 2025-01-05 16:39:32,391] Trial 384 finished with value: 0.05259571933291268 and parameters: {'similarity': 'tversky', 'topK': 15, 'shrink': 33, 'feature_weighting': 'none', 'tversky_alpha': 0.1361743988182363, 'tversky_beta': 1.8140075790250003}. Best is trial 267 with value: 0.05351701566277965.\n"
     ]
    },
    {
     "name": "stdout",
     "output_type": "stream",
     "text": [
      "Similarity column 38121 (100.0%), 2680.28 column/sec. Elapsed time 14.22 sec\n",
      "EvaluatorHoldout: Ignoring 173 ( 0.5%) Users that have less than 1 test interactions\n",
      "EvaluatorHoldout: Processed 35563 (100.0%) in 34.02 sec. Users per second: 1045\n",
      "Similarity column 38121 (100.0%), 2681.92 column/sec. Elapsed time 14.21 sec\n",
      "EvaluatorHoldout: Ignoring 163 ( 0.5%) Users that have less than 1 test interactions\n",
      "EvaluatorHoldout: Processed 35573 (100.0%) in 34.20 sec. Users per second: 1040\n",
      "Similarity column 38121 (100.0%), 2665.06 column/sec. Elapsed time 14.30 sec\n",
      "EvaluatorHoldout: Ignoring 150 ( 0.4%) Users that have less than 1 test interactions\n",
      "EvaluatorHoldout: Processed 35586 (100.0%) in 34.30 sec. Users per second: 1037\n",
      "Similarity column 38121 (100.0%), 2685.83 column/sec. Elapsed time 14.19 sec\n",
      "EvaluatorHoldout: Ignoring 167 ( 0.5%) Users that have less than 1 test interactions\n",
      "EvaluatorHoldout: Processed 35569 (100.0%) in 34.32 sec. Users per second: 1036\n",
      "Similarity column 38121 (100.0%), 2664.17 column/sec. Elapsed time 14.31 sec\n",
      "EvaluatorHoldout: Ignoring 172 ( 0.5%) Users that have less than 1 test interactions\n",
      "EvaluatorHoldout: Processed 35564 (100.0%) in 34.58 sec. Users per second: 1028\n"
     ]
    },
    {
     "name": "stderr",
     "output_type": "stream",
     "text": [
      "[I 2025-01-05 16:43:37,173] Trial 385 finished with value: 0.048391519477274256 and parameters: {'similarity': 'tversky', 'topK': 38, 'shrink': 16, 'feature_weighting': 'none', 'tversky_alpha': 0.0742811246885885, 'tversky_beta': 0.816199694392755}. Best is trial 267 with value: 0.05351701566277965.\n"
     ]
    },
    {
     "name": "stdout",
     "output_type": "stream",
     "text": [
      "Similarity column 38121 (100.0%), 2705.64 column/sec. Elapsed time 14.09 sec\n",
      "EvaluatorHoldout: Ignoring 173 ( 0.5%) Users that have less than 1 test interactions\n",
      "EvaluatorHoldout: Processed 35563 (100.0%) in 32.80 sec. Users per second: 1084\n",
      "Similarity column 38121 (100.0%), 2677.10 column/sec. Elapsed time 14.24 sec\n",
      "EvaluatorHoldout: Ignoring 163 ( 0.5%) Users that have less than 1 test interactions\n",
      "EvaluatorHoldout: Processed 35573 (100.0%) in 32.81 sec. Users per second: 1084\n",
      "Similarity column 38121 (100.0%), 2689.86 column/sec. Elapsed time 14.17 sec\n",
      "EvaluatorHoldout: Ignoring 150 ( 0.4%) Users that have less than 1 test interactions\n",
      "EvaluatorHoldout: Processed 35586 (100.0%) in 32.61 sec. Users per second: 1091\n",
      "Similarity column 38121 (100.0%), 2678.11 column/sec. Elapsed time 14.23 sec\n",
      "EvaluatorHoldout: Ignoring 167 ( 0.5%) Users that have less than 1 test interactions\n",
      "EvaluatorHoldout: Processed 35569 (100.0%) in 32.50 sec. Users per second: 1094\n",
      "Similarity column 38121 (100.0%), 2714.04 column/sec. Elapsed time 14.05 sec\n",
      "EvaluatorHoldout: Ignoring 172 ( 0.5%) Users that have less than 1 test interactions\n",
      "EvaluatorHoldout: Processed 35564 (100.0%) in 32.44 sec. Users per second: 1096\n"
     ]
    },
    {
     "name": "stderr",
     "output_type": "stream",
     "text": [
      "[I 2025-01-05 16:47:33,150] Trial 386 finished with value: 0.05141879854179728 and parameters: {'similarity': 'tversky', 'topK': 13, 'shrink': 72, 'feature_weighting': 'none', 'tversky_alpha': 0.6043607370528428, 'tversky_beta': 1.8593894151987889}. Best is trial 267 with value: 0.05351701566277965.\n"
     ]
    },
    {
     "name": "stdout",
     "output_type": "stream",
     "text": [
      "Similarity column 38121 (100.0%), 3438.98 column/sec. Elapsed time 11.08 sec\n",
      "EvaluatorHoldout: Ignoring 173 ( 0.5%) Users that have less than 1 test interactions\n",
      "EvaluatorHoldout: Processed 35563 (100.0%) in 25.14 sec. Users per second: 1415\n",
      "Similarity column 38121 (100.0%), 3440.16 column/sec. Elapsed time 11.08 sec\n",
      "EvaluatorHoldout: Ignoring 163 ( 0.5%) Users that have less than 1 test interactions\n",
      "EvaluatorHoldout: Processed 35573 (100.0%) in 25.41 sec. Users per second: 1400\n",
      "Similarity column 38121 (100.0%), 3474.91 column/sec. Elapsed time 10.97 sec\n",
      "EvaluatorHoldout: Ignoring 150 ( 0.4%) Users that have less than 1 test interactions\n",
      "EvaluatorHoldout: Processed 35586 (100.0%) in 25.49 sec. Users per second: 1396\n",
      "Similarity column 38121 (100.0%), 3473.49 column/sec. Elapsed time 10.97 sec\n",
      "EvaluatorHoldout: Ignoring 167 ( 0.5%) Users that have less than 1 test interactions\n",
      "EvaluatorHoldout: Processed 35569 (100.0%) in 25.46 sec. Users per second: 1397\n",
      "Similarity column 38121 (100.0%), 3472.20 column/sec. Elapsed time 10.98 sec\n",
      "EvaluatorHoldout: Ignoring 172 ( 0.5%) Users that have less than 1 test interactions\n",
      "EvaluatorHoldout: Processed 35564 (100.0%) in 25.37 sec. Users per second: 1402\n"
     ]
    },
    {
     "name": "stderr",
     "output_type": "stream",
     "text": [
      "[I 2025-01-05 16:50:36,970] Trial 387 finished with value: 0.0002664826418719655 and parameters: {'similarity': 'tversky', 'topK': 0, 'shrink': 48, 'feature_weighting': 'none', 'tversky_alpha': 0.04385582496241475, 'tversky_beta': 1.7672707857243053}. Best is trial 267 with value: 0.05351701566277965.\n"
     ]
    },
    {
     "name": "stdout",
     "output_type": "stream",
     "text": [
      "Similarity column 38121 (100.0%), 2676.66 column/sec. Elapsed time 14.24 sec\n",
      "EvaluatorHoldout: Ignoring 173 ( 0.5%) Users that have less than 1 test interactions\n",
      "EvaluatorHoldout: Processed 35563 (100.0%) in 35.17 sec. Users per second: 1011\n",
      "Similarity column 38121 (100.0%), 2674.96 column/sec. Elapsed time 14.25 sec\n",
      "EvaluatorHoldout: Ignoring 163 ( 0.5%) Users that have less than 1 test interactions\n",
      "EvaluatorHoldout: Processed 35573 (100.0%) in 34.96 sec. Users per second: 1017\n",
      "Similarity column 38121 (100.0%), 2660.59 column/sec. Elapsed time 14.33 sec\n",
      "EvaluatorHoldout: Ignoring 150 ( 0.4%) Users that have less than 1 test interactions\n",
      "EvaluatorHoldout: Processed 35586 (100.0%) in 35.00 sec. Users per second: 1017\n",
      "Similarity column 38121 (100.0%), 2682.70 column/sec. Elapsed time 14.21 sec\n",
      "EvaluatorHoldout: Ignoring 167 ( 0.5%) Users that have less than 1 test interactions\n",
      "EvaluatorHoldout: Processed 35569 (100.0%) in 34.82 sec. Users per second: 1021\n",
      "Similarity column 38121 (100.0%), 2681.18 column/sec. Elapsed time 14.22 sec\n",
      "EvaluatorHoldout: Ignoring 172 ( 0.5%) Users that have less than 1 test interactions\n",
      "EvaluatorHoldout: Processed 35564 (100.0%) in 34.52 sec. Users per second: 1030\n"
     ]
    },
    {
     "name": "stderr",
     "output_type": "stream",
     "text": [
      "[I 2025-01-05 16:54:45,043] Trial 388 finished with value: 0.04845640169812706 and parameters: {'similarity': 'tversky', 'topK': 62, 'shrink': 18, 'feature_weighting': 'none', 'tversky_alpha': 0.11006425361514029, 'tversky_beta': 1.9523818032282687}. Best is trial 267 with value: 0.05351701566277965.\n"
     ]
    },
    {
     "name": "stdout",
     "output_type": "stream",
     "text": [
      "Similarity column 38121 (100.0%), 2698.28 column/sec. Elapsed time 14.13 sec\n",
      "EvaluatorHoldout: Ignoring 173 ( 0.5%) Users that have less than 1 test interactions\n",
      "EvaluatorHoldout: Processed 35563 (100.0%) in 33.28 sec. Users per second: 1069\n",
      "Similarity column 38121 (100.0%), 2692.73 column/sec. Elapsed time 14.16 sec\n",
      "EvaluatorHoldout: Ignoring 163 ( 0.5%) Users that have less than 1 test interactions\n",
      "EvaluatorHoldout: Processed 35573 (100.0%) in 33.24 sec. Users per second: 1070\n",
      "Similarity column 38121 (100.0%), 2705.75 column/sec. Elapsed time 14.09 sec\n",
      "EvaluatorHoldout: Ignoring 150 ( 0.4%) Users that have less than 1 test interactions\n",
      "EvaluatorHoldout: Processed 35586 (100.0%) in 33.47 sec. Users per second: 1063\n",
      "Similarity column 38121 (100.0%), 2683.77 column/sec. Elapsed time 14.20 sec\n",
      "EvaluatorHoldout: Ignoring 167 ( 0.5%) Users that have less than 1 test interactions\n",
      "EvaluatorHoldout: Processed 35569 (100.0%) in 33.21 sec. Users per second: 1071\n",
      "Similarity column 38121 (100.0%), 2702.09 column/sec. Elapsed time 14.11 sec\n",
      "EvaluatorHoldout: Ignoring 172 ( 0.5%) Users that have less than 1 test interactions\n",
      "EvaluatorHoldout: Processed 35564 (100.0%) in 33.34 sec. Users per second: 1067\n"
     ]
    },
    {
     "name": "stderr",
     "output_type": "stream",
     "text": [
      "[I 2025-01-05 16:58:44,261] Trial 389 finished with value: 0.0503645963501691 and parameters: {'similarity': 'tversky', 'topK': 30, 'shrink': 37, 'feature_weighting': 'none', 'tversky_alpha': 0.07661268422815748, 'tversky_beta': 1.8942416667377813}. Best is trial 267 with value: 0.05351701566277965.\n"
     ]
    },
    {
     "name": "stdout",
     "output_type": "stream",
     "text": [
      "Similarity column 38121 (100.0%), 2693.14 column/sec. Elapsed time 14.15 sec\n",
      "EvaluatorHoldout: Ignoring 173 ( 0.5%) Users that have less than 1 test interactions\n",
      "EvaluatorHoldout: Processed 35563 (100.0%) in 31.32 sec. Users per second: 1135\n",
      "Similarity column 38121 (100.0%), 2699.63 column/sec. Elapsed time 14.12 sec\n",
      "EvaluatorHoldout: Ignoring 163 ( 0.5%) Users that have less than 1 test interactions\n",
      "EvaluatorHoldout: Processed 35573 (100.0%) in 31.36 sec. Users per second: 1134\n",
      "Similarity column 38121 (100.0%), 2694.21 column/sec. Elapsed time 14.15 sec\n",
      "EvaluatorHoldout: Ignoring 150 ( 0.4%) Users that have less than 1 test interactions\n",
      "EvaluatorHoldout: Processed 35586 (100.0%) in 31.39 sec. Users per second: 1134\n",
      "Similarity column 38121 (100.0%), 2703.52 column/sec. Elapsed time 14.10 sec\n",
      "EvaluatorHoldout: Ignoring 167 ( 0.5%) Users that have less than 1 test interactions\n",
      "EvaluatorHoldout: Processed 35569 (100.0%) in 31.45 sec. Users per second: 1131\n",
      "Similarity column 38121 (100.0%), 2702.08 column/sec. Elapsed time 14.11 sec\n",
      "EvaluatorHoldout: Ignoring 172 ( 0.5%) Users that have less than 1 test interactions\n",
      "EvaluatorHoldout: Processed 35564 (100.0%) in 31.46 sec. Users per second: 1130\n"
     ]
    },
    {
     "name": "stderr",
     "output_type": "stream",
     "text": [
      "[I 2025-01-05 17:02:33,804] Trial 390 finished with value: 0.05154465609281805 and parameters: {'similarity': 'tversky', 'topK': 16, 'shrink': 0, 'feature_weighting': 'none', 'tversky_alpha': 0.03745785687210889, 'tversky_beta': 1.3404333576892178}. Best is trial 267 with value: 0.05351701566277965.\n"
     ]
    },
    {
     "name": "stdout",
     "output_type": "stream",
     "text": [
      "Similarity column 38121 (100.0%), 2814.32 column/sec. Elapsed time 13.55 sec\n",
      "EvaluatorHoldout: Ignoring 173 ( 0.5%) Users that have less than 1 test interactions\n",
      "EvaluatorHoldout: Processed 35563 (100.0%) in 38.39 sec. Users per second: 926\n",
      "Similarity column 38121 (100.0%), 2827.38 column/sec. Elapsed time 13.48 sec\n",
      "EvaluatorHoldout: Ignoring 163 ( 0.5%) Users that have less than 1 test interactions\n",
      "EvaluatorHoldout: Processed 35573 (100.0%) in 38.23 sec. Users per second: 931\n",
      "Similarity column 38121 (100.0%), 2754.44 column/sec. Elapsed time 13.84 sec\n",
      "EvaluatorHoldout: Ignoring 150 ( 0.4%) Users that have less than 1 test interactions\n",
      "EvaluatorHoldout: Processed 35586 (100.0%) in 38.09 sec. Users per second: 934\n",
      "Similarity column 38121 (100.0%), 2818.82 column/sec. Elapsed time 13.52 sec\n",
      "EvaluatorHoldout: Ignoring 167 ( 0.5%) Users that have less than 1 test interactions\n",
      "EvaluatorHoldout: Processed 35569 (100.0%) in 37.93 sec. Users per second: 938\n",
      "Similarity column 38121 (100.0%), 2813.61 column/sec. Elapsed time 13.55 sec\n",
      "EvaluatorHoldout: Ignoring 172 ( 0.5%) Users that have less than 1 test interactions\n",
      "EvaluatorHoldout: Processed 35564 (100.0%) in 38.36 sec. Users per second: 927\n"
     ]
    },
    {
     "name": "stderr",
     "output_type": "stream",
     "text": [
      "[I 2025-01-05 17:06:54,039] Trial 391 finished with value: 0.04427639486010794 and parameters: {'similarity': 'asymmetric', 'topK': 46, 'shrink': 59, 'feature_weighting': 'none', 'asymmetric_alpha': 0.7311227540008547}. Best is trial 267 with value: 0.05351701566277965.\n"
     ]
    },
    {
     "name": "stdout",
     "output_type": "stream",
     "text": [
      "Similarity column 38121 (100.0%), 2630.90 column/sec. Elapsed time 14.49 sec\n",
      "EvaluatorHoldout: Ignoring 173 ( 0.5%) Users that have less than 1 test interactions\n",
      "EvaluatorHoldout: Processed 35563 (100.0%) in 38.14 sec. Users per second: 932\n",
      "Similarity column 38121 (100.0%), 2606.52 column/sec. Elapsed time 14.63 sec\n",
      "EvaluatorHoldout: Ignoring 163 ( 0.5%) Users that have less than 1 test interactions\n",
      "EvaluatorHoldout: Processed 35573 (100.0%) in 38.37 sec. Users per second: 927\n",
      "Similarity column 38121 (100.0%), 2640.06 column/sec. Elapsed time 14.44 sec\n",
      "EvaluatorHoldout: Ignoring 150 ( 0.4%) Users that have less than 1 test interactions\n",
      "EvaluatorHoldout: Processed 35586 (100.0%) in 38.48 sec. Users per second: 925\n",
      "Similarity column 38121 (100.0%), 2647.36 column/sec. Elapsed time 14.40 sec\n",
      "EvaluatorHoldout: Ignoring 167 ( 0.5%) Users that have less than 1 test interactions\n",
      "EvaluatorHoldout: Processed 35569 (100.0%) in 38.18 sec. Users per second: 932\n",
      "Similarity column 38121 (100.0%), 2640.48 column/sec. Elapsed time 14.44 sec\n",
      "EvaluatorHoldout: Ignoring 172 ( 0.5%) Users that have less than 1 test interactions\n",
      "EvaluatorHoldout: Processed 35564 (100.0%) in 38.13 sec. Users per second: 933\n"
     ]
    },
    {
     "name": "stderr",
     "output_type": "stream",
     "text": [
      "[I 2025-01-05 17:11:20,945] Trial 392 finished with value: 0.0448004959333929 and parameters: {'similarity': 'tversky', 'topK': 192, 'shrink': 0, 'feature_weighting': 'none', 'tversky_alpha': 0.16293386096909296, 'tversky_beta': 1.9680134630374204}. Best is trial 267 with value: 0.05351701566277965.\n"
     ]
    },
    {
     "name": "stdout",
     "output_type": "stream",
     "text": [
      "Similarity column 38121 (100.0%), 2689.67 column/sec. Elapsed time 14.17 sec\n",
      "EvaluatorHoldout: Ignoring 173 ( 0.5%) Users that have less than 1 test interactions\n",
      "EvaluatorHoldout: Processed 35563 (100.0%) in 32.87 sec. Users per second: 1082\n",
      "Similarity column 38121 (100.0%), 2692.24 column/sec. Elapsed time 14.16 sec\n",
      "EvaluatorHoldout: Ignoring 163 ( 0.5%) Users that have less than 1 test interactions\n",
      "EvaluatorHoldout: Processed 35573 (100.0%) in 32.95 sec. Users per second: 1080\n",
      "Similarity column 38121 (100.0%), 2708.66 column/sec. Elapsed time 14.07 sec\n",
      "EvaluatorHoldout: Ignoring 150 ( 0.4%) Users that have less than 1 test interactions\n",
      "EvaluatorHoldout: Processed 35586 (100.0%) in 33.13 sec. Users per second: 1074\n",
      "Similarity column 38121 (100.0%), 2678.59 column/sec. Elapsed time 14.23 sec\n",
      "EvaluatorHoldout: Ignoring 167 ( 0.5%) Users that have less than 1 test interactions\n",
      "EvaluatorHoldout: Processed 35569 (100.0%) in 33.07 sec. Users per second: 1076\n",
      "Similarity column 38121 (100.0%), 2698.35 column/sec. Elapsed time 14.13 sec\n",
      "EvaluatorHoldout: Ignoring 172 ( 0.5%) Users that have less than 1 test interactions\n",
      "EvaluatorHoldout: Processed 35564 (100.0%) in 33.12 sec. Users per second: 1074\n"
     ]
    },
    {
     "name": "stderr",
     "output_type": "stream",
     "text": [
      "[I 2025-01-05 17:15:18,834] Trial 393 finished with value: 0.05125224959235103 and parameters: {'similarity': 'tversky', 'topK': 25, 'shrink': 30, 'feature_weighting': 'none', 'tversky_alpha': 0.12080810118042828, 'tversky_beta': 1.8321421916536036}. Best is trial 267 with value: 0.05351701566277965.\n"
     ]
    },
    {
     "name": "stdout",
     "output_type": "stream",
     "text": [
      "Similarity column 38121 (100.0%), 2694.20 column/sec. Elapsed time 14.15 sec\n",
      "EvaluatorHoldout: Ignoring 173 ( 0.5%) Users that have less than 1 test interactions\n",
      "EvaluatorHoldout: Processed 35563 (100.0%) in 31.67 sec. Users per second: 1123\n",
      "Similarity column 38121 (100.0%), 2707.09 column/sec. Elapsed time 14.08 sec\n",
      "EvaluatorHoldout: Ignoring 163 ( 0.5%) Users that have less than 1 test interactions\n",
      "EvaluatorHoldout: Processed 35573 (100.0%) in 31.63 sec. Users per second: 1125\n",
      "Similarity column 38121 (100.0%), 2706.40 column/sec. Elapsed time 14.09 sec\n",
      "EvaluatorHoldout: Ignoring 150 ( 0.4%) Users that have less than 1 test interactions\n",
      "EvaluatorHoldout: Processed 35586 (100.0%) in 31.59 sec. Users per second: 1126\n",
      "Similarity column 38121 (100.0%), 2722.35 column/sec. Elapsed time 14.00 sec\n",
      "EvaluatorHoldout: Ignoring 167 ( 0.5%) Users that have less than 1 test interactions\n",
      "EvaluatorHoldout: Processed 35569 (100.0%) in 31.48 sec. Users per second: 1130\n",
      "Similarity column 38121 (100.0%), 2699.50 column/sec. Elapsed time 14.12 sec\n",
      "EvaluatorHoldout: Ignoring 172 ( 0.5%) Users that have less than 1 test interactions\n",
      "EvaluatorHoldout: Processed 35564 (100.0%) in 31.89 sec. Users per second: 1115\n"
     ]
    },
    {
     "name": "stderr",
     "output_type": "stream",
     "text": [
      "[I 2025-01-05 17:19:09,433] Trial 394 finished with value: 0.05288545887397246 and parameters: {'similarity': 'tversky', 'topK': 12, 'shrink': 44, 'feature_weighting': 'none', 'tversky_alpha': 0.03251175973063389, 'tversky_beta': 1.9223398671733487}. Best is trial 267 with value: 0.05351701566277965.\n"
     ]
    },
    {
     "name": "stdout",
     "output_type": "stream",
     "text": [
      "Similarity column 38121 (100.0%), 2969.46 column/sec. Elapsed time 12.84 sec\n",
      "EvaluatorHoldout: Ignoring 173 ( 0.5%) Users that have less than 1 test interactions\n",
      "EvaluatorHoldout: Processed 35563 (100.0%) in 34.86 sec. Users per second: 1020\n",
      "Similarity column 38121 (100.0%), 2946.40 column/sec. Elapsed time 12.94 sec\n",
      "EvaluatorHoldout: Ignoring 163 ( 0.5%) Users that have less than 1 test interactions\n",
      "EvaluatorHoldout: Processed 35573 (100.0%) in 35.25 sec. Users per second: 1009\n",
      "Similarity column 38121 (100.0%), 2963.60 column/sec. Elapsed time 12.86 sec\n",
      "EvaluatorHoldout: Ignoring 150 ( 0.4%) Users that have less than 1 test interactions\n",
      "EvaluatorHoldout: Processed 35586 (100.0%) in 35.12 sec. Users per second: 1013\n",
      "Similarity column 38121 (100.0%), 2940.95 column/sec. Elapsed time 12.96 sec\n",
      "EvaluatorHoldout: Ignoring 167 ( 0.5%) Users that have less than 1 test interactions\n",
      "EvaluatorHoldout: Processed 35569 (100.0%) in 35.35 sec. Users per second: 1006\n",
      "Similarity column 38121 (100.0%), 2957.82 column/sec. Elapsed time 12.89 sec\n",
      "EvaluatorHoldout: Ignoring 172 ( 0.5%) Users that have less than 1 test interactions\n",
      "EvaluatorHoldout: Processed 35564 (100.0%) in 35.30 sec. Users per second: 1008\n"
     ]
    },
    {
     "name": "stderr",
     "output_type": "stream",
     "text": [
      "[I 2025-01-05 17:23:12,334] Trial 395 finished with value: 0.04811730227993134 and parameters: {'similarity': 'jaccard', 'topK': 35, 'shrink': 88, 'feature_weighting': 'BM25'}. Best is trial 267 with value: 0.05351701566277965.\n"
     ]
    },
    {
     "name": "stdout",
     "output_type": "stream",
     "text": [
      "Similarity column 38121 (100.0%), 3452.48 column/sec. Elapsed time 11.04 sec\n",
      "EvaluatorHoldout: Ignoring 173 ( 0.5%) Users that have less than 1 test interactions\n",
      "EvaluatorHoldout: Processed 35563 (100.0%) in 25.22 sec. Users per second: 1410\n",
      "Similarity column 38121 (100.0%), 3464.61 column/sec. Elapsed time 11.00 sec\n",
      "EvaluatorHoldout: Ignoring 163 ( 0.5%) Users that have less than 1 test interactions\n",
      "EvaluatorHoldout: Processed 35573 (100.0%) in 25.20 sec. Users per second: 1411\n",
      "Similarity column 38121 (100.0%), 3477.19 column/sec. Elapsed time 10.96 sec\n",
      "EvaluatorHoldout: Ignoring 150 ( 0.4%) Users that have less than 1 test interactions\n",
      "EvaluatorHoldout: Processed 35586 (100.0%) in 25.20 sec. Users per second: 1412\n",
      "Similarity column 38121 (100.0%), 3505.25 column/sec. Elapsed time 10.88 sec\n",
      "EvaluatorHoldout: Ignoring 167 ( 0.5%) Users that have less than 1 test interactions\n",
      "EvaluatorHoldout: Processed 35569 (100.0%) in 25.16 sec. Users per second: 1414\n",
      "Similarity column 38121 (100.0%), 3501.99 column/sec. Elapsed time 10.89 sec\n",
      "EvaluatorHoldout: Ignoring 172 ( 0.5%) Users that have less than 1 test interactions\n",
      "EvaluatorHoldout: Processed 35564 (100.0%) in 25.24 sec. Users per second: 1409\n"
     ]
    },
    {
     "name": "stderr",
     "output_type": "stream",
     "text": [
      "[I 2025-01-05 17:26:14,958] Trial 396 finished with value: 0.0002664826418719655 and parameters: {'similarity': 'tversky', 'topK': 0, 'shrink': 73, 'feature_weighting': 'none', 'tversky_alpha': 0.002869043271431282, 'tversky_beta': 1.9994582312449083}. Best is trial 267 with value: 0.05351701566277965.\n"
     ]
    },
    {
     "name": "stdout",
     "output_type": "stream",
     "text": [
      "Similarity column 38121 (100.0%), 2717.64 column/sec. Elapsed time 14.03 sec\n",
      "EvaluatorHoldout: Ignoring 173 ( 0.5%) Users that have less than 1 test interactions\n",
      "EvaluatorHoldout: Processed 35563 (100.0%) in 32.05 sec. Users per second: 1110\n",
      "Similarity column 38121 (100.0%), 2708.32 column/sec. Elapsed time 14.08 sec\n",
      "EvaluatorHoldout: Ignoring 163 ( 0.5%) Users that have less than 1 test interactions\n",
      "EvaluatorHoldout: Processed 35573 (100.0%) in 32.06 sec. Users per second: 1110\n",
      "Similarity column 38121 (100.0%), 2733.46 column/sec. Elapsed time 13.95 sec\n",
      "EvaluatorHoldout: Ignoring 150 ( 0.4%) Users that have less than 1 test interactions\n",
      "EvaluatorHoldout: Processed 35586 (100.0%) in 31.80 sec. Users per second: 1119\n",
      "Similarity column 38121 (100.0%), 2714.35 column/sec. Elapsed time 14.04 sec\n",
      "EvaluatorHoldout: Ignoring 167 ( 0.5%) Users that have less than 1 test interactions\n",
      "EvaluatorHoldout: Processed 35569 (100.0%) in 31.87 sec. Users per second: 1116\n",
      "Similarity column 38121 (100.0%), 2720.76 column/sec. Elapsed time 14.01 sec\n",
      "EvaluatorHoldout: Ignoring 172 ( 0.5%) Users that have less than 1 test interactions\n",
      "EvaluatorHoldout: Processed 35564 (100.0%) in 31.80 sec. Users per second: 1118\n"
     ]
    },
    {
     "name": "stderr",
     "output_type": "stream",
     "text": [
      "[I 2025-01-05 17:30:06,548] Trial 397 finished with value: 0.05191662902991125 and parameters: {'similarity': 'tversky', 'topK': 14, 'shrink': 53, 'feature_weighting': 'none', 'tversky_alpha': 0.03716598862968467, 'tversky_beta': 1.7967674577877824}. Best is trial 267 with value: 0.05351701566277965.\n"
     ]
    },
    {
     "name": "stdout",
     "output_type": "stream",
     "text": [
      "Similarity column 38121 (100.0%), 2718.86 column/sec. Elapsed time 14.02 sec\n",
      "EvaluatorHoldout: Ignoring 173 ( 0.5%) Users that have less than 1 test interactions\n",
      "EvaluatorHoldout: Processed 35563 (100.0%) in 34.00 sec. Users per second: 1046\n",
      "Similarity column 38121 (100.0%), 2742.06 column/sec. Elapsed time 13.90 sec\n",
      "EvaluatorHoldout: Ignoring 163 ( 0.5%) Users that have less than 1 test interactions\n",
      "EvaluatorHoldout: Processed 35573 (100.0%) in 33.53 sec. Users per second: 1061\n",
      "Similarity column 38121 (100.0%), 2710.03 column/sec. Elapsed time 14.07 sec\n",
      "EvaluatorHoldout: Ignoring 150 ( 0.4%) Users that have less than 1 test interactions\n",
      "EvaluatorHoldout: Processed 35586 (100.0%) in 33.70 sec. Users per second: 1056\n",
      "Similarity column 38121 (100.0%), 2735.81 column/sec. Elapsed time 13.93 sec\n",
      "EvaluatorHoldout: Ignoring 167 ( 0.5%) Users that have less than 1 test interactions\n",
      "EvaluatorHoldout: Processed 35569 (100.0%) in 33.90 sec. Users per second: 1049\n",
      "Similarity column 38121 (100.0%), 2712.83 column/sec. Elapsed time 14.05 sec\n",
      "EvaluatorHoldout: Ignoring 172 ( 0.5%) Users that have less than 1 test interactions\n",
      "EvaluatorHoldout: Processed 35564 (100.0%) in 33.82 sec. Users per second: 1051\n"
     ]
    },
    {
     "name": "stderr",
     "output_type": "stream",
     "text": [
      "[I 2025-01-05 17:34:07,421] Trial 398 finished with value: 0.04962726571595453 and parameters: {'similarity': 'tversky', 'topK': 26, 'shrink': 50, 'feature_weighting': 'none', 'tversky_alpha': 1.5819485861783955, 'tversky_beta': 1.8924977441980442}. Best is trial 267 with value: 0.05351701566277965.\n"
     ]
    },
    {
     "name": "stdout",
     "output_type": "stream",
     "text": [
      "Similarity column 38121 (100.0%), 2737.31 column/sec. Elapsed time 13.93 sec\n",
      "EvaluatorHoldout: Ignoring 173 ( 0.5%) Users that have less than 1 test interactions\n",
      "EvaluatorHoldout: Processed 35563 (100.0%) in 34.46 sec. Users per second: 1032\n",
      "Similarity column 38121 (100.0%), 2698.40 column/sec. Elapsed time 14.13 sec\n",
      "EvaluatorHoldout: Ignoring 163 ( 0.5%) Users that have less than 1 test interactions\n",
      "EvaluatorHoldout: Processed 35573 (100.0%) in 34.46 sec. Users per second: 1032\n",
      "Similarity column 38121 (100.0%), 2713.31 column/sec. Elapsed time 14.05 sec\n",
      "EvaluatorHoldout: Ignoring 150 ( 0.4%) Users that have less than 1 test interactions\n",
      "EvaluatorHoldout: Processed 35586 (100.0%) in 34.11 sec. Users per second: 1043\n",
      "Similarity column 38121 (100.0%), 2712.44 column/sec. Elapsed time 14.05 sec\n",
      "EvaluatorHoldout: Ignoring 167 ( 0.5%) Users that have less than 1 test interactions\n",
      "EvaluatorHoldout: Processed 35569 (100.0%) in 34.31 sec. Users per second: 1037\n",
      "Similarity column 38121 (100.0%), 2714.09 column/sec. Elapsed time 14.05 sec\n",
      "EvaluatorHoldout: Ignoring 172 ( 0.5%) Users that have less than 1 test interactions\n",
      "EvaluatorHoldout: Processed 35564 (100.0%) in 34.20 sec. Users per second: 1040\n"
     ]
    },
    {
     "name": "stderr",
     "output_type": "stream",
     "text": [
      "[I 2025-01-05 17:38:11,304] Trial 399 finished with value: 0.04810938304912923 and parameters: {'similarity': 'tversky', 'topK': 49, 'shrink': 43, 'feature_weighting': 'none', 'tversky_alpha': 0.06891566785557968, 'tversky_beta': 1.8454154264990263}. Best is trial 267 with value: 0.05351701566277965.\n"
     ]
    }
   ],
   "source": [
    "if config['tune_parameters']:\n",
    "    \n",
    "    optuna_study = optuna.create_study(direction='maximize', study_name=f'hyperparameters_tuning_{config[\"model\"]}_{config[\"metric\"]}',\n",
    "                                storage=f'sqlite:///{config[\"database_path\"]}', load_if_exists=True)\n",
    "\n",
    "    optuna_study.optimize(objective_function_ItemKNNCF, n_trials=100)"
   ]
  },
  {
   "cell_type": "markdown",
   "id": "24c6bf3f",
   "metadata": {
    "papermill": {
     "duration": 0.099721,
     "end_time": "2025-01-05T17:38:11.554204",
     "exception": false,
     "start_time": "2025-01-05T17:38:11.454483",
     "status": "completed"
    },
    "tags": []
   },
   "source": [
    "## Some optuna visualizations on recommender parameters"
   ]
  },
  {
   "cell_type": "code",
   "execution_count": 14,
   "id": "d4312376",
   "metadata": {
    "execution": {
     "iopub.execute_input": "2025-01-05T17:38:11.760298Z",
     "iopub.status.busy": "2025-01-05T17:38:11.759759Z",
     "iopub.status.idle": "2025-01-05T17:38:14.452998Z",
     "shell.execute_reply": "2025-01-05T17:38:14.451958Z"
    },
    "papermill": {
     "duration": 2.795443,
     "end_time": "2025-01-05T17:38:14.454995",
     "exception": false,
     "start_time": "2025-01-05T17:38:11.659552",
     "status": "completed"
    },
    "tags": []
   },
   "outputs": [
    {
     "data": {
      "text/html": [
       "<html>\n",
       "<head><meta charset=\"utf-8\" /></head>\n",
       "<body>\n",
       "    <div>            <script src=\"https://cdnjs.cloudflare.com/ajax/libs/mathjax/2.7.5/MathJax.js?config=TeX-AMS-MML_SVG\"></script><script type=\"text/javascript\">if (window.MathJax && window.MathJax.Hub && window.MathJax.Hub.Config) {window.MathJax.Hub.Config({SVG: {font: \"STIX-Web\"}});}</script>                <script type=\"text/javascript\">window.PlotlyConfig = {MathJaxConfig: 'local'};</script>\n",
       "        <script charset=\"utf-8\" src=\"https://cdn.plot.ly/plotly-2.35.2.min.js\"></script>                <div id=\"721c5632-d463-429a-8d52-b10d66eb7119\" class=\"plotly-graph-div\" style=\"height:525px; width:3000px;\"></div>            <script type=\"text/javascript\">                                    window.PLOTLYENV=window.PLOTLYENV || {};                                    if (document.getElementById(\"721c5632-d463-429a-8d52-b10d66eb7119\")) {                    Plotly.newPlot(                        \"721c5632-d463-429a-8d52-b10d66eb7119\",                        [{\"marker\":{\"color\":[1,18,27,36,57,70,97,125,158,275,315,337,364,391],\"colorbar\":{\"title\":{\"text\":\"Trial\"},\"x\":1.0,\"xpad\":40},\"colorscale\":[[0.0,\"rgb(247,251,255)\"],[0.125,\"rgb(222,235,247)\"],[0.25,\"rgb(198,219,239)\"],[0.375,\"rgb(158,202,225)\"],[0.5,\"rgb(107,174,214)\"],[0.625,\"rgb(66,146,198)\"],[0.75,\"rgb(33,113,181)\"],[0.875,\"rgb(8,81,156)\"],[1.0,\"rgb(8,48,107)\"]],\"line\":{\"color\":\"Grey\",\"width\":0.5},\"showscale\":true},\"mode\":\"markers\",\"name\":\"Feasible Trial\",\"showlegend\":false,\"x\":[0.9418222652166581,1.9529260996222917,0.0012138953143470133,1.934694050596998,0.32257361036385657,1.1078886213783108,1.147248784534726,0.6453577064150977,1.5917489318159819,1.4011725439161304,0.6021610970052698,1.6226784951707873,0.05777588698873659,0.7311227540008547],\"y\":[0.04171964497081084,0.009585828606819929,0.04010564854729204,0.018499769450536042,0.0469879804783168,0.022658722357174747,0.04057861037770286,0.045043685195053494,0.009216016064248595,0.02873532901480332,0.04602518466429443,0.030110588435945503,0.04619939186223303,0.04427639486010794],\"type\":\"scatter\",\"xaxis\":\"x\",\"yaxis\":\"y\"},{\"marker\":{\"color\":[0,1,2,3,4,5,6,7,8,9,10,11,12,13,14,15,16,17,18,19,20,21,22,23,24,25,26,27,28,29,30,31,32,33,34,35,36,37,38,39,40,41,42,43,44,45,46,47,48,49,50,51,52,53,54,55,56,57,58,59,60,61,62,63,64,65,66,67,68,69,70,71,72,73,74,75,76,77,78,79,80,81,82,83,84,85,86,87,88,89,90,91,92,93,94,95,96,97,98,99,100,101,102,103,104,105,106,107,108,109,110,111,112,113,114,115,116,117,118,119,120,121,122,123,124,125,126,127,128,129,130,131,132,133,134,135,136,137,138,139,140,141,142,143,144,145,146,147,148,149,150,151,152,153,154,155,156,157,158,159,160,161,162,163,164,165,166,167,168,169,170,171,172,173,174,175,176,177,178,179,180,181,182,183,184,185,186,187,188,189,190,191,192,193,194,195,196,197,198,199,200,201,202,203,204,205,206,207,208,209,210,211,212,213,214,215,216,217,218,219,220,221,222,223,224,225,226,227,228,229,230,231,232,233,234,235,236,237,238,239,240,241,242,243,244,245,246,247,248,249,250,251,252,253,254,255,256,257,258,259,260,261,262,263,264,265,266,267,268,269,270,271,272,273,274,275,276,277,278,279,280,281,282,283,284,285,286,287,288,289,290,291,292,293,294,295,296,297,298,299,300,301,302,303,304,305,306,307,308,309,310,311,312,313,314,315,316,317,318,319,320,321,322,323,324,325,326,327,328,329,330,331,332,333,334,335,336,337,338,339,340,341,342,343,344,345,346,347,348,349,350,351,352,353,354,355,356,357,358,359,360,361,362,363,364,365,366,367,368,369,370,371,372,373,374,375,376,377,378,379,380,381,382,383,384,385,386,387,388,389,390,391,392,393,394,395,396,397,398,399],\"colorbar\":{\"title\":{\"text\":\"Trial\"},\"x\":1.0,\"xpad\":40},\"colorscale\":[[0.0,\"rgb(247,251,255)\"],[0.125,\"rgb(222,235,247)\"],[0.25,\"rgb(198,219,239)\"],[0.375,\"rgb(158,202,225)\"],[0.5,\"rgb(107,174,214)\"],[0.625,\"rgb(66,146,198)\"],[0.75,\"rgb(33,113,181)\"],[0.875,\"rgb(8,81,156)\"],[1.0,\"rgb(8,48,107)\"]],\"line\":{\"color\":\"Grey\",\"width\":0.5},\"showscale\":false},\"mode\":\"markers\",\"name\":\"Feasible Trial\",\"showlegend\":false,\"x\":[\"BM25\",\"BM25\",\"TF-IDF\",\"BM25\",\"BM25\",\"BM25\",\"BM25\",\"TF-IDF\",\"BM25\",\"BM25\",\"TF-IDF\",\"TF-IDF\",\"none\",\"TF-IDF\",\"TF-IDF\",\"TF-IDF\",\"none\",\"TF-IDF\",\"TF-IDF\",\"TF-IDF\",\"none\",\"TF-IDF\",\"TF-IDF\",\"TF-IDF\",\"TF-IDF\",\"TF-IDF\",\"TF-IDF\",\"none\",\"TF-IDF\",\"TF-IDF\",\"TF-IDF\",\"TF-IDF\",\"TF-IDF\",\"TF-IDF\",\"TF-IDF\",\"TF-IDF\",\"TF-IDF\",\"none\",\"TF-IDF\",\"BM25\",\"TF-IDF\",\"TF-IDF\",\"TF-IDF\",\"TF-IDF\",\"BM25\",\"TF-IDF\",\"TF-IDF\",\"TF-IDF\",\"BM25\",\"TF-IDF\",\"none\",\"TF-IDF\",\"TF-IDF\",\"TF-IDF\",\"TF-IDF\",\"TF-IDF\",\"TF-IDF\",\"TF-IDF\",\"TF-IDF\",\"BM25\",\"TF-IDF\",\"TF-IDF\",\"TF-IDF\",\"TF-IDF\",\"TF-IDF\",\"TF-IDF\",\"none\",\"TF-IDF\",\"TF-IDF\",\"TF-IDF\",\"TF-IDF\",\"TF-IDF\",\"TF-IDF\",\"TF-IDF\",\"TF-IDF\",\"TF-IDF\",\"TF-IDF\",\"none\",\"TF-IDF\",\"BM25\",\"TF-IDF\",\"TF-IDF\",\"TF-IDF\",\"TF-IDF\",\"TF-IDF\",\"TF-IDF\",\"TF-IDF\",\"TF-IDF\",\"TF-IDF\",\"TF-IDF\",\"none\",\"TF-IDF\",\"TF-IDF\",\"TF-IDF\",\"TF-IDF\",\"TF-IDF\",\"TF-IDF\",\"BM25\",\"TF-IDF\",\"TF-IDF\",\"TF-IDF\",\"TF-IDF\",\"TF-IDF\",\"TF-IDF\",\"TF-IDF\",\"TF-IDF\",\"TF-IDF\",\"TF-IDF\",\"TF-IDF\",\"TF-IDF\",\"TF-IDF\",\"TF-IDF\",\"TF-IDF\",\"TF-IDF\",\"TF-IDF\",\"TF-IDF\",\"TF-IDF\",\"none\",\"BM25\",\"TF-IDF\",\"TF-IDF\",\"TF-IDF\",\"TF-IDF\",\"TF-IDF\",\"TF-IDF\",\"TF-IDF\",\"TF-IDF\",\"TF-IDF\",\"TF-IDF\",\"TF-IDF\",\"TF-IDF\",\"TF-IDF\",\"TF-IDF\",\"TF-IDF\",\"TF-IDF\",\"TF-IDF\",\"TF-IDF\",\"TF-IDF\",\"TF-IDF\",\"none\",\"TF-IDF\",\"TF-IDF\",\"TF-IDF\",\"TF-IDF\",\"TF-IDF\",\"TF-IDF\",\"BM25\",\"TF-IDF\",\"TF-IDF\",\"TF-IDF\",\"TF-IDF\",\"TF-IDF\",\"TF-IDF\",\"TF-IDF\",\"TF-IDF\",\"TF-IDF\",\"TF-IDF\",\"TF-IDF\",\"TF-IDF\",\"TF-IDF\",\"TF-IDF\",\"TF-IDF\",\"TF-IDF\",\"TF-IDF\",\"TF-IDF\",\"TF-IDF\",\"TF-IDF\",\"TF-IDF\",\"TF-IDF\",\"none\",\"TF-IDF\",\"TF-IDF\",\"TF-IDF\",\"TF-IDF\",\"TF-IDF\",\"TF-IDF\",\"TF-IDF\",\"BM25\",\"TF-IDF\",\"TF-IDF\",\"TF-IDF\",\"TF-IDF\",\"TF-IDF\",\"TF-IDF\",\"TF-IDF\",\"TF-IDF\",\"TF-IDF\",\"TF-IDF\",\"TF-IDF\",\"TF-IDF\",\"TF-IDF\",\"TF-IDF\",\"TF-IDF\",\"TF-IDF\",\"TF-IDF\",\"TF-IDF\",\"TF-IDF\",\"TF-IDF\",\"TF-IDF\",\"TF-IDF\",\"TF-IDF\",\"TF-IDF\",\"TF-IDF\",\"TF-IDF\",\"TF-IDF\",\"TF-IDF\",\"TF-IDF\",\"TF-IDF\",\"none\",\"none\",\"none\",\"none\",\"none\",\"none\",\"none\",\"none\",\"none\",\"none\",\"none\",\"none\",\"none\",\"none\",\"none\",\"none\",\"none\",\"none\",\"none\",\"none\",\"none\",\"none\",\"none\",\"none\",\"none\",\"none\",\"none\",\"none\",\"none\",\"none\",\"none\",\"none\",\"none\",\"none\",\"none\",\"none\",\"none\",\"none\",\"none\",\"none\",\"none\",\"none\",\"none\",\"none\",\"none\",\"none\",\"none\",\"none\",\"none\",\"none\",\"none\",\"none\",\"none\",\"none\",\"none\",\"none\",\"none\",\"none\",\"none\",\"none\",\"none\",\"none\",\"none\",\"none\",\"none\",\"none\",\"none\",\"none\",\"none\",\"none\",\"none\",\"none\",\"none\",\"none\",\"none\",\"none\",\"none\",\"none\",\"none\",\"none\",\"none\",\"none\",\"none\",\"none\",\"none\",\"none\",\"none\",\"none\",\"none\",\"none\",\"none\",\"none\",\"none\",\"none\",\"none\",\"none\",\"none\",\"none\",\"none\",\"none\",\"none\",\"none\",\"none\",\"none\",\"none\",\"BM25\",\"none\",\"none\",\"none\",\"none\",\"none\",\"none\",\"none\",\"none\",\"none\",\"none\",\"none\",\"none\",\"none\",\"none\",\"none\",\"none\",\"none\",\"none\",\"none\",\"BM25\",\"none\",\"none\",\"none\",\"none\",\"none\",\"none\",\"none\",\"none\",\"none\",\"none\",\"none\",\"none\",\"none\",\"none\",\"none\",\"none\",\"none\",\"none\",\"none\",\"none\",\"BM25\",\"none\",\"none\",\"none\",\"none\",\"none\",\"none\",\"none\",\"none\",\"none\",\"none\",\"none\",\"none\",\"none\",\"none\",\"none\",\"none\",\"none\",\"none\",\"none\",\"none\",\"BM25\",\"none\",\"none\",\"none\",\"none\",\"none\",\"none\",\"none\",\"none\",\"none\",\"none\",\"none\",\"none\",\"none\",\"none\",\"none\",\"none\",\"none\",\"none\",\"none\",\"BM25\",\"none\",\"none\",\"none\",\"none\"],\"y\":[0.03847803567849229,0.04171964497081084,0.045075083416706754,0.03969241243666473,0.015505116638520241,0.03390989215925825,0.04208916606138639,0.03992089568563728,0.03689398166065726,0.0419195619113201,0.04286446311593473,0.04370869088626762,0.03922014699048953,0.03898220646002158,0.04522533432718656,0.045419613559969596,0.033276953099928765,0.044603421446640534,0.009585828606819929,0.04603685469227625,0.036478533171880455,0.04936385234454629,0.04884736351921455,0.05167910318356951,0.051299149203227944,0.048890057353751605,0.04422724678859554,0.04010564854729204,0.018002904416695022,0.034522039692480196,0.044599477795545094,0.04921190880610869,0.050085003730726205,0.04670507928914593,0.04774758311109263,0.04624842492671421,0.018499769450536042,0.0471228279082221,0.04704902406361122,0.039014626607979955,0.046365675679190935,0.048154934413874154,0.047921209852360445,0.0516509302410396,0.03591129786809708,0.041083810657646824,0.04402098719895735,0.019161143155815477,0.04561184037203904,0.03602128500231943,0.03458822598741253,0.04784897708922793,0.04820380943479764,0.041976571864759823,0.04740382442291594,0.045051453542955366,0.04648504130021554,0.0469879804783168,0.048461992727442914,0.042413896090541955,0.049028092198309045,0.04919733821484708,0.048179967153130845,0.04694401449089732,0.04954915876216106,0.0002664826418719655,0.0395961476902804,0.02765333913833305,0.04249586982388426,0.04387294658296601,0.022658722357174747,0.049331885341930864,0.049934388763156416,0.04844238489569648,0.04950439674902438,0.047842500622259865,0.047141583913202785,0.044330265171293334,0.04507506180411467,0.042850527787547776,0.042630380128308054,0.04933324510119477,0.0481437214970748,0.04975391008487637,0.04686650492269808,0.04726198463493369,0.04656591531270172,0.04282694024513882,0.03238459417420321,0.047910376227795134,0.03642232578734297,0.0494451147008956,0.0002664826418719655,0.049154679926459895,0.04736466281198917,0.049376702406276715,0.04834581653075937,0.04057861037770286,0.05031477680681584,0.05037676712344134,0.04800919581518322,0.04963598798308874,0.0002664826418719655,0.049504241473341926,0.04751151390853433,0.043710622878157565,0.04793737819207235,0.04664669663710096,0.0466421111068875,0.05014495286754074,0.05001918540506721,0.04937054806796139,0.04853121084630373,0.0002664826418719655,0.04086167291275695,0.04711551945335192,0.048255655760942956,0.04232723894120498,0.04212373222017858,0.021211838801501057,0.046355664992873455,0.04879863008544178,0.050289612360944605,0.05094557622011079,0.05141379116754542,0.045043685195053494,0.0421953998415494,0.04824104595311586,0.04536433696221219,0.04804893042642694,0.047355889084013954,0.04994099064968518,0.04844011894775917,0.05072062948872008,0.05167499647934026,0.0002664826418719655,0.047950622301437665,0.047706655214182506,0.04858543575580961,0.0002664826418719655,0.047096205258541024,0.049633379649968196,0.04980878259305179,0.04851957081257526,0.0002664826418719655,0.044756911256342055,0.02784785793175936,0.04847850697449875,0.047116810660729994,0.04318529427697464,0.04837693138361469,0.05005289223297421,0.04983953922684468,0.048081317213503866,0.04739143116001597,0.050711091356320306,0.0423139061213198,0.04850785022691531,0.009216016064248595,0.04782418485527614,0.0002664826418719655,0.049024305900822816,0.04964787000215071,0.04821691192237398,0.04766757359625482,0.049898896364941756,0.04866275228073952,0.050339485124901585,0.04805792166950668,0.03807168129783852,0.04801868844605957,0.04989307820097129,0.04862042917789884,0.0002664826418719655,0.04872917207550892,0.0421431333588106,0.050170333522096044,0.04282836807235073,0.04991526231617852,0.028107451890721297,0.0002664826418719655,0.04993257210734363,0.04898506243922583,0.04955189791234907,0.048159910345721285,0.04999742933612483,0.04651908289037322,0.048688769926603,0.05017736655787099,0.052770132207501916,0.044920360081063405,0.05053286852839014,0.0002664826418719655,0.050562791169713586,0.05031125284117284,0.04990563145551257,0.05112802526300825,0.04885511508997322,0.05069920295812504,0.04950766943167519,0.050427546154826045,0.05069072979215204,0.05073869298991869,0.04989507028462124,0.049972583889434,0.04700001020406326,0.0512353018267241,0.04827784121151514,0.05104263186459542,0.05092531802018609,0.050869259929248144,0.05073879495247531,0.049012160319736396,0.05039360254194376,0.050921486747334446,0.04891709249337225,0.04711571482008757,0.04995752837612295,0.04922041848900541,0.05102792024432849,0.04973127692293931,0.05038853822528087,0.05126283537418349,0.051778250982194365,0.05169413881766273,0.050889642540877744,0.05130924006573032,0.05112273381674017,0.048247156201741616,0.05121506243504324,0.05051766722476123,0.05124083401322201,0.050911436434536786,0.05107694519486827,0.05080826109915465,0.04784381402931958,0.04868276479117052,0.050435703298782,0.05143864758675326,0.05238586893488721,0.051812229848526695,0.05235041859328893,0.0002664826418719655,0.052734651923476726,0.052749727917604794,0.0002664826418719655,0.05119815890180516,0.05287919963207016,0.05223501429331294,0.051298554172739305,0.05135107591876845,0.04254372298438136,0.053134600182737454,0.052909503083440244,0.0002664826418719655,0.03920845351012365,0.05275915171373006,0.05319752032663925,0.053035294599967545,0.041507624622074385,0.053230998474819435,0.05318001901092788,0.04641161061905724,0.053037738820821044,0.0002664826418719655,0.05312387900539119,0.0529325066441798,0.05351701566277965,0.053314355858730775,0.03307219962532294,0.05178013728169698,0.049045059421762065,0.05127462047917321,0.029566477782746063,0.0002664826418719655,0.02873532901480332,0.05091777583110446,0.05267623074832051,0.05318563606780051,0.03804079968142458,0.048897001938809,0.05300323925642245,0.03690790987867579,0.052648941574855224,0.05306271583010617,0.05263656227082064,0.048891441644559844,0.053398304472673463,0.0002664826418719655,0.05272727050856829,0.052834820688102344,0.04848977138583462,0.052674484024547705,0.04040126154027886,0.04890841429102853,0.0002664826418719655,0.03911269935383791,0.0002664826418719655,0.040218770111744254,0.04916640282816878,0.047323777618326984,0.052218659379927014,0.0002664826418719655,0.0488647275039855,0.050529757918228224,0.047743133713452346,0.030807682327581472,0.04936410099543398,0.05293868035823385,0.0002664826418719655,0.04265414117226195,0.048691379157994576,0.045019433248485036,0.04772679808345506,0.04883103346022026,0.04602518466429443,0.0002664826418719655,0.05084333155381747,0.04915832064079717,0.05034803846721865,0.05332291730899048,0.05021782525860478,0.0002664826418719655,0.030700959376724242,0.03892928588716499,0.03888675349644569,0.03851616520440891,0.04194539938141715,0.05212252852978096,0.049119631837963154,0.05318691699897445,0.04859005646792183,0.051068356184236205,0.047562021882130046,0.048584741000029706,0.043302073935299466,0.051398648188950694,0.030110588435945503,0.04405993648353966,0.051167828048413355,0.04902288614972887,0.0002664826418719655,0.0477290652407735,0.05009965070172061,0.03672381871723387,0.05115571159589503,0.05190464757486465,0.050247743921605095,0.0002664826418719655,0.046151171893206104,0.028730403330002617,0.05228112223311544,0.04005070835123643,0.0002664826418719655,0.048282279597252786,0.051259577771329536,0.04780772231426175,0.049442899187413444,0.04431384850474095,0.051137952942888254,0.039108616243827964,0.05318697410454916,0.04983285667641849,0.05172419486866692,0.04619939186223303,0.051540571067009634,0.03492244675424558,0.04656199182493171,0.04707263653009917,0.0002664826418719655,0.04040000862559073,0.04941823080124984,0.05239761587862009,0.04730642709610305,0.0002664826418719655,0.048651239718197604,0.05129266217579649,0.032833428871407125,0.05221626161352992,0.05062357831681236,0.048755892234960733,0.045554569718085844,0.0002664826418719655,0.049076559093286454,0.05259571933291268,0.048391519477274256,0.05141879854179728,0.0002664826418719655,0.04845640169812706,0.0503645963501691,0.05154465609281805,0.04427639486010794,0.0448004959333929,0.05125224959235103,0.05288545887397246,0.04811730227993134,0.0002664826418719655,0.05191662902991125,0.04962726571595453,0.04810938304912923],\"type\":\"scatter\",\"xaxis\":\"x2\",\"yaxis\":\"y2\"},{\"marker\":{\"color\":[4,5,28,37,47,67,88,119,146,179,297,323,350,377],\"colorbar\":{\"title\":{\"text\":\"Trial\"},\"x\":1.0,\"xpad\":40},\"colorscale\":[[0.0,\"rgb(247,251,255)\"],[0.125,\"rgb(222,235,247)\"],[0.25,\"rgb(198,219,239)\"],[0.375,\"rgb(158,202,225)\"],[0.5,\"rgb(107,174,214)\"],[0.625,\"rgb(66,146,198)\"],[0.75,\"rgb(33,113,181)\"],[0.875,\"rgb(8,81,156)\"],[1.0,\"rgb(8,48,107)\"]],\"line\":{\"color\":\"Grey\",\"width\":0.5},\"showscale\":false},\"mode\":\"markers\",\"name\":\"Feasible Trial\",\"showlegend\":false,\"x\":[true,false,false,true,true,false,true,false,true,false,false,true,false,true],\"y\":[0.015505116638520241,0.03390989215925825,0.018002904416695022,0.0471228279082221,0.019161143155815477,0.02765333913833305,0.03238459417420321,0.021211838801501057,0.02784785793175936,0.028107451890721297,0.0002664826418719655,0.030700959376724242,0.028730403330002617,0.032833428871407125],\"type\":\"scatter\",\"xaxis\":\"x3\",\"yaxis\":\"y3\"},{\"marker\":{\"color\":[4,5,28,37,47,67,88,119,146,179,297,323,350,377],\"colorbar\":{\"title\":{\"text\":\"Trial\"},\"x\":1.0,\"xpad\":40},\"colorscale\":[[0.0,\"rgb(247,251,255)\"],[0.125,\"rgb(222,235,247)\"],[0.25,\"rgb(198,219,239)\"],[0.375,\"rgb(158,202,225)\"],[0.5,\"rgb(107,174,214)\"],[0.625,\"rgb(66,146,198)\"],[0.75,\"rgb(33,113,181)\"],[0.875,\"rgb(8,81,156)\"],[1.0,\"rgb(8,48,107)\"]],\"line\":{\"color\":\"Grey\",\"width\":0.5},\"showscale\":false},\"mode\":\"markers\",\"name\":\"Feasible Trial\",\"showlegend\":false,\"x\":[true,true,false,false,false,true,true,false,true,false,false,true,true,false],\"y\":[0.015505116638520241,0.03390989215925825,0.018002904416695022,0.0471228279082221,0.019161143155815477,0.02765333913833305,0.03238459417420321,0.021211838801501057,0.02784785793175936,0.028107451890721297,0.0002664826418719655,0.030700959376724242,0.028730403330002617,0.032833428871407125],\"type\":\"scatter\",\"xaxis\":\"x4\",\"yaxis\":\"y4\"},{\"marker\":{\"color\":[0,1,2,3,4,5,6,7,8,9,10,11,12,13,14,15,16,17,18,19,20,21,22,23,24,25,26,27,28,29,30,31,32,33,34,35,36,37,38,39,40,41,42,43,44,45,46,47,48,49,50,51,52,53,54,55,56,57,58,59,60,61,62,63,64,65,66,67,68,69,70,71,72,73,74,75,76,77,78,79,80,81,82,83,84,85,86,87,88,89,90,91,92,93,94,95,96,97,98,99,100,101,102,103,104,105,106,107,108,109,110,111,112,113,114,115,116,117,118,119,120,121,122,123,124,125,126,127,128,129,130,131,132,133,134,135,136,137,138,139,140,141,142,143,144,145,146,147,148,149,150,151,152,153,154,155,156,157,158,159,160,161,162,163,164,165,166,167,168,169,170,171,172,173,174,175,176,177,178,179,180,181,182,183,184,185,186,187,188,189,190,191,192,193,194,195,196,197,198,199,200,201,202,203,204,205,206,207,208,209,210,211,212,213,214,215,216,217,218,219,220,221,222,223,224,225,226,227,228,229,230,231,232,233,234,235,236,237,238,239,240,241,242,243,244,245,246,247,248,249,250,251,252,253,254,255,256,257,258,259,260,261,262,263,264,265,266,267,268,269,270,271,272,273,274,275,276,277,278,279,280,281,282,283,284,285,286,287,288,289,290,291,292,293,294,295,296,297,298,299,300,301,302,303,304,305,306,307,308,309,310,311,312,313,314,315,316,317,318,319,320,321,322,323,324,325,326,327,328,329,330,331,332,333,334,335,336,337,338,339,340,341,342,343,344,345,346,347,348,349,350,351,352,353,354,355,356,357,358,359,360,361,362,363,364,365,366,367,368,369,370,371,372,373,374,375,376,377,378,379,380,381,382,383,384,385,386,387,388,389,390,391,392,393,394,395,396,397,398,399],\"colorbar\":{\"title\":{\"text\":\"Trial\"},\"x\":1.0,\"xpad\":40},\"colorscale\":[[0.0,\"rgb(247,251,255)\"],[0.125,\"rgb(222,235,247)\"],[0.25,\"rgb(198,219,239)\"],[0.375,\"rgb(158,202,225)\"],[0.5,\"rgb(107,174,214)\"],[0.625,\"rgb(66,146,198)\"],[0.75,\"rgb(33,113,181)\"],[0.875,\"rgb(8,81,156)\"],[1.0,\"rgb(8,48,107)\"]],\"line\":{\"color\":\"Grey\",\"width\":0.5},\"showscale\":false},\"mode\":\"markers\",\"name\":\"Feasible Trial\",\"showlegend\":false,\"x\":[895,532,250,438,382,879,87,418,992,699,56,15,223,221,201,252,595,316,135,162,325,167,131,128,1,3,95,305,9,703,150,6,57,91,183,68,552,258,63,382,133,28,101,36,49,183,112,271,54,820,463,12,1,52,167,217,73,122,36,94,221,204,365,137,165,39,160,71,287,989,102,194,185,249,182,344,239,151,114,177,81,193,147,279,636,116,31,416,168,299,267,234,227,324,212,129,87,134,56,27,33,55,58,24,71,16,50,100,3,79,81,82,50,34,0,68,110,91,26,503,65,149,123,46,121,124,103,43,82,115,21,60,74,39,44,41,13,58,91,1,45,24,780,70,138,100,37,78,122,59,20,102,89,110,53,145,147,37,76,17,91,167,115,64,130,43,95,149,138,59,580,160,25,1,191,111,83,80,53,97,71,129,153,37,107,79,51,76,22,16,28,5,4,17,0,20,2,1,20,12,32,25,22,34,3,32,3,13,2,25,25,23,25,36,2,1,20,40,0,16,16,43,21,16,23,45,47,48,44,45,52,47,45,51,52,54,43,59,2,4,1,7,6,4,17,0,0,16,15,1,0,3,21,24,23,27,24,21,26,670,22,30,28,27,27,31,27,30,29,956,64,31,65,457,31,25,70,36,22,21,34,22,65,19,36,36,39,36,62,38,41,61,39,803,40,62,413,39,38,65,33,53,23,48,71,23,528,40,21,79,744,54,23,38,18,53,35,73,22,58,19,17,19,44,0,868,20,79,39,58,17,16,0,20,35,60,18,45,15,0,86,32,60,35,360,16,53,0,36,73,20,46,0,28,59,20,86,39,19,61,43,15,1,18,23,1,53,31,75,15,602,38,19,59,1,38,70,20,47,0,32,54,21,92,33,16,72,48,18,37,0,59,0,30,44,88,73,53,50,43],\"y\":[0.03847803567849229,0.04171964497081084,0.045075083416706754,0.03969241243666473,0.015505116638520241,0.03390989215925825,0.04208916606138639,0.03992089568563728,0.03689398166065726,0.0419195619113201,0.04286446311593473,0.04370869088626762,0.03922014699048953,0.03898220646002158,0.04522533432718656,0.045419613559969596,0.033276953099928765,0.044603421446640534,0.009585828606819929,0.04603685469227625,0.036478533171880455,0.04936385234454629,0.04884736351921455,0.05167910318356951,0.051299149203227944,0.048890057353751605,0.04422724678859554,0.04010564854729204,0.018002904416695022,0.034522039692480196,0.044599477795545094,0.04921190880610869,0.050085003730726205,0.04670507928914593,0.04774758311109263,0.04624842492671421,0.018499769450536042,0.0471228279082221,0.04704902406361122,0.039014626607979955,0.046365675679190935,0.048154934413874154,0.047921209852360445,0.0516509302410396,0.03591129786809708,0.041083810657646824,0.04402098719895735,0.019161143155815477,0.04561184037203904,0.03602128500231943,0.03458822598741253,0.04784897708922793,0.04820380943479764,0.041976571864759823,0.04740382442291594,0.045051453542955366,0.04648504130021554,0.0469879804783168,0.048461992727442914,0.042413896090541955,0.049028092198309045,0.04919733821484708,0.048179967153130845,0.04694401449089732,0.04954915876216106,0.0002664826418719655,0.0395961476902804,0.02765333913833305,0.04249586982388426,0.04387294658296601,0.022658722357174747,0.049331885341930864,0.049934388763156416,0.04844238489569648,0.04950439674902438,0.047842500622259865,0.047141583913202785,0.044330265171293334,0.04507506180411467,0.042850527787547776,0.042630380128308054,0.04933324510119477,0.0481437214970748,0.04975391008487637,0.04686650492269808,0.04726198463493369,0.04656591531270172,0.04282694024513882,0.03238459417420321,0.047910376227795134,0.03642232578734297,0.0494451147008956,0.0002664826418719655,0.049154679926459895,0.04736466281198917,0.049376702406276715,0.04834581653075937,0.04057861037770286,0.05031477680681584,0.05037676712344134,0.04800919581518322,0.04963598798308874,0.0002664826418719655,0.049504241473341926,0.04751151390853433,0.043710622878157565,0.04793737819207235,0.04664669663710096,0.0466421111068875,0.05014495286754074,0.05001918540506721,0.04937054806796139,0.04853121084630373,0.0002664826418719655,0.04086167291275695,0.04711551945335192,0.048255655760942956,0.04232723894120498,0.04212373222017858,0.021211838801501057,0.046355664992873455,0.04879863008544178,0.050289612360944605,0.05094557622011079,0.05141379116754542,0.045043685195053494,0.0421953998415494,0.04824104595311586,0.04536433696221219,0.04804893042642694,0.047355889084013954,0.04994099064968518,0.04844011894775917,0.05072062948872008,0.05167499647934026,0.0002664826418719655,0.047950622301437665,0.047706655214182506,0.04858543575580961,0.0002664826418719655,0.047096205258541024,0.049633379649968196,0.04980878259305179,0.04851957081257526,0.0002664826418719655,0.044756911256342055,0.02784785793175936,0.04847850697449875,0.047116810660729994,0.04318529427697464,0.04837693138361469,0.05005289223297421,0.04983953922684468,0.048081317213503866,0.04739143116001597,0.050711091356320306,0.0423139061213198,0.04850785022691531,0.009216016064248595,0.04782418485527614,0.0002664826418719655,0.049024305900822816,0.04964787000215071,0.04821691192237398,0.04766757359625482,0.049898896364941756,0.04866275228073952,0.050339485124901585,0.04805792166950668,0.03807168129783852,0.04801868844605957,0.04989307820097129,0.04862042917789884,0.0002664826418719655,0.04872917207550892,0.0421431333588106,0.050170333522096044,0.04282836807235073,0.04991526231617852,0.028107451890721297,0.0002664826418719655,0.04993257210734363,0.04898506243922583,0.04955189791234907,0.048159910345721285,0.04999742933612483,0.04651908289037322,0.048688769926603,0.05017736655787099,0.052770132207501916,0.044920360081063405,0.05053286852839014,0.0002664826418719655,0.050562791169713586,0.05031125284117284,0.04990563145551257,0.05112802526300825,0.04885511508997322,0.05069920295812504,0.04950766943167519,0.050427546154826045,0.05069072979215204,0.05073869298991869,0.04989507028462124,0.049972583889434,0.04700001020406326,0.0512353018267241,0.04827784121151514,0.05104263186459542,0.05092531802018609,0.050869259929248144,0.05073879495247531,0.049012160319736396,0.05039360254194376,0.050921486747334446,0.04891709249337225,0.04711571482008757,0.04995752837612295,0.04922041848900541,0.05102792024432849,0.04973127692293931,0.05038853822528087,0.05126283537418349,0.051778250982194365,0.05169413881766273,0.050889642540877744,0.05130924006573032,0.05112273381674017,0.048247156201741616,0.05121506243504324,0.05051766722476123,0.05124083401322201,0.050911436434536786,0.05107694519486827,0.05080826109915465,0.04784381402931958,0.04868276479117052,0.050435703298782,0.05143864758675326,0.05238586893488721,0.051812229848526695,0.05235041859328893,0.0002664826418719655,0.052734651923476726,0.052749727917604794,0.0002664826418719655,0.05119815890180516,0.05287919963207016,0.05223501429331294,0.051298554172739305,0.05135107591876845,0.04254372298438136,0.053134600182737454,0.052909503083440244,0.0002664826418719655,0.03920845351012365,0.05275915171373006,0.05319752032663925,0.053035294599967545,0.041507624622074385,0.053230998474819435,0.05318001901092788,0.04641161061905724,0.053037738820821044,0.0002664826418719655,0.05312387900539119,0.0529325066441798,0.05351701566277965,0.053314355858730775,0.03307219962532294,0.05178013728169698,0.049045059421762065,0.05127462047917321,0.029566477782746063,0.0002664826418719655,0.02873532901480332,0.05091777583110446,0.05267623074832051,0.05318563606780051,0.03804079968142458,0.048897001938809,0.05300323925642245,0.03690790987867579,0.052648941574855224,0.05306271583010617,0.05263656227082064,0.048891441644559844,0.053398304472673463,0.0002664826418719655,0.05272727050856829,0.052834820688102344,0.04848977138583462,0.052674484024547705,0.04040126154027886,0.04890841429102853,0.0002664826418719655,0.03911269935383791,0.0002664826418719655,0.040218770111744254,0.04916640282816878,0.047323777618326984,0.052218659379927014,0.0002664826418719655,0.0488647275039855,0.050529757918228224,0.047743133713452346,0.030807682327581472,0.04936410099543398,0.05293868035823385,0.0002664826418719655,0.04265414117226195,0.048691379157994576,0.045019433248485036,0.04772679808345506,0.04883103346022026,0.04602518466429443,0.0002664826418719655,0.05084333155381747,0.04915832064079717,0.05034803846721865,0.05332291730899048,0.05021782525860478,0.0002664826418719655,0.030700959376724242,0.03892928588716499,0.03888675349644569,0.03851616520440891,0.04194539938141715,0.05212252852978096,0.049119631837963154,0.05318691699897445,0.04859005646792183,0.051068356184236205,0.047562021882130046,0.048584741000029706,0.043302073935299466,0.051398648188950694,0.030110588435945503,0.04405993648353966,0.051167828048413355,0.04902288614972887,0.0002664826418719655,0.0477290652407735,0.05009965070172061,0.03672381871723387,0.05115571159589503,0.05190464757486465,0.050247743921605095,0.0002664826418719655,0.046151171893206104,0.028730403330002617,0.05228112223311544,0.04005070835123643,0.0002664826418719655,0.048282279597252786,0.051259577771329536,0.04780772231426175,0.049442899187413444,0.04431384850474095,0.051137952942888254,0.039108616243827964,0.05318697410454916,0.04983285667641849,0.05172419486866692,0.04619939186223303,0.051540571067009634,0.03492244675424558,0.04656199182493171,0.04707263653009917,0.0002664826418719655,0.04040000862559073,0.04941823080124984,0.05239761587862009,0.04730642709610305,0.0002664826418719655,0.048651239718197604,0.05129266217579649,0.032833428871407125,0.05221626161352992,0.05062357831681236,0.048755892234960733,0.045554569718085844,0.0002664826418719655,0.049076559093286454,0.05259571933291268,0.048391519477274256,0.05141879854179728,0.0002664826418719655,0.04845640169812706,0.0503645963501691,0.05154465609281805,0.04427639486010794,0.0448004959333929,0.05125224959235103,0.05288545887397246,0.04811730227993134,0.0002664826418719655,0.05191662902991125,0.04962726571595453,0.04810938304912923],\"type\":\"scatter\",\"xaxis\":\"x5\",\"yaxis\":\"y5\"},{\"marker\":{\"color\":[0,1,2,3,4,5,6,7,8,9,10,11,12,13,14,15,16,17,18,19,20,21,22,23,24,25,26,27,28,29,30,31,32,33,34,35,36,37,38,39,40,41,42,43,44,45,46,47,48,49,50,51,52,53,54,55,56,57,58,59,60,61,62,63,64,65,66,67,68,69,70,71,72,73,74,75,76,77,78,79,80,81,82,83,84,85,86,87,88,89,90,91,92,93,94,95,96,97,98,99,100,101,102,103,104,105,106,107,108,109,110,111,112,113,114,115,116,117,118,119,120,121,122,123,124,125,126,127,128,129,130,131,132,133,134,135,136,137,138,139,140,141,142,143,144,145,146,147,148,149,150,151,152,153,154,155,156,157,158,159,160,161,162,163,164,165,166,167,168,169,170,171,172,173,174,175,176,177,178,179,180,181,182,183,184,185,186,187,188,189,190,191,192,193,194,195,196,197,198,199,200,201,202,203,204,205,206,207,208,209,210,211,212,213,214,215,216,217,218,219,220,221,222,223,224,225,226,227,228,229,230,231,232,233,234,235,236,237,238,239,240,241,242,243,244,245,246,247,248,249,250,251,252,253,254,255,256,257,258,259,260,261,262,263,264,265,266,267,268,269,270,271,272,273,274,275,276,277,278,279,280,281,282,283,284,285,286,287,288,289,290,291,292,293,294,295,296,297,298,299,300,301,302,303,304,305,306,307,308,309,310,311,312,313,314,315,316,317,318,319,320,321,322,323,324,325,326,327,328,329,330,331,332,333,334,335,336,337,338,339,340,341,342,343,344,345,346,347,348,349,350,351,352,353,354,355,356,357,358,359,360,361,362,363,364,365,366,367,368,369,370,371,372,373,374,375,376,377,378,379,380,381,382,383,384,385,386,387,388,389,390,391,392,393,394,395,396,397,398,399],\"colorbar\":{\"title\":{\"text\":\"Trial\"},\"x\":1.0,\"xpad\":40},\"colorscale\":[[0.0,\"rgb(247,251,255)\"],[0.125,\"rgb(222,235,247)\"],[0.25,\"rgb(198,219,239)\"],[0.375,\"rgb(158,202,225)\"],[0.5,\"rgb(107,174,214)\"],[0.625,\"rgb(66,146,198)\"],[0.75,\"rgb(33,113,181)\"],[0.875,\"rgb(8,81,156)\"],[1.0,\"rgb(8,48,107)\"]],\"line\":{\"color\":\"Grey\",\"width\":0.5},\"showscale\":false},\"mode\":\"markers\",\"name\":\"Feasible Trial\",\"showlegend\":false,\"x\":[\"tversky\",\"asymmetric\",\"cosine\",\"dice\",\"euclidean\",\"euclidean\",\"cosine\",\"tversky\",\"dice\",\"cosine\",\"jaccard\",\"jaccard\",\"jaccard\",\"jaccard\",\"cosine\",\"cosine\",\"cosine\",\"cosine\",\"asymmetric\",\"cosine\",\"cosine\",\"cosine\",\"cosine\",\"cosine\",\"cosine\",\"cosine\",\"dice\",\"asymmetric\",\"euclidean\",\"tversky\",\"tversky\",\"cosine\",\"cosine\",\"cosine\",\"cosine\",\"cosine\",\"asymmetric\",\"euclidean\",\"cosine\",\"dice\",\"cosine\",\"cosine\",\"cosine\",\"cosine\",\"cosine\",\"tversky\",\"cosine\",\"euclidean\",\"dice\",\"jaccard\",\"cosine\",\"cosine\",\"cosine\",\"cosine\",\"cosine\",\"cosine\",\"cosine\",\"asymmetric\",\"jaccard\",\"cosine\",\"cosine\",\"cosine\",\"cosine\",\"cosine\",\"cosine\",\"tversky\",\"cosine\",\"euclidean\",\"dice\",\"cosine\",\"asymmetric\",\"cosine\",\"cosine\",\"cosine\",\"cosine\",\"cosine\",\"cosine\",\"cosine\",\"jaccard\",\"cosine\",\"tversky\",\"cosine\",\"cosine\",\"cosine\",\"cosine\",\"cosine\",\"cosine\",\"dice\",\"euclidean\",\"cosine\",\"cosine\",\"cosine\",\"cosine\",\"cosine\",\"cosine\",\"cosine\",\"cosine\",\"asymmetric\",\"cosine\",\"cosine\",\"jaccard\",\"cosine\",\"cosine\",\"cosine\",\"cosine\",\"cosine\",\"cosine\",\"cosine\",\"cosine\",\"tversky\",\"tversky\",\"tversky\",\"tversky\",\"tversky\",\"tversky\",\"tversky\",\"tversky\",\"tversky\",\"tversky\",\"euclidean\",\"dice\",\"cosine\",\"cosine\",\"cosine\",\"cosine\",\"asymmetric\",\"cosine\",\"cosine\",\"tversky\",\"jaccard\",\"cosine\",\"cosine\",\"cosine\",\"cosine\",\"cosine\",\"cosine\",\"cosine\",\"cosine\",\"cosine\",\"cosine\",\"cosine\",\"cosine\",\"cosine\",\"cosine\",\"cosine\",\"cosine\",\"euclidean\",\"dice\",\"cosine\",\"tversky\",\"cosine\",\"cosine\",\"cosine\",\"cosine\",\"cosine\",\"cosine\",\"cosine\",\"cosine\",\"asymmetric\",\"cosine\",\"tversky\",\"cosine\",\"cosine\",\"cosine\",\"cosine\",\"jaccard\",\"cosine\",\"cosine\",\"cosine\",\"cosine\",\"cosine\",\"cosine\",\"cosine\",\"cosine\",\"cosine\",\"tversky\",\"cosine\",\"cosine\",\"cosine\",\"euclidean\",\"cosine\",\"cosine\",\"cosine\",\"cosine\",\"cosine\",\"cosine\",\"dice\",\"cosine\",\"cosine\",\"tversky\",\"tversky\",\"tversky\",\"tversky\",\"tversky\",\"tversky\",\"tversky\",\"tversky\",\"tversky\",\"tversky\",\"tversky\",\"tversky\",\"tversky\",\"tversky\",\"tversky\",\"tversky\",\"tversky\",\"tversky\",\"tversky\",\"tversky\",\"tversky\",\"tversky\",\"tversky\",\"tversky\",\"tversky\",\"tversky\",\"tversky\",\"tversky\",\"tversky\",\"tversky\",\"tversky\",\"tversky\",\"tversky\",\"tversky\",\"tversky\",\"tversky\",\"tversky\",\"tversky\",\"tversky\",\"tversky\",\"tversky\",\"tversky\",\"tversky\",\"tversky\",\"tversky\",\"tversky\",\"tversky\",\"tversky\",\"tversky\",\"tversky\",\"tversky\",\"tversky\",\"tversky\",\"tversky\",\"tversky\",\"tversky\",\"tversky\",\"tversky\",\"tversky\",\"tversky\",\"tversky\",\"tversky\",\"tversky\",\"tversky\",\"tversky\",\"tversky\",\"tversky\",\"tversky\",\"tversky\",\"tversky\",\"tversky\",\"tversky\",\"tversky\",\"tversky\",\"tversky\",\"tversky\",\"tversky\",\"tversky\",\"tversky\",\"tversky\",\"tversky\",\"tversky\",\"tversky\",\"tversky\",\"tversky\",\"tversky\",\"asymmetric\",\"tversky\",\"tversky\",\"tversky\",\"tversky\",\"tversky\",\"tversky\",\"tversky\",\"tversky\",\"tversky\",\"tversky\",\"tversky\",\"tversky\",\"jaccard\",\"tversky\",\"tversky\",\"tversky\",\"tversky\",\"tversky\",\"tversky\",\"tversky\",\"tversky\",\"euclidean\",\"tversky\",\"dice\",\"tversky\",\"tversky\",\"tversky\",\"tversky\",\"tversky\",\"tversky\",\"tversky\",\"tversky\",\"tversky\",\"tversky\",\"tversky\",\"tversky\",\"tversky\",\"jaccard\",\"tversky\",\"asymmetric\",\"tversky\",\"tversky\",\"tversky\",\"tversky\",\"tversky\",\"tversky\",\"tversky\",\"euclidean\",\"tversky\",\"tversky\",\"tversky\",\"dice\",\"tversky\",\"tversky\",\"tversky\",\"tversky\",\"tversky\",\"tversky\",\"tversky\",\"tversky\",\"tversky\",\"asymmetric\",\"tversky\",\"tversky\",\"tversky\",\"tversky\",\"tversky\",\"jaccard\",\"tversky\",\"tversky\",\"tversky\",\"tversky\",\"tversky\",\"tversky\",\"euclidean\",\"tversky\",\"tversky\",\"tversky\",\"tversky\",\"tversky\",\"dice\",\"tversky\",\"tversky\",\"tversky\",\"tversky\",\"tversky\",\"tversky\",\"tversky\",\"asymmetric\",\"tversky\",\"tversky\",\"tversky\",\"jaccard\",\"tversky\",\"tversky\",\"tversky\",\"tversky\",\"tversky\",\"tversky\",\"tversky\",\"tversky\",\"euclidean\",\"tversky\",\"tversky\",\"tversky\",\"tversky\",\"dice\",\"tversky\",\"tversky\",\"tversky\",\"tversky\",\"tversky\",\"tversky\",\"tversky\",\"tversky\",\"asymmetric\",\"tversky\",\"tversky\",\"tversky\",\"jaccard\",\"tversky\",\"tversky\",\"tversky\",\"tversky\"],\"y\":[0.03847803567849229,0.04171964497081084,0.045075083416706754,0.03969241243666473,0.015505116638520241,0.03390989215925825,0.04208916606138639,0.03992089568563728,0.03689398166065726,0.0419195619113201,0.04286446311593473,0.04370869088626762,0.03922014699048953,0.03898220646002158,0.04522533432718656,0.045419613559969596,0.033276953099928765,0.044603421446640534,0.009585828606819929,0.04603685469227625,0.036478533171880455,0.04936385234454629,0.04884736351921455,0.05167910318356951,0.051299149203227944,0.048890057353751605,0.04422724678859554,0.04010564854729204,0.018002904416695022,0.034522039692480196,0.044599477795545094,0.04921190880610869,0.050085003730726205,0.04670507928914593,0.04774758311109263,0.04624842492671421,0.018499769450536042,0.0471228279082221,0.04704902406361122,0.039014626607979955,0.046365675679190935,0.048154934413874154,0.047921209852360445,0.0516509302410396,0.03591129786809708,0.041083810657646824,0.04402098719895735,0.019161143155815477,0.04561184037203904,0.03602128500231943,0.03458822598741253,0.04784897708922793,0.04820380943479764,0.041976571864759823,0.04740382442291594,0.045051453542955366,0.04648504130021554,0.0469879804783168,0.048461992727442914,0.042413896090541955,0.049028092198309045,0.04919733821484708,0.048179967153130845,0.04694401449089732,0.04954915876216106,0.0002664826418719655,0.0395961476902804,0.02765333913833305,0.04249586982388426,0.04387294658296601,0.022658722357174747,0.049331885341930864,0.049934388763156416,0.04844238489569648,0.04950439674902438,0.047842500622259865,0.047141583913202785,0.044330265171293334,0.04507506180411467,0.042850527787547776,0.042630380128308054,0.04933324510119477,0.0481437214970748,0.04975391008487637,0.04686650492269808,0.04726198463493369,0.04656591531270172,0.04282694024513882,0.03238459417420321,0.047910376227795134,0.03642232578734297,0.0494451147008956,0.0002664826418719655,0.049154679926459895,0.04736466281198917,0.049376702406276715,0.04834581653075937,0.04057861037770286,0.05031477680681584,0.05037676712344134,0.04800919581518322,0.04963598798308874,0.0002664826418719655,0.049504241473341926,0.04751151390853433,0.043710622878157565,0.04793737819207235,0.04664669663710096,0.0466421111068875,0.05014495286754074,0.05001918540506721,0.04937054806796139,0.04853121084630373,0.0002664826418719655,0.04086167291275695,0.04711551945335192,0.048255655760942956,0.04232723894120498,0.04212373222017858,0.021211838801501057,0.046355664992873455,0.04879863008544178,0.050289612360944605,0.05094557622011079,0.05141379116754542,0.045043685195053494,0.0421953998415494,0.04824104595311586,0.04536433696221219,0.04804893042642694,0.047355889084013954,0.04994099064968518,0.04844011894775917,0.05072062948872008,0.05167499647934026,0.0002664826418719655,0.047950622301437665,0.047706655214182506,0.04858543575580961,0.0002664826418719655,0.047096205258541024,0.049633379649968196,0.04980878259305179,0.04851957081257526,0.0002664826418719655,0.044756911256342055,0.02784785793175936,0.04847850697449875,0.047116810660729994,0.04318529427697464,0.04837693138361469,0.05005289223297421,0.04983953922684468,0.048081317213503866,0.04739143116001597,0.050711091356320306,0.0423139061213198,0.04850785022691531,0.009216016064248595,0.04782418485527614,0.0002664826418719655,0.049024305900822816,0.04964787000215071,0.04821691192237398,0.04766757359625482,0.049898896364941756,0.04866275228073952,0.050339485124901585,0.04805792166950668,0.03807168129783852,0.04801868844605957,0.04989307820097129,0.04862042917789884,0.0002664826418719655,0.04872917207550892,0.0421431333588106,0.050170333522096044,0.04282836807235073,0.04991526231617852,0.028107451890721297,0.0002664826418719655,0.04993257210734363,0.04898506243922583,0.04955189791234907,0.048159910345721285,0.04999742933612483,0.04651908289037322,0.048688769926603,0.05017736655787099,0.052770132207501916,0.044920360081063405,0.05053286852839014,0.0002664826418719655,0.050562791169713586,0.05031125284117284,0.04990563145551257,0.05112802526300825,0.04885511508997322,0.05069920295812504,0.04950766943167519,0.050427546154826045,0.05069072979215204,0.05073869298991869,0.04989507028462124,0.049972583889434,0.04700001020406326,0.0512353018267241,0.04827784121151514,0.05104263186459542,0.05092531802018609,0.050869259929248144,0.05073879495247531,0.049012160319736396,0.05039360254194376,0.050921486747334446,0.04891709249337225,0.04711571482008757,0.04995752837612295,0.04922041848900541,0.05102792024432849,0.04973127692293931,0.05038853822528087,0.05126283537418349,0.051778250982194365,0.05169413881766273,0.050889642540877744,0.05130924006573032,0.05112273381674017,0.048247156201741616,0.05121506243504324,0.05051766722476123,0.05124083401322201,0.050911436434536786,0.05107694519486827,0.05080826109915465,0.04784381402931958,0.04868276479117052,0.050435703298782,0.05143864758675326,0.05238586893488721,0.051812229848526695,0.05235041859328893,0.0002664826418719655,0.052734651923476726,0.052749727917604794,0.0002664826418719655,0.05119815890180516,0.05287919963207016,0.05223501429331294,0.051298554172739305,0.05135107591876845,0.04254372298438136,0.053134600182737454,0.052909503083440244,0.0002664826418719655,0.03920845351012365,0.05275915171373006,0.05319752032663925,0.053035294599967545,0.041507624622074385,0.053230998474819435,0.05318001901092788,0.04641161061905724,0.053037738820821044,0.0002664826418719655,0.05312387900539119,0.0529325066441798,0.05351701566277965,0.053314355858730775,0.03307219962532294,0.05178013728169698,0.049045059421762065,0.05127462047917321,0.029566477782746063,0.0002664826418719655,0.02873532901480332,0.05091777583110446,0.05267623074832051,0.05318563606780051,0.03804079968142458,0.048897001938809,0.05300323925642245,0.03690790987867579,0.052648941574855224,0.05306271583010617,0.05263656227082064,0.048891441644559844,0.053398304472673463,0.0002664826418719655,0.05272727050856829,0.052834820688102344,0.04848977138583462,0.052674484024547705,0.04040126154027886,0.04890841429102853,0.0002664826418719655,0.03911269935383791,0.0002664826418719655,0.040218770111744254,0.04916640282816878,0.047323777618326984,0.052218659379927014,0.0002664826418719655,0.0488647275039855,0.050529757918228224,0.047743133713452346,0.030807682327581472,0.04936410099543398,0.05293868035823385,0.0002664826418719655,0.04265414117226195,0.048691379157994576,0.045019433248485036,0.04772679808345506,0.04883103346022026,0.04602518466429443,0.0002664826418719655,0.05084333155381747,0.04915832064079717,0.05034803846721865,0.05332291730899048,0.05021782525860478,0.0002664826418719655,0.030700959376724242,0.03892928588716499,0.03888675349644569,0.03851616520440891,0.04194539938141715,0.05212252852978096,0.049119631837963154,0.05318691699897445,0.04859005646792183,0.051068356184236205,0.047562021882130046,0.048584741000029706,0.043302073935299466,0.051398648188950694,0.030110588435945503,0.04405993648353966,0.051167828048413355,0.04902288614972887,0.0002664826418719655,0.0477290652407735,0.05009965070172061,0.03672381871723387,0.05115571159589503,0.05190464757486465,0.050247743921605095,0.0002664826418719655,0.046151171893206104,0.028730403330002617,0.05228112223311544,0.04005070835123643,0.0002664826418719655,0.048282279597252786,0.051259577771329536,0.04780772231426175,0.049442899187413444,0.04431384850474095,0.051137952942888254,0.039108616243827964,0.05318697410454916,0.04983285667641849,0.05172419486866692,0.04619939186223303,0.051540571067009634,0.03492244675424558,0.04656199182493171,0.04707263653009917,0.0002664826418719655,0.04040000862559073,0.04941823080124984,0.05239761587862009,0.04730642709610305,0.0002664826418719655,0.048651239718197604,0.05129266217579649,0.032833428871407125,0.05221626161352992,0.05062357831681236,0.048755892234960733,0.045554569718085844,0.0002664826418719655,0.049076559093286454,0.05259571933291268,0.048391519477274256,0.05141879854179728,0.0002664826418719655,0.04845640169812706,0.0503645963501691,0.05154465609281805,0.04427639486010794,0.0448004959333929,0.05125224959235103,0.05288545887397246,0.04811730227993134,0.0002664826418719655,0.05191662902991125,0.04962726571595453,0.04810938304912923],\"type\":\"scatter\",\"xaxis\":\"x6\",\"yaxis\":\"y6\"},{\"marker\":{\"color\":[4,5,28,37,47,67,88,119,146,179,297,323,350,377],\"colorbar\":{\"title\":{\"text\":\"Trial\"},\"x\":1.0,\"xpad\":40},\"colorscale\":[[0.0,\"rgb(247,251,255)\"],[0.125,\"rgb(222,235,247)\"],[0.25,\"rgb(198,219,239)\"],[0.375,\"rgb(158,202,225)\"],[0.5,\"rgb(107,174,214)\"],[0.625,\"rgb(66,146,198)\"],[0.75,\"rgb(33,113,181)\"],[0.875,\"rgb(8,81,156)\"],[1.0,\"rgb(8,48,107)\"]],\"line\":{\"color\":\"Grey\",\"width\":0.5},\"showscale\":false},\"mode\":\"markers\",\"name\":\"Feasible Trial\",\"showlegend\":false,\"x\":[\"lin\",\"log\",\"exp\",\"lin\",\"log\",\"exp\",\"log\",\"exp\",\"lin\",\"lin\",\"exp\",\"log\",\"exp\",\"log\"],\"y\":[0.015505116638520241,0.03390989215925825,0.018002904416695022,0.0471228279082221,0.019161143155815477,0.02765333913833305,0.03238459417420321,0.021211838801501057,0.02784785793175936,0.028107451890721297,0.0002664826418719655,0.030700959376724242,0.028730403330002617,0.032833428871407125],\"type\":\"scatter\",\"xaxis\":\"x7\",\"yaxis\":\"y7\"},{\"marker\":{\"color\":[0,1,2,3,4,5,6,7,8,9,10,11,12,13,14,15,16,17,18,19,20,21,22,23,24,25,26,27,28,29,30,31,32,33,34,35,36,37,38,39,40,41,42,43,44,45,46,47,48,49,50,51,52,53,54,55,56,57,58,59,60,61,62,63,64,65,66,67,68,69,70,71,72,73,74,75,76,77,78,79,80,81,82,83,84,85,86,87,88,89,90,91,92,93,94,95,96,97,98,99,100,101,102,103,104,105,106,107,108,109,110,111,112,113,114,115,116,117,118,119,120,121,122,123,124,125,126,127,128,129,130,131,132,133,134,135,136,137,138,139,140,141,142,143,144,145,146,147,148,149,150,151,152,153,154,155,156,157,158,159,160,161,162,163,164,165,166,167,168,169,170,171,172,173,174,175,176,177,178,179,180,181,182,183,184,185,186,187,188,189,190,191,192,193,194,195,196,197,198,199,200,201,202,203,204,205,206,207,208,209,210,211,212,213,214,215,216,217,218,219,220,221,222,223,224,225,226,227,228,229,230,231,232,233,234,235,236,237,238,239,240,241,242,243,244,245,246,247,248,249,250,251,252,253,254,255,256,257,258,259,260,261,262,263,264,265,266,267,268,269,270,271,272,273,274,275,276,277,278,279,280,281,282,283,284,285,286,287,288,289,290,291,292,293,294,295,296,297,298,299,300,301,302,303,304,305,306,307,308,309,310,311,312,313,314,315,316,317,318,319,320,321,322,323,324,325,326,327,328,329,330,331,332,333,334,335,336,337,338,339,340,341,342,343,344,345,346,347,348,349,350,351,352,353,354,355,356,357,358,359,360,361,362,363,364,365,366,367,368,369,370,371,372,373,374,375,376,377,378,379,380,381,382,383,384,385,386,387,388,389,390,391,392,393,394,395,396,397,398,399],\"colorbar\":{\"title\":{\"text\":\"Trial\"},\"x\":1.0,\"xpad\":40},\"colorscale\":[[0.0,\"rgb(247,251,255)\"],[0.125,\"rgb(222,235,247)\"],[0.25,\"rgb(198,219,239)\"],[0.375,\"rgb(158,202,225)\"],[0.5,\"rgb(107,174,214)\"],[0.625,\"rgb(66,146,198)\"],[0.75,\"rgb(33,113,181)\"],[0.875,\"rgb(8,81,156)\"],[1.0,\"rgb(8,48,107)\"]],\"line\":{\"color\":\"Grey\",\"width\":0.5},\"showscale\":false},\"mode\":\"markers\",\"name\":\"Feasible Trial\",\"showlegend\":false,\"x\":[722,95,348,544,720,54,127,249,618,199,400,393,367,410,299,277,250,507,284,165,170,20,25,6,6,20,93,2,81,140,57,17,12,95,56,120,197,5,71,732,123,34,46,4,1,102,656,456,59,163,208,38,29,1,69,334,106,136,31,75,25,23,51,87,18,0,150,109,52,547,77,21,15,38,19,62,88,14,2,45,185,21,42,18,118,69,91,15,42,56,221,20,0,26,75,19,33,61,11,10,42,15,0,15,54,678,40,101,81,9,10,13,34,0,428,63,33,572,313,10,50,27,12,8,7,46,1,33,68,11,53,13,30,9,4,0,36,47,28,0,64,14,17,28,0,371,44,14,76,497,28,13,14,40,55,10,1,27,12,40,0,24,16,35,54,13,27,12,45,1,62,15,24,0,29,256,12,44,13,34,0,14,24,15,38,13,51,26,11,11,1,32,0,33,38,39,32,66,33,54,31,31,31,35,47,69,30,79,32,29,29,31,50,30,32,56,91,31,61,30,45,28,28,25,24,25,21,22,50,22,25,21,24,21,22,49,45,23,24,19,19,18,0,15,16,0,15,14,18,16,14,1,14,15,0,393,16,13,14,12,12,12,1,14,0,12,13,11,12,1,13,46,15,711,0,43,15,14,14,593,45,15,472,15,12,14,42,10,0,13,12,43,13,12,40,0,57,0,290,12,39,13,0,37,17,61,352,37,15,0,21,38,226,16,54,27,0,16,38,24,13,38,0,53,641,25,532,313,16,34,12,68,12,28,51,1,26,40,167,12,24,0,46,13,429,30,14,38,0,60,25,14,264,0,46,28,18,36,145,11,27,14,48,24,68,11,750,1,38,0,24,39,17,54,0,29,15,39,14,26,50,78,0,27,15,38,13,0,62,30,16,46,192,25,12,35,0,14,26,49],\"y\":[0.03847803567849229,0.04171964497081084,0.045075083416706754,0.03969241243666473,0.015505116638520241,0.03390989215925825,0.04208916606138639,0.03992089568563728,0.03689398166065726,0.0419195619113201,0.04286446311593473,0.04370869088626762,0.03922014699048953,0.03898220646002158,0.04522533432718656,0.045419613559969596,0.033276953099928765,0.044603421446640534,0.009585828606819929,0.04603685469227625,0.036478533171880455,0.04936385234454629,0.04884736351921455,0.05167910318356951,0.051299149203227944,0.048890057353751605,0.04422724678859554,0.04010564854729204,0.018002904416695022,0.034522039692480196,0.044599477795545094,0.04921190880610869,0.050085003730726205,0.04670507928914593,0.04774758311109263,0.04624842492671421,0.018499769450536042,0.0471228279082221,0.04704902406361122,0.039014626607979955,0.046365675679190935,0.048154934413874154,0.047921209852360445,0.0516509302410396,0.03591129786809708,0.041083810657646824,0.04402098719895735,0.019161143155815477,0.04561184037203904,0.03602128500231943,0.03458822598741253,0.04784897708922793,0.04820380943479764,0.041976571864759823,0.04740382442291594,0.045051453542955366,0.04648504130021554,0.0469879804783168,0.048461992727442914,0.042413896090541955,0.049028092198309045,0.04919733821484708,0.048179967153130845,0.04694401449089732,0.04954915876216106,0.0002664826418719655,0.0395961476902804,0.02765333913833305,0.04249586982388426,0.04387294658296601,0.022658722357174747,0.049331885341930864,0.049934388763156416,0.04844238489569648,0.04950439674902438,0.047842500622259865,0.047141583913202785,0.044330265171293334,0.04507506180411467,0.042850527787547776,0.042630380128308054,0.04933324510119477,0.0481437214970748,0.04975391008487637,0.04686650492269808,0.04726198463493369,0.04656591531270172,0.04282694024513882,0.03238459417420321,0.047910376227795134,0.03642232578734297,0.0494451147008956,0.0002664826418719655,0.049154679926459895,0.04736466281198917,0.049376702406276715,0.04834581653075937,0.04057861037770286,0.05031477680681584,0.05037676712344134,0.04800919581518322,0.04963598798308874,0.0002664826418719655,0.049504241473341926,0.04751151390853433,0.043710622878157565,0.04793737819207235,0.04664669663710096,0.0466421111068875,0.05014495286754074,0.05001918540506721,0.04937054806796139,0.04853121084630373,0.0002664826418719655,0.04086167291275695,0.04711551945335192,0.048255655760942956,0.04232723894120498,0.04212373222017858,0.021211838801501057,0.046355664992873455,0.04879863008544178,0.050289612360944605,0.05094557622011079,0.05141379116754542,0.045043685195053494,0.0421953998415494,0.04824104595311586,0.04536433696221219,0.04804893042642694,0.047355889084013954,0.04994099064968518,0.04844011894775917,0.05072062948872008,0.05167499647934026,0.0002664826418719655,0.047950622301437665,0.047706655214182506,0.04858543575580961,0.0002664826418719655,0.047096205258541024,0.049633379649968196,0.04980878259305179,0.04851957081257526,0.0002664826418719655,0.044756911256342055,0.02784785793175936,0.04847850697449875,0.047116810660729994,0.04318529427697464,0.04837693138361469,0.05005289223297421,0.04983953922684468,0.048081317213503866,0.04739143116001597,0.050711091356320306,0.0423139061213198,0.04850785022691531,0.009216016064248595,0.04782418485527614,0.0002664826418719655,0.049024305900822816,0.04964787000215071,0.04821691192237398,0.04766757359625482,0.049898896364941756,0.04866275228073952,0.050339485124901585,0.04805792166950668,0.03807168129783852,0.04801868844605957,0.04989307820097129,0.04862042917789884,0.0002664826418719655,0.04872917207550892,0.0421431333588106,0.050170333522096044,0.04282836807235073,0.04991526231617852,0.028107451890721297,0.0002664826418719655,0.04993257210734363,0.04898506243922583,0.04955189791234907,0.048159910345721285,0.04999742933612483,0.04651908289037322,0.048688769926603,0.05017736655787099,0.052770132207501916,0.044920360081063405,0.05053286852839014,0.0002664826418719655,0.050562791169713586,0.05031125284117284,0.04990563145551257,0.05112802526300825,0.04885511508997322,0.05069920295812504,0.04950766943167519,0.050427546154826045,0.05069072979215204,0.05073869298991869,0.04989507028462124,0.049972583889434,0.04700001020406326,0.0512353018267241,0.04827784121151514,0.05104263186459542,0.05092531802018609,0.050869259929248144,0.05073879495247531,0.049012160319736396,0.05039360254194376,0.050921486747334446,0.04891709249337225,0.04711571482008757,0.04995752837612295,0.04922041848900541,0.05102792024432849,0.04973127692293931,0.05038853822528087,0.05126283537418349,0.051778250982194365,0.05169413881766273,0.050889642540877744,0.05130924006573032,0.05112273381674017,0.048247156201741616,0.05121506243504324,0.05051766722476123,0.05124083401322201,0.050911436434536786,0.05107694519486827,0.05080826109915465,0.04784381402931958,0.04868276479117052,0.050435703298782,0.05143864758675326,0.05238586893488721,0.051812229848526695,0.05235041859328893,0.0002664826418719655,0.052734651923476726,0.052749727917604794,0.0002664826418719655,0.05119815890180516,0.05287919963207016,0.05223501429331294,0.051298554172739305,0.05135107591876845,0.04254372298438136,0.053134600182737454,0.052909503083440244,0.0002664826418719655,0.03920845351012365,0.05275915171373006,0.05319752032663925,0.053035294599967545,0.041507624622074385,0.053230998474819435,0.05318001901092788,0.04641161061905724,0.053037738820821044,0.0002664826418719655,0.05312387900539119,0.0529325066441798,0.05351701566277965,0.053314355858730775,0.03307219962532294,0.05178013728169698,0.049045059421762065,0.05127462047917321,0.029566477782746063,0.0002664826418719655,0.02873532901480332,0.05091777583110446,0.05267623074832051,0.05318563606780051,0.03804079968142458,0.048897001938809,0.05300323925642245,0.03690790987867579,0.052648941574855224,0.05306271583010617,0.05263656227082064,0.048891441644559844,0.053398304472673463,0.0002664826418719655,0.05272727050856829,0.052834820688102344,0.04848977138583462,0.052674484024547705,0.04040126154027886,0.04890841429102853,0.0002664826418719655,0.03911269935383791,0.0002664826418719655,0.040218770111744254,0.04916640282816878,0.047323777618326984,0.052218659379927014,0.0002664826418719655,0.0488647275039855,0.050529757918228224,0.047743133713452346,0.030807682327581472,0.04936410099543398,0.05293868035823385,0.0002664826418719655,0.04265414117226195,0.048691379157994576,0.045019433248485036,0.04772679808345506,0.04883103346022026,0.04602518466429443,0.0002664826418719655,0.05084333155381747,0.04915832064079717,0.05034803846721865,0.05332291730899048,0.05021782525860478,0.0002664826418719655,0.030700959376724242,0.03892928588716499,0.03888675349644569,0.03851616520440891,0.04194539938141715,0.05212252852978096,0.049119631837963154,0.05318691699897445,0.04859005646792183,0.051068356184236205,0.047562021882130046,0.048584741000029706,0.043302073935299466,0.051398648188950694,0.030110588435945503,0.04405993648353966,0.051167828048413355,0.04902288614972887,0.0002664826418719655,0.0477290652407735,0.05009965070172061,0.03672381871723387,0.05115571159589503,0.05190464757486465,0.050247743921605095,0.0002664826418719655,0.046151171893206104,0.028730403330002617,0.05228112223311544,0.04005070835123643,0.0002664826418719655,0.048282279597252786,0.051259577771329536,0.04780772231426175,0.049442899187413444,0.04431384850474095,0.051137952942888254,0.039108616243827964,0.05318697410454916,0.04983285667641849,0.05172419486866692,0.04619939186223303,0.051540571067009634,0.03492244675424558,0.04656199182493171,0.04707263653009917,0.0002664826418719655,0.04040000862559073,0.04941823080124984,0.05239761587862009,0.04730642709610305,0.0002664826418719655,0.048651239718197604,0.05129266217579649,0.032833428871407125,0.05221626161352992,0.05062357831681236,0.048755892234960733,0.045554569718085844,0.0002664826418719655,0.049076559093286454,0.05259571933291268,0.048391519477274256,0.05141879854179728,0.0002664826418719655,0.04845640169812706,0.0503645963501691,0.05154465609281805,0.04427639486010794,0.0448004959333929,0.05125224959235103,0.05288545887397246,0.04811730227993134,0.0002664826418719655,0.05191662902991125,0.04962726571595453,0.04810938304912923],\"type\":\"scatter\",\"xaxis\":\"x8\",\"yaxis\":\"y8\"},{\"marker\":{\"color\":[0,7,29,30,45,65,80,109,110,111,112,113,114,115,116,117,118,128,149,160,175,189,190,191,192,193,194,195,196,197,198,199,200,201,202,203,204,205,206,207,208,209,210,211,212,213,214,215,216,217,218,219,220,221,222,223,224,225,226,227,228,229,230,231,232,233,234,235,236,237,238,239,240,241,242,243,244,245,246,247,248,249,250,251,252,253,254,255,256,257,258,259,260,261,262,263,264,265,266,267,268,269,270,271,272,273,274,276,277,278,279,280,281,282,283,284,285,286,287,289,290,291,292,293,294,295,296,298,300,301,302,303,304,305,306,307,308,309,310,311,312,314,316,317,318,319,320,321,322,324,325,326,328,329,330,331,332,333,334,335,336,338,339,340,341,342,344,345,346,347,348,349,351,352,353,354,355,357,358,359,360,361,362,363,365,366,367,369,370,371,372,373,374,375,376,378,379,380,381,383,384,385,386,387,388,389,390,392,393,394,396,397,398,399],\"colorbar\":{\"title\":{\"text\":\"Trial\"},\"x\":1.0,\"xpad\":40},\"colorscale\":[[0.0,\"rgb(247,251,255)\"],[0.125,\"rgb(222,235,247)\"],[0.25,\"rgb(198,219,239)\"],[0.375,\"rgb(158,202,225)\"],[0.5,\"rgb(107,174,214)\"],[0.625,\"rgb(66,146,198)\"],[0.75,\"rgb(33,113,181)\"],[0.875,\"rgb(8,81,156)\"],[1.0,\"rgb(8,48,107)\"]],\"line\":{\"color\":\"Grey\",\"width\":0.5},\"showscale\":false},\"mode\":\"markers\",\"name\":\"Feasible Trial\",\"showlegend\":false,\"x\":[1.6594401451544047,1.9795166830631068,0.0688101636838625,0.4555142890688384,1.0849251477918849,1.0834104845400863,0.5822532013799238,1.4315234234867982,1.4834472485589412,1.4940557969958743,1.451067308620709,1.875605326817625,1.3097684644790935,0.7910082066714876,1.2575998852058397,1.6514756849334922,0.8652633467454001,1.7308381529560617,1.3121177387748078,1.4894872349940336,1.778262178027659,0.9143013375619704,0.9565530701734938,0.7421020962719683,0.6997655092380498,0.44749382257198167,0.3662308580497401,0.33863922799843227,0.3322075892762173,0.25247428851823894,0.53449108763235,0.5673951927808256,0.29664494233594507,0.33375519447443924,0.24976967585979346,0.24183869055485563,0.3945518187917071,0.14195383883058454,0.47344404512550436,0.4775017013958939,0.293553908408145,0.23231145685281912,0.23237412277832475,0.2275137148870628,0.24239234461224346,0.18714767100660107,0.13538513582021824,0.03631749488720548,0.3258259179654841,0.12485546572378659,0.4405927537310546,0.30746331487974404,0.5572384779995706,0.29380022416230916,0.20590378883091076,0.17931953544519744,0.17170556194507863,0.17391382380234852,0.16002591709589187,0.1510898700186708,0.15803279102651313,0.11269564845068722,0.09014464492105179,0.187151476618603,0.1984998870842302,0.15711071075963084,0.008422713390628722,0.17509794304417092,0.12332851520436437,0.18162968220912284,0.07742530723563659,0.1293497773373078,0.0673030042710224,0.061569365171561405,0.07551182020210925,0.07984442532657615,0.040155189501980035,0.06420305615608846,0.011395068476860198,0.008696618216630717,0.0016378930116128614,0.010608636983433915,0.012830335744508634,0.006423333284434177,0.0686825196628001,0.07162016684985006,0.06885446902433126,0.08116823856855097,0.0644860909213963,0.03816290482137871,0.05626863830759747,0.05212197338908247,0.004788479977572868,0.014160735809991744,0.046442149347416375,0.09198199638828311,0.09151217899541329,0.004229667903125928,0.000724581442593554,0.06322371949045463,0.04791373003261537,0.05162796283537141,0.10255426723376178,0.00019723995056575316,0.09408138366049154,0.04540268705838675,0.10002482764885907,0.04737482532279097,0.11607872548651692,0.11798399884127372,0.10733933075864827,0.04350197950938311,0.1073235069161637,0.10853051499781682,0.00010469254780605397,0.04083528779444992,0.04628032671285619,0.0008987537609531776,0.040239003271035585,0.04172143824290705,0.04469947087486875,1.0857284573402364,0.03762439441461213,0.03802178816924387,0.038588733428735596,0.08555081044800847,0.033678280127538374,0.11800435936093204,0.03933128437000617,0.07652460813760717,0.0005083726853538396,0.11695449428781957,0.06370439023474427,0.14262390572525138,0.02992628339467638,0.0011215441705307444,0.0766021259724886,0.08228628141585143,1.9762604654095672,0.1311764118592146,0.6967277569297775,0.0754181652768079,0.048085367474256506,0.10148643192531935,1.6427650911873553,0.14360603746710673,0.07353966442050948,0.07635874987161867,0.12423410553204892,0.07138964055312987,0.04569096454493369,0.10135967747532285,0.038964851980192054,0.1473744918905165,0.0018155385433798743,1.0226615561237538,0.00014237186257699298,0.03374535581962403,0.07374210351960772,1.1927019349088663,0.03130038991250438,0.07963792831673222,0.001663189016183994,0.06693179402109653,0.09735008892771052,0.02859498024387773,0.8394011806461081,0.1356735877413765,0.053740926655291656,0.10101974801665375,0.029210751026068297,0.2022728096697194,0.007642390371724905,0.06656732985070891,0.0008280451041335901,0.15993010060001356,0.0937353419665541,0.052518466203365546,0.1162662959841467,1.4287099289419074,0.04721757119243737,0.08063247500499891,0.13287134152524976,0.09764231066594833,0.0009822001228106687,0.07658922814745481,0.15638678354932717,0.06566658394680847,0.039654543445849386,0.09507555612276666,0.0018547232566422309,0.17613348645059823,0.12096031747657289,0.0638369902403245,0.03781436870268285,0.09596571603618917,0.036834041488348075,0.2128558577274879,0.0007634424282852992,0.6774879741876992,0.1361743988182363,0.0742811246885885,0.6043607370528428,0.04385582496241475,0.11006425361514029,0.07661268422815748,0.03745785687210889,0.16293386096909296,0.12080810118042828,0.03251175973063389,0.002869043271431282,0.03716598862968467,1.5819485861783955,0.06891566785557968],\"y\":[0.03847803567849229,0.03992089568563728,0.034522039692480196,0.044599477795545094,0.041083810657646824,0.0002664826418719655,0.042630380128308054,0.05014495286754074,0.05001918540506721,0.04937054806796139,0.04853121084630373,0.0002664826418719655,0.04086167291275695,0.04711551945335192,0.048255655760942956,0.04232723894120498,0.04212373222017858,0.04536433696221219,0.04318529427697464,0.0002664826418719655,0.0421431333588106,0.052770132207501916,0.044920360081063405,0.05053286852839014,0.0002664826418719655,0.050562791169713586,0.05031125284117284,0.04990563145551257,0.05112802526300825,0.04885511508997322,0.05069920295812504,0.04950766943167519,0.050427546154826045,0.05069072979215204,0.05073869298991869,0.04989507028462124,0.049972583889434,0.04700001020406326,0.0512353018267241,0.04827784121151514,0.05104263186459542,0.05092531802018609,0.050869259929248144,0.05073879495247531,0.049012160319736396,0.05039360254194376,0.050921486747334446,0.04891709249337225,0.04711571482008757,0.04995752837612295,0.04922041848900541,0.05102792024432849,0.04973127692293931,0.05038853822528087,0.05126283537418349,0.051778250982194365,0.05169413881766273,0.050889642540877744,0.05130924006573032,0.05112273381674017,0.048247156201741616,0.05121506243504324,0.05051766722476123,0.05124083401322201,0.050911436434536786,0.05107694519486827,0.05080826109915465,0.04784381402931958,0.04868276479117052,0.050435703298782,0.05143864758675326,0.05238586893488721,0.051812229848526695,0.05235041859328893,0.0002664826418719655,0.052734651923476726,0.052749727917604794,0.0002664826418719655,0.05119815890180516,0.05287919963207016,0.05223501429331294,0.051298554172739305,0.05135107591876845,0.04254372298438136,0.053134600182737454,0.052909503083440244,0.0002664826418719655,0.03920845351012365,0.05275915171373006,0.05319752032663925,0.053035294599967545,0.041507624622074385,0.053230998474819435,0.05318001901092788,0.04641161061905724,0.053037738820821044,0.0002664826418719655,0.05312387900539119,0.0529325066441798,0.05351701566277965,0.053314355858730775,0.03307219962532294,0.05178013728169698,0.049045059421762065,0.05127462047917321,0.029566477782746063,0.0002664826418719655,0.05091777583110446,0.05267623074832051,0.05318563606780051,0.03804079968142458,0.048897001938809,0.05300323925642245,0.03690790987867579,0.052648941574855224,0.05306271583010617,0.05263656227082064,0.048891441644559844,0.053398304472673463,0.05272727050856829,0.052834820688102344,0.04848977138583462,0.052674484024547705,0.04040126154027886,0.04890841429102853,0.0002664826418719655,0.03911269935383791,0.040218770111744254,0.047323777618326984,0.052218659379927014,0.0002664826418719655,0.0488647275039855,0.050529757918228224,0.047743133713452346,0.030807682327581472,0.04936410099543398,0.05293868035823385,0.0002664826418719655,0.04265414117226195,0.048691379157994576,0.045019433248485036,0.04883103346022026,0.0002664826418719655,0.05084333155381747,0.04915832064079717,0.05034803846721865,0.05332291730899048,0.05021782525860478,0.0002664826418719655,0.03892928588716499,0.03888675349644569,0.03851616520440891,0.05212252852978096,0.049119631837963154,0.05318691699897445,0.04859005646792183,0.051068356184236205,0.047562021882130046,0.048584741000029706,0.043302073935299466,0.051398648188950694,0.04405993648353966,0.051167828048413355,0.04902288614972887,0.0002664826418719655,0.0477290652407735,0.03672381871723387,0.05115571159589503,0.05190464757486465,0.050247743921605095,0.0002664826418719655,0.046151171893206104,0.05228112223311544,0.04005070835123643,0.0002664826418719655,0.048282279597252786,0.051259577771329536,0.049442899187413444,0.04431384850474095,0.051137952942888254,0.039108616243827964,0.05318697410454916,0.04983285667641849,0.05172419486866692,0.051540571067009634,0.03492244675424558,0.04656199182493171,0.0002664826418719655,0.04040000862559073,0.04941823080124984,0.05239761587862009,0.04730642709610305,0.0002664826418719655,0.048651239718197604,0.05129266217579649,0.05221626161352992,0.05062357831681236,0.048755892234960733,0.045554569718085844,0.049076559093286454,0.05259571933291268,0.048391519477274256,0.05141879854179728,0.0002664826418719655,0.04845640169812706,0.0503645963501691,0.05154465609281805,0.0448004959333929,0.05125224959235103,0.05288545887397246,0.0002664826418719655,0.05191662902991125,0.04962726571595453,0.04810938304912923],\"type\":\"scatter\",\"xaxis\":\"x9\",\"yaxis\":\"y9\"},{\"marker\":{\"color\":[0,7,29,30,45,65,80,109,110,111,112,113,114,115,116,117,118,128,149,160,175,189,190,191,192,193,194,195,196,197,198,199,200,201,202,203,204,205,206,207,208,209,210,211,212,213,214,215,216,217,218,219,220,221,222,223,224,225,226,227,228,229,230,231,232,233,234,235,236,237,238,239,240,241,242,243,244,245,246,247,248,249,250,251,252,253,254,255,256,257,258,259,260,261,262,263,264,265,266,267,268,269,270,271,272,273,274,276,277,278,279,280,281,282,283,284,285,286,287,289,290,291,292,293,294,295,296,298,300,301,302,303,304,305,306,307,308,309,310,311,312,314,316,317,318,319,320,321,322,324,325,326,328,329,330,331,332,333,334,335,336,338,339,340,341,342,344,345,346,347,348,349,351,352,353,354,355,357,358,359,360,361,362,363,365,366,367,369,370,371,372,373,374,375,376,378,379,380,381,383,384,385,386,387,388,389,390,392,393,394,396,397,398,399],\"colorbar\":{\"title\":{\"text\":\"Trial\"},\"x\":1.0,\"xpad\":40},\"colorscale\":[[0.0,\"rgb(247,251,255)\"],[0.125,\"rgb(222,235,247)\"],[0.25,\"rgb(198,219,239)\"],[0.375,\"rgb(158,202,225)\"],[0.5,\"rgb(107,174,214)\"],[0.625,\"rgb(66,146,198)\"],[0.75,\"rgb(33,113,181)\"],[0.875,\"rgb(8,81,156)\"],[1.0,\"rgb(8,48,107)\"]],\"line\":{\"color\":\"Grey\",\"width\":0.5},\"showscale\":false},\"mode\":\"markers\",\"name\":\"Feasible Trial\",\"showlegend\":false,\"x\":[0.26204828841445593,1.0041489873346503,1.8293633855239544,1.711304717912446,0.1600389905877364,0.9690905393254672,1.0751799294559916,1.4047961874667565,1.4413843932725054,1.38702598200742,1.4220318632185849,1.4263165613858908,0.6692172372221319,1.5956837621800966,1.9614886939225802,1.2380493365105707,0.6735015201062146,0.7988542838309516,1.6252529251237815,1.2088183563190191,0.496590562478769,1.9604450913585005,1.9354153476642546,1.7577544220193593,1.752882958053434,1.6410737649695715,1.5934919669098861,1.57202631228016,1.998568372012898,1.8508497562899808,1.9276516198063225,1.9909122653788944,1.8038725374615234,1.7939413718130928,1.8215709875637462,1.8092391827386294,1.8667000038984132,1.6987357651433017,1.9877359190109856,1.9972779563142744,1.8563748152777997,1.868330902029696,1.8321372644437168,1.8340227545505363,1.8496120538342322,1.8689635392321735,1.8732042758454222,1.7332419177006673,1.9020589680919047,1.790785475932044,1.9040914444520407,1.7723761505619657,1.7257690950520503,1.801418947931833,1.9153599923871736,1.9308088328737163,1.9429468680096829,1.9990504595285787,1.988269076168496,1.9865190491277114,1.968849403980889,1.9845186807437316,1.999829780862566,1.9151404997178978,1.9157090461621389,1.9206812018231776,1.929131298720499,1.9315431943636736,1.9986944801978141,1.9075339212081697,1.916877099332216,1.9278413247414237,1.911322799040794,1.9143078260154494,1.919100942600386,1.934910244957095,1.9348952742868375,1.9491852847304854,1.9421854142452983,1.9431495091462696,1.952041161008228,1.9495300554229362,1.9708532948793493,1.9527308858400552,1.9456850735537499,1.9432031745674443,1.9446333348176497,1.900981894989739,1.9514486601051055,1.9007611022323208,1.8824059534966424,1.8775172837486953,1.8849804728609267,1.8702773086622155,1.8578498276860387,1.8809950055833553,1.880347622146293,1.8752091681873402,1.8304341692645771,1.827729234583476,1.831717262712215,1.8296071896654695,1.8574713495546675,1.872806210456213,1.8479124446312833,1.8194801982242088,1.8859251816775324,1.7744528586375783,1.8715450844847978,1.8794628854112443,1.880636861208098,1.8479311582604963,1.9509456454376373,1.892372531395725,1.8249773885755949,1.8075006623328012,1.8081997979774203,1.8120029560412751,1.675602059740139,1.7826019409141207,1.7529110560624337,1.6862188692241697,1.7710624245856392,1.7617992456528562,1.7205587407697214,1.6691632250380948,1.757606787815881,1.7891937590072169,0.9193922457601659,1.8265446112765786,0.2806292711224745,1.750312835971314,1.7962450233911453,1.503626085146554,1.170438114244506,1.84364670802145,1.8730560838614327,1.8805692478977118,1.9623152795225416,1.8831682889363297,1.7214270243973537,1.7820990174413311,1.351170270550873,1.8581384223514132,1.9566615712429634,1.9059546681431183,1.8367121354933544,1.8375147659141005,1.890719645310358,1.9529452834520544,1.8489421385476348,1.9082829562873138,1.819873879353691,1.9577698047081478,1.8751057508618327,1.9253571929734112,1.8864999131505094,1.7973072469639002,1.998611563999275,1.8500090206797084,1.926592066136699,1.8821365906116643,1.962733971321973,1.8184362976586497,1.7348695266795917,1.9152710518487903,1.8501935936849492,1.957955636554697,1.7889405953112574,1.8916646868505729,1.9352388772953775,1.841714096020989,1.8760955324851454,0.5337038217206012,1.7596698770906556,1.9984158685966167,1.9197162894308502,1.7968138223805008,1.6628270447660658,1.8294814153736396,0.010508393213481737,1.8983689643355246,1.95597044582921,1.8884565168446668,1.9093069947279615,1.8616516530314462,1.957178654842869,1.9123335622240738,1.8636132379327714,1.9716020136769414,1.8262536293318783,1.9337260047957903,1.8771632977123571,1.9042314392188722,1.9935216931233026,1.826685089605933,1.705691005118638,1.940158295370262,1.870714975652947,1.9147088048049374,1.8140075790250003,0.816199694392755,1.8593894151987889,1.7672707857243053,1.9523818032282687,1.8942416667377813,1.3404333576892178,1.9680134630374204,1.8321421916536036,1.9223398671733487,1.9994582312449083,1.7967674577877824,1.8924977441980442,1.8454154264990263],\"y\":[0.03847803567849229,0.03992089568563728,0.034522039692480196,0.044599477795545094,0.041083810657646824,0.0002664826418719655,0.042630380128308054,0.05014495286754074,0.05001918540506721,0.04937054806796139,0.04853121084630373,0.0002664826418719655,0.04086167291275695,0.04711551945335192,0.048255655760942956,0.04232723894120498,0.04212373222017858,0.04536433696221219,0.04318529427697464,0.0002664826418719655,0.0421431333588106,0.052770132207501916,0.044920360081063405,0.05053286852839014,0.0002664826418719655,0.050562791169713586,0.05031125284117284,0.04990563145551257,0.05112802526300825,0.04885511508997322,0.05069920295812504,0.04950766943167519,0.050427546154826045,0.05069072979215204,0.05073869298991869,0.04989507028462124,0.049972583889434,0.04700001020406326,0.0512353018267241,0.04827784121151514,0.05104263186459542,0.05092531802018609,0.050869259929248144,0.05073879495247531,0.049012160319736396,0.05039360254194376,0.050921486747334446,0.04891709249337225,0.04711571482008757,0.04995752837612295,0.04922041848900541,0.05102792024432849,0.04973127692293931,0.05038853822528087,0.05126283537418349,0.051778250982194365,0.05169413881766273,0.050889642540877744,0.05130924006573032,0.05112273381674017,0.048247156201741616,0.05121506243504324,0.05051766722476123,0.05124083401322201,0.050911436434536786,0.05107694519486827,0.05080826109915465,0.04784381402931958,0.04868276479117052,0.050435703298782,0.05143864758675326,0.05238586893488721,0.051812229848526695,0.05235041859328893,0.0002664826418719655,0.052734651923476726,0.052749727917604794,0.0002664826418719655,0.05119815890180516,0.05287919963207016,0.05223501429331294,0.051298554172739305,0.05135107591876845,0.04254372298438136,0.053134600182737454,0.052909503083440244,0.0002664826418719655,0.03920845351012365,0.05275915171373006,0.05319752032663925,0.053035294599967545,0.041507624622074385,0.053230998474819435,0.05318001901092788,0.04641161061905724,0.053037738820821044,0.0002664826418719655,0.05312387900539119,0.0529325066441798,0.05351701566277965,0.053314355858730775,0.03307219962532294,0.05178013728169698,0.049045059421762065,0.05127462047917321,0.029566477782746063,0.0002664826418719655,0.05091777583110446,0.05267623074832051,0.05318563606780051,0.03804079968142458,0.048897001938809,0.05300323925642245,0.03690790987867579,0.052648941574855224,0.05306271583010617,0.05263656227082064,0.048891441644559844,0.053398304472673463,0.05272727050856829,0.052834820688102344,0.04848977138583462,0.052674484024547705,0.04040126154027886,0.04890841429102853,0.0002664826418719655,0.03911269935383791,0.040218770111744254,0.047323777618326984,0.052218659379927014,0.0002664826418719655,0.0488647275039855,0.050529757918228224,0.047743133713452346,0.030807682327581472,0.04936410099543398,0.05293868035823385,0.0002664826418719655,0.04265414117226195,0.048691379157994576,0.045019433248485036,0.04883103346022026,0.0002664826418719655,0.05084333155381747,0.04915832064079717,0.05034803846721865,0.05332291730899048,0.05021782525860478,0.0002664826418719655,0.03892928588716499,0.03888675349644569,0.03851616520440891,0.05212252852978096,0.049119631837963154,0.05318691699897445,0.04859005646792183,0.051068356184236205,0.047562021882130046,0.048584741000029706,0.043302073935299466,0.051398648188950694,0.04405993648353966,0.051167828048413355,0.04902288614972887,0.0002664826418719655,0.0477290652407735,0.03672381871723387,0.05115571159589503,0.05190464757486465,0.050247743921605095,0.0002664826418719655,0.046151171893206104,0.05228112223311544,0.04005070835123643,0.0002664826418719655,0.048282279597252786,0.051259577771329536,0.049442899187413444,0.04431384850474095,0.051137952942888254,0.039108616243827964,0.05318697410454916,0.04983285667641849,0.05172419486866692,0.051540571067009634,0.03492244675424558,0.04656199182493171,0.0002664826418719655,0.04040000862559073,0.04941823080124984,0.05239761587862009,0.04730642709610305,0.0002664826418719655,0.048651239718197604,0.05129266217579649,0.05221626161352992,0.05062357831681236,0.048755892234960733,0.045554569718085844,0.049076559093286454,0.05259571933291268,0.048391519477274256,0.05141879854179728,0.0002664826418719655,0.04845640169812706,0.0503645963501691,0.05154465609281805,0.0448004959333929,0.05125224959235103,0.05288545887397246,0.0002664826418719655,0.05191662902991125,0.04962726571595453,0.04810938304912923],\"type\":\"scatter\",\"xaxis\":\"x10\",\"yaxis\":\"y10\"}],                        {\"template\":{\"data\":{\"histogram2dcontour\":[{\"type\":\"histogram2dcontour\",\"colorbar\":{\"outlinewidth\":0,\"ticks\":\"\"},\"colorscale\":[[0.0,\"#0d0887\"],[0.1111111111111111,\"#46039f\"],[0.2222222222222222,\"#7201a8\"],[0.3333333333333333,\"#9c179e\"],[0.4444444444444444,\"#bd3786\"],[0.5555555555555556,\"#d8576b\"],[0.6666666666666666,\"#ed7953\"],[0.7777777777777778,\"#fb9f3a\"],[0.8888888888888888,\"#fdca26\"],[1.0,\"#f0f921\"]]}],\"choropleth\":[{\"type\":\"choropleth\",\"colorbar\":{\"outlinewidth\":0,\"ticks\":\"\"}}],\"histogram2d\":[{\"type\":\"histogram2d\",\"colorbar\":{\"outlinewidth\":0,\"ticks\":\"\"},\"colorscale\":[[0.0,\"#0d0887\"],[0.1111111111111111,\"#46039f\"],[0.2222222222222222,\"#7201a8\"],[0.3333333333333333,\"#9c179e\"],[0.4444444444444444,\"#bd3786\"],[0.5555555555555556,\"#d8576b\"],[0.6666666666666666,\"#ed7953\"],[0.7777777777777778,\"#fb9f3a\"],[0.8888888888888888,\"#fdca26\"],[1.0,\"#f0f921\"]]}],\"heatmap\":[{\"type\":\"heatmap\",\"colorbar\":{\"outlinewidth\":0,\"ticks\":\"\"},\"colorscale\":[[0.0,\"#0d0887\"],[0.1111111111111111,\"#46039f\"],[0.2222222222222222,\"#7201a8\"],[0.3333333333333333,\"#9c179e\"],[0.4444444444444444,\"#bd3786\"],[0.5555555555555556,\"#d8576b\"],[0.6666666666666666,\"#ed7953\"],[0.7777777777777778,\"#fb9f3a\"],[0.8888888888888888,\"#fdca26\"],[1.0,\"#f0f921\"]]}],\"heatmapgl\":[{\"type\":\"heatmapgl\",\"colorbar\":{\"outlinewidth\":0,\"ticks\":\"\"},\"colorscale\":[[0.0,\"#0d0887\"],[0.1111111111111111,\"#46039f\"],[0.2222222222222222,\"#7201a8\"],[0.3333333333333333,\"#9c179e\"],[0.4444444444444444,\"#bd3786\"],[0.5555555555555556,\"#d8576b\"],[0.6666666666666666,\"#ed7953\"],[0.7777777777777778,\"#fb9f3a\"],[0.8888888888888888,\"#fdca26\"],[1.0,\"#f0f921\"]]}],\"contourcarpet\":[{\"type\":\"contourcarpet\",\"colorbar\":{\"outlinewidth\":0,\"ticks\":\"\"}}],\"contour\":[{\"type\":\"contour\",\"colorbar\":{\"outlinewidth\":0,\"ticks\":\"\"},\"colorscale\":[[0.0,\"#0d0887\"],[0.1111111111111111,\"#46039f\"],[0.2222222222222222,\"#7201a8\"],[0.3333333333333333,\"#9c179e\"],[0.4444444444444444,\"#bd3786\"],[0.5555555555555556,\"#d8576b\"],[0.6666666666666666,\"#ed7953\"],[0.7777777777777778,\"#fb9f3a\"],[0.8888888888888888,\"#fdca26\"],[1.0,\"#f0f921\"]]}],\"surface\":[{\"type\":\"surface\",\"colorbar\":{\"outlinewidth\":0,\"ticks\":\"\"},\"colorscale\":[[0.0,\"#0d0887\"],[0.1111111111111111,\"#46039f\"],[0.2222222222222222,\"#7201a8\"],[0.3333333333333333,\"#9c179e\"],[0.4444444444444444,\"#bd3786\"],[0.5555555555555556,\"#d8576b\"],[0.6666666666666666,\"#ed7953\"],[0.7777777777777778,\"#fb9f3a\"],[0.8888888888888888,\"#fdca26\"],[1.0,\"#f0f921\"]]}],\"mesh3d\":[{\"type\":\"mesh3d\",\"colorbar\":{\"outlinewidth\":0,\"ticks\":\"\"}}],\"scatter\":[{\"fillpattern\":{\"fillmode\":\"overlay\",\"size\":10,\"solidity\":0.2},\"type\":\"scatter\"}],\"parcoords\":[{\"type\":\"parcoords\",\"line\":{\"colorbar\":{\"outlinewidth\":0,\"ticks\":\"\"}}}],\"scatterpolargl\":[{\"type\":\"scatterpolargl\",\"marker\":{\"colorbar\":{\"outlinewidth\":0,\"ticks\":\"\"}}}],\"bar\":[{\"error_x\":{\"color\":\"#2a3f5f\"},\"error_y\":{\"color\":\"#2a3f5f\"},\"marker\":{\"line\":{\"color\":\"#E5ECF6\",\"width\":0.5},\"pattern\":{\"fillmode\":\"overlay\",\"size\":10,\"solidity\":0.2}},\"type\":\"bar\"}],\"scattergeo\":[{\"type\":\"scattergeo\",\"marker\":{\"colorbar\":{\"outlinewidth\":0,\"ticks\":\"\"}}}],\"scatterpolar\":[{\"type\":\"scatterpolar\",\"marker\":{\"colorbar\":{\"outlinewidth\":0,\"ticks\":\"\"}}}],\"histogram\":[{\"marker\":{\"pattern\":{\"fillmode\":\"overlay\",\"size\":10,\"solidity\":0.2}},\"type\":\"histogram\"}],\"scattergl\":[{\"type\":\"scattergl\",\"marker\":{\"colorbar\":{\"outlinewidth\":0,\"ticks\":\"\"}}}],\"scatter3d\":[{\"type\":\"scatter3d\",\"line\":{\"colorbar\":{\"outlinewidth\":0,\"ticks\":\"\"}},\"marker\":{\"colorbar\":{\"outlinewidth\":0,\"ticks\":\"\"}}}],\"scattermapbox\":[{\"type\":\"scattermapbox\",\"marker\":{\"colorbar\":{\"outlinewidth\":0,\"ticks\":\"\"}}}],\"scatterternary\":[{\"type\":\"scatterternary\",\"marker\":{\"colorbar\":{\"outlinewidth\":0,\"ticks\":\"\"}}}],\"scattercarpet\":[{\"type\":\"scattercarpet\",\"marker\":{\"colorbar\":{\"outlinewidth\":0,\"ticks\":\"\"}}}],\"carpet\":[{\"aaxis\":{\"endlinecolor\":\"#2a3f5f\",\"gridcolor\":\"white\",\"linecolor\":\"white\",\"minorgridcolor\":\"white\",\"startlinecolor\":\"#2a3f5f\"},\"baxis\":{\"endlinecolor\":\"#2a3f5f\",\"gridcolor\":\"white\",\"linecolor\":\"white\",\"minorgridcolor\":\"white\",\"startlinecolor\":\"#2a3f5f\"},\"type\":\"carpet\"}],\"table\":[{\"cells\":{\"fill\":{\"color\":\"#EBF0F8\"},\"line\":{\"color\":\"white\"}},\"header\":{\"fill\":{\"color\":\"#C8D4E3\"},\"line\":{\"color\":\"white\"}},\"type\":\"table\"}],\"barpolar\":[{\"marker\":{\"line\":{\"color\":\"#E5ECF6\",\"width\":0.5},\"pattern\":{\"fillmode\":\"overlay\",\"size\":10,\"solidity\":0.2}},\"type\":\"barpolar\"}],\"pie\":[{\"automargin\":true,\"type\":\"pie\"}]},\"layout\":{\"autotypenumbers\":\"strict\",\"colorway\":[\"#636efa\",\"#EF553B\",\"#00cc96\",\"#ab63fa\",\"#FFA15A\",\"#19d3f3\",\"#FF6692\",\"#B6E880\",\"#FF97FF\",\"#FECB52\"],\"font\":{\"color\":\"#2a3f5f\"},\"hovermode\":\"closest\",\"hoverlabel\":{\"align\":\"left\"},\"paper_bgcolor\":\"white\",\"plot_bgcolor\":\"#E5ECF6\",\"polar\":{\"bgcolor\":\"#E5ECF6\",\"angularaxis\":{\"gridcolor\":\"white\",\"linecolor\":\"white\",\"ticks\":\"\"},\"radialaxis\":{\"gridcolor\":\"white\",\"linecolor\":\"white\",\"ticks\":\"\"}},\"ternary\":{\"bgcolor\":\"#E5ECF6\",\"aaxis\":{\"gridcolor\":\"white\",\"linecolor\":\"white\",\"ticks\":\"\"},\"baxis\":{\"gridcolor\":\"white\",\"linecolor\":\"white\",\"ticks\":\"\"},\"caxis\":{\"gridcolor\":\"white\",\"linecolor\":\"white\",\"ticks\":\"\"}},\"coloraxis\":{\"colorbar\":{\"outlinewidth\":0,\"ticks\":\"\"}},\"colorscale\":{\"sequential\":[[0.0,\"#0d0887\"],[0.1111111111111111,\"#46039f\"],[0.2222222222222222,\"#7201a8\"],[0.3333333333333333,\"#9c179e\"],[0.4444444444444444,\"#bd3786\"],[0.5555555555555556,\"#d8576b\"],[0.6666666666666666,\"#ed7953\"],[0.7777777777777778,\"#fb9f3a\"],[0.8888888888888888,\"#fdca26\"],[1.0,\"#f0f921\"]],\"sequentialminus\":[[0.0,\"#0d0887\"],[0.1111111111111111,\"#46039f\"],[0.2222222222222222,\"#7201a8\"],[0.3333333333333333,\"#9c179e\"],[0.4444444444444444,\"#bd3786\"],[0.5555555555555556,\"#d8576b\"],[0.6666666666666666,\"#ed7953\"],[0.7777777777777778,\"#fb9f3a\"],[0.8888888888888888,\"#fdca26\"],[1.0,\"#f0f921\"]],\"diverging\":[[0,\"#8e0152\"],[0.1,\"#c51b7d\"],[0.2,\"#de77ae\"],[0.3,\"#f1b6da\"],[0.4,\"#fde0ef\"],[0.5,\"#f7f7f7\"],[0.6,\"#e6f5d0\"],[0.7,\"#b8e186\"],[0.8,\"#7fbc41\"],[0.9,\"#4d9221\"],[1,\"#276419\"]]},\"xaxis\":{\"gridcolor\":\"white\",\"linecolor\":\"white\",\"ticks\":\"\",\"title\":{\"standoff\":15},\"zerolinecolor\":\"white\",\"automargin\":true,\"zerolinewidth\":2},\"yaxis\":{\"gridcolor\":\"white\",\"linecolor\":\"white\",\"ticks\":\"\",\"title\":{\"standoff\":15},\"zerolinecolor\":\"white\",\"automargin\":true,\"zerolinewidth\":2},\"scene\":{\"xaxis\":{\"backgroundcolor\":\"#E5ECF6\",\"gridcolor\":\"white\",\"linecolor\":\"white\",\"showbackground\":true,\"ticks\":\"\",\"zerolinecolor\":\"white\",\"gridwidth\":2},\"yaxis\":{\"backgroundcolor\":\"#E5ECF6\",\"gridcolor\":\"white\",\"linecolor\":\"white\",\"showbackground\":true,\"ticks\":\"\",\"zerolinecolor\":\"white\",\"gridwidth\":2},\"zaxis\":{\"backgroundcolor\":\"#E5ECF6\",\"gridcolor\":\"white\",\"linecolor\":\"white\",\"showbackground\":true,\"ticks\":\"\",\"zerolinecolor\":\"white\",\"gridwidth\":2}},\"shapedefaults\":{\"line\":{\"color\":\"#2a3f5f\"}},\"annotationdefaults\":{\"arrowcolor\":\"#2a3f5f\",\"arrowhead\":0,\"arrowwidth\":1},\"geo\":{\"bgcolor\":\"white\",\"landcolor\":\"#E5ECF6\",\"subunitcolor\":\"white\",\"showland\":true,\"showlakes\":true,\"lakecolor\":\"white\"},\"title\":{\"x\":0.05},\"mapbox\":{\"style\":\"light\"}}},\"xaxis\":{\"anchor\":\"y\",\"domain\":[0.0,0.082],\"title\":{\"text\":\"asymmetric_alpha\"}},\"yaxis\":{\"anchor\":\"x\",\"domain\":[0.0,1.0],\"title\":{\"text\":\"Objective Value\"}},\"xaxis2\":{\"anchor\":\"y2\",\"domain\":[0.10200000000000001,0.184],\"title\":{\"text\":\"feature_weighting\"},\"type\":\"category\",\"categoryorder\":\"array\",\"categoryarray\":[\"BM25\",\"TF-IDF\",\"none\"]},\"yaxis2\":{\"anchor\":\"x2\",\"domain\":[0.0,1.0],\"matches\":\"y\",\"showticklabels\":false},\"xaxis3\":{\"anchor\":\"y3\",\"domain\":[0.20400000000000001,0.28600000000000003],\"title\":{\"text\":\"normalize\"},\"type\":\"category\",\"categoryorder\":\"array\",\"categoryarray\":[true,false]},\"yaxis3\":{\"anchor\":\"x3\",\"domain\":[0.0,1.0],\"matches\":\"y\",\"showticklabels\":false},\"xaxis4\":{\"anchor\":\"y4\",\"domain\":[0.306,0.388],\"title\":{\"text\":\"normalize_avg_row\"},\"type\":\"category\",\"categoryorder\":\"array\",\"categoryarray\":[true,false]},\"yaxis4\":{\"anchor\":\"x4\",\"domain\":[0.0,1.0],\"matches\":\"y\",\"showticklabels\":false},\"xaxis5\":{\"anchor\":\"y5\",\"domain\":[0.40800000000000003,0.49000000000000005],\"title\":{\"text\":\"shrink\"}},\"yaxis5\":{\"anchor\":\"x5\",\"domain\":[0.0,1.0],\"matches\":\"y\",\"showticklabels\":false},\"xaxis6\":{\"anchor\":\"y6\",\"domain\":[0.51,0.592],\"title\":{\"text\":\"similarity\"},\"type\":\"category\",\"categoryorder\":\"array\",\"categoryarray\":[\"cosine\",\"dice\",\"jaccard\",\"asymmetric\",\"tversky\",\"euclidean\"]},\"yaxis6\":{\"anchor\":\"x6\",\"domain\":[0.0,1.0],\"matches\":\"y\",\"showticklabels\":false},\"xaxis7\":{\"anchor\":\"y7\",\"domain\":[0.6120000000000001,0.6940000000000001],\"title\":{\"text\":\"similarity_from_distance_mode\"},\"type\":\"category\",\"categoryorder\":\"array\",\"categoryarray\":[\"lin\",\"log\",\"exp\"]},\"yaxis7\":{\"anchor\":\"x7\",\"domain\":[0.0,1.0],\"matches\":\"y\",\"showticklabels\":false},\"xaxis8\":{\"anchor\":\"y8\",\"domain\":[0.7140000000000001,0.796],\"title\":{\"text\":\"topK\"}},\"yaxis8\":{\"anchor\":\"x8\",\"domain\":[0.0,1.0],\"matches\":\"y\",\"showticklabels\":false},\"xaxis9\":{\"anchor\":\"y9\",\"domain\":[0.8160000000000001,0.898],\"title\":{\"text\":\"tversky_alpha\"}},\"yaxis9\":{\"anchor\":\"x9\",\"domain\":[0.0,1.0],\"matches\":\"y\",\"showticklabels\":false},\"xaxis10\":{\"anchor\":\"y10\",\"domain\":[0.9179999999999999,0.9999999999999999],\"title\":{\"text\":\"tversky_beta\"}},\"yaxis10\":{\"anchor\":\"x10\",\"domain\":[0.0,1.0],\"matches\":\"y\",\"showticklabels\":false},\"title\":{\"text\":\"Slice Plot\"},\"width\":3000},                        {\"responsive\": true}                    ).then(function(){\n",
       "                            \n",
       "var gd = document.getElementById('721c5632-d463-429a-8d52-b10d66eb7119');\n",
       "var x = new MutationObserver(function (mutations, observer) {{\n",
       "        var display = window.getComputedStyle(gd).display;\n",
       "        if (!display || display === 'none') {{\n",
       "            console.log([gd, 'removed!']);\n",
       "            Plotly.purge(gd);\n",
       "            observer.disconnect();\n",
       "        }}\n",
       "}});\n",
       "\n",
       "// Listen for the removal of the full notebook cells\n",
       "var notebookContainer = gd.closest('#notebook-container');\n",
       "if (notebookContainer) {{\n",
       "    x.observe(notebookContainer, {childList: true});\n",
       "}}\n",
       "\n",
       "// Listen for the clearing of the current output cell\n",
       "var outputEl = gd.closest('.output');\n",
       "if (outputEl) {{\n",
       "    x.observe(outputEl, {childList: true});\n",
       "}}\n",
       "\n",
       "                        })                };                            </script>        </div>\n",
       "</body>\n",
       "</html>"
      ]
     },
     "metadata": {},
     "output_type": "display_data"
    }
   ],
   "source": [
    "if not config['tune_parameters']:\n",
    "    optuna_study = optuna.load_study(study_name=f'hyperparameters_tuning_{config[\"model\"]}_{config[\"metric\"]}', storage=f'sqlite:///{config[\"database_path\"]}')\n",
    "    \n",
    "fig = optuna.visualization.plot_slice(optuna_study)\n",
    "fig.show()"
   ]
  },
  {
   "cell_type": "code",
   "execution_count": 15,
   "id": "7417802b",
   "metadata": {
    "execution": {
     "iopub.execute_input": "2025-01-05T17:38:14.662791Z",
     "iopub.status.busy": "2025-01-05T17:38:14.662382Z",
     "iopub.status.idle": "2025-01-05T17:38:21.256620Z",
     "shell.execute_reply": "2025-01-05T17:38:21.255445Z"
    },
    "papermill": {
     "duration": 6.700062,
     "end_time": "2025-01-05T17:38:21.258281",
     "exception": false,
     "start_time": "2025-01-05T17:38:14.558219",
     "status": "completed"
    },
    "tags": []
   },
   "outputs": [
    {
     "data": {
      "text/html": [
       "<html>\n",
       "<head><meta charset=\"utf-8\" /></head>\n",
       "<body>\n",
       "    <div>            <script src=\"https://cdnjs.cloudflare.com/ajax/libs/mathjax/2.7.5/MathJax.js?config=TeX-AMS-MML_SVG\"></script><script type=\"text/javascript\">if (window.MathJax && window.MathJax.Hub && window.MathJax.Hub.Config) {window.MathJax.Hub.Config({SVG: {font: \"STIX-Web\"}});}</script>                <script type=\"text/javascript\">window.PlotlyConfig = {MathJaxConfig: 'local'};</script>\n",
       "        <script charset=\"utf-8\" src=\"https://cdn.plot.ly/plotly-2.35.2.min.js\"></script>                <div id=\"2289a9f0-c421-4d79-905a-01af55b6e3d9\" class=\"plotly-graph-div\" style=\"height:525px; width:100%;\"></div>            <script type=\"text/javascript\">                                    window.PLOTLYENV=window.PLOTLYENV || {};                                    if (document.getElementById(\"2289a9f0-c421-4d79-905a-01af55b6e3d9\")) {                    Plotly.newPlot(                        \"2289a9f0-c421-4d79-905a-01af55b6e3d9\",                        [{\"cliponaxis\":false,\"hovertemplate\":[\"feature_weighting (CategoricalDistribution): 0.04864870488586125\\u003cextra\\u003e\\u003c\\u002fextra\\u003e\",\"shrink (IntDistribution): 0.0523903519872462\\u003cextra\\u003e\\u003c\\u002fextra\\u003e\",\"topK (IntDistribution): 0.2012617086716598\\u003cextra\\u003e\\u003c\\u002fextra\\u003e\",\"similarity (CategoricalDistribution): 0.6976992344552326\\u003cextra\\u003e\\u003c\\u002fextra\\u003e\"],\"name\":\"Objective Value\",\"orientation\":\"h\",\"text\":[\"0.05\",\"0.05\",\"0.20\",\"0.70\"],\"textposition\":\"outside\",\"x\":[0.04864870488586125,0.0523903519872462,0.2012617086716598,0.6976992344552326],\"y\":[\"feature_weighting\",\"shrink\",\"topK\",\"similarity\"],\"type\":\"bar\"}],                        {\"title\":{\"text\":\"Hyperparameter Importances\"},\"xaxis\":{\"title\":{\"text\":\"Hyperparameter Importance\"}},\"yaxis\":{\"title\":{\"text\":\"Hyperparameter\"}},\"template\":{\"data\":{\"histogram2dcontour\":[{\"type\":\"histogram2dcontour\",\"colorbar\":{\"outlinewidth\":0,\"ticks\":\"\"},\"colorscale\":[[0.0,\"#0d0887\"],[0.1111111111111111,\"#46039f\"],[0.2222222222222222,\"#7201a8\"],[0.3333333333333333,\"#9c179e\"],[0.4444444444444444,\"#bd3786\"],[0.5555555555555556,\"#d8576b\"],[0.6666666666666666,\"#ed7953\"],[0.7777777777777778,\"#fb9f3a\"],[0.8888888888888888,\"#fdca26\"],[1.0,\"#f0f921\"]]}],\"choropleth\":[{\"type\":\"choropleth\",\"colorbar\":{\"outlinewidth\":0,\"ticks\":\"\"}}],\"histogram2d\":[{\"type\":\"histogram2d\",\"colorbar\":{\"outlinewidth\":0,\"ticks\":\"\"},\"colorscale\":[[0.0,\"#0d0887\"],[0.1111111111111111,\"#46039f\"],[0.2222222222222222,\"#7201a8\"],[0.3333333333333333,\"#9c179e\"],[0.4444444444444444,\"#bd3786\"],[0.5555555555555556,\"#d8576b\"],[0.6666666666666666,\"#ed7953\"],[0.7777777777777778,\"#fb9f3a\"],[0.8888888888888888,\"#fdca26\"],[1.0,\"#f0f921\"]]}],\"heatmap\":[{\"type\":\"heatmap\",\"colorbar\":{\"outlinewidth\":0,\"ticks\":\"\"},\"colorscale\":[[0.0,\"#0d0887\"],[0.1111111111111111,\"#46039f\"],[0.2222222222222222,\"#7201a8\"],[0.3333333333333333,\"#9c179e\"],[0.4444444444444444,\"#bd3786\"],[0.5555555555555556,\"#d8576b\"],[0.6666666666666666,\"#ed7953\"],[0.7777777777777778,\"#fb9f3a\"],[0.8888888888888888,\"#fdca26\"],[1.0,\"#f0f921\"]]}],\"heatmapgl\":[{\"type\":\"heatmapgl\",\"colorbar\":{\"outlinewidth\":0,\"ticks\":\"\"},\"colorscale\":[[0.0,\"#0d0887\"],[0.1111111111111111,\"#46039f\"],[0.2222222222222222,\"#7201a8\"],[0.3333333333333333,\"#9c179e\"],[0.4444444444444444,\"#bd3786\"],[0.5555555555555556,\"#d8576b\"],[0.6666666666666666,\"#ed7953\"],[0.7777777777777778,\"#fb9f3a\"],[0.8888888888888888,\"#fdca26\"],[1.0,\"#f0f921\"]]}],\"contourcarpet\":[{\"type\":\"contourcarpet\",\"colorbar\":{\"outlinewidth\":0,\"ticks\":\"\"}}],\"contour\":[{\"type\":\"contour\",\"colorbar\":{\"outlinewidth\":0,\"ticks\":\"\"},\"colorscale\":[[0.0,\"#0d0887\"],[0.1111111111111111,\"#46039f\"],[0.2222222222222222,\"#7201a8\"],[0.3333333333333333,\"#9c179e\"],[0.4444444444444444,\"#bd3786\"],[0.5555555555555556,\"#d8576b\"],[0.6666666666666666,\"#ed7953\"],[0.7777777777777778,\"#fb9f3a\"],[0.8888888888888888,\"#fdca26\"],[1.0,\"#f0f921\"]]}],\"surface\":[{\"type\":\"surface\",\"colorbar\":{\"outlinewidth\":0,\"ticks\":\"\"},\"colorscale\":[[0.0,\"#0d0887\"],[0.1111111111111111,\"#46039f\"],[0.2222222222222222,\"#7201a8\"],[0.3333333333333333,\"#9c179e\"],[0.4444444444444444,\"#bd3786\"],[0.5555555555555556,\"#d8576b\"],[0.6666666666666666,\"#ed7953\"],[0.7777777777777778,\"#fb9f3a\"],[0.8888888888888888,\"#fdca26\"],[1.0,\"#f0f921\"]]}],\"mesh3d\":[{\"type\":\"mesh3d\",\"colorbar\":{\"outlinewidth\":0,\"ticks\":\"\"}}],\"scatter\":[{\"fillpattern\":{\"fillmode\":\"overlay\",\"size\":10,\"solidity\":0.2},\"type\":\"scatter\"}],\"parcoords\":[{\"type\":\"parcoords\",\"line\":{\"colorbar\":{\"outlinewidth\":0,\"ticks\":\"\"}}}],\"scatterpolargl\":[{\"type\":\"scatterpolargl\",\"marker\":{\"colorbar\":{\"outlinewidth\":0,\"ticks\":\"\"}}}],\"bar\":[{\"error_x\":{\"color\":\"#2a3f5f\"},\"error_y\":{\"color\":\"#2a3f5f\"},\"marker\":{\"line\":{\"color\":\"#E5ECF6\",\"width\":0.5},\"pattern\":{\"fillmode\":\"overlay\",\"size\":10,\"solidity\":0.2}},\"type\":\"bar\"}],\"scattergeo\":[{\"type\":\"scattergeo\",\"marker\":{\"colorbar\":{\"outlinewidth\":0,\"ticks\":\"\"}}}],\"scatterpolar\":[{\"type\":\"scatterpolar\",\"marker\":{\"colorbar\":{\"outlinewidth\":0,\"ticks\":\"\"}}}],\"histogram\":[{\"marker\":{\"pattern\":{\"fillmode\":\"overlay\",\"size\":10,\"solidity\":0.2}},\"type\":\"histogram\"}],\"scattergl\":[{\"type\":\"scattergl\",\"marker\":{\"colorbar\":{\"outlinewidth\":0,\"ticks\":\"\"}}}],\"scatter3d\":[{\"type\":\"scatter3d\",\"line\":{\"colorbar\":{\"outlinewidth\":0,\"ticks\":\"\"}},\"marker\":{\"colorbar\":{\"outlinewidth\":0,\"ticks\":\"\"}}}],\"scattermapbox\":[{\"type\":\"scattermapbox\",\"marker\":{\"colorbar\":{\"outlinewidth\":0,\"ticks\":\"\"}}}],\"scatterternary\":[{\"type\":\"scatterternary\",\"marker\":{\"colorbar\":{\"outlinewidth\":0,\"ticks\":\"\"}}}],\"scattercarpet\":[{\"type\":\"scattercarpet\",\"marker\":{\"colorbar\":{\"outlinewidth\":0,\"ticks\":\"\"}}}],\"carpet\":[{\"aaxis\":{\"endlinecolor\":\"#2a3f5f\",\"gridcolor\":\"white\",\"linecolor\":\"white\",\"minorgridcolor\":\"white\",\"startlinecolor\":\"#2a3f5f\"},\"baxis\":{\"endlinecolor\":\"#2a3f5f\",\"gridcolor\":\"white\",\"linecolor\":\"white\",\"minorgridcolor\":\"white\",\"startlinecolor\":\"#2a3f5f\"},\"type\":\"carpet\"}],\"table\":[{\"cells\":{\"fill\":{\"color\":\"#EBF0F8\"},\"line\":{\"color\":\"white\"}},\"header\":{\"fill\":{\"color\":\"#C8D4E3\"},\"line\":{\"color\":\"white\"}},\"type\":\"table\"}],\"barpolar\":[{\"marker\":{\"line\":{\"color\":\"#E5ECF6\",\"width\":0.5},\"pattern\":{\"fillmode\":\"overlay\",\"size\":10,\"solidity\":0.2}},\"type\":\"barpolar\"}],\"pie\":[{\"automargin\":true,\"type\":\"pie\"}]},\"layout\":{\"autotypenumbers\":\"strict\",\"colorway\":[\"#636efa\",\"#EF553B\",\"#00cc96\",\"#ab63fa\",\"#FFA15A\",\"#19d3f3\",\"#FF6692\",\"#B6E880\",\"#FF97FF\",\"#FECB52\"],\"font\":{\"color\":\"#2a3f5f\"},\"hovermode\":\"closest\",\"hoverlabel\":{\"align\":\"left\"},\"paper_bgcolor\":\"white\",\"plot_bgcolor\":\"#E5ECF6\",\"polar\":{\"bgcolor\":\"#E5ECF6\",\"angularaxis\":{\"gridcolor\":\"white\",\"linecolor\":\"white\",\"ticks\":\"\"},\"radialaxis\":{\"gridcolor\":\"white\",\"linecolor\":\"white\",\"ticks\":\"\"}},\"ternary\":{\"bgcolor\":\"#E5ECF6\",\"aaxis\":{\"gridcolor\":\"white\",\"linecolor\":\"white\",\"ticks\":\"\"},\"baxis\":{\"gridcolor\":\"white\",\"linecolor\":\"white\",\"ticks\":\"\"},\"caxis\":{\"gridcolor\":\"white\",\"linecolor\":\"white\",\"ticks\":\"\"}},\"coloraxis\":{\"colorbar\":{\"outlinewidth\":0,\"ticks\":\"\"}},\"colorscale\":{\"sequential\":[[0.0,\"#0d0887\"],[0.1111111111111111,\"#46039f\"],[0.2222222222222222,\"#7201a8\"],[0.3333333333333333,\"#9c179e\"],[0.4444444444444444,\"#bd3786\"],[0.5555555555555556,\"#d8576b\"],[0.6666666666666666,\"#ed7953\"],[0.7777777777777778,\"#fb9f3a\"],[0.8888888888888888,\"#fdca26\"],[1.0,\"#f0f921\"]],\"sequentialminus\":[[0.0,\"#0d0887\"],[0.1111111111111111,\"#46039f\"],[0.2222222222222222,\"#7201a8\"],[0.3333333333333333,\"#9c179e\"],[0.4444444444444444,\"#bd3786\"],[0.5555555555555556,\"#d8576b\"],[0.6666666666666666,\"#ed7953\"],[0.7777777777777778,\"#fb9f3a\"],[0.8888888888888888,\"#fdca26\"],[1.0,\"#f0f921\"]],\"diverging\":[[0,\"#8e0152\"],[0.1,\"#c51b7d\"],[0.2,\"#de77ae\"],[0.3,\"#f1b6da\"],[0.4,\"#fde0ef\"],[0.5,\"#f7f7f7\"],[0.6,\"#e6f5d0\"],[0.7,\"#b8e186\"],[0.8,\"#7fbc41\"],[0.9,\"#4d9221\"],[1,\"#276419\"]]},\"xaxis\":{\"gridcolor\":\"white\",\"linecolor\":\"white\",\"ticks\":\"\",\"title\":{\"standoff\":15},\"zerolinecolor\":\"white\",\"automargin\":true,\"zerolinewidth\":2},\"yaxis\":{\"gridcolor\":\"white\",\"linecolor\":\"white\",\"ticks\":\"\",\"title\":{\"standoff\":15},\"zerolinecolor\":\"white\",\"automargin\":true,\"zerolinewidth\":2},\"scene\":{\"xaxis\":{\"backgroundcolor\":\"#E5ECF6\",\"gridcolor\":\"white\",\"linecolor\":\"white\",\"showbackground\":true,\"ticks\":\"\",\"zerolinecolor\":\"white\",\"gridwidth\":2},\"yaxis\":{\"backgroundcolor\":\"#E5ECF6\",\"gridcolor\":\"white\",\"linecolor\":\"white\",\"showbackground\":true,\"ticks\":\"\",\"zerolinecolor\":\"white\",\"gridwidth\":2},\"zaxis\":{\"backgroundcolor\":\"#E5ECF6\",\"gridcolor\":\"white\",\"linecolor\":\"white\",\"showbackground\":true,\"ticks\":\"\",\"zerolinecolor\":\"white\",\"gridwidth\":2}},\"shapedefaults\":{\"line\":{\"color\":\"#2a3f5f\"}},\"annotationdefaults\":{\"arrowcolor\":\"#2a3f5f\",\"arrowhead\":0,\"arrowwidth\":1},\"geo\":{\"bgcolor\":\"white\",\"landcolor\":\"#E5ECF6\",\"subunitcolor\":\"white\",\"showland\":true,\"showlakes\":true,\"lakecolor\":\"white\"},\"title\":{\"x\":0.05},\"mapbox\":{\"style\":\"light\"}}}},                        {\"responsive\": true}                    ).then(function(){\n",
       "                            \n",
       "var gd = document.getElementById('2289a9f0-c421-4d79-905a-01af55b6e3d9');\n",
       "var x = new MutationObserver(function (mutations, observer) {{\n",
       "        var display = window.getComputedStyle(gd).display;\n",
       "        if (!display || display === 'none') {{\n",
       "            console.log([gd, 'removed!']);\n",
       "            Plotly.purge(gd);\n",
       "            observer.disconnect();\n",
       "        }}\n",
       "}});\n",
       "\n",
       "// Listen for the removal of the full notebook cells\n",
       "var notebookContainer = gd.closest('#notebook-container');\n",
       "if (notebookContainer) {{\n",
       "    x.observe(notebookContainer, {childList: true});\n",
       "}}\n",
       "\n",
       "// Listen for the clearing of the current output cell\n",
       "var outputEl = gd.closest('.output');\n",
       "if (outputEl) {{\n",
       "    x.observe(outputEl, {childList: true});\n",
       "}}\n",
       "\n",
       "                        })                };                            </script>        </div>\n",
       "</body>\n",
       "</html>"
      ]
     },
     "metadata": {},
     "output_type": "display_data"
    }
   ],
   "source": [
    "if not config['tune_parameters']:\n",
    "    optuna_study = optuna.load_study(study_name=f'hyperparameters_tuning_{config[\"model\"]}_{config[\"metric\"]}', storage=f'sqlite:///{config[\"database_path\"]}')\n",
    "    \n",
    "fig = optuna.visualization.plot_param_importances(optuna_study)\n",
    "fig.show()"
   ]
  },
  {
   "cell_type": "markdown",
   "id": "331fce1d",
   "metadata": {
    "papermill": {
     "duration": 0.108346,
     "end_time": "2025-01-05T17:38:21.474394",
     "exception": false,
     "start_time": "2025-01-05T17:38:21.366048",
     "status": "completed"
    },
    "tags": []
   },
   "source": [
    "## Let's train the recommender with best parameter values"
   ]
  },
  {
   "cell_type": "code",
   "execution_count": 16,
   "id": "2b9c396d",
   "metadata": {
    "execution": {
     "iopub.execute_input": "2025-01-05T17:38:21.698019Z",
     "iopub.status.busy": "2025-01-05T17:38:21.697635Z",
     "iopub.status.idle": "2025-01-05T17:38:37.967043Z",
     "shell.execute_reply": "2025-01-05T17:38:37.966009Z"
    },
    "papermill": {
     "duration": 16.380296,
     "end_time": "2025-01-05T17:38:37.968944",
     "exception": false,
     "start_time": "2025-01-05T17:38:21.588648",
     "status": "completed"
    },
    "tags": []
   },
   "outputs": [
    {
     "name": "stdout",
     "output_type": "stream",
     "text": [
      "Similarity column 38121 (100.0%), 2412.17 column/sec. Elapsed time 15.80 sec\n"
     ]
    }
   ],
   "source": [
    "if config['tune_best_params']:\n",
    "\n",
    "    if config['tune_parameters']:\n",
    "        best_params = optuna_study.best_trial.params\n",
    "    else: \n",
    "        with open(f'{K_PATH}/{GH_PATH}/{config[\"model\"]}Recommender/Optimizing{config[\"metric\"]}/best_params_{config[\"model\"]}_{config[\"metric\"]}.json', 'r') as best_params_json:\n",
    "            best_params = json.load(best_params_json)\n",
    "\n",
    "    recommender_instance = ItemKNNCFRecommender(URM_train + URM_validation)\n",
    "    recommender_instance.fit(**best_params)"
   ]
  },
  {
   "cell_type": "markdown",
   "id": "3eb231b1",
   "metadata": {
    "papermill": {
     "duration": 0.10484,
     "end_time": "2025-01-05T17:38:38.180900",
     "exception": false,
     "start_time": "2025-01-05T17:38:38.076060",
     "status": "completed"
    },
    "tags": []
   },
   "source": [
    "# Testing"
   ]
  },
  {
   "cell_type": "markdown",
   "id": "26c09037",
   "metadata": {
    "papermill": {
     "duration": 0.103153,
     "end_time": "2025-01-05T17:38:38.387439",
     "exception": false,
     "start_time": "2025-01-05T17:38:38.284286",
     "status": "completed"
    },
    "tags": []
   },
   "source": [
    "Create the recommendations for the submission. "
   ]
  },
  {
   "cell_type": "code",
   "execution_count": 17,
   "id": "bd0ee3f5",
   "metadata": {
    "execution": {
     "iopub.execute_input": "2025-01-05T17:38:38.597990Z",
     "iopub.status.busy": "2025-01-05T17:38:38.597609Z",
     "iopub.status.idle": "2025-01-05T17:39:08.881679Z",
     "shell.execute_reply": "2025-01-05T17:39:08.880546Z"
    },
    "papermill": {
     "duration": 30.493793,
     "end_time": "2025-01-05T17:39:08.986387",
     "exception": false,
     "start_time": "2025-01-05T17:38:38.492594",
     "status": "completed"
    },
    "tags": []
   },
   "outputs": [
    {
     "name": "stdout",
     "output_type": "stream",
     "text": [
      "Submission file saved as /kaggle/working/submission_ItemKNNCF_MAP.csv\n"
     ]
    }
   ],
   "source": [
    "if config['tune_best_params']:\n",
    "\n",
    "    data_target_users_test = pd.read_csv('/kaggle/input/recommender-system-2024-challenge-polimi/data_target_users_test.csv')\n",
    "    create_submission(data_target_users_test, recommender_instance, f'/kaggle/working/submission_{config[\"model\"]}_{config[\"metric\"]}.csv')"
   ]
  },
  {
   "cell_type": "markdown",
   "id": "ad4c2ce9",
   "metadata": {
    "execution": {
     "iopub.execute_input": "2024-11-14T00:04:16.877791Z",
     "iopub.status.busy": "2024-11-14T00:04:16.877275Z",
     "iopub.status.idle": "2024-11-14T00:04:16.883170Z",
     "shell.execute_reply": "2024-11-14T00:04:16.881889Z",
     "shell.execute_reply.started": "2024-11-14T00:04:16.877743Z"
    },
    "papermill": {
     "duration": 0.103508,
     "end_time": "2025-01-05T17:39:09.196957",
     "exception": false,
     "start_time": "2025-01-05T17:39:09.093449",
     "status": "completed"
    },
    "tags": []
   },
   "source": [
    "# Save Version on GitHub "
   ]
  },
  {
   "cell_type": "markdown",
   "id": "73caf6b4",
   "metadata": {
    "papermill": {
     "duration": 0.103065,
     "end_time": "2025-01-05T17:39:09.404018",
     "exception": false,
     "start_time": "2025-01-05T17:39:09.300953",
     "status": "completed"
    },
    "tags": []
   },
   "source": [
    "Write or import a json file where best hyperparameters are saved. "
   ]
  },
  {
   "cell_type": "code",
   "execution_count": 18,
   "id": "e23aa0b8",
   "metadata": {
    "execution": {
     "iopub.execute_input": "2025-01-05T17:39:09.616706Z",
     "iopub.status.busy": "2025-01-05T17:39:09.616320Z",
     "iopub.status.idle": "2025-01-05T17:39:10.839824Z",
     "shell.execute_reply": "2025-01-05T17:39:10.838854Z"
    },
    "papermill": {
     "duration": 1.333617,
     "end_time": "2025-01-05T17:39:10.841382",
     "exception": false,
     "start_time": "2025-01-05T17:39:09.507765",
     "status": "completed"
    },
    "tags": []
   },
   "outputs": [
    {
     "name": "stdout",
     "output_type": "stream",
     "text": [
      "File 'TrainedModels/WithKFCV/KNN/ItemKNNCFRecommender/OptimizingMAP/best_params_ItemKNNCF_MAP.json' updated successfully.\n"
     ]
    }
   ],
   "source": [
    "if config['tune_parameters']:\n",
    "    with open(f'/kaggle/working/best_params_{config[\"model\"]}_{config[\"metric\"]}.json', 'w') as params_file:\n",
    "        json.dump(optuna_study.best_params, params_file)\n",
    "        \n",
    "    if config['save_github']:\n",
    "        upload_file(\n",
    "            f'/kaggle/working/best_params_{config[\"model\"]}_{config[\"metric\"]}.json', \n",
    "            f'{GH_PATH}/{config[\"model\"]}Recommender/Optimizing{config[\"metric\"]}/best_params_{config[\"model\"]}_{config[\"metric\"]}.json', \n",
    "            f'{config[\"model\"]}_{config[\"metric\"]} tuning results (from kaggle notebook)',\n",
    "            repo\n",
    "        )\n",
    "elif config['copy_prev_best_params']:\n",
    "    shutil.copyfile(\n",
    "        f'{K_PATH}/{GH_PATH}/{config[\"model\"]}Recommender/Optimizing{config[\"metric\"]}/'\\\n",
    "        f'best_params_{config[\"model\"]}_{config[\"metric\"]}.json', \n",
    "        f'/kaggle/working/best_params_{config[\"model\"]}_{config[\"metric\"]}.json'\n",
    "    )"
   ]
  },
  {
   "cell_type": "markdown",
   "id": "ec25180d",
   "metadata": {
    "papermill": {
     "duration": 0.108065,
     "end_time": "2025-01-05T17:39:11.060646",
     "exception": false,
     "start_time": "2025-01-05T17:39:10.952581",
     "status": "completed"
    },
    "tags": []
   },
   "source": [
    "Save the history of the tuned model."
   ]
  },
  {
   "cell_type": "code",
   "execution_count": 19,
   "id": "87752372",
   "metadata": {
    "execution": {
     "iopub.execute_input": "2025-01-05T17:39:11.271239Z",
     "iopub.status.busy": "2025-01-05T17:39:11.270891Z",
     "iopub.status.idle": "2025-01-05T17:39:13.340584Z",
     "shell.execute_reply": "2025-01-05T17:39:13.339481Z"
    },
    "papermill": {
     "duration": 2.177272,
     "end_time": "2025-01-05T17:39:13.342267",
     "exception": false,
     "start_time": "2025-01-05T17:39:11.164995",
     "status": "completed"
    },
    "tags": []
   },
   "outputs": [
    {
     "name": "stdout",
     "output_type": "stream",
     "text": [
      "File 'TrainedModels/WithKFCV/KNN/ItemKNNCFRecommender/OptimizingMAP/history_ItemKNNCF_MAP.db' updated successfully.\n"
     ]
    }
   ],
   "source": [
    "if config['save_github'] and config['tune_parameters']:\n",
    "    upload_file(\n",
    "        config['database_path'], \n",
    "        f'{GH_PATH}/{config[\"model\"]}Recommender/Optimizing{config[\"metric\"]}/history_{config[\"model\"]}_{config[\"metric\"]}.db',\n",
    "        f'Tuning {config[\"model\"]}_{config[\"metric\"]} db updated results (from kaggle notebook)',\n",
    "        repo\n",
    "    )"
   ]
  },
  {
   "cell_type": "markdown",
   "id": "9e11ceb9",
   "metadata": {
    "execution": {
     "iopub.execute_input": "2024-11-14T00:41:34.294243Z",
     "iopub.status.busy": "2024-11-14T00:41:34.293739Z",
     "iopub.status.idle": "2024-11-14T00:41:34.301478Z",
     "shell.execute_reply": "2024-11-14T00:41:34.299869Z",
     "shell.execute_reply.started": "2024-11-14T00:41:34.294186Z"
    },
    "papermill": {
     "duration": 0.218289,
     "end_time": "2025-01-05T17:39:13.665883",
     "exception": false,
     "start_time": "2025-01-05T17:39:13.447594",
     "status": "completed"
    },
    "tags": []
   },
   "source": [
    "Save the best trained model and its submission."
   ]
  },
  {
   "cell_type": "code",
   "execution_count": 20,
   "id": "a4593b75",
   "metadata": {
    "execution": {
     "iopub.execute_input": "2025-01-05T17:39:13.882197Z",
     "iopub.status.busy": "2025-01-05T17:39:13.881846Z",
     "iopub.status.idle": "2025-01-05T17:39:16.369700Z",
     "shell.execute_reply": "2025-01-05T17:39:16.368475Z"
    },
    "papermill": {
     "duration": 2.596137,
     "end_time": "2025-01-05T17:39:16.371410",
     "exception": false,
     "start_time": "2025-01-05T17:39:13.775273",
     "status": "completed"
    },
    "tags": []
   },
   "outputs": [
    {
     "name": "stdout",
     "output_type": "stream",
     "text": [
      "File 'TrainedModels/WithKFCV/KNN/ItemKNNCFRecommender/OptimizingMAP/Submission/submission_ItemKNNCF_MAP.csv' updated successfully.\n"
     ]
    }
   ],
   "source": [
    "if config['save_github'] and config['tune_best_params']: \n",
    "    upload_file(\n",
    "                f'/kaggle/working/submission_{config[\"model\"]}_{config[\"metric\"]}.csv', \n",
    "                f'{GH_PATH}/{config[\"model\"]}Recommender/Optimizing{config[\"metric\"]}/Submission/submission_{config[\"model\"]}_{config[\"metric\"]}.csv', \n",
    "                f'New {config[\"model\"]}_{config[\"metric\"]} submission (from kaggle notebook)',\n",
    "                repo\n",
    "            )"
   ]
  }
 ],
 "metadata": {
  "kaggle": {
   "accelerator": "none",
   "dataSources": [
    {
     "databundleVersionId": 9982103,
     "sourceId": 87439,
     "sourceType": "competition"
    }
   ],
   "dockerImageVersionId": 30822,
   "isGpuEnabled": false,
   "isInternetEnabled": true,
   "language": "python",
   "sourceType": "notebook"
  },
  "kernelspec": {
   "display_name": "Python 3",
   "language": "python",
   "name": "python3"
  },
  "language_info": {
   "codemirror_mode": {
    "name": "ipython",
    "version": 3
   },
   "file_extension": ".py",
   "mimetype": "text/x-python",
   "name": "python",
   "nbconvert_exporter": "python",
   "pygments_lexer": "ipython3",
   "version": "3.10.12"
  },
  "papermill": {
   "default_parameters": {},
   "duration": 25278.46631,
   "end_time": "2025-01-05T17:39:17.636969",
   "environment_variables": {},
   "exception": null,
   "input_path": "__notebook__.ipynb",
   "output_path": "__notebook__.ipynb",
   "parameters": {},
   "start_time": "2025-01-05T10:37:59.170659",
   "version": "2.6.0"
  }
 },
 "nbformat": 4,
 "nbformat_minor": 5
}
