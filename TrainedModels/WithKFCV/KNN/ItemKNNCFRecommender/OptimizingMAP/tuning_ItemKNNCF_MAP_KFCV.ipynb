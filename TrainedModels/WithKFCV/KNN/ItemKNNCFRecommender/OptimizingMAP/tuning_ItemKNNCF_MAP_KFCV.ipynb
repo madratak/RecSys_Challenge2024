{
 "cells": [
  {
   "cell_type": "markdown",
   "id": "40d2b91b",
   "metadata": {
    "papermill": {
     "duration": 0.006015,
     "end_time": "2025-01-04T11:54:55.430162",
     "exception": false,
     "start_time": "2025-01-04T11:54:55.424147",
     "status": "completed"
    },
    "tags": []
   },
   "source": [
    "# Set connection with GitHub"
   ]
  },
  {
   "cell_type": "code",
   "execution_count": 1,
   "id": "46265b6a",
   "metadata": {
    "execution": {
     "iopub.execute_input": "2025-01-04T11:54:55.442758Z",
     "iopub.status.busy": "2025-01-04T11:54:55.442349Z",
     "iopub.status.idle": "2025-01-04T11:54:55.447919Z",
     "shell.execute_reply": "2025-01-04T11:54:55.446656Z"
    },
    "papermill": {
     "duration": 0.01401,
     "end_time": "2025-01-04T11:54:55.449861",
     "exception": false,
     "start_time": "2025-01-04T11:54:55.435851",
     "status": "completed"
    },
    "tags": []
   },
   "outputs": [],
   "source": [
    "# ! cd /kaggle/working && rm -rf RECsys_Challenge2024"
   ]
  },
  {
   "cell_type": "code",
   "execution_count": 2,
   "id": "62784efa",
   "metadata": {
    "_cell_guid": "b1076dfc-b9ad-4769-8c92-a6c4dae69d19",
    "_uuid": "8f2839f25d086af736a60e9eeb907d3b93b6e0e5",
    "execution": {
     "iopub.execute_input": "2025-01-04T11:54:55.462226Z",
     "iopub.status.busy": "2025-01-04T11:54:55.461761Z",
     "iopub.status.idle": "2025-01-04T11:55:11.769332Z",
     "shell.execute_reply": "2025-01-04T11:55:11.768049Z"
    },
    "papermill": {
     "duration": 16.316082,
     "end_time": "2025-01-04T11:55:11.771391",
     "exception": false,
     "start_time": "2025-01-04T11:54:55.455309",
     "status": "completed"
    },
    "tags": []
   },
   "outputs": [
    {
     "name": "stdout",
     "output_type": "stream",
     "text": [
      "Cloning into 'RECsys_Challenge2024'...\r\n",
      "remote: Enumerating objects: 5840, done.\u001b[K\r\n",
      "remote: Counting objects: 100% (133/133), done.\u001b[K\r\n",
      "remote: Compressing objects: 100% (114/114), done.\u001b[K\r\n",
      "remote: Total 5840 (delta 45), reused 11 (delta 3), pack-reused 5707 (from 3)\u001b[K\r\n",
      "Receiving objects: 100% (5840/5840), 390.97 MiB | 34.03 MiB/s, done.\r\n",
      "Resolving deltas: 100% (3268/3268), done.\r\n",
      "Updating files: 100% (479/479), done.\r\n"
     ]
    }
   ],
   "source": [
    "from kaggle_secrets import UserSecretsClient\n",
    "\n",
    "token = UserSecretsClient().get_secret(\"Token\")\n",
    "\n",
    "! git clone https://{token}@github.com/madratak/RECsys_Challenge2024.git"
   ]
  },
  {
   "cell_type": "code",
   "execution_count": 3,
   "id": "fd534243",
   "metadata": {
    "execution": {
     "iopub.execute_input": "2025-01-04T11:55:11.793941Z",
     "iopub.status.busy": "2025-01-04T11:55:11.793508Z",
     "iopub.status.idle": "2025-01-04T11:55:18.746914Z",
     "shell.execute_reply": "2025-01-04T11:55:18.745527Z"
    },
    "papermill": {
     "duration": 6.966775,
     "end_time": "2025-01-04T11:55:18.748943",
     "exception": false,
     "start_time": "2025-01-04T11:55:11.782168",
     "status": "completed"
    },
    "tags": []
   },
   "outputs": [
    {
     "name": "stdout",
     "output_type": "stream",
     "text": [
      "Collecting PyGithub\r\n",
      "  Downloading PyGithub-2.5.0-py3-none-any.whl.metadata (3.9 kB)\r\n",
      "Requirement already satisfied: requests in /usr/local/lib/python3.10/dist-packages (2.32.3)\r\n",
      "Collecting pynacl>=1.4.0 (from PyGithub)\r\n",
      "  Downloading PyNaCl-1.5.0-cp36-abi3-manylinux_2_17_x86_64.manylinux2014_x86_64.manylinux_2_24_x86_64.whl.metadata (8.6 kB)\r\n",
      "Requirement already satisfied: pyjwt>=2.4.0 in /usr/local/lib/python3.10/dist-packages (from pyjwt[crypto]>=2.4.0->PyGithub) (2.9.0)\r\n",
      "Requirement already satisfied: typing-extensions>=4.0.0 in /usr/local/lib/python3.10/dist-packages (from PyGithub) (4.12.2)\r\n",
      "Requirement already satisfied: urllib3>=1.26.0 in /usr/local/lib/python3.10/dist-packages (from PyGithub) (2.2.3)\r\n",
      "Requirement already satisfied: Deprecated in /usr/local/lib/python3.10/dist-packages (from PyGithub) (1.2.15)\r\n",
      "Requirement already satisfied: charset-normalizer<4,>=2 in /usr/local/lib/python3.10/dist-packages (from requests) (3.3.2)\r\n",
      "Requirement already satisfied: idna<4,>=2.5 in /usr/local/lib/python3.10/dist-packages (from requests) (3.10)\r\n",
      "Requirement already satisfied: certifi>=2017.4.17 in /usr/local/lib/python3.10/dist-packages (from requests) (2024.8.30)\r\n",
      "Requirement already satisfied: cryptography>=3.4.0 in /usr/local/lib/python3.10/dist-packages (from pyjwt[crypto]>=2.4.0->PyGithub) (43.0.1)\r\n",
      "Requirement already satisfied: cffi>=1.4.1 in /usr/local/lib/python3.10/dist-packages (from pynacl>=1.4.0->PyGithub) (1.17.1)\r\n",
      "Requirement already satisfied: wrapt<2,>=1.10 in /usr/local/lib/python3.10/dist-packages (from Deprecated->PyGithub) (1.16.0)\r\n",
      "Requirement already satisfied: pycparser in /usr/local/lib/python3.10/dist-packages (from cffi>=1.4.1->pynacl>=1.4.0->PyGithub) (2.22)\r\n",
      "Downloading PyGithub-2.5.0-py3-none-any.whl (375 kB)\r\n",
      "\u001b[2K   \u001b[90m━━━━━━━━━━━━━━━━━━━━━━━━━━━━━━━━━━━━━━━━\u001b[0m \u001b[32m375.9/375.9 kB\u001b[0m \u001b[31m10.0 MB/s\u001b[0m eta \u001b[36m0:00:00\u001b[0m\r\n",
      "\u001b[?25hDownloading PyNaCl-1.5.0-cp36-abi3-manylinux_2_17_x86_64.manylinux2014_x86_64.manylinux_2_24_x86_64.whl (856 kB)\r\n",
      "\u001b[2K   \u001b[90m━━━━━━━━━━━━━━━━━━━━━━━━━━━━━━━━━━━━━━━━\u001b[0m \u001b[32m856.7/856.7 kB\u001b[0m \u001b[31m28.0 MB/s\u001b[0m eta \u001b[36m0:00:00\u001b[0m\r\n",
      "\u001b[?25hInstalling collected packages: pynacl, PyGithub\r\n",
      "Successfully installed PyGithub-2.5.0 pynacl-1.5.0\r\n"
     ]
    }
   ],
   "source": [
    "! pip install PyGithub requests"
   ]
  },
  {
   "cell_type": "code",
   "execution_count": 4,
   "id": "4c02acab",
   "metadata": {
    "_kg_hide-input": false,
    "execution": {
     "iopub.execute_input": "2025-01-04T11:55:18.773735Z",
     "iopub.status.busy": "2025-01-04T11:55:18.773341Z",
     "iopub.status.idle": "2025-01-04T11:58:05.673611Z",
     "shell.execute_reply": "2025-01-04T11:58:05.672378Z"
    },
    "papermill": {
     "duration": 166.914646,
     "end_time": "2025-01-04T11:58:05.675739",
     "exception": false,
     "start_time": "2025-01-04T11:55:18.761093",
     "status": "completed"
    },
    "tags": []
   },
   "outputs": [
    {
     "name": "stdout",
     "output_type": "stream",
     "text": [
      "/kaggle/working/RECsys_Challenge2024\n",
      "run_compile_all_cython: Found 11 Cython files in 5 folders...\r\n",
      "run_compile_all_cython: All files will be compiled using your current python environment: '/usr/bin/python3'\r\n",
      "Compiling [1/11]: MatrixFactorization_Cython_Epoch.pyx... \r\n",
      "In file included from \u001b[01m\u001b[K/usr/local/lib/python3.10/dist-packages/numpy/core/include/numpy/ndarraytypes.h:1929\u001b[m\u001b[K,\r\n",
      "                 from \u001b[01m\u001b[K/usr/local/lib/python3.10/dist-packages/numpy/core/include/numpy/ndarrayobject.h:12\u001b[m\u001b[K,\r\n",
      "                 from \u001b[01m\u001b[K/usr/local/lib/python3.10/dist-packages/numpy/core/include/numpy/arrayobject.h:5\u001b[m\u001b[K,\r\n",
      "                 from \u001b[01m\u001b[KMatrixFactorization_Cython_Epoch.c:1252\u001b[m\u001b[K:\r\n",
      "\u001b[01m\u001b[K/usr/local/lib/python3.10/dist-packages/numpy/core/include/numpy/npy_1_7_deprecated_api.h:17:2:\u001b[m\u001b[K \u001b[01;35m\u001b[Kwarning: \u001b[m\u001b[K#warning \"Using deprecated NumPy API, disable it with \" \"#define NPY_NO_DEPRECATED_API NPY_1_7_API_VERSION\" [\u001b[01;35m\u001b[K\u001b]8;;https://gcc.gnu.org/onlinedocs/gcc/Warning-Options.html#index-Wcpp\u0007-Wcpp\u001b]8;;\u0007\u001b[m\u001b[K]\r\n",
      "   17 | #\u001b[01;35m\u001b[Kwarning\u001b[m\u001b[K \"Using deprecated NumPy API, disable it with \" \\\r\n",
      "      |  \u001b[01;35m\u001b[K^~~~~~~\u001b[m\u001b[K\r\n",
      "\u001b[01m\u001b[KMatrixFactorization_Cython_Epoch.c:\u001b[m\u001b[K In function ‘\u001b[01m\u001b[K__pyx_pf_32MatrixFactorization_Cython_Epoch_32MatrixFactorization_Cython_Epoch_10epochIteration_Cython_ASY_SVD_SGD\u001b[m\u001b[K’:\r\n",
      "\u001b[01m\u001b[KMatrixFactorization_Cython_Epoch.c:26256:68:\u001b[m\u001b[K \u001b[01;35m\u001b[Kwarning: \u001b[m\u001b[K‘\u001b[01m\u001b[K__pyx_v_end_pos_seen_items\u001b[m\u001b[K’ may be used uninitialized in this function [\u001b[01;35m\u001b[K\u001b]8;;https://gcc.gnu.org/onlinedocs/gcc/Warning-Options.html#index-Wmaybe-uninitialized\u0007-Wmaybe-uninitialized\u001b]8;;\u0007\u001b[m\u001b[K]\r\n",
      "26256 |         for (__pyx_t_22 = __pyx_v_start_pos_seen_items; \u001b[01;35m\u001b[K__pyx_t_22 < __pyx_t_21\u001b[m\u001b[K; __pyx_t_22+=1) {\r\n",
      "      |                                                         \u001b[01;35m\u001b[K~~~~~~~~~~~^~~~~~~~~~~~\u001b[m\u001b[K\r\n",
      "\u001b[01m\u001b[KMatrixFactorization_Cython_Epoch.c:26256:68:\u001b[m\u001b[K \u001b[01;35m\u001b[Kwarning: \u001b[m\u001b[K‘\u001b[01m\u001b[K__pyx_v_start_pos_seen_items\u001b[m\u001b[K’ may be used uninitialized in this function [\u001b[01;35m\u001b[K\u001b]8;;https://gcc.gnu.org/onlinedocs/gcc/Warning-Options.html#index-Wmaybe-uninitialized\u0007-Wmaybe-uninitialized\u001b]8;;\u0007\u001b[m\u001b[K]\r\n",
      "/usr/local/lib/python3.10/dist-packages/Cython/Compiler/Main.py:381: FutureWarning: Cython directive 'language_level' not set, using '3str' for now (Py3). This has changed from earlier releases! File: /kaggle/working/RECsys_Challenge2024/Recommenders/MatrixFactorization/Cython/MatrixFactorization_Cython_Epoch.pyx\r\n",
      "  tree = Parsing.p_module(s, pxd, full_module_name)\r\n",
      "Compiling [1/11]: MatrixFactorization_Cython_Epoch.pyx... PASS\r\n",
      "\r\n",
      "Compiling [2/11]: MatrixFactorizationImpressions_Cython_Epoch.pyx... \r\n",
      "In file included from \u001b[01m\u001b[K/usr/local/lib/python3.10/dist-packages/numpy/core/include/numpy/ndarraytypes.h:1929\u001b[m\u001b[K,\r\n",
      "                 from \u001b[01m\u001b[K/usr/local/lib/python3.10/dist-packages/numpy/core/include/numpy/ndarrayobject.h:12\u001b[m\u001b[K,\r\n",
      "                 from \u001b[01m\u001b[K/usr/local/lib/python3.10/dist-packages/numpy/core/include/numpy/arrayobject.h:5\u001b[m\u001b[K,\r\n",
      "                 from \u001b[01m\u001b[KMatrixFactorizationImpressions_Cython_Epoch.c:1252\u001b[m\u001b[K:\r\n",
      "\u001b[01m\u001b[K/usr/local/lib/python3.10/dist-packages/numpy/core/include/numpy/npy_1_7_deprecated_api.h:17:2:\u001b[m\u001b[K \u001b[01;35m\u001b[Kwarning: \u001b[m\u001b[K#warning \"Using deprecated NumPy API, disable it with \" \"#define NPY_NO_DEPRECATED_API NPY_1_7_API_VERSION\" [\u001b[01;35m\u001b[K\u001b]8;;https://gcc.gnu.org/onlinedocs/gcc/Warning-Options.html#index-Wcpp\u0007-Wcpp\u001b]8;;\u0007\u001b[m\u001b[K]\r\n",
      "   17 | #\u001b[01;35m\u001b[Kwarning\u001b[m\u001b[K \"Using deprecated NumPy API, disable it with \" \\\r\n",
      "      |  \u001b[01;35m\u001b[K^~~~~~~\u001b[m\u001b[K\r\n",
      "\u001b[01m\u001b[KMatrixFactorizationImpressions_Cython_Epoch.c:\u001b[m\u001b[K In function ‘\u001b[01m\u001b[K__pyx_f_43MatrixFactorizationImpressions_Cython_Epoch_32MatrixFactorization_Cython_Epoch_sampleBPR_Cython\u001b[m\u001b[K’:\r\n",
      "\u001b[01m\u001b[KMatrixFactorizationImpressions_Cython_Epoch.c:30353:17:\u001b[m\u001b[K \u001b[01;35m\u001b[Kwarning: \u001b[m\u001b[K‘\u001b[01m\u001b[K__pyx_v_start_pos_impression_items\u001b[m\u001b[K’ may be used uninitialized in this function [\u001b[01;35m\u001b[K\u001b]8;;https://gcc.gnu.org/onlinedocs/gcc/Warning-Options.html#index-Wmaybe-uninitialized\u0007-Wmaybe-uninitialized\u001b]8;;\u0007\u001b[m\u001b[K]\r\n",
      "30353 |       \u001b[01;35m\u001b[K__pyx_t_4 = (__pyx_v_start_pos_impression_items + __pyx_v_index)\u001b[m\u001b[K;\r\n",
      "      |       \u001b[01;35m\u001b[K~~~~~~~~~~^~~~~~~~~~~~~~~~~~~~~~~~~~~~~~~~~~~~~~~~~~~~~~~~~~~~~~\u001b[m\u001b[K\r\n",
      "\u001b[01m\u001b[KMatrixFactorizationImpressions_Cython_Epoch.c:\u001b[m\u001b[K In function ‘\u001b[01m\u001b[K__pyx_pf_43MatrixFactorizationImpressions_Cython_Epoch_32MatrixFactorization_Cython_Epoch_10epochIteration_Cython_ASY_SVD_SGD\u001b[m\u001b[K’:\r\n",
      "\u001b[01m\u001b[KMatrixFactorizationImpressions_Cython_Epoch.c:26112:66:\u001b[m\u001b[K \u001b[01;35m\u001b[Kwarning: \u001b[m\u001b[K‘\u001b[01m\u001b[K__pyx_v_end_pos_seen_items\u001b[m\u001b[K’ may be used uninitialized in this function [\u001b[01;35m\u001b[K\u001b]8;;https://gcc.gnu.org/onlinedocs/gcc/Warning-Options.html#index-Wmaybe-uninitialized\u0007-Wmaybe-uninitialized\u001b]8;;\u0007\u001b[m\u001b[K]\r\n",
      "26112 |       for (__pyx_t_22 = __pyx_v_start_pos_seen_items; \u001b[01;35m\u001b[K__pyx_t_22 < __pyx_t_21\u001b[m\u001b[K; __pyx_t_22+=1) {\r\n",
      "      |                                                       \u001b[01;35m\u001b[K~~~~~~~~~~~^~~~~~~~~~~~\u001b[m\u001b[K\r\n",
      "\u001b[01m\u001b[KMatrixFactorizationImpressions_Cython_Epoch.c:26112:66:\u001b[m\u001b[K \u001b[01;35m\u001b[Kwarning: \u001b[m\u001b[K‘\u001b[01m\u001b[K__pyx_v_start_pos_seen_items\u001b[m\u001b[K’ may be used uninitialized in this function [\u001b[01;35m\u001b[K\u001b]8;;https://gcc.gnu.org/onlinedocs/gcc/Warning-Options.html#index-Wmaybe-uninitialized\u0007-Wmaybe-uninitialized\u001b]8;;\u0007\u001b[m\u001b[K]\r\n",
      "/usr/local/lib/python3.10/dist-packages/Cython/Compiler/Main.py:381: FutureWarning: Cython directive 'language_level' not set, using '3str' for now (Py3). This has changed from earlier releases! File: /kaggle/working/RECsys_Challenge2024/Recommenders/MatrixFactorization/Cython/MatrixFactorizationImpressions_Cython_Epoch.pyx\r\n",
      "  tree = Parsing.p_module(s, pxd, full_module_name)\r\n",
      "Compiling [2/11]: MatrixFactorizationImpressions_Cython_Epoch.pyx... PASS\r\n",
      "\r\n",
      "Compiling [3/11]: Compute_Similarity_Cython.pyx... \r\n",
      "warning: Compute_Similarity_Cython.pyx:21:0: The 'IF' statement is deprecated and will be removed in a future Cython version. Consider using runtime conditions or C macros instead. See https://github.com/cython/cython/issues/4310\r\n",
      "In file included from \u001b[01m\u001b[K/usr/local/lib/python3.10/dist-packages/numpy/core/include/numpy/ndarraytypes.h:1929\u001b[m\u001b[K,\r\n",
      "                 from \u001b[01m\u001b[K/usr/local/lib/python3.10/dist-packages/numpy/core/include/numpy/ndarrayobject.h:12\u001b[m\u001b[K,\r\n",
      "                 from \u001b[01m\u001b[K/usr/local/lib/python3.10/dist-packages/numpy/core/include/numpy/arrayobject.h:5\u001b[m\u001b[K,\r\n",
      "                 from \u001b[01m\u001b[KCompute_Similarity_Cython.c:1252\u001b[m\u001b[K:\r\n",
      "\u001b[01m\u001b[K/usr/local/lib/python3.10/dist-packages/numpy/core/include/numpy/npy_1_7_deprecated_api.h:17:2:\u001b[m\u001b[K \u001b[01;35m\u001b[Kwarning: \u001b[m\u001b[K#warning \"Using deprecated NumPy API, disable it with \" \"#define NPY_NO_DEPRECATED_API NPY_1_7_API_VERSION\" [\u001b[01;35m\u001b[K\u001b]8;;https://gcc.gnu.org/onlinedocs/gcc/Warning-Options.html#index-Wcpp\u0007-Wcpp\u001b]8;;\u0007\u001b[m\u001b[K]\r\n",
      "   17 | #\u001b[01;35m\u001b[Kwarning\u001b[m\u001b[K \"Using deprecated NumPy API, disable it with \" \\\r\n",
      "      |  \u001b[01;35m\u001b[K^~~~~~~\u001b[m\u001b[K\r\n",
      "/usr/local/lib/python3.10/dist-packages/Cython/Compiler/Main.py:381: FutureWarning: Cython directive 'language_level' not set, using '3str' for now (Py3). This has changed from earlier releases! File: /kaggle/working/RECsys_Challenge2024/Recommenders/Similarity/Cython/Compute_Similarity_Cython.pyx\r\n",
      "  tree = Parsing.p_module(s, pxd, full_module_name)\r\n",
      "warning: Compute_Similarity_Cython.pyx:21:0: The 'IF' statement is deprecated and will be removed in a future Cython version. Consider using runtime conditions or C macros instead. See https://github.com/cython/cython/issues/4310\r\n",
      "Compiling [3/11]: Compute_Similarity_Cython.pyx... PASS\r\n",
      "\r\n",
      "Compiling [4/11]: Sparse_Matrix_Tree_CSR.pyx... \r\n",
      "warning: Sparse_Matrix_Tree_CSR.pyx:132:34: Non-trivial type declarators in shared declaration (e.g. mix of pointers and values). Each pointer declaration should be on its own line.\r\n",
      "warning: Sparse_Matrix_Tree_CSR.pyx:132:66: Non-trivial type declarators in shared declaration (e.g. mix of pointers and values). Each pointer declaration should be on its own line.\r\n",
      "warning: Sparse_Matrix_Tree_CSR.pyx:343:35: Non-trivial type declarators in shared declaration (e.g. mix of pointers and values). Each pointer declaration should be on its own line.\r\n",
      "warning: Sparse_Matrix_Tree_CSR.pyx:343:52: Non-trivial type declarators in shared declaration (e.g. mix of pointers and values). Each pointer declaration should be on its own line.\r\n",
      "warning: Sparse_Matrix_Tree_CSR.pyx:442:35: Non-trivial type declarators in shared declaration (e.g. mix of pointers and values). Each pointer declaration should be on its own line.\r\n",
      "warning: Sparse_Matrix_Tree_CSR.pyx:442:53: Non-trivial type declarators in shared declaration (e.g. mix of pointers and values). Each pointer declaration should be on its own line.\r\n",
      "warning: Sparse_Matrix_Tree_CSR.pyx:442:69: Non-trivial type declarators in shared declaration (e.g. mix of pointers and values). Each pointer declaration should be on its own line.\r\n",
      "warning: Sparse_Matrix_Tree_CSR.pyx:577:35: Non-trivial type declarators in shared declaration (e.g. mix of pointers and values). Each pointer declaration should be on its own line.\r\n",
      "warning: Sparse_Matrix_Tree_CSR.pyx:577:42: Non-trivial type declarators in shared declaration (e.g. mix of pointers and values). Each pointer declaration should be on its own line.\r\n",
      "warning: Sparse_Matrix_Tree_CSR.pyx:578:35: Non-trivial type declarators in shared declaration (e.g. mix of pointers and values). Each pointer declaration should be on its own line.\r\n",
      "warning: Sparse_Matrix_Tree_CSR.pyx:578:53: Non-trivial type declarators in shared declaration (e.g. mix of pointers and values). Each pointer declaration should be on its own line.\r\n",
      "\r\n",
      "Error compiling Cython file:\r\n",
      "------------------------------------------------------------\r\n",
      "...\r\n",
      "            vector_pointer_to_list_elements[index].head = current_element\r\n",
      "            current_element = current_element.higher\r\n",
      "\r\n",
      "\r\n",
      "        # Sort array elements on their data field\r\n",
      "        qsort(vector_pointer_to_list_elements, list_length, sizeof(head_pointer_tree_s), compare_struct_on_data)\r\n",
      "                                                                                         ^\r\n",
      "------------------------------------------------------------\r\n",
      "\r\n",
      "Sparse_Matrix_Tree_CSR.pyx:516:89: Cannot assign type 'int (const void *, const void *) except? -1' to 'int (*)(const_void *, const_void *) noexcept'. Exception values are incompatible. Suggest adding 'noexcept' to the type of 'compare_struct_on_data'.\r\n",
      "\r\n",
      "Error compiling Cython file:\r\n",
      "------------------------------------------------------------\r\n",
      "...\r\n",
      "        # Sort array elements on their data field\r\n",
      "        qsort(vector_pointer_to_list_elements, list_length, sizeof(head_pointer_tree_s), compare_struct_on_data)\r\n",
      "\r\n",
      "        # Sort only the TopK according to their column field\r\n",
      "        # Sort is from lower to higher, therefore the elements to be considered are from len-topK to len\r\n",
      "        qsort(&vector_pointer_to_list_elements[list_length-TopK], TopK, sizeof(head_pointer_tree_s), compare_struct_on_column)\r\n",
      "                                                                                                     ^\r\n",
      "------------------------------------------------------------\r\n",
      "\r\n",
      "Sparse_Matrix_Tree_CSR.pyx:520:101: Cannot assign type 'int (const void *, const void *) except? -1' to 'int (*)(const_void *, const_void *) noexcept'. Exception values are incompatible. Suggest adding 'noexcept' to the type of 'compare_struct_on_column'.\r\n",
      "Traceback (most recent call last):\r\n",
      "  File \"/kaggle/working/RECsys_Challenge2024/CythonCompiler/compile_script.py\", line 48, in <module>\r\n",
      "    setup(\r\n",
      "  File \"/usr/local/lib/python3.10/dist-packages/setuptools/__init__.py\", line 108, in setup\r\n",
      "    return distutils.core.setup(**attrs)\r\n",
      "  File \"/usr/local/lib/python3.10/dist-packages/setuptools/_distutils/core.py\", line 184, in setup\r\n",
      "    return run_commands(dist)\r\n",
      "  File \"/usr/local/lib/python3.10/dist-packages/setuptools/_distutils/core.py\", line 200, in run_commands\r\n",
      "    dist.run_commands()\r\n",
      "  File \"/usr/local/lib/python3.10/dist-packages/setuptools/_distutils/dist.py\", line 970, in run_commands\r\n",
      "    self.run_command(cmd)\r\n",
      "  File \"/usr/local/lib/python3.10/dist-packages/setuptools/dist.py\", line 956, in run_command\r\n",
      "    super().run_command(command)\r\n",
      "  File \"/usr/local/lib/python3.10/dist-packages/setuptools/_distutils/dist.py\", line 989, in run_command\r\n",
      "    cmd_obj.run()\r\n",
      "  File \"/usr/local/lib/python3.10/dist-packages/setuptools/_distutils/command/build_ext.py\", line 359, in run\r\n",
      "    self.build_extensions()\r\n",
      "  File \"/usr/local/lib/python3.10/dist-packages/setuptools/_distutils/command/build_ext.py\", line 479, in build_extensions\r\n",
      "    self._build_extensions_serial()\r\n",
      "  File \"/usr/local/lib/python3.10/dist-packages/setuptools/_distutils/command/build_ext.py\", line 505, in _build_extensions_serial\r\n",
      "    self.build_extension(ext)\r\n",
      "  File \"/usr/local/lib/python3.10/dist-packages/Cython/Distutils/build_ext.py\", line 130, in build_extension\r\n",
      "    new_ext = cythonize(\r\n",
      "  File \"/usr/local/lib/python3.10/dist-packages/Cython/Build/Dependencies.py\", line 1154, in cythonize\r\n",
      "    cythonize_one(*args)\r\n",
      "  File \"/usr/local/lib/python3.10/dist-packages/Cython/Build/Dependencies.py\", line 1321, in cythonize_one\r\n",
      "    raise CompileError(None, pyx_file)\r\n",
      "Cython.Compiler.Errors.CompileError: Sparse_Matrix_Tree_CSR.pyx\r\n",
      "Traceback (most recent call last):\r\n",
      "  File \"/kaggle/working/RECsys_Challenge2024/run_compile_all_cython.py\", line 60, in <module>\r\n",
      "    run_compile_subprocess(file_path, [file_name])\r\n",
      "  File \"/kaggle/working/RECsys_Challenge2024/CythonCompiler/run_compile_subprocess.py\", line 51, in run_compile_subprocess\r\n",
      "    raise exc\r\n",
      "  File \"/kaggle/working/RECsys_Challenge2024/CythonCompiler/run_compile_subprocess.py\", line 32, in run_compile_subprocess\r\n",
      "    output = subprocess.check_output(' '.join(command),\r\n",
      "  File \"/usr/lib/python3.10/subprocess.py\", line 421, in check_output\r\n",
      "    return run(*popenargs, stdout=PIPE, timeout=timeout, check=True,\r\n",
      "  File \"/usr/lib/python3.10/subprocess.py\", line 526, in run\r\n",
      "    raise CalledProcessError(retcode, process.args,\r\n",
      "subprocess.CalledProcessError: Command '/usr/bin/python3 /kaggle/working/RECsys_Challenge2024/CythonCompiler/compile_script.py Sparse_Matrix_Tree_CSR.pyx build_ext --inplace' returned non-zero exit status 1.\r\n",
      "Compiling [4/11]: Sparse_Matrix_Tree_CSR.pyx... FAIL: Command '/usr/bin/python3 /kaggle/working/RECsys_Challenge2024/CythonCompiler/compile_script.py Sparse_Matrix_Tree_CSR.pyx build_ext --inplace' returned non-zero exit status 1.\r\n",
      "\r\n",
      "Compiling [5/11]: Triangular_Matrix.pyx... \r\n",
      "warning: Triangular_Matrix.pyx:22:0: The 'IF' statement is deprecated and will be removed in a future Cython version. Consider using runtime conditions or C macros instead. See https://github.com/cython/cython/issues/4310\r\n",
      "In file included from \u001b[01m\u001b[K/usr/local/lib/python3.10/dist-packages/numpy/core/include/numpy/ndarraytypes.h:1929\u001b[m\u001b[K,\r\n",
      "                 from \u001b[01m\u001b[K/usr/local/lib/python3.10/dist-packages/numpy/core/include/numpy/ndarrayobject.h:12\u001b[m\u001b[K,\r\n",
      "                 from \u001b[01m\u001b[K/usr/local/lib/python3.10/dist-packages/numpy/core/include/numpy/arrayobject.h:5\u001b[m\u001b[K,\r\n",
      "                 from \u001b[01m\u001b[KTriangular_Matrix.c:1252\u001b[m\u001b[K:\r\n",
      "\u001b[01m\u001b[K/usr/local/lib/python3.10/dist-packages/numpy/core/include/numpy/npy_1_7_deprecated_api.h:17:2:\u001b[m\u001b[K \u001b[01;35m\u001b[Kwarning: \u001b[m\u001b[K#warning \"Using deprecated NumPy API, disable it with \" \"#define NPY_NO_DEPRECATED_API NPY_1_7_API_VERSION\" [\u001b[01;35m\u001b[K\u001b]8;;https://gcc.gnu.org/onlinedocs/gcc/Warning-Options.html#index-Wcpp\u0007-Wcpp\u001b]8;;\u0007\u001b[m\u001b[K]\r\n",
      "   17 | #\u001b[01;35m\u001b[Kwarning\u001b[m\u001b[K \"Using deprecated NumPy API, disable it with \" \\\r\n",
      "      |  \u001b[01;35m\u001b[K^~~~~~~\u001b[m\u001b[K\r\n",
      "In function ‘\u001b[01m\u001b[K__pyx_pf_17Triangular_Matrix_17Triangular_Matrix___init__\u001b[m\u001b[K’,\r\n",
      "    inlined from ‘\u001b[01m\u001b[K__pyx_pw_17Triangular_Matrix_17Triangular_Matrix_1__init__\u001b[m\u001b[K’ at \u001b[01m\u001b[KTriangular_Matrix.c:5541:13\u001b[m\u001b[K:\r\n",
      "\u001b[01m\u001b[KTriangular_Matrix.c:5599:43:\u001b[m\u001b[K \u001b[01;35m\u001b[Kwarning: \u001b[m\u001b[Kargument 1 value ‘\u001b[01m\u001b[K18446744073709551608\u001b[m\u001b[K’ exceeds maximum object size 9223372036854775807 [\u001b[01;35m\u001b[K\u001b]8;;https://gcc.gnu.org/onlinedocs/gcc/Warning-Options.html#index-Walloc-size-larger-than=\u0007-Walloc-size-larger-than=\u001b]8;;\u0007\u001b[m\u001b[K]\r\n",
      " 5599 |   __pyx_v_self->row_pointer = ((double **)\u001b[01;35m\u001b[Kmalloc((__pyx_v_self->num_rows * (sizeof(double *))))\u001b[m\u001b[K);\r\n",
      "      |                                           \u001b[01;35m\u001b[K^~~~~~~~~~~~~~~~~~~~~~~~~~~~~~~~~~~~~~~~~~~~~~~~~~~~~\u001b[m\u001b[K\r\n",
      "In file included from \u001b[01m\u001b[K/usr/include/python3.10/Python.h:34\u001b[m\u001b[K,\r\n",
      "                 from \u001b[01m\u001b[KTriangular_Matrix.c:41\u001b[m\u001b[K:\r\n",
      "\u001b[01m\u001b[KTriangular_Matrix.c:\u001b[m\u001b[K In function ‘\u001b[01m\u001b[K__pyx_pw_17Triangular_Matrix_17Triangular_Matrix_1__init__\u001b[m\u001b[K’:\r\n",
      "\u001b[01m\u001b[K/usr/include/stdlib.h:540:14:\u001b[m\u001b[K \u001b[01;36m\u001b[Knote: \u001b[m\u001b[Kin a call to allocation function ‘\u001b[01m\u001b[Kmalloc\u001b[m\u001b[K’ declared here\r\n",
      "  540 | extern void *\u001b[01;36m\u001b[Kmalloc\u001b[m\u001b[K (size_t __size) __THROW __attribute_malloc__\r\n",
      "      |              \u001b[01;36m\u001b[K^~~~~~\u001b[m\u001b[K\r\n",
      "/usr/local/lib/python3.10/dist-packages/Cython/Compiler/Main.py:381: FutureWarning: Cython directive 'language_level' not set, using '3str' for now (Py3). This has changed from earlier releases! File: /kaggle/working/RECsys_Challenge2024/Recommenders/SLIM/Cython/Triangular_Matrix.pyx\r\n",
      "  tree = Parsing.p_module(s, pxd, full_module_name)\r\n",
      "warning: Triangular_Matrix.pyx:22:0: The 'IF' statement is deprecated and will be removed in a future Cython version. Consider using runtime conditions or C macros instead. See https://github.com/cython/cython/issues/4310\r\n",
      "Compiling [5/11]: Triangular_Matrix.pyx... PASS\r\n",
      "\r\n",
      "Compiling [6/11]: SLIM_BPR_Cython_Epoch.pyx... \r\n",
      "warning: SLIM_BPR_Cython_Epoch.pyx:24:0: The 'IF' statement is deprecated and will be removed in a future Cython version. Consider using runtime conditions or C macros instead. See https://github.com/cython/cython/issues/4310\r\n",
      "warning: SLIM_BPR_Cython_Epoch.pyx:632:34: Non-trivial type declarators in shared declaration (e.g. mix of pointers and values). Each pointer declaration should be on its own line.\r\n",
      "warning: SLIM_BPR_Cython_Epoch.pyx:632:66: Non-trivial type declarators in shared declaration (e.g. mix of pointers and values). Each pointer declaration should be on its own line.\r\n",
      "warning: SLIM_BPR_Cython_Epoch.pyx:817:35: Non-trivial type declarators in shared declaration (e.g. mix of pointers and values). Each pointer declaration should be on its own line.\r\n",
      "warning: SLIM_BPR_Cython_Epoch.pyx:817:52: Non-trivial type declarators in shared declaration (e.g. mix of pointers and values). Each pointer declaration should be on its own line.\r\n",
      "warning: SLIM_BPR_Cython_Epoch.pyx:916:35: Non-trivial type declarators in shared declaration (e.g. mix of pointers and values). Each pointer declaration should be on its own line.\r\n",
      "warning: SLIM_BPR_Cython_Epoch.pyx:916:53: Non-trivial type declarators in shared declaration (e.g. mix of pointers and values). Each pointer declaration should be on its own line.\r\n",
      "warning: SLIM_BPR_Cython_Epoch.pyx:916:69: Non-trivial type declarators in shared declaration (e.g. mix of pointers and values). Each pointer declaration should be on its own line.\r\n",
      "warning: SLIM_BPR_Cython_Epoch.pyx:1051:35: Non-trivial type declarators in shared declaration (e.g. mix of pointers and values). Each pointer declaration should be on its own line.\r\n",
      "warning: SLIM_BPR_Cython_Epoch.pyx:1051:42: Non-trivial type declarators in shared declaration (e.g. mix of pointers and values). Each pointer declaration should be on its own line.\r\n",
      "warning: SLIM_BPR_Cython_Epoch.pyx:1052:35: Non-trivial type declarators in shared declaration (e.g. mix of pointers and values). Each pointer declaration should be on its own line.\r\n",
      "warning: SLIM_BPR_Cython_Epoch.pyx:1052:53: Non-trivial type declarators in shared declaration (e.g. mix of pointers and values). Each pointer declaration should be on its own line.\r\n",
      "\r\n",
      "Error compiling Cython file:\r\n",
      "------------------------------------------------------------\r\n",
      "...\r\n",
      "            vector_pointer_to_list_elements[index].head = current_element\r\n",
      "            current_element = current_element.higher\r\n",
      "\r\n",
      "\r\n",
      "        # Sort array elements on their data field\r\n",
      "        qsort(vector_pointer_to_list_elements, list_length, sizeof(head_pointer_tree_s), compare_struct_on_data)\r\n",
      "                                                                                         ^\r\n",
      "------------------------------------------------------------\r\n",
      "\r\n",
      "SLIM_BPR_Cython_Epoch.pyx:990:89: Cannot assign type 'int (const void *, const void *) except? -1' to 'int (*)(const_void *, const_void *) noexcept'. Exception values are incompatible. Suggest adding 'noexcept' to the type of 'compare_struct_on_data'.\r\n",
      "\r\n",
      "Error compiling Cython file:\r\n",
      "------------------------------------------------------------\r\n",
      "...\r\n",
      "        # Sort array elements on their data field\r\n",
      "        qsort(vector_pointer_to_list_elements, list_length, sizeof(head_pointer_tree_s), compare_struct_on_data)\r\n",
      "\r\n",
      "        # Sort only the TopK according to their column field\r\n",
      "        # Sort is from lower to higher, therefore the elements to be considered are from len-topK to len\r\n",
      "        qsort(&vector_pointer_to_list_elements[list_length-TopK], TopK, sizeof(head_pointer_tree_s), compare_struct_on_column)\r\n",
      "                                                                                                     ^\r\n",
      "------------------------------------------------------------\r\n",
      "\r\n",
      "SLIM_BPR_Cython_Epoch.pyx:994:101: Cannot assign type 'int (const void *, const void *) except? -1' to 'int (*)(const_void *, const_void *) noexcept'. Exception values are incompatible. Suggest adding 'noexcept' to the type of 'compare_struct_on_column'.\r\n",
      "Traceback (most recent call last):\r\n",
      "  File \"/kaggle/working/RECsys_Challenge2024/CythonCompiler/compile_script.py\", line 48, in <module>\r\n",
      "    setup(\r\n",
      "  File \"/usr/local/lib/python3.10/dist-packages/setuptools/__init__.py\", line 108, in setup\r\n",
      "    return distutils.core.setup(**attrs)\r\n",
      "  File \"/usr/local/lib/python3.10/dist-packages/setuptools/_distutils/core.py\", line 184, in setup\r\n",
      "    return run_commands(dist)\r\n",
      "  File \"/usr/local/lib/python3.10/dist-packages/setuptools/_distutils/core.py\", line 200, in run_commands\r\n",
      "    dist.run_commands()\r\n",
      "  File \"/usr/local/lib/python3.10/dist-packages/setuptools/_distutils/dist.py\", line 970, in run_commands\r\n",
      "    self.run_command(cmd)\r\n",
      "  File \"/usr/local/lib/python3.10/dist-packages/setuptools/dist.py\", line 956, in run_command\r\n",
      "    super().run_command(command)\r\n",
      "  File \"/usr/local/lib/python3.10/dist-packages/setuptools/_distutils/dist.py\", line 989, in run_command\r\n",
      "    cmd_obj.run()\r\n",
      "  File \"/usr/local/lib/python3.10/dist-packages/setuptools/_distutils/command/build_ext.py\", line 359, in run\r\n",
      "    self.build_extensions()\r\n",
      "  File \"/usr/local/lib/python3.10/dist-packages/setuptools/_distutils/command/build_ext.py\", line 479, in build_extensions\r\n",
      "    self._build_extensions_serial()\r\n",
      "  File \"/usr/local/lib/python3.10/dist-packages/setuptools/_distutils/command/build_ext.py\", line 505, in _build_extensions_serial\r\n",
      "    self.build_extension(ext)\r\n",
      "  File \"/usr/local/lib/python3.10/dist-packages/Cython/Distutils/build_ext.py\", line 130, in build_extension\r\n",
      "    new_ext = cythonize(\r\n",
      "  File \"/usr/local/lib/python3.10/dist-packages/Cython/Build/Dependencies.py\", line 1154, in cythonize\r\n",
      "    cythonize_one(*args)\r\n",
      "  File \"/usr/local/lib/python3.10/dist-packages/Cython/Build/Dependencies.py\", line 1321, in cythonize_one\r\n",
      "    raise CompileError(None, pyx_file)\r\n",
      "Cython.Compiler.Errors.CompileError: SLIM_BPR_Cython_Epoch.pyx\r\n",
      "Traceback (most recent call last):\r\n",
      "  File \"/kaggle/working/RECsys_Challenge2024/run_compile_all_cython.py\", line 60, in <module>\r\n",
      "    run_compile_subprocess(file_path, [file_name])\r\n",
      "  File \"/kaggle/working/RECsys_Challenge2024/CythonCompiler/run_compile_subprocess.py\", line 51, in run_compile_subprocess\r\n",
      "    raise exc\r\n",
      "  File \"/kaggle/working/RECsys_Challenge2024/CythonCompiler/run_compile_subprocess.py\", line 32, in run_compile_subprocess\r\n",
      "    output = subprocess.check_output(' '.join(command),\r\n",
      "  File \"/usr/lib/python3.10/subprocess.py\", line 421, in check_output\r\n",
      "    return run(*popenargs, stdout=PIPE, timeout=timeout, check=True,\r\n",
      "  File \"/usr/lib/python3.10/subprocess.py\", line 526, in run\r\n",
      "    raise CalledProcessError(retcode, process.args,\r\n",
      "subprocess.CalledProcessError: Command '/usr/bin/python3 /kaggle/working/RECsys_Challenge2024/CythonCompiler/compile_script.py SLIM_BPR_Cython_Epoch.pyx build_ext --inplace' returned non-zero exit status 1.\r\n",
      "Compiling [6/11]: SLIM_BPR_Cython_Epoch.pyx... FAIL: Command '/usr/bin/python3 /kaggle/working/RECsys_Challenge2024/CythonCompiler/compile_script.py SLIM_BPR_Cython_Epoch.pyx build_ext --inplace' returned non-zero exit status 1.\r\n",
      "\r\n",
      "Compiling [7/11]: CFW_DVV_Similarity_Cython_SGD.pyx... \r\n",
      "In file included from \u001b[01m\u001b[K/usr/local/lib/python3.10/dist-packages/numpy/core/include/numpy/ndarraytypes.h:1929\u001b[m\u001b[K,\r\n",
      "                 from \u001b[01m\u001b[K/usr/local/lib/python3.10/dist-packages/numpy/core/include/numpy/ndarrayobject.h:12\u001b[m\u001b[K,\r\n",
      "                 from \u001b[01m\u001b[K/usr/local/lib/python3.10/dist-packages/numpy/core/include/numpy/arrayobject.h:5\u001b[m\u001b[K,\r\n",
      "                 from \u001b[01m\u001b[KCFW_DVV_Similarity_Cython_SGD.c:1252\u001b[m\u001b[K:\r\n",
      "\u001b[01m\u001b[K/usr/local/lib/python3.10/dist-packages/numpy/core/include/numpy/npy_1_7_deprecated_api.h:17:2:\u001b[m\u001b[K \u001b[01;35m\u001b[Kwarning: \u001b[m\u001b[K#warning \"Using deprecated NumPy API, disable it with \" \"#define NPY_NO_DEPRECATED_API NPY_1_7_API_VERSION\" [\u001b[01;35m\u001b[K\u001b]8;;https://gcc.gnu.org/onlinedocs/gcc/Warning-Options.html#index-Wcpp\u0007-Wcpp\u001b]8;;\u0007\u001b[m\u001b[K]\r\n",
      "   17 | #\u001b[01;35m\u001b[Kwarning\u001b[m\u001b[K \"Using deprecated NumPy API, disable it with \" \\\r\n",
      "      |  \u001b[01;35m\u001b[K^~~~~~~\u001b[m\u001b[K\r\n",
      "/usr/local/lib/python3.10/dist-packages/Cython/Compiler/Main.py:381: FutureWarning: Cython directive 'language_level' not set, using '3str' for now (Py3). This has changed from earlier releases! File: /kaggle/working/RECsys_Challenge2024/Recommenders/FeatureWeighting/Cython/CFW_DVV_Similarity_Cython_SGD.pyx\r\n",
      "  tree = Parsing.p_module(s, pxd, full_module_name)\r\n",
      "Compiling [7/11]: CFW_DVV_Similarity_Cython_SGD.pyx... PASS\r\n",
      "\r\n",
      "Compiling [8/11]: HP3_Similarity_Cython_SGD.pyx... \r\n",
      "performance hint: HP3_Similarity_Cython_SGD.pyx:113:40: Index should be typed for more efficient access\r\n",
      "performance hint: HP3_Similarity_Cython_SGD.pyx:114:40: Index should be typed for more efficient access\r\n",
      "In file included from \u001b[01m\u001b[K/usr/local/lib/python3.10/dist-packages/numpy/core/include/numpy/ndarraytypes.h:1929\u001b[m\u001b[K,\r\n",
      "                 from \u001b[01m\u001b[K/usr/local/lib/python3.10/dist-packages/numpy/core/include/numpy/ndarrayobject.h:12\u001b[m\u001b[K,\r\n",
      "                 from \u001b[01m\u001b[K/usr/local/lib/python3.10/dist-packages/numpy/core/include/numpy/arrayobject.h:5\u001b[m\u001b[K,\r\n",
      "                 from \u001b[01m\u001b[KHP3_Similarity_Cython_SGD.c:1252\u001b[m\u001b[K:\r\n",
      "\u001b[01m\u001b[K/usr/local/lib/python3.10/dist-packages/numpy/core/include/numpy/npy_1_7_deprecated_api.h:17:2:\u001b[m\u001b[K \u001b[01;35m\u001b[Kwarning: \u001b[m\u001b[K#warning \"Using deprecated NumPy API, disable it with \" \"#define NPY_NO_DEPRECATED_API NPY_1_7_API_VERSION\" [\u001b[01;35m\u001b[K\u001b]8;;https://gcc.gnu.org/onlinedocs/gcc/Warning-Options.html#index-Wcpp\u0007-Wcpp\u001b]8;;\u0007\u001b[m\u001b[K]\r\n",
      "   17 | #\u001b[01;35m\u001b[Kwarning\u001b[m\u001b[K \"Using deprecated NumPy API, disable it with \" \\\r\n",
      "      |  \u001b[01;35m\u001b[K^~~~~~~\u001b[m\u001b[K\r\n",
      "\u001b[01m\u001b[KHP3_Similarity_Cython_SGD.c:\u001b[m\u001b[K In function ‘\u001b[01m\u001b[K__pyx_pf_25HP3_Similarity_Cython_SGD_25HP3_Similarity_Cython_SGD_4fit\u001b[m\u001b[K’:\r\n",
      "\u001b[01m\u001b[KHP3_Similarity_Cython_SGD.c:23631:55:\u001b[m\u001b[K \u001b[01;35m\u001b[Kwarning: \u001b[m\u001b[K‘\u001b[01m\u001b[K__pyx_v_sample_num\u001b[m\u001b[K’ may be used uninitialized in this function [\u001b[01;35m\u001b[K\u001b]8;;https://gcc.gnu.org/onlinedocs/gcc/Warning-Options.html#index-Wmaybe-uninitialized\u0007-Wmaybe-uninitialized\u001b]8;;\u0007\u001b[m\u001b[K]\r\n",
      "23631 |   __pyx_t_1 = PyFloat_FromDouble((__pyx_v_cum_loss / \u001b[01;35m\u001b[K((double)__pyx_v_sample_num)\u001b[m\u001b[K)); if (unlikely(!__pyx_t_1)) __PYX_ERR(0, 291, __pyx_L1_error)\r\n",
      "      |                                                      \u001b[01;35m\u001b[K~^~~~~~~~~~~~~~~~~~~~~~~~~~~\u001b[m\u001b[K\r\n",
      "/usr/local/lib/python3.10/dist-packages/Cython/Compiler/Main.py:381: FutureWarning: Cython directive 'language_level' not set, using '3str' for now (Py3). This has changed from earlier releases! File: /kaggle/working/RECsys_Challenge2024/Recommenders/FeatureWeighting/Cython/HP3_Similarity_Cython_SGD.pyx\r\n",
      "  tree = Parsing.p_module(s, pxd, full_module_name)\r\n",
      "performance hint: HP3_Similarity_Cython_SGD.pyx:113:40: Index should be typed for more efficient access\r\n",
      "performance hint: HP3_Similarity_Cython_SGD.pyx:114:40: Index should be typed for more efficient access\r\n",
      "Compiling [8/11]: HP3_Similarity_Cython_SGD.pyx... PASS\r\n",
      "\r\n",
      "Compiling [9/11]: FBSM_Rating_Cython_SGD.pyx... \r\n",
      "In file included from \u001b[01m\u001b[K/usr/local/lib/python3.10/dist-packages/numpy/core/include/numpy/ndarraytypes.h:1929\u001b[m\u001b[K,\r\n",
      "                 from \u001b[01m\u001b[K/usr/local/lib/python3.10/dist-packages/numpy/core/include/numpy/ndarrayobject.h:12\u001b[m\u001b[K,\r\n",
      "                 from \u001b[01m\u001b[K/usr/local/lib/python3.10/dist-packages/numpy/core/include/numpy/arrayobject.h:5\u001b[m\u001b[K,\r\n",
      "                 from \u001b[01m\u001b[KFBSM_Rating_Cython_SGD.c:1252\u001b[m\u001b[K:\r\n",
      "\u001b[01m\u001b[K/usr/local/lib/python3.10/dist-packages/numpy/core/include/numpy/npy_1_7_deprecated_api.h:17:2:\u001b[m\u001b[K \u001b[01;35m\u001b[Kwarning: \u001b[m\u001b[K#warning \"Using deprecated NumPy API, disable it with \" \"#define NPY_NO_DEPRECATED_API NPY_1_7_API_VERSION\" [\u001b[01;35m\u001b[K\u001b]8;;https://gcc.gnu.org/onlinedocs/gcc/Warning-Options.html#index-Wcpp\u0007-Wcpp\u001b]8;;\u0007\u001b[m\u001b[K]\r\n",
      "   17 | #\u001b[01;35m\u001b[Kwarning\u001b[m\u001b[K \"Using deprecated NumPy API, disable it with \" \\\r\n",
      "      |  \u001b[01;35m\u001b[K^~~~~~~\u001b[m\u001b[K\r\n",
      "\u001b[01m\u001b[KFBSM_Rating_Cython_SGD.c:\u001b[m\u001b[K In function ‘\u001b[01m\u001b[K__pyx_pf_22FBSM_Rating_Cython_SGD_22FBSM_Rating_Cython_SGD_2fit\u001b[m\u001b[K’:\r\n",
      "\u001b[01m\u001b[KFBSM_Rating_Cython_SGD.c:26607:55:\u001b[m\u001b[K \u001b[01;35m\u001b[Kwarning: \u001b[m\u001b[K‘\u001b[01m\u001b[K__pyx_v_num_sample\u001b[m\u001b[K’ may be used uninitialized in this function [\u001b[01;35m\u001b[K\u001b]8;;https://gcc.gnu.org/onlinedocs/gcc/Warning-Options.html#index-Wmaybe-uninitialized\u0007-Wmaybe-uninitialized\u001b]8;;\u0007\u001b[m\u001b[K]\r\n",
      "26607 |   __pyx_t_5 = PyFloat_FromDouble((__pyx_v_cum_loss / \u001b[01;35m\u001b[K((double)__pyx_v_num_sample)\u001b[m\u001b[K)); if (unlikely(!__pyx_t_5)) __PYX_ERR(0, 551, __pyx_L1_error)\r\n",
      "      |                                                      \u001b[01;35m\u001b[K~^~~~~~~~~~~~~~~~~~~~~~~~~~~\u001b[m\u001b[K\r\n",
      "/usr/local/lib/python3.10/dist-packages/Cython/Compiler/Main.py:381: FutureWarning: Cython directive 'language_level' not set, using '3str' for now (Py3). This has changed from earlier releases! File: /kaggle/working/RECsys_Challenge2024/Recommenders/FeatureWeighting/Cython/FBSM_Rating_Cython_SGD.pyx\r\n",
      "  tree = Parsing.p_module(s, pxd, full_module_name)\r\n",
      "Compiling [9/11]: FBSM_Rating_Cython_SGD.pyx... PASS\r\n",
      "\r\n",
      "Compiling [10/11]: CFW_D_Similarity_Cython_SGD.pyx... \r\n",
      "In file included from \u001b[01m\u001b[K/usr/local/lib/python3.10/dist-packages/numpy/core/include/numpy/ndarraytypes.h:1929\u001b[m\u001b[K,\r\n",
      "                 from \u001b[01m\u001b[K/usr/local/lib/python3.10/dist-packages/numpy/core/include/numpy/ndarrayobject.h:12\u001b[m\u001b[K,\r\n",
      "                 from \u001b[01m\u001b[K/usr/local/lib/python3.10/dist-packages/numpy/core/include/numpy/arrayobject.h:5\u001b[m\u001b[K,\r\n",
      "                 from \u001b[01m\u001b[KCFW_D_Similarity_Cython_SGD.c:1252\u001b[m\u001b[K:\r\n",
      "\u001b[01m\u001b[K/usr/local/lib/python3.10/dist-packages/numpy/core/include/numpy/npy_1_7_deprecated_api.h:17:2:\u001b[m\u001b[K \u001b[01;35m\u001b[Kwarning: \u001b[m\u001b[K#warning \"Using deprecated NumPy API, disable it with \" \"#define NPY_NO_DEPRECATED_API NPY_1_7_API_VERSION\" [\u001b[01;35m\u001b[K\u001b]8;;https://gcc.gnu.org/onlinedocs/gcc/Warning-Options.html#index-Wcpp\u0007-Wcpp\u001b]8;;\u0007\u001b[m\u001b[K]\r\n",
      "   17 | #\u001b[01;35m\u001b[Kwarning\u001b[m\u001b[K \"Using deprecated NumPy API, disable it with \" \\\r\n",
      "      |  \u001b[01;35m\u001b[K^~~~~~~\u001b[m\u001b[K\r\n",
      "\u001b[01m\u001b[KCFW_D_Similarity_Cython_SGD.c:\u001b[m\u001b[K In function ‘\u001b[01m\u001b[K__pyx_pf_27CFW_D_Similarity_Cython_SGD_27CFW_D_Similarity_Cython_SGD_6fit\u001b[m\u001b[K’:\r\n",
      "\u001b[01m\u001b[KCFW_D_Similarity_Cython_SGD.c:23373:55:\u001b[m\u001b[K \u001b[01;35m\u001b[Kwarning: \u001b[m\u001b[K‘\u001b[01m\u001b[K__pyx_v_sample_num\u001b[m\u001b[K’ may be used uninitialized in this function [\u001b[01;35m\u001b[K\u001b]8;;https://gcc.gnu.org/onlinedocs/gcc/Warning-Options.html#index-Wmaybe-uninitialized\u0007-Wmaybe-uninitialized\u001b]8;;\u0007\u001b[m\u001b[K]\r\n",
      "23373 |   __pyx_t_3 = PyFloat_FromDouble((__pyx_v_cum_loss / \u001b[01;35m\u001b[K((double)__pyx_v_sample_num)\u001b[m\u001b[K)); if (unlikely(!__pyx_t_3)) __PYX_ERR(0, 290, __pyx_L1_error)\r\n",
      "      |                                                      \u001b[01;35m\u001b[K~^~~~~~~~~~~~~~~~~~~~~~~~~~~\u001b[m\u001b[K\r\n",
      "/usr/local/lib/python3.10/dist-packages/Cython/Compiler/Main.py:381: FutureWarning: Cython directive 'language_level' not set, using '3str' for now (Py3). This has changed from earlier releases! File: /kaggle/working/RECsys_Challenge2024/Recommenders/FeatureWeighting/Cython/CFW_D_Similarity_Cython_SGD.pyx\r\n",
      "  tree = Parsing.p_module(s, pxd, full_module_name)\r\n",
      "Compiling [10/11]: CFW_D_Similarity_Cython_SGD.pyx... PASS\r\n",
      "\r\n",
      "Compiling [11/11]: DataIterator.pyx... \r\n",
      "In file included from \u001b[01m\u001b[K/usr/local/lib/python3.10/dist-packages/numpy/core/include/numpy/ndarraytypes.h:1929\u001b[m\u001b[K,\r\n",
      "                 from \u001b[01m\u001b[K/usr/local/lib/python3.10/dist-packages/numpy/core/include/numpy/ndarrayobject.h:12\u001b[m\u001b[K,\r\n",
      "                 from \u001b[01m\u001b[K/usr/local/lib/python3.10/dist-packages/numpy/core/include/numpy/arrayobject.h:5\u001b[m\u001b[K,\r\n",
      "                 from \u001b[01m\u001b[KDataIterator.c:1252\u001b[m\u001b[K:\r\n",
      "\u001b[01m\u001b[K/usr/local/lib/python3.10/dist-packages/numpy/core/include/numpy/npy_1_7_deprecated_api.h:17:2:\u001b[m\u001b[K \u001b[01;35m\u001b[Kwarning: \u001b[m\u001b[K#warning \"Using deprecated NumPy API, disable it with \" \"#define NPY_NO_DEPRECATED_API NPY_1_7_API_VERSION\" [\u001b[01;35m\u001b[K\u001b]8;;https://gcc.gnu.org/onlinedocs/gcc/Warning-Options.html#index-Wcpp\u0007-Wcpp\u001b]8;;\u0007\u001b[m\u001b[K]\r\n",
      "   17 | #\u001b[01;35m\u001b[Kwarning\u001b[m\u001b[K \"Using deprecated NumPy API, disable it with \" \\\r\n",
      "      |  \u001b[01;35m\u001b[K^~~~~~~\u001b[m\u001b[K\r\n",
      "\u001b[01m\u001b[KDataIterator.c:\u001b[m\u001b[K In function ‘\u001b[01m\u001b[K__pyx_pf_12DataIterator_19InteractionIterator_6__next__\u001b[m\u001b[K’:\r\n",
      "\u001b[01m\u001b[KDataIterator.c:20937:22:\u001b[m\u001b[K \u001b[01;35m\u001b[Kwarning: \u001b[m\u001b[K‘\u001b[01m\u001b[K__pyx_v_i_batch\u001b[m\u001b[K’ may be used uninitialized in this function [\u001b[01;35m\u001b[K\u001b]8;;https://gcc.gnu.org/onlinedocs/gcc/Warning-Options.html#index-Wmaybe-uninitialized\u0007-Wmaybe-uninitialized\u001b]8;;\u0007\u001b[m\u001b[K]\r\n",
      "20937 |     (__pyx_v_i_batch \u001b[01;35m\u001b[K+\u001b[m\u001b[K 1),\r\n",
      "      |                      \u001b[01;35m\u001b[K^\u001b[m\u001b[K\r\n",
      "\u001b[01m\u001b[KDataIterator.c:\u001b[m\u001b[K In function ‘\u001b[01m\u001b[K__pyx_pf_12DataIterator_30InteractionAndNegativeIterator_6__next__\u001b[m\u001b[K’:\r\n",
      "\u001b[01m\u001b[KDataIterator.c:25499:22:\u001b[m\u001b[K \u001b[01;35m\u001b[Kwarning: \u001b[m\u001b[K‘\u001b[01m\u001b[K__pyx_v_i_batch\u001b[m\u001b[K’ may be used uninitialized in this function [\u001b[01;35m\u001b[K\u001b]8;;https://gcc.gnu.org/onlinedocs/gcc/Warning-Options.html#index-Wmaybe-uninitialized\u0007-Wmaybe-uninitialized\u001b]8;;\u0007\u001b[m\u001b[K]\r\n",
      "25499 |     (__pyx_v_i_batch \u001b[01;35m\u001b[K+\u001b[m\u001b[K 1),\r\n",
      "      |                      \u001b[01;35m\u001b[K^\u001b[m\u001b[K\r\n",
      "\u001b[01m\u001b[KDataIterator.c:\u001b[m\u001b[K In function ‘\u001b[01m\u001b[K__pyx_pf_12DataIterator_11BPRIterator_6__next__\u001b[m\u001b[K’:\r\n",
      "\u001b[01m\u001b[KDataIterator.c:23056:22:\u001b[m\u001b[K \u001b[01;35m\u001b[Kwarning: \u001b[m\u001b[K‘\u001b[01m\u001b[K__pyx_v_i_batch\u001b[m\u001b[K’ may be used uninitialized in this function [\u001b[01;35m\u001b[K\u001b]8;;https://gcc.gnu.org/onlinedocs/gcc/Warning-Options.html#index-Wmaybe-uninitialized\u0007-Wmaybe-uninitialized\u001b]8;;\u0007\u001b[m\u001b[K]\r\n",
      "23056 |     (__pyx_v_i_batch \u001b[01;35m\u001b[K+\u001b[m\u001b[K 1),\r\n",
      "      |                      \u001b[01;35m\u001b[K^\u001b[m\u001b[K\r\n",
      "/usr/local/lib/python3.10/dist-packages/Cython/Compiler/Main.py:381: FutureWarning: Cython directive 'language_level' not set, using '3str' for now (Py3). This has changed from earlier releases! File: /kaggle/working/RECsys_Challenge2024/Utils/PyTorch/Cython/DataIterator.pyx\r\n",
      "  tree = Parsing.p_module(s, pxd, full_module_name)\r\n",
      "Compiling [11/11]: DataIterator.pyx... PASS\r\n",
      "\r\n",
      "run_compile_all_cython: Compilation finished. FAILS 2/11.\r\n",
      "Compilation log can be found here: './result_experiments/run_compile_all_cython.txt'\r\n"
     ]
    }
   ],
   "source": [
    "%cd /kaggle/working/RECsys_Challenge2024 \n",
    "! python run_compile_all_cython.py"
   ]
  },
  {
   "cell_type": "code",
   "execution_count": 5,
   "id": "1e482166",
   "metadata": {
    "execution": {
     "iopub.execute_input": "2025-01-04T11:58:05.707523Z",
     "iopub.status.busy": "2025-01-04T11:58:05.707164Z",
     "iopub.status.idle": "2025-01-04T11:58:07.206324Z",
     "shell.execute_reply": "2025-01-04T11:58:07.205201Z"
    },
    "papermill": {
     "duration": 1.517286,
     "end_time": "2025-01-04T11:58:07.208386",
     "exception": false,
     "start_time": "2025-01-04T11:58:05.691100",
     "status": "completed"
    },
    "tags": []
   },
   "outputs": [],
   "source": [
    "from Utils.notebookFunctions import *\n",
    "import numpy as np\n",
    "import pandas as pd\n",
    "import scipy.sparse as sps\n",
    "import time\n",
    "import shutil\n",
    "import optuna\n",
    "import json\n",
    "import os\n",
    "from Utils.seconds_to_biggest_unit import seconds_to_biggest_unit\n",
    "\n",
    "\n",
    "K_PATH = '/kaggle/working/RECsys_Challenge2024'\n",
    "GH_PATH = 'TrainedModels/WithKFCV/KNN'\n",
    "\n",
    "np.random.seed(42)"
   ]
  },
  {
   "cell_type": "markdown",
   "id": "b692ec41",
   "metadata": {
    "papermill": {
     "duration": 0.014293,
     "end_time": "2025-01-04T11:58:07.237504",
     "exception": false,
     "start_time": "2025-01-04T11:58:07.223211",
     "status": "completed"
    },
    "tags": []
   },
   "source": [
    "## Import the repository **RECsys_Challenge2024**"
   ]
  },
  {
   "cell_type": "code",
   "execution_count": 6,
   "id": "781908ae",
   "metadata": {
    "execution": {
     "iopub.execute_input": "2025-01-04T11:58:07.268084Z",
     "iopub.status.busy": "2025-01-04T11:58:07.267497Z",
     "iopub.status.idle": "2025-01-04T11:58:07.573346Z",
     "shell.execute_reply": "2025-01-04T11:58:07.572043Z"
    },
    "papermill": {
     "duration": 0.322898,
     "end_time": "2025-01-04T11:58:07.575085",
     "exception": false,
     "start_time": "2025-01-04T11:58:07.252187",
     "status": "completed"
    },
    "tags": []
   },
   "outputs": [
    {
     "name": "stdout",
     "output_type": "stream",
     "text": [
      "Repository 'RECsys_Challenge2024' found.\n"
     ]
    }
   ],
   "source": [
    "repo = get_repo_from_github(token)"
   ]
  },
  {
   "cell_type": "code",
   "execution_count": 7,
   "id": "2194db0f",
   "metadata": {
    "execution": {
     "iopub.execute_input": "2025-01-04T11:58:07.605847Z",
     "iopub.status.busy": "2025-01-04T11:58:07.605456Z",
     "iopub.status.idle": "2025-01-04T11:58:07.610380Z",
     "shell.execute_reply": "2025-01-04T11:58:07.609216Z"
    },
    "papermill": {
     "duration": 0.022476,
     "end_time": "2025-01-04T11:58:07.612390",
     "exception": false,
     "start_time": "2025-01-04T11:58:07.589914",
     "status": "completed"
    },
    "tags": []
   },
   "outputs": [],
   "source": [
    "config = {\n",
    "    'model': 'ItemKNNCF',\n",
    "    'n_folds': 5,\n",
    "    'metric': 'MAP',\n",
    "    'tune_parameters': True,\n",
    "    'database_path': '/kaggle/working/history_ItemKNNCF_MAP.db',\n",
    "    'copy_prev_best_params': False,\n",
    "    'tune_best_params': True,\n",
    "    'save_github': True\n",
    "}"
   ]
  },
  {
   "cell_type": "markdown",
   "id": "6a2aa693",
   "metadata": {
    "papermill": {
     "duration": 0.014776,
     "end_time": "2025-01-04T11:58:07.642180",
     "exception": false,
     "start_time": "2025-01-04T11:58:07.627404",
     "status": "completed"
    },
    "tags": []
   },
   "source": [
    "Import the database where previous tuning trials have been saved."
   ]
  },
  {
   "cell_type": "code",
   "execution_count": 8,
   "id": "e08a8045",
   "metadata": {
    "execution": {
     "iopub.execute_input": "2025-01-04T11:58:07.673448Z",
     "iopub.status.busy": "2025-01-04T11:58:07.673107Z",
     "iopub.status.idle": "2025-01-04T11:58:07.678792Z",
     "shell.execute_reply": "2025-01-04T11:58:07.677644Z"
    },
    "papermill": {
     "duration": 0.023491,
     "end_time": "2025-01-04T11:58:07.680555",
     "exception": false,
     "start_time": "2025-01-04T11:58:07.657064",
     "status": "completed"
    },
    "tags": []
   },
   "outputs": [],
   "source": [
    "try:\n",
    "    shutil.copyfile(\n",
    "        f'{K_PATH}/{GH_PATH}/{config[\"model\"]}Recommender/Optimizing{config[\"metric\"]}/history_{config[\"model\"]}_{config[\"metric\"]}.db', \n",
    "        config['database_path']\n",
    "    )\n",
    "except FileNotFoundError:\n",
    "    pass # if not present optuna will create it"
   ]
  },
  {
   "cell_type": "markdown",
   "id": "d9e41f63",
   "metadata": {
    "papermill": {
     "duration": 0.014176,
     "end_time": "2025-01-04T11:58:07.709782",
     "exception": false,
     "start_time": "2025-01-04T11:58:07.695606",
     "status": "completed"
    },
    "tags": []
   },
   "source": [
    "# Construction of URM and ICM matrices"
   ]
  },
  {
   "cell_type": "code",
   "execution_count": 9,
   "id": "85811ef5",
   "metadata": {
    "execution": {
     "iopub.execute_input": "2025-01-04T11:58:07.740440Z",
     "iopub.status.busy": "2025-01-04T11:58:07.740084Z",
     "iopub.status.idle": "2025-01-04T11:58:08.586215Z",
     "shell.execute_reply": "2025-01-04T11:58:08.585025Z"
    },
    "papermill": {
     "duration": 0.863705,
     "end_time": "2025-01-04T11:58:08.588105",
     "exception": false,
     "start_time": "2025-01-04T11:58:07.724400",
     "status": "completed"
    },
    "tags": []
   },
   "outputs": [
    {
     "data": {
      "text/plain": [
       "<35736x38121 sparse matrix of type '<class 'numpy.float64'>'\n",
       "\twith 1764607 stored elements in Compressed Sparse Row format>"
      ]
     },
     "execution_count": 9,
     "metadata": {},
     "output_type": "execute_result"
    }
   ],
   "source": [
    "URM_all_dataframe = pd.read_csv(\"/kaggle/input/recommender-system-2024-challenge-polimi/data_train.csv\")\n",
    "\n",
    "n_users = len(URM_all_dataframe[\"user_id\"].unique())\n",
    "n_items = len(URM_all_dataframe[\"item_id\"].unique())\n",
    "\n",
    "URM_all = sps.csr_matrix((URM_all_dataframe[\"data\"].values, \n",
    "                          (URM_all_dataframe[\"user_id\"].values, URM_all_dataframe[\"item_id\"].values)),\n",
    "                        shape = (n_users, n_items))\n",
    "\n",
    "URM_all"
   ]
  },
  {
   "cell_type": "code",
   "execution_count": 10,
   "id": "2e8360f4",
   "metadata": {
    "execution": {
     "iopub.execute_input": "2025-01-04T11:58:08.619513Z",
     "iopub.status.busy": "2025-01-04T11:58:08.619148Z",
     "iopub.status.idle": "2025-01-04T11:58:09.869899Z",
     "shell.execute_reply": "2025-01-04T11:58:09.868732Z"
    },
    "papermill": {
     "duration": 1.268746,
     "end_time": "2025-01-04T11:58:09.871957",
     "exception": false,
     "start_time": "2025-01-04T11:58:08.603211",
     "status": "completed"
    },
    "tags": []
   },
   "outputs": [
    {
     "data": {
      "text/plain": [
       "<38121x94331 sparse matrix of type '<class 'numpy.float64'>'\n",
       "\twith 2940040 stored elements in Compressed Sparse Row format>"
      ]
     },
     "execution_count": 10,
     "metadata": {},
     "output_type": "execute_result"
    }
   ],
   "source": [
    "ICM_dataframe = pd.read_csv(\"/kaggle/input/recommender-system-2024-challenge-polimi/data_ICM_metadata.csv\")\n",
    "\n",
    "n_items = len(ICM_dataframe[\"item_id\"].unique())\n",
    "n_features = len(ICM_dataframe[\"feature_id\"].unique())\n",
    "\n",
    "ICM_all = sps.csr_matrix((ICM_dataframe[\"data\"].values, \n",
    "                          (ICM_dataframe[\"item_id\"].values, ICM_dataframe[\"feature_id\"].values)),\n",
    "                        shape = (n_items, n_features))\n",
    "\n",
    "ICM_all"
   ]
  },
  {
   "cell_type": "markdown",
   "id": "51966268",
   "metadata": {
    "papermill": {
     "duration": 0.014665,
     "end_time": "2025-01-04T11:58:09.908816",
     "exception": false,
     "start_time": "2025-01-04T11:58:09.894151",
     "status": "completed"
    },
    "tags": []
   },
   "source": [
    "# Training"
   ]
  },
  {
   "cell_type": "code",
   "execution_count": 11,
   "id": "da9b476a",
   "metadata": {
    "execution": {
     "iopub.execute_input": "2025-01-04T11:58:09.941097Z",
     "iopub.status.busy": "2025-01-04T11:58:09.940663Z",
     "iopub.status.idle": "2025-01-04T11:58:28.467138Z",
     "shell.execute_reply": "2025-01-04T11:58:28.466006Z"
    },
    "papermill": {
     "duration": 18.545204,
     "end_time": "2025-01-04T11:58:28.469245",
     "exception": false,
     "start_time": "2025-01-04T11:58:09.924041",
     "status": "completed"
    },
    "tags": []
   },
   "outputs": [
    {
     "name": "stdout",
     "output_type": "stream",
     "text": [
      "Warning: 141 (0.39 %) of 35736 users have no sampled items\n"
     ]
    }
   ],
   "source": [
    "from Evaluation.Evaluator import EvaluatorHoldout\n",
    "from Data_manager.split_functions.split_train_validation_random_holdout import split_train_in_two_percentage_global_sample\n",
    "from Data_manager.split_functions.split_train_k_folds import split_train_k_folds\n",
    "\n",
    "URM_train, URM_validation = split_train_in_two_percentage_global_sample(URM_all, train_percentage = 0.80)\n",
    "\n",
    "folds = split_train_k_folds(URM_all, k=config['n_folds'])"
   ]
  },
  {
   "cell_type": "code",
   "execution_count": 12,
   "id": "74a92100",
   "metadata": {
    "execution": {
     "iopub.execute_input": "2025-01-04T11:58:28.502851Z",
     "iopub.status.busy": "2025-01-04T11:58:28.502413Z",
     "iopub.status.idle": "2025-01-04T11:58:28.521096Z",
     "shell.execute_reply": "2025-01-04T11:58:28.519999Z"
    },
    "papermill": {
     "duration": 0.037635,
     "end_time": "2025-01-04T11:58:28.523028",
     "exception": false,
     "start_time": "2025-01-04T11:58:28.485393",
     "status": "completed"
    },
    "tags": []
   },
   "outputs": [],
   "source": [
    "from Recommenders.KNN.ItemKNNCFRecommender import ItemKNNCFRecommender\n",
    "\n",
    "def objective_function_ItemKNNCF(optuna_trial):\n",
    "    \n",
    "    similarity = optuna_trial.suggest_categorical(\"similarity\", ['cosine', 'dice', 'jaccard', 'asymmetric', 'tversky', 'euclidean'])\n",
    "    \n",
    "    full_hyperp = {\"similarity\": similarity,\n",
    "                   \"topK\": optuna_trial.suggest_int(\"topK\", 0, 750),\n",
    "                   \"shrink\": optuna_trial.suggest_int(\"shrink\", 0, 1000),\n",
    "                   'feature_weighting': optuna_trial.suggest_categorical('feature_weighting', [\"BM25\", \"TF-IDF\", \"none\"])\n",
    "                  }\n",
    "    \n",
    "    if similarity == \"asymmetric\":\n",
    "        full_hyperp[\"asymmetric_alpha\"] = optuna_trial.suggest_float(\"asymmetric_alpha\", 0, 2, log=False)\n",
    "        full_hyperp[\"normalize\"] = True     \n",
    "\n",
    "    elif similarity == \"tversky\":\n",
    "        full_hyperp[\"tversky_alpha\"] = optuna_trial.suggest_float(\"tversky_alpha\", 0, 2, log=False)\n",
    "        full_hyperp[\"tversky_beta\"] = optuna_trial.suggest_float(\"tversky_beta\", 0, 2, log=False)\n",
    "        full_hyperp[\"normalize\"] = True \n",
    "\n",
    "    elif similarity == \"euclidean\":\n",
    "        full_hyperp[\"normalize_avg_row\"] = optuna_trial.suggest_categorical(\"normalize_avg_row\", [True, False])\n",
    "        full_hyperp[\"similarity_from_distance_mode\"] = optuna_trial.suggest_categorical(\"similarity_from_distance_mode\", [\"lin\", \"log\", \"exp\"])\n",
    "        full_hyperp[\"normalize\"] = optuna_trial.suggest_categorical(\"normalize\", [True, False])\n",
    "        \n",
    "    \n",
    "    validation_results = []\n",
    "    \n",
    "    for fold_idx, (URM_train_fold, URM_validation_fold) in enumerate(folds):\n",
    "    \n",
    "        recommender_instance = ItemKNNCFRecommender(URM_train_fold)\n",
    "        recommender_instance.fit(**full_hyperp)\n",
    "        \n",
    "        evaluator = EvaluatorHoldout(URM_validation_fold, cutoff_list=[10])\n",
    "        result_df, _ = evaluator.evaluateRecommender(recommender_instance)\n",
    "        \n",
    "        validation_results.append(result_df.loc[10][\"MAP\"])\n",
    "    \n",
    "    return np.mean(validation_results)"
   ]
  },
  {
   "cell_type": "code",
   "execution_count": 13,
   "id": "f166871e",
   "metadata": {
    "_kg_hide-output": true,
    "execution": {
     "iopub.execute_input": "2025-01-04T11:58:28.555282Z",
     "iopub.status.busy": "2025-01-04T11:58:28.554926Z",
     "iopub.status.idle": "2025-01-04T18:46:08.734405Z",
     "shell.execute_reply": "2025-01-04T18:46:08.732901Z"
    },
    "papermill": {
     "duration": 24460.245864,
     "end_time": "2025-01-04T18:46:08.784559",
     "exception": false,
     "start_time": "2025-01-04T11:58:28.538695",
     "status": "completed"
    },
    "tags": []
   },
   "outputs": [
    {
     "name": "stderr",
     "output_type": "stream",
     "text": [
      "[I 2025-01-04 11:58:29,586] Using an existing study with name 'hyperparameters_tuning_ItemKNNCF_MAP' instead of creating a new one.\n"
     ]
    },
    {
     "name": "stdout",
     "output_type": "stream",
     "text": [
      "Similarity column 38121 (100.0%), 2874.30 column/sec. Elapsed time 13.26 sec\n",
      "EvaluatorHoldout: Ignoring 173 ( 0.5%) Users that have less than 1 test interactions\n",
      "EvaluatorHoldout: Processed 35563 (100.0%) in 33.84 sec. Users per second: 1051\n",
      "Similarity column 38121 (100.0%), 2923.44 column/sec. Elapsed time 13.04 sec\n",
      "EvaluatorHoldout: Ignoring 163 ( 0.5%) Users that have less than 1 test interactions\n",
      "EvaluatorHoldout: Processed 35573 (100.0%) in 34.54 sec. Users per second: 1030\n",
      "Similarity column 38121 (100.0%), 2848.01 column/sec. Elapsed time 13.39 sec\n",
      "EvaluatorHoldout: Ignoring 150 ( 0.4%) Users that have less than 1 test interactions\n",
      "EvaluatorHoldout: Processed 35586 (100.0%) in 34.24 sec. Users per second: 1039\n",
      "Similarity column 38121 (100.0%), 2901.06 column/sec. Elapsed time 13.14 sec\n",
      "EvaluatorHoldout: Ignoring 167 ( 0.5%) Users that have less than 1 test interactions\n",
      "EvaluatorHoldout: Processed 35569 (100.0%) in 34.60 sec. Users per second: 1028\n",
      "Similarity column 38121 (100.0%), 2846.64 column/sec. Elapsed time 13.39 sec\n",
      "EvaluatorHoldout: Ignoring 172 ( 0.5%) Users that have less than 1 test interactions\n",
      "EvaluatorHoldout: Processed 35564 (100.0%) in 34.09 sec. Users per second: 1043\n"
     ]
    },
    {
     "name": "stderr",
     "output_type": "stream",
     "text": [
      "[I 2025-01-04 12:02:30,000] Trial 100 finished with value: 0.04800919581518322 and parameters: {'similarity': 'jaccard', 'topK': 42, 'shrink': 33, 'feature_weighting': 'TF-IDF'}. Best is trial 23 with value: 0.05167910318356951.\n"
     ]
    },
    {
     "name": "stdout",
     "output_type": "stream",
     "text": [
      "Similarity column 38121 (100.0%), 2894.55 column/sec. Elapsed time 13.17 sec\n",
      "EvaluatorHoldout: Ignoring 173 ( 0.5%) Users that have less than 1 test interactions\n",
      "EvaluatorHoldout: Processed 35563 (100.0%) in 31.25 sec. Users per second: 1138\n",
      "Similarity column 38121 (100.0%), 2905.42 column/sec. Elapsed time 13.12 sec\n",
      "EvaluatorHoldout: Ignoring 163 ( 0.5%) Users that have less than 1 test interactions\n",
      "EvaluatorHoldout: Processed 35573 (100.0%) in 31.49 sec. Users per second: 1130\n",
      "Similarity column 38121 (100.0%), 2899.73 column/sec. Elapsed time 13.15 sec\n",
      "EvaluatorHoldout: Ignoring 150 ( 0.4%) Users that have less than 1 test interactions\n",
      "EvaluatorHoldout: Processed 35586 (100.0%) in 31.41 sec. Users per second: 1133\n",
      "Similarity column 38121 (100.0%), 2911.71 column/sec. Elapsed time 13.09 sec\n",
      "EvaluatorHoldout: Ignoring 167 ( 0.5%) Users that have less than 1 test interactions\n",
      "EvaluatorHoldout: Processed 35569 (100.0%) in 31.74 sec. Users per second: 1121\n",
      "Similarity column 38121 (100.0%), 2869.53 column/sec. Elapsed time 13.28 sec\n",
      "EvaluatorHoldout: Ignoring 172 ( 0.5%) Users that have less than 1 test interactions\n",
      "EvaluatorHoldout: Processed 35564 (100.0%) in 31.65 sec. Users per second: 1124\n"
     ]
    },
    {
     "name": "stderr",
     "output_type": "stream",
     "text": [
      "[I 2025-01-04 12:06:14,898] Trial 101 finished with value: 0.04963598798308874 and parameters: {'similarity': 'cosine', 'topK': 15, 'shrink': 55, 'feature_weighting': 'TF-IDF'}. Best is trial 23 with value: 0.05167910318356951.\n"
     ]
    },
    {
     "name": "stdout",
     "output_type": "stream",
     "text": [
      "Similarity column 38121 (100.0%), 3735.53 column/sec. Elapsed time 10.20 sec\n",
      "EvaluatorHoldout: Ignoring 173 ( 0.5%) Users that have less than 1 test interactions\n",
      "EvaluatorHoldout: Processed 35563 (100.0%) in 24.93 sec. Users per second: 1426\n",
      "Similarity column 38121 (100.0%), 3722.45 column/sec. Elapsed time 10.24 sec\n",
      "EvaluatorHoldout: Ignoring 163 ( 0.5%) Users that have less than 1 test interactions\n",
      "EvaluatorHoldout: Processed 35573 (100.0%) in 24.64 sec. Users per second: 1444\n",
      "Similarity column 38121 (100.0%), 3707.91 column/sec. Elapsed time 10.28 sec\n",
      "EvaluatorHoldout: Ignoring 150 ( 0.4%) Users that have less than 1 test interactions\n",
      "EvaluatorHoldout: Processed 35586 (100.0%) in 24.70 sec. Users per second: 1441\n",
      "Similarity column 38121 (100.0%), 3708.26 column/sec. Elapsed time 10.28 sec\n",
      "EvaluatorHoldout: Ignoring 167 ( 0.5%) Users that have less than 1 test interactions\n",
      "EvaluatorHoldout: Processed 35569 (100.0%) in 24.59 sec. Users per second: 1447\n",
      "Similarity column 38121 (100.0%), 3678.66 column/sec. Elapsed time 10.36 sec\n",
      "EvaluatorHoldout: Ignoring 172 ( 0.5%) Users that have less than 1 test interactions\n",
      "EvaluatorHoldout: Processed 35564 (100.0%) in 24.52 sec. Users per second: 1451\n"
     ]
    },
    {
     "name": "stderr",
     "output_type": "stream",
     "text": [
      "[I 2025-01-04 12:09:11,075] Trial 102 finished with value: 0.0002664826418719655 and parameters: {'similarity': 'cosine', 'topK': 0, 'shrink': 58, 'feature_weighting': 'TF-IDF'}. Best is trial 23 with value: 0.05167910318356951.\n"
     ]
    },
    {
     "name": "stdout",
     "output_type": "stream",
     "text": [
      "Similarity column 38121 (100.0%), 2875.52 column/sec. Elapsed time 13.26 sec\n",
      "EvaluatorHoldout: Ignoring 173 ( 0.5%) Users that have less than 1 test interactions\n",
      "EvaluatorHoldout: Processed 35563 (100.0%) in 31.42 sec. Users per second: 1132\n",
      "Similarity column 38121 (100.0%), 2863.48 column/sec. Elapsed time 13.31 sec\n",
      "EvaluatorHoldout: Ignoring 163 ( 0.5%) Users that have less than 1 test interactions\n",
      "EvaluatorHoldout: Processed 35573 (100.0%) in 31.58 sec. Users per second: 1126\n",
      "Similarity column 38121 (100.0%), 2862.54 column/sec. Elapsed time 13.32 sec\n",
      "EvaluatorHoldout: Ignoring 150 ( 0.4%) Users that have less than 1 test interactions\n",
      "EvaluatorHoldout: Processed 35586 (100.0%) in 31.61 sec. Users per second: 1126\n",
      "Similarity column 38121 (100.0%), 2882.89 column/sec. Elapsed time 13.22 sec\n",
      "EvaluatorHoldout: Ignoring 167 ( 0.5%) Users that have less than 1 test interactions\n",
      "EvaluatorHoldout: Processed 35569 (100.0%) in 31.66 sec. Users per second: 1124\n",
      "Similarity column 38121 (100.0%), 2844.76 column/sec. Elapsed time 13.40 sec\n",
      "EvaluatorHoldout: Ignoring 172 ( 0.5%) Users that have less than 1 test interactions\n",
      "EvaluatorHoldout: Processed 35564 (100.0%) in 31.66 sec. Users per second: 1123\n"
     ]
    },
    {
     "name": "stderr",
     "output_type": "stream",
     "text": [
      "[I 2025-01-04 12:12:57,047] Trial 103 finished with value: 0.049504241473341926 and parameters: {'similarity': 'cosine', 'topK': 15, 'shrink': 24, 'feature_weighting': 'TF-IDF'}. Best is trial 23 with value: 0.05167910318356951.\n"
     ]
    },
    {
     "name": "stdout",
     "output_type": "stream",
     "text": [
      "Similarity column 38121 (100.0%), 2845.87 column/sec. Elapsed time 13.40 sec\n",
      "EvaluatorHoldout: Ignoring 173 ( 0.5%) Users that have less than 1 test interactions\n",
      "EvaluatorHoldout: Processed 35563 (100.0%) in 34.41 sec. Users per second: 1033\n",
      "Similarity column 38121 (100.0%), 2855.92 column/sec. Elapsed time 13.35 sec\n",
      "EvaluatorHoldout: Ignoring 163 ( 0.5%) Users that have less than 1 test interactions\n",
      "EvaluatorHoldout: Processed 35573 (100.0%) in 34.70 sec. Users per second: 1025\n",
      "Similarity column 38121 (100.0%), 2863.10 column/sec. Elapsed time 13.31 sec\n",
      "EvaluatorHoldout: Ignoring 150 ( 0.4%) Users that have less than 1 test interactions\n",
      "EvaluatorHoldout: Processed 35586 (100.0%) in 34.65 sec. Users per second: 1027\n",
      "Similarity column 38121 (100.0%), 2856.71 column/sec. Elapsed time 13.34 sec\n",
      "EvaluatorHoldout: Ignoring 167 ( 0.5%) Users that have less than 1 test interactions\n",
      "EvaluatorHoldout: Processed 35569 (100.0%) in 34.56 sec. Users per second: 1029\n",
      "Similarity column 38121 (100.0%), 2876.33 column/sec. Elapsed time 13.25 sec\n",
      "EvaluatorHoldout: Ignoring 172 ( 0.5%) Users that have less than 1 test interactions\n",
      "EvaluatorHoldout: Processed 35564 (100.0%) in 34.54 sec. Users per second: 1030\n"
     ]
    },
    {
     "name": "stderr",
     "output_type": "stream",
     "text": [
      "[I 2025-01-04 12:16:58,393] Trial 104 finished with value: 0.04751151390853433 and parameters: {'similarity': 'cosine', 'topK': 54, 'shrink': 71, 'feature_weighting': 'TF-IDF'}. Best is trial 23 with value: 0.05167910318356951.\n"
     ]
    },
    {
     "name": "stdout",
     "output_type": "stream",
     "text": [
      "Similarity column 38121 (100.0%), 2693.96 column/sec. Elapsed time 14.15 sec\n",
      "EvaluatorHoldout: Ignoring 173 ( 0.5%) Users that have less than 1 test interactions\n",
      "EvaluatorHoldout: Processed 35563 (100.0%) in 51.43 sec. Users per second: 691\n",
      "Similarity column 38121 (100.0%), 2684.41 column/sec. Elapsed time 14.20 sec\n",
      "EvaluatorHoldout: Ignoring 163 ( 0.5%) Users that have less than 1 test interactions\n",
      "EvaluatorHoldout: Processed 35573 (100.0%) in 50.98 sec. Users per second: 698\n",
      "Similarity column 38121 (100.0%), 2681.51 column/sec. Elapsed time 14.22 sec\n",
      "EvaluatorHoldout: Ignoring 150 ( 0.4%) Users that have less than 1 test interactions\n",
      "EvaluatorHoldout: Processed 35586 (100.0%) in 51.26 sec. Users per second: 694\n",
      "Similarity column 38121 (100.0%), 2687.96 column/sec. Elapsed time 14.18 sec\n",
      "EvaluatorHoldout: Ignoring 167 ( 0.5%) Users that have less than 1 test interactions\n",
      "EvaluatorHoldout: Processed 35569 (100.0%) in 50.97 sec. Users per second: 698\n",
      "Similarity column 38121 (100.0%), 2692.84 column/sec. Elapsed time 14.16 sec\n",
      "EvaluatorHoldout: Ignoring 172 ( 0.5%) Users that have less than 1 test interactions\n",
      "EvaluatorHoldout: Processed 35564 (100.0%) in 51.05 sec. Users per second: 697\n"
     ]
    },
    {
     "name": "stderr",
     "output_type": "stream",
     "text": [
      "[I 2025-01-04 12:22:31,924] Trial 105 finished with value: 0.043710622878157565 and parameters: {'similarity': 'cosine', 'topK': 678, 'shrink': 16, 'feature_weighting': 'TF-IDF'}. Best is trial 23 with value: 0.05167910318356951.\n"
     ]
    },
    {
     "name": "stdout",
     "output_type": "stream",
     "text": [
      "Similarity column 38121 (100.0%), 2878.07 column/sec. Elapsed time 13.25 sec\n",
      "EvaluatorHoldout: Ignoring 173 ( 0.5%) Users that have less than 1 test interactions\n",
      "EvaluatorHoldout: Processed 35563 (100.0%) in 33.54 sec. Users per second: 1060\n",
      "Similarity column 38121 (100.0%), 2842.09 column/sec. Elapsed time 13.41 sec\n",
      "EvaluatorHoldout: Ignoring 163 ( 0.5%) Users that have less than 1 test interactions\n",
      "EvaluatorHoldout: Processed 35573 (100.0%) in 33.87 sec. Users per second: 1050\n",
      "Similarity column 38121 (100.0%), 2853.97 column/sec. Elapsed time 13.36 sec\n",
      "EvaluatorHoldout: Ignoring 150 ( 0.4%) Users that have less than 1 test interactions\n",
      "EvaluatorHoldout: Processed 35586 (100.0%) in 33.69 sec. Users per second: 1056\n",
      "Similarity column 38121 (100.0%), 2839.91 column/sec. Elapsed time 13.42 sec\n",
      "EvaluatorHoldout: Ignoring 167 ( 0.5%) Users that have less than 1 test interactions\n",
      "EvaluatorHoldout: Processed 35569 (100.0%) in 33.81 sec. Users per second: 1052\n",
      "Similarity column 38121 (100.0%), 2857.43 column/sec. Elapsed time 13.34 sec\n",
      "EvaluatorHoldout: Ignoring 172 ( 0.5%) Users that have less than 1 test interactions\n",
      "EvaluatorHoldout: Processed 35564 (100.0%) in 33.85 sec. Users per second: 1051\n"
     ]
    },
    {
     "name": "stderr",
     "output_type": "stream",
     "text": [
      "[I 2025-01-04 12:26:29,247] Trial 106 finished with value: 0.04793737819207235 and parameters: {'similarity': 'cosine', 'topK': 40, 'shrink': 50, 'feature_weighting': 'TF-IDF'}. Best is trial 23 with value: 0.05167910318356951.\n"
     ]
    },
    {
     "name": "stdout",
     "output_type": "stream",
     "text": [
      "Similarity column 38121 (100.0%), 2831.76 column/sec. Elapsed time 13.46 sec\n",
      "EvaluatorHoldout: Ignoring 173 ( 0.5%) Users that have less than 1 test interactions\n",
      "EvaluatorHoldout: Processed 35563 (100.0%) in 36.56 sec. Users per second: 973\n",
      "Similarity column 38121 (100.0%), 2849.14 column/sec. Elapsed time 13.38 sec\n",
      "EvaluatorHoldout: Ignoring 163 ( 0.5%) Users that have less than 1 test interactions\n",
      "EvaluatorHoldout: Processed 35573 (100.0%) in 36.73 sec. Users per second: 968\n",
      "Similarity column 38121 (100.0%), 2794.86 column/sec. Elapsed time 13.64 sec\n",
      "EvaluatorHoldout: Ignoring 150 ( 0.4%) Users that have less than 1 test interactions\n",
      "EvaluatorHoldout: Processed 35586 (100.0%) in 36.75 sec. Users per second: 968\n",
      "Similarity column 38121 (100.0%), 2838.71 column/sec. Elapsed time 13.43 sec\n",
      "EvaluatorHoldout: Ignoring 167 ( 0.5%) Users that have less than 1 test interactions\n",
      "EvaluatorHoldout: Processed 35569 (100.0%) in 36.76 sec. Users per second: 968\n",
      "Similarity column 38121 (100.0%), 2706.68 column/sec. Elapsed time 14.08 sec\n",
      "EvaluatorHoldout: Ignoring 172 ( 0.5%) Users that have less than 1 test interactions\n",
      "EvaluatorHoldout: Processed 35564 (100.0%) in 37.30 sec. Users per second: 954\n"
     ]
    },
    {
     "name": "stderr",
     "output_type": "stream",
     "text": [
      "[I 2025-01-04 12:30:43,535] Trial 107 finished with value: 0.04664669663710096 and parameters: {'similarity': 'cosine', 'topK': 101, 'shrink': 100, 'feature_weighting': 'TF-IDF'}. Best is trial 23 with value: 0.05167910318356951.\n"
     ]
    },
    {
     "name": "stdout",
     "output_type": "stream",
     "text": [
      "Similarity column 38121 (100.0%), 2828.17 column/sec. Elapsed time 13.48 sec\n",
      "EvaluatorHoldout: Ignoring 173 ( 0.5%) Users that have less than 1 test interactions\n",
      "EvaluatorHoldout: Processed 35563 (100.0%) in 36.07 sec. Users per second: 986\n",
      "Similarity column 38121 (100.0%), 2839.07 column/sec. Elapsed time 13.43 sec\n",
      "EvaluatorHoldout: Ignoring 163 ( 0.5%) Users that have less than 1 test interactions\n",
      "EvaluatorHoldout: Processed 35573 (100.0%) in 35.82 sec. Users per second: 993\n",
      "Similarity column 38121 (100.0%), 2856.61 column/sec. Elapsed time 13.34 sec\n",
      "EvaluatorHoldout: Ignoring 150 ( 0.4%) Users that have less than 1 test interactions\n",
      "EvaluatorHoldout: Processed 35586 (100.0%) in 35.50 sec. Users per second: 1002\n",
      "Similarity column 38121 (100.0%), 2864.12 column/sec. Elapsed time 13.31 sec\n",
      "EvaluatorHoldout: Ignoring 167 ( 0.5%) Users that have less than 1 test interactions\n",
      "EvaluatorHoldout: Processed 35569 (100.0%) in 35.70 sec. Users per second: 996\n",
      "Similarity column 38121 (100.0%), 2836.41 column/sec. Elapsed time 13.44 sec\n",
      "EvaluatorHoldout: Ignoring 172 ( 0.5%) Users that have less than 1 test interactions\n",
      "EvaluatorHoldout: Processed 35564 (100.0%) in 35.37 sec. Users per second: 1005\n"
     ]
    },
    {
     "name": "stderr",
     "output_type": "stream",
     "text": [
      "[I 2025-01-04 12:34:51,066] Trial 108 finished with value: 0.0466421111068875 and parameters: {'similarity': 'cosine', 'topK': 81, 'shrink': 3, 'feature_weighting': 'TF-IDF'}. Best is trial 23 with value: 0.05167910318356951.\n"
     ]
    },
    {
     "name": "stdout",
     "output_type": "stream",
     "text": [
      "Similarity column 38121 (100.0%), 2671.44 column/sec. Elapsed time 14.27 sec\n",
      "EvaluatorHoldout: Ignoring 173 ( 0.5%) Users that have less than 1 test interactions\n",
      "EvaluatorHoldout: Processed 35563 (100.0%) in 31.03 sec. Users per second: 1146\n",
      "Similarity column 38121 (100.0%), 2665.87 column/sec. Elapsed time 14.30 sec\n",
      "EvaluatorHoldout: Ignoring 163 ( 0.5%) Users that have less than 1 test interactions\n",
      "EvaluatorHoldout: Processed 35573 (100.0%) in 31.10 sec. Users per second: 1144\n",
      "Similarity column 38121 (100.0%), 2706.15 column/sec. Elapsed time 14.09 sec\n",
      "EvaluatorHoldout: Ignoring 150 ( 0.4%) Users that have less than 1 test interactions\n",
      "EvaluatorHoldout: Processed 35586 (100.0%) in 30.89 sec. Users per second: 1152\n",
      "Similarity column 38121 (100.0%), 2694.12 column/sec. Elapsed time 14.15 sec\n",
      "EvaluatorHoldout: Ignoring 167 ( 0.5%) Users that have less than 1 test interactions\n",
      "EvaluatorHoldout: Processed 35569 (100.0%) in 30.95 sec. Users per second: 1149\n",
      "Similarity column 38121 (100.0%), 2706.31 column/sec. Elapsed time 14.09 sec\n",
      "EvaluatorHoldout: Ignoring 172 ( 0.5%) Users that have less than 1 test interactions\n",
      "EvaluatorHoldout: Processed 35564 (100.0%) in 30.86 sec. Users per second: 1152\n"
     ]
    },
    {
     "name": "stderr",
     "output_type": "stream",
     "text": [
      "[I 2025-01-04 12:38:39,157] Trial 109 finished with value: 0.05014495286754074 and parameters: {'similarity': 'tversky', 'topK': 9, 'shrink': 79, 'feature_weighting': 'TF-IDF', 'tversky_alpha': 1.4315234234867982, 'tversky_beta': 1.4047961874667565}. Best is trial 23 with value: 0.05167910318356951.\n"
     ]
    },
    {
     "name": "stdout",
     "output_type": "stream",
     "text": [
      "Similarity column 38121 (100.0%), 2686.58 column/sec. Elapsed time 14.19 sec\n",
      "EvaluatorHoldout: Ignoring 173 ( 0.5%) Users that have less than 1 test interactions\n",
      "EvaluatorHoldout: Processed 35563 (100.0%) in 30.94 sec. Users per second: 1149\n",
      "Similarity column 38121 (100.0%), 2694.77 column/sec. Elapsed time 14.15 sec\n",
      "EvaluatorHoldout: Ignoring 163 ( 0.5%) Users that have less than 1 test interactions\n",
      "EvaluatorHoldout: Processed 35573 (100.0%) in 31.50 sec. Users per second: 1129\n",
      "Similarity column 38121 (100.0%), 2668.69 column/sec. Elapsed time 14.28 sec\n",
      "EvaluatorHoldout: Ignoring 150 ( 0.4%) Users that have less than 1 test interactions\n",
      "EvaluatorHoldout: Processed 35586 (100.0%) in 31.50 sec. Users per second: 1130\n",
      "Similarity column 38121 (100.0%), 2633.12 column/sec. Elapsed time 14.48 sec\n",
      "EvaluatorHoldout: Ignoring 167 ( 0.5%) Users that have less than 1 test interactions\n",
      "EvaluatorHoldout: Processed 35569 (100.0%) in 31.16 sec. Users per second: 1141\n",
      "Similarity column 38121 (100.0%), 2697.54 column/sec. Elapsed time 14.13 sec\n",
      "EvaluatorHoldout: Ignoring 172 ( 0.5%) Users that have less than 1 test interactions\n",
      "EvaluatorHoldout: Processed 35564 (100.0%) in 31.29 sec. Users per second: 1136\n"
     ]
    },
    {
     "name": "stderr",
     "output_type": "stream",
     "text": [
      "[I 2025-01-04 12:42:29,234] Trial 110 finished with value: 0.05001918540506721 and parameters: {'similarity': 'tversky', 'topK': 10, 'shrink': 81, 'feature_weighting': 'TF-IDF', 'tversky_alpha': 1.4834472485589412, 'tversky_beta': 1.4413843932725054}. Best is trial 23 with value: 0.05167910318356951.\n"
     ]
    },
    {
     "name": "stdout",
     "output_type": "stream",
     "text": [
      "Similarity column 38121 (100.0%), 2695.13 column/sec. Elapsed time 14.14 sec\n",
      "EvaluatorHoldout: Ignoring 173 ( 0.5%) Users that have less than 1 test interactions\n",
      "EvaluatorHoldout: Processed 35563 (100.0%) in 31.50 sec. Users per second: 1129\n",
      "Similarity column 38121 (100.0%), 2676.85 column/sec. Elapsed time 14.24 sec\n",
      "EvaluatorHoldout: Ignoring 163 ( 0.5%) Users that have less than 1 test interactions\n",
      "EvaluatorHoldout: Processed 35573 (100.0%) in 31.70 sec. Users per second: 1122\n",
      "Similarity column 38121 (100.0%), 2675.12 column/sec. Elapsed time 14.25 sec\n",
      "EvaluatorHoldout: Ignoring 150 ( 0.4%) Users that have less than 1 test interactions\n",
      "EvaluatorHoldout: Processed 35586 (100.0%) in 31.69 sec. Users per second: 1123\n",
      "Similarity column 38121 (100.0%), 2704.35 column/sec. Elapsed time 14.10 sec\n",
      "EvaluatorHoldout: Ignoring 167 ( 0.5%) Users that have less than 1 test interactions\n",
      "EvaluatorHoldout: Processed 35569 (100.0%) in 31.97 sec. Users per second: 1113\n",
      "Similarity column 38121 (100.0%), 2654.06 column/sec. Elapsed time 14.36 sec\n",
      "EvaluatorHoldout: Ignoring 172 ( 0.5%) Users that have less than 1 test interactions\n",
      "EvaluatorHoldout: Processed 35564 (100.0%) in 31.55 sec. Users per second: 1127\n"
     ]
    },
    {
     "name": "stderr",
     "output_type": "stream",
     "text": [
      "[I 2025-01-04 12:46:21,197] Trial 111 finished with value: 0.04937054806796139 and parameters: {'similarity': 'tversky', 'topK': 13, 'shrink': 82, 'feature_weighting': 'TF-IDF', 'tversky_alpha': 1.4940557969958743, 'tversky_beta': 1.38702598200742}. Best is trial 23 with value: 0.05167910318356951.\n"
     ]
    },
    {
     "name": "stdout",
     "output_type": "stream",
     "text": [
      "Similarity column 38121 (100.0%), 2689.72 column/sec. Elapsed time 14.17 sec\n",
      "EvaluatorHoldout: Ignoring 173 ( 0.5%) Users that have less than 1 test interactions\n",
      "EvaluatorHoldout: Processed 35563 (100.0%) in 33.28 sec. Users per second: 1068\n",
      "Similarity column 38121 (100.0%), 2664.67 column/sec. Elapsed time 14.31 sec\n",
      "EvaluatorHoldout: Ignoring 163 ( 0.5%) Users that have less than 1 test interactions\n",
      "EvaluatorHoldout: Processed 35573 (100.0%) in 33.48 sec. Users per second: 1062\n",
      "Similarity column 38121 (100.0%), 2696.37 column/sec. Elapsed time 14.14 sec\n",
      "EvaluatorHoldout: Ignoring 150 ( 0.4%) Users that have less than 1 test interactions\n",
      "EvaluatorHoldout: Processed 35586 (100.0%) in 33.60 sec. Users per second: 1059\n",
      "Similarity column 38121 (100.0%), 2684.27 column/sec. Elapsed time 14.20 sec\n",
      "EvaluatorHoldout: Ignoring 167 ( 0.5%) Users that have less than 1 test interactions\n",
      "EvaluatorHoldout: Processed 35569 (100.0%) in 33.84 sec. Users per second: 1051\n",
      "Similarity column 38121 (100.0%), 2685.07 column/sec. Elapsed time 14.20 sec\n",
      "EvaluatorHoldout: Ignoring 172 ( 0.5%) Users that have less than 1 test interactions\n",
      "EvaluatorHoldout: Processed 35564 (100.0%) in 33.66 sec. Users per second: 1057\n"
     ]
    },
    {
     "name": "stderr",
     "output_type": "stream",
     "text": [
      "[I 2025-01-04 12:50:22,694] Trial 112 finished with value: 0.04853121084630373 and parameters: {'similarity': 'tversky', 'topK': 34, 'shrink': 50, 'feature_weighting': 'TF-IDF', 'tversky_alpha': 1.451067308620709, 'tversky_beta': 1.4220318632185849}. Best is trial 23 with value: 0.05167910318356951.\n"
     ]
    },
    {
     "name": "stdout",
     "output_type": "stream",
     "text": [
      "Similarity column 38121 (100.0%), 3446.62 column/sec. Elapsed time 11.06 sec\n",
      "EvaluatorHoldout: Ignoring 173 ( 0.5%) Users that have less than 1 test interactions\n",
      "EvaluatorHoldout: Processed 35563 (100.0%) in 24.52 sec. Users per second: 1450\n",
      "Similarity column 38121 (100.0%), 3434.47 column/sec. Elapsed time 11.10 sec\n",
      "EvaluatorHoldout: Ignoring 163 ( 0.5%) Users that have less than 1 test interactions\n",
      "EvaluatorHoldout: Processed 35573 (100.0%) in 24.65 sec. Users per second: 1443\n",
      "Similarity column 38121 (100.0%), 3466.11 column/sec. Elapsed time 11.00 sec\n",
      "EvaluatorHoldout: Ignoring 150 ( 0.4%) Users that have less than 1 test interactions\n",
      "EvaluatorHoldout: Processed 35586 (100.0%) in 24.56 sec. Users per second: 1449\n",
      "Similarity column 38121 (100.0%), 3474.70 column/sec. Elapsed time 10.97 sec\n",
      "EvaluatorHoldout: Ignoring 167 ( 0.5%) Users that have less than 1 test interactions\n",
      "EvaluatorHoldout: Processed 35569 (100.0%) in 24.49 sec. Users per second: 1453\n",
      "Similarity column 38121 (100.0%), 3482.33 column/sec. Elapsed time 10.95 sec\n",
      "EvaluatorHoldout: Ignoring 172 ( 0.5%) Users that have less than 1 test interactions\n",
      "EvaluatorHoldout: Processed 35564 (100.0%) in 24.60 sec. Users per second: 1445\n"
     ]
    },
    {
     "name": "stderr",
     "output_type": "stream",
     "text": [
      "[I 2025-01-04 12:53:22,879] Trial 113 finished with value: 0.0002664826418719655 and parameters: {'similarity': 'tversky', 'topK': 0, 'shrink': 34, 'feature_weighting': 'TF-IDF', 'tversky_alpha': 1.875605326817625, 'tversky_beta': 1.4263165613858908}. Best is trial 23 with value: 0.05167910318356951.\n"
     ]
    },
    {
     "name": "stdout",
     "output_type": "stream",
     "text": [
      "Similarity column 38121 (100.0%), 2602.33 column/sec. Elapsed time 14.65 sec\n",
      "EvaluatorHoldout: Ignoring 173 ( 0.5%) Users that have less than 1 test interactions\n",
      "EvaluatorHoldout: Processed 35563 (100.0%) in 45.32 sec. Users per second: 785\n",
      "Similarity column 38121 (100.0%), 2583.10 column/sec. Elapsed time 14.76 sec\n",
      "EvaluatorHoldout: Ignoring 163 ( 0.5%) Users that have less than 1 test interactions\n",
      "EvaluatorHoldout: Processed 35573 (100.0%) in 45.24 sec. Users per second: 786\n",
      "Similarity column 38121 (100.0%), 2558.83 column/sec. Elapsed time 14.90 sec\n",
      "EvaluatorHoldout: Ignoring 150 ( 0.4%) Users that have less than 1 test interactions\n",
      "EvaluatorHoldout: Processed 35586 (100.0%) in 45.08 sec. Users per second: 789\n",
      "Similarity column 38121 (100.0%), 2590.24 column/sec. Elapsed time 14.72 sec\n",
      "EvaluatorHoldout: Ignoring 167 ( 0.5%) Users that have less than 1 test interactions\n",
      "EvaluatorHoldout: Processed 35569 (100.0%) in 44.97 sec. Users per second: 791\n",
      "Similarity column 38121 (100.0%), 2599.74 column/sec. Elapsed time 14.66 sec\n",
      "EvaluatorHoldout: Ignoring 172 ( 0.5%) Users that have less than 1 test interactions\n",
      "EvaluatorHoldout: Processed 35564 (100.0%) in 44.86 sec. Users per second: 793\n"
     ]
    },
    {
     "name": "stderr",
     "output_type": "stream",
     "text": [
      "[I 2025-01-04 12:58:27,409] Trial 114 finished with value: 0.04086167291275695 and parameters: {'similarity': 'tversky', 'topK': 428, 'shrink': 0, 'feature_weighting': 'TF-IDF', 'tversky_alpha': 1.3097684644790935, 'tversky_beta': 0.6692172372221319}. Best is trial 23 with value: 0.05167910318356951.\n"
     ]
    },
    {
     "name": "stdout",
     "output_type": "stream",
     "text": [
      "Similarity column 38121 (100.0%), 2711.14 column/sec. Elapsed time 14.06 sec\n",
      "EvaluatorHoldout: Ignoring 173 ( 0.5%) Users that have less than 1 test interactions\n",
      "EvaluatorHoldout: Processed 35563 (100.0%) in 34.76 sec. Users per second: 1023\n",
      "Similarity column 38121 (100.0%), 2656.82 column/sec. Elapsed time 14.35 sec\n",
      "EvaluatorHoldout: Ignoring 163 ( 0.5%) Users that have less than 1 test interactions\n",
      "EvaluatorHoldout: Processed 35573 (100.0%) in 35.80 sec. Users per second: 994\n",
      "Similarity column 38121 (100.0%), 2585.95 column/sec. Elapsed time 14.74 sec\n",
      "EvaluatorHoldout: Ignoring 150 ( 0.4%) Users that have less than 1 test interactions\n",
      "EvaluatorHoldout: Processed 35586 (100.0%) in 35.37 sec. Users per second: 1006\n",
      "Similarity column 38121 (100.0%), 2642.03 column/sec. Elapsed time 14.43 sec\n",
      "EvaluatorHoldout: Ignoring 167 ( 0.5%) Users that have less than 1 test interactions\n",
      "EvaluatorHoldout: Processed 35569 (100.0%) in 35.20 sec. Users per second: 1010\n",
      "Similarity column 38121 (100.0%), 2622.34 column/sec. Elapsed time 14.54 sec\n",
      "EvaluatorHoldout: Ignoring 172 ( 0.5%) Users that have less than 1 test interactions\n",
      "EvaluatorHoldout: Processed 35564 (100.0%) in 35.12 sec. Users per second: 1013\n"
     ]
    },
    {
     "name": "stderr",
     "output_type": "stream",
     "text": [
      "[I 2025-01-04 13:02:38,579] Trial 115 finished with value: 0.04711551945335192 and parameters: {'similarity': 'tversky', 'topK': 63, 'shrink': 68, 'feature_weighting': 'TF-IDF', 'tversky_alpha': 0.7910082066714876, 'tversky_beta': 1.5956837621800966}. Best is trial 23 with value: 0.05167910318356951.\n"
     ]
    },
    {
     "name": "stdout",
     "output_type": "stream",
     "text": [
      "Similarity column 38121 (100.0%), 2688.79 column/sec. Elapsed time 14.18 sec\n",
      "EvaluatorHoldout: Ignoring 173 ( 0.5%) Users that have less than 1 test interactions\n",
      "EvaluatorHoldout: Processed 35563 (100.0%) in 33.26 sec. Users per second: 1069\n",
      "Similarity column 38121 (100.0%), 2713.68 column/sec. Elapsed time 14.05 sec\n",
      "EvaluatorHoldout: Ignoring 163 ( 0.5%) Users that have less than 1 test interactions\n",
      "EvaluatorHoldout: Processed 35573 (100.0%) in 33.29 sec. Users per second: 1068\n",
      "Similarity column 38121 (100.0%), 2661.94 column/sec. Elapsed time 14.32 sec\n",
      "EvaluatorHoldout: Ignoring 150 ( 0.4%) Users that have less than 1 test interactions\n",
      "EvaluatorHoldout: Processed 35586 (100.0%) in 33.24 sec. Users per second: 1071\n",
      "Similarity column 38121 (100.0%), 2648.69 column/sec. Elapsed time 14.39 sec\n",
      "EvaluatorHoldout: Ignoring 167 ( 0.5%) Users that have less than 1 test interactions\n",
      "EvaluatorHoldout: Processed 35569 (100.0%) in 33.47 sec. Users per second: 1063\n",
      "Similarity column 38121 (100.0%), 2693.48 column/sec. Elapsed time 14.15 sec\n",
      "EvaluatorHoldout: Ignoring 172 ( 0.5%) Users that have less than 1 test interactions\n",
      "EvaluatorHoldout: Processed 35564 (100.0%) in 33.31 sec. Users per second: 1068\n"
     ]
    },
    {
     "name": "stderr",
     "output_type": "stream",
     "text": [
      "[I 2025-01-04 13:06:38,849] Trial 116 finished with value: 0.048255655760942956 and parameters: {'similarity': 'tversky', 'topK': 33, 'shrink': 110, 'feature_weighting': 'TF-IDF', 'tversky_alpha': 1.2575998852058397, 'tversky_beta': 1.9614886939225802}. Best is trial 23 with value: 0.05167910318356951.\n"
     ]
    },
    {
     "name": "stdout",
     "output_type": "stream",
     "text": [
      "Similarity column 38121 (100.0%), 2532.77 column/sec. Elapsed time 15.05 sec\n",
      "EvaluatorHoldout: Ignoring 173 ( 0.5%) Users that have less than 1 test interactions\n",
      "EvaluatorHoldout: Processed 35563 (100.0%) in 49.50 sec. Users per second: 718\n",
      "Similarity column 38121 (100.0%), 2543.59 column/sec. Elapsed time 14.99 sec\n",
      "EvaluatorHoldout: Ignoring 163 ( 0.5%) Users that have less than 1 test interactions\n",
      "EvaluatorHoldout: Processed 35573 (100.0%) in 49.44 sec. Users per second: 720\n",
      "Similarity column 38121 (100.0%), 2545.57 column/sec. Elapsed time 14.98 sec\n",
      "EvaluatorHoldout: Ignoring 150 ( 0.4%) Users that have less than 1 test interactions\n",
      "EvaluatorHoldout: Processed 35586 (100.0%) in 49.58 sec. Users per second: 718\n",
      "Similarity column 38121 (100.0%), 2507.61 column/sec. Elapsed time 15.20 sec\n",
      "EvaluatorHoldout: Ignoring 167 ( 0.5%) Users that have less than 1 test interactions\n",
      "EvaluatorHoldout: Processed 35569 (100.0%) in 49.78 sec. Users per second: 715\n",
      "Similarity column 38121 (100.0%), 2537.56 column/sec. Elapsed time 15.02 sec\n",
      "EvaluatorHoldout: Ignoring 172 ( 0.5%) Users that have less than 1 test interactions\n",
      "EvaluatorHoldout: Processed 35564 (100.0%) in 49.41 sec. Users per second: 720\n"
     ]
    },
    {
     "name": "stderr",
     "output_type": "stream",
     "text": [
      "[I 2025-01-04 13:12:07,827] Trial 117 finished with value: 0.04232723894120498 and parameters: {'similarity': 'tversky', 'topK': 572, 'shrink': 91, 'feature_weighting': 'none', 'tversky_alpha': 1.6514756849334922, 'tversky_beta': 1.2380493365105707}. Best is trial 23 with value: 0.05167910318356951.\n"
     ]
    },
    {
     "name": "stdout",
     "output_type": "stream",
     "text": [
      "Similarity column 38121 (100.0%), 2551.69 column/sec. Elapsed time 14.94 sec\n",
      "EvaluatorHoldout: Ignoring 173 ( 0.5%) Users that have less than 1 test interactions\n",
      "EvaluatorHoldout: Processed 35563 (100.0%) in 42.80 sec. Users per second: 831\n",
      "Similarity column 38121 (100.0%), 2586.21 column/sec. Elapsed time 14.74 sec\n",
      "EvaluatorHoldout: Ignoring 163 ( 0.5%) Users that have less than 1 test interactions\n",
      "EvaluatorHoldout: Processed 35573 (100.0%) in 42.89 sec. Users per second: 829\n",
      "Similarity column 38121 (100.0%), 2590.72 column/sec. Elapsed time 14.71 sec\n",
      "EvaluatorHoldout: Ignoring 150 ( 0.4%) Users that have less than 1 test interactions\n",
      "EvaluatorHoldout: Processed 35586 (100.0%) in 43.03 sec. Users per second: 827\n",
      "Similarity column 38121 (100.0%), 2595.82 column/sec. Elapsed time 14.69 sec\n",
      "EvaluatorHoldout: Ignoring 167 ( 0.5%) Users that have less than 1 test interactions\n",
      "EvaluatorHoldout: Processed 35569 (100.0%) in 43.35 sec. Users per second: 821\n",
      "Similarity column 38121 (100.0%), 2581.39 column/sec. Elapsed time 14.77 sec\n",
      "EvaluatorHoldout: Ignoring 172 ( 0.5%) Users that have less than 1 test interactions\n",
      "EvaluatorHoldout: Processed 35564 (100.0%) in 43.12 sec. Users per second: 825\n"
     ]
    },
    {
     "name": "stderr",
     "output_type": "stream",
     "text": [
      "[I 2025-01-04 13:17:01,456] Trial 118 finished with value: 0.04212373222017858 and parameters: {'similarity': 'tversky', 'topK': 313, 'shrink': 26, 'feature_weighting': 'BM25', 'tversky_alpha': 0.8652633467454001, 'tversky_beta': 0.6735015201062146}. Best is trial 23 with value: 0.05167910318356951.\n",
      "/kaggle/working/RECsys_Challenge2024/Recommenders/Similarity/Compute_Similarity_Euclidean.py:167: RuntimeWarning: overflow encountered in exp\n",
      "  item_similarity = 1/(np.exp(item_distance) + self.shrink + 1e-9)\n"
     ]
    },
    {
     "name": "stdout",
     "output_type": "stream",
     "text": [
      "Similarity column 38121 (100.0%), 490.53 column/sec. Elapsed time 1.30 min\n",
      "EvaluatorHoldout: Ignoring 173 ( 0.5%) Users that have less than 1 test interactions\n",
      "EvaluatorHoldout: Processed 35563 (100.0%) in 26.12 sec. Users per second: 1361\n"
     ]
    },
    {
     "name": "stderr",
     "output_type": "stream",
     "text": [
      "/kaggle/working/RECsys_Challenge2024/Recommenders/Similarity/Compute_Similarity_Euclidean.py:167: RuntimeWarning: overflow encountered in exp\n",
      "  item_similarity = 1/(np.exp(item_distance) + self.shrink + 1e-9)\n"
     ]
    },
    {
     "name": "stdout",
     "output_type": "stream",
     "text": [
      "Similarity column 38121 (100.0%), 467.07 column/sec. Elapsed time 1.36 min\n",
      "EvaluatorHoldout: Ignoring 163 ( 0.5%) Users that have less than 1 test interactions\n",
      "EvaluatorHoldout: Processed 35573 (100.0%) in 26.49 sec. Users per second: 1343\n"
     ]
    },
    {
     "name": "stderr",
     "output_type": "stream",
     "text": [
      "/kaggle/working/RECsys_Challenge2024/Recommenders/Similarity/Compute_Similarity_Euclidean.py:167: RuntimeWarning: overflow encountered in exp\n",
      "  item_similarity = 1/(np.exp(item_distance) + self.shrink + 1e-9)\n"
     ]
    },
    {
     "name": "stdout",
     "output_type": "stream",
     "text": [
      "Similarity column 38121 (100.0%), 466.13 column/sec. Elapsed time 1.36 min\n",
      "EvaluatorHoldout: Ignoring 150 ( 0.4%) Users that have less than 1 test interactions\n",
      "EvaluatorHoldout: Processed 35586 (100.0%) in 26.06 sec. Users per second: 1365\n"
     ]
    },
    {
     "name": "stderr",
     "output_type": "stream",
     "text": [
      "/kaggle/working/RECsys_Challenge2024/Recommenders/Similarity/Compute_Similarity_Euclidean.py:167: RuntimeWarning: overflow encountered in exp\n",
      "  item_similarity = 1/(np.exp(item_distance) + self.shrink + 1e-9)\n"
     ]
    },
    {
     "name": "stdout",
     "output_type": "stream",
     "text": [
      "Similarity column 38121 (100.0%), 489.44 column/sec. Elapsed time 1.30 min\n",
      "EvaluatorHoldout: Ignoring 167 ( 0.5%) Users that have less than 1 test interactions\n",
      "EvaluatorHoldout: Processed 35569 (100.0%) in 26.44 sec. Users per second: 1345\n"
     ]
    },
    {
     "name": "stderr",
     "output_type": "stream",
     "text": [
      "/kaggle/working/RECsys_Challenge2024/Recommenders/Similarity/Compute_Similarity_Euclidean.py:167: RuntimeWarning: overflow encountered in exp\n",
      "  item_similarity = 1/(np.exp(item_distance) + self.shrink + 1e-9)\n"
     ]
    },
    {
     "name": "stdout",
     "output_type": "stream",
     "text": [
      "Similarity column 38121 (100.0%), 448.31 column/sec. Elapsed time 1.42 min\n",
      "EvaluatorHoldout: Ignoring 172 ( 0.5%) Users that have less than 1 test interactions\n",
      "EvaluatorHoldout: Processed 35564 (100.0%) in 26.42 sec. Users per second: 1346\n"
     ]
    },
    {
     "name": "stderr",
     "output_type": "stream",
     "text": [
      "[I 2025-01-04 13:25:58,208] Trial 119 finished with value: 0.021211838801501057 and parameters: {'similarity': 'euclidean', 'topK': 10, 'shrink': 503, 'feature_weighting': 'TF-IDF', 'normalize_avg_row': False, 'similarity_from_distance_mode': 'exp', 'normalize': False}. Best is trial 23 with value: 0.05167910318356951.\n"
     ]
    },
    {
     "name": "stdout",
     "output_type": "stream",
     "text": [
      "Similarity column 38121 (100.0%), 3007.44 column/sec. Elapsed time 12.68 sec\n",
      "EvaluatorHoldout: Ignoring 173 ( 0.5%) Users that have less than 1 test interactions\n",
      "EvaluatorHoldout: Processed 35563 (100.0%) in 35.15 sec. Users per second: 1012\n",
      "Similarity column 38121 (100.0%), 2958.75 column/sec. Elapsed time 12.88 sec\n",
      "EvaluatorHoldout: Ignoring 163 ( 0.5%) Users that have less than 1 test interactions\n",
      "EvaluatorHoldout: Processed 35573 (100.0%) in 34.52 sec. Users per second: 1030\n",
      "Similarity column 38121 (100.0%), 2972.23 column/sec. Elapsed time 12.83 sec\n",
      "EvaluatorHoldout: Ignoring 150 ( 0.4%) Users that have less than 1 test interactions\n",
      "EvaluatorHoldout: Processed 35586 (100.0%) in 34.72 sec. Users per second: 1025\n",
      "Similarity column 38121 (100.0%), 2984.38 column/sec. Elapsed time 12.77 sec\n",
      "EvaluatorHoldout: Ignoring 167 ( 0.5%) Users that have less than 1 test interactions\n",
      "EvaluatorHoldout: Processed 35569 (100.0%) in 34.58 sec. Users per second: 1029\n",
      "Similarity column 38121 (100.0%), 2976.65 column/sec. Elapsed time 12.81 sec\n",
      "EvaluatorHoldout: Ignoring 172 ( 0.5%) Users that have less than 1 test interactions\n",
      "EvaluatorHoldout: Processed 35564 (100.0%) in 34.53 sec. Users per second: 1030\n"
     ]
    },
    {
     "name": "stderr",
     "output_type": "stream",
     "text": [
      "[I 2025-01-04 13:29:58,316] Trial 120 finished with value: 0.046355664992873455 and parameters: {'similarity': 'dice', 'topK': 50, 'shrink': 65, 'feature_weighting': 'TF-IDF'}. Best is trial 23 with value: 0.05167910318356951.\n"
     ]
    },
    {
     "name": "stdout",
     "output_type": "stream",
     "text": [
      "Similarity column 38121 (100.0%), 2770.38 column/sec. Elapsed time 13.76 sec\n",
      "EvaluatorHoldout: Ignoring 173 ( 0.5%) Users that have less than 1 test interactions\n",
      "EvaluatorHoldout: Processed 35563 (100.0%) in 32.99 sec. Users per second: 1078\n",
      "Similarity column 38121 (100.0%), 2874.88 column/sec. Elapsed time 13.26 sec\n",
      "EvaluatorHoldout: Ignoring 163 ( 0.5%) Users that have less than 1 test interactions\n",
      "EvaluatorHoldout: Processed 35573 (100.0%) in 33.29 sec. Users per second: 1069\n",
      "Similarity column 38121 (100.0%), 2842.70 column/sec. Elapsed time 13.41 sec\n",
      "EvaluatorHoldout: Ignoring 150 ( 0.4%) Users that have less than 1 test interactions\n",
      "EvaluatorHoldout: Processed 35586 (100.0%) in 33.21 sec. Users per second: 1072\n",
      "Similarity column 38121 (100.0%), 2889.60 column/sec. Elapsed time 13.19 sec\n",
      "EvaluatorHoldout: Ignoring 167 ( 0.5%) Users that have less than 1 test interactions\n",
      "EvaluatorHoldout: Processed 35569 (100.0%) in 32.85 sec. Users per second: 1083\n",
      "Similarity column 38121 (100.0%), 2875.28 column/sec. Elapsed time 13.26 sec\n",
      "EvaluatorHoldout: Ignoring 172 ( 0.5%) Users that have less than 1 test interactions\n",
      "EvaluatorHoldout: Processed 35564 (100.0%) in 33.28 sec. Users per second: 1069\n"
     ]
    },
    {
     "name": "stderr",
     "output_type": "stream",
     "text": [
      "[I 2025-01-04 13:33:52,578] Trial 121 finished with value: 0.04879863008544178 and parameters: {'similarity': 'cosine', 'topK': 27, 'shrink': 149, 'feature_weighting': 'TF-IDF'}. Best is trial 23 with value: 0.05167910318356951.\n"
     ]
    },
    {
     "name": "stdout",
     "output_type": "stream",
     "text": [
      "Similarity column 38121 (100.0%), 2875.09 column/sec. Elapsed time 13.26 sec\n",
      "EvaluatorHoldout: Ignoring 173 ( 0.5%) Users that have less than 1 test interactions\n",
      "EvaluatorHoldout: Processed 35563 (100.0%) in 31.26 sec. Users per second: 1138\n",
      "Similarity column 38121 (100.0%), 2892.84 column/sec. Elapsed time 13.18 sec\n",
      "EvaluatorHoldout: Ignoring 163 ( 0.5%) Users that have less than 1 test interactions\n",
      "EvaluatorHoldout: Processed 35573 (100.0%) in 31.43 sec. Users per second: 1132\n",
      "Similarity column 38121 (100.0%), 2862.54 column/sec. Elapsed time 13.32 sec\n",
      "EvaluatorHoldout: Ignoring 150 ( 0.4%) Users that have less than 1 test interactions\n",
      "EvaluatorHoldout: Processed 35586 (100.0%) in 31.57 sec. Users per second: 1127\n",
      "Similarity column 38121 (100.0%), 2878.57 column/sec. Elapsed time 13.24 sec\n",
      "EvaluatorHoldout: Ignoring 167 ( 0.5%) Users that have less than 1 test interactions\n",
      "EvaluatorHoldout: Processed 35569 (100.0%) in 31.31 sec. Users per second: 1136\n",
      "Similarity column 38121 (100.0%), 2868.59 column/sec. Elapsed time 13.29 sec\n",
      "EvaluatorHoldout: Ignoring 172 ( 0.5%) Users that have less than 1 test interactions\n",
      "EvaluatorHoldout: Processed 35564 (100.0%) in 31.44 sec. Users per second: 1131\n"
     ]
    },
    {
     "name": "stderr",
     "output_type": "stream",
     "text": [
      "[I 2025-01-04 13:37:37,477] Trial 122 finished with value: 0.050289612360944605 and parameters: {'similarity': 'cosine', 'topK': 12, 'shrink': 123, 'feature_weighting': 'TF-IDF'}. Best is trial 23 with value: 0.05167910318356951.\n"
     ]
    },
    {
     "name": "stdout",
     "output_type": "stream",
     "text": [
      "Similarity column 38121 (100.0%), 2896.87 column/sec. Elapsed time 13.16 sec\n",
      "EvaluatorHoldout: Ignoring 173 ( 0.5%) Users that have less than 1 test interactions\n",
      "EvaluatorHoldout: Processed 35563 (100.0%) in 30.44 sec. Users per second: 1168\n",
      "Similarity column 38121 (100.0%), 2877.68 column/sec. Elapsed time 13.25 sec\n",
      "EvaluatorHoldout: Ignoring 163 ( 0.5%) Users that have less than 1 test interactions\n",
      "EvaluatorHoldout: Processed 35573 (100.0%) in 30.65 sec. Users per second: 1160\n",
      "Similarity column 38121 (100.0%), 2887.41 column/sec. Elapsed time 13.20 sec\n",
      "EvaluatorHoldout: Ignoring 150 ( 0.4%) Users that have less than 1 test interactions\n",
      "EvaluatorHoldout: Processed 35586 (100.0%) in 30.44 sec. Users per second: 1169\n",
      "Similarity column 38121 (100.0%), 2878.43 column/sec. Elapsed time 13.24 sec\n",
      "EvaluatorHoldout: Ignoring 167 ( 0.5%) Users that have less than 1 test interactions\n",
      "EvaluatorHoldout: Processed 35569 (100.0%) in 30.69 sec. Users per second: 1159\n",
      "Similarity column 38121 (100.0%), 2831.03 column/sec. Elapsed time 13.47 sec\n",
      "EvaluatorHoldout: Ignoring 172 ( 0.5%) Users that have less than 1 test interactions\n",
      "EvaluatorHoldout: Processed 35564 (100.0%) in 30.46 sec. Users per second: 1167\n"
     ]
    },
    {
     "name": "stderr",
     "output_type": "stream",
     "text": [
      "[I 2025-01-04 13:41:18,007] Trial 123 finished with value: 0.05094557622011079 and parameters: {'similarity': 'cosine', 'topK': 8, 'shrink': 46, 'feature_weighting': 'TF-IDF'}. Best is trial 23 with value: 0.05167910318356951.\n"
     ]
    },
    {
     "name": "stdout",
     "output_type": "stream",
     "text": [
      "Similarity column 38121 (100.0%), 2888.39 column/sec. Elapsed time 13.20 sec\n",
      "EvaluatorHoldout: Ignoring 173 ( 0.5%) Users that have less than 1 test interactions\n",
      "EvaluatorHoldout: Processed 35563 (100.0%) in 30.24 sec. Users per second: 1176\n",
      "Similarity column 38121 (100.0%), 2875.48 column/sec. Elapsed time 13.26 sec\n",
      "EvaluatorHoldout: Ignoring 163 ( 0.5%) Users that have less than 1 test interactions\n",
      "EvaluatorHoldout: Processed 35573 (100.0%) in 30.31 sec. Users per second: 1174\n",
      "Similarity column 38121 (100.0%), 2904.64 column/sec. Elapsed time 13.12 sec\n",
      "EvaluatorHoldout: Ignoring 150 ( 0.4%) Users that have less than 1 test interactions\n",
      "EvaluatorHoldout: Processed 35586 (100.0%) in 30.28 sec. Users per second: 1175\n",
      "Similarity column 38121 (100.0%), 2888.77 column/sec. Elapsed time 13.20 sec\n",
      "EvaluatorHoldout: Ignoring 167 ( 0.5%) Users that have less than 1 test interactions\n",
      "EvaluatorHoldout: Processed 35569 (100.0%) in 30.48 sec. Users per second: 1167\n",
      "Similarity column 38121 (100.0%), 2873.64 column/sec. Elapsed time 13.27 sec\n",
      "EvaluatorHoldout: Ignoring 172 ( 0.5%) Users that have less than 1 test interactions\n",
      "EvaluatorHoldout: Processed 35564 (100.0%) in 30.21 sec. Users per second: 1177\n"
     ]
    },
    {
     "name": "stderr",
     "output_type": "stream",
     "text": [
      "[I 2025-01-04 13:44:57,039] Trial 124 finished with value: 0.05141379116754542 and parameters: {'similarity': 'cosine', 'topK': 7, 'shrink': 121, 'feature_weighting': 'TF-IDF'}. Best is trial 23 with value: 0.05167910318356951.\n"
     ]
    },
    {
     "name": "stdout",
     "output_type": "stream",
     "text": [
      "Similarity column 38121 (100.0%), 2832.43 column/sec. Elapsed time 13.46 sec\n",
      "EvaluatorHoldout: Ignoring 173 ( 0.5%) Users that have less than 1 test interactions\n",
      "EvaluatorHoldout: Processed 35563 (100.0%) in 35.10 sec. Users per second: 1013\n",
      "Similarity column 38121 (100.0%), 2820.59 column/sec. Elapsed time 13.52 sec\n",
      "EvaluatorHoldout: Ignoring 163 ( 0.5%) Users that have less than 1 test interactions\n",
      "EvaluatorHoldout: Processed 35573 (100.0%) in 35.05 sec. Users per second: 1015\n",
      "Similarity column 38121 (100.0%), 2815.10 column/sec. Elapsed time 13.54 sec\n",
      "EvaluatorHoldout: Ignoring 150 ( 0.4%) Users that have less than 1 test interactions\n",
      "EvaluatorHoldout: Processed 35586 (100.0%) in 35.06 sec. Users per second: 1015\n",
      "Similarity column 38121 (100.0%), 2843.37 column/sec. Elapsed time 13.41 sec\n",
      "EvaluatorHoldout: Ignoring 167 ( 0.5%) Users that have less than 1 test interactions\n",
      "EvaluatorHoldout: Processed 35569 (100.0%) in 35.24 sec. Users per second: 1009\n",
      "Similarity column 38121 (100.0%), 2825.80 column/sec. Elapsed time 13.49 sec\n",
      "EvaluatorHoldout: Ignoring 172 ( 0.5%) Users that have less than 1 test interactions\n",
      "EvaluatorHoldout: Processed 35564 (100.0%) in 34.84 sec. Users per second: 1021\n"
     ]
    },
    {
     "name": "stderr",
     "output_type": "stream",
     "text": [
      "[I 2025-01-04 13:49:01,569] Trial 125 finished with value: 0.045043685195053494 and parameters: {'similarity': 'asymmetric', 'topK': 46, 'shrink': 124, 'feature_weighting': 'TF-IDF', 'asymmetric_alpha': 0.6453577064150977}. Best is trial 23 with value: 0.05167910318356951.\n"
     ]
    },
    {
     "name": "stdout",
     "output_type": "stream",
     "text": [
      "Similarity column 38121 (100.0%), 3383.56 column/sec. Elapsed time 11.27 sec\n",
      "EvaluatorHoldout: Ignoring 173 ( 0.5%) Users that have less than 1 test interactions\n",
      "EvaluatorHoldout: Processed 35563 (100.0%) in 27.38 sec. Users per second: 1299\n",
      "Similarity column 38121 (100.0%), 3366.82 column/sec. Elapsed time 11.32 sec\n",
      "EvaluatorHoldout: Ignoring 163 ( 0.5%) Users that have less than 1 test interactions\n",
      "EvaluatorHoldout: Processed 35573 (100.0%) in 27.66 sec. Users per second: 1286\n",
      "Similarity column 38121 (100.0%), 3379.27 column/sec. Elapsed time 11.28 sec\n",
      "EvaluatorHoldout: Ignoring 150 ( 0.4%) Users that have less than 1 test interactions\n",
      "EvaluatorHoldout: Processed 35586 (100.0%) in 27.47 sec. Users per second: 1296\n",
      "Similarity column 38121 (100.0%), 3392.05 column/sec. Elapsed time 11.24 sec\n",
      "EvaluatorHoldout: Ignoring 167 ( 0.5%) Users that have less than 1 test interactions\n",
      "EvaluatorHoldout: Processed 35569 (100.0%) in 27.72 sec. Users per second: 1283\n",
      "Similarity column 38121 (100.0%), 3397.03 column/sec. Elapsed time 11.22 sec\n",
      "EvaluatorHoldout: Ignoring 172 ( 0.5%) Users that have less than 1 test interactions\n",
      "EvaluatorHoldout: Processed 35564 (100.0%) in 27.45 sec. Users per second: 1296\n"
     ]
    },
    {
     "name": "stderr",
     "output_type": "stream",
     "text": [
      "[I 2025-01-04 13:52:17,022] Trial 126 finished with value: 0.0421953998415494 and parameters: {'similarity': 'cosine', 'topK': 1, 'shrink': 103, 'feature_weighting': 'TF-IDF'}. Best is trial 23 with value: 0.05167910318356951.\n"
     ]
    },
    {
     "name": "stdout",
     "output_type": "stream",
     "text": [
      "Similarity column 38121 (100.0%), 2884.97 column/sec. Elapsed time 13.21 sec\n",
      "EvaluatorHoldout: Ignoring 173 ( 0.5%) Users that have less than 1 test interactions\n",
      "EvaluatorHoldout: Processed 35563 (100.0%) in 32.95 sec. Users per second: 1079\n",
      "Similarity column 38121 (100.0%), 2874.13 column/sec. Elapsed time 13.26 sec\n",
      "EvaluatorHoldout: Ignoring 163 ( 0.5%) Users that have less than 1 test interactions\n",
      "EvaluatorHoldout: Processed 35573 (100.0%) in 33.12 sec. Users per second: 1074\n",
      "Similarity column 38121 (100.0%), 2875.72 column/sec. Elapsed time 13.26 sec\n",
      "EvaluatorHoldout: Ignoring 150 ( 0.4%) Users that have less than 1 test interactions\n",
      "EvaluatorHoldout: Processed 35586 (100.0%) in 32.94 sec. Users per second: 1080\n",
      "Similarity column 38121 (100.0%), 2872.21 column/sec. Elapsed time 13.27 sec\n",
      "EvaluatorHoldout: Ignoring 167 ( 0.5%) Users that have less than 1 test interactions\n",
      "EvaluatorHoldout: Processed 35569 (100.0%) in 33.07 sec. Users per second: 1075\n",
      "Similarity column 38121 (100.0%), 2870.64 column/sec. Elapsed time 13.28 sec\n",
      "EvaluatorHoldout: Ignoring 172 ( 0.5%) Users that have less than 1 test interactions\n",
      "EvaluatorHoldout: Processed 35564 (100.0%) in 33.07 sec. Users per second: 1075\n"
     ]
    },
    {
     "name": "stderr",
     "output_type": "stream",
     "text": [
      "[I 2025-01-04 13:56:10,122] Trial 127 finished with value: 0.04824104595311586 and parameters: {'similarity': 'cosine', 'topK': 33, 'shrink': 43, 'feature_weighting': 'TF-IDF'}. Best is trial 23 with value: 0.05167910318356951.\n"
     ]
    },
    {
     "name": "stdout",
     "output_type": "stream",
     "text": [
      "Similarity column 38121 (100.0%), 2690.93 column/sec. Elapsed time 14.17 sec\n",
      "EvaluatorHoldout: Ignoring 173 ( 0.5%) Users that have less than 1 test interactions\n",
      "EvaluatorHoldout: Processed 35563 (100.0%) in 36.20 sec. Users per second: 983\n",
      "Similarity column 38121 (100.0%), 2671.39 column/sec. Elapsed time 14.27 sec\n",
      "EvaluatorHoldout: Ignoring 163 ( 0.5%) Users that have less than 1 test interactions\n",
      "EvaluatorHoldout: Processed 35573 (100.0%) in 36.22 sec. Users per second: 982\n",
      "Similarity column 38121 (100.0%), 2680.61 column/sec. Elapsed time 14.22 sec\n",
      "EvaluatorHoldout: Ignoring 150 ( 0.4%) Users that have less than 1 test interactions\n",
      "EvaluatorHoldout: Processed 35586 (100.0%) in 36.52 sec. Users per second: 974\n",
      "Similarity column 38121 (100.0%), 2693.67 column/sec. Elapsed time 14.15 sec\n",
      "EvaluatorHoldout: Ignoring 167 ( 0.5%) Users that have less than 1 test interactions\n",
      "EvaluatorHoldout: Processed 35569 (100.0%) in 36.28 sec. Users per second: 980\n",
      "Similarity column 38121 (100.0%), 2655.75 column/sec. Elapsed time 14.35 sec\n",
      "EvaluatorHoldout: Ignoring 172 ( 0.5%) Users that have less than 1 test interactions\n",
      "EvaluatorHoldout: Processed 35564 (100.0%) in 37.27 sec. Users per second: 954\n"
     ]
    },
    {
     "name": "stderr",
     "output_type": "stream",
     "text": [
      "[I 2025-01-04 14:00:26,582] Trial 128 finished with value: 0.04536433696221219 and parameters: {'similarity': 'tversky', 'topK': 68, 'shrink': 82, 'feature_weighting': 'TF-IDF', 'tversky_alpha': 1.7308381529560617, 'tversky_beta': 0.7988542838309516}. Best is trial 23 with value: 0.05167910318356951.\n"
     ]
    },
    {
     "name": "stdout",
     "output_type": "stream",
     "text": [
      "Similarity column 38121 (100.0%), 2953.15 column/sec. Elapsed time 12.91 sec\n",
      "EvaluatorHoldout: Ignoring 173 ( 0.5%) Users that have less than 1 test interactions\n",
      "EvaluatorHoldout: Processed 35563 (100.0%) in 31.96 sec. Users per second: 1113\n",
      "Similarity column 38121 (100.0%), 2849.75 column/sec. Elapsed time 13.38 sec\n",
      "EvaluatorHoldout: Ignoring 163 ( 0.5%) Users that have less than 1 test interactions\n",
      "EvaluatorHoldout: Processed 35573 (100.0%) in 31.85 sec. Users per second: 1117\n",
      "Similarity column 38121 (100.0%), 2952.58 column/sec. Elapsed time 12.91 sec\n",
      "EvaluatorHoldout: Ignoring 150 ( 0.4%) Users that have less than 1 test interactions\n",
      "EvaluatorHoldout: Processed 35586 (100.0%) in 31.53 sec. Users per second: 1129\n",
      "Similarity column 38121 (100.0%), 2946.24 column/sec. Elapsed time 12.94 sec\n",
      "EvaluatorHoldout: Ignoring 167 ( 0.5%) Users that have less than 1 test interactions\n",
      "EvaluatorHoldout: Processed 35569 (100.0%) in 31.44 sec. Users per second: 1131\n",
      "Similarity column 38121 (100.0%), 2947.21 column/sec. Elapsed time 12.93 sec\n",
      "EvaluatorHoldout: Ignoring 172 ( 0.5%) Users that have less than 1 test interactions\n",
      "EvaluatorHoldout: Processed 35564 (100.0%) in 31.79 sec. Users per second: 1119\n"
     ]
    },
    {
     "name": "stderr",
     "output_type": "stream",
     "text": [
      "[I 2025-01-04 14:04:12,635] Trial 129 finished with value: 0.04804893042642694 and parameters: {'similarity': 'jaccard', 'topK': 11, 'shrink': 115, 'feature_weighting': 'TF-IDF'}. Best is trial 23 with value: 0.05167910318356951.\n"
     ]
    },
    {
     "name": "stdout",
     "output_type": "stream",
     "text": [
      "Similarity column 38121 (100.0%), 2804.15 column/sec. Elapsed time 13.59 sec\n",
      "EvaluatorHoldout: Ignoring 173 ( 0.5%) Users that have less than 1 test interactions\n",
      "EvaluatorHoldout: Processed 35563 (100.0%) in 33.93 sec. Users per second: 1048\n",
      "Similarity column 38121 (100.0%), 2826.79 column/sec. Elapsed time 13.49 sec\n",
      "EvaluatorHoldout: Ignoring 163 ( 0.5%) Users that have less than 1 test interactions\n",
      "EvaluatorHoldout: Processed 35573 (100.0%) in 34.35 sec. Users per second: 1035\n",
      "Similarity column 38121 (100.0%), 2866.73 column/sec. Elapsed time 13.30 sec\n",
      "EvaluatorHoldout: Ignoring 150 ( 0.4%) Users that have less than 1 test interactions\n",
      "EvaluatorHoldout: Processed 35586 (100.0%) in 34.37 sec. Users per second: 1035\n",
      "Similarity column 38121 (100.0%), 2818.48 column/sec. Elapsed time 13.53 sec\n",
      "EvaluatorHoldout: Ignoring 167 ( 0.5%) Users that have less than 1 test interactions\n",
      "EvaluatorHoldout: Processed 35569 (100.0%) in 34.24 sec. Users per second: 1039\n",
      "Similarity column 38121 (100.0%), 2858.01 column/sec. Elapsed time 13.34 sec\n",
      "EvaluatorHoldout: Ignoring 172 ( 0.5%) Users that have less than 1 test interactions\n",
      "EvaluatorHoldout: Processed 35564 (100.0%) in 34.50 sec. Users per second: 1031\n"
     ]
    },
    {
     "name": "stderr",
     "output_type": "stream",
     "text": [
      "[I 2025-01-04 14:08:13,145] Trial 130 finished with value: 0.047355889084013954 and parameters: {'similarity': 'cosine', 'topK': 53, 'shrink': 21, 'feature_weighting': 'TF-IDF'}. Best is trial 23 with value: 0.05167910318356951.\n"
     ]
    },
    {
     "name": "stdout",
     "output_type": "stream",
     "text": [
      "Similarity column 38121 (100.0%), 2915.89 column/sec. Elapsed time 13.07 sec\n",
      "EvaluatorHoldout: Ignoring 173 ( 0.5%) Users that have less than 1 test interactions\n",
      "EvaluatorHoldout: Processed 35563 (100.0%) in 31.21 sec. Users per second: 1139\n",
      "Similarity column 38121 (100.0%), 2887.53 column/sec. Elapsed time 13.20 sec\n",
      "EvaluatorHoldout: Ignoring 163 ( 0.5%) Users that have less than 1 test interactions\n",
      "EvaluatorHoldout: Processed 35573 (100.0%) in 31.23 sec. Users per second: 1139\n",
      "Similarity column 38121 (100.0%), 2902.40 column/sec. Elapsed time 13.13 sec\n",
      "EvaluatorHoldout: Ignoring 150 ( 0.4%) Users that have less than 1 test interactions\n",
      "EvaluatorHoldout: Processed 35586 (100.0%) in 31.45 sec. Users per second: 1132\n",
      "Similarity column 38121 (100.0%), 2891.14 column/sec. Elapsed time 13.19 sec\n",
      "EvaluatorHoldout: Ignoring 167 ( 0.5%) Users that have less than 1 test interactions\n",
      "EvaluatorHoldout: Processed 35569 (100.0%) in 31.43 sec. Users per second: 1132\n",
      "Similarity column 38121 (100.0%), 2864.57 column/sec. Elapsed time 13.31 sec\n",
      "EvaluatorHoldout: Ignoring 172 ( 0.5%) Users that have less than 1 test interactions\n",
      "EvaluatorHoldout: Processed 35564 (100.0%) in 31.35 sec. Users per second: 1134\n"
     ]
    },
    {
     "name": "stderr",
     "output_type": "stream",
     "text": [
      "[I 2025-01-04 14:11:57,287] Trial 131 finished with value: 0.04994099064968518 and parameters: {'similarity': 'cosine', 'topK': 13, 'shrink': 60, 'feature_weighting': 'TF-IDF'}. Best is trial 23 with value: 0.05167910318356951.\n"
     ]
    },
    {
     "name": "stdout",
     "output_type": "stream",
     "text": [
      "Similarity column 38121 (100.0%), 2884.88 column/sec. Elapsed time 13.21 sec\n",
      "EvaluatorHoldout: Ignoring 173 ( 0.5%) Users that have less than 1 test interactions\n",
      "EvaluatorHoldout: Processed 35563 (100.0%) in 32.90 sec. Users per second: 1081\n",
      "Similarity column 38121 (100.0%), 2881.68 column/sec. Elapsed time 13.23 sec\n",
      "EvaluatorHoldout: Ignoring 163 ( 0.5%) Users that have less than 1 test interactions\n",
      "EvaluatorHoldout: Processed 35573 (100.0%) in 32.87 sec. Users per second: 1082\n",
      "Similarity column 38121 (100.0%), 2874.79 column/sec. Elapsed time 13.26 sec\n",
      "EvaluatorHoldout: Ignoring 150 ( 0.4%) Users that have less than 1 test interactions\n",
      "EvaluatorHoldout: Processed 35586 (100.0%) in 33.06 sec. Users per second: 1077\n",
      "Similarity column 38121 (100.0%), 2840.98 column/sec. Elapsed time 13.42 sec\n",
      "EvaluatorHoldout: Ignoring 167 ( 0.5%) Users that have less than 1 test interactions\n",
      "EvaluatorHoldout: Processed 35569 (100.0%) in 33.92 sec. Users per second: 1049\n",
      "Similarity column 38121 (100.0%), 2808.99 column/sec. Elapsed time 13.57 sec\n",
      "EvaluatorHoldout: Ignoring 172 ( 0.5%) Users that have less than 1 test interactions\n",
      "EvaluatorHoldout: Processed 35564 (100.0%) in 33.34 sec. Users per second: 1067\n"
     ]
    },
    {
     "name": "stderr",
     "output_type": "stream",
     "text": [
      "[I 2025-01-04 14:15:51,790] Trial 132 finished with value: 0.04844011894775917 and parameters: {'similarity': 'cosine', 'topK': 30, 'shrink': 74, 'feature_weighting': 'TF-IDF'}. Best is trial 23 with value: 0.05167910318356951.\n"
     ]
    },
    {
     "name": "stdout",
     "output_type": "stream",
     "text": [
      "Similarity column 38121 (100.0%), 2862.86 column/sec. Elapsed time 13.32 sec\n",
      "EvaluatorHoldout: Ignoring 173 ( 0.5%) Users that have less than 1 test interactions\n",
      "EvaluatorHoldout: Processed 35563 (100.0%) in 31.00 sec. Users per second: 1147\n",
      "Similarity column 38121 (100.0%), 2845.39 column/sec. Elapsed time 13.40 sec\n",
      "EvaluatorHoldout: Ignoring 163 ( 0.5%) Users that have less than 1 test interactions\n",
      "EvaluatorHoldout: Processed 35573 (100.0%) in 31.31 sec. Users per second: 1136\n",
      "Similarity column 38121 (100.0%), 2828.31 column/sec. Elapsed time 13.48 sec\n",
      "EvaluatorHoldout: Ignoring 150 ( 0.4%) Users that have less than 1 test interactions\n",
      "EvaluatorHoldout: Processed 35586 (100.0%) in 30.62 sec. Users per second: 1162\n",
      "Similarity column 38121 (100.0%), 2864.56 column/sec. Elapsed time 13.31 sec\n",
      "EvaluatorHoldout: Ignoring 167 ( 0.5%) Users that have less than 1 test interactions\n",
      "EvaluatorHoldout: Processed 35569 (100.0%) in 30.88 sec. Users per second: 1152\n",
      "Similarity column 38121 (100.0%), 2904.35 column/sec. Elapsed time 13.13 sec\n",
      "EvaluatorHoldout: Ignoring 172 ( 0.5%) Users that have less than 1 test interactions\n",
      "EvaluatorHoldout: Processed 35564 (100.0%) in 30.58 sec. Users per second: 1163\n"
     ]
    },
    {
     "name": "stderr",
     "output_type": "stream",
     "text": [
      "[I 2025-01-04 14:19:34,327] Trial 133 finished with value: 0.05072062948872008 and parameters: {'similarity': 'cosine', 'topK': 9, 'shrink': 39, 'feature_weighting': 'TF-IDF'}. Best is trial 23 with value: 0.05167910318356951.\n"
     ]
    },
    {
     "name": "stdout",
     "output_type": "stream",
     "text": [
      "Similarity column 38121 (100.0%), 2886.96 column/sec. Elapsed time 13.20 sec\n",
      "EvaluatorHoldout: Ignoring 173 ( 0.5%) Users that have less than 1 test interactions\n",
      "EvaluatorHoldout: Processed 35563 (100.0%) in 29.77 sec. Users per second: 1195\n",
      "Similarity column 38121 (100.0%), 2873.58 column/sec. Elapsed time 13.27 sec\n",
      "EvaluatorHoldout: Ignoring 163 ( 0.5%) Users that have less than 1 test interactions\n",
      "EvaluatorHoldout: Processed 35573 (100.0%) in 29.57 sec. Users per second: 1203\n",
      "Similarity column 38121 (100.0%), 2885.72 column/sec. Elapsed time 13.21 sec\n",
      "EvaluatorHoldout: Ignoring 150 ( 0.4%) Users that have less than 1 test interactions\n",
      "EvaluatorHoldout: Processed 35586 (100.0%) in 29.43 sec. Users per second: 1209\n",
      "Similarity column 38121 (100.0%), 2802.55 column/sec. Elapsed time 13.60 sec\n",
      "EvaluatorHoldout: Ignoring 167 ( 0.5%) Users that have less than 1 test interactions\n",
      "EvaluatorHoldout: Processed 35569 (100.0%) in 29.46 sec. Users per second: 1207\n",
      "Similarity column 38121 (100.0%), 2893.63 column/sec. Elapsed time 13.17 sec\n",
      "EvaluatorHoldout: Ignoring 172 ( 0.5%) Users that have less than 1 test interactions\n",
      "EvaluatorHoldout: Processed 35564 (100.0%) in 29.27 sec. Users per second: 1215\n"
     ]
    },
    {
     "name": "stderr",
     "output_type": "stream",
     "text": [
      "[I 2025-01-04 14:23:09,773] Trial 134 finished with value: 0.05167499647934026 and parameters: {'similarity': 'cosine', 'topK': 4, 'shrink': 44, 'feature_weighting': 'TF-IDF'}. Best is trial 23 with value: 0.05167910318356951.\n"
     ]
    },
    {
     "name": "stdout",
     "output_type": "stream",
     "text": [
      "Similarity column 38121 (100.0%), 3726.45 column/sec. Elapsed time 10.23 sec\n",
      "EvaluatorHoldout: Ignoring 173 ( 0.5%) Users that have less than 1 test interactions\n",
      "EvaluatorHoldout: Processed 35563 (100.0%) in 24.62 sec. Users per second: 1444\n",
      "Similarity column 38121 (100.0%), 3717.43 column/sec. Elapsed time 10.25 sec\n",
      "EvaluatorHoldout: Ignoring 163 ( 0.5%) Users that have less than 1 test interactions\n",
      "EvaluatorHoldout: Processed 35573 (100.0%) in 24.82 sec. Users per second: 1433\n",
      "Similarity column 38121 (100.0%), 3713.44 column/sec. Elapsed time 10.27 sec\n",
      "EvaluatorHoldout: Ignoring 150 ( 0.4%) Users that have less than 1 test interactions\n",
      "EvaluatorHoldout: Processed 35586 (100.0%) in 24.87 sec. Users per second: 1431\n",
      "Similarity column 38121 (100.0%), 3644.21 column/sec. Elapsed time 10.46 sec\n",
      "EvaluatorHoldout: Ignoring 167 ( 0.5%) Users that have less than 1 test interactions\n",
      "EvaluatorHoldout: Processed 35569 (100.0%) in 24.88 sec. Users per second: 1430\n",
      "Similarity column 38121 (100.0%), 3665.52 column/sec. Elapsed time 10.40 sec\n",
      "EvaluatorHoldout: Ignoring 172 ( 0.5%) Users that have less than 1 test interactions\n",
      "EvaluatorHoldout: Processed 35564 (100.0%) in 24.76 sec. Users per second: 1436\n"
     ]
    },
    {
     "name": "stderr",
     "output_type": "stream",
     "text": [
      "[I 2025-01-04 14:26:06,910] Trial 135 finished with value: 0.0002664826418719655 and parameters: {'similarity': 'cosine', 'topK': 0, 'shrink': 41, 'feature_weighting': 'TF-IDF'}. Best is trial 23 with value: 0.05167910318356951.\n"
     ]
    },
    {
     "name": "stdout",
     "output_type": "stream",
     "text": [
      "Similarity column 38121 (100.0%), 2854.07 column/sec. Elapsed time 13.36 sec\n",
      "EvaluatorHoldout: Ignoring 173 ( 0.5%) Users that have less than 1 test interactions\n",
      "EvaluatorHoldout: Processed 35563 (100.0%) in 33.53 sec. Users per second: 1061\n",
      "Similarity column 38121 (100.0%), 2851.76 column/sec. Elapsed time 13.37 sec\n",
      "EvaluatorHoldout: Ignoring 163 ( 0.5%) Users that have less than 1 test interactions\n",
      "EvaluatorHoldout: Processed 35573 (100.0%) in 33.80 sec. Users per second: 1052\n",
      "Similarity column 38121 (100.0%), 2821.78 column/sec. Elapsed time 13.51 sec\n",
      "EvaluatorHoldout: Ignoring 150 ( 0.4%) Users that have less than 1 test interactions\n",
      "EvaluatorHoldout: Processed 35586 (100.0%) in 34.05 sec. Users per second: 1045\n",
      "Similarity column 38121 (100.0%), 2814.21 column/sec. Elapsed time 13.55 sec\n",
      "EvaluatorHoldout: Ignoring 167 ( 0.5%) Users that have less than 1 test interactions\n",
      "EvaluatorHoldout: Processed 35569 (100.0%) in 33.69 sec. Users per second: 1056\n",
      "Similarity column 38121 (100.0%), 2853.09 column/sec. Elapsed time 13.36 sec\n",
      "EvaluatorHoldout: Ignoring 172 ( 0.5%) Users that have less than 1 test interactions\n",
      "EvaluatorHoldout: Processed 35564 (100.0%) in 34.38 sec. Users per second: 1034\n"
     ]
    },
    {
     "name": "stderr",
     "output_type": "stream",
     "text": [
      "[I 2025-01-04 14:30:05,297] Trial 136 finished with value: 0.047950622301437665 and parameters: {'similarity': 'cosine', 'topK': 36, 'shrink': 13, 'feature_weighting': 'TF-IDF'}. Best is trial 23 with value: 0.05167910318356951.\n"
     ]
    },
    {
     "name": "stdout",
     "output_type": "stream",
     "text": [
      "Similarity column 38121 (100.0%), 2774.92 column/sec. Elapsed time 13.74 sec\n",
      "EvaluatorHoldout: Ignoring 173 ( 0.5%) Users that have less than 1 test interactions\n",
      "EvaluatorHoldout: Processed 35563 (100.0%) in 34.65 sec. Users per second: 1026\n",
      "Similarity column 38121 (100.0%), 2821.09 column/sec. Elapsed time 13.51 sec\n",
      "EvaluatorHoldout: Ignoring 163 ( 0.5%) Users that have less than 1 test interactions\n",
      "EvaluatorHoldout: Processed 35573 (100.0%) in 34.38 sec. Users per second: 1035\n",
      "Similarity column 38121 (100.0%), 2855.48 column/sec. Elapsed time 13.35 sec\n",
      "EvaluatorHoldout: Ignoring 150 ( 0.4%) Users that have less than 1 test interactions\n",
      "EvaluatorHoldout: Processed 35586 (100.0%) in 34.15 sec. Users per second: 1042\n",
      "Similarity column 38121 (100.0%), 2832.70 column/sec. Elapsed time 13.46 sec\n",
      "EvaluatorHoldout: Ignoring 167 ( 0.5%) Users that have less than 1 test interactions\n",
      "EvaluatorHoldout: Processed 35569 (100.0%) in 34.07 sec. Users per second: 1044\n",
      "Similarity column 38121 (100.0%), 2827.48 column/sec. Elapsed time 13.48 sec\n",
      "EvaluatorHoldout: Ignoring 172 ( 0.5%) Users that have less than 1 test interactions\n",
      "EvaluatorHoldout: Processed 35564 (100.0%) in 34.58 sec. Users per second: 1029\n"
     ]
    },
    {
     "name": "stderr",
     "output_type": "stream",
     "text": [
      "[I 2025-01-04 14:34:06,607] Trial 137 finished with value: 0.047706655214182506 and parameters: {'similarity': 'cosine', 'topK': 47, 'shrink': 58, 'feature_weighting': 'TF-IDF'}. Best is trial 23 with value: 0.05167910318356951.\n"
     ]
    },
    {
     "name": "stdout",
     "output_type": "stream",
     "text": [
      "Similarity column 38121 (100.0%), 2825.12 column/sec. Elapsed time 13.49 sec\n",
      "EvaluatorHoldout: Ignoring 173 ( 0.5%) Users that have less than 1 test interactions\n",
      "EvaluatorHoldout: Processed 35563 (100.0%) in 33.00 sec. Users per second: 1078\n",
      "Similarity column 38121 (100.0%), 2847.97 column/sec. Elapsed time 13.39 sec\n",
      "EvaluatorHoldout: Ignoring 163 ( 0.5%) Users that have less than 1 test interactions\n",
      "EvaluatorHoldout: Processed 35573 (100.0%) in 33.33 sec. Users per second: 1067\n",
      "Similarity column 38121 (100.0%), 2823.46 column/sec. Elapsed time 13.50 sec\n",
      "EvaluatorHoldout: Ignoring 150 ( 0.4%) Users that have less than 1 test interactions\n",
      "EvaluatorHoldout: Processed 35586 (100.0%) in 33.22 sec. Users per second: 1071\n",
      "Similarity column 38121 (100.0%), 2863.84 column/sec. Elapsed time 13.31 sec\n",
      "EvaluatorHoldout: Ignoring 167 ( 0.5%) Users that have less than 1 test interactions\n",
      "EvaluatorHoldout: Processed 35569 (100.0%) in 32.86 sec. Users per second: 1082\n",
      "Similarity column 38121 (100.0%), 2857.73 column/sec. Elapsed time 13.34 sec\n",
      "EvaluatorHoldout: Ignoring 172 ( 0.5%) Users that have less than 1 test interactions\n",
      "EvaluatorHoldout: Processed 35564 (100.0%) in 32.96 sec. Users per second: 1079\n"
     ]
    },
    {
     "name": "stderr",
     "output_type": "stream",
     "text": [
      "[I 2025-01-04 14:38:00,680] Trial 138 finished with value: 0.04858543575580961 and parameters: {'similarity': 'cosine', 'topK': 28, 'shrink': 91, 'feature_weighting': 'TF-IDF'}. Best is trial 23 with value: 0.05167910318356951.\n"
     ]
    },
    {
     "name": "stdout",
     "output_type": "stream",
     "text": [
      "Similarity column 38121 (100.0%), 3667.60 column/sec. Elapsed time 10.39 sec\n",
      "EvaluatorHoldout: Ignoring 173 ( 0.5%) Users that have less than 1 test interactions\n",
      "EvaluatorHoldout: Processed 35563 (100.0%) in 24.56 sec. Users per second: 1448\n",
      "Similarity column 38121 (100.0%), 3698.55 column/sec. Elapsed time 10.31 sec\n",
      "EvaluatorHoldout: Ignoring 163 ( 0.5%) Users that have less than 1 test interactions\n",
      "EvaluatorHoldout: Processed 35573 (100.0%) in 24.60 sec. Users per second: 1446\n",
      "Similarity column 38121 (100.0%), 3688.28 column/sec. Elapsed time 10.34 sec\n",
      "EvaluatorHoldout: Ignoring 150 ( 0.4%) Users that have less than 1 test interactions\n",
      "EvaluatorHoldout: Processed 35586 (100.0%) in 24.82 sec. Users per second: 1434\n",
      "Similarity column 38121 (100.0%), 3669.07 column/sec. Elapsed time 10.39 sec\n",
      "EvaluatorHoldout: Ignoring 167 ( 0.5%) Users that have less than 1 test interactions\n",
      "EvaluatorHoldout: Processed 35569 (100.0%) in 24.72 sec. Users per second: 1439\n",
      "Similarity column 38121 (100.0%), 3588.73 column/sec. Elapsed time 10.62 sec\n",
      "EvaluatorHoldout: Ignoring 172 ( 0.5%) Users that have less than 1 test interactions\n",
      "EvaluatorHoldout: Processed 35564 (100.0%) in 24.61 sec. Users per second: 1445\n"
     ]
    },
    {
     "name": "stderr",
     "output_type": "stream",
     "text": [
      "[I 2025-01-04 14:40:56,970] Trial 139 finished with value: 0.0002664826418719655 and parameters: {'similarity': 'cosine', 'topK': 0, 'shrink': 1, 'feature_weighting': 'none'}. Best is trial 23 with value: 0.05167910318356951.\n"
     ]
    },
    {
     "name": "stdout",
     "output_type": "stream",
     "text": [
      "Similarity column 38121 (100.0%), 2798.60 column/sec. Elapsed time 13.62 sec\n",
      "EvaluatorHoldout: Ignoring 173 ( 0.5%) Users that have less than 1 test interactions\n",
      "EvaluatorHoldout: Processed 35563 (100.0%) in 35.16 sec. Users per second: 1012\n",
      "Similarity column 38121 (100.0%), 2845.95 column/sec. Elapsed time 13.39 sec\n",
      "EvaluatorHoldout: Ignoring 163 ( 0.5%) Users that have less than 1 test interactions\n",
      "EvaluatorHoldout: Processed 35573 (100.0%) in 35.36 sec. Users per second: 1006\n",
      "Similarity column 38121 (100.0%), 2842.05 column/sec. Elapsed time 13.41 sec\n",
      "EvaluatorHoldout: Ignoring 150 ( 0.4%) Users that have less than 1 test interactions\n",
      "EvaluatorHoldout: Processed 35586 (100.0%) in 34.99 sec. Users per second: 1017\n",
      "Similarity column 38121 (100.0%), 2848.84 column/sec. Elapsed time 13.38 sec\n",
      "EvaluatorHoldout: Ignoring 167 ( 0.5%) Users that have less than 1 test interactions\n",
      "EvaluatorHoldout: Processed 35569 (100.0%) in 35.38 sec. Users per second: 1005\n",
      "Similarity column 38121 (100.0%), 2847.97 column/sec. Elapsed time 13.39 sec\n",
      "EvaluatorHoldout: Ignoring 172 ( 0.5%) Users that have less than 1 test interactions\n",
      "EvaluatorHoldout: Processed 35564 (100.0%) in 34.97 sec. Users per second: 1017\n"
     ]
    },
    {
     "name": "stderr",
     "output_type": "stream",
     "text": [
      "[I 2025-01-04 14:45:01,993] Trial 140 finished with value: 0.047096205258541024 and parameters: {'similarity': 'cosine', 'topK': 64, 'shrink': 45, 'feature_weighting': 'TF-IDF'}. Best is trial 23 with value: 0.05167910318356951.\n"
     ]
    },
    {
     "name": "stdout",
     "output_type": "stream",
     "text": [
      "Similarity column 38121 (100.0%), 2838.50 column/sec. Elapsed time 13.43 sec\n",
      "EvaluatorHoldout: Ignoring 173 ( 0.5%) Users that have less than 1 test interactions\n",
      "EvaluatorHoldout: Processed 35563 (100.0%) in 31.58 sec. Users per second: 1126\n",
      "Similarity column 38121 (100.0%), 2864.62 column/sec. Elapsed time 13.31 sec\n",
      "EvaluatorHoldout: Ignoring 163 ( 0.5%) Users that have less than 1 test interactions\n",
      "EvaluatorHoldout: Processed 35573 (100.0%) in 31.91 sec. Users per second: 1115\n",
      "Similarity column 38121 (100.0%), 2864.62 column/sec. Elapsed time 13.31 sec\n",
      "EvaluatorHoldout: Ignoring 150 ( 0.4%) Users that have less than 1 test interactions\n",
      "EvaluatorHoldout: Processed 35586 (100.0%) in 31.47 sec. Users per second: 1131\n",
      "Similarity column 38121 (100.0%), 2876.94 column/sec. Elapsed time 13.25 sec\n",
      "EvaluatorHoldout: Ignoring 167 ( 0.5%) Users that have less than 1 test interactions\n",
      "EvaluatorHoldout: Processed 35569 (100.0%) in 31.90 sec. Users per second: 1115\n",
      "Similarity column 38121 (100.0%), 2873.55 column/sec. Elapsed time 13.27 sec\n",
      "EvaluatorHoldout: Ignoring 172 ( 0.5%) Users that have less than 1 test interactions\n",
      "EvaluatorHoldout: Processed 35564 (100.0%) in 31.46 sec. Users per second: 1131\n"
     ]
    },
    {
     "name": "stderr",
     "output_type": "stream",
     "text": [
      "[I 2025-01-04 14:48:48,493] Trial 141 finished with value: 0.049633379649968196 and parameters: {'similarity': 'cosine', 'topK': 14, 'shrink': 24, 'feature_weighting': 'TF-IDF'}. Best is trial 23 with value: 0.05167910318356951.\n"
     ]
    },
    {
     "name": "stdout",
     "output_type": "stream",
     "text": [
      "Similarity column 38121 (100.0%), 2872.66 column/sec. Elapsed time 13.27 sec\n",
      "EvaluatorHoldout: Ignoring 173 ( 0.5%) Users that have less than 1 test interactions\n",
      "EvaluatorHoldout: Processed 35563 (100.0%) in 32.59 sec. Users per second: 1091\n",
      "Similarity column 38121 (100.0%), 2876.76 column/sec. Elapsed time 13.25 sec\n",
      "EvaluatorHoldout: Ignoring 163 ( 0.5%) Users that have less than 1 test interactions\n",
      "EvaluatorHoldout: Processed 35573 (100.0%) in 32.62 sec. Users per second: 1091\n",
      "Similarity column 38121 (100.0%), 2863.78 column/sec. Elapsed time 13.31 sec\n",
      "EvaluatorHoldout: Ignoring 150 ( 0.4%) Users that have less than 1 test interactions\n",
      "EvaluatorHoldout: Processed 35586 (100.0%) in 32.49 sec. Users per second: 1095\n",
      "Similarity column 38121 (100.0%), 2901.84 column/sec. Elapsed time 13.14 sec\n",
      "EvaluatorHoldout: Ignoring 167 ( 0.5%) Users that have less than 1 test interactions\n",
      "EvaluatorHoldout: Processed 35569 (100.0%) in 32.67 sec. Users per second: 1089\n",
      "Similarity column 38121 (100.0%), 2868.70 column/sec. Elapsed time 13.29 sec\n",
      "EvaluatorHoldout: Ignoring 172 ( 0.5%) Users that have less than 1 test interactions\n",
      "EvaluatorHoldout: Processed 35564 (100.0%) in 32.35 sec. Users per second: 1099\n"
     ]
    },
    {
     "name": "stderr",
     "output_type": "stream",
     "text": [
      "[I 2025-01-04 14:52:39,021] Trial 142 finished with value: 0.04980878259305179 and parameters: {'similarity': 'cosine', 'topK': 17, 'shrink': 780, 'feature_weighting': 'TF-IDF'}. Best is trial 23 with value: 0.05167910318356951.\n"
     ]
    },
    {
     "name": "stdout",
     "output_type": "stream",
     "text": [
      "Similarity column 38121 (100.0%), 2862.21 column/sec. Elapsed time 13.32 sec\n",
      "EvaluatorHoldout: Ignoring 173 ( 0.5%) Users that have less than 1 test interactions\n",
      "EvaluatorHoldout: Processed 35563 (100.0%) in 32.77 sec. Users per second: 1085\n",
      "Similarity column 38121 (100.0%), 2867.58 column/sec. Elapsed time 13.29 sec\n",
      "EvaluatorHoldout: Ignoring 163 ( 0.5%) Users that have less than 1 test interactions\n",
      "EvaluatorHoldout: Processed 35573 (100.0%) in 33.29 sec. Users per second: 1068\n",
      "Similarity column 38121 (100.0%), 2850.75 column/sec. Elapsed time 13.37 sec\n",
      "EvaluatorHoldout: Ignoring 150 ( 0.4%) Users that have less than 1 test interactions\n",
      "EvaluatorHoldout: Processed 35586 (100.0%) in 32.93 sec. Users per second: 1081\n",
      "Similarity column 38121 (100.0%), 2843.57 column/sec. Elapsed time 13.41 sec\n",
      "EvaluatorHoldout: Ignoring 167 ( 0.5%) Users that have less than 1 test interactions\n",
      "EvaluatorHoldout: Processed 35569 (100.0%) in 33.25 sec. Users per second: 1070\n",
      "Similarity column 38121 (100.0%), 2851.53 column/sec. Elapsed time 13.37 sec\n",
      "EvaluatorHoldout: Ignoring 172 ( 0.5%) Users that have less than 1 test interactions\n",
      "EvaluatorHoldout: Processed 35564 (100.0%) in 33.01 sec. Users per second: 1077\n"
     ]
    },
    {
     "name": "stderr",
     "output_type": "stream",
     "text": [
      "[I 2025-01-04 14:56:32,714] Trial 143 finished with value: 0.04851957081257526 and parameters: {'similarity': 'cosine', 'topK': 28, 'shrink': 70, 'feature_weighting': 'TF-IDF'}. Best is trial 23 with value: 0.05167910318356951.\n"
     ]
    },
    {
     "name": "stdout",
     "output_type": "stream",
     "text": [
      "Similarity column 38121 (100.0%), 3676.27 column/sec. Elapsed time 10.37 sec\n",
      "EvaluatorHoldout: Ignoring 173 ( 0.5%) Users that have less than 1 test interactions\n",
      "EvaluatorHoldout: Processed 35563 (100.0%) in 24.70 sec. Users per second: 1440\n",
      "Similarity column 38121 (100.0%), 3690.45 column/sec. Elapsed time 10.33 sec\n",
      "EvaluatorHoldout: Ignoring 163 ( 0.5%) Users that have less than 1 test interactions\n",
      "EvaluatorHoldout: Processed 35573 (100.0%) in 24.76 sec. Users per second: 1436\n",
      "Similarity column 38121 (100.0%), 3673.33 column/sec. Elapsed time 10.38 sec\n",
      "EvaluatorHoldout: Ignoring 150 ( 0.4%) Users that have less than 1 test interactions\n",
      "EvaluatorHoldout: Processed 35586 (100.0%) in 25.02 sec. Users per second: 1422\n",
      "Similarity column 38121 (100.0%), 3634.59 column/sec. Elapsed time 10.49 sec\n",
      "EvaluatorHoldout: Ignoring 167 ( 0.5%) Users that have less than 1 test interactions\n",
      "EvaluatorHoldout: Processed 35569 (100.0%) in 25.95 sec. Users per second: 1371\n",
      "Similarity column 38121 (100.0%), 3523.18 column/sec. Elapsed time 10.82 sec\n",
      "EvaluatorHoldout: Ignoring 172 ( 0.5%) Users that have less than 1 test interactions\n",
      "EvaluatorHoldout: Processed 35564 (100.0%) in 25.95 sec. Users per second: 1371\n"
     ]
    },
    {
     "name": "stderr",
     "output_type": "stream",
     "text": [
      "[I 2025-01-04 14:59:32,973] Trial 144 finished with value: 0.0002664826418719655 and parameters: {'similarity': 'cosine', 'topK': 0, 'shrink': 138, 'feature_weighting': 'TF-IDF'}. Best is trial 23 with value: 0.05167910318356951.\n"
     ]
    },
    {
     "name": "stdout",
     "output_type": "stream",
     "text": [
      "Similarity column 38121 (100.0%), 2609.84 column/sec. Elapsed time 14.61 sec\n",
      "EvaluatorHoldout: Ignoring 173 ( 0.5%) Users that have less than 1 test interactions\n",
      "EvaluatorHoldout: Processed 35563 (100.0%) in 48.51 sec. Users per second: 733\n",
      "Similarity column 38121 (100.0%), 2523.88 column/sec. Elapsed time 15.10 sec\n",
      "EvaluatorHoldout: Ignoring 163 ( 0.5%) Users that have less than 1 test interactions\n",
      "EvaluatorHoldout: Processed 35573 (100.0%) in 46.21 sec. Users per second: 770\n",
      "Similarity column 38121 (100.0%), 2703.89 column/sec. Elapsed time 14.10 sec\n",
      "EvaluatorHoldout: Ignoring 150 ( 0.4%) Users that have less than 1 test interactions\n",
      "EvaluatorHoldout: Processed 35586 (100.0%) in 45.42 sec. Users per second: 783\n",
      "Similarity column 38121 (100.0%), 2715.74 column/sec. Elapsed time 14.04 sec\n",
      "EvaluatorHoldout: Ignoring 167 ( 0.5%) Users that have less than 1 test interactions\n",
      "EvaluatorHoldout: Processed 35569 (100.0%) in 44.87 sec. Users per second: 793\n",
      "Similarity column 38121 (100.0%), 2721.98 column/sec. Elapsed time 14.00 sec\n",
      "EvaluatorHoldout: Ignoring 172 ( 0.5%) Users that have less than 1 test interactions\n",
      "EvaluatorHoldout: Processed 35564 (100.0%) in 44.93 sec. Users per second: 792\n"
     ]
    },
    {
     "name": "stderr",
     "output_type": "stream",
     "text": [
      "[I 2025-01-04 15:04:39,115] Trial 145 finished with value: 0.044756911256342055 and parameters: {'similarity': 'cosine', 'topK': 371, 'shrink': 100, 'feature_weighting': 'TF-IDF'}. Best is trial 23 with value: 0.05167910318356951.\n"
     ]
    },
    {
     "name": "stdout",
     "output_type": "stream",
     "text": [
      "Similarity column 38121 (100.0%), 437.84 column/sec. Elapsed time 1.45 min\n",
      "EvaluatorHoldout: Ignoring 173 ( 0.5%) Users that have less than 1 test interactions\n",
      "EvaluatorHoldout: Processed 35563 (100.0%) in 34.31 sec. Users per second: 1036\n",
      "Similarity column 38121 (100.0%), 456.72 column/sec. Elapsed time 1.39 min\n",
      "EvaluatorHoldout: Ignoring 163 ( 0.5%) Users that have less than 1 test interactions\n",
      "EvaluatorHoldout: Processed 35573 (100.0%) in 33.91 sec. Users per second: 1049\n",
      "Similarity column 38121 (100.0%), 451.53 column/sec. Elapsed time 1.41 min\n",
      "EvaluatorHoldout: Ignoring 150 ( 0.4%) Users that have less than 1 test interactions\n",
      "EvaluatorHoldout: Processed 35586 (100.0%) in 34.76 sec. Users per second: 1024\n",
      "Similarity column 38121 (100.0%), 419.66 column/sec. Elapsed time 1.51 min\n",
      "EvaluatorHoldout: Ignoring 167 ( 0.5%) Users that have less than 1 test interactions\n",
      "EvaluatorHoldout: Processed 35569 (100.0%) in 34.25 sec. Users per second: 1039\n",
      "Similarity column 38121 (100.0%), 421.88 column/sec. Elapsed time 1.51 min\n",
      "EvaluatorHoldout: Ignoring 172 ( 0.5%) Users that have less than 1 test interactions\n",
      "EvaluatorHoldout: Processed 35564 (100.0%) in 34.25 sec. Users per second: 1038\n"
     ]
    },
    {
     "name": "stderr",
     "output_type": "stream",
     "text": [
      "[I 2025-01-04 15:14:48,295] Trial 146 finished with value: 0.02784785793175936 and parameters: {'similarity': 'euclidean', 'topK': 44, 'shrink': 37, 'feature_weighting': 'BM25', 'normalize_avg_row': True, 'similarity_from_distance_mode': 'lin', 'normalize': True}. Best is trial 23 with value: 0.05167910318356951.\n"
     ]
    },
    {
     "name": "stdout",
     "output_type": "stream",
     "text": [
      "Similarity column 38121 (100.0%), 2964.40 column/sec. Elapsed time 12.86 sec\n",
      "EvaluatorHoldout: Ignoring 173 ( 0.5%) Users that have less than 1 test interactions\n",
      "EvaluatorHoldout: Processed 35563 (100.0%) in 33.27 sec. Users per second: 1069\n",
      "Similarity column 38121 (100.0%), 2923.65 column/sec. Elapsed time 13.04 sec\n",
      "EvaluatorHoldout: Ignoring 163 ( 0.5%) Users that have less than 1 test interactions\n",
      "EvaluatorHoldout: Processed 35573 (100.0%) in 32.43 sec. Users per second: 1097\n",
      "Similarity column 38121 (100.0%), 2970.01 column/sec. Elapsed time 12.84 sec\n",
      "EvaluatorHoldout: Ignoring 150 ( 0.4%) Users that have less than 1 test interactions\n",
      "EvaluatorHoldout: Processed 35586 (100.0%) in 32.35 sec. Users per second: 1100\n",
      "Similarity column 38121 (100.0%), 3000.25 column/sec. Elapsed time 12.71 sec\n",
      "EvaluatorHoldout: Ignoring 167 ( 0.5%) Users that have less than 1 test interactions\n",
      "EvaluatorHoldout: Processed 35569 (100.0%) in 32.52 sec. Users per second: 1094\n",
      "Similarity column 38121 (100.0%), 2947.33 column/sec. Elapsed time 12.93 sec\n",
      "EvaluatorHoldout: Ignoring 172 ( 0.5%) Users that have less than 1 test interactions\n",
      "EvaluatorHoldout: Processed 35564 (100.0%) in 32.69 sec. Users per second: 1088\n"
     ]
    },
    {
     "name": "stderr",
     "output_type": "stream",
     "text": [
      "[I 2025-01-04 15:18:38,448] Trial 147 finished with value: 0.04847850697449875 and parameters: {'similarity': 'dice', 'topK': 14, 'shrink': 78, 'feature_weighting': 'TF-IDF'}. Best is trial 23 with value: 0.05167910318356951.\n"
     ]
    },
    {
     "name": "stdout",
     "output_type": "stream",
     "text": [
      "Similarity column 38121 (100.0%), 2841.16 column/sec. Elapsed time 13.42 sec\n",
      "EvaluatorHoldout: Ignoring 173 ( 0.5%) Users that have less than 1 test interactions\n",
      "EvaluatorHoldout: Processed 35563 (100.0%) in 36.20 sec. Users per second: 982\n",
      "Similarity column 38121 (100.0%), 2811.35 column/sec. Elapsed time 13.56 sec\n",
      "EvaluatorHoldout: Ignoring 163 ( 0.5%) Users that have less than 1 test interactions\n",
      "EvaluatorHoldout: Processed 35573 (100.0%) in 36.65 sec. Users per second: 971\n",
      "Similarity column 38121 (100.0%), 2824.01 column/sec. Elapsed time 13.50 sec\n",
      "EvaluatorHoldout: Ignoring 150 ( 0.4%) Users that have less than 1 test interactions\n",
      "EvaluatorHoldout: Processed 35586 (100.0%) in 36.51 sec. Users per second: 975\n",
      "Similarity column 38121 (100.0%), 2810.36 column/sec. Elapsed time 13.56 sec\n",
      "EvaluatorHoldout: Ignoring 167 ( 0.5%) Users that have less than 1 test interactions\n",
      "EvaluatorHoldout: Processed 35569 (100.0%) in 36.32 sec. Users per second: 979\n",
      "Similarity column 38121 (100.0%), 2860.22 column/sec. Elapsed time 13.33 sec\n",
      "EvaluatorHoldout: Ignoring 172 ( 0.5%) Users that have less than 1 test interactions\n",
      "EvaluatorHoldout: Processed 35564 (100.0%) in 36.18 sec. Users per second: 983\n"
     ]
    },
    {
     "name": "stderr",
     "output_type": "stream",
     "text": [
      "[I 2025-01-04 15:22:49,731] Trial 148 finished with value: 0.047116810660729994 and parameters: {'similarity': 'cosine', 'topK': 76, 'shrink': 122, 'feature_weighting': 'TF-IDF'}. Best is trial 23 with value: 0.05167910318356951.\n"
     ]
    },
    {
     "name": "stdout",
     "output_type": "stream",
     "text": [
      "Similarity column 38121 (100.0%), 2562.66 column/sec. Elapsed time 14.88 sec\n",
      "EvaluatorHoldout: Ignoring 173 ( 0.5%) Users that have less than 1 test interactions\n",
      "EvaluatorHoldout: Processed 35563 (100.0%) in 47.67 sec. Users per second: 746\n",
      "Similarity column 38121 (100.0%), 2534.87 column/sec. Elapsed time 15.04 sec\n",
      "EvaluatorHoldout: Ignoring 163 ( 0.5%) Users that have less than 1 test interactions\n",
      "EvaluatorHoldout: Processed 35573 (100.0%) in 47.19 sec. Users per second: 754\n",
      "Similarity column 38121 (100.0%), 2511.74 column/sec. Elapsed time 15.18 sec\n",
      "EvaluatorHoldout: Ignoring 150 ( 0.4%) Users that have less than 1 test interactions\n",
      "EvaluatorHoldout: Processed 35586 (100.0%) in 47.85 sec. Users per second: 744\n",
      "Similarity column 38121 (100.0%), 2530.04 column/sec. Elapsed time 15.07 sec\n",
      "EvaluatorHoldout: Ignoring 167 ( 0.5%) Users that have less than 1 test interactions\n",
      "EvaluatorHoldout: Processed 35569 (100.0%) in 46.85 sec. Users per second: 759\n",
      "Similarity column 38121 (100.0%), 2574.28 column/sec. Elapsed time 14.81 sec\n",
      "EvaluatorHoldout: Ignoring 172 ( 0.5%) Users that have less than 1 test interactions\n",
      "EvaluatorHoldout: Processed 35564 (100.0%) in 47.45 sec. Users per second: 750\n"
     ]
    },
    {
     "name": "stderr",
     "output_type": "stream",
     "text": [
      "[I 2025-01-04 15:28:07,843] Trial 149 finished with value: 0.04318529427697464 and parameters: {'similarity': 'tversky', 'topK': 497, 'shrink': 59, 'feature_weighting': 'TF-IDF', 'tversky_alpha': 1.3121177387748078, 'tversky_beta': 1.6252529251237815}. Best is trial 23 with value: 0.05167910318356951.\n"
     ]
    },
    {
     "name": "stdout",
     "output_type": "stream",
     "text": [
      "Similarity column 38121 (100.0%), 2789.91 column/sec. Elapsed time 13.66 sec\n",
      "EvaluatorHoldout: Ignoring 173 ( 0.5%) Users that have less than 1 test interactions\n",
      "EvaluatorHoldout: Processed 35563 (100.0%) in 33.25 sec. Users per second: 1070\n",
      "Similarity column 38121 (100.0%), 2836.22 column/sec. Elapsed time 13.44 sec\n",
      "EvaluatorHoldout: Ignoring 163 ( 0.5%) Users that have less than 1 test interactions\n",
      "EvaluatorHoldout: Processed 35573 (100.0%) in 32.98 sec. Users per second: 1079\n",
      "Similarity column 38121 (100.0%), 2877.90 column/sec. Elapsed time 13.25 sec\n",
      "EvaluatorHoldout: Ignoring 150 ( 0.4%) Users that have less than 1 test interactions\n",
      "EvaluatorHoldout: Processed 35586 (100.0%) in 33.93 sec. Users per second: 1049\n",
      "Similarity column 38121 (100.0%), 2857.79 column/sec. Elapsed time 13.34 sec\n",
      "EvaluatorHoldout: Ignoring 167 ( 0.5%) Users that have less than 1 test interactions\n",
      "EvaluatorHoldout: Processed 35569 (100.0%) in 33.09 sec. Users per second: 1075\n",
      "Similarity column 38121 (100.0%), 2858.34 column/sec. Elapsed time 13.34 sec\n",
      "EvaluatorHoldout: Ignoring 172 ( 0.5%) Users that have less than 1 test interactions\n",
      "EvaluatorHoldout: Processed 35564 (100.0%) in 33.38 sec. Users per second: 1065\n"
     ]
    },
    {
     "name": "stderr",
     "output_type": "stream",
     "text": [
      "[I 2025-01-04 15:32:03,147] Trial 150 finished with value: 0.04837693138361469 and parameters: {'similarity': 'cosine', 'topK': 28, 'shrink': 20, 'feature_weighting': 'TF-IDF'}. Best is trial 23 with value: 0.05167910318356951.\n"
     ]
    },
    {
     "name": "stdout",
     "output_type": "stream",
     "text": [
      "Similarity column 38121 (100.0%), 2887.94 column/sec. Elapsed time 13.20 sec\n",
      "EvaluatorHoldout: Ignoring 173 ( 0.5%) Users that have less than 1 test interactions\n",
      "EvaluatorHoldout: Processed 35563 (100.0%) in 31.65 sec. Users per second: 1124\n",
      "Similarity column 38121 (100.0%), 2871.71 column/sec. Elapsed time 13.27 sec\n",
      "EvaluatorHoldout: Ignoring 163 ( 0.5%) Users that have less than 1 test interactions\n",
      "EvaluatorHoldout: Processed 35573 (100.0%) in 31.68 sec. Users per second: 1123\n",
      "Similarity column 38121 (100.0%), 2893.28 column/sec. Elapsed time 13.18 sec\n",
      "EvaluatorHoldout: Ignoring 150 ( 0.4%) Users that have less than 1 test interactions\n",
      "EvaluatorHoldout: Processed 35586 (100.0%) in 31.62 sec. Users per second: 1126\n",
      "Similarity column 38121 (100.0%), 2862.69 column/sec. Elapsed time 13.32 sec\n",
      "EvaluatorHoldout: Ignoring 167 ( 0.5%) Users that have less than 1 test interactions\n",
      "EvaluatorHoldout: Processed 35569 (100.0%) in 31.55 sec. Users per second: 1127\n",
      "Similarity column 38121 (100.0%), 2849.62 column/sec. Elapsed time 13.38 sec\n",
      "EvaluatorHoldout: Ignoring 172 ( 0.5%) Users that have less than 1 test interactions\n",
      "EvaluatorHoldout: Processed 35564 (100.0%) in 31.81 sec. Users per second: 1118\n"
     ]
    },
    {
     "name": "stderr",
     "output_type": "stream",
     "text": [
      "[I 2025-01-04 15:35:49,335] Trial 151 finished with value: 0.05005289223297421 and parameters: {'similarity': 'cosine', 'topK': 13, 'shrink': 102, 'feature_weighting': 'TF-IDF'}. Best is trial 23 with value: 0.05167910318356951.\n"
     ]
    },
    {
     "name": "stdout",
     "output_type": "stream",
     "text": [
      "Similarity column 38121 (100.0%), 2842.63 column/sec. Elapsed time 13.41 sec\n",
      "EvaluatorHoldout: Ignoring 173 ( 0.5%) Users that have less than 1 test interactions\n",
      "EvaluatorHoldout: Processed 35563 (100.0%) in 31.81 sec. Users per second: 1118\n",
      "Similarity column 38121 (100.0%), 2889.51 column/sec. Elapsed time 13.19 sec\n",
      "EvaluatorHoldout: Ignoring 163 ( 0.5%) Users that have less than 1 test interactions\n",
      "EvaluatorHoldout: Processed 35573 (100.0%) in 31.72 sec. Users per second: 1122\n",
      "Similarity column 38121 (100.0%), 2902.82 column/sec. Elapsed time 13.13 sec\n",
      "EvaluatorHoldout: Ignoring 150 ( 0.4%) Users that have less than 1 test interactions\n",
      "EvaluatorHoldout: Processed 35586 (100.0%) in 31.73 sec. Users per second: 1122\n",
      "Similarity column 38121 (100.0%), 2873.89 column/sec. Elapsed time 13.26 sec\n",
      "EvaluatorHoldout: Ignoring 167 ( 0.5%) Users that have less than 1 test interactions\n",
      "EvaluatorHoldout: Processed 35569 (100.0%) in 31.93 sec. Users per second: 1114\n",
      "Similarity column 38121 (100.0%), 2845.79 column/sec. Elapsed time 13.40 sec\n",
      "EvaluatorHoldout: Ignoring 172 ( 0.5%) Users that have less than 1 test interactions\n",
      "EvaluatorHoldout: Processed 35564 (100.0%) in 32.16 sec. Users per second: 1106\n"
     ]
    },
    {
     "name": "stderr",
     "output_type": "stream",
     "text": [
      "[I 2025-01-04 15:39:36,656] Trial 152 finished with value: 0.04983953922684468 and parameters: {'similarity': 'cosine', 'topK': 14, 'shrink': 89, 'feature_weighting': 'TF-IDF'}. Best is trial 23 with value: 0.05167910318356951.\n"
     ]
    },
    {
     "name": "stdout",
     "output_type": "stream",
     "text": [
      "Similarity column 38121 (100.0%), 2813.11 column/sec. Elapsed time 13.55 sec\n",
      "EvaluatorHoldout: Ignoring 173 ( 0.5%) Users that have less than 1 test interactions\n",
      "EvaluatorHoldout: Processed 35563 (100.0%) in 35.66 sec. Users per second: 997\n",
      "Similarity column 38121 (100.0%), 2768.98 column/sec. Elapsed time 13.77 sec\n",
      "EvaluatorHoldout: Ignoring 163 ( 0.5%) Users that have less than 1 test interactions\n",
      "EvaluatorHoldout: Processed 35573 (100.0%) in 34.92 sec. Users per second: 1019\n",
      "Similarity column 38121 (100.0%), 2848.21 column/sec. Elapsed time 13.38 sec\n",
      "EvaluatorHoldout: Ignoring 150 ( 0.4%) Users that have less than 1 test interactions\n",
      "EvaluatorHoldout: Processed 35586 (100.0%) in 34.63 sec. Users per second: 1028\n",
      "Similarity column 38121 (100.0%), 2846.57 column/sec. Elapsed time 13.39 sec\n",
      "EvaluatorHoldout: Ignoring 167 ( 0.5%) Users that have less than 1 test interactions\n",
      "EvaluatorHoldout: Processed 35569 (100.0%) in 34.29 sec. Users per second: 1037\n",
      "Similarity column 38121 (100.0%), 2824.35 column/sec. Elapsed time 13.50 sec\n",
      "EvaluatorHoldout: Ignoring 172 ( 0.5%) Users that have less than 1 test interactions\n",
      "EvaluatorHoldout: Processed 35564 (100.0%) in 34.08 sec. Users per second: 1043\n"
     ]
    },
    {
     "name": "stderr",
     "output_type": "stream",
     "text": [
      "[I 2025-01-04 15:43:39,708] Trial 153 finished with value: 0.048081317213503866 and parameters: {'similarity': 'cosine', 'topK': 40, 'shrink': 110, 'feature_weighting': 'TF-IDF'}. Best is trial 23 with value: 0.05167910318356951.\n"
     ]
    },
    {
     "name": "stdout",
     "output_type": "stream",
     "text": [
      "Similarity column 38121 (100.0%), 2845.95 column/sec. Elapsed time 13.39 sec\n",
      "EvaluatorHoldout: Ignoring 173 ( 0.5%) Users that have less than 1 test interactions\n",
      "EvaluatorHoldout: Processed 35563 (100.0%) in 34.83 sec. Users per second: 1021\n",
      "Similarity column 38121 (100.0%), 2850.61 column/sec. Elapsed time 13.37 sec\n",
      "EvaluatorHoldout: Ignoring 163 ( 0.5%) Users that have less than 1 test interactions\n",
      "EvaluatorHoldout: Processed 35573 (100.0%) in 34.99 sec. Users per second: 1017\n",
      "Similarity column 38121 (100.0%), 2857.00 column/sec. Elapsed time 13.34 sec\n",
      "EvaluatorHoldout: Ignoring 150 ( 0.4%) Users that have less than 1 test interactions\n",
      "EvaluatorHoldout: Processed 35586 (100.0%) in 35.13 sec. Users per second: 1013\n",
      "Similarity column 38121 (100.0%), 2777.78 column/sec. Elapsed time 13.72 sec\n",
      "EvaluatorHoldout: Ignoring 167 ( 0.5%) Users that have less than 1 test interactions\n",
      "EvaluatorHoldout: Processed 35569 (100.0%) in 34.63 sec. Users per second: 1027\n",
      "Similarity column 38121 (100.0%), 2830.38 column/sec. Elapsed time 13.47 sec\n",
      "EvaluatorHoldout: Ignoring 172 ( 0.5%) Users that have less than 1 test interactions\n",
      "EvaluatorHoldout: Processed 35564 (100.0%) in 34.79 sec. Users per second: 1022\n"
     ]
    },
    {
     "name": "stderr",
     "output_type": "stream",
     "text": [
      "[I 2025-01-04 15:47:43,307] Trial 154 finished with value: 0.04739143116001597 and parameters: {'similarity': 'cosine', 'topK': 55, 'shrink': 53, 'feature_weighting': 'TF-IDF'}. Best is trial 23 with value: 0.05167910318356951.\n"
     ]
    },
    {
     "name": "stdout",
     "output_type": "stream",
     "text": [
      "Similarity column 38121 (100.0%), 2892.41 column/sec. Elapsed time 13.18 sec\n",
      "EvaluatorHoldout: Ignoring 173 ( 0.5%) Users that have less than 1 test interactions\n",
      "EvaluatorHoldout: Processed 35563 (100.0%) in 31.61 sec. Users per second: 1125\n",
      "Similarity column 38121 (100.0%), 2864.57 column/sec. Elapsed time 13.31 sec\n",
      "EvaluatorHoldout: Ignoring 163 ( 0.5%) Users that have less than 1 test interactions\n",
      "EvaluatorHoldout: Processed 35573 (100.0%) in 31.40 sec. Users per second: 1133\n",
      "Similarity column 38121 (100.0%), 2825.62 column/sec. Elapsed time 13.49 sec\n",
      "EvaluatorHoldout: Ignoring 150 ( 0.4%) Users that have less than 1 test interactions\n",
      "EvaluatorHoldout: Processed 35586 (100.0%) in 31.50 sec. Users per second: 1130\n",
      "Similarity column 38121 (100.0%), 2779.82 column/sec. Elapsed time 13.71 sec\n",
      "EvaluatorHoldout: Ignoring 167 ( 0.5%) Users that have less than 1 test interactions\n",
      "EvaluatorHoldout: Processed 35569 (100.0%) in 32.03 sec. Users per second: 1110\n",
      "Similarity column 38121 (100.0%), 2825.43 column/sec. Elapsed time 13.49 sec\n",
      "EvaluatorHoldout: Ignoring 172 ( 0.5%) Users that have less than 1 test interactions\n",
      "EvaluatorHoldout: Processed 35564 (100.0%) in 31.49 sec. Users per second: 1129\n"
     ]
    },
    {
     "name": "stderr",
     "output_type": "stream",
     "text": [
      "[I 2025-01-04 15:51:30,160] Trial 155 finished with value: 0.050711091356320306 and parameters: {'similarity': 'cosine', 'topK': 10, 'shrink': 145, 'feature_weighting': 'TF-IDF'}. Best is trial 23 with value: 0.05167910318356951.\n"
     ]
    },
    {
     "name": "stdout",
     "output_type": "stream",
     "text": [
      "Similarity column 38121 (100.0%), 3385.54 column/sec. Elapsed time 11.26 sec\n",
      "EvaluatorHoldout: Ignoring 173 ( 0.5%) Users that have less than 1 test interactions\n",
      "EvaluatorHoldout: Processed 35563 (100.0%) in 27.96 sec. Users per second: 1272\n",
      "Similarity column 38121 (100.0%), 3382.18 column/sec. Elapsed time 11.27 sec\n",
      "EvaluatorHoldout: Ignoring 163 ( 0.5%) Users that have less than 1 test interactions\n",
      "EvaluatorHoldout: Processed 35573 (100.0%) in 27.84 sec. Users per second: 1278\n",
      "Similarity column 38121 (100.0%), 3313.66 column/sec. Elapsed time 11.50 sec\n",
      "EvaluatorHoldout: Ignoring 150 ( 0.4%) Users that have less than 1 test interactions\n",
      "EvaluatorHoldout: Processed 35586 (100.0%) in 27.77 sec. Users per second: 1282\n",
      "Similarity column 38121 (100.0%), 3373.05 column/sec. Elapsed time 11.30 sec\n",
      "EvaluatorHoldout: Ignoring 167 ( 0.5%) Users that have less than 1 test interactions\n",
      "EvaluatorHoldout: Processed 35569 (100.0%) in 27.94 sec. Users per second: 1273\n",
      "Similarity column 38121 (100.0%), 3387.49 column/sec. Elapsed time 11.25 sec\n",
      "EvaluatorHoldout: Ignoring 172 ( 0.5%) Users that have less than 1 test interactions\n",
      "EvaluatorHoldout: Processed 35564 (100.0%) in 27.66 sec. Users per second: 1286\n"
     ]
    },
    {
     "name": "stderr",
     "output_type": "stream",
     "text": [
      "[I 2025-01-04 15:54:47,391] Trial 156 finished with value: 0.0423139061213198 and parameters: {'similarity': 'cosine', 'topK': 1, 'shrink': 147, 'feature_weighting': 'TF-IDF'}. Best is trial 23 with value: 0.05167910318356951.\n"
     ]
    },
    {
     "name": "stdout",
     "output_type": "stream",
     "text": [
      "Similarity column 38121 (100.0%), 2888.57 column/sec. Elapsed time 13.20 sec\n",
      "EvaluatorHoldout: Ignoring 173 ( 0.5%) Users that have less than 1 test interactions\n",
      "EvaluatorHoldout: Processed 35563 (100.0%) in 33.57 sec. Users per second: 1059\n",
      "Similarity column 38121 (100.0%), 2831.11 column/sec. Elapsed time 13.47 sec\n",
      "EvaluatorHoldout: Ignoring 163 ( 0.5%) Users that have less than 1 test interactions\n",
      "EvaluatorHoldout: Processed 35573 (100.0%) in 32.95 sec. Users per second: 1080\n",
      "Similarity column 38121 (100.0%), 2900.14 column/sec. Elapsed time 13.14 sec\n",
      "EvaluatorHoldout: Ignoring 150 ( 0.4%) Users that have less than 1 test interactions\n",
      "EvaluatorHoldout: Processed 35586 (100.0%) in 32.82 sec. Users per second: 1084\n",
      "Similarity column 38121 (100.0%), 2878.89 column/sec. Elapsed time 13.24 sec\n",
      "EvaluatorHoldout: Ignoring 167 ( 0.5%) Users that have less than 1 test interactions\n",
      "EvaluatorHoldout: Processed 35569 (100.0%) in 32.91 sec. Users per second: 1081\n",
      "Similarity column 38121 (100.0%), 2887.36 column/sec. Elapsed time 13.20 sec\n",
      "EvaluatorHoldout: Ignoring 172 ( 0.5%) Users that have less than 1 test interactions\n",
      "EvaluatorHoldout: Processed 35564 (100.0%) in 33.06 sec. Users per second: 1076\n"
     ]
    },
    {
     "name": "stderr",
     "output_type": "stream",
     "text": [
      "[I 2025-01-04 15:58:40,581] Trial 157 finished with value: 0.04850785022691531 and parameters: {'similarity': 'cosine', 'topK': 27, 'shrink': 37, 'feature_weighting': 'TF-IDF'}. Best is trial 23 with value: 0.05167910318356951.\n"
     ]
    },
    {
     "name": "stdout",
     "output_type": "stream",
     "text": [
      "Similarity column 38121 (100.0%), 2824.97 column/sec. Elapsed time 13.49 sec\n",
      "EvaluatorHoldout: Ignoring 173 ( 0.5%) Users that have less than 1 test interactions\n",
      "EvaluatorHoldout: Processed 35563 (100.0%) in 36.11 sec. Users per second: 985\n",
      "Similarity column 38121 (100.0%), 2864.46 column/sec. Elapsed time 13.31 sec\n",
      "EvaluatorHoldout: Ignoring 163 ( 0.5%) Users that have less than 1 test interactions\n",
      "EvaluatorHoldout: Processed 35573 (100.0%) in 36.91 sec. Users per second: 964\n",
      "Similarity column 38121 (100.0%), 2808.53 column/sec. Elapsed time 13.57 sec\n",
      "EvaluatorHoldout: Ignoring 150 ( 0.4%) Users that have less than 1 test interactions\n",
      "EvaluatorHoldout: Processed 35586 (100.0%) in 36.53 sec. Users per second: 974\n",
      "Similarity column 38121 (100.0%), 2828.23 column/sec. Elapsed time 13.48 sec\n",
      "EvaluatorHoldout: Ignoring 167 ( 0.5%) Users that have less than 1 test interactions\n",
      "EvaluatorHoldout: Processed 35569 (100.0%) in 36.41 sec. Users per second: 977\n",
      "Similarity column 38121 (100.0%), 2841.40 column/sec. Elapsed time 13.42 sec\n",
      "EvaluatorHoldout: Ignoring 172 ( 0.5%) Users that have less than 1 test interactions\n",
      "EvaluatorHoldout: Processed 35564 (100.0%) in 36.19 sec. Users per second: 983\n"
     ]
    },
    {
     "name": "stderr",
     "output_type": "stream",
     "text": [
      "[I 2025-01-04 16:02:51,609] Trial 158 finished with value: 0.009216016064248595 and parameters: {'similarity': 'asymmetric', 'topK': 12, 'shrink': 76, 'feature_weighting': 'TF-IDF', 'asymmetric_alpha': 1.5917489318159819}. Best is trial 23 with value: 0.05167910318356951.\n"
     ]
    },
    {
     "name": "stdout",
     "output_type": "stream",
     "text": [
      "Similarity column 38121 (100.0%), 2770.62 column/sec. Elapsed time 13.76 sec\n",
      "EvaluatorHoldout: Ignoring 173 ( 0.5%) Users that have less than 1 test interactions\n",
      "EvaluatorHoldout: Processed 35563 (100.0%) in 33.92 sec. Users per second: 1048\n",
      "Similarity column 38121 (100.0%), 2833.29 column/sec. Elapsed time 13.45 sec\n",
      "EvaluatorHoldout: Ignoring 163 ( 0.5%) Users that have less than 1 test interactions\n",
      "EvaluatorHoldout: Processed 35573 (100.0%) in 34.05 sec. Users per second: 1045\n",
      "Similarity column 38121 (100.0%), 2775.30 column/sec. Elapsed time 13.74 sec\n",
      "EvaluatorHoldout: Ignoring 150 ( 0.4%) Users that have less than 1 test interactions\n",
      "EvaluatorHoldout: Processed 35586 (100.0%) in 33.96 sec. Users per second: 1048\n",
      "Similarity column 38121 (100.0%), 2839.51 column/sec. Elapsed time 13.43 sec\n",
      "EvaluatorHoldout: Ignoring 167 ( 0.5%) Users that have less than 1 test interactions\n",
      "EvaluatorHoldout: Processed 35569 (100.0%) in 34.23 sec. Users per second: 1039\n",
      "Similarity column 38121 (100.0%), 2767.23 column/sec. Elapsed time 13.78 sec\n",
      "EvaluatorHoldout: Ignoring 172 ( 0.5%) Users that have less than 1 test interactions\n",
      "EvaluatorHoldout: Processed 35564 (100.0%) in 34.49 sec. Users per second: 1031\n"
     ]
    },
    {
     "name": "stderr",
     "output_type": "stream",
     "text": [
      "[I 2025-01-04 16:06:52,252] Trial 159 finished with value: 0.04782418485527614 and parameters: {'similarity': 'cosine', 'topK': 40, 'shrink': 17, 'feature_weighting': 'TF-IDF'}. Best is trial 23 with value: 0.05167910318356951.\n"
     ]
    },
    {
     "name": "stdout",
     "output_type": "stream",
     "text": [
      "Similarity column 38121 (100.0%), 3387.93 column/sec. Elapsed time 11.25 sec\n",
      "EvaluatorHoldout: Ignoring 173 ( 0.5%) Users that have less than 1 test interactions\n",
      "EvaluatorHoldout: Processed 35563 (100.0%) in 25.59 sec. Users per second: 1389\n",
      "Similarity column 38121 (100.0%), 3332.97 column/sec. Elapsed time 11.44 sec\n",
      "EvaluatorHoldout: Ignoring 163 ( 0.5%) Users that have less than 1 test interactions\n",
      "EvaluatorHoldout: Processed 35573 (100.0%) in 26.80 sec. Users per second: 1327\n",
      "Similarity column 38121 (100.0%), 3319.14 column/sec. Elapsed time 11.49 sec\n",
      "EvaluatorHoldout: Ignoring 150 ( 0.4%) Users that have less than 1 test interactions\n",
      "EvaluatorHoldout: Processed 35586 (100.0%) in 27.08 sec. Users per second: 1314\n",
      "Similarity column 38121 (100.0%), 3202.22 column/sec. Elapsed time 11.90 sec\n",
      "EvaluatorHoldout: Ignoring 167 ( 0.5%) Users that have less than 1 test interactions\n",
      "EvaluatorHoldout: Processed 35569 (100.0%) in 27.01 sec. Users per second: 1317\n",
      "Similarity column 38121 (100.0%), 3272.15 column/sec. Elapsed time 11.65 sec\n",
      "EvaluatorHoldout: Ignoring 172 ( 0.5%) Users that have less than 1 test interactions\n",
      "EvaluatorHoldout: Processed 35564 (100.0%) in 27.35 sec. Users per second: 1300\n"
     ]
    },
    {
     "name": "stderr",
     "output_type": "stream",
     "text": [
      "[I 2025-01-04 16:10:06,373] Trial 160 finished with value: 0.0002664826418719655 and parameters: {'similarity': 'tversky', 'topK': 0, 'shrink': 91, 'feature_weighting': 'TF-IDF', 'tversky_alpha': 1.4894872349940336, 'tversky_beta': 1.2088183563190191}. Best is trial 23 with value: 0.05167910318356951.\n"
     ]
    },
    {
     "name": "stdout",
     "output_type": "stream",
     "text": [
      "Similarity column 38121 (100.0%), 2569.59 column/sec. Elapsed time 14.84 sec\n",
      "EvaluatorHoldout: Ignoring 173 ( 0.5%) Users that have less than 1 test interactions\n",
      "EvaluatorHoldout: Processed 35563 (100.0%) in 36.40 sec. Users per second: 977\n",
      "Similarity column 38121 (100.0%), 2711.31 column/sec. Elapsed time 14.06 sec\n",
      "EvaluatorHoldout: Ignoring 163 ( 0.5%) Users that have less than 1 test interactions\n",
      "EvaluatorHoldout: Processed 35573 (100.0%) in 35.80 sec. Users per second: 994\n",
      "Similarity column 38121 (100.0%), 2678.68 column/sec. Elapsed time 14.23 sec\n",
      "EvaluatorHoldout: Ignoring 150 ( 0.4%) Users that have less than 1 test interactions\n",
      "EvaluatorHoldout: Processed 35586 (100.0%) in 35.86 sec. Users per second: 992\n",
      "Similarity column 38121 (100.0%), 2721.35 column/sec. Elapsed time 14.01 sec\n",
      "EvaluatorHoldout: Ignoring 167 ( 0.5%) Users that have less than 1 test interactions\n",
      "EvaluatorHoldout: Processed 35569 (100.0%) in 35.33 sec. Users per second: 1007\n",
      "Similarity column 38121 (100.0%), 2678.22 column/sec. Elapsed time 14.23 sec\n",
      "EvaluatorHoldout: Ignoring 172 ( 0.5%) Users that have less than 1 test interactions\n",
      "EvaluatorHoldout: Processed 35564 (100.0%) in 35.41 sec. Users per second: 1004\n"
     ]
    },
    {
     "name": "stderr",
     "output_type": "stream",
     "text": [
      "[I 2025-01-04 16:14:18,568] Trial 161 finished with value: 0.049024305900822816 and parameters: {'similarity': 'cosine', 'topK': 24, 'shrink': 167, 'feature_weighting': 'TF-IDF'}. Best is trial 23 with value: 0.05167910318356951.\n"
     ]
    },
    {
     "name": "stdout",
     "output_type": "stream",
     "text": [
      "Similarity column 38121 (100.0%), 2702.92 column/sec. Elapsed time 14.10 sec\n",
      "EvaluatorHoldout: Ignoring 173 ( 0.5%) Users that have less than 1 test interactions\n",
      "EvaluatorHoldout: Processed 35563 (100.0%) in 34.58 sec. Users per second: 1028\n",
      "Similarity column 38121 (100.0%), 2584.62 column/sec. Elapsed time 14.75 sec\n",
      "EvaluatorHoldout: Ignoring 163 ( 0.5%) Users that have less than 1 test interactions\n",
      "EvaluatorHoldout: Processed 35573 (100.0%) in 35.59 sec. Users per second: 1000\n",
      "Similarity column 38121 (100.0%), 2566.03 column/sec. Elapsed time 14.86 sec\n",
      "EvaluatorHoldout: Ignoring 150 ( 0.4%) Users that have less than 1 test interactions\n",
      "EvaluatorHoldout: Processed 35586 (100.0%) in 35.34 sec. Users per second: 1007\n",
      "Similarity column 38121 (100.0%), 2854.69 column/sec. Elapsed time 13.35 sec\n",
      "EvaluatorHoldout: Ignoring 167 ( 0.5%) Users that have less than 1 test interactions\n",
      "EvaluatorHoldout: Processed 35569 (100.0%) in 32.31 sec. Users per second: 1101\n",
      "Similarity column 38121 (100.0%), 2841.31 column/sec. Elapsed time 13.42 sec\n",
      "EvaluatorHoldout: Ignoring 172 ( 0.5%) Users that have less than 1 test interactions\n",
      "EvaluatorHoldout: Processed 35564 (100.0%) in 32.49 sec. Users per second: 1095\n"
     ]
    },
    {
     "name": "stderr",
     "output_type": "stream",
     "text": [
      "[I 2025-01-04 16:18:21,185] Trial 162 finished with value: 0.04964787000215071 and parameters: {'similarity': 'cosine', 'topK': 16, 'shrink': 115, 'feature_weighting': 'TF-IDF'}. Best is trial 23 with value: 0.05167910318356951.\n"
     ]
    },
    {
     "name": "stdout",
     "output_type": "stream",
     "text": [
      "Similarity column 38121 (100.0%), 2840.93 column/sec. Elapsed time 13.42 sec\n",
      "EvaluatorHoldout: Ignoring 173 ( 0.5%) Users that have less than 1 test interactions\n",
      "EvaluatorHoldout: Processed 35563 (100.0%) in 33.98 sec. Users per second: 1047\n",
      "Similarity column 38121 (100.0%), 2864.29 column/sec. Elapsed time 13.31 sec\n",
      "EvaluatorHoldout: Ignoring 163 ( 0.5%) Users that have less than 1 test interactions\n",
      "EvaluatorHoldout: Processed 35573 (100.0%) in 33.72 sec. Users per second: 1055\n",
      "Similarity column 38121 (100.0%), 2844.54 column/sec. Elapsed time 13.40 sec\n",
      "EvaluatorHoldout: Ignoring 150 ( 0.4%) Users that have less than 1 test interactions\n",
      "EvaluatorHoldout: Processed 35586 (100.0%) in 34.22 sec. Users per second: 1040\n",
      "Similarity column 38121 (100.0%), 2851.34 column/sec. Elapsed time 13.37 sec\n",
      "EvaluatorHoldout: Ignoring 167 ( 0.5%) Users that have less than 1 test interactions\n",
      "EvaluatorHoldout: Processed 35569 (100.0%) in 33.67 sec. Users per second: 1056\n",
      "Similarity column 38121 (100.0%), 2838.09 column/sec. Elapsed time 13.43 sec\n",
      "EvaluatorHoldout: Ignoring 172 ( 0.5%) Users that have less than 1 test interactions\n",
      "EvaluatorHoldout: Processed 35564 (100.0%) in 34.27 sec. Users per second: 1038\n"
     ]
    },
    {
     "name": "stderr",
     "output_type": "stream",
     "text": [
      "[I 2025-01-04 16:22:19,772] Trial 163 finished with value: 0.04821691192237398 and parameters: {'similarity': 'cosine', 'topK': 35, 'shrink': 64, 'feature_weighting': 'TF-IDF'}. Best is trial 23 with value: 0.05167910318356951.\n"
     ]
    },
    {
     "name": "stdout",
     "output_type": "stream",
     "text": [
      "Similarity column 38121 (100.0%), 2862.65 column/sec. Elapsed time 13.32 sec\n",
      "EvaluatorHoldout: Ignoring 173 ( 0.5%) Users that have less than 1 test interactions\n",
      "EvaluatorHoldout: Processed 35563 (100.0%) in 34.95 sec. Users per second: 1017\n",
      "Similarity column 38121 (100.0%), 2845.61 column/sec. Elapsed time 13.40 sec\n",
      "EvaluatorHoldout: Ignoring 163 ( 0.5%) Users that have less than 1 test interactions\n",
      "EvaluatorHoldout: Processed 35573 (100.0%) in 34.89 sec. Users per second: 1020\n",
      "Similarity column 38121 (100.0%), 2839.19 column/sec. Elapsed time 13.43 sec\n",
      "EvaluatorHoldout: Ignoring 150 ( 0.4%) Users that have less than 1 test interactions\n",
      "EvaluatorHoldout: Processed 35586 (100.0%) in 35.38 sec. Users per second: 1006\n",
      "Similarity column 38121 (100.0%), 2844.61 column/sec. Elapsed time 13.40 sec\n",
      "EvaluatorHoldout: Ignoring 167 ( 0.5%) Users that have less than 1 test interactions\n",
      "EvaluatorHoldout: Processed 35569 (100.0%) in 35.42 sec. Users per second: 1004\n",
      "Similarity column 38121 (100.0%), 2810.52 column/sec. Elapsed time 13.56 sec\n",
      "EvaluatorHoldout: Ignoring 172 ( 0.5%) Users that have less than 1 test interactions\n",
      "EvaluatorHoldout: Processed 35564 (100.0%) in 35.40 sec. Users per second: 1005\n"
     ]
    },
    {
     "name": "stderr",
     "output_type": "stream",
     "text": [
      "[I 2025-01-04 16:26:24,824] Trial 164 finished with value: 0.04766757359625482 and parameters: {'similarity': 'cosine', 'topK': 54, 'shrink': 130, 'feature_weighting': 'TF-IDF'}. Best is trial 23 with value: 0.05167910318356951.\n"
     ]
    },
    {
     "name": "stdout",
     "output_type": "stream",
     "text": [
      "Similarity column 38121 (100.0%), 2915.75 column/sec. Elapsed time 13.07 sec\n",
      "EvaluatorHoldout: Ignoring 173 ( 0.5%) Users that have less than 1 test interactions\n",
      "EvaluatorHoldout: Processed 35563 (100.0%) in 31.94 sec. Users per second: 1113\n",
      "Similarity column 38121 (100.0%), 2865.33 column/sec. Elapsed time 13.30 sec\n",
      "EvaluatorHoldout: Ignoring 163 ( 0.5%) Users that have less than 1 test interactions\n",
      "EvaluatorHoldout: Processed 35573 (100.0%) in 31.92 sec. Users per second: 1115\n",
      "Similarity column 38121 (100.0%), 2922.63 column/sec. Elapsed time 13.04 sec\n",
      "EvaluatorHoldout: Ignoring 150 ( 0.4%) Users that have less than 1 test interactions\n",
      "EvaluatorHoldout: Processed 35586 (100.0%) in 31.96 sec. Users per second: 1114\n",
      "Similarity column 38121 (100.0%), 2924.09 column/sec. Elapsed time 13.04 sec\n",
      "EvaluatorHoldout: Ignoring 167 ( 0.5%) Users that have less than 1 test interactions\n",
      "EvaluatorHoldout: Processed 35569 (100.0%) in 32.33 sec. Users per second: 1100\n",
      "Similarity column 38121 (100.0%), 2816.69 column/sec. Elapsed time 13.53 sec\n",
      "EvaluatorHoldout: Ignoring 172 ( 0.5%) Users that have less than 1 test interactions\n",
      "EvaluatorHoldout: Processed 35564 (100.0%) in 34.17 sec. Users per second: 1041\n"
     ]
    },
    {
     "name": "stderr",
     "output_type": "stream",
     "text": [
      "[I 2025-01-04 16:30:15,640] Trial 165 finished with value: 0.049898896364941756 and parameters: {'similarity': 'jaccard', 'topK': 13, 'shrink': 43, 'feature_weighting': 'TF-IDF'}. Best is trial 23 with value: 0.05167910318356951.\n"
     ]
    },
    {
     "name": "stdout",
     "output_type": "stream",
     "text": [
      "Similarity column 38121 (100.0%), 2703.60 column/sec. Elapsed time 14.10 sec\n",
      "EvaluatorHoldout: Ignoring 173 ( 0.5%) Users that have less than 1 test interactions\n",
      "EvaluatorHoldout: Processed 35563 (100.0%) in 35.50 sec. Users per second: 1002\n",
      "Similarity column 38121 (100.0%), 2791.73 column/sec. Elapsed time 13.65 sec\n",
      "EvaluatorHoldout: Ignoring 163 ( 0.5%) Users that have less than 1 test interactions\n",
      "EvaluatorHoldout: Processed 35573 (100.0%) in 35.06 sec. Users per second: 1015\n",
      "Similarity column 38121 (100.0%), 2770.44 column/sec. Elapsed time 13.76 sec\n",
      "EvaluatorHoldout: Ignoring 150 ( 0.4%) Users that have less than 1 test interactions\n",
      "EvaluatorHoldout: Processed 35586 (100.0%) in 34.78 sec. Users per second: 1023\n",
      "Similarity column 38121 (100.0%), 2811.77 column/sec. Elapsed time 13.56 sec\n",
      "EvaluatorHoldout: Ignoring 167 ( 0.5%) Users that have less than 1 test interactions\n",
      "EvaluatorHoldout: Processed 35569 (100.0%) in 34.44 sec. Users per second: 1033\n",
      "Similarity column 38121 (100.0%), 2771.91 column/sec. Elapsed time 13.75 sec\n",
      "EvaluatorHoldout: Ignoring 172 ( 0.5%) Users that have less than 1 test interactions\n",
      "EvaluatorHoldout: Processed 35564 (100.0%) in 34.21 sec. Users per second: 1040\n"
     ]
    },
    {
     "name": "stderr",
     "output_type": "stream",
     "text": [
      "[I 2025-01-04 16:34:20,253] Trial 166 finished with value: 0.04866275228073952 and parameters: {'similarity': 'cosine', 'topK': 27, 'shrink': 95, 'feature_weighting': 'TF-IDF'}. Best is trial 23 with value: 0.05167910318356951.\n"
     ]
    },
    {
     "name": "stdout",
     "output_type": "stream",
     "text": [
      "Similarity column 38121 (100.0%), 2794.12 column/sec. Elapsed time 13.64 sec\n",
      "EvaluatorHoldout: Ignoring 173 ( 0.5%) Users that have less than 1 test interactions\n",
      "EvaluatorHoldout: Processed 35563 (100.0%) in 32.89 sec. Users per second: 1081\n",
      "Similarity column 38121 (100.0%), 2738.51 column/sec. Elapsed time 13.92 sec\n",
      "EvaluatorHoldout: Ignoring 163 ( 0.5%) Users that have less than 1 test interactions\n",
      "EvaluatorHoldout: Processed 35573 (100.0%) in 33.62 sec. Users per second: 1058\n",
      "Similarity column 38121 (100.0%), 2795.21 column/sec. Elapsed time 13.64 sec\n",
      "EvaluatorHoldout: Ignoring 150 ( 0.4%) Users that have less than 1 test interactions\n",
      "EvaluatorHoldout: Processed 35586 (100.0%) in 32.65 sec. Users per second: 1090\n",
      "Similarity column 38121 (100.0%), 2785.17 column/sec. Elapsed time 13.69 sec\n",
      "EvaluatorHoldout: Ignoring 167 ( 0.5%) Users that have less than 1 test interactions\n",
      "EvaluatorHoldout: Processed 35569 (100.0%) in 31.34 sec. Users per second: 1135\n",
      "Similarity column 38121 (100.0%), 2890.15 column/sec. Elapsed time 13.19 sec\n",
      "EvaluatorHoldout: Ignoring 172 ( 0.5%) Users that have less than 1 test interactions\n",
      "EvaluatorHoldout: Processed 35564 (100.0%) in 31.79 sec. Users per second: 1119\n"
     ]
    },
    {
     "name": "stderr",
     "output_type": "stream",
     "text": [
      "[I 2025-01-04 16:38:12,294] Trial 167 finished with value: 0.050339485124901585 and parameters: {'similarity': 'cosine', 'topK': 12, 'shrink': 149, 'feature_weighting': 'TF-IDF'}. Best is trial 23 with value: 0.05167910318356951.\n"
     ]
    },
    {
     "name": "stdout",
     "output_type": "stream",
     "text": [
      "Similarity column 38121 (100.0%), 2849.59 column/sec. Elapsed time 13.38 sec\n",
      "EvaluatorHoldout: Ignoring 173 ( 0.5%) Users that have less than 1 test interactions\n",
      "EvaluatorHoldout: Processed 35563 (100.0%) in 34.39 sec. Users per second: 1034\n",
      "Similarity column 38121 (100.0%), 2835.95 column/sec. Elapsed time 13.44 sec\n",
      "EvaluatorHoldout: Ignoring 163 ( 0.5%) Users that have less than 1 test interactions\n",
      "EvaluatorHoldout: Processed 35573 (100.0%) in 34.53 sec. Users per second: 1030\n",
      "Similarity column 38121 (100.0%), 2747.35 column/sec. Elapsed time 13.88 sec\n",
      "EvaluatorHoldout: Ignoring 150 ( 0.4%) Users that have less than 1 test interactions\n",
      "EvaluatorHoldout: Processed 35586 (100.0%) in 35.29 sec. Users per second: 1008\n",
      "Similarity column 38121 (100.0%), 2855.26 column/sec. Elapsed time 13.35 sec\n",
      "EvaluatorHoldout: Ignoring 167 ( 0.5%) Users that have less than 1 test interactions\n",
      "EvaluatorHoldout: Processed 35569 (100.0%) in 34.25 sec. Users per second: 1039\n",
      "Similarity column 38121 (100.0%), 2841.28 column/sec. Elapsed time 13.42 sec\n",
      "EvaluatorHoldout: Ignoring 172 ( 0.5%) Users that have less than 1 test interactions\n",
      "EvaluatorHoldout: Processed 35564 (100.0%) in 34.49 sec. Users per second: 1031\n"
     ]
    },
    {
     "name": "stderr",
     "output_type": "stream",
     "text": [
      "[I 2025-01-04 16:42:14,569] Trial 168 finished with value: 0.04805792166950668 and parameters: {'similarity': 'cosine', 'topK': 45, 'shrink': 138, 'feature_weighting': 'TF-IDF'}. Best is trial 23 with value: 0.05167910318356951.\n"
     ]
    },
    {
     "name": "stdout",
     "output_type": "stream",
     "text": [
      "Similarity column 38121 (100.0%), 3339.90 column/sec. Elapsed time 11.41 sec\n",
      "EvaluatorHoldout: Ignoring 173 ( 0.5%) Users that have less than 1 test interactions\n",
      "EvaluatorHoldout: Processed 35563 (100.0%) in 28.38 sec. Users per second: 1253\n",
      "Similarity column 38121 (100.0%), 3360.64 column/sec. Elapsed time 11.34 sec\n",
      "EvaluatorHoldout: Ignoring 163 ( 0.5%) Users that have less than 1 test interactions\n",
      "EvaluatorHoldout: Processed 35573 (100.0%) in 28.76 sec. Users per second: 1237\n",
      "Similarity column 38121 (100.0%), 3330.83 column/sec. Elapsed time 11.44 sec\n",
      "EvaluatorHoldout: Ignoring 150 ( 0.4%) Users that have less than 1 test interactions\n",
      "EvaluatorHoldout: Processed 35586 (100.0%) in 28.32 sec. Users per second: 1257\n",
      "Similarity column 38121 (100.0%), 3360.51 column/sec. Elapsed time 11.34 sec\n",
      "EvaluatorHoldout: Ignoring 167 ( 0.5%) Users that have less than 1 test interactions\n",
      "EvaluatorHoldout: Processed 35569 (100.0%) in 28.27 sec. Users per second: 1258\n",
      "Similarity column 38121 (100.0%), 3277.73 column/sec. Elapsed time 11.63 sec\n",
      "EvaluatorHoldout: Ignoring 172 ( 0.5%) Users that have less than 1 test interactions\n",
      "EvaluatorHoldout: Processed 35564 (100.0%) in 28.70 sec. Users per second: 1239\n"
     ]
    },
    {
     "name": "stderr",
     "output_type": "stream",
     "text": [
      "[I 2025-01-04 16:45:35,132] Trial 169 finished with value: 0.03807168129783852 and parameters: {'similarity': 'cosine', 'topK': 1, 'shrink': 59, 'feature_weighting': 'none'}. Best is trial 23 with value: 0.05167910318356951.\n"
     ]
    },
    {
     "name": "stdout",
     "output_type": "stream",
     "text": [
      "Similarity column 38121 (100.0%), 2761.06 column/sec. Elapsed time 13.81 sec\n",
      "EvaluatorHoldout: Ignoring 173 ( 0.5%) Users that have less than 1 test interactions\n",
      "EvaluatorHoldout: Processed 35563 (100.0%) in 36.07 sec. Users per second: 986\n",
      "Similarity column 38121 (100.0%), 2860.51 column/sec. Elapsed time 13.33 sec\n",
      "EvaluatorHoldout: Ignoring 163 ( 0.5%) Users that have less than 1 test interactions\n",
      "EvaluatorHoldout: Processed 35573 (100.0%) in 35.85 sec. Users per second: 992\n",
      "Similarity column 38121 (100.0%), 2769.79 column/sec. Elapsed time 13.76 sec\n",
      "EvaluatorHoldout: Ignoring 150 ( 0.4%) Users that have less than 1 test interactions\n",
      "EvaluatorHoldout: Processed 35586 (100.0%) in 35.91 sec. Users per second: 991\n",
      "Similarity column 38121 (100.0%), 2843.74 column/sec. Elapsed time 13.41 sec\n",
      "EvaluatorHoldout: Ignoring 167 ( 0.5%) Users that have less than 1 test interactions\n",
      "EvaluatorHoldout: Processed 35569 (100.0%) in 36.31 sec. Users per second: 980\n",
      "Similarity column 38121 (100.0%), 2758.75 column/sec. Elapsed time 13.82 sec\n",
      "EvaluatorHoldout: Ignoring 172 ( 0.5%) Users that have less than 1 test interactions\n",
      "EvaluatorHoldout: Processed 35564 (100.0%) in 36.10 sec. Users per second: 985\n"
     ]
    },
    {
     "name": "stderr",
     "output_type": "stream",
     "text": [
      "[I 2025-01-04 16:49:45,412] Trial 170 finished with value: 0.04801868844605957 and parameters: {'similarity': 'cosine', 'topK': 62, 'shrink': 580, 'feature_weighting': 'TF-IDF'}. Best is trial 23 with value: 0.05167910318356951.\n"
     ]
    },
    {
     "name": "stdout",
     "output_type": "stream",
     "text": [
      "Similarity column 38121 (100.0%), 2886.49 column/sec. Elapsed time 13.21 sec\n",
      "EvaluatorHoldout: Ignoring 173 ( 0.5%) Users that have less than 1 test interactions\n",
      "EvaluatorHoldout: Processed 35563 (100.0%) in 32.48 sec. Users per second: 1095\n",
      "Similarity column 38121 (100.0%), 2841.15 column/sec. Elapsed time 13.42 sec\n",
      "EvaluatorHoldout: Ignoring 163 ( 0.5%) Users that have less than 1 test interactions\n",
      "EvaluatorHoldout: Processed 35573 (100.0%) in 31.92 sec. Users per second: 1114\n",
      "Similarity column 38121 (100.0%), 2880.08 column/sec. Elapsed time 13.24 sec\n",
      "EvaluatorHoldout: Ignoring 150 ( 0.4%) Users that have less than 1 test interactions\n",
      "EvaluatorHoldout: Processed 35586 (100.0%) in 31.93 sec. Users per second: 1115\n",
      "Similarity column 38121 (100.0%), 2869.25 column/sec. Elapsed time 13.29 sec\n",
      "EvaluatorHoldout: Ignoring 167 ( 0.5%) Users that have less than 1 test interactions\n",
      "EvaluatorHoldout: Processed 35569 (100.0%) in 31.72 sec. Users per second: 1121\n",
      "Similarity column 38121 (100.0%), 2896.89 column/sec. Elapsed time 13.16 sec\n",
      "EvaluatorHoldout: Ignoring 172 ( 0.5%) Users that have less than 1 test interactions\n",
      "EvaluatorHoldout: Processed 35564 (100.0%) in 31.99 sec. Users per second: 1112\n"
     ]
    },
    {
     "name": "stderr",
     "output_type": "stream",
     "text": [
      "[I 2025-01-04 16:53:33,290] Trial 171 finished with value: 0.04989307820097129 and parameters: {'similarity': 'cosine', 'topK': 15, 'shrink': 160, 'feature_weighting': 'TF-IDF'}. Best is trial 23 with value: 0.05167910318356951.\n"
     ]
    },
    {
     "name": "stdout",
     "output_type": "stream",
     "text": [
      "Similarity column 38121 (100.0%), 2864.12 column/sec. Elapsed time 13.31 sec\n",
      "EvaluatorHoldout: Ignoring 173 ( 0.5%) Users that have less than 1 test interactions\n",
      "EvaluatorHoldout: Processed 35563 (100.0%) in 32.85 sec. Users per second: 1083\n",
      "Similarity column 38121 (100.0%), 2788.87 column/sec. Elapsed time 13.67 sec\n",
      "EvaluatorHoldout: Ignoring 163 ( 0.5%) Users that have less than 1 test interactions\n",
      "EvaluatorHoldout: Processed 35573 (100.0%) in 32.76 sec. Users per second: 1086\n",
      "Similarity column 38121 (100.0%), 2872.07 column/sec. Elapsed time 13.27 sec\n",
      "EvaluatorHoldout: Ignoring 150 ( 0.4%) Users that have less than 1 test interactions\n",
      "EvaluatorHoldout: Processed 35586 (100.0%) in 32.84 sec. Users per second: 1083\n",
      "Similarity column 38121 (100.0%), 2844.62 column/sec. Elapsed time 13.40 sec\n",
      "EvaluatorHoldout: Ignoring 167 ( 0.5%) Users that have less than 1 test interactions\n",
      "EvaluatorHoldout: Processed 35569 (100.0%) in 32.72 sec. Users per second: 1087\n",
      "Similarity column 38121 (100.0%), 2872.86 column/sec. Elapsed time 13.27 sec\n",
      "EvaluatorHoldout: Ignoring 172 ( 0.5%) Users that have less than 1 test interactions\n",
      "EvaluatorHoldout: Processed 35564 (100.0%) in 32.75 sec. Users per second: 1086\n"
     ]
    },
    {
     "name": "stderr",
     "output_type": "stream",
     "text": [
      "[I 2025-01-04 16:57:25,785] Trial 172 finished with value: 0.04862042917789884 and parameters: {'similarity': 'cosine', 'topK': 24, 'shrink': 25, 'feature_weighting': 'TF-IDF'}. Best is trial 23 with value: 0.05167910318356951.\n"
     ]
    },
    {
     "name": "stdout",
     "output_type": "stream",
     "text": [
      "Similarity column 38121 (100.0%), 3637.50 column/sec. Elapsed time 10.48 sec\n",
      "EvaluatorHoldout: Ignoring 173 ( 0.5%) Users that have less than 1 test interactions\n",
      "EvaluatorHoldout: Processed 35563 (100.0%) in 25.02 sec. Users per second: 1422\n",
      "Similarity column 38121 (100.0%), 3629.18 column/sec. Elapsed time 10.50 sec\n",
      "EvaluatorHoldout: Ignoring 163 ( 0.5%) Users that have less than 1 test interactions\n",
      "EvaluatorHoldout: Processed 35573 (100.0%) in 24.95 sec. Users per second: 1426\n",
      "Similarity column 38121 (100.0%), 3697.66 column/sec. Elapsed time 10.31 sec\n",
      "EvaluatorHoldout: Ignoring 150 ( 0.4%) Users that have less than 1 test interactions\n",
      "EvaluatorHoldout: Processed 35586 (100.0%) in 24.98 sec. Users per second: 1424\n",
      "Similarity column 38121 (100.0%), 3664.79 column/sec. Elapsed time 10.40 sec\n",
      "EvaluatorHoldout: Ignoring 167 ( 0.5%) Users that have less than 1 test interactions\n",
      "EvaluatorHoldout: Processed 35569 (100.0%) in 24.88 sec. Users per second: 1430\n",
      "Similarity column 38121 (100.0%), 3688.58 column/sec. Elapsed time 10.33 sec\n",
      "EvaluatorHoldout: Ignoring 172 ( 0.5%) Users that have less than 1 test interactions\n",
      "EvaluatorHoldout: Processed 35564 (100.0%) in 26.16 sec. Users per second: 1360\n"
     ]
    },
    {
     "name": "stderr",
     "output_type": "stream",
     "text": [
      "[I 2025-01-04 17:00:25,267] Trial 173 finished with value: 0.0002664826418719655 and parameters: {'similarity': 'cosine', 'topK': 0, 'shrink': 1, 'feature_weighting': 'TF-IDF'}. Best is trial 23 with value: 0.05167910318356951.\n"
     ]
    },
    {
     "name": "stdout",
     "output_type": "stream",
     "text": [
      "Similarity column 38121 (100.0%), 2868.71 column/sec. Elapsed time 13.29 sec\n",
      "EvaluatorHoldout: Ignoring 173 ( 0.5%) Users that have less than 1 test interactions\n",
      "EvaluatorHoldout: Processed 35563 (100.0%) in 33.83 sec. Users per second: 1051\n",
      "Similarity column 38121 (100.0%), 2864.03 column/sec. Elapsed time 13.31 sec\n",
      "EvaluatorHoldout: Ignoring 163 ( 0.5%) Users that have less than 1 test interactions\n",
      "EvaluatorHoldout: Processed 35573 (100.0%) in 33.45 sec. Users per second: 1063\n",
      "Similarity column 38121 (100.0%), 2852.99 column/sec. Elapsed time 13.36 sec\n",
      "EvaluatorHoldout: Ignoring 150 ( 0.4%) Users that have less than 1 test interactions\n",
      "EvaluatorHoldout: Processed 35586 (100.0%) in 33.87 sec. Users per second: 1051\n",
      "Similarity column 38121 (100.0%), 2878.00 column/sec. Elapsed time 13.25 sec\n",
      "EvaluatorHoldout: Ignoring 167 ( 0.5%) Users that have less than 1 test interactions\n",
      "EvaluatorHoldout: Processed 35569 (100.0%) in 33.26 sec. Users per second: 1069\n",
      "Similarity column 38121 (100.0%), 2886.06 column/sec. Elapsed time 13.21 sec\n",
      "EvaluatorHoldout: Ignoring 172 ( 0.5%) Users that have less than 1 test interactions\n",
      "EvaluatorHoldout: Processed 35564 (100.0%) in 33.39 sec. Users per second: 1065\n"
     ]
    },
    {
     "name": "stderr",
     "output_type": "stream",
     "text": [
      "[I 2025-01-04 17:04:21,292] Trial 174 finished with value: 0.04872917207550892 and parameters: {'similarity': 'cosine', 'topK': 29, 'shrink': 191, 'feature_weighting': 'TF-IDF'}. Best is trial 23 with value: 0.05167910318356951.\n"
     ]
    },
    {
     "name": "stdout",
     "output_type": "stream",
     "text": [
      "Similarity column 38121 (100.0%), 2583.39 column/sec. Elapsed time 14.76 sec\n",
      "EvaluatorHoldout: Ignoring 173 ( 0.5%) Users that have less than 1 test interactions\n",
      "EvaluatorHoldout: Processed 35563 (100.0%) in 45.24 sec. Users per second: 786\n",
      "Similarity column 38121 (100.0%), 2594.39 column/sec. Elapsed time 14.69 sec\n",
      "EvaluatorHoldout: Ignoring 163 ( 0.5%) Users that have less than 1 test interactions\n",
      "EvaluatorHoldout: Processed 35573 (100.0%) in 44.85 sec. Users per second: 793\n",
      "Similarity column 38121 (100.0%), 2624.38 column/sec. Elapsed time 14.53 sec\n",
      "EvaluatorHoldout: Ignoring 150 ( 0.4%) Users that have less than 1 test interactions\n",
      "EvaluatorHoldout: Processed 35586 (100.0%) in 44.70 sec. Users per second: 796\n",
      "Similarity column 38121 (100.0%), 2613.05 column/sec. Elapsed time 14.59 sec\n",
      "EvaluatorHoldout: Ignoring 167 ( 0.5%) Users that have less than 1 test interactions\n",
      "EvaluatorHoldout: Processed 35569 (100.0%) in 44.76 sec. Users per second: 795\n",
      "Similarity column 38121 (100.0%), 2612.38 column/sec. Elapsed time 14.59 sec\n",
      "EvaluatorHoldout: Ignoring 172 ( 0.5%) Users that have less than 1 test interactions\n",
      "EvaluatorHoldout: Processed 35564 (100.0%) in 44.43 sec. Users per second: 801\n"
     ]
    },
    {
     "name": "stderr",
     "output_type": "stream",
     "text": [
      "[I 2025-01-04 17:09:22,847] Trial 175 finished with value: 0.0421431333588106 and parameters: {'similarity': 'tversky', 'topK': 256, 'shrink': 111, 'feature_weighting': 'TF-IDF', 'tversky_alpha': 1.778262178027659, 'tversky_beta': 0.496590562478769}. Best is trial 23 with value: 0.05167910318356951.\n"
     ]
    },
    {
     "name": "stdout",
     "output_type": "stream",
     "text": [
      "Similarity column 38121 (100.0%), 2869.49 column/sec. Elapsed time 13.28 sec\n",
      "EvaluatorHoldout: Ignoring 173 ( 0.5%) Users that have less than 1 test interactions\n",
      "EvaluatorHoldout: Processed 35563 (100.0%) in 31.89 sec. Users per second: 1115\n",
      "Similarity column 38121 (100.0%), 2832.75 column/sec. Elapsed time 13.46 sec\n",
      "EvaluatorHoldout: Ignoring 163 ( 0.5%) Users that have less than 1 test interactions\n",
      "EvaluatorHoldout: Processed 35573 (100.0%) in 31.86 sec. Users per second: 1117\n",
      "Similarity column 38121 (100.0%), 2877.31 column/sec. Elapsed time 13.25 sec\n",
      "EvaluatorHoldout: Ignoring 150 ( 0.4%) Users that have less than 1 test interactions\n",
      "EvaluatorHoldout: Processed 35586 (100.0%) in 31.72 sec. Users per second: 1122\n",
      "Similarity column 38121 (100.0%), 2851.42 column/sec. Elapsed time 13.37 sec\n",
      "EvaluatorHoldout: Ignoring 167 ( 0.5%) Users that have less than 1 test interactions\n",
      "EvaluatorHoldout: Processed 35569 (100.0%) in 31.68 sec. Users per second: 1123\n",
      "Similarity column 38121 (100.0%), 2866.36 column/sec. Elapsed time 13.30 sec\n",
      "EvaluatorHoldout: Ignoring 172 ( 0.5%) Users that have less than 1 test interactions\n",
      "EvaluatorHoldout: Processed 35564 (100.0%) in 31.43 sec. Users per second: 1131\n"
     ]
    },
    {
     "name": "stderr",
     "output_type": "stream",
     "text": [
      "[I 2025-01-04 17:13:09,602] Trial 176 finished with value: 0.050170333522096044 and parameters: {'similarity': 'cosine', 'topK': 12, 'shrink': 83, 'feature_weighting': 'TF-IDF'}. Best is trial 23 with value: 0.05167910318356951.\n"
     ]
    },
    {
     "name": "stdout",
     "output_type": "stream",
     "text": [
      "Similarity column 38121 (100.0%), 2848.33 column/sec. Elapsed time 13.38 sec\n",
      "EvaluatorHoldout: Ignoring 173 ( 0.5%) Users that have less than 1 test interactions\n",
      "EvaluatorHoldout: Processed 35563 (100.0%) in 33.92 sec. Users per second: 1048\n",
      "Similarity column 38121 (100.0%), 2851.93 column/sec. Elapsed time 13.37 sec\n",
      "EvaluatorHoldout: Ignoring 163 ( 0.5%) Users that have less than 1 test interactions\n",
      "EvaluatorHoldout: Processed 35573 (100.0%) in 33.96 sec. Users per second: 1048\n",
      "Similarity column 38121 (100.0%), 2745.30 column/sec. Elapsed time 13.89 sec\n",
      "EvaluatorHoldout: Ignoring 150 ( 0.4%) Users that have less than 1 test interactions\n",
      "EvaluatorHoldout: Processed 35586 (100.0%) in 34.40 sec. Users per second: 1034\n",
      "Similarity column 38121 (100.0%), 2833.60 column/sec. Elapsed time 13.45 sec\n",
      "EvaluatorHoldout: Ignoring 167 ( 0.5%) Users that have less than 1 test interactions\n",
      "EvaluatorHoldout: Processed 35569 (100.0%) in 34.36 sec. Users per second: 1035\n",
      "Similarity column 38121 (100.0%), 2720.84 column/sec. Elapsed time 14.01 sec\n",
      "EvaluatorHoldout: Ignoring 172 ( 0.5%) Users that have less than 1 test interactions\n",
      "EvaluatorHoldout: Processed 35564 (100.0%) in 34.11 sec. Users per second: 1042\n"
     ]
    },
    {
     "name": "stderr",
     "output_type": "stream",
     "text": [
      "[I 2025-01-04 17:17:10,289] Trial 177 finished with value: 0.04282836807235073 and parameters: {'similarity': 'cosine', 'topK': 44, 'shrink': 80, 'feature_weighting': 'BM25'}. Best is trial 23 with value: 0.05167910318356951.\n"
     ]
    },
    {
     "name": "stdout",
     "output_type": "stream",
     "text": [
      "Similarity column 38121 (100.0%), 2871.91 column/sec. Elapsed time 13.27 sec\n",
      "EvaluatorHoldout: Ignoring 173 ( 0.5%) Users that have less than 1 test interactions\n",
      "EvaluatorHoldout: Processed 35563 (100.0%) in 31.52 sec. Users per second: 1128\n",
      "Similarity column 38121 (100.0%), 2857.78 column/sec. Elapsed time 13.34 sec\n",
      "EvaluatorHoldout: Ignoring 163 ( 0.5%) Users that have less than 1 test interactions\n",
      "EvaluatorHoldout: Processed 35573 (100.0%) in 31.75 sec. Users per second: 1121\n",
      "Similarity column 38121 (100.0%), 2870.22 column/sec. Elapsed time 13.28 sec\n",
      "EvaluatorHoldout: Ignoring 150 ( 0.4%) Users that have less than 1 test interactions\n",
      "EvaluatorHoldout: Processed 35586 (100.0%) in 31.53 sec. Users per second: 1129\n",
      "Similarity column 38121 (100.0%), 2881.01 column/sec. Elapsed time 13.23 sec\n",
      "EvaluatorHoldout: Ignoring 167 ( 0.5%) Users that have less than 1 test interactions\n",
      "EvaluatorHoldout: Processed 35569 (100.0%) in 32.03 sec. Users per second: 1111\n",
      "Similarity column 38121 (100.0%), 2800.54 column/sec. Elapsed time 13.61 sec\n",
      "EvaluatorHoldout: Ignoring 172 ( 0.5%) Users that have less than 1 test interactions\n",
      "EvaluatorHoldout: Processed 35564 (100.0%) in 31.77 sec. Users per second: 1120\n"
     ]
    },
    {
     "name": "stderr",
     "output_type": "stream",
     "text": [
      "[I 2025-01-04 17:20:57,182] Trial 178 finished with value: 0.04991526231617852 and parameters: {'similarity': 'cosine', 'topK': 13, 'shrink': 53, 'feature_weighting': 'TF-IDF'}. Best is trial 23 with value: 0.05167910318356951.\n"
     ]
    },
    {
     "name": "stdout",
     "output_type": "stream",
     "text": [
      "Similarity column 38121 (100.0%), 491.86 column/sec. Elapsed time 1.29 min\n",
      "EvaluatorHoldout: Ignoring 173 ( 0.5%) Users that have less than 1 test interactions\n",
      "EvaluatorHoldout: Processed 35563 (100.0%) in 27.12 sec. Users per second: 1312\n",
      "Similarity column 38121 (100.0%), 467.21 column/sec. Elapsed time 1.36 min\n",
      "EvaluatorHoldout: Ignoring 163 ( 0.5%) Users that have less than 1 test interactions\n",
      "EvaluatorHoldout: Processed 35573 (100.0%) in 27.38 sec. Users per second: 1299\n",
      "Similarity column 38121 (100.0%), 485.69 column/sec. Elapsed time 1.31 min\n",
      "EvaluatorHoldout: Ignoring 150 ( 0.4%) Users that have less than 1 test interactions\n",
      "EvaluatorHoldout: Processed 35586 (100.0%) in 27.25 sec. Users per second: 1306\n",
      "Similarity column 38121 (100.0%), 473.03 column/sec. Elapsed time 1.34 min\n",
      "EvaluatorHoldout: Ignoring 167 ( 0.5%) Users that have less than 1 test interactions\n",
      "EvaluatorHoldout: Processed 35569 (100.0%) in 27.34 sec. Users per second: 1301\n",
      "Similarity column 38121 (100.0%), 466.79 column/sec. Elapsed time 1.36 min\n",
      "EvaluatorHoldout: Ignoring 172 ( 0.5%) Users that have less than 1 test interactions\n",
      "EvaluatorHoldout: Processed 35564 (100.0%) in 27.38 sec. Users per second: 1299\n"
     ]
    },
    {
     "name": "stderr",
     "output_type": "stream",
     "text": [
      "[I 2025-01-04 17:29:54,778] Trial 179 finished with value: 0.028107451890721297 and parameters: {'similarity': 'euclidean', 'topK': 34, 'shrink': 97, 'feature_weighting': 'TF-IDF', 'normalize_avg_row': False, 'similarity_from_distance_mode': 'lin', 'normalize': False}. Best is trial 23 with value: 0.05167910318356951.\n"
     ]
    },
    {
     "name": "stdout",
     "output_type": "stream",
     "text": [
      "Similarity column 38121 (100.0%), 3492.62 column/sec. Elapsed time 10.91 sec\n",
      "EvaluatorHoldout: Ignoring 173 ( 0.5%) Users that have less than 1 test interactions\n",
      "EvaluatorHoldout: Processed 35563 (100.0%) in 25.21 sec. Users per second: 1411\n",
      "Similarity column 38121 (100.0%), 3689.80 column/sec. Elapsed time 10.33 sec\n",
      "EvaluatorHoldout: Ignoring 163 ( 0.5%) Users that have less than 1 test interactions\n",
      "EvaluatorHoldout: Processed 35573 (100.0%) in 25.17 sec. Users per second: 1413\n",
      "Similarity column 38121 (100.0%), 3651.73 column/sec. Elapsed time 10.44 sec\n",
      "EvaluatorHoldout: Ignoring 150 ( 0.4%) Users that have less than 1 test interactions\n",
      "EvaluatorHoldout: Processed 35586 (100.0%) in 24.93 sec. Users per second: 1427\n",
      "Similarity column 38121 (100.0%), 3603.03 column/sec. Elapsed time 10.58 sec\n",
      "EvaluatorHoldout: Ignoring 167 ( 0.5%) Users that have less than 1 test interactions\n",
      "EvaluatorHoldout: Processed 35569 (100.0%) in 24.91 sec. Users per second: 1428\n",
      "Similarity column 38121 (100.0%), 3623.25 column/sec. Elapsed time 10.52 sec\n",
      "EvaluatorHoldout: Ignoring 172 ( 0.5%) Users that have less than 1 test interactions\n",
      "EvaluatorHoldout: Processed 35564 (100.0%) in 24.85 sec. Users per second: 1431\n"
     ]
    },
    {
     "name": "stderr",
     "output_type": "stream",
     "text": [
      "[I 2025-01-04 17:32:54,075] Trial 180 finished with value: 0.0002664826418719655 and parameters: {'similarity': 'cosine', 'topK': 0, 'shrink': 71, 'feature_weighting': 'TF-IDF'}. Best is trial 23 with value: 0.05167910318356951.\n"
     ]
    },
    {
     "name": "stdout",
     "output_type": "stream",
     "text": [
      "Similarity column 38121 (100.0%), 2850.88 column/sec. Elapsed time 13.37 sec\n",
      "EvaluatorHoldout: Ignoring 173 ( 0.5%) Users that have less than 1 test interactions\n",
      "EvaluatorHoldout: Processed 35563 (100.0%) in 31.85 sec. Users per second: 1117\n",
      "Similarity column 38121 (100.0%), 2823.85 column/sec. Elapsed time 13.50 sec\n",
      "EvaluatorHoldout: Ignoring 163 ( 0.5%) Users that have less than 1 test interactions\n",
      "EvaluatorHoldout: Processed 35573 (100.0%) in 32.19 sec. Users per second: 1105\n",
      "Similarity column 38121 (100.0%), 2851.43 column/sec. Elapsed time 13.37 sec\n",
      "EvaluatorHoldout: Ignoring 150 ( 0.4%) Users that have less than 1 test interactions\n",
      "EvaluatorHoldout: Processed 35586 (100.0%) in 32.25 sec. Users per second: 1103\n",
      "Similarity column 38121 (100.0%), 2830.60 column/sec. Elapsed time 13.47 sec\n",
      "EvaluatorHoldout: Ignoring 167 ( 0.5%) Users that have less than 1 test interactions\n",
      "EvaluatorHoldout: Processed 35569 (100.0%) in 32.16 sec. Users per second: 1106\n",
      "Similarity column 38121 (100.0%), 2834.69 column/sec. Elapsed time 13.45 sec\n",
      "EvaluatorHoldout: Ignoring 172 ( 0.5%) Users that have less than 1 test interactions\n",
      "EvaluatorHoldout: Processed 35564 (100.0%) in 32.01 sec. Users per second: 1111\n"
     ]
    },
    {
     "name": "stderr",
     "output_type": "stream",
     "text": [
      "[I 2025-01-04 17:36:43,262] Trial 181 finished with value: 0.04993257210734363 and parameters: {'similarity': 'cosine', 'topK': 14, 'shrink': 129, 'feature_weighting': 'TF-IDF'}. Best is trial 23 with value: 0.05167910318356951.\n"
     ]
    },
    {
     "name": "stdout",
     "output_type": "stream",
     "text": [
      "Similarity column 38121 (100.0%), 2872.95 column/sec. Elapsed time 13.27 sec\n",
      "EvaluatorHoldout: Ignoring 173 ( 0.5%) Users that have less than 1 test interactions\n",
      "EvaluatorHoldout: Processed 35563 (100.0%) in 33.01 sec. Users per second: 1077\n",
      "Similarity column 38121 (100.0%), 2836.88 column/sec. Elapsed time 13.44 sec\n",
      "EvaluatorHoldout: Ignoring 163 ( 0.5%) Users that have less than 1 test interactions\n",
      "EvaluatorHoldout: Processed 35573 (100.0%) in 32.84 sec. Users per second: 1083\n",
      "Similarity column 38121 (100.0%), 2870.59 column/sec. Elapsed time 13.28 sec\n",
      "EvaluatorHoldout: Ignoring 150 ( 0.4%) Users that have less than 1 test interactions\n",
      "EvaluatorHoldout: Processed 35586 (100.0%) in 32.99 sec. Users per second: 1079\n",
      "Similarity column 38121 (100.0%), 2839.46 column/sec. Elapsed time 13.43 sec\n",
      "EvaluatorHoldout: Ignoring 167 ( 0.5%) Users that have less than 1 test interactions\n",
      "EvaluatorHoldout: Processed 35569 (100.0%) in 32.68 sec. Users per second: 1088\n",
      "Similarity column 38121 (100.0%), 2869.21 column/sec. Elapsed time 13.29 sec\n",
      "EvaluatorHoldout: Ignoring 172 ( 0.5%) Users that have less than 1 test interactions\n",
      "EvaluatorHoldout: Processed 35564 (100.0%) in 33.05 sec. Users per second: 1076\n"
     ]
    },
    {
     "name": "stderr",
     "output_type": "stream",
     "text": [
      "[I 2025-01-04 17:40:36,170] Trial 182 finished with value: 0.04898506243922583 and parameters: {'similarity': 'cosine', 'topK': 24, 'shrink': 153, 'feature_weighting': 'TF-IDF'}. Best is trial 23 with value: 0.05167910318356951.\n"
     ]
    },
    {
     "name": "stdout",
     "output_type": "stream",
     "text": [
      "Similarity column 38121 (100.0%), 2886.51 column/sec. Elapsed time 13.21 sec\n",
      "EvaluatorHoldout: Ignoring 173 ( 0.5%) Users that have less than 1 test interactions\n",
      "EvaluatorHoldout: Processed 35563 (100.0%) in 31.84 sec. Users per second: 1117\n",
      "Similarity column 38121 (100.0%), 2840.06 column/sec. Elapsed time 13.42 sec\n",
      "EvaluatorHoldout: Ignoring 163 ( 0.5%) Users that have less than 1 test interactions\n",
      "EvaluatorHoldout: Processed 35573 (100.0%) in 31.89 sec. Users per second: 1115\n",
      "Similarity column 38121 (100.0%), 2881.62 column/sec. Elapsed time 13.23 sec\n",
      "EvaluatorHoldout: Ignoring 150 ( 0.4%) Users that have less than 1 test interactions\n",
      "EvaluatorHoldout: Processed 35586 (100.0%) in 31.89 sec. Users per second: 1116\n",
      "Similarity column 38121 (100.0%), 2875.61 column/sec. Elapsed time 13.26 sec\n",
      "EvaluatorHoldout: Ignoring 167 ( 0.5%) Users that have less than 1 test interactions\n",
      "EvaluatorHoldout: Processed 35569 (100.0%) in 31.85 sec. Users per second: 1117\n",
      "Similarity column 38121 (100.0%), 2890.65 column/sec. Elapsed time 13.19 sec\n",
      "EvaluatorHoldout: Ignoring 172 ( 0.5%) Users that have less than 1 test interactions\n",
      "EvaluatorHoldout: Processed 35564 (100.0%) in 31.87 sec. Users per second: 1116\n"
     ]
    },
    {
     "name": "stderr",
     "output_type": "stream",
     "text": [
      "[I 2025-01-04 17:44:23,364] Trial 183 finished with value: 0.04955189791234907 and parameters: {'similarity': 'cosine', 'topK': 15, 'shrink': 37, 'feature_weighting': 'TF-IDF'}. Best is trial 23 with value: 0.05167910318356951.\n"
     ]
    },
    {
     "name": "stdout",
     "output_type": "stream",
     "text": [
      "Similarity column 38121 (100.0%), 2867.21 column/sec. Elapsed time 13.30 sec\n",
      "EvaluatorHoldout: Ignoring 173 ( 0.5%) Users that have less than 1 test interactions\n",
      "EvaluatorHoldout: Processed 35563 (100.0%) in 33.87 sec. Users per second: 1050\n",
      "Similarity column 38121 (100.0%), 2852.08 column/sec. Elapsed time 13.37 sec\n",
      "EvaluatorHoldout: Ignoring 163 ( 0.5%) Users that have less than 1 test interactions\n",
      "EvaluatorHoldout: Processed 35573 (100.0%) in 34.29 sec. Users per second: 1037\n",
      "Similarity column 38121 (100.0%), 2828.12 column/sec. Elapsed time 13.48 sec\n",
      "EvaluatorHoldout: Ignoring 150 ( 0.4%) Users that have less than 1 test interactions\n",
      "EvaluatorHoldout: Processed 35586 (100.0%) in 33.99 sec. Users per second: 1047\n",
      "Similarity column 38121 (100.0%), 2850.23 column/sec. Elapsed time 13.37 sec\n",
      "EvaluatorHoldout: Ignoring 167 ( 0.5%) Users that have less than 1 test interactions\n",
      "EvaluatorHoldout: Processed 35569 (100.0%) in 33.89 sec. Users per second: 1050\n",
      "Similarity column 38121 (100.0%), 2830.30 column/sec. Elapsed time 13.47 sec\n",
      "EvaluatorHoldout: Ignoring 172 ( 0.5%) Users that have less than 1 test interactions\n",
      "EvaluatorHoldout: Processed 35564 (100.0%) in 34.00 sec. Users per second: 1046\n"
     ]
    },
    {
     "name": "stderr",
     "output_type": "stream",
     "text": [
      "[I 2025-01-04 17:48:22,144] Trial 184 finished with value: 0.048159910345721285 and parameters: {'similarity': 'cosine', 'topK': 38, 'shrink': 107, 'feature_weighting': 'TF-IDF'}. Best is trial 23 with value: 0.05167910318356951.\n"
     ]
    },
    {
     "name": "stdout",
     "output_type": "stream",
     "text": [
      "Similarity column 38121 (100.0%), 2878.72 column/sec. Elapsed time 13.24 sec\n",
      "EvaluatorHoldout: Ignoring 173 ( 0.5%) Users that have less than 1 test interactions\n",
      "EvaluatorHoldout: Processed 35563 (100.0%) in 31.55 sec. Users per second: 1127\n",
      "Similarity column 38121 (100.0%), 2870.42 column/sec. Elapsed time 13.28 sec\n",
      "EvaluatorHoldout: Ignoring 163 ( 0.5%) Users that have less than 1 test interactions\n",
      "EvaluatorHoldout: Processed 35573 (100.0%) in 31.90 sec. Users per second: 1115\n",
      "Similarity column 38121 (100.0%), 2844.41 column/sec. Elapsed time 13.40 sec\n",
      "EvaluatorHoldout: Ignoring 150 ( 0.4%) Users that have less than 1 test interactions\n",
      "EvaluatorHoldout: Processed 35586 (100.0%) in 31.78 sec. Users per second: 1120\n",
      "Similarity column 38121 (100.0%), 2774.08 column/sec. Elapsed time 13.74 sec\n",
      "EvaluatorHoldout: Ignoring 167 ( 0.5%) Users that have less than 1 test interactions\n",
      "EvaluatorHoldout: Processed 35569 (100.0%) in 31.75 sec. Users per second: 1120\n",
      "Similarity column 38121 (100.0%), 2844.01 column/sec. Elapsed time 13.40 sec\n",
      "EvaluatorHoldout: Ignoring 172 ( 0.5%) Users that have less than 1 test interactions\n",
      "EvaluatorHoldout: Processed 35564 (100.0%) in 31.77 sec. Users per second: 1119\n"
     ]
    },
    {
     "name": "stderr",
     "output_type": "stream",
     "text": [
      "[I 2025-01-04 17:52:09,590] Trial 185 finished with value: 0.04999742933612483 and parameters: {'similarity': 'cosine', 'topK': 13, 'shrink': 79, 'feature_weighting': 'TF-IDF'}. Best is trial 23 with value: 0.05167910318356951.\n"
     ]
    },
    {
     "name": "stdout",
     "output_type": "stream",
     "text": [
      "Similarity column 38121 (100.0%), 2963.87 column/sec. Elapsed time 12.86 sec\n",
      "EvaluatorHoldout: Ignoring 173 ( 0.5%) Users that have less than 1 test interactions\n",
      "EvaluatorHoldout: Processed 35563 (100.0%) in 34.82 sec. Users per second: 1021\n",
      "Similarity column 38121 (100.0%), 2961.34 column/sec. Elapsed time 12.87 sec\n",
      "EvaluatorHoldout: Ignoring 163 ( 0.5%) Users that have less than 1 test interactions\n",
      "EvaluatorHoldout: Processed 35573 (100.0%) in 35.13 sec. Users per second: 1012\n",
      "Similarity column 38121 (100.0%), 2974.77 column/sec. Elapsed time 12.81 sec\n",
      "EvaluatorHoldout: Ignoring 150 ( 0.4%) Users that have less than 1 test interactions\n",
      "EvaluatorHoldout: Processed 35586 (100.0%) in 34.88 sec. Users per second: 1020\n",
      "Similarity column 38121 (100.0%), 2972.38 column/sec. Elapsed time 12.83 sec\n",
      "EvaluatorHoldout: Ignoring 167 ( 0.5%) Users that have less than 1 test interactions\n",
      "EvaluatorHoldout: Processed 35569 (100.0%) in 35.07 sec. Users per second: 1014\n",
      "Similarity column 38121 (100.0%), 2958.06 column/sec. Elapsed time 12.89 sec\n",
      "EvaluatorHoldout: Ignoring 172 ( 0.5%) Users that have less than 1 test interactions\n",
      "EvaluatorHoldout: Processed 35564 (100.0%) in 34.97 sec. Users per second: 1017\n"
     ]
    },
    {
     "name": "stderr",
     "output_type": "stream",
     "text": [
      "[I 2025-01-04 17:56:11,430] Trial 186 finished with value: 0.04651908289037322 and parameters: {'similarity': 'dice', 'topK': 51, 'shrink': 51, 'feature_weighting': 'TF-IDF'}. Best is trial 23 with value: 0.05167910318356951.\n"
     ]
    },
    {
     "name": "stdout",
     "output_type": "stream",
     "text": [
      "Similarity column 38121 (100.0%), 2870.79 column/sec. Elapsed time 13.28 sec\n",
      "EvaluatorHoldout: Ignoring 173 ( 0.5%) Users that have less than 1 test interactions\n",
      "EvaluatorHoldout: Processed 35563 (100.0%) in 33.00 sec. Users per second: 1078\n",
      "Similarity column 38121 (100.0%), 2877.29 column/sec. Elapsed time 13.25 sec\n",
      "EvaluatorHoldout: Ignoring 163 ( 0.5%) Users that have less than 1 test interactions\n",
      "EvaluatorHoldout: Processed 35573 (100.0%) in 33.01 sec. Users per second: 1078\n",
      "Similarity column 38121 (100.0%), 2881.88 column/sec. Elapsed time 13.23 sec\n",
      "EvaluatorHoldout: Ignoring 150 ( 0.4%) Users that have less than 1 test interactions\n",
      "EvaluatorHoldout: Processed 35586 (100.0%) in 32.94 sec. Users per second: 1080\n",
      "Similarity column 38121 (100.0%), 2781.90 column/sec. Elapsed time 13.70 sec\n",
      "EvaluatorHoldout: Ignoring 167 ( 0.5%) Users that have less than 1 test interactions\n",
      "EvaluatorHoldout: Processed 35569 (100.0%) in 32.99 sec. Users per second: 1078\n",
      "Similarity column 38121 (100.0%), 2873.34 column/sec. Elapsed time 13.27 sec\n",
      "EvaluatorHoldout: Ignoring 172 ( 0.5%) Users that have less than 1 test interactions\n",
      "EvaluatorHoldout: Processed 35564 (100.0%) in 33.76 sec. Users per second: 1053\n"
     ]
    },
    {
     "name": "stderr",
     "output_type": "stream",
     "text": [
      "[I 2025-01-04 18:00:05,497] Trial 187 finished with value: 0.048688769926603 and parameters: {'similarity': 'cosine', 'topK': 26, 'shrink': 76, 'feature_weighting': 'TF-IDF'}. Best is trial 23 with value: 0.05167910318356951.\n"
     ]
    },
    {
     "name": "stdout",
     "output_type": "stream",
     "text": [
      "Similarity column 38121 (100.0%), 2841.36 column/sec. Elapsed time 13.42 sec\n",
      "EvaluatorHoldout: Ignoring 173 ( 0.5%) Users that have less than 1 test interactions\n",
      "EvaluatorHoldout: Processed 35563 (100.0%) in 31.54 sec. Users per second: 1127\n",
      "Similarity column 38121 (100.0%), 2864.05 column/sec. Elapsed time 13.31 sec\n",
      "EvaluatorHoldout: Ignoring 163 ( 0.5%) Users that have less than 1 test interactions\n",
      "EvaluatorHoldout: Processed 35573 (100.0%) in 31.47 sec. Users per second: 1130\n",
      "Similarity column 38121 (100.0%), 2849.76 column/sec. Elapsed time 13.38 sec\n",
      "EvaluatorHoldout: Ignoring 150 ( 0.4%) Users that have less than 1 test interactions\n",
      "EvaluatorHoldout: Processed 35586 (100.0%) in 31.41 sec. Users per second: 1133\n",
      "Similarity column 38121 (100.0%), 2860.72 column/sec. Elapsed time 13.33 sec\n",
      "EvaluatorHoldout: Ignoring 167 ( 0.5%) Users that have less than 1 test interactions\n",
      "EvaluatorHoldout: Processed 35569 (100.0%) in 31.33 sec. Users per second: 1135\n",
      "Similarity column 38121 (100.0%), 2876.21 column/sec. Elapsed time 13.25 sec\n",
      "EvaluatorHoldout: Ignoring 172 ( 0.5%) Users that have less than 1 test interactions\n",
      "EvaluatorHoldout: Processed 35564 (100.0%) in 31.26 sec. Users per second: 1138\n"
     ]
    },
    {
     "name": "stderr",
     "output_type": "stream",
     "text": [
      "[I 2025-01-04 18:03:50,766] Trial 188 finished with value: 0.05017736655787099 and parameters: {'similarity': 'cosine', 'topK': 11, 'shrink': 22, 'feature_weighting': 'TF-IDF'}. Best is trial 23 with value: 0.05167910318356951.\n"
     ]
    },
    {
     "name": "stdout",
     "output_type": "stream",
     "text": [
      "Similarity column 38121 (100.0%), 2672.15 column/sec. Elapsed time 14.27 sec\n",
      "EvaluatorHoldout: Ignoring 173 ( 0.5%) Users that have less than 1 test interactions\n",
      "EvaluatorHoldout: Processed 35563 (100.0%) in 30.89 sec. Users per second: 1151\n",
      "Similarity column 38121 (100.0%), 2663.49 column/sec. Elapsed time 14.31 sec\n",
      "EvaluatorHoldout: Ignoring 163 ( 0.5%) Users that have less than 1 test interactions\n",
      "EvaluatorHoldout: Processed 35573 (100.0%) in 31.36 sec. Users per second: 1134\n",
      "Similarity column 38121 (100.0%), 2678.39 column/sec. Elapsed time 14.23 sec\n",
      "EvaluatorHoldout: Ignoring 150 ( 0.4%) Users that have less than 1 test interactions\n",
      "EvaluatorHoldout: Processed 35586 (100.0%) in 31.10 sec. Users per second: 1144\n",
      "Similarity column 38121 (100.0%), 2647.93 column/sec. Elapsed time 14.40 sec\n",
      "EvaluatorHoldout: Ignoring 167 ( 0.5%) Users that have less than 1 test interactions\n",
      "EvaluatorHoldout: Processed 35569 (100.0%) in 30.92 sec. Users per second: 1151\n",
      "Similarity column 38121 (100.0%), 2680.01 column/sec. Elapsed time 14.22 sec\n",
      "EvaluatorHoldout: Ignoring 172 ( 0.5%) Users that have less than 1 test interactions\n",
      "EvaluatorHoldout: Processed 35564 (100.0%) in 30.85 sec. Users per second: 1153\n"
     ]
    },
    {
     "name": "stderr",
     "output_type": "stream",
     "text": [
      "[I 2025-01-04 18:07:39,704] Trial 189 finished with value: 0.052770132207501916 and parameters: {'similarity': 'tversky', 'topK': 11, 'shrink': 16, 'feature_weighting': 'TF-IDF', 'tversky_alpha': 0.9143013375619704, 'tversky_beta': 1.9604450913585005}. Best is trial 189 with value: 0.052770132207501916.\n"
     ]
    },
    {
     "name": "stdout",
     "output_type": "stream",
     "text": [
      "Similarity column 38121 (100.0%), 3163.84 column/sec. Elapsed time 12.05 sec\n",
      "EvaluatorHoldout: Ignoring 173 ( 0.5%) Users that have less than 1 test interactions\n",
      "EvaluatorHoldout: Processed 35563 (100.0%) in 27.57 sec. Users per second: 1290\n",
      "Similarity column 38121 (100.0%), 3153.88 column/sec. Elapsed time 12.09 sec\n",
      "EvaluatorHoldout: Ignoring 163 ( 0.5%) Users that have less than 1 test interactions\n",
      "EvaluatorHoldout: Processed 35573 (100.0%) in 27.50 sec. Users per second: 1293\n",
      "Similarity column 38121 (100.0%), 3171.45 column/sec. Elapsed time 12.02 sec\n",
      "EvaluatorHoldout: Ignoring 150 ( 0.4%) Users that have less than 1 test interactions\n",
      "EvaluatorHoldout: Processed 35586 (100.0%) in 28.02 sec. Users per second: 1270\n",
      "Similarity column 38121 (100.0%), 3154.56 column/sec. Elapsed time 12.08 sec\n",
      "EvaluatorHoldout: Ignoring 167 ( 0.5%) Users that have less than 1 test interactions\n",
      "EvaluatorHoldout: Processed 35569 (100.0%) in 28.12 sec. Users per second: 1265\n",
      "Similarity column 38121 (100.0%), 3147.45 column/sec. Elapsed time 12.11 sec\n",
      "EvaluatorHoldout: Ignoring 172 ( 0.5%) Users that have less than 1 test interactions\n",
      "EvaluatorHoldout: Processed 35564 (100.0%) in 27.53 sec. Users per second: 1292\n"
     ]
    },
    {
     "name": "stderr",
     "output_type": "stream",
     "text": [
      "[I 2025-01-04 18:11:01,147] Trial 190 finished with value: 0.044920360081063405 and parameters: {'similarity': 'tversky', 'topK': 1, 'shrink': 28, 'feature_weighting': 'TF-IDF', 'tversky_alpha': 0.9565530701734938, 'tversky_beta': 1.9354153476642546}. Best is trial 189 with value: 0.052770132207501916.\n"
     ]
    },
    {
     "name": "stdout",
     "output_type": "stream",
     "text": [
      "Similarity column 38121 (100.0%), 2673.21 column/sec. Elapsed time 14.26 sec\n",
      "EvaluatorHoldout: Ignoring 173 ( 0.5%) Users that have less than 1 test interactions\n",
      "EvaluatorHoldout: Processed 35563 (100.0%) in 32.79 sec. Users per second: 1084\n",
      "Similarity column 38121 (100.0%), 2671.11 column/sec. Elapsed time 14.27 sec\n",
      "EvaluatorHoldout: Ignoring 163 ( 0.5%) Users that have less than 1 test interactions\n",
      "EvaluatorHoldout: Processed 35573 (100.0%) in 33.10 sec. Users per second: 1075\n",
      "Similarity column 38121 (100.0%), 2675.29 column/sec. Elapsed time 14.25 sec\n",
      "EvaluatorHoldout: Ignoring 150 ( 0.4%) Users that have less than 1 test interactions\n",
      "EvaluatorHoldout: Processed 35586 (100.0%) in 32.77 sec. Users per second: 1086\n",
      "Similarity column 38121 (100.0%), 2673.57 column/sec. Elapsed time 14.26 sec\n",
      "EvaluatorHoldout: Ignoring 167 ( 0.5%) Users that have less than 1 test interactions\n",
      "EvaluatorHoldout: Processed 35569 (100.0%) in 33.16 sec. Users per second: 1073\n",
      "Similarity column 38121 (100.0%), 2688.28 column/sec. Elapsed time 14.18 sec\n",
      "EvaluatorHoldout: Ignoring 172 ( 0.5%) Users that have less than 1 test interactions\n",
      "EvaluatorHoldout: Processed 35564 (100.0%) in 32.48 sec. Users per second: 1095\n"
     ]
    },
    {
     "name": "stderr",
     "output_type": "stream",
     "text": [
      "[I 2025-01-04 18:14:59,273] Trial 191 finished with value: 0.05053286852839014 and parameters: {'similarity': 'tversky', 'topK': 32, 'shrink': 5, 'feature_weighting': 'TF-IDF', 'tversky_alpha': 0.7421020962719683, 'tversky_beta': 1.7577544220193593}. Best is trial 189 with value: 0.052770132207501916.\n"
     ]
    },
    {
     "name": "stdout",
     "output_type": "stream",
     "text": [
      "Similarity column 38121 (100.0%), 3365.99 column/sec. Elapsed time 11.33 sec\n",
      "EvaluatorHoldout: Ignoring 173 ( 0.5%) Users that have less than 1 test interactions\n",
      "EvaluatorHoldout: Processed 35563 (100.0%) in 25.04 sec. Users per second: 1420\n",
      "Similarity column 38121 (100.0%), 3418.45 column/sec. Elapsed time 11.15 sec\n",
      "EvaluatorHoldout: Ignoring 163 ( 0.5%) Users that have less than 1 test interactions\n",
      "EvaluatorHoldout: Processed 35573 (100.0%) in 24.86 sec. Users per second: 1431\n",
      "Similarity column 38121 (100.0%), 3425.65 column/sec. Elapsed time 11.13 sec\n",
      "EvaluatorHoldout: Ignoring 150 ( 0.4%) Users that have less than 1 test interactions\n",
      "EvaluatorHoldout: Processed 35586 (100.0%) in 24.68 sec. Users per second: 1442\n",
      "Similarity column 38121 (100.0%), 3452.21 column/sec. Elapsed time 11.04 sec\n",
      "EvaluatorHoldout: Ignoring 167 ( 0.5%) Users that have less than 1 test interactions\n",
      "EvaluatorHoldout: Processed 35569 (100.0%) in 24.73 sec. Users per second: 1438\n",
      "Similarity column 38121 (100.0%), 3457.32 column/sec. Elapsed time 11.03 sec\n",
      "EvaluatorHoldout: Ignoring 172 ( 0.5%) Users that have less than 1 test interactions\n",
      "EvaluatorHoldout: Processed 35564 (100.0%) in 24.89 sec. Users per second: 1429\n"
     ]
    },
    {
     "name": "stderr",
     "output_type": "stream",
     "text": [
      "[I 2025-01-04 18:18:01,497] Trial 192 finished with value: 0.0002664826418719655 and parameters: {'similarity': 'tversky', 'topK': 0, 'shrink': 4, 'feature_weighting': 'TF-IDF', 'tversky_alpha': 0.6997655092380498, 'tversky_beta': 1.752882958053434}. Best is trial 189 with value: 0.052770132207501916.\n"
     ]
    },
    {
     "name": "stdout",
     "output_type": "stream",
     "text": [
      "Similarity column 38121 (100.0%), 2658.78 column/sec. Elapsed time 14.34 sec\n",
      "EvaluatorHoldout: Ignoring 173 ( 0.5%) Users that have less than 1 test interactions\n",
      "EvaluatorHoldout: Processed 35563 (100.0%) in 32.66 sec. Users per second: 1089\n",
      "Similarity column 38121 (100.0%), 2649.99 column/sec. Elapsed time 14.39 sec\n",
      "EvaluatorHoldout: Ignoring 163 ( 0.5%) Users that have less than 1 test interactions\n",
      "EvaluatorHoldout: Processed 35573 (100.0%) in 32.99 sec. Users per second: 1078\n",
      "Similarity column 38121 (100.0%), 2658.46 column/sec. Elapsed time 14.34 sec\n",
      "EvaluatorHoldout: Ignoring 150 ( 0.4%) Users that have less than 1 test interactions\n",
      "EvaluatorHoldout: Processed 35586 (100.0%) in 33.14 sec. Users per second: 1074\n",
      "Similarity column 38121 (100.0%), 2642.23 column/sec. Elapsed time 14.43 sec\n",
      "EvaluatorHoldout: Ignoring 167 ( 0.5%) Users that have less than 1 test interactions\n",
      "EvaluatorHoldout: Processed 35569 (100.0%) in 32.85 sec. Users per second: 1083\n",
      "Similarity column 38121 (100.0%), 2690.93 column/sec. Elapsed time 14.17 sec\n",
      "EvaluatorHoldout: Ignoring 172 ( 0.5%) Users that have less than 1 test interactions\n",
      "EvaluatorHoldout: Processed 35564 (100.0%) in 33.11 sec. Users per second: 1074\n"
     ]
    },
    {
     "name": "stderr",
     "output_type": "stream",
     "text": [
      "[I 2025-01-04 18:22:00,481] Trial 193 finished with value: 0.050562791169713586 and parameters: {'similarity': 'tversky', 'topK': 33, 'shrink': 17, 'feature_weighting': 'TF-IDF', 'tversky_alpha': 0.44749382257198167, 'tversky_beta': 1.6410737649695715}. Best is trial 189 with value: 0.052770132207501916.\n"
     ]
    },
    {
     "name": "stdout",
     "output_type": "stream",
     "text": [
      "Similarity column 38121 (100.0%), 2648.00 column/sec. Elapsed time 14.40 sec\n",
      "EvaluatorHoldout: Ignoring 173 ( 0.5%) Users that have less than 1 test interactions\n",
      "EvaluatorHoldout: Processed 35563 (100.0%) in 32.63 sec. Users per second: 1090\n",
      "Similarity column 38121 (100.0%), 2663.10 column/sec. Elapsed time 14.31 sec\n",
      "EvaluatorHoldout: Ignoring 163 ( 0.5%) Users that have less than 1 test interactions\n",
      "EvaluatorHoldout: Processed 35573 (100.0%) in 32.87 sec. Users per second: 1082\n",
      "Similarity column 38121 (100.0%), 2655.97 column/sec. Elapsed time 14.35 sec\n",
      "EvaluatorHoldout: Ignoring 150 ( 0.4%) Users that have less than 1 test interactions\n",
      "EvaluatorHoldout: Processed 35586 (100.0%) in 33.17 sec. Users per second: 1073\n",
      "Similarity column 38121 (100.0%), 2673.65 column/sec. Elapsed time 14.26 sec\n",
      "EvaluatorHoldout: Ignoring 167 ( 0.5%) Users that have less than 1 test interactions\n",
      "EvaluatorHoldout: Processed 35569 (100.0%) in 32.89 sec. Users per second: 1081\n",
      "Similarity column 38121 (100.0%), 2641.69 column/sec. Elapsed time 14.43 sec\n",
      "EvaluatorHoldout: Ignoring 172 ( 0.5%) Users that have less than 1 test interactions\n",
      "EvaluatorHoldout: Processed 35564 (100.0%) in 33.06 sec. Users per second: 1076\n"
     ]
    },
    {
     "name": "stderr",
     "output_type": "stream",
     "text": [
      "[I 2025-01-04 18:25:59,505] Trial 194 finished with value: 0.05031125284117284 and parameters: {'similarity': 'tversky', 'topK': 38, 'shrink': 0, 'feature_weighting': 'TF-IDF', 'tversky_alpha': 0.3662308580497401, 'tversky_beta': 1.5934919669098861}. Best is trial 189 with value: 0.052770132207501916.\n"
     ]
    },
    {
     "name": "stdout",
     "output_type": "stream",
     "text": [
      "Similarity column 38121 (100.0%), 2663.94 column/sec. Elapsed time 14.31 sec\n",
      "EvaluatorHoldout: Ignoring 173 ( 0.5%) Users that have less than 1 test interactions\n",
      "EvaluatorHoldout: Processed 35563 (100.0%) in 33.01 sec. Users per second: 1077\n",
      "Similarity column 38121 (100.0%), 2651.86 column/sec. Elapsed time 14.38 sec\n",
      "EvaluatorHoldout: Ignoring 163 ( 0.5%) Users that have less than 1 test interactions\n",
      "EvaluatorHoldout: Processed 35573 (100.0%) in 33.20 sec. Users per second: 1072\n",
      "Similarity column 38121 (100.0%), 2647.58 column/sec. Elapsed time 14.40 sec\n",
      "EvaluatorHoldout: Ignoring 150 ( 0.4%) Users that have less than 1 test interactions\n",
      "EvaluatorHoldout: Processed 35586 (100.0%) in 33.26 sec. Users per second: 1070\n",
      "Similarity column 38121 (100.0%), 2645.51 column/sec. Elapsed time 14.41 sec\n",
      "EvaluatorHoldout: Ignoring 167 ( 0.5%) Users that have less than 1 test interactions\n",
      "EvaluatorHoldout: Processed 35569 (100.0%) in 33.27 sec. Users per second: 1069\n",
      "Similarity column 38121 (100.0%), 2619.42 column/sec. Elapsed time 14.55 sec\n",
      "EvaluatorHoldout: Ignoring 172 ( 0.5%) Users that have less than 1 test interactions\n",
      "EvaluatorHoldout: Processed 35564 (100.0%) in 33.97 sec. Users per second: 1047\n"
     ]
    },
    {
     "name": "stderr",
     "output_type": "stream",
     "text": [
      "[I 2025-01-04 18:30:00,957] Trial 195 finished with value: 0.04990563145551257 and parameters: {'similarity': 'tversky', 'topK': 39, 'shrink': 20, 'feature_weighting': 'TF-IDF', 'tversky_alpha': 0.33863922799843227, 'tversky_beta': 1.57202631228016}. Best is trial 189 with value: 0.052770132207501916.\n"
     ]
    },
    {
     "name": "stdout",
     "output_type": "stream",
     "text": [
      "Similarity column 38121 (100.0%), 2535.27 column/sec. Elapsed time 15.04 sec\n",
      "EvaluatorHoldout: Ignoring 173 ( 0.5%) Users that have less than 1 test interactions\n",
      "EvaluatorHoldout: Processed 35563 (100.0%) in 32.93 sec. Users per second: 1080\n",
      "Similarity column 38121 (100.0%), 2642.45 column/sec. Elapsed time 14.43 sec\n",
      "EvaluatorHoldout: Ignoring 163 ( 0.5%) Users that have less than 1 test interactions\n",
      "EvaluatorHoldout: Processed 35573 (100.0%) in 32.87 sec. Users per second: 1082\n",
      "Similarity column 38121 (100.0%), 2646.99 column/sec. Elapsed time 14.40 sec\n",
      "EvaluatorHoldout: Ignoring 150 ( 0.4%) Users that have less than 1 test interactions\n",
      "EvaluatorHoldout: Processed 35586 (100.0%) in 32.89 sec. Users per second: 1082\n",
      "Similarity column 38121 (100.0%), 2675.91 column/sec. Elapsed time 14.25 sec\n",
      "EvaluatorHoldout: Ignoring 167 ( 0.5%) Users that have less than 1 test interactions\n",
      "EvaluatorHoldout: Processed 35569 (100.0%) in 32.18 sec. Users per second: 1105\n",
      "Similarity column 38121 (100.0%), 2645.34 column/sec. Elapsed time 14.41 sec\n",
      "EvaluatorHoldout: Ignoring 172 ( 0.5%) Users that have less than 1 test interactions\n",
      "EvaluatorHoldout: Processed 35564 (100.0%) in 32.39 sec. Users per second: 1098\n"
     ]
    },
    {
     "name": "stderr",
     "output_type": "stream",
     "text": [
      "[I 2025-01-04 18:33:59,619] Trial 196 finished with value: 0.05112802526300825 and parameters: {'similarity': 'tversky', 'topK': 32, 'shrink': 2, 'feature_weighting': 'TF-IDF', 'tversky_alpha': 0.3322075892762173, 'tversky_beta': 1.998568372012898}. Best is trial 189 with value: 0.052770132207501916.\n"
     ]
    },
    {
     "name": "stdout",
     "output_type": "stream",
     "text": [
      "Similarity column 38121 (100.0%), 2653.99 column/sec. Elapsed time 14.36 sec\n",
      "EvaluatorHoldout: Ignoring 173 ( 0.5%) Users that have less than 1 test interactions\n",
      "EvaluatorHoldout: Processed 35563 (100.0%) in 33.86 sec. Users per second: 1050\n",
      "Similarity column 38121 (100.0%), 2626.03 column/sec. Elapsed time 14.52 sec\n",
      "EvaluatorHoldout: Ignoring 163 ( 0.5%) Users that have less than 1 test interactions\n",
      "EvaluatorHoldout: Processed 35573 (100.0%) in 34.25 sec. Users per second: 1039\n",
      "Similarity column 38121 (100.0%), 2608.06 column/sec. Elapsed time 14.62 sec\n",
      "EvaluatorHoldout: Ignoring 150 ( 0.4%) Users that have less than 1 test interactions\n",
      "EvaluatorHoldout: Processed 35586 (100.0%) in 34.08 sec. Users per second: 1044\n",
      "Similarity column 38121 (100.0%), 2630.86 column/sec. Elapsed time 14.49 sec\n",
      "EvaluatorHoldout: Ignoring 167 ( 0.5%) Users that have less than 1 test interactions\n",
      "EvaluatorHoldout: Processed 35569 (100.0%) in 33.95 sec. Users per second: 1048\n",
      "Similarity column 38121 (100.0%), 2628.68 column/sec. Elapsed time 14.50 sec\n",
      "EvaluatorHoldout: Ignoring 172 ( 0.5%) Users that have less than 1 test interactions\n",
      "EvaluatorHoldout: Processed 35564 (100.0%) in 33.96 sec. Users per second: 1047\n"
     ]
    },
    {
     "name": "stderr",
     "output_type": "stream",
     "text": [
      "[I 2025-01-04 18:38:05,114] Trial 197 finished with value: 0.04885511508997322 and parameters: {'similarity': 'tversky', 'topK': 66, 'shrink': 1, 'feature_weighting': 'TF-IDF', 'tversky_alpha': 0.25247428851823894, 'tversky_beta': 1.8508497562899808}. Best is trial 189 with value: 0.052770132207501916.\n"
     ]
    },
    {
     "name": "stdout",
     "output_type": "stream",
     "text": [
      "Similarity column 38121 (100.0%), 2678.52 column/sec. Elapsed time 14.23 sec\n",
      "EvaluatorHoldout: Ignoring 173 ( 0.5%) Users that have less than 1 test interactions\n",
      "EvaluatorHoldout: Processed 35563 (100.0%) in 32.67 sec. Users per second: 1089\n",
      "Similarity column 38121 (100.0%), 2664.90 column/sec. Elapsed time 14.30 sec\n",
      "EvaluatorHoldout: Ignoring 163 ( 0.5%) Users that have less than 1 test interactions\n",
      "EvaluatorHoldout: Processed 35573 (100.0%) in 32.86 sec. Users per second: 1083\n",
      "Similarity column 38121 (100.0%), 2668.27 column/sec. Elapsed time 14.29 sec\n",
      "EvaluatorHoldout: Ignoring 150 ( 0.4%) Users that have less than 1 test interactions\n",
      "EvaluatorHoldout: Processed 35586 (100.0%) in 33.41 sec. Users per second: 1065\n",
      "Similarity column 38121 (100.0%), 2641.67 column/sec. Elapsed time 14.43 sec\n",
      "EvaluatorHoldout: Ignoring 167 ( 0.5%) Users that have less than 1 test interactions\n",
      "EvaluatorHoldout: Processed 35569 (100.0%) in 32.93 sec. Users per second: 1080\n",
      "Similarity column 38121 (100.0%), 2675.08 column/sec. Elapsed time 14.25 sec\n",
      "EvaluatorHoldout: Ignoring 172 ( 0.5%) Users that have less than 1 test interactions\n",
      "EvaluatorHoldout: Processed 35564 (100.0%) in 32.72 sec. Users per second: 1087\n"
     ]
    },
    {
     "name": "stderr",
     "output_type": "stream",
     "text": [
      "[I 2025-01-04 18:42:03,802] Trial 198 finished with value: 0.05069920295812504 and parameters: {'similarity': 'tversky', 'topK': 33, 'shrink': 20, 'feature_weighting': 'TF-IDF', 'tversky_alpha': 0.53449108763235, 'tversky_beta': 1.9276516198063225}. Best is trial 189 with value: 0.052770132207501916.\n"
     ]
    },
    {
     "name": "stdout",
     "output_type": "stream",
     "text": [
      "Similarity column 38121 (100.0%), 2637.74 column/sec. Elapsed time 14.45 sec\n",
      "EvaluatorHoldout: Ignoring 173 ( 0.5%) Users that have less than 1 test interactions\n",
      "EvaluatorHoldout: Processed 35563 (100.0%) in 34.04 sec. Users per second: 1045\n",
      "Similarity column 38121 (100.0%), 2669.92 column/sec. Elapsed time 14.28 sec\n",
      "EvaluatorHoldout: Ignoring 163 ( 0.5%) Users that have less than 1 test interactions\n",
      "EvaluatorHoldout: Processed 35573 (100.0%) in 33.72 sec. Users per second: 1055\n",
      "Similarity column 38121 (100.0%), 2655.72 column/sec. Elapsed time 14.35 sec\n",
      "EvaluatorHoldout: Ignoring 150 ( 0.4%) Users that have less than 1 test interactions\n",
      "EvaluatorHoldout: Processed 35586 (100.0%) in 33.74 sec. Users per second: 1055\n",
      "Similarity column 38121 (100.0%), 2652.35 column/sec. Elapsed time 14.37 sec\n",
      "EvaluatorHoldout: Ignoring 167 ( 0.5%) Users that have less than 1 test interactions\n",
      "EvaluatorHoldout: Processed 35569 (100.0%) in 34.11 sec. Users per second: 1043\n",
      "Similarity column 38121 (100.0%), 2548.55 column/sec. Elapsed time 14.96 sec\n",
      "EvaluatorHoldout: Ignoring 172 ( 0.5%) Users that have less than 1 test interactions\n",
      "EvaluatorHoldout: Processed 35564 (100.0%) in 34.10 sec. Users per second: 1043\n"
     ]
    },
    {
     "name": "stderr",
     "output_type": "stream",
     "text": [
      "[I 2025-01-04 18:46:08,729] Trial 199 finished with value: 0.04950766943167519 and parameters: {'similarity': 'tversky', 'topK': 54, 'shrink': 12, 'feature_weighting': 'TF-IDF', 'tversky_alpha': 0.5673951927808256, 'tversky_beta': 1.9909122653788944}. Best is trial 189 with value: 0.052770132207501916.\n"
     ]
    }
   ],
   "source": [
    "if config['tune_parameters']:\n",
    "    \n",
    "    optuna_study = optuna.create_study(direction='maximize', study_name=f'hyperparameters_tuning_{config[\"model\"]}_{config[\"metric\"]}',\n",
    "                                storage=f'sqlite:///{config[\"database_path\"]}', load_if_exists=True)\n",
    "\n",
    "    optuna_study.optimize(objective_function_ItemKNNCF, n_trials=100)"
   ]
  },
  {
   "cell_type": "markdown",
   "id": "cae851dd",
   "metadata": {
    "papermill": {
     "duration": 0.103011,
     "end_time": "2025-01-04T18:46:08.990863",
     "exception": false,
     "start_time": "2025-01-04T18:46:08.887852",
     "status": "completed"
    },
    "tags": []
   },
   "source": [
    "## Some optuna visualizations on recommender parameters"
   ]
  },
  {
   "cell_type": "code",
   "execution_count": 14,
   "id": "f20c7c0f",
   "metadata": {
    "execution": {
     "iopub.execute_input": "2025-01-04T18:46:09.206461Z",
     "iopub.status.busy": "2025-01-04T18:46:09.205888Z",
     "iopub.status.idle": "2025-01-04T18:46:11.869321Z",
     "shell.execute_reply": "2025-01-04T18:46:11.868230Z"
    },
    "papermill": {
     "duration": 2.772269,
     "end_time": "2025-01-04T18:46:11.871278",
     "exception": false,
     "start_time": "2025-01-04T18:46:09.099009",
     "status": "completed"
    },
    "tags": []
   },
   "outputs": [
    {
     "data": {
      "text/html": [
       "<html>\n",
       "<head><meta charset=\"utf-8\" /></head>\n",
       "<body>\n",
       "    <div>            <script src=\"https://cdnjs.cloudflare.com/ajax/libs/mathjax/2.7.5/MathJax.js?config=TeX-AMS-MML_SVG\"></script><script type=\"text/javascript\">if (window.MathJax && window.MathJax.Hub && window.MathJax.Hub.Config) {window.MathJax.Hub.Config({SVG: {font: \"STIX-Web\"}});}</script>                <script type=\"text/javascript\">window.PlotlyConfig = {MathJaxConfig: 'local'};</script>\n",
       "        <script charset=\"utf-8\" src=\"https://cdn.plot.ly/plotly-2.35.2.min.js\"></script>                <div id=\"b5415635-8295-45d3-9594-c2e6efee1580\" class=\"plotly-graph-div\" style=\"height:525px; width:3000px;\"></div>            <script type=\"text/javascript\">                                    window.PLOTLYENV=window.PLOTLYENV || {};                                    if (document.getElementById(\"b5415635-8295-45d3-9594-c2e6efee1580\")) {                    Plotly.newPlot(                        \"b5415635-8295-45d3-9594-c2e6efee1580\",                        [{\"marker\":{\"color\":[1,18,27,36,57,70,97,125,158],\"colorbar\":{\"title\":{\"text\":\"Trial\"},\"x\":1.0,\"xpad\":40},\"colorscale\":[[0.0,\"rgb(247,251,255)\"],[0.125,\"rgb(222,235,247)\"],[0.25,\"rgb(198,219,239)\"],[0.375,\"rgb(158,202,225)\"],[0.5,\"rgb(107,174,214)\"],[0.625,\"rgb(66,146,198)\"],[0.75,\"rgb(33,113,181)\"],[0.875,\"rgb(8,81,156)\"],[1.0,\"rgb(8,48,107)\"]],\"line\":{\"color\":\"Grey\",\"width\":0.5},\"showscale\":true},\"mode\":\"markers\",\"name\":\"Feasible Trial\",\"showlegend\":false,\"x\":[0.9418222652166581,1.9529260996222917,0.0012138953143470133,1.934694050596998,0.32257361036385657,1.1078886213783108,1.147248784534726,0.6453577064150977,1.5917489318159819],\"y\":[0.04171964497081084,0.009585828606819929,0.04010564854729204,0.018499769450536042,0.0469879804783168,0.022658722357174747,0.04057861037770286,0.045043685195053494,0.009216016064248595],\"type\":\"scatter\",\"xaxis\":\"x\",\"yaxis\":\"y\"},{\"marker\":{\"color\":[0,1,2,3,4,5,6,7,8,9,10,11,12,13,14,15,16,17,18,19,20,21,22,23,24,25,26,27,28,29,30,31,32,33,34,35,36,37,38,39,40,41,42,43,44,45,46,47,48,49,50,51,52,53,54,55,56,57,58,59,60,61,62,63,64,65,66,67,68,69,70,71,72,73,74,75,76,77,78,79,80,81,82,83,84,85,86,87,88,89,90,91,92,93,94,95,96,97,98,99,100,101,102,103,104,105,106,107,108,109,110,111,112,113,114,115,116,117,118,119,120,121,122,123,124,125,126,127,128,129,130,131,132,133,134,135,136,137,138,139,140,141,142,143,144,145,146,147,148,149,150,151,152,153,154,155,156,157,158,159,160,161,162,163,164,165,166,167,168,169,170,171,172,173,174,175,176,177,178,179,180,181,182,183,184,185,186,187,188,189,190,191,192,193,194,195,196,197,198,199],\"colorbar\":{\"title\":{\"text\":\"Trial\"},\"x\":1.0,\"xpad\":40},\"colorscale\":[[0.0,\"rgb(247,251,255)\"],[0.125,\"rgb(222,235,247)\"],[0.25,\"rgb(198,219,239)\"],[0.375,\"rgb(158,202,225)\"],[0.5,\"rgb(107,174,214)\"],[0.625,\"rgb(66,146,198)\"],[0.75,\"rgb(33,113,181)\"],[0.875,\"rgb(8,81,156)\"],[1.0,\"rgb(8,48,107)\"]],\"line\":{\"color\":\"Grey\",\"width\":0.5},\"showscale\":false},\"mode\":\"markers\",\"name\":\"Feasible Trial\",\"showlegend\":false,\"x\":[\"BM25\",\"BM25\",\"TF-IDF\",\"BM25\",\"BM25\",\"BM25\",\"BM25\",\"TF-IDF\",\"BM25\",\"BM25\",\"TF-IDF\",\"TF-IDF\",\"none\",\"TF-IDF\",\"TF-IDF\",\"TF-IDF\",\"none\",\"TF-IDF\",\"TF-IDF\",\"TF-IDF\",\"none\",\"TF-IDF\",\"TF-IDF\",\"TF-IDF\",\"TF-IDF\",\"TF-IDF\",\"TF-IDF\",\"none\",\"TF-IDF\",\"TF-IDF\",\"TF-IDF\",\"TF-IDF\",\"TF-IDF\",\"TF-IDF\",\"TF-IDF\",\"TF-IDF\",\"TF-IDF\",\"none\",\"TF-IDF\",\"BM25\",\"TF-IDF\",\"TF-IDF\",\"TF-IDF\",\"TF-IDF\",\"BM25\",\"TF-IDF\",\"TF-IDF\",\"TF-IDF\",\"BM25\",\"TF-IDF\",\"none\",\"TF-IDF\",\"TF-IDF\",\"TF-IDF\",\"TF-IDF\",\"TF-IDF\",\"TF-IDF\",\"TF-IDF\",\"TF-IDF\",\"BM25\",\"TF-IDF\",\"TF-IDF\",\"TF-IDF\",\"TF-IDF\",\"TF-IDF\",\"TF-IDF\",\"none\",\"TF-IDF\",\"TF-IDF\",\"TF-IDF\",\"TF-IDF\",\"TF-IDF\",\"TF-IDF\",\"TF-IDF\",\"TF-IDF\",\"TF-IDF\",\"TF-IDF\",\"none\",\"TF-IDF\",\"BM25\",\"TF-IDF\",\"TF-IDF\",\"TF-IDF\",\"TF-IDF\",\"TF-IDF\",\"TF-IDF\",\"TF-IDF\",\"TF-IDF\",\"TF-IDF\",\"TF-IDF\",\"none\",\"TF-IDF\",\"TF-IDF\",\"TF-IDF\",\"TF-IDF\",\"TF-IDF\",\"TF-IDF\",\"BM25\",\"TF-IDF\",\"TF-IDF\",\"TF-IDF\",\"TF-IDF\",\"TF-IDF\",\"TF-IDF\",\"TF-IDF\",\"TF-IDF\",\"TF-IDF\",\"TF-IDF\",\"TF-IDF\",\"TF-IDF\",\"TF-IDF\",\"TF-IDF\",\"TF-IDF\",\"TF-IDF\",\"TF-IDF\",\"TF-IDF\",\"TF-IDF\",\"none\",\"BM25\",\"TF-IDF\",\"TF-IDF\",\"TF-IDF\",\"TF-IDF\",\"TF-IDF\",\"TF-IDF\",\"TF-IDF\",\"TF-IDF\",\"TF-IDF\",\"TF-IDF\",\"TF-IDF\",\"TF-IDF\",\"TF-IDF\",\"TF-IDF\",\"TF-IDF\",\"TF-IDF\",\"TF-IDF\",\"TF-IDF\",\"TF-IDF\",\"TF-IDF\",\"none\",\"TF-IDF\",\"TF-IDF\",\"TF-IDF\",\"TF-IDF\",\"TF-IDF\",\"TF-IDF\",\"BM25\",\"TF-IDF\",\"TF-IDF\",\"TF-IDF\",\"TF-IDF\",\"TF-IDF\",\"TF-IDF\",\"TF-IDF\",\"TF-IDF\",\"TF-IDF\",\"TF-IDF\",\"TF-IDF\",\"TF-IDF\",\"TF-IDF\",\"TF-IDF\",\"TF-IDF\",\"TF-IDF\",\"TF-IDF\",\"TF-IDF\",\"TF-IDF\",\"TF-IDF\",\"TF-IDF\",\"TF-IDF\",\"none\",\"TF-IDF\",\"TF-IDF\",\"TF-IDF\",\"TF-IDF\",\"TF-IDF\",\"TF-IDF\",\"TF-IDF\",\"BM25\",\"TF-IDF\",\"TF-IDF\",\"TF-IDF\",\"TF-IDF\",\"TF-IDF\",\"TF-IDF\",\"TF-IDF\",\"TF-IDF\",\"TF-IDF\",\"TF-IDF\",\"TF-IDF\",\"TF-IDF\",\"TF-IDF\",\"TF-IDF\",\"TF-IDF\",\"TF-IDF\",\"TF-IDF\",\"TF-IDF\",\"TF-IDF\",\"TF-IDF\",\"TF-IDF\",\"TF-IDF\"],\"y\":[0.03847803567849229,0.04171964497081084,0.045075083416706754,0.03969241243666473,0.015505116638520241,0.03390989215925825,0.04208916606138639,0.03992089568563728,0.03689398166065726,0.0419195619113201,0.04286446311593473,0.04370869088626762,0.03922014699048953,0.03898220646002158,0.04522533432718656,0.045419613559969596,0.033276953099928765,0.044603421446640534,0.009585828606819929,0.04603685469227625,0.036478533171880455,0.04936385234454629,0.04884736351921455,0.05167910318356951,0.051299149203227944,0.048890057353751605,0.04422724678859554,0.04010564854729204,0.018002904416695022,0.034522039692480196,0.044599477795545094,0.04921190880610869,0.050085003730726205,0.04670507928914593,0.04774758311109263,0.04624842492671421,0.018499769450536042,0.0471228279082221,0.04704902406361122,0.039014626607979955,0.046365675679190935,0.048154934413874154,0.047921209852360445,0.0516509302410396,0.03591129786809708,0.041083810657646824,0.04402098719895735,0.019161143155815477,0.04561184037203904,0.03602128500231943,0.03458822598741253,0.04784897708922793,0.04820380943479764,0.041976571864759823,0.04740382442291594,0.045051453542955366,0.04648504130021554,0.0469879804783168,0.048461992727442914,0.042413896090541955,0.049028092198309045,0.04919733821484708,0.048179967153130845,0.04694401449089732,0.04954915876216106,0.0002664826418719655,0.0395961476902804,0.02765333913833305,0.04249586982388426,0.04387294658296601,0.022658722357174747,0.049331885341930864,0.049934388763156416,0.04844238489569648,0.04950439674902438,0.047842500622259865,0.047141583913202785,0.044330265171293334,0.04507506180411467,0.042850527787547776,0.042630380128308054,0.04933324510119477,0.0481437214970748,0.04975391008487637,0.04686650492269808,0.04726198463493369,0.04656591531270172,0.04282694024513882,0.03238459417420321,0.047910376227795134,0.03642232578734297,0.0494451147008956,0.0002664826418719655,0.049154679926459895,0.04736466281198917,0.049376702406276715,0.04834581653075937,0.04057861037770286,0.05031477680681584,0.05037676712344134,0.04800919581518322,0.04963598798308874,0.0002664826418719655,0.049504241473341926,0.04751151390853433,0.043710622878157565,0.04793737819207235,0.04664669663710096,0.0466421111068875,0.05014495286754074,0.05001918540506721,0.04937054806796139,0.04853121084630373,0.0002664826418719655,0.04086167291275695,0.04711551945335192,0.048255655760942956,0.04232723894120498,0.04212373222017858,0.021211838801501057,0.046355664992873455,0.04879863008544178,0.050289612360944605,0.05094557622011079,0.05141379116754542,0.045043685195053494,0.0421953998415494,0.04824104595311586,0.04536433696221219,0.04804893042642694,0.047355889084013954,0.04994099064968518,0.04844011894775917,0.05072062948872008,0.05167499647934026,0.0002664826418719655,0.047950622301437665,0.047706655214182506,0.04858543575580961,0.0002664826418719655,0.047096205258541024,0.049633379649968196,0.04980878259305179,0.04851957081257526,0.0002664826418719655,0.044756911256342055,0.02784785793175936,0.04847850697449875,0.047116810660729994,0.04318529427697464,0.04837693138361469,0.05005289223297421,0.04983953922684468,0.048081317213503866,0.04739143116001597,0.050711091356320306,0.0423139061213198,0.04850785022691531,0.009216016064248595,0.04782418485527614,0.0002664826418719655,0.049024305900822816,0.04964787000215071,0.04821691192237398,0.04766757359625482,0.049898896364941756,0.04866275228073952,0.050339485124901585,0.04805792166950668,0.03807168129783852,0.04801868844605957,0.04989307820097129,0.04862042917789884,0.0002664826418719655,0.04872917207550892,0.0421431333588106,0.050170333522096044,0.04282836807235073,0.04991526231617852,0.028107451890721297,0.0002664826418719655,0.04993257210734363,0.04898506243922583,0.04955189791234907,0.048159910345721285,0.04999742933612483,0.04651908289037322,0.048688769926603,0.05017736655787099,0.052770132207501916,0.044920360081063405,0.05053286852839014,0.0002664826418719655,0.050562791169713586,0.05031125284117284,0.04990563145551257,0.05112802526300825,0.04885511508997322,0.05069920295812504,0.04950766943167519],\"type\":\"scatter\",\"xaxis\":\"x2\",\"yaxis\":\"y2\"},{\"marker\":{\"color\":[4,5,28,37,47,67,88,119,146,179],\"colorbar\":{\"title\":{\"text\":\"Trial\"},\"x\":1.0,\"xpad\":40},\"colorscale\":[[0.0,\"rgb(247,251,255)\"],[0.125,\"rgb(222,235,247)\"],[0.25,\"rgb(198,219,239)\"],[0.375,\"rgb(158,202,225)\"],[0.5,\"rgb(107,174,214)\"],[0.625,\"rgb(66,146,198)\"],[0.75,\"rgb(33,113,181)\"],[0.875,\"rgb(8,81,156)\"],[1.0,\"rgb(8,48,107)\"]],\"line\":{\"color\":\"Grey\",\"width\":0.5},\"showscale\":false},\"mode\":\"markers\",\"name\":\"Feasible Trial\",\"showlegend\":false,\"x\":[true,false,false,true,true,false,true,false,true,false],\"y\":[0.015505116638520241,0.03390989215925825,0.018002904416695022,0.0471228279082221,0.019161143155815477,0.02765333913833305,0.03238459417420321,0.021211838801501057,0.02784785793175936,0.028107451890721297],\"type\":\"scatter\",\"xaxis\":\"x3\",\"yaxis\":\"y3\"},{\"marker\":{\"color\":[4,5,28,37,47,67,88,119,146,179],\"colorbar\":{\"title\":{\"text\":\"Trial\"},\"x\":1.0,\"xpad\":40},\"colorscale\":[[0.0,\"rgb(247,251,255)\"],[0.125,\"rgb(222,235,247)\"],[0.25,\"rgb(198,219,239)\"],[0.375,\"rgb(158,202,225)\"],[0.5,\"rgb(107,174,214)\"],[0.625,\"rgb(66,146,198)\"],[0.75,\"rgb(33,113,181)\"],[0.875,\"rgb(8,81,156)\"],[1.0,\"rgb(8,48,107)\"]],\"line\":{\"color\":\"Grey\",\"width\":0.5},\"showscale\":false},\"mode\":\"markers\",\"name\":\"Feasible Trial\",\"showlegend\":false,\"x\":[true,true,false,false,false,true,true,false,true,false],\"y\":[0.015505116638520241,0.03390989215925825,0.018002904416695022,0.0471228279082221,0.019161143155815477,0.02765333913833305,0.03238459417420321,0.021211838801501057,0.02784785793175936,0.028107451890721297],\"type\":\"scatter\",\"xaxis\":\"x4\",\"yaxis\":\"y4\"},{\"marker\":{\"color\":[0,1,2,3,4,5,6,7,8,9,10,11,12,13,14,15,16,17,18,19,20,21,22,23,24,25,26,27,28,29,30,31,32,33,34,35,36,37,38,39,40,41,42,43,44,45,46,47,48,49,50,51,52,53,54,55,56,57,58,59,60,61,62,63,64,65,66,67,68,69,70,71,72,73,74,75,76,77,78,79,80,81,82,83,84,85,86,87,88,89,90,91,92,93,94,95,96,97,98,99,100,101,102,103,104,105,106,107,108,109,110,111,112,113,114,115,116,117,118,119,120,121,122,123,124,125,126,127,128,129,130,131,132,133,134,135,136,137,138,139,140,141,142,143,144,145,146,147,148,149,150,151,152,153,154,155,156,157,158,159,160,161,162,163,164,165,166,167,168,169,170,171,172,173,174,175,176,177,178,179,180,181,182,183,184,185,186,187,188,189,190,191,192,193,194,195,196,197,198,199],\"colorbar\":{\"title\":{\"text\":\"Trial\"},\"x\":1.0,\"xpad\":40},\"colorscale\":[[0.0,\"rgb(247,251,255)\"],[0.125,\"rgb(222,235,247)\"],[0.25,\"rgb(198,219,239)\"],[0.375,\"rgb(158,202,225)\"],[0.5,\"rgb(107,174,214)\"],[0.625,\"rgb(66,146,198)\"],[0.75,\"rgb(33,113,181)\"],[0.875,\"rgb(8,81,156)\"],[1.0,\"rgb(8,48,107)\"]],\"line\":{\"color\":\"Grey\",\"width\":0.5},\"showscale\":false},\"mode\":\"markers\",\"name\":\"Feasible Trial\",\"showlegend\":false,\"x\":[895,532,250,438,382,879,87,418,992,699,56,15,223,221,201,252,595,316,135,162,325,167,131,128,1,3,95,305,9,703,150,6,57,91,183,68,552,258,63,382,133,28,101,36,49,183,112,271,54,820,463,12,1,52,167,217,73,122,36,94,221,204,365,137,165,39,160,71,287,989,102,194,185,249,182,344,239,151,114,177,81,193,147,279,636,116,31,416,168,299,267,234,227,324,212,129,87,134,56,27,33,55,58,24,71,16,50,100,3,79,81,82,50,34,0,68,110,91,26,503,65,149,123,46,121,124,103,43,82,115,21,60,74,39,44,41,13,58,91,1,45,24,780,70,138,100,37,78,122,59,20,102,89,110,53,145,147,37,76,17,91,167,115,64,130,43,95,149,138,59,580,160,25,1,191,111,83,80,53,97,71,129,153,37,107,79,51,76,22,16,28,5,4,17,0,20,2,1,20,12],\"y\":[0.03847803567849229,0.04171964497081084,0.045075083416706754,0.03969241243666473,0.015505116638520241,0.03390989215925825,0.04208916606138639,0.03992089568563728,0.03689398166065726,0.0419195619113201,0.04286446311593473,0.04370869088626762,0.03922014699048953,0.03898220646002158,0.04522533432718656,0.045419613559969596,0.033276953099928765,0.044603421446640534,0.009585828606819929,0.04603685469227625,0.036478533171880455,0.04936385234454629,0.04884736351921455,0.05167910318356951,0.051299149203227944,0.048890057353751605,0.04422724678859554,0.04010564854729204,0.018002904416695022,0.034522039692480196,0.044599477795545094,0.04921190880610869,0.050085003730726205,0.04670507928914593,0.04774758311109263,0.04624842492671421,0.018499769450536042,0.0471228279082221,0.04704902406361122,0.039014626607979955,0.046365675679190935,0.048154934413874154,0.047921209852360445,0.0516509302410396,0.03591129786809708,0.041083810657646824,0.04402098719895735,0.019161143155815477,0.04561184037203904,0.03602128500231943,0.03458822598741253,0.04784897708922793,0.04820380943479764,0.041976571864759823,0.04740382442291594,0.045051453542955366,0.04648504130021554,0.0469879804783168,0.048461992727442914,0.042413896090541955,0.049028092198309045,0.04919733821484708,0.048179967153130845,0.04694401449089732,0.04954915876216106,0.0002664826418719655,0.0395961476902804,0.02765333913833305,0.04249586982388426,0.04387294658296601,0.022658722357174747,0.049331885341930864,0.049934388763156416,0.04844238489569648,0.04950439674902438,0.047842500622259865,0.047141583913202785,0.044330265171293334,0.04507506180411467,0.042850527787547776,0.042630380128308054,0.04933324510119477,0.0481437214970748,0.04975391008487637,0.04686650492269808,0.04726198463493369,0.04656591531270172,0.04282694024513882,0.03238459417420321,0.047910376227795134,0.03642232578734297,0.0494451147008956,0.0002664826418719655,0.049154679926459895,0.04736466281198917,0.049376702406276715,0.04834581653075937,0.04057861037770286,0.05031477680681584,0.05037676712344134,0.04800919581518322,0.04963598798308874,0.0002664826418719655,0.049504241473341926,0.04751151390853433,0.043710622878157565,0.04793737819207235,0.04664669663710096,0.0466421111068875,0.05014495286754074,0.05001918540506721,0.04937054806796139,0.04853121084630373,0.0002664826418719655,0.04086167291275695,0.04711551945335192,0.048255655760942956,0.04232723894120498,0.04212373222017858,0.021211838801501057,0.046355664992873455,0.04879863008544178,0.050289612360944605,0.05094557622011079,0.05141379116754542,0.045043685195053494,0.0421953998415494,0.04824104595311586,0.04536433696221219,0.04804893042642694,0.047355889084013954,0.04994099064968518,0.04844011894775917,0.05072062948872008,0.05167499647934026,0.0002664826418719655,0.047950622301437665,0.047706655214182506,0.04858543575580961,0.0002664826418719655,0.047096205258541024,0.049633379649968196,0.04980878259305179,0.04851957081257526,0.0002664826418719655,0.044756911256342055,0.02784785793175936,0.04847850697449875,0.047116810660729994,0.04318529427697464,0.04837693138361469,0.05005289223297421,0.04983953922684468,0.048081317213503866,0.04739143116001597,0.050711091356320306,0.0423139061213198,0.04850785022691531,0.009216016064248595,0.04782418485527614,0.0002664826418719655,0.049024305900822816,0.04964787000215071,0.04821691192237398,0.04766757359625482,0.049898896364941756,0.04866275228073952,0.050339485124901585,0.04805792166950668,0.03807168129783852,0.04801868844605957,0.04989307820097129,0.04862042917789884,0.0002664826418719655,0.04872917207550892,0.0421431333588106,0.050170333522096044,0.04282836807235073,0.04991526231617852,0.028107451890721297,0.0002664826418719655,0.04993257210734363,0.04898506243922583,0.04955189791234907,0.048159910345721285,0.04999742933612483,0.04651908289037322,0.048688769926603,0.05017736655787099,0.052770132207501916,0.044920360081063405,0.05053286852839014,0.0002664826418719655,0.050562791169713586,0.05031125284117284,0.04990563145551257,0.05112802526300825,0.04885511508997322,0.05069920295812504,0.04950766943167519],\"type\":\"scatter\",\"xaxis\":\"x5\",\"yaxis\":\"y5\"},{\"marker\":{\"color\":[0,1,2,3,4,5,6,7,8,9,10,11,12,13,14,15,16,17,18,19,20,21,22,23,24,25,26,27,28,29,30,31,32,33,34,35,36,37,38,39,40,41,42,43,44,45,46,47,48,49,50,51,52,53,54,55,56,57,58,59,60,61,62,63,64,65,66,67,68,69,70,71,72,73,74,75,76,77,78,79,80,81,82,83,84,85,86,87,88,89,90,91,92,93,94,95,96,97,98,99,100,101,102,103,104,105,106,107,108,109,110,111,112,113,114,115,116,117,118,119,120,121,122,123,124,125,126,127,128,129,130,131,132,133,134,135,136,137,138,139,140,141,142,143,144,145,146,147,148,149,150,151,152,153,154,155,156,157,158,159,160,161,162,163,164,165,166,167,168,169,170,171,172,173,174,175,176,177,178,179,180,181,182,183,184,185,186,187,188,189,190,191,192,193,194,195,196,197,198,199],\"colorbar\":{\"title\":{\"text\":\"Trial\"},\"x\":1.0,\"xpad\":40},\"colorscale\":[[0.0,\"rgb(247,251,255)\"],[0.125,\"rgb(222,235,247)\"],[0.25,\"rgb(198,219,239)\"],[0.375,\"rgb(158,202,225)\"],[0.5,\"rgb(107,174,214)\"],[0.625,\"rgb(66,146,198)\"],[0.75,\"rgb(33,113,181)\"],[0.875,\"rgb(8,81,156)\"],[1.0,\"rgb(8,48,107)\"]],\"line\":{\"color\":\"Grey\",\"width\":0.5},\"showscale\":false},\"mode\":\"markers\",\"name\":\"Feasible Trial\",\"showlegend\":false,\"x\":[\"tversky\",\"asymmetric\",\"cosine\",\"dice\",\"euclidean\",\"euclidean\",\"cosine\",\"tversky\",\"dice\",\"cosine\",\"jaccard\",\"jaccard\",\"jaccard\",\"jaccard\",\"cosine\",\"cosine\",\"cosine\",\"cosine\",\"asymmetric\",\"cosine\",\"cosine\",\"cosine\",\"cosine\",\"cosine\",\"cosine\",\"cosine\",\"dice\",\"asymmetric\",\"euclidean\",\"tversky\",\"tversky\",\"cosine\",\"cosine\",\"cosine\",\"cosine\",\"cosine\",\"asymmetric\",\"euclidean\",\"cosine\",\"dice\",\"cosine\",\"cosine\",\"cosine\",\"cosine\",\"cosine\",\"tversky\",\"cosine\",\"euclidean\",\"dice\",\"jaccard\",\"cosine\",\"cosine\",\"cosine\",\"cosine\",\"cosine\",\"cosine\",\"cosine\",\"asymmetric\",\"jaccard\",\"cosine\",\"cosine\",\"cosine\",\"cosine\",\"cosine\",\"cosine\",\"tversky\",\"cosine\",\"euclidean\",\"dice\",\"cosine\",\"asymmetric\",\"cosine\",\"cosine\",\"cosine\",\"cosine\",\"cosine\",\"cosine\",\"cosine\",\"jaccard\",\"cosine\",\"tversky\",\"cosine\",\"cosine\",\"cosine\",\"cosine\",\"cosine\",\"cosine\",\"dice\",\"euclidean\",\"cosine\",\"cosine\",\"cosine\",\"cosine\",\"cosine\",\"cosine\",\"cosine\",\"cosine\",\"asymmetric\",\"cosine\",\"cosine\",\"jaccard\",\"cosine\",\"cosine\",\"cosine\",\"cosine\",\"cosine\",\"cosine\",\"cosine\",\"cosine\",\"tversky\",\"tversky\",\"tversky\",\"tversky\",\"tversky\",\"tversky\",\"tversky\",\"tversky\",\"tversky\",\"tversky\",\"euclidean\",\"dice\",\"cosine\",\"cosine\",\"cosine\",\"cosine\",\"asymmetric\",\"cosine\",\"cosine\",\"tversky\",\"jaccard\",\"cosine\",\"cosine\",\"cosine\",\"cosine\",\"cosine\",\"cosine\",\"cosine\",\"cosine\",\"cosine\",\"cosine\",\"cosine\",\"cosine\",\"cosine\",\"cosine\",\"cosine\",\"cosine\",\"euclidean\",\"dice\",\"cosine\",\"tversky\",\"cosine\",\"cosine\",\"cosine\",\"cosine\",\"cosine\",\"cosine\",\"cosine\",\"cosine\",\"asymmetric\",\"cosine\",\"tversky\",\"cosine\",\"cosine\",\"cosine\",\"cosine\",\"jaccard\",\"cosine\",\"cosine\",\"cosine\",\"cosine\",\"cosine\",\"cosine\",\"cosine\",\"cosine\",\"cosine\",\"tversky\",\"cosine\",\"cosine\",\"cosine\",\"euclidean\",\"cosine\",\"cosine\",\"cosine\",\"cosine\",\"cosine\",\"cosine\",\"dice\",\"cosine\",\"cosine\",\"tversky\",\"tversky\",\"tversky\",\"tversky\",\"tversky\",\"tversky\",\"tversky\",\"tversky\",\"tversky\",\"tversky\",\"tversky\"],\"y\":[0.03847803567849229,0.04171964497081084,0.045075083416706754,0.03969241243666473,0.015505116638520241,0.03390989215925825,0.04208916606138639,0.03992089568563728,0.03689398166065726,0.0419195619113201,0.04286446311593473,0.04370869088626762,0.03922014699048953,0.03898220646002158,0.04522533432718656,0.045419613559969596,0.033276953099928765,0.044603421446640534,0.009585828606819929,0.04603685469227625,0.036478533171880455,0.04936385234454629,0.04884736351921455,0.05167910318356951,0.051299149203227944,0.048890057353751605,0.04422724678859554,0.04010564854729204,0.018002904416695022,0.034522039692480196,0.044599477795545094,0.04921190880610869,0.050085003730726205,0.04670507928914593,0.04774758311109263,0.04624842492671421,0.018499769450536042,0.0471228279082221,0.04704902406361122,0.039014626607979955,0.046365675679190935,0.048154934413874154,0.047921209852360445,0.0516509302410396,0.03591129786809708,0.041083810657646824,0.04402098719895735,0.019161143155815477,0.04561184037203904,0.03602128500231943,0.03458822598741253,0.04784897708922793,0.04820380943479764,0.041976571864759823,0.04740382442291594,0.045051453542955366,0.04648504130021554,0.0469879804783168,0.048461992727442914,0.042413896090541955,0.049028092198309045,0.04919733821484708,0.048179967153130845,0.04694401449089732,0.04954915876216106,0.0002664826418719655,0.0395961476902804,0.02765333913833305,0.04249586982388426,0.04387294658296601,0.022658722357174747,0.049331885341930864,0.049934388763156416,0.04844238489569648,0.04950439674902438,0.047842500622259865,0.047141583913202785,0.044330265171293334,0.04507506180411467,0.042850527787547776,0.042630380128308054,0.04933324510119477,0.0481437214970748,0.04975391008487637,0.04686650492269808,0.04726198463493369,0.04656591531270172,0.04282694024513882,0.03238459417420321,0.047910376227795134,0.03642232578734297,0.0494451147008956,0.0002664826418719655,0.049154679926459895,0.04736466281198917,0.049376702406276715,0.04834581653075937,0.04057861037770286,0.05031477680681584,0.05037676712344134,0.04800919581518322,0.04963598798308874,0.0002664826418719655,0.049504241473341926,0.04751151390853433,0.043710622878157565,0.04793737819207235,0.04664669663710096,0.0466421111068875,0.05014495286754074,0.05001918540506721,0.04937054806796139,0.04853121084630373,0.0002664826418719655,0.04086167291275695,0.04711551945335192,0.048255655760942956,0.04232723894120498,0.04212373222017858,0.021211838801501057,0.046355664992873455,0.04879863008544178,0.050289612360944605,0.05094557622011079,0.05141379116754542,0.045043685195053494,0.0421953998415494,0.04824104595311586,0.04536433696221219,0.04804893042642694,0.047355889084013954,0.04994099064968518,0.04844011894775917,0.05072062948872008,0.05167499647934026,0.0002664826418719655,0.047950622301437665,0.047706655214182506,0.04858543575580961,0.0002664826418719655,0.047096205258541024,0.049633379649968196,0.04980878259305179,0.04851957081257526,0.0002664826418719655,0.044756911256342055,0.02784785793175936,0.04847850697449875,0.047116810660729994,0.04318529427697464,0.04837693138361469,0.05005289223297421,0.04983953922684468,0.048081317213503866,0.04739143116001597,0.050711091356320306,0.0423139061213198,0.04850785022691531,0.009216016064248595,0.04782418485527614,0.0002664826418719655,0.049024305900822816,0.04964787000215071,0.04821691192237398,0.04766757359625482,0.049898896364941756,0.04866275228073952,0.050339485124901585,0.04805792166950668,0.03807168129783852,0.04801868844605957,0.04989307820097129,0.04862042917789884,0.0002664826418719655,0.04872917207550892,0.0421431333588106,0.050170333522096044,0.04282836807235073,0.04991526231617852,0.028107451890721297,0.0002664826418719655,0.04993257210734363,0.04898506243922583,0.04955189791234907,0.048159910345721285,0.04999742933612483,0.04651908289037322,0.048688769926603,0.05017736655787099,0.052770132207501916,0.044920360081063405,0.05053286852839014,0.0002664826418719655,0.050562791169713586,0.05031125284117284,0.04990563145551257,0.05112802526300825,0.04885511508997322,0.05069920295812504,0.04950766943167519],\"type\":\"scatter\",\"xaxis\":\"x6\",\"yaxis\":\"y6\"},{\"marker\":{\"color\":[4,5,28,37,47,67,88,119,146,179],\"colorbar\":{\"title\":{\"text\":\"Trial\"},\"x\":1.0,\"xpad\":40},\"colorscale\":[[0.0,\"rgb(247,251,255)\"],[0.125,\"rgb(222,235,247)\"],[0.25,\"rgb(198,219,239)\"],[0.375,\"rgb(158,202,225)\"],[0.5,\"rgb(107,174,214)\"],[0.625,\"rgb(66,146,198)\"],[0.75,\"rgb(33,113,181)\"],[0.875,\"rgb(8,81,156)\"],[1.0,\"rgb(8,48,107)\"]],\"line\":{\"color\":\"Grey\",\"width\":0.5},\"showscale\":false},\"mode\":\"markers\",\"name\":\"Feasible Trial\",\"showlegend\":false,\"x\":[\"lin\",\"log\",\"exp\",\"lin\",\"log\",\"exp\",\"log\",\"exp\",\"lin\",\"lin\"],\"y\":[0.015505116638520241,0.03390989215925825,0.018002904416695022,0.0471228279082221,0.019161143155815477,0.02765333913833305,0.03238459417420321,0.021211838801501057,0.02784785793175936,0.028107451890721297],\"type\":\"scatter\",\"xaxis\":\"x7\",\"yaxis\":\"y7\"},{\"marker\":{\"color\":[0,1,2,3,4,5,6,7,8,9,10,11,12,13,14,15,16,17,18,19,20,21,22,23,24,25,26,27,28,29,30,31,32,33,34,35,36,37,38,39,40,41,42,43,44,45,46,47,48,49,50,51,52,53,54,55,56,57,58,59,60,61,62,63,64,65,66,67,68,69,70,71,72,73,74,75,76,77,78,79,80,81,82,83,84,85,86,87,88,89,90,91,92,93,94,95,96,97,98,99,100,101,102,103,104,105,106,107,108,109,110,111,112,113,114,115,116,117,118,119,120,121,122,123,124,125,126,127,128,129,130,131,132,133,134,135,136,137,138,139,140,141,142,143,144,145,146,147,148,149,150,151,152,153,154,155,156,157,158,159,160,161,162,163,164,165,166,167,168,169,170,171,172,173,174,175,176,177,178,179,180,181,182,183,184,185,186,187,188,189,190,191,192,193,194,195,196,197,198,199],\"colorbar\":{\"title\":{\"text\":\"Trial\"},\"x\":1.0,\"xpad\":40},\"colorscale\":[[0.0,\"rgb(247,251,255)\"],[0.125,\"rgb(222,235,247)\"],[0.25,\"rgb(198,219,239)\"],[0.375,\"rgb(158,202,225)\"],[0.5,\"rgb(107,174,214)\"],[0.625,\"rgb(66,146,198)\"],[0.75,\"rgb(33,113,181)\"],[0.875,\"rgb(8,81,156)\"],[1.0,\"rgb(8,48,107)\"]],\"line\":{\"color\":\"Grey\",\"width\":0.5},\"showscale\":false},\"mode\":\"markers\",\"name\":\"Feasible Trial\",\"showlegend\":false,\"x\":[722,95,348,544,720,54,127,249,618,199,400,393,367,410,299,277,250,507,284,165,170,20,25,6,6,20,93,2,81,140,57,17,12,95,56,120,197,5,71,732,123,34,46,4,1,102,656,456,59,163,208,38,29,1,69,334,106,136,31,75,25,23,51,87,18,0,150,109,52,547,77,21,15,38,19,62,88,14,2,45,185,21,42,18,118,69,91,15,42,56,221,20,0,26,75,19,33,61,11,10,42,15,0,15,54,678,40,101,81,9,10,13,34,0,428,63,33,572,313,10,50,27,12,8,7,46,1,33,68,11,53,13,30,9,4,0,36,47,28,0,64,14,17,28,0,371,44,14,76,497,28,13,14,40,55,10,1,27,12,40,0,24,16,35,54,13,27,12,45,1,62,15,24,0,29,256,12,44,13,34,0,14,24,15,38,13,51,26,11,11,1,32,0,33,38,39,32,66,33,54],\"y\":[0.03847803567849229,0.04171964497081084,0.045075083416706754,0.03969241243666473,0.015505116638520241,0.03390989215925825,0.04208916606138639,0.03992089568563728,0.03689398166065726,0.0419195619113201,0.04286446311593473,0.04370869088626762,0.03922014699048953,0.03898220646002158,0.04522533432718656,0.045419613559969596,0.033276953099928765,0.044603421446640534,0.009585828606819929,0.04603685469227625,0.036478533171880455,0.04936385234454629,0.04884736351921455,0.05167910318356951,0.051299149203227944,0.048890057353751605,0.04422724678859554,0.04010564854729204,0.018002904416695022,0.034522039692480196,0.044599477795545094,0.04921190880610869,0.050085003730726205,0.04670507928914593,0.04774758311109263,0.04624842492671421,0.018499769450536042,0.0471228279082221,0.04704902406361122,0.039014626607979955,0.046365675679190935,0.048154934413874154,0.047921209852360445,0.0516509302410396,0.03591129786809708,0.041083810657646824,0.04402098719895735,0.019161143155815477,0.04561184037203904,0.03602128500231943,0.03458822598741253,0.04784897708922793,0.04820380943479764,0.041976571864759823,0.04740382442291594,0.045051453542955366,0.04648504130021554,0.0469879804783168,0.048461992727442914,0.042413896090541955,0.049028092198309045,0.04919733821484708,0.048179967153130845,0.04694401449089732,0.04954915876216106,0.0002664826418719655,0.0395961476902804,0.02765333913833305,0.04249586982388426,0.04387294658296601,0.022658722357174747,0.049331885341930864,0.049934388763156416,0.04844238489569648,0.04950439674902438,0.047842500622259865,0.047141583913202785,0.044330265171293334,0.04507506180411467,0.042850527787547776,0.042630380128308054,0.04933324510119477,0.0481437214970748,0.04975391008487637,0.04686650492269808,0.04726198463493369,0.04656591531270172,0.04282694024513882,0.03238459417420321,0.047910376227795134,0.03642232578734297,0.0494451147008956,0.0002664826418719655,0.049154679926459895,0.04736466281198917,0.049376702406276715,0.04834581653075937,0.04057861037770286,0.05031477680681584,0.05037676712344134,0.04800919581518322,0.04963598798308874,0.0002664826418719655,0.049504241473341926,0.04751151390853433,0.043710622878157565,0.04793737819207235,0.04664669663710096,0.0466421111068875,0.05014495286754074,0.05001918540506721,0.04937054806796139,0.04853121084630373,0.0002664826418719655,0.04086167291275695,0.04711551945335192,0.048255655760942956,0.04232723894120498,0.04212373222017858,0.021211838801501057,0.046355664992873455,0.04879863008544178,0.050289612360944605,0.05094557622011079,0.05141379116754542,0.045043685195053494,0.0421953998415494,0.04824104595311586,0.04536433696221219,0.04804893042642694,0.047355889084013954,0.04994099064968518,0.04844011894775917,0.05072062948872008,0.05167499647934026,0.0002664826418719655,0.047950622301437665,0.047706655214182506,0.04858543575580961,0.0002664826418719655,0.047096205258541024,0.049633379649968196,0.04980878259305179,0.04851957081257526,0.0002664826418719655,0.044756911256342055,0.02784785793175936,0.04847850697449875,0.047116810660729994,0.04318529427697464,0.04837693138361469,0.05005289223297421,0.04983953922684468,0.048081317213503866,0.04739143116001597,0.050711091356320306,0.0423139061213198,0.04850785022691531,0.009216016064248595,0.04782418485527614,0.0002664826418719655,0.049024305900822816,0.04964787000215071,0.04821691192237398,0.04766757359625482,0.049898896364941756,0.04866275228073952,0.050339485124901585,0.04805792166950668,0.03807168129783852,0.04801868844605957,0.04989307820097129,0.04862042917789884,0.0002664826418719655,0.04872917207550892,0.0421431333588106,0.050170333522096044,0.04282836807235073,0.04991526231617852,0.028107451890721297,0.0002664826418719655,0.04993257210734363,0.04898506243922583,0.04955189791234907,0.048159910345721285,0.04999742933612483,0.04651908289037322,0.048688769926603,0.05017736655787099,0.052770132207501916,0.044920360081063405,0.05053286852839014,0.0002664826418719655,0.050562791169713586,0.05031125284117284,0.04990563145551257,0.05112802526300825,0.04885511508997322,0.05069920295812504,0.04950766943167519],\"type\":\"scatter\",\"xaxis\":\"x8\",\"yaxis\":\"y8\"},{\"marker\":{\"color\":[0,7,29,30,45,65,80,109,110,111,112,113,114,115,116,117,118,128,149,160,175,189,190,191,192,193,194,195,196,197,198,199],\"colorbar\":{\"title\":{\"text\":\"Trial\"},\"x\":1.0,\"xpad\":40},\"colorscale\":[[0.0,\"rgb(247,251,255)\"],[0.125,\"rgb(222,235,247)\"],[0.25,\"rgb(198,219,239)\"],[0.375,\"rgb(158,202,225)\"],[0.5,\"rgb(107,174,214)\"],[0.625,\"rgb(66,146,198)\"],[0.75,\"rgb(33,113,181)\"],[0.875,\"rgb(8,81,156)\"],[1.0,\"rgb(8,48,107)\"]],\"line\":{\"color\":\"Grey\",\"width\":0.5},\"showscale\":false},\"mode\":\"markers\",\"name\":\"Feasible Trial\",\"showlegend\":false,\"x\":[1.6594401451544047,1.9795166830631068,0.0688101636838625,0.4555142890688384,1.0849251477918849,1.0834104845400863,0.5822532013799238,1.4315234234867982,1.4834472485589412,1.4940557969958743,1.451067308620709,1.875605326817625,1.3097684644790935,0.7910082066714876,1.2575998852058397,1.6514756849334922,0.8652633467454001,1.7308381529560617,1.3121177387748078,1.4894872349940336,1.778262178027659,0.9143013375619704,0.9565530701734938,0.7421020962719683,0.6997655092380498,0.44749382257198167,0.3662308580497401,0.33863922799843227,0.3322075892762173,0.25247428851823894,0.53449108763235,0.5673951927808256],\"y\":[0.03847803567849229,0.03992089568563728,0.034522039692480196,0.044599477795545094,0.041083810657646824,0.0002664826418719655,0.042630380128308054,0.05014495286754074,0.05001918540506721,0.04937054806796139,0.04853121084630373,0.0002664826418719655,0.04086167291275695,0.04711551945335192,0.048255655760942956,0.04232723894120498,0.04212373222017858,0.04536433696221219,0.04318529427697464,0.0002664826418719655,0.0421431333588106,0.052770132207501916,0.044920360081063405,0.05053286852839014,0.0002664826418719655,0.050562791169713586,0.05031125284117284,0.04990563145551257,0.05112802526300825,0.04885511508997322,0.05069920295812504,0.04950766943167519],\"type\":\"scatter\",\"xaxis\":\"x9\",\"yaxis\":\"y9\"},{\"marker\":{\"color\":[0,7,29,30,45,65,80,109,110,111,112,113,114,115,116,117,118,128,149,160,175,189,190,191,192,193,194,195,196,197,198,199],\"colorbar\":{\"title\":{\"text\":\"Trial\"},\"x\":1.0,\"xpad\":40},\"colorscale\":[[0.0,\"rgb(247,251,255)\"],[0.125,\"rgb(222,235,247)\"],[0.25,\"rgb(198,219,239)\"],[0.375,\"rgb(158,202,225)\"],[0.5,\"rgb(107,174,214)\"],[0.625,\"rgb(66,146,198)\"],[0.75,\"rgb(33,113,181)\"],[0.875,\"rgb(8,81,156)\"],[1.0,\"rgb(8,48,107)\"]],\"line\":{\"color\":\"Grey\",\"width\":0.5},\"showscale\":false},\"mode\":\"markers\",\"name\":\"Feasible Trial\",\"showlegend\":false,\"x\":[0.26204828841445593,1.0041489873346503,1.8293633855239544,1.711304717912446,0.1600389905877364,0.9690905393254672,1.0751799294559916,1.4047961874667565,1.4413843932725054,1.38702598200742,1.4220318632185849,1.4263165613858908,0.6692172372221319,1.5956837621800966,1.9614886939225802,1.2380493365105707,0.6735015201062146,0.7988542838309516,1.6252529251237815,1.2088183563190191,0.496590562478769,1.9604450913585005,1.9354153476642546,1.7577544220193593,1.752882958053434,1.6410737649695715,1.5934919669098861,1.57202631228016,1.998568372012898,1.8508497562899808,1.9276516198063225,1.9909122653788944],\"y\":[0.03847803567849229,0.03992089568563728,0.034522039692480196,0.044599477795545094,0.041083810657646824,0.0002664826418719655,0.042630380128308054,0.05014495286754074,0.05001918540506721,0.04937054806796139,0.04853121084630373,0.0002664826418719655,0.04086167291275695,0.04711551945335192,0.048255655760942956,0.04232723894120498,0.04212373222017858,0.04536433696221219,0.04318529427697464,0.0002664826418719655,0.0421431333588106,0.052770132207501916,0.044920360081063405,0.05053286852839014,0.0002664826418719655,0.050562791169713586,0.05031125284117284,0.04990563145551257,0.05112802526300825,0.04885511508997322,0.05069920295812504,0.04950766943167519],\"type\":\"scatter\",\"xaxis\":\"x10\",\"yaxis\":\"y10\"}],                        {\"template\":{\"data\":{\"histogram2dcontour\":[{\"type\":\"histogram2dcontour\",\"colorbar\":{\"outlinewidth\":0,\"ticks\":\"\"},\"colorscale\":[[0.0,\"#0d0887\"],[0.1111111111111111,\"#46039f\"],[0.2222222222222222,\"#7201a8\"],[0.3333333333333333,\"#9c179e\"],[0.4444444444444444,\"#bd3786\"],[0.5555555555555556,\"#d8576b\"],[0.6666666666666666,\"#ed7953\"],[0.7777777777777778,\"#fb9f3a\"],[0.8888888888888888,\"#fdca26\"],[1.0,\"#f0f921\"]]}],\"choropleth\":[{\"type\":\"choropleth\",\"colorbar\":{\"outlinewidth\":0,\"ticks\":\"\"}}],\"histogram2d\":[{\"type\":\"histogram2d\",\"colorbar\":{\"outlinewidth\":0,\"ticks\":\"\"},\"colorscale\":[[0.0,\"#0d0887\"],[0.1111111111111111,\"#46039f\"],[0.2222222222222222,\"#7201a8\"],[0.3333333333333333,\"#9c179e\"],[0.4444444444444444,\"#bd3786\"],[0.5555555555555556,\"#d8576b\"],[0.6666666666666666,\"#ed7953\"],[0.7777777777777778,\"#fb9f3a\"],[0.8888888888888888,\"#fdca26\"],[1.0,\"#f0f921\"]]}],\"heatmap\":[{\"type\":\"heatmap\",\"colorbar\":{\"outlinewidth\":0,\"ticks\":\"\"},\"colorscale\":[[0.0,\"#0d0887\"],[0.1111111111111111,\"#46039f\"],[0.2222222222222222,\"#7201a8\"],[0.3333333333333333,\"#9c179e\"],[0.4444444444444444,\"#bd3786\"],[0.5555555555555556,\"#d8576b\"],[0.6666666666666666,\"#ed7953\"],[0.7777777777777778,\"#fb9f3a\"],[0.8888888888888888,\"#fdca26\"],[1.0,\"#f0f921\"]]}],\"heatmapgl\":[{\"type\":\"heatmapgl\",\"colorbar\":{\"outlinewidth\":0,\"ticks\":\"\"},\"colorscale\":[[0.0,\"#0d0887\"],[0.1111111111111111,\"#46039f\"],[0.2222222222222222,\"#7201a8\"],[0.3333333333333333,\"#9c179e\"],[0.4444444444444444,\"#bd3786\"],[0.5555555555555556,\"#d8576b\"],[0.6666666666666666,\"#ed7953\"],[0.7777777777777778,\"#fb9f3a\"],[0.8888888888888888,\"#fdca26\"],[1.0,\"#f0f921\"]]}],\"contourcarpet\":[{\"type\":\"contourcarpet\",\"colorbar\":{\"outlinewidth\":0,\"ticks\":\"\"}}],\"contour\":[{\"type\":\"contour\",\"colorbar\":{\"outlinewidth\":0,\"ticks\":\"\"},\"colorscale\":[[0.0,\"#0d0887\"],[0.1111111111111111,\"#46039f\"],[0.2222222222222222,\"#7201a8\"],[0.3333333333333333,\"#9c179e\"],[0.4444444444444444,\"#bd3786\"],[0.5555555555555556,\"#d8576b\"],[0.6666666666666666,\"#ed7953\"],[0.7777777777777778,\"#fb9f3a\"],[0.8888888888888888,\"#fdca26\"],[1.0,\"#f0f921\"]]}],\"surface\":[{\"type\":\"surface\",\"colorbar\":{\"outlinewidth\":0,\"ticks\":\"\"},\"colorscale\":[[0.0,\"#0d0887\"],[0.1111111111111111,\"#46039f\"],[0.2222222222222222,\"#7201a8\"],[0.3333333333333333,\"#9c179e\"],[0.4444444444444444,\"#bd3786\"],[0.5555555555555556,\"#d8576b\"],[0.6666666666666666,\"#ed7953\"],[0.7777777777777778,\"#fb9f3a\"],[0.8888888888888888,\"#fdca26\"],[1.0,\"#f0f921\"]]}],\"mesh3d\":[{\"type\":\"mesh3d\",\"colorbar\":{\"outlinewidth\":0,\"ticks\":\"\"}}],\"scatter\":[{\"fillpattern\":{\"fillmode\":\"overlay\",\"size\":10,\"solidity\":0.2},\"type\":\"scatter\"}],\"parcoords\":[{\"type\":\"parcoords\",\"line\":{\"colorbar\":{\"outlinewidth\":0,\"ticks\":\"\"}}}],\"scatterpolargl\":[{\"type\":\"scatterpolargl\",\"marker\":{\"colorbar\":{\"outlinewidth\":0,\"ticks\":\"\"}}}],\"bar\":[{\"error_x\":{\"color\":\"#2a3f5f\"},\"error_y\":{\"color\":\"#2a3f5f\"},\"marker\":{\"line\":{\"color\":\"#E5ECF6\",\"width\":0.5},\"pattern\":{\"fillmode\":\"overlay\",\"size\":10,\"solidity\":0.2}},\"type\":\"bar\"}],\"scattergeo\":[{\"type\":\"scattergeo\",\"marker\":{\"colorbar\":{\"outlinewidth\":0,\"ticks\":\"\"}}}],\"scatterpolar\":[{\"type\":\"scatterpolar\",\"marker\":{\"colorbar\":{\"outlinewidth\":0,\"ticks\":\"\"}}}],\"histogram\":[{\"marker\":{\"pattern\":{\"fillmode\":\"overlay\",\"size\":10,\"solidity\":0.2}},\"type\":\"histogram\"}],\"scattergl\":[{\"type\":\"scattergl\",\"marker\":{\"colorbar\":{\"outlinewidth\":0,\"ticks\":\"\"}}}],\"scatter3d\":[{\"type\":\"scatter3d\",\"line\":{\"colorbar\":{\"outlinewidth\":0,\"ticks\":\"\"}},\"marker\":{\"colorbar\":{\"outlinewidth\":0,\"ticks\":\"\"}}}],\"scattermapbox\":[{\"type\":\"scattermapbox\",\"marker\":{\"colorbar\":{\"outlinewidth\":0,\"ticks\":\"\"}}}],\"scatterternary\":[{\"type\":\"scatterternary\",\"marker\":{\"colorbar\":{\"outlinewidth\":0,\"ticks\":\"\"}}}],\"scattercarpet\":[{\"type\":\"scattercarpet\",\"marker\":{\"colorbar\":{\"outlinewidth\":0,\"ticks\":\"\"}}}],\"carpet\":[{\"aaxis\":{\"endlinecolor\":\"#2a3f5f\",\"gridcolor\":\"white\",\"linecolor\":\"white\",\"minorgridcolor\":\"white\",\"startlinecolor\":\"#2a3f5f\"},\"baxis\":{\"endlinecolor\":\"#2a3f5f\",\"gridcolor\":\"white\",\"linecolor\":\"white\",\"minorgridcolor\":\"white\",\"startlinecolor\":\"#2a3f5f\"},\"type\":\"carpet\"}],\"table\":[{\"cells\":{\"fill\":{\"color\":\"#EBF0F8\"},\"line\":{\"color\":\"white\"}},\"header\":{\"fill\":{\"color\":\"#C8D4E3\"},\"line\":{\"color\":\"white\"}},\"type\":\"table\"}],\"barpolar\":[{\"marker\":{\"line\":{\"color\":\"#E5ECF6\",\"width\":0.5},\"pattern\":{\"fillmode\":\"overlay\",\"size\":10,\"solidity\":0.2}},\"type\":\"barpolar\"}],\"pie\":[{\"automargin\":true,\"type\":\"pie\"}]},\"layout\":{\"autotypenumbers\":\"strict\",\"colorway\":[\"#636efa\",\"#EF553B\",\"#00cc96\",\"#ab63fa\",\"#FFA15A\",\"#19d3f3\",\"#FF6692\",\"#B6E880\",\"#FF97FF\",\"#FECB52\"],\"font\":{\"color\":\"#2a3f5f\"},\"hovermode\":\"closest\",\"hoverlabel\":{\"align\":\"left\"},\"paper_bgcolor\":\"white\",\"plot_bgcolor\":\"#E5ECF6\",\"polar\":{\"bgcolor\":\"#E5ECF6\",\"angularaxis\":{\"gridcolor\":\"white\",\"linecolor\":\"white\",\"ticks\":\"\"},\"radialaxis\":{\"gridcolor\":\"white\",\"linecolor\":\"white\",\"ticks\":\"\"}},\"ternary\":{\"bgcolor\":\"#E5ECF6\",\"aaxis\":{\"gridcolor\":\"white\",\"linecolor\":\"white\",\"ticks\":\"\"},\"baxis\":{\"gridcolor\":\"white\",\"linecolor\":\"white\",\"ticks\":\"\"},\"caxis\":{\"gridcolor\":\"white\",\"linecolor\":\"white\",\"ticks\":\"\"}},\"coloraxis\":{\"colorbar\":{\"outlinewidth\":0,\"ticks\":\"\"}},\"colorscale\":{\"sequential\":[[0.0,\"#0d0887\"],[0.1111111111111111,\"#46039f\"],[0.2222222222222222,\"#7201a8\"],[0.3333333333333333,\"#9c179e\"],[0.4444444444444444,\"#bd3786\"],[0.5555555555555556,\"#d8576b\"],[0.6666666666666666,\"#ed7953\"],[0.7777777777777778,\"#fb9f3a\"],[0.8888888888888888,\"#fdca26\"],[1.0,\"#f0f921\"]],\"sequentialminus\":[[0.0,\"#0d0887\"],[0.1111111111111111,\"#46039f\"],[0.2222222222222222,\"#7201a8\"],[0.3333333333333333,\"#9c179e\"],[0.4444444444444444,\"#bd3786\"],[0.5555555555555556,\"#d8576b\"],[0.6666666666666666,\"#ed7953\"],[0.7777777777777778,\"#fb9f3a\"],[0.8888888888888888,\"#fdca26\"],[1.0,\"#f0f921\"]],\"diverging\":[[0,\"#8e0152\"],[0.1,\"#c51b7d\"],[0.2,\"#de77ae\"],[0.3,\"#f1b6da\"],[0.4,\"#fde0ef\"],[0.5,\"#f7f7f7\"],[0.6,\"#e6f5d0\"],[0.7,\"#b8e186\"],[0.8,\"#7fbc41\"],[0.9,\"#4d9221\"],[1,\"#276419\"]]},\"xaxis\":{\"gridcolor\":\"white\",\"linecolor\":\"white\",\"ticks\":\"\",\"title\":{\"standoff\":15},\"zerolinecolor\":\"white\",\"automargin\":true,\"zerolinewidth\":2},\"yaxis\":{\"gridcolor\":\"white\",\"linecolor\":\"white\",\"ticks\":\"\",\"title\":{\"standoff\":15},\"zerolinecolor\":\"white\",\"automargin\":true,\"zerolinewidth\":2},\"scene\":{\"xaxis\":{\"backgroundcolor\":\"#E5ECF6\",\"gridcolor\":\"white\",\"linecolor\":\"white\",\"showbackground\":true,\"ticks\":\"\",\"zerolinecolor\":\"white\",\"gridwidth\":2},\"yaxis\":{\"backgroundcolor\":\"#E5ECF6\",\"gridcolor\":\"white\",\"linecolor\":\"white\",\"showbackground\":true,\"ticks\":\"\",\"zerolinecolor\":\"white\",\"gridwidth\":2},\"zaxis\":{\"backgroundcolor\":\"#E5ECF6\",\"gridcolor\":\"white\",\"linecolor\":\"white\",\"showbackground\":true,\"ticks\":\"\",\"zerolinecolor\":\"white\",\"gridwidth\":2}},\"shapedefaults\":{\"line\":{\"color\":\"#2a3f5f\"}},\"annotationdefaults\":{\"arrowcolor\":\"#2a3f5f\",\"arrowhead\":0,\"arrowwidth\":1},\"geo\":{\"bgcolor\":\"white\",\"landcolor\":\"#E5ECF6\",\"subunitcolor\":\"white\",\"showland\":true,\"showlakes\":true,\"lakecolor\":\"white\"},\"title\":{\"x\":0.05},\"mapbox\":{\"style\":\"light\"}}},\"xaxis\":{\"anchor\":\"y\",\"domain\":[0.0,0.082],\"title\":{\"text\":\"asymmetric_alpha\"}},\"yaxis\":{\"anchor\":\"x\",\"domain\":[0.0,1.0],\"title\":{\"text\":\"Objective Value\"}},\"xaxis2\":{\"anchor\":\"y2\",\"domain\":[0.10200000000000001,0.184],\"title\":{\"text\":\"feature_weighting\"},\"type\":\"category\",\"categoryorder\":\"array\",\"categoryarray\":[\"BM25\",\"TF-IDF\",\"none\"]},\"yaxis2\":{\"anchor\":\"x2\",\"domain\":[0.0,1.0],\"matches\":\"y\",\"showticklabels\":false},\"xaxis3\":{\"anchor\":\"y3\",\"domain\":[0.20400000000000001,0.28600000000000003],\"title\":{\"text\":\"normalize\"},\"type\":\"category\",\"categoryorder\":\"array\",\"categoryarray\":[true,false]},\"yaxis3\":{\"anchor\":\"x3\",\"domain\":[0.0,1.0],\"matches\":\"y\",\"showticklabels\":false},\"xaxis4\":{\"anchor\":\"y4\",\"domain\":[0.306,0.388],\"title\":{\"text\":\"normalize_avg_row\"},\"type\":\"category\",\"categoryorder\":\"array\",\"categoryarray\":[true,false]},\"yaxis4\":{\"anchor\":\"x4\",\"domain\":[0.0,1.0],\"matches\":\"y\",\"showticklabels\":false},\"xaxis5\":{\"anchor\":\"y5\",\"domain\":[0.40800000000000003,0.49000000000000005],\"title\":{\"text\":\"shrink\"}},\"yaxis5\":{\"anchor\":\"x5\",\"domain\":[0.0,1.0],\"matches\":\"y\",\"showticklabels\":false},\"xaxis6\":{\"anchor\":\"y6\",\"domain\":[0.51,0.592],\"title\":{\"text\":\"similarity\"},\"type\":\"category\",\"categoryorder\":\"array\",\"categoryarray\":[\"cosine\",\"dice\",\"jaccard\",\"asymmetric\",\"tversky\",\"euclidean\"]},\"yaxis6\":{\"anchor\":\"x6\",\"domain\":[0.0,1.0],\"matches\":\"y\",\"showticklabels\":false},\"xaxis7\":{\"anchor\":\"y7\",\"domain\":[0.6120000000000001,0.6940000000000001],\"title\":{\"text\":\"similarity_from_distance_mode\"},\"type\":\"category\",\"categoryorder\":\"array\",\"categoryarray\":[\"lin\",\"log\",\"exp\"]},\"yaxis7\":{\"anchor\":\"x7\",\"domain\":[0.0,1.0],\"matches\":\"y\",\"showticklabels\":false},\"xaxis8\":{\"anchor\":\"y8\",\"domain\":[0.7140000000000001,0.796],\"title\":{\"text\":\"topK\"}},\"yaxis8\":{\"anchor\":\"x8\",\"domain\":[0.0,1.0],\"matches\":\"y\",\"showticklabels\":false},\"xaxis9\":{\"anchor\":\"y9\",\"domain\":[0.8160000000000001,0.898],\"title\":{\"text\":\"tversky_alpha\"}},\"yaxis9\":{\"anchor\":\"x9\",\"domain\":[0.0,1.0],\"matches\":\"y\",\"showticklabels\":false},\"xaxis10\":{\"anchor\":\"y10\",\"domain\":[0.9179999999999999,0.9999999999999999],\"title\":{\"text\":\"tversky_beta\"}},\"yaxis10\":{\"anchor\":\"x10\",\"domain\":[0.0,1.0],\"matches\":\"y\",\"showticklabels\":false},\"title\":{\"text\":\"Slice Plot\"},\"width\":3000},                        {\"responsive\": true}                    ).then(function(){\n",
       "                            \n",
       "var gd = document.getElementById('b5415635-8295-45d3-9594-c2e6efee1580');\n",
       "var x = new MutationObserver(function (mutations, observer) {{\n",
       "        var display = window.getComputedStyle(gd).display;\n",
       "        if (!display || display === 'none') {{\n",
       "            console.log([gd, 'removed!']);\n",
       "            Plotly.purge(gd);\n",
       "            observer.disconnect();\n",
       "        }}\n",
       "}});\n",
       "\n",
       "// Listen for the removal of the full notebook cells\n",
       "var notebookContainer = gd.closest('#notebook-container');\n",
       "if (notebookContainer) {{\n",
       "    x.observe(notebookContainer, {childList: true});\n",
       "}}\n",
       "\n",
       "// Listen for the clearing of the current output cell\n",
       "var outputEl = gd.closest('.output');\n",
       "if (outputEl) {{\n",
       "    x.observe(outputEl, {childList: true});\n",
       "}}\n",
       "\n",
       "                        })                };                            </script>        </div>\n",
       "</body>\n",
       "</html>"
      ]
     },
     "metadata": {},
     "output_type": "display_data"
    }
   ],
   "source": [
    "if not config['tune_parameters']:\n",
    "    optuna_study = optuna.load_study(study_name=f'hyperparameters_tuning_{config[\"model\"]}_{config[\"metric\"]}', storage=f'sqlite:///{config[\"database_path\"]}')\n",
    "    \n",
    "fig = optuna.visualization.plot_slice(optuna_study)\n",
    "fig.show()"
   ]
  },
  {
   "cell_type": "code",
   "execution_count": 15,
   "id": "ba9289f2",
   "metadata": {
    "execution": {
     "iopub.execute_input": "2025-01-04T18:46:12.088390Z",
     "iopub.status.busy": "2025-01-04T18:46:12.087869Z",
     "iopub.status.idle": "2025-01-04T18:46:15.583843Z",
     "shell.execute_reply": "2025-01-04T18:46:15.582808Z"
    },
    "papermill": {
     "duration": 3.608288,
     "end_time": "2025-01-04T18:46:15.585616",
     "exception": false,
     "start_time": "2025-01-04T18:46:11.977328",
     "status": "completed"
    },
    "tags": []
   },
   "outputs": [
    {
     "data": {
      "text/html": [
       "<html>\n",
       "<head><meta charset=\"utf-8\" /></head>\n",
       "<body>\n",
       "    <div>            <script src=\"https://cdnjs.cloudflare.com/ajax/libs/mathjax/2.7.5/MathJax.js?config=TeX-AMS-MML_SVG\"></script><script type=\"text/javascript\">if (window.MathJax && window.MathJax.Hub && window.MathJax.Hub.Config) {window.MathJax.Hub.Config({SVG: {font: \"STIX-Web\"}});}</script>                <script type=\"text/javascript\">window.PlotlyConfig = {MathJaxConfig: 'local'};</script>\n",
       "        <script charset=\"utf-8\" src=\"https://cdn.plot.ly/plotly-2.35.2.min.js\"></script>                <div id=\"7f105e65-dc83-456c-8abf-28afdadb1417\" class=\"plotly-graph-div\" style=\"height:525px; width:100%;\"></div>            <script type=\"text/javascript\">                                    window.PLOTLYENV=window.PLOTLYENV || {};                                    if (document.getElementById(\"7f105e65-dc83-456c-8abf-28afdadb1417\")) {                    Plotly.newPlot(                        \"7f105e65-dc83-456c-8abf-28afdadb1417\",                        [{\"cliponaxis\":false,\"hovertemplate\":[\"shrink (IntDistribution): 0.04112845804571875\\u003cextra\\u003e\\u003c\\u002fextra\\u003e\",\"feature_weighting (CategoricalDistribution): 0.08551272252756441\\u003cextra\\u003e\\u003c\\u002fextra\\u003e\",\"topK (IntDistribution): 0.16661235217904574\\u003cextra\\u003e\\u003c\\u002fextra\\u003e\",\"similarity (CategoricalDistribution): 0.706746467247671\\u003cextra\\u003e\\u003c\\u002fextra\\u003e\"],\"name\":\"Objective Value\",\"orientation\":\"h\",\"text\":[\"0.04\",\"0.09\",\"0.17\",\"0.71\"],\"textposition\":\"outside\",\"x\":[0.04112845804571875,0.08551272252756441,0.16661235217904574,0.706746467247671],\"y\":[\"shrink\",\"feature_weighting\",\"topK\",\"similarity\"],\"type\":\"bar\"}],                        {\"title\":{\"text\":\"Hyperparameter Importances\"},\"xaxis\":{\"title\":{\"text\":\"Hyperparameter Importance\"}},\"yaxis\":{\"title\":{\"text\":\"Hyperparameter\"}},\"template\":{\"data\":{\"histogram2dcontour\":[{\"type\":\"histogram2dcontour\",\"colorbar\":{\"outlinewidth\":0,\"ticks\":\"\"},\"colorscale\":[[0.0,\"#0d0887\"],[0.1111111111111111,\"#46039f\"],[0.2222222222222222,\"#7201a8\"],[0.3333333333333333,\"#9c179e\"],[0.4444444444444444,\"#bd3786\"],[0.5555555555555556,\"#d8576b\"],[0.6666666666666666,\"#ed7953\"],[0.7777777777777778,\"#fb9f3a\"],[0.8888888888888888,\"#fdca26\"],[1.0,\"#f0f921\"]]}],\"choropleth\":[{\"type\":\"choropleth\",\"colorbar\":{\"outlinewidth\":0,\"ticks\":\"\"}}],\"histogram2d\":[{\"type\":\"histogram2d\",\"colorbar\":{\"outlinewidth\":0,\"ticks\":\"\"},\"colorscale\":[[0.0,\"#0d0887\"],[0.1111111111111111,\"#46039f\"],[0.2222222222222222,\"#7201a8\"],[0.3333333333333333,\"#9c179e\"],[0.4444444444444444,\"#bd3786\"],[0.5555555555555556,\"#d8576b\"],[0.6666666666666666,\"#ed7953\"],[0.7777777777777778,\"#fb9f3a\"],[0.8888888888888888,\"#fdca26\"],[1.0,\"#f0f921\"]]}],\"heatmap\":[{\"type\":\"heatmap\",\"colorbar\":{\"outlinewidth\":0,\"ticks\":\"\"},\"colorscale\":[[0.0,\"#0d0887\"],[0.1111111111111111,\"#46039f\"],[0.2222222222222222,\"#7201a8\"],[0.3333333333333333,\"#9c179e\"],[0.4444444444444444,\"#bd3786\"],[0.5555555555555556,\"#d8576b\"],[0.6666666666666666,\"#ed7953\"],[0.7777777777777778,\"#fb9f3a\"],[0.8888888888888888,\"#fdca26\"],[1.0,\"#f0f921\"]]}],\"heatmapgl\":[{\"type\":\"heatmapgl\",\"colorbar\":{\"outlinewidth\":0,\"ticks\":\"\"},\"colorscale\":[[0.0,\"#0d0887\"],[0.1111111111111111,\"#46039f\"],[0.2222222222222222,\"#7201a8\"],[0.3333333333333333,\"#9c179e\"],[0.4444444444444444,\"#bd3786\"],[0.5555555555555556,\"#d8576b\"],[0.6666666666666666,\"#ed7953\"],[0.7777777777777778,\"#fb9f3a\"],[0.8888888888888888,\"#fdca26\"],[1.0,\"#f0f921\"]]}],\"contourcarpet\":[{\"type\":\"contourcarpet\",\"colorbar\":{\"outlinewidth\":0,\"ticks\":\"\"}}],\"contour\":[{\"type\":\"contour\",\"colorbar\":{\"outlinewidth\":0,\"ticks\":\"\"},\"colorscale\":[[0.0,\"#0d0887\"],[0.1111111111111111,\"#46039f\"],[0.2222222222222222,\"#7201a8\"],[0.3333333333333333,\"#9c179e\"],[0.4444444444444444,\"#bd3786\"],[0.5555555555555556,\"#d8576b\"],[0.6666666666666666,\"#ed7953\"],[0.7777777777777778,\"#fb9f3a\"],[0.8888888888888888,\"#fdca26\"],[1.0,\"#f0f921\"]]}],\"surface\":[{\"type\":\"surface\",\"colorbar\":{\"outlinewidth\":0,\"ticks\":\"\"},\"colorscale\":[[0.0,\"#0d0887\"],[0.1111111111111111,\"#46039f\"],[0.2222222222222222,\"#7201a8\"],[0.3333333333333333,\"#9c179e\"],[0.4444444444444444,\"#bd3786\"],[0.5555555555555556,\"#d8576b\"],[0.6666666666666666,\"#ed7953\"],[0.7777777777777778,\"#fb9f3a\"],[0.8888888888888888,\"#fdca26\"],[1.0,\"#f0f921\"]]}],\"mesh3d\":[{\"type\":\"mesh3d\",\"colorbar\":{\"outlinewidth\":0,\"ticks\":\"\"}}],\"scatter\":[{\"fillpattern\":{\"fillmode\":\"overlay\",\"size\":10,\"solidity\":0.2},\"type\":\"scatter\"}],\"parcoords\":[{\"type\":\"parcoords\",\"line\":{\"colorbar\":{\"outlinewidth\":0,\"ticks\":\"\"}}}],\"scatterpolargl\":[{\"type\":\"scatterpolargl\",\"marker\":{\"colorbar\":{\"outlinewidth\":0,\"ticks\":\"\"}}}],\"bar\":[{\"error_x\":{\"color\":\"#2a3f5f\"},\"error_y\":{\"color\":\"#2a3f5f\"},\"marker\":{\"line\":{\"color\":\"#E5ECF6\",\"width\":0.5},\"pattern\":{\"fillmode\":\"overlay\",\"size\":10,\"solidity\":0.2}},\"type\":\"bar\"}],\"scattergeo\":[{\"type\":\"scattergeo\",\"marker\":{\"colorbar\":{\"outlinewidth\":0,\"ticks\":\"\"}}}],\"scatterpolar\":[{\"type\":\"scatterpolar\",\"marker\":{\"colorbar\":{\"outlinewidth\":0,\"ticks\":\"\"}}}],\"histogram\":[{\"marker\":{\"pattern\":{\"fillmode\":\"overlay\",\"size\":10,\"solidity\":0.2}},\"type\":\"histogram\"}],\"scattergl\":[{\"type\":\"scattergl\",\"marker\":{\"colorbar\":{\"outlinewidth\":0,\"ticks\":\"\"}}}],\"scatter3d\":[{\"type\":\"scatter3d\",\"line\":{\"colorbar\":{\"outlinewidth\":0,\"ticks\":\"\"}},\"marker\":{\"colorbar\":{\"outlinewidth\":0,\"ticks\":\"\"}}}],\"scattermapbox\":[{\"type\":\"scattermapbox\",\"marker\":{\"colorbar\":{\"outlinewidth\":0,\"ticks\":\"\"}}}],\"scatterternary\":[{\"type\":\"scatterternary\",\"marker\":{\"colorbar\":{\"outlinewidth\":0,\"ticks\":\"\"}}}],\"scattercarpet\":[{\"type\":\"scattercarpet\",\"marker\":{\"colorbar\":{\"outlinewidth\":0,\"ticks\":\"\"}}}],\"carpet\":[{\"aaxis\":{\"endlinecolor\":\"#2a3f5f\",\"gridcolor\":\"white\",\"linecolor\":\"white\",\"minorgridcolor\":\"white\",\"startlinecolor\":\"#2a3f5f\"},\"baxis\":{\"endlinecolor\":\"#2a3f5f\",\"gridcolor\":\"white\",\"linecolor\":\"white\",\"minorgridcolor\":\"white\",\"startlinecolor\":\"#2a3f5f\"},\"type\":\"carpet\"}],\"table\":[{\"cells\":{\"fill\":{\"color\":\"#EBF0F8\"},\"line\":{\"color\":\"white\"}},\"header\":{\"fill\":{\"color\":\"#C8D4E3\"},\"line\":{\"color\":\"white\"}},\"type\":\"table\"}],\"barpolar\":[{\"marker\":{\"line\":{\"color\":\"#E5ECF6\",\"width\":0.5},\"pattern\":{\"fillmode\":\"overlay\",\"size\":10,\"solidity\":0.2}},\"type\":\"barpolar\"}],\"pie\":[{\"automargin\":true,\"type\":\"pie\"}]},\"layout\":{\"autotypenumbers\":\"strict\",\"colorway\":[\"#636efa\",\"#EF553B\",\"#00cc96\",\"#ab63fa\",\"#FFA15A\",\"#19d3f3\",\"#FF6692\",\"#B6E880\",\"#FF97FF\",\"#FECB52\"],\"font\":{\"color\":\"#2a3f5f\"},\"hovermode\":\"closest\",\"hoverlabel\":{\"align\":\"left\"},\"paper_bgcolor\":\"white\",\"plot_bgcolor\":\"#E5ECF6\",\"polar\":{\"bgcolor\":\"#E5ECF6\",\"angularaxis\":{\"gridcolor\":\"white\",\"linecolor\":\"white\",\"ticks\":\"\"},\"radialaxis\":{\"gridcolor\":\"white\",\"linecolor\":\"white\",\"ticks\":\"\"}},\"ternary\":{\"bgcolor\":\"#E5ECF6\",\"aaxis\":{\"gridcolor\":\"white\",\"linecolor\":\"white\",\"ticks\":\"\"},\"baxis\":{\"gridcolor\":\"white\",\"linecolor\":\"white\",\"ticks\":\"\"},\"caxis\":{\"gridcolor\":\"white\",\"linecolor\":\"white\",\"ticks\":\"\"}},\"coloraxis\":{\"colorbar\":{\"outlinewidth\":0,\"ticks\":\"\"}},\"colorscale\":{\"sequential\":[[0.0,\"#0d0887\"],[0.1111111111111111,\"#46039f\"],[0.2222222222222222,\"#7201a8\"],[0.3333333333333333,\"#9c179e\"],[0.4444444444444444,\"#bd3786\"],[0.5555555555555556,\"#d8576b\"],[0.6666666666666666,\"#ed7953\"],[0.7777777777777778,\"#fb9f3a\"],[0.8888888888888888,\"#fdca26\"],[1.0,\"#f0f921\"]],\"sequentialminus\":[[0.0,\"#0d0887\"],[0.1111111111111111,\"#46039f\"],[0.2222222222222222,\"#7201a8\"],[0.3333333333333333,\"#9c179e\"],[0.4444444444444444,\"#bd3786\"],[0.5555555555555556,\"#d8576b\"],[0.6666666666666666,\"#ed7953\"],[0.7777777777777778,\"#fb9f3a\"],[0.8888888888888888,\"#fdca26\"],[1.0,\"#f0f921\"]],\"diverging\":[[0,\"#8e0152\"],[0.1,\"#c51b7d\"],[0.2,\"#de77ae\"],[0.3,\"#f1b6da\"],[0.4,\"#fde0ef\"],[0.5,\"#f7f7f7\"],[0.6,\"#e6f5d0\"],[0.7,\"#b8e186\"],[0.8,\"#7fbc41\"],[0.9,\"#4d9221\"],[1,\"#276419\"]]},\"xaxis\":{\"gridcolor\":\"white\",\"linecolor\":\"white\",\"ticks\":\"\",\"title\":{\"standoff\":15},\"zerolinecolor\":\"white\",\"automargin\":true,\"zerolinewidth\":2},\"yaxis\":{\"gridcolor\":\"white\",\"linecolor\":\"white\",\"ticks\":\"\",\"title\":{\"standoff\":15},\"zerolinecolor\":\"white\",\"automargin\":true,\"zerolinewidth\":2},\"scene\":{\"xaxis\":{\"backgroundcolor\":\"#E5ECF6\",\"gridcolor\":\"white\",\"linecolor\":\"white\",\"showbackground\":true,\"ticks\":\"\",\"zerolinecolor\":\"white\",\"gridwidth\":2},\"yaxis\":{\"backgroundcolor\":\"#E5ECF6\",\"gridcolor\":\"white\",\"linecolor\":\"white\",\"showbackground\":true,\"ticks\":\"\",\"zerolinecolor\":\"white\",\"gridwidth\":2},\"zaxis\":{\"backgroundcolor\":\"#E5ECF6\",\"gridcolor\":\"white\",\"linecolor\":\"white\",\"showbackground\":true,\"ticks\":\"\",\"zerolinecolor\":\"white\",\"gridwidth\":2}},\"shapedefaults\":{\"line\":{\"color\":\"#2a3f5f\"}},\"annotationdefaults\":{\"arrowcolor\":\"#2a3f5f\",\"arrowhead\":0,\"arrowwidth\":1},\"geo\":{\"bgcolor\":\"white\",\"landcolor\":\"#E5ECF6\",\"subunitcolor\":\"white\",\"showland\":true,\"showlakes\":true,\"lakecolor\":\"white\"},\"title\":{\"x\":0.05},\"mapbox\":{\"style\":\"light\"}}}},                        {\"responsive\": true}                    ).then(function(){\n",
       "                            \n",
       "var gd = document.getElementById('7f105e65-dc83-456c-8abf-28afdadb1417');\n",
       "var x = new MutationObserver(function (mutations, observer) {{\n",
       "        var display = window.getComputedStyle(gd).display;\n",
       "        if (!display || display === 'none') {{\n",
       "            console.log([gd, 'removed!']);\n",
       "            Plotly.purge(gd);\n",
       "            observer.disconnect();\n",
       "        }}\n",
       "}});\n",
       "\n",
       "// Listen for the removal of the full notebook cells\n",
       "var notebookContainer = gd.closest('#notebook-container');\n",
       "if (notebookContainer) {{\n",
       "    x.observe(notebookContainer, {childList: true});\n",
       "}}\n",
       "\n",
       "// Listen for the clearing of the current output cell\n",
       "var outputEl = gd.closest('.output');\n",
       "if (outputEl) {{\n",
       "    x.observe(outputEl, {childList: true});\n",
       "}}\n",
       "\n",
       "                        })                };                            </script>        </div>\n",
       "</body>\n",
       "</html>"
      ]
     },
     "metadata": {},
     "output_type": "display_data"
    }
   ],
   "source": [
    "if not config['tune_parameters']:\n",
    "    optuna_study = optuna.load_study(study_name=f'hyperparameters_tuning_{config[\"model\"]}_{config[\"metric\"]}', storage=f'sqlite:///{config[\"database_path\"]}')\n",
    "    \n",
    "fig = optuna.visualization.plot_param_importances(optuna_study)\n",
    "fig.show()"
   ]
  },
  {
   "cell_type": "markdown",
   "id": "cb4bf989",
   "metadata": {
    "papermill": {
     "duration": 0.106377,
     "end_time": "2025-01-04T18:46:15.797465",
     "exception": false,
     "start_time": "2025-01-04T18:46:15.691088",
     "status": "completed"
    },
    "tags": []
   },
   "source": [
    "## Let's train the recommender with best parameter values"
   ]
  },
  {
   "cell_type": "code",
   "execution_count": 16,
   "id": "beb26f98",
   "metadata": {
    "execution": {
     "iopub.execute_input": "2025-01-04T18:46:16.013591Z",
     "iopub.status.busy": "2025-01-04T18:46:16.013187Z",
     "iopub.status.idle": "2025-01-04T18:46:32.902228Z",
     "shell.execute_reply": "2025-01-04T18:46:32.901013Z"
    },
    "papermill": {
     "duration": 17.002013,
     "end_time": "2025-01-04T18:46:32.904233",
     "exception": false,
     "start_time": "2025-01-04T18:46:15.902220",
     "status": "completed"
    },
    "tags": []
   },
   "outputs": [
    {
     "name": "stdout",
     "output_type": "stream",
     "text": [
      "Similarity column 38121 (100.0%), 2336.47 column/sec. Elapsed time 16.32 sec\n"
     ]
    }
   ],
   "source": [
    "if config['tune_best_params']:\n",
    "\n",
    "    if config['tune_parameters']:\n",
    "        best_params = optuna_study.best_trial.params\n",
    "    else: \n",
    "        with open(f'{K_PATH}/{GH_PATH}/{config[\"model\"]}Recommender/Optimizing{config[\"metric\"]}/best_params_{config[\"model\"]}_{config[\"metric\"]}.json', 'r') as best_params_json:\n",
    "            best_params = json.load(best_params_json)\n",
    "\n",
    "    recommender_instance = ItemKNNCFRecommender(URM_train + URM_validation)\n",
    "    recommender_instance.fit(**best_params)"
   ]
  },
  {
   "cell_type": "markdown",
   "id": "638340fc",
   "metadata": {
    "papermill": {
     "duration": 0.112109,
     "end_time": "2025-01-04T18:46:33.125550",
     "exception": false,
     "start_time": "2025-01-04T18:46:33.013441",
     "status": "completed"
    },
    "tags": []
   },
   "source": [
    "# Testing"
   ]
  },
  {
   "cell_type": "markdown",
   "id": "a9ac7af0",
   "metadata": {
    "papermill": {
     "duration": 0.106716,
     "end_time": "2025-01-04T18:46:33.343517",
     "exception": false,
     "start_time": "2025-01-04T18:46:33.236801",
     "status": "completed"
    },
    "tags": []
   },
   "source": [
    "Create the recommendations for the submission. "
   ]
  },
  {
   "cell_type": "code",
   "execution_count": 17,
   "id": "ce8f8e09",
   "metadata": {
    "execution": {
     "iopub.execute_input": "2025-01-04T18:46:33.563811Z",
     "iopub.status.busy": "2025-01-04T18:46:33.563388Z",
     "iopub.status.idle": "2025-01-04T18:46:55.240301Z",
     "shell.execute_reply": "2025-01-04T18:46:55.234743Z"
    },
    "papermill": {
     "duration": 21.796834,
     "end_time": "2025-01-04T18:46:55.247046",
     "exception": false,
     "start_time": "2025-01-04T18:46:33.450212",
     "status": "completed"
    },
    "tags": []
   },
   "outputs": [
    {
     "name": "stdout",
     "output_type": "stream",
     "text": [
      "Submission file saved as /kaggle/working/submission_ItemKNNCF_MAP.csv\n"
     ]
    }
   ],
   "source": [
    "if config['tune_best_params']:\n",
    "\n",
    "    data_target_users_test = pd.read_csv('/kaggle/input/recommender-system-2024-challenge-polimi/data_target_users_test.csv')\n",
    "    create_submission(data_target_users_test, recommender_instance, f'/kaggle/working/submission_{config[\"model\"]}_{config[\"metric\"]}.csv')"
   ]
  },
  {
   "cell_type": "markdown",
   "id": "10559d15",
   "metadata": {
    "execution": {
     "iopub.execute_input": "2024-11-14T00:04:16.877791Z",
     "iopub.status.busy": "2024-11-14T00:04:16.877275Z",
     "iopub.status.idle": "2024-11-14T00:04:16.883170Z",
     "shell.execute_reply": "2024-11-14T00:04:16.881889Z",
     "shell.execute_reply.started": "2024-11-14T00:04:16.877743Z"
    },
    "papermill": {
     "duration": 0.217656,
     "end_time": "2025-01-04T18:46:55.940295",
     "exception": false,
     "start_time": "2025-01-04T18:46:55.722639",
     "status": "completed"
    },
    "tags": []
   },
   "source": [
    "# Save Version on GitHub "
   ]
  },
  {
   "cell_type": "markdown",
   "id": "43d3573d",
   "metadata": {
    "papermill": {
     "duration": 0.114927,
     "end_time": "2025-01-04T18:46:56.169281",
     "exception": false,
     "start_time": "2025-01-04T18:46:56.054354",
     "status": "completed"
    },
    "tags": []
   },
   "source": [
    "Write or import a json file where best hyperparameters are saved. "
   ]
  },
  {
   "cell_type": "code",
   "execution_count": 18,
   "id": "d4a0f004",
   "metadata": {
    "execution": {
     "iopub.execute_input": "2025-01-04T18:46:56.393306Z",
     "iopub.status.busy": "2025-01-04T18:46:56.392911Z",
     "iopub.status.idle": "2025-01-04T18:46:57.334789Z",
     "shell.execute_reply": "2025-01-04T18:46:57.333440Z"
    },
    "papermill": {
     "duration": 1.052205,
     "end_time": "2025-01-04T18:46:57.336619",
     "exception": false,
     "start_time": "2025-01-04T18:46:56.284414",
     "status": "completed"
    },
    "tags": []
   },
   "outputs": [
    {
     "name": "stdout",
     "output_type": "stream",
     "text": [
      "File 'TrainedModels/WithKFCV/KNN/ItemKNNCFRecommender/OptimizingMAP/best_params_ItemKNNCF_MAP.json' updated successfully.\n"
     ]
    }
   ],
   "source": [
    "if config['tune_parameters']:\n",
    "    with open(f'/kaggle/working/best_params_{config[\"model\"]}_{config[\"metric\"]}.json', 'w') as params_file:\n",
    "        json.dump(optuna_study.best_params, params_file)\n",
    "        \n",
    "    if config['save_github']:\n",
    "        upload_file(\n",
    "            f'/kaggle/working/best_params_{config[\"model\"]}_{config[\"metric\"]}.json', \n",
    "            f'{GH_PATH}/{config[\"model\"]}Recommender/Optimizing{config[\"metric\"]}/best_params_{config[\"model\"]}_{config[\"metric\"]}.json', \n",
    "            f'{config[\"model\"]}_{config[\"metric\"]} tuning results (from kaggle notebook)',\n",
    "            repo\n",
    "        )\n",
    "elif config['copy_prev_best_params']:\n",
    "    shutil.copyfile(\n",
    "        f'{K_PATH}/{GH_PATH}/{config[\"model\"]}Recommender/Optimizing{config[\"metric\"]}/'\\\n",
    "        f'best_params_{config[\"model\"]}_{config[\"metric\"]}.json', \n",
    "        f'/kaggle/working/best_params_{config[\"model\"]}_{config[\"metric\"]}.json'\n",
    "    )"
   ]
  },
  {
   "cell_type": "markdown",
   "id": "8ebc8c31",
   "metadata": {
    "papermill": {
     "duration": 0.123208,
     "end_time": "2025-01-04T18:46:57.598399",
     "exception": false,
     "start_time": "2025-01-04T18:46:57.475191",
     "status": "completed"
    },
    "tags": []
   },
   "source": [
    "Save the history of the tuned model."
   ]
  },
  {
   "cell_type": "code",
   "execution_count": 19,
   "id": "0f66ea9d",
   "metadata": {
    "execution": {
     "iopub.execute_input": "2025-01-04T18:46:57.867740Z",
     "iopub.status.busy": "2025-01-04T18:46:57.867328Z",
     "iopub.status.idle": "2025-01-04T18:46:59.025965Z",
     "shell.execute_reply": "2025-01-04T18:46:59.024667Z"
    },
    "papermill": {
     "duration": 1.294273,
     "end_time": "2025-01-04T18:46:59.028379",
     "exception": false,
     "start_time": "2025-01-04T18:46:57.734106",
     "status": "completed"
    },
    "tags": []
   },
   "outputs": [
    {
     "name": "stdout",
     "output_type": "stream",
     "text": [
      "File 'TrainedModels/WithKFCV/KNN/ItemKNNCFRecommender/OptimizingMAP/history_ItemKNNCF_MAP.db' updated successfully.\n"
     ]
    }
   ],
   "source": [
    "if config['save_github'] and config['tune_parameters']:\n",
    "    upload_file(\n",
    "        config['database_path'], \n",
    "        f'{GH_PATH}/{config[\"model\"]}Recommender/Optimizing{config[\"metric\"]}/history_{config[\"model\"]}_{config[\"metric\"]}.db',\n",
    "        f'Tuning {config[\"model\"]}_{config[\"metric\"]} db updated results (from kaggle notebook)',\n",
    "        repo\n",
    "    )"
   ]
  },
  {
   "cell_type": "markdown",
   "id": "a12274e2",
   "metadata": {
    "execution": {
     "iopub.execute_input": "2024-11-14T00:41:34.294243Z",
     "iopub.status.busy": "2024-11-14T00:41:34.293739Z",
     "iopub.status.idle": "2024-11-14T00:41:34.301478Z",
     "shell.execute_reply": "2024-11-14T00:41:34.299869Z",
     "shell.execute_reply.started": "2024-11-14T00:41:34.294186Z"
    },
    "papermill": {
     "duration": 0.131887,
     "end_time": "2025-01-04T18:46:59.297646",
     "exception": false,
     "start_time": "2025-01-04T18:46:59.165759",
     "status": "completed"
    },
    "tags": []
   },
   "source": [
    "Save the best trained model and its submission."
   ]
  },
  {
   "cell_type": "code",
   "execution_count": 20,
   "id": "7472af2b",
   "metadata": {
    "execution": {
     "iopub.execute_input": "2025-01-04T18:46:59.559609Z",
     "iopub.status.busy": "2025-01-04T18:46:59.559199Z",
     "iopub.status.idle": "2025-01-04T18:47:01.000874Z",
     "shell.execute_reply": "2025-01-04T18:47:00.999462Z"
    },
    "papermill": {
     "duration": 1.575293,
     "end_time": "2025-01-04T18:47:01.002760",
     "exception": false,
     "start_time": "2025-01-04T18:46:59.427467",
     "status": "completed"
    },
    "tags": []
   },
   "outputs": [
    {
     "name": "stdout",
     "output_type": "stream",
     "text": [
      "File 'TrainedModels/WithKFCV/KNN/ItemKNNCFRecommender/OptimizingMAP/Submission/submission_ItemKNNCF_MAP.csv' updated successfully.\n"
     ]
    }
   ],
   "source": [
    "if config['save_github'] and config['tune_best_params']: \n",
    "    upload_file(\n",
    "                f'/kaggle/working/submission_{config[\"model\"]}_{config[\"metric\"]}.csv', \n",
    "                f'{GH_PATH}/{config[\"model\"]}Recommender/Optimizing{config[\"metric\"]}/Submission/submission_{config[\"model\"]}_{config[\"metric\"]}.csv', \n",
    "                f'New {config[\"model\"]}_{config[\"metric\"]} submission (from kaggle notebook)',\n",
    "                repo\n",
    "            )"
   ]
  }
 ],
 "metadata": {
  "kaggle": {
   "accelerator": "none",
   "dataSources": [
    {
     "databundleVersionId": 9982103,
     "sourceId": 87439,
     "sourceType": "competition"
    }
   ],
   "isGpuEnabled": false,
   "isInternetEnabled": true,
   "language": "python",
   "sourceType": "notebook"
  },
  "kernelspec": {
   "display_name": "Python 3",
   "language": "python",
   "name": "python3"
  },
  "language_info": {
   "codemirror_mode": {
    "name": "ipython",
    "version": 3
   },
   "file_extension": ".py",
   "mimetype": "text/x-python",
   "name": "python",
   "nbconvert_exporter": "python",
   "pygments_lexer": "ipython3",
   "version": "3.10.12"
  },
  "papermill": {
   "default_parameters": {},
   "duration": 24729.31674,
   "end_time": "2025-01-04T18:47:02.486736",
   "environment_variables": {},
   "exception": null,
   "input_path": "__notebook__.ipynb",
   "output_path": "__notebook__.ipynb",
   "parameters": {},
   "start_time": "2025-01-04T11:54:53.169996",
   "version": "2.6.0"
  }
 },
 "nbformat": 4,
 "nbformat_minor": 5
}
