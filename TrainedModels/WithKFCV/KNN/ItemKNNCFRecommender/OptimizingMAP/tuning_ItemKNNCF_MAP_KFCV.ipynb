{
 "cells": [
  {
   "cell_type": "markdown",
   "id": "3a0d5374",
   "metadata": {
    "papermill": {
     "duration": 0.006942,
     "end_time": "2025-01-05T17:45:55.257772",
     "exception": false,
     "start_time": "2025-01-05T17:45:55.250830",
     "status": "completed"
    },
    "tags": []
   },
   "source": [
    "# Set connection with GitHub"
   ]
  },
  {
   "cell_type": "code",
   "execution_count": 1,
   "id": "fd4bdf48",
   "metadata": {
    "execution": {
     "iopub.execute_input": "2025-01-05T17:45:55.271501Z",
     "iopub.status.busy": "2025-01-05T17:45:55.271005Z",
     "iopub.status.idle": "2025-01-05T17:45:55.277113Z",
     "shell.execute_reply": "2025-01-05T17:45:55.275932Z"
    },
    "papermill": {
     "duration": 0.015165,
     "end_time": "2025-01-05T17:45:55.278968",
     "exception": false,
     "start_time": "2025-01-05T17:45:55.263803",
     "status": "completed"
    },
    "tags": []
   },
   "outputs": [],
   "source": [
    "# ! cd /kaggle/working && rm -rf RECsys_Challenge2024"
   ]
  },
  {
   "cell_type": "code",
   "execution_count": 2,
   "id": "1160e3d7",
   "metadata": {
    "_cell_guid": "b1076dfc-b9ad-4769-8c92-a6c4dae69d19",
    "_uuid": "8f2839f25d086af736a60e9eeb907d3b93b6e0e5",
    "execution": {
     "iopub.execute_input": "2025-01-05T17:45:55.292036Z",
     "iopub.status.busy": "2025-01-05T17:45:55.291611Z",
     "iopub.status.idle": "2025-01-05T17:46:11.681985Z",
     "shell.execute_reply": "2025-01-05T17:46:11.680399Z"
    },
    "papermill": {
     "duration": 16.399628,
     "end_time": "2025-01-05T17:46:11.684366",
     "exception": false,
     "start_time": "2025-01-05T17:45:55.284738",
     "status": "completed"
    },
    "tags": []
   },
   "outputs": [
    {
     "name": "stdout",
     "output_type": "stream",
     "text": [
      "Cloning into 'RECsys_Challenge2024'...\r\n",
      "remote: Enumerating objects: 6330, done.\u001b[K\r\n",
      "remote: Counting objects: 100% (241/241), done.\u001b[K\r\n",
      "remote: Compressing objects: 100% (204/204), done.\u001b[K\r\n",
      "remote: Total 6330 (delta 92), reused 25 (delta 10), pack-reused 6089 (from 4)\u001b[K\r\n",
      "Receiving objects: 100% (6330/6330), 401.67 MiB | 36.22 MiB/s, done.\r\n",
      "Resolving deltas: 100% (3472/3472), done.\r\n",
      "Updating files: 100% (490/490), done.\r\n"
     ]
    }
   ],
   "source": [
    "from kaggle_secrets import UserSecretsClient\n",
    "\n",
    "token = UserSecretsClient().get_secret(\"Token\")\n",
    "\n",
    "! git clone https://{token}@github.com/madratak/RECsys_Challenge2024.git"
   ]
  },
  {
   "cell_type": "code",
   "execution_count": 3,
   "id": "0370531a",
   "metadata": {
    "execution": {
     "iopub.execute_input": "2025-01-05T17:46:11.708037Z",
     "iopub.status.busy": "2025-01-05T17:46:11.707565Z",
     "iopub.status.idle": "2025-01-05T17:46:19.235165Z",
     "shell.execute_reply": "2025-01-05T17:46:19.233374Z"
    },
    "papermill": {
     "duration": 7.542272,
     "end_time": "2025-01-05T17:46:19.237976",
     "exception": false,
     "start_time": "2025-01-05T17:46:11.695704",
     "status": "completed"
    },
    "tags": []
   },
   "outputs": [
    {
     "name": "stdout",
     "output_type": "stream",
     "text": [
      "Collecting PyGithub\r\n",
      "  Downloading PyGithub-2.5.0-py3-none-any.whl.metadata (3.9 kB)\r\n",
      "Requirement already satisfied: requests in /usr/local/lib/python3.10/dist-packages (2.32.3)\r\n",
      "Collecting pynacl>=1.4.0 (from PyGithub)\r\n",
      "  Downloading PyNaCl-1.5.0-cp36-abi3-manylinux_2_17_x86_64.manylinux2014_x86_64.manylinux_2_24_x86_64.whl.metadata (8.6 kB)\r\n",
      "Requirement already satisfied: pyjwt>=2.4.0 in /usr/local/lib/python3.10/dist-packages (from pyjwt[crypto]>=2.4.0->PyGithub) (2.9.0)\r\n",
      "Requirement already satisfied: typing-extensions>=4.0.0 in /usr/local/lib/python3.10/dist-packages (from PyGithub) (4.12.2)\r\n",
      "Requirement already satisfied: urllib3>=1.26.0 in /usr/local/lib/python3.10/dist-packages (from PyGithub) (2.2.3)\r\n",
      "Requirement already satisfied: Deprecated in /usr/local/lib/python3.10/dist-packages (from PyGithub) (1.2.15)\r\n",
      "Requirement already satisfied: charset-normalizer<4,>=2 in /usr/local/lib/python3.10/dist-packages (from requests) (3.3.2)\r\n",
      "Requirement already satisfied: idna<4,>=2.5 in /usr/local/lib/python3.10/dist-packages (from requests) (3.10)\r\n",
      "Requirement already satisfied: certifi>=2017.4.17 in /usr/local/lib/python3.10/dist-packages (from requests) (2024.8.30)\r\n",
      "Requirement already satisfied: cryptography>=3.4.0 in /usr/local/lib/python3.10/dist-packages (from pyjwt[crypto]>=2.4.0->PyGithub) (43.0.1)\r\n",
      "Requirement already satisfied: cffi>=1.4.1 in /usr/local/lib/python3.10/dist-packages (from pynacl>=1.4.0->PyGithub) (1.17.1)\r\n",
      "Requirement already satisfied: wrapt<2,>=1.10 in /usr/local/lib/python3.10/dist-packages (from Deprecated->PyGithub) (1.16.0)\r\n",
      "Requirement already satisfied: pycparser in /usr/local/lib/python3.10/dist-packages (from cffi>=1.4.1->pynacl>=1.4.0->PyGithub) (2.22)\r\n",
      "Downloading PyGithub-2.5.0-py3-none-any.whl (375 kB)\r\n",
      "\u001b[2K   \u001b[90m━━━━━━━━━━━━━━━━━━━━━━━━━━━━━━━━━━━━━━━━\u001b[0m \u001b[32m375.9/375.9 kB\u001b[0m \u001b[31m8.2 MB/s\u001b[0m eta \u001b[36m0:00:00\u001b[0m\r\n",
      "\u001b[?25hDownloading PyNaCl-1.5.0-cp36-abi3-manylinux_2_17_x86_64.manylinux2014_x86_64.manylinux_2_24_x86_64.whl (856 kB)\r\n",
      "\u001b[2K   \u001b[90m━━━━━━━━━━━━━━━━━━━━━━━━━━━━━━━━━━━━━━━━\u001b[0m \u001b[32m856.7/856.7 kB\u001b[0m \u001b[31m23.4 MB/s\u001b[0m eta \u001b[36m0:00:00\u001b[0m\r\n",
      "\u001b[?25hInstalling collected packages: pynacl, PyGithub\r\n",
      "Successfully installed PyGithub-2.5.0 pynacl-1.5.0\r\n"
     ]
    }
   ],
   "source": [
    "! pip install PyGithub requests"
   ]
  },
  {
   "cell_type": "code",
   "execution_count": 4,
   "id": "7b5c3328",
   "metadata": {
    "_kg_hide-input": false,
    "execution": {
     "iopub.execute_input": "2025-01-05T17:46:19.262919Z",
     "iopub.status.busy": "2025-01-05T17:46:19.262479Z",
     "iopub.status.idle": "2025-01-05T17:49:19.691777Z",
     "shell.execute_reply": "2025-01-05T17:49:19.689863Z"
    },
    "papermill": {
     "duration": 180.444389,
     "end_time": "2025-01-05T17:49:19.694161",
     "exception": false,
     "start_time": "2025-01-05T17:46:19.249772",
     "status": "completed"
    },
    "tags": []
   },
   "outputs": [
    {
     "name": "stdout",
     "output_type": "stream",
     "text": [
      "/kaggle/working/RECsys_Challenge2024\n",
      "run_compile_all_cython: Found 11 Cython files in 5 folders...\r\n",
      "run_compile_all_cython: All files will be compiled using your current python environment: '/usr/bin/python3'\r\n",
      "Compiling [1/11]: MatrixFactorization_Cython_Epoch.pyx... \r\n",
      "In file included from \u001b[01m\u001b[K/usr/local/lib/python3.10/dist-packages/numpy/core/include/numpy/ndarraytypes.h:1929\u001b[m\u001b[K,\r\n",
      "                 from \u001b[01m\u001b[K/usr/local/lib/python3.10/dist-packages/numpy/core/include/numpy/ndarrayobject.h:12\u001b[m\u001b[K,\r\n",
      "                 from \u001b[01m\u001b[K/usr/local/lib/python3.10/dist-packages/numpy/core/include/numpy/arrayobject.h:5\u001b[m\u001b[K,\r\n",
      "                 from \u001b[01m\u001b[KMatrixFactorization_Cython_Epoch.c:1252\u001b[m\u001b[K:\r\n",
      "\u001b[01m\u001b[K/usr/local/lib/python3.10/dist-packages/numpy/core/include/numpy/npy_1_7_deprecated_api.h:17:2:\u001b[m\u001b[K \u001b[01;35m\u001b[Kwarning: \u001b[m\u001b[K#warning \"Using deprecated NumPy API, disable it with \" \"#define NPY_NO_DEPRECATED_API NPY_1_7_API_VERSION\" [\u001b[01;35m\u001b[K\u001b]8;;https://gcc.gnu.org/onlinedocs/gcc/Warning-Options.html#index-Wcpp\u0007-Wcpp\u001b]8;;\u0007\u001b[m\u001b[K]\r\n",
      "   17 | #\u001b[01;35m\u001b[Kwarning\u001b[m\u001b[K \"Using deprecated NumPy API, disable it with \" \\\r\n",
      "      |  \u001b[01;35m\u001b[K^~~~~~~\u001b[m\u001b[K\r\n",
      "\u001b[01m\u001b[KMatrixFactorization_Cython_Epoch.c:\u001b[m\u001b[K In function ‘\u001b[01m\u001b[K__pyx_pf_32MatrixFactorization_Cython_Epoch_32MatrixFactorization_Cython_Epoch_10epochIteration_Cython_ASY_SVD_SGD\u001b[m\u001b[K’:\r\n",
      "\u001b[01m\u001b[KMatrixFactorization_Cython_Epoch.c:26256:68:\u001b[m\u001b[K \u001b[01;35m\u001b[Kwarning: \u001b[m\u001b[K‘\u001b[01m\u001b[K__pyx_v_end_pos_seen_items\u001b[m\u001b[K’ may be used uninitialized in this function [\u001b[01;35m\u001b[K\u001b]8;;https://gcc.gnu.org/onlinedocs/gcc/Warning-Options.html#index-Wmaybe-uninitialized\u0007-Wmaybe-uninitialized\u001b]8;;\u0007\u001b[m\u001b[K]\r\n",
      "26256 |         for (__pyx_t_22 = __pyx_v_start_pos_seen_items; \u001b[01;35m\u001b[K__pyx_t_22 < __pyx_t_21\u001b[m\u001b[K; __pyx_t_22+=1) {\r\n",
      "      |                                                         \u001b[01;35m\u001b[K~~~~~~~~~~~^~~~~~~~~~~~\u001b[m\u001b[K\r\n",
      "\u001b[01m\u001b[KMatrixFactorization_Cython_Epoch.c:26256:68:\u001b[m\u001b[K \u001b[01;35m\u001b[Kwarning: \u001b[m\u001b[K‘\u001b[01m\u001b[K__pyx_v_start_pos_seen_items\u001b[m\u001b[K’ may be used uninitialized in this function [\u001b[01;35m\u001b[K\u001b]8;;https://gcc.gnu.org/onlinedocs/gcc/Warning-Options.html#index-Wmaybe-uninitialized\u0007-Wmaybe-uninitialized\u001b]8;;\u0007\u001b[m\u001b[K]\r\n",
      "/usr/local/lib/python3.10/dist-packages/Cython/Compiler/Main.py:381: FutureWarning: Cython directive 'language_level' not set, using '3str' for now (Py3). This has changed from earlier releases! File: /kaggle/working/RECsys_Challenge2024/Recommenders/MatrixFactorization/Cython/MatrixFactorization_Cython_Epoch.pyx\r\n",
      "  tree = Parsing.p_module(s, pxd, full_module_name)\r\n",
      "Compiling [1/11]: MatrixFactorization_Cython_Epoch.pyx... PASS\r\n",
      "\r\n",
      "Compiling [2/11]: MatrixFactorizationImpressions_Cython_Epoch.pyx... \r\n",
      "In file included from \u001b[01m\u001b[K/usr/local/lib/python3.10/dist-packages/numpy/core/include/numpy/ndarraytypes.h:1929\u001b[m\u001b[K,\r\n",
      "                 from \u001b[01m\u001b[K/usr/local/lib/python3.10/dist-packages/numpy/core/include/numpy/ndarrayobject.h:12\u001b[m\u001b[K,\r\n",
      "                 from \u001b[01m\u001b[K/usr/local/lib/python3.10/dist-packages/numpy/core/include/numpy/arrayobject.h:5\u001b[m\u001b[K,\r\n",
      "                 from \u001b[01m\u001b[KMatrixFactorizationImpressions_Cython_Epoch.c:1252\u001b[m\u001b[K:\r\n",
      "\u001b[01m\u001b[K/usr/local/lib/python3.10/dist-packages/numpy/core/include/numpy/npy_1_7_deprecated_api.h:17:2:\u001b[m\u001b[K \u001b[01;35m\u001b[Kwarning: \u001b[m\u001b[K#warning \"Using deprecated NumPy API, disable it with \" \"#define NPY_NO_DEPRECATED_API NPY_1_7_API_VERSION\" [\u001b[01;35m\u001b[K\u001b]8;;https://gcc.gnu.org/onlinedocs/gcc/Warning-Options.html#index-Wcpp\u0007-Wcpp\u001b]8;;\u0007\u001b[m\u001b[K]\r\n",
      "   17 | #\u001b[01;35m\u001b[Kwarning\u001b[m\u001b[K \"Using deprecated NumPy API, disable it with \" \\\r\n",
      "      |  \u001b[01;35m\u001b[K^~~~~~~\u001b[m\u001b[K\r\n",
      "\u001b[01m\u001b[KMatrixFactorizationImpressions_Cython_Epoch.c:\u001b[m\u001b[K In function ‘\u001b[01m\u001b[K__pyx_f_43MatrixFactorizationImpressions_Cython_Epoch_32MatrixFactorization_Cython_Epoch_sampleBPR_Cython\u001b[m\u001b[K’:\r\n",
      "\u001b[01m\u001b[KMatrixFactorizationImpressions_Cython_Epoch.c:30353:17:\u001b[m\u001b[K \u001b[01;35m\u001b[Kwarning: \u001b[m\u001b[K‘\u001b[01m\u001b[K__pyx_v_start_pos_impression_items\u001b[m\u001b[K’ may be used uninitialized in this function [\u001b[01;35m\u001b[K\u001b]8;;https://gcc.gnu.org/onlinedocs/gcc/Warning-Options.html#index-Wmaybe-uninitialized\u0007-Wmaybe-uninitialized\u001b]8;;\u0007\u001b[m\u001b[K]\r\n",
      "30353 |       \u001b[01;35m\u001b[K__pyx_t_4 = (__pyx_v_start_pos_impression_items + __pyx_v_index)\u001b[m\u001b[K;\r\n",
      "      |       \u001b[01;35m\u001b[K~~~~~~~~~~^~~~~~~~~~~~~~~~~~~~~~~~~~~~~~~~~~~~~~~~~~~~~~~~~~~~~~\u001b[m\u001b[K\r\n",
      "\u001b[01m\u001b[KMatrixFactorizationImpressions_Cython_Epoch.c:\u001b[m\u001b[K In function ‘\u001b[01m\u001b[K__pyx_pf_43MatrixFactorizationImpressions_Cython_Epoch_32MatrixFactorization_Cython_Epoch_10epochIteration_Cython_ASY_SVD_SGD\u001b[m\u001b[K’:\r\n",
      "\u001b[01m\u001b[KMatrixFactorizationImpressions_Cython_Epoch.c:26112:66:\u001b[m\u001b[K \u001b[01;35m\u001b[Kwarning: \u001b[m\u001b[K‘\u001b[01m\u001b[K__pyx_v_end_pos_seen_items\u001b[m\u001b[K’ may be used uninitialized in this function [\u001b[01;35m\u001b[K\u001b]8;;https://gcc.gnu.org/onlinedocs/gcc/Warning-Options.html#index-Wmaybe-uninitialized\u0007-Wmaybe-uninitialized\u001b]8;;\u0007\u001b[m\u001b[K]\r\n",
      "26112 |       for (__pyx_t_22 = __pyx_v_start_pos_seen_items; \u001b[01;35m\u001b[K__pyx_t_22 < __pyx_t_21\u001b[m\u001b[K; __pyx_t_22+=1) {\r\n",
      "      |                                                       \u001b[01;35m\u001b[K~~~~~~~~~~~^~~~~~~~~~~~\u001b[m\u001b[K\r\n",
      "\u001b[01m\u001b[KMatrixFactorizationImpressions_Cython_Epoch.c:26112:66:\u001b[m\u001b[K \u001b[01;35m\u001b[Kwarning: \u001b[m\u001b[K‘\u001b[01m\u001b[K__pyx_v_start_pos_seen_items\u001b[m\u001b[K’ may be used uninitialized in this function [\u001b[01;35m\u001b[K\u001b]8;;https://gcc.gnu.org/onlinedocs/gcc/Warning-Options.html#index-Wmaybe-uninitialized\u0007-Wmaybe-uninitialized\u001b]8;;\u0007\u001b[m\u001b[K]\r\n",
      "/usr/local/lib/python3.10/dist-packages/Cython/Compiler/Main.py:381: FutureWarning: Cython directive 'language_level' not set, using '3str' for now (Py3). This has changed from earlier releases! File: /kaggle/working/RECsys_Challenge2024/Recommenders/MatrixFactorization/Cython/MatrixFactorizationImpressions_Cython_Epoch.pyx\r\n",
      "  tree = Parsing.p_module(s, pxd, full_module_name)\r\n",
      "Compiling [2/11]: MatrixFactorizationImpressions_Cython_Epoch.pyx... PASS\r\n",
      "\r\n",
      "Compiling [3/11]: Compute_Similarity_Cython.pyx... \r\n",
      "warning: Compute_Similarity_Cython.pyx:21:0: The 'IF' statement is deprecated and will be removed in a future Cython version. Consider using runtime conditions or C macros instead. See https://github.com/cython/cython/issues/4310\r\n",
      "In file included from \u001b[01m\u001b[K/usr/local/lib/python3.10/dist-packages/numpy/core/include/numpy/ndarraytypes.h:1929\u001b[m\u001b[K,\r\n",
      "                 from \u001b[01m\u001b[K/usr/local/lib/python3.10/dist-packages/numpy/core/include/numpy/ndarrayobject.h:12\u001b[m\u001b[K,\r\n",
      "                 from \u001b[01m\u001b[K/usr/local/lib/python3.10/dist-packages/numpy/core/include/numpy/arrayobject.h:5\u001b[m\u001b[K,\r\n",
      "                 from \u001b[01m\u001b[KCompute_Similarity_Cython.c:1252\u001b[m\u001b[K:\r\n",
      "\u001b[01m\u001b[K/usr/local/lib/python3.10/dist-packages/numpy/core/include/numpy/npy_1_7_deprecated_api.h:17:2:\u001b[m\u001b[K \u001b[01;35m\u001b[Kwarning: \u001b[m\u001b[K#warning \"Using deprecated NumPy API, disable it with \" \"#define NPY_NO_DEPRECATED_API NPY_1_7_API_VERSION\" [\u001b[01;35m\u001b[K\u001b]8;;https://gcc.gnu.org/onlinedocs/gcc/Warning-Options.html#index-Wcpp\u0007-Wcpp\u001b]8;;\u0007\u001b[m\u001b[K]\r\n",
      "   17 | #\u001b[01;35m\u001b[Kwarning\u001b[m\u001b[K \"Using deprecated NumPy API, disable it with \" \\\r\n",
      "      |  \u001b[01;35m\u001b[K^~~~~~~\u001b[m\u001b[K\r\n",
      "/usr/local/lib/python3.10/dist-packages/Cython/Compiler/Main.py:381: FutureWarning: Cython directive 'language_level' not set, using '3str' for now (Py3). This has changed from earlier releases! File: /kaggle/working/RECsys_Challenge2024/Recommenders/Similarity/Cython/Compute_Similarity_Cython.pyx\r\n",
      "  tree = Parsing.p_module(s, pxd, full_module_name)\r\n",
      "warning: Compute_Similarity_Cython.pyx:21:0: The 'IF' statement is deprecated and will be removed in a future Cython version. Consider using runtime conditions or C macros instead. See https://github.com/cython/cython/issues/4310\r\n",
      "Compiling [3/11]: Compute_Similarity_Cython.pyx... PASS\r\n",
      "\r\n",
      "Compiling [4/11]: Triangular_Matrix.pyx... \r\n",
      "warning: Triangular_Matrix.pyx:22:0: The 'IF' statement is deprecated and will be removed in a future Cython version. Consider using runtime conditions or C macros instead. See https://github.com/cython/cython/issues/4310\r\n",
      "In file included from \u001b[01m\u001b[K/usr/local/lib/python3.10/dist-packages/numpy/core/include/numpy/ndarraytypes.h:1929\u001b[m\u001b[K,\r\n",
      "                 from \u001b[01m\u001b[K/usr/local/lib/python3.10/dist-packages/numpy/core/include/numpy/ndarrayobject.h:12\u001b[m\u001b[K,\r\n",
      "                 from \u001b[01m\u001b[K/usr/local/lib/python3.10/dist-packages/numpy/core/include/numpy/arrayobject.h:5\u001b[m\u001b[K,\r\n",
      "                 from \u001b[01m\u001b[KTriangular_Matrix.c:1252\u001b[m\u001b[K:\r\n",
      "\u001b[01m\u001b[K/usr/local/lib/python3.10/dist-packages/numpy/core/include/numpy/npy_1_7_deprecated_api.h:17:2:\u001b[m\u001b[K \u001b[01;35m\u001b[Kwarning: \u001b[m\u001b[K#warning \"Using deprecated NumPy API, disable it with \" \"#define NPY_NO_DEPRECATED_API NPY_1_7_API_VERSION\" [\u001b[01;35m\u001b[K\u001b]8;;https://gcc.gnu.org/onlinedocs/gcc/Warning-Options.html#index-Wcpp\u0007-Wcpp\u001b]8;;\u0007\u001b[m\u001b[K]\r\n",
      "   17 | #\u001b[01;35m\u001b[Kwarning\u001b[m\u001b[K \"Using deprecated NumPy API, disable it with \" \\\r\n",
      "      |  \u001b[01;35m\u001b[K^~~~~~~\u001b[m\u001b[K\r\n",
      "In function ‘\u001b[01m\u001b[K__pyx_pf_17Triangular_Matrix_17Triangular_Matrix___init__\u001b[m\u001b[K’,\r\n",
      "    inlined from ‘\u001b[01m\u001b[K__pyx_pw_17Triangular_Matrix_17Triangular_Matrix_1__init__\u001b[m\u001b[K’ at \u001b[01m\u001b[KTriangular_Matrix.c:5541:13\u001b[m\u001b[K:\r\n",
      "\u001b[01m\u001b[KTriangular_Matrix.c:5599:43:\u001b[m\u001b[K \u001b[01;35m\u001b[Kwarning: \u001b[m\u001b[Kargument 1 value ‘\u001b[01m\u001b[K18446744073709551608\u001b[m\u001b[K’ exceeds maximum object size 9223372036854775807 [\u001b[01;35m\u001b[K\u001b]8;;https://gcc.gnu.org/onlinedocs/gcc/Warning-Options.html#index-Walloc-size-larger-than=\u0007-Walloc-size-larger-than=\u001b]8;;\u0007\u001b[m\u001b[K]\r\n",
      " 5599 |   __pyx_v_self->row_pointer = ((double **)\u001b[01;35m\u001b[Kmalloc((__pyx_v_self->num_rows * (sizeof(double *))))\u001b[m\u001b[K);\r\n",
      "      |                                           \u001b[01;35m\u001b[K^~~~~~~~~~~~~~~~~~~~~~~~~~~~~~~~~~~~~~~~~~~~~~~~~~~~~\u001b[m\u001b[K\r\n",
      "In file included from \u001b[01m\u001b[K/usr/include/python3.10/Python.h:34\u001b[m\u001b[K,\r\n",
      "                 from \u001b[01m\u001b[KTriangular_Matrix.c:41\u001b[m\u001b[K:\r\n",
      "\u001b[01m\u001b[KTriangular_Matrix.c:\u001b[m\u001b[K In function ‘\u001b[01m\u001b[K__pyx_pw_17Triangular_Matrix_17Triangular_Matrix_1__init__\u001b[m\u001b[K’:\r\n",
      "\u001b[01m\u001b[K/usr/include/stdlib.h:540:14:\u001b[m\u001b[K \u001b[01;36m\u001b[Knote: \u001b[m\u001b[Kin a call to allocation function ‘\u001b[01m\u001b[Kmalloc\u001b[m\u001b[K’ declared here\r\n",
      "  540 | extern void *\u001b[01;36m\u001b[Kmalloc\u001b[m\u001b[K (size_t __size) __THROW __attribute_malloc__\r\n",
      "      |              \u001b[01;36m\u001b[K^~~~~~\u001b[m\u001b[K\r\n",
      "/usr/local/lib/python3.10/dist-packages/Cython/Compiler/Main.py:381: FutureWarning: Cython directive 'language_level' not set, using '3str' for now (Py3). This has changed from earlier releases! File: /kaggle/working/RECsys_Challenge2024/Recommenders/SLIM/Cython/Triangular_Matrix.pyx\r\n",
      "  tree = Parsing.p_module(s, pxd, full_module_name)\r\n",
      "warning: Triangular_Matrix.pyx:22:0: The 'IF' statement is deprecated and will be removed in a future Cython version. Consider using runtime conditions or C macros instead. See https://github.com/cython/cython/issues/4310\r\n",
      "Compiling [4/11]: Triangular_Matrix.pyx... PASS\r\n",
      "\r\n",
      "Compiling [5/11]: SLIM_BPR_Cython_Epoch.pyx... \r\n",
      "warning: SLIM_BPR_Cython_Epoch.pyx:24:0: The 'IF' statement is deprecated and will be removed in a future Cython version. Consider using runtime conditions or C macros instead. See https://github.com/cython/cython/issues/4310\r\n",
      "warning: SLIM_BPR_Cython_Epoch.pyx:632:34: Non-trivial type declarators in shared declaration (e.g. mix of pointers and values). Each pointer declaration should be on its own line.\r\n",
      "warning: SLIM_BPR_Cython_Epoch.pyx:632:66: Non-trivial type declarators in shared declaration (e.g. mix of pointers and values). Each pointer declaration should be on its own line.\r\n",
      "warning: SLIM_BPR_Cython_Epoch.pyx:817:35: Non-trivial type declarators in shared declaration (e.g. mix of pointers and values). Each pointer declaration should be on its own line.\r\n",
      "warning: SLIM_BPR_Cython_Epoch.pyx:817:52: Non-trivial type declarators in shared declaration (e.g. mix of pointers and values). Each pointer declaration should be on its own line.\r\n",
      "warning: SLIM_BPR_Cython_Epoch.pyx:916:35: Non-trivial type declarators in shared declaration (e.g. mix of pointers and values). Each pointer declaration should be on its own line.\r\n",
      "warning: SLIM_BPR_Cython_Epoch.pyx:916:53: Non-trivial type declarators in shared declaration (e.g. mix of pointers and values). Each pointer declaration should be on its own line.\r\n",
      "warning: SLIM_BPR_Cython_Epoch.pyx:916:69: Non-trivial type declarators in shared declaration (e.g. mix of pointers and values). Each pointer declaration should be on its own line.\r\n",
      "warning: SLIM_BPR_Cython_Epoch.pyx:1051:35: Non-trivial type declarators in shared declaration (e.g. mix of pointers and values). Each pointer declaration should be on its own line.\r\n",
      "warning: SLIM_BPR_Cython_Epoch.pyx:1051:42: Non-trivial type declarators in shared declaration (e.g. mix of pointers and values). Each pointer declaration should be on its own line.\r\n",
      "warning: SLIM_BPR_Cython_Epoch.pyx:1052:35: Non-trivial type declarators in shared declaration (e.g. mix of pointers and values). Each pointer declaration should be on its own line.\r\n",
      "warning: SLIM_BPR_Cython_Epoch.pyx:1052:53: Non-trivial type declarators in shared declaration (e.g. mix of pointers and values). Each pointer declaration should be on its own line.\r\n",
      "\r\n",
      "Error compiling Cython file:\r\n",
      "------------------------------------------------------------\r\n",
      "...\r\n",
      "            vector_pointer_to_list_elements[index].head = current_element\r\n",
      "            current_element = current_element.higher\r\n",
      "\r\n",
      "\r\n",
      "        # Sort array elements on their data field\r\n",
      "        qsort(vector_pointer_to_list_elements, list_length, sizeof(head_pointer_tree_s), compare_struct_on_data)\r\n",
      "                                                                                         ^\r\n",
      "------------------------------------------------------------\r\n",
      "\r\n",
      "SLIM_BPR_Cython_Epoch.pyx:990:89: Cannot assign type 'int (const void *, const void *) except? -1' to 'int (*)(const_void *, const_void *) noexcept'. Exception values are incompatible. Suggest adding 'noexcept' to the type of 'compare_struct_on_data'.\r\n",
      "\r\n",
      "Error compiling Cython file:\r\n",
      "------------------------------------------------------------\r\n",
      "...\r\n",
      "        # Sort array elements on their data field\r\n",
      "        qsort(vector_pointer_to_list_elements, list_length, sizeof(head_pointer_tree_s), compare_struct_on_data)\r\n",
      "\r\n",
      "        # Sort only the TopK according to their column field\r\n",
      "        # Sort is from lower to higher, therefore the elements to be considered are from len-topK to len\r\n",
      "        qsort(&vector_pointer_to_list_elements[list_length-TopK], TopK, sizeof(head_pointer_tree_s), compare_struct_on_column)\r\n",
      "                                                                                                     ^\r\n",
      "------------------------------------------------------------\r\n",
      "\r\n",
      "SLIM_BPR_Cython_Epoch.pyx:994:101: Cannot assign type 'int (const void *, const void *) except? -1' to 'int (*)(const_void *, const_void *) noexcept'. Exception values are incompatible. Suggest adding 'noexcept' to the type of 'compare_struct_on_column'.\r\n",
      "Traceback (most recent call last):\r\n",
      "  File \"/kaggle/working/RECsys_Challenge2024/CythonCompiler/compile_script.py\", line 48, in <module>\r\n",
      "    setup(\r\n",
      "  File \"/usr/local/lib/python3.10/dist-packages/setuptools/__init__.py\", line 108, in setup\r\n",
      "    return distutils.core.setup(**attrs)\r\n",
      "  File \"/usr/local/lib/python3.10/dist-packages/setuptools/_distutils/core.py\", line 184, in setup\r\n",
      "    return run_commands(dist)\r\n",
      "  File \"/usr/local/lib/python3.10/dist-packages/setuptools/_distutils/core.py\", line 200, in run_commands\r\n",
      "    dist.run_commands()\r\n",
      "  File \"/usr/local/lib/python3.10/dist-packages/setuptools/_distutils/dist.py\", line 970, in run_commands\r\n",
      "    self.run_command(cmd)\r\n",
      "  File \"/usr/local/lib/python3.10/dist-packages/setuptools/dist.py\", line 956, in run_command\r\n",
      "    super().run_command(command)\r\n",
      "  File \"/usr/local/lib/python3.10/dist-packages/setuptools/_distutils/dist.py\", line 989, in run_command\r\n",
      "    cmd_obj.run()\r\n",
      "  File \"/usr/local/lib/python3.10/dist-packages/setuptools/_distutils/command/build_ext.py\", line 359, in run\r\n",
      "    self.build_extensions()\r\n",
      "  File \"/usr/local/lib/python3.10/dist-packages/setuptools/_distutils/command/build_ext.py\", line 479, in build_extensions\r\n",
      "    self._build_extensions_serial()\r\n",
      "  File \"/usr/local/lib/python3.10/dist-packages/setuptools/_distutils/command/build_ext.py\", line 505, in _build_extensions_serial\r\n",
      "    self.build_extension(ext)\r\n",
      "  File \"/usr/local/lib/python3.10/dist-packages/Cython/Distutils/build_ext.py\", line 130, in build_extension\r\n",
      "    new_ext = cythonize(\r\n",
      "  File \"/usr/local/lib/python3.10/dist-packages/Cython/Build/Dependencies.py\", line 1154, in cythonize\r\n",
      "    cythonize_one(*args)\r\n",
      "  File \"/usr/local/lib/python3.10/dist-packages/Cython/Build/Dependencies.py\", line 1321, in cythonize_one\r\n",
      "    raise CompileError(None, pyx_file)\r\n",
      "Cython.Compiler.Errors.CompileError: SLIM_BPR_Cython_Epoch.pyx\r\n",
      "Traceback (most recent call last):\r\n",
      "  File \"/kaggle/working/RECsys_Challenge2024/run_compile_all_cython.py\", line 60, in <module>\r\n",
      "    run_compile_subprocess(file_path, [file_name])\r\n",
      "  File \"/kaggle/working/RECsys_Challenge2024/CythonCompiler/run_compile_subprocess.py\", line 51, in run_compile_subprocess\r\n",
      "    raise exc\r\n",
      "  File \"/kaggle/working/RECsys_Challenge2024/CythonCompiler/run_compile_subprocess.py\", line 32, in run_compile_subprocess\r\n",
      "    output = subprocess.check_output(' '.join(command),\r\n",
      "  File \"/usr/lib/python3.10/subprocess.py\", line 421, in check_output\r\n",
      "    return run(*popenargs, stdout=PIPE, timeout=timeout, check=True,\r\n",
      "  File \"/usr/lib/python3.10/subprocess.py\", line 526, in run\r\n",
      "    raise CalledProcessError(retcode, process.args,\r\n",
      "subprocess.CalledProcessError: Command '/usr/bin/python3 /kaggle/working/RECsys_Challenge2024/CythonCompiler/compile_script.py SLIM_BPR_Cython_Epoch.pyx build_ext --inplace' returned non-zero exit status 1.\r\n",
      "Compiling [5/11]: SLIM_BPR_Cython_Epoch.pyx... FAIL: Command '/usr/bin/python3 /kaggle/working/RECsys_Challenge2024/CythonCompiler/compile_script.py SLIM_BPR_Cython_Epoch.pyx build_ext --inplace' returned non-zero exit status 1.\r\n",
      "\r\n",
      "Compiling [6/11]: Sparse_Matrix_Tree_CSR.pyx... \r\n",
      "warning: Sparse_Matrix_Tree_CSR.pyx:132:34: Non-trivial type declarators in shared declaration (e.g. mix of pointers and values). Each pointer declaration should be on its own line.\r\n",
      "warning: Sparse_Matrix_Tree_CSR.pyx:132:66: Non-trivial type declarators in shared declaration (e.g. mix of pointers and values). Each pointer declaration should be on its own line.\r\n",
      "warning: Sparse_Matrix_Tree_CSR.pyx:343:35: Non-trivial type declarators in shared declaration (e.g. mix of pointers and values). Each pointer declaration should be on its own line.\r\n",
      "warning: Sparse_Matrix_Tree_CSR.pyx:343:52: Non-trivial type declarators in shared declaration (e.g. mix of pointers and values). Each pointer declaration should be on its own line.\r\n",
      "warning: Sparse_Matrix_Tree_CSR.pyx:442:35: Non-trivial type declarators in shared declaration (e.g. mix of pointers and values). Each pointer declaration should be on its own line.\r\n",
      "warning: Sparse_Matrix_Tree_CSR.pyx:442:53: Non-trivial type declarators in shared declaration (e.g. mix of pointers and values). Each pointer declaration should be on its own line.\r\n",
      "warning: Sparse_Matrix_Tree_CSR.pyx:442:69: Non-trivial type declarators in shared declaration (e.g. mix of pointers and values). Each pointer declaration should be on its own line.\r\n",
      "warning: Sparse_Matrix_Tree_CSR.pyx:577:35: Non-trivial type declarators in shared declaration (e.g. mix of pointers and values). Each pointer declaration should be on its own line.\r\n",
      "warning: Sparse_Matrix_Tree_CSR.pyx:577:42: Non-trivial type declarators in shared declaration (e.g. mix of pointers and values). Each pointer declaration should be on its own line.\r\n",
      "warning: Sparse_Matrix_Tree_CSR.pyx:578:35: Non-trivial type declarators in shared declaration (e.g. mix of pointers and values). Each pointer declaration should be on its own line.\r\n",
      "warning: Sparse_Matrix_Tree_CSR.pyx:578:53: Non-trivial type declarators in shared declaration (e.g. mix of pointers and values). Each pointer declaration should be on its own line.\r\n",
      "\r\n",
      "Error compiling Cython file:\r\n",
      "------------------------------------------------------------\r\n",
      "...\r\n",
      "            vector_pointer_to_list_elements[index].head = current_element\r\n",
      "            current_element = current_element.higher\r\n",
      "\r\n",
      "\r\n",
      "        # Sort array elements on their data field\r\n",
      "        qsort(vector_pointer_to_list_elements, list_length, sizeof(head_pointer_tree_s), compare_struct_on_data)\r\n",
      "                                                                                         ^\r\n",
      "------------------------------------------------------------\r\n",
      "\r\n",
      "Sparse_Matrix_Tree_CSR.pyx:516:89: Cannot assign type 'int (const void *, const void *) except? -1' to 'int (*)(const_void *, const_void *) noexcept'. Exception values are incompatible. Suggest adding 'noexcept' to the type of 'compare_struct_on_data'.\r\n",
      "\r\n",
      "Error compiling Cython file:\r\n",
      "------------------------------------------------------------\r\n",
      "...\r\n",
      "        # Sort array elements on their data field\r\n",
      "        qsort(vector_pointer_to_list_elements, list_length, sizeof(head_pointer_tree_s), compare_struct_on_data)\r\n",
      "\r\n",
      "        # Sort only the TopK according to their column field\r\n",
      "        # Sort is from lower to higher, therefore the elements to be considered are from len-topK to len\r\n",
      "        qsort(&vector_pointer_to_list_elements[list_length-TopK], TopK, sizeof(head_pointer_tree_s), compare_struct_on_column)\r\n",
      "                                                                                                     ^\r\n",
      "------------------------------------------------------------\r\n",
      "\r\n",
      "Sparse_Matrix_Tree_CSR.pyx:520:101: Cannot assign type 'int (const void *, const void *) except? -1' to 'int (*)(const_void *, const_void *) noexcept'. Exception values are incompatible. Suggest adding 'noexcept' to the type of 'compare_struct_on_column'.\r\n",
      "Traceback (most recent call last):\r\n",
      "  File \"/kaggle/working/RECsys_Challenge2024/CythonCompiler/compile_script.py\", line 48, in <module>\r\n",
      "    setup(\r\n",
      "  File \"/usr/local/lib/python3.10/dist-packages/setuptools/__init__.py\", line 108, in setup\r\n",
      "    return distutils.core.setup(**attrs)\r\n",
      "  File \"/usr/local/lib/python3.10/dist-packages/setuptools/_distutils/core.py\", line 184, in setup\r\n",
      "    return run_commands(dist)\r\n",
      "  File \"/usr/local/lib/python3.10/dist-packages/setuptools/_distutils/core.py\", line 200, in run_commands\r\n",
      "    dist.run_commands()\r\n",
      "  File \"/usr/local/lib/python3.10/dist-packages/setuptools/_distutils/dist.py\", line 970, in run_commands\r\n",
      "    self.run_command(cmd)\r\n",
      "  File \"/usr/local/lib/python3.10/dist-packages/setuptools/dist.py\", line 956, in run_command\r\n",
      "    super().run_command(command)\r\n",
      "  File \"/usr/local/lib/python3.10/dist-packages/setuptools/_distutils/dist.py\", line 989, in run_command\r\n",
      "    cmd_obj.run()\r\n",
      "  File \"/usr/local/lib/python3.10/dist-packages/setuptools/_distutils/command/build_ext.py\", line 359, in run\r\n",
      "    self.build_extensions()\r\n",
      "  File \"/usr/local/lib/python3.10/dist-packages/setuptools/_distutils/command/build_ext.py\", line 479, in build_extensions\r\n",
      "    self._build_extensions_serial()\r\n",
      "  File \"/usr/local/lib/python3.10/dist-packages/setuptools/_distutils/command/build_ext.py\", line 505, in _build_extensions_serial\r\n",
      "    self.build_extension(ext)\r\n",
      "  File \"/usr/local/lib/python3.10/dist-packages/Cython/Distutils/build_ext.py\", line 130, in build_extension\r\n",
      "    new_ext = cythonize(\r\n",
      "  File \"/usr/local/lib/python3.10/dist-packages/Cython/Build/Dependencies.py\", line 1154, in cythonize\r\n",
      "    cythonize_one(*args)\r\n",
      "  File \"/usr/local/lib/python3.10/dist-packages/Cython/Build/Dependencies.py\", line 1321, in cythonize_one\r\n",
      "    raise CompileError(None, pyx_file)\r\n",
      "Cython.Compiler.Errors.CompileError: Sparse_Matrix_Tree_CSR.pyx\r\n",
      "Traceback (most recent call last):\r\n",
      "  File \"/kaggle/working/RECsys_Challenge2024/run_compile_all_cython.py\", line 60, in <module>\r\n",
      "    run_compile_subprocess(file_path, [file_name])\r\n",
      "  File \"/kaggle/working/RECsys_Challenge2024/CythonCompiler/run_compile_subprocess.py\", line 51, in run_compile_subprocess\r\n",
      "    raise exc\r\n",
      "  File \"/kaggle/working/RECsys_Challenge2024/CythonCompiler/run_compile_subprocess.py\", line 32, in run_compile_subprocess\r\n",
      "    output = subprocess.check_output(' '.join(command),\r\n",
      "  File \"/usr/lib/python3.10/subprocess.py\", line 421, in check_output\r\n",
      "    return run(*popenargs, stdout=PIPE, timeout=timeout, check=True,\r\n",
      "  File \"/usr/lib/python3.10/subprocess.py\", line 526, in run\r\n",
      "    raise CalledProcessError(retcode, process.args,\r\n",
      "subprocess.CalledProcessError: Command '/usr/bin/python3 /kaggle/working/RECsys_Challenge2024/CythonCompiler/compile_script.py Sparse_Matrix_Tree_CSR.pyx build_ext --inplace' returned non-zero exit status 1.\r\n",
      "Compiling [6/11]: Sparse_Matrix_Tree_CSR.pyx... FAIL: Command '/usr/bin/python3 /kaggle/working/RECsys_Challenge2024/CythonCompiler/compile_script.py Sparse_Matrix_Tree_CSR.pyx build_ext --inplace' returned non-zero exit status 1.\r\n",
      "\r\n",
      "Compiling [7/11]: HP3_Similarity_Cython_SGD.pyx... \r\n",
      "performance hint: HP3_Similarity_Cython_SGD.pyx:113:40: Index should be typed for more efficient access\r\n",
      "performance hint: HP3_Similarity_Cython_SGD.pyx:114:40: Index should be typed for more efficient access\r\n",
      "In file included from \u001b[01m\u001b[K/usr/local/lib/python3.10/dist-packages/numpy/core/include/numpy/ndarraytypes.h:1929\u001b[m\u001b[K,\r\n",
      "                 from \u001b[01m\u001b[K/usr/local/lib/python3.10/dist-packages/numpy/core/include/numpy/ndarrayobject.h:12\u001b[m\u001b[K,\r\n",
      "                 from \u001b[01m\u001b[K/usr/local/lib/python3.10/dist-packages/numpy/core/include/numpy/arrayobject.h:5\u001b[m\u001b[K,\r\n",
      "                 from \u001b[01m\u001b[KHP3_Similarity_Cython_SGD.c:1252\u001b[m\u001b[K:\r\n",
      "\u001b[01m\u001b[K/usr/local/lib/python3.10/dist-packages/numpy/core/include/numpy/npy_1_7_deprecated_api.h:17:2:\u001b[m\u001b[K \u001b[01;35m\u001b[Kwarning: \u001b[m\u001b[K#warning \"Using deprecated NumPy API, disable it with \" \"#define NPY_NO_DEPRECATED_API NPY_1_7_API_VERSION\" [\u001b[01;35m\u001b[K\u001b]8;;https://gcc.gnu.org/onlinedocs/gcc/Warning-Options.html#index-Wcpp\u0007-Wcpp\u001b]8;;\u0007\u001b[m\u001b[K]\r\n",
      "   17 | #\u001b[01;35m\u001b[Kwarning\u001b[m\u001b[K \"Using deprecated NumPy API, disable it with \" \\\r\n",
      "      |  \u001b[01;35m\u001b[K^~~~~~~\u001b[m\u001b[K\r\n",
      "\u001b[01m\u001b[KHP3_Similarity_Cython_SGD.c:\u001b[m\u001b[K In function ‘\u001b[01m\u001b[K__pyx_pf_25HP3_Similarity_Cython_SGD_25HP3_Similarity_Cython_SGD_4fit\u001b[m\u001b[K’:\r\n",
      "\u001b[01m\u001b[KHP3_Similarity_Cython_SGD.c:23631:55:\u001b[m\u001b[K \u001b[01;35m\u001b[Kwarning: \u001b[m\u001b[K‘\u001b[01m\u001b[K__pyx_v_sample_num\u001b[m\u001b[K’ may be used uninitialized in this function [\u001b[01;35m\u001b[K\u001b]8;;https://gcc.gnu.org/onlinedocs/gcc/Warning-Options.html#index-Wmaybe-uninitialized\u0007-Wmaybe-uninitialized\u001b]8;;\u0007\u001b[m\u001b[K]\r\n",
      "23631 |   __pyx_t_1 = PyFloat_FromDouble((__pyx_v_cum_loss / \u001b[01;35m\u001b[K((double)__pyx_v_sample_num)\u001b[m\u001b[K)); if (unlikely(!__pyx_t_1)) __PYX_ERR(0, 291, __pyx_L1_error)\r\n",
      "      |                                                      \u001b[01;35m\u001b[K~^~~~~~~~~~~~~~~~~~~~~~~~~~~\u001b[m\u001b[K\r\n",
      "/usr/local/lib/python3.10/dist-packages/Cython/Compiler/Main.py:381: FutureWarning: Cython directive 'language_level' not set, using '3str' for now (Py3). This has changed from earlier releases! File: /kaggle/working/RECsys_Challenge2024/Recommenders/FeatureWeighting/Cython/HP3_Similarity_Cython_SGD.pyx\r\n",
      "  tree = Parsing.p_module(s, pxd, full_module_name)\r\n",
      "performance hint: HP3_Similarity_Cython_SGD.pyx:113:40: Index should be typed for more efficient access\r\n",
      "performance hint: HP3_Similarity_Cython_SGD.pyx:114:40: Index should be typed for more efficient access\r\n",
      "Compiling [7/11]: HP3_Similarity_Cython_SGD.pyx... PASS\r\n",
      "\r\n",
      "Compiling [8/11]: CFW_DVV_Similarity_Cython_SGD.pyx... \r\n",
      "In file included from \u001b[01m\u001b[K/usr/local/lib/python3.10/dist-packages/numpy/core/include/numpy/ndarraytypes.h:1929\u001b[m\u001b[K,\r\n",
      "                 from \u001b[01m\u001b[K/usr/local/lib/python3.10/dist-packages/numpy/core/include/numpy/ndarrayobject.h:12\u001b[m\u001b[K,\r\n",
      "                 from \u001b[01m\u001b[K/usr/local/lib/python3.10/dist-packages/numpy/core/include/numpy/arrayobject.h:5\u001b[m\u001b[K,\r\n",
      "                 from \u001b[01m\u001b[KCFW_DVV_Similarity_Cython_SGD.c:1252\u001b[m\u001b[K:\r\n",
      "\u001b[01m\u001b[K/usr/local/lib/python3.10/dist-packages/numpy/core/include/numpy/npy_1_7_deprecated_api.h:17:2:\u001b[m\u001b[K \u001b[01;35m\u001b[Kwarning: \u001b[m\u001b[K#warning \"Using deprecated NumPy API, disable it with \" \"#define NPY_NO_DEPRECATED_API NPY_1_7_API_VERSION\" [\u001b[01;35m\u001b[K\u001b]8;;https://gcc.gnu.org/onlinedocs/gcc/Warning-Options.html#index-Wcpp\u0007-Wcpp\u001b]8;;\u0007\u001b[m\u001b[K]\r\n",
      "   17 | #\u001b[01;35m\u001b[Kwarning\u001b[m\u001b[K \"Using deprecated NumPy API, disable it with \" \\\r\n",
      "      |  \u001b[01;35m\u001b[K^~~~~~~\u001b[m\u001b[K\r\n",
      "/usr/local/lib/python3.10/dist-packages/Cython/Compiler/Main.py:381: FutureWarning: Cython directive 'language_level' not set, using '3str' for now (Py3). This has changed from earlier releases! File: /kaggle/working/RECsys_Challenge2024/Recommenders/FeatureWeighting/Cython/CFW_DVV_Similarity_Cython_SGD.pyx\r\n",
      "  tree = Parsing.p_module(s, pxd, full_module_name)\r\n",
      "Compiling [8/11]: CFW_DVV_Similarity_Cython_SGD.pyx... PASS\r\n",
      "\r\n",
      "Compiling [9/11]: FBSM_Rating_Cython_SGD.pyx... \r\n",
      "In file included from \u001b[01m\u001b[K/usr/local/lib/python3.10/dist-packages/numpy/core/include/numpy/ndarraytypes.h:1929\u001b[m\u001b[K,\r\n",
      "                 from \u001b[01m\u001b[K/usr/local/lib/python3.10/dist-packages/numpy/core/include/numpy/ndarrayobject.h:12\u001b[m\u001b[K,\r\n",
      "                 from \u001b[01m\u001b[K/usr/local/lib/python3.10/dist-packages/numpy/core/include/numpy/arrayobject.h:5\u001b[m\u001b[K,\r\n",
      "                 from \u001b[01m\u001b[KFBSM_Rating_Cython_SGD.c:1252\u001b[m\u001b[K:\r\n",
      "\u001b[01m\u001b[K/usr/local/lib/python3.10/dist-packages/numpy/core/include/numpy/npy_1_7_deprecated_api.h:17:2:\u001b[m\u001b[K \u001b[01;35m\u001b[Kwarning: \u001b[m\u001b[K#warning \"Using deprecated NumPy API, disable it with \" \"#define NPY_NO_DEPRECATED_API NPY_1_7_API_VERSION\" [\u001b[01;35m\u001b[K\u001b]8;;https://gcc.gnu.org/onlinedocs/gcc/Warning-Options.html#index-Wcpp\u0007-Wcpp\u001b]8;;\u0007\u001b[m\u001b[K]\r\n",
      "   17 | #\u001b[01;35m\u001b[Kwarning\u001b[m\u001b[K \"Using deprecated NumPy API, disable it with \" \\\r\n",
      "      |  \u001b[01;35m\u001b[K^~~~~~~\u001b[m\u001b[K\r\n",
      "\u001b[01m\u001b[KFBSM_Rating_Cython_SGD.c:\u001b[m\u001b[K In function ‘\u001b[01m\u001b[K__pyx_pf_22FBSM_Rating_Cython_SGD_22FBSM_Rating_Cython_SGD_2fit\u001b[m\u001b[K’:\r\n",
      "\u001b[01m\u001b[KFBSM_Rating_Cython_SGD.c:26607:55:\u001b[m\u001b[K \u001b[01;35m\u001b[Kwarning: \u001b[m\u001b[K‘\u001b[01m\u001b[K__pyx_v_num_sample\u001b[m\u001b[K’ may be used uninitialized in this function [\u001b[01;35m\u001b[K\u001b]8;;https://gcc.gnu.org/onlinedocs/gcc/Warning-Options.html#index-Wmaybe-uninitialized\u0007-Wmaybe-uninitialized\u001b]8;;\u0007\u001b[m\u001b[K]\r\n",
      "26607 |   __pyx_t_5 = PyFloat_FromDouble((__pyx_v_cum_loss / \u001b[01;35m\u001b[K((double)__pyx_v_num_sample)\u001b[m\u001b[K)); if (unlikely(!__pyx_t_5)) __PYX_ERR(0, 551, __pyx_L1_error)\r\n",
      "      |                                                      \u001b[01;35m\u001b[K~^~~~~~~~~~~~~~~~~~~~~~~~~~~\u001b[m\u001b[K\r\n",
      "/usr/local/lib/python3.10/dist-packages/Cython/Compiler/Main.py:381: FutureWarning: Cython directive 'language_level' not set, using '3str' for now (Py3). This has changed from earlier releases! File: /kaggle/working/RECsys_Challenge2024/Recommenders/FeatureWeighting/Cython/FBSM_Rating_Cython_SGD.pyx\r\n",
      "  tree = Parsing.p_module(s, pxd, full_module_name)\r\n",
      "Compiling [9/11]: FBSM_Rating_Cython_SGD.pyx... PASS\r\n",
      "\r\n",
      "Compiling [10/11]: CFW_D_Similarity_Cython_SGD.pyx... \r\n",
      "In file included from \u001b[01m\u001b[K/usr/local/lib/python3.10/dist-packages/numpy/core/include/numpy/ndarraytypes.h:1929\u001b[m\u001b[K,\r\n",
      "                 from \u001b[01m\u001b[K/usr/local/lib/python3.10/dist-packages/numpy/core/include/numpy/ndarrayobject.h:12\u001b[m\u001b[K,\r\n",
      "                 from \u001b[01m\u001b[K/usr/local/lib/python3.10/dist-packages/numpy/core/include/numpy/arrayobject.h:5\u001b[m\u001b[K,\r\n",
      "                 from \u001b[01m\u001b[KCFW_D_Similarity_Cython_SGD.c:1252\u001b[m\u001b[K:\r\n",
      "\u001b[01m\u001b[K/usr/local/lib/python3.10/dist-packages/numpy/core/include/numpy/npy_1_7_deprecated_api.h:17:2:\u001b[m\u001b[K \u001b[01;35m\u001b[Kwarning: \u001b[m\u001b[K#warning \"Using deprecated NumPy API, disable it with \" \"#define NPY_NO_DEPRECATED_API NPY_1_7_API_VERSION\" [\u001b[01;35m\u001b[K\u001b]8;;https://gcc.gnu.org/onlinedocs/gcc/Warning-Options.html#index-Wcpp\u0007-Wcpp\u001b]8;;\u0007\u001b[m\u001b[K]\r\n",
      "   17 | #\u001b[01;35m\u001b[Kwarning\u001b[m\u001b[K \"Using deprecated NumPy API, disable it with \" \\\r\n",
      "      |  \u001b[01;35m\u001b[K^~~~~~~\u001b[m\u001b[K\r\n",
      "\u001b[01m\u001b[KCFW_D_Similarity_Cython_SGD.c:\u001b[m\u001b[K In function ‘\u001b[01m\u001b[K__pyx_pf_27CFW_D_Similarity_Cython_SGD_27CFW_D_Similarity_Cython_SGD_6fit\u001b[m\u001b[K’:\r\n",
      "\u001b[01m\u001b[KCFW_D_Similarity_Cython_SGD.c:23373:55:\u001b[m\u001b[K \u001b[01;35m\u001b[Kwarning: \u001b[m\u001b[K‘\u001b[01m\u001b[K__pyx_v_sample_num\u001b[m\u001b[K’ may be used uninitialized in this function [\u001b[01;35m\u001b[K\u001b]8;;https://gcc.gnu.org/onlinedocs/gcc/Warning-Options.html#index-Wmaybe-uninitialized\u0007-Wmaybe-uninitialized\u001b]8;;\u0007\u001b[m\u001b[K]\r\n",
      "23373 |   __pyx_t_3 = PyFloat_FromDouble((__pyx_v_cum_loss / \u001b[01;35m\u001b[K((double)__pyx_v_sample_num)\u001b[m\u001b[K)); if (unlikely(!__pyx_t_3)) __PYX_ERR(0, 290, __pyx_L1_error)\r\n",
      "      |                                                      \u001b[01;35m\u001b[K~^~~~~~~~~~~~~~~~~~~~~~~~~~~\u001b[m\u001b[K\r\n",
      "/usr/local/lib/python3.10/dist-packages/Cython/Compiler/Main.py:381: FutureWarning: Cython directive 'language_level' not set, using '3str' for now (Py3). This has changed from earlier releases! File: /kaggle/working/RECsys_Challenge2024/Recommenders/FeatureWeighting/Cython/CFW_D_Similarity_Cython_SGD.pyx\r\n",
      "  tree = Parsing.p_module(s, pxd, full_module_name)\r\n",
      "Compiling [10/11]: CFW_D_Similarity_Cython_SGD.pyx... PASS\r\n",
      "\r\n",
      "Compiling [11/11]: DataIterator.pyx... \r\n",
      "In file included from \u001b[01m\u001b[K/usr/local/lib/python3.10/dist-packages/numpy/core/include/numpy/ndarraytypes.h:1929\u001b[m\u001b[K,\r\n",
      "                 from \u001b[01m\u001b[K/usr/local/lib/python3.10/dist-packages/numpy/core/include/numpy/ndarrayobject.h:12\u001b[m\u001b[K,\r\n",
      "                 from \u001b[01m\u001b[K/usr/local/lib/python3.10/dist-packages/numpy/core/include/numpy/arrayobject.h:5\u001b[m\u001b[K,\r\n",
      "                 from \u001b[01m\u001b[KDataIterator.c:1252\u001b[m\u001b[K:\r\n",
      "\u001b[01m\u001b[K/usr/local/lib/python3.10/dist-packages/numpy/core/include/numpy/npy_1_7_deprecated_api.h:17:2:\u001b[m\u001b[K \u001b[01;35m\u001b[Kwarning: \u001b[m\u001b[K#warning \"Using deprecated NumPy API, disable it with \" \"#define NPY_NO_DEPRECATED_API NPY_1_7_API_VERSION\" [\u001b[01;35m\u001b[K\u001b]8;;https://gcc.gnu.org/onlinedocs/gcc/Warning-Options.html#index-Wcpp\u0007-Wcpp\u001b]8;;\u0007\u001b[m\u001b[K]\r\n",
      "   17 | #\u001b[01;35m\u001b[Kwarning\u001b[m\u001b[K \"Using deprecated NumPy API, disable it with \" \\\r\n",
      "      |  \u001b[01;35m\u001b[K^~~~~~~\u001b[m\u001b[K\r\n",
      "\u001b[01m\u001b[KDataIterator.c:\u001b[m\u001b[K In function ‘\u001b[01m\u001b[K__pyx_pf_12DataIterator_19InteractionIterator_6__next__\u001b[m\u001b[K’:\r\n",
      "\u001b[01m\u001b[KDataIterator.c:20937:22:\u001b[m\u001b[K \u001b[01;35m\u001b[Kwarning: \u001b[m\u001b[K‘\u001b[01m\u001b[K__pyx_v_i_batch\u001b[m\u001b[K’ may be used uninitialized in this function [\u001b[01;35m\u001b[K\u001b]8;;https://gcc.gnu.org/onlinedocs/gcc/Warning-Options.html#index-Wmaybe-uninitialized\u0007-Wmaybe-uninitialized\u001b]8;;\u0007\u001b[m\u001b[K]\r\n",
      "20937 |     (__pyx_v_i_batch \u001b[01;35m\u001b[K+\u001b[m\u001b[K 1),\r\n",
      "      |                      \u001b[01;35m\u001b[K^\u001b[m\u001b[K\r\n",
      "\u001b[01m\u001b[KDataIterator.c:\u001b[m\u001b[K In function ‘\u001b[01m\u001b[K__pyx_pf_12DataIterator_30InteractionAndNegativeIterator_6__next__\u001b[m\u001b[K’:\r\n",
      "\u001b[01m\u001b[KDataIterator.c:25499:22:\u001b[m\u001b[K \u001b[01;35m\u001b[Kwarning: \u001b[m\u001b[K‘\u001b[01m\u001b[K__pyx_v_i_batch\u001b[m\u001b[K’ may be used uninitialized in this function [\u001b[01;35m\u001b[K\u001b]8;;https://gcc.gnu.org/onlinedocs/gcc/Warning-Options.html#index-Wmaybe-uninitialized\u0007-Wmaybe-uninitialized\u001b]8;;\u0007\u001b[m\u001b[K]\r\n",
      "25499 |     (__pyx_v_i_batch \u001b[01;35m\u001b[K+\u001b[m\u001b[K 1),\r\n",
      "      |                      \u001b[01;35m\u001b[K^\u001b[m\u001b[K\r\n",
      "\u001b[01m\u001b[KDataIterator.c:\u001b[m\u001b[K In function ‘\u001b[01m\u001b[K__pyx_pf_12DataIterator_11BPRIterator_6__next__\u001b[m\u001b[K’:\r\n",
      "\u001b[01m\u001b[KDataIterator.c:23056:22:\u001b[m\u001b[K \u001b[01;35m\u001b[Kwarning: \u001b[m\u001b[K‘\u001b[01m\u001b[K__pyx_v_i_batch\u001b[m\u001b[K’ may be used uninitialized in this function [\u001b[01;35m\u001b[K\u001b]8;;https://gcc.gnu.org/onlinedocs/gcc/Warning-Options.html#index-Wmaybe-uninitialized\u0007-Wmaybe-uninitialized\u001b]8;;\u0007\u001b[m\u001b[K]\r\n",
      "23056 |     (__pyx_v_i_batch \u001b[01;35m\u001b[K+\u001b[m\u001b[K 1),\r\n",
      "      |                      \u001b[01;35m\u001b[K^\u001b[m\u001b[K\r\n",
      "/usr/local/lib/python3.10/dist-packages/Cython/Compiler/Main.py:381: FutureWarning: Cython directive 'language_level' not set, using '3str' for now (Py3). This has changed from earlier releases! File: /kaggle/working/RECsys_Challenge2024/Utils/PyTorch/Cython/DataIterator.pyx\r\n",
      "  tree = Parsing.p_module(s, pxd, full_module_name)\r\n",
      "Compiling [11/11]: DataIterator.pyx... PASS\r\n",
      "\r\n",
      "run_compile_all_cython: Compilation finished. FAILS 2/11.\r\n",
      "Compilation log can be found here: './result_experiments/run_compile_all_cython.txt'\r\n"
     ]
    }
   ],
   "source": [
    "%cd /kaggle/working/RECsys_Challenge2024 \n",
    "! python run_compile_all_cython.py"
   ]
  },
  {
   "cell_type": "code",
   "execution_count": 5,
   "id": "84965e25",
   "metadata": {
    "execution": {
     "iopub.execute_input": "2025-01-05T17:49:19.726610Z",
     "iopub.status.busy": "2025-01-05T17:49:19.726102Z",
     "iopub.status.idle": "2025-01-05T17:49:21.248947Z",
     "shell.execute_reply": "2025-01-05T17:49:21.247407Z"
    },
    "papermill": {
     "duration": 1.541558,
     "end_time": "2025-01-05T17:49:21.251165",
     "exception": false,
     "start_time": "2025-01-05T17:49:19.709607",
     "status": "completed"
    },
    "tags": []
   },
   "outputs": [],
   "source": [
    "from Utils.notebookFunctions import *\n",
    "import numpy as np\n",
    "import pandas as pd\n",
    "import scipy.sparse as sps\n",
    "import time\n",
    "import shutil\n",
    "import optuna\n",
    "import json\n",
    "import os\n",
    "from Utils.seconds_to_biggest_unit import seconds_to_biggest_unit\n",
    "\n",
    "\n",
    "K_PATH = '/kaggle/working/RECsys_Challenge2024'\n",
    "GH_PATH = 'TrainedModels/WithKFCV/KNN'\n",
    "\n",
    "np.random.seed(42)"
   ]
  },
  {
   "cell_type": "markdown",
   "id": "e802f461",
   "metadata": {
    "papermill": {
     "duration": 0.01416,
     "end_time": "2025-01-05T17:49:21.280161",
     "exception": false,
     "start_time": "2025-01-05T17:49:21.266001",
     "status": "completed"
    },
    "tags": []
   },
   "source": [
    "## Import the repository **RECsys_Challenge2024**"
   ]
  },
  {
   "cell_type": "code",
   "execution_count": 6,
   "id": "e979fb37",
   "metadata": {
    "execution": {
     "iopub.execute_input": "2025-01-05T17:49:21.311825Z",
     "iopub.status.busy": "2025-01-05T17:49:21.311139Z",
     "iopub.status.idle": "2025-01-05T17:49:21.589344Z",
     "shell.execute_reply": "2025-01-05T17:49:21.587825Z"
    },
    "papermill": {
     "duration": 0.296529,
     "end_time": "2025-01-05T17:49:21.591334",
     "exception": false,
     "start_time": "2025-01-05T17:49:21.294805",
     "status": "completed"
    },
    "tags": []
   },
   "outputs": [
    {
     "name": "stdout",
     "output_type": "stream",
     "text": [
      "Repository 'RECsys_Challenge2024' found.\n"
     ]
    }
   ],
   "source": [
    "repo = get_repo_from_github(token)"
   ]
  },
  {
   "cell_type": "code",
   "execution_count": 7,
   "id": "00fc9895",
   "metadata": {
    "execution": {
     "iopub.execute_input": "2025-01-05T17:49:21.623849Z",
     "iopub.status.busy": "2025-01-05T17:49:21.623444Z",
     "iopub.status.idle": "2025-01-05T17:49:21.628884Z",
     "shell.execute_reply": "2025-01-05T17:49:21.627525Z"
    },
    "papermill": {
     "duration": 0.023952,
     "end_time": "2025-01-05T17:49:21.631111",
     "exception": false,
     "start_time": "2025-01-05T17:49:21.607159",
     "status": "completed"
    },
    "tags": []
   },
   "outputs": [],
   "source": [
    "config = {\n",
    "    'model': 'ItemKNNCF',\n",
    "    'n_folds': 5,\n",
    "    'metric': 'MAP',\n",
    "    'tune_parameters': True,\n",
    "    'database_path': '/kaggle/working/history_ItemKNNCF_MAP.db',\n",
    "    'copy_prev_best_params': False,\n",
    "    'tune_best_params': True,\n",
    "    'save_github': True\n",
    "}"
   ]
  },
  {
   "cell_type": "markdown",
   "id": "79e6b33a",
   "metadata": {
    "papermill": {
     "duration": 0.014543,
     "end_time": "2025-01-05T17:49:21.661034",
     "exception": false,
     "start_time": "2025-01-05T17:49:21.646491",
     "status": "completed"
    },
    "tags": []
   },
   "source": [
    "Import the database where previous tuning trials have been saved."
   ]
  },
  {
   "cell_type": "code",
   "execution_count": 8,
   "id": "6e71c12f",
   "metadata": {
    "execution": {
     "iopub.execute_input": "2025-01-05T17:49:21.693304Z",
     "iopub.status.busy": "2025-01-05T17:49:21.692852Z",
     "iopub.status.idle": "2025-01-05T17:49:21.699529Z",
     "shell.execute_reply": "2025-01-05T17:49:21.698293Z"
    },
    "papermill": {
     "duration": 0.025404,
     "end_time": "2025-01-05T17:49:21.701764",
     "exception": false,
     "start_time": "2025-01-05T17:49:21.676360",
     "status": "completed"
    },
    "tags": []
   },
   "outputs": [],
   "source": [
    "try:\n",
    "    shutil.copyfile(\n",
    "        f'{K_PATH}/{GH_PATH}/{config[\"model\"]}Recommender/Optimizing{config[\"metric\"]}/history_{config[\"model\"]}_{config[\"metric\"]}.db', \n",
    "        config['database_path']\n",
    "    )\n",
    "except FileNotFoundError:\n",
    "    pass # if not present optuna will create it"
   ]
  },
  {
   "cell_type": "markdown",
   "id": "5679517a",
   "metadata": {
    "papermill": {
     "duration": 0.018896,
     "end_time": "2025-01-05T17:49:21.736269",
     "exception": false,
     "start_time": "2025-01-05T17:49:21.717373",
     "status": "completed"
    },
    "tags": []
   },
   "source": [
    "# Construction of URM and ICM matrices"
   ]
  },
  {
   "cell_type": "code",
   "execution_count": 9,
   "id": "86ac6c84",
   "metadata": {
    "execution": {
     "iopub.execute_input": "2025-01-05T17:49:21.769296Z",
     "iopub.status.busy": "2025-01-05T17:49:21.768871Z",
     "iopub.status.idle": "2025-01-05T17:49:22.643724Z",
     "shell.execute_reply": "2025-01-05T17:49:22.642293Z"
    },
    "papermill": {
     "duration": 0.89365,
     "end_time": "2025-01-05T17:49:22.645639",
     "exception": false,
     "start_time": "2025-01-05T17:49:21.751989",
     "status": "completed"
    },
    "tags": []
   },
   "outputs": [
    {
     "data": {
      "text/plain": [
       "<35736x38121 sparse matrix of type '<class 'numpy.float64'>'\n",
       "\twith 1764607 stored elements in Compressed Sparse Row format>"
      ]
     },
     "execution_count": 9,
     "metadata": {},
     "output_type": "execute_result"
    }
   ],
   "source": [
    "URM_all_dataframe = pd.read_csv(\"/kaggle/input/recommender-system-2024-challenge-polimi/data_train.csv\")\n",
    "\n",
    "n_users = len(URM_all_dataframe[\"user_id\"].unique())\n",
    "n_items = len(URM_all_dataframe[\"item_id\"].unique())\n",
    "\n",
    "URM_all = sps.csr_matrix((URM_all_dataframe[\"data\"].values, \n",
    "                          (URM_all_dataframe[\"user_id\"].values, URM_all_dataframe[\"item_id\"].values)),\n",
    "                        shape = (n_users, n_items))\n",
    "\n",
    "URM_all"
   ]
  },
  {
   "cell_type": "code",
   "execution_count": 10,
   "id": "e08e266f",
   "metadata": {
    "execution": {
     "iopub.execute_input": "2025-01-05T17:49:22.677180Z",
     "iopub.status.busy": "2025-01-05T17:49:22.676820Z",
     "iopub.status.idle": "2025-01-05T17:49:23.970812Z",
     "shell.execute_reply": "2025-01-05T17:49:23.969229Z"
    },
    "papermill": {
     "duration": 1.31228,
     "end_time": "2025-01-05T17:49:23.972998",
     "exception": false,
     "start_time": "2025-01-05T17:49:22.660718",
     "status": "completed"
    },
    "tags": []
   },
   "outputs": [
    {
     "data": {
      "text/plain": [
       "<38121x94331 sparse matrix of type '<class 'numpy.float64'>'\n",
       "\twith 2940040 stored elements in Compressed Sparse Row format>"
      ]
     },
     "execution_count": 10,
     "metadata": {},
     "output_type": "execute_result"
    }
   ],
   "source": [
    "ICM_dataframe = pd.read_csv(\"/kaggle/input/recommender-system-2024-challenge-polimi/data_ICM_metadata.csv\")\n",
    "\n",
    "n_items = len(ICM_dataframe[\"item_id\"].unique())\n",
    "n_features = len(ICM_dataframe[\"feature_id\"].unique())\n",
    "\n",
    "ICM_all = sps.csr_matrix((ICM_dataframe[\"data\"].values, \n",
    "                          (ICM_dataframe[\"item_id\"].values, ICM_dataframe[\"feature_id\"].values)),\n",
    "                        shape = (n_items, n_features))\n",
    "\n",
    "ICM_all"
   ]
  },
  {
   "cell_type": "markdown",
   "id": "1acb0196",
   "metadata": {
    "papermill": {
     "duration": 0.014899,
     "end_time": "2025-01-05T17:49:24.002809",
     "exception": false,
     "start_time": "2025-01-05T17:49:23.987910",
     "status": "completed"
    },
    "tags": []
   },
   "source": [
    "# Training"
   ]
  },
  {
   "cell_type": "code",
   "execution_count": 11,
   "id": "d383bbeb",
   "metadata": {
    "execution": {
     "iopub.execute_input": "2025-01-05T17:49:24.035381Z",
     "iopub.status.busy": "2025-01-05T17:49:24.034988Z",
     "iopub.status.idle": "2025-01-05T17:49:42.392572Z",
     "shell.execute_reply": "2025-01-05T17:49:42.391081Z"
    },
    "papermill": {
     "duration": 18.375977,
     "end_time": "2025-01-05T17:49:42.394940",
     "exception": false,
     "start_time": "2025-01-05T17:49:24.018963",
     "status": "completed"
    },
    "tags": []
   },
   "outputs": [
    {
     "name": "stdout",
     "output_type": "stream",
     "text": [
      "Warning: 141 (0.39 %) of 35736 users have no sampled items\n"
     ]
    }
   ],
   "source": [
    "from Evaluation.Evaluator import EvaluatorHoldout\n",
    "from Data_manager.split_functions.split_train_validation_random_holdout import split_train_in_two_percentage_global_sample\n",
    "from Data_manager.split_functions.split_train_k_folds import split_train_k_folds\n",
    "\n",
    "URM_train, URM_validation = split_train_in_two_percentage_global_sample(URM_all, train_percentage = 0.80)\n",
    "\n",
    "folds = split_train_k_folds(URM_all, k=config['n_folds'])"
   ]
  },
  {
   "cell_type": "code",
   "execution_count": 12,
   "id": "f5ddad62",
   "metadata": {
    "execution": {
     "iopub.execute_input": "2025-01-05T17:49:42.429871Z",
     "iopub.status.busy": "2025-01-05T17:49:42.429449Z",
     "iopub.status.idle": "2025-01-05T17:49:42.448799Z",
     "shell.execute_reply": "2025-01-05T17:49:42.447124Z"
    },
    "papermill": {
     "duration": 0.040028,
     "end_time": "2025-01-05T17:49:42.451304",
     "exception": false,
     "start_time": "2025-01-05T17:49:42.411276",
     "status": "completed"
    },
    "tags": []
   },
   "outputs": [],
   "source": [
    "from Recommenders.KNN.ItemKNNCFRecommender import ItemKNNCFRecommender\n",
    "\n",
    "def objective_function_ItemKNNCF(optuna_trial):\n",
    "    \n",
    "    similarity = optuna_trial.suggest_categorical(\"similarity\", ['cosine', 'dice', 'jaccard', 'asymmetric', 'tversky', 'euclidean'])\n",
    "    \n",
    "    full_hyperp = {\"similarity\": similarity,\n",
    "                   \"topK\": optuna_trial.suggest_int(\"topK\", 0, 750),\n",
    "                   \"shrink\": optuna_trial.suggest_int(\"shrink\", 0, 1000),\n",
    "                   'feature_weighting': optuna_trial.suggest_categorical('feature_weighting', [\"BM25\", \"TF-IDF\", \"none\"])\n",
    "                  }\n",
    "    \n",
    "    if similarity == \"asymmetric\":\n",
    "        full_hyperp[\"asymmetric_alpha\"] = optuna_trial.suggest_float(\"asymmetric_alpha\", 0, 2, log=False)\n",
    "        full_hyperp[\"normalize\"] = True     \n",
    "\n",
    "    elif similarity == \"tversky\":\n",
    "        full_hyperp[\"tversky_alpha\"] = optuna_trial.suggest_float(\"tversky_alpha\", 0, 2, log=False)\n",
    "        full_hyperp[\"tversky_beta\"] = optuna_trial.suggest_float(\"tversky_beta\", 0, 2, log=False)\n",
    "        full_hyperp[\"normalize\"] = True \n",
    "\n",
    "    elif similarity == \"euclidean\":\n",
    "        full_hyperp[\"normalize_avg_row\"] = optuna_trial.suggest_categorical(\"normalize_avg_row\", [True, False])\n",
    "        full_hyperp[\"similarity_from_distance_mode\"] = optuna_trial.suggest_categorical(\"similarity_from_distance_mode\", [\"lin\", \"log\", \"exp\"])\n",
    "        full_hyperp[\"normalize\"] = optuna_trial.suggest_categorical(\"normalize\", [True, False])\n",
    "        \n",
    "    \n",
    "    validation_results = []\n",
    "    \n",
    "    for fold_idx, (URM_train_fold, URM_validation_fold) in enumerate(folds):\n",
    "    \n",
    "        recommender_instance = ItemKNNCFRecommender(URM_train_fold)\n",
    "        recommender_instance.fit(**full_hyperp)\n",
    "        \n",
    "        evaluator = EvaluatorHoldout(URM_validation_fold, cutoff_list=[10])\n",
    "        result_df, _ = evaluator.evaluateRecommender(recommender_instance)\n",
    "        \n",
    "        validation_results.append(result_df.loc[10][\"MAP\"])\n",
    "    \n",
    "    return np.mean(validation_results)"
   ]
  },
  {
   "cell_type": "code",
   "execution_count": 13,
   "id": "e12b2a92",
   "metadata": {
    "_kg_hide-output": true,
    "execution": {
     "iopub.execute_input": "2025-01-05T17:49:42.486967Z",
     "iopub.status.busy": "2025-01-05T17:49:42.486552Z",
     "iopub.status.idle": "2025-01-05T21:26:31.193814Z",
     "shell.execute_reply": "2025-01-05T21:26:31.192387Z"
    },
    "papermill": {
     "duration": 13008.760589,
     "end_time": "2025-01-05T21:26:31.229990",
     "exception": false,
     "start_time": "2025-01-05T17:49:42.469401",
     "status": "completed"
    },
    "tags": []
   },
   "outputs": [
    {
     "name": "stderr",
     "output_type": "stream",
     "text": [
      "[I 2025-01-05 17:49:43,701] Using an existing study with name 'hyperparameters_tuning_ItemKNNCF_MAP' instead of creating a new one.\n"
     ]
    },
    {
     "name": "stdout",
     "output_type": "stream",
     "text": [
      "Similarity column 38121 (100.0%), 2610.61 column/sec. Elapsed time 14.60 sec\n",
      "EvaluatorHoldout: Ignoring 173 ( 0.5%) Users that have less than 1 test interactions\n",
      "EvaluatorHoldout: Processed 35563 (100.0%) in 33.85 sec. Users per second: 1051\n",
      "Similarity column 38121 (100.0%), 2614.01 column/sec. Elapsed time 14.58 sec\n",
      "EvaluatorHoldout: Ignoring 163 ( 0.5%) Users that have less than 1 test interactions\n",
      "EvaluatorHoldout: Processed 35573 (100.0%) in 33.67 sec. Users per second: 1057\n",
      "Similarity column 38121 (100.0%), 2646.51 column/sec. Elapsed time 14.40 sec\n",
      "EvaluatorHoldout: Ignoring 150 ( 0.4%) Users that have less than 1 test interactions\n",
      "EvaluatorHoldout: Processed 35586 (100.0%) in 34.23 sec. Users per second: 1040\n",
      "Similarity column 38121 (100.0%), 2630.59 column/sec. Elapsed time 14.49 sec\n",
      "EvaluatorHoldout: Ignoring 167 ( 0.5%) Users that have less than 1 test interactions\n",
      "EvaluatorHoldout: Processed 35569 (100.0%) in 34.09 sec. Users per second: 1043\n",
      "Similarity column 38121 (100.0%), 2646.89 column/sec. Elapsed time 14.40 sec\n",
      "EvaluatorHoldout: Ignoring 172 ( 0.5%) Users that have less than 1 test interactions\n",
      "EvaluatorHoldout: Processed 35564 (100.0%) in 33.76 sec. Users per second: 1054\n"
     ]
    },
    {
     "name": "stderr",
     "output_type": "stream",
     "text": [
      "[I 2025-01-05 17:53:48,350] Trial 400 finished with value: 0.05296297056819297 and parameters: {'similarity': 'tversky', 'topK': 13, 'shrink': 30, 'feature_weighting': 'none', 'tversky_alpha': 0.0020627851402414688, 'tversky_beta': 1.9262946117616335}. Best is trial 267 with value: 0.05351701566277965.\n"
     ]
    },
    {
     "name": "stdout",
     "output_type": "stream",
     "text": [
      "Similarity column 38121 (100.0%), 2644.40 column/sec. Elapsed time 14.42 sec\n",
      "EvaluatorHoldout: Ignoring 173 ( 0.5%) Users that have less than 1 test interactions\n",
      "EvaluatorHoldout: Processed 35563 (100.0%) in 33.79 sec. Users per second: 1053\n",
      "Similarity column 38121 (100.0%), 2607.79 column/sec. Elapsed time 14.62 sec\n",
      "EvaluatorHoldout: Ignoring 163 ( 0.5%) Users that have less than 1 test interactions\n",
      "EvaluatorHoldout: Processed 35573 (100.0%) in 33.79 sec. Users per second: 1053\n",
      "Similarity column 38121 (100.0%), 2615.23 column/sec. Elapsed time 14.58 sec\n",
      "EvaluatorHoldout: Ignoring 150 ( 0.4%) Users that have less than 1 test interactions\n",
      "EvaluatorHoldout: Processed 35586 (100.0%) in 33.93 sec. Users per second: 1049\n",
      "Similarity column 38121 (100.0%), 2630.92 column/sec. Elapsed time 14.49 sec\n",
      "EvaluatorHoldout: Ignoring 167 ( 0.5%) Users that have less than 1 test interactions\n",
      "EvaluatorHoldout: Processed 35569 (100.0%) in 33.12 sec. Users per second: 1074\n",
      "Similarity column 38121 (100.0%), 2641.01 column/sec. Elapsed time 14.43 sec\n",
      "EvaluatorHoldout: Ignoring 172 ( 0.5%) Users that have less than 1 test interactions\n",
      "EvaluatorHoldout: Processed 35564 (100.0%) in 34.52 sec. Users per second: 1030\n"
     ]
    },
    {
     "name": "stderr",
     "output_type": "stream",
     "text": [
      "[I 2025-01-05 17:57:52,250] Trial 401 finished with value: 0.05180491511054517 and parameters: {'similarity': 'tversky', 'topK': 11, 'shrink': 70, 'feature_weighting': 'none', 'tversky_alpha': 0.003190821263275953, 'tversky_beta': 1.730678955257263}. Best is trial 267 with value: 0.05351701566277965.\n"
     ]
    },
    {
     "name": "stdout",
     "output_type": "stream",
     "text": [
      "Similarity column 38121 (100.0%), 2656.37 column/sec. Elapsed time 14.35 sec\n",
      "EvaluatorHoldout: Ignoring 173 ( 0.5%) Users that have less than 1 test interactions\n",
      "EvaluatorHoldout: Processed 35563 (100.0%) in 36.02 sec. Users per second: 987\n",
      "Similarity column 38121 (100.0%), 2650.06 column/sec. Elapsed time 14.38 sec\n",
      "EvaluatorHoldout: Ignoring 163 ( 0.5%) Users that have less than 1 test interactions\n",
      "EvaluatorHoldout: Processed 35573 (100.0%) in 36.88 sec. Users per second: 964\n",
      "Similarity column 38121 (100.0%), 2628.25 column/sec. Elapsed time 14.50 sec\n",
      "EvaluatorHoldout: Ignoring 150 ( 0.4%) Users that have less than 1 test interactions\n",
      "EvaluatorHoldout: Processed 35586 (100.0%) in 36.78 sec. Users per second: 968\n",
      "Similarity column 38121 (100.0%), 2604.15 column/sec. Elapsed time 14.64 sec\n",
      "EvaluatorHoldout: Ignoring 167 ( 0.5%) Users that have less than 1 test interactions\n",
      "EvaluatorHoldout: Processed 35569 (100.0%) in 35.85 sec. Users per second: 992\n",
      "Similarity column 38121 (100.0%), 2644.07 column/sec. Elapsed time 14.42 sec\n",
      "EvaluatorHoldout: Ignoring 172 ( 0.5%) Users that have less than 1 test interactions\n",
      "EvaluatorHoldout: Processed 35564 (100.0%) in 35.72 sec. Users per second: 996\n"
     ]
    },
    {
     "name": "stderr",
     "output_type": "stream",
     "text": [
      "[I 2025-01-05 18:02:08,147] Trial 402 finished with value: 0.050212445949555984 and parameters: {'similarity': 'tversky', 'topK': 35, 'shrink': 30, 'feature_weighting': 'none', 'tversky_alpha': 0.3840328405838488, 'tversky_beta': 1.9113739327409927}. Best is trial 267 with value: 0.05351701566277965.\n"
     ]
    },
    {
     "name": "stdout",
     "output_type": "stream",
     "text": [
      "Similarity column 38121 (100.0%), 2655.02 column/sec. Elapsed time 14.36 sec\n",
      "EvaluatorHoldout: Ignoring 173 ( 0.5%) Users that have less than 1 test interactions\n",
      "EvaluatorHoldout: Processed 35563 (100.0%) in 35.64 sec. Users per second: 998\n",
      "Similarity column 38121 (100.0%), 2644.72 column/sec. Elapsed time 14.41 sec\n",
      "EvaluatorHoldout: Ignoring 163 ( 0.5%) Users that have less than 1 test interactions\n",
      "EvaluatorHoldout: Processed 35573 (100.0%) in 36.41 sec. Users per second: 977\n",
      "Similarity column 38121 (100.0%), 2657.06 column/sec. Elapsed time 14.35 sec\n",
      "EvaluatorHoldout: Ignoring 150 ( 0.4%) Users that have less than 1 test interactions\n",
      "EvaluatorHoldout: Processed 35586 (100.0%) in 34.65 sec. Users per second: 1027\n",
      "Similarity column 38121 (100.0%), 2601.45 column/sec. Elapsed time 14.65 sec\n",
      "EvaluatorHoldout: Ignoring 167 ( 0.5%) Users that have less than 1 test interactions\n",
      "EvaluatorHoldout: Processed 35569 (100.0%) in 35.71 sec. Users per second: 996\n",
      "Similarity column 38121 (100.0%), 2660.96 column/sec. Elapsed time 14.33 sec\n",
      "EvaluatorHoldout: Ignoring 172 ( 0.5%) Users that have less than 1 test interactions\n",
      "EvaluatorHoldout: Processed 35564 (100.0%) in 35.32 sec. Users per second: 1007\n"
     ]
    },
    {
     "name": "stderr",
     "output_type": "stream",
     "text": [
      "[I 2025-01-05 18:06:20,157] Trial 403 finished with value: 0.04890254911014445 and parameters: {'similarity': 'tversky', 'topK': 24, 'shrink': 93, 'feature_weighting': 'none', 'tversky_alpha': 0.0840999785835524, 'tversky_beta': 1.8692489804922288}. Best is trial 267 with value: 0.05351701566277965.\n"
     ]
    },
    {
     "name": "stdout",
     "output_type": "stream",
     "text": [
      "Similarity column 38121 (100.0%), 2663.51 column/sec. Elapsed time 14.31 sec\n",
      "EvaluatorHoldout: Ignoring 173 ( 0.5%) Users that have less than 1 test interactions\n",
      "EvaluatorHoldout: Processed 35563 (100.0%) in 33.55 sec. Users per second: 1060\n",
      "Similarity column 38121 (100.0%), 2667.04 column/sec. Elapsed time 14.29 sec\n",
      "EvaluatorHoldout: Ignoring 163 ( 0.5%) Users that have less than 1 test interactions\n",
      "EvaluatorHoldout: Processed 35573 (100.0%) in 34.79 sec. Users per second: 1022\n",
      "Similarity column 38121 (100.0%), 2662.26 column/sec. Elapsed time 14.32 sec\n",
      "EvaluatorHoldout: Ignoring 150 ( 0.4%) Users that have less than 1 test interactions\n",
      "EvaluatorHoldout: Processed 35586 (100.0%) in 33.95 sec. Users per second: 1048\n",
      "Similarity column 38121 (100.0%), 2656.86 column/sec. Elapsed time 14.35 sec\n",
      "EvaluatorHoldout: Ignoring 167 ( 0.5%) Users that have less than 1 test interactions\n",
      "EvaluatorHoldout: Processed 35569 (100.0%) in 33.52 sec. Users per second: 1061\n",
      "Similarity column 38121 (100.0%), 2620.05 column/sec. Elapsed time 14.55 sec\n",
      "EvaluatorHoldout: Ignoring 172 ( 0.5%) Users that have less than 1 test interactions\n",
      "EvaluatorHoldout: Processed 35564 (100.0%) in 32.94 sec. Users per second: 1080\n"
     ]
    },
    {
     "name": "stderr",
     "output_type": "stream",
     "text": [
      "[I 2025-01-05 18:10:22,896] Trial 404 finished with value: 0.05234266206143654 and parameters: {'similarity': 'tversky', 'topK': 12, 'shrink': 54, 'feature_weighting': 'none', 'tversky_alpha': 0.03184217190425209, 'tversky_beta': 1.7973978416169676}. Best is trial 267 with value: 0.05351701566277965.\n"
     ]
    },
    {
     "name": "stdout",
     "output_type": "stream",
     "text": [
      "Similarity column 38121 (100.0%), 387.13 column/sec. Elapsed time 1.64 min\n",
      "EvaluatorHoldout: Ignoring 173 ( 0.5%) Users that have less than 1 test interactions\n",
      "EvaluatorHoldout: Processed 35563 (100.0%) in 31.65 sec. Users per second: 1124\n",
      "Similarity column 38121 (100.0%), 385.47 column/sec. Elapsed time 1.65 min\n",
      "EvaluatorHoldout: Ignoring 163 ( 0.5%) Users that have less than 1 test interactions\n",
      "EvaluatorHoldout: Processed 35573 (100.0%) in 31.46 sec. Users per second: 1131\n",
      "Similarity column 38121 (100.0%), 414.03 column/sec. Elapsed time 1.53 min\n",
      "EvaluatorHoldout: Ignoring 150 ( 0.4%) Users that have less than 1 test interactions\n",
      "EvaluatorHoldout: Processed 35586 (100.0%) in 31.38 sec. Users per second: 1134\n",
      "Similarity column 38121 (100.0%), 387.28 column/sec. Elapsed time 1.64 min\n",
      "EvaluatorHoldout: Ignoring 167 ( 0.5%) Users that have less than 1 test interactions\n",
      "EvaluatorHoldout: Processed 35569 (100.0%) in 31.26 sec. Users per second: 1138\n",
      "Similarity column 38121 (100.0%), 395.39 column/sec. Elapsed time 1.61 min\n",
      "EvaluatorHoldout: Ignoring 172 ( 0.5%) Users that have less than 1 test interactions\n",
      "EvaluatorHoldout: Processed 35564 (100.0%) in 30.50 sec. Users per second: 1166\n"
     ]
    },
    {
     "name": "stderr",
     "output_type": "stream",
     "text": [
      "[I 2025-01-05 18:21:04,556] Trial 405 finished with value: 0.027849120432293224 and parameters: {'similarity': 'euclidean', 'topK': 60, 'shrink': 36, 'feature_weighting': 'none', 'normalize_avg_row': True, 'similarity_from_distance_mode': 'lin', 'normalize': False}. Best is trial 267 with value: 0.05351701566277965.\n"
     ]
    },
    {
     "name": "stdout",
     "output_type": "stream",
     "text": [
      "Similarity column 38121 (100.0%), 2615.42 column/sec. Elapsed time 14.58 sec\n",
      "EvaluatorHoldout: Ignoring 173 ( 0.5%) Users that have less than 1 test interactions\n",
      "EvaluatorHoldout: Processed 35563 (100.0%) in 36.15 sec. Users per second: 984\n",
      "Similarity column 38121 (100.0%), 2662.87 column/sec. Elapsed time 14.32 sec\n",
      "EvaluatorHoldout: Ignoring 163 ( 0.5%) Users that have less than 1 test interactions\n",
      "EvaluatorHoldout: Processed 35573 (100.0%) in 36.14 sec. Users per second: 984\n",
      "Similarity column 38121 (100.0%), 2675.19 column/sec. Elapsed time 14.25 sec\n",
      "EvaluatorHoldout: Ignoring 150 ( 0.4%) Users that have less than 1 test interactions\n",
      "EvaluatorHoldout: Processed 35586 (100.0%) in 36.44 sec. Users per second: 976\n",
      "Similarity column 38121 (100.0%), 2645.49 column/sec. Elapsed time 14.41 sec\n",
      "EvaluatorHoldout: Ignoring 167 ( 0.5%) Users that have less than 1 test interactions\n",
      "EvaluatorHoldout: Processed 35569 (100.0%) in 35.36 sec. Users per second: 1006\n",
      "Similarity column 38121 (100.0%), 2629.64 column/sec. Elapsed time 14.50 sec\n",
      "EvaluatorHoldout: Ignoring 172 ( 0.5%) Users that have less than 1 test interactions\n",
      "EvaluatorHoldout: Processed 35564 (100.0%) in 35.60 sec. Users per second: 999\n"
     ]
    },
    {
     "name": "stderr",
     "output_type": "stream",
     "text": [
      "[I 2025-01-05 18:25:18,566] Trial 406 finished with value: 0.050635049291986776 and parameters: {'similarity': 'tversky', 'topK': 33, 'shrink': 22, 'feature_weighting': 'none', 'tversky_alpha': 0.11520324810324054, 'tversky_beta': 1.9367787117901374}. Best is trial 267 with value: 0.05351701566277965.\n"
     ]
    },
    {
     "name": "stdout",
     "output_type": "stream",
     "text": [
      "Similarity column 38121 (100.0%), 3359.92 column/sec. Elapsed time 11.35 sec\n",
      "EvaluatorHoldout: Ignoring 173 ( 0.5%) Users that have less than 1 test interactions\n",
      "EvaluatorHoldout: Processed 35563 (100.0%) in 26.31 sec. Users per second: 1352\n",
      "Similarity column 38121 (100.0%), 3406.08 column/sec. Elapsed time 11.19 sec\n",
      "EvaluatorHoldout: Ignoring 163 ( 0.5%) Users that have less than 1 test interactions\n",
      "EvaluatorHoldout: Processed 35573 (100.0%) in 27.50 sec. Users per second: 1293\n",
      "Similarity column 38121 (100.0%), 3418.90 column/sec. Elapsed time 11.15 sec\n",
      "EvaluatorHoldout: Ignoring 150 ( 0.4%) Users that have less than 1 test interactions\n",
      "EvaluatorHoldout: Processed 35586 (100.0%) in 27.66 sec. Users per second: 1287\n",
      "Similarity column 38121 (100.0%), 3443.75 column/sec. Elapsed time 11.07 sec\n",
      "EvaluatorHoldout: Ignoring 167 ( 0.5%) Users that have less than 1 test interactions\n",
      "EvaluatorHoldout: Processed 35569 (100.0%) in 27.23 sec. Users per second: 1306\n",
      "Similarity column 38121 (100.0%), 3414.15 column/sec. Elapsed time 11.17 sec\n",
      "EvaluatorHoldout: Ignoring 172 ( 0.5%) Users that have less than 1 test interactions\n",
      "EvaluatorHoldout: Processed 35564 (100.0%) in 27.70 sec. Users per second: 1284\n"
     ]
    },
    {
     "name": "stderr",
     "output_type": "stream",
     "text": [
      "[I 2025-01-05 18:28:32,977] Trial 407 finished with value: 0.0002664826418719655 and parameters: {'similarity': 'tversky', 'topK': 0, 'shrink': 77, 'feature_weighting': 'none', 'tversky_alpha': 0.05882862185566777, 'tversky_beta': 1.616697027286068}. Best is trial 267 with value: 0.05351701566277965.\n"
     ]
    },
    {
     "name": "stdout",
     "output_type": "stream",
     "text": [
      "Similarity column 38121 (100.0%), 3989.21 column/sec. Elapsed time 9.56 sec\n",
      "EvaluatorHoldout: Ignoring 173 ( 0.5%) Users that have less than 1 test interactions\n",
      "EvaluatorHoldout: Processed 35563 (100.0%) in 27.40 sec. Users per second: 1298\n",
      "Similarity column 38121 (100.0%), 3982.12 column/sec. Elapsed time 9.57 sec\n",
      "EvaluatorHoldout: Ignoring 163 ( 0.5%) Users that have less than 1 test interactions\n",
      "EvaluatorHoldout: Processed 35573 (100.0%) in 27.46 sec. Users per second: 1295\n",
      "Similarity column 38121 (100.0%), 3936.22 column/sec. Elapsed time 9.68 sec\n",
      "EvaluatorHoldout: Ignoring 150 ( 0.4%) Users that have less than 1 test interactions\n",
      "EvaluatorHoldout: Processed 35586 (100.0%) in 27.29 sec. Users per second: 1304\n",
      "Similarity column 38121 (100.0%), 3957.13 column/sec. Elapsed time 9.63 sec\n",
      "EvaluatorHoldout: Ignoring 167 ( 0.5%) Users that have less than 1 test interactions\n",
      "EvaluatorHoldout: Processed 35569 (100.0%) in 27.40 sec. Users per second: 1298\n",
      "Similarity column 38121 (100.0%), 3870.69 column/sec. Elapsed time 9.85 sec\n",
      "EvaluatorHoldout: Ignoring 172 ( 0.5%) Users that have less than 1 test interactions\n",
      "EvaluatorHoldout: Processed 35564 (100.0%) in 27.05 sec. Users per second: 1315\n"
     ]
    },
    {
     "name": "stderr",
     "output_type": "stream",
     "text": [
      "[I 2025-01-05 18:31:39,867] Trial 408 finished with value: 0.0002664826418719655 and parameters: {'similarity': 'dice', 'topK': 0, 'shrink': 51, 'feature_weighting': 'none'}. Best is trial 267 with value: 0.05351701566277965.\n"
     ]
    },
    {
     "name": "stdout",
     "output_type": "stream",
     "text": [
      "Similarity column 38121 (100.0%), 2603.52 column/sec. Elapsed time 14.64 sec\n",
      "EvaluatorHoldout: Ignoring 173 ( 0.5%) Users that have less than 1 test interactions\n",
      "EvaluatorHoldout: Processed 35563 (100.0%) in 36.38 sec. Users per second: 978\n",
      "Similarity column 38121 (100.0%), 2628.03 column/sec. Elapsed time 14.51 sec\n",
      "EvaluatorHoldout: Ignoring 163 ( 0.5%) Users that have less than 1 test interactions\n",
      "EvaluatorHoldout: Processed 35573 (100.0%) in 36.44 sec. Users per second: 976\n",
      "Similarity column 38121 (100.0%), 2635.09 column/sec. Elapsed time 14.47 sec\n",
      "EvaluatorHoldout: Ignoring 150 ( 0.4%) Users that have less than 1 test interactions\n",
      "EvaluatorHoldout: Processed 35586 (100.0%) in 36.69 sec. Users per second: 970\n",
      "Similarity column 38121 (100.0%), 2619.63 column/sec. Elapsed time 14.55 sec\n",
      "EvaluatorHoldout: Ignoring 167 ( 0.5%) Users that have less than 1 test interactions\n",
      "EvaluatorHoldout: Processed 35569 (100.0%) in 37.38 sec. Users per second: 951\n",
      "Similarity column 38121 (100.0%), 2575.53 column/sec. Elapsed time 14.80 sec\n",
      "EvaluatorHoldout: Ignoring 172 ( 0.5%) Users that have less than 1 test interactions\n",
      "EvaluatorHoldout: Processed 35564 (100.0%) in 35.99 sec. Users per second: 988\n"
     ]
    },
    {
     "name": "stderr",
     "output_type": "stream",
     "text": [
      "[I 2025-01-05 18:35:58,208] Trial 409 finished with value: 0.04935880437197928 and parameters: {'similarity': 'tversky', 'topK': 44, 'shrink': 27, 'feature_weighting': 'none', 'tversky_alpha': 0.003536086296488057, 'tversky_beta': 1.856557175925657}. Best is trial 267 with value: 0.05351701566277965.\n"
     ]
    },
    {
     "name": "stdout",
     "output_type": "stream",
     "text": [
      "Similarity column 38121 (100.0%), 2631.87 column/sec. Elapsed time 14.48 sec\n",
      "EvaluatorHoldout: Ignoring 173 ( 0.5%) Users that have less than 1 test interactions\n",
      "EvaluatorHoldout: Processed 35563 (100.0%) in 35.19 sec. Users per second: 1011\n",
      "Similarity column 38121 (100.0%), 2613.14 column/sec. Elapsed time 14.59 sec\n",
      "EvaluatorHoldout: Ignoring 163 ( 0.5%) Users that have less than 1 test interactions\n",
      "EvaluatorHoldout: Processed 35573 (100.0%) in 35.66 sec. Users per second: 998\n",
      "Similarity column 38121 (100.0%), 2667.86 column/sec. Elapsed time 14.29 sec\n",
      "EvaluatorHoldout: Ignoring 150 ( 0.4%) Users that have less than 1 test interactions\n",
      "EvaluatorHoldout: Processed 35586 (100.0%) in 36.00 sec. Users per second: 988\n",
      "Similarity column 38121 (100.0%), 2635.96 column/sec. Elapsed time 14.46 sec\n",
      "EvaluatorHoldout: Ignoring 167 ( 0.5%) Users that have less than 1 test interactions\n",
      "EvaluatorHoldout: Processed 35569 (100.0%) in 35.33 sec. Users per second: 1007\n",
      "Similarity column 38121 (100.0%), 2640.89 column/sec. Elapsed time 14.43 sec\n",
      "EvaluatorHoldout: Ignoring 172 ( 0.5%) Users that have less than 1 test interactions\n",
      "EvaluatorHoldout: Processed 35564 (100.0%) in 35.01 sec. Users per second: 1016\n"
     ]
    },
    {
     "name": "stderr",
     "output_type": "stream",
     "text": [
      "[I 2025-01-05 18:40:09,832] Trial 410 finished with value: 0.050337888151667606 and parameters: {'similarity': 'tversky', 'topK': 22, 'shrink': 65, 'feature_weighting': 'none', 'tversky_alpha': 0.2654871434447077, 'tversky_beta': 1.8990071399792567}. Best is trial 267 with value: 0.05351701566277965.\n"
     ]
    },
    {
     "name": "stdout",
     "output_type": "stream",
     "text": [
      "Similarity column 38121 (100.0%), 2637.24 column/sec. Elapsed time 14.45 sec\n",
      "EvaluatorHoldout: Ignoring 173 ( 0.5%) Users that have less than 1 test interactions\n",
      "EvaluatorHoldout: Processed 35563 (100.0%) in 33.29 sec. Users per second: 1068\n",
      "Similarity column 38121 (100.0%), 2626.82 column/sec. Elapsed time 14.51 sec\n",
      "EvaluatorHoldout: Ignoring 163 ( 0.5%) Users that have less than 1 test interactions\n",
      "EvaluatorHoldout: Processed 35573 (100.0%) in 34.59 sec. Users per second: 1028\n",
      "Similarity column 38121 (100.0%), 2656.91 column/sec. Elapsed time 14.35 sec\n",
      "EvaluatorHoldout: Ignoring 150 ( 0.4%) Users that have less than 1 test interactions\n",
      "EvaluatorHoldout: Processed 35586 (100.0%) in 34.52 sec. Users per second: 1031\n",
      "Similarity column 38121 (100.0%), 2647.28 column/sec. Elapsed time 14.40 sec\n",
      "EvaluatorHoldout: Ignoring 167 ( 0.5%) Users that have less than 1 test interactions\n",
      "EvaluatorHoldout: Processed 35569 (100.0%) in 34.48 sec. Users per second: 1032\n",
      "Similarity column 38121 (100.0%), 2663.35 column/sec. Elapsed time 14.31 sec\n",
      "EvaluatorHoldout: Ignoring 172 ( 0.5%) Users that have less than 1 test interactions\n",
      "EvaluatorHoldout: Processed 35564 (100.0%) in 34.53 sec. Users per second: 1030\n"
     ]
    },
    {
     "name": "stderr",
     "output_type": "stream",
     "text": [
      "[I 2025-01-05 18:44:15,372] Trial 411 finished with value: 0.05271727528864534 and parameters: {'similarity': 'tversky', 'topK': 14, 'shrink': 37, 'feature_weighting': 'none', 'tversky_alpha': 0.07017320830993248, 'tversky_beta': 1.947601143188213}. Best is trial 267 with value: 0.05351701566277965.\n"
     ]
    },
    {
     "name": "stdout",
     "output_type": "stream",
     "text": [
      "Similarity column 38121 (100.0%), 2629.56 column/sec. Elapsed time 14.50 sec\n",
      "EvaluatorHoldout: Ignoring 173 ( 0.5%) Users that have less than 1 test interactions\n",
      "EvaluatorHoldout: Processed 35563 (100.0%) in 35.68 sec. Users per second: 997\n",
      "Similarity column 38121 (100.0%), 2651.72 column/sec. Elapsed time 14.38 sec\n",
      "EvaluatorHoldout: Ignoring 163 ( 0.5%) Users that have less than 1 test interactions\n",
      "EvaluatorHoldout: Processed 35573 (100.0%) in 35.15 sec. Users per second: 1012\n",
      "Similarity column 38121 (100.0%), 2642.01 column/sec. Elapsed time 14.43 sec\n",
      "EvaluatorHoldout: Ignoring 150 ( 0.4%) Users that have less than 1 test interactions\n",
      "EvaluatorHoldout: Processed 35586 (100.0%) in 35.89 sec. Users per second: 992\n",
      "Similarity column 38121 (100.0%), 2605.20 column/sec. Elapsed time 14.63 sec\n",
      "EvaluatorHoldout: Ignoring 167 ( 0.5%) Users that have less than 1 test interactions\n",
      "EvaluatorHoldout: Processed 35569 (100.0%) in 36.33 sec. Users per second: 979\n",
      "Similarity column 38121 (100.0%), 2655.61 column/sec. Elapsed time 14.35 sec\n",
      "EvaluatorHoldout: Ignoring 172 ( 0.5%) Users that have less than 1 test interactions\n",
      "EvaluatorHoldout: Processed 35564 (100.0%) in 36.12 sec. Users per second: 985\n"
     ]
    },
    {
     "name": "stderr",
     "output_type": "stream",
     "text": [
      "[I 2025-01-05 18:48:29,093] Trial 412 finished with value: 0.05030022352294915 and parameters: {'similarity': 'tversky', 'topK': 37, 'shrink': 17, 'feature_weighting': 'none', 'tversky_alpha': 0.15873235302058938, 'tversky_beta': 1.7635325074074875}. Best is trial 267 with value: 0.05351701566277965.\n"
     ]
    },
    {
     "name": "stdout",
     "output_type": "stream",
     "text": [
      "Similarity column 38121 (100.0%), 3407.33 column/sec. Elapsed time 11.19 sec\n",
      "EvaluatorHoldout: Ignoring 173 ( 0.5%) Users that have less than 1 test interactions\n",
      "EvaluatorHoldout: Processed 35563 (100.0%) in 27.57 sec. Users per second: 1290\n",
      "Similarity column 38121 (100.0%), 3410.83 column/sec. Elapsed time 11.18 sec\n",
      "EvaluatorHoldout: Ignoring 163 ( 0.5%) Users that have less than 1 test interactions\n",
      "EvaluatorHoldout: Processed 35573 (100.0%) in 27.57 sec. Users per second: 1290\n",
      "Similarity column 38121 (100.0%), 3413.28 column/sec. Elapsed time 11.17 sec\n",
      "EvaluatorHoldout: Ignoring 150 ( 0.4%) Users that have less than 1 test interactions\n",
      "EvaluatorHoldout: Processed 35586 (100.0%) in 27.42 sec. Users per second: 1298\n",
      "Similarity column 38121 (100.0%), 3423.44 column/sec. Elapsed time 11.14 sec\n",
      "EvaluatorHoldout: Ignoring 167 ( 0.5%) Users that have less than 1 test interactions\n",
      "EvaluatorHoldout: Processed 35569 (100.0%) in 27.40 sec. Users per second: 1298\n",
      "Similarity column 38121 (100.0%), 3398.15 column/sec. Elapsed time 11.22 sec\n",
      "EvaluatorHoldout: Ignoring 172 ( 0.5%) Users that have less than 1 test interactions\n",
      "EvaluatorHoldout: Processed 35564 (100.0%) in 27.20 sec. Users per second: 1308\n"
     ]
    },
    {
     "name": "stderr",
     "output_type": "stream",
     "text": [
      "[I 2025-01-05 18:51:44,063] Trial 413 finished with value: 0.0002664826418719655 and parameters: {'similarity': 'tversky', 'topK': 0, 'shrink': 46, 'feature_weighting': 'none', 'tversky_alpha': 1.194277798412257, 'tversky_beta': 1.831523648786906}. Best is trial 267 with value: 0.05351701566277965.\n"
     ]
    },
    {
     "name": "stdout",
     "output_type": "stream",
     "text": [
      "Similarity column 38121 (100.0%), 2667.73 column/sec. Elapsed time 14.29 sec\n",
      "EvaluatorHoldout: Ignoring 173 ( 0.5%) Users that have less than 1 test interactions\n",
      "EvaluatorHoldout: Processed 35563 (100.0%) in 35.23 sec. Users per second: 1010\n",
      "Similarity column 38121 (100.0%), 2679.72 column/sec. Elapsed time 14.23 sec\n",
      "EvaluatorHoldout: Ignoring 163 ( 0.5%) Users that have less than 1 test interactions\n",
      "EvaluatorHoldout: Processed 35573 (100.0%) in 35.28 sec. Users per second: 1008\n",
      "Similarity column 38121 (100.0%), 2646.72 column/sec. Elapsed time 14.40 sec\n",
      "EvaluatorHoldout: Ignoring 150 ( 0.4%) Users that have less than 1 test interactions\n",
      "EvaluatorHoldout: Processed 35586 (100.0%) in 35.26 sec. Users per second: 1009\n",
      "Similarity column 38121 (100.0%), 2653.60 column/sec. Elapsed time 14.37 sec\n",
      "EvaluatorHoldout: Ignoring 167 ( 0.5%) Users that have less than 1 test interactions\n",
      "EvaluatorHoldout: Processed 35569 (100.0%) in 34.89 sec. Users per second: 1019\n",
      "Similarity column 38121 (100.0%), 2663.70 column/sec. Elapsed time 14.31 sec\n",
      "EvaluatorHoldout: Ignoring 172 ( 0.5%) Users that have less than 1 test interactions\n",
      "EvaluatorHoldout: Processed 35564 (100.0%) in 34.48 sec. Users per second: 1031\n"
     ]
    },
    {
     "name": "stderr",
     "output_type": "stream",
     "text": [
      "[I 2025-01-05 18:55:53,028] Trial 414 finished with value: 0.051399042321652356 and parameters: {'similarity': 'tversky', 'topK': 26, 'shrink': 18, 'feature_weighting': 'none', 'tversky_alpha': 0.0332005043448239, 'tversky_beta': 1.8813243556438306}. Best is trial 267 with value: 0.05351701566277965.\n"
     ]
    },
    {
     "name": "stdout",
     "output_type": "stream",
     "text": [
      "Similarity column 38121 (100.0%), 2641.15 column/sec. Elapsed time 14.43 sec\n",
      "EvaluatorHoldout: Ignoring 173 ( 0.5%) Users that have less than 1 test interactions\n",
      "EvaluatorHoldout: Processed 35563 (100.0%) in 32.60 sec. Users per second: 1091\n",
      "Similarity column 38121 (100.0%), 2626.70 column/sec. Elapsed time 14.51 sec\n",
      "EvaluatorHoldout: Ignoring 163 ( 0.5%) Users that have less than 1 test interactions\n",
      "EvaluatorHoldout: Processed 35573 (100.0%) in 33.60 sec. Users per second: 1059\n",
      "Similarity column 38121 (100.0%), 2645.28 column/sec. Elapsed time 14.41 sec\n",
      "EvaluatorHoldout: Ignoring 150 ( 0.4%) Users that have less than 1 test interactions\n",
      "EvaluatorHoldout: Processed 35586 (100.0%) in 34.00 sec. Users per second: 1047\n",
      "Similarity column 38121 (100.0%), 2669.02 column/sec. Elapsed time 14.28 sec\n",
      "EvaluatorHoldout: Ignoring 167 ( 0.5%) Users that have less than 1 test interactions\n",
      "EvaluatorHoldout: Processed 35569 (100.0%) in 33.82 sec. Users per second: 1052\n",
      "Similarity column 38121 (100.0%), 2664.54 column/sec. Elapsed time 14.31 sec\n",
      "EvaluatorHoldout: Ignoring 172 ( 0.5%) Users that have less than 1 test interactions\n",
      "EvaluatorHoldout: Processed 35564 (100.0%) in 32.68 sec. Users per second: 1088\n"
     ]
    },
    {
     "name": "stderr",
     "output_type": "stream",
     "text": [
      "[I 2025-01-05 18:59:54,325] Trial 415 finished with value: 0.046372146682097506 and parameters: {'similarity': 'tversky', 'topK': 13, 'shrink': 0, 'feature_weighting': 'BM25', 'tversky_alpha': 0.10461847577199586, 'tversky_beta': 1.965549609066855}. Best is trial 267 with value: 0.05351701566277965.\n"
     ]
    },
    {
     "name": "stdout",
     "output_type": "stream",
     "text": [
      "Similarity column 38121 (100.0%), 2651.03 column/sec. Elapsed time 14.38 sec\n",
      "EvaluatorHoldout: Ignoring 173 ( 0.5%) Users that have less than 1 test interactions\n",
      "EvaluatorHoldout: Processed 35563 (100.0%) in 38.10 sec. Users per second: 933\n",
      "Similarity column 38121 (100.0%), 2634.53 column/sec. Elapsed time 14.47 sec\n",
      "EvaluatorHoldout: Ignoring 163 ( 0.5%) Users that have less than 1 test interactions\n",
      "EvaluatorHoldout: Processed 35573 (100.0%) in 38.04 sec. Users per second: 935\n",
      "Similarity column 38121 (100.0%), 2626.30 column/sec. Elapsed time 14.52 sec\n",
      "EvaluatorHoldout: Ignoring 150 ( 0.4%) Users that have less than 1 test interactions\n",
      "EvaluatorHoldout: Processed 35586 (100.0%) in 38.35 sec. Users per second: 928\n",
      "Similarity column 38121 (100.0%), 2653.10 column/sec. Elapsed time 14.37 sec\n",
      "EvaluatorHoldout: Ignoring 167 ( 0.5%) Users that have less than 1 test interactions\n",
      "EvaluatorHoldout: Processed 35569 (100.0%) in 38.04 sec. Users per second: 935\n",
      "Similarity column 38121 (100.0%), 2647.31 column/sec. Elapsed time 14.40 sec\n",
      "EvaluatorHoldout: Ignoring 172 ( 0.5%) Users that have less than 1 test interactions\n",
      "EvaluatorHoldout: Processed 35564 (100.0%) in 37.52 sec. Users per second: 948\n"
     ]
    },
    {
     "name": "stderr",
     "output_type": "stream",
     "text": [
      "[I 2025-01-05 19:04:18,921] Trial 416 finished with value: 0.048470575750490075 and parameters: {'similarity': 'tversky', 'topK': 48, 'shrink': 63, 'feature_weighting': 'none', 'tversky_alpha': 0.8950332692027677, 'tversky_beta': 1.925943138314082}. Best is trial 267 with value: 0.05351701566277965.\n"
     ]
    },
    {
     "name": "stdout",
     "output_type": "stream",
     "text": [
      "Similarity column 38121 (100.0%), 2653.48 column/sec. Elapsed time 14.37 sec\n",
      "EvaluatorHoldout: Ignoring 173 ( 0.5%) Users that have less than 1 test interactions\n",
      "EvaluatorHoldout: Processed 35563 (100.0%) in 37.03 sec. Users per second: 960\n",
      "Similarity column 38121 (100.0%), 2630.21 column/sec. Elapsed time 14.49 sec\n",
      "EvaluatorHoldout: Ignoring 163 ( 0.5%) Users that have less than 1 test interactions\n",
      "EvaluatorHoldout: Processed 35573 (100.0%) in 36.34 sec. Users per second: 979\n",
      "Similarity column 38121 (100.0%), 2689.47 column/sec. Elapsed time 14.17 sec\n",
      "EvaluatorHoldout: Ignoring 150 ( 0.4%) Users that have less than 1 test interactions\n",
      "EvaluatorHoldout: Processed 35586 (100.0%) in 36.58 sec. Users per second: 973\n",
      "Similarity column 38121 (100.0%), 2661.58 column/sec. Elapsed time 14.32 sec\n",
      "EvaluatorHoldout: Ignoring 167 ( 0.5%) Users that have less than 1 test interactions\n",
      "EvaluatorHoldout: Processed 35569 (100.0%) in 36.81 sec. Users per second: 966\n",
      "Similarity column 38121 (100.0%), 2682.15 column/sec. Elapsed time 14.21 sec\n",
      "EvaluatorHoldout: Ignoring 172 ( 0.5%) Users that have less than 1 test interactions\n",
      "EvaluatorHoldout: Processed 35564 (100.0%) in 36.47 sec. Users per second: 975\n"
     ]
    },
    {
     "name": "stderr",
     "output_type": "stream",
     "text": [
      "[I 2025-01-05 19:08:35,923] Trial 417 finished with value: 0.041358792111946055 and parameters: {'similarity': 'tversky', 'topK': 23, 'shrink': 482, 'feature_weighting': 'none', 'tversky_alpha': 0.030559033289604957, 'tversky_beta': 1.8082534361914515}. Best is trial 267 with value: 0.05351701566277965.\n"
     ]
    },
    {
     "name": "stdout",
     "output_type": "stream",
     "text": [
      "Similarity column 38121 (100.0%), 2645.88 column/sec. Elapsed time 14.41 sec\n",
      "EvaluatorHoldout: Ignoring 173 ( 0.5%) Users that have less than 1 test interactions\n",
      "EvaluatorHoldout: Processed 35563 (100.0%) in 32.61 sec. Users per second: 1091\n",
      "Similarity column 38121 (100.0%), 2617.44 column/sec. Elapsed time 14.56 sec\n",
      "EvaluatorHoldout: Ignoring 163 ( 0.5%) Users that have less than 1 test interactions\n",
      "EvaluatorHoldout: Processed 35573 (100.0%) in 32.36 sec. Users per second: 1099\n",
      "Similarity column 38121 (100.0%), 2668.60 column/sec. Elapsed time 14.28 sec\n",
      "EvaluatorHoldout: Ignoring 150 ( 0.4%) Users that have less than 1 test interactions\n",
      "EvaluatorHoldout: Processed 35586 (100.0%) in 32.94 sec. Users per second: 1080\n",
      "Similarity column 38121 (100.0%), 2654.78 column/sec. Elapsed time 14.36 sec\n",
      "EvaluatorHoldout: Ignoring 167 ( 0.5%) Users that have less than 1 test interactions\n",
      "EvaluatorHoldout: Processed 35569 (100.0%) in 33.56 sec. Users per second: 1060\n",
      "Similarity column 38121 (100.0%), 2650.75 column/sec. Elapsed time 14.38 sec\n",
      "EvaluatorHoldout: Ignoring 172 ( 0.5%) Users that have less than 1 test interactions\n",
      "EvaluatorHoldout: Processed 35564 (100.0%) in 33.56 sec. Users per second: 1060\n"
     ]
    },
    {
     "name": "stderr",
     "output_type": "stream",
     "text": [
      "[I 2025-01-05 19:12:35,006] Trial 418 finished with value: 0.053440919475009716 and parameters: {'similarity': 'tversky', 'topK': 11, 'shrink': 35, 'feature_weighting': 'none', 'tversky_alpha': 0.07608553025326864, 'tversky_beta': 1.8607542819242306}. Best is trial 267 with value: 0.05351701566277965.\n"
     ]
    },
    {
     "name": "stdout",
     "output_type": "stream",
     "text": [
      "Similarity column 38121 (100.0%), 2782.48 column/sec. Elapsed time 13.70 sec\n",
      "EvaluatorHoldout: Ignoring 173 ( 0.5%) Users that have less than 1 test interactions\n",
      "EvaluatorHoldout: Processed 35563 (100.0%) in 37.75 sec. Users per second: 942\n",
      "Similarity column 38121 (100.0%), 2780.21 column/sec. Elapsed time 13.71 sec\n",
      "EvaluatorHoldout: Ignoring 163 ( 0.5%) Users that have less than 1 test interactions\n",
      "EvaluatorHoldout: Processed 35573 (100.0%) in 37.47 sec. Users per second: 949\n",
      "Similarity column 38121 (100.0%), 2738.00 column/sec. Elapsed time 13.92 sec\n",
      "EvaluatorHoldout: Ignoring 150 ( 0.4%) Users that have less than 1 test interactions\n",
      "EvaluatorHoldout: Processed 35586 (100.0%) in 37.62 sec. Users per second: 946\n",
      "Similarity column 38121 (100.0%), 2731.24 column/sec. Elapsed time 13.96 sec\n",
      "EvaluatorHoldout: Ignoring 167 ( 0.5%) Users that have less than 1 test interactions\n",
      "EvaluatorHoldout: Processed 35569 (100.0%) in 37.98 sec. Users per second: 936\n",
      "Similarity column 38121 (100.0%), 2808.82 column/sec. Elapsed time 13.57 sec\n",
      "EvaluatorHoldout: Ignoring 172 ( 0.5%) Users that have less than 1 test interactions\n",
      "EvaluatorHoldout: Processed 35564 (100.0%) in 38.38 sec. Users per second: 927\n"
     ]
    },
    {
     "name": "stderr",
     "output_type": "stream",
     "text": [
      "[I 2025-01-05 19:16:54,501] Trial 419 finished with value: 0.044915015556158844 and parameters: {'similarity': 'asymmetric', 'topK': 35, 'shrink': 95, 'feature_weighting': 'none', 'asymmetric_alpha': 0.3358798962059333}. Best is trial 267 with value: 0.05351701566277965.\n"
     ]
    },
    {
     "name": "stdout",
     "output_type": "stream",
     "text": [
      "Similarity column 38121 (100.0%), 2673.76 column/sec. Elapsed time 14.26 sec\n",
      "EvaluatorHoldout: Ignoring 173 ( 0.5%) Users that have less than 1 test interactions\n",
      "EvaluatorHoldout: Processed 35563 (100.0%) in 33.38 sec. Users per second: 1065\n",
      "Similarity column 38121 (100.0%), 2666.18 column/sec. Elapsed time 14.30 sec\n",
      "EvaluatorHoldout: Ignoring 163 ( 0.5%) Users that have less than 1 test interactions\n",
      "EvaluatorHoldout: Processed 35573 (100.0%) in 32.84 sec. Users per second: 1083\n",
      "Similarity column 38121 (100.0%), 2659.57 column/sec. Elapsed time 14.33 sec\n",
      "EvaluatorHoldout: Ignoring 150 ( 0.4%) Users that have less than 1 test interactions\n",
      "EvaluatorHoldout: Processed 35586 (100.0%) in 32.96 sec. Users per second: 1080\n",
      "Similarity column 38121 (100.0%), 2634.69 column/sec. Elapsed time 14.47 sec\n",
      "EvaluatorHoldout: Ignoring 167 ( 0.5%) Users that have less than 1 test interactions\n",
      "EvaluatorHoldout: Processed 35569 (100.0%) in 33.22 sec. Users per second: 1071\n",
      "Similarity column 38121 (100.0%), 2623.08 column/sec. Elapsed time 14.53 sec\n",
      "EvaluatorHoldout: Ignoring 172 ( 0.5%) Users that have less than 1 test interactions\n",
      "EvaluatorHoldout: Processed 35564 (100.0%) in 33.36 sec. Users per second: 1066\n"
     ]
    },
    {
     "name": "stderr",
     "output_type": "stream",
     "text": [
      "[I 2025-01-05 19:20:54,241] Trial 420 finished with value: 0.05281217814385904 and parameters: {'similarity': 'tversky', 'topK': 11, 'shrink': 49, 'feature_weighting': 'none', 'tversky_alpha': 0.0002997800683112034, 'tversky_beta': 1.8526857289794005}. Best is trial 267 with value: 0.05351701566277965.\n"
     ]
    },
    {
     "name": "stdout",
     "output_type": "stream",
     "text": [
      "Similarity column 38121 (100.0%), 2676.90 column/sec. Elapsed time 14.24 sec\n",
      "EvaluatorHoldout: Ignoring 173 ( 0.5%) Users that have less than 1 test interactions\n",
      "EvaluatorHoldout: Processed 35563 (100.0%) in 38.04 sec. Users per second: 935\n",
      "Similarity column 38121 (100.0%), 2662.14 column/sec. Elapsed time 14.32 sec\n",
      "EvaluatorHoldout: Ignoring 163 ( 0.5%) Users that have less than 1 test interactions\n",
      "EvaluatorHoldout: Processed 35573 (100.0%) in 37.73 sec. Users per second: 943\n",
      "Similarity column 38121 (100.0%), 2618.48 column/sec. Elapsed time 14.56 sec\n",
      "EvaluatorHoldout: Ignoring 150 ( 0.4%) Users that have less than 1 test interactions\n",
      "EvaluatorHoldout: Processed 35586 (100.0%) in 38.84 sec. Users per second: 916\n",
      "Similarity column 38121 (100.0%), 2621.24 column/sec. Elapsed time 14.54 sec\n",
      "EvaluatorHoldout: Ignoring 167 ( 0.5%) Users that have less than 1 test interactions\n",
      "EvaluatorHoldout: Processed 35569 (100.0%) in 37.59 sec. Users per second: 946\n",
      "Similarity column 38121 (100.0%), 2650.15 column/sec. Elapsed time 14.38 sec\n",
      "EvaluatorHoldout: Ignoring 172 ( 0.5%) Users that have less than 1 test interactions\n",
      "EvaluatorHoldout: Processed 35564 (100.0%) in 38.27 sec. Users per second: 929\n"
     ]
    },
    {
     "name": "stderr",
     "output_type": "stream",
     "text": [
      "[I 2025-01-05 19:25:19,317] Trial 421 finished with value: 0.04331215651401088 and parameters: {'similarity': 'tversky', 'topK': 65, 'shrink': 72, 'feature_weighting': 'none', 'tversky_alpha': 0.0033742562962553583, 'tversky_beta': 1.1124264977117995}. Best is trial 267 with value: 0.05351701566277965.\n"
     ]
    },
    {
     "name": "stdout",
     "output_type": "stream",
     "text": [
      "Similarity column 38121 (100.0%), 2662.94 column/sec. Elapsed time 14.32 sec\n",
      "EvaluatorHoldout: Ignoring 173 ( 0.5%) Users that have less than 1 test interactions\n",
      "EvaluatorHoldout: Processed 35563 (100.0%) in 33.61 sec. Users per second: 1058\n",
      "Similarity column 38121 (100.0%), 2676.16 column/sec. Elapsed time 14.24 sec\n",
      "EvaluatorHoldout: Ignoring 163 ( 0.5%) Users that have less than 1 test interactions\n",
      "EvaluatorHoldout: Processed 35573 (100.0%) in 33.41 sec. Users per second: 1065\n",
      "Similarity column 38121 (100.0%), 2653.87 column/sec. Elapsed time 14.36 sec\n",
      "EvaluatorHoldout: Ignoring 150 ( 0.4%) Users that have less than 1 test interactions\n",
      "EvaluatorHoldout: Processed 35586 (100.0%) in 34.21 sec. Users per second: 1040\n",
      "Similarity column 38121 (100.0%), 2615.07 column/sec. Elapsed time 14.58 sec\n",
      "EvaluatorHoldout: Ignoring 167 ( 0.5%) Users that have less than 1 test interactions\n",
      "EvaluatorHoldout: Processed 35569 (100.0%) in 33.74 sec. Users per second: 1054\n",
      "Similarity column 38121 (100.0%), 2631.80 column/sec. Elapsed time 14.48 sec\n",
      "EvaluatorHoldout: Ignoring 172 ( 0.5%) Users that have less than 1 test interactions\n",
      "EvaluatorHoldout: Processed 35564 (100.0%) in 34.23 sec. Users per second: 1039\n"
     ]
    },
    {
     "name": "stderr",
     "output_type": "stream",
     "text": [
      "[I 2025-01-05 19:29:22,747] Trial 422 finished with value: 0.05253748276025958 and parameters: {'similarity': 'tversky', 'topK': 12, 'shrink': 48, 'feature_weighting': 'none', 'tversky_alpha': 0.07853375117794005, 'tversky_beta': 1.7479970784358467}. Best is trial 267 with value: 0.05351701566277965.\n"
     ]
    },
    {
     "name": "stdout",
     "output_type": "stream",
     "text": [
      "Similarity column 38121 (100.0%), 2863.78 column/sec. Elapsed time 13.31 sec\n",
      "EvaluatorHoldout: Ignoring 173 ( 0.5%) Users that have less than 1 test interactions\n",
      "EvaluatorHoldout: Processed 35563 (100.0%) in 36.32 sec. Users per second: 979\n",
      "Similarity column 38121 (100.0%), 2918.30 column/sec. Elapsed time 13.06 sec\n",
      "EvaluatorHoldout: Ignoring 163 ( 0.5%) Users that have less than 1 test interactions\n",
      "EvaluatorHoldout: Processed 35573 (100.0%) in 37.22 sec. Users per second: 956\n",
      "Similarity column 38121 (100.0%), 2884.15 column/sec. Elapsed time 13.22 sec\n",
      "EvaluatorHoldout: Ignoring 150 ( 0.4%) Users that have less than 1 test interactions\n",
      "EvaluatorHoldout: Processed 35586 (100.0%) in 36.22 sec. Users per second: 982\n",
      "Similarity column 38121 (100.0%), 2902.79 column/sec. Elapsed time 13.13 sec\n",
      "EvaluatorHoldout: Ignoring 167 ( 0.5%) Users that have less than 1 test interactions\n",
      "EvaluatorHoldout: Processed 35569 (100.0%) in 36.00 sec. Users per second: 988\n",
      "Similarity column 38121 (100.0%), 2776.91 column/sec. Elapsed time 13.73 sec\n",
      "EvaluatorHoldout: Ignoring 172 ( 0.5%) Users that have less than 1 test interactions\n",
      "EvaluatorHoldout: Processed 35564 (100.0%) in 37.02 sec. Users per second: 961\n"
     ]
    },
    {
     "name": "stderr",
     "output_type": "stream",
     "text": [
      "[I 2025-01-05 19:33:34,227] Trial 423 finished with value: 0.04857496393632387 and parameters: {'similarity': 'jaccard', 'topK': 28, 'shrink': 40, 'feature_weighting': 'none'}. Best is trial 267 with value: 0.05351701566277965.\n"
     ]
    },
    {
     "name": "stdout",
     "output_type": "stream",
     "text": [
      "Similarity column 38121 (100.0%), 3106.77 column/sec. Elapsed time 12.27 sec\n",
      "EvaluatorHoldout: Ignoring 173 ( 0.5%) Users that have less than 1 test interactions\n",
      "EvaluatorHoldout: Processed 35563 (100.0%) in 30.56 sec. Users per second: 1164\n",
      "Similarity column 38121 (100.0%), 3029.91 column/sec. Elapsed time 12.58 sec\n",
      "EvaluatorHoldout: Ignoring 163 ( 0.5%) Users that have less than 1 test interactions\n",
      "EvaluatorHoldout: Processed 35573 (100.0%) in 30.11 sec. Users per second: 1181\n",
      "Similarity column 38121 (100.0%), 3113.17 column/sec. Elapsed time 12.25 sec\n",
      "EvaluatorHoldout: Ignoring 150 ( 0.4%) Users that have less than 1 test interactions\n",
      "EvaluatorHoldout: Processed 35586 (100.0%) in 29.53 sec. Users per second: 1205\n",
      "Similarity column 38121 (100.0%), 3096.46 column/sec. Elapsed time 12.31 sec\n",
      "EvaluatorHoldout: Ignoring 167 ( 0.5%) Users that have less than 1 test interactions\n",
      "EvaluatorHoldout: Processed 35569 (100.0%) in 30.50 sec. Users per second: 1166\n",
      "Similarity column 38121 (100.0%), 3078.68 column/sec. Elapsed time 12.38 sec\n",
      "EvaluatorHoldout: Ignoring 172 ( 0.5%) Users that have less than 1 test interactions\n",
      "EvaluatorHoldout: Processed 35564 (100.0%) in 30.22 sec. Users per second: 1177\n"
     ]
    },
    {
     "name": "stderr",
     "output_type": "stream",
     "text": [
      "[I 2025-01-05 19:37:09,016] Trial 424 finished with value: 0.04425798564934068 and parameters: {'similarity': 'tversky', 'topK': 1, 'shrink': 83, 'feature_weighting': 'none', 'tversky_alpha': 0.12416383418856272, 'tversky_beta': 1.8373832326514132}. Best is trial 267 with value: 0.05351701566277965.\n"
     ]
    },
    {
     "name": "stdout",
     "output_type": "stream",
     "text": [
      "Similarity column 38121 (100.0%), 2546.81 column/sec. Elapsed time 14.97 sec\n",
      "EvaluatorHoldout: Ignoring 173 ( 0.5%) Users that have less than 1 test interactions\n",
      "EvaluatorHoldout: Processed 35563 (100.0%) in 37.34 sec. Users per second: 952\n",
      "Similarity column 38121 (100.0%), 2620.35 column/sec. Elapsed time 14.55 sec\n",
      "EvaluatorHoldout: Ignoring 163 ( 0.5%) Users that have less than 1 test interactions\n",
      "EvaluatorHoldout: Processed 35573 (100.0%) in 37.14 sec. Users per second: 958\n",
      "Similarity column 38121 (100.0%), 2625.32 column/sec. Elapsed time 14.52 sec\n",
      "EvaluatorHoldout: Ignoring 150 ( 0.4%) Users that have less than 1 test interactions\n",
      "EvaluatorHoldout: Processed 35586 (100.0%) in 37.12 sec. Users per second: 959\n",
      "Similarity column 38121 (100.0%), 2614.53 column/sec. Elapsed time 14.58 sec\n",
      "EvaluatorHoldout: Ignoring 167 ( 0.5%) Users that have less than 1 test interactions\n",
      "EvaluatorHoldout: Processed 35569 (100.0%) in 36.05 sec. Users per second: 987\n",
      "Similarity column 38121 (100.0%), 2569.96 column/sec. Elapsed time 14.83 sec\n",
      "EvaluatorHoldout: Ignoring 172 ( 0.5%) Users that have less than 1 test interactions\n",
      "EvaluatorHoldout: Processed 35564 (100.0%) in 37.21 sec. Users per second: 956\n"
     ]
    },
    {
     "name": "stderr",
     "output_type": "stream",
     "text": [
      "[I 2025-01-05 19:41:29,989] Trial 425 finished with value: 0.04710099530879066 and parameters: {'similarity': 'tversky', 'topK': 50, 'shrink': 60, 'feature_weighting': 'none', 'tversky_alpha': 0.0013169133125339057, 'tversky_beta': 1.7830866796567728}. Best is trial 267 with value: 0.05351701566277965.\n"
     ]
    },
    {
     "name": "stdout",
     "output_type": "stream",
     "text": [
      "Similarity column 38121 (100.0%), 2572.17 column/sec. Elapsed time 14.82 sec\n",
      "EvaluatorHoldout: Ignoring 173 ( 0.5%) Users that have less than 1 test interactions\n",
      "EvaluatorHoldout: Processed 35563 (100.0%) in 41.85 sec. Users per second: 850\n",
      "Similarity column 38121 (100.0%), 2605.01 column/sec. Elapsed time 14.63 sec\n",
      "EvaluatorHoldout: Ignoring 163 ( 0.5%) Users that have less than 1 test interactions\n",
      "EvaluatorHoldout: Processed 35573 (100.0%) in 41.97 sec. Users per second: 847\n",
      "Similarity column 38121 (100.0%), 2594.84 column/sec. Elapsed time 14.69 sec\n",
      "EvaluatorHoldout: Ignoring 150 ( 0.4%) Users that have less than 1 test interactions\n",
      "EvaluatorHoldout: Processed 35586 (100.0%) in 41.99 sec. Users per second: 847\n",
      "Similarity column 38121 (100.0%), 2593.26 column/sec. Elapsed time 14.70 sec\n",
      "EvaluatorHoldout: Ignoring 167 ( 0.5%) Users that have less than 1 test interactions\n",
      "EvaluatorHoldout: Processed 35569 (100.0%) in 41.31 sec. Users per second: 861\n",
      "Similarity column 38121 (100.0%), 2592.23 column/sec. Elapsed time 14.71 sec\n",
      "EvaluatorHoldout: Ignoring 172 ( 0.5%) Users that have less than 1 test interactions\n",
      "EvaluatorHoldout: Processed 35564 (100.0%) in 41.61 sec. Users per second: 855\n"
     ]
    },
    {
     "name": "stderr",
     "output_type": "stream",
     "text": [
      "[I 2025-01-05 19:46:15,848] Trial 426 finished with value: 0.041513886514609244 and parameters: {'similarity': 'tversky', 'topK': 215, 'shrink': 34, 'feature_weighting': 'none', 'tversky_alpha': 0.05377104061223565, 'tversky_beta': 1.8602888343998363}. Best is trial 267 with value: 0.05351701566277965.\n"
     ]
    },
    {
     "name": "stdout",
     "output_type": "stream",
     "text": [
      "Similarity column 38121 (100.0%), 3414.45 column/sec. Elapsed time 11.16 sec\n",
      "EvaluatorHoldout: Ignoring 173 ( 0.5%) Users that have less than 1 test interactions\n",
      "EvaluatorHoldout: Processed 35563 (100.0%) in 26.34 sec. Users per second: 1350\n",
      "Similarity column 38121 (100.0%), 3402.68 column/sec. Elapsed time 11.20 sec\n",
      "EvaluatorHoldout: Ignoring 163 ( 0.5%) Users that have less than 1 test interactions\n",
      "EvaluatorHoldout: Processed 35573 (100.0%) in 27.40 sec. Users per second: 1298\n",
      "Similarity column 38121 (100.0%), 3414.68 column/sec. Elapsed time 11.16 sec\n",
      "EvaluatorHoldout: Ignoring 150 ( 0.4%) Users that have less than 1 test interactions\n",
      "EvaluatorHoldout: Processed 35586 (100.0%) in 26.79 sec. Users per second: 1329\n",
      "Similarity column 38121 (100.0%), 3467.85 column/sec. Elapsed time 10.99 sec\n",
      "EvaluatorHoldout: Ignoring 167 ( 0.5%) Users that have less than 1 test interactions\n",
      "EvaluatorHoldout: Processed 35569 (100.0%) in 26.99 sec. Users per second: 1318\n",
      "Similarity column 38121 (100.0%), 3457.10 column/sec. Elapsed time 11.03 sec\n",
      "EvaluatorHoldout: Ignoring 172 ( 0.5%) Users that have less than 1 test interactions\n",
      "EvaluatorHoldout: Processed 35564 (100.0%) in 27.32 sec. Users per second: 1302\n"
     ]
    },
    {
     "name": "stderr",
     "output_type": "stream",
     "text": [
      "[I 2025-01-05 19:49:28,255] Trial 427 finished with value: 0.0002664826418719655 and parameters: {'similarity': 'tversky', 'topK': 0, 'shrink': 57, 'feature_weighting': 'none', 'tversky_alpha': 0.18021776898139386, 'tversky_beta': 1.8100820447285744}. Best is trial 267 with value: 0.05351701566277965.\n"
     ]
    },
    {
     "name": "stdout",
     "output_type": "stream",
     "text": [
      "Similarity column 38121 (100.0%), 2656.67 column/sec. Elapsed time 14.35 sec\n",
      "EvaluatorHoldout: Ignoring 173 ( 0.5%) Users that have less than 1 test interactions\n",
      "EvaluatorHoldout: Processed 35563 (100.0%) in 34.88 sec. Users per second: 1020\n",
      "Similarity column 38121 (100.0%), 2684.92 column/sec. Elapsed time 14.20 sec\n",
      "EvaluatorHoldout: Ignoring 163 ( 0.5%) Users that have less than 1 test interactions\n",
      "EvaluatorHoldout: Processed 35573 (100.0%) in 34.31 sec. Users per second: 1037\n",
      "Similarity column 38121 (100.0%), 2662.97 column/sec. Elapsed time 14.32 sec\n",
      "EvaluatorHoldout: Ignoring 150 ( 0.4%) Users that have less than 1 test interactions\n",
      "EvaluatorHoldout: Processed 35586 (100.0%) in 34.89 sec. Users per second: 1020\n",
      "Similarity column 38121 (100.0%), 2666.62 column/sec. Elapsed time 14.30 sec\n",
      "EvaluatorHoldout: Ignoring 167 ( 0.5%) Users that have less than 1 test interactions\n",
      "EvaluatorHoldout: Processed 35569 (100.0%) in 35.43 sec. Users per second: 1004\n",
      "Similarity column 38121 (100.0%), 2646.47 column/sec. Elapsed time 14.40 sec\n",
      "EvaluatorHoldout: Ignoring 172 ( 0.5%) Users that have less than 1 test interactions\n",
      "EvaluatorHoldout: Processed 35564 (100.0%) in 33.88 sec. Users per second: 1050\n"
     ]
    },
    {
     "name": "stderr",
     "output_type": "stream",
     "text": [
      "[I 2025-01-05 19:53:35,375] Trial 428 finished with value: 0.05153650500853167 and parameters: {'similarity': 'tversky', 'topK': 25, 'shrink': 19, 'feature_weighting': 'none', 'tversky_alpha': 0.09218845349323972, 'tversky_beta': 1.8867028541943909}. Best is trial 267 with value: 0.05351701566277965.\n"
     ]
    },
    {
     "name": "stdout",
     "output_type": "stream",
     "text": [
      "Similarity column 38121 (100.0%), 2670.73 column/sec. Elapsed time 14.27 sec\n",
      "EvaluatorHoldout: Ignoring 173 ( 0.5%) Users that have less than 1 test interactions\n",
      "EvaluatorHoldout: Processed 35563 (100.0%) in 37.58 sec. Users per second: 946\n",
      "Similarity column 38121 (100.0%), 2694.16 column/sec. Elapsed time 14.15 sec\n",
      "EvaluatorHoldout: Ignoring 163 ( 0.5%) Users that have less than 1 test interactions\n",
      "EvaluatorHoldout: Processed 35573 (100.0%) in 37.86 sec. Users per second: 940\n",
      "Similarity column 38121 (100.0%), 2611.51 column/sec. Elapsed time 14.60 sec\n",
      "EvaluatorHoldout: Ignoring 150 ( 0.4%) Users that have less than 1 test interactions\n",
      "EvaluatorHoldout: Processed 35586 (100.0%) in 38.04 sec. Users per second: 936\n",
      "Similarity column 38121 (100.0%), 2655.29 column/sec. Elapsed time 14.36 sec\n",
      "EvaluatorHoldout: Ignoring 167 ( 0.5%) Users that have less than 1 test interactions\n",
      "EvaluatorHoldout: Processed 35569 (100.0%) in 37.49 sec. Users per second: 949\n",
      "Similarity column 38121 (100.0%), 2654.93 column/sec. Elapsed time 14.36 sec\n",
      "EvaluatorHoldout: Ignoring 172 ( 0.5%) Users that have less than 1 test interactions\n",
      "EvaluatorHoldout: Processed 35564 (100.0%) in 37.97 sec. Users per second: 937\n"
     ]
    },
    {
     "name": "stderr",
     "output_type": "stream",
     "text": [
      "[I 2025-01-05 19:57:58,445] Trial 429 finished with value: 0.0413814368881109 and parameters: {'similarity': 'tversky', 'topK': 40, 'shrink': 308, 'feature_weighting': 'none', 'tversky_alpha': 0.04156184422474247, 'tversky_beta': 1.6916727765679744}. Best is trial 267 with value: 0.05351701566277965.\n"
     ]
    },
    {
     "name": "stdout",
     "output_type": "stream",
     "text": [
      "Similarity column 38121 (100.0%), 2655.13 column/sec. Elapsed time 14.36 sec\n",
      "EvaluatorHoldout: Ignoring 173 ( 0.5%) Users that have less than 1 test interactions\n",
      "EvaluatorHoldout: Processed 35563 (100.0%) in 34.16 sec. Users per second: 1041\n",
      "Similarity column 38121 (100.0%), 2653.09 column/sec. Elapsed time 14.37 sec\n",
      "EvaluatorHoldout: Ignoring 163 ( 0.5%) Users that have less than 1 test interactions\n",
      "EvaluatorHoldout: Processed 35573 (100.0%) in 33.96 sec. Users per second: 1048\n",
      "Similarity column 38121 (100.0%), 2658.33 column/sec. Elapsed time 14.34 sec\n",
      "EvaluatorHoldout: Ignoring 150 ( 0.4%) Users that have less than 1 test interactions\n",
      "EvaluatorHoldout: Processed 35586 (100.0%) in 34.36 sec. Users per second: 1036\n",
      "Similarity column 38121 (100.0%), 2681.20 column/sec. Elapsed time 14.22 sec\n",
      "EvaluatorHoldout: Ignoring 167 ( 0.5%) Users that have less than 1 test interactions\n",
      "EvaluatorHoldout: Processed 35569 (100.0%) in 33.78 sec. Users per second: 1053\n",
      "Similarity column 38121 (100.0%), 2655.26 column/sec. Elapsed time 14.36 sec\n",
      "EvaluatorHoldout: Ignoring 172 ( 0.5%) Users that have less than 1 test interactions\n",
      "EvaluatorHoldout: Processed 35564 (100.0%) in 33.37 sec. Users per second: 1066\n"
     ]
    },
    {
     "name": "stderr",
     "output_type": "stream",
     "text": [
      "[I 2025-01-05 20:02:01,890] Trial 430 finished with value: 0.05293386835462682 and parameters: {'similarity': 'tversky', 'topK': 13, 'shrink': 35, 'feature_weighting': 'none', 'tversky_alpha': 0.14153481481214608, 'tversky_beta': 1.8446299678922047}. Best is trial 267 with value: 0.05351701566277965.\n"
     ]
    },
    {
     "name": "stdout",
     "output_type": "stream",
     "text": [
      "Similarity column 38121 (100.0%), 2641.62 column/sec. Elapsed time 14.43 sec\n",
      "EvaluatorHoldout: Ignoring 173 ( 0.5%) Users that have less than 1 test interactions\n",
      "EvaluatorHoldout: Processed 35563 (100.0%) in 34.93 sec. Users per second: 1018\n",
      "Similarity column 38121 (100.0%), 2661.81 column/sec. Elapsed time 14.32 sec\n",
      "EvaluatorHoldout: Ignoring 163 ( 0.5%) Users that have less than 1 test interactions\n",
      "EvaluatorHoldout: Processed 35573 (100.0%) in 34.07 sec. Users per second: 1044\n",
      "Similarity column 38121 (100.0%), 2655.51 column/sec. Elapsed time 14.36 sec\n",
      "EvaluatorHoldout: Ignoring 150 ( 0.4%) Users that have less than 1 test interactions\n",
      "EvaluatorHoldout: Processed 35586 (100.0%) in 35.10 sec. Users per second: 1014\n",
      "Similarity column 38121 (100.0%), 2696.13 column/sec. Elapsed time 14.14 sec\n",
      "EvaluatorHoldout: Ignoring 167 ( 0.5%) Users that have less than 1 test interactions\n",
      "EvaluatorHoldout: Processed 35569 (100.0%) in 35.22 sec. Users per second: 1010\n",
      "Similarity column 38121 (100.0%), 2663.21 column/sec. Elapsed time 14.31 sec\n",
      "EvaluatorHoldout: Ignoring 172 ( 0.5%) Users that have less than 1 test interactions\n",
      "EvaluatorHoldout: Processed 35564 (100.0%) in 35.02 sec. Users per second: 1015\n"
     ]
    },
    {
     "name": "stderr",
     "output_type": "stream",
     "text": [
      "[I 2025-01-05 20:06:10,014] Trial 431 finished with value: 0.051505793004816405 and parameters: {'similarity': 'tversky', 'topK': 22, 'shrink': 35, 'feature_weighting': 'none', 'tversky_alpha': 0.13572224867005983, 'tversky_beta': 1.8999442463740372}. Best is trial 267 with value: 0.05351701566277965.\n"
     ]
    },
    {
     "name": "stdout",
     "output_type": "stream",
     "text": [
      "Similarity column 38121 (100.0%), 2664.07 column/sec. Elapsed time 14.31 sec\n",
      "EvaluatorHoldout: Ignoring 173 ( 0.5%) Users that have less than 1 test interactions\n",
      "EvaluatorHoldout: Processed 35563 (100.0%) in 35.07 sec. Users per second: 1014\n",
      "Similarity column 38121 (100.0%), 2659.10 column/sec. Elapsed time 14.34 sec\n",
      "EvaluatorHoldout: Ignoring 163 ( 0.5%) Users that have less than 1 test interactions\n",
      "EvaluatorHoldout: Processed 35573 (100.0%) in 35.44 sec. Users per second: 1004\n",
      "Similarity column 38121 (100.0%), 2621.18 column/sec. Elapsed time 14.54 sec\n",
      "EvaluatorHoldout: Ignoring 150 ( 0.4%) Users that have less than 1 test interactions\n",
      "EvaluatorHoldout: Processed 35586 (100.0%) in 36.08 sec. Users per second: 986\n",
      "Similarity column 38121 (100.0%), 2673.97 column/sec. Elapsed time 14.26 sec\n",
      "EvaluatorHoldout: Ignoring 167 ( 0.5%) Users that have less than 1 test interactions\n",
      "EvaluatorHoldout: Processed 35569 (100.0%) in 36.45 sec. Users per second: 976\n",
      "Similarity column 38121 (100.0%), 2661.68 column/sec. Elapsed time 14.32 sec\n",
      "EvaluatorHoldout: Ignoring 172 ( 0.5%) Users that have less than 1 test interactions\n",
      "EvaluatorHoldout: Processed 35564 (100.0%) in 35.71 sec. Users per second: 996\n"
     ]
    },
    {
     "name": "stderr",
     "output_type": "stream",
     "text": [
      "[I 2025-01-05 20:10:22,905] Trial 432 finished with value: 0.05013509185909866 and parameters: {'similarity': 'tversky', 'topK': 38, 'shrink': 20, 'feature_weighting': 'none', 'tversky_alpha': 0.21718656311001064, 'tversky_beta': 1.8108000198871699}. Best is trial 267 with value: 0.05351701566277965.\n"
     ]
    },
    {
     "name": "stdout",
     "output_type": "stream",
     "text": [
      "Similarity column 38121 (100.0%), 490.06 column/sec. Elapsed time 1.30 min\n",
      "EvaluatorHoldout: Ignoring 173 ( 0.5%) Users that have less than 1 test interactions\n",
      "EvaluatorHoldout: Processed 35563 (100.0%) in 26.61 sec. Users per second: 1336\n",
      "Similarity column 38121 (100.0%), 501.81 column/sec. Elapsed time 1.27 min\n",
      "EvaluatorHoldout: Ignoring 163 ( 0.5%) Users that have less than 1 test interactions\n",
      "EvaluatorHoldout: Processed 35573 (100.0%) in 27.76 sec. Users per second: 1281\n",
      "Similarity column 38121 (100.0%), 498.54 column/sec. Elapsed time 1.27 min\n",
      "EvaluatorHoldout: Ignoring 150 ( 0.4%) Users that have less than 1 test interactions\n",
      "EvaluatorHoldout: Processed 35586 (100.0%) in 26.77 sec. Users per second: 1329\n",
      "Similarity column 38121 (100.0%), 495.46 column/sec. Elapsed time 1.28 min\n",
      "EvaluatorHoldout: Ignoring 167 ( 0.5%) Users that have less than 1 test interactions\n",
      "EvaluatorHoldout: Processed 35569 (100.0%) in 26.83 sec. Users per second: 1326\n",
      "Similarity column 38121 (100.0%), 497.44 column/sec. Elapsed time 1.28 min\n",
      "EvaluatorHoldout: Ignoring 172 ( 0.5%) Users that have less than 1 test interactions\n",
      "EvaluatorHoldout: Processed 35564 (100.0%) in 26.27 sec. Users per second: 1354\n"
     ]
    },
    {
     "name": "stderr",
     "output_type": "stream",
     "text": [
      "[I 2025-01-05 20:19:01,663] Trial 433 finished with value: 0.0002664826418719655 and parameters: {'similarity': 'euclidean', 'topK': 0, 'shrink': 0, 'feature_weighting': 'none', 'normalize_avg_row': False, 'similarity_from_distance_mode': 'exp', 'normalize': True}. Best is trial 267 with value: 0.05351701566277965.\n"
     ]
    },
    {
     "name": "stdout",
     "output_type": "stream",
     "text": [
      "Similarity column 38121 (100.0%), 2634.96 column/sec. Elapsed time 14.47 sec\n",
      "EvaluatorHoldout: Ignoring 173 ( 0.5%) Users that have less than 1 test interactions\n",
      "EvaluatorHoldout: Processed 35563 (100.0%) in 37.24 sec. Users per second: 955\n",
      "Similarity column 38121 (100.0%), 2628.78 column/sec. Elapsed time 14.50 sec\n",
      "EvaluatorHoldout: Ignoring 163 ( 0.5%) Users that have less than 1 test interactions\n",
      "EvaluatorHoldout: Processed 35573 (100.0%) in 36.70 sec. Users per second: 969\n",
      "Similarity column 38121 (100.0%), 2681.51 column/sec. Elapsed time 14.22 sec\n",
      "EvaluatorHoldout: Ignoring 150 ( 0.4%) Users that have less than 1 test interactions\n",
      "EvaluatorHoldout: Processed 35586 (100.0%) in 37.46 sec. Users per second: 950\n",
      "Similarity column 38121 (100.0%), 2635.58 column/sec. Elapsed time 14.46 sec\n",
      "EvaluatorHoldout: Ignoring 167 ( 0.5%) Users that have less than 1 test interactions\n",
      "EvaluatorHoldout: Processed 35569 (100.0%) in 37.33 sec. Users per second: 953\n",
      "Similarity column 38121 (100.0%), 2627.38 column/sec. Elapsed time 14.51 sec\n",
      "EvaluatorHoldout: Ignoring 172 ( 0.5%) Users that have less than 1 test interactions\n",
      "EvaluatorHoldout: Processed 35564 (100.0%) in 37.75 sec. Users per second: 942\n"
     ]
    },
    {
     "name": "stderr",
     "output_type": "stream",
     "text": [
      "[I 2025-01-05 20:23:22,932] Trial 434 finished with value: 0.04622433142565943 and parameters: {'similarity': 'tversky', 'topK': 57, 'shrink': 70, 'feature_weighting': 'none', 'tversky_alpha': 0.1346264317967965, 'tversky_beta': 1.7573946124551416}. Best is trial 267 with value: 0.05351701566277965.\n"
     ]
    },
    {
     "name": "stdout",
     "output_type": "stream",
     "text": [
      "Similarity column 38121 (100.0%), 2955.83 column/sec. Elapsed time 12.90 sec\n",
      "EvaluatorHoldout: Ignoring 173 ( 0.5%) Users that have less than 1 test interactions\n",
      "EvaluatorHoldout: Processed 35563 (100.0%) in 34.76 sec. Users per second: 1023\n",
      "Similarity column 38121 (100.0%), 2931.96 column/sec. Elapsed time 13.00 sec\n",
      "EvaluatorHoldout: Ignoring 163 ( 0.5%) Users that have less than 1 test interactions\n",
      "EvaluatorHoldout: Processed 35573 (100.0%) in 34.96 sec. Users per second: 1017\n",
      "Similarity column 38121 (100.0%), 2986.09 column/sec. Elapsed time 12.77 sec\n",
      "EvaluatorHoldout: Ignoring 150 ( 0.4%) Users that have less than 1 test interactions\n",
      "EvaluatorHoldout: Processed 35586 (100.0%) in 34.87 sec. Users per second: 1021\n",
      "Similarity column 38121 (100.0%), 2991.60 column/sec. Elapsed time 12.74 sec\n",
      "EvaluatorHoldout: Ignoring 167 ( 0.5%) Users that have less than 1 test interactions\n",
      "EvaluatorHoldout: Processed 35569 (100.0%) in 34.84 sec. Users per second: 1021\n",
      "Similarity column 38121 (100.0%), 3001.33 column/sec. Elapsed time 12.70 sec\n",
      "EvaluatorHoldout: Ignoring 172 ( 0.5%) Users that have less than 1 test interactions\n",
      "EvaluatorHoldout: Processed 35564 (100.0%) in 35.08 sec. Users per second: 1014\n"
     ]
    },
    {
     "name": "stderr",
     "output_type": "stream",
     "text": [
      "[I 2025-01-05 20:27:23,620] Trial 435 finished with value: 0.049192538958732546 and parameters: {'similarity': 'dice', 'topK': 16, 'shrink': 34, 'feature_weighting': 'none'}. Best is trial 267 with value: 0.05351701566277965.\n"
     ]
    },
    {
     "name": "stdout",
     "output_type": "stream",
     "text": [
      "Similarity column 38121 (100.0%), 2599.47 column/sec. Elapsed time 14.66 sec\n",
      "EvaluatorHoldout: Ignoring 173 ( 0.5%) Users that have less than 1 test interactions\n",
      "EvaluatorHoldout: Processed 35563 (100.0%) in 39.06 sec. Users per second: 910\n",
      "Similarity column 38121 (100.0%), 2595.02 column/sec. Elapsed time 14.69 sec\n",
      "EvaluatorHoldout: Ignoring 163 ( 0.5%) Users that have less than 1 test interactions\n",
      "EvaluatorHoldout: Processed 35573 (100.0%) in 38.68 sec. Users per second: 920\n",
      "Similarity column 38121 (100.0%), 2642.98 column/sec. Elapsed time 14.42 sec\n",
      "EvaluatorHoldout: Ignoring 150 ( 0.4%) Users that have less than 1 test interactions\n",
      "EvaluatorHoldout: Processed 35586 (100.0%) in 38.92 sec. Users per second: 914\n",
      "Similarity column 38121 (100.0%), 2633.65 column/sec. Elapsed time 14.47 sec\n",
      "EvaluatorHoldout: Ignoring 167 ( 0.5%) Users that have less than 1 test interactions\n",
      "EvaluatorHoldout: Processed 35569 (100.0%) in 38.34 sec. Users per second: 928\n",
      "Similarity column 38121 (100.0%), 2604.33 column/sec. Elapsed time 14.64 sec\n",
      "EvaluatorHoldout: Ignoring 172 ( 0.5%) Users that have less than 1 test interactions\n",
      "EvaluatorHoldout: Processed 35564 (100.0%) in 38.94 sec. Users per second: 913\n"
     ]
    },
    {
     "name": "stderr",
     "output_type": "stream",
     "text": [
      "[I 2025-01-05 20:31:53,507] Trial 436 finished with value: 0.04502763916786962 and parameters: {'similarity': 'tversky', 'topK': 123, 'shrink': 23, 'feature_weighting': 'none', 'tversky_alpha': 0.08805175495309289, 'tversky_beta': 1.8599579518894322}. Best is trial 267 with value: 0.05351701566277965.\n"
     ]
    },
    {
     "name": "stdout",
     "output_type": "stream",
     "text": [
      "Similarity column 38121 (100.0%), 2599.69 column/sec. Elapsed time 14.66 sec\n",
      "EvaluatorHoldout: Ignoring 173 ( 0.5%) Users that have less than 1 test interactions\n",
      "EvaluatorHoldout: Processed 35563 (100.0%) in 39.82 sec. Users per second: 893\n",
      "Similarity column 38121 (100.0%), 2654.29 column/sec. Elapsed time 14.36 sec\n",
      "EvaluatorHoldout: Ignoring 163 ( 0.5%) Users that have less than 1 test interactions\n",
      "EvaluatorHoldout: Processed 35573 (100.0%) in 39.95 sec. Users per second: 890\n",
      "Similarity column 38121 (100.0%), 2644.43 column/sec. Elapsed time 14.42 sec\n",
      "EvaluatorHoldout: Ignoring 150 ( 0.4%) Users that have less than 1 test interactions\n",
      "EvaluatorHoldout: Processed 35586 (100.0%) in 39.83 sec. Users per second: 893\n",
      "Similarity column 38121 (100.0%), 2622.24 column/sec. Elapsed time 14.54 sec\n",
      "EvaluatorHoldout: Ignoring 167 ( 0.5%) Users that have less than 1 test interactions\n",
      "EvaluatorHoldout: Processed 35569 (100.0%) in 39.36 sec. Users per second: 904\n",
      "Similarity column 38121 (100.0%), 2646.36 column/sec. Elapsed time 14.41 sec\n",
      "EvaluatorHoldout: Ignoring 172 ( 0.5%) Users that have less than 1 test interactions\n",
      "EvaluatorHoldout: Processed 35564 (100.0%) in 40.80 sec. Users per second: 872\n"
     ]
    },
    {
     "name": "stderr",
     "output_type": "stream",
     "text": [
      "[I 2025-01-05 20:36:28,289] Trial 437 finished with value: 0.04089592858793144 and parameters: {'similarity': 'tversky', 'topK': 82, 'shrink': 101, 'feature_weighting': 'none', 'tversky_alpha': 0.06051677370827023, 'tversky_beta': 0.978139545361632}. Best is trial 267 with value: 0.05351701566277965.\n"
     ]
    },
    {
     "name": "stdout",
     "output_type": "stream",
     "text": [
      "Similarity column 38121 (100.0%), 2668.36 column/sec. Elapsed time 14.29 sec\n",
      "EvaluatorHoldout: Ignoring 173 ( 0.5%) Users that have less than 1 test interactions\n",
      "EvaluatorHoldout: Processed 35563 (100.0%) in 35.93 sec. Users per second: 990\n",
      "Similarity column 38121 (100.0%), 2665.96 column/sec. Elapsed time 14.30 sec\n",
      "EvaluatorHoldout: Ignoring 163 ( 0.5%) Users that have less than 1 test interactions\n",
      "EvaluatorHoldout: Processed 35573 (100.0%) in 35.85 sec. Users per second: 992\n",
      "Similarity column 38121 (100.0%), 2653.07 column/sec. Elapsed time 14.37 sec\n",
      "EvaluatorHoldout: Ignoring 150 ( 0.4%) Users that have less than 1 test interactions\n",
      "EvaluatorHoldout: Processed 35586 (100.0%) in 34.79 sec. Users per second: 1023\n",
      "Similarity column 38121 (100.0%), 2621.90 column/sec. Elapsed time 14.54 sec\n",
      "EvaluatorHoldout: Ignoring 167 ( 0.5%) Users that have less than 1 test interactions\n",
      "EvaluatorHoldout: Processed 35569 (100.0%) in 34.48 sec. Users per second: 1031\n",
      "Similarity column 38121 (100.0%), 2655.21 column/sec. Elapsed time 14.36 sec\n",
      "EvaluatorHoldout: Ignoring 172 ( 0.5%) Users that have less than 1 test interactions\n",
      "EvaluatorHoldout: Processed 35564 (100.0%) in 35.32 sec. Users per second: 1007\n"
     ]
    },
    {
     "name": "stderr",
     "output_type": "stream",
     "text": [
      "[I 2025-01-05 20:40:38,794] Trial 438 finished with value: 0.049663721791680646 and parameters: {'similarity': 'tversky', 'topK': 29, 'shrink': 46, 'feature_weighting': 'none', 'tversky_alpha': 0.18471071560338204, 'tversky_beta': 1.5397607886703861}. Best is trial 267 with value: 0.05351701566277965.\n"
     ]
    },
    {
     "name": "stdout",
     "output_type": "stream",
     "text": [
      "Similarity column 38121 (100.0%), 2665.74 column/sec. Elapsed time 14.30 sec\n",
      "EvaluatorHoldout: Ignoring 173 ( 0.5%) Users that have less than 1 test interactions\n",
      "EvaluatorHoldout: Processed 35563 (100.0%) in 33.72 sec. Users per second: 1055\n",
      "Similarity column 38121 (100.0%), 2667.72 column/sec. Elapsed time 14.29 sec\n",
      "EvaluatorHoldout: Ignoring 163 ( 0.5%) Users that have less than 1 test interactions\n",
      "EvaluatorHoldout: Processed 35573 (100.0%) in 34.14 sec. Users per second: 1042\n",
      "Similarity column 38121 (100.0%), 2694.78 column/sec. Elapsed time 14.15 sec\n",
      "EvaluatorHoldout: Ignoring 150 ( 0.4%) Users that have less than 1 test interactions\n",
      "EvaluatorHoldout: Processed 35586 (100.0%) in 33.07 sec. Users per second: 1076\n",
      "Similarity column 38121 (100.0%), 2673.32 column/sec. Elapsed time 14.26 sec\n",
      "EvaluatorHoldout: Ignoring 167 ( 0.5%) Users that have less than 1 test interactions\n",
      "EvaluatorHoldout: Processed 35569 (100.0%) in 33.29 sec. Users per second: 1069\n",
      "Similarity column 38121 (100.0%), 2668.75 column/sec. Elapsed time 14.28 sec\n",
      "EvaluatorHoldout: Ignoring 172 ( 0.5%) Users that have less than 1 test interactions\n",
      "EvaluatorHoldout: Processed 35564 (100.0%) in 32.94 sec. Users per second: 1080\n"
     ]
    },
    {
     "name": "stderr",
     "output_type": "stream",
     "text": [
      "[I 2025-01-05 20:44:39,299] Trial 439 finished with value: 0.05361580072200237 and parameters: {'similarity': 'tversky', 'topK': 12, 'shrink': 15, 'feature_weighting': 'none', 'tversky_alpha': 0.103876990722998, 'tversky_beta': 1.9105067360322991}. Best is trial 439 with value: 0.05361580072200237.\n"
     ]
    },
    {
     "name": "stdout",
     "output_type": "stream",
     "text": [
      "Similarity column 38121 (100.0%), 2590.12 column/sec. Elapsed time 14.72 sec\n",
      "EvaluatorHoldout: Ignoring 173 ( 0.5%) Users that have less than 1 test interactions\n",
      "EvaluatorHoldout: Processed 35563 (100.0%) in 41.72 sec. Users per second: 853\n",
      "Similarity column 38121 (100.0%), 2601.98 column/sec. Elapsed time 14.65 sec\n",
      "EvaluatorHoldout: Ignoring 163 ( 0.5%) Users that have less than 1 test interactions\n",
      "EvaluatorHoldout: Processed 35573 (100.0%) in 41.80 sec. Users per second: 851\n",
      "Similarity column 38121 (100.0%), 2615.94 column/sec. Elapsed time 14.57 sec\n",
      "EvaluatorHoldout: Ignoring 150 ( 0.4%) Users that have less than 1 test interactions\n",
      "EvaluatorHoldout: Processed 35586 (100.0%) in 41.62 sec. Users per second: 855\n",
      "Similarity column 38121 (100.0%), 2584.94 column/sec. Elapsed time 14.75 sec\n",
      "EvaluatorHoldout: Ignoring 167 ( 0.5%) Users that have less than 1 test interactions\n",
      "EvaluatorHoldout: Processed 35569 (100.0%) in 41.60 sec. Users per second: 855\n",
      "Similarity column 38121 (100.0%), 2595.25 column/sec. Elapsed time 14.69 sec\n",
      "EvaluatorHoldout: Ignoring 172 ( 0.5%) Users that have less than 1 test interactions\n",
      "EvaluatorHoldout: Processed 35564 (100.0%) in 41.35 sec. Users per second: 860\n"
     ]
    },
    {
     "name": "stderr",
     "output_type": "stream",
     "text": [
      "[I 2025-01-05 20:49:24,758] Trial 440 finished with value: 0.042880406262806404 and parameters: {'similarity': 'tversky', 'topK': 237, 'shrink': 14, 'feature_weighting': 'none', 'tversky_alpha': 0.14642778236487042, 'tversky_beta': 1.9156409421486988}. Best is trial 439 with value: 0.05361580072200237.\n"
     ]
    },
    {
     "name": "stdout",
     "output_type": "stream",
     "text": [
      "Similarity column 38121 (100.0%), 2643.64 column/sec. Elapsed time 14.42 sec\n",
      "EvaluatorHoldout: Ignoring 173 ( 0.5%) Users that have less than 1 test interactions\n",
      "EvaluatorHoldout: Processed 35563 (100.0%) in 35.11 sec. Users per second: 1013\n",
      "Similarity column 38121 (100.0%), 2647.84 column/sec. Elapsed time 14.40 sec\n",
      "EvaluatorHoldout: Ignoring 163 ( 0.5%) Users that have less than 1 test interactions\n",
      "EvaluatorHoldout: Processed 35573 (100.0%) in 34.67 sec. Users per second: 1026\n",
      "Similarity column 38121 (100.0%), 2617.39 column/sec. Elapsed time 14.56 sec\n",
      "EvaluatorHoldout: Ignoring 150 ( 0.4%) Users that have less than 1 test interactions\n",
      "EvaluatorHoldout: Processed 35586 (100.0%) in 34.58 sec. Users per second: 1029\n",
      "Similarity column 38121 (100.0%), 2651.20 column/sec. Elapsed time 14.38 sec\n",
      "EvaluatorHoldout: Ignoring 167 ( 0.5%) Users that have less than 1 test interactions\n",
      "EvaluatorHoldout: Processed 35569 (100.0%) in 35.08 sec. Users per second: 1014\n",
      "Similarity column 38121 (100.0%), 2664.83 column/sec. Elapsed time 14.31 sec\n",
      "EvaluatorHoldout: Ignoring 172 ( 0.5%) Users that have less than 1 test interactions\n",
      "EvaluatorHoldout: Processed 35564 (100.0%) in 35.55 sec. Users per second: 1001\n"
     ]
    },
    {
     "name": "stderr",
     "output_type": "stream",
     "text": [
      "[I 2025-01-05 20:53:33,899] Trial 441 finished with value: 0.051764175618139875 and parameters: {'similarity': 'tversky', 'topK': 24, 'shrink': 16, 'feature_weighting': 'none', 'tversky_alpha': 0.10785640748209192, 'tversky_beta': 1.8864757851972498}. Best is trial 439 with value: 0.05361580072200237.\n"
     ]
    },
    {
     "name": "stdout",
     "output_type": "stream",
     "text": [
      "Similarity column 38121 (100.0%), 2661.45 column/sec. Elapsed time 14.32 sec\n",
      "EvaluatorHoldout: Ignoring 173 ( 0.5%) Users that have less than 1 test interactions\n",
      "EvaluatorHoldout: Processed 35563 (100.0%) in 35.71 sec. Users per second: 996\n",
      "Similarity column 38121 (100.0%), 2617.73 column/sec. Elapsed time 14.56 sec\n",
      "EvaluatorHoldout: Ignoring 163 ( 0.5%) Users that have less than 1 test interactions\n",
      "EvaluatorHoldout: Processed 35573 (100.0%) in 35.77 sec. Users per second: 995\n",
      "Similarity column 38121 (100.0%), 2622.91 column/sec. Elapsed time 14.53 sec\n",
      "EvaluatorHoldout: Ignoring 150 ( 0.4%) Users that have less than 1 test interactions\n",
      "EvaluatorHoldout: Processed 35586 (100.0%) in 35.77 sec. Users per second: 995\n",
      "Similarity column 38121 (100.0%), 2642.55 column/sec. Elapsed time 14.43 sec\n",
      "EvaluatorHoldout: Ignoring 167 ( 0.5%) Users that have less than 1 test interactions\n",
      "EvaluatorHoldout: Processed 35569 (100.0%) in 35.58 sec. Users per second: 1000\n",
      "Similarity column 38121 (100.0%), 2606.65 column/sec. Elapsed time 14.62 sec\n",
      "EvaluatorHoldout: Ignoring 172 ( 0.5%) Users that have less than 1 test interactions\n",
      "EvaluatorHoldout: Processed 35564 (100.0%) in 36.10 sec. Users per second: 985\n"
     ]
    },
    {
     "name": "stderr",
     "output_type": "stream",
     "text": [
      "[I 2025-01-05 20:57:47,871] Trial 442 finished with value: 0.04996687129806965 and parameters: {'similarity': 'tversky', 'topK': 44, 'shrink': 1, 'feature_weighting': 'none', 'tversky_alpha': 0.09799931359667736, 'tversky_beta': 1.9271518622390245}. Best is trial 439 with value: 0.05361580072200237.\n"
     ]
    },
    {
     "name": "stdout",
     "output_type": "stream",
     "text": [
      "Similarity column 38121 (100.0%), 2677.13 column/sec. Elapsed time 14.24 sec\n",
      "EvaluatorHoldout: Ignoring 173 ( 0.5%) Users that have less than 1 test interactions\n",
      "EvaluatorHoldout: Processed 35563 (100.0%) in 34.27 sec. Users per second: 1038\n",
      "Similarity column 38121 (100.0%), 2669.13 column/sec. Elapsed time 14.28 sec\n",
      "EvaluatorHoldout: Ignoring 163 ( 0.5%) Users that have less than 1 test interactions\n",
      "EvaluatorHoldout: Processed 35573 (100.0%) in 33.51 sec. Users per second: 1061\n",
      "Similarity column 38121 (100.0%), 2619.57 column/sec. Elapsed time 14.55 sec\n",
      "EvaluatorHoldout: Ignoring 150 ( 0.4%) Users that have less than 1 test interactions\n",
      "EvaluatorHoldout: Processed 35586 (100.0%) in 34.88 sec. Users per second: 1020\n",
      "Similarity column 38121 (100.0%), 2618.39 column/sec. Elapsed time 14.56 sec\n",
      "EvaluatorHoldout: Ignoring 167 ( 0.5%) Users that have less than 1 test interactions\n",
      "EvaluatorHoldout: Processed 35569 (100.0%) in 33.61 sec. Users per second: 1058\n",
      "Similarity column 38121 (100.0%), 2636.57 column/sec. Elapsed time 14.46 sec\n",
      "EvaluatorHoldout: Ignoring 172 ( 0.5%) Users that have less than 1 test interactions\n",
      "EvaluatorHoldout: Processed 35564 (100.0%) in 33.58 sec. Users per second: 1059\n"
     ]
    },
    {
     "name": "stderr",
     "output_type": "stream",
     "text": [
      "[I 2025-01-05 21:01:52,023] Trial 443 finished with value: 0.05309876346600399 and parameters: {'similarity': 'tversky', 'topK': 13, 'shrink': 33, 'feature_weighting': 'none', 'tversky_alpha': 0.062413761896447414, 'tversky_beta': 1.9677050459913177}. Best is trial 439 with value: 0.05361580072200237.\n"
     ]
    },
    {
     "name": "stdout",
     "output_type": "stream",
     "text": [
      "Similarity column 38121 (100.0%), 2660.37 column/sec. Elapsed time 14.33 sec\n",
      "EvaluatorHoldout: Ignoring 173 ( 0.5%) Users that have less than 1 test interactions\n",
      "EvaluatorHoldout: Processed 35563 (100.0%) in 33.95 sec. Users per second: 1048\n",
      "Similarity column 38121 (100.0%), 2671.94 column/sec. Elapsed time 14.27 sec\n",
      "EvaluatorHoldout: Ignoring 163 ( 0.5%) Users that have less than 1 test interactions\n",
      "EvaluatorHoldout: Processed 35573 (100.0%) in 34.35 sec. Users per second: 1036\n",
      "Similarity column 38121 (100.0%), 2686.91 column/sec. Elapsed time 14.19 sec\n",
      "EvaluatorHoldout: Ignoring 150 ( 0.4%) Users that have less than 1 test interactions\n",
      "EvaluatorHoldout: Processed 35586 (100.0%) in 34.53 sec. Users per second: 1030\n",
      "Similarity column 38121 (100.0%), 2669.52 column/sec. Elapsed time 14.28 sec\n",
      "EvaluatorHoldout: Ignoring 167 ( 0.5%) Users that have less than 1 test interactions\n",
      "EvaluatorHoldout: Processed 35569 (100.0%) in 33.87 sec. Users per second: 1050\n",
      "Similarity column 38121 (100.0%), 2632.72 column/sec. Elapsed time 14.48 sec\n",
      "EvaluatorHoldout: Ignoring 172 ( 0.5%) Users that have less than 1 test interactions\n",
      "EvaluatorHoldout: Processed 35564 (100.0%) in 33.20 sec. Users per second: 1071\n"
     ]
    },
    {
     "name": "stderr",
     "output_type": "stream",
     "text": [
      "[I 2025-01-05 21:05:55,630] Trial 444 finished with value: 0.05208959080168705 and parameters: {'similarity': 'tversky', 'topK': 13, 'shrink': 61, 'feature_weighting': 'none', 'tversky_alpha': 0.17199068346451227, 'tversky_beta': 1.9779828313951895}. Best is trial 439 with value: 0.05361580072200237.\n"
     ]
    },
    {
     "name": "stdout",
     "output_type": "stream",
     "text": [
      "Similarity column 38121 (100.0%), 2628.97 column/sec. Elapsed time 14.50 sec\n",
      "EvaluatorHoldout: Ignoring 173 ( 0.5%) Users that have less than 1 test interactions\n",
      "EvaluatorHoldout: Processed 35563 (100.0%) in 35.27 sec. Users per second: 1008\n",
      "Similarity column 38121 (100.0%), 2638.74 column/sec. Elapsed time 14.45 sec\n",
      "EvaluatorHoldout: Ignoring 163 ( 0.5%) Users that have less than 1 test interactions\n",
      "EvaluatorHoldout: Processed 35573 (100.0%) in 35.63 sec. Users per second: 998\n",
      "Similarity column 38121 (100.0%), 2673.05 column/sec. Elapsed time 14.26 sec\n",
      "EvaluatorHoldout: Ignoring 150 ( 0.4%) Users that have less than 1 test interactions\n",
      "EvaluatorHoldout: Processed 35586 (100.0%) in 35.36 sec. Users per second: 1007\n",
      "Similarity column 38121 (100.0%), 2646.53 column/sec. Elapsed time 14.40 sec\n",
      "EvaluatorHoldout: Ignoring 167 ( 0.5%) Users that have less than 1 test interactions\n",
      "EvaluatorHoldout: Processed 35569 (100.0%) in 36.06 sec. Users per second: 986\n",
      "Similarity column 38121 (100.0%), 2674.29 column/sec. Elapsed time 14.25 sec\n",
      "EvaluatorHoldout: Ignoring 172 ( 0.5%) Users that have less than 1 test interactions\n",
      "EvaluatorHoldout: Processed 35564 (100.0%) in 35.98 sec. Users per second: 989\n"
     ]
    },
    {
     "name": "stderr",
     "output_type": "stream",
     "text": [
      "[I 2025-01-05 21:10:08,754] Trial 445 finished with value: 0.04819016395472467 and parameters: {'similarity': 'tversky', 'topK': 34, 'shrink': 35, 'feature_weighting': 'BM25', 'tversky_alpha': 0.06876878328850766, 'tversky_beta': 1.8463261065715102}. Best is trial 439 with value: 0.05361580072200237.\n"
     ]
    },
    {
     "name": "stdout",
     "output_type": "stream",
     "text": [
      "Similarity column 38121 (100.0%), 2623.44 column/sec. Elapsed time 14.53 sec\n",
      "EvaluatorHoldout: Ignoring 173 ( 0.5%) Users that have less than 1 test interactions\n",
      "EvaluatorHoldout: Processed 35563 (100.0%) in 33.29 sec. Users per second: 1068\n",
      "Similarity column 38121 (100.0%), 2654.61 column/sec. Elapsed time 14.36 sec\n",
      "EvaluatorHoldout: Ignoring 163 ( 0.5%) Users that have less than 1 test interactions\n",
      "EvaluatorHoldout: Processed 35573 (100.0%) in 33.11 sec. Users per second: 1074\n",
      "Similarity column 38121 (100.0%), 2641.87 column/sec. Elapsed time 14.43 sec\n",
      "EvaluatorHoldout: Ignoring 150 ( 0.4%) Users that have less than 1 test interactions\n",
      "EvaluatorHoldout: Processed 35586 (100.0%) in 33.85 sec. Users per second: 1051\n",
      "Similarity column 38121 (100.0%), 2670.19 column/sec. Elapsed time 14.28 sec\n",
      "EvaluatorHoldout: Ignoring 167 ( 0.5%) Users that have less than 1 test interactions\n",
      "EvaluatorHoldout: Processed 35569 (100.0%) in 34.54 sec. Users per second: 1030\n",
      "Similarity column 38121 (100.0%), 2676.45 column/sec. Elapsed time 14.24 sec\n",
      "EvaluatorHoldout: Ignoring 172 ( 0.5%) Users that have less than 1 test interactions\n",
      "EvaluatorHoldout: Processed 35564 (100.0%) in 34.37 sec. Users per second: 1035\n"
     ]
    },
    {
     "name": "stderr",
     "output_type": "stream",
     "text": [
      "[I 2025-01-05 21:14:11,904] Trial 446 finished with value: 0.05173151421895898 and parameters: {'similarity': 'tversky', 'topK': 12, 'shrink': 79, 'feature_weighting': 'none', 'tversky_alpha': 0.1333449460067913, 'tversky_beta': 1.9980444914609181}. Best is trial 439 with value: 0.05361580072200237.\n"
     ]
    },
    {
     "name": "stdout",
     "output_type": "stream",
     "text": [
      "Similarity column 38121 (100.0%), 2810.16 column/sec. Elapsed time 13.57 sec\n",
      "EvaluatorHoldout: Ignoring 173 ( 0.5%) Users that have less than 1 test interactions\n",
      "EvaluatorHoldout: Processed 35563 (100.0%) in 40.42 sec. Users per second: 880\n",
      "Similarity column 38121 (100.0%), 2781.80 column/sec. Elapsed time 13.70 sec\n",
      "EvaluatorHoldout: Ignoring 163 ( 0.5%) Users that have less than 1 test interactions\n",
      "EvaluatorHoldout: Processed 35573 (100.0%) in 40.80 sec. Users per second: 872\n",
      "Similarity column 38121 (100.0%), 2800.98 column/sec. Elapsed time 13.61 sec\n",
      "EvaluatorHoldout: Ignoring 150 ( 0.4%) Users that have less than 1 test interactions\n",
      "EvaluatorHoldout: Processed 35586 (100.0%) in 40.66 sec. Users per second: 875\n",
      "Similarity column 38121 (100.0%), 2833.20 column/sec. Elapsed time 13.46 sec\n",
      "EvaluatorHoldout: Ignoring 167 ( 0.5%) Users that have less than 1 test interactions\n",
      "EvaluatorHoldout: Processed 35569 (100.0%) in 40.62 sec. Users per second: 876\n",
      "Similarity column 38121 (100.0%), 2784.57 column/sec. Elapsed time 13.69 sec\n",
      "EvaluatorHoldout: Ignoring 172 ( 0.5%) Users that have less than 1 test interactions\n",
      "EvaluatorHoldout: Processed 35564 (100.0%) in 40.78 sec. Users per second: 872\n"
     ]
    },
    {
     "name": "stderr",
     "output_type": "stream",
     "text": [
      "[I 2025-01-05 21:18:44,506] Trial 447 finished with value: 0.0332164579762767 and parameters: {'similarity': 'asymmetric', 'topK': 26, 'shrink': 38, 'feature_weighting': 'none', 'asymmetric_alpha': 1.3285151861283935}. Best is trial 439 with value: 0.05361580072200237.\n"
     ]
    },
    {
     "name": "stdout",
     "output_type": "stream",
     "text": [
      "Similarity column 38121 (100.0%), 3147.76 column/sec. Elapsed time 12.11 sec\n",
      "EvaluatorHoldout: Ignoring 173 ( 0.5%) Users that have less than 1 test interactions\n",
      "EvaluatorHoldout: Processed 35563 (100.0%) in 30.09 sec. Users per second: 1182\n",
      "Similarity column 38121 (100.0%), 3137.24 column/sec. Elapsed time 12.15 sec\n",
      "EvaluatorHoldout: Ignoring 163 ( 0.5%) Users that have less than 1 test interactions\n",
      "EvaluatorHoldout: Processed 35573 (100.0%) in 29.29 sec. Users per second: 1215\n",
      "Similarity column 38121 (100.0%), 3122.96 column/sec. Elapsed time 12.21 sec\n",
      "EvaluatorHoldout: Ignoring 150 ( 0.4%) Users that have less than 1 test interactions\n",
      "EvaluatorHoldout: Processed 35586 (100.0%) in 28.86 sec. Users per second: 1233\n",
      "Similarity column 38121 (100.0%), 3166.71 column/sec. Elapsed time 12.04 sec\n",
      "EvaluatorHoldout: Ignoring 167 ( 0.5%) Users that have less than 1 test interactions\n",
      "EvaluatorHoldout: Processed 35569 (100.0%) in 29.49 sec. Users per second: 1206\n",
      "Similarity column 38121 (100.0%), 3156.56 column/sec. Elapsed time 12.08 sec\n",
      "EvaluatorHoldout: Ignoring 172 ( 0.5%) Users that have less than 1 test interactions\n",
      "EvaluatorHoldout: Processed 35564 (100.0%) in 29.74 sec. Users per second: 1196\n"
     ]
    },
    {
     "name": "stderr",
     "output_type": "stream",
     "text": [
      "[I 2025-01-05 21:22:14,532] Trial 448 finished with value: 0.04542961201528556 and parameters: {'similarity': 'tversky', 'topK': 1, 'shrink': 58, 'feature_weighting': 'none', 'tversky_alpha': 0.0938672785716642, 'tversky_beta': 1.908905758693505}. Best is trial 439 with value: 0.05361580072200237.\n"
     ]
    },
    {
     "name": "stdout",
     "output_type": "stream",
     "text": [
      "Similarity column 38121 (100.0%), 2609.46 column/sec. Elapsed time 14.61 sec\n",
      "EvaluatorHoldout: Ignoring 173 ( 0.5%) Users that have less than 1 test interactions\n",
      "EvaluatorHoldout: Processed 35563 (100.0%) in 35.12 sec. Users per second: 1013\n",
      "Similarity column 38121 (100.0%), 2639.63 column/sec. Elapsed time 14.44 sec\n",
      "EvaluatorHoldout: Ignoring 163 ( 0.5%) Users that have less than 1 test interactions\n",
      "EvaluatorHoldout: Processed 35573 (100.0%) in 36.81 sec. Users per second: 966\n",
      "Similarity column 38121 (100.0%), 2590.39 column/sec. Elapsed time 14.72 sec\n",
      "EvaluatorHoldout: Ignoring 150 ( 0.4%) Users that have less than 1 test interactions\n",
      "EvaluatorHoldout: Processed 35586 (100.0%) in 36.39 sec. Users per second: 978\n",
      "Similarity column 38121 (100.0%), 2634.40 column/sec. Elapsed time 14.47 sec\n",
      "EvaluatorHoldout: Ignoring 167 ( 0.5%) Users that have less than 1 test interactions\n",
      "EvaluatorHoldout: Processed 35569 (100.0%) in 36.04 sec. Users per second: 987\n",
      "Similarity column 38121 (100.0%), 2616.81 column/sec. Elapsed time 14.57 sec\n",
      "EvaluatorHoldout: Ignoring 172 ( 0.5%) Users that have less than 1 test interactions\n",
      "EvaluatorHoldout: Processed 35564 (100.0%) in 37.07 sec. Users per second: 959\n"
     ]
    },
    {
     "name": "stderr",
     "output_type": "stream",
     "text": [
      "[I 2025-01-05 21:26:31,188] Trial 449 finished with value: 0.04945981344926281 and parameters: {'similarity': 'tversky', 'topK': 48, 'shrink': 18, 'feature_weighting': 'none', 'tversky_alpha': 0.04181494986361989, 'tversky_beta': 1.8832581658541323}. Best is trial 439 with value: 0.05361580072200237.\n"
     ]
    }
   ],
   "source": [
    "if config['tune_parameters']:\n",
    "    \n",
    "    optuna_study = optuna.create_study(direction='maximize', study_name=f'hyperparameters_tuning_{config[\"model\"]}_{config[\"metric\"]}',\n",
    "                                storage=f'sqlite:///{config[\"database_path\"]}', load_if_exists=True)\n",
    "\n",
    "    optuna_study.optimize(objective_function_ItemKNNCF, n_trials=50)"
   ]
  },
  {
   "cell_type": "markdown",
   "id": "fcbcd7fb",
   "metadata": {
    "papermill": {
     "duration": 0.061625,
     "end_time": "2025-01-05T21:26:31.353517",
     "exception": false,
     "start_time": "2025-01-05T21:26:31.291892",
     "status": "completed"
    },
    "tags": []
   },
   "source": [
    "## Some optuna visualizations on recommender parameters"
   ]
  },
  {
   "cell_type": "code",
   "execution_count": 14,
   "id": "39a6a8e5",
   "metadata": {
    "execution": {
     "iopub.execute_input": "2025-01-05T21:26:31.481935Z",
     "iopub.status.busy": "2025-01-05T21:26:31.481081Z",
     "iopub.status.idle": "2025-01-05T21:26:34.600953Z",
     "shell.execute_reply": "2025-01-05T21:26:34.599517Z"
    },
    "papermill": {
     "duration": 3.18563,
     "end_time": "2025-01-05T21:26:34.603103",
     "exception": false,
     "start_time": "2025-01-05T21:26:31.417473",
     "status": "completed"
    },
    "tags": []
   },
   "outputs": [
    {
     "data": {
      "text/html": [
       "<html>\n",
       "<head><meta charset=\"utf-8\" /></head>\n",
       "<body>\n",
       "    <div>            <script src=\"https://cdnjs.cloudflare.com/ajax/libs/mathjax/2.7.5/MathJax.js?config=TeX-AMS-MML_SVG\"></script><script type=\"text/javascript\">if (window.MathJax && window.MathJax.Hub && window.MathJax.Hub.Config) {window.MathJax.Hub.Config({SVG: {font: \"STIX-Web\"}});}</script>                <script type=\"text/javascript\">window.PlotlyConfig = {MathJaxConfig: 'local'};</script>\n",
       "        <script charset=\"utf-8\" src=\"https://cdn.plot.ly/plotly-2.35.2.min.js\"></script>                <div id=\"f87caee9-94e9-4601-adb6-7bf465a227e3\" class=\"plotly-graph-div\" style=\"height:525px; width:3000px;\"></div>            <script type=\"text/javascript\">                                    window.PLOTLYENV=window.PLOTLYENV || {};                                    if (document.getElementById(\"f87caee9-94e9-4601-adb6-7bf465a227e3\")) {                    Plotly.newPlot(                        \"f87caee9-94e9-4601-adb6-7bf465a227e3\",                        [{\"marker\":{\"color\":[1,18,27,36,57,70,97,125,158,275,315,337,364,391,419,447],\"colorbar\":{\"title\":{\"text\":\"Trial\"},\"x\":1.0,\"xpad\":40},\"colorscale\":[[0.0,\"rgb(247,251,255)\"],[0.125,\"rgb(222,235,247)\"],[0.25,\"rgb(198,219,239)\"],[0.375,\"rgb(158,202,225)\"],[0.5,\"rgb(107,174,214)\"],[0.625,\"rgb(66,146,198)\"],[0.75,\"rgb(33,113,181)\"],[0.875,\"rgb(8,81,156)\"],[1.0,\"rgb(8,48,107)\"]],\"line\":{\"color\":\"Grey\",\"width\":0.5},\"showscale\":true},\"mode\":\"markers\",\"name\":\"Feasible Trial\",\"showlegend\":false,\"x\":[0.9418222652166581,1.9529260996222917,0.0012138953143470133,1.934694050596998,0.32257361036385657,1.1078886213783108,1.147248784534726,0.6453577064150977,1.5917489318159819,1.4011725439161304,0.6021610970052698,1.6226784951707873,0.05777588698873659,0.7311227540008547,0.3358798962059333,1.3285151861283935],\"y\":[0.04171964497081084,0.009585828606819929,0.04010564854729204,0.018499769450536042,0.0469879804783168,0.022658722357174747,0.04057861037770286,0.045043685195053494,0.009216016064248595,0.02873532901480332,0.04602518466429443,0.030110588435945503,0.04619939186223303,0.04427639486010794,0.044915015556158844,0.0332164579762767],\"type\":\"scatter\",\"xaxis\":\"x\",\"yaxis\":\"y\"},{\"marker\":{\"color\":[0,1,2,3,4,5,6,7,8,9,10,11,12,13,14,15,16,17,18,19,20,21,22,23,24,25,26,27,28,29,30,31,32,33,34,35,36,37,38,39,40,41,42,43,44,45,46,47,48,49,50,51,52,53,54,55,56,57,58,59,60,61,62,63,64,65,66,67,68,69,70,71,72,73,74,75,76,77,78,79,80,81,82,83,84,85,86,87,88,89,90,91,92,93,94,95,96,97,98,99,100,101,102,103,104,105,106,107,108,109,110,111,112,113,114,115,116,117,118,119,120,121,122,123,124,125,126,127,128,129,130,131,132,133,134,135,136,137,138,139,140,141,142,143,144,145,146,147,148,149,150,151,152,153,154,155,156,157,158,159,160,161,162,163,164,165,166,167,168,169,170,171,172,173,174,175,176,177,178,179,180,181,182,183,184,185,186,187,188,189,190,191,192,193,194,195,196,197,198,199,200,201,202,203,204,205,206,207,208,209,210,211,212,213,214,215,216,217,218,219,220,221,222,223,224,225,226,227,228,229,230,231,232,233,234,235,236,237,238,239,240,241,242,243,244,245,246,247,248,249,250,251,252,253,254,255,256,257,258,259,260,261,262,263,264,265,266,267,268,269,270,271,272,273,274,275,276,277,278,279,280,281,282,283,284,285,286,287,288,289,290,291,292,293,294,295,296,297,298,299,300,301,302,303,304,305,306,307,308,309,310,311,312,313,314,315,316,317,318,319,320,321,322,323,324,325,326,327,328,329,330,331,332,333,334,335,336,337,338,339,340,341,342,343,344,345,346,347,348,349,350,351,352,353,354,355,356,357,358,359,360,361,362,363,364,365,366,367,368,369,370,371,372,373,374,375,376,377,378,379,380,381,382,383,384,385,386,387,388,389,390,391,392,393,394,395,396,397,398,399,400,401,402,403,404,405,406,407,408,409,410,411,412,413,414,415,416,417,418,419,420,421,422,423,424,425,426,427,428,429,430,431,432,433,434,435,436,437,438,439,440,441,442,443,444,445,446,447,448,449],\"colorbar\":{\"title\":{\"text\":\"Trial\"},\"x\":1.0,\"xpad\":40},\"colorscale\":[[0.0,\"rgb(247,251,255)\"],[0.125,\"rgb(222,235,247)\"],[0.25,\"rgb(198,219,239)\"],[0.375,\"rgb(158,202,225)\"],[0.5,\"rgb(107,174,214)\"],[0.625,\"rgb(66,146,198)\"],[0.75,\"rgb(33,113,181)\"],[0.875,\"rgb(8,81,156)\"],[1.0,\"rgb(8,48,107)\"]],\"line\":{\"color\":\"Grey\",\"width\":0.5},\"showscale\":false},\"mode\":\"markers\",\"name\":\"Feasible Trial\",\"showlegend\":false,\"x\":[\"BM25\",\"BM25\",\"TF-IDF\",\"BM25\",\"BM25\",\"BM25\",\"BM25\",\"TF-IDF\",\"BM25\",\"BM25\",\"TF-IDF\",\"TF-IDF\",\"none\",\"TF-IDF\",\"TF-IDF\",\"TF-IDF\",\"none\",\"TF-IDF\",\"TF-IDF\",\"TF-IDF\",\"none\",\"TF-IDF\",\"TF-IDF\",\"TF-IDF\",\"TF-IDF\",\"TF-IDF\",\"TF-IDF\",\"none\",\"TF-IDF\",\"TF-IDF\",\"TF-IDF\",\"TF-IDF\",\"TF-IDF\",\"TF-IDF\",\"TF-IDF\",\"TF-IDF\",\"TF-IDF\",\"none\",\"TF-IDF\",\"BM25\",\"TF-IDF\",\"TF-IDF\",\"TF-IDF\",\"TF-IDF\",\"BM25\",\"TF-IDF\",\"TF-IDF\",\"TF-IDF\",\"BM25\",\"TF-IDF\",\"none\",\"TF-IDF\",\"TF-IDF\",\"TF-IDF\",\"TF-IDF\",\"TF-IDF\",\"TF-IDF\",\"TF-IDF\",\"TF-IDF\",\"BM25\",\"TF-IDF\",\"TF-IDF\",\"TF-IDF\",\"TF-IDF\",\"TF-IDF\",\"TF-IDF\",\"none\",\"TF-IDF\",\"TF-IDF\",\"TF-IDF\",\"TF-IDF\",\"TF-IDF\",\"TF-IDF\",\"TF-IDF\",\"TF-IDF\",\"TF-IDF\",\"TF-IDF\",\"none\",\"TF-IDF\",\"BM25\",\"TF-IDF\",\"TF-IDF\",\"TF-IDF\",\"TF-IDF\",\"TF-IDF\",\"TF-IDF\",\"TF-IDF\",\"TF-IDF\",\"TF-IDF\",\"TF-IDF\",\"none\",\"TF-IDF\",\"TF-IDF\",\"TF-IDF\",\"TF-IDF\",\"TF-IDF\",\"TF-IDF\",\"BM25\",\"TF-IDF\",\"TF-IDF\",\"TF-IDF\",\"TF-IDF\",\"TF-IDF\",\"TF-IDF\",\"TF-IDF\",\"TF-IDF\",\"TF-IDF\",\"TF-IDF\",\"TF-IDF\",\"TF-IDF\",\"TF-IDF\",\"TF-IDF\",\"TF-IDF\",\"TF-IDF\",\"TF-IDF\",\"TF-IDF\",\"TF-IDF\",\"none\",\"BM25\",\"TF-IDF\",\"TF-IDF\",\"TF-IDF\",\"TF-IDF\",\"TF-IDF\",\"TF-IDF\",\"TF-IDF\",\"TF-IDF\",\"TF-IDF\",\"TF-IDF\",\"TF-IDF\",\"TF-IDF\",\"TF-IDF\",\"TF-IDF\",\"TF-IDF\",\"TF-IDF\",\"TF-IDF\",\"TF-IDF\",\"TF-IDF\",\"TF-IDF\",\"none\",\"TF-IDF\",\"TF-IDF\",\"TF-IDF\",\"TF-IDF\",\"TF-IDF\",\"TF-IDF\",\"BM25\",\"TF-IDF\",\"TF-IDF\",\"TF-IDF\",\"TF-IDF\",\"TF-IDF\",\"TF-IDF\",\"TF-IDF\",\"TF-IDF\",\"TF-IDF\",\"TF-IDF\",\"TF-IDF\",\"TF-IDF\",\"TF-IDF\",\"TF-IDF\",\"TF-IDF\",\"TF-IDF\",\"TF-IDF\",\"TF-IDF\",\"TF-IDF\",\"TF-IDF\",\"TF-IDF\",\"TF-IDF\",\"none\",\"TF-IDF\",\"TF-IDF\",\"TF-IDF\",\"TF-IDF\",\"TF-IDF\",\"TF-IDF\",\"TF-IDF\",\"BM25\",\"TF-IDF\",\"TF-IDF\",\"TF-IDF\",\"TF-IDF\",\"TF-IDF\",\"TF-IDF\",\"TF-IDF\",\"TF-IDF\",\"TF-IDF\",\"TF-IDF\",\"TF-IDF\",\"TF-IDF\",\"TF-IDF\",\"TF-IDF\",\"TF-IDF\",\"TF-IDF\",\"TF-IDF\",\"TF-IDF\",\"TF-IDF\",\"TF-IDF\",\"TF-IDF\",\"TF-IDF\",\"TF-IDF\",\"TF-IDF\",\"TF-IDF\",\"TF-IDF\",\"TF-IDF\",\"TF-IDF\",\"TF-IDF\",\"TF-IDF\",\"none\",\"none\",\"none\",\"none\",\"none\",\"none\",\"none\",\"none\",\"none\",\"none\",\"none\",\"none\",\"none\",\"none\",\"none\",\"none\",\"none\",\"none\",\"none\",\"none\",\"none\",\"none\",\"none\",\"none\",\"none\",\"none\",\"none\",\"none\",\"none\",\"none\",\"none\",\"none\",\"none\",\"none\",\"none\",\"none\",\"none\",\"none\",\"none\",\"none\",\"none\",\"none\",\"none\",\"none\",\"none\",\"none\",\"none\",\"none\",\"none\",\"none\",\"none\",\"none\",\"none\",\"none\",\"none\",\"none\",\"none\",\"none\",\"none\",\"none\",\"none\",\"none\",\"none\",\"none\",\"none\",\"none\",\"none\",\"none\",\"none\",\"none\",\"none\",\"none\",\"none\",\"none\",\"none\",\"none\",\"none\",\"none\",\"none\",\"none\",\"none\",\"none\",\"none\",\"none\",\"none\",\"none\",\"none\",\"none\",\"none\",\"none\",\"none\",\"none\",\"none\",\"none\",\"none\",\"none\",\"none\",\"none\",\"none\",\"none\",\"none\",\"none\",\"none\",\"none\",\"none\",\"BM25\",\"none\",\"none\",\"none\",\"none\",\"none\",\"none\",\"none\",\"none\",\"none\",\"none\",\"none\",\"none\",\"none\",\"none\",\"none\",\"none\",\"none\",\"none\",\"none\",\"BM25\",\"none\",\"none\",\"none\",\"none\",\"none\",\"none\",\"none\",\"none\",\"none\",\"none\",\"none\",\"none\",\"none\",\"none\",\"none\",\"none\",\"none\",\"none\",\"none\",\"none\",\"BM25\",\"none\",\"none\",\"none\",\"none\",\"none\",\"none\",\"none\",\"none\",\"none\",\"none\",\"none\",\"none\",\"none\",\"none\",\"none\",\"none\",\"none\",\"none\",\"none\",\"none\",\"BM25\",\"none\",\"none\",\"none\",\"none\",\"none\",\"none\",\"none\",\"none\",\"none\",\"none\",\"none\",\"none\",\"none\",\"none\",\"none\",\"none\",\"none\",\"none\",\"none\",\"BM25\",\"none\",\"none\",\"none\",\"none\",\"none\",\"none\",\"none\",\"none\",\"none\",\"none\",\"none\",\"none\",\"none\",\"none\",\"none\",\"none\",\"none\",\"none\",\"none\",\"BM25\",\"none\",\"none\",\"none\",\"none\",\"none\",\"none\",\"none\",\"none\",\"none\",\"none\",\"none\",\"none\",\"none\",\"none\",\"none\",\"none\",\"none\",\"none\",\"none\",\"none\",\"none\",\"none\",\"none\",\"none\",\"none\",\"none\",\"none\",\"none\",\"none\",\"BM25\",\"none\",\"none\",\"none\",\"none\"],\"y\":[0.03847803567849229,0.04171964497081084,0.045075083416706754,0.03969241243666473,0.015505116638520241,0.03390989215925825,0.04208916606138639,0.03992089568563728,0.03689398166065726,0.0419195619113201,0.04286446311593473,0.04370869088626762,0.03922014699048953,0.03898220646002158,0.04522533432718656,0.045419613559969596,0.033276953099928765,0.044603421446640534,0.009585828606819929,0.04603685469227625,0.036478533171880455,0.04936385234454629,0.04884736351921455,0.05167910318356951,0.051299149203227944,0.048890057353751605,0.04422724678859554,0.04010564854729204,0.018002904416695022,0.034522039692480196,0.044599477795545094,0.04921190880610869,0.050085003730726205,0.04670507928914593,0.04774758311109263,0.04624842492671421,0.018499769450536042,0.0471228279082221,0.04704902406361122,0.039014626607979955,0.046365675679190935,0.048154934413874154,0.047921209852360445,0.0516509302410396,0.03591129786809708,0.041083810657646824,0.04402098719895735,0.019161143155815477,0.04561184037203904,0.03602128500231943,0.03458822598741253,0.04784897708922793,0.04820380943479764,0.041976571864759823,0.04740382442291594,0.045051453542955366,0.04648504130021554,0.0469879804783168,0.048461992727442914,0.042413896090541955,0.049028092198309045,0.04919733821484708,0.048179967153130845,0.04694401449089732,0.04954915876216106,0.0002664826418719655,0.0395961476902804,0.02765333913833305,0.04249586982388426,0.04387294658296601,0.022658722357174747,0.049331885341930864,0.049934388763156416,0.04844238489569648,0.04950439674902438,0.047842500622259865,0.047141583913202785,0.044330265171293334,0.04507506180411467,0.042850527787547776,0.042630380128308054,0.04933324510119477,0.0481437214970748,0.04975391008487637,0.04686650492269808,0.04726198463493369,0.04656591531270172,0.04282694024513882,0.03238459417420321,0.047910376227795134,0.03642232578734297,0.0494451147008956,0.0002664826418719655,0.049154679926459895,0.04736466281198917,0.049376702406276715,0.04834581653075937,0.04057861037770286,0.05031477680681584,0.05037676712344134,0.04800919581518322,0.04963598798308874,0.0002664826418719655,0.049504241473341926,0.04751151390853433,0.043710622878157565,0.04793737819207235,0.04664669663710096,0.0466421111068875,0.05014495286754074,0.05001918540506721,0.04937054806796139,0.04853121084630373,0.0002664826418719655,0.04086167291275695,0.04711551945335192,0.048255655760942956,0.04232723894120498,0.04212373222017858,0.021211838801501057,0.046355664992873455,0.04879863008544178,0.050289612360944605,0.05094557622011079,0.05141379116754542,0.045043685195053494,0.0421953998415494,0.04824104595311586,0.04536433696221219,0.04804893042642694,0.047355889084013954,0.04994099064968518,0.04844011894775917,0.05072062948872008,0.05167499647934026,0.0002664826418719655,0.047950622301437665,0.047706655214182506,0.04858543575580961,0.0002664826418719655,0.047096205258541024,0.049633379649968196,0.04980878259305179,0.04851957081257526,0.0002664826418719655,0.044756911256342055,0.02784785793175936,0.04847850697449875,0.047116810660729994,0.04318529427697464,0.04837693138361469,0.05005289223297421,0.04983953922684468,0.048081317213503866,0.04739143116001597,0.050711091356320306,0.0423139061213198,0.04850785022691531,0.009216016064248595,0.04782418485527614,0.0002664826418719655,0.049024305900822816,0.04964787000215071,0.04821691192237398,0.04766757359625482,0.049898896364941756,0.04866275228073952,0.050339485124901585,0.04805792166950668,0.03807168129783852,0.04801868844605957,0.04989307820097129,0.04862042917789884,0.0002664826418719655,0.04872917207550892,0.0421431333588106,0.050170333522096044,0.04282836807235073,0.04991526231617852,0.028107451890721297,0.0002664826418719655,0.04993257210734363,0.04898506243922583,0.04955189791234907,0.048159910345721285,0.04999742933612483,0.04651908289037322,0.048688769926603,0.05017736655787099,0.052770132207501916,0.044920360081063405,0.05053286852839014,0.0002664826418719655,0.050562791169713586,0.05031125284117284,0.04990563145551257,0.05112802526300825,0.04885511508997322,0.05069920295812504,0.04950766943167519,0.050427546154826045,0.05069072979215204,0.05073869298991869,0.04989507028462124,0.049972583889434,0.04700001020406326,0.0512353018267241,0.04827784121151514,0.05104263186459542,0.05092531802018609,0.050869259929248144,0.05073879495247531,0.049012160319736396,0.05039360254194376,0.050921486747334446,0.04891709249337225,0.04711571482008757,0.04995752837612295,0.04922041848900541,0.05102792024432849,0.04973127692293931,0.05038853822528087,0.05126283537418349,0.051778250982194365,0.05169413881766273,0.050889642540877744,0.05130924006573032,0.05112273381674017,0.048247156201741616,0.05121506243504324,0.05051766722476123,0.05124083401322201,0.050911436434536786,0.05107694519486827,0.05080826109915465,0.04784381402931958,0.04868276479117052,0.050435703298782,0.05143864758675326,0.05238586893488721,0.051812229848526695,0.05235041859328893,0.0002664826418719655,0.052734651923476726,0.052749727917604794,0.0002664826418719655,0.05119815890180516,0.05287919963207016,0.05223501429331294,0.051298554172739305,0.05135107591876845,0.04254372298438136,0.053134600182737454,0.052909503083440244,0.0002664826418719655,0.03920845351012365,0.05275915171373006,0.05319752032663925,0.053035294599967545,0.041507624622074385,0.053230998474819435,0.05318001901092788,0.04641161061905724,0.053037738820821044,0.0002664826418719655,0.05312387900539119,0.0529325066441798,0.05351701566277965,0.053314355858730775,0.03307219962532294,0.05178013728169698,0.049045059421762065,0.05127462047917321,0.029566477782746063,0.0002664826418719655,0.02873532901480332,0.05091777583110446,0.05267623074832051,0.05318563606780051,0.03804079968142458,0.048897001938809,0.05300323925642245,0.03690790987867579,0.052648941574855224,0.05306271583010617,0.05263656227082064,0.048891441644559844,0.053398304472673463,0.0002664826418719655,0.05272727050856829,0.052834820688102344,0.04848977138583462,0.052674484024547705,0.04040126154027886,0.04890841429102853,0.0002664826418719655,0.03911269935383791,0.0002664826418719655,0.040218770111744254,0.04916640282816878,0.047323777618326984,0.052218659379927014,0.0002664826418719655,0.0488647275039855,0.050529757918228224,0.047743133713452346,0.030807682327581472,0.04936410099543398,0.05293868035823385,0.0002664826418719655,0.04265414117226195,0.048691379157994576,0.045019433248485036,0.04772679808345506,0.04883103346022026,0.04602518466429443,0.0002664826418719655,0.05084333155381747,0.04915832064079717,0.05034803846721865,0.05332291730899048,0.05021782525860478,0.0002664826418719655,0.030700959376724242,0.03892928588716499,0.03888675349644569,0.03851616520440891,0.04194539938141715,0.05212252852978096,0.049119631837963154,0.05318691699897445,0.04859005646792183,0.051068356184236205,0.047562021882130046,0.048584741000029706,0.043302073935299466,0.051398648188950694,0.030110588435945503,0.04405993648353966,0.051167828048413355,0.04902288614972887,0.0002664826418719655,0.0477290652407735,0.05009965070172061,0.03672381871723387,0.05115571159589503,0.05190464757486465,0.050247743921605095,0.0002664826418719655,0.046151171893206104,0.028730403330002617,0.05228112223311544,0.04005070835123643,0.0002664826418719655,0.048282279597252786,0.051259577771329536,0.04780772231426175,0.049442899187413444,0.04431384850474095,0.051137952942888254,0.039108616243827964,0.05318697410454916,0.04983285667641849,0.05172419486866692,0.04619939186223303,0.051540571067009634,0.03492244675424558,0.04656199182493171,0.04707263653009917,0.0002664826418719655,0.04040000862559073,0.04941823080124984,0.05239761587862009,0.04730642709610305,0.0002664826418719655,0.048651239718197604,0.05129266217579649,0.032833428871407125,0.05221626161352992,0.05062357831681236,0.048755892234960733,0.045554569718085844,0.0002664826418719655,0.049076559093286454,0.05259571933291268,0.048391519477274256,0.05141879854179728,0.0002664826418719655,0.04845640169812706,0.0503645963501691,0.05154465609281805,0.04427639486010794,0.0448004959333929,0.05125224959235103,0.05288545887397246,0.04811730227993134,0.0002664826418719655,0.05191662902991125,0.04962726571595453,0.04810938304912923,0.05296297056819297,0.05180491511054517,0.050212445949555984,0.04890254911014445,0.05234266206143654,0.027849120432293224,0.050635049291986776,0.0002664826418719655,0.0002664826418719655,0.04935880437197928,0.050337888151667606,0.05271727528864534,0.05030022352294915,0.0002664826418719655,0.051399042321652356,0.046372146682097506,0.048470575750490075,0.041358792111946055,0.053440919475009716,0.044915015556158844,0.05281217814385904,0.04331215651401088,0.05253748276025958,0.04857496393632387,0.04425798564934068,0.04710099530879066,0.041513886514609244,0.0002664826418719655,0.05153650500853167,0.0413814368881109,0.05293386835462682,0.051505793004816405,0.05013509185909866,0.0002664826418719655,0.04622433142565943,0.049192538958732546,0.04502763916786962,0.04089592858793144,0.049663721791680646,0.05361580072200237,0.042880406262806404,0.051764175618139875,0.04996687129806965,0.05309876346600399,0.05208959080168705,0.04819016395472467,0.05173151421895898,0.0332164579762767,0.04542961201528556,0.04945981344926281],\"type\":\"scatter\",\"xaxis\":\"x2\",\"yaxis\":\"y2\"},{\"marker\":{\"color\":[4,5,28,37,47,67,88,119,146,179,297,323,350,377,405,433],\"colorbar\":{\"title\":{\"text\":\"Trial\"},\"x\":1.0,\"xpad\":40},\"colorscale\":[[0.0,\"rgb(247,251,255)\"],[0.125,\"rgb(222,235,247)\"],[0.25,\"rgb(198,219,239)\"],[0.375,\"rgb(158,202,225)\"],[0.5,\"rgb(107,174,214)\"],[0.625,\"rgb(66,146,198)\"],[0.75,\"rgb(33,113,181)\"],[0.875,\"rgb(8,81,156)\"],[1.0,\"rgb(8,48,107)\"]],\"line\":{\"color\":\"Grey\",\"width\":0.5},\"showscale\":false},\"mode\":\"markers\",\"name\":\"Feasible Trial\",\"showlegend\":false,\"x\":[true,false,false,true,true,false,true,false,true,false,false,true,false,true,false,true],\"y\":[0.015505116638520241,0.03390989215925825,0.018002904416695022,0.0471228279082221,0.019161143155815477,0.02765333913833305,0.03238459417420321,0.021211838801501057,0.02784785793175936,0.028107451890721297,0.0002664826418719655,0.030700959376724242,0.028730403330002617,0.032833428871407125,0.027849120432293224,0.0002664826418719655],\"type\":\"scatter\",\"xaxis\":\"x3\",\"yaxis\":\"y3\"},{\"marker\":{\"color\":[4,5,28,37,47,67,88,119,146,179,297,323,350,377,405,433],\"colorbar\":{\"title\":{\"text\":\"Trial\"},\"x\":1.0,\"xpad\":40},\"colorscale\":[[0.0,\"rgb(247,251,255)\"],[0.125,\"rgb(222,235,247)\"],[0.25,\"rgb(198,219,239)\"],[0.375,\"rgb(158,202,225)\"],[0.5,\"rgb(107,174,214)\"],[0.625,\"rgb(66,146,198)\"],[0.75,\"rgb(33,113,181)\"],[0.875,\"rgb(8,81,156)\"],[1.0,\"rgb(8,48,107)\"]],\"line\":{\"color\":\"Grey\",\"width\":0.5},\"showscale\":false},\"mode\":\"markers\",\"name\":\"Feasible Trial\",\"showlegend\":false,\"x\":[true,true,false,false,false,true,true,false,true,false,false,true,true,false,true,false],\"y\":[0.015505116638520241,0.03390989215925825,0.018002904416695022,0.0471228279082221,0.019161143155815477,0.02765333913833305,0.03238459417420321,0.021211838801501057,0.02784785793175936,0.028107451890721297,0.0002664826418719655,0.030700959376724242,0.028730403330002617,0.032833428871407125,0.027849120432293224,0.0002664826418719655],\"type\":\"scatter\",\"xaxis\":\"x4\",\"yaxis\":\"y4\"},{\"marker\":{\"color\":[0,1,2,3,4,5,6,7,8,9,10,11,12,13,14,15,16,17,18,19,20,21,22,23,24,25,26,27,28,29,30,31,32,33,34,35,36,37,38,39,40,41,42,43,44,45,46,47,48,49,50,51,52,53,54,55,56,57,58,59,60,61,62,63,64,65,66,67,68,69,70,71,72,73,74,75,76,77,78,79,80,81,82,83,84,85,86,87,88,89,90,91,92,93,94,95,96,97,98,99,100,101,102,103,104,105,106,107,108,109,110,111,112,113,114,115,116,117,118,119,120,121,122,123,124,125,126,127,128,129,130,131,132,133,134,135,136,137,138,139,140,141,142,143,144,145,146,147,148,149,150,151,152,153,154,155,156,157,158,159,160,161,162,163,164,165,166,167,168,169,170,171,172,173,174,175,176,177,178,179,180,181,182,183,184,185,186,187,188,189,190,191,192,193,194,195,196,197,198,199,200,201,202,203,204,205,206,207,208,209,210,211,212,213,214,215,216,217,218,219,220,221,222,223,224,225,226,227,228,229,230,231,232,233,234,235,236,237,238,239,240,241,242,243,244,245,246,247,248,249,250,251,252,253,254,255,256,257,258,259,260,261,262,263,264,265,266,267,268,269,270,271,272,273,274,275,276,277,278,279,280,281,282,283,284,285,286,287,288,289,290,291,292,293,294,295,296,297,298,299,300,301,302,303,304,305,306,307,308,309,310,311,312,313,314,315,316,317,318,319,320,321,322,323,324,325,326,327,328,329,330,331,332,333,334,335,336,337,338,339,340,341,342,343,344,345,346,347,348,349,350,351,352,353,354,355,356,357,358,359,360,361,362,363,364,365,366,367,368,369,370,371,372,373,374,375,376,377,378,379,380,381,382,383,384,385,386,387,388,389,390,391,392,393,394,395,396,397,398,399,400,401,402,403,404,405,406,407,408,409,410,411,412,413,414,415,416,417,418,419,420,421,422,423,424,425,426,427,428,429,430,431,432,433,434,435,436,437,438,439,440,441,442,443,444,445,446,447,448,449],\"colorbar\":{\"title\":{\"text\":\"Trial\"},\"x\":1.0,\"xpad\":40},\"colorscale\":[[0.0,\"rgb(247,251,255)\"],[0.125,\"rgb(222,235,247)\"],[0.25,\"rgb(198,219,239)\"],[0.375,\"rgb(158,202,225)\"],[0.5,\"rgb(107,174,214)\"],[0.625,\"rgb(66,146,198)\"],[0.75,\"rgb(33,113,181)\"],[0.875,\"rgb(8,81,156)\"],[1.0,\"rgb(8,48,107)\"]],\"line\":{\"color\":\"Grey\",\"width\":0.5},\"showscale\":false},\"mode\":\"markers\",\"name\":\"Feasible Trial\",\"showlegend\":false,\"x\":[895,532,250,438,382,879,87,418,992,699,56,15,223,221,201,252,595,316,135,162,325,167,131,128,1,3,95,305,9,703,150,6,57,91,183,68,552,258,63,382,133,28,101,36,49,183,112,271,54,820,463,12,1,52,167,217,73,122,36,94,221,204,365,137,165,39,160,71,287,989,102,194,185,249,182,344,239,151,114,177,81,193,147,279,636,116,31,416,168,299,267,234,227,324,212,129,87,134,56,27,33,55,58,24,71,16,50,100,3,79,81,82,50,34,0,68,110,91,26,503,65,149,123,46,121,124,103,43,82,115,21,60,74,39,44,41,13,58,91,1,45,24,780,70,138,100,37,78,122,59,20,102,89,110,53,145,147,37,76,17,91,167,115,64,130,43,95,149,138,59,580,160,25,1,191,111,83,80,53,97,71,129,153,37,107,79,51,76,22,16,28,5,4,17,0,20,2,1,20,12,32,25,22,34,3,32,3,13,2,25,25,23,25,36,2,1,20,40,0,16,16,43,21,16,23,45,47,48,44,45,52,47,45,51,52,54,43,59,2,4,1,7,6,4,17,0,0,16,15,1,0,3,21,24,23,27,24,21,26,670,22,30,28,27,27,31,27,30,29,956,64,31,65,457,31,25,70,36,22,21,34,22,65,19,36,36,39,36,62,38,41,61,39,803,40,62,413,39,38,65,33,53,23,48,71,23,528,40,21,79,744,54,23,38,18,53,35,73,22,58,19,17,19,44,0,868,20,79,39,58,17,16,0,20,35,60,18,45,15,0,86,32,60,35,360,16,53,0,36,73,20,46,0,28,59,20,86,39,19,61,43,15,1,18,23,1,53,31,75,15,602,38,19,59,1,38,70,20,47,0,32,54,21,92,33,16,72,48,18,37,0,59,0,30,44,88,73,53,50,43,30,70,30,93,54,36,22,77,51,27,65,37,17,46,18,0,63,482,35,95,49,72,48,40,83,60,34,57,19,308,35,35,20,0,70,34,23,101,46,15,14,16,1,33,61,35,79,38,58,18],\"y\":[0.03847803567849229,0.04171964497081084,0.045075083416706754,0.03969241243666473,0.015505116638520241,0.03390989215925825,0.04208916606138639,0.03992089568563728,0.03689398166065726,0.0419195619113201,0.04286446311593473,0.04370869088626762,0.03922014699048953,0.03898220646002158,0.04522533432718656,0.045419613559969596,0.033276953099928765,0.044603421446640534,0.009585828606819929,0.04603685469227625,0.036478533171880455,0.04936385234454629,0.04884736351921455,0.05167910318356951,0.051299149203227944,0.048890057353751605,0.04422724678859554,0.04010564854729204,0.018002904416695022,0.034522039692480196,0.044599477795545094,0.04921190880610869,0.050085003730726205,0.04670507928914593,0.04774758311109263,0.04624842492671421,0.018499769450536042,0.0471228279082221,0.04704902406361122,0.039014626607979955,0.046365675679190935,0.048154934413874154,0.047921209852360445,0.0516509302410396,0.03591129786809708,0.041083810657646824,0.04402098719895735,0.019161143155815477,0.04561184037203904,0.03602128500231943,0.03458822598741253,0.04784897708922793,0.04820380943479764,0.041976571864759823,0.04740382442291594,0.045051453542955366,0.04648504130021554,0.0469879804783168,0.048461992727442914,0.042413896090541955,0.049028092198309045,0.04919733821484708,0.048179967153130845,0.04694401449089732,0.04954915876216106,0.0002664826418719655,0.0395961476902804,0.02765333913833305,0.04249586982388426,0.04387294658296601,0.022658722357174747,0.049331885341930864,0.049934388763156416,0.04844238489569648,0.04950439674902438,0.047842500622259865,0.047141583913202785,0.044330265171293334,0.04507506180411467,0.042850527787547776,0.042630380128308054,0.04933324510119477,0.0481437214970748,0.04975391008487637,0.04686650492269808,0.04726198463493369,0.04656591531270172,0.04282694024513882,0.03238459417420321,0.047910376227795134,0.03642232578734297,0.0494451147008956,0.0002664826418719655,0.049154679926459895,0.04736466281198917,0.049376702406276715,0.04834581653075937,0.04057861037770286,0.05031477680681584,0.05037676712344134,0.04800919581518322,0.04963598798308874,0.0002664826418719655,0.049504241473341926,0.04751151390853433,0.043710622878157565,0.04793737819207235,0.04664669663710096,0.0466421111068875,0.05014495286754074,0.05001918540506721,0.04937054806796139,0.04853121084630373,0.0002664826418719655,0.04086167291275695,0.04711551945335192,0.048255655760942956,0.04232723894120498,0.04212373222017858,0.021211838801501057,0.046355664992873455,0.04879863008544178,0.050289612360944605,0.05094557622011079,0.05141379116754542,0.045043685195053494,0.0421953998415494,0.04824104595311586,0.04536433696221219,0.04804893042642694,0.047355889084013954,0.04994099064968518,0.04844011894775917,0.05072062948872008,0.05167499647934026,0.0002664826418719655,0.047950622301437665,0.047706655214182506,0.04858543575580961,0.0002664826418719655,0.047096205258541024,0.049633379649968196,0.04980878259305179,0.04851957081257526,0.0002664826418719655,0.044756911256342055,0.02784785793175936,0.04847850697449875,0.047116810660729994,0.04318529427697464,0.04837693138361469,0.05005289223297421,0.04983953922684468,0.048081317213503866,0.04739143116001597,0.050711091356320306,0.0423139061213198,0.04850785022691531,0.009216016064248595,0.04782418485527614,0.0002664826418719655,0.049024305900822816,0.04964787000215071,0.04821691192237398,0.04766757359625482,0.049898896364941756,0.04866275228073952,0.050339485124901585,0.04805792166950668,0.03807168129783852,0.04801868844605957,0.04989307820097129,0.04862042917789884,0.0002664826418719655,0.04872917207550892,0.0421431333588106,0.050170333522096044,0.04282836807235073,0.04991526231617852,0.028107451890721297,0.0002664826418719655,0.04993257210734363,0.04898506243922583,0.04955189791234907,0.048159910345721285,0.04999742933612483,0.04651908289037322,0.048688769926603,0.05017736655787099,0.052770132207501916,0.044920360081063405,0.05053286852839014,0.0002664826418719655,0.050562791169713586,0.05031125284117284,0.04990563145551257,0.05112802526300825,0.04885511508997322,0.05069920295812504,0.04950766943167519,0.050427546154826045,0.05069072979215204,0.05073869298991869,0.04989507028462124,0.049972583889434,0.04700001020406326,0.0512353018267241,0.04827784121151514,0.05104263186459542,0.05092531802018609,0.050869259929248144,0.05073879495247531,0.049012160319736396,0.05039360254194376,0.050921486747334446,0.04891709249337225,0.04711571482008757,0.04995752837612295,0.04922041848900541,0.05102792024432849,0.04973127692293931,0.05038853822528087,0.05126283537418349,0.051778250982194365,0.05169413881766273,0.050889642540877744,0.05130924006573032,0.05112273381674017,0.048247156201741616,0.05121506243504324,0.05051766722476123,0.05124083401322201,0.050911436434536786,0.05107694519486827,0.05080826109915465,0.04784381402931958,0.04868276479117052,0.050435703298782,0.05143864758675326,0.05238586893488721,0.051812229848526695,0.05235041859328893,0.0002664826418719655,0.052734651923476726,0.052749727917604794,0.0002664826418719655,0.05119815890180516,0.05287919963207016,0.05223501429331294,0.051298554172739305,0.05135107591876845,0.04254372298438136,0.053134600182737454,0.052909503083440244,0.0002664826418719655,0.03920845351012365,0.05275915171373006,0.05319752032663925,0.053035294599967545,0.041507624622074385,0.053230998474819435,0.05318001901092788,0.04641161061905724,0.053037738820821044,0.0002664826418719655,0.05312387900539119,0.0529325066441798,0.05351701566277965,0.053314355858730775,0.03307219962532294,0.05178013728169698,0.049045059421762065,0.05127462047917321,0.029566477782746063,0.0002664826418719655,0.02873532901480332,0.05091777583110446,0.05267623074832051,0.05318563606780051,0.03804079968142458,0.048897001938809,0.05300323925642245,0.03690790987867579,0.052648941574855224,0.05306271583010617,0.05263656227082064,0.048891441644559844,0.053398304472673463,0.0002664826418719655,0.05272727050856829,0.052834820688102344,0.04848977138583462,0.052674484024547705,0.04040126154027886,0.04890841429102853,0.0002664826418719655,0.03911269935383791,0.0002664826418719655,0.040218770111744254,0.04916640282816878,0.047323777618326984,0.052218659379927014,0.0002664826418719655,0.0488647275039855,0.050529757918228224,0.047743133713452346,0.030807682327581472,0.04936410099543398,0.05293868035823385,0.0002664826418719655,0.04265414117226195,0.048691379157994576,0.045019433248485036,0.04772679808345506,0.04883103346022026,0.04602518466429443,0.0002664826418719655,0.05084333155381747,0.04915832064079717,0.05034803846721865,0.05332291730899048,0.05021782525860478,0.0002664826418719655,0.030700959376724242,0.03892928588716499,0.03888675349644569,0.03851616520440891,0.04194539938141715,0.05212252852978096,0.049119631837963154,0.05318691699897445,0.04859005646792183,0.051068356184236205,0.047562021882130046,0.048584741000029706,0.043302073935299466,0.051398648188950694,0.030110588435945503,0.04405993648353966,0.051167828048413355,0.04902288614972887,0.0002664826418719655,0.0477290652407735,0.05009965070172061,0.03672381871723387,0.05115571159589503,0.05190464757486465,0.050247743921605095,0.0002664826418719655,0.046151171893206104,0.028730403330002617,0.05228112223311544,0.04005070835123643,0.0002664826418719655,0.048282279597252786,0.051259577771329536,0.04780772231426175,0.049442899187413444,0.04431384850474095,0.051137952942888254,0.039108616243827964,0.05318697410454916,0.04983285667641849,0.05172419486866692,0.04619939186223303,0.051540571067009634,0.03492244675424558,0.04656199182493171,0.04707263653009917,0.0002664826418719655,0.04040000862559073,0.04941823080124984,0.05239761587862009,0.04730642709610305,0.0002664826418719655,0.048651239718197604,0.05129266217579649,0.032833428871407125,0.05221626161352992,0.05062357831681236,0.048755892234960733,0.045554569718085844,0.0002664826418719655,0.049076559093286454,0.05259571933291268,0.048391519477274256,0.05141879854179728,0.0002664826418719655,0.04845640169812706,0.0503645963501691,0.05154465609281805,0.04427639486010794,0.0448004959333929,0.05125224959235103,0.05288545887397246,0.04811730227993134,0.0002664826418719655,0.05191662902991125,0.04962726571595453,0.04810938304912923,0.05296297056819297,0.05180491511054517,0.050212445949555984,0.04890254911014445,0.05234266206143654,0.027849120432293224,0.050635049291986776,0.0002664826418719655,0.0002664826418719655,0.04935880437197928,0.050337888151667606,0.05271727528864534,0.05030022352294915,0.0002664826418719655,0.051399042321652356,0.046372146682097506,0.048470575750490075,0.041358792111946055,0.053440919475009716,0.044915015556158844,0.05281217814385904,0.04331215651401088,0.05253748276025958,0.04857496393632387,0.04425798564934068,0.04710099530879066,0.041513886514609244,0.0002664826418719655,0.05153650500853167,0.0413814368881109,0.05293386835462682,0.051505793004816405,0.05013509185909866,0.0002664826418719655,0.04622433142565943,0.049192538958732546,0.04502763916786962,0.04089592858793144,0.049663721791680646,0.05361580072200237,0.042880406262806404,0.051764175618139875,0.04996687129806965,0.05309876346600399,0.05208959080168705,0.04819016395472467,0.05173151421895898,0.0332164579762767,0.04542961201528556,0.04945981344926281],\"type\":\"scatter\",\"xaxis\":\"x5\",\"yaxis\":\"y5\"},{\"marker\":{\"color\":[0,1,2,3,4,5,6,7,8,9,10,11,12,13,14,15,16,17,18,19,20,21,22,23,24,25,26,27,28,29,30,31,32,33,34,35,36,37,38,39,40,41,42,43,44,45,46,47,48,49,50,51,52,53,54,55,56,57,58,59,60,61,62,63,64,65,66,67,68,69,70,71,72,73,74,75,76,77,78,79,80,81,82,83,84,85,86,87,88,89,90,91,92,93,94,95,96,97,98,99,100,101,102,103,104,105,106,107,108,109,110,111,112,113,114,115,116,117,118,119,120,121,122,123,124,125,126,127,128,129,130,131,132,133,134,135,136,137,138,139,140,141,142,143,144,145,146,147,148,149,150,151,152,153,154,155,156,157,158,159,160,161,162,163,164,165,166,167,168,169,170,171,172,173,174,175,176,177,178,179,180,181,182,183,184,185,186,187,188,189,190,191,192,193,194,195,196,197,198,199,200,201,202,203,204,205,206,207,208,209,210,211,212,213,214,215,216,217,218,219,220,221,222,223,224,225,226,227,228,229,230,231,232,233,234,235,236,237,238,239,240,241,242,243,244,245,246,247,248,249,250,251,252,253,254,255,256,257,258,259,260,261,262,263,264,265,266,267,268,269,270,271,272,273,274,275,276,277,278,279,280,281,282,283,284,285,286,287,288,289,290,291,292,293,294,295,296,297,298,299,300,301,302,303,304,305,306,307,308,309,310,311,312,313,314,315,316,317,318,319,320,321,322,323,324,325,326,327,328,329,330,331,332,333,334,335,336,337,338,339,340,341,342,343,344,345,346,347,348,349,350,351,352,353,354,355,356,357,358,359,360,361,362,363,364,365,366,367,368,369,370,371,372,373,374,375,376,377,378,379,380,381,382,383,384,385,386,387,388,389,390,391,392,393,394,395,396,397,398,399,400,401,402,403,404,405,406,407,408,409,410,411,412,413,414,415,416,417,418,419,420,421,422,423,424,425,426,427,428,429,430,431,432,433,434,435,436,437,438,439,440,441,442,443,444,445,446,447,448,449],\"colorbar\":{\"title\":{\"text\":\"Trial\"},\"x\":1.0,\"xpad\":40},\"colorscale\":[[0.0,\"rgb(247,251,255)\"],[0.125,\"rgb(222,235,247)\"],[0.25,\"rgb(198,219,239)\"],[0.375,\"rgb(158,202,225)\"],[0.5,\"rgb(107,174,214)\"],[0.625,\"rgb(66,146,198)\"],[0.75,\"rgb(33,113,181)\"],[0.875,\"rgb(8,81,156)\"],[1.0,\"rgb(8,48,107)\"]],\"line\":{\"color\":\"Grey\",\"width\":0.5},\"showscale\":false},\"mode\":\"markers\",\"name\":\"Feasible Trial\",\"showlegend\":false,\"x\":[\"tversky\",\"asymmetric\",\"cosine\",\"dice\",\"euclidean\",\"euclidean\",\"cosine\",\"tversky\",\"dice\",\"cosine\",\"jaccard\",\"jaccard\",\"jaccard\",\"jaccard\",\"cosine\",\"cosine\",\"cosine\",\"cosine\",\"asymmetric\",\"cosine\",\"cosine\",\"cosine\",\"cosine\",\"cosine\",\"cosine\",\"cosine\",\"dice\",\"asymmetric\",\"euclidean\",\"tversky\",\"tversky\",\"cosine\",\"cosine\",\"cosine\",\"cosine\",\"cosine\",\"asymmetric\",\"euclidean\",\"cosine\",\"dice\",\"cosine\",\"cosine\",\"cosine\",\"cosine\",\"cosine\",\"tversky\",\"cosine\",\"euclidean\",\"dice\",\"jaccard\",\"cosine\",\"cosine\",\"cosine\",\"cosine\",\"cosine\",\"cosine\",\"cosine\",\"asymmetric\",\"jaccard\",\"cosine\",\"cosine\",\"cosine\",\"cosine\",\"cosine\",\"cosine\",\"tversky\",\"cosine\",\"euclidean\",\"dice\",\"cosine\",\"asymmetric\",\"cosine\",\"cosine\",\"cosine\",\"cosine\",\"cosine\",\"cosine\",\"cosine\",\"jaccard\",\"cosine\",\"tversky\",\"cosine\",\"cosine\",\"cosine\",\"cosine\",\"cosine\",\"cosine\",\"dice\",\"euclidean\",\"cosine\",\"cosine\",\"cosine\",\"cosine\",\"cosine\",\"cosine\",\"cosine\",\"cosine\",\"asymmetric\",\"cosine\",\"cosine\",\"jaccard\",\"cosine\",\"cosine\",\"cosine\",\"cosine\",\"cosine\",\"cosine\",\"cosine\",\"cosine\",\"tversky\",\"tversky\",\"tversky\",\"tversky\",\"tversky\",\"tversky\",\"tversky\",\"tversky\",\"tversky\",\"tversky\",\"euclidean\",\"dice\",\"cosine\",\"cosine\",\"cosine\",\"cosine\",\"asymmetric\",\"cosine\",\"cosine\",\"tversky\",\"jaccard\",\"cosine\",\"cosine\",\"cosine\",\"cosine\",\"cosine\",\"cosine\",\"cosine\",\"cosine\",\"cosine\",\"cosine\",\"cosine\",\"cosine\",\"cosine\",\"cosine\",\"cosine\",\"cosine\",\"euclidean\",\"dice\",\"cosine\",\"tversky\",\"cosine\",\"cosine\",\"cosine\",\"cosine\",\"cosine\",\"cosine\",\"cosine\",\"cosine\",\"asymmetric\",\"cosine\",\"tversky\",\"cosine\",\"cosine\",\"cosine\",\"cosine\",\"jaccard\",\"cosine\",\"cosine\",\"cosine\",\"cosine\",\"cosine\",\"cosine\",\"cosine\",\"cosine\",\"cosine\",\"tversky\",\"cosine\",\"cosine\",\"cosine\",\"euclidean\",\"cosine\",\"cosine\",\"cosine\",\"cosine\",\"cosine\",\"cosine\",\"dice\",\"cosine\",\"cosine\",\"tversky\",\"tversky\",\"tversky\",\"tversky\",\"tversky\",\"tversky\",\"tversky\",\"tversky\",\"tversky\",\"tversky\",\"tversky\",\"tversky\",\"tversky\",\"tversky\",\"tversky\",\"tversky\",\"tversky\",\"tversky\",\"tversky\",\"tversky\",\"tversky\",\"tversky\",\"tversky\",\"tversky\",\"tversky\",\"tversky\",\"tversky\",\"tversky\",\"tversky\",\"tversky\",\"tversky\",\"tversky\",\"tversky\",\"tversky\",\"tversky\",\"tversky\",\"tversky\",\"tversky\",\"tversky\",\"tversky\",\"tversky\",\"tversky\",\"tversky\",\"tversky\",\"tversky\",\"tversky\",\"tversky\",\"tversky\",\"tversky\",\"tversky\",\"tversky\",\"tversky\",\"tversky\",\"tversky\",\"tversky\",\"tversky\",\"tversky\",\"tversky\",\"tversky\",\"tversky\",\"tversky\",\"tversky\",\"tversky\",\"tversky\",\"tversky\",\"tversky\",\"tversky\",\"tversky\",\"tversky\",\"tversky\",\"tversky\",\"tversky\",\"tversky\",\"tversky\",\"tversky\",\"tversky\",\"tversky\",\"tversky\",\"tversky\",\"tversky\",\"tversky\",\"tversky\",\"tversky\",\"tversky\",\"tversky\",\"tversky\",\"asymmetric\",\"tversky\",\"tversky\",\"tversky\",\"tversky\",\"tversky\",\"tversky\",\"tversky\",\"tversky\",\"tversky\",\"tversky\",\"tversky\",\"tversky\",\"jaccard\",\"tversky\",\"tversky\",\"tversky\",\"tversky\",\"tversky\",\"tversky\",\"tversky\",\"tversky\",\"euclidean\",\"tversky\",\"dice\",\"tversky\",\"tversky\",\"tversky\",\"tversky\",\"tversky\",\"tversky\",\"tversky\",\"tversky\",\"tversky\",\"tversky\",\"tversky\",\"tversky\",\"tversky\",\"jaccard\",\"tversky\",\"asymmetric\",\"tversky\",\"tversky\",\"tversky\",\"tversky\",\"tversky\",\"tversky\",\"tversky\",\"euclidean\",\"tversky\",\"tversky\",\"tversky\",\"dice\",\"tversky\",\"tversky\",\"tversky\",\"tversky\",\"tversky\",\"tversky\",\"tversky\",\"tversky\",\"tversky\",\"asymmetric\",\"tversky\",\"tversky\",\"tversky\",\"tversky\",\"tversky\",\"jaccard\",\"tversky\",\"tversky\",\"tversky\",\"tversky\",\"tversky\",\"tversky\",\"euclidean\",\"tversky\",\"tversky\",\"tversky\",\"tversky\",\"tversky\",\"dice\",\"tversky\",\"tversky\",\"tversky\",\"tversky\",\"tversky\",\"tversky\",\"tversky\",\"asymmetric\",\"tversky\",\"tversky\",\"tversky\",\"jaccard\",\"tversky\",\"tversky\",\"tversky\",\"tversky\",\"tversky\",\"tversky\",\"tversky\",\"tversky\",\"euclidean\",\"tversky\",\"tversky\",\"tversky\",\"tversky\",\"dice\",\"tversky\",\"tversky\",\"tversky\",\"tversky\",\"tversky\",\"tversky\",\"tversky\",\"tversky\",\"asymmetric\",\"tversky\",\"tversky\",\"tversky\",\"jaccard\",\"tversky\",\"tversky\",\"tversky\",\"tversky\",\"tversky\",\"tversky\",\"tversky\",\"tversky\",\"tversky\",\"euclidean\",\"tversky\",\"tversky\",\"dice\",\"tversky\",\"tversky\",\"tversky\",\"tversky\",\"tversky\",\"tversky\",\"tversky\",\"tversky\",\"tversky\",\"tversky\",\"asymmetric\",\"tversky\",\"tversky\",\"tversky\",\"jaccard\",\"tversky\",\"tversky\",\"tversky\",\"tversky\",\"tversky\",\"tversky\",\"tversky\",\"tversky\",\"tversky\",\"euclidean\",\"tversky\",\"dice\",\"tversky\",\"tversky\",\"tversky\",\"tversky\",\"tversky\",\"tversky\",\"tversky\",\"tversky\",\"tversky\",\"tversky\",\"tversky\",\"asymmetric\",\"tversky\",\"tversky\"],\"y\":[0.03847803567849229,0.04171964497081084,0.045075083416706754,0.03969241243666473,0.015505116638520241,0.03390989215925825,0.04208916606138639,0.03992089568563728,0.03689398166065726,0.0419195619113201,0.04286446311593473,0.04370869088626762,0.03922014699048953,0.03898220646002158,0.04522533432718656,0.045419613559969596,0.033276953099928765,0.044603421446640534,0.009585828606819929,0.04603685469227625,0.036478533171880455,0.04936385234454629,0.04884736351921455,0.05167910318356951,0.051299149203227944,0.048890057353751605,0.04422724678859554,0.04010564854729204,0.018002904416695022,0.034522039692480196,0.044599477795545094,0.04921190880610869,0.050085003730726205,0.04670507928914593,0.04774758311109263,0.04624842492671421,0.018499769450536042,0.0471228279082221,0.04704902406361122,0.039014626607979955,0.046365675679190935,0.048154934413874154,0.047921209852360445,0.0516509302410396,0.03591129786809708,0.041083810657646824,0.04402098719895735,0.019161143155815477,0.04561184037203904,0.03602128500231943,0.03458822598741253,0.04784897708922793,0.04820380943479764,0.041976571864759823,0.04740382442291594,0.045051453542955366,0.04648504130021554,0.0469879804783168,0.048461992727442914,0.042413896090541955,0.049028092198309045,0.04919733821484708,0.048179967153130845,0.04694401449089732,0.04954915876216106,0.0002664826418719655,0.0395961476902804,0.02765333913833305,0.04249586982388426,0.04387294658296601,0.022658722357174747,0.049331885341930864,0.049934388763156416,0.04844238489569648,0.04950439674902438,0.047842500622259865,0.047141583913202785,0.044330265171293334,0.04507506180411467,0.042850527787547776,0.042630380128308054,0.04933324510119477,0.0481437214970748,0.04975391008487637,0.04686650492269808,0.04726198463493369,0.04656591531270172,0.04282694024513882,0.03238459417420321,0.047910376227795134,0.03642232578734297,0.0494451147008956,0.0002664826418719655,0.049154679926459895,0.04736466281198917,0.049376702406276715,0.04834581653075937,0.04057861037770286,0.05031477680681584,0.05037676712344134,0.04800919581518322,0.04963598798308874,0.0002664826418719655,0.049504241473341926,0.04751151390853433,0.043710622878157565,0.04793737819207235,0.04664669663710096,0.0466421111068875,0.05014495286754074,0.05001918540506721,0.04937054806796139,0.04853121084630373,0.0002664826418719655,0.04086167291275695,0.04711551945335192,0.048255655760942956,0.04232723894120498,0.04212373222017858,0.021211838801501057,0.046355664992873455,0.04879863008544178,0.050289612360944605,0.05094557622011079,0.05141379116754542,0.045043685195053494,0.0421953998415494,0.04824104595311586,0.04536433696221219,0.04804893042642694,0.047355889084013954,0.04994099064968518,0.04844011894775917,0.05072062948872008,0.05167499647934026,0.0002664826418719655,0.047950622301437665,0.047706655214182506,0.04858543575580961,0.0002664826418719655,0.047096205258541024,0.049633379649968196,0.04980878259305179,0.04851957081257526,0.0002664826418719655,0.044756911256342055,0.02784785793175936,0.04847850697449875,0.047116810660729994,0.04318529427697464,0.04837693138361469,0.05005289223297421,0.04983953922684468,0.048081317213503866,0.04739143116001597,0.050711091356320306,0.0423139061213198,0.04850785022691531,0.009216016064248595,0.04782418485527614,0.0002664826418719655,0.049024305900822816,0.04964787000215071,0.04821691192237398,0.04766757359625482,0.049898896364941756,0.04866275228073952,0.050339485124901585,0.04805792166950668,0.03807168129783852,0.04801868844605957,0.04989307820097129,0.04862042917789884,0.0002664826418719655,0.04872917207550892,0.0421431333588106,0.050170333522096044,0.04282836807235073,0.04991526231617852,0.028107451890721297,0.0002664826418719655,0.04993257210734363,0.04898506243922583,0.04955189791234907,0.048159910345721285,0.04999742933612483,0.04651908289037322,0.048688769926603,0.05017736655787099,0.052770132207501916,0.044920360081063405,0.05053286852839014,0.0002664826418719655,0.050562791169713586,0.05031125284117284,0.04990563145551257,0.05112802526300825,0.04885511508997322,0.05069920295812504,0.04950766943167519,0.050427546154826045,0.05069072979215204,0.05073869298991869,0.04989507028462124,0.049972583889434,0.04700001020406326,0.0512353018267241,0.04827784121151514,0.05104263186459542,0.05092531802018609,0.050869259929248144,0.05073879495247531,0.049012160319736396,0.05039360254194376,0.050921486747334446,0.04891709249337225,0.04711571482008757,0.04995752837612295,0.04922041848900541,0.05102792024432849,0.04973127692293931,0.05038853822528087,0.05126283537418349,0.051778250982194365,0.05169413881766273,0.050889642540877744,0.05130924006573032,0.05112273381674017,0.048247156201741616,0.05121506243504324,0.05051766722476123,0.05124083401322201,0.050911436434536786,0.05107694519486827,0.05080826109915465,0.04784381402931958,0.04868276479117052,0.050435703298782,0.05143864758675326,0.05238586893488721,0.051812229848526695,0.05235041859328893,0.0002664826418719655,0.052734651923476726,0.052749727917604794,0.0002664826418719655,0.05119815890180516,0.05287919963207016,0.05223501429331294,0.051298554172739305,0.05135107591876845,0.04254372298438136,0.053134600182737454,0.052909503083440244,0.0002664826418719655,0.03920845351012365,0.05275915171373006,0.05319752032663925,0.053035294599967545,0.041507624622074385,0.053230998474819435,0.05318001901092788,0.04641161061905724,0.053037738820821044,0.0002664826418719655,0.05312387900539119,0.0529325066441798,0.05351701566277965,0.053314355858730775,0.03307219962532294,0.05178013728169698,0.049045059421762065,0.05127462047917321,0.029566477782746063,0.0002664826418719655,0.02873532901480332,0.05091777583110446,0.05267623074832051,0.05318563606780051,0.03804079968142458,0.048897001938809,0.05300323925642245,0.03690790987867579,0.052648941574855224,0.05306271583010617,0.05263656227082064,0.048891441644559844,0.053398304472673463,0.0002664826418719655,0.05272727050856829,0.052834820688102344,0.04848977138583462,0.052674484024547705,0.04040126154027886,0.04890841429102853,0.0002664826418719655,0.03911269935383791,0.0002664826418719655,0.040218770111744254,0.04916640282816878,0.047323777618326984,0.052218659379927014,0.0002664826418719655,0.0488647275039855,0.050529757918228224,0.047743133713452346,0.030807682327581472,0.04936410099543398,0.05293868035823385,0.0002664826418719655,0.04265414117226195,0.048691379157994576,0.045019433248485036,0.04772679808345506,0.04883103346022026,0.04602518466429443,0.0002664826418719655,0.05084333155381747,0.04915832064079717,0.05034803846721865,0.05332291730899048,0.05021782525860478,0.0002664826418719655,0.030700959376724242,0.03892928588716499,0.03888675349644569,0.03851616520440891,0.04194539938141715,0.05212252852978096,0.049119631837963154,0.05318691699897445,0.04859005646792183,0.051068356184236205,0.047562021882130046,0.048584741000029706,0.043302073935299466,0.051398648188950694,0.030110588435945503,0.04405993648353966,0.051167828048413355,0.04902288614972887,0.0002664826418719655,0.0477290652407735,0.05009965070172061,0.03672381871723387,0.05115571159589503,0.05190464757486465,0.050247743921605095,0.0002664826418719655,0.046151171893206104,0.028730403330002617,0.05228112223311544,0.04005070835123643,0.0002664826418719655,0.048282279597252786,0.051259577771329536,0.04780772231426175,0.049442899187413444,0.04431384850474095,0.051137952942888254,0.039108616243827964,0.05318697410454916,0.04983285667641849,0.05172419486866692,0.04619939186223303,0.051540571067009634,0.03492244675424558,0.04656199182493171,0.04707263653009917,0.0002664826418719655,0.04040000862559073,0.04941823080124984,0.05239761587862009,0.04730642709610305,0.0002664826418719655,0.048651239718197604,0.05129266217579649,0.032833428871407125,0.05221626161352992,0.05062357831681236,0.048755892234960733,0.045554569718085844,0.0002664826418719655,0.049076559093286454,0.05259571933291268,0.048391519477274256,0.05141879854179728,0.0002664826418719655,0.04845640169812706,0.0503645963501691,0.05154465609281805,0.04427639486010794,0.0448004959333929,0.05125224959235103,0.05288545887397246,0.04811730227993134,0.0002664826418719655,0.05191662902991125,0.04962726571595453,0.04810938304912923,0.05296297056819297,0.05180491511054517,0.050212445949555984,0.04890254911014445,0.05234266206143654,0.027849120432293224,0.050635049291986776,0.0002664826418719655,0.0002664826418719655,0.04935880437197928,0.050337888151667606,0.05271727528864534,0.05030022352294915,0.0002664826418719655,0.051399042321652356,0.046372146682097506,0.048470575750490075,0.041358792111946055,0.053440919475009716,0.044915015556158844,0.05281217814385904,0.04331215651401088,0.05253748276025958,0.04857496393632387,0.04425798564934068,0.04710099530879066,0.041513886514609244,0.0002664826418719655,0.05153650500853167,0.0413814368881109,0.05293386835462682,0.051505793004816405,0.05013509185909866,0.0002664826418719655,0.04622433142565943,0.049192538958732546,0.04502763916786962,0.04089592858793144,0.049663721791680646,0.05361580072200237,0.042880406262806404,0.051764175618139875,0.04996687129806965,0.05309876346600399,0.05208959080168705,0.04819016395472467,0.05173151421895898,0.0332164579762767,0.04542961201528556,0.04945981344926281],\"type\":\"scatter\",\"xaxis\":\"x6\",\"yaxis\":\"y6\"},{\"marker\":{\"color\":[4,5,28,37,47,67,88,119,146,179,297,323,350,377,405,433],\"colorbar\":{\"title\":{\"text\":\"Trial\"},\"x\":1.0,\"xpad\":40},\"colorscale\":[[0.0,\"rgb(247,251,255)\"],[0.125,\"rgb(222,235,247)\"],[0.25,\"rgb(198,219,239)\"],[0.375,\"rgb(158,202,225)\"],[0.5,\"rgb(107,174,214)\"],[0.625,\"rgb(66,146,198)\"],[0.75,\"rgb(33,113,181)\"],[0.875,\"rgb(8,81,156)\"],[1.0,\"rgb(8,48,107)\"]],\"line\":{\"color\":\"Grey\",\"width\":0.5},\"showscale\":false},\"mode\":\"markers\",\"name\":\"Feasible Trial\",\"showlegend\":false,\"x\":[\"lin\",\"log\",\"exp\",\"lin\",\"log\",\"exp\",\"log\",\"exp\",\"lin\",\"lin\",\"exp\",\"log\",\"exp\",\"log\",\"lin\",\"exp\"],\"y\":[0.015505116638520241,0.03390989215925825,0.018002904416695022,0.0471228279082221,0.019161143155815477,0.02765333913833305,0.03238459417420321,0.021211838801501057,0.02784785793175936,0.028107451890721297,0.0002664826418719655,0.030700959376724242,0.028730403330002617,0.032833428871407125,0.027849120432293224,0.0002664826418719655],\"type\":\"scatter\",\"xaxis\":\"x7\",\"yaxis\":\"y7\"},{\"marker\":{\"color\":[0,1,2,3,4,5,6,7,8,9,10,11,12,13,14,15,16,17,18,19,20,21,22,23,24,25,26,27,28,29,30,31,32,33,34,35,36,37,38,39,40,41,42,43,44,45,46,47,48,49,50,51,52,53,54,55,56,57,58,59,60,61,62,63,64,65,66,67,68,69,70,71,72,73,74,75,76,77,78,79,80,81,82,83,84,85,86,87,88,89,90,91,92,93,94,95,96,97,98,99,100,101,102,103,104,105,106,107,108,109,110,111,112,113,114,115,116,117,118,119,120,121,122,123,124,125,126,127,128,129,130,131,132,133,134,135,136,137,138,139,140,141,142,143,144,145,146,147,148,149,150,151,152,153,154,155,156,157,158,159,160,161,162,163,164,165,166,167,168,169,170,171,172,173,174,175,176,177,178,179,180,181,182,183,184,185,186,187,188,189,190,191,192,193,194,195,196,197,198,199,200,201,202,203,204,205,206,207,208,209,210,211,212,213,214,215,216,217,218,219,220,221,222,223,224,225,226,227,228,229,230,231,232,233,234,235,236,237,238,239,240,241,242,243,244,245,246,247,248,249,250,251,252,253,254,255,256,257,258,259,260,261,262,263,264,265,266,267,268,269,270,271,272,273,274,275,276,277,278,279,280,281,282,283,284,285,286,287,288,289,290,291,292,293,294,295,296,297,298,299,300,301,302,303,304,305,306,307,308,309,310,311,312,313,314,315,316,317,318,319,320,321,322,323,324,325,326,327,328,329,330,331,332,333,334,335,336,337,338,339,340,341,342,343,344,345,346,347,348,349,350,351,352,353,354,355,356,357,358,359,360,361,362,363,364,365,366,367,368,369,370,371,372,373,374,375,376,377,378,379,380,381,382,383,384,385,386,387,388,389,390,391,392,393,394,395,396,397,398,399,400,401,402,403,404,405,406,407,408,409,410,411,412,413,414,415,416,417,418,419,420,421,422,423,424,425,426,427,428,429,430,431,432,433,434,435,436,437,438,439,440,441,442,443,444,445,446,447,448,449],\"colorbar\":{\"title\":{\"text\":\"Trial\"},\"x\":1.0,\"xpad\":40},\"colorscale\":[[0.0,\"rgb(247,251,255)\"],[0.125,\"rgb(222,235,247)\"],[0.25,\"rgb(198,219,239)\"],[0.375,\"rgb(158,202,225)\"],[0.5,\"rgb(107,174,214)\"],[0.625,\"rgb(66,146,198)\"],[0.75,\"rgb(33,113,181)\"],[0.875,\"rgb(8,81,156)\"],[1.0,\"rgb(8,48,107)\"]],\"line\":{\"color\":\"Grey\",\"width\":0.5},\"showscale\":false},\"mode\":\"markers\",\"name\":\"Feasible Trial\",\"showlegend\":false,\"x\":[722,95,348,544,720,54,127,249,618,199,400,393,367,410,299,277,250,507,284,165,170,20,25,6,6,20,93,2,81,140,57,17,12,95,56,120,197,5,71,732,123,34,46,4,1,102,656,456,59,163,208,38,29,1,69,334,106,136,31,75,25,23,51,87,18,0,150,109,52,547,77,21,15,38,19,62,88,14,2,45,185,21,42,18,118,69,91,15,42,56,221,20,0,26,75,19,33,61,11,10,42,15,0,15,54,678,40,101,81,9,10,13,34,0,428,63,33,572,313,10,50,27,12,8,7,46,1,33,68,11,53,13,30,9,4,0,36,47,28,0,64,14,17,28,0,371,44,14,76,497,28,13,14,40,55,10,1,27,12,40,0,24,16,35,54,13,27,12,45,1,62,15,24,0,29,256,12,44,13,34,0,14,24,15,38,13,51,26,11,11,1,32,0,33,38,39,32,66,33,54,31,31,31,35,47,69,30,79,32,29,29,31,50,30,32,56,91,31,61,30,45,28,28,25,24,25,21,22,50,22,25,21,24,21,22,49,45,23,24,19,19,18,0,15,16,0,15,14,18,16,14,1,14,15,0,393,16,13,14,12,12,12,1,14,0,12,13,11,12,1,13,46,15,711,0,43,15,14,14,593,45,15,472,15,12,14,42,10,0,13,12,43,13,12,40,0,57,0,290,12,39,13,0,37,17,61,352,37,15,0,21,38,226,16,54,27,0,16,38,24,13,38,0,53,641,25,532,313,16,34,12,68,12,28,51,1,26,40,167,12,24,0,46,13,429,30,14,38,0,60,25,14,264,0,46,28,18,36,145,11,27,14,48,24,68,11,750,1,38,0,24,39,17,54,0,29,15,39,14,26,50,78,0,27,15,38,13,0,62,30,16,46,192,25,12,35,0,14,26,49,13,11,35,24,12,60,33,0,0,44,22,14,37,0,26,13,48,23,11,35,11,65,12,28,1,50,215,0,25,40,13,22,38,0,57,16,123,82,29,12,237,24,44,13,13,34,12,26,1,48],\"y\":[0.03847803567849229,0.04171964497081084,0.045075083416706754,0.03969241243666473,0.015505116638520241,0.03390989215925825,0.04208916606138639,0.03992089568563728,0.03689398166065726,0.0419195619113201,0.04286446311593473,0.04370869088626762,0.03922014699048953,0.03898220646002158,0.04522533432718656,0.045419613559969596,0.033276953099928765,0.044603421446640534,0.009585828606819929,0.04603685469227625,0.036478533171880455,0.04936385234454629,0.04884736351921455,0.05167910318356951,0.051299149203227944,0.048890057353751605,0.04422724678859554,0.04010564854729204,0.018002904416695022,0.034522039692480196,0.044599477795545094,0.04921190880610869,0.050085003730726205,0.04670507928914593,0.04774758311109263,0.04624842492671421,0.018499769450536042,0.0471228279082221,0.04704902406361122,0.039014626607979955,0.046365675679190935,0.048154934413874154,0.047921209852360445,0.0516509302410396,0.03591129786809708,0.041083810657646824,0.04402098719895735,0.019161143155815477,0.04561184037203904,0.03602128500231943,0.03458822598741253,0.04784897708922793,0.04820380943479764,0.041976571864759823,0.04740382442291594,0.045051453542955366,0.04648504130021554,0.0469879804783168,0.048461992727442914,0.042413896090541955,0.049028092198309045,0.04919733821484708,0.048179967153130845,0.04694401449089732,0.04954915876216106,0.0002664826418719655,0.0395961476902804,0.02765333913833305,0.04249586982388426,0.04387294658296601,0.022658722357174747,0.049331885341930864,0.049934388763156416,0.04844238489569648,0.04950439674902438,0.047842500622259865,0.047141583913202785,0.044330265171293334,0.04507506180411467,0.042850527787547776,0.042630380128308054,0.04933324510119477,0.0481437214970748,0.04975391008487637,0.04686650492269808,0.04726198463493369,0.04656591531270172,0.04282694024513882,0.03238459417420321,0.047910376227795134,0.03642232578734297,0.0494451147008956,0.0002664826418719655,0.049154679926459895,0.04736466281198917,0.049376702406276715,0.04834581653075937,0.04057861037770286,0.05031477680681584,0.05037676712344134,0.04800919581518322,0.04963598798308874,0.0002664826418719655,0.049504241473341926,0.04751151390853433,0.043710622878157565,0.04793737819207235,0.04664669663710096,0.0466421111068875,0.05014495286754074,0.05001918540506721,0.04937054806796139,0.04853121084630373,0.0002664826418719655,0.04086167291275695,0.04711551945335192,0.048255655760942956,0.04232723894120498,0.04212373222017858,0.021211838801501057,0.046355664992873455,0.04879863008544178,0.050289612360944605,0.05094557622011079,0.05141379116754542,0.045043685195053494,0.0421953998415494,0.04824104595311586,0.04536433696221219,0.04804893042642694,0.047355889084013954,0.04994099064968518,0.04844011894775917,0.05072062948872008,0.05167499647934026,0.0002664826418719655,0.047950622301437665,0.047706655214182506,0.04858543575580961,0.0002664826418719655,0.047096205258541024,0.049633379649968196,0.04980878259305179,0.04851957081257526,0.0002664826418719655,0.044756911256342055,0.02784785793175936,0.04847850697449875,0.047116810660729994,0.04318529427697464,0.04837693138361469,0.05005289223297421,0.04983953922684468,0.048081317213503866,0.04739143116001597,0.050711091356320306,0.0423139061213198,0.04850785022691531,0.009216016064248595,0.04782418485527614,0.0002664826418719655,0.049024305900822816,0.04964787000215071,0.04821691192237398,0.04766757359625482,0.049898896364941756,0.04866275228073952,0.050339485124901585,0.04805792166950668,0.03807168129783852,0.04801868844605957,0.04989307820097129,0.04862042917789884,0.0002664826418719655,0.04872917207550892,0.0421431333588106,0.050170333522096044,0.04282836807235073,0.04991526231617852,0.028107451890721297,0.0002664826418719655,0.04993257210734363,0.04898506243922583,0.04955189791234907,0.048159910345721285,0.04999742933612483,0.04651908289037322,0.048688769926603,0.05017736655787099,0.052770132207501916,0.044920360081063405,0.05053286852839014,0.0002664826418719655,0.050562791169713586,0.05031125284117284,0.04990563145551257,0.05112802526300825,0.04885511508997322,0.05069920295812504,0.04950766943167519,0.050427546154826045,0.05069072979215204,0.05073869298991869,0.04989507028462124,0.049972583889434,0.04700001020406326,0.0512353018267241,0.04827784121151514,0.05104263186459542,0.05092531802018609,0.050869259929248144,0.05073879495247531,0.049012160319736396,0.05039360254194376,0.050921486747334446,0.04891709249337225,0.04711571482008757,0.04995752837612295,0.04922041848900541,0.05102792024432849,0.04973127692293931,0.05038853822528087,0.05126283537418349,0.051778250982194365,0.05169413881766273,0.050889642540877744,0.05130924006573032,0.05112273381674017,0.048247156201741616,0.05121506243504324,0.05051766722476123,0.05124083401322201,0.050911436434536786,0.05107694519486827,0.05080826109915465,0.04784381402931958,0.04868276479117052,0.050435703298782,0.05143864758675326,0.05238586893488721,0.051812229848526695,0.05235041859328893,0.0002664826418719655,0.052734651923476726,0.052749727917604794,0.0002664826418719655,0.05119815890180516,0.05287919963207016,0.05223501429331294,0.051298554172739305,0.05135107591876845,0.04254372298438136,0.053134600182737454,0.052909503083440244,0.0002664826418719655,0.03920845351012365,0.05275915171373006,0.05319752032663925,0.053035294599967545,0.041507624622074385,0.053230998474819435,0.05318001901092788,0.04641161061905724,0.053037738820821044,0.0002664826418719655,0.05312387900539119,0.0529325066441798,0.05351701566277965,0.053314355858730775,0.03307219962532294,0.05178013728169698,0.049045059421762065,0.05127462047917321,0.029566477782746063,0.0002664826418719655,0.02873532901480332,0.05091777583110446,0.05267623074832051,0.05318563606780051,0.03804079968142458,0.048897001938809,0.05300323925642245,0.03690790987867579,0.052648941574855224,0.05306271583010617,0.05263656227082064,0.048891441644559844,0.053398304472673463,0.0002664826418719655,0.05272727050856829,0.052834820688102344,0.04848977138583462,0.052674484024547705,0.04040126154027886,0.04890841429102853,0.0002664826418719655,0.03911269935383791,0.0002664826418719655,0.040218770111744254,0.04916640282816878,0.047323777618326984,0.052218659379927014,0.0002664826418719655,0.0488647275039855,0.050529757918228224,0.047743133713452346,0.030807682327581472,0.04936410099543398,0.05293868035823385,0.0002664826418719655,0.04265414117226195,0.048691379157994576,0.045019433248485036,0.04772679808345506,0.04883103346022026,0.04602518466429443,0.0002664826418719655,0.05084333155381747,0.04915832064079717,0.05034803846721865,0.05332291730899048,0.05021782525860478,0.0002664826418719655,0.030700959376724242,0.03892928588716499,0.03888675349644569,0.03851616520440891,0.04194539938141715,0.05212252852978096,0.049119631837963154,0.05318691699897445,0.04859005646792183,0.051068356184236205,0.047562021882130046,0.048584741000029706,0.043302073935299466,0.051398648188950694,0.030110588435945503,0.04405993648353966,0.051167828048413355,0.04902288614972887,0.0002664826418719655,0.0477290652407735,0.05009965070172061,0.03672381871723387,0.05115571159589503,0.05190464757486465,0.050247743921605095,0.0002664826418719655,0.046151171893206104,0.028730403330002617,0.05228112223311544,0.04005070835123643,0.0002664826418719655,0.048282279597252786,0.051259577771329536,0.04780772231426175,0.049442899187413444,0.04431384850474095,0.051137952942888254,0.039108616243827964,0.05318697410454916,0.04983285667641849,0.05172419486866692,0.04619939186223303,0.051540571067009634,0.03492244675424558,0.04656199182493171,0.04707263653009917,0.0002664826418719655,0.04040000862559073,0.04941823080124984,0.05239761587862009,0.04730642709610305,0.0002664826418719655,0.048651239718197604,0.05129266217579649,0.032833428871407125,0.05221626161352992,0.05062357831681236,0.048755892234960733,0.045554569718085844,0.0002664826418719655,0.049076559093286454,0.05259571933291268,0.048391519477274256,0.05141879854179728,0.0002664826418719655,0.04845640169812706,0.0503645963501691,0.05154465609281805,0.04427639486010794,0.0448004959333929,0.05125224959235103,0.05288545887397246,0.04811730227993134,0.0002664826418719655,0.05191662902991125,0.04962726571595453,0.04810938304912923,0.05296297056819297,0.05180491511054517,0.050212445949555984,0.04890254911014445,0.05234266206143654,0.027849120432293224,0.050635049291986776,0.0002664826418719655,0.0002664826418719655,0.04935880437197928,0.050337888151667606,0.05271727528864534,0.05030022352294915,0.0002664826418719655,0.051399042321652356,0.046372146682097506,0.048470575750490075,0.041358792111946055,0.053440919475009716,0.044915015556158844,0.05281217814385904,0.04331215651401088,0.05253748276025958,0.04857496393632387,0.04425798564934068,0.04710099530879066,0.041513886514609244,0.0002664826418719655,0.05153650500853167,0.0413814368881109,0.05293386835462682,0.051505793004816405,0.05013509185909866,0.0002664826418719655,0.04622433142565943,0.049192538958732546,0.04502763916786962,0.04089592858793144,0.049663721791680646,0.05361580072200237,0.042880406262806404,0.051764175618139875,0.04996687129806965,0.05309876346600399,0.05208959080168705,0.04819016395472467,0.05173151421895898,0.0332164579762767,0.04542961201528556,0.04945981344926281],\"type\":\"scatter\",\"xaxis\":\"x8\",\"yaxis\":\"y8\"},{\"marker\":{\"color\":[0,7,29,30,45,65,80,109,110,111,112,113,114,115,116,117,118,128,149,160,175,189,190,191,192,193,194,195,196,197,198,199,200,201,202,203,204,205,206,207,208,209,210,211,212,213,214,215,216,217,218,219,220,221,222,223,224,225,226,227,228,229,230,231,232,233,234,235,236,237,238,239,240,241,242,243,244,245,246,247,248,249,250,251,252,253,254,255,256,257,258,259,260,261,262,263,264,265,266,267,268,269,270,271,272,273,274,276,277,278,279,280,281,282,283,284,285,286,287,289,290,291,292,293,294,295,296,298,300,301,302,303,304,305,306,307,308,309,310,311,312,314,316,317,318,319,320,321,322,324,325,326,328,329,330,331,332,333,334,335,336,338,339,340,341,342,344,345,346,347,348,349,351,352,353,354,355,357,358,359,360,361,362,363,365,366,367,369,370,371,372,373,374,375,376,378,379,380,381,383,384,385,386,387,388,389,390,392,393,394,396,397,398,399,400,401,402,403,404,406,407,409,410,411,412,413,414,415,416,417,418,420,421,422,424,425,426,427,428,429,430,431,432,434,436,437,438,439,440,441,442,443,444,445,446,448,449],\"colorbar\":{\"title\":{\"text\":\"Trial\"},\"x\":1.0,\"xpad\":40},\"colorscale\":[[0.0,\"rgb(247,251,255)\"],[0.125,\"rgb(222,235,247)\"],[0.25,\"rgb(198,219,239)\"],[0.375,\"rgb(158,202,225)\"],[0.5,\"rgb(107,174,214)\"],[0.625,\"rgb(66,146,198)\"],[0.75,\"rgb(33,113,181)\"],[0.875,\"rgb(8,81,156)\"],[1.0,\"rgb(8,48,107)\"]],\"line\":{\"color\":\"Grey\",\"width\":0.5},\"showscale\":false},\"mode\":\"markers\",\"name\":\"Feasible Trial\",\"showlegend\":false,\"x\":[1.6594401451544047,1.9795166830631068,0.0688101636838625,0.4555142890688384,1.0849251477918849,1.0834104845400863,0.5822532013799238,1.4315234234867982,1.4834472485589412,1.4940557969958743,1.451067308620709,1.875605326817625,1.3097684644790935,0.7910082066714876,1.2575998852058397,1.6514756849334922,0.8652633467454001,1.7308381529560617,1.3121177387748078,1.4894872349940336,1.778262178027659,0.9143013375619704,0.9565530701734938,0.7421020962719683,0.6997655092380498,0.44749382257198167,0.3662308580497401,0.33863922799843227,0.3322075892762173,0.25247428851823894,0.53449108763235,0.5673951927808256,0.29664494233594507,0.33375519447443924,0.24976967585979346,0.24183869055485563,0.3945518187917071,0.14195383883058454,0.47344404512550436,0.4775017013958939,0.293553908408145,0.23231145685281912,0.23237412277832475,0.2275137148870628,0.24239234461224346,0.18714767100660107,0.13538513582021824,0.03631749488720548,0.3258259179654841,0.12485546572378659,0.4405927537310546,0.30746331487974404,0.5572384779995706,0.29380022416230916,0.20590378883091076,0.17931953544519744,0.17170556194507863,0.17391382380234852,0.16002591709589187,0.1510898700186708,0.15803279102651313,0.11269564845068722,0.09014464492105179,0.187151476618603,0.1984998870842302,0.15711071075963084,0.008422713390628722,0.17509794304417092,0.12332851520436437,0.18162968220912284,0.07742530723563659,0.1293497773373078,0.0673030042710224,0.061569365171561405,0.07551182020210925,0.07984442532657615,0.040155189501980035,0.06420305615608846,0.011395068476860198,0.008696618216630717,0.0016378930116128614,0.010608636983433915,0.012830335744508634,0.006423333284434177,0.0686825196628001,0.07162016684985006,0.06885446902433126,0.08116823856855097,0.0644860909213963,0.03816290482137871,0.05626863830759747,0.05212197338908247,0.004788479977572868,0.014160735809991744,0.046442149347416375,0.09198199638828311,0.09151217899541329,0.004229667903125928,0.000724581442593554,0.06322371949045463,0.04791373003261537,0.05162796283537141,0.10255426723376178,0.00019723995056575316,0.09408138366049154,0.04540268705838675,0.10002482764885907,0.04737482532279097,0.11607872548651692,0.11798399884127372,0.10733933075864827,0.04350197950938311,0.1073235069161637,0.10853051499781682,0.00010469254780605397,0.04083528779444992,0.04628032671285619,0.0008987537609531776,0.040239003271035585,0.04172143824290705,0.04469947087486875,1.0857284573402364,0.03762439441461213,0.03802178816924387,0.038588733428735596,0.08555081044800847,0.033678280127538374,0.11800435936093204,0.03933128437000617,0.07652460813760717,0.0005083726853538396,0.11695449428781957,0.06370439023474427,0.14262390572525138,0.02992628339467638,0.0011215441705307444,0.0766021259724886,0.08228628141585143,1.9762604654095672,0.1311764118592146,0.6967277569297775,0.0754181652768079,0.048085367474256506,0.10148643192531935,1.6427650911873553,0.14360603746710673,0.07353966442050948,0.07635874987161867,0.12423410553204892,0.07138964055312987,0.04569096454493369,0.10135967747532285,0.038964851980192054,0.1473744918905165,0.0018155385433798743,1.0226615561237538,0.00014237186257699298,0.03374535581962403,0.07374210351960772,1.1927019349088663,0.03130038991250438,0.07963792831673222,0.001663189016183994,0.06693179402109653,0.09735008892771052,0.02859498024387773,0.8394011806461081,0.1356735877413765,0.053740926655291656,0.10101974801665375,0.029210751026068297,0.2022728096697194,0.007642390371724905,0.06656732985070891,0.0008280451041335901,0.15993010060001356,0.0937353419665541,0.052518466203365546,0.1162662959841467,1.4287099289419074,0.04721757119243737,0.08063247500499891,0.13287134152524976,0.09764231066594833,0.0009822001228106687,0.07658922814745481,0.15638678354932717,0.06566658394680847,0.039654543445849386,0.09507555612276666,0.0018547232566422309,0.17613348645059823,0.12096031747657289,0.0638369902403245,0.03781436870268285,0.09596571603618917,0.036834041488348075,0.2128558577274879,0.0007634424282852992,0.6774879741876992,0.1361743988182363,0.0742811246885885,0.6043607370528428,0.04385582496241475,0.11006425361514029,0.07661268422815748,0.03745785687210889,0.16293386096909296,0.12080810118042828,0.03251175973063389,0.002869043271431282,0.03716598862968467,1.5819485861783955,0.06891566785557968,0.0020627851402414688,0.003190821263275953,0.3840328405838488,0.0840999785835524,0.03184217190425209,0.11520324810324054,0.05882862185566777,0.003536086296488057,0.2654871434447077,0.07017320830993248,0.15873235302058938,1.194277798412257,0.0332005043448239,0.10461847577199586,0.8950332692027677,0.030559033289604957,0.07608553025326864,0.0002997800683112034,0.0033742562962553583,0.07853375117794005,0.12416383418856272,0.0013169133125339057,0.05377104061223565,0.18021776898139386,0.09218845349323972,0.04156184422474247,0.14153481481214608,0.13572224867005983,0.21718656311001064,0.1346264317967965,0.08805175495309289,0.06051677370827023,0.18471071560338204,0.103876990722998,0.14642778236487042,0.10785640748209192,0.09799931359667736,0.062413761896447414,0.17199068346451227,0.06876878328850766,0.1333449460067913,0.0938672785716642,0.04181494986361989],\"y\":[0.03847803567849229,0.03992089568563728,0.034522039692480196,0.044599477795545094,0.041083810657646824,0.0002664826418719655,0.042630380128308054,0.05014495286754074,0.05001918540506721,0.04937054806796139,0.04853121084630373,0.0002664826418719655,0.04086167291275695,0.04711551945335192,0.048255655760942956,0.04232723894120498,0.04212373222017858,0.04536433696221219,0.04318529427697464,0.0002664826418719655,0.0421431333588106,0.052770132207501916,0.044920360081063405,0.05053286852839014,0.0002664826418719655,0.050562791169713586,0.05031125284117284,0.04990563145551257,0.05112802526300825,0.04885511508997322,0.05069920295812504,0.04950766943167519,0.050427546154826045,0.05069072979215204,0.05073869298991869,0.04989507028462124,0.049972583889434,0.04700001020406326,0.0512353018267241,0.04827784121151514,0.05104263186459542,0.05092531802018609,0.050869259929248144,0.05073879495247531,0.049012160319736396,0.05039360254194376,0.050921486747334446,0.04891709249337225,0.04711571482008757,0.04995752837612295,0.04922041848900541,0.05102792024432849,0.04973127692293931,0.05038853822528087,0.05126283537418349,0.051778250982194365,0.05169413881766273,0.050889642540877744,0.05130924006573032,0.05112273381674017,0.048247156201741616,0.05121506243504324,0.05051766722476123,0.05124083401322201,0.050911436434536786,0.05107694519486827,0.05080826109915465,0.04784381402931958,0.04868276479117052,0.050435703298782,0.05143864758675326,0.05238586893488721,0.051812229848526695,0.05235041859328893,0.0002664826418719655,0.052734651923476726,0.052749727917604794,0.0002664826418719655,0.05119815890180516,0.05287919963207016,0.05223501429331294,0.051298554172739305,0.05135107591876845,0.04254372298438136,0.053134600182737454,0.052909503083440244,0.0002664826418719655,0.03920845351012365,0.05275915171373006,0.05319752032663925,0.053035294599967545,0.041507624622074385,0.053230998474819435,0.05318001901092788,0.04641161061905724,0.053037738820821044,0.0002664826418719655,0.05312387900539119,0.0529325066441798,0.05351701566277965,0.053314355858730775,0.03307219962532294,0.05178013728169698,0.049045059421762065,0.05127462047917321,0.029566477782746063,0.0002664826418719655,0.05091777583110446,0.05267623074832051,0.05318563606780051,0.03804079968142458,0.048897001938809,0.05300323925642245,0.03690790987867579,0.052648941574855224,0.05306271583010617,0.05263656227082064,0.048891441644559844,0.053398304472673463,0.05272727050856829,0.052834820688102344,0.04848977138583462,0.052674484024547705,0.04040126154027886,0.04890841429102853,0.0002664826418719655,0.03911269935383791,0.040218770111744254,0.047323777618326984,0.052218659379927014,0.0002664826418719655,0.0488647275039855,0.050529757918228224,0.047743133713452346,0.030807682327581472,0.04936410099543398,0.05293868035823385,0.0002664826418719655,0.04265414117226195,0.048691379157994576,0.045019433248485036,0.04883103346022026,0.0002664826418719655,0.05084333155381747,0.04915832064079717,0.05034803846721865,0.05332291730899048,0.05021782525860478,0.0002664826418719655,0.03892928588716499,0.03888675349644569,0.03851616520440891,0.05212252852978096,0.049119631837963154,0.05318691699897445,0.04859005646792183,0.051068356184236205,0.047562021882130046,0.048584741000029706,0.043302073935299466,0.051398648188950694,0.04405993648353966,0.051167828048413355,0.04902288614972887,0.0002664826418719655,0.0477290652407735,0.03672381871723387,0.05115571159589503,0.05190464757486465,0.050247743921605095,0.0002664826418719655,0.046151171893206104,0.05228112223311544,0.04005070835123643,0.0002664826418719655,0.048282279597252786,0.051259577771329536,0.049442899187413444,0.04431384850474095,0.051137952942888254,0.039108616243827964,0.05318697410454916,0.04983285667641849,0.05172419486866692,0.051540571067009634,0.03492244675424558,0.04656199182493171,0.0002664826418719655,0.04040000862559073,0.04941823080124984,0.05239761587862009,0.04730642709610305,0.0002664826418719655,0.048651239718197604,0.05129266217579649,0.05221626161352992,0.05062357831681236,0.048755892234960733,0.045554569718085844,0.049076559093286454,0.05259571933291268,0.048391519477274256,0.05141879854179728,0.0002664826418719655,0.04845640169812706,0.0503645963501691,0.05154465609281805,0.0448004959333929,0.05125224959235103,0.05288545887397246,0.0002664826418719655,0.05191662902991125,0.04962726571595453,0.04810938304912923,0.05296297056819297,0.05180491511054517,0.050212445949555984,0.04890254911014445,0.05234266206143654,0.050635049291986776,0.0002664826418719655,0.04935880437197928,0.050337888151667606,0.05271727528864534,0.05030022352294915,0.0002664826418719655,0.051399042321652356,0.046372146682097506,0.048470575750490075,0.041358792111946055,0.053440919475009716,0.05281217814385904,0.04331215651401088,0.05253748276025958,0.04425798564934068,0.04710099530879066,0.041513886514609244,0.0002664826418719655,0.05153650500853167,0.0413814368881109,0.05293386835462682,0.051505793004816405,0.05013509185909866,0.04622433142565943,0.04502763916786962,0.04089592858793144,0.049663721791680646,0.05361580072200237,0.042880406262806404,0.051764175618139875,0.04996687129806965,0.05309876346600399,0.05208959080168705,0.04819016395472467,0.05173151421895898,0.04542961201528556,0.04945981344926281],\"type\":\"scatter\",\"xaxis\":\"x9\",\"yaxis\":\"y9\"},{\"marker\":{\"color\":[0,7,29,30,45,65,80,109,110,111,112,113,114,115,116,117,118,128,149,160,175,189,190,191,192,193,194,195,196,197,198,199,200,201,202,203,204,205,206,207,208,209,210,211,212,213,214,215,216,217,218,219,220,221,222,223,224,225,226,227,228,229,230,231,232,233,234,235,236,237,238,239,240,241,242,243,244,245,246,247,248,249,250,251,252,253,254,255,256,257,258,259,260,261,262,263,264,265,266,267,268,269,270,271,272,273,274,276,277,278,279,280,281,282,283,284,285,286,287,289,290,291,292,293,294,295,296,298,300,301,302,303,304,305,306,307,308,309,310,311,312,314,316,317,318,319,320,321,322,324,325,326,328,329,330,331,332,333,334,335,336,338,339,340,341,342,344,345,346,347,348,349,351,352,353,354,355,357,358,359,360,361,362,363,365,366,367,369,370,371,372,373,374,375,376,378,379,380,381,383,384,385,386,387,388,389,390,392,393,394,396,397,398,399,400,401,402,403,404,406,407,409,410,411,412,413,414,415,416,417,418,420,421,422,424,425,426,427,428,429,430,431,432,434,436,437,438,439,440,441,442,443,444,445,446,448,449],\"colorbar\":{\"title\":{\"text\":\"Trial\"},\"x\":1.0,\"xpad\":40},\"colorscale\":[[0.0,\"rgb(247,251,255)\"],[0.125,\"rgb(222,235,247)\"],[0.25,\"rgb(198,219,239)\"],[0.375,\"rgb(158,202,225)\"],[0.5,\"rgb(107,174,214)\"],[0.625,\"rgb(66,146,198)\"],[0.75,\"rgb(33,113,181)\"],[0.875,\"rgb(8,81,156)\"],[1.0,\"rgb(8,48,107)\"]],\"line\":{\"color\":\"Grey\",\"width\":0.5},\"showscale\":false},\"mode\":\"markers\",\"name\":\"Feasible Trial\",\"showlegend\":false,\"x\":[0.26204828841445593,1.0041489873346503,1.8293633855239544,1.711304717912446,0.1600389905877364,0.9690905393254672,1.0751799294559916,1.4047961874667565,1.4413843932725054,1.38702598200742,1.4220318632185849,1.4263165613858908,0.6692172372221319,1.5956837621800966,1.9614886939225802,1.2380493365105707,0.6735015201062146,0.7988542838309516,1.6252529251237815,1.2088183563190191,0.496590562478769,1.9604450913585005,1.9354153476642546,1.7577544220193593,1.752882958053434,1.6410737649695715,1.5934919669098861,1.57202631228016,1.998568372012898,1.8508497562899808,1.9276516198063225,1.9909122653788944,1.8038725374615234,1.7939413718130928,1.8215709875637462,1.8092391827386294,1.8667000038984132,1.6987357651433017,1.9877359190109856,1.9972779563142744,1.8563748152777997,1.868330902029696,1.8321372644437168,1.8340227545505363,1.8496120538342322,1.8689635392321735,1.8732042758454222,1.7332419177006673,1.9020589680919047,1.790785475932044,1.9040914444520407,1.7723761505619657,1.7257690950520503,1.801418947931833,1.9153599923871736,1.9308088328737163,1.9429468680096829,1.9990504595285787,1.988269076168496,1.9865190491277114,1.968849403980889,1.9845186807437316,1.999829780862566,1.9151404997178978,1.9157090461621389,1.9206812018231776,1.929131298720499,1.9315431943636736,1.9986944801978141,1.9075339212081697,1.916877099332216,1.9278413247414237,1.911322799040794,1.9143078260154494,1.919100942600386,1.934910244957095,1.9348952742868375,1.9491852847304854,1.9421854142452983,1.9431495091462696,1.952041161008228,1.9495300554229362,1.9708532948793493,1.9527308858400552,1.9456850735537499,1.9432031745674443,1.9446333348176497,1.900981894989739,1.9514486601051055,1.9007611022323208,1.8824059534966424,1.8775172837486953,1.8849804728609267,1.8702773086622155,1.8578498276860387,1.8809950055833553,1.880347622146293,1.8752091681873402,1.8304341692645771,1.827729234583476,1.831717262712215,1.8296071896654695,1.8574713495546675,1.872806210456213,1.8479124446312833,1.8194801982242088,1.8859251816775324,1.7744528586375783,1.8715450844847978,1.8794628854112443,1.880636861208098,1.8479311582604963,1.9509456454376373,1.892372531395725,1.8249773885755949,1.8075006623328012,1.8081997979774203,1.8120029560412751,1.675602059740139,1.7826019409141207,1.7529110560624337,1.6862188692241697,1.7710624245856392,1.7617992456528562,1.7205587407697214,1.6691632250380948,1.757606787815881,1.7891937590072169,0.9193922457601659,1.8265446112765786,0.2806292711224745,1.750312835971314,1.7962450233911453,1.503626085146554,1.170438114244506,1.84364670802145,1.8730560838614327,1.8805692478977118,1.9623152795225416,1.8831682889363297,1.7214270243973537,1.7820990174413311,1.351170270550873,1.8581384223514132,1.9566615712429634,1.9059546681431183,1.8367121354933544,1.8375147659141005,1.890719645310358,1.9529452834520544,1.8489421385476348,1.9082829562873138,1.819873879353691,1.9577698047081478,1.8751057508618327,1.9253571929734112,1.8864999131505094,1.7973072469639002,1.998611563999275,1.8500090206797084,1.926592066136699,1.8821365906116643,1.962733971321973,1.8184362976586497,1.7348695266795917,1.9152710518487903,1.8501935936849492,1.957955636554697,1.7889405953112574,1.8916646868505729,1.9352388772953775,1.841714096020989,1.8760955324851454,0.5337038217206012,1.7596698770906556,1.9984158685966167,1.9197162894308502,1.7968138223805008,1.6628270447660658,1.8294814153736396,0.010508393213481737,1.8983689643355246,1.95597044582921,1.8884565168446668,1.9093069947279615,1.8616516530314462,1.957178654842869,1.9123335622240738,1.8636132379327714,1.9716020136769414,1.8262536293318783,1.9337260047957903,1.8771632977123571,1.9042314392188722,1.9935216931233026,1.826685089605933,1.705691005118638,1.940158295370262,1.870714975652947,1.9147088048049374,1.8140075790250003,0.816199694392755,1.8593894151987889,1.7672707857243053,1.9523818032282687,1.8942416667377813,1.3404333576892178,1.9680134630374204,1.8321421916536036,1.9223398671733487,1.9994582312449083,1.7967674577877824,1.8924977441980442,1.8454154264990263,1.9262946117616335,1.730678955257263,1.9113739327409927,1.8692489804922288,1.7973978416169676,1.9367787117901374,1.616697027286068,1.856557175925657,1.8990071399792567,1.947601143188213,1.7635325074074875,1.831523648786906,1.8813243556438306,1.965549609066855,1.925943138314082,1.8082534361914515,1.8607542819242306,1.8526857289794005,1.1124264977117995,1.7479970784358467,1.8373832326514132,1.7830866796567728,1.8602888343998363,1.8100820447285744,1.8867028541943909,1.6916727765679744,1.8446299678922047,1.8999442463740372,1.8108000198871699,1.7573946124551416,1.8599579518894322,0.978139545361632,1.5397607886703861,1.9105067360322991,1.9156409421486988,1.8864757851972498,1.9271518622390245,1.9677050459913177,1.9779828313951895,1.8463261065715102,1.9980444914609181,1.908905758693505,1.8832581658541323],\"y\":[0.03847803567849229,0.03992089568563728,0.034522039692480196,0.044599477795545094,0.041083810657646824,0.0002664826418719655,0.042630380128308054,0.05014495286754074,0.05001918540506721,0.04937054806796139,0.04853121084630373,0.0002664826418719655,0.04086167291275695,0.04711551945335192,0.048255655760942956,0.04232723894120498,0.04212373222017858,0.04536433696221219,0.04318529427697464,0.0002664826418719655,0.0421431333588106,0.052770132207501916,0.044920360081063405,0.05053286852839014,0.0002664826418719655,0.050562791169713586,0.05031125284117284,0.04990563145551257,0.05112802526300825,0.04885511508997322,0.05069920295812504,0.04950766943167519,0.050427546154826045,0.05069072979215204,0.05073869298991869,0.04989507028462124,0.049972583889434,0.04700001020406326,0.0512353018267241,0.04827784121151514,0.05104263186459542,0.05092531802018609,0.050869259929248144,0.05073879495247531,0.049012160319736396,0.05039360254194376,0.050921486747334446,0.04891709249337225,0.04711571482008757,0.04995752837612295,0.04922041848900541,0.05102792024432849,0.04973127692293931,0.05038853822528087,0.05126283537418349,0.051778250982194365,0.05169413881766273,0.050889642540877744,0.05130924006573032,0.05112273381674017,0.048247156201741616,0.05121506243504324,0.05051766722476123,0.05124083401322201,0.050911436434536786,0.05107694519486827,0.05080826109915465,0.04784381402931958,0.04868276479117052,0.050435703298782,0.05143864758675326,0.05238586893488721,0.051812229848526695,0.05235041859328893,0.0002664826418719655,0.052734651923476726,0.052749727917604794,0.0002664826418719655,0.05119815890180516,0.05287919963207016,0.05223501429331294,0.051298554172739305,0.05135107591876845,0.04254372298438136,0.053134600182737454,0.052909503083440244,0.0002664826418719655,0.03920845351012365,0.05275915171373006,0.05319752032663925,0.053035294599967545,0.041507624622074385,0.053230998474819435,0.05318001901092788,0.04641161061905724,0.053037738820821044,0.0002664826418719655,0.05312387900539119,0.0529325066441798,0.05351701566277965,0.053314355858730775,0.03307219962532294,0.05178013728169698,0.049045059421762065,0.05127462047917321,0.029566477782746063,0.0002664826418719655,0.05091777583110446,0.05267623074832051,0.05318563606780051,0.03804079968142458,0.048897001938809,0.05300323925642245,0.03690790987867579,0.052648941574855224,0.05306271583010617,0.05263656227082064,0.048891441644559844,0.053398304472673463,0.05272727050856829,0.052834820688102344,0.04848977138583462,0.052674484024547705,0.04040126154027886,0.04890841429102853,0.0002664826418719655,0.03911269935383791,0.040218770111744254,0.047323777618326984,0.052218659379927014,0.0002664826418719655,0.0488647275039855,0.050529757918228224,0.047743133713452346,0.030807682327581472,0.04936410099543398,0.05293868035823385,0.0002664826418719655,0.04265414117226195,0.048691379157994576,0.045019433248485036,0.04883103346022026,0.0002664826418719655,0.05084333155381747,0.04915832064079717,0.05034803846721865,0.05332291730899048,0.05021782525860478,0.0002664826418719655,0.03892928588716499,0.03888675349644569,0.03851616520440891,0.05212252852978096,0.049119631837963154,0.05318691699897445,0.04859005646792183,0.051068356184236205,0.047562021882130046,0.048584741000029706,0.043302073935299466,0.051398648188950694,0.04405993648353966,0.051167828048413355,0.04902288614972887,0.0002664826418719655,0.0477290652407735,0.03672381871723387,0.05115571159589503,0.05190464757486465,0.050247743921605095,0.0002664826418719655,0.046151171893206104,0.05228112223311544,0.04005070835123643,0.0002664826418719655,0.048282279597252786,0.051259577771329536,0.049442899187413444,0.04431384850474095,0.051137952942888254,0.039108616243827964,0.05318697410454916,0.04983285667641849,0.05172419486866692,0.051540571067009634,0.03492244675424558,0.04656199182493171,0.0002664826418719655,0.04040000862559073,0.04941823080124984,0.05239761587862009,0.04730642709610305,0.0002664826418719655,0.048651239718197604,0.05129266217579649,0.05221626161352992,0.05062357831681236,0.048755892234960733,0.045554569718085844,0.049076559093286454,0.05259571933291268,0.048391519477274256,0.05141879854179728,0.0002664826418719655,0.04845640169812706,0.0503645963501691,0.05154465609281805,0.0448004959333929,0.05125224959235103,0.05288545887397246,0.0002664826418719655,0.05191662902991125,0.04962726571595453,0.04810938304912923,0.05296297056819297,0.05180491511054517,0.050212445949555984,0.04890254911014445,0.05234266206143654,0.050635049291986776,0.0002664826418719655,0.04935880437197928,0.050337888151667606,0.05271727528864534,0.05030022352294915,0.0002664826418719655,0.051399042321652356,0.046372146682097506,0.048470575750490075,0.041358792111946055,0.053440919475009716,0.05281217814385904,0.04331215651401088,0.05253748276025958,0.04425798564934068,0.04710099530879066,0.041513886514609244,0.0002664826418719655,0.05153650500853167,0.0413814368881109,0.05293386835462682,0.051505793004816405,0.05013509185909866,0.04622433142565943,0.04502763916786962,0.04089592858793144,0.049663721791680646,0.05361580072200237,0.042880406262806404,0.051764175618139875,0.04996687129806965,0.05309876346600399,0.05208959080168705,0.04819016395472467,0.05173151421895898,0.04542961201528556,0.04945981344926281],\"type\":\"scatter\",\"xaxis\":\"x10\",\"yaxis\":\"y10\"}],                        {\"template\":{\"data\":{\"histogram2dcontour\":[{\"type\":\"histogram2dcontour\",\"colorbar\":{\"outlinewidth\":0,\"ticks\":\"\"},\"colorscale\":[[0.0,\"#0d0887\"],[0.1111111111111111,\"#46039f\"],[0.2222222222222222,\"#7201a8\"],[0.3333333333333333,\"#9c179e\"],[0.4444444444444444,\"#bd3786\"],[0.5555555555555556,\"#d8576b\"],[0.6666666666666666,\"#ed7953\"],[0.7777777777777778,\"#fb9f3a\"],[0.8888888888888888,\"#fdca26\"],[1.0,\"#f0f921\"]]}],\"choropleth\":[{\"type\":\"choropleth\",\"colorbar\":{\"outlinewidth\":0,\"ticks\":\"\"}}],\"histogram2d\":[{\"type\":\"histogram2d\",\"colorbar\":{\"outlinewidth\":0,\"ticks\":\"\"},\"colorscale\":[[0.0,\"#0d0887\"],[0.1111111111111111,\"#46039f\"],[0.2222222222222222,\"#7201a8\"],[0.3333333333333333,\"#9c179e\"],[0.4444444444444444,\"#bd3786\"],[0.5555555555555556,\"#d8576b\"],[0.6666666666666666,\"#ed7953\"],[0.7777777777777778,\"#fb9f3a\"],[0.8888888888888888,\"#fdca26\"],[1.0,\"#f0f921\"]]}],\"heatmap\":[{\"type\":\"heatmap\",\"colorbar\":{\"outlinewidth\":0,\"ticks\":\"\"},\"colorscale\":[[0.0,\"#0d0887\"],[0.1111111111111111,\"#46039f\"],[0.2222222222222222,\"#7201a8\"],[0.3333333333333333,\"#9c179e\"],[0.4444444444444444,\"#bd3786\"],[0.5555555555555556,\"#d8576b\"],[0.6666666666666666,\"#ed7953\"],[0.7777777777777778,\"#fb9f3a\"],[0.8888888888888888,\"#fdca26\"],[1.0,\"#f0f921\"]]}],\"heatmapgl\":[{\"type\":\"heatmapgl\",\"colorbar\":{\"outlinewidth\":0,\"ticks\":\"\"},\"colorscale\":[[0.0,\"#0d0887\"],[0.1111111111111111,\"#46039f\"],[0.2222222222222222,\"#7201a8\"],[0.3333333333333333,\"#9c179e\"],[0.4444444444444444,\"#bd3786\"],[0.5555555555555556,\"#d8576b\"],[0.6666666666666666,\"#ed7953\"],[0.7777777777777778,\"#fb9f3a\"],[0.8888888888888888,\"#fdca26\"],[1.0,\"#f0f921\"]]}],\"contourcarpet\":[{\"type\":\"contourcarpet\",\"colorbar\":{\"outlinewidth\":0,\"ticks\":\"\"}}],\"contour\":[{\"type\":\"contour\",\"colorbar\":{\"outlinewidth\":0,\"ticks\":\"\"},\"colorscale\":[[0.0,\"#0d0887\"],[0.1111111111111111,\"#46039f\"],[0.2222222222222222,\"#7201a8\"],[0.3333333333333333,\"#9c179e\"],[0.4444444444444444,\"#bd3786\"],[0.5555555555555556,\"#d8576b\"],[0.6666666666666666,\"#ed7953\"],[0.7777777777777778,\"#fb9f3a\"],[0.8888888888888888,\"#fdca26\"],[1.0,\"#f0f921\"]]}],\"surface\":[{\"type\":\"surface\",\"colorbar\":{\"outlinewidth\":0,\"ticks\":\"\"},\"colorscale\":[[0.0,\"#0d0887\"],[0.1111111111111111,\"#46039f\"],[0.2222222222222222,\"#7201a8\"],[0.3333333333333333,\"#9c179e\"],[0.4444444444444444,\"#bd3786\"],[0.5555555555555556,\"#d8576b\"],[0.6666666666666666,\"#ed7953\"],[0.7777777777777778,\"#fb9f3a\"],[0.8888888888888888,\"#fdca26\"],[1.0,\"#f0f921\"]]}],\"mesh3d\":[{\"type\":\"mesh3d\",\"colorbar\":{\"outlinewidth\":0,\"ticks\":\"\"}}],\"scatter\":[{\"fillpattern\":{\"fillmode\":\"overlay\",\"size\":10,\"solidity\":0.2},\"type\":\"scatter\"}],\"parcoords\":[{\"type\":\"parcoords\",\"line\":{\"colorbar\":{\"outlinewidth\":0,\"ticks\":\"\"}}}],\"scatterpolargl\":[{\"type\":\"scatterpolargl\",\"marker\":{\"colorbar\":{\"outlinewidth\":0,\"ticks\":\"\"}}}],\"bar\":[{\"error_x\":{\"color\":\"#2a3f5f\"},\"error_y\":{\"color\":\"#2a3f5f\"},\"marker\":{\"line\":{\"color\":\"#E5ECF6\",\"width\":0.5},\"pattern\":{\"fillmode\":\"overlay\",\"size\":10,\"solidity\":0.2}},\"type\":\"bar\"}],\"scattergeo\":[{\"type\":\"scattergeo\",\"marker\":{\"colorbar\":{\"outlinewidth\":0,\"ticks\":\"\"}}}],\"scatterpolar\":[{\"type\":\"scatterpolar\",\"marker\":{\"colorbar\":{\"outlinewidth\":0,\"ticks\":\"\"}}}],\"histogram\":[{\"marker\":{\"pattern\":{\"fillmode\":\"overlay\",\"size\":10,\"solidity\":0.2}},\"type\":\"histogram\"}],\"scattergl\":[{\"type\":\"scattergl\",\"marker\":{\"colorbar\":{\"outlinewidth\":0,\"ticks\":\"\"}}}],\"scatter3d\":[{\"type\":\"scatter3d\",\"line\":{\"colorbar\":{\"outlinewidth\":0,\"ticks\":\"\"}},\"marker\":{\"colorbar\":{\"outlinewidth\":0,\"ticks\":\"\"}}}],\"scattermapbox\":[{\"type\":\"scattermapbox\",\"marker\":{\"colorbar\":{\"outlinewidth\":0,\"ticks\":\"\"}}}],\"scatterternary\":[{\"type\":\"scatterternary\",\"marker\":{\"colorbar\":{\"outlinewidth\":0,\"ticks\":\"\"}}}],\"scattercarpet\":[{\"type\":\"scattercarpet\",\"marker\":{\"colorbar\":{\"outlinewidth\":0,\"ticks\":\"\"}}}],\"carpet\":[{\"aaxis\":{\"endlinecolor\":\"#2a3f5f\",\"gridcolor\":\"white\",\"linecolor\":\"white\",\"minorgridcolor\":\"white\",\"startlinecolor\":\"#2a3f5f\"},\"baxis\":{\"endlinecolor\":\"#2a3f5f\",\"gridcolor\":\"white\",\"linecolor\":\"white\",\"minorgridcolor\":\"white\",\"startlinecolor\":\"#2a3f5f\"},\"type\":\"carpet\"}],\"table\":[{\"cells\":{\"fill\":{\"color\":\"#EBF0F8\"},\"line\":{\"color\":\"white\"}},\"header\":{\"fill\":{\"color\":\"#C8D4E3\"},\"line\":{\"color\":\"white\"}},\"type\":\"table\"}],\"barpolar\":[{\"marker\":{\"line\":{\"color\":\"#E5ECF6\",\"width\":0.5},\"pattern\":{\"fillmode\":\"overlay\",\"size\":10,\"solidity\":0.2}},\"type\":\"barpolar\"}],\"pie\":[{\"automargin\":true,\"type\":\"pie\"}]},\"layout\":{\"autotypenumbers\":\"strict\",\"colorway\":[\"#636efa\",\"#EF553B\",\"#00cc96\",\"#ab63fa\",\"#FFA15A\",\"#19d3f3\",\"#FF6692\",\"#B6E880\",\"#FF97FF\",\"#FECB52\"],\"font\":{\"color\":\"#2a3f5f\"},\"hovermode\":\"closest\",\"hoverlabel\":{\"align\":\"left\"},\"paper_bgcolor\":\"white\",\"plot_bgcolor\":\"#E5ECF6\",\"polar\":{\"bgcolor\":\"#E5ECF6\",\"angularaxis\":{\"gridcolor\":\"white\",\"linecolor\":\"white\",\"ticks\":\"\"},\"radialaxis\":{\"gridcolor\":\"white\",\"linecolor\":\"white\",\"ticks\":\"\"}},\"ternary\":{\"bgcolor\":\"#E5ECF6\",\"aaxis\":{\"gridcolor\":\"white\",\"linecolor\":\"white\",\"ticks\":\"\"},\"baxis\":{\"gridcolor\":\"white\",\"linecolor\":\"white\",\"ticks\":\"\"},\"caxis\":{\"gridcolor\":\"white\",\"linecolor\":\"white\",\"ticks\":\"\"}},\"coloraxis\":{\"colorbar\":{\"outlinewidth\":0,\"ticks\":\"\"}},\"colorscale\":{\"sequential\":[[0.0,\"#0d0887\"],[0.1111111111111111,\"#46039f\"],[0.2222222222222222,\"#7201a8\"],[0.3333333333333333,\"#9c179e\"],[0.4444444444444444,\"#bd3786\"],[0.5555555555555556,\"#d8576b\"],[0.6666666666666666,\"#ed7953\"],[0.7777777777777778,\"#fb9f3a\"],[0.8888888888888888,\"#fdca26\"],[1.0,\"#f0f921\"]],\"sequentialminus\":[[0.0,\"#0d0887\"],[0.1111111111111111,\"#46039f\"],[0.2222222222222222,\"#7201a8\"],[0.3333333333333333,\"#9c179e\"],[0.4444444444444444,\"#bd3786\"],[0.5555555555555556,\"#d8576b\"],[0.6666666666666666,\"#ed7953\"],[0.7777777777777778,\"#fb9f3a\"],[0.8888888888888888,\"#fdca26\"],[1.0,\"#f0f921\"]],\"diverging\":[[0,\"#8e0152\"],[0.1,\"#c51b7d\"],[0.2,\"#de77ae\"],[0.3,\"#f1b6da\"],[0.4,\"#fde0ef\"],[0.5,\"#f7f7f7\"],[0.6,\"#e6f5d0\"],[0.7,\"#b8e186\"],[0.8,\"#7fbc41\"],[0.9,\"#4d9221\"],[1,\"#276419\"]]},\"xaxis\":{\"gridcolor\":\"white\",\"linecolor\":\"white\",\"ticks\":\"\",\"title\":{\"standoff\":15},\"zerolinecolor\":\"white\",\"automargin\":true,\"zerolinewidth\":2},\"yaxis\":{\"gridcolor\":\"white\",\"linecolor\":\"white\",\"ticks\":\"\",\"title\":{\"standoff\":15},\"zerolinecolor\":\"white\",\"automargin\":true,\"zerolinewidth\":2},\"scene\":{\"xaxis\":{\"backgroundcolor\":\"#E5ECF6\",\"gridcolor\":\"white\",\"linecolor\":\"white\",\"showbackground\":true,\"ticks\":\"\",\"zerolinecolor\":\"white\",\"gridwidth\":2},\"yaxis\":{\"backgroundcolor\":\"#E5ECF6\",\"gridcolor\":\"white\",\"linecolor\":\"white\",\"showbackground\":true,\"ticks\":\"\",\"zerolinecolor\":\"white\",\"gridwidth\":2},\"zaxis\":{\"backgroundcolor\":\"#E5ECF6\",\"gridcolor\":\"white\",\"linecolor\":\"white\",\"showbackground\":true,\"ticks\":\"\",\"zerolinecolor\":\"white\",\"gridwidth\":2}},\"shapedefaults\":{\"line\":{\"color\":\"#2a3f5f\"}},\"annotationdefaults\":{\"arrowcolor\":\"#2a3f5f\",\"arrowhead\":0,\"arrowwidth\":1},\"geo\":{\"bgcolor\":\"white\",\"landcolor\":\"#E5ECF6\",\"subunitcolor\":\"white\",\"showland\":true,\"showlakes\":true,\"lakecolor\":\"white\"},\"title\":{\"x\":0.05},\"mapbox\":{\"style\":\"light\"}}},\"xaxis\":{\"anchor\":\"y\",\"domain\":[0.0,0.082],\"title\":{\"text\":\"asymmetric_alpha\"}},\"yaxis\":{\"anchor\":\"x\",\"domain\":[0.0,1.0],\"title\":{\"text\":\"Objective Value\"}},\"xaxis2\":{\"anchor\":\"y2\",\"domain\":[0.10200000000000001,0.184],\"title\":{\"text\":\"feature_weighting\"},\"type\":\"category\",\"categoryorder\":\"array\",\"categoryarray\":[\"BM25\",\"TF-IDF\",\"none\"]},\"yaxis2\":{\"anchor\":\"x2\",\"domain\":[0.0,1.0],\"matches\":\"y\",\"showticklabels\":false},\"xaxis3\":{\"anchor\":\"y3\",\"domain\":[0.20400000000000001,0.28600000000000003],\"title\":{\"text\":\"normalize\"},\"type\":\"category\",\"categoryorder\":\"array\",\"categoryarray\":[true,false]},\"yaxis3\":{\"anchor\":\"x3\",\"domain\":[0.0,1.0],\"matches\":\"y\",\"showticklabels\":false},\"xaxis4\":{\"anchor\":\"y4\",\"domain\":[0.306,0.388],\"title\":{\"text\":\"normalize_avg_row\"},\"type\":\"category\",\"categoryorder\":\"array\",\"categoryarray\":[true,false]},\"yaxis4\":{\"anchor\":\"x4\",\"domain\":[0.0,1.0],\"matches\":\"y\",\"showticklabels\":false},\"xaxis5\":{\"anchor\":\"y5\",\"domain\":[0.40800000000000003,0.49000000000000005],\"title\":{\"text\":\"shrink\"}},\"yaxis5\":{\"anchor\":\"x5\",\"domain\":[0.0,1.0],\"matches\":\"y\",\"showticklabels\":false},\"xaxis6\":{\"anchor\":\"y6\",\"domain\":[0.51,0.592],\"title\":{\"text\":\"similarity\"},\"type\":\"category\",\"categoryorder\":\"array\",\"categoryarray\":[\"cosine\",\"dice\",\"jaccard\",\"asymmetric\",\"tversky\",\"euclidean\"]},\"yaxis6\":{\"anchor\":\"x6\",\"domain\":[0.0,1.0],\"matches\":\"y\",\"showticklabels\":false},\"xaxis7\":{\"anchor\":\"y7\",\"domain\":[0.6120000000000001,0.6940000000000001],\"title\":{\"text\":\"similarity_from_distance_mode\"},\"type\":\"category\",\"categoryorder\":\"array\",\"categoryarray\":[\"lin\",\"log\",\"exp\"]},\"yaxis7\":{\"anchor\":\"x7\",\"domain\":[0.0,1.0],\"matches\":\"y\",\"showticklabels\":false},\"xaxis8\":{\"anchor\":\"y8\",\"domain\":[0.7140000000000001,0.796],\"title\":{\"text\":\"topK\"}},\"yaxis8\":{\"anchor\":\"x8\",\"domain\":[0.0,1.0],\"matches\":\"y\",\"showticklabels\":false},\"xaxis9\":{\"anchor\":\"y9\",\"domain\":[0.8160000000000001,0.898],\"title\":{\"text\":\"tversky_alpha\"}},\"yaxis9\":{\"anchor\":\"x9\",\"domain\":[0.0,1.0],\"matches\":\"y\",\"showticklabels\":false},\"xaxis10\":{\"anchor\":\"y10\",\"domain\":[0.9179999999999999,0.9999999999999999],\"title\":{\"text\":\"tversky_beta\"}},\"yaxis10\":{\"anchor\":\"x10\",\"domain\":[0.0,1.0],\"matches\":\"y\",\"showticklabels\":false},\"title\":{\"text\":\"Slice Plot\"},\"width\":3000},                        {\"responsive\": true}                    ).then(function(){\n",
       "                            \n",
       "var gd = document.getElementById('f87caee9-94e9-4601-adb6-7bf465a227e3');\n",
       "var x = new MutationObserver(function (mutations, observer) {{\n",
       "        var display = window.getComputedStyle(gd).display;\n",
       "        if (!display || display === 'none') {{\n",
       "            console.log([gd, 'removed!']);\n",
       "            Plotly.purge(gd);\n",
       "            observer.disconnect();\n",
       "        }}\n",
       "}});\n",
       "\n",
       "// Listen for the removal of the full notebook cells\n",
       "var notebookContainer = gd.closest('#notebook-container');\n",
       "if (notebookContainer) {{\n",
       "    x.observe(notebookContainer, {childList: true});\n",
       "}}\n",
       "\n",
       "// Listen for the clearing of the current output cell\n",
       "var outputEl = gd.closest('.output');\n",
       "if (outputEl) {{\n",
       "    x.observe(outputEl, {childList: true});\n",
       "}}\n",
       "\n",
       "                        })                };                            </script>        </div>\n",
       "</body>\n",
       "</html>"
      ]
     },
     "metadata": {},
     "output_type": "display_data"
    }
   ],
   "source": [
    "if not config['tune_parameters']:\n",
    "    optuna_study = optuna.load_study(study_name=f'hyperparameters_tuning_{config[\"model\"]}_{config[\"metric\"]}', storage=f'sqlite:///{config[\"database_path\"]}')\n",
    "    \n",
    "fig = optuna.visualization.plot_slice(optuna_study)\n",
    "fig.show()"
   ]
  },
  {
   "cell_type": "code",
   "execution_count": 15,
   "id": "a13859d2",
   "metadata": {
    "execution": {
     "iopub.execute_input": "2025-01-05T21:26:34.726480Z",
     "iopub.status.busy": "2025-01-05T21:26:34.725990Z",
     "iopub.status.idle": "2025-01-05T21:26:42.164207Z",
     "shell.execute_reply": "2025-01-05T21:26:42.162835Z"
    },
    "papermill": {
     "duration": 7.501953,
     "end_time": "2025-01-05T21:26:42.166337",
     "exception": false,
     "start_time": "2025-01-05T21:26:34.664384",
     "status": "completed"
    },
    "tags": []
   },
   "outputs": [
    {
     "data": {
      "text/html": [
       "<html>\n",
       "<head><meta charset=\"utf-8\" /></head>\n",
       "<body>\n",
       "    <div>            <script src=\"https://cdnjs.cloudflare.com/ajax/libs/mathjax/2.7.5/MathJax.js?config=TeX-AMS-MML_SVG\"></script><script type=\"text/javascript\">if (window.MathJax && window.MathJax.Hub && window.MathJax.Hub.Config) {window.MathJax.Hub.Config({SVG: {font: \"STIX-Web\"}});}</script>                <script type=\"text/javascript\">window.PlotlyConfig = {MathJaxConfig: 'local'};</script>\n",
       "        <script charset=\"utf-8\" src=\"https://cdn.plot.ly/plotly-2.35.2.min.js\"></script>                <div id=\"2bbbfc41-33d1-4447-85ea-60456a441a38\" class=\"plotly-graph-div\" style=\"height:525px; width:100%;\"></div>            <script type=\"text/javascript\">                                    window.PLOTLYENV=window.PLOTLYENV || {};                                    if (document.getElementById(\"2bbbfc41-33d1-4447-85ea-60456a441a38\")) {                    Plotly.newPlot(                        \"2bbbfc41-33d1-4447-85ea-60456a441a38\",                        [{\"cliponaxis\":false,\"hovertemplate\":[\"feature_weighting (CategoricalDistribution): 0.03811888779250787\\u003cextra\\u003e\\u003c\\u002fextra\\u003e\",\"shrink (IntDistribution): 0.05686607667708019\\u003cextra\\u003e\\u003c\\u002fextra\\u003e\",\"topK (IntDistribution): 0.19821236688123947\\u003cextra\\u003e\\u003c\\u002fextra\\u003e\",\"similarity (CategoricalDistribution): 0.7068026686491725\\u003cextra\\u003e\\u003c\\u002fextra\\u003e\"],\"name\":\"Objective Value\",\"orientation\":\"h\",\"text\":[\"0.04\",\"0.06\",\"0.20\",\"0.71\"],\"textposition\":\"outside\",\"x\":[0.03811888779250787,0.05686607667708019,0.19821236688123947,0.7068026686491725],\"y\":[\"feature_weighting\",\"shrink\",\"topK\",\"similarity\"],\"type\":\"bar\"}],                        {\"title\":{\"text\":\"Hyperparameter Importances\"},\"xaxis\":{\"title\":{\"text\":\"Hyperparameter Importance\"}},\"yaxis\":{\"title\":{\"text\":\"Hyperparameter\"}},\"template\":{\"data\":{\"histogram2dcontour\":[{\"type\":\"histogram2dcontour\",\"colorbar\":{\"outlinewidth\":0,\"ticks\":\"\"},\"colorscale\":[[0.0,\"#0d0887\"],[0.1111111111111111,\"#46039f\"],[0.2222222222222222,\"#7201a8\"],[0.3333333333333333,\"#9c179e\"],[0.4444444444444444,\"#bd3786\"],[0.5555555555555556,\"#d8576b\"],[0.6666666666666666,\"#ed7953\"],[0.7777777777777778,\"#fb9f3a\"],[0.8888888888888888,\"#fdca26\"],[1.0,\"#f0f921\"]]}],\"choropleth\":[{\"type\":\"choropleth\",\"colorbar\":{\"outlinewidth\":0,\"ticks\":\"\"}}],\"histogram2d\":[{\"type\":\"histogram2d\",\"colorbar\":{\"outlinewidth\":0,\"ticks\":\"\"},\"colorscale\":[[0.0,\"#0d0887\"],[0.1111111111111111,\"#46039f\"],[0.2222222222222222,\"#7201a8\"],[0.3333333333333333,\"#9c179e\"],[0.4444444444444444,\"#bd3786\"],[0.5555555555555556,\"#d8576b\"],[0.6666666666666666,\"#ed7953\"],[0.7777777777777778,\"#fb9f3a\"],[0.8888888888888888,\"#fdca26\"],[1.0,\"#f0f921\"]]}],\"heatmap\":[{\"type\":\"heatmap\",\"colorbar\":{\"outlinewidth\":0,\"ticks\":\"\"},\"colorscale\":[[0.0,\"#0d0887\"],[0.1111111111111111,\"#46039f\"],[0.2222222222222222,\"#7201a8\"],[0.3333333333333333,\"#9c179e\"],[0.4444444444444444,\"#bd3786\"],[0.5555555555555556,\"#d8576b\"],[0.6666666666666666,\"#ed7953\"],[0.7777777777777778,\"#fb9f3a\"],[0.8888888888888888,\"#fdca26\"],[1.0,\"#f0f921\"]]}],\"heatmapgl\":[{\"type\":\"heatmapgl\",\"colorbar\":{\"outlinewidth\":0,\"ticks\":\"\"},\"colorscale\":[[0.0,\"#0d0887\"],[0.1111111111111111,\"#46039f\"],[0.2222222222222222,\"#7201a8\"],[0.3333333333333333,\"#9c179e\"],[0.4444444444444444,\"#bd3786\"],[0.5555555555555556,\"#d8576b\"],[0.6666666666666666,\"#ed7953\"],[0.7777777777777778,\"#fb9f3a\"],[0.8888888888888888,\"#fdca26\"],[1.0,\"#f0f921\"]]}],\"contourcarpet\":[{\"type\":\"contourcarpet\",\"colorbar\":{\"outlinewidth\":0,\"ticks\":\"\"}}],\"contour\":[{\"type\":\"contour\",\"colorbar\":{\"outlinewidth\":0,\"ticks\":\"\"},\"colorscale\":[[0.0,\"#0d0887\"],[0.1111111111111111,\"#46039f\"],[0.2222222222222222,\"#7201a8\"],[0.3333333333333333,\"#9c179e\"],[0.4444444444444444,\"#bd3786\"],[0.5555555555555556,\"#d8576b\"],[0.6666666666666666,\"#ed7953\"],[0.7777777777777778,\"#fb9f3a\"],[0.8888888888888888,\"#fdca26\"],[1.0,\"#f0f921\"]]}],\"surface\":[{\"type\":\"surface\",\"colorbar\":{\"outlinewidth\":0,\"ticks\":\"\"},\"colorscale\":[[0.0,\"#0d0887\"],[0.1111111111111111,\"#46039f\"],[0.2222222222222222,\"#7201a8\"],[0.3333333333333333,\"#9c179e\"],[0.4444444444444444,\"#bd3786\"],[0.5555555555555556,\"#d8576b\"],[0.6666666666666666,\"#ed7953\"],[0.7777777777777778,\"#fb9f3a\"],[0.8888888888888888,\"#fdca26\"],[1.0,\"#f0f921\"]]}],\"mesh3d\":[{\"type\":\"mesh3d\",\"colorbar\":{\"outlinewidth\":0,\"ticks\":\"\"}}],\"scatter\":[{\"fillpattern\":{\"fillmode\":\"overlay\",\"size\":10,\"solidity\":0.2},\"type\":\"scatter\"}],\"parcoords\":[{\"type\":\"parcoords\",\"line\":{\"colorbar\":{\"outlinewidth\":0,\"ticks\":\"\"}}}],\"scatterpolargl\":[{\"type\":\"scatterpolargl\",\"marker\":{\"colorbar\":{\"outlinewidth\":0,\"ticks\":\"\"}}}],\"bar\":[{\"error_x\":{\"color\":\"#2a3f5f\"},\"error_y\":{\"color\":\"#2a3f5f\"},\"marker\":{\"line\":{\"color\":\"#E5ECF6\",\"width\":0.5},\"pattern\":{\"fillmode\":\"overlay\",\"size\":10,\"solidity\":0.2}},\"type\":\"bar\"}],\"scattergeo\":[{\"type\":\"scattergeo\",\"marker\":{\"colorbar\":{\"outlinewidth\":0,\"ticks\":\"\"}}}],\"scatterpolar\":[{\"type\":\"scatterpolar\",\"marker\":{\"colorbar\":{\"outlinewidth\":0,\"ticks\":\"\"}}}],\"histogram\":[{\"marker\":{\"pattern\":{\"fillmode\":\"overlay\",\"size\":10,\"solidity\":0.2}},\"type\":\"histogram\"}],\"scattergl\":[{\"type\":\"scattergl\",\"marker\":{\"colorbar\":{\"outlinewidth\":0,\"ticks\":\"\"}}}],\"scatter3d\":[{\"type\":\"scatter3d\",\"line\":{\"colorbar\":{\"outlinewidth\":0,\"ticks\":\"\"}},\"marker\":{\"colorbar\":{\"outlinewidth\":0,\"ticks\":\"\"}}}],\"scattermapbox\":[{\"type\":\"scattermapbox\",\"marker\":{\"colorbar\":{\"outlinewidth\":0,\"ticks\":\"\"}}}],\"scatterternary\":[{\"type\":\"scatterternary\",\"marker\":{\"colorbar\":{\"outlinewidth\":0,\"ticks\":\"\"}}}],\"scattercarpet\":[{\"type\":\"scattercarpet\",\"marker\":{\"colorbar\":{\"outlinewidth\":0,\"ticks\":\"\"}}}],\"carpet\":[{\"aaxis\":{\"endlinecolor\":\"#2a3f5f\",\"gridcolor\":\"white\",\"linecolor\":\"white\",\"minorgridcolor\":\"white\",\"startlinecolor\":\"#2a3f5f\"},\"baxis\":{\"endlinecolor\":\"#2a3f5f\",\"gridcolor\":\"white\",\"linecolor\":\"white\",\"minorgridcolor\":\"white\",\"startlinecolor\":\"#2a3f5f\"},\"type\":\"carpet\"}],\"table\":[{\"cells\":{\"fill\":{\"color\":\"#EBF0F8\"},\"line\":{\"color\":\"white\"}},\"header\":{\"fill\":{\"color\":\"#C8D4E3\"},\"line\":{\"color\":\"white\"}},\"type\":\"table\"}],\"barpolar\":[{\"marker\":{\"line\":{\"color\":\"#E5ECF6\",\"width\":0.5},\"pattern\":{\"fillmode\":\"overlay\",\"size\":10,\"solidity\":0.2}},\"type\":\"barpolar\"}],\"pie\":[{\"automargin\":true,\"type\":\"pie\"}]},\"layout\":{\"autotypenumbers\":\"strict\",\"colorway\":[\"#636efa\",\"#EF553B\",\"#00cc96\",\"#ab63fa\",\"#FFA15A\",\"#19d3f3\",\"#FF6692\",\"#B6E880\",\"#FF97FF\",\"#FECB52\"],\"font\":{\"color\":\"#2a3f5f\"},\"hovermode\":\"closest\",\"hoverlabel\":{\"align\":\"left\"},\"paper_bgcolor\":\"white\",\"plot_bgcolor\":\"#E5ECF6\",\"polar\":{\"bgcolor\":\"#E5ECF6\",\"angularaxis\":{\"gridcolor\":\"white\",\"linecolor\":\"white\",\"ticks\":\"\"},\"radialaxis\":{\"gridcolor\":\"white\",\"linecolor\":\"white\",\"ticks\":\"\"}},\"ternary\":{\"bgcolor\":\"#E5ECF6\",\"aaxis\":{\"gridcolor\":\"white\",\"linecolor\":\"white\",\"ticks\":\"\"},\"baxis\":{\"gridcolor\":\"white\",\"linecolor\":\"white\",\"ticks\":\"\"},\"caxis\":{\"gridcolor\":\"white\",\"linecolor\":\"white\",\"ticks\":\"\"}},\"coloraxis\":{\"colorbar\":{\"outlinewidth\":0,\"ticks\":\"\"}},\"colorscale\":{\"sequential\":[[0.0,\"#0d0887\"],[0.1111111111111111,\"#46039f\"],[0.2222222222222222,\"#7201a8\"],[0.3333333333333333,\"#9c179e\"],[0.4444444444444444,\"#bd3786\"],[0.5555555555555556,\"#d8576b\"],[0.6666666666666666,\"#ed7953\"],[0.7777777777777778,\"#fb9f3a\"],[0.8888888888888888,\"#fdca26\"],[1.0,\"#f0f921\"]],\"sequentialminus\":[[0.0,\"#0d0887\"],[0.1111111111111111,\"#46039f\"],[0.2222222222222222,\"#7201a8\"],[0.3333333333333333,\"#9c179e\"],[0.4444444444444444,\"#bd3786\"],[0.5555555555555556,\"#d8576b\"],[0.6666666666666666,\"#ed7953\"],[0.7777777777777778,\"#fb9f3a\"],[0.8888888888888888,\"#fdca26\"],[1.0,\"#f0f921\"]],\"diverging\":[[0,\"#8e0152\"],[0.1,\"#c51b7d\"],[0.2,\"#de77ae\"],[0.3,\"#f1b6da\"],[0.4,\"#fde0ef\"],[0.5,\"#f7f7f7\"],[0.6,\"#e6f5d0\"],[0.7,\"#b8e186\"],[0.8,\"#7fbc41\"],[0.9,\"#4d9221\"],[1,\"#276419\"]]},\"xaxis\":{\"gridcolor\":\"white\",\"linecolor\":\"white\",\"ticks\":\"\",\"title\":{\"standoff\":15},\"zerolinecolor\":\"white\",\"automargin\":true,\"zerolinewidth\":2},\"yaxis\":{\"gridcolor\":\"white\",\"linecolor\":\"white\",\"ticks\":\"\",\"title\":{\"standoff\":15},\"zerolinecolor\":\"white\",\"automargin\":true,\"zerolinewidth\":2},\"scene\":{\"xaxis\":{\"backgroundcolor\":\"#E5ECF6\",\"gridcolor\":\"white\",\"linecolor\":\"white\",\"showbackground\":true,\"ticks\":\"\",\"zerolinecolor\":\"white\",\"gridwidth\":2},\"yaxis\":{\"backgroundcolor\":\"#E5ECF6\",\"gridcolor\":\"white\",\"linecolor\":\"white\",\"showbackground\":true,\"ticks\":\"\",\"zerolinecolor\":\"white\",\"gridwidth\":2},\"zaxis\":{\"backgroundcolor\":\"#E5ECF6\",\"gridcolor\":\"white\",\"linecolor\":\"white\",\"showbackground\":true,\"ticks\":\"\",\"zerolinecolor\":\"white\",\"gridwidth\":2}},\"shapedefaults\":{\"line\":{\"color\":\"#2a3f5f\"}},\"annotationdefaults\":{\"arrowcolor\":\"#2a3f5f\",\"arrowhead\":0,\"arrowwidth\":1},\"geo\":{\"bgcolor\":\"white\",\"landcolor\":\"#E5ECF6\",\"subunitcolor\":\"white\",\"showland\":true,\"showlakes\":true,\"lakecolor\":\"white\"},\"title\":{\"x\":0.05},\"mapbox\":{\"style\":\"light\"}}}},                        {\"responsive\": true}                    ).then(function(){\n",
       "                            \n",
       "var gd = document.getElementById('2bbbfc41-33d1-4447-85ea-60456a441a38');\n",
       "var x = new MutationObserver(function (mutations, observer) {{\n",
       "        var display = window.getComputedStyle(gd).display;\n",
       "        if (!display || display === 'none') {{\n",
       "            console.log([gd, 'removed!']);\n",
       "            Plotly.purge(gd);\n",
       "            observer.disconnect();\n",
       "        }}\n",
       "}});\n",
       "\n",
       "// Listen for the removal of the full notebook cells\n",
       "var notebookContainer = gd.closest('#notebook-container');\n",
       "if (notebookContainer) {{\n",
       "    x.observe(notebookContainer, {childList: true});\n",
       "}}\n",
       "\n",
       "// Listen for the clearing of the current output cell\n",
       "var outputEl = gd.closest('.output');\n",
       "if (outputEl) {{\n",
       "    x.observe(outputEl, {childList: true});\n",
       "}}\n",
       "\n",
       "                        })                };                            </script>        </div>\n",
       "</body>\n",
       "</html>"
      ]
     },
     "metadata": {},
     "output_type": "display_data"
    }
   ],
   "source": [
    "if not config['tune_parameters']:\n",
    "    optuna_study = optuna.load_study(study_name=f'hyperparameters_tuning_{config[\"model\"]}_{config[\"metric\"]}', storage=f'sqlite:///{config[\"database_path\"]}')\n",
    "    \n",
    "fig = optuna.visualization.plot_param_importances(optuna_study)\n",
    "fig.show()"
   ]
  },
  {
   "cell_type": "markdown",
   "id": "4423826d",
   "metadata": {
    "papermill": {
     "duration": 0.060175,
     "end_time": "2025-01-05T21:26:42.287072",
     "exception": false,
     "start_time": "2025-01-05T21:26:42.226897",
     "status": "completed"
    },
    "tags": []
   },
   "source": [
    "## Let's train the recommender with best parameter values"
   ]
  },
  {
   "cell_type": "code",
   "execution_count": 16,
   "id": "e4e8abca",
   "metadata": {
    "execution": {
     "iopub.execute_input": "2025-01-05T21:26:42.410133Z",
     "iopub.status.busy": "2025-01-05T21:26:42.409684Z",
     "iopub.status.idle": "2025-01-05T21:26:59.072510Z",
     "shell.execute_reply": "2025-01-05T21:26:59.071239Z"
    },
    "papermill": {
     "duration": 16.727386,
     "end_time": "2025-01-05T21:26:59.074662",
     "exception": false,
     "start_time": "2025-01-05T21:26:42.347276",
     "status": "completed"
    },
    "tags": []
   },
   "outputs": [
    {
     "name": "stdout",
     "output_type": "stream",
     "text": [
      "Similarity column 38121 (100.0%), 2355.24 column/sec. Elapsed time 16.19 sec\n"
     ]
    }
   ],
   "source": [
    "if config['tune_best_params']:\n",
    "\n",
    "    if config['tune_parameters']:\n",
    "        best_params = optuna_study.best_trial.params\n",
    "    else: \n",
    "        with open(f'{K_PATH}/{GH_PATH}/{config[\"model\"]}Recommender/Optimizing{config[\"metric\"]}/best_params_{config[\"model\"]}_{config[\"metric\"]}.json', 'r') as best_params_json:\n",
    "            best_params = json.load(best_params_json)\n",
    "\n",
    "    recommender_instance = ItemKNNCFRecommender(URM_train + URM_validation)\n",
    "    recommender_instance.fit(**best_params)"
   ]
  },
  {
   "cell_type": "markdown",
   "id": "244323cd",
   "metadata": {
    "papermill": {
     "duration": 0.060497,
     "end_time": "2025-01-05T21:26:59.196769",
     "exception": false,
     "start_time": "2025-01-05T21:26:59.136272",
     "status": "completed"
    },
    "tags": []
   },
   "source": [
    "# Testing"
   ]
  },
  {
   "cell_type": "markdown",
   "id": "0502d529",
   "metadata": {
    "papermill": {
     "duration": 0.06045,
     "end_time": "2025-01-05T21:26:59.319260",
     "exception": false,
     "start_time": "2025-01-05T21:26:59.258810",
     "status": "completed"
    },
    "tags": []
   },
   "source": [
    "Create the recommendations for the submission. "
   ]
  },
  {
   "cell_type": "code",
   "execution_count": 17,
   "id": "b3e86203",
   "metadata": {
    "execution": {
     "iopub.execute_input": "2025-01-05T21:26:59.441440Z",
     "iopub.status.busy": "2025-01-05T21:26:59.441044Z",
     "iopub.status.idle": "2025-01-05T21:27:21.291975Z",
     "shell.execute_reply": "2025-01-05T21:27:21.289830Z"
    },
    "papermill": {
     "duration": 21.915674,
     "end_time": "2025-01-05T21:27:21.295040",
     "exception": false,
     "start_time": "2025-01-05T21:26:59.379366",
     "status": "completed"
    },
    "tags": []
   },
   "outputs": [
    {
     "name": "stdout",
     "output_type": "stream",
     "text": [
      "Submission file saved as /kaggle/working/submission_ItemKNNCF_MAP.csv\n"
     ]
    }
   ],
   "source": [
    "if config['tune_best_params']:\n",
    "\n",
    "    data_target_users_test = pd.read_csv('/kaggle/input/recommender-system-2024-challenge-polimi/data_target_users_test.csv')\n",
    "    create_submission(data_target_users_test, recommender_instance, f'/kaggle/working/submission_{config[\"model\"]}_{config[\"metric\"]}.csv')"
   ]
  },
  {
   "cell_type": "markdown",
   "id": "5ae7923f",
   "metadata": {
    "execution": {
     "iopub.execute_input": "2024-11-14T00:04:16.877791Z",
     "iopub.status.busy": "2024-11-14T00:04:16.877275Z",
     "iopub.status.idle": "2024-11-14T00:04:16.883170Z",
     "shell.execute_reply": "2024-11-14T00:04:16.881889Z",
     "shell.execute_reply.started": "2024-11-14T00:04:16.877743Z"
    },
    "papermill": {
     "duration": 0.067006,
     "end_time": "2025-01-05T21:27:21.463935",
     "exception": false,
     "start_time": "2025-01-05T21:27:21.396929",
     "status": "completed"
    },
    "tags": []
   },
   "source": [
    "# Save Version on GitHub "
   ]
  },
  {
   "cell_type": "markdown",
   "id": "81211194",
   "metadata": {
    "papermill": {
     "duration": 0.064956,
     "end_time": "2025-01-05T21:27:21.615783",
     "exception": false,
     "start_time": "2025-01-05T21:27:21.550827",
     "status": "completed"
    },
    "tags": []
   },
   "source": [
    "Write or import a json file where best hyperparameters are saved. "
   ]
  },
  {
   "cell_type": "code",
   "execution_count": 18,
   "id": "0133e0dc",
   "metadata": {
    "execution": {
     "iopub.execute_input": "2025-01-05T21:27:21.763182Z",
     "iopub.status.busy": "2025-01-05T21:27:21.762731Z",
     "iopub.status.idle": "2025-01-05T21:27:22.646234Z",
     "shell.execute_reply": "2025-01-05T21:27:22.644735Z"
    },
    "papermill": {
     "duration": 0.956385,
     "end_time": "2025-01-05T21:27:22.648251",
     "exception": false,
     "start_time": "2025-01-05T21:27:21.691866",
     "status": "completed"
    },
    "tags": []
   },
   "outputs": [
    {
     "name": "stdout",
     "output_type": "stream",
     "text": [
      "File 'TrainedModels/WithKFCV/KNN/ItemKNNCFRecommender/OptimizingMAP/best_params_ItemKNNCF_MAP.json' updated successfully.\n"
     ]
    }
   ],
   "source": [
    "if config['tune_parameters']:\n",
    "    with open(f'/kaggle/working/best_params_{config[\"model\"]}_{config[\"metric\"]}.json', 'w') as params_file:\n",
    "        json.dump(optuna_study.best_params, params_file)\n",
    "        \n",
    "    if config['save_github']:\n",
    "        upload_file(\n",
    "            f'/kaggle/working/best_params_{config[\"model\"]}_{config[\"metric\"]}.json', \n",
    "            f'{GH_PATH}/{config[\"model\"]}Recommender/Optimizing{config[\"metric\"]}/best_params_{config[\"model\"]}_{config[\"metric\"]}.json', \n",
    "            f'{config[\"model\"]}_{config[\"metric\"]} tuning results (from kaggle notebook)',\n",
    "            repo\n",
    "        )\n",
    "elif config['copy_prev_best_params']:\n",
    "    shutil.copyfile(\n",
    "        f'{K_PATH}/{GH_PATH}/{config[\"model\"]}Recommender/Optimizing{config[\"metric\"]}/'\\\n",
    "        f'best_params_{config[\"model\"]}_{config[\"metric\"]}.json', \n",
    "        f'/kaggle/working/best_params_{config[\"model\"]}_{config[\"metric\"]}.json'\n",
    "    )"
   ]
  },
  {
   "cell_type": "markdown",
   "id": "902e843b",
   "metadata": {
    "papermill": {
     "duration": 0.062185,
     "end_time": "2025-01-05T21:27:22.774437",
     "exception": false,
     "start_time": "2025-01-05T21:27:22.712252",
     "status": "completed"
    },
    "tags": []
   },
   "source": [
    "Save the history of the tuned model."
   ]
  },
  {
   "cell_type": "code",
   "execution_count": 19,
   "id": "d7b23fe7",
   "metadata": {
    "execution": {
     "iopub.execute_input": "2025-01-05T21:27:22.902130Z",
     "iopub.status.busy": "2025-01-05T21:27:22.901782Z",
     "iopub.status.idle": "2025-01-05T21:27:24.259124Z",
     "shell.execute_reply": "2025-01-05T21:27:24.257704Z"
    },
    "papermill": {
     "duration": 1.424951,
     "end_time": "2025-01-05T21:27:24.261188",
     "exception": false,
     "start_time": "2025-01-05T21:27:22.836237",
     "status": "completed"
    },
    "tags": []
   },
   "outputs": [
    {
     "name": "stdout",
     "output_type": "stream",
     "text": [
      "File 'TrainedModels/WithKFCV/KNN/ItemKNNCFRecommender/OptimizingMAP/history_ItemKNNCF_MAP.db' updated successfully.\n"
     ]
    }
   ],
   "source": [
    "if config['save_github'] and config['tune_parameters']:\n",
    "    upload_file(\n",
    "        config['database_path'], \n",
    "        f'{GH_PATH}/{config[\"model\"]}Recommender/Optimizing{config[\"metric\"]}/history_{config[\"model\"]}_{config[\"metric\"]}.db',\n",
    "        f'Tuning {config[\"model\"]}_{config[\"metric\"]} db updated results (from kaggle notebook)',\n",
    "        repo\n",
    "    )"
   ]
  },
  {
   "cell_type": "markdown",
   "id": "7151dd5e",
   "metadata": {
    "execution": {
     "iopub.execute_input": "2024-11-14T00:41:34.294243Z",
     "iopub.status.busy": "2024-11-14T00:41:34.293739Z",
     "iopub.status.idle": "2024-11-14T00:41:34.301478Z",
     "shell.execute_reply": "2024-11-14T00:41:34.299869Z",
     "shell.execute_reply.started": "2024-11-14T00:41:34.294186Z"
    },
    "papermill": {
     "duration": 0.062136,
     "end_time": "2025-01-05T21:27:24.386437",
     "exception": false,
     "start_time": "2025-01-05T21:27:24.324301",
     "status": "completed"
    },
    "tags": []
   },
   "source": [
    "Save the best trained model and its submission."
   ]
  },
  {
   "cell_type": "code",
   "execution_count": 20,
   "id": "83777011",
   "metadata": {
    "execution": {
     "iopub.execute_input": "2025-01-05T21:27:24.512587Z",
     "iopub.status.busy": "2025-01-05T21:27:24.512157Z",
     "iopub.status.idle": "2025-01-05T21:27:26.098629Z",
     "shell.execute_reply": "2025-01-05T21:27:26.096894Z"
    },
    "papermill": {
     "duration": 1.652126,
     "end_time": "2025-01-05T21:27:26.100691",
     "exception": false,
     "start_time": "2025-01-05T21:27:24.448565",
     "status": "completed"
    },
    "tags": []
   },
   "outputs": [
    {
     "name": "stdout",
     "output_type": "stream",
     "text": [
      "File 'TrainedModels/WithKFCV/KNN/ItemKNNCFRecommender/OptimizingMAP/Submission/submission_ItemKNNCF_MAP.csv' updated successfully.\n"
     ]
    }
   ],
   "source": [
    "if config['save_github'] and config['tune_best_params']: \n",
    "    upload_file(\n",
    "                f'/kaggle/working/submission_{config[\"model\"]}_{config[\"metric\"]}.csv', \n",
    "                f'{GH_PATH}/{config[\"model\"]}Recommender/Optimizing{config[\"metric\"]}/Submission/submission_{config[\"model\"]}_{config[\"metric\"]}.csv', \n",
    "                f'New {config[\"model\"]}_{config[\"metric\"]} submission (from kaggle notebook)',\n",
    "                repo\n",
    "            )"
   ]
  }
 ],
 "metadata": {
  "kaggle": {
   "accelerator": "none",
   "dataSources": [
    {
     "databundleVersionId": 9982103,
     "sourceId": 87439,
     "sourceType": "competition"
    }
   ],
   "dockerImageVersionId": 30822,
   "isGpuEnabled": false,
   "isInternetEnabled": true,
   "language": "python",
   "sourceType": "notebook"
  },
  "kernelspec": {
   "display_name": "Python 3",
   "language": "python",
   "name": "python3"
  },
  "language_info": {
   "codemirror_mode": {
    "name": "ipython",
    "version": 3
   },
   "file_extension": ".py",
   "mimetype": "text/x-python",
   "name": "python",
   "nbconvert_exporter": "python",
   "pygments_lexer": "ipython3",
   "version": "3.10.12"
  },
  "papermill": {
   "default_parameters": {},
   "duration": 13295.30527,
   "end_time": "2025-01-05T21:27:27.899856",
   "environment_variables": {},
   "exception": null,
   "input_path": "__notebook__.ipynb",
   "output_path": "__notebook__.ipynb",
   "parameters": {},
   "start_time": "2025-01-05T17:45:52.594586",
   "version": "2.6.0"
  }
 },
 "nbformat": 4,
 "nbformat_minor": 5
}
