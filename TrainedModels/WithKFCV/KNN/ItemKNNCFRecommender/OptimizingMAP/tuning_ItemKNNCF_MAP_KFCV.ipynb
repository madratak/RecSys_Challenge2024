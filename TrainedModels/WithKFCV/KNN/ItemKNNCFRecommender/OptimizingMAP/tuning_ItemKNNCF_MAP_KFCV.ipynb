{
 "cells": [
  {
   "cell_type": "markdown",
   "id": "edda7468",
   "metadata": {
    "papermill": {
     "duration": 0.005935,
     "end_time": "2025-01-05T21:30:39.685139",
     "exception": false,
     "start_time": "2025-01-05T21:30:39.679204",
     "status": "completed"
    },
    "tags": []
   },
   "source": [
    "# Set connection with GitHub"
   ]
  },
  {
   "cell_type": "code",
   "execution_count": 1,
   "id": "3fe4e477",
   "metadata": {
    "execution": {
     "iopub.execute_input": "2025-01-05T21:30:39.697999Z",
     "iopub.status.busy": "2025-01-05T21:30:39.697601Z",
     "iopub.status.idle": "2025-01-05T21:30:39.703458Z",
     "shell.execute_reply": "2025-01-05T21:30:39.702438Z"
    },
    "papermill": {
     "duration": 0.014583,
     "end_time": "2025-01-05T21:30:39.705291",
     "exception": false,
     "start_time": "2025-01-05T21:30:39.690708",
     "status": "completed"
    },
    "tags": []
   },
   "outputs": [],
   "source": [
    "# ! cd /kaggle/working && rm -rf RECsys_Challenge2024"
   ]
  },
  {
   "cell_type": "code",
   "execution_count": 2,
   "id": "24c3fff0",
   "metadata": {
    "_cell_guid": "b1076dfc-b9ad-4769-8c92-a6c4dae69d19",
    "_uuid": "8f2839f25d086af736a60e9eeb907d3b93b6e0e5",
    "execution": {
     "iopub.execute_input": "2025-01-05T21:30:39.717461Z",
     "iopub.status.busy": "2025-01-05T21:30:39.717109Z",
     "iopub.status.idle": "2025-01-05T21:30:57.119800Z",
     "shell.execute_reply": "2025-01-05T21:30:57.118477Z"
    },
    "papermill": {
     "duration": 17.410965,
     "end_time": "2025-01-05T21:30:57.121766",
     "exception": false,
     "start_time": "2025-01-05T21:30:39.710801",
     "status": "completed"
    },
    "tags": []
   },
   "outputs": [
    {
     "name": "stdout",
     "output_type": "stream",
     "text": [
      "Cloning into 'RECsys_Challenge2024'...\r\n",
      "remote: Enumerating objects: 6572, done.\u001b[K\r\n",
      "remote: Counting objects: 100% (122/122), done.\u001b[K\r\n",
      "remote: Compressing objects: 100% (110/110), done.\u001b[K\r\n",
      "remote: Total 6572 (delta 43), reused 0 (delta 0), pack-reused 6450 (from 2)\u001b[K\r\n",
      "Receiving objects: 100% (6572/6572), 406.90 MiB | 33.65 MiB/s, done.\r\n",
      "Resolving deltas: 100% (3618/3618), done.\r\n",
      "Updating files: 100% (502/502), done.\r\n"
     ]
    }
   ],
   "source": [
    "from kaggle_secrets import UserSecretsClient\n",
    "\n",
    "token = UserSecretsClient().get_secret(\"Token\")\n",
    "\n",
    "! git clone https://{token}@github.com/madratak/RECsys_Challenge2024.git"
   ]
  },
  {
   "cell_type": "code",
   "execution_count": 3,
   "id": "7bbadbf7",
   "metadata": {
    "execution": {
     "iopub.execute_input": "2025-01-05T21:30:57.145839Z",
     "iopub.status.busy": "2025-01-05T21:30:57.145415Z",
     "iopub.status.idle": "2025-01-05T21:31:04.094918Z",
     "shell.execute_reply": "2025-01-05T21:31:04.093508Z"
    },
    "papermill": {
     "duration": 6.963995,
     "end_time": "2025-01-05T21:31:04.097313",
     "exception": false,
     "start_time": "2025-01-05T21:30:57.133318",
     "status": "completed"
    },
    "tags": []
   },
   "outputs": [
    {
     "name": "stdout",
     "output_type": "stream",
     "text": [
      "Collecting PyGithub\r\n",
      "  Downloading PyGithub-2.5.0-py3-none-any.whl.metadata (3.9 kB)\r\n",
      "Requirement already satisfied: requests in /usr/local/lib/python3.10/dist-packages (2.32.3)\r\n",
      "Collecting pynacl>=1.4.0 (from PyGithub)\r\n",
      "  Downloading PyNaCl-1.5.0-cp36-abi3-manylinux_2_17_x86_64.manylinux2014_x86_64.manylinux_2_24_x86_64.whl.metadata (8.6 kB)\r\n",
      "Requirement already satisfied: pyjwt>=2.4.0 in /usr/local/lib/python3.10/dist-packages (from pyjwt[crypto]>=2.4.0->PyGithub) (2.9.0)\r\n",
      "Requirement already satisfied: typing-extensions>=4.0.0 in /usr/local/lib/python3.10/dist-packages (from PyGithub) (4.12.2)\r\n",
      "Requirement already satisfied: urllib3>=1.26.0 in /usr/local/lib/python3.10/dist-packages (from PyGithub) (2.2.3)\r\n",
      "Requirement already satisfied: Deprecated in /usr/local/lib/python3.10/dist-packages (from PyGithub) (1.2.15)\r\n",
      "Requirement already satisfied: charset-normalizer<4,>=2 in /usr/local/lib/python3.10/dist-packages (from requests) (3.3.2)\r\n",
      "Requirement already satisfied: idna<4,>=2.5 in /usr/local/lib/python3.10/dist-packages (from requests) (3.10)\r\n",
      "Requirement already satisfied: certifi>=2017.4.17 in /usr/local/lib/python3.10/dist-packages (from requests) (2024.8.30)\r\n",
      "Requirement already satisfied: cryptography>=3.4.0 in /usr/local/lib/python3.10/dist-packages (from pyjwt[crypto]>=2.4.0->PyGithub) (43.0.1)\r\n",
      "Requirement already satisfied: cffi>=1.4.1 in /usr/local/lib/python3.10/dist-packages (from pynacl>=1.4.0->PyGithub) (1.17.1)\r\n",
      "Requirement already satisfied: wrapt<2,>=1.10 in /usr/local/lib/python3.10/dist-packages (from Deprecated->PyGithub) (1.16.0)\r\n",
      "Requirement already satisfied: pycparser in /usr/local/lib/python3.10/dist-packages (from cffi>=1.4.1->pynacl>=1.4.0->PyGithub) (2.22)\r\n",
      "Downloading PyGithub-2.5.0-py3-none-any.whl (375 kB)\r\n",
      "\u001b[2K   \u001b[90m━━━━━━━━━━━━━━━━━━━━━━━━━━━━━━━━━━━━━━━━\u001b[0m \u001b[32m375.9/375.9 kB\u001b[0m \u001b[31m10.2 MB/s\u001b[0m eta \u001b[36m0:00:00\u001b[0m\r\n",
      "\u001b[?25hDownloading PyNaCl-1.5.0-cp36-abi3-manylinux_2_17_x86_64.manylinux2014_x86_64.manylinux_2_24_x86_64.whl (856 kB)\r\n",
      "\u001b[2K   \u001b[90m━━━━━━━━━━━━━━━━━━━━━━━━━━━━━━━━━━━━━━━━\u001b[0m \u001b[32m856.7/856.7 kB\u001b[0m \u001b[31m29.1 MB/s\u001b[0m eta \u001b[36m0:00:00\u001b[0m\r\n",
      "\u001b[?25hInstalling collected packages: pynacl, PyGithub\r\n",
      "Successfully installed PyGithub-2.5.0 pynacl-1.5.0\r\n"
     ]
    }
   ],
   "source": [
    "! pip install PyGithub requests"
   ]
  },
  {
   "cell_type": "code",
   "execution_count": 4,
   "id": "2daf110d",
   "metadata": {
    "_kg_hide-input": false,
    "execution": {
     "iopub.execute_input": "2025-01-05T21:31:04.124725Z",
     "iopub.status.busy": "2025-01-05T21:31:04.124308Z",
     "iopub.status.idle": "2025-01-05T21:34:03.665036Z",
     "shell.execute_reply": "2025-01-05T21:34:03.663449Z"
    },
    "papermill": {
     "duration": 179.556736,
     "end_time": "2025-01-05T21:34:03.667262",
     "exception": false,
     "start_time": "2025-01-05T21:31:04.110526",
     "status": "completed"
    },
    "tags": []
   },
   "outputs": [
    {
     "name": "stdout",
     "output_type": "stream",
     "text": [
      "/kaggle/working/RECsys_Challenge2024\n",
      "run_compile_all_cython: Found 11 Cython files in 5 folders...\r\n",
      "run_compile_all_cython: All files will be compiled using your current python environment: '/usr/bin/python3'\r\n",
      "Compiling [1/11]: MatrixFactorization_Cython_Epoch.pyx... \r\n",
      "In file included from \u001b[01m\u001b[K/usr/local/lib/python3.10/dist-packages/numpy/core/include/numpy/ndarraytypes.h:1929\u001b[m\u001b[K,\r\n",
      "                 from \u001b[01m\u001b[K/usr/local/lib/python3.10/dist-packages/numpy/core/include/numpy/ndarrayobject.h:12\u001b[m\u001b[K,\r\n",
      "                 from \u001b[01m\u001b[K/usr/local/lib/python3.10/dist-packages/numpy/core/include/numpy/arrayobject.h:5\u001b[m\u001b[K,\r\n",
      "                 from \u001b[01m\u001b[KMatrixFactorization_Cython_Epoch.c:1252\u001b[m\u001b[K:\r\n",
      "\u001b[01m\u001b[K/usr/local/lib/python3.10/dist-packages/numpy/core/include/numpy/npy_1_7_deprecated_api.h:17:2:\u001b[m\u001b[K \u001b[01;35m\u001b[Kwarning: \u001b[m\u001b[K#warning \"Using deprecated NumPy API, disable it with \" \"#define NPY_NO_DEPRECATED_API NPY_1_7_API_VERSION\" [\u001b[01;35m\u001b[K\u001b]8;;https://gcc.gnu.org/onlinedocs/gcc/Warning-Options.html#index-Wcpp\u0007-Wcpp\u001b]8;;\u0007\u001b[m\u001b[K]\r\n",
      "   17 | #\u001b[01;35m\u001b[Kwarning\u001b[m\u001b[K \"Using deprecated NumPy API, disable it with \" \\\r\n",
      "      |  \u001b[01;35m\u001b[K^~~~~~~\u001b[m\u001b[K\r\n",
      "\u001b[01m\u001b[KMatrixFactorization_Cython_Epoch.c:\u001b[m\u001b[K In function ‘\u001b[01m\u001b[K__pyx_pf_32MatrixFactorization_Cython_Epoch_32MatrixFactorization_Cython_Epoch_10epochIteration_Cython_ASY_SVD_SGD\u001b[m\u001b[K’:\r\n",
      "\u001b[01m\u001b[KMatrixFactorization_Cython_Epoch.c:26256:68:\u001b[m\u001b[K \u001b[01;35m\u001b[Kwarning: \u001b[m\u001b[K‘\u001b[01m\u001b[K__pyx_v_end_pos_seen_items\u001b[m\u001b[K’ may be used uninitialized in this function [\u001b[01;35m\u001b[K\u001b]8;;https://gcc.gnu.org/onlinedocs/gcc/Warning-Options.html#index-Wmaybe-uninitialized\u0007-Wmaybe-uninitialized\u001b]8;;\u0007\u001b[m\u001b[K]\r\n",
      "26256 |         for (__pyx_t_22 = __pyx_v_start_pos_seen_items; \u001b[01;35m\u001b[K__pyx_t_22 < __pyx_t_21\u001b[m\u001b[K; __pyx_t_22+=1) {\r\n",
      "      |                                                         \u001b[01;35m\u001b[K~~~~~~~~~~~^~~~~~~~~~~~\u001b[m\u001b[K\r\n",
      "\u001b[01m\u001b[KMatrixFactorization_Cython_Epoch.c:26256:68:\u001b[m\u001b[K \u001b[01;35m\u001b[Kwarning: \u001b[m\u001b[K‘\u001b[01m\u001b[K__pyx_v_start_pos_seen_items\u001b[m\u001b[K’ may be used uninitialized in this function [\u001b[01;35m\u001b[K\u001b]8;;https://gcc.gnu.org/onlinedocs/gcc/Warning-Options.html#index-Wmaybe-uninitialized\u0007-Wmaybe-uninitialized\u001b]8;;\u0007\u001b[m\u001b[K]\r\n",
      "/usr/local/lib/python3.10/dist-packages/Cython/Compiler/Main.py:381: FutureWarning: Cython directive 'language_level' not set, using '3str' for now (Py3). This has changed from earlier releases! File: /kaggle/working/RECsys_Challenge2024/Recommenders/MatrixFactorization/Cython/MatrixFactorization_Cython_Epoch.pyx\r\n",
      "  tree = Parsing.p_module(s, pxd, full_module_name)\r\n",
      "Compiling [1/11]: MatrixFactorization_Cython_Epoch.pyx... PASS\r\n",
      "\r\n",
      "Compiling [2/11]: MatrixFactorizationImpressions_Cython_Epoch.pyx... \r\n",
      "In file included from \u001b[01m\u001b[K/usr/local/lib/python3.10/dist-packages/numpy/core/include/numpy/ndarraytypes.h:1929\u001b[m\u001b[K,\r\n",
      "                 from \u001b[01m\u001b[K/usr/local/lib/python3.10/dist-packages/numpy/core/include/numpy/ndarrayobject.h:12\u001b[m\u001b[K,\r\n",
      "                 from \u001b[01m\u001b[K/usr/local/lib/python3.10/dist-packages/numpy/core/include/numpy/arrayobject.h:5\u001b[m\u001b[K,\r\n",
      "                 from \u001b[01m\u001b[KMatrixFactorizationImpressions_Cython_Epoch.c:1252\u001b[m\u001b[K:\r\n",
      "\u001b[01m\u001b[K/usr/local/lib/python3.10/dist-packages/numpy/core/include/numpy/npy_1_7_deprecated_api.h:17:2:\u001b[m\u001b[K \u001b[01;35m\u001b[Kwarning: \u001b[m\u001b[K#warning \"Using deprecated NumPy API, disable it with \" \"#define NPY_NO_DEPRECATED_API NPY_1_7_API_VERSION\" [\u001b[01;35m\u001b[K\u001b]8;;https://gcc.gnu.org/onlinedocs/gcc/Warning-Options.html#index-Wcpp\u0007-Wcpp\u001b]8;;\u0007\u001b[m\u001b[K]\r\n",
      "   17 | #\u001b[01;35m\u001b[Kwarning\u001b[m\u001b[K \"Using deprecated NumPy API, disable it with \" \\\r\n",
      "      |  \u001b[01;35m\u001b[K^~~~~~~\u001b[m\u001b[K\r\n",
      "\u001b[01m\u001b[KMatrixFactorizationImpressions_Cython_Epoch.c:\u001b[m\u001b[K In function ‘\u001b[01m\u001b[K__pyx_f_43MatrixFactorizationImpressions_Cython_Epoch_32MatrixFactorization_Cython_Epoch_sampleBPR_Cython\u001b[m\u001b[K’:\r\n",
      "\u001b[01m\u001b[KMatrixFactorizationImpressions_Cython_Epoch.c:30353:17:\u001b[m\u001b[K \u001b[01;35m\u001b[Kwarning: \u001b[m\u001b[K‘\u001b[01m\u001b[K__pyx_v_start_pos_impression_items\u001b[m\u001b[K’ may be used uninitialized in this function [\u001b[01;35m\u001b[K\u001b]8;;https://gcc.gnu.org/onlinedocs/gcc/Warning-Options.html#index-Wmaybe-uninitialized\u0007-Wmaybe-uninitialized\u001b]8;;\u0007\u001b[m\u001b[K]\r\n",
      "30353 |       \u001b[01;35m\u001b[K__pyx_t_4 = (__pyx_v_start_pos_impression_items + __pyx_v_index)\u001b[m\u001b[K;\r\n",
      "      |       \u001b[01;35m\u001b[K~~~~~~~~~~^~~~~~~~~~~~~~~~~~~~~~~~~~~~~~~~~~~~~~~~~~~~~~~~~~~~~~\u001b[m\u001b[K\r\n",
      "\u001b[01m\u001b[KMatrixFactorizationImpressions_Cython_Epoch.c:\u001b[m\u001b[K In function ‘\u001b[01m\u001b[K__pyx_pf_43MatrixFactorizationImpressions_Cython_Epoch_32MatrixFactorization_Cython_Epoch_10epochIteration_Cython_ASY_SVD_SGD\u001b[m\u001b[K’:\r\n",
      "\u001b[01m\u001b[KMatrixFactorizationImpressions_Cython_Epoch.c:26112:66:\u001b[m\u001b[K \u001b[01;35m\u001b[Kwarning: \u001b[m\u001b[K‘\u001b[01m\u001b[K__pyx_v_end_pos_seen_items\u001b[m\u001b[K’ may be used uninitialized in this function [\u001b[01;35m\u001b[K\u001b]8;;https://gcc.gnu.org/onlinedocs/gcc/Warning-Options.html#index-Wmaybe-uninitialized\u0007-Wmaybe-uninitialized\u001b]8;;\u0007\u001b[m\u001b[K]\r\n",
      "26112 |       for (__pyx_t_22 = __pyx_v_start_pos_seen_items; \u001b[01;35m\u001b[K__pyx_t_22 < __pyx_t_21\u001b[m\u001b[K; __pyx_t_22+=1) {\r\n",
      "      |                                                       \u001b[01;35m\u001b[K~~~~~~~~~~~^~~~~~~~~~~~\u001b[m\u001b[K\r\n",
      "\u001b[01m\u001b[KMatrixFactorizationImpressions_Cython_Epoch.c:26112:66:\u001b[m\u001b[K \u001b[01;35m\u001b[Kwarning: \u001b[m\u001b[K‘\u001b[01m\u001b[K__pyx_v_start_pos_seen_items\u001b[m\u001b[K’ may be used uninitialized in this function [\u001b[01;35m\u001b[K\u001b]8;;https://gcc.gnu.org/onlinedocs/gcc/Warning-Options.html#index-Wmaybe-uninitialized\u0007-Wmaybe-uninitialized\u001b]8;;\u0007\u001b[m\u001b[K]\r\n",
      "/usr/local/lib/python3.10/dist-packages/Cython/Compiler/Main.py:381: FutureWarning: Cython directive 'language_level' not set, using '3str' for now (Py3). This has changed from earlier releases! File: /kaggle/working/RECsys_Challenge2024/Recommenders/MatrixFactorization/Cython/MatrixFactorizationImpressions_Cython_Epoch.pyx\r\n",
      "  tree = Parsing.p_module(s, pxd, full_module_name)\r\n",
      "Compiling [2/11]: MatrixFactorizationImpressions_Cython_Epoch.pyx... PASS\r\n",
      "\r\n",
      "Compiling [3/11]: Compute_Similarity_Cython.pyx... \r\n",
      "warning: Compute_Similarity_Cython.pyx:21:0: The 'IF' statement is deprecated and will be removed in a future Cython version. Consider using runtime conditions or C macros instead. See https://github.com/cython/cython/issues/4310\r\n",
      "In file included from \u001b[01m\u001b[K/usr/local/lib/python3.10/dist-packages/numpy/core/include/numpy/ndarraytypes.h:1929\u001b[m\u001b[K,\r\n",
      "                 from \u001b[01m\u001b[K/usr/local/lib/python3.10/dist-packages/numpy/core/include/numpy/ndarrayobject.h:12\u001b[m\u001b[K,\r\n",
      "                 from \u001b[01m\u001b[K/usr/local/lib/python3.10/dist-packages/numpy/core/include/numpy/arrayobject.h:5\u001b[m\u001b[K,\r\n",
      "                 from \u001b[01m\u001b[KCompute_Similarity_Cython.c:1252\u001b[m\u001b[K:\r\n",
      "\u001b[01m\u001b[K/usr/local/lib/python3.10/dist-packages/numpy/core/include/numpy/npy_1_7_deprecated_api.h:17:2:\u001b[m\u001b[K \u001b[01;35m\u001b[Kwarning: \u001b[m\u001b[K#warning \"Using deprecated NumPy API, disable it with \" \"#define NPY_NO_DEPRECATED_API NPY_1_7_API_VERSION\" [\u001b[01;35m\u001b[K\u001b]8;;https://gcc.gnu.org/onlinedocs/gcc/Warning-Options.html#index-Wcpp\u0007-Wcpp\u001b]8;;\u0007\u001b[m\u001b[K]\r\n",
      "   17 | #\u001b[01;35m\u001b[Kwarning\u001b[m\u001b[K \"Using deprecated NumPy API, disable it with \" \\\r\n",
      "      |  \u001b[01;35m\u001b[K^~~~~~~\u001b[m\u001b[K\r\n",
      "/usr/local/lib/python3.10/dist-packages/Cython/Compiler/Main.py:381: FutureWarning: Cython directive 'language_level' not set, using '3str' for now (Py3). This has changed from earlier releases! File: /kaggle/working/RECsys_Challenge2024/Recommenders/Similarity/Cython/Compute_Similarity_Cython.pyx\r\n",
      "  tree = Parsing.p_module(s, pxd, full_module_name)\r\n",
      "warning: Compute_Similarity_Cython.pyx:21:0: The 'IF' statement is deprecated and will be removed in a future Cython version. Consider using runtime conditions or C macros instead. See https://github.com/cython/cython/issues/4310\r\n",
      "Compiling [3/11]: Compute_Similarity_Cython.pyx... PASS\r\n",
      "\r\n",
      "Compiling [4/11]: Triangular_Matrix.pyx... \r\n",
      "warning: Triangular_Matrix.pyx:22:0: The 'IF' statement is deprecated and will be removed in a future Cython version. Consider using runtime conditions or C macros instead. See https://github.com/cython/cython/issues/4310\r\n",
      "In file included from \u001b[01m\u001b[K/usr/local/lib/python3.10/dist-packages/numpy/core/include/numpy/ndarraytypes.h:1929\u001b[m\u001b[K,\r\n",
      "                 from \u001b[01m\u001b[K/usr/local/lib/python3.10/dist-packages/numpy/core/include/numpy/ndarrayobject.h:12\u001b[m\u001b[K,\r\n",
      "                 from \u001b[01m\u001b[K/usr/local/lib/python3.10/dist-packages/numpy/core/include/numpy/arrayobject.h:5\u001b[m\u001b[K,\r\n",
      "                 from \u001b[01m\u001b[KTriangular_Matrix.c:1252\u001b[m\u001b[K:\r\n",
      "\u001b[01m\u001b[K/usr/local/lib/python3.10/dist-packages/numpy/core/include/numpy/npy_1_7_deprecated_api.h:17:2:\u001b[m\u001b[K \u001b[01;35m\u001b[Kwarning: \u001b[m\u001b[K#warning \"Using deprecated NumPy API, disable it with \" \"#define NPY_NO_DEPRECATED_API NPY_1_7_API_VERSION\" [\u001b[01;35m\u001b[K\u001b]8;;https://gcc.gnu.org/onlinedocs/gcc/Warning-Options.html#index-Wcpp\u0007-Wcpp\u001b]8;;\u0007\u001b[m\u001b[K]\r\n",
      "   17 | #\u001b[01;35m\u001b[Kwarning\u001b[m\u001b[K \"Using deprecated NumPy API, disable it with \" \\\r\n",
      "      |  \u001b[01;35m\u001b[K^~~~~~~\u001b[m\u001b[K\r\n",
      "In function ‘\u001b[01m\u001b[K__pyx_pf_17Triangular_Matrix_17Triangular_Matrix___init__\u001b[m\u001b[K’,\r\n",
      "    inlined from ‘\u001b[01m\u001b[K__pyx_pw_17Triangular_Matrix_17Triangular_Matrix_1__init__\u001b[m\u001b[K’ at \u001b[01m\u001b[KTriangular_Matrix.c:5541:13\u001b[m\u001b[K:\r\n",
      "\u001b[01m\u001b[KTriangular_Matrix.c:5599:43:\u001b[m\u001b[K \u001b[01;35m\u001b[Kwarning: \u001b[m\u001b[Kargument 1 value ‘\u001b[01m\u001b[K18446744073709551608\u001b[m\u001b[K’ exceeds maximum object size 9223372036854775807 [\u001b[01;35m\u001b[K\u001b]8;;https://gcc.gnu.org/onlinedocs/gcc/Warning-Options.html#index-Walloc-size-larger-than=\u0007-Walloc-size-larger-than=\u001b]8;;\u0007\u001b[m\u001b[K]\r\n",
      " 5599 |   __pyx_v_self->row_pointer = ((double **)\u001b[01;35m\u001b[Kmalloc((__pyx_v_self->num_rows * (sizeof(double *))))\u001b[m\u001b[K);\r\n",
      "      |                                           \u001b[01;35m\u001b[K^~~~~~~~~~~~~~~~~~~~~~~~~~~~~~~~~~~~~~~~~~~~~~~~~~~~~\u001b[m\u001b[K\r\n",
      "In file included from \u001b[01m\u001b[K/usr/include/python3.10/Python.h:34\u001b[m\u001b[K,\r\n",
      "                 from \u001b[01m\u001b[KTriangular_Matrix.c:41\u001b[m\u001b[K:\r\n",
      "\u001b[01m\u001b[KTriangular_Matrix.c:\u001b[m\u001b[K In function ‘\u001b[01m\u001b[K__pyx_pw_17Triangular_Matrix_17Triangular_Matrix_1__init__\u001b[m\u001b[K’:\r\n",
      "\u001b[01m\u001b[K/usr/include/stdlib.h:540:14:\u001b[m\u001b[K \u001b[01;36m\u001b[Knote: \u001b[m\u001b[Kin a call to allocation function ‘\u001b[01m\u001b[Kmalloc\u001b[m\u001b[K’ declared here\r\n",
      "  540 | extern void *\u001b[01;36m\u001b[Kmalloc\u001b[m\u001b[K (size_t __size) __THROW __attribute_malloc__\r\n",
      "      |              \u001b[01;36m\u001b[K^~~~~~\u001b[m\u001b[K\r\n",
      "/usr/local/lib/python3.10/dist-packages/Cython/Compiler/Main.py:381: FutureWarning: Cython directive 'language_level' not set, using '3str' for now (Py3). This has changed from earlier releases! File: /kaggle/working/RECsys_Challenge2024/Recommenders/SLIM/Cython/Triangular_Matrix.pyx\r\n",
      "  tree = Parsing.p_module(s, pxd, full_module_name)\r\n",
      "warning: Triangular_Matrix.pyx:22:0: The 'IF' statement is deprecated and will be removed in a future Cython version. Consider using runtime conditions or C macros instead. See https://github.com/cython/cython/issues/4310\r\n",
      "Compiling [4/11]: Triangular_Matrix.pyx... PASS\r\n",
      "\r\n",
      "Compiling [5/11]: Sparse_Matrix_Tree_CSR.pyx... \r\n",
      "warning: Sparse_Matrix_Tree_CSR.pyx:132:34: Non-trivial type declarators in shared declaration (e.g. mix of pointers and values). Each pointer declaration should be on its own line.\r\n",
      "warning: Sparse_Matrix_Tree_CSR.pyx:132:66: Non-trivial type declarators in shared declaration (e.g. mix of pointers and values). Each pointer declaration should be on its own line.\r\n",
      "warning: Sparse_Matrix_Tree_CSR.pyx:343:35: Non-trivial type declarators in shared declaration (e.g. mix of pointers and values). Each pointer declaration should be on its own line.\r\n",
      "warning: Sparse_Matrix_Tree_CSR.pyx:343:52: Non-trivial type declarators in shared declaration (e.g. mix of pointers and values). Each pointer declaration should be on its own line.\r\n",
      "warning: Sparse_Matrix_Tree_CSR.pyx:442:35: Non-trivial type declarators in shared declaration (e.g. mix of pointers and values). Each pointer declaration should be on its own line.\r\n",
      "warning: Sparse_Matrix_Tree_CSR.pyx:442:53: Non-trivial type declarators in shared declaration (e.g. mix of pointers and values). Each pointer declaration should be on its own line.\r\n",
      "warning: Sparse_Matrix_Tree_CSR.pyx:442:69: Non-trivial type declarators in shared declaration (e.g. mix of pointers and values). Each pointer declaration should be on its own line.\r\n",
      "warning: Sparse_Matrix_Tree_CSR.pyx:577:35: Non-trivial type declarators in shared declaration (e.g. mix of pointers and values). Each pointer declaration should be on its own line.\r\n",
      "warning: Sparse_Matrix_Tree_CSR.pyx:577:42: Non-trivial type declarators in shared declaration (e.g. mix of pointers and values). Each pointer declaration should be on its own line.\r\n",
      "warning: Sparse_Matrix_Tree_CSR.pyx:578:35: Non-trivial type declarators in shared declaration (e.g. mix of pointers and values). Each pointer declaration should be on its own line.\r\n",
      "warning: Sparse_Matrix_Tree_CSR.pyx:578:53: Non-trivial type declarators in shared declaration (e.g. mix of pointers and values). Each pointer declaration should be on its own line.\r\n",
      "\r\n",
      "Error compiling Cython file:\r\n",
      "------------------------------------------------------------\r\n",
      "...\r\n",
      "            vector_pointer_to_list_elements[index].head = current_element\r\n",
      "            current_element = current_element.higher\r\n",
      "\r\n",
      "\r\n",
      "        # Sort array elements on their data field\r\n",
      "        qsort(vector_pointer_to_list_elements, list_length, sizeof(head_pointer_tree_s), compare_struct_on_data)\r\n",
      "                                                                                         ^\r\n",
      "------------------------------------------------------------\r\n",
      "\r\n",
      "Sparse_Matrix_Tree_CSR.pyx:516:89: Cannot assign type 'int (const void *, const void *) except? -1' to 'int (*)(const_void *, const_void *) noexcept'. Exception values are incompatible. Suggest adding 'noexcept' to the type of 'compare_struct_on_data'.\r\n",
      "\r\n",
      "Error compiling Cython file:\r\n",
      "------------------------------------------------------------\r\n",
      "...\r\n",
      "        # Sort array elements on their data field\r\n",
      "        qsort(vector_pointer_to_list_elements, list_length, sizeof(head_pointer_tree_s), compare_struct_on_data)\r\n",
      "\r\n",
      "        # Sort only the TopK according to their column field\r\n",
      "        # Sort is from lower to higher, therefore the elements to be considered are from len-topK to len\r\n",
      "        qsort(&vector_pointer_to_list_elements[list_length-TopK], TopK, sizeof(head_pointer_tree_s), compare_struct_on_column)\r\n",
      "                                                                                                     ^\r\n",
      "------------------------------------------------------------\r\n",
      "\r\n",
      "Sparse_Matrix_Tree_CSR.pyx:520:101: Cannot assign type 'int (const void *, const void *) except? -1' to 'int (*)(const_void *, const_void *) noexcept'. Exception values are incompatible. Suggest adding 'noexcept' to the type of 'compare_struct_on_column'.\r\n",
      "Traceback (most recent call last):\r\n",
      "  File \"/kaggle/working/RECsys_Challenge2024/CythonCompiler/compile_script.py\", line 48, in <module>\r\n",
      "    setup(\r\n",
      "  File \"/usr/local/lib/python3.10/dist-packages/setuptools/__init__.py\", line 108, in setup\r\n",
      "    return distutils.core.setup(**attrs)\r\n",
      "  File \"/usr/local/lib/python3.10/dist-packages/setuptools/_distutils/core.py\", line 184, in setup\r\n",
      "    return run_commands(dist)\r\n",
      "  File \"/usr/local/lib/python3.10/dist-packages/setuptools/_distutils/core.py\", line 200, in run_commands\r\n",
      "    dist.run_commands()\r\n",
      "  File \"/usr/local/lib/python3.10/dist-packages/setuptools/_distutils/dist.py\", line 970, in run_commands\r\n",
      "    self.run_command(cmd)\r\n",
      "  File \"/usr/local/lib/python3.10/dist-packages/setuptools/dist.py\", line 956, in run_command\r\n",
      "    super().run_command(command)\r\n",
      "  File \"/usr/local/lib/python3.10/dist-packages/setuptools/_distutils/dist.py\", line 989, in run_command\r\n",
      "    cmd_obj.run()\r\n",
      "  File \"/usr/local/lib/python3.10/dist-packages/setuptools/_distutils/command/build_ext.py\", line 359, in run\r\n",
      "    self.build_extensions()\r\n",
      "  File \"/usr/local/lib/python3.10/dist-packages/setuptools/_distutils/command/build_ext.py\", line 479, in build_extensions\r\n",
      "    self._build_extensions_serial()\r\n",
      "  File \"/usr/local/lib/python3.10/dist-packages/setuptools/_distutils/command/build_ext.py\", line 505, in _build_extensions_serial\r\n",
      "    self.build_extension(ext)\r\n",
      "  File \"/usr/local/lib/python3.10/dist-packages/Cython/Distutils/build_ext.py\", line 130, in build_extension\r\n",
      "    new_ext = cythonize(\r\n",
      "  File \"/usr/local/lib/python3.10/dist-packages/Cython/Build/Dependencies.py\", line 1154, in cythonize\r\n",
      "    cythonize_one(*args)\r\n",
      "  File \"/usr/local/lib/python3.10/dist-packages/Cython/Build/Dependencies.py\", line 1321, in cythonize_one\r\n",
      "    raise CompileError(None, pyx_file)\r\n",
      "Cython.Compiler.Errors.CompileError: Sparse_Matrix_Tree_CSR.pyx\r\n",
      "Traceback (most recent call last):\r\n",
      "  File \"/kaggle/working/RECsys_Challenge2024/run_compile_all_cython.py\", line 60, in <module>\r\n",
      "    run_compile_subprocess(file_path, [file_name])\r\n",
      "  File \"/kaggle/working/RECsys_Challenge2024/CythonCompiler/run_compile_subprocess.py\", line 51, in run_compile_subprocess\r\n",
      "    raise exc\r\n",
      "  File \"/kaggle/working/RECsys_Challenge2024/CythonCompiler/run_compile_subprocess.py\", line 32, in run_compile_subprocess\r\n",
      "    output = subprocess.check_output(' '.join(command),\r\n",
      "  File \"/usr/lib/python3.10/subprocess.py\", line 421, in check_output\r\n",
      "    return run(*popenargs, stdout=PIPE, timeout=timeout, check=True,\r\n",
      "  File \"/usr/lib/python3.10/subprocess.py\", line 526, in run\r\n",
      "    raise CalledProcessError(retcode, process.args,\r\n",
      "subprocess.CalledProcessError: Command '/usr/bin/python3 /kaggle/working/RECsys_Challenge2024/CythonCompiler/compile_script.py Sparse_Matrix_Tree_CSR.pyx build_ext --inplace' returned non-zero exit status 1.\r\n",
      "Compiling [5/11]: Sparse_Matrix_Tree_CSR.pyx... FAIL: Command '/usr/bin/python3 /kaggle/working/RECsys_Challenge2024/CythonCompiler/compile_script.py Sparse_Matrix_Tree_CSR.pyx build_ext --inplace' returned non-zero exit status 1.\r\n",
      "\r\n",
      "Compiling [6/11]: SLIM_BPR_Cython_Epoch.pyx... \r\n",
      "warning: SLIM_BPR_Cython_Epoch.pyx:24:0: The 'IF' statement is deprecated and will be removed in a future Cython version. Consider using runtime conditions or C macros instead. See https://github.com/cython/cython/issues/4310\r\n",
      "warning: SLIM_BPR_Cython_Epoch.pyx:632:34: Non-trivial type declarators in shared declaration (e.g. mix of pointers and values). Each pointer declaration should be on its own line.\r\n",
      "warning: SLIM_BPR_Cython_Epoch.pyx:632:66: Non-trivial type declarators in shared declaration (e.g. mix of pointers and values). Each pointer declaration should be on its own line.\r\n",
      "warning: SLIM_BPR_Cython_Epoch.pyx:817:35: Non-trivial type declarators in shared declaration (e.g. mix of pointers and values). Each pointer declaration should be on its own line.\r\n",
      "warning: SLIM_BPR_Cython_Epoch.pyx:817:52: Non-trivial type declarators in shared declaration (e.g. mix of pointers and values). Each pointer declaration should be on its own line.\r\n",
      "warning: SLIM_BPR_Cython_Epoch.pyx:916:35: Non-trivial type declarators in shared declaration (e.g. mix of pointers and values). Each pointer declaration should be on its own line.\r\n",
      "warning: SLIM_BPR_Cython_Epoch.pyx:916:53: Non-trivial type declarators in shared declaration (e.g. mix of pointers and values). Each pointer declaration should be on its own line.\r\n",
      "warning: SLIM_BPR_Cython_Epoch.pyx:916:69: Non-trivial type declarators in shared declaration (e.g. mix of pointers and values). Each pointer declaration should be on its own line.\r\n",
      "warning: SLIM_BPR_Cython_Epoch.pyx:1051:35: Non-trivial type declarators in shared declaration (e.g. mix of pointers and values). Each pointer declaration should be on its own line.\r\n",
      "warning: SLIM_BPR_Cython_Epoch.pyx:1051:42: Non-trivial type declarators in shared declaration (e.g. mix of pointers and values). Each pointer declaration should be on its own line.\r\n",
      "warning: SLIM_BPR_Cython_Epoch.pyx:1052:35: Non-trivial type declarators in shared declaration (e.g. mix of pointers and values). Each pointer declaration should be on its own line.\r\n",
      "warning: SLIM_BPR_Cython_Epoch.pyx:1052:53: Non-trivial type declarators in shared declaration (e.g. mix of pointers and values). Each pointer declaration should be on its own line.\r\n",
      "\r\n",
      "Error compiling Cython file:\r\n",
      "------------------------------------------------------------\r\n",
      "...\r\n",
      "            vector_pointer_to_list_elements[index].head = current_element\r\n",
      "            current_element = current_element.higher\r\n",
      "\r\n",
      "\r\n",
      "        # Sort array elements on their data field\r\n",
      "        qsort(vector_pointer_to_list_elements, list_length, sizeof(head_pointer_tree_s), compare_struct_on_data)\r\n",
      "                                                                                         ^\r\n",
      "------------------------------------------------------------\r\n",
      "\r\n",
      "SLIM_BPR_Cython_Epoch.pyx:990:89: Cannot assign type 'int (const void *, const void *) except? -1' to 'int (*)(const_void *, const_void *) noexcept'. Exception values are incompatible. Suggest adding 'noexcept' to the type of 'compare_struct_on_data'.\r\n",
      "\r\n",
      "Error compiling Cython file:\r\n",
      "------------------------------------------------------------\r\n",
      "...\r\n",
      "        # Sort array elements on their data field\r\n",
      "        qsort(vector_pointer_to_list_elements, list_length, sizeof(head_pointer_tree_s), compare_struct_on_data)\r\n",
      "\r\n",
      "        # Sort only the TopK according to their column field\r\n",
      "        # Sort is from lower to higher, therefore the elements to be considered are from len-topK to len\r\n",
      "        qsort(&vector_pointer_to_list_elements[list_length-TopK], TopK, sizeof(head_pointer_tree_s), compare_struct_on_column)\r\n",
      "                                                                                                     ^\r\n",
      "------------------------------------------------------------\r\n",
      "\r\n",
      "SLIM_BPR_Cython_Epoch.pyx:994:101: Cannot assign type 'int (const void *, const void *) except? -1' to 'int (*)(const_void *, const_void *) noexcept'. Exception values are incompatible. Suggest adding 'noexcept' to the type of 'compare_struct_on_column'.\r\n",
      "Traceback (most recent call last):\r\n",
      "  File \"/kaggle/working/RECsys_Challenge2024/CythonCompiler/compile_script.py\", line 48, in <module>\r\n",
      "    setup(\r\n",
      "  File \"/usr/local/lib/python3.10/dist-packages/setuptools/__init__.py\", line 108, in setup\r\n",
      "    return distutils.core.setup(**attrs)\r\n",
      "  File \"/usr/local/lib/python3.10/dist-packages/setuptools/_distutils/core.py\", line 184, in setup\r\n",
      "    return run_commands(dist)\r\n",
      "  File \"/usr/local/lib/python3.10/dist-packages/setuptools/_distutils/core.py\", line 200, in run_commands\r\n",
      "    dist.run_commands()\r\n",
      "  File \"/usr/local/lib/python3.10/dist-packages/setuptools/_distutils/dist.py\", line 970, in run_commands\r\n",
      "    self.run_command(cmd)\r\n",
      "  File \"/usr/local/lib/python3.10/dist-packages/setuptools/dist.py\", line 956, in run_command\r\n",
      "    super().run_command(command)\r\n",
      "  File \"/usr/local/lib/python3.10/dist-packages/setuptools/_distutils/dist.py\", line 989, in run_command\r\n",
      "    cmd_obj.run()\r\n",
      "  File \"/usr/local/lib/python3.10/dist-packages/setuptools/_distutils/command/build_ext.py\", line 359, in run\r\n",
      "    self.build_extensions()\r\n",
      "  File \"/usr/local/lib/python3.10/dist-packages/setuptools/_distutils/command/build_ext.py\", line 479, in build_extensions\r\n",
      "    self._build_extensions_serial()\r\n",
      "  File \"/usr/local/lib/python3.10/dist-packages/setuptools/_distutils/command/build_ext.py\", line 505, in _build_extensions_serial\r\n",
      "    self.build_extension(ext)\r\n",
      "  File \"/usr/local/lib/python3.10/dist-packages/Cython/Distutils/build_ext.py\", line 130, in build_extension\r\n",
      "    new_ext = cythonize(\r\n",
      "  File \"/usr/local/lib/python3.10/dist-packages/Cython/Build/Dependencies.py\", line 1154, in cythonize\r\n",
      "    cythonize_one(*args)\r\n",
      "  File \"/usr/local/lib/python3.10/dist-packages/Cython/Build/Dependencies.py\", line 1321, in cythonize_one\r\n",
      "    raise CompileError(None, pyx_file)\r\n",
      "Cython.Compiler.Errors.CompileError: SLIM_BPR_Cython_Epoch.pyx\r\n",
      "Traceback (most recent call last):\r\n",
      "  File \"/kaggle/working/RECsys_Challenge2024/run_compile_all_cython.py\", line 60, in <module>\r\n",
      "    run_compile_subprocess(file_path, [file_name])\r\n",
      "  File \"/kaggle/working/RECsys_Challenge2024/CythonCompiler/run_compile_subprocess.py\", line 51, in run_compile_subprocess\r\n",
      "    raise exc\r\n",
      "  File \"/kaggle/working/RECsys_Challenge2024/CythonCompiler/run_compile_subprocess.py\", line 32, in run_compile_subprocess\r\n",
      "    output = subprocess.check_output(' '.join(command),\r\n",
      "  File \"/usr/lib/python3.10/subprocess.py\", line 421, in check_output\r\n",
      "    return run(*popenargs, stdout=PIPE, timeout=timeout, check=True,\r\n",
      "  File \"/usr/lib/python3.10/subprocess.py\", line 526, in run\r\n",
      "    raise CalledProcessError(retcode, process.args,\r\n",
      "subprocess.CalledProcessError: Command '/usr/bin/python3 /kaggle/working/RECsys_Challenge2024/CythonCompiler/compile_script.py SLIM_BPR_Cython_Epoch.pyx build_ext --inplace' returned non-zero exit status 1.\r\n",
      "Compiling [6/11]: SLIM_BPR_Cython_Epoch.pyx... FAIL: Command '/usr/bin/python3 /kaggle/working/RECsys_Challenge2024/CythonCompiler/compile_script.py SLIM_BPR_Cython_Epoch.pyx build_ext --inplace' returned non-zero exit status 1.\r\n",
      "\r\n",
      "Compiling [7/11]: HP3_Similarity_Cython_SGD.pyx... \r\n",
      "performance hint: HP3_Similarity_Cython_SGD.pyx:113:40: Index should be typed for more efficient access\r\n",
      "performance hint: HP3_Similarity_Cython_SGD.pyx:114:40: Index should be typed for more efficient access\r\n",
      "In file included from \u001b[01m\u001b[K/usr/local/lib/python3.10/dist-packages/numpy/core/include/numpy/ndarraytypes.h:1929\u001b[m\u001b[K,\r\n",
      "                 from \u001b[01m\u001b[K/usr/local/lib/python3.10/dist-packages/numpy/core/include/numpy/ndarrayobject.h:12\u001b[m\u001b[K,\r\n",
      "                 from \u001b[01m\u001b[K/usr/local/lib/python3.10/dist-packages/numpy/core/include/numpy/arrayobject.h:5\u001b[m\u001b[K,\r\n",
      "                 from \u001b[01m\u001b[KHP3_Similarity_Cython_SGD.c:1252\u001b[m\u001b[K:\r\n",
      "\u001b[01m\u001b[K/usr/local/lib/python3.10/dist-packages/numpy/core/include/numpy/npy_1_7_deprecated_api.h:17:2:\u001b[m\u001b[K \u001b[01;35m\u001b[Kwarning: \u001b[m\u001b[K#warning \"Using deprecated NumPy API, disable it with \" \"#define NPY_NO_DEPRECATED_API NPY_1_7_API_VERSION\" [\u001b[01;35m\u001b[K\u001b]8;;https://gcc.gnu.org/onlinedocs/gcc/Warning-Options.html#index-Wcpp\u0007-Wcpp\u001b]8;;\u0007\u001b[m\u001b[K]\r\n",
      "   17 | #\u001b[01;35m\u001b[Kwarning\u001b[m\u001b[K \"Using deprecated NumPy API, disable it with \" \\\r\n",
      "      |  \u001b[01;35m\u001b[K^~~~~~~\u001b[m\u001b[K\r\n",
      "\u001b[01m\u001b[KHP3_Similarity_Cython_SGD.c:\u001b[m\u001b[K In function ‘\u001b[01m\u001b[K__pyx_pf_25HP3_Similarity_Cython_SGD_25HP3_Similarity_Cython_SGD_4fit\u001b[m\u001b[K’:\r\n",
      "\u001b[01m\u001b[KHP3_Similarity_Cython_SGD.c:23631:55:\u001b[m\u001b[K \u001b[01;35m\u001b[Kwarning: \u001b[m\u001b[K‘\u001b[01m\u001b[K__pyx_v_sample_num\u001b[m\u001b[K’ may be used uninitialized in this function [\u001b[01;35m\u001b[K\u001b]8;;https://gcc.gnu.org/onlinedocs/gcc/Warning-Options.html#index-Wmaybe-uninitialized\u0007-Wmaybe-uninitialized\u001b]8;;\u0007\u001b[m\u001b[K]\r\n",
      "23631 |   __pyx_t_1 = PyFloat_FromDouble((__pyx_v_cum_loss / \u001b[01;35m\u001b[K((double)__pyx_v_sample_num)\u001b[m\u001b[K)); if (unlikely(!__pyx_t_1)) __PYX_ERR(0, 291, __pyx_L1_error)\r\n",
      "      |                                                      \u001b[01;35m\u001b[K~^~~~~~~~~~~~~~~~~~~~~~~~~~~\u001b[m\u001b[K\r\n",
      "/usr/local/lib/python3.10/dist-packages/Cython/Compiler/Main.py:381: FutureWarning: Cython directive 'language_level' not set, using '3str' for now (Py3). This has changed from earlier releases! File: /kaggle/working/RECsys_Challenge2024/Recommenders/FeatureWeighting/Cython/HP3_Similarity_Cython_SGD.pyx\r\n",
      "  tree = Parsing.p_module(s, pxd, full_module_name)\r\n",
      "performance hint: HP3_Similarity_Cython_SGD.pyx:113:40: Index should be typed for more efficient access\r\n",
      "performance hint: HP3_Similarity_Cython_SGD.pyx:114:40: Index should be typed for more efficient access\r\n",
      "Compiling [7/11]: HP3_Similarity_Cython_SGD.pyx... PASS\r\n",
      "\r\n",
      "Compiling [8/11]: FBSM_Rating_Cython_SGD.pyx... \r\n",
      "In file included from \u001b[01m\u001b[K/usr/local/lib/python3.10/dist-packages/numpy/core/include/numpy/ndarraytypes.h:1929\u001b[m\u001b[K,\r\n",
      "                 from \u001b[01m\u001b[K/usr/local/lib/python3.10/dist-packages/numpy/core/include/numpy/ndarrayobject.h:12\u001b[m\u001b[K,\r\n",
      "                 from \u001b[01m\u001b[K/usr/local/lib/python3.10/dist-packages/numpy/core/include/numpy/arrayobject.h:5\u001b[m\u001b[K,\r\n",
      "                 from \u001b[01m\u001b[KFBSM_Rating_Cython_SGD.c:1252\u001b[m\u001b[K:\r\n",
      "\u001b[01m\u001b[K/usr/local/lib/python3.10/dist-packages/numpy/core/include/numpy/npy_1_7_deprecated_api.h:17:2:\u001b[m\u001b[K \u001b[01;35m\u001b[Kwarning: \u001b[m\u001b[K#warning \"Using deprecated NumPy API, disable it with \" \"#define NPY_NO_DEPRECATED_API NPY_1_7_API_VERSION\" [\u001b[01;35m\u001b[K\u001b]8;;https://gcc.gnu.org/onlinedocs/gcc/Warning-Options.html#index-Wcpp\u0007-Wcpp\u001b]8;;\u0007\u001b[m\u001b[K]\r\n",
      "   17 | #\u001b[01;35m\u001b[Kwarning\u001b[m\u001b[K \"Using deprecated NumPy API, disable it with \" \\\r\n",
      "      |  \u001b[01;35m\u001b[K^~~~~~~\u001b[m\u001b[K\r\n",
      "\u001b[01m\u001b[KFBSM_Rating_Cython_SGD.c:\u001b[m\u001b[K In function ‘\u001b[01m\u001b[K__pyx_pf_22FBSM_Rating_Cython_SGD_22FBSM_Rating_Cython_SGD_2fit\u001b[m\u001b[K’:\r\n",
      "\u001b[01m\u001b[KFBSM_Rating_Cython_SGD.c:26607:55:\u001b[m\u001b[K \u001b[01;35m\u001b[Kwarning: \u001b[m\u001b[K‘\u001b[01m\u001b[K__pyx_v_num_sample\u001b[m\u001b[K’ may be used uninitialized in this function [\u001b[01;35m\u001b[K\u001b]8;;https://gcc.gnu.org/onlinedocs/gcc/Warning-Options.html#index-Wmaybe-uninitialized\u0007-Wmaybe-uninitialized\u001b]8;;\u0007\u001b[m\u001b[K]\r\n",
      "26607 |   __pyx_t_5 = PyFloat_FromDouble((__pyx_v_cum_loss / \u001b[01;35m\u001b[K((double)__pyx_v_num_sample)\u001b[m\u001b[K)); if (unlikely(!__pyx_t_5)) __PYX_ERR(0, 551, __pyx_L1_error)\r\n",
      "      |                                                      \u001b[01;35m\u001b[K~^~~~~~~~~~~~~~~~~~~~~~~~~~~\u001b[m\u001b[K\r\n",
      "/usr/local/lib/python3.10/dist-packages/Cython/Compiler/Main.py:381: FutureWarning: Cython directive 'language_level' not set, using '3str' for now (Py3). This has changed from earlier releases! File: /kaggle/working/RECsys_Challenge2024/Recommenders/FeatureWeighting/Cython/FBSM_Rating_Cython_SGD.pyx\r\n",
      "  tree = Parsing.p_module(s, pxd, full_module_name)\r\n",
      "Compiling [8/11]: FBSM_Rating_Cython_SGD.pyx... PASS\r\n",
      "\r\n",
      "Compiling [9/11]: CFW_D_Similarity_Cython_SGD.pyx... \r\n",
      "In file included from \u001b[01m\u001b[K/usr/local/lib/python3.10/dist-packages/numpy/core/include/numpy/ndarraytypes.h:1929\u001b[m\u001b[K,\r\n",
      "                 from \u001b[01m\u001b[K/usr/local/lib/python3.10/dist-packages/numpy/core/include/numpy/ndarrayobject.h:12\u001b[m\u001b[K,\r\n",
      "                 from \u001b[01m\u001b[K/usr/local/lib/python3.10/dist-packages/numpy/core/include/numpy/arrayobject.h:5\u001b[m\u001b[K,\r\n",
      "                 from \u001b[01m\u001b[KCFW_D_Similarity_Cython_SGD.c:1252\u001b[m\u001b[K:\r\n",
      "\u001b[01m\u001b[K/usr/local/lib/python3.10/dist-packages/numpy/core/include/numpy/npy_1_7_deprecated_api.h:17:2:\u001b[m\u001b[K \u001b[01;35m\u001b[Kwarning: \u001b[m\u001b[K#warning \"Using deprecated NumPy API, disable it with \" \"#define NPY_NO_DEPRECATED_API NPY_1_7_API_VERSION\" [\u001b[01;35m\u001b[K\u001b]8;;https://gcc.gnu.org/onlinedocs/gcc/Warning-Options.html#index-Wcpp\u0007-Wcpp\u001b]8;;\u0007\u001b[m\u001b[K]\r\n",
      "   17 | #\u001b[01;35m\u001b[Kwarning\u001b[m\u001b[K \"Using deprecated NumPy API, disable it with \" \\\r\n",
      "      |  \u001b[01;35m\u001b[K^~~~~~~\u001b[m\u001b[K\r\n",
      "\u001b[01m\u001b[KCFW_D_Similarity_Cython_SGD.c:\u001b[m\u001b[K In function ‘\u001b[01m\u001b[K__pyx_pf_27CFW_D_Similarity_Cython_SGD_27CFW_D_Similarity_Cython_SGD_6fit\u001b[m\u001b[K’:\r\n",
      "\u001b[01m\u001b[KCFW_D_Similarity_Cython_SGD.c:23373:55:\u001b[m\u001b[K \u001b[01;35m\u001b[Kwarning: \u001b[m\u001b[K‘\u001b[01m\u001b[K__pyx_v_sample_num\u001b[m\u001b[K’ may be used uninitialized in this function [\u001b[01;35m\u001b[K\u001b]8;;https://gcc.gnu.org/onlinedocs/gcc/Warning-Options.html#index-Wmaybe-uninitialized\u0007-Wmaybe-uninitialized\u001b]8;;\u0007\u001b[m\u001b[K]\r\n",
      "23373 |   __pyx_t_3 = PyFloat_FromDouble((__pyx_v_cum_loss / \u001b[01;35m\u001b[K((double)__pyx_v_sample_num)\u001b[m\u001b[K)); if (unlikely(!__pyx_t_3)) __PYX_ERR(0, 290, __pyx_L1_error)\r\n",
      "      |                                                      \u001b[01;35m\u001b[K~^~~~~~~~~~~~~~~~~~~~~~~~~~~\u001b[m\u001b[K\r\n",
      "/usr/local/lib/python3.10/dist-packages/Cython/Compiler/Main.py:381: FutureWarning: Cython directive 'language_level' not set, using '3str' for now (Py3). This has changed from earlier releases! File: /kaggle/working/RECsys_Challenge2024/Recommenders/FeatureWeighting/Cython/CFW_D_Similarity_Cython_SGD.pyx\r\n",
      "  tree = Parsing.p_module(s, pxd, full_module_name)\r\n",
      "Compiling [9/11]: CFW_D_Similarity_Cython_SGD.pyx... PASS\r\n",
      "\r\n",
      "Compiling [10/11]: CFW_DVV_Similarity_Cython_SGD.pyx... \r\n",
      "In file included from \u001b[01m\u001b[K/usr/local/lib/python3.10/dist-packages/numpy/core/include/numpy/ndarraytypes.h:1929\u001b[m\u001b[K,\r\n",
      "                 from \u001b[01m\u001b[K/usr/local/lib/python3.10/dist-packages/numpy/core/include/numpy/ndarrayobject.h:12\u001b[m\u001b[K,\r\n",
      "                 from \u001b[01m\u001b[K/usr/local/lib/python3.10/dist-packages/numpy/core/include/numpy/arrayobject.h:5\u001b[m\u001b[K,\r\n",
      "                 from \u001b[01m\u001b[KCFW_DVV_Similarity_Cython_SGD.c:1252\u001b[m\u001b[K:\r\n",
      "\u001b[01m\u001b[K/usr/local/lib/python3.10/dist-packages/numpy/core/include/numpy/npy_1_7_deprecated_api.h:17:2:\u001b[m\u001b[K \u001b[01;35m\u001b[Kwarning: \u001b[m\u001b[K#warning \"Using deprecated NumPy API, disable it with \" \"#define NPY_NO_DEPRECATED_API NPY_1_7_API_VERSION\" [\u001b[01;35m\u001b[K\u001b]8;;https://gcc.gnu.org/onlinedocs/gcc/Warning-Options.html#index-Wcpp\u0007-Wcpp\u001b]8;;\u0007\u001b[m\u001b[K]\r\n",
      "   17 | #\u001b[01;35m\u001b[Kwarning\u001b[m\u001b[K \"Using deprecated NumPy API, disable it with \" \\\r\n",
      "      |  \u001b[01;35m\u001b[K^~~~~~~\u001b[m\u001b[K\r\n",
      "/usr/local/lib/python3.10/dist-packages/Cython/Compiler/Main.py:381: FutureWarning: Cython directive 'language_level' not set, using '3str' for now (Py3). This has changed from earlier releases! File: /kaggle/working/RECsys_Challenge2024/Recommenders/FeatureWeighting/Cython/CFW_DVV_Similarity_Cython_SGD.pyx\r\n",
      "  tree = Parsing.p_module(s, pxd, full_module_name)\r\n",
      "Compiling [10/11]: CFW_DVV_Similarity_Cython_SGD.pyx... PASS\r\n",
      "\r\n",
      "Compiling [11/11]: DataIterator.pyx... \r\n",
      "In file included from \u001b[01m\u001b[K/usr/local/lib/python3.10/dist-packages/numpy/core/include/numpy/ndarraytypes.h:1929\u001b[m\u001b[K,\r\n",
      "                 from \u001b[01m\u001b[K/usr/local/lib/python3.10/dist-packages/numpy/core/include/numpy/ndarrayobject.h:12\u001b[m\u001b[K,\r\n",
      "                 from \u001b[01m\u001b[K/usr/local/lib/python3.10/dist-packages/numpy/core/include/numpy/arrayobject.h:5\u001b[m\u001b[K,\r\n",
      "                 from \u001b[01m\u001b[KDataIterator.c:1252\u001b[m\u001b[K:\r\n",
      "\u001b[01m\u001b[K/usr/local/lib/python3.10/dist-packages/numpy/core/include/numpy/npy_1_7_deprecated_api.h:17:2:\u001b[m\u001b[K \u001b[01;35m\u001b[Kwarning: \u001b[m\u001b[K#warning \"Using deprecated NumPy API, disable it with \" \"#define NPY_NO_DEPRECATED_API NPY_1_7_API_VERSION\" [\u001b[01;35m\u001b[K\u001b]8;;https://gcc.gnu.org/onlinedocs/gcc/Warning-Options.html#index-Wcpp\u0007-Wcpp\u001b]8;;\u0007\u001b[m\u001b[K]\r\n",
      "   17 | #\u001b[01;35m\u001b[Kwarning\u001b[m\u001b[K \"Using deprecated NumPy API, disable it with \" \\\r\n",
      "      |  \u001b[01;35m\u001b[K^~~~~~~\u001b[m\u001b[K\r\n",
      "\u001b[01m\u001b[KDataIterator.c:\u001b[m\u001b[K In function ‘\u001b[01m\u001b[K__pyx_pf_12DataIterator_19InteractionIterator_6__next__\u001b[m\u001b[K’:\r\n",
      "\u001b[01m\u001b[KDataIterator.c:20937:22:\u001b[m\u001b[K \u001b[01;35m\u001b[Kwarning: \u001b[m\u001b[K‘\u001b[01m\u001b[K__pyx_v_i_batch\u001b[m\u001b[K’ may be used uninitialized in this function [\u001b[01;35m\u001b[K\u001b]8;;https://gcc.gnu.org/onlinedocs/gcc/Warning-Options.html#index-Wmaybe-uninitialized\u0007-Wmaybe-uninitialized\u001b]8;;\u0007\u001b[m\u001b[K]\r\n",
      "20937 |     (__pyx_v_i_batch \u001b[01;35m\u001b[K+\u001b[m\u001b[K 1),\r\n",
      "      |                      \u001b[01;35m\u001b[K^\u001b[m\u001b[K\r\n",
      "\u001b[01m\u001b[KDataIterator.c:\u001b[m\u001b[K In function ‘\u001b[01m\u001b[K__pyx_pf_12DataIterator_30InteractionAndNegativeIterator_6__next__\u001b[m\u001b[K’:\r\n",
      "\u001b[01m\u001b[KDataIterator.c:25499:22:\u001b[m\u001b[K \u001b[01;35m\u001b[Kwarning: \u001b[m\u001b[K‘\u001b[01m\u001b[K__pyx_v_i_batch\u001b[m\u001b[K’ may be used uninitialized in this function [\u001b[01;35m\u001b[K\u001b]8;;https://gcc.gnu.org/onlinedocs/gcc/Warning-Options.html#index-Wmaybe-uninitialized\u0007-Wmaybe-uninitialized\u001b]8;;\u0007\u001b[m\u001b[K]\r\n",
      "25499 |     (__pyx_v_i_batch \u001b[01;35m\u001b[K+\u001b[m\u001b[K 1),\r\n",
      "      |                      \u001b[01;35m\u001b[K^\u001b[m\u001b[K\r\n",
      "\u001b[01m\u001b[KDataIterator.c:\u001b[m\u001b[K In function ‘\u001b[01m\u001b[K__pyx_pf_12DataIterator_11BPRIterator_6__next__\u001b[m\u001b[K’:\r\n",
      "\u001b[01m\u001b[KDataIterator.c:23056:22:\u001b[m\u001b[K \u001b[01;35m\u001b[Kwarning: \u001b[m\u001b[K‘\u001b[01m\u001b[K__pyx_v_i_batch\u001b[m\u001b[K’ may be used uninitialized in this function [\u001b[01;35m\u001b[K\u001b]8;;https://gcc.gnu.org/onlinedocs/gcc/Warning-Options.html#index-Wmaybe-uninitialized\u0007-Wmaybe-uninitialized\u001b]8;;\u0007\u001b[m\u001b[K]\r\n",
      "23056 |     (__pyx_v_i_batch \u001b[01;35m\u001b[K+\u001b[m\u001b[K 1),\r\n",
      "      |                      \u001b[01;35m\u001b[K^\u001b[m\u001b[K\r\n",
      "/usr/local/lib/python3.10/dist-packages/Cython/Compiler/Main.py:381: FutureWarning: Cython directive 'language_level' not set, using '3str' for now (Py3). This has changed from earlier releases! File: /kaggle/working/RECsys_Challenge2024/Utils/PyTorch/Cython/DataIterator.pyx\r\n",
      "  tree = Parsing.p_module(s, pxd, full_module_name)\r\n",
      "Compiling [11/11]: DataIterator.pyx... PASS\r\n",
      "\r\n",
      "run_compile_all_cython: Compilation finished. FAILS 2/11.\r\n",
      "Compilation log can be found here: './result_experiments/run_compile_all_cython.txt'\r\n"
     ]
    }
   ],
   "source": [
    "%cd /kaggle/working/RECsys_Challenge2024 \n",
    "! python run_compile_all_cython.py"
   ]
  },
  {
   "cell_type": "code",
   "execution_count": 5,
   "id": "d5d1e3f7",
   "metadata": {
    "execution": {
     "iopub.execute_input": "2025-01-05T21:34:03.700827Z",
     "iopub.status.busy": "2025-01-05T21:34:03.700376Z",
     "iopub.status.idle": "2025-01-05T21:34:05.357925Z",
     "shell.execute_reply": "2025-01-05T21:34:05.356763Z"
    },
    "papermill": {
     "duration": 1.676225,
     "end_time": "2025-01-05T21:34:05.359916",
     "exception": false,
     "start_time": "2025-01-05T21:34:03.683691",
     "status": "completed"
    },
    "tags": []
   },
   "outputs": [],
   "source": [
    "from Utils.notebookFunctions import *\n",
    "import numpy as np\n",
    "import pandas as pd\n",
    "import scipy.sparse as sps\n",
    "import time\n",
    "import shutil\n",
    "import optuna\n",
    "import json\n",
    "import os\n",
    "from Utils.seconds_to_biggest_unit import seconds_to_biggest_unit\n",
    "\n",
    "\n",
    "K_PATH = '/kaggle/working/RECsys_Challenge2024'\n",
    "GH_PATH = 'TrainedModels/WithKFCV/KNN'\n",
    "\n",
    "np.random.seed(42)"
   ]
  },
  {
   "cell_type": "markdown",
   "id": "523e4225",
   "metadata": {
    "papermill": {
     "duration": 0.017055,
     "end_time": "2025-01-05T21:34:05.392870",
     "exception": false,
     "start_time": "2025-01-05T21:34:05.375815",
     "status": "completed"
    },
    "tags": []
   },
   "source": [
    "## Import the repository **RECsys_Challenge2024**"
   ]
  },
  {
   "cell_type": "code",
   "execution_count": 6,
   "id": "5fabdf27",
   "metadata": {
    "execution": {
     "iopub.execute_input": "2025-01-05T21:34:05.426137Z",
     "iopub.status.busy": "2025-01-05T21:34:05.425645Z",
     "iopub.status.idle": "2025-01-05T21:34:05.683270Z",
     "shell.execute_reply": "2025-01-05T21:34:05.681479Z"
    },
    "papermill": {
     "duration": 0.276347,
     "end_time": "2025-01-05T21:34:05.685650",
     "exception": false,
     "start_time": "2025-01-05T21:34:05.409303",
     "status": "completed"
    },
    "tags": []
   },
   "outputs": [
    {
     "name": "stdout",
     "output_type": "stream",
     "text": [
      "Repository 'RECsys_Challenge2024' found.\n"
     ]
    }
   ],
   "source": [
    "repo = get_repo_from_github(token)"
   ]
  },
  {
   "cell_type": "code",
   "execution_count": 7,
   "id": "cc417385",
   "metadata": {
    "execution": {
     "iopub.execute_input": "2025-01-05T21:34:05.728543Z",
     "iopub.status.busy": "2025-01-05T21:34:05.728050Z",
     "iopub.status.idle": "2025-01-05T21:34:05.733884Z",
     "shell.execute_reply": "2025-01-05T21:34:05.732615Z"
    },
    "papermill": {
     "duration": 0.025953,
     "end_time": "2025-01-05T21:34:05.736159",
     "exception": false,
     "start_time": "2025-01-05T21:34:05.710206",
     "status": "completed"
    },
    "tags": []
   },
   "outputs": [],
   "source": [
    "config = {\n",
    "    'model': 'ItemKNNCF',\n",
    "    'n_folds': 5,\n",
    "    'metric': 'MAP',\n",
    "    'tune_parameters': True,\n",
    "    'database_path': '/kaggle/working/history_ItemKNNCF_MAP.db',\n",
    "    'copy_prev_best_params': False,\n",
    "    'tune_best_params': True,\n",
    "    'save_github': True\n",
    "}"
   ]
  },
  {
   "cell_type": "markdown",
   "id": "6c7811e3",
   "metadata": {
    "papermill": {
     "duration": 0.015817,
     "end_time": "2025-01-05T21:34:05.769814",
     "exception": false,
     "start_time": "2025-01-05T21:34:05.753997",
     "status": "completed"
    },
    "tags": []
   },
   "source": [
    "Import the database where previous tuning trials have been saved."
   ]
  },
  {
   "cell_type": "code",
   "execution_count": 8,
   "id": "b9148744",
   "metadata": {
    "execution": {
     "iopub.execute_input": "2025-01-05T21:34:05.809594Z",
     "iopub.status.busy": "2025-01-05T21:34:05.809085Z",
     "iopub.status.idle": "2025-01-05T21:34:05.816336Z",
     "shell.execute_reply": "2025-01-05T21:34:05.814960Z"
    },
    "papermill": {
     "duration": 0.029731,
     "end_time": "2025-01-05T21:34:05.818669",
     "exception": false,
     "start_time": "2025-01-05T21:34:05.788938",
     "status": "completed"
    },
    "tags": []
   },
   "outputs": [],
   "source": [
    "try:\n",
    "    shutil.copyfile(\n",
    "        f'{K_PATH}/{GH_PATH}/{config[\"model\"]}Recommender/Optimizing{config[\"metric\"]}/history_{config[\"model\"]}_{config[\"metric\"]}.db', \n",
    "        config['database_path']\n",
    "    )\n",
    "except FileNotFoundError:\n",
    "    pass # if not present optuna will create it"
   ]
  },
  {
   "cell_type": "markdown",
   "id": "82899208",
   "metadata": {
    "papermill": {
     "duration": 0.016348,
     "end_time": "2025-01-05T21:34:05.852371",
     "exception": false,
     "start_time": "2025-01-05T21:34:05.836023",
     "status": "completed"
    },
    "tags": []
   },
   "source": [
    "# Construction of URM and ICM matrices"
   ]
  },
  {
   "cell_type": "code",
   "execution_count": 9,
   "id": "d0f1a196",
   "metadata": {
    "execution": {
     "iopub.execute_input": "2025-01-05T21:34:05.887734Z",
     "iopub.status.busy": "2025-01-05T21:34:05.886880Z",
     "iopub.status.idle": "2025-01-05T21:34:06.881498Z",
     "shell.execute_reply": "2025-01-05T21:34:06.880509Z"
    },
    "papermill": {
     "duration": 1.01402,
     "end_time": "2025-01-05T21:34:06.883355",
     "exception": false,
     "start_time": "2025-01-05T21:34:05.869335",
     "status": "completed"
    },
    "tags": []
   },
   "outputs": [
    {
     "data": {
      "text/plain": [
       "<35736x38121 sparse matrix of type '<class 'numpy.float64'>'\n",
       "\twith 1764607 stored elements in Compressed Sparse Row format>"
      ]
     },
     "execution_count": 9,
     "metadata": {},
     "output_type": "execute_result"
    }
   ],
   "source": [
    "URM_all_dataframe = pd.read_csv(\"/kaggle/input/recommender-system-2024-challenge-polimi/data_train.csv\")\n",
    "\n",
    "n_users = len(URM_all_dataframe[\"user_id\"].unique())\n",
    "n_items = len(URM_all_dataframe[\"item_id\"].unique())\n",
    "\n",
    "URM_all = sps.csr_matrix((URM_all_dataframe[\"data\"].values, \n",
    "                          (URM_all_dataframe[\"user_id\"].values, URM_all_dataframe[\"item_id\"].values)),\n",
    "                        shape = (n_users, n_items))\n",
    "\n",
    "URM_all"
   ]
  },
  {
   "cell_type": "code",
   "execution_count": 10,
   "id": "b7ef6537",
   "metadata": {
    "execution": {
     "iopub.execute_input": "2025-01-05T21:34:06.916397Z",
     "iopub.status.busy": "2025-01-05T21:34:06.916015Z",
     "iopub.status.idle": "2025-01-05T21:34:08.188315Z",
     "shell.execute_reply": "2025-01-05T21:34:08.186999Z"
    },
    "papermill": {
     "duration": 1.290645,
     "end_time": "2025-01-05T21:34:08.190342",
     "exception": false,
     "start_time": "2025-01-05T21:34:06.899697",
     "status": "completed"
    },
    "tags": []
   },
   "outputs": [
    {
     "data": {
      "text/plain": [
       "<38121x94331 sparse matrix of type '<class 'numpy.float64'>'\n",
       "\twith 2940040 stored elements in Compressed Sparse Row format>"
      ]
     },
     "execution_count": 10,
     "metadata": {},
     "output_type": "execute_result"
    }
   ],
   "source": [
    "ICM_dataframe = pd.read_csv(\"/kaggle/input/recommender-system-2024-challenge-polimi/data_ICM_metadata.csv\")\n",
    "\n",
    "n_items = len(ICM_dataframe[\"item_id\"].unique())\n",
    "n_features = len(ICM_dataframe[\"feature_id\"].unique())\n",
    "\n",
    "ICM_all = sps.csr_matrix((ICM_dataframe[\"data\"].values, \n",
    "                          (ICM_dataframe[\"item_id\"].values, ICM_dataframe[\"feature_id\"].values)),\n",
    "                        shape = (n_items, n_features))\n",
    "\n",
    "ICM_all"
   ]
  },
  {
   "cell_type": "markdown",
   "id": "a3e8c2b2",
   "metadata": {
    "papermill": {
     "duration": 0.016651,
     "end_time": "2025-01-05T21:34:08.222791",
     "exception": false,
     "start_time": "2025-01-05T21:34:08.206140",
     "status": "completed"
    },
    "tags": []
   },
   "source": [
    "# Training"
   ]
  },
  {
   "cell_type": "code",
   "execution_count": 11,
   "id": "5a472226",
   "metadata": {
    "execution": {
     "iopub.execute_input": "2025-01-05T21:34:08.256905Z",
     "iopub.status.busy": "2025-01-05T21:34:08.256440Z",
     "iopub.status.idle": "2025-01-05T21:34:27.046169Z",
     "shell.execute_reply": "2025-01-05T21:34:27.044747Z"
    },
    "papermill": {
     "duration": 18.809796,
     "end_time": "2025-01-05T21:34:27.048684",
     "exception": false,
     "start_time": "2025-01-05T21:34:08.238888",
     "status": "completed"
    },
    "tags": []
   },
   "outputs": [
    {
     "name": "stdout",
     "output_type": "stream",
     "text": [
      "Warning: 141 (0.39 %) of 35736 users have no sampled items\n"
     ]
    }
   ],
   "source": [
    "from Evaluation.Evaluator import EvaluatorHoldout\n",
    "from Data_manager.split_functions.split_train_validation_random_holdout import split_train_in_two_percentage_global_sample\n",
    "from Data_manager.split_functions.split_train_k_folds import split_train_k_folds\n",
    "\n",
    "URM_train, URM_validation = split_train_in_two_percentage_global_sample(URM_all, train_percentage = 0.80)\n",
    "\n",
    "folds = split_train_k_folds(URM_all, k=config['n_folds'])"
   ]
  },
  {
   "cell_type": "code",
   "execution_count": 12,
   "id": "bca78a9d",
   "metadata": {
    "execution": {
     "iopub.execute_input": "2025-01-05T21:34:27.083776Z",
     "iopub.status.busy": "2025-01-05T21:34:27.083330Z",
     "iopub.status.idle": "2025-01-05T21:34:27.102738Z",
     "shell.execute_reply": "2025-01-05T21:34:27.101473Z"
    },
    "papermill": {
     "duration": 0.038233,
     "end_time": "2025-01-05T21:34:27.104737",
     "exception": false,
     "start_time": "2025-01-05T21:34:27.066504",
     "status": "completed"
    },
    "tags": []
   },
   "outputs": [],
   "source": [
    "from Recommenders.KNN.ItemKNNCFRecommender import ItemKNNCFRecommender\n",
    "\n",
    "def objective_function_ItemKNNCF(optuna_trial):\n",
    "    \n",
    "    similarity = optuna_trial.suggest_categorical(\"similarity\", ['cosine', 'dice', 'jaccard', 'asymmetric', 'tversky', 'euclidean'])\n",
    "    \n",
    "    full_hyperp = {\"similarity\": similarity,\n",
    "                   \"topK\": optuna_trial.suggest_int(\"topK\", 0, 750),\n",
    "                   \"shrink\": optuna_trial.suggest_int(\"shrink\", 0, 1000),\n",
    "                   'feature_weighting': optuna_trial.suggest_categorical('feature_weighting', [\"BM25\", \"TF-IDF\", \"none\"])\n",
    "                  }\n",
    "    \n",
    "    if similarity == \"asymmetric\":\n",
    "        full_hyperp[\"asymmetric_alpha\"] = optuna_trial.suggest_float(\"asymmetric_alpha\", 0, 2, log=False)\n",
    "        full_hyperp[\"normalize\"] = True     \n",
    "\n",
    "    elif similarity == \"tversky\":\n",
    "        full_hyperp[\"tversky_alpha\"] = optuna_trial.suggest_float(\"tversky_alpha\", 0, 2, log=False)\n",
    "        full_hyperp[\"tversky_beta\"] = optuna_trial.suggest_float(\"tversky_beta\", 0, 2, log=False)\n",
    "        full_hyperp[\"normalize\"] = True \n",
    "\n",
    "    elif similarity == \"euclidean\":\n",
    "        full_hyperp[\"normalize_avg_row\"] = optuna_trial.suggest_categorical(\"normalize_avg_row\", [True, False])\n",
    "        full_hyperp[\"similarity_from_distance_mode\"] = optuna_trial.suggest_categorical(\"similarity_from_distance_mode\", [\"lin\", \"log\", \"exp\"])\n",
    "        full_hyperp[\"normalize\"] = optuna_trial.suggest_categorical(\"normalize\", [True, False])\n",
    "        \n",
    "    \n",
    "    validation_results = []\n",
    "    \n",
    "    for fold_idx, (URM_train_fold, URM_validation_fold) in enumerate(folds):\n",
    "    \n",
    "        recommender_instance = ItemKNNCFRecommender(URM_train_fold)\n",
    "        recommender_instance.fit(**full_hyperp)\n",
    "        \n",
    "        evaluator = EvaluatorHoldout(URM_validation_fold, cutoff_list=[10])\n",
    "        result_df, _ = evaluator.evaluateRecommender(recommender_instance)\n",
    "        \n",
    "        validation_results.append(result_df.loc[10][\"MAP\"])\n",
    "    \n",
    "    return np.mean(validation_results)"
   ]
  },
  {
   "cell_type": "code",
   "execution_count": 13,
   "id": "490d683f",
   "metadata": {
    "_kg_hide-output": true,
    "execution": {
     "iopub.execute_input": "2025-01-05T21:34:27.138453Z",
     "iopub.status.busy": "2025-01-05T21:34:27.138038Z",
     "iopub.status.idle": "2025-01-06T08:09:29.013403Z",
     "shell.execute_reply": "2025-01-06T08:09:29.012022Z"
    },
    "papermill": {
     "duration": 38101.989808,
     "end_time": "2025-01-06T08:09:29.111232",
     "exception": false,
     "start_time": "2025-01-05T21:34:27.121424",
     "status": "completed"
    },
    "tags": []
   },
   "outputs": [
    {
     "name": "stderr",
     "output_type": "stream",
     "text": [
      "[I 2025-01-05 21:34:28,357] Using an existing study with name 'hyperparameters_tuning_ItemKNNCF_MAP' instead of creating a new one.\n"
     ]
    },
    {
     "name": "stdout",
     "output_type": "stream",
     "text": [
      "Similarity column 38121 (100.0%), 2603.78 column/sec. Elapsed time 14.64 sec\n",
      "EvaluatorHoldout: Ignoring 173 ( 0.5%) Users that have less than 1 test interactions\n",
      "EvaluatorHoldout: Processed 35563 (100.0%) in 32.71 sec. Users per second: 1087\n",
      "Similarity column 38121 (100.0%), 2652.56 column/sec. Elapsed time 14.37 sec\n",
      "EvaluatorHoldout: Ignoring 163 ( 0.5%) Users that have less than 1 test interactions\n",
      "EvaluatorHoldout: Processed 35573 (100.0%) in 32.67 sec. Users per second: 1089\n",
      "Similarity column 38121 (100.0%), 2659.66 column/sec. Elapsed time 14.33 sec\n",
      "EvaluatorHoldout: Ignoring 150 ( 0.4%) Users that have less than 1 test interactions\n",
      "EvaluatorHoldout: Processed 35586 (100.0%) in 32.76 sec. Users per second: 1086\n",
      "Similarity column 38121 (100.0%), 2673.05 column/sec. Elapsed time 14.26 sec\n",
      "EvaluatorHoldout: Ignoring 167 ( 0.5%) Users that have less than 1 test interactions\n",
      "EvaluatorHoldout: Processed 35569 (100.0%) in 32.84 sec. Users per second: 1083\n",
      "Similarity column 38121 (100.0%), 2666.66 column/sec. Elapsed time 14.30 sec\n",
      "EvaluatorHoldout: Ignoring 172 ( 0.5%) Users that have less than 1 test interactions\n",
      "EvaluatorHoldout: Processed 35564 (100.0%) in 32.69 sec. Users per second: 1088\n"
     ]
    },
    {
     "name": "stderr",
     "output_type": "stream",
     "text": [
      "[I 2025-01-05 21:38:26,480] Trial 450 finished with value: 0.051272687098616 and parameters: {'similarity': 'tversky', 'topK': 24, 'shrink': 33, 'feature_weighting': 'none', 'tversky_alpha': 0.06961997229499875, 'tversky_beta': 1.9420703053579542}. Best is trial 439 with value: 0.05361580072200237.\n"
     ]
    },
    {
     "name": "stdout",
     "output_type": "stream",
     "text": [
      "Similarity column 38121 (100.0%), 2583.26 column/sec. Elapsed time 14.76 sec\n",
      "EvaluatorHoldout: Ignoring 173 ( 0.5%) Users that have less than 1 test interactions\n",
      "EvaluatorHoldout: Processed 35563 (100.0%) in 42.44 sec. Users per second: 838\n",
      "Similarity column 38121 (100.0%), 2590.91 column/sec. Elapsed time 14.71 sec\n",
      "EvaluatorHoldout: Ignoring 163 ( 0.5%) Users that have less than 1 test interactions\n",
      "EvaluatorHoldout: Processed 35573 (100.0%) in 42.80 sec. Users per second: 831\n",
      "Similarity column 38121 (100.0%), 2565.80 column/sec. Elapsed time 14.86 sec\n",
      "EvaluatorHoldout: Ignoring 150 ( 0.4%) Users that have less than 1 test interactions\n",
      "EvaluatorHoldout: Processed 35586 (100.0%) in 42.18 sec. Users per second: 844\n",
      "Similarity column 38121 (100.0%), 2567.84 column/sec. Elapsed time 14.85 sec\n",
      "EvaluatorHoldout: Ignoring 167 ( 0.5%) Users that have less than 1 test interactions\n",
      "EvaluatorHoldout: Processed 35569 (100.0%) in 42.51 sec. Users per second: 837\n",
      "Similarity column 38121 (100.0%), 2581.16 column/sec. Elapsed time 14.77 sec\n",
      "EvaluatorHoldout: Ignoring 172 ( 0.5%) Users that have less than 1 test interactions\n",
      "EvaluatorHoldout: Processed 35564 (100.0%) in 42.66 sec. Users per second: 834\n"
     ]
    },
    {
     "name": "stderr",
     "output_type": "stream",
     "text": [
      "[I 2025-01-05 21:43:17,819] Trial 451 finished with value: 0.04136819611249676 and parameters: {'similarity': 'tversky', 'topK': 408, 'shrink': 1, 'feature_weighting': 'none', 'tversky_alpha': 0.12861196014499535, 'tversky_beta': 1.8264175856050582}. Best is trial 439 with value: 0.05361580072200237.\n"
     ]
    },
    {
     "name": "stdout",
     "output_type": "stream",
     "text": [
      "Similarity column 38121 (100.0%), 2945.98 column/sec. Elapsed time 12.94 sec\n",
      "EvaluatorHoldout: Ignoring 173 ( 0.5%) Users that have less than 1 test interactions\n",
      "EvaluatorHoldout: Processed 35563 (100.0%) in 35.20 sec. Users per second: 1010\n",
      "Similarity column 38121 (100.0%), 2905.82 column/sec. Elapsed time 13.12 sec\n",
      "EvaluatorHoldout: Ignoring 163 ( 0.5%) Users that have less than 1 test interactions\n",
      "EvaluatorHoldout: Processed 35573 (100.0%) in 35.02 sec. Users per second: 1016\n",
      "Similarity column 38121 (100.0%), 2933.60 column/sec. Elapsed time 12.99 sec\n",
      "EvaluatorHoldout: Ignoring 150 ( 0.4%) Users that have less than 1 test interactions\n",
      "EvaluatorHoldout: Processed 35586 (100.0%) in 35.31 sec. Users per second: 1008\n",
      "Similarity column 38121 (100.0%), 2917.40 column/sec. Elapsed time 13.07 sec\n",
      "EvaluatorHoldout: Ignoring 167 ( 0.5%) Users that have less than 1 test interactions\n",
      "EvaluatorHoldout: Processed 35569 (100.0%) in 35.21 sec. Users per second: 1010\n",
      "Similarity column 38121 (100.0%), 2915.20 column/sec. Elapsed time 13.08 sec\n",
      "EvaluatorHoldout: Ignoring 172 ( 0.5%) Users that have less than 1 test interactions\n",
      "EvaluatorHoldout: Processed 35564 (100.0%) in 34.92 sec. Users per second: 1018\n"
     ]
    },
    {
     "name": "stderr",
     "output_type": "stream",
     "text": [
      "[I 2025-01-05 21:47:20,796] Trial 452 finished with value: 0.04771138846898006 and parameters: {'similarity': 'jaccard', 'topK': 40, 'shrink': 49, 'feature_weighting': 'none'}. Best is trial 439 with value: 0.05361580072200237.\n"
     ]
    },
    {
     "name": "stdout",
     "output_type": "stream",
     "text": [
      "Similarity column 38121 (100.0%), 2650.52 column/sec. Elapsed time 14.38 sec\n",
      "EvaluatorHoldout: Ignoring 173 ( 0.5%) Users that have less than 1 test interactions\n",
      "EvaluatorHoldout: Processed 35563 (100.0%) in 38.00 sec. Users per second: 936\n",
      "Similarity column 38121 (100.0%), 2667.75 column/sec. Elapsed time 14.29 sec\n",
      "EvaluatorHoldout: Ignoring 163 ( 0.5%) Users that have less than 1 test interactions\n",
      "EvaluatorHoldout: Processed 35573 (100.0%) in 37.48 sec. Users per second: 949\n",
      "Similarity column 38121 (100.0%), 2676.98 column/sec. Elapsed time 14.24 sec\n",
      "EvaluatorHoldout: Ignoring 150 ( 0.4%) Users that have less than 1 test interactions\n",
      "EvaluatorHoldout: Processed 35586 (100.0%) in 38.07 sec. Users per second: 935\n",
      "Similarity column 38121 (100.0%), 2635.52 column/sec. Elapsed time 14.46 sec\n",
      "EvaluatorHoldout: Ignoring 167 ( 0.5%) Users that have less than 1 test interactions\n",
      "EvaluatorHoldout: Processed 35569 (100.0%) in 37.97 sec. Users per second: 937\n",
      "Similarity column 38121 (100.0%), 2664.64 column/sec. Elapsed time 14.31 sec\n",
      "EvaluatorHoldout: Ignoring 172 ( 0.5%) Users that have less than 1 test interactions\n",
      "EvaluatorHoldout: Processed 35564 (100.0%) in 38.23 sec. Users per second: 930\n"
     ]
    },
    {
     "name": "stderr",
     "output_type": "stream",
     "text": [
      "[I 2025-01-05 21:51:44,568] Trial 453 finished with value: 0.03730757347010795 and parameters: {'similarity': 'tversky', 'topK': 59, 'shrink': 721, 'feature_weighting': 'none', 'tversky_alpha': 0.04108123581852871, 'tversky_beta': 1.8699129256784617}. Best is trial 439 with value: 0.05361580072200237.\n"
     ]
    },
    {
     "name": "stdout",
     "output_type": "stream",
     "text": [
      "Similarity column 38121 (100.0%), 2664.93 column/sec. Elapsed time 14.30 sec\n",
      "EvaluatorHoldout: Ignoring 173 ( 0.5%) Users that have less than 1 test interactions\n",
      "EvaluatorHoldout: Processed 35563 (100.0%) in 32.00 sec. Users per second: 1111\n",
      "Similarity column 38121 (100.0%), 2684.02 column/sec. Elapsed time 14.20 sec\n",
      "EvaluatorHoldout: Ignoring 163 ( 0.5%) Users that have less than 1 test interactions\n",
      "EvaluatorHoldout: Processed 35573 (100.0%) in 31.80 sec. Users per second: 1119\n",
      "Similarity column 38121 (100.0%), 2688.27 column/sec. Elapsed time 14.18 sec\n",
      "EvaluatorHoldout: Ignoring 150 ( 0.4%) Users that have less than 1 test interactions\n",
      "EvaluatorHoldout: Processed 35586 (100.0%) in 32.00 sec. Users per second: 1112\n",
      "Similarity column 38121 (100.0%), 2653.73 column/sec. Elapsed time 14.37 sec\n",
      "EvaluatorHoldout: Ignoring 167 ( 0.5%) Users that have less than 1 test interactions\n",
      "EvaluatorHoldout: Processed 35569 (100.0%) in 31.72 sec. Users per second: 1121\n",
      "Similarity column 38121 (100.0%), 2664.60 column/sec. Elapsed time 14.31 sec\n",
      "EvaluatorHoldout: Ignoring 172 ( 0.5%) Users that have less than 1 test interactions\n",
      "EvaluatorHoldout: Processed 35564 (100.0%) in 32.12 sec. Users per second: 1107\n"
     ]
    },
    {
     "name": "stderr",
     "output_type": "stream",
     "text": [
      "[I 2025-01-05 21:55:37,545] Trial 454 finished with value: 0.05193540120163074 and parameters: {'similarity': 'tversky', 'topK': 11, 'shrink': 76, 'feature_weighting': 'none', 'tversky_alpha': 0.20450952346815468, 'tversky_beta': 1.9222995766545299}. Best is trial 439 with value: 0.05361580072200237.\n"
     ]
    },
    {
     "name": "stdout",
     "output_type": "stream",
     "text": [
      "Similarity column 38121 (100.0%), 2664.93 column/sec. Elapsed time 14.30 sec\n",
      "EvaluatorHoldout: Ignoring 173 ( 0.5%) Users that have less than 1 test interactions\n",
      "EvaluatorHoldout: Processed 35563 (100.0%) in 32.56 sec. Users per second: 1092\n",
      "Similarity column 38121 (100.0%), 2654.38 column/sec. Elapsed time 14.36 sec\n",
      "EvaluatorHoldout: Ignoring 163 ( 0.5%) Users that have less than 1 test interactions\n",
      "EvaluatorHoldout: Processed 35573 (100.0%) in 32.75 sec. Users per second: 1086\n",
      "Similarity column 38121 (100.0%), 2667.94 column/sec. Elapsed time 14.29 sec\n",
      "EvaluatorHoldout: Ignoring 150 ( 0.4%) Users that have less than 1 test interactions\n",
      "EvaluatorHoldout: Processed 35586 (100.0%) in 32.90 sec. Users per second: 1082\n",
      "Similarity column 38121 (100.0%), 2660.40 column/sec. Elapsed time 14.33 sec\n",
      "EvaluatorHoldout: Ignoring 167 ( 0.5%) Users that have less than 1 test interactions\n",
      "EvaluatorHoldout: Processed 35569 (100.0%) in 33.00 sec. Users per second: 1078\n",
      "Similarity column 38121 (100.0%), 2636.67 column/sec. Elapsed time 14.46 sec\n",
      "EvaluatorHoldout: Ignoring 172 ( 0.5%) Users that have less than 1 test interactions\n",
      "EvaluatorHoldout: Processed 35564 (100.0%) in 32.59 sec. Users per second: 1091\n"
     ]
    },
    {
     "name": "stderr",
     "output_type": "stream",
     "text": [
      "[I 2025-01-05 21:59:35,155] Trial 455 finished with value: 0.05150349128656599 and parameters: {'similarity': 'tversky', 'topK': 26, 'shrink': 19, 'feature_weighting': 'none', 'tversky_alpha': 0.0988760933652679, 'tversky_beta': 1.9565427684719519}. Best is trial 439 with value: 0.05361580072200237.\n"
     ]
    },
    {
     "name": "stdout",
     "output_type": "stream",
     "text": [
      "Similarity column 38121 (100.0%), 3360.52 column/sec. Elapsed time 11.34 sec\n",
      "EvaluatorHoldout: Ignoring 173 ( 0.5%) Users that have less than 1 test interactions\n",
      "EvaluatorHoldout: Processed 35563 (100.0%) in 25.29 sec. Users per second: 1406\n",
      "Similarity column 38121 (100.0%), 3456.78 column/sec. Elapsed time 11.03 sec\n",
      "EvaluatorHoldout: Ignoring 163 ( 0.5%) Users that have less than 1 test interactions\n",
      "EvaluatorHoldout: Processed 35573 (100.0%) in 25.48 sec. Users per second: 1396\n",
      "Similarity column 38121 (100.0%), 3487.73 column/sec. Elapsed time 10.93 sec\n",
      "EvaluatorHoldout: Ignoring 150 ( 0.4%) Users that have less than 1 test interactions\n",
      "EvaluatorHoldout: Processed 35586 (100.0%) in 25.22 sec. Users per second: 1411\n",
      "Similarity column 38121 (100.0%), 3422.96 column/sec. Elapsed time 11.14 sec\n",
      "EvaluatorHoldout: Ignoring 167 ( 0.5%) Users that have less than 1 test interactions\n",
      "EvaluatorHoldout: Processed 35569 (100.0%) in 25.39 sec. Users per second: 1401\n",
      "Similarity column 38121 (100.0%), 3454.77 column/sec. Elapsed time 11.03 sec\n",
      "EvaluatorHoldout: Ignoring 172 ( 0.5%) Users that have less than 1 test interactions\n",
      "EvaluatorHoldout: Processed 35564 (100.0%) in 25.45 sec. Users per second: 1397\n"
     ]
    },
    {
     "name": "stderr",
     "output_type": "stream",
     "text": [
      "[I 2025-01-05 22:02:39,316] Trial 456 finished with value: 0.0002664826418719655 and parameters: {'similarity': 'tversky', 'topK': 0, 'shrink': 32, 'feature_weighting': 'none', 'tversky_alpha': 0.036461709032877834, 'tversky_beta': 1.8367813062000207}. Best is trial 439 with value: 0.05361580072200237.\n"
     ]
    },
    {
     "name": "stdout",
     "output_type": "stream",
     "text": [
      "Similarity column 38121 (100.0%), 2629.00 column/sec. Elapsed time 14.50 sec\n",
      "EvaluatorHoldout: Ignoring 173 ( 0.5%) Users that have less than 1 test interactions\n",
      "EvaluatorHoldout: Processed 35563 (100.0%) in 34.10 sec. Users per second: 1043\n",
      "Similarity column 38121 (100.0%), 2641.05 column/sec. Elapsed time 14.43 sec\n",
      "EvaluatorHoldout: Ignoring 163 ( 0.5%) Users that have less than 1 test interactions\n",
      "EvaluatorHoldout: Processed 35573 (100.0%) in 34.07 sec. Users per second: 1044\n",
      "Similarity column 38121 (100.0%), 2655.04 column/sec. Elapsed time 14.36 sec\n",
      "EvaluatorHoldout: Ignoring 150 ( 0.4%) Users that have less than 1 test interactions\n",
      "EvaluatorHoldout: Processed 35586 (100.0%) in 34.05 sec. Users per second: 1045\n",
      "Similarity column 38121 (100.0%), 2680.42 column/sec. Elapsed time 14.22 sec\n",
      "EvaluatorHoldout: Ignoring 167 ( 0.5%) Users that have less than 1 test interactions\n",
      "EvaluatorHoldout: Processed 35569 (100.0%) in 34.31 sec. Users per second: 1037\n",
      "Similarity column 38121 (100.0%), 2603.04 column/sec. Elapsed time 14.64 sec\n",
      "EvaluatorHoldout: Ignoring 172 ( 0.5%) Users that have less than 1 test interactions\n",
      "EvaluatorHoldout: Processed 35564 (100.0%) in 33.98 sec. Users per second: 1047\n"
     ]
    },
    {
     "name": "stderr",
     "output_type": "stream",
     "text": [
      "[I 2025-01-05 22:06:44,192] Trial 457 finished with value: 0.048856619574973156 and parameters: {'similarity': 'tversky', 'topK': 37, 'shrink': 54, 'feature_weighting': 'none', 'tversky_alpha': 0.1505409403786204, 'tversky_beta': 1.8992011381125955}. Best is trial 439 with value: 0.05361580072200237.\n"
     ]
    },
    {
     "name": "stdout",
     "output_type": "stream",
     "text": [
      "Similarity column 38121 (100.0%), 2690.19 column/sec. Elapsed time 14.17 sec\n",
      "EvaluatorHoldout: Ignoring 173 ( 0.5%) Users that have less than 1 test interactions\n",
      "EvaluatorHoldout: Processed 35563 (100.0%) in 30.92 sec. Users per second: 1150\n",
      "Similarity column 38121 (100.0%), 2670.64 column/sec. Elapsed time 14.27 sec\n",
      "EvaluatorHoldout: Ignoring 163 ( 0.5%) Users that have less than 1 test interactions\n",
      "EvaluatorHoldout: Processed 35573 (100.0%) in 30.92 sec. Users per second: 1150\n",
      "Similarity column 38121 (100.0%), 2696.78 column/sec. Elapsed time 14.14 sec\n",
      "EvaluatorHoldout: Ignoring 150 ( 0.4%) Users that have less than 1 test interactions\n",
      "EvaluatorHoldout: Processed 35586 (100.0%) in 31.19 sec. Users per second: 1141\n",
      "Similarity column 38121 (100.0%), 2701.95 column/sec. Elapsed time 14.11 sec\n",
      "EvaluatorHoldout: Ignoring 167 ( 0.5%) Users that have less than 1 test interactions\n",
      "EvaluatorHoldout: Processed 35569 (100.0%) in 30.96 sec. Users per second: 1149\n",
      "Similarity column 38121 (100.0%), 2675.20 column/sec. Elapsed time 14.25 sec\n",
      "EvaluatorHoldout: Ignoring 172 ( 0.5%) Users that have less than 1 test interactions\n",
      "EvaluatorHoldout: Processed 35564 (100.0%) in 31.33 sec. Users per second: 1135\n"
     ]
    },
    {
     "name": "stderr",
     "output_type": "stream",
     "text": [
      "[I 2025-01-05 22:10:32,427] Trial 458 finished with value: 0.05246490079806654 and parameters: {'similarity': 'tversky', 'topK': 13, 'shrink': 0, 'feature_weighting': 'none', 'tversky_alpha': 0.0703861203996268, 'tversky_beta': 1.8700684308963245}. Best is trial 439 with value: 0.05361580072200237.\n"
     ]
    },
    {
     "name": "stdout",
     "output_type": "stream",
     "text": [
      "Similarity column 38121 (100.0%), 489.73 column/sec. Elapsed time 1.30 min\n",
      "EvaluatorHoldout: Ignoring 173 ( 0.5%) Users that have less than 1 test interactions\n",
      "EvaluatorHoldout: Processed 35563 (100.0%) in 33.41 sec. Users per second: 1064\n",
      "Similarity column 38121 (100.0%), 493.10 column/sec. Elapsed time 1.29 min\n",
      "EvaluatorHoldout: Ignoring 163 ( 0.5%) Users that have less than 1 test interactions\n",
      "EvaluatorHoldout: Processed 35573 (100.0%) in 33.62 sec. Users per second: 1058\n",
      "Similarity column 38121 (100.0%), 478.95 column/sec. Elapsed time 1.33 min\n",
      "EvaluatorHoldout: Ignoring 150 ( 0.4%) Users that have less than 1 test interactions\n",
      "EvaluatorHoldout: Processed 35586 (100.0%) in 34.93 sec. Users per second: 1019\n",
      "Similarity column 38121 (100.0%), 490.06 column/sec. Elapsed time 1.30 min\n",
      "EvaluatorHoldout: Ignoring 167 ( 0.5%) Users that have less than 1 test interactions\n",
      "EvaluatorHoldout: Processed 35569 (100.0%) in 33.32 sec. Users per second: 1067\n",
      "Similarity column 38121 (100.0%), 484.49 column/sec. Elapsed time 1.31 min\n",
      "EvaluatorHoldout: Ignoring 172 ( 0.5%) Users that have less than 1 test interactions\n",
      "EvaluatorHoldout: Processed 35564 (100.0%) in 33.92 sec. Users per second: 1049\n"
     ]
    },
    {
     "name": "stderr",
     "output_type": "stream",
     "text": [
      "[I 2025-01-05 22:19:53,678] Trial 459 finished with value: 0.0363869049531436 and parameters: {'similarity': 'euclidean', 'topK': 23, 'shrink': 941, 'feature_weighting': 'none', 'normalize_avg_row': True, 'similarity_from_distance_mode': 'lin', 'normalize': True}. Best is trial 439 with value: 0.05361580072200237.\n"
     ]
    },
    {
     "name": "stdout",
     "output_type": "stream",
     "text": [
      "Similarity column 38121 (100.0%), 3066.56 column/sec. Elapsed time 12.43 sec\n",
      "EvaluatorHoldout: Ignoring 173 ( 0.5%) Users that have less than 1 test interactions\n",
      "EvaluatorHoldout: Processed 35563 (100.0%) in 29.04 sec. Users per second: 1224\n",
      "Similarity column 38121 (100.0%), 3123.91 column/sec. Elapsed time 12.20 sec\n",
      "EvaluatorHoldout: Ignoring 163 ( 0.5%) Users that have less than 1 test interactions\n",
      "EvaluatorHoldout: Processed 35573 (100.0%) in 28.46 sec. Users per second: 1250\n",
      "Similarity column 38121 (100.0%), 3143.39 column/sec. Elapsed time 12.13 sec\n",
      "EvaluatorHoldout: Ignoring 150 ( 0.4%) Users that have less than 1 test interactions\n",
      "EvaluatorHoldout: Processed 35586 (100.0%) in 29.28 sec. Users per second: 1215\n",
      "Similarity column 38121 (100.0%), 3106.99 column/sec. Elapsed time 12.27 sec\n",
      "EvaluatorHoldout: Ignoring 167 ( 0.5%) Users that have less than 1 test interactions\n",
      "EvaluatorHoldout: Processed 35569 (100.0%) in 28.31 sec. Users per second: 1256\n",
      "Similarity column 38121 (100.0%), 3111.37 column/sec. Elapsed time 12.25 sec\n",
      "EvaluatorHoldout: Ignoring 172 ( 0.5%) Users that have less than 1 test interactions\n",
      "EvaluatorHoldout: Processed 35564 (100.0%) in 28.85 sec. Users per second: 1233\n"
     ]
    },
    {
     "name": "stderr",
     "output_type": "stream",
     "text": [
      "[I 2025-01-05 22:23:20,980] Trial 460 finished with value: 0.04630766305991406 and parameters: {'similarity': 'tversky', 'topK': 1, 'shrink': 31, 'feature_weighting': 'none', 'tversky_alpha': 0.029595133177685612, 'tversky_beta': 1.8159381214790526}. Best is trial 439 with value: 0.05361580072200237.\n"
     ]
    },
    {
     "name": "stdout",
     "output_type": "stream",
     "text": [
      "Similarity column 38121 (100.0%), 2578.08 column/sec. Elapsed time 14.79 sec\n",
      "EvaluatorHoldout: Ignoring 173 ( 0.5%) Users that have less than 1 test interactions\n",
      "EvaluatorHoldout: Processed 35563 (100.0%) in 35.46 sec. Users per second: 1003\n",
      "Similarity column 38121 (100.0%), 2636.84 column/sec. Elapsed time 14.46 sec\n",
      "EvaluatorHoldout: Ignoring 163 ( 0.5%) Users that have less than 1 test interactions\n",
      "EvaluatorHoldout: Processed 35573 (100.0%) in 35.23 sec. Users per second: 1010\n",
      "Similarity column 38121 (100.0%), 2636.65 column/sec. Elapsed time 14.46 sec\n",
      "EvaluatorHoldout: Ignoring 150 ( 0.4%) Users that have less than 1 test interactions\n",
      "EvaluatorHoldout: Processed 35586 (100.0%) in 34.91 sec. Users per second: 1020\n",
      "Similarity column 38121 (100.0%), 2690.84 column/sec. Elapsed time 14.17 sec\n",
      "EvaluatorHoldout: Ignoring 167 ( 0.5%) Users that have less than 1 test interactions\n",
      "EvaluatorHoldout: Processed 35569 (100.0%) in 35.58 sec. Users per second: 1000\n",
      "Similarity column 38121 (100.0%), 2664.29 column/sec. Elapsed time 14.31 sec\n",
      "EvaluatorHoldout: Ignoring 172 ( 0.5%) Users that have less than 1 test interactions\n",
      "EvaluatorHoldout: Processed 35564 (100.0%) in 34.93 sec. Users per second: 1018\n"
     ]
    },
    {
     "name": "stderr",
     "output_type": "stream",
     "text": [
      "[I 2025-01-05 22:27:31,474] Trial 461 finished with value: 0.048542913410308586 and parameters: {'similarity': 'tversky', 'topK': 35, 'shrink': 66, 'feature_weighting': 'none', 'tversky_alpha': 1.833454249130659, 'tversky_beta': 1.785009578122571}. Best is trial 439 with value: 0.05361580072200237.\n"
     ]
    },
    {
     "name": "stdout",
     "output_type": "stream",
     "text": [
      "Similarity column 38121 (100.0%), 3016.21 column/sec. Elapsed time 12.64 sec\n",
      "EvaluatorHoldout: Ignoring 173 ( 0.5%) Users that have less than 1 test interactions\n",
      "EvaluatorHoldout: Processed 35563 (100.0%) in 33.95 sec. Users per second: 1047\n",
      "Similarity column 38121 (100.0%), 2984.82 column/sec. Elapsed time 12.77 sec\n",
      "EvaluatorHoldout: Ignoring 163 ( 0.5%) Users that have less than 1 test interactions\n",
      "EvaluatorHoldout: Processed 35573 (100.0%) in 33.90 sec. Users per second: 1049\n",
      "Similarity column 38121 (100.0%), 3027.96 column/sec. Elapsed time 12.59 sec\n",
      "EvaluatorHoldout: Ignoring 150 ( 0.4%) Users that have less than 1 test interactions\n",
      "EvaluatorHoldout: Processed 35586 (100.0%) in 33.96 sec. Users per second: 1048\n",
      "Similarity column 38121 (100.0%), 2958.26 column/sec. Elapsed time 12.89 sec\n",
      "EvaluatorHoldout: Ignoring 167 ( 0.5%) Users that have less than 1 test interactions\n",
      "EvaluatorHoldout: Processed 35569 (100.0%) in 34.21 sec. Users per second: 1040\n",
      "Similarity column 38121 (100.0%), 3006.71 column/sec. Elapsed time 12.68 sec\n",
      "EvaluatorHoldout: Ignoring 172 ( 0.5%) Users that have less than 1 test interactions\n",
      "EvaluatorHoldout: Processed 35564 (100.0%) in 33.83 sec. Users per second: 1051\n"
     ]
    },
    {
     "name": "stderr",
     "output_type": "stream",
     "text": [
      "[I 2025-01-05 22:31:26,828] Trial 462 finished with value: 0.043000346902693824 and parameters: {'similarity': 'dice', 'topK': 14, 'shrink': 406, 'feature_weighting': 'none'}. Best is trial 439 with value: 0.05361580072200237.\n"
     ]
    },
    {
     "name": "stdout",
     "output_type": "stream",
     "text": [
      "Similarity column 38121 (100.0%), 3393.35 column/sec. Elapsed time 11.23 sec\n",
      "EvaluatorHoldout: Ignoring 173 ( 0.5%) Users that have less than 1 test interactions\n",
      "EvaluatorHoldout: Processed 35563 (100.0%) in 25.97 sec. Users per second: 1370\n",
      "Similarity column 38121 (100.0%), 3408.22 column/sec. Elapsed time 11.19 sec\n",
      "EvaluatorHoldout: Ignoring 163 ( 0.5%) Users that have less than 1 test interactions\n",
      "EvaluatorHoldout: Processed 35573 (100.0%) in 26.88 sec. Users per second: 1324\n",
      "Similarity column 38121 (100.0%), 3300.40 column/sec. Elapsed time 11.55 sec\n",
      "EvaluatorHoldout: Ignoring 150 ( 0.4%) Users that have less than 1 test interactions\n",
      "EvaluatorHoldout: Processed 35586 (100.0%) in 26.07 sec. Users per second: 1365\n",
      "Similarity column 38121 (100.0%), 3452.05 column/sec. Elapsed time 11.04 sec\n",
      "EvaluatorHoldout: Ignoring 167 ( 0.5%) Users that have less than 1 test interactions\n",
      "EvaluatorHoldout: Processed 35569 (100.0%) in 25.29 sec. Users per second: 1407\n",
      "Similarity column 38121 (100.0%), 3457.19 column/sec. Elapsed time 11.03 sec\n",
      "EvaluatorHoldout: Ignoring 172 ( 0.5%) Users that have less than 1 test interactions\n",
      "EvaluatorHoldout: Processed 35564 (100.0%) in 25.93 sec. Users per second: 1372\n"
     ]
    },
    {
     "name": "stderr",
     "output_type": "stream",
     "text": [
      "[I 2025-01-05 22:34:35,017] Trial 463 finished with value: 0.0002664826418719655 and parameters: {'similarity': 'tversky', 'topK': 0, 'shrink': 16, 'feature_weighting': 'none', 'tversky_alpha': 0.0021279010349921357, 'tversky_beta': 1.9654122863579357}. Best is trial 439 with value: 0.05361580072200237.\n"
     ]
    },
    {
     "name": "stdout",
     "output_type": "stream",
     "text": [
      "Similarity column 38121 (100.0%), 2665.79 column/sec. Elapsed time 14.30 sec\n",
      "EvaluatorHoldout: Ignoring 173 ( 0.5%) Users that have less than 1 test interactions\n",
      "EvaluatorHoldout: Processed 35563 (100.0%) in 34.48 sec. Users per second: 1031\n",
      "Similarity column 38121 (100.0%), 2675.74 column/sec. Elapsed time 14.25 sec\n",
      "EvaluatorHoldout: Ignoring 163 ( 0.5%) Users that have less than 1 test interactions\n",
      "EvaluatorHoldout: Processed 35573 (100.0%) in 34.77 sec. Users per second: 1023\n",
      "Similarity column 38121 (100.0%), 2643.48 column/sec. Elapsed time 14.42 sec\n",
      "EvaluatorHoldout: Ignoring 150 ( 0.4%) Users that have less than 1 test interactions\n",
      "EvaluatorHoldout: Processed 35586 (100.0%) in 35.13 sec. Users per second: 1013\n",
      "Similarity column 38121 (100.0%), 2679.39 column/sec. Elapsed time 14.23 sec\n",
      "EvaluatorHoldout: Ignoring 167 ( 0.5%) Users that have less than 1 test interactions\n",
      "EvaluatorHoldout: Processed 35569 (100.0%) in 34.73 sec. Users per second: 1024\n",
      "Similarity column 38121 (100.0%), 2582.11 column/sec. Elapsed time 14.76 sec\n",
      "EvaluatorHoldout: Ignoring 172 ( 0.5%) Users that have less than 1 test interactions\n",
      "EvaluatorHoldout: Processed 35564 (100.0%) in 34.87 sec. Users per second: 1020\n"
     ]
    },
    {
     "name": "stderr",
     "output_type": "stream",
     "text": [
      "[I 2025-01-05 22:38:43,220] Trial 464 finished with value: 0.047971350034539915 and parameters: {'similarity': 'tversky', 'topK': 50, 'shrink': 47, 'feature_weighting': 'none', 'tversky_alpha': 0.11092494592348881, 'tversky_beta': 1.9214129104083997}. Best is trial 439 with value: 0.05361580072200237.\n"
     ]
    },
    {
     "name": "stdout",
     "output_type": "stream",
     "text": [
      "Similarity column 38121 (100.0%), 2696.24 column/sec. Elapsed time 14.14 sec\n",
      "EvaluatorHoldout: Ignoring 173 ( 0.5%) Users that have less than 1 test interactions\n",
      "EvaluatorHoldout: Processed 35563 (100.0%) in 32.65 sec. Users per second: 1089\n",
      "Similarity column 38121 (100.0%), 2674.22 column/sec. Elapsed time 14.25 sec\n",
      "EvaluatorHoldout: Ignoring 163 ( 0.5%) Users that have less than 1 test interactions\n",
      "EvaluatorHoldout: Processed 35573 (100.0%) in 34.02 sec. Users per second: 1046\n",
      "Similarity column 38121 (100.0%), 2652.11 column/sec. Elapsed time 14.37 sec\n",
      "EvaluatorHoldout: Ignoring 150 ( 0.4%) Users that have less than 1 test interactions\n",
      "EvaluatorHoldout: Processed 35586 (100.0%) in 33.24 sec. Users per second: 1070\n",
      "Similarity column 38121 (100.0%), 2667.10 column/sec. Elapsed time 14.29 sec\n",
      "EvaluatorHoldout: Ignoring 167 ( 0.5%) Users that have less than 1 test interactions\n",
      "EvaluatorHoldout: Processed 35569 (100.0%) in 32.91 sec. Users per second: 1081\n",
      "Similarity column 38121 (100.0%), 2628.69 column/sec. Elapsed time 14.50 sec\n",
      "EvaluatorHoldout: Ignoring 172 ( 0.5%) Users that have less than 1 test interactions\n",
      "EvaluatorHoldout: Processed 35564 (100.0%) in 33.21 sec. Users per second: 1071\n"
     ]
    },
    {
     "name": "stderr",
     "output_type": "stream",
     "text": [
      "[I 2025-01-05 22:42:42,943] Trial 465 finished with value: 0.0512365339248295 and parameters: {'similarity': 'tversky', 'topK': 24, 'shrink': 32, 'feature_weighting': 'none', 'tversky_alpha': 0.06756444265412755, 'tversky_beta': 1.8641922601697625}. Best is trial 439 with value: 0.05361580072200237.\n"
     ]
    },
    {
     "name": "stdout",
     "output_type": "stream",
     "text": [
      "Similarity column 38121 (100.0%), 2644.03 column/sec. Elapsed time 14.42 sec\n",
      "EvaluatorHoldout: Ignoring 173 ( 0.5%) Users that have less than 1 test interactions\n",
      "EvaluatorHoldout: Processed 35563 (100.0%) in 36.94 sec. Users per second: 963\n",
      "Similarity column 38121 (100.0%), 2594.56 column/sec. Elapsed time 14.69 sec\n",
      "EvaluatorHoldout: Ignoring 163 ( 0.5%) Users that have less than 1 test interactions\n",
      "EvaluatorHoldout: Processed 35573 (100.0%) in 37.03 sec. Users per second: 961\n",
      "Similarity column 38121 (100.0%), 2664.05 column/sec. Elapsed time 14.31 sec\n",
      "EvaluatorHoldout: Ignoring 150 ( 0.4%) Users that have less than 1 test interactions\n",
      "EvaluatorHoldout: Processed 35586 (100.0%) in 36.54 sec. Users per second: 974\n",
      "Similarity column 38121 (100.0%), 2559.95 column/sec. Elapsed time 14.89 sec\n",
      "EvaluatorHoldout: Ignoring 167 ( 0.5%) Users that have less than 1 test interactions\n",
      "EvaluatorHoldout: Processed 35569 (100.0%) in 36.86 sec. Users per second: 965\n",
      "Similarity column 38121 (100.0%), 2635.49 column/sec. Elapsed time 14.46 sec\n",
      "EvaluatorHoldout: Ignoring 172 ( 0.5%) Users that have less than 1 test interactions\n",
      "EvaluatorHoldout: Processed 35564 (100.0%) in 36.16 sec. Users per second: 983\n"
     ]
    },
    {
     "name": "stderr",
     "output_type": "stream",
     "text": [
      "[I 2025-01-05 22:47:02,266] Trial 466 finished with value: 0.0471130480974944 and parameters: {'similarity': 'tversky', 'topK': 68, 'shrink': 93, 'feature_weighting': 'BM25', 'tversky_alpha': 0.09929990385269327, 'tversky_beta': 1.8993779794272034}. Best is trial 439 with value: 0.05361580072200237.\n"
     ]
    },
    {
     "name": "stdout",
     "output_type": "stream",
     "text": [
      "Similarity column 38121 (100.0%), 2693.14 column/sec. Elapsed time 14.15 sec\n",
      "EvaluatorHoldout: Ignoring 173 ( 0.5%) Users that have less than 1 test interactions\n",
      "EvaluatorHoldout: Processed 35563 (100.0%) in 31.11 sec. Users per second: 1143\n",
      "Similarity column 38121 (100.0%), 2683.26 column/sec. Elapsed time 14.21 sec\n",
      "EvaluatorHoldout: Ignoring 163 ( 0.5%) Users that have less than 1 test interactions\n",
      "EvaluatorHoldout: Processed 35573 (100.0%) in 31.23 sec. Users per second: 1139\n",
      "Similarity column 38121 (100.0%), 2663.06 column/sec. Elapsed time 14.31 sec\n",
      "EvaluatorHoldout: Ignoring 150 ( 0.4%) Users that have less than 1 test interactions\n",
      "EvaluatorHoldout: Processed 35586 (100.0%) in 31.15 sec. Users per second: 1143\n",
      "Similarity column 38121 (100.0%), 2698.34 column/sec. Elapsed time 14.13 sec\n",
      "EvaluatorHoldout: Ignoring 167 ( 0.5%) Users that have less than 1 test interactions\n",
      "EvaluatorHoldout: Processed 35569 (100.0%) in 31.14 sec. Users per second: 1142\n",
      "Similarity column 38121 (100.0%), 2661.58 column/sec. Elapsed time 14.32 sec\n",
      "EvaluatorHoldout: Ignoring 172 ( 0.5%) Users that have less than 1 test interactions\n",
      "EvaluatorHoldout: Processed 35564 (100.0%) in 31.29 sec. Users per second: 1137\n"
     ]
    },
    {
     "name": "stderr",
     "output_type": "stream",
     "text": [
      "[I 2025-01-05 22:50:51,246] Trial 467 finished with value: 0.05180599886021879 and parameters: {'similarity': 'tversky', 'topK': 15, 'shrink': 0, 'feature_weighting': 'none', 'tversky_alpha': 0.03671026729547862, 'tversky_beta': 1.9966901479781076}. Best is trial 439 with value: 0.05361580072200237.\n"
     ]
    },
    {
     "name": "stdout",
     "output_type": "stream",
     "text": [
      "Similarity column 38121 (100.0%), 2693.38 column/sec. Elapsed time 14.15 sec\n",
      "EvaluatorHoldout: Ignoring 173 ( 0.5%) Users that have less than 1 test interactions\n",
      "EvaluatorHoldout: Processed 35563 (100.0%) in 34.18 sec. Users per second: 1040\n",
      "Similarity column 38121 (100.0%), 2618.74 column/sec. Elapsed time 14.56 sec\n",
      "EvaluatorHoldout: Ignoring 163 ( 0.5%) Users that have less than 1 test interactions\n",
      "EvaluatorHoldout: Processed 35573 (100.0%) in 34.87 sec. Users per second: 1020\n",
      "Similarity column 38121 (100.0%), 2679.03 column/sec. Elapsed time 14.23 sec\n",
      "EvaluatorHoldout: Ignoring 150 ( 0.4%) Users that have less than 1 test interactions\n",
      "EvaluatorHoldout: Processed 35586 (100.0%) in 34.54 sec. Users per second: 1030\n",
      "Similarity column 38121 (100.0%), 2644.79 column/sec. Elapsed time 14.41 sec\n",
      "EvaluatorHoldout: Ignoring 167 ( 0.5%) Users that have less than 1 test interactions\n",
      "EvaluatorHoldout: Processed 35569 (100.0%) in 34.65 sec. Users per second: 1027\n",
      "Similarity column 38121 (100.0%), 2650.62 column/sec. Elapsed time 14.38 sec\n",
      "EvaluatorHoldout: Ignoring 172 ( 0.5%) Users that have less than 1 test interactions\n",
      "EvaluatorHoldout: Processed 35564 (100.0%) in 34.30 sec. Users per second: 1037\n"
     ]
    },
    {
     "name": "stderr",
     "output_type": "stream",
     "text": [
      "[I 2025-01-05 22:54:57,659] Trial 468 finished with value: 0.04794928076435541 and parameters: {'similarity': 'tversky', 'topK': 37, 'shrink': 50, 'feature_weighting': 'none', 'tversky_alpha': 0.15004218825428334, 'tversky_beta': 1.2951411865201274}. Best is trial 439 with value: 0.05361580072200237.\n"
     ]
    },
    {
     "name": "stdout",
     "output_type": "stream",
     "text": [
      "Similarity column 38121 (100.0%), 2687.64 column/sec. Elapsed time 14.18 sec\n",
      "EvaluatorHoldout: Ignoring 173 ( 0.5%) Users that have less than 1 test interactions\n",
      "EvaluatorHoldout: Processed 35563 (100.0%) in 32.47 sec. Users per second: 1095\n",
      "Similarity column 38121 (100.0%), 2678.80 column/sec. Elapsed time 14.23 sec\n",
      "EvaluatorHoldout: Ignoring 163 ( 0.5%) Users that have less than 1 test interactions\n",
      "EvaluatorHoldout: Processed 35573 (100.0%) in 32.43 sec. Users per second: 1097\n",
      "Similarity column 38121 (100.0%), 2683.35 column/sec. Elapsed time 14.21 sec\n",
      "EvaluatorHoldout: Ignoring 150 ( 0.4%) Users that have less than 1 test interactions\n",
      "EvaluatorHoldout: Processed 35586 (100.0%) in 32.81 sec. Users per second: 1085\n",
      "Similarity column 38121 (100.0%), 2596.95 column/sec. Elapsed time 14.68 sec\n",
      "EvaluatorHoldout: Ignoring 167 ( 0.5%) Users that have less than 1 test interactions\n",
      "EvaluatorHoldout: Processed 35569 (100.0%) in 33.40 sec. Users per second: 1065\n",
      "Similarity column 38121 (100.0%), 2618.77 column/sec. Elapsed time 14.56 sec\n",
      "EvaluatorHoldout: Ignoring 172 ( 0.5%) Users that have less than 1 test interactions\n",
      "EvaluatorHoldout: Processed 35564 (100.0%) in 33.10 sec. Users per second: 1075\n"
     ]
    },
    {
     "name": "stderr",
     "output_type": "stream",
     "text": [
      "[I 2025-01-05 22:58:55,763] Trial 469 finished with value: 0.04922496437467692 and parameters: {'similarity': 'tversky', 'topK': 14, 'shrink': 20, 'feature_weighting': 'none', 'tversky_alpha': 0.0004527682666222582, 'tversky_beta': 0.35562614445326446}. Best is trial 439 with value: 0.05361580072200237.\n"
     ]
    },
    {
     "name": "stdout",
     "output_type": "stream",
     "text": [
      "Similarity column 38121 (100.0%), 2683.26 column/sec. Elapsed time 14.21 sec\n",
      "EvaluatorHoldout: Ignoring 173 ( 0.5%) Users that have less than 1 test interactions\n",
      "EvaluatorHoldout: Processed 35563 (100.0%) in 36.22 sec. Users per second: 982\n",
      "Similarity column 38121 (100.0%), 2646.33 column/sec. Elapsed time 14.41 sec\n",
      "EvaluatorHoldout: Ignoring 163 ( 0.5%) Users that have less than 1 test interactions\n",
      "EvaluatorHoldout: Processed 35573 (100.0%) in 36.64 sec. Users per second: 971\n",
      "Similarity column 38121 (100.0%), 2664.88 column/sec. Elapsed time 14.30 sec\n",
      "EvaluatorHoldout: Ignoring 150 ( 0.4%) Users that have less than 1 test interactions\n",
      "EvaluatorHoldout: Processed 35586 (100.0%) in 36.54 sec. Users per second: 974\n",
      "Similarity column 38121 (100.0%), 2591.55 column/sec. Elapsed time 14.71 sec\n",
      "EvaluatorHoldout: Ignoring 167 ( 0.5%) Users that have less than 1 test interactions\n",
      "EvaluatorHoldout: Processed 35569 (100.0%) in 36.23 sec. Users per second: 982\n",
      "Similarity column 38121 (100.0%), 2642.39 column/sec. Elapsed time 14.43 sec\n",
      "EvaluatorHoldout: Ignoring 172 ( 0.5%) Users that have less than 1 test interactions\n",
      "EvaluatorHoldout: Processed 35564 (100.0%) in 36.54 sec. Users per second: 973\n"
     ]
    },
    {
     "name": "stderr",
     "output_type": "stream",
     "text": [
      "[I 2025-01-05 23:03:12,109] Trial 470 finished with value: 0.03877750455160117 and parameters: {'similarity': 'tversky', 'topK': 28, 'shrink': 848, 'feature_weighting': 'none', 'tversky_alpha': 0.06349752398729003, 'tversky_beta': 1.8360114888974937}. Best is trial 439 with value: 0.05361580072200237.\n"
     ]
    },
    {
     "name": "stdout",
     "output_type": "stream",
     "text": [
      "Similarity column 38121 (100.0%), 2624.73 column/sec. Elapsed time 14.52 sec\n",
      "EvaluatorHoldout: Ignoring 173 ( 0.5%) Users that have less than 1 test interactions\n",
      "EvaluatorHoldout: Processed 35563 (100.0%) in 35.67 sec. Users per second: 997\n",
      "Similarity column 38121 (100.0%), 2662.62 column/sec. Elapsed time 14.32 sec\n",
      "EvaluatorHoldout: Ignoring 163 ( 0.5%) Users that have less than 1 test interactions\n",
      "EvaluatorHoldout: Processed 35573 (100.0%) in 35.56 sec. Users per second: 1000\n",
      "Similarity column 38121 (100.0%), 2646.86 column/sec. Elapsed time 14.40 sec\n",
      "EvaluatorHoldout: Ignoring 150 ( 0.4%) Users that have less than 1 test interactions\n",
      "EvaluatorHoldout: Processed 35586 (100.0%) in 35.43 sec. Users per second: 1005\n",
      "Similarity column 38121 (100.0%), 2644.36 column/sec. Elapsed time 14.42 sec\n",
      "EvaluatorHoldout: Ignoring 167 ( 0.5%) Users that have less than 1 test interactions\n",
      "EvaluatorHoldout: Processed 35569 (100.0%) in 35.36 sec. Users per second: 1006\n",
      "Similarity column 38121 (100.0%), 2659.06 column/sec. Elapsed time 14.34 sec\n",
      "EvaluatorHoldout: Ignoring 172 ( 0.5%) Users that have less than 1 test interactions\n",
      "EvaluatorHoldout: Processed 35564 (100.0%) in 35.64 sec. Users per second: 998\n"
     ]
    },
    {
     "name": "stderr",
     "output_type": "stream",
     "text": [
      "[I 2025-01-05 23:07:24,096] Trial 471 finished with value: 0.04622192481497488 and parameters: {'similarity': 'tversky', 'topK': 56, 'shrink': 71, 'feature_weighting': 'none', 'tversky_alpha': 0.10855455500973633, 'tversky_beta': 1.792127338865604}. Best is trial 439 with value: 0.05361580072200237.\n"
     ]
    },
    {
     "name": "stdout",
     "output_type": "stream",
     "text": [
      "Similarity column 38121 (100.0%), 2555.56 column/sec. Elapsed time 14.92 sec\n",
      "EvaluatorHoldout: Ignoring 173 ( 0.5%) Users that have less than 1 test interactions\n",
      "EvaluatorHoldout: Processed 35563 (100.0%) in 53.56 sec. Users per second: 664\n",
      "Similarity column 38121 (100.0%), 2532.00 column/sec. Elapsed time 15.06 sec\n",
      "EvaluatorHoldout: Ignoring 163 ( 0.5%) Users that have less than 1 test interactions\n",
      "EvaluatorHoldout: Processed 35573 (100.0%) in 52.48 sec. Users per second: 678\n",
      "Similarity column 38121 (100.0%), 2543.60 column/sec. Elapsed time 14.99 sec\n",
      "EvaluatorHoldout: Ignoring 150 ( 0.4%) Users that have less than 1 test interactions\n",
      "EvaluatorHoldout: Processed 35586 (100.0%) in 52.80 sec. Users per second: 674\n",
      "Similarity column 38121 (100.0%), 2556.65 column/sec. Elapsed time 14.91 sec\n",
      "EvaluatorHoldout: Ignoring 167 ( 0.5%) Users that have less than 1 test interactions\n",
      "EvaluatorHoldout: Processed 35569 (100.0%) in 51.96 sec. Users per second: 685\n",
      "Similarity column 38121 (100.0%), 2564.17 column/sec. Elapsed time 14.87 sec\n",
      "EvaluatorHoldout: Ignoring 172 ( 0.5%) Users that have less than 1 test interactions\n",
      "EvaluatorHoldout: Processed 35564 (100.0%) in 52.29 sec. Users per second: 680\n"
     ]
    },
    {
     "name": "stderr",
     "output_type": "stream",
     "text": [
      "[I 2025-01-05 23:13:07,489] Trial 472 finished with value: 0.028827641260177762 and parameters: {'similarity': 'tversky', 'topK': 491, 'shrink': 658, 'feature_weighting': 'none', 'tversky_alpha': 0.05977845999752285, 'tversky_beta': 0.6774156485839102}. Best is trial 439 with value: 0.05361580072200237.\n"
     ]
    },
    {
     "name": "stdout",
     "output_type": "stream",
     "text": [
      "Similarity column 38121 (100.0%), 2845.89 column/sec. Elapsed time 13.40 sec\n",
      "EvaluatorHoldout: Ignoring 173 ( 0.5%) Users that have less than 1 test interactions\n",
      "EvaluatorHoldout: Processed 35563 (100.0%) in 36.89 sec. Users per second: 964\n",
      "Similarity column 38121 (100.0%), 2812.49 column/sec. Elapsed time 13.55 sec\n",
      "EvaluatorHoldout: Ignoring 163 ( 0.5%) Users that have less than 1 test interactions\n",
      "EvaluatorHoldout: Processed 35573 (100.0%) in 37.13 sec. Users per second: 958\n",
      "Similarity column 38121 (100.0%), 2807.55 column/sec. Elapsed time 13.58 sec\n",
      "EvaluatorHoldout: Ignoring 150 ( 0.4%) Users that have less than 1 test interactions\n",
      "EvaluatorHoldout: Processed 35586 (100.0%) in 37.67 sec. Users per second: 945\n",
      "Similarity column 38121 (100.0%), 2810.27 column/sec. Elapsed time 13.56 sec\n",
      "EvaluatorHoldout: Ignoring 167 ( 0.5%) Users that have less than 1 test interactions\n",
      "EvaluatorHoldout: Processed 35569 (100.0%) in 37.51 sec. Users per second: 948\n",
      "Similarity column 38121 (100.0%), 2821.80 column/sec. Elapsed time 13.51 sec\n",
      "EvaluatorHoldout: Ignoring 172 ( 0.5%) Users that have less than 1 test interactions\n",
      "EvaluatorHoldout: Processed 35564 (100.0%) in 36.72 sec. Users per second: 968\n"
     ]
    },
    {
     "name": "stderr",
     "output_type": "stream",
     "text": [
      "[I 2025-01-05 23:17:22,181] Trial 473 finished with value: 0.027108177075152597 and parameters: {'similarity': 'asymmetric', 'topK': 16, 'shrink': 35, 'feature_weighting': 'none', 'asymmetric_alpha': 1.721592526937006}. Best is trial 439 with value: 0.05361580072200237.\n"
     ]
    },
    {
     "name": "stdout",
     "output_type": "stream",
     "text": [
      "Similarity column 38121 (100.0%), 3467.33 column/sec. Elapsed time 10.99 sec\n",
      "EvaluatorHoldout: Ignoring 173 ( 0.5%) Users that have less than 1 test interactions\n",
      "EvaluatorHoldout: Processed 35563 (100.0%) in 25.10 sec. Users per second: 1417\n",
      "Similarity column 38121 (100.0%), 3473.01 column/sec. Elapsed time 10.98 sec\n",
      "EvaluatorHoldout: Ignoring 163 ( 0.5%) Users that have less than 1 test interactions\n",
      "EvaluatorHoldout: Processed 35573 (100.0%) in 25.11 sec. Users per second: 1416\n",
      "Similarity column 38121 (100.0%), 3449.10 column/sec. Elapsed time 11.05 sec\n",
      "EvaluatorHoldout: Ignoring 150 ( 0.4%) Users that have less than 1 test interactions\n",
      "EvaluatorHoldout: Processed 35586 (100.0%) in 25.12 sec. Users per second: 1417\n",
      "Similarity column 38121 (100.0%), 3479.13 column/sec. Elapsed time 10.96 sec\n",
      "EvaluatorHoldout: Ignoring 167 ( 0.5%) Users that have less than 1 test interactions\n",
      "EvaluatorHoldout: Processed 35569 (100.0%) in 25.04 sec. Users per second: 1421\n",
      "Similarity column 38121 (100.0%), 3420.57 column/sec. Elapsed time 11.14 sec\n",
      "EvaluatorHoldout: Ignoring 172 ( 0.5%) Users that have less than 1 test interactions\n",
      "EvaluatorHoldout: Processed 35564 (100.0%) in 25.43 sec. Users per second: 1399\n"
     ]
    },
    {
     "name": "stderr",
     "output_type": "stream",
     "text": [
      "[I 2025-01-05 23:20:24,974] Trial 474 finished with value: 0.0002664826418719655 and parameters: {'similarity': 'tversky', 'topK': 0, 'shrink': 14, 'feature_weighting': 'none', 'tversky_alpha': 0.18361448819821824, 'tversky_beta': 1.9408471439958852}. Best is trial 439 with value: 0.05361580072200237.\n"
     ]
    },
    {
     "name": "stdout",
     "output_type": "stream",
     "text": [
      "Similarity column 38121 (100.0%), 2653.51 column/sec. Elapsed time 14.37 sec\n",
      "EvaluatorHoldout: Ignoring 173 ( 0.5%) Users that have less than 1 test interactions\n",
      "EvaluatorHoldout: Processed 35563 (100.0%) in 34.14 sec. Users per second: 1042\n",
      "Similarity column 38121 (100.0%), 2683.78 column/sec. Elapsed time 14.20 sec\n",
      "EvaluatorHoldout: Ignoring 163 ( 0.5%) Users that have less than 1 test interactions\n",
      "EvaluatorHoldout: Processed 35573 (100.0%) in 34.26 sec. Users per second: 1038\n",
      "Similarity column 38121 (100.0%), 2656.27 column/sec. Elapsed time 14.35 sec\n",
      "EvaluatorHoldout: Ignoring 150 ( 0.4%) Users that have less than 1 test interactions\n",
      "EvaluatorHoldout: Processed 35586 (100.0%) in 34.63 sec. Users per second: 1028\n",
      "Similarity column 38121 (100.0%), 2678.31 column/sec. Elapsed time 14.23 sec\n",
      "EvaluatorHoldout: Ignoring 167 ( 0.5%) Users that have less than 1 test interactions\n",
      "EvaluatorHoldout: Processed 35569 (100.0%) in 34.32 sec. Users per second: 1036\n",
      "Similarity column 38121 (100.0%), 2681.41 column/sec. Elapsed time 14.22 sec\n",
      "EvaluatorHoldout: Ignoring 172 ( 0.5%) Users that have less than 1 test interactions\n",
      "EvaluatorHoldout: Processed 35564 (100.0%) in 34.50 sec. Users per second: 1031\n"
     ]
    },
    {
     "name": "stderr",
     "output_type": "stream",
     "text": [
      "[I 2025-01-05 23:24:30,414] Trial 475 finished with value: 0.04854649172099616 and parameters: {'similarity': 'tversky', 'topK': 41, 'shrink': 51, 'feature_weighting': 'none', 'tversky_alpha': 0.03324173409026785, 'tversky_beta': 1.877578270681271}. Best is trial 439 with value: 0.05361580072200237.\n"
     ]
    },
    {
     "name": "stdout",
     "output_type": "stream",
     "text": [
      "Similarity column 38121 (100.0%), 2694.92 column/sec. Elapsed time 14.15 sec\n",
      "EvaluatorHoldout: Ignoring 173 ( 0.5%) Users that have less than 1 test interactions\n",
      "EvaluatorHoldout: Processed 35563 (100.0%) in 33.10 sec. Users per second: 1074\n",
      "Similarity column 38121 (100.0%), 2623.75 column/sec. Elapsed time 14.53 sec\n",
      "EvaluatorHoldout: Ignoring 163 ( 0.5%) Users that have less than 1 test interactions\n",
      "EvaluatorHoldout: Processed 35573 (100.0%) in 33.24 sec. Users per second: 1070\n",
      "Similarity column 38121 (100.0%), 2668.81 column/sec. Elapsed time 14.28 sec\n",
      "EvaluatorHoldout: Ignoring 150 ( 0.4%) Users that have less than 1 test interactions\n",
      "EvaluatorHoldout: Processed 35586 (100.0%) in 33.04 sec. Users per second: 1077\n",
      "Similarity column 38121 (100.0%), 2676.62 column/sec. Elapsed time 14.24 sec\n",
      "EvaluatorHoldout: Ignoring 167 ( 0.5%) Users that have less than 1 test interactions\n",
      "EvaluatorHoldout: Processed 35569 (100.0%) in 33.03 sec. Users per second: 1077\n",
      "Similarity column 38121 (100.0%), 2657.11 column/sec. Elapsed time 14.35 sec\n",
      "EvaluatorHoldout: Ignoring 172 ( 0.5%) Users that have less than 1 test interactions\n",
      "EvaluatorHoldout: Processed 35564 (100.0%) in 33.78 sec. Users per second: 1053\n"
     ]
    },
    {
     "name": "stderr",
     "output_type": "stream",
     "text": [
      "[I 2025-01-05 23:28:30,281] Trial 476 finished with value: 0.051008469219300065 and parameters: {'similarity': 'tversky', 'topK': 27, 'shrink': 31, 'feature_weighting': 'none', 'tversky_alpha': 0.08698770489294613, 'tversky_beta': 1.931041875239008}. Best is trial 439 with value: 0.05361580072200237.\n"
     ]
    },
    {
     "name": "stdout",
     "output_type": "stream",
     "text": [
      "Similarity column 38121 (100.0%), 2942.30 column/sec. Elapsed time 12.96 sec\n",
      "EvaluatorHoldout: Ignoring 173 ( 0.5%) Users that have less than 1 test interactions\n",
      "EvaluatorHoldout: Processed 35563 (100.0%) in 33.02 sec. Users per second: 1077\n",
      "Similarity column 38121 (100.0%), 2943.04 column/sec. Elapsed time 12.95 sec\n",
      "EvaluatorHoldout: Ignoring 163 ( 0.5%) Users that have less than 1 test interactions\n",
      "EvaluatorHoldout: Processed 35573 (100.0%) in 32.57 sec. Users per second: 1092\n",
      "Similarity column 38121 (100.0%), 2929.57 column/sec. Elapsed time 13.01 sec\n",
      "EvaluatorHoldout: Ignoring 150 ( 0.4%) Users that have less than 1 test interactions\n",
      "EvaluatorHoldout: Processed 35586 (100.0%) in 32.53 sec. Users per second: 1094\n",
      "Similarity column 38121 (100.0%), 2895.15 column/sec. Elapsed time 13.17 sec\n",
      "EvaluatorHoldout: Ignoring 167 ( 0.5%) Users that have less than 1 test interactions\n",
      "EvaluatorHoldout: Processed 35569 (100.0%) in 32.75 sec. Users per second: 1086\n",
      "Similarity column 38121 (100.0%), 2812.95 column/sec. Elapsed time 13.55 sec\n",
      "EvaluatorHoldout: Ignoring 172 ( 0.5%) Users that have less than 1 test interactions\n",
      "EvaluatorHoldout: Processed 35564 (100.0%) in 33.34 sec. Users per second: 1067\n"
     ]
    },
    {
     "name": "stderr",
     "output_type": "stream",
     "text": [
      "[I 2025-01-05 23:32:22,072] Trial 477 finished with value: 0.049792454890957356 and parameters: {'similarity': 'jaccard', 'topK': 14, 'shrink': 0, 'feature_weighting': 'none'}. Best is trial 439 with value: 0.05361580072200237.\n"
     ]
    },
    {
     "name": "stdout",
     "output_type": "stream",
     "text": [
      "Similarity column 38121 (100.0%), 3429.44 column/sec. Elapsed time 11.12 sec\n",
      "EvaluatorHoldout: Ignoring 173 ( 0.5%) Users that have less than 1 test interactions\n",
      "EvaluatorHoldout: Processed 35563 (100.0%) in 26.03 sec. Users per second: 1366\n",
      "Similarity column 38121 (100.0%), 3387.78 column/sec. Elapsed time 11.25 sec\n",
      "EvaluatorHoldout: Ignoring 163 ( 0.5%) Users that have less than 1 test interactions\n",
      "EvaluatorHoldout: Processed 35573 (100.0%) in 25.45 sec. Users per second: 1398\n",
      "Similarity column 38121 (100.0%), 3417.14 column/sec. Elapsed time 11.16 sec\n",
      "EvaluatorHoldout: Ignoring 150 ( 0.4%) Users that have less than 1 test interactions\n",
      "EvaluatorHoldout: Processed 35586 (100.0%) in 25.37 sec. Users per second: 1402\n",
      "Similarity column 38121 (100.0%), 3412.98 column/sec. Elapsed time 11.17 sec\n",
      "EvaluatorHoldout: Ignoring 167 ( 0.5%) Users that have less than 1 test interactions\n",
      "EvaluatorHoldout: Processed 35569 (100.0%) in 24.89 sec. Users per second: 1429\n",
      "Similarity column 38121 (100.0%), 3443.60 column/sec. Elapsed time 11.07 sec\n",
      "EvaluatorHoldout: Ignoring 172 ( 0.5%) Users that have less than 1 test interactions\n",
      "EvaluatorHoldout: Processed 35564 (100.0%) in 25.54 sec. Users per second: 1392\n"
     ]
    },
    {
     "name": "stderr",
     "output_type": "stream",
     "text": [
      "[I 2025-01-05 23:35:27,014] Trial 478 finished with value: 0.0002664826418719655 and parameters: {'similarity': 'tversky', 'topK': 0, 'shrink': 68, 'feature_weighting': 'none', 'tversky_alpha': 0.0005034569244611389, 'tversky_beta': 1.8503024551661937}. Best is trial 439 with value: 0.05361580072200237.\n"
     ]
    },
    {
     "name": "stdout",
     "output_type": "stream",
     "text": [
      "Similarity column 38121 (100.0%), 2657.63 column/sec. Elapsed time 14.34 sec\n",
      "EvaluatorHoldout: Ignoring 173 ( 0.5%) Users that have less than 1 test interactions\n",
      "EvaluatorHoldout: Processed 35563 (100.0%) in 34.26 sec. Users per second: 1038\n",
      "Similarity column 38121 (100.0%), 2642.11 column/sec. Elapsed time 14.43 sec\n",
      "EvaluatorHoldout: Ignoring 163 ( 0.5%) Users that have less than 1 test interactions\n",
      "EvaluatorHoldout: Processed 35573 (100.0%) in 33.60 sec. Users per second: 1059\n",
      "Similarity column 38121 (100.0%), 2646.98 column/sec. Elapsed time 14.40 sec\n",
      "EvaluatorHoldout: Ignoring 150 ( 0.4%) Users that have less than 1 test interactions\n",
      "EvaluatorHoldout: Processed 35586 (100.0%) in 33.79 sec. Users per second: 1053\n",
      "Similarity column 38121 (100.0%), 2599.61 column/sec. Elapsed time 14.66 sec\n",
      "EvaluatorHoldout: Ignoring 167 ( 0.5%) Users that have less than 1 test interactions\n",
      "EvaluatorHoldout: Processed 35569 (100.0%) in 33.49 sec. Users per second: 1062\n",
      "Similarity column 38121 (100.0%), 2682.34 column/sec. Elapsed time 14.21 sec\n",
      "EvaluatorHoldout: Ignoring 172 ( 0.5%) Users that have less than 1 test interactions\n",
      "EvaluatorHoldout: Processed 35564 (100.0%) in 34.48 sec. Users per second: 1031\n"
     ]
    },
    {
     "name": "stderr",
     "output_type": "stream",
     "text": [
      "[I 2025-01-05 23:39:30,844] Trial 479 finished with value: 0.050658884879932795 and parameters: {'similarity': 'tversky', 'topK': 32, 'shrink': 23, 'feature_weighting': 'none', 'tversky_alpha': 0.13181912503932397, 'tversky_beta': 1.8995467951408136}. Best is trial 439 with value: 0.05361580072200237.\n"
     ]
    },
    {
     "name": "stdout",
     "output_type": "stream",
     "text": [
      "Similarity column 38121 (100.0%), 2685.01 column/sec. Elapsed time 14.20 sec\n",
      "EvaluatorHoldout: Ignoring 173 ( 0.5%) Users that have less than 1 test interactions\n",
      "EvaluatorHoldout: Processed 35563 (100.0%) in 32.52 sec. Users per second: 1094\n",
      "Similarity column 38121 (100.0%), 2645.97 column/sec. Elapsed time 14.41 sec\n",
      "EvaluatorHoldout: Ignoring 163 ( 0.5%) Users that have less than 1 test interactions\n",
      "EvaluatorHoldout: Processed 35573 (100.0%) in 32.40 sec. Users per second: 1098\n",
      "Similarity column 38121 (100.0%), 2673.74 column/sec. Elapsed time 14.26 sec\n",
      "EvaluatorHoldout: Ignoring 150 ( 0.4%) Users that have less than 1 test interactions\n",
      "EvaluatorHoldout: Processed 35586 (100.0%) in 32.31 sec. Users per second: 1101\n",
      "Similarity column 38121 (100.0%), 2642.39 column/sec. Elapsed time 14.43 sec\n",
      "EvaluatorHoldout: Ignoring 167 ( 0.5%) Users that have less than 1 test interactions\n",
      "EvaluatorHoldout: Processed 35569 (100.0%) in 32.49 sec. Users per second: 1095\n",
      "Similarity column 38121 (100.0%), 2672.31 column/sec. Elapsed time 14.27 sec\n",
      "EvaluatorHoldout: Ignoring 172 ( 0.5%) Users that have less than 1 test interactions\n",
      "EvaluatorHoldout: Processed 35564 (100.0%) in 32.43 sec. Users per second: 1097\n"
     ]
    },
    {
     "name": "stderr",
     "output_type": "stream",
     "text": [
      "[I 2025-01-05 23:43:26,547] Trial 480 finished with value: 0.052221667266549664 and parameters: {'similarity': 'tversky', 'topK': 14, 'shrink': 51, 'feature_weighting': 'none', 'tversky_alpha': 0.042924616393795155, 'tversky_beta': 1.9607455698111718}. Best is trial 439 with value: 0.05361580072200237.\n"
     ]
    },
    {
     "name": "stdout",
     "output_type": "stream",
     "text": [
      "Similarity column 38121 (100.0%), 2688.06 column/sec. Elapsed time 14.18 sec\n",
      "EvaluatorHoldout: Ignoring 173 ( 0.5%) Users that have less than 1 test interactions\n",
      "EvaluatorHoldout: Processed 35563 (100.0%) in 35.88 sec. Users per second: 991\n",
      "Similarity column 38121 (100.0%), 2652.62 column/sec. Elapsed time 14.37 sec\n",
      "EvaluatorHoldout: Ignoring 163 ( 0.5%) Users that have less than 1 test interactions\n",
      "EvaluatorHoldout: Processed 35573 (100.0%) in 35.22 sec. Users per second: 1010\n",
      "Similarity column 38121 (100.0%), 2673.91 column/sec. Elapsed time 14.26 sec\n",
      "EvaluatorHoldout: Ignoring 150 ( 0.4%) Users that have less than 1 test interactions\n",
      "EvaluatorHoldout: Processed 35586 (100.0%) in 35.38 sec. Users per second: 1006\n",
      "Similarity column 38121 (100.0%), 2664.97 column/sec. Elapsed time 14.30 sec\n",
      "EvaluatorHoldout: Ignoring 167 ( 0.5%) Users that have less than 1 test interactions\n",
      "EvaluatorHoldout: Processed 35569 (100.0%) in 35.25 sec. Users per second: 1009\n",
      "Similarity column 38121 (100.0%), 2674.47 column/sec. Elapsed time 14.25 sec\n",
      "EvaluatorHoldout: Ignoring 172 ( 0.5%) Users that have less than 1 test interactions\n",
      "EvaluatorHoldout: Processed 35564 (100.0%) in 35.23 sec. Users per second: 1010\n"
     ]
    },
    {
     "name": "stderr",
     "output_type": "stream",
     "text": [
      "[I 2025-01-05 23:47:37,150] Trial 481 finished with value: 0.04557100466468172 and parameters: {'similarity': 'tversky', 'topK': 53, 'shrink': 94, 'feature_weighting': 'none', 'tversky_alpha': 0.07852188463931999, 'tversky_beta': 1.8141083216380975}. Best is trial 439 with value: 0.05361580072200237.\n"
     ]
    },
    {
     "name": "stdout",
     "output_type": "stream",
     "text": [
      "Similarity column 38121 (100.0%), 2543.81 column/sec. Elapsed time 14.99 sec\n",
      "EvaluatorHoldout: Ignoring 173 ( 0.5%) Users that have less than 1 test interactions\n",
      "EvaluatorHoldout: Processed 35563 (100.0%) in 46.20 sec. Users per second: 770\n",
      "Similarity column 38121 (100.0%), 2565.07 column/sec. Elapsed time 14.86 sec\n",
      "EvaluatorHoldout: Ignoring 163 ( 0.5%) Users that have less than 1 test interactions\n",
      "EvaluatorHoldout: Processed 35573 (100.0%) in 46.17 sec. Users per second: 770\n",
      "Similarity column 38121 (100.0%), 2523.70 column/sec. Elapsed time 15.11 sec\n",
      "EvaluatorHoldout: Ignoring 150 ( 0.4%) Users that have less than 1 test interactions\n",
      "EvaluatorHoldout: Processed 35586 (100.0%) in 47.22 sec. Users per second: 754\n",
      "Similarity column 38121 (100.0%), 2534.86 column/sec. Elapsed time 15.04 sec\n",
      "EvaluatorHoldout: Ignoring 167 ( 0.5%) Users that have less than 1 test interactions\n",
      "EvaluatorHoldout: Processed 35569 (100.0%) in 46.54 sec. Users per second: 764\n",
      "Similarity column 38121 (100.0%), 2517.03 column/sec. Elapsed time 15.15 sec\n",
      "EvaluatorHoldout: Ignoring 172 ( 0.5%) Users that have less than 1 test interactions\n",
      "EvaluatorHoldout: Processed 35564 (100.0%) in 47.44 sec. Users per second: 750\n"
     ]
    },
    {
     "name": "stderr",
     "output_type": "stream",
     "text": [
      "[I 2025-01-05 23:52:52,015] Trial 482 finished with value: 0.040090244271104386 and parameters: {'similarity': 'tversky', 'topK': 575, 'shrink': 17, 'feature_weighting': 'none', 'tversky_alpha': 0.23503903213983357, 'tversky_beta': 1.8934153179723778}. Best is trial 439 with value: 0.05361580072200237.\n"
     ]
    },
    {
     "name": "stdout",
     "output_type": "stream",
     "text": [
      "Similarity column 38121 (100.0%), 2645.15 column/sec. Elapsed time 14.41 sec\n",
      "EvaluatorHoldout: Ignoring 173 ( 0.5%) Users that have less than 1 test interactions\n",
      "EvaluatorHoldout: Processed 35563 (100.0%) in 35.18 sec. Users per second: 1011\n",
      "Similarity column 38121 (100.0%), 2638.92 column/sec. Elapsed time 14.45 sec\n",
      "EvaluatorHoldout: Ignoring 163 ( 0.5%) Users that have less than 1 test interactions\n",
      "EvaluatorHoldout: Processed 35573 (100.0%) in 36.10 sec. Users per second: 985\n",
      "Similarity column 38121 (100.0%), 2648.55 column/sec. Elapsed time 14.39 sec\n",
      "EvaluatorHoldout: Ignoring 150 ( 0.4%) Users that have less than 1 test interactions\n",
      "EvaluatorHoldout: Processed 35586 (100.0%) in 35.49 sec. Users per second: 1003\n",
      "Similarity column 38121 (100.0%), 2607.69 column/sec. Elapsed time 14.62 sec\n",
      "EvaluatorHoldout: Ignoring 167 ( 0.5%) Users that have less than 1 test interactions\n",
      "EvaluatorHoldout: Processed 35569 (100.0%) in 35.25 sec. Users per second: 1009\n",
      "Similarity column 38121 (100.0%), 2667.82 column/sec. Elapsed time 14.29 sec\n",
      "EvaluatorHoldout: Ignoring 172 ( 0.5%) Users that have less than 1 test interactions\n",
      "EvaluatorHoldout: Processed 35564 (100.0%) in 35.01 sec. Users per second: 1016\n"
     ]
    },
    {
     "name": "stderr",
     "output_type": "stream",
     "text": [
      "[I 2025-01-05 23:57:03,354] Trial 483 finished with value: 0.048496934817184464 and parameters: {'similarity': 'tversky', 'topK': 39, 'shrink': 42, 'feature_weighting': 'none', 'tversky_alpha': 1.373896929569078, 'tversky_beta': 1.4479457213620617}. Best is trial 439 with value: 0.05361580072200237.\n"
     ]
    },
    {
     "name": "stdout",
     "output_type": "stream",
     "text": [
      "Similarity column 38121 (100.0%), 2666.18 column/sec. Elapsed time 14.30 sec\n",
      "EvaluatorHoldout: Ignoring 173 ( 0.5%) Users that have less than 1 test interactions\n",
      "EvaluatorHoldout: Processed 35563 (100.0%) in 33.26 sec. Users per second: 1069\n",
      "Similarity column 38121 (100.0%), 2671.46 column/sec. Elapsed time 14.27 sec\n",
      "EvaluatorHoldout: Ignoring 163 ( 0.5%) Users that have less than 1 test interactions\n",
      "EvaluatorHoldout: Processed 35573 (100.0%) in 33.60 sec. Users per second: 1059\n",
      "Similarity column 38121 (100.0%), 2658.34 column/sec. Elapsed time 14.34 sec\n",
      "EvaluatorHoldout: Ignoring 150 ( 0.4%) Users that have less than 1 test interactions\n",
      "EvaluatorHoldout: Processed 35586 (100.0%) in 33.10 sec. Users per second: 1075\n",
      "Similarity column 38121 (100.0%), 2682.96 column/sec. Elapsed time 14.21 sec\n",
      "EvaluatorHoldout: Ignoring 167 ( 0.5%) Users that have less than 1 test interactions\n",
      "EvaluatorHoldout: Processed 35569 (100.0%) in 34.83 sec. Users per second: 1021\n",
      "Similarity column 38121 (100.0%), 2568.89 column/sec. Elapsed time 14.84 sec\n",
      "EvaluatorHoldout: Ignoring 172 ( 0.5%) Users that have less than 1 test interactions\n",
      "EvaluatorHoldout: Processed 35564 (100.0%) in 33.53 sec. Users per second: 1061\n"
     ]
    },
    {
     "name": "stderr",
     "output_type": "stream",
     "text": [
      "[I 2025-01-06 00:01:05,712] Trial 484 finished with value: 0.05124023252683356 and parameters: {'similarity': 'tversky', 'topK': 25, 'shrink': 31, 'feature_weighting': 'none', 'tversky_alpha': 0.1539993004797166, 'tversky_beta': 1.854170300035377}. Best is trial 439 with value: 0.05361580072200237.\n"
     ]
    },
    {
     "name": "stdout",
     "output_type": "stream",
     "text": [
      "Similarity column 38121 (100.0%), 2544.15 column/sec. Elapsed time 14.98 sec\n",
      "EvaluatorHoldout: Ignoring 173 ( 0.5%) Users that have less than 1 test interactions\n",
      "EvaluatorHoldout: Processed 35563 (100.0%) in 47.26 sec. Users per second: 753\n",
      "Similarity column 38121 (100.0%), 2524.09 column/sec. Elapsed time 15.10 sec\n",
      "EvaluatorHoldout: Ignoring 163 ( 0.5%) Users that have less than 1 test interactions\n",
      "EvaluatorHoldout: Processed 35573 (100.0%) in 46.31 sec. Users per second: 768\n",
      "Similarity column 38121 (100.0%), 2555.44 column/sec. Elapsed time 14.92 sec\n",
      "EvaluatorHoldout: Ignoring 150 ( 0.4%) Users that have less than 1 test interactions\n",
      "EvaluatorHoldout: Processed 35586 (100.0%) in 45.23 sec. Users per second: 787\n",
      "Similarity column 38121 (100.0%), 2559.28 column/sec. Elapsed time 14.90 sec\n",
      "EvaluatorHoldout: Ignoring 167 ( 0.5%) Users that have less than 1 test interactions\n",
      "EvaluatorHoldout: Processed 35569 (100.0%) in 44.01 sec. Users per second: 808\n",
      "Similarity column 38121 (100.0%), 2578.02 column/sec. Elapsed time 14.79 sec\n",
      "EvaluatorHoldout: Ignoring 172 ( 0.5%) Users that have less than 1 test interactions\n",
      "EvaluatorHoldout: Processed 35564 (100.0%) in 44.25 sec. Users per second: 804\n"
     ]
    },
    {
     "name": "stderr",
     "output_type": "stream",
     "text": [
      "[I 2025-01-06 00:06:12,879] Trial 485 finished with value: 0.036583371468352624 and parameters: {'similarity': 'tversky', 'topK': 355, 'shrink': 81, 'feature_weighting': 'none', 'tversky_alpha': 0.03420885991705695, 'tversky_beta': 1.7658612100038604}. Best is trial 439 with value: 0.05361580072200237.\n"
     ]
    },
    {
     "name": "stdout",
     "output_type": "stream",
     "text": [
      "Similarity column 38121 (100.0%), 640.20 column/sec. Elapsed time 59.55 sec\n",
      "EvaluatorHoldout: Ignoring 173 ( 0.5%) Users that have less than 1 test interactions\n",
      "EvaluatorHoldout: Processed 35563 (100.0%) in 24.96 sec. Users per second: 1425\n",
      "Similarity column 38121 (100.0%), 647.41 column/sec. Elapsed time 58.88 sec\n",
      "EvaluatorHoldout: Ignoring 163 ( 0.5%) Users that have less than 1 test interactions\n",
      "EvaluatorHoldout: Processed 35573 (100.0%) in 25.20 sec. Users per second: 1412\n",
      "Similarity column 38121 (100.0%), 635.86 column/sec. Elapsed time 59.95 sec\n",
      "EvaluatorHoldout: Ignoring 150 ( 0.4%) Users that have less than 1 test interactions\n",
      "EvaluatorHoldout: Processed 35586 (100.0%) in 25.32 sec. Users per second: 1406\n",
      "Similarity column 38121 (100.0%), 653.79 column/sec. Elapsed time 58.31 sec\n",
      "EvaluatorHoldout: Ignoring 167 ( 0.5%) Users that have less than 1 test interactions\n",
      "EvaluatorHoldout: Processed 35569 (100.0%) in 25.21 sec. Users per second: 1411\n",
      "Similarity column 38121 (100.0%), 650.12 column/sec. Elapsed time 58.64 sec\n",
      "EvaluatorHoldout: Ignoring 172 ( 0.5%) Users that have less than 1 test interactions\n",
      "EvaluatorHoldout: Processed 35564 (100.0%) in 25.14 sec. Users per second: 1415\n"
     ]
    },
    {
     "name": "stderr",
     "output_type": "stream",
     "text": [
      "[I 2025-01-06 00:13:14,690] Trial 486 finished with value: 0.0002664826418719655 and parameters: {'similarity': 'euclidean', 'topK': 0, 'shrink': 62, 'feature_weighting': 'none', 'normalize_avg_row': False, 'similarity_from_distance_mode': 'log', 'normalize': False}. Best is trial 439 with value: 0.05361580072200237.\n"
     ]
    },
    {
     "name": "stdout",
     "output_type": "stream",
     "text": [
      "Similarity column 38121 (100.0%), 2694.11 column/sec. Elapsed time 14.15 sec\n",
      "EvaluatorHoldout: Ignoring 173 ( 0.5%) Users that have less than 1 test interactions\n",
      "EvaluatorHoldout: Processed 35563 (100.0%) in 38.18 sec. Users per second: 931\n",
      "Similarity column 38121 (100.0%), 2659.11 column/sec. Elapsed time 14.34 sec\n",
      "EvaluatorHoldout: Ignoring 163 ( 0.5%) Users that have less than 1 test interactions\n",
      "EvaluatorHoldout: Processed 35573 (100.0%) in 38.43 sec. Users per second: 926\n",
      "Similarity column 38121 (100.0%), 2660.86 column/sec. Elapsed time 14.33 sec\n",
      "EvaluatorHoldout: Ignoring 150 ( 0.4%) Users that have less than 1 test interactions\n",
      "EvaluatorHoldout: Processed 35586 (100.0%) in 38.73 sec. Users per second: 919\n",
      "Similarity column 38121 (100.0%), 2657.00 column/sec. Elapsed time 14.35 sec\n",
      "EvaluatorHoldout: Ignoring 167 ( 0.5%) Users that have less than 1 test interactions\n",
      "EvaluatorHoldout: Processed 35569 (100.0%) in 39.59 sec. Users per second: 899\n",
      "Similarity column 38121 (100.0%), 2620.03 column/sec. Elapsed time 14.55 sec\n",
      "EvaluatorHoldout: Ignoring 172 ( 0.5%) Users that have less than 1 test interactions\n",
      "EvaluatorHoldout: Processed 35564 (100.0%) in 38.61 sec. Users per second: 921\n"
     ]
    },
    {
     "name": "stderr",
     "output_type": "stream",
     "text": [
      "[I 2025-01-06 00:17:42,346] Trial 487 finished with value: 0.03792006644941233 and parameters: {'similarity': 'tversky', 'topK': 72, 'shrink': 550, 'feature_weighting': 'none', 'tversky_alpha': 0.10850943286052275, 'tversky_beta': 1.9397641083297563}. Best is trial 439 with value: 0.05361580072200237.\n"
     ]
    },
    {
     "name": "stdout",
     "output_type": "stream",
     "text": [
      "Similarity column 38121 (100.0%), 2613.81 column/sec. Elapsed time 14.58 sec\n",
      "EvaluatorHoldout: Ignoring 173 ( 0.5%) Users that have less than 1 test interactions\n",
      "EvaluatorHoldout: Processed 35563 (100.0%) in 33.04 sec. Users per second: 1076\n",
      "Similarity column 38121 (100.0%), 2656.28 column/sec. Elapsed time 14.35 sec\n",
      "EvaluatorHoldout: Ignoring 163 ( 0.5%) Users that have less than 1 test interactions\n",
      "EvaluatorHoldout: Processed 35573 (100.0%) in 32.55 sec. Users per second: 1093\n",
      "Similarity column 38121 (100.0%), 2697.49 column/sec. Elapsed time 14.13 sec\n",
      "EvaluatorHoldout: Ignoring 150 ( 0.4%) Users that have less than 1 test interactions\n",
      "EvaluatorHoldout: Processed 35586 (100.0%) in 33.16 sec. Users per second: 1073\n",
      "Similarity column 38121 (100.0%), 2641.46 column/sec. Elapsed time 14.43 sec\n",
      "EvaluatorHoldout: Ignoring 167 ( 0.5%) Users that have less than 1 test interactions\n",
      "EvaluatorHoldout: Processed 35569 (100.0%) in 32.28 sec. Users per second: 1102\n",
      "Similarity column 38121 (100.0%), 2683.27 column/sec. Elapsed time 14.21 sec\n",
      "EvaluatorHoldout: Ignoring 172 ( 0.5%) Users that have less than 1 test interactions\n",
      "EvaluatorHoldout: Processed 35564 (100.0%) in 32.24 sec. Users per second: 1103\n"
     ]
    },
    {
     "name": "stderr",
     "output_type": "stream",
     "text": [
      "[I 2025-01-06 00:21:39,439] Trial 488 finished with value: 0.052014935214057666 and parameters: {'similarity': 'tversky', 'topK': 22, 'shrink': 15, 'feature_weighting': 'none', 'tversky_alpha': 0.0709802486438963, 'tversky_beta': 1.9733526900226903}. Best is trial 439 with value: 0.05361580072200237.\n"
     ]
    },
    {
     "name": "stdout",
     "output_type": "stream",
     "text": [
      "Similarity column 38121 (100.0%), 2988.73 column/sec. Elapsed time 12.75 sec\n",
      "EvaluatorHoldout: Ignoring 173 ( 0.5%) Users that have less than 1 test interactions\n",
      "EvaluatorHoldout: Processed 35563 (100.0%) in 33.43 sec. Users per second: 1064\n",
      "Similarity column 38121 (100.0%), 2994.49 column/sec. Elapsed time 12.73 sec\n",
      "EvaluatorHoldout: Ignoring 163 ( 0.5%) Users that have less than 1 test interactions\n",
      "EvaluatorHoldout: Processed 35573 (100.0%) in 32.93 sec. Users per second: 1080\n",
      "Similarity column 38121 (100.0%), 2988.61 column/sec. Elapsed time 12.76 sec\n",
      "EvaluatorHoldout: Ignoring 150 ( 0.4%) Users that have less than 1 test interactions\n",
      "EvaluatorHoldout: Processed 35586 (100.0%) in 32.95 sec. Users per second: 1080\n",
      "Similarity column 38121 (100.0%), 2993.26 column/sec. Elapsed time 12.74 sec\n",
      "EvaluatorHoldout: Ignoring 167 ( 0.5%) Users that have less than 1 test interactions\n",
      "EvaluatorHoldout: Processed 35569 (100.0%) in 33.21 sec. Users per second: 1071\n",
      "Similarity column 38121 (100.0%), 2981.46 column/sec. Elapsed time 12.79 sec\n",
      "EvaluatorHoldout: Ignoring 172 ( 0.5%) Users that have less than 1 test interactions\n",
      "EvaluatorHoldout: Processed 35564 (100.0%) in 32.90 sec. Users per second: 1081\n"
     ]
    },
    {
     "name": "stderr",
     "output_type": "stream",
     "text": [
      "[I 2025-01-06 00:25:30,579] Trial 489 finished with value: 0.04921450787188851 and parameters: {'similarity': 'dice', 'topK': 15, 'shrink': 40, 'feature_weighting': 'none'}. Best is trial 439 with value: 0.05361580072200237.\n"
     ]
    },
    {
     "name": "stdout",
     "output_type": "stream",
     "text": [
      "Similarity column 38121 (100.0%), 2682.22 column/sec. Elapsed time 14.21 sec\n",
      "EvaluatorHoldout: Ignoring 173 ( 0.5%) Users that have less than 1 test interactions\n",
      "EvaluatorHoldout: Processed 35563 (100.0%) in 33.32 sec. Users per second: 1067\n",
      "Similarity column 38121 (100.0%), 2653.79 column/sec. Elapsed time 14.36 sec\n",
      "EvaluatorHoldout: Ignoring 163 ( 0.5%) Users that have less than 1 test interactions\n",
      "EvaluatorHoldout: Processed 35573 (100.0%) in 33.11 sec. Users per second: 1074\n",
      "Similarity column 38121 (100.0%), 2693.96 column/sec. Elapsed time 14.15 sec\n",
      "EvaluatorHoldout: Ignoring 150 ( 0.4%) Users that have less than 1 test interactions\n",
      "EvaluatorHoldout: Processed 35586 (100.0%) in 33.13 sec. Users per second: 1074\n",
      "Similarity column 38121 (100.0%), 2623.24 column/sec. Elapsed time 14.53 sec\n",
      "EvaluatorHoldout: Ignoring 167 ( 0.5%) Users that have less than 1 test interactions\n",
      "EvaluatorHoldout: Processed 35569 (100.0%) in 33.03 sec. Users per second: 1077\n",
      "Similarity column 38121 (100.0%), 2666.65 column/sec. Elapsed time 14.30 sec\n",
      "EvaluatorHoldout: Ignoring 172 ( 0.5%) Users that have less than 1 test interactions\n",
      "EvaluatorHoldout: Processed 35564 (100.0%) in 33.16 sec. Users per second: 1073\n"
     ]
    },
    {
     "name": "stderr",
     "output_type": "stream",
     "text": [
      "[I 2025-01-06 00:29:30,597] Trial 490 finished with value: 0.0439678178446707 and parameters: {'similarity': 'tversky', 'topK': 44, 'shrink': 0, 'feature_weighting': 'BM25', 'tversky_alpha': 0.031634000507358796, 'tversky_beta': 1.7136244089059824}. Best is trial 439 with value: 0.05361580072200237.\n"
     ]
    },
    {
     "name": "stdout",
     "output_type": "stream",
     "text": [
      "Similarity column 38121 (100.0%), 2683.21 column/sec. Elapsed time 14.21 sec\n",
      "EvaluatorHoldout: Ignoring 173 ( 0.5%) Users that have less than 1 test interactions\n",
      "EvaluatorHoldout: Processed 35563 (100.0%) in 34.52 sec. Users per second: 1030\n",
      "Similarity column 38121 (100.0%), 2636.25 column/sec. Elapsed time 14.46 sec\n",
      "EvaluatorHoldout: Ignoring 163 ( 0.5%) Users that have less than 1 test interactions\n",
      "EvaluatorHoldout: Processed 35573 (100.0%) in 34.02 sec. Users per second: 1046\n",
      "Similarity column 38121 (100.0%), 2665.54 column/sec. Elapsed time 14.30 sec\n",
      "EvaluatorHoldout: Ignoring 150 ( 0.4%) Users that have less than 1 test interactions\n",
      "EvaluatorHoldout: Processed 35586 (100.0%) in 34.28 sec. Users per second: 1038\n",
      "Similarity column 38121 (100.0%), 2665.09 column/sec. Elapsed time 14.30 sec\n",
      "EvaluatorHoldout: Ignoring 167 ( 0.5%) Users that have less than 1 test interactions\n",
      "EvaluatorHoldout: Processed 35569 (100.0%) in 34.48 sec. Users per second: 1031\n",
      "Similarity column 38121 (100.0%), 2621.33 column/sec. Elapsed time 14.54 sec\n",
      "EvaluatorHoldout: Ignoring 172 ( 0.5%) Users that have less than 1 test interactions\n",
      "EvaluatorHoldout: Processed 35564 (100.0%) in 34.89 sec. Users per second: 1019\n"
     ]
    },
    {
     "name": "stderr",
     "output_type": "stream",
     "text": [
      "[I 2025-01-06 00:33:36,760] Trial 491 finished with value: 0.04967667521931751 and parameters: {'similarity': 'tversky', 'topK': 31, 'shrink': 56, 'feature_weighting': 'none', 'tversky_alpha': 0.7606601776522726, 'tversky_beta': 1.822883346020142}. Best is trial 439 with value: 0.05361580072200237.\n"
     ]
    },
    {
     "name": "stdout",
     "output_type": "stream",
     "text": [
      "Similarity column 38121 (100.0%), 3456.09 column/sec. Elapsed time 11.03 sec\n",
      "EvaluatorHoldout: Ignoring 173 ( 0.5%) Users that have less than 1 test interactions\n",
      "EvaluatorHoldout: Processed 35563 (100.0%) in 25.41 sec. Users per second: 1400\n",
      "Similarity column 38121 (100.0%), 3440.72 column/sec. Elapsed time 11.08 sec\n",
      "EvaluatorHoldout: Ignoring 163 ( 0.5%) Users that have less than 1 test interactions\n",
      "EvaluatorHoldout: Processed 35573 (100.0%) in 25.08 sec. Users per second: 1418\n",
      "Similarity column 38121 (100.0%), 3432.71 column/sec. Elapsed time 11.11 sec\n",
      "EvaluatorHoldout: Ignoring 150 ( 0.4%) Users that have less than 1 test interactions\n",
      "EvaluatorHoldout: Processed 35586 (100.0%) in 25.20 sec. Users per second: 1412\n",
      "Similarity column 38121 (100.0%), 3444.12 column/sec. Elapsed time 11.07 sec\n",
      "EvaluatorHoldout: Ignoring 167 ( 0.5%) Users that have less than 1 test interactions\n",
      "EvaluatorHoldout: Processed 35569 (100.0%) in 25.49 sec. Users per second: 1395\n",
      "Similarity column 38121 (100.0%), 3441.99 column/sec. Elapsed time 11.08 sec\n",
      "EvaluatorHoldout: Ignoring 172 ( 0.5%) Users that have less than 1 test interactions\n",
      "EvaluatorHoldout: Processed 35564 (100.0%) in 25.47 sec. Users per second: 1396\n"
     ]
    },
    {
     "name": "stderr",
     "output_type": "stream",
     "text": [
      "[I 2025-01-06 00:36:40,684] Trial 492 finished with value: 0.0002664826418719655 and parameters: {'similarity': 'tversky', 'topK': 0, 'shrink': 20, 'feature_weighting': 'none', 'tversky_alpha': 0.0007424840223614962, 'tversky_beta': 1.908699796881761}. Best is trial 439 with value: 0.05361580072200237.\n"
     ]
    },
    {
     "name": "stdout",
     "output_type": "stream",
     "text": [
      "Similarity column 38121 (100.0%), 2550.02 column/sec. Elapsed time 14.95 sec\n",
      "EvaluatorHoldout: Ignoring 173 ( 0.5%) Users that have less than 1 test interactions\n",
      "EvaluatorHoldout: Processed 35563 (100.0%) in 49.11 sec. Users per second: 724\n",
      "Similarity column 38121 (100.0%), 2550.03 column/sec. Elapsed time 14.95 sec\n",
      "EvaluatorHoldout: Ignoring 163 ( 0.5%) Users that have less than 1 test interactions\n",
      "EvaluatorHoldout: Processed 35573 (100.0%) in 49.47 sec. Users per second: 719\n",
      "Similarity column 38121 (100.0%), 2544.74 column/sec. Elapsed time 14.98 sec\n",
      "EvaluatorHoldout: Ignoring 150 ( 0.4%) Users that have less than 1 test interactions\n",
      "EvaluatorHoldout: Processed 35586 (100.0%) in 49.49 sec. Users per second: 719\n",
      "Similarity column 38121 (100.0%), 2504.33 column/sec. Elapsed time 15.22 sec\n",
      "EvaluatorHoldout: Ignoring 167 ( 0.5%) Users that have less than 1 test interactions\n",
      "EvaluatorHoldout: Processed 35569 (100.0%) in 49.82 sec. Users per second: 714\n",
      "Similarity column 38121 (100.0%), 2524.20 column/sec. Elapsed time 15.10 sec\n",
      "EvaluatorHoldout: Ignoring 172 ( 0.5%) Users that have less than 1 test interactions\n",
      "EvaluatorHoldout: Processed 35564 (100.0%) in 49.82 sec. Users per second: 714\n"
     ]
    },
    {
     "name": "stderr",
     "output_type": "stream",
     "text": [
      "[I 2025-01-06 00:42:10,754] Trial 493 finished with value: 0.03650330673705708 and parameters: {'similarity': 'tversky', 'topK': 689, 'shrink': 39, 'feature_weighting': 'none', 'tversky_alpha': 0.11549098470888806, 'tversky_beta': 1.854223057458438}. Best is trial 439 with value: 0.05361580072200237.\n"
     ]
    },
    {
     "name": "stdout",
     "output_type": "stream",
     "text": [
      "Similarity column 38121 (100.0%), 2650.84 column/sec. Elapsed time 14.38 sec\n",
      "EvaluatorHoldout: Ignoring 173 ( 0.5%) Users that have less than 1 test interactions\n",
      "EvaluatorHoldout: Processed 35563 (100.0%) in 36.36 sec. Users per second: 978\n",
      "Similarity column 38121 (100.0%), 2653.60 column/sec. Elapsed time 14.37 sec\n",
      "EvaluatorHoldout: Ignoring 163 ( 0.5%) Users that have less than 1 test interactions\n",
      "EvaluatorHoldout: Processed 35573 (100.0%) in 36.41 sec. Users per second: 977\n",
      "Similarity column 38121 (100.0%), 2628.32 column/sec. Elapsed time 14.50 sec\n",
      "EvaluatorHoldout: Ignoring 150 ( 0.4%) Users that have less than 1 test interactions\n",
      "EvaluatorHoldout: Processed 35586 (100.0%) in 36.27 sec. Users per second: 981\n",
      "Similarity column 38121 (100.0%), 2616.43 column/sec. Elapsed time 14.57 sec\n",
      "EvaluatorHoldout: Ignoring 167 ( 0.5%) Users that have less than 1 test interactions\n",
      "EvaluatorHoldout: Processed 35569 (100.0%) in 36.28 sec. Users per second: 981\n",
      "Similarity column 38121 (100.0%), 2616.32 column/sec. Elapsed time 14.57 sec\n",
      "EvaluatorHoldout: Ignoring 172 ( 0.5%) Users that have less than 1 test interactions\n",
      "EvaluatorHoldout: Processed 35564 (100.0%) in 36.37 sec. Users per second: 978\n"
     ]
    },
    {
     "name": "stderr",
     "output_type": "stream",
     "text": [
      "[I 2025-01-06 00:46:27,422] Trial 494 finished with value: 0.046176491016543655 and parameters: {'similarity': 'tversky', 'topK': 98, 'shrink': 19, 'feature_weighting': 'none', 'tversky_alpha': 0.07014788433003423, 'tversky_beta': 1.7899116892272657}. Best is trial 439 with value: 0.05361580072200237.\n"
     ]
    },
    {
     "name": "stdout",
     "output_type": "stream",
     "text": [
      "Similarity column 38121 (100.0%), 2636.25 column/sec. Elapsed time 14.46 sec\n",
      "EvaluatorHoldout: Ignoring 173 ( 0.5%) Users that have less than 1 test interactions\n",
      "EvaluatorHoldout: Processed 35563 (100.0%) in 32.34 sec. Users per second: 1100\n",
      "Similarity column 38121 (100.0%), 2681.73 column/sec. Elapsed time 14.22 sec\n",
      "EvaluatorHoldout: Ignoring 163 ( 0.5%) Users that have less than 1 test interactions\n",
      "EvaluatorHoldout: Processed 35573 (100.0%) in 32.33 sec. Users per second: 1100\n",
      "Similarity column 38121 (100.0%), 2697.42 column/sec. Elapsed time 14.13 sec\n",
      "EvaluatorHoldout: Ignoring 150 ( 0.4%) Users that have less than 1 test interactions\n",
      "EvaluatorHoldout: Processed 35586 (100.0%) in 32.30 sec. Users per second: 1102\n",
      "Similarity column 38121 (100.0%), 2678.67 column/sec. Elapsed time 14.23 sec\n",
      "EvaluatorHoldout: Ignoring 167 ( 0.5%) Users that have less than 1 test interactions\n",
      "EvaluatorHoldout: Processed 35569 (100.0%) in 31.97 sec. Users per second: 1113\n",
      "Similarity column 38121 (100.0%), 2668.22 column/sec. Elapsed time 14.29 sec\n",
      "EvaluatorHoldout: Ignoring 172 ( 0.5%) Users that have less than 1 test interactions\n",
      "EvaluatorHoldout: Processed 35564 (100.0%) in 32.91 sec. Users per second: 1081\n"
     ]
    },
    {
     "name": "stderr",
     "output_type": "stream",
     "text": [
      "[I 2025-01-06 00:50:22,626] Trial 495 finished with value: 0.05158376932768675 and parameters: {'similarity': 'tversky', 'topK': 14, 'shrink': 71, 'feature_weighting': 'none', 'tversky_alpha': 0.16140134596023853, 'tversky_beta': 1.9999147189572202}. Best is trial 439 with value: 0.05361580072200237.\n"
     ]
    },
    {
     "name": "stdout",
     "output_type": "stream",
     "text": [
      "Similarity column 38121 (100.0%), 2616.66 column/sec. Elapsed time 14.57 sec\n",
      "EvaluatorHoldout: Ignoring 173 ( 0.5%) Users that have less than 1 test interactions\n",
      "EvaluatorHoldout: Processed 35563 (100.0%) in 33.47 sec. Users per second: 1063\n",
      "Similarity column 38121 (100.0%), 2697.36 column/sec. Elapsed time 14.13 sec\n",
      "EvaluatorHoldout: Ignoring 163 ( 0.5%) Users that have less than 1 test interactions\n",
      "EvaluatorHoldout: Processed 35573 (100.0%) in 33.35 sec. Users per second: 1067\n",
      "Similarity column 38121 (100.0%), 2626.39 column/sec. Elapsed time 14.51 sec\n",
      "EvaluatorHoldout: Ignoring 150 ( 0.4%) Users that have less than 1 test interactions\n",
      "EvaluatorHoldout: Processed 35586 (100.0%) in 33.36 sec. Users per second: 1067\n",
      "Similarity column 38121 (100.0%), 2668.30 column/sec. Elapsed time 14.29 sec\n",
      "EvaluatorHoldout: Ignoring 167 ( 0.5%) Users that have less than 1 test interactions\n",
      "EvaluatorHoldout: Processed 35569 (100.0%) in 33.34 sec. Users per second: 1067\n",
      "Similarity column 38121 (100.0%), 2646.81 column/sec. Elapsed time 14.40 sec\n",
      "EvaluatorHoldout: Ignoring 172 ( 0.5%) Users that have less than 1 test interactions\n",
      "EvaluatorHoldout: Processed 35564 (100.0%) in 33.79 sec. Users per second: 1052\n"
     ]
    },
    {
     "name": "stderr",
     "output_type": "stream",
     "text": [
      "[I 2025-01-06 00:54:23,995] Trial 496 finished with value: 0.050375563530703736 and parameters: {'similarity': 'tversky', 'topK': 30, 'shrink': 35, 'feature_weighting': 'none', 'tversky_alpha': 0.040767957808669264, 'tversky_beta': 1.883301842482165}. Best is trial 439 with value: 0.05361580072200237.\n"
     ]
    },
    {
     "name": "stdout",
     "output_type": "stream",
     "text": [
      "Similarity column 38121 (100.0%), 2660.39 column/sec. Elapsed time 14.33 sec\n",
      "EvaluatorHoldout: Ignoring 173 ( 0.5%) Users that have less than 1 test interactions\n",
      "EvaluatorHoldout: Processed 35563 (100.0%) in 36.37 sec. Users per second: 978\n",
      "Similarity column 38121 (100.0%), 2654.96 column/sec. Elapsed time 14.36 sec\n",
      "EvaluatorHoldout: Ignoring 163 ( 0.5%) Users that have less than 1 test interactions\n",
      "EvaluatorHoldout: Processed 35573 (100.0%) in 36.05 sec. Users per second: 987\n",
      "Similarity column 38121 (100.0%), 2651.95 column/sec. Elapsed time 14.37 sec\n",
      "EvaluatorHoldout: Ignoring 150 ( 0.4%) Users that have less than 1 test interactions\n",
      "EvaluatorHoldout: Processed 35586 (100.0%) in 36.98 sec. Users per second: 962\n",
      "Similarity column 38121 (100.0%), 2666.05 column/sec. Elapsed time 14.30 sec\n",
      "EvaluatorHoldout: Ignoring 167 ( 0.5%) Users that have less than 1 test interactions\n",
      "EvaluatorHoldout: Processed 35569 (100.0%) in 36.40 sec. Users per second: 977\n",
      "Similarity column 38121 (100.0%), 2646.91 column/sec. Elapsed time 14.40 sec\n",
      "EvaluatorHoldout: Ignoring 172 ( 0.5%) Users that have less than 1 test interactions\n",
      "EvaluatorHoldout: Processed 35564 (100.0%) in 36.16 sec. Users per second: 984\n"
     ]
    },
    {
     "name": "stderr",
     "output_type": "stream",
     "text": [
      "[I 2025-01-06 00:58:40,002] Trial 497 finished with value: 0.04242973024441829 and parameters: {'similarity': 'tversky', 'topK': 47, 'shrink': 249, 'feature_weighting': 'none', 'tversky_alpha': 0.09577134379717918, 'tversky_beta': 1.9258622329669182}. Best is trial 439 with value: 0.05361580072200237.\n"
     ]
    },
    {
     "name": "stdout",
     "output_type": "stream",
     "text": [
      "Similarity column 38121 (100.0%), 2672.13 column/sec. Elapsed time 14.27 sec\n",
      "EvaluatorHoldout: Ignoring 173 ( 0.5%) Users that have less than 1 test interactions\n",
      "EvaluatorHoldout: Processed 35563 (100.0%) in 31.76 sec. Users per second: 1120\n",
      "Similarity column 38121 (100.0%), 2665.16 column/sec. Elapsed time 14.30 sec\n",
      "EvaluatorHoldout: Ignoring 163 ( 0.5%) Users that have less than 1 test interactions\n",
      "EvaluatorHoldout: Processed 35573 (100.0%) in 32.41 sec. Users per second: 1098\n",
      "Similarity column 38121 (100.0%), 2676.11 column/sec. Elapsed time 14.24 sec\n",
      "EvaluatorHoldout: Ignoring 150 ( 0.4%) Users that have less than 1 test interactions\n",
      "EvaluatorHoldout: Processed 35586 (100.0%) in 32.10 sec. Users per second: 1109\n",
      "Similarity column 38121 (100.0%), 2658.05 column/sec. Elapsed time 14.34 sec\n",
      "EvaluatorHoldout: Ignoring 167 ( 0.5%) Users that have less than 1 test interactions\n",
      "EvaluatorHoldout: Processed 35569 (100.0%) in 32.22 sec. Users per second: 1104\n",
      "Similarity column 38121 (100.0%), 2654.85 column/sec. Elapsed time 14.36 sec\n",
      "EvaluatorHoldout: Ignoring 172 ( 0.5%) Users that have less than 1 test interactions\n",
      "EvaluatorHoldout: Processed 35564 (100.0%) in 32.35 sec. Users per second: 1099\n"
     ]
    },
    {
     "name": "stderr",
     "output_type": "stream",
     "text": [
      "[I 2025-01-06 01:02:34,321] Trial 498 finished with value: 0.052328148424006085 and parameters: {'similarity': 'tversky', 'topK': 12, 'shrink': 55, 'feature_weighting': 'none', 'tversky_alpha': 0.0006253937290535416, 'tversky_beta': 1.8327999894144258}. Best is trial 439 with value: 0.05361580072200237.\n"
     ]
    },
    {
     "name": "stdout",
     "output_type": "stream",
     "text": [
      "Similarity column 38121 (100.0%), 2559.49 column/sec. Elapsed time 14.89 sec\n",
      "EvaluatorHoldout: Ignoring 173 ( 0.5%) Users that have less than 1 test interactions\n",
      "EvaluatorHoldout: Processed 35563 (100.0%) in 33.50 sec. Users per second: 1062\n",
      "Similarity column 38121 (100.0%), 2674.70 column/sec. Elapsed time 14.25 sec\n",
      "EvaluatorHoldout: Ignoring 163 ( 0.5%) Users that have less than 1 test interactions\n",
      "EvaluatorHoldout: Processed 35573 (100.0%) in 32.80 sec. Users per second: 1084\n",
      "Similarity column 38121 (100.0%), 2630.43 column/sec. Elapsed time 14.49 sec\n",
      "EvaluatorHoldout: Ignoring 150 ( 0.4%) Users that have less than 1 test interactions\n",
      "EvaluatorHoldout: Processed 35586 (100.0%) in 32.69 sec. Users per second: 1089\n",
      "Similarity column 38121 (100.0%), 2680.04 column/sec. Elapsed time 14.22 sec\n",
      "EvaluatorHoldout: Ignoring 167 ( 0.5%) Users that have less than 1 test interactions\n",
      "EvaluatorHoldout: Processed 35569 (100.0%) in 32.66 sec. Users per second: 1089\n",
      "Similarity column 38121 (100.0%), 2671.01 column/sec. Elapsed time 14.27 sec\n",
      "EvaluatorHoldout: Ignoring 172 ( 0.5%) Users that have less than 1 test interactions\n",
      "EvaluatorHoldout: Processed 35564 (100.0%) in 32.89 sec. Users per second: 1081\n"
     ]
    },
    {
     "name": "stderr",
     "output_type": "stream",
     "text": [
      "[I 2025-01-06 01:06:33,121] Trial 499 finished with value: 0.05158648018198912 and parameters: {'similarity': 'tversky', 'topK': 25, 'shrink': 17, 'feature_weighting': 'none', 'tversky_alpha': 0.06756428576324433, 'tversky_beta': 1.896643929870302}. Best is trial 439 with value: 0.05361580072200237.\n"
     ]
    },
    {
     "name": "stdout",
     "output_type": "stream",
     "text": [
      "Similarity column 38121 (100.0%), 2715.15 column/sec. Elapsed time 14.04 sec\n",
      "EvaluatorHoldout: Ignoring 173 ( 0.5%) Users that have less than 1 test interactions\n",
      "EvaluatorHoldout: Processed 35563 (100.0%) in 49.06 sec. Users per second: 725\n",
      "Similarity column 38121 (100.0%), 2707.58 column/sec. Elapsed time 14.08 sec\n",
      "EvaluatorHoldout: Ignoring 163 ( 0.5%) Users that have less than 1 test interactions\n",
      "EvaluatorHoldout: Processed 35573 (100.0%) in 49.47 sec. Users per second: 719\n",
      "Similarity column 38121 (100.0%), 2717.93 column/sec. Elapsed time 14.03 sec\n",
      "EvaluatorHoldout: Ignoring 150 ( 0.4%) Users that have less than 1 test interactions\n",
      "EvaluatorHoldout: Processed 35586 (100.0%) in 49.15 sec. Users per second: 724\n",
      "Similarity column 38121 (100.0%), 2689.03 column/sec. Elapsed time 14.18 sec\n",
      "EvaluatorHoldout: Ignoring 167 ( 0.5%) Users that have less than 1 test interactions\n",
      "EvaluatorHoldout: Processed 35569 (100.0%) in 49.53 sec. Users per second: 718\n",
      "Similarity column 38121 (100.0%), 2727.10 column/sec. Elapsed time 13.98 sec\n",
      "EvaluatorHoldout: Ignoring 172 ( 0.5%) Users that have less than 1 test interactions\n",
      "EvaluatorHoldout: Processed 35564 (100.0%) in 48.73 sec. Users per second: 730\n"
     ]
    },
    {
     "name": "stderr",
     "output_type": "stream",
     "text": [
      "[I 2025-01-06 01:11:52,799] Trial 500 finished with value: 0.028631966522537394 and parameters: {'similarity': 'asymmetric', 'topK': 331, 'shrink': 1, 'feature_weighting': 'none', 'asymmetric_alpha': 0.8570501741535514}. Best is trial 439 with value: 0.05361580072200237.\n"
     ]
    },
    {
     "name": "stdout",
     "output_type": "stream",
     "text": [
      "Similarity column 38121 (100.0%), 3456.03 column/sec. Elapsed time 11.03 sec\n",
      "EvaluatorHoldout: Ignoring 173 ( 0.5%) Users that have less than 1 test interactions\n",
      "EvaluatorHoldout: Processed 35563 (100.0%) in 25.56 sec. Users per second: 1391\n",
      "Similarity column 38121 (100.0%), 3476.48 column/sec. Elapsed time 10.97 sec\n",
      "EvaluatorHoldout: Ignoring 163 ( 0.5%) Users that have less than 1 test interactions\n",
      "EvaluatorHoldout: Processed 35573 (100.0%) in 25.52 sec. Users per second: 1394\n",
      "Similarity column 38121 (100.0%), 3475.62 column/sec. Elapsed time 10.97 sec\n",
      "EvaluatorHoldout: Ignoring 150 ( 0.4%) Users that have less than 1 test interactions\n",
      "EvaluatorHoldout: Processed 35586 (100.0%) in 25.54 sec. Users per second: 1393\n",
      "Similarity column 38121 (100.0%), 3457.80 column/sec. Elapsed time 11.02 sec\n",
      "EvaluatorHoldout: Ignoring 167 ( 0.5%) Users that have less than 1 test interactions\n",
      "EvaluatorHoldout: Processed 35569 (100.0%) in 25.49 sec. Users per second: 1395\n",
      "Similarity column 38121 (100.0%), 3406.57 column/sec. Elapsed time 11.19 sec\n",
      "EvaluatorHoldout: Ignoring 172 ( 0.5%) Users that have less than 1 test interactions\n",
      "EvaluatorHoldout: Processed 35564 (100.0%) in 25.39 sec. Users per second: 1401\n"
     ]
    },
    {
     "name": "stderr",
     "output_type": "stream",
     "text": [
      "[I 2025-01-06 01:14:57,350] Trial 501 finished with value: 0.0002664826418719655 and parameters: {'similarity': 'tversky', 'topK': 0, 'shrink': 40, 'feature_weighting': 'none', 'tversky_alpha': 0.20422484474732866, 'tversky_beta': 1.9568544249989503}. Best is trial 439 with value: 0.05361580072200237.\n"
     ]
    },
    {
     "name": "stdout",
     "output_type": "stream",
     "text": [
      "Similarity column 38121 (100.0%), 2686.97 column/sec. Elapsed time 14.19 sec\n",
      "EvaluatorHoldout: Ignoring 173 ( 0.5%) Users that have less than 1 test interactions\n",
      "EvaluatorHoldout: Processed 35563 (100.0%) in 32.50 sec. Users per second: 1094\n",
      "Similarity column 38121 (100.0%), 2657.22 column/sec. Elapsed time 14.35 sec\n",
      "EvaluatorHoldout: Ignoring 163 ( 0.5%) Users that have less than 1 test interactions\n",
      "EvaluatorHoldout: Processed 35573 (100.0%) in 33.08 sec. Users per second: 1075\n",
      "Similarity column 38121 (100.0%), 2693.17 column/sec. Elapsed time 14.15 sec\n",
      "EvaluatorHoldout: Ignoring 150 ( 0.4%) Users that have less than 1 test interactions\n",
      "EvaluatorHoldout: Processed 35586 (100.0%) in 32.27 sec. Users per second: 1103\n",
      "Similarity column 38121 (100.0%), 2692.60 column/sec. Elapsed time 14.16 sec\n",
      "EvaluatorHoldout: Ignoring 167 ( 0.5%) Users that have less than 1 test interactions\n",
      "EvaluatorHoldout: Processed 35569 (100.0%) in 32.68 sec. Users per second: 1088\n",
      "Similarity column 38121 (100.0%), 2664.80 column/sec. Elapsed time 14.31 sec\n",
      "EvaluatorHoldout: Ignoring 172 ( 0.5%) Users that have less than 1 test interactions\n",
      "EvaluatorHoldout: Processed 35564 (100.0%) in 32.80 sec. Users per second: 1084\n"
     ]
    },
    {
     "name": "stderr",
     "output_type": "stream",
     "text": [
      "[I 2025-01-06 01:18:53,830] Trial 502 finished with value: 0.04999393703363369 and parameters: {'similarity': 'tversky', 'topK': 14, 'shrink': 108, 'feature_weighting': 'none', 'tversky_alpha': 0.11289120038293086, 'tversky_beta': 1.8631901546648726}. Best is trial 439 with value: 0.05361580072200237.\n"
     ]
    },
    {
     "name": "stdout",
     "output_type": "stream",
     "text": [
      "Similarity column 38121 (100.0%), 2638.96 column/sec. Elapsed time 14.45 sec\n",
      "EvaluatorHoldout: Ignoring 173 ( 0.5%) Users that have less than 1 test interactions\n",
      "EvaluatorHoldout: Processed 35563 (100.0%) in 34.82 sec. Users per second: 1021\n",
      "Similarity column 38121 (100.0%), 2673.20 column/sec. Elapsed time 14.26 sec\n",
      "EvaluatorHoldout: Ignoring 163 ( 0.5%) Users that have less than 1 test interactions\n",
      "EvaluatorHoldout: Processed 35573 (100.0%) in 35.13 sec. Users per second: 1013\n",
      "Similarity column 38121 (100.0%), 2646.34 column/sec. Elapsed time 14.41 sec\n",
      "EvaluatorHoldout: Ignoring 150 ( 0.4%) Users that have less than 1 test interactions\n",
      "EvaluatorHoldout: Processed 35586 (100.0%) in 35.08 sec. Users per second: 1014\n",
      "Similarity column 38121 (100.0%), 2664.39 column/sec. Elapsed time 14.31 sec\n",
      "EvaluatorHoldout: Ignoring 167 ( 0.5%) Users that have less than 1 test interactions\n",
      "EvaluatorHoldout: Processed 35569 (100.0%) in 35.38 sec. Users per second: 1005\n",
      "Similarity column 38121 (100.0%), 2598.64 column/sec. Elapsed time 14.67 sec\n",
      "EvaluatorHoldout: Ignoring 172 ( 0.5%) Users that have less than 1 test interactions\n",
      "EvaluatorHoldout: Processed 35564 (100.0%) in 35.23 sec. Users per second: 1009\n"
     ]
    },
    {
     "name": "stderr",
     "output_type": "stream",
     "text": [
      "[I 2025-01-06 01:23:03,747] Trial 503 finished with value: 0.04686489303798978 and parameters: {'similarity': 'tversky', 'topK': 40, 'shrink': 87, 'feature_weighting': 'none', 'tversky_alpha': 0.03950707525403679, 'tversky_beta': 1.7900295132712774}. Best is trial 439 with value: 0.05361580072200237.\n"
     ]
    },
    {
     "name": "stdout",
     "output_type": "stream",
     "text": [
      "Similarity column 38121 (100.0%), 2624.34 column/sec. Elapsed time 14.53 sec\n",
      "EvaluatorHoldout: Ignoring 173 ( 0.5%) Users that have less than 1 test interactions\n",
      "EvaluatorHoldout: Processed 35563 (100.0%) in 35.24 sec. Users per second: 1009\n",
      "Similarity column 38121 (100.0%), 2593.60 column/sec. Elapsed time 14.70 sec\n",
      "EvaluatorHoldout: Ignoring 163 ( 0.5%) Users that have less than 1 test interactions\n",
      "EvaluatorHoldout: Processed 35573 (100.0%) in 35.98 sec. Users per second: 989\n",
      "Similarity column 38121 (100.0%), 2654.68 column/sec. Elapsed time 14.36 sec\n",
      "EvaluatorHoldout: Ignoring 150 ( 0.4%) Users that have less than 1 test interactions\n",
      "EvaluatorHoldout: Processed 35586 (100.0%) in 35.20 sec. Users per second: 1011\n",
      "Similarity column 38121 (100.0%), 2630.89 column/sec. Elapsed time 14.49 sec\n",
      "EvaluatorHoldout: Ignoring 167 ( 0.5%) Users that have less than 1 test interactions\n",
      "EvaluatorHoldout: Processed 35569 (100.0%) in 35.04 sec. Users per second: 1015\n",
      "Similarity column 38121 (100.0%), 2633.23 column/sec. Elapsed time 14.48 sec\n",
      "EvaluatorHoldout: Ignoring 172 ( 0.5%) Users that have less than 1 test interactions\n",
      "EvaluatorHoldout: Processed 35564 (100.0%) in 35.07 sec. Users per second: 1014\n"
     ]
    },
    {
     "name": "stderr",
     "output_type": "stream",
     "text": [
      "[I 2025-01-06 01:27:15,214] Trial 504 finished with value: 0.047929378891386425 and parameters: {'similarity': 'tversky', 'topK': 56, 'shrink': 32, 'feature_weighting': 'none', 'tversky_alpha': 0.07458746606751093, 'tversky_beta': 1.7355696398579639}. Best is trial 439 with value: 0.05361580072200237.\n"
     ]
    },
    {
     "name": "stdout",
     "output_type": "stream",
     "text": [
      "Similarity column 38121 (100.0%), 2948.33 column/sec. Elapsed time 12.93 sec\n",
      "EvaluatorHoldout: Ignoring 173 ( 0.5%) Users that have less than 1 test interactions\n",
      "EvaluatorHoldout: Processed 35563 (100.0%) in 34.14 sec. Users per second: 1042\n",
      "Similarity column 38121 (100.0%), 2918.76 column/sec. Elapsed time 13.06 sec\n",
      "EvaluatorHoldout: Ignoring 163 ( 0.5%) Users that have less than 1 test interactions\n",
      "EvaluatorHoldout: Processed 35573 (100.0%) in 34.46 sec. Users per second: 1032\n",
      "Similarity column 38121 (100.0%), 2941.22 column/sec. Elapsed time 12.96 sec\n",
      "EvaluatorHoldout: Ignoring 150 ( 0.4%) Users that have less than 1 test interactions\n",
      "EvaluatorHoldout: Processed 35586 (100.0%) in 34.28 sec. Users per second: 1038\n",
      "Similarity column 38121 (100.0%), 2881.28 column/sec. Elapsed time 13.23 sec\n",
      "EvaluatorHoldout: Ignoring 167 ( 0.5%) Users that have less than 1 test interactions\n",
      "EvaluatorHoldout: Processed 35569 (100.0%) in 35.02 sec. Users per second: 1016\n",
      "Similarity column 38121 (100.0%), 2937.66 column/sec. Elapsed time 12.98 sec\n",
      "EvaluatorHoldout: Ignoring 172 ( 0.5%) Users that have less than 1 test interactions\n",
      "EvaluatorHoldout: Processed 35564 (100.0%) in 34.84 sec. Users per second: 1021\n"
     ]
    },
    {
     "name": "stderr",
     "output_type": "stream",
     "text": [
      "[I 2025-01-06 01:31:15,162] Trial 505 finished with value: 0.0481529481940849 and parameters: {'similarity': 'jaccard', 'topK': 25, 'shrink': 62, 'feature_weighting': 'none'}. Best is trial 439 with value: 0.05361580072200237.\n"
     ]
    },
    {
     "name": "stdout",
     "output_type": "stream",
     "text": [
      "Similarity column 38121 (100.0%), 3375.78 column/sec. Elapsed time 11.29 sec\n",
      "EvaluatorHoldout: Ignoring 173 ( 0.5%) Users that have less than 1 test interactions\n",
      "EvaluatorHoldout: Processed 35563 (100.0%) in 25.69 sec. Users per second: 1384\n",
      "Similarity column 38121 (100.0%), 3287.09 column/sec. Elapsed time 11.60 sec\n",
      "EvaluatorHoldout: Ignoring 163 ( 0.5%) Users that have less than 1 test interactions\n",
      "EvaluatorHoldout: Processed 35573 (100.0%) in 26.77 sec. Users per second: 1329\n",
      "Similarity column 38121 (100.0%), 3401.58 column/sec. Elapsed time 11.21 sec\n",
      "EvaluatorHoldout: Ignoring 150 ( 0.4%) Users that have less than 1 test interactions\n",
      "EvaluatorHoldout: Processed 35586 (100.0%) in 26.11 sec. Users per second: 1363\n",
      "Similarity column 38121 (100.0%), 3402.30 column/sec. Elapsed time 11.20 sec\n",
      "EvaluatorHoldout: Ignoring 167 ( 0.5%) Users that have less than 1 test interactions\n",
      "EvaluatorHoldout: Processed 35569 (100.0%) in 25.98 sec. Users per second: 1369\n",
      "Similarity column 38121 (100.0%), 3361.08 column/sec. Elapsed time 11.34 sec\n",
      "EvaluatorHoldout: Ignoring 172 ( 0.5%) Users that have less than 1 test interactions\n",
      "EvaluatorHoldout: Processed 35564 (100.0%) in 25.72 sec. Users per second: 1382\n"
     ]
    },
    {
     "name": "stderr",
     "output_type": "stream",
     "text": [
      "[I 2025-01-06 01:34:24,005] Trial 506 finished with value: 0.0002664826418719655 and parameters: {'similarity': 'tversky', 'topK': 0, 'shrink': 0, 'feature_weighting': 'none', 'tversky_alpha': 0.1518684945587284, 'tversky_beta': 1.9239752749093362}. Best is trial 439 with value: 0.05361580072200237.\n"
     ]
    },
    {
     "name": "stdout",
     "output_type": "stream",
     "text": [
      "Similarity column 38121 (100.0%), 2503.68 column/sec. Elapsed time 15.23 sec\n",
      "EvaluatorHoldout: Ignoring 173 ( 0.5%) Users that have less than 1 test interactions\n",
      "EvaluatorHoldout: Processed 35563 (100.0%) in 47.70 sec. Users per second: 746\n",
      "Similarity column 38121 (100.0%), 2535.92 column/sec. Elapsed time 15.03 sec\n",
      "EvaluatorHoldout: Ignoring 163 ( 0.5%) Users that have less than 1 test interactions\n",
      "EvaluatorHoldout: Processed 35573 (100.0%) in 47.47 sec. Users per second: 749\n",
      "Similarity column 38121 (100.0%), 2521.94 column/sec. Elapsed time 15.12 sec\n",
      "EvaluatorHoldout: Ignoring 150 ( 0.4%) Users that have less than 1 test interactions\n",
      "EvaluatorHoldout: Processed 35586 (100.0%) in 47.38 sec. Users per second: 751\n",
      "Similarity column 38121 (100.0%), 2528.84 column/sec. Elapsed time 15.07 sec\n",
      "EvaluatorHoldout: Ignoring 167 ( 0.5%) Users that have less than 1 test interactions\n",
      "EvaluatorHoldout: Processed 35569 (100.0%) in 47.92 sec. Users per second: 742\n",
      "Similarity column 38121 (100.0%), 2532.33 column/sec. Elapsed time 15.05 sec\n",
      "EvaluatorHoldout: Ignoring 172 ( 0.5%) Users that have less than 1 test interactions\n",
      "EvaluatorHoldout: Processed 35564 (100.0%) in 47.54 sec. Users per second: 748\n"
     ]
    },
    {
     "name": "stderr",
     "output_type": "stream",
     "text": [
      "[I 2025-01-06 01:39:44,996] Trial 507 finished with value: 0.03953733321841382 and parameters: {'similarity': 'tversky', 'topK': 616, 'shrink': 19, 'feature_weighting': 'BM25', 'tversky_alpha': 0.12171019742657346, 'tversky_beta': 1.8774350115277165}. Best is trial 439 with value: 0.05361580072200237.\n"
     ]
    },
    {
     "name": "stdout",
     "output_type": "stream",
     "text": [
      "Similarity column 38121 (100.0%), 2602.99 column/sec. Elapsed time 14.65 sec\n",
      "EvaluatorHoldout: Ignoring 173 ( 0.5%) Users that have less than 1 test interactions\n",
      "EvaluatorHoldout: Processed 35563 (100.0%) in 33.04 sec. Users per second: 1077\n",
      "Similarity column 38121 (100.0%), 2662.04 column/sec. Elapsed time 14.32 sec\n",
      "EvaluatorHoldout: Ignoring 163 ( 0.5%) Users that have less than 1 test interactions\n",
      "EvaluatorHoldout: Processed 35573 (100.0%) in 32.05 sec. Users per second: 1110\n",
      "Similarity column 38121 (100.0%), 2669.76 column/sec. Elapsed time 14.28 sec\n",
      "EvaluatorHoldout: Ignoring 150 ( 0.4%) Users that have less than 1 test interactions\n",
      "EvaluatorHoldout: Processed 35586 (100.0%) in 32.23 sec. Users per second: 1104\n",
      "Similarity column 38121 (100.0%), 2680.60 column/sec. Elapsed time 14.22 sec\n",
      "EvaluatorHoldout: Ignoring 167 ( 0.5%) Users that have less than 1 test interactions\n",
      "EvaluatorHoldout: Processed 35569 (100.0%) in 32.17 sec. Users per second: 1106\n",
      "Similarity column 38121 (100.0%), 2623.84 column/sec. Elapsed time 14.53 sec\n",
      "EvaluatorHoldout: Ignoring 172 ( 0.5%) Users that have less than 1 test interactions\n",
      "EvaluatorHoldout: Processed 35564 (100.0%) in 32.42 sec. Users per second: 1097\n"
     ]
    },
    {
     "name": "stderr",
     "output_type": "stream",
     "text": [
      "[I 2025-01-06 01:43:40,948] Trial 508 finished with value: 0.052180141420665294 and parameters: {'similarity': 'tversky', 'topK': 15, 'shrink': 40, 'feature_weighting': 'none', 'tversky_alpha': 0.00032401317794860887, 'tversky_beta': 1.8295248431902325}. Best is trial 439 with value: 0.05361580072200237.\n"
     ]
    },
    {
     "name": "stdout",
     "output_type": "stream",
     "text": [
      "Similarity column 38121 (100.0%), 2697.95 column/sec. Elapsed time 14.13 sec\n",
      "EvaluatorHoldout: Ignoring 173 ( 0.5%) Users that have less than 1 test interactions\n",
      "EvaluatorHoldout: Processed 35563 (100.0%) in 34.20 sec. Users per second: 1040\n",
      "Similarity column 38121 (100.0%), 2676.68 column/sec. Elapsed time 14.24 sec\n",
      "EvaluatorHoldout: Ignoring 163 ( 0.5%) Users that have less than 1 test interactions\n",
      "EvaluatorHoldout: Processed 35573 (100.0%) in 34.60 sec. Users per second: 1028\n",
      "Similarity column 38121 (100.0%), 2624.35 column/sec. Elapsed time 14.53 sec\n",
      "EvaluatorHoldout: Ignoring 150 ( 0.4%) Users that have less than 1 test interactions\n",
      "EvaluatorHoldout: Processed 35586 (100.0%) in 34.24 sec. Users per second: 1039\n",
      "Similarity column 38121 (100.0%), 2667.72 column/sec. Elapsed time 14.29 sec\n",
      "EvaluatorHoldout: Ignoring 167 ( 0.5%) Users that have less than 1 test interactions\n",
      "EvaluatorHoldout: Processed 35569 (100.0%) in 33.96 sec. Users per second: 1047\n",
      "Similarity column 38121 (100.0%), 2676.96 column/sec. Elapsed time 14.24 sec\n",
      "EvaluatorHoldout: Ignoring 172 ( 0.5%) Users that have less than 1 test interactions\n",
      "EvaluatorHoldout: Processed 35564 (100.0%) in 33.88 sec. Users per second: 1050\n"
     ]
    },
    {
     "name": "stderr",
     "output_type": "stream",
     "text": [
      "[I 2025-01-06 01:47:45,450] Trial 509 finished with value: 0.04921039616716356 and parameters: {'similarity': 'tversky', 'topK': 36, 'shrink': 51, 'feature_weighting': 'none', 'tversky_alpha': 0.045389984078562984, 'tversky_beta': 1.9640579222900156}. Best is trial 439 with value: 0.05361580072200237.\n"
     ]
    },
    {
     "name": "stdout",
     "output_type": "stream",
     "text": [
      "Similarity column 38121 (100.0%), 2678.45 column/sec. Elapsed time 14.23 sec\n",
      "EvaluatorHoldout: Ignoring 173 ( 0.5%) Users that have less than 1 test interactions\n",
      "EvaluatorHoldout: Processed 35563 (100.0%) in 31.68 sec. Users per second: 1123\n",
      "Similarity column 38121 (100.0%), 2698.17 column/sec. Elapsed time 14.13 sec\n",
      "EvaluatorHoldout: Ignoring 163 ( 0.5%) Users that have less than 1 test interactions\n",
      "EvaluatorHoldout: Processed 35573 (100.0%) in 31.60 sec. Users per second: 1126\n",
      "Similarity column 38121 (100.0%), 2685.93 column/sec. Elapsed time 14.19 sec\n",
      "EvaluatorHoldout: Ignoring 150 ( 0.4%) Users that have less than 1 test interactions\n",
      "EvaluatorHoldout: Processed 35586 (100.0%) in 32.21 sec. Users per second: 1105\n",
      "Similarity column 38121 (100.0%), 2684.53 column/sec. Elapsed time 14.20 sec\n",
      "EvaluatorHoldout: Ignoring 167 ( 0.5%) Users that have less than 1 test interactions\n",
      "EvaluatorHoldout: Processed 35569 (100.0%) in 31.79 sec. Users per second: 1119\n",
      "Similarity column 38121 (100.0%), 2667.65 column/sec. Elapsed time 14.29 sec\n",
      "EvaluatorHoldout: Ignoring 172 ( 0.5%) Users that have less than 1 test interactions\n",
      "EvaluatorHoldout: Processed 35564 (100.0%) in 32.29 sec. Users per second: 1101\n"
     ]
    },
    {
     "name": "stderr",
     "output_type": "stream",
     "text": [
      "[I 2025-01-06 01:51:38,072] Trial 510 finished with value: 0.05311833105802607 and parameters: {'similarity': 'tversky', 'topK': 14, 'shrink': 23, 'feature_weighting': 'none', 'tversky_alpha': 0.0858608757919471, 'tversky_beta': 1.8921344671693328}. Best is trial 439 with value: 0.05361580072200237.\n"
     ]
    },
    {
     "name": "stdout",
     "output_type": "stream",
     "text": [
      "Similarity column 38121 (100.0%), 2672.82 column/sec. Elapsed time 14.26 sec\n",
      "EvaluatorHoldout: Ignoring 173 ( 0.5%) Users that have less than 1 test interactions\n",
      "EvaluatorHoldout: Processed 35563 (100.0%) in 32.92 sec. Users per second: 1080\n",
      "Similarity column 38121 (100.0%), 2659.42 column/sec. Elapsed time 14.33 sec\n",
      "EvaluatorHoldout: Ignoring 163 ( 0.5%) Users that have less than 1 test interactions\n",
      "EvaluatorHoldout: Processed 35573 (100.0%) in 32.83 sec. Users per second: 1084\n",
      "Similarity column 38121 (100.0%), 2682.58 column/sec. Elapsed time 14.21 sec\n",
      "EvaluatorHoldout: Ignoring 150 ( 0.4%) Users that have less than 1 test interactions\n",
      "EvaluatorHoldout: Processed 35586 (100.0%) in 32.81 sec. Users per second: 1084\n",
      "Similarity column 38121 (100.0%), 2667.67 column/sec. Elapsed time 14.29 sec\n",
      "EvaluatorHoldout: Ignoring 167 ( 0.5%) Users that have less than 1 test interactions\n",
      "EvaluatorHoldout: Processed 35569 (100.0%) in 33.63 sec. Users per second: 1058\n",
      "Similarity column 38121 (100.0%), 2652.34 column/sec. Elapsed time 14.37 sec\n",
      "EvaluatorHoldout: Ignoring 172 ( 0.5%) Users that have less than 1 test interactions\n",
      "EvaluatorHoldout: Processed 35564 (100.0%) in 33.01 sec. Users per second: 1077\n"
     ]
    },
    {
     "name": "stderr",
     "output_type": "stream",
     "text": [
      "[I 2025-01-06 01:55:36,822] Trial 511 finished with value: 0.05157996461084506 and parameters: {'similarity': 'tversky', 'topK': 26, 'shrink': 16, 'feature_weighting': 'none', 'tversky_alpha': 0.18246267446441866, 'tversky_beta': 1.8001815200456632}. Best is trial 439 with value: 0.05361580072200237.\n"
     ]
    },
    {
     "name": "stdout",
     "output_type": "stream",
     "text": [
      "Similarity column 38121 (100.0%), 2674.47 column/sec. Elapsed time 14.25 sec\n",
      "EvaluatorHoldout: Ignoring 173 ( 0.5%) Users that have less than 1 test interactions\n",
      "EvaluatorHoldout: Processed 35563 (100.0%) in 34.27 sec. Users per second: 1038\n",
      "Similarity column 38121 (100.0%), 2640.28 column/sec. Elapsed time 14.44 sec\n",
      "EvaluatorHoldout: Ignoring 163 ( 0.5%) Users that have less than 1 test interactions\n",
      "EvaluatorHoldout: Processed 35573 (100.0%) in 34.64 sec. Users per second: 1027\n",
      "Similarity column 38121 (100.0%), 2653.49 column/sec. Elapsed time 14.37 sec\n",
      "EvaluatorHoldout: Ignoring 150 ( 0.4%) Users that have less than 1 test interactions\n",
      "EvaluatorHoldout: Processed 35586 (100.0%) in 35.34 sec. Users per second: 1007\n",
      "Similarity column 38121 (100.0%), 2600.47 column/sec. Elapsed time 14.66 sec\n",
      "EvaluatorHoldout: Ignoring 167 ( 0.5%) Users that have less than 1 test interactions\n",
      "EvaluatorHoldout: Processed 35569 (100.0%) in 34.93 sec. Users per second: 1018\n",
      "Similarity column 38121 (100.0%), 2651.49 column/sec. Elapsed time 14.38 sec\n",
      "EvaluatorHoldout: Ignoring 172 ( 0.5%) Users that have less than 1 test interactions\n",
      "EvaluatorHoldout: Processed 35564 (100.0%) in 34.05 sec. Users per second: 1045\n"
     ]
    },
    {
     "name": "stderr",
     "output_type": "stream",
     "text": [
      "[I 2025-01-06 01:59:44,358] Trial 512 finished with value: 0.04977811200934375 and parameters: {'similarity': 'tversky', 'topK': 43, 'shrink': 19, 'feature_weighting': 'none', 'tversky_alpha': 0.09240622835443046, 'tversky_beta': 1.861326249397497}. Best is trial 439 with value: 0.05361580072200237.\n"
     ]
    },
    {
     "name": "stdout",
     "output_type": "stream",
     "text": [
      "Similarity column 38121 (100.0%), 372.72 column/sec. Elapsed time 1.70 min\n",
      "EvaluatorHoldout: Ignoring 173 ( 0.5%) Users that have less than 1 test interactions\n",
      "EvaluatorHoldout: Processed 35563 (100.0%) in 37.07 sec. Users per second: 959\n",
      "Similarity column 38121 (100.0%), 409.02 column/sec. Elapsed time 1.55 min\n",
      "EvaluatorHoldout: Ignoring 163 ( 0.5%) Users that have less than 1 test interactions\n",
      "EvaluatorHoldout: Processed 35573 (100.0%) in 35.95 sec. Users per second: 989\n",
      "Similarity column 38121 (100.0%), 429.63 column/sec. Elapsed time 1.48 min\n",
      "EvaluatorHoldout: Ignoring 150 ( 0.4%) Users that have less than 1 test interactions\n",
      "EvaluatorHoldout: Processed 35586 (100.0%) in 35.72 sec. Users per second: 996\n",
      "Similarity column 38121 (100.0%), 419.78 column/sec. Elapsed time 1.51 min\n",
      "EvaluatorHoldout: Ignoring 167 ( 0.5%) Users that have less than 1 test interactions\n",
      "EvaluatorHoldout: Processed 35569 (100.0%) in 35.93 sec. Users per second: 990\n",
      "Similarity column 38121 (100.0%), 407.56 column/sec. Elapsed time 1.56 min\n",
      "EvaluatorHoldout: Ignoring 172 ( 0.5%) Users that have less than 1 test interactions\n",
      "EvaluatorHoldout: Processed 35564 (100.0%) in 36.72 sec. Users per second: 968\n"
     ]
    },
    {
     "name": "stderr",
     "output_type": "stream",
     "text": [
      "[I 2025-01-06 02:10:35,364] Trial 513 finished with value: 0.03007961611014704 and parameters: {'similarity': 'euclidean', 'topK': 58, 'shrink': 28, 'feature_weighting': 'none', 'normalize_avg_row': False, 'similarity_from_distance_mode': 'exp', 'normalize': True}. Best is trial 439 with value: 0.05361580072200237.\n"
     ]
    },
    {
     "name": "stdout",
     "output_type": "stream",
     "text": [
      "Similarity column 38121 (100.0%), 3463.52 column/sec. Elapsed time 11.01 sec\n",
      "EvaluatorHoldout: Ignoring 173 ( 0.5%) Users that have less than 1 test interactions\n",
      "EvaluatorHoldout: Processed 35563 (100.0%) in 25.30 sec. Users per second: 1405\n",
      "Similarity column 38121 (100.0%), 3469.40 column/sec. Elapsed time 10.99 sec\n",
      "EvaluatorHoldout: Ignoring 163 ( 0.5%) Users that have less than 1 test interactions\n",
      "EvaluatorHoldout: Processed 35573 (100.0%) in 25.05 sec. Users per second: 1420\n",
      "Similarity column 38121 (100.0%), 3424.44 column/sec. Elapsed time 11.13 sec\n",
      "EvaluatorHoldout: Ignoring 150 ( 0.4%) Users that have less than 1 test interactions\n",
      "EvaluatorHoldout: Processed 35586 (100.0%) in 25.46 sec. Users per second: 1397\n",
      "Similarity column 38121 (100.0%), 3377.57 column/sec. Elapsed time 11.29 sec\n",
      "EvaluatorHoldout: Ignoring 167 ( 0.5%) Users that have less than 1 test interactions\n",
      "EvaluatorHoldout: Processed 35569 (100.0%) in 25.36 sec. Users per second: 1402\n",
      "Similarity column 38121 (100.0%), 3478.84 column/sec. Elapsed time 10.96 sec\n",
      "EvaluatorHoldout: Ignoring 172 ( 0.5%) Users that have less than 1 test interactions\n",
      "EvaluatorHoldout: Processed 35564 (100.0%) in 25.58 sec. Users per second: 1391\n"
     ]
    },
    {
     "name": "stderr",
     "output_type": "stream",
     "text": [
      "[I 2025-01-06 02:13:39,450] Trial 514 finished with value: 0.0002664826418719655 and parameters: {'similarity': 'tversky', 'topK': 0, 'shrink': 335, 'feature_weighting': 'none', 'tversky_alpha': 0.12978706109211205, 'tversky_beta': 1.6512033595473428}. Best is trial 439 with value: 0.05361580072200237.\n"
     ]
    },
    {
     "name": "stdout",
     "output_type": "stream",
     "text": [
      "Similarity column 38121 (100.0%), 2591.43 column/sec. Elapsed time 14.71 sec\n",
      "EvaluatorHoldout: Ignoring 173 ( 0.5%) Users that have less than 1 test interactions\n",
      "EvaluatorHoldout: Processed 35563 (100.0%) in 45.49 sec. Users per second: 782\n",
      "Similarity column 38121 (100.0%), 2588.09 column/sec. Elapsed time 14.73 sec\n",
      "EvaluatorHoldout: Ignoring 163 ( 0.5%) Users that have less than 1 test interactions\n",
      "EvaluatorHoldout: Processed 35573 (100.0%) in 45.40 sec. Users per second: 783\n",
      "Similarity column 38121 (100.0%), 2578.49 column/sec. Elapsed time 14.78 sec\n",
      "EvaluatorHoldout: Ignoring 150 ( 0.4%) Users that have less than 1 test interactions\n",
      "EvaluatorHoldout: Processed 35586 (100.0%) in 45.43 sec. Users per second: 783\n",
      "Similarity column 38121 (100.0%), 2568.84 column/sec. Elapsed time 14.84 sec\n",
      "EvaluatorHoldout: Ignoring 167 ( 0.5%) Users that have less than 1 test interactions\n",
      "EvaluatorHoldout: Processed 35569 (100.0%) in 45.16 sec. Users per second: 788\n",
      "Similarity column 38121 (100.0%), 2510.43 column/sec. Elapsed time 15.19 sec\n",
      "EvaluatorHoldout: Ignoring 172 ( 0.5%) Users that have less than 1 test interactions\n",
      "EvaluatorHoldout: Processed 35564 (100.0%) in 45.14 sec. Users per second: 788\n"
     ]
    },
    {
     "name": "stderr",
     "output_type": "stream",
     "text": [
      "[I 2025-01-06 02:18:45,604] Trial 515 finished with value: 0.036812778719327054 and parameters: {'similarity': 'tversky', 'topK': 440, 'shrink': 68, 'feature_weighting': 'none', 'tversky_alpha': 0.08168764152528461, 'tversky_beta': 1.897548725288614}. Best is trial 439 with value: 0.05361580072200237.\n"
     ]
    },
    {
     "name": "stdout",
     "output_type": "stream",
     "text": [
      "Similarity column 38121 (100.0%), 2991.88 column/sec. Elapsed time 12.74 sec\n",
      "EvaluatorHoldout: Ignoring 173 ( 0.5%) Users that have less than 1 test interactions\n",
      "EvaluatorHoldout: Processed 35563 (100.0%) in 33.06 sec. Users per second: 1076\n",
      "Similarity column 38121 (100.0%), 3001.20 column/sec. Elapsed time 12.70 sec\n",
      "EvaluatorHoldout: Ignoring 163 ( 0.5%) Users that have less than 1 test interactions\n",
      "EvaluatorHoldout: Processed 35573 (100.0%) in 34.75 sec. Users per second: 1024\n",
      "Similarity column 38121 (100.0%), 2964.34 column/sec. Elapsed time 12.86 sec\n",
      "EvaluatorHoldout: Ignoring 150 ( 0.4%) Users that have less than 1 test interactions\n",
      "EvaluatorHoldout: Processed 35586 (100.0%) in 33.29 sec. Users per second: 1069\n",
      "Similarity column 38121 (100.0%), 3016.55 column/sec. Elapsed time 12.64 sec\n",
      "EvaluatorHoldout: Ignoring 167 ( 0.5%) Users that have less than 1 test interactions\n",
      "EvaluatorHoldout: Processed 35569 (100.0%) in 33.33 sec. Users per second: 1067\n",
      "Similarity column 38121 (100.0%), 2968.63 column/sec. Elapsed time 12.84 sec\n",
      "EvaluatorHoldout: Ignoring 172 ( 0.5%) Users that have less than 1 test interactions\n",
      "EvaluatorHoldout: Processed 35564 (100.0%) in 33.96 sec. Users per second: 1047\n"
     ]
    },
    {
     "name": "stderr",
     "output_type": "stream",
     "text": [
      "[I 2025-01-06 02:22:39,798] Trial 516 finished with value: 0.04856933706904039 and parameters: {'similarity': 'dice', 'topK': 22, 'shrink': 15, 'feature_weighting': 'none'}. Best is trial 439 with value: 0.05361580072200237.\n"
     ]
    },
    {
     "name": "stdout",
     "output_type": "stream",
     "text": [
      "Similarity column 38121 (100.0%), 2692.70 column/sec. Elapsed time 14.16 sec\n",
      "EvaluatorHoldout: Ignoring 173 ( 0.5%) Users that have less than 1 test interactions\n",
      "EvaluatorHoldout: Processed 35563 (100.0%) in 32.33 sec. Users per second: 1100\n",
      "Similarity column 38121 (100.0%), 2674.66 column/sec. Elapsed time 14.25 sec\n",
      "EvaluatorHoldout: Ignoring 163 ( 0.5%) Users that have less than 1 test interactions\n",
      "EvaluatorHoldout: Processed 35573 (100.0%) in 32.46 sec. Users per second: 1096\n",
      "Similarity column 38121 (100.0%), 2669.87 column/sec. Elapsed time 14.28 sec\n",
      "EvaluatorHoldout: Ignoring 150 ( 0.4%) Users that have less than 1 test interactions\n",
      "EvaluatorHoldout: Processed 35586 (100.0%) in 32.16 sec. Users per second: 1106\n",
      "Similarity column 38121 (100.0%), 2672.10 column/sec. Elapsed time 14.27 sec\n",
      "EvaluatorHoldout: Ignoring 167 ( 0.5%) Users that have less than 1 test interactions\n",
      "EvaluatorHoldout: Processed 35569 (100.0%) in 32.57 sec. Users per second: 1092\n",
      "Similarity column 38121 (100.0%), 2685.93 column/sec. Elapsed time 14.19 sec\n",
      "EvaluatorHoldout: Ignoring 172 ( 0.5%) Users that have less than 1 test interactions\n",
      "EvaluatorHoldout: Processed 35564 (100.0%) in 32.19 sec. Users per second: 1105\n"
     ]
    },
    {
     "name": "stderr",
     "output_type": "stream",
     "text": [
      "[I 2025-01-06 02:26:34,634] Trial 517 finished with value: 0.051602319030247014 and parameters: {'similarity': 'tversky', 'topK': 14, 'shrink': 33, 'feature_weighting': 'none', 'tversky_alpha': 0.1358531213934163, 'tversky_beta': 1.0600544737185975}. Best is trial 439 with value: 0.05361580072200237.\n"
     ]
    },
    {
     "name": "stdout",
     "output_type": "stream",
     "text": [
      "Similarity column 38121 (100.0%), 2675.88 column/sec. Elapsed time 14.25 sec\n",
      "EvaluatorHoldout: Ignoring 173 ( 0.5%) Users that have less than 1 test interactions\n",
      "EvaluatorHoldout: Processed 35563 (100.0%) in 33.02 sec. Users per second: 1077\n",
      "Similarity column 38121 (100.0%), 2704.52 column/sec. Elapsed time 14.10 sec\n",
      "EvaluatorHoldout: Ignoring 163 ( 0.5%) Users that have less than 1 test interactions\n",
      "EvaluatorHoldout: Processed 35573 (100.0%) in 32.98 sec. Users per second: 1079\n",
      "Similarity column 38121 (100.0%), 2635.99 column/sec. Elapsed time 14.46 sec\n",
      "EvaluatorHoldout: Ignoring 150 ( 0.4%) Users that have less than 1 test interactions\n",
      "EvaluatorHoldout: Processed 35586 (100.0%) in 33.40 sec. Users per second: 1065\n",
      "Similarity column 38121 (100.0%), 2700.53 column/sec. Elapsed time 14.12 sec\n",
      "EvaluatorHoldout: Ignoring 167 ( 0.5%) Users that have less than 1 test interactions\n",
      "EvaluatorHoldout: Processed 35569 (100.0%) in 33.15 sec. Users per second: 1073\n",
      "Similarity column 38121 (100.0%), 2645.31 column/sec. Elapsed time 14.41 sec\n",
      "EvaluatorHoldout: Ignoring 172 ( 0.5%) Users that have less than 1 test interactions\n",
      "EvaluatorHoldout: Processed 35564 (100.0%) in 33.11 sec. Users per second: 1074\n"
     ]
    },
    {
     "name": "stderr",
     "output_type": "stream",
     "text": [
      "[I 2025-01-06 02:30:33,742] Trial 518 finished with value: 0.0502605952274786 and parameters: {'similarity': 'tversky', 'topK': 36, 'shrink': 1, 'feature_weighting': 'none', 'tversky_alpha': 0.06077783789410833, 'tversky_beta': 1.8344346936437892}. Best is trial 439 with value: 0.05361580072200237.\n"
     ]
    },
    {
     "name": "stdout",
     "output_type": "stream",
     "text": [
      "Similarity column 38121 (100.0%), 2686.77 column/sec. Elapsed time 14.19 sec\n",
      "EvaluatorHoldout: Ignoring 173 ( 0.5%) Users that have less than 1 test interactions\n",
      "EvaluatorHoldout: Processed 35563 (100.0%) in 36.03 sec. Users per second: 987\n",
      "Similarity column 38121 (100.0%), 2601.85 column/sec. Elapsed time 14.65 sec\n",
      "EvaluatorHoldout: Ignoring 163 ( 0.5%) Users that have less than 1 test interactions\n",
      "EvaluatorHoldout: Processed 35573 (100.0%) in 37.60 sec. Users per second: 946\n",
      "Similarity column 38121 (100.0%), 2550.24 column/sec. Elapsed time 14.95 sec\n",
      "EvaluatorHoldout: Ignoring 150 ( 0.4%) Users that have less than 1 test interactions\n",
      "EvaluatorHoldout: Processed 35586 (100.0%) in 36.37 sec. Users per second: 978\n",
      "Similarity column 38121 (100.0%), 2641.79 column/sec. Elapsed time 14.43 sec\n",
      "EvaluatorHoldout: Ignoring 167 ( 0.5%) Users that have less than 1 test interactions\n",
      "EvaluatorHoldout: Processed 35569 (100.0%) in 36.81 sec. Users per second: 966\n",
      "Similarity column 38121 (100.0%), 2642.43 column/sec. Elapsed time 14.43 sec\n",
      "EvaluatorHoldout: Ignoring 172 ( 0.5%) Users that have less than 1 test interactions\n",
      "EvaluatorHoldout: Processed 35564 (100.0%) in 36.21 sec. Users per second: 982\n"
     ]
    },
    {
     "name": "stderr",
     "output_type": "stream",
     "text": [
      "[I 2025-01-06 02:34:51,837] Trial 519 finished with value: 0.04634047165358032 and parameters: {'similarity': 'tversky', 'topK': 73, 'shrink': 51, 'feature_weighting': 'none', 'tversky_alpha': 0.2795260426452653, 'tversky_beta': 1.7564526571378498}. Best is trial 439 with value: 0.05361580072200237.\n"
     ]
    },
    {
     "name": "stdout",
     "output_type": "stream",
     "text": [
      "Similarity column 38121 (100.0%), 2686.50 column/sec. Elapsed time 14.19 sec\n",
      "EvaluatorHoldout: Ignoring 173 ( 0.5%) Users that have less than 1 test interactions\n",
      "EvaluatorHoldout: Processed 35563 (100.0%) in 31.90 sec. Users per second: 1115\n",
      "Similarity column 38121 (100.0%), 2665.88 column/sec. Elapsed time 14.30 sec\n",
      "EvaluatorHoldout: Ignoring 163 ( 0.5%) Users that have less than 1 test interactions\n",
      "EvaluatorHoldout: Processed 35573 (100.0%) in 31.84 sec. Users per second: 1117\n",
      "Similarity column 38121 (100.0%), 2701.74 column/sec. Elapsed time 14.11 sec\n",
      "EvaluatorHoldout: Ignoring 150 ( 0.4%) Users that have less than 1 test interactions\n",
      "EvaluatorHoldout: Processed 35586 (100.0%) in 31.80 sec. Users per second: 1119\n",
      "Similarity column 38121 (100.0%), 2697.30 column/sec. Elapsed time 14.13 sec\n",
      "EvaluatorHoldout: Ignoring 167 ( 0.5%) Users that have less than 1 test interactions\n",
      "EvaluatorHoldout: Processed 35569 (100.0%) in 32.31 sec. Users per second: 1101\n",
      "Similarity column 38121 (100.0%), 2671.78 column/sec. Elapsed time 14.27 sec\n",
      "EvaluatorHoldout: Ignoring 172 ( 0.5%) Users that have less than 1 test interactions\n",
      "EvaluatorHoldout: Processed 35564 (100.0%) in 31.76 sec. Users per second: 1120\n"
     ]
    },
    {
     "name": "stderr",
     "output_type": "stream",
     "text": [
      "[I 2025-01-06 02:38:44,444] Trial 520 finished with value: 0.05167357984499814 and parameters: {'similarity': 'tversky', 'topK': 12, 'shrink': 76, 'feature_weighting': 'none', 'tversky_alpha': 0.03476207885942163, 'tversky_beta': 1.9116787568084332}. Best is trial 439 with value: 0.05361580072200237.\n"
     ]
    },
    {
     "name": "stdout",
     "output_type": "stream",
     "text": [
      "Similarity column 38121 (100.0%), 2693.77 column/sec. Elapsed time 14.15 sec\n",
      "EvaluatorHoldout: Ignoring 173 ( 0.5%) Users that have less than 1 test interactions\n",
      "EvaluatorHoldout: Processed 35563 (100.0%) in 33.06 sec. Users per second: 1076\n",
      "Similarity column 38121 (100.0%), 2679.40 column/sec. Elapsed time 14.23 sec\n",
      "EvaluatorHoldout: Ignoring 163 ( 0.5%) Users that have less than 1 test interactions\n",
      "EvaluatorHoldout: Processed 35573 (100.0%) in 33.29 sec. Users per second: 1068\n",
      "Similarity column 38121 (100.0%), 2646.09 column/sec. Elapsed time 14.41 sec\n",
      "EvaluatorHoldout: Ignoring 150 ( 0.4%) Users that have less than 1 test interactions\n",
      "EvaluatorHoldout: Processed 35586 (100.0%) in 33.29 sec. Users per second: 1069\n",
      "Similarity column 38121 (100.0%), 2693.32 column/sec. Elapsed time 14.15 sec\n",
      "EvaluatorHoldout: Ignoring 167 ( 0.5%) Users that have less than 1 test interactions\n",
      "EvaluatorHoldout: Processed 35569 (100.0%) in 33.17 sec. Users per second: 1072\n",
      "Similarity column 38121 (100.0%), 2689.13 column/sec. Elapsed time 14.18 sec\n",
      "EvaluatorHoldout: Ignoring 172 ( 0.5%) Users that have less than 1 test interactions\n",
      "EvaluatorHoldout: Processed 35564 (100.0%) in 32.94 sec. Users per second: 1080\n"
     ]
    },
    {
     "name": "stderr",
     "output_type": "stream",
     "text": [
      "[I 2025-01-06 02:42:43,374] Trial 521 finished with value: 0.05066950142647218 and parameters: {'similarity': 'tversky', 'topK': 29, 'shrink': 31, 'feature_weighting': 'none', 'tversky_alpha': 0.0912431881919858, 'tversky_beta': 1.8680411321178851}. Best is trial 439 with value: 0.05361580072200237.\n"
     ]
    },
    {
     "name": "stdout",
     "output_type": "stream",
     "text": [
      "Similarity column 38121 (100.0%), 2671.05 column/sec. Elapsed time 14.27 sec\n",
      "EvaluatorHoldout: Ignoring 173 ( 0.5%) Users that have less than 1 test interactions\n",
      "EvaluatorHoldout: Processed 35563 (100.0%) in 33.88 sec. Users per second: 1050\n",
      "Similarity column 38121 (100.0%), 2681.73 column/sec. Elapsed time 14.22 sec\n",
      "EvaluatorHoldout: Ignoring 163 ( 0.5%) Users that have less than 1 test interactions\n",
      "EvaluatorHoldout: Processed 35573 (100.0%) in 33.68 sec. Users per second: 1056\n",
      "Similarity column 38121 (100.0%), 2638.40 column/sec. Elapsed time 14.45 sec\n",
      "EvaluatorHoldout: Ignoring 150 ( 0.4%) Users that have less than 1 test interactions\n",
      "EvaluatorHoldout: Processed 35586 (100.0%) in 33.81 sec. Users per second: 1052\n",
      "Similarity column 38121 (100.0%), 2653.10 column/sec. Elapsed time 14.37 sec\n",
      "EvaluatorHoldout: Ignoring 167 ( 0.5%) Users that have less than 1 test interactions\n",
      "EvaluatorHoldout: Processed 35569 (100.0%) in 34.07 sec. Users per second: 1044\n",
      "Similarity column 38121 (100.0%), 2647.83 column/sec. Elapsed time 14.40 sec\n",
      "EvaluatorHoldout: Ignoring 172 ( 0.5%) Users that have less than 1 test interactions\n",
      "EvaluatorHoldout: Processed 35564 (100.0%) in 33.41 sec. Users per second: 1065\n"
     ]
    },
    {
     "name": "stderr",
     "output_type": "stream",
     "text": [
      "[I 2025-01-06 02:46:46,166] Trial 522 finished with value: 0.05015219477999364 and parameters: {'similarity': 'tversky', 'topK': 44, 'shrink': 1, 'feature_weighting': 'none', 'tversky_alpha': 0.15848632877019908, 'tversky_beta': 1.9458978351605296}. Best is trial 439 with value: 0.05361580072200237.\n"
     ]
    },
    {
     "name": "stdout",
     "output_type": "stream",
     "text": [
      "Similarity column 38121 (100.0%), 2684.78 column/sec. Elapsed time 14.20 sec\n",
      "EvaluatorHoldout: Ignoring 173 ( 0.5%) Users that have less than 1 test interactions\n",
      "EvaluatorHoldout: Processed 35563 (100.0%) in 31.51 sec. Users per second: 1129\n",
      "Similarity column 38121 (100.0%), 2702.29 column/sec. Elapsed time 14.11 sec\n",
      "EvaluatorHoldout: Ignoring 163 ( 0.5%) Users that have less than 1 test interactions\n",
      "EvaluatorHoldout: Processed 35573 (100.0%) in 31.91 sec. Users per second: 1115\n",
      "Similarity column 38121 (100.0%), 2698.06 column/sec. Elapsed time 14.13 sec\n",
      "EvaluatorHoldout: Ignoring 150 ( 0.4%) Users that have less than 1 test interactions\n",
      "EvaluatorHoldout: Processed 35586 (100.0%) in 31.52 sec. Users per second: 1129\n",
      "Similarity column 38121 (100.0%), 2682.77 column/sec. Elapsed time 14.21 sec\n",
      "EvaluatorHoldout: Ignoring 167 ( 0.5%) Users that have less than 1 test interactions\n",
      "EvaluatorHoldout: Processed 35569 (100.0%) in 31.96 sec. Users per second: 1113\n",
      "Similarity column 38121 (100.0%), 2635.91 column/sec. Elapsed time 14.46 sec\n",
      "EvaluatorHoldout: Ignoring 172 ( 0.5%) Users that have less than 1 test interactions\n",
      "EvaluatorHoldout: Processed 35564 (100.0%) in 32.05 sec. Users per second: 1110\n"
     ]
    },
    {
     "name": "stderr",
     "output_type": "stream",
     "text": [
      "[I 2025-01-06 02:50:38,295] Trial 523 finished with value: 0.0521576167736863 and parameters: {'similarity': 'tversky', 'topK': 13, 'shrink': 53, 'feature_weighting': 'none', 'tversky_alpha': 0.032531877423160924, 'tversky_beta': 1.8113182437638677}. Best is trial 439 with value: 0.05361580072200237.\n"
     ]
    },
    {
     "name": "stdout",
     "output_type": "stream",
     "text": [
      "Similarity column 38121 (100.0%), 2684.83 column/sec. Elapsed time 14.20 sec\n",
      "EvaluatorHoldout: Ignoring 173 ( 0.5%) Users that have less than 1 test interactions\n",
      "EvaluatorHoldout: Processed 35563 (100.0%) in 32.45 sec. Users per second: 1096\n",
      "Similarity column 38121 (100.0%), 2685.06 column/sec. Elapsed time 14.20 sec\n",
      "EvaluatorHoldout: Ignoring 163 ( 0.5%) Users that have less than 1 test interactions\n",
      "EvaluatorHoldout: Processed 35573 (100.0%) in 32.48 sec. Users per second: 1095\n",
      "Similarity column 38121 (100.0%), 2687.36 column/sec. Elapsed time 14.19 sec\n",
      "EvaluatorHoldout: Ignoring 150 ( 0.4%) Users that have less than 1 test interactions\n",
      "EvaluatorHoldout: Processed 35586 (100.0%) in 32.39 sec. Users per second: 1099\n",
      "Similarity column 38121 (100.0%), 2699.07 column/sec. Elapsed time 14.12 sec\n",
      "EvaluatorHoldout: Ignoring 167 ( 0.5%) Users that have less than 1 test interactions\n",
      "EvaluatorHoldout: Processed 35569 (100.0%) in 32.54 sec. Users per second: 1093\n",
      "Similarity column 38121 (100.0%), 2646.87 column/sec. Elapsed time 14.40 sec\n",
      "EvaluatorHoldout: Ignoring 172 ( 0.5%) Users that have less than 1 test interactions\n",
      "EvaluatorHoldout: Processed 35564 (100.0%) in 32.78 sec. Users per second: 1085\n"
     ]
    },
    {
     "name": "stderr",
     "output_type": "stream",
     "text": [
      "[I 2025-01-06 02:54:34,072] Trial 524 finished with value: 0.05180483292633777 and parameters: {'similarity': 'tversky', 'topK': 23, 'shrink': 19, 'feature_weighting': 'none', 'tversky_alpha': 0.10856582244434665, 'tversky_beta': 1.8796102599689557}. Best is trial 439 with value: 0.05361580072200237.\n"
     ]
    },
    {
     "name": "stdout",
     "output_type": "stream",
     "text": [
      "Similarity column 38121 (100.0%), 2669.87 column/sec. Elapsed time 14.28 sec\n",
      "EvaluatorHoldout: Ignoring 173 ( 0.5%) Users that have less than 1 test interactions\n",
      "EvaluatorHoldout: Processed 35563 (100.0%) in 33.65 sec. Users per second: 1057\n",
      "Similarity column 38121 (100.0%), 2639.64 column/sec. Elapsed time 14.44 sec\n",
      "EvaluatorHoldout: Ignoring 163 ( 0.5%) Users that have less than 1 test interactions\n",
      "EvaluatorHoldout: Processed 35573 (100.0%) in 33.26 sec. Users per second: 1069\n",
      "Similarity column 38121 (100.0%), 2700.29 column/sec. Elapsed time 14.12 sec\n",
      "EvaluatorHoldout: Ignoring 150 ( 0.4%) Users that have less than 1 test interactions\n",
      "EvaluatorHoldout: Processed 35586 (100.0%) in 33.59 sec. Users per second: 1059\n",
      "Similarity column 38121 (100.0%), 2681.23 column/sec. Elapsed time 14.22 sec\n",
      "EvaluatorHoldout: Ignoring 167 ( 0.5%) Users that have less than 1 test interactions\n",
      "EvaluatorHoldout: Processed 35569 (100.0%) in 33.72 sec. Users per second: 1055\n",
      "Similarity column 38121 (100.0%), 2679.17 column/sec. Elapsed time 14.23 sec\n",
      "EvaluatorHoldout: Ignoring 172 ( 0.5%) Users that have less than 1 test interactions\n",
      "EvaluatorHoldout: Processed 35564 (100.0%) in 33.46 sec. Users per second: 1063\n"
     ]
    },
    {
     "name": "stderr",
     "output_type": "stream",
     "text": [
      "[I 2025-01-06 02:58:35,178] Trial 525 finished with value: 0.05009680986919104 and parameters: {'similarity': 'tversky', 'topK': 33, 'shrink': 37, 'feature_weighting': 'none', 'tversky_alpha': 0.06323899497034677, 'tversky_beta': 1.9353724020052223}. Best is trial 439 with value: 0.05361580072200237.\n"
     ]
    },
    {
     "name": "stdout",
     "output_type": "stream",
     "text": [
      "Similarity column 38121 (100.0%), 2643.42 column/sec. Elapsed time 14.42 sec\n",
      "EvaluatorHoldout: Ignoring 173 ( 0.5%) Users that have less than 1 test interactions\n",
      "EvaluatorHoldout: Processed 35563 (100.0%) in 30.75 sec. Users per second: 1157\n",
      "Similarity column 38121 (100.0%), 2692.15 column/sec. Elapsed time 14.16 sec\n",
      "EvaluatorHoldout: Ignoring 163 ( 0.5%) Users that have less than 1 test interactions\n",
      "EvaluatorHoldout: Processed 35573 (100.0%) in 31.26 sec. Users per second: 1138\n",
      "Similarity column 38121 (100.0%), 2630.57 column/sec. Elapsed time 14.49 sec\n",
      "EvaluatorHoldout: Ignoring 150 ( 0.4%) Users that have less than 1 test interactions\n",
      "EvaluatorHoldout: Processed 35586 (100.0%) in 31.84 sec. Users per second: 1117\n",
      "Similarity column 38121 (100.0%), 2656.24 column/sec. Elapsed time 14.35 sec\n",
      "EvaluatorHoldout: Ignoring 167 ( 0.5%) Users that have less than 1 test interactions\n",
      "EvaluatorHoldout: Processed 35569 (100.0%) in 31.46 sec. Users per second: 1130\n",
      "Similarity column 38121 (100.0%), 2651.56 column/sec. Elapsed time 14.38 sec\n",
      "EvaluatorHoldout: Ignoring 172 ( 0.5%) Users that have less than 1 test interactions\n",
      "EvaluatorHoldout: Processed 35564 (100.0%) in 32.46 sec. Users per second: 1096\n"
     ]
    },
    {
     "name": "stderr",
     "output_type": "stream",
     "text": [
      "[I 2025-01-06 03:02:26,762] Trial 526 finished with value: 0.05111198514739097 and parameters: {'similarity': 'tversky', 'topK': 12, 'shrink': 0, 'feature_weighting': 'none', 'tversky_alpha': 0.0005995187490285166, 'tversky_beta': 1.97529740887662}. Best is trial 439 with value: 0.05361580072200237.\n"
     ]
    },
    {
     "name": "stdout",
     "output_type": "stream",
     "text": [
      "Similarity column 38121 (100.0%), 3621.09 column/sec. Elapsed time 10.53 sec\n",
      "EvaluatorHoldout: Ignoring 173 ( 0.5%) Users that have less than 1 test interactions\n",
      "EvaluatorHoldout: Processed 35563 (100.0%) in 25.45 sec. Users per second: 1397\n",
      "Similarity column 38121 (100.0%), 3643.77 column/sec. Elapsed time 10.46 sec\n",
      "EvaluatorHoldout: Ignoring 163 ( 0.5%) Users that have less than 1 test interactions\n",
      "EvaluatorHoldout: Processed 35573 (100.0%) in 25.52 sec. Users per second: 1394\n",
      "Similarity column 38121 (100.0%), 3647.52 column/sec. Elapsed time 10.45 sec\n",
      "EvaluatorHoldout: Ignoring 150 ( 0.4%) Users that have less than 1 test interactions\n",
      "EvaluatorHoldout: Processed 35586 (100.0%) in 25.27 sec. Users per second: 1408\n",
      "Similarity column 38121 (100.0%), 3648.73 column/sec. Elapsed time 10.45 sec\n",
      "EvaluatorHoldout: Ignoring 167 ( 0.5%) Users that have less than 1 test interactions\n",
      "EvaluatorHoldout: Processed 35569 (100.0%) in 25.15 sec. Users per second: 1414\n",
      "Similarity column 38121 (100.0%), 3659.30 column/sec. Elapsed time 10.42 sec\n",
      "EvaluatorHoldout: Ignoring 172 ( 0.5%) Users that have less than 1 test interactions\n",
      "EvaluatorHoldout: Processed 35564 (100.0%) in 25.14 sec. Users per second: 1414\n"
     ]
    },
    {
     "name": "stderr",
     "output_type": "stream",
     "text": [
      "[I 2025-01-06 03:05:26,633] Trial 527 finished with value: 0.0002664826418719655 and parameters: {'similarity': 'asymmetric', 'topK': 0, 'shrink': 82, 'feature_weighting': 'none', 'asymmetric_alpha': 0.40104936017145976}. Best is trial 439 with value: 0.05361580072200237.\n"
     ]
    },
    {
     "name": "stdout",
     "output_type": "stream",
     "text": [
      "Similarity column 38121 (100.0%), 2670.15 column/sec. Elapsed time 14.28 sec\n",
      "EvaluatorHoldout: Ignoring 173 ( 0.5%) Users that have less than 1 test interactions\n",
      "EvaluatorHoldout: Processed 35563 (100.0%) in 33.51 sec. Users per second: 1061\n",
      "Similarity column 38121 (100.0%), 2615.29 column/sec. Elapsed time 14.58 sec\n",
      "EvaluatorHoldout: Ignoring 163 ( 0.5%) Users that have less than 1 test interactions\n",
      "EvaluatorHoldout: Processed 35573 (100.0%) in 33.37 sec. Users per second: 1066\n",
      "Similarity column 38121 (100.0%), 2667.88 column/sec. Elapsed time 14.29 sec\n",
      "EvaluatorHoldout: Ignoring 150 ( 0.4%) Users that have less than 1 test interactions\n",
      "EvaluatorHoldout: Processed 35586 (100.0%) in 33.74 sec. Users per second: 1055\n",
      "Similarity column 38121 (100.0%), 2662.42 column/sec. Elapsed time 14.32 sec\n",
      "EvaluatorHoldout: Ignoring 167 ( 0.5%) Users that have less than 1 test interactions\n",
      "EvaluatorHoldout: Processed 35569 (100.0%) in 33.54 sec. Users per second: 1060\n",
      "Similarity column 38121 (100.0%), 2679.56 column/sec. Elapsed time 14.23 sec\n",
      "EvaluatorHoldout: Ignoring 172 ( 0.5%) Users that have less than 1 test interactions\n",
      "EvaluatorHoldout: Processed 35564 (100.0%) in 33.32 sec. Users per second: 1067\n"
     ]
    },
    {
     "name": "stderr",
     "output_type": "stream",
     "text": [
      "[I 2025-01-06 03:09:28,433] Trial 528 finished with value: 0.049768631605415475 and parameters: {'similarity': 'tversky', 'topK': 26, 'shrink': 61, 'feature_weighting': 'BM25', 'tversky_alpha': 0.19256878566216684, 'tversky_beta': 1.8419085448322468}. Best is trial 439 with value: 0.05361580072200237.\n"
     ]
    },
    {
     "name": "stdout",
     "output_type": "stream",
     "text": [
      "Similarity column 38121 (100.0%), 2705.44 column/sec. Elapsed time 14.09 sec\n",
      "EvaluatorHoldout: Ignoring 173 ( 0.5%) Users that have less than 1 test interactions\n",
      "EvaluatorHoldout: Processed 35563 (100.0%) in 35.37 sec. Users per second: 1006\n",
      "Similarity column 38121 (100.0%), 2638.22 column/sec. Elapsed time 14.45 sec\n",
      "EvaluatorHoldout: Ignoring 163 ( 0.5%) Users that have less than 1 test interactions\n",
      "EvaluatorHoldout: Processed 35573 (100.0%) in 35.63 sec. Users per second: 998\n",
      "Similarity column 38121 (100.0%), 2681.65 column/sec. Elapsed time 14.22 sec\n",
      "EvaluatorHoldout: Ignoring 150 ( 0.4%) Users that have less than 1 test interactions\n",
      "EvaluatorHoldout: Processed 35586 (100.0%) in 35.54 sec. Users per second: 1001\n",
      "Similarity column 38121 (100.0%), 2660.36 column/sec. Elapsed time 14.33 sec\n",
      "EvaluatorHoldout: Ignoring 167 ( 0.5%) Users that have less than 1 test interactions\n",
      "EvaluatorHoldout: Processed 35569 (100.0%) in 35.31 sec. Users per second: 1007\n",
      "Similarity column 38121 (100.0%), 2679.24 column/sec. Elapsed time 14.23 sec\n",
      "EvaluatorHoldout: Ignoring 172 ( 0.5%) Users that have less than 1 test interactions\n",
      "EvaluatorHoldout: Processed 35564 (100.0%) in 35.22 sec. Users per second: 1010\n"
     ]
    },
    {
     "name": "stderr",
     "output_type": "stream",
     "text": [
      "[I 2025-01-06 03:13:39,140] Trial 529 finished with value: 0.04875747549619527 and parameters: {'similarity': 'tversky', 'topK': 56, 'shrink': 29, 'feature_weighting': 'none', 'tversky_alpha': 1.0021437244553333, 'tversky_beta': 1.7731873144712875}. Best is trial 439 with value: 0.05361580072200237.\n"
     ]
    },
    {
     "name": "stdout",
     "output_type": "stream",
     "text": [
      "Similarity column 38121 (100.0%), 2686.91 column/sec. Elapsed time 14.19 sec\n",
      "EvaluatorHoldout: Ignoring 173 ( 0.5%) Users that have less than 1 test interactions\n",
      "EvaluatorHoldout: Processed 35563 (100.0%) in 34.53 sec. Users per second: 1030\n",
      "Similarity column 38121 (100.0%), 2640.41 column/sec. Elapsed time 14.44 sec\n",
      "EvaluatorHoldout: Ignoring 163 ( 0.5%) Users that have less than 1 test interactions\n",
      "EvaluatorHoldout: Processed 35573 (100.0%) in 34.55 sec. Users per second: 1030\n",
      "Similarity column 38121 (100.0%), 2639.77 column/sec. Elapsed time 14.44 sec\n",
      "EvaluatorHoldout: Ignoring 150 ( 0.4%) Users that have less than 1 test interactions\n",
      "EvaluatorHoldout: Processed 35586 (100.0%) in 34.71 sec. Users per second: 1025\n",
      "Similarity column 38121 (100.0%), 2661.52 column/sec. Elapsed time 14.32 sec\n",
      "EvaluatorHoldout: Ignoring 167 ( 0.5%) Users that have less than 1 test interactions\n",
      "EvaluatorHoldout: Processed 35569 (100.0%) in 34.75 sec. Users per second: 1024\n",
      "Similarity column 38121 (100.0%), 2662.08 column/sec. Elapsed time 14.32 sec\n",
      "EvaluatorHoldout: Ignoring 172 ( 0.5%) Users that have less than 1 test interactions\n",
      "EvaluatorHoldout: Processed 35564 (100.0%) in 34.42 sec. Users per second: 1033\n"
     ]
    },
    {
     "name": "stderr",
     "output_type": "stream",
     "text": [
      "[I 2025-01-06 03:17:46,035] Trial 530 finished with value: 0.048555899134284805 and parameters: {'similarity': 'tversky', 'topK': 44, 'shrink': 45, 'feature_weighting': 'none', 'tversky_alpha': 0.08227715234435204, 'tversky_beta': 1.9019016359537195}. Best is trial 439 with value: 0.05361580072200237.\n"
     ]
    },
    {
     "name": "stdout",
     "output_type": "stream",
     "text": [
      "Similarity column 38121 (100.0%), 2875.77 column/sec. Elapsed time 13.26 sec\n",
      "EvaluatorHoldout: Ignoring 173 ( 0.5%) Users that have less than 1 test interactions\n",
      "EvaluatorHoldout: Processed 35563 (100.0%) in 32.26 sec. Users per second: 1103\n",
      "Similarity column 38121 (100.0%), 2938.31 column/sec. Elapsed time 12.97 sec\n",
      "EvaluatorHoldout: Ignoring 163 ( 0.5%) Users that have less than 1 test interactions\n",
      "EvaluatorHoldout: Processed 35573 (100.0%) in 31.98 sec. Users per second: 1112\n",
      "Similarity column 38121 (100.0%), 2929.55 column/sec. Elapsed time 13.01 sec\n",
      "EvaluatorHoldout: Ignoring 150 ( 0.4%) Users that have less than 1 test interactions\n",
      "EvaluatorHoldout: Processed 35586 (100.0%) in 32.07 sec. Users per second: 1110\n",
      "Similarity column 38121 (100.0%), 2837.64 column/sec. Elapsed time 13.43 sec\n",
      "EvaluatorHoldout: Ignoring 167 ( 0.5%) Users that have less than 1 test interactions\n",
      "EvaluatorHoldout: Processed 35569 (100.0%) in 32.21 sec. Users per second: 1104\n",
      "Similarity column 38121 (100.0%), 2952.28 column/sec. Elapsed time 12.91 sec\n",
      "EvaluatorHoldout: Ignoring 172 ( 0.5%) Users that have less than 1 test interactions\n",
      "EvaluatorHoldout: Processed 35564 (100.0%) in 33.37 sec. Users per second: 1066\n"
     ]
    },
    {
     "name": "stderr",
     "output_type": "stream",
     "text": [
      "[I 2025-01-06 03:21:35,477] Trial 531 finished with value: 0.05009556549279441 and parameters: {'similarity': 'jaccard', 'topK': 12, 'shrink': 0, 'feature_weighting': 'none'}. Best is trial 439 with value: 0.05361580072200237.\n"
     ]
    },
    {
     "name": "stdout",
     "output_type": "stream",
     "text": [
      "Similarity column 38121 (100.0%), 3453.03 column/sec. Elapsed time 11.04 sec\n",
      "EvaluatorHoldout: Ignoring 173 ( 0.5%) Users that have less than 1 test interactions\n",
      "EvaluatorHoldout: Processed 35563 (100.0%) in 25.76 sec. Users per second: 1380\n",
      "Similarity column 38121 (100.0%), 3425.75 column/sec. Elapsed time 11.13 sec\n",
      "EvaluatorHoldout: Ignoring 163 ( 0.5%) Users that have less than 1 test interactions\n",
      "EvaluatorHoldout: Processed 35573 (100.0%) in 25.19 sec. Users per second: 1412\n",
      "Similarity column 38121 (100.0%), 3496.15 column/sec. Elapsed time 10.90 sec\n",
      "EvaluatorHoldout: Ignoring 150 ( 0.4%) Users that have less than 1 test interactions\n",
      "EvaluatorHoldout: Processed 35586 (100.0%) in 25.01 sec. Users per second: 1423\n",
      "Similarity column 38121 (100.0%), 3477.58 column/sec. Elapsed time 10.96 sec\n",
      "EvaluatorHoldout: Ignoring 167 ( 0.5%) Users that have less than 1 test interactions\n",
      "EvaluatorHoldout: Processed 35569 (100.0%) in 25.15 sec. Users per second: 1414\n",
      "Similarity column 38121 (100.0%), 3497.46 column/sec. Elapsed time 10.90 sec\n",
      "EvaluatorHoldout: Ignoring 172 ( 0.5%) Users that have less than 1 test interactions\n",
      "EvaluatorHoldout: Processed 35564 (100.0%) in 25.22 sec. Users per second: 1410\n"
     ]
    },
    {
     "name": "stderr",
     "output_type": "stream",
     "text": [
      "[I 2025-01-06 03:24:38,642] Trial 532 finished with value: 0.0002664826418719655 and parameters: {'similarity': 'tversky', 'topK': 0, 'shrink': 21, 'feature_weighting': 'none', 'tversky_alpha': 0.13250355949938641, 'tversky_beta': 0.9076636664760704}. Best is trial 439 with value: 0.05361580072200237.\n"
     ]
    },
    {
     "name": "stdout",
     "output_type": "stream",
     "text": [
      "Similarity column 38121 (100.0%), 2684.04 column/sec. Elapsed time 14.20 sec\n",
      "EvaluatorHoldout: Ignoring 173 ( 0.5%) Users that have less than 1 test interactions\n",
      "EvaluatorHoldout: Processed 35563 (100.0%) in 33.30 sec. Users per second: 1068\n",
      "Similarity column 38121 (100.0%), 2673.78 column/sec. Elapsed time 14.26 sec\n",
      "EvaluatorHoldout: Ignoring 163 ( 0.5%) Users that have less than 1 test interactions\n",
      "EvaluatorHoldout: Processed 35573 (100.0%) in 33.30 sec. Users per second: 1068\n",
      "Similarity column 38121 (100.0%), 2681.91 column/sec. Elapsed time 14.21 sec\n",
      "EvaluatorHoldout: Ignoring 150 ( 0.4%) Users that have less than 1 test interactions\n",
      "EvaluatorHoldout: Processed 35586 (100.0%) in 33.54 sec. Users per second: 1061\n",
      "Similarity column 38121 (100.0%), 2701.25 column/sec. Elapsed time 14.11 sec\n",
      "EvaluatorHoldout: Ignoring 167 ( 0.5%) Users that have less than 1 test interactions\n",
      "EvaluatorHoldout: Processed 35569 (100.0%) in 33.52 sec. Users per second: 1061\n",
      "Similarity column 38121 (100.0%), 2665.85 column/sec. Elapsed time 14.30 sec\n",
      "EvaluatorHoldout: Ignoring 172 ( 0.5%) Users that have less than 1 test interactions\n",
      "EvaluatorHoldout: Processed 35564 (100.0%) in 33.91 sec. Users per second: 1049\n"
     ]
    },
    {
     "name": "stderr",
     "output_type": "stream",
     "text": [
      "[I 2025-01-06 03:28:39,341] Trial 533 finished with value: 0.049983666336285634 and parameters: {'similarity': 'tversky', 'topK': 27, 'shrink': 53, 'feature_weighting': 'none', 'tversky_alpha': 0.05158480906538208, 'tversky_beta': 1.8506279128786276}. Best is trial 439 with value: 0.05361580072200237.\n"
     ]
    },
    {
     "name": "stdout",
     "output_type": "stream",
     "text": [
      "Similarity column 38121 (100.0%), 2714.69 column/sec. Elapsed time 14.04 sec\n",
      "EvaluatorHoldout: Ignoring 173 ( 0.5%) Users that have less than 1 test interactions\n",
      "EvaluatorHoldout: Processed 35563 (100.0%) in 31.47 sec. Users per second: 1130\n",
      "Similarity column 38121 (100.0%), 2668.15 column/sec. Elapsed time 14.29 sec\n",
      "EvaluatorHoldout: Ignoring 163 ( 0.5%) Users that have less than 1 test interactions\n",
      "EvaluatorHoldout: Processed 35573 (100.0%) in 31.87 sec. Users per second: 1116\n",
      "Similarity column 38121 (100.0%), 2649.35 column/sec. Elapsed time 14.39 sec\n",
      "EvaluatorHoldout: Ignoring 150 ( 0.4%) Users that have less than 1 test interactions\n",
      "EvaluatorHoldout: Processed 35586 (100.0%) in 31.95 sec. Users per second: 1114\n",
      "Similarity column 38121 (100.0%), 2675.96 column/sec. Elapsed time 14.25 sec\n",
      "EvaluatorHoldout: Ignoring 167 ( 0.5%) Users that have less than 1 test interactions\n",
      "EvaluatorHoldout: Processed 35569 (100.0%) in 32.23 sec. Users per second: 1103\n",
      "Similarity column 38121 (100.0%), 2671.39 column/sec. Elapsed time 14.27 sec\n",
      "EvaluatorHoldout: Ignoring 172 ( 0.5%) Users that have less than 1 test interactions\n",
      "EvaluatorHoldout: Processed 35564 (100.0%) in 32.06 sec. Users per second: 1109\n"
     ]
    },
    {
     "name": "stderr",
     "output_type": "stream",
     "text": [
      "[I 2025-01-06 03:32:32,147] Trial 534 finished with value: 0.052600758737133026 and parameters: {'similarity': 'tversky', 'topK': 15, 'shrink': 31, 'feature_weighting': 'none', 'tversky_alpha': 0.0008903410222558287, 'tversky_beta': 1.9284073382100548}. Best is trial 439 with value: 0.05361580072200237.\n"
     ]
    },
    {
     "name": "stdout",
     "output_type": "stream",
     "text": [
      "Similarity column 38121 (100.0%), 2651.26 column/sec. Elapsed time 14.38 sec\n",
      "EvaluatorHoldout: Ignoring 173 ( 0.5%) Users that have less than 1 test interactions\n",
      "EvaluatorHoldout: Processed 35563 (100.0%) in 34.10 sec. Users per second: 1043\n",
      "Similarity column 38121 (100.0%), 2678.83 column/sec. Elapsed time 14.23 sec\n",
      "EvaluatorHoldout: Ignoring 163 ( 0.5%) Users that have less than 1 test interactions\n",
      "EvaluatorHoldout: Processed 35573 (100.0%) in 33.98 sec. Users per second: 1047\n",
      "Similarity column 38121 (100.0%), 2635.39 column/sec. Elapsed time 14.47 sec\n",
      "EvaluatorHoldout: Ignoring 150 ( 0.4%) Users that have less than 1 test interactions\n",
      "EvaluatorHoldout: Processed 35586 (100.0%) in 33.84 sec. Users per second: 1052\n",
      "Similarity column 38121 (100.0%), 2671.60 column/sec. Elapsed time 14.27 sec\n",
      "EvaluatorHoldout: Ignoring 167 ( 0.5%) Users that have less than 1 test interactions\n",
      "EvaluatorHoldout: Processed 35569 (100.0%) in 34.68 sec. Users per second: 1026\n",
      "Similarity column 38121 (100.0%), 2677.13 column/sec. Elapsed time 14.24 sec\n",
      "EvaluatorHoldout: Ignoring 172 ( 0.5%) Users that have less than 1 test interactions\n",
      "EvaluatorHoldout: Processed 35564 (100.0%) in 33.41 sec. Users per second: 1064\n"
     ]
    },
    {
     "name": "stderr",
     "output_type": "stream",
     "text": [
      "[I 2025-01-06 03:36:35,918] Trial 535 finished with value: 0.05025658636288395 and parameters: {'similarity': 'tversky', 'topK': 39, 'shrink': 18, 'feature_weighting': 'none', 'tversky_alpha': 0.0984930562857021, 'tversky_beta': 1.9961129010360272}. Best is trial 439 with value: 0.05361580072200237.\n"
     ]
    },
    {
     "name": "stdout",
     "output_type": "stream",
     "text": [
      "Similarity column 38121 (100.0%), 2701.92 column/sec. Elapsed time 14.11 sec\n",
      "EvaluatorHoldout: Ignoring 173 ( 0.5%) Users that have less than 1 test interactions\n",
      "EvaluatorHoldout: Processed 35563 (100.0%) in 33.22 sec. Users per second: 1071\n",
      "Similarity column 38121 (100.0%), 2670.56 column/sec. Elapsed time 14.27 sec\n",
      "EvaluatorHoldout: Ignoring 163 ( 0.5%) Users that have less than 1 test interactions\n",
      "EvaluatorHoldout: Processed 35573 (100.0%) in 33.82 sec. Users per second: 1052\n",
      "Similarity column 38121 (100.0%), 2652.75 column/sec. Elapsed time 14.37 sec\n",
      "EvaluatorHoldout: Ignoring 150 ( 0.4%) Users that have less than 1 test interactions\n",
      "EvaluatorHoldout: Processed 35586 (100.0%) in 33.66 sec. Users per second: 1057\n",
      "Similarity column 38121 (100.0%), 2690.61 column/sec. Elapsed time 14.17 sec\n",
      "EvaluatorHoldout: Ignoring 167 ( 0.5%) Users that have less than 1 test interactions\n",
      "EvaluatorHoldout: Processed 35569 (100.0%) in 33.64 sec. Users per second: 1057\n",
      "Similarity column 38121 (100.0%), 2620.32 column/sec. Elapsed time 14.55 sec\n",
      "EvaluatorHoldout: Ignoring 172 ( 0.5%) Users that have less than 1 test interactions\n",
      "EvaluatorHoldout: Processed 35564 (100.0%) in 34.08 sec. Users per second: 1044\n"
     ]
    },
    {
     "name": "stderr",
     "output_type": "stream",
     "text": [
      "[I 2025-01-06 03:40:37,926] Trial 536 finished with value: 0.050045824625647696 and parameters: {'similarity': 'tversky', 'topK': 24, 'shrink': 65, 'feature_weighting': 'none', 'tversky_alpha': 0.44074759770586985, 'tversky_beta': 1.808995321814715}. Best is trial 439 with value: 0.05361580072200237.\n"
     ]
    },
    {
     "name": "stdout",
     "output_type": "stream",
     "text": [
      "Similarity column 38121 (100.0%), 3425.93 column/sec. Elapsed time 11.13 sec\n",
      "EvaluatorHoldout: Ignoring 173 ( 0.5%) Users that have less than 1 test interactions\n",
      "EvaluatorHoldout: Processed 35563 (100.0%) in 25.50 sec. Users per second: 1395\n",
      "Similarity column 38121 (100.0%), 3381.41 column/sec. Elapsed time 11.27 sec\n",
      "EvaluatorHoldout: Ignoring 163 ( 0.5%) Users that have less than 1 test interactions\n",
      "EvaluatorHoldout: Processed 35573 (100.0%) in 25.74 sec. Users per second: 1382\n",
      "Similarity column 38121 (100.0%), 3371.21 column/sec. Elapsed time 11.31 sec\n",
      "EvaluatorHoldout: Ignoring 150 ( 0.4%) Users that have less than 1 test interactions\n",
      "EvaluatorHoldout: Processed 35586 (100.0%) in 25.56 sec. Users per second: 1393\n",
      "Similarity column 38121 (100.0%), 3463.05 column/sec. Elapsed time 11.01 sec\n",
      "EvaluatorHoldout: Ignoring 167 ( 0.5%) Users that have less than 1 test interactions\n",
      "EvaluatorHoldout: Processed 35569 (100.0%) in 25.16 sec. Users per second: 1413\n",
      "Similarity column 38121 (100.0%), 3475.55 column/sec. Elapsed time 10.97 sec\n",
      "EvaluatorHoldout: Ignoring 172 ( 0.5%) Users that have less than 1 test interactions\n",
      "EvaluatorHoldout: Processed 35564 (100.0%) in 25.40 sec. Users per second: 1400\n"
     ]
    },
    {
     "name": "stderr",
     "output_type": "stream",
     "text": [
      "[I 2025-01-06 03:43:42,904] Trial 537 finished with value: 0.0002664826418719655 and parameters: {'similarity': 'tversky', 'topK': 0, 'shrink': 43, 'feature_weighting': 'none', 'tversky_alpha': 0.23588367190221637, 'tversky_beta': 1.8880636608210983}. Best is trial 439 with value: 0.05361580072200237.\n"
     ]
    },
    {
     "name": "stdout",
     "output_type": "stream",
     "text": [
      "Similarity column 38121 (100.0%), 2623.52 column/sec. Elapsed time 14.53 sec\n",
      "EvaluatorHoldout: Ignoring 173 ( 0.5%) Users that have less than 1 test interactions\n",
      "EvaluatorHoldout: Processed 35563 (100.0%) in 40.15 sec. Users per second: 886\n",
      "Similarity column 38121 (100.0%), 2657.76 column/sec. Elapsed time 14.34 sec\n",
      "EvaluatorHoldout: Ignoring 163 ( 0.5%) Users that have less than 1 test interactions\n",
      "EvaluatorHoldout: Processed 35573 (100.0%) in 40.43 sec. Users per second: 880\n",
      "Similarity column 38121 (100.0%), 2613.18 column/sec. Elapsed time 14.59 sec\n",
      "EvaluatorHoldout: Ignoring 150 ( 0.4%) Users that have less than 1 test interactions\n",
      "EvaluatorHoldout: Processed 35586 (100.0%) in 40.14 sec. Users per second: 887\n",
      "Similarity column 38121 (100.0%), 2605.12 column/sec. Elapsed time 14.63 sec\n",
      "EvaluatorHoldout: Ignoring 167 ( 0.5%) Users that have less than 1 test interactions\n",
      "EvaluatorHoldout: Processed 35569 (100.0%) in 40.44 sec. Users per second: 880\n",
      "Similarity column 38121 (100.0%), 2592.49 column/sec. Elapsed time 14.70 sec\n",
      "EvaluatorHoldout: Ignoring 172 ( 0.5%) Users that have less than 1 test interactions\n",
      "EvaluatorHoldout: Processed 35564 (100.0%) in 41.15 sec. Users per second: 864\n"
     ]
    },
    {
     "name": "stderr",
     "output_type": "stream",
     "text": [
      "[I 2025-01-06 03:48:21,274] Trial 538 finished with value: 0.039672465218226885 and parameters: {'similarity': 'tversky', 'topK': 176, 'shrink': 102, 'feature_weighting': 'none', 'tversky_alpha': 0.044478130548126216, 'tversky_beta': 1.956705173107638}. Best is trial 439 with value: 0.05361580072200237.\n"
     ]
    },
    {
     "name": "stdout",
     "output_type": "stream",
     "text": [
      "Similarity column 38121 (100.0%), 428.25 column/sec. Elapsed time 1.48 min\n",
      "EvaluatorHoldout: Ignoring 173 ( 0.5%) Users that have less than 1 test interactions\n",
      "EvaluatorHoldout: Processed 35563 (100.0%) in 28.98 sec. Users per second: 1227\n",
      "Similarity column 38121 (100.0%), 416.15 column/sec. Elapsed time 1.53 min\n",
      "EvaluatorHoldout: Ignoring 163 ( 0.5%) Users that have less than 1 test interactions\n",
      "EvaluatorHoldout: Processed 35573 (100.0%) in 29.21 sec. Users per second: 1218\n",
      "Similarity column 38121 (100.0%), 467.73 column/sec. Elapsed time 1.36 min\n",
      "EvaluatorHoldout: Ignoring 150 ( 0.4%) Users that have less than 1 test interactions\n",
      "EvaluatorHoldout: Processed 35586 (100.0%) in 29.23 sec. Users per second: 1217\n",
      "Similarity column 38121 (100.0%), 423.15 column/sec. Elapsed time 1.50 min\n",
      "EvaluatorHoldout: Ignoring 167 ( 0.5%) Users that have less than 1 test interactions\n",
      "EvaluatorHoldout: Processed 35569 (100.0%) in 29.52 sec. Users per second: 1205\n",
      "Similarity column 38121 (100.0%), 423.47 column/sec. Elapsed time 1.50 min\n",
      "EvaluatorHoldout: Ignoring 172 ( 0.5%) Users that have less than 1 test interactions\n",
      "EvaluatorHoldout: Processed 35564 (100.0%) in 29.18 sec. Users per second: 1219\n"
     ]
    },
    {
     "name": "stderr",
     "output_type": "stream",
     "text": [
      "[I 2025-01-06 03:58:10,574] Trial 539 finished with value: 0.027990681242802695 and parameters: {'similarity': 'euclidean', 'topK': 54, 'shrink': 18, 'feature_weighting': 'none', 'normalize_avg_row': True, 'similarity_from_distance_mode': 'log', 'normalize': False}. Best is trial 439 with value: 0.05361580072200237.\n"
     ]
    },
    {
     "name": "stdout",
     "output_type": "stream",
     "text": [
      "Similarity column 38121 (100.0%), 2697.19 column/sec. Elapsed time 14.13 sec\n",
      "EvaluatorHoldout: Ignoring 173 ( 0.5%) Users that have less than 1 test interactions\n",
      "EvaluatorHoldout: Processed 35563 (100.0%) in 32.74 sec. Users per second: 1086\n",
      "Similarity column 38121 (100.0%), 2719.79 column/sec. Elapsed time 14.02 sec\n",
      "EvaluatorHoldout: Ignoring 163 ( 0.5%) Users that have less than 1 test interactions\n",
      "EvaluatorHoldout: Processed 35573 (100.0%) in 33.32 sec. Users per second: 1068\n",
      "Similarity column 38121 (100.0%), 2674.21 column/sec. Elapsed time 14.26 sec\n",
      "EvaluatorHoldout: Ignoring 150 ( 0.4%) Users that have less than 1 test interactions\n",
      "EvaluatorHoldout: Processed 35586 (100.0%) in 33.53 sec. Users per second: 1061\n",
      "Similarity column 38121 (100.0%), 2681.55 column/sec. Elapsed time 14.22 sec\n",
      "EvaluatorHoldout: Ignoring 167 ( 0.5%) Users that have less than 1 test interactions\n",
      "EvaluatorHoldout: Processed 35569 (100.0%) in 33.52 sec. Users per second: 1061\n",
      "Similarity column 38121 (100.0%), 2649.91 column/sec. Elapsed time 14.39 sec\n",
      "EvaluatorHoldout: Ignoring 172 ( 0.5%) Users that have less than 1 test interactions\n",
      "EvaluatorHoldout: Processed 35564 (100.0%) in 33.31 sec. Users per second: 1068\n"
     ]
    },
    {
     "name": "stderr",
     "output_type": "stream",
     "text": [
      "[I 2025-01-06 04:02:10,000] Trial 540 finished with value: 0.04435376990084117 and parameters: {'similarity': 'tversky', 'topK': 12, 'shrink': 377, 'feature_weighting': 'none', 'tversky_alpha': 0.06940526052198884, 'tversky_beta': 1.8593447244293582}. Best is trial 439 with value: 0.05361580072200237.\n"
     ]
    },
    {
     "name": "stdout",
     "output_type": "stream",
     "text": [
      "Similarity column 38121 (100.0%), 2691.09 column/sec. Elapsed time 14.17 sec\n",
      "EvaluatorHoldout: Ignoring 173 ( 0.5%) Users that have less than 1 test interactions\n",
      "EvaluatorHoldout: Processed 35563 (100.0%) in 34.20 sec. Users per second: 1040\n",
      "Similarity column 38121 (100.0%), 2640.46 column/sec. Elapsed time 14.44 sec\n",
      "EvaluatorHoldout: Ignoring 163 ( 0.5%) Users that have less than 1 test interactions\n",
      "EvaluatorHoldout: Processed 35573 (100.0%) in 34.12 sec. Users per second: 1043\n",
      "Similarity column 38121 (100.0%), 2691.38 column/sec. Elapsed time 14.16 sec\n",
      "EvaluatorHoldout: Ignoring 150 ( 0.4%) Users that have less than 1 test interactions\n",
      "EvaluatorHoldout: Processed 35586 (100.0%) in 33.96 sec. Users per second: 1048\n",
      "Similarity column 38121 (100.0%), 2682.05 column/sec. Elapsed time 14.21 sec\n",
      "EvaluatorHoldout: Ignoring 167 ( 0.5%) Users that have less than 1 test interactions\n",
      "EvaluatorHoldout: Processed 35569 (100.0%) in 34.19 sec. Users per second: 1040\n",
      "Similarity column 38121 (100.0%), 2684.25 column/sec. Elapsed time 14.20 sec\n",
      "EvaluatorHoldout: Ignoring 172 ( 0.5%) Users that have less than 1 test interactions\n",
      "EvaluatorHoldout: Processed 35564 (100.0%) in 33.86 sec. Users per second: 1050\n"
     ]
    },
    {
     "name": "stderr",
     "output_type": "stream",
     "text": [
      "[I 2025-01-06 04:06:13,670] Trial 541 finished with value: 0.04844613365408987 and parameters: {'similarity': 'tversky', 'topK': 31, 'shrink': 82, 'feature_weighting': 'none', 'tversky_alpha': 0.12192060742978368, 'tversky_beta': 1.9079599519590373}. Best is trial 439 with value: 0.05361580072200237.\n"
     ]
    },
    {
     "name": "stdout",
     "output_type": "stream",
     "text": [
      "Similarity column 38121 (100.0%), 3439.28 column/sec. Elapsed time 11.08 sec\n",
      "EvaluatorHoldout: Ignoring 173 ( 0.5%) Users that have less than 1 test interactions\n",
      "EvaluatorHoldout: Processed 35563 (100.0%) in 25.44 sec. Users per second: 1398\n",
      "Similarity column 38121 (100.0%), 3451.54 column/sec. Elapsed time 11.04 sec\n",
      "EvaluatorHoldout: Ignoring 163 ( 0.5%) Users that have less than 1 test interactions\n",
      "EvaluatorHoldout: Processed 35573 (100.0%) in 25.24 sec. Users per second: 1409\n",
      "Similarity column 38121 (100.0%), 3457.44 column/sec. Elapsed time 11.03 sec\n",
      "EvaluatorHoldout: Ignoring 150 ( 0.4%) Users that have less than 1 test interactions\n",
      "EvaluatorHoldout: Processed 35586 (100.0%) in 25.50 sec. Users per second: 1396\n",
      "Similarity column 38121 (100.0%), 3439.88 column/sec. Elapsed time 11.08 sec\n",
      "EvaluatorHoldout: Ignoring 167 ( 0.5%) Users that have less than 1 test interactions\n",
      "EvaluatorHoldout: Processed 35569 (100.0%) in 25.47 sec. Users per second: 1397\n",
      "Similarity column 38121 (100.0%), 3441.21 column/sec. Elapsed time 11.08 sec\n",
      "EvaluatorHoldout: Ignoring 172 ( 0.5%) Users that have less than 1 test interactions\n",
      "EvaluatorHoldout: Processed 35564 (100.0%) in 25.63 sec. Users per second: 1387\n"
     ]
    },
    {
     "name": "stderr",
     "output_type": "stream",
     "text": [
      "[I 2025-01-06 04:09:18,171] Trial 542 finished with value: 0.0002664826418719655 and parameters: {'similarity': 'tversky', 'topK': 0, 'shrink': 594, 'feature_weighting': 'none', 'tversky_alpha': 0.032127485403765976, 'tversky_beta': 1.2321414390132266}. Best is trial 439 with value: 0.05361580072200237.\n"
     ]
    },
    {
     "name": "stdout",
     "output_type": "stream",
     "text": [
      "Similarity column 38121 (100.0%), 2976.99 column/sec. Elapsed time 12.81 sec\n",
      "EvaluatorHoldout: Ignoring 173 ( 0.5%) Users that have less than 1 test interactions\n",
      "EvaluatorHoldout: Processed 35563 (100.0%) in 34.26 sec. Users per second: 1038\n",
      "Similarity column 38121 (100.0%), 2970.61 column/sec. Elapsed time 12.83 sec\n",
      "EvaluatorHoldout: Ignoring 163 ( 0.5%) Users that have less than 1 test interactions\n",
      "EvaluatorHoldout: Processed 35573 (100.0%) in 34.23 sec. Users per second: 1039\n",
      "Similarity column 38121 (100.0%), 2981.24 column/sec. Elapsed time 12.79 sec\n",
      "EvaluatorHoldout: Ignoring 150 ( 0.4%) Users that have less than 1 test interactions\n",
      "EvaluatorHoldout: Processed 35586 (100.0%) in 33.81 sec. Users per second: 1053\n",
      "Similarity column 38121 (100.0%), 2927.51 column/sec. Elapsed time 13.02 sec\n",
      "EvaluatorHoldout: Ignoring 167 ( 0.5%) Users that have less than 1 test interactions\n",
      "EvaluatorHoldout: Processed 35569 (100.0%) in 33.79 sec. Users per second: 1053\n",
      "Similarity column 38121 (100.0%), 2987.00 column/sec. Elapsed time 12.76 sec\n",
      "EvaluatorHoldout: Ignoring 172 ( 0.5%) Users that have less than 1 test interactions\n",
      "EvaluatorHoldout: Processed 35564 (100.0%) in 33.66 sec. Users per second: 1057\n"
     ]
    },
    {
     "name": "stderr",
     "output_type": "stream",
     "text": [
      "[I 2025-01-06 04:13:14,210] Trial 543 finished with value: 0.048240066311063576 and parameters: {'similarity': 'dice', 'topK': 23, 'shrink': 41, 'feature_weighting': 'none'}. Best is trial 439 with value: 0.05361580072200237.\n"
     ]
    },
    {
     "name": "stdout",
     "output_type": "stream",
     "text": [
      "Similarity column 38121 (100.0%), 2697.19 column/sec. Elapsed time 14.13 sec\n",
      "EvaluatorHoldout: Ignoring 173 ( 0.5%) Users that have less than 1 test interactions\n",
      "EvaluatorHoldout: Processed 35563 (100.0%) in 33.85 sec. Users per second: 1051\n",
      "Similarity column 38121 (100.0%), 2652.09 column/sec. Elapsed time 14.37 sec\n",
      "EvaluatorHoldout: Ignoring 163 ( 0.5%) Users that have less than 1 test interactions\n",
      "EvaluatorHoldout: Processed 35573 (100.0%) in 34.00 sec. Users per second: 1046\n",
      "Similarity column 38121 (100.0%), 2674.27 column/sec. Elapsed time 14.25 sec\n",
      "EvaluatorHoldout: Ignoring 150 ( 0.4%) Users that have less than 1 test interactions\n",
      "EvaluatorHoldout: Processed 35586 (100.0%) in 34.04 sec. Users per second: 1045\n",
      "Similarity column 38121 (100.0%), 2601.64 column/sec. Elapsed time 14.65 sec\n",
      "EvaluatorHoldout: Ignoring 167 ( 0.5%) Users that have less than 1 test interactions\n",
      "EvaluatorHoldout: Processed 35569 (100.0%) in 33.45 sec. Users per second: 1063\n",
      "Similarity column 38121 (100.0%), 2689.79 column/sec. Elapsed time 14.17 sec\n",
      "EvaluatorHoldout: Ignoring 172 ( 0.5%) Users that have less than 1 test interactions\n",
      "EvaluatorHoldout: Processed 35564 (100.0%) in 33.15 sec. Users per second: 1073\n"
     ]
    },
    {
     "name": "stderr",
     "output_type": "stream",
     "text": [
      "[I 2025-01-06 04:17:16,448] Trial 544 finished with value: 0.05033356065762047 and parameters: {'similarity': 'tversky', 'topK': 39, 'shrink': 0, 'feature_weighting': 'none', 'tversky_alpha': 0.17477803653997895, 'tversky_beta': 1.7291399376452095}. Best is trial 439 with value: 0.05361580072200237.\n"
     ]
    },
    {
     "name": "stdout",
     "output_type": "stream",
     "text": [
      "Similarity column 38121 (100.0%), 2693.73 column/sec. Elapsed time 14.15 sec\n",
      "EvaluatorHoldout: Ignoring 173 ( 0.5%) Users that have less than 1 test interactions\n",
      "EvaluatorHoldout: Processed 35563 (100.0%) in 32.33 sec. Users per second: 1100\n",
      "Similarity column 38121 (100.0%), 2678.56 column/sec. Elapsed time 14.23 sec\n",
      "EvaluatorHoldout: Ignoring 163 ( 0.5%) Users that have less than 1 test interactions\n",
      "EvaluatorHoldout: Processed 35573 (100.0%) in 32.28 sec. Users per second: 1102\n",
      "Similarity column 38121 (100.0%), 2683.33 column/sec. Elapsed time 14.21 sec\n",
      "EvaluatorHoldout: Ignoring 150 ( 0.4%) Users that have less than 1 test interactions\n",
      "EvaluatorHoldout: Processed 35586 (100.0%) in 31.89 sec. Users per second: 1116\n",
      "Similarity column 38121 (100.0%), 2690.04 column/sec. Elapsed time 14.17 sec\n",
      "EvaluatorHoldout: Ignoring 167 ( 0.5%) Users that have less than 1 test interactions\n",
      "EvaluatorHoldout: Processed 35569 (100.0%) in 33.06 sec. Users per second: 1076\n",
      "Similarity column 38121 (100.0%), 2692.97 column/sec. Elapsed time 14.16 sec\n",
      "EvaluatorHoldout: Ignoring 172 ( 0.5%) Users that have less than 1 test interactions\n",
      "EvaluatorHoldout: Processed 35564 (100.0%) in 31.86 sec. Users per second: 1116\n"
     ]
    },
    {
     "name": "stderr",
     "output_type": "stream",
     "text": [
      "[I 2025-01-06 04:21:10,762] Trial 545 finished with value: 0.051214391085340684 and parameters: {'similarity': 'tversky', 'topK': 14, 'shrink': 62, 'feature_weighting': 'none', 'tversky_alpha': 0.08943658955702061, 'tversky_beta': 1.5837932287937984}. Best is trial 439 with value: 0.05361580072200237.\n"
     ]
    },
    {
     "name": "stdout",
     "output_type": "stream",
     "text": [
      "Similarity column 38121 (100.0%), 2666.06 column/sec. Elapsed time 14.30 sec\n",
      "EvaluatorHoldout: Ignoring 173 ( 0.5%) Users that have less than 1 test interactions\n",
      "EvaluatorHoldout: Processed 35563 (100.0%) in 35.08 sec. Users per second: 1014\n",
      "Similarity column 38121 (100.0%), 2661.33 column/sec. Elapsed time 14.32 sec\n",
      "EvaluatorHoldout: Ignoring 163 ( 0.5%) Users that have less than 1 test interactions\n",
      "EvaluatorHoldout: Processed 35573 (100.0%) in 35.16 sec. Users per second: 1012\n",
      "Similarity column 38121 (100.0%), 2649.59 column/sec. Elapsed time 14.39 sec\n",
      "EvaluatorHoldout: Ignoring 150 ( 0.4%) Users that have less than 1 test interactions\n",
      "EvaluatorHoldout: Processed 35586 (100.0%) in 35.03 sec. Users per second: 1016\n",
      "Similarity column 38121 (100.0%), 2637.41 column/sec. Elapsed time 14.45 sec\n",
      "EvaluatorHoldout: Ignoring 167 ( 0.5%) Users that have less than 1 test interactions\n",
      "EvaluatorHoldout: Processed 35569 (100.0%) in 35.22 sec. Users per second: 1010\n",
      "Similarity column 38121 (100.0%), 2667.29 column/sec. Elapsed time 14.29 sec\n",
      "EvaluatorHoldout: Ignoring 172 ( 0.5%) Users that have less than 1 test interactions\n",
      "EvaluatorHoldout: Processed 35564 (100.0%) in 35.02 sec. Users per second: 1016\n"
     ]
    },
    {
     "name": "stderr",
     "output_type": "stream",
     "text": [
      "[I 2025-01-06 04:25:20,396] Trial 546 finished with value: 0.04757572449882931 and parameters: {'similarity': 'tversky', 'topK': 67, 'shrink': 29, 'feature_weighting': 'none', 'tversky_alpha': 0.0002419427949388695, 'tversky_beta': 1.8105059337899363}. Best is trial 439 with value: 0.05361580072200237.\n"
     ]
    },
    {
     "name": "stdout",
     "output_type": "stream",
     "text": [
      "Similarity column 38121 (100.0%), 2581.96 column/sec. Elapsed time 14.76 sec\n",
      "EvaluatorHoldout: Ignoring 173 ( 0.5%) Users that have less than 1 test interactions\n",
      "EvaluatorHoldout: Processed 35563 (100.0%) in 43.03 sec. Users per second: 826\n",
      "Similarity column 38121 (100.0%), 2549.75 column/sec. Elapsed time 14.95 sec\n",
      "EvaluatorHoldout: Ignoring 163 ( 0.5%) Users that have less than 1 test interactions\n",
      "EvaluatorHoldout: Processed 35573 (100.0%) in 43.00 sec. Users per second: 827\n",
      "Similarity column 38121 (100.0%), 2598.43 column/sec. Elapsed time 14.67 sec\n",
      "EvaluatorHoldout: Ignoring 150 ( 0.4%) Users that have less than 1 test interactions\n",
      "EvaluatorHoldout: Processed 35586 (100.0%) in 43.40 sec. Users per second: 820\n",
      "Similarity column 38121 (100.0%), 2564.09 column/sec. Elapsed time 14.87 sec\n",
      "EvaluatorHoldout: Ignoring 167 ( 0.5%) Users that have less than 1 test interactions\n",
      "EvaluatorHoldout: Processed 35569 (100.0%) in 43.16 sec. Users per second: 824\n",
      "Similarity column 38121 (100.0%), 2555.45 column/sec. Elapsed time 14.92 sec\n",
      "EvaluatorHoldout: Ignoring 172 ( 0.5%) Users that have less than 1 test interactions\n",
      "EvaluatorHoldout: Processed 35564 (100.0%) in 43.82 sec. Users per second: 812\n"
     ]
    },
    {
     "name": "stderr",
     "output_type": "stream",
     "text": [
      "[I 2025-01-06 04:30:15,774] Trial 547 finished with value: 0.03961121904414174 and parameters: {'similarity': 'tversky', 'topK': 391, 'shrink': 19, 'feature_weighting': 'none', 'tversky_alpha': 0.05920424556398245, 'tversky_beta': 1.9290506134182437}. Best is trial 439 with value: 0.05361580072200237.\n"
     ]
    },
    {
     "name": "stdout",
     "output_type": "stream",
     "text": [
      "Similarity column 38121 (100.0%), 2633.35 column/sec. Elapsed time 14.48 sec\n",
      "EvaluatorHoldout: Ignoring 173 ( 0.5%) Users that have less than 1 test interactions\n",
      "EvaluatorHoldout: Processed 35563 (100.0%) in 33.51 sec. Users per second: 1061\n",
      "Similarity column 38121 (100.0%), 2653.55 column/sec. Elapsed time 14.37 sec\n",
      "EvaluatorHoldout: Ignoring 163 ( 0.5%) Users that have less than 1 test interactions\n",
      "EvaluatorHoldout: Processed 35573 (100.0%) in 34.25 sec. Users per second: 1039\n",
      "Similarity column 38121 (100.0%), 2532.04 column/sec. Elapsed time 15.06 sec\n",
      "EvaluatorHoldout: Ignoring 150 ( 0.4%) Users that have less than 1 test interactions\n",
      "EvaluatorHoldout: Processed 35586 (100.0%) in 33.94 sec. Users per second: 1049\n",
      "Similarity column 38121 (100.0%), 2613.27 column/sec. Elapsed time 14.59 sec\n",
      "EvaluatorHoldout: Ignoring 167 ( 0.5%) Users that have less than 1 test interactions\n",
      "EvaluatorHoldout: Processed 35569 (100.0%) in 33.77 sec. Users per second: 1053\n",
      "Similarity column 38121 (100.0%), 2673.20 column/sec. Elapsed time 14.26 sec\n",
      "EvaluatorHoldout: Ignoring 172 ( 0.5%) Users that have less than 1 test interactions\n",
      "EvaluatorHoldout: Processed 35564 (100.0%) in 33.66 sec. Users per second: 1057\n"
     ]
    },
    {
     "name": "stderr",
     "output_type": "stream",
     "text": [
      "[I 2025-01-06 04:34:19,833] Trial 548 finished with value: 0.05077600425113493 and parameters: {'similarity': 'tversky', 'topK': 24, 'shrink': 46, 'feature_weighting': 'none', 'tversky_alpha': 0.14255635638733408, 'tversky_beta': 1.873765185079908}. Best is trial 439 with value: 0.05361580072200237.\n"
     ]
    },
    {
     "name": "stdout",
     "output_type": "stream",
     "text": [
      "Similarity column 38121 (100.0%), 2640.54 column/sec. Elapsed time 14.44 sec\n",
      "EvaluatorHoldout: Ignoring 173 ( 0.5%) Users that have less than 1 test interactions\n",
      "EvaluatorHoldout: Processed 35563 (100.0%) in 36.89 sec. Users per second: 964\n",
      "Similarity column 38121 (100.0%), 2608.96 column/sec. Elapsed time 14.61 sec\n",
      "EvaluatorHoldout: Ignoring 163 ( 0.5%) Users that have less than 1 test interactions\n",
      "EvaluatorHoldout: Processed 35573 (100.0%) in 37.13 sec. Users per second: 958\n",
      "Similarity column 38121 (100.0%), 2666.02 column/sec. Elapsed time 14.30 sec\n",
      "EvaluatorHoldout: Ignoring 150 ( 0.4%) Users that have less than 1 test interactions\n",
      "EvaluatorHoldout: Processed 35586 (100.0%) in 36.99 sec. Users per second: 962\n",
      "Similarity column 38121 (100.0%), 2654.91 column/sec. Elapsed time 14.36 sec\n",
      "EvaluatorHoldout: Ignoring 167 ( 0.5%) Users that have less than 1 test interactions\n",
      "EvaluatorHoldout: Processed 35569 (100.0%) in 36.83 sec. Users per second: 966\n",
      "Similarity column 38121 (100.0%), 2659.96 column/sec. Elapsed time 14.33 sec\n",
      "EvaluatorHoldout: Ignoring 172 ( 0.5%) Users that have less than 1 test interactions\n",
      "EvaluatorHoldout: Processed 35564 (100.0%) in 36.78 sec. Users per second: 967\n"
     ]
    },
    {
     "name": "stderr",
     "output_type": "stream",
     "text": [
      "[I 2025-01-06 04:38:39,364] Trial 549 finished with value: 0.047619028800789734 and parameters: {'similarity': 'tversky', 'topK': 46, 'shrink': 509, 'feature_weighting': 'BM25', 'tversky_alpha': 0.03595751703392375, 'tversky_beta': 1.8329213469257224}. Best is trial 439 with value: 0.05361580072200237.\n"
     ]
    },
    {
     "name": "stdout",
     "output_type": "stream",
     "text": [
      "Similarity column 38121 (100.0%), 3445.23 column/sec. Elapsed time 11.06 sec\n",
      "EvaluatorHoldout: Ignoring 173 ( 0.5%) Users that have less than 1 test interactions\n",
      "EvaluatorHoldout: Processed 35563 (100.0%) in 24.97 sec. Users per second: 1424\n",
      "Similarity column 38121 (100.0%), 3450.71 column/sec. Elapsed time 11.05 sec\n",
      "EvaluatorHoldout: Ignoring 163 ( 0.5%) Users that have less than 1 test interactions\n",
      "EvaluatorHoldout: Processed 35573 (100.0%) in 25.32 sec. Users per second: 1405\n",
      "Similarity column 38121 (100.0%), 3390.63 column/sec. Elapsed time 11.24 sec\n",
      "EvaluatorHoldout: Ignoring 150 ( 0.4%) Users that have less than 1 test interactions\n",
      "EvaluatorHoldout: Processed 35586 (100.0%) in 25.40 sec. Users per second: 1401\n",
      "Similarity column 38121 (100.0%), 3446.56 column/sec. Elapsed time 11.06 sec\n",
      "EvaluatorHoldout: Ignoring 167 ( 0.5%) Users that have less than 1 test interactions\n",
      "EvaluatorHoldout: Processed 35569 (100.0%) in 25.41 sec. Users per second: 1400\n",
      "Similarity column 38121 (100.0%), 3481.99 column/sec. Elapsed time 10.95 sec\n",
      "EvaluatorHoldout: Ignoring 172 ( 0.5%) Users that have less than 1 test interactions\n",
      "EvaluatorHoldout: Processed 35564 (100.0%) in 25.21 sec. Users per second: 1411\n"
     ]
    },
    {
     "name": "stderr",
     "output_type": "stream",
     "text": [
      "[I 2025-01-06 04:41:42,959] Trial 550 finished with value: 0.0002664826418719655 and parameters: {'similarity': 'tversky', 'topK': 0, 'shrink': 16, 'feature_weighting': 'none', 'tversky_alpha': 0.10490128897470771, 'tversky_beta': 1.776557844220434}. Best is trial 439 with value: 0.05361580072200237.\n"
     ]
    },
    {
     "name": "stdout",
     "output_type": "stream",
     "text": [
      "Similarity column 38121 (100.0%), 2647.81 column/sec. Elapsed time 14.40 sec\n",
      "EvaluatorHoldout: Ignoring 173 ( 0.5%) Users that have less than 1 test interactions\n",
      "EvaluatorHoldout: Processed 35563 (100.0%) in 33.11 sec. Users per second: 1074\n",
      "Similarity column 38121 (100.0%), 2643.42 column/sec. Elapsed time 14.42 sec\n",
      "EvaluatorHoldout: Ignoring 163 ( 0.5%) Users that have less than 1 test interactions\n",
      "EvaluatorHoldout: Processed 35573 (100.0%) in 32.90 sec. Users per second: 1081\n",
      "Similarity column 38121 (100.0%), 2618.70 column/sec. Elapsed time 14.56 sec\n",
      "EvaluatorHoldout: Ignoring 150 ( 0.4%) Users that have less than 1 test interactions\n",
      "EvaluatorHoldout: Processed 35586 (100.0%) in 32.81 sec. Users per second: 1085\n",
      "Similarity column 38121 (100.0%), 2689.68 column/sec. Elapsed time 14.17 sec\n",
      "EvaluatorHoldout: Ignoring 167 ( 0.5%) Users that have less than 1 test interactions\n",
      "EvaluatorHoldout: Processed 35569 (100.0%) in 32.73 sec. Users per second: 1087\n",
      "Similarity column 38121 (100.0%), 2662.68 column/sec. Elapsed time 14.32 sec\n",
      "EvaluatorHoldout: Ignoring 172 ( 0.5%) Users that have less than 1 test interactions\n",
      "EvaluatorHoldout: Processed 35564 (100.0%) in 33.13 sec. Users per second: 1074\n"
     ]
    },
    {
     "name": "stderr",
     "output_type": "stream",
     "text": [
      "[I 2025-01-06 04:45:41,589] Trial 551 finished with value: 0.0507964940485857 and parameters: {'similarity': 'tversky', 'topK': 19, 'shrink': 65, 'feature_weighting': 'none', 'tversky_alpha': 0.06768910514805823, 'tversky_beta': 1.9542394001532437}. Best is trial 439 with value: 0.05361580072200237.\n"
     ]
    },
    {
     "name": "stdout",
     "output_type": "stream",
     "text": [
      "Similarity column 38121 (100.0%), 2689.54 column/sec. Elapsed time 14.17 sec\n",
      "EvaluatorHoldout: Ignoring 173 ( 0.5%) Users that have less than 1 test interactions\n",
      "EvaluatorHoldout: Processed 35563 (100.0%) in 33.61 sec. Users per second: 1058\n",
      "Similarity column 38121 (100.0%), 2679.29 column/sec. Elapsed time 14.23 sec\n",
      "EvaluatorHoldout: Ignoring 163 ( 0.5%) Users that have less than 1 test interactions\n",
      "EvaluatorHoldout: Processed 35573 (100.0%) in 33.64 sec. Users per second: 1058\n",
      "Similarity column 38121 (100.0%), 2686.85 column/sec. Elapsed time 14.19 sec\n",
      "EvaluatorHoldout: Ignoring 150 ( 0.4%) Users that have less than 1 test interactions\n",
      "EvaluatorHoldout: Processed 35586 (100.0%) in 34.10 sec. Users per second: 1044\n",
      "Similarity column 38121 (100.0%), 2654.41 column/sec. Elapsed time 14.36 sec\n",
      "EvaluatorHoldout: Ignoring 167 ( 0.5%) Users that have less than 1 test interactions\n",
      "EvaluatorHoldout: Processed 35569 (100.0%) in 33.68 sec. Users per second: 1056\n",
      "Similarity column 38121 (100.0%), 2667.37 column/sec. Elapsed time 14.29 sec\n",
      "EvaluatorHoldout: Ignoring 172 ( 0.5%) Users that have less than 1 test interactions\n",
      "EvaluatorHoldout: Processed 35564 (100.0%) in 33.77 sec. Users per second: 1053\n"
     ]
    },
    {
     "name": "stderr",
     "output_type": "stream",
     "text": [
      "[I 2025-01-06 04:49:43,776] Trial 552 finished with value: 0.05008005528959415 and parameters: {'similarity': 'tversky', 'topK': 32, 'shrink': 37, 'feature_weighting': 'none', 'tversky_alpha': 0.0006067598724515746, 'tversky_beta': 1.9034108729227932}. Best is trial 439 with value: 0.05361580072200237.\n"
     ]
    },
    {
     "name": "stdout",
     "output_type": "stream",
     "text": [
      "Similarity column 38121 (100.0%), 2801.01 column/sec. Elapsed time 13.61 sec\n",
      "EvaluatorHoldout: Ignoring 173 ( 0.5%) Users that have less than 1 test interactions\n",
      "EvaluatorHoldout: Processed 35563 (100.0%) in 36.78 sec. Users per second: 967\n",
      "Similarity column 38121 (100.0%), 2820.73 column/sec. Elapsed time 13.51 sec\n",
      "EvaluatorHoldout: Ignoring 163 ( 0.5%) Users that have less than 1 test interactions\n",
      "EvaluatorHoldout: Processed 35573 (100.0%) in 37.55 sec. Users per second: 947\n",
      "Similarity column 38121 (100.0%), 2817.43 column/sec. Elapsed time 13.53 sec\n",
      "EvaluatorHoldout: Ignoring 150 ( 0.4%) Users that have less than 1 test interactions\n",
      "EvaluatorHoldout: Processed 35586 (100.0%) in 36.43 sec. Users per second: 977\n",
      "Similarity column 38121 (100.0%), 2837.56 column/sec. Elapsed time 13.43 sec\n",
      "EvaluatorHoldout: Ignoring 167 ( 0.5%) Users that have less than 1 test interactions\n",
      "EvaluatorHoldout: Processed 35569 (100.0%) in 36.17 sec. Users per second: 983\n",
      "Similarity column 38121 (100.0%), 2788.60 column/sec. Elapsed time 13.67 sec\n",
      "EvaluatorHoldout: Ignoring 172 ( 0.5%) Users that have less than 1 test interactions\n",
      "EvaluatorHoldout: Processed 35564 (100.0%) in 36.27 sec. Users per second: 980\n"
     ]
    },
    {
     "name": "stderr",
     "output_type": "stream",
     "text": [
      "[I 2025-01-06 04:53:55,903] Trial 553 finished with value: 0.029807659888788484 and parameters: {'similarity': 'asymmetric', 'topK': 13, 'shrink': 18, 'feature_weighting': 'none', 'asymmetric_alpha': 1.2727856579268184}. Best is trial 439 with value: 0.05361580072200237.\n"
     ]
    },
    {
     "name": "stdout",
     "output_type": "stream",
     "text": [
      "Similarity column 38121 (100.0%), 2664.53 column/sec. Elapsed time 14.31 sec\n",
      "EvaluatorHoldout: Ignoring 173 ( 0.5%) Users that have less than 1 test interactions\n",
      "EvaluatorHoldout: Processed 35563 (100.0%) in 34.87 sec. Users per second: 1020\n",
      "Similarity column 38121 (100.0%), 2648.04 column/sec. Elapsed time 14.40 sec\n",
      "EvaluatorHoldout: Ignoring 163 ( 0.5%) Users that have less than 1 test interactions\n",
      "EvaluatorHoldout: Processed 35573 (100.0%) in 35.16 sec. Users per second: 1012\n",
      "Similarity column 38121 (100.0%), 2637.93 column/sec. Elapsed time 14.45 sec\n",
      "EvaluatorHoldout: Ignoring 150 ( 0.4%) Users that have less than 1 test interactions\n",
      "EvaluatorHoldout: Processed 35586 (100.0%) in 34.82 sec. Users per second: 1022\n",
      "Similarity column 38121 (100.0%), 2637.46 column/sec. Elapsed time 14.45 sec\n",
      "EvaluatorHoldout: Ignoring 167 ( 0.5%) Users that have less than 1 test interactions\n",
      "EvaluatorHoldout: Processed 35569 (100.0%) in 35.08 sec. Users per second: 1014\n",
      "Similarity column 38121 (100.0%), 2643.02 column/sec. Elapsed time 14.42 sec\n",
      "EvaluatorHoldout: Ignoring 172 ( 0.5%) Users that have less than 1 test interactions\n",
      "EvaluatorHoldout: Processed 35564 (100.0%) in 35.21 sec. Users per second: 1010\n"
     ]
    },
    {
     "name": "stderr",
     "output_type": "stream",
     "text": [
      "[I 2025-01-06 04:58:05,401] Trial 554 finished with value: 0.048035245112424414 and parameters: {'similarity': 'tversky', 'topK': 49, 'shrink': 50, 'feature_weighting': 'none', 'tversky_alpha': 0.1174112878390883, 'tversky_beta': 1.9977508668954815}. Best is trial 439 with value: 0.05361580072200237.\n"
     ]
    },
    {
     "name": "stdout",
     "output_type": "stream",
     "text": [
      "Similarity column 38121 (100.0%), 2668.76 column/sec. Elapsed time 14.28 sec\n",
      "EvaluatorHoldout: Ignoring 173 ( 0.5%) Users that have less than 1 test interactions\n",
      "EvaluatorHoldout: Processed 35563 (100.0%) in 34.22 sec. Users per second: 1039\n",
      "Similarity column 38121 (100.0%), 2672.30 column/sec. Elapsed time 14.27 sec\n",
      "EvaluatorHoldout: Ignoring 163 ( 0.5%) Users that have less than 1 test interactions\n",
      "EvaluatorHoldout: Processed 35573 (100.0%) in 34.22 sec. Users per second: 1039\n",
      "Similarity column 38121 (100.0%), 2671.85 column/sec. Elapsed time 14.27 sec\n",
      "EvaluatorHoldout: Ignoring 150 ( 0.4%) Users that have less than 1 test interactions\n",
      "EvaluatorHoldout: Processed 35586 (100.0%) in 34.96 sec. Users per second: 1018\n",
      "Similarity column 38121 (100.0%), 2645.08 column/sec. Elapsed time 14.41 sec\n",
      "EvaluatorHoldout: Ignoring 167 ( 0.5%) Users that have less than 1 test interactions\n",
      "EvaluatorHoldout: Processed 35569 (100.0%) in 34.37 sec. Users per second: 1035\n",
      "Similarity column 38121 (100.0%), 2656.15 column/sec. Elapsed time 14.35 sec\n",
      "EvaluatorHoldout: Ignoring 172 ( 0.5%) Users that have less than 1 test interactions\n",
      "EvaluatorHoldout: Processed 35564 (100.0%) in 34.96 sec. Users per second: 1017\n"
     ]
    },
    {
     "name": "stderr",
     "output_type": "stream",
     "text": [
      "[I 2025-01-06 05:02:11,878] Trial 555 finished with value: 0.04825499951116241 and parameters: {'similarity': 'tversky', 'topK': 34, 'shrink': 73, 'feature_weighting': 'none', 'tversky_alpha': 0.040576402954810846, 'tversky_beta': 1.8536021438821482}. Best is trial 439 with value: 0.05361580072200237.\n"
     ]
    },
    {
     "name": "stdout",
     "output_type": "stream",
     "text": [
      "Similarity column 38121 (100.0%), 2651.34 column/sec. Elapsed time 14.38 sec\n",
      "EvaluatorHoldout: Ignoring 173 ( 0.5%) Users that have less than 1 test interactions\n",
      "EvaluatorHoldout: Processed 35563 (100.0%) in 32.69 sec. Users per second: 1088\n",
      "Similarity column 38121 (100.0%), 2629.87 column/sec. Elapsed time 14.50 sec\n",
      "EvaluatorHoldout: Ignoring 163 ( 0.5%) Users that have less than 1 test interactions\n",
      "EvaluatorHoldout: Processed 35573 (100.0%) in 32.24 sec. Users per second: 1103\n",
      "Similarity column 38121 (100.0%), 2656.84 column/sec. Elapsed time 14.35 sec\n",
      "EvaluatorHoldout: Ignoring 150 ( 0.4%) Users that have less than 1 test interactions\n",
      "EvaluatorHoldout: Processed 35586 (100.0%) in 32.25 sec. Users per second: 1103\n",
      "Similarity column 38121 (100.0%), 2693.34 column/sec. Elapsed time 14.15 sec\n",
      "EvaluatorHoldout: Ignoring 167 ( 0.5%) Users that have less than 1 test interactions\n",
      "EvaluatorHoldout: Processed 35569 (100.0%) in 31.82 sec. Users per second: 1118\n",
      "Similarity column 38121 (100.0%), 2671.99 column/sec. Elapsed time 14.27 sec\n",
      "EvaluatorHoldout: Ignoring 172 ( 0.5%) Users that have less than 1 test interactions\n",
      "EvaluatorHoldout: Processed 35564 (100.0%) in 32.16 sec. Users per second: 1106\n"
     ]
    },
    {
     "name": "stderr",
     "output_type": "stream",
     "text": [
      "[I 2025-01-06 05:06:06,696] Trial 556 finished with value: 0.05229717025221929 and parameters: {'similarity': 'tversky', 'topK': 12, 'shrink': 29, 'feature_weighting': 'none', 'tversky_alpha': 0.9502372852663963, 'tversky_beta': 1.890286172035075}. Best is trial 439 with value: 0.05361580072200237.\n"
     ]
    },
    {
     "name": "stdout",
     "output_type": "stream",
     "text": [
      "Similarity column 38121 (100.0%), 2952.72 column/sec. Elapsed time 12.91 sec\n",
      "EvaluatorHoldout: Ignoring 173 ( 0.5%) Users that have less than 1 test interactions\n",
      "EvaluatorHoldout: Processed 35563 (100.0%) in 32.37 sec. Users per second: 1099\n",
      "Similarity column 38121 (100.0%), 2915.88 column/sec. Elapsed time 13.07 sec\n",
      "EvaluatorHoldout: Ignoring 163 ( 0.5%) Users that have less than 1 test interactions\n",
      "EvaluatorHoldout: Processed 35573 (100.0%) in 32.43 sec. Users per second: 1097\n",
      "Similarity column 38121 (100.0%), 2949.05 column/sec. Elapsed time 12.93 sec\n",
      "EvaluatorHoldout: Ignoring 150 ( 0.4%) Users that have less than 1 test interactions\n",
      "EvaluatorHoldout: Processed 35586 (100.0%) in 32.46 sec. Users per second: 1096\n",
      "Similarity column 38121 (100.0%), 2924.24 column/sec. Elapsed time 13.04 sec\n",
      "EvaluatorHoldout: Ignoring 167 ( 0.5%) Users that have less than 1 test interactions\n",
      "EvaluatorHoldout: Processed 35569 (100.0%) in 32.43 sec. Users per second: 1097\n",
      "Similarity column 38121 (100.0%), 2918.60 column/sec. Elapsed time 13.06 sec\n",
      "EvaluatorHoldout: Ignoring 172 ( 0.5%) Users that have less than 1 test interactions\n",
      "EvaluatorHoldout: Processed 35564 (100.0%) in 32.69 sec. Users per second: 1088\n"
     ]
    },
    {
     "name": "stderr",
     "output_type": "stream",
     "text": [
      "[I 2025-01-06 05:09:56,012] Trial 557 finished with value: 0.049923661378002096 and parameters: {'similarity': 'jaccard', 'topK': 13, 'shrink': 0, 'feature_weighting': 'none'}. Best is trial 439 with value: 0.05361580072200237.\n"
     ]
    },
    {
     "name": "stdout",
     "output_type": "stream",
     "text": [
      "Similarity column 38121 (100.0%), 3352.55 column/sec. Elapsed time 11.37 sec\n",
      "EvaluatorHoldout: Ignoring 173 ( 0.5%) Users that have less than 1 test interactions\n",
      "EvaluatorHoldout: Processed 35563 (100.0%) in 25.89 sec. Users per second: 1374\n",
      "Similarity column 38121 (100.0%), 3315.41 column/sec. Elapsed time 11.50 sec\n",
      "EvaluatorHoldout: Ignoring 163 ( 0.5%) Users that have less than 1 test interactions\n",
      "EvaluatorHoldout: Processed 35573 (100.0%) in 25.54 sec. Users per second: 1393\n",
      "Similarity column 38121 (100.0%), 3421.14 column/sec. Elapsed time 11.14 sec\n",
      "EvaluatorHoldout: Ignoring 150 ( 0.4%) Users that have less than 1 test interactions\n",
      "EvaluatorHoldout: Processed 35586 (100.0%) in 25.81 sec. Users per second: 1379\n",
      "Similarity column 38121 (100.0%), 3358.43 column/sec. Elapsed time 11.35 sec\n",
      "EvaluatorHoldout: Ignoring 167 ( 0.5%) Users that have less than 1 test interactions\n",
      "EvaluatorHoldout: Processed 35569 (100.0%) in 26.45 sec. Users per second: 1345\n",
      "Similarity column 38121 (100.0%), 3339.16 column/sec. Elapsed time 11.42 sec\n",
      "EvaluatorHoldout: Ignoring 172 ( 0.5%) Users that have less than 1 test interactions\n",
      "EvaluatorHoldout: Processed 35564 (100.0%) in 26.36 sec. Users per second: 1349\n"
     ]
    },
    {
     "name": "stderr",
     "output_type": "stream",
     "text": [
      "[I 2025-01-06 05:13:04,811] Trial 558 finished with value: 0.0002664826418719655 and parameters: {'similarity': 'tversky', 'topK': 0, 'shrink': 41, 'feature_weighting': 'none', 'tversky_alpha': 0.6446618732050927, 'tversky_beta': 1.817296604121566}. Best is trial 439 with value: 0.05361580072200237.\n"
     ]
    },
    {
     "name": "stdout",
     "output_type": "stream",
     "text": [
      "Similarity column 38121 (100.0%), 2649.61 column/sec. Elapsed time 14.39 sec\n",
      "EvaluatorHoldout: Ignoring 173 ( 0.5%) Users that have less than 1 test interactions\n",
      "EvaluatorHoldout: Processed 35563 (100.0%) in 36.18 sec. Users per second: 983\n",
      "Similarity column 38121 (100.0%), 2671.03 column/sec. Elapsed time 14.27 sec\n",
      "EvaluatorHoldout: Ignoring 163 ( 0.5%) Users that have less than 1 test interactions\n",
      "EvaluatorHoldout: Processed 35573 (100.0%) in 35.71 sec. Users per second: 996\n",
      "Similarity column 38121 (100.0%), 2636.70 column/sec. Elapsed time 14.46 sec\n",
      "EvaluatorHoldout: Ignoring 150 ( 0.4%) Users that have less than 1 test interactions\n",
      "EvaluatorHoldout: Processed 35586 (100.0%) in 35.73 sec. Users per second: 996\n",
      "Similarity column 38121 (100.0%), 2668.86 column/sec. Elapsed time 14.28 sec\n",
      "EvaluatorHoldout: Ignoring 167 ( 0.5%) Users that have less than 1 test interactions\n",
      "EvaluatorHoldout: Processed 35569 (100.0%) in 35.17 sec. Users per second: 1011\n",
      "Similarity column 38121 (100.0%), 2676.10 column/sec. Elapsed time 14.24 sec\n",
      "EvaluatorHoldout: Ignoring 172 ( 0.5%) Users that have less than 1 test interactions\n",
      "EvaluatorHoldout: Processed 35564 (100.0%) in 35.22 sec. Users per second: 1010\n"
     ]
    },
    {
     "name": "stderr",
     "output_type": "stream",
     "text": [
      "[I 2025-01-06 05:17:16,639] Trial 559 finished with value: 0.043648440458101435 and parameters: {'similarity': 'tversky', 'topK': 32, 'shrink': 270, 'feature_weighting': 'none', 'tversky_alpha': 0.1625728461424612, 'tversky_beta': 1.932466945906522}. Best is trial 439 with value: 0.05361580072200237.\n"
     ]
    },
    {
     "name": "stdout",
     "output_type": "stream",
     "text": [
      "Similarity column 38121 (100.0%), 2661.98 column/sec. Elapsed time 14.32 sec\n",
      "EvaluatorHoldout: Ignoring 173 ( 0.5%) Users that have less than 1 test interactions\n",
      "EvaluatorHoldout: Processed 35563 (100.0%) in 32.94 sec. Users per second: 1080\n",
      "Similarity column 38121 (100.0%), 2642.30 column/sec. Elapsed time 14.43 sec\n",
      "EvaluatorHoldout: Ignoring 163 ( 0.5%) Users that have less than 1 test interactions\n",
      "EvaluatorHoldout: Processed 35573 (100.0%) in 32.52 sec. Users per second: 1094\n",
      "Similarity column 38121 (100.0%), 2654.53 column/sec. Elapsed time 14.36 sec\n",
      "EvaluatorHoldout: Ignoring 150 ( 0.4%) Users that have less than 1 test interactions\n",
      "EvaluatorHoldout: Processed 35586 (100.0%) in 33.34 sec. Users per second: 1067\n",
      "Similarity column 38121 (100.0%), 2672.95 column/sec. Elapsed time 14.26 sec\n",
      "EvaluatorHoldout: Ignoring 167 ( 0.5%) Users that have less than 1 test interactions\n",
      "EvaluatorHoldout: Processed 35569 (100.0%) in 33.62 sec. Users per second: 1058\n",
      "Similarity column 38121 (100.0%), 2637.54 column/sec. Elapsed time 14.45 sec\n",
      "EvaluatorHoldout: Ignoring 172 ( 0.5%) Users that have less than 1 test interactions\n",
      "EvaluatorHoldout: Processed 35564 (100.0%) in 33.34 sec. Users per second: 1067\n"
     ]
    },
    {
     "name": "stderr",
     "output_type": "stream",
     "text": [
      "[I 2025-01-06 05:21:16,368] Trial 560 finished with value: 0.05183115990198335 and parameters: {'similarity': 'tversky', 'topK': 23, 'shrink': 16, 'feature_weighting': 'none', 'tversky_alpha': 0.07856501841224223, 'tversky_beta': 1.874204425409771}. Best is trial 439 with value: 0.05361580072200237.\n"
     ]
    },
    {
     "name": "stdout",
     "output_type": "stream",
     "text": [
      "Similarity column 38121 (100.0%), 2615.70 column/sec. Elapsed time 14.57 sec\n",
      "EvaluatorHoldout: Ignoring 173 ( 0.5%) Users that have less than 1 test interactions\n",
      "EvaluatorHoldout: Processed 35563 (100.0%) in 37.25 sec. Users per second: 955\n",
      "Similarity column 38121 (100.0%), 2596.56 column/sec. Elapsed time 14.68 sec\n",
      "EvaluatorHoldout: Ignoring 163 ( 0.5%) Users that have less than 1 test interactions\n",
      "EvaluatorHoldout: Processed 35573 (100.0%) in 35.86 sec. Users per second: 992\n",
      "Similarity column 38121 (100.0%), 2629.21 column/sec. Elapsed time 14.50 sec\n",
      "EvaluatorHoldout: Ignoring 150 ( 0.4%) Users that have less than 1 test interactions\n",
      "EvaluatorHoldout: Processed 35586 (100.0%) in 35.79 sec. Users per second: 994\n",
      "Similarity column 38121 (100.0%), 2629.35 column/sec. Elapsed time 14.50 sec\n",
      "EvaluatorHoldout: Ignoring 167 ( 0.5%) Users that have less than 1 test interactions\n",
      "EvaluatorHoldout: Processed 35569 (100.0%) in 35.76 sec. Users per second: 995\n",
      "Similarity column 38121 (100.0%), 2632.17 column/sec. Elapsed time 14.48 sec\n",
      "EvaluatorHoldout: Ignoring 172 ( 0.5%) Users that have less than 1 test interactions\n",
      "EvaluatorHoldout: Processed 35564 (100.0%) in 36.26 sec. Users per second: 981\n"
     ]
    },
    {
     "name": "stderr",
     "output_type": "stream",
     "text": [
      "[I 2025-01-06 05:25:32,437] Trial 561 finished with value: 0.046575178227840575 and parameters: {'similarity': 'tversky', 'topK': 59, 'shrink': 55, 'feature_weighting': 'none', 'tversky_alpha': 0.031703444812245324, 'tversky_beta': 1.7805228709164154}. Best is trial 439 with value: 0.05361580072200237.\n"
     ]
    },
    {
     "name": "stdout",
     "output_type": "stream",
     "text": [
      "Similarity column 38121 (100.0%), 2605.23 column/sec. Elapsed time 14.63 sec\n",
      "EvaluatorHoldout: Ignoring 173 ( 0.5%) Users that have less than 1 test interactions\n",
      "EvaluatorHoldout: Processed 35563 (100.0%) in 34.11 sec. Users per second: 1043\n",
      "Similarity column 38121 (100.0%), 2674.73 column/sec. Elapsed time 14.25 sec\n",
      "EvaluatorHoldout: Ignoring 163 ( 0.5%) Users that have less than 1 test interactions\n",
      "EvaluatorHoldout: Processed 35573 (100.0%) in 34.10 sec. Users per second: 1043\n",
      "Similarity column 38121 (100.0%), 2653.34 column/sec. Elapsed time 14.37 sec\n",
      "EvaluatorHoldout: Ignoring 150 ( 0.4%) Users that have less than 1 test interactions\n",
      "EvaluatorHoldout: Processed 35586 (100.0%) in 34.23 sec. Users per second: 1040\n",
      "Similarity column 38121 (100.0%), 2638.30 column/sec. Elapsed time 14.45 sec\n",
      "EvaluatorHoldout: Ignoring 167 ( 0.5%) Users that have less than 1 test interactions\n",
      "EvaluatorHoldout: Processed 35569 (100.0%) in 34.01 sec. Users per second: 1046\n",
      "Similarity column 38121 (100.0%), 2674.54 column/sec. Elapsed time 14.25 sec\n",
      "EvaluatorHoldout: Ignoring 172 ( 0.5%) Users that have less than 1 test interactions\n",
      "EvaluatorHoldout: Processed 35564 (100.0%) in 34.10 sec. Users per second: 1043\n"
     ]
    },
    {
     "name": "stderr",
     "output_type": "stream",
     "text": [
      "[I 2025-01-06 05:29:37,210] Trial 562 finished with value: 0.04988289712739887 and parameters: {'similarity': 'tversky', 'topK': 38, 'shrink': 29, 'feature_weighting': 'none', 'tversky_alpha': 0.09711777519757617, 'tversky_beta': 1.9552484635950977}. Best is trial 439 with value: 0.05361580072200237.\n"
     ]
    },
    {
     "name": "stdout",
     "output_type": "stream",
     "text": [
      "Similarity column 38121 (100.0%), 3428.79 column/sec. Elapsed time 11.12 sec\n",
      "EvaluatorHoldout: Ignoring 173 ( 0.5%) Users that have less than 1 test interactions\n",
      "EvaluatorHoldout: Processed 35563 (100.0%) in 26.40 sec. Users per second: 1347\n",
      "Similarity column 38121 (100.0%), 3383.17 column/sec. Elapsed time 11.27 sec\n",
      "EvaluatorHoldout: Ignoring 163 ( 0.5%) Users that have less than 1 test interactions\n",
      "EvaluatorHoldout: Processed 35573 (100.0%) in 25.66 sec. Users per second: 1386\n",
      "Similarity column 38121 (100.0%), 3315.79 column/sec. Elapsed time 11.50 sec\n",
      "EvaluatorHoldout: Ignoring 150 ( 0.4%) Users that have less than 1 test interactions\n",
      "EvaluatorHoldout: Processed 35586 (100.0%) in 26.03 sec. Users per second: 1367\n",
      "Similarity column 38121 (100.0%), 3377.93 column/sec. Elapsed time 11.29 sec\n",
      "EvaluatorHoldout: Ignoring 167 ( 0.5%) Users that have less than 1 test interactions\n",
      "EvaluatorHoldout: Processed 35569 (100.0%) in 25.88 sec. Users per second: 1374\n",
      "Similarity column 38121 (100.0%), 3429.61 column/sec. Elapsed time 11.12 sec\n",
      "EvaluatorHoldout: Ignoring 172 ( 0.5%) Users that have less than 1 test interactions\n",
      "EvaluatorHoldout: Processed 35564 (100.0%) in 25.96 sec. Users per second: 1370\n"
     ]
    },
    {
     "name": "stderr",
     "output_type": "stream",
     "text": [
      "[I 2025-01-06 05:32:45,359] Trial 563 finished with value: 0.0002664826418719655 and parameters: {'similarity': 'tversky', 'topK': 0, 'shrink': 79, 'feature_weighting': 'none', 'tversky_alpha': 0.13816037520995966, 'tversky_beta': 1.701625071166778}. Best is trial 439 with value: 0.05361580072200237.\n"
     ]
    },
    {
     "name": "stdout",
     "output_type": "stream",
     "text": [
      "Similarity column 38121 (100.0%), 2656.77 column/sec. Elapsed time 14.35 sec\n",
      "EvaluatorHoldout: Ignoring 173 ( 0.5%) Users that have less than 1 test interactions\n",
      "EvaluatorHoldout: Processed 35563 (100.0%) in 36.52 sec. Users per second: 974\n",
      "Similarity column 38121 (100.0%), 2641.83 column/sec. Elapsed time 14.43 sec\n",
      "EvaluatorHoldout: Ignoring 163 ( 0.5%) Users that have less than 1 test interactions\n",
      "EvaluatorHoldout: Processed 35573 (100.0%) in 36.05 sec. Users per second: 987\n",
      "Similarity column 38121 (100.0%), 2639.88 column/sec. Elapsed time 14.44 sec\n",
      "EvaluatorHoldout: Ignoring 150 ( 0.4%) Users that have less than 1 test interactions\n",
      "EvaluatorHoldout: Processed 35586 (100.0%) in 36.68 sec. Users per second: 970\n",
      "Similarity column 38121 (100.0%), 2644.93 column/sec. Elapsed time 14.41 sec\n",
      "EvaluatorHoldout: Ignoring 167 ( 0.5%) Users that have less than 1 test interactions\n",
      "EvaluatorHoldout: Processed 35569 (100.0%) in 36.25 sec. Users per second: 981\n",
      "Similarity column 38121 (100.0%), 2629.98 column/sec. Elapsed time 14.49 sec\n",
      "EvaluatorHoldout: Ignoring 172 ( 0.5%) Users that have less than 1 test interactions\n",
      "EvaluatorHoldout: Processed 35564 (100.0%) in 36.15 sec. Users per second: 984\n"
     ]
    },
    {
     "name": "stderr",
     "output_type": "stream",
     "text": [
      "[I 2025-01-06 05:37:01,621] Trial 564 finished with value: 0.046210046758576664 and parameters: {'similarity': 'tversky', 'topK': 80, 'shrink': 36, 'feature_weighting': 'none', 'tversky_alpha': 0.06882424370372198, 'tversky_beta': 1.834013027907302}. Best is trial 439 with value: 0.05361580072200237.\n"
     ]
    },
    {
     "name": "stdout",
     "output_type": "stream",
     "text": [
      "Similarity column 38121 (100.0%), 2692.91 column/sec. Elapsed time 14.16 sec\n",
      "EvaluatorHoldout: Ignoring 173 ( 0.5%) Users that have less than 1 test interactions\n",
      "EvaluatorHoldout: Processed 35563 (100.0%) in 32.69 sec. Users per second: 1088\n",
      "Similarity column 38121 (100.0%), 2665.29 column/sec. Elapsed time 14.30 sec\n",
      "EvaluatorHoldout: Ignoring 163 ( 0.5%) Users that have less than 1 test interactions\n",
      "EvaluatorHoldout: Processed 35573 (100.0%) in 33.36 sec. Users per second: 1066\n",
      "Similarity column 38121 (100.0%), 2680.00 column/sec. Elapsed time 14.22 sec\n",
      "EvaluatorHoldout: Ignoring 150 ( 0.4%) Users that have less than 1 test interactions\n",
      "EvaluatorHoldout: Processed 35586 (100.0%) in 32.43 sec. Users per second: 1097\n",
      "Similarity column 38121 (100.0%), 2611.43 column/sec. Elapsed time 14.60 sec\n",
      "EvaluatorHoldout: Ignoring 167 ( 0.5%) Users that have less than 1 test interactions\n",
      "EvaluatorHoldout: Processed 35569 (100.0%) in 32.93 sec. Users per second: 1080\n",
      "Similarity column 38121 (100.0%), 2675.63 column/sec. Elapsed time 14.25 sec\n",
      "EvaluatorHoldout: Ignoring 172 ( 0.5%) Users that have less than 1 test interactions\n",
      "EvaluatorHoldout: Processed 35564 (100.0%) in 32.72 sec. Users per second: 1087\n"
     ]
    },
    {
     "name": "stderr",
     "output_type": "stream",
     "text": [
      "[I 2025-01-06 05:40:59,410] Trial 565 finished with value: 0.05211719728194486 and parameters: {'similarity': 'tversky', 'topK': 20, 'shrink': 15, 'feature_weighting': 'none', 'tversky_alpha': 0.03231670551173192, 'tversky_beta': 1.9029813046564037}. Best is trial 439 with value: 0.05361580072200237.\n"
     ]
    },
    {
     "name": "stdout",
     "output_type": "stream",
     "text": [
      "Similarity column 38121 (100.0%), 509.52 column/sec. Elapsed time 1.25 min\n",
      "EvaluatorHoldout: Ignoring 173 ( 0.5%) Users that have less than 1 test interactions\n",
      "EvaluatorHoldout: Processed 35563 (100.0%) in 28.03 sec. Users per second: 1269\n",
      "Similarity column 38121 (100.0%), 475.27 column/sec. Elapsed time 1.34 min\n",
      "EvaluatorHoldout: Ignoring 163 ( 0.5%) Users that have less than 1 test interactions\n",
      "EvaluatorHoldout: Processed 35573 (100.0%) in 28.18 sec. Users per second: 1262\n",
      "Similarity column 38121 (100.0%), 527.16 column/sec. Elapsed time 1.21 min\n",
      "EvaluatorHoldout: Ignoring 150 ( 0.4%) Users that have less than 1 test interactions\n",
      "EvaluatorHoldout: Processed 35586 (100.0%) in 28.20 sec. Users per second: 1262\n",
      "Similarity column 38121 (100.0%), 473.85 column/sec. Elapsed time 1.34 min\n",
      "EvaluatorHoldout: Ignoring 167 ( 0.5%) Users that have less than 1 test interactions\n",
      "EvaluatorHoldout: Processed 35569 (100.0%) in 28.26 sec. Users per second: 1259\n",
      "Similarity column 38121 (100.0%), 482.58 column/sec. Elapsed time 1.32 min\n",
      "EvaluatorHoldout: Ignoring 172 ( 0.5%) Users that have less than 1 test interactions\n",
      "EvaluatorHoldout: Processed 35564 (100.0%) in 28.08 sec. Users per second: 1267\n"
     ]
    },
    {
     "name": "stderr",
     "output_type": "stream",
     "text": [
      "[I 2025-01-06 05:49:47,662] Trial 566 finished with value: 0.029409687326402145 and parameters: {'similarity': 'euclidean', 'topK': 12, 'shrink': 58, 'feature_weighting': 'none', 'normalize_avg_row': False, 'similarity_from_distance_mode': 'lin', 'normalize': False}. Best is trial 439 with value: 0.05361580072200237.\n"
     ]
    },
    {
     "name": "stdout",
     "output_type": "stream",
     "text": [
      "Similarity column 38121 (100.0%), 2641.87 column/sec. Elapsed time 14.43 sec\n",
      "EvaluatorHoldout: Ignoring 173 ( 0.5%) Users that have less than 1 test interactions\n",
      "EvaluatorHoldout: Processed 35563 (100.0%) in 34.13 sec. Users per second: 1042\n",
      "Similarity column 38121 (100.0%), 2658.17 column/sec. Elapsed time 14.34 sec\n",
      "EvaluatorHoldout: Ignoring 163 ( 0.5%) Users that have less than 1 test interactions\n",
      "EvaluatorHoldout: Processed 35573 (100.0%) in 33.71 sec. Users per second: 1055\n",
      "Similarity column 38121 (100.0%), 2635.23 column/sec. Elapsed time 14.47 sec\n",
      "EvaluatorHoldout: Ignoring 150 ( 0.4%) Users that have less than 1 test interactions\n",
      "EvaluatorHoldout: Processed 35586 (100.0%) in 34.18 sec. Users per second: 1041\n",
      "Similarity column 38121 (100.0%), 2607.53 column/sec. Elapsed time 14.62 sec\n",
      "EvaluatorHoldout: Ignoring 167 ( 0.5%) Users that have less than 1 test interactions\n",
      "EvaluatorHoldout: Processed 35569 (100.0%) in 34.01 sec. Users per second: 1046\n",
      "Similarity column 38121 (100.0%), 2653.61 column/sec. Elapsed time 14.37 sec\n",
      "EvaluatorHoldout: Ignoring 172 ( 0.5%) Users that have less than 1 test interactions\n",
      "EvaluatorHoldout: Processed 35564 (100.0%) in 34.58 sec. Users per second: 1028\n"
     ]
    },
    {
     "name": "stderr",
     "output_type": "stream",
     "text": [
      "[I 2025-01-06 05:53:52,810] Trial 567 finished with value: 0.04963474414587704 and parameters: {'similarity': 'tversky', 'topK': 48, 'shrink': 1, 'feature_weighting': 'none', 'tversky_alpha': 0.09703120062422903, 'tversky_beta': 1.8667065148076574}. Best is trial 439 with value: 0.05361580072200237.\n"
     ]
    },
    {
     "name": "stdout",
     "output_type": "stream",
     "text": [
      "Similarity column 38121 (100.0%), 2686.96 column/sec. Elapsed time 14.19 sec\n",
      "EvaluatorHoldout: Ignoring 173 ( 0.5%) Users that have less than 1 test interactions\n",
      "EvaluatorHoldout: Processed 35563 (100.0%) in 35.90 sec. Users per second: 991\n",
      "Similarity column 38121 (100.0%), 2644.24 column/sec. Elapsed time 14.42 sec\n",
      "EvaluatorHoldout: Ignoring 163 ( 0.5%) Users that have less than 1 test interactions\n",
      "EvaluatorHoldout: Processed 35573 (100.0%) in 36.16 sec. Users per second: 984\n",
      "Similarity column 38121 (100.0%), 2667.06 column/sec. Elapsed time 14.29 sec\n",
      "EvaluatorHoldout: Ignoring 150 ( 0.4%) Users that have less than 1 test interactions\n",
      "EvaluatorHoldout: Processed 35586 (100.0%) in 35.85 sec. Users per second: 993\n",
      "Similarity column 38121 (100.0%), 2658.20 column/sec. Elapsed time 14.34 sec\n",
      "EvaluatorHoldout: Ignoring 167 ( 0.5%) Users that have less than 1 test interactions\n",
      "EvaluatorHoldout: Processed 35569 (100.0%) in 35.55 sec. Users per second: 1000\n",
      "Similarity column 38121 (100.0%), 2663.39 column/sec. Elapsed time 14.31 sec\n",
      "EvaluatorHoldout: Ignoring 172 ( 0.5%) Users that have less than 1 test interactions\n",
      "EvaluatorHoldout: Processed 35564 (100.0%) in 36.17 sec. Users per second: 983\n"
     ]
    },
    {
     "name": "stderr",
     "output_type": "stream",
     "text": [
      "[I 2025-01-06 05:58:06,112] Trial 568 finished with value: 0.039645812531516174 and parameters: {'similarity': 'tversky', 'topK': 27, 'shrink': 775, 'feature_weighting': 'none', 'tversky_alpha': 0.19318550091433445, 'tversky_beta': 1.9256755289692398}. Best is trial 439 with value: 0.05361580072200237.\n"
     ]
    },
    {
     "name": "stdout",
     "output_type": "stream",
     "text": [
      "Similarity column 38121 (100.0%), 3978.72 column/sec. Elapsed time 9.58 sec\n",
      "EvaluatorHoldout: Ignoring 173 ( 0.5%) Users that have less than 1 test interactions\n",
      "EvaluatorHoldout: Processed 35563 (100.0%) in 25.42 sec. Users per second: 1399\n",
      "Similarity column 38121 (100.0%), 3991.06 column/sec. Elapsed time 9.55 sec\n",
      "EvaluatorHoldout: Ignoring 163 ( 0.5%) Users that have less than 1 test interactions\n",
      "EvaluatorHoldout: Processed 35573 (100.0%) in 26.32 sec. Users per second: 1352\n",
      "Similarity column 38121 (100.0%), 4006.81 column/sec. Elapsed time 9.51 sec\n",
      "EvaluatorHoldout: Ignoring 150 ( 0.4%) Users that have less than 1 test interactions\n",
      "EvaluatorHoldout: Processed 35586 (100.0%) in 25.06 sec. Users per second: 1420\n",
      "Similarity column 38121 (100.0%), 3860.23 column/sec. Elapsed time 9.88 sec\n",
      "EvaluatorHoldout: Ignoring 167 ( 0.5%) Users that have less than 1 test interactions\n",
      "EvaluatorHoldout: Processed 35569 (100.0%) in 25.79 sec. Users per second: 1379\n",
      "Similarity column 38121 (100.0%), 3870.05 column/sec. Elapsed time 9.85 sec\n",
      "EvaluatorHoldout: Ignoring 172 ( 0.5%) Users that have less than 1 test interactions\n",
      "EvaluatorHoldout: Processed 35564 (100.0%) in 25.52 sec. Users per second: 1394\n"
     ]
    },
    {
     "name": "stderr",
     "output_type": "stream",
     "text": [
      "[I 2025-01-06 06:01:04,525] Trial 569 finished with value: 0.0002664826418719655 and parameters: {'similarity': 'dice', 'topK': 0, 'shrink': 95, 'feature_weighting': 'none'}. Best is trial 439 with value: 0.05361580072200237.\n"
     ]
    },
    {
     "name": "stdout",
     "output_type": "stream",
     "text": [
      "Similarity column 38121 (100.0%), 2619.58 column/sec. Elapsed time 14.55 sec\n",
      "EvaluatorHoldout: Ignoring 173 ( 0.5%) Users that have less than 1 test interactions\n",
      "EvaluatorHoldout: Processed 35563 (100.0%) in 34.55 sec. Users per second: 1029\n",
      "Similarity column 38121 (100.0%), 2591.09 column/sec. Elapsed time 14.71 sec\n",
      "EvaluatorHoldout: Ignoring 163 ( 0.5%) Users that have less than 1 test interactions\n",
      "EvaluatorHoldout: Processed 35573 (100.0%) in 34.88 sec. Users per second: 1020\n",
      "Similarity column 38121 (100.0%), 2542.64 column/sec. Elapsed time 14.99 sec\n",
      "EvaluatorHoldout: Ignoring 150 ( 0.4%) Users that have less than 1 test interactions\n",
      "EvaluatorHoldout: Processed 35586 (100.0%) in 34.01 sec. Users per second: 1046\n",
      "Similarity column 38121 (100.0%), 2619.32 column/sec. Elapsed time 14.55 sec\n",
      "EvaluatorHoldout: Ignoring 167 ( 0.5%) Users that have less than 1 test interactions\n",
      "EvaluatorHoldout: Processed 35569 (100.0%) in 34.69 sec. Users per second: 1025\n",
      "Similarity column 38121 (100.0%), 2630.24 column/sec. Elapsed time 14.49 sec\n",
      "EvaluatorHoldout: Ignoring 172 ( 0.5%) Users that have less than 1 test interactions\n",
      "EvaluatorHoldout: Processed 35564 (100.0%) in 33.09 sec. Users per second: 1075\n"
     ]
    },
    {
     "name": "stderr",
     "output_type": "stream",
     "text": [
      "[I 2025-01-06 06:05:11,830] Trial 570 finished with value: 0.04341199067039195 and parameters: {'similarity': 'tversky', 'topK': 36, 'shrink': 0, 'feature_weighting': 'BM25', 'tversky_alpha': 0.0009709188833025625, 'tversky_beta': 1.9628902361160083}. Best is trial 439 with value: 0.05361580072200237.\n"
     ]
    },
    {
     "name": "stdout",
     "output_type": "stream",
     "text": [
      "Similarity column 38121 (100.0%), 2670.18 column/sec. Elapsed time 14.28 sec\n",
      "EvaluatorHoldout: Ignoring 173 ( 0.5%) Users that have less than 1 test interactions\n",
      "EvaluatorHoldout: Processed 35563 (100.0%) in 32.02 sec. Users per second: 1111\n",
      "Similarity column 38121 (100.0%), 2663.76 column/sec. Elapsed time 14.31 sec\n",
      "EvaluatorHoldout: Ignoring 163 ( 0.5%) Users that have less than 1 test interactions\n",
      "EvaluatorHoldout: Processed 35573 (100.0%) in 31.97 sec. Users per second: 1113\n",
      "Similarity column 38121 (100.0%), 2687.34 column/sec. Elapsed time 14.19 sec\n",
      "EvaluatorHoldout: Ignoring 150 ( 0.4%) Users that have less than 1 test interactions\n",
      "EvaluatorHoldout: Processed 35586 (100.0%) in 31.76 sec. Users per second: 1120\n",
      "Similarity column 38121 (100.0%), 2603.41 column/sec. Elapsed time 14.64 sec\n",
      "EvaluatorHoldout: Ignoring 167 ( 0.5%) Users that have less than 1 test interactions\n",
      "EvaluatorHoldout: Processed 35569 (100.0%) in 32.27 sec. Users per second: 1102\n",
      "Similarity column 38121 (100.0%), 2652.98 column/sec. Elapsed time 14.37 sec\n",
      "EvaluatorHoldout: Ignoring 172 ( 0.5%) Users that have less than 1 test interactions\n",
      "EvaluatorHoldout: Processed 35564 (100.0%) in 32.04 sec. Users per second: 1110\n"
     ]
    },
    {
     "name": "stderr",
     "output_type": "stream",
     "text": [
      "[I 2025-01-06 06:09:05,690] Trial 571 finished with value: 0.05240471082588213 and parameters: {'similarity': 'tversky', 'topK': 14, 'shrink': 39, 'feature_weighting': 'none', 'tversky_alpha': 0.056575835135790405, 'tversky_beta': 1.7517833243459178}. Best is trial 439 with value: 0.05361580072200237.\n"
     ]
    },
    {
     "name": "stdout",
     "output_type": "stream",
     "text": [
      "Similarity column 38121 (100.0%), 2694.37 column/sec. Elapsed time 14.15 sec\n",
      "EvaluatorHoldout: Ignoring 173 ( 0.5%) Users that have less than 1 test interactions\n",
      "EvaluatorHoldout: Processed 35563 (100.0%) in 33.09 sec. Users per second: 1075\n",
      "Similarity column 38121 (100.0%), 2623.32 column/sec. Elapsed time 14.53 sec\n",
      "EvaluatorHoldout: Ignoring 163 ( 0.5%) Users that have less than 1 test interactions\n",
      "EvaluatorHoldout: Processed 35573 (100.0%) in 33.41 sec. Users per second: 1065\n",
      "Similarity column 38121 (100.0%), 2684.13 column/sec. Elapsed time 14.20 sec\n",
      "EvaluatorHoldout: Ignoring 150 ( 0.4%) Users that have less than 1 test interactions\n",
      "EvaluatorHoldout: Processed 35586 (100.0%) in 33.50 sec. Users per second: 1062\n",
      "Similarity column 38121 (100.0%), 2643.29 column/sec. Elapsed time 14.42 sec\n",
      "EvaluatorHoldout: Ignoring 167 ( 0.5%) Users that have less than 1 test interactions\n",
      "EvaluatorHoldout: Processed 35569 (100.0%) in 33.39 sec. Users per second: 1065\n",
      "Similarity column 38121 (100.0%), 2653.55 column/sec. Elapsed time 14.37 sec\n",
      "EvaluatorHoldout: Ignoring 172 ( 0.5%) Users that have less than 1 test interactions\n",
      "EvaluatorHoldout: Processed 35564 (100.0%) in 33.17 sec. Users per second: 1072\n"
     ]
    },
    {
     "name": "stderr",
     "output_type": "stream",
     "text": [
      "[I 2025-01-06 06:13:05,989] Trial 572 finished with value: 0.05051452717471479 and parameters: {'similarity': 'tversky', 'topK': 23, 'shrink': 54, 'feature_weighting': 'none', 'tversky_alpha': 0.12831492929990665, 'tversky_beta': 1.8173223535413}. Best is trial 439 with value: 0.05361580072200237.\n"
     ]
    },
    {
     "name": "stdout",
     "output_type": "stream",
     "text": [
      "Similarity column 38121 (100.0%), 2549.50 column/sec. Elapsed time 14.95 sec\n",
      "EvaluatorHoldout: Ignoring 173 ( 0.5%) Users that have less than 1 test interactions\n",
      "EvaluatorHoldout: Processed 35563 (100.0%) in 46.81 sec. Users per second: 760\n",
      "Similarity column 38121 (100.0%), 2530.54 column/sec. Elapsed time 15.06 sec\n",
      "EvaluatorHoldout: Ignoring 163 ( 0.5%) Users that have less than 1 test interactions\n",
      "EvaluatorHoldout: Processed 35573 (100.0%) in 47.02 sec. Users per second: 757\n",
      "Similarity column 38121 (100.0%), 2477.72 column/sec. Elapsed time 15.39 sec\n",
      "EvaluatorHoldout: Ignoring 150 ( 0.4%) Users that have less than 1 test interactions\n",
      "EvaluatorHoldout: Processed 35586 (100.0%) in 46.72 sec. Users per second: 762\n",
      "Similarity column 38121 (100.0%), 2533.22 column/sec. Elapsed time 15.05 sec\n",
      "EvaluatorHoldout: Ignoring 167 ( 0.5%) Users that have less than 1 test interactions\n",
      "EvaluatorHoldout: Processed 35569 (100.0%) in 47.15 sec. Users per second: 754\n",
      "Similarity column 38121 (100.0%), 2550.40 column/sec. Elapsed time 14.95 sec\n",
      "EvaluatorHoldout: Ignoring 172 ( 0.5%) Users that have less than 1 test interactions\n",
      "EvaluatorHoldout: Processed 35564 (100.0%) in 46.44 sec. Users per second: 766\n"
     ]
    },
    {
     "name": "stderr",
     "output_type": "stream",
     "text": [
      "[I 2025-01-06 06:18:21,602] Trial 573 finished with value: 0.03756733949573581 and parameters: {'similarity': 'tversky', 'topK': 538, 'shrink': 21, 'feature_weighting': 'none', 'tversky_alpha': 0.032725795654304994, 'tversky_beta': 1.8860535563660432}. Best is trial 439 with value: 0.05361580072200237.\n"
     ]
    },
    {
     "name": "stdout",
     "output_type": "stream",
     "text": [
      "Similarity column 38121 (100.0%), 2693.24 column/sec. Elapsed time 14.15 sec\n",
      "EvaluatorHoldout: Ignoring 173 ( 0.5%) Users that have less than 1 test interactions\n",
      "EvaluatorHoldout: Processed 35563 (100.0%) in 36.98 sec. Users per second: 962\n",
      "Similarity column 38121 (100.0%), 2664.00 column/sec. Elapsed time 14.31 sec\n",
      "EvaluatorHoldout: Ignoring 163 ( 0.5%) Users that have less than 1 test interactions\n",
      "EvaluatorHoldout: Processed 35573 (100.0%) in 36.79 sec. Users per second: 967\n",
      "Similarity column 38121 (100.0%), 2666.95 column/sec. Elapsed time 14.29 sec\n",
      "EvaluatorHoldout: Ignoring 150 ( 0.4%) Users that have less than 1 test interactions\n",
      "EvaluatorHoldout: Processed 35586 (100.0%) in 36.76 sec. Users per second: 968\n",
      "Similarity column 38121 (100.0%), 2663.70 column/sec. Elapsed time 14.31 sec\n",
      "EvaluatorHoldout: Ignoring 167 ( 0.5%) Users that have less than 1 test interactions\n",
      "EvaluatorHoldout: Processed 35569 (100.0%) in 37.05 sec. Users per second: 960\n",
      "Similarity column 38121 (100.0%), 2617.40 column/sec. Elapsed time 14.56 sec\n",
      "EvaluatorHoldout: Ignoring 172 ( 0.5%) Users that have less than 1 test interactions\n",
      "EvaluatorHoldout: Processed 35564 (100.0%) in 36.87 sec. Users per second: 965\n"
     ]
    },
    {
     "name": "stderr",
     "output_type": "stream",
     "text": [
      "[I 2025-01-06 06:22:40,059] Trial 574 finished with value: 0.04036492226413317 and parameters: {'similarity': 'tversky', 'topK': 43, 'shrink': 431, 'feature_weighting': 'none', 'tversky_alpha': 0.10453461360076219, 'tversky_beta': 1.8507728770630958}. Best is trial 439 with value: 0.05361580072200237.\n"
     ]
    },
    {
     "name": "stdout",
     "output_type": "stream",
     "text": [
      "Similarity column 38121 (100.0%), 2649.24 column/sec. Elapsed time 14.39 sec\n",
      "EvaluatorHoldout: Ignoring 173 ( 0.5%) Users that have less than 1 test interactions\n",
      "EvaluatorHoldout: Processed 35563 (100.0%) in 34.45 sec. Users per second: 1032\n",
      "Similarity column 38121 (100.0%), 2657.89 column/sec. Elapsed time 14.34 sec\n",
      "EvaluatorHoldout: Ignoring 163 ( 0.5%) Users that have less than 1 test interactions\n",
      "EvaluatorHoldout: Processed 35573 (100.0%) in 34.37 sec. Users per second: 1035\n",
      "Similarity column 38121 (100.0%), 2609.17 column/sec. Elapsed time 14.61 sec\n",
      "EvaluatorHoldout: Ignoring 150 ( 0.4%) Users that have less than 1 test interactions\n",
      "EvaluatorHoldout: Processed 35586 (100.0%) in 34.50 sec. Users per second: 1032\n",
      "Similarity column 38121 (100.0%), 2672.52 column/sec. Elapsed time 14.26 sec\n",
      "EvaluatorHoldout: Ignoring 167 ( 0.5%) Users that have less than 1 test interactions\n",
      "EvaluatorHoldout: Processed 35569 (100.0%) in 34.71 sec. Users per second: 1025\n",
      "Similarity column 38121 (100.0%), 2656.33 column/sec. Elapsed time 14.35 sec\n",
      "EvaluatorHoldout: Ignoring 172 ( 0.5%) Users that have less than 1 test interactions\n",
      "EvaluatorHoldout: Processed 35564 (100.0%) in 33.93 sec. Users per second: 1048\n"
     ]
    },
    {
     "name": "stderr",
     "output_type": "stream",
     "text": [
      "[I 2025-01-06 06:26:46,066] Trial 575 finished with value: 0.04025202934604542 and parameters: {'similarity': 'tversky', 'topK': 12, 'shrink': 914, 'feature_weighting': 'none', 'tversky_alpha': 0.06651846716482113, 'tversky_beta': 1.9290080988194285}. Best is trial 439 with value: 0.05361580072200237.\n"
     ]
    },
    {
     "name": "stdout",
     "output_type": "stream",
     "text": [
      "Similarity column 38121 (100.0%), 2624.04 column/sec. Elapsed time 14.53 sec\n",
      "EvaluatorHoldout: Ignoring 173 ( 0.5%) Users that have less than 1 test interactions\n",
      "EvaluatorHoldout: Processed 35563 (100.0%) in 35.87 sec. Users per second: 991\n",
      "Similarity column 38121 (100.0%), 2639.48 column/sec. Elapsed time 14.44 sec\n",
      "EvaluatorHoldout: Ignoring 163 ( 0.5%) Users that have less than 1 test interactions\n",
      "EvaluatorHoldout: Processed 35573 (100.0%) in 35.42 sec. Users per second: 1004\n",
      "Similarity column 38121 (100.0%), 2647.86 column/sec. Elapsed time 14.40 sec\n",
      "EvaluatorHoldout: Ignoring 150 ( 0.4%) Users that have less than 1 test interactions\n",
      "EvaluatorHoldout: Processed 35586 (100.0%) in 35.22 sec. Users per second: 1010\n",
      "Similarity column 38121 (100.0%), 2663.90 column/sec. Elapsed time 14.31 sec\n",
      "EvaluatorHoldout: Ignoring 167 ( 0.5%) Users that have less than 1 test interactions\n",
      "EvaluatorHoldout: Processed 35569 (100.0%) in 35.84 sec. Users per second: 992\n",
      "Similarity column 38121 (100.0%), 2600.93 column/sec. Elapsed time 14.66 sec\n",
      "EvaluatorHoldout: Ignoring 172 ( 0.5%) Users that have less than 1 test interactions\n",
      "EvaluatorHoldout: Processed 35564 (100.0%) in 35.61 sec. Users per second: 999\n"
     ]
    },
    {
     "name": "stderr",
     "output_type": "stream",
     "text": [
      "[I 2025-01-06 06:30:58,844] Trial 576 finished with value: 0.04703273247509769 and parameters: {'similarity': 'tversky', 'topK': 64, 'shrink': 41, 'feature_weighting': 'none', 'tversky_alpha': 3.242388160988596e-05, 'tversky_beta': 1.7909036930566968}. Best is trial 439 with value: 0.05361580072200237.\n"
     ]
    },
    {
     "name": "stdout",
     "output_type": "stream",
     "text": [
      "Similarity column 38121 (100.0%), 2660.49 column/sec. Elapsed time 14.33 sec\n",
      "EvaluatorHoldout: Ignoring 173 ( 0.5%) Users that have less than 1 test interactions\n",
      "EvaluatorHoldout: Processed 35563 (100.0%) in 35.01 sec. Users per second: 1016\n",
      "Similarity column 38121 (100.0%), 2659.90 column/sec. Elapsed time 14.33 sec\n",
      "EvaluatorHoldout: Ignoring 163 ( 0.5%) Users that have less than 1 test interactions\n",
      "EvaluatorHoldout: Processed 35573 (100.0%) in 35.55 sec. Users per second: 1001\n",
      "Similarity column 38121 (100.0%), 2675.94 column/sec. Elapsed time 14.25 sec\n",
      "EvaluatorHoldout: Ignoring 150 ( 0.4%) Users that have less than 1 test interactions\n",
      "EvaluatorHoldout: Processed 35586 (100.0%) in 34.83 sec. Users per second: 1022\n",
      "Similarity column 38121 (100.0%), 2678.86 column/sec. Elapsed time 14.23 sec\n",
      "EvaluatorHoldout: Ignoring 167 ( 0.5%) Users that have less than 1 test interactions\n",
      "EvaluatorHoldout: Processed 35569 (100.0%) in 34.95 sec. Users per second: 1018\n",
      "Similarity column 38121 (100.0%), 2670.11 column/sec. Elapsed time 14.28 sec\n",
      "EvaluatorHoldout: Ignoring 172 ( 0.5%) Users that have less than 1 test interactions\n",
      "EvaluatorHoldout: Processed 35564 (100.0%) in 34.90 sec. Users per second: 1019\n"
     ]
    },
    {
     "name": "stderr",
     "output_type": "stream",
     "text": [
      "[I 2025-01-06 06:35:07,728] Trial 577 finished with value: 0.044686525570280945 and parameters: {'similarity': 'tversky', 'topK': 29, 'shrink': 67, 'feature_weighting': 'none', 'tversky_alpha': 0.14773975038366477, 'tversky_beta': 0.49793677322060437}. Best is trial 439 with value: 0.05361580072200237.\n"
     ]
    },
    {
     "name": "stdout",
     "output_type": "stream",
     "text": [
      "Similarity column 38121 (100.0%), 2668.70 column/sec. Elapsed time 14.28 sec\n",
      "EvaluatorHoldout: Ignoring 173 ( 0.5%) Users that have less than 1 test interactions\n",
      "EvaluatorHoldout: Processed 35563 (100.0%) in 31.52 sec. Users per second: 1128\n",
      "Similarity column 38121 (100.0%), 2697.03 column/sec. Elapsed time 14.13 sec\n",
      "EvaluatorHoldout: Ignoring 163 ( 0.5%) Users that have less than 1 test interactions\n",
      "EvaluatorHoldout: Processed 35573 (100.0%) in 31.45 sec. Users per second: 1131\n",
      "Similarity column 38121 (100.0%), 2687.34 column/sec. Elapsed time 14.19 sec\n",
      "EvaluatorHoldout: Ignoring 150 ( 0.4%) Users that have less than 1 test interactions\n",
      "EvaluatorHoldout: Processed 35586 (100.0%) in 32.35 sec. Users per second: 1100\n",
      "Similarity column 38121 (100.0%), 2703.22 column/sec. Elapsed time 14.10 sec\n",
      "EvaluatorHoldout: Ignoring 167 ( 0.5%) Users that have less than 1 test interactions\n",
      "EvaluatorHoldout: Processed 35569 (100.0%) in 31.48 sec. Users per second: 1130\n",
      "Similarity column 38121 (100.0%), 2674.98 column/sec. Elapsed time 14.25 sec\n",
      "EvaluatorHoldout: Ignoring 172 ( 0.5%) Users that have less than 1 test interactions\n",
      "EvaluatorHoldout: Processed 35564 (100.0%) in 31.44 sec. Users per second: 1131\n"
     ]
    },
    {
     "name": "stderr",
     "output_type": "stream",
     "text": [
      "[I 2025-01-06 06:38:58,965] Trial 578 finished with value: 0.05333110785286134 and parameters: {'similarity': 'tversky', 'topK': 13, 'shrink': 22, 'feature_weighting': 'none', 'tversky_alpha': 0.07463968586782083, 'tversky_beta': 1.9794269439517356}. Best is trial 439 with value: 0.05361580072200237.\n"
     ]
    },
    {
     "name": "stdout",
     "output_type": "stream",
     "text": [
      "Similarity column 38121 (100.0%), 2694.01 column/sec. Elapsed time 14.15 sec\n",
      "EvaluatorHoldout: Ignoring 173 ( 0.5%) Users that have less than 1 test interactions\n",
      "EvaluatorHoldout: Processed 35563 (100.0%) in 31.83 sec. Users per second: 1117\n",
      "Similarity column 38121 (100.0%), 2648.54 column/sec. Elapsed time 14.39 sec\n",
      "EvaluatorHoldout: Ignoring 163 ( 0.5%) Users that have less than 1 test interactions\n",
      "EvaluatorHoldout: Processed 35573 (100.0%) in 33.86 sec. Users per second: 1051\n",
      "Similarity column 38121 (100.0%), 2561.19 column/sec. Elapsed time 14.88 sec\n",
      "EvaluatorHoldout: Ignoring 150 ( 0.4%) Users that have less than 1 test interactions\n",
      "EvaluatorHoldout: Processed 35586 (100.0%) in 33.50 sec. Users per second: 1062\n",
      "Similarity column 38121 (100.0%), 2624.60 column/sec. Elapsed time 14.52 sec\n",
      "EvaluatorHoldout: Ignoring 167 ( 0.5%) Users that have less than 1 test interactions\n",
      "EvaluatorHoldout: Processed 35569 (100.0%) in 33.32 sec. Users per second: 1067\n",
      "Similarity column 38121 (100.0%), 2628.21 column/sec. Elapsed time 14.50 sec\n",
      "EvaluatorHoldout: Ignoring 172 ( 0.5%) Users that have less than 1 test interactions\n",
      "EvaluatorHoldout: Processed 35564 (100.0%) in 32.98 sec. Users per second: 1078\n"
     ]
    },
    {
     "name": "stderr",
     "output_type": "stream",
     "text": [
      "[I 2025-01-06 06:42:58,977] Trial 579 finished with value: 0.05273538823004513 and parameters: {'similarity': 'tversky', 'topK': 16, 'shrink': 19, 'feature_weighting': 'none', 'tversky_alpha': 0.03697733858540398, 'tversky_beta': 1.975249752141262}. Best is trial 439 with value: 0.05361580072200237.\n"
     ]
    },
    {
     "name": "stdout",
     "output_type": "stream",
     "text": [
      "Similarity column 38121 (100.0%), 2596.53 column/sec. Elapsed time 14.68 sec\n",
      "EvaluatorHoldout: Ignoring 173 ( 0.5%) Users that have less than 1 test interactions\n",
      "EvaluatorHoldout: Processed 35563 (100.0%) in 35.26 sec. Users per second: 1009\n",
      "Similarity column 38121 (100.0%), 2620.44 column/sec. Elapsed time 14.55 sec\n",
      "EvaluatorHoldout: Ignoring 163 ( 0.5%) Users that have less than 1 test interactions\n",
      "EvaluatorHoldout: Processed 35573 (100.0%) in 35.65 sec. Users per second: 998\n",
      "Similarity column 38121 (100.0%), 2608.81 column/sec. Elapsed time 14.61 sec\n",
      "EvaluatorHoldout: Ignoring 150 ( 0.4%) Users that have less than 1 test interactions\n",
      "EvaluatorHoldout: Processed 35586 (100.0%) in 34.85 sec. Users per second: 1021\n",
      "Similarity column 38121 (100.0%), 2650.08 column/sec. Elapsed time 14.38 sec\n",
      "EvaluatorHoldout: Ignoring 167 ( 0.5%) Users that have less than 1 test interactions\n",
      "EvaluatorHoldout: Processed 35569 (100.0%) in 35.48 sec. Users per second: 1002\n",
      "Similarity column 38121 (100.0%), 2595.27 column/sec. Elapsed time 14.69 sec\n",
      "EvaluatorHoldout: Ignoring 172 ( 0.5%) Users that have less than 1 test interactions\n",
      "EvaluatorHoldout: Processed 35564 (100.0%) in 35.03 sec. Users per second: 1015\n"
     ]
    },
    {
     "name": "stderr",
     "output_type": "stream",
     "text": [
      "[I 2025-01-06 06:47:10,482] Trial 580 finished with value: 0.0495071956071515 and parameters: {'similarity': 'tversky', 'topK': 40, 'shrink': 36, 'feature_weighting': 'none', 'tversky_alpha': 0.21359299510234492, 'tversky_beta': 1.9934670735936688}. Best is trial 439 with value: 0.05361580072200237.\n"
     ]
    },
    {
     "name": "stdout",
     "output_type": "stream",
     "text": [
      "Similarity column 38121 (100.0%), 3638.32 column/sec. Elapsed time 10.48 sec\n",
      "EvaluatorHoldout: Ignoring 173 ( 0.5%) Users that have less than 1 test interactions\n",
      "EvaluatorHoldout: Processed 35563 (100.0%) in 25.88 sec. Users per second: 1374\n",
      "Similarity column 38121 (100.0%), 3600.09 column/sec. Elapsed time 10.59 sec\n",
      "EvaluatorHoldout: Ignoring 163 ( 0.5%) Users that have less than 1 test interactions\n",
      "EvaluatorHoldout: Processed 35573 (100.0%) in 26.03 sec. Users per second: 1367\n",
      "Similarity column 38121 (100.0%), 3575.74 column/sec. Elapsed time 10.66 sec\n",
      "EvaluatorHoldout: Ignoring 150 ( 0.4%) Users that have less than 1 test interactions\n",
      "EvaluatorHoldout: Processed 35586 (100.0%) in 25.66 sec. Users per second: 1387\n",
      "Similarity column 38121 (100.0%), 3594.05 column/sec. Elapsed time 10.61 sec\n",
      "EvaluatorHoldout: Ignoring 167 ( 0.5%) Users that have less than 1 test interactions\n",
      "EvaluatorHoldout: Processed 35569 (100.0%) in 25.52 sec. Users per second: 1394\n",
      "Similarity column 38121 (100.0%), 3618.45 column/sec. Elapsed time 10.54 sec\n",
      "EvaluatorHoldout: Ignoring 172 ( 0.5%) Users that have less than 1 test interactions\n",
      "EvaluatorHoldout: Processed 35564 (100.0%) in 27.34 sec. Users per second: 1301\n"
     ]
    },
    {
     "name": "stderr",
     "output_type": "stream",
     "text": [
      "[I 2025-01-06 06:50:14,857] Trial 581 finished with value: 0.0002664826418719655 and parameters: {'similarity': 'asymmetric', 'topK': 0, 'shrink': 291, 'feature_weighting': 'none', 'asymmetric_alpha': 0.49626940835369227}. Best is trial 439 with value: 0.05361580072200237.\n"
     ]
    },
    {
     "name": "stdout",
     "output_type": "stream",
     "text": [
      "Similarity column 38121 (100.0%), 2633.90 column/sec. Elapsed time 14.47 sec\n",
      "EvaluatorHoldout: Ignoring 173 ( 0.5%) Users that have less than 1 test interactions\n",
      "EvaluatorHoldout: Processed 35563 (100.0%) in 34.44 sec. Users per second: 1033\n",
      "Similarity column 38121 (100.0%), 2565.57 column/sec. Elapsed time 14.86 sec\n",
      "EvaluatorHoldout: Ignoring 163 ( 0.5%) Users that have less than 1 test interactions\n",
      "EvaluatorHoldout: Processed 35573 (100.0%) in 34.49 sec. Users per second: 1032\n",
      "Similarity column 38121 (100.0%), 2599.31 column/sec. Elapsed time 14.67 sec\n",
      "EvaluatorHoldout: Ignoring 150 ( 0.4%) Users that have less than 1 test interactions\n",
      "EvaluatorHoldout: Processed 35586 (100.0%) in 34.19 sec. Users per second: 1041\n",
      "Similarity column 38121 (100.0%), 2639.14 column/sec. Elapsed time 14.44 sec\n",
      "EvaluatorHoldout: Ignoring 167 ( 0.5%) Users that have less than 1 test interactions\n",
      "EvaluatorHoldout: Processed 35569 (100.0%) in 33.70 sec. Users per second: 1055\n",
      "Similarity column 38121 (100.0%), 2678.12 column/sec. Elapsed time 14.23 sec\n",
      "EvaluatorHoldout: Ignoring 172 ( 0.5%) Users that have less than 1 test interactions\n",
      "EvaluatorHoldout: Processed 35564 (100.0%) in 34.13 sec. Users per second: 1042\n"
     ]
    },
    {
     "name": "stderr",
     "output_type": "stream",
     "text": [
      "[I 2025-01-06 06:54:20,608] Trial 582 finished with value: 0.049258425677882994 and parameters: {'similarity': 'tversky', 'topK': 25, 'shrink': 82, 'feature_weighting': 'none', 'tversky_alpha': 0.08826912031360178, 'tversky_beta': 1.9038235601199234}. Best is trial 439 with value: 0.05361580072200237.\n"
     ]
    },
    {
     "name": "stdout",
     "output_type": "stream",
     "text": [
      "Similarity column 38121 (100.0%), 2664.75 column/sec. Elapsed time 14.31 sec\n",
      "EvaluatorHoldout: Ignoring 173 ( 0.5%) Users that have less than 1 test interactions\n",
      "EvaluatorHoldout: Processed 35563 (100.0%) in 34.41 sec. Users per second: 1034\n",
      "Similarity column 38121 (100.0%), 2650.76 column/sec. Elapsed time 14.38 sec\n",
      "EvaluatorHoldout: Ignoring 163 ( 0.5%) Users that have less than 1 test interactions\n",
      "EvaluatorHoldout: Processed 35573 (100.0%) in 34.74 sec. Users per second: 1024\n",
      "Similarity column 38121 (100.0%), 2588.65 column/sec. Elapsed time 14.73 sec\n",
      "EvaluatorHoldout: Ignoring 150 ( 0.4%) Users that have less than 1 test interactions\n",
      "EvaluatorHoldout: Processed 35586 (100.0%) in 36.98 sec. Users per second: 962\n",
      "Similarity column 38121 (100.0%), 2611.97 column/sec. Elapsed time 14.59 sec\n",
      "EvaluatorHoldout: Ignoring 167 ( 0.5%) Users that have less than 1 test interactions\n",
      "EvaluatorHoldout: Processed 35569 (100.0%) in 34.63 sec. Users per second: 1027\n",
      "Similarity column 38121 (100.0%), 2624.27 column/sec. Elapsed time 14.53 sec\n",
      "EvaluatorHoldout: Ignoring 172 ( 0.5%) Users that have less than 1 test interactions\n",
      "EvaluatorHoldout: Processed 35564 (100.0%) in 35.33 sec. Users per second: 1007\n"
     ]
    },
    {
     "name": "stderr",
     "output_type": "stream",
     "text": [
      "[I 2025-01-06 06:58:31,642] Trial 583 finished with value: 0.0491335585003424 and parameters: {'similarity': 'tversky', 'topK': 52, 'shrink': 16, 'feature_weighting': 'none', 'tversky_alpha': 0.07142353344451842, 'tversky_beta': 1.8416378326883418}. Best is trial 439 with value: 0.05361580072200237.\n"
     ]
    },
    {
     "name": "stdout",
     "output_type": "stream",
     "text": [
      "Similarity column 38121 (100.0%), 2635.34 column/sec. Elapsed time 14.47 sec\n",
      "EvaluatorHoldout: Ignoring 173 ( 0.5%) Users that have less than 1 test interactions\n",
      "EvaluatorHoldout: Processed 35563 (100.0%) in 33.13 sec. Users per second: 1073\n",
      "Similarity column 38121 (100.0%), 2669.14 column/sec. Elapsed time 14.28 sec\n",
      "EvaluatorHoldout: Ignoring 163 ( 0.5%) Users that have less than 1 test interactions\n",
      "EvaluatorHoldout: Processed 35573 (100.0%) in 33.66 sec. Users per second: 1057\n",
      "Similarity column 38121 (100.0%), 2611.17 column/sec. Elapsed time 14.60 sec\n",
      "EvaluatorHoldout: Ignoring 150 ( 0.4%) Users that have less than 1 test interactions\n",
      "EvaluatorHoldout: Processed 35586 (100.0%) in 34.21 sec. Users per second: 1040\n",
      "Similarity column 38121 (100.0%), 2620.28 column/sec. Elapsed time 14.55 sec\n",
      "EvaluatorHoldout: Ignoring 167 ( 0.5%) Users that have less than 1 test interactions\n",
      "EvaluatorHoldout: Processed 35569 (100.0%) in 34.72 sec. Users per second: 1024\n",
      "Similarity column 38121 (100.0%), 2450.85 column/sec. Elapsed time 15.55 sec\n",
      "EvaluatorHoldout: Ignoring 172 ( 0.5%) Users that have less than 1 test interactions\n",
      "EvaluatorHoldout: Processed 35564 (100.0%) in 33.12 sec. Users per second: 1074\n"
     ]
    },
    {
     "name": "stderr",
     "output_type": "stream",
     "text": [
      "[I 2025-01-06 07:02:36,205] Trial 584 finished with value: 0.04861624611865848 and parameters: {'similarity': 'tversky', 'topK': 13, 'shrink': 52, 'feature_weighting': 'none', 'tversky_alpha': 0.16340420080728016, 'tversky_beta': 0.5988578273973808}. Best is trial 439 with value: 0.05361580072200237.\n"
     ]
    },
    {
     "name": "stdout",
     "output_type": "stream",
     "text": [
      "Similarity column 38121 (100.0%), 3837.86 column/sec. Elapsed time 9.93 sec\n",
      "EvaluatorHoldout: Ignoring 173 ( 0.5%) Users that have less than 1 test interactions\n",
      "EvaluatorHoldout: Processed 35563 (100.0%) in 25.72 sec. Users per second: 1383\n",
      "Similarity column 38121 (100.0%), 3833.90 column/sec. Elapsed time 9.94 sec\n",
      "EvaluatorHoldout: Ignoring 163 ( 0.5%) Users that have less than 1 test interactions\n",
      "EvaluatorHoldout: Processed 35573 (100.0%) in 25.86 sec. Users per second: 1375\n",
      "Similarity column 38121 (100.0%), 3811.40 column/sec. Elapsed time 10.00 sec\n",
      "EvaluatorHoldout: Ignoring 150 ( 0.4%) Users that have less than 1 test interactions\n",
      "EvaluatorHoldout: Processed 35586 (100.0%) in 25.49 sec. Users per second: 1396\n",
      "Similarity column 38121 (100.0%), 3893.17 column/sec. Elapsed time 9.79 sec\n",
      "EvaluatorHoldout: Ignoring 167 ( 0.5%) Users that have less than 1 test interactions\n",
      "EvaluatorHoldout: Processed 35569 (100.0%) in 25.42 sec. Users per second: 1399\n",
      "Similarity column 38121 (100.0%), 3865.56 column/sec. Elapsed time 9.86 sec\n",
      "EvaluatorHoldout: Ignoring 172 ( 0.5%) Users that have less than 1 test interactions\n",
      "EvaluatorHoldout: Processed 35564 (100.0%) in 25.23 sec. Users per second: 1409\n"
     ]
    },
    {
     "name": "stderr",
     "output_type": "stream",
     "text": [
      "[I 2025-01-06 07:05:35,394] Trial 585 finished with value: 0.0002664826418719655 and parameters: {'similarity': 'jaccard', 'topK': 0, 'shrink': 35, 'feature_weighting': 'none'}. Best is trial 439 with value: 0.05361580072200237.\n"
     ]
    },
    {
     "name": "stdout",
     "output_type": "stream",
     "text": [
      "Similarity column 38121 (100.0%), 2667.62 column/sec. Elapsed time 14.29 sec\n",
      "EvaluatorHoldout: Ignoring 173 ( 0.5%) Users that have less than 1 test interactions\n",
      "EvaluatorHoldout: Processed 35563 (100.0%) in 33.36 sec. Users per second: 1066\n",
      "Similarity column 38121 (100.0%), 2648.63 column/sec. Elapsed time 14.39 sec\n",
      "EvaluatorHoldout: Ignoring 163 ( 0.5%) Users that have less than 1 test interactions\n",
      "EvaluatorHoldout: Processed 35573 (100.0%) in 33.45 sec. Users per second: 1063\n",
      "Similarity column 38121 (100.0%), 2620.04 column/sec. Elapsed time 14.55 sec\n",
      "EvaluatorHoldout: Ignoring 150 ( 0.4%) Users that have less than 1 test interactions\n",
      "EvaluatorHoldout: Processed 35586 (100.0%) in 33.67 sec. Users per second: 1057\n",
      "Similarity column 38121 (100.0%), 2681.88 column/sec. Elapsed time 14.21 sec\n",
      "EvaluatorHoldout: Ignoring 167 ( 0.5%) Users that have less than 1 test interactions\n",
      "EvaluatorHoldout: Processed 35569 (100.0%) in 33.14 sec. Users per second: 1073\n",
      "Similarity column 38121 (100.0%), 2667.66 column/sec. Elapsed time 14.29 sec\n",
      "EvaluatorHoldout: Ignoring 172 ( 0.5%) Users that have less than 1 test interactions\n",
      "EvaluatorHoldout: Processed 35564 (100.0%) in 33.36 sec. Users per second: 1066\n"
     ]
    },
    {
     "name": "stderr",
     "output_type": "stream",
     "text": [
      "[I 2025-01-06 07:09:36,257] Trial 586 finished with value: 0.05058911851334339 and parameters: {'similarity': 'tversky', 'topK': 34, 'shrink': 16, 'feature_weighting': 'none', 'tversky_alpha': 0.03409560116285843, 'tversky_beta': 1.9449902367661105}. Best is trial 439 with value: 0.05361580072200237.\n"
     ]
    },
    {
     "name": "stdout",
     "output_type": "stream",
     "text": [
      "Similarity column 38121 (100.0%), 2699.08 column/sec. Elapsed time 14.12 sec\n",
      "EvaluatorHoldout: Ignoring 173 ( 0.5%) Users that have less than 1 test interactions\n",
      "EvaluatorHoldout: Processed 35563 (100.0%) in 34.18 sec. Users per second: 1040\n",
      "Similarity column 38121 (100.0%), 2657.46 column/sec. Elapsed time 14.34 sec\n",
      "EvaluatorHoldout: Ignoring 163 ( 0.5%) Users that have less than 1 test interactions\n",
      "EvaluatorHoldout: Processed 35573 (100.0%) in 33.83 sec. Users per second: 1052\n",
      "Similarity column 38121 (100.0%), 2682.54 column/sec. Elapsed time 14.21 sec\n",
      "EvaluatorHoldout: Ignoring 150 ( 0.4%) Users that have less than 1 test interactions\n",
      "EvaluatorHoldout: Processed 35586 (100.0%) in 34.40 sec. Users per second: 1034\n",
      "Similarity column 38121 (100.0%), 2675.15 column/sec. Elapsed time 14.25 sec\n",
      "EvaluatorHoldout: Ignoring 167 ( 0.5%) Users that have less than 1 test interactions\n",
      "EvaluatorHoldout: Processed 35569 (100.0%) in 34.48 sec. Users per second: 1031\n",
      "Similarity column 38121 (100.0%), 2660.28 column/sec. Elapsed time 14.33 sec\n",
      "EvaluatorHoldout: Ignoring 172 ( 0.5%) Users that have less than 1 test interactions\n",
      "EvaluatorHoldout: Processed 35564 (100.0%) in 34.20 sec. Users per second: 1040\n"
     ]
    },
    {
     "name": "stderr",
     "output_type": "stream",
     "text": [
      "[I 2025-01-06 07:13:40,829] Trial 587 finished with value: 0.04941301598198733 and parameters: {'similarity': 'tversky', 'topK': 24, 'shrink': 63, 'feature_weighting': 'none', 'tversky_alpha': 1.71970161112504, 'tversky_beta': 1.8796218317908633}. Best is trial 439 with value: 0.05361580072200237.\n"
     ]
    },
    {
     "name": "stdout",
     "output_type": "stream",
     "text": [
      "Similarity column 38121 (100.0%), 2674.60 column/sec. Elapsed time 14.25 sec\n",
      "EvaluatorHoldout: Ignoring 173 ( 0.5%) Users that have less than 1 test interactions\n",
      "EvaluatorHoldout: Processed 35563 (100.0%) in 32.14 sec. Users per second: 1106\n",
      "Similarity column 38121 (100.0%), 2686.23 column/sec. Elapsed time 14.19 sec\n",
      "EvaluatorHoldout: Ignoring 163 ( 0.5%) Users that have less than 1 test interactions\n",
      "EvaluatorHoldout: Processed 35573 (100.0%) in 32.19 sec. Users per second: 1105\n",
      "Similarity column 38121 (100.0%), 2664.82 column/sec. Elapsed time 14.31 sec\n",
      "EvaluatorHoldout: Ignoring 150 ( 0.4%) Users that have less than 1 test interactions\n",
      "EvaluatorHoldout: Processed 35586 (100.0%) in 32.37 sec. Users per second: 1099\n",
      "Similarity column 38121 (100.0%), 2677.95 column/sec. Elapsed time 14.24 sec\n",
      "EvaluatorHoldout: Ignoring 167 ( 0.5%) Users that have less than 1 test interactions\n",
      "EvaluatorHoldout: Processed 35569 (100.0%) in 32.39 sec. Users per second: 1098\n",
      "Similarity column 38121 (100.0%), 2632.56 column/sec. Elapsed time 14.48 sec\n",
      "EvaluatorHoldout: Ignoring 172 ( 0.5%) Users that have less than 1 test interactions\n",
      "EvaluatorHoldout: Processed 35564 (100.0%) in 32.33 sec. Users per second: 1100\n"
     ]
    },
    {
     "name": "stderr",
     "output_type": "stream",
     "text": [
      "[I 2025-01-06 07:17:35,894] Trial 588 finished with value: 0.052907683135904014 and parameters: {'similarity': 'tversky', 'topK': 12, 'shrink': 33, 'feature_weighting': 'none', 'tversky_alpha': 0.49083812954622696, 'tversky_beta': 1.8129590486739713}. Best is trial 439 with value: 0.05361580072200237.\n"
     ]
    },
    {
     "name": "stdout",
     "output_type": "stream",
     "text": [
      "Similarity column 38121 (100.0%), 2666.94 column/sec. Elapsed time 14.29 sec\n",
      "EvaluatorHoldout: Ignoring 173 ( 0.5%) Users that have less than 1 test interactions\n",
      "EvaluatorHoldout: Processed 35563 (100.0%) in 36.45 sec. Users per second: 976\n",
      "Similarity column 38121 (100.0%), 2639.52 column/sec. Elapsed time 14.44 sec\n",
      "EvaluatorHoldout: Ignoring 163 ( 0.5%) Users that have less than 1 test interactions\n",
      "EvaluatorHoldout: Processed 35573 (100.0%) in 36.32 sec. Users per second: 979\n",
      "Similarity column 38121 (100.0%), 2629.30 column/sec. Elapsed time 14.50 sec\n",
      "EvaluatorHoldout: Ignoring 150 ( 0.4%) Users that have less than 1 test interactions\n",
      "EvaluatorHoldout: Processed 35586 (100.0%) in 36.20 sec. Users per second: 983\n",
      "Similarity column 38121 (100.0%), 2670.19 column/sec. Elapsed time 14.28 sec\n",
      "EvaluatorHoldout: Ignoring 167 ( 0.5%) Users that have less than 1 test interactions\n",
      "EvaluatorHoldout: Processed 35569 (100.0%) in 35.83 sec. Users per second: 993\n",
      "Similarity column 38121 (100.0%), 2641.76 column/sec. Elapsed time 14.43 sec\n",
      "EvaluatorHoldout: Ignoring 172 ( 0.5%) Users that have less than 1 test interactions\n",
      "EvaluatorHoldout: Processed 35564 (100.0%) in 36.17 sec. Users per second: 983\n"
     ]
    },
    {
     "name": "stderr",
     "output_type": "stream",
     "text": [
      "[I 2025-01-06 07:21:51,097] Trial 589 finished with value: 0.0454891673438782 and parameters: {'similarity': 'tversky', 'topK': 50, 'shrink': 111, 'feature_weighting': 'none', 'tversky_alpha': 0.10506081411446369, 'tversky_beta': 1.9169031347751546}. Best is trial 439 with value: 0.05361580072200237.\n"
     ]
    },
    {
     "name": "stdout",
     "output_type": "stream",
     "text": [
      "Similarity column 38121 (100.0%), 3397.89 column/sec. Elapsed time 11.22 sec\n",
      "EvaluatorHoldout: Ignoring 173 ( 0.5%) Users that have less than 1 test interactions\n",
      "EvaluatorHoldout: Processed 35563 (100.0%) in 25.70 sec. Users per second: 1384\n",
      "Similarity column 38121 (100.0%), 3419.07 column/sec. Elapsed time 11.15 sec\n",
      "EvaluatorHoldout: Ignoring 163 ( 0.5%) Users that have less than 1 test interactions\n",
      "EvaluatorHoldout: Processed 35573 (100.0%) in 25.74 sec. Users per second: 1382\n",
      "Similarity column 38121 (100.0%), 3388.70 column/sec. Elapsed time 11.25 sec\n",
      "EvaluatorHoldout: Ignoring 150 ( 0.4%) Users that have less than 1 test interactions\n",
      "EvaluatorHoldout: Processed 35586 (100.0%) in 26.47 sec. Users per second: 1344\n",
      "Similarity column 38121 (100.0%), 3365.31 column/sec. Elapsed time 11.33 sec\n",
      "EvaluatorHoldout: Ignoring 167 ( 0.5%) Users that have less than 1 test interactions\n",
      "EvaluatorHoldout: Processed 35569 (100.0%) in 26.59 sec. Users per second: 1338\n",
      "Similarity column 38121 (100.0%), 3307.15 column/sec. Elapsed time 11.53 sec\n",
      "EvaluatorHoldout: Ignoring 172 ( 0.5%) Users that have less than 1 test interactions\n",
      "EvaluatorHoldout: Processed 35564 (100.0%) in 25.93 sec. Users per second: 1372\n"
     ]
    },
    {
     "name": "stderr",
     "output_type": "stream",
     "text": [
      "[I 2025-01-06 07:24:59,915] Trial 590 finished with value: 0.0002664826418719655 and parameters: {'similarity': 'tversky', 'topK': 0, 'shrink': 0, 'feature_weighting': 'none', 'tversky_alpha': 0.03249982426096029, 'tversky_beta': 1.8511969983154748}. Best is trial 439 with value: 0.05361580072200237.\n"
     ]
    },
    {
     "name": "stdout",
     "output_type": "stream",
     "text": [
      "Similarity column 38121 (100.0%), 2614.41 column/sec. Elapsed time 14.58 sec\n",
      "EvaluatorHoldout: Ignoring 173 ( 0.5%) Users that have less than 1 test interactions\n",
      "EvaluatorHoldout: Processed 35563 (100.0%) in 34.50 sec. Users per second: 1031\n",
      "Similarity column 38121 (100.0%), 2598.86 column/sec. Elapsed time 14.67 sec\n",
      "EvaluatorHoldout: Ignoring 163 ( 0.5%) Users that have less than 1 test interactions\n",
      "EvaluatorHoldout: Processed 35573 (100.0%) in 34.06 sec. Users per second: 1044\n",
      "Similarity column 38121 (100.0%), 2647.46 column/sec. Elapsed time 14.40 sec\n",
      "EvaluatorHoldout: Ignoring 150 ( 0.4%) Users that have less than 1 test interactions\n",
      "EvaluatorHoldout: Processed 35586 (100.0%) in 34.22 sec. Users per second: 1040\n",
      "Similarity column 38121 (100.0%), 2616.20 column/sec. Elapsed time 14.57 sec\n",
      "EvaluatorHoldout: Ignoring 167 ( 0.5%) Users that have less than 1 test interactions\n",
      "EvaluatorHoldout: Processed 35569 (100.0%) in 34.14 sec. Users per second: 1042\n",
      "Similarity column 38121 (100.0%), 2656.91 column/sec. Elapsed time 14.35 sec\n",
      "EvaluatorHoldout: Ignoring 172 ( 0.5%) Users that have less than 1 test interactions\n",
      "EvaluatorHoldout: Processed 35564 (100.0%) in 34.36 sec. Users per second: 1035\n"
     ]
    },
    {
     "name": "stderr",
     "output_type": "stream",
     "text": [
      "[I 2025-01-06 07:29:05,951] Trial 591 finished with value: 0.05003115151520003 and parameters: {'similarity': 'tversky', 'topK': 29, 'shrink': 50, 'feature_weighting': 'none', 'tversky_alpha': 0.12023947898556944, 'tversky_beta': 1.9680361496570682}. Best is trial 439 with value: 0.05361580072200237.\n"
     ]
    },
    {
     "name": "stdout",
     "output_type": "stream",
     "text": [
      "Similarity column 38121 (100.0%), 2690.10 column/sec. Elapsed time 14.17 sec\n",
      "EvaluatorHoldout: Ignoring 173 ( 0.5%) Users that have less than 1 test interactions\n",
      "EvaluatorHoldout: Processed 35563 (100.0%) in 31.49 sec. Users per second: 1129\n",
      "Similarity column 38121 (100.0%), 2599.52 column/sec. Elapsed time 14.66 sec\n",
      "EvaluatorHoldout: Ignoring 163 ( 0.5%) Users that have less than 1 test interactions\n",
      "EvaluatorHoldout: Processed 35573 (100.0%) in 31.74 sec. Users per second: 1121\n",
      "Similarity column 38121 (100.0%), 2671.84 column/sec. Elapsed time 14.27 sec\n",
      "EvaluatorHoldout: Ignoring 150 ( 0.4%) Users that have less than 1 test interactions\n",
      "EvaluatorHoldout: Processed 35586 (100.0%) in 32.03 sec. Users per second: 1111\n",
      "Similarity column 38121 (100.0%), 2659.25 column/sec. Elapsed time 14.34 sec\n",
      "EvaluatorHoldout: Ignoring 167 ( 0.5%) Users that have less than 1 test interactions\n",
      "EvaluatorHoldout: Processed 35569 (100.0%) in 32.92 sec. Users per second: 1080\n",
      "Similarity column 38121 (100.0%), 2574.10 column/sec. Elapsed time 14.81 sec\n",
      "EvaluatorHoldout: Ignoring 172 ( 0.5%) Users that have less than 1 test interactions\n",
      "EvaluatorHoldout: Processed 35564 (100.0%) in 33.59 sec. Users per second: 1059\n"
     ]
    },
    {
     "name": "stderr",
     "output_type": "stream",
     "text": [
      "[I 2025-01-06 07:33:02,129] Trial 592 finished with value: 0.05326352251182716 and parameters: {'similarity': 'tversky', 'topK': 13, 'shrink': 16, 'feature_weighting': 'none', 'tversky_alpha': 0.06732704090738566, 'tversky_beta': 1.760147601319801}. Best is trial 439 with value: 0.05361580072200237.\n"
     ]
    },
    {
     "name": "stdout",
     "output_type": "stream",
     "text": [
      "Similarity column 38121 (100.0%), 2639.94 column/sec. Elapsed time 14.44 sec\n",
      "EvaluatorHoldout: Ignoring 173 ( 0.5%) Users that have less than 1 test interactions\n",
      "EvaluatorHoldout: Processed 35563 (100.0%) in 33.61 sec. Users per second: 1058\n",
      "Similarity column 38121 (100.0%), 2587.58 column/sec. Elapsed time 14.73 sec\n",
      "EvaluatorHoldout: Ignoring 163 ( 0.5%) Users that have less than 1 test interactions\n",
      "EvaluatorHoldout: Processed 35573 (100.0%) in 33.53 sec. Users per second: 1061\n",
      "Similarity column 38121 (100.0%), 2691.51 column/sec. Elapsed time 14.16 sec\n",
      "EvaluatorHoldout: Ignoring 150 ( 0.4%) Users that have less than 1 test interactions\n",
      "EvaluatorHoldout: Processed 35586 (100.0%) in 33.00 sec. Users per second: 1078\n",
      "Similarity column 38121 (100.0%), 2651.57 column/sec. Elapsed time 14.38 sec\n",
      "EvaluatorHoldout: Ignoring 167 ( 0.5%) Users that have less than 1 test interactions\n",
      "EvaluatorHoldout: Processed 35569 (100.0%) in 33.01 sec. Users per second: 1078\n",
      "Similarity column 38121 (100.0%), 2673.49 column/sec. Elapsed time 14.26 sec\n",
      "EvaluatorHoldout: Ignoring 172 ( 0.5%) Users that have less than 1 test interactions\n",
      "EvaluatorHoldout: Processed 35564 (100.0%) in 32.85 sec. Users per second: 1083\n"
     ]
    },
    {
     "name": "stderr",
     "output_type": "stream",
     "text": [
      "[I 2025-01-06 07:37:02,245] Trial 593 finished with value: 0.05185482550943608 and parameters: {'similarity': 'tversky', 'topK': 23, 'shrink': 15, 'feature_weighting': 'none', 'tversky_alpha': 0.16691807443858434, 'tversky_beta': 1.7199529180312476}. Best is trial 439 with value: 0.05361580072200237.\n"
     ]
    },
    {
     "name": "stdout",
     "output_type": "stream",
     "text": [
      "Similarity column 38121 (100.0%), 426.44 column/sec. Elapsed time 1.49 min\n",
      "EvaluatorHoldout: Ignoring 173 ( 0.5%) Users that have less than 1 test interactions\n",
      "EvaluatorHoldout: Processed 35563 (100.0%) in 32.41 sec. Users per second: 1097\n",
      "Similarity column 38121 (100.0%), 428.46 column/sec. Elapsed time 1.48 min\n",
      "EvaluatorHoldout: Ignoring 163 ( 0.5%) Users that have less than 1 test interactions\n",
      "EvaluatorHoldout: Processed 35573 (100.0%) in 32.50 sec. Users per second: 1094\n",
      "Similarity column 38121 (100.0%), 433.66 column/sec. Elapsed time 1.47 min\n",
      "EvaluatorHoldout: Ignoring 150 ( 0.4%) Users that have less than 1 test interactions\n",
      "EvaluatorHoldout: Processed 35586 (100.0%) in 32.92 sec. Users per second: 1081\n",
      "Similarity column 38121 (100.0%), 439.91 column/sec. Elapsed time 1.44 min\n",
      "EvaluatorHoldout: Ignoring 167 ( 0.5%) Users that have less than 1 test interactions\n",
      "EvaluatorHoldout: Processed 35569 (100.0%) in 32.59 sec. Users per second: 1091\n",
      "Similarity column 38121 (100.0%), 439.24 column/sec. Elapsed time 1.45 min\n",
      "EvaluatorHoldout: Ignoring 172 ( 0.5%) Users that have less than 1 test interactions\n",
      "EvaluatorHoldout: Processed 35564 (100.0%) in 32.83 sec. Users per second: 1083\n"
     ]
    },
    {
     "name": "stderr",
     "output_type": "stream",
     "text": [
      "[I 2025-01-06 07:47:06,614] Trial 594 finished with value: 0.03292793995440958 and parameters: {'similarity': 'euclidean', 'topK': 13, 'shrink': 17, 'feature_weighting': 'BM25', 'normalize_avg_row': True, 'similarity_from_distance_mode': 'lin', 'normalize': True}. Best is trial 439 with value: 0.05361580072200237.\n"
     ]
    },
    {
     "name": "stdout",
     "output_type": "stream",
     "text": [
      "Similarity column 38121 (100.0%), 2656.94 column/sec. Elapsed time 14.35 sec\n",
      "EvaluatorHoldout: Ignoring 173 ( 0.5%) Users that have less than 1 test interactions\n",
      "EvaluatorHoldout: Processed 35563 (100.0%) in 35.34 sec. Users per second: 1006\n",
      "Similarity column 38121 (100.0%), 2654.55 column/sec. Elapsed time 14.36 sec\n",
      "EvaluatorHoldout: Ignoring 163 ( 0.5%) Users that have less than 1 test interactions\n",
      "EvaluatorHoldout: Processed 35573 (100.0%) in 35.04 sec. Users per second: 1015\n",
      "Similarity column 38121 (100.0%), 2680.09 column/sec. Elapsed time 14.22 sec\n",
      "EvaluatorHoldout: Ignoring 150 ( 0.4%) Users that have less than 1 test interactions\n",
      "EvaluatorHoldout: Processed 35586 (100.0%) in 35.44 sec. Users per second: 1004\n",
      "Similarity column 38121 (100.0%), 2649.54 column/sec. Elapsed time 14.39 sec\n",
      "EvaluatorHoldout: Ignoring 167 ( 0.5%) Users that have less than 1 test interactions\n",
      "EvaluatorHoldout: Processed 35569 (100.0%) in 35.58 sec. Users per second: 1000\n",
      "Similarity column 38121 (100.0%), 2632.40 column/sec. Elapsed time 14.48 sec\n",
      "EvaluatorHoldout: Ignoring 172 ( 0.5%) Users that have less than 1 test interactions\n",
      "EvaluatorHoldout: Processed 35564 (100.0%) in 34.74 sec. Users per second: 1024\n"
     ]
    },
    {
     "name": "stderr",
     "output_type": "stream",
     "text": [
      "[I 2025-01-06 07:51:16,911] Trial 595 finished with value: 0.04942874348265826 and parameters: {'similarity': 'tversky', 'topK': 40, 'shrink': 37, 'feature_weighting': 'none', 'tversky_alpha': 0.8063739436252462, 'tversky_beta': 1.7512066352180038}. Best is trial 439 with value: 0.05361580072200237.\n"
     ]
    },
    {
     "name": "stdout",
     "output_type": "stream",
     "text": [
      "Similarity column 38121 (100.0%), 2669.85 column/sec. Elapsed time 14.28 sec\n",
      "EvaluatorHoldout: Ignoring 173 ( 0.5%) Users that have less than 1 test interactions\n",
      "EvaluatorHoldout: Processed 35563 (100.0%) in 33.24 sec. Users per second: 1070\n",
      "Similarity column 38121 (100.0%), 2671.02 column/sec. Elapsed time 14.27 sec\n",
      "EvaluatorHoldout: Ignoring 163 ( 0.5%) Users that have less than 1 test interactions\n",
      "EvaluatorHoldout: Processed 35573 (100.0%) in 33.35 sec. Users per second: 1067\n",
      "Similarity column 38121 (100.0%), 2637.22 column/sec. Elapsed time 14.46 sec\n",
      "EvaluatorHoldout: Ignoring 150 ( 0.4%) Users that have less than 1 test interactions\n",
      "EvaluatorHoldout: Processed 35586 (100.0%) in 33.13 sec. Users per second: 1074\n",
      "Similarity column 38121 (100.0%), 2666.77 column/sec. Elapsed time 14.29 sec\n",
      "EvaluatorHoldout: Ignoring 167 ( 0.5%) Users that have less than 1 test interactions\n",
      "EvaluatorHoldout: Processed 35569 (100.0%) in 34.40 sec. Users per second: 1034\n",
      "Similarity column 38121 (100.0%), 2635.37 column/sec. Elapsed time 14.47 sec\n",
      "EvaluatorHoldout: Ignoring 172 ( 0.5%) Users that have less than 1 test interactions\n",
      "EvaluatorHoldout: Processed 35564 (100.0%) in 33.24 sec. Users per second: 1070\n"
     ]
    },
    {
     "name": "stderr",
     "output_type": "stream",
     "text": [
      "[I 2025-01-06 07:55:18,203] Trial 596 finished with value: 0.05041359499301094 and parameters: {'similarity': 'tversky', 'topK': 34, 'shrink': 0, 'feature_weighting': 'none', 'tversky_alpha': 0.07812293687301458, 'tversky_beta': 1.782328301927185}. Best is trial 439 with value: 0.05361580072200237.\n"
     ]
    },
    {
     "name": "stdout",
     "output_type": "stream",
     "text": [
      "Similarity column 38121 (100.0%), 2878.23 column/sec. Elapsed time 13.24 sec\n",
      "EvaluatorHoldout: Ignoring 173 ( 0.5%) Users that have less than 1 test interactions\n",
      "EvaluatorHoldout: Processed 35563 (100.0%) in 45.36 sec. Users per second: 784\n",
      "Similarity column 38121 (100.0%), 2886.43 column/sec. Elapsed time 13.21 sec\n",
      "EvaluatorHoldout: Ignoring 163 ( 0.5%) Users that have less than 1 test interactions\n",
      "EvaluatorHoldout: Processed 35573 (100.0%) in 44.71 sec. Users per second: 796\n",
      "Similarity column 38121 (100.0%), 2829.16 column/sec. Elapsed time 13.47 sec\n",
      "EvaluatorHoldout: Ignoring 150 ( 0.4%) Users that have less than 1 test interactions\n",
      "EvaluatorHoldout: Processed 35586 (100.0%) in 44.59 sec. Users per second: 798\n",
      "Similarity column 38121 (100.0%), 2832.78 column/sec. Elapsed time 13.46 sec\n",
      "EvaluatorHoldout: Ignoring 167 ( 0.5%) Users that have less than 1 test interactions\n",
      "EvaluatorHoldout: Processed 35569 (100.0%) in 44.71 sec. Users per second: 796\n",
      "Similarity column 38121 (100.0%), 2794.04 column/sec. Elapsed time 13.64 sec\n",
      "EvaluatorHoldout: Ignoring 172 ( 0.5%) Users that have less than 1 test interactions\n",
      "EvaluatorHoldout: Processed 35564 (100.0%) in 45.82 sec. Users per second: 776\n"
     ]
    },
    {
     "name": "stderr",
     "output_type": "stream",
     "text": [
      "[I 2025-01-06 08:00:14,435] Trial 597 finished with value: 0.04225762612967833 and parameters: {'similarity': 'dice', 'topK': 277, 'shrink': 75, 'feature_weighting': 'none'}. Best is trial 439 with value: 0.05361580072200237.\n"
     ]
    },
    {
     "name": "stdout",
     "output_type": "stream",
     "text": [
      "Similarity column 38121 (100.0%), 2501.43 column/sec. Elapsed time 15.24 sec\n",
      "EvaluatorHoldout: Ignoring 173 ( 0.5%) Users that have less than 1 test interactions\n",
      "EvaluatorHoldout: Processed 35563 (100.0%) in 48.16 sec. Users per second: 738\n",
      "Similarity column 38121 (100.0%), 2512.17 column/sec. Elapsed time 15.17 sec\n",
      "EvaluatorHoldout: Ignoring 163 ( 0.5%) Users that have less than 1 test interactions\n",
      "EvaluatorHoldout: Processed 35573 (100.0%) in 47.71 sec. Users per second: 746\n",
      "Similarity column 38121 (100.0%), 2481.84 column/sec. Elapsed time 15.36 sec\n",
      "EvaluatorHoldout: Ignoring 150 ( 0.4%) Users that have less than 1 test interactions\n",
      "EvaluatorHoldout: Processed 35586 (100.0%) in 47.54 sec. Users per second: 749\n",
      "Similarity column 38121 (100.0%), 2501.08 column/sec. Elapsed time 15.24 sec\n",
      "EvaluatorHoldout: Ignoring 167 ( 0.5%) Users that have less than 1 test interactions\n",
      "EvaluatorHoldout: Processed 35569 (100.0%) in 47.55 sec. Users per second: 748\n",
      "Similarity column 38121 (100.0%), 2533.58 column/sec. Elapsed time 15.05 sec\n",
      "EvaluatorHoldout: Ignoring 172 ( 0.5%) Users that have less than 1 test interactions\n",
      "EvaluatorHoldout: Processed 35564 (100.0%) in 47.30 sec. Users per second: 752\n"
     ]
    },
    {
     "name": "stderr",
     "output_type": "stream",
     "text": [
      "[I 2025-01-06 08:05:34,891] Trial 598 finished with value: 0.03745020863366255 and parameters: {'similarity': 'tversky', 'topK': 521, 'shrink': 50, 'feature_weighting': 'none', 'tversky_alpha': 0.13454046685515936, 'tversky_beta': 1.8966723468085094}. Best is trial 439 with value: 0.05361580072200237.\n"
     ]
    },
    {
     "name": "stdout",
     "output_type": "stream",
     "text": [
      "Similarity column 38121 (100.0%), 2672.71 column/sec. Elapsed time 14.26 sec\n",
      "EvaluatorHoldout: Ignoring 173 ( 0.5%) Users that have less than 1 test interactions\n",
      "EvaluatorHoldout: Processed 35563 (100.0%) in 32.64 sec. Users per second: 1090\n",
      "Similarity column 38121 (100.0%), 2669.99 column/sec. Elapsed time 14.28 sec\n",
      "EvaluatorHoldout: Ignoring 163 ( 0.5%) Users that have less than 1 test interactions\n",
      "EvaluatorHoldout: Processed 35573 (100.0%) in 31.95 sec. Users per second: 1113\n",
      "Similarity column 38121 (100.0%), 2682.64 column/sec. Elapsed time 14.21 sec\n",
      "EvaluatorHoldout: Ignoring 150 ( 0.4%) Users that have less than 1 test interactions\n",
      "EvaluatorHoldout: Processed 35586 (100.0%) in 32.05 sec. Users per second: 1110\n",
      "Similarity column 38121 (100.0%), 2651.22 column/sec. Elapsed time 14.38 sec\n",
      "EvaluatorHoldout: Ignoring 167 ( 0.5%) Users that have less than 1 test interactions\n",
      "EvaluatorHoldout: Processed 35569 (100.0%) in 32.05 sec. Users per second: 1110\n",
      "Similarity column 38121 (100.0%), 2660.38 column/sec. Elapsed time 14.33 sec\n",
      "EvaluatorHoldout: Ignoring 172 ( 0.5%) Users that have less than 1 test interactions\n",
      "EvaluatorHoldout: Processed 35564 (100.0%) in 31.92 sec. Users per second: 1114\n"
     ]
    },
    {
     "name": "stderr",
     "output_type": "stream",
     "text": [
      "[I 2025-01-06 08:09:29,008] Trial 599 finished with value: 0.05328761396085981 and parameters: {'similarity': 'tversky', 'topK': 12, 'shrink': 31, 'feature_weighting': 'none', 'tversky_alpha': 0.07462321588329582, 'tversky_beta': 1.7985517773734936}. Best is trial 439 with value: 0.05361580072200237.\n"
     ]
    }
   ],
   "source": [
    "if config['tune_parameters']:\n",
    "    \n",
    "    optuna_study = optuna.create_study(direction='maximize', study_name=f'hyperparameters_tuning_{config[\"model\"]}_{config[\"metric\"]}',\n",
    "                                storage=f'sqlite:///{config[\"database_path\"]}', load_if_exists=True)\n",
    "\n",
    "    optuna_study.optimize(objective_function_ItemKNNCF, n_trials=150)"
   ]
  },
  {
   "cell_type": "markdown",
   "id": "95ad9c8f",
   "metadata": {
    "papermill": {
     "duration": 0.15287,
     "end_time": "2025-01-06T08:09:29.413927",
     "exception": false,
     "start_time": "2025-01-06T08:09:29.261057",
     "status": "completed"
    },
    "tags": []
   },
   "source": [
    "## Some optuna visualizations on recommender parameters"
   ]
  },
  {
   "cell_type": "code",
   "execution_count": 14,
   "id": "722cfd4d",
   "metadata": {
    "execution": {
     "iopub.execute_input": "2025-01-06T08:09:29.721007Z",
     "iopub.status.busy": "2025-01-06T08:09:29.720359Z",
     "iopub.status.idle": "2025-01-06T08:09:32.643777Z",
     "shell.execute_reply": "2025-01-06T08:09:32.642554Z"
    },
    "papermill": {
     "duration": 3.079611,
     "end_time": "2025-01-06T08:09:32.647850",
     "exception": false,
     "start_time": "2025-01-06T08:09:29.568239",
     "status": "completed"
    },
    "tags": []
   },
   "outputs": [
    {
     "data": {
      "text/html": [
       "<html>\n",
       "<head><meta charset=\"utf-8\" /></head>\n",
       "<body>\n",
       "    <div>            <script src=\"https://cdnjs.cloudflare.com/ajax/libs/mathjax/2.7.5/MathJax.js?config=TeX-AMS-MML_SVG\"></script><script type=\"text/javascript\">if (window.MathJax && window.MathJax.Hub && window.MathJax.Hub.Config) {window.MathJax.Hub.Config({SVG: {font: \"STIX-Web\"}});}</script>                <script type=\"text/javascript\">window.PlotlyConfig = {MathJaxConfig: 'local'};</script>\n",
       "        <script charset=\"utf-8\" src=\"https://cdn.plot.ly/plotly-2.35.2.min.js\"></script>                <div id=\"1e609331-7d78-48f8-96c1-05ac48b99884\" class=\"plotly-graph-div\" style=\"height:525px; width:3000px;\"></div>            <script type=\"text/javascript\">                                    window.PLOTLYENV=window.PLOTLYENV || {};                                    if (document.getElementById(\"1e609331-7d78-48f8-96c1-05ac48b99884\")) {                    Plotly.newPlot(                        \"1e609331-7d78-48f8-96c1-05ac48b99884\",                        [{\"marker\":{\"color\":[1,18,27,36,57,70,97,125,158,275,315,337,364,391,419,447,473,500,527,553,581],\"colorbar\":{\"title\":{\"text\":\"Trial\"},\"x\":1.0,\"xpad\":40},\"colorscale\":[[0.0,\"rgb(247,251,255)\"],[0.125,\"rgb(222,235,247)\"],[0.25,\"rgb(198,219,239)\"],[0.375,\"rgb(158,202,225)\"],[0.5,\"rgb(107,174,214)\"],[0.625,\"rgb(66,146,198)\"],[0.75,\"rgb(33,113,181)\"],[0.875,\"rgb(8,81,156)\"],[1.0,\"rgb(8,48,107)\"]],\"line\":{\"color\":\"Grey\",\"width\":0.5},\"showscale\":true},\"mode\":\"markers\",\"name\":\"Feasible Trial\",\"showlegend\":false,\"x\":[0.9418222652166581,1.9529260996222917,0.0012138953143470133,1.934694050596998,0.32257361036385657,1.1078886213783108,1.147248784534726,0.6453577064150977,1.5917489318159819,1.4011725439161304,0.6021610970052698,1.6226784951707873,0.05777588698873659,0.7311227540008547,0.3358798962059333,1.3285151861283935,1.721592526937006,0.8570501741535514,0.40104936017145976,1.2727856579268184,0.49626940835369227],\"y\":[0.04171964497081084,0.009585828606819929,0.04010564854729204,0.018499769450536042,0.0469879804783168,0.022658722357174747,0.04057861037770286,0.045043685195053494,0.009216016064248595,0.02873532901480332,0.04602518466429443,0.030110588435945503,0.04619939186223303,0.04427639486010794,0.044915015556158844,0.0332164579762767,0.027108177075152597,0.028631966522537394,0.0002664826418719655,0.029807659888788484,0.0002664826418719655],\"type\":\"scatter\",\"xaxis\":\"x\",\"yaxis\":\"y\"},{\"marker\":{\"color\":[0,1,2,3,4,5,6,7,8,9,10,11,12,13,14,15,16,17,18,19,20,21,22,23,24,25,26,27,28,29,30,31,32,33,34,35,36,37,38,39,40,41,42,43,44,45,46,47,48,49,50,51,52,53,54,55,56,57,58,59,60,61,62,63,64,65,66,67,68,69,70,71,72,73,74,75,76,77,78,79,80,81,82,83,84,85,86,87,88,89,90,91,92,93,94,95,96,97,98,99,100,101,102,103,104,105,106,107,108,109,110,111,112,113,114,115,116,117,118,119,120,121,122,123,124,125,126,127,128,129,130,131,132,133,134,135,136,137,138,139,140,141,142,143,144,145,146,147,148,149,150,151,152,153,154,155,156,157,158,159,160,161,162,163,164,165,166,167,168,169,170,171,172,173,174,175,176,177,178,179,180,181,182,183,184,185,186,187,188,189,190,191,192,193,194,195,196,197,198,199,200,201,202,203,204,205,206,207,208,209,210,211,212,213,214,215,216,217,218,219,220,221,222,223,224,225,226,227,228,229,230,231,232,233,234,235,236,237,238,239,240,241,242,243,244,245,246,247,248,249,250,251,252,253,254,255,256,257,258,259,260,261,262,263,264,265,266,267,268,269,270,271,272,273,274,275,276,277,278,279,280,281,282,283,284,285,286,287,288,289,290,291,292,293,294,295,296,297,298,299,300,301,302,303,304,305,306,307,308,309,310,311,312,313,314,315,316,317,318,319,320,321,322,323,324,325,326,327,328,329,330,331,332,333,334,335,336,337,338,339,340,341,342,343,344,345,346,347,348,349,350,351,352,353,354,355,356,357,358,359,360,361,362,363,364,365,366,367,368,369,370,371,372,373,374,375,376,377,378,379,380,381,382,383,384,385,386,387,388,389,390,391,392,393,394,395,396,397,398,399,400,401,402,403,404,405,406,407,408,409,410,411,412,413,414,415,416,417,418,419,420,421,422,423,424,425,426,427,428,429,430,431,432,433,434,435,436,437,438,439,440,441,442,443,444,445,446,447,448,449,450,451,452,453,454,455,456,457,458,459,460,461,462,463,464,465,466,467,468,469,470,471,472,473,474,475,476,477,478,479,480,481,482,483,484,485,486,487,488,489,490,491,492,493,494,495,496,497,498,499,500,501,502,503,504,505,506,507,508,509,510,511,512,513,514,515,516,517,518,519,520,521,522,523,524,525,526,527,528,529,530,531,532,533,534,535,536,537,538,539,540,541,542,543,544,545,546,547,548,549,550,551,552,553,554,555,556,557,558,559,560,561,562,563,564,565,566,567,568,569,570,571,572,573,574,575,576,577,578,579,580,581,582,583,584,585,586,587,588,589,590,591,592,593,594,595,596,597,598,599],\"colorbar\":{\"title\":{\"text\":\"Trial\"},\"x\":1.0,\"xpad\":40},\"colorscale\":[[0.0,\"rgb(247,251,255)\"],[0.125,\"rgb(222,235,247)\"],[0.25,\"rgb(198,219,239)\"],[0.375,\"rgb(158,202,225)\"],[0.5,\"rgb(107,174,214)\"],[0.625,\"rgb(66,146,198)\"],[0.75,\"rgb(33,113,181)\"],[0.875,\"rgb(8,81,156)\"],[1.0,\"rgb(8,48,107)\"]],\"line\":{\"color\":\"Grey\",\"width\":0.5},\"showscale\":false},\"mode\":\"markers\",\"name\":\"Feasible Trial\",\"showlegend\":false,\"x\":[\"BM25\",\"BM25\",\"TF-IDF\",\"BM25\",\"BM25\",\"BM25\",\"BM25\",\"TF-IDF\",\"BM25\",\"BM25\",\"TF-IDF\",\"TF-IDF\",\"none\",\"TF-IDF\",\"TF-IDF\",\"TF-IDF\",\"none\",\"TF-IDF\",\"TF-IDF\",\"TF-IDF\",\"none\",\"TF-IDF\",\"TF-IDF\",\"TF-IDF\",\"TF-IDF\",\"TF-IDF\",\"TF-IDF\",\"none\",\"TF-IDF\",\"TF-IDF\",\"TF-IDF\",\"TF-IDF\",\"TF-IDF\",\"TF-IDF\",\"TF-IDF\",\"TF-IDF\",\"TF-IDF\",\"none\",\"TF-IDF\",\"BM25\",\"TF-IDF\",\"TF-IDF\",\"TF-IDF\",\"TF-IDF\",\"BM25\",\"TF-IDF\",\"TF-IDF\",\"TF-IDF\",\"BM25\",\"TF-IDF\",\"none\",\"TF-IDF\",\"TF-IDF\",\"TF-IDF\",\"TF-IDF\",\"TF-IDF\",\"TF-IDF\",\"TF-IDF\",\"TF-IDF\",\"BM25\",\"TF-IDF\",\"TF-IDF\",\"TF-IDF\",\"TF-IDF\",\"TF-IDF\",\"TF-IDF\",\"none\",\"TF-IDF\",\"TF-IDF\",\"TF-IDF\",\"TF-IDF\",\"TF-IDF\",\"TF-IDF\",\"TF-IDF\",\"TF-IDF\",\"TF-IDF\",\"TF-IDF\",\"none\",\"TF-IDF\",\"BM25\",\"TF-IDF\",\"TF-IDF\",\"TF-IDF\",\"TF-IDF\",\"TF-IDF\",\"TF-IDF\",\"TF-IDF\",\"TF-IDF\",\"TF-IDF\",\"TF-IDF\",\"none\",\"TF-IDF\",\"TF-IDF\",\"TF-IDF\",\"TF-IDF\",\"TF-IDF\",\"TF-IDF\",\"BM25\",\"TF-IDF\",\"TF-IDF\",\"TF-IDF\",\"TF-IDF\",\"TF-IDF\",\"TF-IDF\",\"TF-IDF\",\"TF-IDF\",\"TF-IDF\",\"TF-IDF\",\"TF-IDF\",\"TF-IDF\",\"TF-IDF\",\"TF-IDF\",\"TF-IDF\",\"TF-IDF\",\"TF-IDF\",\"TF-IDF\",\"TF-IDF\",\"none\",\"BM25\",\"TF-IDF\",\"TF-IDF\",\"TF-IDF\",\"TF-IDF\",\"TF-IDF\",\"TF-IDF\",\"TF-IDF\",\"TF-IDF\",\"TF-IDF\",\"TF-IDF\",\"TF-IDF\",\"TF-IDF\",\"TF-IDF\",\"TF-IDF\",\"TF-IDF\",\"TF-IDF\",\"TF-IDF\",\"TF-IDF\",\"TF-IDF\",\"TF-IDF\",\"none\",\"TF-IDF\",\"TF-IDF\",\"TF-IDF\",\"TF-IDF\",\"TF-IDF\",\"TF-IDF\",\"BM25\",\"TF-IDF\",\"TF-IDF\",\"TF-IDF\",\"TF-IDF\",\"TF-IDF\",\"TF-IDF\",\"TF-IDF\",\"TF-IDF\",\"TF-IDF\",\"TF-IDF\",\"TF-IDF\",\"TF-IDF\",\"TF-IDF\",\"TF-IDF\",\"TF-IDF\",\"TF-IDF\",\"TF-IDF\",\"TF-IDF\",\"TF-IDF\",\"TF-IDF\",\"TF-IDF\",\"TF-IDF\",\"none\",\"TF-IDF\",\"TF-IDF\",\"TF-IDF\",\"TF-IDF\",\"TF-IDF\",\"TF-IDF\",\"TF-IDF\",\"BM25\",\"TF-IDF\",\"TF-IDF\",\"TF-IDF\",\"TF-IDF\",\"TF-IDF\",\"TF-IDF\",\"TF-IDF\",\"TF-IDF\",\"TF-IDF\",\"TF-IDF\",\"TF-IDF\",\"TF-IDF\",\"TF-IDF\",\"TF-IDF\",\"TF-IDF\",\"TF-IDF\",\"TF-IDF\",\"TF-IDF\",\"TF-IDF\",\"TF-IDF\",\"TF-IDF\",\"TF-IDF\",\"TF-IDF\",\"TF-IDF\",\"TF-IDF\",\"TF-IDF\",\"TF-IDF\",\"TF-IDF\",\"TF-IDF\",\"TF-IDF\",\"none\",\"none\",\"none\",\"none\",\"none\",\"none\",\"none\",\"none\",\"none\",\"none\",\"none\",\"none\",\"none\",\"none\",\"none\",\"none\",\"none\",\"none\",\"none\",\"none\",\"none\",\"none\",\"none\",\"none\",\"none\",\"none\",\"none\",\"none\",\"none\",\"none\",\"none\",\"none\",\"none\",\"none\",\"none\",\"none\",\"none\",\"none\",\"none\",\"none\",\"none\",\"none\",\"none\",\"none\",\"none\",\"none\",\"none\",\"none\",\"none\",\"none\",\"none\",\"none\",\"none\",\"none\",\"none\",\"none\",\"none\",\"none\",\"none\",\"none\",\"none\",\"none\",\"none\",\"none\",\"none\",\"none\",\"none\",\"none\",\"none\",\"none\",\"none\",\"none\",\"none\",\"none\",\"none\",\"none\",\"none\",\"none\",\"none\",\"none\",\"none\",\"none\",\"none\",\"none\",\"none\",\"none\",\"none\",\"none\",\"none\",\"none\",\"none\",\"none\",\"none\",\"none\",\"none\",\"none\",\"none\",\"none\",\"none\",\"none\",\"none\",\"none\",\"none\",\"none\",\"none\",\"BM25\",\"none\",\"none\",\"none\",\"none\",\"none\",\"none\",\"none\",\"none\",\"none\",\"none\",\"none\",\"none\",\"none\",\"none\",\"none\",\"none\",\"none\",\"none\",\"none\",\"BM25\",\"none\",\"none\",\"none\",\"none\",\"none\",\"none\",\"none\",\"none\",\"none\",\"none\",\"none\",\"none\",\"none\",\"none\",\"none\",\"none\",\"none\",\"none\",\"none\",\"none\",\"BM25\",\"none\",\"none\",\"none\",\"none\",\"none\",\"none\",\"none\",\"none\",\"none\",\"none\",\"none\",\"none\",\"none\",\"none\",\"none\",\"none\",\"none\",\"none\",\"none\",\"none\",\"BM25\",\"none\",\"none\",\"none\",\"none\",\"none\",\"none\",\"none\",\"none\",\"none\",\"none\",\"none\",\"none\",\"none\",\"none\",\"none\",\"none\",\"none\",\"none\",\"none\",\"BM25\",\"none\",\"none\",\"none\",\"none\",\"none\",\"none\",\"none\",\"none\",\"none\",\"none\",\"none\",\"none\",\"none\",\"none\",\"none\",\"none\",\"none\",\"none\",\"none\",\"BM25\",\"none\",\"none\",\"none\",\"none\",\"none\",\"none\",\"none\",\"none\",\"none\",\"none\",\"none\",\"none\",\"none\",\"none\",\"none\",\"none\",\"none\",\"none\",\"none\",\"none\",\"none\",\"none\",\"none\",\"none\",\"none\",\"none\",\"none\",\"none\",\"none\",\"BM25\",\"none\",\"none\",\"none\",\"none\",\"none\",\"none\",\"none\",\"none\",\"none\",\"none\",\"none\",\"none\",\"none\",\"none\",\"none\",\"none\",\"none\",\"none\",\"none\",\"none\",\"BM25\",\"none\",\"none\",\"none\",\"none\",\"none\",\"none\",\"none\",\"none\",\"none\",\"none\",\"none\",\"none\",\"none\",\"none\",\"none\",\"none\",\"none\",\"none\",\"none\",\"none\",\"none\",\"none\",\"none\",\"BM25\",\"none\",\"none\",\"none\",\"none\",\"none\",\"none\",\"none\",\"none\",\"none\",\"none\",\"none\",\"none\",\"none\",\"none\",\"none\",\"none\",\"BM25\",\"none\",\"none\",\"none\",\"none\",\"none\",\"none\",\"none\",\"none\",\"none\",\"none\",\"none\",\"none\",\"none\",\"none\",\"none\",\"none\",\"none\",\"none\",\"none\",\"none\",\"BM25\",\"none\",\"none\",\"none\",\"none\",\"none\",\"none\",\"none\",\"none\",\"none\",\"none\",\"none\",\"none\",\"none\",\"none\",\"none\",\"none\",\"none\",\"none\",\"none\",\"none\",\"BM25\",\"none\",\"none\",\"none\",\"none\",\"none\",\"none\",\"none\",\"none\",\"none\",\"none\",\"none\",\"none\",\"none\",\"none\",\"none\",\"none\",\"none\",\"none\",\"none\",\"none\",\"BM25\",\"none\",\"none\",\"none\",\"none\",\"none\",\"none\",\"none\",\"none\",\"none\",\"none\",\"none\",\"none\",\"none\",\"none\",\"none\",\"none\",\"none\",\"none\",\"none\",\"none\",\"none\",\"none\",\"none\",\"BM25\",\"none\",\"none\",\"none\",\"none\",\"none\"],\"y\":[0.03847803567849229,0.04171964497081084,0.045075083416706754,0.03969241243666473,0.015505116638520241,0.03390989215925825,0.04208916606138639,0.03992089568563728,0.03689398166065726,0.0419195619113201,0.04286446311593473,0.04370869088626762,0.03922014699048953,0.03898220646002158,0.04522533432718656,0.045419613559969596,0.033276953099928765,0.044603421446640534,0.009585828606819929,0.04603685469227625,0.036478533171880455,0.04936385234454629,0.04884736351921455,0.05167910318356951,0.051299149203227944,0.048890057353751605,0.04422724678859554,0.04010564854729204,0.018002904416695022,0.034522039692480196,0.044599477795545094,0.04921190880610869,0.050085003730726205,0.04670507928914593,0.04774758311109263,0.04624842492671421,0.018499769450536042,0.0471228279082221,0.04704902406361122,0.039014626607979955,0.046365675679190935,0.048154934413874154,0.047921209852360445,0.0516509302410396,0.03591129786809708,0.041083810657646824,0.04402098719895735,0.019161143155815477,0.04561184037203904,0.03602128500231943,0.03458822598741253,0.04784897708922793,0.04820380943479764,0.041976571864759823,0.04740382442291594,0.045051453542955366,0.04648504130021554,0.0469879804783168,0.048461992727442914,0.042413896090541955,0.049028092198309045,0.04919733821484708,0.048179967153130845,0.04694401449089732,0.04954915876216106,0.0002664826418719655,0.0395961476902804,0.02765333913833305,0.04249586982388426,0.04387294658296601,0.022658722357174747,0.049331885341930864,0.049934388763156416,0.04844238489569648,0.04950439674902438,0.047842500622259865,0.047141583913202785,0.044330265171293334,0.04507506180411467,0.042850527787547776,0.042630380128308054,0.04933324510119477,0.0481437214970748,0.04975391008487637,0.04686650492269808,0.04726198463493369,0.04656591531270172,0.04282694024513882,0.03238459417420321,0.047910376227795134,0.03642232578734297,0.0494451147008956,0.0002664826418719655,0.049154679926459895,0.04736466281198917,0.049376702406276715,0.04834581653075937,0.04057861037770286,0.05031477680681584,0.05037676712344134,0.04800919581518322,0.04963598798308874,0.0002664826418719655,0.049504241473341926,0.04751151390853433,0.043710622878157565,0.04793737819207235,0.04664669663710096,0.0466421111068875,0.05014495286754074,0.05001918540506721,0.04937054806796139,0.04853121084630373,0.0002664826418719655,0.04086167291275695,0.04711551945335192,0.048255655760942956,0.04232723894120498,0.04212373222017858,0.021211838801501057,0.046355664992873455,0.04879863008544178,0.050289612360944605,0.05094557622011079,0.05141379116754542,0.045043685195053494,0.0421953998415494,0.04824104595311586,0.04536433696221219,0.04804893042642694,0.047355889084013954,0.04994099064968518,0.04844011894775917,0.05072062948872008,0.05167499647934026,0.0002664826418719655,0.047950622301437665,0.047706655214182506,0.04858543575580961,0.0002664826418719655,0.047096205258541024,0.049633379649968196,0.04980878259305179,0.04851957081257526,0.0002664826418719655,0.044756911256342055,0.02784785793175936,0.04847850697449875,0.047116810660729994,0.04318529427697464,0.04837693138361469,0.05005289223297421,0.04983953922684468,0.048081317213503866,0.04739143116001597,0.050711091356320306,0.0423139061213198,0.04850785022691531,0.009216016064248595,0.04782418485527614,0.0002664826418719655,0.049024305900822816,0.04964787000215071,0.04821691192237398,0.04766757359625482,0.049898896364941756,0.04866275228073952,0.050339485124901585,0.04805792166950668,0.03807168129783852,0.04801868844605957,0.04989307820097129,0.04862042917789884,0.0002664826418719655,0.04872917207550892,0.0421431333588106,0.050170333522096044,0.04282836807235073,0.04991526231617852,0.028107451890721297,0.0002664826418719655,0.04993257210734363,0.04898506243922583,0.04955189791234907,0.048159910345721285,0.04999742933612483,0.04651908289037322,0.048688769926603,0.05017736655787099,0.052770132207501916,0.044920360081063405,0.05053286852839014,0.0002664826418719655,0.050562791169713586,0.05031125284117284,0.04990563145551257,0.05112802526300825,0.04885511508997322,0.05069920295812504,0.04950766943167519,0.050427546154826045,0.05069072979215204,0.05073869298991869,0.04989507028462124,0.049972583889434,0.04700001020406326,0.0512353018267241,0.04827784121151514,0.05104263186459542,0.05092531802018609,0.050869259929248144,0.05073879495247531,0.049012160319736396,0.05039360254194376,0.050921486747334446,0.04891709249337225,0.04711571482008757,0.04995752837612295,0.04922041848900541,0.05102792024432849,0.04973127692293931,0.05038853822528087,0.05126283537418349,0.051778250982194365,0.05169413881766273,0.050889642540877744,0.05130924006573032,0.05112273381674017,0.048247156201741616,0.05121506243504324,0.05051766722476123,0.05124083401322201,0.050911436434536786,0.05107694519486827,0.05080826109915465,0.04784381402931958,0.04868276479117052,0.050435703298782,0.05143864758675326,0.05238586893488721,0.051812229848526695,0.05235041859328893,0.0002664826418719655,0.052734651923476726,0.052749727917604794,0.0002664826418719655,0.05119815890180516,0.05287919963207016,0.05223501429331294,0.051298554172739305,0.05135107591876845,0.04254372298438136,0.053134600182737454,0.052909503083440244,0.0002664826418719655,0.03920845351012365,0.05275915171373006,0.05319752032663925,0.053035294599967545,0.041507624622074385,0.053230998474819435,0.05318001901092788,0.04641161061905724,0.053037738820821044,0.0002664826418719655,0.05312387900539119,0.0529325066441798,0.05351701566277965,0.053314355858730775,0.03307219962532294,0.05178013728169698,0.049045059421762065,0.05127462047917321,0.029566477782746063,0.0002664826418719655,0.02873532901480332,0.05091777583110446,0.05267623074832051,0.05318563606780051,0.03804079968142458,0.048897001938809,0.05300323925642245,0.03690790987867579,0.052648941574855224,0.05306271583010617,0.05263656227082064,0.048891441644559844,0.053398304472673463,0.0002664826418719655,0.05272727050856829,0.052834820688102344,0.04848977138583462,0.052674484024547705,0.04040126154027886,0.04890841429102853,0.0002664826418719655,0.03911269935383791,0.0002664826418719655,0.040218770111744254,0.04916640282816878,0.047323777618326984,0.052218659379927014,0.0002664826418719655,0.0488647275039855,0.050529757918228224,0.047743133713452346,0.030807682327581472,0.04936410099543398,0.05293868035823385,0.0002664826418719655,0.04265414117226195,0.048691379157994576,0.045019433248485036,0.04772679808345506,0.04883103346022026,0.04602518466429443,0.0002664826418719655,0.05084333155381747,0.04915832064079717,0.05034803846721865,0.05332291730899048,0.05021782525860478,0.0002664826418719655,0.030700959376724242,0.03892928588716499,0.03888675349644569,0.03851616520440891,0.04194539938141715,0.05212252852978096,0.049119631837963154,0.05318691699897445,0.04859005646792183,0.051068356184236205,0.047562021882130046,0.048584741000029706,0.043302073935299466,0.051398648188950694,0.030110588435945503,0.04405993648353966,0.051167828048413355,0.04902288614972887,0.0002664826418719655,0.0477290652407735,0.05009965070172061,0.03672381871723387,0.05115571159589503,0.05190464757486465,0.050247743921605095,0.0002664826418719655,0.046151171893206104,0.028730403330002617,0.05228112223311544,0.04005070835123643,0.0002664826418719655,0.048282279597252786,0.051259577771329536,0.04780772231426175,0.049442899187413444,0.04431384850474095,0.051137952942888254,0.039108616243827964,0.05318697410454916,0.04983285667641849,0.05172419486866692,0.04619939186223303,0.051540571067009634,0.03492244675424558,0.04656199182493171,0.04707263653009917,0.0002664826418719655,0.04040000862559073,0.04941823080124984,0.05239761587862009,0.04730642709610305,0.0002664826418719655,0.048651239718197604,0.05129266217579649,0.032833428871407125,0.05221626161352992,0.05062357831681236,0.048755892234960733,0.045554569718085844,0.0002664826418719655,0.049076559093286454,0.05259571933291268,0.048391519477274256,0.05141879854179728,0.0002664826418719655,0.04845640169812706,0.0503645963501691,0.05154465609281805,0.04427639486010794,0.0448004959333929,0.05125224959235103,0.05288545887397246,0.04811730227993134,0.0002664826418719655,0.05191662902991125,0.04962726571595453,0.04810938304912923,0.05296297056819297,0.05180491511054517,0.050212445949555984,0.04890254911014445,0.05234266206143654,0.027849120432293224,0.050635049291986776,0.0002664826418719655,0.0002664826418719655,0.04935880437197928,0.050337888151667606,0.05271727528864534,0.05030022352294915,0.0002664826418719655,0.051399042321652356,0.046372146682097506,0.048470575750490075,0.041358792111946055,0.053440919475009716,0.044915015556158844,0.05281217814385904,0.04331215651401088,0.05253748276025958,0.04857496393632387,0.04425798564934068,0.04710099530879066,0.041513886514609244,0.0002664826418719655,0.05153650500853167,0.0413814368881109,0.05293386835462682,0.051505793004816405,0.05013509185909866,0.0002664826418719655,0.04622433142565943,0.049192538958732546,0.04502763916786962,0.04089592858793144,0.049663721791680646,0.05361580072200237,0.042880406262806404,0.051764175618139875,0.04996687129806965,0.05309876346600399,0.05208959080168705,0.04819016395472467,0.05173151421895898,0.0332164579762767,0.04542961201528556,0.04945981344926281,0.051272687098616,0.04136819611249676,0.04771138846898006,0.03730757347010795,0.05193540120163074,0.05150349128656599,0.0002664826418719655,0.048856619574973156,0.05246490079806654,0.0363869049531436,0.04630766305991406,0.048542913410308586,0.043000346902693824,0.0002664826418719655,0.047971350034539915,0.0512365339248295,0.0471130480974944,0.05180599886021879,0.04794928076435541,0.04922496437467692,0.03877750455160117,0.04622192481497488,0.028827641260177762,0.027108177075152597,0.0002664826418719655,0.04854649172099616,0.051008469219300065,0.049792454890957356,0.0002664826418719655,0.050658884879932795,0.052221667266549664,0.04557100466468172,0.040090244271104386,0.048496934817184464,0.05124023252683356,0.036583371468352624,0.0002664826418719655,0.03792006644941233,0.052014935214057666,0.04921450787188851,0.0439678178446707,0.04967667521931751,0.0002664826418719655,0.03650330673705708,0.046176491016543655,0.05158376932768675,0.050375563530703736,0.04242973024441829,0.052328148424006085,0.05158648018198912,0.028631966522537394,0.0002664826418719655,0.04999393703363369,0.04686489303798978,0.047929378891386425,0.0481529481940849,0.0002664826418719655,0.03953733321841382,0.052180141420665294,0.04921039616716356,0.05311833105802607,0.05157996461084506,0.04977811200934375,0.03007961611014704,0.0002664826418719655,0.036812778719327054,0.04856933706904039,0.051602319030247014,0.0502605952274786,0.04634047165358032,0.05167357984499814,0.05066950142647218,0.05015219477999364,0.0521576167736863,0.05180483292633777,0.05009680986919104,0.05111198514739097,0.0002664826418719655,0.049768631605415475,0.04875747549619527,0.048555899134284805,0.05009556549279441,0.0002664826418719655,0.049983666336285634,0.052600758737133026,0.05025658636288395,0.050045824625647696,0.0002664826418719655,0.039672465218226885,0.027990681242802695,0.04435376990084117,0.04844613365408987,0.0002664826418719655,0.048240066311063576,0.05033356065762047,0.051214391085340684,0.04757572449882931,0.03961121904414174,0.05077600425113493,0.047619028800789734,0.0002664826418719655,0.0507964940485857,0.05008005528959415,0.029807659888788484,0.048035245112424414,0.04825499951116241,0.05229717025221929,0.049923661378002096,0.0002664826418719655,0.043648440458101435,0.05183115990198335,0.046575178227840575,0.04988289712739887,0.0002664826418719655,0.046210046758576664,0.05211719728194486,0.029409687326402145,0.04963474414587704,0.039645812531516174,0.0002664826418719655,0.04341199067039195,0.05240471082588213,0.05051452717471479,0.03756733949573581,0.04036492226413317,0.04025202934604542,0.04703273247509769,0.044686525570280945,0.05333110785286134,0.05273538823004513,0.0495071956071515,0.0002664826418719655,0.049258425677882994,0.0491335585003424,0.04861624611865848,0.0002664826418719655,0.05058911851334339,0.04941301598198733,0.052907683135904014,0.0454891673438782,0.0002664826418719655,0.05003115151520003,0.05326352251182716,0.05185482550943608,0.03292793995440958,0.04942874348265826,0.05041359499301094,0.04225762612967833,0.03745020863366255,0.05328761396085981],\"type\":\"scatter\",\"xaxis\":\"x2\",\"yaxis\":\"y2\"},{\"marker\":{\"color\":[4,5,28,37,47,67,88,119,146,179,297,323,350,377,405,433,459,486,513,539,566,594],\"colorbar\":{\"title\":{\"text\":\"Trial\"},\"x\":1.0,\"xpad\":40},\"colorscale\":[[0.0,\"rgb(247,251,255)\"],[0.125,\"rgb(222,235,247)\"],[0.25,\"rgb(198,219,239)\"],[0.375,\"rgb(158,202,225)\"],[0.5,\"rgb(107,174,214)\"],[0.625,\"rgb(66,146,198)\"],[0.75,\"rgb(33,113,181)\"],[0.875,\"rgb(8,81,156)\"],[1.0,\"rgb(8,48,107)\"]],\"line\":{\"color\":\"Grey\",\"width\":0.5},\"showscale\":false},\"mode\":\"markers\",\"name\":\"Feasible Trial\",\"showlegend\":false,\"x\":[true,false,false,true,true,false,true,false,true,false,false,true,false,true,false,true,true,false,true,false,false,true],\"y\":[0.015505116638520241,0.03390989215925825,0.018002904416695022,0.0471228279082221,0.019161143155815477,0.02765333913833305,0.03238459417420321,0.021211838801501057,0.02784785793175936,0.028107451890721297,0.0002664826418719655,0.030700959376724242,0.028730403330002617,0.032833428871407125,0.027849120432293224,0.0002664826418719655,0.0363869049531436,0.0002664826418719655,0.03007961611014704,0.027990681242802695,0.029409687326402145,0.03292793995440958],\"type\":\"scatter\",\"xaxis\":\"x3\",\"yaxis\":\"y3\"},{\"marker\":{\"color\":[4,5,28,37,47,67,88,119,146,179,297,323,350,377,405,433,459,486,513,539,566,594],\"colorbar\":{\"title\":{\"text\":\"Trial\"},\"x\":1.0,\"xpad\":40},\"colorscale\":[[0.0,\"rgb(247,251,255)\"],[0.125,\"rgb(222,235,247)\"],[0.25,\"rgb(198,219,239)\"],[0.375,\"rgb(158,202,225)\"],[0.5,\"rgb(107,174,214)\"],[0.625,\"rgb(66,146,198)\"],[0.75,\"rgb(33,113,181)\"],[0.875,\"rgb(8,81,156)\"],[1.0,\"rgb(8,48,107)\"]],\"line\":{\"color\":\"Grey\",\"width\":0.5},\"showscale\":false},\"mode\":\"markers\",\"name\":\"Feasible Trial\",\"showlegend\":false,\"x\":[true,true,false,false,false,true,true,false,true,false,false,true,true,false,true,false,true,false,false,true,false,true],\"y\":[0.015505116638520241,0.03390989215925825,0.018002904416695022,0.0471228279082221,0.019161143155815477,0.02765333913833305,0.03238459417420321,0.021211838801501057,0.02784785793175936,0.028107451890721297,0.0002664826418719655,0.030700959376724242,0.028730403330002617,0.032833428871407125,0.027849120432293224,0.0002664826418719655,0.0363869049531436,0.0002664826418719655,0.03007961611014704,0.027990681242802695,0.029409687326402145,0.03292793995440958],\"type\":\"scatter\",\"xaxis\":\"x4\",\"yaxis\":\"y4\"},{\"marker\":{\"color\":[0,1,2,3,4,5,6,7,8,9,10,11,12,13,14,15,16,17,18,19,20,21,22,23,24,25,26,27,28,29,30,31,32,33,34,35,36,37,38,39,40,41,42,43,44,45,46,47,48,49,50,51,52,53,54,55,56,57,58,59,60,61,62,63,64,65,66,67,68,69,70,71,72,73,74,75,76,77,78,79,80,81,82,83,84,85,86,87,88,89,90,91,92,93,94,95,96,97,98,99,100,101,102,103,104,105,106,107,108,109,110,111,112,113,114,115,116,117,118,119,120,121,122,123,124,125,126,127,128,129,130,131,132,133,134,135,136,137,138,139,140,141,142,143,144,145,146,147,148,149,150,151,152,153,154,155,156,157,158,159,160,161,162,163,164,165,166,167,168,169,170,171,172,173,174,175,176,177,178,179,180,181,182,183,184,185,186,187,188,189,190,191,192,193,194,195,196,197,198,199,200,201,202,203,204,205,206,207,208,209,210,211,212,213,214,215,216,217,218,219,220,221,222,223,224,225,226,227,228,229,230,231,232,233,234,235,236,237,238,239,240,241,242,243,244,245,246,247,248,249,250,251,252,253,254,255,256,257,258,259,260,261,262,263,264,265,266,267,268,269,270,271,272,273,274,275,276,277,278,279,280,281,282,283,284,285,286,287,288,289,290,291,292,293,294,295,296,297,298,299,300,301,302,303,304,305,306,307,308,309,310,311,312,313,314,315,316,317,318,319,320,321,322,323,324,325,326,327,328,329,330,331,332,333,334,335,336,337,338,339,340,341,342,343,344,345,346,347,348,349,350,351,352,353,354,355,356,357,358,359,360,361,362,363,364,365,366,367,368,369,370,371,372,373,374,375,376,377,378,379,380,381,382,383,384,385,386,387,388,389,390,391,392,393,394,395,396,397,398,399,400,401,402,403,404,405,406,407,408,409,410,411,412,413,414,415,416,417,418,419,420,421,422,423,424,425,426,427,428,429,430,431,432,433,434,435,436,437,438,439,440,441,442,443,444,445,446,447,448,449,450,451,452,453,454,455,456,457,458,459,460,461,462,463,464,465,466,467,468,469,470,471,472,473,474,475,476,477,478,479,480,481,482,483,484,485,486,487,488,489,490,491,492,493,494,495,496,497,498,499,500,501,502,503,504,505,506,507,508,509,510,511,512,513,514,515,516,517,518,519,520,521,522,523,524,525,526,527,528,529,530,531,532,533,534,535,536,537,538,539,540,541,542,543,544,545,546,547,548,549,550,551,552,553,554,555,556,557,558,559,560,561,562,563,564,565,566,567,568,569,570,571,572,573,574,575,576,577,578,579,580,581,582,583,584,585,586,587,588,589,590,591,592,593,594,595,596,597,598,599],\"colorbar\":{\"title\":{\"text\":\"Trial\"},\"x\":1.0,\"xpad\":40},\"colorscale\":[[0.0,\"rgb(247,251,255)\"],[0.125,\"rgb(222,235,247)\"],[0.25,\"rgb(198,219,239)\"],[0.375,\"rgb(158,202,225)\"],[0.5,\"rgb(107,174,214)\"],[0.625,\"rgb(66,146,198)\"],[0.75,\"rgb(33,113,181)\"],[0.875,\"rgb(8,81,156)\"],[1.0,\"rgb(8,48,107)\"]],\"line\":{\"color\":\"Grey\",\"width\":0.5},\"showscale\":false},\"mode\":\"markers\",\"name\":\"Feasible Trial\",\"showlegend\":false,\"x\":[895,532,250,438,382,879,87,418,992,699,56,15,223,221,201,252,595,316,135,162,325,167,131,128,1,3,95,305,9,703,150,6,57,91,183,68,552,258,63,382,133,28,101,36,49,183,112,271,54,820,463,12,1,52,167,217,73,122,36,94,221,204,365,137,165,39,160,71,287,989,102,194,185,249,182,344,239,151,114,177,81,193,147,279,636,116,31,416,168,299,267,234,227,324,212,129,87,134,56,27,33,55,58,24,71,16,50,100,3,79,81,82,50,34,0,68,110,91,26,503,65,149,123,46,121,124,103,43,82,115,21,60,74,39,44,41,13,58,91,1,45,24,780,70,138,100,37,78,122,59,20,102,89,110,53,145,147,37,76,17,91,167,115,64,130,43,95,149,138,59,580,160,25,1,191,111,83,80,53,97,71,129,153,37,107,79,51,76,22,16,28,5,4,17,0,20,2,1,20,12,32,25,22,34,3,32,3,13,2,25,25,23,25,36,2,1,20,40,0,16,16,43,21,16,23,45,47,48,44,45,52,47,45,51,52,54,43,59,2,4,1,7,6,4,17,0,0,16,15,1,0,3,21,24,23,27,24,21,26,670,22,30,28,27,27,31,27,30,29,956,64,31,65,457,31,25,70,36,22,21,34,22,65,19,36,36,39,36,62,38,41,61,39,803,40,62,413,39,38,65,33,53,23,48,71,23,528,40,21,79,744,54,23,38,18,53,35,73,22,58,19,17,19,44,0,868,20,79,39,58,17,16,0,20,35,60,18,45,15,0,86,32,60,35,360,16,53,0,36,73,20,46,0,28,59,20,86,39,19,61,43,15,1,18,23,1,53,31,75,15,602,38,19,59,1,38,70,20,47,0,32,54,21,92,33,16,72,48,18,37,0,59,0,30,44,88,73,53,50,43,30,70,30,93,54,36,22,77,51,27,65,37,17,46,18,0,63,482,35,95,49,72,48,40,83,60,34,57,19,308,35,35,20,0,70,34,23,101,46,15,14,16,1,33,61,35,79,38,58,18,33,1,49,721,76,19,32,54,0,941,31,66,406,16,47,32,93,0,50,20,848,71,658,35,14,51,31,0,68,23,51,94,17,42,31,81,62,550,15,40,0,56,20,39,19,71,35,249,55,17,1,40,108,87,32,62,0,19,40,51,23,16,19,28,335,68,15,33,1,51,76,31,1,53,19,37,0,82,61,29,45,0,21,53,31,18,65,43,102,18,377,82,594,41,0,62,29,19,46,509,16,65,37,18,50,73,29,0,41,270,16,55,29,79,36,15,58,1,775,95,0,39,54,21,431,914,41,67,22,19,36,291,82,16,52,35,16,63,33,111,0,50,16,15,17,37,0,75,50,31],\"y\":[0.03847803567849229,0.04171964497081084,0.045075083416706754,0.03969241243666473,0.015505116638520241,0.03390989215925825,0.04208916606138639,0.03992089568563728,0.03689398166065726,0.0419195619113201,0.04286446311593473,0.04370869088626762,0.03922014699048953,0.03898220646002158,0.04522533432718656,0.045419613559969596,0.033276953099928765,0.044603421446640534,0.009585828606819929,0.04603685469227625,0.036478533171880455,0.04936385234454629,0.04884736351921455,0.05167910318356951,0.051299149203227944,0.048890057353751605,0.04422724678859554,0.04010564854729204,0.018002904416695022,0.034522039692480196,0.044599477795545094,0.04921190880610869,0.050085003730726205,0.04670507928914593,0.04774758311109263,0.04624842492671421,0.018499769450536042,0.0471228279082221,0.04704902406361122,0.039014626607979955,0.046365675679190935,0.048154934413874154,0.047921209852360445,0.0516509302410396,0.03591129786809708,0.041083810657646824,0.04402098719895735,0.019161143155815477,0.04561184037203904,0.03602128500231943,0.03458822598741253,0.04784897708922793,0.04820380943479764,0.041976571864759823,0.04740382442291594,0.045051453542955366,0.04648504130021554,0.0469879804783168,0.048461992727442914,0.042413896090541955,0.049028092198309045,0.04919733821484708,0.048179967153130845,0.04694401449089732,0.04954915876216106,0.0002664826418719655,0.0395961476902804,0.02765333913833305,0.04249586982388426,0.04387294658296601,0.022658722357174747,0.049331885341930864,0.049934388763156416,0.04844238489569648,0.04950439674902438,0.047842500622259865,0.047141583913202785,0.044330265171293334,0.04507506180411467,0.042850527787547776,0.042630380128308054,0.04933324510119477,0.0481437214970748,0.04975391008487637,0.04686650492269808,0.04726198463493369,0.04656591531270172,0.04282694024513882,0.03238459417420321,0.047910376227795134,0.03642232578734297,0.0494451147008956,0.0002664826418719655,0.049154679926459895,0.04736466281198917,0.049376702406276715,0.04834581653075937,0.04057861037770286,0.05031477680681584,0.05037676712344134,0.04800919581518322,0.04963598798308874,0.0002664826418719655,0.049504241473341926,0.04751151390853433,0.043710622878157565,0.04793737819207235,0.04664669663710096,0.0466421111068875,0.05014495286754074,0.05001918540506721,0.04937054806796139,0.04853121084630373,0.0002664826418719655,0.04086167291275695,0.04711551945335192,0.048255655760942956,0.04232723894120498,0.04212373222017858,0.021211838801501057,0.046355664992873455,0.04879863008544178,0.050289612360944605,0.05094557622011079,0.05141379116754542,0.045043685195053494,0.0421953998415494,0.04824104595311586,0.04536433696221219,0.04804893042642694,0.047355889084013954,0.04994099064968518,0.04844011894775917,0.05072062948872008,0.05167499647934026,0.0002664826418719655,0.047950622301437665,0.047706655214182506,0.04858543575580961,0.0002664826418719655,0.047096205258541024,0.049633379649968196,0.04980878259305179,0.04851957081257526,0.0002664826418719655,0.044756911256342055,0.02784785793175936,0.04847850697449875,0.047116810660729994,0.04318529427697464,0.04837693138361469,0.05005289223297421,0.04983953922684468,0.048081317213503866,0.04739143116001597,0.050711091356320306,0.0423139061213198,0.04850785022691531,0.009216016064248595,0.04782418485527614,0.0002664826418719655,0.049024305900822816,0.04964787000215071,0.04821691192237398,0.04766757359625482,0.049898896364941756,0.04866275228073952,0.050339485124901585,0.04805792166950668,0.03807168129783852,0.04801868844605957,0.04989307820097129,0.04862042917789884,0.0002664826418719655,0.04872917207550892,0.0421431333588106,0.050170333522096044,0.04282836807235073,0.04991526231617852,0.028107451890721297,0.0002664826418719655,0.04993257210734363,0.04898506243922583,0.04955189791234907,0.048159910345721285,0.04999742933612483,0.04651908289037322,0.048688769926603,0.05017736655787099,0.052770132207501916,0.044920360081063405,0.05053286852839014,0.0002664826418719655,0.050562791169713586,0.05031125284117284,0.04990563145551257,0.05112802526300825,0.04885511508997322,0.05069920295812504,0.04950766943167519,0.050427546154826045,0.05069072979215204,0.05073869298991869,0.04989507028462124,0.049972583889434,0.04700001020406326,0.0512353018267241,0.04827784121151514,0.05104263186459542,0.05092531802018609,0.050869259929248144,0.05073879495247531,0.049012160319736396,0.05039360254194376,0.050921486747334446,0.04891709249337225,0.04711571482008757,0.04995752837612295,0.04922041848900541,0.05102792024432849,0.04973127692293931,0.05038853822528087,0.05126283537418349,0.051778250982194365,0.05169413881766273,0.050889642540877744,0.05130924006573032,0.05112273381674017,0.048247156201741616,0.05121506243504324,0.05051766722476123,0.05124083401322201,0.050911436434536786,0.05107694519486827,0.05080826109915465,0.04784381402931958,0.04868276479117052,0.050435703298782,0.05143864758675326,0.05238586893488721,0.051812229848526695,0.05235041859328893,0.0002664826418719655,0.052734651923476726,0.052749727917604794,0.0002664826418719655,0.05119815890180516,0.05287919963207016,0.05223501429331294,0.051298554172739305,0.05135107591876845,0.04254372298438136,0.053134600182737454,0.052909503083440244,0.0002664826418719655,0.03920845351012365,0.05275915171373006,0.05319752032663925,0.053035294599967545,0.041507624622074385,0.053230998474819435,0.05318001901092788,0.04641161061905724,0.053037738820821044,0.0002664826418719655,0.05312387900539119,0.0529325066441798,0.05351701566277965,0.053314355858730775,0.03307219962532294,0.05178013728169698,0.049045059421762065,0.05127462047917321,0.029566477782746063,0.0002664826418719655,0.02873532901480332,0.05091777583110446,0.05267623074832051,0.05318563606780051,0.03804079968142458,0.048897001938809,0.05300323925642245,0.03690790987867579,0.052648941574855224,0.05306271583010617,0.05263656227082064,0.048891441644559844,0.053398304472673463,0.0002664826418719655,0.05272727050856829,0.052834820688102344,0.04848977138583462,0.052674484024547705,0.04040126154027886,0.04890841429102853,0.0002664826418719655,0.03911269935383791,0.0002664826418719655,0.040218770111744254,0.04916640282816878,0.047323777618326984,0.052218659379927014,0.0002664826418719655,0.0488647275039855,0.050529757918228224,0.047743133713452346,0.030807682327581472,0.04936410099543398,0.05293868035823385,0.0002664826418719655,0.04265414117226195,0.048691379157994576,0.045019433248485036,0.04772679808345506,0.04883103346022026,0.04602518466429443,0.0002664826418719655,0.05084333155381747,0.04915832064079717,0.05034803846721865,0.05332291730899048,0.05021782525860478,0.0002664826418719655,0.030700959376724242,0.03892928588716499,0.03888675349644569,0.03851616520440891,0.04194539938141715,0.05212252852978096,0.049119631837963154,0.05318691699897445,0.04859005646792183,0.051068356184236205,0.047562021882130046,0.048584741000029706,0.043302073935299466,0.051398648188950694,0.030110588435945503,0.04405993648353966,0.051167828048413355,0.04902288614972887,0.0002664826418719655,0.0477290652407735,0.05009965070172061,0.03672381871723387,0.05115571159589503,0.05190464757486465,0.050247743921605095,0.0002664826418719655,0.046151171893206104,0.028730403330002617,0.05228112223311544,0.04005070835123643,0.0002664826418719655,0.048282279597252786,0.051259577771329536,0.04780772231426175,0.049442899187413444,0.04431384850474095,0.051137952942888254,0.039108616243827964,0.05318697410454916,0.04983285667641849,0.05172419486866692,0.04619939186223303,0.051540571067009634,0.03492244675424558,0.04656199182493171,0.04707263653009917,0.0002664826418719655,0.04040000862559073,0.04941823080124984,0.05239761587862009,0.04730642709610305,0.0002664826418719655,0.048651239718197604,0.05129266217579649,0.032833428871407125,0.05221626161352992,0.05062357831681236,0.048755892234960733,0.045554569718085844,0.0002664826418719655,0.049076559093286454,0.05259571933291268,0.048391519477274256,0.05141879854179728,0.0002664826418719655,0.04845640169812706,0.0503645963501691,0.05154465609281805,0.04427639486010794,0.0448004959333929,0.05125224959235103,0.05288545887397246,0.04811730227993134,0.0002664826418719655,0.05191662902991125,0.04962726571595453,0.04810938304912923,0.05296297056819297,0.05180491511054517,0.050212445949555984,0.04890254911014445,0.05234266206143654,0.027849120432293224,0.050635049291986776,0.0002664826418719655,0.0002664826418719655,0.04935880437197928,0.050337888151667606,0.05271727528864534,0.05030022352294915,0.0002664826418719655,0.051399042321652356,0.046372146682097506,0.048470575750490075,0.041358792111946055,0.053440919475009716,0.044915015556158844,0.05281217814385904,0.04331215651401088,0.05253748276025958,0.04857496393632387,0.04425798564934068,0.04710099530879066,0.041513886514609244,0.0002664826418719655,0.05153650500853167,0.0413814368881109,0.05293386835462682,0.051505793004816405,0.05013509185909866,0.0002664826418719655,0.04622433142565943,0.049192538958732546,0.04502763916786962,0.04089592858793144,0.049663721791680646,0.05361580072200237,0.042880406262806404,0.051764175618139875,0.04996687129806965,0.05309876346600399,0.05208959080168705,0.04819016395472467,0.05173151421895898,0.0332164579762767,0.04542961201528556,0.04945981344926281,0.051272687098616,0.04136819611249676,0.04771138846898006,0.03730757347010795,0.05193540120163074,0.05150349128656599,0.0002664826418719655,0.048856619574973156,0.05246490079806654,0.0363869049531436,0.04630766305991406,0.048542913410308586,0.043000346902693824,0.0002664826418719655,0.047971350034539915,0.0512365339248295,0.0471130480974944,0.05180599886021879,0.04794928076435541,0.04922496437467692,0.03877750455160117,0.04622192481497488,0.028827641260177762,0.027108177075152597,0.0002664826418719655,0.04854649172099616,0.051008469219300065,0.049792454890957356,0.0002664826418719655,0.050658884879932795,0.052221667266549664,0.04557100466468172,0.040090244271104386,0.048496934817184464,0.05124023252683356,0.036583371468352624,0.0002664826418719655,0.03792006644941233,0.052014935214057666,0.04921450787188851,0.0439678178446707,0.04967667521931751,0.0002664826418719655,0.03650330673705708,0.046176491016543655,0.05158376932768675,0.050375563530703736,0.04242973024441829,0.052328148424006085,0.05158648018198912,0.028631966522537394,0.0002664826418719655,0.04999393703363369,0.04686489303798978,0.047929378891386425,0.0481529481940849,0.0002664826418719655,0.03953733321841382,0.052180141420665294,0.04921039616716356,0.05311833105802607,0.05157996461084506,0.04977811200934375,0.03007961611014704,0.0002664826418719655,0.036812778719327054,0.04856933706904039,0.051602319030247014,0.0502605952274786,0.04634047165358032,0.05167357984499814,0.05066950142647218,0.05015219477999364,0.0521576167736863,0.05180483292633777,0.05009680986919104,0.05111198514739097,0.0002664826418719655,0.049768631605415475,0.04875747549619527,0.048555899134284805,0.05009556549279441,0.0002664826418719655,0.049983666336285634,0.052600758737133026,0.05025658636288395,0.050045824625647696,0.0002664826418719655,0.039672465218226885,0.027990681242802695,0.04435376990084117,0.04844613365408987,0.0002664826418719655,0.048240066311063576,0.05033356065762047,0.051214391085340684,0.04757572449882931,0.03961121904414174,0.05077600425113493,0.047619028800789734,0.0002664826418719655,0.0507964940485857,0.05008005528959415,0.029807659888788484,0.048035245112424414,0.04825499951116241,0.05229717025221929,0.049923661378002096,0.0002664826418719655,0.043648440458101435,0.05183115990198335,0.046575178227840575,0.04988289712739887,0.0002664826418719655,0.046210046758576664,0.05211719728194486,0.029409687326402145,0.04963474414587704,0.039645812531516174,0.0002664826418719655,0.04341199067039195,0.05240471082588213,0.05051452717471479,0.03756733949573581,0.04036492226413317,0.04025202934604542,0.04703273247509769,0.044686525570280945,0.05333110785286134,0.05273538823004513,0.0495071956071515,0.0002664826418719655,0.049258425677882994,0.0491335585003424,0.04861624611865848,0.0002664826418719655,0.05058911851334339,0.04941301598198733,0.052907683135904014,0.0454891673438782,0.0002664826418719655,0.05003115151520003,0.05326352251182716,0.05185482550943608,0.03292793995440958,0.04942874348265826,0.05041359499301094,0.04225762612967833,0.03745020863366255,0.05328761396085981],\"type\":\"scatter\",\"xaxis\":\"x5\",\"yaxis\":\"y5\"},{\"marker\":{\"color\":[0,1,2,3,4,5,6,7,8,9,10,11,12,13,14,15,16,17,18,19,20,21,22,23,24,25,26,27,28,29,30,31,32,33,34,35,36,37,38,39,40,41,42,43,44,45,46,47,48,49,50,51,52,53,54,55,56,57,58,59,60,61,62,63,64,65,66,67,68,69,70,71,72,73,74,75,76,77,78,79,80,81,82,83,84,85,86,87,88,89,90,91,92,93,94,95,96,97,98,99,100,101,102,103,104,105,106,107,108,109,110,111,112,113,114,115,116,117,118,119,120,121,122,123,124,125,126,127,128,129,130,131,132,133,134,135,136,137,138,139,140,141,142,143,144,145,146,147,148,149,150,151,152,153,154,155,156,157,158,159,160,161,162,163,164,165,166,167,168,169,170,171,172,173,174,175,176,177,178,179,180,181,182,183,184,185,186,187,188,189,190,191,192,193,194,195,196,197,198,199,200,201,202,203,204,205,206,207,208,209,210,211,212,213,214,215,216,217,218,219,220,221,222,223,224,225,226,227,228,229,230,231,232,233,234,235,236,237,238,239,240,241,242,243,244,245,246,247,248,249,250,251,252,253,254,255,256,257,258,259,260,261,262,263,264,265,266,267,268,269,270,271,272,273,274,275,276,277,278,279,280,281,282,283,284,285,286,287,288,289,290,291,292,293,294,295,296,297,298,299,300,301,302,303,304,305,306,307,308,309,310,311,312,313,314,315,316,317,318,319,320,321,322,323,324,325,326,327,328,329,330,331,332,333,334,335,336,337,338,339,340,341,342,343,344,345,346,347,348,349,350,351,352,353,354,355,356,357,358,359,360,361,362,363,364,365,366,367,368,369,370,371,372,373,374,375,376,377,378,379,380,381,382,383,384,385,386,387,388,389,390,391,392,393,394,395,396,397,398,399,400,401,402,403,404,405,406,407,408,409,410,411,412,413,414,415,416,417,418,419,420,421,422,423,424,425,426,427,428,429,430,431,432,433,434,435,436,437,438,439,440,441,442,443,444,445,446,447,448,449,450,451,452,453,454,455,456,457,458,459,460,461,462,463,464,465,466,467,468,469,470,471,472,473,474,475,476,477,478,479,480,481,482,483,484,485,486,487,488,489,490,491,492,493,494,495,496,497,498,499,500,501,502,503,504,505,506,507,508,509,510,511,512,513,514,515,516,517,518,519,520,521,522,523,524,525,526,527,528,529,530,531,532,533,534,535,536,537,538,539,540,541,542,543,544,545,546,547,548,549,550,551,552,553,554,555,556,557,558,559,560,561,562,563,564,565,566,567,568,569,570,571,572,573,574,575,576,577,578,579,580,581,582,583,584,585,586,587,588,589,590,591,592,593,594,595,596,597,598,599],\"colorbar\":{\"title\":{\"text\":\"Trial\"},\"x\":1.0,\"xpad\":40},\"colorscale\":[[0.0,\"rgb(247,251,255)\"],[0.125,\"rgb(222,235,247)\"],[0.25,\"rgb(198,219,239)\"],[0.375,\"rgb(158,202,225)\"],[0.5,\"rgb(107,174,214)\"],[0.625,\"rgb(66,146,198)\"],[0.75,\"rgb(33,113,181)\"],[0.875,\"rgb(8,81,156)\"],[1.0,\"rgb(8,48,107)\"]],\"line\":{\"color\":\"Grey\",\"width\":0.5},\"showscale\":false},\"mode\":\"markers\",\"name\":\"Feasible Trial\",\"showlegend\":false,\"x\":[\"tversky\",\"asymmetric\",\"cosine\",\"dice\",\"euclidean\",\"euclidean\",\"cosine\",\"tversky\",\"dice\",\"cosine\",\"jaccard\",\"jaccard\",\"jaccard\",\"jaccard\",\"cosine\",\"cosine\",\"cosine\",\"cosine\",\"asymmetric\",\"cosine\",\"cosine\",\"cosine\",\"cosine\",\"cosine\",\"cosine\",\"cosine\",\"dice\",\"asymmetric\",\"euclidean\",\"tversky\",\"tversky\",\"cosine\",\"cosine\",\"cosine\",\"cosine\",\"cosine\",\"asymmetric\",\"euclidean\",\"cosine\",\"dice\",\"cosine\",\"cosine\",\"cosine\",\"cosine\",\"cosine\",\"tversky\",\"cosine\",\"euclidean\",\"dice\",\"jaccard\",\"cosine\",\"cosine\",\"cosine\",\"cosine\",\"cosine\",\"cosine\",\"cosine\",\"asymmetric\",\"jaccard\",\"cosine\",\"cosine\",\"cosine\",\"cosine\",\"cosine\",\"cosine\",\"tversky\",\"cosine\",\"euclidean\",\"dice\",\"cosine\",\"asymmetric\",\"cosine\",\"cosine\",\"cosine\",\"cosine\",\"cosine\",\"cosine\",\"cosine\",\"jaccard\",\"cosine\",\"tversky\",\"cosine\",\"cosine\",\"cosine\",\"cosine\",\"cosine\",\"cosine\",\"dice\",\"euclidean\",\"cosine\",\"cosine\",\"cosine\",\"cosine\",\"cosine\",\"cosine\",\"cosine\",\"cosine\",\"asymmetric\",\"cosine\",\"cosine\",\"jaccard\",\"cosine\",\"cosine\",\"cosine\",\"cosine\",\"cosine\",\"cosine\",\"cosine\",\"cosine\",\"tversky\",\"tversky\",\"tversky\",\"tversky\",\"tversky\",\"tversky\",\"tversky\",\"tversky\",\"tversky\",\"tversky\",\"euclidean\",\"dice\",\"cosine\",\"cosine\",\"cosine\",\"cosine\",\"asymmetric\",\"cosine\",\"cosine\",\"tversky\",\"jaccard\",\"cosine\",\"cosine\",\"cosine\",\"cosine\",\"cosine\",\"cosine\",\"cosine\",\"cosine\",\"cosine\",\"cosine\",\"cosine\",\"cosine\",\"cosine\",\"cosine\",\"cosine\",\"cosine\",\"euclidean\",\"dice\",\"cosine\",\"tversky\",\"cosine\",\"cosine\",\"cosine\",\"cosine\",\"cosine\",\"cosine\",\"cosine\",\"cosine\",\"asymmetric\",\"cosine\",\"tversky\",\"cosine\",\"cosine\",\"cosine\",\"cosine\",\"jaccard\",\"cosine\",\"cosine\",\"cosine\",\"cosine\",\"cosine\",\"cosine\",\"cosine\",\"cosine\",\"cosine\",\"tversky\",\"cosine\",\"cosine\",\"cosine\",\"euclidean\",\"cosine\",\"cosine\",\"cosine\",\"cosine\",\"cosine\",\"cosine\",\"dice\",\"cosine\",\"cosine\",\"tversky\",\"tversky\",\"tversky\",\"tversky\",\"tversky\",\"tversky\",\"tversky\",\"tversky\",\"tversky\",\"tversky\",\"tversky\",\"tversky\",\"tversky\",\"tversky\",\"tversky\",\"tversky\",\"tversky\",\"tversky\",\"tversky\",\"tversky\",\"tversky\",\"tversky\",\"tversky\",\"tversky\",\"tversky\",\"tversky\",\"tversky\",\"tversky\",\"tversky\",\"tversky\",\"tversky\",\"tversky\",\"tversky\",\"tversky\",\"tversky\",\"tversky\",\"tversky\",\"tversky\",\"tversky\",\"tversky\",\"tversky\",\"tversky\",\"tversky\",\"tversky\",\"tversky\",\"tversky\",\"tversky\",\"tversky\",\"tversky\",\"tversky\",\"tversky\",\"tversky\",\"tversky\",\"tversky\",\"tversky\",\"tversky\",\"tversky\",\"tversky\",\"tversky\",\"tversky\",\"tversky\",\"tversky\",\"tversky\",\"tversky\",\"tversky\",\"tversky\",\"tversky\",\"tversky\",\"tversky\",\"tversky\",\"tversky\",\"tversky\",\"tversky\",\"tversky\",\"tversky\",\"tversky\",\"tversky\",\"tversky\",\"tversky\",\"tversky\",\"tversky\",\"tversky\",\"tversky\",\"tversky\",\"tversky\",\"tversky\",\"asymmetric\",\"tversky\",\"tversky\",\"tversky\",\"tversky\",\"tversky\",\"tversky\",\"tversky\",\"tversky\",\"tversky\",\"tversky\",\"tversky\",\"tversky\",\"jaccard\",\"tversky\",\"tversky\",\"tversky\",\"tversky\",\"tversky\",\"tversky\",\"tversky\",\"tversky\",\"euclidean\",\"tversky\",\"dice\",\"tversky\",\"tversky\",\"tversky\",\"tversky\",\"tversky\",\"tversky\",\"tversky\",\"tversky\",\"tversky\",\"tversky\",\"tversky\",\"tversky\",\"tversky\",\"jaccard\",\"tversky\",\"asymmetric\",\"tversky\",\"tversky\",\"tversky\",\"tversky\",\"tversky\",\"tversky\",\"tversky\",\"euclidean\",\"tversky\",\"tversky\",\"tversky\",\"dice\",\"tversky\",\"tversky\",\"tversky\",\"tversky\",\"tversky\",\"tversky\",\"tversky\",\"tversky\",\"tversky\",\"asymmetric\",\"tversky\",\"tversky\",\"tversky\",\"tversky\",\"tversky\",\"jaccard\",\"tversky\",\"tversky\",\"tversky\",\"tversky\",\"tversky\",\"tversky\",\"euclidean\",\"tversky\",\"tversky\",\"tversky\",\"tversky\",\"tversky\",\"dice\",\"tversky\",\"tversky\",\"tversky\",\"tversky\",\"tversky\",\"tversky\",\"tversky\",\"asymmetric\",\"tversky\",\"tversky\",\"tversky\",\"jaccard\",\"tversky\",\"tversky\",\"tversky\",\"tversky\",\"tversky\",\"tversky\",\"tversky\",\"tversky\",\"euclidean\",\"tversky\",\"tversky\",\"tversky\",\"tversky\",\"dice\",\"tversky\",\"tversky\",\"tversky\",\"tversky\",\"tversky\",\"tversky\",\"tversky\",\"tversky\",\"asymmetric\",\"tversky\",\"tversky\",\"tversky\",\"jaccard\",\"tversky\",\"tversky\",\"tversky\",\"tversky\",\"tversky\",\"tversky\",\"tversky\",\"tversky\",\"tversky\",\"euclidean\",\"tversky\",\"tversky\",\"dice\",\"tversky\",\"tversky\",\"tversky\",\"tversky\",\"tversky\",\"tversky\",\"tversky\",\"tversky\",\"tversky\",\"tversky\",\"asymmetric\",\"tversky\",\"tversky\",\"tversky\",\"jaccard\",\"tversky\",\"tversky\",\"tversky\",\"tversky\",\"tversky\",\"tversky\",\"tversky\",\"tversky\",\"tversky\",\"euclidean\",\"tversky\",\"dice\",\"tversky\",\"tversky\",\"tversky\",\"tversky\",\"tversky\",\"tversky\",\"tversky\",\"tversky\",\"tversky\",\"tversky\",\"tversky\",\"asymmetric\",\"tversky\",\"tversky\",\"tversky\",\"tversky\",\"jaccard\",\"tversky\",\"tversky\",\"tversky\",\"tversky\",\"tversky\",\"tversky\",\"euclidean\",\"tversky\",\"tversky\",\"dice\",\"tversky\",\"tversky\",\"tversky\",\"tversky\",\"tversky\",\"tversky\",\"tversky\",\"tversky\",\"tversky\",\"tversky\",\"asymmetric\",\"tversky\",\"tversky\",\"tversky\",\"jaccard\",\"tversky\",\"tversky\",\"tversky\",\"tversky\",\"tversky\",\"tversky\",\"tversky\",\"tversky\",\"euclidean\",\"tversky\",\"tversky\",\"dice\",\"tversky\",\"tversky\",\"tversky\",\"tversky\",\"tversky\",\"tversky\",\"tversky\",\"tversky\",\"tversky\",\"tversky\",\"asymmetric\",\"tversky\",\"tversky\",\"tversky\",\"tversky\",\"jaccard\",\"tversky\",\"tversky\",\"tversky\",\"tversky\",\"tversky\",\"tversky\",\"tversky\",\"euclidean\",\"tversky\",\"tversky\",\"dice\",\"tversky\",\"tversky\",\"tversky\",\"tversky\",\"tversky\",\"tversky\",\"tversky\",\"tversky\",\"tversky\",\"tversky\",\"asymmetric\",\"tversky\",\"tversky\",\"tversky\",\"jaccard\",\"tversky\",\"tversky\",\"tversky\",\"tversky\",\"tversky\",\"tversky\",\"tversky\",\"euclidean\",\"tversky\",\"tversky\",\"tversky\",\"dice\",\"tversky\",\"tversky\",\"tversky\",\"tversky\",\"tversky\",\"tversky\",\"tversky\",\"tversky\",\"tversky\",\"asymmetric\",\"tversky\",\"tversky\",\"tversky\",\"jaccard\",\"tversky\",\"tversky\",\"tversky\",\"tversky\",\"tversky\",\"tversky\",\"tversky\",\"tversky\",\"euclidean\",\"tversky\",\"tversky\",\"dice\",\"tversky\",\"tversky\",\"tversky\",\"tversky\",\"tversky\",\"tversky\",\"tversky\",\"tversky\",\"tversky\",\"tversky\",\"tversky\",\"asymmetric\",\"tversky\",\"tversky\",\"tversky\",\"jaccard\",\"tversky\",\"tversky\",\"tversky\",\"tversky\",\"tversky\",\"tversky\",\"tversky\",\"tversky\",\"euclidean\",\"tversky\",\"tversky\",\"dice\",\"tversky\",\"tversky\"],\"y\":[0.03847803567849229,0.04171964497081084,0.045075083416706754,0.03969241243666473,0.015505116638520241,0.03390989215925825,0.04208916606138639,0.03992089568563728,0.03689398166065726,0.0419195619113201,0.04286446311593473,0.04370869088626762,0.03922014699048953,0.03898220646002158,0.04522533432718656,0.045419613559969596,0.033276953099928765,0.044603421446640534,0.009585828606819929,0.04603685469227625,0.036478533171880455,0.04936385234454629,0.04884736351921455,0.05167910318356951,0.051299149203227944,0.048890057353751605,0.04422724678859554,0.04010564854729204,0.018002904416695022,0.034522039692480196,0.044599477795545094,0.04921190880610869,0.050085003730726205,0.04670507928914593,0.04774758311109263,0.04624842492671421,0.018499769450536042,0.0471228279082221,0.04704902406361122,0.039014626607979955,0.046365675679190935,0.048154934413874154,0.047921209852360445,0.0516509302410396,0.03591129786809708,0.041083810657646824,0.04402098719895735,0.019161143155815477,0.04561184037203904,0.03602128500231943,0.03458822598741253,0.04784897708922793,0.04820380943479764,0.041976571864759823,0.04740382442291594,0.045051453542955366,0.04648504130021554,0.0469879804783168,0.048461992727442914,0.042413896090541955,0.049028092198309045,0.04919733821484708,0.048179967153130845,0.04694401449089732,0.04954915876216106,0.0002664826418719655,0.0395961476902804,0.02765333913833305,0.04249586982388426,0.04387294658296601,0.022658722357174747,0.049331885341930864,0.049934388763156416,0.04844238489569648,0.04950439674902438,0.047842500622259865,0.047141583913202785,0.044330265171293334,0.04507506180411467,0.042850527787547776,0.042630380128308054,0.04933324510119477,0.0481437214970748,0.04975391008487637,0.04686650492269808,0.04726198463493369,0.04656591531270172,0.04282694024513882,0.03238459417420321,0.047910376227795134,0.03642232578734297,0.0494451147008956,0.0002664826418719655,0.049154679926459895,0.04736466281198917,0.049376702406276715,0.04834581653075937,0.04057861037770286,0.05031477680681584,0.05037676712344134,0.04800919581518322,0.04963598798308874,0.0002664826418719655,0.049504241473341926,0.04751151390853433,0.043710622878157565,0.04793737819207235,0.04664669663710096,0.0466421111068875,0.05014495286754074,0.05001918540506721,0.04937054806796139,0.04853121084630373,0.0002664826418719655,0.04086167291275695,0.04711551945335192,0.048255655760942956,0.04232723894120498,0.04212373222017858,0.021211838801501057,0.046355664992873455,0.04879863008544178,0.050289612360944605,0.05094557622011079,0.05141379116754542,0.045043685195053494,0.0421953998415494,0.04824104595311586,0.04536433696221219,0.04804893042642694,0.047355889084013954,0.04994099064968518,0.04844011894775917,0.05072062948872008,0.05167499647934026,0.0002664826418719655,0.047950622301437665,0.047706655214182506,0.04858543575580961,0.0002664826418719655,0.047096205258541024,0.049633379649968196,0.04980878259305179,0.04851957081257526,0.0002664826418719655,0.044756911256342055,0.02784785793175936,0.04847850697449875,0.047116810660729994,0.04318529427697464,0.04837693138361469,0.05005289223297421,0.04983953922684468,0.048081317213503866,0.04739143116001597,0.050711091356320306,0.0423139061213198,0.04850785022691531,0.009216016064248595,0.04782418485527614,0.0002664826418719655,0.049024305900822816,0.04964787000215071,0.04821691192237398,0.04766757359625482,0.049898896364941756,0.04866275228073952,0.050339485124901585,0.04805792166950668,0.03807168129783852,0.04801868844605957,0.04989307820097129,0.04862042917789884,0.0002664826418719655,0.04872917207550892,0.0421431333588106,0.050170333522096044,0.04282836807235073,0.04991526231617852,0.028107451890721297,0.0002664826418719655,0.04993257210734363,0.04898506243922583,0.04955189791234907,0.048159910345721285,0.04999742933612483,0.04651908289037322,0.048688769926603,0.05017736655787099,0.052770132207501916,0.044920360081063405,0.05053286852839014,0.0002664826418719655,0.050562791169713586,0.05031125284117284,0.04990563145551257,0.05112802526300825,0.04885511508997322,0.05069920295812504,0.04950766943167519,0.050427546154826045,0.05069072979215204,0.05073869298991869,0.04989507028462124,0.049972583889434,0.04700001020406326,0.0512353018267241,0.04827784121151514,0.05104263186459542,0.05092531802018609,0.050869259929248144,0.05073879495247531,0.049012160319736396,0.05039360254194376,0.050921486747334446,0.04891709249337225,0.04711571482008757,0.04995752837612295,0.04922041848900541,0.05102792024432849,0.04973127692293931,0.05038853822528087,0.05126283537418349,0.051778250982194365,0.05169413881766273,0.050889642540877744,0.05130924006573032,0.05112273381674017,0.048247156201741616,0.05121506243504324,0.05051766722476123,0.05124083401322201,0.050911436434536786,0.05107694519486827,0.05080826109915465,0.04784381402931958,0.04868276479117052,0.050435703298782,0.05143864758675326,0.05238586893488721,0.051812229848526695,0.05235041859328893,0.0002664826418719655,0.052734651923476726,0.052749727917604794,0.0002664826418719655,0.05119815890180516,0.05287919963207016,0.05223501429331294,0.051298554172739305,0.05135107591876845,0.04254372298438136,0.053134600182737454,0.052909503083440244,0.0002664826418719655,0.03920845351012365,0.05275915171373006,0.05319752032663925,0.053035294599967545,0.041507624622074385,0.053230998474819435,0.05318001901092788,0.04641161061905724,0.053037738820821044,0.0002664826418719655,0.05312387900539119,0.0529325066441798,0.05351701566277965,0.053314355858730775,0.03307219962532294,0.05178013728169698,0.049045059421762065,0.05127462047917321,0.029566477782746063,0.0002664826418719655,0.02873532901480332,0.05091777583110446,0.05267623074832051,0.05318563606780051,0.03804079968142458,0.048897001938809,0.05300323925642245,0.03690790987867579,0.052648941574855224,0.05306271583010617,0.05263656227082064,0.048891441644559844,0.053398304472673463,0.0002664826418719655,0.05272727050856829,0.052834820688102344,0.04848977138583462,0.052674484024547705,0.04040126154027886,0.04890841429102853,0.0002664826418719655,0.03911269935383791,0.0002664826418719655,0.040218770111744254,0.04916640282816878,0.047323777618326984,0.052218659379927014,0.0002664826418719655,0.0488647275039855,0.050529757918228224,0.047743133713452346,0.030807682327581472,0.04936410099543398,0.05293868035823385,0.0002664826418719655,0.04265414117226195,0.048691379157994576,0.045019433248485036,0.04772679808345506,0.04883103346022026,0.04602518466429443,0.0002664826418719655,0.05084333155381747,0.04915832064079717,0.05034803846721865,0.05332291730899048,0.05021782525860478,0.0002664826418719655,0.030700959376724242,0.03892928588716499,0.03888675349644569,0.03851616520440891,0.04194539938141715,0.05212252852978096,0.049119631837963154,0.05318691699897445,0.04859005646792183,0.051068356184236205,0.047562021882130046,0.048584741000029706,0.043302073935299466,0.051398648188950694,0.030110588435945503,0.04405993648353966,0.051167828048413355,0.04902288614972887,0.0002664826418719655,0.0477290652407735,0.05009965070172061,0.03672381871723387,0.05115571159589503,0.05190464757486465,0.050247743921605095,0.0002664826418719655,0.046151171893206104,0.028730403330002617,0.05228112223311544,0.04005070835123643,0.0002664826418719655,0.048282279597252786,0.051259577771329536,0.04780772231426175,0.049442899187413444,0.04431384850474095,0.051137952942888254,0.039108616243827964,0.05318697410454916,0.04983285667641849,0.05172419486866692,0.04619939186223303,0.051540571067009634,0.03492244675424558,0.04656199182493171,0.04707263653009917,0.0002664826418719655,0.04040000862559073,0.04941823080124984,0.05239761587862009,0.04730642709610305,0.0002664826418719655,0.048651239718197604,0.05129266217579649,0.032833428871407125,0.05221626161352992,0.05062357831681236,0.048755892234960733,0.045554569718085844,0.0002664826418719655,0.049076559093286454,0.05259571933291268,0.048391519477274256,0.05141879854179728,0.0002664826418719655,0.04845640169812706,0.0503645963501691,0.05154465609281805,0.04427639486010794,0.0448004959333929,0.05125224959235103,0.05288545887397246,0.04811730227993134,0.0002664826418719655,0.05191662902991125,0.04962726571595453,0.04810938304912923,0.05296297056819297,0.05180491511054517,0.050212445949555984,0.04890254911014445,0.05234266206143654,0.027849120432293224,0.050635049291986776,0.0002664826418719655,0.0002664826418719655,0.04935880437197928,0.050337888151667606,0.05271727528864534,0.05030022352294915,0.0002664826418719655,0.051399042321652356,0.046372146682097506,0.048470575750490075,0.041358792111946055,0.053440919475009716,0.044915015556158844,0.05281217814385904,0.04331215651401088,0.05253748276025958,0.04857496393632387,0.04425798564934068,0.04710099530879066,0.041513886514609244,0.0002664826418719655,0.05153650500853167,0.0413814368881109,0.05293386835462682,0.051505793004816405,0.05013509185909866,0.0002664826418719655,0.04622433142565943,0.049192538958732546,0.04502763916786962,0.04089592858793144,0.049663721791680646,0.05361580072200237,0.042880406262806404,0.051764175618139875,0.04996687129806965,0.05309876346600399,0.05208959080168705,0.04819016395472467,0.05173151421895898,0.0332164579762767,0.04542961201528556,0.04945981344926281,0.051272687098616,0.04136819611249676,0.04771138846898006,0.03730757347010795,0.05193540120163074,0.05150349128656599,0.0002664826418719655,0.048856619574973156,0.05246490079806654,0.0363869049531436,0.04630766305991406,0.048542913410308586,0.043000346902693824,0.0002664826418719655,0.047971350034539915,0.0512365339248295,0.0471130480974944,0.05180599886021879,0.04794928076435541,0.04922496437467692,0.03877750455160117,0.04622192481497488,0.028827641260177762,0.027108177075152597,0.0002664826418719655,0.04854649172099616,0.051008469219300065,0.049792454890957356,0.0002664826418719655,0.050658884879932795,0.052221667266549664,0.04557100466468172,0.040090244271104386,0.048496934817184464,0.05124023252683356,0.036583371468352624,0.0002664826418719655,0.03792006644941233,0.052014935214057666,0.04921450787188851,0.0439678178446707,0.04967667521931751,0.0002664826418719655,0.03650330673705708,0.046176491016543655,0.05158376932768675,0.050375563530703736,0.04242973024441829,0.052328148424006085,0.05158648018198912,0.028631966522537394,0.0002664826418719655,0.04999393703363369,0.04686489303798978,0.047929378891386425,0.0481529481940849,0.0002664826418719655,0.03953733321841382,0.052180141420665294,0.04921039616716356,0.05311833105802607,0.05157996461084506,0.04977811200934375,0.03007961611014704,0.0002664826418719655,0.036812778719327054,0.04856933706904039,0.051602319030247014,0.0502605952274786,0.04634047165358032,0.05167357984499814,0.05066950142647218,0.05015219477999364,0.0521576167736863,0.05180483292633777,0.05009680986919104,0.05111198514739097,0.0002664826418719655,0.049768631605415475,0.04875747549619527,0.048555899134284805,0.05009556549279441,0.0002664826418719655,0.049983666336285634,0.052600758737133026,0.05025658636288395,0.050045824625647696,0.0002664826418719655,0.039672465218226885,0.027990681242802695,0.04435376990084117,0.04844613365408987,0.0002664826418719655,0.048240066311063576,0.05033356065762047,0.051214391085340684,0.04757572449882931,0.03961121904414174,0.05077600425113493,0.047619028800789734,0.0002664826418719655,0.0507964940485857,0.05008005528959415,0.029807659888788484,0.048035245112424414,0.04825499951116241,0.05229717025221929,0.049923661378002096,0.0002664826418719655,0.043648440458101435,0.05183115990198335,0.046575178227840575,0.04988289712739887,0.0002664826418719655,0.046210046758576664,0.05211719728194486,0.029409687326402145,0.04963474414587704,0.039645812531516174,0.0002664826418719655,0.04341199067039195,0.05240471082588213,0.05051452717471479,0.03756733949573581,0.04036492226413317,0.04025202934604542,0.04703273247509769,0.044686525570280945,0.05333110785286134,0.05273538823004513,0.0495071956071515,0.0002664826418719655,0.049258425677882994,0.0491335585003424,0.04861624611865848,0.0002664826418719655,0.05058911851334339,0.04941301598198733,0.052907683135904014,0.0454891673438782,0.0002664826418719655,0.05003115151520003,0.05326352251182716,0.05185482550943608,0.03292793995440958,0.04942874348265826,0.05041359499301094,0.04225762612967833,0.03745020863366255,0.05328761396085981],\"type\":\"scatter\",\"xaxis\":\"x6\",\"yaxis\":\"y6\"},{\"marker\":{\"color\":[4,5,28,37,47,67,88,119,146,179,297,323,350,377,405,433,459,486,513,539,566,594],\"colorbar\":{\"title\":{\"text\":\"Trial\"},\"x\":1.0,\"xpad\":40},\"colorscale\":[[0.0,\"rgb(247,251,255)\"],[0.125,\"rgb(222,235,247)\"],[0.25,\"rgb(198,219,239)\"],[0.375,\"rgb(158,202,225)\"],[0.5,\"rgb(107,174,214)\"],[0.625,\"rgb(66,146,198)\"],[0.75,\"rgb(33,113,181)\"],[0.875,\"rgb(8,81,156)\"],[1.0,\"rgb(8,48,107)\"]],\"line\":{\"color\":\"Grey\",\"width\":0.5},\"showscale\":false},\"mode\":\"markers\",\"name\":\"Feasible Trial\",\"showlegend\":false,\"x\":[\"lin\",\"log\",\"exp\",\"lin\",\"log\",\"exp\",\"log\",\"exp\",\"lin\",\"lin\",\"exp\",\"log\",\"exp\",\"log\",\"lin\",\"exp\",\"lin\",\"log\",\"exp\",\"log\",\"lin\",\"lin\"],\"y\":[0.015505116638520241,0.03390989215925825,0.018002904416695022,0.0471228279082221,0.019161143155815477,0.02765333913833305,0.03238459417420321,0.021211838801501057,0.02784785793175936,0.028107451890721297,0.0002664826418719655,0.030700959376724242,0.028730403330002617,0.032833428871407125,0.027849120432293224,0.0002664826418719655,0.0363869049531436,0.0002664826418719655,0.03007961611014704,0.027990681242802695,0.029409687326402145,0.03292793995440958],\"type\":\"scatter\",\"xaxis\":\"x7\",\"yaxis\":\"y7\"},{\"marker\":{\"color\":[0,1,2,3,4,5,6,7,8,9,10,11,12,13,14,15,16,17,18,19,20,21,22,23,24,25,26,27,28,29,30,31,32,33,34,35,36,37,38,39,40,41,42,43,44,45,46,47,48,49,50,51,52,53,54,55,56,57,58,59,60,61,62,63,64,65,66,67,68,69,70,71,72,73,74,75,76,77,78,79,80,81,82,83,84,85,86,87,88,89,90,91,92,93,94,95,96,97,98,99,100,101,102,103,104,105,106,107,108,109,110,111,112,113,114,115,116,117,118,119,120,121,122,123,124,125,126,127,128,129,130,131,132,133,134,135,136,137,138,139,140,141,142,143,144,145,146,147,148,149,150,151,152,153,154,155,156,157,158,159,160,161,162,163,164,165,166,167,168,169,170,171,172,173,174,175,176,177,178,179,180,181,182,183,184,185,186,187,188,189,190,191,192,193,194,195,196,197,198,199,200,201,202,203,204,205,206,207,208,209,210,211,212,213,214,215,216,217,218,219,220,221,222,223,224,225,226,227,228,229,230,231,232,233,234,235,236,237,238,239,240,241,242,243,244,245,246,247,248,249,250,251,252,253,254,255,256,257,258,259,260,261,262,263,264,265,266,267,268,269,270,271,272,273,274,275,276,277,278,279,280,281,282,283,284,285,286,287,288,289,290,291,292,293,294,295,296,297,298,299,300,301,302,303,304,305,306,307,308,309,310,311,312,313,314,315,316,317,318,319,320,321,322,323,324,325,326,327,328,329,330,331,332,333,334,335,336,337,338,339,340,341,342,343,344,345,346,347,348,349,350,351,352,353,354,355,356,357,358,359,360,361,362,363,364,365,366,367,368,369,370,371,372,373,374,375,376,377,378,379,380,381,382,383,384,385,386,387,388,389,390,391,392,393,394,395,396,397,398,399,400,401,402,403,404,405,406,407,408,409,410,411,412,413,414,415,416,417,418,419,420,421,422,423,424,425,426,427,428,429,430,431,432,433,434,435,436,437,438,439,440,441,442,443,444,445,446,447,448,449,450,451,452,453,454,455,456,457,458,459,460,461,462,463,464,465,466,467,468,469,470,471,472,473,474,475,476,477,478,479,480,481,482,483,484,485,486,487,488,489,490,491,492,493,494,495,496,497,498,499,500,501,502,503,504,505,506,507,508,509,510,511,512,513,514,515,516,517,518,519,520,521,522,523,524,525,526,527,528,529,530,531,532,533,534,535,536,537,538,539,540,541,542,543,544,545,546,547,548,549,550,551,552,553,554,555,556,557,558,559,560,561,562,563,564,565,566,567,568,569,570,571,572,573,574,575,576,577,578,579,580,581,582,583,584,585,586,587,588,589,590,591,592,593,594,595,596,597,598,599],\"colorbar\":{\"title\":{\"text\":\"Trial\"},\"x\":1.0,\"xpad\":40},\"colorscale\":[[0.0,\"rgb(247,251,255)\"],[0.125,\"rgb(222,235,247)\"],[0.25,\"rgb(198,219,239)\"],[0.375,\"rgb(158,202,225)\"],[0.5,\"rgb(107,174,214)\"],[0.625,\"rgb(66,146,198)\"],[0.75,\"rgb(33,113,181)\"],[0.875,\"rgb(8,81,156)\"],[1.0,\"rgb(8,48,107)\"]],\"line\":{\"color\":\"Grey\",\"width\":0.5},\"showscale\":false},\"mode\":\"markers\",\"name\":\"Feasible Trial\",\"showlegend\":false,\"x\":[722,95,348,544,720,54,127,249,618,199,400,393,367,410,299,277,250,507,284,165,170,20,25,6,6,20,93,2,81,140,57,17,12,95,56,120,197,5,71,732,123,34,46,4,1,102,656,456,59,163,208,38,29,1,69,334,106,136,31,75,25,23,51,87,18,0,150,109,52,547,77,21,15,38,19,62,88,14,2,45,185,21,42,18,118,69,91,15,42,56,221,20,0,26,75,19,33,61,11,10,42,15,0,15,54,678,40,101,81,9,10,13,34,0,428,63,33,572,313,10,50,27,12,8,7,46,1,33,68,11,53,13,30,9,4,0,36,47,28,0,64,14,17,28,0,371,44,14,76,497,28,13,14,40,55,10,1,27,12,40,0,24,16,35,54,13,27,12,45,1,62,15,24,0,29,256,12,44,13,34,0,14,24,15,38,13,51,26,11,11,1,32,0,33,38,39,32,66,33,54,31,31,31,35,47,69,30,79,32,29,29,31,50,30,32,56,91,31,61,30,45,28,28,25,24,25,21,22,50,22,25,21,24,21,22,49,45,23,24,19,19,18,0,15,16,0,15,14,18,16,14,1,14,15,0,393,16,13,14,12,12,12,1,14,0,12,13,11,12,1,13,46,15,711,0,43,15,14,14,593,45,15,472,15,12,14,42,10,0,13,12,43,13,12,40,0,57,0,290,12,39,13,0,37,17,61,352,37,15,0,21,38,226,16,54,27,0,16,38,24,13,38,0,53,641,25,532,313,16,34,12,68,12,28,51,1,26,40,167,12,24,0,46,13,429,30,14,38,0,60,25,14,264,0,46,28,18,36,145,11,27,14,48,24,68,11,750,1,38,0,24,39,17,54,0,29,15,39,14,26,50,78,0,27,15,38,13,0,62,30,16,46,192,25,12,35,0,14,26,49,13,11,35,24,12,60,33,0,0,44,22,14,37,0,26,13,48,23,11,35,11,65,12,28,1,50,215,0,25,40,13,22,38,0,57,16,123,82,29,12,237,24,44,13,13,34,12,26,1,48,24,408,40,59,11,26,0,37,13,23,1,35,14,0,50,24,68,15,37,14,28,56,491,16,0,41,27,14,0,32,14,53,575,39,25,355,0,72,22,15,44,31,0,689,98,14,30,47,12,25,331,0,14,40,56,25,0,616,15,36,14,26,43,58,0,440,22,14,36,73,12,29,44,13,23,33,12,0,26,56,44,12,0,27,15,39,24,0,176,54,12,31,0,23,39,14,67,391,24,46,0,19,32,13,49,34,12,13,0,32,23,59,38,0,80,20,12,48,27,0,36,14,23,538,43,12,64,29,13,16,40,0,25,52,13,0,34,24,12,50,0,29,13,23,13,40,34,277,521,12],\"y\":[0.03847803567849229,0.04171964497081084,0.045075083416706754,0.03969241243666473,0.015505116638520241,0.03390989215925825,0.04208916606138639,0.03992089568563728,0.03689398166065726,0.0419195619113201,0.04286446311593473,0.04370869088626762,0.03922014699048953,0.03898220646002158,0.04522533432718656,0.045419613559969596,0.033276953099928765,0.044603421446640534,0.009585828606819929,0.04603685469227625,0.036478533171880455,0.04936385234454629,0.04884736351921455,0.05167910318356951,0.051299149203227944,0.048890057353751605,0.04422724678859554,0.04010564854729204,0.018002904416695022,0.034522039692480196,0.044599477795545094,0.04921190880610869,0.050085003730726205,0.04670507928914593,0.04774758311109263,0.04624842492671421,0.018499769450536042,0.0471228279082221,0.04704902406361122,0.039014626607979955,0.046365675679190935,0.048154934413874154,0.047921209852360445,0.0516509302410396,0.03591129786809708,0.041083810657646824,0.04402098719895735,0.019161143155815477,0.04561184037203904,0.03602128500231943,0.03458822598741253,0.04784897708922793,0.04820380943479764,0.041976571864759823,0.04740382442291594,0.045051453542955366,0.04648504130021554,0.0469879804783168,0.048461992727442914,0.042413896090541955,0.049028092198309045,0.04919733821484708,0.048179967153130845,0.04694401449089732,0.04954915876216106,0.0002664826418719655,0.0395961476902804,0.02765333913833305,0.04249586982388426,0.04387294658296601,0.022658722357174747,0.049331885341930864,0.049934388763156416,0.04844238489569648,0.04950439674902438,0.047842500622259865,0.047141583913202785,0.044330265171293334,0.04507506180411467,0.042850527787547776,0.042630380128308054,0.04933324510119477,0.0481437214970748,0.04975391008487637,0.04686650492269808,0.04726198463493369,0.04656591531270172,0.04282694024513882,0.03238459417420321,0.047910376227795134,0.03642232578734297,0.0494451147008956,0.0002664826418719655,0.049154679926459895,0.04736466281198917,0.049376702406276715,0.04834581653075937,0.04057861037770286,0.05031477680681584,0.05037676712344134,0.04800919581518322,0.04963598798308874,0.0002664826418719655,0.049504241473341926,0.04751151390853433,0.043710622878157565,0.04793737819207235,0.04664669663710096,0.0466421111068875,0.05014495286754074,0.05001918540506721,0.04937054806796139,0.04853121084630373,0.0002664826418719655,0.04086167291275695,0.04711551945335192,0.048255655760942956,0.04232723894120498,0.04212373222017858,0.021211838801501057,0.046355664992873455,0.04879863008544178,0.050289612360944605,0.05094557622011079,0.05141379116754542,0.045043685195053494,0.0421953998415494,0.04824104595311586,0.04536433696221219,0.04804893042642694,0.047355889084013954,0.04994099064968518,0.04844011894775917,0.05072062948872008,0.05167499647934026,0.0002664826418719655,0.047950622301437665,0.047706655214182506,0.04858543575580961,0.0002664826418719655,0.047096205258541024,0.049633379649968196,0.04980878259305179,0.04851957081257526,0.0002664826418719655,0.044756911256342055,0.02784785793175936,0.04847850697449875,0.047116810660729994,0.04318529427697464,0.04837693138361469,0.05005289223297421,0.04983953922684468,0.048081317213503866,0.04739143116001597,0.050711091356320306,0.0423139061213198,0.04850785022691531,0.009216016064248595,0.04782418485527614,0.0002664826418719655,0.049024305900822816,0.04964787000215071,0.04821691192237398,0.04766757359625482,0.049898896364941756,0.04866275228073952,0.050339485124901585,0.04805792166950668,0.03807168129783852,0.04801868844605957,0.04989307820097129,0.04862042917789884,0.0002664826418719655,0.04872917207550892,0.0421431333588106,0.050170333522096044,0.04282836807235073,0.04991526231617852,0.028107451890721297,0.0002664826418719655,0.04993257210734363,0.04898506243922583,0.04955189791234907,0.048159910345721285,0.04999742933612483,0.04651908289037322,0.048688769926603,0.05017736655787099,0.052770132207501916,0.044920360081063405,0.05053286852839014,0.0002664826418719655,0.050562791169713586,0.05031125284117284,0.04990563145551257,0.05112802526300825,0.04885511508997322,0.05069920295812504,0.04950766943167519,0.050427546154826045,0.05069072979215204,0.05073869298991869,0.04989507028462124,0.049972583889434,0.04700001020406326,0.0512353018267241,0.04827784121151514,0.05104263186459542,0.05092531802018609,0.050869259929248144,0.05073879495247531,0.049012160319736396,0.05039360254194376,0.050921486747334446,0.04891709249337225,0.04711571482008757,0.04995752837612295,0.04922041848900541,0.05102792024432849,0.04973127692293931,0.05038853822528087,0.05126283537418349,0.051778250982194365,0.05169413881766273,0.050889642540877744,0.05130924006573032,0.05112273381674017,0.048247156201741616,0.05121506243504324,0.05051766722476123,0.05124083401322201,0.050911436434536786,0.05107694519486827,0.05080826109915465,0.04784381402931958,0.04868276479117052,0.050435703298782,0.05143864758675326,0.05238586893488721,0.051812229848526695,0.05235041859328893,0.0002664826418719655,0.052734651923476726,0.052749727917604794,0.0002664826418719655,0.05119815890180516,0.05287919963207016,0.05223501429331294,0.051298554172739305,0.05135107591876845,0.04254372298438136,0.053134600182737454,0.052909503083440244,0.0002664826418719655,0.03920845351012365,0.05275915171373006,0.05319752032663925,0.053035294599967545,0.041507624622074385,0.053230998474819435,0.05318001901092788,0.04641161061905724,0.053037738820821044,0.0002664826418719655,0.05312387900539119,0.0529325066441798,0.05351701566277965,0.053314355858730775,0.03307219962532294,0.05178013728169698,0.049045059421762065,0.05127462047917321,0.029566477782746063,0.0002664826418719655,0.02873532901480332,0.05091777583110446,0.05267623074832051,0.05318563606780051,0.03804079968142458,0.048897001938809,0.05300323925642245,0.03690790987867579,0.052648941574855224,0.05306271583010617,0.05263656227082064,0.048891441644559844,0.053398304472673463,0.0002664826418719655,0.05272727050856829,0.052834820688102344,0.04848977138583462,0.052674484024547705,0.04040126154027886,0.04890841429102853,0.0002664826418719655,0.03911269935383791,0.0002664826418719655,0.040218770111744254,0.04916640282816878,0.047323777618326984,0.052218659379927014,0.0002664826418719655,0.0488647275039855,0.050529757918228224,0.047743133713452346,0.030807682327581472,0.04936410099543398,0.05293868035823385,0.0002664826418719655,0.04265414117226195,0.048691379157994576,0.045019433248485036,0.04772679808345506,0.04883103346022026,0.04602518466429443,0.0002664826418719655,0.05084333155381747,0.04915832064079717,0.05034803846721865,0.05332291730899048,0.05021782525860478,0.0002664826418719655,0.030700959376724242,0.03892928588716499,0.03888675349644569,0.03851616520440891,0.04194539938141715,0.05212252852978096,0.049119631837963154,0.05318691699897445,0.04859005646792183,0.051068356184236205,0.047562021882130046,0.048584741000029706,0.043302073935299466,0.051398648188950694,0.030110588435945503,0.04405993648353966,0.051167828048413355,0.04902288614972887,0.0002664826418719655,0.0477290652407735,0.05009965070172061,0.03672381871723387,0.05115571159589503,0.05190464757486465,0.050247743921605095,0.0002664826418719655,0.046151171893206104,0.028730403330002617,0.05228112223311544,0.04005070835123643,0.0002664826418719655,0.048282279597252786,0.051259577771329536,0.04780772231426175,0.049442899187413444,0.04431384850474095,0.051137952942888254,0.039108616243827964,0.05318697410454916,0.04983285667641849,0.05172419486866692,0.04619939186223303,0.051540571067009634,0.03492244675424558,0.04656199182493171,0.04707263653009917,0.0002664826418719655,0.04040000862559073,0.04941823080124984,0.05239761587862009,0.04730642709610305,0.0002664826418719655,0.048651239718197604,0.05129266217579649,0.032833428871407125,0.05221626161352992,0.05062357831681236,0.048755892234960733,0.045554569718085844,0.0002664826418719655,0.049076559093286454,0.05259571933291268,0.048391519477274256,0.05141879854179728,0.0002664826418719655,0.04845640169812706,0.0503645963501691,0.05154465609281805,0.04427639486010794,0.0448004959333929,0.05125224959235103,0.05288545887397246,0.04811730227993134,0.0002664826418719655,0.05191662902991125,0.04962726571595453,0.04810938304912923,0.05296297056819297,0.05180491511054517,0.050212445949555984,0.04890254911014445,0.05234266206143654,0.027849120432293224,0.050635049291986776,0.0002664826418719655,0.0002664826418719655,0.04935880437197928,0.050337888151667606,0.05271727528864534,0.05030022352294915,0.0002664826418719655,0.051399042321652356,0.046372146682097506,0.048470575750490075,0.041358792111946055,0.053440919475009716,0.044915015556158844,0.05281217814385904,0.04331215651401088,0.05253748276025958,0.04857496393632387,0.04425798564934068,0.04710099530879066,0.041513886514609244,0.0002664826418719655,0.05153650500853167,0.0413814368881109,0.05293386835462682,0.051505793004816405,0.05013509185909866,0.0002664826418719655,0.04622433142565943,0.049192538958732546,0.04502763916786962,0.04089592858793144,0.049663721791680646,0.05361580072200237,0.042880406262806404,0.051764175618139875,0.04996687129806965,0.05309876346600399,0.05208959080168705,0.04819016395472467,0.05173151421895898,0.0332164579762767,0.04542961201528556,0.04945981344926281,0.051272687098616,0.04136819611249676,0.04771138846898006,0.03730757347010795,0.05193540120163074,0.05150349128656599,0.0002664826418719655,0.048856619574973156,0.05246490079806654,0.0363869049531436,0.04630766305991406,0.048542913410308586,0.043000346902693824,0.0002664826418719655,0.047971350034539915,0.0512365339248295,0.0471130480974944,0.05180599886021879,0.04794928076435541,0.04922496437467692,0.03877750455160117,0.04622192481497488,0.028827641260177762,0.027108177075152597,0.0002664826418719655,0.04854649172099616,0.051008469219300065,0.049792454890957356,0.0002664826418719655,0.050658884879932795,0.052221667266549664,0.04557100466468172,0.040090244271104386,0.048496934817184464,0.05124023252683356,0.036583371468352624,0.0002664826418719655,0.03792006644941233,0.052014935214057666,0.04921450787188851,0.0439678178446707,0.04967667521931751,0.0002664826418719655,0.03650330673705708,0.046176491016543655,0.05158376932768675,0.050375563530703736,0.04242973024441829,0.052328148424006085,0.05158648018198912,0.028631966522537394,0.0002664826418719655,0.04999393703363369,0.04686489303798978,0.047929378891386425,0.0481529481940849,0.0002664826418719655,0.03953733321841382,0.052180141420665294,0.04921039616716356,0.05311833105802607,0.05157996461084506,0.04977811200934375,0.03007961611014704,0.0002664826418719655,0.036812778719327054,0.04856933706904039,0.051602319030247014,0.0502605952274786,0.04634047165358032,0.05167357984499814,0.05066950142647218,0.05015219477999364,0.0521576167736863,0.05180483292633777,0.05009680986919104,0.05111198514739097,0.0002664826418719655,0.049768631605415475,0.04875747549619527,0.048555899134284805,0.05009556549279441,0.0002664826418719655,0.049983666336285634,0.052600758737133026,0.05025658636288395,0.050045824625647696,0.0002664826418719655,0.039672465218226885,0.027990681242802695,0.04435376990084117,0.04844613365408987,0.0002664826418719655,0.048240066311063576,0.05033356065762047,0.051214391085340684,0.04757572449882931,0.03961121904414174,0.05077600425113493,0.047619028800789734,0.0002664826418719655,0.0507964940485857,0.05008005528959415,0.029807659888788484,0.048035245112424414,0.04825499951116241,0.05229717025221929,0.049923661378002096,0.0002664826418719655,0.043648440458101435,0.05183115990198335,0.046575178227840575,0.04988289712739887,0.0002664826418719655,0.046210046758576664,0.05211719728194486,0.029409687326402145,0.04963474414587704,0.039645812531516174,0.0002664826418719655,0.04341199067039195,0.05240471082588213,0.05051452717471479,0.03756733949573581,0.04036492226413317,0.04025202934604542,0.04703273247509769,0.044686525570280945,0.05333110785286134,0.05273538823004513,0.0495071956071515,0.0002664826418719655,0.049258425677882994,0.0491335585003424,0.04861624611865848,0.0002664826418719655,0.05058911851334339,0.04941301598198733,0.052907683135904014,0.0454891673438782,0.0002664826418719655,0.05003115151520003,0.05326352251182716,0.05185482550943608,0.03292793995440958,0.04942874348265826,0.05041359499301094,0.04225762612967833,0.03745020863366255,0.05328761396085981],\"type\":\"scatter\",\"xaxis\":\"x8\",\"yaxis\":\"y8\"},{\"marker\":{\"color\":[0,7,29,30,45,65,80,109,110,111,112,113,114,115,116,117,118,128,149,160,175,189,190,191,192,193,194,195,196,197,198,199,200,201,202,203,204,205,206,207,208,209,210,211,212,213,214,215,216,217,218,219,220,221,222,223,224,225,226,227,228,229,230,231,232,233,234,235,236,237,238,239,240,241,242,243,244,245,246,247,248,249,250,251,252,253,254,255,256,257,258,259,260,261,262,263,264,265,266,267,268,269,270,271,272,273,274,276,277,278,279,280,281,282,283,284,285,286,287,289,290,291,292,293,294,295,296,298,300,301,302,303,304,305,306,307,308,309,310,311,312,314,316,317,318,319,320,321,322,324,325,326,328,329,330,331,332,333,334,335,336,338,339,340,341,342,344,345,346,347,348,349,351,352,353,354,355,357,358,359,360,361,362,363,365,366,367,369,370,371,372,373,374,375,376,378,379,380,381,383,384,385,386,387,388,389,390,392,393,394,396,397,398,399,400,401,402,403,404,406,407,409,410,411,412,413,414,415,416,417,418,420,421,422,424,425,426,427,428,429,430,431,432,434,436,437,438,439,440,441,442,443,444,445,446,448,449,450,451,453,454,455,456,457,458,460,461,463,464,465,466,467,468,469,470,471,472,474,475,476,478,479,480,481,482,483,484,485,487,488,490,491,492,493,494,495,496,497,498,499,501,502,503,504,506,507,508,509,510,511,512,514,515,517,518,519,520,521,522,523,524,525,526,528,529,530,532,533,534,535,536,537,538,540,541,542,544,545,546,547,548,549,550,551,552,554,555,556,558,559,560,561,562,563,564,565,567,568,570,571,572,573,574,575,576,577,578,579,580,582,583,584,586,587,588,589,590,591,592,593,595,596,598,599],\"colorbar\":{\"title\":{\"text\":\"Trial\"},\"x\":1.0,\"xpad\":40},\"colorscale\":[[0.0,\"rgb(247,251,255)\"],[0.125,\"rgb(222,235,247)\"],[0.25,\"rgb(198,219,239)\"],[0.375,\"rgb(158,202,225)\"],[0.5,\"rgb(107,174,214)\"],[0.625,\"rgb(66,146,198)\"],[0.75,\"rgb(33,113,181)\"],[0.875,\"rgb(8,81,156)\"],[1.0,\"rgb(8,48,107)\"]],\"line\":{\"color\":\"Grey\",\"width\":0.5},\"showscale\":false},\"mode\":\"markers\",\"name\":\"Feasible Trial\",\"showlegend\":false,\"x\":[1.6594401451544047,1.9795166830631068,0.0688101636838625,0.4555142890688384,1.0849251477918849,1.0834104845400863,0.5822532013799238,1.4315234234867982,1.4834472485589412,1.4940557969958743,1.451067308620709,1.875605326817625,1.3097684644790935,0.7910082066714876,1.2575998852058397,1.6514756849334922,0.8652633467454001,1.7308381529560617,1.3121177387748078,1.4894872349940336,1.778262178027659,0.9143013375619704,0.9565530701734938,0.7421020962719683,0.6997655092380498,0.44749382257198167,0.3662308580497401,0.33863922799843227,0.3322075892762173,0.25247428851823894,0.53449108763235,0.5673951927808256,0.29664494233594507,0.33375519447443924,0.24976967585979346,0.24183869055485563,0.3945518187917071,0.14195383883058454,0.47344404512550436,0.4775017013958939,0.293553908408145,0.23231145685281912,0.23237412277832475,0.2275137148870628,0.24239234461224346,0.18714767100660107,0.13538513582021824,0.03631749488720548,0.3258259179654841,0.12485546572378659,0.4405927537310546,0.30746331487974404,0.5572384779995706,0.29380022416230916,0.20590378883091076,0.17931953544519744,0.17170556194507863,0.17391382380234852,0.16002591709589187,0.1510898700186708,0.15803279102651313,0.11269564845068722,0.09014464492105179,0.187151476618603,0.1984998870842302,0.15711071075963084,0.008422713390628722,0.17509794304417092,0.12332851520436437,0.18162968220912284,0.07742530723563659,0.1293497773373078,0.0673030042710224,0.061569365171561405,0.07551182020210925,0.07984442532657615,0.040155189501980035,0.06420305615608846,0.011395068476860198,0.008696618216630717,0.0016378930116128614,0.010608636983433915,0.012830335744508634,0.006423333284434177,0.0686825196628001,0.07162016684985006,0.06885446902433126,0.08116823856855097,0.0644860909213963,0.03816290482137871,0.05626863830759747,0.05212197338908247,0.004788479977572868,0.014160735809991744,0.046442149347416375,0.09198199638828311,0.09151217899541329,0.004229667903125928,0.000724581442593554,0.06322371949045463,0.04791373003261537,0.05162796283537141,0.10255426723376178,0.00019723995056575316,0.09408138366049154,0.04540268705838675,0.10002482764885907,0.04737482532279097,0.11607872548651692,0.11798399884127372,0.10733933075864827,0.04350197950938311,0.1073235069161637,0.10853051499781682,0.00010469254780605397,0.04083528779444992,0.04628032671285619,0.0008987537609531776,0.040239003271035585,0.04172143824290705,0.04469947087486875,1.0857284573402364,0.03762439441461213,0.03802178816924387,0.038588733428735596,0.08555081044800847,0.033678280127538374,0.11800435936093204,0.03933128437000617,0.07652460813760717,0.0005083726853538396,0.11695449428781957,0.06370439023474427,0.14262390572525138,0.02992628339467638,0.0011215441705307444,0.0766021259724886,0.08228628141585143,1.9762604654095672,0.1311764118592146,0.6967277569297775,0.0754181652768079,0.048085367474256506,0.10148643192531935,1.6427650911873553,0.14360603746710673,0.07353966442050948,0.07635874987161867,0.12423410553204892,0.07138964055312987,0.04569096454493369,0.10135967747532285,0.038964851980192054,0.1473744918905165,0.0018155385433798743,1.0226615561237538,0.00014237186257699298,0.03374535581962403,0.07374210351960772,1.1927019349088663,0.03130038991250438,0.07963792831673222,0.001663189016183994,0.06693179402109653,0.09735008892771052,0.02859498024387773,0.8394011806461081,0.1356735877413765,0.053740926655291656,0.10101974801665375,0.029210751026068297,0.2022728096697194,0.007642390371724905,0.06656732985070891,0.0008280451041335901,0.15993010060001356,0.0937353419665541,0.052518466203365546,0.1162662959841467,1.4287099289419074,0.04721757119243737,0.08063247500499891,0.13287134152524976,0.09764231066594833,0.0009822001228106687,0.07658922814745481,0.15638678354932717,0.06566658394680847,0.039654543445849386,0.09507555612276666,0.0018547232566422309,0.17613348645059823,0.12096031747657289,0.0638369902403245,0.03781436870268285,0.09596571603618917,0.036834041488348075,0.2128558577274879,0.0007634424282852992,0.6774879741876992,0.1361743988182363,0.0742811246885885,0.6043607370528428,0.04385582496241475,0.11006425361514029,0.07661268422815748,0.03745785687210889,0.16293386096909296,0.12080810118042828,0.03251175973063389,0.002869043271431282,0.03716598862968467,1.5819485861783955,0.06891566785557968,0.0020627851402414688,0.003190821263275953,0.3840328405838488,0.0840999785835524,0.03184217190425209,0.11520324810324054,0.05882862185566777,0.003536086296488057,0.2654871434447077,0.07017320830993248,0.15873235302058938,1.194277798412257,0.0332005043448239,0.10461847577199586,0.8950332692027677,0.030559033289604957,0.07608553025326864,0.0002997800683112034,0.0033742562962553583,0.07853375117794005,0.12416383418856272,0.0013169133125339057,0.05377104061223565,0.18021776898139386,0.09218845349323972,0.04156184422474247,0.14153481481214608,0.13572224867005983,0.21718656311001064,0.1346264317967965,0.08805175495309289,0.06051677370827023,0.18471071560338204,0.103876990722998,0.14642778236487042,0.10785640748209192,0.09799931359667736,0.062413761896447414,0.17199068346451227,0.06876878328850766,0.1333449460067913,0.0938672785716642,0.04181494986361989,0.06961997229499875,0.12861196014499535,0.04108123581852871,0.20450952346815468,0.0988760933652679,0.036461709032877834,0.1505409403786204,0.0703861203996268,0.029595133177685612,1.833454249130659,0.0021279010349921357,0.11092494592348881,0.06756444265412755,0.09929990385269327,0.03671026729547862,0.15004218825428334,0.0004527682666222582,0.06349752398729003,0.10855455500973633,0.05977845999752285,0.18361448819821824,0.03324173409026785,0.08698770489294613,0.0005034569244611389,0.13181912503932397,0.042924616393795155,0.07852188463931999,0.23503903213983357,1.373896929569078,0.1539993004797166,0.03420885991705695,0.10850943286052275,0.0709802486438963,0.031634000507358796,0.7606601776522726,0.0007424840223614962,0.11549098470888806,0.07014788433003423,0.16140134596023853,0.040767957808669264,0.09577134379717918,0.0006253937290535416,0.06756428576324433,0.20422484474732866,0.11289120038293086,0.03950707525403679,0.07458746606751093,0.1518684945587284,0.12171019742657346,0.00032401317794860887,0.045389984078562984,0.0858608757919471,0.18246267446441866,0.09240622835443046,0.12978706109211205,0.08168764152528461,0.1358531213934163,0.06077783789410833,0.2795260426452653,0.03476207885942163,0.0912431881919858,0.15848632877019908,0.032531877423160924,0.10856582244434665,0.06323899497034677,0.0005995187490285166,0.19256878566216684,1.0021437244553333,0.08227715234435204,0.13250355949938641,0.05158480906538208,0.0008903410222558287,0.0984930562857021,0.44074759770586985,0.23588367190221637,0.044478130548126216,0.06940526052198884,0.12192060742978368,0.032127485403765976,0.17477803653997895,0.08943658955702061,0.0002419427949388695,0.05920424556398245,0.14255635638733408,0.03595751703392375,0.10490128897470771,0.06768910514805823,0.0006067598724515746,0.1174112878390883,0.040576402954810846,0.9502372852663963,0.6446618732050927,0.1625728461424612,0.07856501841224223,0.031703444812245324,0.09711777519757617,0.13816037520995966,0.06882424370372198,0.03231670551173192,0.09703120062422903,0.19318550091433445,0.0009709188833025625,0.056575835135790405,0.12831492929990665,0.032725795654304994,0.10453461360076219,0.06651846716482113,3.242388160988596e-05,0.14773975038366477,0.07463968586782083,0.03697733858540398,0.21359299510234492,0.08826912031360178,0.07142353344451842,0.16340420080728016,0.03409560116285843,1.71970161112504,0.49083812954622696,0.10506081411446369,0.03249982426096029,0.12023947898556944,0.06732704090738566,0.16691807443858434,0.8063739436252462,0.07812293687301458,0.13454046685515936,0.07462321588329582],\"y\":[0.03847803567849229,0.03992089568563728,0.034522039692480196,0.044599477795545094,0.041083810657646824,0.0002664826418719655,0.042630380128308054,0.05014495286754074,0.05001918540506721,0.04937054806796139,0.04853121084630373,0.0002664826418719655,0.04086167291275695,0.04711551945335192,0.048255655760942956,0.04232723894120498,0.04212373222017858,0.04536433696221219,0.04318529427697464,0.0002664826418719655,0.0421431333588106,0.052770132207501916,0.044920360081063405,0.05053286852839014,0.0002664826418719655,0.050562791169713586,0.05031125284117284,0.04990563145551257,0.05112802526300825,0.04885511508997322,0.05069920295812504,0.04950766943167519,0.050427546154826045,0.05069072979215204,0.05073869298991869,0.04989507028462124,0.049972583889434,0.04700001020406326,0.0512353018267241,0.04827784121151514,0.05104263186459542,0.05092531802018609,0.050869259929248144,0.05073879495247531,0.049012160319736396,0.05039360254194376,0.050921486747334446,0.04891709249337225,0.04711571482008757,0.04995752837612295,0.04922041848900541,0.05102792024432849,0.04973127692293931,0.05038853822528087,0.05126283537418349,0.051778250982194365,0.05169413881766273,0.050889642540877744,0.05130924006573032,0.05112273381674017,0.048247156201741616,0.05121506243504324,0.05051766722476123,0.05124083401322201,0.050911436434536786,0.05107694519486827,0.05080826109915465,0.04784381402931958,0.04868276479117052,0.050435703298782,0.05143864758675326,0.05238586893488721,0.051812229848526695,0.05235041859328893,0.0002664826418719655,0.052734651923476726,0.052749727917604794,0.0002664826418719655,0.05119815890180516,0.05287919963207016,0.05223501429331294,0.051298554172739305,0.05135107591876845,0.04254372298438136,0.053134600182737454,0.052909503083440244,0.0002664826418719655,0.03920845351012365,0.05275915171373006,0.05319752032663925,0.053035294599967545,0.041507624622074385,0.053230998474819435,0.05318001901092788,0.04641161061905724,0.053037738820821044,0.0002664826418719655,0.05312387900539119,0.0529325066441798,0.05351701566277965,0.053314355858730775,0.03307219962532294,0.05178013728169698,0.049045059421762065,0.05127462047917321,0.029566477782746063,0.0002664826418719655,0.05091777583110446,0.05267623074832051,0.05318563606780051,0.03804079968142458,0.048897001938809,0.05300323925642245,0.03690790987867579,0.052648941574855224,0.05306271583010617,0.05263656227082064,0.048891441644559844,0.053398304472673463,0.05272727050856829,0.052834820688102344,0.04848977138583462,0.052674484024547705,0.04040126154027886,0.04890841429102853,0.0002664826418719655,0.03911269935383791,0.040218770111744254,0.047323777618326984,0.052218659379927014,0.0002664826418719655,0.0488647275039855,0.050529757918228224,0.047743133713452346,0.030807682327581472,0.04936410099543398,0.05293868035823385,0.0002664826418719655,0.04265414117226195,0.048691379157994576,0.045019433248485036,0.04883103346022026,0.0002664826418719655,0.05084333155381747,0.04915832064079717,0.05034803846721865,0.05332291730899048,0.05021782525860478,0.0002664826418719655,0.03892928588716499,0.03888675349644569,0.03851616520440891,0.05212252852978096,0.049119631837963154,0.05318691699897445,0.04859005646792183,0.051068356184236205,0.047562021882130046,0.048584741000029706,0.043302073935299466,0.051398648188950694,0.04405993648353966,0.051167828048413355,0.04902288614972887,0.0002664826418719655,0.0477290652407735,0.03672381871723387,0.05115571159589503,0.05190464757486465,0.050247743921605095,0.0002664826418719655,0.046151171893206104,0.05228112223311544,0.04005070835123643,0.0002664826418719655,0.048282279597252786,0.051259577771329536,0.049442899187413444,0.04431384850474095,0.051137952942888254,0.039108616243827964,0.05318697410454916,0.04983285667641849,0.05172419486866692,0.051540571067009634,0.03492244675424558,0.04656199182493171,0.0002664826418719655,0.04040000862559073,0.04941823080124984,0.05239761587862009,0.04730642709610305,0.0002664826418719655,0.048651239718197604,0.05129266217579649,0.05221626161352992,0.05062357831681236,0.048755892234960733,0.045554569718085844,0.049076559093286454,0.05259571933291268,0.048391519477274256,0.05141879854179728,0.0002664826418719655,0.04845640169812706,0.0503645963501691,0.05154465609281805,0.0448004959333929,0.05125224959235103,0.05288545887397246,0.0002664826418719655,0.05191662902991125,0.04962726571595453,0.04810938304912923,0.05296297056819297,0.05180491511054517,0.050212445949555984,0.04890254911014445,0.05234266206143654,0.050635049291986776,0.0002664826418719655,0.04935880437197928,0.050337888151667606,0.05271727528864534,0.05030022352294915,0.0002664826418719655,0.051399042321652356,0.046372146682097506,0.048470575750490075,0.041358792111946055,0.053440919475009716,0.05281217814385904,0.04331215651401088,0.05253748276025958,0.04425798564934068,0.04710099530879066,0.041513886514609244,0.0002664826418719655,0.05153650500853167,0.0413814368881109,0.05293386835462682,0.051505793004816405,0.05013509185909866,0.04622433142565943,0.04502763916786962,0.04089592858793144,0.049663721791680646,0.05361580072200237,0.042880406262806404,0.051764175618139875,0.04996687129806965,0.05309876346600399,0.05208959080168705,0.04819016395472467,0.05173151421895898,0.04542961201528556,0.04945981344926281,0.051272687098616,0.04136819611249676,0.03730757347010795,0.05193540120163074,0.05150349128656599,0.0002664826418719655,0.048856619574973156,0.05246490079806654,0.04630766305991406,0.048542913410308586,0.0002664826418719655,0.047971350034539915,0.0512365339248295,0.0471130480974944,0.05180599886021879,0.04794928076435541,0.04922496437467692,0.03877750455160117,0.04622192481497488,0.028827641260177762,0.0002664826418719655,0.04854649172099616,0.051008469219300065,0.0002664826418719655,0.050658884879932795,0.052221667266549664,0.04557100466468172,0.040090244271104386,0.048496934817184464,0.05124023252683356,0.036583371468352624,0.03792006644941233,0.052014935214057666,0.0439678178446707,0.04967667521931751,0.0002664826418719655,0.03650330673705708,0.046176491016543655,0.05158376932768675,0.050375563530703736,0.04242973024441829,0.052328148424006085,0.05158648018198912,0.0002664826418719655,0.04999393703363369,0.04686489303798978,0.047929378891386425,0.0002664826418719655,0.03953733321841382,0.052180141420665294,0.04921039616716356,0.05311833105802607,0.05157996461084506,0.04977811200934375,0.0002664826418719655,0.036812778719327054,0.051602319030247014,0.0502605952274786,0.04634047165358032,0.05167357984499814,0.05066950142647218,0.05015219477999364,0.0521576167736863,0.05180483292633777,0.05009680986919104,0.05111198514739097,0.049768631605415475,0.04875747549619527,0.048555899134284805,0.0002664826418719655,0.049983666336285634,0.052600758737133026,0.05025658636288395,0.050045824625647696,0.0002664826418719655,0.039672465218226885,0.04435376990084117,0.04844613365408987,0.0002664826418719655,0.05033356065762047,0.051214391085340684,0.04757572449882931,0.03961121904414174,0.05077600425113493,0.047619028800789734,0.0002664826418719655,0.0507964940485857,0.05008005528959415,0.048035245112424414,0.04825499951116241,0.05229717025221929,0.0002664826418719655,0.043648440458101435,0.05183115990198335,0.046575178227840575,0.04988289712739887,0.0002664826418719655,0.046210046758576664,0.05211719728194486,0.04963474414587704,0.039645812531516174,0.04341199067039195,0.05240471082588213,0.05051452717471479,0.03756733949573581,0.04036492226413317,0.04025202934604542,0.04703273247509769,0.044686525570280945,0.05333110785286134,0.05273538823004513,0.0495071956071515,0.049258425677882994,0.0491335585003424,0.04861624611865848,0.05058911851334339,0.04941301598198733,0.052907683135904014,0.0454891673438782,0.0002664826418719655,0.05003115151520003,0.05326352251182716,0.05185482550943608,0.04942874348265826,0.05041359499301094,0.03745020863366255,0.05328761396085981],\"type\":\"scatter\",\"xaxis\":\"x9\",\"yaxis\":\"y9\"},{\"marker\":{\"color\":[0,7,29,30,45,65,80,109,110,111,112,113,114,115,116,117,118,128,149,160,175,189,190,191,192,193,194,195,196,197,198,199,200,201,202,203,204,205,206,207,208,209,210,211,212,213,214,215,216,217,218,219,220,221,222,223,224,225,226,227,228,229,230,231,232,233,234,235,236,237,238,239,240,241,242,243,244,245,246,247,248,249,250,251,252,253,254,255,256,257,258,259,260,261,262,263,264,265,266,267,268,269,270,271,272,273,274,276,277,278,279,280,281,282,283,284,285,286,287,289,290,291,292,293,294,295,296,298,300,301,302,303,304,305,306,307,308,309,310,311,312,314,316,317,318,319,320,321,322,324,325,326,328,329,330,331,332,333,334,335,336,338,339,340,341,342,344,345,346,347,348,349,351,352,353,354,355,357,358,359,360,361,362,363,365,366,367,369,370,371,372,373,374,375,376,378,379,380,381,383,384,385,386,387,388,389,390,392,393,394,396,397,398,399,400,401,402,403,404,406,407,409,410,411,412,413,414,415,416,417,418,420,421,422,424,425,426,427,428,429,430,431,432,434,436,437,438,439,440,441,442,443,444,445,446,448,449,450,451,453,454,455,456,457,458,460,461,463,464,465,466,467,468,469,470,471,472,474,475,476,478,479,480,481,482,483,484,485,487,488,490,491,492,493,494,495,496,497,498,499,501,502,503,504,506,507,508,509,510,511,512,514,515,517,518,519,520,521,522,523,524,525,526,528,529,530,532,533,534,535,536,537,538,540,541,542,544,545,546,547,548,549,550,551,552,554,555,556,558,559,560,561,562,563,564,565,567,568,570,571,572,573,574,575,576,577,578,579,580,582,583,584,586,587,588,589,590,591,592,593,595,596,598,599],\"colorbar\":{\"title\":{\"text\":\"Trial\"},\"x\":1.0,\"xpad\":40},\"colorscale\":[[0.0,\"rgb(247,251,255)\"],[0.125,\"rgb(222,235,247)\"],[0.25,\"rgb(198,219,239)\"],[0.375,\"rgb(158,202,225)\"],[0.5,\"rgb(107,174,214)\"],[0.625,\"rgb(66,146,198)\"],[0.75,\"rgb(33,113,181)\"],[0.875,\"rgb(8,81,156)\"],[1.0,\"rgb(8,48,107)\"]],\"line\":{\"color\":\"Grey\",\"width\":0.5},\"showscale\":false},\"mode\":\"markers\",\"name\":\"Feasible Trial\",\"showlegend\":false,\"x\":[0.26204828841445593,1.0041489873346503,1.8293633855239544,1.711304717912446,0.1600389905877364,0.9690905393254672,1.0751799294559916,1.4047961874667565,1.4413843932725054,1.38702598200742,1.4220318632185849,1.4263165613858908,0.6692172372221319,1.5956837621800966,1.9614886939225802,1.2380493365105707,0.6735015201062146,0.7988542838309516,1.6252529251237815,1.2088183563190191,0.496590562478769,1.9604450913585005,1.9354153476642546,1.7577544220193593,1.752882958053434,1.6410737649695715,1.5934919669098861,1.57202631228016,1.998568372012898,1.8508497562899808,1.9276516198063225,1.9909122653788944,1.8038725374615234,1.7939413718130928,1.8215709875637462,1.8092391827386294,1.8667000038984132,1.6987357651433017,1.9877359190109856,1.9972779563142744,1.8563748152777997,1.868330902029696,1.8321372644437168,1.8340227545505363,1.8496120538342322,1.8689635392321735,1.8732042758454222,1.7332419177006673,1.9020589680919047,1.790785475932044,1.9040914444520407,1.7723761505619657,1.7257690950520503,1.801418947931833,1.9153599923871736,1.9308088328737163,1.9429468680096829,1.9990504595285787,1.988269076168496,1.9865190491277114,1.968849403980889,1.9845186807437316,1.999829780862566,1.9151404997178978,1.9157090461621389,1.9206812018231776,1.929131298720499,1.9315431943636736,1.9986944801978141,1.9075339212081697,1.916877099332216,1.9278413247414237,1.911322799040794,1.9143078260154494,1.919100942600386,1.934910244957095,1.9348952742868375,1.9491852847304854,1.9421854142452983,1.9431495091462696,1.952041161008228,1.9495300554229362,1.9708532948793493,1.9527308858400552,1.9456850735537499,1.9432031745674443,1.9446333348176497,1.900981894989739,1.9514486601051055,1.9007611022323208,1.8824059534966424,1.8775172837486953,1.8849804728609267,1.8702773086622155,1.8578498276860387,1.8809950055833553,1.880347622146293,1.8752091681873402,1.8304341692645771,1.827729234583476,1.831717262712215,1.8296071896654695,1.8574713495546675,1.872806210456213,1.8479124446312833,1.8194801982242088,1.8859251816775324,1.7744528586375783,1.8715450844847978,1.8794628854112443,1.880636861208098,1.8479311582604963,1.9509456454376373,1.892372531395725,1.8249773885755949,1.8075006623328012,1.8081997979774203,1.8120029560412751,1.675602059740139,1.7826019409141207,1.7529110560624337,1.6862188692241697,1.7710624245856392,1.7617992456528562,1.7205587407697214,1.6691632250380948,1.757606787815881,1.7891937590072169,0.9193922457601659,1.8265446112765786,0.2806292711224745,1.750312835971314,1.7962450233911453,1.503626085146554,1.170438114244506,1.84364670802145,1.8730560838614327,1.8805692478977118,1.9623152795225416,1.8831682889363297,1.7214270243973537,1.7820990174413311,1.351170270550873,1.8581384223514132,1.9566615712429634,1.9059546681431183,1.8367121354933544,1.8375147659141005,1.890719645310358,1.9529452834520544,1.8489421385476348,1.9082829562873138,1.819873879353691,1.9577698047081478,1.8751057508618327,1.9253571929734112,1.8864999131505094,1.7973072469639002,1.998611563999275,1.8500090206797084,1.926592066136699,1.8821365906116643,1.962733971321973,1.8184362976586497,1.7348695266795917,1.9152710518487903,1.8501935936849492,1.957955636554697,1.7889405953112574,1.8916646868505729,1.9352388772953775,1.841714096020989,1.8760955324851454,0.5337038217206012,1.7596698770906556,1.9984158685966167,1.9197162894308502,1.7968138223805008,1.6628270447660658,1.8294814153736396,0.010508393213481737,1.8983689643355246,1.95597044582921,1.8884565168446668,1.9093069947279615,1.8616516530314462,1.957178654842869,1.9123335622240738,1.8636132379327714,1.9716020136769414,1.8262536293318783,1.9337260047957903,1.8771632977123571,1.9042314392188722,1.9935216931233026,1.826685089605933,1.705691005118638,1.940158295370262,1.870714975652947,1.9147088048049374,1.8140075790250003,0.816199694392755,1.8593894151987889,1.7672707857243053,1.9523818032282687,1.8942416667377813,1.3404333576892178,1.9680134630374204,1.8321421916536036,1.9223398671733487,1.9994582312449083,1.7967674577877824,1.8924977441980442,1.8454154264990263,1.9262946117616335,1.730678955257263,1.9113739327409927,1.8692489804922288,1.7973978416169676,1.9367787117901374,1.616697027286068,1.856557175925657,1.8990071399792567,1.947601143188213,1.7635325074074875,1.831523648786906,1.8813243556438306,1.965549609066855,1.925943138314082,1.8082534361914515,1.8607542819242306,1.8526857289794005,1.1124264977117995,1.7479970784358467,1.8373832326514132,1.7830866796567728,1.8602888343998363,1.8100820447285744,1.8867028541943909,1.6916727765679744,1.8446299678922047,1.8999442463740372,1.8108000198871699,1.7573946124551416,1.8599579518894322,0.978139545361632,1.5397607886703861,1.9105067360322991,1.9156409421486988,1.8864757851972498,1.9271518622390245,1.9677050459913177,1.9779828313951895,1.8463261065715102,1.9980444914609181,1.908905758693505,1.8832581658541323,1.9420703053579542,1.8264175856050582,1.8699129256784617,1.9222995766545299,1.9565427684719519,1.8367813062000207,1.8992011381125955,1.8700684308963245,1.8159381214790526,1.785009578122571,1.9654122863579357,1.9214129104083997,1.8641922601697625,1.8993779794272034,1.9966901479781076,1.2951411865201274,0.35562614445326446,1.8360114888974937,1.792127338865604,0.6774156485839102,1.9408471439958852,1.877578270681271,1.931041875239008,1.8503024551661937,1.8995467951408136,1.9607455698111718,1.8141083216380975,1.8934153179723778,1.4479457213620617,1.854170300035377,1.7658612100038604,1.9397641083297563,1.9733526900226903,1.7136244089059824,1.822883346020142,1.908699796881761,1.854223057458438,1.7899116892272657,1.9999147189572202,1.883301842482165,1.9258622329669182,1.8327999894144258,1.896643929870302,1.9568544249989503,1.8631901546648726,1.7900295132712774,1.7355696398579639,1.9239752749093362,1.8774350115277165,1.8295248431902325,1.9640579222900156,1.8921344671693328,1.8001815200456632,1.861326249397497,1.6512033595473428,1.897548725288614,1.0600544737185975,1.8344346936437892,1.7564526571378498,1.9116787568084332,1.8680411321178851,1.9458978351605296,1.8113182437638677,1.8796102599689557,1.9353724020052223,1.97529740887662,1.8419085448322468,1.7731873144712875,1.9019016359537195,0.9076636664760704,1.8506279128786276,1.9284073382100548,1.9961129010360272,1.808995321814715,1.8880636608210983,1.956705173107638,1.8593447244293582,1.9079599519590373,1.2321414390132266,1.7291399376452095,1.5837932287937984,1.8105059337899363,1.9290506134182437,1.873765185079908,1.8329213469257224,1.776557844220434,1.9542394001532437,1.9034108729227932,1.9977508668954815,1.8536021438821482,1.890286172035075,1.817296604121566,1.932466945906522,1.874204425409771,1.7805228709164154,1.9552484635950977,1.701625071166778,1.834013027907302,1.9029813046564037,1.8667065148076574,1.9256755289692398,1.9628902361160083,1.7517833243459178,1.8173223535413,1.8860535563660432,1.8507728770630958,1.9290080988194285,1.7909036930566968,0.49793677322060437,1.9794269439517356,1.975249752141262,1.9934670735936688,1.9038235601199234,1.8416378326883418,0.5988578273973808,1.9449902367661105,1.8796218317908633,1.8129590486739713,1.9169031347751546,1.8511969983154748,1.9680361496570682,1.760147601319801,1.7199529180312476,1.7512066352180038,1.782328301927185,1.8966723468085094,1.7985517773734936],\"y\":[0.03847803567849229,0.03992089568563728,0.034522039692480196,0.044599477795545094,0.041083810657646824,0.0002664826418719655,0.042630380128308054,0.05014495286754074,0.05001918540506721,0.04937054806796139,0.04853121084630373,0.0002664826418719655,0.04086167291275695,0.04711551945335192,0.048255655760942956,0.04232723894120498,0.04212373222017858,0.04536433696221219,0.04318529427697464,0.0002664826418719655,0.0421431333588106,0.052770132207501916,0.044920360081063405,0.05053286852839014,0.0002664826418719655,0.050562791169713586,0.05031125284117284,0.04990563145551257,0.05112802526300825,0.04885511508997322,0.05069920295812504,0.04950766943167519,0.050427546154826045,0.05069072979215204,0.05073869298991869,0.04989507028462124,0.049972583889434,0.04700001020406326,0.0512353018267241,0.04827784121151514,0.05104263186459542,0.05092531802018609,0.050869259929248144,0.05073879495247531,0.049012160319736396,0.05039360254194376,0.050921486747334446,0.04891709249337225,0.04711571482008757,0.04995752837612295,0.04922041848900541,0.05102792024432849,0.04973127692293931,0.05038853822528087,0.05126283537418349,0.051778250982194365,0.05169413881766273,0.050889642540877744,0.05130924006573032,0.05112273381674017,0.048247156201741616,0.05121506243504324,0.05051766722476123,0.05124083401322201,0.050911436434536786,0.05107694519486827,0.05080826109915465,0.04784381402931958,0.04868276479117052,0.050435703298782,0.05143864758675326,0.05238586893488721,0.051812229848526695,0.05235041859328893,0.0002664826418719655,0.052734651923476726,0.052749727917604794,0.0002664826418719655,0.05119815890180516,0.05287919963207016,0.05223501429331294,0.051298554172739305,0.05135107591876845,0.04254372298438136,0.053134600182737454,0.052909503083440244,0.0002664826418719655,0.03920845351012365,0.05275915171373006,0.05319752032663925,0.053035294599967545,0.041507624622074385,0.053230998474819435,0.05318001901092788,0.04641161061905724,0.053037738820821044,0.0002664826418719655,0.05312387900539119,0.0529325066441798,0.05351701566277965,0.053314355858730775,0.03307219962532294,0.05178013728169698,0.049045059421762065,0.05127462047917321,0.029566477782746063,0.0002664826418719655,0.05091777583110446,0.05267623074832051,0.05318563606780051,0.03804079968142458,0.048897001938809,0.05300323925642245,0.03690790987867579,0.052648941574855224,0.05306271583010617,0.05263656227082064,0.048891441644559844,0.053398304472673463,0.05272727050856829,0.052834820688102344,0.04848977138583462,0.052674484024547705,0.04040126154027886,0.04890841429102853,0.0002664826418719655,0.03911269935383791,0.040218770111744254,0.047323777618326984,0.052218659379927014,0.0002664826418719655,0.0488647275039855,0.050529757918228224,0.047743133713452346,0.030807682327581472,0.04936410099543398,0.05293868035823385,0.0002664826418719655,0.04265414117226195,0.048691379157994576,0.045019433248485036,0.04883103346022026,0.0002664826418719655,0.05084333155381747,0.04915832064079717,0.05034803846721865,0.05332291730899048,0.05021782525860478,0.0002664826418719655,0.03892928588716499,0.03888675349644569,0.03851616520440891,0.05212252852978096,0.049119631837963154,0.05318691699897445,0.04859005646792183,0.051068356184236205,0.047562021882130046,0.048584741000029706,0.043302073935299466,0.051398648188950694,0.04405993648353966,0.051167828048413355,0.04902288614972887,0.0002664826418719655,0.0477290652407735,0.03672381871723387,0.05115571159589503,0.05190464757486465,0.050247743921605095,0.0002664826418719655,0.046151171893206104,0.05228112223311544,0.04005070835123643,0.0002664826418719655,0.048282279597252786,0.051259577771329536,0.049442899187413444,0.04431384850474095,0.051137952942888254,0.039108616243827964,0.05318697410454916,0.04983285667641849,0.05172419486866692,0.051540571067009634,0.03492244675424558,0.04656199182493171,0.0002664826418719655,0.04040000862559073,0.04941823080124984,0.05239761587862009,0.04730642709610305,0.0002664826418719655,0.048651239718197604,0.05129266217579649,0.05221626161352992,0.05062357831681236,0.048755892234960733,0.045554569718085844,0.049076559093286454,0.05259571933291268,0.048391519477274256,0.05141879854179728,0.0002664826418719655,0.04845640169812706,0.0503645963501691,0.05154465609281805,0.0448004959333929,0.05125224959235103,0.05288545887397246,0.0002664826418719655,0.05191662902991125,0.04962726571595453,0.04810938304912923,0.05296297056819297,0.05180491511054517,0.050212445949555984,0.04890254911014445,0.05234266206143654,0.050635049291986776,0.0002664826418719655,0.04935880437197928,0.050337888151667606,0.05271727528864534,0.05030022352294915,0.0002664826418719655,0.051399042321652356,0.046372146682097506,0.048470575750490075,0.041358792111946055,0.053440919475009716,0.05281217814385904,0.04331215651401088,0.05253748276025958,0.04425798564934068,0.04710099530879066,0.041513886514609244,0.0002664826418719655,0.05153650500853167,0.0413814368881109,0.05293386835462682,0.051505793004816405,0.05013509185909866,0.04622433142565943,0.04502763916786962,0.04089592858793144,0.049663721791680646,0.05361580072200237,0.042880406262806404,0.051764175618139875,0.04996687129806965,0.05309876346600399,0.05208959080168705,0.04819016395472467,0.05173151421895898,0.04542961201528556,0.04945981344926281,0.051272687098616,0.04136819611249676,0.03730757347010795,0.05193540120163074,0.05150349128656599,0.0002664826418719655,0.048856619574973156,0.05246490079806654,0.04630766305991406,0.048542913410308586,0.0002664826418719655,0.047971350034539915,0.0512365339248295,0.0471130480974944,0.05180599886021879,0.04794928076435541,0.04922496437467692,0.03877750455160117,0.04622192481497488,0.028827641260177762,0.0002664826418719655,0.04854649172099616,0.051008469219300065,0.0002664826418719655,0.050658884879932795,0.052221667266549664,0.04557100466468172,0.040090244271104386,0.048496934817184464,0.05124023252683356,0.036583371468352624,0.03792006644941233,0.052014935214057666,0.0439678178446707,0.04967667521931751,0.0002664826418719655,0.03650330673705708,0.046176491016543655,0.05158376932768675,0.050375563530703736,0.04242973024441829,0.052328148424006085,0.05158648018198912,0.0002664826418719655,0.04999393703363369,0.04686489303798978,0.047929378891386425,0.0002664826418719655,0.03953733321841382,0.052180141420665294,0.04921039616716356,0.05311833105802607,0.05157996461084506,0.04977811200934375,0.0002664826418719655,0.036812778719327054,0.051602319030247014,0.0502605952274786,0.04634047165358032,0.05167357984499814,0.05066950142647218,0.05015219477999364,0.0521576167736863,0.05180483292633777,0.05009680986919104,0.05111198514739097,0.049768631605415475,0.04875747549619527,0.048555899134284805,0.0002664826418719655,0.049983666336285634,0.052600758737133026,0.05025658636288395,0.050045824625647696,0.0002664826418719655,0.039672465218226885,0.04435376990084117,0.04844613365408987,0.0002664826418719655,0.05033356065762047,0.051214391085340684,0.04757572449882931,0.03961121904414174,0.05077600425113493,0.047619028800789734,0.0002664826418719655,0.0507964940485857,0.05008005528959415,0.048035245112424414,0.04825499951116241,0.05229717025221929,0.0002664826418719655,0.043648440458101435,0.05183115990198335,0.046575178227840575,0.04988289712739887,0.0002664826418719655,0.046210046758576664,0.05211719728194486,0.04963474414587704,0.039645812531516174,0.04341199067039195,0.05240471082588213,0.05051452717471479,0.03756733949573581,0.04036492226413317,0.04025202934604542,0.04703273247509769,0.044686525570280945,0.05333110785286134,0.05273538823004513,0.0495071956071515,0.049258425677882994,0.0491335585003424,0.04861624611865848,0.05058911851334339,0.04941301598198733,0.052907683135904014,0.0454891673438782,0.0002664826418719655,0.05003115151520003,0.05326352251182716,0.05185482550943608,0.04942874348265826,0.05041359499301094,0.03745020863366255,0.05328761396085981],\"type\":\"scatter\",\"xaxis\":\"x10\",\"yaxis\":\"y10\"}],                        {\"template\":{\"data\":{\"histogram2dcontour\":[{\"type\":\"histogram2dcontour\",\"colorbar\":{\"outlinewidth\":0,\"ticks\":\"\"},\"colorscale\":[[0.0,\"#0d0887\"],[0.1111111111111111,\"#46039f\"],[0.2222222222222222,\"#7201a8\"],[0.3333333333333333,\"#9c179e\"],[0.4444444444444444,\"#bd3786\"],[0.5555555555555556,\"#d8576b\"],[0.6666666666666666,\"#ed7953\"],[0.7777777777777778,\"#fb9f3a\"],[0.8888888888888888,\"#fdca26\"],[1.0,\"#f0f921\"]]}],\"choropleth\":[{\"type\":\"choropleth\",\"colorbar\":{\"outlinewidth\":0,\"ticks\":\"\"}}],\"histogram2d\":[{\"type\":\"histogram2d\",\"colorbar\":{\"outlinewidth\":0,\"ticks\":\"\"},\"colorscale\":[[0.0,\"#0d0887\"],[0.1111111111111111,\"#46039f\"],[0.2222222222222222,\"#7201a8\"],[0.3333333333333333,\"#9c179e\"],[0.4444444444444444,\"#bd3786\"],[0.5555555555555556,\"#d8576b\"],[0.6666666666666666,\"#ed7953\"],[0.7777777777777778,\"#fb9f3a\"],[0.8888888888888888,\"#fdca26\"],[1.0,\"#f0f921\"]]}],\"heatmap\":[{\"type\":\"heatmap\",\"colorbar\":{\"outlinewidth\":0,\"ticks\":\"\"},\"colorscale\":[[0.0,\"#0d0887\"],[0.1111111111111111,\"#46039f\"],[0.2222222222222222,\"#7201a8\"],[0.3333333333333333,\"#9c179e\"],[0.4444444444444444,\"#bd3786\"],[0.5555555555555556,\"#d8576b\"],[0.6666666666666666,\"#ed7953\"],[0.7777777777777778,\"#fb9f3a\"],[0.8888888888888888,\"#fdca26\"],[1.0,\"#f0f921\"]]}],\"heatmapgl\":[{\"type\":\"heatmapgl\",\"colorbar\":{\"outlinewidth\":0,\"ticks\":\"\"},\"colorscale\":[[0.0,\"#0d0887\"],[0.1111111111111111,\"#46039f\"],[0.2222222222222222,\"#7201a8\"],[0.3333333333333333,\"#9c179e\"],[0.4444444444444444,\"#bd3786\"],[0.5555555555555556,\"#d8576b\"],[0.6666666666666666,\"#ed7953\"],[0.7777777777777778,\"#fb9f3a\"],[0.8888888888888888,\"#fdca26\"],[1.0,\"#f0f921\"]]}],\"contourcarpet\":[{\"type\":\"contourcarpet\",\"colorbar\":{\"outlinewidth\":0,\"ticks\":\"\"}}],\"contour\":[{\"type\":\"contour\",\"colorbar\":{\"outlinewidth\":0,\"ticks\":\"\"},\"colorscale\":[[0.0,\"#0d0887\"],[0.1111111111111111,\"#46039f\"],[0.2222222222222222,\"#7201a8\"],[0.3333333333333333,\"#9c179e\"],[0.4444444444444444,\"#bd3786\"],[0.5555555555555556,\"#d8576b\"],[0.6666666666666666,\"#ed7953\"],[0.7777777777777778,\"#fb9f3a\"],[0.8888888888888888,\"#fdca26\"],[1.0,\"#f0f921\"]]}],\"surface\":[{\"type\":\"surface\",\"colorbar\":{\"outlinewidth\":0,\"ticks\":\"\"},\"colorscale\":[[0.0,\"#0d0887\"],[0.1111111111111111,\"#46039f\"],[0.2222222222222222,\"#7201a8\"],[0.3333333333333333,\"#9c179e\"],[0.4444444444444444,\"#bd3786\"],[0.5555555555555556,\"#d8576b\"],[0.6666666666666666,\"#ed7953\"],[0.7777777777777778,\"#fb9f3a\"],[0.8888888888888888,\"#fdca26\"],[1.0,\"#f0f921\"]]}],\"mesh3d\":[{\"type\":\"mesh3d\",\"colorbar\":{\"outlinewidth\":0,\"ticks\":\"\"}}],\"scatter\":[{\"fillpattern\":{\"fillmode\":\"overlay\",\"size\":10,\"solidity\":0.2},\"type\":\"scatter\"}],\"parcoords\":[{\"type\":\"parcoords\",\"line\":{\"colorbar\":{\"outlinewidth\":0,\"ticks\":\"\"}}}],\"scatterpolargl\":[{\"type\":\"scatterpolargl\",\"marker\":{\"colorbar\":{\"outlinewidth\":0,\"ticks\":\"\"}}}],\"bar\":[{\"error_x\":{\"color\":\"#2a3f5f\"},\"error_y\":{\"color\":\"#2a3f5f\"},\"marker\":{\"line\":{\"color\":\"#E5ECF6\",\"width\":0.5},\"pattern\":{\"fillmode\":\"overlay\",\"size\":10,\"solidity\":0.2}},\"type\":\"bar\"}],\"scattergeo\":[{\"type\":\"scattergeo\",\"marker\":{\"colorbar\":{\"outlinewidth\":0,\"ticks\":\"\"}}}],\"scatterpolar\":[{\"type\":\"scatterpolar\",\"marker\":{\"colorbar\":{\"outlinewidth\":0,\"ticks\":\"\"}}}],\"histogram\":[{\"marker\":{\"pattern\":{\"fillmode\":\"overlay\",\"size\":10,\"solidity\":0.2}},\"type\":\"histogram\"}],\"scattergl\":[{\"type\":\"scattergl\",\"marker\":{\"colorbar\":{\"outlinewidth\":0,\"ticks\":\"\"}}}],\"scatter3d\":[{\"type\":\"scatter3d\",\"line\":{\"colorbar\":{\"outlinewidth\":0,\"ticks\":\"\"}},\"marker\":{\"colorbar\":{\"outlinewidth\":0,\"ticks\":\"\"}}}],\"scattermapbox\":[{\"type\":\"scattermapbox\",\"marker\":{\"colorbar\":{\"outlinewidth\":0,\"ticks\":\"\"}}}],\"scatterternary\":[{\"type\":\"scatterternary\",\"marker\":{\"colorbar\":{\"outlinewidth\":0,\"ticks\":\"\"}}}],\"scattercarpet\":[{\"type\":\"scattercarpet\",\"marker\":{\"colorbar\":{\"outlinewidth\":0,\"ticks\":\"\"}}}],\"carpet\":[{\"aaxis\":{\"endlinecolor\":\"#2a3f5f\",\"gridcolor\":\"white\",\"linecolor\":\"white\",\"minorgridcolor\":\"white\",\"startlinecolor\":\"#2a3f5f\"},\"baxis\":{\"endlinecolor\":\"#2a3f5f\",\"gridcolor\":\"white\",\"linecolor\":\"white\",\"minorgridcolor\":\"white\",\"startlinecolor\":\"#2a3f5f\"},\"type\":\"carpet\"}],\"table\":[{\"cells\":{\"fill\":{\"color\":\"#EBF0F8\"},\"line\":{\"color\":\"white\"}},\"header\":{\"fill\":{\"color\":\"#C8D4E3\"},\"line\":{\"color\":\"white\"}},\"type\":\"table\"}],\"barpolar\":[{\"marker\":{\"line\":{\"color\":\"#E5ECF6\",\"width\":0.5},\"pattern\":{\"fillmode\":\"overlay\",\"size\":10,\"solidity\":0.2}},\"type\":\"barpolar\"}],\"pie\":[{\"automargin\":true,\"type\":\"pie\"}]},\"layout\":{\"autotypenumbers\":\"strict\",\"colorway\":[\"#636efa\",\"#EF553B\",\"#00cc96\",\"#ab63fa\",\"#FFA15A\",\"#19d3f3\",\"#FF6692\",\"#B6E880\",\"#FF97FF\",\"#FECB52\"],\"font\":{\"color\":\"#2a3f5f\"},\"hovermode\":\"closest\",\"hoverlabel\":{\"align\":\"left\"},\"paper_bgcolor\":\"white\",\"plot_bgcolor\":\"#E5ECF6\",\"polar\":{\"bgcolor\":\"#E5ECF6\",\"angularaxis\":{\"gridcolor\":\"white\",\"linecolor\":\"white\",\"ticks\":\"\"},\"radialaxis\":{\"gridcolor\":\"white\",\"linecolor\":\"white\",\"ticks\":\"\"}},\"ternary\":{\"bgcolor\":\"#E5ECF6\",\"aaxis\":{\"gridcolor\":\"white\",\"linecolor\":\"white\",\"ticks\":\"\"},\"baxis\":{\"gridcolor\":\"white\",\"linecolor\":\"white\",\"ticks\":\"\"},\"caxis\":{\"gridcolor\":\"white\",\"linecolor\":\"white\",\"ticks\":\"\"}},\"coloraxis\":{\"colorbar\":{\"outlinewidth\":0,\"ticks\":\"\"}},\"colorscale\":{\"sequential\":[[0.0,\"#0d0887\"],[0.1111111111111111,\"#46039f\"],[0.2222222222222222,\"#7201a8\"],[0.3333333333333333,\"#9c179e\"],[0.4444444444444444,\"#bd3786\"],[0.5555555555555556,\"#d8576b\"],[0.6666666666666666,\"#ed7953\"],[0.7777777777777778,\"#fb9f3a\"],[0.8888888888888888,\"#fdca26\"],[1.0,\"#f0f921\"]],\"sequentialminus\":[[0.0,\"#0d0887\"],[0.1111111111111111,\"#46039f\"],[0.2222222222222222,\"#7201a8\"],[0.3333333333333333,\"#9c179e\"],[0.4444444444444444,\"#bd3786\"],[0.5555555555555556,\"#d8576b\"],[0.6666666666666666,\"#ed7953\"],[0.7777777777777778,\"#fb9f3a\"],[0.8888888888888888,\"#fdca26\"],[1.0,\"#f0f921\"]],\"diverging\":[[0,\"#8e0152\"],[0.1,\"#c51b7d\"],[0.2,\"#de77ae\"],[0.3,\"#f1b6da\"],[0.4,\"#fde0ef\"],[0.5,\"#f7f7f7\"],[0.6,\"#e6f5d0\"],[0.7,\"#b8e186\"],[0.8,\"#7fbc41\"],[0.9,\"#4d9221\"],[1,\"#276419\"]]},\"xaxis\":{\"gridcolor\":\"white\",\"linecolor\":\"white\",\"ticks\":\"\",\"title\":{\"standoff\":15},\"zerolinecolor\":\"white\",\"automargin\":true,\"zerolinewidth\":2},\"yaxis\":{\"gridcolor\":\"white\",\"linecolor\":\"white\",\"ticks\":\"\",\"title\":{\"standoff\":15},\"zerolinecolor\":\"white\",\"automargin\":true,\"zerolinewidth\":2},\"scene\":{\"xaxis\":{\"backgroundcolor\":\"#E5ECF6\",\"gridcolor\":\"white\",\"linecolor\":\"white\",\"showbackground\":true,\"ticks\":\"\",\"zerolinecolor\":\"white\",\"gridwidth\":2},\"yaxis\":{\"backgroundcolor\":\"#E5ECF6\",\"gridcolor\":\"white\",\"linecolor\":\"white\",\"showbackground\":true,\"ticks\":\"\",\"zerolinecolor\":\"white\",\"gridwidth\":2},\"zaxis\":{\"backgroundcolor\":\"#E5ECF6\",\"gridcolor\":\"white\",\"linecolor\":\"white\",\"showbackground\":true,\"ticks\":\"\",\"zerolinecolor\":\"white\",\"gridwidth\":2}},\"shapedefaults\":{\"line\":{\"color\":\"#2a3f5f\"}},\"annotationdefaults\":{\"arrowcolor\":\"#2a3f5f\",\"arrowhead\":0,\"arrowwidth\":1},\"geo\":{\"bgcolor\":\"white\",\"landcolor\":\"#E5ECF6\",\"subunitcolor\":\"white\",\"showland\":true,\"showlakes\":true,\"lakecolor\":\"white\"},\"title\":{\"x\":0.05},\"mapbox\":{\"style\":\"light\"}}},\"xaxis\":{\"anchor\":\"y\",\"domain\":[0.0,0.082],\"title\":{\"text\":\"asymmetric_alpha\"}},\"yaxis\":{\"anchor\":\"x\",\"domain\":[0.0,1.0],\"title\":{\"text\":\"Objective Value\"}},\"xaxis2\":{\"anchor\":\"y2\",\"domain\":[0.10200000000000001,0.184],\"title\":{\"text\":\"feature_weighting\"},\"type\":\"category\",\"categoryorder\":\"array\",\"categoryarray\":[\"BM25\",\"TF-IDF\",\"none\"]},\"yaxis2\":{\"anchor\":\"x2\",\"domain\":[0.0,1.0],\"matches\":\"y\",\"showticklabels\":false},\"xaxis3\":{\"anchor\":\"y3\",\"domain\":[0.20400000000000001,0.28600000000000003],\"title\":{\"text\":\"normalize\"},\"type\":\"category\",\"categoryorder\":\"array\",\"categoryarray\":[true,false]},\"yaxis3\":{\"anchor\":\"x3\",\"domain\":[0.0,1.0],\"matches\":\"y\",\"showticklabels\":false},\"xaxis4\":{\"anchor\":\"y4\",\"domain\":[0.306,0.388],\"title\":{\"text\":\"normalize_avg_row\"},\"type\":\"category\",\"categoryorder\":\"array\",\"categoryarray\":[true,false]},\"yaxis4\":{\"anchor\":\"x4\",\"domain\":[0.0,1.0],\"matches\":\"y\",\"showticklabels\":false},\"xaxis5\":{\"anchor\":\"y5\",\"domain\":[0.40800000000000003,0.49000000000000005],\"title\":{\"text\":\"shrink\"}},\"yaxis5\":{\"anchor\":\"x5\",\"domain\":[0.0,1.0],\"matches\":\"y\",\"showticklabels\":false},\"xaxis6\":{\"anchor\":\"y6\",\"domain\":[0.51,0.592],\"title\":{\"text\":\"similarity\"},\"type\":\"category\",\"categoryorder\":\"array\",\"categoryarray\":[\"cosine\",\"dice\",\"jaccard\",\"asymmetric\",\"tversky\",\"euclidean\"]},\"yaxis6\":{\"anchor\":\"x6\",\"domain\":[0.0,1.0],\"matches\":\"y\",\"showticklabels\":false},\"xaxis7\":{\"anchor\":\"y7\",\"domain\":[0.6120000000000001,0.6940000000000001],\"title\":{\"text\":\"similarity_from_distance_mode\"},\"type\":\"category\",\"categoryorder\":\"array\",\"categoryarray\":[\"lin\",\"log\",\"exp\"]},\"yaxis7\":{\"anchor\":\"x7\",\"domain\":[0.0,1.0],\"matches\":\"y\",\"showticklabels\":false},\"xaxis8\":{\"anchor\":\"y8\",\"domain\":[0.7140000000000001,0.796],\"title\":{\"text\":\"topK\"}},\"yaxis8\":{\"anchor\":\"x8\",\"domain\":[0.0,1.0],\"matches\":\"y\",\"showticklabels\":false},\"xaxis9\":{\"anchor\":\"y9\",\"domain\":[0.8160000000000001,0.898],\"title\":{\"text\":\"tversky_alpha\"}},\"yaxis9\":{\"anchor\":\"x9\",\"domain\":[0.0,1.0],\"matches\":\"y\",\"showticklabels\":false},\"xaxis10\":{\"anchor\":\"y10\",\"domain\":[0.9179999999999999,0.9999999999999999],\"title\":{\"text\":\"tversky_beta\"}},\"yaxis10\":{\"anchor\":\"x10\",\"domain\":[0.0,1.0],\"matches\":\"y\",\"showticklabels\":false},\"title\":{\"text\":\"Slice Plot\"},\"width\":3000},                        {\"responsive\": true}                    ).then(function(){\n",
       "                            \n",
       "var gd = document.getElementById('1e609331-7d78-48f8-96c1-05ac48b99884');\n",
       "var x = new MutationObserver(function (mutations, observer) {{\n",
       "        var display = window.getComputedStyle(gd).display;\n",
       "        if (!display || display === 'none') {{\n",
       "            console.log([gd, 'removed!']);\n",
       "            Plotly.purge(gd);\n",
       "            observer.disconnect();\n",
       "        }}\n",
       "}});\n",
       "\n",
       "// Listen for the removal of the full notebook cells\n",
       "var notebookContainer = gd.closest('#notebook-container');\n",
       "if (notebookContainer) {{\n",
       "    x.observe(notebookContainer, {childList: true});\n",
       "}}\n",
       "\n",
       "// Listen for the clearing of the current output cell\n",
       "var outputEl = gd.closest('.output');\n",
       "if (outputEl) {{\n",
       "    x.observe(outputEl, {childList: true});\n",
       "}}\n",
       "\n",
       "                        })                };                            </script>        </div>\n",
       "</body>\n",
       "</html>"
      ]
     },
     "metadata": {},
     "output_type": "display_data"
    }
   ],
   "source": [
    "if not config['tune_parameters']:\n",
    "    optuna_study = optuna.load_study(study_name=f'hyperparameters_tuning_{config[\"model\"]}_{config[\"metric\"]}', storage=f'sqlite:///{config[\"database_path\"]}')\n",
    "    \n",
    "fig = optuna.visualization.plot_slice(optuna_study)\n",
    "fig.show()"
   ]
  },
  {
   "cell_type": "code",
   "execution_count": 15,
   "id": "3488c25e",
   "metadata": {
    "execution": {
     "iopub.execute_input": "2025-01-06T08:09:32.993067Z",
     "iopub.status.busy": "2025-01-06T08:09:32.992718Z",
     "iopub.status.idle": "2025-01-06T08:09:42.999101Z",
     "shell.execute_reply": "2025-01-06T08:09:42.997769Z"
    },
    "papermill": {
     "duration": 10.162993,
     "end_time": "2025-01-06T08:09:43.001592",
     "exception": false,
     "start_time": "2025-01-06T08:09:32.838599",
     "status": "completed"
    },
    "tags": []
   },
   "outputs": [
    {
     "data": {
      "text/html": [
       "<html>\n",
       "<head><meta charset=\"utf-8\" /></head>\n",
       "<body>\n",
       "    <div>            <script src=\"https://cdnjs.cloudflare.com/ajax/libs/mathjax/2.7.5/MathJax.js?config=TeX-AMS-MML_SVG\"></script><script type=\"text/javascript\">if (window.MathJax && window.MathJax.Hub && window.MathJax.Hub.Config) {window.MathJax.Hub.Config({SVG: {font: \"STIX-Web\"}});}</script>                <script type=\"text/javascript\">window.PlotlyConfig = {MathJaxConfig: 'local'};</script>\n",
       "        <script charset=\"utf-8\" src=\"https://cdn.plot.ly/plotly-2.35.2.min.js\"></script>                <div id=\"897eab13-db35-46e1-a93c-e5b126579e3b\" class=\"plotly-graph-div\" style=\"height:525px; width:100%;\"></div>            <script type=\"text/javascript\">                                    window.PLOTLYENV=window.PLOTLYENV || {};                                    if (document.getElementById(\"897eab13-db35-46e1-a93c-e5b126579e3b\")) {                    Plotly.newPlot(                        \"897eab13-db35-46e1-a93c-e5b126579e3b\",                        [{\"cliponaxis\":false,\"hovertemplate\":[\"feature_weighting (CategoricalDistribution): 0.03509186331440592\\u003cextra\\u003e\\u003c\\u002fextra\\u003e\",\"shrink (IntDistribution): 0.038915930374835164\\u003cextra\\u003e\\u003c\\u002fextra\\u003e\",\"topK (IntDistribution): 0.2284515691518651\\u003cextra\\u003e\\u003c\\u002fextra\\u003e\",\"similarity (CategoricalDistribution): 0.6975406371588938\\u003cextra\\u003e\\u003c\\u002fextra\\u003e\"],\"name\":\"Objective Value\",\"orientation\":\"h\",\"text\":[\"0.04\",\"0.04\",\"0.23\",\"0.70\"],\"textposition\":\"outside\",\"x\":[0.03509186331440592,0.038915930374835164,0.2284515691518651,0.6975406371588938],\"y\":[\"feature_weighting\",\"shrink\",\"topK\",\"similarity\"],\"type\":\"bar\"}],                        {\"title\":{\"text\":\"Hyperparameter Importances\"},\"xaxis\":{\"title\":{\"text\":\"Hyperparameter Importance\"}},\"yaxis\":{\"title\":{\"text\":\"Hyperparameter\"}},\"template\":{\"data\":{\"histogram2dcontour\":[{\"type\":\"histogram2dcontour\",\"colorbar\":{\"outlinewidth\":0,\"ticks\":\"\"},\"colorscale\":[[0.0,\"#0d0887\"],[0.1111111111111111,\"#46039f\"],[0.2222222222222222,\"#7201a8\"],[0.3333333333333333,\"#9c179e\"],[0.4444444444444444,\"#bd3786\"],[0.5555555555555556,\"#d8576b\"],[0.6666666666666666,\"#ed7953\"],[0.7777777777777778,\"#fb9f3a\"],[0.8888888888888888,\"#fdca26\"],[1.0,\"#f0f921\"]]}],\"choropleth\":[{\"type\":\"choropleth\",\"colorbar\":{\"outlinewidth\":0,\"ticks\":\"\"}}],\"histogram2d\":[{\"type\":\"histogram2d\",\"colorbar\":{\"outlinewidth\":0,\"ticks\":\"\"},\"colorscale\":[[0.0,\"#0d0887\"],[0.1111111111111111,\"#46039f\"],[0.2222222222222222,\"#7201a8\"],[0.3333333333333333,\"#9c179e\"],[0.4444444444444444,\"#bd3786\"],[0.5555555555555556,\"#d8576b\"],[0.6666666666666666,\"#ed7953\"],[0.7777777777777778,\"#fb9f3a\"],[0.8888888888888888,\"#fdca26\"],[1.0,\"#f0f921\"]]}],\"heatmap\":[{\"type\":\"heatmap\",\"colorbar\":{\"outlinewidth\":0,\"ticks\":\"\"},\"colorscale\":[[0.0,\"#0d0887\"],[0.1111111111111111,\"#46039f\"],[0.2222222222222222,\"#7201a8\"],[0.3333333333333333,\"#9c179e\"],[0.4444444444444444,\"#bd3786\"],[0.5555555555555556,\"#d8576b\"],[0.6666666666666666,\"#ed7953\"],[0.7777777777777778,\"#fb9f3a\"],[0.8888888888888888,\"#fdca26\"],[1.0,\"#f0f921\"]]}],\"heatmapgl\":[{\"type\":\"heatmapgl\",\"colorbar\":{\"outlinewidth\":0,\"ticks\":\"\"},\"colorscale\":[[0.0,\"#0d0887\"],[0.1111111111111111,\"#46039f\"],[0.2222222222222222,\"#7201a8\"],[0.3333333333333333,\"#9c179e\"],[0.4444444444444444,\"#bd3786\"],[0.5555555555555556,\"#d8576b\"],[0.6666666666666666,\"#ed7953\"],[0.7777777777777778,\"#fb9f3a\"],[0.8888888888888888,\"#fdca26\"],[1.0,\"#f0f921\"]]}],\"contourcarpet\":[{\"type\":\"contourcarpet\",\"colorbar\":{\"outlinewidth\":0,\"ticks\":\"\"}}],\"contour\":[{\"type\":\"contour\",\"colorbar\":{\"outlinewidth\":0,\"ticks\":\"\"},\"colorscale\":[[0.0,\"#0d0887\"],[0.1111111111111111,\"#46039f\"],[0.2222222222222222,\"#7201a8\"],[0.3333333333333333,\"#9c179e\"],[0.4444444444444444,\"#bd3786\"],[0.5555555555555556,\"#d8576b\"],[0.6666666666666666,\"#ed7953\"],[0.7777777777777778,\"#fb9f3a\"],[0.8888888888888888,\"#fdca26\"],[1.0,\"#f0f921\"]]}],\"surface\":[{\"type\":\"surface\",\"colorbar\":{\"outlinewidth\":0,\"ticks\":\"\"},\"colorscale\":[[0.0,\"#0d0887\"],[0.1111111111111111,\"#46039f\"],[0.2222222222222222,\"#7201a8\"],[0.3333333333333333,\"#9c179e\"],[0.4444444444444444,\"#bd3786\"],[0.5555555555555556,\"#d8576b\"],[0.6666666666666666,\"#ed7953\"],[0.7777777777777778,\"#fb9f3a\"],[0.8888888888888888,\"#fdca26\"],[1.0,\"#f0f921\"]]}],\"mesh3d\":[{\"type\":\"mesh3d\",\"colorbar\":{\"outlinewidth\":0,\"ticks\":\"\"}}],\"scatter\":[{\"fillpattern\":{\"fillmode\":\"overlay\",\"size\":10,\"solidity\":0.2},\"type\":\"scatter\"}],\"parcoords\":[{\"type\":\"parcoords\",\"line\":{\"colorbar\":{\"outlinewidth\":0,\"ticks\":\"\"}}}],\"scatterpolargl\":[{\"type\":\"scatterpolargl\",\"marker\":{\"colorbar\":{\"outlinewidth\":0,\"ticks\":\"\"}}}],\"bar\":[{\"error_x\":{\"color\":\"#2a3f5f\"},\"error_y\":{\"color\":\"#2a3f5f\"},\"marker\":{\"line\":{\"color\":\"#E5ECF6\",\"width\":0.5},\"pattern\":{\"fillmode\":\"overlay\",\"size\":10,\"solidity\":0.2}},\"type\":\"bar\"}],\"scattergeo\":[{\"type\":\"scattergeo\",\"marker\":{\"colorbar\":{\"outlinewidth\":0,\"ticks\":\"\"}}}],\"scatterpolar\":[{\"type\":\"scatterpolar\",\"marker\":{\"colorbar\":{\"outlinewidth\":0,\"ticks\":\"\"}}}],\"histogram\":[{\"marker\":{\"pattern\":{\"fillmode\":\"overlay\",\"size\":10,\"solidity\":0.2}},\"type\":\"histogram\"}],\"scattergl\":[{\"type\":\"scattergl\",\"marker\":{\"colorbar\":{\"outlinewidth\":0,\"ticks\":\"\"}}}],\"scatter3d\":[{\"type\":\"scatter3d\",\"line\":{\"colorbar\":{\"outlinewidth\":0,\"ticks\":\"\"}},\"marker\":{\"colorbar\":{\"outlinewidth\":0,\"ticks\":\"\"}}}],\"scattermapbox\":[{\"type\":\"scattermapbox\",\"marker\":{\"colorbar\":{\"outlinewidth\":0,\"ticks\":\"\"}}}],\"scatterternary\":[{\"type\":\"scatterternary\",\"marker\":{\"colorbar\":{\"outlinewidth\":0,\"ticks\":\"\"}}}],\"scattercarpet\":[{\"type\":\"scattercarpet\",\"marker\":{\"colorbar\":{\"outlinewidth\":0,\"ticks\":\"\"}}}],\"carpet\":[{\"aaxis\":{\"endlinecolor\":\"#2a3f5f\",\"gridcolor\":\"white\",\"linecolor\":\"white\",\"minorgridcolor\":\"white\",\"startlinecolor\":\"#2a3f5f\"},\"baxis\":{\"endlinecolor\":\"#2a3f5f\",\"gridcolor\":\"white\",\"linecolor\":\"white\",\"minorgridcolor\":\"white\",\"startlinecolor\":\"#2a3f5f\"},\"type\":\"carpet\"}],\"table\":[{\"cells\":{\"fill\":{\"color\":\"#EBF0F8\"},\"line\":{\"color\":\"white\"}},\"header\":{\"fill\":{\"color\":\"#C8D4E3\"},\"line\":{\"color\":\"white\"}},\"type\":\"table\"}],\"barpolar\":[{\"marker\":{\"line\":{\"color\":\"#E5ECF6\",\"width\":0.5},\"pattern\":{\"fillmode\":\"overlay\",\"size\":10,\"solidity\":0.2}},\"type\":\"barpolar\"}],\"pie\":[{\"automargin\":true,\"type\":\"pie\"}]},\"layout\":{\"autotypenumbers\":\"strict\",\"colorway\":[\"#636efa\",\"#EF553B\",\"#00cc96\",\"#ab63fa\",\"#FFA15A\",\"#19d3f3\",\"#FF6692\",\"#B6E880\",\"#FF97FF\",\"#FECB52\"],\"font\":{\"color\":\"#2a3f5f\"},\"hovermode\":\"closest\",\"hoverlabel\":{\"align\":\"left\"},\"paper_bgcolor\":\"white\",\"plot_bgcolor\":\"#E5ECF6\",\"polar\":{\"bgcolor\":\"#E5ECF6\",\"angularaxis\":{\"gridcolor\":\"white\",\"linecolor\":\"white\",\"ticks\":\"\"},\"radialaxis\":{\"gridcolor\":\"white\",\"linecolor\":\"white\",\"ticks\":\"\"}},\"ternary\":{\"bgcolor\":\"#E5ECF6\",\"aaxis\":{\"gridcolor\":\"white\",\"linecolor\":\"white\",\"ticks\":\"\"},\"baxis\":{\"gridcolor\":\"white\",\"linecolor\":\"white\",\"ticks\":\"\"},\"caxis\":{\"gridcolor\":\"white\",\"linecolor\":\"white\",\"ticks\":\"\"}},\"coloraxis\":{\"colorbar\":{\"outlinewidth\":0,\"ticks\":\"\"}},\"colorscale\":{\"sequential\":[[0.0,\"#0d0887\"],[0.1111111111111111,\"#46039f\"],[0.2222222222222222,\"#7201a8\"],[0.3333333333333333,\"#9c179e\"],[0.4444444444444444,\"#bd3786\"],[0.5555555555555556,\"#d8576b\"],[0.6666666666666666,\"#ed7953\"],[0.7777777777777778,\"#fb9f3a\"],[0.8888888888888888,\"#fdca26\"],[1.0,\"#f0f921\"]],\"sequentialminus\":[[0.0,\"#0d0887\"],[0.1111111111111111,\"#46039f\"],[0.2222222222222222,\"#7201a8\"],[0.3333333333333333,\"#9c179e\"],[0.4444444444444444,\"#bd3786\"],[0.5555555555555556,\"#d8576b\"],[0.6666666666666666,\"#ed7953\"],[0.7777777777777778,\"#fb9f3a\"],[0.8888888888888888,\"#fdca26\"],[1.0,\"#f0f921\"]],\"diverging\":[[0,\"#8e0152\"],[0.1,\"#c51b7d\"],[0.2,\"#de77ae\"],[0.3,\"#f1b6da\"],[0.4,\"#fde0ef\"],[0.5,\"#f7f7f7\"],[0.6,\"#e6f5d0\"],[0.7,\"#b8e186\"],[0.8,\"#7fbc41\"],[0.9,\"#4d9221\"],[1,\"#276419\"]]},\"xaxis\":{\"gridcolor\":\"white\",\"linecolor\":\"white\",\"ticks\":\"\",\"title\":{\"standoff\":15},\"zerolinecolor\":\"white\",\"automargin\":true,\"zerolinewidth\":2},\"yaxis\":{\"gridcolor\":\"white\",\"linecolor\":\"white\",\"ticks\":\"\",\"title\":{\"standoff\":15},\"zerolinecolor\":\"white\",\"automargin\":true,\"zerolinewidth\":2},\"scene\":{\"xaxis\":{\"backgroundcolor\":\"#E5ECF6\",\"gridcolor\":\"white\",\"linecolor\":\"white\",\"showbackground\":true,\"ticks\":\"\",\"zerolinecolor\":\"white\",\"gridwidth\":2},\"yaxis\":{\"backgroundcolor\":\"#E5ECF6\",\"gridcolor\":\"white\",\"linecolor\":\"white\",\"showbackground\":true,\"ticks\":\"\",\"zerolinecolor\":\"white\",\"gridwidth\":2},\"zaxis\":{\"backgroundcolor\":\"#E5ECF6\",\"gridcolor\":\"white\",\"linecolor\":\"white\",\"showbackground\":true,\"ticks\":\"\",\"zerolinecolor\":\"white\",\"gridwidth\":2}},\"shapedefaults\":{\"line\":{\"color\":\"#2a3f5f\"}},\"annotationdefaults\":{\"arrowcolor\":\"#2a3f5f\",\"arrowhead\":0,\"arrowwidth\":1},\"geo\":{\"bgcolor\":\"white\",\"landcolor\":\"#E5ECF6\",\"subunitcolor\":\"white\",\"showland\":true,\"showlakes\":true,\"lakecolor\":\"white\"},\"title\":{\"x\":0.05},\"mapbox\":{\"style\":\"light\"}}}},                        {\"responsive\": true}                    ).then(function(){\n",
       "                            \n",
       "var gd = document.getElementById('897eab13-db35-46e1-a93c-e5b126579e3b');\n",
       "var x = new MutationObserver(function (mutations, observer) {{\n",
       "        var display = window.getComputedStyle(gd).display;\n",
       "        if (!display || display === 'none') {{\n",
       "            console.log([gd, 'removed!']);\n",
       "            Plotly.purge(gd);\n",
       "            observer.disconnect();\n",
       "        }}\n",
       "}});\n",
       "\n",
       "// Listen for the removal of the full notebook cells\n",
       "var notebookContainer = gd.closest('#notebook-container');\n",
       "if (notebookContainer) {{\n",
       "    x.observe(notebookContainer, {childList: true});\n",
       "}}\n",
       "\n",
       "// Listen for the clearing of the current output cell\n",
       "var outputEl = gd.closest('.output');\n",
       "if (outputEl) {{\n",
       "    x.observe(outputEl, {childList: true});\n",
       "}}\n",
       "\n",
       "                        })                };                            </script>        </div>\n",
       "</body>\n",
       "</html>"
      ]
     },
     "metadata": {},
     "output_type": "display_data"
    }
   ],
   "source": [
    "if not config['tune_parameters']:\n",
    "    optuna_study = optuna.load_study(study_name=f'hyperparameters_tuning_{config[\"model\"]}_{config[\"metric\"]}', storage=f'sqlite:///{config[\"database_path\"]}')\n",
    "    \n",
    "fig = optuna.visualization.plot_param_importances(optuna_study)\n",
    "fig.show()"
   ]
  },
  {
   "cell_type": "markdown",
   "id": "0ee3595e",
   "metadata": {
    "papermill": {
     "duration": 0.151099,
     "end_time": "2025-01-06T08:09:43.312281",
     "exception": false,
     "start_time": "2025-01-06T08:09:43.161182",
     "status": "completed"
    },
    "tags": []
   },
   "source": [
    "## Let's train the recommender with best parameter values"
   ]
  },
  {
   "cell_type": "code",
   "execution_count": 16,
   "id": "51933175",
   "metadata": {
    "execution": {
     "iopub.execute_input": "2025-01-06T08:09:43.620039Z",
     "iopub.status.busy": "2025-01-06T08:09:43.619619Z",
     "iopub.status.idle": "2025-01-06T08:10:00.119167Z",
     "shell.execute_reply": "2025-01-06T08:10:00.116850Z"
    },
    "papermill": {
     "duration": 16.657356,
     "end_time": "2025-01-06T08:10:00.121426",
     "exception": false,
     "start_time": "2025-01-06T08:09:43.464070",
     "status": "completed"
    },
    "tags": []
   },
   "outputs": [
    {
     "name": "stdout",
     "output_type": "stream",
     "text": [
      "Similarity column 38121 (100.0%), 2374.38 column/sec. Elapsed time 16.06 sec\n"
     ]
    }
   ],
   "source": [
    "if config['tune_best_params']:\n",
    "\n",
    "    if config['tune_parameters']:\n",
    "        best_params = optuna_study.best_trial.params\n",
    "    else: \n",
    "        with open(f'{K_PATH}/{GH_PATH}/{config[\"model\"]}Recommender/Optimizing{config[\"metric\"]}/best_params_{config[\"model\"]}_{config[\"metric\"]}.json', 'r') as best_params_json:\n",
    "            best_params = json.load(best_params_json)\n",
    "\n",
    "    recommender_instance = ItemKNNCFRecommender(URM_train + URM_validation)\n",
    "    recommender_instance.fit(**best_params)"
   ]
  },
  {
   "cell_type": "markdown",
   "id": "1ccf0418",
   "metadata": {
    "papermill": {
     "duration": 0.179074,
     "end_time": "2025-01-06T08:10:00.488116",
     "exception": false,
     "start_time": "2025-01-06T08:10:00.309042",
     "status": "completed"
    },
    "tags": []
   },
   "source": [
    "# Testing"
   ]
  },
  {
   "cell_type": "markdown",
   "id": "6f427594",
   "metadata": {
    "papermill": {
     "duration": 0.168898,
     "end_time": "2025-01-06T08:10:00.828542",
     "exception": false,
     "start_time": "2025-01-06T08:10:00.659644",
     "status": "completed"
    },
    "tags": []
   },
   "source": [
    "Create the recommendations for the submission. "
   ]
  },
  {
   "cell_type": "code",
   "execution_count": 17,
   "id": "c5fdd6d8",
   "metadata": {
    "execution": {
     "iopub.execute_input": "2025-01-06T08:10:01.169653Z",
     "iopub.status.busy": "2025-01-06T08:10:01.169212Z",
     "iopub.status.idle": "2025-01-06T08:10:21.345926Z",
     "shell.execute_reply": "2025-01-06T08:10:21.344152Z"
    },
    "papermill": {
     "duration": 20.353654,
     "end_time": "2025-01-06T08:10:21.348299",
     "exception": false,
     "start_time": "2025-01-06T08:10:00.994645",
     "status": "completed"
    },
    "tags": []
   },
   "outputs": [
    {
     "name": "stdout",
     "output_type": "stream",
     "text": [
      "Submission file saved as /kaggle/working/submission_ItemKNNCF_MAP.csv\n"
     ]
    }
   ],
   "source": [
    "if config['tune_best_params']:\n",
    "\n",
    "    data_target_users_test = pd.read_csv('/kaggle/input/recommender-system-2024-challenge-polimi/data_target_users_test.csv')\n",
    "    create_submission(data_target_users_test, recommender_instance, f'/kaggle/working/submission_{config[\"model\"]}_{config[\"metric\"]}.csv')"
   ]
  },
  {
   "cell_type": "markdown",
   "id": "c47961d8",
   "metadata": {
    "execution": {
     "iopub.execute_input": "2024-11-14T00:04:16.877791Z",
     "iopub.status.busy": "2024-11-14T00:04:16.877275Z",
     "iopub.status.idle": "2024-11-14T00:04:16.883170Z",
     "shell.execute_reply": "2024-11-14T00:04:16.881889Z",
     "shell.execute_reply.started": "2024-11-14T00:04:16.877743Z"
    },
    "papermill": {
     "duration": 0.202251,
     "end_time": "2025-01-06T08:10:21.809313",
     "exception": false,
     "start_time": "2025-01-06T08:10:21.607062",
     "status": "completed"
    },
    "tags": []
   },
   "source": [
    "# Save Version on GitHub "
   ]
  },
  {
   "cell_type": "markdown",
   "id": "92a57f71",
   "metadata": {
    "papermill": {
     "duration": 0.192549,
     "end_time": "2025-01-06T08:10:22.196822",
     "exception": false,
     "start_time": "2025-01-06T08:10:22.004273",
     "status": "completed"
    },
    "tags": []
   },
   "source": [
    "Write or import a json file where best hyperparameters are saved. "
   ]
  },
  {
   "cell_type": "code",
   "execution_count": 18,
   "id": "cce4bff7",
   "metadata": {
    "execution": {
     "iopub.execute_input": "2025-01-06T08:10:22.580405Z",
     "iopub.status.busy": "2025-01-06T08:10:22.579971Z",
     "iopub.status.idle": "2025-01-06T08:10:23.535641Z",
     "shell.execute_reply": "2025-01-06T08:10:23.534373Z"
    },
    "papermill": {
     "duration": 1.147133,
     "end_time": "2025-01-06T08:10:23.537741",
     "exception": false,
     "start_time": "2025-01-06T08:10:22.390608",
     "status": "completed"
    },
    "tags": []
   },
   "outputs": [
    {
     "name": "stdout",
     "output_type": "stream",
     "text": [
      "File 'TrainedModels/WithKFCV/KNN/ItemKNNCFRecommender/OptimizingMAP/best_params_ItemKNNCF_MAP.json' updated successfully.\n"
     ]
    }
   ],
   "source": [
    "if config['tune_parameters']:\n",
    "    with open(f'/kaggle/working/best_params_{config[\"model\"]}_{config[\"metric\"]}.json', 'w') as params_file:\n",
    "        json.dump(optuna_study.best_params, params_file)\n",
    "        \n",
    "    if config['save_github']:\n",
    "        upload_file(\n",
    "            f'/kaggle/working/best_params_{config[\"model\"]}_{config[\"metric\"]}.json', \n",
    "            f'{GH_PATH}/{config[\"model\"]}Recommender/Optimizing{config[\"metric\"]}/best_params_{config[\"model\"]}_{config[\"metric\"]}.json', \n",
    "            f'{config[\"model\"]}_{config[\"metric\"]} tuning results (from kaggle notebook)',\n",
    "            repo\n",
    "        )\n",
    "elif config['copy_prev_best_params']:\n",
    "    shutil.copyfile(\n",
    "        f'{K_PATH}/{GH_PATH}/{config[\"model\"]}Recommender/Optimizing{config[\"metric\"]}/'\\\n",
    "        f'best_params_{config[\"model\"]}_{config[\"metric\"]}.json', \n",
    "        f'/kaggle/working/best_params_{config[\"model\"]}_{config[\"metric\"]}.json'\n",
    "    )"
   ]
  },
  {
   "cell_type": "markdown",
   "id": "2429d194",
   "metadata": {
    "papermill": {
     "duration": 0.190221,
     "end_time": "2025-01-06T08:10:23.916064",
     "exception": false,
     "start_time": "2025-01-06T08:10:23.725843",
     "status": "completed"
    },
    "tags": []
   },
   "source": [
    "Save the history of the tuned model."
   ]
  },
  {
   "cell_type": "code",
   "execution_count": 19,
   "id": "74b0b7fe",
   "metadata": {
    "execution": {
     "iopub.execute_input": "2025-01-06T08:10:24.434348Z",
     "iopub.status.busy": "2025-01-06T08:10:24.433970Z",
     "iopub.status.idle": "2025-01-06T08:10:25.733682Z",
     "shell.execute_reply": "2025-01-06T08:10:25.732011Z"
    },
    "papermill": {
     "duration": 1.633833,
     "end_time": "2025-01-06T08:10:25.736041",
     "exception": false,
     "start_time": "2025-01-06T08:10:24.102208",
     "status": "completed"
    },
    "tags": []
   },
   "outputs": [
    {
     "name": "stdout",
     "output_type": "stream",
     "text": [
      "File 'TrainedModels/WithKFCV/KNN/ItemKNNCFRecommender/OptimizingMAP/history_ItemKNNCF_MAP.db' updated successfully.\n"
     ]
    }
   ],
   "source": [
    "if config['save_github'] and config['tune_parameters']:\n",
    "    upload_file(\n",
    "        config['database_path'], \n",
    "        f'{GH_PATH}/{config[\"model\"]}Recommender/Optimizing{config[\"metric\"]}/history_{config[\"model\"]}_{config[\"metric\"]}.db',\n",
    "        f'Tuning {config[\"model\"]}_{config[\"metric\"]} db updated results (from kaggle notebook)',\n",
    "        repo\n",
    "    )"
   ]
  },
  {
   "cell_type": "markdown",
   "id": "36bad281",
   "metadata": {
    "execution": {
     "iopub.execute_input": "2024-11-14T00:41:34.294243Z",
     "iopub.status.busy": "2024-11-14T00:41:34.293739Z",
     "iopub.status.idle": "2024-11-14T00:41:34.301478Z",
     "shell.execute_reply": "2024-11-14T00:41:34.299869Z",
     "shell.execute_reply.started": "2024-11-14T00:41:34.294186Z"
    },
    "papermill": {
     "duration": 0.190595,
     "end_time": "2025-01-06T08:10:26.117679",
     "exception": false,
     "start_time": "2025-01-06T08:10:25.927084",
     "status": "completed"
    },
    "tags": []
   },
   "source": [
    "Save the best trained model and its submission."
   ]
  },
  {
   "cell_type": "code",
   "execution_count": 20,
   "id": "84b2281a",
   "metadata": {
    "execution": {
     "iopub.execute_input": "2025-01-06T08:10:26.530400Z",
     "iopub.status.busy": "2025-01-06T08:10:26.530047Z",
     "iopub.status.idle": "2025-01-06T08:10:28.033093Z",
     "shell.execute_reply": "2025-01-06T08:10:28.031083Z"
    },
    "papermill": {
     "duration": 1.722533,
     "end_time": "2025-01-06T08:10:28.036082",
     "exception": false,
     "start_time": "2025-01-06T08:10:26.313549",
     "status": "completed"
    },
    "tags": []
   },
   "outputs": [
    {
     "name": "stdout",
     "output_type": "stream",
     "text": [
      "File 'TrainedModels/WithKFCV/KNN/ItemKNNCFRecommender/OptimizingMAP/Submission/submission_ItemKNNCF_MAP.csv' updated successfully.\n"
     ]
    }
   ],
   "source": [
    "if config['save_github'] and config['tune_best_params']: \n",
    "    upload_file(\n",
    "                f'/kaggle/working/submission_{config[\"model\"]}_{config[\"metric\"]}.csv', \n",
    "                f'{GH_PATH}/{config[\"model\"]}Recommender/Optimizing{config[\"metric\"]}/Submission/submission_{config[\"model\"]}_{config[\"metric\"]}.csv', \n",
    "                f'New {config[\"model\"]}_{config[\"metric\"]} submission (from kaggle notebook)',\n",
    "                repo\n",
    "            )"
   ]
  }
 ],
 "metadata": {
  "kaggle": {
   "accelerator": "none",
   "dataSources": [
    {
     "databundleVersionId": 9982103,
     "sourceId": 87439,
     "sourceType": "competition"
    }
   ],
   "dockerImageVersionId": 30822,
   "isGpuEnabled": false,
   "isInternetEnabled": true,
   "language": "python",
   "sourceType": "notebook"
  },
  "kernelspec": {
   "display_name": "Python 3",
   "language": "python",
   "name": "python3"
  },
  "language_info": {
   "codemirror_mode": {
    "name": "ipython",
    "version": 3
   },
   "file_extension": ".py",
   "mimetype": "text/x-python",
   "name": "python",
   "nbconvert_exporter": "python",
   "pygments_lexer": "ipython3",
   "version": "3.10.12"
  },
  "papermill": {
   "default_parameters": {},
   "duration": 38392.565676,
   "end_time": "2025-01-06T08:10:29.892622",
   "environment_variables": {},
   "exception": null,
   "input_path": "__notebook__.ipynb",
   "output_path": "__notebook__.ipynb",
   "parameters": {},
   "start_time": "2025-01-05T21:30:37.326946",
   "version": "2.6.0"
  }
 },
 "nbformat": 4,
 "nbformat_minor": 5
}
