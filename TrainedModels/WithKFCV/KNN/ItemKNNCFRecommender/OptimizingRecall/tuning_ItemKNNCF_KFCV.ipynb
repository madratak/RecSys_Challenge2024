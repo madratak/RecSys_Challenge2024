{
 "cells": [
  {
   "cell_type": "markdown",
   "id": "83eb2c40",
   "metadata": {
    "papermill": {
     "duration": 0.006067,
     "end_time": "2025-01-06T23:15:10.943817",
     "exception": false,
     "start_time": "2025-01-06T23:15:10.937750",
     "status": "completed"
    },
    "tags": []
   },
   "source": [
    "# Set connection with GitHub"
   ]
  },
  {
   "cell_type": "code",
   "execution_count": 1,
   "id": "0e852615",
   "metadata": {
    "execution": {
     "iopub.execute_input": "2025-01-06T23:15:10.956104Z",
     "iopub.status.busy": "2025-01-06T23:15:10.955702Z",
     "iopub.status.idle": "2025-01-06T23:15:10.961749Z",
     "shell.execute_reply": "2025-01-06T23:15:10.960546Z"
    },
    "papermill": {
     "duration": 0.014524,
     "end_time": "2025-01-06T23:15:10.963750",
     "exception": false,
     "start_time": "2025-01-06T23:15:10.949226",
     "status": "completed"
    },
    "tags": []
   },
   "outputs": [],
   "source": [
    "# ! cd /kaggle/working && rm -rf RECsys_Challenge2024"
   ]
  },
  {
   "cell_type": "code",
   "execution_count": 2,
   "id": "4ba8a318",
   "metadata": {
    "_cell_guid": "b1076dfc-b9ad-4769-8c92-a6c4dae69d19",
    "_uuid": "8f2839f25d086af736a60e9eeb907d3b93b6e0e5",
    "execution": {
     "iopub.execute_input": "2025-01-06T23:15:10.976154Z",
     "iopub.status.busy": "2025-01-06T23:15:10.975743Z",
     "iopub.status.idle": "2025-01-06T23:15:37.968473Z",
     "shell.execute_reply": "2025-01-06T23:15:37.967088Z"
    },
    "papermill": {
     "duration": 27.001398,
     "end_time": "2025-01-06T23:15:37.970737",
     "exception": false,
     "start_time": "2025-01-06T23:15:10.969339",
     "status": "completed"
    },
    "tags": []
   },
   "outputs": [
    {
     "name": "stdout",
     "output_type": "stream",
     "text": [
      "Cloning into 'RECsys_Challenge2024'...\r\n",
      "remote: Enumerating objects: 7094, done.\u001b[K\r\n",
      "remote: Counting objects: 100% (272/272), done.\u001b[K\r\n",
      "remote: Compressing objects: 100% (236/236), done.\u001b[K\r\n",
      "remote: Total 7094 (delta 118), reused 7 (delta 2), pack-reused 6822 (from 3)\u001b[K\r\n",
      "Receiving objects: 100% (7094/7094), 415.78 MiB | 19.71 MiB/s, done.\r\n",
      "Resolving deltas: 100% (3849/3849), done.\r\n",
      "Updating files: 100% (506/506), done.\r\n"
     ]
    }
   ],
   "source": [
    "from kaggle_secrets import UserSecretsClient\n",
    "\n",
    "token = UserSecretsClient().get_secret(\"Token\")\n",
    "\n",
    "! git clone https://{token}@github.com/madratak/RECsys_Challenge2024.git"
   ]
  },
  {
   "cell_type": "code",
   "execution_count": 3,
   "id": "1a138cee",
   "metadata": {
    "execution": {
     "iopub.execute_input": "2025-01-06T23:15:37.994824Z",
     "iopub.status.busy": "2025-01-06T23:15:37.994410Z",
     "iopub.status.idle": "2025-01-06T23:15:45.085689Z",
     "shell.execute_reply": "2025-01-06T23:15:45.084299Z"
    },
    "papermill": {
     "duration": 7.105597,
     "end_time": "2025-01-06T23:15:45.087874",
     "exception": false,
     "start_time": "2025-01-06T23:15:37.982277",
     "status": "completed"
    },
    "tags": []
   },
   "outputs": [
    {
     "name": "stdout",
     "output_type": "stream",
     "text": [
      "Collecting PyGithub\r\n",
      "  Downloading PyGithub-2.5.0-py3-none-any.whl.metadata (3.9 kB)\r\n",
      "Requirement already satisfied: requests in /usr/local/lib/python3.10/dist-packages (2.32.3)\r\n",
      "Collecting pynacl>=1.4.0 (from PyGithub)\r\n",
      "  Downloading PyNaCl-1.5.0-cp36-abi3-manylinux_2_17_x86_64.manylinux2014_x86_64.manylinux_2_24_x86_64.whl.metadata (8.6 kB)\r\n",
      "Requirement already satisfied: pyjwt>=2.4.0 in /usr/local/lib/python3.10/dist-packages (from pyjwt[crypto]>=2.4.0->PyGithub) (2.9.0)\r\n",
      "Requirement already satisfied: typing-extensions>=4.0.0 in /usr/local/lib/python3.10/dist-packages (from PyGithub) (4.12.2)\r\n",
      "Requirement already satisfied: urllib3>=1.26.0 in /usr/local/lib/python3.10/dist-packages (from PyGithub) (2.2.3)\r\n",
      "Requirement already satisfied: Deprecated in /usr/local/lib/python3.10/dist-packages (from PyGithub) (1.2.15)\r\n",
      "Requirement already satisfied: charset-normalizer<4,>=2 in /usr/local/lib/python3.10/dist-packages (from requests) (3.3.2)\r\n",
      "Requirement already satisfied: idna<4,>=2.5 in /usr/local/lib/python3.10/dist-packages (from requests) (3.10)\r\n",
      "Requirement already satisfied: certifi>=2017.4.17 in /usr/local/lib/python3.10/dist-packages (from requests) (2024.8.30)\r\n",
      "Requirement already satisfied: cryptography>=3.4.0 in /usr/local/lib/python3.10/dist-packages (from pyjwt[crypto]>=2.4.0->PyGithub) (43.0.1)\r\n",
      "Requirement already satisfied: cffi>=1.4.1 in /usr/local/lib/python3.10/dist-packages (from pynacl>=1.4.0->PyGithub) (1.17.1)\r\n",
      "Requirement already satisfied: wrapt<2,>=1.10 in /usr/local/lib/python3.10/dist-packages (from Deprecated->PyGithub) (1.16.0)\r\n",
      "Requirement already satisfied: pycparser in /usr/local/lib/python3.10/dist-packages (from cffi>=1.4.1->pynacl>=1.4.0->PyGithub) (2.22)\r\n",
      "Downloading PyGithub-2.5.0-py3-none-any.whl (375 kB)\r\n",
      "\u001b[2K   \u001b[90m━━━━━━━━━━━━━━━━━━━━━━━━━━━━━━━━━━━━━━━━\u001b[0m \u001b[32m375.9/375.9 kB\u001b[0m \u001b[31m14.4 MB/s\u001b[0m eta \u001b[36m0:00:00\u001b[0m\r\n",
      "\u001b[?25hDownloading PyNaCl-1.5.0-cp36-abi3-manylinux_2_17_x86_64.manylinux2014_x86_64.manylinux_2_24_x86_64.whl (856 kB)\r\n",
      "\u001b[2K   \u001b[90m━━━━━━━━━━━━━━━━━━━━━━━━━━━━━━━━━━━━━━━━\u001b[0m \u001b[32m856.7/856.7 kB\u001b[0m \u001b[31m36.3 MB/s\u001b[0m eta \u001b[36m0:00:00\u001b[0m\r\n",
      "\u001b[?25hInstalling collected packages: pynacl, PyGithub\r\n",
      "Successfully installed PyGithub-2.5.0 pynacl-1.5.0\r\n"
     ]
    }
   ],
   "source": [
    "! pip install PyGithub requests"
   ]
  },
  {
   "cell_type": "code",
   "execution_count": 4,
   "id": "7080d179",
   "metadata": {
    "_kg_hide-input": false,
    "execution": {
     "iopub.execute_input": "2025-01-06T23:15:45.115029Z",
     "iopub.status.busy": "2025-01-06T23:15:45.114639Z",
     "iopub.status.idle": "2025-01-06T23:18:35.125186Z",
     "shell.execute_reply": "2025-01-06T23:18:35.123724Z"
    },
    "papermill": {
     "duration": 170.02679,
     "end_time": "2025-01-06T23:18:35.127366",
     "exception": false,
     "start_time": "2025-01-06T23:15:45.100576",
     "status": "completed"
    },
    "tags": []
   },
   "outputs": [
    {
     "name": "stdout",
     "output_type": "stream",
     "text": [
      "/kaggle/working/RECsys_Challenge2024\n",
      "run_compile_all_cython: Found 11 Cython files in 5 folders...\r\n",
      "run_compile_all_cython: All files will be compiled using your current python environment: '/usr/bin/python3'\r\n",
      "Compiling [1/11]: MatrixFactorizationImpressions_Cython_Epoch.pyx... \r\n",
      "In file included from \u001b[01m\u001b[K/usr/local/lib/python3.10/dist-packages/numpy/core/include/numpy/ndarraytypes.h:1929\u001b[m\u001b[K,\r\n",
      "                 from \u001b[01m\u001b[K/usr/local/lib/python3.10/dist-packages/numpy/core/include/numpy/ndarrayobject.h:12\u001b[m\u001b[K,\r\n",
      "                 from \u001b[01m\u001b[K/usr/local/lib/python3.10/dist-packages/numpy/core/include/numpy/arrayobject.h:5\u001b[m\u001b[K,\r\n",
      "                 from \u001b[01m\u001b[KMatrixFactorizationImpressions_Cython_Epoch.c:1252\u001b[m\u001b[K:\r\n",
      "\u001b[01m\u001b[K/usr/local/lib/python3.10/dist-packages/numpy/core/include/numpy/npy_1_7_deprecated_api.h:17:2:\u001b[m\u001b[K \u001b[01;35m\u001b[Kwarning: \u001b[m\u001b[K#warning \"Using deprecated NumPy API, disable it with \" \"#define NPY_NO_DEPRECATED_API NPY_1_7_API_VERSION\" [\u001b[01;35m\u001b[K\u001b]8;;https://gcc.gnu.org/onlinedocs/gcc/Warning-Options.html#index-Wcpp\u0007-Wcpp\u001b]8;;\u0007\u001b[m\u001b[K]\r\n",
      "   17 | #\u001b[01;35m\u001b[Kwarning\u001b[m\u001b[K \"Using deprecated NumPy API, disable it with \" \\\r\n",
      "      |  \u001b[01;35m\u001b[K^~~~~~~\u001b[m\u001b[K\r\n",
      "\u001b[01m\u001b[KMatrixFactorizationImpressions_Cython_Epoch.c:\u001b[m\u001b[K In function ‘\u001b[01m\u001b[K__pyx_f_43MatrixFactorizationImpressions_Cython_Epoch_32MatrixFactorization_Cython_Epoch_sampleBPR_Cython\u001b[m\u001b[K’:\r\n",
      "\u001b[01m\u001b[KMatrixFactorizationImpressions_Cython_Epoch.c:30353:17:\u001b[m\u001b[K \u001b[01;35m\u001b[Kwarning: \u001b[m\u001b[K‘\u001b[01m\u001b[K__pyx_v_start_pos_impression_items\u001b[m\u001b[K’ may be used uninitialized in this function [\u001b[01;35m\u001b[K\u001b]8;;https://gcc.gnu.org/onlinedocs/gcc/Warning-Options.html#index-Wmaybe-uninitialized\u0007-Wmaybe-uninitialized\u001b]8;;\u0007\u001b[m\u001b[K]\r\n",
      "30353 |       \u001b[01;35m\u001b[K__pyx_t_4 = (__pyx_v_start_pos_impression_items + __pyx_v_index)\u001b[m\u001b[K;\r\n",
      "      |       \u001b[01;35m\u001b[K~~~~~~~~~~^~~~~~~~~~~~~~~~~~~~~~~~~~~~~~~~~~~~~~~~~~~~~~~~~~~~~~\u001b[m\u001b[K\r\n",
      "\u001b[01m\u001b[KMatrixFactorizationImpressions_Cython_Epoch.c:\u001b[m\u001b[K In function ‘\u001b[01m\u001b[K__pyx_pf_43MatrixFactorizationImpressions_Cython_Epoch_32MatrixFactorization_Cython_Epoch_10epochIteration_Cython_ASY_SVD_SGD\u001b[m\u001b[K’:\r\n",
      "\u001b[01m\u001b[KMatrixFactorizationImpressions_Cython_Epoch.c:26112:66:\u001b[m\u001b[K \u001b[01;35m\u001b[Kwarning: \u001b[m\u001b[K‘\u001b[01m\u001b[K__pyx_v_end_pos_seen_items\u001b[m\u001b[K’ may be used uninitialized in this function [\u001b[01;35m\u001b[K\u001b]8;;https://gcc.gnu.org/onlinedocs/gcc/Warning-Options.html#index-Wmaybe-uninitialized\u0007-Wmaybe-uninitialized\u001b]8;;\u0007\u001b[m\u001b[K]\r\n",
      "26112 |       for (__pyx_t_22 = __pyx_v_start_pos_seen_items; \u001b[01;35m\u001b[K__pyx_t_22 < __pyx_t_21\u001b[m\u001b[K; __pyx_t_22+=1) {\r\n",
      "      |                                                       \u001b[01;35m\u001b[K~~~~~~~~~~~^~~~~~~~~~~~\u001b[m\u001b[K\r\n",
      "\u001b[01m\u001b[KMatrixFactorizationImpressions_Cython_Epoch.c:26112:66:\u001b[m\u001b[K \u001b[01;35m\u001b[Kwarning: \u001b[m\u001b[K‘\u001b[01m\u001b[K__pyx_v_start_pos_seen_items\u001b[m\u001b[K’ may be used uninitialized in this function [\u001b[01;35m\u001b[K\u001b]8;;https://gcc.gnu.org/onlinedocs/gcc/Warning-Options.html#index-Wmaybe-uninitialized\u0007-Wmaybe-uninitialized\u001b]8;;\u0007\u001b[m\u001b[K]\r\n",
      "/usr/local/lib/python3.10/dist-packages/Cython/Compiler/Main.py:381: FutureWarning: Cython directive 'language_level' not set, using '3str' for now (Py3). This has changed from earlier releases! File: /kaggle/working/RECsys_Challenge2024/Recommenders/MatrixFactorization/Cython/MatrixFactorizationImpressions_Cython_Epoch.pyx\r\n",
      "  tree = Parsing.p_module(s, pxd, full_module_name)\r\n",
      "Compiling [1/11]: MatrixFactorizationImpressions_Cython_Epoch.pyx... PASS\r\n",
      "\r\n",
      "Compiling [2/11]: MatrixFactorization_Cython_Epoch.pyx... \r\n",
      "In file included from \u001b[01m\u001b[K/usr/local/lib/python3.10/dist-packages/numpy/core/include/numpy/ndarraytypes.h:1929\u001b[m\u001b[K,\r\n",
      "                 from \u001b[01m\u001b[K/usr/local/lib/python3.10/dist-packages/numpy/core/include/numpy/ndarrayobject.h:12\u001b[m\u001b[K,\r\n",
      "                 from \u001b[01m\u001b[K/usr/local/lib/python3.10/dist-packages/numpy/core/include/numpy/arrayobject.h:5\u001b[m\u001b[K,\r\n",
      "                 from \u001b[01m\u001b[KMatrixFactorization_Cython_Epoch.c:1252\u001b[m\u001b[K:\r\n",
      "\u001b[01m\u001b[K/usr/local/lib/python3.10/dist-packages/numpy/core/include/numpy/npy_1_7_deprecated_api.h:17:2:\u001b[m\u001b[K \u001b[01;35m\u001b[Kwarning: \u001b[m\u001b[K#warning \"Using deprecated NumPy API, disable it with \" \"#define NPY_NO_DEPRECATED_API NPY_1_7_API_VERSION\" [\u001b[01;35m\u001b[K\u001b]8;;https://gcc.gnu.org/onlinedocs/gcc/Warning-Options.html#index-Wcpp\u0007-Wcpp\u001b]8;;\u0007\u001b[m\u001b[K]\r\n",
      "   17 | #\u001b[01;35m\u001b[Kwarning\u001b[m\u001b[K \"Using deprecated NumPy API, disable it with \" \\\r\n",
      "      |  \u001b[01;35m\u001b[K^~~~~~~\u001b[m\u001b[K\r\n",
      "\u001b[01m\u001b[KMatrixFactorization_Cython_Epoch.c:\u001b[m\u001b[K In function ‘\u001b[01m\u001b[K__pyx_pf_32MatrixFactorization_Cython_Epoch_32MatrixFactorization_Cython_Epoch_10epochIteration_Cython_ASY_SVD_SGD\u001b[m\u001b[K’:\r\n",
      "\u001b[01m\u001b[KMatrixFactorization_Cython_Epoch.c:26256:68:\u001b[m\u001b[K \u001b[01;35m\u001b[Kwarning: \u001b[m\u001b[K‘\u001b[01m\u001b[K__pyx_v_end_pos_seen_items\u001b[m\u001b[K’ may be used uninitialized in this function [\u001b[01;35m\u001b[K\u001b]8;;https://gcc.gnu.org/onlinedocs/gcc/Warning-Options.html#index-Wmaybe-uninitialized\u0007-Wmaybe-uninitialized\u001b]8;;\u0007\u001b[m\u001b[K]\r\n",
      "26256 |         for (__pyx_t_22 = __pyx_v_start_pos_seen_items; \u001b[01;35m\u001b[K__pyx_t_22 < __pyx_t_21\u001b[m\u001b[K; __pyx_t_22+=1) {\r\n",
      "      |                                                         \u001b[01;35m\u001b[K~~~~~~~~~~~^~~~~~~~~~~~\u001b[m\u001b[K\r\n",
      "\u001b[01m\u001b[KMatrixFactorization_Cython_Epoch.c:26256:68:\u001b[m\u001b[K \u001b[01;35m\u001b[Kwarning: \u001b[m\u001b[K‘\u001b[01m\u001b[K__pyx_v_start_pos_seen_items\u001b[m\u001b[K’ may be used uninitialized in this function [\u001b[01;35m\u001b[K\u001b]8;;https://gcc.gnu.org/onlinedocs/gcc/Warning-Options.html#index-Wmaybe-uninitialized\u0007-Wmaybe-uninitialized\u001b]8;;\u0007\u001b[m\u001b[K]\r\n",
      "/usr/local/lib/python3.10/dist-packages/Cython/Compiler/Main.py:381: FutureWarning: Cython directive 'language_level' not set, using '3str' for now (Py3). This has changed from earlier releases! File: /kaggle/working/RECsys_Challenge2024/Recommenders/MatrixFactorization/Cython/MatrixFactorization_Cython_Epoch.pyx\r\n",
      "  tree = Parsing.p_module(s, pxd, full_module_name)\r\n",
      "Compiling [2/11]: MatrixFactorization_Cython_Epoch.pyx... PASS\r\n",
      "\r\n",
      "Compiling [3/11]: Compute_Similarity_Cython.pyx... \r\n",
      "warning: Compute_Similarity_Cython.pyx:21:0: The 'IF' statement is deprecated and will be removed in a future Cython version. Consider using runtime conditions or C macros instead. See https://github.com/cython/cython/issues/4310\r\n",
      "In file included from \u001b[01m\u001b[K/usr/local/lib/python3.10/dist-packages/numpy/core/include/numpy/ndarraytypes.h:1929\u001b[m\u001b[K,\r\n",
      "                 from \u001b[01m\u001b[K/usr/local/lib/python3.10/dist-packages/numpy/core/include/numpy/ndarrayobject.h:12\u001b[m\u001b[K,\r\n",
      "                 from \u001b[01m\u001b[K/usr/local/lib/python3.10/dist-packages/numpy/core/include/numpy/arrayobject.h:5\u001b[m\u001b[K,\r\n",
      "                 from \u001b[01m\u001b[KCompute_Similarity_Cython.c:1252\u001b[m\u001b[K:\r\n",
      "\u001b[01m\u001b[K/usr/local/lib/python3.10/dist-packages/numpy/core/include/numpy/npy_1_7_deprecated_api.h:17:2:\u001b[m\u001b[K \u001b[01;35m\u001b[Kwarning: \u001b[m\u001b[K#warning \"Using deprecated NumPy API, disable it with \" \"#define NPY_NO_DEPRECATED_API NPY_1_7_API_VERSION\" [\u001b[01;35m\u001b[K\u001b]8;;https://gcc.gnu.org/onlinedocs/gcc/Warning-Options.html#index-Wcpp\u0007-Wcpp\u001b]8;;\u0007\u001b[m\u001b[K]\r\n",
      "   17 | #\u001b[01;35m\u001b[Kwarning\u001b[m\u001b[K \"Using deprecated NumPy API, disable it with \" \\\r\n",
      "      |  \u001b[01;35m\u001b[K^~~~~~~\u001b[m\u001b[K\r\n",
      "/usr/local/lib/python3.10/dist-packages/Cython/Compiler/Main.py:381: FutureWarning: Cython directive 'language_level' not set, using '3str' for now (Py3). This has changed from earlier releases! File: /kaggle/working/RECsys_Challenge2024/Recommenders/Similarity/Cython/Compute_Similarity_Cython.pyx\r\n",
      "  tree = Parsing.p_module(s, pxd, full_module_name)\r\n",
      "warning: Compute_Similarity_Cython.pyx:21:0: The 'IF' statement is deprecated and will be removed in a future Cython version. Consider using runtime conditions or C macros instead. See https://github.com/cython/cython/issues/4310\r\n",
      "Compiling [3/11]: Compute_Similarity_Cython.pyx... PASS\r\n",
      "\r\n",
      "Compiling [4/11]: Triangular_Matrix.pyx... \r\n",
      "warning: Triangular_Matrix.pyx:22:0: The 'IF' statement is deprecated and will be removed in a future Cython version. Consider using runtime conditions or C macros instead. See https://github.com/cython/cython/issues/4310\r\n",
      "In file included from \u001b[01m\u001b[K/usr/local/lib/python3.10/dist-packages/numpy/core/include/numpy/ndarraytypes.h:1929\u001b[m\u001b[K,\r\n",
      "                 from \u001b[01m\u001b[K/usr/local/lib/python3.10/dist-packages/numpy/core/include/numpy/ndarrayobject.h:12\u001b[m\u001b[K,\r\n",
      "                 from \u001b[01m\u001b[K/usr/local/lib/python3.10/dist-packages/numpy/core/include/numpy/arrayobject.h:5\u001b[m\u001b[K,\r\n",
      "                 from \u001b[01m\u001b[KTriangular_Matrix.c:1252\u001b[m\u001b[K:\r\n",
      "\u001b[01m\u001b[K/usr/local/lib/python3.10/dist-packages/numpy/core/include/numpy/npy_1_7_deprecated_api.h:17:2:\u001b[m\u001b[K \u001b[01;35m\u001b[Kwarning: \u001b[m\u001b[K#warning \"Using deprecated NumPy API, disable it with \" \"#define NPY_NO_DEPRECATED_API NPY_1_7_API_VERSION\" [\u001b[01;35m\u001b[K\u001b]8;;https://gcc.gnu.org/onlinedocs/gcc/Warning-Options.html#index-Wcpp\u0007-Wcpp\u001b]8;;\u0007\u001b[m\u001b[K]\r\n",
      "   17 | #\u001b[01;35m\u001b[Kwarning\u001b[m\u001b[K \"Using deprecated NumPy API, disable it with \" \\\r\n",
      "      |  \u001b[01;35m\u001b[K^~~~~~~\u001b[m\u001b[K\r\n",
      "In function ‘\u001b[01m\u001b[K__pyx_pf_17Triangular_Matrix_17Triangular_Matrix___init__\u001b[m\u001b[K’,\r\n",
      "    inlined from ‘\u001b[01m\u001b[K__pyx_pw_17Triangular_Matrix_17Triangular_Matrix_1__init__\u001b[m\u001b[K’ at \u001b[01m\u001b[KTriangular_Matrix.c:5541:13\u001b[m\u001b[K:\r\n",
      "\u001b[01m\u001b[KTriangular_Matrix.c:5599:43:\u001b[m\u001b[K \u001b[01;35m\u001b[Kwarning: \u001b[m\u001b[Kargument 1 value ‘\u001b[01m\u001b[K18446744073709551608\u001b[m\u001b[K’ exceeds maximum object size 9223372036854775807 [\u001b[01;35m\u001b[K\u001b]8;;https://gcc.gnu.org/onlinedocs/gcc/Warning-Options.html#index-Walloc-size-larger-than=\u0007-Walloc-size-larger-than=\u001b]8;;\u0007\u001b[m\u001b[K]\r\n",
      " 5599 |   __pyx_v_self->row_pointer = ((double **)\u001b[01;35m\u001b[Kmalloc((__pyx_v_self->num_rows * (sizeof(double *))))\u001b[m\u001b[K);\r\n",
      "      |                                           \u001b[01;35m\u001b[K^~~~~~~~~~~~~~~~~~~~~~~~~~~~~~~~~~~~~~~~~~~~~~~~~~~~~\u001b[m\u001b[K\r\n",
      "In file included from \u001b[01m\u001b[K/usr/include/python3.10/Python.h:34\u001b[m\u001b[K,\r\n",
      "                 from \u001b[01m\u001b[KTriangular_Matrix.c:41\u001b[m\u001b[K:\r\n",
      "\u001b[01m\u001b[KTriangular_Matrix.c:\u001b[m\u001b[K In function ‘\u001b[01m\u001b[K__pyx_pw_17Triangular_Matrix_17Triangular_Matrix_1__init__\u001b[m\u001b[K’:\r\n",
      "\u001b[01m\u001b[K/usr/include/stdlib.h:540:14:\u001b[m\u001b[K \u001b[01;36m\u001b[Knote: \u001b[m\u001b[Kin a call to allocation function ‘\u001b[01m\u001b[Kmalloc\u001b[m\u001b[K’ declared here\r\n",
      "  540 | extern void *\u001b[01;36m\u001b[Kmalloc\u001b[m\u001b[K (size_t __size) __THROW __attribute_malloc__\r\n",
      "      |              \u001b[01;36m\u001b[K^~~~~~\u001b[m\u001b[K\r\n",
      "/usr/local/lib/python3.10/dist-packages/Cython/Compiler/Main.py:381: FutureWarning: Cython directive 'language_level' not set, using '3str' for now (Py3). This has changed from earlier releases! File: /kaggle/working/RECsys_Challenge2024/Recommenders/SLIM/Cython/Triangular_Matrix.pyx\r\n",
      "  tree = Parsing.p_module(s, pxd, full_module_name)\r\n",
      "warning: Triangular_Matrix.pyx:22:0: The 'IF' statement is deprecated and will be removed in a future Cython version. Consider using runtime conditions or C macros instead. See https://github.com/cython/cython/issues/4310\r\n",
      "Compiling [4/11]: Triangular_Matrix.pyx... PASS\r\n",
      "\r\n",
      "Compiling [5/11]: SLIM_BPR_Cython_Epoch.pyx... \r\n",
      "warning: SLIM_BPR_Cython_Epoch.pyx:24:0: The 'IF' statement is deprecated and will be removed in a future Cython version. Consider using runtime conditions or C macros instead. See https://github.com/cython/cython/issues/4310\r\n",
      "warning: SLIM_BPR_Cython_Epoch.pyx:632:34: Non-trivial type declarators in shared declaration (e.g. mix of pointers and values). Each pointer declaration should be on its own line.\r\n",
      "warning: SLIM_BPR_Cython_Epoch.pyx:632:66: Non-trivial type declarators in shared declaration (e.g. mix of pointers and values). Each pointer declaration should be on its own line.\r\n",
      "warning: SLIM_BPR_Cython_Epoch.pyx:817:35: Non-trivial type declarators in shared declaration (e.g. mix of pointers and values). Each pointer declaration should be on its own line.\r\n",
      "warning: SLIM_BPR_Cython_Epoch.pyx:817:52: Non-trivial type declarators in shared declaration (e.g. mix of pointers and values). Each pointer declaration should be on its own line.\r\n",
      "warning: SLIM_BPR_Cython_Epoch.pyx:916:35: Non-trivial type declarators in shared declaration (e.g. mix of pointers and values). Each pointer declaration should be on its own line.\r\n",
      "warning: SLIM_BPR_Cython_Epoch.pyx:916:53: Non-trivial type declarators in shared declaration (e.g. mix of pointers and values). Each pointer declaration should be on its own line.\r\n",
      "warning: SLIM_BPR_Cython_Epoch.pyx:916:69: Non-trivial type declarators in shared declaration (e.g. mix of pointers and values). Each pointer declaration should be on its own line.\r\n",
      "warning: SLIM_BPR_Cython_Epoch.pyx:1051:35: Non-trivial type declarators in shared declaration (e.g. mix of pointers and values). Each pointer declaration should be on its own line.\r\n",
      "warning: SLIM_BPR_Cython_Epoch.pyx:1051:42: Non-trivial type declarators in shared declaration (e.g. mix of pointers and values). Each pointer declaration should be on its own line.\r\n",
      "warning: SLIM_BPR_Cython_Epoch.pyx:1052:35: Non-trivial type declarators in shared declaration (e.g. mix of pointers and values). Each pointer declaration should be on its own line.\r\n",
      "warning: SLIM_BPR_Cython_Epoch.pyx:1052:53: Non-trivial type declarators in shared declaration (e.g. mix of pointers and values). Each pointer declaration should be on its own line.\r\n",
      "\r\n",
      "Error compiling Cython file:\r\n",
      "------------------------------------------------------------\r\n",
      "...\r\n",
      "            vector_pointer_to_list_elements[index].head = current_element\r\n",
      "            current_element = current_element.higher\r\n",
      "\r\n",
      "\r\n",
      "        # Sort array elements on their data field\r\n",
      "        qsort(vector_pointer_to_list_elements, list_length, sizeof(head_pointer_tree_s), compare_struct_on_data)\r\n",
      "                                                                                         ^\r\n",
      "------------------------------------------------------------\r\n",
      "\r\n",
      "SLIM_BPR_Cython_Epoch.pyx:990:89: Cannot assign type 'int (const void *, const void *) except? -1' to 'int (*)(const_void *, const_void *) noexcept'. Exception values are incompatible. Suggest adding 'noexcept' to the type of 'compare_struct_on_data'.\r\n",
      "\r\n",
      "Error compiling Cython file:\r\n",
      "------------------------------------------------------------\r\n",
      "...\r\n",
      "        # Sort array elements on their data field\r\n",
      "        qsort(vector_pointer_to_list_elements, list_length, sizeof(head_pointer_tree_s), compare_struct_on_data)\r\n",
      "\r\n",
      "        # Sort only the TopK according to their column field\r\n",
      "        # Sort is from lower to higher, therefore the elements to be considered are from len-topK to len\r\n",
      "        qsort(&vector_pointer_to_list_elements[list_length-TopK], TopK, sizeof(head_pointer_tree_s), compare_struct_on_column)\r\n",
      "                                                                                                     ^\r\n",
      "------------------------------------------------------------\r\n",
      "\r\n",
      "SLIM_BPR_Cython_Epoch.pyx:994:101: Cannot assign type 'int (const void *, const void *) except? -1' to 'int (*)(const_void *, const_void *) noexcept'. Exception values are incompatible. Suggest adding 'noexcept' to the type of 'compare_struct_on_column'.\r\n",
      "Traceback (most recent call last):\r\n",
      "  File \"/kaggle/working/RECsys_Challenge2024/CythonCompiler/compile_script.py\", line 48, in <module>\r\n",
      "    setup(\r\n",
      "  File \"/usr/local/lib/python3.10/dist-packages/setuptools/__init__.py\", line 108, in setup\r\n",
      "    return distutils.core.setup(**attrs)\r\n",
      "  File \"/usr/local/lib/python3.10/dist-packages/setuptools/_distutils/core.py\", line 184, in setup\r\n",
      "    return run_commands(dist)\r\n",
      "  File \"/usr/local/lib/python3.10/dist-packages/setuptools/_distutils/core.py\", line 200, in run_commands\r\n",
      "    dist.run_commands()\r\n",
      "  File \"/usr/local/lib/python3.10/dist-packages/setuptools/_distutils/dist.py\", line 970, in run_commands\r\n",
      "    self.run_command(cmd)\r\n",
      "  File \"/usr/local/lib/python3.10/dist-packages/setuptools/dist.py\", line 956, in run_command\r\n",
      "    super().run_command(command)\r\n",
      "  File \"/usr/local/lib/python3.10/dist-packages/setuptools/_distutils/dist.py\", line 989, in run_command\r\n",
      "    cmd_obj.run()\r\n",
      "  File \"/usr/local/lib/python3.10/dist-packages/setuptools/_distutils/command/build_ext.py\", line 359, in run\r\n",
      "    self.build_extensions()\r\n",
      "  File \"/usr/local/lib/python3.10/dist-packages/setuptools/_distutils/command/build_ext.py\", line 479, in build_extensions\r\n",
      "    self._build_extensions_serial()\r\n",
      "  File \"/usr/local/lib/python3.10/dist-packages/setuptools/_distutils/command/build_ext.py\", line 505, in _build_extensions_serial\r\n",
      "    self.build_extension(ext)\r\n",
      "  File \"/usr/local/lib/python3.10/dist-packages/Cython/Distutils/build_ext.py\", line 130, in build_extension\r\n",
      "    new_ext = cythonize(\r\n",
      "  File \"/usr/local/lib/python3.10/dist-packages/Cython/Build/Dependencies.py\", line 1154, in cythonize\r\n",
      "    cythonize_one(*args)\r\n",
      "  File \"/usr/local/lib/python3.10/dist-packages/Cython/Build/Dependencies.py\", line 1321, in cythonize_one\r\n",
      "    raise CompileError(None, pyx_file)\r\n",
      "Cython.Compiler.Errors.CompileError: SLIM_BPR_Cython_Epoch.pyx\r\n",
      "Traceback (most recent call last):\r\n",
      "  File \"/kaggle/working/RECsys_Challenge2024/run_compile_all_cython.py\", line 60, in <module>\r\n",
      "    run_compile_subprocess(file_path, [file_name])\r\n",
      "  File \"/kaggle/working/RECsys_Challenge2024/CythonCompiler/run_compile_subprocess.py\", line 51, in run_compile_subprocess\r\n",
      "    raise exc\r\n",
      "  File \"/kaggle/working/RECsys_Challenge2024/CythonCompiler/run_compile_subprocess.py\", line 32, in run_compile_subprocess\r\n",
      "    output = subprocess.check_output(' '.join(command),\r\n",
      "  File \"/usr/lib/python3.10/subprocess.py\", line 421, in check_output\r\n",
      "    return run(*popenargs, stdout=PIPE, timeout=timeout, check=True,\r\n",
      "  File \"/usr/lib/python3.10/subprocess.py\", line 526, in run\r\n",
      "    raise CalledProcessError(retcode, process.args,\r\n",
      "subprocess.CalledProcessError: Command '/usr/bin/python3 /kaggle/working/RECsys_Challenge2024/CythonCompiler/compile_script.py SLIM_BPR_Cython_Epoch.pyx build_ext --inplace' returned non-zero exit status 1.\r\n",
      "Compiling [5/11]: SLIM_BPR_Cython_Epoch.pyx... FAIL: Command '/usr/bin/python3 /kaggle/working/RECsys_Challenge2024/CythonCompiler/compile_script.py SLIM_BPR_Cython_Epoch.pyx build_ext --inplace' returned non-zero exit status 1.\r\n",
      "\r\n",
      "Compiling [6/11]: Sparse_Matrix_Tree_CSR.pyx... \r\n",
      "warning: Sparse_Matrix_Tree_CSR.pyx:132:34: Non-trivial type declarators in shared declaration (e.g. mix of pointers and values). Each pointer declaration should be on its own line.\r\n",
      "warning: Sparse_Matrix_Tree_CSR.pyx:132:66: Non-trivial type declarators in shared declaration (e.g. mix of pointers and values). Each pointer declaration should be on its own line.\r\n",
      "warning: Sparse_Matrix_Tree_CSR.pyx:343:35: Non-trivial type declarators in shared declaration (e.g. mix of pointers and values). Each pointer declaration should be on its own line.\r\n",
      "warning: Sparse_Matrix_Tree_CSR.pyx:343:52: Non-trivial type declarators in shared declaration (e.g. mix of pointers and values). Each pointer declaration should be on its own line.\r\n",
      "warning: Sparse_Matrix_Tree_CSR.pyx:442:35: Non-trivial type declarators in shared declaration (e.g. mix of pointers and values). Each pointer declaration should be on its own line.\r\n",
      "warning: Sparse_Matrix_Tree_CSR.pyx:442:53: Non-trivial type declarators in shared declaration (e.g. mix of pointers and values). Each pointer declaration should be on its own line.\r\n",
      "warning: Sparse_Matrix_Tree_CSR.pyx:442:69: Non-trivial type declarators in shared declaration (e.g. mix of pointers and values). Each pointer declaration should be on its own line.\r\n",
      "warning: Sparse_Matrix_Tree_CSR.pyx:577:35: Non-trivial type declarators in shared declaration (e.g. mix of pointers and values). Each pointer declaration should be on its own line.\r\n",
      "warning: Sparse_Matrix_Tree_CSR.pyx:577:42: Non-trivial type declarators in shared declaration (e.g. mix of pointers and values). Each pointer declaration should be on its own line.\r\n",
      "warning: Sparse_Matrix_Tree_CSR.pyx:578:35: Non-trivial type declarators in shared declaration (e.g. mix of pointers and values). Each pointer declaration should be on its own line.\r\n",
      "warning: Sparse_Matrix_Tree_CSR.pyx:578:53: Non-trivial type declarators in shared declaration (e.g. mix of pointers and values). Each pointer declaration should be on its own line.\r\n",
      "\r\n",
      "Error compiling Cython file:\r\n",
      "------------------------------------------------------------\r\n",
      "...\r\n",
      "            vector_pointer_to_list_elements[index].head = current_element\r\n",
      "            current_element = current_element.higher\r\n",
      "\r\n",
      "\r\n",
      "        # Sort array elements on their data field\r\n",
      "        qsort(vector_pointer_to_list_elements, list_length, sizeof(head_pointer_tree_s), compare_struct_on_data)\r\n",
      "                                                                                         ^\r\n",
      "------------------------------------------------------------\r\n",
      "\r\n",
      "Sparse_Matrix_Tree_CSR.pyx:516:89: Cannot assign type 'int (const void *, const void *) except? -1' to 'int (*)(const_void *, const_void *) noexcept'. Exception values are incompatible. Suggest adding 'noexcept' to the type of 'compare_struct_on_data'.\r\n",
      "\r\n",
      "Error compiling Cython file:\r\n",
      "------------------------------------------------------------\r\n",
      "...\r\n",
      "        # Sort array elements on their data field\r\n",
      "        qsort(vector_pointer_to_list_elements, list_length, sizeof(head_pointer_tree_s), compare_struct_on_data)\r\n",
      "\r\n",
      "        # Sort only the TopK according to their column field\r\n",
      "        # Sort is from lower to higher, therefore the elements to be considered are from len-topK to len\r\n",
      "        qsort(&vector_pointer_to_list_elements[list_length-TopK], TopK, sizeof(head_pointer_tree_s), compare_struct_on_column)\r\n",
      "                                                                                                     ^\r\n",
      "------------------------------------------------------------\r\n",
      "\r\n",
      "Sparse_Matrix_Tree_CSR.pyx:520:101: Cannot assign type 'int (const void *, const void *) except? -1' to 'int (*)(const_void *, const_void *) noexcept'. Exception values are incompatible. Suggest adding 'noexcept' to the type of 'compare_struct_on_column'.\r\n",
      "Traceback (most recent call last):\r\n",
      "  File \"/kaggle/working/RECsys_Challenge2024/CythonCompiler/compile_script.py\", line 48, in <module>\r\n",
      "    setup(\r\n",
      "  File \"/usr/local/lib/python3.10/dist-packages/setuptools/__init__.py\", line 108, in setup\r\n",
      "    return distutils.core.setup(**attrs)\r\n",
      "  File \"/usr/local/lib/python3.10/dist-packages/setuptools/_distutils/core.py\", line 184, in setup\r\n",
      "    return run_commands(dist)\r\n",
      "  File \"/usr/local/lib/python3.10/dist-packages/setuptools/_distutils/core.py\", line 200, in run_commands\r\n",
      "    dist.run_commands()\r\n",
      "  File \"/usr/local/lib/python3.10/dist-packages/setuptools/_distutils/dist.py\", line 970, in run_commands\r\n",
      "    self.run_command(cmd)\r\n",
      "  File \"/usr/local/lib/python3.10/dist-packages/setuptools/dist.py\", line 956, in run_command\r\n",
      "    super().run_command(command)\r\n",
      "  File \"/usr/local/lib/python3.10/dist-packages/setuptools/_distutils/dist.py\", line 989, in run_command\r\n",
      "    cmd_obj.run()\r\n",
      "  File \"/usr/local/lib/python3.10/dist-packages/setuptools/_distutils/command/build_ext.py\", line 359, in run\r\n",
      "    self.build_extensions()\r\n",
      "  File \"/usr/local/lib/python3.10/dist-packages/setuptools/_distutils/command/build_ext.py\", line 479, in build_extensions\r\n",
      "    self._build_extensions_serial()\r\n",
      "  File \"/usr/local/lib/python3.10/dist-packages/setuptools/_distutils/command/build_ext.py\", line 505, in _build_extensions_serial\r\n",
      "    self.build_extension(ext)\r\n",
      "  File \"/usr/local/lib/python3.10/dist-packages/Cython/Distutils/build_ext.py\", line 130, in build_extension\r\n",
      "    new_ext = cythonize(\r\n",
      "  File \"/usr/local/lib/python3.10/dist-packages/Cython/Build/Dependencies.py\", line 1154, in cythonize\r\n",
      "    cythonize_one(*args)\r\n",
      "  File \"/usr/local/lib/python3.10/dist-packages/Cython/Build/Dependencies.py\", line 1321, in cythonize_one\r\n",
      "    raise CompileError(None, pyx_file)\r\n",
      "Cython.Compiler.Errors.CompileError: Sparse_Matrix_Tree_CSR.pyx\r\n",
      "Traceback (most recent call last):\r\n",
      "  File \"/kaggle/working/RECsys_Challenge2024/run_compile_all_cython.py\", line 60, in <module>\r\n",
      "    run_compile_subprocess(file_path, [file_name])\r\n",
      "  File \"/kaggle/working/RECsys_Challenge2024/CythonCompiler/run_compile_subprocess.py\", line 51, in run_compile_subprocess\r\n",
      "    raise exc\r\n",
      "  File \"/kaggle/working/RECsys_Challenge2024/CythonCompiler/run_compile_subprocess.py\", line 32, in run_compile_subprocess\r\n",
      "    output = subprocess.check_output(' '.join(command),\r\n",
      "  File \"/usr/lib/python3.10/subprocess.py\", line 421, in check_output\r\n",
      "    return run(*popenargs, stdout=PIPE, timeout=timeout, check=True,\r\n",
      "  File \"/usr/lib/python3.10/subprocess.py\", line 526, in run\r\n",
      "    raise CalledProcessError(retcode, process.args,\r\n",
      "subprocess.CalledProcessError: Command '/usr/bin/python3 /kaggle/working/RECsys_Challenge2024/CythonCompiler/compile_script.py Sparse_Matrix_Tree_CSR.pyx build_ext --inplace' returned non-zero exit status 1.\r\n",
      "Compiling [6/11]: Sparse_Matrix_Tree_CSR.pyx... FAIL: Command '/usr/bin/python3 /kaggle/working/RECsys_Challenge2024/CythonCompiler/compile_script.py Sparse_Matrix_Tree_CSR.pyx build_ext --inplace' returned non-zero exit status 1.\r\n",
      "\r\n",
      "Compiling [7/11]: FBSM_Rating_Cython_SGD.pyx... \r\n",
      "In file included from \u001b[01m\u001b[K/usr/local/lib/python3.10/dist-packages/numpy/core/include/numpy/ndarraytypes.h:1929\u001b[m\u001b[K,\r\n",
      "                 from \u001b[01m\u001b[K/usr/local/lib/python3.10/dist-packages/numpy/core/include/numpy/ndarrayobject.h:12\u001b[m\u001b[K,\r\n",
      "                 from \u001b[01m\u001b[K/usr/local/lib/python3.10/dist-packages/numpy/core/include/numpy/arrayobject.h:5\u001b[m\u001b[K,\r\n",
      "                 from \u001b[01m\u001b[KFBSM_Rating_Cython_SGD.c:1252\u001b[m\u001b[K:\r\n",
      "\u001b[01m\u001b[K/usr/local/lib/python3.10/dist-packages/numpy/core/include/numpy/npy_1_7_deprecated_api.h:17:2:\u001b[m\u001b[K \u001b[01;35m\u001b[Kwarning: \u001b[m\u001b[K#warning \"Using deprecated NumPy API, disable it with \" \"#define NPY_NO_DEPRECATED_API NPY_1_7_API_VERSION\" [\u001b[01;35m\u001b[K\u001b]8;;https://gcc.gnu.org/onlinedocs/gcc/Warning-Options.html#index-Wcpp\u0007-Wcpp\u001b]8;;\u0007\u001b[m\u001b[K]\r\n",
      "   17 | #\u001b[01;35m\u001b[Kwarning\u001b[m\u001b[K \"Using deprecated NumPy API, disable it with \" \\\r\n",
      "      |  \u001b[01;35m\u001b[K^~~~~~~\u001b[m\u001b[K\r\n",
      "\u001b[01m\u001b[KFBSM_Rating_Cython_SGD.c:\u001b[m\u001b[K In function ‘\u001b[01m\u001b[K__pyx_pf_22FBSM_Rating_Cython_SGD_22FBSM_Rating_Cython_SGD_2fit\u001b[m\u001b[K’:\r\n",
      "\u001b[01m\u001b[KFBSM_Rating_Cython_SGD.c:26607:55:\u001b[m\u001b[K \u001b[01;35m\u001b[Kwarning: \u001b[m\u001b[K‘\u001b[01m\u001b[K__pyx_v_num_sample\u001b[m\u001b[K’ may be used uninitialized in this function [\u001b[01;35m\u001b[K\u001b]8;;https://gcc.gnu.org/onlinedocs/gcc/Warning-Options.html#index-Wmaybe-uninitialized\u0007-Wmaybe-uninitialized\u001b]8;;\u0007\u001b[m\u001b[K]\r\n",
      "26607 |   __pyx_t_5 = PyFloat_FromDouble((__pyx_v_cum_loss / \u001b[01;35m\u001b[K((double)__pyx_v_num_sample)\u001b[m\u001b[K)); if (unlikely(!__pyx_t_5)) __PYX_ERR(0, 551, __pyx_L1_error)\r\n",
      "      |                                                      \u001b[01;35m\u001b[K~^~~~~~~~~~~~~~~~~~~~~~~~~~~\u001b[m\u001b[K\r\n",
      "/usr/local/lib/python3.10/dist-packages/Cython/Compiler/Main.py:381: FutureWarning: Cython directive 'language_level' not set, using '3str' for now (Py3). This has changed from earlier releases! File: /kaggle/working/RECsys_Challenge2024/Recommenders/FeatureWeighting/Cython/FBSM_Rating_Cython_SGD.pyx\r\n",
      "  tree = Parsing.p_module(s, pxd, full_module_name)\r\n",
      "Compiling [7/11]: FBSM_Rating_Cython_SGD.pyx... PASS\r\n",
      "\r\n",
      "Compiling [8/11]: HP3_Similarity_Cython_SGD.pyx... \r\n",
      "performance hint: HP3_Similarity_Cython_SGD.pyx:113:40: Index should be typed for more efficient access\r\n",
      "performance hint: HP3_Similarity_Cython_SGD.pyx:114:40: Index should be typed for more efficient access\r\n",
      "In file included from \u001b[01m\u001b[K/usr/local/lib/python3.10/dist-packages/numpy/core/include/numpy/ndarraytypes.h:1929\u001b[m\u001b[K,\r\n",
      "                 from \u001b[01m\u001b[K/usr/local/lib/python3.10/dist-packages/numpy/core/include/numpy/ndarrayobject.h:12\u001b[m\u001b[K,\r\n",
      "                 from \u001b[01m\u001b[K/usr/local/lib/python3.10/dist-packages/numpy/core/include/numpy/arrayobject.h:5\u001b[m\u001b[K,\r\n",
      "                 from \u001b[01m\u001b[KHP3_Similarity_Cython_SGD.c:1252\u001b[m\u001b[K:\r\n",
      "\u001b[01m\u001b[K/usr/local/lib/python3.10/dist-packages/numpy/core/include/numpy/npy_1_7_deprecated_api.h:17:2:\u001b[m\u001b[K \u001b[01;35m\u001b[Kwarning: \u001b[m\u001b[K#warning \"Using deprecated NumPy API, disable it with \" \"#define NPY_NO_DEPRECATED_API NPY_1_7_API_VERSION\" [\u001b[01;35m\u001b[K\u001b]8;;https://gcc.gnu.org/onlinedocs/gcc/Warning-Options.html#index-Wcpp\u0007-Wcpp\u001b]8;;\u0007\u001b[m\u001b[K]\r\n",
      "   17 | #\u001b[01;35m\u001b[Kwarning\u001b[m\u001b[K \"Using deprecated NumPy API, disable it with \" \\\r\n",
      "      |  \u001b[01;35m\u001b[K^~~~~~~\u001b[m\u001b[K\r\n",
      "\u001b[01m\u001b[KHP3_Similarity_Cython_SGD.c:\u001b[m\u001b[K In function ‘\u001b[01m\u001b[K__pyx_pf_25HP3_Similarity_Cython_SGD_25HP3_Similarity_Cython_SGD_4fit\u001b[m\u001b[K’:\r\n",
      "\u001b[01m\u001b[KHP3_Similarity_Cython_SGD.c:23631:55:\u001b[m\u001b[K \u001b[01;35m\u001b[Kwarning: \u001b[m\u001b[K‘\u001b[01m\u001b[K__pyx_v_sample_num\u001b[m\u001b[K’ may be used uninitialized in this function [\u001b[01;35m\u001b[K\u001b]8;;https://gcc.gnu.org/onlinedocs/gcc/Warning-Options.html#index-Wmaybe-uninitialized\u0007-Wmaybe-uninitialized\u001b]8;;\u0007\u001b[m\u001b[K]\r\n",
      "23631 |   __pyx_t_1 = PyFloat_FromDouble((__pyx_v_cum_loss / \u001b[01;35m\u001b[K((double)__pyx_v_sample_num)\u001b[m\u001b[K)); if (unlikely(!__pyx_t_1)) __PYX_ERR(0, 291, __pyx_L1_error)\r\n",
      "      |                                                      \u001b[01;35m\u001b[K~^~~~~~~~~~~~~~~~~~~~~~~~~~~\u001b[m\u001b[K\r\n",
      "/usr/local/lib/python3.10/dist-packages/Cython/Compiler/Main.py:381: FutureWarning: Cython directive 'language_level' not set, using '3str' for now (Py3). This has changed from earlier releases! File: /kaggle/working/RECsys_Challenge2024/Recommenders/FeatureWeighting/Cython/HP3_Similarity_Cython_SGD.pyx\r\n",
      "  tree = Parsing.p_module(s, pxd, full_module_name)\r\n",
      "performance hint: HP3_Similarity_Cython_SGD.pyx:113:40: Index should be typed for more efficient access\r\n",
      "performance hint: HP3_Similarity_Cython_SGD.pyx:114:40: Index should be typed for more efficient access\r\n",
      "Compiling [8/11]: HP3_Similarity_Cython_SGD.pyx... PASS\r\n",
      "\r\n",
      "Compiling [9/11]: CFW_DVV_Similarity_Cython_SGD.pyx... \r\n",
      "In file included from \u001b[01m\u001b[K/usr/local/lib/python3.10/dist-packages/numpy/core/include/numpy/ndarraytypes.h:1929\u001b[m\u001b[K,\r\n",
      "                 from \u001b[01m\u001b[K/usr/local/lib/python3.10/dist-packages/numpy/core/include/numpy/ndarrayobject.h:12\u001b[m\u001b[K,\r\n",
      "                 from \u001b[01m\u001b[K/usr/local/lib/python3.10/dist-packages/numpy/core/include/numpy/arrayobject.h:5\u001b[m\u001b[K,\r\n",
      "                 from \u001b[01m\u001b[KCFW_DVV_Similarity_Cython_SGD.c:1252\u001b[m\u001b[K:\r\n",
      "\u001b[01m\u001b[K/usr/local/lib/python3.10/dist-packages/numpy/core/include/numpy/npy_1_7_deprecated_api.h:17:2:\u001b[m\u001b[K \u001b[01;35m\u001b[Kwarning: \u001b[m\u001b[K#warning \"Using deprecated NumPy API, disable it with \" \"#define NPY_NO_DEPRECATED_API NPY_1_7_API_VERSION\" [\u001b[01;35m\u001b[K\u001b]8;;https://gcc.gnu.org/onlinedocs/gcc/Warning-Options.html#index-Wcpp\u0007-Wcpp\u001b]8;;\u0007\u001b[m\u001b[K]\r\n",
      "   17 | #\u001b[01;35m\u001b[Kwarning\u001b[m\u001b[K \"Using deprecated NumPy API, disable it with \" \\\r\n",
      "      |  \u001b[01;35m\u001b[K^~~~~~~\u001b[m\u001b[K\r\n",
      "/usr/local/lib/python3.10/dist-packages/Cython/Compiler/Main.py:381: FutureWarning: Cython directive 'language_level' not set, using '3str' for now (Py3). This has changed from earlier releases! File: /kaggle/working/RECsys_Challenge2024/Recommenders/FeatureWeighting/Cython/CFW_DVV_Similarity_Cython_SGD.pyx\r\n",
      "  tree = Parsing.p_module(s, pxd, full_module_name)\r\n",
      "Compiling [9/11]: CFW_DVV_Similarity_Cython_SGD.pyx... PASS\r\n",
      "\r\n",
      "Compiling [10/11]: CFW_D_Similarity_Cython_SGD.pyx... \r\n",
      "In file included from \u001b[01m\u001b[K/usr/local/lib/python3.10/dist-packages/numpy/core/include/numpy/ndarraytypes.h:1929\u001b[m\u001b[K,\r\n",
      "                 from \u001b[01m\u001b[K/usr/local/lib/python3.10/dist-packages/numpy/core/include/numpy/ndarrayobject.h:12\u001b[m\u001b[K,\r\n",
      "                 from \u001b[01m\u001b[K/usr/local/lib/python3.10/dist-packages/numpy/core/include/numpy/arrayobject.h:5\u001b[m\u001b[K,\r\n",
      "                 from \u001b[01m\u001b[KCFW_D_Similarity_Cython_SGD.c:1252\u001b[m\u001b[K:\r\n",
      "\u001b[01m\u001b[K/usr/local/lib/python3.10/dist-packages/numpy/core/include/numpy/npy_1_7_deprecated_api.h:17:2:\u001b[m\u001b[K \u001b[01;35m\u001b[Kwarning: \u001b[m\u001b[K#warning \"Using deprecated NumPy API, disable it with \" \"#define NPY_NO_DEPRECATED_API NPY_1_7_API_VERSION\" [\u001b[01;35m\u001b[K\u001b]8;;https://gcc.gnu.org/onlinedocs/gcc/Warning-Options.html#index-Wcpp\u0007-Wcpp\u001b]8;;\u0007\u001b[m\u001b[K]\r\n",
      "   17 | #\u001b[01;35m\u001b[Kwarning\u001b[m\u001b[K \"Using deprecated NumPy API, disable it with \" \\\r\n",
      "      |  \u001b[01;35m\u001b[K^~~~~~~\u001b[m\u001b[K\r\n",
      "\u001b[01m\u001b[KCFW_D_Similarity_Cython_SGD.c:\u001b[m\u001b[K In function ‘\u001b[01m\u001b[K__pyx_pf_27CFW_D_Similarity_Cython_SGD_27CFW_D_Similarity_Cython_SGD_6fit\u001b[m\u001b[K’:\r\n",
      "\u001b[01m\u001b[KCFW_D_Similarity_Cython_SGD.c:23373:55:\u001b[m\u001b[K \u001b[01;35m\u001b[Kwarning: \u001b[m\u001b[K‘\u001b[01m\u001b[K__pyx_v_sample_num\u001b[m\u001b[K’ may be used uninitialized in this function [\u001b[01;35m\u001b[K\u001b]8;;https://gcc.gnu.org/onlinedocs/gcc/Warning-Options.html#index-Wmaybe-uninitialized\u0007-Wmaybe-uninitialized\u001b]8;;\u0007\u001b[m\u001b[K]\r\n",
      "23373 |   __pyx_t_3 = PyFloat_FromDouble((__pyx_v_cum_loss / \u001b[01;35m\u001b[K((double)__pyx_v_sample_num)\u001b[m\u001b[K)); if (unlikely(!__pyx_t_3)) __PYX_ERR(0, 290, __pyx_L1_error)\r\n",
      "      |                                                      \u001b[01;35m\u001b[K~^~~~~~~~~~~~~~~~~~~~~~~~~~~\u001b[m\u001b[K\r\n",
      "/usr/local/lib/python3.10/dist-packages/Cython/Compiler/Main.py:381: FutureWarning: Cython directive 'language_level' not set, using '3str' for now (Py3). This has changed from earlier releases! File: /kaggle/working/RECsys_Challenge2024/Recommenders/FeatureWeighting/Cython/CFW_D_Similarity_Cython_SGD.pyx\r\n",
      "  tree = Parsing.p_module(s, pxd, full_module_name)\r\n",
      "Compiling [10/11]: CFW_D_Similarity_Cython_SGD.pyx... PASS\r\n",
      "\r\n",
      "Compiling [11/11]: DataIterator.pyx... \r\n",
      "In file included from \u001b[01m\u001b[K/usr/local/lib/python3.10/dist-packages/numpy/core/include/numpy/ndarraytypes.h:1929\u001b[m\u001b[K,\r\n",
      "                 from \u001b[01m\u001b[K/usr/local/lib/python3.10/dist-packages/numpy/core/include/numpy/ndarrayobject.h:12\u001b[m\u001b[K,\r\n",
      "                 from \u001b[01m\u001b[K/usr/local/lib/python3.10/dist-packages/numpy/core/include/numpy/arrayobject.h:5\u001b[m\u001b[K,\r\n",
      "                 from \u001b[01m\u001b[KDataIterator.c:1252\u001b[m\u001b[K:\r\n",
      "\u001b[01m\u001b[K/usr/local/lib/python3.10/dist-packages/numpy/core/include/numpy/npy_1_7_deprecated_api.h:17:2:\u001b[m\u001b[K \u001b[01;35m\u001b[Kwarning: \u001b[m\u001b[K#warning \"Using deprecated NumPy API, disable it with \" \"#define NPY_NO_DEPRECATED_API NPY_1_7_API_VERSION\" [\u001b[01;35m\u001b[K\u001b]8;;https://gcc.gnu.org/onlinedocs/gcc/Warning-Options.html#index-Wcpp\u0007-Wcpp\u001b]8;;\u0007\u001b[m\u001b[K]\r\n",
      "   17 | #\u001b[01;35m\u001b[Kwarning\u001b[m\u001b[K \"Using deprecated NumPy API, disable it with \" \\\r\n",
      "      |  \u001b[01;35m\u001b[K^~~~~~~\u001b[m\u001b[K\r\n",
      "\u001b[01m\u001b[KDataIterator.c:\u001b[m\u001b[K In function ‘\u001b[01m\u001b[K__pyx_pf_12DataIterator_19InteractionIterator_6__next__\u001b[m\u001b[K’:\r\n",
      "\u001b[01m\u001b[KDataIterator.c:20937:22:\u001b[m\u001b[K \u001b[01;35m\u001b[Kwarning: \u001b[m\u001b[K‘\u001b[01m\u001b[K__pyx_v_i_batch\u001b[m\u001b[K’ may be used uninitialized in this function [\u001b[01;35m\u001b[K\u001b]8;;https://gcc.gnu.org/onlinedocs/gcc/Warning-Options.html#index-Wmaybe-uninitialized\u0007-Wmaybe-uninitialized\u001b]8;;\u0007\u001b[m\u001b[K]\r\n",
      "20937 |     (__pyx_v_i_batch \u001b[01;35m\u001b[K+\u001b[m\u001b[K 1),\r\n",
      "      |                      \u001b[01;35m\u001b[K^\u001b[m\u001b[K\r\n",
      "\u001b[01m\u001b[KDataIterator.c:\u001b[m\u001b[K In function ‘\u001b[01m\u001b[K__pyx_pf_12DataIterator_30InteractionAndNegativeIterator_6__next__\u001b[m\u001b[K’:\r\n",
      "\u001b[01m\u001b[KDataIterator.c:25499:22:\u001b[m\u001b[K \u001b[01;35m\u001b[Kwarning: \u001b[m\u001b[K‘\u001b[01m\u001b[K__pyx_v_i_batch\u001b[m\u001b[K’ may be used uninitialized in this function [\u001b[01;35m\u001b[K\u001b]8;;https://gcc.gnu.org/onlinedocs/gcc/Warning-Options.html#index-Wmaybe-uninitialized\u0007-Wmaybe-uninitialized\u001b]8;;\u0007\u001b[m\u001b[K]\r\n",
      "25499 |     (__pyx_v_i_batch \u001b[01;35m\u001b[K+\u001b[m\u001b[K 1),\r\n",
      "      |                      \u001b[01;35m\u001b[K^\u001b[m\u001b[K\r\n",
      "\u001b[01m\u001b[KDataIterator.c:\u001b[m\u001b[K In function ‘\u001b[01m\u001b[K__pyx_pf_12DataIterator_11BPRIterator_6__next__\u001b[m\u001b[K’:\r\n",
      "\u001b[01m\u001b[KDataIterator.c:23056:22:\u001b[m\u001b[K \u001b[01;35m\u001b[Kwarning: \u001b[m\u001b[K‘\u001b[01m\u001b[K__pyx_v_i_batch\u001b[m\u001b[K’ may be used uninitialized in this function [\u001b[01;35m\u001b[K\u001b]8;;https://gcc.gnu.org/onlinedocs/gcc/Warning-Options.html#index-Wmaybe-uninitialized\u0007-Wmaybe-uninitialized\u001b]8;;\u0007\u001b[m\u001b[K]\r\n",
      "23056 |     (__pyx_v_i_batch \u001b[01;35m\u001b[K+\u001b[m\u001b[K 1),\r\n",
      "      |                      \u001b[01;35m\u001b[K^\u001b[m\u001b[K\r\n",
      "/usr/local/lib/python3.10/dist-packages/Cython/Compiler/Main.py:381: FutureWarning: Cython directive 'language_level' not set, using '3str' for now (Py3). This has changed from earlier releases! File: /kaggle/working/RECsys_Challenge2024/Utils/PyTorch/Cython/DataIterator.pyx\r\n",
      "  tree = Parsing.p_module(s, pxd, full_module_name)\r\n",
      "Compiling [11/11]: DataIterator.pyx... PASS\r\n",
      "\r\n",
      "run_compile_all_cython: Compilation finished. FAILS 2/11.\r\n",
      "Compilation log can be found here: './result_experiments/run_compile_all_cython.txt'\r\n"
     ]
    }
   ],
   "source": [
    "%cd /kaggle/working/RECsys_Challenge2024 \n",
    "! python run_compile_all_cython.py"
   ]
  },
  {
   "cell_type": "code",
   "execution_count": 5,
   "id": "e1ea8be5",
   "metadata": {
    "execution": {
     "iopub.execute_input": "2025-01-06T23:18:35.159857Z",
     "iopub.status.busy": "2025-01-06T23:18:35.159438Z",
     "iopub.status.idle": "2025-01-06T23:18:36.619444Z",
     "shell.execute_reply": "2025-01-06T23:18:36.618306Z"
    },
    "papermill": {
     "duration": 1.478871,
     "end_time": "2025-01-06T23:18:36.621800",
     "exception": false,
     "start_time": "2025-01-06T23:18:35.142929",
     "status": "completed"
    },
    "tags": []
   },
   "outputs": [],
   "source": [
    "from Utils.notebookFunctions import *\n",
    "import numpy as np\n",
    "import pandas as pd\n",
    "import scipy.sparse as sps\n",
    "import time\n",
    "import shutil\n",
    "import optuna\n",
    "import json\n",
    "import os\n",
    "from Utils.seconds_to_biggest_unit import seconds_to_biggest_unit\n",
    "\n",
    "\n",
    "K_PATH = '/kaggle/working/RECsys_Challenge2024'\n",
    "GH_PATH = 'TrainedModels/WithKFCV/KNN'\n",
    "\n",
    "np.random.seed(42)"
   ]
  },
  {
   "cell_type": "markdown",
   "id": "7faba5ae",
   "metadata": {
    "papermill": {
     "duration": 0.01513,
     "end_time": "2025-01-06T23:18:36.652489",
     "exception": false,
     "start_time": "2025-01-06T23:18:36.637359",
     "status": "completed"
    },
    "tags": []
   },
   "source": [
    "## Import the repository **RECsys_Challenge2024**"
   ]
  },
  {
   "cell_type": "code",
   "execution_count": 6,
   "id": "d6ccb009",
   "metadata": {
    "execution": {
     "iopub.execute_input": "2025-01-06T23:18:36.685538Z",
     "iopub.status.busy": "2025-01-06T23:18:36.684978Z",
     "iopub.status.idle": "2025-01-06T23:18:37.175039Z",
     "shell.execute_reply": "2025-01-06T23:18:37.173647Z"
    },
    "papermill": {
     "duration": 0.508469,
     "end_time": "2025-01-06T23:18:37.177131",
     "exception": false,
     "start_time": "2025-01-06T23:18:36.668662",
     "status": "completed"
    },
    "tags": []
   },
   "outputs": [
    {
     "name": "stdout",
     "output_type": "stream",
     "text": [
      "Repository 'RECsys_Challenge2024' found.\n"
     ]
    }
   ],
   "source": [
    "repo = get_repo_from_github(token)"
   ]
  },
  {
   "cell_type": "code",
   "execution_count": 7,
   "id": "3f0234a0",
   "metadata": {
    "execution": {
     "iopub.execute_input": "2025-01-06T23:18:37.211573Z",
     "iopub.status.busy": "2025-01-06T23:18:37.211163Z",
     "iopub.status.idle": "2025-01-06T23:18:37.216076Z",
     "shell.execute_reply": "2025-01-06T23:18:37.214950Z"
    },
    "papermill": {
     "duration": 0.024465,
     "end_time": "2025-01-06T23:18:37.218022",
     "exception": false,
     "start_time": "2025-01-06T23:18:37.193557",
     "status": "completed"
    },
    "tags": []
   },
   "outputs": [],
   "source": [
    "config = {\n",
    "    'model': 'ItemKNNCF',\n",
    "    'n_folds': 5,\n",
    "    'metric': 'Recall',\n",
    "    'tune_parameters': True,\n",
    "    'database_path': '/kaggle/working/history_ItemKNNCF_Recall.db',\n",
    "    'copy_prev_best_params': False,\n",
    "    'tune_best_params': True,\n",
    "    'save_github': True\n",
    "}"
   ]
  },
  {
   "cell_type": "markdown",
   "id": "12a8ed58",
   "metadata": {
    "papermill": {
     "duration": 0.015914,
     "end_time": "2025-01-06T23:18:37.250303",
     "exception": false,
     "start_time": "2025-01-06T23:18:37.234389",
     "status": "completed"
    },
    "tags": []
   },
   "source": [
    "Import the database where previous tuning trials have been saved."
   ]
  },
  {
   "cell_type": "code",
   "execution_count": 8,
   "id": "23af1007",
   "metadata": {
    "execution": {
     "iopub.execute_input": "2025-01-06T23:18:37.284301Z",
     "iopub.status.busy": "2025-01-06T23:18:37.283951Z",
     "iopub.status.idle": "2025-01-06T23:18:37.289978Z",
     "shell.execute_reply": "2025-01-06T23:18:37.288704Z"
    },
    "papermill": {
     "duration": 0.025128,
     "end_time": "2025-01-06T23:18:37.291791",
     "exception": false,
     "start_time": "2025-01-06T23:18:37.266663",
     "status": "completed"
    },
    "tags": []
   },
   "outputs": [],
   "source": [
    "try:\n",
    "    shutil.copyfile(\n",
    "        f'{K_PATH}/{GH_PATH}/{config[\"model\"]}Recommender/Optimizing{config[\"metric\"]}/history_{config[\"model\"]}_{config[\"metric\"]}.db', \n",
    "        config['database_path']\n",
    "    )\n",
    "except FileNotFoundError:\n",
    "    pass # if not present optuna will create it"
   ]
  },
  {
   "cell_type": "markdown",
   "id": "511740bb",
   "metadata": {
    "papermill": {
     "duration": 0.015292,
     "end_time": "2025-01-06T23:18:37.322966",
     "exception": false,
     "start_time": "2025-01-06T23:18:37.307674",
     "status": "completed"
    },
    "tags": []
   },
   "source": [
    "# Construction of URM and ICM matrices"
   ]
  },
  {
   "cell_type": "code",
   "execution_count": 9,
   "id": "b076b2cf",
   "metadata": {
    "execution": {
     "iopub.execute_input": "2025-01-06T23:18:37.363113Z",
     "iopub.status.busy": "2025-01-06T23:18:37.362702Z",
     "iopub.status.idle": "2025-01-06T23:18:38.192428Z",
     "shell.execute_reply": "2025-01-06T23:18:38.190391Z"
    },
    "papermill": {
     "duration": 0.852934,
     "end_time": "2025-01-06T23:18:38.194849",
     "exception": false,
     "start_time": "2025-01-06T23:18:37.341915",
     "status": "completed"
    },
    "tags": []
   },
   "outputs": [
    {
     "data": {
      "text/plain": [
       "<35736x38121 sparse matrix of type '<class 'numpy.float64'>'\n",
       "\twith 1764607 stored elements in Compressed Sparse Row format>"
      ]
     },
     "execution_count": 9,
     "metadata": {},
     "output_type": "execute_result"
    }
   ],
   "source": [
    "URM_all_dataframe = pd.read_csv(\"/kaggle/input/recommender-system-2024-challenge-polimi/data_train.csv\")\n",
    "\n",
    "n_users = len(URM_all_dataframe[\"user_id\"].unique())\n",
    "n_items = len(URM_all_dataframe[\"item_id\"].unique())\n",
    "\n",
    "URM_all = sps.csr_matrix((URM_all_dataframe[\"data\"].values, \n",
    "                          (URM_all_dataframe[\"user_id\"].values, URM_all_dataframe[\"item_id\"].values)),\n",
    "                        shape = (n_users, n_items))\n",
    "\n",
    "URM_all"
   ]
  },
  {
   "cell_type": "code",
   "execution_count": 10,
   "id": "36c2f154",
   "metadata": {
    "execution": {
     "iopub.execute_input": "2025-01-06T23:18:38.233827Z",
     "iopub.status.busy": "2025-01-06T23:18:38.233415Z",
     "iopub.status.idle": "2025-01-06T23:18:39.504907Z",
     "shell.execute_reply": "2025-01-06T23:18:39.503761Z"
    },
    "papermill": {
     "duration": 1.292272,
     "end_time": "2025-01-06T23:18:39.506913",
     "exception": false,
     "start_time": "2025-01-06T23:18:38.214641",
     "status": "completed"
    },
    "tags": []
   },
   "outputs": [
    {
     "data": {
      "text/plain": [
       "<38121x94331 sparse matrix of type '<class 'numpy.float64'>'\n",
       "\twith 2940040 stored elements in Compressed Sparse Row format>"
      ]
     },
     "execution_count": 10,
     "metadata": {},
     "output_type": "execute_result"
    }
   ],
   "source": [
    "ICM_dataframe = pd.read_csv(\"/kaggle/input/recommender-system-2024-challenge-polimi/data_ICM_metadata.csv\")\n",
    "\n",
    "n_items = len(ICM_dataframe[\"item_id\"].unique())\n",
    "n_features = len(ICM_dataframe[\"feature_id\"].unique())\n",
    "\n",
    "ICM_all = sps.csr_matrix((ICM_dataframe[\"data\"].values, \n",
    "                          (ICM_dataframe[\"item_id\"].values, ICM_dataframe[\"feature_id\"].values)),\n",
    "                        shape = (n_items, n_features))\n",
    "\n",
    "ICM_all"
   ]
  },
  {
   "cell_type": "markdown",
   "id": "5e4df382",
   "metadata": {
    "papermill": {
     "duration": 0.015718,
     "end_time": "2025-01-06T23:18:39.539885",
     "exception": false,
     "start_time": "2025-01-06T23:18:39.524167",
     "status": "completed"
    },
    "tags": []
   },
   "source": [
    "# Training"
   ]
  },
  {
   "cell_type": "code",
   "execution_count": 11,
   "id": "85969ae8",
   "metadata": {
    "execution": {
     "iopub.execute_input": "2025-01-06T23:18:39.572991Z",
     "iopub.status.busy": "2025-01-06T23:18:39.572638Z",
     "iopub.status.idle": "2025-01-06T23:18:58.195027Z",
     "shell.execute_reply": "2025-01-06T23:18:58.193650Z"
    },
    "papermill": {
     "duration": 18.641339,
     "end_time": "2025-01-06T23:18:58.197212",
     "exception": false,
     "start_time": "2025-01-06T23:18:39.555873",
     "status": "completed"
    },
    "tags": []
   },
   "outputs": [
    {
     "name": "stdout",
     "output_type": "stream",
     "text": [
      "Warning: 141 (0.39 %) of 35736 users have no sampled items\n"
     ]
    }
   ],
   "source": [
    "from Evaluation.Evaluator import EvaluatorHoldout\n",
    "from Data_manager.split_functions.split_train_validation_random_holdout import split_train_in_two_percentage_global_sample\n",
    "from Data_manager.split_functions.split_train_k_folds import split_train_k_folds\n",
    "\n",
    "URM_train, URM_validation = split_train_in_two_percentage_global_sample(URM_all, train_percentage = 0.80)\n",
    "\n",
    "folds = split_train_k_folds(URM_all, k=config['n_folds'])"
   ]
  },
  {
   "cell_type": "code",
   "execution_count": 12,
   "id": "281ed0e2",
   "metadata": {
    "execution": {
     "iopub.execute_input": "2025-01-06T23:18:58.233154Z",
     "iopub.status.busy": "2025-01-06T23:18:58.232776Z",
     "iopub.status.idle": "2025-01-06T23:18:58.250890Z",
     "shell.execute_reply": "2025-01-06T23:18:58.249717Z"
    },
    "papermill": {
     "duration": 0.038402,
     "end_time": "2025-01-06T23:18:58.253034",
     "exception": false,
     "start_time": "2025-01-06T23:18:58.214632",
     "status": "completed"
    },
    "tags": []
   },
   "outputs": [],
   "source": [
    "from Recommenders.KNN.ItemKNNCFRecommender import ItemKNNCFRecommender\n",
    "\n",
    "def objective_function_ItemKNNCF(optuna_trial):\n",
    "    \n",
    "    recommender_instance = ItemKNNCFRecommender(URM_train)\n",
    "    similarity = optuna_trial.suggest_categorical(\"similarity\", ['cosine', 'dice', 'jaccard', 'asymmetric', 'tversky', 'euclidean'])\n",
    "    \n",
    "    full_hyperp = {\"similarity\": similarity,\n",
    "                   \"topK\": optuna_trial.suggest_int(\"topK\", 0, 750),\n",
    "                   \"shrink\": optuna_trial.suggest_int(\"shrink\", 0, 1000),\n",
    "                   'feature_weighting': optuna_trial.suggest_categorical('feature_weighting', [\"BM25\", \"TF-IDF\", \"none\"])\n",
    "                  }\n",
    "    \n",
    "    if similarity == \"asymmetric\":\n",
    "        full_hyperp[\"asymmetric_alpha\"] = optuna_trial.suggest_float(\"asymmetric_alpha\", 0, 2, log=False)\n",
    "        full_hyperp[\"normalize\"] = True     \n",
    "\n",
    "    elif similarity == \"tversky\":\n",
    "        full_hyperp[\"tversky_alpha\"] = optuna_trial.suggest_float(\"tversky_alpha\", 0, 2, log=False)\n",
    "        full_hyperp[\"tversky_beta\"] = optuna_trial.suggest_float(\"tversky_beta\", 0, 2, log=False)\n",
    "        full_hyperp[\"normalize\"] = True \n",
    "\n",
    "    elif similarity == \"euclidean\":\n",
    "        full_hyperp[\"normalize_avg_row\"] = optuna_trial.suggest_categorical(\"normalize_avg_row\", [True, False])\n",
    "        full_hyperp[\"similarity_from_distance_mode\"] = optuna_trial.suggest_categorical(\"similarity_from_distance_mode\", [\"lin\", \"log\", \"exp\"])\n",
    "        full_hyperp[\"normalize\"] = optuna_trial.suggest_categorical(\"normalize\", [True, False])\n",
    "        \n",
    "    \n",
    "    validation_results = []\n",
    "    \n",
    "    for fold_idx, (URM_train_fold, URM_validation_fold) in enumerate(folds):\n",
    "    \n",
    "        recommender_instance = ItemKNNCFRecommender(URM_train_fold)\n",
    "        recommender_instance.fit(**full_hyperp)\n",
    "        \n",
    "        evaluator = EvaluatorHoldout(URM_validation_fold, cutoff_list=[50])\n",
    "        result_df, _ = evaluator.evaluateRecommender(recommender_instance)\n",
    "        \n",
    "        validation_results.append(result_df.loc[50][\"RECALL\"])\n",
    "    \n",
    "    return np.mean(validation_results)"
   ]
  },
  {
   "cell_type": "code",
   "execution_count": 13,
   "id": "65b2bbe0",
   "metadata": {
    "_kg_hide-output": true,
    "execution": {
     "iopub.execute_input": "2025-01-06T23:18:58.288784Z",
     "iopub.status.busy": "2025-01-06T23:18:58.288370Z",
     "iopub.status.idle": "2025-01-07T11:04:43.880469Z",
     "shell.execute_reply": "2025-01-07T11:04:43.879134Z"
    },
    "papermill": {
     "duration": 42345.713639,
     "end_time": "2025-01-07T11:04:43.983896",
     "exception": false,
     "start_time": "2025-01-06T23:18:58.270257",
     "status": "completed"
    },
    "tags": []
   },
   "outputs": [
    {
     "name": "stderr",
     "output_type": "stream",
     "text": [
      "[I 2025-01-06 23:18:59,343] Using an existing study with name 'hyperparameters_tuning_ItemKNNCF_Recall' instead of creating a new one.\n"
     ]
    },
    {
     "name": "stdout",
     "output_type": "stream",
     "text": [
      "Similarity column 38121 (100.0%), 2748.61 column/sec. Elapsed time 13.87 sec\n",
      "EvaluatorHoldout: Ignoring 173 ( 0.5%) Users that have less than 1 test interactions\n",
      "EvaluatorHoldout: Processed 35563 (100.0%) in 40.27 sec. Users per second: 883\n",
      "Similarity column 38121 (100.0%), 2731.22 column/sec. Elapsed time 13.96 sec\n",
      "EvaluatorHoldout: Ignoring 163 ( 0.5%) Users that have less than 1 test interactions\n",
      "EvaluatorHoldout: Processed 35573 (100.0%) in 40.89 sec. Users per second: 870\n",
      "Similarity column 38121 (100.0%), 2701.50 column/sec. Elapsed time 14.11 sec\n",
      "EvaluatorHoldout: Ignoring 150 ( 0.4%) Users that have less than 1 test interactions\n",
      "EvaluatorHoldout: Processed 35586 (100.0%) in 41.38 sec. Users per second: 860\n",
      "Similarity column 38121 (100.0%), 2727.53 column/sec. Elapsed time 13.98 sec\n",
      "EvaluatorHoldout: Ignoring 167 ( 0.5%) Users that have less than 1 test interactions\n",
      "EvaluatorHoldout: Processed 35569 (100.0%) in 40.91 sec. Users per second: 869\n",
      "Similarity column 38121 (100.0%), 2747.89 column/sec. Elapsed time 13.87 sec\n",
      "EvaluatorHoldout: Ignoring 172 ( 0.5%) Users that have less than 1 test interactions\n",
      "EvaluatorHoldout: Processed 35564 (100.0%) in 40.89 sec. Users per second: 870\n"
     ]
    },
    {
     "name": "stderr",
     "output_type": "stream",
     "text": [
      "[I 2025-01-06 23:23:36,352] Trial 600 finished with value: 0.2628503371010484 and parameters: {'similarity': 'asymmetric', 'topK': 121, 'shrink': 477, 'feature_weighting': 'TF-IDF', 'asymmetric_alpha': 0.18598738793968927}. Best is trial 570 with value: 0.2659280370505061.\n"
     ]
    },
    {
     "name": "stdout",
     "output_type": "stream",
     "text": [
      "Similarity column 38121 (100.0%), 2765.92 column/sec. Elapsed time 13.78 sec\n",
      "EvaluatorHoldout: Ignoring 173 ( 0.5%) Users that have less than 1 test interactions\n",
      "EvaluatorHoldout: Processed 35563 (100.0%) in 40.32 sec. Users per second: 882\n",
      "Similarity column 38121 (100.0%), 2753.47 column/sec. Elapsed time 13.84 sec\n",
      "EvaluatorHoldout: Ignoring 163 ( 0.5%) Users that have less than 1 test interactions\n",
      "EvaluatorHoldout: Processed 35573 (100.0%) in 40.35 sec. Users per second: 882\n",
      "Similarity column 38121 (100.0%), 2767.80 column/sec. Elapsed time 13.77 sec\n",
      "EvaluatorHoldout: Ignoring 150 ( 0.4%) Users that have less than 1 test interactions\n",
      "EvaluatorHoldout: Processed 35586 (100.0%) in 39.97 sec. Users per second: 890\n",
      "Similarity column 38121 (100.0%), 2749.35 column/sec. Elapsed time 13.87 sec\n",
      "EvaluatorHoldout: Ignoring 167 ( 0.5%) Users that have less than 1 test interactions\n",
      "EvaluatorHoldout: Processed 35569 (100.0%) in 40.33 sec. Users per second: 882\n",
      "Similarity column 38121 (100.0%), 2766.80 column/sec. Elapsed time 13.78 sec\n",
      "EvaluatorHoldout: Ignoring 172 ( 0.5%) Users that have less than 1 test interactions\n",
      "EvaluatorHoldout: Processed 35564 (100.0%) in 39.90 sec. Users per second: 891\n"
     ]
    },
    {
     "name": "stderr",
     "output_type": "stream",
     "text": [
      "[I 2025-01-06 23:28:08,662] Trial 601 finished with value: 0.26299525919342737 and parameters: {'similarity': 'asymmetric', 'topK': 117, 'shrink': 450, 'feature_weighting': 'TF-IDF', 'asymmetric_alpha': 0.1840598761945146}. Best is trial 570 with value: 0.2659280370505061.\n"
     ]
    },
    {
     "name": "stdout",
     "output_type": "stream",
     "text": [
      "Similarity column 38121 (100.0%), 2786.05 column/sec. Elapsed time 13.68 sec\n",
      "EvaluatorHoldout: Ignoring 173 ( 0.5%) Users that have less than 1 test interactions\n",
      "EvaluatorHoldout: Processed 35563 (100.0%) in 40.68 sec. Users per second: 874\n",
      "Similarity column 38121 (100.0%), 2805.15 column/sec. Elapsed time 13.59 sec\n",
      "EvaluatorHoldout: Ignoring 163 ( 0.5%) Users that have less than 1 test interactions\n",
      "EvaluatorHoldout: Processed 35573 (100.0%) in 40.92 sec. Users per second: 869\n",
      "Similarity column 38121 (100.0%), 2667.78 column/sec. Elapsed time 14.29 sec\n",
      "EvaluatorHoldout: Ignoring 150 ( 0.4%) Users that have less than 1 test interactions\n",
      "EvaluatorHoldout: Processed 35586 (100.0%) in 41.65 sec. Users per second: 854\n",
      "Similarity column 38121 (100.0%), 2757.91 column/sec. Elapsed time 13.82 sec\n",
      "EvaluatorHoldout: Ignoring 167 ( 0.5%) Users that have less than 1 test interactions\n",
      "EvaluatorHoldout: Processed 35569 (100.0%) in 40.71 sec. Users per second: 874\n",
      "Similarity column 38121 (100.0%), 2788.93 column/sec. Elapsed time 13.67 sec\n",
      "EvaluatorHoldout: Ignoring 172 ( 0.5%) Users that have less than 1 test interactions\n",
      "EvaluatorHoldout: Processed 35564 (100.0%) in 40.59 sec. Users per second: 876\n"
     ]
    },
    {
     "name": "stderr",
     "output_type": "stream",
     "text": [
      "[I 2025-01-06 23:32:44,726] Trial 602 finished with value: 0.23187085304899227 and parameters: {'similarity': 'asymmetric', 'topK': 115, 'shrink': 457, 'feature_weighting': 'BM25', 'asymmetric_alpha': 0.19457678094311504}. Best is trial 570 with value: 0.2659280370505061.\n"
     ]
    },
    {
     "name": "stdout",
     "output_type": "stream",
     "text": [
      "Similarity column 38121 (100.0%), 2488.94 column/sec. Elapsed time 15.32 sec\n",
      "EvaluatorHoldout: Ignoring 173 ( 0.5%) Users that have less than 1 test interactions\n",
      "EvaluatorHoldout: Processed 35563 (100.0%) in 40.61 sec. Users per second: 876\n",
      "Similarity column 38121 (100.0%), 2775.21 column/sec. Elapsed time 13.74 sec\n",
      "EvaluatorHoldout: Ignoring 163 ( 0.5%) Users that have less than 1 test interactions\n",
      "EvaluatorHoldout: Processed 35573 (100.0%) in 40.02 sec. Users per second: 889\n",
      "Similarity column 38121 (100.0%), 2773.53 column/sec. Elapsed time 13.74 sec\n",
      "EvaluatorHoldout: Ignoring 150 ( 0.4%) Users that have less than 1 test interactions\n",
      "EvaluatorHoldout: Processed 35586 (100.0%) in 39.93 sec. Users per second: 891\n",
      "Similarity column 38121 (100.0%), 2801.78 column/sec. Elapsed time 13.61 sec\n",
      "EvaluatorHoldout: Ignoring 167 ( 0.5%) Users that have less than 1 test interactions\n",
      "EvaluatorHoldout: Processed 35569 (100.0%) in 39.63 sec. Users per second: 898\n",
      "Similarity column 38121 (100.0%), 2803.34 column/sec. Elapsed time 13.60 sec\n",
      "EvaluatorHoldout: Ignoring 172 ( 0.5%) Users that have less than 1 test interactions\n",
      "EvaluatorHoldout: Processed 35564 (100.0%) in 39.70 sec. Users per second: 896\n"
     ]
    },
    {
     "name": "stderr",
     "output_type": "stream",
     "text": [
      "[I 2025-01-06 23:37:17,082] Trial 603 finished with value: 0.26290562842783893 and parameters: {'similarity': 'asymmetric', 'topK': 121, 'shrink': 486, 'feature_weighting': 'TF-IDF', 'asymmetric_alpha': 0.15366575581906317}. Best is trial 570 with value: 0.2659280370505061.\n"
     ]
    },
    {
     "name": "stdout",
     "output_type": "stream",
     "text": [
      "Similarity column 38121 (100.0%), 2768.88 column/sec. Elapsed time 13.77 sec\n",
      "EvaluatorHoldout: Ignoring 173 ( 0.5%) Users that have less than 1 test interactions\n",
      "EvaluatorHoldout: Processed 35563 (100.0%) in 39.43 sec. Users per second: 902\n",
      "Similarity column 38121 (100.0%), 2779.97 column/sec. Elapsed time 13.71 sec\n",
      "EvaluatorHoldout: Ignoring 163 ( 0.5%) Users that have less than 1 test interactions\n",
      "EvaluatorHoldout: Processed 35573 (100.0%) in 39.65 sec. Users per second: 897\n",
      "Similarity column 38121 (100.0%), 2785.29 column/sec. Elapsed time 13.69 sec\n",
      "EvaluatorHoldout: Ignoring 150 ( 0.4%) Users that have less than 1 test interactions\n",
      "EvaluatorHoldout: Processed 35586 (100.0%) in 40.09 sec. Users per second: 888\n",
      "Similarity column 38121 (100.0%), 2745.69 column/sec. Elapsed time 13.88 sec\n",
      "EvaluatorHoldout: Ignoring 167 ( 0.5%) Users that have less than 1 test interactions\n",
      "EvaluatorHoldout: Processed 35569 (100.0%) in 39.63 sec. Users per second: 898\n",
      "Similarity column 38121 (100.0%), 2753.08 column/sec. Elapsed time 13.85 sec\n",
      "EvaluatorHoldout: Ignoring 172 ( 0.5%) Users that have less than 1 test interactions\n",
      "EvaluatorHoldout: Processed 35564 (100.0%) in 40.02 sec. Users per second: 889\n"
     ]
    },
    {
     "name": "stderr",
     "output_type": "stream",
     "text": [
      "[I 2025-01-06 23:41:47,189] Trial 604 finished with value: 0.2634642691942532 and parameters: {'similarity': 'asymmetric', 'topK': 112, 'shrink': 487, 'feature_weighting': 'TF-IDF', 'asymmetric_alpha': 0.15877252752731175}. Best is trial 570 with value: 0.2659280370505061.\n"
     ]
    },
    {
     "name": "stdout",
     "output_type": "stream",
     "text": [
      "Similarity column 38121 (100.0%), 2768.69 column/sec. Elapsed time 13.77 sec\n",
      "EvaluatorHoldout: Ignoring 173 ( 0.5%) Users that have less than 1 test interactions\n",
      "EvaluatorHoldout: Processed 35563 (100.0%) in 39.51 sec. Users per second: 900\n",
      "Similarity column 38121 (100.0%), 2770.57 column/sec. Elapsed time 13.76 sec\n",
      "EvaluatorHoldout: Ignoring 163 ( 0.5%) Users that have less than 1 test interactions\n",
      "EvaluatorHoldout: Processed 35573 (100.0%) in 39.73 sec. Users per second: 895\n",
      "Similarity column 38121 (100.0%), 2757.37 column/sec. Elapsed time 13.83 sec\n",
      "EvaluatorHoldout: Ignoring 150 ( 0.4%) Users that have less than 1 test interactions\n",
      "EvaluatorHoldout: Processed 35586 (100.0%) in 39.63 sec. Users per second: 898\n",
      "Similarity column 38121 (100.0%), 2763.87 column/sec. Elapsed time 13.79 sec\n",
      "EvaluatorHoldout: Ignoring 167 ( 0.5%) Users that have less than 1 test interactions\n",
      "EvaluatorHoldout: Processed 35569 (100.0%) in 40.16 sec. Users per second: 886\n",
      "Similarity column 38121 (100.0%), 2787.26 column/sec. Elapsed time 13.68 sec\n",
      "EvaluatorHoldout: Ignoring 172 ( 0.5%) Users that have less than 1 test interactions\n",
      "EvaluatorHoldout: Processed 35564 (100.0%) in 39.48 sec. Users per second: 901\n"
     ]
    },
    {
     "name": "stderr",
     "output_type": "stream",
     "text": [
      "[I 2025-01-06 23:46:16,900] Trial 605 finished with value: 0.2637868755340754 and parameters: {'similarity': 'asymmetric', 'topK': 108, 'shrink': 485, 'feature_weighting': 'TF-IDF', 'asymmetric_alpha': 0.11768827987378536}. Best is trial 570 with value: 0.2659280370505061.\n"
     ]
    },
    {
     "name": "stdout",
     "output_type": "stream",
     "text": [
      "Similarity column 38121 (100.0%), 2756.94 column/sec. Elapsed time 13.83 sec\n",
      "EvaluatorHoldout: Ignoring 173 ( 0.5%) Users that have less than 1 test interactions\n",
      "EvaluatorHoldout: Processed 35563 (100.0%) in 39.72 sec. Users per second: 895\n",
      "Similarity column 38121 (100.0%), 2792.14 column/sec. Elapsed time 13.65 sec\n",
      "EvaluatorHoldout: Ignoring 163 ( 0.5%) Users that have less than 1 test interactions\n",
      "EvaluatorHoldout: Processed 35573 (100.0%) in 39.53 sec. Users per second: 900\n",
      "Similarity column 38121 (100.0%), 2803.08 column/sec. Elapsed time 13.60 sec\n",
      "EvaluatorHoldout: Ignoring 150 ( 0.4%) Users that have less than 1 test interactions\n",
      "EvaluatorHoldout: Processed 35586 (100.0%) in 39.33 sec. Users per second: 905\n",
      "Similarity column 38121 (100.0%), 2754.02 column/sec. Elapsed time 13.84 sec\n",
      "EvaluatorHoldout: Ignoring 167 ( 0.5%) Users that have less than 1 test interactions\n",
      "EvaluatorHoldout: Processed 35569 (100.0%) in 39.30 sec. Users per second: 905\n",
      "Similarity column 38121 (100.0%), 2694.76 column/sec. Elapsed time 14.15 sec\n",
      "EvaluatorHoldout: Ignoring 172 ( 0.5%) Users that have less than 1 test interactions\n",
      "EvaluatorHoldout: Processed 35564 (100.0%) in 39.46 sec. Users per second: 901\n"
     ]
    },
    {
     "name": "stderr",
     "output_type": "stream",
     "text": [
      "[I 2025-01-06 23:50:45,612] Trial 606 finished with value: 0.26396976050801557 and parameters: {'similarity': 'asymmetric', 'topK': 105, 'shrink': 489, 'feature_weighting': 'TF-IDF', 'asymmetric_alpha': 0.11654452683300237}. Best is trial 570 with value: 0.2659280370505061.\n"
     ]
    },
    {
     "name": "stdout",
     "output_type": "stream",
     "text": [
      "Similarity column 38121 (100.0%), 2763.82 column/sec. Elapsed time 13.79 sec\n",
      "EvaluatorHoldout: Ignoring 173 ( 0.5%) Users that have less than 1 test interactions\n",
      "EvaluatorHoldout: Processed 35563 (100.0%) in 38.76 sec. Users per second: 918\n",
      "Similarity column 38121 (100.0%), 2784.50 column/sec. Elapsed time 13.69 sec\n",
      "EvaluatorHoldout: Ignoring 163 ( 0.5%) Users that have less than 1 test interactions\n",
      "EvaluatorHoldout: Processed 35573 (100.0%) in 38.82 sec. Users per second: 916\n",
      "Similarity column 38121 (100.0%), 2785.94 column/sec. Elapsed time 13.68 sec\n",
      "EvaluatorHoldout: Ignoring 150 ( 0.4%) Users that have less than 1 test interactions\n",
      "EvaluatorHoldout: Processed 35586 (100.0%) in 38.79 sec. Users per second: 917\n",
      "Similarity column 38121 (100.0%), 2791.62 column/sec. Elapsed time 13.66 sec\n",
      "EvaluatorHoldout: Ignoring 167 ( 0.5%) Users that have less than 1 test interactions\n",
      "EvaluatorHoldout: Processed 35569 (100.0%) in 38.94 sec. Users per second: 914\n",
      "Similarity column 38121 (100.0%), 2775.79 column/sec. Elapsed time 13.73 sec\n",
      "EvaluatorHoldout: Ignoring 172 ( 0.5%) Users that have less than 1 test interactions\n",
      "EvaluatorHoldout: Processed 35564 (100.0%) in 38.93 sec. Users per second: 913\n"
     ]
    },
    {
     "name": "stderr",
     "output_type": "stream",
     "text": [
      "[I 2025-01-06 23:55:10,612] Trial 607 finished with value: 0.2642816125439075 and parameters: {'similarity': 'asymmetric', 'topK': 98, 'shrink': 492, 'feature_weighting': 'TF-IDF', 'asymmetric_alpha': 0.09121182091120504}. Best is trial 570 with value: 0.2659280370505061.\n"
     ]
    },
    {
     "name": "stdout",
     "output_type": "stream",
     "text": [
      "Similarity column 38121 (100.0%), 2721.35 column/sec. Elapsed time 14.01 sec\n",
      "EvaluatorHoldout: Ignoring 173 ( 0.5%) Users that have less than 1 test interactions\n",
      "EvaluatorHoldout: Processed 35563 (100.0%) in 39.37 sec. Users per second: 903\n",
      "Similarity column 38121 (100.0%), 2801.70 column/sec. Elapsed time 13.61 sec\n",
      "EvaluatorHoldout: Ignoring 163 ( 0.5%) Users that have less than 1 test interactions\n",
      "EvaluatorHoldout: Processed 35573 (100.0%) in 39.17 sec. Users per second: 908\n",
      "Similarity column 38121 (100.0%), 2768.96 column/sec. Elapsed time 13.77 sec\n",
      "EvaluatorHoldout: Ignoring 150 ( 0.4%) Users that have less than 1 test interactions\n",
      "EvaluatorHoldout: Processed 35586 (100.0%) in 39.11 sec. Users per second: 910\n",
      "Similarity column 38121 (100.0%), 2747.32 column/sec. Elapsed time 13.88 sec\n",
      "EvaluatorHoldout: Ignoring 167 ( 0.5%) Users that have less than 1 test interactions\n",
      "EvaluatorHoldout: Processed 35569 (100.0%) in 39.17 sec. Users per second: 908\n",
      "Similarity column 38121 (100.0%), 2801.59 column/sec. Elapsed time 13.61 sec\n",
      "EvaluatorHoldout: Ignoring 172 ( 0.5%) Users that have less than 1 test interactions\n",
      "EvaluatorHoldout: Processed 35564 (100.0%) in 39.09 sec. Users per second: 910\n"
     ]
    },
    {
     "name": "stderr",
     "output_type": "stream",
     "text": [
      "[I 2025-01-06 23:59:37,687] Trial 608 finished with value: 0.2635387107281714 and parameters: {'similarity': 'asymmetric', 'topK': 110, 'shrink': 489, 'feature_weighting': 'TF-IDF', 'asymmetric_alpha': 0.09697887122696655}. Best is trial 570 with value: 0.2659280370505061.\n"
     ]
    },
    {
     "name": "stdout",
     "output_type": "stream",
     "text": [
      "Similarity column 38121 (100.0%), 2774.62 column/sec. Elapsed time 13.74 sec\n",
      "EvaluatorHoldout: Ignoring 173 ( 0.5%) Users that have less than 1 test interactions\n",
      "EvaluatorHoldout: Processed 35563 (100.0%) in 42.59 sec. Users per second: 835\n",
      "Similarity column 38121 (100.0%), 2686.36 column/sec. Elapsed time 14.19 sec\n",
      "EvaluatorHoldout: Ignoring 163 ( 0.5%) Users that have less than 1 test interactions\n",
      "EvaluatorHoldout: Processed 35573 (100.0%) in 40.09 sec. Users per second: 887\n",
      "Similarity column 38121 (100.0%), 2770.76 column/sec. Elapsed time 13.76 sec\n",
      "EvaluatorHoldout: Ignoring 150 ( 0.4%) Users that have less than 1 test interactions\n",
      "EvaluatorHoldout: Processed 35586 (100.0%) in 39.73 sec. Users per second: 896\n",
      "Similarity column 38121 (100.0%), 2788.11 column/sec. Elapsed time 13.67 sec\n",
      "EvaluatorHoldout: Ignoring 167 ( 0.5%) Users that have less than 1 test interactions\n",
      "EvaluatorHoldout: Processed 35569 (100.0%) in 40.07 sec. Users per second: 888\n",
      "Similarity column 38121 (100.0%), 2727.23 column/sec. Elapsed time 13.98 sec\n",
      "EvaluatorHoldout: Ignoring 172 ( 0.5%) Users that have less than 1 test interactions\n",
      "EvaluatorHoldout: Processed 35564 (100.0%) in 39.72 sec. Users per second: 895\n"
     ]
    },
    {
     "name": "stderr",
     "output_type": "stream",
     "text": [
      "[I 2025-01-07 00:04:11,624] Trial 609 finished with value: 0.2639833924213239 and parameters: {'similarity': 'asymmetric', 'topK': 103, 'shrink': 493, 'feature_weighting': 'TF-IDF', 'asymmetric_alpha': 0.09031799142658363}. Best is trial 570 with value: 0.2659280370505061.\n"
     ]
    },
    {
     "name": "stdout",
     "output_type": "stream",
     "text": [
      "Similarity column 38121 (100.0%), 2762.13 column/sec. Elapsed time 13.80 sec\n",
      "EvaluatorHoldout: Ignoring 173 ( 0.5%) Users that have less than 1 test interactions\n",
      "EvaluatorHoldout: Processed 35563 (100.0%) in 39.60 sec. Users per second: 898\n",
      "Similarity column 38121 (100.0%), 2744.11 column/sec. Elapsed time 13.89 sec\n",
      "EvaluatorHoldout: Ignoring 163 ( 0.5%) Users that have less than 1 test interactions\n",
      "EvaluatorHoldout: Processed 35573 (100.0%) in 39.63 sec. Users per second: 898\n",
      "Similarity column 38121 (100.0%), 2666.40 column/sec. Elapsed time 14.30 sec\n",
      "EvaluatorHoldout: Ignoring 150 ( 0.4%) Users that have less than 1 test interactions\n",
      "EvaluatorHoldout: Processed 35586 (100.0%) in 39.98 sec. Users per second: 890\n",
      "Similarity column 38121 (100.0%), 2757.06 column/sec. Elapsed time 13.83 sec\n",
      "EvaluatorHoldout: Ignoring 167 ( 0.5%) Users that have less than 1 test interactions\n",
      "EvaluatorHoldout: Processed 35569 (100.0%) in 39.38 sec. Users per second: 903\n",
      "Similarity column 38121 (100.0%), 2789.17 column/sec. Elapsed time 13.67 sec\n",
      "EvaluatorHoldout: Ignoring 172 ( 0.5%) Users that have less than 1 test interactions\n",
      "EvaluatorHoldout: Processed 35564 (100.0%) in 39.24 sec. Users per second: 906\n"
     ]
    },
    {
     "name": "stderr",
     "output_type": "stream",
     "text": [
      "[I 2025-01-07 00:08:41,273] Trial 610 finished with value: 0.26379301523288945 and parameters: {'similarity': 'asymmetric', 'topK': 103, 'shrink': 499, 'feature_weighting': 'TF-IDF', 'asymmetric_alpha': 0.07325846467926195}. Best is trial 570 with value: 0.2659280370505061.\n"
     ]
    },
    {
     "name": "stdout",
     "output_type": "stream",
     "text": [
      "Similarity column 38121 (100.0%), 2770.48 column/sec. Elapsed time 13.76 sec\n",
      "EvaluatorHoldout: Ignoring 173 ( 0.5%) Users that have less than 1 test interactions\n",
      "EvaluatorHoldout: Processed 35563 (100.0%) in 39.59 sec. Users per second: 898\n",
      "Similarity column 38121 (100.0%), 2793.25 column/sec. Elapsed time 13.65 sec\n",
      "EvaluatorHoldout: Ignoring 163 ( 0.5%) Users that have less than 1 test interactions\n",
      "EvaluatorHoldout: Processed 35573 (100.0%) in 39.30 sec. Users per second: 905\n",
      "Similarity column 38121 (100.0%), 2798.27 column/sec. Elapsed time 13.62 sec\n",
      "EvaluatorHoldout: Ignoring 150 ( 0.4%) Users that have less than 1 test interactions\n",
      "EvaluatorHoldout: Processed 35586 (100.0%) in 39.36 sec. Users per second: 904\n",
      "Similarity column 38121 (100.0%), 2744.78 column/sec. Elapsed time 13.89 sec\n",
      "EvaluatorHoldout: Ignoring 167 ( 0.5%) Users that have less than 1 test interactions\n",
      "EvaluatorHoldout: Processed 35569 (100.0%) in 39.65 sec. Users per second: 897\n",
      "Similarity column 38121 (100.0%), 2791.64 column/sec. Elapsed time 13.66 sec\n",
      "EvaluatorHoldout: Ignoring 172 ( 0.5%) Users that have less than 1 test interactions\n",
      "EvaluatorHoldout: Processed 35564 (100.0%) in 39.26 sec. Users per second: 906\n"
     ]
    },
    {
     "name": "stderr",
     "output_type": "stream",
     "text": [
      "[I 2025-01-07 00:13:09,301] Trial 611 finished with value: 0.26373287229897246 and parameters: {'similarity': 'asymmetric', 'topK': 103, 'shrink': 490, 'feature_weighting': 'TF-IDF', 'asymmetric_alpha': 0.07360873815412396}. Best is trial 570 with value: 0.2659280370505061.\n"
     ]
    },
    {
     "name": "stdout",
     "output_type": "stream",
     "text": [
      "Similarity column 38121 (100.0%), 2801.41 column/sec. Elapsed time 13.61 sec\n",
      "EvaluatorHoldout: Ignoring 173 ( 0.5%) Users that have less than 1 test interactions\n",
      "EvaluatorHoldout: Processed 35563 (100.0%) in 39.25 sec. Users per second: 906\n",
      "Similarity column 38121 (100.0%), 2813.95 column/sec. Elapsed time 13.55 sec\n",
      "EvaluatorHoldout: Ignoring 163 ( 0.5%) Users that have less than 1 test interactions\n",
      "EvaluatorHoldout: Processed 35573 (100.0%) in 38.98 sec. Users per second: 912\n",
      "Similarity column 38121 (100.0%), 2760.15 column/sec. Elapsed time 13.81 sec\n",
      "EvaluatorHoldout: Ignoring 150 ( 0.4%) Users that have less than 1 test interactions\n",
      "EvaluatorHoldout: Processed 35586 (100.0%) in 39.50 sec. Users per second: 901\n",
      "Similarity column 38121 (100.0%), 2771.27 column/sec. Elapsed time 13.76 sec\n",
      "EvaluatorHoldout: Ignoring 167 ( 0.5%) Users that have less than 1 test interactions\n",
      "EvaluatorHoldout: Processed 35569 (100.0%) in 39.25 sec. Users per second: 906\n",
      "Similarity column 38121 (100.0%), 2768.07 column/sec. Elapsed time 13.77 sec\n",
      "EvaluatorHoldout: Ignoring 172 ( 0.5%) Users that have less than 1 test interactions\n",
      "EvaluatorHoldout: Processed 35564 (100.0%) in 39.54 sec. Users per second: 899\n"
     ]
    },
    {
     "name": "stderr",
     "output_type": "stream",
     "text": [
      "[I 2025-01-07 00:17:36,609] Trial 612 finished with value: 0.26382349470057403 and parameters: {'similarity': 'asymmetric', 'topK': 103, 'shrink': 501, 'feature_weighting': 'TF-IDF', 'asymmetric_alpha': 0.07505781012232461}. Best is trial 570 with value: 0.2659280370505061.\n"
     ]
    },
    {
     "name": "stdout",
     "output_type": "stream",
     "text": [
      "Similarity column 38121 (100.0%), 2761.37 column/sec. Elapsed time 13.81 sec\n",
      "EvaluatorHoldout: Ignoring 173 ( 0.5%) Users that have less than 1 test interactions\n",
      "EvaluatorHoldout: Processed 35563 (100.0%) in 39.55 sec. Users per second: 899\n",
      "Similarity column 38121 (100.0%), 2802.37 column/sec. Elapsed time 13.60 sec\n",
      "EvaluatorHoldout: Ignoring 163 ( 0.5%) Users that have less than 1 test interactions\n",
      "EvaluatorHoldout: Processed 35573 (100.0%) in 39.27 sec. Users per second: 906\n",
      "Similarity column 38121 (100.0%), 2806.22 column/sec. Elapsed time 13.58 sec\n",
      "EvaluatorHoldout: Ignoring 150 ( 0.4%) Users that have less than 1 test interactions\n",
      "EvaluatorHoldout: Processed 35586 (100.0%) in 39.22 sec. Users per second: 907\n",
      "Similarity column 38121 (100.0%), 2805.87 column/sec. Elapsed time 13.59 sec\n",
      "EvaluatorHoldout: Ignoring 167 ( 0.5%) Users that have less than 1 test interactions\n",
      "EvaluatorHoldout: Processed 35569 (100.0%) in 39.13 sec. Users per second: 909\n",
      "Similarity column 38121 (100.0%), 2802.73 column/sec. Elapsed time 13.60 sec\n",
      "EvaluatorHoldout: Ignoring 172 ( 0.5%) Users that have less than 1 test interactions\n",
      "EvaluatorHoldout: Processed 35564 (100.0%) in 39.08 sec. Users per second: 910\n"
     ]
    },
    {
     "name": "stderr",
     "output_type": "stream",
     "text": [
      "[I 2025-01-07 00:22:03,285] Trial 613 finished with value: 0.26372607673487714 and parameters: {'similarity': 'asymmetric', 'topK': 104, 'shrink': 494, 'feature_weighting': 'TF-IDF', 'asymmetric_alpha': 0.07050632997309521}. Best is trial 570 with value: 0.2659280370505061.\n"
     ]
    },
    {
     "name": "stdout",
     "output_type": "stream",
     "text": [
      "Similarity column 38121 (100.0%), 2799.75 column/sec. Elapsed time 13.62 sec\n",
      "EvaluatorHoldout: Ignoring 173 ( 0.5%) Users that have less than 1 test interactions\n",
      "EvaluatorHoldout: Processed 35563 (100.0%) in 39.38 sec. Users per second: 903\n",
      "Similarity column 38121 (100.0%), 2789.23 column/sec. Elapsed time 13.67 sec\n",
      "EvaluatorHoldout: Ignoring 163 ( 0.5%) Users that have less than 1 test interactions\n",
      "EvaluatorHoldout: Processed 35573 (100.0%) in 39.29 sec. Users per second: 905\n",
      "Similarity column 38121 (100.0%), 2769.80 column/sec. Elapsed time 13.76 sec\n",
      "EvaluatorHoldout: Ignoring 150 ( 0.4%) Users that have less than 1 test interactions\n",
      "EvaluatorHoldout: Processed 35586 (100.0%) in 38.89 sec. Users per second: 915\n",
      "Similarity column 38121 (100.0%), 2775.52 column/sec. Elapsed time 13.73 sec\n",
      "EvaluatorHoldout: Ignoring 167 ( 0.5%) Users that have less than 1 test interactions\n",
      "EvaluatorHoldout: Processed 35569 (100.0%) in 39.30 sec. Users per second: 905\n",
      "Similarity column 38121 (100.0%), 2804.58 column/sec. Elapsed time 13.59 sec\n",
      "EvaluatorHoldout: Ignoring 172 ( 0.5%) Users that have less than 1 test interactions\n",
      "EvaluatorHoldout: Processed 35564 (100.0%) in 39.02 sec. Users per second: 911\n"
     ]
    },
    {
     "name": "stderr",
     "output_type": "stream",
     "text": [
      "[I 2025-01-07 00:26:29,798] Trial 614 finished with value: 0.2639097113531771 and parameters: {'similarity': 'asymmetric', 'topK': 103, 'shrink': 499, 'feature_weighting': 'TF-IDF', 'asymmetric_alpha': 0.0848717966352823}. Best is trial 570 with value: 0.2659280370505061.\n"
     ]
    },
    {
     "name": "stdout",
     "output_type": "stream",
     "text": [
      "Similarity column 38121 (100.0%), 2791.21 column/sec. Elapsed time 13.66 sec\n",
      "EvaluatorHoldout: Ignoring 173 ( 0.5%) Users that have less than 1 test interactions\n",
      "EvaluatorHoldout: Processed 35563 (100.0%) in 39.29 sec. Users per second: 905\n",
      "Similarity column 38121 (100.0%), 2703.04 column/sec. Elapsed time 14.10 sec\n",
      "EvaluatorHoldout: Ignoring 163 ( 0.5%) Users that have less than 1 test interactions\n",
      "EvaluatorHoldout: Processed 35573 (100.0%) in 40.07 sec. Users per second: 888\n",
      "Similarity column 38121 (100.0%), 2795.17 column/sec. Elapsed time 13.64 sec\n",
      "EvaluatorHoldout: Ignoring 150 ( 0.4%) Users that have less than 1 test interactions\n",
      "EvaluatorHoldout: Processed 35586 (100.0%) in 39.08 sec. Users per second: 911\n",
      "Similarity column 38121 (100.0%), 2762.29 column/sec. Elapsed time 13.80 sec\n",
      "EvaluatorHoldout: Ignoring 167 ( 0.5%) Users that have less than 1 test interactions\n",
      "EvaluatorHoldout: Processed 35569 (100.0%) in 39.50 sec. Users per second: 900\n",
      "Similarity column 38121 (100.0%), 2807.96 column/sec. Elapsed time 13.58 sec\n",
      "EvaluatorHoldout: Ignoring 172 ( 0.5%) Users that have less than 1 test interactions\n",
      "EvaluatorHoldout: Processed 35564 (100.0%) in 38.98 sec. Users per second: 912\n"
     ]
    },
    {
     "name": "stderr",
     "output_type": "stream",
     "text": [
      "[I 2025-01-07 00:30:57,798] Trial 615 finished with value: 0.2638867052152324 and parameters: {'similarity': 'asymmetric', 'topK': 101, 'shrink': 495, 'feature_weighting': 'TF-IDF', 'asymmetric_alpha': 0.07220003513465048}. Best is trial 570 with value: 0.2659280370505061.\n"
     ]
    },
    {
     "name": "stdout",
     "output_type": "stream",
     "text": [
      "Similarity column 38121 (100.0%), 2794.85 column/sec. Elapsed time 13.64 sec\n",
      "EvaluatorHoldout: Ignoring 173 ( 0.5%) Users that have less than 1 test interactions\n",
      "EvaluatorHoldout: Processed 35563 (100.0%) in 38.45 sec. Users per second: 925\n",
      "Similarity column 38121 (100.0%), 2789.32 column/sec. Elapsed time 13.67 sec\n",
      "EvaluatorHoldout: Ignoring 163 ( 0.5%) Users that have less than 1 test interactions\n",
      "EvaluatorHoldout: Processed 35573 (100.0%) in 38.66 sec. Users per second: 920\n",
      "Similarity column 38121 (100.0%), 2816.67 column/sec. Elapsed time 13.53 sec\n",
      "EvaluatorHoldout: Ignoring 150 ( 0.4%) Users that have less than 1 test interactions\n",
      "EvaluatorHoldout: Processed 35586 (100.0%) in 38.77 sec. Users per second: 918\n",
      "Similarity column 38121 (100.0%), 2809.50 column/sec. Elapsed time 13.57 sec\n",
      "EvaluatorHoldout: Ignoring 167 ( 0.5%) Users that have less than 1 test interactions\n",
      "EvaluatorHoldout: Processed 35569 (100.0%) in 38.83 sec. Users per second: 916\n",
      "Similarity column 38121 (100.0%), 2809.58 column/sec. Elapsed time 13.57 sec\n",
      "EvaluatorHoldout: Ignoring 172 ( 0.5%) Users that have less than 1 test interactions\n",
      "EvaluatorHoldout: Processed 35564 (100.0%) in 39.04 sec. Users per second: 911\n"
     ]
    },
    {
     "name": "stderr",
     "output_type": "stream",
     "text": [
      "[I 2025-01-07 00:35:21,732] Trial 616 finished with value: 0.26394582023831636 and parameters: {'similarity': 'asymmetric', 'topK': 99, 'shrink': 497, 'feature_weighting': 'TF-IDF', 'asymmetric_alpha': 0.07061584847065837}. Best is trial 570 with value: 0.2659280370505061.\n"
     ]
    },
    {
     "name": "stdout",
     "output_type": "stream",
     "text": [
      "Similarity column 38121 (100.0%), 2782.04 column/sec. Elapsed time 13.70 sec\n",
      "EvaluatorHoldout: Ignoring 173 ( 0.5%) Users that have less than 1 test interactions\n",
      "EvaluatorHoldout: Processed 35563 (100.0%) in 39.17 sec. Users per second: 908\n",
      "Similarity column 38121 (100.0%), 2772.11 column/sec. Elapsed time 13.75 sec\n",
      "EvaluatorHoldout: Ignoring 163 ( 0.5%) Users that have less than 1 test interactions\n",
      "EvaluatorHoldout: Processed 35573 (100.0%) in 39.76 sec. Users per second: 895\n",
      "Similarity column 38121 (100.0%), 2757.50 column/sec. Elapsed time 13.82 sec\n",
      "EvaluatorHoldout: Ignoring 150 ( 0.4%) Users that have less than 1 test interactions\n",
      "EvaluatorHoldout: Processed 35586 (100.0%) in 39.84 sec. Users per second: 893\n",
      "Similarity column 38121 (100.0%), 2758.50 column/sec. Elapsed time 13.82 sec\n",
      "EvaluatorHoldout: Ignoring 167 ( 0.5%) Users that have less than 1 test interactions\n",
      "EvaluatorHoldout: Processed 35569 (100.0%) in 39.15 sec. Users per second: 909\n",
      "Similarity column 38121 (100.0%), 2795.13 column/sec. Elapsed time 13.64 sec\n",
      "EvaluatorHoldout: Ignoring 172 ( 0.5%) Users that have less than 1 test interactions\n",
      "EvaluatorHoldout: Processed 35564 (100.0%) in 39.11 sec. Users per second: 909\n"
     ]
    },
    {
     "name": "stderr",
     "output_type": "stream",
     "text": [
      "[I 2025-01-07 00:39:49,727] Trial 617 finished with value: 0.2639105899522236 and parameters: {'similarity': 'asymmetric', 'topK': 101, 'shrink': 500, 'feature_weighting': 'TF-IDF', 'asymmetric_alpha': 0.07245149289382755}. Best is trial 570 with value: 0.2659280370505061.\n"
     ]
    },
    {
     "name": "stdout",
     "output_type": "stream",
     "text": [
      "Similarity column 38121 (100.0%), 2756.41 column/sec. Elapsed time 13.83 sec\n",
      "EvaluatorHoldout: Ignoring 173 ( 0.5%) Users that have less than 1 test interactions\n",
      "EvaluatorHoldout: Processed 35563 (100.0%) in 43.14 sec. Users per second: 824\n",
      "Similarity column 38121 (100.0%), 2756.58 column/sec. Elapsed time 13.83 sec\n",
      "EvaluatorHoldout: Ignoring 163 ( 0.5%) Users that have less than 1 test interactions\n",
      "EvaluatorHoldout: Processed 35573 (100.0%) in 43.44 sec. Users per second: 819\n",
      "Similarity column 38121 (100.0%), 2785.31 column/sec. Elapsed time 13.69 sec\n",
      "EvaluatorHoldout: Ignoring 150 ( 0.4%) Users that have less than 1 test interactions\n",
      "EvaluatorHoldout: Processed 35586 (100.0%) in 43.67 sec. Users per second: 815\n",
      "Similarity column 38121 (100.0%), 2767.35 column/sec. Elapsed time 13.78 sec\n",
      "EvaluatorHoldout: Ignoring 167 ( 0.5%) Users that have less than 1 test interactions\n",
      "EvaluatorHoldout: Processed 35569 (100.0%) in 43.86 sec. Users per second: 811\n",
      "Similarity column 38121 (100.0%), 2765.65 column/sec. Elapsed time 13.78 sec\n",
      "EvaluatorHoldout: Ignoring 172 ( 0.5%) Users that have less than 1 test interactions\n",
      "EvaluatorHoldout: Processed 35564 (100.0%) in 43.19 sec. Users per second: 823\n"
     ]
    },
    {
     "name": "stderr",
     "output_type": "stream",
     "text": [
      "[I 2025-01-07 00:44:37,679] Trial 618 finished with value: 0.21426342664078155 and parameters: {'similarity': 'asymmetric', 'topK': 104, 'shrink': 499, 'feature_weighting': 'none', 'asymmetric_alpha': 0.07898846855008108}. Best is trial 570 with value: 0.2659280370505061.\n"
     ]
    },
    {
     "name": "stdout",
     "output_type": "stream",
     "text": [
      "Similarity column 38121 (100.0%), 2781.20 column/sec. Elapsed time 13.71 sec\n",
      "EvaluatorHoldout: Ignoring 173 ( 0.5%) Users that have less than 1 test interactions\n",
      "EvaluatorHoldout: Processed 35563 (100.0%) in 39.08 sec. Users per second: 910\n",
      "Similarity column 38121 (100.0%), 2796.07 column/sec. Elapsed time 13.63 sec\n",
      "EvaluatorHoldout: Ignoring 163 ( 0.5%) Users that have less than 1 test interactions\n",
      "EvaluatorHoldout: Processed 35573 (100.0%) in 38.74 sec. Users per second: 918\n",
      "Similarity column 38121 (100.0%), 2816.53 column/sec. Elapsed time 13.53 sec\n",
      "EvaluatorHoldout: Ignoring 150 ( 0.4%) Users that have less than 1 test interactions\n",
      "EvaluatorHoldout: Processed 35586 (100.0%) in 38.87 sec. Users per second: 915\n",
      "Similarity column 38121 (100.0%), 2793.87 column/sec. Elapsed time 13.64 sec\n",
      "EvaluatorHoldout: Ignoring 167 ( 0.5%) Users that have less than 1 test interactions\n",
      "EvaluatorHoldout: Processed 35569 (100.0%) in 38.75 sec. Users per second: 918\n",
      "Similarity column 38121 (100.0%), 2810.82 column/sec. Elapsed time 13.56 sec\n",
      "EvaluatorHoldout: Ignoring 172 ( 0.5%) Users that have less than 1 test interactions\n",
      "EvaluatorHoldout: Processed 35564 (100.0%) in 38.96 sec. Users per second: 913\n"
     ]
    },
    {
     "name": "stderr",
     "output_type": "stream",
     "text": [
      "[I 2025-01-07 00:49:02,364] Trial 619 finished with value: 0.26372268959547723 and parameters: {'similarity': 'asymmetric', 'topK': 102, 'shrink': 505, 'feature_weighting': 'TF-IDF', 'asymmetric_alpha': 0.06764467038519861}. Best is trial 570 with value: 0.2659280370505061.\n"
     ]
    },
    {
     "name": "stdout",
     "output_type": "stream",
     "text": [
      "Similarity column 38121 (100.0%), 2764.26 column/sec. Elapsed time 13.79 sec\n",
      "EvaluatorHoldout: Ignoring 173 ( 0.5%) Users that have less than 1 test interactions\n",
      "EvaluatorHoldout: Processed 35563 (100.0%) in 38.84 sec. Users per second: 916\n",
      "Similarity column 38121 (100.0%), 2747.17 column/sec. Elapsed time 13.88 sec\n",
      "EvaluatorHoldout: Ignoring 163 ( 0.5%) Users that have less than 1 test interactions\n",
      "EvaluatorHoldout: Processed 35573 (100.0%) in 38.61 sec. Users per second: 921\n",
      "Similarity column 38121 (100.0%), 2805.33 column/sec. Elapsed time 13.59 sec\n",
      "EvaluatorHoldout: Ignoring 150 ( 0.4%) Users that have less than 1 test interactions\n",
      "EvaluatorHoldout: Processed 35586 (100.0%) in 39.16 sec. Users per second: 909\n",
      "Similarity column 38121 (100.0%), 2825.60 column/sec. Elapsed time 13.49 sec\n",
      "EvaluatorHoldout: Ignoring 167 ( 0.5%) Users that have less than 1 test interactions\n",
      "EvaluatorHoldout: Processed 35569 (100.0%) in 38.73 sec. Users per second: 918\n",
      "Similarity column 38121 (100.0%), 2789.39 column/sec. Elapsed time 13.67 sec\n",
      "EvaluatorHoldout: Ignoring 172 ( 0.5%) Users that have less than 1 test interactions\n",
      "EvaluatorHoldout: Processed 35564 (100.0%) in 39.20 sec. Users per second: 907\n"
     ]
    },
    {
     "name": "stderr",
     "output_type": "stream",
     "text": [
      "[I 2025-01-07 00:53:27,546] Trial 620 finished with value: 0.26398787003837293 and parameters: {'similarity': 'asymmetric', 'topK': 100, 'shrink': 509, 'feature_weighting': 'TF-IDF', 'asymmetric_alpha': 0.07206518290033234}. Best is trial 570 with value: 0.2659280370505061.\n"
     ]
    },
    {
     "name": "stdout",
     "output_type": "stream",
     "text": [
      "Similarity column 38121 (100.0%), 2806.07 column/sec. Elapsed time 13.59 sec\n",
      "EvaluatorHoldout: Ignoring 173 ( 0.5%) Users that have less than 1 test interactions\n",
      "EvaluatorHoldout: Processed 35563 (100.0%) in 39.35 sec. Users per second: 904\n",
      "Similarity column 38121 (100.0%), 2740.20 column/sec. Elapsed time 13.91 sec\n",
      "EvaluatorHoldout: Ignoring 163 ( 0.5%) Users that have less than 1 test interactions\n",
      "EvaluatorHoldout: Processed 35573 (100.0%) in 38.83 sec. Users per second: 916\n",
      "Similarity column 38121 (100.0%), 2793.51 column/sec. Elapsed time 13.65 sec\n",
      "EvaluatorHoldout: Ignoring 150 ( 0.4%) Users that have less than 1 test interactions\n",
      "EvaluatorHoldout: Processed 35586 (100.0%) in 38.66 sec. Users per second: 921\n",
      "Similarity column 38121 (100.0%), 2811.12 column/sec. Elapsed time 13.56 sec\n",
      "EvaluatorHoldout: Ignoring 167 ( 0.5%) Users that have less than 1 test interactions\n",
      "EvaluatorHoldout: Processed 35569 (100.0%) in 38.82 sec. Users per second: 916\n",
      "Similarity column 38121 (100.0%), 2789.95 column/sec. Elapsed time 13.66 sec\n",
      "EvaluatorHoldout: Ignoring 172 ( 0.5%) Users that have less than 1 test interactions\n",
      "EvaluatorHoldout: Processed 35564 (100.0%) in 38.75 sec. Users per second: 918\n"
     ]
    },
    {
     "name": "stderr",
     "output_type": "stream",
     "text": [
      "[I 2025-01-07 00:57:52,532] Trial 621 finished with value: 0.2642570257526461 and parameters: {'similarity': 'asymmetric', 'topK': 98, 'shrink': 510, 'feature_weighting': 'TF-IDF', 'asymmetric_alpha': 0.08233754409014347}. Best is trial 570 with value: 0.2659280370505061.\n"
     ]
    },
    {
     "name": "stdout",
     "output_type": "stream",
     "text": [
      "Similarity column 38121 (100.0%), 2777.62 column/sec. Elapsed time 13.72 sec\n",
      "EvaluatorHoldout: Ignoring 173 ( 0.5%) Users that have less than 1 test interactions\n",
      "EvaluatorHoldout: Processed 35563 (100.0%) in 38.76 sec. Users per second: 918\n",
      "Similarity column 38121 (100.0%), 2786.61 column/sec. Elapsed time 13.68 sec\n",
      "EvaluatorHoldout: Ignoring 163 ( 0.5%) Users that have less than 1 test interactions\n",
      "EvaluatorHoldout: Processed 35573 (100.0%) in 38.98 sec. Users per second: 913\n",
      "Similarity column 38121 (100.0%), 2801.43 column/sec. Elapsed time 13.61 sec\n",
      "EvaluatorHoldout: Ignoring 150 ( 0.4%) Users that have less than 1 test interactions\n",
      "EvaluatorHoldout: Processed 35586 (100.0%) in 39.71 sec. Users per second: 896\n",
      "Similarity column 38121 (100.0%), 2789.12 column/sec. Elapsed time 13.67 sec\n",
      "EvaluatorHoldout: Ignoring 167 ( 0.5%) Users that have less than 1 test interactions\n",
      "EvaluatorHoldout: Processed 35569 (100.0%) in 38.86 sec. Users per second: 915\n",
      "Similarity column 38121 (100.0%), 2803.06 column/sec. Elapsed time 13.60 sec\n",
      "EvaluatorHoldout: Ignoring 172 ( 0.5%) Users that have less than 1 test interactions\n",
      "EvaluatorHoldout: Processed 35564 (100.0%) in 38.70 sec. Users per second: 919\n"
     ]
    },
    {
     "name": "stderr",
     "output_type": "stream",
     "text": [
      "[I 2025-01-07 01:02:18,047] Trial 622 finished with value: 0.26414360804180737 and parameters: {'similarity': 'asymmetric', 'topK': 97, 'shrink': 511, 'feature_weighting': 'TF-IDF', 'asymmetric_alpha': 0.07544600847906328}. Best is trial 570 with value: 0.2659280370505061.\n"
     ]
    },
    {
     "name": "stdout",
     "output_type": "stream",
     "text": [
      "Similarity column 38121 (100.0%), 2799.17 column/sec. Elapsed time 13.62 sec\n",
      "EvaluatorHoldout: Ignoring 173 ( 0.5%) Users that have less than 1 test interactions\n",
      "EvaluatorHoldout: Processed 35563 (100.0%) in 39.04 sec. Users per second: 911\n",
      "Similarity column 38121 (100.0%), 2809.63 column/sec. Elapsed time 13.57 sec\n",
      "EvaluatorHoldout: Ignoring 163 ( 0.5%) Users that have less than 1 test interactions\n",
      "EvaluatorHoldout: Processed 35573 (100.0%) in 38.75 sec. Users per second: 918\n",
      "Similarity column 38121 (100.0%), 2826.83 column/sec. Elapsed time 13.49 sec\n",
      "EvaluatorHoldout: Ignoring 150 ( 0.4%) Users that have less than 1 test interactions\n",
      "EvaluatorHoldout: Processed 35586 (100.0%) in 38.57 sec. Users per second: 923\n",
      "Similarity column 38121 (100.0%), 2767.92 column/sec. Elapsed time 13.77 sec\n",
      "EvaluatorHoldout: Ignoring 167 ( 0.5%) Users that have less than 1 test interactions\n",
      "EvaluatorHoldout: Processed 35569 (100.0%) in 38.68 sec. Users per second: 920\n",
      "Similarity column 38121 (100.0%), 2806.46 column/sec. Elapsed time 13.58 sec\n",
      "EvaluatorHoldout: Ignoring 172 ( 0.5%) Users that have less than 1 test interactions\n",
      "EvaluatorHoldout: Processed 35564 (100.0%) in 38.60 sec. Users per second: 921\n"
     ]
    },
    {
     "name": "stderr",
     "output_type": "stream",
     "text": [
      "[I 2025-01-07 01:06:41,931] Trial 623 finished with value: 0.26416882131396235 and parameters: {'similarity': 'asymmetric', 'topK': 97, 'shrink': 513, 'feature_weighting': 'TF-IDF', 'asymmetric_alpha': 0.07719516181560912}. Best is trial 570 with value: 0.2659280370505061.\n"
     ]
    },
    {
     "name": "stdout",
     "output_type": "stream",
     "text": [
      "Similarity column 38121 (100.0%), 2831.48 column/sec. Elapsed time 13.46 sec\n",
      "EvaluatorHoldout: Ignoring 173 ( 0.5%) Users that have less than 1 test interactions\n",
      "EvaluatorHoldout: Processed 35563 (100.0%) in 38.71 sec. Users per second: 919\n",
      "Similarity column 38121 (100.0%), 2794.22 column/sec. Elapsed time 13.64 sec\n",
      "EvaluatorHoldout: Ignoring 163 ( 0.5%) Users that have less than 1 test interactions\n",
      "EvaluatorHoldout: Processed 35573 (100.0%) in 38.69 sec. Users per second: 919\n",
      "Similarity column 38121 (100.0%), 2814.18 column/sec. Elapsed time 13.55 sec\n",
      "EvaluatorHoldout: Ignoring 150 ( 0.4%) Users that have less than 1 test interactions\n",
      "EvaluatorHoldout: Processed 35586 (100.0%) in 38.76 sec. Users per second: 918\n",
      "Similarity column 38121 (100.0%), 2814.30 column/sec. Elapsed time 13.55 sec\n",
      "EvaluatorHoldout: Ignoring 167 ( 0.5%) Users that have less than 1 test interactions\n",
      "EvaluatorHoldout: Processed 35569 (100.0%) in 39.96 sec. Users per second: 890\n",
      "Similarity column 38121 (100.0%), 2600.64 column/sec. Elapsed time 14.66 sec\n",
      "EvaluatorHoldout: Ignoring 172 ( 0.5%) Users that have less than 1 test interactions\n",
      "EvaluatorHoldout: Processed 35564 (100.0%) in 39.16 sec. Users per second: 908\n"
     ]
    },
    {
     "name": "stderr",
     "output_type": "stream",
     "text": [
      "[I 2025-01-07 01:11:08,258] Trial 624 finished with value: 0.2640548158657558 and parameters: {'similarity': 'asymmetric', 'topK': 99, 'shrink': 511, 'feature_weighting': 'TF-IDF', 'asymmetric_alpha': 0.07353931708228784}. Best is trial 570 with value: 0.2659280370505061.\n"
     ]
    },
    {
     "name": "stdout",
     "output_type": "stream",
     "text": [
      "Similarity column 38121 (100.0%), 2793.49 column/sec. Elapsed time 13.65 sec\n",
      "EvaluatorHoldout: Ignoring 173 ( 0.5%) Users that have less than 1 test interactions\n",
      "EvaluatorHoldout: Processed 35563 (100.0%) in 38.98 sec. Users per second: 912\n",
      "Similarity column 38121 (100.0%), 2768.22 column/sec. Elapsed time 13.77 sec\n",
      "EvaluatorHoldout: Ignoring 163 ( 0.5%) Users that have less than 1 test interactions\n",
      "EvaluatorHoldout: Processed 35573 (100.0%) in 38.88 sec. Users per second: 915\n",
      "Similarity column 38121 (100.0%), 2756.24 column/sec. Elapsed time 13.83 sec\n",
      "EvaluatorHoldout: Ignoring 150 ( 0.4%) Users that have less than 1 test interactions\n",
      "EvaluatorHoldout: Processed 35586 (100.0%) in 38.97 sec. Users per second: 913\n",
      "Similarity column 38121 (100.0%), 2775.73 column/sec. Elapsed time 13.73 sec\n",
      "EvaluatorHoldout: Ignoring 167 ( 0.5%) Users that have less than 1 test interactions\n",
      "EvaluatorHoldout: Processed 35569 (100.0%) in 38.67 sec. Users per second: 920\n",
      "Similarity column 38121 (100.0%), 2813.83 column/sec. Elapsed time 13.55 sec\n",
      "EvaluatorHoldout: Ignoring 172 ( 0.5%) Users that have less than 1 test interactions\n",
      "EvaluatorHoldout: Processed 35564 (100.0%) in 38.89 sec. Users per second: 914\n"
     ]
    },
    {
     "name": "stderr",
     "output_type": "stream",
     "text": [
      "[I 2025-01-07 01:15:33,393] Trial 625 finished with value: 0.26406825181173804 and parameters: {'similarity': 'asymmetric', 'topK': 98, 'shrink': 518, 'feature_weighting': 'TF-IDF', 'asymmetric_alpha': 0.07030519605713319}. Best is trial 570 with value: 0.2659280370505061.\n"
     ]
    },
    {
     "name": "stdout",
     "output_type": "stream",
     "text": [
      "Similarity column 38121 (100.0%), 2782.94 column/sec. Elapsed time 13.70 sec\n",
      "EvaluatorHoldout: Ignoring 173 ( 0.5%) Users that have less than 1 test interactions\n",
      "EvaluatorHoldout: Processed 35563 (100.0%) in 39.67 sec. Users per second: 896\n",
      "Similarity column 38121 (100.0%), 2810.81 column/sec. Elapsed time 13.56 sec\n",
      "EvaluatorHoldout: Ignoring 163 ( 0.5%) Users that have less than 1 test interactions\n",
      "EvaluatorHoldout: Processed 35573 (100.0%) in 39.80 sec. Users per second: 894\n",
      "Similarity column 38121 (100.0%), 2785.37 column/sec. Elapsed time 13.69 sec\n",
      "EvaluatorHoldout: Ignoring 150 ( 0.4%) Users that have less than 1 test interactions\n",
      "EvaluatorHoldout: Processed 35586 (100.0%) in 39.76 sec. Users per second: 895\n",
      "Similarity column 38121 (100.0%), 2793.47 column/sec. Elapsed time 13.65 sec\n",
      "EvaluatorHoldout: Ignoring 167 ( 0.5%) Users that have less than 1 test interactions\n",
      "EvaluatorHoldout: Processed 35569 (100.0%) in 39.68 sec. Users per second: 896\n",
      "Similarity column 38121 (100.0%), 2808.76 column/sec. Elapsed time 13.57 sec\n",
      "EvaluatorHoldout: Ignoring 172 ( 0.5%) Users that have less than 1 test interactions\n",
      "EvaluatorHoldout: Processed 35564 (100.0%) in 40.19 sec. Users per second: 885\n"
     ]
    },
    {
     "name": "stderr",
     "output_type": "stream",
     "text": [
      "[I 2025-01-07 01:20:02,938] Trial 626 finished with value: 0.23134517989353637 and parameters: {'similarity': 'asymmetric', 'topK': 96, 'shrink': 549, 'feature_weighting': 'BM25', 'asymmetric_alpha': 0.05907593515766377}. Best is trial 570 with value: 0.2659280370505061.\n"
     ]
    },
    {
     "name": "stdout",
     "output_type": "stream",
     "text": [
      "Similarity column 38121 (100.0%), 2799.23 column/sec. Elapsed time 13.62 sec\n",
      "EvaluatorHoldout: Ignoring 173 ( 0.5%) Users that have less than 1 test interactions\n",
      "EvaluatorHoldout: Processed 35563 (100.0%) in 38.75 sec. Users per second: 918\n",
      "Similarity column 38121 (100.0%), 2770.06 column/sec. Elapsed time 13.76 sec\n",
      "EvaluatorHoldout: Ignoring 163 ( 0.5%) Users that have less than 1 test interactions\n",
      "EvaluatorHoldout: Processed 35573 (100.0%) in 38.94 sec. Users per second: 914\n",
      "Similarity column 38121 (100.0%), 2812.64 column/sec. Elapsed time 13.55 sec\n",
      "EvaluatorHoldout: Ignoring 150 ( 0.4%) Users that have less than 1 test interactions\n",
      "EvaluatorHoldout: Processed 35586 (100.0%) in 38.59 sec. Users per second: 922\n",
      "Similarity column 38121 (100.0%), 2818.98 column/sec. Elapsed time 13.52 sec\n",
      "EvaluatorHoldout: Ignoring 167 ( 0.5%) Users that have less than 1 test interactions\n",
      "EvaluatorHoldout: Processed 35569 (100.0%) in 38.70 sec. Users per second: 919\n",
      "Similarity column 38121 (100.0%), 2803.77 column/sec. Elapsed time 13.60 sec\n",
      "EvaluatorHoldout: Ignoring 172 ( 0.5%) Users that have less than 1 test interactions\n",
      "EvaluatorHoldout: Processed 35564 (100.0%) in 38.72 sec. Users per second: 919\n"
     ]
    },
    {
     "name": "stderr",
     "output_type": "stream",
     "text": [
      "[I 2025-01-07 01:24:26,917] Trial 627 finished with value: 0.2642829405040691 and parameters: {'similarity': 'asymmetric', 'topK': 96, 'shrink': 522, 'feature_weighting': 'TF-IDF', 'asymmetric_alpha': 0.0819449135150204}. Best is trial 570 with value: 0.2659280370505061.\n"
     ]
    },
    {
     "name": "stdout",
     "output_type": "stream",
     "text": [
      "Similarity column 38121 (100.0%), 2813.29 column/sec. Elapsed time 13.55 sec\n",
      "EvaluatorHoldout: Ignoring 173 ( 0.5%) Users that have less than 1 test interactions\n",
      "EvaluatorHoldout: Processed 35563 (100.0%) in 38.71 sec. Users per second: 919\n",
      "Similarity column 38121 (100.0%), 2803.95 column/sec. Elapsed time 13.60 sec\n",
      "EvaluatorHoldout: Ignoring 163 ( 0.5%) Users that have less than 1 test interactions\n",
      "EvaluatorHoldout: Processed 35573 (100.0%) in 38.68 sec. Users per second: 920\n",
      "Similarity column 38121 (100.0%), 2812.32 column/sec. Elapsed time 13.55 sec\n",
      "EvaluatorHoldout: Ignoring 150 ( 0.4%) Users that have less than 1 test interactions\n",
      "EvaluatorHoldout: Processed 35586 (100.0%) in 38.64 sec. Users per second: 921\n",
      "Similarity column 38121 (100.0%), 2732.13 column/sec. Elapsed time 13.95 sec\n",
      "EvaluatorHoldout: Ignoring 167 ( 0.5%) Users that have less than 1 test interactions\n",
      "EvaluatorHoldout: Processed 35569 (100.0%) in 38.63 sec. Users per second: 921\n",
      "Similarity column 38121 (100.0%), 2804.79 column/sec. Elapsed time 13.59 sec\n",
      "EvaluatorHoldout: Ignoring 172 ( 0.5%) Users that have less than 1 test interactions\n",
      "EvaluatorHoldout: Processed 35564 (100.0%) in 38.61 sec. Users per second: 921\n"
     ]
    },
    {
     "name": "stderr",
     "output_type": "stream",
     "text": [
      "[I 2025-01-07 01:28:50,632] Trial 628 finished with value: 0.2644853133278738 and parameters: {'similarity': 'asymmetric', 'topK': 93, 'shrink': 530, 'feature_weighting': 'TF-IDF', 'asymmetric_alpha': 0.0796542045668272}. Best is trial 570 with value: 0.2659280370505061.\n"
     ]
    },
    {
     "name": "stdout",
     "output_type": "stream",
     "text": [
      "Similarity column 38121 (100.0%), 2790.69 column/sec. Elapsed time 13.66 sec\n",
      "EvaluatorHoldout: Ignoring 173 ( 0.5%) Users that have less than 1 test interactions\n",
      "EvaluatorHoldout: Processed 35563 (100.0%) in 38.67 sec. Users per second: 920\n",
      "Similarity column 38121 (100.0%), 2745.34 column/sec. Elapsed time 13.89 sec\n",
      "EvaluatorHoldout: Ignoring 163 ( 0.5%) Users that have less than 1 test interactions\n",
      "EvaluatorHoldout: Processed 35573 (100.0%) in 40.34 sec. Users per second: 882\n",
      "Similarity column 38121 (100.0%), 2776.96 column/sec. Elapsed time 13.73 sec\n",
      "EvaluatorHoldout: Ignoring 150 ( 0.4%) Users that have less than 1 test interactions\n",
      "EvaluatorHoldout: Processed 35586 (100.0%) in 39.14 sec. Users per second: 909\n",
      "Similarity column 38121 (100.0%), 2670.71 column/sec. Elapsed time 14.27 sec\n",
      "EvaluatorHoldout: Ignoring 167 ( 0.5%) Users that have less than 1 test interactions\n",
      "EvaluatorHoldout: Processed 35569 (100.0%) in 39.49 sec. Users per second: 901\n",
      "Similarity column 38121 (100.0%), 2798.32 column/sec. Elapsed time 13.62 sec\n",
      "EvaluatorHoldout: Ignoring 172 ( 0.5%) Users that have less than 1 test interactions\n",
      "EvaluatorHoldout: Processed 35564 (100.0%) in 38.74 sec. Users per second: 918\n"
     ]
    },
    {
     "name": "stderr",
     "output_type": "stream",
     "text": [
      "[I 2025-01-07 01:33:18,424] Trial 629 finished with value: 0.263197025800005 and parameters: {'similarity': 'asymmetric', 'topK': 94, 'shrink': 535, 'feature_weighting': 'TF-IDF', 'asymmetric_alpha': 0.004989015806507915}. Best is trial 570 with value: 0.2659280370505061.\n"
     ]
    },
    {
     "name": "stdout",
     "output_type": "stream",
     "text": [
      "Similarity column 38121 (100.0%), 2793.01 column/sec. Elapsed time 13.65 sec\n",
      "EvaluatorHoldout: Ignoring 173 ( 0.5%) Users that have less than 1 test interactions\n",
      "EvaluatorHoldout: Processed 35563 (100.0%) in 38.73 sec. Users per second: 918\n",
      "Similarity column 38121 (100.0%), 2789.60 column/sec. Elapsed time 13.67 sec\n",
      "EvaluatorHoldout: Ignoring 163 ( 0.5%) Users that have less than 1 test interactions\n",
      "EvaluatorHoldout: Processed 35573 (100.0%) in 38.89 sec. Users per second: 915\n",
      "Similarity column 38121 (100.0%), 2778.17 column/sec. Elapsed time 13.72 sec\n",
      "EvaluatorHoldout: Ignoring 150 ( 0.4%) Users that have less than 1 test interactions\n",
      "EvaluatorHoldout: Processed 35586 (100.0%) in 39.81 sec. Users per second: 894\n",
      "Similarity column 38121 (100.0%), 2746.57 column/sec. Elapsed time 13.88 sec\n",
      "EvaluatorHoldout: Ignoring 167 ( 0.5%) Users that have less than 1 test interactions\n",
      "EvaluatorHoldout: Processed 35569 (100.0%) in 38.98 sec. Users per second: 912\n",
      "Similarity column 38121 (100.0%), 2739.57 column/sec. Elapsed time 13.91 sec\n",
      "EvaluatorHoldout: Ignoring 172 ( 0.5%) Users that have less than 1 test interactions\n",
      "EvaluatorHoldout: Processed 35564 (100.0%) in 39.66 sec. Users per second: 897\n"
     ]
    },
    {
     "name": "stderr",
     "output_type": "stream",
     "text": [
      "[I 2025-01-07 01:37:45,620] Trial 630 finished with value: 0.2645653155860794 and parameters: {'similarity': 'asymmetric', 'topK': 91, 'shrink': 518, 'feature_weighting': 'TF-IDF', 'asymmetric_alpha': 0.08056508011987298}. Best is trial 570 with value: 0.2659280370505061.\n"
     ]
    },
    {
     "name": "stdout",
     "output_type": "stream",
     "text": [
      "Similarity column 38121 (100.0%), 2754.18 column/sec. Elapsed time 13.84 sec\n",
      "EvaluatorHoldout: Ignoring 173 ( 0.5%) Users that have less than 1 test interactions\n",
      "EvaluatorHoldout: Processed 35563 (100.0%) in 39.51 sec. Users per second: 900\n",
      "Similarity column 38121 (100.0%), 2793.89 column/sec. Elapsed time 13.64 sec\n",
      "EvaluatorHoldout: Ignoring 163 ( 0.5%) Users that have less than 1 test interactions\n",
      "EvaluatorHoldout: Processed 35573 (100.0%) in 39.54 sec. Users per second: 900\n",
      "Similarity column 38121 (100.0%), 2765.33 column/sec. Elapsed time 13.79 sec\n",
      "EvaluatorHoldout: Ignoring 150 ( 0.4%) Users that have less than 1 test interactions\n",
      "EvaluatorHoldout: Processed 35586 (100.0%) in 39.39 sec. Users per second: 903\n",
      "Similarity column 38121 (100.0%), 2798.98 column/sec. Elapsed time 13.62 sec\n",
      "EvaluatorHoldout: Ignoring 167 ( 0.5%) Users that have less than 1 test interactions\n",
      "EvaluatorHoldout: Processed 35569 (100.0%) in 39.05 sec. Users per second: 911\n",
      "Similarity column 38121 (100.0%), 2810.37 column/sec. Elapsed time 13.56 sec\n",
      "EvaluatorHoldout: Ignoring 172 ( 0.5%) Users that have less than 1 test interactions\n",
      "EvaluatorHoldout: Processed 35564 (100.0%) in 39.01 sec. Users per second: 912\n"
     ]
    },
    {
     "name": "stderr",
     "output_type": "stream",
     "text": [
      "[I 2025-01-07 01:42:12,842] Trial 631 finished with value: 0.2643449290127764 and parameters: {'similarity': 'asymmetric', 'topK': 95, 'shrink': 521, 'feature_weighting': 'TF-IDF', 'asymmetric_alpha': 0.0873413820930877}. Best is trial 570 with value: 0.2659280370505061.\n"
     ]
    },
    {
     "name": "stdout",
     "output_type": "stream",
     "text": [
      "Similarity column 38121 (100.0%), 2796.48 column/sec. Elapsed time 13.63 sec\n",
      "EvaluatorHoldout: Ignoring 173 ( 0.5%) Users that have less than 1 test interactions\n",
      "EvaluatorHoldout: Processed 35563 (100.0%) in 39.33 sec. Users per second: 904\n",
      "Similarity column 38121 (100.0%), 2793.54 column/sec. Elapsed time 13.65 sec\n",
      "EvaluatorHoldout: Ignoring 163 ( 0.5%) Users that have less than 1 test interactions\n",
      "EvaluatorHoldout: Processed 35573 (100.0%) in 38.69 sec. Users per second: 919\n",
      "Similarity column 38121 (100.0%), 2825.28 column/sec. Elapsed time 13.49 sec\n",
      "EvaluatorHoldout: Ignoring 150 ( 0.4%) Users that have less than 1 test interactions\n",
      "EvaluatorHoldout: Processed 35586 (100.0%) in 38.87 sec. Users per second: 915\n",
      "Similarity column 38121 (100.0%), 2698.10 column/sec. Elapsed time 14.13 sec\n",
      "EvaluatorHoldout: Ignoring 167 ( 0.5%) Users that have less than 1 test interactions\n",
      "EvaluatorHoldout: Processed 35569 (100.0%) in 39.01 sec. Users per second: 912\n",
      "Similarity column 38121 (100.0%), 2787.39 column/sec. Elapsed time 13.68 sec\n",
      "EvaluatorHoldout: Ignoring 172 ( 0.5%) Users that have less than 1 test interactions\n",
      "EvaluatorHoldout: Processed 35564 (100.0%) in 38.58 sec. Users per second: 922\n"
     ]
    },
    {
     "name": "stderr",
     "output_type": "stream",
     "text": [
      "[I 2025-01-07 01:46:38,150] Trial 632 finished with value: 0.2644579272104195 and parameters: {'similarity': 'asymmetric', 'topK': 95, 'shrink': 562, 'feature_weighting': 'TF-IDF', 'asymmetric_alpha': 0.09217084663227182}. Best is trial 570 with value: 0.2659280370505061.\n"
     ]
    },
    {
     "name": "stdout",
     "output_type": "stream",
     "text": [
      "Similarity column 38121 (100.0%), 2817.13 column/sec. Elapsed time 13.53 sec\n",
      "EvaluatorHoldout: Ignoring 173 ( 0.5%) Users that have less than 1 test interactions\n",
      "EvaluatorHoldout: Processed 35563 (100.0%) in 38.68 sec. Users per second: 919\n",
      "Similarity column 38121 (100.0%), 2809.06 column/sec. Elapsed time 13.57 sec\n",
      "EvaluatorHoldout: Ignoring 163 ( 0.5%) Users that have less than 1 test interactions\n",
      "EvaluatorHoldout: Processed 35573 (100.0%) in 38.92 sec. Users per second: 914\n",
      "Similarity column 38121 (100.0%), 2817.42 column/sec. Elapsed time 13.53 sec\n",
      "EvaluatorHoldout: Ignoring 150 ( 0.4%) Users that have less than 1 test interactions\n",
      "EvaluatorHoldout: Processed 35586 (100.0%) in 39.18 sec. Users per second: 908\n",
      "Similarity column 38121 (100.0%), 2798.66 column/sec. Elapsed time 13.62 sec\n",
      "EvaluatorHoldout: Ignoring 167 ( 0.5%) Users that have less than 1 test interactions\n",
      "EvaluatorHoldout: Processed 35569 (100.0%) in 38.87 sec. Users per second: 915\n",
      "Similarity column 38121 (100.0%), 2810.77 column/sec. Elapsed time 13.56 sec\n",
      "EvaluatorHoldout: Ignoring 172 ( 0.5%) Users that have less than 1 test interactions\n",
      "EvaluatorHoldout: Processed 35564 (100.0%) in 38.86 sec. Users per second: 915\n"
     ]
    },
    {
     "name": "stderr",
     "output_type": "stream",
     "text": [
      "[I 2025-01-07 01:51:02,687] Trial 633 finished with value: 0.26460177406864893 and parameters: {'similarity': 'asymmetric', 'topK': 93, 'shrink': 566, 'feature_weighting': 'TF-IDF', 'asymmetric_alpha': 0.10384460805903804}. Best is trial 570 with value: 0.2659280370505061.\n"
     ]
    },
    {
     "name": "stdout",
     "output_type": "stream",
     "text": [
      "Similarity column 38121 (100.0%), 2755.07 column/sec. Elapsed time 13.84 sec\n",
      "EvaluatorHoldout: Ignoring 173 ( 0.5%) Users that have less than 1 test interactions\n",
      "EvaluatorHoldout: Processed 35563 (100.0%) in 38.96 sec. Users per second: 913\n",
      "Similarity column 38121 (100.0%), 2757.43 column/sec. Elapsed time 13.82 sec\n",
      "EvaluatorHoldout: Ignoring 163 ( 0.5%) Users that have less than 1 test interactions\n",
      "EvaluatorHoldout: Processed 35573 (100.0%) in 39.12 sec. Users per second: 909\n",
      "Similarity column 38121 (100.0%), 2688.07 column/sec. Elapsed time 14.18 sec\n",
      "EvaluatorHoldout: Ignoring 150 ( 0.4%) Users that have less than 1 test interactions\n",
      "EvaluatorHoldout: Processed 35586 (100.0%) in 40.79 sec. Users per second: 873\n",
      "Similarity column 38121 (100.0%), 2729.90 column/sec. Elapsed time 13.96 sec\n",
      "EvaluatorHoldout: Ignoring 167 ( 0.5%) Users that have less than 1 test interactions\n",
      "EvaluatorHoldout: Processed 35569 (100.0%) in 39.46 sec. Users per second: 901\n",
      "Similarity column 38121 (100.0%), 2773.80 column/sec. Elapsed time 13.74 sec\n",
      "EvaluatorHoldout: Ignoring 172 ( 0.5%) Users that have less than 1 test interactions\n",
      "EvaluatorHoldout: Processed 35564 (100.0%) in 38.67 sec. Users per second: 920\n"
     ]
    },
    {
     "name": "stderr",
     "output_type": "stream",
     "text": [
      "[I 2025-01-07 01:55:31,467] Trial 634 finished with value: 0.2637900817251415 and parameters: {'similarity': 'asymmetric', 'topK': 90, 'shrink': 574, 'feature_weighting': 'TF-IDF', 'asymmetric_alpha': 0.014206720194985756}. Best is trial 570 with value: 0.2659280370505061.\n"
     ]
    },
    {
     "name": "stdout",
     "output_type": "stream",
     "text": [
      "Similarity column 38121 (100.0%), 2795.35 column/sec. Elapsed time 13.64 sec\n",
      "EvaluatorHoldout: Ignoring 173 ( 0.5%) Users that have less than 1 test interactions\n",
      "EvaluatorHoldout: Processed 35563 (100.0%) in 39.33 sec. Users per second: 904\n",
      "Similarity column 38121 (100.0%), 2832.00 column/sec. Elapsed time 13.46 sec\n",
      "EvaluatorHoldout: Ignoring 163 ( 0.5%) Users that have less than 1 test interactions\n",
      "EvaluatorHoldout: Processed 35573 (100.0%) in 39.34 sec. Users per second: 904\n",
      "Similarity column 38121 (100.0%), 2811.48 column/sec. Elapsed time 13.56 sec\n",
      "EvaluatorHoldout: Ignoring 150 ( 0.4%) Users that have less than 1 test interactions\n",
      "EvaluatorHoldout: Processed 35586 (100.0%) in 39.39 sec. Users per second: 903\n",
      "Similarity column 38121 (100.0%), 2817.69 column/sec. Elapsed time 13.53 sec\n",
      "EvaluatorHoldout: Ignoring 167 ( 0.5%) Users that have less than 1 test interactions\n",
      "EvaluatorHoldout: Processed 35569 (100.0%) in 39.52 sec. Users per second: 900\n",
      "Similarity column 38121 (100.0%), 2819.26 column/sec. Elapsed time 13.52 sec\n",
      "EvaluatorHoldout: Ignoring 172 ( 0.5%) Users that have less than 1 test interactions\n",
      "EvaluatorHoldout: Processed 35564 (100.0%) in 39.27 sec. Users per second: 906\n"
     ]
    },
    {
     "name": "stderr",
     "output_type": "stream",
     "text": [
      "[I 2025-01-07 01:59:58,222] Trial 635 finished with value: 0.26273790776249406 and parameters: {'similarity': 'asymmetric', 'topK': 91, 'shrink': 596, 'feature_weighting': 'TF-IDF', 'asymmetric_alpha': 0.2993041420886476}. Best is trial 570 with value: 0.2659280370505061.\n"
     ]
    },
    {
     "name": "stdout",
     "output_type": "stream",
     "text": [
      "Similarity column 38121 (100.0%), 2713.18 column/sec. Elapsed time 14.05 sec\n",
      "EvaluatorHoldout: Ignoring 173 ( 0.5%) Users that have less than 1 test interactions\n",
      "EvaluatorHoldout: Processed 35563 (100.0%) in 39.79 sec. Users per second: 894\n",
      "Similarity column 38121 (100.0%), 2761.49 column/sec. Elapsed time 13.80 sec\n",
      "EvaluatorHoldout: Ignoring 163 ( 0.5%) Users that have less than 1 test interactions\n",
      "EvaluatorHoldout: Processed 35573 (100.0%) in 38.86 sec. Users per second: 916\n",
      "Similarity column 38121 (100.0%), 2781.47 column/sec. Elapsed time 13.71 sec\n",
      "EvaluatorHoldout: Ignoring 150 ( 0.4%) Users that have less than 1 test interactions\n",
      "EvaluatorHoldout: Processed 35586 (100.0%) in 38.89 sec. Users per second: 915\n",
      "Similarity column 38121 (100.0%), 2814.81 column/sec. Elapsed time 13.54 sec\n",
      "EvaluatorHoldout: Ignoring 167 ( 0.5%) Users that have less than 1 test interactions\n",
      "EvaluatorHoldout: Processed 35569 (100.0%) in 39.02 sec. Users per second: 911\n",
      "Similarity column 38121 (100.0%), 2800.06 column/sec. Elapsed time 13.61 sec\n",
      "EvaluatorHoldout: Ignoring 172 ( 0.5%) Users that have less than 1 test interactions\n",
      "EvaluatorHoldout: Processed 35564 (100.0%) in 38.76 sec. Users per second: 918\n"
     ]
    },
    {
     "name": "stderr",
     "output_type": "stream",
     "text": [
      "[I 2025-01-07 02:04:24,465] Trial 636 finished with value: 0.2646436727530718 and parameters: {'similarity': 'asymmetric', 'topK': 93, 'shrink': 562, 'feature_weighting': 'TF-IDF', 'asymmetric_alpha': 0.10252296812751882}. Best is trial 570 with value: 0.2659280370505061.\n"
     ]
    },
    {
     "name": "stdout",
     "output_type": "stream",
     "text": [
      "Similarity column 38121 (100.0%), 2838.88 column/sec. Elapsed time 13.43 sec\n",
      "EvaluatorHoldout: Ignoring 173 ( 0.5%) Users that have less than 1 test interactions\n",
      "EvaluatorHoldout: Processed 35563 (100.0%) in 38.46 sec. Users per second: 925\n",
      "Similarity column 38121 (100.0%), 2804.34 column/sec. Elapsed time 13.59 sec\n",
      "EvaluatorHoldout: Ignoring 163 ( 0.5%) Users that have less than 1 test interactions\n",
      "EvaluatorHoldout: Processed 35573 (100.0%) in 38.46 sec. Users per second: 925\n",
      "Similarity column 38121 (100.0%), 2809.43 column/sec. Elapsed time 13.57 sec\n",
      "EvaluatorHoldout: Ignoring 150 ( 0.4%) Users that have less than 1 test interactions\n",
      "EvaluatorHoldout: Processed 35586 (100.0%) in 38.42 sec. Users per second: 926\n",
      "Similarity column 38121 (100.0%), 2829.34 column/sec. Elapsed time 13.47 sec\n",
      "EvaluatorHoldout: Ignoring 167 ( 0.5%) Users that have less than 1 test interactions\n",
      "EvaluatorHoldout: Processed 35569 (100.0%) in 38.74 sec. Users per second: 918\n",
      "Similarity column 38121 (100.0%), 2836.76 column/sec. Elapsed time 13.44 sec\n",
      "EvaluatorHoldout: Ignoring 172 ( 0.5%) Users that have less than 1 test interactions\n",
      "EvaluatorHoldout: Processed 35564 (100.0%) in 38.27 sec. Users per second: 929\n"
     ]
    },
    {
     "name": "stderr",
     "output_type": "stream",
     "text": [
      "[I 2025-01-07 02:08:46,514] Trial 637 finished with value: 0.26498112988937056 and parameters: {'similarity': 'asymmetric', 'topK': 89, 'shrink': 568, 'feature_weighting': 'TF-IDF', 'asymmetric_alpha': 0.10351912232551447}. Best is trial 570 with value: 0.2659280370505061.\n"
     ]
    },
    {
     "name": "stdout",
     "output_type": "stream",
     "text": [
      "Similarity column 38121 (100.0%), 2812.50 column/sec. Elapsed time 13.55 sec\n",
      "EvaluatorHoldout: Ignoring 173 ( 0.5%) Users that have less than 1 test interactions\n",
      "EvaluatorHoldout: Processed 35563 (100.0%) in 38.71 sec. Users per second: 919\n",
      "Similarity column 38121 (100.0%), 2834.84 column/sec. Elapsed time 13.45 sec\n",
      "EvaluatorHoldout: Ignoring 163 ( 0.5%) Users that have less than 1 test interactions\n",
      "EvaluatorHoldout: Processed 35573 (100.0%) in 38.59 sec. Users per second: 922\n",
      "Similarity column 38121 (100.0%), 2829.58 column/sec. Elapsed time 13.47 sec\n",
      "EvaluatorHoldout: Ignoring 150 ( 0.4%) Users that have less than 1 test interactions\n",
      "EvaluatorHoldout: Processed 35586 (100.0%) in 38.52 sec. Users per second: 924\n",
      "Similarity column 38121 (100.0%), 2801.49 column/sec. Elapsed time 13.61 sec\n",
      "EvaluatorHoldout: Ignoring 167 ( 0.5%) Users that have less than 1 test interactions\n",
      "EvaluatorHoldout: Processed 35569 (100.0%) in 38.40 sec. Users per second: 926\n",
      "Similarity column 38121 (100.0%), 2818.48 column/sec. Elapsed time 13.53 sec\n",
      "EvaluatorHoldout: Ignoring 172 ( 0.5%) Users that have less than 1 test interactions\n",
      "EvaluatorHoldout: Processed 35564 (100.0%) in 38.72 sec. Users per second: 919\n"
     ]
    },
    {
     "name": "stderr",
     "output_type": "stream",
     "text": [
      "[I 2025-01-07 02:13:09,269] Trial 638 finished with value: 0.2650051986553482 and parameters: {'similarity': 'asymmetric', 'topK': 87, 'shrink': 616, 'feature_weighting': 'TF-IDF', 'asymmetric_alpha': 0.09450829464781385}. Best is trial 570 with value: 0.2659280370505061.\n"
     ]
    },
    {
     "name": "stdout",
     "output_type": "stream",
     "text": [
      "Similarity column 38121 (100.0%), 2812.21 column/sec. Elapsed time 13.56 sec\n",
      "EvaluatorHoldout: Ignoring 173 ( 0.5%) Users that have less than 1 test interactions\n",
      "EvaluatorHoldout: Processed 35563 (100.0%) in 38.51 sec. Users per second: 923\n",
      "Similarity column 38121 (100.0%), 2809.41 column/sec. Elapsed time 13.57 sec\n",
      "EvaluatorHoldout: Ignoring 163 ( 0.5%) Users that have less than 1 test interactions\n",
      "EvaluatorHoldout: Processed 35573 (100.0%) in 38.80 sec. Users per second: 917\n",
      "Similarity column 38121 (100.0%), 2812.16 column/sec. Elapsed time 13.56 sec\n",
      "EvaluatorHoldout: Ignoring 150 ( 0.4%) Users that have less than 1 test interactions\n",
      "EvaluatorHoldout: Processed 35586 (100.0%) in 38.97 sec. Users per second: 913\n",
      "Similarity column 38121 (100.0%), 2786.83 column/sec. Elapsed time 13.68 sec\n",
      "EvaluatorHoldout: Ignoring 167 ( 0.5%) Users that have less than 1 test interactions\n",
      "EvaluatorHoldout: Processed 35569 (100.0%) in 38.77 sec. Users per second: 917\n",
      "Similarity column 38121 (100.0%), 2796.18 column/sec. Elapsed time 13.63 sec\n",
      "EvaluatorHoldout: Ignoring 172 ( 0.5%) Users that have less than 1 test interactions\n",
      "EvaluatorHoldout: Processed 35564 (100.0%) in 38.90 sec. Users per second: 914\n"
     ]
    },
    {
     "name": "stderr",
     "output_type": "stream",
     "text": [
      "[I 2025-01-07 02:17:33,421] Trial 639 finished with value: 0.264928162969596 and parameters: {'similarity': 'asymmetric', 'topK': 89, 'shrink': 595, 'feature_weighting': 'TF-IDF', 'asymmetric_alpha': 0.11531298025797568}. Best is trial 570 with value: 0.2659280370505061.\n"
     ]
    },
    {
     "name": "stdout",
     "output_type": "stream",
     "text": [
      "Similarity column 38121 (100.0%), 2825.63 column/sec. Elapsed time 13.49 sec\n",
      "EvaluatorHoldout: Ignoring 173 ( 0.5%) Users that have less than 1 test interactions\n",
      "EvaluatorHoldout: Processed 35563 (100.0%) in 38.50 sec. Users per second: 924\n",
      "Similarity column 38121 (100.0%), 2787.90 column/sec. Elapsed time 13.67 sec\n",
      "EvaluatorHoldout: Ignoring 163 ( 0.5%) Users that have less than 1 test interactions\n",
      "EvaluatorHoldout: Processed 35573 (100.0%) in 38.33 sec. Users per second: 928\n",
      "Similarity column 38121 (100.0%), 2822.38 column/sec. Elapsed time 13.51 sec\n",
      "EvaluatorHoldout: Ignoring 150 ( 0.4%) Users that have less than 1 test interactions\n",
      "EvaluatorHoldout: Processed 35586 (100.0%) in 38.73 sec. Users per second: 919\n",
      "Similarity column 38121 (100.0%), 2789.06 column/sec. Elapsed time 13.67 sec\n",
      "EvaluatorHoldout: Ignoring 167 ( 0.5%) Users that have less than 1 test interactions\n",
      "EvaluatorHoldout: Processed 35569 (100.0%) in 38.40 sec. Users per second: 926\n",
      "Similarity column 38121 (100.0%), 2792.26 column/sec. Elapsed time 13.65 sec\n",
      "EvaluatorHoldout: Ignoring 172 ( 0.5%) Users that have less than 1 test interactions\n",
      "EvaluatorHoldout: Processed 35564 (100.0%) in 38.54 sec. Users per second: 923\n"
     ]
    },
    {
     "name": "stderr",
     "output_type": "stream",
     "text": [
      "[I 2025-01-07 02:21:56,039] Trial 640 finished with value: 0.26512994818086294 and parameters: {'similarity': 'asymmetric', 'topK': 86, 'shrink': 606, 'feature_weighting': 'TF-IDF', 'asymmetric_alpha': 0.11787878481875211}. Best is trial 570 with value: 0.2659280370505061.\n"
     ]
    },
    {
     "name": "stdout",
     "output_type": "stream",
     "text": [
      "Similarity column 38121 (100.0%), 2783.22 column/sec. Elapsed time 13.70 sec\n",
      "EvaluatorHoldout: Ignoring 173 ( 0.5%) Users that have less than 1 test interactions\n",
      "EvaluatorHoldout: Processed 35563 (100.0%) in 42.57 sec. Users per second: 835\n",
      "Similarity column 38121 (100.0%), 2773.04 column/sec. Elapsed time 13.75 sec\n",
      "EvaluatorHoldout: Ignoring 163 ( 0.5%) Users that have less than 1 test interactions\n",
      "EvaluatorHoldout: Processed 35573 (100.0%) in 42.63 sec. Users per second: 835\n",
      "Similarity column 38121 (100.0%), 2791.06 column/sec. Elapsed time 13.66 sec\n",
      "EvaluatorHoldout: Ignoring 150 ( 0.4%) Users that have less than 1 test interactions\n",
      "EvaluatorHoldout: Processed 35586 (100.0%) in 42.67 sec. Users per second: 834\n",
      "Similarity column 38121 (100.0%), 2766.26 column/sec. Elapsed time 13.78 sec\n",
      "EvaluatorHoldout: Ignoring 167 ( 0.5%) Users that have less than 1 test interactions\n",
      "EvaluatorHoldout: Processed 35569 (100.0%) in 42.73 sec. Users per second: 832\n",
      "Similarity column 38121 (100.0%), 2778.45 column/sec. Elapsed time 13.72 sec\n",
      "EvaluatorHoldout: Ignoring 172 ( 0.5%) Users that have less than 1 test interactions\n",
      "EvaluatorHoldout: Processed 35564 (100.0%) in 42.79 sec. Users per second: 831\n"
     ]
    },
    {
     "name": "stderr",
     "output_type": "stream",
     "text": [
      "[I 2025-01-07 02:26:39,693] Trial 641 finished with value: 0.2131496536424738 and parameters: {'similarity': 'asymmetric', 'topK': 84, 'shrink': 637, 'feature_weighting': 'none', 'asymmetric_alpha': 0.1198354166878365}. Best is trial 570 with value: 0.2659280370505061.\n"
     ]
    },
    {
     "name": "stdout",
     "output_type": "stream",
     "text": [
      "Similarity column 38121 (100.0%), 2814.00 column/sec. Elapsed time 13.55 sec\n",
      "EvaluatorHoldout: Ignoring 173 ( 0.5%) Users that have less than 1 test interactions\n",
      "EvaluatorHoldout: Processed 35563 (100.0%) in 39.44 sec. Users per second: 902\n",
      "Similarity column 38121 (100.0%), 2801.50 column/sec. Elapsed time 13.61 sec\n",
      "EvaluatorHoldout: Ignoring 163 ( 0.5%) Users that have less than 1 test interactions\n",
      "EvaluatorHoldout: Processed 35573 (100.0%) in 39.25 sec. Users per second: 906\n",
      "Similarity column 38121 (100.0%), 2808.33 column/sec. Elapsed time 13.57 sec\n",
      "EvaluatorHoldout: Ignoring 150 ( 0.4%) Users that have less than 1 test interactions\n",
      "EvaluatorHoldout: Processed 35586 (100.0%) in 39.37 sec. Users per second: 904\n",
      "Similarity column 38121 (100.0%), 2797.79 column/sec. Elapsed time 13.63 sec\n",
      "EvaluatorHoldout: Ignoring 167 ( 0.5%) Users that have less than 1 test interactions\n",
      "EvaluatorHoldout: Processed 35569 (100.0%) in 39.82 sec. Users per second: 893\n",
      "Similarity column 38121 (100.0%), 2813.70 column/sec. Elapsed time 13.55 sec\n",
      "EvaluatorHoldout: Ignoring 172 ( 0.5%) Users that have less than 1 test interactions\n",
      "EvaluatorHoldout: Processed 35564 (100.0%) in 41.77 sec. Users per second: 851\n"
     ]
    },
    {
     "name": "stderr",
     "output_type": "stream",
     "text": [
      "[I 2025-01-07 02:31:09,448] Trial 642 finished with value: 0.26315243266542476 and parameters: {'similarity': 'asymmetric', 'topK': 87, 'shrink': 604, 'feature_weighting': 'TF-IDF', 'asymmetric_alpha': 0.28979847194996633}. Best is trial 570 with value: 0.2659280370505061.\n"
     ]
    },
    {
     "name": "stdout",
     "output_type": "stream",
     "text": [
      "Similarity column 38121 (100.0%), 2773.51 column/sec. Elapsed time 13.74 sec\n",
      "EvaluatorHoldout: Ignoring 173 ( 0.5%) Users that have less than 1 test interactions\n",
      "EvaluatorHoldout: Processed 35563 (100.0%) in 38.74 sec. Users per second: 918\n",
      "Similarity column 38121 (100.0%), 2811.21 column/sec. Elapsed time 13.56 sec\n",
      "EvaluatorHoldout: Ignoring 163 ( 0.5%) Users that have less than 1 test interactions\n",
      "EvaluatorHoldout: Processed 35573 (100.0%) in 40.33 sec. Users per second: 882\n",
      "Similarity column 38121 (100.0%), 2715.90 column/sec. Elapsed time 14.04 sec\n",
      "EvaluatorHoldout: Ignoring 150 ( 0.4%) Users that have less than 1 test interactions\n",
      "EvaluatorHoldout: Processed 35586 (100.0%) in 39.44 sec. Users per second: 902\n",
      "Similarity column 38121 (100.0%), 2721.74 column/sec. Elapsed time 14.01 sec\n",
      "EvaluatorHoldout: Ignoring 167 ( 0.5%) Users that have less than 1 test interactions\n",
      "EvaluatorHoldout: Processed 35569 (100.0%) in 39.42 sec. Users per second: 902\n",
      "Similarity column 38121 (100.0%), 2791.17 column/sec. Elapsed time 13.66 sec\n",
      "EvaluatorHoldout: Ignoring 172 ( 0.5%) Users that have less than 1 test interactions\n",
      "EvaluatorHoldout: Processed 35564 (100.0%) in 39.58 sec. Users per second: 899\n"
     ]
    },
    {
     "name": "stderr",
     "output_type": "stream",
     "text": [
      "[I 2025-01-07 02:35:38,227] Trial 643 finished with value: 0.2650945135824006 and parameters: {'similarity': 'asymmetric', 'topK': 86, 'shrink': 617, 'feature_weighting': 'TF-IDF', 'asymmetric_alpha': 0.11869831369355255}. Best is trial 570 with value: 0.2659280370505061.\n"
     ]
    },
    {
     "name": "stdout",
     "output_type": "stream",
     "text": [
      "Similarity column 38121 (100.0%), 2791.22 column/sec. Elapsed time 13.66 sec\n",
      "EvaluatorHoldout: Ignoring 173 ( 0.5%) Users that have less than 1 test interactions\n",
      "EvaluatorHoldout: Processed 35563 (100.0%) in 39.60 sec. Users per second: 898\n",
      "Similarity column 38121 (100.0%), 2770.26 column/sec. Elapsed time 13.76 sec\n",
      "EvaluatorHoldout: Ignoring 163 ( 0.5%) Users that have less than 1 test interactions\n",
      "EvaluatorHoldout: Processed 35573 (100.0%) in 39.47 sec. Users per second: 901\n",
      "Similarity column 38121 (100.0%), 2760.97 column/sec. Elapsed time 13.81 sec\n",
      "EvaluatorHoldout: Ignoring 150 ( 0.4%) Users that have less than 1 test interactions\n",
      "EvaluatorHoldout: Processed 35586 (100.0%) in 39.88 sec. Users per second: 892\n",
      "Similarity column 38121 (100.0%), 2764.08 column/sec. Elapsed time 13.79 sec\n",
      "EvaluatorHoldout: Ignoring 167 ( 0.5%) Users that have less than 1 test interactions\n",
      "EvaluatorHoldout: Processed 35569 (100.0%) in 39.36 sec. Users per second: 904\n",
      "Similarity column 38121 (100.0%), 2770.50 column/sec. Elapsed time 13.76 sec\n",
      "EvaluatorHoldout: Ignoring 172 ( 0.5%) Users that have less than 1 test interactions\n",
      "EvaluatorHoldout: Processed 35564 (100.0%) in 39.16 sec. Users per second: 908\n"
     ]
    },
    {
     "name": "stderr",
     "output_type": "stream",
     "text": [
      "[I 2025-01-07 02:40:06,669] Trial 644 finished with value: 0.26516780808646373 and parameters: {'similarity': 'asymmetric', 'topK': 85, 'shrink': 653, 'feature_weighting': 'TF-IDF', 'asymmetric_alpha': 0.12468677737630246}. Best is trial 570 with value: 0.2659280370505061.\n"
     ]
    },
    {
     "name": "stdout",
     "output_type": "stream",
     "text": [
      "Similarity column 38121 (100.0%), 2812.26 column/sec. Elapsed time 13.56 sec\n",
      "EvaluatorHoldout: Ignoring 173 ( 0.5%) Users that have less than 1 test interactions\n",
      "EvaluatorHoldout: Processed 35563 (100.0%) in 38.96 sec. Users per second: 913\n",
      "Similarity column 38121 (100.0%), 2784.15 column/sec. Elapsed time 13.69 sec\n",
      "EvaluatorHoldout: Ignoring 163 ( 0.5%) Users that have less than 1 test interactions\n",
      "EvaluatorHoldout: Processed 35573 (100.0%) in 39.41 sec. Users per second: 903\n",
      "Similarity column 38121 (100.0%), 2782.41 column/sec. Elapsed time 13.70 sec\n",
      "EvaluatorHoldout: Ignoring 150 ( 0.4%) Users that have less than 1 test interactions\n",
      "EvaluatorHoldout: Processed 35586 (100.0%) in 38.90 sec. Users per second: 915\n",
      "Similarity column 38121 (100.0%), 2797.60 column/sec. Elapsed time 13.63 sec\n",
      "EvaluatorHoldout: Ignoring 167 ( 0.5%) Users that have less than 1 test interactions\n",
      "EvaluatorHoldout: Processed 35569 (100.0%) in 39.29 sec. Users per second: 905\n",
      "Similarity column 38121 (100.0%), 2806.00 column/sec. Elapsed time 13.59 sec\n",
      "EvaluatorHoldout: Ignoring 172 ( 0.5%) Users that have less than 1 test interactions\n",
      "EvaluatorHoldout: Processed 35564 (100.0%) in 39.03 sec. Users per second: 911\n"
     ]
    },
    {
     "name": "stderr",
     "output_type": "stream",
     "text": [
      "[I 2025-01-07 02:44:32,670] Trial 645 finished with value: 0.2650096811097403 and parameters: {'similarity': 'asymmetric', 'topK': 88, 'shrink': 622, 'feature_weighting': 'TF-IDF', 'asymmetric_alpha': 0.12339410419303629}. Best is trial 570 with value: 0.2659280370505061.\n"
     ]
    },
    {
     "name": "stdout",
     "output_type": "stream",
     "text": [
      "Similarity column 38121 (100.0%), 2801.91 column/sec. Elapsed time 13.61 sec\n",
      "EvaluatorHoldout: Ignoring 173 ( 0.5%) Users that have less than 1 test interactions\n",
      "EvaluatorHoldout: Processed 35563 (100.0%) in 38.99 sec. Users per second: 912\n",
      "Similarity column 38121 (100.0%), 2776.19 column/sec. Elapsed time 13.73 sec\n",
      "EvaluatorHoldout: Ignoring 163 ( 0.5%) Users that have less than 1 test interactions\n",
      "EvaluatorHoldout: Processed 35573 (100.0%) in 38.81 sec. Users per second: 917\n",
      "Similarity column 38121 (100.0%), 2813.02 column/sec. Elapsed time 13.55 sec\n",
      "EvaluatorHoldout: Ignoring 150 ( 0.4%) Users that have less than 1 test interactions\n",
      "EvaluatorHoldout: Processed 35586 (100.0%) in 39.05 sec. Users per second: 911\n",
      "Similarity column 38121 (100.0%), 2773.51 column/sec. Elapsed time 13.74 sec\n",
      "EvaluatorHoldout: Ignoring 167 ( 0.5%) Users that have less than 1 test interactions\n",
      "EvaluatorHoldout: Processed 35569 (100.0%) in 38.43 sec. Users per second: 926\n",
      "Similarity column 38121 (100.0%), 2731.97 column/sec. Elapsed time 13.95 sec\n",
      "EvaluatorHoldout: Ignoring 172 ( 0.5%) Users that have less than 1 test interactions\n",
      "EvaluatorHoldout: Processed 35564 (100.0%) in 39.29 sec. Users per second: 905\n"
     ]
    },
    {
     "name": "stderr",
     "output_type": "stream",
     "text": [
      "[I 2025-01-07 02:48:57,968] Trial 646 finished with value: 0.2643246812905414 and parameters: {'similarity': 'asymmetric', 'topK': 79, 'shrink': 650, 'feature_weighting': 'TF-IDF', 'asymmetric_alpha': 0.0034175849354089877}. Best is trial 570 with value: 0.2659280370505061.\n"
     ]
    },
    {
     "name": "stdout",
     "output_type": "stream",
     "text": [
      "Similarity column 38121 (100.0%), 2764.81 column/sec. Elapsed time 13.79 sec\n",
      "EvaluatorHoldout: Ignoring 173 ( 0.5%) Users that have less than 1 test interactions\n",
      "EvaluatorHoldout: Processed 35563 (100.0%) in 39.56 sec. Users per second: 899\n",
      "Similarity column 38121 (100.0%), 2706.47 column/sec. Elapsed time 14.09 sec\n",
      "EvaluatorHoldout: Ignoring 163 ( 0.5%) Users that have less than 1 test interactions\n",
      "EvaluatorHoldout: Processed 35573 (100.0%) in 39.08 sec. Users per second: 910\n",
      "Similarity column 38121 (100.0%), 2794.52 column/sec. Elapsed time 13.64 sec\n",
      "EvaluatorHoldout: Ignoring 150 ( 0.4%) Users that have less than 1 test interactions\n",
      "EvaluatorHoldout: Processed 35586 (100.0%) in 39.24 sec. Users per second: 907\n",
      "Similarity column 38121 (100.0%), 2790.20 column/sec. Elapsed time 13.66 sec\n",
      "EvaluatorHoldout: Ignoring 167 ( 0.5%) Users that have less than 1 test interactions\n",
      "EvaluatorHoldout: Processed 35569 (100.0%) in 38.96 sec. Users per second: 913\n",
      "Similarity column 38121 (100.0%), 2794.98 column/sec. Elapsed time 13.64 sec\n",
      "EvaluatorHoldout: Ignoring 172 ( 0.5%) Users that have less than 1 test interactions\n",
      "EvaluatorHoldout: Processed 35564 (100.0%) in 39.10 sec. Users per second: 909\n"
     ]
    },
    {
     "name": "stderr",
     "output_type": "stream",
     "text": [
      "[I 2025-01-07 02:53:24,909] Trial 647 finished with value: 0.26404585120260565 and parameters: {'similarity': 'asymmetric', 'topK': 87, 'shrink': 649, 'feature_weighting': 'TF-IDF', 'asymmetric_alpha': 0.01001038990694593}. Best is trial 570 with value: 0.2659280370505061.\n"
     ]
    },
    {
     "name": "stdout",
     "output_type": "stream",
     "text": [
      "Similarity column 38121 (100.0%), 2812.22 column/sec. Elapsed time 13.56 sec\n",
      "EvaluatorHoldout: Ignoring 173 ( 0.5%) Users that have less than 1 test interactions\n",
      "EvaluatorHoldout: Processed 35563 (100.0%) in 39.94 sec. Users per second: 890\n",
      "Similarity column 38121 (100.0%), 2795.11 column/sec. Elapsed time 13.64 sec\n",
      "EvaluatorHoldout: Ignoring 163 ( 0.5%) Users that have less than 1 test interactions\n",
      "EvaluatorHoldout: Processed 35573 (100.0%) in 40.22 sec. Users per second: 885\n",
      "Similarity column 38121 (100.0%), 2796.38 column/sec. Elapsed time 13.63 sec\n",
      "EvaluatorHoldout: Ignoring 150 ( 0.4%) Users that have less than 1 test interactions\n",
      "EvaluatorHoldout: Processed 35586 (100.0%) in 40.23 sec. Users per second: 884\n",
      "Similarity column 38121 (100.0%), 2783.57 column/sec. Elapsed time 13.70 sec\n",
      "EvaluatorHoldout: Ignoring 167 ( 0.5%) Users that have less than 1 test interactions\n",
      "EvaluatorHoldout: Processed 35569 (100.0%) in 40.60 sec. Users per second: 876\n",
      "Similarity column 38121 (100.0%), 2781.00 column/sec. Elapsed time 13.71 sec\n",
      "EvaluatorHoldout: Ignoring 172 ( 0.5%) Users that have less than 1 test interactions\n",
      "EvaluatorHoldout: Processed 35564 (100.0%) in 40.17 sec. Users per second: 885\n"
     ]
    },
    {
     "name": "stderr",
     "output_type": "stream",
     "text": [
      "[I 2025-01-07 02:57:56,550] Trial 648 finished with value: 0.23181199040984515 and parameters: {'similarity': 'asymmetric', 'topK': 84, 'shrink': 611, 'feature_weighting': 'BM25', 'asymmetric_alpha': 0.27011286620857905}. Best is trial 570 with value: 0.2659280370505061.\n"
     ]
    },
    {
     "name": "stdout",
     "output_type": "stream",
     "text": [
      "Similarity column 38121 (100.0%), 2815.62 column/sec. Elapsed time 13.54 sec\n",
      "EvaluatorHoldout: Ignoring 173 ( 0.5%) Users that have less than 1 test interactions\n",
      "EvaluatorHoldout: Processed 35563 (100.0%) in 38.63 sec. Users per second: 921\n",
      "Similarity column 38121 (100.0%), 2787.42 column/sec. Elapsed time 13.68 sec\n",
      "EvaluatorHoldout: Ignoring 163 ( 0.5%) Users that have less than 1 test interactions\n",
      "EvaluatorHoldout: Processed 35573 (100.0%) in 39.22 sec. Users per second: 907\n",
      "Similarity column 38121 (100.0%), 2801.76 column/sec. Elapsed time 13.61 sec\n",
      "EvaluatorHoldout: Ignoring 150 ( 0.4%) Users that have less than 1 test interactions\n",
      "EvaluatorHoldout: Processed 35586 (100.0%) in 40.40 sec. Users per second: 881\n",
      "Similarity column 38121 (100.0%), 2756.04 column/sec. Elapsed time 13.83 sec\n",
      "EvaluatorHoldout: Ignoring 167 ( 0.5%) Users that have less than 1 test interactions\n",
      "EvaluatorHoldout: Processed 35569 (100.0%) in 42.69 sec. Users per second: 833\n",
      "Similarity column 38121 (100.0%), 2537.54 column/sec. Elapsed time 15.02 sec\n",
      "EvaluatorHoldout: Ignoring 172 ( 0.5%) Users that have less than 1 test interactions\n",
      "EvaluatorHoldout: Processed 35564 (100.0%) in 41.27 sec. Users per second: 862\n"
     ]
    },
    {
     "name": "stderr",
     "output_type": "stream",
     "text": [
      "[I 2025-01-07 03:02:30,673] Trial 649 finished with value: 0.26512094553811955 and parameters: {'similarity': 'asymmetric', 'topK': 85, 'shrink': 666, 'feature_weighting': 'TF-IDF', 'asymmetric_alpha': 0.13066739254611628}. Best is trial 570 with value: 0.2659280370505061.\n"
     ]
    },
    {
     "name": "stdout",
     "output_type": "stream",
     "text": [
      "Similarity column 38121 (100.0%), 2718.27 column/sec. Elapsed time 14.02 sec\n",
      "EvaluatorHoldout: Ignoring 173 ( 0.5%) Users that have less than 1 test interactions\n",
      "EvaluatorHoldout: Processed 35563 (100.0%) in 42.62 sec. Users per second: 835\n",
      "Similarity column 38121 (100.0%), 2723.99 column/sec. Elapsed time 13.99 sec\n",
      "EvaluatorHoldout: Ignoring 163 ( 0.5%) Users that have less than 1 test interactions\n",
      "EvaluatorHoldout: Processed 35573 (100.0%) in 39.29 sec. Users per second: 905\n",
      "Similarity column 38121 (100.0%), 2791.89 column/sec. Elapsed time 13.65 sec\n",
      "EvaluatorHoldout: Ignoring 150 ( 0.4%) Users that have less than 1 test interactions\n",
      "EvaluatorHoldout: Processed 35586 (100.0%) in 38.95 sec. Users per second: 914\n",
      "Similarity column 38121 (100.0%), 2726.42 column/sec. Elapsed time 13.98 sec\n",
      "EvaluatorHoldout: Ignoring 167 ( 0.5%) Users that have less than 1 test interactions\n",
      "EvaluatorHoldout: Processed 35569 (100.0%) in 39.37 sec. Users per second: 903\n",
      "Similarity column 38121 (100.0%), 2808.03 column/sec. Elapsed time 13.58 sec\n",
      "EvaluatorHoldout: Ignoring 172 ( 0.5%) Users that have less than 1 test interactions\n",
      "EvaluatorHoldout: Processed 35564 (100.0%) in 38.98 sec. Users per second: 912\n"
     ]
    },
    {
     "name": "stderr",
     "output_type": "stream",
     "text": [
      "[I 2025-01-07 03:07:01,542] Trial 650 finished with value: 0.26530992119340013 and parameters: {'similarity': 'asymmetric', 'topK': 82, 'shrink': 661, 'feature_weighting': 'TF-IDF', 'asymmetric_alpha': 0.12695381522016383}. Best is trial 570 with value: 0.2659280370505061.\n"
     ]
    },
    {
     "name": "stdout",
     "output_type": "stream",
     "text": [
      "Similarity column 38121 (100.0%), 2790.42 column/sec. Elapsed time 13.66 sec\n",
      "EvaluatorHoldout: Ignoring 173 ( 0.5%) Users that have less than 1 test interactions\n",
      "EvaluatorHoldout: Processed 35563 (100.0%) in 39.22 sec. Users per second: 907\n",
      "Similarity column 38121 (100.0%), 2795.35 column/sec. Elapsed time 13.64 sec\n",
      "EvaluatorHoldout: Ignoring 163 ( 0.5%) Users that have less than 1 test interactions\n",
      "EvaluatorHoldout: Processed 35573 (100.0%) in 39.20 sec. Users per second: 907\n",
      "Similarity column 38121 (100.0%), 2812.87 column/sec. Elapsed time 13.55 sec\n",
      "EvaluatorHoldout: Ignoring 150 ( 0.4%) Users that have less than 1 test interactions\n",
      "EvaluatorHoldout: Processed 35586 (100.0%) in 38.93 sec. Users per second: 914\n",
      "Similarity column 38121 (100.0%), 2800.18 column/sec. Elapsed time 13.61 sec\n",
      "EvaluatorHoldout: Ignoring 167 ( 0.5%) Users that have less than 1 test interactions\n",
      "EvaluatorHoldout: Processed 35569 (100.0%) in 38.56 sec. Users per second: 922\n",
      "Similarity column 38121 (100.0%), 2820.11 column/sec. Elapsed time 13.52 sec\n",
      "EvaluatorHoldout: Ignoring 172 ( 0.5%) Users that have less than 1 test interactions\n",
      "EvaluatorHoldout: Processed 35564 (100.0%) in 38.81 sec. Users per second: 916\n"
     ]
    },
    {
     "name": "stderr",
     "output_type": "stream",
     "text": [
      "[I 2025-01-07 03:11:26,382] Trial 651 finished with value: 0.2651982202154859 and parameters: {'similarity': 'asymmetric', 'topK': 83, 'shrink': 664, 'feature_weighting': 'TF-IDF', 'asymmetric_alpha': 0.1333854269471308}. Best is trial 570 with value: 0.2659280370505061.\n"
     ]
    },
    {
     "name": "stdout",
     "output_type": "stream",
     "text": [
      "Similarity column 38121 (100.0%), 2811.56 column/sec. Elapsed time 13.56 sec\n",
      "EvaluatorHoldout: Ignoring 173 ( 0.5%) Users that have less than 1 test interactions\n",
      "EvaluatorHoldout: Processed 35563 (100.0%) in 38.40 sec. Users per second: 926\n",
      "Similarity column 38121 (100.0%), 2801.79 column/sec. Elapsed time 13.61 sec\n",
      "EvaluatorHoldout: Ignoring 163 ( 0.5%) Users that have less than 1 test interactions\n",
      "EvaluatorHoldout: Processed 35573 (100.0%) in 38.87 sec. Users per second: 915\n",
      "Similarity column 38121 (100.0%), 2801.14 column/sec. Elapsed time 13.61 sec\n",
      "EvaluatorHoldout: Ignoring 150 ( 0.4%) Users that have less than 1 test interactions\n",
      "EvaluatorHoldout: Processed 35586 (100.0%) in 38.94 sec. Users per second: 914\n",
      "Similarity column 38121 (100.0%), 2806.11 column/sec. Elapsed time 13.59 sec\n",
      "EvaluatorHoldout: Ignoring 167 ( 0.5%) Users that have less than 1 test interactions\n",
      "EvaluatorHoldout: Processed 35569 (100.0%) in 38.61 sec. Users per second: 921\n",
      "Similarity column 38121 (100.0%), 2752.00 column/sec. Elapsed time 13.85 sec\n",
      "EvaluatorHoldout: Ignoring 172 ( 0.5%) Users that have less than 1 test interactions\n",
      "EvaluatorHoldout: Processed 35564 (100.0%) in 38.85 sec. Users per second: 915\n"
     ]
    },
    {
     "name": "stderr",
     "output_type": "stream",
     "text": [
      "[I 2025-01-07 03:15:50,395] Trial 652 finished with value: 0.26508435699157273 and parameters: {'similarity': 'asymmetric', 'topK': 86, 'shrink': 669, 'feature_weighting': 'TF-IDF', 'asymmetric_alpha': 0.1278196994824699}. Best is trial 570 with value: 0.2659280370505061.\n"
     ]
    },
    {
     "name": "stdout",
     "output_type": "stream",
     "text": [
      "Similarity column 38121 (100.0%), 2822.58 column/sec. Elapsed time 13.51 sec\n",
      "EvaluatorHoldout: Ignoring 173 ( 0.5%) Users that have less than 1 test interactions\n",
      "EvaluatorHoldout: Processed 35563 (100.0%) in 38.34 sec. Users per second: 928\n",
      "Similarity column 38121 (100.0%), 2805.53 column/sec. Elapsed time 13.59 sec\n",
      "EvaluatorHoldout: Ignoring 163 ( 0.5%) Users that have less than 1 test interactions\n",
      "EvaluatorHoldout: Processed 35573 (100.0%) in 38.73 sec. Users per second: 919\n",
      "Similarity column 38121 (100.0%), 2792.89 column/sec. Elapsed time 13.65 sec\n",
      "EvaluatorHoldout: Ignoring 150 ( 0.4%) Users that have less than 1 test interactions\n",
      "EvaluatorHoldout: Processed 35586 (100.0%) in 38.50 sec. Users per second: 924\n",
      "Similarity column 38121 (100.0%), 2790.52 column/sec. Elapsed time 13.66 sec\n",
      "EvaluatorHoldout: Ignoring 167 ( 0.5%) Users that have less than 1 test interactions\n",
      "EvaluatorHoldout: Processed 35569 (100.0%) in 38.98 sec. Users per second: 913\n",
      "Similarity column 38121 (100.0%), 2798.68 column/sec. Elapsed time 13.62 sec\n",
      "EvaluatorHoldout: Ignoring 172 ( 0.5%) Users that have less than 1 test interactions\n",
      "EvaluatorHoldout: Processed 35564 (100.0%) in 38.69 sec. Users per second: 919\n"
     ]
    },
    {
     "name": "stderr",
     "output_type": "stream",
     "text": [
      "[I 2025-01-07 03:20:13,821] Trial 653 finished with value: 0.2653095770685333 and parameters: {'similarity': 'asymmetric', 'topK': 82, 'shrink': 666, 'feature_weighting': 'TF-IDF', 'asymmetric_alpha': 0.1259661851757078}. Best is trial 570 with value: 0.2659280370505061.\n"
     ]
    },
    {
     "name": "stdout",
     "output_type": "stream",
     "text": [
      "Similarity column 38121 (100.0%), 2788.89 column/sec. Elapsed time 13.67 sec\n",
      "EvaluatorHoldout: Ignoring 173 ( 0.5%) Users that have less than 1 test interactions\n",
      "EvaluatorHoldout: Processed 35563 (100.0%) in 38.62 sec. Users per second: 921\n",
      "Similarity column 38121 (100.0%), 2819.81 column/sec. Elapsed time 13.52 sec\n",
      "EvaluatorHoldout: Ignoring 163 ( 0.5%) Users that have less than 1 test interactions\n",
      "EvaluatorHoldout: Processed 35573 (100.0%) in 38.65 sec. Users per second: 920\n",
      "Similarity column 38121 (100.0%), 2844.55 column/sec. Elapsed time 13.40 sec\n",
      "EvaluatorHoldout: Ignoring 150 ( 0.4%) Users that have less than 1 test interactions\n",
      "EvaluatorHoldout: Processed 35586 (100.0%) in 38.49 sec. Users per second: 925\n",
      "Similarity column 38121 (100.0%), 2813.75 column/sec. Elapsed time 13.55 sec\n",
      "EvaluatorHoldout: Ignoring 167 ( 0.5%) Users that have less than 1 test interactions\n",
      "EvaluatorHoldout: Processed 35569 (100.0%) in 38.58 sec. Users per second: 922\n",
      "Similarity column 38121 (100.0%), 2833.48 column/sec. Elapsed time 13.45 sec\n",
      "EvaluatorHoldout: Ignoring 172 ( 0.5%) Users that have less than 1 test interactions\n",
      "EvaluatorHoldout: Processed 35564 (100.0%) in 38.81 sec. Users per second: 916\n"
     ]
    },
    {
     "name": "stderr",
     "output_type": "stream",
     "text": [
      "[I 2025-01-07 03:24:36,648] Trial 654 finished with value: 0.2652603284612044 and parameters: {'similarity': 'asymmetric', 'topK': 83, 'shrink': 660, 'feature_weighting': 'TF-IDF', 'asymmetric_alpha': 0.12291734243045582}. Best is trial 570 with value: 0.2659280370505061.\n"
     ]
    },
    {
     "name": "stdout",
     "output_type": "stream",
     "text": [
      "Similarity column 38121 (100.0%), 2810.65 column/sec. Elapsed time 13.56 sec\n",
      "EvaluatorHoldout: Ignoring 173 ( 0.5%) Users that have less than 1 test interactions\n",
      "EvaluatorHoldout: Processed 35563 (100.0%) in 38.48 sec. Users per second: 924\n",
      "Similarity column 38121 (100.0%), 2818.50 column/sec. Elapsed time 13.53 sec\n",
      "EvaluatorHoldout: Ignoring 163 ( 0.5%) Users that have less than 1 test interactions\n",
      "EvaluatorHoldout: Processed 35573 (100.0%) in 38.45 sec. Users per second: 925\n",
      "Similarity column 38121 (100.0%), 2835.74 column/sec. Elapsed time 13.44 sec\n",
      "EvaluatorHoldout: Ignoring 150 ( 0.4%) Users that have less than 1 test interactions\n",
      "EvaluatorHoldout: Processed 35586 (100.0%) in 38.57 sec. Users per second: 923\n",
      "Similarity column 38121 (100.0%), 2824.45 column/sec. Elapsed time 13.50 sec\n",
      "EvaluatorHoldout: Ignoring 167 ( 0.5%) Users that have less than 1 test interactions\n",
      "EvaluatorHoldout: Processed 35569 (100.0%) in 38.21 sec. Users per second: 931\n",
      "Similarity column 38121 (100.0%), 2813.14 column/sec. Elapsed time 13.55 sec\n",
      "EvaluatorHoldout: Ignoring 172 ( 0.5%) Users that have less than 1 test interactions\n",
      "EvaluatorHoldout: Processed 35564 (100.0%) in 38.78 sec. Users per second: 917\n"
     ]
    },
    {
     "name": "stderr",
     "output_type": "stream",
     "text": [
      "[I 2025-01-07 03:28:58,841] Trial 655 finished with value: 0.26522044287413726 and parameters: {'similarity': 'asymmetric', 'topK': 83, 'shrink': 674, 'feature_weighting': 'TF-IDF', 'asymmetric_alpha': 0.12869208576092458}. Best is trial 570 with value: 0.2659280370505061.\n"
     ]
    },
    {
     "name": "stdout",
     "output_type": "stream",
     "text": [
      "Similarity column 38121 (100.0%), 2828.16 column/sec. Elapsed time 13.48 sec\n",
      "EvaluatorHoldout: Ignoring 173 ( 0.5%) Users that have less than 1 test interactions\n",
      "EvaluatorHoldout: Processed 35563 (100.0%) in 38.36 sec. Users per second: 927\n",
      "Similarity column 38121 (100.0%), 2769.33 column/sec. Elapsed time 13.77 sec\n",
      "EvaluatorHoldout: Ignoring 163 ( 0.5%) Users that have less than 1 test interactions\n",
      "EvaluatorHoldout: Processed 35573 (100.0%) in 38.44 sec. Users per second: 925\n",
      "Similarity column 38121 (100.0%), 2820.41 column/sec. Elapsed time 13.52 sec\n",
      "EvaluatorHoldout: Ignoring 150 ( 0.4%) Users that have less than 1 test interactions\n",
      "EvaluatorHoldout: Processed 35586 (100.0%) in 38.55 sec. Users per second: 923\n",
      "Similarity column 38121 (100.0%), 2835.96 column/sec. Elapsed time 13.44 sec\n",
      "EvaluatorHoldout: Ignoring 167 ( 0.5%) Users that have less than 1 test interactions\n",
      "EvaluatorHoldout: Processed 35569 (100.0%) in 38.33 sec. Users per second: 928\n",
      "Similarity column 38121 (100.0%), 2816.21 column/sec. Elapsed time 13.54 sec\n",
      "EvaluatorHoldout: Ignoring 172 ( 0.5%) Users that have less than 1 test interactions\n",
      "EvaluatorHoldout: Processed 35564 (100.0%) in 38.60 sec. Users per second: 921\n"
     ]
    },
    {
     "name": "stderr",
     "output_type": "stream",
     "text": [
      "[I 2025-01-07 03:33:20,977] Trial 656 finished with value: 0.26533137957855846 and parameters: {'similarity': 'asymmetric', 'topK': 81, 'shrink': 661, 'feature_weighting': 'TF-IDF', 'asymmetric_alpha': 0.13272845252578364}. Best is trial 570 with value: 0.2659280370505061.\n"
     ]
    },
    {
     "name": "stdout",
     "output_type": "stream",
     "text": [
      "Similarity column 38121 (100.0%), 2828.48 column/sec. Elapsed time 13.48 sec\n",
      "EvaluatorHoldout: Ignoring 173 ( 0.5%) Users that have less than 1 test interactions\n",
      "EvaluatorHoldout: Processed 35563 (100.0%) in 38.27 sec. Users per second: 929\n",
      "Similarity column 38121 (100.0%), 2832.76 column/sec. Elapsed time 13.46 sec\n",
      "EvaluatorHoldout: Ignoring 163 ( 0.5%) Users that have less than 1 test interactions\n",
      "EvaluatorHoldout: Processed 35573 (100.0%) in 38.61 sec. Users per second: 921\n",
      "Similarity column 38121 (100.0%), 2803.89 column/sec. Elapsed time 13.60 sec\n",
      "EvaluatorHoldout: Ignoring 150 ( 0.4%) Users that have less than 1 test interactions\n",
      "EvaluatorHoldout: Processed 35586 (100.0%) in 38.63 sec. Users per second: 921\n",
      "Similarity column 38121 (100.0%), 2832.88 column/sec. Elapsed time 13.46 sec\n",
      "EvaluatorHoldout: Ignoring 167 ( 0.5%) Users that have less than 1 test interactions\n",
      "EvaluatorHoldout: Processed 35569 (100.0%) in 38.34 sec. Users per second: 928\n",
      "Similarity column 38121 (100.0%), 2818.84 column/sec. Elapsed time 13.52 sec\n",
      "EvaluatorHoldout: Ignoring 172 ( 0.5%) Users that have less than 1 test interactions\n",
      "EvaluatorHoldout: Processed 35564 (100.0%) in 38.29 sec. Users per second: 929\n"
     ]
    },
    {
     "name": "stderr",
     "output_type": "stream",
     "text": [
      "[I 2025-01-07 03:37:42,739] Trial 657 finished with value: 0.2653288323097099 and parameters: {'similarity': 'asymmetric', 'topK': 81, 'shrink': 664, 'feature_weighting': 'TF-IDF', 'asymmetric_alpha': 0.13614818253300842}. Best is trial 570 with value: 0.2659280370505061.\n"
     ]
    },
    {
     "name": "stdout",
     "output_type": "stream",
     "text": [
      "Similarity column 38121 (100.0%), 2827.69 column/sec. Elapsed time 13.48 sec\n",
      "EvaluatorHoldout: Ignoring 173 ( 0.5%) Users that have less than 1 test interactions\n",
      "EvaluatorHoldout: Processed 35563 (100.0%) in 38.20 sec. Users per second: 931\n",
      "Similarity column 38121 (100.0%), 2835.18 column/sec. Elapsed time 13.45 sec\n",
      "EvaluatorHoldout: Ignoring 163 ( 0.5%) Users that have less than 1 test interactions\n",
      "EvaluatorHoldout: Processed 35573 (100.0%) in 38.27 sec. Users per second: 930\n",
      "Similarity column 38121 (100.0%), 2828.19 column/sec. Elapsed time 13.48 sec\n",
      "EvaluatorHoldout: Ignoring 150 ( 0.4%) Users that have less than 1 test interactions\n",
      "EvaluatorHoldout: Processed 35586 (100.0%) in 38.29 sec. Users per second: 929\n",
      "Similarity column 38121 (100.0%), 2833.06 column/sec. Elapsed time 13.46 sec\n",
      "EvaluatorHoldout: Ignoring 167 ( 0.5%) Users that have less than 1 test interactions\n",
      "EvaluatorHoldout: Processed 35569 (100.0%) in 38.58 sec. Users per second: 922\n",
      "Similarity column 38121 (100.0%), 2841.67 column/sec. Elapsed time 13.42 sec\n",
      "EvaluatorHoldout: Ignoring 172 ( 0.5%) Users that have less than 1 test interactions\n",
      "EvaluatorHoldout: Processed 35564 (100.0%) in 38.35 sec. Users per second: 927\n"
     ]
    },
    {
     "name": "stderr",
     "output_type": "stream",
     "text": [
      "[I 2025-01-07 03:42:03,761] Trial 658 finished with value: 0.26529063396421726 and parameters: {'similarity': 'asymmetric', 'topK': 81, 'shrink': 660, 'feature_weighting': 'TF-IDF', 'asymmetric_alpha': 0.13952758404410218}. Best is trial 570 with value: 0.2659280370505061.\n"
     ]
    },
    {
     "name": "stdout",
     "output_type": "stream",
     "text": [
      "Similarity column 38121 (100.0%), 2827.76 column/sec. Elapsed time 13.48 sec\n",
      "EvaluatorHoldout: Ignoring 173 ( 0.5%) Users that have less than 1 test interactions\n",
      "EvaluatorHoldout: Processed 35563 (100.0%) in 38.31 sec. Users per second: 928\n",
      "Similarity column 38121 (100.0%), 2819.50 column/sec. Elapsed time 13.52 sec\n",
      "EvaluatorHoldout: Ignoring 163 ( 0.5%) Users that have less than 1 test interactions\n",
      "EvaluatorHoldout: Processed 35573 (100.0%) in 38.45 sec. Users per second: 925\n",
      "Similarity column 38121 (100.0%), 2839.54 column/sec. Elapsed time 13.43 sec\n",
      "EvaluatorHoldout: Ignoring 150 ( 0.4%) Users that have less than 1 test interactions\n",
      "EvaluatorHoldout: Processed 35586 (100.0%) in 38.43 sec. Users per second: 926\n",
      "Similarity column 38121 (100.0%), 2828.75 column/sec. Elapsed time 13.48 sec\n",
      "EvaluatorHoldout: Ignoring 167 ( 0.5%) Users that have less than 1 test interactions\n",
      "EvaluatorHoldout: Processed 35569 (100.0%) in 38.47 sec. Users per second: 925\n",
      "Similarity column 38121 (100.0%), 2828.92 column/sec. Elapsed time 13.48 sec\n",
      "EvaluatorHoldout: Ignoring 172 ( 0.5%) Users that have less than 1 test interactions\n",
      "EvaluatorHoldout: Processed 35564 (100.0%) in 38.44 sec. Users per second: 925\n"
     ]
    },
    {
     "name": "stderr",
     "output_type": "stream",
     "text": [
      "[I 2025-01-07 03:46:25,337] Trial 659 finished with value: 0.2653600089794551 and parameters: {'similarity': 'asymmetric', 'topK': 81, 'shrink': 669, 'feature_weighting': 'TF-IDF', 'asymmetric_alpha': 0.13319248026818278}. Best is trial 570 with value: 0.2659280370505061.\n"
     ]
    },
    {
     "name": "stdout",
     "output_type": "stream",
     "text": [
      "Similarity column 38121 (100.0%), 2804.10 column/sec. Elapsed time 13.59 sec\n",
      "EvaluatorHoldout: Ignoring 173 ( 0.5%) Users that have less than 1 test interactions\n",
      "EvaluatorHoldout: Processed 35563 (100.0%) in 38.41 sec. Users per second: 926\n",
      "Similarity column 38121 (100.0%), 2790.98 column/sec. Elapsed time 13.66 sec\n",
      "EvaluatorHoldout: Ignoring 163 ( 0.5%) Users that have less than 1 test interactions\n",
      "EvaluatorHoldout: Processed 35573 (100.0%) in 38.33 sec. Users per second: 928\n",
      "Similarity column 38121 (100.0%), 2831.35 column/sec. Elapsed time 13.46 sec\n",
      "EvaluatorHoldout: Ignoring 150 ( 0.4%) Users that have less than 1 test interactions\n",
      "EvaluatorHoldout: Processed 35586 (100.0%) in 38.59 sec. Users per second: 922\n",
      "Similarity column 38121 (100.0%), 2805.40 column/sec. Elapsed time 13.59 sec\n",
      "EvaluatorHoldout: Ignoring 167 ( 0.5%) Users that have less than 1 test interactions\n",
      "EvaluatorHoldout: Processed 35569 (100.0%) in 38.25 sec. Users per second: 930\n",
      "Similarity column 38121 (100.0%), 2819.45 column/sec. Elapsed time 13.52 sec\n",
      "EvaluatorHoldout: Ignoring 172 ( 0.5%) Users that have less than 1 test interactions\n",
      "EvaluatorHoldout: Processed 35564 (100.0%) in 38.45 sec. Users per second: 925\n"
     ]
    },
    {
     "name": "stderr",
     "output_type": "stream",
     "text": [
      "[I 2025-01-07 03:50:47,319] Trial 660 finished with value: 0.2651568804226708 and parameters: {'similarity': 'asymmetric', 'topK': 82, 'shrink': 670, 'feature_weighting': 'TF-IDF', 'asymmetric_alpha': 0.14571067647611527}. Best is trial 570 with value: 0.2659280370505061.\n"
     ]
    },
    {
     "name": "stdout",
     "output_type": "stream",
     "text": [
      "Similarity column 38121 (100.0%), 2816.98 column/sec. Elapsed time 13.53 sec\n",
      "EvaluatorHoldout: Ignoring 173 ( 0.5%) Users that have less than 1 test interactions\n",
      "EvaluatorHoldout: Processed 35563 (100.0%) in 38.41 sec. Users per second: 926\n",
      "Similarity column 38121 (100.0%), 2805.92 column/sec. Elapsed time 13.59 sec\n",
      "EvaluatorHoldout: Ignoring 163 ( 0.5%) Users that have less than 1 test interactions\n",
      "EvaluatorHoldout: Processed 35573 (100.0%) in 38.74 sec. Users per second: 918\n",
      "Similarity column 38121 (100.0%), 2802.30 column/sec. Elapsed time 13.60 sec\n",
      "EvaluatorHoldout: Ignoring 150 ( 0.4%) Users that have less than 1 test interactions\n",
      "EvaluatorHoldout: Processed 35586 (100.0%) in 39.07 sec. Users per second: 911\n",
      "Similarity column 38121 (100.0%), 2809.81 column/sec. Elapsed time 13.57 sec\n",
      "EvaluatorHoldout: Ignoring 167 ( 0.5%) Users that have less than 1 test interactions\n",
      "EvaluatorHoldout: Processed 35569 (100.0%) in 38.81 sec. Users per second: 917\n",
      "Similarity column 38121 (100.0%), 2790.56 column/sec. Elapsed time 13.66 sec\n",
      "EvaluatorHoldout: Ignoring 172 ( 0.5%) Users that have less than 1 test interactions\n",
      "EvaluatorHoldout: Processed 35564 (100.0%) in 38.77 sec. Users per second: 917\n"
     ]
    },
    {
     "name": "stderr",
     "output_type": "stream",
     "text": [
      "[I 2025-01-07 03:55:11,200] Trial 661 finished with value: 0.26540283817986604 and parameters: {'similarity': 'asymmetric', 'topK': 79, 'shrink': 663, 'feature_weighting': 'TF-IDF', 'asymmetric_alpha': 0.14205358795633322}. Best is trial 570 with value: 0.2659280370505061.\n"
     ]
    },
    {
     "name": "stdout",
     "output_type": "stream",
     "text": [
      "Similarity column 38121 (100.0%), 2528.29 column/sec. Elapsed time 15.08 sec\n",
      "EvaluatorHoldout: Ignoring 173 ( 0.5%) Users that have less than 1 test interactions\n",
      "EvaluatorHoldout: Processed 35563 (100.0%) in 38.45 sec. Users per second: 925\n",
      "Similarity column 38121 (100.0%), 2830.28 column/sec. Elapsed time 13.47 sec\n",
      "EvaluatorHoldout: Ignoring 163 ( 0.5%) Users that have less than 1 test interactions\n",
      "EvaluatorHoldout: Processed 35573 (100.0%) in 38.63 sec. Users per second: 921\n",
      "Similarity column 38121 (100.0%), 2780.35 column/sec. Elapsed time 13.71 sec\n",
      "EvaluatorHoldout: Ignoring 150 ( 0.4%) Users that have less than 1 test interactions\n",
      "EvaluatorHoldout: Processed 35586 (100.0%) in 38.69 sec. Users per second: 920\n",
      "Similarity column 38121 (100.0%), 2823.68 column/sec. Elapsed time 13.50 sec\n",
      "EvaluatorHoldout: Ignoring 167 ( 0.5%) Users that have less than 1 test interactions\n",
      "EvaluatorHoldout: Processed 35569 (100.0%) in 38.65 sec. Users per second: 920\n",
      "Similarity column 38121 (100.0%), 2801.26 column/sec. Elapsed time 13.61 sec\n",
      "EvaluatorHoldout: Ignoring 172 ( 0.5%) Users that have less than 1 test interactions\n",
      "EvaluatorHoldout: Processed 35564 (100.0%) in 38.38 sec. Users per second: 927\n"
     ]
    },
    {
     "name": "stderr",
     "output_type": "stream",
     "text": [
      "[I 2025-01-07 03:59:35,474] Trial 662 finished with value: 0.2656196002890569 and parameters: {'similarity': 'asymmetric', 'topK': 77, 'shrink': 667, 'feature_weighting': 'TF-IDF', 'asymmetric_alpha': 0.13550141808387306}. Best is trial 570 with value: 0.2659280370505061.\n"
     ]
    },
    {
     "name": "stdout",
     "output_type": "stream",
     "text": [
      "Similarity column 38121 (100.0%), 2793.81 column/sec. Elapsed time 13.64 sec\n",
      "EvaluatorHoldout: Ignoring 173 ( 0.5%) Users that have less than 1 test interactions\n",
      "EvaluatorHoldout: Processed 35563 (100.0%) in 43.61 sec. Users per second: 815\n",
      "Similarity column 38121 (100.0%), 2672.95 column/sec. Elapsed time 14.26 sec\n",
      "EvaluatorHoldout: Ignoring 163 ( 0.5%) Users that have less than 1 test interactions\n",
      "EvaluatorHoldout: Processed 35573 (100.0%) in 44.49 sec. Users per second: 800\n",
      "Similarity column 38121 (100.0%), 2746.19 column/sec. Elapsed time 13.88 sec\n",
      "EvaluatorHoldout: Ignoring 150 ( 0.4%) Users that have less than 1 test interactions\n",
      "EvaluatorHoldout: Processed 35586 (100.0%) in 46.88 sec. Users per second: 759\n",
      "Similarity column 38121 (100.0%), 2741.69 column/sec. Elapsed time 13.90 sec\n",
      "EvaluatorHoldout: Ignoring 167 ( 0.5%) Users that have less than 1 test interactions\n",
      "EvaluatorHoldout: Processed 35569 (100.0%) in 43.68 sec. Users per second: 814\n",
      "Similarity column 38121 (100.0%), 2757.34 column/sec. Elapsed time 13.83 sec\n",
      "EvaluatorHoldout: Ignoring 172 ( 0.5%) Users that have less than 1 test interactions\n",
      "EvaluatorHoldout: Processed 35564 (100.0%) in 43.10 sec. Users per second: 825\n"
     ]
    },
    {
     "name": "stderr",
     "output_type": "stream",
     "text": [
      "[I 2025-01-07 04:04:28,422] Trial 663 finished with value: 0.21258443867678775 and parameters: {'similarity': 'asymmetric', 'topK': 84, 'shrink': 671, 'feature_weighting': 'none', 'asymmetric_alpha': 0.13467332019281214}. Best is trial 570 with value: 0.2659280370505061.\n"
     ]
    },
    {
     "name": "stdout",
     "output_type": "stream",
     "text": [
      "Similarity column 38121 (100.0%), 2768.03 column/sec. Elapsed time 13.77 sec\n",
      "EvaluatorHoldout: Ignoring 173 ( 0.5%) Users that have less than 1 test interactions\n",
      "EvaluatorHoldout: Processed 35563 (100.0%) in 38.83 sec. Users per second: 916\n",
      "Similarity column 38121 (100.0%), 2791.05 column/sec. Elapsed time 13.66 sec\n",
      "EvaluatorHoldout: Ignoring 163 ( 0.5%) Users that have less than 1 test interactions\n",
      "EvaluatorHoldout: Processed 35573 (100.0%) in 38.93 sec. Users per second: 914\n",
      "Similarity column 38121 (100.0%), 2790.60 column/sec. Elapsed time 13.66 sec\n",
      "EvaluatorHoldout: Ignoring 150 ( 0.4%) Users that have less than 1 test interactions\n",
      "EvaluatorHoldout: Processed 35586 (100.0%) in 38.87 sec. Users per second: 915\n",
      "Similarity column 38121 (100.0%), 2749.66 column/sec. Elapsed time 13.86 sec\n",
      "EvaluatorHoldout: Ignoring 167 ( 0.5%) Users that have less than 1 test interactions\n",
      "EvaluatorHoldout: Processed 35569 (100.0%) in 38.92 sec. Users per second: 914\n",
      "Similarity column 38121 (100.0%), 2820.86 column/sec. Elapsed time 13.51 sec\n",
      "EvaluatorHoldout: Ignoring 172 ( 0.5%) Users that have less than 1 test interactions\n",
      "EvaluatorHoldout: Processed 35564 (100.0%) in 38.43 sec. Users per second: 925\n"
     ]
    },
    {
     "name": "stderr",
     "output_type": "stream",
     "text": [
      "[I 2025-01-07 04:08:53,042] Trial 664 finished with value: 0.2655282667399789 and parameters: {'similarity': 'asymmetric', 'topK': 78, 'shrink': 669, 'feature_weighting': 'TF-IDF', 'asymmetric_alpha': 0.13667029292449115}. Best is trial 570 with value: 0.2659280370505061.\n"
     ]
    },
    {
     "name": "stdout",
     "output_type": "stream",
     "text": [
      "Similarity column 38121 (100.0%), 2801.96 column/sec. Elapsed time 13.61 sec\n",
      "EvaluatorHoldout: Ignoring 173 ( 0.5%) Users that have less than 1 test interactions\n",
      "EvaluatorHoldout: Processed 35563 (100.0%) in 38.58 sec. Users per second: 922\n",
      "Similarity column 38121 (100.0%), 2816.12 column/sec. Elapsed time 13.54 sec\n",
      "EvaluatorHoldout: Ignoring 163 ( 0.5%) Users that have less than 1 test interactions\n",
      "EvaluatorHoldout: Processed 35573 (100.0%) in 38.38 sec. Users per second: 927\n",
      "Similarity column 38121 (100.0%), 2835.89 column/sec. Elapsed time 13.44 sec\n",
      "EvaluatorHoldout: Ignoring 150 ( 0.4%) Users that have less than 1 test interactions\n",
      "EvaluatorHoldout: Processed 35586 (100.0%) in 38.32 sec. Users per second: 929\n",
      "Similarity column 38121 (100.0%), 2815.70 column/sec. Elapsed time 13.54 sec\n",
      "EvaluatorHoldout: Ignoring 167 ( 0.5%) Users that have less than 1 test interactions\n",
      "EvaluatorHoldout: Processed 35569 (100.0%) in 38.09 sec. Users per second: 934\n",
      "Similarity column 38121 (100.0%), 2821.61 column/sec. Elapsed time 13.51 sec\n",
      "EvaluatorHoldout: Ignoring 172 ( 0.5%) Users that have less than 1 test interactions\n",
      "EvaluatorHoldout: Processed 35564 (100.0%) in 38.53 sec. Users per second: 923\n"
     ]
    },
    {
     "name": "stderr",
     "output_type": "stream",
     "text": [
      "[I 2025-01-07 04:13:14,689] Trial 665 finished with value: 0.2656371936831555 and parameters: {'similarity': 'asymmetric', 'topK': 77, 'shrink': 663, 'feature_weighting': 'TF-IDF', 'asymmetric_alpha': 0.13629494860450783}. Best is trial 570 with value: 0.2659280370505061.\n"
     ]
    },
    {
     "name": "stdout",
     "output_type": "stream",
     "text": [
      "Similarity column 38121 (100.0%), 2821.41 column/sec. Elapsed time 13.51 sec\n",
      "EvaluatorHoldout: Ignoring 173 ( 0.5%) Users that have less than 1 test interactions\n",
      "EvaluatorHoldout: Processed 35563 (100.0%) in 38.25 sec. Users per second: 930\n",
      "Similarity column 38121 (100.0%), 2816.87 column/sec. Elapsed time 13.53 sec\n",
      "EvaluatorHoldout: Ignoring 163 ( 0.5%) Users that have less than 1 test interactions\n",
      "EvaluatorHoldout: Processed 35573 (100.0%) in 38.59 sec. Users per second: 922\n",
      "Similarity column 38121 (100.0%), 2806.46 column/sec. Elapsed time 13.58 sec\n",
      "EvaluatorHoldout: Ignoring 150 ( 0.4%) Users that have less than 1 test interactions\n",
      "EvaluatorHoldout: Processed 35586 (100.0%) in 39.03 sec. Users per second: 912\n",
      "Similarity column 38121 (100.0%), 2811.95 column/sec. Elapsed time 13.56 sec\n",
      "EvaluatorHoldout: Ignoring 167 ( 0.5%) Users that have less than 1 test interactions\n",
      "EvaluatorHoldout: Processed 35569 (100.0%) in 38.69 sec. Users per second: 919\n",
      "Similarity column 38121 (100.0%), 2799.92 column/sec. Elapsed time 13.62 sec\n",
      "EvaluatorHoldout: Ignoring 172 ( 0.5%) Users that have less than 1 test interactions\n",
      "EvaluatorHoldout: Processed 35564 (100.0%) in 38.34 sec. Users per second: 928\n"
     ]
    },
    {
     "name": "stderr",
     "output_type": "stream",
     "text": [
      "[I 2025-01-07 04:17:37,460] Trial 666 finished with value: 0.26554341549638394 and parameters: {'similarity': 'asymmetric', 'topK': 76, 'shrink': 717, 'feature_weighting': 'TF-IDF', 'asymmetric_alpha': 0.14655398789843121}. Best is trial 570 with value: 0.2659280370505061.\n"
     ]
    },
    {
     "name": "stdout",
     "output_type": "stream",
     "text": [
      "Similarity column 38121 (100.0%), 2841.86 column/sec. Elapsed time 13.41 sec\n",
      "EvaluatorHoldout: Ignoring 173 ( 0.5%) Users that have less than 1 test interactions\n",
      "EvaluatorHoldout: Processed 35563 (100.0%) in 38.60 sec. Users per second: 921\n",
      "Similarity column 38121 (100.0%), 2836.04 column/sec. Elapsed time 13.44 sec\n",
      "EvaluatorHoldout: Ignoring 163 ( 0.5%) Users that have less than 1 test interactions\n",
      "EvaluatorHoldout: Processed 35573 (100.0%) in 38.34 sec. Users per second: 928\n",
      "Similarity column 38121 (100.0%), 2768.10 column/sec. Elapsed time 13.77 sec\n",
      "EvaluatorHoldout: Ignoring 150 ( 0.4%) Users that have less than 1 test interactions\n",
      "EvaluatorHoldout: Processed 35586 (100.0%) in 38.34 sec. Users per second: 928\n",
      "Similarity column 38121 (100.0%), 2845.88 column/sec. Elapsed time 13.40 sec\n",
      "EvaluatorHoldout: Ignoring 167 ( 0.5%) Users that have less than 1 test interactions\n",
      "EvaluatorHoldout: Processed 35569 (100.0%) in 38.26 sec. Users per second: 930\n",
      "Similarity column 38121 (100.0%), 2827.54 column/sec. Elapsed time 13.48 sec\n",
      "EvaluatorHoldout: Ignoring 172 ( 0.5%) Users that have less than 1 test interactions\n",
      "EvaluatorHoldout: Processed 35564 (100.0%) in 38.11 sec. Users per second: 933\n"
     ]
    },
    {
     "name": "stderr",
     "output_type": "stream",
     "text": [
      "[I 2025-01-07 04:21:58,652] Trial 667 finished with value: 0.2655371072432214 and parameters: {'similarity': 'asymmetric', 'topK': 76, 'shrink': 708, 'feature_weighting': 'TF-IDF', 'asymmetric_alpha': 0.14114190019587017}. Best is trial 570 with value: 0.2659280370505061.\n"
     ]
    },
    {
     "name": "stdout",
     "output_type": "stream",
     "text": [
      "Similarity column 38121 (100.0%), 2818.29 column/sec. Elapsed time 13.53 sec\n",
      "EvaluatorHoldout: Ignoring 173 ( 0.5%) Users that have less than 1 test interactions\n",
      "EvaluatorHoldout: Processed 35563 (100.0%) in 38.16 sec. Users per second: 932\n",
      "Similarity column 38121 (100.0%), 2785.17 column/sec. Elapsed time 13.69 sec\n",
      "EvaluatorHoldout: Ignoring 163 ( 0.5%) Users that have less than 1 test interactions\n",
      "EvaluatorHoldout: Processed 35573 (100.0%) in 38.51 sec. Users per second: 924\n",
      "Similarity column 38121 (100.0%), 2836.45 column/sec. Elapsed time 13.44 sec\n",
      "EvaluatorHoldout: Ignoring 150 ( 0.4%) Users that have less than 1 test interactions\n",
      "EvaluatorHoldout: Processed 35586 (100.0%) in 38.05 sec. Users per second: 935\n",
      "Similarity column 38121 (100.0%), 2838.70 column/sec. Elapsed time 13.43 sec\n",
      "EvaluatorHoldout: Ignoring 167 ( 0.5%) Users that have less than 1 test interactions\n",
      "EvaluatorHoldout: Processed 35569 (100.0%) in 38.27 sec. Users per second: 929\n",
      "Similarity column 38121 (100.0%), 2832.79 column/sec. Elapsed time 13.46 sec\n",
      "EvaluatorHoldout: Ignoring 172 ( 0.5%) Users that have less than 1 test interactions\n",
      "EvaluatorHoldout: Processed 35564 (100.0%) in 38.15 sec. Users per second: 932\n"
     ]
    },
    {
     "name": "stderr",
     "output_type": "stream",
     "text": [
      "[I 2025-01-07 04:26:19,364] Trial 668 finished with value: 0.26548266551920313 and parameters: {'similarity': 'asymmetric', 'topK': 77, 'shrink': 711, 'feature_weighting': 'TF-IDF', 'asymmetric_alpha': 0.1392132236073392}. Best is trial 570 with value: 0.2659280370505061.\n"
     ]
    },
    {
     "name": "stdout",
     "output_type": "stream",
     "text": [
      "Similarity column 38121 (100.0%), 2818.69 column/sec. Elapsed time 13.52 sec\n",
      "EvaluatorHoldout: Ignoring 173 ( 0.5%) Users that have less than 1 test interactions\n",
      "EvaluatorHoldout: Processed 35563 (100.0%) in 38.56 sec. Users per second: 922\n",
      "Similarity column 38121 (100.0%), 2822.77 column/sec. Elapsed time 13.50 sec\n",
      "EvaluatorHoldout: Ignoring 163 ( 0.5%) Users that have less than 1 test interactions\n",
      "EvaluatorHoldout: Processed 35573 (100.0%) in 38.43 sec. Users per second: 926\n",
      "Similarity column 38121 (100.0%), 2824.43 column/sec. Elapsed time 13.50 sec\n",
      "EvaluatorHoldout: Ignoring 150 ( 0.4%) Users that have less than 1 test interactions\n",
      "EvaluatorHoldout: Processed 35586 (100.0%) in 38.64 sec. Users per second: 921\n",
      "Similarity column 38121 (100.0%), 2793.27 column/sec. Elapsed time 13.65 sec\n",
      "EvaluatorHoldout: Ignoring 167 ( 0.5%) Users that have less than 1 test interactions\n",
      "EvaluatorHoldout: Processed 35569 (100.0%) in 38.53 sec. Users per second: 923\n",
      "Similarity column 38121 (100.0%), 2751.32 column/sec. Elapsed time 13.86 sec\n",
      "EvaluatorHoldout: Ignoring 172 ( 0.5%) Users that have less than 1 test interactions\n",
      "EvaluatorHoldout: Processed 35564 (100.0%) in 39.33 sec. Users per second: 904\n"
     ]
    },
    {
     "name": "stderr",
     "output_type": "stream",
     "text": [
      "[I 2025-01-07 04:30:42,980] Trial 669 finished with value: 0.2656198808198905 and parameters: {'similarity': 'asymmetric', 'topK': 73, 'shrink': 718, 'feature_weighting': 'TF-IDF', 'asymmetric_alpha': 0.14680792803271456}. Best is trial 570 with value: 0.2659280370505061.\n"
     ]
    },
    {
     "name": "stdout",
     "output_type": "stream",
     "text": [
      "Similarity column 38121 (100.0%), 2737.93 column/sec. Elapsed time 13.92 sec\n",
      "EvaluatorHoldout: Ignoring 173 ( 0.5%) Users that have less than 1 test interactions\n",
      "EvaluatorHoldout: Processed 35563 (100.0%) in 38.53 sec. Users per second: 923\n",
      "Similarity column 38121 (100.0%), 2755.99 column/sec. Elapsed time 13.83 sec\n",
      "EvaluatorHoldout: Ignoring 163 ( 0.5%) Users that have less than 1 test interactions\n",
      "EvaluatorHoldout: Processed 35573 (100.0%) in 38.61 sec. Users per second: 921\n",
      "Similarity column 38121 (100.0%), 2841.44 column/sec. Elapsed time 13.42 sec\n",
      "EvaluatorHoldout: Ignoring 150 ( 0.4%) Users that have less than 1 test interactions\n",
      "EvaluatorHoldout: Processed 35586 (100.0%) in 38.41 sec. Users per second: 927\n",
      "Similarity column 38121 (100.0%), 2831.97 column/sec. Elapsed time 13.46 sec\n",
      "EvaluatorHoldout: Ignoring 167 ( 0.5%) Users that have less than 1 test interactions\n",
      "EvaluatorHoldout: Processed 35569 (100.0%) in 38.63 sec. Users per second: 921\n",
      "Similarity column 38121 (100.0%), 2804.98 column/sec. Elapsed time 13.59 sec\n",
      "EvaluatorHoldout: Ignoring 172 ( 0.5%) Users that have less than 1 test interactions\n",
      "EvaluatorHoldout: Processed 35564 (100.0%) in 38.67 sec. Users per second: 920\n"
     ]
    },
    {
     "name": "stderr",
     "output_type": "stream",
     "text": [
      "[I 2025-01-07 04:35:06,189] Trial 670 finished with value: 0.265458379977608 and parameters: {'similarity': 'asymmetric', 'topK': 75, 'shrink': 722, 'feature_weighting': 'TF-IDF', 'asymmetric_alpha': 0.15734875007461058}. Best is trial 570 with value: 0.2659280370505061.\n"
     ]
    },
    {
     "name": "stdout",
     "output_type": "stream",
     "text": [
      "Similarity column 38121 (100.0%), 2831.99 column/sec. Elapsed time 13.46 sec\n",
      "EvaluatorHoldout: Ignoring 173 ( 0.5%) Users that have less than 1 test interactions\n",
      "EvaluatorHoldout: Processed 35563 (100.0%) in 38.99 sec. Users per second: 912\n",
      "Similarity column 38121 (100.0%), 2773.31 column/sec. Elapsed time 13.75 sec\n",
      "EvaluatorHoldout: Ignoring 163 ( 0.5%) Users that have less than 1 test interactions\n",
      "EvaluatorHoldout: Processed 35573 (100.0%) in 39.43 sec. Users per second: 902\n",
      "Similarity column 38121 (100.0%), 2783.24 column/sec. Elapsed time 13.70 sec\n",
      "EvaluatorHoldout: Ignoring 150 ( 0.4%) Users that have less than 1 test interactions\n",
      "EvaluatorHoldout: Processed 35586 (100.0%) in 38.87 sec. Users per second: 916\n",
      "Similarity column 38121 (100.0%), 2831.21 column/sec. Elapsed time 13.46 sec\n",
      "EvaluatorHoldout: Ignoring 167 ( 0.5%) Users that have less than 1 test interactions\n",
      "EvaluatorHoldout: Processed 35569 (100.0%) in 38.85 sec. Users per second: 915\n",
      "Similarity column 38121 (100.0%), 2764.38 column/sec. Elapsed time 13.79 sec\n",
      "EvaluatorHoldout: Ignoring 172 ( 0.5%) Users that have less than 1 test interactions\n",
      "EvaluatorHoldout: Processed 35564 (100.0%) in 39.10 sec. Users per second: 910\n"
     ]
    },
    {
     "name": "stderr",
     "output_type": "stream",
     "text": [
      "[I 2025-01-07 04:39:31,755] Trial 671 finished with value: 0.23166680211327245 and parameters: {'similarity': 'asymmetric', 'topK': 76, 'shrink': 724, 'feature_weighting': 'BM25', 'asymmetric_alpha': 0.14428324261400965}. Best is trial 570 with value: 0.2659280370505061.\n"
     ]
    },
    {
     "name": "stdout",
     "output_type": "stream",
     "text": [
      "Similarity column 38121 (100.0%), 2829.15 column/sec. Elapsed time 13.47 sec\n",
      "EvaluatorHoldout: Ignoring 173 ( 0.5%) Users that have less than 1 test interactions\n",
      "EvaluatorHoldout: Processed 35563 (100.0%) in 38.62 sec. Users per second: 921\n",
      "Similarity column 38121 (100.0%), 2842.48 column/sec. Elapsed time 13.41 sec\n",
      "EvaluatorHoldout: Ignoring 163 ( 0.5%) Users that have less than 1 test interactions\n",
      "EvaluatorHoldout: Processed 35573 (100.0%) in 38.61 sec. Users per second: 921\n",
      "Similarity column 38121 (100.0%), 2824.97 column/sec. Elapsed time 13.49 sec\n",
      "EvaluatorHoldout: Ignoring 150 ( 0.4%) Users that have less than 1 test interactions\n",
      "EvaluatorHoldout: Processed 35586 (100.0%) in 38.71 sec. Users per second: 919\n",
      "Similarity column 38121 (100.0%), 2833.06 column/sec. Elapsed time 13.46 sec\n",
      "EvaluatorHoldout: Ignoring 167 ( 0.5%) Users that have less than 1 test interactions\n",
      "EvaluatorHoldout: Processed 35569 (100.0%) in 38.66 sec. Users per second: 920\n",
      "Similarity column 38121 (100.0%), 2798.20 column/sec. Elapsed time 13.62 sec\n",
      "EvaluatorHoldout: Ignoring 172 ( 0.5%) Users that have less than 1 test interactions\n",
      "EvaluatorHoldout: Processed 35564 (100.0%) in 38.82 sec. Users per second: 916\n"
     ]
    },
    {
     "name": "stderr",
     "output_type": "stream",
     "text": [
      "[I 2025-01-07 04:43:54,702] Trial 672 finished with value: 0.264446876893177 and parameters: {'similarity': 'asymmetric', 'topK': 77, 'shrink': 702, 'feature_weighting': 'TF-IDF', 'asymmetric_alpha': 0.24289572297215994}. Best is trial 570 with value: 0.2659280370505061.\n"
     ]
    },
    {
     "name": "stdout",
     "output_type": "stream",
     "text": [
      "Similarity column 38121 (100.0%), 2809.44 column/sec. Elapsed time 13.57 sec\n",
      "EvaluatorHoldout: Ignoring 173 ( 0.5%) Users that have less than 1 test interactions\n",
      "EvaluatorHoldout: Processed 35563 (100.0%) in 38.30 sec. Users per second: 929\n",
      "Similarity column 38121 (100.0%), 2777.78 column/sec. Elapsed time 13.72 sec\n",
      "EvaluatorHoldout: Ignoring 163 ( 0.5%) Users that have less than 1 test interactions\n",
      "EvaluatorHoldout: Processed 35573 (100.0%) in 39.18 sec. Users per second: 908\n",
      "Similarity column 38121 (100.0%), 2829.32 column/sec. Elapsed time 13.47 sec\n",
      "EvaluatorHoldout: Ignoring 150 ( 0.4%) Users that have less than 1 test interactions\n",
      "EvaluatorHoldout: Processed 35586 (100.0%) in 38.13 sec. Users per second: 933\n",
      "Similarity column 38121 (100.0%), 2823.18 column/sec. Elapsed time 13.50 sec\n",
      "EvaluatorHoldout: Ignoring 167 ( 0.5%) Users that have less than 1 test interactions\n",
      "EvaluatorHoldout: Processed 35569 (100.0%) in 38.00 sec. Users per second: 936\n",
      "Similarity column 38121 (100.0%), 2850.85 column/sec. Elapsed time 13.37 sec\n",
      "EvaluatorHoldout: Ignoring 172 ( 0.5%) Users that have less than 1 test interactions\n",
      "EvaluatorHoldout: Processed 35564 (100.0%) in 38.15 sec. Users per second: 932\n"
     ]
    },
    {
     "name": "stderr",
     "output_type": "stream",
     "text": [
      "[I 2025-01-07 04:48:16,170] Trial 673 finished with value: 0.26578795024543167 and parameters: {'similarity': 'asymmetric', 'topK': 73, 'shrink': 672, 'feature_weighting': 'TF-IDF', 'asymmetric_alpha': 0.1544889146731097}. Best is trial 570 with value: 0.2659280370505061.\n"
     ]
    },
    {
     "name": "stdout",
     "output_type": "stream",
     "text": [
      "Similarity column 38121 (100.0%), 2820.88 column/sec. Elapsed time 13.51 sec\n",
      "EvaluatorHoldout: Ignoring 173 ( 0.5%) Users that have less than 1 test interactions\n",
      "EvaluatorHoldout: Processed 35563 (100.0%) in 38.08 sec. Users per second: 934\n",
      "Similarity column 38121 (100.0%), 2824.05 column/sec. Elapsed time 13.50 sec\n",
      "EvaluatorHoldout: Ignoring 163 ( 0.5%) Users that have less than 1 test interactions\n",
      "EvaluatorHoldout: Processed 35573 (100.0%) in 38.08 sec. Users per second: 934\n",
      "Similarity column 38121 (100.0%), 2807.56 column/sec. Elapsed time 13.58 sec\n",
      "EvaluatorHoldout: Ignoring 150 ( 0.4%) Users that have less than 1 test interactions\n",
      "EvaluatorHoldout: Processed 35586 (100.0%) in 38.30 sec. Users per second: 929\n",
      "Similarity column 38121 (100.0%), 2779.79 column/sec. Elapsed time 13.71 sec\n",
      "EvaluatorHoldout: Ignoring 167 ( 0.5%) Users that have less than 1 test interactions\n",
      "EvaluatorHoldout: Processed 35569 (100.0%) in 38.22 sec. Users per second: 931\n",
      "Similarity column 38121 (100.0%), 2839.24 column/sec. Elapsed time 13.43 sec\n",
      "EvaluatorHoldout: Ignoring 172 ( 0.5%) Users that have less than 1 test interactions\n",
      "EvaluatorHoldout: Processed 35564 (100.0%) in 38.34 sec. Users per second: 928\n"
     ]
    },
    {
     "name": "stderr",
     "output_type": "stream",
     "text": [
      "[I 2025-01-07 04:52:37,026] Trial 674 finished with value: 0.26570936107948767 and parameters: {'similarity': 'asymmetric', 'topK': 73, 'shrink': 703, 'feature_weighting': 'TF-IDF', 'asymmetric_alpha': 0.14761819582085992}. Best is trial 570 with value: 0.2659280370505061.\n"
     ]
    },
    {
     "name": "stdout",
     "output_type": "stream",
     "text": [
      "Similarity column 38121 (100.0%), 2815.72 column/sec. Elapsed time 13.54 sec\n",
      "EvaluatorHoldout: Ignoring 173 ( 0.5%) Users that have less than 1 test interactions\n",
      "EvaluatorHoldout: Processed 35563 (100.0%) in 38.22 sec. Users per second: 931\n",
      "Similarity column 38121 (100.0%), 2779.77 column/sec. Elapsed time 13.71 sec\n",
      "EvaluatorHoldout: Ignoring 163 ( 0.5%) Users that have less than 1 test interactions\n",
      "EvaluatorHoldout: Processed 35573 (100.0%) in 38.32 sec. Users per second: 928\n",
      "Similarity column 38121 (100.0%), 2828.28 column/sec. Elapsed time 13.48 sec\n",
      "EvaluatorHoldout: Ignoring 150 ( 0.4%) Users that have less than 1 test interactions\n",
      "EvaluatorHoldout: Processed 35586 (100.0%) in 39.12 sec. Users per second: 910\n",
      "Similarity column 38121 (100.0%), 2828.80 column/sec. Elapsed time 13.48 sec\n",
      "EvaluatorHoldout: Ignoring 167 ( 0.5%) Users that have less than 1 test interactions\n",
      "EvaluatorHoldout: Processed 35569 (100.0%) in 38.69 sec. Users per second: 919\n",
      "Similarity column 38121 (100.0%), 2825.16 column/sec. Elapsed time 13.49 sec\n",
      "EvaluatorHoldout: Ignoring 172 ( 0.5%) Users that have less than 1 test interactions\n",
      "EvaluatorHoldout: Processed 35564 (100.0%) in 38.36 sec. Users per second: 927\n"
     ]
    },
    {
     "name": "stderr",
     "output_type": "stream",
     "text": [
      "[I 2025-01-07 04:56:59,525] Trial 675 finished with value: 0.26558795538724034 and parameters: {'similarity': 'asymmetric', 'topK': 75, 'shrink': 688, 'feature_weighting': 'TF-IDF', 'asymmetric_alpha': 0.15220871866582864}. Best is trial 570 with value: 0.2659280370505061.\n"
     ]
    },
    {
     "name": "stdout",
     "output_type": "stream",
     "text": [
      "Similarity column 38121 (100.0%), 2832.58 column/sec. Elapsed time 13.46 sec\n",
      "EvaluatorHoldout: Ignoring 173 ( 0.5%) Users that have less than 1 test interactions\n",
      "EvaluatorHoldout: Processed 35563 (100.0%) in 38.45 sec. Users per second: 925\n",
      "Similarity column 38121 (100.0%), 2783.24 column/sec. Elapsed time 13.70 sec\n",
      "EvaluatorHoldout: Ignoring 163 ( 0.5%) Users that have less than 1 test interactions\n",
      "EvaluatorHoldout: Processed 35573 (100.0%) in 38.20 sec. Users per second: 931\n",
      "Similarity column 38121 (100.0%), 2811.99 column/sec. Elapsed time 13.56 sec\n",
      "EvaluatorHoldout: Ignoring 150 ( 0.4%) Users that have less than 1 test interactions\n",
      "EvaluatorHoldout: Processed 35586 (100.0%) in 38.37 sec. Users per second: 927\n",
      "Similarity column 38121 (100.0%), 2840.39 column/sec. Elapsed time 13.42 sec\n",
      "EvaluatorHoldout: Ignoring 167 ( 0.5%) Users that have less than 1 test interactions\n",
      "EvaluatorHoldout: Processed 35569 (100.0%) in 39.02 sec. Users per second: 912\n",
      "Similarity column 38121 (100.0%), 2817.35 column/sec. Elapsed time 13.53 sec\n",
      "EvaluatorHoldout: Ignoring 172 ( 0.5%) Users that have less than 1 test interactions\n",
      "EvaluatorHoldout: Processed 35564 (100.0%) in 38.90 sec. Users per second: 914\n"
     ]
    },
    {
     "name": "stderr",
     "output_type": "stream",
     "text": [
      "[I 2025-01-07 05:01:22,196] Trial 676 finished with value: 0.2644689195275687 and parameters: {'similarity': 'asymmetric', 'topK': 72, 'shrink': 749, 'feature_weighting': 'TF-IDF', 'asymmetric_alpha': 0.24079497504559794}. Best is trial 570 with value: 0.2659280370505061.\n"
     ]
    },
    {
     "name": "stdout",
     "output_type": "stream",
     "text": [
      "Similarity column 38121 (100.0%), 2819.41 column/sec. Elapsed time 13.52 sec\n",
      "EvaluatorHoldout: Ignoring 173 ( 0.5%) Users that have less than 1 test interactions\n",
      "EvaluatorHoldout: Processed 35563 (100.0%) in 38.50 sec. Users per second: 924\n",
      "Similarity column 38121 (100.0%), 2824.76 column/sec. Elapsed time 13.50 sec\n",
      "EvaluatorHoldout: Ignoring 163 ( 0.5%) Users that have less than 1 test interactions\n",
      "EvaluatorHoldout: Processed 35573 (100.0%) in 38.48 sec. Users per second: 924\n",
      "Similarity column 38121 (100.0%), 2810.52 column/sec. Elapsed time 13.56 sec\n",
      "EvaluatorHoldout: Ignoring 150 ( 0.4%) Users that have less than 1 test interactions\n",
      "EvaluatorHoldout: Processed 35586 (100.0%) in 38.34 sec. Users per second: 928\n",
      "Similarity column 38121 (100.0%), 2769.33 column/sec. Elapsed time 13.77 sec\n",
      "EvaluatorHoldout: Ignoring 167 ( 0.5%) Users that have less than 1 test interactions\n",
      "EvaluatorHoldout: Processed 35569 (100.0%) in 38.34 sec. Users per second: 928\n",
      "Similarity column 38121 (100.0%), 2832.09 column/sec. Elapsed time 13.46 sec\n",
      "EvaluatorHoldout: Ignoring 172 ( 0.5%) Users that have less than 1 test interactions\n",
      "EvaluatorHoldout: Processed 35564 (100.0%) in 38.20 sec. Users per second: 931\n"
     ]
    },
    {
     "name": "stderr",
     "output_type": "stream",
     "text": [
      "[I 2025-01-07 05:05:43,968] Trial 677 finished with value: 0.2654318714112048 and parameters: {'similarity': 'asymmetric', 'topK': 77, 'shrink': 715, 'feature_weighting': 'TF-IDF', 'asymmetric_alpha': 0.14391399106116207}. Best is trial 570 with value: 0.2659280370505061.\n"
     ]
    },
    {
     "name": "stdout",
     "output_type": "stream",
     "text": [
      "Similarity column 38121 (100.0%), 2838.44 column/sec. Elapsed time 13.43 sec\n",
      "EvaluatorHoldout: Ignoring 173 ( 0.5%) Users that have less than 1 test interactions\n",
      "EvaluatorHoldout: Processed 35563 (100.0%) in 38.05 sec. Users per second: 935\n",
      "Similarity column 38121 (100.0%), 2817.32 column/sec. Elapsed time 13.53 sec\n",
      "EvaluatorHoldout: Ignoring 163 ( 0.5%) Users that have less than 1 test interactions\n",
      "EvaluatorHoldout: Processed 35573 (100.0%) in 37.96 sec. Users per second: 937\n",
      "Similarity column 38121 (100.0%), 2827.55 column/sec. Elapsed time 13.48 sec\n",
      "EvaluatorHoldout: Ignoring 150 ( 0.4%) Users that have less than 1 test interactions\n",
      "EvaluatorHoldout: Processed 35586 (100.0%) in 37.69 sec. Users per second: 944\n",
      "Similarity column 38121 (100.0%), 2756.14 column/sec. Elapsed time 13.83 sec\n",
      "EvaluatorHoldout: Ignoring 167 ( 0.5%) Users that have less than 1 test interactions\n",
      "EvaluatorHoldout: Processed 35569 (100.0%) in 38.06 sec. Users per second: 935\n",
      "Similarity column 38121 (100.0%), 2817.59 column/sec. Elapsed time 13.53 sec\n",
      "EvaluatorHoldout: Ignoring 172 ( 0.5%) Users that have less than 1 test interactions\n",
      "EvaluatorHoldout: Processed 35564 (100.0%) in 38.19 sec. Users per second: 931\n"
     ]
    },
    {
     "name": "stderr",
     "output_type": "stream",
     "text": [
      "[I 2025-01-07 05:10:03,780] Trial 678 finished with value: 0.2658930244511172 and parameters: {'similarity': 'asymmetric', 'topK': 70, 'shrink': 711, 'feature_weighting': 'TF-IDF', 'asymmetric_alpha': 0.15278167128012038}. Best is trial 570 with value: 0.2659280370505061.\n"
     ]
    },
    {
     "name": "stdout",
     "output_type": "stream",
     "text": [
      "Similarity column 38121 (100.0%), 2822.33 column/sec. Elapsed time 13.51 sec\n",
      "EvaluatorHoldout: Ignoring 173 ( 0.5%) Users that have less than 1 test interactions\n",
      "EvaluatorHoldout: Processed 35563 (100.0%) in 38.58 sec. Users per second: 922\n",
      "Similarity column 38121 (100.0%), 2782.32 column/sec. Elapsed time 13.70 sec\n",
      "EvaluatorHoldout: Ignoring 163 ( 0.5%) Users that have less than 1 test interactions\n",
      "EvaluatorHoldout: Processed 35573 (100.0%) in 38.68 sec. Users per second: 920\n",
      "Similarity column 38121 (100.0%), 2794.70 column/sec. Elapsed time 13.64 sec\n",
      "EvaluatorHoldout: Ignoring 150 ( 0.4%) Users that have less than 1 test interactions\n",
      "EvaluatorHoldout: Processed 35586 (100.0%) in 38.17 sec. Users per second: 932\n",
      "Similarity column 38121 (100.0%), 2746.91 column/sec. Elapsed time 13.88 sec\n",
      "EvaluatorHoldout: Ignoring 167 ( 0.5%) Users that have less than 1 test interactions\n",
      "EvaluatorHoldout: Processed 35569 (100.0%) in 38.16 sec. Users per second: 932\n",
      "Similarity column 38121 (100.0%), 2825.35 column/sec. Elapsed time 13.49 sec\n",
      "EvaluatorHoldout: Ignoring 172 ( 0.5%) Users that have less than 1 test interactions\n",
      "EvaluatorHoldout: Processed 35564 (100.0%) in 38.23 sec. Users per second: 930\n"
     ]
    },
    {
     "name": "stderr",
     "output_type": "stream",
     "text": [
      "[I 2025-01-07 05:14:25,880] Trial 679 finished with value: 0.265847931774627 and parameters: {'similarity': 'asymmetric', 'topK': 70, 'shrink': 712, 'feature_weighting': 'TF-IDF', 'asymmetric_alpha': 0.15471058008364497}. Best is trial 570 with value: 0.2659280370505061.\n"
     ]
    },
    {
     "name": "stdout",
     "output_type": "stream",
     "text": [
      "Similarity column 38121 (100.0%), 2809.56 column/sec. Elapsed time 13.57 sec\n",
      "EvaluatorHoldout: Ignoring 173 ( 0.5%) Users that have less than 1 test interactions\n",
      "EvaluatorHoldout: Processed 35563 (100.0%) in 38.00 sec. Users per second: 936\n",
      "Similarity column 38121 (100.0%), 2590.78 column/sec. Elapsed time 14.71 sec\n",
      "EvaluatorHoldout: Ignoring 163 ( 0.5%) Users that have less than 1 test interactions\n",
      "EvaluatorHoldout: Processed 35573 (100.0%) in 38.69 sec. Users per second: 919\n",
      "Similarity column 38121 (100.0%), 2849.07 column/sec. Elapsed time 13.38 sec\n",
      "EvaluatorHoldout: Ignoring 150 ( 0.4%) Users that have less than 1 test interactions\n",
      "EvaluatorHoldout: Processed 35586 (100.0%) in 38.20 sec. Users per second: 932\n",
      "Similarity column 38121 (100.0%), 2827.62 column/sec. Elapsed time 13.48 sec\n",
      "EvaluatorHoldout: Ignoring 167 ( 0.5%) Users that have less than 1 test interactions\n",
      "EvaluatorHoldout: Processed 35569 (100.0%) in 38.20 sec. Users per second: 931\n",
      "Similarity column 38121 (100.0%), 2812.83 column/sec. Elapsed time 13.55 sec\n",
      "EvaluatorHoldout: Ignoring 172 ( 0.5%) Users that have less than 1 test interactions\n",
      "EvaluatorHoldout: Processed 35564 (100.0%) in 38.41 sec. Users per second: 926\n"
     ]
    },
    {
     "name": "stderr",
     "output_type": "stream",
     "text": [
      "[I 2025-01-07 05:18:48,164] Trial 680 finished with value: 0.2657507595645888 and parameters: {'similarity': 'asymmetric', 'topK': 72, 'shrink': 707, 'feature_weighting': 'TF-IDF', 'asymmetric_alpha': 0.1616945232063169}. Best is trial 570 with value: 0.2659280370505061.\n"
     ]
    },
    {
     "name": "stdout",
     "output_type": "stream",
     "text": [
      "Similarity column 38121 (100.0%), 2869.37 column/sec. Elapsed time 13.29 sec\n",
      "EvaluatorHoldout: Ignoring 173 ( 0.5%) Users that have less than 1 test interactions\n",
      "EvaluatorHoldout: Processed 35563 (100.0%) in 42.59 sec. Users per second: 835\n",
      "Similarity column 38121 (100.0%), 2849.32 column/sec. Elapsed time 13.38 sec\n",
      "EvaluatorHoldout: Ignoring 163 ( 0.5%) Users that have less than 1 test interactions\n",
      "EvaluatorHoldout: Processed 35573 (100.0%) in 43.21 sec. Users per second: 823\n",
      "Similarity column 38121 (100.0%), 2812.89 column/sec. Elapsed time 13.55 sec\n",
      "EvaluatorHoldout: Ignoring 150 ( 0.4%) Users that have less than 1 test interactions\n",
      "EvaluatorHoldout: Processed 35586 (100.0%) in 42.97 sec. Users per second: 828\n",
      "Similarity column 38121 (100.0%), 2775.31 column/sec. Elapsed time 13.74 sec\n",
      "EvaluatorHoldout: Ignoring 167 ( 0.5%) Users that have less than 1 test interactions\n",
      "EvaluatorHoldout: Processed 35569 (100.0%) in 43.11 sec. Users per second: 825\n",
      "Similarity column 38121 (100.0%), 2832.26 column/sec. Elapsed time 13.46 sec\n",
      "EvaluatorHoldout: Ignoring 172 ( 0.5%) Users that have less than 1 test interactions\n",
      "EvaluatorHoldout: Processed 35564 (100.0%) in 43.68 sec. Users per second: 814\n"
     ]
    },
    {
     "name": "stderr",
     "output_type": "stream",
     "text": [
      "[I 2025-01-07 05:23:33,333] Trial 681 finished with value: 0.23542551977407125 and parameters: {'similarity': 'asymmetric', 'topK': 78, 'shrink': 712, 'feature_weighting': 'TF-IDF', 'asymmetric_alpha': 0.7983574336785964}. Best is trial 570 with value: 0.2659280370505061.\n"
     ]
    },
    {
     "name": "stdout",
     "output_type": "stream",
     "text": [
      "Similarity column 38121 (100.0%), 2807.22 column/sec. Elapsed time 13.58 sec\n",
      "EvaluatorHoldout: Ignoring 173 ( 0.5%) Users that have less than 1 test interactions\n",
      "EvaluatorHoldout: Processed 35563 (100.0%) in 38.60 sec. Users per second: 921\n",
      "Similarity column 38121 (100.0%), 2797.20 column/sec. Elapsed time 13.63 sec\n",
      "EvaluatorHoldout: Ignoring 163 ( 0.5%) Users that have less than 1 test interactions\n",
      "EvaluatorHoldout: Processed 35573 (100.0%) in 38.88 sec. Users per second: 915\n",
      "Similarity column 38121 (100.0%), 2773.92 column/sec. Elapsed time 13.74 sec\n",
      "EvaluatorHoldout: Ignoring 150 ( 0.4%) Users that have less than 1 test interactions\n",
      "EvaluatorHoldout: Processed 35586 (100.0%) in 38.98 sec. Users per second: 913\n",
      "Similarity column 38121 (100.0%), 2779.57 column/sec. Elapsed time 13.71 sec\n",
      "EvaluatorHoldout: Ignoring 167 ( 0.5%) Users that have less than 1 test interactions\n",
      "EvaluatorHoldout: Processed 35569 (100.0%) in 39.07 sec. Users per second: 910\n",
      "Similarity column 38121 (100.0%), 2772.54 column/sec. Elapsed time 13.75 sec\n",
      "EvaluatorHoldout: Ignoring 172 ( 0.5%) Users that have less than 1 test interactions\n",
      "EvaluatorHoldout: Processed 35564 (100.0%) in 39.52 sec. Users per second: 900\n"
     ]
    },
    {
     "name": "stderr",
     "output_type": "stream",
     "text": [
      "[I 2025-01-07 05:27:58,924] Trial 682 finished with value: 0.264925826956968 and parameters: {'similarity': 'asymmetric', 'topK': 70, 'shrink': 691, 'feature_weighting': 'TF-IDF', 'asymmetric_alpha': 0.2435781537937434}. Best is trial 570 with value: 0.2659280370505061.\n"
     ]
    },
    {
     "name": "stdout",
     "output_type": "stream",
     "text": [
      "Similarity column 38121 (100.0%), 2795.48 column/sec. Elapsed time 13.64 sec\n",
      "EvaluatorHoldout: Ignoring 173 ( 0.5%) Users that have less than 1 test interactions\n",
      "EvaluatorHoldout: Processed 35563 (100.0%) in 38.73 sec. Users per second: 918\n",
      "Similarity column 38121 (100.0%), 2785.94 column/sec. Elapsed time 13.68 sec\n",
      "EvaluatorHoldout: Ignoring 163 ( 0.5%) Users that have less than 1 test interactions\n",
      "EvaluatorHoldout: Processed 35573 (100.0%) in 38.95 sec. Users per second: 913\n",
      "Similarity column 38121 (100.0%), 2784.38 column/sec. Elapsed time 13.69 sec\n",
      "EvaluatorHoldout: Ignoring 150 ( 0.4%) Users that have less than 1 test interactions\n",
      "EvaluatorHoldout: Processed 35586 (100.0%) in 39.07 sec. Users per second: 911\n",
      "Similarity column 38121 (100.0%), 2774.25 column/sec. Elapsed time 13.74 sec\n",
      "EvaluatorHoldout: Ignoring 167 ( 0.5%) Users that have less than 1 test interactions\n",
      "EvaluatorHoldout: Processed 35569 (100.0%) in 38.89 sec. Users per second: 915\n",
      "Similarity column 38121 (100.0%), 2828.76 column/sec. Elapsed time 13.48 sec\n",
      "EvaluatorHoldout: Ignoring 172 ( 0.5%) Users that have less than 1 test interactions\n",
      "EvaluatorHoldout: Processed 35564 (100.0%) in 38.53 sec. Users per second: 923\n"
     ]
    },
    {
     "name": "stderr",
     "output_type": "stream",
     "text": [
      "[I 2025-01-07 05:32:23,453] Trial 683 finished with value: 0.26570401879254046 and parameters: {'similarity': 'asymmetric', 'topK': 71, 'shrink': 749, 'feature_weighting': 'TF-IDF', 'asymmetric_alpha': 0.15731995223702214}. Best is trial 570 with value: 0.2659280370505061.\n"
     ]
    },
    {
     "name": "stdout",
     "output_type": "stream",
     "text": [
      "Similarity column 38121 (100.0%), 2768.78 column/sec. Elapsed time 13.77 sec\n",
      "EvaluatorHoldout: Ignoring 173 ( 0.5%) Users that have less than 1 test interactions\n",
      "EvaluatorHoldout: Processed 35563 (100.0%) in 39.53 sec. Users per second: 900\n",
      "Similarity column 38121 (100.0%), 2795.31 column/sec. Elapsed time 13.64 sec\n",
      "EvaluatorHoldout: Ignoring 163 ( 0.5%) Users that have less than 1 test interactions\n",
      "EvaluatorHoldout: Processed 35573 (100.0%) in 39.39 sec. Users per second: 903\n",
      "Similarity column 38121 (100.0%), 2827.81 column/sec. Elapsed time 13.48 sec\n",
      "EvaluatorHoldout: Ignoring 150 ( 0.4%) Users that have less than 1 test interactions\n",
      "EvaluatorHoldout: Processed 35586 (100.0%) in 38.47 sec. Users per second: 925\n",
      "Similarity column 38121 (100.0%), 2789.83 column/sec. Elapsed time 13.66 sec\n",
      "EvaluatorHoldout: Ignoring 167 ( 0.5%) Users that have less than 1 test interactions\n",
      "EvaluatorHoldout: Processed 35569 (100.0%) in 38.52 sec. Users per second: 923\n",
      "Similarity column 38121 (100.0%), 2825.29 column/sec. Elapsed time 13.49 sec\n",
      "EvaluatorHoldout: Ignoring 172 ( 0.5%) Users that have less than 1 test interactions\n",
      "EvaluatorHoldout: Processed 35564 (100.0%) in 38.33 sec. Users per second: 928\n"
     ]
    },
    {
     "name": "stderr",
     "output_type": "stream",
     "text": [
      "[I 2025-01-07 05:36:47,864] Trial 684 finished with value: 0.26562903321189013 and parameters: {'similarity': 'asymmetric', 'topK': 72, 'shrink': 747, 'feature_weighting': 'TF-IDF', 'asymmetric_alpha': 0.16045140125615662}. Best is trial 570 with value: 0.2659280370505061.\n"
     ]
    },
    {
     "name": "stdout",
     "output_type": "stream",
     "text": [
      "Similarity column 38121 (100.0%), 2797.11 column/sec. Elapsed time 13.63 sec\n",
      "EvaluatorHoldout: Ignoring 173 ( 0.5%) Users that have less than 1 test interactions\n",
      "EvaluatorHoldout: Processed 35563 (100.0%) in 38.20 sec. Users per second: 931\n",
      "Similarity column 38121 (100.0%), 2836.98 column/sec. Elapsed time 13.44 sec\n",
      "EvaluatorHoldout: Ignoring 163 ( 0.5%) Users that have less than 1 test interactions\n",
      "EvaluatorHoldout: Processed 35573 (100.0%) in 38.97 sec. Users per second: 913\n",
      "Similarity column 38121 (100.0%), 2820.98 column/sec. Elapsed time 13.51 sec\n",
      "EvaluatorHoldout: Ignoring 150 ( 0.4%) Users that have less than 1 test interactions\n",
      "EvaluatorHoldout: Processed 35586 (100.0%) in 38.77 sec. Users per second: 918\n",
      "Similarity column 38121 (100.0%), 2745.41 column/sec. Elapsed time 13.89 sec\n",
      "EvaluatorHoldout: Ignoring 167 ( 0.5%) Users that have less than 1 test interactions\n",
      "EvaluatorHoldout: Processed 35569 (100.0%) in 39.25 sec. Users per second: 906\n",
      "Similarity column 38121 (100.0%), 2808.80 column/sec. Elapsed time 13.57 sec\n",
      "EvaluatorHoldout: Ignoring 172 ( 0.5%) Users that have less than 1 test interactions\n",
      "EvaluatorHoldout: Processed 35564 (100.0%) in 38.80 sec. Users per second: 917\n"
     ]
    },
    {
     "name": "stderr",
     "output_type": "stream",
     "text": [
      "[I 2025-01-07 05:41:11,932] Trial 685 finished with value: 0.26569217150275964 and parameters: {'similarity': 'asymmetric', 'topK': 69, 'shrink': 762, 'feature_weighting': 'TF-IDF', 'asymmetric_alpha': 0.16883349407459364}. Best is trial 570 with value: 0.2659280370505061.\n"
     ]
    },
    {
     "name": "stdout",
     "output_type": "stream",
     "text": [
      "Similarity column 38121 (100.0%), 2778.07 column/sec. Elapsed time 13.72 sec\n",
      "EvaluatorHoldout: Ignoring 173 ( 0.5%) Users that have less than 1 test interactions\n",
      "EvaluatorHoldout: Processed 35563 (100.0%) in 42.83 sec. Users per second: 830\n",
      "Similarity column 38121 (100.0%), 2791.08 column/sec. Elapsed time 13.66 sec\n",
      "EvaluatorHoldout: Ignoring 163 ( 0.5%) Users that have less than 1 test interactions\n",
      "EvaluatorHoldout: Processed 35573 (100.0%) in 42.80 sec. Users per second: 831\n",
      "Similarity column 38121 (100.0%), 2776.55 column/sec. Elapsed time 13.73 sec\n",
      "EvaluatorHoldout: Ignoring 150 ( 0.4%) Users that have less than 1 test interactions\n",
      "EvaluatorHoldout: Processed 35586 (100.0%) in 42.50 sec. Users per second: 837\n",
      "Similarity column 38121 (100.0%), 2765.57 column/sec. Elapsed time 13.78 sec\n",
      "EvaluatorHoldout: Ignoring 167 ( 0.5%) Users that have less than 1 test interactions\n",
      "EvaluatorHoldout: Processed 35569 (100.0%) in 43.15 sec. Users per second: 824\n",
      "Similarity column 38121 (100.0%), 2712.94 column/sec. Elapsed time 14.05 sec\n",
      "EvaluatorHoldout: Ignoring 172 ( 0.5%) Users that have less than 1 test interactions\n",
      "EvaluatorHoldout: Processed 35564 (100.0%) in 42.73 sec. Users per second: 832\n"
     ]
    },
    {
     "name": "stderr",
     "output_type": "stream",
     "text": [
      "[I 2025-01-07 05:45:56,469] Trial 686 finished with value: 0.212179632870611 and parameters: {'similarity': 'asymmetric', 'topK': 69, 'shrink': 753, 'feature_weighting': 'none', 'asymmetric_alpha': 0.32000748337544815}. Best is trial 570 with value: 0.2659280370505061.\n"
     ]
    },
    {
     "name": "stdout",
     "output_type": "stream",
     "text": [
      "Similarity column 38121 (100.0%), 2808.26 column/sec. Elapsed time 13.57 sec\n",
      "EvaluatorHoldout: Ignoring 173 ( 0.5%) Users that have less than 1 test interactions\n",
      "EvaluatorHoldout: Processed 35563 (100.0%) in 38.32 sec. Users per second: 928\n",
      "Similarity column 38121 (100.0%), 2813.21 column/sec. Elapsed time 13.55 sec\n",
      "EvaluatorHoldout: Ignoring 163 ( 0.5%) Users that have less than 1 test interactions\n",
      "EvaluatorHoldout: Processed 35573 (100.0%) in 38.84 sec. Users per second: 916\n",
      "Similarity column 38121 (100.0%), 2823.47 column/sec. Elapsed time 13.50 sec\n",
      "EvaluatorHoldout: Ignoring 150 ( 0.4%) Users that have less than 1 test interactions\n",
      "EvaluatorHoldout: Processed 35586 (100.0%) in 38.94 sec. Users per second: 914\n",
      "Similarity column 38121 (100.0%), 2821.80 column/sec. Elapsed time 13.51 sec\n",
      "EvaluatorHoldout: Ignoring 167 ( 0.5%) Users that have less than 1 test interactions\n",
      "EvaluatorHoldout: Processed 35569 (100.0%) in 39.67 sec. Users per second: 897\n",
      "Similarity column 38121 (100.0%), 2783.69 column/sec. Elapsed time 13.69 sec\n",
      "EvaluatorHoldout: Ignoring 172 ( 0.5%) Users that have less than 1 test interactions\n",
      "EvaluatorHoldout: Processed 35564 (100.0%) in 39.66 sec. Users per second: 897\n"
     ]
    },
    {
     "name": "stderr",
     "output_type": "stream",
     "text": [
      "[I 2025-01-07 05:50:21,785] Trial 687 finished with value: 0.26506064367336746 and parameters: {'similarity': 'asymmetric', 'topK': 68, 'shrink': 740, 'feature_weighting': 'TF-IDF', 'asymmetric_alpha': 0.23495070658059983}. Best is trial 570 with value: 0.2659280370505061.\n"
     ]
    },
    {
     "name": "stdout",
     "output_type": "stream",
     "text": [
      "Similarity column 38121 (100.0%), 2822.84 column/sec. Elapsed time 13.50 sec\n",
      "EvaluatorHoldout: Ignoring 173 ( 0.5%) Users that have less than 1 test interactions\n",
      "EvaluatorHoldout: Processed 35563 (100.0%) in 38.87 sec. Users per second: 915\n",
      "Similarity column 38121 (100.0%), 2809.96 column/sec. Elapsed time 13.57 sec\n",
      "EvaluatorHoldout: Ignoring 163 ( 0.5%) Users that have less than 1 test interactions\n",
      "EvaluatorHoldout: Processed 35573 (100.0%) in 38.55 sec. Users per second: 923\n",
      "Similarity column 38121 (100.0%), 2791.33 column/sec. Elapsed time 13.66 sec\n",
      "EvaluatorHoldout: Ignoring 150 ( 0.4%) Users that have less than 1 test interactions\n",
      "EvaluatorHoldout: Processed 35586 (100.0%) in 38.27 sec. Users per second: 930\n",
      "Similarity column 38121 (100.0%), 2801.64 column/sec. Elapsed time 13.61 sec\n",
      "EvaluatorHoldout: Ignoring 167 ( 0.5%) Users that have less than 1 test interactions\n",
      "EvaluatorHoldout: Processed 35569 (100.0%) in 38.94 sec. Users per second: 913\n",
      "Similarity column 38121 (100.0%), 2784.82 column/sec. Elapsed time 13.69 sec\n",
      "EvaluatorHoldout: Ignoring 172 ( 0.5%) Users that have less than 1 test interactions\n",
      "EvaluatorHoldout: Processed 35564 (100.0%) in 38.77 sec. Users per second: 917\n"
     ]
    },
    {
     "name": "stderr",
     "output_type": "stream",
     "text": [
      "[I 2025-01-07 05:54:45,311] Trial 688 finished with value: 0.26565697480530137 and parameters: {'similarity': 'asymmetric', 'topK': 70, 'shrink': 770, 'feature_weighting': 'TF-IDF', 'asymmetric_alpha': 0.1632556750171156}. Best is trial 570 with value: 0.2659280370505061.\n"
     ]
    },
    {
     "name": "stdout",
     "output_type": "stream",
     "text": [
      "Similarity column 38121 (100.0%), 2766.99 column/sec. Elapsed time 13.78 sec\n",
      "EvaluatorHoldout: Ignoring 173 ( 0.5%) Users that have less than 1 test interactions\n",
      "EvaluatorHoldout: Processed 35563 (100.0%) in 39.29 sec. Users per second: 905\n",
      "Similarity column 38121 (100.0%), 2792.83 column/sec. Elapsed time 13.65 sec\n",
      "EvaluatorHoldout: Ignoring 163 ( 0.5%) Users that have less than 1 test interactions\n",
      "EvaluatorHoldout: Processed 35573 (100.0%) in 39.23 sec. Users per second: 907\n",
      "Similarity column 38121 (100.0%), 2724.28 column/sec. Elapsed time 13.99 sec\n",
      "EvaluatorHoldout: Ignoring 150 ( 0.4%) Users that have less than 1 test interactions\n",
      "EvaluatorHoldout: Processed 35586 (100.0%) in 39.45 sec. Users per second: 902\n",
      "Similarity column 38121 (100.0%), 2767.05 column/sec. Elapsed time 13.78 sec\n",
      "EvaluatorHoldout: Ignoring 167 ( 0.5%) Users that have less than 1 test interactions\n",
      "EvaluatorHoldout: Processed 35569 (100.0%) in 38.54 sec. Users per second: 923\n",
      "Similarity column 38121 (100.0%), 2805.55 column/sec. Elapsed time 13.59 sec\n",
      "EvaluatorHoldout: Ignoring 172 ( 0.5%) Users that have less than 1 test interactions\n",
      "EvaluatorHoldout: Processed 35564 (100.0%) in 38.42 sec. Users per second: 926\n"
     ]
    },
    {
     "name": "stderr",
     "output_type": "stream",
     "text": [
      "[I 2025-01-07 05:59:11,175] Trial 689 finished with value: 0.2657416790588787 and parameters: {'similarity': 'asymmetric', 'topK': 70, 'shrink': 775, 'feature_weighting': 'TF-IDF', 'asymmetric_alpha': 0.1584842353819049}. Best is trial 570 with value: 0.2659280370505061.\n"
     ]
    },
    {
     "name": "stdout",
     "output_type": "stream",
     "text": [
      "Similarity column 38121 (100.0%), 2821.81 column/sec. Elapsed time 13.51 sec\n",
      "EvaluatorHoldout: Ignoring 173 ( 0.5%) Users that have less than 1 test interactions\n",
      "EvaluatorHoldout: Processed 35563 (100.0%) in 38.96 sec. Users per second: 913\n",
      "Similarity column 38121 (100.0%), 2773.85 column/sec. Elapsed time 13.74 sec\n",
      "EvaluatorHoldout: Ignoring 163 ( 0.5%) Users that have less than 1 test interactions\n",
      "EvaluatorHoldout: Processed 35573 (100.0%) in 38.97 sec. Users per second: 913\n",
      "Similarity column 38121 (100.0%), 2797.69 column/sec. Elapsed time 13.63 sec\n",
      "EvaluatorHoldout: Ignoring 150 ( 0.4%) Users that have less than 1 test interactions\n",
      "EvaluatorHoldout: Processed 35586 (100.0%) in 38.61 sec. Users per second: 922\n",
      "Similarity column 38121 (100.0%), 2823.83 column/sec. Elapsed time 13.50 sec\n",
      "EvaluatorHoldout: Ignoring 167 ( 0.5%) Users that have less than 1 test interactions\n",
      "EvaluatorHoldout: Processed 35569 (100.0%) in 38.93 sec. Users per second: 914\n",
      "Similarity column 38121 (100.0%), 2785.14 column/sec. Elapsed time 13.69 sec\n",
      "EvaluatorHoldout: Ignoring 172 ( 0.5%) Users that have less than 1 test interactions\n",
      "EvaluatorHoldout: Processed 35564 (100.0%) in 38.50 sec. Users per second: 924\n"
     ]
    },
    {
     "name": "stderr",
     "output_type": "stream",
     "text": [
      "[I 2025-01-07 06:03:35,321] Trial 690 finished with value: 0.26568922108351 and parameters: {'similarity': 'asymmetric', 'topK': 69, 'shrink': 776, 'feature_weighting': 'TF-IDF', 'asymmetric_alpha': 0.16741617867108982}. Best is trial 570 with value: 0.2659280370505061.\n"
     ]
    },
    {
     "name": "stdout",
     "output_type": "stream",
     "text": [
      "Similarity column 38121 (100.0%), 2864.73 column/sec. Elapsed time 13.31 sec\n",
      "EvaluatorHoldout: Ignoring 173 ( 0.5%) Users that have less than 1 test interactions\n",
      "EvaluatorHoldout: Processed 35563 (100.0%) in 45.97 sec. Users per second: 774\n",
      "Similarity column 38121 (100.0%), 2809.07 column/sec. Elapsed time 13.57 sec\n",
      "EvaluatorHoldout: Ignoring 163 ( 0.5%) Users that have less than 1 test interactions\n",
      "EvaluatorHoldout: Processed 35573 (100.0%) in 46.52 sec. Users per second: 765\n",
      "Similarity column 38121 (100.0%), 2868.40 column/sec. Elapsed time 13.29 sec\n",
      "EvaluatorHoldout: Ignoring 150 ( 0.4%) Users that have less than 1 test interactions\n",
      "EvaluatorHoldout: Processed 35586 (100.0%) in 46.04 sec. Users per second: 773\n",
      "Similarity column 38121 (100.0%), 2845.95 column/sec. Elapsed time 13.39 sec\n",
      "EvaluatorHoldout: Ignoring 167 ( 0.5%) Users that have less than 1 test interactions\n",
      "EvaluatorHoldout: Processed 35569 (100.0%) in 45.95 sec. Users per second: 774\n",
      "Similarity column 38121 (100.0%), 2855.41 column/sec. Elapsed time 13.35 sec\n",
      "EvaluatorHoldout: Ignoring 172 ( 0.5%) Users that have less than 1 test interactions\n",
      "EvaluatorHoldout: Processed 35564 (100.0%) in 46.63 sec. Users per second: 763\n"
     ]
    },
    {
     "name": "stderr",
     "output_type": "stream",
     "text": [
      "[I 2025-01-07 06:08:35,362] Trial 691 finished with value: 0.17588417996539918 and parameters: {'similarity': 'asymmetric', 'topK': 69, 'shrink': 775, 'feature_weighting': 'TF-IDF', 'asymmetric_alpha': 1.31716700133575}. Best is trial 570 with value: 0.2659280370505061.\n"
     ]
    },
    {
     "name": "stdout",
     "output_type": "stream",
     "text": [
      "Similarity column 38121 (100.0%), 2770.09 column/sec. Elapsed time 13.76 sec\n",
      "EvaluatorHoldout: Ignoring 173 ( 0.5%) Users that have less than 1 test interactions\n",
      "EvaluatorHoldout: Processed 35563 (100.0%) in 39.96 sec. Users per second: 890\n",
      "Similarity column 38121 (100.0%), 2826.16 column/sec. Elapsed time 13.49 sec\n",
      "EvaluatorHoldout: Ignoring 163 ( 0.5%) Users that have less than 1 test interactions\n",
      "EvaluatorHoldout: Processed 35573 (100.0%) in 39.42 sec. Users per second: 902\n",
      "Similarity column 38121 (100.0%), 2706.04 column/sec. Elapsed time 14.09 sec\n",
      "EvaluatorHoldout: Ignoring 150 ( 0.4%) Users that have less than 1 test interactions\n",
      "EvaluatorHoldout: Processed 35586 (100.0%) in 39.16 sec. Users per second: 909\n",
      "Similarity column 38121 (100.0%), 2811.59 column/sec. Elapsed time 13.56 sec\n",
      "EvaluatorHoldout: Ignoring 167 ( 0.5%) Users that have less than 1 test interactions\n",
      "EvaluatorHoldout: Processed 35569 (100.0%) in 38.75 sec. Users per second: 918\n",
      "Similarity column 38121 (100.0%), 2824.69 column/sec. Elapsed time 13.50 sec\n",
      "EvaluatorHoldout: Ignoring 172 ( 0.5%) Users that have less than 1 test interactions\n",
      "EvaluatorHoldout: Processed 35564 (100.0%) in 39.06 sec. Users per second: 910\n"
     ]
    },
    {
     "name": "stderr",
     "output_type": "stream",
     "text": [
      "[I 2025-01-07 06:13:02,308] Trial 692 finished with value: 0.26483795885172445 and parameters: {'similarity': 'asymmetric', 'topK': 79, 'shrink': 803, 'feature_weighting': 'TF-IDF', 'asymmetric_alpha': 0.17006141082902804}. Best is trial 570 with value: 0.2659280370505061.\n"
     ]
    },
    {
     "name": "stdout",
     "output_type": "stream",
     "text": [
      "Similarity column 38121 (100.0%), 2836.78 column/sec. Elapsed time 13.44 sec\n",
      "EvaluatorHoldout: Ignoring 173 ( 0.5%) Users that have less than 1 test interactions\n",
      "EvaluatorHoldout: Processed 35563 (100.0%) in 37.99 sec. Users per second: 936\n",
      "Similarity column 38121 (100.0%), 2811.35 column/sec. Elapsed time 13.56 sec\n",
      "EvaluatorHoldout: Ignoring 163 ( 0.5%) Users that have less than 1 test interactions\n",
      "EvaluatorHoldout: Processed 35573 (100.0%) in 38.05 sec. Users per second: 935\n",
      "Similarity column 38121 (100.0%), 2826.58 column/sec. Elapsed time 13.49 sec\n",
      "EvaluatorHoldout: Ignoring 150 ( 0.4%) Users that have less than 1 test interactions\n",
      "EvaluatorHoldout: Processed 35586 (100.0%) in 38.38 sec. Users per second: 927\n",
      "Similarity column 38121 (100.0%), 2797.56 column/sec. Elapsed time 13.63 sec\n",
      "EvaluatorHoldout: Ignoring 167 ( 0.5%) Users that have less than 1 test interactions\n",
      "EvaluatorHoldout: Processed 35569 (100.0%) in 38.74 sec. Users per second: 918\n",
      "Similarity column 38121 (100.0%), 2807.32 column/sec. Elapsed time 13.58 sec\n",
      "EvaluatorHoldout: Ignoring 172 ( 0.5%) Users that have less than 1 test interactions\n",
      "EvaluatorHoldout: Processed 35564 (100.0%) in 38.19 sec. Users per second: 931\n"
     ]
    },
    {
     "name": "stderr",
     "output_type": "stream",
     "text": [
      "[I 2025-01-07 06:17:23,394] Trial 693 finished with value: 0.2654026039386218 and parameters: {'similarity': 'asymmetric', 'topK': 64, 'shrink': 718, 'feature_weighting': 'TF-IDF', 'asymmetric_alpha': 0.2284066033585056}. Best is trial 570 with value: 0.2659280370505061.\n"
     ]
    },
    {
     "name": "stdout",
     "output_type": "stream",
     "text": [
      "Similarity column 38121 (100.0%), 2836.28 column/sec. Elapsed time 13.44 sec\n",
      "EvaluatorHoldout: Ignoring 173 ( 0.5%) Users that have less than 1 test interactions\n",
      "EvaluatorHoldout: Processed 35563 (100.0%) in 39.05 sec. Users per second: 911\n",
      "Similarity column 38121 (100.0%), 2782.25 column/sec. Elapsed time 13.70 sec\n",
      "EvaluatorHoldout: Ignoring 163 ( 0.5%) Users that have less than 1 test interactions\n",
      "EvaluatorHoldout: Processed 35573 (100.0%) in 38.84 sec. Users per second: 916\n",
      "Similarity column 38121 (100.0%), 2814.58 column/sec. Elapsed time 13.54 sec\n",
      "EvaluatorHoldout: Ignoring 150 ( 0.4%) Users that have less than 1 test interactions\n",
      "EvaluatorHoldout: Processed 35586 (100.0%) in 39.53 sec. Users per second: 900\n",
      "Similarity column 38121 (100.0%), 2704.36 column/sec. Elapsed time 14.10 sec\n",
      "EvaluatorHoldout: Ignoring 167 ( 0.5%) Users that have less than 1 test interactions\n",
      "EvaluatorHoldout: Processed 35569 (100.0%) in 39.00 sec. Users per second: 912\n",
      "Similarity column 38121 (100.0%), 2781.65 column/sec. Elapsed time 13.70 sec\n",
      "EvaluatorHoldout: Ignoring 172 ( 0.5%) Users that have less than 1 test interactions\n",
      "EvaluatorHoldout: Processed 35564 (100.0%) in 40.15 sec. Users per second: 886\n"
     ]
    },
    {
     "name": "stderr",
     "output_type": "stream",
     "text": [
      "[I 2025-01-07 06:21:50,628] Trial 694 finished with value: 0.23191627870045212 and parameters: {'similarity': 'asymmetric', 'topK': 70, 'shrink': 720, 'feature_weighting': 'BM25', 'asymmetric_alpha': 0.2236766917503898}. Best is trial 570 with value: 0.2659280370505061.\n"
     ]
    },
    {
     "name": "stdout",
     "output_type": "stream",
     "text": [
      "Similarity column 38121 (100.0%), 2750.09 column/sec. Elapsed time 13.86 sec\n",
      "EvaluatorHoldout: Ignoring 173 ( 0.5%) Users that have less than 1 test interactions\n",
      "EvaluatorHoldout: Processed 35563 (100.0%) in 39.43 sec. Users per second: 902\n",
      "Similarity column 38121 (100.0%), 2819.24 column/sec. Elapsed time 13.52 sec\n",
      "EvaluatorHoldout: Ignoring 163 ( 0.5%) Users that have less than 1 test interactions\n",
      "EvaluatorHoldout: Processed 35573 (100.0%) in 39.34 sec. Users per second: 904\n",
      "Similarity column 38121 (100.0%), 2822.73 column/sec. Elapsed time 13.51 sec\n",
      "EvaluatorHoldout: Ignoring 150 ( 0.4%) Users that have less than 1 test interactions\n",
      "EvaluatorHoldout: Processed 35586 (100.0%) in 38.80 sec. Users per second: 917\n",
      "Similarity column 38121 (100.0%), 2822.56 column/sec. Elapsed time 13.51 sec\n",
      "EvaluatorHoldout: Ignoring 167 ( 0.5%) Users that have less than 1 test interactions\n",
      "EvaluatorHoldout: Processed 35569 (100.0%) in 39.16 sec. Users per second: 908\n",
      "Similarity column 38121 (100.0%), 2821.81 column/sec. Elapsed time 13.51 sec\n",
      "EvaluatorHoldout: Ignoring 172 ( 0.5%) Users that have less than 1 test interactions\n",
      "EvaluatorHoldout: Processed 35564 (100.0%) in 39.07 sec. Users per second: 910\n"
     ]
    },
    {
     "name": "stderr",
     "output_type": "stream",
     "text": [
      "[I 2025-01-07 06:26:16,406] Trial 695 finished with value: 0.26222095327953643 and parameters: {'similarity': 'asymmetric', 'topK': 69, 'shrink': 768, 'feature_weighting': 'TF-IDF', 'asymmetric_alpha': 0.34378375306046005}. Best is trial 570 with value: 0.2659280370505061.\n"
     ]
    },
    {
     "name": "stdout",
     "output_type": "stream",
     "text": [
      "Similarity column 38121 (100.0%), 2793.57 column/sec. Elapsed time 13.65 sec\n",
      "EvaluatorHoldout: Ignoring 173 ( 0.5%) Users that have less than 1 test interactions\n",
      "EvaluatorHoldout: Processed 35563 (100.0%) in 38.66 sec. Users per second: 920\n",
      "Similarity column 38121 (100.0%), 2788.13 column/sec. Elapsed time 13.67 sec\n",
      "EvaluatorHoldout: Ignoring 163 ( 0.5%) Users that have less than 1 test interactions\n",
      "EvaluatorHoldout: Processed 35573 (100.0%) in 37.85 sec. Users per second: 940\n",
      "Similarity column 38121 (100.0%), 2835.52 column/sec. Elapsed time 13.44 sec\n",
      "EvaluatorHoldout: Ignoring 150 ( 0.4%) Users that have less than 1 test interactions\n",
      "EvaluatorHoldout: Processed 35586 (100.0%) in 38.06 sec. Users per second: 935\n",
      "Similarity column 38121 (100.0%), 2798.34 column/sec. Elapsed time 13.62 sec\n",
      "EvaluatorHoldout: Ignoring 167 ( 0.5%) Users that have less than 1 test interactions\n",
      "EvaluatorHoldout: Processed 35569 (100.0%) in 37.99 sec. Users per second: 936\n",
      "Similarity column 38121 (100.0%), 2842.13 column/sec. Elapsed time 13.41 sec\n",
      "EvaluatorHoldout: Ignoring 172 ( 0.5%) Users that have less than 1 test interactions\n",
      "EvaluatorHoldout: Processed 35564 (100.0%) in 38.27 sec. Users per second: 929\n"
     ]
    },
    {
     "name": "stderr",
     "output_type": "stream",
     "text": [
      "[I 2025-01-07 06:30:37,035] Trial 696 finished with value: 0.2660048605282281 and parameters: {'similarity': 'asymmetric', 'topK': 67, 'shrink': 704, 'feature_weighting': 'TF-IDF', 'asymmetric_alpha': 0.1718107900260464}. Best is trial 696 with value: 0.2660048605282281.\n"
     ]
    },
    {
     "name": "stdout",
     "output_type": "stream",
     "text": [
      "Similarity column 38121 (100.0%), 2829.70 column/sec. Elapsed time 13.47 sec\n",
      "EvaluatorHoldout: Ignoring 173 ( 0.5%) Users that have less than 1 test interactions\n",
      "EvaluatorHoldout: Processed 35563 (100.0%) in 38.05 sec. Users per second: 935\n",
      "Similarity column 38121 (100.0%), 2808.20 column/sec. Elapsed time 13.57 sec\n",
      "EvaluatorHoldout: Ignoring 163 ( 0.5%) Users that have less than 1 test interactions\n",
      "EvaluatorHoldout: Processed 35573 (100.0%) in 38.22 sec. Users per second: 931\n",
      "Similarity column 38121 (100.0%), 2833.68 column/sec. Elapsed time 13.45 sec\n",
      "EvaluatorHoldout: Ignoring 150 ( 0.4%) Users that have less than 1 test interactions\n",
      "EvaluatorHoldout: Processed 35586 (100.0%) in 38.35 sec. Users per second: 928\n",
      "Similarity column 38121 (100.0%), 2804.11 column/sec. Elapsed time 13.59 sec\n",
      "EvaluatorHoldout: Ignoring 167 ( 0.5%) Users that have less than 1 test interactions\n",
      "EvaluatorHoldout: Processed 35569 (100.0%) in 38.16 sec. Users per second: 932\n",
      "Similarity column 38121 (100.0%), 2822.02 column/sec. Elapsed time 13.51 sec\n",
      "EvaluatorHoldout: Ignoring 172 ( 0.5%) Users that have less than 1 test interactions\n",
      "EvaluatorHoldout: Processed 35564 (100.0%) in 37.98 sec. Users per second: 936\n"
     ]
    },
    {
     "name": "stderr",
     "output_type": "stream",
     "text": [
      "[I 2025-01-07 06:34:57,413] Trial 697 finished with value: 0.2660171925231135 and parameters: {'similarity': 'asymmetric', 'topK': 66, 'shrink': 736, 'feature_weighting': 'TF-IDF', 'asymmetric_alpha': 0.16819155955339876}. Best is trial 697 with value: 0.2660171925231135.\n"
     ]
    },
    {
     "name": "stdout",
     "output_type": "stream",
     "text": [
      "Similarity column 38121 (100.0%), 2812.87 column/sec. Elapsed time 13.55 sec\n",
      "EvaluatorHoldout: Ignoring 173 ( 0.5%) Users that have less than 1 test interactions\n",
      "EvaluatorHoldout: Processed 35563 (100.0%) in 38.33 sec. Users per second: 928\n",
      "Similarity column 38121 (100.0%), 2767.71 column/sec. Elapsed time 13.77 sec\n",
      "EvaluatorHoldout: Ignoring 163 ( 0.5%) Users that have less than 1 test interactions\n",
      "EvaluatorHoldout: Processed 35573 (100.0%) in 38.53 sec. Users per second: 923\n",
      "Similarity column 38121 (100.0%), 2818.65 column/sec. Elapsed time 13.52 sec\n",
      "EvaluatorHoldout: Ignoring 150 ( 0.4%) Users that have less than 1 test interactions\n",
      "EvaluatorHoldout: Processed 35586 (100.0%) in 38.39 sec. Users per second: 927\n",
      "Similarity column 38121 (100.0%), 2807.91 column/sec. Elapsed time 13.58 sec\n",
      "EvaluatorHoldout: Ignoring 167 ( 0.5%) Users that have less than 1 test interactions\n",
      "EvaluatorHoldout: Processed 35569 (100.0%) in 38.41 sec. Users per second: 926\n",
      "Similarity column 38121 (100.0%), 2823.15 column/sec. Elapsed time 13.50 sec\n",
      "EvaluatorHoldout: Ignoring 172 ( 0.5%) Users that have less than 1 test interactions\n",
      "EvaluatorHoldout: Processed 35564 (100.0%) in 38.35 sec. Users per second: 927\n"
     ]
    },
    {
     "name": "stderr",
     "output_type": "stream",
     "text": [
      "[I 2025-01-07 06:39:19,437] Trial 698 finished with value: 0.26582365886161813 and parameters: {'similarity': 'asymmetric', 'topK': 68, 'shrink': 739, 'feature_weighting': 'TF-IDF', 'asymmetric_alpha': 0.17252661713676948}. Best is trial 697 with value: 0.2660171925231135.\n"
     ]
    },
    {
     "name": "stdout",
     "output_type": "stream",
     "text": [
      "Similarity column 38121 (100.0%), 2827.91 column/sec. Elapsed time 13.48 sec\n",
      "EvaluatorHoldout: Ignoring 173 ( 0.5%) Users that have less than 1 test interactions\n",
      "EvaluatorHoldout: Processed 35563 (100.0%) in 38.59 sec. Users per second: 922\n",
      "Similarity column 38121 (100.0%), 2779.59 column/sec. Elapsed time 13.71 sec\n",
      "EvaluatorHoldout: Ignoring 163 ( 0.5%) Users that have less than 1 test interactions\n",
      "EvaluatorHoldout: Processed 35573 (100.0%) in 38.13 sec. Users per second: 933\n",
      "Similarity column 38121 (100.0%), 2809.58 column/sec. Elapsed time 13.57 sec\n",
      "EvaluatorHoldout: Ignoring 150 ( 0.4%) Users that have less than 1 test interactions\n",
      "EvaluatorHoldout: Processed 35586 (100.0%) in 37.94 sec. Users per second: 938\n",
      "Similarity column 38121 (100.0%), 2828.14 column/sec. Elapsed time 13.48 sec\n",
      "EvaluatorHoldout: Ignoring 167 ( 0.5%) Users that have less than 1 test interactions\n",
      "EvaluatorHoldout: Processed 35569 (100.0%) in 39.22 sec. Users per second: 907\n",
      "Similarity column 38121 (100.0%), 2815.58 column/sec. Elapsed time 13.54 sec\n",
      "EvaluatorHoldout: Ignoring 172 ( 0.5%) Users that have less than 1 test interactions\n",
      "EvaluatorHoldout: Processed 35564 (100.0%) in 38.10 sec. Users per second: 933\n"
     ]
    },
    {
     "name": "stderr",
     "output_type": "stream",
     "text": [
      "[I 2025-01-07 06:43:41,242] Trial 699 finished with value: 0.26578293696893013 and parameters: {'similarity': 'asymmetric', 'topK': 67, 'shrink': 752, 'feature_weighting': 'TF-IDF', 'asymmetric_alpha': 0.176674717477518}. Best is trial 697 with value: 0.2660171925231135.\n"
     ]
    },
    {
     "name": "stdout",
     "output_type": "stream",
     "text": [
      "Similarity column 38121 (100.0%), 2835.69 column/sec. Elapsed time 13.44 sec\n",
      "EvaluatorHoldout: Ignoring 173 ( 0.5%) Users that have less than 1 test interactions\n",
      "EvaluatorHoldout: Processed 35563 (100.0%) in 38.43 sec. Users per second: 926\n",
      "Similarity column 38121 (100.0%), 2815.93 column/sec. Elapsed time 13.54 sec\n",
      "EvaluatorHoldout: Ignoring 163 ( 0.5%) Users that have less than 1 test interactions\n",
      "EvaluatorHoldout: Processed 35573 (100.0%) in 39.02 sec. Users per second: 912\n",
      "Similarity column 38121 (100.0%), 2796.61 column/sec. Elapsed time 13.63 sec\n",
      "EvaluatorHoldout: Ignoring 150 ( 0.4%) Users that have less than 1 test interactions\n",
      "EvaluatorHoldout: Processed 35586 (100.0%) in 39.06 sec. Users per second: 911\n",
      "Similarity column 38121 (100.0%), 2770.57 column/sec. Elapsed time 13.76 sec\n",
      "EvaluatorHoldout: Ignoring 167 ( 0.5%) Users that have less than 1 test interactions\n",
      "EvaluatorHoldout: Processed 35569 (100.0%) in 39.47 sec. Users per second: 901\n",
      "Similarity column 38121 (100.0%), 2830.39 column/sec. Elapsed time 13.47 sec\n",
      "EvaluatorHoldout: Ignoring 172 ( 0.5%) Users that have less than 1 test interactions\n",
      "EvaluatorHoldout: Processed 35564 (100.0%) in 38.56 sec. Users per second: 922\n"
     ]
    },
    {
     "name": "stderr",
     "output_type": "stream",
     "text": [
      "[I 2025-01-07 06:48:05,681] Trial 700 finished with value: 0.26563887990427615 and parameters: {'similarity': 'asymmetric', 'topK': 71, 'shrink': 742, 'feature_weighting': 'TF-IDF', 'asymmetric_alpha': 0.17200265827111058}. Best is trial 697 with value: 0.2660171925231135.\n"
     ]
    },
    {
     "name": "stdout",
     "output_type": "stream",
     "text": [
      "Similarity column 38121 (100.0%), 2775.40 column/sec. Elapsed time 13.74 sec\n",
      "EvaluatorHoldout: Ignoring 173 ( 0.5%) Users that have less than 1 test interactions\n",
      "EvaluatorHoldout: Processed 35563 (100.0%) in 38.88 sec. Users per second: 915\n",
      "Similarity column 38121 (100.0%), 2824.88 column/sec. Elapsed time 13.49 sec\n",
      "EvaluatorHoldout: Ignoring 163 ( 0.5%) Users that have less than 1 test interactions\n",
      "EvaluatorHoldout: Processed 35573 (100.0%) in 39.07 sec. Users per second: 911\n",
      "Similarity column 38121 (100.0%), 2838.62 column/sec. Elapsed time 13.43 sec\n",
      "EvaluatorHoldout: Ignoring 150 ( 0.4%) Users that have less than 1 test interactions\n",
      "EvaluatorHoldout: Processed 35586 (100.0%) in 38.51 sec. Users per second: 924\n",
      "Similarity column 38121 (100.0%), 2826.55 column/sec. Elapsed time 13.49 sec\n",
      "EvaluatorHoldout: Ignoring 167 ( 0.5%) Users that have less than 1 test interactions\n",
      "EvaluatorHoldout: Processed 35569 (100.0%) in 38.57 sec. Users per second: 922\n",
      "Similarity column 38121 (100.0%), 2833.57 column/sec. Elapsed time 13.45 sec\n",
      "EvaluatorHoldout: Ignoring 172 ( 0.5%) Users that have less than 1 test interactions\n",
      "EvaluatorHoldout: Processed 35564 (100.0%) in 38.73 sec. Users per second: 918\n"
     ]
    },
    {
     "name": "stderr",
     "output_type": "stream",
     "text": [
      "[I 2025-01-07 06:52:29,101] Trial 701 finished with value: 0.2640897861586372 and parameters: {'similarity': 'asymmetric', 'topK': 72, 'shrink': 801, 'feature_weighting': 'TF-IDF', 'asymmetric_alpha': 0.2596076041119277}. Best is trial 697 with value: 0.2660171925231135.\n"
     ]
    },
    {
     "name": "stdout",
     "output_type": "stream",
     "text": [
      "Similarity column 38121 (100.0%), 2832.39 column/sec. Elapsed time 13.46 sec\n",
      "EvaluatorHoldout: Ignoring 173 ( 0.5%) Users that have less than 1 test interactions\n",
      "EvaluatorHoldout: Processed 35563 (100.0%) in 38.26 sec. Users per second: 930\n",
      "Similarity column 38121 (100.0%), 2811.56 column/sec. Elapsed time 13.56 sec\n",
      "EvaluatorHoldout: Ignoring 163 ( 0.5%) Users that have less than 1 test interactions\n",
      "EvaluatorHoldout: Processed 35573 (100.0%) in 38.12 sec. Users per second: 933\n",
      "Similarity column 38121 (100.0%), 2839.68 column/sec. Elapsed time 13.42 sec\n",
      "EvaluatorHoldout: Ignoring 150 ( 0.4%) Users that have less than 1 test interactions\n",
      "EvaluatorHoldout: Processed 35586 (100.0%) in 38.28 sec. Users per second: 930\n",
      "Similarity column 38121 (100.0%), 2809.52 column/sec. Elapsed time 13.57 sec\n",
      "EvaluatorHoldout: Ignoring 167 ( 0.5%) Users that have less than 1 test interactions\n",
      "EvaluatorHoldout: Processed 35569 (100.0%) in 37.89 sec. Users per second: 939\n",
      "Similarity column 38121 (100.0%), 2821.34 column/sec. Elapsed time 13.51 sec\n",
      "EvaluatorHoldout: Ignoring 172 ( 0.5%) Users that have less than 1 test interactions\n",
      "EvaluatorHoldout: Processed 35564 (100.0%) in 38.33 sec. Users per second: 928\n"
     ]
    },
    {
     "name": "stderr",
     "output_type": "stream",
     "text": [
      "[I 2025-01-07 06:56:49,544] Trial 702 finished with value: 0.26597794537257646 and parameters: {'similarity': 'asymmetric', 'topK': 65, 'shrink': 740, 'feature_weighting': 'TF-IDF', 'asymmetric_alpha': 0.17472174180872108}. Best is trial 697 with value: 0.2660171925231135.\n"
     ]
    },
    {
     "name": "stdout",
     "output_type": "stream",
     "text": [
      "Similarity column 38121 (100.0%), 2855.79 column/sec. Elapsed time 13.35 sec\n",
      "EvaluatorHoldout: Ignoring 173 ( 0.5%) Users that have less than 1 test interactions\n",
      "EvaluatorHoldout: Processed 35563 (100.0%) in 46.87 sec. Users per second: 759\n",
      "Similarity column 38121 (100.0%), 2836.67 column/sec. Elapsed time 13.44 sec\n",
      "EvaluatorHoldout: Ignoring 163 ( 0.5%) Users that have less than 1 test interactions\n",
      "EvaluatorHoldout: Processed 35573 (100.0%) in 47.70 sec. Users per second: 746\n",
      "Similarity column 38121 (100.0%), 2788.13 column/sec. Elapsed time 13.67 sec\n",
      "EvaluatorHoldout: Ignoring 150 ( 0.4%) Users that have less than 1 test interactions\n",
      "EvaluatorHoldout: Processed 35586 (100.0%) in 47.21 sec. Users per second: 754\n",
      "Similarity column 38121 (100.0%), 2610.49 column/sec. Elapsed time 14.60 sec\n",
      "EvaluatorHoldout: Ignoring 167 ( 0.5%) Users that have less than 1 test interactions\n",
      "EvaluatorHoldout: Processed 35569 (100.0%) in 48.48 sec. Users per second: 734\n",
      "Similarity column 38121 (100.0%), 2815.93 column/sec. Elapsed time 13.54 sec\n",
      "EvaluatorHoldout: Ignoring 172 ( 0.5%) Users that have less than 1 test interactions\n",
      "EvaluatorHoldout: Processed 35564 (100.0%) in 47.33 sec. Users per second: 751\n"
     ]
    },
    {
     "name": "stderr",
     "output_type": "stream",
     "text": [
      "[I 2025-01-07 07:01:57,828] Trial 703 finished with value: 0.14693540964557342 and parameters: {'similarity': 'asymmetric', 'topK': 71, 'shrink': 755, 'feature_weighting': 'TF-IDF', 'asymmetric_alpha': 1.7637101356399403}. Best is trial 697 with value: 0.2660171925231135.\n"
     ]
    },
    {
     "name": "stdout",
     "output_type": "stream",
     "text": [
      "Similarity column 38121 (100.0%), 2789.62 column/sec. Elapsed time 13.67 sec\n",
      "EvaluatorHoldout: Ignoring 173 ( 0.5%) Users that have less than 1 test interactions\n",
      "EvaluatorHoldout: Processed 35563 (100.0%) in 38.29 sec. Users per second: 929\n",
      "Similarity column 38121 (100.0%), 2816.70 column/sec. Elapsed time 13.53 sec\n",
      "EvaluatorHoldout: Ignoring 163 ( 0.5%) Users that have less than 1 test interactions\n",
      "EvaluatorHoldout: Processed 35573 (100.0%) in 38.34 sec. Users per second: 928\n",
      "Similarity column 38121 (100.0%), 2836.31 column/sec. Elapsed time 13.44 sec\n",
      "EvaluatorHoldout: Ignoring 150 ( 0.4%) Users that have less than 1 test interactions\n",
      "EvaluatorHoldout: Processed 35586 (100.0%) in 38.57 sec. Users per second: 923\n",
      "Similarity column 38121 (100.0%), 2782.04 column/sec. Elapsed time 13.70 sec\n",
      "EvaluatorHoldout: Ignoring 167 ( 0.5%) Users that have less than 1 test interactions\n",
      "EvaluatorHoldout: Processed 35569 (100.0%) in 38.41 sec. Users per second: 926\n",
      "Similarity column 38121 (100.0%), 2825.51 column/sec. Elapsed time 13.49 sec\n",
      "EvaluatorHoldout: Ignoring 172 ( 0.5%) Users that have less than 1 test interactions\n",
      "EvaluatorHoldout: Processed 35564 (100.0%) in 38.20 sec. Users per second: 931\n"
     ]
    },
    {
     "name": "stderr",
     "output_type": "stream",
     "text": [
      "[I 2025-01-07 07:06:19,543] Trial 704 finished with value: 0.2654244681906784 and parameters: {'similarity': 'asymmetric', 'topK': 65, 'shrink': 737, 'feature_weighting': 'TF-IDF', 'asymmetric_alpha': 0.22040860356441222}. Best is trial 697 with value: 0.2660171925231135.\n"
     ]
    },
    {
     "name": "stdout",
     "output_type": "stream",
     "text": [
      "Similarity column 38121 (100.0%), 2853.63 column/sec. Elapsed time 13.36 sec\n",
      "EvaluatorHoldout: Ignoring 173 ( 0.5%) Users that have less than 1 test interactions\n",
      "EvaluatorHoldout: Processed 35563 (100.0%) in 39.02 sec. Users per second: 911\n",
      "Similarity column 38121 (100.0%), 2827.70 column/sec. Elapsed time 13.48 sec\n",
      "EvaluatorHoldout: Ignoring 163 ( 0.5%) Users that have less than 1 test interactions\n",
      "EvaluatorHoldout: Processed 35573 (100.0%) in 38.63 sec. Users per second: 921\n",
      "Similarity column 38121 (100.0%), 2857.98 column/sec. Elapsed time 13.34 sec\n",
      "EvaluatorHoldout: Ignoring 150 ( 0.4%) Users that have less than 1 test interactions\n",
      "EvaluatorHoldout: Processed 35586 (100.0%) in 38.52 sec. Users per second: 924\n",
      "Similarity column 38121 (100.0%), 2801.17 column/sec. Elapsed time 13.61 sec\n",
      "EvaluatorHoldout: Ignoring 167 ( 0.5%) Users that have less than 1 test interactions\n",
      "EvaluatorHoldout: Processed 35569 (100.0%) in 38.86 sec. Users per second: 915\n",
      "Similarity column 38121 (100.0%), 2833.40 column/sec. Elapsed time 13.45 sec\n",
      "EvaluatorHoldout: Ignoring 172 ( 0.5%) Users that have less than 1 test interactions\n",
      "EvaluatorHoldout: Processed 35564 (100.0%) in 38.71 sec. Users per second: 919\n"
     ]
    },
    {
     "name": "stderr",
     "output_type": "stream",
     "text": [
      "[I 2025-01-07 07:10:42,583] Trial 705 finished with value: 0.2608834690741156 and parameters: {'similarity': 'asymmetric', 'topK': 66, 'shrink': 781, 'feature_weighting': 'TF-IDF', 'asymmetric_alpha': 0.39273584091174557}. Best is trial 697 with value: 0.2660171925231135.\n"
     ]
    },
    {
     "name": "stdout",
     "output_type": "stream",
     "text": [
      "Similarity column 38121 (100.0%), 2825.96 column/sec. Elapsed time 13.49 sec\n",
      "EvaluatorHoldout: Ignoring 173 ( 0.5%) Users that have less than 1 test interactions\n",
      "EvaluatorHoldout: Processed 35563 (100.0%) in 38.02 sec. Users per second: 935\n",
      "Similarity column 38121 (100.0%), 2775.13 column/sec. Elapsed time 13.74 sec\n",
      "EvaluatorHoldout: Ignoring 163 ( 0.5%) Users that have less than 1 test interactions\n",
      "EvaluatorHoldout: Processed 35573 (100.0%) in 38.02 sec. Users per second: 936\n",
      "Similarity column 38121 (100.0%), 2796.07 column/sec. Elapsed time 13.63 sec\n",
      "EvaluatorHoldout: Ignoring 150 ( 0.4%) Users that have less than 1 test interactions\n",
      "EvaluatorHoldout: Processed 35586 (100.0%) in 38.69 sec. Users per second: 920\n",
      "Similarity column 38121 (100.0%), 2776.44 column/sec. Elapsed time 13.73 sec\n",
      "EvaluatorHoldout: Ignoring 167 ( 0.5%) Users that have less than 1 test interactions\n",
      "EvaluatorHoldout: Processed 35569 (100.0%) in 38.91 sec. Users per second: 914\n",
      "Similarity column 38121 (100.0%), 2769.02 column/sec. Elapsed time 13.77 sec\n",
      "EvaluatorHoldout: Ignoring 172 ( 0.5%) Users that have less than 1 test interactions\n",
      "EvaluatorHoldout: Processed 35564 (100.0%) in 39.17 sec. Users per second: 908\n"
     ]
    },
    {
     "name": "stderr",
     "output_type": "stream",
     "text": [
      "[I 2025-01-07 07:15:05,839] Trial 706 finished with value: 0.26580366259716753 and parameters: {'similarity': 'asymmetric', 'topK': 66, 'shrink': 747, 'feature_weighting': 'TF-IDF', 'asymmetric_alpha': 0.1792637024895177}. Best is trial 697 with value: 0.2660171925231135.\n"
     ]
    },
    {
     "name": "stdout",
     "output_type": "stream",
     "text": [
      "Similarity column 38121 (100.0%), 2801.37 column/sec. Elapsed time 13.61 sec\n",
      "EvaluatorHoldout: Ignoring 173 ( 0.5%) Users that have less than 1 test interactions\n",
      "EvaluatorHoldout: Processed 35563 (100.0%) in 38.35 sec. Users per second: 927\n",
      "Similarity column 38121 (100.0%), 2836.22 column/sec. Elapsed time 13.44 sec\n",
      "EvaluatorHoldout: Ignoring 163 ( 0.5%) Users that have less than 1 test interactions\n",
      "EvaluatorHoldout: Processed 35573 (100.0%) in 38.18 sec. Users per second: 932\n",
      "Similarity column 38121 (100.0%), 2812.45 column/sec. Elapsed time 13.55 sec\n",
      "EvaluatorHoldout: Ignoring 150 ( 0.4%) Users that have less than 1 test interactions\n",
      "EvaluatorHoldout: Processed 35586 (100.0%) in 37.91 sec. Users per second: 939\n",
      "Similarity column 38121 (100.0%), 2839.61 column/sec. Elapsed time 13.42 sec\n",
      "EvaluatorHoldout: Ignoring 167 ( 0.5%) Users that have less than 1 test interactions\n",
      "EvaluatorHoldout: Processed 35569 (100.0%) in 37.98 sec. Users per second: 936\n",
      "Similarity column 38121 (100.0%), 2844.57 column/sec. Elapsed time 13.40 sec\n",
      "EvaluatorHoldout: Ignoring 172 ( 0.5%) Users that have less than 1 test interactions\n",
      "EvaluatorHoldout: Processed 35564 (100.0%) in 38.03 sec. Users per second: 935\n"
     ]
    },
    {
     "name": "stderr",
     "output_type": "stream",
     "text": [
      "[I 2025-01-07 07:19:25,821] Trial 707 finished with value: 0.26575545964672903 and parameters: {'similarity': 'asymmetric', 'topK': 64, 'shrink': 758, 'feature_weighting': 'TF-IDF', 'asymmetric_alpha': 0.1911516063407804}. Best is trial 697 with value: 0.2660171925231135.\n"
     ]
    },
    {
     "name": "stdout",
     "output_type": "stream",
     "text": [
      "Similarity column 38121 (100.0%), 2793.01 column/sec. Elapsed time 13.65 sec\n",
      "EvaluatorHoldout: Ignoring 173 ( 0.5%) Users that have less than 1 test interactions\n",
      "EvaluatorHoldout: Processed 35563 (100.0%) in 41.88 sec. Users per second: 849\n",
      "Similarity column 38121 (100.0%), 2806.80 column/sec. Elapsed time 13.58 sec\n",
      "EvaluatorHoldout: Ignoring 163 ( 0.5%) Users that have less than 1 test interactions\n",
      "EvaluatorHoldout: Processed 35573 (100.0%) in 41.87 sec. Users per second: 850\n",
      "Similarity column 38121 (100.0%), 2813.81 column/sec. Elapsed time 13.55 sec\n",
      "EvaluatorHoldout: Ignoring 150 ( 0.4%) Users that have less than 1 test interactions\n",
      "EvaluatorHoldout: Processed 35586 (100.0%) in 41.58 sec. Users per second: 856\n",
      "Similarity column 38121 (100.0%), 2787.05 column/sec. Elapsed time 13.68 sec\n",
      "EvaluatorHoldout: Ignoring 167 ( 0.5%) Users that have less than 1 test interactions\n",
      "EvaluatorHoldout: Processed 35569 (100.0%) in 41.81 sec. Users per second: 851\n",
      "Similarity column 38121 (100.0%), 2783.84 column/sec. Elapsed time 13.69 sec\n",
      "EvaluatorHoldout: Ignoring 172 ( 0.5%) Users that have less than 1 test interactions\n",
      "EvaluatorHoldout: Processed 35564 (100.0%) in 41.74 sec. Users per second: 852\n"
     ]
    },
    {
     "name": "stderr",
     "output_type": "stream",
     "text": [
      "[I 2025-01-07 07:24:04,326] Trial 708 finished with value: 0.21297077952715043 and parameters: {'similarity': 'asymmetric', 'topK': 64, 'shrink': 767, 'feature_weighting': 'none', 'asymmetric_alpha': 0.1795899010682251}. Best is trial 697 with value: 0.2660171925231135.\n"
     ]
    },
    {
     "name": "stdout",
     "output_type": "stream",
     "text": [
      "Similarity column 38121 (100.0%), 2857.16 column/sec. Elapsed time 13.34 sec\n",
      "EvaluatorHoldout: Ignoring 173 ( 0.5%) Users that have less than 1 test interactions\n",
      "EvaluatorHoldout: Processed 35563 (100.0%) in 38.24 sec. Users per second: 930\n",
      "Similarity column 38121 (100.0%), 2784.73 column/sec. Elapsed time 13.69 sec\n",
      "EvaluatorHoldout: Ignoring 163 ( 0.5%) Users that have less than 1 test interactions\n",
      "EvaluatorHoldout: Processed 35573 (100.0%) in 38.33 sec. Users per second: 928\n",
      "Similarity column 38121 (100.0%), 2816.60 column/sec. Elapsed time 13.53 sec\n",
      "EvaluatorHoldout: Ignoring 150 ( 0.4%) Users that have less than 1 test interactions\n",
      "EvaluatorHoldout: Processed 35586 (100.0%) in 38.00 sec. Users per second: 937\n",
      "Similarity column 38121 (100.0%), 2830.94 column/sec. Elapsed time 13.47 sec\n",
      "EvaluatorHoldout: Ignoring 167 ( 0.5%) Users that have less than 1 test interactions\n",
      "EvaluatorHoldout: Processed 35569 (100.0%) in 38.75 sec. Users per second: 918\n",
      "Similarity column 38121 (100.0%), 2808.12 column/sec. Elapsed time 13.58 sec\n",
      "EvaluatorHoldout: Ignoring 172 ( 0.5%) Users that have less than 1 test interactions\n",
      "EvaluatorHoldout: Processed 35564 (100.0%) in 38.20 sec. Users per second: 931\n"
     ]
    },
    {
     "name": "stderr",
     "output_type": "stream",
     "text": [
      "[I 2025-01-07 07:28:25,457] Trial 709 finished with value: 0.2656033894549596 and parameters: {'similarity': 'asymmetric', 'topK': 63, 'shrink': 742, 'feature_weighting': 'TF-IDF', 'asymmetric_alpha': 0.2090282016307497}. Best is trial 697 with value: 0.2660171925231135.\n"
     ]
    },
    {
     "name": "stdout",
     "output_type": "stream",
     "text": [
      "Similarity column 38121 (100.0%), 2796.42 column/sec. Elapsed time 13.63 sec\n",
      "EvaluatorHoldout: Ignoring 173 ( 0.5%) Users that have less than 1 test interactions\n",
      "EvaluatorHoldout: Processed 35563 (100.0%) in 38.61 sec. Users per second: 921\n",
      "Similarity column 38121 (100.0%), 2786.27 column/sec. Elapsed time 13.68 sec\n",
      "EvaluatorHoldout: Ignoring 163 ( 0.5%) Users that have less than 1 test interactions\n",
      "EvaluatorHoldout: Processed 35573 (100.0%) in 40.51 sec. Users per second: 878\n",
      "Similarity column 38121 (100.0%), 2715.16 column/sec. Elapsed time 14.04 sec\n",
      "EvaluatorHoldout: Ignoring 150 ( 0.4%) Users that have less than 1 test interactions\n",
      "EvaluatorHoldout: Processed 35586 (100.0%) in 39.72 sec. Users per second: 896\n",
      "Similarity column 38121 (100.0%), 2755.52 column/sec. Elapsed time 13.83 sec\n",
      "EvaluatorHoldout: Ignoring 167 ( 0.5%) Users that have less than 1 test interactions\n",
      "EvaluatorHoldout: Processed 35569 (100.0%) in 38.76 sec. Users per second: 918\n",
      "Similarity column 38121 (100.0%), 2827.35 column/sec. Elapsed time 13.48 sec\n",
      "EvaluatorHoldout: Ignoring 172 ( 0.5%) Users that have less than 1 test interactions\n",
      "EvaluatorHoldout: Processed 35564 (100.0%) in 38.27 sec. Users per second: 929\n"
     ]
    },
    {
     "name": "stderr",
     "output_type": "stream",
     "text": [
      "[I 2025-01-07 07:32:52,120] Trial 710 finished with value: 0.26495403507356863 and parameters: {'similarity': 'asymmetric', 'topK': 62, 'shrink': 745, 'feature_weighting': 'TF-IDF', 'asymmetric_alpha': 0.2673831359779473}. Best is trial 697 with value: 0.2660171925231135.\n"
     ]
    },
    {
     "name": "stdout",
     "output_type": "stream",
     "text": [
      "Similarity column 38121 (100.0%), 2799.22 column/sec. Elapsed time 13.62 sec\n",
      "EvaluatorHoldout: Ignoring 173 ( 0.5%) Users that have less than 1 test interactions\n",
      "EvaluatorHoldout: Processed 35563 (100.0%) in 38.10 sec. Users per second: 933\n",
      "Similarity column 38121 (100.0%), 2849.55 column/sec. Elapsed time 13.38 sec\n",
      "EvaluatorHoldout: Ignoring 163 ( 0.5%) Users that have less than 1 test interactions\n",
      "EvaluatorHoldout: Processed 35573 (100.0%) in 38.06 sec. Users per second: 935\n",
      "Similarity column 38121 (100.0%), 2830.29 column/sec. Elapsed time 13.47 sec\n",
      "EvaluatorHoldout: Ignoring 150 ( 0.4%) Users that have less than 1 test interactions\n",
      "EvaluatorHoldout: Processed 35586 (100.0%) in 38.13 sec. Users per second: 933\n",
      "Similarity column 38121 (100.0%), 2818.60 column/sec. Elapsed time 13.52 sec\n",
      "EvaluatorHoldout: Ignoring 167 ( 0.5%) Users that have less than 1 test interactions\n",
      "EvaluatorHoldout: Processed 35569 (100.0%) in 38.07 sec. Users per second: 934\n",
      "Similarity column 38121 (100.0%), 2821.26 column/sec. Elapsed time 13.51 sec\n",
      "EvaluatorHoldout: Ignoring 172 ( 0.5%) Users that have less than 1 test interactions\n",
      "EvaluatorHoldout: Processed 35564 (100.0%) in 38.20 sec. Users per second: 931\n"
     ]
    },
    {
     "name": "stderr",
     "output_type": "stream",
     "text": [
      "[I 2025-01-07 07:37:12,220] Trial 711 finished with value: 0.26549120383783864 and parameters: {'similarity': 'asymmetric', 'topK': 63, 'shrink': 809, 'feature_weighting': 'TF-IDF', 'asymmetric_alpha': 0.21206980560399677}. Best is trial 697 with value: 0.2660171925231135.\n"
     ]
    },
    {
     "name": "stdout",
     "output_type": "stream",
     "text": [
      "Similarity column 38121 (100.0%), 2889.89 column/sec. Elapsed time 13.19 sec\n",
      "EvaluatorHoldout: Ignoring 173 ( 0.5%) Users that have less than 1 test interactions\n",
      "EvaluatorHoldout: Processed 35563 (100.0%) in 43.75 sec. Users per second: 813\n",
      "Similarity column 38121 (100.0%), 2887.11 column/sec. Elapsed time 13.20 sec\n",
      "EvaluatorHoldout: Ignoring 163 ( 0.5%) Users that have less than 1 test interactions\n",
      "EvaluatorHoldout: Processed 35573 (100.0%) in 44.23 sec. Users per second: 804\n",
      "Similarity column 38121 (100.0%), 2860.17 column/sec. Elapsed time 13.33 sec\n",
      "EvaluatorHoldout: Ignoring 150 ( 0.4%) Users that have less than 1 test interactions\n",
      "EvaluatorHoldout: Processed 35586 (100.0%) in 44.19 sec. Users per second: 805\n",
      "Similarity column 38121 (100.0%), 2873.81 column/sec. Elapsed time 13.26 sec\n",
      "EvaluatorHoldout: Ignoring 167 ( 0.5%) Users that have less than 1 test interactions\n",
      "EvaluatorHoldout: Processed 35569 (100.0%) in 44.42 sec. Users per second: 801\n",
      "Similarity column 38121 (100.0%), 2846.50 column/sec. Elapsed time 13.39 sec\n",
      "EvaluatorHoldout: Ignoring 172 ( 0.5%) Users that have less than 1 test interactions\n",
      "EvaluatorHoldout: Processed 35564 (100.0%) in 45.75 sec. Users per second: 777\n"
     ]
    },
    {
     "name": "stderr",
     "output_type": "stream",
     "text": [
      "[I 2025-01-07 07:42:03,018] Trial 712 finished with value: 0.2041706139922395 and parameters: {'similarity': 'asymmetric', 'topK': 66, 'shrink': 764, 'feature_weighting': 'TF-IDF', 'asymmetric_alpha': 1.0604375171143525}. Best is trial 697 with value: 0.2660171925231135.\n"
     ]
    },
    {
     "name": "stdout",
     "output_type": "stream",
     "text": [
      "Similarity column 38121 (100.0%), 2772.82 column/sec. Elapsed time 13.75 sec\n",
      "EvaluatorHoldout: Ignoring 173 ( 0.5%) Users that have less than 1 test interactions\n",
      "EvaluatorHoldout: Processed 35563 (100.0%) in 39.14 sec. Users per second: 909\n",
      "Similarity column 38121 (100.0%), 2726.60 column/sec. Elapsed time 13.98 sec\n",
      "EvaluatorHoldout: Ignoring 163 ( 0.5%) Users that have less than 1 test interactions\n",
      "EvaluatorHoldout: Processed 35573 (100.0%) in 38.92 sec. Users per second: 914\n",
      "Similarity column 38121 (100.0%), 2810.61 column/sec. Elapsed time 13.56 sec\n",
      "EvaluatorHoldout: Ignoring 150 ( 0.4%) Users that have less than 1 test interactions\n",
      "EvaluatorHoldout: Processed 35586 (100.0%) in 38.11 sec. Users per second: 934\n",
      "Similarity column 38121 (100.0%), 2795.49 column/sec. Elapsed time 13.64 sec\n",
      "EvaluatorHoldout: Ignoring 167 ( 0.5%) Users that have less than 1 test interactions\n",
      "EvaluatorHoldout: Processed 35569 (100.0%) in 38.28 sec. Users per second: 929\n",
      "Similarity column 38121 (100.0%), 2807.90 column/sec. Elapsed time 13.58 sec\n",
      "EvaluatorHoldout: Ignoring 172 ( 0.5%) Users that have less than 1 test interactions\n",
      "EvaluatorHoldout: Processed 35564 (100.0%) in 38.06 sec. Users per second: 934\n"
     ]
    },
    {
     "name": "stderr",
     "output_type": "stream",
     "text": [
      "[I 2025-01-07 07:46:26,133] Trial 713 finished with value: 0.2661630635239441 and parameters: {'similarity': 'asymmetric', 'topK': 62, 'shrink': 735, 'feature_weighting': 'TF-IDF', 'asymmetric_alpha': 0.17903359342053915}. Best is trial 713 with value: 0.2661630635239441.\n"
     ]
    },
    {
     "name": "stdout",
     "output_type": "stream",
     "text": [
      "Similarity column 38121 (100.0%), 2818.92 column/sec. Elapsed time 13.52 sec\n",
      "EvaluatorHoldout: Ignoring 173 ( 0.5%) Users that have less than 1 test interactions\n",
      "EvaluatorHoldout: Processed 35563 (100.0%) in 38.71 sec. Users per second: 919\n",
      "Similarity column 38121 (100.0%), 2780.39 column/sec. Elapsed time 13.71 sec\n",
      "EvaluatorHoldout: Ignoring 163 ( 0.5%) Users that have less than 1 test interactions\n",
      "EvaluatorHoldout: Processed 35573 (100.0%) in 38.48 sec. Users per second: 924\n",
      "Similarity column 38121 (100.0%), 2807.24 column/sec. Elapsed time 13.58 sec\n",
      "EvaluatorHoldout: Ignoring 150 ( 0.4%) Users that have less than 1 test interactions\n",
      "EvaluatorHoldout: Processed 35586 (100.0%) in 38.44 sec. Users per second: 926\n",
      "Similarity column 38121 (100.0%), 2767.50 column/sec. Elapsed time 13.77 sec\n",
      "EvaluatorHoldout: Ignoring 167 ( 0.5%) Users that have less than 1 test interactions\n",
      "EvaluatorHoldout: Processed 35569 (100.0%) in 38.42 sec. Users per second: 926\n",
      "Similarity column 38121 (100.0%), 2725.00 column/sec. Elapsed time 13.99 sec\n",
      "EvaluatorHoldout: Ignoring 172 ( 0.5%) Users that have less than 1 test interactions\n",
      "EvaluatorHoldout: Processed 35564 (100.0%) in 38.24 sec. Users per second: 930\n"
     ]
    },
    {
     "name": "stderr",
     "output_type": "stream",
     "text": [
      "[I 2025-01-07 07:50:49,046] Trial 714 finished with value: 0.2655675296059007 and parameters: {'similarity': 'asymmetric', 'topK': 62, 'shrink': 737, 'feature_weighting': 'TF-IDF', 'asymmetric_alpha': 0.21827329873296597}. Best is trial 713 with value: 0.2661630635239441.\n"
     ]
    },
    {
     "name": "stdout",
     "output_type": "stream",
     "text": [
      "Similarity column 38121 (100.0%), 2814.13 column/sec. Elapsed time 13.55 sec\n",
      "EvaluatorHoldout: Ignoring 173 ( 0.5%) Users that have less than 1 test interactions\n",
      "EvaluatorHoldout: Processed 35563 (100.0%) in 40.54 sec. Users per second: 877\n",
      "Similarity column 38121 (100.0%), 2853.91 column/sec. Elapsed time 13.36 sec\n",
      "EvaluatorHoldout: Ignoring 163 ( 0.5%) Users that have less than 1 test interactions\n",
      "EvaluatorHoldout: Processed 35573 (100.0%) in 40.52 sec. Users per second: 878\n",
      "Similarity column 38121 (100.0%), 2832.02 column/sec. Elapsed time 13.46 sec\n",
      "EvaluatorHoldout: Ignoring 150 ( 0.4%) Users that have less than 1 test interactions\n",
      "EvaluatorHoldout: Processed 35586 (100.0%) in 40.15 sec. Users per second: 886\n",
      "Similarity column 38121 (100.0%), 2852.31 column/sec. Elapsed time 13.36 sec\n",
      "EvaluatorHoldout: Ignoring 167 ( 0.5%) Users that have less than 1 test interactions\n",
      "EvaluatorHoldout: Processed 35569 (100.0%) in 40.16 sec. Users per second: 886\n",
      "Similarity column 38121 (100.0%), 2848.73 column/sec. Elapsed time 13.38 sec\n",
      "EvaluatorHoldout: Ignoring 172 ( 0.5%) Users that have less than 1 test interactions\n",
      "EvaluatorHoldout: Processed 35564 (100.0%) in 40.06 sec. Users per second: 888\n"
     ]
    },
    {
     "name": "stderr",
     "output_type": "stream",
     "text": [
      "[I 2025-01-07 07:55:19,606] Trial 715 finished with value: 0.2529151072396899 and parameters: {'similarity': 'asymmetric', 'topK': 63, 'shrink': 787, 'feature_weighting': 'TF-IDF', 'asymmetric_alpha': 0.5869073320596616}. Best is trial 713 with value: 0.2661630635239441.\n"
     ]
    },
    {
     "name": "stdout",
     "output_type": "stream",
     "text": [
      "Similarity column 38121 (100.0%), 2812.52 column/sec. Elapsed time 13.55 sec\n",
      "EvaluatorHoldout: Ignoring 173 ( 0.5%) Users that have less than 1 test interactions\n",
      "EvaluatorHoldout: Processed 35563 (100.0%) in 38.02 sec. Users per second: 935\n",
      "Similarity column 38121 (100.0%), 2827.00 column/sec. Elapsed time 13.48 sec\n",
      "EvaluatorHoldout: Ignoring 163 ( 0.5%) Users that have less than 1 test interactions\n",
      "EvaluatorHoldout: Processed 35573 (100.0%) in 38.23 sec. Users per second: 931\n",
      "Similarity column 38121 (100.0%), 2822.01 column/sec. Elapsed time 13.51 sec\n",
      "EvaluatorHoldout: Ignoring 150 ( 0.4%) Users that have less than 1 test interactions\n",
      "EvaluatorHoldout: Processed 35586 (100.0%) in 38.87 sec. Users per second: 915\n",
      "Similarity column 38121 (100.0%), 2796.41 column/sec. Elapsed time 13.63 sec\n",
      "EvaluatorHoldout: Ignoring 167 ( 0.5%) Users that have less than 1 test interactions\n",
      "EvaluatorHoldout: Processed 35569 (100.0%) in 38.39 sec. Users per second: 926\n",
      "Similarity column 38121 (100.0%), 2818.02 column/sec. Elapsed time 13.53 sec\n",
      "EvaluatorHoldout: Ignoring 172 ( 0.5%) Users that have less than 1 test interactions\n",
      "EvaluatorHoldout: Processed 35564 (100.0%) in 38.20 sec. Users per second: 931\n"
     ]
    },
    {
     "name": "stderr",
     "output_type": "stream",
     "text": [
      "[I 2025-01-07 07:59:41,081] Trial 716 finished with value: 0.2655416142457164 and parameters: {'similarity': 'asymmetric', 'topK': 64, 'shrink': 756, 'feature_weighting': 'TF-IDF', 'asymmetric_alpha': 0.20385209161298734}. Best is trial 713 with value: 0.2661630635239441.\n"
     ]
    },
    {
     "name": "stdout",
     "output_type": "stream",
     "text": [
      "Similarity column 38121 (100.0%), 2834.46 column/sec. Elapsed time 13.45 sec\n",
      "EvaluatorHoldout: Ignoring 173 ( 0.5%) Users that have less than 1 test interactions\n",
      "EvaluatorHoldout: Processed 35563 (100.0%) in 38.81 sec. Users per second: 916\n",
      "Similarity column 38121 (100.0%), 2803.15 column/sec. Elapsed time 13.60 sec\n",
      "EvaluatorHoldout: Ignoring 163 ( 0.5%) Users that have less than 1 test interactions\n",
      "EvaluatorHoldout: Processed 35573 (100.0%) in 38.69 sec. Users per second: 919\n",
      "Similarity column 38121 (100.0%), 2790.08 column/sec. Elapsed time 13.66 sec\n",
      "EvaluatorHoldout: Ignoring 150 ( 0.4%) Users that have less than 1 test interactions\n",
      "EvaluatorHoldout: Processed 35586 (100.0%) in 38.66 sec. Users per second: 920\n",
      "Similarity column 38121 (100.0%), 2804.44 column/sec. Elapsed time 13.59 sec\n",
      "EvaluatorHoldout: Ignoring 167 ( 0.5%) Users that have less than 1 test interactions\n",
      "EvaluatorHoldout: Processed 35569 (100.0%) in 39.13 sec. Users per second: 909\n",
      "Similarity column 38121 (100.0%), 2742.02 column/sec. Elapsed time 13.90 sec\n",
      "EvaluatorHoldout: Ignoring 172 ( 0.5%) Users that have less than 1 test interactions\n",
      "EvaluatorHoldout: Processed 35564 (100.0%) in 40.06 sec. Users per second: 888\n"
     ]
    },
    {
     "name": "stderr",
     "output_type": "stream",
     "text": [
      "[I 2025-01-07 08:04:06,726] Trial 717 finished with value: 0.23171507463501065 and parameters: {'similarity': 'asymmetric', 'topK': 62, 'shrink': 738, 'feature_weighting': 'BM25', 'asymmetric_alpha': 0.26166810660195317}. Best is trial 713 with value: 0.2661630635239441.\n"
     ]
    },
    {
     "name": "stdout",
     "output_type": "stream",
     "text": [
      "Similarity column 38121 (100.0%), 2816.34 column/sec. Elapsed time 13.54 sec\n",
      "EvaluatorHoldout: Ignoring 173 ( 0.5%) Users that have less than 1 test interactions\n",
      "EvaluatorHoldout: Processed 35563 (100.0%) in 38.26 sec. Users per second: 930\n",
      "Similarity column 38121 (100.0%), 2807.55 column/sec. Elapsed time 13.58 sec\n",
      "EvaluatorHoldout: Ignoring 163 ( 0.5%) Users that have less than 1 test interactions\n",
      "EvaluatorHoldout: Processed 35573 (100.0%) in 38.38 sec. Users per second: 927\n",
      "Similarity column 38121 (100.0%), 2798.56 column/sec. Elapsed time 13.62 sec\n",
      "EvaluatorHoldout: Ignoring 150 ( 0.4%) Users that have less than 1 test interactions\n",
      "EvaluatorHoldout: Processed 35586 (100.0%) in 38.52 sec. Users per second: 924\n",
      "Similarity column 38121 (100.0%), 2823.92 column/sec. Elapsed time 13.50 sec\n",
      "EvaluatorHoldout: Ignoring 167 ( 0.5%) Users that have less than 1 test interactions\n",
      "EvaluatorHoldout: Processed 35569 (100.0%) in 38.53 sec. Users per second: 923\n",
      "Similarity column 38121 (100.0%), 2813.29 column/sec. Elapsed time 13.55 sec\n",
      "EvaluatorHoldout: Ignoring 172 ( 0.5%) Users that have less than 1 test interactions\n",
      "EvaluatorHoldout: Processed 35564 (100.0%) in 38.34 sec. Users per second: 928\n"
     ]
    },
    {
     "name": "stderr",
     "output_type": "stream",
     "text": [
      "[I 2025-01-07 08:08:28,589] Trial 718 finished with value: 0.2660703590387186 and parameters: {'similarity': 'asymmetric', 'topK': 63, 'shrink': 777, 'feature_weighting': 'TF-IDF', 'asymmetric_alpha': 0.17570732097736294}. Best is trial 713 with value: 0.2661630635239441.\n"
     ]
    },
    {
     "name": "stdout",
     "output_type": "stream",
     "text": [
      "Similarity column 38121 (100.0%), 2762.60 column/sec. Elapsed time 13.80 sec\n",
      "EvaluatorHoldout: Ignoring 173 ( 0.5%) Users that have less than 1 test interactions\n",
      "EvaluatorHoldout: Processed 35563 (100.0%) in 38.61 sec. Users per second: 921\n",
      "Similarity column 38121 (100.0%), 2788.43 column/sec. Elapsed time 13.67 sec\n",
      "EvaluatorHoldout: Ignoring 163 ( 0.5%) Users that have less than 1 test interactions\n",
      "EvaluatorHoldout: Processed 35573 (100.0%) in 38.85 sec. Users per second: 916\n",
      "Similarity column 38121 (100.0%), 2794.53 column/sec. Elapsed time 13.64 sec\n",
      "EvaluatorHoldout: Ignoring 150 ( 0.4%) Users that have less than 1 test interactions\n",
      "EvaluatorHoldout: Processed 35586 (100.0%) in 38.63 sec. Users per second: 921\n",
      "Similarity column 38121 (100.0%), 2782.07 column/sec. Elapsed time 13.70 sec\n",
      "EvaluatorHoldout: Ignoring 167 ( 0.5%) Users that have less than 1 test interactions\n",
      "EvaluatorHoldout: Processed 35569 (100.0%) in 38.54 sec. Users per second: 923\n",
      "Similarity column 38121 (100.0%), 2806.90 column/sec. Elapsed time 13.58 sec\n",
      "EvaluatorHoldout: Ignoring 172 ( 0.5%) Users that have less than 1 test interactions\n",
      "EvaluatorHoldout: Processed 35564 (100.0%) in 38.38 sec. Users per second: 927\n"
     ]
    },
    {
     "name": "stderr",
     "output_type": "stream",
     "text": [
      "[I 2025-01-07 08:12:52,033] Trial 719 finished with value: 0.26575251070294986 and parameters: {'similarity': 'asymmetric', 'topK': 64, 'shrink': 817, 'feature_weighting': 'TF-IDF', 'asymmetric_alpha': 0.1754570357421639}. Best is trial 713 with value: 0.2661630635239441.\n"
     ]
    },
    {
     "name": "stdout",
     "output_type": "stream",
     "text": [
      "Similarity column 38121 (100.0%), 2749.80 column/sec. Elapsed time 13.86 sec\n",
      "EvaluatorHoldout: Ignoring 173 ( 0.5%) Users that have less than 1 test interactions\n",
      "EvaluatorHoldout: Processed 35563 (100.0%) in 38.42 sec. Users per second: 926\n",
      "Similarity column 38121 (100.0%), 2766.70 column/sec. Elapsed time 13.78 sec\n",
      "EvaluatorHoldout: Ignoring 163 ( 0.5%) Users that have less than 1 test interactions\n",
      "EvaluatorHoldout: Processed 35573 (100.0%) in 38.39 sec. Users per second: 927\n",
      "Similarity column 38121 (100.0%), 2806.86 column/sec. Elapsed time 13.58 sec\n",
      "EvaluatorHoldout: Ignoring 150 ( 0.4%) Users that have less than 1 test interactions\n",
      "EvaluatorHoldout: Processed 35586 (100.0%) in 38.78 sec. Users per second: 918\n",
      "Similarity column 38121 (100.0%), 2798.64 column/sec. Elapsed time 13.62 sec\n",
      "EvaluatorHoldout: Ignoring 167 ( 0.5%) Users that have less than 1 test interactions\n",
      "EvaluatorHoldout: Processed 35569 (100.0%) in 38.38 sec. Users per second: 927\n",
      "Similarity column 38121 (100.0%), 2822.15 column/sec. Elapsed time 13.51 sec\n",
      "EvaluatorHoldout: Ignoring 172 ( 0.5%) Users that have less than 1 test interactions\n",
      "EvaluatorHoldout: Processed 35564 (100.0%) in 38.54 sec. Users per second: 923\n"
     ]
    },
    {
     "name": "stderr",
     "output_type": "stream",
     "text": [
      "[I 2025-01-07 08:17:14,930] Trial 720 finished with value: 0.26575857272947473 and parameters: {'similarity': 'asymmetric', 'topK': 64, 'shrink': 825, 'feature_weighting': 'TF-IDF', 'asymmetric_alpha': 0.1751822190209314}. Best is trial 713 with value: 0.2661630635239441.\n"
     ]
    },
    {
     "name": "stdout",
     "output_type": "stream",
     "text": [
      "Similarity column 38121 (100.0%), 2816.93 column/sec. Elapsed time 13.53 sec\n",
      "EvaluatorHoldout: Ignoring 173 ( 0.5%) Users that have less than 1 test interactions\n",
      "EvaluatorHoldout: Processed 35563 (100.0%) in 38.47 sec. Users per second: 924\n",
      "Similarity column 38121 (100.0%), 2790.11 column/sec. Elapsed time 13.66 sec\n",
      "EvaluatorHoldout: Ignoring 163 ( 0.5%) Users that have less than 1 test interactions\n",
      "EvaluatorHoldout: Processed 35573 (100.0%) in 38.50 sec. Users per second: 924\n",
      "Similarity column 38121 (100.0%), 2796.88 column/sec. Elapsed time 13.63 sec\n",
      "EvaluatorHoldout: Ignoring 150 ( 0.4%) Users that have less than 1 test interactions\n",
      "EvaluatorHoldout: Processed 35586 (100.0%) in 38.30 sec. Users per second: 929\n",
      "Similarity column 38121 (100.0%), 2780.38 column/sec. Elapsed time 13.71 sec\n",
      "EvaluatorHoldout: Ignoring 167 ( 0.5%) Users that have less than 1 test interactions\n",
      "EvaluatorHoldout: Processed 35569 (100.0%) in 37.98 sec. Users per second: 936\n",
      "Similarity column 38121 (100.0%), 2800.11 column/sec. Elapsed time 13.61 sec\n",
      "EvaluatorHoldout: Ignoring 172 ( 0.5%) Users that have less than 1 test interactions\n",
      "EvaluatorHoldout: Processed 35564 (100.0%) in 38.29 sec. Users per second: 929\n"
     ]
    },
    {
     "name": "stderr",
     "output_type": "stream",
     "text": [
      "[I 2025-01-07 08:21:36,665] Trial 721 finished with value: 0.26613018612091693 and parameters: {'similarity': 'asymmetric', 'topK': 61, 'shrink': 832, 'feature_weighting': 'TF-IDF', 'asymmetric_alpha': 0.17185036666051415}. Best is trial 713 with value: 0.2661630635239441.\n"
     ]
    },
    {
     "name": "stdout",
     "output_type": "stream",
     "text": [
      "Similarity column 38121 (100.0%), 2826.32 column/sec. Elapsed time 13.49 sec\n",
      "EvaluatorHoldout: Ignoring 173 ( 0.5%) Users that have less than 1 test interactions\n",
      "EvaluatorHoldout: Processed 35563 (100.0%) in 37.52 sec. Users per second: 948\n",
      "Similarity column 38121 (100.0%), 2817.36 column/sec. Elapsed time 13.53 sec\n",
      "EvaluatorHoldout: Ignoring 163 ( 0.5%) Users that have less than 1 test interactions\n",
      "EvaluatorHoldout: Processed 35573 (100.0%) in 37.95 sec. Users per second: 937\n",
      "Similarity column 38121 (100.0%), 2819.19 column/sec. Elapsed time 13.52 sec\n",
      "EvaluatorHoldout: Ignoring 150 ( 0.4%) Users that have less than 1 test interactions\n",
      "EvaluatorHoldout: Processed 35586 (100.0%) in 37.87 sec. Users per second: 940\n",
      "Similarity column 38121 (100.0%), 2818.79 column/sec. Elapsed time 13.52 sec\n",
      "EvaluatorHoldout: Ignoring 167 ( 0.5%) Users that have less than 1 test interactions\n",
      "EvaluatorHoldout: Processed 35569 (100.0%) in 38.02 sec. Users per second: 936\n",
      "Similarity column 38121 (100.0%), 2800.33 column/sec. Elapsed time 13.61 sec\n",
      "EvaluatorHoldout: Ignoring 172 ( 0.5%) Users that have less than 1 test interactions\n",
      "EvaluatorHoldout: Processed 35564 (100.0%) in 37.78 sec. Users per second: 941\n"
     ]
    },
    {
     "name": "stderr",
     "output_type": "stream",
     "text": [
      "[I 2025-01-07 08:25:55,461] Trial 722 finished with value: 0.2664230591044633 and parameters: {'similarity': 'asymmetric', 'topK': 56, 'shrink': 839, 'feature_weighting': 'TF-IDF', 'asymmetric_alpha': 0.1799424578882547}. Best is trial 722 with value: 0.2664230591044633.\n"
     ]
    },
    {
     "name": "stdout",
     "output_type": "stream",
     "text": [
      "Similarity column 38121 (100.0%), 2819.38 column/sec. Elapsed time 13.52 sec\n",
      "EvaluatorHoldout: Ignoring 173 ( 0.5%) Users that have less than 1 test interactions\n",
      "EvaluatorHoldout: Processed 35563 (100.0%) in 37.90 sec. Users per second: 938\n",
      "Similarity column 38121 (100.0%), 2787.90 column/sec. Elapsed time 13.67 sec\n",
      "EvaluatorHoldout: Ignoring 163 ( 0.5%) Users that have less than 1 test interactions\n",
      "EvaluatorHoldout: Processed 35573 (100.0%) in 37.96 sec. Users per second: 937\n",
      "Similarity column 38121 (100.0%), 2817.97 column/sec. Elapsed time 13.53 sec\n",
      "EvaluatorHoldout: Ignoring 150 ( 0.4%) Users that have less than 1 test interactions\n",
      "EvaluatorHoldout: Processed 35586 (100.0%) in 38.07 sec. Users per second: 935\n",
      "Similarity column 38121 (100.0%), 2814.84 column/sec. Elapsed time 13.54 sec\n",
      "EvaluatorHoldout: Ignoring 167 ( 0.5%) Users that have less than 1 test interactions\n",
      "EvaluatorHoldout: Processed 35569 (100.0%) in 37.96 sec. Users per second: 937\n",
      "Similarity column 38121 (100.0%), 2795.45 column/sec. Elapsed time 13.64 sec\n",
      "EvaluatorHoldout: Ignoring 172 ( 0.5%) Users that have less than 1 test interactions\n",
      "EvaluatorHoldout: Processed 35564 (100.0%) in 38.73 sec. Users per second: 918\n"
     ]
    },
    {
     "name": "stderr",
     "output_type": "stream",
     "text": [
      "[I 2025-01-07 08:30:16,016] Trial 723 finished with value: 0.26606008445340673 and parameters: {'similarity': 'asymmetric', 'topK': 58, 'shrink': 853, 'feature_weighting': 'TF-IDF', 'asymmetric_alpha': 0.18811879034516205}. Best is trial 722 with value: 0.2664230591044633.\n"
     ]
    },
    {
     "name": "stdout",
     "output_type": "stream",
     "text": [
      "Similarity column 38121 (100.0%), 2810.44 column/sec. Elapsed time 13.56 sec\n",
      "EvaluatorHoldout: Ignoring 173 ( 0.5%) Users that have less than 1 test interactions\n",
      "EvaluatorHoldout: Processed 35563 (100.0%) in 38.94 sec. Users per second: 913\n",
      "Similarity column 38121 (100.0%), 2770.09 column/sec. Elapsed time 13.76 sec\n",
      "EvaluatorHoldout: Ignoring 163 ( 0.5%) Users that have less than 1 test interactions\n",
      "EvaluatorHoldout: Processed 35573 (100.0%) in 39.42 sec. Users per second: 903\n",
      "Similarity column 38121 (100.0%), 2780.22 column/sec. Elapsed time 13.71 sec\n",
      "EvaluatorHoldout: Ignoring 150 ( 0.4%) Users that have less than 1 test interactions\n",
      "EvaluatorHoldout: Processed 35586 (100.0%) in 39.40 sec. Users per second: 903\n",
      "Similarity column 38121 (100.0%), 2740.01 column/sec. Elapsed time 13.91 sec\n",
      "EvaluatorHoldout: Ignoring 167 ( 0.5%) Users that have less than 1 test interactions\n",
      "EvaluatorHoldout: Processed 35569 (100.0%) in 39.35 sec. Users per second: 904\n",
      "Similarity column 38121 (100.0%), 2815.10 column/sec. Elapsed time 13.54 sec\n",
      "EvaluatorHoldout: Ignoring 172 ( 0.5%) Users that have less than 1 test interactions\n",
      "EvaluatorHoldout: Processed 35564 (100.0%) in 38.64 sec. Users per second: 920\n"
     ]
    },
    {
     "name": "stderr",
     "output_type": "stream",
     "text": [
      "[I 2025-01-07 08:34:42,338] Trial 724 finished with value: 0.2637365657955105 and parameters: {'similarity': 'asymmetric', 'topK': 61, 'shrink': 858, 'feature_weighting': 'TF-IDF', 'asymmetric_alpha': 0.30289922372579536}. Best is trial 722 with value: 0.2664230591044633.\n"
     ]
    },
    {
     "name": "stdout",
     "output_type": "stream",
     "text": [
      "Similarity column 38121 (100.0%), 2813.12 column/sec. Elapsed time 13.55 sec\n",
      "EvaluatorHoldout: Ignoring 173 ( 0.5%) Users that have less than 1 test interactions\n",
      "EvaluatorHoldout: Processed 35563 (100.0%) in 38.39 sec. Users per second: 926\n",
      "Similarity column 38121 (100.0%), 2789.28 column/sec. Elapsed time 13.67 sec\n",
      "EvaluatorHoldout: Ignoring 163 ( 0.5%) Users that have less than 1 test interactions\n",
      "EvaluatorHoldout: Processed 35573 (100.0%) in 38.20 sec. Users per second: 931\n",
      "Similarity column 38121 (100.0%), 2796.94 column/sec. Elapsed time 13.63 sec\n",
      "EvaluatorHoldout: Ignoring 150 ( 0.4%) Users that have less than 1 test interactions\n",
      "EvaluatorHoldout: Processed 35586 (100.0%) in 38.16 sec. Users per second: 932\n",
      "Similarity column 38121 (100.0%), 2814.07 column/sec. Elapsed time 13.55 sec\n",
      "EvaluatorHoldout: Ignoring 167 ( 0.5%) Users that have less than 1 test interactions\n",
      "EvaluatorHoldout: Processed 35569 (100.0%) in 37.79 sec. Users per second: 941\n",
      "Similarity column 38121 (100.0%), 2814.99 column/sec. Elapsed time 13.54 sec\n",
      "EvaluatorHoldout: Ignoring 172 ( 0.5%) Users that have less than 1 test interactions\n",
      "EvaluatorHoldout: Processed 35564 (100.0%) in 38.26 sec. Users per second: 930\n"
     ]
    },
    {
     "name": "stderr",
     "output_type": "stream",
     "text": [
      "[I 2025-01-07 08:39:03,189] Trial 725 finished with value: 0.26627366174489986 and parameters: {'similarity': 'asymmetric', 'topK': 58, 'shrink': 811, 'feature_weighting': 'TF-IDF', 'asymmetric_alpha': 0.18572011222313944}. Best is trial 722 with value: 0.2664230591044633.\n"
     ]
    },
    {
     "name": "stdout",
     "output_type": "stream",
     "text": [
      "Similarity column 38121 (100.0%), 2824.24 column/sec. Elapsed time 13.50 sec\n",
      "EvaluatorHoldout: Ignoring 173 ( 0.5%) Users that have less than 1 test interactions\n",
      "EvaluatorHoldout: Processed 35563 (100.0%) in 37.70 sec. Users per second: 943\n",
      "Similarity column 38121 (100.0%), 2802.13 column/sec. Elapsed time 13.60 sec\n",
      "EvaluatorHoldout: Ignoring 163 ( 0.5%) Users that have less than 1 test interactions\n",
      "EvaluatorHoldout: Processed 35573 (100.0%) in 38.04 sec. Users per second: 935\n",
      "Similarity column 38121 (100.0%), 2826.00 column/sec. Elapsed time 13.49 sec\n",
      "EvaluatorHoldout: Ignoring 150 ( 0.4%) Users that have less than 1 test interactions\n",
      "EvaluatorHoldout: Processed 35586 (100.0%) in 38.21 sec. Users per second: 931\n",
      "Similarity column 38121 (100.0%), 2821.03 column/sec. Elapsed time 13.51 sec\n",
      "EvaluatorHoldout: Ignoring 167 ( 0.5%) Users that have less than 1 test interactions\n",
      "EvaluatorHoldout: Processed 35569 (100.0%) in 37.68 sec. Users per second: 944\n",
      "Similarity column 38121 (100.0%), 2826.18 column/sec. Elapsed time 13.49 sec\n",
      "EvaluatorHoldout: Ignoring 172 ( 0.5%) Users that have less than 1 test interactions\n",
      "EvaluatorHoldout: Processed 35564 (100.0%) in 38.00 sec. Users per second: 936\n"
     ]
    },
    {
     "name": "stderr",
     "output_type": "stream",
     "text": [
      "[I 2025-01-07 08:43:22,437] Trial 726 finished with value: 0.26562327204792013 and parameters: {'similarity': 'asymmetric', 'topK': 55, 'shrink': 838, 'feature_weighting': 'TF-IDF', 'asymmetric_alpha': 0.23073308927552705}. Best is trial 722 with value: 0.2664230591044633.\n"
     ]
    },
    {
     "name": "stdout",
     "output_type": "stream",
     "text": [
      "Similarity column 38121 (100.0%), 2825.55 column/sec. Elapsed time 13.49 sec\n",
      "EvaluatorHoldout: Ignoring 173 ( 0.5%) Users that have less than 1 test interactions\n",
      "EvaluatorHoldout: Processed 35563 (100.0%) in 37.99 sec. Users per second: 936\n",
      "Similarity column 38121 (100.0%), 2824.59 column/sec. Elapsed time 13.50 sec\n",
      "EvaluatorHoldout: Ignoring 163 ( 0.5%) Users that have less than 1 test interactions\n",
      "EvaluatorHoldout: Processed 35573 (100.0%) in 37.89 sec. Users per second: 939\n",
      "Similarity column 38121 (100.0%), 2819.33 column/sec. Elapsed time 13.52 sec\n",
      "EvaluatorHoldout: Ignoring 150 ( 0.4%) Users that have less than 1 test interactions\n",
      "EvaluatorHoldout: Processed 35586 (100.0%) in 37.94 sec. Users per second: 938\n",
      "Similarity column 38121 (100.0%), 2768.09 column/sec. Elapsed time 13.77 sec\n",
      "EvaluatorHoldout: Ignoring 167 ( 0.5%) Users that have less than 1 test interactions\n",
      "EvaluatorHoldout: Processed 35569 (100.0%) in 38.32 sec. Users per second: 928\n",
      "Similarity column 38121 (100.0%), 2788.78 column/sec. Elapsed time 13.67 sec\n",
      "EvaluatorHoldout: Ignoring 172 ( 0.5%) Users that have less than 1 test interactions\n",
      "EvaluatorHoldout: Processed 35564 (100.0%) in 38.26 sec. Users per second: 930\n"
     ]
    },
    {
     "name": "stderr",
     "output_type": "stream",
     "text": [
      "[I 2025-01-07 08:47:42,793] Trial 727 finished with value: 0.2660372311355659 and parameters: {'similarity': 'asymmetric', 'topK': 58, 'shrink': 888, 'feature_weighting': 'TF-IDF', 'asymmetric_alpha': 0.18255271747918092}. Best is trial 722 with value: 0.2664230591044633.\n"
     ]
    },
    {
     "name": "stdout",
     "output_type": "stream",
     "text": [
      "Similarity column 38121 (100.0%), 2818.92 column/sec. Elapsed time 13.52 sec\n",
      "EvaluatorHoldout: Ignoring 173 ( 0.5%) Users that have less than 1 test interactions\n",
      "EvaluatorHoldout: Processed 35563 (100.0%) in 38.68 sec. Users per second: 919\n",
      "Similarity column 38121 (100.0%), 2739.57 column/sec. Elapsed time 13.91 sec\n",
      "EvaluatorHoldout: Ignoring 163 ( 0.5%) Users that have less than 1 test interactions\n",
      "EvaluatorHoldout: Processed 35573 (100.0%) in 38.74 sec. Users per second: 918\n",
      "Similarity column 38121 (100.0%), 2807.97 column/sec. Elapsed time 13.58 sec\n",
      "EvaluatorHoldout: Ignoring 150 ( 0.4%) Users that have less than 1 test interactions\n",
      "EvaluatorHoldout: Processed 35586 (100.0%) in 38.50 sec. Users per second: 924\n",
      "Similarity column 38121 (100.0%), 2843.50 column/sec. Elapsed time 13.41 sec\n",
      "EvaluatorHoldout: Ignoring 167 ( 0.5%) Users that have less than 1 test interactions\n",
      "EvaluatorHoldout: Processed 35569 (100.0%) in 38.79 sec. Users per second: 917\n",
      "Similarity column 38121 (100.0%), 2770.86 column/sec. Elapsed time 13.76 sec\n",
      "EvaluatorHoldout: Ignoring 172 ( 0.5%) Users that have less than 1 test interactions\n",
      "EvaluatorHoldout: Processed 35564 (100.0%) in 38.42 sec. Users per second: 926\n"
     ]
    },
    {
     "name": "stderr",
     "output_type": "stream",
     "text": [
      "[I 2025-01-07 08:52:06,172] Trial 728 finished with value: 0.2644333733006244 and parameters: {'similarity': 'asymmetric', 'topK': 59, 'shrink': 902, 'feature_weighting': 'TF-IDF', 'asymmetric_alpha': 0.2683909455652957}. Best is trial 722 with value: 0.2664230591044633.\n"
     ]
    },
    {
     "name": "stdout",
     "output_type": "stream",
     "text": [
      "Similarity column 38121 (100.0%), 2833.70 column/sec. Elapsed time 13.45 sec\n",
      "EvaluatorHoldout: Ignoring 173 ( 0.5%) Users that have less than 1 test interactions\n",
      "EvaluatorHoldout: Processed 35563 (100.0%) in 39.80 sec. Users per second: 894\n",
      "Similarity column 38121 (100.0%), 2807.27 column/sec. Elapsed time 13.58 sec\n",
      "EvaluatorHoldout: Ignoring 163 ( 0.5%) Users that have less than 1 test interactions\n",
      "EvaluatorHoldout: Processed 35573 (100.0%) in 37.86 sec. Users per second: 940\n",
      "Similarity column 38121 (100.0%), 2815.15 column/sec. Elapsed time 13.54 sec\n",
      "EvaluatorHoldout: Ignoring 150 ( 0.4%) Users that have less than 1 test interactions\n",
      "EvaluatorHoldout: Processed 35586 (100.0%) in 38.01 sec. Users per second: 936\n",
      "Similarity column 38121 (100.0%), 2811.20 column/sec. Elapsed time 13.56 sec\n",
      "EvaluatorHoldout: Ignoring 167 ( 0.5%) Users that have less than 1 test interactions\n",
      "EvaluatorHoldout: Processed 35569 (100.0%) in 38.39 sec. Users per second: 926\n",
      "Similarity column 38121 (100.0%), 2821.36 column/sec. Elapsed time 13.51 sec\n",
      "EvaluatorHoldout: Ignoring 172 ( 0.5%) Users that have less than 1 test interactions\n",
      "EvaluatorHoldout: Processed 35564 (100.0%) in 37.88 sec. Users per second: 939\n"
     ]
    },
    {
     "name": "stderr",
     "output_type": "stream",
     "text": [
      "[I 2025-01-07 08:56:27,747] Trial 729 finished with value: 0.26616496265109035 and parameters: {'similarity': 'asymmetric', 'topK': 57, 'shrink': 823, 'feature_weighting': 'TF-IDF', 'asymmetric_alpha': 0.1969970087292531}. Best is trial 722 with value: 0.2664230591044633.\n"
     ]
    },
    {
     "name": "stdout",
     "output_type": "stream",
     "text": [
      "Similarity column 38121 (100.0%), 2787.09 column/sec. Elapsed time 13.68 sec\n",
      "EvaluatorHoldout: Ignoring 173 ( 0.5%) Users that have less than 1 test interactions\n",
      "EvaluatorHoldout: Processed 35563 (100.0%) in 38.37 sec. Users per second: 927\n",
      "Similarity column 38121 (100.0%), 2827.05 column/sec. Elapsed time 13.48 sec\n",
      "EvaluatorHoldout: Ignoring 163 ( 0.5%) Users that have less than 1 test interactions\n",
      "EvaluatorHoldout: Processed 35573 (100.0%) in 38.00 sec. Users per second: 936\n",
      "Similarity column 38121 (100.0%), 2823.16 column/sec. Elapsed time 13.50 sec\n",
      "EvaluatorHoldout: Ignoring 150 ( 0.4%) Users that have less than 1 test interactions\n",
      "EvaluatorHoldout: Processed 35586 (100.0%) in 38.26 sec. Users per second: 930\n",
      "Similarity column 38121 (100.0%), 2796.78 column/sec. Elapsed time 13.63 sec\n",
      "EvaluatorHoldout: Ignoring 167 ( 0.5%) Users that have less than 1 test interactions\n",
      "EvaluatorHoldout: Processed 35569 (100.0%) in 38.38 sec. Users per second: 927\n",
      "Similarity column 38121 (100.0%), 2634.47 column/sec. Elapsed time 14.47 sec\n",
      "EvaluatorHoldout: Ignoring 172 ( 0.5%) Users that have less than 1 test interactions\n",
      "EvaluatorHoldout: Processed 35564 (100.0%) in 38.70 sec. Users per second: 919\n"
     ]
    },
    {
     "name": "stderr",
     "output_type": "stream",
     "text": [
      "[I 2025-01-07 09:00:50,258] Trial 730 finished with value: 0.26604863369248993 and parameters: {'similarity': 'asymmetric', 'topK': 57, 'shrink': 824, 'feature_weighting': 'TF-IDF', 'asymmetric_alpha': 0.2088159018234999}. Best is trial 722 with value: 0.2664230591044633.\n"
     ]
    },
    {
     "name": "stdout",
     "output_type": "stream",
     "text": [
      "Similarity column 38121 (100.0%), 2747.56 column/sec. Elapsed time 13.87 sec\n",
      "EvaluatorHoldout: Ignoring 173 ( 0.5%) Users that have less than 1 test interactions\n",
      "EvaluatorHoldout: Processed 35563 (100.0%) in 41.90 sec. Users per second: 849\n",
      "Similarity column 38121 (100.0%), 2730.41 column/sec. Elapsed time 13.96 sec\n",
      "EvaluatorHoldout: Ignoring 163 ( 0.5%) Users that have less than 1 test interactions\n",
      "EvaluatorHoldout: Processed 35573 (100.0%) in 42.02 sec. Users per second: 847\n",
      "Similarity column 38121 (100.0%), 2789.53 column/sec. Elapsed time 13.67 sec\n",
      "EvaluatorHoldout: Ignoring 150 ( 0.4%) Users that have less than 1 test interactions\n",
      "EvaluatorHoldout: Processed 35586 (100.0%) in 41.75 sec. Users per second: 852\n",
      "Similarity column 38121 (100.0%), 2749.82 column/sec. Elapsed time 13.86 sec\n",
      "EvaluatorHoldout: Ignoring 167 ( 0.5%) Users that have less than 1 test interactions\n",
      "EvaluatorHoldout: Processed 35569 (100.0%) in 41.61 sec. Users per second: 855\n",
      "Similarity column 38121 (100.0%), 2755.72 column/sec. Elapsed time 13.83 sec\n",
      "EvaluatorHoldout: Ignoring 172 ( 0.5%) Users that have less than 1 test interactions\n",
      "EvaluatorHoldout: Processed 35564 (100.0%) in 42.11 sec. Users per second: 844\n"
     ]
    },
    {
     "name": "stderr",
     "output_type": "stream",
     "text": [
      "[I 2025-01-07 09:05:30,347] Trial 731 finished with value: 0.21235939811727605 and parameters: {'similarity': 'asymmetric', 'topK': 56, 'shrink': 871, 'feature_weighting': 'none', 'asymmetric_alpha': 0.20801478322917608}. Best is trial 722 with value: 0.2664230591044633.\n"
     ]
    },
    {
     "name": "stdout",
     "output_type": "stream",
     "text": [
      "Similarity column 38121 (100.0%), 2846.49 column/sec. Elapsed time 13.39 sec\n",
      "EvaluatorHoldout: Ignoring 173 ( 0.5%) Users that have less than 1 test interactions\n",
      "EvaluatorHoldout: Processed 35563 (100.0%) in 45.68 sec. Users per second: 779\n",
      "Similarity column 38121 (100.0%), 2849.86 column/sec. Elapsed time 13.38 sec\n",
      "EvaluatorHoldout: Ignoring 163 ( 0.5%) Users that have less than 1 test interactions\n",
      "EvaluatorHoldout: Processed 35573 (100.0%) in 45.75 sec. Users per second: 778\n",
      "Similarity column 38121 (100.0%), 2831.19 column/sec. Elapsed time 13.46 sec\n",
      "EvaluatorHoldout: Ignoring 150 ( 0.4%) Users that have less than 1 test interactions\n",
      "EvaluatorHoldout: Processed 35586 (100.0%) in 45.42 sec. Users per second: 784\n",
      "Similarity column 38121 (100.0%), 2848.71 column/sec. Elapsed time 13.38 sec\n",
      "EvaluatorHoldout: Ignoring 167 ( 0.5%) Users that have less than 1 test interactions\n",
      "EvaluatorHoldout: Processed 35569 (100.0%) in 46.37 sec. Users per second: 767\n",
      "Similarity column 38121 (100.0%), 2831.76 column/sec. Elapsed time 13.46 sec\n",
      "EvaluatorHoldout: Ignoring 172 ( 0.5%) Users that have less than 1 test interactions\n",
      "EvaluatorHoldout: Processed 35564 (100.0%) in 46.45 sec. Users per second: 766\n"
     ]
    },
    {
     "name": "stderr",
     "output_type": "stream",
     "text": [
      "[I 2025-01-07 09:10:29,114] Trial 732 finished with value: 0.16207234034043494 and parameters: {'similarity': 'asymmetric', 'topK': 59, 'shrink': 824, 'feature_weighting': 'TF-IDF', 'asymmetric_alpha': 1.5230778398652043}. Best is trial 722 with value: 0.2664230591044633.\n"
     ]
    },
    {
     "name": "stdout",
     "output_type": "stream",
     "text": [
      "Similarity column 38121 (100.0%), 2600.28 column/sec. Elapsed time 14.66 sec\n",
      "EvaluatorHoldout: Ignoring 173 ( 0.5%) Users that have less than 1 test interactions\n",
      "EvaluatorHoldout: Processed 35563 (100.0%) in 40.74 sec. Users per second: 873\n",
      "Similarity column 38121 (100.0%), 2721.84 column/sec. Elapsed time 14.01 sec\n",
      "EvaluatorHoldout: Ignoring 163 ( 0.5%) Users that have less than 1 test interactions\n",
      "EvaluatorHoldout: Processed 35573 (100.0%) in 39.25 sec. Users per second: 906\n",
      "Similarity column 38121 (100.0%), 2777.89 column/sec. Elapsed time 13.72 sec\n",
      "EvaluatorHoldout: Ignoring 150 ( 0.4%) Users that have less than 1 test interactions\n",
      "EvaluatorHoldout: Processed 35586 (100.0%) in 39.19 sec. Users per second: 908\n",
      "Similarity column 38121 (100.0%), 2792.72 column/sec. Elapsed time 13.65 sec\n",
      "EvaluatorHoldout: Ignoring 167 ( 0.5%) Users that have less than 1 test interactions\n",
      "EvaluatorHoldout: Processed 35569 (100.0%) in 38.23 sec. Users per second: 930\n",
      "Similarity column 38121 (100.0%), 2800.57 column/sec. Elapsed time 13.61 sec\n",
      "EvaluatorHoldout: Ignoring 172 ( 0.5%) Users that have less than 1 test interactions\n",
      "EvaluatorHoldout: Processed 35564 (100.0%) in 38.37 sec. Users per second: 927\n"
     ]
    },
    {
     "name": "stderr",
     "output_type": "stream",
     "text": [
      "[I 2025-01-07 09:14:56,762] Trial 733 finished with value: 0.26530252046817 and parameters: {'similarity': 'asymmetric', 'topK': 55, 'shrink': 830, 'feature_weighting': 'TF-IDF', 'asymmetric_alpha': 0.25436058998495714}. Best is trial 722 with value: 0.2664230591044633.\n"
     ]
    },
    {
     "name": "stdout",
     "output_type": "stream",
     "text": [
      "Similarity column 38121 (100.0%), 2766.37 column/sec. Elapsed time 13.78 sec\n",
      "EvaluatorHoldout: Ignoring 173 ( 0.5%) Users that have less than 1 test interactions\n",
      "EvaluatorHoldout: Processed 35563 (100.0%) in 38.58 sec. Users per second: 922\n",
      "Similarity column 38121 (100.0%), 2813.16 column/sec. Elapsed time 13.55 sec\n",
      "EvaluatorHoldout: Ignoring 163 ( 0.5%) Users that have less than 1 test interactions\n",
      "EvaluatorHoldout: Processed 35573 (100.0%) in 37.97 sec. Users per second: 937\n",
      "Similarity column 38121 (100.0%), 2801.98 column/sec. Elapsed time 13.61 sec\n",
      "EvaluatorHoldout: Ignoring 150 ( 0.4%) Users that have less than 1 test interactions\n",
      "EvaluatorHoldout: Processed 35586 (100.0%) in 38.28 sec. Users per second: 930\n",
      "Similarity column 38121 (100.0%), 2815.87 column/sec. Elapsed time 13.54 sec\n",
      "EvaluatorHoldout: Ignoring 167 ( 0.5%) Users that have less than 1 test interactions\n",
      "EvaluatorHoldout: Processed 35569 (100.0%) in 38.64 sec. Users per second: 920\n",
      "Similarity column 38121 (100.0%), 2720.74 column/sec. Elapsed time 14.01 sec\n",
      "EvaluatorHoldout: Ignoring 172 ( 0.5%) Users that have less than 1 test interactions\n",
      "EvaluatorHoldout: Processed 35564 (100.0%) in 38.17 sec. Users per second: 932\n"
     ]
    },
    {
     "name": "stderr",
     "output_type": "stream",
     "text": [
      "[I 2025-01-07 09:19:18,975] Trial 734 finished with value: 0.26626064709131103 and parameters: {'similarity': 'asymmetric', 'topK': 56, 'shrink': 875, 'feature_weighting': 'TF-IDF', 'asymmetric_alpha': 0.19151795984768255}. Best is trial 722 with value: 0.2664230591044633.\n"
     ]
    },
    {
     "name": "stdout",
     "output_type": "stream",
     "text": [
      "Similarity column 38121 (100.0%), 2811.29 column/sec. Elapsed time 13.56 sec\n",
      "EvaluatorHoldout: Ignoring 173 ( 0.5%) Users that have less than 1 test interactions\n",
      "EvaluatorHoldout: Processed 35563 (100.0%) in 38.53 sec. Users per second: 923\n",
      "Similarity column 38121 (100.0%), 2825.65 column/sec. Elapsed time 13.49 sec\n",
      "EvaluatorHoldout: Ignoring 163 ( 0.5%) Users that have less than 1 test interactions\n",
      "EvaluatorHoldout: Processed 35573 (100.0%) in 38.08 sec. Users per second: 934\n",
      "Similarity column 38121 (100.0%), 2828.31 column/sec. Elapsed time 13.48 sec\n",
      "EvaluatorHoldout: Ignoring 150 ( 0.4%) Users that have less than 1 test interactions\n",
      "EvaluatorHoldout: Processed 35586 (100.0%) in 38.34 sec. Users per second: 928\n",
      "Similarity column 38121 (100.0%), 2803.23 column/sec. Elapsed time 13.60 sec\n",
      "EvaluatorHoldout: Ignoring 167 ( 0.5%) Users that have less than 1 test interactions\n",
      "EvaluatorHoldout: Processed 35569 (100.0%) in 38.14 sec. Users per second: 933\n",
      "Similarity column 38121 (100.0%), 2817.34 column/sec. Elapsed time 13.53 sec\n",
      "EvaluatorHoldout: Ignoring 172 ( 0.5%) Users that have less than 1 test interactions\n",
      "EvaluatorHoldout: Processed 35564 (100.0%) in 38.80 sec. Users per second: 917\n"
     ]
    },
    {
     "name": "stderr",
     "output_type": "stream",
     "text": [
      "[I 2025-01-07 09:23:40,562] Trial 735 finished with value: 0.26443352718717583 and parameters: {'similarity': 'asymmetric', 'topK': 54, 'shrink': 867, 'feature_weighting': 'TF-IDF', 'asymmetric_alpha': 0.2973804225523886}. Best is trial 722 with value: 0.2664230591044633.\n"
     ]
    },
    {
     "name": "stdout",
     "output_type": "stream",
     "text": [
      "Similarity column 38121 (100.0%), 2797.31 column/sec. Elapsed time 13.63 sec\n",
      "EvaluatorHoldout: Ignoring 173 ( 0.5%) Users that have less than 1 test interactions\n",
      "EvaluatorHoldout: Processed 35563 (100.0%) in 38.86 sec. Users per second: 915\n",
      "Similarity column 38121 (100.0%), 2794.74 column/sec. Elapsed time 13.64 sec\n",
      "EvaluatorHoldout: Ignoring 163 ( 0.5%) Users that have less than 1 test interactions\n",
      "EvaluatorHoldout: Processed 35573 (100.0%) in 38.86 sec. Users per second: 915\n",
      "Similarity column 38121 (100.0%), 2762.71 column/sec. Elapsed time 13.80 sec\n",
      "EvaluatorHoldout: Ignoring 150 ( 0.4%) Users that have less than 1 test interactions\n",
      "EvaluatorHoldout: Processed 35586 (100.0%) in 38.64 sec. Users per second: 921\n",
      "Similarity column 38121 (100.0%), 2762.88 column/sec. Elapsed time 13.80 sec\n",
      "EvaluatorHoldout: Ignoring 167 ( 0.5%) Users that have less than 1 test interactions\n",
      "EvaluatorHoldout: Processed 35569 (100.0%) in 38.45 sec. Users per second: 925\n",
      "Similarity column 38121 (100.0%), 2799.96 column/sec. Elapsed time 13.61 sec\n",
      "EvaluatorHoldout: Ignoring 172 ( 0.5%) Users that have less than 1 test interactions\n",
      "EvaluatorHoldout: Processed 35564 (100.0%) in 38.30 sec. Users per second: 929\n"
     ]
    },
    {
     "name": "stderr",
     "output_type": "stream",
     "text": [
      "[I 2025-01-07 09:28:04,242] Trial 736 finished with value: 0.2657674844442407 and parameters: {'similarity': 'asymmetric', 'topK': 58, 'shrink': 885, 'feature_weighting': 'TF-IDF', 'asymmetric_alpha': 0.2038367488493585}. Best is trial 722 with value: 0.2664230591044633.\n"
     ]
    },
    {
     "name": "stdout",
     "output_type": "stream",
     "text": [
      "Similarity column 38121 (100.0%), 2818.25 column/sec. Elapsed time 13.53 sec\n",
      "EvaluatorHoldout: Ignoring 173 ( 0.5%) Users that have less than 1 test interactions\n",
      "EvaluatorHoldout: Processed 35563 (100.0%) in 38.68 sec. Users per second: 919\n",
      "Similarity column 38121 (100.0%), 2772.18 column/sec. Elapsed time 13.75 sec\n",
      "EvaluatorHoldout: Ignoring 163 ( 0.5%) Users that have less than 1 test interactions\n",
      "EvaluatorHoldout: Processed 35573 (100.0%) in 38.29 sec. Users per second: 929\n",
      "Similarity column 38121 (100.0%), 2767.64 column/sec. Elapsed time 13.77 sec\n",
      "EvaluatorHoldout: Ignoring 150 ( 0.4%) Users that have less than 1 test interactions\n",
      "EvaluatorHoldout: Processed 35586 (100.0%) in 38.30 sec. Users per second: 929\n",
      "Similarity column 38121 (100.0%), 2778.21 column/sec. Elapsed time 13.72 sec\n",
      "EvaluatorHoldout: Ignoring 167 ( 0.5%) Users that have less than 1 test interactions\n",
      "EvaluatorHoldout: Processed 35569 (100.0%) in 38.05 sec. Users per second: 935\n",
      "Similarity column 38121 (100.0%), 2832.68 column/sec. Elapsed time 13.46 sec\n",
      "EvaluatorHoldout: Ignoring 172 ( 0.5%) Users that have less than 1 test interactions\n",
      "EvaluatorHoldout: Processed 35564 (100.0%) in 38.07 sec. Users per second: 934\n"
     ]
    },
    {
     "name": "stderr",
     "output_type": "stream",
     "text": [
      "[I 2025-01-07 09:32:25,932] Trial 737 finished with value: 0.26565169132408667 and parameters: {'similarity': 'asymmetric', 'topK': 57, 'shrink': 895, 'feature_weighting': 'TF-IDF', 'asymmetric_alpha': 0.21471842164867422}. Best is trial 722 with value: 0.2664230591044633.\n"
     ]
    },
    {
     "name": "stdout",
     "output_type": "stream",
     "text": [
      "Similarity column 38121 (100.0%), 2832.27 column/sec. Elapsed time 13.46 sec\n",
      "EvaluatorHoldout: Ignoring 173 ( 0.5%) Users that have less than 1 test interactions\n",
      "EvaluatorHoldout: Processed 35563 (100.0%) in 38.20 sec. Users per second: 931\n",
      "Similarity column 38121 (100.0%), 2793.86 column/sec. Elapsed time 13.64 sec\n",
      "EvaluatorHoldout: Ignoring 163 ( 0.5%) Users that have less than 1 test interactions\n",
      "EvaluatorHoldout: Processed 35573 (100.0%) in 37.99 sec. Users per second: 936\n",
      "Similarity column 38121 (100.0%), 2817.10 column/sec. Elapsed time 13.53 sec\n",
      "EvaluatorHoldout: Ignoring 150 ( 0.4%) Users that have less than 1 test interactions\n",
      "EvaluatorHoldout: Processed 35586 (100.0%) in 38.02 sec. Users per second: 936\n",
      "Similarity column 38121 (100.0%), 2805.87 column/sec. Elapsed time 13.59 sec\n",
      "EvaluatorHoldout: Ignoring 167 ( 0.5%) Users that have less than 1 test interactions\n",
      "EvaluatorHoldout: Processed 35569 (100.0%) in 38.32 sec. Users per second: 928\n",
      "Similarity column 38121 (100.0%), 2753.29 column/sec. Elapsed time 13.85 sec\n",
      "EvaluatorHoldout: Ignoring 172 ( 0.5%) Users that have less than 1 test interactions\n",
      "EvaluatorHoldout: Processed 35564 (100.0%) in 38.21 sec. Users per second: 931\n"
     ]
    },
    {
     "name": "stderr",
     "output_type": "stream",
     "text": [
      "[I 2025-01-07 09:36:46,813] Trial 738 finished with value: 0.26630981874046056 and parameters: {'similarity': 'asymmetric', 'topK': 56, 'shrink': 850, 'feature_weighting': 'TF-IDF', 'asymmetric_alpha': 0.19037472119073265}. Best is trial 722 with value: 0.2664230591044633.\n"
     ]
    },
    {
     "name": "stdout",
     "output_type": "stream",
     "text": [
      "Similarity column 38121 (100.0%), 2817.13 column/sec. Elapsed time 13.53 sec\n",
      "EvaluatorHoldout: Ignoring 173 ( 0.5%) Users that have less than 1 test interactions\n",
      "EvaluatorHoldout: Processed 35563 (100.0%) in 38.53 sec. Users per second: 923\n",
      "Similarity column 38121 (100.0%), 2817.15 column/sec. Elapsed time 13.53 sec\n",
      "EvaluatorHoldout: Ignoring 163 ( 0.5%) Users that have less than 1 test interactions\n",
      "EvaluatorHoldout: Processed 35573 (100.0%) in 38.17 sec. Users per second: 932\n",
      "Similarity column 38121 (100.0%), 2822.19 column/sec. Elapsed time 13.51 sec\n",
      "EvaluatorHoldout: Ignoring 150 ( 0.4%) Users that have less than 1 test interactions\n",
      "EvaluatorHoldout: Processed 35586 (100.0%) in 38.41 sec. Users per second: 927\n",
      "Similarity column 38121 (100.0%), 2775.84 column/sec. Elapsed time 13.73 sec\n",
      "EvaluatorHoldout: Ignoring 167 ( 0.5%) Users that have less than 1 test interactions\n",
      "EvaluatorHoldout: Processed 35569 (100.0%) in 38.86 sec. Users per second: 915\n",
      "Similarity column 38121 (100.0%), 2797.46 column/sec. Elapsed time 13.63 sec\n",
      "EvaluatorHoldout: Ignoring 172 ( 0.5%) Users that have less than 1 test interactions\n",
      "EvaluatorHoldout: Processed 35564 (100.0%) in 38.41 sec. Users per second: 926\n"
     ]
    },
    {
     "name": "stderr",
     "output_type": "stream",
     "text": [
      "[I 2025-01-07 09:41:09,229] Trial 739 finished with value: 0.2314964304917715 and parameters: {'similarity': 'asymmetric', 'topK': 58, 'shrink': 940, 'feature_weighting': 'BM25', 'asymmetric_alpha': 0.24582716292881615}. Best is trial 722 with value: 0.2664230591044633.\n"
     ]
    },
    {
     "name": "stdout",
     "output_type": "stream",
     "text": [
      "Similarity column 38121 (100.0%), 2836.52 column/sec. Elapsed time 13.44 sec\n",
      "EvaluatorHoldout: Ignoring 173 ( 0.5%) Users that have less than 1 test interactions\n",
      "EvaluatorHoldout: Processed 35563 (100.0%) in 38.14 sec. Users per second: 932\n",
      "Similarity column 38121 (100.0%), 2809.70 column/sec. Elapsed time 13.57 sec\n",
      "EvaluatorHoldout: Ignoring 163 ( 0.5%) Users that have less than 1 test interactions\n",
      "EvaluatorHoldout: Processed 35573 (100.0%) in 38.45 sec. Users per second: 925\n",
      "Similarity column 38121 (100.0%), 2739.69 column/sec. Elapsed time 13.91 sec\n",
      "EvaluatorHoldout: Ignoring 150 ( 0.4%) Users that have less than 1 test interactions\n",
      "EvaluatorHoldout: Processed 35586 (100.0%) in 37.99 sec. Users per second: 937\n",
      "Similarity column 38121 (100.0%), 2805.97 column/sec. Elapsed time 13.59 sec\n",
      "EvaluatorHoldout: Ignoring 167 ( 0.5%) Users that have less than 1 test interactions\n",
      "EvaluatorHoldout: Processed 35569 (100.0%) in 37.98 sec. Users per second: 937\n",
      "Similarity column 38121 (100.0%), 2803.81 column/sec. Elapsed time 13.60 sec\n",
      "EvaluatorHoldout: Ignoring 172 ( 0.5%) Users that have less than 1 test interactions\n",
      "EvaluatorHoldout: Processed 35564 (100.0%) in 38.51 sec. Users per second: 924\n"
     ]
    },
    {
     "name": "stderr",
     "output_type": "stream",
     "text": [
      "[I 2025-01-07 09:45:30,406] Trial 740 finished with value: 0.26629895042810875 and parameters: {'similarity': 'asymmetric', 'topK': 55, 'shrink': 820, 'feature_weighting': 'TF-IDF', 'asymmetric_alpha': 0.20196704655832168}. Best is trial 722 with value: 0.2664230591044633.\n"
     ]
    },
    {
     "name": "stdout",
     "output_type": "stream",
     "text": [
      "Similarity column 38121 (100.0%), 2806.99 column/sec. Elapsed time 13.58 sec\n",
      "EvaluatorHoldout: Ignoring 173 ( 0.5%) Users that have less than 1 test interactions\n",
      "EvaluatorHoldout: Processed 35563 (100.0%) in 38.16 sec. Users per second: 932\n",
      "Similarity column 38121 (100.0%), 2813.74 column/sec. Elapsed time 13.55 sec\n",
      "EvaluatorHoldout: Ignoring 163 ( 0.5%) Users that have less than 1 test interactions\n",
      "EvaluatorHoldout: Processed 35573 (100.0%) in 38.04 sec. Users per second: 935\n",
      "Similarity column 38121 (100.0%), 2814.02 column/sec. Elapsed time 13.55 sec\n",
      "EvaluatorHoldout: Ignoring 150 ( 0.4%) Users that have less than 1 test interactions\n",
      "EvaluatorHoldout: Processed 35586 (100.0%) in 38.01 sec. Users per second: 936\n",
      "Similarity column 38121 (100.0%), 2762.84 column/sec. Elapsed time 13.80 sec\n",
      "EvaluatorHoldout: Ignoring 167 ( 0.5%) Users that have less than 1 test interactions\n",
      "EvaluatorHoldout: Processed 35569 (100.0%) in 38.56 sec. Users per second: 922\n",
      "Similarity column 38121 (100.0%), 2813.05 column/sec. Elapsed time 13.55 sec\n",
      "EvaluatorHoldout: Ignoring 172 ( 0.5%) Users that have less than 1 test interactions\n",
      "EvaluatorHoldout: Processed 35564 (100.0%) in 37.93 sec. Users per second: 938\n"
     ]
    },
    {
     "name": "stderr",
     "output_type": "stream",
     "text": [
      "[I 2025-01-07 09:49:51,150] Trial 741 finished with value: 0.26592847560935196 and parameters: {'similarity': 'asymmetric', 'topK': 55, 'shrink': 861, 'feature_weighting': 'TF-IDF', 'asymmetric_alpha': 0.2162772721677168}. Best is trial 722 with value: 0.2664230591044633.\n"
     ]
    },
    {
     "name": "stdout",
     "output_type": "stream",
     "text": [
      "Similarity column 38121 (100.0%), 2796.29 column/sec. Elapsed time 13.63 sec\n",
      "EvaluatorHoldout: Ignoring 173 ( 0.5%) Users that have less than 1 test interactions\n",
      "EvaluatorHoldout: Processed 35563 (100.0%) in 38.55 sec. Users per second: 922\n",
      "Similarity column 38121 (100.0%), 2803.51 column/sec. Elapsed time 13.60 sec\n",
      "EvaluatorHoldout: Ignoring 163 ( 0.5%) Users that have less than 1 test interactions\n",
      "EvaluatorHoldout: Processed 35573 (100.0%) in 38.33 sec. Users per second: 928\n",
      "Similarity column 38121 (100.0%), 2842.50 column/sec. Elapsed time 13.41 sec\n",
      "EvaluatorHoldout: Ignoring 150 ( 0.4%) Users that have less than 1 test interactions\n",
      "EvaluatorHoldout: Processed 35586 (100.0%) in 38.38 sec. Users per second: 927\n",
      "Similarity column 38121 (100.0%), 2787.96 column/sec. Elapsed time 13.67 sec\n",
      "EvaluatorHoldout: Ignoring 167 ( 0.5%) Users that have less than 1 test interactions\n",
      "EvaluatorHoldout: Processed 35569 (100.0%) in 38.43 sec. Users per second: 926\n",
      "Similarity column 38121 (100.0%), 2819.34 column/sec. Elapsed time 13.52 sec\n",
      "EvaluatorHoldout: Ignoring 172 ( 0.5%) Users that have less than 1 test interactions\n",
      "EvaluatorHoldout: Processed 35564 (100.0%) in 38.51 sec. Users per second: 924\n"
     ]
    },
    {
     "name": "stderr",
     "output_type": "stream",
     "text": [
      "[I 2025-01-07 09:54:13,186] Trial 742 finished with value: 0.26450974746458417 and parameters: {'similarity': 'asymmetric', 'topK': 54, 'shrink': 847, 'feature_weighting': 'TF-IDF', 'asymmetric_alpha': 0.2990266554838579}. Best is trial 722 with value: 0.2664230591044633.\n"
     ]
    },
    {
     "name": "stdout",
     "output_type": "stream",
     "text": [
      "Similarity column 38121 (100.0%), 2824.32 column/sec. Elapsed time 13.50 sec\n",
      "EvaluatorHoldout: Ignoring 173 ( 0.5%) Users that have less than 1 test interactions\n",
      "EvaluatorHoldout: Processed 35563 (100.0%) in 39.00 sec. Users per second: 912\n",
      "Similarity column 38121 (100.0%), 2769.06 column/sec. Elapsed time 13.77 sec\n",
      "EvaluatorHoldout: Ignoring 163 ( 0.5%) Users that have less than 1 test interactions\n",
      "EvaluatorHoldout: Processed 35573 (100.0%) in 38.59 sec. Users per second: 922\n",
      "Similarity column 38121 (100.0%), 2840.78 column/sec. Elapsed time 13.42 sec\n",
      "EvaluatorHoldout: Ignoring 150 ( 0.4%) Users that have less than 1 test interactions\n",
      "EvaluatorHoldout: Processed 35586 (100.0%) in 38.51 sec. Users per second: 924\n",
      "Similarity column 38121 (100.0%), 2764.86 column/sec. Elapsed time 13.79 sec\n",
      "EvaluatorHoldout: Ignoring 167 ( 0.5%) Users that have less than 1 test interactions\n",
      "EvaluatorHoldout: Processed 35569 (100.0%) in 39.62 sec. Users per second: 898\n",
      "Similarity column 38121 (100.0%), 2803.71 column/sec. Elapsed time 13.60 sec\n",
      "EvaluatorHoldout: Ignoring 172 ( 0.5%) Users that have less than 1 test interactions\n",
      "EvaluatorHoldout: Processed 35564 (100.0%) in 38.59 sec. Users per second: 922\n"
     ]
    },
    {
     "name": "stderr",
     "output_type": "stream",
     "text": [
      "[I 2025-01-07 09:58:37,639] Trial 743 finished with value: 0.26317790833009247 and parameters: {'similarity': 'asymmetric', 'topK': 55, 'shrink': 880, 'feature_weighting': 'TF-IDF', 'asymmetric_alpha': 0.3457483372318839}. Best is trial 722 with value: 0.2664230591044633.\n"
     ]
    },
    {
     "name": "stdout",
     "output_type": "stream",
     "text": [
      "Similarity column 38121 (100.0%), 2828.14 column/sec. Elapsed time 13.48 sec\n",
      "EvaluatorHoldout: Ignoring 173 ( 0.5%) Users that have less than 1 test interactions\n",
      "EvaluatorHoldout: Processed 35563 (100.0%) in 38.25 sec. Users per second: 930\n",
      "Similarity column 38121 (100.0%), 2794.80 column/sec. Elapsed time 13.64 sec\n",
      "EvaluatorHoldout: Ignoring 163 ( 0.5%) Users that have less than 1 test interactions\n",
      "EvaluatorHoldout: Processed 35573 (100.0%) in 39.58 sec. Users per second: 899\n",
      "Similarity column 38121 (100.0%), 2763.96 column/sec. Elapsed time 13.79 sec\n",
      "EvaluatorHoldout: Ignoring 150 ( 0.4%) Users that have less than 1 test interactions\n",
      "EvaluatorHoldout: Processed 35586 (100.0%) in 39.01 sec. Users per second: 912\n",
      "Similarity column 38121 (100.0%), 2790.04 column/sec. Elapsed time 13.66 sec\n",
      "EvaluatorHoldout: Ignoring 167 ( 0.5%) Users that have less than 1 test interactions\n",
      "EvaluatorHoldout: Processed 35569 (100.0%) in 39.28 sec. Users per second: 906\n",
      "Similarity column 38121 (100.0%), 2770.17 column/sec. Elapsed time 13.76 sec\n",
      "EvaluatorHoldout: Ignoring 172 ( 0.5%) Users that have less than 1 test interactions\n",
      "EvaluatorHoldout: Processed 35564 (100.0%) in 39.31 sec. Users per second: 905\n"
     ]
    },
    {
     "name": "stderr",
     "output_type": "stream",
     "text": [
      "[I 2025-01-07 10:03:03,502] Trial 744 finished with value: 0.26551130750406193 and parameters: {'similarity': 'asymmetric', 'topK': 56, 'shrink': 852, 'feature_weighting': 'TF-IDF', 'asymmetric_alpha': 0.2408587714544575}. Best is trial 722 with value: 0.2664230591044633.\n"
     ]
    },
    {
     "name": "stdout",
     "output_type": "stream",
     "text": [
      "Similarity column 38121 (100.0%), 2751.86 column/sec. Elapsed time 13.85 sec\n",
      "EvaluatorHoldout: Ignoring 173 ( 0.5%) Users that have less than 1 test interactions\n",
      "EvaluatorHoldout: Processed 35563 (100.0%) in 38.81 sec. Users per second: 916\n",
      "Similarity column 38121 (100.0%), 2745.76 column/sec. Elapsed time 13.88 sec\n",
      "EvaluatorHoldout: Ignoring 163 ( 0.5%) Users that have less than 1 test interactions\n",
      "EvaluatorHoldout: Processed 35573 (100.0%) in 38.67 sec. Users per second: 920\n",
      "Similarity column 38121 (100.0%), 2770.25 column/sec. Elapsed time 13.76 sec\n",
      "EvaluatorHoldout: Ignoring 150 ( 0.4%) Users that have less than 1 test interactions\n",
      "EvaluatorHoldout: Processed 35586 (100.0%) in 38.30 sec. Users per second: 929\n",
      "Similarity column 38121 (100.0%), 2792.14 column/sec. Elapsed time 13.65 sec\n",
      "EvaluatorHoldout: Ignoring 167 ( 0.5%) Users that have less than 1 test interactions\n",
      "EvaluatorHoldout: Processed 35569 (100.0%) in 38.24 sec. Users per second: 930\n",
      "Similarity column 38121 (100.0%), 2827.50 column/sec. Elapsed time 13.48 sec\n",
      "EvaluatorHoldout: Ignoring 172 ( 0.5%) Users that have less than 1 test interactions\n",
      "EvaluatorHoldout: Processed 35564 (100.0%) in 37.94 sec. Users per second: 937\n"
     ]
    },
    {
     "name": "stderr",
     "output_type": "stream",
     "text": [
      "[I 2025-01-07 10:07:26,136] Trial 745 finished with value: 0.26622775594799974 and parameters: {'similarity': 'asymmetric', 'topK': 53, 'shrink': 835, 'feature_weighting': 'TF-IDF', 'asymmetric_alpha': 0.21352646887965407}. Best is trial 722 with value: 0.2664230591044633.\n"
     ]
    },
    {
     "name": "stdout",
     "output_type": "stream",
     "text": [
      "Similarity column 38121 (100.0%), 2713.50 column/sec. Elapsed time 14.05 sec\n",
      "EvaluatorHoldout: Ignoring 173 ( 0.5%) Users that have less than 1 test interactions\n",
      "EvaluatorHoldout: Processed 35563 (100.0%) in 49.79 sec. Users per second: 714\n",
      "Similarity column 38121 (100.0%), 2719.29 column/sec. Elapsed time 14.02 sec\n",
      "EvaluatorHoldout: Ignoring 163 ( 0.5%) Users that have less than 1 test interactions\n",
      "EvaluatorHoldout: Processed 35573 (100.0%) in 49.90 sec. Users per second: 713\n",
      "Similarity column 38121 (100.0%), 2711.85 column/sec. Elapsed time 14.06 sec\n",
      "EvaluatorHoldout: Ignoring 150 ( 0.4%) Users that have less than 1 test interactions\n",
      "EvaluatorHoldout: Processed 35586 (100.0%) in 49.87 sec. Users per second: 714\n",
      "Similarity column 38121 (100.0%), 2706.76 column/sec. Elapsed time 14.08 sec\n",
      "EvaluatorHoldout: Ignoring 167 ( 0.5%) Users that have less than 1 test interactions\n",
      "EvaluatorHoldout: Processed 35569 (100.0%) in 50.19 sec. Users per second: 709\n",
      "Similarity column 38121 (100.0%), 2681.05 column/sec. Elapsed time 14.22 sec\n",
      "EvaluatorHoldout: Ignoring 172 ( 0.5%) Users that have less than 1 test interactions\n",
      "EvaluatorHoldout: Processed 35564 (100.0%) in 49.65 sec. Users per second: 716\n"
     ]
    },
    {
     "name": "stderr",
     "output_type": "stream",
     "text": [
      "[I 2025-01-07 10:12:50,846] Trial 746 finished with value: 0.24781210139152146 and parameters: {'similarity': 'asymmetric', 'topK': 448, 'shrink': 917, 'feature_weighting': 'TF-IDF', 'asymmetric_alpha': 0.27591263930530313}. Best is trial 722 with value: 0.2664230591044633.\n"
     ]
    },
    {
     "name": "stdout",
     "output_type": "stream",
     "text": [
      "Similarity column 38121 (100.0%), 2832.66 column/sec. Elapsed time 13.46 sec\n",
      "EvaluatorHoldout: Ignoring 173 ( 0.5%) Users that have less than 1 test interactions\n",
      "EvaluatorHoldout: Processed 35563 (100.0%) in 37.70 sec. Users per second: 943\n",
      "Similarity column 38121 (100.0%), 2800.20 column/sec. Elapsed time 13.61 sec\n",
      "EvaluatorHoldout: Ignoring 163 ( 0.5%) Users that have less than 1 test interactions\n",
      "EvaluatorHoldout: Processed 35573 (100.0%) in 37.83 sec. Users per second: 940\n",
      "Similarity column 38121 (100.0%), 2785.69 column/sec. Elapsed time 13.68 sec\n",
      "EvaluatorHoldout: Ignoring 150 ( 0.4%) Users that have less than 1 test interactions\n",
      "EvaluatorHoldout: Processed 35586 (100.0%) in 38.45 sec. Users per second: 925\n",
      "Similarity column 38121 (100.0%), 2749.53 column/sec. Elapsed time 13.86 sec\n",
      "EvaluatorHoldout: Ignoring 167 ( 0.5%) Users that have less than 1 test interactions\n",
      "EvaluatorHoldout: Processed 35569 (100.0%) in 38.37 sec. Users per second: 927\n",
      "Similarity column 38121 (100.0%), 2801.34 column/sec. Elapsed time 13.61 sec\n",
      "EvaluatorHoldout: Ignoring 172 ( 0.5%) Users that have less than 1 test interactions\n",
      "EvaluatorHoldout: Processed 35564 (100.0%) in 39.03 sec. Users per second: 911\n"
     ]
    },
    {
     "name": "stderr",
     "output_type": "stream",
     "text": [
      "[I 2025-01-07 10:17:12,480] Trial 747 finished with value: 0.26620619827682696 and parameters: {'similarity': 'asymmetric', 'topK': 52, 'shrink': 884, 'feature_weighting': 'TF-IDF', 'asymmetric_alpha': 0.21544665026517776}. Best is trial 722 with value: 0.2664230591044633.\n"
     ]
    },
    {
     "name": "stdout",
     "output_type": "stream",
     "text": [
      "Similarity column 38121 (100.0%), 2781.86 column/sec. Elapsed time 13.70 sec\n",
      "EvaluatorHoldout: Ignoring 173 ( 0.5%) Users that have less than 1 test interactions\n",
      "EvaluatorHoldout: Processed 35563 (100.0%) in 38.04 sec. Users per second: 935\n",
      "Similarity column 38121 (100.0%), 2770.01 column/sec. Elapsed time 13.76 sec\n",
      "EvaluatorHoldout: Ignoring 163 ( 0.5%) Users that have less than 1 test interactions\n",
      "EvaluatorHoldout: Processed 35573 (100.0%) in 37.96 sec. Users per second: 937\n",
      "Similarity column 38121 (100.0%), 2809.39 column/sec. Elapsed time 13.57 sec\n",
      "EvaluatorHoldout: Ignoring 150 ( 0.4%) Users that have less than 1 test interactions\n",
      "EvaluatorHoldout: Processed 35586 (100.0%) in 37.97 sec. Users per second: 937\n",
      "Similarity column 38121 (100.0%), 2795.67 column/sec. Elapsed time 13.64 sec\n",
      "EvaluatorHoldout: Ignoring 167 ( 0.5%) Users that have less than 1 test interactions\n",
      "EvaluatorHoldout: Processed 35569 (100.0%) in 38.18 sec. Users per second: 932\n",
      "Similarity column 38121 (100.0%), 2813.66 column/sec. Elapsed time 13.55 sec\n",
      "EvaluatorHoldout: Ignoring 172 ( 0.5%) Users that have less than 1 test interactions\n",
      "EvaluatorHoldout: Processed 35564 (100.0%) in 37.83 sec. Users per second: 940\n"
     ]
    },
    {
     "name": "stderr",
     "output_type": "stream",
     "text": [
      "[I 2025-01-07 10:21:32,696] Trial 748 finished with value: 0.26612055089825487 and parameters: {'similarity': 'asymmetric', 'topK': 51, 'shrink': 849, 'feature_weighting': 'TF-IDF', 'asymmetric_alpha': 0.23049362194772724}. Best is trial 722 with value: 0.2664230591044633.\n"
     ]
    },
    {
     "name": "stdout",
     "output_type": "stream",
     "text": [
      "Similarity column 38121 (100.0%), 2840.53 column/sec. Elapsed time 13.42 sec\n",
      "EvaluatorHoldout: Ignoring 173 ( 0.5%) Users that have less than 1 test interactions\n",
      "EvaluatorHoldout: Processed 35563 (100.0%) in 37.66 sec. Users per second: 944\n",
      "Similarity column 38121 (100.0%), 2785.93 column/sec. Elapsed time 13.68 sec\n",
      "EvaluatorHoldout: Ignoring 163 ( 0.5%) Users that have less than 1 test interactions\n",
      "EvaluatorHoldout: Processed 35573 (100.0%) in 37.81 sec. Users per second: 941\n",
      "Similarity column 38121 (100.0%), 2828.18 column/sec. Elapsed time 13.48 sec\n",
      "EvaluatorHoldout: Ignoring 150 ( 0.4%) Users that have less than 1 test interactions\n",
      "EvaluatorHoldout: Processed 35586 (100.0%) in 38.15 sec. Users per second: 933\n",
      "Similarity column 38121 (100.0%), 2816.33 column/sec. Elapsed time 13.54 sec\n",
      "EvaluatorHoldout: Ignoring 167 ( 0.5%) Users that have less than 1 test interactions\n",
      "EvaluatorHoldout: Processed 35569 (100.0%) in 38.04 sec. Users per second: 935\n",
      "Similarity column 38121 (100.0%), 2808.77 column/sec. Elapsed time 13.57 sec\n",
      "EvaluatorHoldout: Ignoring 172 ( 0.5%) Users that have less than 1 test interactions\n",
      "EvaluatorHoldout: Processed 35564 (100.0%) in 37.75 sec. Users per second: 942\n"
     ]
    },
    {
     "name": "stderr",
     "output_type": "stream",
     "text": [
      "[I 2025-01-07 10:25:51,814] Trial 749 finished with value: 0.2659359012067811 and parameters: {'similarity': 'asymmetric', 'topK': 53, 'shrink': 835, 'feature_weighting': 'TF-IDF', 'asymmetric_alpha': 0.23174836231957807}. Best is trial 722 with value: 0.2664230591044633.\n"
     ]
    },
    {
     "name": "stdout",
     "output_type": "stream",
     "text": [
      "Similarity column 38121 (100.0%), 2821.53 column/sec. Elapsed time 13.51 sec\n",
      "EvaluatorHoldout: Ignoring 173 ( 0.5%) Users that have less than 1 test interactions\n",
      "EvaluatorHoldout: Processed 35563 (100.0%) in 38.20 sec. Users per second: 931\n",
      "Similarity column 38121 (100.0%), 2806.29 column/sec. Elapsed time 13.58 sec\n",
      "EvaluatorHoldout: Ignoring 163 ( 0.5%) Users that have less than 1 test interactions\n",
      "EvaluatorHoldout: Processed 35573 (100.0%) in 38.21 sec. Users per second: 931\n",
      "Similarity column 38121 (100.0%), 2823.50 column/sec. Elapsed time 13.50 sec\n",
      "EvaluatorHoldout: Ignoring 150 ( 0.4%) Users that have less than 1 test interactions\n",
      "EvaluatorHoldout: Processed 35586 (100.0%) in 38.05 sec. Users per second: 935\n",
      "Similarity column 38121 (100.0%), 2809.26 column/sec. Elapsed time 13.57 sec\n",
      "EvaluatorHoldout: Ignoring 167 ( 0.5%) Users that have less than 1 test interactions\n",
      "EvaluatorHoldout: Processed 35569 (100.0%) in 38.05 sec. Users per second: 935\n",
      "Similarity column 38121 (100.0%), 2813.36 column/sec. Elapsed time 13.55 sec\n",
      "EvaluatorHoldout: Ignoring 172 ( 0.5%) Users that have less than 1 test interactions\n",
      "EvaluatorHoldout: Processed 35564 (100.0%) in 37.96 sec. Users per second: 937\n"
     ]
    },
    {
     "name": "stderr",
     "output_type": "stream",
     "text": [
      "[I 2025-01-07 10:30:11,954] Trial 750 finished with value: 0.26560915367069365 and parameters: {'similarity': 'asymmetric', 'topK': 54, 'shrink': 848, 'feature_weighting': 'TF-IDF', 'asymmetric_alpha': 0.24065430769294385}. Best is trial 722 with value: 0.2664230591044633.\n"
     ]
    },
    {
     "name": "stdout",
     "output_type": "stream",
     "text": [
      "Similarity column 38121 (100.0%), 2825.66 column/sec. Elapsed time 13.49 sec\n",
      "EvaluatorHoldout: Ignoring 173 ( 0.5%) Users that have less than 1 test interactions\n",
      "EvaluatorHoldout: Processed 35563 (100.0%) in 38.53 sec. Users per second: 923\n",
      "Similarity column 38121 (100.0%), 2839.75 column/sec. Elapsed time 13.42 sec\n",
      "EvaluatorHoldout: Ignoring 163 ( 0.5%) Users that have less than 1 test interactions\n",
      "EvaluatorHoldout: Processed 35573 (100.0%) in 38.64 sec. Users per second: 921\n",
      "Similarity column 38121 (100.0%), 2785.65 column/sec. Elapsed time 13.68 sec\n",
      "EvaluatorHoldout: Ignoring 150 ( 0.4%) Users that have less than 1 test interactions\n",
      "EvaluatorHoldout: Processed 35586 (100.0%) in 38.62 sec. Users per second: 921\n",
      "Similarity column 38121 (100.0%), 2838.33 column/sec. Elapsed time 13.43 sec\n",
      "EvaluatorHoldout: Ignoring 167 ( 0.5%) Users that have less than 1 test interactions\n",
      "EvaluatorHoldout: Processed 35569 (100.0%) in 38.82 sec. Users per second: 916\n",
      "Similarity column 38121 (100.0%), 2830.23 column/sec. Elapsed time 13.47 sec\n",
      "EvaluatorHoldout: Ignoring 172 ( 0.5%) Users that have less than 1 test interactions\n",
      "EvaluatorHoldout: Processed 35564 (100.0%) in 38.33 sec. Users per second: 928\n"
     ]
    },
    {
     "name": "stderr",
     "output_type": "stream",
     "text": [
      "[I 2025-01-07 10:34:34,400] Trial 751 finished with value: 0.26260365538279623 and parameters: {'similarity': 'asymmetric', 'topK': 54, 'shrink': 839, 'feature_weighting': 'TF-IDF', 'asymmetric_alpha': 0.37535731983549414}. Best is trial 722 with value: 0.2664230591044633.\n"
     ]
    },
    {
     "name": "stdout",
     "output_type": "stream",
     "text": [
      "Similarity column 38121 (100.0%), 2819.90 column/sec. Elapsed time 13.52 sec\n",
      "EvaluatorHoldout: Ignoring 173 ( 0.5%) Users that have less than 1 test interactions\n",
      "EvaluatorHoldout: Processed 35563 (100.0%) in 38.10 sec. Users per second: 933\n",
      "Similarity column 38121 (100.0%), 2806.82 column/sec. Elapsed time 13.58 sec\n",
      "EvaluatorHoldout: Ignoring 163 ( 0.5%) Users that have less than 1 test interactions\n",
      "EvaluatorHoldout: Processed 35573 (100.0%) in 38.90 sec. Users per second: 914\n",
      "Similarity column 38121 (100.0%), 2762.63 column/sec. Elapsed time 13.80 sec\n",
      "EvaluatorHoldout: Ignoring 150 ( 0.4%) Users that have less than 1 test interactions\n",
      "EvaluatorHoldout: Processed 35586 (100.0%) in 39.03 sec. Users per second: 912\n",
      "Similarity column 38121 (100.0%), 2759.73 column/sec. Elapsed time 13.81 sec\n",
      "EvaluatorHoldout: Ignoring 167 ( 0.5%) Users that have less than 1 test interactions\n",
      "EvaluatorHoldout: Processed 35569 (100.0%) in 37.85 sec. Users per second: 940\n",
      "Similarity column 38121 (100.0%), 2825.39 column/sec. Elapsed time 13.49 sec\n",
      "EvaluatorHoldout: Ignoring 172 ( 0.5%) Users that have less than 1 test interactions\n",
      "EvaluatorHoldout: Processed 35564 (100.0%) in 38.29 sec. Users per second: 929\n"
     ]
    },
    {
     "name": "stderr",
     "output_type": "stream",
     "text": [
      "[I 2025-01-07 10:38:56,761] Trial 752 finished with value: 0.2655748218784542 and parameters: {'similarity': 'asymmetric', 'topK': 49, 'shrink': 812, 'feature_weighting': 'TF-IDF', 'asymmetric_alpha': 0.2756894999634062}. Best is trial 722 with value: 0.2664230591044633.\n"
     ]
    },
    {
     "name": "stdout",
     "output_type": "stream",
     "text": [
      "Similarity column 38121 (100.0%), 2736.45 column/sec. Elapsed time 13.93 sec\n",
      "EvaluatorHoldout: Ignoring 173 ( 0.5%) Users that have less than 1 test interactions\n",
      "EvaluatorHoldout: Processed 35563 (100.0%) in 41.69 sec. Users per second: 853\n",
      "Similarity column 38121 (100.0%), 2732.22 column/sec. Elapsed time 13.95 sec\n",
      "EvaluatorHoldout: Ignoring 163 ( 0.5%) Users that have less than 1 test interactions\n",
      "EvaluatorHoldout: Processed 35573 (100.0%) in 43.10 sec. Users per second: 825\n",
      "Similarity column 38121 (100.0%), 2773.59 column/sec. Elapsed time 13.74 sec\n",
      "EvaluatorHoldout: Ignoring 150 ( 0.4%) Users that have less than 1 test interactions\n",
      "EvaluatorHoldout: Processed 35586 (100.0%) in 41.41 sec. Users per second: 859\n",
      "Similarity column 38121 (100.0%), 2792.02 column/sec. Elapsed time 13.65 sec\n",
      "EvaluatorHoldout: Ignoring 167 ( 0.5%) Users that have less than 1 test interactions\n",
      "EvaluatorHoldout: Processed 35569 (100.0%) in 40.89 sec. Users per second: 870\n",
      "Similarity column 38121 (100.0%), 2797.58 column/sec. Elapsed time 13.63 sec\n",
      "EvaluatorHoldout: Ignoring 172 ( 0.5%) Users that have less than 1 test interactions\n",
      "EvaluatorHoldout: Processed 35564 (100.0%) in 41.10 sec. Users per second: 865\n"
     ]
    },
    {
     "name": "stderr",
     "output_type": "stream",
     "text": [
      "[I 2025-01-07 10:43:35,354] Trial 753 finished with value: 0.21262536552710937 and parameters: {'similarity': 'asymmetric', 'topK': 52, 'shrink': 868, 'feature_weighting': 'none', 'asymmetric_alpha': 0.2201163862414971}. Best is trial 722 with value: 0.2664230591044633.\n"
     ]
    },
    {
     "name": "stdout",
     "output_type": "stream",
     "text": [
      "Similarity column 38121 (100.0%), 2676.66 column/sec. Elapsed time 14.24 sec\n",
      "EvaluatorHoldout: Ignoring 173 ( 0.5%) Users that have less than 1 test interactions\n",
      "EvaluatorHoldout: Processed 35563 (100.0%) in 54.32 sec. Users per second: 655\n",
      "Similarity column 38121 (100.0%), 2665.89 column/sec. Elapsed time 14.30 sec\n",
      "EvaluatorHoldout: Ignoring 163 ( 0.5%) Users that have less than 1 test interactions\n",
      "EvaluatorHoldout: Processed 35573 (100.0%) in 54.46 sec. Users per second: 653\n",
      "Similarity column 38121 (100.0%), 2678.69 column/sec. Elapsed time 14.23 sec\n",
      "EvaluatorHoldout: Ignoring 150 ( 0.4%) Users that have less than 1 test interactions\n",
      "EvaluatorHoldout: Processed 35586 (100.0%) in 54.69 sec. Users per second: 651\n",
      "Similarity column 38121 (100.0%), 2663.88 column/sec. Elapsed time 14.31 sec\n",
      "EvaluatorHoldout: Ignoring 167 ( 0.5%) Users that have less than 1 test interactions\n",
      "EvaluatorHoldout: Processed 35569 (100.0%) in 56.36 sec. Users per second: 631\n",
      "Similarity column 38121 (100.0%), 2584.78 column/sec. Elapsed time 14.75 sec\n",
      "EvaluatorHoldout: Ignoring 172 ( 0.5%) Users that have less than 1 test interactions\n",
      "EvaluatorHoldout: Processed 35564 (100.0%) in 56.63 sec. Users per second: 628\n"
     ]
    },
    {
     "name": "stderr",
     "output_type": "stream",
     "text": [
      "[I 2025-01-07 10:49:30,448] Trial 754 finished with value: 0.24320619953417708 and parameters: {'similarity': 'asymmetric', 'topK': 665, 'shrink': 856, 'feature_weighting': 'TF-IDF', 'asymmetric_alpha': 0.21593956064841952}. Best is trial 722 with value: 0.2664230591044633.\n"
     ]
    },
    {
     "name": "stdout",
     "output_type": "stream",
     "text": [
      "Similarity column 38121 (100.0%), 2702.16 column/sec. Elapsed time 14.11 sec\n",
      "EvaluatorHoldout: Ignoring 173 ( 0.5%) Users that have less than 1 test interactions\n",
      "EvaluatorHoldout: Processed 35563 (100.0%) in 40.29 sec. Users per second: 883\n",
      "Similarity column 38121 (100.0%), 2720.29 column/sec. Elapsed time 14.01 sec\n",
      "EvaluatorHoldout: Ignoring 163 ( 0.5%) Users that have less than 1 test interactions\n",
      "EvaluatorHoldout: Processed 35573 (100.0%) in 39.82 sec. Users per second: 893\n",
      "Similarity column 38121 (100.0%), 2755.07 column/sec. Elapsed time 13.84 sec\n",
      "EvaluatorHoldout: Ignoring 150 ( 0.4%) Users that have less than 1 test interactions\n",
      "EvaluatorHoldout: Processed 35586 (100.0%) in 39.48 sec. Users per second: 901\n",
      "Similarity column 38121 (100.0%), 2763.87 column/sec. Elapsed time 13.79 sec\n",
      "EvaluatorHoldout: Ignoring 167 ( 0.5%) Users that have less than 1 test interactions\n",
      "EvaluatorHoldout: Processed 35569 (100.0%) in 38.62 sec. Users per second: 921\n",
      "Similarity column 38121 (100.0%), 2782.24 column/sec. Elapsed time 13.70 sec\n",
      "EvaluatorHoldout: Ignoring 172 ( 0.5%) Users that have less than 1 test interactions\n",
      "EvaluatorHoldout: Processed 35564 (100.0%) in 38.65 sec. Users per second: 920\n"
     ]
    },
    {
     "name": "stderr",
     "output_type": "stream",
     "text": [
      "[I 2025-01-07 10:53:58,892] Trial 755 finished with value: 0.26458514401371935 and parameters: {'similarity': 'asymmetric', 'topK': 50, 'shrink': 798, 'feature_weighting': 'TF-IDF', 'asymmetric_alpha': 0.3177186841293191}. Best is trial 722 with value: 0.2664230591044633.\n"
     ]
    },
    {
     "name": "stdout",
     "output_type": "stream",
     "text": [
      "Similarity column 38121 (100.0%), 2755.62 column/sec. Elapsed time 13.83 sec\n",
      "EvaluatorHoldout: Ignoring 173 ( 0.5%) Users that have less than 1 test interactions\n",
      "EvaluatorHoldout: Processed 35563 (100.0%) in 38.61 sec. Users per second: 921\n",
      "Similarity column 38121 (100.0%), 2748.55 column/sec. Elapsed time 13.87 sec\n",
      "EvaluatorHoldout: Ignoring 163 ( 0.5%) Users that have less than 1 test interactions\n",
      "EvaluatorHoldout: Processed 35573 (100.0%) in 38.73 sec. Users per second: 918\n",
      "Similarity column 38121 (100.0%), 2795.42 column/sec. Elapsed time 13.64 sec\n",
      "EvaluatorHoldout: Ignoring 150 ( 0.4%) Users that have less than 1 test interactions\n",
      "EvaluatorHoldout: Processed 35586 (100.0%) in 39.02 sec. Users per second: 912\n",
      "Similarity column 38121 (100.0%), 2782.41 column/sec. Elapsed time 13.70 sec\n",
      "EvaluatorHoldout: Ignoring 167 ( 0.5%) Users that have less than 1 test interactions\n",
      "EvaluatorHoldout: Processed 35569 (100.0%) in 38.94 sec. Users per second: 913\n",
      "Similarity column 38121 (100.0%), 2797.97 column/sec. Elapsed time 13.62 sec\n",
      "EvaluatorHoldout: Ignoring 172 ( 0.5%) Users that have less than 1 test interactions\n",
      "EvaluatorHoldout: Processed 35564 (100.0%) in 38.63 sec. Users per second: 921\n"
     ]
    },
    {
     "name": "stderr",
     "output_type": "stream",
     "text": [
      "[I 2025-01-07 10:58:23,525] Trial 756 finished with value: 0.2650254996592353 and parameters: {'similarity': 'asymmetric', 'topK': 55, 'shrink': 896, 'feature_weighting': 'TF-IDF', 'asymmetric_alpha': 0.2611751908420241}. Best is trial 722 with value: 0.2664230591044633.\n"
     ]
    },
    {
     "name": "stdout",
     "output_type": "stream",
     "text": [
      "Similarity column 38121 (100.0%), 2716.42 column/sec. Elapsed time 14.03 sec\n",
      "EvaluatorHoldout: Ignoring 173 ( 0.5%) Users that have less than 1 test interactions\n",
      "EvaluatorHoldout: Processed 35563 (100.0%) in 1.00 min. Users per second: 591\n",
      "Similarity column 38121 (100.0%), 2700.74 column/sec. Elapsed time 14.12 sec\n",
      "EvaluatorHoldout: Ignoring 163 ( 0.5%) Users that have less than 1 test interactions\n",
      "EvaluatorHoldout: Processed 35573 (100.0%) in 1.04 min. Users per second: 573\n",
      "Similarity column 38121 (100.0%), 2670.29 column/sec. Elapsed time 14.28 sec\n",
      "EvaluatorHoldout: Ignoring 150 ( 0.4%) Users that have less than 1 test interactions\n",
      "EvaluatorHoldout: Processed 35586 (100.0%) in 1.01 min. Users per second: 586\n",
      "Similarity column 38121 (100.0%), 2682.44 column/sec. Elapsed time 14.21 sec\n",
      "EvaluatorHoldout: Ignoring 167 ( 0.5%) Users that have less than 1 test interactions\n",
      "EvaluatorHoldout: Processed 35569 (100.0%) in 1.00 min. Users per second: 591\n",
      "Similarity column 38121 (100.0%), 2678.38 column/sec. Elapsed time 14.23 sec\n",
      "EvaluatorHoldout: Ignoring 172 ( 0.5%) Users that have less than 1 test interactions\n",
      "EvaluatorHoldout: Processed 35564 (100.0%) in 59.88 sec. Users per second: 594\n"
     ]
    },
    {
     "name": "stderr",
     "output_type": "stream",
     "text": [
      "[I 2025-01-07 11:04:43,875] Trial 757 finished with value: 0.23310203739988208 and parameters: {'similarity': 'asymmetric', 'topK': 564, 'shrink': 835, 'feature_weighting': 'TF-IDF', 'asymmetric_alpha': 0.8177695957189555}. Best is trial 722 with value: 0.2664230591044633.\n"
     ]
    }
   ],
   "source": [
    "if config['tune_parameters']:\n",
    "    \n",
    "    optuna_study = optuna.create_study(direction='maximize', study_name=f'hyperparameters_tuning_{config[\"model\"]}_{config[\"metric\"]}',\n",
    "                                storage=f'sqlite:///{config[\"database_path\"]}', load_if_exists=True)\n",
    "\n",
    "    optuna_study.optimize(objective_function_ItemKNNCF, timeout=3600 * 11 + 60 * 45)"
   ]
  },
  {
   "cell_type": "markdown",
   "id": "27d2ee93",
   "metadata": {
    "papermill": {
     "duration": 0.157129,
     "end_time": "2025-01-07T11:04:44.295989",
     "exception": false,
     "start_time": "2025-01-07T11:04:44.138860",
     "status": "completed"
    },
    "tags": []
   },
   "source": [
    "## Some optuna visualizations on recommender parameters"
   ]
  },
  {
   "cell_type": "code",
   "execution_count": 14,
   "id": "3d5a9135",
   "metadata": {
    "execution": {
     "iopub.execute_input": "2025-01-07T11:04:44.611365Z",
     "iopub.status.busy": "2025-01-07T11:04:44.610850Z",
     "iopub.status.idle": "2025-01-07T11:04:47.305229Z",
     "shell.execute_reply": "2025-01-07T11:04:47.303701Z"
    },
    "papermill": {
     "duration": 2.853755,
     "end_time": "2025-01-07T11:04:47.307025",
     "exception": false,
     "start_time": "2025-01-07T11:04:44.453270",
     "status": "completed"
    },
    "tags": []
   },
   "outputs": [
    {
     "data": {
      "text/html": [
       "<html>\n",
       "<head><meta charset=\"utf-8\" /></head>\n",
       "<body>\n",
       "    <div>            <script src=\"https://cdnjs.cloudflare.com/ajax/libs/mathjax/2.7.5/MathJax.js?config=TeX-AMS-MML_SVG\"></script><script type=\"text/javascript\">if (window.MathJax && window.MathJax.Hub && window.MathJax.Hub.Config) {window.MathJax.Hub.Config({SVG: {font: \"STIX-Web\"}});}</script>                <script type=\"text/javascript\">window.PlotlyConfig = {MathJaxConfig: 'local'};</script>\n",
       "        <script charset=\"utf-8\" src=\"https://cdn.plot.ly/plotly-2.35.2.min.js\"></script>                <div id=\"a133b0d5-f4e2-42c5-a2fb-84237cb11366\" class=\"plotly-graph-div\" style=\"height:525px; width:3000px;\"></div>            <script type=\"text/javascript\">                                    window.PLOTLYENV=window.PLOTLYENV || {};                                    if (document.getElementById(\"a133b0d5-f4e2-42c5-a2fb-84237cb11366\")) {                    Plotly.newPlot(                        \"a133b0d5-f4e2-42c5-a2fb-84237cb11366\",                        [{\"marker\":{\"color\":[11,12,13,15,58,69,125,147,179,225,261,291,315,343,370,400,428,459,486,515,543,570,571,572,573,574,575,576,577,578,579,580,581,582,583,584,585,586,587,588,589,590,591,592,593,594,595,596,597,598,599,600,601,602,603,604,605,606,607,608,609,610,611,612,613,614,615,616,617,618,619,620,621,622,623,624,625,626,627,628,629,630,631,632,633,634,635,636,637,638,639,640,641,642,643,644,645,646,647,648,649,650,651,652,653,654,655,656,657,658,659,660,661,662,663,664,665,666,667,668,669,670,671,672,673,674,675,676,677,678,679,680,681,682,683,684,685,686,687,688,689,690,691,692,693,694,695,696,697,698,699,700,701,702,703,704,705,706,707,708,709,710,711,712,713,714,715,716,717,718,719,720,721,722,723,724,725,726,727,728,729,730,731,732,733,734,735,736,737,738,739,740,741,742,743,744,745,746,747,748,749,750,751,752,753,754,755,756,757],\"colorbar\":{\"title\":{\"text\":\"Trial\"},\"x\":1.0,\"xpad\":40},\"colorscale\":[[0.0,\"rgb(247,251,255)\"],[0.125,\"rgb(222,235,247)\"],[0.25,\"rgb(198,219,239)\"],[0.375,\"rgb(158,202,225)\"],[0.5,\"rgb(107,174,214)\"],[0.625,\"rgb(66,146,198)\"],[0.75,\"rgb(33,113,181)\"],[0.875,\"rgb(8,81,156)\"],[1.0,\"rgb(8,48,107)\"]],\"line\":{\"color\":\"Grey\",\"width\":0.5},\"showscale\":true},\"mode\":\"markers\",\"name\":\"Feasible Trial\",\"showlegend\":false,\"x\":[1.2490635108547936,1.3868304130249864,0.3701974185047463,0.1919926740021835,1.9440672726861656,0.7279585933348233,1.8146837907296933,0.7035169215085025,0.03743022873650981,1.4703278120207952,0.9190069335301394,0.4557390090161506,1.6630971112588246,1.093984249246522,1.5816052830191913,0.6278948142291736,0.9453549215342106,0.004296377956370501,1.9961747785101334,1.1681859489024797,0.5120195480877102,0.2133128893847478,0.2655518361993048,0.2921108166252051,0.2664043319650428,0.17650625014859733,0.21880633209346606,0.207711152664648,0.19332378804134098,0.17303102848895202,0.22099416407205133,0.1595771876015757,0.19431958473663044,0.19631780440693664,0.19304113459033465,0.19163244362232482,0.19963541424718861,0.18980790785367196,0.19928969208522365,0.18760080871036733,0.19274370039113325,0.19238480707241779,0.1955126968242322,0.1902973352370407,0.20002313146325268,0.19743524788292235,0.18941685921905368,0.1896524066087211,0.19731428005429366,0.18410237715978248,0.18722829502280436,0.18598738793968927,0.1840598761945146,0.19457678094311504,0.15366575581906317,0.15877252752731175,0.11768827987378536,0.11654452683300237,0.09121182091120504,0.09697887122696655,0.09031799142658363,0.07325846467926195,0.07360873815412396,0.07505781012232461,0.07050632997309521,0.0848717966352823,0.07220003513465048,0.07061584847065837,0.07245149289382755,0.07898846855008108,0.06764467038519861,0.07206518290033234,0.08233754409014347,0.07544600847906328,0.07719516181560912,0.07353931708228784,0.07030519605713319,0.05907593515766377,0.0819449135150204,0.0796542045668272,0.004989015806507915,0.08056508011987298,0.0873413820930877,0.09217084663227182,0.10384460805903804,0.014206720194985756,0.2993041420886476,0.10252296812751882,0.10351912232551447,0.09450829464781385,0.11531298025797568,0.11787878481875211,0.1198354166878365,0.28979847194996633,0.11869831369355255,0.12468677737630246,0.12339410419303629,0.0034175849354089877,0.01001038990694593,0.27011286620857905,0.13066739254611628,0.12695381522016383,0.1333854269471308,0.1278196994824699,0.1259661851757078,0.12291734243045582,0.12869208576092458,0.13272845252578364,0.13614818253300842,0.13952758404410218,0.13319248026818278,0.14571067647611527,0.14205358795633322,0.13550141808387306,0.13467332019281214,0.13667029292449115,0.13629494860450783,0.14655398789843121,0.14114190019587017,0.1392132236073392,0.14680792803271456,0.15734875007461058,0.14428324261400965,0.24289572297215994,0.1544889146731097,0.14761819582085992,0.15220871866582864,0.24079497504559794,0.14391399106116207,0.15278167128012038,0.15471058008364497,0.1616945232063169,0.7983574336785964,0.2435781537937434,0.15731995223702214,0.16045140125615662,0.16883349407459364,0.32000748337544815,0.23495070658059983,0.1632556750171156,0.1584842353819049,0.16741617867108982,1.31716700133575,0.17006141082902804,0.2284066033585056,0.2236766917503898,0.34378375306046005,0.1718107900260464,0.16819155955339876,0.17252661713676948,0.176674717477518,0.17200265827111058,0.2596076041119277,0.17472174180872108,1.7637101356399403,0.22040860356441222,0.39273584091174557,0.1792637024895177,0.1911516063407804,0.1795899010682251,0.2090282016307497,0.2673831359779473,0.21206980560399677,1.0604375171143525,0.17903359342053915,0.21827329873296597,0.5869073320596616,0.20385209161298734,0.26166810660195317,0.17570732097736294,0.1754570357421639,0.1751822190209314,0.17185036666051415,0.1799424578882547,0.18811879034516205,0.30289922372579536,0.18572011222313944,0.23073308927552705,0.18255271747918092,0.2683909455652957,0.1969970087292531,0.2088159018234999,0.20801478322917608,1.5230778398652043,0.25436058998495714,0.19151795984768255,0.2973804225523886,0.2038367488493585,0.21471842164867422,0.19037472119073265,0.24582716292881615,0.20196704655832168,0.2162772721677168,0.2990266554838579,0.3457483372318839,0.2408587714544575,0.21352646887965407,0.27591263930530313,0.21544665026517776,0.23049362194772724,0.23174836231957807,0.24065430769294385,0.37535731983549414,0.2756894999634062,0.2201163862414971,0.21593956064841952,0.3177186841293191,0.2611751908420241,0.8177695957189555],\"y\":[0.2304573118495677,0.17144150147345222,0.2320857319855421,0.23171090388175025,0.054672355535981446,0.22608833450679114,0.124809511033937,0.24438533737019758,0.24964093523736391,0.12081679500471895,0.20937287642597688,0.24902297133649398,0.0055265346604531345,0.22890498543350976,0.12423199534280256,0.25161241253935335,0.2077995646213308,0.2580493632401571,0.1085759834687818,0.17164448707626226,0.25928495415193503,0.2659280370505061,0.2644702232226721,0.23213197117970022,0.26407752081532976,0.2634132038596865,0.264089236370088,0.26255799459631757,0.26336985393121254,0.2627723231246271,0.26257804739462165,0.2630475553375634,0.26248546759835406,0.26279758436900497,0.2626973560979489,0.26284614233050657,0.26276785447195183,0.26269515678039623,0.2627237365342373,0.2627172907433007,0.2625337444255557,0.26245179314675704,0.26291899194897744,0.2625354649768896,0.21318859713604663,0.261363314721298,0.26177769104624476,0.2614340161318376,0.2613585632652541,0.262799275144951,0.2629786352805573,0.2628503371010484,0.26299525919342737,0.23187085304899227,0.26290562842783893,0.2634642691942532,0.2637868755340754,0.26396976050801557,0.2642816125439075,0.2635387107281714,0.2639833924213239,0.26379301523288945,0.26373287229897246,0.26382349470057403,0.26372607673487714,0.2639097113531771,0.2638867052152324,0.26394582023831636,0.2639105899522236,0.21426342664078155,0.26372268959547723,0.26398787003837293,0.2642570257526461,0.26414360804180737,0.26416882131396235,0.2640548158657558,0.26406825181173804,0.23134517989353637,0.2642829405040691,0.2644853133278738,0.263197025800005,0.2645653155860794,0.2643449290127764,0.2644579272104195,0.26460177406864893,0.2637900817251415,0.26273790776249406,0.2646436727530718,0.26498112988937056,0.2650051986553482,0.264928162969596,0.26512994818086294,0.2131496536424738,0.26315243266542476,0.2650945135824006,0.26516780808646373,0.2650096811097403,0.2643246812905414,0.26404585120260565,0.23181199040984515,0.26512094553811955,0.26530992119340013,0.2651982202154859,0.26508435699157273,0.2653095770685333,0.2652603284612044,0.26522044287413726,0.26533137957855846,0.2653288323097099,0.26529063396421726,0.2653600089794551,0.2651568804226708,0.26540283817986604,0.2656196002890569,0.21258443867678775,0.2655282667399789,0.2656371936831555,0.26554341549638394,0.2655371072432214,0.26548266551920313,0.2656198808198905,0.265458379977608,0.23166680211327245,0.264446876893177,0.26578795024543167,0.26570936107948767,0.26558795538724034,0.2644689195275687,0.2654318714112048,0.2658930244511172,0.265847931774627,0.2657507595645888,0.23542551977407125,0.264925826956968,0.26570401879254046,0.26562903321189013,0.26569217150275964,0.212179632870611,0.26506064367336746,0.26565697480530137,0.2657416790588787,0.26568922108351,0.17588417996539918,0.26483795885172445,0.2654026039386218,0.23191627870045212,0.26222095327953643,0.2660048605282281,0.2660171925231135,0.26582365886161813,0.26578293696893013,0.26563887990427615,0.2640897861586372,0.26597794537257646,0.14693540964557342,0.2654244681906784,0.2608834690741156,0.26580366259716753,0.26575545964672903,0.21297077952715043,0.2656033894549596,0.26495403507356863,0.26549120383783864,0.2041706139922395,0.2661630635239441,0.2655675296059007,0.2529151072396899,0.2655416142457164,0.23171507463501065,0.2660703590387186,0.26575251070294986,0.26575857272947473,0.26613018612091693,0.2664230591044633,0.26606008445340673,0.2637365657955105,0.26627366174489986,0.26562327204792013,0.2660372311355659,0.2644333733006244,0.26616496265109035,0.26604863369248993,0.21235939811727605,0.16207234034043494,0.26530252046817,0.26626064709131103,0.26443352718717583,0.2657674844442407,0.26565169132408667,0.26630981874046056,0.2314964304917715,0.26629895042810875,0.26592847560935196,0.26450974746458417,0.26317790833009247,0.26551130750406193,0.26622775594799974,0.24781210139152146,0.26620619827682696,0.26612055089825487,0.2659359012067811,0.26560915367069365,0.26260365538279623,0.2655748218784542,0.21262536552710937,0.24320619953417708,0.26458514401371935,0.2650254996592353,0.23310203739988208],\"type\":\"scatter\",\"xaxis\":\"x\",\"yaxis\":\"y\"},{\"marker\":{\"color\":[0,1,2,3,4,5,6,7,8,9,10,11,12,13,14,15,16,17,18,19,20,21,22,23,24,25,26,27,28,29,30,31,32,33,34,35,36,37,38,39,40,41,42,43,44,45,46,47,48,49,50,51,52,53,54,55,56,57,58,59,60,61,62,63,64,65,66,67,68,69,70,71,72,73,74,75,76,77,78,79,80,81,82,83,84,85,86,87,88,89,90,91,92,93,94,95,96,97,98,99,100,101,102,103,104,105,106,107,108,109,110,111,112,113,114,115,116,117,118,119,120,121,122,123,124,125,126,127,128,129,130,131,132,133,134,135,136,137,138,139,140,141,142,143,144,145,146,147,148,149,150,151,152,153,154,155,156,157,158,159,160,161,162,163,164,165,166,167,168,169,170,171,172,173,174,175,176,177,178,179,180,181,182,183,184,185,186,187,188,189,190,191,192,193,194,195,196,197,198,199,200,201,202,203,204,205,206,207,208,209,210,211,212,213,214,215,216,217,218,219,220,221,222,223,224,225,226,227,228,229,230,231,232,233,234,235,236,237,238,239,240,241,242,243,244,245,246,247,248,249,250,251,252,253,254,255,256,257,258,259,260,261,262,263,264,265,266,267,268,269,270,271,272,273,274,275,276,277,278,279,280,281,282,283,284,285,286,287,288,289,290,291,292,293,294,295,296,297,298,299,300,301,302,303,304,305,306,307,308,309,310,311,312,313,314,315,316,317,318,319,320,321,322,323,324,325,326,327,328,329,330,331,332,333,334,335,336,337,338,339,340,341,342,343,344,345,346,347,348,349,350,351,352,353,354,355,356,357,358,359,360,361,362,363,364,365,366,367,368,369,370,371,372,373,374,375,376,377,378,379,380,381,382,383,384,385,386,387,388,389,390,391,392,393,394,395,396,397,398,399,400,401,402,403,404,405,406,407,408,409,410,411,412,413,414,415,416,417,418,419,420,421,422,423,424,425,426,427,428,429,430,431,432,433,434,435,436,437,438,439,440,441,442,443,444,445,446,447,448,449,450,451,452,453,454,455,456,457,458,459,460,461,462,463,464,465,466,467,468,469,470,471,472,473,474,475,476,477,478,479,480,481,482,483,484,485,486,487,488,489,490,491,492,493,494,495,496,497,498,499,500,501,502,503,504,505,506,507,508,509,510,511,512,513,514,515,516,517,518,519,520,521,522,523,524,525,526,527,528,529,530,531,532,533,534,535,536,537,538,539,540,541,542,543,544,545,546,547,548,549,550,551,552,553,554,555,556,557,558,559,560,561,562,563,564,565,566,567,568,569,570,571,572,573,574,575,576,577,578,579,580,581,582,583,584,585,586,587,588,589,590,591,592,593,594,595,596,597,598,599,600,601,602,603,604,605,606,607,608,609,610,611,612,613,614,615,616,617,618,619,620,621,622,623,624,625,626,627,628,629,630,631,632,633,634,635,636,637,638,639,640,641,642,643,644,645,646,647,648,649,650,651,652,653,654,655,656,657,658,659,660,661,662,663,664,665,666,667,668,669,670,671,672,673,674,675,676,677,678,679,680,681,682,683,684,685,686,687,688,689,690,691,692,693,694,695,696,697,698,699,700,701,702,703,704,705,706,707,708,709,710,711,712,713,714,715,716,717,718,719,720,721,722,723,724,725,726,727,728,729,730,731,732,733,734,735,736,737,738,739,740,741,742,743,744,745,746,747,748,749,750,751,752,753,754,755,756,757],\"colorbar\":{\"title\":{\"text\":\"Trial\"},\"x\":1.0,\"xpad\":40},\"colorscale\":[[0.0,\"rgb(247,251,255)\"],[0.125,\"rgb(222,235,247)\"],[0.25,\"rgb(198,219,239)\"],[0.375,\"rgb(158,202,225)\"],[0.5,\"rgb(107,174,214)\"],[0.625,\"rgb(66,146,198)\"],[0.75,\"rgb(33,113,181)\"],[0.875,\"rgb(8,81,156)\"],[1.0,\"rgb(8,48,107)\"]],\"line\":{\"color\":\"Grey\",\"width\":0.5},\"showscale\":false},\"mode\":\"markers\",\"name\":\"Feasible Trial\",\"showlegend\":false,\"x\":[\"BM25\",\"none\",\"BM25\",\"BM25\",\"BM25\",\"none\",\"none\",\"none\",\"BM25\",\"BM25\",\"TF-IDF\",\"BM25\",\"TF-IDF\",\"BM25\",\"BM25\",\"BM25\",\"TF-IDF\",\"BM25\",\"BM25\",\"TF-IDF\",\"BM25\",\"BM25\",\"BM25\",\"BM25\",\"BM25\",\"BM25\",\"BM25\",\"BM25\",\"TF-IDF\",\"none\",\"none\",\"none\",\"none\",\"none\",\"none\",\"none\",\"none\",\"none\",\"none\",\"none\",\"none\",\"none\",\"none\",\"none\",\"none\",\"none\",\"none\",\"none\",\"none\",\"none\",\"none\",\"none\",\"none\",\"none\",\"none\",\"none\",\"none\",\"none\",\"TF-IDF\",\"none\",\"none\",\"none\",\"none\",\"none\",\"none\",\"none\",\"TF-IDF\",\"none\",\"none\",\"none\",\"none\",\"none\",\"none\",\"none\",\"none\",\"none\",\"TF-IDF\",\"TF-IDF\",\"TF-IDF\",\"TF-IDF\",\"TF-IDF\",\"TF-IDF\",\"TF-IDF\",\"TF-IDF\",\"TF-IDF\",\"TF-IDF\",\"TF-IDF\",\"TF-IDF\",\"TF-IDF\",\"TF-IDF\",\"TF-IDF\",\"TF-IDF\",\"TF-IDF\",\"TF-IDF\",\"TF-IDF\",\"TF-IDF\",\"TF-IDF\",\"TF-IDF\",\"TF-IDF\",\"TF-IDF\",\"TF-IDF\",\"TF-IDF\",\"TF-IDF\",\"TF-IDF\",\"TF-IDF\",\"TF-IDF\",\"TF-IDF\",\"TF-IDF\",\"TF-IDF\",\"TF-IDF\",\"TF-IDF\",\"TF-IDF\",\"TF-IDF\",\"TF-IDF\",\"TF-IDF\",\"TF-IDF\",\"TF-IDF\",\"TF-IDF\",\"TF-IDF\",\"TF-IDF\",\"TF-IDF\",\"TF-IDF\",\"TF-IDF\",\"TF-IDF\",\"TF-IDF\",\"TF-IDF\",\"TF-IDF\",\"TF-IDF\",\"TF-IDF\",\"TF-IDF\",\"TF-IDF\",\"TF-IDF\",\"TF-IDF\",\"TF-IDF\",\"TF-IDF\",\"TF-IDF\",\"TF-IDF\",\"TF-IDF\",\"BM25\",\"TF-IDF\",\"TF-IDF\",\"TF-IDF\",\"TF-IDF\",\"TF-IDF\",\"TF-IDF\",\"TF-IDF\",\"TF-IDF\",\"TF-IDF\",\"TF-IDF\",\"TF-IDF\",\"TF-IDF\",\"TF-IDF\",\"TF-IDF\",\"TF-IDF\",\"TF-IDF\",\"TF-IDF\",\"TF-IDF\",\"TF-IDF\",\"BM25\",\"TF-IDF\",\"TF-IDF\",\"TF-IDF\",\"TF-IDF\",\"TF-IDF\",\"TF-IDF\",\"TF-IDF\",\"TF-IDF\",\"TF-IDF\",\"TF-IDF\",\"TF-IDF\",\"TF-IDF\",\"TF-IDF\",\"TF-IDF\",\"TF-IDF\",\"TF-IDF\",\"TF-IDF\",\"TF-IDF\",\"TF-IDF\",\"TF-IDF\",\"TF-IDF\",\"TF-IDF\",\"TF-IDF\",\"TF-IDF\",\"TF-IDF\",\"TF-IDF\",\"TF-IDF\",\"TF-IDF\",\"TF-IDF\",\"BM25\",\"TF-IDF\",\"TF-IDF\",\"TF-IDF\",\"TF-IDF\",\"TF-IDF\",\"TF-IDF\",\"TF-IDF\",\"TF-IDF\",\"TF-IDF\",\"TF-IDF\",\"TF-IDF\",\"TF-IDF\",\"TF-IDF\",\"TF-IDF\",\"TF-IDF\",\"TF-IDF\",\"TF-IDF\",\"TF-IDF\",\"TF-IDF\",\"TF-IDF\",\"TF-IDF\",\"TF-IDF\",\"TF-IDF\",\"TF-IDF\",\"TF-IDF\",\"TF-IDF\",\"TF-IDF\",\"TF-IDF\",\"TF-IDF\",\"TF-IDF\",\"TF-IDF\",\"TF-IDF\",\"TF-IDF\",\"TF-IDF\",\"TF-IDF\",\"TF-IDF\",\"TF-IDF\",\"BM25\",\"TF-IDF\",\"TF-IDF\",\"TF-IDF\",\"TF-IDF\",\"TF-IDF\",\"TF-IDF\",\"TF-IDF\",\"TF-IDF\",\"TF-IDF\",\"TF-IDF\",\"TF-IDF\",\"TF-IDF\",\"TF-IDF\",\"TF-IDF\",\"TF-IDF\",\"TF-IDF\",\"TF-IDF\",\"TF-IDF\",\"TF-IDF\",\"TF-IDF\",\"TF-IDF\",\"TF-IDF\",\"TF-IDF\",\"TF-IDF\",\"TF-IDF\",\"TF-IDF\",\"TF-IDF\",\"TF-IDF\",\"TF-IDF\",\"TF-IDF\",\"BM25\",\"TF-IDF\",\"TF-IDF\",\"TF-IDF\",\"TF-IDF\",\"TF-IDF\",\"TF-IDF\",\"TF-IDF\",\"TF-IDF\",\"TF-IDF\",\"TF-IDF\",\"TF-IDF\",\"TF-IDF\",\"TF-IDF\",\"TF-IDF\",\"TF-IDF\",\"TF-IDF\",\"TF-IDF\",\"TF-IDF\",\"TF-IDF\",\"TF-IDF\",\"TF-IDF\",\"TF-IDF\",\"BM25\",\"TF-IDF\",\"TF-IDF\",\"TF-IDF\",\"TF-IDF\",\"TF-IDF\",\"TF-IDF\",\"TF-IDF\",\"TF-IDF\",\"TF-IDF\",\"TF-IDF\",\"TF-IDF\",\"TF-IDF\",\"TF-IDF\",\"TF-IDF\",\"TF-IDF\",\"TF-IDF\",\"TF-IDF\",\"TF-IDF\",\"TF-IDF\",\"TF-IDF\",\"BM25\",\"TF-IDF\",\"TF-IDF\",\"TF-IDF\",\"TF-IDF\",\"TF-IDF\",\"TF-IDF\",\"TF-IDF\",\"TF-IDF\",\"TF-IDF\",\"TF-IDF\",\"TF-IDF\",\"TF-IDF\",\"TF-IDF\",\"TF-IDF\",\"TF-IDF\",\"TF-IDF\",\"TF-IDF\",\"TF-IDF\",\"TF-IDF\",\"BM25\",\"TF-IDF\",\"TF-IDF\",\"TF-IDF\",\"TF-IDF\",\"TF-IDF\",\"TF-IDF\",\"TF-IDF\",\"TF-IDF\",\"TF-IDF\",\"TF-IDF\",\"TF-IDF\",\"TF-IDF\",\"TF-IDF\",\"TF-IDF\",\"TF-IDF\",\"TF-IDF\",\"TF-IDF\",\"TF-IDF\",\"TF-IDF\",\"TF-IDF\",\"TF-IDF\",\"BM25\",\"TF-IDF\",\"TF-IDF\",\"TF-IDF\",\"TF-IDF\",\"TF-IDF\",\"TF-IDF\",\"TF-IDF\",\"TF-IDF\",\"TF-IDF\",\"TF-IDF\",\"TF-IDF\",\"TF-IDF\",\"TF-IDF\",\"TF-IDF\",\"TF-IDF\",\"TF-IDF\",\"TF-IDF\",\"TF-IDF\",\"TF-IDF\",\"TF-IDF\",\"none\",\"TF-IDF\",\"TF-IDF\",\"BM25\",\"TF-IDF\",\"TF-IDF\",\"TF-IDF\",\"TF-IDF\",\"TF-IDF\",\"TF-IDF\",\"TF-IDF\",\"TF-IDF\",\"TF-IDF\",\"TF-IDF\",\"TF-IDF\",\"TF-IDF\",\"TF-IDF\",\"TF-IDF\",\"TF-IDF\",\"TF-IDF\",\"TF-IDF\",\"TF-IDF\",\"none\",\"TF-IDF\",\"TF-IDF\",\"BM25\",\"TF-IDF\",\"TF-IDF\",\"TF-IDF\",\"TF-IDF\",\"TF-IDF\",\"TF-IDF\",\"TF-IDF\",\"TF-IDF\",\"TF-IDF\",\"TF-IDF\",\"TF-IDF\",\"TF-IDF\",\"TF-IDF\",\"TF-IDF\",\"TF-IDF\",\"TF-IDF\",\"TF-IDF\",\"TF-IDF\",\"TF-IDF\",\"none\",\"TF-IDF\",\"TF-IDF\",\"BM25\",\"TF-IDF\",\"TF-IDF\",\"TF-IDF\",\"TF-IDF\",\"TF-IDF\",\"TF-IDF\",\"TF-IDF\",\"TF-IDF\",\"TF-IDF\",\"TF-IDF\",\"TF-IDF\",\"TF-IDF\",\"TF-IDF\",\"TF-IDF\",\"TF-IDF\",\"TF-IDF\",\"TF-IDF\",\"TF-IDF\",\"none\",\"TF-IDF\",\"TF-IDF\",\"TF-IDF\",\"TF-IDF\",\"BM25\",\"TF-IDF\",\"TF-IDF\",\"TF-IDF\",\"TF-IDF\",\"TF-IDF\",\"TF-IDF\",\"TF-IDF\",\"TF-IDF\",\"TF-IDF\",\"TF-IDF\",\"TF-IDF\",\"TF-IDF\",\"TF-IDF\",\"TF-IDF\",\"TF-IDF\",\"TF-IDF\",\"TF-IDF\",\"none\",\"TF-IDF\",\"TF-IDF\",\"TF-IDF\",\"TF-IDF\",\"TF-IDF\",\"BM25\",\"TF-IDF\",\"TF-IDF\",\"TF-IDF\",\"TF-IDF\",\"TF-IDF\",\"TF-IDF\",\"TF-IDF\",\"TF-IDF\",\"TF-IDF\",\"TF-IDF\",\"TF-IDF\",\"TF-IDF\",\"TF-IDF\",\"TF-IDF\",\"none\",\"TF-IDF\",\"TF-IDF\",\"TF-IDF\",\"TF-IDF\",\"TF-IDF\",\"BM25\",\"TF-IDF\",\"TF-IDF\",\"TF-IDF\",\"TF-IDF\",\"TF-IDF\",\"TF-IDF\",\"TF-IDF\",\"TF-IDF\",\"TF-IDF\",\"TF-IDF\",\"TF-IDF\",\"TF-IDF\",\"TF-IDF\",\"TF-IDF\",\"TF-IDF\",\"TF-IDF\",\"TF-IDF\",\"none\",\"TF-IDF\",\"TF-IDF\",\"TF-IDF\",\"BM25\",\"TF-IDF\",\"TF-IDF\",\"TF-IDF\",\"TF-IDF\",\"TF-IDF\",\"TF-IDF\",\"TF-IDF\",\"TF-IDF\",\"TF-IDF\",\"TF-IDF\",\"TF-IDF\",\"TF-IDF\",\"TF-IDF\",\"TF-IDF\",\"TF-IDF\",\"TF-IDF\",\"none\",\"TF-IDF\",\"TF-IDF\",\"TF-IDF\",\"TF-IDF\",\"TF-IDF\",\"TF-IDF\",\"BM25\",\"TF-IDF\",\"TF-IDF\",\"TF-IDF\",\"TF-IDF\",\"TF-IDF\",\"TF-IDF\",\"TF-IDF\",\"TF-IDF\",\"TF-IDF\",\"TF-IDF\",\"TF-IDF\",\"TF-IDF\",\"TF-IDF\",\"TF-IDF\",\"TF-IDF\",\"TF-IDF\",\"TF-IDF\",\"none\",\"TF-IDF\",\"TF-IDF\",\"TF-IDF\",\"BM25\",\"TF-IDF\",\"TF-IDF\",\"TF-IDF\",\"TF-IDF\",\"TF-IDF\",\"TF-IDF\",\"TF-IDF\",\"TF-IDF\",\"TF-IDF\",\"TF-IDF\",\"TF-IDF\",\"TF-IDF\",\"TF-IDF\",\"TF-IDF\",\"TF-IDF\",\"TF-IDF\",\"TF-IDF\",\"TF-IDF\",\"none\",\"TF-IDF\",\"TF-IDF\",\"TF-IDF\",\"BM25\",\"TF-IDF\",\"TF-IDF\",\"TF-IDF\",\"TF-IDF\",\"TF-IDF\",\"TF-IDF\",\"TF-IDF\",\"TF-IDF\",\"TF-IDF\",\"TF-IDF\",\"TF-IDF\",\"TF-IDF\",\"TF-IDF\",\"TF-IDF\",\"TF-IDF\",\"TF-IDF\",\"TF-IDF\",\"TF-IDF\",\"TF-IDF\",\"TF-IDF\",\"none\",\"TF-IDF\",\"TF-IDF\",\"TF-IDF\",\"TF-IDF\",\"TF-IDF\",\"TF-IDF\",\"TF-IDF\",\"TF-IDF\",\"BM25\",\"TF-IDF\",\"TF-IDF\",\"TF-IDF\",\"TF-IDF\",\"TF-IDF\",\"TF-IDF\",\"TF-IDF\",\"TF-IDF\",\"TF-IDF\",\"TF-IDF\",\"TF-IDF\",\"TF-IDF\",\"TF-IDF\",\"TF-IDF\",\"TF-IDF\",\"none\",\"TF-IDF\",\"TF-IDF\",\"TF-IDF\",\"TF-IDF\",\"TF-IDF\",\"TF-IDF\",\"TF-IDF\",\"BM25\",\"TF-IDF\",\"TF-IDF\",\"TF-IDF\",\"TF-IDF\",\"TF-IDF\",\"TF-IDF\",\"TF-IDF\",\"TF-IDF\",\"TF-IDF\",\"TF-IDF\",\"TF-IDF\",\"TF-IDF\",\"TF-IDF\",\"TF-IDF\",\"none\",\"TF-IDF\",\"TF-IDF\",\"TF-IDF\",\"TF-IDF\",\"TF-IDF\",\"TF-IDF\",\"BM25\",\"TF-IDF\",\"TF-IDF\",\"TF-IDF\",\"TF-IDF\",\"TF-IDF\",\"TF-IDF\",\"TF-IDF\",\"TF-IDF\",\"TF-IDF\",\"TF-IDF\",\"TF-IDF\",\"TF-IDF\",\"TF-IDF\",\"TF-IDF\",\"none\",\"TF-IDF\",\"TF-IDF\",\"TF-IDF\",\"TF-IDF\",\"TF-IDF\",\"TF-IDF\",\"TF-IDF\",\"BM25\",\"TF-IDF\",\"TF-IDF\",\"TF-IDF\",\"TF-IDF\",\"TF-IDF\",\"TF-IDF\",\"TF-IDF\",\"TF-IDF\",\"TF-IDF\",\"TF-IDF\",\"TF-IDF\",\"TF-IDF\",\"TF-IDF\",\"TF-IDF\",\"none\",\"TF-IDF\",\"TF-IDF\",\"TF-IDF\",\"TF-IDF\",\"TF-IDF\",\"TF-IDF\",\"TF-IDF\",\"BM25\",\"TF-IDF\",\"TF-IDF\",\"TF-IDF\",\"TF-IDF\",\"TF-IDF\",\"TF-IDF\",\"TF-IDF\",\"TF-IDF\",\"TF-IDF\",\"TF-IDF\",\"TF-IDF\",\"TF-IDF\",\"TF-IDF\",\"none\",\"TF-IDF\",\"TF-IDF\",\"TF-IDF\",\"TF-IDF\",\"TF-IDF\",\"TF-IDF\",\"TF-IDF\",\"TF-IDF\",\"BM25\",\"TF-IDF\",\"TF-IDF\",\"TF-IDF\",\"TF-IDF\",\"TF-IDF\",\"TF-IDF\",\"TF-IDF\",\"TF-IDF\",\"TF-IDF\",\"TF-IDF\",\"TF-IDF\",\"TF-IDF\",\"TF-IDF\",\"none\",\"TF-IDF\",\"TF-IDF\",\"TF-IDF\",\"TF-IDF\",\"TF-IDF\",\"TF-IDF\",\"TF-IDF\",\"BM25\",\"TF-IDF\",\"TF-IDF\",\"TF-IDF\",\"TF-IDF\",\"TF-IDF\",\"TF-IDF\",\"TF-IDF\",\"TF-IDF\",\"TF-IDF\",\"TF-IDF\",\"TF-IDF\",\"TF-IDF\",\"TF-IDF\",\"none\",\"TF-IDF\",\"TF-IDF\",\"TF-IDF\",\"TF-IDF\"],\"y\":[0.23148330284290042,0.13624718955739376,0.1471750754734151,0.17665494281875593,0.22605954763810066,0.20349984418451744,0.1972443703365315,0.19482189997815597,0.17637428068323063,0.22522086925996349,0.22319422054210195,0.2304573118495677,0.17144150147345222,0.2320857319855421,0.23275752848559866,0.23171090388175025,0.2127854379593969,0.23970748561893918,0.240483947366465,0.22505091809824102,0.24092850196791454,0.24090856193617882,0.2355894386586912,0.24176958909342275,0.23873396992488702,0.24254635065272973,0.24957153157159687,0.24888446910334255,0.23541728054090555,0.2516468092914111,0.25443769162528307,0.2548065564830398,0.25372594137621196,0.2542656062806814,0.2510363291879291,0.21729222252899047,0.2542230921973612,0.23936386771471282,0.23272192674389913,0.2430012686796093,0.2445792335742334,0.2508384206817508,0.2555594698275499,0.25216047372169353,0.09889549888703199,0.21599737636144267,0.23142058460597698,0.24626551129669433,0.22726151671351763,0.23969296349398544,0.24756067995173195,0.25530024248415983,0.25560379420324086,0.25571632981331993,0.25565640365780096,0.08043575093375183,0.21855068461434887,0.24773265987949525,0.054672355535981446,0.22372828175047949,0.2358642124673164,0.2553778916070521,0.2568086807011941,0.2558789323947374,0.2552056581054293,0.2455116840403182,0.2152355960719305,0.0055265346604531345,0.11067393242761561,0.22608833450679114,0.233145956015041,0.2547298553411854,0.24897096109001587,0.2576156616761005,0.25744981266166433,0.21698334053455676,0.2575202661872857,0.2561060665645264,0.25578135216037295,0.25494998947199676,0.2538111399898332,0.2559646138359945,0.25582035948664855,0.2559897184094767,0.2559974523038986,0.2533678262625595,0.2562629450364597,0.2523955512395206,0.25646652209648685,0.2501219720024811,0.2485134954588148,0.25647034080192216,0.2551863355191928,0.2565211778203894,0.2565991891007239,0.25422240615921754,0.24847896854246318,0.2578990980248367,0.25753610102787367,0.25964283046146747,0.25917266297874675,0.258279823411374,0.2598612810007102,0.2596685152716735,0.2593783948294804,0.25918602878015073,0.25919092214299544,0.25919132087475044,0.2583387599220447,0.2585890395914807,0.21708510837470243,0.2587061884464763,0.2589839874559213,0.2589583376145547,0.25863546012247757,0.25885640146171823,0.25970924597612643,0.2600522358728864,0.2597082707062577,0.25826614004087733,0.21113037843336824,0.2599951255124881,0.2600831369621336,0.26007342166596137,0.2602208581514182,0.124809511033937,0.24869521280564416,0.055944053866720675,0.0055265346604531345,0.2600945614984461,0.260019690529778,0.2602939568788393,0.26015952543770826,0.2600300024230263,0.2601363510062749,0.2600263645507829,0.2600216894749122,0.25986158212031707,0.23112299979914588,0.258406550449704,0.2563362950505154,0.25987593054671143,0.25809501891627473,0.2600722602929655,0.2592606292932317,0.23251582536931018,0.25844008266429297,0.24438533737019758,0.1047407367488387,0.25840097475794127,0.2563216651426966,0.2598256616300174,0.24862544044376894,0.2601035905209292,0.2602726153027083,0.22736937727738943,0.2585028479772481,0.0055265346604531345,0.2307749488633813,0.2601695123332381,0.2590679863270371,0.2601695123332381,0.2601854248411634,0.25797448558814523,0.26021846822095585,0.2588010860733287,0.26015684881002554,0.25744117476851935,0.0055265346604531345,0.2602098221402436,0.0055265346604531345,0.2602967190708516,0.26030777685753526,0.2587079872788002,0.2602398571830838,0.2600797939695729,0.25878144958385246,0.2601141247441451,0.2580234098585182,0.24964093523736391,0.23835958795670487,0.2601999026823316,0.25908841948201733,0.0055265346604531345,0.26014436975609867,0.252680413487203,0.14577658713529842,0.25909516298509416,0.25835488067699763,0.25841751302486693,0.2593481385474267,0.2602909363743621,0.26020579220238493,0.25996299344736007,0.0055265346604531345,0.26021464860255117,0.25996258609179124,0.260148938520933,0.251475362966174,0.2592997343508444,0.26021746435997634,0.26026967279496155,0.25973168609259234,0.25956870479820804,0.15723541587884352,0.2602150234922539,0.2587655274981736,0.2601907058553735,0.2579695019688275,0.2597590106646209,0.26020274354136347,0.26021746435997634,0.25918609774315415,0.2602304128932977,0.0055265346604531345,0.2600048907447058,0.25898286532965625,0.26003591850712676,0.25955447200453297,0.25835700679338836,0.23143347632150107,0.2601496975882339,0.26023387066960185,0.2592878663097236,0.25947503718498066,0.12081679500471895,0.23194952716433268,0.2571584636359604,0.2593115432955166,0.22653160301581338,0.23114123541862147,0.2602284434081664,0.260170469264755,0.25900203441061187,0.0055265346604531345,0.26020109143156656,0.2593904519297865,0.2601949006087537,0.25972130209036765,0.25880710274682955,0.0055265346604531345,0.2602256159803388,0.25989067700252066,0.2601754809322693,0.2596268953818736,0.2602288515369037,0.25951884223100213,0.26018302358003814,0.2590879673112943,0.25958295616772503,0.26018595633990504,0.25955719105953917,0.25787750019155997,0.25930265616957976,0.2597042449670595,0.0055265346604531345,0.2602584809607259,0.23011156573280486,0.2587367168817073,0.0055265346604531345,0.26007023824899744,0.20937287642597688,0.26028008884807147,0.2593807253561915,0.09553855607140857,0.2599422480992969,0.26010841108429805,0.22476821283625031,0.259786569921156,0.2600146054175172,0.25937865695511186,0.0055265346604531345,0.2590838442103591,0.25808956918456116,0.2602203281578796,0.2597317041640639,0.2602112037161034,0.25957325982143475,0.258877519296107,0.2602381414271046,0.22945208899693456,0.25744764276503185,0.2601389618318306,0.25862269615460065,0.0055265346604531345,0.25943561873427423,0.2602278701134813,0.23464555602847445,0.2599600968746837,0.25109521608492075,0.22616600296427292,0.24902297133649398,0.15980766326376777,0.2585037107282405,0.25959143225865944,0.23005291874778028,0.0055265346604531345,0.2600550790310071,0.2587447097389494,0.25083312841401195,0.2594651705326456,0.22958111317103339,0.24941654283595271,0.2579482547122322,0.2601834638208213,0.2590896987297058,0.25994874879872176,0.2566554050110399,0.25015859489277437,0.2600386104686468,0.2592319521116402,0.2585951255947024,0.26008564469795814,0.21741802503013158,0.2539877203172722,0.0055265346604531345,0.2589570531637072,0.25770568201608424,0.0880585795268939,0.25938500137216963,0.2597812568469251,0.23116128426210455,0.2291441194798381,0.24985205544205963,0.15850607801390945,0.26016129018239126,0.2597370506135189,0.2600367201176465,0.25717057614970573,0.24831692697656357,0.2582856987402793,0.25941580123030095,0.25902385793599475,0.2602165828964806,0.0055265346604531345,0.259047320965904,0.2602042368707474,0.2582206446586085,0.26008694878407146,0.25971224492230577,0.2218098485066912,0.25197504054199743,0.25329318927483335,0.22890498543350976,0.26016787043909445,0.24097187263705983,0.2596410261874563,0.0055265346604531345,0.2263192919508843,0.2602107262461635,0.2591413763276285,0.2599697764094289,0.2599035287571607,0.24912732627669434,0.25853454670141957,0.0055265346604531345,0.2602479563416023,0.2570647641626406,0.2597794014276498,0.26011505151287,0.258378248473657,0.2593672598844204,0.2594305608338029,0.2602377722326518,0.21747323800604795,0.25786216947937035,0.2589923283179569,0.22930192799671553,0.23437172886744215,0.259471311198238,0.12423199534280256,0.2585635275207351,0.2601621662418898,0.2291377094869344,0.09136125441898482,0.0055265346604531345,0.26025539263972364,0.22613615098541356,0.25812082386342944,0.2587782732977528,0.26022759304269494,0.0055265346604531345,0.26023420611156195,0.2599532557543383,0.25122404967421585,0.2595217911182349,0.21837846063315292,0.2585744677146846,0.2525903908945561,0.23135724063380453,0.25050400302757386,0.2593617169659936,0.2600063671313236,0.259550281077439,0.2576169219628822,0.25864445652737356,0.21526253969522138,0.1587515171345776,0.2599170715747089,0.2590987364778049,0.25161241253935335,0.0055265346604531345,0.2602354350090934,0.21568719784113383,0.2582417723800057,0.26021629845031924,0.2249226784457174,0.26004879526486435,0.25969059714374343,0.21984525305723507,0.0055265346604531345,0.26030932919014205,0.22957241721625093,0.2599196639567832,0.25736517507920914,0.2602943453657022,0.25878144958385246,0.2596474649178281,0.26001368722739227,0.0055265346604531345,0.25914461700733715,0.2602909363743621,0.26022258635489964,0.2582244198596249,0.25999384532474223,0.25966079018410293,0.2587475879629773,0.21966113663044595,0.2077995646213308,0.22745558700225602,0.25940255367569615,0.21869407353698395,0.0730533295602892,0.2583681131252991,0.2593052433093101,0.0055265346604531345,0.2575467943131183,0.2602588626378052,0.2588132446671249,0.2601430863086486,0.25980703888924817,0.2594272506890332,0.25830630997380244,0.0055265346604531345,0.26016596222143695,0.25928500089234047,0.2597664437273418,0.2601555057914077,0.25565182482116927,0.25753992907091217,0.2588869456432543,0.2597111251745622,0.25994013204426897,0.25951884223100213,0.22515122483136155,0.0055265346604531345,0.2275176733713244,0.26025157902653767,0.2586679212832642,0.2580493632401571,0.0055265346604531345,0.2157806709888035,0.26027144997400836,0.2580004890827271,0.23122523985177565,0.25881758397912435,0.26017211243352223,0.26009334454080163,0.2567786022580739,0.2592460258953557,0.2580568728872543,0.2602116520835973,0.2596326284048935,0.0055265346604531345,0.259432322661013,0.2184415577017529,0.2601799016771452,0.2588993606297075,0.25443746344604556,0.26008318966057925,0.2598474024260215,0.2295737646501374,0.26024538958526555,0.2288159559506609,0.23231146959485285,0.0055265346604531345,0.1085759834687818,0.260172108804372,0.25882429419848485,0.2597104101892449,0.2597756264281478,0.0869794028164759,0.2591295629637894,0.23165514271750293,0.0055265346604531345,0.2581727935225413,0.25159807661144884,0.25952463494336436,0.2597784926295728,0.21936910173109378,0.2590735526492117,0.25706439760811906,0.25178513400185193,0.22926094314338635,0.2597647560626294,0.2595196300514662,0.2583506478580867,0.260229039807429,0.25966701614166504,0.2549257490673278,0.2566343811901296,0.23552673990689793,0.22800688842369093,0.2595386599333579,0.0055265346604531345,0.17164448707626226,0.2536328458953843,0.1684000887798227,0.24999205283655904,0.2580055337032765,0.22907116858125537,0.2589810409372474,0.25978118215921925,0.0055265346604531345,0.2599735545953593,0.25925956388189403,0.26003123984301163,0.2320362939646839,0.25972087619449563,0.25957054489777315,0.2602897203484428,0.2587723562994834,0.2593941115142979,0.259968640874758,0.25750631267648183,0.0055265346604531345,0.25939589008135994,0.26023905126711677,0.24954106301564621,0.22689461845346556,0.22712026330394103,0.0055265346604531345,0.25997693565562763,0.25928495415193503,0.25942522434669035,0.21696625497730326,0.09395806969245246,0.2595755954530888,0.2599726914236883,0.25661690650345714,0.2579170487010466,0.2592806729514664,0.0055265346604531345,0.25121630768691805,0.2601063832303302,0.2602128016209736,0.2587937988935096,0.259659445139648,0.2570699414084287,0.25980326153108735,0.25250048108610856,0.2583853278009856,0.2598779591671245,0.2504721305336949,0.2598615553919898,0.25938210339750223,0.2602121735374394,0.21296608480257068,0.23336665633630677,0.2602296162226865,0.2659280370505061,0.2644702232226721,0.23213197117970022,0.26407752081532976,0.2634132038596865,0.264089236370088,0.26255799459631757,0.26336985393121254,0.2627723231246271,0.26257804739462165,0.2630475553375634,0.26248546759835406,0.26279758436900497,0.2626973560979489,0.26284614233050657,0.26276785447195183,0.26269515678039623,0.2627237365342373,0.2627172907433007,0.2625337444255557,0.26245179314675704,0.26291899194897744,0.2625354649768896,0.21318859713604663,0.261363314721298,0.26177769104624476,0.2614340161318376,0.2613585632652541,0.262799275144951,0.2629786352805573,0.2628503371010484,0.26299525919342737,0.23187085304899227,0.26290562842783893,0.2634642691942532,0.2637868755340754,0.26396976050801557,0.2642816125439075,0.2635387107281714,0.2639833924213239,0.26379301523288945,0.26373287229897246,0.26382349470057403,0.26372607673487714,0.2639097113531771,0.2638867052152324,0.26394582023831636,0.2639105899522236,0.21426342664078155,0.26372268959547723,0.26398787003837293,0.2642570257526461,0.26414360804180737,0.26416882131396235,0.2640548158657558,0.26406825181173804,0.23134517989353637,0.2642829405040691,0.2644853133278738,0.263197025800005,0.2645653155860794,0.2643449290127764,0.2644579272104195,0.26460177406864893,0.2637900817251415,0.26273790776249406,0.2646436727530718,0.26498112988937056,0.2650051986553482,0.264928162969596,0.26512994818086294,0.2131496536424738,0.26315243266542476,0.2650945135824006,0.26516780808646373,0.2650096811097403,0.2643246812905414,0.26404585120260565,0.23181199040984515,0.26512094553811955,0.26530992119340013,0.2651982202154859,0.26508435699157273,0.2653095770685333,0.2652603284612044,0.26522044287413726,0.26533137957855846,0.2653288323097099,0.26529063396421726,0.2653600089794551,0.2651568804226708,0.26540283817986604,0.2656196002890569,0.21258443867678775,0.2655282667399789,0.2656371936831555,0.26554341549638394,0.2655371072432214,0.26548266551920313,0.2656198808198905,0.265458379977608,0.23166680211327245,0.264446876893177,0.26578795024543167,0.26570936107948767,0.26558795538724034,0.2644689195275687,0.2654318714112048,0.2658930244511172,0.265847931774627,0.2657507595645888,0.23542551977407125,0.264925826956968,0.26570401879254046,0.26562903321189013,0.26569217150275964,0.212179632870611,0.26506064367336746,0.26565697480530137,0.2657416790588787,0.26568922108351,0.17588417996539918,0.26483795885172445,0.2654026039386218,0.23191627870045212,0.26222095327953643,0.2660048605282281,0.2660171925231135,0.26582365886161813,0.26578293696893013,0.26563887990427615,0.2640897861586372,0.26597794537257646,0.14693540964557342,0.2654244681906784,0.2608834690741156,0.26580366259716753,0.26575545964672903,0.21297077952715043,0.2656033894549596,0.26495403507356863,0.26549120383783864,0.2041706139922395,0.2661630635239441,0.2655675296059007,0.2529151072396899,0.2655416142457164,0.23171507463501065,0.2660703590387186,0.26575251070294986,0.26575857272947473,0.26613018612091693,0.2664230591044633,0.26606008445340673,0.2637365657955105,0.26627366174489986,0.26562327204792013,0.2660372311355659,0.2644333733006244,0.26616496265109035,0.26604863369248993,0.21235939811727605,0.16207234034043494,0.26530252046817,0.26626064709131103,0.26443352718717583,0.2657674844442407,0.26565169132408667,0.26630981874046056,0.2314964304917715,0.26629895042810875,0.26592847560935196,0.26450974746458417,0.26317790833009247,0.26551130750406193,0.26622775594799974,0.24781210139152146,0.26620619827682696,0.26612055089825487,0.2659359012067811,0.26560915367069365,0.26260365538279623,0.2655748218784542,0.21262536552710937,0.24320619953417708,0.26458514401371935,0.2650254996592353,0.23310203739988208],\"type\":\"scatter\",\"xaxis\":\"x2\",\"yaxis\":\"y2\"},{\"marker\":{\"color\":[1,2,3,8,44,55,68,127,148,186,229,264,290,318,345,374,403,432,461,491,517,546],\"colorbar\":{\"title\":{\"text\":\"Trial\"},\"x\":1.0,\"xpad\":40},\"colorscale\":[[0.0,\"rgb(247,251,255)\"],[0.125,\"rgb(222,235,247)\"],[0.25,\"rgb(198,219,239)\"],[0.375,\"rgb(158,202,225)\"],[0.5,\"rgb(107,174,214)\"],[0.625,\"rgb(66,146,198)\"],[0.75,\"rgb(33,113,181)\"],[0.875,\"rgb(8,81,156)\"],[1.0,\"rgb(8,48,107)\"]],\"line\":{\"color\":\"Grey\",\"width\":0.5},\"showscale\":false},\"mode\":\"markers\",\"name\":\"Feasible Trial\",\"showlegend\":false,\"x\":[true,true,true,true,false,false,false,false,false,true,true,false,true,false,true,false,true,false,true,false,true,false],\"y\":[0.13624718955739376,0.1471750754734151,0.17665494281875593,0.17637428068323063,0.09889549888703199,0.08043575093375183,0.11067393242761561,0.055944053866720675,0.1047407367488387,0.14577658713529842,0.22653160301581338,0.09553855607140857,0.22616600296427292,0.0880585795268939,0.24097187263705983,0.09136125441898482,0.21568719784113383,0.0730533295602892,0.2157806709888035,0.0869794028164759,0.1684000887798227,0.09395806969245246],\"type\":\"scatter\",\"xaxis\":\"x3\",\"yaxis\":\"y3\"},{\"marker\":{\"color\":[1,2,3,8,44,55,68,127,148,186,229,264,290,318,345,374,403,432,461,491,517,546],\"colorbar\":{\"title\":{\"text\":\"Trial\"},\"x\":1.0,\"xpad\":40},\"colorscale\":[[0.0,\"rgb(247,251,255)\"],[0.125,\"rgb(222,235,247)\"],[0.25,\"rgb(198,219,239)\"],[0.375,\"rgb(158,202,225)\"],[0.5,\"rgb(107,174,214)\"],[0.625,\"rgb(66,146,198)\"],[0.75,\"rgb(33,113,181)\"],[0.875,\"rgb(8,81,156)\"],[1.0,\"rgb(8,48,107)\"]],\"line\":{\"color\":\"Grey\",\"width\":0.5},\"showscale\":false},\"mode\":\"markers\",\"name\":\"Feasible Trial\",\"showlegend\":false,\"x\":[true,false,true,true,false,false,true,false,false,true,false,true,true,false,true,false,true,false,false,true,false,true],\"y\":[0.13624718955739376,0.1471750754734151,0.17665494281875593,0.17637428068323063,0.09889549888703199,0.08043575093375183,0.11067393242761561,0.055944053866720675,0.1047407367488387,0.14577658713529842,0.22653160301581338,0.09553855607140857,0.22616600296427292,0.0880585795268939,0.24097187263705983,0.09136125441898482,0.21568719784113383,0.0730533295602892,0.2157806709888035,0.0869794028164759,0.1684000887798227,0.09395806969245246],\"type\":\"scatter\",\"xaxis\":\"x4\",\"yaxis\":\"y4\"},{\"marker\":{\"color\":[0,1,2,3,4,5,6,7,8,9,10,11,12,13,14,15,16,17,18,19,20,21,22,23,24,25,26,27,28,29,30,31,32,33,34,35,36,37,38,39,40,41,42,43,44,45,46,47,48,49,50,51,52,53,54,55,56,57,58,59,60,61,62,63,64,65,66,67,68,69,70,71,72,73,74,75,76,77,78,79,80,81,82,83,84,85,86,87,88,89,90,91,92,93,94,95,96,97,98,99,100,101,102,103,104,105,106,107,108,109,110,111,112,113,114,115,116,117,118,119,120,121,122,123,124,125,126,127,128,129,130,131,132,133,134,135,136,137,138,139,140,141,142,143,144,145,146,147,148,149,150,151,152,153,154,155,156,157,158,159,160,161,162,163,164,165,166,167,168,169,170,171,172,173,174,175,176,177,178,179,180,181,182,183,184,185,186,187,188,189,190,191,192,193,194,195,196,197,198,199,200,201,202,203,204,205,206,207,208,209,210,211,212,213,214,215,216,217,218,219,220,221,222,223,224,225,226,227,228,229,230,231,232,233,234,235,236,237,238,239,240,241,242,243,244,245,246,247,248,249,250,251,252,253,254,255,256,257,258,259,260,261,262,263,264,265,266,267,268,269,270,271,272,273,274,275,276,277,278,279,280,281,282,283,284,285,286,287,288,289,290,291,292,293,294,295,296,297,298,299,300,301,302,303,304,305,306,307,308,309,310,311,312,313,314,315,316,317,318,319,320,321,322,323,324,325,326,327,328,329,330,331,332,333,334,335,336,337,338,339,340,341,342,343,344,345,346,347,348,349,350,351,352,353,354,355,356,357,358,359,360,361,362,363,364,365,366,367,368,369,370,371,372,373,374,375,376,377,378,379,380,381,382,383,384,385,386,387,388,389,390,391,392,393,394,395,396,397,398,399,400,401,402,403,404,405,406,407,408,409,410,411,412,413,414,415,416,417,418,419,420,421,422,423,424,425,426,427,428,429,430,431,432,433,434,435,436,437,438,439,440,441,442,443,444,445,446,447,448,449,450,451,452,453,454,455,456,457,458,459,460,461,462,463,464,465,466,467,468,469,470,471,472,473,474,475,476,477,478,479,480,481,482,483,484,485,486,487,488,489,490,491,492,493,494,495,496,497,498,499,500,501,502,503,504,505,506,507,508,509,510,511,512,513,514,515,516,517,518,519,520,521,522,523,524,525,526,527,528,529,530,531,532,533,534,535,536,537,538,539,540,541,542,543,544,545,546,547,548,549,550,551,552,553,554,555,556,557,558,559,560,561,562,563,564,565,566,567,568,569,570,571,572,573,574,575,576,577,578,579,580,581,582,583,584,585,586,587,588,589,590,591,592,593,594,595,596,597,598,599,600,601,602,603,604,605,606,607,608,609,610,611,612,613,614,615,616,617,618,619,620,621,622,623,624,625,626,627,628,629,630,631,632,633,634,635,636,637,638,639,640,641,642,643,644,645,646,647,648,649,650,651,652,653,654,655,656,657,658,659,660,661,662,663,664,665,666,667,668,669,670,671,672,673,674,675,676,677,678,679,680,681,682,683,684,685,686,687,688,689,690,691,692,693,694,695,696,697,698,699,700,701,702,703,704,705,706,707,708,709,710,711,712,713,714,715,716,717,718,719,720,721,722,723,724,725,726,727,728,729,730,731,732,733,734,735,736,737,738,739,740,741,742,743,744,745,746,747,748,749,750,751,752,753,754,755,756,757],\"colorbar\":{\"title\":{\"text\":\"Trial\"},\"x\":1.0,\"xpad\":40},\"colorscale\":[[0.0,\"rgb(247,251,255)\"],[0.125,\"rgb(222,235,247)\"],[0.25,\"rgb(198,219,239)\"],[0.375,\"rgb(158,202,225)\"],[0.5,\"rgb(107,174,214)\"],[0.625,\"rgb(66,146,198)\"],[0.75,\"rgb(33,113,181)\"],[0.875,\"rgb(8,81,156)\"],[1.0,\"rgb(8,48,107)\"]],\"line\":{\"color\":\"Grey\",\"width\":0.5},\"showscale\":false},\"mode\":\"markers\",\"name\":\"Feasible Trial\",\"showlegend\":false,\"x\":[13,83,316,92,623,597,727,939,587,337,299,843,951,766,463,437,770,469,462,184,402,387,389,234,226,222,228,192,146,12,11,10,0,1,73,72,3,128,55,144,41,21,7,97,101,534,273,0,113,54,162,5,44,51,53,74,994,113,51,180,95,41,42,47,50,138,653,278,203,162,330,40,84,33,33,124,35,853,870,802,898,915,886,866,926,947,921,918,845,836,752,824,831,975,982,971,991,691,683,679,699,677,694,673,684,698,686,677,702,700,593,699,625,625,632,632,574,563,551,554,724,547,558,563,500,512,569,497,662,446,434,445,422,417,363,415,426,421,421,374,449,418,360,419,404,490,461,480,438,517,355,407,427,385,391,387,463,328,532,447,303,447,445,393,482,471,365,350,377,455,454,515,511,506,481,528,525,484,482,454,475,498,499,445,493,487,473,497,444,373,510,396,390,388,333,368,402,361,368,304,341,351,335,350,276,321,315,346,401,324,344,341,293,342,344,315,339,286,462,384,438,346,394,401,366,254,319,516,385,468,341,418,435,404,428,358,378,354,350,318,358,384,374,332,393,362,357,310,342,384,370,332,536,405,351,363,390,395,412,503,376,293,389,391,416,482,397,524,377,424,468,316,502,370,404,406,387,386,416,434,431,404,462,433,394,419,453,454,453,482,436,473,538,377,414,441,366,512,396,322,426,462,336,374,408,486,438,267,300,384,364,455,404,355,332,517,491,425,388,474,411,347,373,452,387,436,324,502,409,360,539,395,302,341,334,347,372,321,348,369,388,283,417,308,344,364,398,519,435,472,328,385,363,412,590,488,426,446,429,459,421,547,306,481,501,474,513,474,495,450,437,521,462,485,407,428,333,399,345,527,458,452,480,484,498,473,456,507,440,462,485,543,422,468,433,513,570,413,447,488,463,402,380,381,431,414,396,497,435,382,472,529,540,535,571,408,525,416,511,378,553,396,392,369,403,416,443,383,422,368,399,446,362,423,395,450,381,413,434,420,454,405,473,441,423,401,358,460,494,431,410,384,468,357,516,439,403,382,609,373,356,390,389,374,354,389,377,339,402,369,788,327,421,392,244,410,360,385,411,560,352,376,401,396,330,367,344,398,205,539,380,420,310,370,399,355,428,519,382,417,340,495,399,435,367,329,392,411,430,412,440,484,411,449,506,392,529,419,474,386,435,408,379,451,554,422,287,403,360,486,465,472,500,579,521,490,471,454,461,456,440,509,479,459,435,529,457,489,436,504,476,421,430,449,545,391,466,405,497,441,377,416,729,522,395,483,430,454,371,395,419,446,429,441,452,445,448,451,444,448,443,448,456,456,464,461,461,465,466,465,466,464,468,467,469,470,466,464,473,467,477,450,457,486,487,485,489,492,489,493,499,490,501,494,499,495,497,500,499,505,509,510,511,513,511,518,549,522,530,535,518,521,562,566,574,596,562,568,616,595,606,637,604,617,653,622,650,649,611,666,661,664,669,666,660,674,661,664,660,669,670,663,667,671,669,663,717,708,711,718,722,724,702,672,703,688,749,715,711,712,707,712,691,749,747,762,753,740,770,775,776,775,803,718,720,768,704,736,739,752,742,801,740,755,737,781,747,758,767,742,745,809,764,735,737,787,756,738,777,817,825,832,839,853,858,811,838,888,902,823,824,871,824,830,875,867,885,895,850,940,820,861,847,880,852,835,917,884,849,835,848,839,812,868,856,798,896,835],\"y\":[0.23148330284290042,0.13624718955739376,0.1471750754734151,0.17665494281875593,0.22605954763810066,0.20349984418451744,0.1972443703365315,0.19482189997815597,0.17637428068323063,0.22522086925996349,0.22319422054210195,0.2304573118495677,0.17144150147345222,0.2320857319855421,0.23275752848559866,0.23171090388175025,0.2127854379593969,0.23970748561893918,0.240483947366465,0.22505091809824102,0.24092850196791454,0.24090856193617882,0.2355894386586912,0.24176958909342275,0.23873396992488702,0.24254635065272973,0.24957153157159687,0.24888446910334255,0.23541728054090555,0.2516468092914111,0.25443769162528307,0.2548065564830398,0.25372594137621196,0.2542656062806814,0.2510363291879291,0.21729222252899047,0.2542230921973612,0.23936386771471282,0.23272192674389913,0.2430012686796093,0.2445792335742334,0.2508384206817508,0.2555594698275499,0.25216047372169353,0.09889549888703199,0.21599737636144267,0.23142058460597698,0.24626551129669433,0.22726151671351763,0.23969296349398544,0.24756067995173195,0.25530024248415983,0.25560379420324086,0.25571632981331993,0.25565640365780096,0.08043575093375183,0.21855068461434887,0.24773265987949525,0.054672355535981446,0.22372828175047949,0.2358642124673164,0.2553778916070521,0.2568086807011941,0.2558789323947374,0.2552056581054293,0.2455116840403182,0.2152355960719305,0.0055265346604531345,0.11067393242761561,0.22608833450679114,0.233145956015041,0.2547298553411854,0.24897096109001587,0.2576156616761005,0.25744981266166433,0.21698334053455676,0.2575202661872857,0.2561060665645264,0.25578135216037295,0.25494998947199676,0.2538111399898332,0.2559646138359945,0.25582035948664855,0.2559897184094767,0.2559974523038986,0.2533678262625595,0.2562629450364597,0.2523955512395206,0.25646652209648685,0.2501219720024811,0.2485134954588148,0.25647034080192216,0.2551863355191928,0.2565211778203894,0.2565991891007239,0.25422240615921754,0.24847896854246318,0.2578990980248367,0.25753610102787367,0.25964283046146747,0.25917266297874675,0.258279823411374,0.2598612810007102,0.2596685152716735,0.2593783948294804,0.25918602878015073,0.25919092214299544,0.25919132087475044,0.2583387599220447,0.2585890395914807,0.21708510837470243,0.2587061884464763,0.2589839874559213,0.2589583376145547,0.25863546012247757,0.25885640146171823,0.25970924597612643,0.2600522358728864,0.2597082707062577,0.25826614004087733,0.21113037843336824,0.2599951255124881,0.2600831369621336,0.26007342166596137,0.2602208581514182,0.124809511033937,0.24869521280564416,0.055944053866720675,0.0055265346604531345,0.2600945614984461,0.260019690529778,0.2602939568788393,0.26015952543770826,0.2600300024230263,0.2601363510062749,0.2600263645507829,0.2600216894749122,0.25986158212031707,0.23112299979914588,0.258406550449704,0.2563362950505154,0.25987593054671143,0.25809501891627473,0.2600722602929655,0.2592606292932317,0.23251582536931018,0.25844008266429297,0.24438533737019758,0.1047407367488387,0.25840097475794127,0.2563216651426966,0.2598256616300174,0.24862544044376894,0.2601035905209292,0.2602726153027083,0.22736937727738943,0.2585028479772481,0.0055265346604531345,0.2307749488633813,0.2601695123332381,0.2590679863270371,0.2601695123332381,0.2601854248411634,0.25797448558814523,0.26021846822095585,0.2588010860733287,0.26015684881002554,0.25744117476851935,0.0055265346604531345,0.2602098221402436,0.0055265346604531345,0.2602967190708516,0.26030777685753526,0.2587079872788002,0.2602398571830838,0.2600797939695729,0.25878144958385246,0.2601141247441451,0.2580234098585182,0.24964093523736391,0.23835958795670487,0.2601999026823316,0.25908841948201733,0.0055265346604531345,0.26014436975609867,0.252680413487203,0.14577658713529842,0.25909516298509416,0.25835488067699763,0.25841751302486693,0.2593481385474267,0.2602909363743621,0.26020579220238493,0.25996299344736007,0.0055265346604531345,0.26021464860255117,0.25996258609179124,0.260148938520933,0.251475362966174,0.2592997343508444,0.26021746435997634,0.26026967279496155,0.25973168609259234,0.25956870479820804,0.15723541587884352,0.2602150234922539,0.2587655274981736,0.2601907058553735,0.2579695019688275,0.2597590106646209,0.26020274354136347,0.26021746435997634,0.25918609774315415,0.2602304128932977,0.0055265346604531345,0.2600048907447058,0.25898286532965625,0.26003591850712676,0.25955447200453297,0.25835700679338836,0.23143347632150107,0.2601496975882339,0.26023387066960185,0.2592878663097236,0.25947503718498066,0.12081679500471895,0.23194952716433268,0.2571584636359604,0.2593115432955166,0.22653160301581338,0.23114123541862147,0.2602284434081664,0.260170469264755,0.25900203441061187,0.0055265346604531345,0.26020109143156656,0.2593904519297865,0.2601949006087537,0.25972130209036765,0.25880710274682955,0.0055265346604531345,0.2602256159803388,0.25989067700252066,0.2601754809322693,0.2596268953818736,0.2602288515369037,0.25951884223100213,0.26018302358003814,0.2590879673112943,0.25958295616772503,0.26018595633990504,0.25955719105953917,0.25787750019155997,0.25930265616957976,0.2597042449670595,0.0055265346604531345,0.2602584809607259,0.23011156573280486,0.2587367168817073,0.0055265346604531345,0.26007023824899744,0.20937287642597688,0.26028008884807147,0.2593807253561915,0.09553855607140857,0.2599422480992969,0.26010841108429805,0.22476821283625031,0.259786569921156,0.2600146054175172,0.25937865695511186,0.0055265346604531345,0.2590838442103591,0.25808956918456116,0.2602203281578796,0.2597317041640639,0.2602112037161034,0.25957325982143475,0.258877519296107,0.2602381414271046,0.22945208899693456,0.25744764276503185,0.2601389618318306,0.25862269615460065,0.0055265346604531345,0.25943561873427423,0.2602278701134813,0.23464555602847445,0.2599600968746837,0.25109521608492075,0.22616600296427292,0.24902297133649398,0.15980766326376777,0.2585037107282405,0.25959143225865944,0.23005291874778028,0.0055265346604531345,0.2600550790310071,0.2587447097389494,0.25083312841401195,0.2594651705326456,0.22958111317103339,0.24941654283595271,0.2579482547122322,0.2601834638208213,0.2590896987297058,0.25994874879872176,0.2566554050110399,0.25015859489277437,0.2600386104686468,0.2592319521116402,0.2585951255947024,0.26008564469795814,0.21741802503013158,0.2539877203172722,0.0055265346604531345,0.2589570531637072,0.25770568201608424,0.0880585795268939,0.25938500137216963,0.2597812568469251,0.23116128426210455,0.2291441194798381,0.24985205544205963,0.15850607801390945,0.26016129018239126,0.2597370506135189,0.2600367201176465,0.25717057614970573,0.24831692697656357,0.2582856987402793,0.25941580123030095,0.25902385793599475,0.2602165828964806,0.0055265346604531345,0.259047320965904,0.2602042368707474,0.2582206446586085,0.26008694878407146,0.25971224492230577,0.2218098485066912,0.25197504054199743,0.25329318927483335,0.22890498543350976,0.26016787043909445,0.24097187263705983,0.2596410261874563,0.0055265346604531345,0.2263192919508843,0.2602107262461635,0.2591413763276285,0.2599697764094289,0.2599035287571607,0.24912732627669434,0.25853454670141957,0.0055265346604531345,0.2602479563416023,0.2570647641626406,0.2597794014276498,0.26011505151287,0.258378248473657,0.2593672598844204,0.2594305608338029,0.2602377722326518,0.21747323800604795,0.25786216947937035,0.2589923283179569,0.22930192799671553,0.23437172886744215,0.259471311198238,0.12423199534280256,0.2585635275207351,0.2601621662418898,0.2291377094869344,0.09136125441898482,0.0055265346604531345,0.26025539263972364,0.22613615098541356,0.25812082386342944,0.2587782732977528,0.26022759304269494,0.0055265346604531345,0.26023420611156195,0.2599532557543383,0.25122404967421585,0.2595217911182349,0.21837846063315292,0.2585744677146846,0.2525903908945561,0.23135724063380453,0.25050400302757386,0.2593617169659936,0.2600063671313236,0.259550281077439,0.2576169219628822,0.25864445652737356,0.21526253969522138,0.1587515171345776,0.2599170715747089,0.2590987364778049,0.25161241253935335,0.0055265346604531345,0.2602354350090934,0.21568719784113383,0.2582417723800057,0.26021629845031924,0.2249226784457174,0.26004879526486435,0.25969059714374343,0.21984525305723507,0.0055265346604531345,0.26030932919014205,0.22957241721625093,0.2599196639567832,0.25736517507920914,0.2602943453657022,0.25878144958385246,0.2596474649178281,0.26001368722739227,0.0055265346604531345,0.25914461700733715,0.2602909363743621,0.26022258635489964,0.2582244198596249,0.25999384532474223,0.25966079018410293,0.2587475879629773,0.21966113663044595,0.2077995646213308,0.22745558700225602,0.25940255367569615,0.21869407353698395,0.0730533295602892,0.2583681131252991,0.2593052433093101,0.0055265346604531345,0.2575467943131183,0.2602588626378052,0.2588132446671249,0.2601430863086486,0.25980703888924817,0.2594272506890332,0.25830630997380244,0.0055265346604531345,0.26016596222143695,0.25928500089234047,0.2597664437273418,0.2601555057914077,0.25565182482116927,0.25753992907091217,0.2588869456432543,0.2597111251745622,0.25994013204426897,0.25951884223100213,0.22515122483136155,0.0055265346604531345,0.2275176733713244,0.26025157902653767,0.2586679212832642,0.2580493632401571,0.0055265346604531345,0.2157806709888035,0.26027144997400836,0.2580004890827271,0.23122523985177565,0.25881758397912435,0.26017211243352223,0.26009334454080163,0.2567786022580739,0.2592460258953557,0.2580568728872543,0.2602116520835973,0.2596326284048935,0.0055265346604531345,0.259432322661013,0.2184415577017529,0.2601799016771452,0.2588993606297075,0.25443746344604556,0.26008318966057925,0.2598474024260215,0.2295737646501374,0.26024538958526555,0.2288159559506609,0.23231146959485285,0.0055265346604531345,0.1085759834687818,0.260172108804372,0.25882429419848485,0.2597104101892449,0.2597756264281478,0.0869794028164759,0.2591295629637894,0.23165514271750293,0.0055265346604531345,0.2581727935225413,0.25159807661144884,0.25952463494336436,0.2597784926295728,0.21936910173109378,0.2590735526492117,0.25706439760811906,0.25178513400185193,0.22926094314338635,0.2597647560626294,0.2595196300514662,0.2583506478580867,0.260229039807429,0.25966701614166504,0.2549257490673278,0.2566343811901296,0.23552673990689793,0.22800688842369093,0.2595386599333579,0.0055265346604531345,0.17164448707626226,0.2536328458953843,0.1684000887798227,0.24999205283655904,0.2580055337032765,0.22907116858125537,0.2589810409372474,0.25978118215921925,0.0055265346604531345,0.2599735545953593,0.25925956388189403,0.26003123984301163,0.2320362939646839,0.25972087619449563,0.25957054489777315,0.2602897203484428,0.2587723562994834,0.2593941115142979,0.259968640874758,0.25750631267648183,0.0055265346604531345,0.25939589008135994,0.26023905126711677,0.24954106301564621,0.22689461845346556,0.22712026330394103,0.0055265346604531345,0.25997693565562763,0.25928495415193503,0.25942522434669035,0.21696625497730326,0.09395806969245246,0.2595755954530888,0.2599726914236883,0.25661690650345714,0.2579170487010466,0.2592806729514664,0.0055265346604531345,0.25121630768691805,0.2601063832303302,0.2602128016209736,0.2587937988935096,0.259659445139648,0.2570699414084287,0.25980326153108735,0.25250048108610856,0.2583853278009856,0.2598779591671245,0.2504721305336949,0.2598615553919898,0.25938210339750223,0.2602121735374394,0.21296608480257068,0.23336665633630677,0.2602296162226865,0.2659280370505061,0.2644702232226721,0.23213197117970022,0.26407752081532976,0.2634132038596865,0.264089236370088,0.26255799459631757,0.26336985393121254,0.2627723231246271,0.26257804739462165,0.2630475553375634,0.26248546759835406,0.26279758436900497,0.2626973560979489,0.26284614233050657,0.26276785447195183,0.26269515678039623,0.2627237365342373,0.2627172907433007,0.2625337444255557,0.26245179314675704,0.26291899194897744,0.2625354649768896,0.21318859713604663,0.261363314721298,0.26177769104624476,0.2614340161318376,0.2613585632652541,0.262799275144951,0.2629786352805573,0.2628503371010484,0.26299525919342737,0.23187085304899227,0.26290562842783893,0.2634642691942532,0.2637868755340754,0.26396976050801557,0.2642816125439075,0.2635387107281714,0.2639833924213239,0.26379301523288945,0.26373287229897246,0.26382349470057403,0.26372607673487714,0.2639097113531771,0.2638867052152324,0.26394582023831636,0.2639105899522236,0.21426342664078155,0.26372268959547723,0.26398787003837293,0.2642570257526461,0.26414360804180737,0.26416882131396235,0.2640548158657558,0.26406825181173804,0.23134517989353637,0.2642829405040691,0.2644853133278738,0.263197025800005,0.2645653155860794,0.2643449290127764,0.2644579272104195,0.26460177406864893,0.2637900817251415,0.26273790776249406,0.2646436727530718,0.26498112988937056,0.2650051986553482,0.264928162969596,0.26512994818086294,0.2131496536424738,0.26315243266542476,0.2650945135824006,0.26516780808646373,0.2650096811097403,0.2643246812905414,0.26404585120260565,0.23181199040984515,0.26512094553811955,0.26530992119340013,0.2651982202154859,0.26508435699157273,0.2653095770685333,0.2652603284612044,0.26522044287413726,0.26533137957855846,0.2653288323097099,0.26529063396421726,0.2653600089794551,0.2651568804226708,0.26540283817986604,0.2656196002890569,0.21258443867678775,0.2655282667399789,0.2656371936831555,0.26554341549638394,0.2655371072432214,0.26548266551920313,0.2656198808198905,0.265458379977608,0.23166680211327245,0.264446876893177,0.26578795024543167,0.26570936107948767,0.26558795538724034,0.2644689195275687,0.2654318714112048,0.2658930244511172,0.265847931774627,0.2657507595645888,0.23542551977407125,0.264925826956968,0.26570401879254046,0.26562903321189013,0.26569217150275964,0.212179632870611,0.26506064367336746,0.26565697480530137,0.2657416790588787,0.26568922108351,0.17588417996539918,0.26483795885172445,0.2654026039386218,0.23191627870045212,0.26222095327953643,0.2660048605282281,0.2660171925231135,0.26582365886161813,0.26578293696893013,0.26563887990427615,0.2640897861586372,0.26597794537257646,0.14693540964557342,0.2654244681906784,0.2608834690741156,0.26580366259716753,0.26575545964672903,0.21297077952715043,0.2656033894549596,0.26495403507356863,0.26549120383783864,0.2041706139922395,0.2661630635239441,0.2655675296059007,0.2529151072396899,0.2655416142457164,0.23171507463501065,0.2660703590387186,0.26575251070294986,0.26575857272947473,0.26613018612091693,0.2664230591044633,0.26606008445340673,0.2637365657955105,0.26627366174489986,0.26562327204792013,0.2660372311355659,0.2644333733006244,0.26616496265109035,0.26604863369248993,0.21235939811727605,0.16207234034043494,0.26530252046817,0.26626064709131103,0.26443352718717583,0.2657674844442407,0.26565169132408667,0.26630981874046056,0.2314964304917715,0.26629895042810875,0.26592847560935196,0.26450974746458417,0.26317790833009247,0.26551130750406193,0.26622775594799974,0.24781210139152146,0.26620619827682696,0.26612055089825487,0.2659359012067811,0.26560915367069365,0.26260365538279623,0.2655748218784542,0.21262536552710937,0.24320619953417708,0.26458514401371935,0.2650254996592353,0.23310203739988208],\"type\":\"scatter\",\"xaxis\":\"x5\",\"yaxis\":\"y5\"},{\"marker\":{\"color\":[0,1,2,3,4,5,6,7,8,9,10,11,12,13,14,15,16,17,18,19,20,21,22,23,24,25,26,27,28,29,30,31,32,33,34,35,36,37,38,39,40,41,42,43,44,45,46,47,48,49,50,51,52,53,54,55,56,57,58,59,60,61,62,63,64,65,66,67,68,69,70,71,72,73,74,75,76,77,78,79,80,81,82,83,84,85,86,87,88,89,90,91,92,93,94,95,96,97,98,99,100,101,102,103,104,105,106,107,108,109,110,111,112,113,114,115,116,117,118,119,120,121,122,123,124,125,126,127,128,129,130,131,132,133,134,135,136,137,138,139,140,141,142,143,144,145,146,147,148,149,150,151,152,153,154,155,156,157,158,159,160,161,162,163,164,165,166,167,168,169,170,171,172,173,174,175,176,177,178,179,180,181,182,183,184,185,186,187,188,189,190,191,192,193,194,195,196,197,198,199,200,201,202,203,204,205,206,207,208,209,210,211,212,213,214,215,216,217,218,219,220,221,222,223,224,225,226,227,228,229,230,231,232,233,234,235,236,237,238,239,240,241,242,243,244,245,246,247,248,249,250,251,252,253,254,255,256,257,258,259,260,261,262,263,264,265,266,267,268,269,270,271,272,273,274,275,276,277,278,279,280,281,282,283,284,285,286,287,288,289,290,291,292,293,294,295,296,297,298,299,300,301,302,303,304,305,306,307,308,309,310,311,312,313,314,315,316,317,318,319,320,321,322,323,324,325,326,327,328,329,330,331,332,333,334,335,336,337,338,339,340,341,342,343,344,345,346,347,348,349,350,351,352,353,354,355,356,357,358,359,360,361,362,363,364,365,366,367,368,369,370,371,372,373,374,375,376,377,378,379,380,381,382,383,384,385,386,387,388,389,390,391,392,393,394,395,396,397,398,399,400,401,402,403,404,405,406,407,408,409,410,411,412,413,414,415,416,417,418,419,420,421,422,423,424,425,426,427,428,429,430,431,432,433,434,435,436,437,438,439,440,441,442,443,444,445,446,447,448,449,450,451,452,453,454,455,456,457,458,459,460,461,462,463,464,465,466,467,468,469,470,471,472,473,474,475,476,477,478,479,480,481,482,483,484,485,486,487,488,489,490,491,492,493,494,495,496,497,498,499,500,501,502,503,504,505,506,507,508,509,510,511,512,513,514,515,516,517,518,519,520,521,522,523,524,525,526,527,528,529,530,531,532,533,534,535,536,537,538,539,540,541,542,543,544,545,546,547,548,549,550,551,552,553,554,555,556,557,558,559,560,561,562,563,564,565,566,567,568,569,570,571,572,573,574,575,576,577,578,579,580,581,582,583,584,585,586,587,588,589,590,591,592,593,594,595,596,597,598,599,600,601,602,603,604,605,606,607,608,609,610,611,612,613,614,615,616,617,618,619,620,621,622,623,624,625,626,627,628,629,630,631,632,633,634,635,636,637,638,639,640,641,642,643,644,645,646,647,648,649,650,651,652,653,654,655,656,657,658,659,660,661,662,663,664,665,666,667,668,669,670,671,672,673,674,675,676,677,678,679,680,681,682,683,684,685,686,687,688,689,690,691,692,693,694,695,696,697,698,699,700,701,702,703,704,705,706,707,708,709,710,711,712,713,714,715,716,717,718,719,720,721,722,723,724,725,726,727,728,729,730,731,732,733,734,735,736,737,738,739,740,741,742,743,744,745,746,747,748,749,750,751,752,753,754,755,756,757],\"colorbar\":{\"title\":{\"text\":\"Trial\"},\"x\":1.0,\"xpad\":40},\"colorscale\":[[0.0,\"rgb(247,251,255)\"],[0.125,\"rgb(222,235,247)\"],[0.25,\"rgb(198,219,239)\"],[0.375,\"rgb(158,202,225)\"],[0.5,\"rgb(107,174,214)\"],[0.625,\"rgb(66,146,198)\"],[0.75,\"rgb(33,113,181)\"],[0.875,\"rgb(8,81,156)\"],[1.0,\"rgb(8,48,107)\"]],\"line\":{\"color\":\"Grey\",\"width\":0.5},\"showscale\":false},\"mode\":\"markers\",\"name\":\"Feasible Trial\",\"showlegend\":false,\"x\":[\"cosine\",\"euclidean\",\"euclidean\",\"euclidean\",\"tversky\",\"dice\",\"cosine\",\"cosine\",\"euclidean\",\"tversky\",\"jaccard\",\"asymmetric\",\"asymmetric\",\"asymmetric\",\"cosine\",\"asymmetric\",\"jaccard\",\"dice\",\"dice\",\"dice\",\"dice\",\"dice\",\"dice\",\"dice\",\"dice\",\"dice\",\"dice\",\"dice\",\"dice\",\"dice\",\"jaccard\",\"jaccard\",\"jaccard\",\"jaccard\",\"jaccard\",\"jaccard\",\"jaccard\",\"jaccard\",\"jaccard\",\"jaccard\",\"jaccard\",\"jaccard\",\"jaccard\",\"jaccard\",\"euclidean\",\"tversky\",\"jaccard\",\"jaccard\",\"jaccard\",\"cosine\",\"tversky\",\"jaccard\",\"jaccard\",\"jaccard\",\"jaccard\",\"euclidean\",\"jaccard\",\"jaccard\",\"asymmetric\",\"cosine\",\"jaccard\",\"jaccard\",\"jaccard\",\"jaccard\",\"jaccard\",\"jaccard\",\"tversky\",\"jaccard\",\"euclidean\",\"asymmetric\",\"jaccard\",\"jaccard\",\"jaccard\",\"jaccard\",\"jaccard\",\"jaccard\",\"jaccard\",\"cosine\",\"cosine\",\"cosine\",\"cosine\",\"cosine\",\"cosine\",\"cosine\",\"cosine\",\"cosine\",\"cosine\",\"cosine\",\"cosine\",\"cosine\",\"cosine\",\"cosine\",\"cosine\",\"cosine\",\"cosine\",\"cosine\",\"cosine\",\"cosine\",\"cosine\",\"cosine\",\"cosine\",\"cosine\",\"cosine\",\"cosine\",\"cosine\",\"cosine\",\"cosine\",\"cosine\",\"cosine\",\"cosine\",\"cosine\",\"cosine\",\"cosine\",\"cosine\",\"cosine\",\"cosine\",\"cosine\",\"cosine\",\"cosine\",\"cosine\",\"tversky\",\"cosine\",\"cosine\",\"cosine\",\"cosine\",\"asymmetric\",\"cosine\",\"euclidean\",\"cosine\",\"cosine\",\"cosine\",\"cosine\",\"cosine\",\"cosine\",\"cosine\",\"cosine\",\"cosine\",\"cosine\",\"cosine\",\"cosine\",\"cosine\",\"cosine\",\"cosine\",\"cosine\",\"cosine\",\"tversky\",\"cosine\",\"asymmetric\",\"euclidean\",\"cosine\",\"cosine\",\"cosine\",\"cosine\",\"cosine\",\"cosine\",\"dice\",\"cosine\",\"cosine\",\"cosine\",\"cosine\",\"cosine\",\"cosine\",\"cosine\",\"cosine\",\"cosine\",\"cosine\",\"cosine\",\"cosine\",\"cosine\",\"cosine\",\"cosine\",\"cosine\",\"cosine\",\"cosine\",\"cosine\",\"cosine\",\"cosine\",\"cosine\",\"cosine\",\"asymmetric\",\"tversky\",\"cosine\",\"cosine\",\"cosine\",\"cosine\",\"cosine\",\"euclidean\",\"cosine\",\"dice\",\"cosine\",\"cosine\",\"cosine\",\"cosine\",\"cosine\",\"cosine\",\"cosine\",\"cosine\",\"cosine\",\"cosine\",\"cosine\",\"cosine\",\"cosine\",\"cosine\",\"cosine\",\"cosine\",\"cosine\",\"cosine\",\"cosine\",\"cosine\",\"cosine\",\"cosine\",\"cosine\",\"cosine\",\"cosine\",\"cosine\",\"cosine\",\"cosine\",\"cosine\",\"cosine\",\"cosine\",\"tversky\",\"cosine\",\"cosine\",\"cosine\",\"cosine\",\"asymmetric\",\"cosine\",\"cosine\",\"cosine\",\"euclidean\",\"dice\",\"cosine\",\"cosine\",\"cosine\",\"cosine\",\"cosine\",\"cosine\",\"cosine\",\"cosine\",\"cosine\",\"cosine\",\"cosine\",\"cosine\",\"cosine\",\"cosine\",\"cosine\",\"cosine\",\"cosine\",\"cosine\",\"cosine\",\"cosine\",\"cosine\",\"cosine\",\"cosine\",\"cosine\",\"cosine\",\"cosine\",\"cosine\",\"cosine\",\"tversky\",\"cosine\",\"asymmetric\",\"cosine\",\"cosine\",\"euclidean\",\"cosine\",\"cosine\",\"dice\",\"cosine\",\"cosine\",\"cosine\",\"cosine\",\"cosine\",\"cosine\",\"cosine\",\"cosine\",\"cosine\",\"cosine\",\"cosine\",\"cosine\",\"cosine\",\"cosine\",\"cosine\",\"cosine\",\"cosine\",\"cosine\",\"cosine\",\"tversky\",\"cosine\",\"cosine\",\"euclidean\",\"asymmetric\",\"cosine\",\"cosine\",\"cosine\",\"dice\",\"cosine\",\"cosine\",\"cosine\",\"cosine\",\"cosine\",\"cosine\",\"cosine\",\"cosine\",\"cosine\",\"cosine\",\"cosine\",\"cosine\",\"cosine\",\"cosine\",\"cosine\",\"cosine\",\"cosine\",\"tversky\",\"cosine\",\"asymmetric\",\"cosine\",\"cosine\",\"euclidean\",\"cosine\",\"cosine\",\"cosine\",\"dice\",\"cosine\",\"cosine\",\"cosine\",\"cosine\",\"cosine\",\"cosine\",\"cosine\",\"cosine\",\"cosine\",\"cosine\",\"cosine\",\"cosine\",\"cosine\",\"cosine\",\"cosine\",\"cosine\",\"cosine\",\"tversky\",\"cosine\",\"cosine\",\"asymmetric\",\"cosine\",\"euclidean\",\"cosine\",\"cosine\",\"dice\",\"cosine\",\"cosine\",\"cosine\",\"cosine\",\"cosine\",\"cosine\",\"cosine\",\"cosine\",\"cosine\",\"cosine\",\"cosine\",\"cosine\",\"cosine\",\"cosine\",\"cosine\",\"cosine\",\"cosine\",\"cosine\",\"cosine\",\"tversky\",\"cosine\",\"asymmetric\",\"cosine\",\"cosine\",\"jaccard\",\"euclidean\",\"cosine\",\"cosine\",\"dice\",\"cosine\",\"cosine\",\"cosine\",\"cosine\",\"cosine\",\"cosine\",\"cosine\",\"cosine\",\"cosine\",\"cosine\",\"cosine\",\"cosine\",\"cosine\",\"cosine\",\"cosine\",\"cosine\",\"cosine\",\"cosine\",\"tversky\",\"cosine\",\"cosine\",\"cosine\",\"asymmetric\",\"jaccard\",\"cosine\",\"euclidean\",\"cosine\",\"cosine\",\"dice\",\"cosine\",\"cosine\",\"cosine\",\"cosine\",\"cosine\",\"cosine\",\"cosine\",\"cosine\",\"cosine\",\"cosine\",\"cosine\",\"cosine\",\"cosine\",\"cosine\",\"cosine\",\"cosine\",\"cosine\",\"cosine\",\"cosine\",\"cosine\",\"tversky\",\"asymmetric\",\"jaccard\",\"cosine\",\"cosine\",\"euclidean\",\"cosine\",\"cosine\",\"cosine\",\"dice\",\"cosine\",\"cosine\",\"cosine\",\"cosine\",\"cosine\",\"cosine\",\"cosine\",\"cosine\",\"cosine\",\"cosine\",\"cosine\",\"cosine\",\"cosine\",\"cosine\",\"cosine\",\"cosine\",\"cosine\",\"tversky\",\"cosine\",\"jaccard\",\"cosine\",\"cosine\",\"asymmetric\",\"cosine\",\"euclidean\",\"cosine\",\"cosine\",\"dice\",\"cosine\",\"cosine\",\"cosine\",\"cosine\",\"cosine\",\"cosine\",\"cosine\",\"cosine\",\"cosine\",\"cosine\",\"cosine\",\"cosine\",\"cosine\",\"cosine\",\"cosine\",\"cosine\",\"cosine\",\"cosine\",\"tversky\",\"jaccard\",\"cosine\",\"asymmetric\",\"cosine\",\"cosine\",\"cosine\",\"cosine\",\"euclidean\",\"cosine\",\"dice\",\"cosine\",\"cosine\",\"cosine\",\"cosine\",\"cosine\",\"cosine\",\"cosine\",\"cosine\",\"cosine\",\"cosine\",\"cosine\",\"cosine\",\"cosine\",\"cosine\",\"cosine\",\"cosine\",\"cosine\",\"tversky\",\"jaccard\",\"cosine\",\"cosine\",\"asymmetric\",\"cosine\",\"euclidean\",\"cosine\",\"cosine\",\"dice\",\"cosine\",\"cosine\",\"cosine\",\"cosine\",\"cosine\",\"cosine\",\"cosine\",\"cosine\",\"cosine\",\"cosine\",\"cosine\",\"cosine\",\"cosine\",\"cosine\",\"cosine\",\"cosine\",\"cosine\",\"cosine\",\"tversky\",\"jaccard\",\"cosine\",\"cosine\",\"asymmetric\",\"cosine\",\"cosine\",\"euclidean\",\"cosine\",\"cosine\",\"dice\",\"cosine\",\"cosine\",\"cosine\",\"cosine\",\"cosine\",\"cosine\",\"cosine\",\"cosine\",\"cosine\",\"cosine\",\"cosine\",\"cosine\",\"cosine\",\"cosine\",\"cosine\",\"cosine\",\"cosine\",\"tversky\",\"jaccard\",\"cosine\",\"asymmetric\",\"asymmetric\",\"asymmetric\",\"asymmetric\",\"asymmetric\",\"asymmetric\",\"asymmetric\",\"asymmetric\",\"asymmetric\",\"asymmetric\",\"asymmetric\",\"asymmetric\",\"asymmetric\",\"asymmetric\",\"asymmetric\",\"asymmetric\",\"asymmetric\",\"asymmetric\",\"asymmetric\",\"asymmetric\",\"asymmetric\",\"asymmetric\",\"asymmetric\",\"asymmetric\",\"asymmetric\",\"asymmetric\",\"asymmetric\",\"asymmetric\",\"asymmetric\",\"asymmetric\",\"asymmetric\",\"asymmetric\",\"asymmetric\",\"asymmetric\",\"asymmetric\",\"asymmetric\",\"asymmetric\",\"asymmetric\",\"asymmetric\",\"asymmetric\",\"asymmetric\",\"asymmetric\",\"asymmetric\",\"asymmetric\",\"asymmetric\",\"asymmetric\",\"asymmetric\",\"asymmetric\",\"asymmetric\",\"asymmetric\",\"asymmetric\",\"asymmetric\",\"asymmetric\",\"asymmetric\",\"asymmetric\",\"asymmetric\",\"asymmetric\",\"asymmetric\",\"asymmetric\",\"asymmetric\",\"asymmetric\",\"asymmetric\",\"asymmetric\",\"asymmetric\",\"asymmetric\",\"asymmetric\",\"asymmetric\",\"asymmetric\",\"asymmetric\",\"asymmetric\",\"asymmetric\",\"asymmetric\",\"asymmetric\",\"asymmetric\",\"asymmetric\",\"asymmetric\",\"asymmetric\",\"asymmetric\",\"asymmetric\",\"asymmetric\",\"asymmetric\",\"asymmetric\",\"asymmetric\",\"asymmetric\",\"asymmetric\",\"asymmetric\",\"asymmetric\",\"asymmetric\",\"asymmetric\",\"asymmetric\",\"asymmetric\",\"asymmetric\",\"asymmetric\",\"asymmetric\",\"asymmetric\",\"asymmetric\",\"asymmetric\",\"asymmetric\",\"asymmetric\",\"asymmetric\",\"asymmetric\",\"asymmetric\",\"asymmetric\",\"asymmetric\",\"asymmetric\",\"asymmetric\",\"asymmetric\",\"asymmetric\",\"asymmetric\",\"asymmetric\",\"asymmetric\",\"asymmetric\",\"asymmetric\",\"asymmetric\",\"asymmetric\",\"asymmetric\",\"asymmetric\",\"asymmetric\",\"asymmetric\",\"asymmetric\",\"asymmetric\",\"asymmetric\",\"asymmetric\",\"asymmetric\",\"asymmetric\",\"asymmetric\",\"asymmetric\",\"asymmetric\",\"asymmetric\",\"asymmetric\",\"asymmetric\",\"asymmetric\",\"asymmetric\",\"asymmetric\",\"asymmetric\",\"asymmetric\",\"asymmetric\",\"asymmetric\",\"asymmetric\",\"asymmetric\",\"asymmetric\",\"asymmetric\",\"asymmetric\",\"asymmetric\",\"asymmetric\",\"asymmetric\",\"asymmetric\",\"asymmetric\",\"asymmetric\",\"asymmetric\",\"asymmetric\",\"asymmetric\",\"asymmetric\",\"asymmetric\",\"asymmetric\",\"asymmetric\",\"asymmetric\",\"asymmetric\",\"asymmetric\",\"asymmetric\",\"asymmetric\",\"asymmetric\",\"asymmetric\",\"asymmetric\",\"asymmetric\",\"asymmetric\",\"asymmetric\",\"asymmetric\",\"asymmetric\",\"asymmetric\",\"asymmetric\",\"asymmetric\",\"asymmetric\",\"asymmetric\",\"asymmetric\",\"asymmetric\",\"asymmetric\",\"asymmetric\",\"asymmetric\",\"asymmetric\",\"asymmetric\",\"asymmetric\",\"asymmetric\",\"asymmetric\",\"asymmetric\",\"asymmetric\",\"asymmetric\",\"asymmetric\"],\"y\":[0.23148330284290042,0.13624718955739376,0.1471750754734151,0.17665494281875593,0.22605954763810066,0.20349984418451744,0.1972443703365315,0.19482189997815597,0.17637428068323063,0.22522086925996349,0.22319422054210195,0.2304573118495677,0.17144150147345222,0.2320857319855421,0.23275752848559866,0.23171090388175025,0.2127854379593969,0.23970748561893918,0.240483947366465,0.22505091809824102,0.24092850196791454,0.24090856193617882,0.2355894386586912,0.24176958909342275,0.23873396992488702,0.24254635065272973,0.24957153157159687,0.24888446910334255,0.23541728054090555,0.2516468092914111,0.25443769162528307,0.2548065564830398,0.25372594137621196,0.2542656062806814,0.2510363291879291,0.21729222252899047,0.2542230921973612,0.23936386771471282,0.23272192674389913,0.2430012686796093,0.2445792335742334,0.2508384206817508,0.2555594698275499,0.25216047372169353,0.09889549888703199,0.21599737636144267,0.23142058460597698,0.24626551129669433,0.22726151671351763,0.23969296349398544,0.24756067995173195,0.25530024248415983,0.25560379420324086,0.25571632981331993,0.25565640365780096,0.08043575093375183,0.21855068461434887,0.24773265987949525,0.054672355535981446,0.22372828175047949,0.2358642124673164,0.2553778916070521,0.2568086807011941,0.2558789323947374,0.2552056581054293,0.2455116840403182,0.2152355960719305,0.0055265346604531345,0.11067393242761561,0.22608833450679114,0.233145956015041,0.2547298553411854,0.24897096109001587,0.2576156616761005,0.25744981266166433,0.21698334053455676,0.2575202661872857,0.2561060665645264,0.25578135216037295,0.25494998947199676,0.2538111399898332,0.2559646138359945,0.25582035948664855,0.2559897184094767,0.2559974523038986,0.2533678262625595,0.2562629450364597,0.2523955512395206,0.25646652209648685,0.2501219720024811,0.2485134954588148,0.25647034080192216,0.2551863355191928,0.2565211778203894,0.2565991891007239,0.25422240615921754,0.24847896854246318,0.2578990980248367,0.25753610102787367,0.25964283046146747,0.25917266297874675,0.258279823411374,0.2598612810007102,0.2596685152716735,0.2593783948294804,0.25918602878015073,0.25919092214299544,0.25919132087475044,0.2583387599220447,0.2585890395914807,0.21708510837470243,0.2587061884464763,0.2589839874559213,0.2589583376145547,0.25863546012247757,0.25885640146171823,0.25970924597612643,0.2600522358728864,0.2597082707062577,0.25826614004087733,0.21113037843336824,0.2599951255124881,0.2600831369621336,0.26007342166596137,0.2602208581514182,0.124809511033937,0.24869521280564416,0.055944053866720675,0.0055265346604531345,0.2600945614984461,0.260019690529778,0.2602939568788393,0.26015952543770826,0.2600300024230263,0.2601363510062749,0.2600263645507829,0.2600216894749122,0.25986158212031707,0.23112299979914588,0.258406550449704,0.2563362950505154,0.25987593054671143,0.25809501891627473,0.2600722602929655,0.2592606292932317,0.23251582536931018,0.25844008266429297,0.24438533737019758,0.1047407367488387,0.25840097475794127,0.2563216651426966,0.2598256616300174,0.24862544044376894,0.2601035905209292,0.2602726153027083,0.22736937727738943,0.2585028479772481,0.0055265346604531345,0.2307749488633813,0.2601695123332381,0.2590679863270371,0.2601695123332381,0.2601854248411634,0.25797448558814523,0.26021846822095585,0.2588010860733287,0.26015684881002554,0.25744117476851935,0.0055265346604531345,0.2602098221402436,0.0055265346604531345,0.2602967190708516,0.26030777685753526,0.2587079872788002,0.2602398571830838,0.2600797939695729,0.25878144958385246,0.2601141247441451,0.2580234098585182,0.24964093523736391,0.23835958795670487,0.2601999026823316,0.25908841948201733,0.0055265346604531345,0.26014436975609867,0.252680413487203,0.14577658713529842,0.25909516298509416,0.25835488067699763,0.25841751302486693,0.2593481385474267,0.2602909363743621,0.26020579220238493,0.25996299344736007,0.0055265346604531345,0.26021464860255117,0.25996258609179124,0.260148938520933,0.251475362966174,0.2592997343508444,0.26021746435997634,0.26026967279496155,0.25973168609259234,0.25956870479820804,0.15723541587884352,0.2602150234922539,0.2587655274981736,0.2601907058553735,0.2579695019688275,0.2597590106646209,0.26020274354136347,0.26021746435997634,0.25918609774315415,0.2602304128932977,0.0055265346604531345,0.2600048907447058,0.25898286532965625,0.26003591850712676,0.25955447200453297,0.25835700679338836,0.23143347632150107,0.2601496975882339,0.26023387066960185,0.2592878663097236,0.25947503718498066,0.12081679500471895,0.23194952716433268,0.2571584636359604,0.2593115432955166,0.22653160301581338,0.23114123541862147,0.2602284434081664,0.260170469264755,0.25900203441061187,0.0055265346604531345,0.26020109143156656,0.2593904519297865,0.2601949006087537,0.25972130209036765,0.25880710274682955,0.0055265346604531345,0.2602256159803388,0.25989067700252066,0.2601754809322693,0.2596268953818736,0.2602288515369037,0.25951884223100213,0.26018302358003814,0.2590879673112943,0.25958295616772503,0.26018595633990504,0.25955719105953917,0.25787750019155997,0.25930265616957976,0.2597042449670595,0.0055265346604531345,0.2602584809607259,0.23011156573280486,0.2587367168817073,0.0055265346604531345,0.26007023824899744,0.20937287642597688,0.26028008884807147,0.2593807253561915,0.09553855607140857,0.2599422480992969,0.26010841108429805,0.22476821283625031,0.259786569921156,0.2600146054175172,0.25937865695511186,0.0055265346604531345,0.2590838442103591,0.25808956918456116,0.2602203281578796,0.2597317041640639,0.2602112037161034,0.25957325982143475,0.258877519296107,0.2602381414271046,0.22945208899693456,0.25744764276503185,0.2601389618318306,0.25862269615460065,0.0055265346604531345,0.25943561873427423,0.2602278701134813,0.23464555602847445,0.2599600968746837,0.25109521608492075,0.22616600296427292,0.24902297133649398,0.15980766326376777,0.2585037107282405,0.25959143225865944,0.23005291874778028,0.0055265346604531345,0.2600550790310071,0.2587447097389494,0.25083312841401195,0.2594651705326456,0.22958111317103339,0.24941654283595271,0.2579482547122322,0.2601834638208213,0.2590896987297058,0.25994874879872176,0.2566554050110399,0.25015859489277437,0.2600386104686468,0.2592319521116402,0.2585951255947024,0.26008564469795814,0.21741802503013158,0.2539877203172722,0.0055265346604531345,0.2589570531637072,0.25770568201608424,0.0880585795268939,0.25938500137216963,0.2597812568469251,0.23116128426210455,0.2291441194798381,0.24985205544205963,0.15850607801390945,0.26016129018239126,0.2597370506135189,0.2600367201176465,0.25717057614970573,0.24831692697656357,0.2582856987402793,0.25941580123030095,0.25902385793599475,0.2602165828964806,0.0055265346604531345,0.259047320965904,0.2602042368707474,0.2582206446586085,0.26008694878407146,0.25971224492230577,0.2218098485066912,0.25197504054199743,0.25329318927483335,0.22890498543350976,0.26016787043909445,0.24097187263705983,0.2596410261874563,0.0055265346604531345,0.2263192919508843,0.2602107262461635,0.2591413763276285,0.2599697764094289,0.2599035287571607,0.24912732627669434,0.25853454670141957,0.0055265346604531345,0.2602479563416023,0.2570647641626406,0.2597794014276498,0.26011505151287,0.258378248473657,0.2593672598844204,0.2594305608338029,0.2602377722326518,0.21747323800604795,0.25786216947937035,0.2589923283179569,0.22930192799671553,0.23437172886744215,0.259471311198238,0.12423199534280256,0.2585635275207351,0.2601621662418898,0.2291377094869344,0.09136125441898482,0.0055265346604531345,0.26025539263972364,0.22613615098541356,0.25812082386342944,0.2587782732977528,0.26022759304269494,0.0055265346604531345,0.26023420611156195,0.2599532557543383,0.25122404967421585,0.2595217911182349,0.21837846063315292,0.2585744677146846,0.2525903908945561,0.23135724063380453,0.25050400302757386,0.2593617169659936,0.2600063671313236,0.259550281077439,0.2576169219628822,0.25864445652737356,0.21526253969522138,0.1587515171345776,0.2599170715747089,0.2590987364778049,0.25161241253935335,0.0055265346604531345,0.2602354350090934,0.21568719784113383,0.2582417723800057,0.26021629845031924,0.2249226784457174,0.26004879526486435,0.25969059714374343,0.21984525305723507,0.0055265346604531345,0.26030932919014205,0.22957241721625093,0.2599196639567832,0.25736517507920914,0.2602943453657022,0.25878144958385246,0.2596474649178281,0.26001368722739227,0.0055265346604531345,0.25914461700733715,0.2602909363743621,0.26022258635489964,0.2582244198596249,0.25999384532474223,0.25966079018410293,0.2587475879629773,0.21966113663044595,0.2077995646213308,0.22745558700225602,0.25940255367569615,0.21869407353698395,0.0730533295602892,0.2583681131252991,0.2593052433093101,0.0055265346604531345,0.2575467943131183,0.2602588626378052,0.2588132446671249,0.2601430863086486,0.25980703888924817,0.2594272506890332,0.25830630997380244,0.0055265346604531345,0.26016596222143695,0.25928500089234047,0.2597664437273418,0.2601555057914077,0.25565182482116927,0.25753992907091217,0.2588869456432543,0.2597111251745622,0.25994013204426897,0.25951884223100213,0.22515122483136155,0.0055265346604531345,0.2275176733713244,0.26025157902653767,0.2586679212832642,0.2580493632401571,0.0055265346604531345,0.2157806709888035,0.26027144997400836,0.2580004890827271,0.23122523985177565,0.25881758397912435,0.26017211243352223,0.26009334454080163,0.2567786022580739,0.2592460258953557,0.2580568728872543,0.2602116520835973,0.2596326284048935,0.0055265346604531345,0.259432322661013,0.2184415577017529,0.2601799016771452,0.2588993606297075,0.25443746344604556,0.26008318966057925,0.2598474024260215,0.2295737646501374,0.26024538958526555,0.2288159559506609,0.23231146959485285,0.0055265346604531345,0.1085759834687818,0.260172108804372,0.25882429419848485,0.2597104101892449,0.2597756264281478,0.0869794028164759,0.2591295629637894,0.23165514271750293,0.0055265346604531345,0.2581727935225413,0.25159807661144884,0.25952463494336436,0.2597784926295728,0.21936910173109378,0.2590735526492117,0.25706439760811906,0.25178513400185193,0.22926094314338635,0.2597647560626294,0.2595196300514662,0.2583506478580867,0.260229039807429,0.25966701614166504,0.2549257490673278,0.2566343811901296,0.23552673990689793,0.22800688842369093,0.2595386599333579,0.0055265346604531345,0.17164448707626226,0.2536328458953843,0.1684000887798227,0.24999205283655904,0.2580055337032765,0.22907116858125537,0.2589810409372474,0.25978118215921925,0.0055265346604531345,0.2599735545953593,0.25925956388189403,0.26003123984301163,0.2320362939646839,0.25972087619449563,0.25957054489777315,0.2602897203484428,0.2587723562994834,0.2593941115142979,0.259968640874758,0.25750631267648183,0.0055265346604531345,0.25939589008135994,0.26023905126711677,0.24954106301564621,0.22689461845346556,0.22712026330394103,0.0055265346604531345,0.25997693565562763,0.25928495415193503,0.25942522434669035,0.21696625497730326,0.09395806969245246,0.2595755954530888,0.2599726914236883,0.25661690650345714,0.2579170487010466,0.2592806729514664,0.0055265346604531345,0.25121630768691805,0.2601063832303302,0.2602128016209736,0.2587937988935096,0.259659445139648,0.2570699414084287,0.25980326153108735,0.25250048108610856,0.2583853278009856,0.2598779591671245,0.2504721305336949,0.2598615553919898,0.25938210339750223,0.2602121735374394,0.21296608480257068,0.23336665633630677,0.2602296162226865,0.2659280370505061,0.2644702232226721,0.23213197117970022,0.26407752081532976,0.2634132038596865,0.264089236370088,0.26255799459631757,0.26336985393121254,0.2627723231246271,0.26257804739462165,0.2630475553375634,0.26248546759835406,0.26279758436900497,0.2626973560979489,0.26284614233050657,0.26276785447195183,0.26269515678039623,0.2627237365342373,0.2627172907433007,0.2625337444255557,0.26245179314675704,0.26291899194897744,0.2625354649768896,0.21318859713604663,0.261363314721298,0.26177769104624476,0.2614340161318376,0.2613585632652541,0.262799275144951,0.2629786352805573,0.2628503371010484,0.26299525919342737,0.23187085304899227,0.26290562842783893,0.2634642691942532,0.2637868755340754,0.26396976050801557,0.2642816125439075,0.2635387107281714,0.2639833924213239,0.26379301523288945,0.26373287229897246,0.26382349470057403,0.26372607673487714,0.2639097113531771,0.2638867052152324,0.26394582023831636,0.2639105899522236,0.21426342664078155,0.26372268959547723,0.26398787003837293,0.2642570257526461,0.26414360804180737,0.26416882131396235,0.2640548158657558,0.26406825181173804,0.23134517989353637,0.2642829405040691,0.2644853133278738,0.263197025800005,0.2645653155860794,0.2643449290127764,0.2644579272104195,0.26460177406864893,0.2637900817251415,0.26273790776249406,0.2646436727530718,0.26498112988937056,0.2650051986553482,0.264928162969596,0.26512994818086294,0.2131496536424738,0.26315243266542476,0.2650945135824006,0.26516780808646373,0.2650096811097403,0.2643246812905414,0.26404585120260565,0.23181199040984515,0.26512094553811955,0.26530992119340013,0.2651982202154859,0.26508435699157273,0.2653095770685333,0.2652603284612044,0.26522044287413726,0.26533137957855846,0.2653288323097099,0.26529063396421726,0.2653600089794551,0.2651568804226708,0.26540283817986604,0.2656196002890569,0.21258443867678775,0.2655282667399789,0.2656371936831555,0.26554341549638394,0.2655371072432214,0.26548266551920313,0.2656198808198905,0.265458379977608,0.23166680211327245,0.264446876893177,0.26578795024543167,0.26570936107948767,0.26558795538724034,0.2644689195275687,0.2654318714112048,0.2658930244511172,0.265847931774627,0.2657507595645888,0.23542551977407125,0.264925826956968,0.26570401879254046,0.26562903321189013,0.26569217150275964,0.212179632870611,0.26506064367336746,0.26565697480530137,0.2657416790588787,0.26568922108351,0.17588417996539918,0.26483795885172445,0.2654026039386218,0.23191627870045212,0.26222095327953643,0.2660048605282281,0.2660171925231135,0.26582365886161813,0.26578293696893013,0.26563887990427615,0.2640897861586372,0.26597794537257646,0.14693540964557342,0.2654244681906784,0.2608834690741156,0.26580366259716753,0.26575545964672903,0.21297077952715043,0.2656033894549596,0.26495403507356863,0.26549120383783864,0.2041706139922395,0.2661630635239441,0.2655675296059007,0.2529151072396899,0.2655416142457164,0.23171507463501065,0.2660703590387186,0.26575251070294986,0.26575857272947473,0.26613018612091693,0.2664230591044633,0.26606008445340673,0.2637365657955105,0.26627366174489986,0.26562327204792013,0.2660372311355659,0.2644333733006244,0.26616496265109035,0.26604863369248993,0.21235939811727605,0.16207234034043494,0.26530252046817,0.26626064709131103,0.26443352718717583,0.2657674844442407,0.26565169132408667,0.26630981874046056,0.2314964304917715,0.26629895042810875,0.26592847560935196,0.26450974746458417,0.26317790833009247,0.26551130750406193,0.26622775594799974,0.24781210139152146,0.26620619827682696,0.26612055089825487,0.2659359012067811,0.26560915367069365,0.26260365538279623,0.2655748218784542,0.21262536552710937,0.24320619953417708,0.26458514401371935,0.2650254996592353,0.23310203739988208],\"type\":\"scatter\",\"xaxis\":\"x6\",\"yaxis\":\"y6\"},{\"marker\":{\"color\":[1,2,3,8,44,55,68,127,148,186,229,264,290,318,345,374,403,432,461,491,517,546],\"colorbar\":{\"title\":{\"text\":\"Trial\"},\"x\":1.0,\"xpad\":40},\"colorscale\":[[0.0,\"rgb(247,251,255)\"],[0.125,\"rgb(222,235,247)\"],[0.25,\"rgb(198,219,239)\"],[0.375,\"rgb(158,202,225)\"],[0.5,\"rgb(107,174,214)\"],[0.625,\"rgb(66,146,198)\"],[0.75,\"rgb(33,113,181)\"],[0.875,\"rgb(8,81,156)\"],[1.0,\"rgb(8,48,107)\"]],\"line\":{\"color\":\"Grey\",\"width\":0.5},\"showscale\":false},\"mode\":\"markers\",\"name\":\"Feasible Trial\",\"showlegend\":false,\"x\":[\"lin\",\"exp\",\"log\",\"lin\",\"exp\",\"log\",\"log\",\"exp\",\"lin\",\"log\",\"exp\",\"lin\",\"exp\",\"log\",\"lin\",\"lin\",\"log\",\"exp\",\"exp\",\"lin\",\"log\",\"exp\"],\"y\":[0.13624718955739376,0.1471750754734151,0.17665494281875593,0.17637428068323063,0.09889549888703199,0.08043575093375183,0.11067393242761561,0.055944053866720675,0.1047407367488387,0.14577658713529842,0.22653160301581338,0.09553855607140857,0.22616600296427292,0.0880585795268939,0.24097187263705983,0.09136125441898482,0.21568719784113383,0.0730533295602892,0.2157806709888035,0.0869794028164759,0.1684000887798227,0.09395806969245246],\"type\":\"scatter\",\"xaxis\":\"x7\",\"yaxis\":\"y7\"},{\"marker\":{\"color\":[0,1,2,3,4,5,6,7,8,9,10,11,12,13,14,15,16,17,18,19,20,21,22,23,24,25,26,27,28,29,30,31,32,33,34,35,36,37,38,39,40,41,42,43,44,45,46,47,48,49,50,51,52,53,54,55,56,57,58,59,60,61,62,63,64,65,66,67,68,69,70,71,72,73,74,75,76,77,78,79,80,81,82,83,84,85,86,87,88,89,90,91,92,93,94,95,96,97,98,99,100,101,102,103,104,105,106,107,108,109,110,111,112,113,114,115,116,117,118,119,120,121,122,123,124,125,126,127,128,129,130,131,132,133,134,135,136,137,138,139,140,141,142,143,144,145,146,147,148,149,150,151,152,153,154,155,156,157,158,159,160,161,162,163,164,165,166,167,168,169,170,171,172,173,174,175,176,177,178,179,180,181,182,183,184,185,186,187,188,189,190,191,192,193,194,195,196,197,198,199,200,201,202,203,204,205,206,207,208,209,210,211,212,213,214,215,216,217,218,219,220,221,222,223,224,225,226,227,228,229,230,231,232,233,234,235,236,237,238,239,240,241,242,243,244,245,246,247,248,249,250,251,252,253,254,255,256,257,258,259,260,261,262,263,264,265,266,267,268,269,270,271,272,273,274,275,276,277,278,279,280,281,282,283,284,285,286,287,288,289,290,291,292,293,294,295,296,297,298,299,300,301,302,303,304,305,306,307,308,309,310,311,312,313,314,315,316,317,318,319,320,321,322,323,324,325,326,327,328,329,330,331,332,333,334,335,336,337,338,339,340,341,342,343,344,345,346,347,348,349,350,351,352,353,354,355,356,357,358,359,360,361,362,363,364,365,366,367,368,369,370,371,372,373,374,375,376,377,378,379,380,381,382,383,384,385,386,387,388,389,390,391,392,393,394,395,396,397,398,399,400,401,402,403,404,405,406,407,408,409,410,411,412,413,414,415,416,417,418,419,420,421,422,423,424,425,426,427,428,429,430,431,432,433,434,435,436,437,438,439,440,441,442,443,444,445,446,447,448,449,450,451,452,453,454,455,456,457,458,459,460,461,462,463,464,465,466,467,468,469,470,471,472,473,474,475,476,477,478,479,480,481,482,483,484,485,486,487,488,489,490,491,492,493,494,495,496,497,498,499,500,501,502,503,504,505,506,507,508,509,510,511,512,513,514,515,516,517,518,519,520,521,522,523,524,525,526,527,528,529,530,531,532,533,534,535,536,537,538,539,540,541,542,543,544,545,546,547,548,549,550,551,552,553,554,555,556,557,558,559,560,561,562,563,564,565,566,567,568,569,570,571,572,573,574,575,576,577,578,579,580,581,582,583,584,585,586,587,588,589,590,591,592,593,594,595,596,597,598,599,600,601,602,603,604,605,606,607,608,609,610,611,612,613,614,615,616,617,618,619,620,621,622,623,624,625,626,627,628,629,630,631,632,633,634,635,636,637,638,639,640,641,642,643,644,645,646,647,648,649,650,651,652,653,654,655,656,657,658,659,660,661,662,663,664,665,666,667,668,669,670,671,672,673,674,675,676,677,678,679,680,681,682,683,684,685,686,687,688,689,690,691,692,693,694,695,696,697,698,699,700,701,702,703,704,705,706,707,708,709,710,711,712,713,714,715,716,717,718,719,720,721,722,723,724,725,726,727,728,729,730,731,732,733,734,735,736,737,738,739,740,741,742,743,744,745,746,747,748,749,750,751,752,753,754,755,756,757],\"colorbar\":{\"title\":{\"text\":\"Trial\"},\"x\":1.0,\"xpad\":40},\"colorscale\":[[0.0,\"rgb(247,251,255)\"],[0.125,\"rgb(222,235,247)\"],[0.25,\"rgb(198,219,239)\"],[0.375,\"rgb(158,202,225)\"],[0.5,\"rgb(107,174,214)\"],[0.625,\"rgb(66,146,198)\"],[0.75,\"rgb(33,113,181)\"],[0.875,\"rgb(8,81,156)\"],[1.0,\"rgb(8,48,107)\"]],\"line\":{\"color\":\"Grey\",\"width\":0.5},\"showscale\":false},\"mode\":\"markers\",\"name\":\"Feasible Trial\",\"showlegend\":false,\"x\":[28,707,529,93,389,596,404,405,88,576,216,257,18,195,227,240,160,314,297,347,303,306,479,326,450,304,138,150,135,69,65,61,64,59,42,2,63,107,749,49,182,103,51,9,108,36,84,188,630,128,70,53,31,25,22,3,15,31,97,162,264,38,20,27,29,30,116,0,83,84,28,45,50,19,23,2,20,83,86,121,144,77,84,83,75,161,71,204,72,367,545,75,103,65,62,128,447,55,62,15,12,50,17,16,14,12,12,11,9,43,2,42,40,42,45,43,15,19,14,8,9,16,17,17,20,26,619,2,0,30,31,24,26,30,27,30,29,34,31,56,96,34,61,31,42,30,55,31,277,54,96,34,697,31,28,69,53,0,28,26,45,26,28,63,27,47,26,71,0,22,0,21,21,48,21,19,47,18,60,420,22,24,41,0,19,239,513,41,23,56,39,20,18,15,0,20,15,18,332,42,24,23,14,38,1,24,53,27,61,35,27,24,43,24,0,17,47,30,12,57,34,22,26,11,39,27,50,73,11,27,42,25,23,10,0,24,39,20,13,53,0,24,34,19,37,22,12,23,46,12,25,38,61,11,37,0,24,18,49,0,30,51,21,39,67,15,31,49,14,29,11,0,41,62,23,36,18,12,47,22,12,72,25,53,0,38,18,38,16,373,27,675,1,55,37,16,0,26,52,397,38,15,558,65,26,43,16,86,465,29,11,53,30,14,182,0,44,67,24,39,14,31,52,504,1,23,36,16,76,741,55,38,11,25,0,46,26,60,30,13,269,286,210,46,26,12,37,0,64,24,44,16,33,596,51,0,22,76,35,25,55,11,40,22,30,64,44,11,23,38,12,52,26,11,37,0,25,82,62,47,24,0,21,15,347,38,22,52,243,36,421,11,29,12,68,51,32,1,15,42,25,0,22,40,59,21,98,16,36,49,0,22,14,31,70,22,47,12,30,0,40,20,18,59,32,13,48,26,12,78,38,24,641,57,11,0,38,24,48,26,14,38,58,0,26,41,14,26,112,70,47,13,32,12,32,0,58,24,45,20,0,40,22,64,35,51,19,30,84,11,47,28,12,0,38,63,24,48,162,17,34,13,27,54,35,0,70,25,47,14,35,21,45,24,0,60,326,13,35,25,46,76,304,11,35,12,56,25,36,137,89,24,49,12,0,34,194,224,487,63,26,46,14,0,29,40,20,60,13,37,23,49,11,26,70,0,39,20,536,17,49,0,31,15,39,23,53,12,32,11,61,40,0,361,24,26,47,13,76,35,250,56,19,417,35,11,27,46,12,28,63,80,105,85,111,95,124,110,125,122,121,127,121,123,121,121,124,122,123,127,129,119,125,125,149,141,148,149,122,119,121,117,115,121,112,108,105,98,110,103,103,103,103,104,103,101,99,101,104,102,100,98,97,97,99,98,96,96,93,94,91,95,95,93,90,91,93,89,87,89,86,84,87,86,85,88,79,87,84,85,82,83,86,82,83,83,81,81,81,81,82,79,77,84,78,77,76,76,77,73,75,76,77,73,73,75,72,77,70,70,72,78,70,71,72,69,69,68,70,70,69,69,79,64,70,69,67,66,68,67,71,72,65,71,65,66,66,64,64,63,62,63,66,62,62,63,64,62,63,64,64,61,56,58,61,58,55,58,59,57,57,56,59,55,56,54,58,57,56,58,55,55,54,55,56,53,448,52,51,53,54,54,49,52,665,50,55,564],\"y\":[0.23148330284290042,0.13624718955739376,0.1471750754734151,0.17665494281875593,0.22605954763810066,0.20349984418451744,0.1972443703365315,0.19482189997815597,0.17637428068323063,0.22522086925996349,0.22319422054210195,0.2304573118495677,0.17144150147345222,0.2320857319855421,0.23275752848559866,0.23171090388175025,0.2127854379593969,0.23970748561893918,0.240483947366465,0.22505091809824102,0.24092850196791454,0.24090856193617882,0.2355894386586912,0.24176958909342275,0.23873396992488702,0.24254635065272973,0.24957153157159687,0.24888446910334255,0.23541728054090555,0.2516468092914111,0.25443769162528307,0.2548065564830398,0.25372594137621196,0.2542656062806814,0.2510363291879291,0.21729222252899047,0.2542230921973612,0.23936386771471282,0.23272192674389913,0.2430012686796093,0.2445792335742334,0.2508384206817508,0.2555594698275499,0.25216047372169353,0.09889549888703199,0.21599737636144267,0.23142058460597698,0.24626551129669433,0.22726151671351763,0.23969296349398544,0.24756067995173195,0.25530024248415983,0.25560379420324086,0.25571632981331993,0.25565640365780096,0.08043575093375183,0.21855068461434887,0.24773265987949525,0.054672355535981446,0.22372828175047949,0.2358642124673164,0.2553778916070521,0.2568086807011941,0.2558789323947374,0.2552056581054293,0.2455116840403182,0.2152355960719305,0.0055265346604531345,0.11067393242761561,0.22608833450679114,0.233145956015041,0.2547298553411854,0.24897096109001587,0.2576156616761005,0.25744981266166433,0.21698334053455676,0.2575202661872857,0.2561060665645264,0.25578135216037295,0.25494998947199676,0.2538111399898332,0.2559646138359945,0.25582035948664855,0.2559897184094767,0.2559974523038986,0.2533678262625595,0.2562629450364597,0.2523955512395206,0.25646652209648685,0.2501219720024811,0.2485134954588148,0.25647034080192216,0.2551863355191928,0.2565211778203894,0.2565991891007239,0.25422240615921754,0.24847896854246318,0.2578990980248367,0.25753610102787367,0.25964283046146747,0.25917266297874675,0.258279823411374,0.2598612810007102,0.2596685152716735,0.2593783948294804,0.25918602878015073,0.25919092214299544,0.25919132087475044,0.2583387599220447,0.2585890395914807,0.21708510837470243,0.2587061884464763,0.2589839874559213,0.2589583376145547,0.25863546012247757,0.25885640146171823,0.25970924597612643,0.2600522358728864,0.2597082707062577,0.25826614004087733,0.21113037843336824,0.2599951255124881,0.2600831369621336,0.26007342166596137,0.2602208581514182,0.124809511033937,0.24869521280564416,0.055944053866720675,0.0055265346604531345,0.2600945614984461,0.260019690529778,0.2602939568788393,0.26015952543770826,0.2600300024230263,0.2601363510062749,0.2600263645507829,0.2600216894749122,0.25986158212031707,0.23112299979914588,0.258406550449704,0.2563362950505154,0.25987593054671143,0.25809501891627473,0.2600722602929655,0.2592606292932317,0.23251582536931018,0.25844008266429297,0.24438533737019758,0.1047407367488387,0.25840097475794127,0.2563216651426966,0.2598256616300174,0.24862544044376894,0.2601035905209292,0.2602726153027083,0.22736937727738943,0.2585028479772481,0.0055265346604531345,0.2307749488633813,0.2601695123332381,0.2590679863270371,0.2601695123332381,0.2601854248411634,0.25797448558814523,0.26021846822095585,0.2588010860733287,0.26015684881002554,0.25744117476851935,0.0055265346604531345,0.2602098221402436,0.0055265346604531345,0.2602967190708516,0.26030777685753526,0.2587079872788002,0.2602398571830838,0.2600797939695729,0.25878144958385246,0.2601141247441451,0.2580234098585182,0.24964093523736391,0.23835958795670487,0.2601999026823316,0.25908841948201733,0.0055265346604531345,0.26014436975609867,0.252680413487203,0.14577658713529842,0.25909516298509416,0.25835488067699763,0.25841751302486693,0.2593481385474267,0.2602909363743621,0.26020579220238493,0.25996299344736007,0.0055265346604531345,0.26021464860255117,0.25996258609179124,0.260148938520933,0.251475362966174,0.2592997343508444,0.26021746435997634,0.26026967279496155,0.25973168609259234,0.25956870479820804,0.15723541587884352,0.2602150234922539,0.2587655274981736,0.2601907058553735,0.2579695019688275,0.2597590106646209,0.26020274354136347,0.26021746435997634,0.25918609774315415,0.2602304128932977,0.0055265346604531345,0.2600048907447058,0.25898286532965625,0.26003591850712676,0.25955447200453297,0.25835700679338836,0.23143347632150107,0.2601496975882339,0.26023387066960185,0.2592878663097236,0.25947503718498066,0.12081679500471895,0.23194952716433268,0.2571584636359604,0.2593115432955166,0.22653160301581338,0.23114123541862147,0.2602284434081664,0.260170469264755,0.25900203441061187,0.0055265346604531345,0.26020109143156656,0.2593904519297865,0.2601949006087537,0.25972130209036765,0.25880710274682955,0.0055265346604531345,0.2602256159803388,0.25989067700252066,0.2601754809322693,0.2596268953818736,0.2602288515369037,0.25951884223100213,0.26018302358003814,0.2590879673112943,0.25958295616772503,0.26018595633990504,0.25955719105953917,0.25787750019155997,0.25930265616957976,0.2597042449670595,0.0055265346604531345,0.2602584809607259,0.23011156573280486,0.2587367168817073,0.0055265346604531345,0.26007023824899744,0.20937287642597688,0.26028008884807147,0.2593807253561915,0.09553855607140857,0.2599422480992969,0.26010841108429805,0.22476821283625031,0.259786569921156,0.2600146054175172,0.25937865695511186,0.0055265346604531345,0.2590838442103591,0.25808956918456116,0.2602203281578796,0.2597317041640639,0.2602112037161034,0.25957325982143475,0.258877519296107,0.2602381414271046,0.22945208899693456,0.25744764276503185,0.2601389618318306,0.25862269615460065,0.0055265346604531345,0.25943561873427423,0.2602278701134813,0.23464555602847445,0.2599600968746837,0.25109521608492075,0.22616600296427292,0.24902297133649398,0.15980766326376777,0.2585037107282405,0.25959143225865944,0.23005291874778028,0.0055265346604531345,0.2600550790310071,0.2587447097389494,0.25083312841401195,0.2594651705326456,0.22958111317103339,0.24941654283595271,0.2579482547122322,0.2601834638208213,0.2590896987297058,0.25994874879872176,0.2566554050110399,0.25015859489277437,0.2600386104686468,0.2592319521116402,0.2585951255947024,0.26008564469795814,0.21741802503013158,0.2539877203172722,0.0055265346604531345,0.2589570531637072,0.25770568201608424,0.0880585795268939,0.25938500137216963,0.2597812568469251,0.23116128426210455,0.2291441194798381,0.24985205544205963,0.15850607801390945,0.26016129018239126,0.2597370506135189,0.2600367201176465,0.25717057614970573,0.24831692697656357,0.2582856987402793,0.25941580123030095,0.25902385793599475,0.2602165828964806,0.0055265346604531345,0.259047320965904,0.2602042368707474,0.2582206446586085,0.26008694878407146,0.25971224492230577,0.2218098485066912,0.25197504054199743,0.25329318927483335,0.22890498543350976,0.26016787043909445,0.24097187263705983,0.2596410261874563,0.0055265346604531345,0.2263192919508843,0.2602107262461635,0.2591413763276285,0.2599697764094289,0.2599035287571607,0.24912732627669434,0.25853454670141957,0.0055265346604531345,0.2602479563416023,0.2570647641626406,0.2597794014276498,0.26011505151287,0.258378248473657,0.2593672598844204,0.2594305608338029,0.2602377722326518,0.21747323800604795,0.25786216947937035,0.2589923283179569,0.22930192799671553,0.23437172886744215,0.259471311198238,0.12423199534280256,0.2585635275207351,0.2601621662418898,0.2291377094869344,0.09136125441898482,0.0055265346604531345,0.26025539263972364,0.22613615098541356,0.25812082386342944,0.2587782732977528,0.26022759304269494,0.0055265346604531345,0.26023420611156195,0.2599532557543383,0.25122404967421585,0.2595217911182349,0.21837846063315292,0.2585744677146846,0.2525903908945561,0.23135724063380453,0.25050400302757386,0.2593617169659936,0.2600063671313236,0.259550281077439,0.2576169219628822,0.25864445652737356,0.21526253969522138,0.1587515171345776,0.2599170715747089,0.2590987364778049,0.25161241253935335,0.0055265346604531345,0.2602354350090934,0.21568719784113383,0.2582417723800057,0.26021629845031924,0.2249226784457174,0.26004879526486435,0.25969059714374343,0.21984525305723507,0.0055265346604531345,0.26030932919014205,0.22957241721625093,0.2599196639567832,0.25736517507920914,0.2602943453657022,0.25878144958385246,0.2596474649178281,0.26001368722739227,0.0055265346604531345,0.25914461700733715,0.2602909363743621,0.26022258635489964,0.2582244198596249,0.25999384532474223,0.25966079018410293,0.2587475879629773,0.21966113663044595,0.2077995646213308,0.22745558700225602,0.25940255367569615,0.21869407353698395,0.0730533295602892,0.2583681131252991,0.2593052433093101,0.0055265346604531345,0.2575467943131183,0.2602588626378052,0.2588132446671249,0.2601430863086486,0.25980703888924817,0.2594272506890332,0.25830630997380244,0.0055265346604531345,0.26016596222143695,0.25928500089234047,0.2597664437273418,0.2601555057914077,0.25565182482116927,0.25753992907091217,0.2588869456432543,0.2597111251745622,0.25994013204426897,0.25951884223100213,0.22515122483136155,0.0055265346604531345,0.2275176733713244,0.26025157902653767,0.2586679212832642,0.2580493632401571,0.0055265346604531345,0.2157806709888035,0.26027144997400836,0.2580004890827271,0.23122523985177565,0.25881758397912435,0.26017211243352223,0.26009334454080163,0.2567786022580739,0.2592460258953557,0.2580568728872543,0.2602116520835973,0.2596326284048935,0.0055265346604531345,0.259432322661013,0.2184415577017529,0.2601799016771452,0.2588993606297075,0.25443746344604556,0.26008318966057925,0.2598474024260215,0.2295737646501374,0.26024538958526555,0.2288159559506609,0.23231146959485285,0.0055265346604531345,0.1085759834687818,0.260172108804372,0.25882429419848485,0.2597104101892449,0.2597756264281478,0.0869794028164759,0.2591295629637894,0.23165514271750293,0.0055265346604531345,0.2581727935225413,0.25159807661144884,0.25952463494336436,0.2597784926295728,0.21936910173109378,0.2590735526492117,0.25706439760811906,0.25178513400185193,0.22926094314338635,0.2597647560626294,0.2595196300514662,0.2583506478580867,0.260229039807429,0.25966701614166504,0.2549257490673278,0.2566343811901296,0.23552673990689793,0.22800688842369093,0.2595386599333579,0.0055265346604531345,0.17164448707626226,0.2536328458953843,0.1684000887798227,0.24999205283655904,0.2580055337032765,0.22907116858125537,0.2589810409372474,0.25978118215921925,0.0055265346604531345,0.2599735545953593,0.25925956388189403,0.26003123984301163,0.2320362939646839,0.25972087619449563,0.25957054489777315,0.2602897203484428,0.2587723562994834,0.2593941115142979,0.259968640874758,0.25750631267648183,0.0055265346604531345,0.25939589008135994,0.26023905126711677,0.24954106301564621,0.22689461845346556,0.22712026330394103,0.0055265346604531345,0.25997693565562763,0.25928495415193503,0.25942522434669035,0.21696625497730326,0.09395806969245246,0.2595755954530888,0.2599726914236883,0.25661690650345714,0.2579170487010466,0.2592806729514664,0.0055265346604531345,0.25121630768691805,0.2601063832303302,0.2602128016209736,0.2587937988935096,0.259659445139648,0.2570699414084287,0.25980326153108735,0.25250048108610856,0.2583853278009856,0.2598779591671245,0.2504721305336949,0.2598615553919898,0.25938210339750223,0.2602121735374394,0.21296608480257068,0.23336665633630677,0.2602296162226865,0.2659280370505061,0.2644702232226721,0.23213197117970022,0.26407752081532976,0.2634132038596865,0.264089236370088,0.26255799459631757,0.26336985393121254,0.2627723231246271,0.26257804739462165,0.2630475553375634,0.26248546759835406,0.26279758436900497,0.2626973560979489,0.26284614233050657,0.26276785447195183,0.26269515678039623,0.2627237365342373,0.2627172907433007,0.2625337444255557,0.26245179314675704,0.26291899194897744,0.2625354649768896,0.21318859713604663,0.261363314721298,0.26177769104624476,0.2614340161318376,0.2613585632652541,0.262799275144951,0.2629786352805573,0.2628503371010484,0.26299525919342737,0.23187085304899227,0.26290562842783893,0.2634642691942532,0.2637868755340754,0.26396976050801557,0.2642816125439075,0.2635387107281714,0.2639833924213239,0.26379301523288945,0.26373287229897246,0.26382349470057403,0.26372607673487714,0.2639097113531771,0.2638867052152324,0.26394582023831636,0.2639105899522236,0.21426342664078155,0.26372268959547723,0.26398787003837293,0.2642570257526461,0.26414360804180737,0.26416882131396235,0.2640548158657558,0.26406825181173804,0.23134517989353637,0.2642829405040691,0.2644853133278738,0.263197025800005,0.2645653155860794,0.2643449290127764,0.2644579272104195,0.26460177406864893,0.2637900817251415,0.26273790776249406,0.2646436727530718,0.26498112988937056,0.2650051986553482,0.264928162969596,0.26512994818086294,0.2131496536424738,0.26315243266542476,0.2650945135824006,0.26516780808646373,0.2650096811097403,0.2643246812905414,0.26404585120260565,0.23181199040984515,0.26512094553811955,0.26530992119340013,0.2651982202154859,0.26508435699157273,0.2653095770685333,0.2652603284612044,0.26522044287413726,0.26533137957855846,0.2653288323097099,0.26529063396421726,0.2653600089794551,0.2651568804226708,0.26540283817986604,0.2656196002890569,0.21258443867678775,0.2655282667399789,0.2656371936831555,0.26554341549638394,0.2655371072432214,0.26548266551920313,0.2656198808198905,0.265458379977608,0.23166680211327245,0.264446876893177,0.26578795024543167,0.26570936107948767,0.26558795538724034,0.2644689195275687,0.2654318714112048,0.2658930244511172,0.265847931774627,0.2657507595645888,0.23542551977407125,0.264925826956968,0.26570401879254046,0.26562903321189013,0.26569217150275964,0.212179632870611,0.26506064367336746,0.26565697480530137,0.2657416790588787,0.26568922108351,0.17588417996539918,0.26483795885172445,0.2654026039386218,0.23191627870045212,0.26222095327953643,0.2660048605282281,0.2660171925231135,0.26582365886161813,0.26578293696893013,0.26563887990427615,0.2640897861586372,0.26597794537257646,0.14693540964557342,0.2654244681906784,0.2608834690741156,0.26580366259716753,0.26575545964672903,0.21297077952715043,0.2656033894549596,0.26495403507356863,0.26549120383783864,0.2041706139922395,0.2661630635239441,0.2655675296059007,0.2529151072396899,0.2655416142457164,0.23171507463501065,0.2660703590387186,0.26575251070294986,0.26575857272947473,0.26613018612091693,0.2664230591044633,0.26606008445340673,0.2637365657955105,0.26627366174489986,0.26562327204792013,0.2660372311355659,0.2644333733006244,0.26616496265109035,0.26604863369248993,0.21235939811727605,0.16207234034043494,0.26530252046817,0.26626064709131103,0.26443352718717583,0.2657674844442407,0.26565169132408667,0.26630981874046056,0.2314964304917715,0.26629895042810875,0.26592847560935196,0.26450974746458417,0.26317790833009247,0.26551130750406193,0.26622775594799974,0.24781210139152146,0.26620619827682696,0.26612055089825487,0.2659359012067811,0.26560915367069365,0.26260365538279623,0.2655748218784542,0.21262536552710937,0.24320619953417708,0.26458514401371935,0.2650254996592353,0.23310203739988208],\"type\":\"scatter\",\"xaxis\":\"x8\",\"yaxis\":\"y8\"},{\"marker\":{\"color\":[4,9,45,50,66,120,145,180,220,259,287,313,340,368,396,427,454,483,511,539,567],\"colorbar\":{\"title\":{\"text\":\"Trial\"},\"x\":1.0,\"xpad\":40},\"colorscale\":[[0.0,\"rgb(247,251,255)\"],[0.125,\"rgb(222,235,247)\"],[0.25,\"rgb(198,219,239)\"],[0.375,\"rgb(158,202,225)\"],[0.5,\"rgb(107,174,214)\"],[0.625,\"rgb(66,146,198)\"],[0.75,\"rgb(33,113,181)\"],[0.875,\"rgb(8,81,156)\"],[1.0,\"rgb(8,48,107)\"]],\"line\":{\"color\":\"Grey\",\"width\":0.5},\"showscale\":false},\"mode\":\"markers\",\"name\":\"Feasible Trial\",\"showlegend\":false,\"x\":[0.002773552710161331,0.012186413739336377,1.9589324692384469,1.3266837259233304,0.8306481932855818,0.8067298376548713,1.7113331433700558,0.44645192794332345,1.30076447023733,0.4756336408642483,1.3669547158153499,0.46900337037410833,1.6097015695752648,1.0300642748095459,1.9956336986166412,0.2469751121275796,1.0276052631032513,0.7556217368655225,1.532286895789481,1.818856118800783,0.23104386521977505],\"y\":[0.22605954763810066,0.22522086925996349,0.21599737636144267,0.24756067995173195,0.2152355960719305,0.21113037843336824,0.23251582536931018,0.23835958795670487,0.23143347632150107,0.0055265346604531345,0.23464555602847445,0.21741802503013158,0.2218098485066912,0.23437172886744215,0.21526253969522138,0.21966113663044595,0.22515122483136155,0.2288159559506609,0.23552673990689793,0.22689461845346556,0.21296608480257068],\"type\":\"scatter\",\"xaxis\":\"x9\",\"yaxis\":\"y9\"},{\"marker\":{\"color\":[4,9,45,50,66,120,145,180,220,259,287,313,340,368,396,427,454,483,511,539,567],\"colorbar\":{\"title\":{\"text\":\"Trial\"},\"x\":1.0,\"xpad\":40},\"colorscale\":[[0.0,\"rgb(247,251,255)\"],[0.125,\"rgb(222,235,247)\"],[0.25,\"rgb(198,219,239)\"],[0.375,\"rgb(158,202,225)\"],[0.5,\"rgb(107,174,214)\"],[0.625,\"rgb(66,146,198)\"],[0.75,\"rgb(33,113,181)\"],[0.875,\"rgb(8,81,156)\"],[1.0,\"rgb(8,48,107)\"]],\"line\":{\"color\":\"Grey\",\"width\":0.5},\"showscale\":false},\"mode\":\"markers\",\"name\":\"Feasible Trial\",\"showlegend\":false,\"x\":[0.610671904065073,1.4416409845921037,0.01962289550447016,1.95347608801205,0.8823383845412239,0.2874035369552379,1.4127330315232332,1.9709020362287026,1.224578477161475,0.6878494702791231,1.675650354704799,0.29323403065756626,1.0232320873041325,1.6360338344378085,0.01114539511178636,0.4903183358945513,0.9309285499445845,1.136254542519333,1.684170207593464,0.7705401629834272,0.332748682051623],\"y\":[0.22605954763810066,0.22522086925996349,0.21599737636144267,0.24756067995173195,0.2152355960719305,0.21113037843336824,0.23251582536931018,0.23835958795670487,0.23143347632150107,0.0055265346604531345,0.23464555602847445,0.21741802503013158,0.2218098485066912,0.23437172886744215,0.21526253969522138,0.21966113663044595,0.22515122483136155,0.2288159559506609,0.23552673990689793,0.22689461845346556,0.21296608480257068],\"type\":\"scatter\",\"xaxis\":\"x10\",\"yaxis\":\"y10\"}],                        {\"template\":{\"data\":{\"histogram2dcontour\":[{\"type\":\"histogram2dcontour\",\"colorbar\":{\"outlinewidth\":0,\"ticks\":\"\"},\"colorscale\":[[0.0,\"#0d0887\"],[0.1111111111111111,\"#46039f\"],[0.2222222222222222,\"#7201a8\"],[0.3333333333333333,\"#9c179e\"],[0.4444444444444444,\"#bd3786\"],[0.5555555555555556,\"#d8576b\"],[0.6666666666666666,\"#ed7953\"],[0.7777777777777778,\"#fb9f3a\"],[0.8888888888888888,\"#fdca26\"],[1.0,\"#f0f921\"]]}],\"choropleth\":[{\"type\":\"choropleth\",\"colorbar\":{\"outlinewidth\":0,\"ticks\":\"\"}}],\"histogram2d\":[{\"type\":\"histogram2d\",\"colorbar\":{\"outlinewidth\":0,\"ticks\":\"\"},\"colorscale\":[[0.0,\"#0d0887\"],[0.1111111111111111,\"#46039f\"],[0.2222222222222222,\"#7201a8\"],[0.3333333333333333,\"#9c179e\"],[0.4444444444444444,\"#bd3786\"],[0.5555555555555556,\"#d8576b\"],[0.6666666666666666,\"#ed7953\"],[0.7777777777777778,\"#fb9f3a\"],[0.8888888888888888,\"#fdca26\"],[1.0,\"#f0f921\"]]}],\"heatmap\":[{\"type\":\"heatmap\",\"colorbar\":{\"outlinewidth\":0,\"ticks\":\"\"},\"colorscale\":[[0.0,\"#0d0887\"],[0.1111111111111111,\"#46039f\"],[0.2222222222222222,\"#7201a8\"],[0.3333333333333333,\"#9c179e\"],[0.4444444444444444,\"#bd3786\"],[0.5555555555555556,\"#d8576b\"],[0.6666666666666666,\"#ed7953\"],[0.7777777777777778,\"#fb9f3a\"],[0.8888888888888888,\"#fdca26\"],[1.0,\"#f0f921\"]]}],\"heatmapgl\":[{\"type\":\"heatmapgl\",\"colorbar\":{\"outlinewidth\":0,\"ticks\":\"\"},\"colorscale\":[[0.0,\"#0d0887\"],[0.1111111111111111,\"#46039f\"],[0.2222222222222222,\"#7201a8\"],[0.3333333333333333,\"#9c179e\"],[0.4444444444444444,\"#bd3786\"],[0.5555555555555556,\"#d8576b\"],[0.6666666666666666,\"#ed7953\"],[0.7777777777777778,\"#fb9f3a\"],[0.8888888888888888,\"#fdca26\"],[1.0,\"#f0f921\"]]}],\"contourcarpet\":[{\"type\":\"contourcarpet\",\"colorbar\":{\"outlinewidth\":0,\"ticks\":\"\"}}],\"contour\":[{\"type\":\"contour\",\"colorbar\":{\"outlinewidth\":0,\"ticks\":\"\"},\"colorscale\":[[0.0,\"#0d0887\"],[0.1111111111111111,\"#46039f\"],[0.2222222222222222,\"#7201a8\"],[0.3333333333333333,\"#9c179e\"],[0.4444444444444444,\"#bd3786\"],[0.5555555555555556,\"#d8576b\"],[0.6666666666666666,\"#ed7953\"],[0.7777777777777778,\"#fb9f3a\"],[0.8888888888888888,\"#fdca26\"],[1.0,\"#f0f921\"]]}],\"surface\":[{\"type\":\"surface\",\"colorbar\":{\"outlinewidth\":0,\"ticks\":\"\"},\"colorscale\":[[0.0,\"#0d0887\"],[0.1111111111111111,\"#46039f\"],[0.2222222222222222,\"#7201a8\"],[0.3333333333333333,\"#9c179e\"],[0.4444444444444444,\"#bd3786\"],[0.5555555555555556,\"#d8576b\"],[0.6666666666666666,\"#ed7953\"],[0.7777777777777778,\"#fb9f3a\"],[0.8888888888888888,\"#fdca26\"],[1.0,\"#f0f921\"]]}],\"mesh3d\":[{\"type\":\"mesh3d\",\"colorbar\":{\"outlinewidth\":0,\"ticks\":\"\"}}],\"scatter\":[{\"fillpattern\":{\"fillmode\":\"overlay\",\"size\":10,\"solidity\":0.2},\"type\":\"scatter\"}],\"parcoords\":[{\"type\":\"parcoords\",\"line\":{\"colorbar\":{\"outlinewidth\":0,\"ticks\":\"\"}}}],\"scatterpolargl\":[{\"type\":\"scatterpolargl\",\"marker\":{\"colorbar\":{\"outlinewidth\":0,\"ticks\":\"\"}}}],\"bar\":[{\"error_x\":{\"color\":\"#2a3f5f\"},\"error_y\":{\"color\":\"#2a3f5f\"},\"marker\":{\"line\":{\"color\":\"#E5ECF6\",\"width\":0.5},\"pattern\":{\"fillmode\":\"overlay\",\"size\":10,\"solidity\":0.2}},\"type\":\"bar\"}],\"scattergeo\":[{\"type\":\"scattergeo\",\"marker\":{\"colorbar\":{\"outlinewidth\":0,\"ticks\":\"\"}}}],\"scatterpolar\":[{\"type\":\"scatterpolar\",\"marker\":{\"colorbar\":{\"outlinewidth\":0,\"ticks\":\"\"}}}],\"histogram\":[{\"marker\":{\"pattern\":{\"fillmode\":\"overlay\",\"size\":10,\"solidity\":0.2}},\"type\":\"histogram\"}],\"scattergl\":[{\"type\":\"scattergl\",\"marker\":{\"colorbar\":{\"outlinewidth\":0,\"ticks\":\"\"}}}],\"scatter3d\":[{\"type\":\"scatter3d\",\"line\":{\"colorbar\":{\"outlinewidth\":0,\"ticks\":\"\"}},\"marker\":{\"colorbar\":{\"outlinewidth\":0,\"ticks\":\"\"}}}],\"scattermapbox\":[{\"type\":\"scattermapbox\",\"marker\":{\"colorbar\":{\"outlinewidth\":0,\"ticks\":\"\"}}}],\"scatterternary\":[{\"type\":\"scatterternary\",\"marker\":{\"colorbar\":{\"outlinewidth\":0,\"ticks\":\"\"}}}],\"scattercarpet\":[{\"type\":\"scattercarpet\",\"marker\":{\"colorbar\":{\"outlinewidth\":0,\"ticks\":\"\"}}}],\"carpet\":[{\"aaxis\":{\"endlinecolor\":\"#2a3f5f\",\"gridcolor\":\"white\",\"linecolor\":\"white\",\"minorgridcolor\":\"white\",\"startlinecolor\":\"#2a3f5f\"},\"baxis\":{\"endlinecolor\":\"#2a3f5f\",\"gridcolor\":\"white\",\"linecolor\":\"white\",\"minorgridcolor\":\"white\",\"startlinecolor\":\"#2a3f5f\"},\"type\":\"carpet\"}],\"table\":[{\"cells\":{\"fill\":{\"color\":\"#EBF0F8\"},\"line\":{\"color\":\"white\"}},\"header\":{\"fill\":{\"color\":\"#C8D4E3\"},\"line\":{\"color\":\"white\"}},\"type\":\"table\"}],\"barpolar\":[{\"marker\":{\"line\":{\"color\":\"#E5ECF6\",\"width\":0.5},\"pattern\":{\"fillmode\":\"overlay\",\"size\":10,\"solidity\":0.2}},\"type\":\"barpolar\"}],\"pie\":[{\"automargin\":true,\"type\":\"pie\"}]},\"layout\":{\"autotypenumbers\":\"strict\",\"colorway\":[\"#636efa\",\"#EF553B\",\"#00cc96\",\"#ab63fa\",\"#FFA15A\",\"#19d3f3\",\"#FF6692\",\"#B6E880\",\"#FF97FF\",\"#FECB52\"],\"font\":{\"color\":\"#2a3f5f\"},\"hovermode\":\"closest\",\"hoverlabel\":{\"align\":\"left\"},\"paper_bgcolor\":\"white\",\"plot_bgcolor\":\"#E5ECF6\",\"polar\":{\"bgcolor\":\"#E5ECF6\",\"angularaxis\":{\"gridcolor\":\"white\",\"linecolor\":\"white\",\"ticks\":\"\"},\"radialaxis\":{\"gridcolor\":\"white\",\"linecolor\":\"white\",\"ticks\":\"\"}},\"ternary\":{\"bgcolor\":\"#E5ECF6\",\"aaxis\":{\"gridcolor\":\"white\",\"linecolor\":\"white\",\"ticks\":\"\"},\"baxis\":{\"gridcolor\":\"white\",\"linecolor\":\"white\",\"ticks\":\"\"},\"caxis\":{\"gridcolor\":\"white\",\"linecolor\":\"white\",\"ticks\":\"\"}},\"coloraxis\":{\"colorbar\":{\"outlinewidth\":0,\"ticks\":\"\"}},\"colorscale\":{\"sequential\":[[0.0,\"#0d0887\"],[0.1111111111111111,\"#46039f\"],[0.2222222222222222,\"#7201a8\"],[0.3333333333333333,\"#9c179e\"],[0.4444444444444444,\"#bd3786\"],[0.5555555555555556,\"#d8576b\"],[0.6666666666666666,\"#ed7953\"],[0.7777777777777778,\"#fb9f3a\"],[0.8888888888888888,\"#fdca26\"],[1.0,\"#f0f921\"]],\"sequentialminus\":[[0.0,\"#0d0887\"],[0.1111111111111111,\"#46039f\"],[0.2222222222222222,\"#7201a8\"],[0.3333333333333333,\"#9c179e\"],[0.4444444444444444,\"#bd3786\"],[0.5555555555555556,\"#d8576b\"],[0.6666666666666666,\"#ed7953\"],[0.7777777777777778,\"#fb9f3a\"],[0.8888888888888888,\"#fdca26\"],[1.0,\"#f0f921\"]],\"diverging\":[[0,\"#8e0152\"],[0.1,\"#c51b7d\"],[0.2,\"#de77ae\"],[0.3,\"#f1b6da\"],[0.4,\"#fde0ef\"],[0.5,\"#f7f7f7\"],[0.6,\"#e6f5d0\"],[0.7,\"#b8e186\"],[0.8,\"#7fbc41\"],[0.9,\"#4d9221\"],[1,\"#276419\"]]},\"xaxis\":{\"gridcolor\":\"white\",\"linecolor\":\"white\",\"ticks\":\"\",\"title\":{\"standoff\":15},\"zerolinecolor\":\"white\",\"automargin\":true,\"zerolinewidth\":2},\"yaxis\":{\"gridcolor\":\"white\",\"linecolor\":\"white\",\"ticks\":\"\",\"title\":{\"standoff\":15},\"zerolinecolor\":\"white\",\"automargin\":true,\"zerolinewidth\":2},\"scene\":{\"xaxis\":{\"backgroundcolor\":\"#E5ECF6\",\"gridcolor\":\"white\",\"linecolor\":\"white\",\"showbackground\":true,\"ticks\":\"\",\"zerolinecolor\":\"white\",\"gridwidth\":2},\"yaxis\":{\"backgroundcolor\":\"#E5ECF6\",\"gridcolor\":\"white\",\"linecolor\":\"white\",\"showbackground\":true,\"ticks\":\"\",\"zerolinecolor\":\"white\",\"gridwidth\":2},\"zaxis\":{\"backgroundcolor\":\"#E5ECF6\",\"gridcolor\":\"white\",\"linecolor\":\"white\",\"showbackground\":true,\"ticks\":\"\",\"zerolinecolor\":\"white\",\"gridwidth\":2}},\"shapedefaults\":{\"line\":{\"color\":\"#2a3f5f\"}},\"annotationdefaults\":{\"arrowcolor\":\"#2a3f5f\",\"arrowhead\":0,\"arrowwidth\":1},\"geo\":{\"bgcolor\":\"white\",\"landcolor\":\"#E5ECF6\",\"subunitcolor\":\"white\",\"showland\":true,\"showlakes\":true,\"lakecolor\":\"white\"},\"title\":{\"x\":0.05},\"mapbox\":{\"style\":\"light\"}}},\"xaxis\":{\"anchor\":\"y\",\"domain\":[0.0,0.082],\"title\":{\"text\":\"asymmetric_alpha\"}},\"yaxis\":{\"anchor\":\"x\",\"domain\":[0.0,1.0],\"title\":{\"text\":\"Objective Value\"}},\"xaxis2\":{\"anchor\":\"y2\",\"domain\":[0.10200000000000001,0.184],\"title\":{\"text\":\"feature_weighting\"},\"type\":\"category\",\"categoryorder\":\"array\",\"categoryarray\":[\"BM25\",\"TF-IDF\",\"none\"]},\"yaxis2\":{\"anchor\":\"x2\",\"domain\":[0.0,1.0],\"matches\":\"y\",\"showticklabels\":false},\"xaxis3\":{\"anchor\":\"y3\",\"domain\":[0.20400000000000001,0.28600000000000003],\"title\":{\"text\":\"normalize\"},\"type\":\"category\",\"categoryorder\":\"array\",\"categoryarray\":[true,false]},\"yaxis3\":{\"anchor\":\"x3\",\"domain\":[0.0,1.0],\"matches\":\"y\",\"showticklabels\":false},\"xaxis4\":{\"anchor\":\"y4\",\"domain\":[0.306,0.388],\"title\":{\"text\":\"normalize_avg_row\"},\"type\":\"category\",\"categoryorder\":\"array\",\"categoryarray\":[true,false]},\"yaxis4\":{\"anchor\":\"x4\",\"domain\":[0.0,1.0],\"matches\":\"y\",\"showticklabels\":false},\"xaxis5\":{\"anchor\":\"y5\",\"domain\":[0.40800000000000003,0.49000000000000005],\"title\":{\"text\":\"shrink\"}},\"yaxis5\":{\"anchor\":\"x5\",\"domain\":[0.0,1.0],\"matches\":\"y\",\"showticklabels\":false},\"xaxis6\":{\"anchor\":\"y6\",\"domain\":[0.51,0.592],\"title\":{\"text\":\"similarity\"},\"type\":\"category\",\"categoryorder\":\"array\",\"categoryarray\":[\"cosine\",\"dice\",\"jaccard\",\"asymmetric\",\"tversky\",\"euclidean\"]},\"yaxis6\":{\"anchor\":\"x6\",\"domain\":[0.0,1.0],\"matches\":\"y\",\"showticklabels\":false},\"xaxis7\":{\"anchor\":\"y7\",\"domain\":[0.6120000000000001,0.6940000000000001],\"title\":{\"text\":\"similarity_from_distance_mode\"},\"type\":\"category\",\"categoryorder\":\"array\",\"categoryarray\":[\"lin\",\"log\",\"exp\"]},\"yaxis7\":{\"anchor\":\"x7\",\"domain\":[0.0,1.0],\"matches\":\"y\",\"showticklabels\":false},\"xaxis8\":{\"anchor\":\"y8\",\"domain\":[0.7140000000000001,0.796],\"title\":{\"text\":\"topK\"}},\"yaxis8\":{\"anchor\":\"x8\",\"domain\":[0.0,1.0],\"matches\":\"y\",\"showticklabels\":false},\"xaxis9\":{\"anchor\":\"y9\",\"domain\":[0.8160000000000001,0.898],\"title\":{\"text\":\"tversky_alpha\"}},\"yaxis9\":{\"anchor\":\"x9\",\"domain\":[0.0,1.0],\"matches\":\"y\",\"showticklabels\":false},\"xaxis10\":{\"anchor\":\"y10\",\"domain\":[0.9179999999999999,0.9999999999999999],\"title\":{\"text\":\"tversky_beta\"}},\"yaxis10\":{\"anchor\":\"x10\",\"domain\":[0.0,1.0],\"matches\":\"y\",\"showticklabels\":false},\"title\":{\"text\":\"Slice Plot\"},\"width\":3000},                        {\"responsive\": true}                    ).then(function(){\n",
       "                            \n",
       "var gd = document.getElementById('a133b0d5-f4e2-42c5-a2fb-84237cb11366');\n",
       "var x = new MutationObserver(function (mutations, observer) {{\n",
       "        var display = window.getComputedStyle(gd).display;\n",
       "        if (!display || display === 'none') {{\n",
       "            console.log([gd, 'removed!']);\n",
       "            Plotly.purge(gd);\n",
       "            observer.disconnect();\n",
       "        }}\n",
       "}});\n",
       "\n",
       "// Listen for the removal of the full notebook cells\n",
       "var notebookContainer = gd.closest('#notebook-container');\n",
       "if (notebookContainer) {{\n",
       "    x.observe(notebookContainer, {childList: true});\n",
       "}}\n",
       "\n",
       "// Listen for the clearing of the current output cell\n",
       "var outputEl = gd.closest('.output');\n",
       "if (outputEl) {{\n",
       "    x.observe(outputEl, {childList: true});\n",
       "}}\n",
       "\n",
       "                        })                };                            </script>        </div>\n",
       "</body>\n",
       "</html>"
      ]
     },
     "metadata": {},
     "output_type": "display_data"
    }
   ],
   "source": [
    "if not config['tune_parameters']:\n",
    "    optuna_study = optuna.load_study(study_name=f'hyperparameters_tuning_{config[\"model\"]}_{config[\"metric\"]}', storage=f'sqlite:///{config[\"database_path\"]}')\n",
    "    \n",
    "fig = optuna.visualization.plot_slice(optuna_study)\n",
    "fig.show()"
   ]
  },
  {
   "cell_type": "code",
   "execution_count": 15,
   "id": "8cfb73e1",
   "metadata": {
    "execution": {
     "iopub.execute_input": "2025-01-07T11:04:47.627469Z",
     "iopub.status.busy": "2025-01-07T11:04:47.627073Z",
     "iopub.status.idle": "2025-01-07T11:05:09.532998Z",
     "shell.execute_reply": "2025-01-07T11:05:09.531846Z"
    },
    "papermill": {
     "duration": 22.066837,
     "end_time": "2025-01-07T11:05:09.534806",
     "exception": false,
     "start_time": "2025-01-07T11:04:47.467969",
     "status": "completed"
    },
    "tags": []
   },
   "outputs": [
    {
     "data": {
      "text/html": [
       "<html>\n",
       "<head><meta charset=\"utf-8\" /></head>\n",
       "<body>\n",
       "    <div>            <script src=\"https://cdnjs.cloudflare.com/ajax/libs/mathjax/2.7.5/MathJax.js?config=TeX-AMS-MML_SVG\"></script><script type=\"text/javascript\">if (window.MathJax && window.MathJax.Hub && window.MathJax.Hub.Config) {window.MathJax.Hub.Config({SVG: {font: \"STIX-Web\"}});}</script>                <script type=\"text/javascript\">window.PlotlyConfig = {MathJaxConfig: 'local'};</script>\n",
       "        <script charset=\"utf-8\" src=\"https://cdn.plot.ly/plotly-2.35.2.min.js\"></script>                <div id=\"34d82198-f73a-4df8-8d9c-4d4a4c4c7096\" class=\"plotly-graph-div\" style=\"height:525px; width:100%;\"></div>            <script type=\"text/javascript\">                                    window.PLOTLYENV=window.PLOTLYENV || {};                                    if (document.getElementById(\"34d82198-f73a-4df8-8d9c-4d4a4c4c7096\")) {                    Plotly.newPlot(                        \"34d82198-f73a-4df8-8d9c-4d4a4c4c7096\",                        [{\"cliponaxis\":false,\"hovertemplate\":[\"feature_weighting (CategoricalDistribution): 0.0458462558541249\\u003cextra\\u003e\\u003c\\u002fextra\\u003e\",\"topK (IntDistribution): 0.06701594886487841\\u003cextra\\u003e\\u003c\\u002fextra\\u003e\",\"shrink (IntDistribution): 0.09616087291420314\\u003cextra\\u003e\\u003c\\u002fextra\\u003e\",\"similarity (CategoricalDistribution): 0.7909769223667935\\u003cextra\\u003e\\u003c\\u002fextra\\u003e\"],\"name\":\"Objective Value\",\"orientation\":\"h\",\"text\":[\"0.05\",\"0.07\",\"0.10\",\"0.79\"],\"textposition\":\"outside\",\"x\":[0.0458462558541249,0.06701594886487841,0.09616087291420314,0.7909769223667935],\"y\":[\"feature_weighting\",\"topK\",\"shrink\",\"similarity\"],\"type\":\"bar\"}],                        {\"title\":{\"text\":\"Hyperparameter Importances\"},\"xaxis\":{\"title\":{\"text\":\"Hyperparameter Importance\"}},\"yaxis\":{\"title\":{\"text\":\"Hyperparameter\"}},\"template\":{\"data\":{\"histogram2dcontour\":[{\"type\":\"histogram2dcontour\",\"colorbar\":{\"outlinewidth\":0,\"ticks\":\"\"},\"colorscale\":[[0.0,\"#0d0887\"],[0.1111111111111111,\"#46039f\"],[0.2222222222222222,\"#7201a8\"],[0.3333333333333333,\"#9c179e\"],[0.4444444444444444,\"#bd3786\"],[0.5555555555555556,\"#d8576b\"],[0.6666666666666666,\"#ed7953\"],[0.7777777777777778,\"#fb9f3a\"],[0.8888888888888888,\"#fdca26\"],[1.0,\"#f0f921\"]]}],\"choropleth\":[{\"type\":\"choropleth\",\"colorbar\":{\"outlinewidth\":0,\"ticks\":\"\"}}],\"histogram2d\":[{\"type\":\"histogram2d\",\"colorbar\":{\"outlinewidth\":0,\"ticks\":\"\"},\"colorscale\":[[0.0,\"#0d0887\"],[0.1111111111111111,\"#46039f\"],[0.2222222222222222,\"#7201a8\"],[0.3333333333333333,\"#9c179e\"],[0.4444444444444444,\"#bd3786\"],[0.5555555555555556,\"#d8576b\"],[0.6666666666666666,\"#ed7953\"],[0.7777777777777778,\"#fb9f3a\"],[0.8888888888888888,\"#fdca26\"],[1.0,\"#f0f921\"]]}],\"heatmap\":[{\"type\":\"heatmap\",\"colorbar\":{\"outlinewidth\":0,\"ticks\":\"\"},\"colorscale\":[[0.0,\"#0d0887\"],[0.1111111111111111,\"#46039f\"],[0.2222222222222222,\"#7201a8\"],[0.3333333333333333,\"#9c179e\"],[0.4444444444444444,\"#bd3786\"],[0.5555555555555556,\"#d8576b\"],[0.6666666666666666,\"#ed7953\"],[0.7777777777777778,\"#fb9f3a\"],[0.8888888888888888,\"#fdca26\"],[1.0,\"#f0f921\"]]}],\"heatmapgl\":[{\"type\":\"heatmapgl\",\"colorbar\":{\"outlinewidth\":0,\"ticks\":\"\"},\"colorscale\":[[0.0,\"#0d0887\"],[0.1111111111111111,\"#46039f\"],[0.2222222222222222,\"#7201a8\"],[0.3333333333333333,\"#9c179e\"],[0.4444444444444444,\"#bd3786\"],[0.5555555555555556,\"#d8576b\"],[0.6666666666666666,\"#ed7953\"],[0.7777777777777778,\"#fb9f3a\"],[0.8888888888888888,\"#fdca26\"],[1.0,\"#f0f921\"]]}],\"contourcarpet\":[{\"type\":\"contourcarpet\",\"colorbar\":{\"outlinewidth\":0,\"ticks\":\"\"}}],\"contour\":[{\"type\":\"contour\",\"colorbar\":{\"outlinewidth\":0,\"ticks\":\"\"},\"colorscale\":[[0.0,\"#0d0887\"],[0.1111111111111111,\"#46039f\"],[0.2222222222222222,\"#7201a8\"],[0.3333333333333333,\"#9c179e\"],[0.4444444444444444,\"#bd3786\"],[0.5555555555555556,\"#d8576b\"],[0.6666666666666666,\"#ed7953\"],[0.7777777777777778,\"#fb9f3a\"],[0.8888888888888888,\"#fdca26\"],[1.0,\"#f0f921\"]]}],\"surface\":[{\"type\":\"surface\",\"colorbar\":{\"outlinewidth\":0,\"ticks\":\"\"},\"colorscale\":[[0.0,\"#0d0887\"],[0.1111111111111111,\"#46039f\"],[0.2222222222222222,\"#7201a8\"],[0.3333333333333333,\"#9c179e\"],[0.4444444444444444,\"#bd3786\"],[0.5555555555555556,\"#d8576b\"],[0.6666666666666666,\"#ed7953\"],[0.7777777777777778,\"#fb9f3a\"],[0.8888888888888888,\"#fdca26\"],[1.0,\"#f0f921\"]]}],\"mesh3d\":[{\"type\":\"mesh3d\",\"colorbar\":{\"outlinewidth\":0,\"ticks\":\"\"}}],\"scatter\":[{\"fillpattern\":{\"fillmode\":\"overlay\",\"size\":10,\"solidity\":0.2},\"type\":\"scatter\"}],\"parcoords\":[{\"type\":\"parcoords\",\"line\":{\"colorbar\":{\"outlinewidth\":0,\"ticks\":\"\"}}}],\"scatterpolargl\":[{\"type\":\"scatterpolargl\",\"marker\":{\"colorbar\":{\"outlinewidth\":0,\"ticks\":\"\"}}}],\"bar\":[{\"error_x\":{\"color\":\"#2a3f5f\"},\"error_y\":{\"color\":\"#2a3f5f\"},\"marker\":{\"line\":{\"color\":\"#E5ECF6\",\"width\":0.5},\"pattern\":{\"fillmode\":\"overlay\",\"size\":10,\"solidity\":0.2}},\"type\":\"bar\"}],\"scattergeo\":[{\"type\":\"scattergeo\",\"marker\":{\"colorbar\":{\"outlinewidth\":0,\"ticks\":\"\"}}}],\"scatterpolar\":[{\"type\":\"scatterpolar\",\"marker\":{\"colorbar\":{\"outlinewidth\":0,\"ticks\":\"\"}}}],\"histogram\":[{\"marker\":{\"pattern\":{\"fillmode\":\"overlay\",\"size\":10,\"solidity\":0.2}},\"type\":\"histogram\"}],\"scattergl\":[{\"type\":\"scattergl\",\"marker\":{\"colorbar\":{\"outlinewidth\":0,\"ticks\":\"\"}}}],\"scatter3d\":[{\"type\":\"scatter3d\",\"line\":{\"colorbar\":{\"outlinewidth\":0,\"ticks\":\"\"}},\"marker\":{\"colorbar\":{\"outlinewidth\":0,\"ticks\":\"\"}}}],\"scattermapbox\":[{\"type\":\"scattermapbox\",\"marker\":{\"colorbar\":{\"outlinewidth\":0,\"ticks\":\"\"}}}],\"scatterternary\":[{\"type\":\"scatterternary\",\"marker\":{\"colorbar\":{\"outlinewidth\":0,\"ticks\":\"\"}}}],\"scattercarpet\":[{\"type\":\"scattercarpet\",\"marker\":{\"colorbar\":{\"outlinewidth\":0,\"ticks\":\"\"}}}],\"carpet\":[{\"aaxis\":{\"endlinecolor\":\"#2a3f5f\",\"gridcolor\":\"white\",\"linecolor\":\"white\",\"minorgridcolor\":\"white\",\"startlinecolor\":\"#2a3f5f\"},\"baxis\":{\"endlinecolor\":\"#2a3f5f\",\"gridcolor\":\"white\",\"linecolor\":\"white\",\"minorgridcolor\":\"white\",\"startlinecolor\":\"#2a3f5f\"},\"type\":\"carpet\"}],\"table\":[{\"cells\":{\"fill\":{\"color\":\"#EBF0F8\"},\"line\":{\"color\":\"white\"}},\"header\":{\"fill\":{\"color\":\"#C8D4E3\"},\"line\":{\"color\":\"white\"}},\"type\":\"table\"}],\"barpolar\":[{\"marker\":{\"line\":{\"color\":\"#E5ECF6\",\"width\":0.5},\"pattern\":{\"fillmode\":\"overlay\",\"size\":10,\"solidity\":0.2}},\"type\":\"barpolar\"}],\"pie\":[{\"automargin\":true,\"type\":\"pie\"}]},\"layout\":{\"autotypenumbers\":\"strict\",\"colorway\":[\"#636efa\",\"#EF553B\",\"#00cc96\",\"#ab63fa\",\"#FFA15A\",\"#19d3f3\",\"#FF6692\",\"#B6E880\",\"#FF97FF\",\"#FECB52\"],\"font\":{\"color\":\"#2a3f5f\"},\"hovermode\":\"closest\",\"hoverlabel\":{\"align\":\"left\"},\"paper_bgcolor\":\"white\",\"plot_bgcolor\":\"#E5ECF6\",\"polar\":{\"bgcolor\":\"#E5ECF6\",\"angularaxis\":{\"gridcolor\":\"white\",\"linecolor\":\"white\",\"ticks\":\"\"},\"radialaxis\":{\"gridcolor\":\"white\",\"linecolor\":\"white\",\"ticks\":\"\"}},\"ternary\":{\"bgcolor\":\"#E5ECF6\",\"aaxis\":{\"gridcolor\":\"white\",\"linecolor\":\"white\",\"ticks\":\"\"},\"baxis\":{\"gridcolor\":\"white\",\"linecolor\":\"white\",\"ticks\":\"\"},\"caxis\":{\"gridcolor\":\"white\",\"linecolor\":\"white\",\"ticks\":\"\"}},\"coloraxis\":{\"colorbar\":{\"outlinewidth\":0,\"ticks\":\"\"}},\"colorscale\":{\"sequential\":[[0.0,\"#0d0887\"],[0.1111111111111111,\"#46039f\"],[0.2222222222222222,\"#7201a8\"],[0.3333333333333333,\"#9c179e\"],[0.4444444444444444,\"#bd3786\"],[0.5555555555555556,\"#d8576b\"],[0.6666666666666666,\"#ed7953\"],[0.7777777777777778,\"#fb9f3a\"],[0.8888888888888888,\"#fdca26\"],[1.0,\"#f0f921\"]],\"sequentialminus\":[[0.0,\"#0d0887\"],[0.1111111111111111,\"#46039f\"],[0.2222222222222222,\"#7201a8\"],[0.3333333333333333,\"#9c179e\"],[0.4444444444444444,\"#bd3786\"],[0.5555555555555556,\"#d8576b\"],[0.6666666666666666,\"#ed7953\"],[0.7777777777777778,\"#fb9f3a\"],[0.8888888888888888,\"#fdca26\"],[1.0,\"#f0f921\"]],\"diverging\":[[0,\"#8e0152\"],[0.1,\"#c51b7d\"],[0.2,\"#de77ae\"],[0.3,\"#f1b6da\"],[0.4,\"#fde0ef\"],[0.5,\"#f7f7f7\"],[0.6,\"#e6f5d0\"],[0.7,\"#b8e186\"],[0.8,\"#7fbc41\"],[0.9,\"#4d9221\"],[1,\"#276419\"]]},\"xaxis\":{\"gridcolor\":\"white\",\"linecolor\":\"white\",\"ticks\":\"\",\"title\":{\"standoff\":15},\"zerolinecolor\":\"white\",\"automargin\":true,\"zerolinewidth\":2},\"yaxis\":{\"gridcolor\":\"white\",\"linecolor\":\"white\",\"ticks\":\"\",\"title\":{\"standoff\":15},\"zerolinecolor\":\"white\",\"automargin\":true,\"zerolinewidth\":2},\"scene\":{\"xaxis\":{\"backgroundcolor\":\"#E5ECF6\",\"gridcolor\":\"white\",\"linecolor\":\"white\",\"showbackground\":true,\"ticks\":\"\",\"zerolinecolor\":\"white\",\"gridwidth\":2},\"yaxis\":{\"backgroundcolor\":\"#E5ECF6\",\"gridcolor\":\"white\",\"linecolor\":\"white\",\"showbackground\":true,\"ticks\":\"\",\"zerolinecolor\":\"white\",\"gridwidth\":2},\"zaxis\":{\"backgroundcolor\":\"#E5ECF6\",\"gridcolor\":\"white\",\"linecolor\":\"white\",\"showbackground\":true,\"ticks\":\"\",\"zerolinecolor\":\"white\",\"gridwidth\":2}},\"shapedefaults\":{\"line\":{\"color\":\"#2a3f5f\"}},\"annotationdefaults\":{\"arrowcolor\":\"#2a3f5f\",\"arrowhead\":0,\"arrowwidth\":1},\"geo\":{\"bgcolor\":\"white\",\"landcolor\":\"#E5ECF6\",\"subunitcolor\":\"white\",\"showland\":true,\"showlakes\":true,\"lakecolor\":\"white\"},\"title\":{\"x\":0.05},\"mapbox\":{\"style\":\"light\"}}}},                        {\"responsive\": true}                    ).then(function(){\n",
       "                            \n",
       "var gd = document.getElementById('34d82198-f73a-4df8-8d9c-4d4a4c4c7096');\n",
       "var x = new MutationObserver(function (mutations, observer) {{\n",
       "        var display = window.getComputedStyle(gd).display;\n",
       "        if (!display || display === 'none') {{\n",
       "            console.log([gd, 'removed!']);\n",
       "            Plotly.purge(gd);\n",
       "            observer.disconnect();\n",
       "        }}\n",
       "}});\n",
       "\n",
       "// Listen for the removal of the full notebook cells\n",
       "var notebookContainer = gd.closest('#notebook-container');\n",
       "if (notebookContainer) {{\n",
       "    x.observe(notebookContainer, {childList: true});\n",
       "}}\n",
       "\n",
       "// Listen for the clearing of the current output cell\n",
       "var outputEl = gd.closest('.output');\n",
       "if (outputEl) {{\n",
       "    x.observe(outputEl, {childList: true});\n",
       "}}\n",
       "\n",
       "                        })                };                            </script>        </div>\n",
       "</body>\n",
       "</html>"
      ]
     },
     "metadata": {},
     "output_type": "display_data"
    }
   ],
   "source": [
    "if not config['tune_parameters']:\n",
    "    optuna_study = optuna.load_study(study_name=f'hyperparameters_tuning_{config[\"model\"]}_{config[\"metric\"]}', storage=f'sqlite:///{config[\"database_path\"]}')\n",
    "    \n",
    "fig = optuna.visualization.plot_param_importances(optuna_study)\n",
    "fig.show()"
   ]
  },
  {
   "cell_type": "markdown",
   "id": "428bd955",
   "metadata": {
    "papermill": {
     "duration": 0.167324,
     "end_time": "2025-01-07T11:05:09.873958",
     "exception": false,
     "start_time": "2025-01-07T11:05:09.706634",
     "status": "completed"
    },
    "tags": []
   },
   "source": [
    "## Let's train the recommender with best parameter values"
   ]
  },
  {
   "cell_type": "code",
   "execution_count": 16,
   "id": "1a19adeb",
   "metadata": {
    "execution": {
     "iopub.execute_input": "2025-01-07T11:05:10.199624Z",
     "iopub.status.busy": "2025-01-07T11:05:10.199214Z",
     "iopub.status.idle": "2025-01-07T11:05:26.106763Z",
     "shell.execute_reply": "2025-01-07T11:05:26.105477Z"
    },
    "papermill": {
     "duration": 16.072518,
     "end_time": "2025-01-07T11:05:26.108831",
     "exception": false,
     "start_time": "2025-01-07T11:05:10.036313",
     "status": "completed"
    },
    "tags": []
   },
   "outputs": [
    {
     "name": "stdout",
     "output_type": "stream",
     "text": [
      "Similarity column 38121 (100.0%), 2457.88 column/sec. Elapsed time 15.51 sec\n"
     ]
    }
   ],
   "source": [
    "if config['tune_best_params']:\n",
    "\n",
    "    if config['tune_parameters']:\n",
    "        best_params = optuna_study.best_trial.params\n",
    "    else: \n",
    "        with open(f'{K_PATH}/{GH_PATH}/{config[\"model\"]}Recommender/Optimizing{config[\"metric\"]}/best_params_{config[\"model\"]}_{config[\"metric\"]}.json', 'r') as best_params_json:\n",
    "            best_params = json.load(best_params_json)\n",
    "\n",
    "    recommender_instance = ItemKNNCFRecommender(URM_train + URM_validation)\n",
    "    recommender_instance.fit(**best_params)"
   ]
  },
  {
   "cell_type": "markdown",
   "id": "e8d14504",
   "metadata": {
    "papermill": {
     "duration": 0.161669,
     "end_time": "2025-01-07T11:05:26.435765",
     "exception": false,
     "start_time": "2025-01-07T11:05:26.274096",
     "status": "completed"
    },
    "tags": []
   },
   "source": [
    "# Testing"
   ]
  },
  {
   "cell_type": "markdown",
   "id": "89a0ac41",
   "metadata": {
    "papermill": {
     "duration": 0.160173,
     "end_time": "2025-01-07T11:05:26.759831",
     "exception": false,
     "start_time": "2025-01-07T11:05:26.599658",
     "status": "completed"
    },
    "tags": []
   },
   "source": [
    "Create the recommendations for the submission. "
   ]
  },
  {
   "cell_type": "code",
   "execution_count": 17,
   "id": "4ac2a132",
   "metadata": {
    "execution": {
     "iopub.execute_input": "2025-01-07T11:05:27.121240Z",
     "iopub.status.busy": "2025-01-07T11:05:27.120783Z",
     "iopub.status.idle": "2025-01-07T11:06:01.588535Z",
     "shell.execute_reply": "2025-01-07T11:06:01.583044Z"
    },
    "papermill": {
     "duration": 34.973286,
     "end_time": "2025-01-07T11:06:01.910735",
     "exception": false,
     "start_time": "2025-01-07T11:05:26.937449",
     "status": "completed"
    },
    "tags": []
   },
   "outputs": [
    {
     "name": "stdout",
     "output_type": "stream",
     "text": [
      "Submission file saved as /kaggle/working/submission_ItemKNNCF_Recall.csv\n"
     ]
    }
   ],
   "source": [
    "if config['tune_best_params']:\n",
    "\n",
    "    data_target_users_test = pd.read_csv('/kaggle/input/recommender-system-2024-challenge-polimi/data_target_users_test.csv')\n",
    "    create_submission(data_target_users_test, recommender_instance, f'/kaggle/working/submission_{config[\"model\"]}_{config[\"metric\"]}.csv')"
   ]
  },
  {
   "cell_type": "markdown",
   "id": "eff4464a",
   "metadata": {
    "execution": {
     "iopub.execute_input": "2024-11-14T00:04:16.877791Z",
     "iopub.status.busy": "2024-11-14T00:04:16.877275Z",
     "iopub.status.idle": "2024-11-14T00:04:16.883170Z",
     "shell.execute_reply": "2024-11-14T00:04:16.881889Z",
     "shell.execute_reply.started": "2024-11-14T00:04:16.877743Z"
    },
    "papermill": {
     "duration": 0.278207,
     "end_time": "2025-01-07T11:06:02.451255",
     "exception": false,
     "start_time": "2025-01-07T11:06:02.173048",
     "status": "completed"
    },
    "tags": []
   },
   "source": [
    "# Save Version on GitHub "
   ]
  },
  {
   "cell_type": "markdown",
   "id": "6be04c90",
   "metadata": {
    "papermill": {
     "duration": 0.262172,
     "end_time": "2025-01-07T11:06:03.019663",
     "exception": false,
     "start_time": "2025-01-07T11:06:02.757491",
     "status": "completed"
    },
    "tags": []
   },
   "source": [
    "Write or import a json file where best hyperparameters are saved. "
   ]
  },
  {
   "cell_type": "code",
   "execution_count": 18,
   "id": "e23428cc",
   "metadata": {
    "execution": {
     "iopub.execute_input": "2025-01-07T11:06:03.569873Z",
     "iopub.status.busy": "2025-01-07T11:06:03.569270Z",
     "iopub.status.idle": "2025-01-07T11:06:04.797790Z",
     "shell.execute_reply": "2025-01-07T11:06:04.796297Z"
    },
    "papermill": {
     "duration": 1.508831,
     "end_time": "2025-01-07T11:06:04.800199",
     "exception": false,
     "start_time": "2025-01-07T11:06:03.291368",
     "status": "completed"
    },
    "tags": []
   },
   "outputs": [
    {
     "name": "stdout",
     "output_type": "stream",
     "text": [
      "File 'TrainedModels/WithKFCV/KNN/ItemKNNCFRecommender/OptimizingRecall/best_params_ItemKNNCF_Recall.json' updated successfully.\n"
     ]
    }
   ],
   "source": [
    "if config['tune_parameters']:\n",
    "    with open(f'/kaggle/working/best_params_{config[\"model\"]}_{config[\"metric\"]}.json', 'w') as params_file:\n",
    "        json.dump(optuna_study.best_params, params_file)\n",
    "        \n",
    "    if config['save_github']:\n",
    "        upload_file(\n",
    "            f'/kaggle/working/best_params_{config[\"model\"]}_{config[\"metric\"]}.json', \n",
    "            f'{GH_PATH}/{config[\"model\"]}Recommender/Optimizing{config[\"metric\"]}/best_params_{config[\"model\"]}_{config[\"metric\"]}.json', \n",
    "            f'{config[\"model\"]}_{config[\"metric\"]} tuning results (from kaggle notebook)',\n",
    "            repo\n",
    "        )\n",
    "elif config['copy_prev_best_params']:\n",
    "    shutil.copyfile(\n",
    "        f'{K_PATH}/{GH_PATH}/{config[\"model\"]}Recommender/Optimizing{config[\"metric\"]}/'\\\n",
    "        f'best_params_{config[\"model\"]}_{config[\"metric\"]}.json', \n",
    "        f'/kaggle/working/best_params_{config[\"model\"]}_{config[\"metric\"]}.json'\n",
    "    )"
   ]
  },
  {
   "cell_type": "markdown",
   "id": "d4014bae",
   "metadata": {
    "papermill": {
     "duration": 0.203133,
     "end_time": "2025-01-07T11:06:05.223566",
     "exception": false,
     "start_time": "2025-01-07T11:06:05.020433",
     "status": "completed"
    },
    "tags": []
   },
   "source": [
    "Save the history of the tuned model."
   ]
  },
  {
   "cell_type": "code",
   "execution_count": 19,
   "id": "dcd8f418",
   "metadata": {
    "execution": {
     "iopub.execute_input": "2025-01-07T11:06:05.695339Z",
     "iopub.status.busy": "2025-01-07T11:06:05.694947Z",
     "iopub.status.idle": "2025-01-07T11:06:08.238357Z",
     "shell.execute_reply": "2025-01-07T11:06:08.237009Z"
    },
    "papermill": {
     "duration": 2.793537,
     "end_time": "2025-01-07T11:06:08.240332",
     "exception": false,
     "start_time": "2025-01-07T11:06:05.446795",
     "status": "completed"
    },
    "tags": []
   },
   "outputs": [
    {
     "name": "stdout",
     "output_type": "stream",
     "text": [
      "File 'TrainedModels/WithKFCV/KNN/ItemKNNCFRecommender/OptimizingRecall/history_ItemKNNCF_Recall.db' updated successfully.\n"
     ]
    }
   ],
   "source": [
    "if config['save_github'] and config['tune_parameters']:\n",
    "    upload_file(\n",
    "        config['database_path'], \n",
    "        f'{GH_PATH}/{config[\"model\"]}Recommender/Optimizing{config[\"metric\"]}/history_{config[\"model\"]}_{config[\"metric\"]}.db',\n",
    "        f'Tuning {config[\"model\"]}_{config[\"metric\"]} db updated results (from kaggle notebook)',\n",
    "        repo\n",
    "    )"
   ]
  },
  {
   "cell_type": "markdown",
   "id": "166eaddc",
   "metadata": {
    "execution": {
     "iopub.execute_input": "2024-11-14T00:41:34.294243Z",
     "iopub.status.busy": "2024-11-14T00:41:34.293739Z",
     "iopub.status.idle": "2024-11-14T00:41:34.301478Z",
     "shell.execute_reply": "2024-11-14T00:41:34.299869Z",
     "shell.execute_reply.started": "2024-11-14T00:41:34.294186Z"
    },
    "papermill": {
     "duration": 0.204984,
     "end_time": "2025-01-07T11:06:08.669067",
     "exception": false,
     "start_time": "2025-01-07T11:06:08.464083",
     "status": "completed"
    },
    "tags": []
   },
   "source": [
    "Save the best trained model and its submission."
   ]
  },
  {
   "cell_type": "code",
   "execution_count": 20,
   "id": "656b9cf9",
   "metadata": {
    "execution": {
     "iopub.execute_input": "2025-01-07T11:06:09.274181Z",
     "iopub.status.busy": "2025-01-07T11:06:09.273731Z",
     "iopub.status.idle": "2025-01-07T11:06:11.599133Z",
     "shell.execute_reply": "2025-01-07T11:06:11.597448Z"
    },
    "papermill": {
     "duration": 2.511727,
     "end_time": "2025-01-07T11:06:11.601699",
     "exception": false,
     "start_time": "2025-01-07T11:06:09.089972",
     "status": "completed"
    },
    "tags": []
   },
   "outputs": [
    {
     "name": "stdout",
     "output_type": "stream",
     "text": [
      "File 'TrainedModels/WithKFCV/KNN/ItemKNNCFRecommender/OptimizingRecall/Submission/submission_ItemKNNCF_Recall.csv' updated successfully.\n"
     ]
    }
   ],
   "source": [
    "if config['save_github'] and config['tune_best_params']: \n",
    "    upload_file(\n",
    "                f'/kaggle/working/submission_{config[\"model\"]}_{config[\"metric\"]}.csv', \n",
    "                f'{GH_PATH}/{config[\"model\"]}Recommender/Optimizing{config[\"metric\"]}/Submission/submission_{config[\"model\"]}_{config[\"metric\"]}.csv', \n",
    "                f'New {config[\"model\"]}_{config[\"metric\"]} submission (from kaggle notebook)',\n",
    "                repo\n",
    "            )"
   ]
  }
 ],
 "metadata": {
  "kaggle": {
   "accelerator": "none",
   "dataSources": [
    {
     "databundleVersionId": 9982103,
     "sourceId": 87439,
     "sourceType": "competition"
    }
   ],
   "dockerImageVersionId": 30822,
   "isGpuEnabled": false,
   "isInternetEnabled": true,
   "language": "python",
   "sourceType": "notebook"
  },
  "kernelspec": {
   "display_name": "Python 3",
   "language": "python",
   "name": "python3"
  },
  "language_info": {
   "codemirror_mode": {
    "name": "ipython",
    "version": 3
   },
   "file_extension": ".py",
   "mimetype": "text/x-python",
   "name": "python",
   "nbconvert_exporter": "python",
   "pygments_lexer": "ipython3",
   "version": "3.10.12"
  },
  "papermill": {
   "default_parameters": {},
   "duration": 42664.737395,
   "end_time": "2025-01-07T11:06:13.260429",
   "environment_variables": {},
   "exception": null,
   "input_path": "__notebook__.ipynb",
   "output_path": "__notebook__.ipynb",
   "parameters": {},
   "start_time": "2025-01-06T23:15:08.523034",
   "version": "2.6.0"
  }
 },
 "nbformat": 4,
 "nbformat_minor": 5
}
