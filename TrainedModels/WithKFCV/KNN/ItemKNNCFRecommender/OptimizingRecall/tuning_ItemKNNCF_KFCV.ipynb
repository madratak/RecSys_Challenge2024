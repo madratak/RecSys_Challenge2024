{
 "cells": [
  {
   "cell_type": "markdown",
   "id": "0bdb2816",
   "metadata": {
    "papermill": {
     "duration": 0.007037,
     "end_time": "2025-01-05T10:35:30.221848",
     "exception": false,
     "start_time": "2025-01-05T10:35:30.214811",
     "status": "completed"
    },
    "tags": []
   },
   "source": [
    "# Set connection with GitHub"
   ]
  },
  {
   "cell_type": "code",
   "execution_count": 1,
   "id": "8f54435f",
   "metadata": {
    "execution": {
     "iopub.execute_input": "2025-01-05T10:35:30.234595Z",
     "iopub.status.busy": "2025-01-05T10:35:30.234206Z",
     "iopub.status.idle": "2025-01-05T10:35:30.239188Z",
     "shell.execute_reply": "2025-01-05T10:35:30.238205Z"
    },
    "papermill": {
     "duration": 0.012971,
     "end_time": "2025-01-05T10:35:30.240812",
     "exception": false,
     "start_time": "2025-01-05T10:35:30.227841",
     "status": "completed"
    },
    "tags": []
   },
   "outputs": [],
   "source": [
    "# ! cd /kaggle/working && rm -rf RECsys_Challenge2024"
   ]
  },
  {
   "cell_type": "code",
   "execution_count": 2,
   "id": "3f352316",
   "metadata": {
    "_cell_guid": "b1076dfc-b9ad-4769-8c92-a6c4dae69d19",
    "_uuid": "8f2839f25d086af736a60e9eeb907d3b93b6e0e5",
    "execution": {
     "iopub.execute_input": "2025-01-05T10:35:30.252594Z",
     "iopub.status.busy": "2025-01-05T10:35:30.252245Z",
     "iopub.status.idle": "2025-01-05T10:35:44.635536Z",
     "shell.execute_reply": "2025-01-05T10:35:44.634542Z"
    },
    "papermill": {
     "duration": 14.391312,
     "end_time": "2025-01-05T10:35:44.637401",
     "exception": false,
     "start_time": "2025-01-05T10:35:30.246089",
     "status": "completed"
    },
    "tags": []
   },
   "outputs": [
    {
     "name": "stdout",
     "output_type": "stream",
     "text": [
      "Cloning into 'RECsys_Challenge2024'...\r\n",
      "remote: Enumerating objects: 6172, done.\u001b[K\r\n",
      "remote: Counting objects: 100% (83/83), done.\u001b[K\r\n",
      "remote: Compressing objects: 100% (69/69), done.\u001b[K\r\n",
      "remote: Total 6172 (delta 23), reused 13 (delta 4), pack-reused 6089 (from 4)\u001b[K\r\n",
      "Receiving objects: 100% (6172/6172), 398.57 MiB | 38.98 MiB/s, done.\r\n",
      "Resolving deltas: 100% (3403/3403), done.\r\n",
      "Updating files: 100% (486/486), done.\r\n"
     ]
    }
   ],
   "source": [
    "from kaggle_secrets import UserSecretsClient\n",
    "\n",
    "token = UserSecretsClient().get_secret(\"Token\")\n",
    "\n",
    "! git clone https://{token}@github.com/madratak/RECsys_Challenge2024.git"
   ]
  },
  {
   "cell_type": "code",
   "execution_count": 3,
   "id": "9294dbd9",
   "metadata": {
    "execution": {
     "iopub.execute_input": "2025-01-05T10:35:44.658640Z",
     "iopub.status.busy": "2025-01-05T10:35:44.658290Z",
     "iopub.status.idle": "2025-01-05T10:35:51.209748Z",
     "shell.execute_reply": "2025-01-05T10:35:51.208451Z"
    },
    "papermill": {
     "duration": 6.564238,
     "end_time": "2025-01-05T10:35:51.211864",
     "exception": false,
     "start_time": "2025-01-05T10:35:44.647626",
     "status": "completed"
    },
    "tags": []
   },
   "outputs": [
    {
     "name": "stdout",
     "output_type": "stream",
     "text": [
      "Collecting PyGithub\r\n",
      "  Downloading PyGithub-2.5.0-py3-none-any.whl.metadata (3.9 kB)\r\n",
      "Requirement already satisfied: requests in /usr/local/lib/python3.10/dist-packages (2.32.3)\r\n",
      "Collecting pynacl>=1.4.0 (from PyGithub)\r\n",
      "  Downloading PyNaCl-1.5.0-cp36-abi3-manylinux_2_17_x86_64.manylinux2014_x86_64.manylinux_2_24_x86_64.whl.metadata (8.6 kB)\r\n",
      "Requirement already satisfied: pyjwt>=2.4.0 in /usr/local/lib/python3.10/dist-packages (from pyjwt[crypto]>=2.4.0->PyGithub) (2.9.0)\r\n",
      "Requirement already satisfied: typing-extensions>=4.0.0 in /usr/local/lib/python3.10/dist-packages (from PyGithub) (4.12.2)\r\n",
      "Requirement already satisfied: urllib3>=1.26.0 in /usr/local/lib/python3.10/dist-packages (from PyGithub) (2.2.3)\r\n",
      "Requirement already satisfied: Deprecated in /usr/local/lib/python3.10/dist-packages (from PyGithub) (1.2.15)\r\n",
      "Requirement already satisfied: charset-normalizer<4,>=2 in /usr/local/lib/python3.10/dist-packages (from requests) (3.3.2)\r\n",
      "Requirement already satisfied: idna<4,>=2.5 in /usr/local/lib/python3.10/dist-packages (from requests) (3.10)\r\n",
      "Requirement already satisfied: certifi>=2017.4.17 in /usr/local/lib/python3.10/dist-packages (from requests) (2024.8.30)\r\n",
      "Requirement already satisfied: cryptography>=3.4.0 in /usr/local/lib/python3.10/dist-packages (from pyjwt[crypto]>=2.4.0->PyGithub) (43.0.1)\r\n",
      "Requirement already satisfied: cffi>=1.4.1 in /usr/local/lib/python3.10/dist-packages (from pynacl>=1.4.0->PyGithub) (1.17.1)\r\n",
      "Requirement already satisfied: wrapt<2,>=1.10 in /usr/local/lib/python3.10/dist-packages (from Deprecated->PyGithub) (1.16.0)\r\n",
      "Requirement already satisfied: pycparser in /usr/local/lib/python3.10/dist-packages (from cffi>=1.4.1->pynacl>=1.4.0->PyGithub) (2.22)\r\n",
      "Downloading PyGithub-2.5.0-py3-none-any.whl (375 kB)\r\n",
      "\u001b[2K   \u001b[90m━━━━━━━━━━━━━━━━━━━━━━━━━━━━━━━━━━━━━━━━\u001b[0m \u001b[32m375.9/375.9 kB\u001b[0m \u001b[31m7.0 MB/s\u001b[0m eta \u001b[36m0:00:00\u001b[0m\r\n",
      "\u001b[?25hDownloading PyNaCl-1.5.0-cp36-abi3-manylinux_2_17_x86_64.manylinux2014_x86_64.manylinux_2_24_x86_64.whl (856 kB)\r\n",
      "\u001b[2K   \u001b[90m━━━━━━━━━━━━━━━━━━━━━━━━━━━━━━━━━━━━━━━━\u001b[0m \u001b[32m856.7/856.7 kB\u001b[0m \u001b[31m27.3 MB/s\u001b[0m eta \u001b[36m0:00:00\u001b[0m\r\n",
      "\u001b[?25hInstalling collected packages: pynacl, PyGithub\r\n",
      "Successfully installed PyGithub-2.5.0 pynacl-1.5.0\r\n"
     ]
    }
   ],
   "source": [
    "! pip install PyGithub requests"
   ]
  },
  {
   "cell_type": "code",
   "execution_count": 4,
   "id": "f016da39",
   "metadata": {
    "_kg_hide-input": false,
    "execution": {
     "iopub.execute_input": "2025-01-05T10:35:51.234106Z",
     "iopub.status.busy": "2025-01-05T10:35:51.233760Z",
     "iopub.status.idle": "2025-01-05T10:38:22.540967Z",
     "shell.execute_reply": "2025-01-05T10:38:22.539730Z"
    },
    "papermill": {
     "duration": 151.320441,
     "end_time": "2025-01-05T10:38:22.542940",
     "exception": false,
     "start_time": "2025-01-05T10:35:51.222499",
     "status": "completed"
    },
    "tags": []
   },
   "outputs": [
    {
     "name": "stdout",
     "output_type": "stream",
     "text": [
      "/kaggle/working/RECsys_Challenge2024\n",
      "run_compile_all_cython: Found 11 Cython files in 5 folders...\r\n",
      "run_compile_all_cython: All files will be compiled using your current python environment: '/usr/bin/python3'\r\n",
      "Compiling [1/11]: MatrixFactorization_Cython_Epoch.pyx... \r\n",
      "In file included from \u001b[01m\u001b[K/usr/local/lib/python3.10/dist-packages/numpy/core/include/numpy/ndarraytypes.h:1929\u001b[m\u001b[K,\r\n",
      "                 from \u001b[01m\u001b[K/usr/local/lib/python3.10/dist-packages/numpy/core/include/numpy/ndarrayobject.h:12\u001b[m\u001b[K,\r\n",
      "                 from \u001b[01m\u001b[K/usr/local/lib/python3.10/dist-packages/numpy/core/include/numpy/arrayobject.h:5\u001b[m\u001b[K,\r\n",
      "                 from \u001b[01m\u001b[KMatrixFactorization_Cython_Epoch.c:1252\u001b[m\u001b[K:\r\n",
      "\u001b[01m\u001b[K/usr/local/lib/python3.10/dist-packages/numpy/core/include/numpy/npy_1_7_deprecated_api.h:17:2:\u001b[m\u001b[K \u001b[01;35m\u001b[Kwarning: \u001b[m\u001b[K#warning \"Using deprecated NumPy API, disable it with \" \"#define NPY_NO_DEPRECATED_API NPY_1_7_API_VERSION\" [\u001b[01;35m\u001b[K\u001b]8;;https://gcc.gnu.org/onlinedocs/gcc/Warning-Options.html#index-Wcpp\u0007-Wcpp\u001b]8;;\u0007\u001b[m\u001b[K]\r\n",
      "   17 | #\u001b[01;35m\u001b[Kwarning\u001b[m\u001b[K \"Using deprecated NumPy API, disable it with \" \\\r\n",
      "      |  \u001b[01;35m\u001b[K^~~~~~~\u001b[m\u001b[K\r\n",
      "\u001b[01m\u001b[KMatrixFactorization_Cython_Epoch.c:\u001b[m\u001b[K In function ‘\u001b[01m\u001b[K__pyx_pf_32MatrixFactorization_Cython_Epoch_32MatrixFactorization_Cython_Epoch_10epochIteration_Cython_ASY_SVD_SGD\u001b[m\u001b[K’:\r\n",
      "\u001b[01m\u001b[KMatrixFactorization_Cython_Epoch.c:26256:68:\u001b[m\u001b[K \u001b[01;35m\u001b[Kwarning: \u001b[m\u001b[K‘\u001b[01m\u001b[K__pyx_v_end_pos_seen_items\u001b[m\u001b[K’ may be used uninitialized in this function [\u001b[01;35m\u001b[K\u001b]8;;https://gcc.gnu.org/onlinedocs/gcc/Warning-Options.html#index-Wmaybe-uninitialized\u0007-Wmaybe-uninitialized\u001b]8;;\u0007\u001b[m\u001b[K]\r\n",
      "26256 |         for (__pyx_t_22 = __pyx_v_start_pos_seen_items; \u001b[01;35m\u001b[K__pyx_t_22 < __pyx_t_21\u001b[m\u001b[K; __pyx_t_22+=1) {\r\n",
      "      |                                                         \u001b[01;35m\u001b[K~~~~~~~~~~~^~~~~~~~~~~~\u001b[m\u001b[K\r\n",
      "\u001b[01m\u001b[KMatrixFactorization_Cython_Epoch.c:26256:68:\u001b[m\u001b[K \u001b[01;35m\u001b[Kwarning: \u001b[m\u001b[K‘\u001b[01m\u001b[K__pyx_v_start_pos_seen_items\u001b[m\u001b[K’ may be used uninitialized in this function [\u001b[01;35m\u001b[K\u001b]8;;https://gcc.gnu.org/onlinedocs/gcc/Warning-Options.html#index-Wmaybe-uninitialized\u0007-Wmaybe-uninitialized\u001b]8;;\u0007\u001b[m\u001b[K]\r\n",
      "/usr/local/lib/python3.10/dist-packages/Cython/Compiler/Main.py:381: FutureWarning: Cython directive 'language_level' not set, using '3str' for now (Py3). This has changed from earlier releases! File: /kaggle/working/RECsys_Challenge2024/Recommenders/MatrixFactorization/Cython/MatrixFactorization_Cython_Epoch.pyx\r\n",
      "  tree = Parsing.p_module(s, pxd, full_module_name)\r\n",
      "Compiling [1/11]: MatrixFactorization_Cython_Epoch.pyx... PASS\r\n",
      "\r\n",
      "Compiling [2/11]: MatrixFactorizationImpressions_Cython_Epoch.pyx... \r\n",
      "In file included from \u001b[01m\u001b[K/usr/local/lib/python3.10/dist-packages/numpy/core/include/numpy/ndarraytypes.h:1929\u001b[m\u001b[K,\r\n",
      "                 from \u001b[01m\u001b[K/usr/local/lib/python3.10/dist-packages/numpy/core/include/numpy/ndarrayobject.h:12\u001b[m\u001b[K,\r\n",
      "                 from \u001b[01m\u001b[K/usr/local/lib/python3.10/dist-packages/numpy/core/include/numpy/arrayobject.h:5\u001b[m\u001b[K,\r\n",
      "                 from \u001b[01m\u001b[KMatrixFactorizationImpressions_Cython_Epoch.c:1252\u001b[m\u001b[K:\r\n",
      "\u001b[01m\u001b[K/usr/local/lib/python3.10/dist-packages/numpy/core/include/numpy/npy_1_7_deprecated_api.h:17:2:\u001b[m\u001b[K \u001b[01;35m\u001b[Kwarning: \u001b[m\u001b[K#warning \"Using deprecated NumPy API, disable it with \" \"#define NPY_NO_DEPRECATED_API NPY_1_7_API_VERSION\" [\u001b[01;35m\u001b[K\u001b]8;;https://gcc.gnu.org/onlinedocs/gcc/Warning-Options.html#index-Wcpp\u0007-Wcpp\u001b]8;;\u0007\u001b[m\u001b[K]\r\n",
      "   17 | #\u001b[01;35m\u001b[Kwarning\u001b[m\u001b[K \"Using deprecated NumPy API, disable it with \" \\\r\n",
      "      |  \u001b[01;35m\u001b[K^~~~~~~\u001b[m\u001b[K\r\n",
      "\u001b[01m\u001b[KMatrixFactorizationImpressions_Cython_Epoch.c:\u001b[m\u001b[K In function ‘\u001b[01m\u001b[K__pyx_f_43MatrixFactorizationImpressions_Cython_Epoch_32MatrixFactorization_Cython_Epoch_sampleBPR_Cython\u001b[m\u001b[K’:\r\n",
      "\u001b[01m\u001b[KMatrixFactorizationImpressions_Cython_Epoch.c:30353:17:\u001b[m\u001b[K \u001b[01;35m\u001b[Kwarning: \u001b[m\u001b[K‘\u001b[01m\u001b[K__pyx_v_start_pos_impression_items\u001b[m\u001b[K’ may be used uninitialized in this function [\u001b[01;35m\u001b[K\u001b]8;;https://gcc.gnu.org/onlinedocs/gcc/Warning-Options.html#index-Wmaybe-uninitialized\u0007-Wmaybe-uninitialized\u001b]8;;\u0007\u001b[m\u001b[K]\r\n",
      "30353 |       \u001b[01;35m\u001b[K__pyx_t_4 = (__pyx_v_start_pos_impression_items + __pyx_v_index)\u001b[m\u001b[K;\r\n",
      "      |       \u001b[01;35m\u001b[K~~~~~~~~~~^~~~~~~~~~~~~~~~~~~~~~~~~~~~~~~~~~~~~~~~~~~~~~~~~~~~~~\u001b[m\u001b[K\r\n",
      "\u001b[01m\u001b[KMatrixFactorizationImpressions_Cython_Epoch.c:\u001b[m\u001b[K In function ‘\u001b[01m\u001b[K__pyx_pf_43MatrixFactorizationImpressions_Cython_Epoch_32MatrixFactorization_Cython_Epoch_10epochIteration_Cython_ASY_SVD_SGD\u001b[m\u001b[K’:\r\n",
      "\u001b[01m\u001b[KMatrixFactorizationImpressions_Cython_Epoch.c:26112:66:\u001b[m\u001b[K \u001b[01;35m\u001b[Kwarning: \u001b[m\u001b[K‘\u001b[01m\u001b[K__pyx_v_end_pos_seen_items\u001b[m\u001b[K’ may be used uninitialized in this function [\u001b[01;35m\u001b[K\u001b]8;;https://gcc.gnu.org/onlinedocs/gcc/Warning-Options.html#index-Wmaybe-uninitialized\u0007-Wmaybe-uninitialized\u001b]8;;\u0007\u001b[m\u001b[K]\r\n",
      "26112 |       for (__pyx_t_22 = __pyx_v_start_pos_seen_items; \u001b[01;35m\u001b[K__pyx_t_22 < __pyx_t_21\u001b[m\u001b[K; __pyx_t_22+=1) {\r\n",
      "      |                                                       \u001b[01;35m\u001b[K~~~~~~~~~~~^~~~~~~~~~~~\u001b[m\u001b[K\r\n",
      "\u001b[01m\u001b[KMatrixFactorizationImpressions_Cython_Epoch.c:26112:66:\u001b[m\u001b[K \u001b[01;35m\u001b[Kwarning: \u001b[m\u001b[K‘\u001b[01m\u001b[K__pyx_v_start_pos_seen_items\u001b[m\u001b[K’ may be used uninitialized in this function [\u001b[01;35m\u001b[K\u001b]8;;https://gcc.gnu.org/onlinedocs/gcc/Warning-Options.html#index-Wmaybe-uninitialized\u0007-Wmaybe-uninitialized\u001b]8;;\u0007\u001b[m\u001b[K]\r\n",
      "/usr/local/lib/python3.10/dist-packages/Cython/Compiler/Main.py:381: FutureWarning: Cython directive 'language_level' not set, using '3str' for now (Py3). This has changed from earlier releases! File: /kaggle/working/RECsys_Challenge2024/Recommenders/MatrixFactorization/Cython/MatrixFactorizationImpressions_Cython_Epoch.pyx\r\n",
      "  tree = Parsing.p_module(s, pxd, full_module_name)\r\n",
      "Compiling [2/11]: MatrixFactorizationImpressions_Cython_Epoch.pyx... PASS\r\n",
      "\r\n",
      "Compiling [3/11]: Compute_Similarity_Cython.pyx... \r\n",
      "warning: Compute_Similarity_Cython.pyx:21:0: The 'IF' statement is deprecated and will be removed in a future Cython version. Consider using runtime conditions or C macros instead. See https://github.com/cython/cython/issues/4310\r\n",
      "In file included from \u001b[01m\u001b[K/usr/local/lib/python3.10/dist-packages/numpy/core/include/numpy/ndarraytypes.h:1929\u001b[m\u001b[K,\r\n",
      "                 from \u001b[01m\u001b[K/usr/local/lib/python3.10/dist-packages/numpy/core/include/numpy/ndarrayobject.h:12\u001b[m\u001b[K,\r\n",
      "                 from \u001b[01m\u001b[K/usr/local/lib/python3.10/dist-packages/numpy/core/include/numpy/arrayobject.h:5\u001b[m\u001b[K,\r\n",
      "                 from \u001b[01m\u001b[KCompute_Similarity_Cython.c:1252\u001b[m\u001b[K:\r\n",
      "\u001b[01m\u001b[K/usr/local/lib/python3.10/dist-packages/numpy/core/include/numpy/npy_1_7_deprecated_api.h:17:2:\u001b[m\u001b[K \u001b[01;35m\u001b[Kwarning: \u001b[m\u001b[K#warning \"Using deprecated NumPy API, disable it with \" \"#define NPY_NO_DEPRECATED_API NPY_1_7_API_VERSION\" [\u001b[01;35m\u001b[K\u001b]8;;https://gcc.gnu.org/onlinedocs/gcc/Warning-Options.html#index-Wcpp\u0007-Wcpp\u001b]8;;\u0007\u001b[m\u001b[K]\r\n",
      "   17 | #\u001b[01;35m\u001b[Kwarning\u001b[m\u001b[K \"Using deprecated NumPy API, disable it with \" \\\r\n",
      "      |  \u001b[01;35m\u001b[K^~~~~~~\u001b[m\u001b[K\r\n",
      "/usr/local/lib/python3.10/dist-packages/Cython/Compiler/Main.py:381: FutureWarning: Cython directive 'language_level' not set, using '3str' for now (Py3). This has changed from earlier releases! File: /kaggle/working/RECsys_Challenge2024/Recommenders/Similarity/Cython/Compute_Similarity_Cython.pyx\r\n",
      "  tree = Parsing.p_module(s, pxd, full_module_name)\r\n",
      "warning: Compute_Similarity_Cython.pyx:21:0: The 'IF' statement is deprecated and will be removed in a future Cython version. Consider using runtime conditions or C macros instead. See https://github.com/cython/cython/issues/4310\r\n",
      "Compiling [3/11]: Compute_Similarity_Cython.pyx... PASS\r\n",
      "\r\n",
      "Compiling [4/11]: SLIM_BPR_Cython_Epoch.pyx... \r\n",
      "warning: SLIM_BPR_Cython_Epoch.pyx:24:0: The 'IF' statement is deprecated and will be removed in a future Cython version. Consider using runtime conditions or C macros instead. See https://github.com/cython/cython/issues/4310\r\n",
      "warning: SLIM_BPR_Cython_Epoch.pyx:632:34: Non-trivial type declarators in shared declaration (e.g. mix of pointers and values). Each pointer declaration should be on its own line.\r\n",
      "warning: SLIM_BPR_Cython_Epoch.pyx:632:66: Non-trivial type declarators in shared declaration (e.g. mix of pointers and values). Each pointer declaration should be on its own line.\r\n",
      "warning: SLIM_BPR_Cython_Epoch.pyx:817:35: Non-trivial type declarators in shared declaration (e.g. mix of pointers and values). Each pointer declaration should be on its own line.\r\n",
      "warning: SLIM_BPR_Cython_Epoch.pyx:817:52: Non-trivial type declarators in shared declaration (e.g. mix of pointers and values). Each pointer declaration should be on its own line.\r\n",
      "warning: SLIM_BPR_Cython_Epoch.pyx:916:35: Non-trivial type declarators in shared declaration (e.g. mix of pointers and values). Each pointer declaration should be on its own line.\r\n",
      "warning: SLIM_BPR_Cython_Epoch.pyx:916:53: Non-trivial type declarators in shared declaration (e.g. mix of pointers and values). Each pointer declaration should be on its own line.\r\n",
      "warning: SLIM_BPR_Cython_Epoch.pyx:916:69: Non-trivial type declarators in shared declaration (e.g. mix of pointers and values). Each pointer declaration should be on its own line.\r\n",
      "warning: SLIM_BPR_Cython_Epoch.pyx:1051:35: Non-trivial type declarators in shared declaration (e.g. mix of pointers and values). Each pointer declaration should be on its own line.\r\n",
      "warning: SLIM_BPR_Cython_Epoch.pyx:1051:42: Non-trivial type declarators in shared declaration (e.g. mix of pointers and values). Each pointer declaration should be on its own line.\r\n",
      "warning: SLIM_BPR_Cython_Epoch.pyx:1052:35: Non-trivial type declarators in shared declaration (e.g. mix of pointers and values). Each pointer declaration should be on its own line.\r\n",
      "warning: SLIM_BPR_Cython_Epoch.pyx:1052:53: Non-trivial type declarators in shared declaration (e.g. mix of pointers and values). Each pointer declaration should be on its own line.\r\n",
      "\r\n",
      "Error compiling Cython file:\r\n",
      "------------------------------------------------------------\r\n",
      "...\r\n",
      "            vector_pointer_to_list_elements[index].head = current_element\r\n",
      "            current_element = current_element.higher\r\n",
      "\r\n",
      "\r\n",
      "        # Sort array elements on their data field\r\n",
      "        qsort(vector_pointer_to_list_elements, list_length, sizeof(head_pointer_tree_s), compare_struct_on_data)\r\n",
      "                                                                                         ^\r\n",
      "------------------------------------------------------------\r\n",
      "\r\n",
      "SLIM_BPR_Cython_Epoch.pyx:990:89: Cannot assign type 'int (const void *, const void *) except? -1' to 'int (*)(const_void *, const_void *) noexcept'. Exception values are incompatible. Suggest adding 'noexcept' to the type of 'compare_struct_on_data'.\r\n",
      "\r\n",
      "Error compiling Cython file:\r\n",
      "------------------------------------------------------------\r\n",
      "...\r\n",
      "        # Sort array elements on their data field\r\n",
      "        qsort(vector_pointer_to_list_elements, list_length, sizeof(head_pointer_tree_s), compare_struct_on_data)\r\n",
      "\r\n",
      "        # Sort only the TopK according to their column field\r\n",
      "        # Sort is from lower to higher, therefore the elements to be considered are from len-topK to len\r\n",
      "        qsort(&vector_pointer_to_list_elements[list_length-TopK], TopK, sizeof(head_pointer_tree_s), compare_struct_on_column)\r\n",
      "                                                                                                     ^\r\n",
      "------------------------------------------------------------\r\n",
      "\r\n",
      "SLIM_BPR_Cython_Epoch.pyx:994:101: Cannot assign type 'int (const void *, const void *) except? -1' to 'int (*)(const_void *, const_void *) noexcept'. Exception values are incompatible. Suggest adding 'noexcept' to the type of 'compare_struct_on_column'.\r\n",
      "Traceback (most recent call last):\r\n",
      "  File \"/kaggle/working/RECsys_Challenge2024/CythonCompiler/compile_script.py\", line 48, in <module>\r\n",
      "    setup(\r\n",
      "  File \"/usr/local/lib/python3.10/dist-packages/setuptools/__init__.py\", line 108, in setup\r\n",
      "    return distutils.core.setup(**attrs)\r\n",
      "  File \"/usr/local/lib/python3.10/dist-packages/setuptools/_distutils/core.py\", line 184, in setup\r\n",
      "    return run_commands(dist)\r\n",
      "  File \"/usr/local/lib/python3.10/dist-packages/setuptools/_distutils/core.py\", line 200, in run_commands\r\n",
      "    dist.run_commands()\r\n",
      "  File \"/usr/local/lib/python3.10/dist-packages/setuptools/_distutils/dist.py\", line 970, in run_commands\r\n",
      "    self.run_command(cmd)\r\n",
      "  File \"/usr/local/lib/python3.10/dist-packages/setuptools/dist.py\", line 956, in run_command\r\n",
      "    super().run_command(command)\r\n",
      "  File \"/usr/local/lib/python3.10/dist-packages/setuptools/_distutils/dist.py\", line 989, in run_command\r\n",
      "    cmd_obj.run()\r\n",
      "  File \"/usr/local/lib/python3.10/dist-packages/setuptools/_distutils/command/build_ext.py\", line 359, in run\r\n",
      "    self.build_extensions()\r\n",
      "  File \"/usr/local/lib/python3.10/dist-packages/setuptools/_distutils/command/build_ext.py\", line 479, in build_extensions\r\n",
      "    self._build_extensions_serial()\r\n",
      "  File \"/usr/local/lib/python3.10/dist-packages/setuptools/_distutils/command/build_ext.py\", line 505, in _build_extensions_serial\r\n",
      "    self.build_extension(ext)\r\n",
      "  File \"/usr/local/lib/python3.10/dist-packages/Cython/Distutils/build_ext.py\", line 130, in build_extension\r\n",
      "    new_ext = cythonize(\r\n",
      "  File \"/usr/local/lib/python3.10/dist-packages/Cython/Build/Dependencies.py\", line 1154, in cythonize\r\n",
      "    cythonize_one(*args)\r\n",
      "  File \"/usr/local/lib/python3.10/dist-packages/Cython/Build/Dependencies.py\", line 1321, in cythonize_one\r\n",
      "    raise CompileError(None, pyx_file)\r\n",
      "Cython.Compiler.Errors.CompileError: SLIM_BPR_Cython_Epoch.pyx\r\n",
      "Traceback (most recent call last):\r\n",
      "  File \"/kaggle/working/RECsys_Challenge2024/run_compile_all_cython.py\", line 60, in <module>\r\n",
      "    run_compile_subprocess(file_path, [file_name])\r\n",
      "  File \"/kaggle/working/RECsys_Challenge2024/CythonCompiler/run_compile_subprocess.py\", line 51, in run_compile_subprocess\r\n",
      "    raise exc\r\n",
      "  File \"/kaggle/working/RECsys_Challenge2024/CythonCompiler/run_compile_subprocess.py\", line 32, in run_compile_subprocess\r\n",
      "    output = subprocess.check_output(' '.join(command),\r\n",
      "  File \"/usr/lib/python3.10/subprocess.py\", line 421, in check_output\r\n",
      "    return run(*popenargs, stdout=PIPE, timeout=timeout, check=True,\r\n",
      "  File \"/usr/lib/python3.10/subprocess.py\", line 526, in run\r\n",
      "    raise CalledProcessError(retcode, process.args,\r\n",
      "subprocess.CalledProcessError: Command '/usr/bin/python3 /kaggle/working/RECsys_Challenge2024/CythonCompiler/compile_script.py SLIM_BPR_Cython_Epoch.pyx build_ext --inplace' returned non-zero exit status 1.\r\n",
      "Compiling [4/11]: SLIM_BPR_Cython_Epoch.pyx... FAIL: Command '/usr/bin/python3 /kaggle/working/RECsys_Challenge2024/CythonCompiler/compile_script.py SLIM_BPR_Cython_Epoch.pyx build_ext --inplace' returned non-zero exit status 1.\r\n",
      "\r\n",
      "Compiling [5/11]: Triangular_Matrix.pyx... \r\n",
      "warning: Triangular_Matrix.pyx:22:0: The 'IF' statement is deprecated and will be removed in a future Cython version. Consider using runtime conditions or C macros instead. See https://github.com/cython/cython/issues/4310\r\n",
      "In file included from \u001b[01m\u001b[K/usr/local/lib/python3.10/dist-packages/numpy/core/include/numpy/ndarraytypes.h:1929\u001b[m\u001b[K,\r\n",
      "                 from \u001b[01m\u001b[K/usr/local/lib/python3.10/dist-packages/numpy/core/include/numpy/ndarrayobject.h:12\u001b[m\u001b[K,\r\n",
      "                 from \u001b[01m\u001b[K/usr/local/lib/python3.10/dist-packages/numpy/core/include/numpy/arrayobject.h:5\u001b[m\u001b[K,\r\n",
      "                 from \u001b[01m\u001b[KTriangular_Matrix.c:1252\u001b[m\u001b[K:\r\n",
      "\u001b[01m\u001b[K/usr/local/lib/python3.10/dist-packages/numpy/core/include/numpy/npy_1_7_deprecated_api.h:17:2:\u001b[m\u001b[K \u001b[01;35m\u001b[Kwarning: \u001b[m\u001b[K#warning \"Using deprecated NumPy API, disable it with \" \"#define NPY_NO_DEPRECATED_API NPY_1_7_API_VERSION\" [\u001b[01;35m\u001b[K\u001b]8;;https://gcc.gnu.org/onlinedocs/gcc/Warning-Options.html#index-Wcpp\u0007-Wcpp\u001b]8;;\u0007\u001b[m\u001b[K]\r\n",
      "   17 | #\u001b[01;35m\u001b[Kwarning\u001b[m\u001b[K \"Using deprecated NumPy API, disable it with \" \\\r\n",
      "      |  \u001b[01;35m\u001b[K^~~~~~~\u001b[m\u001b[K\r\n",
      "In function ‘\u001b[01m\u001b[K__pyx_pf_17Triangular_Matrix_17Triangular_Matrix___init__\u001b[m\u001b[K’,\r\n",
      "    inlined from ‘\u001b[01m\u001b[K__pyx_pw_17Triangular_Matrix_17Triangular_Matrix_1__init__\u001b[m\u001b[K’ at \u001b[01m\u001b[KTriangular_Matrix.c:5541:13\u001b[m\u001b[K:\r\n",
      "\u001b[01m\u001b[KTriangular_Matrix.c:5599:43:\u001b[m\u001b[K \u001b[01;35m\u001b[Kwarning: \u001b[m\u001b[Kargument 1 value ‘\u001b[01m\u001b[K18446744073709551608\u001b[m\u001b[K’ exceeds maximum object size 9223372036854775807 [\u001b[01;35m\u001b[K\u001b]8;;https://gcc.gnu.org/onlinedocs/gcc/Warning-Options.html#index-Walloc-size-larger-than=\u0007-Walloc-size-larger-than=\u001b]8;;\u0007\u001b[m\u001b[K]\r\n",
      " 5599 |   __pyx_v_self->row_pointer = ((double **)\u001b[01;35m\u001b[Kmalloc((__pyx_v_self->num_rows * (sizeof(double *))))\u001b[m\u001b[K);\r\n",
      "      |                                           \u001b[01;35m\u001b[K^~~~~~~~~~~~~~~~~~~~~~~~~~~~~~~~~~~~~~~~~~~~~~~~~~~~~\u001b[m\u001b[K\r\n",
      "In file included from \u001b[01m\u001b[K/usr/include/python3.10/Python.h:34\u001b[m\u001b[K,\r\n",
      "                 from \u001b[01m\u001b[KTriangular_Matrix.c:41\u001b[m\u001b[K:\r\n",
      "\u001b[01m\u001b[KTriangular_Matrix.c:\u001b[m\u001b[K In function ‘\u001b[01m\u001b[K__pyx_pw_17Triangular_Matrix_17Triangular_Matrix_1__init__\u001b[m\u001b[K’:\r\n",
      "\u001b[01m\u001b[K/usr/include/stdlib.h:540:14:\u001b[m\u001b[K \u001b[01;36m\u001b[Knote: \u001b[m\u001b[Kin a call to allocation function ‘\u001b[01m\u001b[Kmalloc\u001b[m\u001b[K’ declared here\r\n",
      "  540 | extern void *\u001b[01;36m\u001b[Kmalloc\u001b[m\u001b[K (size_t __size) __THROW __attribute_malloc__\r\n",
      "      |              \u001b[01;36m\u001b[K^~~~~~\u001b[m\u001b[K\r\n",
      "/usr/local/lib/python3.10/dist-packages/Cython/Compiler/Main.py:381: FutureWarning: Cython directive 'language_level' not set, using '3str' for now (Py3). This has changed from earlier releases! File: /kaggle/working/RECsys_Challenge2024/Recommenders/SLIM/Cython/Triangular_Matrix.pyx\r\n",
      "  tree = Parsing.p_module(s, pxd, full_module_name)\r\n",
      "warning: Triangular_Matrix.pyx:22:0: The 'IF' statement is deprecated and will be removed in a future Cython version. Consider using runtime conditions or C macros instead. See https://github.com/cython/cython/issues/4310\r\n",
      "Compiling [5/11]: Triangular_Matrix.pyx... PASS\r\n",
      "\r\n",
      "Compiling [6/11]: Sparse_Matrix_Tree_CSR.pyx... \r\n",
      "warning: Sparse_Matrix_Tree_CSR.pyx:132:34: Non-trivial type declarators in shared declaration (e.g. mix of pointers and values). Each pointer declaration should be on its own line.\r\n",
      "warning: Sparse_Matrix_Tree_CSR.pyx:132:66: Non-trivial type declarators in shared declaration (e.g. mix of pointers and values). Each pointer declaration should be on its own line.\r\n",
      "warning: Sparse_Matrix_Tree_CSR.pyx:343:35: Non-trivial type declarators in shared declaration (e.g. mix of pointers and values). Each pointer declaration should be on its own line.\r\n",
      "warning: Sparse_Matrix_Tree_CSR.pyx:343:52: Non-trivial type declarators in shared declaration (e.g. mix of pointers and values). Each pointer declaration should be on its own line.\r\n",
      "warning: Sparse_Matrix_Tree_CSR.pyx:442:35: Non-trivial type declarators in shared declaration (e.g. mix of pointers and values). Each pointer declaration should be on its own line.\r\n",
      "warning: Sparse_Matrix_Tree_CSR.pyx:442:53: Non-trivial type declarators in shared declaration (e.g. mix of pointers and values). Each pointer declaration should be on its own line.\r\n",
      "warning: Sparse_Matrix_Tree_CSR.pyx:442:69: Non-trivial type declarators in shared declaration (e.g. mix of pointers and values). Each pointer declaration should be on its own line.\r\n",
      "warning: Sparse_Matrix_Tree_CSR.pyx:577:35: Non-trivial type declarators in shared declaration (e.g. mix of pointers and values). Each pointer declaration should be on its own line.\r\n",
      "warning: Sparse_Matrix_Tree_CSR.pyx:577:42: Non-trivial type declarators in shared declaration (e.g. mix of pointers and values). Each pointer declaration should be on its own line.\r\n",
      "warning: Sparse_Matrix_Tree_CSR.pyx:578:35: Non-trivial type declarators in shared declaration (e.g. mix of pointers and values). Each pointer declaration should be on its own line.\r\n",
      "warning: Sparse_Matrix_Tree_CSR.pyx:578:53: Non-trivial type declarators in shared declaration (e.g. mix of pointers and values). Each pointer declaration should be on its own line.\r\n",
      "\r\n",
      "Error compiling Cython file:\r\n",
      "------------------------------------------------------------\r\n",
      "...\r\n",
      "            vector_pointer_to_list_elements[index].head = current_element\r\n",
      "            current_element = current_element.higher\r\n",
      "\r\n",
      "\r\n",
      "        # Sort array elements on their data field\r\n",
      "        qsort(vector_pointer_to_list_elements, list_length, sizeof(head_pointer_tree_s), compare_struct_on_data)\r\n",
      "                                                                                         ^\r\n",
      "------------------------------------------------------------\r\n",
      "\r\n",
      "Sparse_Matrix_Tree_CSR.pyx:516:89: Cannot assign type 'int (const void *, const void *) except? -1' to 'int (*)(const_void *, const_void *) noexcept'. Exception values are incompatible. Suggest adding 'noexcept' to the type of 'compare_struct_on_data'.\r\n",
      "\r\n",
      "Error compiling Cython file:\r\n",
      "------------------------------------------------------------\r\n",
      "...\r\n",
      "        # Sort array elements on their data field\r\n",
      "        qsort(vector_pointer_to_list_elements, list_length, sizeof(head_pointer_tree_s), compare_struct_on_data)\r\n",
      "\r\n",
      "        # Sort only the TopK according to their column field\r\n",
      "        # Sort is from lower to higher, therefore the elements to be considered are from len-topK to len\r\n",
      "        qsort(&vector_pointer_to_list_elements[list_length-TopK], TopK, sizeof(head_pointer_tree_s), compare_struct_on_column)\r\n",
      "                                                                                                     ^\r\n",
      "------------------------------------------------------------\r\n",
      "\r\n",
      "Sparse_Matrix_Tree_CSR.pyx:520:101: Cannot assign type 'int (const void *, const void *) except? -1' to 'int (*)(const_void *, const_void *) noexcept'. Exception values are incompatible. Suggest adding 'noexcept' to the type of 'compare_struct_on_column'.\r\n",
      "Traceback (most recent call last):\r\n",
      "  File \"/kaggle/working/RECsys_Challenge2024/CythonCompiler/compile_script.py\", line 48, in <module>\r\n",
      "    setup(\r\n",
      "  File \"/usr/local/lib/python3.10/dist-packages/setuptools/__init__.py\", line 108, in setup\r\n",
      "    return distutils.core.setup(**attrs)\r\n",
      "  File \"/usr/local/lib/python3.10/dist-packages/setuptools/_distutils/core.py\", line 184, in setup\r\n",
      "    return run_commands(dist)\r\n",
      "  File \"/usr/local/lib/python3.10/dist-packages/setuptools/_distutils/core.py\", line 200, in run_commands\r\n",
      "    dist.run_commands()\r\n",
      "  File \"/usr/local/lib/python3.10/dist-packages/setuptools/_distutils/dist.py\", line 970, in run_commands\r\n",
      "    self.run_command(cmd)\r\n",
      "  File \"/usr/local/lib/python3.10/dist-packages/setuptools/dist.py\", line 956, in run_command\r\n",
      "    super().run_command(command)\r\n",
      "  File \"/usr/local/lib/python3.10/dist-packages/setuptools/_distutils/dist.py\", line 989, in run_command\r\n",
      "    cmd_obj.run()\r\n",
      "  File \"/usr/local/lib/python3.10/dist-packages/setuptools/_distutils/command/build_ext.py\", line 359, in run\r\n",
      "    self.build_extensions()\r\n",
      "  File \"/usr/local/lib/python3.10/dist-packages/setuptools/_distutils/command/build_ext.py\", line 479, in build_extensions\r\n",
      "    self._build_extensions_serial()\r\n",
      "  File \"/usr/local/lib/python3.10/dist-packages/setuptools/_distutils/command/build_ext.py\", line 505, in _build_extensions_serial\r\n",
      "    self.build_extension(ext)\r\n",
      "  File \"/usr/local/lib/python3.10/dist-packages/Cython/Distutils/build_ext.py\", line 130, in build_extension\r\n",
      "    new_ext = cythonize(\r\n",
      "  File \"/usr/local/lib/python3.10/dist-packages/Cython/Build/Dependencies.py\", line 1154, in cythonize\r\n",
      "    cythonize_one(*args)\r\n",
      "  File \"/usr/local/lib/python3.10/dist-packages/Cython/Build/Dependencies.py\", line 1321, in cythonize_one\r\n",
      "    raise CompileError(None, pyx_file)\r\n",
      "Cython.Compiler.Errors.CompileError: Sparse_Matrix_Tree_CSR.pyx\r\n",
      "Traceback (most recent call last):\r\n",
      "  File \"/kaggle/working/RECsys_Challenge2024/run_compile_all_cython.py\", line 60, in <module>\r\n",
      "    run_compile_subprocess(file_path, [file_name])\r\n",
      "  File \"/kaggle/working/RECsys_Challenge2024/CythonCompiler/run_compile_subprocess.py\", line 51, in run_compile_subprocess\r\n",
      "    raise exc\r\n",
      "  File \"/kaggle/working/RECsys_Challenge2024/CythonCompiler/run_compile_subprocess.py\", line 32, in run_compile_subprocess\r\n",
      "    output = subprocess.check_output(' '.join(command),\r\n",
      "  File \"/usr/lib/python3.10/subprocess.py\", line 421, in check_output\r\n",
      "    return run(*popenargs, stdout=PIPE, timeout=timeout, check=True,\r\n",
      "  File \"/usr/lib/python3.10/subprocess.py\", line 526, in run\r\n",
      "    raise CalledProcessError(retcode, process.args,\r\n",
      "subprocess.CalledProcessError: Command '/usr/bin/python3 /kaggle/working/RECsys_Challenge2024/CythonCompiler/compile_script.py Sparse_Matrix_Tree_CSR.pyx build_ext --inplace' returned non-zero exit status 1.\r\n",
      "Compiling [6/11]: Sparse_Matrix_Tree_CSR.pyx... FAIL: Command '/usr/bin/python3 /kaggle/working/RECsys_Challenge2024/CythonCompiler/compile_script.py Sparse_Matrix_Tree_CSR.pyx build_ext --inplace' returned non-zero exit status 1.\r\n",
      "\r\n",
      "Compiling [7/11]: CFW_DVV_Similarity_Cython_SGD.pyx... \r\n",
      "In file included from \u001b[01m\u001b[K/usr/local/lib/python3.10/dist-packages/numpy/core/include/numpy/ndarraytypes.h:1929\u001b[m\u001b[K,\r\n",
      "                 from \u001b[01m\u001b[K/usr/local/lib/python3.10/dist-packages/numpy/core/include/numpy/ndarrayobject.h:12\u001b[m\u001b[K,\r\n",
      "                 from \u001b[01m\u001b[K/usr/local/lib/python3.10/dist-packages/numpy/core/include/numpy/arrayobject.h:5\u001b[m\u001b[K,\r\n",
      "                 from \u001b[01m\u001b[KCFW_DVV_Similarity_Cython_SGD.c:1252\u001b[m\u001b[K:\r\n",
      "\u001b[01m\u001b[K/usr/local/lib/python3.10/dist-packages/numpy/core/include/numpy/npy_1_7_deprecated_api.h:17:2:\u001b[m\u001b[K \u001b[01;35m\u001b[Kwarning: \u001b[m\u001b[K#warning \"Using deprecated NumPy API, disable it with \" \"#define NPY_NO_DEPRECATED_API NPY_1_7_API_VERSION\" [\u001b[01;35m\u001b[K\u001b]8;;https://gcc.gnu.org/onlinedocs/gcc/Warning-Options.html#index-Wcpp\u0007-Wcpp\u001b]8;;\u0007\u001b[m\u001b[K]\r\n",
      "   17 | #\u001b[01;35m\u001b[Kwarning\u001b[m\u001b[K \"Using deprecated NumPy API, disable it with \" \\\r\n",
      "      |  \u001b[01;35m\u001b[K^~~~~~~\u001b[m\u001b[K\r\n",
      "/usr/local/lib/python3.10/dist-packages/Cython/Compiler/Main.py:381: FutureWarning: Cython directive 'language_level' not set, using '3str' for now (Py3). This has changed from earlier releases! File: /kaggle/working/RECsys_Challenge2024/Recommenders/FeatureWeighting/Cython/CFW_DVV_Similarity_Cython_SGD.pyx\r\n",
      "  tree = Parsing.p_module(s, pxd, full_module_name)\r\n",
      "Compiling [7/11]: CFW_DVV_Similarity_Cython_SGD.pyx... PASS\r\n",
      "\r\n",
      "Compiling [8/11]: HP3_Similarity_Cython_SGD.pyx... \r\n",
      "performance hint: HP3_Similarity_Cython_SGD.pyx:113:40: Index should be typed for more efficient access\r\n",
      "performance hint: HP3_Similarity_Cython_SGD.pyx:114:40: Index should be typed for more efficient access\r\n",
      "In file included from \u001b[01m\u001b[K/usr/local/lib/python3.10/dist-packages/numpy/core/include/numpy/ndarraytypes.h:1929\u001b[m\u001b[K,\r\n",
      "                 from \u001b[01m\u001b[K/usr/local/lib/python3.10/dist-packages/numpy/core/include/numpy/ndarrayobject.h:12\u001b[m\u001b[K,\r\n",
      "                 from \u001b[01m\u001b[K/usr/local/lib/python3.10/dist-packages/numpy/core/include/numpy/arrayobject.h:5\u001b[m\u001b[K,\r\n",
      "                 from \u001b[01m\u001b[KHP3_Similarity_Cython_SGD.c:1252\u001b[m\u001b[K:\r\n",
      "\u001b[01m\u001b[K/usr/local/lib/python3.10/dist-packages/numpy/core/include/numpy/npy_1_7_deprecated_api.h:17:2:\u001b[m\u001b[K \u001b[01;35m\u001b[Kwarning: \u001b[m\u001b[K#warning \"Using deprecated NumPy API, disable it with \" \"#define NPY_NO_DEPRECATED_API NPY_1_7_API_VERSION\" [\u001b[01;35m\u001b[K\u001b]8;;https://gcc.gnu.org/onlinedocs/gcc/Warning-Options.html#index-Wcpp\u0007-Wcpp\u001b]8;;\u0007\u001b[m\u001b[K]\r\n",
      "   17 | #\u001b[01;35m\u001b[Kwarning\u001b[m\u001b[K \"Using deprecated NumPy API, disable it with \" \\\r\n",
      "      |  \u001b[01;35m\u001b[K^~~~~~~\u001b[m\u001b[K\r\n",
      "\u001b[01m\u001b[KHP3_Similarity_Cython_SGD.c:\u001b[m\u001b[K In function ‘\u001b[01m\u001b[K__pyx_pf_25HP3_Similarity_Cython_SGD_25HP3_Similarity_Cython_SGD_4fit\u001b[m\u001b[K’:\r\n",
      "\u001b[01m\u001b[KHP3_Similarity_Cython_SGD.c:23631:55:\u001b[m\u001b[K \u001b[01;35m\u001b[Kwarning: \u001b[m\u001b[K‘\u001b[01m\u001b[K__pyx_v_sample_num\u001b[m\u001b[K’ may be used uninitialized in this function [\u001b[01;35m\u001b[K\u001b]8;;https://gcc.gnu.org/onlinedocs/gcc/Warning-Options.html#index-Wmaybe-uninitialized\u0007-Wmaybe-uninitialized\u001b]8;;\u0007\u001b[m\u001b[K]\r\n",
      "23631 |   __pyx_t_1 = PyFloat_FromDouble((__pyx_v_cum_loss / \u001b[01;35m\u001b[K((double)__pyx_v_sample_num)\u001b[m\u001b[K)); if (unlikely(!__pyx_t_1)) __PYX_ERR(0, 291, __pyx_L1_error)\r\n",
      "      |                                                      \u001b[01;35m\u001b[K~^~~~~~~~~~~~~~~~~~~~~~~~~~~\u001b[m\u001b[K\r\n",
      "/usr/local/lib/python3.10/dist-packages/Cython/Compiler/Main.py:381: FutureWarning: Cython directive 'language_level' not set, using '3str' for now (Py3). This has changed from earlier releases! File: /kaggle/working/RECsys_Challenge2024/Recommenders/FeatureWeighting/Cython/HP3_Similarity_Cython_SGD.pyx\r\n",
      "  tree = Parsing.p_module(s, pxd, full_module_name)\r\n",
      "performance hint: HP3_Similarity_Cython_SGD.pyx:113:40: Index should be typed for more efficient access\r\n",
      "performance hint: HP3_Similarity_Cython_SGD.pyx:114:40: Index should be typed for more efficient access\r\n",
      "Compiling [8/11]: HP3_Similarity_Cython_SGD.pyx... PASS\r\n",
      "\r\n",
      "Compiling [9/11]: FBSM_Rating_Cython_SGD.pyx... \r\n",
      "In file included from \u001b[01m\u001b[K/usr/local/lib/python3.10/dist-packages/numpy/core/include/numpy/ndarraytypes.h:1929\u001b[m\u001b[K,\r\n",
      "                 from \u001b[01m\u001b[K/usr/local/lib/python3.10/dist-packages/numpy/core/include/numpy/ndarrayobject.h:12\u001b[m\u001b[K,\r\n",
      "                 from \u001b[01m\u001b[K/usr/local/lib/python3.10/dist-packages/numpy/core/include/numpy/arrayobject.h:5\u001b[m\u001b[K,\r\n",
      "                 from \u001b[01m\u001b[KFBSM_Rating_Cython_SGD.c:1252\u001b[m\u001b[K:\r\n",
      "\u001b[01m\u001b[K/usr/local/lib/python3.10/dist-packages/numpy/core/include/numpy/npy_1_7_deprecated_api.h:17:2:\u001b[m\u001b[K \u001b[01;35m\u001b[Kwarning: \u001b[m\u001b[K#warning \"Using deprecated NumPy API, disable it with \" \"#define NPY_NO_DEPRECATED_API NPY_1_7_API_VERSION\" [\u001b[01;35m\u001b[K\u001b]8;;https://gcc.gnu.org/onlinedocs/gcc/Warning-Options.html#index-Wcpp\u0007-Wcpp\u001b]8;;\u0007\u001b[m\u001b[K]\r\n",
      "   17 | #\u001b[01;35m\u001b[Kwarning\u001b[m\u001b[K \"Using deprecated NumPy API, disable it with \" \\\r\n",
      "      |  \u001b[01;35m\u001b[K^~~~~~~\u001b[m\u001b[K\r\n",
      "\u001b[01m\u001b[KFBSM_Rating_Cython_SGD.c:\u001b[m\u001b[K In function ‘\u001b[01m\u001b[K__pyx_pf_22FBSM_Rating_Cython_SGD_22FBSM_Rating_Cython_SGD_2fit\u001b[m\u001b[K’:\r\n",
      "\u001b[01m\u001b[KFBSM_Rating_Cython_SGD.c:26607:55:\u001b[m\u001b[K \u001b[01;35m\u001b[Kwarning: \u001b[m\u001b[K‘\u001b[01m\u001b[K__pyx_v_num_sample\u001b[m\u001b[K’ may be used uninitialized in this function [\u001b[01;35m\u001b[K\u001b]8;;https://gcc.gnu.org/onlinedocs/gcc/Warning-Options.html#index-Wmaybe-uninitialized\u0007-Wmaybe-uninitialized\u001b]8;;\u0007\u001b[m\u001b[K]\r\n",
      "26607 |   __pyx_t_5 = PyFloat_FromDouble((__pyx_v_cum_loss / \u001b[01;35m\u001b[K((double)__pyx_v_num_sample)\u001b[m\u001b[K)); if (unlikely(!__pyx_t_5)) __PYX_ERR(0, 551, __pyx_L1_error)\r\n",
      "      |                                                      \u001b[01;35m\u001b[K~^~~~~~~~~~~~~~~~~~~~~~~~~~~\u001b[m\u001b[K\r\n",
      "/usr/local/lib/python3.10/dist-packages/Cython/Compiler/Main.py:381: FutureWarning: Cython directive 'language_level' not set, using '3str' for now (Py3). This has changed from earlier releases! File: /kaggle/working/RECsys_Challenge2024/Recommenders/FeatureWeighting/Cython/FBSM_Rating_Cython_SGD.pyx\r\n",
      "  tree = Parsing.p_module(s, pxd, full_module_name)\r\n",
      "Compiling [9/11]: FBSM_Rating_Cython_SGD.pyx... PASS\r\n",
      "\r\n",
      "Compiling [10/11]: CFW_D_Similarity_Cython_SGD.pyx... \r\n",
      "In file included from \u001b[01m\u001b[K/usr/local/lib/python3.10/dist-packages/numpy/core/include/numpy/ndarraytypes.h:1929\u001b[m\u001b[K,\r\n",
      "                 from \u001b[01m\u001b[K/usr/local/lib/python3.10/dist-packages/numpy/core/include/numpy/ndarrayobject.h:12\u001b[m\u001b[K,\r\n",
      "                 from \u001b[01m\u001b[K/usr/local/lib/python3.10/dist-packages/numpy/core/include/numpy/arrayobject.h:5\u001b[m\u001b[K,\r\n",
      "                 from \u001b[01m\u001b[KCFW_D_Similarity_Cython_SGD.c:1252\u001b[m\u001b[K:\r\n",
      "\u001b[01m\u001b[K/usr/local/lib/python3.10/dist-packages/numpy/core/include/numpy/npy_1_7_deprecated_api.h:17:2:\u001b[m\u001b[K \u001b[01;35m\u001b[Kwarning: \u001b[m\u001b[K#warning \"Using deprecated NumPy API, disable it with \" \"#define NPY_NO_DEPRECATED_API NPY_1_7_API_VERSION\" [\u001b[01;35m\u001b[K\u001b]8;;https://gcc.gnu.org/onlinedocs/gcc/Warning-Options.html#index-Wcpp\u0007-Wcpp\u001b]8;;\u0007\u001b[m\u001b[K]\r\n",
      "   17 | #\u001b[01;35m\u001b[Kwarning\u001b[m\u001b[K \"Using deprecated NumPy API, disable it with \" \\\r\n",
      "      |  \u001b[01;35m\u001b[K^~~~~~~\u001b[m\u001b[K\r\n",
      "\u001b[01m\u001b[KCFW_D_Similarity_Cython_SGD.c:\u001b[m\u001b[K In function ‘\u001b[01m\u001b[K__pyx_pf_27CFW_D_Similarity_Cython_SGD_27CFW_D_Similarity_Cython_SGD_6fit\u001b[m\u001b[K’:\r\n",
      "\u001b[01m\u001b[KCFW_D_Similarity_Cython_SGD.c:23373:55:\u001b[m\u001b[K \u001b[01;35m\u001b[Kwarning: \u001b[m\u001b[K‘\u001b[01m\u001b[K__pyx_v_sample_num\u001b[m\u001b[K’ may be used uninitialized in this function [\u001b[01;35m\u001b[K\u001b]8;;https://gcc.gnu.org/onlinedocs/gcc/Warning-Options.html#index-Wmaybe-uninitialized\u0007-Wmaybe-uninitialized\u001b]8;;\u0007\u001b[m\u001b[K]\r\n",
      "23373 |   __pyx_t_3 = PyFloat_FromDouble((__pyx_v_cum_loss / \u001b[01;35m\u001b[K((double)__pyx_v_sample_num)\u001b[m\u001b[K)); if (unlikely(!__pyx_t_3)) __PYX_ERR(0, 290, __pyx_L1_error)\r\n",
      "      |                                                      \u001b[01;35m\u001b[K~^~~~~~~~~~~~~~~~~~~~~~~~~~~\u001b[m\u001b[K\r\n",
      "/usr/local/lib/python3.10/dist-packages/Cython/Compiler/Main.py:381: FutureWarning: Cython directive 'language_level' not set, using '3str' for now (Py3). This has changed from earlier releases! File: /kaggle/working/RECsys_Challenge2024/Recommenders/FeatureWeighting/Cython/CFW_D_Similarity_Cython_SGD.pyx\r\n",
      "  tree = Parsing.p_module(s, pxd, full_module_name)\r\n",
      "Compiling [10/11]: CFW_D_Similarity_Cython_SGD.pyx... PASS\r\n",
      "\r\n",
      "Compiling [11/11]: DataIterator.pyx... \r\n",
      "In file included from \u001b[01m\u001b[K/usr/local/lib/python3.10/dist-packages/numpy/core/include/numpy/ndarraytypes.h:1929\u001b[m\u001b[K,\r\n",
      "                 from \u001b[01m\u001b[K/usr/local/lib/python3.10/dist-packages/numpy/core/include/numpy/ndarrayobject.h:12\u001b[m\u001b[K,\r\n",
      "                 from \u001b[01m\u001b[K/usr/local/lib/python3.10/dist-packages/numpy/core/include/numpy/arrayobject.h:5\u001b[m\u001b[K,\r\n",
      "                 from \u001b[01m\u001b[KDataIterator.c:1252\u001b[m\u001b[K:\r\n",
      "\u001b[01m\u001b[K/usr/local/lib/python3.10/dist-packages/numpy/core/include/numpy/npy_1_7_deprecated_api.h:17:2:\u001b[m\u001b[K \u001b[01;35m\u001b[Kwarning: \u001b[m\u001b[K#warning \"Using deprecated NumPy API, disable it with \" \"#define NPY_NO_DEPRECATED_API NPY_1_7_API_VERSION\" [\u001b[01;35m\u001b[K\u001b]8;;https://gcc.gnu.org/onlinedocs/gcc/Warning-Options.html#index-Wcpp\u0007-Wcpp\u001b]8;;\u0007\u001b[m\u001b[K]\r\n",
      "   17 | #\u001b[01;35m\u001b[Kwarning\u001b[m\u001b[K \"Using deprecated NumPy API, disable it with \" \\\r\n",
      "      |  \u001b[01;35m\u001b[K^~~~~~~\u001b[m\u001b[K\r\n",
      "\u001b[01m\u001b[KDataIterator.c:\u001b[m\u001b[K In function ‘\u001b[01m\u001b[K__pyx_pf_12DataIterator_19InteractionIterator_6__next__\u001b[m\u001b[K’:\r\n",
      "\u001b[01m\u001b[KDataIterator.c:20937:22:\u001b[m\u001b[K \u001b[01;35m\u001b[Kwarning: \u001b[m\u001b[K‘\u001b[01m\u001b[K__pyx_v_i_batch\u001b[m\u001b[K’ may be used uninitialized in this function [\u001b[01;35m\u001b[K\u001b]8;;https://gcc.gnu.org/onlinedocs/gcc/Warning-Options.html#index-Wmaybe-uninitialized\u0007-Wmaybe-uninitialized\u001b]8;;\u0007\u001b[m\u001b[K]\r\n",
      "20937 |     (__pyx_v_i_batch \u001b[01;35m\u001b[K+\u001b[m\u001b[K 1),\r\n",
      "      |                      \u001b[01;35m\u001b[K^\u001b[m\u001b[K\r\n",
      "\u001b[01m\u001b[KDataIterator.c:\u001b[m\u001b[K In function ‘\u001b[01m\u001b[K__pyx_pf_12DataIterator_30InteractionAndNegativeIterator_6__next__\u001b[m\u001b[K’:\r\n",
      "\u001b[01m\u001b[KDataIterator.c:25499:22:\u001b[m\u001b[K \u001b[01;35m\u001b[Kwarning: \u001b[m\u001b[K‘\u001b[01m\u001b[K__pyx_v_i_batch\u001b[m\u001b[K’ may be used uninitialized in this function [\u001b[01;35m\u001b[K\u001b]8;;https://gcc.gnu.org/onlinedocs/gcc/Warning-Options.html#index-Wmaybe-uninitialized\u0007-Wmaybe-uninitialized\u001b]8;;\u0007\u001b[m\u001b[K]\r\n",
      "25499 |     (__pyx_v_i_batch \u001b[01;35m\u001b[K+\u001b[m\u001b[K 1),\r\n",
      "      |                      \u001b[01;35m\u001b[K^\u001b[m\u001b[K\r\n",
      "\u001b[01m\u001b[KDataIterator.c:\u001b[m\u001b[K In function ‘\u001b[01m\u001b[K__pyx_pf_12DataIterator_11BPRIterator_6__next__\u001b[m\u001b[K’:\r\n",
      "\u001b[01m\u001b[KDataIterator.c:23056:22:\u001b[m\u001b[K \u001b[01;35m\u001b[Kwarning: \u001b[m\u001b[K‘\u001b[01m\u001b[K__pyx_v_i_batch\u001b[m\u001b[K’ may be used uninitialized in this function [\u001b[01;35m\u001b[K\u001b]8;;https://gcc.gnu.org/onlinedocs/gcc/Warning-Options.html#index-Wmaybe-uninitialized\u0007-Wmaybe-uninitialized\u001b]8;;\u0007\u001b[m\u001b[K]\r\n",
      "23056 |     (__pyx_v_i_batch \u001b[01;35m\u001b[K+\u001b[m\u001b[K 1),\r\n",
      "      |                      \u001b[01;35m\u001b[K^\u001b[m\u001b[K\r\n",
      "/usr/local/lib/python3.10/dist-packages/Cython/Compiler/Main.py:381: FutureWarning: Cython directive 'language_level' not set, using '3str' for now (Py3). This has changed from earlier releases! File: /kaggle/working/RECsys_Challenge2024/Utils/PyTorch/Cython/DataIterator.pyx\r\n",
      "  tree = Parsing.p_module(s, pxd, full_module_name)\r\n",
      "Compiling [11/11]: DataIterator.pyx... PASS\r\n",
      "\r\n",
      "run_compile_all_cython: Compilation finished. FAILS 2/11.\r\n",
      "Compilation log can be found here: './result_experiments/run_compile_all_cython.txt'\r\n"
     ]
    }
   ],
   "source": [
    "%cd /kaggle/working/RECsys_Challenge2024 \n",
    "! python run_compile_all_cython.py"
   ]
  },
  {
   "cell_type": "code",
   "execution_count": 5,
   "id": "fdfca3d3",
   "metadata": {
    "execution": {
     "iopub.execute_input": "2025-01-05T10:38:22.574848Z",
     "iopub.status.busy": "2025-01-05T10:38:22.574457Z",
     "iopub.status.idle": "2025-01-05T10:38:24.092976Z",
     "shell.execute_reply": "2025-01-05T10:38:24.091893Z"
    },
    "papermill": {
     "duration": 1.535874,
     "end_time": "2025-01-05T10:38:24.094908",
     "exception": false,
     "start_time": "2025-01-05T10:38:22.559034",
     "status": "completed"
    },
    "tags": []
   },
   "outputs": [],
   "source": [
    "from Utils.notebookFunctions import *\n",
    "import numpy as np\n",
    "import pandas as pd\n",
    "import scipy.sparse as sps\n",
    "import time\n",
    "import shutil\n",
    "import optuna\n",
    "import json\n",
    "import os\n",
    "from Utils.seconds_to_biggest_unit import seconds_to_biggest_unit\n",
    "\n",
    "\n",
    "K_PATH = '/kaggle/working/RECsys_Challenge2024'\n",
    "GH_PATH = 'TrainedModels/WithKFCV/KNN'\n",
    "\n",
    "np.random.seed(42)"
   ]
  },
  {
   "cell_type": "markdown",
   "id": "e62757dd",
   "metadata": {
    "papermill": {
     "duration": 0.013964,
     "end_time": "2025-01-05T10:38:24.123455",
     "exception": false,
     "start_time": "2025-01-05T10:38:24.109491",
     "status": "completed"
    },
    "tags": []
   },
   "source": [
    "## Import the repository **RECsys_Challenge2024**"
   ]
  },
  {
   "cell_type": "code",
   "execution_count": 6,
   "id": "4c4e73d7",
   "metadata": {
    "execution": {
     "iopub.execute_input": "2025-01-05T10:38:24.153236Z",
     "iopub.status.busy": "2025-01-05T10:38:24.152488Z",
     "iopub.status.idle": "2025-01-05T10:38:24.335203Z",
     "shell.execute_reply": "2025-01-05T10:38:24.334232Z"
    },
    "papermill": {
     "duration": 0.199151,
     "end_time": "2025-01-05T10:38:24.336802",
     "exception": false,
     "start_time": "2025-01-05T10:38:24.137651",
     "status": "completed"
    },
    "tags": []
   },
   "outputs": [
    {
     "name": "stdout",
     "output_type": "stream",
     "text": [
      "Repository 'RECsys_Challenge2024' found.\n"
     ]
    }
   ],
   "source": [
    "repo = get_repo_from_github(token)"
   ]
  },
  {
   "cell_type": "code",
   "execution_count": 7,
   "id": "8cc150fb",
   "metadata": {
    "execution": {
     "iopub.execute_input": "2025-01-05T10:38:24.366274Z",
     "iopub.status.busy": "2025-01-05T10:38:24.365901Z",
     "iopub.status.idle": "2025-01-05T10:38:24.370126Z",
     "shell.execute_reply": "2025-01-05T10:38:24.369280Z"
    },
    "papermill": {
     "duration": 0.020747,
     "end_time": "2025-01-05T10:38:24.371716",
     "exception": false,
     "start_time": "2025-01-05T10:38:24.350969",
     "status": "completed"
    },
    "tags": []
   },
   "outputs": [],
   "source": [
    "config = {\n",
    "    'model': 'ItemKNNCF',\n",
    "    'n_folds': 5,\n",
    "    'metric': 'Recall',\n",
    "    'tune_parameters': True,\n",
    "    'database_path': '/kaggle/working/history_ItemKNNCF_Recall.db',\n",
    "    'copy_prev_best_params': False,\n",
    "    'tune_best_params': True,\n",
    "    'save_github': True\n",
    "}"
   ]
  },
  {
   "cell_type": "markdown",
   "id": "011fb5f1",
   "metadata": {
    "papermill": {
     "duration": 0.013534,
     "end_time": "2025-01-05T10:38:24.399255",
     "exception": false,
     "start_time": "2025-01-05T10:38:24.385721",
     "status": "completed"
    },
    "tags": []
   },
   "source": [
    "Import the database where previous tuning trials have been saved."
   ]
  },
  {
   "cell_type": "code",
   "execution_count": 8,
   "id": "a984747c",
   "metadata": {
    "execution": {
     "iopub.execute_input": "2025-01-05T10:38:24.428644Z",
     "iopub.status.busy": "2025-01-05T10:38:24.428271Z",
     "iopub.status.idle": "2025-01-05T10:38:24.433231Z",
     "shell.execute_reply": "2025-01-05T10:38:24.432420Z"
    },
    "papermill": {
     "duration": 0.021276,
     "end_time": "2025-01-05T10:38:24.434786",
     "exception": false,
     "start_time": "2025-01-05T10:38:24.413510",
     "status": "completed"
    },
    "tags": []
   },
   "outputs": [],
   "source": [
    "try:\n",
    "    shutil.copyfile(\n",
    "        f'{K_PATH}/{GH_PATH}/{config[\"model\"]}Recommender/Optimizing{config[\"metric\"]}/history_{config[\"model\"]}_{config[\"metric\"]}.db', \n",
    "        config['database_path']\n",
    "    )\n",
    "except FileNotFoundError:\n",
    "    pass # if not present optuna will create it"
   ]
  },
  {
   "cell_type": "markdown",
   "id": "b5ecd051",
   "metadata": {
    "papermill": {
     "duration": 0.013483,
     "end_time": "2025-01-05T10:38:24.462376",
     "exception": false,
     "start_time": "2025-01-05T10:38:24.448893",
     "status": "completed"
    },
    "tags": []
   },
   "source": [
    "# Construction of URM and ICM matrices"
   ]
  },
  {
   "cell_type": "code",
   "execution_count": 9,
   "id": "5580d607",
   "metadata": {
    "execution": {
     "iopub.execute_input": "2025-01-05T10:38:24.491648Z",
     "iopub.status.busy": "2025-01-05T10:38:24.491278Z",
     "iopub.status.idle": "2025-01-05T10:38:25.287532Z",
     "shell.execute_reply": "2025-01-05T10:38:25.286304Z"
    },
    "papermill": {
     "duration": 0.813323,
     "end_time": "2025-01-05T10:38:25.289778",
     "exception": false,
     "start_time": "2025-01-05T10:38:24.476455",
     "status": "completed"
    },
    "tags": []
   },
   "outputs": [
    {
     "data": {
      "text/plain": [
       "<35736x38121 sparse matrix of type '<class 'numpy.float64'>'\n",
       "\twith 1764607 stored elements in Compressed Sparse Row format>"
      ]
     },
     "execution_count": 9,
     "metadata": {},
     "output_type": "execute_result"
    }
   ],
   "source": [
    "URM_all_dataframe = pd.read_csv(\"/kaggle/input/recommender-system-2024-challenge-polimi/data_train.csv\")\n",
    "\n",
    "n_users = len(URM_all_dataframe[\"user_id\"].unique())\n",
    "n_items = len(URM_all_dataframe[\"item_id\"].unique())\n",
    "\n",
    "URM_all = sps.csr_matrix((URM_all_dataframe[\"data\"].values, \n",
    "                          (URM_all_dataframe[\"user_id\"].values, URM_all_dataframe[\"item_id\"].values)),\n",
    "                        shape = (n_users, n_items))\n",
    "\n",
    "URM_all"
   ]
  },
  {
   "cell_type": "code",
   "execution_count": 10,
   "id": "ea94ee8e",
   "metadata": {
    "execution": {
     "iopub.execute_input": "2025-01-05T10:38:25.332572Z",
     "iopub.status.busy": "2025-01-05T10:38:25.332142Z",
     "iopub.status.idle": "2025-01-05T10:38:26.541268Z",
     "shell.execute_reply": "2025-01-05T10:38:26.540337Z"
    },
    "papermill": {
     "duration": 1.231782,
     "end_time": "2025-01-05T10:38:26.542863",
     "exception": false,
     "start_time": "2025-01-05T10:38:25.311081",
     "status": "completed"
    },
    "tags": []
   },
   "outputs": [
    {
     "data": {
      "text/plain": [
       "<38121x94331 sparse matrix of type '<class 'numpy.float64'>'\n",
       "\twith 2940040 stored elements in Compressed Sparse Row format>"
      ]
     },
     "execution_count": 10,
     "metadata": {},
     "output_type": "execute_result"
    }
   ],
   "source": [
    "ICM_dataframe = pd.read_csv(\"/kaggle/input/recommender-system-2024-challenge-polimi/data_ICM_metadata.csv\")\n",
    "\n",
    "n_items = len(ICM_dataframe[\"item_id\"].unique())\n",
    "n_features = len(ICM_dataframe[\"feature_id\"].unique())\n",
    "\n",
    "ICM_all = sps.csr_matrix((ICM_dataframe[\"data\"].values, \n",
    "                          (ICM_dataframe[\"item_id\"].values, ICM_dataframe[\"feature_id\"].values)),\n",
    "                        shape = (n_items, n_features))\n",
    "\n",
    "ICM_all"
   ]
  },
  {
   "cell_type": "markdown",
   "id": "b8b5ec13",
   "metadata": {
    "papermill": {
     "duration": 0.015283,
     "end_time": "2025-01-05T10:38:26.572904",
     "exception": false,
     "start_time": "2025-01-05T10:38:26.557621",
     "status": "completed"
    },
    "tags": []
   },
   "source": [
    "# Training"
   ]
  },
  {
   "cell_type": "code",
   "execution_count": 11,
   "id": "d4d86f67",
   "metadata": {
    "execution": {
     "iopub.execute_input": "2025-01-05T10:38:26.602661Z",
     "iopub.status.busy": "2025-01-05T10:38:26.602314Z",
     "iopub.status.idle": "2025-01-05T10:38:43.841806Z",
     "shell.execute_reply": "2025-01-05T10:38:43.840740Z"
    },
    "papermill": {
     "duration": 17.256864,
     "end_time": "2025-01-05T10:38:43.843974",
     "exception": false,
     "start_time": "2025-01-05T10:38:26.587110",
     "status": "completed"
    },
    "tags": []
   },
   "outputs": [
    {
     "name": "stdout",
     "output_type": "stream",
     "text": [
      "Warning: 141 (0.39 %) of 35736 users have no sampled items\n"
     ]
    }
   ],
   "source": [
    "from Evaluation.Evaluator import EvaluatorHoldout\n",
    "from Data_manager.split_functions.split_train_validation_random_holdout import split_train_in_two_percentage_global_sample\n",
    "from Data_manager.split_functions.split_train_k_folds import split_train_k_folds\n",
    "\n",
    "URM_train, URM_validation = split_train_in_two_percentage_global_sample(URM_all, train_percentage = 0.80)\n",
    "\n",
    "folds = split_train_k_folds(URM_all, k=config['n_folds'])"
   ]
  },
  {
   "cell_type": "code",
   "execution_count": 12,
   "id": "f1cc0ce5",
   "metadata": {
    "execution": {
     "iopub.execute_input": "2025-01-05T10:38:43.875132Z",
     "iopub.status.busy": "2025-01-05T10:38:43.874773Z",
     "iopub.status.idle": "2025-01-05T10:38:43.891589Z",
     "shell.execute_reply": "2025-01-05T10:38:43.890530Z"
    },
    "papermill": {
     "duration": 0.034119,
     "end_time": "2025-01-05T10:38:43.893314",
     "exception": false,
     "start_time": "2025-01-05T10:38:43.859195",
     "status": "completed"
    },
    "tags": []
   },
   "outputs": [],
   "source": [
    "from Recommenders.KNN.ItemKNNCFRecommender import ItemKNNCFRecommender\n",
    "\n",
    "def objective_function_ItemKNNCF(optuna_trial):\n",
    "    \n",
    "    recommender_instance = ItemKNNCFRecommender(URM_train)\n",
    "    similarity = optuna_trial.suggest_categorical(\"similarity\", ['cosine', 'dice', 'jaccard', 'asymmetric', 'tversky', 'euclidean'])\n",
    "    \n",
    "    full_hyperp = {\"similarity\": similarity,\n",
    "                   \"topK\": optuna_trial.suggest_int(\"topK\", 0, 750),\n",
    "                   \"shrink\": optuna_trial.suggest_int(\"shrink\", 0, 1000),\n",
    "                   'feature_weighting': optuna_trial.suggest_categorical('feature_weighting', [\"BM25\", \"TF-IDF\", \"none\"])\n",
    "                  }\n",
    "    \n",
    "    if similarity == \"asymmetric\":\n",
    "        full_hyperp[\"asymmetric_alpha\"] = optuna_trial.suggest_float(\"asymmetric_alpha\", 0, 2, log=False)\n",
    "        full_hyperp[\"normalize\"] = True     \n",
    "\n",
    "    elif similarity == \"tversky\":\n",
    "        full_hyperp[\"tversky_alpha\"] = optuna_trial.suggest_float(\"tversky_alpha\", 0, 2, log=False)\n",
    "        full_hyperp[\"tversky_beta\"] = optuna_trial.suggest_float(\"tversky_beta\", 0, 2, log=False)\n",
    "        full_hyperp[\"normalize\"] = True \n",
    "\n",
    "    elif similarity == \"euclidean\":\n",
    "        full_hyperp[\"normalize_avg_row\"] = optuna_trial.suggest_categorical(\"normalize_avg_row\", [True, False])\n",
    "        full_hyperp[\"similarity_from_distance_mode\"] = optuna_trial.suggest_categorical(\"similarity_from_distance_mode\", [\"lin\", \"log\", \"exp\"])\n",
    "        full_hyperp[\"normalize\"] = optuna_trial.suggest_categorical(\"normalize\", [True, False])\n",
    "        \n",
    "    \n",
    "    validation_results = []\n",
    "    \n",
    "    for fold_idx, (URM_train_fold, URM_validation_fold) in enumerate(folds):\n",
    "    \n",
    "        recommender_instance = ItemKNNCFRecommender(URM_train_fold)\n",
    "        recommender_instance.fit(**full_hyperp)\n",
    "        \n",
    "        evaluator = EvaluatorHoldout(URM_validation_fold, cutoff_list=[50])\n",
    "        result_df, _ = evaluator.evaluateRecommender(recommender_instance)\n",
    "        \n",
    "        validation_results.append(result_df.loc[50][\"RECALL\"])\n",
    "    \n",
    "    return np.mean(validation_results)"
   ]
  },
  {
   "cell_type": "code",
   "execution_count": 13,
   "id": "e66b542a",
   "metadata": {
    "_kg_hide-output": true,
    "execution": {
     "iopub.execute_input": "2025-01-05T10:38:43.923123Z",
     "iopub.status.busy": "2025-01-05T10:38:43.922782Z",
     "iopub.status.idle": "2025-01-05T17:29:24.179031Z",
     "shell.execute_reply": "2025-01-05T17:29:24.178037Z"
    },
    "papermill": {
     "duration": 24640.322666,
     "end_time": "2025-01-05T17:29:24.230494",
     "exception": false,
     "start_time": "2025-01-05T10:38:43.907828",
     "status": "completed"
    },
    "tags": []
   },
   "outputs": [
    {
     "name": "stderr",
     "output_type": "stream",
     "text": [
      "[I 2025-01-05 10:38:44,768] Using an existing study with name 'hyperparameters_tuning_ItemKNNCF_Recall' instead of creating a new one.\n"
     ]
    },
    {
     "name": "stdout",
     "output_type": "stream",
     "text": [
      "Similarity column 38121 (100.0%), 2957.84 column/sec. Elapsed time 12.89 sec\n",
      "EvaluatorHoldout: Ignoring 173 ( 0.5%) Users that have less than 1 test interactions\n",
      "EvaluatorHoldout: Processed 35563 (100.0%) in 34.68 sec. Users per second: 1025\n",
      "Similarity column 38121 (100.0%), 2948.26 column/sec. Elapsed time 12.93 sec\n",
      "EvaluatorHoldout: Ignoring 163 ( 0.5%) Users that have less than 1 test interactions\n",
      "EvaluatorHoldout: Processed 35573 (100.0%) in 34.07 sec. Users per second: 1044\n",
      "Similarity column 38121 (100.0%), 2976.52 column/sec. Elapsed time 12.81 sec\n",
      "EvaluatorHoldout: Ignoring 150 ( 0.4%) Users that have less than 1 test interactions\n",
      "EvaluatorHoldout: Processed 35586 (100.0%) in 34.38 sec. Users per second: 1035\n",
      "Similarity column 38121 (100.0%), 2974.87 column/sec. Elapsed time 12.81 sec\n",
      "EvaluatorHoldout: Ignoring 167 ( 0.5%) Users that have less than 1 test interactions\n",
      "EvaluatorHoldout: Processed 35569 (100.0%) in 34.55 sec. Users per second: 1029\n",
      "Similarity column 38121 (100.0%), 2976.10 column/sec. Elapsed time 12.81 sec\n",
      "EvaluatorHoldout: Ignoring 172 ( 0.5%) Users that have less than 1 test interactions\n",
      "EvaluatorHoldout: Processed 35564 (100.0%) in 34.25 sec. Users per second: 1038\n"
     ]
    },
    {
     "name": "stderr",
     "output_type": "stream",
     "text": [
      "[I 2025-01-05 10:42:42,522] Trial 200 finished with value: 0.26021746435997634 and parameters: {'similarity': 'cosine', 'topK': 24, 'shrink': 341, 'feature_weighting': 'TF-IDF'}. Best is trial 172 with value: 0.26030777685753526.\n"
     ]
    },
    {
     "name": "stdout",
     "output_type": "stream",
     "text": [
      "Similarity column 38121 (100.0%), 2973.87 column/sec. Elapsed time 12.82 sec\n",
      "EvaluatorHoldout: Ignoring 173 ( 0.5%) Users that have less than 1 test interactions\n",
      "EvaluatorHoldout: Processed 35563 (100.0%) in 34.23 sec. Users per second: 1039\n",
      "Similarity column 38121 (100.0%), 2966.80 column/sec. Elapsed time 12.85 sec\n",
      "EvaluatorHoldout: Ignoring 163 ( 0.5%) Users that have less than 1 test interactions\n",
      "EvaluatorHoldout: Processed 35573 (100.0%) in 34.18 sec. Users per second: 1041\n",
      "Similarity column 38121 (100.0%), 2952.92 column/sec. Elapsed time 12.91 sec\n",
      "EvaluatorHoldout: Ignoring 150 ( 0.4%) Users that have less than 1 test interactions\n",
      "EvaluatorHoldout: Processed 35586 (100.0%) in 34.37 sec. Users per second: 1035\n",
      "Similarity column 38121 (100.0%), 2979.76 column/sec. Elapsed time 12.79 sec\n",
      "EvaluatorHoldout: Ignoring 167 ( 0.5%) Users that have less than 1 test interactions\n",
      "EvaluatorHoldout: Processed 35569 (100.0%) in 34.59 sec. Users per second: 1028\n",
      "Similarity column 38121 (100.0%), 2962.02 column/sec. Elapsed time 12.87 sec\n",
      "EvaluatorHoldout: Ignoring 172 ( 0.5%) Users that have less than 1 test interactions\n",
      "EvaluatorHoldout: Processed 35564 (100.0%) in 34.50 sec. Users per second: 1031\n"
     ]
    },
    {
     "name": "stderr",
     "output_type": "stream",
     "text": [
      "[I 2025-01-05 10:46:39,989] Trial 201 finished with value: 0.26026967279496155 and parameters: {'similarity': 'cosine', 'topK': 23, 'shrink': 351, 'feature_weighting': 'TF-IDF'}. Best is trial 172 with value: 0.26030777685753526.\n"
     ]
    },
    {
     "name": "stdout",
     "output_type": "stream",
     "text": [
      "Similarity column 38121 (100.0%), 2984.85 column/sec. Elapsed time 12.77 sec\n",
      "EvaluatorHoldout: Ignoring 173 ( 0.5%) Users that have less than 1 test interactions\n",
      "EvaluatorHoldout: Processed 35563 (100.0%) in 33.26 sec. Users per second: 1069\n",
      "Similarity column 38121 (100.0%), 2961.80 column/sec. Elapsed time 12.87 sec\n",
      "EvaluatorHoldout: Ignoring 163 ( 0.5%) Users that have less than 1 test interactions\n",
      "EvaluatorHoldout: Processed 35573 (100.0%) in 33.15 sec. Users per second: 1073\n",
      "Similarity column 38121 (100.0%), 2983.05 column/sec. Elapsed time 12.78 sec\n",
      "EvaluatorHoldout: Ignoring 150 ( 0.4%) Users that have less than 1 test interactions\n",
      "EvaluatorHoldout: Processed 35586 (100.0%) in 33.33 sec. Users per second: 1068\n",
      "Similarity column 38121 (100.0%), 2947.74 column/sec. Elapsed time 12.93 sec\n",
      "EvaluatorHoldout: Ignoring 167 ( 0.5%) Users that have less than 1 test interactions\n",
      "EvaluatorHoldout: Processed 35569 (100.0%) in 33.29 sec. Users per second: 1068\n",
      "Similarity column 38121 (100.0%), 2979.58 column/sec. Elapsed time 12.79 sec\n",
      "EvaluatorHoldout: Ignoring 172 ( 0.5%) Users that have less than 1 test interactions\n",
      "EvaluatorHoldout: Processed 35564 (100.0%) in 33.40 sec. Users per second: 1065\n"
     ]
    },
    {
     "name": "stderr",
     "output_type": "stream",
     "text": [
      "[I 2025-01-05 10:50:31,853] Trial 202 finished with value: 0.25973168609259234 and parameters: {'similarity': 'cosine', 'topK': 14, 'shrink': 335, 'feature_weighting': 'TF-IDF'}. Best is trial 172 with value: 0.26030777685753526.\n"
     ]
    },
    {
     "name": "stdout",
     "output_type": "stream",
     "text": [
      "Similarity column 38121 (100.0%), 2954.29 column/sec. Elapsed time 12.90 sec\n",
      "EvaluatorHoldout: Ignoring 173 ( 0.5%) Users that have less than 1 test interactions\n",
      "EvaluatorHoldout: Processed 35563 (100.0%) in 35.37 sec. Users per second: 1005\n",
      "Similarity column 38121 (100.0%), 2954.95 column/sec. Elapsed time 12.90 sec\n",
      "EvaluatorHoldout: Ignoring 163 ( 0.5%) Users that have less than 1 test interactions\n",
      "EvaluatorHoldout: Processed 35573 (100.0%) in 35.78 sec. Users per second: 994\n",
      "Similarity column 38121 (100.0%), 2940.34 column/sec. Elapsed time 12.96 sec\n",
      "EvaluatorHoldout: Ignoring 150 ( 0.4%) Users that have less than 1 test interactions\n",
      "EvaluatorHoldout: Processed 35586 (100.0%) in 35.73 sec. Users per second: 996\n",
      "Similarity column 38121 (100.0%), 2952.21 column/sec. Elapsed time 12.91 sec\n",
      "EvaluatorHoldout: Ignoring 167 ( 0.5%) Users that have less than 1 test interactions\n",
      "EvaluatorHoldout: Processed 35569 (100.0%) in 35.64 sec. Users per second: 998\n",
      "Similarity column 38121 (100.0%), 2938.47 column/sec. Elapsed time 12.97 sec\n",
      "EvaluatorHoldout: Ignoring 172 ( 0.5%) Users that have less than 1 test interactions\n",
      "EvaluatorHoldout: Processed 35564 (100.0%) in 35.75 sec. Users per second: 995\n"
     ]
    },
    {
     "name": "stderr",
     "output_type": "stream",
     "text": [
      "[I 2025-01-05 10:54:36,241] Trial 203 finished with value: 0.25956870479820804 and parameters: {'similarity': 'cosine', 'topK': 38, 'shrink': 350, 'feature_weighting': 'TF-IDF'}. Best is trial 172 with value: 0.26030777685753526.\n"
     ]
    },
    {
     "name": "stdout",
     "output_type": "stream",
     "text": [
      "Similarity column 38121 (100.0%), 3492.52 column/sec. Elapsed time 10.92 sec\n",
      "EvaluatorHoldout: Ignoring 173 ( 0.5%) Users that have less than 1 test interactions\n",
      "EvaluatorHoldout: Processed 35563 (100.0%) in 29.54 sec. Users per second: 1204\n",
      "Similarity column 38121 (100.0%), 3457.76 column/sec. Elapsed time 11.02 sec\n",
      "EvaluatorHoldout: Ignoring 163 ( 0.5%) Users that have less than 1 test interactions\n",
      "EvaluatorHoldout: Processed 35573 (100.0%) in 29.37 sec. Users per second: 1211\n",
      "Similarity column 38121 (100.0%), 3475.89 column/sec. Elapsed time 10.97 sec\n",
      "EvaluatorHoldout: Ignoring 150 ( 0.4%) Users that have less than 1 test interactions\n",
      "EvaluatorHoldout: Processed 35586 (100.0%) in 29.16 sec. Users per second: 1221\n",
      "Similarity column 38121 (100.0%), 3472.61 column/sec. Elapsed time 10.98 sec\n",
      "EvaluatorHoldout: Ignoring 167 ( 0.5%) Users that have less than 1 test interactions\n",
      "EvaluatorHoldout: Processed 35569 (100.0%) in 29.58 sec. Users per second: 1202\n",
      "Similarity column 38121 (100.0%), 3498.15 column/sec. Elapsed time 10.90 sec\n",
      "EvaluatorHoldout: Ignoring 172 ( 0.5%) Users that have less than 1 test interactions\n",
      "EvaluatorHoldout: Processed 35564 (100.0%) in 29.19 sec. Users per second: 1218\n"
     ]
    },
    {
     "name": "stderr",
     "output_type": "stream",
     "text": [
      "[I 2025-01-05 10:57:59,124] Trial 204 finished with value: 0.15723541587884352 and parameters: {'similarity': 'cosine', 'topK': 1, 'shrink': 276, 'feature_weighting': 'TF-IDF'}. Best is trial 172 with value: 0.26030777685753526.\n"
     ]
    },
    {
     "name": "stdout",
     "output_type": "stream",
     "text": [
      "Similarity column 38121 (100.0%), 2958.82 column/sec. Elapsed time 12.88 sec\n",
      "EvaluatorHoldout: Ignoring 173 ( 0.5%) Users that have less than 1 test interactions\n",
      "EvaluatorHoldout: Processed 35563 (100.0%) in 34.41 sec. Users per second: 1034\n",
      "Similarity column 38121 (100.0%), 2976.84 column/sec. Elapsed time 12.81 sec\n",
      "EvaluatorHoldout: Ignoring 163 ( 0.5%) Users that have less than 1 test interactions\n",
      "EvaluatorHoldout: Processed 35573 (100.0%) in 34.43 sec. Users per second: 1033\n",
      "Similarity column 38121 (100.0%), 2946.91 column/sec. Elapsed time 12.94 sec\n",
      "EvaluatorHoldout: Ignoring 150 ( 0.4%) Users that have less than 1 test interactions\n",
      "EvaluatorHoldout: Processed 35586 (100.0%) in 34.56 sec. Users per second: 1030\n",
      "Similarity column 38121 (100.0%), 2966.64 column/sec. Elapsed time 12.85 sec\n",
      "EvaluatorHoldout: Ignoring 167 ( 0.5%) Users that have less than 1 test interactions\n",
      "EvaluatorHoldout: Processed 35569 (100.0%) in 34.53 sec. Users per second: 1030\n",
      "Similarity column 38121 (100.0%), 2961.46 column/sec. Elapsed time 12.87 sec\n",
      "EvaluatorHoldout: Ignoring 172 ( 0.5%) Users that have less than 1 test interactions\n",
      "EvaluatorHoldout: Processed 35564 (100.0%) in 34.69 sec. Users per second: 1025\n"
     ]
    },
    {
     "name": "stderr",
     "output_type": "stream",
     "text": [
      "[I 2025-01-05 11:01:57,465] Trial 205 finished with value: 0.2602150234922539 and parameters: {'similarity': 'cosine', 'topK': 24, 'shrink': 321, 'feature_weighting': 'TF-IDF'}. Best is trial 172 with value: 0.26030777685753526.\n"
     ]
    },
    {
     "name": "stdout",
     "output_type": "stream",
     "text": [
      "Similarity column 38121 (100.0%), 2963.40 column/sec. Elapsed time 12.86 sec\n",
      "EvaluatorHoldout: Ignoring 173 ( 0.5%) Users that have less than 1 test interactions\n",
      "EvaluatorHoldout: Processed 35563 (100.0%) in 36.54 sec. Users per second: 973\n",
      "Similarity column 38121 (100.0%), 2936.64 column/sec. Elapsed time 12.98 sec\n",
      "EvaluatorHoldout: Ignoring 163 ( 0.5%) Users that have less than 1 test interactions\n",
      "EvaluatorHoldout: Processed 35573 (100.0%) in 36.67 sec. Users per second: 970\n",
      "Similarity column 38121 (100.0%), 2969.32 column/sec. Elapsed time 12.84 sec\n",
      "EvaluatorHoldout: Ignoring 150 ( 0.4%) Users that have less than 1 test interactions\n",
      "EvaluatorHoldout: Processed 35586 (100.0%) in 36.66 sec. Users per second: 971\n",
      "Similarity column 38121 (100.0%), 2962.68 column/sec. Elapsed time 12.87 sec\n",
      "EvaluatorHoldout: Ignoring 167 ( 0.5%) Users that have less than 1 test interactions\n",
      "EvaluatorHoldout: Processed 35569 (100.0%) in 36.57 sec. Users per second: 973\n",
      "Similarity column 38121 (100.0%), 2952.49 column/sec. Elapsed time 12.91 sec\n",
      "EvaluatorHoldout: Ignoring 172 ( 0.5%) Users that have less than 1 test interactions\n",
      "EvaluatorHoldout: Processed 35564 (100.0%) in 36.69 sec. Users per second: 969\n"
     ]
    },
    {
     "name": "stderr",
     "output_type": "stream",
     "text": [
      "[I 2025-01-05 11:06:06,607] Trial 206 finished with value: 0.2587655274981736 and parameters: {'similarity': 'cosine', 'topK': 53, 'shrink': 315, 'feature_weighting': 'TF-IDF'}. Best is trial 172 with value: 0.26030777685753526.\n"
     ]
    },
    {
     "name": "stdout",
     "output_type": "stream",
     "text": [
      "Similarity column 38121 (100.0%), 2981.55 column/sec. Elapsed time 12.79 sec\n",
      "EvaluatorHoldout: Ignoring 173 ( 0.5%) Users that have less than 1 test interactions\n",
      "EvaluatorHoldout: Processed 35563 (100.0%) in 34.74 sec. Users per second: 1024\n",
      "Similarity column 38121 (100.0%), 2931.66 column/sec. Elapsed time 13.00 sec\n",
      "EvaluatorHoldout: Ignoring 163 ( 0.5%) Users that have less than 1 test interactions\n",
      "EvaluatorHoldout: Processed 35573 (100.0%) in 34.94 sec. Users per second: 1018\n",
      "Similarity column 38121 (100.0%), 2975.25 column/sec. Elapsed time 12.81 sec\n",
      "EvaluatorHoldout: Ignoring 150 ( 0.4%) Users that have less than 1 test interactions\n",
      "EvaluatorHoldout: Processed 35586 (100.0%) in 34.91 sec. Users per second: 1019\n",
      "Similarity column 38121 (100.0%), 2949.81 column/sec. Elapsed time 12.92 sec\n",
      "EvaluatorHoldout: Ignoring 167 ( 0.5%) Users that have less than 1 test interactions\n",
      "EvaluatorHoldout: Processed 35569 (100.0%) in 34.85 sec. Users per second: 1021\n",
      "Similarity column 38121 (100.0%), 2968.92 column/sec. Elapsed time 12.84 sec\n",
      "EvaluatorHoldout: Ignoring 172 ( 0.5%) Users that have less than 1 test interactions\n",
      "EvaluatorHoldout: Processed 35564 (100.0%) in 34.71 sec. Users per second: 1024\n"
     ]
    },
    {
     "name": "stderr",
     "output_type": "stream",
     "text": [
      "[I 2025-01-05 11:10:06,546] Trial 207 finished with value: 0.2601907058553735 and parameters: {'similarity': 'cosine', 'topK': 27, 'shrink': 346, 'feature_weighting': 'TF-IDF'}. Best is trial 172 with value: 0.26030777685753526.\n"
     ]
    },
    {
     "name": "stdout",
     "output_type": "stream",
     "text": [
      "Similarity column 38121 (100.0%), 2944.61 column/sec. Elapsed time 12.95 sec\n",
      "EvaluatorHoldout: Ignoring 173 ( 0.5%) Users that have less than 1 test interactions\n",
      "EvaluatorHoldout: Processed 35563 (100.0%) in 36.90 sec. Users per second: 964\n",
      "Similarity column 38121 (100.0%), 2951.59 column/sec. Elapsed time 12.92 sec\n",
      "EvaluatorHoldout: Ignoring 163 ( 0.5%) Users that have less than 1 test interactions\n",
      "EvaluatorHoldout: Processed 35573 (100.0%) in 36.97 sec. Users per second: 962\n",
      "Similarity column 38121 (100.0%), 2931.34 column/sec. Elapsed time 13.00 sec\n",
      "EvaluatorHoldout: Ignoring 150 ( 0.4%) Users that have less than 1 test interactions\n",
      "EvaluatorHoldout: Processed 35586 (100.0%) in 37.04 sec. Users per second: 961\n",
      "Similarity column 38121 (100.0%), 2940.24 column/sec. Elapsed time 12.97 sec\n",
      "EvaluatorHoldout: Ignoring 167 ( 0.5%) Users that have less than 1 test interactions\n",
      "EvaluatorHoldout: Processed 35569 (100.0%) in 37.25 sec. Users per second: 955\n",
      "Similarity column 38121 (100.0%), 2955.95 column/sec. Elapsed time 12.90 sec\n",
      "EvaluatorHoldout: Ignoring 172 ( 0.5%) Users that have less than 1 test interactions\n",
      "EvaluatorHoldout: Processed 35564 (100.0%) in 37.16 sec. Users per second: 957\n"
     ]
    },
    {
     "name": "stderr",
     "output_type": "stream",
     "text": [
      "[I 2025-01-05 11:14:18,227] Trial 208 finished with value: 0.2579695019688275 and parameters: {'similarity': 'cosine', 'topK': 61, 'shrink': 401, 'feature_weighting': 'TF-IDF'}. Best is trial 172 with value: 0.26030777685753526.\n"
     ]
    },
    {
     "name": "stdout",
     "output_type": "stream",
     "text": [
      "Similarity column 38121 (100.0%), 2967.89 column/sec. Elapsed time 12.84 sec\n",
      "EvaluatorHoldout: Ignoring 173 ( 0.5%) Users that have less than 1 test interactions\n",
      "EvaluatorHoldout: Processed 35563 (100.0%) in 35.28 sec. Users per second: 1008\n",
      "Similarity column 38121 (100.0%), 2962.76 column/sec. Elapsed time 12.87 sec\n",
      "EvaluatorHoldout: Ignoring 163 ( 0.5%) Users that have less than 1 test interactions\n",
      "EvaluatorHoldout: Processed 35573 (100.0%) in 35.38 sec. Users per second: 1005\n",
      "Similarity column 38121 (100.0%), 2944.92 column/sec. Elapsed time 12.94 sec\n",
      "EvaluatorHoldout: Ignoring 150 ( 0.4%) Users that have less than 1 test interactions\n",
      "EvaluatorHoldout: Processed 35586 (100.0%) in 35.39 sec. Users per second: 1005\n",
      "Similarity column 38121 (100.0%), 2960.28 column/sec. Elapsed time 12.88 sec\n",
      "EvaluatorHoldout: Ignoring 167 ( 0.5%) Users that have less than 1 test interactions\n",
      "EvaluatorHoldout: Processed 35569 (100.0%) in 35.34 sec. Users per second: 1006\n",
      "Similarity column 38121 (100.0%), 2929.61 column/sec. Elapsed time 13.01 sec\n",
      "EvaluatorHoldout: Ignoring 172 ( 0.5%) Users that have less than 1 test interactions\n",
      "EvaluatorHoldout: Processed 35564 (100.0%) in 35.26 sec. Users per second: 1009\n"
     ]
    },
    {
     "name": "stderr",
     "output_type": "stream",
     "text": [
      "[I 2025-01-05 11:18:20,892] Trial 209 finished with value: 0.2597590106646209 and parameters: {'similarity': 'cosine', 'topK': 35, 'shrink': 324, 'feature_weighting': 'TF-IDF'}. Best is trial 172 with value: 0.26030777685753526.\n"
     ]
    },
    {
     "name": "stdout",
     "output_type": "stream",
     "text": [
      "Similarity column 38121 (100.0%), 2977.24 column/sec. Elapsed time 12.80 sec\n",
      "EvaluatorHoldout: Ignoring 173 ( 0.5%) Users that have less than 1 test interactions\n",
      "EvaluatorHoldout: Processed 35563 (100.0%) in 34.75 sec. Users per second: 1023\n",
      "Similarity column 38121 (100.0%), 2954.67 column/sec. Elapsed time 12.90 sec\n",
      "EvaluatorHoldout: Ignoring 163 ( 0.5%) Users that have less than 1 test interactions\n",
      "EvaluatorHoldout: Processed 35573 (100.0%) in 34.83 sec. Users per second: 1021\n",
      "Similarity column 38121 (100.0%), 2954.33 column/sec. Elapsed time 12.90 sec\n",
      "EvaluatorHoldout: Ignoring 150 ( 0.4%) Users that have less than 1 test interactions\n",
      "EvaluatorHoldout: Processed 35586 (100.0%) in 34.77 sec. Users per second: 1024\n",
      "Similarity column 38121 (100.0%), 2949.67 column/sec. Elapsed time 12.92 sec\n",
      "EvaluatorHoldout: Ignoring 167 ( 0.5%) Users that have less than 1 test interactions\n",
      "EvaluatorHoldout: Processed 35569 (100.0%) in 34.78 sec. Users per second: 1023\n",
      "Similarity column 38121 (100.0%), 2963.42 column/sec. Elapsed time 12.86 sec\n",
      "EvaluatorHoldout: Ignoring 172 ( 0.5%) Users that have less than 1 test interactions\n",
      "EvaluatorHoldout: Processed 35564 (100.0%) in 35.10 sec. Users per second: 1013\n"
     ]
    },
    {
     "name": "stderr",
     "output_type": "stream",
     "text": [
      "[I 2025-01-05 11:22:20,978] Trial 210 finished with value: 0.26020274354136347 and parameters: {'similarity': 'cosine', 'topK': 27, 'shrink': 344, 'feature_weighting': 'TF-IDF'}. Best is trial 172 with value: 0.26030777685753526.\n"
     ]
    },
    {
     "name": "stdout",
     "output_type": "stream",
     "text": [
      "Similarity column 38121 (100.0%), 2953.34 column/sec. Elapsed time 12.91 sec\n",
      "EvaluatorHoldout: Ignoring 173 ( 0.5%) Users that have less than 1 test interactions\n",
      "EvaluatorHoldout: Processed 35563 (100.0%) in 34.53 sec. Users per second: 1030\n",
      "Similarity column 38121 (100.0%), 2986.64 column/sec. Elapsed time 12.76 sec\n",
      "EvaluatorHoldout: Ignoring 163 ( 0.5%) Users that have less than 1 test interactions\n",
      "EvaluatorHoldout: Processed 35573 (100.0%) in 34.80 sec. Users per second: 1022\n",
      "Similarity column 38121 (100.0%), 2944.22 column/sec. Elapsed time 12.95 sec\n",
      "EvaluatorHoldout: Ignoring 150 ( 0.4%) Users that have less than 1 test interactions\n",
      "EvaluatorHoldout: Processed 35586 (100.0%) in 34.68 sec. Users per second: 1026\n",
      "Similarity column 38121 (100.0%), 2954.57 column/sec. Elapsed time 12.90 sec\n",
      "EvaluatorHoldout: Ignoring 167 ( 0.5%) Users that have less than 1 test interactions\n",
      "EvaluatorHoldout: Processed 35569 (100.0%) in 34.67 sec. Users per second: 1026\n",
      "Similarity column 38121 (100.0%), 2927.51 column/sec. Elapsed time 13.02 sec\n",
      "EvaluatorHoldout: Ignoring 172 ( 0.5%) Users that have less than 1 test interactions\n",
      "EvaluatorHoldout: Processed 35564 (100.0%) in 34.95 sec. Users per second: 1018\n"
     ]
    },
    {
     "name": "stderr",
     "output_type": "stream",
     "text": [
      "[I 2025-01-05 11:26:20,552] Trial 211 finished with value: 0.26021746435997634 and parameters: {'similarity': 'cosine', 'topK': 24, 'shrink': 341, 'feature_weighting': 'TF-IDF'}. Best is trial 172 with value: 0.26030777685753526.\n"
     ]
    },
    {
     "name": "stdout",
     "output_type": "stream",
     "text": [
      "Similarity column 38121 (100.0%), 2946.09 column/sec. Elapsed time 12.94 sec\n",
      "EvaluatorHoldout: Ignoring 173 ( 0.5%) Users that have less than 1 test interactions\n",
      "EvaluatorHoldout: Processed 35563 (100.0%) in 36.02 sec. Users per second: 987\n",
      "Similarity column 38121 (100.0%), 2919.02 column/sec. Elapsed time 13.06 sec\n",
      "EvaluatorHoldout: Ignoring 163 ( 0.5%) Users that have less than 1 test interactions\n",
      "EvaluatorHoldout: Processed 35573 (100.0%) in 36.06 sec. Users per second: 986\n",
      "Similarity column 38121 (100.0%), 2922.68 column/sec. Elapsed time 13.04 sec\n",
      "EvaluatorHoldout: Ignoring 150 ( 0.4%) Users that have less than 1 test interactions\n",
      "EvaluatorHoldout: Processed 35586 (100.0%) in 35.88 sec. Users per second: 992\n",
      "Similarity column 38121 (100.0%), 2946.61 column/sec. Elapsed time 12.94 sec\n",
      "EvaluatorHoldout: Ignoring 167 ( 0.5%) Users that have less than 1 test interactions\n",
      "EvaluatorHoldout: Processed 35569 (100.0%) in 36.00 sec. Users per second: 988\n",
      "Similarity column 38121 (100.0%), 2927.71 column/sec. Elapsed time 13.02 sec\n",
      "EvaluatorHoldout: Ignoring 172 ( 0.5%) Users that have less than 1 test interactions\n",
      "EvaluatorHoldout: Processed 35564 (100.0%) in 36.18 sec. Users per second: 983\n"
     ]
    },
    {
     "name": "stderr",
     "output_type": "stream",
     "text": [
      "[I 2025-01-05 11:30:27,347] Trial 212 finished with value: 0.25918609774315415 and parameters: {'similarity': 'cosine', 'topK': 43, 'shrink': 293, 'feature_weighting': 'TF-IDF'}. Best is trial 172 with value: 0.26030777685753526.\n"
     ]
    },
    {
     "name": "stdout",
     "output_type": "stream",
     "text": [
      "Similarity column 38121 (100.0%), 2983.02 column/sec. Elapsed time 12.78 sec\n",
      "EvaluatorHoldout: Ignoring 173 ( 0.5%) Users that have less than 1 test interactions\n",
      "EvaluatorHoldout: Processed 35563 (100.0%) in 34.49 sec. Users per second: 1031\n",
      "Similarity column 38121 (100.0%), 2929.79 column/sec. Elapsed time 13.01 sec\n",
      "EvaluatorHoldout: Ignoring 163 ( 0.5%) Users that have less than 1 test interactions\n",
      "EvaluatorHoldout: Processed 35573 (100.0%) in 34.87 sec. Users per second: 1020\n",
      "Similarity column 38121 (100.0%), 2943.71 column/sec. Elapsed time 12.95 sec\n",
      "EvaluatorHoldout: Ignoring 150 ( 0.4%) Users that have less than 1 test interactions\n",
      "EvaluatorHoldout: Processed 35586 (100.0%) in 34.69 sec. Users per second: 1026\n",
      "Similarity column 38121 (100.0%), 2935.50 column/sec. Elapsed time 12.99 sec\n",
      "EvaluatorHoldout: Ignoring 167 ( 0.5%) Users that have less than 1 test interactions\n",
      "EvaluatorHoldout: Processed 35569 (100.0%) in 34.85 sec. Users per second: 1021\n",
      "Similarity column 38121 (100.0%), 2873.23 column/sec. Elapsed time 13.27 sec\n",
      "EvaluatorHoldout: Ignoring 172 ( 0.5%) Users that have less than 1 test interactions\n",
      "EvaluatorHoldout: Processed 35564 (100.0%) in 34.67 sec. Users per second: 1026\n"
     ]
    },
    {
     "name": "stderr",
     "output_type": "stream",
     "text": [
      "[I 2025-01-05 11:34:27,342] Trial 213 finished with value: 0.2602304128932977 and parameters: {'similarity': 'cosine', 'topK': 24, 'shrink': 342, 'feature_weighting': 'TF-IDF'}. Best is trial 172 with value: 0.26030777685753526.\n"
     ]
    },
    {
     "name": "stdout",
     "output_type": "stream",
     "text": [
      "Similarity column 38121 (100.0%), 3824.69 column/sec. Elapsed time 9.97 sec\n",
      "EvaluatorHoldout: Ignoring 173 ( 0.5%) Users that have less than 1 test interactions\n",
      "EvaluatorHoldout: Processed 35563 (100.0%) in 26.00 sec. Users per second: 1368\n",
      "Similarity column 38121 (100.0%), 3775.19 column/sec. Elapsed time 10.10 sec\n",
      "EvaluatorHoldout: Ignoring 163 ( 0.5%) Users that have less than 1 test interactions\n",
      "EvaluatorHoldout: Processed 35573 (100.0%) in 26.25 sec. Users per second: 1355\n",
      "Similarity column 38121 (100.0%), 3788.86 column/sec. Elapsed time 10.06 sec\n",
      "EvaluatorHoldout: Ignoring 150 ( 0.4%) Users that have less than 1 test interactions\n",
      "EvaluatorHoldout: Processed 35586 (100.0%) in 26.15 sec. Users per second: 1361\n",
      "Similarity column 38121 (100.0%), 3809.74 column/sec. Elapsed time 10.01 sec\n",
      "EvaluatorHoldout: Ignoring 167 ( 0.5%) Users that have less than 1 test interactions\n",
      "EvaluatorHoldout: Processed 35569 (100.0%) in 26.33 sec. Users per second: 1351\n",
      "Similarity column 38121 (100.0%), 3804.71 column/sec. Elapsed time 10.02 sec\n",
      "EvaluatorHoldout: Ignoring 172 ( 0.5%) Users that have less than 1 test interactions\n",
      "EvaluatorHoldout: Processed 35564 (100.0%) in 26.00 sec. Users per second: 1368\n"
     ]
    },
    {
     "name": "stderr",
     "output_type": "stream",
     "text": [
      "[I 2025-01-05 11:37:29,475] Trial 214 finished with value: 0.0055265346604531345 and parameters: {'similarity': 'cosine', 'topK': 0, 'shrink': 344, 'feature_weighting': 'TF-IDF'}. Best is trial 172 with value: 0.26030777685753526.\n"
     ]
    },
    {
     "name": "stdout",
     "output_type": "stream",
     "text": [
      "Similarity column 38121 (100.0%), 2988.59 column/sec. Elapsed time 12.76 sec\n",
      "EvaluatorHoldout: Ignoring 173 ( 0.5%) Users that have less than 1 test interactions\n",
      "EvaluatorHoldout: Processed 35563 (100.0%) in 34.00 sec. Users per second: 1046\n",
      "Similarity column 38121 (100.0%), 2972.71 column/sec. Elapsed time 12.82 sec\n",
      "EvaluatorHoldout: Ignoring 163 ( 0.5%) Users that have less than 1 test interactions\n",
      "EvaluatorHoldout: Processed 35573 (100.0%) in 33.89 sec. Users per second: 1050\n",
      "Similarity column 38121 (100.0%), 2987.62 column/sec. Elapsed time 12.76 sec\n",
      "EvaluatorHoldout: Ignoring 150 ( 0.4%) Users that have less than 1 test interactions\n",
      "EvaluatorHoldout: Processed 35586 (100.0%) in 34.02 sec. Users per second: 1046\n",
      "Similarity column 38121 (100.0%), 2972.20 column/sec. Elapsed time 12.83 sec\n",
      "EvaluatorHoldout: Ignoring 167 ( 0.5%) Users that have less than 1 test interactions\n",
      "EvaluatorHoldout: Processed 35569 (100.0%) in 34.36 sec. Users per second: 1035\n",
      "Similarity column 38121 (100.0%), 2984.25 column/sec. Elapsed time 12.77 sec\n",
      "EvaluatorHoldout: Ignoring 172 ( 0.5%) Users that have less than 1 test interactions\n",
      "EvaluatorHoldout: Processed 35564 (100.0%) in 33.77 sec. Users per second: 1053\n"
     ]
    },
    {
     "name": "stderr",
     "output_type": "stream",
     "text": [
      "[I 2025-01-05 11:41:24,809] Trial 215 finished with value: 0.2600048907447058 and parameters: {'similarity': 'cosine', 'topK': 17, 'shrink': 315, 'feature_weighting': 'TF-IDF'}. Best is trial 172 with value: 0.26030777685753526.\n"
     ]
    },
    {
     "name": "stdout",
     "output_type": "stream",
     "text": [
      "Similarity column 38121 (100.0%), 2946.79 column/sec. Elapsed time 12.94 sec\n",
      "EvaluatorHoldout: Ignoring 173 ( 0.5%) Users that have less than 1 test interactions\n",
      "EvaluatorHoldout: Processed 35563 (100.0%) in 36.16 sec. Users per second: 983\n",
      "Similarity column 38121 (100.0%), 2950.98 column/sec. Elapsed time 12.92 sec\n",
      "EvaluatorHoldout: Ignoring 163 ( 0.5%) Users that have less than 1 test interactions\n",
      "EvaluatorHoldout: Processed 35573 (100.0%) in 36.29 sec. Users per second: 980\n",
      "Similarity column 38121 (100.0%), 2956.06 column/sec. Elapsed time 12.90 sec\n",
      "EvaluatorHoldout: Ignoring 150 ( 0.4%) Users that have less than 1 test interactions\n",
      "EvaluatorHoldout: Processed 35586 (100.0%) in 36.28 sec. Users per second: 981\n",
      "Similarity column 38121 (100.0%), 2915.42 column/sec. Elapsed time 13.08 sec\n",
      "EvaluatorHoldout: Ignoring 167 ( 0.5%) Users that have less than 1 test interactions\n",
      "EvaluatorHoldout: Processed 35569 (100.0%) in 36.18 sec. Users per second: 983\n",
      "Similarity column 38121 (100.0%), 2930.91 column/sec. Elapsed time 13.01 sec\n",
      "EvaluatorHoldout: Ignoring 172 ( 0.5%) Users that have less than 1 test interactions\n",
      "EvaluatorHoldout: Processed 35564 (100.0%) in 36.54 sec. Users per second: 973\n"
     ]
    },
    {
     "name": "stderr",
     "output_type": "stream",
     "text": [
      "[I 2025-01-05 11:45:32,643] Trial 216 finished with value: 0.25898286532965625 and parameters: {'similarity': 'cosine', 'topK': 47, 'shrink': 339, 'feature_weighting': 'TF-IDF'}. Best is trial 172 with value: 0.26030777685753526.\n"
     ]
    },
    {
     "name": "stdout",
     "output_type": "stream",
     "text": [
      "Similarity column 38121 (100.0%), 2941.24 column/sec. Elapsed time 12.96 sec\n",
      "EvaluatorHoldout: Ignoring 173 ( 0.5%) Users that have less than 1 test interactions\n",
      "EvaluatorHoldout: Processed 35563 (100.0%) in 35.22 sec. Users per second: 1010\n",
      "Similarity column 38121 (100.0%), 2964.15 column/sec. Elapsed time 12.86 sec\n",
      "EvaluatorHoldout: Ignoring 163 ( 0.5%) Users that have less than 1 test interactions\n",
      "EvaluatorHoldout: Processed 35573 (100.0%) in 35.08 sec. Users per second: 1014\n",
      "Similarity column 38121 (100.0%), 2951.06 column/sec. Elapsed time 12.92 sec\n",
      "EvaluatorHoldout: Ignoring 150 ( 0.4%) Users that have less than 1 test interactions\n",
      "EvaluatorHoldout: Processed 35586 (100.0%) in 35.09 sec. Users per second: 1014\n",
      "Similarity column 38121 (100.0%), 2967.89 column/sec. Elapsed time 12.84 sec\n",
      "EvaluatorHoldout: Ignoring 167 ( 0.5%) Users that have less than 1 test interactions\n",
      "EvaluatorHoldout: Processed 35569 (100.0%) in 35.10 sec. Users per second: 1013\n",
      "Similarity column 38121 (100.0%), 2956.97 column/sec. Elapsed time 12.89 sec\n",
      "EvaluatorHoldout: Ignoring 172 ( 0.5%) Users that have less than 1 test interactions\n",
      "EvaluatorHoldout: Processed 35564 (100.0%) in 35.11 sec. Users per second: 1013\n"
     ]
    },
    {
     "name": "stderr",
     "output_type": "stream",
     "text": [
      "[I 2025-01-05 11:49:34,162] Trial 217 finished with value: 0.26003591850712676 and parameters: {'similarity': 'cosine', 'topK': 30, 'shrink': 286, 'feature_weighting': 'TF-IDF'}. Best is trial 172 with value: 0.26030777685753526.\n"
     ]
    },
    {
     "name": "stdout",
     "output_type": "stream",
     "text": [
      "Similarity column 38121 (100.0%), 2961.68 column/sec. Elapsed time 12.87 sec\n",
      "EvaluatorHoldout: Ignoring 173 ( 0.5%) Users that have less than 1 test interactions\n",
      "EvaluatorHoldout: Processed 35563 (100.0%) in 33.63 sec. Users per second: 1058\n",
      "Similarity column 38121 (100.0%), 2928.76 column/sec. Elapsed time 13.02 sec\n",
      "EvaluatorHoldout: Ignoring 163 ( 0.5%) Users that have less than 1 test interactions\n",
      "EvaluatorHoldout: Processed 35573 (100.0%) in 33.60 sec. Users per second: 1059\n",
      "Similarity column 38121 (100.0%), 2969.17 column/sec. Elapsed time 12.84 sec\n",
      "EvaluatorHoldout: Ignoring 150 ( 0.4%) Users that have less than 1 test interactions\n",
      "EvaluatorHoldout: Processed 35586 (100.0%) in 33.51 sec. Users per second: 1062\n",
      "Similarity column 38121 (100.0%), 2960.26 column/sec. Elapsed time 12.88 sec\n",
      "EvaluatorHoldout: Ignoring 167 ( 0.5%) Users that have less than 1 test interactions\n",
      "EvaluatorHoldout: Processed 35569 (100.0%) in 33.46 sec. Users per second: 1063\n",
      "Similarity column 38121 (100.0%), 2967.31 column/sec. Elapsed time 12.85 sec\n",
      "EvaluatorHoldout: Ignoring 172 ( 0.5%) Users that have less than 1 test interactions\n",
      "EvaluatorHoldout: Processed 35564 (100.0%) in 33.47 sec. Users per second: 1063\n"
     ]
    },
    {
     "name": "stderr",
     "output_type": "stream",
     "text": [
      "[I 2025-01-05 11:53:27,625] Trial 218 finished with value: 0.25955447200453297 and parameters: {'similarity': 'cosine', 'topK': 12, 'shrink': 462, 'feature_weighting': 'TF-IDF'}. Best is trial 172 with value: 0.26030777685753526.\n"
     ]
    },
    {
     "name": "stdout",
     "output_type": "stream",
     "text": [
      "Similarity column 38121 (100.0%), 2938.25 column/sec. Elapsed time 12.97 sec\n",
      "EvaluatorHoldout: Ignoring 173 ( 0.5%) Users that have less than 1 test interactions\n",
      "EvaluatorHoldout: Processed 35563 (100.0%) in 36.80 sec. Users per second: 966\n",
      "Similarity column 38121 (100.0%), 2948.02 column/sec. Elapsed time 12.93 sec\n",
      "EvaluatorHoldout: Ignoring 163 ( 0.5%) Users that have less than 1 test interactions\n",
      "EvaluatorHoldout: Processed 35573 (100.0%) in 36.97 sec. Users per second: 962\n",
      "Similarity column 38121 (100.0%), 2958.42 column/sec. Elapsed time 12.89 sec\n",
      "EvaluatorHoldout: Ignoring 150 ( 0.4%) Users that have less than 1 test interactions\n",
      "EvaluatorHoldout: Processed 35586 (100.0%) in 36.89 sec. Users per second: 965\n",
      "Similarity column 38121 (100.0%), 2954.89 column/sec. Elapsed time 12.90 sec\n",
      "EvaluatorHoldout: Ignoring 167 ( 0.5%) Users that have less than 1 test interactions\n",
      "EvaluatorHoldout: Processed 35569 (100.0%) in 37.01 sec. Users per second: 961\n",
      "Similarity column 38121 (100.0%), 2944.45 column/sec. Elapsed time 12.95 sec\n",
      "EvaluatorHoldout: Ignoring 172 ( 0.5%) Users that have less than 1 test interactions\n",
      "EvaluatorHoldout: Processed 35564 (100.0%) in 37.04 sec. Users per second: 960\n"
     ]
    },
    {
     "name": "stderr",
     "output_type": "stream",
     "text": [
      "[I 2025-01-05 11:57:38,548] Trial 219 finished with value: 0.25835700679338836 and parameters: {'similarity': 'cosine', 'topK': 57, 'shrink': 384, 'feature_weighting': 'TF-IDF'}. Best is trial 172 with value: 0.26030777685753526.\n"
     ]
    },
    {
     "name": "stdout",
     "output_type": "stream",
     "text": [
      "Similarity column 38121 (100.0%), 2775.47 column/sec. Elapsed time 13.73 sec\n",
      "EvaluatorHoldout: Ignoring 173 ( 0.5%) Users that have less than 1 test interactions\n",
      "EvaluatorHoldout: Processed 35563 (100.0%) in 36.59 sec. Users per second: 972\n",
      "Similarity column 38121 (100.0%), 2762.45 column/sec. Elapsed time 13.80 sec\n",
      "EvaluatorHoldout: Ignoring 163 ( 0.5%) Users that have less than 1 test interactions\n",
      "EvaluatorHoldout: Processed 35573 (100.0%) in 36.62 sec. Users per second: 971\n",
      "Similarity column 38121 (100.0%), 2758.31 column/sec. Elapsed time 13.82 sec\n",
      "EvaluatorHoldout: Ignoring 150 ( 0.4%) Users that have less than 1 test interactions\n",
      "EvaluatorHoldout: Processed 35586 (100.0%) in 36.27 sec. Users per second: 981\n",
      "Similarity column 38121 (100.0%), 2774.59 column/sec. Elapsed time 13.74 sec\n",
      "EvaluatorHoldout: Ignoring 167 ( 0.5%) Users that have less than 1 test interactions\n",
      "EvaluatorHoldout: Processed 35569 (100.0%) in 36.74 sec. Users per second: 968\n",
      "Similarity column 38121 (100.0%), 2755.11 column/sec. Elapsed time 13.84 sec\n",
      "EvaluatorHoldout: Ignoring 172 ( 0.5%) Users that have less than 1 test interactions\n",
      "EvaluatorHoldout: Processed 35564 (100.0%) in 36.53 sec. Users per second: 974\n"
     ]
    },
    {
     "name": "stderr",
     "output_type": "stream",
     "text": [
      "[I 2025-01-05 12:01:52,582] Trial 220 finished with value: 0.23143347632150107 and parameters: {'similarity': 'tversky', 'topK': 34, 'shrink': 438, 'feature_weighting': 'TF-IDF', 'tversky_alpha': 1.30076447023733, 'tversky_beta': 1.224578477161475}. Best is trial 172 with value: 0.26030777685753526.\n"
     ]
    },
    {
     "name": "stdout",
     "output_type": "stream",
     "text": [
      "Similarity column 38121 (100.0%), 2959.33 column/sec. Elapsed time 12.88 sec\n",
      "EvaluatorHoldout: Ignoring 173 ( 0.5%) Users that have less than 1 test interactions\n",
      "EvaluatorHoldout: Processed 35563 (100.0%) in 34.84 sec. Users per second: 1021\n",
      "Similarity column 38121 (100.0%), 2959.76 column/sec. Elapsed time 12.88 sec\n",
      "EvaluatorHoldout: Ignoring 163 ( 0.5%) Users that have less than 1 test interactions\n",
      "EvaluatorHoldout: Processed 35573 (100.0%) in 34.22 sec. Users per second: 1039\n",
      "Similarity column 38121 (100.0%), 2962.48 column/sec. Elapsed time 12.87 sec\n",
      "EvaluatorHoldout: Ignoring 150 ( 0.4%) Users that have less than 1 test interactions\n",
      "EvaluatorHoldout: Processed 35586 (100.0%) in 34.34 sec. Users per second: 1036\n",
      "Similarity column 38121 (100.0%), 2978.19 column/sec. Elapsed time 12.80 sec\n",
      "EvaluatorHoldout: Ignoring 167 ( 0.5%) Users that have less than 1 test interactions\n",
      "EvaluatorHoldout: Processed 35569 (100.0%) in 34.10 sec. Users per second: 1043\n",
      "Similarity column 38121 (100.0%), 2965.71 column/sec. Elapsed time 12.85 sec\n",
      "EvaluatorHoldout: Ignoring 172 ( 0.5%) Users that have less than 1 test interactions\n",
      "EvaluatorHoldout: Processed 35564 (100.0%) in 34.31 sec. Users per second: 1037\n"
     ]
    },
    {
     "name": "stderr",
     "output_type": "stream",
     "text": [
      "[I 2025-01-05 12:05:50,051] Trial 221 finished with value: 0.2601496975882339 and parameters: {'similarity': 'cosine', 'topK': 22, 'shrink': 346, 'feature_weighting': 'TF-IDF'}. Best is trial 172 with value: 0.26030777685753526.\n"
     ]
    },
    {
     "name": "stdout",
     "output_type": "stream",
     "text": [
      "Similarity column 38121 (100.0%), 2980.73 column/sec. Elapsed time 12.79 sec\n",
      "EvaluatorHoldout: Ignoring 173 ( 0.5%) Users that have less than 1 test interactions\n",
      "EvaluatorHoldout: Processed 35563 (100.0%) in 34.74 sec. Users per second: 1024\n",
      "Similarity column 38121 (100.0%), 2960.29 column/sec. Elapsed time 12.88 sec\n",
      "EvaluatorHoldout: Ignoring 163 ( 0.5%) Users that have less than 1 test interactions\n",
      "EvaluatorHoldout: Processed 35573 (100.0%) in 34.72 sec. Users per second: 1024\n",
      "Similarity column 38121 (100.0%), 2994.35 column/sec. Elapsed time 12.73 sec\n",
      "EvaluatorHoldout: Ignoring 150 ( 0.4%) Users that have less than 1 test interactions\n",
      "EvaluatorHoldout: Processed 35586 (100.0%) in 34.73 sec. Users per second: 1025\n",
      "Similarity column 38121 (100.0%), 2946.19 column/sec. Elapsed time 12.94 sec\n",
      "EvaluatorHoldout: Ignoring 167 ( 0.5%) Users that have less than 1 test interactions\n",
      "EvaluatorHoldout: Processed 35569 (100.0%) in 34.70 sec. Users per second: 1025\n",
      "Similarity column 38121 (100.0%), 2963.37 column/sec. Elapsed time 12.86 sec\n",
      "EvaluatorHoldout: Ignoring 172 ( 0.5%) Users that have less than 1 test interactions\n",
      "EvaluatorHoldout: Processed 35564 (100.0%) in 34.83 sec. Users per second: 1021\n"
     ]
    },
    {
     "name": "stderr",
     "output_type": "stream",
     "text": [
      "[I 2025-01-05 12:09:49,369] Trial 222 finished with value: 0.26023387066960185 and parameters: {'similarity': 'cosine', 'topK': 26, 'shrink': 394, 'feature_weighting': 'TF-IDF'}. Best is trial 172 with value: 0.26030777685753526.\n"
     ]
    },
    {
     "name": "stdout",
     "output_type": "stream",
     "text": [
      "Similarity column 38121 (100.0%), 2960.15 column/sec. Elapsed time 12.88 sec\n",
      "EvaluatorHoldout: Ignoring 173 ( 0.5%) Users that have less than 1 test interactions\n",
      "EvaluatorHoldout: Processed 35563 (100.0%) in 33.09 sec. Users per second: 1075\n",
      "Similarity column 38121 (100.0%), 2988.34 column/sec. Elapsed time 12.76 sec\n",
      "EvaluatorHoldout: Ignoring 163 ( 0.5%) Users that have less than 1 test interactions\n",
      "EvaluatorHoldout: Processed 35573 (100.0%) in 33.19 sec. Users per second: 1072\n",
      "Similarity column 38121 (100.0%), 2980.49 column/sec. Elapsed time 12.79 sec\n",
      "EvaluatorHoldout: Ignoring 150 ( 0.4%) Users that have less than 1 test interactions\n",
      "EvaluatorHoldout: Processed 35586 (100.0%) in 33.07 sec. Users per second: 1076\n",
      "Similarity column 38121 (100.0%), 2979.95 column/sec. Elapsed time 12.79 sec\n",
      "EvaluatorHoldout: Ignoring 167 ( 0.5%) Users that have less than 1 test interactions\n",
      "EvaluatorHoldout: Processed 35569 (100.0%) in 33.12 sec. Users per second: 1074\n",
      "Similarity column 38121 (100.0%), 2981.73 column/sec. Elapsed time 12.78 sec\n",
      "EvaluatorHoldout: Ignoring 172 ( 0.5%) Users that have less than 1 test interactions\n",
      "EvaluatorHoldout: Processed 35564 (100.0%) in 32.96 sec. Users per second: 1079\n"
     ]
    },
    {
     "name": "stderr",
     "output_type": "stream",
     "text": [
      "[I 2025-01-05 12:13:40,086] Trial 223 finished with value: 0.2592878663097236 and parameters: {'similarity': 'cosine', 'topK': 11, 'shrink': 401, 'feature_weighting': 'TF-IDF'}. Best is trial 172 with value: 0.26030777685753526.\n"
     ]
    },
    {
     "name": "stdout",
     "output_type": "stream",
     "text": [
      "Similarity column 38121 (100.0%), 2973.66 column/sec. Elapsed time 12.82 sec\n",
      "EvaluatorHoldout: Ignoring 173 ( 0.5%) Users that have less than 1 test interactions\n",
      "EvaluatorHoldout: Processed 35563 (100.0%) in 35.79 sec. Users per second: 994\n",
      "Similarity column 38121 (100.0%), 2935.75 column/sec. Elapsed time 12.99 sec\n",
      "EvaluatorHoldout: Ignoring 163 ( 0.5%) Users that have less than 1 test interactions\n",
      "EvaluatorHoldout: Processed 35573 (100.0%) in 35.79 sec. Users per second: 994\n",
      "Similarity column 38121 (100.0%), 2972.89 column/sec. Elapsed time 12.82 sec\n",
      "EvaluatorHoldout: Ignoring 150 ( 0.4%) Users that have less than 1 test interactions\n",
      "EvaluatorHoldout: Processed 35586 (100.0%) in 35.60 sec. Users per second: 1000\n",
      "Similarity column 38121 (100.0%), 2935.92 column/sec. Elapsed time 12.98 sec\n",
      "EvaluatorHoldout: Ignoring 167 ( 0.5%) Users that have less than 1 test interactions\n",
      "EvaluatorHoldout: Processed 35569 (100.0%) in 35.59 sec. Users per second: 999\n",
      "Similarity column 38121 (100.0%), 2962.28 column/sec. Elapsed time 12.87 sec\n",
      "EvaluatorHoldout: Ignoring 172 ( 0.5%) Users that have less than 1 test interactions\n",
      "EvaluatorHoldout: Processed 35564 (100.0%) in 35.63 sec. Users per second: 998\n"
     ]
    },
    {
     "name": "stderr",
     "output_type": "stream",
     "text": [
      "[I 2025-01-05 12:17:44,515] Trial 224 finished with value: 0.25947503718498066 and parameters: {'similarity': 'cosine', 'topK': 39, 'shrink': 366, 'feature_weighting': 'TF-IDF'}. Best is trial 172 with value: 0.26030777685753526.\n"
     ]
    },
    {
     "name": "stdout",
     "output_type": "stream",
     "text": [
      "Similarity column 38121 (100.0%), 2942.49 column/sec. Elapsed time 12.96 sec\n",
      "EvaluatorHoldout: Ignoring 173 ( 0.5%) Users that have less than 1 test interactions\n",
      "EvaluatorHoldout: Processed 35563 (100.0%) in 40.19 sec. Users per second: 885\n",
      "Similarity column 38121 (100.0%), 2957.02 column/sec. Elapsed time 12.89 sec\n",
      "EvaluatorHoldout: Ignoring 163 ( 0.5%) Users that have less than 1 test interactions\n",
      "EvaluatorHoldout: Processed 35573 (100.0%) in 40.33 sec. Users per second: 882\n",
      "Similarity column 38121 (100.0%), 2954.05 column/sec. Elapsed time 12.90 sec\n",
      "EvaluatorHoldout: Ignoring 150 ( 0.4%) Users that have less than 1 test interactions\n",
      "EvaluatorHoldout: Processed 35586 (100.0%) in 40.22 sec. Users per second: 885\n",
      "Similarity column 38121 (100.0%), 2913.55 column/sec. Elapsed time 13.08 sec\n",
      "EvaluatorHoldout: Ignoring 167 ( 0.5%) Users that have less than 1 test interactions\n",
      "EvaluatorHoldout: Processed 35569 (100.0%) in 40.10 sec. Users per second: 887\n",
      "Similarity column 38121 (100.0%), 2945.77 column/sec. Elapsed time 12.94 sec\n",
      "EvaluatorHoldout: Ignoring 172 ( 0.5%) Users that have less than 1 test interactions\n",
      "EvaluatorHoldout: Processed 35564 (100.0%) in 40.03 sec. Users per second: 888\n"
     ]
    },
    {
     "name": "stderr",
     "output_type": "stream",
     "text": [
      "[I 2025-01-05 12:22:11,603] Trial 225 finished with value: 0.12081679500471895 and parameters: {'similarity': 'asymmetric', 'topK': 27, 'shrink': 254, 'feature_weighting': 'TF-IDF', 'asymmetric_alpha': 1.4703278120207952}. Best is trial 172 with value: 0.26030777685753526.\n"
     ]
    },
    {
     "name": "stdout",
     "output_type": "stream",
     "text": [
      "Similarity column 38121 (100.0%), 2941.88 column/sec. Elapsed time 12.96 sec\n",
      "EvaluatorHoldout: Ignoring 173 ( 0.5%) Users that have less than 1 test interactions\n",
      "EvaluatorHoldout: Processed 35563 (100.0%) in 35.79 sec. Users per second: 994\n",
      "Similarity column 38121 (100.0%), 2922.10 column/sec. Elapsed time 13.05 sec\n",
      "EvaluatorHoldout: Ignoring 163 ( 0.5%) Users that have less than 1 test interactions\n",
      "EvaluatorHoldout: Processed 35573 (100.0%) in 35.88 sec. Users per second: 991\n",
      "Similarity column 38121 (100.0%), 2960.52 column/sec. Elapsed time 12.88 sec\n",
      "EvaluatorHoldout: Ignoring 150 ( 0.4%) Users that have less than 1 test interactions\n",
      "EvaluatorHoldout: Processed 35586 (100.0%) in 36.12 sec. Users per second: 985\n",
      "Similarity column 38121 (100.0%), 2918.02 column/sec. Elapsed time 13.06 sec\n",
      "EvaluatorHoldout: Ignoring 167 ( 0.5%) Users that have less than 1 test interactions\n",
      "EvaluatorHoldout: Processed 35569 (100.0%) in 35.77 sec. Users per second: 994\n",
      "Similarity column 38121 (100.0%), 2967.33 column/sec. Elapsed time 12.85 sec\n",
      "EvaluatorHoldout: Ignoring 172 ( 0.5%) Users that have less than 1 test interactions\n",
      "EvaluatorHoldout: Processed 35564 (100.0%) in 35.89 sec. Users per second: 991\n"
     ]
    },
    {
     "name": "stderr",
     "output_type": "stream",
     "text": [
      "[I 2025-01-05 12:26:17,453] Trial 226 finished with value: 0.23194952716433268 and parameters: {'similarity': 'cosine', 'topK': 50, 'shrink': 319, 'feature_weighting': 'BM25'}. Best is trial 172 with value: 0.26030777685753526.\n"
     ]
    },
    {
     "name": "stdout",
     "output_type": "stream",
     "text": [
      "Similarity column 38121 (100.0%), 2941.49 column/sec. Elapsed time 12.96 sec\n",
      "EvaluatorHoldout: Ignoring 173 ( 0.5%) Users that have less than 1 test interactions\n",
      "EvaluatorHoldout: Processed 35563 (100.0%) in 37.90 sec. Users per second: 938\n",
      "Similarity column 38121 (100.0%), 2955.02 column/sec. Elapsed time 12.90 sec\n",
      "EvaluatorHoldout: Ignoring 163 ( 0.5%) Users that have less than 1 test interactions\n",
      "EvaluatorHoldout: Processed 35573 (100.0%) in 37.97 sec. Users per second: 937\n",
      "Similarity column 38121 (100.0%), 2938.52 column/sec. Elapsed time 12.97 sec\n",
      "EvaluatorHoldout: Ignoring 150 ( 0.4%) Users that have less than 1 test interactions\n",
      "EvaluatorHoldout: Processed 35586 (100.0%) in 37.88 sec. Users per second: 939\n",
      "Similarity column 38121 (100.0%), 2921.17 column/sec. Elapsed time 13.05 sec\n",
      "EvaluatorHoldout: Ignoring 167 ( 0.5%) Users that have less than 1 test interactions\n",
      "EvaluatorHoldout: Processed 35569 (100.0%) in 37.83 sec. Users per second: 940\n",
      "Similarity column 38121 (100.0%), 2937.87 column/sec. Elapsed time 12.98 sec\n",
      "EvaluatorHoldout: Ignoring 172 ( 0.5%) Users that have less than 1 test interactions\n",
      "EvaluatorHoldout: Processed 35564 (100.0%) in 37.84 sec. Users per second: 940\n"
     ]
    },
    {
     "name": "stderr",
     "output_type": "stream",
     "text": [
      "[I 2025-01-05 12:30:33,478] Trial 227 finished with value: 0.2571584636359604 and parameters: {'similarity': 'cosine', 'topK': 73, 'shrink': 516, 'feature_weighting': 'TF-IDF'}. Best is trial 172 with value: 0.26030777685753526.\n"
     ]
    },
    {
     "name": "stdout",
     "output_type": "stream",
     "text": [
      "Similarity column 38121 (100.0%), 2964.62 column/sec. Elapsed time 12.86 sec\n",
      "EvaluatorHoldout: Ignoring 173 ( 0.5%) Users that have less than 1 test interactions\n",
      "EvaluatorHoldout: Processed 35563 (100.0%) in 33.18 sec. Users per second: 1072\n",
      "Similarity column 38121 (100.0%), 2981.89 column/sec. Elapsed time 12.78 sec\n",
      "EvaluatorHoldout: Ignoring 163 ( 0.5%) Users that have less than 1 test interactions\n",
      "EvaluatorHoldout: Processed 35573 (100.0%) in 33.08 sec. Users per second: 1075\n",
      "Similarity column 38121 (100.0%), 2971.88 column/sec. Elapsed time 12.83 sec\n",
      "EvaluatorHoldout: Ignoring 150 ( 0.4%) Users that have less than 1 test interactions\n",
      "EvaluatorHoldout: Processed 35586 (100.0%) in 33.48 sec. Users per second: 1063\n",
      "Similarity column 38121 (100.0%), 2976.14 column/sec. Elapsed time 12.81 sec\n",
      "EvaluatorHoldout: Ignoring 167 ( 0.5%) Users that have less than 1 test interactions\n",
      "EvaluatorHoldout: Processed 35569 (100.0%) in 33.23 sec. Users per second: 1071\n",
      "Similarity column 38121 (100.0%), 2958.95 column/sec. Elapsed time 12.88 sec\n",
      "EvaluatorHoldout: Ignoring 172 ( 0.5%) Users that have less than 1 test interactions\n",
      "EvaluatorHoldout: Processed 35564 (100.0%) in 33.23 sec. Users per second: 1070\n"
     ]
    },
    {
     "name": "stderr",
     "output_type": "stream",
     "text": [
      "[I 2025-01-05 12:34:25,143] Trial 228 finished with value: 0.2593115432955166 and parameters: {'similarity': 'cosine', 'topK': 11, 'shrink': 385, 'feature_weighting': 'TF-IDF'}. Best is trial 172 with value: 0.26030777685753526.\n"
     ]
    },
    {
     "name": "stdout",
     "output_type": "stream",
     "text": [
      "Similarity column 38121 (100.0%), 566.83 column/sec. Elapsed time 1.12 min\n",
      "EvaluatorHoldout: Ignoring 173 ( 0.5%) Users that have less than 1 test interactions\n",
      "EvaluatorHoldout: Processed 35563 (100.0%) in 34.51 sec. Users per second: 1030\n",
      "Similarity column 38121 (100.0%), 554.90 column/sec. Elapsed time 1.14 min\n",
      "EvaluatorHoldout: Ignoring 163 ( 0.5%) Users that have less than 1 test interactions\n",
      "EvaluatorHoldout: Processed 35573 (100.0%) in 34.43 sec. Users per second: 1033\n",
      "Similarity column 38121 (100.0%), 581.60 column/sec. Elapsed time 1.09 min\n",
      "EvaluatorHoldout: Ignoring 150 ( 0.4%) Users that have less than 1 test interactions\n",
      "EvaluatorHoldout: Processed 35586 (100.0%) in 34.35 sec. Users per second: 1036\n",
      "Similarity column 38121 (100.0%), 567.59 column/sec. Elapsed time 1.12 min\n",
      "EvaluatorHoldout: Ignoring 167 ( 0.5%) Users that have less than 1 test interactions\n",
      "EvaluatorHoldout: Processed 35569 (100.0%) in 34.34 sec. Users per second: 1036\n",
      "Similarity column 38121 (100.0%), 566.35 column/sec. Elapsed time 1.12 min\n",
      "EvaluatorHoldout: Ignoring 172 ( 0.5%) Users that have less than 1 test interactions\n",
      "EvaluatorHoldout: Processed 35564 (100.0%) in 34.22 sec. Users per second: 1039\n"
     ]
    },
    {
     "name": "stderr",
     "output_type": "stream",
     "text": [
      "[I 2025-01-05 12:42:54,132] Trial 229 finished with value: 0.22653160301581338 and parameters: {'similarity': 'euclidean', 'topK': 27, 'shrink': 468, 'feature_weighting': 'TF-IDF', 'normalize_avg_row': False, 'similarity_from_distance_mode': 'exp', 'normalize': True}. Best is trial 172 with value: 0.26030777685753526.\n"
     ]
    },
    {
     "name": "stdout",
     "output_type": "stream",
     "text": [
      "Similarity column 38121 (100.0%), 3101.93 column/sec. Elapsed time 12.29 sec\n",
      "EvaluatorHoldout: Ignoring 173 ( 0.5%) Users that have less than 1 test interactions\n",
      "EvaluatorHoldout: Processed 35563 (100.0%) in 37.17 sec. Users per second: 957\n",
      "Similarity column 38121 (100.0%), 3039.78 column/sec. Elapsed time 12.54 sec\n",
      "EvaluatorHoldout: Ignoring 163 ( 0.5%) Users that have less than 1 test interactions\n",
      "EvaluatorHoldout: Processed 35573 (100.0%) in 36.99 sec. Users per second: 962\n",
      "Similarity column 38121 (100.0%), 3081.54 column/sec. Elapsed time 12.37 sec\n",
      "EvaluatorHoldout: Ignoring 150 ( 0.4%) Users that have less than 1 test interactions\n",
      "EvaluatorHoldout: Processed 35586 (100.0%) in 36.86 sec. Users per second: 965\n",
      "Similarity column 38121 (100.0%), 3080.81 column/sec. Elapsed time 12.37 sec\n",
      "EvaluatorHoldout: Ignoring 167 ( 0.5%) Users that have less than 1 test interactions\n",
      "EvaluatorHoldout: Processed 35569 (100.0%) in 37.12 sec. Users per second: 958\n",
      "Similarity column 38121 (100.0%), 3046.71 column/sec. Elapsed time 12.51 sec\n",
      "EvaluatorHoldout: Ignoring 172 ( 0.5%) Users that have less than 1 test interactions\n",
      "EvaluatorHoldout: Processed 35564 (100.0%) in 37.18 sec. Users per second: 957\n"
     ]
    },
    {
     "name": "stderr",
     "output_type": "stream",
     "text": [
      "[I 2025-01-05 12:47:03,936] Trial 230 finished with value: 0.23114123541862147 and parameters: {'similarity': 'dice', 'topK': 42, 'shrink': 341, 'feature_weighting': 'TF-IDF'}. Best is trial 172 with value: 0.26030777685753526.\n"
     ]
    },
    {
     "name": "stdout",
     "output_type": "stream",
     "text": [
      "Similarity column 38121 (100.0%), 2980.93 column/sec. Elapsed time 12.79 sec\n",
      "EvaluatorHoldout: Ignoring 173 ( 0.5%) Users that have less than 1 test interactions\n",
      "EvaluatorHoldout: Processed 35563 (100.0%) in 34.60 sec. Users per second: 1028\n",
      "Similarity column 38121 (100.0%), 2951.94 column/sec. Elapsed time 12.91 sec\n",
      "EvaluatorHoldout: Ignoring 163 ( 0.5%) Users that have less than 1 test interactions\n",
      "EvaluatorHoldout: Processed 35573 (100.0%) in 34.54 sec. Users per second: 1030\n",
      "Similarity column 38121 (100.0%), 2988.19 column/sec. Elapsed time 12.76 sec\n",
      "EvaluatorHoldout: Ignoring 150 ( 0.4%) Users that have less than 1 test interactions\n",
      "EvaluatorHoldout: Processed 35586 (100.0%) in 34.80 sec. Users per second: 1023\n",
      "Similarity column 38121 (100.0%), 2953.81 column/sec. Elapsed time 12.91 sec\n",
      "EvaluatorHoldout: Ignoring 167 ( 0.5%) Users that have less than 1 test interactions\n",
      "EvaluatorHoldout: Processed 35569 (100.0%) in 34.78 sec. Users per second: 1023\n",
      "Similarity column 38121 (100.0%), 2980.41 column/sec. Elapsed time 12.79 sec\n",
      "EvaluatorHoldout: Ignoring 172 ( 0.5%) Users that have less than 1 test interactions\n",
      "EvaluatorHoldout: Processed 35564 (100.0%) in 34.55 sec. Users per second: 1029\n"
     ]
    },
    {
     "name": "stderr",
     "output_type": "stream",
     "text": [
      "[I 2025-01-05 12:51:02,787] Trial 231 finished with value: 0.2602284434081664 and parameters: {'similarity': 'cosine', 'topK': 25, 'shrink': 418, 'feature_weighting': 'TF-IDF'}. Best is trial 172 with value: 0.26030777685753526.\n"
     ]
    },
    {
     "name": "stdout",
     "output_type": "stream",
     "text": [
      "Similarity column 38121 (100.0%), 2965.76 column/sec. Elapsed time 12.85 sec\n",
      "EvaluatorHoldout: Ignoring 173 ( 0.5%) Users that have less than 1 test interactions\n",
      "EvaluatorHoldout: Processed 35563 (100.0%) in 34.68 sec. Users per second: 1025\n",
      "Similarity column 38121 (100.0%), 2975.40 column/sec. Elapsed time 12.81 sec\n",
      "EvaluatorHoldout: Ignoring 163 ( 0.5%) Users that have less than 1 test interactions\n",
      "EvaluatorHoldout: Processed 35573 (100.0%) in 34.67 sec. Users per second: 1026\n",
      "Similarity column 38121 (100.0%), 2986.82 column/sec. Elapsed time 12.76 sec\n",
      "EvaluatorHoldout: Ignoring 150 ( 0.4%) Users that have less than 1 test interactions\n",
      "EvaluatorHoldout: Processed 35586 (100.0%) in 34.57 sec. Users per second: 1030\n",
      "Similarity column 38121 (100.0%), 2979.39 column/sec. Elapsed time 12.79 sec\n",
      "EvaluatorHoldout: Ignoring 167 ( 0.5%) Users that have less than 1 test interactions\n",
      "EvaluatorHoldout: Processed 35569 (100.0%) in 34.28 sec. Users per second: 1038\n",
      "Similarity column 38121 (100.0%), 2973.80 column/sec. Elapsed time 12.82 sec\n",
      "EvaluatorHoldout: Ignoring 172 ( 0.5%) Users that have less than 1 test interactions\n",
      "EvaluatorHoldout: Processed 35564 (100.0%) in 34.14 sec. Users per second: 1042\n"
     ]
    },
    {
     "name": "stderr",
     "output_type": "stream",
     "text": [
      "[I 2025-01-05 12:55:00,531] Trial 232 finished with value: 0.260170469264755 and parameters: {'similarity': 'cosine', 'topK': 23, 'shrink': 435, 'feature_weighting': 'TF-IDF'}. Best is trial 172 with value: 0.26030777685753526.\n"
     ]
    },
    {
     "name": "stdout",
     "output_type": "stream",
     "text": [
      "Similarity column 38121 (100.0%), 2990.62 column/sec. Elapsed time 12.75 sec\n",
      "EvaluatorHoldout: Ignoring 173 ( 0.5%) Users that have less than 1 test interactions\n",
      "EvaluatorHoldout: Processed 35563 (100.0%) in 33.21 sec. Users per second: 1071\n",
      "Similarity column 38121 (100.0%), 2969.28 column/sec. Elapsed time 12.84 sec\n",
      "EvaluatorHoldout: Ignoring 163 ( 0.5%) Users that have less than 1 test interactions\n",
      "EvaluatorHoldout: Processed 35573 (100.0%) in 33.08 sec. Users per second: 1075\n",
      "Similarity column 38121 (100.0%), 2993.89 column/sec. Elapsed time 12.73 sec\n",
      "EvaluatorHoldout: Ignoring 150 ( 0.4%) Users that have less than 1 test interactions\n",
      "EvaluatorHoldout: Processed 35586 (100.0%) in 33.02 sec. Users per second: 1078\n",
      "Similarity column 38121 (100.0%), 3000.62 column/sec. Elapsed time 12.70 sec\n",
      "EvaluatorHoldout: Ignoring 167 ( 0.5%) Users that have less than 1 test interactions\n",
      "EvaluatorHoldout: Processed 35569 (100.0%) in 32.92 sec. Users per second: 1081\n",
      "Similarity column 38121 (100.0%), 2980.91 column/sec. Elapsed time 12.79 sec\n",
      "EvaluatorHoldout: Ignoring 172 ( 0.5%) Users that have less than 1 test interactions\n",
      "EvaluatorHoldout: Processed 35564 (100.0%) in 32.85 sec. Users per second: 1083\n"
     ]
    },
    {
     "name": "stderr",
     "output_type": "stream",
     "text": [
      "[I 2025-01-05 12:58:50,695] Trial 233 finished with value: 0.25900203441061187 and parameters: {'similarity': 'cosine', 'topK': 10, 'shrink': 404, 'feature_weighting': 'TF-IDF'}. Best is trial 172 with value: 0.26030777685753526.\n"
     ]
    },
    {
     "name": "stdout",
     "output_type": "stream",
     "text": [
      "Similarity column 38121 (100.0%), 3843.34 column/sec. Elapsed time 9.92 sec\n",
      "EvaluatorHoldout: Ignoring 173 ( 0.5%) Users that have less than 1 test interactions\n",
      "EvaluatorHoldout: Processed 35563 (100.0%) in 26.09 sec. Users per second: 1363\n",
      "Similarity column 38121 (100.0%), 3844.54 column/sec. Elapsed time 9.92 sec\n",
      "EvaluatorHoldout: Ignoring 163 ( 0.5%) Users that have less than 1 test interactions\n",
      "EvaluatorHoldout: Processed 35573 (100.0%) in 26.07 sec. Users per second: 1364\n",
      "Similarity column 38121 (100.0%), 3818.96 column/sec. Elapsed time 9.98 sec\n",
      "EvaluatorHoldout: Ignoring 150 ( 0.4%) Users that have less than 1 test interactions\n",
      "EvaluatorHoldout: Processed 35586 (100.0%) in 25.96 sec. Users per second: 1371\n",
      "Similarity column 38121 (100.0%), 3781.58 column/sec. Elapsed time 10.08 sec\n",
      "EvaluatorHoldout: Ignoring 167 ( 0.5%) Users that have less than 1 test interactions\n",
      "EvaluatorHoldout: Processed 35569 (100.0%) in 26.19 sec. Users per second: 1358\n",
      "Similarity column 38121 (100.0%), 3811.39 column/sec. Elapsed time 10.00 sec\n",
      "EvaluatorHoldout: Ignoring 172 ( 0.5%) Users that have less than 1 test interactions\n",
      "EvaluatorHoldout: Processed 35564 (100.0%) in 25.90 sec. Users per second: 1373\n"
     ]
    },
    {
     "name": "stderr",
     "output_type": "stream",
     "text": [
      "[I 2025-01-05 13:01:52,012] Trial 234 finished with value: 0.0055265346604531345 and parameters: {'similarity': 'cosine', 'topK': 0, 'shrink': 428, 'feature_weighting': 'TF-IDF'}. Best is trial 172 with value: 0.26030777685753526.\n"
     ]
    },
    {
     "name": "stdout",
     "output_type": "stream",
     "text": [
      "Similarity column 38121 (100.0%), 2981.44 column/sec. Elapsed time 12.79 sec\n",
      "EvaluatorHoldout: Ignoring 173 ( 0.5%) Users that have less than 1 test interactions\n",
      "EvaluatorHoldout: Processed 35563 (100.0%) in 34.52 sec. Users per second: 1030\n",
      "Similarity column 38121 (100.0%), 2971.43 column/sec. Elapsed time 12.83 sec\n",
      "EvaluatorHoldout: Ignoring 163 ( 0.5%) Users that have less than 1 test interactions\n",
      "EvaluatorHoldout: Processed 35573 (100.0%) in 34.41 sec. Users per second: 1034\n",
      "Similarity column 38121 (100.0%), 2993.10 column/sec. Elapsed time 12.74 sec\n",
      "EvaluatorHoldout: Ignoring 150 ( 0.4%) Users that have less than 1 test interactions\n",
      "EvaluatorHoldout: Processed 35586 (100.0%) in 34.53 sec. Users per second: 1031\n",
      "Similarity column 38121 (100.0%), 2958.66 column/sec. Elapsed time 12.88 sec\n",
      "EvaluatorHoldout: Ignoring 167 ( 0.5%) Users that have less than 1 test interactions\n",
      "EvaluatorHoldout: Processed 35569 (100.0%) in 34.55 sec. Users per second: 1030\n",
      "Similarity column 38121 (100.0%), 2980.68 column/sec. Elapsed time 12.79 sec\n",
      "EvaluatorHoldout: Ignoring 172 ( 0.5%) Users that have less than 1 test interactions\n",
      "EvaluatorHoldout: Processed 35564 (100.0%) in 34.52 sec. Users per second: 1030\n"
     ]
    },
    {
     "name": "stderr",
     "output_type": "stream",
     "text": [
      "[I 2025-01-05 13:05:49,963] Trial 235 finished with value: 0.26020109143156656 and parameters: {'similarity': 'cosine', 'topK': 24, 'shrink': 358, 'feature_weighting': 'TF-IDF'}. Best is trial 172 with value: 0.26030777685753526.\n"
     ]
    },
    {
     "name": "stdout",
     "output_type": "stream",
     "text": [
      "Similarity column 38121 (100.0%), 2968.27 column/sec. Elapsed time 12.84 sec\n",
      "EvaluatorHoldout: Ignoring 173 ( 0.5%) Users that have less than 1 test interactions\n",
      "EvaluatorHoldout: Processed 35563 (100.0%) in 35.71 sec. Users per second: 996\n",
      "Similarity column 38121 (100.0%), 2974.31 column/sec. Elapsed time 12.82 sec\n",
      "EvaluatorHoldout: Ignoring 163 ( 0.5%) Users that have less than 1 test interactions\n",
      "EvaluatorHoldout: Processed 35573 (100.0%) in 35.90 sec. Users per second: 991\n",
      "Similarity column 38121 (100.0%), 2960.14 column/sec. Elapsed time 12.88 sec\n",
      "EvaluatorHoldout: Ignoring 150 ( 0.4%) Users that have less than 1 test interactions\n",
      "EvaluatorHoldout: Processed 35586 (100.0%) in 35.60 sec. Users per second: 1000\n",
      "Similarity column 38121 (100.0%), 2968.96 column/sec. Elapsed time 12.84 sec\n",
      "EvaluatorHoldout: Ignoring 167 ( 0.5%) Users that have less than 1 test interactions\n",
      "EvaluatorHoldout: Processed 35569 (100.0%) in 35.63 sec. Users per second: 998\n",
      "Similarity column 38121 (100.0%), 2945.32 column/sec. Elapsed time 12.94 sec\n",
      "EvaluatorHoldout: Ignoring 172 ( 0.5%) Users that have less than 1 test interactions\n",
      "EvaluatorHoldout: Processed 35564 (100.0%) in 35.41 sec. Users per second: 1004\n"
     ]
    },
    {
     "name": "stderr",
     "output_type": "stream",
     "text": [
      "[I 2025-01-05 13:09:54,017] Trial 236 finished with value: 0.2593904519297865 and parameters: {'similarity': 'cosine', 'topK': 39, 'shrink': 378, 'feature_weighting': 'TF-IDF'}. Best is trial 172 with value: 0.26030777685753526.\n"
     ]
    },
    {
     "name": "stdout",
     "output_type": "stream",
     "text": [
      "Similarity column 38121 (100.0%), 2980.18 column/sec. Elapsed time 12.79 sec\n",
      "EvaluatorHoldout: Ignoring 173 ( 0.5%) Users that have less than 1 test interactions\n",
      "EvaluatorHoldout: Processed 35563 (100.0%) in 34.19 sec. Users per second: 1040\n",
      "Similarity column 38121 (100.0%), 2968.05 column/sec. Elapsed time 12.84 sec\n",
      "EvaluatorHoldout: Ignoring 163 ( 0.5%) Users that have less than 1 test interactions\n",
      "EvaluatorHoldout: Processed 35573 (100.0%) in 34.28 sec. Users per second: 1038\n",
      "Similarity column 38121 (100.0%), 2976.27 column/sec. Elapsed time 12.81 sec\n",
      "EvaluatorHoldout: Ignoring 150 ( 0.4%) Users that have less than 1 test interactions\n",
      "EvaluatorHoldout: Processed 35586 (100.0%) in 34.19 sec. Users per second: 1041\n",
      "Similarity column 38121 (100.0%), 2971.79 column/sec. Elapsed time 12.83 sec\n",
      "EvaluatorHoldout: Ignoring 167 ( 0.5%) Users that have less than 1 test interactions\n",
      "EvaluatorHoldout: Processed 35569 (100.0%) in 34.17 sec. Users per second: 1041\n",
      "Similarity column 38121 (100.0%), 2975.44 column/sec. Elapsed time 12.81 sec\n",
      "EvaluatorHoldout: Ignoring 172 ( 0.5%) Users that have less than 1 test interactions\n",
      "EvaluatorHoldout: Processed 35564 (100.0%) in 33.93 sec. Users per second: 1048\n"
     ]
    },
    {
     "name": "stderr",
     "output_type": "stream",
     "text": [
      "[I 2025-01-05 13:13:50,196] Trial 237 finished with value: 0.2601949006087537 and parameters: {'similarity': 'cosine', 'topK': 20, 'shrink': 354, 'feature_weighting': 'TF-IDF'}. Best is trial 172 with value: 0.26030777685753526.\n"
     ]
    },
    {
     "name": "stdout",
     "output_type": "stream",
     "text": [
      "Similarity column 38121 (100.0%), 2978.20 column/sec. Elapsed time 12.80 sec\n",
      "EvaluatorHoldout: Ignoring 173 ( 0.5%) Users that have less than 1 test interactions\n",
      "EvaluatorHoldout: Processed 35563 (100.0%) in 33.19 sec. Users per second: 1071\n",
      "Similarity column 38121 (100.0%), 2983.21 column/sec. Elapsed time 12.78 sec\n",
      "EvaluatorHoldout: Ignoring 163 ( 0.5%) Users that have less than 1 test interactions\n",
      "EvaluatorHoldout: Processed 35573 (100.0%) in 33.40 sec. Users per second: 1065\n",
      "Similarity column 38121 (100.0%), 2973.10 column/sec. Elapsed time 12.82 sec\n",
      "EvaluatorHoldout: Ignoring 150 ( 0.4%) Users that have less than 1 test interactions\n",
      "EvaluatorHoldout: Processed 35586 (100.0%) in 33.39 sec. Users per second: 1066\n",
      "Similarity column 38121 (100.0%), 2987.88 column/sec. Elapsed time 12.76 sec\n",
      "EvaluatorHoldout: Ignoring 167 ( 0.5%) Users that have less than 1 test interactions\n",
      "EvaluatorHoldout: Processed 35569 (100.0%) in 33.36 sec. Users per second: 1066\n",
      "Similarity column 38121 (100.0%), 2957.51 column/sec. Elapsed time 12.89 sec\n",
      "EvaluatorHoldout: Ignoring 172 ( 0.5%) Users that have less than 1 test interactions\n",
      "EvaluatorHoldout: Processed 35564 (100.0%) in 33.16 sec. Users per second: 1072\n"
     ]
    },
    {
     "name": "stderr",
     "output_type": "stream",
     "text": [
      "[I 2025-01-05 13:17:42,035] Trial 238 finished with value: 0.25972130209036765 and parameters: {'similarity': 'cosine', 'topK': 13, 'shrink': 350, 'feature_weighting': 'TF-IDF'}. Best is trial 172 with value: 0.26030777685753526.\n"
     ]
    },
    {
     "name": "stdout",
     "output_type": "stream",
     "text": [
      "Similarity column 38121 (100.0%), 2979.71 column/sec. Elapsed time 12.79 sec\n",
      "EvaluatorHoldout: Ignoring 173 ( 0.5%) Users that have less than 1 test interactions\n",
      "EvaluatorHoldout: Processed 35563 (100.0%) in 36.50 sec. Users per second: 974\n",
      "Similarity column 38121 (100.0%), 2952.15 column/sec. Elapsed time 12.91 sec\n",
      "EvaluatorHoldout: Ignoring 163 ( 0.5%) Users that have less than 1 test interactions\n",
      "EvaluatorHoldout: Processed 35573 (100.0%) in 36.37 sec. Users per second: 978\n",
      "Similarity column 38121 (100.0%), 2961.52 column/sec. Elapsed time 12.87 sec\n",
      "EvaluatorHoldout: Ignoring 150 ( 0.4%) Users that have less than 1 test interactions\n",
      "EvaluatorHoldout: Processed 35586 (100.0%) in 36.40 sec. Users per second: 978\n",
      "Similarity column 38121 (100.0%), 2936.84 column/sec. Elapsed time 12.98 sec\n",
      "EvaluatorHoldout: Ignoring 167 ( 0.5%) Users that have less than 1 test interactions\n",
      "EvaluatorHoldout: Processed 35569 (100.0%) in 36.48 sec. Users per second: 975\n",
      "Similarity column 38121 (100.0%), 2961.04 column/sec. Elapsed time 12.87 sec\n",
      "EvaluatorHoldout: Ignoring 172 ( 0.5%) Users that have less than 1 test interactions\n",
      "EvaluatorHoldout: Processed 35564 (100.0%) in 36.30 sec. Users per second: 980\n"
     ]
    },
    {
     "name": "stderr",
     "output_type": "stream",
     "text": [
      "[I 2025-01-05 13:21:50,078] Trial 239 finished with value: 0.25880710274682955 and parameters: {'similarity': 'cosine', 'topK': 53, 'shrink': 318, 'feature_weighting': 'TF-IDF'}. Best is trial 172 with value: 0.26030777685753526.\n"
     ]
    },
    {
     "name": "stdout",
     "output_type": "stream",
     "text": [
      "Similarity column 38121 (100.0%), 3806.55 column/sec. Elapsed time 10.01 sec\n",
      "EvaluatorHoldout: Ignoring 173 ( 0.5%) Users that have less than 1 test interactions\n",
      "EvaluatorHoldout: Processed 35563 (100.0%) in 26.12 sec. Users per second: 1361\n",
      "Similarity column 38121 (100.0%), 3808.24 column/sec. Elapsed time 10.01 sec\n",
      "EvaluatorHoldout: Ignoring 163 ( 0.5%) Users that have less than 1 test interactions\n",
      "EvaluatorHoldout: Processed 35573 (100.0%) in 26.26 sec. Users per second: 1355\n",
      "Similarity column 38121 (100.0%), 3807.16 column/sec. Elapsed time 10.01 sec\n",
      "EvaluatorHoldout: Ignoring 150 ( 0.4%) Users that have less than 1 test interactions\n",
      "EvaluatorHoldout: Processed 35586 (100.0%) in 25.95 sec. Users per second: 1371\n",
      "Similarity column 38121 (100.0%), 3808.49 column/sec. Elapsed time 10.01 sec\n",
      "EvaluatorHoldout: Ignoring 167 ( 0.5%) Users that have less than 1 test interactions\n",
      "EvaluatorHoldout: Processed 35569 (100.0%) in 26.03 sec. Users per second: 1367\n",
      "Similarity column 38121 (100.0%), 3815.59 column/sec. Elapsed time 9.99 sec\n",
      "EvaluatorHoldout: Ignoring 172 ( 0.5%) Users that have less than 1 test interactions\n",
      "EvaluatorHoldout: Processed 35564 (100.0%) in 26.08 sec. Users per second: 1364\n"
     ]
    },
    {
     "name": "stderr",
     "output_type": "stream",
     "text": [
      "[I 2025-01-05 13:24:51,788] Trial 240 finished with value: 0.0055265346604531345 and parameters: {'similarity': 'cosine', 'topK': 0, 'shrink': 358, 'feature_weighting': 'TF-IDF'}. Best is trial 172 with value: 0.26030777685753526.\n"
     ]
    },
    {
     "name": "stdout",
     "output_type": "stream",
     "text": [
      "Similarity column 38121 (100.0%), 2974.73 column/sec. Elapsed time 12.81 sec\n",
      "EvaluatorHoldout: Ignoring 173 ( 0.5%) Users that have less than 1 test interactions\n",
      "EvaluatorHoldout: Processed 35563 (100.0%) in 34.48 sec. Users per second: 1032\n",
      "Similarity column 38121 (100.0%), 2994.28 column/sec. Elapsed time 12.73 sec\n",
      "EvaluatorHoldout: Ignoring 163 ( 0.5%) Users that have less than 1 test interactions\n",
      "EvaluatorHoldout: Processed 35573 (100.0%) in 34.50 sec. Users per second: 1031\n",
      "Similarity column 38121 (100.0%), 2960.01 column/sec. Elapsed time 12.88 sec\n",
      "EvaluatorHoldout: Ignoring 150 ( 0.4%) Users that have less than 1 test interactions\n",
      "EvaluatorHoldout: Processed 35586 (100.0%) in 34.59 sec. Users per second: 1029\n",
      "Similarity column 38121 (100.0%), 2985.24 column/sec. Elapsed time 12.77 sec\n",
      "EvaluatorHoldout: Ignoring 167 ( 0.5%) Users that have less than 1 test interactions\n",
      "EvaluatorHoldout: Processed 35569 (100.0%) in 34.49 sec. Users per second: 1031\n",
      "Similarity column 38121 (100.0%), 2978.55 column/sec. Elapsed time 12.80 sec\n",
      "EvaluatorHoldout: Ignoring 172 ( 0.5%) Users that have less than 1 test interactions\n",
      "EvaluatorHoldout: Processed 35564 (100.0%) in 34.52 sec. Users per second: 1030\n"
     ]
    },
    {
     "name": "stderr",
     "output_type": "stream",
     "text": [
      "[I 2025-01-05 13:28:49,711] Trial 241 finished with value: 0.2602256159803388 and parameters: {'similarity': 'cosine', 'topK': 24, 'shrink': 384, 'feature_weighting': 'TF-IDF'}. Best is trial 172 with value: 0.26030777685753526.\n"
     ]
    },
    {
     "name": "stdout",
     "output_type": "stream",
     "text": [
      "Similarity column 38121 (100.0%), 2987.21 column/sec. Elapsed time 12.76 sec\n",
      "EvaluatorHoldout: Ignoring 173 ( 0.5%) Users that have less than 1 test interactions\n",
      "EvaluatorHoldout: Processed 35563 (100.0%) in 35.23 sec. Users per second: 1009\n",
      "Similarity column 38121 (100.0%), 2970.63 column/sec. Elapsed time 12.83 sec\n",
      "EvaluatorHoldout: Ignoring 163 ( 0.5%) Users that have less than 1 test interactions\n",
      "EvaluatorHoldout: Processed 35573 (100.0%) in 35.30 sec. Users per second: 1008\n",
      "Similarity column 38121 (100.0%), 2989.74 column/sec. Elapsed time 12.75 sec\n",
      "EvaluatorHoldout: Ignoring 150 ( 0.4%) Users that have less than 1 test interactions\n",
      "EvaluatorHoldout: Processed 35586 (100.0%) in 35.61 sec. Users per second: 999\n",
      "Similarity column 38121 (100.0%), 2957.37 column/sec. Elapsed time 12.89 sec\n",
      "EvaluatorHoldout: Ignoring 167 ( 0.5%) Users that have less than 1 test interactions\n",
      "EvaluatorHoldout: Processed 35569 (100.0%) in 35.62 sec. Users per second: 999\n",
      "Similarity column 38121 (100.0%), 2963.91 column/sec. Elapsed time 12.86 sec\n",
      "EvaluatorHoldout: Ignoring 172 ( 0.5%) Users that have less than 1 test interactions\n",
      "EvaluatorHoldout: Processed 35564 (100.0%) in 35.70 sec. Users per second: 996\n"
     ]
    },
    {
     "name": "stderr",
     "output_type": "stream",
     "text": [
      "[I 2025-01-05 13:32:52,677] Trial 242 finished with value: 0.25989067700252066 and parameters: {'similarity': 'cosine', 'topK': 34, 'shrink': 374, 'feature_weighting': 'TF-IDF'}. Best is trial 172 with value: 0.26030777685753526.\n"
     ]
    },
    {
     "name": "stdout",
     "output_type": "stream",
     "text": [
      "Similarity column 38121 (100.0%), 2951.97 column/sec. Elapsed time 12.91 sec\n",
      "EvaluatorHoldout: Ignoring 173 ( 0.5%) Users that have less than 1 test interactions\n",
      "EvaluatorHoldout: Processed 35563 (100.0%) in 34.04 sec. Users per second: 1045\n",
      "Similarity column 38121 (100.0%), 2959.54 column/sec. Elapsed time 12.88 sec\n",
      "EvaluatorHoldout: Ignoring 163 ( 0.5%) Users that have less than 1 test interactions\n",
      "EvaluatorHoldout: Processed 35573 (100.0%) in 33.95 sec. Users per second: 1048\n",
      "Similarity column 38121 (100.0%), 2944.19 column/sec. Elapsed time 12.95 sec\n",
      "EvaluatorHoldout: Ignoring 150 ( 0.4%) Users that have less than 1 test interactions\n",
      "EvaluatorHoldout: Processed 35586 (100.0%) in 34.14 sec. Users per second: 1042\n",
      "Similarity column 38121 (100.0%), 2973.53 column/sec. Elapsed time 12.82 sec\n",
      "EvaluatorHoldout: Ignoring 167 ( 0.5%) Users that have less than 1 test interactions\n",
      "EvaluatorHoldout: Processed 35569 (100.0%) in 33.95 sec. Users per second: 1048\n",
      "Similarity column 38121 (100.0%), 2952.39 column/sec. Elapsed time 12.91 sec\n",
      "EvaluatorHoldout: Ignoring 172 ( 0.5%) Users that have less than 1 test interactions\n",
      "EvaluatorHoldout: Processed 35564 (100.0%) in 34.14 sec. Users per second: 1042\n"
     ]
    },
    {
     "name": "stderr",
     "output_type": "stream",
     "text": [
      "[I 2025-01-05 13:36:48,786] Trial 243 finished with value: 0.2601754809322693 and parameters: {'similarity': 'cosine', 'topK': 19, 'shrink': 332, 'feature_weighting': 'TF-IDF'}. Best is trial 172 with value: 0.26030777685753526.\n"
     ]
    },
    {
     "name": "stdout",
     "output_type": "stream",
     "text": [
      "Similarity column 38121 (100.0%), 2971.51 column/sec. Elapsed time 12.83 sec\n",
      "EvaluatorHoldout: Ignoring 173 ( 0.5%) Users that have less than 1 test interactions\n",
      "EvaluatorHoldout: Processed 35563 (100.0%) in 35.57 sec. Users per second: 1000\n",
      "Similarity column 38121 (100.0%), 2954.08 column/sec. Elapsed time 12.90 sec\n",
      "EvaluatorHoldout: Ignoring 163 ( 0.5%) Users that have less than 1 test interactions\n",
      "EvaluatorHoldout: Processed 35573 (100.0%) in 35.67 sec. Users per second: 997\n",
      "Similarity column 38121 (100.0%), 2971.05 column/sec. Elapsed time 12.83 sec\n",
      "EvaluatorHoldout: Ignoring 150 ( 0.4%) Users that have less than 1 test interactions\n",
      "EvaluatorHoldout: Processed 35586 (100.0%) in 35.62 sec. Users per second: 999\n",
      "Similarity column 38121 (100.0%), 2961.20 column/sec. Elapsed time 12.87 sec\n",
      "EvaluatorHoldout: Ignoring 167 ( 0.5%) Users that have less than 1 test interactions\n",
      "EvaluatorHoldout: Processed 35569 (100.0%) in 35.62 sec. Users per second: 999\n",
      "Similarity column 38121 (100.0%), 2964.82 column/sec. Elapsed time 12.86 sec\n",
      "EvaluatorHoldout: Ignoring 172 ( 0.5%) Users that have less than 1 test interactions\n",
      "EvaluatorHoldout: Processed 35564 (100.0%) in 35.46 sec. Users per second: 1003\n"
     ]
    },
    {
     "name": "stderr",
     "output_type": "stream",
     "text": [
      "[I 2025-01-05 13:40:52,445] Trial 244 finished with value: 0.2596268953818736 and parameters: {'similarity': 'cosine', 'topK': 37, 'shrink': 393, 'feature_weighting': 'TF-IDF'}. Best is trial 172 with value: 0.26030777685753526.\n"
     ]
    },
    {
     "name": "stdout",
     "output_type": "stream",
     "text": [
      "Similarity column 38121 (100.0%), 2963.35 column/sec. Elapsed time 12.86 sec\n",
      "EvaluatorHoldout: Ignoring 173 ( 0.5%) Users that have less than 1 test interactions\n",
      "EvaluatorHoldout: Processed 35563 (100.0%) in 34.73 sec. Users per second: 1024\n",
      "Similarity column 38121 (100.0%), 2979.97 column/sec. Elapsed time 12.79 sec\n",
      "EvaluatorHoldout: Ignoring 163 ( 0.5%) Users that have less than 1 test interactions\n",
      "EvaluatorHoldout: Processed 35573 (100.0%) in 34.58 sec. Users per second: 1029\n",
      "Similarity column 38121 (100.0%), 2968.82 column/sec. Elapsed time 12.84 sec\n",
      "EvaluatorHoldout: Ignoring 150 ( 0.4%) Users that have less than 1 test interactions\n",
      "EvaluatorHoldout: Processed 35586 (100.0%) in 34.45 sec. Users per second: 1033\n",
      "Similarity column 38121 (100.0%), 2976.81 column/sec. Elapsed time 12.81 sec\n",
      "EvaluatorHoldout: Ignoring 167 ( 0.5%) Users that have less than 1 test interactions\n",
      "EvaluatorHoldout: Processed 35569 (100.0%) in 34.46 sec. Users per second: 1032\n",
      "Similarity column 38121 (100.0%), 2958.91 column/sec. Elapsed time 12.88 sec\n",
      "EvaluatorHoldout: Ignoring 172 ( 0.5%) Users that have less than 1 test interactions\n",
      "EvaluatorHoldout: Processed 35564 (100.0%) in 34.56 sec. Users per second: 1029\n"
     ]
    },
    {
     "name": "stderr",
     "output_type": "stream",
     "text": [
      "[I 2025-01-05 13:44:50,811] Trial 245 finished with value: 0.2602288515369037 and parameters: {'similarity': 'cosine', 'topK': 22, 'shrink': 362, 'feature_weighting': 'TF-IDF'}. Best is trial 172 with value: 0.26030777685753526.\n"
     ]
    },
    {
     "name": "stdout",
     "output_type": "stream",
     "text": [
      "Similarity column 38121 (100.0%), 2979.19 column/sec. Elapsed time 12.80 sec\n",
      "EvaluatorHoldout: Ignoring 173 ( 0.5%) Users that have less than 1 test interactions\n",
      "EvaluatorHoldout: Processed 35563 (100.0%) in 33.23 sec. Users per second: 1070\n",
      "Similarity column 38121 (100.0%), 2964.89 column/sec. Elapsed time 12.86 sec\n",
      "EvaluatorHoldout: Ignoring 163 ( 0.5%) Users that have less than 1 test interactions\n",
      "EvaluatorHoldout: Processed 35573 (100.0%) in 33.45 sec. Users per second: 1063\n",
      "Similarity column 38121 (100.0%), 2978.33 column/sec. Elapsed time 12.80 sec\n",
      "EvaluatorHoldout: Ignoring 150 ( 0.4%) Users that have less than 1 test interactions\n",
      "EvaluatorHoldout: Processed 35586 (100.0%) in 33.45 sec. Users per second: 1064\n",
      "Similarity column 38121 (100.0%), 2959.60 column/sec. Elapsed time 12.88 sec\n",
      "EvaluatorHoldout: Ignoring 167 ( 0.5%) Users that have less than 1 test interactions\n",
      "EvaluatorHoldout: Processed 35569 (100.0%) in 33.26 sec. Users per second: 1069\n",
      "Similarity column 38121 (100.0%), 2973.65 column/sec. Elapsed time 12.82 sec\n",
      "EvaluatorHoldout: Ignoring 172 ( 0.5%) Users that have less than 1 test interactions\n",
      "EvaluatorHoldout: Processed 35564 (100.0%) in 33.38 sec. Users per second: 1065\n"
     ]
    },
    {
     "name": "stderr",
     "output_type": "stream",
     "text": [
      "[I 2025-01-05 13:48:43,085] Trial 246 finished with value: 0.25951884223100213 and parameters: {'similarity': 'cosine', 'topK': 12, 'shrink': 357, 'feature_weighting': 'TF-IDF'}. Best is trial 172 with value: 0.26030777685753526.\n"
     ]
    },
    {
     "name": "stdout",
     "output_type": "stream",
     "text": [
      "Similarity column 38121 (100.0%), 2972.91 column/sec. Elapsed time 12.82 sec\n",
      "EvaluatorHoldout: Ignoring 173 ( 0.5%) Users that have less than 1 test interactions\n",
      "EvaluatorHoldout: Processed 35563 (100.0%) in 34.47 sec. Users per second: 1032\n",
      "Similarity column 38121 (100.0%), 2978.58 column/sec. Elapsed time 12.80 sec\n",
      "EvaluatorHoldout: Ignoring 163 ( 0.5%) Users that have less than 1 test interactions\n",
      "EvaluatorHoldout: Processed 35573 (100.0%) in 34.29 sec. Users per second: 1037\n",
      "Similarity column 38121 (100.0%), 2971.20 column/sec. Elapsed time 12.83 sec\n",
      "EvaluatorHoldout: Ignoring 150 ( 0.4%) Users that have less than 1 test interactions\n",
      "EvaluatorHoldout: Processed 35586 (100.0%) in 34.38 sec. Users per second: 1035\n",
      "Similarity column 38121 (100.0%), 2974.82 column/sec. Elapsed time 12.81 sec\n",
      "EvaluatorHoldout: Ignoring 167 ( 0.5%) Users that have less than 1 test interactions\n",
      "EvaluatorHoldout: Processed 35569 (100.0%) in 34.45 sec. Users per second: 1033\n",
      "Similarity column 38121 (100.0%), 2955.38 column/sec. Elapsed time 12.90 sec\n",
      "EvaluatorHoldout: Ignoring 172 ( 0.5%) Users that have less than 1 test interactions\n",
      "EvaluatorHoldout: Processed 35564 (100.0%) in 34.28 sec. Users per second: 1037\n"
     ]
    },
    {
     "name": "stderr",
     "output_type": "stream",
     "text": [
      "[I 2025-01-05 13:52:40,508] Trial 247 finished with value: 0.26018302358003814 and parameters: {'similarity': 'cosine', 'topK': 23, 'shrink': 310, 'feature_weighting': 'TF-IDF'}. Best is trial 172 with value: 0.26030777685753526.\n"
     ]
    },
    {
     "name": "stdout",
     "output_type": "stream",
     "text": [
      "Similarity column 38121 (100.0%), 2981.01 column/sec. Elapsed time 12.79 sec\n",
      "EvaluatorHoldout: Ignoring 173 ( 0.5%) Users that have less than 1 test interactions\n",
      "EvaluatorHoldout: Processed 35563 (100.0%) in 35.92 sec. Users per second: 990\n",
      "Similarity column 38121 (100.0%), 2933.61 column/sec. Elapsed time 12.99 sec\n",
      "EvaluatorHoldout: Ignoring 163 ( 0.5%) Users that have less than 1 test interactions\n",
      "EvaluatorHoldout: Processed 35573 (100.0%) in 36.34 sec. Users per second: 979\n",
      "Similarity column 38121 (100.0%), 2960.19 column/sec. Elapsed time 12.88 sec\n",
      "EvaluatorHoldout: Ignoring 150 ( 0.4%) Users that have less than 1 test interactions\n",
      "EvaluatorHoldout: Processed 35586 (100.0%) in 35.85 sec. Users per second: 993\n",
      "Similarity column 38121 (100.0%), 2932.13 column/sec. Elapsed time 13.00 sec\n",
      "EvaluatorHoldout: Ignoring 167 ( 0.5%) Users that have less than 1 test interactions\n",
      "EvaluatorHoldout: Processed 35569 (100.0%) in 35.97 sec. Users per second: 989\n",
      "Similarity column 38121 (100.0%), 2948.63 column/sec. Elapsed time 12.93 sec\n",
      "EvaluatorHoldout: Ignoring 172 ( 0.5%) Users that have less than 1 test interactions\n",
      "EvaluatorHoldout: Processed 35564 (100.0%) in 36.21 sec. Users per second: 982\n"
     ]
    },
    {
     "name": "stderr",
     "output_type": "stream",
     "text": [
      "[I 2025-01-05 13:56:46,910] Trial 248 finished with value: 0.2590879673112943 and parameters: {'similarity': 'cosine', 'topK': 46, 'shrink': 342, 'feature_weighting': 'TF-IDF'}. Best is trial 172 with value: 0.26030777685753526.\n"
     ]
    },
    {
     "name": "stdout",
     "output_type": "stream",
     "text": [
      "Similarity column 38121 (100.0%), 2987.61 column/sec. Elapsed time 12.76 sec\n",
      "EvaluatorHoldout: Ignoring 173 ( 0.5%) Users that have less than 1 test interactions\n",
      "EvaluatorHoldout: Processed 35563 (100.0%) in 33.16 sec. Users per second: 1072\n",
      "Similarity column 38121 (100.0%), 2985.38 column/sec. Elapsed time 12.77 sec\n",
      "EvaluatorHoldout: Ignoring 163 ( 0.5%) Users that have less than 1 test interactions\n",
      "EvaluatorHoldout: Processed 35573 (100.0%) in 33.26 sec. Users per second: 1070\n",
      "Similarity column 38121 (100.0%), 2958.63 column/sec. Elapsed time 12.88 sec\n",
      "EvaluatorHoldout: Ignoring 150 ( 0.4%) Users that have less than 1 test interactions\n",
      "EvaluatorHoldout: Processed 35586 (100.0%) in 33.24 sec. Users per second: 1070\n",
      "Similarity column 38121 (100.0%), 2966.44 column/sec. Elapsed time 12.85 sec\n",
      "EvaluatorHoldout: Ignoring 167 ( 0.5%) Users that have less than 1 test interactions\n",
      "EvaluatorHoldout: Processed 35569 (100.0%) in 33.14 sec. Users per second: 1073\n",
      "Similarity column 38121 (100.0%), 2960.53 column/sec. Elapsed time 12.88 sec\n",
      "EvaluatorHoldout: Ignoring 172 ( 0.5%) Users that have less than 1 test interactions\n",
      "EvaluatorHoldout: Processed 35564 (100.0%) in 33.37 sec. Users per second: 1066\n"
     ]
    },
    {
     "name": "stderr",
     "output_type": "stream",
     "text": [
      "[I 2025-01-05 14:00:38,556] Trial 249 finished with value: 0.25958295616772503 and parameters: {'similarity': 'cosine', 'topK': 12, 'shrink': 384, 'feature_weighting': 'TF-IDF'}. Best is trial 172 with value: 0.26030777685753526.\n"
     ]
    },
    {
     "name": "stdout",
     "output_type": "stream",
     "text": [
      "Similarity column 38121 (100.0%), 2969.20 column/sec. Elapsed time 12.84 sec\n",
      "EvaluatorHoldout: Ignoring 173 ( 0.5%) Users that have less than 1 test interactions\n",
      "EvaluatorHoldout: Processed 35563 (100.0%) in 34.72 sec. Users per second: 1024\n",
      "Similarity column 38121 (100.0%), 2944.44 column/sec. Elapsed time 12.95 sec\n",
      "EvaluatorHoldout: Ignoring 163 ( 0.5%) Users that have less than 1 test interactions\n",
      "EvaluatorHoldout: Processed 35573 (100.0%) in 35.24 sec. Users per second: 1010\n",
      "Similarity column 38121 (100.0%), 2960.53 column/sec. Elapsed time 12.88 sec\n",
      "EvaluatorHoldout: Ignoring 150 ( 0.4%) Users that have less than 1 test interactions\n",
      "EvaluatorHoldout: Processed 35586 (100.0%) in 34.94 sec. Users per second: 1019\n",
      "Similarity column 38121 (100.0%), 2950.18 column/sec. Elapsed time 12.92 sec\n",
      "EvaluatorHoldout: Ignoring 167 ( 0.5%) Users that have less than 1 test interactions\n",
      "EvaluatorHoldout: Processed 35569 (100.0%) in 34.77 sec. Users per second: 1023\n",
      "Similarity column 38121 (100.0%), 2970.04 column/sec. Elapsed time 12.84 sec\n",
      "EvaluatorHoldout: Ignoring 172 ( 0.5%) Users that have less than 1 test interactions\n",
      "EvaluatorHoldout: Processed 35564 (100.0%) in 34.61 sec. Users per second: 1028\n"
     ]
    },
    {
     "name": "stderr",
     "output_type": "stream",
     "text": [
      "[I 2025-01-05 14:04:38,734] Trial 250 finished with value: 0.26018595633990504 and parameters: {'similarity': 'cosine', 'topK': 25, 'shrink': 370, 'feature_weighting': 'TF-IDF'}. Best is trial 172 with value: 0.26030777685753526.\n"
     ]
    },
    {
     "name": "stdout",
     "output_type": "stream",
     "text": [
      "Similarity column 38121 (100.0%), 2961.22 column/sec. Elapsed time 12.87 sec\n",
      "EvaluatorHoldout: Ignoring 173 ( 0.5%) Users that have less than 1 test interactions\n",
      "EvaluatorHoldout: Processed 35563 (100.0%) in 35.46 sec. Users per second: 1003\n",
      "Similarity column 38121 (100.0%), 2976.01 column/sec. Elapsed time 12.81 sec\n",
      "EvaluatorHoldout: Ignoring 163 ( 0.5%) Users that have less than 1 test interactions\n",
      "EvaluatorHoldout: Processed 35573 (100.0%) in 35.40 sec. Users per second: 1005\n",
      "Similarity column 38121 (100.0%), 2965.18 column/sec. Elapsed time 12.86 sec\n",
      "EvaluatorHoldout: Ignoring 150 ( 0.4%) Users that have less than 1 test interactions\n",
      "EvaluatorHoldout: Processed 35586 (100.0%) in 35.74 sec. Users per second: 996\n",
      "Similarity column 38121 (100.0%), 2966.51 column/sec. Elapsed time 12.85 sec\n",
      "EvaluatorHoldout: Ignoring 167 ( 0.5%) Users that have less than 1 test interactions\n",
      "EvaluatorHoldout: Processed 35569 (100.0%) in 35.47 sec. Users per second: 1003\n",
      "Similarity column 38121 (100.0%), 2959.50 column/sec. Elapsed time 12.88 sec\n",
      "EvaluatorHoldout: Ignoring 172 ( 0.5%) Users that have less than 1 test interactions\n",
      "EvaluatorHoldout: Processed 35564 (100.0%) in 35.48 sec. Users per second: 1002\n"
     ]
    },
    {
     "name": "stderr",
     "output_type": "stream",
     "text": [
      "[I 2025-01-05 14:08:42,029] Trial 251 finished with value: 0.25955719105953917 and parameters: {'similarity': 'cosine', 'topK': 38, 'shrink': 332, 'feature_weighting': 'TF-IDF'}. Best is trial 172 with value: 0.26030777685753526.\n"
     ]
    },
    {
     "name": "stdout",
     "output_type": "stream",
     "text": [
      "Similarity column 38121 (100.0%), 2941.45 column/sec. Elapsed time 12.96 sec\n",
      "EvaluatorHoldout: Ignoring 173 ( 0.5%) Users that have less than 1 test interactions\n",
      "EvaluatorHoldout: Processed 35563 (100.0%) in 37.20 sec. Users per second: 956\n",
      "Similarity column 38121 (100.0%), 2958.58 column/sec. Elapsed time 12.88 sec\n",
      "EvaluatorHoldout: Ignoring 163 ( 0.5%) Users that have less than 1 test interactions\n",
      "EvaluatorHoldout: Processed 35573 (100.0%) in 37.29 sec. Users per second: 954\n",
      "Similarity column 38121 (100.0%), 2942.01 column/sec. Elapsed time 12.96 sec\n",
      "EvaluatorHoldout: Ignoring 150 ( 0.4%) Users that have less than 1 test interactions\n",
      "EvaluatorHoldout: Processed 35586 (100.0%) in 37.11 sec. Users per second: 959\n",
      "Similarity column 38121 (100.0%), 2956.21 column/sec. Elapsed time 12.90 sec\n",
      "EvaluatorHoldout: Ignoring 167 ( 0.5%) Users that have less than 1 test interactions\n",
      "EvaluatorHoldout: Processed 35569 (100.0%) in 37.26 sec. Users per second: 955\n",
      "Similarity column 38121 (100.0%), 2941.65 column/sec. Elapsed time 12.96 sec\n",
      "EvaluatorHoldout: Ignoring 172 ( 0.5%) Users that have less than 1 test interactions\n",
      "EvaluatorHoldout: Processed 35564 (100.0%) in 37.23 sec. Users per second: 955\n"
     ]
    },
    {
     "name": "stderr",
     "output_type": "stream",
     "text": [
      "[I 2025-01-05 14:12:54,401] Trial 252 finished with value: 0.25787750019155997 and parameters: {'similarity': 'cosine', 'topK': 61, 'shrink': 536, 'feature_weighting': 'TF-IDF'}. Best is trial 172 with value: 0.26030777685753526.\n"
     ]
    },
    {
     "name": "stdout",
     "output_type": "stream",
     "text": [
      "Similarity column 38121 (100.0%), 2991.40 column/sec. Elapsed time 12.74 sec\n",
      "EvaluatorHoldout: Ignoring 173 ( 0.5%) Users that have less than 1 test interactions\n",
      "EvaluatorHoldout: Processed 35563 (100.0%) in 33.01 sec. Users per second: 1077\n",
      "Similarity column 38121 (100.0%), 2987.45 column/sec. Elapsed time 12.76 sec\n",
      "EvaluatorHoldout: Ignoring 163 ( 0.5%) Users that have less than 1 test interactions\n",
      "EvaluatorHoldout: Processed 35573 (100.0%) in 33.17 sec. Users per second: 1072\n",
      "Similarity column 38121 (100.0%), 2995.30 column/sec. Elapsed time 12.73 sec\n",
      "EvaluatorHoldout: Ignoring 150 ( 0.4%) Users that have less than 1 test interactions\n",
      "EvaluatorHoldout: Processed 35586 (100.0%) in 33.07 sec. Users per second: 1076\n",
      "Similarity column 38121 (100.0%), 2981.94 column/sec. Elapsed time 12.78 sec\n",
      "EvaluatorHoldout: Ignoring 167 ( 0.5%) Users that have less than 1 test interactions\n",
      "EvaluatorHoldout: Processed 35569 (100.0%) in 33.01 sec. Users per second: 1077\n",
      "Similarity column 38121 (100.0%), 2986.94 column/sec. Elapsed time 12.76 sec\n",
      "EvaluatorHoldout: Ignoring 172 ( 0.5%) Users that have less than 1 test interactions\n",
      "EvaluatorHoldout: Processed 35564 (100.0%) in 33.15 sec. Users per second: 1073\n"
     ]
    },
    {
     "name": "stderr",
     "output_type": "stream",
     "text": [
      "[I 2025-01-05 14:16:44,874] Trial 253 finished with value: 0.25930265616957976 and parameters: {'similarity': 'cosine', 'topK': 11, 'shrink': 405, 'feature_weighting': 'TF-IDF'}. Best is trial 172 with value: 0.26030777685753526.\n"
     ]
    },
    {
     "name": "stdout",
     "output_type": "stream",
     "text": [
      "Similarity column 38121 (100.0%), 2956.32 column/sec. Elapsed time 12.89 sec\n",
      "EvaluatorHoldout: Ignoring 173 ( 0.5%) Users that have less than 1 test interactions\n",
      "EvaluatorHoldout: Processed 35563 (100.0%) in 35.63 sec. Users per second: 998\n",
      "Similarity column 38121 (100.0%), 2977.65 column/sec. Elapsed time 12.80 sec\n",
      "EvaluatorHoldout: Ignoring 163 ( 0.5%) Users that have less than 1 test interactions\n",
      "EvaluatorHoldout: Processed 35573 (100.0%) in 35.58 sec. Users per second: 1000\n",
      "Similarity column 38121 (100.0%), 2965.34 column/sec. Elapsed time 12.86 sec\n",
      "EvaluatorHoldout: Ignoring 150 ( 0.4%) Users that have less than 1 test interactions\n",
      "EvaluatorHoldout: Processed 35586 (100.0%) in 35.60 sec. Users per second: 1000\n",
      "Similarity column 38121 (100.0%), 2983.92 column/sec. Elapsed time 12.78 sec\n",
      "EvaluatorHoldout: Ignoring 167 ( 0.5%) Users that have less than 1 test interactions\n",
      "EvaluatorHoldout: Processed 35569 (100.0%) in 35.52 sec. Users per second: 1001\n",
      "Similarity column 38121 (100.0%), 2953.63 column/sec. Elapsed time 12.91 sec\n",
      "EvaluatorHoldout: Ignoring 172 ( 0.5%) Users that have less than 1 test interactions\n",
      "EvaluatorHoldout: Processed 35564 (100.0%) in 35.55 sec. Users per second: 1001\n"
     ]
    },
    {
     "name": "stderr",
     "output_type": "stream",
     "text": [
      "[I 2025-01-05 14:20:48,402] Trial 254 finished with value: 0.2597042449670595 and parameters: {'similarity': 'cosine', 'topK': 37, 'shrink': 351, 'feature_weighting': 'TF-IDF'}. Best is trial 172 with value: 0.26030777685753526.\n"
     ]
    },
    {
     "name": "stdout",
     "output_type": "stream",
     "text": [
      "Similarity column 38121 (100.0%), 3837.60 column/sec. Elapsed time 9.93 sec\n",
      "EvaluatorHoldout: Ignoring 173 ( 0.5%) Users that have less than 1 test interactions\n",
      "EvaluatorHoldout: Processed 35563 (100.0%) in 26.06 sec. Users per second: 1365\n",
      "Similarity column 38121 (100.0%), 3849.79 column/sec. Elapsed time 9.90 sec\n",
      "EvaluatorHoldout: Ignoring 163 ( 0.5%) Users that have less than 1 test interactions\n",
      "EvaluatorHoldout: Processed 35573 (100.0%) in 26.00 sec. Users per second: 1368\n",
      "Similarity column 38121 (100.0%), 3796.79 column/sec. Elapsed time 10.04 sec\n",
      "EvaluatorHoldout: Ignoring 150 ( 0.4%) Users that have less than 1 test interactions\n",
      "EvaluatorHoldout: Processed 35586 (100.0%) in 26.07 sec. Users per second: 1365\n",
      "Similarity column 38121 (100.0%), 3807.36 column/sec. Elapsed time 10.01 sec\n",
      "EvaluatorHoldout: Ignoring 167 ( 0.5%) Users that have less than 1 test interactions\n",
      "EvaluatorHoldout: Processed 35569 (100.0%) in 26.03 sec. Users per second: 1367\n",
      "Similarity column 38121 (100.0%), 3832.60 column/sec. Elapsed time 9.95 sec\n",
      "EvaluatorHoldout: Ignoring 172 ( 0.5%) Users that have less than 1 test interactions\n",
      "EvaluatorHoldout: Processed 35564 (100.0%) in 26.01 sec. Users per second: 1367\n"
     ]
    },
    {
     "name": "stderr",
     "output_type": "stream",
     "text": [
      "[I 2025-01-05 14:23:49,603] Trial 255 finished with value: 0.0055265346604531345 and parameters: {'similarity': 'cosine', 'topK': 0, 'shrink': 363, 'feature_weighting': 'TF-IDF'}. Best is trial 172 with value: 0.26030777685753526.\n"
     ]
    },
    {
     "name": "stdout",
     "output_type": "stream",
     "text": [
      "Similarity column 38121 (100.0%), 2977.57 column/sec. Elapsed time 12.80 sec\n",
      "EvaluatorHoldout: Ignoring 173 ( 0.5%) Users that have less than 1 test interactions\n",
      "EvaluatorHoldout: Processed 35563 (100.0%) in 34.68 sec. Users per second: 1026\n",
      "Similarity column 38121 (100.0%), 2959.91 column/sec. Elapsed time 12.88 sec\n",
      "EvaluatorHoldout: Ignoring 163 ( 0.5%) Users that have less than 1 test interactions\n",
      "EvaluatorHoldout: Processed 35573 (100.0%) in 35.17 sec. Users per second: 1012\n",
      "Similarity column 38121 (100.0%), 2994.81 column/sec. Elapsed time 12.73 sec\n",
      "EvaluatorHoldout: Ignoring 150 ( 0.4%) Users that have less than 1 test interactions\n",
      "EvaluatorHoldout: Processed 35586 (100.0%) in 34.50 sec. Users per second: 1032\n",
      "Similarity column 38121 (100.0%), 2972.46 column/sec. Elapsed time 12.82 sec\n",
      "EvaluatorHoldout: Ignoring 167 ( 0.5%) Users that have less than 1 test interactions\n",
      "EvaluatorHoldout: Processed 35569 (100.0%) in 35.06 sec. Users per second: 1014\n",
      "Similarity column 38121 (100.0%), 2978.54 column/sec. Elapsed time 12.80 sec\n",
      "EvaluatorHoldout: Ignoring 172 ( 0.5%) Users that have less than 1 test interactions\n",
      "EvaluatorHoldout: Processed 35564 (100.0%) in 34.81 sec. Users per second: 1022\n"
     ]
    },
    {
     "name": "stderr",
     "output_type": "stream",
     "text": [
      "[I 2025-01-05 14:27:49,144] Trial 256 finished with value: 0.2602584809607259 and parameters: {'similarity': 'cosine', 'topK': 24, 'shrink': 390, 'feature_weighting': 'TF-IDF'}. Best is trial 172 with value: 0.26030777685753526.\n"
     ]
    },
    {
     "name": "stdout",
     "output_type": "stream",
     "text": [
      "Similarity column 38121 (100.0%), 2978.72 column/sec. Elapsed time 12.80 sec\n",
      "EvaluatorHoldout: Ignoring 173 ( 0.5%) Users that have less than 1 test interactions\n",
      "EvaluatorHoldout: Processed 35563 (100.0%) in 33.67 sec. Users per second: 1056\n",
      "Similarity column 38121 (100.0%), 2985.84 column/sec. Elapsed time 12.77 sec\n",
      "EvaluatorHoldout: Ignoring 163 ( 0.5%) Users that have less than 1 test interactions\n",
      "EvaluatorHoldout: Processed 35573 (100.0%) in 33.93 sec. Users per second: 1048\n",
      "Similarity column 38121 (100.0%), 2979.63 column/sec. Elapsed time 12.79 sec\n",
      "EvaluatorHoldout: Ignoring 150 ( 0.4%) Users that have less than 1 test interactions\n",
      "EvaluatorHoldout: Processed 35586 (100.0%) in 33.94 sec. Users per second: 1048\n",
      "Similarity column 38121 (100.0%), 2978.11 column/sec. Elapsed time 12.80 sec\n",
      "EvaluatorHoldout: Ignoring 167 ( 0.5%) Users that have less than 1 test interactions\n",
      "EvaluatorHoldout: Processed 35569 (100.0%) in 33.43 sec. Users per second: 1064\n",
      "Similarity column 38121 (100.0%), 2949.97 column/sec. Elapsed time 12.92 sec\n",
      "EvaluatorHoldout: Ignoring 172 ( 0.5%) Users that have less than 1 test interactions\n",
      "EvaluatorHoldout: Processed 35564 (100.0%) in 33.92 sec. Users per second: 1048\n"
     ]
    },
    {
     "name": "stderr",
     "output_type": "stream",
     "text": [
      "[I 2025-01-05 14:31:43,471] Trial 257 finished with value: 0.23011156573280486 and parameters: {'similarity': 'cosine', 'topK': 18, 'shrink': 395, 'feature_weighting': 'BM25'}. Best is trial 172 with value: 0.26030777685753526.\n"
     ]
    },
    {
     "name": "stdout",
     "output_type": "stream",
     "text": [
      "Similarity column 38121 (100.0%), 2982.38 column/sec. Elapsed time 12.78 sec\n",
      "EvaluatorHoldout: Ignoring 173 ( 0.5%) Users that have less than 1 test interactions\n",
      "EvaluatorHoldout: Processed 35563 (100.0%) in 36.28 sec. Users per second: 980\n",
      "Similarity column 38121 (100.0%), 2941.92 column/sec. Elapsed time 12.96 sec\n",
      "EvaluatorHoldout: Ignoring 163 ( 0.5%) Users that have less than 1 test interactions\n",
      "EvaluatorHoldout: Processed 35573 (100.0%) in 36.58 sec. Users per second: 972\n",
      "Similarity column 38121 (100.0%), 2972.78 column/sec. Elapsed time 12.82 sec\n",
      "EvaluatorHoldout: Ignoring 150 ( 0.4%) Users that have less than 1 test interactions\n",
      "EvaluatorHoldout: Processed 35586 (100.0%) in 36.61 sec. Users per second: 972\n",
      "Similarity column 38121 (100.0%), 2946.14 column/sec. Elapsed time 12.94 sec\n",
      "EvaluatorHoldout: Ignoring 167 ( 0.5%) Users that have less than 1 test interactions\n",
      "EvaluatorHoldout: Processed 35569 (100.0%) in 36.17 sec. Users per second: 983\n",
      "Similarity column 38121 (100.0%), 2963.41 column/sec. Elapsed time 12.86 sec\n",
      "EvaluatorHoldout: Ignoring 172 ( 0.5%) Users that have less than 1 test interactions\n",
      "EvaluatorHoldout: Processed 35564 (100.0%) in 36.48 sec. Users per second: 975\n"
     ]
    },
    {
     "name": "stderr",
     "output_type": "stream",
     "text": [
      "[I 2025-01-05 14:35:51,495] Trial 258 finished with value: 0.2587367168817073 and parameters: {'similarity': 'cosine', 'topK': 49, 'shrink': 412, 'feature_weighting': 'TF-IDF'}. Best is trial 172 with value: 0.26030777685753526.\n"
     ]
    },
    {
     "name": "stdout",
     "output_type": "stream",
     "text": [
      "Similarity column 38121 (100.0%), 3570.84 column/sec. Elapsed time 10.68 sec\n",
      "EvaluatorHoldout: Ignoring 173 ( 0.5%) Users that have less than 1 test interactions\n",
      "EvaluatorHoldout: Processed 35563 (100.0%) in 25.93 sec. Users per second: 1371\n",
      "Similarity column 38121 (100.0%), 3558.41 column/sec. Elapsed time 10.71 sec\n",
      "EvaluatorHoldout: Ignoring 163 ( 0.5%) Users that have less than 1 test interactions\n",
      "EvaluatorHoldout: Processed 35573 (100.0%) in 26.38 sec. Users per second: 1348\n",
      "Similarity column 38121 (100.0%), 3562.93 column/sec. Elapsed time 10.70 sec\n",
      "EvaluatorHoldout: Ignoring 150 ( 0.4%) Users that have less than 1 test interactions\n",
      "EvaluatorHoldout: Processed 35586 (100.0%) in 26.12 sec. Users per second: 1363\n",
      "Similarity column 38121 (100.0%), 3567.37 column/sec. Elapsed time 10.69 sec\n",
      "EvaluatorHoldout: Ignoring 167 ( 0.5%) Users that have less than 1 test interactions\n",
      "EvaluatorHoldout: Processed 35569 (100.0%) in 26.24 sec. Users per second: 1355\n",
      "Similarity column 38121 (100.0%), 3535.11 column/sec. Elapsed time 10.78 sec\n",
      "EvaluatorHoldout: Ignoring 172 ( 0.5%) Users that have less than 1 test interactions\n",
      "EvaluatorHoldout: Processed 35564 (100.0%) in 25.80 sec. Users per second: 1378\n"
     ]
    },
    {
     "name": "stderr",
     "output_type": "stream",
     "text": [
      "[I 2025-01-05 14:38:57,641] Trial 259 finished with value: 0.0055265346604531345 and parameters: {'similarity': 'tversky', 'topK': 0, 'shrink': 503, 'feature_weighting': 'TF-IDF', 'tversky_alpha': 0.4756336408642483, 'tversky_beta': 0.6878494702791231}. Best is trial 172 with value: 0.26030777685753526.\n"
     ]
    },
    {
     "name": "stdout",
     "output_type": "stream",
     "text": [
      "Similarity column 38121 (100.0%), 2953.13 column/sec. Elapsed time 12.91 sec\n",
      "EvaluatorHoldout: Ignoring 173 ( 0.5%) Users that have less than 1 test interactions\n",
      "EvaluatorHoldout: Processed 35563 (100.0%) in 34.96 sec. Users per second: 1017\n",
      "Similarity column 38121 (100.0%), 2987.33 column/sec. Elapsed time 12.76 sec\n",
      "EvaluatorHoldout: Ignoring 163 ( 0.5%) Users that have less than 1 test interactions\n",
      "EvaluatorHoldout: Processed 35573 (100.0%) in 35.07 sec. Users per second: 1014\n",
      "Similarity column 38121 (100.0%), 2970.21 column/sec. Elapsed time 12.83 sec\n",
      "EvaluatorHoldout: Ignoring 150 ( 0.4%) Users that have less than 1 test interactions\n",
      "EvaluatorHoldout: Processed 35586 (100.0%) in 34.90 sec. Users per second: 1020\n",
      "Similarity column 38121 (100.0%), 2986.50 column/sec. Elapsed time 12.76 sec\n",
      "EvaluatorHoldout: Ignoring 167 ( 0.5%) Users that have less than 1 test interactions\n",
      "EvaluatorHoldout: Processed 35569 (100.0%) in 35.10 sec. Users per second: 1013\n",
      "Similarity column 38121 (100.0%), 2965.26 column/sec. Elapsed time 12.86 sec\n",
      "EvaluatorHoldout: Ignoring 172 ( 0.5%) Users that have less than 1 test interactions\n",
      "EvaluatorHoldout: Processed 35564 (100.0%) in 35.34 sec. Users per second: 1006\n"
     ]
    },
    {
     "name": "stderr",
     "output_type": "stream",
     "text": [
      "[I 2025-01-05 14:42:58,516] Trial 260 finished with value: 0.26007023824899744 and parameters: {'similarity': 'cosine', 'topK': 30, 'shrink': 376, 'feature_weighting': 'TF-IDF'}. Best is trial 172 with value: 0.26030777685753526.\n"
     ]
    },
    {
     "name": "stdout",
     "output_type": "stream",
     "text": [
      "Similarity column 38121 (100.0%), 2984.52 column/sec. Elapsed time 12.77 sec\n",
      "EvaluatorHoldout: Ignoring 173 ( 0.5%) Users that have less than 1 test interactions\n",
      "EvaluatorHoldout: Processed 35563 (100.0%) in 39.83 sec. Users per second: 893\n",
      "Similarity column 38121 (100.0%), 2967.30 column/sec. Elapsed time 12.85 sec\n",
      "EvaluatorHoldout: Ignoring 163 ( 0.5%) Users that have less than 1 test interactions\n",
      "EvaluatorHoldout: Processed 35573 (100.0%) in 39.61 sec. Users per second: 898\n",
      "Similarity column 38121 (100.0%), 2956.03 column/sec. Elapsed time 12.90 sec\n",
      "EvaluatorHoldout: Ignoring 150 ( 0.4%) Users that have less than 1 test interactions\n",
      "EvaluatorHoldout: Processed 35586 (100.0%) in 40.04 sec. Users per second: 889\n",
      "Similarity column 38121 (100.0%), 2965.21 column/sec. Elapsed time 12.86 sec\n",
      "EvaluatorHoldout: Ignoring 167 ( 0.5%) Users that have less than 1 test interactions\n",
      "EvaluatorHoldout: Processed 35569 (100.0%) in 39.83 sec. Users per second: 893\n",
      "Similarity column 38121 (100.0%), 2968.32 column/sec. Elapsed time 12.84 sec\n",
      "EvaluatorHoldout: Ignoring 172 ( 0.5%) Users that have less than 1 test interactions\n",
      "EvaluatorHoldout: Processed 35564 (100.0%) in 39.89 sec. Users per second: 891\n"
     ]
    },
    {
     "name": "stderr",
     "output_type": "stream",
     "text": [
      "[I 2025-01-05 14:47:23,441] Trial 261 finished with value: 0.20937287642597688 and parameters: {'similarity': 'asymmetric', 'topK': 51, 'shrink': 293, 'feature_weighting': 'TF-IDF', 'asymmetric_alpha': 0.9190069335301394}. Best is trial 172 with value: 0.26030777685753526.\n"
     ]
    },
    {
     "name": "stdout",
     "output_type": "stream",
     "text": [
      "Similarity column 38121 (100.0%), 2972.67 column/sec. Elapsed time 12.82 sec\n",
      "EvaluatorHoldout: Ignoring 173 ( 0.5%) Users that have less than 1 test interactions\n",
      "EvaluatorHoldout: Processed 35563 (100.0%) in 34.33 sec. Users per second: 1036\n",
      "Similarity column 38121 (100.0%), 2980.48 column/sec. Elapsed time 12.79 sec\n",
      "EvaluatorHoldout: Ignoring 163 ( 0.5%) Users that have less than 1 test interactions\n",
      "EvaluatorHoldout: Processed 35573 (100.0%) in 34.46 sec. Users per second: 1032\n",
      "Similarity column 38121 (100.0%), 2952.92 column/sec. Elapsed time 12.91 sec\n",
      "EvaluatorHoldout: Ignoring 150 ( 0.4%) Users that have less than 1 test interactions\n",
      "EvaluatorHoldout: Processed 35586 (100.0%) in 34.46 sec. Users per second: 1033\n",
      "Similarity column 38121 (100.0%), 2966.81 column/sec. Elapsed time 12.85 sec\n",
      "EvaluatorHoldout: Ignoring 167 ( 0.5%) Users that have less than 1 test interactions\n",
      "EvaluatorHoldout: Processed 35569 (100.0%) in 34.40 sec. Users per second: 1034\n",
      "Similarity column 38121 (100.0%), 2944.55 column/sec. Elapsed time 12.95 sec\n",
      "EvaluatorHoldout: Ignoring 172 ( 0.5%) Users that have less than 1 test interactions\n",
      "EvaluatorHoldout: Processed 35564 (100.0%) in 34.37 sec. Users per second: 1035\n"
     ]
    },
    {
     "name": "stderr",
     "output_type": "stream",
     "text": [
      "[I 2025-01-05 14:51:21,093] Trial 262 finished with value: 0.26028008884807147 and parameters: {'similarity': 'cosine', 'topK': 21, 'shrink': 389, 'feature_weighting': 'TF-IDF'}. Best is trial 172 with value: 0.26030777685753526.\n"
     ]
    },
    {
     "name": "stdout",
     "output_type": "stream",
     "text": [
      "Similarity column 38121 (100.0%), 2986.45 column/sec. Elapsed time 12.76 sec\n",
      "EvaluatorHoldout: Ignoring 173 ( 0.5%) Users that have less than 1 test interactions\n",
      "EvaluatorHoldout: Processed 35563 (100.0%) in 35.90 sec. Users per second: 991\n",
      "Similarity column 38121 (100.0%), 2949.10 column/sec. Elapsed time 12.93 sec\n",
      "EvaluatorHoldout: Ignoring 163 ( 0.5%) Users that have less than 1 test interactions\n",
      "EvaluatorHoldout: Processed 35573 (100.0%) in 35.95 sec. Users per second: 989\n",
      "Similarity column 38121 (100.0%), 2951.48 column/sec. Elapsed time 12.92 sec\n",
      "EvaluatorHoldout: Ignoring 150 ( 0.4%) Users that have less than 1 test interactions\n",
      "EvaluatorHoldout: Processed 35586 (100.0%) in 35.98 sec. Users per second: 989\n",
      "Similarity column 38121 (100.0%), 2937.11 column/sec. Elapsed time 12.98 sec\n",
      "EvaluatorHoldout: Ignoring 167 ( 0.5%) Users that have less than 1 test interactions\n",
      "EvaluatorHoldout: Processed 35569 (100.0%) in 36.02 sec. Users per second: 987\n",
      "Similarity column 38121 (100.0%), 2954.36 column/sec. Elapsed time 12.90 sec\n",
      "EvaluatorHoldout: Ignoring 172 ( 0.5%) Users that have less than 1 test interactions\n",
      "EvaluatorHoldout: Processed 35564 (100.0%) in 36.05 sec. Users per second: 987\n"
     ]
    },
    {
     "name": "stderr",
     "output_type": "stream",
     "text": [
      "[I 2025-01-05 14:55:26,965] Trial 263 finished with value: 0.2593807253561915 and parameters: {'similarity': 'cosine', 'topK': 39, 'shrink': 391, 'feature_weighting': 'TF-IDF'}. Best is trial 172 with value: 0.26030777685753526.\n"
     ]
    },
    {
     "name": "stdout",
     "output_type": "stream",
     "text": [
      "Similarity column 38121 (100.0%), 588.10 column/sec. Elapsed time 1.08 min\n",
      "EvaluatorHoldout: Ignoring 173 ( 0.5%) Users that have less than 1 test interactions\n",
      "EvaluatorHoldout: Processed 35563 (100.0%) in 29.22 sec. Users per second: 1217\n",
      "Similarity column 38121 (100.0%), 550.21 column/sec. Elapsed time 1.15 min\n",
      "EvaluatorHoldout: Ignoring 163 ( 0.5%) Users that have less than 1 test interactions\n",
      "EvaluatorHoldout: Processed 35573 (100.0%) in 29.21 sec. Users per second: 1218\n",
      "Similarity column 38121 (100.0%), 588.12 column/sec. Elapsed time 1.08 min\n",
      "EvaluatorHoldout: Ignoring 150 ( 0.4%) Users that have less than 1 test interactions\n",
      "EvaluatorHoldout: Processed 35586 (100.0%) in 29.36 sec. Users per second: 1212\n",
      "Similarity column 38121 (100.0%), 554.19 column/sec. Elapsed time 1.15 min\n",
      "EvaluatorHoldout: Ignoring 167 ( 0.5%) Users that have less than 1 test interactions\n",
      "EvaluatorHoldout: Processed 35569 (100.0%) in 29.13 sec. Users per second: 1221\n",
      "Similarity column 38121 (100.0%), 546.41 column/sec. Elapsed time 1.16 min\n",
      "EvaluatorHoldout: Ignoring 172 ( 0.5%) Users that have less than 1 test interactions\n",
      "EvaluatorHoldout: Processed 35564 (100.0%) in 29.05 sec. Users per second: 1224\n"
     ]
    },
    {
     "name": "stderr",
     "output_type": "stream",
     "text": [
      "[I 2025-01-05 15:03:31,705] Trial 264 finished with value: 0.09553855607140857 and parameters: {'similarity': 'euclidean', 'topK': 67, 'shrink': 416, 'feature_weighting': 'TF-IDF', 'normalize_avg_row': True, 'similarity_from_distance_mode': 'lin', 'normalize': False}. Best is trial 172 with value: 0.26030777685753526.\n"
     ]
    },
    {
     "name": "stdout",
     "output_type": "stream",
     "text": [
      "Similarity column 38121 (100.0%), 2996.98 column/sec. Elapsed time 12.72 sec\n",
      "EvaluatorHoldout: Ignoring 173 ( 0.5%) Users that have less than 1 test interactions\n",
      "EvaluatorHoldout: Processed 35563 (100.0%) in 33.94 sec. Users per second: 1048\n",
      "Similarity column 38121 (100.0%), 2958.18 column/sec. Elapsed time 12.89 sec\n",
      "EvaluatorHoldout: Ignoring 163 ( 0.5%) Users that have less than 1 test interactions\n",
      "EvaluatorHoldout: Processed 35573 (100.0%) in 33.75 sec. Users per second: 1054\n",
      "Similarity column 38121 (100.0%), 2988.31 column/sec. Elapsed time 12.76 sec\n",
      "EvaluatorHoldout: Ignoring 150 ( 0.4%) Users that have less than 1 test interactions\n",
      "EvaluatorHoldout: Processed 35586 (100.0%) in 34.03 sec. Users per second: 1046\n",
      "Similarity column 38121 (100.0%), 2969.52 column/sec. Elapsed time 12.84 sec\n",
      "EvaluatorHoldout: Ignoring 167 ( 0.5%) Users that have less than 1 test interactions\n",
      "EvaluatorHoldout: Processed 35569 (100.0%) in 34.69 sec. Users per second: 1025\n",
      "Similarity column 38121 (100.0%), 2982.36 column/sec. Elapsed time 12.78 sec\n",
      "EvaluatorHoldout: Ignoring 172 ( 0.5%) Users that have less than 1 test interactions\n",
      "EvaluatorHoldout: Processed 35564 (100.0%) in 34.11 sec. Users per second: 1043\n"
     ]
    },
    {
     "name": "stderr",
     "output_type": "stream",
     "text": [
      "[I 2025-01-05 15:07:27,495] Trial 265 finished with value: 0.2599422480992969 and parameters: {'similarity': 'cosine', 'topK': 15, 'shrink': 482, 'feature_weighting': 'TF-IDF'}. Best is trial 172 with value: 0.26030777685753526.\n"
     ]
    },
    {
     "name": "stdout",
     "output_type": "stream",
     "text": [
      "Similarity column 38121 (100.0%), 2968.92 column/sec. Elapsed time 12.84 sec\n",
      "EvaluatorHoldout: Ignoring 173 ( 0.5%) Users that have less than 1 test interactions\n",
      "EvaluatorHoldout: Processed 35563 (100.0%) in 35.05 sec. Users per second: 1015\n",
      "Similarity column 38121 (100.0%), 2981.44 column/sec. Elapsed time 12.79 sec\n",
      "EvaluatorHoldout: Ignoring 163 ( 0.5%) Users that have less than 1 test interactions\n",
      "EvaluatorHoldout: Processed 35573 (100.0%) in 35.37 sec. Users per second: 1006\n",
      "Similarity column 38121 (100.0%), 2964.60 column/sec. Elapsed time 12.86 sec\n",
      "EvaluatorHoldout: Ignoring 150 ( 0.4%) Users that have less than 1 test interactions\n",
      "EvaluatorHoldout: Processed 35586 (100.0%) in 35.06 sec. Users per second: 1015\n",
      "Similarity column 38121 (100.0%), 2983.25 column/sec. Elapsed time 12.78 sec\n",
      "EvaluatorHoldout: Ignoring 167 ( 0.5%) Users that have less than 1 test interactions\n",
      "EvaluatorHoldout: Processed 35569 (100.0%) in 35.41 sec. Users per second: 1004\n",
      "Similarity column 38121 (100.0%), 2962.42 column/sec. Elapsed time 12.87 sec\n",
      "EvaluatorHoldout: Ignoring 172 ( 0.5%) Users that have less than 1 test interactions\n",
      "EvaluatorHoldout: Processed 35564 (100.0%) in 35.44 sec. Users per second: 1004\n"
     ]
    },
    {
     "name": "stderr",
     "output_type": "stream",
     "text": [
      "[I 2025-01-05 15:11:29,335] Trial 266 finished with value: 0.26010841108429805 and parameters: {'similarity': 'cosine', 'topK': 31, 'shrink': 397, 'feature_weighting': 'TF-IDF'}. Best is trial 172 with value: 0.26030777685753526.\n"
     ]
    },
    {
     "name": "stdout",
     "output_type": "stream",
     "text": [
      "Similarity column 38121 (100.0%), 3118.23 column/sec. Elapsed time 12.23 sec\n",
      "EvaluatorHoldout: Ignoring 173 ( 0.5%) Users that have less than 1 test interactions\n",
      "EvaluatorHoldout: Processed 35563 (100.0%) in 37.88 sec. Users per second: 939\n",
      "Similarity column 38121 (100.0%), 3079.01 column/sec. Elapsed time 12.38 sec\n",
      "EvaluatorHoldout: Ignoring 163 ( 0.5%) Users that have less than 1 test interactions\n",
      "EvaluatorHoldout: Processed 35573 (100.0%) in 38.08 sec. Users per second: 934\n",
      "Similarity column 38121 (100.0%), 3089.90 column/sec. Elapsed time 12.34 sec\n",
      "EvaluatorHoldout: Ignoring 150 ( 0.4%) Users that have less than 1 test interactions\n",
      "EvaluatorHoldout: Processed 35586 (100.0%) in 38.42 sec. Users per second: 926\n",
      "Similarity column 38121 (100.0%), 3089.07 column/sec. Elapsed time 12.34 sec\n",
      "EvaluatorHoldout: Ignoring 167 ( 0.5%) Users that have less than 1 test interactions\n",
      "EvaluatorHoldout: Processed 35569 (100.0%) in 38.21 sec. Users per second: 931\n",
      "Similarity column 38121 (100.0%), 3069.21 column/sec. Elapsed time 12.42 sec\n",
      "EvaluatorHoldout: Ignoring 172 ( 0.5%) Users that have less than 1 test interactions\n",
      "EvaluatorHoldout: Processed 35564 (100.0%) in 38.23 sec. Users per second: 930\n"
     ]
    },
    {
     "name": "stderr",
     "output_type": "stream",
     "text": [
      "[I 2025-01-05 15:15:44,211] Trial 267 finished with value: 0.22476821283625031 and parameters: {'similarity': 'dice', 'topK': 49, 'shrink': 524, 'feature_weighting': 'TF-IDF'}. Best is trial 172 with value: 0.26030777685753526.\n"
     ]
    },
    {
     "name": "stdout",
     "output_type": "stream",
     "text": [
      "Similarity column 38121 (100.0%), 2991.78 column/sec. Elapsed time 12.74 sec\n",
      "EvaluatorHoldout: Ignoring 173 ( 0.5%) Users that have less than 1 test interactions\n",
      "EvaluatorHoldout: Processed 35563 (100.0%) in 33.50 sec. Users per second: 1062\n",
      "Similarity column 38121 (100.0%), 2964.34 column/sec. Elapsed time 12.86 sec\n",
      "EvaluatorHoldout: Ignoring 163 ( 0.5%) Users that have less than 1 test interactions\n",
      "EvaluatorHoldout: Processed 35573 (100.0%) in 33.88 sec. Users per second: 1050\n",
      "Similarity column 38121 (100.0%), 2975.28 column/sec. Elapsed time 12.81 sec\n",
      "EvaluatorHoldout: Ignoring 150 ( 0.4%) Users that have less than 1 test interactions\n",
      "EvaluatorHoldout: Processed 35586 (100.0%) in 33.57 sec. Users per second: 1060\n",
      "Similarity column 38121 (100.0%), 2962.55 column/sec. Elapsed time 12.87 sec\n",
      "EvaluatorHoldout: Ignoring 167 ( 0.5%) Users that have less than 1 test interactions\n",
      "EvaluatorHoldout: Processed 35569 (100.0%) in 33.72 sec. Users per second: 1055\n",
      "Similarity column 38121 (100.0%), 2991.94 column/sec. Elapsed time 12.74 sec\n",
      "EvaluatorHoldout: Ignoring 172 ( 0.5%) Users that have less than 1 test interactions\n",
      "EvaluatorHoldout: Processed 35564 (100.0%) in 33.63 sec. Users per second: 1058\n"
     ]
    },
    {
     "name": "stderr",
     "output_type": "stream",
     "text": [
      "[I 2025-01-05 15:19:37,832] Trial 268 finished with value: 0.259786569921156 and parameters: {'similarity': 'cosine', 'topK': 14, 'shrink': 377, 'feature_weighting': 'TF-IDF'}. Best is trial 172 with value: 0.26030777685753526.\n"
     ]
    },
    {
     "name": "stdout",
     "output_type": "stream",
     "text": [
      "Similarity column 38121 (100.0%), 2963.72 column/sec. Elapsed time 12.86 sec\n",
      "EvaluatorHoldout: Ignoring 173 ( 0.5%) Users that have less than 1 test interactions\n",
      "EvaluatorHoldout: Processed 35563 (100.0%) in 35.07 sec. Users per second: 1014\n",
      "Similarity column 38121 (100.0%), 2995.70 column/sec. Elapsed time 12.73 sec\n",
      "EvaluatorHoldout: Ignoring 163 ( 0.5%) Users that have less than 1 test interactions\n",
      "EvaluatorHoldout: Processed 35573 (100.0%) in 35.25 sec. Users per second: 1009\n",
      "Similarity column 38121 (100.0%), 2974.71 column/sec. Elapsed time 12.82 sec\n",
      "EvaluatorHoldout: Ignoring 150 ( 0.4%) Users that have less than 1 test interactions\n",
      "EvaluatorHoldout: Processed 35586 (100.0%) in 34.88 sec. Users per second: 1020\n",
      "Similarity column 38121 (100.0%), 2987.81 column/sec. Elapsed time 12.76 sec\n",
      "EvaluatorHoldout: Ignoring 167 ( 0.5%) Users that have less than 1 test interactions\n",
      "EvaluatorHoldout: Processed 35569 (100.0%) in 35.24 sec. Users per second: 1009\n",
      "Similarity column 38121 (100.0%), 2972.28 column/sec. Elapsed time 12.83 sec\n",
      "EvaluatorHoldout: Ignoring 172 ( 0.5%) Users that have less than 1 test interactions\n",
      "EvaluatorHoldout: Processed 35564 (100.0%) in 34.97 sec. Users per second: 1017\n"
     ]
    },
    {
     "name": "stderr",
     "output_type": "stream",
     "text": [
      "[I 2025-01-05 15:23:38,580] Trial 269 finished with value: 0.2600146054175172 and parameters: {'similarity': 'cosine', 'topK': 29, 'shrink': 424, 'feature_weighting': 'TF-IDF'}. Best is trial 172 with value: 0.26030777685753526.\n"
     ]
    },
    {
     "name": "stdout",
     "output_type": "stream",
     "text": [
      "Similarity column 38121 (100.0%), 2989.21 column/sec. Elapsed time 12.75 sec\n",
      "EvaluatorHoldout: Ignoring 173 ( 0.5%) Users that have less than 1 test interactions\n",
      "EvaluatorHoldout: Processed 35563 (100.0%) in 33.24 sec. Users per second: 1070\n",
      "Similarity column 38121 (100.0%), 2977.82 column/sec. Elapsed time 12.80 sec\n",
      "EvaluatorHoldout: Ignoring 163 ( 0.5%) Users that have less than 1 test interactions\n",
      "EvaluatorHoldout: Processed 35573 (100.0%) in 33.69 sec. Users per second: 1056\n",
      "Similarity column 38121 (100.0%), 3000.34 column/sec. Elapsed time 12.71 sec\n",
      "EvaluatorHoldout: Ignoring 150 ( 0.4%) Users that have less than 1 test interactions\n",
      "EvaluatorHoldout: Processed 35586 (100.0%) in 33.34 sec. Users per second: 1067\n",
      "Similarity column 38121 (100.0%), 2969.87 column/sec. Elapsed time 12.84 sec\n",
      "EvaluatorHoldout: Ignoring 167 ( 0.5%) Users that have less than 1 test interactions\n",
      "EvaluatorHoldout: Processed 35569 (100.0%) in 33.29 sec. Users per second: 1068\n",
      "Similarity column 38121 (100.0%), 2995.38 column/sec. Elapsed time 12.73 sec\n",
      "EvaluatorHoldout: Ignoring 172 ( 0.5%) Users that have less than 1 test interactions\n",
      "EvaluatorHoldout: Processed 35564 (100.0%) in 33.21 sec. Users per second: 1071\n"
     ]
    },
    {
     "name": "stderr",
     "output_type": "stream",
     "text": [
      "[I 2025-01-05 15:27:30,434] Trial 270 finished with value: 0.25937865695511186 and parameters: {'similarity': 'cosine', 'topK': 11, 'shrink': 468, 'feature_weighting': 'TF-IDF'}. Best is trial 172 with value: 0.26030777685753526.\n"
     ]
    },
    {
     "name": "stdout",
     "output_type": "stream",
     "text": [
      "Similarity column 38121 (100.0%), 3819.19 column/sec. Elapsed time 9.98 sec\n",
      "EvaluatorHoldout: Ignoring 173 ( 0.5%) Users that have less than 1 test interactions\n",
      "EvaluatorHoldout: Processed 35563 (100.0%) in 25.95 sec. Users per second: 1370\n",
      "Similarity column 38121 (100.0%), 3807.21 column/sec. Elapsed time 10.01 sec\n",
      "EvaluatorHoldout: Ignoring 163 ( 0.5%) Users that have less than 1 test interactions\n",
      "EvaluatorHoldout: Processed 35573 (100.0%) in 26.12 sec. Users per second: 1362\n",
      "Similarity column 38121 (100.0%), 3806.48 column/sec. Elapsed time 10.01 sec\n",
      "EvaluatorHoldout: Ignoring 150 ( 0.4%) Users that have less than 1 test interactions\n",
      "EvaluatorHoldout: Processed 35586 (100.0%) in 25.92 sec. Users per second: 1373\n",
      "Similarity column 38121 (100.0%), 3851.50 column/sec. Elapsed time 9.90 sec\n",
      "EvaluatorHoldout: Ignoring 167 ( 0.5%) Users that have less than 1 test interactions\n",
      "EvaluatorHoldout: Processed 35569 (100.0%) in 26.09 sec. Users per second: 1363\n",
      "Similarity column 38121 (100.0%), 3840.74 column/sec. Elapsed time 9.93 sec\n",
      "EvaluatorHoldout: Ignoring 172 ( 0.5%) Users that have less than 1 test interactions\n",
      "EvaluatorHoldout: Processed 35564 (100.0%) in 26.38 sec. Users per second: 1348\n"
     ]
    },
    {
     "name": "stderr",
     "output_type": "stream",
     "text": [
      "[I 2025-01-05 15:30:31,915] Trial 271 finished with value: 0.0055265346604531345 and parameters: {'similarity': 'cosine', 'topK': 0, 'shrink': 316, 'feature_weighting': 'TF-IDF'}. Best is trial 172 with value: 0.26030777685753526.\n"
     ]
    },
    {
     "name": "stdout",
     "output_type": "stream",
     "text": [
      "Similarity column 38121 (100.0%), 2986.42 column/sec. Elapsed time 12.76 sec\n",
      "EvaluatorHoldout: Ignoring 173 ( 0.5%) Users that have less than 1 test interactions\n",
      "EvaluatorHoldout: Processed 35563 (100.0%) in 36.14 sec. Users per second: 984\n",
      "Similarity column 38121 (100.0%), 2958.30 column/sec. Elapsed time 12.89 sec\n",
      "EvaluatorHoldout: Ignoring 163 ( 0.5%) Users that have less than 1 test interactions\n",
      "EvaluatorHoldout: Processed 35573 (100.0%) in 36.01 sec. Users per second: 988\n",
      "Similarity column 38121 (100.0%), 2972.96 column/sec. Elapsed time 12.82 sec\n",
      "EvaluatorHoldout: Ignoring 150 ( 0.4%) Users that have less than 1 test interactions\n",
      "EvaluatorHoldout: Processed 35586 (100.0%) in 36.50 sec. Users per second: 975\n",
      "Similarity column 38121 (100.0%), 2970.10 column/sec. Elapsed time 12.83 sec\n",
      "EvaluatorHoldout: Ignoring 167 ( 0.5%) Users that have less than 1 test interactions\n",
      "EvaluatorHoldout: Processed 35569 (100.0%) in 36.27 sec. Users per second: 981\n",
      "Similarity column 38121 (100.0%), 2942.93 column/sec. Elapsed time 12.95 sec\n",
      "EvaluatorHoldout: Ignoring 172 ( 0.5%) Users that have less than 1 test interactions\n",
      "EvaluatorHoldout: Processed 35564 (100.0%) in 36.20 sec. Users per second: 982\n"
     ]
    },
    {
     "name": "stderr",
     "output_type": "stream",
     "text": [
      "[I 2025-01-05 15:34:38,776] Trial 272 finished with value: 0.2590838442103591 and parameters: {'similarity': 'cosine', 'topK': 41, 'shrink': 502, 'feature_weighting': 'TF-IDF'}. Best is trial 172 with value: 0.26030777685753526.\n"
     ]
    },
    {
     "name": "stdout",
     "output_type": "stream",
     "text": [
      "Similarity column 38121 (100.0%), 2957.95 column/sec. Elapsed time 12.89 sec\n",
      "EvaluatorHoldout: Ignoring 173 ( 0.5%) Users that have less than 1 test interactions\n",
      "EvaluatorHoldout: Processed 35563 (100.0%) in 37.02 sec. Users per second: 961\n",
      "Similarity column 38121 (100.0%), 2922.50 column/sec. Elapsed time 13.04 sec\n",
      "EvaluatorHoldout: Ignoring 163 ( 0.5%) Users that have less than 1 test interactions\n",
      "EvaluatorHoldout: Processed 35573 (100.0%) in 36.93 sec. Users per second: 963\n",
      "Similarity column 38121 (100.0%), 2945.09 column/sec. Elapsed time 12.94 sec\n",
      "EvaluatorHoldout: Ignoring 150 ( 0.4%) Users that have less than 1 test interactions\n",
      "EvaluatorHoldout: Processed 35586 (100.0%) in 36.98 sec. Users per second: 962\n",
      "Similarity column 38121 (100.0%), 2949.14 column/sec. Elapsed time 12.93 sec\n",
      "EvaluatorHoldout: Ignoring 167 ( 0.5%) Users that have less than 1 test interactions\n",
      "EvaluatorHoldout: Processed 35569 (100.0%) in 37.26 sec. Users per second: 955\n",
      "Similarity column 38121 (100.0%), 2953.11 column/sec. Elapsed time 12.91 sec\n",
      "EvaluatorHoldout: Ignoring 172 ( 0.5%) Users that have less than 1 test interactions\n",
      "EvaluatorHoldout: Processed 35564 (100.0%) in 36.90 sec. Users per second: 964\n"
     ]
    },
    {
     "name": "stderr",
     "output_type": "stream",
     "text": [
      "[I 2025-01-05 15:38:50,171] Trial 273 finished with value: 0.25808956918456116 and parameters: {'similarity': 'cosine', 'topK': 62, 'shrink': 370, 'feature_weighting': 'TF-IDF'}. Best is trial 172 with value: 0.26030777685753526.\n"
     ]
    },
    {
     "name": "stdout",
     "output_type": "stream",
     "text": [
      "Similarity column 38121 (100.0%), 2981.19 column/sec. Elapsed time 12.79 sec\n",
      "EvaluatorHoldout: Ignoring 173 ( 0.5%) Users that have less than 1 test interactions\n",
      "EvaluatorHoldout: Processed 35563 (100.0%) in 34.43 sec. Users per second: 1033\n",
      "Similarity column 38121 (100.0%), 2968.88 column/sec. Elapsed time 12.84 sec\n",
      "EvaluatorHoldout: Ignoring 163 ( 0.5%) Users that have less than 1 test interactions\n",
      "EvaluatorHoldout: Processed 35573 (100.0%) in 34.91 sec. Users per second: 1019\n",
      "Similarity column 38121 (100.0%), 2989.76 column/sec. Elapsed time 12.75 sec\n",
      "EvaluatorHoldout: Ignoring 150 ( 0.4%) Users that have less than 1 test interactions\n",
      "EvaluatorHoldout: Processed 35586 (100.0%) in 34.68 sec. Users per second: 1026\n",
      "Similarity column 38121 (100.0%), 2966.04 column/sec. Elapsed time 12.85 sec\n",
      "EvaluatorHoldout: Ignoring 167 ( 0.5%) Users that have less than 1 test interactions\n",
      "EvaluatorHoldout: Processed 35569 (100.0%) in 34.80 sec. Users per second: 1022\n",
      "Similarity column 38121 (100.0%), 2988.06 column/sec. Elapsed time 12.76 sec\n",
      "EvaluatorHoldout: Ignoring 172 ( 0.5%) Users that have less than 1 test interactions\n",
      "EvaluatorHoldout: Processed 35564 (100.0%) in 34.80 sec. Users per second: 1022\n"
     ]
    },
    {
     "name": "stderr",
     "output_type": "stream",
     "text": [
      "[I 2025-01-05 15:42:49,100] Trial 274 finished with value: 0.2602203281578796 and parameters: {'similarity': 'cosine', 'topK': 23, 'shrink': 404, 'feature_weighting': 'TF-IDF'}. Best is trial 172 with value: 0.26030777685753526.\n"
     ]
    },
    {
     "name": "stdout",
     "output_type": "stream",
     "text": [
      "Similarity column 38121 (100.0%), 2969.92 column/sec. Elapsed time 12.84 sec\n",
      "EvaluatorHoldout: Ignoring 173 ( 0.5%) Users that have less than 1 test interactions\n",
      "EvaluatorHoldout: Processed 35563 (100.0%) in 35.66 sec. Users per second: 997\n",
      "Similarity column 38121 (100.0%), 2979.54 column/sec. Elapsed time 12.79 sec\n",
      "EvaluatorHoldout: Ignoring 163 ( 0.5%) Users that have less than 1 test interactions\n",
      "EvaluatorHoldout: Processed 35573 (100.0%) in 35.51 sec. Users per second: 1002\n",
      "Similarity column 38121 (100.0%), 2974.49 column/sec. Elapsed time 12.82 sec\n",
      "EvaluatorHoldout: Ignoring 150 ( 0.4%) Users that have less than 1 test interactions\n",
      "EvaluatorHoldout: Processed 35586 (100.0%) in 35.48 sec. Users per second: 1003\n",
      "Similarity column 38121 (100.0%), 2990.73 column/sec. Elapsed time 12.75 sec\n",
      "EvaluatorHoldout: Ignoring 167 ( 0.5%) Users that have less than 1 test interactions\n",
      "EvaluatorHoldout: Processed 35569 (100.0%) in 35.51 sec. Users per second: 1002\n",
      "Similarity column 38121 (100.0%), 2971.50 column/sec. Elapsed time 12.83 sec\n",
      "EvaluatorHoldout: Ignoring 172 ( 0.5%) Users that have less than 1 test interactions\n",
      "EvaluatorHoldout: Processed 35564 (100.0%) in 35.41 sec. Users per second: 1004\n"
     ]
    },
    {
     "name": "stderr",
     "output_type": "stream",
     "text": [
      "[I 2025-01-05 15:46:52,076] Trial 275 finished with value: 0.2597317041640639 and parameters: {'similarity': 'cosine', 'topK': 36, 'shrink': 406, 'feature_weighting': 'TF-IDF'}. Best is trial 172 with value: 0.26030777685753526.\n"
     ]
    },
    {
     "name": "stdout",
     "output_type": "stream",
     "text": [
      "Similarity column 38121 (100.0%), 3003.37 column/sec. Elapsed time 12.69 sec\n",
      "EvaluatorHoldout: Ignoring 173 ( 0.5%) Users that have less than 1 test interactions\n",
      "EvaluatorHoldout: Processed 35563 (100.0%) in 33.79 sec. Users per second: 1053\n",
      "Similarity column 38121 (100.0%), 2971.41 column/sec. Elapsed time 12.83 sec\n",
      "EvaluatorHoldout: Ignoring 163 ( 0.5%) Users that have less than 1 test interactions\n",
      "EvaluatorHoldout: Processed 35573 (100.0%) in 34.00 sec. Users per second: 1046\n",
      "Similarity column 38121 (100.0%), 2985.87 column/sec. Elapsed time 12.77 sec\n",
      "EvaluatorHoldout: Ignoring 150 ( 0.4%) Users that have less than 1 test interactions\n",
      "EvaluatorHoldout: Processed 35586 (100.0%) in 34.08 sec. Users per second: 1044\n",
      "Similarity column 38121 (100.0%), 2957.97 column/sec. Elapsed time 12.89 sec\n",
      "EvaluatorHoldout: Ignoring 167 ( 0.5%) Users that have less than 1 test interactions\n",
      "EvaluatorHoldout: Processed 35569 (100.0%) in 34.13 sec. Users per second: 1042\n",
      "Similarity column 38121 (100.0%), 2983.17 column/sec. Elapsed time 12.78 sec\n",
      "EvaluatorHoldout: Ignoring 172 ( 0.5%) Users that have less than 1 test interactions\n",
      "EvaluatorHoldout: Processed 35564 (100.0%) in 34.18 sec. Users per second: 1040\n"
     ]
    },
    {
     "name": "stderr",
     "output_type": "stream",
     "text": [
      "[I 2025-01-05 15:50:47,539] Trial 276 finished with value: 0.2602112037161034 and parameters: {'similarity': 'cosine', 'topK': 18, 'shrink': 387, 'feature_weighting': 'TF-IDF'}. Best is trial 172 with value: 0.26030777685753526.\n"
     ]
    },
    {
     "name": "stdout",
     "output_type": "stream",
     "text": [
      "Similarity column 38121 (100.0%), 2968.21 column/sec. Elapsed time 12.84 sec\n",
      "EvaluatorHoldout: Ignoring 173 ( 0.5%) Users that have less than 1 test interactions\n",
      "EvaluatorHoldout: Processed 35563 (100.0%) in 33.25 sec. Users per second: 1070\n",
      "Similarity column 38121 (100.0%), 2977.78 column/sec. Elapsed time 12.80 sec\n",
      "EvaluatorHoldout: Ignoring 163 ( 0.5%) Users that have less than 1 test interactions\n",
      "EvaluatorHoldout: Processed 35573 (100.0%) in 33.49 sec. Users per second: 1062\n",
      "Similarity column 38121 (100.0%), 2968.03 column/sec. Elapsed time 12.84 sec\n",
      "EvaluatorHoldout: Ignoring 150 ( 0.4%) Users that have less than 1 test interactions\n",
      "EvaluatorHoldout: Processed 35586 (100.0%) in 33.35 sec. Users per second: 1067\n",
      "Similarity column 38121 (100.0%), 2988.63 column/sec. Elapsed time 12.76 sec\n",
      "EvaluatorHoldout: Ignoring 167 ( 0.5%) Users that have less than 1 test interactions\n",
      "EvaluatorHoldout: Processed 35569 (100.0%) in 33.52 sec. Users per second: 1061\n",
      "Similarity column 38121 (100.0%), 2979.82 column/sec. Elapsed time 12.79 sec\n",
      "EvaluatorHoldout: Ignoring 172 ( 0.5%) Users that have less than 1 test interactions\n",
      "EvaluatorHoldout: Processed 35564 (100.0%) in 33.32 sec. Users per second: 1067\n"
     ]
    },
    {
     "name": "stderr",
     "output_type": "stream",
     "text": [
      "[I 2025-01-05 15:54:39,828] Trial 277 finished with value: 0.25957325982143475 and parameters: {'similarity': 'cosine', 'topK': 12, 'shrink': 386, 'feature_weighting': 'TF-IDF'}. Best is trial 172 with value: 0.26030777685753526.\n"
     ]
    },
    {
     "name": "stdout",
     "output_type": "stream",
     "text": [
      "Similarity column 38121 (100.0%), 2987.65 column/sec. Elapsed time 12.76 sec\n",
      "EvaluatorHoldout: Ignoring 173 ( 0.5%) Users that have less than 1 test interactions\n",
      "EvaluatorHoldout: Processed 35563 (100.0%) in 36.51 sec. Users per second: 974\n",
      "Similarity column 38121 (100.0%), 2934.26 column/sec. Elapsed time 12.99 sec\n",
      "EvaluatorHoldout: Ignoring 163 ( 0.5%) Users that have less than 1 test interactions\n",
      "EvaluatorHoldout: Processed 35573 (100.0%) in 36.25 sec. Users per second: 981\n",
      "Similarity column 38121 (100.0%), 2960.57 column/sec. Elapsed time 12.88 sec\n",
      "EvaluatorHoldout: Ignoring 150 ( 0.4%) Users that have less than 1 test interactions\n",
      "EvaluatorHoldout: Processed 35586 (100.0%) in 36.27 sec. Users per second: 981\n",
      "Similarity column 38121 (100.0%), 2938.23 column/sec. Elapsed time 12.97 sec\n",
      "EvaluatorHoldout: Ignoring 167 ( 0.5%) Users that have less than 1 test interactions\n",
      "EvaluatorHoldout: Processed 35569 (100.0%) in 36.26 sec. Users per second: 981\n",
      "Similarity column 38121 (100.0%), 2955.85 column/sec. Elapsed time 12.90 sec\n",
      "EvaluatorHoldout: Ignoring 172 ( 0.5%) Users that have less than 1 test interactions\n",
      "EvaluatorHoldout: Processed 35564 (100.0%) in 36.20 sec. Users per second: 982\n"
     ]
    },
    {
     "name": "stderr",
     "output_type": "stream",
     "text": [
      "[I 2025-01-05 15:58:47,351] Trial 278 finished with value: 0.258877519296107 and parameters: {'similarity': 'cosine', 'topK': 47, 'shrink': 416, 'feature_weighting': 'TF-IDF'}. Best is trial 172 with value: 0.26030777685753526.\n"
     ]
    },
    {
     "name": "stdout",
     "output_type": "stream",
     "text": [
      "Similarity column 38121 (100.0%), 2978.73 column/sec. Elapsed time 12.80 sec\n",
      "EvaluatorHoldout: Ignoring 173 ( 0.5%) Users that have less than 1 test interactions\n",
      "EvaluatorHoldout: Processed 35563 (100.0%) in 34.26 sec. Users per second: 1038\n",
      "Similarity column 38121 (100.0%), 2975.23 column/sec. Elapsed time 12.81 sec\n",
      "EvaluatorHoldout: Ignoring 163 ( 0.5%) Users that have less than 1 test interactions\n",
      "EvaluatorHoldout: Processed 35573 (100.0%) in 34.47 sec. Users per second: 1032\n",
      "Similarity column 38121 (100.0%), 2972.74 column/sec. Elapsed time 12.82 sec\n",
      "EvaluatorHoldout: Ignoring 150 ( 0.4%) Users that have less than 1 test interactions\n",
      "EvaluatorHoldout: Processed 35586 (100.0%) in 34.21 sec. Users per second: 1040\n",
      "Similarity column 38121 (100.0%), 2980.44 column/sec. Elapsed time 12.79 sec\n",
      "EvaluatorHoldout: Ignoring 167 ( 0.5%) Users that have less than 1 test interactions\n",
      "EvaluatorHoldout: Processed 35569 (100.0%) in 34.57 sec. Users per second: 1029\n",
      "Similarity column 38121 (100.0%), 2958.65 column/sec. Elapsed time 12.88 sec\n",
      "EvaluatorHoldout: Ignoring 172 ( 0.5%) Users that have less than 1 test interactions\n",
      "EvaluatorHoldout: Processed 35564 (100.0%) in 34.35 sec. Users per second: 1035\n"
     ]
    },
    {
     "name": "stderr",
     "output_type": "stream",
     "text": [
      "[I 2025-01-05 16:02:44,655] Trial 279 finished with value: 0.2602381414271046 and parameters: {'similarity': 'cosine', 'topK': 22, 'shrink': 434, 'feature_weighting': 'TF-IDF'}. Best is trial 172 with value: 0.26030777685753526.\n"
     ]
    },
    {
     "name": "stdout",
     "output_type": "stream",
     "text": [
      "Similarity column 38121 (100.0%), 2987.59 column/sec. Elapsed time 12.76 sec\n",
      "EvaluatorHoldout: Ignoring 173 ( 0.5%) Users that have less than 1 test interactions\n",
      "EvaluatorHoldout: Processed 35563 (100.0%) in 32.98 sec. Users per second: 1078\n",
      "Similarity column 38121 (100.0%), 2971.66 column/sec. Elapsed time 12.83 sec\n",
      "EvaluatorHoldout: Ignoring 163 ( 0.5%) Users that have less than 1 test interactions\n",
      "EvaluatorHoldout: Processed 35573 (100.0%) in 32.94 sec. Users per second: 1080\n",
      "Similarity column 38121 (100.0%), 2982.33 column/sec. Elapsed time 12.78 sec\n",
      "EvaluatorHoldout: Ignoring 150 ( 0.4%) Users that have less than 1 test interactions\n",
      "EvaluatorHoldout: Processed 35586 (100.0%) in 32.90 sec. Users per second: 1082\n",
      "Similarity column 38121 (100.0%), 2972.41 column/sec. Elapsed time 12.82 sec\n",
      "EvaluatorHoldout: Ignoring 167 ( 0.5%) Users that have less than 1 test interactions\n",
      "EvaluatorHoldout: Processed 35569 (100.0%) in 33.09 sec. Users per second: 1075\n",
      "Similarity column 38121 (100.0%), 2969.19 column/sec. Elapsed time 12.84 sec\n",
      "EvaluatorHoldout: Ignoring 172 ( 0.5%) Users that have less than 1 test interactions\n",
      "EvaluatorHoldout: Processed 35564 (100.0%) in 33.02 sec. Users per second: 1077\n"
     ]
    },
    {
     "name": "stderr",
     "output_type": "stream",
     "text": [
      "[I 2025-01-05 16:06:34,922] Trial 280 finished with value: 0.22945208899693456 and parameters: {'similarity': 'cosine', 'topK': 12, 'shrink': 431, 'feature_weighting': 'BM25'}. Best is trial 172 with value: 0.26030777685753526.\n"
     ]
    },
    {
     "name": "stdout",
     "output_type": "stream",
     "text": [
      "Similarity column 38121 (100.0%), 2954.95 column/sec. Elapsed time 12.90 sec\n",
      "EvaluatorHoldout: Ignoring 173 ( 0.5%) Users that have less than 1 test interactions\n",
      "EvaluatorHoldout: Processed 35563 (100.0%) in 37.50 sec. Users per second: 948\n",
      "Similarity column 38121 (100.0%), 2956.52 column/sec. Elapsed time 12.89 sec\n",
      "EvaluatorHoldout: Ignoring 163 ( 0.5%) Users that have less than 1 test interactions\n",
      "EvaluatorHoldout: Processed 35573 (100.0%) in 37.52 sec. Users per second: 948\n",
      "Similarity column 38121 (100.0%), 2942.62 column/sec. Elapsed time 12.95 sec\n",
      "EvaluatorHoldout: Ignoring 150 ( 0.4%) Users that have less than 1 test interactions\n",
      "EvaluatorHoldout: Processed 35586 (100.0%) in 37.65 sec. Users per second: 945\n",
      "Similarity column 38121 (100.0%), 2948.22 column/sec. Elapsed time 12.93 sec\n",
      "EvaluatorHoldout: Ignoring 167 ( 0.5%) Users that have less than 1 test interactions\n",
      "EvaluatorHoldout: Processed 35569 (100.0%) in 37.94 sec. Users per second: 938\n",
      "Similarity column 38121 (100.0%), 2947.61 column/sec. Elapsed time 12.93 sec\n",
      "EvaluatorHoldout: Ignoring 172 ( 0.5%) Users that have less than 1 test interactions\n",
      "EvaluatorHoldout: Processed 35564 (100.0%) in 37.65 sec. Users per second: 945\n"
     ]
    },
    {
     "name": "stderr",
     "output_type": "stream",
     "text": [
      "[I 2025-01-05 16:10:49,474] Trial 281 finished with value: 0.25744764276503185 and parameters: {'similarity': 'cosine', 'topK': 72, 'shrink': 404, 'feature_weighting': 'TF-IDF'}. Best is trial 172 with value: 0.26030777685753526.\n"
     ]
    },
    {
     "name": "stdout",
     "output_type": "stream",
     "text": [
      "Similarity column 38121 (100.0%), 2961.52 column/sec. Elapsed time 12.87 sec\n",
      "EvaluatorHoldout: Ignoring 173 ( 0.5%) Users that have less than 1 test interactions\n",
      "EvaluatorHoldout: Processed 35563 (100.0%) in 35.10 sec. Users per second: 1013\n",
      "Similarity column 38121 (100.0%), 2984.90 column/sec. Elapsed time 12.77 sec\n",
      "EvaluatorHoldout: Ignoring 163 ( 0.5%) Users that have less than 1 test interactions\n",
      "EvaluatorHoldout: Processed 35573 (100.0%) in 35.08 sec. Users per second: 1014\n",
      "Similarity column 38121 (100.0%), 2972.36 column/sec. Elapsed time 12.83 sec\n",
      "EvaluatorHoldout: Ignoring 150 ( 0.4%) Users that have less than 1 test interactions\n",
      "EvaluatorHoldout: Processed 35586 (100.0%) in 34.98 sec. Users per second: 1017\n",
      "Similarity column 38121 (100.0%), 2987.50 column/sec. Elapsed time 12.76 sec\n",
      "EvaluatorHoldout: Ignoring 167 ( 0.5%) Users that have less than 1 test interactions\n",
      "EvaluatorHoldout: Processed 35569 (100.0%) in 34.94 sec. Users per second: 1018\n",
      "Similarity column 38121 (100.0%), 2956.36 column/sec. Elapsed time 12.89 sec\n",
      "EvaluatorHoldout: Ignoring 172 ( 0.5%) Users that have less than 1 test interactions\n",
      "EvaluatorHoldout: Processed 35564 (100.0%) in 34.98 sec. Users per second: 1017\n"
     ]
    },
    {
     "name": "stderr",
     "output_type": "stream",
     "text": [
      "[I 2025-01-05 16:14:50,054] Trial 282 finished with value: 0.2601389618318306 and parameters: {'similarity': 'cosine', 'topK': 25, 'shrink': 462, 'feature_weighting': 'TF-IDF'}. Best is trial 172 with value: 0.26030777685753526.\n"
     ]
    },
    {
     "name": "stdout",
     "output_type": "stream",
     "text": [
      "Similarity column 38121 (100.0%), 2979.84 column/sec. Elapsed time 12.79 sec\n",
      "EvaluatorHoldout: Ignoring 173 ( 0.5%) Users that have less than 1 test interactions\n",
      "EvaluatorHoldout: Processed 35563 (100.0%) in 37.04 sec. Users per second: 960\n",
      "Similarity column 38121 (100.0%), 2899.51 column/sec. Elapsed time 13.15 sec\n",
      "EvaluatorHoldout: Ignoring 163 ( 0.5%) Users that have less than 1 test interactions\n",
      "EvaluatorHoldout: Processed 35573 (100.0%) in 37.36 sec. Users per second: 952\n",
      "Similarity column 38121 (100.0%), 2904.57 column/sec. Elapsed time 13.12 sec\n",
      "EvaluatorHoldout: Ignoring 150 ( 0.4%) Users that have less than 1 test interactions\n",
      "EvaluatorHoldout: Processed 35586 (100.0%) in 37.15 sec. Users per second: 958\n",
      "Similarity column 38121 (100.0%), 2876.55 column/sec. Elapsed time 13.25 sec\n",
      "EvaluatorHoldout: Ignoring 167 ( 0.5%) Users that have less than 1 test interactions\n",
      "EvaluatorHoldout: Processed 35569 (100.0%) in 37.23 sec. Users per second: 955\n",
      "Similarity column 38121 (100.0%), 2905.97 column/sec. Elapsed time 13.12 sec\n",
      "EvaluatorHoldout: Ignoring 172 ( 0.5%) Users that have less than 1 test interactions\n",
      "EvaluatorHoldout: Processed 35564 (100.0%) in 36.97 sec. Users per second: 962\n"
     ]
    },
    {
     "name": "stderr",
     "output_type": "stream",
     "text": [
      "[I 2025-01-05 16:19:03,010] Trial 283 finished with value: 0.25862269615460065 and parameters: {'similarity': 'cosine', 'topK': 53, 'shrink': 433, 'feature_weighting': 'TF-IDF'}. Best is trial 172 with value: 0.26030777685753526.\n"
     ]
    },
    {
     "name": "stdout",
     "output_type": "stream",
     "text": [
      "Similarity column 38121 (100.0%), 3806.50 column/sec. Elapsed time 10.01 sec\n",
      "EvaluatorHoldout: Ignoring 173 ( 0.5%) Users that have less than 1 test interactions\n",
      "EvaluatorHoldout: Processed 35563 (100.0%) in 26.33 sec. Users per second: 1351\n",
      "Similarity column 38121 (100.0%), 3786.35 column/sec. Elapsed time 10.07 sec\n",
      "EvaluatorHoldout: Ignoring 163 ( 0.5%) Users that have less than 1 test interactions\n",
      "EvaluatorHoldout: Processed 35573 (100.0%) in 26.07 sec. Users per second: 1365\n",
      "Similarity column 38121 (100.0%), 3792.25 column/sec. Elapsed time 10.05 sec\n",
      "EvaluatorHoldout: Ignoring 150 ( 0.4%) Users that have less than 1 test interactions\n",
      "EvaluatorHoldout: Processed 35586 (100.0%) in 26.36 sec. Users per second: 1350\n",
      "Similarity column 38121 (100.0%), 3802.29 column/sec. Elapsed time 10.03 sec\n",
      "EvaluatorHoldout: Ignoring 167 ( 0.5%) Users that have less than 1 test interactions\n",
      "EvaluatorHoldout: Processed 35569 (100.0%) in 26.09 sec. Users per second: 1363\n",
      "Similarity column 38121 (100.0%), 3782.88 column/sec. Elapsed time 10.08 sec\n",
      "EvaluatorHoldout: Ignoring 172 ( 0.5%) Users that have less than 1 test interactions\n",
      "EvaluatorHoldout: Processed 35564 (100.0%) in 25.99 sec. Users per second: 1369\n"
     ]
    },
    {
     "name": "stderr",
     "output_type": "stream",
     "text": [
      "[I 2025-01-05 16:22:05,396] Trial 284 finished with value: 0.0055265346604531345 and parameters: {'similarity': 'cosine', 'topK': 0, 'shrink': 394, 'feature_weighting': 'TF-IDF'}. Best is trial 172 with value: 0.26030777685753526.\n"
     ]
    },
    {
     "name": "stdout",
     "output_type": "stream",
     "text": [
      "Similarity column 38121 (100.0%), 2946.28 column/sec. Elapsed time 12.94 sec\n",
      "EvaluatorHoldout: Ignoring 173 ( 0.5%) Users that have less than 1 test interactions\n",
      "EvaluatorHoldout: Processed 35563 (100.0%) in 35.64 sec. Users per second: 998\n",
      "Similarity column 38121 (100.0%), 2957.65 column/sec. Elapsed time 12.89 sec\n",
      "EvaluatorHoldout: Ignoring 163 ( 0.5%) Users that have less than 1 test interactions\n",
      "EvaluatorHoldout: Processed 35573 (100.0%) in 35.97 sec. Users per second: 989\n",
      "Similarity column 38121 (100.0%), 2957.42 column/sec. Elapsed time 12.89 sec\n",
      "EvaluatorHoldout: Ignoring 150 ( 0.4%) Users that have less than 1 test interactions\n",
      "EvaluatorHoldout: Processed 35586 (100.0%) in 36.04 sec. Users per second: 987\n",
      "Similarity column 38121 (100.0%), 2941.86 column/sec. Elapsed time 12.96 sec\n",
      "EvaluatorHoldout: Ignoring 167 ( 0.5%) Users that have less than 1 test interactions\n",
      "EvaluatorHoldout: Processed 35569 (100.0%) in 35.93 sec. Users per second: 990\n",
      "Similarity column 38121 (100.0%), 2952.36 column/sec. Elapsed time 12.91 sec\n",
      "EvaluatorHoldout: Ignoring 172 ( 0.5%) Users that have less than 1 test interactions\n",
      "EvaluatorHoldout: Processed 35564 (100.0%) in 35.67 sec. Users per second: 997\n"
     ]
    },
    {
     "name": "stderr",
     "output_type": "stream",
     "text": [
      "[I 2025-01-05 16:26:10,775] Trial 285 finished with value: 0.25943561873427423 and parameters: {'similarity': 'cosine', 'topK': 38, 'shrink': 419, 'feature_weighting': 'TF-IDF'}. Best is trial 172 with value: 0.26030777685753526.\n"
     ]
    },
    {
     "name": "stdout",
     "output_type": "stream",
     "text": [
      "Similarity column 38121 (100.0%), 2961.19 column/sec. Elapsed time 12.87 sec\n",
      "EvaluatorHoldout: Ignoring 173 ( 0.5%) Users that have less than 1 test interactions\n",
      "EvaluatorHoldout: Processed 35563 (100.0%) in 34.25 sec. Users per second: 1038\n",
      "Similarity column 38121 (100.0%), 2965.22 column/sec. Elapsed time 12.86 sec\n",
      "EvaluatorHoldout: Ignoring 163 ( 0.5%) Users that have less than 1 test interactions\n",
      "EvaluatorHoldout: Processed 35573 (100.0%) in 34.04 sec. Users per second: 1045\n",
      "Similarity column 38121 (100.0%), 2959.11 column/sec. Elapsed time 12.88 sec\n",
      "EvaluatorHoldout: Ignoring 150 ( 0.4%) Users that have less than 1 test interactions\n",
      "EvaluatorHoldout: Processed 35586 (100.0%) in 34.06 sec. Users per second: 1045\n",
      "Similarity column 38121 (100.0%), 2981.25 column/sec. Elapsed time 12.79 sec\n",
      "EvaluatorHoldout: Ignoring 167 ( 0.5%) Users that have less than 1 test interactions\n",
      "EvaluatorHoldout: Processed 35569 (100.0%) in 34.30 sec. Users per second: 1037\n",
      "Similarity column 38121 (100.0%), 2965.51 column/sec. Elapsed time 12.85 sec\n",
      "EvaluatorHoldout: Ignoring 172 ( 0.5%) Users that have less than 1 test interactions\n",
      "EvaluatorHoldout: Processed 35564 (100.0%) in 34.23 sec. Users per second: 1039\n"
     ]
    },
    {
     "name": "stderr",
     "output_type": "stream",
     "text": [
      "[I 2025-01-05 16:30:07,314] Trial 286 finished with value: 0.2602278701134813 and parameters: {'similarity': 'cosine', 'topK': 18, 'shrink': 453, 'feature_weighting': 'TF-IDF'}. Best is trial 172 with value: 0.26030777685753526.\n"
     ]
    },
    {
     "name": "stdout",
     "output_type": "stream",
     "text": [
      "Similarity column 38121 (100.0%), 2759.68 column/sec. Elapsed time 13.81 sec\n",
      "EvaluatorHoldout: Ignoring 173 ( 0.5%) Users that have less than 1 test interactions\n",
      "EvaluatorHoldout: Processed 35563 (100.0%) in 36.82 sec. Users per second: 966\n",
      "Similarity column 38121 (100.0%), 2741.70 column/sec. Elapsed time 13.90 sec\n",
      "EvaluatorHoldout: Ignoring 163 ( 0.5%) Users that have less than 1 test interactions\n",
      "EvaluatorHoldout: Processed 35573 (100.0%) in 37.23 sec. Users per second: 955\n",
      "Similarity column 38121 (100.0%), 2746.59 column/sec. Elapsed time 13.88 sec\n",
      "EvaluatorHoldout: Ignoring 150 ( 0.4%) Users that have less than 1 test interactions\n",
      "EvaluatorHoldout: Processed 35586 (100.0%) in 36.88 sec. Users per second: 965\n",
      "Similarity column 38121 (100.0%), 2717.73 column/sec. Elapsed time 14.03 sec\n",
      "EvaluatorHoldout: Ignoring 167 ( 0.5%) Users that have less than 1 test interactions\n",
      "EvaluatorHoldout: Processed 35569 (100.0%) in 37.00 sec. Users per second: 961\n",
      "Similarity column 38121 (100.0%), 2737.15 column/sec. Elapsed time 13.93 sec\n",
      "EvaluatorHoldout: Ignoring 172 ( 0.5%) Users that have less than 1 test interactions\n",
      "EvaluatorHoldout: Processed 35564 (100.0%) in 36.70 sec. Users per second: 969\n"
     ]
    },
    {
     "name": "stderr",
     "output_type": "stream",
     "text": [
      "[I 2025-01-05 16:34:23,934] Trial 287 finished with value: 0.23464555602847445 and parameters: {'similarity': 'tversky', 'topK': 38, 'shrink': 454, 'feature_weighting': 'TF-IDF', 'tversky_alpha': 1.3669547158153499, 'tversky_beta': 1.675650354704799}. Best is trial 172 with value: 0.26030777685753526.\n"
     ]
    },
    {
     "name": "stdout",
     "output_type": "stream",
     "text": [
      "Similarity column 38121 (100.0%), 2992.12 column/sec. Elapsed time 12.74 sec\n",
      "EvaluatorHoldout: Ignoring 173 ( 0.5%) Users that have less than 1 test interactions\n",
      "EvaluatorHoldout: Processed 35563 (100.0%) in 33.77 sec. Users per second: 1053\n",
      "Similarity column 38121 (100.0%), 2962.16 column/sec. Elapsed time 12.87 sec\n",
      "EvaluatorHoldout: Ignoring 163 ( 0.5%) Users that have less than 1 test interactions\n",
      "EvaluatorHoldout: Processed 35573 (100.0%) in 34.07 sec. Users per second: 1044\n",
      "Similarity column 38121 (100.0%), 2974.47 column/sec. Elapsed time 12.82 sec\n",
      "EvaluatorHoldout: Ignoring 150 ( 0.4%) Users that have less than 1 test interactions\n",
      "EvaluatorHoldout: Processed 35586 (100.0%) in 34.38 sec. Users per second: 1035\n",
      "Similarity column 38121 (100.0%), 2971.14 column/sec. Elapsed time 12.83 sec\n",
      "EvaluatorHoldout: Ignoring 167 ( 0.5%) Users that have less than 1 test interactions\n",
      "EvaluatorHoldout: Processed 35569 (100.0%) in 33.91 sec. Users per second: 1049\n",
      "Similarity column 38121 (100.0%), 2987.09 column/sec. Elapsed time 12.76 sec\n",
      "EvaluatorHoldout: Ignoring 172 ( 0.5%) Users that have less than 1 test interactions\n",
      "EvaluatorHoldout: Processed 35564 (100.0%) in 33.95 sec. Users per second: 1047\n"
     ]
    },
    {
     "name": "stderr",
     "output_type": "stream",
     "text": [
      "[I 2025-01-05 16:38:19,382] Trial 288 finished with value: 0.2599600968746837 and parameters: {'similarity': 'cosine', 'topK': 16, 'shrink': 453, 'feature_weighting': 'TF-IDF'}. Best is trial 172 with value: 0.26030777685753526.\n"
     ]
    },
    {
     "name": "stdout",
     "output_type": "stream",
     "text": [
      "Similarity column 38121 (100.0%), 2853.99 column/sec. Elapsed time 13.36 sec\n",
      "EvaluatorHoldout: Ignoring 173 ( 0.5%) Users that have less than 1 test interactions\n",
      "EvaluatorHoldout: Processed 35563 (100.0%) in 47.32 sec. Users per second: 752\n",
      "Similarity column 38121 (100.0%), 2864.87 column/sec. Elapsed time 13.31 sec\n",
      "EvaluatorHoldout: Ignoring 163 ( 0.5%) Users that have less than 1 test interactions\n",
      "EvaluatorHoldout: Processed 35573 (100.0%) in 47.17 sec. Users per second: 754\n",
      "Similarity column 38121 (100.0%), 2877.26 column/sec. Elapsed time 13.25 sec\n",
      "EvaluatorHoldout: Ignoring 150 ( 0.4%) Users that have less than 1 test interactions\n",
      "EvaluatorHoldout: Processed 35586 (100.0%) in 47.33 sec. Users per second: 752\n",
      "Similarity column 38121 (100.0%), 2856.54 column/sec. Elapsed time 13.35 sec\n",
      "EvaluatorHoldout: Ignoring 167 ( 0.5%) Users that have less than 1 test interactions\n",
      "EvaluatorHoldout: Processed 35569 (100.0%) in 47.57 sec. Users per second: 748\n",
      "Similarity column 38121 (100.0%), 2850.99 column/sec. Elapsed time 13.37 sec\n",
      "EvaluatorHoldout: Ignoring 172 ( 0.5%) Users that have less than 1 test interactions\n",
      "EvaluatorHoldout: Processed 35564 (100.0%) in 47.16 sec. Users per second: 754\n"
     ]
    },
    {
     "name": "stderr",
     "output_type": "stream",
     "text": [
      "[I 2025-01-05 16:43:26,175] Trial 289 finished with value: 0.25109521608492075 and parameters: {'similarity': 'cosine', 'topK': 373, 'shrink': 482, 'feature_weighting': 'TF-IDF'}. Best is trial 172 with value: 0.26030777685753526.\n"
     ]
    },
    {
     "name": "stdout",
     "output_type": "stream",
     "text": [
      "Similarity column 38121 (100.0%), 599.72 column/sec. Elapsed time 1.06 min\n",
      "EvaluatorHoldout: Ignoring 173 ( 0.5%) Users that have less than 1 test interactions\n",
      "EvaluatorHoldout: Processed 35563 (100.0%) in 34.70 sec. Users per second: 1025\n",
      "Similarity column 38121 (100.0%), 581.44 column/sec. Elapsed time 1.09 min\n",
      "EvaluatorHoldout: Ignoring 163 ( 0.5%) Users that have less than 1 test interactions\n",
      "EvaluatorHoldout: Processed 35573 (100.0%) in 34.61 sec. Users per second: 1028\n",
      "Similarity column 38121 (100.0%), 591.79 column/sec. Elapsed time 1.07 min\n",
      "EvaluatorHoldout: Ignoring 150 ( 0.4%) Users that have less than 1 test interactions\n",
      "EvaluatorHoldout: Processed 35586 (100.0%) in 34.52 sec. Users per second: 1031\n",
      "Similarity column 38121 (100.0%), 583.02 column/sec. Elapsed time 1.09 min\n",
      "EvaluatorHoldout: Ignoring 167 ( 0.5%) Users that have less than 1 test interactions\n",
      "EvaluatorHoldout: Processed 35569 (100.0%) in 35.02 sec. Users per second: 1016\n",
      "Similarity column 38121 (100.0%), 579.18 column/sec. Elapsed time 1.10 min\n",
      "EvaluatorHoldout: Ignoring 172 ( 0.5%) Users that have less than 1 test interactions\n",
      "EvaluatorHoldout: Processed 35564 (100.0%) in 34.63 sec. Users per second: 1027\n"
     ]
    },
    {
     "name": "stderr",
     "output_type": "stream",
     "text": [
      "[I 2025-01-05 16:51:45,550] Trial 290 finished with value: 0.22616600296427292 and parameters: {'similarity': 'euclidean', 'topK': 27, 'shrink': 436, 'feature_weighting': 'TF-IDF', 'normalize_avg_row': True, 'similarity_from_distance_mode': 'exp', 'normalize': True}. Best is trial 172 with value: 0.26030777685753526.\n"
     ]
    },
    {
     "name": "stdout",
     "output_type": "stream",
     "text": [
      "Similarity column 38121 (100.0%), 2775.07 column/sec. Elapsed time 13.74 sec\n",
      "EvaluatorHoldout: Ignoring 173 ( 0.5%) Users that have less than 1 test interactions\n",
      "EvaluatorHoldout: Processed 35563 (100.0%) in 53.53 sec. Users per second: 664\n",
      "Similarity column 38121 (100.0%), 2767.06 column/sec. Elapsed time 13.78 sec\n",
      "EvaluatorHoldout: Ignoring 163 ( 0.5%) Users that have less than 1 test interactions\n",
      "EvaluatorHoldout: Processed 35573 (100.0%) in 53.69 sec. Users per second: 663\n",
      "Similarity column 38121 (100.0%), 2772.53 column/sec. Elapsed time 13.75 sec\n",
      "EvaluatorHoldout: Ignoring 150 ( 0.4%) Users that have less than 1 test interactions\n",
      "EvaluatorHoldout: Processed 35586 (100.0%) in 53.65 sec. Users per second: 663\n",
      "Similarity column 38121 (100.0%), 2775.84 column/sec. Elapsed time 13.73 sec\n",
      "EvaluatorHoldout: Ignoring 167 ( 0.5%) Users that have less than 1 test interactions\n",
      "EvaluatorHoldout: Processed 35569 (100.0%) in 53.67 sec. Users per second: 663\n",
      "Similarity column 38121 (100.0%), 2751.19 column/sec. Elapsed time 13.86 sec\n",
      "EvaluatorHoldout: Ignoring 172 ( 0.5%) Users that have less than 1 test interactions\n",
      "EvaluatorHoldout: Processed 35564 (100.0%) in 53.65 sec. Users per second: 663\n"
     ]
    },
    {
     "name": "stderr",
     "output_type": "stream",
     "text": [
      "[I 2025-01-05 16:57:28,444] Trial 291 finished with value: 0.24902297133649398 and parameters: {'similarity': 'asymmetric', 'topK': 675, 'shrink': 473, 'feature_weighting': 'TF-IDF', 'asymmetric_alpha': 0.4557390090161506}. Best is trial 172 with value: 0.26030777685753526.\n"
     ]
    },
    {
     "name": "stdout",
     "output_type": "stream",
     "text": [
      "Similarity column 38121 (100.0%), 3480.08 column/sec. Elapsed time 10.95 sec\n",
      "EvaluatorHoldout: Ignoring 173 ( 0.5%) Users that have less than 1 test interactions\n",
      "EvaluatorHoldout: Processed 35563 (100.0%) in 29.60 sec. Users per second: 1202\n",
      "Similarity column 38121 (100.0%), 3491.83 column/sec. Elapsed time 10.92 sec\n",
      "EvaluatorHoldout: Ignoring 163 ( 0.5%) Users that have less than 1 test interactions\n",
      "EvaluatorHoldout: Processed 35573 (100.0%) in 29.59 sec. Users per second: 1202\n",
      "Similarity column 38121 (100.0%), 3502.67 column/sec. Elapsed time 10.88 sec\n",
      "EvaluatorHoldout: Ignoring 150 ( 0.4%) Users that have less than 1 test interactions\n",
      "EvaluatorHoldout: Processed 35586 (100.0%) in 29.36 sec. Users per second: 1212\n",
      "Similarity column 38121 (100.0%), 3486.93 column/sec. Elapsed time 10.93 sec\n",
      "EvaluatorHoldout: Ignoring 167 ( 0.5%) Users that have less than 1 test interactions\n",
      "EvaluatorHoldout: Processed 35569 (100.0%) in 29.40 sec. Users per second: 1210\n",
      "Similarity column 38121 (100.0%), 3483.50 column/sec. Elapsed time 10.94 sec\n",
      "EvaluatorHoldout: Ignoring 172 ( 0.5%) Users that have less than 1 test interactions\n",
      "EvaluatorHoldout: Processed 35564 (100.0%) in 29.66 sec. Users per second: 1199\n"
     ]
    },
    {
     "name": "stderr",
     "output_type": "stream",
     "text": [
      "[I 2025-01-05 17:00:51,915] Trial 292 finished with value: 0.15980766326376777 and parameters: {'similarity': 'cosine', 'topK': 1, 'shrink': 538, 'feature_weighting': 'TF-IDF'}. Best is trial 172 with value: 0.26030777685753526.\n"
     ]
    },
    {
     "name": "stdout",
     "output_type": "stream",
     "text": [
      "Similarity column 38121 (100.0%), 2974.36 column/sec. Elapsed time 12.82 sec\n",
      "EvaluatorHoldout: Ignoring 173 ( 0.5%) Users that have less than 1 test interactions\n",
      "EvaluatorHoldout: Processed 35563 (100.0%) in 37.05 sec. Users per second: 960\n",
      "Similarity column 38121 (100.0%), 2943.76 column/sec. Elapsed time 12.95 sec\n",
      "EvaluatorHoldout: Ignoring 163 ( 0.5%) Users that have less than 1 test interactions\n",
      "EvaluatorHoldout: Processed 35573 (100.0%) in 36.89 sec. Users per second: 964\n",
      "Similarity column 38121 (100.0%), 2960.27 column/sec. Elapsed time 12.88 sec\n",
      "EvaluatorHoldout: Ignoring 150 ( 0.4%) Users that have less than 1 test interactions\n",
      "EvaluatorHoldout: Processed 35586 (100.0%) in 36.61 sec. Users per second: 972\n",
      "Similarity column 38121 (100.0%), 2955.97 column/sec. Elapsed time 12.90 sec\n",
      "EvaluatorHoldout: Ignoring 167 ( 0.5%) Users that have less than 1 test interactions\n",
      "EvaluatorHoldout: Processed 35569 (100.0%) in 36.82 sec. Users per second: 966\n",
      "Similarity column 38121 (100.0%), 2953.22 column/sec. Elapsed time 12.91 sec\n",
      "EvaluatorHoldout: Ignoring 172 ( 0.5%) Users that have less than 1 test interactions\n",
      "EvaluatorHoldout: Processed 35564 (100.0%) in 36.72 sec. Users per second: 969\n"
     ]
    },
    {
     "name": "stderr",
     "output_type": "stream",
     "text": [
      "[I 2025-01-05 17:05:02,068] Trial 293 finished with value: 0.2585037107282405 and parameters: {'similarity': 'cosine', 'topK': 55, 'shrink': 377, 'feature_weighting': 'TF-IDF'}. Best is trial 172 with value: 0.26030777685753526.\n"
     ]
    },
    {
     "name": "stdout",
     "output_type": "stream",
     "text": [
      "Similarity column 38121 (100.0%), 2978.42 column/sec. Elapsed time 12.80 sec\n",
      "EvaluatorHoldout: Ignoring 173 ( 0.5%) Users that have less than 1 test interactions\n",
      "EvaluatorHoldout: Processed 35563 (100.0%) in 35.75 sec. Users per second: 995\n",
      "Similarity column 38121 (100.0%), 2974.36 column/sec. Elapsed time 12.82 sec\n",
      "EvaluatorHoldout: Ignoring 163 ( 0.5%) Users that have less than 1 test interactions\n",
      "EvaluatorHoldout: Processed 35573 (100.0%) in 36.04 sec. Users per second: 987\n",
      "Similarity column 38121 (100.0%), 2986.41 column/sec. Elapsed time 12.76 sec\n",
      "EvaluatorHoldout: Ignoring 150 ( 0.4%) Users that have less than 1 test interactions\n",
      "EvaluatorHoldout: Processed 35586 (100.0%) in 35.99 sec. Users per second: 989\n",
      "Similarity column 38121 (100.0%), 2959.32 column/sec. Elapsed time 12.88 sec\n",
      "EvaluatorHoldout: Ignoring 167 ( 0.5%) Users that have less than 1 test interactions\n",
      "EvaluatorHoldout: Processed 35569 (100.0%) in 35.90 sec. Users per second: 991\n",
      "Similarity column 38121 (100.0%), 2981.47 column/sec. Elapsed time 12.79 sec\n",
      "EvaluatorHoldout: Ignoring 172 ( 0.5%) Users that have less than 1 test interactions\n",
      "EvaluatorHoldout: Processed 35564 (100.0%) in 35.67 sec. Users per second: 997\n"
     ]
    },
    {
     "name": "stderr",
     "output_type": "stream",
     "text": [
      "[I 2025-01-05 17:09:06,881] Trial 294 finished with value: 0.25959143225865944 and parameters: {'similarity': 'cosine', 'topK': 37, 'shrink': 414, 'feature_weighting': 'TF-IDF'}. Best is trial 172 with value: 0.26030777685753526.\n"
     ]
    },
    {
     "name": "stdout",
     "output_type": "stream",
     "text": [
      "Similarity column 38121 (100.0%), 3094.02 column/sec. Elapsed time 12.32 sec\n",
      "EvaluatorHoldout: Ignoring 173 ( 0.5%) Users that have less than 1 test interactions\n",
      "EvaluatorHoldout: Processed 35563 (100.0%) in 35.07 sec. Users per second: 1014\n",
      "Similarity column 38121 (100.0%), 3109.18 column/sec. Elapsed time 12.26 sec\n",
      "EvaluatorHoldout: Ignoring 163 ( 0.5%) Users that have less than 1 test interactions\n",
      "EvaluatorHoldout: Processed 35573 (100.0%) in 35.30 sec. Users per second: 1008\n",
      "Similarity column 38121 (100.0%), 3093.01 column/sec. Elapsed time 12.32 sec\n",
      "EvaluatorHoldout: Ignoring 150 ( 0.4%) Users that have less than 1 test interactions\n",
      "EvaluatorHoldout: Processed 35586 (100.0%) in 34.81 sec. Users per second: 1022\n",
      "Similarity column 38121 (100.0%), 3090.97 column/sec. Elapsed time 12.33 sec\n",
      "EvaluatorHoldout: Ignoring 167 ( 0.5%) Users that have less than 1 test interactions\n",
      "EvaluatorHoldout: Processed 35569 (100.0%) in 35.10 sec. Users per second: 1013\n",
      "Similarity column 38121 (100.0%), 3073.32 column/sec. Elapsed time 12.40 sec\n",
      "EvaluatorHoldout: Ignoring 172 ( 0.5%) Users that have less than 1 test interactions\n",
      "EvaluatorHoldout: Processed 35564 (100.0%) in 35.01 sec. Users per second: 1016\n"
     ]
    },
    {
     "name": "stderr",
     "output_type": "stream",
     "text": [
      "[I 2025-01-05 17:13:05,965] Trial 295 finished with value: 0.23005291874778028 and parameters: {'similarity': 'dice', 'topK': 16, 'shrink': 441, 'feature_weighting': 'TF-IDF'}. Best is trial 172 with value: 0.26030777685753526.\n"
     ]
    },
    {
     "name": "stdout",
     "output_type": "stream",
     "text": [
      "Similarity column 38121 (100.0%), 3847.54 column/sec. Elapsed time 9.91 sec\n",
      "EvaluatorHoldout: Ignoring 173 ( 0.5%) Users that have less than 1 test interactions\n",
      "EvaluatorHoldout: Processed 35563 (100.0%) in 25.82 sec. Users per second: 1377\n",
      "Similarity column 38121 (100.0%), 3833.31 column/sec. Elapsed time 9.94 sec\n",
      "EvaluatorHoldout: Ignoring 163 ( 0.5%) Users that have less than 1 test interactions\n",
      "EvaluatorHoldout: Processed 35573 (100.0%) in 26.35 sec. Users per second: 1350\n",
      "Similarity column 38121 (100.0%), 3814.64 column/sec. Elapsed time 9.99 sec\n",
      "EvaluatorHoldout: Ignoring 150 ( 0.4%) Users that have less than 1 test interactions\n",
      "EvaluatorHoldout: Processed 35586 (100.0%) in 26.22 sec. Users per second: 1357\n",
      "Similarity column 38121 (100.0%), 3802.64 column/sec. Elapsed time 10.02 sec\n",
      "EvaluatorHoldout: Ignoring 167 ( 0.5%) Users that have less than 1 test interactions\n",
      "EvaluatorHoldout: Processed 35569 (100.0%) in 26.02 sec. Users per second: 1367\n",
      "Similarity column 38121 (100.0%), 3807.73 column/sec. Elapsed time 10.01 sec\n",
      "EvaluatorHoldout: Ignoring 172 ( 0.5%) Users that have less than 1 test interactions\n",
      "EvaluatorHoldout: Processed 35564 (100.0%) in 25.92 sec. Users per second: 1372\n"
     ]
    },
    {
     "name": "stderr",
     "output_type": "stream",
     "text": [
      "[I 2025-01-05 17:16:07,438] Trial 296 finished with value: 0.0055265346604531345 and parameters: {'similarity': 'cosine', 'topK': 0, 'shrink': 366, 'feature_weighting': 'TF-IDF'}. Best is trial 172 with value: 0.26030777685753526.\n"
     ]
    },
    {
     "name": "stdout",
     "output_type": "stream",
     "text": [
      "Similarity column 38121 (100.0%), 3000.89 column/sec. Elapsed time 12.70 sec\n",
      "EvaluatorHoldout: Ignoring 173 ( 0.5%) Users that have less than 1 test interactions\n",
      "EvaluatorHoldout: Processed 35563 (100.0%) in 35.23 sec. Users per second: 1010\n",
      "Similarity column 38121 (100.0%), 2980.42 column/sec. Elapsed time 12.79 sec\n",
      "EvaluatorHoldout: Ignoring 163 ( 0.5%) Users that have less than 1 test interactions\n",
      "EvaluatorHoldout: Processed 35573 (100.0%) in 35.06 sec. Users per second: 1015\n",
      "Similarity column 38121 (100.0%), 2990.15 column/sec. Elapsed time 12.75 sec\n",
      "EvaluatorHoldout: Ignoring 150 ( 0.4%) Users that have less than 1 test interactions\n",
      "EvaluatorHoldout: Processed 35586 (100.0%) in 34.71 sec. Users per second: 1025\n",
      "Similarity column 38121 (100.0%), 2980.24 column/sec. Elapsed time 12.79 sec\n",
      "EvaluatorHoldout: Ignoring 167 ( 0.5%) Users that have less than 1 test interactions\n",
      "EvaluatorHoldout: Processed 35569 (100.0%) in 34.86 sec. Users per second: 1020\n",
      "Similarity column 38121 (100.0%), 2988.69 column/sec. Elapsed time 12.76 sec\n",
      "EvaluatorHoldout: Ignoring 172 ( 0.5%) Users that have less than 1 test interactions\n",
      "EvaluatorHoldout: Processed 35564 (100.0%) in 35.00 sec. Users per second: 1016\n"
     ]
    },
    {
     "name": "stderr",
     "output_type": "stream",
     "text": [
      "[I 2025-01-05 17:20:07,414] Trial 297 finished with value: 0.2600550790310071 and parameters: {'similarity': 'cosine', 'topK': 26, 'shrink': 512, 'feature_weighting': 'TF-IDF'}. Best is trial 172 with value: 0.26030777685753526.\n"
     ]
    },
    {
     "name": "stdout",
     "output_type": "stream",
     "text": [
      "Similarity column 38121 (100.0%), 2963.93 column/sec. Elapsed time 12.86 sec\n",
      "EvaluatorHoldout: Ignoring 173 ( 0.5%) Users that have less than 1 test interactions\n",
      "EvaluatorHoldout: Processed 35563 (100.0%) in 36.08 sec. Users per second: 986\n",
      "Similarity column 38121 (100.0%), 2953.91 column/sec. Elapsed time 12.91 sec\n",
      "EvaluatorHoldout: Ignoring 163 ( 0.5%) Users that have less than 1 test interactions\n",
      "EvaluatorHoldout: Processed 35573 (100.0%) in 36.69 sec. Users per second: 970\n",
      "Similarity column 38121 (100.0%), 2955.79 column/sec. Elapsed time 12.90 sec\n",
      "EvaluatorHoldout: Ignoring 150 ( 0.4%) Users that have less than 1 test interactions\n",
      "EvaluatorHoldout: Processed 35586 (100.0%) in 36.64 sec. Users per second: 971\n",
      "Similarity column 38121 (100.0%), 2967.97 column/sec. Elapsed time 12.84 sec\n",
      "EvaluatorHoldout: Ignoring 167 ( 0.5%) Users that have less than 1 test interactions\n",
      "EvaluatorHoldout: Processed 35569 (100.0%) in 36.63 sec. Users per second: 971\n",
      "Similarity column 38121 (100.0%), 2928.65 column/sec. Elapsed time 13.02 sec\n",
      "EvaluatorHoldout: Ignoring 172 ( 0.5%) Users that have less than 1 test interactions\n",
      "EvaluatorHoldout: Processed 35564 (100.0%) in 36.77 sec. Users per second: 967\n"
     ]
    },
    {
     "name": "stderr",
     "output_type": "stream",
     "text": [
      "[I 2025-01-05 17:24:16,306] Trial 298 finished with value: 0.2587447097389494 and parameters: {'similarity': 'cosine', 'topK': 52, 'shrink': 396, 'feature_weighting': 'TF-IDF'}. Best is trial 172 with value: 0.26030777685753526.\n"
     ]
    },
    {
     "name": "stdout",
     "output_type": "stream",
     "text": [
      "Similarity column 38121 (100.0%), 2857.70 column/sec. Elapsed time 13.34 sec\n",
      "EvaluatorHoldout: Ignoring 173 ( 0.5%) Users that have less than 1 test interactions\n",
      "EvaluatorHoldout: Processed 35563 (100.0%) in 47.31 sec. Users per second: 752\n",
      "Similarity column 38121 (100.0%), 2850.78 column/sec. Elapsed time 13.37 sec\n",
      "EvaluatorHoldout: Ignoring 163 ( 0.5%) Users that have less than 1 test interactions\n",
      "EvaluatorHoldout: Processed 35573 (100.0%) in 47.48 sec. Users per second: 749\n",
      "Similarity column 38121 (100.0%), 2857.08 column/sec. Elapsed time 13.34 sec\n",
      "EvaluatorHoldout: Ignoring 150 ( 0.4%) Users that have less than 1 test interactions\n",
      "EvaluatorHoldout: Processed 35586 (100.0%) in 47.47 sec. Users per second: 750\n",
      "Similarity column 38121 (100.0%), 2853.79 column/sec. Elapsed time 13.36 sec\n",
      "EvaluatorHoldout: Ignoring 167 ( 0.5%) Users that have less than 1 test interactions\n",
      "EvaluatorHoldout: Processed 35569 (100.0%) in 47.51 sec. Users per second: 749\n",
      "Similarity column 38121 (100.0%), 2840.46 column/sec. Elapsed time 13.42 sec\n",
      "EvaluatorHoldout: Ignoring 172 ( 0.5%) Users that have less than 1 test interactions\n",
      "EvaluatorHoldout: Processed 35564 (100.0%) in 47.45 sec. Users per second: 749\n"
     ]
    },
    {
     "name": "stderr",
     "output_type": "stream",
     "text": [
      "[I 2025-01-05 17:29:24,175] Trial 299 finished with value: 0.25083312841401195 and parameters: {'similarity': 'cosine', 'topK': 397, 'shrink': 322, 'feature_weighting': 'TF-IDF'}. Best is trial 172 with value: 0.26030777685753526.\n"
     ]
    }
   ],
   "source": [
    "if config['tune_parameters']:\n",
    "    \n",
    "    optuna_study = optuna.create_study(direction='maximize', study_name=f'hyperparameters_tuning_{config[\"model\"]}_{config[\"metric\"]}',\n",
    "                                storage=f'sqlite:///{config[\"database_path\"]}', load_if_exists=True)\n",
    "\n",
    "    optuna_study.optimize(objective_function_ItemKNNCF, n_trials=100)"
   ]
  },
  {
   "cell_type": "markdown",
   "id": "c771c38a",
   "metadata": {
    "papermill": {
     "duration": 0.098572,
     "end_time": "2025-01-05T17:29:24.429382",
     "exception": false,
     "start_time": "2025-01-05T17:29:24.330810",
     "status": "completed"
    },
    "tags": []
   },
   "source": [
    "## Some optuna visualizations on recommender parameters"
   ]
  },
  {
   "cell_type": "code",
   "execution_count": 14,
   "id": "ba81be79",
   "metadata": {
    "execution": {
     "iopub.execute_input": "2025-01-05T17:29:24.628490Z",
     "iopub.status.busy": "2025-01-05T17:29:24.627934Z",
     "iopub.status.idle": "2025-01-05T17:29:26.634719Z",
     "shell.execute_reply": "2025-01-05T17:29:26.633733Z"
    },
    "papermill": {
     "duration": 2.108586,
     "end_time": "2025-01-05T17:29:26.636663",
     "exception": false,
     "start_time": "2025-01-05T17:29:24.528077",
     "status": "completed"
    },
    "tags": []
   },
   "outputs": [
    {
     "data": {
      "text/html": [
       "<html>\n",
       "<head><meta charset=\"utf-8\" /></head>\n",
       "<body>\n",
       "    <div>            <script src=\"https://cdnjs.cloudflare.com/ajax/libs/mathjax/2.7.5/MathJax.js?config=TeX-AMS-MML_SVG\"></script><script type=\"text/javascript\">if (window.MathJax && window.MathJax.Hub && window.MathJax.Hub.Config) {window.MathJax.Hub.Config({SVG: {font: \"STIX-Web\"}});}</script>                <script type=\"text/javascript\">window.PlotlyConfig = {MathJaxConfig: 'local'};</script>\n",
       "        <script charset=\"utf-8\" src=\"https://cdn.plot.ly/plotly-2.35.2.min.js\"></script>                <div id=\"921f3aa3-b1d1-4717-b484-9e1e42701d98\" class=\"plotly-graph-div\" style=\"height:525px; width:3000px;\"></div>            <script type=\"text/javascript\">                                    window.PLOTLYENV=window.PLOTLYENV || {};                                    if (document.getElementById(\"921f3aa3-b1d1-4717-b484-9e1e42701d98\")) {                    Plotly.newPlot(                        \"921f3aa3-b1d1-4717-b484-9e1e42701d98\",                        [{\"marker\":{\"color\":[11,12,13,15,58,69,125,147,179,225,261,291],\"colorbar\":{\"title\":{\"text\":\"Trial\"},\"x\":1.0,\"xpad\":40},\"colorscale\":[[0.0,\"rgb(247,251,255)\"],[0.125,\"rgb(222,235,247)\"],[0.25,\"rgb(198,219,239)\"],[0.375,\"rgb(158,202,225)\"],[0.5,\"rgb(107,174,214)\"],[0.625,\"rgb(66,146,198)\"],[0.75,\"rgb(33,113,181)\"],[0.875,\"rgb(8,81,156)\"],[1.0,\"rgb(8,48,107)\"]],\"line\":{\"color\":\"Grey\",\"width\":0.5},\"showscale\":true},\"mode\":\"markers\",\"name\":\"Feasible Trial\",\"showlegend\":false,\"x\":[1.2490635108547936,1.3868304130249864,0.3701974185047463,0.1919926740021835,1.9440672726861656,0.7279585933348233,1.8146837907296933,0.7035169215085025,0.03743022873650981,1.4703278120207952,0.9190069335301394,0.4557390090161506],\"y\":[0.2304573118495677,0.17144150147345222,0.2320857319855421,0.23171090388175025,0.054672355535981446,0.22608833450679114,0.124809511033937,0.24438533737019758,0.24964093523736391,0.12081679500471895,0.20937287642597688,0.24902297133649398],\"type\":\"scatter\",\"xaxis\":\"x\",\"yaxis\":\"y\"},{\"marker\":{\"color\":[0,1,2,3,4,5,6,7,8,9,10,11,12,13,14,15,16,17,18,19,20,21,22,23,24,25,26,27,28,29,30,31,32,33,34,35,36,37,38,39,40,41,42,43,44,45,46,47,48,49,50,51,52,53,54,55,56,57,58,59,60,61,62,63,64,65,66,67,68,69,70,71,72,73,74,75,76,77,78,79,80,81,82,83,84,85,86,87,88,89,90,91,92,93,94,95,96,97,98,99,100,101,102,103,104,105,106,107,108,109,110,111,112,113,114,115,116,117,118,119,120,121,122,123,124,125,126,127,128,129,130,131,132,133,134,135,136,137,138,139,140,141,142,143,144,145,146,147,148,149,150,151,152,153,154,155,156,157,158,159,160,161,162,163,164,165,166,167,168,169,170,171,172,173,174,175,176,177,178,179,180,181,182,183,184,185,186,187,188,189,190,191,192,193,194,195,196,197,198,199,200,201,202,203,204,205,206,207,208,209,210,211,212,213,214,215,216,217,218,219,220,221,222,223,224,225,226,227,228,229,230,231,232,233,234,235,236,237,238,239,240,241,242,243,244,245,246,247,248,249,250,251,252,253,254,255,256,257,258,259,260,261,262,263,264,265,266,267,268,269,270,271,272,273,274,275,276,277,278,279,280,281,282,283,284,285,286,287,288,289,290,291,292,293,294,295,296,297,298,299],\"colorbar\":{\"title\":{\"text\":\"Trial\"},\"x\":1.0,\"xpad\":40},\"colorscale\":[[0.0,\"rgb(247,251,255)\"],[0.125,\"rgb(222,235,247)\"],[0.25,\"rgb(198,219,239)\"],[0.375,\"rgb(158,202,225)\"],[0.5,\"rgb(107,174,214)\"],[0.625,\"rgb(66,146,198)\"],[0.75,\"rgb(33,113,181)\"],[0.875,\"rgb(8,81,156)\"],[1.0,\"rgb(8,48,107)\"]],\"line\":{\"color\":\"Grey\",\"width\":0.5},\"showscale\":false},\"mode\":\"markers\",\"name\":\"Feasible Trial\",\"showlegend\":false,\"x\":[\"BM25\",\"none\",\"BM25\",\"BM25\",\"BM25\",\"none\",\"none\",\"none\",\"BM25\",\"BM25\",\"TF-IDF\",\"BM25\",\"TF-IDF\",\"BM25\",\"BM25\",\"BM25\",\"TF-IDF\",\"BM25\",\"BM25\",\"TF-IDF\",\"BM25\",\"BM25\",\"BM25\",\"BM25\",\"BM25\",\"BM25\",\"BM25\",\"BM25\",\"TF-IDF\",\"none\",\"none\",\"none\",\"none\",\"none\",\"none\",\"none\",\"none\",\"none\",\"none\",\"none\",\"none\",\"none\",\"none\",\"none\",\"none\",\"none\",\"none\",\"none\",\"none\",\"none\",\"none\",\"none\",\"none\",\"none\",\"none\",\"none\",\"none\",\"none\",\"TF-IDF\",\"none\",\"none\",\"none\",\"none\",\"none\",\"none\",\"none\",\"TF-IDF\",\"none\",\"none\",\"none\",\"none\",\"none\",\"none\",\"none\",\"none\",\"none\",\"TF-IDF\",\"TF-IDF\",\"TF-IDF\",\"TF-IDF\",\"TF-IDF\",\"TF-IDF\",\"TF-IDF\",\"TF-IDF\",\"TF-IDF\",\"TF-IDF\",\"TF-IDF\",\"TF-IDF\",\"TF-IDF\",\"TF-IDF\",\"TF-IDF\",\"TF-IDF\",\"TF-IDF\",\"TF-IDF\",\"TF-IDF\",\"TF-IDF\",\"TF-IDF\",\"TF-IDF\",\"TF-IDF\",\"TF-IDF\",\"TF-IDF\",\"TF-IDF\",\"TF-IDF\",\"TF-IDF\",\"TF-IDF\",\"TF-IDF\",\"TF-IDF\",\"TF-IDF\",\"TF-IDF\",\"TF-IDF\",\"TF-IDF\",\"TF-IDF\",\"TF-IDF\",\"TF-IDF\",\"TF-IDF\",\"TF-IDF\",\"TF-IDF\",\"TF-IDF\",\"TF-IDF\",\"TF-IDF\",\"TF-IDF\",\"TF-IDF\",\"TF-IDF\",\"TF-IDF\",\"TF-IDF\",\"TF-IDF\",\"TF-IDF\",\"TF-IDF\",\"TF-IDF\",\"TF-IDF\",\"TF-IDF\",\"TF-IDF\",\"TF-IDF\",\"TF-IDF\",\"TF-IDF\",\"TF-IDF\",\"TF-IDF\",\"TF-IDF\",\"BM25\",\"TF-IDF\",\"TF-IDF\",\"TF-IDF\",\"TF-IDF\",\"TF-IDF\",\"TF-IDF\",\"TF-IDF\",\"TF-IDF\",\"TF-IDF\",\"TF-IDF\",\"TF-IDF\",\"TF-IDF\",\"TF-IDF\",\"TF-IDF\",\"TF-IDF\",\"TF-IDF\",\"TF-IDF\",\"TF-IDF\",\"TF-IDF\",\"BM25\",\"TF-IDF\",\"TF-IDF\",\"TF-IDF\",\"TF-IDF\",\"TF-IDF\",\"TF-IDF\",\"TF-IDF\",\"TF-IDF\",\"TF-IDF\",\"TF-IDF\",\"TF-IDF\",\"TF-IDF\",\"TF-IDF\",\"TF-IDF\",\"TF-IDF\",\"TF-IDF\",\"TF-IDF\",\"TF-IDF\",\"TF-IDF\",\"TF-IDF\",\"TF-IDF\",\"TF-IDF\",\"TF-IDF\",\"TF-IDF\",\"TF-IDF\",\"TF-IDF\",\"TF-IDF\",\"TF-IDF\",\"TF-IDF\",\"BM25\",\"TF-IDF\",\"TF-IDF\",\"TF-IDF\",\"TF-IDF\",\"TF-IDF\",\"TF-IDF\",\"TF-IDF\",\"TF-IDF\",\"TF-IDF\",\"TF-IDF\",\"TF-IDF\",\"TF-IDF\",\"TF-IDF\",\"TF-IDF\",\"TF-IDF\",\"TF-IDF\",\"TF-IDF\",\"TF-IDF\",\"TF-IDF\",\"TF-IDF\",\"TF-IDF\",\"TF-IDF\",\"TF-IDF\",\"TF-IDF\",\"TF-IDF\",\"TF-IDF\",\"TF-IDF\",\"TF-IDF\",\"TF-IDF\",\"TF-IDF\",\"TF-IDF\",\"TF-IDF\",\"TF-IDF\",\"TF-IDF\",\"TF-IDF\",\"TF-IDF\",\"TF-IDF\",\"BM25\",\"TF-IDF\",\"TF-IDF\",\"TF-IDF\",\"TF-IDF\",\"TF-IDF\",\"TF-IDF\",\"TF-IDF\",\"TF-IDF\",\"TF-IDF\",\"TF-IDF\",\"TF-IDF\",\"TF-IDF\",\"TF-IDF\",\"TF-IDF\",\"TF-IDF\",\"TF-IDF\",\"TF-IDF\",\"TF-IDF\",\"TF-IDF\",\"TF-IDF\",\"TF-IDF\",\"TF-IDF\",\"TF-IDF\",\"TF-IDF\",\"TF-IDF\",\"TF-IDF\",\"TF-IDF\",\"TF-IDF\",\"TF-IDF\",\"TF-IDF\",\"BM25\",\"TF-IDF\",\"TF-IDF\",\"TF-IDF\",\"TF-IDF\",\"TF-IDF\",\"TF-IDF\",\"TF-IDF\",\"TF-IDF\",\"TF-IDF\",\"TF-IDF\",\"TF-IDF\",\"TF-IDF\",\"TF-IDF\",\"TF-IDF\",\"TF-IDF\",\"TF-IDF\",\"TF-IDF\",\"TF-IDF\",\"TF-IDF\",\"TF-IDF\",\"TF-IDF\",\"TF-IDF\",\"BM25\",\"TF-IDF\",\"TF-IDF\",\"TF-IDF\",\"TF-IDF\",\"TF-IDF\",\"TF-IDF\",\"TF-IDF\",\"TF-IDF\",\"TF-IDF\",\"TF-IDF\",\"TF-IDF\",\"TF-IDF\",\"TF-IDF\",\"TF-IDF\",\"TF-IDF\",\"TF-IDF\",\"TF-IDF\",\"TF-IDF\",\"TF-IDF\"],\"y\":[0.23148330284290042,0.13624718955739376,0.1471750754734151,0.17665494281875593,0.22605954763810066,0.20349984418451744,0.1972443703365315,0.19482189997815597,0.17637428068323063,0.22522086925996349,0.22319422054210195,0.2304573118495677,0.17144150147345222,0.2320857319855421,0.23275752848559866,0.23171090388175025,0.2127854379593969,0.23970748561893918,0.240483947366465,0.22505091809824102,0.24092850196791454,0.24090856193617882,0.2355894386586912,0.24176958909342275,0.23873396992488702,0.24254635065272973,0.24957153157159687,0.24888446910334255,0.23541728054090555,0.2516468092914111,0.25443769162528307,0.2548065564830398,0.25372594137621196,0.2542656062806814,0.2510363291879291,0.21729222252899047,0.2542230921973612,0.23936386771471282,0.23272192674389913,0.2430012686796093,0.2445792335742334,0.2508384206817508,0.2555594698275499,0.25216047372169353,0.09889549888703199,0.21599737636144267,0.23142058460597698,0.24626551129669433,0.22726151671351763,0.23969296349398544,0.24756067995173195,0.25530024248415983,0.25560379420324086,0.25571632981331993,0.25565640365780096,0.08043575093375183,0.21855068461434887,0.24773265987949525,0.054672355535981446,0.22372828175047949,0.2358642124673164,0.2553778916070521,0.2568086807011941,0.2558789323947374,0.2552056581054293,0.2455116840403182,0.2152355960719305,0.0055265346604531345,0.11067393242761561,0.22608833450679114,0.233145956015041,0.2547298553411854,0.24897096109001587,0.2576156616761005,0.25744981266166433,0.21698334053455676,0.2575202661872857,0.2561060665645264,0.25578135216037295,0.25494998947199676,0.2538111399898332,0.2559646138359945,0.25582035948664855,0.2559897184094767,0.2559974523038986,0.2533678262625595,0.2562629450364597,0.2523955512395206,0.25646652209648685,0.2501219720024811,0.2485134954588148,0.25647034080192216,0.2551863355191928,0.2565211778203894,0.2565991891007239,0.25422240615921754,0.24847896854246318,0.2578990980248367,0.25753610102787367,0.25964283046146747,0.25917266297874675,0.258279823411374,0.2598612810007102,0.2596685152716735,0.2593783948294804,0.25918602878015073,0.25919092214299544,0.25919132087475044,0.2583387599220447,0.2585890395914807,0.21708510837470243,0.2587061884464763,0.2589839874559213,0.2589583376145547,0.25863546012247757,0.25885640146171823,0.25970924597612643,0.2600522358728864,0.2597082707062577,0.25826614004087733,0.21113037843336824,0.2599951255124881,0.2600831369621336,0.26007342166596137,0.2602208581514182,0.124809511033937,0.24869521280564416,0.055944053866720675,0.0055265346604531345,0.2600945614984461,0.260019690529778,0.2602939568788393,0.26015952543770826,0.2600300024230263,0.2601363510062749,0.2600263645507829,0.2600216894749122,0.25986158212031707,0.23112299979914588,0.258406550449704,0.2563362950505154,0.25987593054671143,0.25809501891627473,0.2600722602929655,0.2592606292932317,0.23251582536931018,0.25844008266429297,0.24438533737019758,0.1047407367488387,0.25840097475794127,0.2563216651426966,0.2598256616300174,0.24862544044376894,0.2601035905209292,0.2602726153027083,0.22736937727738943,0.2585028479772481,0.0055265346604531345,0.2307749488633813,0.2601695123332381,0.2590679863270371,0.2601695123332381,0.2601854248411634,0.25797448558814523,0.26021846822095585,0.2588010860733287,0.26015684881002554,0.25744117476851935,0.0055265346604531345,0.2602098221402436,0.0055265346604531345,0.2602967190708516,0.26030777685753526,0.2587079872788002,0.2602398571830838,0.2600797939695729,0.25878144958385246,0.2601141247441451,0.2580234098585182,0.24964093523736391,0.23835958795670487,0.2601999026823316,0.25908841948201733,0.0055265346604531345,0.26014436975609867,0.252680413487203,0.14577658713529842,0.25909516298509416,0.25835488067699763,0.25841751302486693,0.2593481385474267,0.2602909363743621,0.26020579220238493,0.25996299344736007,0.0055265346604531345,0.26021464860255117,0.25996258609179124,0.260148938520933,0.251475362966174,0.2592997343508444,0.26021746435997634,0.26026967279496155,0.25973168609259234,0.25956870479820804,0.15723541587884352,0.2602150234922539,0.2587655274981736,0.2601907058553735,0.2579695019688275,0.2597590106646209,0.26020274354136347,0.26021746435997634,0.25918609774315415,0.2602304128932977,0.0055265346604531345,0.2600048907447058,0.25898286532965625,0.26003591850712676,0.25955447200453297,0.25835700679338836,0.23143347632150107,0.2601496975882339,0.26023387066960185,0.2592878663097236,0.25947503718498066,0.12081679500471895,0.23194952716433268,0.2571584636359604,0.2593115432955166,0.22653160301581338,0.23114123541862147,0.2602284434081664,0.260170469264755,0.25900203441061187,0.0055265346604531345,0.26020109143156656,0.2593904519297865,0.2601949006087537,0.25972130209036765,0.25880710274682955,0.0055265346604531345,0.2602256159803388,0.25989067700252066,0.2601754809322693,0.2596268953818736,0.2602288515369037,0.25951884223100213,0.26018302358003814,0.2590879673112943,0.25958295616772503,0.26018595633990504,0.25955719105953917,0.25787750019155997,0.25930265616957976,0.2597042449670595,0.0055265346604531345,0.2602584809607259,0.23011156573280486,0.2587367168817073,0.0055265346604531345,0.26007023824899744,0.20937287642597688,0.26028008884807147,0.2593807253561915,0.09553855607140857,0.2599422480992969,0.26010841108429805,0.22476821283625031,0.259786569921156,0.2600146054175172,0.25937865695511186,0.0055265346604531345,0.2590838442103591,0.25808956918456116,0.2602203281578796,0.2597317041640639,0.2602112037161034,0.25957325982143475,0.258877519296107,0.2602381414271046,0.22945208899693456,0.25744764276503185,0.2601389618318306,0.25862269615460065,0.0055265346604531345,0.25943561873427423,0.2602278701134813,0.23464555602847445,0.2599600968746837,0.25109521608492075,0.22616600296427292,0.24902297133649398,0.15980766326376777,0.2585037107282405,0.25959143225865944,0.23005291874778028,0.0055265346604531345,0.2600550790310071,0.2587447097389494,0.25083312841401195],\"type\":\"scatter\",\"xaxis\":\"x2\",\"yaxis\":\"y2\"},{\"marker\":{\"color\":[1,2,3,8,44,55,68,127,148,186,229,264,290],\"colorbar\":{\"title\":{\"text\":\"Trial\"},\"x\":1.0,\"xpad\":40},\"colorscale\":[[0.0,\"rgb(247,251,255)\"],[0.125,\"rgb(222,235,247)\"],[0.25,\"rgb(198,219,239)\"],[0.375,\"rgb(158,202,225)\"],[0.5,\"rgb(107,174,214)\"],[0.625,\"rgb(66,146,198)\"],[0.75,\"rgb(33,113,181)\"],[0.875,\"rgb(8,81,156)\"],[1.0,\"rgb(8,48,107)\"]],\"line\":{\"color\":\"Grey\",\"width\":0.5},\"showscale\":false},\"mode\":\"markers\",\"name\":\"Feasible Trial\",\"showlegend\":false,\"x\":[true,true,true,true,false,false,false,false,false,true,true,false,true],\"y\":[0.13624718955739376,0.1471750754734151,0.17665494281875593,0.17637428068323063,0.09889549888703199,0.08043575093375183,0.11067393242761561,0.055944053866720675,0.1047407367488387,0.14577658713529842,0.22653160301581338,0.09553855607140857,0.22616600296427292],\"type\":\"scatter\",\"xaxis\":\"x3\",\"yaxis\":\"y3\"},{\"marker\":{\"color\":[1,2,3,8,44,55,68,127,148,186,229,264,290],\"colorbar\":{\"title\":{\"text\":\"Trial\"},\"x\":1.0,\"xpad\":40},\"colorscale\":[[0.0,\"rgb(247,251,255)\"],[0.125,\"rgb(222,235,247)\"],[0.25,\"rgb(198,219,239)\"],[0.375,\"rgb(158,202,225)\"],[0.5,\"rgb(107,174,214)\"],[0.625,\"rgb(66,146,198)\"],[0.75,\"rgb(33,113,181)\"],[0.875,\"rgb(8,81,156)\"],[1.0,\"rgb(8,48,107)\"]],\"line\":{\"color\":\"Grey\",\"width\":0.5},\"showscale\":false},\"mode\":\"markers\",\"name\":\"Feasible Trial\",\"showlegend\":false,\"x\":[true,false,true,true,false,false,true,false,false,true,false,true,true],\"y\":[0.13624718955739376,0.1471750754734151,0.17665494281875593,0.17637428068323063,0.09889549888703199,0.08043575093375183,0.11067393242761561,0.055944053866720675,0.1047407367488387,0.14577658713529842,0.22653160301581338,0.09553855607140857,0.22616600296427292],\"type\":\"scatter\",\"xaxis\":\"x4\",\"yaxis\":\"y4\"},{\"marker\":{\"color\":[0,1,2,3,4,5,6,7,8,9,10,11,12,13,14,15,16,17,18,19,20,21,22,23,24,25,26,27,28,29,30,31,32,33,34,35,36,37,38,39,40,41,42,43,44,45,46,47,48,49,50,51,52,53,54,55,56,57,58,59,60,61,62,63,64,65,66,67,68,69,70,71,72,73,74,75,76,77,78,79,80,81,82,83,84,85,86,87,88,89,90,91,92,93,94,95,96,97,98,99,100,101,102,103,104,105,106,107,108,109,110,111,112,113,114,115,116,117,118,119,120,121,122,123,124,125,126,127,128,129,130,131,132,133,134,135,136,137,138,139,140,141,142,143,144,145,146,147,148,149,150,151,152,153,154,155,156,157,158,159,160,161,162,163,164,165,166,167,168,169,170,171,172,173,174,175,176,177,178,179,180,181,182,183,184,185,186,187,188,189,190,191,192,193,194,195,196,197,198,199,200,201,202,203,204,205,206,207,208,209,210,211,212,213,214,215,216,217,218,219,220,221,222,223,224,225,226,227,228,229,230,231,232,233,234,235,236,237,238,239,240,241,242,243,244,245,246,247,248,249,250,251,252,253,254,255,256,257,258,259,260,261,262,263,264,265,266,267,268,269,270,271,272,273,274,275,276,277,278,279,280,281,282,283,284,285,286,287,288,289,290,291,292,293,294,295,296,297,298,299],\"colorbar\":{\"title\":{\"text\":\"Trial\"},\"x\":1.0,\"xpad\":40},\"colorscale\":[[0.0,\"rgb(247,251,255)\"],[0.125,\"rgb(222,235,247)\"],[0.25,\"rgb(198,219,239)\"],[0.375,\"rgb(158,202,225)\"],[0.5,\"rgb(107,174,214)\"],[0.625,\"rgb(66,146,198)\"],[0.75,\"rgb(33,113,181)\"],[0.875,\"rgb(8,81,156)\"],[1.0,\"rgb(8,48,107)\"]],\"line\":{\"color\":\"Grey\",\"width\":0.5},\"showscale\":false},\"mode\":\"markers\",\"name\":\"Feasible Trial\",\"showlegend\":false,\"x\":[13,83,316,92,623,597,727,939,587,337,299,843,951,766,463,437,770,469,462,184,402,387,389,234,226,222,228,192,146,12,11,10,0,1,73,72,3,128,55,144,41,21,7,97,101,534,273,0,113,54,162,5,44,51,53,74,994,113,51,180,95,41,42,47,50,138,653,278,203,162,330,40,84,33,33,124,35,853,870,802,898,915,886,866,926,947,921,918,845,836,752,824,831,975,982,971,991,691,683,679,699,677,694,673,684,698,686,677,702,700,593,699,625,625,632,632,574,563,551,554,724,547,558,563,500,512,569,497,662,446,434,445,422,417,363,415,426,421,421,374,449,418,360,419,404,490,461,480,438,517,355,407,427,385,391,387,463,328,532,447,303,447,445,393,482,471,365,350,377,455,454,515,511,506,481,528,525,484,482,454,475,498,499,445,493,487,473,497,444,373,510,396,390,388,333,368,402,361,368,304,341,351,335,350,276,321,315,346,401,324,344,341,293,342,344,315,339,286,462,384,438,346,394,401,366,254,319,516,385,468,341,418,435,404,428,358,378,354,350,318,358,384,374,332,393,362,357,310,342,384,370,332,536,405,351,363,390,395,412,503,376,293,389,391,416,482,397,524,377,424,468,316,502,370,404,406,387,386,416,434,431,404,462,433,394,419,453,454,453,482,436,473,538,377,414,441,366,512,396,322],\"y\":[0.23148330284290042,0.13624718955739376,0.1471750754734151,0.17665494281875593,0.22605954763810066,0.20349984418451744,0.1972443703365315,0.19482189997815597,0.17637428068323063,0.22522086925996349,0.22319422054210195,0.2304573118495677,0.17144150147345222,0.2320857319855421,0.23275752848559866,0.23171090388175025,0.2127854379593969,0.23970748561893918,0.240483947366465,0.22505091809824102,0.24092850196791454,0.24090856193617882,0.2355894386586912,0.24176958909342275,0.23873396992488702,0.24254635065272973,0.24957153157159687,0.24888446910334255,0.23541728054090555,0.2516468092914111,0.25443769162528307,0.2548065564830398,0.25372594137621196,0.2542656062806814,0.2510363291879291,0.21729222252899047,0.2542230921973612,0.23936386771471282,0.23272192674389913,0.2430012686796093,0.2445792335742334,0.2508384206817508,0.2555594698275499,0.25216047372169353,0.09889549888703199,0.21599737636144267,0.23142058460597698,0.24626551129669433,0.22726151671351763,0.23969296349398544,0.24756067995173195,0.25530024248415983,0.25560379420324086,0.25571632981331993,0.25565640365780096,0.08043575093375183,0.21855068461434887,0.24773265987949525,0.054672355535981446,0.22372828175047949,0.2358642124673164,0.2553778916070521,0.2568086807011941,0.2558789323947374,0.2552056581054293,0.2455116840403182,0.2152355960719305,0.0055265346604531345,0.11067393242761561,0.22608833450679114,0.233145956015041,0.2547298553411854,0.24897096109001587,0.2576156616761005,0.25744981266166433,0.21698334053455676,0.2575202661872857,0.2561060665645264,0.25578135216037295,0.25494998947199676,0.2538111399898332,0.2559646138359945,0.25582035948664855,0.2559897184094767,0.2559974523038986,0.2533678262625595,0.2562629450364597,0.2523955512395206,0.25646652209648685,0.2501219720024811,0.2485134954588148,0.25647034080192216,0.2551863355191928,0.2565211778203894,0.2565991891007239,0.25422240615921754,0.24847896854246318,0.2578990980248367,0.25753610102787367,0.25964283046146747,0.25917266297874675,0.258279823411374,0.2598612810007102,0.2596685152716735,0.2593783948294804,0.25918602878015073,0.25919092214299544,0.25919132087475044,0.2583387599220447,0.2585890395914807,0.21708510837470243,0.2587061884464763,0.2589839874559213,0.2589583376145547,0.25863546012247757,0.25885640146171823,0.25970924597612643,0.2600522358728864,0.2597082707062577,0.25826614004087733,0.21113037843336824,0.2599951255124881,0.2600831369621336,0.26007342166596137,0.2602208581514182,0.124809511033937,0.24869521280564416,0.055944053866720675,0.0055265346604531345,0.2600945614984461,0.260019690529778,0.2602939568788393,0.26015952543770826,0.2600300024230263,0.2601363510062749,0.2600263645507829,0.2600216894749122,0.25986158212031707,0.23112299979914588,0.258406550449704,0.2563362950505154,0.25987593054671143,0.25809501891627473,0.2600722602929655,0.2592606292932317,0.23251582536931018,0.25844008266429297,0.24438533737019758,0.1047407367488387,0.25840097475794127,0.2563216651426966,0.2598256616300174,0.24862544044376894,0.2601035905209292,0.2602726153027083,0.22736937727738943,0.2585028479772481,0.0055265346604531345,0.2307749488633813,0.2601695123332381,0.2590679863270371,0.2601695123332381,0.2601854248411634,0.25797448558814523,0.26021846822095585,0.2588010860733287,0.26015684881002554,0.25744117476851935,0.0055265346604531345,0.2602098221402436,0.0055265346604531345,0.2602967190708516,0.26030777685753526,0.2587079872788002,0.2602398571830838,0.2600797939695729,0.25878144958385246,0.2601141247441451,0.2580234098585182,0.24964093523736391,0.23835958795670487,0.2601999026823316,0.25908841948201733,0.0055265346604531345,0.26014436975609867,0.252680413487203,0.14577658713529842,0.25909516298509416,0.25835488067699763,0.25841751302486693,0.2593481385474267,0.2602909363743621,0.26020579220238493,0.25996299344736007,0.0055265346604531345,0.26021464860255117,0.25996258609179124,0.260148938520933,0.251475362966174,0.2592997343508444,0.26021746435997634,0.26026967279496155,0.25973168609259234,0.25956870479820804,0.15723541587884352,0.2602150234922539,0.2587655274981736,0.2601907058553735,0.2579695019688275,0.2597590106646209,0.26020274354136347,0.26021746435997634,0.25918609774315415,0.2602304128932977,0.0055265346604531345,0.2600048907447058,0.25898286532965625,0.26003591850712676,0.25955447200453297,0.25835700679338836,0.23143347632150107,0.2601496975882339,0.26023387066960185,0.2592878663097236,0.25947503718498066,0.12081679500471895,0.23194952716433268,0.2571584636359604,0.2593115432955166,0.22653160301581338,0.23114123541862147,0.2602284434081664,0.260170469264755,0.25900203441061187,0.0055265346604531345,0.26020109143156656,0.2593904519297865,0.2601949006087537,0.25972130209036765,0.25880710274682955,0.0055265346604531345,0.2602256159803388,0.25989067700252066,0.2601754809322693,0.2596268953818736,0.2602288515369037,0.25951884223100213,0.26018302358003814,0.2590879673112943,0.25958295616772503,0.26018595633990504,0.25955719105953917,0.25787750019155997,0.25930265616957976,0.2597042449670595,0.0055265346604531345,0.2602584809607259,0.23011156573280486,0.2587367168817073,0.0055265346604531345,0.26007023824899744,0.20937287642597688,0.26028008884807147,0.2593807253561915,0.09553855607140857,0.2599422480992969,0.26010841108429805,0.22476821283625031,0.259786569921156,0.2600146054175172,0.25937865695511186,0.0055265346604531345,0.2590838442103591,0.25808956918456116,0.2602203281578796,0.2597317041640639,0.2602112037161034,0.25957325982143475,0.258877519296107,0.2602381414271046,0.22945208899693456,0.25744764276503185,0.2601389618318306,0.25862269615460065,0.0055265346604531345,0.25943561873427423,0.2602278701134813,0.23464555602847445,0.2599600968746837,0.25109521608492075,0.22616600296427292,0.24902297133649398,0.15980766326376777,0.2585037107282405,0.25959143225865944,0.23005291874778028,0.0055265346604531345,0.2600550790310071,0.2587447097389494,0.25083312841401195],\"type\":\"scatter\",\"xaxis\":\"x5\",\"yaxis\":\"y5\"},{\"marker\":{\"color\":[0,1,2,3,4,5,6,7,8,9,10,11,12,13,14,15,16,17,18,19,20,21,22,23,24,25,26,27,28,29,30,31,32,33,34,35,36,37,38,39,40,41,42,43,44,45,46,47,48,49,50,51,52,53,54,55,56,57,58,59,60,61,62,63,64,65,66,67,68,69,70,71,72,73,74,75,76,77,78,79,80,81,82,83,84,85,86,87,88,89,90,91,92,93,94,95,96,97,98,99,100,101,102,103,104,105,106,107,108,109,110,111,112,113,114,115,116,117,118,119,120,121,122,123,124,125,126,127,128,129,130,131,132,133,134,135,136,137,138,139,140,141,142,143,144,145,146,147,148,149,150,151,152,153,154,155,156,157,158,159,160,161,162,163,164,165,166,167,168,169,170,171,172,173,174,175,176,177,178,179,180,181,182,183,184,185,186,187,188,189,190,191,192,193,194,195,196,197,198,199,200,201,202,203,204,205,206,207,208,209,210,211,212,213,214,215,216,217,218,219,220,221,222,223,224,225,226,227,228,229,230,231,232,233,234,235,236,237,238,239,240,241,242,243,244,245,246,247,248,249,250,251,252,253,254,255,256,257,258,259,260,261,262,263,264,265,266,267,268,269,270,271,272,273,274,275,276,277,278,279,280,281,282,283,284,285,286,287,288,289,290,291,292,293,294,295,296,297,298,299],\"colorbar\":{\"title\":{\"text\":\"Trial\"},\"x\":1.0,\"xpad\":40},\"colorscale\":[[0.0,\"rgb(247,251,255)\"],[0.125,\"rgb(222,235,247)\"],[0.25,\"rgb(198,219,239)\"],[0.375,\"rgb(158,202,225)\"],[0.5,\"rgb(107,174,214)\"],[0.625,\"rgb(66,146,198)\"],[0.75,\"rgb(33,113,181)\"],[0.875,\"rgb(8,81,156)\"],[1.0,\"rgb(8,48,107)\"]],\"line\":{\"color\":\"Grey\",\"width\":0.5},\"showscale\":false},\"mode\":\"markers\",\"name\":\"Feasible Trial\",\"showlegend\":false,\"x\":[\"cosine\",\"euclidean\",\"euclidean\",\"euclidean\",\"tversky\",\"dice\",\"cosine\",\"cosine\",\"euclidean\",\"tversky\",\"jaccard\",\"asymmetric\",\"asymmetric\",\"asymmetric\",\"cosine\",\"asymmetric\",\"jaccard\",\"dice\",\"dice\",\"dice\",\"dice\",\"dice\",\"dice\",\"dice\",\"dice\",\"dice\",\"dice\",\"dice\",\"dice\",\"dice\",\"jaccard\",\"jaccard\",\"jaccard\",\"jaccard\",\"jaccard\",\"jaccard\",\"jaccard\",\"jaccard\",\"jaccard\",\"jaccard\",\"jaccard\",\"jaccard\",\"jaccard\",\"jaccard\",\"euclidean\",\"tversky\",\"jaccard\",\"jaccard\",\"jaccard\",\"cosine\",\"tversky\",\"jaccard\",\"jaccard\",\"jaccard\",\"jaccard\",\"euclidean\",\"jaccard\",\"jaccard\",\"asymmetric\",\"cosine\",\"jaccard\",\"jaccard\",\"jaccard\",\"jaccard\",\"jaccard\",\"jaccard\",\"tversky\",\"jaccard\",\"euclidean\",\"asymmetric\",\"jaccard\",\"jaccard\",\"jaccard\",\"jaccard\",\"jaccard\",\"jaccard\",\"jaccard\",\"cosine\",\"cosine\",\"cosine\",\"cosine\",\"cosine\",\"cosine\",\"cosine\",\"cosine\",\"cosine\",\"cosine\",\"cosine\",\"cosine\",\"cosine\",\"cosine\",\"cosine\",\"cosine\",\"cosine\",\"cosine\",\"cosine\",\"cosine\",\"cosine\",\"cosine\",\"cosine\",\"cosine\",\"cosine\",\"cosine\",\"cosine\",\"cosine\",\"cosine\",\"cosine\",\"cosine\",\"cosine\",\"cosine\",\"cosine\",\"cosine\",\"cosine\",\"cosine\",\"cosine\",\"cosine\",\"cosine\",\"cosine\",\"cosine\",\"cosine\",\"tversky\",\"cosine\",\"cosine\",\"cosine\",\"cosine\",\"asymmetric\",\"cosine\",\"euclidean\",\"cosine\",\"cosine\",\"cosine\",\"cosine\",\"cosine\",\"cosine\",\"cosine\",\"cosine\",\"cosine\",\"cosine\",\"cosine\",\"cosine\",\"cosine\",\"cosine\",\"cosine\",\"cosine\",\"cosine\",\"tversky\",\"cosine\",\"asymmetric\",\"euclidean\",\"cosine\",\"cosine\",\"cosine\",\"cosine\",\"cosine\",\"cosine\",\"dice\",\"cosine\",\"cosine\",\"cosine\",\"cosine\",\"cosine\",\"cosine\",\"cosine\",\"cosine\",\"cosine\",\"cosine\",\"cosine\",\"cosine\",\"cosine\",\"cosine\",\"cosine\",\"cosine\",\"cosine\",\"cosine\",\"cosine\",\"cosine\",\"cosine\",\"cosine\",\"cosine\",\"asymmetric\",\"tversky\",\"cosine\",\"cosine\",\"cosine\",\"cosine\",\"cosine\",\"euclidean\",\"cosine\",\"dice\",\"cosine\",\"cosine\",\"cosine\",\"cosine\",\"cosine\",\"cosine\",\"cosine\",\"cosine\",\"cosine\",\"cosine\",\"cosine\",\"cosine\",\"cosine\",\"cosine\",\"cosine\",\"cosine\",\"cosine\",\"cosine\",\"cosine\",\"cosine\",\"cosine\",\"cosine\",\"cosine\",\"cosine\",\"cosine\",\"cosine\",\"cosine\",\"cosine\",\"cosine\",\"cosine\",\"cosine\",\"tversky\",\"cosine\",\"cosine\",\"cosine\",\"cosine\",\"asymmetric\",\"cosine\",\"cosine\",\"cosine\",\"euclidean\",\"dice\",\"cosine\",\"cosine\",\"cosine\",\"cosine\",\"cosine\",\"cosine\",\"cosine\",\"cosine\",\"cosine\",\"cosine\",\"cosine\",\"cosine\",\"cosine\",\"cosine\",\"cosine\",\"cosine\",\"cosine\",\"cosine\",\"cosine\",\"cosine\",\"cosine\",\"cosine\",\"cosine\",\"cosine\",\"cosine\",\"cosine\",\"cosine\",\"cosine\",\"tversky\",\"cosine\",\"asymmetric\",\"cosine\",\"cosine\",\"euclidean\",\"cosine\",\"cosine\",\"dice\",\"cosine\",\"cosine\",\"cosine\",\"cosine\",\"cosine\",\"cosine\",\"cosine\",\"cosine\",\"cosine\",\"cosine\",\"cosine\",\"cosine\",\"cosine\",\"cosine\",\"cosine\",\"cosine\",\"cosine\",\"cosine\",\"cosine\",\"tversky\",\"cosine\",\"cosine\",\"euclidean\",\"asymmetric\",\"cosine\",\"cosine\",\"cosine\",\"dice\",\"cosine\",\"cosine\",\"cosine\",\"cosine\"],\"y\":[0.23148330284290042,0.13624718955739376,0.1471750754734151,0.17665494281875593,0.22605954763810066,0.20349984418451744,0.1972443703365315,0.19482189997815597,0.17637428068323063,0.22522086925996349,0.22319422054210195,0.2304573118495677,0.17144150147345222,0.2320857319855421,0.23275752848559866,0.23171090388175025,0.2127854379593969,0.23970748561893918,0.240483947366465,0.22505091809824102,0.24092850196791454,0.24090856193617882,0.2355894386586912,0.24176958909342275,0.23873396992488702,0.24254635065272973,0.24957153157159687,0.24888446910334255,0.23541728054090555,0.2516468092914111,0.25443769162528307,0.2548065564830398,0.25372594137621196,0.2542656062806814,0.2510363291879291,0.21729222252899047,0.2542230921973612,0.23936386771471282,0.23272192674389913,0.2430012686796093,0.2445792335742334,0.2508384206817508,0.2555594698275499,0.25216047372169353,0.09889549888703199,0.21599737636144267,0.23142058460597698,0.24626551129669433,0.22726151671351763,0.23969296349398544,0.24756067995173195,0.25530024248415983,0.25560379420324086,0.25571632981331993,0.25565640365780096,0.08043575093375183,0.21855068461434887,0.24773265987949525,0.054672355535981446,0.22372828175047949,0.2358642124673164,0.2553778916070521,0.2568086807011941,0.2558789323947374,0.2552056581054293,0.2455116840403182,0.2152355960719305,0.0055265346604531345,0.11067393242761561,0.22608833450679114,0.233145956015041,0.2547298553411854,0.24897096109001587,0.2576156616761005,0.25744981266166433,0.21698334053455676,0.2575202661872857,0.2561060665645264,0.25578135216037295,0.25494998947199676,0.2538111399898332,0.2559646138359945,0.25582035948664855,0.2559897184094767,0.2559974523038986,0.2533678262625595,0.2562629450364597,0.2523955512395206,0.25646652209648685,0.2501219720024811,0.2485134954588148,0.25647034080192216,0.2551863355191928,0.2565211778203894,0.2565991891007239,0.25422240615921754,0.24847896854246318,0.2578990980248367,0.25753610102787367,0.25964283046146747,0.25917266297874675,0.258279823411374,0.2598612810007102,0.2596685152716735,0.2593783948294804,0.25918602878015073,0.25919092214299544,0.25919132087475044,0.2583387599220447,0.2585890395914807,0.21708510837470243,0.2587061884464763,0.2589839874559213,0.2589583376145547,0.25863546012247757,0.25885640146171823,0.25970924597612643,0.2600522358728864,0.2597082707062577,0.25826614004087733,0.21113037843336824,0.2599951255124881,0.2600831369621336,0.26007342166596137,0.2602208581514182,0.124809511033937,0.24869521280564416,0.055944053866720675,0.0055265346604531345,0.2600945614984461,0.260019690529778,0.2602939568788393,0.26015952543770826,0.2600300024230263,0.2601363510062749,0.2600263645507829,0.2600216894749122,0.25986158212031707,0.23112299979914588,0.258406550449704,0.2563362950505154,0.25987593054671143,0.25809501891627473,0.2600722602929655,0.2592606292932317,0.23251582536931018,0.25844008266429297,0.24438533737019758,0.1047407367488387,0.25840097475794127,0.2563216651426966,0.2598256616300174,0.24862544044376894,0.2601035905209292,0.2602726153027083,0.22736937727738943,0.2585028479772481,0.0055265346604531345,0.2307749488633813,0.2601695123332381,0.2590679863270371,0.2601695123332381,0.2601854248411634,0.25797448558814523,0.26021846822095585,0.2588010860733287,0.26015684881002554,0.25744117476851935,0.0055265346604531345,0.2602098221402436,0.0055265346604531345,0.2602967190708516,0.26030777685753526,0.2587079872788002,0.2602398571830838,0.2600797939695729,0.25878144958385246,0.2601141247441451,0.2580234098585182,0.24964093523736391,0.23835958795670487,0.2601999026823316,0.25908841948201733,0.0055265346604531345,0.26014436975609867,0.252680413487203,0.14577658713529842,0.25909516298509416,0.25835488067699763,0.25841751302486693,0.2593481385474267,0.2602909363743621,0.26020579220238493,0.25996299344736007,0.0055265346604531345,0.26021464860255117,0.25996258609179124,0.260148938520933,0.251475362966174,0.2592997343508444,0.26021746435997634,0.26026967279496155,0.25973168609259234,0.25956870479820804,0.15723541587884352,0.2602150234922539,0.2587655274981736,0.2601907058553735,0.2579695019688275,0.2597590106646209,0.26020274354136347,0.26021746435997634,0.25918609774315415,0.2602304128932977,0.0055265346604531345,0.2600048907447058,0.25898286532965625,0.26003591850712676,0.25955447200453297,0.25835700679338836,0.23143347632150107,0.2601496975882339,0.26023387066960185,0.2592878663097236,0.25947503718498066,0.12081679500471895,0.23194952716433268,0.2571584636359604,0.2593115432955166,0.22653160301581338,0.23114123541862147,0.2602284434081664,0.260170469264755,0.25900203441061187,0.0055265346604531345,0.26020109143156656,0.2593904519297865,0.2601949006087537,0.25972130209036765,0.25880710274682955,0.0055265346604531345,0.2602256159803388,0.25989067700252066,0.2601754809322693,0.2596268953818736,0.2602288515369037,0.25951884223100213,0.26018302358003814,0.2590879673112943,0.25958295616772503,0.26018595633990504,0.25955719105953917,0.25787750019155997,0.25930265616957976,0.2597042449670595,0.0055265346604531345,0.2602584809607259,0.23011156573280486,0.2587367168817073,0.0055265346604531345,0.26007023824899744,0.20937287642597688,0.26028008884807147,0.2593807253561915,0.09553855607140857,0.2599422480992969,0.26010841108429805,0.22476821283625031,0.259786569921156,0.2600146054175172,0.25937865695511186,0.0055265346604531345,0.2590838442103591,0.25808956918456116,0.2602203281578796,0.2597317041640639,0.2602112037161034,0.25957325982143475,0.258877519296107,0.2602381414271046,0.22945208899693456,0.25744764276503185,0.2601389618318306,0.25862269615460065,0.0055265346604531345,0.25943561873427423,0.2602278701134813,0.23464555602847445,0.2599600968746837,0.25109521608492075,0.22616600296427292,0.24902297133649398,0.15980766326376777,0.2585037107282405,0.25959143225865944,0.23005291874778028,0.0055265346604531345,0.2600550790310071,0.2587447097389494,0.25083312841401195],\"type\":\"scatter\",\"xaxis\":\"x6\",\"yaxis\":\"y6\"},{\"marker\":{\"color\":[1,2,3,8,44,55,68,127,148,186,229,264,290],\"colorbar\":{\"title\":{\"text\":\"Trial\"},\"x\":1.0,\"xpad\":40},\"colorscale\":[[0.0,\"rgb(247,251,255)\"],[0.125,\"rgb(222,235,247)\"],[0.25,\"rgb(198,219,239)\"],[0.375,\"rgb(158,202,225)\"],[0.5,\"rgb(107,174,214)\"],[0.625,\"rgb(66,146,198)\"],[0.75,\"rgb(33,113,181)\"],[0.875,\"rgb(8,81,156)\"],[1.0,\"rgb(8,48,107)\"]],\"line\":{\"color\":\"Grey\",\"width\":0.5},\"showscale\":false},\"mode\":\"markers\",\"name\":\"Feasible Trial\",\"showlegend\":false,\"x\":[\"lin\",\"exp\",\"log\",\"lin\",\"exp\",\"log\",\"log\",\"exp\",\"lin\",\"log\",\"exp\",\"lin\",\"exp\"],\"y\":[0.13624718955739376,0.1471750754734151,0.17665494281875593,0.17637428068323063,0.09889549888703199,0.08043575093375183,0.11067393242761561,0.055944053866720675,0.1047407367488387,0.14577658713529842,0.22653160301581338,0.09553855607140857,0.22616600296427292],\"type\":\"scatter\",\"xaxis\":\"x7\",\"yaxis\":\"y7\"},{\"marker\":{\"color\":[0,1,2,3,4,5,6,7,8,9,10,11,12,13,14,15,16,17,18,19,20,21,22,23,24,25,26,27,28,29,30,31,32,33,34,35,36,37,38,39,40,41,42,43,44,45,46,47,48,49,50,51,52,53,54,55,56,57,58,59,60,61,62,63,64,65,66,67,68,69,70,71,72,73,74,75,76,77,78,79,80,81,82,83,84,85,86,87,88,89,90,91,92,93,94,95,96,97,98,99,100,101,102,103,104,105,106,107,108,109,110,111,112,113,114,115,116,117,118,119,120,121,122,123,124,125,126,127,128,129,130,131,132,133,134,135,136,137,138,139,140,141,142,143,144,145,146,147,148,149,150,151,152,153,154,155,156,157,158,159,160,161,162,163,164,165,166,167,168,169,170,171,172,173,174,175,176,177,178,179,180,181,182,183,184,185,186,187,188,189,190,191,192,193,194,195,196,197,198,199,200,201,202,203,204,205,206,207,208,209,210,211,212,213,214,215,216,217,218,219,220,221,222,223,224,225,226,227,228,229,230,231,232,233,234,235,236,237,238,239,240,241,242,243,244,245,246,247,248,249,250,251,252,253,254,255,256,257,258,259,260,261,262,263,264,265,266,267,268,269,270,271,272,273,274,275,276,277,278,279,280,281,282,283,284,285,286,287,288,289,290,291,292,293,294,295,296,297,298,299],\"colorbar\":{\"title\":{\"text\":\"Trial\"},\"x\":1.0,\"xpad\":40},\"colorscale\":[[0.0,\"rgb(247,251,255)\"],[0.125,\"rgb(222,235,247)\"],[0.25,\"rgb(198,219,239)\"],[0.375,\"rgb(158,202,225)\"],[0.5,\"rgb(107,174,214)\"],[0.625,\"rgb(66,146,198)\"],[0.75,\"rgb(33,113,181)\"],[0.875,\"rgb(8,81,156)\"],[1.0,\"rgb(8,48,107)\"]],\"line\":{\"color\":\"Grey\",\"width\":0.5},\"showscale\":false},\"mode\":\"markers\",\"name\":\"Feasible Trial\",\"showlegend\":false,\"x\":[28,707,529,93,389,596,404,405,88,576,216,257,18,195,227,240,160,314,297,347,303,306,479,326,450,304,138,150,135,69,65,61,64,59,42,2,63,107,749,49,182,103,51,9,108,36,84,188,630,128,70,53,31,25,22,3,15,31,97,162,264,38,20,27,29,30,116,0,83,84,28,45,50,19,23,2,20,83,86,121,144,77,84,83,75,161,71,204,72,367,545,75,103,65,62,128,447,55,62,15,12,50,17,16,14,12,12,11,9,43,2,42,40,42,45,43,15,19,14,8,9,16,17,17,20,26,619,2,0,30,31,24,26,30,27,30,29,34,31,56,96,34,61,31,42,30,55,31,277,54,96,34,697,31,28,69,53,0,28,26,45,26,28,63,27,47,26,71,0,22,0,21,21,48,21,19,47,18,60,420,22,24,41,0,19,239,513,41,23,56,39,20,18,15,0,20,15,18,332,42,24,23,14,38,1,24,53,27,61,35,27,24,43,24,0,17,47,30,12,57,34,22,26,11,39,27,50,73,11,27,42,25,23,10,0,24,39,20,13,53,0,24,34,19,37,22,12,23,46,12,25,38,61,11,37,0,24,18,49,0,30,51,21,39,67,15,31,49,14,29,11,0,41,62,23,36,18,12,47,22,12,72,25,53,0,38,18,38,16,373,27,675,1,55,37,16,0,26,52,397],\"y\":[0.23148330284290042,0.13624718955739376,0.1471750754734151,0.17665494281875593,0.22605954763810066,0.20349984418451744,0.1972443703365315,0.19482189997815597,0.17637428068323063,0.22522086925996349,0.22319422054210195,0.2304573118495677,0.17144150147345222,0.2320857319855421,0.23275752848559866,0.23171090388175025,0.2127854379593969,0.23970748561893918,0.240483947366465,0.22505091809824102,0.24092850196791454,0.24090856193617882,0.2355894386586912,0.24176958909342275,0.23873396992488702,0.24254635065272973,0.24957153157159687,0.24888446910334255,0.23541728054090555,0.2516468092914111,0.25443769162528307,0.2548065564830398,0.25372594137621196,0.2542656062806814,0.2510363291879291,0.21729222252899047,0.2542230921973612,0.23936386771471282,0.23272192674389913,0.2430012686796093,0.2445792335742334,0.2508384206817508,0.2555594698275499,0.25216047372169353,0.09889549888703199,0.21599737636144267,0.23142058460597698,0.24626551129669433,0.22726151671351763,0.23969296349398544,0.24756067995173195,0.25530024248415983,0.25560379420324086,0.25571632981331993,0.25565640365780096,0.08043575093375183,0.21855068461434887,0.24773265987949525,0.054672355535981446,0.22372828175047949,0.2358642124673164,0.2553778916070521,0.2568086807011941,0.2558789323947374,0.2552056581054293,0.2455116840403182,0.2152355960719305,0.0055265346604531345,0.11067393242761561,0.22608833450679114,0.233145956015041,0.2547298553411854,0.24897096109001587,0.2576156616761005,0.25744981266166433,0.21698334053455676,0.2575202661872857,0.2561060665645264,0.25578135216037295,0.25494998947199676,0.2538111399898332,0.2559646138359945,0.25582035948664855,0.2559897184094767,0.2559974523038986,0.2533678262625595,0.2562629450364597,0.2523955512395206,0.25646652209648685,0.2501219720024811,0.2485134954588148,0.25647034080192216,0.2551863355191928,0.2565211778203894,0.2565991891007239,0.25422240615921754,0.24847896854246318,0.2578990980248367,0.25753610102787367,0.25964283046146747,0.25917266297874675,0.258279823411374,0.2598612810007102,0.2596685152716735,0.2593783948294804,0.25918602878015073,0.25919092214299544,0.25919132087475044,0.2583387599220447,0.2585890395914807,0.21708510837470243,0.2587061884464763,0.2589839874559213,0.2589583376145547,0.25863546012247757,0.25885640146171823,0.25970924597612643,0.2600522358728864,0.2597082707062577,0.25826614004087733,0.21113037843336824,0.2599951255124881,0.2600831369621336,0.26007342166596137,0.2602208581514182,0.124809511033937,0.24869521280564416,0.055944053866720675,0.0055265346604531345,0.2600945614984461,0.260019690529778,0.2602939568788393,0.26015952543770826,0.2600300024230263,0.2601363510062749,0.2600263645507829,0.2600216894749122,0.25986158212031707,0.23112299979914588,0.258406550449704,0.2563362950505154,0.25987593054671143,0.25809501891627473,0.2600722602929655,0.2592606292932317,0.23251582536931018,0.25844008266429297,0.24438533737019758,0.1047407367488387,0.25840097475794127,0.2563216651426966,0.2598256616300174,0.24862544044376894,0.2601035905209292,0.2602726153027083,0.22736937727738943,0.2585028479772481,0.0055265346604531345,0.2307749488633813,0.2601695123332381,0.2590679863270371,0.2601695123332381,0.2601854248411634,0.25797448558814523,0.26021846822095585,0.2588010860733287,0.26015684881002554,0.25744117476851935,0.0055265346604531345,0.2602098221402436,0.0055265346604531345,0.2602967190708516,0.26030777685753526,0.2587079872788002,0.2602398571830838,0.2600797939695729,0.25878144958385246,0.2601141247441451,0.2580234098585182,0.24964093523736391,0.23835958795670487,0.2601999026823316,0.25908841948201733,0.0055265346604531345,0.26014436975609867,0.252680413487203,0.14577658713529842,0.25909516298509416,0.25835488067699763,0.25841751302486693,0.2593481385474267,0.2602909363743621,0.26020579220238493,0.25996299344736007,0.0055265346604531345,0.26021464860255117,0.25996258609179124,0.260148938520933,0.251475362966174,0.2592997343508444,0.26021746435997634,0.26026967279496155,0.25973168609259234,0.25956870479820804,0.15723541587884352,0.2602150234922539,0.2587655274981736,0.2601907058553735,0.2579695019688275,0.2597590106646209,0.26020274354136347,0.26021746435997634,0.25918609774315415,0.2602304128932977,0.0055265346604531345,0.2600048907447058,0.25898286532965625,0.26003591850712676,0.25955447200453297,0.25835700679338836,0.23143347632150107,0.2601496975882339,0.26023387066960185,0.2592878663097236,0.25947503718498066,0.12081679500471895,0.23194952716433268,0.2571584636359604,0.2593115432955166,0.22653160301581338,0.23114123541862147,0.2602284434081664,0.260170469264755,0.25900203441061187,0.0055265346604531345,0.26020109143156656,0.2593904519297865,0.2601949006087537,0.25972130209036765,0.25880710274682955,0.0055265346604531345,0.2602256159803388,0.25989067700252066,0.2601754809322693,0.2596268953818736,0.2602288515369037,0.25951884223100213,0.26018302358003814,0.2590879673112943,0.25958295616772503,0.26018595633990504,0.25955719105953917,0.25787750019155997,0.25930265616957976,0.2597042449670595,0.0055265346604531345,0.2602584809607259,0.23011156573280486,0.2587367168817073,0.0055265346604531345,0.26007023824899744,0.20937287642597688,0.26028008884807147,0.2593807253561915,0.09553855607140857,0.2599422480992969,0.26010841108429805,0.22476821283625031,0.259786569921156,0.2600146054175172,0.25937865695511186,0.0055265346604531345,0.2590838442103591,0.25808956918456116,0.2602203281578796,0.2597317041640639,0.2602112037161034,0.25957325982143475,0.258877519296107,0.2602381414271046,0.22945208899693456,0.25744764276503185,0.2601389618318306,0.25862269615460065,0.0055265346604531345,0.25943561873427423,0.2602278701134813,0.23464555602847445,0.2599600968746837,0.25109521608492075,0.22616600296427292,0.24902297133649398,0.15980766326376777,0.2585037107282405,0.25959143225865944,0.23005291874778028,0.0055265346604531345,0.2600550790310071,0.2587447097389494,0.25083312841401195],\"type\":\"scatter\",\"xaxis\":\"x8\",\"yaxis\":\"y8\"},{\"marker\":{\"color\":[4,9,45,50,66,120,145,180,220,259,287],\"colorbar\":{\"title\":{\"text\":\"Trial\"},\"x\":1.0,\"xpad\":40},\"colorscale\":[[0.0,\"rgb(247,251,255)\"],[0.125,\"rgb(222,235,247)\"],[0.25,\"rgb(198,219,239)\"],[0.375,\"rgb(158,202,225)\"],[0.5,\"rgb(107,174,214)\"],[0.625,\"rgb(66,146,198)\"],[0.75,\"rgb(33,113,181)\"],[0.875,\"rgb(8,81,156)\"],[1.0,\"rgb(8,48,107)\"]],\"line\":{\"color\":\"Grey\",\"width\":0.5},\"showscale\":false},\"mode\":\"markers\",\"name\":\"Feasible Trial\",\"showlegend\":false,\"x\":[0.002773552710161331,0.012186413739336377,1.9589324692384469,1.3266837259233304,0.8306481932855818,0.8067298376548713,1.7113331433700558,0.44645192794332345,1.30076447023733,0.4756336408642483,1.3669547158153499],\"y\":[0.22605954763810066,0.22522086925996349,0.21599737636144267,0.24756067995173195,0.2152355960719305,0.21113037843336824,0.23251582536931018,0.23835958795670487,0.23143347632150107,0.0055265346604531345,0.23464555602847445],\"type\":\"scatter\",\"xaxis\":\"x9\",\"yaxis\":\"y9\"},{\"marker\":{\"color\":[4,9,45,50,66,120,145,180,220,259,287],\"colorbar\":{\"title\":{\"text\":\"Trial\"},\"x\":1.0,\"xpad\":40},\"colorscale\":[[0.0,\"rgb(247,251,255)\"],[0.125,\"rgb(222,235,247)\"],[0.25,\"rgb(198,219,239)\"],[0.375,\"rgb(158,202,225)\"],[0.5,\"rgb(107,174,214)\"],[0.625,\"rgb(66,146,198)\"],[0.75,\"rgb(33,113,181)\"],[0.875,\"rgb(8,81,156)\"],[1.0,\"rgb(8,48,107)\"]],\"line\":{\"color\":\"Grey\",\"width\":0.5},\"showscale\":false},\"mode\":\"markers\",\"name\":\"Feasible Trial\",\"showlegend\":false,\"x\":[0.610671904065073,1.4416409845921037,0.01962289550447016,1.95347608801205,0.8823383845412239,0.2874035369552379,1.4127330315232332,1.9709020362287026,1.224578477161475,0.6878494702791231,1.675650354704799],\"y\":[0.22605954763810066,0.22522086925996349,0.21599737636144267,0.24756067995173195,0.2152355960719305,0.21113037843336824,0.23251582536931018,0.23835958795670487,0.23143347632150107,0.0055265346604531345,0.23464555602847445],\"type\":\"scatter\",\"xaxis\":\"x10\",\"yaxis\":\"y10\"}],                        {\"template\":{\"data\":{\"histogram2dcontour\":[{\"type\":\"histogram2dcontour\",\"colorbar\":{\"outlinewidth\":0,\"ticks\":\"\"},\"colorscale\":[[0.0,\"#0d0887\"],[0.1111111111111111,\"#46039f\"],[0.2222222222222222,\"#7201a8\"],[0.3333333333333333,\"#9c179e\"],[0.4444444444444444,\"#bd3786\"],[0.5555555555555556,\"#d8576b\"],[0.6666666666666666,\"#ed7953\"],[0.7777777777777778,\"#fb9f3a\"],[0.8888888888888888,\"#fdca26\"],[1.0,\"#f0f921\"]]}],\"choropleth\":[{\"type\":\"choropleth\",\"colorbar\":{\"outlinewidth\":0,\"ticks\":\"\"}}],\"histogram2d\":[{\"type\":\"histogram2d\",\"colorbar\":{\"outlinewidth\":0,\"ticks\":\"\"},\"colorscale\":[[0.0,\"#0d0887\"],[0.1111111111111111,\"#46039f\"],[0.2222222222222222,\"#7201a8\"],[0.3333333333333333,\"#9c179e\"],[0.4444444444444444,\"#bd3786\"],[0.5555555555555556,\"#d8576b\"],[0.6666666666666666,\"#ed7953\"],[0.7777777777777778,\"#fb9f3a\"],[0.8888888888888888,\"#fdca26\"],[1.0,\"#f0f921\"]]}],\"heatmap\":[{\"type\":\"heatmap\",\"colorbar\":{\"outlinewidth\":0,\"ticks\":\"\"},\"colorscale\":[[0.0,\"#0d0887\"],[0.1111111111111111,\"#46039f\"],[0.2222222222222222,\"#7201a8\"],[0.3333333333333333,\"#9c179e\"],[0.4444444444444444,\"#bd3786\"],[0.5555555555555556,\"#d8576b\"],[0.6666666666666666,\"#ed7953\"],[0.7777777777777778,\"#fb9f3a\"],[0.8888888888888888,\"#fdca26\"],[1.0,\"#f0f921\"]]}],\"heatmapgl\":[{\"type\":\"heatmapgl\",\"colorbar\":{\"outlinewidth\":0,\"ticks\":\"\"},\"colorscale\":[[0.0,\"#0d0887\"],[0.1111111111111111,\"#46039f\"],[0.2222222222222222,\"#7201a8\"],[0.3333333333333333,\"#9c179e\"],[0.4444444444444444,\"#bd3786\"],[0.5555555555555556,\"#d8576b\"],[0.6666666666666666,\"#ed7953\"],[0.7777777777777778,\"#fb9f3a\"],[0.8888888888888888,\"#fdca26\"],[1.0,\"#f0f921\"]]}],\"contourcarpet\":[{\"type\":\"contourcarpet\",\"colorbar\":{\"outlinewidth\":0,\"ticks\":\"\"}}],\"contour\":[{\"type\":\"contour\",\"colorbar\":{\"outlinewidth\":0,\"ticks\":\"\"},\"colorscale\":[[0.0,\"#0d0887\"],[0.1111111111111111,\"#46039f\"],[0.2222222222222222,\"#7201a8\"],[0.3333333333333333,\"#9c179e\"],[0.4444444444444444,\"#bd3786\"],[0.5555555555555556,\"#d8576b\"],[0.6666666666666666,\"#ed7953\"],[0.7777777777777778,\"#fb9f3a\"],[0.8888888888888888,\"#fdca26\"],[1.0,\"#f0f921\"]]}],\"surface\":[{\"type\":\"surface\",\"colorbar\":{\"outlinewidth\":0,\"ticks\":\"\"},\"colorscale\":[[0.0,\"#0d0887\"],[0.1111111111111111,\"#46039f\"],[0.2222222222222222,\"#7201a8\"],[0.3333333333333333,\"#9c179e\"],[0.4444444444444444,\"#bd3786\"],[0.5555555555555556,\"#d8576b\"],[0.6666666666666666,\"#ed7953\"],[0.7777777777777778,\"#fb9f3a\"],[0.8888888888888888,\"#fdca26\"],[1.0,\"#f0f921\"]]}],\"mesh3d\":[{\"type\":\"mesh3d\",\"colorbar\":{\"outlinewidth\":0,\"ticks\":\"\"}}],\"scatter\":[{\"fillpattern\":{\"fillmode\":\"overlay\",\"size\":10,\"solidity\":0.2},\"type\":\"scatter\"}],\"parcoords\":[{\"type\":\"parcoords\",\"line\":{\"colorbar\":{\"outlinewidth\":0,\"ticks\":\"\"}}}],\"scatterpolargl\":[{\"type\":\"scatterpolargl\",\"marker\":{\"colorbar\":{\"outlinewidth\":0,\"ticks\":\"\"}}}],\"bar\":[{\"error_x\":{\"color\":\"#2a3f5f\"},\"error_y\":{\"color\":\"#2a3f5f\"},\"marker\":{\"line\":{\"color\":\"#E5ECF6\",\"width\":0.5},\"pattern\":{\"fillmode\":\"overlay\",\"size\":10,\"solidity\":0.2}},\"type\":\"bar\"}],\"scattergeo\":[{\"type\":\"scattergeo\",\"marker\":{\"colorbar\":{\"outlinewidth\":0,\"ticks\":\"\"}}}],\"scatterpolar\":[{\"type\":\"scatterpolar\",\"marker\":{\"colorbar\":{\"outlinewidth\":0,\"ticks\":\"\"}}}],\"histogram\":[{\"marker\":{\"pattern\":{\"fillmode\":\"overlay\",\"size\":10,\"solidity\":0.2}},\"type\":\"histogram\"}],\"scattergl\":[{\"type\":\"scattergl\",\"marker\":{\"colorbar\":{\"outlinewidth\":0,\"ticks\":\"\"}}}],\"scatter3d\":[{\"type\":\"scatter3d\",\"line\":{\"colorbar\":{\"outlinewidth\":0,\"ticks\":\"\"}},\"marker\":{\"colorbar\":{\"outlinewidth\":0,\"ticks\":\"\"}}}],\"scattermapbox\":[{\"type\":\"scattermapbox\",\"marker\":{\"colorbar\":{\"outlinewidth\":0,\"ticks\":\"\"}}}],\"scatterternary\":[{\"type\":\"scatterternary\",\"marker\":{\"colorbar\":{\"outlinewidth\":0,\"ticks\":\"\"}}}],\"scattercarpet\":[{\"type\":\"scattercarpet\",\"marker\":{\"colorbar\":{\"outlinewidth\":0,\"ticks\":\"\"}}}],\"carpet\":[{\"aaxis\":{\"endlinecolor\":\"#2a3f5f\",\"gridcolor\":\"white\",\"linecolor\":\"white\",\"minorgridcolor\":\"white\",\"startlinecolor\":\"#2a3f5f\"},\"baxis\":{\"endlinecolor\":\"#2a3f5f\",\"gridcolor\":\"white\",\"linecolor\":\"white\",\"minorgridcolor\":\"white\",\"startlinecolor\":\"#2a3f5f\"},\"type\":\"carpet\"}],\"table\":[{\"cells\":{\"fill\":{\"color\":\"#EBF0F8\"},\"line\":{\"color\":\"white\"}},\"header\":{\"fill\":{\"color\":\"#C8D4E3\"},\"line\":{\"color\":\"white\"}},\"type\":\"table\"}],\"barpolar\":[{\"marker\":{\"line\":{\"color\":\"#E5ECF6\",\"width\":0.5},\"pattern\":{\"fillmode\":\"overlay\",\"size\":10,\"solidity\":0.2}},\"type\":\"barpolar\"}],\"pie\":[{\"automargin\":true,\"type\":\"pie\"}]},\"layout\":{\"autotypenumbers\":\"strict\",\"colorway\":[\"#636efa\",\"#EF553B\",\"#00cc96\",\"#ab63fa\",\"#FFA15A\",\"#19d3f3\",\"#FF6692\",\"#B6E880\",\"#FF97FF\",\"#FECB52\"],\"font\":{\"color\":\"#2a3f5f\"},\"hovermode\":\"closest\",\"hoverlabel\":{\"align\":\"left\"},\"paper_bgcolor\":\"white\",\"plot_bgcolor\":\"#E5ECF6\",\"polar\":{\"bgcolor\":\"#E5ECF6\",\"angularaxis\":{\"gridcolor\":\"white\",\"linecolor\":\"white\",\"ticks\":\"\"},\"radialaxis\":{\"gridcolor\":\"white\",\"linecolor\":\"white\",\"ticks\":\"\"}},\"ternary\":{\"bgcolor\":\"#E5ECF6\",\"aaxis\":{\"gridcolor\":\"white\",\"linecolor\":\"white\",\"ticks\":\"\"},\"baxis\":{\"gridcolor\":\"white\",\"linecolor\":\"white\",\"ticks\":\"\"},\"caxis\":{\"gridcolor\":\"white\",\"linecolor\":\"white\",\"ticks\":\"\"}},\"coloraxis\":{\"colorbar\":{\"outlinewidth\":0,\"ticks\":\"\"}},\"colorscale\":{\"sequential\":[[0.0,\"#0d0887\"],[0.1111111111111111,\"#46039f\"],[0.2222222222222222,\"#7201a8\"],[0.3333333333333333,\"#9c179e\"],[0.4444444444444444,\"#bd3786\"],[0.5555555555555556,\"#d8576b\"],[0.6666666666666666,\"#ed7953\"],[0.7777777777777778,\"#fb9f3a\"],[0.8888888888888888,\"#fdca26\"],[1.0,\"#f0f921\"]],\"sequentialminus\":[[0.0,\"#0d0887\"],[0.1111111111111111,\"#46039f\"],[0.2222222222222222,\"#7201a8\"],[0.3333333333333333,\"#9c179e\"],[0.4444444444444444,\"#bd3786\"],[0.5555555555555556,\"#d8576b\"],[0.6666666666666666,\"#ed7953\"],[0.7777777777777778,\"#fb9f3a\"],[0.8888888888888888,\"#fdca26\"],[1.0,\"#f0f921\"]],\"diverging\":[[0,\"#8e0152\"],[0.1,\"#c51b7d\"],[0.2,\"#de77ae\"],[0.3,\"#f1b6da\"],[0.4,\"#fde0ef\"],[0.5,\"#f7f7f7\"],[0.6,\"#e6f5d0\"],[0.7,\"#b8e186\"],[0.8,\"#7fbc41\"],[0.9,\"#4d9221\"],[1,\"#276419\"]]},\"xaxis\":{\"gridcolor\":\"white\",\"linecolor\":\"white\",\"ticks\":\"\",\"title\":{\"standoff\":15},\"zerolinecolor\":\"white\",\"automargin\":true,\"zerolinewidth\":2},\"yaxis\":{\"gridcolor\":\"white\",\"linecolor\":\"white\",\"ticks\":\"\",\"title\":{\"standoff\":15},\"zerolinecolor\":\"white\",\"automargin\":true,\"zerolinewidth\":2},\"scene\":{\"xaxis\":{\"backgroundcolor\":\"#E5ECF6\",\"gridcolor\":\"white\",\"linecolor\":\"white\",\"showbackground\":true,\"ticks\":\"\",\"zerolinecolor\":\"white\",\"gridwidth\":2},\"yaxis\":{\"backgroundcolor\":\"#E5ECF6\",\"gridcolor\":\"white\",\"linecolor\":\"white\",\"showbackground\":true,\"ticks\":\"\",\"zerolinecolor\":\"white\",\"gridwidth\":2},\"zaxis\":{\"backgroundcolor\":\"#E5ECF6\",\"gridcolor\":\"white\",\"linecolor\":\"white\",\"showbackground\":true,\"ticks\":\"\",\"zerolinecolor\":\"white\",\"gridwidth\":2}},\"shapedefaults\":{\"line\":{\"color\":\"#2a3f5f\"}},\"annotationdefaults\":{\"arrowcolor\":\"#2a3f5f\",\"arrowhead\":0,\"arrowwidth\":1},\"geo\":{\"bgcolor\":\"white\",\"landcolor\":\"#E5ECF6\",\"subunitcolor\":\"white\",\"showland\":true,\"showlakes\":true,\"lakecolor\":\"white\"},\"title\":{\"x\":0.05},\"mapbox\":{\"style\":\"light\"}}},\"xaxis\":{\"anchor\":\"y\",\"domain\":[0.0,0.082],\"title\":{\"text\":\"asymmetric_alpha\"}},\"yaxis\":{\"anchor\":\"x\",\"domain\":[0.0,1.0],\"title\":{\"text\":\"Objective Value\"}},\"xaxis2\":{\"anchor\":\"y2\",\"domain\":[0.10200000000000001,0.184],\"title\":{\"text\":\"feature_weighting\"},\"type\":\"category\",\"categoryorder\":\"array\",\"categoryarray\":[\"BM25\",\"TF-IDF\",\"none\"]},\"yaxis2\":{\"anchor\":\"x2\",\"domain\":[0.0,1.0],\"matches\":\"y\",\"showticklabels\":false},\"xaxis3\":{\"anchor\":\"y3\",\"domain\":[0.20400000000000001,0.28600000000000003],\"title\":{\"text\":\"normalize\"},\"type\":\"category\",\"categoryorder\":\"array\",\"categoryarray\":[true,false]},\"yaxis3\":{\"anchor\":\"x3\",\"domain\":[0.0,1.0],\"matches\":\"y\",\"showticklabels\":false},\"xaxis4\":{\"anchor\":\"y4\",\"domain\":[0.306,0.388],\"title\":{\"text\":\"normalize_avg_row\"},\"type\":\"category\",\"categoryorder\":\"array\",\"categoryarray\":[true,false]},\"yaxis4\":{\"anchor\":\"x4\",\"domain\":[0.0,1.0],\"matches\":\"y\",\"showticklabels\":false},\"xaxis5\":{\"anchor\":\"y5\",\"domain\":[0.40800000000000003,0.49000000000000005],\"title\":{\"text\":\"shrink\"}},\"yaxis5\":{\"anchor\":\"x5\",\"domain\":[0.0,1.0],\"matches\":\"y\",\"showticklabels\":false},\"xaxis6\":{\"anchor\":\"y6\",\"domain\":[0.51,0.592],\"title\":{\"text\":\"similarity\"},\"type\":\"category\",\"categoryorder\":\"array\",\"categoryarray\":[\"cosine\",\"dice\",\"jaccard\",\"asymmetric\",\"tversky\",\"euclidean\"]},\"yaxis6\":{\"anchor\":\"x6\",\"domain\":[0.0,1.0],\"matches\":\"y\",\"showticklabels\":false},\"xaxis7\":{\"anchor\":\"y7\",\"domain\":[0.6120000000000001,0.6940000000000001],\"title\":{\"text\":\"similarity_from_distance_mode\"},\"type\":\"category\",\"categoryorder\":\"array\",\"categoryarray\":[\"lin\",\"log\",\"exp\"]},\"yaxis7\":{\"anchor\":\"x7\",\"domain\":[0.0,1.0],\"matches\":\"y\",\"showticklabels\":false},\"xaxis8\":{\"anchor\":\"y8\",\"domain\":[0.7140000000000001,0.796],\"title\":{\"text\":\"topK\"}},\"yaxis8\":{\"anchor\":\"x8\",\"domain\":[0.0,1.0],\"matches\":\"y\",\"showticklabels\":false},\"xaxis9\":{\"anchor\":\"y9\",\"domain\":[0.8160000000000001,0.898],\"title\":{\"text\":\"tversky_alpha\"}},\"yaxis9\":{\"anchor\":\"x9\",\"domain\":[0.0,1.0],\"matches\":\"y\",\"showticklabels\":false},\"xaxis10\":{\"anchor\":\"y10\",\"domain\":[0.9179999999999999,0.9999999999999999],\"title\":{\"text\":\"tversky_beta\"}},\"yaxis10\":{\"anchor\":\"x10\",\"domain\":[0.0,1.0],\"matches\":\"y\",\"showticklabels\":false},\"title\":{\"text\":\"Slice Plot\"},\"width\":3000},                        {\"responsive\": true}                    ).then(function(){\n",
       "                            \n",
       "var gd = document.getElementById('921f3aa3-b1d1-4717-b484-9e1e42701d98');\n",
       "var x = new MutationObserver(function (mutations, observer) {{\n",
       "        var display = window.getComputedStyle(gd).display;\n",
       "        if (!display || display === 'none') {{\n",
       "            console.log([gd, 'removed!']);\n",
       "            Plotly.purge(gd);\n",
       "            observer.disconnect();\n",
       "        }}\n",
       "}});\n",
       "\n",
       "// Listen for the removal of the full notebook cells\n",
       "var notebookContainer = gd.closest('#notebook-container');\n",
       "if (notebookContainer) {{\n",
       "    x.observe(notebookContainer, {childList: true});\n",
       "}}\n",
       "\n",
       "// Listen for the clearing of the current output cell\n",
       "var outputEl = gd.closest('.output');\n",
       "if (outputEl) {{\n",
       "    x.observe(outputEl, {childList: true});\n",
       "}}\n",
       "\n",
       "                        })                };                            </script>        </div>\n",
       "</body>\n",
       "</html>"
      ]
     },
     "metadata": {},
     "output_type": "display_data"
    }
   ],
   "source": [
    "if not config['tune_parameters']:\n",
    "    optuna_study = optuna.load_study(study_name=f'hyperparameters_tuning_{config[\"model\"]}_{config[\"metric\"]}', storage=f'sqlite:///{config[\"database_path\"]}')\n",
    "    \n",
    "fig = optuna.visualization.plot_slice(optuna_study)\n",
    "fig.show()"
   ]
  },
  {
   "cell_type": "code",
   "execution_count": 15,
   "id": "4e290fa1",
   "metadata": {
    "execution": {
     "iopub.execute_input": "2025-01-05T17:29:26.837957Z",
     "iopub.status.busy": "2025-01-05T17:29:26.837607Z",
     "iopub.status.idle": "2025-01-05T17:29:32.326318Z",
     "shell.execute_reply": "2025-01-05T17:29:32.325402Z"
    },
    "papermill": {
     "duration": 5.590349,
     "end_time": "2025-01-05T17:29:32.327802",
     "exception": false,
     "start_time": "2025-01-05T17:29:26.737453",
     "status": "completed"
    },
    "tags": []
   },
   "outputs": [
    {
     "data": {
      "text/html": [
       "<html>\n",
       "<head><meta charset=\"utf-8\" /></head>\n",
       "<body>\n",
       "    <div>            <script src=\"https://cdnjs.cloudflare.com/ajax/libs/mathjax/2.7.5/MathJax.js?config=TeX-AMS-MML_SVG\"></script><script type=\"text/javascript\">if (window.MathJax && window.MathJax.Hub && window.MathJax.Hub.Config) {window.MathJax.Hub.Config({SVG: {font: \"STIX-Web\"}});}</script>                <script type=\"text/javascript\">window.PlotlyConfig = {MathJaxConfig: 'local'};</script>\n",
       "        <script charset=\"utf-8\" src=\"https://cdn.plot.ly/plotly-2.35.2.min.js\"></script>                <div id=\"dcf7f42e-c64a-43de-ac0b-6c96745c4965\" class=\"plotly-graph-div\" style=\"height:525px; width:100%;\"></div>            <script type=\"text/javascript\">                                    window.PLOTLYENV=window.PLOTLYENV || {};                                    if (document.getElementById(\"dcf7f42e-c64a-43de-ac0b-6c96745c4965\")) {                    Plotly.newPlot(                        \"dcf7f42e-c64a-43de-ac0b-6c96745c4965\",                        [{\"cliponaxis\":false,\"hovertemplate\":[\"feature_weighting (CategoricalDistribution): 0.04162164273590604\\u003cextra\\u003e\\u003c\\u002fextra\\u003e\",\"topK (IntDistribution): 0.07019985926373379\\u003cextra\\u003e\\u003c\\u002fextra\\u003e\",\"shrink (IntDistribution): 0.11330906613541429\\u003cextra\\u003e\\u003c\\u002fextra\\u003e\",\"similarity (CategoricalDistribution): 0.774869431864946\\u003cextra\\u003e\\u003c\\u002fextra\\u003e\"],\"name\":\"Objective Value\",\"orientation\":\"h\",\"text\":[\"0.04\",\"0.07\",\"0.11\",\"0.77\"],\"textposition\":\"outside\",\"x\":[0.04162164273590604,0.07019985926373379,0.11330906613541429,0.774869431864946],\"y\":[\"feature_weighting\",\"topK\",\"shrink\",\"similarity\"],\"type\":\"bar\"}],                        {\"title\":{\"text\":\"Hyperparameter Importances\"},\"xaxis\":{\"title\":{\"text\":\"Hyperparameter Importance\"}},\"yaxis\":{\"title\":{\"text\":\"Hyperparameter\"}},\"template\":{\"data\":{\"histogram2dcontour\":[{\"type\":\"histogram2dcontour\",\"colorbar\":{\"outlinewidth\":0,\"ticks\":\"\"},\"colorscale\":[[0.0,\"#0d0887\"],[0.1111111111111111,\"#46039f\"],[0.2222222222222222,\"#7201a8\"],[0.3333333333333333,\"#9c179e\"],[0.4444444444444444,\"#bd3786\"],[0.5555555555555556,\"#d8576b\"],[0.6666666666666666,\"#ed7953\"],[0.7777777777777778,\"#fb9f3a\"],[0.8888888888888888,\"#fdca26\"],[1.0,\"#f0f921\"]]}],\"choropleth\":[{\"type\":\"choropleth\",\"colorbar\":{\"outlinewidth\":0,\"ticks\":\"\"}}],\"histogram2d\":[{\"type\":\"histogram2d\",\"colorbar\":{\"outlinewidth\":0,\"ticks\":\"\"},\"colorscale\":[[0.0,\"#0d0887\"],[0.1111111111111111,\"#46039f\"],[0.2222222222222222,\"#7201a8\"],[0.3333333333333333,\"#9c179e\"],[0.4444444444444444,\"#bd3786\"],[0.5555555555555556,\"#d8576b\"],[0.6666666666666666,\"#ed7953\"],[0.7777777777777778,\"#fb9f3a\"],[0.8888888888888888,\"#fdca26\"],[1.0,\"#f0f921\"]]}],\"heatmap\":[{\"type\":\"heatmap\",\"colorbar\":{\"outlinewidth\":0,\"ticks\":\"\"},\"colorscale\":[[0.0,\"#0d0887\"],[0.1111111111111111,\"#46039f\"],[0.2222222222222222,\"#7201a8\"],[0.3333333333333333,\"#9c179e\"],[0.4444444444444444,\"#bd3786\"],[0.5555555555555556,\"#d8576b\"],[0.6666666666666666,\"#ed7953\"],[0.7777777777777778,\"#fb9f3a\"],[0.8888888888888888,\"#fdca26\"],[1.0,\"#f0f921\"]]}],\"heatmapgl\":[{\"type\":\"heatmapgl\",\"colorbar\":{\"outlinewidth\":0,\"ticks\":\"\"},\"colorscale\":[[0.0,\"#0d0887\"],[0.1111111111111111,\"#46039f\"],[0.2222222222222222,\"#7201a8\"],[0.3333333333333333,\"#9c179e\"],[0.4444444444444444,\"#bd3786\"],[0.5555555555555556,\"#d8576b\"],[0.6666666666666666,\"#ed7953\"],[0.7777777777777778,\"#fb9f3a\"],[0.8888888888888888,\"#fdca26\"],[1.0,\"#f0f921\"]]}],\"contourcarpet\":[{\"type\":\"contourcarpet\",\"colorbar\":{\"outlinewidth\":0,\"ticks\":\"\"}}],\"contour\":[{\"type\":\"contour\",\"colorbar\":{\"outlinewidth\":0,\"ticks\":\"\"},\"colorscale\":[[0.0,\"#0d0887\"],[0.1111111111111111,\"#46039f\"],[0.2222222222222222,\"#7201a8\"],[0.3333333333333333,\"#9c179e\"],[0.4444444444444444,\"#bd3786\"],[0.5555555555555556,\"#d8576b\"],[0.6666666666666666,\"#ed7953\"],[0.7777777777777778,\"#fb9f3a\"],[0.8888888888888888,\"#fdca26\"],[1.0,\"#f0f921\"]]}],\"surface\":[{\"type\":\"surface\",\"colorbar\":{\"outlinewidth\":0,\"ticks\":\"\"},\"colorscale\":[[0.0,\"#0d0887\"],[0.1111111111111111,\"#46039f\"],[0.2222222222222222,\"#7201a8\"],[0.3333333333333333,\"#9c179e\"],[0.4444444444444444,\"#bd3786\"],[0.5555555555555556,\"#d8576b\"],[0.6666666666666666,\"#ed7953\"],[0.7777777777777778,\"#fb9f3a\"],[0.8888888888888888,\"#fdca26\"],[1.0,\"#f0f921\"]]}],\"mesh3d\":[{\"type\":\"mesh3d\",\"colorbar\":{\"outlinewidth\":0,\"ticks\":\"\"}}],\"scatter\":[{\"fillpattern\":{\"fillmode\":\"overlay\",\"size\":10,\"solidity\":0.2},\"type\":\"scatter\"}],\"parcoords\":[{\"type\":\"parcoords\",\"line\":{\"colorbar\":{\"outlinewidth\":0,\"ticks\":\"\"}}}],\"scatterpolargl\":[{\"type\":\"scatterpolargl\",\"marker\":{\"colorbar\":{\"outlinewidth\":0,\"ticks\":\"\"}}}],\"bar\":[{\"error_x\":{\"color\":\"#2a3f5f\"},\"error_y\":{\"color\":\"#2a3f5f\"},\"marker\":{\"line\":{\"color\":\"#E5ECF6\",\"width\":0.5},\"pattern\":{\"fillmode\":\"overlay\",\"size\":10,\"solidity\":0.2}},\"type\":\"bar\"}],\"scattergeo\":[{\"type\":\"scattergeo\",\"marker\":{\"colorbar\":{\"outlinewidth\":0,\"ticks\":\"\"}}}],\"scatterpolar\":[{\"type\":\"scatterpolar\",\"marker\":{\"colorbar\":{\"outlinewidth\":0,\"ticks\":\"\"}}}],\"histogram\":[{\"marker\":{\"pattern\":{\"fillmode\":\"overlay\",\"size\":10,\"solidity\":0.2}},\"type\":\"histogram\"}],\"scattergl\":[{\"type\":\"scattergl\",\"marker\":{\"colorbar\":{\"outlinewidth\":0,\"ticks\":\"\"}}}],\"scatter3d\":[{\"type\":\"scatter3d\",\"line\":{\"colorbar\":{\"outlinewidth\":0,\"ticks\":\"\"}},\"marker\":{\"colorbar\":{\"outlinewidth\":0,\"ticks\":\"\"}}}],\"scattermapbox\":[{\"type\":\"scattermapbox\",\"marker\":{\"colorbar\":{\"outlinewidth\":0,\"ticks\":\"\"}}}],\"scatterternary\":[{\"type\":\"scatterternary\",\"marker\":{\"colorbar\":{\"outlinewidth\":0,\"ticks\":\"\"}}}],\"scattercarpet\":[{\"type\":\"scattercarpet\",\"marker\":{\"colorbar\":{\"outlinewidth\":0,\"ticks\":\"\"}}}],\"carpet\":[{\"aaxis\":{\"endlinecolor\":\"#2a3f5f\",\"gridcolor\":\"white\",\"linecolor\":\"white\",\"minorgridcolor\":\"white\",\"startlinecolor\":\"#2a3f5f\"},\"baxis\":{\"endlinecolor\":\"#2a3f5f\",\"gridcolor\":\"white\",\"linecolor\":\"white\",\"minorgridcolor\":\"white\",\"startlinecolor\":\"#2a3f5f\"},\"type\":\"carpet\"}],\"table\":[{\"cells\":{\"fill\":{\"color\":\"#EBF0F8\"},\"line\":{\"color\":\"white\"}},\"header\":{\"fill\":{\"color\":\"#C8D4E3\"},\"line\":{\"color\":\"white\"}},\"type\":\"table\"}],\"barpolar\":[{\"marker\":{\"line\":{\"color\":\"#E5ECF6\",\"width\":0.5},\"pattern\":{\"fillmode\":\"overlay\",\"size\":10,\"solidity\":0.2}},\"type\":\"barpolar\"}],\"pie\":[{\"automargin\":true,\"type\":\"pie\"}]},\"layout\":{\"autotypenumbers\":\"strict\",\"colorway\":[\"#636efa\",\"#EF553B\",\"#00cc96\",\"#ab63fa\",\"#FFA15A\",\"#19d3f3\",\"#FF6692\",\"#B6E880\",\"#FF97FF\",\"#FECB52\"],\"font\":{\"color\":\"#2a3f5f\"},\"hovermode\":\"closest\",\"hoverlabel\":{\"align\":\"left\"},\"paper_bgcolor\":\"white\",\"plot_bgcolor\":\"#E5ECF6\",\"polar\":{\"bgcolor\":\"#E5ECF6\",\"angularaxis\":{\"gridcolor\":\"white\",\"linecolor\":\"white\",\"ticks\":\"\"},\"radialaxis\":{\"gridcolor\":\"white\",\"linecolor\":\"white\",\"ticks\":\"\"}},\"ternary\":{\"bgcolor\":\"#E5ECF6\",\"aaxis\":{\"gridcolor\":\"white\",\"linecolor\":\"white\",\"ticks\":\"\"},\"baxis\":{\"gridcolor\":\"white\",\"linecolor\":\"white\",\"ticks\":\"\"},\"caxis\":{\"gridcolor\":\"white\",\"linecolor\":\"white\",\"ticks\":\"\"}},\"coloraxis\":{\"colorbar\":{\"outlinewidth\":0,\"ticks\":\"\"}},\"colorscale\":{\"sequential\":[[0.0,\"#0d0887\"],[0.1111111111111111,\"#46039f\"],[0.2222222222222222,\"#7201a8\"],[0.3333333333333333,\"#9c179e\"],[0.4444444444444444,\"#bd3786\"],[0.5555555555555556,\"#d8576b\"],[0.6666666666666666,\"#ed7953\"],[0.7777777777777778,\"#fb9f3a\"],[0.8888888888888888,\"#fdca26\"],[1.0,\"#f0f921\"]],\"sequentialminus\":[[0.0,\"#0d0887\"],[0.1111111111111111,\"#46039f\"],[0.2222222222222222,\"#7201a8\"],[0.3333333333333333,\"#9c179e\"],[0.4444444444444444,\"#bd3786\"],[0.5555555555555556,\"#d8576b\"],[0.6666666666666666,\"#ed7953\"],[0.7777777777777778,\"#fb9f3a\"],[0.8888888888888888,\"#fdca26\"],[1.0,\"#f0f921\"]],\"diverging\":[[0,\"#8e0152\"],[0.1,\"#c51b7d\"],[0.2,\"#de77ae\"],[0.3,\"#f1b6da\"],[0.4,\"#fde0ef\"],[0.5,\"#f7f7f7\"],[0.6,\"#e6f5d0\"],[0.7,\"#b8e186\"],[0.8,\"#7fbc41\"],[0.9,\"#4d9221\"],[1,\"#276419\"]]},\"xaxis\":{\"gridcolor\":\"white\",\"linecolor\":\"white\",\"ticks\":\"\",\"title\":{\"standoff\":15},\"zerolinecolor\":\"white\",\"automargin\":true,\"zerolinewidth\":2},\"yaxis\":{\"gridcolor\":\"white\",\"linecolor\":\"white\",\"ticks\":\"\",\"title\":{\"standoff\":15},\"zerolinecolor\":\"white\",\"automargin\":true,\"zerolinewidth\":2},\"scene\":{\"xaxis\":{\"backgroundcolor\":\"#E5ECF6\",\"gridcolor\":\"white\",\"linecolor\":\"white\",\"showbackground\":true,\"ticks\":\"\",\"zerolinecolor\":\"white\",\"gridwidth\":2},\"yaxis\":{\"backgroundcolor\":\"#E5ECF6\",\"gridcolor\":\"white\",\"linecolor\":\"white\",\"showbackground\":true,\"ticks\":\"\",\"zerolinecolor\":\"white\",\"gridwidth\":2},\"zaxis\":{\"backgroundcolor\":\"#E5ECF6\",\"gridcolor\":\"white\",\"linecolor\":\"white\",\"showbackground\":true,\"ticks\":\"\",\"zerolinecolor\":\"white\",\"gridwidth\":2}},\"shapedefaults\":{\"line\":{\"color\":\"#2a3f5f\"}},\"annotationdefaults\":{\"arrowcolor\":\"#2a3f5f\",\"arrowhead\":0,\"arrowwidth\":1},\"geo\":{\"bgcolor\":\"white\",\"landcolor\":\"#E5ECF6\",\"subunitcolor\":\"white\",\"showland\":true,\"showlakes\":true,\"lakecolor\":\"white\"},\"title\":{\"x\":0.05},\"mapbox\":{\"style\":\"light\"}}}},                        {\"responsive\": true}                    ).then(function(){\n",
       "                            \n",
       "var gd = document.getElementById('dcf7f42e-c64a-43de-ac0b-6c96745c4965');\n",
       "var x = new MutationObserver(function (mutations, observer) {{\n",
       "        var display = window.getComputedStyle(gd).display;\n",
       "        if (!display || display === 'none') {{\n",
       "            console.log([gd, 'removed!']);\n",
       "            Plotly.purge(gd);\n",
       "            observer.disconnect();\n",
       "        }}\n",
       "}});\n",
       "\n",
       "// Listen for the removal of the full notebook cells\n",
       "var notebookContainer = gd.closest('#notebook-container');\n",
       "if (notebookContainer) {{\n",
       "    x.observe(notebookContainer, {childList: true});\n",
       "}}\n",
       "\n",
       "// Listen for the clearing of the current output cell\n",
       "var outputEl = gd.closest('.output');\n",
       "if (outputEl) {{\n",
       "    x.observe(outputEl, {childList: true});\n",
       "}}\n",
       "\n",
       "                        })                };                            </script>        </div>\n",
       "</body>\n",
       "</html>"
      ]
     },
     "metadata": {},
     "output_type": "display_data"
    }
   ],
   "source": [
    "if not config['tune_parameters']:\n",
    "    optuna_study = optuna.load_study(study_name=f'hyperparameters_tuning_{config[\"model\"]}_{config[\"metric\"]}', storage=f'sqlite:///{config[\"database_path\"]}')\n",
    "    \n",
    "fig = optuna.visualization.plot_param_importances(optuna_study)\n",
    "fig.show()"
   ]
  },
  {
   "cell_type": "markdown",
   "id": "732062fd",
   "metadata": {
    "papermill": {
     "duration": 0.100957,
     "end_time": "2025-01-05T17:29:32.529721",
     "exception": false,
     "start_time": "2025-01-05T17:29:32.428764",
     "status": "completed"
    },
    "tags": []
   },
   "source": [
    "## Let's train the recommender with best parameter values"
   ]
  },
  {
   "cell_type": "code",
   "execution_count": 16,
   "id": "64f52a68",
   "metadata": {
    "execution": {
     "iopub.execute_input": "2025-01-05T17:29:32.733072Z",
     "iopub.status.busy": "2025-01-05T17:29:32.732732Z",
     "iopub.status.idle": "2025-01-05T17:29:47.328778Z",
     "shell.execute_reply": "2025-01-05T17:29:47.327784Z"
    },
    "papermill": {
     "duration": 14.699994,
     "end_time": "2025-01-05T17:29:47.330593",
     "exception": false,
     "start_time": "2025-01-05T17:29:32.630599",
     "status": "completed"
    },
    "tags": []
   },
   "outputs": [
    {
     "name": "stdout",
     "output_type": "stream",
     "text": [
      "Similarity column 38121 (100.0%), 2659.64 column/sec. Elapsed time 14.33 sec\n"
     ]
    }
   ],
   "source": [
    "if config['tune_best_params']:\n",
    "\n",
    "    if config['tune_parameters']:\n",
    "        best_params = optuna_study.best_trial.params\n",
    "    else: \n",
    "        with open(f'{K_PATH}/{GH_PATH}/{config[\"model\"]}Recommender/Optimizing{config[\"metric\"]}/best_params_{config[\"model\"]}_{config[\"metric\"]}.json', 'r') as best_params_json:\n",
    "            best_params = json.load(best_params_json)\n",
    "\n",
    "    recommender_instance = ItemKNNCFRecommender(URM_train + URM_validation)\n",
    "    recommender_instance.fit(**best_params)"
   ]
  },
  {
   "cell_type": "markdown",
   "id": "82ec31cb",
   "metadata": {
    "papermill": {
     "duration": 0.103255,
     "end_time": "2025-01-05T17:29:47.544874",
     "exception": false,
     "start_time": "2025-01-05T17:29:47.441619",
     "status": "completed"
    },
    "tags": []
   },
   "source": [
    "# Testing"
   ]
  },
  {
   "cell_type": "markdown",
   "id": "6d801f62",
   "metadata": {
    "papermill": {
     "duration": 0.104619,
     "end_time": "2025-01-05T17:29:47.755034",
     "exception": false,
     "start_time": "2025-01-05T17:29:47.650415",
     "status": "completed"
    },
    "tags": []
   },
   "source": [
    "Create the recommendations for the submission. "
   ]
  },
  {
   "cell_type": "code",
   "execution_count": 17,
   "id": "a12fb960",
   "metadata": {
    "execution": {
     "iopub.execute_input": "2025-01-05T17:29:47.970013Z",
     "iopub.status.busy": "2025-01-05T17:29:47.969667Z",
     "iopub.status.idle": "2025-01-05T17:30:07.502350Z",
     "shell.execute_reply": "2025-01-05T17:30:07.501220Z"
    },
    "papermill": {
     "duration": 19.639478,
     "end_time": "2025-01-05T17:30:07.503970",
     "exception": false,
     "start_time": "2025-01-05T17:29:47.864492",
     "status": "completed"
    },
    "tags": []
   },
   "outputs": [
    {
     "name": "stdout",
     "output_type": "stream",
     "text": [
      "Submission file saved as /kaggle/working/submission_ItemKNNCF_Recall.csv\n"
     ]
    }
   ],
   "source": [
    "if config['tune_best_params']:\n",
    "\n",
    "    data_target_users_test = pd.read_csv('/kaggle/input/recommender-system-2024-challenge-polimi/data_target_users_test.csv')\n",
    "    create_submission(data_target_users_test, recommender_instance, f'/kaggle/working/submission_{config[\"model\"]}_{config[\"metric\"]}.csv')"
   ]
  },
  {
   "cell_type": "markdown",
   "id": "0be7aae2",
   "metadata": {
    "execution": {
     "iopub.execute_input": "2024-11-14T00:04:16.877791Z",
     "iopub.status.busy": "2024-11-14T00:04:16.877275Z",
     "iopub.status.idle": "2024-11-14T00:04:16.883170Z",
     "shell.execute_reply": "2024-11-14T00:04:16.881889Z",
     "shell.execute_reply.started": "2024-11-14T00:04:16.877743Z"
    },
    "papermill": {
     "duration": 0.102032,
     "end_time": "2025-01-05T17:30:07.707534",
     "exception": false,
     "start_time": "2025-01-05T17:30:07.605502",
     "status": "completed"
    },
    "tags": []
   },
   "source": [
    "# Save Version on GitHub "
   ]
  },
  {
   "cell_type": "markdown",
   "id": "2d239fdb",
   "metadata": {
    "papermill": {
     "duration": 0.101568,
     "end_time": "2025-01-05T17:30:07.910611",
     "exception": false,
     "start_time": "2025-01-05T17:30:07.809043",
     "status": "completed"
    },
    "tags": []
   },
   "source": [
    "Write or import a json file where best hyperparameters are saved. "
   ]
  },
  {
   "cell_type": "code",
   "execution_count": 18,
   "id": "cc116392",
   "metadata": {
    "execution": {
     "iopub.execute_input": "2025-01-05T17:30:08.114951Z",
     "iopub.status.busy": "2025-01-05T17:30:08.114600Z",
     "iopub.status.idle": "2025-01-05T17:30:08.973249Z",
     "shell.execute_reply": "2025-01-05T17:30:08.972157Z"
    },
    "papermill": {
     "duration": 0.963106,
     "end_time": "2025-01-05T17:30:08.974804",
     "exception": false,
     "start_time": "2025-01-05T17:30:08.011698",
     "status": "completed"
    },
    "tags": []
   },
   "outputs": [
    {
     "name": "stdout",
     "output_type": "stream",
     "text": [
      "File 'TrainedModels/WithKFCV/KNN/ItemKNNCFRecommender/OptimizingRecall/best_params_ItemKNNCF_Recall.json' updated successfully.\n"
     ]
    }
   ],
   "source": [
    "if config['tune_parameters']:\n",
    "    with open(f'/kaggle/working/best_params_{config[\"model\"]}_{config[\"metric\"]}.json', 'w') as params_file:\n",
    "        json.dump(optuna_study.best_params, params_file)\n",
    "        \n",
    "    if config['save_github']:\n",
    "        upload_file(\n",
    "            f'/kaggle/working/best_params_{config[\"model\"]}_{config[\"metric\"]}.json', \n",
    "            f'{GH_PATH}/{config[\"model\"]}Recommender/Optimizing{config[\"metric\"]}/best_params_{config[\"model\"]}_{config[\"metric\"]}.json', \n",
    "            f'{config[\"model\"]}_{config[\"metric\"]} tuning results (from kaggle notebook)',\n",
    "            repo\n",
    "        )\n",
    "elif config['copy_prev_best_params']:\n",
    "    shutil.copyfile(\n",
    "        f'{K_PATH}/{GH_PATH}/{config[\"model\"]}Recommender/Optimizing{config[\"metric\"]}/'\\\n",
    "        f'best_params_{config[\"model\"]}_{config[\"metric\"]}.json', \n",
    "        f'/kaggle/working/best_params_{config[\"model\"]}_{config[\"metric\"]}.json'\n",
    "    )"
   ]
  },
  {
   "cell_type": "markdown",
   "id": "d60b7286",
   "metadata": {
    "papermill": {
     "duration": 0.104622,
     "end_time": "2025-01-05T17:30:09.181410",
     "exception": false,
     "start_time": "2025-01-05T17:30:09.076788",
     "status": "completed"
    },
    "tags": []
   },
   "source": [
    "Save the history of the tuned model."
   ]
  },
  {
   "cell_type": "code",
   "execution_count": 19,
   "id": "f996714a",
   "metadata": {
    "execution": {
     "iopub.execute_input": "2025-01-05T17:30:09.393040Z",
     "iopub.status.busy": "2025-01-05T17:30:09.392699Z",
     "iopub.status.idle": "2025-01-05T17:30:10.417487Z",
     "shell.execute_reply": "2025-01-05T17:30:10.416369Z"
    },
    "papermill": {
     "duration": 1.133324,
     "end_time": "2025-01-05T17:30:10.418998",
     "exception": false,
     "start_time": "2025-01-05T17:30:09.285674",
     "status": "completed"
    },
    "tags": []
   },
   "outputs": [
    {
     "name": "stdout",
     "output_type": "stream",
     "text": [
      "File 'TrainedModels/WithKFCV/KNN/ItemKNNCFRecommender/OptimizingRecall/history_ItemKNNCF_Recall.db' updated successfully.\n"
     ]
    }
   ],
   "source": [
    "if config['save_github'] and config['tune_parameters']:\n",
    "    upload_file(\n",
    "        config['database_path'], \n",
    "        f'{GH_PATH}/{config[\"model\"]}Recommender/Optimizing{config[\"metric\"]}/history_{config[\"model\"]}_{config[\"metric\"]}.db',\n",
    "        f'Tuning {config[\"model\"]}_{config[\"metric\"]} db updated results (from kaggle notebook)',\n",
    "        repo\n",
    "    )"
   ]
  },
  {
   "cell_type": "markdown",
   "id": "4d90f4f2",
   "metadata": {
    "execution": {
     "iopub.execute_input": "2024-11-14T00:41:34.294243Z",
     "iopub.status.busy": "2024-11-14T00:41:34.293739Z",
     "iopub.status.idle": "2024-11-14T00:41:34.301478Z",
     "shell.execute_reply": "2024-11-14T00:41:34.299869Z",
     "shell.execute_reply.started": "2024-11-14T00:41:34.294186Z"
    },
    "papermill": {
     "duration": 0.102609,
     "end_time": "2025-01-05T17:30:10.623841",
     "exception": false,
     "start_time": "2025-01-05T17:30:10.521232",
     "status": "completed"
    },
    "tags": []
   },
   "source": [
    "Save the best trained model and its submission."
   ]
  },
  {
   "cell_type": "code",
   "execution_count": 20,
   "id": "09b6c4b2",
   "metadata": {
    "execution": {
     "iopub.execute_input": "2025-01-05T17:30:10.941374Z",
     "iopub.status.busy": "2025-01-05T17:30:10.940982Z",
     "iopub.status.idle": "2025-01-05T17:30:11.967551Z",
     "shell.execute_reply": "2025-01-05T17:30:11.966391Z"
    },
    "papermill": {
     "duration": 1.242581,
     "end_time": "2025-01-05T17:30:11.969138",
     "exception": false,
     "start_time": "2025-01-05T17:30:10.726557",
     "status": "completed"
    },
    "tags": []
   },
   "outputs": [
    {
     "name": "stdout",
     "output_type": "stream",
     "text": [
      "File 'TrainedModels/WithKFCV/KNN/ItemKNNCFRecommender/OptimizingRecall/Submission/submission_ItemKNNCF_Recall.csv' updated successfully.\n"
     ]
    }
   ],
   "source": [
    "if config['save_github'] and config['tune_best_params']: \n",
    "    upload_file(\n",
    "                f'/kaggle/working/submission_{config[\"model\"]}_{config[\"metric\"]}.csv', \n",
    "                f'{GH_PATH}/{config[\"model\"]}Recommender/Optimizing{config[\"metric\"]}/Submission/submission_{config[\"model\"]}_{config[\"metric\"]}.csv', \n",
    "                f'New {config[\"model\"]}_{config[\"metric\"]} submission (from kaggle notebook)',\n",
    "                repo\n",
    "            )"
   ]
  }
 ],
 "metadata": {
  "kaggle": {
   "accelerator": "none",
   "dataSources": [
    {
     "databundleVersionId": 9982103,
     "sourceId": 87439,
     "sourceType": "competition"
    }
   ],
   "dockerImageVersionId": 30822,
   "isGpuEnabled": false,
   "isInternetEnabled": true,
   "language": "python",
   "sourceType": "notebook"
  },
  "kernelspec": {
   "display_name": "Python 3",
   "language": "python",
   "name": "python3"
  },
  "language_info": {
   "codemirror_mode": {
    "name": "ipython",
    "version": 3
   },
   "file_extension": ".py",
   "mimetype": "text/x-python",
   "name": "python",
   "nbconvert_exporter": "python",
   "pygments_lexer": "ipython3",
   "version": "3.10.12"
  },
  "papermill": {
   "default_parameters": {},
   "duration": 24885.400292,
   "end_time": "2025-01-05T17:30:13.125102",
   "environment_variables": {},
   "exception": null,
   "input_path": "__notebook__.ipynb",
   "output_path": "__notebook__.ipynb",
   "parameters": {},
   "start_time": "2025-01-05T10:35:27.724810",
   "version": "2.6.0"
  }
 },
 "nbformat": 4,
 "nbformat_minor": 5
}
