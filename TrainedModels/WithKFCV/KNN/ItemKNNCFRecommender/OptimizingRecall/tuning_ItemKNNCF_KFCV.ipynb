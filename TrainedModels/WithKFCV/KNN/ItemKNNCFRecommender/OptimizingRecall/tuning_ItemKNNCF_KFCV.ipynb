{
 "cells": [
  {
   "cell_type": "markdown",
   "id": "d38bbb2d",
   "metadata": {
    "papermill": {
     "duration": 0.006381,
     "end_time": "2025-01-05T21:31:30.399326",
     "exception": false,
     "start_time": "2025-01-05T21:31:30.392945",
     "status": "completed"
    },
    "tags": []
   },
   "source": [
    "# Set connection with GitHub"
   ]
  },
  {
   "cell_type": "code",
   "execution_count": 1,
   "id": "fb3231b2",
   "metadata": {
    "execution": {
     "iopub.execute_input": "2025-01-05T21:31:30.411885Z",
     "iopub.status.busy": "2025-01-05T21:31:30.411515Z",
     "iopub.status.idle": "2025-01-05T21:31:30.416690Z",
     "shell.execute_reply": "2025-01-05T21:31:30.415743Z"
    },
    "papermill": {
     "duration": 0.01308,
     "end_time": "2025-01-05T21:31:30.418232",
     "exception": false,
     "start_time": "2025-01-05T21:31:30.405152",
     "status": "completed"
    },
    "tags": []
   },
   "outputs": [],
   "source": [
    "# ! cd /kaggle/working && rm -rf RECsys_Challenge2024"
   ]
  },
  {
   "cell_type": "code",
   "execution_count": 2,
   "id": "14b03edb",
   "metadata": {
    "_cell_guid": "b1076dfc-b9ad-4769-8c92-a6c4dae69d19",
    "_uuid": "8f2839f25d086af736a60e9eeb907d3b93b6e0e5",
    "execution": {
     "iopub.execute_input": "2025-01-05T21:31:30.430040Z",
     "iopub.status.busy": "2025-01-05T21:31:30.429681Z",
     "iopub.status.idle": "2025-01-05T21:31:47.138039Z",
     "shell.execute_reply": "2025-01-05T21:31:47.136514Z"
    },
    "papermill": {
     "duration": 16.716914,
     "end_time": "2025-01-05T21:31:47.140455",
     "exception": false,
     "start_time": "2025-01-05T21:31:30.423541",
     "status": "completed"
    },
    "tags": []
   },
   "outputs": [
    {
     "name": "stdout",
     "output_type": "stream",
     "text": [
      "Cloning into 'RECsys_Challenge2024'...\r\n",
      "remote: Enumerating objects: 6572, done.\u001b[K\r\n",
      "remote: Counting objects: 100% (122/122), done.\u001b[K\r\n",
      "remote: Compressing objects: 100% (110/110), done.\u001b[K\r\n",
      "remote: Total 6572 (delta 43), reused 0 (delta 0), pack-reused 6450 (from 2)\u001b[K\r\n",
      "Receiving objects: 100% (6572/6572), 406.90 MiB | 34.63 MiB/s, done.\r\n",
      "Resolving deltas: 100% (3618/3618), done.\r\n",
      "Updating files: 100% (502/502), done.\r\n"
     ]
    }
   ],
   "source": [
    "from kaggle_secrets import UserSecretsClient\n",
    "\n",
    "token = UserSecretsClient().get_secret(\"Token\")\n",
    "\n",
    "! git clone https://{token}@github.com/madratak/RECsys_Challenge2024.git"
   ]
  },
  {
   "cell_type": "code",
   "execution_count": 3,
   "id": "e21c39af",
   "metadata": {
    "execution": {
     "iopub.execute_input": "2025-01-05T21:31:47.164024Z",
     "iopub.status.busy": "2025-01-05T21:31:47.163638Z",
     "iopub.status.idle": "2025-01-05T21:31:53.718171Z",
     "shell.execute_reply": "2025-01-05T21:31:53.716767Z"
    },
    "papermill": {
     "duration": 6.568185,
     "end_time": "2025-01-05T21:31:53.720479",
     "exception": false,
     "start_time": "2025-01-05T21:31:47.152294",
     "status": "completed"
    },
    "tags": []
   },
   "outputs": [
    {
     "name": "stdout",
     "output_type": "stream",
     "text": [
      "Collecting PyGithub\r\n",
      "  Downloading PyGithub-2.5.0-py3-none-any.whl.metadata (3.9 kB)\r\n",
      "Requirement already satisfied: requests in /usr/local/lib/python3.10/dist-packages (2.32.3)\r\n",
      "Collecting pynacl>=1.4.0 (from PyGithub)\r\n",
      "  Downloading PyNaCl-1.5.0-cp36-abi3-manylinux_2_17_x86_64.manylinux2014_x86_64.manylinux_2_24_x86_64.whl.metadata (8.6 kB)\r\n",
      "Requirement already satisfied: pyjwt>=2.4.0 in /usr/local/lib/python3.10/dist-packages (from pyjwt[crypto]>=2.4.0->PyGithub) (2.9.0)\r\n",
      "Requirement already satisfied: typing-extensions>=4.0.0 in /usr/local/lib/python3.10/dist-packages (from PyGithub) (4.12.2)\r\n",
      "Requirement already satisfied: urllib3>=1.26.0 in /usr/local/lib/python3.10/dist-packages (from PyGithub) (2.2.3)\r\n",
      "Requirement already satisfied: Deprecated in /usr/local/lib/python3.10/dist-packages (from PyGithub) (1.2.15)\r\n",
      "Requirement already satisfied: charset-normalizer<4,>=2 in /usr/local/lib/python3.10/dist-packages (from requests) (3.3.2)\r\n",
      "Requirement already satisfied: idna<4,>=2.5 in /usr/local/lib/python3.10/dist-packages (from requests) (3.10)\r\n",
      "Requirement already satisfied: certifi>=2017.4.17 in /usr/local/lib/python3.10/dist-packages (from requests) (2024.8.30)\r\n",
      "Requirement already satisfied: cryptography>=3.4.0 in /usr/local/lib/python3.10/dist-packages (from pyjwt[crypto]>=2.4.0->PyGithub) (43.0.1)\r\n",
      "Requirement already satisfied: cffi>=1.4.1 in /usr/local/lib/python3.10/dist-packages (from pynacl>=1.4.0->PyGithub) (1.17.1)\r\n",
      "Requirement already satisfied: wrapt<2,>=1.10 in /usr/local/lib/python3.10/dist-packages (from Deprecated->PyGithub) (1.16.0)\r\n",
      "Requirement already satisfied: pycparser in /usr/local/lib/python3.10/dist-packages (from cffi>=1.4.1->pynacl>=1.4.0->PyGithub) (2.22)\r\n",
      "Downloading PyGithub-2.5.0-py3-none-any.whl (375 kB)\r\n",
      "\u001b[2K   \u001b[90m━━━━━━━━━━━━━━━━━━━━━━━━━━━━━━━━━━━━━━━━\u001b[0m \u001b[32m375.9/375.9 kB\u001b[0m \u001b[31m11.8 MB/s\u001b[0m eta \u001b[36m0:00:00\u001b[0m\r\n",
      "\u001b[?25hDownloading PyNaCl-1.5.0-cp36-abi3-manylinux_2_17_x86_64.manylinux2014_x86_64.manylinux_2_24_x86_64.whl (856 kB)\r\n",
      "\u001b[2K   \u001b[90m━━━━━━━━━━━━━━━━━━━━━━━━━━━━━━━━━━━━━━━━\u001b[0m \u001b[32m856.7/856.7 kB\u001b[0m \u001b[31m35.1 MB/s\u001b[0m eta \u001b[36m0:00:00\u001b[0m\r\n",
      "\u001b[?25hInstalling collected packages: pynacl, PyGithub\r\n",
      "Successfully installed PyGithub-2.5.0 pynacl-1.5.0\r\n"
     ]
    }
   ],
   "source": [
    "! pip install PyGithub requests"
   ]
  },
  {
   "cell_type": "code",
   "execution_count": 4,
   "id": "0a6b48b3",
   "metadata": {
    "_kg_hide-input": false,
    "execution": {
     "iopub.execute_input": "2025-01-05T21:31:53.743940Z",
     "iopub.status.busy": "2025-01-05T21:31:53.743511Z",
     "iopub.status.idle": "2025-01-05T21:34:34.444926Z",
     "shell.execute_reply": "2025-01-05T21:34:34.443627Z"
    },
    "papermill": {
     "duration": 160.715649,
     "end_time": "2025-01-05T21:34:34.447109",
     "exception": false,
     "start_time": "2025-01-05T21:31:53.731460",
     "status": "completed"
    },
    "tags": []
   },
   "outputs": [
    {
     "name": "stdout",
     "output_type": "stream",
     "text": [
      "/kaggle/working/RECsys_Challenge2024\n",
      "run_compile_all_cython: Found 11 Cython files in 5 folders...\r\n",
      "run_compile_all_cython: All files will be compiled using your current python environment: '/usr/bin/python3'\r\n",
      "Compiling [1/11]: MatrixFactorization_Cython_Epoch.pyx... \r\n",
      "In file included from \u001b[01m\u001b[K/usr/local/lib/python3.10/dist-packages/numpy/core/include/numpy/ndarraytypes.h:1929\u001b[m\u001b[K,\r\n",
      "                 from \u001b[01m\u001b[K/usr/local/lib/python3.10/dist-packages/numpy/core/include/numpy/ndarrayobject.h:12\u001b[m\u001b[K,\r\n",
      "                 from \u001b[01m\u001b[K/usr/local/lib/python3.10/dist-packages/numpy/core/include/numpy/arrayobject.h:5\u001b[m\u001b[K,\r\n",
      "                 from \u001b[01m\u001b[KMatrixFactorization_Cython_Epoch.c:1252\u001b[m\u001b[K:\r\n",
      "\u001b[01m\u001b[K/usr/local/lib/python3.10/dist-packages/numpy/core/include/numpy/npy_1_7_deprecated_api.h:17:2:\u001b[m\u001b[K \u001b[01;35m\u001b[Kwarning: \u001b[m\u001b[K#warning \"Using deprecated NumPy API, disable it with \" \"#define NPY_NO_DEPRECATED_API NPY_1_7_API_VERSION\" [\u001b[01;35m\u001b[K\u001b]8;;https://gcc.gnu.org/onlinedocs/gcc/Warning-Options.html#index-Wcpp\u0007-Wcpp\u001b]8;;\u0007\u001b[m\u001b[K]\r\n",
      "   17 | #\u001b[01;35m\u001b[Kwarning\u001b[m\u001b[K \"Using deprecated NumPy API, disable it with \" \\\r\n",
      "      |  \u001b[01;35m\u001b[K^~~~~~~\u001b[m\u001b[K\r\n",
      "\u001b[01m\u001b[KMatrixFactorization_Cython_Epoch.c:\u001b[m\u001b[K In function ‘\u001b[01m\u001b[K__pyx_pf_32MatrixFactorization_Cython_Epoch_32MatrixFactorization_Cython_Epoch_10epochIteration_Cython_ASY_SVD_SGD\u001b[m\u001b[K’:\r\n",
      "\u001b[01m\u001b[KMatrixFactorization_Cython_Epoch.c:26256:68:\u001b[m\u001b[K \u001b[01;35m\u001b[Kwarning: \u001b[m\u001b[K‘\u001b[01m\u001b[K__pyx_v_end_pos_seen_items\u001b[m\u001b[K’ may be used uninitialized in this function [\u001b[01;35m\u001b[K\u001b]8;;https://gcc.gnu.org/onlinedocs/gcc/Warning-Options.html#index-Wmaybe-uninitialized\u0007-Wmaybe-uninitialized\u001b]8;;\u0007\u001b[m\u001b[K]\r\n",
      "26256 |         for (__pyx_t_22 = __pyx_v_start_pos_seen_items; \u001b[01;35m\u001b[K__pyx_t_22 < __pyx_t_21\u001b[m\u001b[K; __pyx_t_22+=1) {\r\n",
      "      |                                                         \u001b[01;35m\u001b[K~~~~~~~~~~~^~~~~~~~~~~~\u001b[m\u001b[K\r\n",
      "\u001b[01m\u001b[KMatrixFactorization_Cython_Epoch.c:26256:68:\u001b[m\u001b[K \u001b[01;35m\u001b[Kwarning: \u001b[m\u001b[K‘\u001b[01m\u001b[K__pyx_v_start_pos_seen_items\u001b[m\u001b[K’ may be used uninitialized in this function [\u001b[01;35m\u001b[K\u001b]8;;https://gcc.gnu.org/onlinedocs/gcc/Warning-Options.html#index-Wmaybe-uninitialized\u0007-Wmaybe-uninitialized\u001b]8;;\u0007\u001b[m\u001b[K]\r\n",
      "/usr/local/lib/python3.10/dist-packages/Cython/Compiler/Main.py:381: FutureWarning: Cython directive 'language_level' not set, using '3str' for now (Py3). This has changed from earlier releases! File: /kaggle/working/RECsys_Challenge2024/Recommenders/MatrixFactorization/Cython/MatrixFactorization_Cython_Epoch.pyx\r\n",
      "  tree = Parsing.p_module(s, pxd, full_module_name)\r\n",
      "Compiling [1/11]: MatrixFactorization_Cython_Epoch.pyx... PASS\r\n",
      "\r\n",
      "Compiling [2/11]: MatrixFactorizationImpressions_Cython_Epoch.pyx... \r\n",
      "In file included from \u001b[01m\u001b[K/usr/local/lib/python3.10/dist-packages/numpy/core/include/numpy/ndarraytypes.h:1929\u001b[m\u001b[K,\r\n",
      "                 from \u001b[01m\u001b[K/usr/local/lib/python3.10/dist-packages/numpy/core/include/numpy/ndarrayobject.h:12\u001b[m\u001b[K,\r\n",
      "                 from \u001b[01m\u001b[K/usr/local/lib/python3.10/dist-packages/numpy/core/include/numpy/arrayobject.h:5\u001b[m\u001b[K,\r\n",
      "                 from \u001b[01m\u001b[KMatrixFactorizationImpressions_Cython_Epoch.c:1252\u001b[m\u001b[K:\r\n",
      "\u001b[01m\u001b[K/usr/local/lib/python3.10/dist-packages/numpy/core/include/numpy/npy_1_7_deprecated_api.h:17:2:\u001b[m\u001b[K \u001b[01;35m\u001b[Kwarning: \u001b[m\u001b[K#warning \"Using deprecated NumPy API, disable it with \" \"#define NPY_NO_DEPRECATED_API NPY_1_7_API_VERSION\" [\u001b[01;35m\u001b[K\u001b]8;;https://gcc.gnu.org/onlinedocs/gcc/Warning-Options.html#index-Wcpp\u0007-Wcpp\u001b]8;;\u0007\u001b[m\u001b[K]\r\n",
      "   17 | #\u001b[01;35m\u001b[Kwarning\u001b[m\u001b[K \"Using deprecated NumPy API, disable it with \" \\\r\n",
      "      |  \u001b[01;35m\u001b[K^~~~~~~\u001b[m\u001b[K\r\n",
      "\u001b[01m\u001b[KMatrixFactorizationImpressions_Cython_Epoch.c:\u001b[m\u001b[K In function ‘\u001b[01m\u001b[K__pyx_f_43MatrixFactorizationImpressions_Cython_Epoch_32MatrixFactorization_Cython_Epoch_sampleBPR_Cython\u001b[m\u001b[K’:\r\n",
      "\u001b[01m\u001b[KMatrixFactorizationImpressions_Cython_Epoch.c:30353:17:\u001b[m\u001b[K \u001b[01;35m\u001b[Kwarning: \u001b[m\u001b[K‘\u001b[01m\u001b[K__pyx_v_start_pos_impression_items\u001b[m\u001b[K’ may be used uninitialized in this function [\u001b[01;35m\u001b[K\u001b]8;;https://gcc.gnu.org/onlinedocs/gcc/Warning-Options.html#index-Wmaybe-uninitialized\u0007-Wmaybe-uninitialized\u001b]8;;\u0007\u001b[m\u001b[K]\r\n",
      "30353 |       \u001b[01;35m\u001b[K__pyx_t_4 = (__pyx_v_start_pos_impression_items + __pyx_v_index)\u001b[m\u001b[K;\r\n",
      "      |       \u001b[01;35m\u001b[K~~~~~~~~~~^~~~~~~~~~~~~~~~~~~~~~~~~~~~~~~~~~~~~~~~~~~~~~~~~~~~~~\u001b[m\u001b[K\r\n",
      "\u001b[01m\u001b[KMatrixFactorizationImpressions_Cython_Epoch.c:\u001b[m\u001b[K In function ‘\u001b[01m\u001b[K__pyx_pf_43MatrixFactorizationImpressions_Cython_Epoch_32MatrixFactorization_Cython_Epoch_10epochIteration_Cython_ASY_SVD_SGD\u001b[m\u001b[K’:\r\n",
      "\u001b[01m\u001b[KMatrixFactorizationImpressions_Cython_Epoch.c:26112:66:\u001b[m\u001b[K \u001b[01;35m\u001b[Kwarning: \u001b[m\u001b[K‘\u001b[01m\u001b[K__pyx_v_end_pos_seen_items\u001b[m\u001b[K’ may be used uninitialized in this function [\u001b[01;35m\u001b[K\u001b]8;;https://gcc.gnu.org/onlinedocs/gcc/Warning-Options.html#index-Wmaybe-uninitialized\u0007-Wmaybe-uninitialized\u001b]8;;\u0007\u001b[m\u001b[K]\r\n",
      "26112 |       for (__pyx_t_22 = __pyx_v_start_pos_seen_items; \u001b[01;35m\u001b[K__pyx_t_22 < __pyx_t_21\u001b[m\u001b[K; __pyx_t_22+=1) {\r\n",
      "      |                                                       \u001b[01;35m\u001b[K~~~~~~~~~~~^~~~~~~~~~~~\u001b[m\u001b[K\r\n",
      "\u001b[01m\u001b[KMatrixFactorizationImpressions_Cython_Epoch.c:26112:66:\u001b[m\u001b[K \u001b[01;35m\u001b[Kwarning: \u001b[m\u001b[K‘\u001b[01m\u001b[K__pyx_v_start_pos_seen_items\u001b[m\u001b[K’ may be used uninitialized in this function [\u001b[01;35m\u001b[K\u001b]8;;https://gcc.gnu.org/onlinedocs/gcc/Warning-Options.html#index-Wmaybe-uninitialized\u0007-Wmaybe-uninitialized\u001b]8;;\u0007\u001b[m\u001b[K]\r\n",
      "/usr/local/lib/python3.10/dist-packages/Cython/Compiler/Main.py:381: FutureWarning: Cython directive 'language_level' not set, using '3str' for now (Py3). This has changed from earlier releases! File: /kaggle/working/RECsys_Challenge2024/Recommenders/MatrixFactorization/Cython/MatrixFactorizationImpressions_Cython_Epoch.pyx\r\n",
      "  tree = Parsing.p_module(s, pxd, full_module_name)\r\n",
      "Compiling [2/11]: MatrixFactorizationImpressions_Cython_Epoch.pyx... PASS\r\n",
      "\r\n",
      "Compiling [3/11]: Compute_Similarity_Cython.pyx... \r\n",
      "warning: Compute_Similarity_Cython.pyx:21:0: The 'IF' statement is deprecated and will be removed in a future Cython version. Consider using runtime conditions or C macros instead. See https://github.com/cython/cython/issues/4310\r\n",
      "In file included from \u001b[01m\u001b[K/usr/local/lib/python3.10/dist-packages/numpy/core/include/numpy/ndarraytypes.h:1929\u001b[m\u001b[K,\r\n",
      "                 from \u001b[01m\u001b[K/usr/local/lib/python3.10/dist-packages/numpy/core/include/numpy/ndarrayobject.h:12\u001b[m\u001b[K,\r\n",
      "                 from \u001b[01m\u001b[K/usr/local/lib/python3.10/dist-packages/numpy/core/include/numpy/arrayobject.h:5\u001b[m\u001b[K,\r\n",
      "                 from \u001b[01m\u001b[KCompute_Similarity_Cython.c:1252\u001b[m\u001b[K:\r\n",
      "\u001b[01m\u001b[K/usr/local/lib/python3.10/dist-packages/numpy/core/include/numpy/npy_1_7_deprecated_api.h:17:2:\u001b[m\u001b[K \u001b[01;35m\u001b[Kwarning: \u001b[m\u001b[K#warning \"Using deprecated NumPy API, disable it with \" \"#define NPY_NO_DEPRECATED_API NPY_1_7_API_VERSION\" [\u001b[01;35m\u001b[K\u001b]8;;https://gcc.gnu.org/onlinedocs/gcc/Warning-Options.html#index-Wcpp\u0007-Wcpp\u001b]8;;\u0007\u001b[m\u001b[K]\r\n",
      "   17 | #\u001b[01;35m\u001b[Kwarning\u001b[m\u001b[K \"Using deprecated NumPy API, disable it with \" \\\r\n",
      "      |  \u001b[01;35m\u001b[K^~~~~~~\u001b[m\u001b[K\r\n",
      "/usr/local/lib/python3.10/dist-packages/Cython/Compiler/Main.py:381: FutureWarning: Cython directive 'language_level' not set, using '3str' for now (Py3). This has changed from earlier releases! File: /kaggle/working/RECsys_Challenge2024/Recommenders/Similarity/Cython/Compute_Similarity_Cython.pyx\r\n",
      "  tree = Parsing.p_module(s, pxd, full_module_name)\r\n",
      "warning: Compute_Similarity_Cython.pyx:21:0: The 'IF' statement is deprecated and will be removed in a future Cython version. Consider using runtime conditions or C macros instead. See https://github.com/cython/cython/issues/4310\r\n",
      "Compiling [3/11]: Compute_Similarity_Cython.pyx... PASS\r\n",
      "\r\n",
      "Compiling [4/11]: SLIM_BPR_Cython_Epoch.pyx... \r\n",
      "warning: SLIM_BPR_Cython_Epoch.pyx:24:0: The 'IF' statement is deprecated and will be removed in a future Cython version. Consider using runtime conditions or C macros instead. See https://github.com/cython/cython/issues/4310\r\n",
      "warning: SLIM_BPR_Cython_Epoch.pyx:632:34: Non-trivial type declarators in shared declaration (e.g. mix of pointers and values). Each pointer declaration should be on its own line.\r\n",
      "warning: SLIM_BPR_Cython_Epoch.pyx:632:66: Non-trivial type declarators in shared declaration (e.g. mix of pointers and values). Each pointer declaration should be on its own line.\r\n",
      "warning: SLIM_BPR_Cython_Epoch.pyx:817:35: Non-trivial type declarators in shared declaration (e.g. mix of pointers and values). Each pointer declaration should be on its own line.\r\n",
      "warning: SLIM_BPR_Cython_Epoch.pyx:817:52: Non-trivial type declarators in shared declaration (e.g. mix of pointers and values). Each pointer declaration should be on its own line.\r\n",
      "warning: SLIM_BPR_Cython_Epoch.pyx:916:35: Non-trivial type declarators in shared declaration (e.g. mix of pointers and values). Each pointer declaration should be on its own line.\r\n",
      "warning: SLIM_BPR_Cython_Epoch.pyx:916:53: Non-trivial type declarators in shared declaration (e.g. mix of pointers and values). Each pointer declaration should be on its own line.\r\n",
      "warning: SLIM_BPR_Cython_Epoch.pyx:916:69: Non-trivial type declarators in shared declaration (e.g. mix of pointers and values). Each pointer declaration should be on its own line.\r\n",
      "warning: SLIM_BPR_Cython_Epoch.pyx:1051:35: Non-trivial type declarators in shared declaration (e.g. mix of pointers and values). Each pointer declaration should be on its own line.\r\n",
      "warning: SLIM_BPR_Cython_Epoch.pyx:1051:42: Non-trivial type declarators in shared declaration (e.g. mix of pointers and values). Each pointer declaration should be on its own line.\r\n",
      "warning: SLIM_BPR_Cython_Epoch.pyx:1052:35: Non-trivial type declarators in shared declaration (e.g. mix of pointers and values). Each pointer declaration should be on its own line.\r\n",
      "warning: SLIM_BPR_Cython_Epoch.pyx:1052:53: Non-trivial type declarators in shared declaration (e.g. mix of pointers and values). Each pointer declaration should be on its own line.\r\n",
      "\r\n",
      "Error compiling Cython file:\r\n",
      "------------------------------------------------------------\r\n",
      "...\r\n",
      "            vector_pointer_to_list_elements[index].head = current_element\r\n",
      "            current_element = current_element.higher\r\n",
      "\r\n",
      "\r\n",
      "        # Sort array elements on their data field\r\n",
      "        qsort(vector_pointer_to_list_elements, list_length, sizeof(head_pointer_tree_s), compare_struct_on_data)\r\n",
      "                                                                                         ^\r\n",
      "------------------------------------------------------------\r\n",
      "\r\n",
      "SLIM_BPR_Cython_Epoch.pyx:990:89: Cannot assign type 'int (const void *, const void *) except? -1' to 'int (*)(const_void *, const_void *) noexcept'. Exception values are incompatible. Suggest adding 'noexcept' to the type of 'compare_struct_on_data'.\r\n",
      "\r\n",
      "Error compiling Cython file:\r\n",
      "------------------------------------------------------------\r\n",
      "...\r\n",
      "        # Sort array elements on their data field\r\n",
      "        qsort(vector_pointer_to_list_elements, list_length, sizeof(head_pointer_tree_s), compare_struct_on_data)\r\n",
      "\r\n",
      "        # Sort only the TopK according to their column field\r\n",
      "        # Sort is from lower to higher, therefore the elements to be considered are from len-topK to len\r\n",
      "        qsort(&vector_pointer_to_list_elements[list_length-TopK], TopK, sizeof(head_pointer_tree_s), compare_struct_on_column)\r\n",
      "                                                                                                     ^\r\n",
      "------------------------------------------------------------\r\n",
      "\r\n",
      "SLIM_BPR_Cython_Epoch.pyx:994:101: Cannot assign type 'int (const void *, const void *) except? -1' to 'int (*)(const_void *, const_void *) noexcept'. Exception values are incompatible. Suggest adding 'noexcept' to the type of 'compare_struct_on_column'.\r\n",
      "Traceback (most recent call last):\r\n",
      "  File \"/kaggle/working/RECsys_Challenge2024/CythonCompiler/compile_script.py\", line 48, in <module>\r\n",
      "    setup(\r\n",
      "  File \"/usr/local/lib/python3.10/dist-packages/setuptools/__init__.py\", line 108, in setup\r\n",
      "    return distutils.core.setup(**attrs)\r\n",
      "  File \"/usr/local/lib/python3.10/dist-packages/setuptools/_distutils/core.py\", line 184, in setup\r\n",
      "    return run_commands(dist)\r\n",
      "  File \"/usr/local/lib/python3.10/dist-packages/setuptools/_distutils/core.py\", line 200, in run_commands\r\n",
      "    dist.run_commands()\r\n",
      "  File \"/usr/local/lib/python3.10/dist-packages/setuptools/_distutils/dist.py\", line 970, in run_commands\r\n",
      "    self.run_command(cmd)\r\n",
      "  File \"/usr/local/lib/python3.10/dist-packages/setuptools/dist.py\", line 956, in run_command\r\n",
      "    super().run_command(command)\r\n",
      "  File \"/usr/local/lib/python3.10/dist-packages/setuptools/_distutils/dist.py\", line 989, in run_command\r\n",
      "    cmd_obj.run()\r\n",
      "  File \"/usr/local/lib/python3.10/dist-packages/setuptools/_distutils/command/build_ext.py\", line 359, in run\r\n",
      "    self.build_extensions()\r\n",
      "  File \"/usr/local/lib/python3.10/dist-packages/setuptools/_distutils/command/build_ext.py\", line 479, in build_extensions\r\n",
      "    self._build_extensions_serial()\r\n",
      "  File \"/usr/local/lib/python3.10/dist-packages/setuptools/_distutils/command/build_ext.py\", line 505, in _build_extensions_serial\r\n",
      "    self.build_extension(ext)\r\n",
      "  File \"/usr/local/lib/python3.10/dist-packages/Cython/Distutils/build_ext.py\", line 130, in build_extension\r\n",
      "    new_ext = cythonize(\r\n",
      "  File \"/usr/local/lib/python3.10/dist-packages/Cython/Build/Dependencies.py\", line 1154, in cythonize\r\n",
      "    cythonize_one(*args)\r\n",
      "  File \"/usr/local/lib/python3.10/dist-packages/Cython/Build/Dependencies.py\", line 1321, in cythonize_one\r\n",
      "    raise CompileError(None, pyx_file)\r\n",
      "Cython.Compiler.Errors.CompileError: SLIM_BPR_Cython_Epoch.pyx\r\n",
      "Traceback (most recent call last):\r\n",
      "  File \"/kaggle/working/RECsys_Challenge2024/run_compile_all_cython.py\", line 60, in <module>\r\n",
      "    run_compile_subprocess(file_path, [file_name])\r\n",
      "  File \"/kaggle/working/RECsys_Challenge2024/CythonCompiler/run_compile_subprocess.py\", line 51, in run_compile_subprocess\r\n",
      "    raise exc\r\n",
      "  File \"/kaggle/working/RECsys_Challenge2024/CythonCompiler/run_compile_subprocess.py\", line 32, in run_compile_subprocess\r\n",
      "    output = subprocess.check_output(' '.join(command),\r\n",
      "  File \"/usr/lib/python3.10/subprocess.py\", line 421, in check_output\r\n",
      "    return run(*popenargs, stdout=PIPE, timeout=timeout, check=True,\r\n",
      "  File \"/usr/lib/python3.10/subprocess.py\", line 526, in run\r\n",
      "    raise CalledProcessError(retcode, process.args,\r\n",
      "subprocess.CalledProcessError: Command '/usr/bin/python3 /kaggle/working/RECsys_Challenge2024/CythonCompiler/compile_script.py SLIM_BPR_Cython_Epoch.pyx build_ext --inplace' returned non-zero exit status 1.\r\n",
      "Compiling [4/11]: SLIM_BPR_Cython_Epoch.pyx... FAIL: Command '/usr/bin/python3 /kaggle/working/RECsys_Challenge2024/CythonCompiler/compile_script.py SLIM_BPR_Cython_Epoch.pyx build_ext --inplace' returned non-zero exit status 1.\r\n",
      "\r\n",
      "Compiling [5/11]: Triangular_Matrix.pyx... \r\n",
      "warning: Triangular_Matrix.pyx:22:0: The 'IF' statement is deprecated and will be removed in a future Cython version. Consider using runtime conditions or C macros instead. See https://github.com/cython/cython/issues/4310\r\n",
      "In file included from \u001b[01m\u001b[K/usr/local/lib/python3.10/dist-packages/numpy/core/include/numpy/ndarraytypes.h:1929\u001b[m\u001b[K,\r\n",
      "                 from \u001b[01m\u001b[K/usr/local/lib/python3.10/dist-packages/numpy/core/include/numpy/ndarrayobject.h:12\u001b[m\u001b[K,\r\n",
      "                 from \u001b[01m\u001b[K/usr/local/lib/python3.10/dist-packages/numpy/core/include/numpy/arrayobject.h:5\u001b[m\u001b[K,\r\n",
      "                 from \u001b[01m\u001b[KTriangular_Matrix.c:1252\u001b[m\u001b[K:\r\n",
      "\u001b[01m\u001b[K/usr/local/lib/python3.10/dist-packages/numpy/core/include/numpy/npy_1_7_deprecated_api.h:17:2:\u001b[m\u001b[K \u001b[01;35m\u001b[Kwarning: \u001b[m\u001b[K#warning \"Using deprecated NumPy API, disable it with \" \"#define NPY_NO_DEPRECATED_API NPY_1_7_API_VERSION\" [\u001b[01;35m\u001b[K\u001b]8;;https://gcc.gnu.org/onlinedocs/gcc/Warning-Options.html#index-Wcpp\u0007-Wcpp\u001b]8;;\u0007\u001b[m\u001b[K]\r\n",
      "   17 | #\u001b[01;35m\u001b[Kwarning\u001b[m\u001b[K \"Using deprecated NumPy API, disable it with \" \\\r\n",
      "      |  \u001b[01;35m\u001b[K^~~~~~~\u001b[m\u001b[K\r\n",
      "In function ‘\u001b[01m\u001b[K__pyx_pf_17Triangular_Matrix_17Triangular_Matrix___init__\u001b[m\u001b[K’,\r\n",
      "    inlined from ‘\u001b[01m\u001b[K__pyx_pw_17Triangular_Matrix_17Triangular_Matrix_1__init__\u001b[m\u001b[K’ at \u001b[01m\u001b[KTriangular_Matrix.c:5541:13\u001b[m\u001b[K:\r\n",
      "\u001b[01m\u001b[KTriangular_Matrix.c:5599:43:\u001b[m\u001b[K \u001b[01;35m\u001b[Kwarning: \u001b[m\u001b[Kargument 1 value ‘\u001b[01m\u001b[K18446744073709551608\u001b[m\u001b[K’ exceeds maximum object size 9223372036854775807 [\u001b[01;35m\u001b[K\u001b]8;;https://gcc.gnu.org/onlinedocs/gcc/Warning-Options.html#index-Walloc-size-larger-than=\u0007-Walloc-size-larger-than=\u001b]8;;\u0007\u001b[m\u001b[K]\r\n",
      " 5599 |   __pyx_v_self->row_pointer = ((double **)\u001b[01;35m\u001b[Kmalloc((__pyx_v_self->num_rows * (sizeof(double *))))\u001b[m\u001b[K);\r\n",
      "      |                                           \u001b[01;35m\u001b[K^~~~~~~~~~~~~~~~~~~~~~~~~~~~~~~~~~~~~~~~~~~~~~~~~~~~~\u001b[m\u001b[K\r\n",
      "In file included from \u001b[01m\u001b[K/usr/include/python3.10/Python.h:34\u001b[m\u001b[K,\r\n",
      "                 from \u001b[01m\u001b[KTriangular_Matrix.c:41\u001b[m\u001b[K:\r\n",
      "\u001b[01m\u001b[KTriangular_Matrix.c:\u001b[m\u001b[K In function ‘\u001b[01m\u001b[K__pyx_pw_17Triangular_Matrix_17Triangular_Matrix_1__init__\u001b[m\u001b[K’:\r\n",
      "\u001b[01m\u001b[K/usr/include/stdlib.h:540:14:\u001b[m\u001b[K \u001b[01;36m\u001b[Knote: \u001b[m\u001b[Kin a call to allocation function ‘\u001b[01m\u001b[Kmalloc\u001b[m\u001b[K’ declared here\r\n",
      "  540 | extern void *\u001b[01;36m\u001b[Kmalloc\u001b[m\u001b[K (size_t __size) __THROW __attribute_malloc__\r\n",
      "      |              \u001b[01;36m\u001b[K^~~~~~\u001b[m\u001b[K\r\n",
      "/usr/local/lib/python3.10/dist-packages/Cython/Compiler/Main.py:381: FutureWarning: Cython directive 'language_level' not set, using '3str' for now (Py3). This has changed from earlier releases! File: /kaggle/working/RECsys_Challenge2024/Recommenders/SLIM/Cython/Triangular_Matrix.pyx\r\n",
      "  tree = Parsing.p_module(s, pxd, full_module_name)\r\n",
      "warning: Triangular_Matrix.pyx:22:0: The 'IF' statement is deprecated and will be removed in a future Cython version. Consider using runtime conditions or C macros instead. See https://github.com/cython/cython/issues/4310\r\n",
      "Compiling [5/11]: Triangular_Matrix.pyx... PASS\r\n",
      "\r\n",
      "Compiling [6/11]: Sparse_Matrix_Tree_CSR.pyx... \r\n",
      "warning: Sparse_Matrix_Tree_CSR.pyx:132:34: Non-trivial type declarators in shared declaration (e.g. mix of pointers and values). Each pointer declaration should be on its own line.\r\n",
      "warning: Sparse_Matrix_Tree_CSR.pyx:132:66: Non-trivial type declarators in shared declaration (e.g. mix of pointers and values). Each pointer declaration should be on its own line.\r\n",
      "warning: Sparse_Matrix_Tree_CSR.pyx:343:35: Non-trivial type declarators in shared declaration (e.g. mix of pointers and values). Each pointer declaration should be on its own line.\r\n",
      "warning: Sparse_Matrix_Tree_CSR.pyx:343:52: Non-trivial type declarators in shared declaration (e.g. mix of pointers and values). Each pointer declaration should be on its own line.\r\n",
      "warning: Sparse_Matrix_Tree_CSR.pyx:442:35: Non-trivial type declarators in shared declaration (e.g. mix of pointers and values). Each pointer declaration should be on its own line.\r\n",
      "warning: Sparse_Matrix_Tree_CSR.pyx:442:53: Non-trivial type declarators in shared declaration (e.g. mix of pointers and values). Each pointer declaration should be on its own line.\r\n",
      "warning: Sparse_Matrix_Tree_CSR.pyx:442:69: Non-trivial type declarators in shared declaration (e.g. mix of pointers and values). Each pointer declaration should be on its own line.\r\n",
      "warning: Sparse_Matrix_Tree_CSR.pyx:577:35: Non-trivial type declarators in shared declaration (e.g. mix of pointers and values). Each pointer declaration should be on its own line.\r\n",
      "warning: Sparse_Matrix_Tree_CSR.pyx:577:42: Non-trivial type declarators in shared declaration (e.g. mix of pointers and values). Each pointer declaration should be on its own line.\r\n",
      "warning: Sparse_Matrix_Tree_CSR.pyx:578:35: Non-trivial type declarators in shared declaration (e.g. mix of pointers and values). Each pointer declaration should be on its own line.\r\n",
      "warning: Sparse_Matrix_Tree_CSR.pyx:578:53: Non-trivial type declarators in shared declaration (e.g. mix of pointers and values). Each pointer declaration should be on its own line.\r\n",
      "\r\n",
      "Error compiling Cython file:\r\n",
      "------------------------------------------------------------\r\n",
      "...\r\n",
      "            vector_pointer_to_list_elements[index].head = current_element\r\n",
      "            current_element = current_element.higher\r\n",
      "\r\n",
      "\r\n",
      "        # Sort array elements on their data field\r\n",
      "        qsort(vector_pointer_to_list_elements, list_length, sizeof(head_pointer_tree_s), compare_struct_on_data)\r\n",
      "                                                                                         ^\r\n",
      "------------------------------------------------------------\r\n",
      "\r\n",
      "Sparse_Matrix_Tree_CSR.pyx:516:89: Cannot assign type 'int (const void *, const void *) except? -1' to 'int (*)(const_void *, const_void *) noexcept'. Exception values are incompatible. Suggest adding 'noexcept' to the type of 'compare_struct_on_data'.\r\n",
      "\r\n",
      "Error compiling Cython file:\r\n",
      "------------------------------------------------------------\r\n",
      "...\r\n",
      "        # Sort array elements on their data field\r\n",
      "        qsort(vector_pointer_to_list_elements, list_length, sizeof(head_pointer_tree_s), compare_struct_on_data)\r\n",
      "\r\n",
      "        # Sort only the TopK according to their column field\r\n",
      "        # Sort is from lower to higher, therefore the elements to be considered are from len-topK to len\r\n",
      "        qsort(&vector_pointer_to_list_elements[list_length-TopK], TopK, sizeof(head_pointer_tree_s), compare_struct_on_column)\r\n",
      "                                                                                                     ^\r\n",
      "------------------------------------------------------------\r\n",
      "\r\n",
      "Sparse_Matrix_Tree_CSR.pyx:520:101: Cannot assign type 'int (const void *, const void *) except? -1' to 'int (*)(const_void *, const_void *) noexcept'. Exception values are incompatible. Suggest adding 'noexcept' to the type of 'compare_struct_on_column'.\r\n",
      "Traceback (most recent call last):\r\n",
      "  File \"/kaggle/working/RECsys_Challenge2024/CythonCompiler/compile_script.py\", line 48, in <module>\r\n",
      "    setup(\r\n",
      "  File \"/usr/local/lib/python3.10/dist-packages/setuptools/__init__.py\", line 108, in setup\r\n",
      "    return distutils.core.setup(**attrs)\r\n",
      "  File \"/usr/local/lib/python3.10/dist-packages/setuptools/_distutils/core.py\", line 184, in setup\r\n",
      "    return run_commands(dist)\r\n",
      "  File \"/usr/local/lib/python3.10/dist-packages/setuptools/_distutils/core.py\", line 200, in run_commands\r\n",
      "    dist.run_commands()\r\n",
      "  File \"/usr/local/lib/python3.10/dist-packages/setuptools/_distutils/dist.py\", line 970, in run_commands\r\n",
      "    self.run_command(cmd)\r\n",
      "  File \"/usr/local/lib/python3.10/dist-packages/setuptools/dist.py\", line 956, in run_command\r\n",
      "    super().run_command(command)\r\n",
      "  File \"/usr/local/lib/python3.10/dist-packages/setuptools/_distutils/dist.py\", line 989, in run_command\r\n",
      "    cmd_obj.run()\r\n",
      "  File \"/usr/local/lib/python3.10/dist-packages/setuptools/_distutils/command/build_ext.py\", line 359, in run\r\n",
      "    self.build_extensions()\r\n",
      "  File \"/usr/local/lib/python3.10/dist-packages/setuptools/_distutils/command/build_ext.py\", line 479, in build_extensions\r\n",
      "    self._build_extensions_serial()\r\n",
      "  File \"/usr/local/lib/python3.10/dist-packages/setuptools/_distutils/command/build_ext.py\", line 505, in _build_extensions_serial\r\n",
      "    self.build_extension(ext)\r\n",
      "  File \"/usr/local/lib/python3.10/dist-packages/Cython/Distutils/build_ext.py\", line 130, in build_extension\r\n",
      "    new_ext = cythonize(\r\n",
      "  File \"/usr/local/lib/python3.10/dist-packages/Cython/Build/Dependencies.py\", line 1154, in cythonize\r\n",
      "    cythonize_one(*args)\r\n",
      "  File \"/usr/local/lib/python3.10/dist-packages/Cython/Build/Dependencies.py\", line 1321, in cythonize_one\r\n",
      "    raise CompileError(None, pyx_file)\r\n",
      "Cython.Compiler.Errors.CompileError: Sparse_Matrix_Tree_CSR.pyx\r\n",
      "Traceback (most recent call last):\r\n",
      "  File \"/kaggle/working/RECsys_Challenge2024/run_compile_all_cython.py\", line 60, in <module>\r\n",
      "    run_compile_subprocess(file_path, [file_name])\r\n",
      "  File \"/kaggle/working/RECsys_Challenge2024/CythonCompiler/run_compile_subprocess.py\", line 51, in run_compile_subprocess\r\n",
      "    raise exc\r\n",
      "  File \"/kaggle/working/RECsys_Challenge2024/CythonCompiler/run_compile_subprocess.py\", line 32, in run_compile_subprocess\r\n",
      "    output = subprocess.check_output(' '.join(command),\r\n",
      "  File \"/usr/lib/python3.10/subprocess.py\", line 421, in check_output\r\n",
      "    return run(*popenargs, stdout=PIPE, timeout=timeout, check=True,\r\n",
      "  File \"/usr/lib/python3.10/subprocess.py\", line 526, in run\r\n",
      "    raise CalledProcessError(retcode, process.args,\r\n",
      "subprocess.CalledProcessError: Command '/usr/bin/python3 /kaggle/working/RECsys_Challenge2024/CythonCompiler/compile_script.py Sparse_Matrix_Tree_CSR.pyx build_ext --inplace' returned non-zero exit status 1.\r\n",
      "Compiling [6/11]: Sparse_Matrix_Tree_CSR.pyx... FAIL: Command '/usr/bin/python3 /kaggle/working/RECsys_Challenge2024/CythonCompiler/compile_script.py Sparse_Matrix_Tree_CSR.pyx build_ext --inplace' returned non-zero exit status 1.\r\n",
      "\r\n",
      "Compiling [7/11]: CFW_D_Similarity_Cython_SGD.pyx... \r\n",
      "In file included from \u001b[01m\u001b[K/usr/local/lib/python3.10/dist-packages/numpy/core/include/numpy/ndarraytypes.h:1929\u001b[m\u001b[K,\r\n",
      "                 from \u001b[01m\u001b[K/usr/local/lib/python3.10/dist-packages/numpy/core/include/numpy/ndarrayobject.h:12\u001b[m\u001b[K,\r\n",
      "                 from \u001b[01m\u001b[K/usr/local/lib/python3.10/dist-packages/numpy/core/include/numpy/arrayobject.h:5\u001b[m\u001b[K,\r\n",
      "                 from \u001b[01m\u001b[KCFW_D_Similarity_Cython_SGD.c:1252\u001b[m\u001b[K:\r\n",
      "\u001b[01m\u001b[K/usr/local/lib/python3.10/dist-packages/numpy/core/include/numpy/npy_1_7_deprecated_api.h:17:2:\u001b[m\u001b[K \u001b[01;35m\u001b[Kwarning: \u001b[m\u001b[K#warning \"Using deprecated NumPy API, disable it with \" \"#define NPY_NO_DEPRECATED_API NPY_1_7_API_VERSION\" [\u001b[01;35m\u001b[K\u001b]8;;https://gcc.gnu.org/onlinedocs/gcc/Warning-Options.html#index-Wcpp\u0007-Wcpp\u001b]8;;\u0007\u001b[m\u001b[K]\r\n",
      "   17 | #\u001b[01;35m\u001b[Kwarning\u001b[m\u001b[K \"Using deprecated NumPy API, disable it with \" \\\r\n",
      "      |  \u001b[01;35m\u001b[K^~~~~~~\u001b[m\u001b[K\r\n",
      "\u001b[01m\u001b[KCFW_D_Similarity_Cython_SGD.c:\u001b[m\u001b[K In function ‘\u001b[01m\u001b[K__pyx_pf_27CFW_D_Similarity_Cython_SGD_27CFW_D_Similarity_Cython_SGD_6fit\u001b[m\u001b[K’:\r\n",
      "\u001b[01m\u001b[KCFW_D_Similarity_Cython_SGD.c:23373:55:\u001b[m\u001b[K \u001b[01;35m\u001b[Kwarning: \u001b[m\u001b[K‘\u001b[01m\u001b[K__pyx_v_sample_num\u001b[m\u001b[K’ may be used uninitialized in this function [\u001b[01;35m\u001b[K\u001b]8;;https://gcc.gnu.org/onlinedocs/gcc/Warning-Options.html#index-Wmaybe-uninitialized\u0007-Wmaybe-uninitialized\u001b]8;;\u0007\u001b[m\u001b[K]\r\n",
      "23373 |   __pyx_t_3 = PyFloat_FromDouble((__pyx_v_cum_loss / \u001b[01;35m\u001b[K((double)__pyx_v_sample_num)\u001b[m\u001b[K)); if (unlikely(!__pyx_t_3)) __PYX_ERR(0, 290, __pyx_L1_error)\r\n",
      "      |                                                      \u001b[01;35m\u001b[K~^~~~~~~~~~~~~~~~~~~~~~~~~~~\u001b[m\u001b[K\r\n",
      "/usr/local/lib/python3.10/dist-packages/Cython/Compiler/Main.py:381: FutureWarning: Cython directive 'language_level' not set, using '3str' for now (Py3). This has changed from earlier releases! File: /kaggle/working/RECsys_Challenge2024/Recommenders/FeatureWeighting/Cython/CFW_D_Similarity_Cython_SGD.pyx\r\n",
      "  tree = Parsing.p_module(s, pxd, full_module_name)\r\n",
      "Compiling [7/11]: CFW_D_Similarity_Cython_SGD.pyx... PASS\r\n",
      "\r\n",
      "Compiling [8/11]: CFW_DVV_Similarity_Cython_SGD.pyx... \r\n",
      "In file included from \u001b[01m\u001b[K/usr/local/lib/python3.10/dist-packages/numpy/core/include/numpy/ndarraytypes.h:1929\u001b[m\u001b[K,\r\n",
      "                 from \u001b[01m\u001b[K/usr/local/lib/python3.10/dist-packages/numpy/core/include/numpy/ndarrayobject.h:12\u001b[m\u001b[K,\r\n",
      "                 from \u001b[01m\u001b[K/usr/local/lib/python3.10/dist-packages/numpy/core/include/numpy/arrayobject.h:5\u001b[m\u001b[K,\r\n",
      "                 from \u001b[01m\u001b[KCFW_DVV_Similarity_Cython_SGD.c:1252\u001b[m\u001b[K:\r\n",
      "\u001b[01m\u001b[K/usr/local/lib/python3.10/dist-packages/numpy/core/include/numpy/npy_1_7_deprecated_api.h:17:2:\u001b[m\u001b[K \u001b[01;35m\u001b[Kwarning: \u001b[m\u001b[K#warning \"Using deprecated NumPy API, disable it with \" \"#define NPY_NO_DEPRECATED_API NPY_1_7_API_VERSION\" [\u001b[01;35m\u001b[K\u001b]8;;https://gcc.gnu.org/onlinedocs/gcc/Warning-Options.html#index-Wcpp\u0007-Wcpp\u001b]8;;\u0007\u001b[m\u001b[K]\r\n",
      "   17 | #\u001b[01;35m\u001b[Kwarning\u001b[m\u001b[K \"Using deprecated NumPy API, disable it with \" \\\r\n",
      "      |  \u001b[01;35m\u001b[K^~~~~~~\u001b[m\u001b[K\r\n",
      "/usr/local/lib/python3.10/dist-packages/Cython/Compiler/Main.py:381: FutureWarning: Cython directive 'language_level' not set, using '3str' for now (Py3). This has changed from earlier releases! File: /kaggle/working/RECsys_Challenge2024/Recommenders/FeatureWeighting/Cython/CFW_DVV_Similarity_Cython_SGD.pyx\r\n",
      "  tree = Parsing.p_module(s, pxd, full_module_name)\r\n",
      "Compiling [8/11]: CFW_DVV_Similarity_Cython_SGD.pyx... PASS\r\n",
      "\r\n",
      "Compiling [9/11]: HP3_Similarity_Cython_SGD.pyx... \r\n",
      "performance hint: HP3_Similarity_Cython_SGD.pyx:113:40: Index should be typed for more efficient access\r\n",
      "performance hint: HP3_Similarity_Cython_SGD.pyx:114:40: Index should be typed for more efficient access\r\n",
      "In file included from \u001b[01m\u001b[K/usr/local/lib/python3.10/dist-packages/numpy/core/include/numpy/ndarraytypes.h:1929\u001b[m\u001b[K,\r\n",
      "                 from \u001b[01m\u001b[K/usr/local/lib/python3.10/dist-packages/numpy/core/include/numpy/ndarrayobject.h:12\u001b[m\u001b[K,\r\n",
      "                 from \u001b[01m\u001b[K/usr/local/lib/python3.10/dist-packages/numpy/core/include/numpy/arrayobject.h:5\u001b[m\u001b[K,\r\n",
      "                 from \u001b[01m\u001b[KHP3_Similarity_Cython_SGD.c:1252\u001b[m\u001b[K:\r\n",
      "\u001b[01m\u001b[K/usr/local/lib/python3.10/dist-packages/numpy/core/include/numpy/npy_1_7_deprecated_api.h:17:2:\u001b[m\u001b[K \u001b[01;35m\u001b[Kwarning: \u001b[m\u001b[K#warning \"Using deprecated NumPy API, disable it with \" \"#define NPY_NO_DEPRECATED_API NPY_1_7_API_VERSION\" [\u001b[01;35m\u001b[K\u001b]8;;https://gcc.gnu.org/onlinedocs/gcc/Warning-Options.html#index-Wcpp\u0007-Wcpp\u001b]8;;\u0007\u001b[m\u001b[K]\r\n",
      "   17 | #\u001b[01;35m\u001b[Kwarning\u001b[m\u001b[K \"Using deprecated NumPy API, disable it with \" \\\r\n",
      "      |  \u001b[01;35m\u001b[K^~~~~~~\u001b[m\u001b[K\r\n",
      "\u001b[01m\u001b[KHP3_Similarity_Cython_SGD.c:\u001b[m\u001b[K In function ‘\u001b[01m\u001b[K__pyx_pf_25HP3_Similarity_Cython_SGD_25HP3_Similarity_Cython_SGD_4fit\u001b[m\u001b[K’:\r\n",
      "\u001b[01m\u001b[KHP3_Similarity_Cython_SGD.c:23631:55:\u001b[m\u001b[K \u001b[01;35m\u001b[Kwarning: \u001b[m\u001b[K‘\u001b[01m\u001b[K__pyx_v_sample_num\u001b[m\u001b[K’ may be used uninitialized in this function [\u001b[01;35m\u001b[K\u001b]8;;https://gcc.gnu.org/onlinedocs/gcc/Warning-Options.html#index-Wmaybe-uninitialized\u0007-Wmaybe-uninitialized\u001b]8;;\u0007\u001b[m\u001b[K]\r\n",
      "23631 |   __pyx_t_1 = PyFloat_FromDouble((__pyx_v_cum_loss / \u001b[01;35m\u001b[K((double)__pyx_v_sample_num)\u001b[m\u001b[K)); if (unlikely(!__pyx_t_1)) __PYX_ERR(0, 291, __pyx_L1_error)\r\n",
      "      |                                                      \u001b[01;35m\u001b[K~^~~~~~~~~~~~~~~~~~~~~~~~~~~\u001b[m\u001b[K\r\n",
      "/usr/local/lib/python3.10/dist-packages/Cython/Compiler/Main.py:381: FutureWarning: Cython directive 'language_level' not set, using '3str' for now (Py3). This has changed from earlier releases! File: /kaggle/working/RECsys_Challenge2024/Recommenders/FeatureWeighting/Cython/HP3_Similarity_Cython_SGD.pyx\r\n",
      "  tree = Parsing.p_module(s, pxd, full_module_name)\r\n",
      "performance hint: HP3_Similarity_Cython_SGD.pyx:113:40: Index should be typed for more efficient access\r\n",
      "performance hint: HP3_Similarity_Cython_SGD.pyx:114:40: Index should be typed for more efficient access\r\n",
      "Compiling [9/11]: HP3_Similarity_Cython_SGD.pyx... PASS\r\n",
      "\r\n",
      "Compiling [10/11]: FBSM_Rating_Cython_SGD.pyx... \r\n",
      "In file included from \u001b[01m\u001b[K/usr/local/lib/python3.10/dist-packages/numpy/core/include/numpy/ndarraytypes.h:1929\u001b[m\u001b[K,\r\n",
      "                 from \u001b[01m\u001b[K/usr/local/lib/python3.10/dist-packages/numpy/core/include/numpy/ndarrayobject.h:12\u001b[m\u001b[K,\r\n",
      "                 from \u001b[01m\u001b[K/usr/local/lib/python3.10/dist-packages/numpy/core/include/numpy/arrayobject.h:5\u001b[m\u001b[K,\r\n",
      "                 from \u001b[01m\u001b[KFBSM_Rating_Cython_SGD.c:1252\u001b[m\u001b[K:\r\n",
      "\u001b[01m\u001b[K/usr/local/lib/python3.10/dist-packages/numpy/core/include/numpy/npy_1_7_deprecated_api.h:17:2:\u001b[m\u001b[K \u001b[01;35m\u001b[Kwarning: \u001b[m\u001b[K#warning \"Using deprecated NumPy API, disable it with \" \"#define NPY_NO_DEPRECATED_API NPY_1_7_API_VERSION\" [\u001b[01;35m\u001b[K\u001b]8;;https://gcc.gnu.org/onlinedocs/gcc/Warning-Options.html#index-Wcpp\u0007-Wcpp\u001b]8;;\u0007\u001b[m\u001b[K]\r\n",
      "   17 | #\u001b[01;35m\u001b[Kwarning\u001b[m\u001b[K \"Using deprecated NumPy API, disable it with \" \\\r\n",
      "      |  \u001b[01;35m\u001b[K^~~~~~~\u001b[m\u001b[K\r\n",
      "\u001b[01m\u001b[KFBSM_Rating_Cython_SGD.c:\u001b[m\u001b[K In function ‘\u001b[01m\u001b[K__pyx_pf_22FBSM_Rating_Cython_SGD_22FBSM_Rating_Cython_SGD_2fit\u001b[m\u001b[K’:\r\n",
      "\u001b[01m\u001b[KFBSM_Rating_Cython_SGD.c:26607:55:\u001b[m\u001b[K \u001b[01;35m\u001b[Kwarning: \u001b[m\u001b[K‘\u001b[01m\u001b[K__pyx_v_num_sample\u001b[m\u001b[K’ may be used uninitialized in this function [\u001b[01;35m\u001b[K\u001b]8;;https://gcc.gnu.org/onlinedocs/gcc/Warning-Options.html#index-Wmaybe-uninitialized\u0007-Wmaybe-uninitialized\u001b]8;;\u0007\u001b[m\u001b[K]\r\n",
      "26607 |   __pyx_t_5 = PyFloat_FromDouble((__pyx_v_cum_loss / \u001b[01;35m\u001b[K((double)__pyx_v_num_sample)\u001b[m\u001b[K)); if (unlikely(!__pyx_t_5)) __PYX_ERR(0, 551, __pyx_L1_error)\r\n",
      "      |                                                      \u001b[01;35m\u001b[K~^~~~~~~~~~~~~~~~~~~~~~~~~~~\u001b[m\u001b[K\r\n",
      "/usr/local/lib/python3.10/dist-packages/Cython/Compiler/Main.py:381: FutureWarning: Cython directive 'language_level' not set, using '3str' for now (Py3). This has changed from earlier releases! File: /kaggle/working/RECsys_Challenge2024/Recommenders/FeatureWeighting/Cython/FBSM_Rating_Cython_SGD.pyx\r\n",
      "  tree = Parsing.p_module(s, pxd, full_module_name)\r\n",
      "Compiling [10/11]: FBSM_Rating_Cython_SGD.pyx... PASS\r\n",
      "\r\n",
      "Compiling [11/11]: DataIterator.pyx... \r\n",
      "In file included from \u001b[01m\u001b[K/usr/local/lib/python3.10/dist-packages/numpy/core/include/numpy/ndarraytypes.h:1929\u001b[m\u001b[K,\r\n",
      "                 from \u001b[01m\u001b[K/usr/local/lib/python3.10/dist-packages/numpy/core/include/numpy/ndarrayobject.h:12\u001b[m\u001b[K,\r\n",
      "                 from \u001b[01m\u001b[K/usr/local/lib/python3.10/dist-packages/numpy/core/include/numpy/arrayobject.h:5\u001b[m\u001b[K,\r\n",
      "                 from \u001b[01m\u001b[KDataIterator.c:1252\u001b[m\u001b[K:\r\n",
      "\u001b[01m\u001b[K/usr/local/lib/python3.10/dist-packages/numpy/core/include/numpy/npy_1_7_deprecated_api.h:17:2:\u001b[m\u001b[K \u001b[01;35m\u001b[Kwarning: \u001b[m\u001b[K#warning \"Using deprecated NumPy API, disable it with \" \"#define NPY_NO_DEPRECATED_API NPY_1_7_API_VERSION\" [\u001b[01;35m\u001b[K\u001b]8;;https://gcc.gnu.org/onlinedocs/gcc/Warning-Options.html#index-Wcpp\u0007-Wcpp\u001b]8;;\u0007\u001b[m\u001b[K]\r\n",
      "   17 | #\u001b[01;35m\u001b[Kwarning\u001b[m\u001b[K \"Using deprecated NumPy API, disable it with \" \\\r\n",
      "      |  \u001b[01;35m\u001b[K^~~~~~~\u001b[m\u001b[K\r\n",
      "\u001b[01m\u001b[KDataIterator.c:\u001b[m\u001b[K In function ‘\u001b[01m\u001b[K__pyx_pf_12DataIterator_19InteractionIterator_6__next__\u001b[m\u001b[K’:\r\n",
      "\u001b[01m\u001b[KDataIterator.c:20937:22:\u001b[m\u001b[K \u001b[01;35m\u001b[Kwarning: \u001b[m\u001b[K‘\u001b[01m\u001b[K__pyx_v_i_batch\u001b[m\u001b[K’ may be used uninitialized in this function [\u001b[01;35m\u001b[K\u001b]8;;https://gcc.gnu.org/onlinedocs/gcc/Warning-Options.html#index-Wmaybe-uninitialized\u0007-Wmaybe-uninitialized\u001b]8;;\u0007\u001b[m\u001b[K]\r\n",
      "20937 |     (__pyx_v_i_batch \u001b[01;35m\u001b[K+\u001b[m\u001b[K 1),\r\n",
      "      |                      \u001b[01;35m\u001b[K^\u001b[m\u001b[K\r\n",
      "\u001b[01m\u001b[KDataIterator.c:\u001b[m\u001b[K In function ‘\u001b[01m\u001b[K__pyx_pf_12DataIterator_30InteractionAndNegativeIterator_6__next__\u001b[m\u001b[K’:\r\n",
      "\u001b[01m\u001b[KDataIterator.c:25499:22:\u001b[m\u001b[K \u001b[01;35m\u001b[Kwarning: \u001b[m\u001b[K‘\u001b[01m\u001b[K__pyx_v_i_batch\u001b[m\u001b[K’ may be used uninitialized in this function [\u001b[01;35m\u001b[K\u001b]8;;https://gcc.gnu.org/onlinedocs/gcc/Warning-Options.html#index-Wmaybe-uninitialized\u0007-Wmaybe-uninitialized\u001b]8;;\u0007\u001b[m\u001b[K]\r\n",
      "25499 |     (__pyx_v_i_batch \u001b[01;35m\u001b[K+\u001b[m\u001b[K 1),\r\n",
      "      |                      \u001b[01;35m\u001b[K^\u001b[m\u001b[K\r\n",
      "\u001b[01m\u001b[KDataIterator.c:\u001b[m\u001b[K In function ‘\u001b[01m\u001b[K__pyx_pf_12DataIterator_11BPRIterator_6__next__\u001b[m\u001b[K’:\r\n",
      "\u001b[01m\u001b[KDataIterator.c:23056:22:\u001b[m\u001b[K \u001b[01;35m\u001b[Kwarning: \u001b[m\u001b[K‘\u001b[01m\u001b[K__pyx_v_i_batch\u001b[m\u001b[K’ may be used uninitialized in this function [\u001b[01;35m\u001b[K\u001b]8;;https://gcc.gnu.org/onlinedocs/gcc/Warning-Options.html#index-Wmaybe-uninitialized\u0007-Wmaybe-uninitialized\u001b]8;;\u0007\u001b[m\u001b[K]\r\n",
      "23056 |     (__pyx_v_i_batch \u001b[01;35m\u001b[K+\u001b[m\u001b[K 1),\r\n",
      "      |                      \u001b[01;35m\u001b[K^\u001b[m\u001b[K\r\n",
      "/usr/local/lib/python3.10/dist-packages/Cython/Compiler/Main.py:381: FutureWarning: Cython directive 'language_level' not set, using '3str' for now (Py3). This has changed from earlier releases! File: /kaggle/working/RECsys_Challenge2024/Utils/PyTorch/Cython/DataIterator.pyx\r\n",
      "  tree = Parsing.p_module(s, pxd, full_module_name)\r\n",
      "Compiling [11/11]: DataIterator.pyx... PASS\r\n",
      "\r\n",
      "run_compile_all_cython: Compilation finished. FAILS 2/11.\r\n",
      "Compilation log can be found here: './result_experiments/run_compile_all_cython.txt'\r\n"
     ]
    }
   ],
   "source": [
    "%cd /kaggle/working/RECsys_Challenge2024 \n",
    "! python run_compile_all_cython.py"
   ]
  },
  {
   "cell_type": "code",
   "execution_count": 5,
   "id": "782f38c6",
   "metadata": {
    "execution": {
     "iopub.execute_input": "2025-01-05T21:34:34.477087Z",
     "iopub.status.busy": "2025-01-05T21:34:34.476732Z",
     "iopub.status.idle": "2025-01-05T21:34:35.837579Z",
     "shell.execute_reply": "2025-01-05T21:34:35.836463Z"
    },
    "papermill": {
     "duration": 1.378187,
     "end_time": "2025-01-05T21:34:35.839725",
     "exception": false,
     "start_time": "2025-01-05T21:34:34.461538",
     "status": "completed"
    },
    "tags": []
   },
   "outputs": [],
   "source": [
    "from Utils.notebookFunctions import *\n",
    "import numpy as np\n",
    "import pandas as pd\n",
    "import scipy.sparse as sps\n",
    "import time\n",
    "import shutil\n",
    "import optuna\n",
    "import json\n",
    "import os\n",
    "from Utils.seconds_to_biggest_unit import seconds_to_biggest_unit\n",
    "\n",
    "\n",
    "K_PATH = '/kaggle/working/RECsys_Challenge2024'\n",
    "GH_PATH = 'TrainedModels/WithKFCV/KNN'\n",
    "\n",
    "np.random.seed(42)"
   ]
  },
  {
   "cell_type": "markdown",
   "id": "74b79e8c",
   "metadata": {
    "papermill": {
     "duration": 0.013805,
     "end_time": "2025-01-05T21:34:35.868789",
     "exception": false,
     "start_time": "2025-01-05T21:34:35.854984",
     "status": "completed"
    },
    "tags": []
   },
   "source": [
    "## Import the repository **RECsys_Challenge2024**"
   ]
  },
  {
   "cell_type": "code",
   "execution_count": 6,
   "id": "7b26a236",
   "metadata": {
    "execution": {
     "iopub.execute_input": "2025-01-05T21:34:35.898417Z",
     "iopub.status.busy": "2025-01-05T21:34:35.897889Z",
     "iopub.status.idle": "2025-01-05T21:34:36.180326Z",
     "shell.execute_reply": "2025-01-05T21:34:36.178574Z"
    },
    "papermill": {
     "duration": 0.299608,
     "end_time": "2025-01-05T21:34:36.182476",
     "exception": false,
     "start_time": "2025-01-05T21:34:35.882868",
     "status": "completed"
    },
    "tags": []
   },
   "outputs": [
    {
     "name": "stdout",
     "output_type": "stream",
     "text": [
      "Repository 'RECsys_Challenge2024' found.\n"
     ]
    }
   ],
   "source": [
    "repo = get_repo_from_github(token)"
   ]
  },
  {
   "cell_type": "code",
   "execution_count": 7,
   "id": "25c7e2ca",
   "metadata": {
    "execution": {
     "iopub.execute_input": "2025-01-05T21:34:36.213619Z",
     "iopub.status.busy": "2025-01-05T21:34:36.213203Z",
     "iopub.status.idle": "2025-01-05T21:34:36.218214Z",
     "shell.execute_reply": "2025-01-05T21:34:36.216871Z"
    },
    "papermill": {
     "duration": 0.022607,
     "end_time": "2025-01-05T21:34:36.220176",
     "exception": false,
     "start_time": "2025-01-05T21:34:36.197569",
     "status": "completed"
    },
    "tags": []
   },
   "outputs": [],
   "source": [
    "config = {\n",
    "    'model': 'ItemKNNCF',\n",
    "    'n_folds': 5,\n",
    "    'metric': 'Recall',\n",
    "    'tune_parameters': True,\n",
    "    'database_path': '/kaggle/working/history_ItemKNNCF_Recall.db',\n",
    "    'copy_prev_best_params': False,\n",
    "    'tune_best_params': True,\n",
    "    'save_github': True\n",
    "}"
   ]
  },
  {
   "cell_type": "markdown",
   "id": "36b1d1bc",
   "metadata": {
    "papermill": {
     "duration": 0.014322,
     "end_time": "2025-01-05T21:34:36.249779",
     "exception": false,
     "start_time": "2025-01-05T21:34:36.235457",
     "status": "completed"
    },
    "tags": []
   },
   "source": [
    "Import the database where previous tuning trials have been saved."
   ]
  },
  {
   "cell_type": "code",
   "execution_count": 8,
   "id": "7a84e622",
   "metadata": {
    "execution": {
     "iopub.execute_input": "2025-01-05T21:34:36.280341Z",
     "iopub.status.busy": "2025-01-05T21:34:36.279949Z",
     "iopub.status.idle": "2025-01-05T21:34:36.285873Z",
     "shell.execute_reply": "2025-01-05T21:34:36.284807Z"
    },
    "papermill": {
     "duration": 0.023253,
     "end_time": "2025-01-05T21:34:36.287675",
     "exception": false,
     "start_time": "2025-01-05T21:34:36.264422",
     "status": "completed"
    },
    "tags": []
   },
   "outputs": [],
   "source": [
    "try:\n",
    "    shutil.copyfile(\n",
    "        f'{K_PATH}/{GH_PATH}/{config[\"model\"]}Recommender/Optimizing{config[\"metric\"]}/history_{config[\"model\"]}_{config[\"metric\"]}.db', \n",
    "        config['database_path']\n",
    "    )\n",
    "except FileNotFoundError:\n",
    "    pass # if not present optuna will create it"
   ]
  },
  {
   "cell_type": "markdown",
   "id": "0d2468a7",
   "metadata": {
    "papermill": {
     "duration": 0.014238,
     "end_time": "2025-01-05T21:34:36.316730",
     "exception": false,
     "start_time": "2025-01-05T21:34:36.302492",
     "status": "completed"
    },
    "tags": []
   },
   "source": [
    "# Construction of URM and ICM matrices"
   ]
  },
  {
   "cell_type": "code",
   "execution_count": 9,
   "id": "f98cf79e",
   "metadata": {
    "execution": {
     "iopub.execute_input": "2025-01-05T21:34:36.347112Z",
     "iopub.status.busy": "2025-01-05T21:34:36.346774Z",
     "iopub.status.idle": "2025-01-05T21:34:37.211156Z",
     "shell.execute_reply": "2025-01-05T21:34:37.210123Z"
    },
    "papermill": {
     "duration": 0.881681,
     "end_time": "2025-01-05T21:34:37.212886",
     "exception": false,
     "start_time": "2025-01-05T21:34:36.331205",
     "status": "completed"
    },
    "tags": []
   },
   "outputs": [
    {
     "data": {
      "text/plain": [
       "<35736x38121 sparse matrix of type '<class 'numpy.float64'>'\n",
       "\twith 1764607 stored elements in Compressed Sparse Row format>"
      ]
     },
     "execution_count": 9,
     "metadata": {},
     "output_type": "execute_result"
    }
   ],
   "source": [
    "URM_all_dataframe = pd.read_csv(\"/kaggle/input/recommender-system-2024-challenge-polimi/data_train.csv\")\n",
    "\n",
    "n_users = len(URM_all_dataframe[\"user_id\"].unique())\n",
    "n_items = len(URM_all_dataframe[\"item_id\"].unique())\n",
    "\n",
    "URM_all = sps.csr_matrix((URM_all_dataframe[\"data\"].values, \n",
    "                          (URM_all_dataframe[\"user_id\"].values, URM_all_dataframe[\"item_id\"].values)),\n",
    "                        shape = (n_users, n_items))\n",
    "\n",
    "URM_all"
   ]
  },
  {
   "cell_type": "code",
   "execution_count": 10,
   "id": "29ffdde7",
   "metadata": {
    "execution": {
     "iopub.execute_input": "2025-01-05T21:34:37.243316Z",
     "iopub.status.busy": "2025-01-05T21:34:37.242926Z",
     "iopub.status.idle": "2025-01-05T21:34:38.492130Z",
     "shell.execute_reply": "2025-01-05T21:34:38.490969Z"
    },
    "papermill": {
     "duration": 1.266525,
     "end_time": "2025-01-05T21:34:38.493987",
     "exception": false,
     "start_time": "2025-01-05T21:34:37.227462",
     "status": "completed"
    },
    "tags": []
   },
   "outputs": [
    {
     "data": {
      "text/plain": [
       "<38121x94331 sparse matrix of type '<class 'numpy.float64'>'\n",
       "\twith 2940040 stored elements in Compressed Sparse Row format>"
      ]
     },
     "execution_count": 10,
     "metadata": {},
     "output_type": "execute_result"
    }
   ],
   "source": [
    "ICM_dataframe = pd.read_csv(\"/kaggle/input/recommender-system-2024-challenge-polimi/data_ICM_metadata.csv\")\n",
    "\n",
    "n_items = len(ICM_dataframe[\"item_id\"].unique())\n",
    "n_features = len(ICM_dataframe[\"feature_id\"].unique())\n",
    "\n",
    "ICM_all = sps.csr_matrix((ICM_dataframe[\"data\"].values, \n",
    "                          (ICM_dataframe[\"item_id\"].values, ICM_dataframe[\"feature_id\"].values)),\n",
    "                        shape = (n_items, n_features))\n",
    "\n",
    "ICM_all"
   ]
  },
  {
   "cell_type": "markdown",
   "id": "8ec50e81",
   "metadata": {
    "papermill": {
     "duration": 0.014908,
     "end_time": "2025-01-05T21:34:38.523946",
     "exception": false,
     "start_time": "2025-01-05T21:34:38.509038",
     "status": "completed"
    },
    "tags": []
   },
   "source": [
    "# Training"
   ]
  },
  {
   "cell_type": "code",
   "execution_count": 11,
   "id": "3265c081",
   "metadata": {
    "execution": {
     "iopub.execute_input": "2025-01-05T21:34:38.554921Z",
     "iopub.status.busy": "2025-01-05T21:34:38.554571Z",
     "iopub.status.idle": "2025-01-05T21:34:56.214806Z",
     "shell.execute_reply": "2025-01-05T21:34:56.213560Z"
    },
    "papermill": {
     "duration": 17.678034,
     "end_time": "2025-01-05T21:34:56.216797",
     "exception": false,
     "start_time": "2025-01-05T21:34:38.538763",
     "status": "completed"
    },
    "tags": []
   },
   "outputs": [
    {
     "name": "stdout",
     "output_type": "stream",
     "text": [
      "Warning: 141 (0.39 %) of 35736 users have no sampled items\n"
     ]
    }
   ],
   "source": [
    "from Evaluation.Evaluator import EvaluatorHoldout\n",
    "from Data_manager.split_functions.split_train_validation_random_holdout import split_train_in_two_percentage_global_sample\n",
    "from Data_manager.split_functions.split_train_k_folds import split_train_k_folds\n",
    "\n",
    "URM_train, URM_validation = split_train_in_two_percentage_global_sample(URM_all, train_percentage = 0.80)\n",
    "\n",
    "folds = split_train_k_folds(URM_all, k=config['n_folds'])"
   ]
  },
  {
   "cell_type": "code",
   "execution_count": 12,
   "id": "1d687ab6",
   "metadata": {
    "execution": {
     "iopub.execute_input": "2025-01-05T21:34:56.248149Z",
     "iopub.status.busy": "2025-01-05T21:34:56.247800Z",
     "iopub.status.idle": "2025-01-05T21:34:56.265680Z",
     "shell.execute_reply": "2025-01-05T21:34:56.264605Z"
    },
    "papermill": {
     "duration": 0.035816,
     "end_time": "2025-01-05T21:34:56.267819",
     "exception": false,
     "start_time": "2025-01-05T21:34:56.232003",
     "status": "completed"
    },
    "tags": []
   },
   "outputs": [],
   "source": [
    "from Recommenders.KNN.ItemKNNCFRecommender import ItemKNNCFRecommender\n",
    "\n",
    "def objective_function_ItemKNNCF(optuna_trial):\n",
    "    \n",
    "    recommender_instance = ItemKNNCFRecommender(URM_train)\n",
    "    similarity = optuna_trial.suggest_categorical(\"similarity\", ['cosine', 'dice', 'jaccard', 'asymmetric', 'tversky', 'euclidean'])\n",
    "    \n",
    "    full_hyperp = {\"similarity\": similarity,\n",
    "                   \"topK\": optuna_trial.suggest_int(\"topK\", 0, 750),\n",
    "                   \"shrink\": optuna_trial.suggest_int(\"shrink\", 0, 1000),\n",
    "                   'feature_weighting': optuna_trial.suggest_categorical('feature_weighting', [\"BM25\", \"TF-IDF\", \"none\"])\n",
    "                  }\n",
    "    \n",
    "    if similarity == \"asymmetric\":\n",
    "        full_hyperp[\"asymmetric_alpha\"] = optuna_trial.suggest_float(\"asymmetric_alpha\", 0, 2, log=False)\n",
    "        full_hyperp[\"normalize\"] = True     \n",
    "\n",
    "    elif similarity == \"tversky\":\n",
    "        full_hyperp[\"tversky_alpha\"] = optuna_trial.suggest_float(\"tversky_alpha\", 0, 2, log=False)\n",
    "        full_hyperp[\"tversky_beta\"] = optuna_trial.suggest_float(\"tversky_beta\", 0, 2, log=False)\n",
    "        full_hyperp[\"normalize\"] = True \n",
    "\n",
    "    elif similarity == \"euclidean\":\n",
    "        full_hyperp[\"normalize_avg_row\"] = optuna_trial.suggest_categorical(\"normalize_avg_row\", [True, False])\n",
    "        full_hyperp[\"similarity_from_distance_mode\"] = optuna_trial.suggest_categorical(\"similarity_from_distance_mode\", [\"lin\", \"log\", \"exp\"])\n",
    "        full_hyperp[\"normalize\"] = optuna_trial.suggest_categorical(\"normalize\", [True, False])\n",
    "        \n",
    "    \n",
    "    validation_results = []\n",
    "    \n",
    "    for fold_idx, (URM_train_fold, URM_validation_fold) in enumerate(folds):\n",
    "    \n",
    "        recommender_instance = ItemKNNCFRecommender(URM_train_fold)\n",
    "        recommender_instance.fit(**full_hyperp)\n",
    "        \n",
    "        evaluator = EvaluatorHoldout(URM_validation_fold, cutoff_list=[50])\n",
    "        result_df, _ = evaluator.evaluateRecommender(recommender_instance)\n",
    "        \n",
    "        validation_results.append(result_df.loc[50][\"RECALL\"])\n",
    "    \n",
    "    return np.mean(validation_results)"
   ]
  },
  {
   "cell_type": "code",
   "execution_count": 13,
   "id": "f8a67be5",
   "metadata": {
    "_kg_hide-output": true,
    "execution": {
     "iopub.execute_input": "2025-01-05T21:34:56.300424Z",
     "iopub.status.busy": "2025-01-05T21:34:56.300022Z",
     "iopub.status.idle": "2025-01-06T08:39:02.403617Z",
     "shell.execute_reply": "2025-01-06T08:39:02.402450Z"
    },
    "papermill": {
     "duration": 39846.227847,
     "end_time": "2025-01-06T08:39:02.511826",
     "exception": false,
     "start_time": "2025-01-05T21:34:56.283979",
     "status": "completed"
    },
    "tags": []
   },
   "outputs": [
    {
     "name": "stderr",
     "output_type": "stream",
     "text": [
      "[I 2025-01-05 21:34:57,248] Using an existing study with name 'hyperparameters_tuning_ItemKNNCF_Recall' instead of creating a new one.\n"
     ]
    },
    {
     "name": "stdout",
     "output_type": "stream",
     "text": [
      "Similarity column 38121 (100.0%), 2876.68 column/sec. Elapsed time 13.25 sec\n",
      "EvaluatorHoldout: Ignoring 173 ( 0.5%) Users that have less than 1 test interactions\n",
      "EvaluatorHoldout: Processed 35563 (100.0%) in 38.45 sec. Users per second: 925\n",
      "Similarity column 38121 (100.0%), 2836.42 column/sec. Elapsed time 13.44 sec\n",
      "EvaluatorHoldout: Ignoring 163 ( 0.5%) Users that have less than 1 test interactions\n",
      "EvaluatorHoldout: Processed 35573 (100.0%) in 38.44 sec. Users per second: 925\n",
      "Similarity column 38121 (100.0%), 2928.42 column/sec. Elapsed time 13.02 sec\n",
      "EvaluatorHoldout: Ignoring 150 ( 0.4%) Users that have less than 1 test interactions\n",
      "EvaluatorHoldout: Processed 35586 (100.0%) in 38.45 sec. Users per second: 925\n",
      "Similarity column 38121 (100.0%), 2901.75 column/sec. Elapsed time 13.14 sec\n",
      "EvaluatorHoldout: Ignoring 167 ( 0.5%) Users that have less than 1 test interactions\n",
      "EvaluatorHoldout: Processed 35569 (100.0%) in 38.34 sec. Users per second: 928\n",
      "Similarity column 38121 (100.0%), 2916.95 column/sec. Elapsed time 13.07 sec\n",
      "EvaluatorHoldout: Ignoring 172 ( 0.5%) Users that have less than 1 test interactions\n",
      "EvaluatorHoldout: Processed 35564 (100.0%) in 38.58 sec. Users per second: 922\n"
     ]
    },
    {
     "name": "stderr",
     "output_type": "stream",
     "text": [
      "[I 2025-01-05 21:39:17,413] Trial 350 finished with value: 0.2591413763276285 and parameters: {'similarity': 'cosine', 'topK': 44, 'shrink': 328, 'feature_weighting': 'TF-IDF'}. Best is trial 172 with value: 0.26030777685753526.\n"
     ]
    },
    {
     "name": "stdout",
     "output_type": "stream",
     "text": [
      "Similarity column 38121 (100.0%), 2943.08 column/sec. Elapsed time 12.95 sec\n",
      "EvaluatorHoldout: Ignoring 173 ( 0.5%) Users that have less than 1 test interactions\n",
      "EvaluatorHoldout: Processed 35563 (100.0%) in 35.95 sec. Users per second: 989\n",
      "Similarity column 38121 (100.0%), 2933.34 column/sec. Elapsed time 13.00 sec\n",
      "EvaluatorHoldout: Ignoring 163 ( 0.5%) Users that have less than 1 test interactions\n",
      "EvaluatorHoldout: Processed 35573 (100.0%) in 36.07 sec. Users per second: 986\n",
      "Similarity column 38121 (100.0%), 2959.48 column/sec. Elapsed time 12.88 sec\n",
      "EvaluatorHoldout: Ignoring 150 ( 0.4%) Users that have less than 1 test interactions\n",
      "EvaluatorHoldout: Processed 35586 (100.0%) in 35.97 sec. Users per second: 989\n",
      "Similarity column 38121 (100.0%), 2944.15 column/sec. Elapsed time 12.95 sec\n",
      "EvaluatorHoldout: Ignoring 167 ( 0.5%) Users that have less than 1 test interactions\n",
      "EvaluatorHoldout: Processed 35569 (100.0%) in 35.99 sec. Users per second: 988\n",
      "Similarity column 38121 (100.0%), 2945.88 column/sec. Elapsed time 12.94 sec\n",
      "EvaluatorHoldout: Ignoring 172 ( 0.5%) Users that have less than 1 test interactions\n",
      "EvaluatorHoldout: Processed 35564 (100.0%) in 36.00 sec. Users per second: 988\n"
     ]
    },
    {
     "name": "stderr",
     "output_type": "stream",
     "text": [
      "[I 2025-01-05 21:43:23,546] Trial 351 finished with value: 0.2599697764094289 and parameters: {'similarity': 'cosine', 'topK': 16, 'shrink': 385, 'feature_weighting': 'TF-IDF'}. Best is trial 172 with value: 0.26030777685753526.\n"
     ]
    },
    {
     "name": "stdout",
     "output_type": "stream",
     "text": [
      "Similarity column 38121 (100.0%), 2921.86 column/sec. Elapsed time 13.05 sec\n",
      "EvaluatorHoldout: Ignoring 173 ( 0.5%) Users that have less than 1 test interactions\n",
      "EvaluatorHoldout: Processed 35563 (100.0%) in 37.46 sec. Users per second: 949\n",
      "Similarity column 38121 (100.0%), 2916.91 column/sec. Elapsed time 13.07 sec\n",
      "EvaluatorHoldout: Ignoring 163 ( 0.5%) Users that have less than 1 test interactions\n",
      "EvaluatorHoldout: Processed 35573 (100.0%) in 37.68 sec. Users per second: 944\n",
      "Similarity column 38121 (100.0%), 2926.58 column/sec. Elapsed time 13.03 sec\n",
      "EvaluatorHoldout: Ignoring 150 ( 0.4%) Users that have less than 1 test interactions\n",
      "EvaluatorHoldout: Processed 35586 (100.0%) in 37.71 sec. Users per second: 944\n",
      "Similarity column 38121 (100.0%), 2915.06 column/sec. Elapsed time 13.08 sec\n",
      "EvaluatorHoldout: Ignoring 167 ( 0.5%) Users that have less than 1 test interactions\n",
      "EvaluatorHoldout: Processed 35569 (100.0%) in 37.34 sec. Users per second: 952\n",
      "Similarity column 38121 (100.0%), 2921.90 column/sec. Elapsed time 13.05 sec\n",
      "EvaluatorHoldout: Ignoring 172 ( 0.5%) Users that have less than 1 test interactions\n",
      "EvaluatorHoldout: Processed 35564 (100.0%) in 37.64 sec. Users per second: 945\n"
     ]
    },
    {
     "name": "stderr",
     "output_type": "stream",
     "text": [
      "[I 2025-01-05 21:47:38,275] Trial 352 finished with value: 0.2599035287571607 and parameters: {'similarity': 'cosine', 'topK': 33, 'shrink': 363, 'feature_weighting': 'TF-IDF'}. Best is trial 172 with value: 0.26030777685753526.\n"
     ]
    },
    {
     "name": "stdout",
     "output_type": "stream",
     "text": [
      "Similarity column 38121 (100.0%), 2775.84 column/sec. Elapsed time 13.73 sec\n",
      "EvaluatorHoldout: Ignoring 173 ( 0.5%) Users that have less than 1 test interactions\n",
      "EvaluatorHoldout: Processed 35563 (100.0%) in 54.97 sec. Users per second: 647\n",
      "Similarity column 38121 (100.0%), 2779.31 column/sec. Elapsed time 13.72 sec\n",
      "EvaluatorHoldout: Ignoring 163 ( 0.5%) Users that have less than 1 test interactions\n",
      "EvaluatorHoldout: Processed 35573 (100.0%) in 54.90 sec. Users per second: 648\n",
      "Similarity column 38121 (100.0%), 2793.56 column/sec. Elapsed time 13.65 sec\n",
      "EvaluatorHoldout: Ignoring 150 ( 0.4%) Users that have less than 1 test interactions\n",
      "EvaluatorHoldout: Processed 35586 (100.0%) in 54.56 sec. Users per second: 652\n",
      "Similarity column 38121 (100.0%), 2800.26 column/sec. Elapsed time 13.61 sec\n",
      "EvaluatorHoldout: Ignoring 167 ( 0.5%) Users that have less than 1 test interactions\n",
      "EvaluatorHoldout: Processed 35569 (100.0%) in 54.90 sec. Users per second: 648\n",
      "Similarity column 38121 (100.0%), 2793.53 column/sec. Elapsed time 13.65 sec\n",
      "EvaluatorHoldout: Ignoring 172 ( 0.5%) Users that have less than 1 test interactions\n",
      "EvaluatorHoldout: Processed 35564 (100.0%) in 54.74 sec. Users per second: 650\n"
     ]
    },
    {
     "name": "stderr",
     "output_type": "stream",
     "text": [
      "[I 2025-01-05 21:53:26,362] Trial 353 finished with value: 0.24912732627669434 and parameters: {'similarity': 'cosine', 'topK': 596, 'shrink': 412, 'feature_weighting': 'TF-IDF'}. Best is trial 172 with value: 0.26030777685753526.\n"
     ]
    },
    {
     "name": "stdout",
     "output_type": "stream",
     "text": [
      "Similarity column 38121 (100.0%), 2928.87 column/sec. Elapsed time 13.02 sec\n",
      "EvaluatorHoldout: Ignoring 173 ( 0.5%) Users that have less than 1 test interactions\n",
      "EvaluatorHoldout: Processed 35563 (100.0%) in 38.95 sec. Users per second: 913\n",
      "Similarity column 38121 (100.0%), 2927.50 column/sec. Elapsed time 13.02 sec\n",
      "EvaluatorHoldout: Ignoring 163 ( 0.5%) Users that have less than 1 test interactions\n",
      "EvaluatorHoldout: Processed 35573 (100.0%) in 39.12 sec. Users per second: 909\n",
      "Similarity column 38121 (100.0%), 2935.10 column/sec. Elapsed time 12.99 sec\n",
      "EvaluatorHoldout: Ignoring 150 ( 0.4%) Users that have less than 1 test interactions\n",
      "EvaluatorHoldout: Processed 35586 (100.0%) in 38.96 sec. Users per second: 913\n",
      "Similarity column 38121 (100.0%), 2914.92 column/sec. Elapsed time 13.08 sec\n",
      "EvaluatorHoldout: Ignoring 167 ( 0.5%) Users that have less than 1 test interactions\n",
      "EvaluatorHoldout: Processed 35569 (100.0%) in 39.01 sec. Users per second: 912\n",
      "Similarity column 38121 (100.0%), 2918.81 column/sec. Elapsed time 13.06 sec\n",
      "EvaluatorHoldout: Ignoring 172 ( 0.5%) Users that have less than 1 test interactions\n",
      "EvaluatorHoldout: Processed 35564 (100.0%) in 39.00 sec. Users per second: 912\n"
     ]
    },
    {
     "name": "stderr",
     "output_type": "stream",
     "text": [
      "[I 2025-01-05 21:57:48,299] Trial 354 finished with value: 0.25853454670141957 and parameters: {'similarity': 'cosine', 'topK': 51, 'shrink': 590, 'feature_weighting': 'TF-IDF'}. Best is trial 172 with value: 0.26030777685753526.\n"
     ]
    },
    {
     "name": "stdout",
     "output_type": "stream",
     "text": [
      "Similarity column 38121 (100.0%), 3720.71 column/sec. Elapsed time 10.25 sec\n",
      "EvaluatorHoldout: Ignoring 173 ( 0.5%) Users that have less than 1 test interactions\n",
      "EvaluatorHoldout: Processed 35563 (100.0%) in 27.39 sec. Users per second: 1298\n",
      "Similarity column 38121 (100.0%), 3765.61 column/sec. Elapsed time 10.12 sec\n",
      "EvaluatorHoldout: Ignoring 163 ( 0.5%) Users that have less than 1 test interactions\n",
      "EvaluatorHoldout: Processed 35573 (100.0%) in 27.64 sec. Users per second: 1287\n",
      "Similarity column 38121 (100.0%), 3766.78 column/sec. Elapsed time 10.12 sec\n",
      "EvaluatorHoldout: Ignoring 150 ( 0.4%) Users that have less than 1 test interactions\n",
      "EvaluatorHoldout: Processed 35586 (100.0%) in 27.61 sec. Users per second: 1289\n",
      "Similarity column 38121 (100.0%), 3780.08 column/sec. Elapsed time 10.08 sec\n",
      "EvaluatorHoldout: Ignoring 167 ( 0.5%) Users that have less than 1 test interactions\n",
      "EvaluatorHoldout: Processed 35569 (100.0%) in 27.42 sec. Users per second: 1297\n",
      "Similarity column 38121 (100.0%), 3777.34 column/sec. Elapsed time 10.09 sec\n",
      "EvaluatorHoldout: Ignoring 172 ( 0.5%) Users that have less than 1 test interactions\n",
      "EvaluatorHoldout: Processed 35564 (100.0%) in 27.88 sec. Users per second: 1276\n"
     ]
    },
    {
     "name": "stderr",
     "output_type": "stream",
     "text": [
      "[I 2025-01-05 22:00:58,236] Trial 355 finished with value: 0.0055265346604531345 and parameters: {'similarity': 'cosine', 'topK': 0, 'shrink': 488, 'feature_weighting': 'TF-IDF'}. Best is trial 172 with value: 0.26030777685753526.\n"
     ]
    },
    {
     "name": "stdout",
     "output_type": "stream",
     "text": [
      "Similarity column 38121 (100.0%), 2923.88 column/sec. Elapsed time 13.04 sec\n",
      "EvaluatorHoldout: Ignoring 173 ( 0.5%) Users that have less than 1 test interactions\n",
      "EvaluatorHoldout: Processed 35563 (100.0%) in 36.58 sec. Users per second: 972\n",
      "Similarity column 38121 (100.0%), 2950.00 column/sec. Elapsed time 12.92 sec\n",
      "EvaluatorHoldout: Ignoring 163 ( 0.5%) Users that have less than 1 test interactions\n",
      "EvaluatorHoldout: Processed 35573 (100.0%) in 36.95 sec. Users per second: 963\n",
      "Similarity column 38121 (100.0%), 2950.72 column/sec. Elapsed time 12.92 sec\n",
      "EvaluatorHoldout: Ignoring 150 ( 0.4%) Users that have less than 1 test interactions\n",
      "EvaluatorHoldout: Processed 35586 (100.0%) in 36.81 sec. Users per second: 967\n",
      "Similarity column 38121 (100.0%), 2948.78 column/sec. Elapsed time 12.93 sec\n",
      "EvaluatorHoldout: Ignoring 167 ( 0.5%) Users that have less than 1 test interactions\n",
      "EvaluatorHoldout: Processed 35569 (100.0%) in 36.63 sec. Users per second: 971\n",
      "Similarity column 38121 (100.0%), 2942.79 column/sec. Elapsed time 12.95 sec\n",
      "EvaluatorHoldout: Ignoring 172 ( 0.5%) Users that have less than 1 test interactions\n",
      "EvaluatorHoldout: Processed 35564 (100.0%) in 36.77 sec. Users per second: 967\n"
     ]
    },
    {
     "name": "stderr",
     "output_type": "stream",
     "text": [
      "[I 2025-01-05 22:05:08,279] Trial 356 finished with value: 0.2602479563416023 and parameters: {'similarity': 'cosine', 'topK': 22, 'shrink': 426, 'feature_weighting': 'TF-IDF'}. Best is trial 172 with value: 0.26030777685753526.\n"
     ]
    },
    {
     "name": "stdout",
     "output_type": "stream",
     "text": [
      "Similarity column 38121 (100.0%), 2908.18 column/sec. Elapsed time 13.11 sec\n",
      "EvaluatorHoldout: Ignoring 173 ( 0.5%) Users that have less than 1 test interactions\n",
      "EvaluatorHoldout: Processed 35563 (100.0%) in 40.29 sec. Users per second: 883\n",
      "Similarity column 38121 (100.0%), 2921.03 column/sec. Elapsed time 13.05 sec\n",
      "EvaluatorHoldout: Ignoring 163 ( 0.5%) Users that have less than 1 test interactions\n",
      "EvaluatorHoldout: Processed 35573 (100.0%) in 40.33 sec. Users per second: 882\n",
      "Similarity column 38121 (100.0%), 2912.11 column/sec. Elapsed time 13.09 sec\n",
      "EvaluatorHoldout: Ignoring 150 ( 0.4%) Users that have less than 1 test interactions\n",
      "EvaluatorHoldout: Processed 35586 (100.0%) in 40.38 sec. Users per second: 881\n",
      "Similarity column 38121 (100.0%), 2907.64 column/sec. Elapsed time 13.11 sec\n",
      "EvaluatorHoldout: Ignoring 167 ( 0.5%) Users that have less than 1 test interactions\n",
      "EvaluatorHoldout: Processed 35569 (100.0%) in 40.25 sec. Users per second: 884\n",
      "Similarity column 38121 (100.0%), 2923.54 column/sec. Elapsed time 13.04 sec\n",
      "EvaluatorHoldout: Ignoring 172 ( 0.5%) Users that have less than 1 test interactions\n",
      "EvaluatorHoldout: Processed 35564 (100.0%) in 40.24 sec. Users per second: 884\n"
     ]
    },
    {
     "name": "stderr",
     "output_type": "stream",
     "text": [
      "[I 2025-01-05 22:09:37,032] Trial 357 finished with value: 0.2570647641626406 and parameters: {'similarity': 'cosine', 'topK': 76, 'shrink': 446, 'feature_weighting': 'TF-IDF'}. Best is trial 172 with value: 0.26030777685753526.\n"
     ]
    },
    {
     "name": "stdout",
     "output_type": "stream",
     "text": [
      "Similarity column 38121 (100.0%), 2943.80 column/sec. Elapsed time 12.95 sec\n",
      "EvaluatorHoldout: Ignoring 173 ( 0.5%) Users that have less than 1 test interactions\n",
      "EvaluatorHoldout: Processed 35563 (100.0%) in 38.03 sec. Users per second: 935\n",
      "Similarity column 38121 (100.0%), 2925.81 column/sec. Elapsed time 13.03 sec\n",
      "EvaluatorHoldout: Ignoring 163 ( 0.5%) Users that have less than 1 test interactions\n",
      "EvaluatorHoldout: Processed 35573 (100.0%) in 37.78 sec. Users per second: 942\n",
      "Similarity column 38121 (100.0%), 2900.29 column/sec. Elapsed time 13.14 sec\n",
      "EvaluatorHoldout: Ignoring 150 ( 0.4%) Users that have less than 1 test interactions\n",
      "EvaluatorHoldout: Processed 35586 (100.0%) in 37.80 sec. Users per second: 941\n",
      "Similarity column 38121 (100.0%), 2927.54 column/sec. Elapsed time 13.02 sec\n",
      "EvaluatorHoldout: Ignoring 167 ( 0.5%) Users that have less than 1 test interactions\n",
      "EvaluatorHoldout: Processed 35569 (100.0%) in 38.06 sec. Users per second: 935\n",
      "Similarity column 38121 (100.0%), 2940.36 column/sec. Elapsed time 12.96 sec\n",
      "EvaluatorHoldout: Ignoring 172 ( 0.5%) Users that have less than 1 test interactions\n",
      "EvaluatorHoldout: Processed 35564 (100.0%) in 38.10 sec. Users per second: 934\n"
     ]
    },
    {
     "name": "stderr",
     "output_type": "stream",
     "text": [
      "[I 2025-01-05 22:13:53,507] Trial 358 finished with value: 0.2597794014276498 and parameters: {'similarity': 'cosine', 'topK': 35, 'shrink': 429, 'feature_weighting': 'TF-IDF'}. Best is trial 172 with value: 0.26030777685753526.\n"
     ]
    },
    {
     "name": "stdout",
     "output_type": "stream",
     "text": [
      "Similarity column 38121 (100.0%), 2955.17 column/sec. Elapsed time 12.90 sec\n",
      "EvaluatorHoldout: Ignoring 173 ( 0.5%) Users that have less than 1 test interactions\n",
      "EvaluatorHoldout: Processed 35563 (100.0%) in 37.19 sec. Users per second: 956\n",
      "Similarity column 38121 (100.0%), 2925.28 column/sec. Elapsed time 13.03 sec\n",
      "EvaluatorHoldout: Ignoring 163 ( 0.5%) Users that have less than 1 test interactions\n",
      "EvaluatorHoldout: Processed 35573 (100.0%) in 37.24 sec. Users per second: 955\n",
      "Similarity column 38121 (100.0%), 2942.38 column/sec. Elapsed time 12.96 sec\n",
      "EvaluatorHoldout: Ignoring 150 ( 0.4%) Users that have less than 1 test interactions\n",
      "EvaluatorHoldout: Processed 35586 (100.0%) in 37.05 sec. Users per second: 960\n",
      "Similarity column 38121 (100.0%), 2927.25 column/sec. Elapsed time 13.02 sec\n",
      "EvaluatorHoldout: Ignoring 167 ( 0.5%) Users that have less than 1 test interactions\n",
      "EvaluatorHoldout: Processed 35569 (100.0%) in 37.08 sec. Users per second: 959\n",
      "Similarity column 38121 (100.0%), 2939.55 column/sec. Elapsed time 12.97 sec\n",
      "EvaluatorHoldout: Ignoring 172 ( 0.5%) Users that have less than 1 test interactions\n",
      "EvaluatorHoldout: Processed 35564 (100.0%) in 37.00 sec. Users per second: 961\n"
     ]
    },
    {
     "name": "stderr",
     "output_type": "stream",
     "text": [
      "[I 2025-01-05 22:18:05,484] Trial 359 finished with value: 0.26011505151287 and parameters: {'similarity': 'cosine', 'topK': 25, 'shrink': 459, 'feature_weighting': 'TF-IDF'}. Best is trial 172 with value: 0.26030777685753526.\n"
     ]
    },
    {
     "name": "stdout",
     "output_type": "stream",
     "text": [
      "Similarity column 38121 (100.0%), 2927.74 column/sec. Elapsed time 13.02 sec\n",
      "EvaluatorHoldout: Ignoring 173 ( 0.5%) Users that have less than 1 test interactions\n",
      "EvaluatorHoldout: Processed 35563 (100.0%) in 39.02 sec. Users per second: 911\n",
      "Similarity column 38121 (100.0%), 2889.11 column/sec. Elapsed time 13.19 sec\n",
      "EvaluatorHoldout: Ignoring 163 ( 0.5%) Users that have less than 1 test interactions\n",
      "EvaluatorHoldout: Processed 35573 (100.0%) in 39.10 sec. Users per second: 910\n",
      "Similarity column 38121 (100.0%), 2930.39 column/sec. Elapsed time 13.01 sec\n",
      "EvaluatorHoldout: Ignoring 150 ( 0.4%) Users that have less than 1 test interactions\n",
      "EvaluatorHoldout: Processed 35586 (100.0%) in 39.40 sec. Users per second: 903\n",
      "Similarity column 38121 (100.0%), 2917.55 column/sec. Elapsed time 13.07 sec\n",
      "EvaluatorHoldout: Ignoring 167 ( 0.5%) Users that have less than 1 test interactions\n",
      "EvaluatorHoldout: Processed 35569 (100.0%) in 39.26 sec. Users per second: 906\n",
      "Similarity column 38121 (100.0%), 2893.60 column/sec. Elapsed time 13.17 sec\n",
      "EvaluatorHoldout: Ignoring 172 ( 0.5%) Users that have less than 1 test interactions\n",
      "EvaluatorHoldout: Processed 35564 (100.0%) in 39.04 sec. Users per second: 911\n"
     ]
    },
    {
     "name": "stderr",
     "output_type": "stream",
     "text": [
      "[I 2025-01-05 22:22:28,552] Trial 360 finished with value: 0.258378248473657 and parameters: {'similarity': 'cosine', 'topK': 55, 'shrink': 421, 'feature_weighting': 'TF-IDF'}. Best is trial 172 with value: 0.26030777685753526.\n"
     ]
    },
    {
     "name": "stdout",
     "output_type": "stream",
     "text": [
      "Similarity column 38121 (100.0%), 2955.26 column/sec. Elapsed time 12.90 sec\n",
      "EvaluatorHoldout: Ignoring 173 ( 0.5%) Users that have less than 1 test interactions\n",
      "EvaluatorHoldout: Processed 35563 (100.0%) in 35.33 sec. Users per second: 1007\n",
      "Similarity column 38121 (100.0%), 2924.40 column/sec. Elapsed time 13.04 sec\n",
      "EvaluatorHoldout: Ignoring 163 ( 0.5%) Users that have less than 1 test interactions\n",
      "EvaluatorHoldout: Processed 35573 (100.0%) in 35.49 sec. Users per second: 1002\n",
      "Similarity column 38121 (100.0%), 2939.92 column/sec. Elapsed time 12.97 sec\n",
      "EvaluatorHoldout: Ignoring 150 ( 0.4%) Users that have less than 1 test interactions\n",
      "EvaluatorHoldout: Processed 35586 (100.0%) in 35.65 sec. Users per second: 998\n",
      "Similarity column 38121 (100.0%), 2918.45 column/sec. Elapsed time 13.06 sec\n",
      "EvaluatorHoldout: Ignoring 167 ( 0.5%) Users that have less than 1 test interactions\n",
      "EvaluatorHoldout: Processed 35569 (100.0%) in 35.31 sec. Users per second: 1007\n",
      "Similarity column 38121 (100.0%), 2956.77 column/sec. Elapsed time 12.89 sec\n",
      "EvaluatorHoldout: Ignoring 172 ( 0.5%) Users that have less than 1 test interactions\n",
      "EvaluatorHoldout: Processed 35564 (100.0%) in 35.62 sec. Users per second: 998\n"
     ]
    },
    {
     "name": "stderr",
     "output_type": "stream",
     "text": [
      "[I 2025-01-05 22:26:32,299] Trial 361 finished with value: 0.2593672598844204 and parameters: {'similarity': 'cosine', 'topK': 11, 'shrink': 547, 'feature_weighting': 'TF-IDF'}. Best is trial 172 with value: 0.26030777685753526.\n"
     ]
    },
    {
     "name": "stdout",
     "output_type": "stream",
     "text": [
      "Similarity column 38121 (100.0%), 2892.57 column/sec. Elapsed time 13.18 sec\n",
      "EvaluatorHoldout: Ignoring 173 ( 0.5%) Users that have less than 1 test interactions\n",
      "EvaluatorHoldout: Processed 35563 (100.0%) in 37.99 sec. Users per second: 936\n",
      "Similarity column 38121 (100.0%), 2898.25 column/sec. Elapsed time 13.15 sec\n",
      "EvaluatorHoldout: Ignoring 163 ( 0.5%) Users that have less than 1 test interactions\n",
      "EvaluatorHoldout: Processed 35573 (100.0%) in 38.24 sec. Users per second: 930\n",
      "Similarity column 38121 (100.0%), 2921.22 column/sec. Elapsed time 13.05 sec\n",
      "EvaluatorHoldout: Ignoring 150 ( 0.4%) Users that have less than 1 test interactions\n",
      "EvaluatorHoldout: Processed 35586 (100.0%) in 38.04 sec. Users per second: 935\n",
      "Similarity column 38121 (100.0%), 2898.05 column/sec. Elapsed time 13.15 sec\n",
      "EvaluatorHoldout: Ignoring 167 ( 0.5%) Users that have less than 1 test interactions\n",
      "EvaluatorHoldout: Processed 35569 (100.0%) in 38.02 sec. Users per second: 935\n",
      "Similarity column 38121 (100.0%), 2906.57 column/sec. Elapsed time 13.12 sec\n",
      "EvaluatorHoldout: Ignoring 172 ( 0.5%) Users that have less than 1 test interactions\n",
      "EvaluatorHoldout: Processed 35564 (100.0%) in 38.37 sec. Users per second: 927\n"
     ]
    },
    {
     "name": "stderr",
     "output_type": "stream",
     "text": [
      "[I 2025-01-05 22:30:50,321] Trial 362 finished with value: 0.2594305608338029 and parameters: {'similarity': 'cosine', 'topK': 40, 'shrink': 306, 'feature_weighting': 'TF-IDF'}. Best is trial 172 with value: 0.26030777685753526.\n"
     ]
    },
    {
     "name": "stdout",
     "output_type": "stream",
     "text": [
      "Similarity column 38121 (100.0%), 2932.80 column/sec. Elapsed time 13.00 sec\n",
      "EvaluatorHoldout: Ignoring 173 ( 0.5%) Users that have less than 1 test interactions\n",
      "EvaluatorHoldout: Processed 35563 (100.0%) in 36.78 sec. Users per second: 967\n",
      "Similarity column 38121 (100.0%), 2922.71 column/sec. Elapsed time 13.04 sec\n",
      "EvaluatorHoldout: Ignoring 163 ( 0.5%) Users that have less than 1 test interactions\n",
      "EvaluatorHoldout: Processed 35573 (100.0%) in 36.79 sec. Users per second: 967\n",
      "Similarity column 38121 (100.0%), 2958.35 column/sec. Elapsed time 12.89 sec\n",
      "EvaluatorHoldout: Ignoring 150 ( 0.4%) Users that have less than 1 test interactions\n",
      "EvaluatorHoldout: Processed 35586 (100.0%) in 36.88 sec. Users per second: 965\n",
      "Similarity column 38121 (100.0%), 2929.14 column/sec. Elapsed time 13.01 sec\n",
      "EvaluatorHoldout: Ignoring 167 ( 0.5%) Users that have less than 1 test interactions\n",
      "EvaluatorHoldout: Processed 35569 (100.0%) in 36.79 sec. Users per second: 967\n",
      "Similarity column 38121 (100.0%), 2950.15 column/sec. Elapsed time 12.92 sec\n",
      "EvaluatorHoldout: Ignoring 172 ( 0.5%) Users that have less than 1 test interactions\n",
      "EvaluatorHoldout: Processed 35564 (100.0%) in 36.95 sec. Users per second: 962\n"
     ]
    },
    {
     "name": "stderr",
     "output_type": "stream",
     "text": [
      "[I 2025-01-05 22:35:00,902] Trial 363 finished with value: 0.2602377722326518 and parameters: {'similarity': 'cosine', 'topK': 22, 'shrink': 481, 'feature_weighting': 'TF-IDF'}. Best is trial 172 with value: 0.26030777685753526.\n"
     ]
    },
    {
     "name": "stdout",
     "output_type": "stream",
     "text": [
      "Similarity column 38121 (100.0%), 2886.21 column/sec. Elapsed time 13.21 sec\n",
      "EvaluatorHoldout: Ignoring 173 ( 0.5%) Users that have less than 1 test interactions\n",
      "EvaluatorHoldout: Processed 35563 (100.0%) in 39.79 sec. Users per second: 894\n",
      "Similarity column 38121 (100.0%), 2877.24 column/sec. Elapsed time 13.25 sec\n",
      "EvaluatorHoldout: Ignoring 163 ( 0.5%) Users that have less than 1 test interactions\n",
      "EvaluatorHoldout: Processed 35573 (100.0%) in 39.86 sec. Users per second: 892\n",
      "Similarity column 38121 (100.0%), 2900.57 column/sec. Elapsed time 13.14 sec\n",
      "EvaluatorHoldout: Ignoring 150 ( 0.4%) Users that have less than 1 test interactions\n",
      "EvaluatorHoldout: Processed 35586 (100.0%) in 39.80 sec. Users per second: 894\n",
      "Similarity column 38121 (100.0%), 2878.35 column/sec. Elapsed time 13.24 sec\n",
      "EvaluatorHoldout: Ignoring 167 ( 0.5%) Users that have less than 1 test interactions\n",
      "EvaluatorHoldout: Processed 35569 (100.0%) in 39.70 sec. Users per second: 896\n",
      "Similarity column 38121 (100.0%), 2869.12 column/sec. Elapsed time 13.29 sec\n",
      "EvaluatorHoldout: Ignoring 172 ( 0.5%) Users that have less than 1 test interactions\n",
      "EvaluatorHoldout: Processed 35564 (100.0%) in 39.86 sec. Users per second: 892\n"
     ]
    },
    {
     "name": "stderr",
     "output_type": "stream",
     "text": [
      "[I 2025-01-05 22:39:27,135] Trial 364 finished with value: 0.21747323800604795 and parameters: {'similarity': 'cosine', 'topK': 30, 'shrink': 501, 'feature_weighting': 'none'}. Best is trial 172 with value: 0.26030777685753526.\n"
     ]
    },
    {
     "name": "stdout",
     "output_type": "stream",
     "text": [
      "Similarity column 38121 (100.0%), 2948.35 column/sec. Elapsed time 12.93 sec\n",
      "EvaluatorHoldout: Ignoring 173 ( 0.5%) Users that have less than 1 test interactions\n",
      "EvaluatorHoldout: Processed 35563 (100.0%) in 39.71 sec. Users per second: 896\n",
      "Similarity column 38121 (100.0%), 2918.68 column/sec. Elapsed time 13.06 sec\n",
      "EvaluatorHoldout: Ignoring 163 ( 0.5%) Users that have less than 1 test interactions\n",
      "EvaluatorHoldout: Processed 35573 (100.0%) in 39.77 sec. Users per second: 894\n",
      "Similarity column 38121 (100.0%), 2926.43 column/sec. Elapsed time 13.03 sec\n",
      "EvaluatorHoldout: Ignoring 150 ( 0.4%) Users that have less than 1 test interactions\n",
      "EvaluatorHoldout: Processed 35586 (100.0%) in 39.59 sec. Users per second: 899\n",
      "Similarity column 38121 (100.0%), 2922.68 column/sec. Elapsed time 13.04 sec\n",
      "EvaluatorHoldout: Ignoring 167 ( 0.5%) Users that have less than 1 test interactions\n",
      "EvaluatorHoldout: Processed 35569 (100.0%) in 39.88 sec. Users per second: 892\n",
      "Similarity column 38121 (100.0%), 2895.27 column/sec. Elapsed time 13.17 sec\n",
      "EvaluatorHoldout: Ignoring 172 ( 0.5%) Users that have less than 1 test interactions\n",
      "EvaluatorHoldout: Processed 35564 (100.0%) in 39.79 sec. Users per second: 894\n"
     ]
    },
    {
     "name": "stderr",
     "output_type": "stream",
     "text": [
      "[I 2025-01-05 22:43:52,869] Trial 365 finished with value: 0.25786216947937035 and parameters: {'similarity': 'cosine', 'topK': 64, 'shrink': 474, 'feature_weighting': 'TF-IDF'}. Best is trial 172 with value: 0.26030777685753526.\n"
     ]
    },
    {
     "name": "stdout",
     "output_type": "stream",
     "text": [
      "Similarity column 38121 (100.0%), 2925.25 column/sec. Elapsed time 13.03 sec\n",
      "EvaluatorHoldout: Ignoring 173 ( 0.5%) Users that have less than 1 test interactions\n",
      "EvaluatorHoldout: Processed 35563 (100.0%) in 38.38 sec. Users per second: 927\n",
      "Similarity column 38121 (100.0%), 2931.40 column/sec. Elapsed time 13.00 sec\n",
      "EvaluatorHoldout: Ignoring 163 ( 0.5%) Users that have less than 1 test interactions\n",
      "EvaluatorHoldout: Processed 35573 (100.0%) in 38.59 sec. Users per second: 922\n",
      "Similarity column 38121 (100.0%), 2909.60 column/sec. Elapsed time 13.10 sec\n",
      "EvaluatorHoldout: Ignoring 150 ( 0.4%) Users that have less than 1 test interactions\n",
      "EvaluatorHoldout: Processed 35586 (100.0%) in 38.73 sec. Users per second: 919\n",
      "Similarity column 38121 (100.0%), 2923.51 column/sec. Elapsed time 13.04 sec\n",
      "EvaluatorHoldout: Ignoring 167 ( 0.5%) Users that have less than 1 test interactions\n",
      "EvaluatorHoldout: Processed 35569 (100.0%) in 38.40 sec. Users per second: 926\n",
      "Similarity column 38121 (100.0%), 2888.31 column/sec. Elapsed time 13.20 sec\n",
      "EvaluatorHoldout: Ignoring 172 ( 0.5%) Users that have less than 1 test interactions\n",
      "EvaluatorHoldout: Processed 35564 (100.0%) in 38.51 sec. Users per second: 924\n"
     ]
    },
    {
     "name": "stderr",
     "output_type": "stream",
     "text": [
      "[I 2025-01-05 22:48:12,525] Trial 366 finished with value: 0.2589923283179569 and parameters: {'similarity': 'cosine', 'topK': 44, 'shrink': 513, 'feature_weighting': 'TF-IDF'}. Best is trial 172 with value: 0.26030777685753526.\n"
     ]
    },
    {
     "name": "stdout",
     "output_type": "stream",
     "text": [
      "Similarity column 38121 (100.0%), 2878.64 column/sec. Elapsed time 13.24 sec\n",
      "EvaluatorHoldout: Ignoring 173 ( 0.5%) Users that have less than 1 test interactions\n",
      "EvaluatorHoldout: Processed 35563 (100.0%) in 34.87 sec. Users per second: 1020\n",
      "Similarity column 38121 (100.0%), 2936.17 column/sec. Elapsed time 12.98 sec\n",
      "EvaluatorHoldout: Ignoring 163 ( 0.5%) Users that have less than 1 test interactions\n",
      "EvaluatorHoldout: Processed 35573 (100.0%) in 35.00 sec. Users per second: 1016\n",
      "Similarity column 38121 (100.0%), 2944.99 column/sec. Elapsed time 12.94 sec\n",
      "EvaluatorHoldout: Ignoring 150 ( 0.4%) Users that have less than 1 test interactions\n",
      "EvaluatorHoldout: Processed 35586 (100.0%) in 34.83 sec. Users per second: 1022\n",
      "Similarity column 38121 (100.0%), 2936.10 column/sec. Elapsed time 12.98 sec\n",
      "EvaluatorHoldout: Ignoring 167 ( 0.5%) Users that have less than 1 test interactions\n",
      "EvaluatorHoldout: Processed 35569 (100.0%) in 35.02 sec. Users per second: 1016\n",
      "Similarity column 38121 (100.0%), 2909.90 column/sec. Elapsed time 13.10 sec\n",
      "EvaluatorHoldout: Ignoring 172 ( 0.5%) Users that have less than 1 test interactions\n",
      "EvaluatorHoldout: Processed 35564 (100.0%) in 35.03 sec. Users per second: 1015\n"
     ]
    },
    {
     "name": "stderr",
     "output_type": "stream",
     "text": [
      "[I 2025-01-05 22:52:14,037] Trial 367 finished with value: 0.22930192799671553 and parameters: {'similarity': 'cosine', 'topK': 11, 'shrink': 474, 'feature_weighting': 'BM25'}. Best is trial 172 with value: 0.26030777685753526.\n"
     ]
    },
    {
     "name": "stdout",
     "output_type": "stream",
     "text": [
      "Similarity column 38121 (100.0%), 2734.95 column/sec. Elapsed time 13.94 sec\n",
      "EvaluatorHoldout: Ignoring 173 ( 0.5%) Users that have less than 1 test interactions\n",
      "EvaluatorHoldout: Processed 35563 (100.0%) in 37.77 sec. Users per second: 942\n",
      "Similarity column 38121 (100.0%), 2727.14 column/sec. Elapsed time 13.98 sec\n",
      "EvaluatorHoldout: Ignoring 163 ( 0.5%) Users that have less than 1 test interactions\n",
      "EvaluatorHoldout: Processed 35573 (100.0%) in 37.56 sec. Users per second: 947\n",
      "Similarity column 38121 (100.0%), 2735.07 column/sec. Elapsed time 13.94 sec\n",
      "EvaluatorHoldout: Ignoring 150 ( 0.4%) Users that have less than 1 test interactions\n",
      "EvaluatorHoldout: Processed 35586 (100.0%) in 37.67 sec. Users per second: 945\n",
      "Similarity column 38121 (100.0%), 2711.97 column/sec. Elapsed time 14.06 sec\n",
      "EvaluatorHoldout: Ignoring 167 ( 0.5%) Users that have less than 1 test interactions\n",
      "EvaluatorHoldout: Processed 35569 (100.0%) in 37.65 sec. Users per second: 945\n",
      "Similarity column 38121 (100.0%), 2719.10 column/sec. Elapsed time 14.02 sec\n",
      "EvaluatorHoldout: Ignoring 172 ( 0.5%) Users that have less than 1 test interactions\n",
      "EvaluatorHoldout: Processed 35564 (100.0%) in 37.54 sec. Users per second: 947\n"
     ]
    },
    {
     "name": "stderr",
     "output_type": "stream",
     "text": [
      "[I 2025-01-05 22:56:34,536] Trial 368 finished with value: 0.23437172886744215 and parameters: {'similarity': 'tversky', 'topK': 23, 'shrink': 495, 'feature_weighting': 'TF-IDF', 'tversky_alpha': 1.0300642748095459, 'tversky_beta': 1.6360338344378085}. Best is trial 172 with value: 0.26030777685753526.\n"
     ]
    },
    {
     "name": "stdout",
     "output_type": "stream",
     "text": [
      "Similarity column 38121 (100.0%), 2896.10 column/sec. Elapsed time 13.16 sec\n",
      "EvaluatorHoldout: Ignoring 173 ( 0.5%) Users that have less than 1 test interactions\n",
      "EvaluatorHoldout: Processed 35563 (100.0%) in 37.76 sec. Users per second: 942\n",
      "Similarity column 38121 (100.0%), 2860.94 column/sec. Elapsed time 13.32 sec\n",
      "EvaluatorHoldout: Ignoring 163 ( 0.5%) Users that have less than 1 test interactions\n",
      "EvaluatorHoldout: Processed 35573 (100.0%) in 38.13 sec. Users per second: 933\n",
      "Similarity column 38121 (100.0%), 2898.94 column/sec. Elapsed time 13.15 sec\n",
      "EvaluatorHoldout: Ignoring 150 ( 0.4%) Users that have less than 1 test interactions\n",
      "EvaluatorHoldout: Processed 35586 (100.0%) in 38.19 sec. Users per second: 932\n",
      "Similarity column 38121 (100.0%), 2945.02 column/sec. Elapsed time 12.94 sec\n",
      "EvaluatorHoldout: Ignoring 167 ( 0.5%) Users that have less than 1 test interactions\n",
      "EvaluatorHoldout: Processed 35569 (100.0%) in 38.16 sec. Users per second: 932\n",
      "Similarity column 38121 (100.0%), 2907.83 column/sec. Elapsed time 13.11 sec\n",
      "EvaluatorHoldout: Ignoring 172 ( 0.5%) Users that have less than 1 test interactions\n",
      "EvaluatorHoldout: Processed 35564 (100.0%) in 37.96 sec. Users per second: 937\n"
     ]
    },
    {
     "name": "stderr",
     "output_type": "stream",
     "text": [
      "[I 2025-01-05 23:00:52,006] Trial 369 finished with value: 0.259471311198238 and parameters: {'similarity': 'cosine', 'topK': 38, 'shrink': 450, 'feature_weighting': 'TF-IDF'}. Best is trial 172 with value: 0.26030777685753526.\n"
     ]
    },
    {
     "name": "stdout",
     "output_type": "stream",
     "text": [
      "Similarity column 38121 (100.0%), 2932.90 column/sec. Elapsed time 13.00 sec\n",
      "EvaluatorHoldout: Ignoring 173 ( 0.5%) Users that have less than 1 test interactions\n",
      "EvaluatorHoldout: Processed 35563 (100.0%) in 39.11 sec. Users per second: 909\n",
      "Similarity column 38121 (100.0%), 2920.69 column/sec. Elapsed time 13.05 sec\n",
      "EvaluatorHoldout: Ignoring 163 ( 0.5%) Users that have less than 1 test interactions\n",
      "EvaluatorHoldout: Processed 35573 (100.0%) in 39.07 sec. Users per second: 910\n",
      "Similarity column 38121 (100.0%), 2922.59 column/sec. Elapsed time 13.04 sec\n",
      "EvaluatorHoldout: Ignoring 150 ( 0.4%) Users that have less than 1 test interactions\n",
      "EvaluatorHoldout: Processed 35586 (100.0%) in 39.31 sec. Users per second: 905\n",
      "Similarity column 38121 (100.0%), 2942.01 column/sec. Elapsed time 12.96 sec\n",
      "EvaluatorHoldout: Ignoring 167 ( 0.5%) Users that have less than 1 test interactions\n",
      "EvaluatorHoldout: Processed 35569 (100.0%) in 39.21 sec. Users per second: 907\n",
      "Similarity column 38121 (100.0%), 2938.96 column/sec. Elapsed time 12.97 sec\n",
      "EvaluatorHoldout: Ignoring 172 ( 0.5%) Users that have less than 1 test interactions\n",
      "EvaluatorHoldout: Processed 35564 (100.0%) in 39.17 sec. Users per second: 908\n"
     ]
    },
    {
     "name": "stderr",
     "output_type": "stream",
     "text": [
      "[I 2025-01-05 23:05:14,369] Trial 370 finished with value: 0.12423199534280256 and parameters: {'similarity': 'asymmetric', 'topK': 12, 'shrink': 437, 'feature_weighting': 'TF-IDF', 'asymmetric_alpha': 1.5816052830191913}. Best is trial 172 with value: 0.26030777685753526.\n"
     ]
    },
    {
     "name": "stdout",
     "output_type": "stream",
     "text": [
      "Similarity column 38121 (100.0%), 2930.78 column/sec. Elapsed time 13.01 sec\n",
      "EvaluatorHoldout: Ignoring 173 ( 0.5%) Users that have less than 1 test interactions\n",
      "EvaluatorHoldout: Processed 35563 (100.0%) in 38.93 sec. Users per second: 914\n",
      "Similarity column 38121 (100.0%), 2929.28 column/sec. Elapsed time 13.01 sec\n",
      "EvaluatorHoldout: Ignoring 163 ( 0.5%) Users that have less than 1 test interactions\n",
      "EvaluatorHoldout: Processed 35573 (100.0%) in 38.98 sec. Users per second: 913\n",
      "Similarity column 38121 (100.0%), 2931.35 column/sec. Elapsed time 13.00 sec\n",
      "EvaluatorHoldout: Ignoring 150 ( 0.4%) Users that have less than 1 test interactions\n",
      "EvaluatorHoldout: Processed 35586 (100.0%) in 38.77 sec. Users per second: 918\n",
      "Similarity column 38121 (100.0%), 2921.90 column/sec. Elapsed time 13.05 sec\n",
      "EvaluatorHoldout: Ignoring 167 ( 0.5%) Users that have less than 1 test interactions\n",
      "EvaluatorHoldout: Processed 35569 (100.0%) in 38.92 sec. Users per second: 914\n",
      "Similarity column 38121 (100.0%), 2931.54 column/sec. Elapsed time 13.00 sec\n",
      "EvaluatorHoldout: Ignoring 172 ( 0.5%) Users that have less than 1 test interactions\n",
      "EvaluatorHoldout: Processed 35564 (100.0%) in 39.43 sec. Users per second: 902\n"
     ]
    },
    {
     "name": "stderr",
     "output_type": "stream",
     "text": [
      "[I 2025-01-05 23:09:36,199] Trial 371 finished with value: 0.2585635275207351 and parameters: {'similarity': 'cosine', 'topK': 52, 'shrink': 521, 'feature_weighting': 'TF-IDF'}. Best is trial 172 with value: 0.26030777685753526.\n"
     ]
    },
    {
     "name": "stdout",
     "output_type": "stream",
     "text": [
      "Similarity column 38121 (100.0%), 2907.27 column/sec. Elapsed time 13.11 sec\n",
      "EvaluatorHoldout: Ignoring 173 ( 0.5%) Users that have less than 1 test interactions\n",
      "EvaluatorHoldout: Processed 35563 (100.0%) in 37.06 sec. Users per second: 960\n",
      "Similarity column 38121 (100.0%), 2937.27 column/sec. Elapsed time 12.98 sec\n",
      "EvaluatorHoldout: Ignoring 163 ( 0.5%) Users that have less than 1 test interactions\n",
      "EvaluatorHoldout: Processed 35573 (100.0%) in 37.09 sec. Users per second: 959\n",
      "Similarity column 38121 (100.0%), 2951.68 column/sec. Elapsed time 12.92 sec\n",
      "EvaluatorHoldout: Ignoring 150 ( 0.4%) Users that have less than 1 test interactions\n",
      "EvaluatorHoldout: Processed 35586 (100.0%) in 36.80 sec. Users per second: 967\n",
      "Similarity column 38121 (100.0%), 2924.39 column/sec. Elapsed time 13.04 sec\n",
      "EvaluatorHoldout: Ignoring 167 ( 0.5%) Users that have less than 1 test interactions\n",
      "EvaluatorHoldout: Processed 35569 (100.0%) in 36.95 sec. Users per second: 963\n",
      "Similarity column 38121 (100.0%), 2950.36 column/sec. Elapsed time 12.92 sec\n",
      "EvaluatorHoldout: Ignoring 172 ( 0.5%) Users that have less than 1 test interactions\n",
      "EvaluatorHoldout: Processed 35564 (100.0%) in 37.05 sec. Users per second: 960\n"
     ]
    },
    {
     "name": "stderr",
     "output_type": "stream",
     "text": [
      "[I 2025-01-05 23:13:47,668] Trial 372 finished with value: 0.2601621662418898 and parameters: {'similarity': 'cosine', 'topK': 26, 'shrink': 462, 'feature_weighting': 'TF-IDF'}. Best is trial 172 with value: 0.26030777685753526.\n"
     ]
    },
    {
     "name": "stdout",
     "output_type": "stream",
     "text": [
      "Similarity column 38121 (100.0%), 3005.69 column/sec. Elapsed time 12.68 sec\n",
      "EvaluatorHoldout: Ignoring 173 ( 0.5%) Users that have less than 1 test interactions\n",
      "EvaluatorHoldout: Processed 35563 (100.0%) in 36.21 sec. Users per second: 982\n",
      "Similarity column 38121 (100.0%), 3008.87 column/sec. Elapsed time 12.67 sec\n",
      "EvaluatorHoldout: Ignoring 163 ( 0.5%) Users that have less than 1 test interactions\n",
      "EvaluatorHoldout: Processed 35573 (100.0%) in 36.51 sec. Users per second: 974\n",
      "Similarity column 38121 (100.0%), 3001.00 column/sec. Elapsed time 12.70 sec\n",
      "EvaluatorHoldout: Ignoring 150 ( 0.4%) Users that have less than 1 test interactions\n",
      "EvaluatorHoldout: Processed 35586 (100.0%) in 36.36 sec. Users per second: 979\n",
      "Similarity column 38121 (100.0%), 3003.66 column/sec. Elapsed time 12.69 sec\n",
      "EvaluatorHoldout: Ignoring 167 ( 0.5%) Users that have less than 1 test interactions\n",
      "EvaluatorHoldout: Processed 35569 (100.0%) in 36.54 sec. Users per second: 973\n",
      "Similarity column 38121 (100.0%), 3004.70 column/sec. Elapsed time 12.69 sec\n",
      "EvaluatorHoldout: Ignoring 172 ( 0.5%) Users that have less than 1 test interactions\n",
      "EvaluatorHoldout: Processed 35564 (100.0%) in 36.25 sec. Users per second: 981\n"
     ]
    },
    {
     "name": "stderr",
     "output_type": "stream",
     "text": [
      "[I 2025-01-05 23:17:55,302] Trial 373 finished with value: 0.2291377094869344 and parameters: {'similarity': 'jaccard', 'topK': 11, 'shrink': 485, 'feature_weighting': 'TF-IDF'}. Best is trial 172 with value: 0.26030777685753526.\n"
     ]
    },
    {
     "name": "stdout",
     "output_type": "stream",
     "text": [
      "Similarity column 38121 (100.0%), 588.98 column/sec. Elapsed time 1.08 min\n",
      "EvaluatorHoldout: Ignoring 173 ( 0.5%) Users that have less than 1 test interactions\n",
      "EvaluatorHoldout: Processed 35563 (100.0%) in 30.51 sec. Users per second: 1166\n",
      "Similarity column 38121 (100.0%), 552.37 column/sec. Elapsed time 1.15 min\n",
      "EvaluatorHoldout: Ignoring 163 ( 0.5%) Users that have less than 1 test interactions\n",
      "EvaluatorHoldout: Processed 35573 (100.0%) in 30.39 sec. Users per second: 1171\n",
      "Similarity column 38121 (100.0%), 583.30 column/sec. Elapsed time 1.09 min\n",
      "EvaluatorHoldout: Ignoring 150 ( 0.4%) Users that have less than 1 test interactions\n",
      "EvaluatorHoldout: Processed 35586 (100.0%) in 30.28 sec. Users per second: 1175\n",
      "Similarity column 38121 (100.0%), 556.19 column/sec. Elapsed time 1.14 min\n",
      "EvaluatorHoldout: Ignoring 167 ( 0.5%) Users that have less than 1 test interactions\n",
      "EvaluatorHoldout: Processed 35569 (100.0%) in 30.45 sec. Users per second: 1168\n",
      "Similarity column 38121 (100.0%), 553.40 column/sec. Elapsed time 1.15 min\n",
      "EvaluatorHoldout: Ignoring 172 ( 0.5%) Users that have less than 1 test interactions\n",
      "EvaluatorHoldout: Processed 35564 (100.0%) in 30.42 sec. Users per second: 1169\n"
     ]
    },
    {
     "name": "stderr",
     "output_type": "stream",
     "text": [
      "[I 2025-01-05 23:26:05,086] Trial 374 finished with value: 0.09136125441898482 and parameters: {'similarity': 'euclidean', 'topK': 37, 'shrink': 407, 'feature_weighting': 'TF-IDF', 'normalize_avg_row': False, 'similarity_from_distance_mode': 'lin', 'normalize': False}. Best is trial 172 with value: 0.26030777685753526.\n"
     ]
    },
    {
     "name": "stdout",
     "output_type": "stream",
     "text": [
      "Similarity column 38121 (100.0%), 3790.29 column/sec. Elapsed time 10.06 sec\n",
      "EvaluatorHoldout: Ignoring 173 ( 0.5%) Users that have less than 1 test interactions\n",
      "EvaluatorHoldout: Processed 35563 (100.0%) in 27.46 sec. Users per second: 1295\n",
      "Similarity column 38121 (100.0%), 3646.16 column/sec. Elapsed time 10.46 sec\n",
      "EvaluatorHoldout: Ignoring 163 ( 0.5%) Users that have less than 1 test interactions\n",
      "EvaluatorHoldout: Processed 35573 (100.0%) in 27.55 sec. Users per second: 1291\n",
      "Similarity column 38121 (100.0%), 3772.80 column/sec. Elapsed time 10.10 sec\n",
      "EvaluatorHoldout: Ignoring 150 ( 0.4%) Users that have less than 1 test interactions\n",
      "EvaluatorHoldout: Processed 35586 (100.0%) in 27.67 sec. Users per second: 1286\n",
      "Similarity column 38121 (100.0%), 3784.32 column/sec. Elapsed time 10.07 sec\n",
      "EvaluatorHoldout: Ignoring 167 ( 0.5%) Users that have less than 1 test interactions\n",
      "EvaluatorHoldout: Processed 35569 (100.0%) in 27.50 sec. Users per second: 1293\n",
      "Similarity column 38121 (100.0%), 3755.01 column/sec. Elapsed time 10.15 sec\n",
      "EvaluatorHoldout: Ignoring 172 ( 0.5%) Users that have less than 1 test interactions\n",
      "EvaluatorHoldout: Processed 35564 (100.0%) in 27.80 sec. Users per second: 1279\n"
     ]
    },
    {
     "name": "stderr",
     "output_type": "stream",
     "text": [
      "[I 2025-01-05 23:29:15,258] Trial 375 finished with value: 0.0055265346604531345 and parameters: {'similarity': 'cosine', 'topK': 0, 'shrink': 428, 'feature_weighting': 'TF-IDF'}. Best is trial 172 with value: 0.26030777685753526.\n"
     ]
    },
    {
     "name": "stdout",
     "output_type": "stream",
     "text": [
      "Similarity column 38121 (100.0%), 2939.00 column/sec. Elapsed time 12.97 sec\n",
      "EvaluatorHoldout: Ignoring 173 ( 0.5%) Users that have less than 1 test interactions\n",
      "EvaluatorHoldout: Processed 35563 (100.0%) in 36.78 sec. Users per second: 967\n",
      "Similarity column 38121 (100.0%), 2929.50 column/sec. Elapsed time 13.01 sec\n",
      "EvaluatorHoldout: Ignoring 163 ( 0.5%) Users that have less than 1 test interactions\n",
      "EvaluatorHoldout: Processed 35573 (100.0%) in 37.15 sec. Users per second: 958\n",
      "Similarity column 38121 (100.0%), 2941.55 column/sec. Elapsed time 12.96 sec\n",
      "EvaluatorHoldout: Ignoring 150 ( 0.4%) Users that have less than 1 test interactions\n",
      "EvaluatorHoldout: Processed 35586 (100.0%) in 37.04 sec. Users per second: 961\n",
      "Similarity column 38121 (100.0%), 2925.26 column/sec. Elapsed time 13.03 sec\n",
      "EvaluatorHoldout: Ignoring 167 ( 0.5%) Users that have less than 1 test interactions\n",
      "EvaluatorHoldout: Processed 35569 (100.0%) in 36.89 sec. Users per second: 964\n",
      "Similarity column 38121 (100.0%), 2931.65 column/sec. Elapsed time 13.00 sec\n",
      "EvaluatorHoldout: Ignoring 172 ( 0.5%) Users that have less than 1 test interactions\n",
      "EvaluatorHoldout: Processed 35564 (100.0%) in 37.01 sec. Users per second: 961\n"
     ]
    },
    {
     "name": "stderr",
     "output_type": "stream",
     "text": [
      "[I 2025-01-05 23:33:26,620] Trial 376 finished with value: 0.26025539263972364 and parameters: {'similarity': 'cosine', 'topK': 25, 'shrink': 333, 'feature_weighting': 'TF-IDF'}. Best is trial 172 with value: 0.26030777685753526.\n"
     ]
    },
    {
     "name": "stdout",
     "output_type": "stream",
     "text": [
      "Similarity column 38121 (100.0%), 3031.08 column/sec. Elapsed time 12.58 sec\n",
      "EvaluatorHoldout: Ignoring 173 ( 0.5%) Users that have less than 1 test interactions\n",
      "EvaluatorHoldout: Processed 35563 (100.0%) in 42.31 sec. Users per second: 841\n",
      "Similarity column 38121 (100.0%), 3017.25 column/sec. Elapsed time 12.63 sec\n",
      "EvaluatorHoldout: Ignoring 163 ( 0.5%) Users that have less than 1 test interactions\n",
      "EvaluatorHoldout: Processed 35573 (100.0%) in 42.33 sec. Users per second: 840\n",
      "Similarity column 38121 (100.0%), 3027.55 column/sec. Elapsed time 12.59 sec\n",
      "EvaluatorHoldout: Ignoring 150 ( 0.4%) Users that have less than 1 test interactions\n",
      "EvaluatorHoldout: Processed 35586 (100.0%) in 42.12 sec. Users per second: 845\n",
      "Similarity column 38121 (100.0%), 3037.60 column/sec. Elapsed time 12.55 sec\n",
      "EvaluatorHoldout: Ignoring 167 ( 0.5%) Users that have less than 1 test interactions\n",
      "EvaluatorHoldout: Processed 35569 (100.0%) in 42.48 sec. Users per second: 837\n",
      "Similarity column 38121 (100.0%), 3018.63 column/sec. Elapsed time 12.63 sec\n",
      "EvaluatorHoldout: Ignoring 172 ( 0.5%) Users that have less than 1 test interactions\n",
      "EvaluatorHoldout: Processed 35564 (100.0%) in 42.24 sec. Users per second: 842\n"
     ]
    },
    {
     "name": "stderr",
     "output_type": "stream",
     "text": [
      "[I 2025-01-05 23:38:03,820] Trial 377 finished with value: 0.22613615098541356 and parameters: {'similarity': 'dice', 'topK': 82, 'shrink': 399, 'feature_weighting': 'TF-IDF'}. Best is trial 172 with value: 0.26030777685753526.\n"
     ]
    },
    {
     "name": "stdout",
     "output_type": "stream",
     "text": [
      "Similarity column 38121 (100.0%), 2922.78 column/sec. Elapsed time 13.04 sec\n",
      "EvaluatorHoldout: Ignoring 173 ( 0.5%) Users that have less than 1 test interactions\n",
      "EvaluatorHoldout: Processed 35563 (100.0%) in 39.48 sec. Users per second: 901\n",
      "Similarity column 38121 (100.0%), 2908.53 column/sec. Elapsed time 13.11 sec\n",
      "EvaluatorHoldout: Ignoring 163 ( 0.5%) Users that have less than 1 test interactions\n",
      "EvaluatorHoldout: Processed 35573 (100.0%) in 39.44 sec. Users per second: 902\n",
      "Similarity column 38121 (100.0%), 2910.77 column/sec. Elapsed time 13.10 sec\n",
      "EvaluatorHoldout: Ignoring 150 ( 0.4%) Users that have less than 1 test interactions\n",
      "EvaluatorHoldout: Processed 35586 (100.0%) in 39.38 sec. Users per second: 904\n",
      "Similarity column 38121 (100.0%), 2926.31 column/sec. Elapsed time 13.03 sec\n",
      "EvaluatorHoldout: Ignoring 167 ( 0.5%) Users that have less than 1 test interactions\n",
      "EvaluatorHoldout: Processed 35569 (100.0%) in 39.54 sec. Users per second: 899\n",
      "Similarity column 38121 (100.0%), 2918.14 column/sec. Elapsed time 13.06 sec\n",
      "EvaluatorHoldout: Ignoring 172 ( 0.5%) Users that have less than 1 test interactions\n",
      "EvaluatorHoldout: Processed 35564 (100.0%) in 39.31 sec. Users per second: 905\n"
     ]
    },
    {
     "name": "stderr",
     "output_type": "stream",
     "text": [
      "[I 2025-01-05 23:42:28,096] Trial 378 finished with value: 0.25812082386342944 and parameters: {'similarity': 'cosine', 'topK': 62, 'shrink': 345, 'feature_weighting': 'TF-IDF'}. Best is trial 172 with value: 0.26030777685753526.\n"
     ]
    },
    {
     "name": "stdout",
     "output_type": "stream",
     "text": [
      "Similarity column 38121 (100.0%), 2923.30 column/sec. Elapsed time 13.04 sec\n",
      "EvaluatorHoldout: Ignoring 173 ( 0.5%) Users that have less than 1 test interactions\n",
      "EvaluatorHoldout: Processed 35563 (100.0%) in 38.60 sec. Users per second: 921\n",
      "Similarity column 38121 (100.0%), 2948.39 column/sec. Elapsed time 12.93 sec\n",
      "EvaluatorHoldout: Ignoring 163 ( 0.5%) Users that have less than 1 test interactions\n",
      "EvaluatorHoldout: Processed 35573 (100.0%) in 39.04 sec. Users per second: 911\n",
      "Similarity column 38121 (100.0%), 2955.82 column/sec. Elapsed time 12.90 sec\n",
      "EvaluatorHoldout: Ignoring 150 ( 0.4%) Users that have less than 1 test interactions\n",
      "EvaluatorHoldout: Processed 35586 (100.0%) in 38.72 sec. Users per second: 919\n",
      "Similarity column 38121 (100.0%), 2902.69 column/sec. Elapsed time 13.13 sec\n",
      "EvaluatorHoldout: Ignoring 167 ( 0.5%) Users that have less than 1 test interactions\n",
      "EvaluatorHoldout: Processed 35569 (100.0%) in 38.93 sec. Users per second: 914\n",
      "Similarity column 38121 (100.0%), 2924.62 column/sec. Elapsed time 13.03 sec\n",
      "EvaluatorHoldout: Ignoring 172 ( 0.5%) Users that have less than 1 test interactions\n",
      "EvaluatorHoldout: Processed 35564 (100.0%) in 39.02 sec. Users per second: 911\n"
     ]
    },
    {
     "name": "stderr",
     "output_type": "stream",
     "text": [
      "[I 2025-01-05 23:46:49,144] Trial 379 finished with value: 0.2587782732977528 and parameters: {'similarity': 'cosine', 'topK': 47, 'shrink': 527, 'feature_weighting': 'TF-IDF'}. Best is trial 172 with value: 0.26030777685753526.\n"
     ]
    },
    {
     "name": "stdout",
     "output_type": "stream",
     "text": [
      "Similarity column 38121 (100.0%), 2952.47 column/sec. Elapsed time 12.91 sec\n",
      "EvaluatorHoldout: Ignoring 173 ( 0.5%) Users that have less than 1 test interactions\n",
      "EvaluatorHoldout: Processed 35563 (100.0%) in 36.83 sec. Users per second: 965\n",
      "Similarity column 38121 (100.0%), 2918.18 column/sec. Elapsed time 13.06 sec\n",
      "EvaluatorHoldout: Ignoring 163 ( 0.5%) Users that have less than 1 test interactions\n",
      "EvaluatorHoldout: Processed 35573 (100.0%) in 37.03 sec. Users per second: 961\n",
      "Similarity column 38121 (100.0%), 2959.61 column/sec. Elapsed time 12.88 sec\n",
      "EvaluatorHoldout: Ignoring 150 ( 0.4%) Users that have less than 1 test interactions\n",
      "EvaluatorHoldout: Processed 35586 (100.0%) in 37.04 sec. Users per second: 961\n",
      "Similarity column 38121 (100.0%), 2931.99 column/sec. Elapsed time 13.00 sec\n",
      "EvaluatorHoldout: Ignoring 167 ( 0.5%) Users that have less than 1 test interactions\n",
      "EvaluatorHoldout: Processed 35569 (100.0%) in 37.09 sec. Users per second: 959\n",
      "Similarity column 38121 (100.0%), 2951.33 column/sec. Elapsed time 12.92 sec\n",
      "EvaluatorHoldout: Ignoring 172 ( 0.5%) Users that have less than 1 test interactions\n",
      "EvaluatorHoldout: Processed 35564 (100.0%) in 37.26 sec. Users per second: 954\n"
     ]
    },
    {
     "name": "stderr",
     "output_type": "stream",
     "text": [
      "[I 2025-01-05 23:51:00,680] Trial 380 finished with value: 0.26022759304269494 and parameters: {'similarity': 'cosine', 'topK': 24, 'shrink': 458, 'feature_weighting': 'TF-IDF'}. Best is trial 172 with value: 0.26030777685753526.\n"
     ]
    },
    {
     "name": "stdout",
     "output_type": "stream",
     "text": [
      "Similarity column 38121 (100.0%), 3747.64 column/sec. Elapsed time 10.17 sec\n",
      "EvaluatorHoldout: Ignoring 173 ( 0.5%) Users that have less than 1 test interactions\n",
      "EvaluatorHoldout: Processed 35563 (100.0%) in 27.71 sec. Users per second: 1284\n",
      "Similarity column 38121 (100.0%), 3787.36 column/sec. Elapsed time 10.07 sec\n",
      "EvaluatorHoldout: Ignoring 163 ( 0.5%) Users that have less than 1 test interactions\n",
      "EvaluatorHoldout: Processed 35573 (100.0%) in 27.71 sec. Users per second: 1284\n",
      "Similarity column 38121 (100.0%), 3777.75 column/sec. Elapsed time 10.09 sec\n",
      "EvaluatorHoldout: Ignoring 150 ( 0.4%) Users that have less than 1 test interactions\n",
      "EvaluatorHoldout: Processed 35586 (100.0%) in 27.71 sec. Users per second: 1284\n",
      "Similarity column 38121 (100.0%), 3784.80 column/sec. Elapsed time 10.07 sec\n",
      "EvaluatorHoldout: Ignoring 167 ( 0.5%) Users that have less than 1 test interactions\n",
      "EvaluatorHoldout: Processed 35569 (100.0%) in 27.77 sec. Users per second: 1281\n",
      "Similarity column 38121 (100.0%), 3776.11 column/sec. Elapsed time 10.10 sec\n",
      "EvaluatorHoldout: Ignoring 172 ( 0.5%) Users that have less than 1 test interactions\n",
      "EvaluatorHoldout: Processed 35564 (100.0%) in 27.53 sec. Users per second: 1292\n"
     ]
    },
    {
     "name": "stderr",
     "output_type": "stream",
     "text": [
      "[I 2025-01-05 23:54:10,934] Trial 381 finished with value: 0.0055265346604531345 and parameters: {'similarity': 'cosine', 'topK': 0, 'shrink': 452, 'feature_weighting': 'TF-IDF'}. Best is trial 172 with value: 0.26030777685753526.\n"
     ]
    },
    {
     "name": "stdout",
     "output_type": "stream",
     "text": [
      "Similarity column 38121 (100.0%), 2927.22 column/sec. Elapsed time 13.02 sec\n",
      "EvaluatorHoldout: Ignoring 173 ( 0.5%) Users that have less than 1 test interactions\n",
      "EvaluatorHoldout: Processed 35563 (100.0%) in 36.72 sec. Users per second: 968\n",
      "Similarity column 38121 (100.0%), 2956.08 column/sec. Elapsed time 12.90 sec\n",
      "EvaluatorHoldout: Ignoring 163 ( 0.5%) Users that have less than 1 test interactions\n",
      "EvaluatorHoldout: Processed 35573 (100.0%) in 36.77 sec. Users per second: 967\n",
      "Similarity column 38121 (100.0%), 2879.23 column/sec. Elapsed time 13.24 sec\n",
      "EvaluatorHoldout: Ignoring 150 ( 0.4%) Users that have less than 1 test interactions\n",
      "EvaluatorHoldout: Processed 35586 (100.0%) in 36.65 sec. Users per second: 971\n",
      "Similarity column 38121 (100.0%), 2943.57 column/sec. Elapsed time 12.95 sec\n",
      "EvaluatorHoldout: Ignoring 167 ( 0.5%) Users that have less than 1 test interactions\n",
      "EvaluatorHoldout: Processed 35569 (100.0%) in 36.83 sec. Users per second: 966\n",
      "Similarity column 38121 (100.0%), 2946.83 column/sec. Elapsed time 12.94 sec\n",
      "EvaluatorHoldout: Ignoring 172 ( 0.5%) Users that have less than 1 test interactions\n",
      "EvaluatorHoldout: Processed 35564 (100.0%) in 36.52 sec. Users per second: 974\n"
     ]
    },
    {
     "name": "stderr",
     "output_type": "stream",
     "text": [
      "[I 2025-01-05 23:58:20,967] Trial 382 finished with value: 0.26023420611156195 and parameters: {'similarity': 'cosine', 'topK': 21, 'shrink': 480, 'feature_weighting': 'TF-IDF'}. Best is trial 172 with value: 0.26030777685753526.\n"
     ]
    },
    {
     "name": "stdout",
     "output_type": "stream",
     "text": [
      "Similarity column 38121 (100.0%), 2942.71 column/sec. Elapsed time 12.95 sec\n",
      "EvaluatorHoldout: Ignoring 173 ( 0.5%) Users that have less than 1 test interactions\n",
      "EvaluatorHoldout: Processed 35563 (100.0%) in 36.13 sec. Users per second: 984\n",
      "Similarity column 38121 (100.0%), 2955.32 column/sec. Elapsed time 12.90 sec\n",
      "EvaluatorHoldout: Ignoring 163 ( 0.5%) Users that have less than 1 test interactions\n",
      "EvaluatorHoldout: Processed 35573 (100.0%) in 36.16 sec. Users per second: 984\n",
      "Similarity column 38121 (100.0%), 2871.06 column/sec. Elapsed time 13.28 sec\n",
      "EvaluatorHoldout: Ignoring 150 ( 0.4%) Users that have less than 1 test interactions\n",
      "EvaluatorHoldout: Processed 35586 (100.0%) in 36.60 sec. Users per second: 972\n",
      "Similarity column 38121 (100.0%), 2890.56 column/sec. Elapsed time 13.19 sec\n",
      "EvaluatorHoldout: Ignoring 167 ( 0.5%) Users that have less than 1 test interactions\n",
      "EvaluatorHoldout: Processed 35569 (100.0%) in 36.43 sec. Users per second: 976\n",
      "Similarity column 38121 (100.0%), 2929.27 column/sec. Elapsed time 13.01 sec\n",
      "EvaluatorHoldout: Ignoring 172 ( 0.5%) Users that have less than 1 test interactions\n",
      "EvaluatorHoldout: Processed 35564 (100.0%) in 35.97 sec. Users per second: 989\n"
     ]
    },
    {
     "name": "stderr",
     "output_type": "stream",
     "text": [
      "[I 2025-01-06 00:02:29,087] Trial 383 finished with value: 0.2599532557543383 and parameters: {'similarity': 'cosine', 'topK': 15, 'shrink': 484, 'feature_weighting': 'TF-IDF'}. Best is trial 172 with value: 0.26030777685753526.\n"
     ]
    },
    {
     "name": "stdout",
     "output_type": "stream",
     "text": [
      "Similarity column 38121 (100.0%), 2842.66 column/sec. Elapsed time 13.41 sec\n",
      "EvaluatorHoldout: Ignoring 173 ( 0.5%) Users that have less than 1 test interactions\n",
      "EvaluatorHoldout: Processed 35563 (100.0%) in 49.66 sec. Users per second: 716\n",
      "Similarity column 38121 (100.0%), 2841.31 column/sec. Elapsed time 13.42 sec\n",
      "EvaluatorHoldout: Ignoring 163 ( 0.5%) Users that have less than 1 test interactions\n",
      "EvaluatorHoldout: Processed 35573 (100.0%) in 49.33 sec. Users per second: 721\n",
      "Similarity column 38121 (100.0%), 2840.33 column/sec. Elapsed time 13.42 sec\n",
      "EvaluatorHoldout: Ignoring 150 ( 0.4%) Users that have less than 1 test interactions\n",
      "EvaluatorHoldout: Processed 35586 (100.0%) in 49.01 sec. Users per second: 726\n",
      "Similarity column 38121 (100.0%), 2845.03 column/sec. Elapsed time 13.40 sec\n",
      "EvaluatorHoldout: Ignoring 167 ( 0.5%) Users that have less than 1 test interactions\n",
      "EvaluatorHoldout: Processed 35569 (100.0%) in 48.92 sec. Users per second: 727\n",
      "Similarity column 38121 (100.0%), 2855.22 column/sec. Elapsed time 13.35 sec\n",
      "EvaluatorHoldout: Ignoring 172 ( 0.5%) Users that have less than 1 test interactions\n",
      "EvaluatorHoldout: Processed 35564 (100.0%) in 49.28 sec. Users per second: 722\n"
     ]
    },
    {
     "name": "stderr",
     "output_type": "stream",
     "text": [
      "[I 2025-01-06 00:07:45,996] Trial 384 finished with value: 0.25122404967421585 and parameters: {'similarity': 'cosine', 'topK': 347, 'shrink': 498, 'feature_weighting': 'TF-IDF'}. Best is trial 172 with value: 0.26030777685753526.\n"
     ]
    },
    {
     "name": "stdout",
     "output_type": "stream",
     "text": [
      "Similarity column 38121 (100.0%), 2943.22 column/sec. Elapsed time 12.95 sec\n",
      "EvaluatorHoldout: Ignoring 173 ( 0.5%) Users that have less than 1 test interactions\n",
      "EvaluatorHoldout: Processed 35563 (100.0%) in 38.16 sec. Users per second: 932\n",
      "Similarity column 38121 (100.0%), 2954.74 column/sec. Elapsed time 12.90 sec\n",
      "EvaluatorHoldout: Ignoring 163 ( 0.5%) Users that have less than 1 test interactions\n",
      "EvaluatorHoldout: Processed 35573 (100.0%) in 38.17 sec. Users per second: 932\n",
      "Similarity column 38121 (100.0%), 2933.76 column/sec. Elapsed time 12.99 sec\n",
      "EvaluatorHoldout: Ignoring 150 ( 0.4%) Users that have less than 1 test interactions\n",
      "EvaluatorHoldout: Processed 35586 (100.0%) in 38.19 sec. Users per second: 932\n",
      "Similarity column 38121 (100.0%), 2949.14 column/sec. Elapsed time 12.93 sec\n",
      "EvaluatorHoldout: Ignoring 167 ( 0.5%) Users that have less than 1 test interactions\n",
      "EvaluatorHoldout: Processed 35569 (100.0%) in 38.15 sec. Users per second: 932\n",
      "Similarity column 38121 (100.0%), 2932.49 column/sec. Elapsed time 13.00 sec\n",
      "EvaluatorHoldout: Ignoring 172 ( 0.5%) Users that have less than 1 test interactions\n",
      "EvaluatorHoldout: Processed 35564 (100.0%) in 38.07 sec. Users per second: 934\n"
     ]
    },
    {
     "name": "stderr",
     "output_type": "stream",
     "text": [
      "[I 2025-01-06 00:12:03,127] Trial 385 finished with value: 0.2595217911182349 and parameters: {'similarity': 'cosine', 'topK': 38, 'shrink': 473, 'feature_weighting': 'TF-IDF'}. Best is trial 172 with value: 0.26030777685753526.\n"
     ]
    },
    {
     "name": "stdout",
     "output_type": "stream",
     "text": [
      "Similarity column 38121 (100.0%), 2915.58 column/sec. Elapsed time 13.07 sec\n",
      "EvaluatorHoldout: Ignoring 173 ( 0.5%) Users that have less than 1 test interactions\n",
      "EvaluatorHoldout: Processed 35563 (100.0%) in 38.88 sec. Users per second: 915\n",
      "Similarity column 38121 (100.0%), 2898.41 column/sec. Elapsed time 13.15 sec\n",
      "EvaluatorHoldout: Ignoring 163 ( 0.5%) Users that have less than 1 test interactions\n",
      "EvaluatorHoldout: Processed 35573 (100.0%) in 38.98 sec. Users per second: 913\n",
      "Similarity column 38121 (100.0%), 2900.60 column/sec. Elapsed time 13.14 sec\n",
      "EvaluatorHoldout: Ignoring 150 ( 0.4%) Users that have less than 1 test interactions\n",
      "EvaluatorHoldout: Processed 35586 (100.0%) in 38.74 sec. Users per second: 918\n",
      "Similarity column 38121 (100.0%), 2814.48 column/sec. Elapsed time 13.54 sec\n",
      "EvaluatorHoldout: Ignoring 167 ( 0.5%) Users that have less than 1 test interactions\n",
      "EvaluatorHoldout: Processed 35569 (100.0%) in 39.02 sec. Users per second: 912\n",
      "Similarity column 38121 (100.0%), 2899.90 column/sec. Elapsed time 13.15 sec\n",
      "EvaluatorHoldout: Ignoring 172 ( 0.5%) Users that have less than 1 test interactions\n",
      "EvaluatorHoldout: Processed 35564 (100.0%) in 38.81 sec. Users per second: 916\n"
     ]
    },
    {
     "name": "stderr",
     "output_type": "stream",
     "text": [
      "[I 2025-01-06 00:16:24,649] Trial 386 finished with value: 0.21837846063315292 and parameters: {'similarity': 'cosine', 'topK': 22, 'shrink': 456, 'feature_weighting': 'none'}. Best is trial 172 with value: 0.26030777685753526.\n"
     ]
    },
    {
     "name": "stdout",
     "output_type": "stream",
     "text": [
      "Similarity column 38121 (100.0%), 2920.15 column/sec. Elapsed time 13.05 sec\n",
      "EvaluatorHoldout: Ignoring 173 ( 0.5%) Users that have less than 1 test interactions\n",
      "EvaluatorHoldout: Processed 35563 (100.0%) in 38.98 sec. Users per second: 912\n",
      "Similarity column 38121 (100.0%), 2935.05 column/sec. Elapsed time 12.99 sec\n",
      "EvaluatorHoldout: Ignoring 163 ( 0.5%) Users that have less than 1 test interactions\n",
      "EvaluatorHoldout: Processed 35573 (100.0%) in 39.10 sec. Users per second: 910\n",
      "Similarity column 38121 (100.0%), 2916.15 column/sec. Elapsed time 13.07 sec\n",
      "EvaluatorHoldout: Ignoring 150 ( 0.4%) Users that have less than 1 test interactions\n",
      "EvaluatorHoldout: Processed 35586 (100.0%) in 39.09 sec. Users per second: 910\n",
      "Similarity column 38121 (100.0%), 2914.82 column/sec. Elapsed time 13.08 sec\n",
      "EvaluatorHoldout: Ignoring 167 ( 0.5%) Users that have less than 1 test interactions\n",
      "EvaluatorHoldout: Processed 35569 (100.0%) in 39.50 sec. Users per second: 901\n",
      "Similarity column 38121 (100.0%), 2906.22 column/sec. Elapsed time 13.12 sec\n",
      "EvaluatorHoldout: Ignoring 172 ( 0.5%) Users that have less than 1 test interactions\n",
      "EvaluatorHoldout: Processed 35564 (100.0%) in 39.08 sec. Users per second: 910\n"
     ]
    },
    {
     "name": "stderr",
     "output_type": "stream",
     "text": [
      "[I 2025-01-06 00:20:47,491] Trial 387 finished with value: 0.2585744677146846 and parameters: {'similarity': 'cosine', 'topK': 52, 'shrink': 507, 'feature_weighting': 'TF-IDF'}. Best is trial 172 with value: 0.26030777685753526.\n"
     ]
    },
    {
     "name": "stdout",
     "output_type": "stream",
     "text": [
      "Similarity column 38121 (100.0%), 2854.19 column/sec. Elapsed time 13.36 sec\n",
      "EvaluatorHoldout: Ignoring 173 ( 0.5%) Users that have less than 1 test interactions\n",
      "EvaluatorHoldout: Processed 35563 (100.0%) in 46.25 sec. Users per second: 769\n",
      "Similarity column 38121 (100.0%), 2862.99 column/sec. Elapsed time 13.32 sec\n",
      "EvaluatorHoldout: Ignoring 163 ( 0.5%) Users that have less than 1 test interactions\n",
      "EvaluatorHoldout: Processed 35573 (100.0%) in 46.31 sec. Users per second: 768\n",
      "Similarity column 38121 (100.0%), 2850.20 column/sec. Elapsed time 13.37 sec\n",
      "EvaluatorHoldout: Ignoring 150 ( 0.4%) Users that have less than 1 test interactions\n",
      "EvaluatorHoldout: Processed 35586 (100.0%) in 46.33 sec. Users per second: 768\n",
      "Similarity column 38121 (100.0%), 2859.85 column/sec. Elapsed time 13.33 sec\n",
      "EvaluatorHoldout: Ignoring 167 ( 0.5%) Users that have less than 1 test interactions\n",
      "EvaluatorHoldout: Processed 35569 (100.0%) in 46.04 sec. Users per second: 773\n",
      "Similarity column 38121 (100.0%), 2872.74 column/sec. Elapsed time 13.27 sec\n",
      "EvaluatorHoldout: Ignoring 172 ( 0.5%) Users that have less than 1 test interactions\n",
      "EvaluatorHoldout: Processed 35564 (100.0%) in 46.24 sec. Users per second: 769\n"
     ]
    },
    {
     "name": "stderr",
     "output_type": "stream",
     "text": [
      "[I 2025-01-06 00:25:48,351] Trial 388 finished with value: 0.2525903908945561 and parameters: {'similarity': 'cosine', 'topK': 243, 'shrink': 440, 'feature_weighting': 'TF-IDF'}. Best is trial 172 with value: 0.26030777685753526.\n"
     ]
    },
    {
     "name": "stdout",
     "output_type": "stream",
     "text": [
      "Similarity column 38121 (100.0%), 2937.22 column/sec. Elapsed time 12.98 sec\n",
      "EvaluatorHoldout: Ignoring 173 ( 0.5%) Users that have less than 1 test interactions\n",
      "EvaluatorHoldout: Processed 35563 (100.0%) in 37.31 sec. Users per second: 953\n",
      "Similarity column 38121 (100.0%), 2913.41 column/sec. Elapsed time 13.08 sec\n",
      "EvaluatorHoldout: Ignoring 163 ( 0.5%) Users that have less than 1 test interactions\n",
      "EvaluatorHoldout: Processed 35573 (100.0%) in 37.61 sec. Users per second: 946\n",
      "Similarity column 38121 (100.0%), 2955.23 column/sec. Elapsed time 12.90 sec\n",
      "EvaluatorHoldout: Ignoring 150 ( 0.4%) Users that have less than 1 test interactions\n",
      "EvaluatorHoldout: Processed 35586 (100.0%) in 37.43 sec. Users per second: 951\n",
      "Similarity column 38121 (100.0%), 2930.96 column/sec. Elapsed time 13.01 sec\n",
      "EvaluatorHoldout: Ignoring 167 ( 0.5%) Users that have less than 1 test interactions\n",
      "EvaluatorHoldout: Processed 35569 (100.0%) in 37.43 sec. Users per second: 950\n",
      "Similarity column 38121 (100.0%), 2921.30 column/sec. Elapsed time 13.05 sec\n",
      "EvaluatorHoldout: Ignoring 172 ( 0.5%) Users that have less than 1 test interactions\n",
      "EvaluatorHoldout: Processed 35564 (100.0%) in 37.54 sec. Users per second: 947\n"
     ]
    },
    {
     "name": "stderr",
     "output_type": "stream",
     "text": [
      "[I 2025-01-06 00:30:02,299] Trial 389 finished with value: 0.23135724063380453 and parameters: {'similarity': 'cosine', 'topK': 36, 'shrink': 462, 'feature_weighting': 'BM25'}. Best is trial 172 with value: 0.26030777685753526.\n"
     ]
    },
    {
     "name": "stdout",
     "output_type": "stream",
     "text": [
      "Similarity column 38121 (100.0%), 2815.47 column/sec. Elapsed time 13.54 sec\n",
      "EvaluatorHoldout: Ignoring 173 ( 0.5%) Users that have less than 1 test interactions\n",
      "EvaluatorHoldout: Processed 35563 (100.0%) in 51.18 sec. Users per second: 695\n",
      "Similarity column 38121 (100.0%), 2808.14 column/sec. Elapsed time 13.58 sec\n",
      "EvaluatorHoldout: Ignoring 163 ( 0.5%) Users that have less than 1 test interactions\n",
      "EvaluatorHoldout: Processed 35573 (100.0%) in 51.03 sec. Users per second: 697\n",
      "Similarity column 38121 (100.0%), 2821.10 column/sec. Elapsed time 13.51 sec\n",
      "EvaluatorHoldout: Ignoring 150 ( 0.4%) Users that have less than 1 test interactions\n",
      "EvaluatorHoldout: Processed 35586 (100.0%) in 50.93 sec. Users per second: 699\n",
      "Similarity column 38121 (100.0%), 2832.08 column/sec. Elapsed time 13.46 sec\n",
      "EvaluatorHoldout: Ignoring 167 ( 0.5%) Users that have less than 1 test interactions\n",
      "EvaluatorHoldout: Processed 35569 (100.0%) in 51.13 sec. Users per second: 696\n",
      "Similarity column 38121 (100.0%), 2825.79 column/sec. Elapsed time 13.49 sec\n",
      "EvaluatorHoldout: Ignoring 172 ( 0.5%) Users that have less than 1 test interactions\n",
      "EvaluatorHoldout: Processed 35564 (100.0%) in 51.17 sec. Users per second: 695\n"
     ]
    },
    {
     "name": "stderr",
     "output_type": "stream",
     "text": [
      "[I 2025-01-06 00:35:29,703] Trial 390 finished with value: 0.25050400302757386 and parameters: {'similarity': 'cosine', 'topK': 421, 'shrink': 485, 'feature_weighting': 'TF-IDF'}. Best is trial 172 with value: 0.26030777685753526.\n"
     ]
    },
    {
     "name": "stdout",
     "output_type": "stream",
     "text": [
      "Similarity column 38121 (100.0%), 2953.79 column/sec. Elapsed time 12.91 sec\n",
      "EvaluatorHoldout: Ignoring 173 ( 0.5%) Users that have less than 1 test interactions\n",
      "EvaluatorHoldout: Processed 35563 (100.0%) in 35.61 sec. Users per second: 999\n",
      "Similarity column 38121 (100.0%), 2946.04 column/sec. Elapsed time 12.94 sec\n",
      "EvaluatorHoldout: Ignoring 163 ( 0.5%) Users that have less than 1 test interactions\n",
      "EvaluatorHoldout: Processed 35573 (100.0%) in 35.79 sec. Users per second: 994\n",
      "Similarity column 38121 (100.0%), 2921.52 column/sec. Elapsed time 13.05 sec\n",
      "EvaluatorHoldout: Ignoring 150 ( 0.4%) Users that have less than 1 test interactions\n",
      "EvaluatorHoldout: Processed 35586 (100.0%) in 35.48 sec. Users per second: 1003\n",
      "Similarity column 38121 (100.0%), 2936.64 column/sec. Elapsed time 12.98 sec\n",
      "EvaluatorHoldout: Ignoring 167 ( 0.5%) Users that have less than 1 test interactions\n",
      "EvaluatorHoldout: Processed 35569 (100.0%) in 35.57 sec. Users per second: 1000\n",
      "Similarity column 38121 (100.0%), 2925.68 column/sec. Elapsed time 13.03 sec\n",
      "EvaluatorHoldout: Ignoring 172 ( 0.5%) Users that have less than 1 test interactions\n",
      "EvaluatorHoldout: Processed 35564 (100.0%) in 35.77 sec. Users per second: 994\n"
     ]
    },
    {
     "name": "stderr",
     "output_type": "stream",
     "text": [
      "[I 2025-01-06 00:39:34,294] Trial 391 finished with value: 0.2593617169659936 and parameters: {'similarity': 'cosine', 'topK': 11, 'shrink': 543, 'feature_weighting': 'TF-IDF'}. Best is trial 172 with value: 0.26030777685753526.\n"
     ]
    },
    {
     "name": "stdout",
     "output_type": "stream",
     "text": [
      "Similarity column 38121 (100.0%), 2946.47 column/sec. Elapsed time 12.94 sec\n",
      "EvaluatorHoldout: Ignoring 173 ( 0.5%) Users that have less than 1 test interactions\n",
      "EvaluatorHoldout: Processed 35563 (100.0%) in 37.40 sec. Users per second: 951\n",
      "Similarity column 38121 (100.0%), 2920.55 column/sec. Elapsed time 13.05 sec\n",
      "EvaluatorHoldout: Ignoring 163 ( 0.5%) Users that have less than 1 test interactions\n",
      "EvaluatorHoldout: Processed 35573 (100.0%) in 37.43 sec. Users per second: 950\n",
      "Similarity column 38121 (100.0%), 2946.43 column/sec. Elapsed time 12.94 sec\n",
      "EvaluatorHoldout: Ignoring 150 ( 0.4%) Users that have less than 1 test interactions\n",
      "EvaluatorHoldout: Processed 35586 (100.0%) in 37.46 sec. Users per second: 950\n",
      "Similarity column 38121 (100.0%), 2932.01 column/sec. Elapsed time 13.00 sec\n",
      "EvaluatorHoldout: Ignoring 167 ( 0.5%) Users that have less than 1 test interactions\n",
      "EvaluatorHoldout: Processed 35569 (100.0%) in 37.34 sec. Users per second: 953\n",
      "Similarity column 38121 (100.0%), 2924.60 column/sec. Elapsed time 13.03 sec\n",
      "EvaluatorHoldout: Ignoring 172 ( 0.5%) Users that have less than 1 test interactions\n",
      "EvaluatorHoldout: Processed 35564 (100.0%) in 37.68 sec. Users per second: 944\n"
     ]
    },
    {
     "name": "stderr",
     "output_type": "stream",
     "text": [
      "[I 2025-01-06 00:43:48,112] Trial 392 finished with value: 0.2600063671313236 and parameters: {'similarity': 'cosine', 'topK': 29, 'shrink': 422, 'feature_weighting': 'TF-IDF'}. Best is trial 172 with value: 0.26030777685753526.\n"
     ]
    },
    {
     "name": "stdout",
     "output_type": "stream",
     "text": [
      "Similarity column 38121 (100.0%), 2959.35 column/sec. Elapsed time 12.88 sec\n",
      "EvaluatorHoldout: Ignoring 173 ( 0.5%) Users that have less than 1 test interactions\n",
      "EvaluatorHoldout: Processed 35563 (100.0%) in 35.58 sec. Users per second: 1000\n",
      "Similarity column 38121 (100.0%), 2930.75 column/sec. Elapsed time 13.01 sec\n",
      "EvaluatorHoldout: Ignoring 163 ( 0.5%) Users that have less than 1 test interactions\n",
      "EvaluatorHoldout: Processed 35573 (100.0%) in 35.73 sec. Users per second: 996\n",
      "Similarity column 38121 (100.0%), 2948.70 column/sec. Elapsed time 12.93 sec\n",
      "EvaluatorHoldout: Ignoring 150 ( 0.4%) Users that have less than 1 test interactions\n",
      "EvaluatorHoldout: Processed 35586 (100.0%) in 35.50 sec. Users per second: 1003\n",
      "Similarity column 38121 (100.0%), 2939.13 column/sec. Elapsed time 12.97 sec\n",
      "EvaluatorHoldout: Ignoring 167 ( 0.5%) Users that have less than 1 test interactions\n",
      "EvaluatorHoldout: Processed 35569 (100.0%) in 35.72 sec. Users per second: 996\n",
      "Similarity column 38121 (100.0%), 2944.14 column/sec. Elapsed time 12.95 sec\n",
      "EvaluatorHoldout: Ignoring 172 ( 0.5%) Users that have less than 1 test interactions\n",
      "EvaluatorHoldout: Processed 35564 (100.0%) in 35.70 sec. Users per second: 996\n"
     ]
    },
    {
     "name": "stderr",
     "output_type": "stream",
     "text": [
      "[I 2025-01-06 00:47:52,544] Trial 393 finished with value: 0.259550281077439 and parameters: {'similarity': 'cosine', 'topK': 12, 'shrink': 468, 'feature_weighting': 'TF-IDF'}. Best is trial 172 with value: 0.26030777685753526.\n"
     ]
    },
    {
     "name": "stdout",
     "output_type": "stream",
     "text": [
      "Similarity column 38121 (100.0%), 2929.96 column/sec. Elapsed time 13.01 sec\n",
      "EvaluatorHoldout: Ignoring 173 ( 0.5%) Users that have less than 1 test interactions\n",
      "EvaluatorHoldout: Processed 35563 (100.0%) in 39.96 sec. Users per second: 890\n",
      "Similarity column 38121 (100.0%), 2912.85 column/sec. Elapsed time 13.09 sec\n",
      "EvaluatorHoldout: Ignoring 163 ( 0.5%) Users that have less than 1 test interactions\n",
      "EvaluatorHoldout: Processed 35573 (100.0%) in 40.42 sec. Users per second: 880\n",
      "Similarity column 38121 (100.0%), 2912.73 column/sec. Elapsed time 13.09 sec\n",
      "EvaluatorHoldout: Ignoring 150 ( 0.4%) Users that have less than 1 test interactions\n",
      "EvaluatorHoldout: Processed 35586 (100.0%) in 40.59 sec. Users per second: 877\n",
      "Similarity column 38121 (100.0%), 2845.94 column/sec. Elapsed time 13.39 sec\n",
      "EvaluatorHoldout: Ignoring 167 ( 0.5%) Users that have less than 1 test interactions\n",
      "EvaluatorHoldout: Processed 35569 (100.0%) in 40.86 sec. Users per second: 870\n",
      "Similarity column 38121 (100.0%), 2872.00 column/sec. Elapsed time 13.27 sec\n",
      "EvaluatorHoldout: Ignoring 172 ( 0.5%) Users that have less than 1 test interactions\n",
      "EvaluatorHoldout: Processed 35564 (100.0%) in 40.54 sec. Users per second: 877\n"
     ]
    },
    {
     "name": "stderr",
     "output_type": "stream",
     "text": [
      "[I 2025-01-06 00:52:22,709] Trial 394 finished with value: 0.2576169219628822 and parameters: {'similarity': 'cosine', 'topK': 68, 'shrink': 433, 'feature_weighting': 'TF-IDF'}. Best is trial 172 with value: 0.26030777685753526.\n"
     ]
    },
    {
     "name": "stdout",
     "output_type": "stream",
     "text": [
      "Similarity column 38121 (100.0%), 2914.84 column/sec. Elapsed time 13.08 sec\n",
      "EvaluatorHoldout: Ignoring 173 ( 0.5%) Users that have less than 1 test interactions\n",
      "EvaluatorHoldout: Processed 35563 (100.0%) in 39.57 sec. Users per second: 899\n",
      "Similarity column 38121 (100.0%), 2884.53 column/sec. Elapsed time 13.22 sec\n",
      "EvaluatorHoldout: Ignoring 163 ( 0.5%) Users that have less than 1 test interactions\n",
      "EvaluatorHoldout: Processed 35573 (100.0%) in 40.24 sec. Users per second: 884\n",
      "Similarity column 38121 (100.0%), 2883.58 column/sec. Elapsed time 13.22 sec\n",
      "EvaluatorHoldout: Ignoring 150 ( 0.4%) Users that have less than 1 test interactions\n",
      "EvaluatorHoldout: Processed 35586 (100.0%) in 39.59 sec. Users per second: 899\n",
      "Similarity column 38121 (100.0%), 2903.26 column/sec. Elapsed time 13.13 sec\n",
      "EvaluatorHoldout: Ignoring 167 ( 0.5%) Users that have less than 1 test interactions\n",
      "EvaluatorHoldout: Processed 35569 (100.0%) in 39.86 sec. Users per second: 892\n",
      "Similarity column 38121 (100.0%), 2887.03 column/sec. Elapsed time 13.20 sec\n",
      "EvaluatorHoldout: Ignoring 172 ( 0.5%) Users that have less than 1 test interactions\n",
      "EvaluatorHoldout: Processed 35564 (100.0%) in 40.12 sec. Users per second: 887\n"
     ]
    },
    {
     "name": "stderr",
     "output_type": "stream",
     "text": [
      "[I 2025-01-06 00:56:49,954] Trial 395 finished with value: 0.25864445652737356 and parameters: {'similarity': 'cosine', 'topK': 51, 'shrink': 513, 'feature_weighting': 'TF-IDF'}. Best is trial 172 with value: 0.26030777685753526.\n"
     ]
    },
    {
     "name": "stdout",
     "output_type": "stream",
     "text": [
      "Similarity column 38121 (100.0%), 2669.27 column/sec. Elapsed time 14.28 sec\n",
      "EvaluatorHoldout: Ignoring 173 ( 0.5%) Users that have less than 1 test interactions\n",
      "EvaluatorHoldout: Processed 35563 (100.0%) in 40.65 sec. Users per second: 875\n",
      "Similarity column 38121 (100.0%), 2728.35 column/sec. Elapsed time 13.97 sec\n",
      "EvaluatorHoldout: Ignoring 163 ( 0.5%) Users that have less than 1 test interactions\n",
      "EvaluatorHoldout: Processed 35573 (100.0%) in 40.65 sec. Users per second: 875\n",
      "Similarity column 38121 (100.0%), 2744.27 column/sec. Elapsed time 13.89 sec\n",
      "EvaluatorHoldout: Ignoring 150 ( 0.4%) Users that have less than 1 test interactions\n",
      "EvaluatorHoldout: Processed 35586 (100.0%) in 40.14 sec. Users per second: 886\n",
      "Similarity column 38121 (100.0%), 2700.83 column/sec. Elapsed time 14.11 sec\n",
      "EvaluatorHoldout: Ignoring 167 ( 0.5%) Users that have less than 1 test interactions\n",
      "EvaluatorHoldout: Processed 35569 (100.0%) in 40.77 sec. Users per second: 873\n",
      "Similarity column 38121 (100.0%), 2696.77 column/sec. Elapsed time 14.14 sec\n",
      "EvaluatorHoldout: Ignoring 172 ( 0.5%) Users that have less than 1 test interactions\n",
      "EvaluatorHoldout: Processed 35564 (100.0%) in 40.55 sec. Users per second: 877\n"
     ]
    },
    {
     "name": "stderr",
     "output_type": "stream",
     "text": [
      "[I 2025-01-06 01:01:25,736] Trial 396 finished with value: 0.21526253969522138 and parameters: {'similarity': 'tversky', 'topK': 32, 'shrink': 570, 'feature_weighting': 'TF-IDF', 'tversky_alpha': 1.9956336986166412, 'tversky_beta': 0.01114539511178636}. Best is trial 172 with value: 0.26030777685753526.\n"
     ]
    },
    {
     "name": "stdout",
     "output_type": "stream",
     "text": [
      "Similarity column 38121 (100.0%), 3427.85 column/sec. Elapsed time 11.12 sec\n",
      "EvaluatorHoldout: Ignoring 173 ( 0.5%) Users that have less than 1 test interactions\n",
      "EvaluatorHoldout: Processed 35563 (100.0%) in 31.11 sec. Users per second: 1143\n",
      "Similarity column 38121 (100.0%), 3421.23 column/sec. Elapsed time 11.14 sec\n",
      "EvaluatorHoldout: Ignoring 163 ( 0.5%) Users that have less than 1 test interactions\n",
      "EvaluatorHoldout: Processed 35573 (100.0%) in 31.23 sec. Users per second: 1139\n",
      "Similarity column 38121 (100.0%), 3450.47 column/sec. Elapsed time 11.05 sec\n",
      "EvaluatorHoldout: Ignoring 150 ( 0.4%) Users that have less than 1 test interactions\n",
      "EvaluatorHoldout: Processed 35586 (100.0%) in 31.15 sec. Users per second: 1143\n",
      "Similarity column 38121 (100.0%), 3465.19 column/sec. Elapsed time 11.00 sec\n",
      "EvaluatorHoldout: Ignoring 167 ( 0.5%) Users that have less than 1 test interactions\n",
      "EvaluatorHoldout: Processed 35569 (100.0%) in 31.19 sec. Users per second: 1140\n",
      "Similarity column 38121 (100.0%), 3422.80 column/sec. Elapsed time 11.14 sec\n",
      "EvaluatorHoldout: Ignoring 172 ( 0.5%) Users that have less than 1 test interactions\n",
      "EvaluatorHoldout: Processed 35564 (100.0%) in 31.39 sec. Users per second: 1133\n"
     ]
    },
    {
     "name": "stderr",
     "output_type": "stream",
     "text": [
      "[I 2025-01-06 01:04:58,671] Trial 397 finished with value: 0.1587515171345776 and parameters: {'similarity': 'cosine', 'topK': 1, 'shrink': 413, 'feature_weighting': 'TF-IDF'}. Best is trial 172 with value: 0.26030777685753526.\n"
     ]
    },
    {
     "name": "stdout",
     "output_type": "stream",
     "text": [
      "Similarity column 38121 (100.0%), 2947.36 column/sec. Elapsed time 12.93 sec\n",
      "EvaluatorHoldout: Ignoring 173 ( 0.5%) Users that have less than 1 test interactions\n",
      "EvaluatorHoldout: Processed 35563 (100.0%) in 35.87 sec. Users per second: 991\n",
      "Similarity column 38121 (100.0%), 2953.05 column/sec. Elapsed time 12.91 sec\n",
      "EvaluatorHoldout: Ignoring 163 ( 0.5%) Users that have less than 1 test interactions\n",
      "EvaluatorHoldout: Processed 35573 (100.0%) in 36.02 sec. Users per second: 988\n",
      "Similarity column 38121 (100.0%), 2949.45 column/sec. Elapsed time 12.92 sec\n",
      "EvaluatorHoldout: Ignoring 150 ( 0.4%) Users that have less than 1 test interactions\n",
      "EvaluatorHoldout: Processed 35586 (100.0%) in 36.09 sec. Users per second: 986\n",
      "Similarity column 38121 (100.0%), 2929.35 column/sec. Elapsed time 13.01 sec\n",
      "EvaluatorHoldout: Ignoring 167 ( 0.5%) Users that have less than 1 test interactions\n",
      "EvaluatorHoldout: Processed 35569 (100.0%) in 35.99 sec. Users per second: 988\n",
      "Similarity column 38121 (100.0%), 2936.62 column/sec. Elapsed time 12.98 sec\n",
      "EvaluatorHoldout: Ignoring 172 ( 0.5%) Users that have less than 1 test interactions\n",
      "EvaluatorHoldout: Processed 35564 (100.0%) in 36.13 sec. Users per second: 984\n"
     ]
    },
    {
     "name": "stderr",
     "output_type": "stream",
     "text": [
      "[I 2025-01-06 01:09:05,018] Trial 398 finished with value: 0.2599170715747089 and parameters: {'similarity': 'cosine', 'topK': 15, 'shrink': 447, 'feature_weighting': 'TF-IDF'}. Best is trial 172 with value: 0.26030777685753526.\n"
     ]
    },
    {
     "name": "stdout",
     "output_type": "stream",
     "text": [
      "Similarity column 38121 (100.0%), 2909.12 column/sec. Elapsed time 13.10 sec\n",
      "EvaluatorHoldout: Ignoring 173 ( 0.5%) Users that have less than 1 test interactions\n",
      "EvaluatorHoldout: Processed 35563 (100.0%) in 38.61 sec. Users per second: 921\n",
      "Similarity column 38121 (100.0%), 2907.56 column/sec. Elapsed time 13.11 sec\n",
      "EvaluatorHoldout: Ignoring 163 ( 0.5%) Users that have less than 1 test interactions\n",
      "EvaluatorHoldout: Processed 35573 (100.0%) in 38.56 sec. Users per second: 922\n",
      "Similarity column 38121 (100.0%), 2936.51 column/sec. Elapsed time 12.98 sec\n",
      "EvaluatorHoldout: Ignoring 150 ( 0.4%) Users that have less than 1 test interactions\n",
      "EvaluatorHoldout: Processed 35586 (100.0%) in 38.44 sec. Users per second: 926\n",
      "Similarity column 38121 (100.0%), 2922.29 column/sec. Elapsed time 13.04 sec\n",
      "EvaluatorHoldout: Ignoring 167 ( 0.5%) Users that have less than 1 test interactions\n",
      "EvaluatorHoldout: Processed 35569 (100.0%) in 38.41 sec. Users per second: 926\n",
      "Similarity column 38121 (100.0%), 2918.79 column/sec. Elapsed time 13.06 sec\n",
      "EvaluatorHoldout: Ignoring 172 ( 0.5%) Users that have less than 1 test interactions\n",
      "EvaluatorHoldout: Processed 35564 (100.0%) in 38.38 sec. Users per second: 927\n"
     ]
    },
    {
     "name": "stderr",
     "output_type": "stream",
     "text": [
      "[I 2025-01-06 01:13:24,452] Trial 399 finished with value: 0.2590987364778049 and parameters: {'similarity': 'cosine', 'topK': 42, 'shrink': 488, 'feature_weighting': 'TF-IDF'}. Best is trial 172 with value: 0.26030777685753526.\n"
     ]
    },
    {
     "name": "stdout",
     "output_type": "stream",
     "text": [
      "Similarity column 38121 (100.0%), 2872.87 column/sec. Elapsed time 13.27 sec\n",
      "EvaluatorHoldout: Ignoring 173 ( 0.5%) Users that have less than 1 test interactions\n",
      "EvaluatorHoldout: Processed 35563 (100.0%) in 37.59 sec. Users per second: 946\n",
      "Similarity column 38121 (100.0%), 2913.41 column/sec. Elapsed time 13.08 sec\n",
      "EvaluatorHoldout: Ignoring 163 ( 0.5%) Users that have less than 1 test interactions\n",
      "EvaluatorHoldout: Processed 35573 (100.0%) in 38.02 sec. Users per second: 936\n",
      "Similarity column 38121 (100.0%), 2910.19 column/sec. Elapsed time 13.10 sec\n",
      "EvaluatorHoldout: Ignoring 150 ( 0.4%) Users that have less than 1 test interactions\n",
      "EvaluatorHoldout: Processed 35586 (100.0%) in 37.54 sec. Users per second: 948\n",
      "Similarity column 38121 (100.0%), 2905.16 column/sec. Elapsed time 13.12 sec\n",
      "EvaluatorHoldout: Ignoring 167 ( 0.5%) Users that have less than 1 test interactions\n",
      "EvaluatorHoldout: Processed 35569 (100.0%) in 37.92 sec. Users per second: 938\n",
      "Similarity column 38121 (100.0%), 2908.55 column/sec. Elapsed time 13.11 sec\n",
      "EvaluatorHoldout: Ignoring 172 ( 0.5%) Users that have less than 1 test interactions\n",
      "EvaluatorHoldout: Processed 35564 (100.0%) in 37.61 sec. Users per second: 946\n"
     ]
    },
    {
     "name": "stderr",
     "output_type": "stream",
     "text": [
      "[I 2025-01-06 01:17:40,430] Trial 400 finished with value: 0.25161241253935335 and parameters: {'similarity': 'asymmetric', 'topK': 25, 'shrink': 463, 'feature_weighting': 'TF-IDF', 'asymmetric_alpha': 0.6278948142291736}. Best is trial 172 with value: 0.26030777685753526.\n"
     ]
    },
    {
     "name": "stdout",
     "output_type": "stream",
     "text": [
      "Similarity column 38121 (100.0%), 3798.13 column/sec. Elapsed time 10.04 sec\n",
      "EvaluatorHoldout: Ignoring 173 ( 0.5%) Users that have less than 1 test interactions\n",
      "EvaluatorHoldout: Processed 35563 (100.0%) in 27.72 sec. Users per second: 1283\n",
      "Similarity column 38121 (100.0%), 3962.25 column/sec. Elapsed time 9.62 sec\n",
      "EvaluatorHoldout: Ignoring 163 ( 0.5%) Users that have less than 1 test interactions\n",
      "EvaluatorHoldout: Processed 35573 (100.0%) in 27.90 sec. Users per second: 1275\n",
      "Similarity column 38121 (100.0%), 3937.81 column/sec. Elapsed time 9.68 sec\n",
      "EvaluatorHoldout: Ignoring 150 ( 0.4%) Users that have less than 1 test interactions\n",
      "EvaluatorHoldout: Processed 35586 (100.0%) in 27.73 sec. Users per second: 1284\n",
      "Similarity column 38121 (100.0%), 3963.89 column/sec. Elapsed time 9.62 sec\n",
      "EvaluatorHoldout: Ignoring 167 ( 0.5%) Users that have less than 1 test interactions\n",
      "EvaluatorHoldout: Processed 35569 (100.0%) in 27.76 sec. Users per second: 1281\n",
      "Similarity column 38121 (100.0%), 3754.10 column/sec. Elapsed time 10.15 sec\n",
      "EvaluatorHoldout: Ignoring 172 ( 0.5%) Users that have less than 1 test interactions\n",
      "EvaluatorHoldout: Processed 35564 (100.0%) in 27.65 sec. Users per second: 1286\n"
     ]
    },
    {
     "name": "stderr",
     "output_type": "stream",
     "text": [
      "[I 2025-01-06 01:20:50,499] Trial 401 finished with value: 0.0055265346604531345 and parameters: {'similarity': 'jaccard', 'topK': 0, 'shrink': 402, 'feature_weighting': 'TF-IDF'}. Best is trial 172 with value: 0.26030777685753526.\n"
     ]
    },
    {
     "name": "stdout",
     "output_type": "stream",
     "text": [
      "Similarity column 38121 (100.0%), 2921.79 column/sec. Elapsed time 13.05 sec\n",
      "EvaluatorHoldout: Ignoring 173 ( 0.5%) Users that have less than 1 test interactions\n",
      "EvaluatorHoldout: Processed 35563 (100.0%) in 36.83 sec. Users per second: 966\n",
      "Similarity column 38121 (100.0%), 2865.60 column/sec. Elapsed time 13.30 sec\n",
      "EvaluatorHoldout: Ignoring 163 ( 0.5%) Users that have less than 1 test interactions\n",
      "EvaluatorHoldout: Processed 35573 (100.0%) in 36.84 sec. Users per second: 966\n",
      "Similarity column 38121 (100.0%), 2948.42 column/sec. Elapsed time 12.93 sec\n",
      "EvaluatorHoldout: Ignoring 150 ( 0.4%) Users that have less than 1 test interactions\n",
      "EvaluatorHoldout: Processed 35586 (100.0%) in 36.78 sec. Users per second: 967\n",
      "Similarity column 38121 (100.0%), 2938.55 column/sec. Elapsed time 12.97 sec\n",
      "EvaluatorHoldout: Ignoring 167 ( 0.5%) Users that have less than 1 test interactions\n",
      "EvaluatorHoldout: Processed 35569 (100.0%) in 36.69 sec. Users per second: 969\n",
      "Similarity column 38121 (100.0%), 2938.14 column/sec. Elapsed time 12.97 sec\n",
      "EvaluatorHoldout: Ignoring 172 ( 0.5%) Users that have less than 1 test interactions\n",
      "EvaluatorHoldout: Processed 35564 (100.0%) in 37.03 sec. Users per second: 960\n"
     ]
    },
    {
     "name": "stderr",
     "output_type": "stream",
     "text": [
      "[I 2025-01-06 01:25:01,411] Trial 402 finished with value: 0.2602354350090934 and parameters: {'similarity': 'cosine', 'topK': 22, 'shrink': 380, 'feature_weighting': 'TF-IDF'}. Best is trial 172 with value: 0.26030777685753526.\n"
     ]
    },
    {
     "name": "stdout",
     "output_type": "stream",
     "text": [
      "Similarity column 38121 (100.0%), 469.72 column/sec. Elapsed time 1.35 min\n",
      "EvaluatorHoldout: Ignoring 173 ( 0.5%) Users that have less than 1 test interactions\n",
      "EvaluatorHoldout: Processed 35563 (100.0%) in 38.29 sec. Users per second: 929\n",
      "Similarity column 38121 (100.0%), 464.72 column/sec. Elapsed time 1.37 min\n",
      "EvaluatorHoldout: Ignoring 163 ( 0.5%) Users that have less than 1 test interactions\n",
      "EvaluatorHoldout: Processed 35573 (100.0%) in 38.00 sec. Users per second: 936\n",
      "Similarity column 38121 (100.0%), 472.03 column/sec. Elapsed time 1.35 min\n",
      "EvaluatorHoldout: Ignoring 150 ( 0.4%) Users that have less than 1 test interactions\n",
      "EvaluatorHoldout: Processed 35586 (100.0%) in 38.20 sec. Users per second: 932\n",
      "Similarity column 38121 (100.0%), 471.77 column/sec. Elapsed time 1.35 min\n",
      "EvaluatorHoldout: Ignoring 167 ( 0.5%) Users that have less than 1 test interactions\n",
      "EvaluatorHoldout: Processed 35569 (100.0%) in 38.03 sec. Users per second: 935\n",
      "Similarity column 38121 (100.0%), 465.08 column/sec. Elapsed time 1.37 min\n",
      "EvaluatorHoldout: Ignoring 172 ( 0.5%) Users that have less than 1 test interactions\n",
      "EvaluatorHoldout: Processed 35564 (100.0%) in 38.00 sec. Users per second: 936\n"
     ]
    },
    {
     "name": "stderr",
     "output_type": "stream",
     "text": [
      "[I 2025-01-06 01:35:00,002] Trial 403 finished with value: 0.21568719784113383 and parameters: {'similarity': 'euclidean', 'topK': 40, 'shrink': 381, 'feature_weighting': 'TF-IDF', 'normalize_avg_row': True, 'similarity_from_distance_mode': 'log', 'normalize': True}. Best is trial 172 with value: 0.26030777685753526.\n"
     ]
    },
    {
     "name": "stdout",
     "output_type": "stream",
     "text": [
      "Similarity column 38121 (100.0%), 2914.67 column/sec. Elapsed time 13.08 sec\n",
      "EvaluatorHoldout: Ignoring 173 ( 0.5%) Users that have less than 1 test interactions\n",
      "EvaluatorHoldout: Processed 35563 (100.0%) in 39.34 sec. Users per second: 904\n",
      "Similarity column 38121 (100.0%), 2923.47 column/sec. Elapsed time 13.04 sec\n",
      "EvaluatorHoldout: Ignoring 163 ( 0.5%) Users that have less than 1 test interactions\n",
      "EvaluatorHoldout: Processed 35573 (100.0%) in 39.60 sec. Users per second: 898\n",
      "Similarity column 38121 (100.0%), 2902.39 column/sec. Elapsed time 13.13 sec\n",
      "EvaluatorHoldout: Ignoring 150 ( 0.4%) Users that have less than 1 test interactions\n",
      "EvaluatorHoldout: Processed 35586 (100.0%) in 39.55 sec. Users per second: 900\n",
      "Similarity column 38121 (100.0%), 2930.81 column/sec. Elapsed time 13.01 sec\n",
      "EvaluatorHoldout: Ignoring 167 ( 0.5%) Users that have less than 1 test interactions\n",
      "EvaluatorHoldout: Processed 35569 (100.0%) in 39.57 sec. Users per second: 899\n",
      "Similarity column 38121 (100.0%), 2913.51 column/sec. Elapsed time 13.08 sec\n",
      "EvaluatorHoldout: Ignoring 172 ( 0.5%) Users that have less than 1 test interactions\n",
      "EvaluatorHoldout: Processed 35564 (100.0%) in 39.55 sec. Users per second: 899\n"
     ]
    },
    {
     "name": "stderr",
     "output_type": "stream",
     "text": [
      "[I 2025-01-06 01:39:24,787] Trial 404 finished with value: 0.2582417723800057 and parameters: {'similarity': 'cosine', 'topK': 59, 'shrink': 431, 'feature_weighting': 'TF-IDF'}. Best is trial 172 with value: 0.26030777685753526.\n"
     ]
    },
    {
     "name": "stdout",
     "output_type": "stream",
     "text": [
      "Similarity column 38121 (100.0%), 2908.76 column/sec. Elapsed time 13.11 sec\n",
      "EvaluatorHoldout: Ignoring 173 ( 0.5%) Users that have less than 1 test interactions\n",
      "EvaluatorHoldout: Processed 35563 (100.0%) in 36.63 sec. Users per second: 971\n",
      "Similarity column 38121 (100.0%), 2926.77 column/sec. Elapsed time 13.02 sec\n",
      "EvaluatorHoldout: Ignoring 163 ( 0.5%) Users that have less than 1 test interactions\n",
      "EvaluatorHoldout: Processed 35573 (100.0%) in 36.93 sec. Users per second: 963\n",
      "Similarity column 38121 (100.0%), 2922.41 column/sec. Elapsed time 13.04 sec\n",
      "EvaluatorHoldout: Ignoring 150 ( 0.4%) Users that have less than 1 test interactions\n",
      "EvaluatorHoldout: Processed 35586 (100.0%) in 36.59 sec. Users per second: 973\n",
      "Similarity column 38121 (100.0%), 2933.09 column/sec. Elapsed time 13.00 sec\n",
      "EvaluatorHoldout: Ignoring 167 ( 0.5%) Users that have less than 1 test interactions\n",
      "EvaluatorHoldout: Processed 35569 (100.0%) in 36.86 sec. Users per second: 965\n",
      "Similarity column 38121 (100.0%), 2934.04 column/sec. Elapsed time 12.99 sec\n",
      "EvaluatorHoldout: Ignoring 172 ( 0.5%) Users that have less than 1 test interactions\n",
      "EvaluatorHoldout: Processed 35564 (100.0%) in 36.87 sec. Users per second: 965\n"
     ]
    },
    {
     "name": "stderr",
     "output_type": "stream",
     "text": [
      "[I 2025-01-06 01:43:35,315] Trial 405 finished with value: 0.26021629845031924 and parameters: {'similarity': 'cosine', 'topK': 21, 'shrink': 414, 'feature_weighting': 'TF-IDF'}. Best is trial 172 with value: 0.26030777685753526.\n"
     ]
    },
    {
     "name": "stdout",
     "output_type": "stream",
     "text": [
      "Similarity column 38121 (100.0%), 3018.08 column/sec. Elapsed time 12.63 sec\n",
      "EvaluatorHoldout: Ignoring 173 ( 0.5%) Users that have less than 1 test interactions\n",
      "EvaluatorHoldout: Processed 35563 (100.0%) in 43.08 sec. Users per second: 826\n",
      "Similarity column 38121 (100.0%), 3015.05 column/sec. Elapsed time 12.64 sec\n",
      "EvaluatorHoldout: Ignoring 163 ( 0.5%) Users that have less than 1 test interactions\n",
      "EvaluatorHoldout: Processed 35573 (100.0%) in 43.38 sec. Users per second: 820\n",
      "Similarity column 38121 (100.0%), 3028.49 column/sec. Elapsed time 12.59 sec\n",
      "EvaluatorHoldout: Ignoring 150 ( 0.4%) Users that have less than 1 test interactions\n",
      "EvaluatorHoldout: Processed 35586 (100.0%) in 43.21 sec. Users per second: 824\n",
      "Similarity column 38121 (100.0%), 2995.15 column/sec. Elapsed time 12.73 sec\n",
      "EvaluatorHoldout: Ignoring 167 ( 0.5%) Users that have less than 1 test interactions\n",
      "EvaluatorHoldout: Processed 35569 (100.0%) in 42.99 sec. Users per second: 827\n",
      "Similarity column 38121 (100.0%), 3002.78 column/sec. Elapsed time 12.70 sec\n",
      "EvaluatorHoldout: Ignoring 172 ( 0.5%) Users that have less than 1 test interactions\n",
      "EvaluatorHoldout: Processed 35564 (100.0%) in 43.03 sec. Users per second: 826\n"
     ]
    },
    {
     "name": "stderr",
     "output_type": "stream",
     "text": [
      "[I 2025-01-06 01:48:17,103] Trial 406 finished with value: 0.2249226784457174 and parameters: {'similarity': 'dice', 'topK': 98, 'shrink': 396, 'feature_weighting': 'TF-IDF'}. Best is trial 172 with value: 0.26030777685753526.\n"
     ]
    },
    {
     "name": "stdout",
     "output_type": "stream",
     "text": [
      "Similarity column 38121 (100.0%), 2947.08 column/sec. Elapsed time 12.94 sec\n",
      "EvaluatorHoldout: Ignoring 173 ( 0.5%) Users that have less than 1 test interactions\n",
      "EvaluatorHoldout: Processed 35563 (100.0%) in 36.37 sec. Users per second: 978\n",
      "Similarity column 38121 (100.0%), 2921.61 column/sec. Elapsed time 13.05 sec\n",
      "EvaluatorHoldout: Ignoring 163 ( 0.5%) Users that have less than 1 test interactions\n",
      "EvaluatorHoldout: Processed 35573 (100.0%) in 36.47 sec. Users per second: 975\n",
      "Similarity column 38121 (100.0%), 2899.17 column/sec. Elapsed time 13.15 sec\n",
      "EvaluatorHoldout: Ignoring 150 ( 0.4%) Users that have less than 1 test interactions\n",
      "EvaluatorHoldout: Processed 35586 (100.0%) in 36.63 sec. Users per second: 972\n",
      "Similarity column 38121 (100.0%), 2920.02 column/sec. Elapsed time 13.06 sec\n",
      "EvaluatorHoldout: Ignoring 167 ( 0.5%) Users that have less than 1 test interactions\n",
      "EvaluatorHoldout: Processed 35569 (100.0%) in 36.78 sec. Users per second: 967\n",
      "Similarity column 38121 (100.0%), 2909.12 column/sec. Elapsed time 13.10 sec\n",
      "EvaluatorHoldout: Ignoring 172 ( 0.5%) Users that have less than 1 test interactions\n",
      "EvaluatorHoldout: Processed 35564 (100.0%) in 36.56 sec. Users per second: 973\n"
     ]
    },
    {
     "name": "stderr",
     "output_type": "stream",
     "text": [
      "[I 2025-01-06 01:52:26,785] Trial 407 finished with value: 0.26004879526486435 and parameters: {'similarity': 'cosine', 'topK': 16, 'shrink': 497, 'feature_weighting': 'TF-IDF'}. Best is trial 172 with value: 0.26030777685753526.\n"
     ]
    },
    {
     "name": "stdout",
     "output_type": "stream",
     "text": [
      "Similarity column 38121 (100.0%), 2924.06 column/sec. Elapsed time 13.04 sec\n",
      "EvaluatorHoldout: Ignoring 173 ( 0.5%) Users that have less than 1 test interactions\n",
      "EvaluatorHoldout: Processed 35563 (100.0%) in 38.63 sec. Users per second: 921\n",
      "Similarity column 38121 (100.0%), 2906.89 column/sec. Elapsed time 13.11 sec\n",
      "EvaluatorHoldout: Ignoring 163 ( 0.5%) Users that have less than 1 test interactions\n",
      "EvaluatorHoldout: Processed 35573 (100.0%) in 38.24 sec. Users per second: 930\n",
      "Similarity column 38121 (100.0%), 2937.38 column/sec. Elapsed time 12.98 sec\n",
      "EvaluatorHoldout: Ignoring 150 ( 0.4%) Users that have less than 1 test interactions\n",
      "EvaluatorHoldout: Processed 35586 (100.0%) in 38.07 sec. Users per second: 935\n",
      "Similarity column 38121 (100.0%), 2921.19 column/sec. Elapsed time 13.05 sec\n",
      "EvaluatorHoldout: Ignoring 167 ( 0.5%) Users that have less than 1 test interactions\n",
      "EvaluatorHoldout: Processed 35569 (100.0%) in 38.41 sec. Users per second: 926\n",
      "Similarity column 38121 (100.0%), 2907.58 column/sec. Elapsed time 13.11 sec\n",
      "EvaluatorHoldout: Ignoring 172 ( 0.5%) Users that have less than 1 test interactions\n",
      "EvaluatorHoldout: Processed 35564 (100.0%) in 38.38 sec. Users per second: 927\n"
     ]
    },
    {
     "name": "stderr",
     "output_type": "stream",
     "text": [
      "[I 2025-01-06 01:56:45,511] Trial 408 finished with value: 0.25969059714374343 and parameters: {'similarity': 'cosine', 'topK': 36, 'shrink': 435, 'feature_weighting': 'TF-IDF'}. Best is trial 172 with value: 0.26030777685753526.\n"
     ]
    },
    {
     "name": "stdout",
     "output_type": "stream",
     "text": [
      "Similarity column 38121 (100.0%), 2859.06 column/sec. Elapsed time 13.33 sec\n",
      "EvaluatorHoldout: Ignoring 173 ( 0.5%) Users that have less than 1 test interactions\n",
      "EvaluatorHoldout: Processed 35563 (100.0%) in 42.66 sec. Users per second: 834\n",
      "Similarity column 38121 (100.0%), 2851.72 column/sec. Elapsed time 13.37 sec\n",
      "EvaluatorHoldout: Ignoring 163 ( 0.5%) Users that have less than 1 test interactions\n",
      "EvaluatorHoldout: Processed 35573 (100.0%) in 42.15 sec. Users per second: 844\n",
      "Similarity column 38121 (100.0%), 2852.23 column/sec. Elapsed time 13.37 sec\n",
      "EvaluatorHoldout: Ignoring 150 ( 0.4%) Users that have less than 1 test interactions\n",
      "EvaluatorHoldout: Processed 35586 (100.0%) in 41.63 sec. Users per second: 855\n",
      "Similarity column 38121 (100.0%), 2846.06 column/sec. Elapsed time 13.39 sec\n",
      "EvaluatorHoldout: Ignoring 167 ( 0.5%) Users that have less than 1 test interactions\n",
      "EvaluatorHoldout: Processed 35569 (100.0%) in 41.96 sec. Users per second: 848\n",
      "Similarity column 38121 (100.0%), 2828.10 column/sec. Elapsed time 13.48 sec\n",
      "EvaluatorHoldout: Ignoring 172 ( 0.5%) Users that have less than 1 test interactions\n",
      "EvaluatorHoldout: Processed 35564 (100.0%) in 42.21 sec. Users per second: 843\n"
     ]
    },
    {
     "name": "stderr",
     "output_type": "stream",
     "text": [
      "[I 2025-01-06 02:01:24,381] Trial 409 finished with value: 0.21984525305723507 and parameters: {'similarity': 'cosine', 'topK': 49, 'shrink': 382, 'feature_weighting': 'none'}. Best is trial 172 with value: 0.26030777685753526.\n"
     ]
    },
    {
     "name": "stdout",
     "output_type": "stream",
     "text": [
      "Similarity column 38121 (100.0%), 3743.12 column/sec. Elapsed time 10.18 sec\n",
      "EvaluatorHoldout: Ignoring 173 ( 0.5%) Users that have less than 1 test interactions\n",
      "EvaluatorHoldout: Processed 35563 (100.0%) in 27.41 sec. Users per second: 1297\n",
      "Similarity column 38121 (100.0%), 3764.07 column/sec. Elapsed time 10.13 sec\n",
      "EvaluatorHoldout: Ignoring 163 ( 0.5%) Users that have less than 1 test interactions\n",
      "EvaluatorHoldout: Processed 35573 (100.0%) in 27.83 sec. Users per second: 1278\n",
      "Similarity column 38121 (100.0%), 3782.49 column/sec. Elapsed time 10.08 sec\n",
      "EvaluatorHoldout: Ignoring 150 ( 0.4%) Users that have less than 1 test interactions\n",
      "EvaluatorHoldout: Processed 35586 (100.0%) in 27.75 sec. Users per second: 1282\n",
      "Similarity column 38121 (100.0%), 3724.72 column/sec. Elapsed time 10.23 sec\n",
      "EvaluatorHoldout: Ignoring 167 ( 0.5%) Users that have less than 1 test interactions\n",
      "EvaluatorHoldout: Processed 35569 (100.0%) in 27.58 sec. Users per second: 1290\n",
      "Similarity column 38121 (100.0%), 3760.92 column/sec. Elapsed time 10.14 sec\n",
      "EvaluatorHoldout: Ignoring 172 ( 0.5%) Users that have less than 1 test interactions\n",
      "EvaluatorHoldout: Processed 35564 (100.0%) in 27.59 sec. Users per second: 1289\n"
     ]
    },
    {
     "name": "stderr",
     "output_type": "stream",
     "text": [
      "[I 2025-01-06 02:04:34,691] Trial 410 finished with value: 0.0055265346604531345 and parameters: {'similarity': 'cosine', 'topK': 0, 'shrink': 472, 'feature_weighting': 'TF-IDF'}. Best is trial 172 with value: 0.26030777685753526.\n"
     ]
    },
    {
     "name": "stdout",
     "output_type": "stream",
     "text": [
      "Similarity column 38121 (100.0%), 2952.36 column/sec. Elapsed time 12.91 sec\n",
      "EvaluatorHoldout: Ignoring 173 ( 0.5%) Users that have less than 1 test interactions\n",
      "EvaluatorHoldout: Processed 35563 (100.0%) in 36.73 sec. Users per second: 968\n",
      "Similarity column 38121 (100.0%), 2851.16 column/sec. Elapsed time 13.37 sec\n",
      "EvaluatorHoldout: Ignoring 163 ( 0.5%) Users that have less than 1 test interactions\n",
      "EvaluatorHoldout: Processed 35573 (100.0%) in 37.06 sec. Users per second: 960\n",
      "Similarity column 38121 (100.0%), 2942.37 column/sec. Elapsed time 12.96 sec\n",
      "EvaluatorHoldout: Ignoring 150 ( 0.4%) Users that have less than 1 test interactions\n",
      "EvaluatorHoldout: Processed 35586 (100.0%) in 36.99 sec. Users per second: 962\n",
      "Similarity column 38121 (100.0%), 2931.03 column/sec. Elapsed time 13.01 sec\n",
      "EvaluatorHoldout: Ignoring 167 ( 0.5%) Users that have less than 1 test interactions\n",
      "EvaluatorHoldout: Processed 35569 (100.0%) in 36.89 sec. Users per second: 964\n",
      "Similarity column 38121 (100.0%), 2944.00 column/sec. Elapsed time 12.95 sec\n",
      "EvaluatorHoldout: Ignoring 172 ( 0.5%) Users that have less than 1 test interactions\n",
      "EvaluatorHoldout: Processed 35564 (100.0%) in 36.98 sec. Users per second: 962\n"
     ]
    },
    {
     "name": "stderr",
     "output_type": "stream",
     "text": [
      "[I 2025-01-06 02:08:46,069] Trial 411 finished with value: 0.26030932919014205 and parameters: {'similarity': 'cosine', 'topK': 22, 'shrink': 529, 'feature_weighting': 'TF-IDF'}. Best is trial 411 with value: 0.26030932919014205.\n"
     ]
    },
    {
     "name": "stdout",
     "output_type": "stream",
     "text": [
      "Similarity column 38121 (100.0%), 2944.35 column/sec. Elapsed time 12.95 sec\n",
      "EvaluatorHoldout: Ignoring 173 ( 0.5%) Users that have less than 1 test interactions\n",
      "EvaluatorHoldout: Processed 35563 (100.0%) in 35.36 sec. Users per second: 1006\n",
      "Similarity column 38121 (100.0%), 2938.37 column/sec. Elapsed time 12.97 sec\n",
      "EvaluatorHoldout: Ignoring 163 ( 0.5%) Users that have less than 1 test interactions\n",
      "EvaluatorHoldout: Processed 35573 (100.0%) in 35.31 sec. Users per second: 1007\n",
      "Similarity column 38121 (100.0%), 2947.35 column/sec. Elapsed time 12.93 sec\n",
      "EvaluatorHoldout: Ignoring 150 ( 0.4%) Users that have less than 1 test interactions\n",
      "EvaluatorHoldout: Processed 35586 (100.0%) in 35.76 sec. Users per second: 995\n",
      "Similarity column 38121 (100.0%), 2925.21 column/sec. Elapsed time 13.03 sec\n",
      "EvaluatorHoldout: Ignoring 167 ( 0.5%) Users that have less than 1 test interactions\n",
      "EvaluatorHoldout: Processed 35569 (100.0%) in 35.63 sec. Users per second: 998\n",
      "Similarity column 38121 (100.0%), 2944.88 column/sec. Elapsed time 12.94 sec\n",
      "EvaluatorHoldout: Ignoring 172 ( 0.5%) Users that have less than 1 test interactions\n",
      "EvaluatorHoldout: Processed 35564 (100.0%) in 35.74 sec. Users per second: 995\n"
     ]
    },
    {
     "name": "stderr",
     "output_type": "stream",
     "text": [
      "[I 2025-01-06 02:12:50,266] Trial 412 finished with value: 0.22957241721625093 and parameters: {'similarity': 'cosine', 'topK': 14, 'shrink': 540, 'feature_weighting': 'BM25'}. Best is trial 411 with value: 0.26030932919014205.\n"
     ]
    },
    {
     "name": "stdout",
     "output_type": "stream",
     "text": [
      "Similarity column 38121 (100.0%), 2935.20 column/sec. Elapsed time 12.99 sec\n",
      "EvaluatorHoldout: Ignoring 173 ( 0.5%) Users that have less than 1 test interactions\n",
      "EvaluatorHoldout: Processed 35563 (100.0%) in 37.72 sec. Users per second: 943\n",
      "Similarity column 38121 (100.0%), 2952.33 column/sec. Elapsed time 12.91 sec\n",
      "EvaluatorHoldout: Ignoring 163 ( 0.5%) Users that have less than 1 test interactions\n",
      "EvaluatorHoldout: Processed 35573 (100.0%) in 37.67 sec. Users per second: 944\n",
      "Similarity column 38121 (100.0%), 2927.11 column/sec. Elapsed time 13.02 sec\n",
      "EvaluatorHoldout: Ignoring 150 ( 0.4%) Users that have less than 1 test interactions\n",
      "EvaluatorHoldout: Processed 35586 (100.0%) in 37.85 sec. Users per second: 940\n",
      "Similarity column 38121 (100.0%), 2952.95 column/sec. Elapsed time 12.91 sec\n",
      "EvaluatorHoldout: Ignoring 167 ( 0.5%) Users that have less than 1 test interactions\n",
      "EvaluatorHoldout: Processed 35569 (100.0%) in 37.99 sec. Users per second: 936\n",
      "Similarity column 38121 (100.0%), 2943.58 column/sec. Elapsed time 12.95 sec\n",
      "EvaluatorHoldout: Ignoring 172 ( 0.5%) Users that have less than 1 test interactions\n",
      "EvaluatorHoldout: Processed 35564 (100.0%) in 37.84 sec. Users per second: 940\n"
     ]
    },
    {
     "name": "stderr",
     "output_type": "stream",
     "text": [
      "[I 2025-01-06 02:17:05,658] Trial 413 finished with value: 0.2599196639567832 and parameters: {'similarity': 'cosine', 'topK': 31, 'shrink': 535, 'feature_weighting': 'TF-IDF'}. Best is trial 411 with value: 0.26030932919014205.\n"
     ]
    },
    {
     "name": "stdout",
     "output_type": "stream",
     "text": [
      "Similarity column 38121 (100.0%), 2916.47 column/sec. Elapsed time 13.07 sec\n",
      "EvaluatorHoldout: Ignoring 173 ( 0.5%) Users that have less than 1 test interactions\n",
      "EvaluatorHoldout: Processed 35563 (100.0%) in 40.07 sec. Users per second: 888\n",
      "Similarity column 38121 (100.0%), 2924.48 column/sec. Elapsed time 13.04 sec\n",
      "EvaluatorHoldout: Ignoring 163 ( 0.5%) Users that have less than 1 test interactions\n",
      "EvaluatorHoldout: Processed 35573 (100.0%) in 40.25 sec. Users per second: 884\n",
      "Similarity column 38121 (100.0%), 2923.59 column/sec. Elapsed time 13.04 sec\n",
      "EvaluatorHoldout: Ignoring 150 ( 0.4%) Users that have less than 1 test interactions\n",
      "EvaluatorHoldout: Processed 35586 (100.0%) in 40.13 sec. Users per second: 887\n",
      "Similarity column 38121 (100.0%), 2890.06 column/sec. Elapsed time 13.19 sec\n",
      "EvaluatorHoldout: Ignoring 167 ( 0.5%) Users that have less than 1 test interactions\n",
      "EvaluatorHoldout: Processed 35569 (100.0%) in 40.43 sec. Users per second: 880\n",
      "Similarity column 38121 (100.0%), 2914.36 column/sec. Elapsed time 13.08 sec\n",
      "EvaluatorHoldout: Ignoring 172 ( 0.5%) Users that have less than 1 test interactions\n",
      "EvaluatorHoldout: Processed 35564 (100.0%) in 40.80 sec. Users per second: 872\n"
     ]
    },
    {
     "name": "stderr",
     "output_type": "stream",
     "text": [
      "[I 2025-01-06 02:21:34,601] Trial 414 finished with value: 0.25736517507920914 and parameters: {'similarity': 'cosine', 'topK': 70, 'shrink': 571, 'feature_weighting': 'TF-IDF'}. Best is trial 411 with value: 0.26030932919014205.\n"
     ]
    },
    {
     "name": "stdout",
     "output_type": "stream",
     "text": [
      "Similarity column 38121 (100.0%), 2919.84 column/sec. Elapsed time 13.06 sec\n",
      "EvaluatorHoldout: Ignoring 173 ( 0.5%) Users that have less than 1 test interactions\n",
      "EvaluatorHoldout: Processed 35563 (100.0%) in 36.95 sec. Users per second: 962\n",
      "Similarity column 38121 (100.0%), 2910.81 column/sec. Elapsed time 13.10 sec\n",
      "EvaluatorHoldout: Ignoring 163 ( 0.5%) Users that have less than 1 test interactions\n",
      "EvaluatorHoldout: Processed 35573 (100.0%) in 36.95 sec. Users per second: 963\n",
      "Similarity column 38121 (100.0%), 2943.71 column/sec. Elapsed time 12.95 sec\n",
      "EvaluatorHoldout: Ignoring 150 ( 0.4%) Users that have less than 1 test interactions\n",
      "EvaluatorHoldout: Processed 35586 (100.0%) in 36.75 sec. Users per second: 968\n",
      "Similarity column 38121 (100.0%), 2926.99 column/sec. Elapsed time 13.02 sec\n",
      "EvaluatorHoldout: Ignoring 167 ( 0.5%) Users that have less than 1 test interactions\n",
      "EvaluatorHoldout: Processed 35569 (100.0%) in 36.92 sec. Users per second: 963\n",
      "Similarity column 38121 (100.0%), 2941.78 column/sec. Elapsed time 12.96 sec\n",
      "EvaluatorHoldout: Ignoring 172 ( 0.5%) Users that have less than 1 test interactions\n",
      "EvaluatorHoldout: Processed 35564 (100.0%) in 36.97 sec. Users per second: 962\n"
     ]
    },
    {
     "name": "stderr",
     "output_type": "stream",
     "text": [
      "[I 2025-01-06 02:25:45,756] Trial 415 finished with value: 0.2602943453657022 and parameters: {'similarity': 'cosine', 'topK': 22, 'shrink': 408, 'feature_weighting': 'TF-IDF'}. Best is trial 411 with value: 0.26030932919014205.\n"
     ]
    },
    {
     "name": "stdout",
     "output_type": "stream",
     "text": [
      "Similarity column 38121 (100.0%), 2932.94 column/sec. Elapsed time 13.00 sec\n",
      "EvaluatorHoldout: Ignoring 173 ( 0.5%) Users that have less than 1 test interactions\n",
      "EvaluatorHoldout: Processed 35563 (100.0%) in 38.77 sec. Users per second: 917\n",
      "Similarity column 38121 (100.0%), 2907.90 column/sec. Elapsed time 13.11 sec\n",
      "EvaluatorHoldout: Ignoring 163 ( 0.5%) Users that have less than 1 test interactions\n",
      "EvaluatorHoldout: Processed 35573 (100.0%) in 38.74 sec. Users per second: 918\n",
      "Similarity column 38121 (100.0%), 2933.42 column/sec. Elapsed time 13.00 sec\n",
      "EvaluatorHoldout: Ignoring 150 ( 0.4%) Users that have less than 1 test interactions\n",
      "EvaluatorHoldout: Processed 35586 (100.0%) in 38.86 sec. Users per second: 916\n",
      "Similarity column 38121 (100.0%), 2895.27 column/sec. Elapsed time 13.17 sec\n",
      "EvaluatorHoldout: Ignoring 167 ( 0.5%) Users that have less than 1 test interactions\n",
      "EvaluatorHoldout: Processed 35569 (100.0%) in 38.85 sec. Users per second: 916\n",
      "Similarity column 38121 (100.0%), 2920.11 column/sec. Elapsed time 13.05 sec\n",
      "EvaluatorHoldout: Ignoring 172 ( 0.5%) Users that have less than 1 test interactions\n",
      "EvaluatorHoldout: Processed 35564 (100.0%) in 39.24 sec. Users per second: 906\n"
     ]
    },
    {
     "name": "stderr",
     "output_type": "stream",
     "text": [
      "[I 2025-01-06 02:30:07,321] Trial 416 finished with value: 0.25878144958385246 and parameters: {'similarity': 'cosine', 'topK': 47, 'shrink': 525, 'feature_weighting': 'TF-IDF'}. Best is trial 411 with value: 0.26030932919014205.\n"
     ]
    },
    {
     "name": "stdout",
     "output_type": "stream",
     "text": [
      "Similarity column 38121 (100.0%), 2937.64 column/sec. Elapsed time 12.98 sec\n",
      "EvaluatorHoldout: Ignoring 173 ( 0.5%) Users that have less than 1 test interactions\n",
      "EvaluatorHoldout: Processed 35563 (100.0%) in 35.67 sec. Users per second: 997\n",
      "Similarity column 38121 (100.0%), 2925.10 column/sec. Elapsed time 13.03 sec\n",
      "EvaluatorHoldout: Ignoring 163 ( 0.5%) Users that have less than 1 test interactions\n",
      "EvaluatorHoldout: Processed 35573 (100.0%) in 35.61 sec. Users per second: 999\n",
      "Similarity column 38121 (100.0%), 2945.31 column/sec. Elapsed time 12.94 sec\n",
      "EvaluatorHoldout: Ignoring 150 ( 0.4%) Users that have less than 1 test interactions\n",
      "EvaluatorHoldout: Processed 35586 (100.0%) in 35.87 sec. Users per second: 992\n",
      "Similarity column 38121 (100.0%), 2922.48 column/sec. Elapsed time 13.04 sec\n",
      "EvaluatorHoldout: Ignoring 167 ( 0.5%) Users that have less than 1 test interactions\n",
      "EvaluatorHoldout: Processed 35569 (100.0%) in 35.79 sec. Users per second: 994\n",
      "Similarity column 38121 (100.0%), 2940.03 column/sec. Elapsed time 12.97 sec\n",
      "EvaluatorHoldout: Ignoring 172 ( 0.5%) Users that have less than 1 test interactions\n",
      "EvaluatorHoldout: Processed 35564 (100.0%) in 35.99 sec. Users per second: 988\n"
     ]
    },
    {
     "name": "stderr",
     "output_type": "stream",
     "text": [
      "[I 2025-01-06 02:34:12,660] Trial 417 finished with value: 0.2596474649178281 and parameters: {'similarity': 'cosine', 'topK': 12, 'shrink': 416, 'feature_weighting': 'TF-IDF'}. Best is trial 411 with value: 0.26030932919014205.\n"
     ]
    },
    {
     "name": "stdout",
     "output_type": "stream",
     "text": [
      "Similarity column 38121 (100.0%), 2932.74 column/sec. Elapsed time 13.00 sec\n",
      "EvaluatorHoldout: Ignoring 173 ( 0.5%) Users that have less than 1 test interactions\n",
      "EvaluatorHoldout: Processed 35563 (100.0%) in 37.67 sec. Users per second: 944\n",
      "Similarity column 38121 (100.0%), 2940.83 column/sec. Elapsed time 12.96 sec\n",
      "EvaluatorHoldout: Ignoring 163 ( 0.5%) Users that have less than 1 test interactions\n",
      "EvaluatorHoldout: Processed 35573 (100.0%) in 37.72 sec. Users per second: 943\n",
      "Similarity column 38121 (100.0%), 2948.39 column/sec. Elapsed time 12.93 sec\n",
      "EvaluatorHoldout: Ignoring 150 ( 0.4%) Users that have less than 1 test interactions\n",
      "EvaluatorHoldout: Processed 35586 (100.0%) in 37.71 sec. Users per second: 944\n",
      "Similarity column 38121 (100.0%), 2932.73 column/sec. Elapsed time 13.00 sec\n",
      "EvaluatorHoldout: Ignoring 167 ( 0.5%) Users that have less than 1 test interactions\n",
      "EvaluatorHoldout: Processed 35569 (100.0%) in 37.85 sec. Users per second: 940\n",
      "Similarity column 38121 (100.0%), 2932.28 column/sec. Elapsed time 13.00 sec\n",
      "EvaluatorHoldout: Ignoring 172 ( 0.5%) Users that have less than 1 test interactions\n",
      "EvaluatorHoldout: Processed 35564 (100.0%) in 37.67 sec. Users per second: 944\n"
     ]
    },
    {
     "name": "stderr",
     "output_type": "stream",
     "text": [
      "[I 2025-01-06 02:38:27,733] Trial 418 finished with value: 0.26001368722739227 and parameters: {'similarity': 'cosine', 'topK': 30, 'shrink': 511, 'feature_weighting': 'TF-IDF'}. Best is trial 411 with value: 0.26030932919014205.\n"
     ]
    },
    {
     "name": "stdout",
     "output_type": "stream",
     "text": [
      "Similarity column 38121 (100.0%), 3729.78 column/sec. Elapsed time 10.22 sec\n",
      "EvaluatorHoldout: Ignoring 173 ( 0.5%) Users that have less than 1 test interactions\n",
      "EvaluatorHoldout: Processed 35563 (100.0%) in 27.82 sec. Users per second: 1278\n",
      "Similarity column 38121 (100.0%), 3763.48 column/sec. Elapsed time 10.13 sec\n",
      "EvaluatorHoldout: Ignoring 163 ( 0.5%) Users that have less than 1 test interactions\n",
      "EvaluatorHoldout: Processed 35573 (100.0%) in 28.19 sec. Users per second: 1262\n",
      "Similarity column 38121 (100.0%), 3780.88 column/sec. Elapsed time 10.08 sec\n",
      "EvaluatorHoldout: Ignoring 150 ( 0.4%) Users that have less than 1 test interactions\n",
      "EvaluatorHoldout: Processed 35586 (100.0%) in 28.07 sec. Users per second: 1268\n",
      "Similarity column 38121 (100.0%), 3758.99 column/sec. Elapsed time 10.14 sec\n",
      "EvaluatorHoldout: Ignoring 167 ( 0.5%) Users that have less than 1 test interactions\n",
      "EvaluatorHoldout: Processed 35569 (100.0%) in 28.06 sec. Users per second: 1268\n",
      "Similarity column 38121 (100.0%), 3724.66 column/sec. Elapsed time 10.23 sec\n",
      "EvaluatorHoldout: Ignoring 172 ( 0.5%) Users that have less than 1 test interactions\n",
      "EvaluatorHoldout: Processed 35564 (100.0%) in 27.78 sec. Users per second: 1280\n"
     ]
    },
    {
     "name": "stderr",
     "output_type": "stream",
     "text": [
      "[I 2025-01-06 02:41:39,828] Trial 419 finished with value: 0.0055265346604531345 and parameters: {'similarity': 'cosine', 'topK': 0, 'shrink': 378, 'feature_weighting': 'TF-IDF'}. Best is trial 411 with value: 0.26030932919014205.\n"
     ]
    },
    {
     "name": "stdout",
     "output_type": "stream",
     "text": [
      "Similarity column 38121 (100.0%), 2930.07 column/sec. Elapsed time 13.01 sec\n",
      "EvaluatorHoldout: Ignoring 173 ( 0.5%) Users that have less than 1 test interactions\n",
      "EvaluatorHoldout: Processed 35563 (100.0%) in 38.33 sec. Users per second: 928\n",
      "Similarity column 38121 (100.0%), 2901.58 column/sec. Elapsed time 13.14 sec\n",
      "EvaluatorHoldout: Ignoring 163 ( 0.5%) Users that have less than 1 test interactions\n",
      "EvaluatorHoldout: Processed 35573 (100.0%) in 38.73 sec. Users per second: 919\n",
      "Similarity column 38121 (100.0%), 2919.04 column/sec. Elapsed time 13.06 sec\n",
      "EvaluatorHoldout: Ignoring 150 ( 0.4%) Users that have less than 1 test interactions\n",
      "EvaluatorHoldout: Processed 35586 (100.0%) in 38.46 sec. Users per second: 925\n",
      "Similarity column 38121 (100.0%), 2897.38 column/sec. Elapsed time 13.16 sec\n",
      "EvaluatorHoldout: Ignoring 167 ( 0.5%) Users that have less than 1 test interactions\n",
      "EvaluatorHoldout: Processed 35569 (100.0%) in 38.66 sec. Users per second: 920\n",
      "Similarity column 38121 (100.0%), 2924.48 column/sec. Elapsed time 13.04 sec\n",
      "EvaluatorHoldout: Ignoring 172 ( 0.5%) Users that have less than 1 test interactions\n",
      "EvaluatorHoldout: Processed 35564 (100.0%) in 38.38 sec. Users per second: 927\n"
     ]
    },
    {
     "name": "stderr",
     "output_type": "stream",
     "text": [
      "[I 2025-01-06 02:45:59,480] Trial 420 finished with value: 0.25914461700733715 and parameters: {'similarity': 'cosine', 'topK': 40, 'shrink': 553, 'feature_weighting': 'TF-IDF'}. Best is trial 411 with value: 0.26030932919014205.\n"
     ]
    },
    {
     "name": "stdout",
     "output_type": "stream",
     "text": [
      "Similarity column 38121 (100.0%), 2931.80 column/sec. Elapsed time 13.00 sec\n",
      "EvaluatorHoldout: Ignoring 173 ( 0.5%) Users that have less than 1 test interactions\n",
      "EvaluatorHoldout: Processed 35563 (100.0%) in 36.81 sec. Users per second: 966\n",
      "Similarity column 38121 (100.0%), 2940.55 column/sec. Elapsed time 12.96 sec\n",
      "EvaluatorHoldout: Ignoring 163 ( 0.5%) Users that have less than 1 test interactions\n",
      "EvaluatorHoldout: Processed 35573 (100.0%) in 36.73 sec. Users per second: 969\n",
      "Similarity column 38121 (100.0%), 2951.89 column/sec. Elapsed time 12.91 sec\n",
      "EvaluatorHoldout: Ignoring 150 ( 0.4%) Users that have less than 1 test interactions\n",
      "EvaluatorHoldout: Processed 35586 (100.0%) in 36.52 sec. Users per second: 974\n",
      "Similarity column 38121 (100.0%), 2942.19 column/sec. Elapsed time 12.96 sec\n",
      "EvaluatorHoldout: Ignoring 167 ( 0.5%) Users that have less than 1 test interactions\n",
      "EvaluatorHoldout: Processed 35569 (100.0%) in 36.93 sec. Users per second: 963\n",
      "Similarity column 38121 (100.0%), 2939.32 column/sec. Elapsed time 12.97 sec\n",
      "EvaluatorHoldout: Ignoring 172 ( 0.5%) Users that have less than 1 test interactions\n",
      "EvaluatorHoldout: Processed 35564 (100.0%) in 37.13 sec. Users per second: 958\n"
     ]
    },
    {
     "name": "stderr",
     "output_type": "stream",
     "text": [
      "[I 2025-01-06 02:50:09,897] Trial 421 finished with value: 0.2602909363743621 and parameters: {'similarity': 'cosine', 'topK': 20, 'shrink': 396, 'feature_weighting': 'TF-IDF'}. Best is trial 411 with value: 0.26030932919014205.\n"
     ]
    },
    {
     "name": "stdout",
     "output_type": "stream",
     "text": [
      "Similarity column 38121 (100.0%), 2904.43 column/sec. Elapsed time 13.13 sec\n",
      "EvaluatorHoldout: Ignoring 173 ( 0.5%) Users that have less than 1 test interactions\n",
      "EvaluatorHoldout: Processed 35563 (100.0%) in 37.25 sec. Users per second: 955\n",
      "Similarity column 38121 (100.0%), 2907.15 column/sec. Elapsed time 13.11 sec\n",
      "EvaluatorHoldout: Ignoring 163 ( 0.5%) Users that have less than 1 test interactions\n",
      "EvaluatorHoldout: Processed 35573 (100.0%) in 36.95 sec. Users per second: 963\n",
      "Similarity column 38121 (100.0%), 2926.09 column/sec. Elapsed time 13.03 sec\n",
      "EvaluatorHoldout: Ignoring 150 ( 0.4%) Users that have less than 1 test interactions\n",
      "EvaluatorHoldout: Processed 35586 (100.0%) in 36.78 sec. Users per second: 968\n",
      "Similarity column 38121 (100.0%), 2914.74 column/sec. Elapsed time 13.08 sec\n",
      "EvaluatorHoldout: Ignoring 167 ( 0.5%) Users that have less than 1 test interactions\n",
      "EvaluatorHoldout: Processed 35569 (100.0%) in 36.71 sec. Users per second: 969\n",
      "Similarity column 38121 (100.0%), 2911.36 column/sec. Elapsed time 13.09 sec\n",
      "EvaluatorHoldout: Ignoring 172 ( 0.5%) Users that have less than 1 test interactions\n",
      "EvaluatorHoldout: Processed 35564 (100.0%) in 36.86 sec. Users per second: 965\n"
     ]
    },
    {
     "name": "stderr",
     "output_type": "stream",
     "text": [
      "[I 2025-01-06 02:54:21,502] Trial 422 finished with value: 0.26022258635489964 and parameters: {'similarity': 'cosine', 'topK': 18, 'shrink': 392, 'feature_weighting': 'TF-IDF'}. Best is trial 411 with value: 0.26030932919014205.\n"
     ]
    },
    {
     "name": "stdout",
     "output_type": "stream",
     "text": [
      "Similarity column 38121 (100.0%), 2897.29 column/sec. Elapsed time 13.16 sec\n",
      "EvaluatorHoldout: Ignoring 173 ( 0.5%) Users that have less than 1 test interactions\n",
      "EvaluatorHoldout: Processed 35563 (100.0%) in 39.84 sec. Users per second: 893\n",
      "Similarity column 38121 (100.0%), 2862.82 column/sec. Elapsed time 13.32 sec\n",
      "EvaluatorHoldout: Ignoring 163 ( 0.5%) Users that have less than 1 test interactions\n",
      "EvaluatorHoldout: Processed 35573 (100.0%) in 39.86 sec. Users per second: 893\n",
      "Similarity column 38121 (100.0%), 2885.11 column/sec. Elapsed time 13.21 sec\n",
      "EvaluatorHoldout: Ignoring 150 ( 0.4%) Users that have less than 1 test interactions\n",
      "EvaluatorHoldout: Processed 35586 (100.0%) in 39.84 sec. Users per second: 893\n",
      "Similarity column 38121 (100.0%), 2876.10 column/sec. Elapsed time 13.25 sec\n",
      "EvaluatorHoldout: Ignoring 167 ( 0.5%) Users that have less than 1 test interactions\n",
      "EvaluatorHoldout: Processed 35569 (100.0%) in 39.63 sec. Users per second: 898\n",
      "Similarity column 38121 (100.0%), 2877.30 column/sec. Elapsed time 13.25 sec\n",
      "EvaluatorHoldout: Ignoring 172 ( 0.5%) Users that have less than 1 test interactions\n",
      "EvaluatorHoldout: Processed 35564 (100.0%) in 39.75 sec. Users per second: 895\n"
     ]
    },
    {
     "name": "stderr",
     "output_type": "stream",
     "text": [
      "[I 2025-01-06 02:58:48,524] Trial 423 finished with value: 0.2582244198596249 and parameters: {'similarity': 'cosine', 'topK': 59, 'shrink': 369, 'feature_weighting': 'TF-IDF'}. Best is trial 411 with value: 0.26030932919014205.\n"
     ]
    },
    {
     "name": "stdout",
     "output_type": "stream",
     "text": [
      "Similarity column 38121 (100.0%), 2912.36 column/sec. Elapsed time 13.09 sec\n",
      "EvaluatorHoldout: Ignoring 173 ( 0.5%) Users that have less than 1 test interactions\n",
      "EvaluatorHoldout: Processed 35563 (100.0%) in 37.72 sec. Users per second: 943\n",
      "Similarity column 38121 (100.0%), 2907.01 column/sec. Elapsed time 13.11 sec\n",
      "EvaluatorHoldout: Ignoring 163 ( 0.5%) Users that have less than 1 test interactions\n",
      "EvaluatorHoldout: Processed 35573 (100.0%) in 38.86 sec. Users per second: 915\n",
      "Similarity column 38121 (100.0%), 2883.24 column/sec. Elapsed time 13.22 sec\n",
      "EvaluatorHoldout: Ignoring 150 ( 0.4%) Users that have less than 1 test interactions\n",
      "EvaluatorHoldout: Processed 35586 (100.0%) in 38.76 sec. Users per second: 918\n",
      "Similarity column 38121 (100.0%), 2934.84 column/sec. Elapsed time 12.99 sec\n",
      "EvaluatorHoldout: Ignoring 167 ( 0.5%) Users that have less than 1 test interactions\n",
      "EvaluatorHoldout: Processed 35569 (100.0%) in 37.89 sec. Users per second: 939\n",
      "Similarity column 38121 (100.0%), 2909.77 column/sec. Elapsed time 13.10 sec\n",
      "EvaluatorHoldout: Ignoring 172 ( 0.5%) Users that have less than 1 test interactions\n",
      "EvaluatorHoldout: Processed 35564 (100.0%) in 37.75 sec. Users per second: 942\n"
     ]
    },
    {
     "name": "stderr",
     "output_type": "stream",
     "text": [
      "[I 2025-01-06 03:03:06,685] Trial 424 finished with value: 0.25999384532474223 and parameters: {'similarity': 'cosine', 'topK': 32, 'shrink': 403, 'feature_weighting': 'TF-IDF'}. Best is trial 411 with value: 0.26030932919014205.\n"
     ]
    },
    {
     "name": "stdout",
     "output_type": "stream",
     "text": [
      "Similarity column 38121 (100.0%), 2913.79 column/sec. Elapsed time 13.08 sec\n",
      "EvaluatorHoldout: Ignoring 173 ( 0.5%) Users that have less than 1 test interactions\n",
      "EvaluatorHoldout: Processed 35563 (100.0%) in 35.63 sec. Users per second: 998\n",
      "Similarity column 38121 (100.0%), 2929.88 column/sec. Elapsed time 13.01 sec\n",
      "EvaluatorHoldout: Ignoring 163 ( 0.5%) Users that have less than 1 test interactions\n",
      "EvaluatorHoldout: Processed 35573 (100.0%) in 35.85 sec. Users per second: 992\n",
      "Similarity column 38121 (100.0%), 2947.23 column/sec. Elapsed time 12.93 sec\n",
      "EvaluatorHoldout: Ignoring 150 ( 0.4%) Users that have less than 1 test interactions\n",
      "EvaluatorHoldout: Processed 35586 (100.0%) in 35.83 sec. Users per second: 993\n",
      "Similarity column 38121 (100.0%), 2937.48 column/sec. Elapsed time 12.98 sec\n",
      "EvaluatorHoldout: Ignoring 167 ( 0.5%) Users that have less than 1 test interactions\n",
      "EvaluatorHoldout: Processed 35569 (100.0%) in 35.97 sec. Users per second: 989\n",
      "Similarity column 38121 (100.0%), 2956.39 column/sec. Elapsed time 12.89 sec\n",
      "EvaluatorHoldout: Ignoring 172 ( 0.5%) Users that have less than 1 test interactions\n",
      "EvaluatorHoldout: Processed 35564 (100.0%) in 36.15 sec. Users per second: 984\n"
     ]
    },
    {
     "name": "stderr",
     "output_type": "stream",
     "text": [
      "[I 2025-01-06 03:07:12,476] Trial 425 finished with value: 0.25966079018410293 and parameters: {'similarity': 'cosine', 'topK': 13, 'shrink': 416, 'feature_weighting': 'TF-IDF'}. Best is trial 411 with value: 0.26030932919014205.\n"
     ]
    },
    {
     "name": "stdout",
     "output_type": "stream",
     "text": [
      "Similarity column 38121 (100.0%), 2918.97 column/sec. Elapsed time 13.06 sec\n",
      "EvaluatorHoldout: Ignoring 173 ( 0.5%) Users that have less than 1 test interactions\n",
      "EvaluatorHoldout: Processed 35563 (100.0%) in 39.05 sec. Users per second: 911\n",
      "Similarity column 38121 (100.0%), 2904.47 column/sec. Elapsed time 13.12 sec\n",
      "EvaluatorHoldout: Ignoring 163 ( 0.5%) Users that have less than 1 test interactions\n",
      "EvaluatorHoldout: Processed 35573 (100.0%) in 39.12 sec. Users per second: 909\n",
      "Similarity column 38121 (100.0%), 2933.99 column/sec. Elapsed time 12.99 sec\n",
      "EvaluatorHoldout: Ignoring 150 ( 0.4%) Users that have less than 1 test interactions\n",
      "EvaluatorHoldout: Processed 35586 (100.0%) in 38.94 sec. Users per second: 914\n",
      "Similarity column 38121 (100.0%), 2906.67 column/sec. Elapsed time 13.12 sec\n",
      "EvaluatorHoldout: Ignoring 167 ( 0.5%) Users that have less than 1 test interactions\n",
      "EvaluatorHoldout: Processed 35569 (100.0%) in 39.00 sec. Users per second: 912\n",
      "Similarity column 38121 (100.0%), 2925.98 column/sec. Elapsed time 13.03 sec\n",
      "EvaluatorHoldout: Ignoring 172 ( 0.5%) Users that have less than 1 test interactions\n",
      "EvaluatorHoldout: Processed 35564 (100.0%) in 38.88 sec. Users per second: 915\n"
     ]
    },
    {
     "name": "stderr",
     "output_type": "stream",
     "text": [
      "[I 2025-01-06 03:11:34,516] Trial 426 finished with value: 0.2587475879629773 and parameters: {'similarity': 'cosine', 'topK': 48, 'shrink': 443, 'feature_weighting': 'TF-IDF'}. Best is trial 411 with value: 0.26030932919014205.\n"
     ]
    },
    {
     "name": "stdout",
     "output_type": "stream",
     "text": [
      "Similarity column 38121 (100.0%), 2720.53 column/sec. Elapsed time 14.01 sec\n",
      "EvaluatorHoldout: Ignoring 173 ( 0.5%) Users that have less than 1 test interactions\n",
      "EvaluatorHoldout: Processed 35563 (100.0%) in 38.94 sec. Users per second: 913\n",
      "Similarity column 38121 (100.0%), 2719.41 column/sec. Elapsed time 14.02 sec\n",
      "EvaluatorHoldout: Ignoring 163 ( 0.5%) Users that have less than 1 test interactions\n",
      "EvaluatorHoldout: Processed 35573 (100.0%) in 38.94 sec. Users per second: 913\n",
      "Similarity column 38121 (100.0%), 2750.88 column/sec. Elapsed time 13.86 sec\n",
      "EvaluatorHoldout: Ignoring 150 ( 0.4%) Users that have less than 1 test interactions\n",
      "EvaluatorHoldout: Processed 35586 (100.0%) in 38.63 sec. Users per second: 921\n",
      "Similarity column 38121 (100.0%), 2745.60 column/sec. Elapsed time 13.88 sec\n",
      "EvaluatorHoldout: Ignoring 167 ( 0.5%) Users that have less than 1 test interactions\n",
      "EvaluatorHoldout: Processed 35569 (100.0%) in 38.96 sec. Users per second: 913\n",
      "Similarity column 38121 (100.0%), 2699.54 column/sec. Elapsed time 14.12 sec\n",
      "EvaluatorHoldout: Ignoring 172 ( 0.5%) Users that have less than 1 test interactions\n",
      "EvaluatorHoldout: Processed 35564 (100.0%) in 38.82 sec. Users per second: 916\n"
     ]
    },
    {
     "name": "stderr",
     "output_type": "stream",
     "text": [
      "[I 2025-01-06 03:16:01,144] Trial 427 finished with value: 0.21966113663044595 and parameters: {'similarity': 'tversky', 'topK': 26, 'shrink': 383, 'feature_weighting': 'TF-IDF', 'tversky_alpha': 0.2469751121275796, 'tversky_beta': 0.4903183358945513}. Best is trial 411 with value: 0.26030932919014205.\n"
     ]
    },
    {
     "name": "stdout",
     "output_type": "stream",
     "text": [
      "Similarity column 38121 (100.0%), 2973.54 column/sec. Elapsed time 12.82 sec\n",
      "EvaluatorHoldout: Ignoring 173 ( 0.5%) Users that have less than 1 test interactions\n",
      "EvaluatorHoldout: Processed 35563 (100.0%) in 37.83 sec. Users per second: 940\n",
      "Similarity column 38121 (100.0%), 2962.52 column/sec. Elapsed time 12.87 sec\n",
      "EvaluatorHoldout: Ignoring 163 ( 0.5%) Users that have less than 1 test interactions\n",
      "EvaluatorHoldout: Processed 35573 (100.0%) in 37.68 sec. Users per second: 944\n",
      "Similarity column 38121 (100.0%), 2962.91 column/sec. Elapsed time 12.87 sec\n",
      "EvaluatorHoldout: Ignoring 150 ( 0.4%) Users that have less than 1 test interactions\n",
      "EvaluatorHoldout: Processed 35586 (100.0%) in 37.79 sec. Users per second: 942\n",
      "Similarity column 38121 (100.0%), 2977.34 column/sec. Elapsed time 12.80 sec\n",
      "EvaluatorHoldout: Ignoring 167 ( 0.5%) Users that have less than 1 test interactions\n",
      "EvaluatorHoldout: Processed 35569 (100.0%) in 37.80 sec. Users per second: 941\n",
      "Similarity column 38121 (100.0%), 2943.62 column/sec. Elapsed time 12.95 sec\n",
      "EvaluatorHoldout: Ignoring 172 ( 0.5%) Users that have less than 1 test interactions\n",
      "EvaluatorHoldout: Processed 35564 (100.0%) in 37.85 sec. Users per second: 940\n"
     ]
    },
    {
     "name": "stderr",
     "output_type": "stream",
     "text": [
      "[I 2025-01-06 03:20:15,859] Trial 428 finished with value: 0.2077995646213308 and parameters: {'similarity': 'asymmetric', 'topK': 12, 'shrink': 422, 'feature_weighting': 'TF-IDF', 'asymmetric_alpha': 0.9453549215342106}. Best is trial 411 with value: 0.26030932919014205.\n"
     ]
    },
    {
     "name": "stdout",
     "output_type": "stream",
     "text": [
      "Similarity column 38121 (100.0%), 2969.45 column/sec. Elapsed time 12.84 sec\n",
      "EvaluatorHoldout: Ignoring 173 ( 0.5%) Users that have less than 1 test interactions\n",
      "EvaluatorHoldout: Processed 35563 (100.0%) in 42.46 sec. Users per second: 837\n",
      "Similarity column 38121 (100.0%), 2954.00 column/sec. Elapsed time 12.90 sec\n",
      "EvaluatorHoldout: Ignoring 163 ( 0.5%) Users that have less than 1 test interactions\n",
      "EvaluatorHoldout: Processed 35573 (100.0%) in 42.52 sec. Users per second: 837\n",
      "Similarity column 38121 (100.0%), 2963.92 column/sec. Elapsed time 12.86 sec\n",
      "EvaluatorHoldout: Ignoring 150 ( 0.4%) Users that have less than 1 test interactions\n",
      "EvaluatorHoldout: Processed 35586 (100.0%) in 42.25 sec. Users per second: 842\n",
      "Similarity column 38121 (100.0%), 2871.47 column/sec. Elapsed time 13.28 sec\n",
      "EvaluatorHoldout: Ignoring 167 ( 0.5%) Users that have less than 1 test interactions\n",
      "EvaluatorHoldout: Processed 35569 (100.0%) in 42.18 sec. Users per second: 843\n",
      "Similarity column 38121 (100.0%), 2968.42 column/sec. Elapsed time 12.84 sec\n",
      "EvaluatorHoldout: Ignoring 172 ( 0.5%) Users that have less than 1 test interactions\n",
      "EvaluatorHoldout: Processed 35564 (100.0%) in 42.29 sec. Users per second: 841\n"
     ]
    },
    {
     "name": "stderr",
     "output_type": "stream",
     "text": [
      "[I 2025-01-06 03:24:55,093] Trial 429 finished with value: 0.22745558700225602 and parameters: {'similarity': 'jaccard', 'topK': 78, 'shrink': 368, 'feature_weighting': 'TF-IDF'}. Best is trial 411 with value: 0.26030932919014205.\n"
     ]
    },
    {
     "name": "stdout",
     "output_type": "stream",
     "text": [
      "Similarity column 38121 (100.0%), 2917.16 column/sec. Elapsed time 13.07 sec\n",
      "EvaluatorHoldout: Ignoring 173 ( 0.5%) Users that have less than 1 test interactions\n",
      "EvaluatorHoldout: Processed 35563 (100.0%) in 38.18 sec. Users per second: 931\n",
      "Similarity column 38121 (100.0%), 2895.60 column/sec. Elapsed time 13.17 sec\n",
      "EvaluatorHoldout: Ignoring 163 ( 0.5%) Users that have less than 1 test interactions\n",
      "EvaluatorHoldout: Processed 35573 (100.0%) in 38.31 sec. Users per second: 929\n",
      "Similarity column 38121 (100.0%), 2939.95 column/sec. Elapsed time 12.97 sec\n",
      "EvaluatorHoldout: Ignoring 150 ( 0.4%) Users that have less than 1 test interactions\n",
      "EvaluatorHoldout: Processed 35586 (100.0%) in 38.40 sec. Users per second: 927\n",
      "Similarity column 38121 (100.0%), 2902.88 column/sec. Elapsed time 13.13 sec\n",
      "EvaluatorHoldout: Ignoring 167 ( 0.5%) Users that have less than 1 test interactions\n",
      "EvaluatorHoldout: Processed 35569 (100.0%) in 38.57 sec. Users per second: 922\n",
      "Similarity column 38121 (100.0%), 2900.82 column/sec. Elapsed time 13.14 sec\n",
      "EvaluatorHoldout: Ignoring 172 ( 0.5%) Users that have less than 1 test interactions\n",
      "EvaluatorHoldout: Processed 35564 (100.0%) in 38.17 sec. Users per second: 932\n"
     ]
    },
    {
     "name": "stderr",
     "output_type": "stream",
     "text": [
      "[I 2025-01-06 03:29:13,875] Trial 430 finished with value: 0.25940255367569615 and parameters: {'similarity': 'cosine', 'topK': 38, 'shrink': 399, 'feature_weighting': 'TF-IDF'}. Best is trial 411 with value: 0.26030932919014205.\n"
     ]
    },
    {
     "name": "stdout",
     "output_type": "stream",
     "text": [
      "Similarity column 38121 (100.0%), 2903.47 column/sec. Elapsed time 13.13 sec\n",
      "EvaluatorHoldout: Ignoring 173 ( 0.5%) Users that have less than 1 test interactions\n",
      "EvaluatorHoldout: Processed 35563 (100.0%) in 39.34 sec. Users per second: 904\n",
      "Similarity column 38121 (100.0%), 2897.44 column/sec. Elapsed time 13.16 sec\n",
      "EvaluatorHoldout: Ignoring 163 ( 0.5%) Users that have less than 1 test interactions\n",
      "EvaluatorHoldout: Processed 35573 (100.0%) in 39.40 sec. Users per second: 903\n",
      "Similarity column 38121 (100.0%), 2877.90 column/sec. Elapsed time 13.25 sec\n",
      "EvaluatorHoldout: Ignoring 150 ( 0.4%) Users that have less than 1 test interactions\n",
      "EvaluatorHoldout: Processed 35586 (100.0%) in 39.19 sec. Users per second: 908\n",
      "Similarity column 38121 (100.0%), 2902.26 column/sec. Elapsed time 13.13 sec\n",
      "EvaluatorHoldout: Ignoring 167 ( 0.5%) Users that have less than 1 test interactions\n",
      "EvaluatorHoldout: Processed 35569 (100.0%) in 39.27 sec. Users per second: 906\n",
      "Similarity column 38121 (100.0%), 2879.06 column/sec. Elapsed time 13.24 sec\n",
      "EvaluatorHoldout: Ignoring 172 ( 0.5%) Users that have less than 1 test interactions\n",
      "EvaluatorHoldout: Processed 35564 (100.0%) in 39.51 sec. Users per second: 900\n"
     ]
    },
    {
     "name": "stderr",
     "output_type": "stream",
     "text": [
      "[I 2025-01-06 03:33:37,609] Trial 431 finished with value: 0.21869407353698395 and parameters: {'similarity': 'cosine', 'topK': 24, 'shrink': 446, 'feature_weighting': 'none'}. Best is trial 411 with value: 0.26030932919014205.\n",
      "/kaggle/working/RECsys_Challenge2024/Recommenders/Similarity/Compute_Similarity_Euclidean.py:167: RuntimeWarning: overflow encountered in exp\n",
      "  item_similarity = 1/(np.exp(item_distance) + self.shrink + 1e-9)\n"
     ]
    },
    {
     "name": "stdout",
     "output_type": "stream",
     "text": [
      "Similarity column 38121 (100.0%), 382.46 column/sec. Elapsed time 1.66 min\n",
      "EvaluatorHoldout: Ignoring 173 ( 0.5%) Users that have less than 1 test interactions\n",
      "EvaluatorHoldout: Processed 35563 (100.0%) in 35.75 sec. Users per second: 995\n"
     ]
    },
    {
     "name": "stderr",
     "output_type": "stream",
     "text": [
      "/kaggle/working/RECsys_Challenge2024/Recommenders/Similarity/Compute_Similarity_Euclidean.py:167: RuntimeWarning: overflow encountered in exp\n",
      "  item_similarity = 1/(np.exp(item_distance) + self.shrink + 1e-9)\n"
     ]
    },
    {
     "name": "stdout",
     "output_type": "stream",
     "text": [
      "Similarity column 38121 (100.0%), 367.57 column/sec. Elapsed time 1.73 min\n",
      "EvaluatorHoldout: Ignoring 163 ( 0.5%) Users that have less than 1 test interactions\n",
      "EvaluatorHoldout: Processed 35573 (100.0%) in 35.93 sec. Users per second: 990\n"
     ]
    },
    {
     "name": "stderr",
     "output_type": "stream",
     "text": [
      "/kaggle/working/RECsys_Challenge2024/Recommenders/Similarity/Compute_Similarity_Euclidean.py:167: RuntimeWarning: overflow encountered in exp\n",
      "  item_similarity = 1/(np.exp(item_distance) + self.shrink + 1e-9)\n"
     ]
    },
    {
     "name": "stdout",
     "output_type": "stream",
     "text": [
      "Similarity column 38121 (100.0%), 379.87 column/sec. Elapsed time 1.67 min\n",
      "EvaluatorHoldout: Ignoring 150 ( 0.4%) Users that have less than 1 test interactions\n",
      "EvaluatorHoldout: Processed 35586 (100.0%) in 36.15 sec. Users per second: 984\n"
     ]
    },
    {
     "name": "stderr",
     "output_type": "stream",
     "text": [
      "/kaggle/working/RECsys_Challenge2024/Recommenders/Similarity/Compute_Similarity_Euclidean.py:167: RuntimeWarning: overflow encountered in exp\n",
      "  item_similarity = 1/(np.exp(item_distance) + self.shrink + 1e-9)\n"
     ]
    },
    {
     "name": "stdout",
     "output_type": "stream",
     "text": [
      "Similarity column 38121 (100.0%), 332.03 column/sec. Elapsed time 1.91 min\n",
      "EvaluatorHoldout: Ignoring 167 ( 0.5%) Users that have less than 1 test interactions\n",
      "EvaluatorHoldout: Processed 35569 (100.0%) in 36.29 sec. Users per second: 980\n"
     ]
    },
    {
     "name": "stderr",
     "output_type": "stream",
     "text": [
      "/kaggle/working/RECsys_Challenge2024/Recommenders/Similarity/Compute_Similarity_Euclidean.py:167: RuntimeWarning: overflow encountered in exp\n",
      "  item_similarity = 1/(np.exp(item_distance) + self.shrink + 1e-9)\n"
     ]
    },
    {
     "name": "stdout",
     "output_type": "stream",
     "text": [
      "Similarity column 38121 (100.0%), 338.65 column/sec. Elapsed time 1.88 min\n",
      "EvaluatorHoldout: Ignoring 172 ( 0.5%) Users that have less than 1 test interactions\n",
      "EvaluatorHoldout: Processed 35564 (100.0%) in 36.24 sec. Users per second: 981\n"
     ]
    },
    {
     "name": "stderr",
     "output_type": "stream",
     "text": [
      "[I 2025-01-06 03:45:33,412] Trial 432 finished with value: 0.0730533295602892 and parameters: {'similarity': 'euclidean', 'topK': 641, 'shrink': 362, 'feature_weighting': 'TF-IDF', 'normalize_avg_row': False, 'similarity_from_distance_mode': 'exp', 'normalize': False}. Best is trial 411 with value: 0.26030932919014205.\n"
     ]
    },
    {
     "name": "stdout",
     "output_type": "stream",
     "text": [
      "Similarity column 38121 (100.0%), 2910.09 column/sec. Elapsed time 13.10 sec\n",
      "EvaluatorHoldout: Ignoring 173 ( 0.5%) Users that have less than 1 test interactions\n",
      "EvaluatorHoldout: Processed 35563 (100.0%) in 39.39 sec. Users per second: 903\n",
      "Similarity column 38121 (100.0%), 2883.84 column/sec. Elapsed time 13.22 sec\n",
      "EvaluatorHoldout: Ignoring 163 ( 0.5%) Users that have less than 1 test interactions\n",
      "EvaluatorHoldout: Processed 35573 (100.0%) in 39.43 sec. Users per second: 902\n",
      "Similarity column 38121 (100.0%), 2918.17 column/sec. Elapsed time 13.06 sec\n",
      "EvaluatorHoldout: Ignoring 150 ( 0.4%) Users that have less than 1 test interactions\n",
      "EvaluatorHoldout: Processed 35586 (100.0%) in 39.60 sec. Users per second: 899\n",
      "Similarity column 38121 (100.0%), 2899.37 column/sec. Elapsed time 13.15 sec\n",
      "EvaluatorHoldout: Ignoring 167 ( 0.5%) Users that have less than 1 test interactions\n",
      "EvaluatorHoldout: Processed 35569 (100.0%) in 39.49 sec. Users per second: 901\n",
      "Similarity column 38121 (100.0%), 2852.22 column/sec. Elapsed time 13.37 sec\n",
      "EvaluatorHoldout: Ignoring 172 ( 0.5%) Users that have less than 1 test interactions\n",
      "EvaluatorHoldout: Processed 35564 (100.0%) in 39.90 sec. Users per second: 891\n"
     ]
    },
    {
     "name": "stderr",
     "output_type": "stream",
     "text": [
      "[I 2025-01-06 03:49:58,962] Trial 433 finished with value: 0.2583681131252991 and parameters: {'similarity': 'cosine', 'topK': 57, 'shrink': 423, 'feature_weighting': 'TF-IDF'}. Best is trial 411 with value: 0.26030932919014205.\n"
     ]
    },
    {
     "name": "stdout",
     "output_type": "stream",
     "text": [
      "Similarity column 38121 (100.0%), 2882.76 column/sec. Elapsed time 13.22 sec\n",
      "EvaluatorHoldout: Ignoring 173 ( 0.5%) Users that have less than 1 test interactions\n",
      "EvaluatorHoldout: Processed 35563 (100.0%) in 36.16 sec. Users per second: 983\n",
      "Similarity column 38121 (100.0%), 2894.16 column/sec. Elapsed time 13.17 sec\n",
      "EvaluatorHoldout: Ignoring 163 ( 0.5%) Users that have less than 1 test interactions\n",
      "EvaluatorHoldout: Processed 35573 (100.0%) in 36.16 sec. Users per second: 984\n",
      "Similarity column 38121 (100.0%), 2929.78 column/sec. Elapsed time 13.01 sec\n",
      "EvaluatorHoldout: Ignoring 150 ( 0.4%) Users that have less than 1 test interactions\n",
      "EvaluatorHoldout: Processed 35586 (100.0%) in 35.93 sec. Users per second: 990\n",
      "Similarity column 38121 (100.0%), 2897.27 column/sec. Elapsed time 13.16 sec\n",
      "EvaluatorHoldout: Ignoring 167 ( 0.5%) Users that have less than 1 test interactions\n",
      "EvaluatorHoldout: Processed 35569 (100.0%) in 36.06 sec. Users per second: 986\n",
      "Similarity column 38121 (100.0%), 2890.70 column/sec. Elapsed time 13.19 sec\n",
      "EvaluatorHoldout: Ignoring 172 ( 0.5%) Users that have less than 1 test interactions\n",
      "EvaluatorHoldout: Processed 35564 (100.0%) in 35.93 sec. Users per second: 990\n"
     ]
    },
    {
     "name": "stderr",
     "output_type": "stream",
     "text": [
      "[I 2025-01-06 03:54:06,587] Trial 434 finished with value: 0.2593052433093101 and parameters: {'similarity': 'cosine', 'topK': 11, 'shrink': 395, 'feature_weighting': 'TF-IDF'}. Best is trial 411 with value: 0.26030932919014205.\n"
     ]
    },
    {
     "name": "stdout",
     "output_type": "stream",
     "text": [
      "Similarity column 38121 (100.0%), 3736.39 column/sec. Elapsed time 10.20 sec\n",
      "EvaluatorHoldout: Ignoring 173 ( 0.5%) Users that have less than 1 test interactions\n",
      "EvaluatorHoldout: Processed 35563 (100.0%) in 28.37 sec. Users per second: 1253\n",
      "Similarity column 38121 (100.0%), 3723.64 column/sec. Elapsed time 10.24 sec\n",
      "EvaluatorHoldout: Ignoring 163 ( 0.5%) Users that have less than 1 test interactions\n",
      "EvaluatorHoldout: Processed 35573 (100.0%) in 28.43 sec. Users per second: 1251\n",
      "Similarity column 38121 (100.0%), 3719.47 column/sec. Elapsed time 10.25 sec\n",
      "EvaluatorHoldout: Ignoring 150 ( 0.4%) Users that have less than 1 test interactions\n",
      "EvaluatorHoldout: Processed 35586 (100.0%) in 28.14 sec. Users per second: 1265\n",
      "Similarity column 38121 (100.0%), 3699.91 column/sec. Elapsed time 10.30 sec\n",
      "EvaluatorHoldout: Ignoring 167 ( 0.5%) Users that have less than 1 test interactions\n",
      "EvaluatorHoldout: Processed 35569 (100.0%) in 27.97 sec. Users per second: 1272\n",
      "Similarity column 38121 (100.0%), 3743.85 column/sec. Elapsed time 10.18 sec\n",
      "EvaluatorHoldout: Ignoring 172 ( 0.5%) Users that have less than 1 test interactions\n",
      "EvaluatorHoldout: Processed 35564 (100.0%) in 28.02 sec. Users per second: 1269\n"
     ]
    },
    {
     "name": "stderr",
     "output_type": "stream",
     "text": [
      "[I 2025-01-06 03:57:20,231] Trial 435 finished with value: 0.0055265346604531345 and parameters: {'similarity': 'cosine', 'topK': 0, 'shrink': 450, 'feature_weighting': 'TF-IDF'}. Best is trial 411 with value: 0.26030932919014205.\n"
     ]
    },
    {
     "name": "stdout",
     "output_type": "stream",
     "text": [
      "Similarity column 38121 (100.0%), 3032.82 column/sec. Elapsed time 12.57 sec\n",
      "EvaluatorHoldout: Ignoring 173 ( 0.5%) Users that have less than 1 test interactions\n",
      "EvaluatorHoldout: Processed 35563 (100.0%) in 40.29 sec. Users per second: 883\n",
      "Similarity column 38121 (100.0%), 3000.60 column/sec. Elapsed time 12.70 sec\n",
      "EvaluatorHoldout: Ignoring 163 ( 0.5%) Users that have less than 1 test interactions\n",
      "EvaluatorHoldout: Processed 35573 (100.0%) in 40.14 sec. Users per second: 886\n",
      "Similarity column 38121 (100.0%), 3025.98 column/sec. Elapsed time 12.60 sec\n",
      "EvaluatorHoldout: Ignoring 150 ( 0.4%) Users that have less than 1 test interactions\n",
      "EvaluatorHoldout: Processed 35586 (100.0%) in 40.02 sec. Users per second: 889\n",
      "Similarity column 38121 (100.0%), 2894.76 column/sec. Elapsed time 13.17 sec\n",
      "EvaluatorHoldout: Ignoring 167 ( 0.5%) Users that have less than 1 test interactions\n",
      "EvaluatorHoldout: Processed 35569 (100.0%) in 40.39 sec. Users per second: 881\n",
      "Similarity column 38121 (100.0%), 2982.39 column/sec. Elapsed time 12.78 sec\n",
      "EvaluatorHoldout: Ignoring 172 ( 0.5%) Users that have less than 1 test interactions\n",
      "EvaluatorHoldout: Processed 35564 (100.0%) in 39.58 sec. Users per second: 899\n"
     ]
    },
    {
     "name": "stderr",
     "output_type": "stream",
     "text": [
      "[I 2025-01-06 04:01:47,246] Trial 436 finished with value: 0.2575467943131183 and parameters: {'similarity': 'dice', 'topK': 38, 'shrink': 381, 'feature_weighting': 'BM25'}. Best is trial 411 with value: 0.26030932919014205.\n"
     ]
    },
    {
     "name": "stdout",
     "output_type": "stream",
     "text": [
      "Similarity column 38121 (100.0%), 2923.26 column/sec. Elapsed time 13.04 sec\n",
      "EvaluatorHoldout: Ignoring 173 ( 0.5%) Users that have less than 1 test interactions\n",
      "EvaluatorHoldout: Processed 35563 (100.0%) in 36.95 sec. Users per second: 962\n",
      "Similarity column 38121 (100.0%), 2938.74 column/sec. Elapsed time 12.97 sec\n",
      "EvaluatorHoldout: Ignoring 163 ( 0.5%) Users that have less than 1 test interactions\n",
      "EvaluatorHoldout: Processed 35573 (100.0%) in 37.18 sec. Users per second: 957\n",
      "Similarity column 38121 (100.0%), 2919.65 column/sec. Elapsed time 13.06 sec\n",
      "EvaluatorHoldout: Ignoring 150 ( 0.4%) Users that have less than 1 test interactions\n",
      "EvaluatorHoldout: Processed 35586 (100.0%) in 37.00 sec. Users per second: 962\n",
      "Similarity column 38121 (100.0%), 2956.65 column/sec. Elapsed time 12.89 sec\n",
      "EvaluatorHoldout: Ignoring 167 ( 0.5%) Users that have less than 1 test interactions\n",
      "EvaluatorHoldout: Processed 35569 (100.0%) in 37.04 sec. Users per second: 960\n",
      "Similarity column 38121 (100.0%), 2933.16 column/sec. Elapsed time 13.00 sec\n",
      "EvaluatorHoldout: Ignoring 172 ( 0.5%) Users that have less than 1 test interactions\n",
      "EvaluatorHoldout: Processed 35564 (100.0%) in 37.02 sec. Users per second: 961\n"
     ]
    },
    {
     "name": "stderr",
     "output_type": "stream",
     "text": [
      "[I 2025-01-06 04:05:58,953] Trial 437 finished with value: 0.2602588626378052 and parameters: {'similarity': 'cosine', 'topK': 24, 'shrink': 413, 'feature_weighting': 'TF-IDF'}. Best is trial 411 with value: 0.26030932919014205.\n"
     ]
    },
    {
     "name": "stdout",
     "output_type": "stream",
     "text": [
      "Similarity column 38121 (100.0%), 2926.58 column/sec. Elapsed time 13.03 sec\n",
      "EvaluatorHoldout: Ignoring 173 ( 0.5%) Users that have less than 1 test interactions\n",
      "EvaluatorHoldout: Processed 35563 (100.0%) in 39.32 sec. Users per second: 904\n",
      "Similarity column 38121 (100.0%), 2851.48 column/sec. Elapsed time 13.37 sec\n",
      "EvaluatorHoldout: Ignoring 163 ( 0.5%) Users that have less than 1 test interactions\n",
      "EvaluatorHoldout: Processed 35573 (100.0%) in 39.69 sec. Users per second: 896\n",
      "Similarity column 38121 (100.0%), 2847.63 column/sec. Elapsed time 13.39 sec\n",
      "EvaluatorHoldout: Ignoring 150 ( 0.4%) Users that have less than 1 test interactions\n",
      "EvaluatorHoldout: Processed 35586 (100.0%) in 39.84 sec. Users per second: 893\n",
      "Similarity column 38121 (100.0%), 2858.50 column/sec. Elapsed time 13.34 sec\n",
      "EvaluatorHoldout: Ignoring 167 ( 0.5%) Users that have less than 1 test interactions\n",
      "EvaluatorHoldout: Processed 35569 (100.0%) in 39.56 sec. Users per second: 899\n",
      "Similarity column 38121 (100.0%), 2869.99 column/sec. Elapsed time 13.28 sec\n",
      "EvaluatorHoldout: Ignoring 172 ( 0.5%) Users that have less than 1 test interactions\n",
      "EvaluatorHoldout: Processed 35564 (100.0%) in 39.38 sec. Users per second: 903\n"
     ]
    },
    {
     "name": "stderr",
     "output_type": "stream",
     "text": [
      "[I 2025-01-06 04:10:25,071] Trial 438 finished with value: 0.2588132446671249 and parameters: {'similarity': 'cosine', 'topK': 48, 'shrink': 434, 'feature_weighting': 'TF-IDF'}. Best is trial 411 with value: 0.26030932919014205.\n"
     ]
    },
    {
     "name": "stdout",
     "output_type": "stream",
     "text": [
      "Similarity column 38121 (100.0%), 2858.43 column/sec. Elapsed time 13.34 sec\n",
      "EvaluatorHoldout: Ignoring 173 ( 0.5%) Users that have less than 1 test interactions\n",
      "EvaluatorHoldout: Processed 35563 (100.0%) in 37.74 sec. Users per second: 942\n",
      "Similarity column 38121 (100.0%), 2885.32 column/sec. Elapsed time 13.21 sec\n",
      "EvaluatorHoldout: Ignoring 163 ( 0.5%) Users that have less than 1 test interactions\n",
      "EvaluatorHoldout: Processed 35573 (100.0%) in 37.89 sec. Users per second: 939\n",
      "Similarity column 38121 (100.0%), 2909.63 column/sec. Elapsed time 13.10 sec\n",
      "EvaluatorHoldout: Ignoring 150 ( 0.4%) Users that have less than 1 test interactions\n",
      "EvaluatorHoldout: Processed 35586 (100.0%) in 37.88 sec. Users per second: 939\n",
      "Similarity column 38121 (100.0%), 2880.85 column/sec. Elapsed time 13.23 sec\n",
      "EvaluatorHoldout: Ignoring 167 ( 0.5%) Users that have less than 1 test interactions\n",
      "EvaluatorHoldout: Processed 35569 (100.0%) in 37.84 sec. Users per second: 940\n",
      "Similarity column 38121 (100.0%), 2913.31 column/sec. Elapsed time 13.09 sec\n",
      "EvaluatorHoldout: Ignoring 172 ( 0.5%) Users that have less than 1 test interactions\n",
      "EvaluatorHoldout: Processed 35564 (100.0%) in 37.92 sec. Users per second: 938\n"
     ]
    },
    {
     "name": "stderr",
     "output_type": "stream",
     "text": [
      "[I 2025-01-06 04:14:42,081] Trial 439 finished with value: 0.2601430863086486 and parameters: {'similarity': 'cosine', 'topK': 26, 'shrink': 420, 'feature_weighting': 'TF-IDF'}. Best is trial 411 with value: 0.26030932919014205.\n"
     ]
    },
    {
     "name": "stdout",
     "output_type": "stream",
     "text": [
      "Similarity column 38121 (100.0%), 2900.42 column/sec. Elapsed time 13.14 sec\n",
      "EvaluatorHoldout: Ignoring 173 ( 0.5%) Users that have less than 1 test interactions\n",
      "EvaluatorHoldout: Processed 35563 (100.0%) in 36.84 sec. Users per second: 965\n",
      "Similarity column 38121 (100.0%), 2899.56 column/sec. Elapsed time 13.15 sec\n",
      "EvaluatorHoldout: Ignoring 163 ( 0.5%) Users that have less than 1 test interactions\n",
      "EvaluatorHoldout: Processed 35573 (100.0%) in 36.47 sec. Users per second: 975\n",
      "Similarity column 38121 (100.0%), 2927.15 column/sec. Elapsed time 13.02 sec\n",
      "EvaluatorHoldout: Ignoring 150 ( 0.4%) Users that have less than 1 test interactions\n",
      "EvaluatorHoldout: Processed 35586 (100.0%) in 36.67 sec. Users per second: 970\n",
      "Similarity column 38121 (100.0%), 2900.87 column/sec. Elapsed time 13.14 sec\n",
      "EvaluatorHoldout: Ignoring 167 ( 0.5%) Users that have less than 1 test interactions\n",
      "EvaluatorHoldout: Processed 35569 (100.0%) in 36.66 sec. Users per second: 970\n",
      "Similarity column 38121 (100.0%), 2911.29 column/sec. Elapsed time 13.09 sec\n",
      "EvaluatorHoldout: Ignoring 172 ( 0.5%) Users that have less than 1 test interactions\n",
      "EvaluatorHoldout: Processed 35564 (100.0%) in 36.75 sec. Users per second: 968\n"
     ]
    },
    {
     "name": "stderr",
     "output_type": "stream",
     "text": [
      "[I 2025-01-06 04:18:52,722] Trial 440 finished with value: 0.25980703888924817 and parameters: {'similarity': 'cosine', 'topK': 14, 'shrink': 454, 'feature_weighting': 'TF-IDF'}. Best is trial 411 with value: 0.26030932919014205.\n"
     ]
    },
    {
     "name": "stdout",
     "output_type": "stream",
     "text": [
      "Similarity column 38121 (100.0%), 2886.11 column/sec. Elapsed time 13.21 sec\n",
      "EvaluatorHoldout: Ignoring 173 ( 0.5%) Users that have less than 1 test interactions\n",
      "EvaluatorHoldout: Processed 35563 (100.0%) in 38.76 sec. Users per second: 917\n",
      "Similarity column 38121 (100.0%), 2878.54 column/sec. Elapsed time 13.24 sec\n",
      "EvaluatorHoldout: Ignoring 163 ( 0.5%) Users that have less than 1 test interactions\n",
      "EvaluatorHoldout: Processed 35573 (100.0%) in 38.92 sec. Users per second: 914\n",
      "Similarity column 38121 (100.0%), 2877.41 column/sec. Elapsed time 13.25 sec\n",
      "EvaluatorHoldout: Ignoring 150 ( 0.4%) Users that have less than 1 test interactions\n",
      "EvaluatorHoldout: Processed 35586 (100.0%) in 38.82 sec. Users per second: 917\n",
      "Similarity column 38121 (100.0%), 2866.26 column/sec. Elapsed time 13.30 sec\n",
      "EvaluatorHoldout: Ignoring 167 ( 0.5%) Users that have less than 1 test interactions\n",
      "EvaluatorHoldout: Processed 35569 (100.0%) in 38.55 sec. Users per second: 923\n",
      "Similarity column 38121 (100.0%), 2894.48 column/sec. Elapsed time 13.17 sec\n",
      "EvaluatorHoldout: Ignoring 172 ( 0.5%) Users that have less than 1 test interactions\n",
      "EvaluatorHoldout: Processed 35564 (100.0%) in 38.67 sec. Users per second: 920\n"
     ]
    },
    {
     "name": "stderr",
     "output_type": "stream",
     "text": [
      "[I 2025-01-06 04:23:14,514] Trial 441 finished with value: 0.2594272506890332 and parameters: {'similarity': 'cosine', 'topK': 38, 'shrink': 405, 'feature_weighting': 'TF-IDF'}. Best is trial 411 with value: 0.26030932919014205.\n"
     ]
    },
    {
     "name": "stdout",
     "output_type": "stream",
     "text": [
      "Similarity column 38121 (100.0%), 2841.93 column/sec. Elapsed time 13.41 sec\n",
      "EvaluatorHoldout: Ignoring 173 ( 0.5%) Users that have less than 1 test interactions\n",
      "EvaluatorHoldout: Processed 35563 (100.0%) in 40.00 sec. Users per second: 889\n",
      "Similarity column 38121 (100.0%), 2852.75 column/sec. Elapsed time 13.36 sec\n",
      "EvaluatorHoldout: Ignoring 163 ( 0.5%) Users that have less than 1 test interactions\n",
      "EvaluatorHoldout: Processed 35573 (100.0%) in 40.37 sec. Users per second: 881\n",
      "Similarity column 38121 (100.0%), 2862.01 column/sec. Elapsed time 13.32 sec\n",
      "EvaluatorHoldout: Ignoring 150 ( 0.4%) Users that have less than 1 test interactions\n",
      "EvaluatorHoldout: Processed 35586 (100.0%) in 40.20 sec. Users per second: 885\n",
      "Similarity column 38121 (100.0%), 2853.48 column/sec. Elapsed time 13.36 sec\n",
      "EvaluatorHoldout: Ignoring 167 ( 0.5%) Users that have less than 1 test interactions\n",
      "EvaluatorHoldout: Processed 35569 (100.0%) in 40.19 sec. Users per second: 885\n",
      "Similarity column 38121 (100.0%), 2841.00 column/sec. Elapsed time 13.42 sec\n",
      "EvaluatorHoldout: Ignoring 172 ( 0.5%) Users that have less than 1 test interactions\n",
      "EvaluatorHoldout: Processed 35564 (100.0%) in 40.02 sec. Users per second: 889\n"
     ]
    },
    {
     "name": "stderr",
     "output_type": "stream",
     "text": [
      "[I 2025-01-06 04:27:44,264] Trial 442 finished with value: 0.25830630997380244 and parameters: {'similarity': 'cosine', 'topK': 58, 'shrink': 473, 'feature_weighting': 'TF-IDF'}. Best is trial 411 with value: 0.26030932919014205.\n"
     ]
    },
    {
     "name": "stdout",
     "output_type": "stream",
     "text": [
      "Similarity column 38121 (100.0%), 3705.70 column/sec. Elapsed time 10.29 sec\n",
      "EvaluatorHoldout: Ignoring 173 ( 0.5%) Users that have less than 1 test interactions\n",
      "EvaluatorHoldout: Processed 35563 (100.0%) in 27.91 sec. Users per second: 1274\n",
      "Similarity column 38121 (100.0%), 3705.38 column/sec. Elapsed time 10.29 sec\n",
      "EvaluatorHoldout: Ignoring 163 ( 0.5%) Users that have less than 1 test interactions\n",
      "EvaluatorHoldout: Processed 35573 (100.0%) in 28.25 sec. Users per second: 1259\n",
      "Similarity column 38121 (100.0%), 3699.18 column/sec. Elapsed time 10.31 sec\n",
      "EvaluatorHoldout: Ignoring 150 ( 0.4%) Users that have less than 1 test interactions\n",
      "EvaluatorHoldout: Processed 35586 (100.0%) in 28.12 sec. Users per second: 1266\n",
      "Similarity column 38121 (100.0%), 3690.32 column/sec. Elapsed time 10.33 sec\n",
      "EvaluatorHoldout: Ignoring 167 ( 0.5%) Users that have less than 1 test interactions\n",
      "EvaluatorHoldout: Processed 35569 (100.0%) in 28.38 sec. Users per second: 1253\n",
      "Similarity column 38121 (100.0%), 3717.59 column/sec. Elapsed time 10.25 sec\n",
      "EvaluatorHoldout: Ignoring 172 ( 0.5%) Users that have less than 1 test interactions\n",
      "EvaluatorHoldout: Processed 35564 (100.0%) in 28.07 sec. Users per second: 1267\n"
     ]
    },
    {
     "name": "stderr",
     "output_type": "stream",
     "text": [
      "[I 2025-01-06 04:30:58,031] Trial 443 finished with value: 0.0055265346604531345 and parameters: {'similarity': 'cosine', 'topK': 0, 'shrink': 441, 'feature_weighting': 'TF-IDF'}. Best is trial 411 with value: 0.26030932919014205.\n"
     ]
    },
    {
     "name": "stdout",
     "output_type": "stream",
     "text": [
      "Similarity column 38121 (100.0%), 2894.91 column/sec. Elapsed time 13.17 sec\n",
      "EvaluatorHoldout: Ignoring 173 ( 0.5%) Users that have less than 1 test interactions\n",
      "EvaluatorHoldout: Processed 35563 (100.0%) in 37.86 sec. Users per second: 939\n",
      "Similarity column 38121 (100.0%), 2890.39 column/sec. Elapsed time 13.19 sec\n",
      "EvaluatorHoldout: Ignoring 163 ( 0.5%) Users that have less than 1 test interactions\n",
      "EvaluatorHoldout: Processed 35573 (100.0%) in 38.36 sec. Users per second: 927\n",
      "Similarity column 38121 (100.0%), 2889.35 column/sec. Elapsed time 13.19 sec\n",
      "EvaluatorHoldout: Ignoring 150 ( 0.4%) Users that have less than 1 test interactions\n",
      "EvaluatorHoldout: Processed 35586 (100.0%) in 37.85 sec. Users per second: 940\n",
      "Similarity column 38121 (100.0%), 2886.72 column/sec. Elapsed time 13.21 sec\n",
      "EvaluatorHoldout: Ignoring 167 ( 0.5%) Users that have less than 1 test interactions\n",
      "EvaluatorHoldout: Processed 35569 (100.0%) in 38.22 sec. Users per second: 931\n",
      "Similarity column 38121 (100.0%), 2857.11 column/sec. Elapsed time 13.34 sec\n",
      "EvaluatorHoldout: Ignoring 172 ( 0.5%) Users that have less than 1 test interactions\n",
      "EvaluatorHoldout: Processed 35564 (100.0%) in 37.66 sec. Users per second: 944\n"
     ]
    },
    {
     "name": "stderr",
     "output_type": "stream",
     "text": [
      "[I 2025-01-06 04:35:15,878] Trial 444 finished with value: 0.26016596222143695 and parameters: {'similarity': 'cosine', 'topK': 26, 'shrink': 423, 'feature_weighting': 'TF-IDF'}. Best is trial 411 with value: 0.26030932919014205.\n"
     ]
    },
    {
     "name": "stdout",
     "output_type": "stream",
     "text": [
      "Similarity column 38121 (100.0%), 2903.82 column/sec. Elapsed time 13.13 sec\n",
      "EvaluatorHoldout: Ignoring 173 ( 0.5%) Users that have less than 1 test interactions\n",
      "EvaluatorHoldout: Processed 35563 (100.0%) in 38.93 sec. Users per second: 914\n",
      "Similarity column 38121 (100.0%), 2889.16 column/sec. Elapsed time 13.19 sec\n",
      "EvaluatorHoldout: Ignoring 163 ( 0.5%) Users that have less than 1 test interactions\n",
      "EvaluatorHoldout: Processed 35573 (100.0%) in 38.96 sec. Users per second: 913\n",
      "Similarity column 38121 (100.0%), 2845.91 column/sec. Elapsed time 13.40 sec\n",
      "EvaluatorHoldout: Ignoring 150 ( 0.4%) Users that have less than 1 test interactions\n",
      "EvaluatorHoldout: Processed 35586 (100.0%) in 38.83 sec. Users per second: 917\n",
      "Similarity column 38121 (100.0%), 2872.70 column/sec. Elapsed time 13.27 sec\n",
      "EvaluatorHoldout: Ignoring 167 ( 0.5%) Users that have less than 1 test interactions\n",
      "EvaluatorHoldout: Processed 35569 (100.0%) in 39.09 sec. Users per second: 910\n",
      "Similarity column 38121 (100.0%), 2866.47 column/sec. Elapsed time 13.30 sec\n",
      "EvaluatorHoldout: Ignoring 172 ( 0.5%) Users that have less than 1 test interactions\n",
      "EvaluatorHoldout: Processed 35564 (100.0%) in 39.28 sec. Users per second: 905\n"
     ]
    },
    {
     "name": "stderr",
     "output_type": "stream",
     "text": [
      "[I 2025-01-06 04:39:39,181] Trial 445 finished with value: 0.25928500089234047 and parameters: {'similarity': 'cosine', 'topK': 41, 'shrink': 401, 'feature_weighting': 'TF-IDF'}. Best is trial 411 with value: 0.26030932919014205.\n"
     ]
    },
    {
     "name": "stdout",
     "output_type": "stream",
     "text": [
      "Similarity column 38121 (100.0%), 2877.45 column/sec. Elapsed time 13.25 sec\n",
      "EvaluatorHoldout: Ignoring 173 ( 0.5%) Users that have less than 1 test interactions\n",
      "EvaluatorHoldout: Processed 35563 (100.0%) in 36.53 sec. Users per second: 973\n",
      "Similarity column 38121 (100.0%), 2899.64 column/sec. Elapsed time 13.15 sec\n",
      "EvaluatorHoldout: Ignoring 163 ( 0.5%) Users that have less than 1 test interactions\n",
      "EvaluatorHoldout: Processed 35573 (100.0%) in 36.76 sec. Users per second: 968\n",
      "Similarity column 38121 (100.0%), 2900.88 column/sec. Elapsed time 13.14 sec\n",
      "EvaluatorHoldout: Ignoring 150 ( 0.4%) Users that have less than 1 test interactions\n",
      "EvaluatorHoldout: Processed 35586 (100.0%) in 36.46 sec. Users per second: 976\n",
      "Similarity column 38121 (100.0%), 2917.88 column/sec. Elapsed time 13.06 sec\n",
      "EvaluatorHoldout: Ignoring 167 ( 0.5%) Users that have less than 1 test interactions\n",
      "EvaluatorHoldout: Processed 35569 (100.0%) in 36.81 sec. Users per second: 966\n",
      "Similarity column 38121 (100.0%), 2913.16 column/sec. Elapsed time 13.09 sec\n",
      "EvaluatorHoldout: Ignoring 172 ( 0.5%) Users that have less than 1 test interactions\n",
      "EvaluatorHoldout: Processed 35564 (100.0%) in 36.53 sec. Users per second: 974\n"
     ]
    },
    {
     "name": "stderr",
     "output_type": "stream",
     "text": [
      "[I 2025-01-06 04:43:49,653] Trial 446 finished with value: 0.2597664437273418 and parameters: {'similarity': 'cosine', 'topK': 14, 'shrink': 358, 'feature_weighting': 'TF-IDF'}. Best is trial 411 with value: 0.26030932919014205.\n"
     ]
    },
    {
     "name": "stdout",
     "output_type": "stream",
     "text": [
      "Similarity column 38121 (100.0%), 2900.35 column/sec. Elapsed time 13.14 sec\n",
      "EvaluatorHoldout: Ignoring 173 ( 0.5%) Users that have less than 1 test interactions\n",
      "EvaluatorHoldout: Processed 35563 (100.0%) in 38.16 sec. Users per second: 932\n",
      "Similarity column 38121 (100.0%), 2833.39 column/sec. Elapsed time 13.45 sec\n",
      "EvaluatorHoldout: Ignoring 163 ( 0.5%) Users that have less than 1 test interactions\n",
      "EvaluatorHoldout: Processed 35573 (100.0%) in 38.17 sec. Users per second: 932\n",
      "Similarity column 38121 (100.0%), 2900.77 column/sec. Elapsed time 13.14 sec\n",
      "EvaluatorHoldout: Ignoring 150 ( 0.4%) Users that have less than 1 test interactions\n",
      "EvaluatorHoldout: Processed 35586 (100.0%) in 37.78 sec. Users per second: 942\n",
      "Similarity column 38121 (100.0%), 2894.88 column/sec. Elapsed time 13.17 sec\n",
      "EvaluatorHoldout: Ignoring 167 ( 0.5%) Users that have less than 1 test interactions\n",
      "EvaluatorHoldout: Processed 35569 (100.0%) in 37.96 sec. Users per second: 937\n",
      "Similarity column 38121 (100.0%), 2907.92 column/sec. Elapsed time 13.11 sec\n",
      "EvaluatorHoldout: Ignoring 172 ( 0.5%) Users that have less than 1 test interactions\n",
      "EvaluatorHoldout: Processed 35564 (100.0%) in 37.82 sec. Users per second: 940\n"
     ]
    },
    {
     "name": "stderr",
     "output_type": "stream",
     "text": [
      "[I 2025-01-06 04:48:07,339] Trial 447 finished with value: 0.2601555057914077 and parameters: {'similarity': 'cosine', 'topK': 26, 'shrink': 460, 'feature_weighting': 'TF-IDF'}. Best is trial 411 with value: 0.26030932919014205.\n"
     ]
    },
    {
     "name": "stdout",
     "output_type": "stream",
     "text": [
      "Similarity column 38121 (100.0%), 2850.45 column/sec. Elapsed time 13.37 sec\n",
      "EvaluatorHoldout: Ignoring 173 ( 0.5%) Users that have less than 1 test interactions\n",
      "EvaluatorHoldout: Processed 35563 (100.0%) in 42.73 sec. Users per second: 832\n",
      "Similarity column 38121 (100.0%), 2851.14 column/sec. Elapsed time 13.37 sec\n",
      "EvaluatorHoldout: Ignoring 163 ( 0.5%) Users that have less than 1 test interactions\n",
      "EvaluatorHoldout: Processed 35573 (100.0%) in 42.99 sec. Users per second: 828\n",
      "Similarity column 38121 (100.0%), 2854.92 column/sec. Elapsed time 13.35 sec\n",
      "EvaluatorHoldout: Ignoring 150 ( 0.4%) Users that have less than 1 test interactions\n",
      "EvaluatorHoldout: Processed 35586 (100.0%) in 42.90 sec. Users per second: 830\n",
      "Similarity column 38121 (100.0%), 2797.31 column/sec. Elapsed time 13.63 sec\n",
      "EvaluatorHoldout: Ignoring 167 ( 0.5%) Users that have less than 1 test interactions\n",
      "EvaluatorHoldout: Processed 35569 (100.0%) in 43.46 sec. Users per second: 818\n",
      "Similarity column 38121 (100.0%), 2830.98 column/sec. Elapsed time 13.47 sec\n",
      "EvaluatorHoldout: Ignoring 172 ( 0.5%) Users that have less than 1 test interactions\n",
      "EvaluatorHoldout: Processed 35564 (100.0%) in 42.79 sec. Users per second: 831\n"
     ]
    },
    {
     "name": "stderr",
     "output_type": "stream",
     "text": [
      "[I 2025-01-06 04:52:51,833] Trial 448 finished with value: 0.25565182482116927 and parameters: {'similarity': 'cosine', 'topK': 112, 'shrink': 494, 'feature_weighting': 'TF-IDF'}. Best is trial 411 with value: 0.26030932919014205.\n"
     ]
    },
    {
     "name": "stdout",
     "output_type": "stream",
     "text": [
      "Similarity column 38121 (100.0%), 2884.82 column/sec. Elapsed time 13.21 sec\n",
      "EvaluatorHoldout: Ignoring 173 ( 0.5%) Users that have less than 1 test interactions\n",
      "EvaluatorHoldout: Processed 35563 (100.0%) in 40.97 sec. Users per second: 868\n",
      "Similarity column 38121 (100.0%), 2865.45 column/sec. Elapsed time 13.30 sec\n",
      "EvaluatorHoldout: Ignoring 163 ( 0.5%) Users that have less than 1 test interactions\n",
      "EvaluatorHoldout: Processed 35573 (100.0%) in 41.11 sec. Users per second: 865\n",
      "Similarity column 38121 (100.0%), 2884.92 column/sec. Elapsed time 13.21 sec\n",
      "EvaluatorHoldout: Ignoring 150 ( 0.4%) Users that have less than 1 test interactions\n",
      "EvaluatorHoldout: Processed 35586 (100.0%) in 40.74 sec. Users per second: 874\n",
      "Similarity column 38121 (100.0%), 2848.32 column/sec. Elapsed time 13.38 sec\n",
      "EvaluatorHoldout: Ignoring 167 ( 0.5%) Users that have less than 1 test interactions\n",
      "EvaluatorHoldout: Processed 35569 (100.0%) in 40.75 sec. Users per second: 873\n",
      "Similarity column 38121 (100.0%), 2863.12 column/sec. Elapsed time 13.31 sec\n",
      "EvaluatorHoldout: Ignoring 172 ( 0.5%) Users that have less than 1 test interactions\n",
      "EvaluatorHoldout: Processed 35564 (100.0%) in 40.89 sec. Users per second: 870\n"
     ]
    },
    {
     "name": "stderr",
     "output_type": "stream",
     "text": [
      "[I 2025-01-06 04:57:24,872] Trial 449 finished with value: 0.25753992907091217 and parameters: {'similarity': 'cosine', 'topK': 70, 'shrink': 431, 'feature_weighting': 'TF-IDF'}. Best is trial 411 with value: 0.26030932919014205.\n"
     ]
    },
    {
     "name": "stdout",
     "output_type": "stream",
     "text": [
      "Similarity column 38121 (100.0%), 2862.52 column/sec. Elapsed time 13.32 sec\n",
      "EvaluatorHoldout: Ignoring 173 ( 0.5%) Users that have less than 1 test interactions\n",
      "EvaluatorHoldout: Processed 35563 (100.0%) in 39.47 sec. Users per second: 901\n",
      "Similarity column 38121 (100.0%), 2839.76 column/sec. Elapsed time 13.42 sec\n",
      "EvaluatorHoldout: Ignoring 163 ( 0.5%) Users that have less than 1 test interactions\n",
      "EvaluatorHoldout: Processed 35573 (100.0%) in 39.69 sec. Users per second: 896\n",
      "Similarity column 38121 (100.0%), 2870.01 column/sec. Elapsed time 13.28 sec\n",
      "EvaluatorHoldout: Ignoring 150 ( 0.4%) Users that have less than 1 test interactions\n",
      "EvaluatorHoldout: Processed 35586 (100.0%) in 39.48 sec. Users per second: 901\n",
      "Similarity column 38121 (100.0%), 2842.32 column/sec. Elapsed time 13.41 sec\n",
      "EvaluatorHoldout: Ignoring 167 ( 0.5%) Users that have less than 1 test interactions\n",
      "EvaluatorHoldout: Processed 35569 (100.0%) in 39.78 sec. Users per second: 894\n",
      "Similarity column 38121 (100.0%), 2849.91 column/sec. Elapsed time 13.38 sec\n",
      "EvaluatorHoldout: Ignoring 172 ( 0.5%) Users that have less than 1 test interactions\n",
      "EvaluatorHoldout: Processed 35564 (100.0%) in 39.09 sec. Users per second: 910\n"
     ]
    },
    {
     "name": "stderr",
     "output_type": "stream",
     "text": [
      "[I 2025-01-06 05:01:51,179] Trial 450 finished with value: 0.2588869456432543 and parameters: {'similarity': 'cosine', 'topK': 47, 'shrink': 410, 'feature_weighting': 'TF-IDF'}. Best is trial 411 with value: 0.26030932919014205.\n"
     ]
    },
    {
     "name": "stdout",
     "output_type": "stream",
     "text": [
      "Similarity column 38121 (100.0%), 2946.88 column/sec. Elapsed time 12.94 sec\n",
      "EvaluatorHoldout: Ignoring 173 ( 0.5%) Users that have less than 1 test interactions\n",
      "EvaluatorHoldout: Processed 35563 (100.0%) in 35.77 sec. Users per second: 994\n",
      "Similarity column 38121 (100.0%), 2938.69 column/sec. Elapsed time 12.97 sec\n",
      "EvaluatorHoldout: Ignoring 163 ( 0.5%) Users that have less than 1 test interactions\n",
      "EvaluatorHoldout: Processed 35573 (100.0%) in 35.85 sec. Users per second: 992\n",
      "Similarity column 38121 (100.0%), 2943.67 column/sec. Elapsed time 12.95 sec\n",
      "EvaluatorHoldout: Ignoring 150 ( 0.4%) Users that have less than 1 test interactions\n",
      "EvaluatorHoldout: Processed 35586 (100.0%) in 36.07 sec. Users per second: 987\n",
      "Similarity column 38121 (100.0%), 2945.59 column/sec. Elapsed time 12.94 sec\n",
      "EvaluatorHoldout: Ignoring 167 ( 0.5%) Users that have less than 1 test interactions\n",
      "EvaluatorHoldout: Processed 35569 (100.0%) in 35.73 sec. Users per second: 996\n",
      "Similarity column 38121 (100.0%), 2933.76 column/sec. Elapsed time 12.99 sec\n",
      "EvaluatorHoldout: Ignoring 172 ( 0.5%) Users that have less than 1 test interactions\n",
      "EvaluatorHoldout: Processed 35564 (100.0%) in 35.87 sec. Users per second: 991\n"
     ]
    },
    {
     "name": "stderr",
     "output_type": "stream",
     "text": [
      "[I 2025-01-06 05:05:56,730] Trial 451 finished with value: 0.2597111251745622 and parameters: {'similarity': 'cosine', 'topK': 13, 'shrink': 384, 'feature_weighting': 'TF-IDF'}. Best is trial 411 with value: 0.26030932919014205.\n"
     ]
    },
    {
     "name": "stdout",
     "output_type": "stream",
     "text": [
      "Similarity column 38121 (100.0%), 2934.33 column/sec. Elapsed time 12.99 sec\n",
      "EvaluatorHoldout: Ignoring 173 ( 0.5%) Users that have less than 1 test interactions\n",
      "EvaluatorHoldout: Processed 35563 (100.0%) in 37.84 sec. Users per second: 940\n",
      "Similarity column 38121 (100.0%), 2931.86 column/sec. Elapsed time 13.00 sec\n",
      "EvaluatorHoldout: Ignoring 163 ( 0.5%) Users that have less than 1 test interactions\n",
      "EvaluatorHoldout: Processed 35573 (100.0%) in 37.89 sec. Users per second: 939\n",
      "Similarity column 38121 (100.0%), 2948.69 column/sec. Elapsed time 12.93 sec\n",
      "EvaluatorHoldout: Ignoring 150 ( 0.4%) Users that have less than 1 test interactions\n",
      "EvaluatorHoldout: Processed 35586 (100.0%) in 37.79 sec. Users per second: 942\n",
      "Similarity column 38121 (100.0%), 2947.06 column/sec. Elapsed time 12.94 sec\n",
      "EvaluatorHoldout: Ignoring 167 ( 0.5%) Users that have less than 1 test interactions\n",
      "EvaluatorHoldout: Processed 35569 (100.0%) in 38.03 sec. Users per second: 935\n",
      "Similarity column 38121 (100.0%), 2908.92 column/sec. Elapsed time 13.10 sec\n",
      "EvaluatorHoldout: Ignoring 172 ( 0.5%) Users that have less than 1 test interactions\n",
      "EvaluatorHoldout: Processed 35564 (100.0%) in 37.83 sec. Users per second: 940\n"
     ]
    },
    {
     "name": "stderr",
     "output_type": "stream",
     "text": [
      "[I 2025-01-06 05:10:12,635] Trial 452 finished with value: 0.25994013204426897 and parameters: {'similarity': 'cosine', 'topK': 32, 'shrink': 468, 'feature_weighting': 'TF-IDF'}. Best is trial 411 with value: 0.26030932919014205.\n"
     ]
    },
    {
     "name": "stdout",
     "output_type": "stream",
     "text": [
      "Similarity column 38121 (100.0%), 2953.11 column/sec. Elapsed time 12.91 sec\n",
      "EvaluatorHoldout: Ignoring 173 ( 0.5%) Users that have less than 1 test interactions\n",
      "EvaluatorHoldout: Processed 35563 (100.0%) in 35.37 sec. Users per second: 1005\n",
      "Similarity column 38121 (100.0%), 2921.23 column/sec. Elapsed time 13.05 sec\n",
      "EvaluatorHoldout: Ignoring 163 ( 0.5%) Users that have less than 1 test interactions\n",
      "EvaluatorHoldout: Processed 35573 (100.0%) in 35.54 sec. Users per second: 1001\n",
      "Similarity column 38121 (100.0%), 2961.74 column/sec. Elapsed time 12.87 sec\n",
      "EvaluatorHoldout: Ignoring 150 ( 0.4%) Users that have less than 1 test interactions\n",
      "EvaluatorHoldout: Processed 35586 (100.0%) in 35.81 sec. Users per second: 994\n",
      "Similarity column 38121 (100.0%), 2933.07 column/sec. Elapsed time 13.00 sec\n",
      "EvaluatorHoldout: Ignoring 167 ( 0.5%) Users that have less than 1 test interactions\n",
      "EvaluatorHoldout: Processed 35569 (100.0%) in 35.75 sec. Users per second: 995\n",
      "Similarity column 38121 (100.0%), 2951.76 column/sec. Elapsed time 12.91 sec\n",
      "EvaluatorHoldout: Ignoring 172 ( 0.5%) Users that have less than 1 test interactions\n",
      "EvaluatorHoldout: Processed 35564 (100.0%) in 35.44 sec. Users per second: 1003\n"
     ]
    },
    {
     "name": "stderr",
     "output_type": "stream",
     "text": [
      "[I 2025-01-06 05:14:16,712] Trial 453 finished with value: 0.25951884223100213 and parameters: {'similarity': 'cosine', 'topK': 12, 'shrink': 357, 'feature_weighting': 'TF-IDF'}. Best is trial 411 with value: 0.26030932919014205.\n"
     ]
    },
    {
     "name": "stdout",
     "output_type": "stream",
     "text": [
      "Similarity column 38121 (100.0%), 2737.01 column/sec. Elapsed time 13.93 sec\n",
      "EvaluatorHoldout: Ignoring 173 ( 0.5%) Users that have less than 1 test interactions\n",
      "EvaluatorHoldout: Processed 35563 (100.0%) in 39.34 sec. Users per second: 904\n",
      "Similarity column 38121 (100.0%), 2718.29 column/sec. Elapsed time 14.02 sec\n",
      "EvaluatorHoldout: Ignoring 163 ( 0.5%) Users that have less than 1 test interactions\n",
      "EvaluatorHoldout: Processed 35573 (100.0%) in 39.39 sec. Users per second: 903\n",
      "Similarity column 38121 (100.0%), 2753.84 column/sec. Elapsed time 13.84 sec\n",
      "EvaluatorHoldout: Ignoring 150 ( 0.4%) Users that have less than 1 test interactions\n",
      "EvaluatorHoldout: Processed 35586 (100.0%) in 39.29 sec. Users per second: 906\n",
      "Similarity column 38121 (100.0%), 2741.84 column/sec. Elapsed time 13.90 sec\n",
      "EvaluatorHoldout: Ignoring 167 ( 0.5%) Users that have less than 1 test interactions\n",
      "EvaluatorHoldout: Processed 35569 (100.0%) in 39.19 sec. Users per second: 908\n",
      "Similarity column 38121 (100.0%), 2736.90 column/sec. Elapsed time 13.93 sec\n",
      "EvaluatorHoldout: Ignoring 172 ( 0.5%) Users that have less than 1 test interactions\n",
      "EvaluatorHoldout: Processed 35564 (100.0%) in 39.18 sec. Users per second: 908\n"
     ]
    },
    {
     "name": "stderr",
     "output_type": "stream",
     "text": [
      "[I 2025-01-06 05:18:44,738] Trial 454 finished with value: 0.22515122483136155 and parameters: {'similarity': 'tversky', 'topK': 32, 'shrink': 516, 'feature_weighting': 'none', 'tversky_alpha': 1.0276052631032513, 'tversky_beta': 0.9309285499445845}. Best is trial 411 with value: 0.26030932919014205.\n"
     ]
    },
    {
     "name": "stdout",
     "output_type": "stream",
     "text": [
      "Similarity column 38121 (100.0%), 3768.67 column/sec. Elapsed time 10.12 sec\n",
      "EvaluatorHoldout: Ignoring 173 ( 0.5%) Users that have less than 1 test interactions\n",
      "EvaluatorHoldout: Processed 35563 (100.0%) in 27.56 sec. Users per second: 1290\n",
      "Similarity column 38121 (100.0%), 3757.17 column/sec. Elapsed time 10.15 sec\n",
      "EvaluatorHoldout: Ignoring 163 ( 0.5%) Users that have less than 1 test interactions\n",
      "EvaluatorHoldout: Processed 35573 (100.0%) in 27.73 sec. Users per second: 1283\n",
      "Similarity column 38121 (100.0%), 3741.56 column/sec. Elapsed time 10.19 sec\n",
      "EvaluatorHoldout: Ignoring 150 ( 0.4%) Users that have less than 1 test interactions\n",
      "EvaluatorHoldout: Processed 35586 (100.0%) in 27.65 sec. Users per second: 1287\n",
      "Similarity column 38121 (100.0%), 3725.81 column/sec. Elapsed time 10.23 sec\n",
      "EvaluatorHoldout: Ignoring 167 ( 0.5%) Users that have less than 1 test interactions\n",
      "EvaluatorHoldout: Processed 35569 (100.0%) in 27.90 sec. Users per second: 1275\n",
      "Similarity column 38121 (100.0%), 3758.94 column/sec. Elapsed time 10.14 sec\n",
      "EvaluatorHoldout: Ignoring 172 ( 0.5%) Users that have less than 1 test interactions\n",
      "EvaluatorHoldout: Processed 35564 (100.0%) in 27.72 sec. Users per second: 1283\n"
     ]
    },
    {
     "name": "stderr",
     "output_type": "stream",
     "text": [
      "[I 2025-01-06 05:21:55,505] Trial 455 finished with value: 0.0055265346604531345 and parameters: {'similarity': 'cosine', 'topK': 0, 'shrink': 439, 'feature_weighting': 'TF-IDF'}. Best is trial 411 with value: 0.26030932919014205.\n"
     ]
    },
    {
     "name": "stdout",
     "output_type": "stream",
     "text": [
      "Similarity column 38121 (100.0%), 2963.26 column/sec. Elapsed time 12.86 sec\n",
      "EvaluatorHoldout: Ignoring 173 ( 0.5%) Users that have less than 1 test interactions\n",
      "EvaluatorHoldout: Processed 35563 (100.0%) in 41.33 sec. Users per second: 861\n",
      "Similarity column 38121 (100.0%), 2961.06 column/sec. Elapsed time 12.87 sec\n",
      "EvaluatorHoldout: Ignoring 163 ( 0.5%) Users that have less than 1 test interactions\n",
      "EvaluatorHoldout: Processed 35573 (100.0%) in 41.26 sec. Users per second: 862\n",
      "Similarity column 38121 (100.0%), 2964.71 column/sec. Elapsed time 12.86 sec\n",
      "EvaluatorHoldout: Ignoring 150 ( 0.4%) Users that have less than 1 test interactions\n",
      "EvaluatorHoldout: Processed 35586 (100.0%) in 41.12 sec. Users per second: 865\n",
      "Similarity column 38121 (100.0%), 2954.08 column/sec. Elapsed time 12.90 sec\n",
      "EvaluatorHoldout: Ignoring 167 ( 0.5%) Users that have less than 1 test interactions\n",
      "EvaluatorHoldout: Processed 35569 (100.0%) in 41.45 sec. Users per second: 858\n",
      "Similarity column 38121 (100.0%), 2965.38 column/sec. Elapsed time 12.86 sec\n",
      "EvaluatorHoldout: Ignoring 172 ( 0.5%) Users that have less than 1 test interactions\n",
      "EvaluatorHoldout: Processed 35564 (100.0%) in 41.28 sec. Users per second: 862\n"
     ]
    },
    {
     "name": "stderr",
     "output_type": "stream",
     "text": [
      "[I 2025-01-06 05:26:28,962] Trial 456 finished with value: 0.2275176733713244 and parameters: {'similarity': 'jaccard', 'topK': 58, 'shrink': 403, 'feature_weighting': 'TF-IDF'}. Best is trial 411 with value: 0.26030932919014205.\n"
     ]
    },
    {
     "name": "stdout",
     "output_type": "stream",
     "text": [
      "Similarity column 38121 (100.0%), 2906.31 column/sec. Elapsed time 13.12 sec\n",
      "EvaluatorHoldout: Ignoring 173 ( 0.5%) Users that have less than 1 test interactions\n",
      "EvaluatorHoldout: Processed 35563 (100.0%) in 37.50 sec. Users per second: 948\n",
      "Similarity column 38121 (100.0%), 2844.38 column/sec. Elapsed time 13.40 sec\n",
      "EvaluatorHoldout: Ignoring 163 ( 0.5%) Users that have less than 1 test interactions\n",
      "EvaluatorHoldout: Processed 35573 (100.0%) in 37.53 sec. Users per second: 948\n",
      "Similarity column 38121 (100.0%), 2932.85 column/sec. Elapsed time 13.00 sec\n",
      "EvaluatorHoldout: Ignoring 150 ( 0.4%) Users that have less than 1 test interactions\n",
      "EvaluatorHoldout: Processed 35586 (100.0%) in 36.99 sec. Users per second: 962\n",
      "Similarity column 38121 (100.0%), 2917.80 column/sec. Elapsed time 13.06 sec\n",
      "EvaluatorHoldout: Ignoring 167 ( 0.5%) Users that have less than 1 test interactions\n",
      "EvaluatorHoldout: Processed 35569 (100.0%) in 37.31 sec. Users per second: 953\n",
      "Similarity column 38121 (100.0%), 2921.64 column/sec. Elapsed time 13.05 sec\n",
      "EvaluatorHoldout: Ignoring 172 ( 0.5%) Users that have less than 1 test interactions\n",
      "EvaluatorHoldout: Processed 35564 (100.0%) in 36.95 sec. Users per second: 963\n"
     ]
    },
    {
     "name": "stderr",
     "output_type": "stream",
     "text": [
      "[I 2025-01-06 05:30:42,447] Trial 457 finished with value: 0.26025157902653767 and parameters: {'similarity': 'cosine', 'topK': 24, 'shrink': 382, 'feature_weighting': 'TF-IDF'}. Best is trial 411 with value: 0.26030932919014205.\n"
     ]
    },
    {
     "name": "stdout",
     "output_type": "stream",
     "text": [
      "Similarity column 38121 (100.0%), 2925.70 column/sec. Elapsed time 13.03 sec\n",
      "EvaluatorHoldout: Ignoring 173 ( 0.5%) Users that have less than 1 test interactions\n",
      "EvaluatorHoldout: Processed 35563 (100.0%) in 38.85 sec. Users per second: 915\n",
      "Similarity column 38121 (100.0%), 2893.30 column/sec. Elapsed time 13.18 sec\n",
      "EvaluatorHoldout: Ignoring 163 ( 0.5%) Users that have less than 1 test interactions\n",
      "EvaluatorHoldout: Processed 35573 (100.0%) in 39.04 sec. Users per second: 911\n",
      "Similarity column 38121 (100.0%), 2920.92 column/sec. Elapsed time 13.05 sec\n",
      "EvaluatorHoldout: Ignoring 150 ( 0.4%) Users that have less than 1 test interactions\n",
      "EvaluatorHoldout: Processed 35586 (100.0%) in 39.16 sec. Users per second: 909\n",
      "Similarity column 38121 (100.0%), 2896.45 column/sec. Elapsed time 13.16 sec\n",
      "EvaluatorHoldout: Ignoring 167 ( 0.5%) Users that have less than 1 test interactions\n",
      "EvaluatorHoldout: Processed 35569 (100.0%) in 38.88 sec. Users per second: 915\n",
      "Similarity column 38121 (100.0%), 2917.56 column/sec. Elapsed time 13.07 sec\n",
      "EvaluatorHoldout: Ignoring 172 ( 0.5%) Users that have less than 1 test interactions\n",
      "EvaluatorHoldout: Processed 35564 (100.0%) in 39.02 sec. Users per second: 911\n"
     ]
    },
    {
     "name": "stderr",
     "output_type": "stream",
     "text": [
      "[I 2025-01-06 05:35:04,659] Trial 458 finished with value: 0.2586679212832642 and parameters: {'similarity': 'cosine', 'topK': 45, 'shrink': 609, 'feature_weighting': 'TF-IDF'}. Best is trial 411 with value: 0.26030932919014205.\n"
     ]
    },
    {
     "name": "stdout",
     "output_type": "stream",
     "text": [
      "Similarity column 38121 (100.0%), 2867.55 column/sec. Elapsed time 13.29 sec\n",
      "EvaluatorHoldout: Ignoring 173 ( 0.5%) Users that have less than 1 test interactions\n",
      "EvaluatorHoldout: Processed 35563 (100.0%) in 35.22 sec. Users per second: 1010\n",
      "Similarity column 38121 (100.0%), 2870.08 column/sec. Elapsed time 13.28 sec\n",
      "EvaluatorHoldout: Ignoring 163 ( 0.5%) Users that have less than 1 test interactions\n",
      "EvaluatorHoldout: Processed 35573 (100.0%) in 35.70 sec. Users per second: 996\n",
      "Similarity column 38121 (100.0%), 2883.44 column/sec. Elapsed time 13.22 sec\n",
      "EvaluatorHoldout: Ignoring 150 ( 0.4%) Users that have less than 1 test interactions\n",
      "EvaluatorHoldout: Processed 35586 (100.0%) in 35.34 sec. Users per second: 1007\n",
      "Similarity column 38121 (100.0%), 2861.57 column/sec. Elapsed time 13.32 sec\n",
      "EvaluatorHoldout: Ignoring 167 ( 0.5%) Users that have less than 1 test interactions\n",
      "EvaluatorHoldout: Processed 35569 (100.0%) in 35.39 sec. Users per second: 1005\n",
      "Similarity column 38121 (100.0%), 2893.21 column/sec. Elapsed time 13.18 sec\n",
      "EvaluatorHoldout: Ignoring 172 ( 0.5%) Users that have less than 1 test interactions\n",
      "EvaluatorHoldout: Processed 35564 (100.0%) in 35.25 sec. Users per second: 1009\n"
     ]
    },
    {
     "name": "stderr",
     "output_type": "stream",
     "text": [
      "[I 2025-01-06 05:39:09,424] Trial 459 finished with value: 0.2580493632401571 and parameters: {'similarity': 'asymmetric', 'topK': 20, 'shrink': 373, 'feature_weighting': 'TF-IDF', 'asymmetric_alpha': 0.004296377956370501}. Best is trial 411 with value: 0.26030932919014205.\n"
     ]
    },
    {
     "name": "stdout",
     "output_type": "stream",
     "text": [
      "Similarity column 38121 (100.0%), 3748.26 column/sec. Elapsed time 10.17 sec\n",
      "EvaluatorHoldout: Ignoring 173 ( 0.5%) Users that have less than 1 test interactions\n",
      "EvaluatorHoldout: Processed 35563 (100.0%) in 27.55 sec. Users per second: 1291\n",
      "Similarity column 38121 (100.0%), 3759.66 column/sec. Elapsed time 10.14 sec\n",
      "EvaluatorHoldout: Ignoring 163 ( 0.5%) Users that have less than 1 test interactions\n",
      "EvaluatorHoldout: Processed 35573 (100.0%) in 27.70 sec. Users per second: 1284\n",
      "Similarity column 38121 (100.0%), 3761.36 column/sec. Elapsed time 10.13 sec\n",
      "EvaluatorHoldout: Ignoring 150 ( 0.4%) Users that have less than 1 test interactions\n",
      "EvaluatorHoldout: Processed 35586 (100.0%) in 27.77 sec. Users per second: 1282\n",
      "Similarity column 38121 (100.0%), 3764.60 column/sec. Elapsed time 10.13 sec\n",
      "EvaluatorHoldout: Ignoring 167 ( 0.5%) Users that have less than 1 test interactions\n",
      "EvaluatorHoldout: Processed 35569 (100.0%) in 27.95 sec. Users per second: 1273\n",
      "Similarity column 38121 (100.0%), 3763.85 column/sec. Elapsed time 10.13 sec\n",
      "EvaluatorHoldout: Ignoring 172 ( 0.5%) Users that have less than 1 test interactions\n",
      "EvaluatorHoldout: Processed 35564 (100.0%) in 27.99 sec. Users per second: 1271\n"
     ]
    },
    {
     "name": "stderr",
     "output_type": "stream",
     "text": [
      "[I 2025-01-06 05:42:20,505] Trial 460 finished with value: 0.0055265346604531345 and parameters: {'similarity': 'cosine', 'topK': 0, 'shrink': 356, 'feature_weighting': 'BM25'}. Best is trial 411 with value: 0.26030932919014205.\n"
     ]
    },
    {
     "name": "stdout",
     "output_type": "stream",
     "text": [
      "Similarity column 38121 (100.0%), 477.08 column/sec. Elapsed time 1.33 min\n",
      "EvaluatorHoldout: Ignoring 173 ( 0.5%) Users that have less than 1 test interactions\n",
      "EvaluatorHoldout: Processed 35563 (100.0%) in 37.81 sec. Users per second: 941\n",
      "Similarity column 38121 (100.0%), 471.49 column/sec. Elapsed time 1.35 min\n",
      "EvaluatorHoldout: Ignoring 163 ( 0.5%) Users that have less than 1 test interactions\n",
      "EvaluatorHoldout: Processed 35573 (100.0%) in 38.34 sec. Users per second: 928\n",
      "Similarity column 38121 (100.0%), 485.95 column/sec. Elapsed time 1.31 min\n",
      "EvaluatorHoldout: Ignoring 150 ( 0.4%) Users that have less than 1 test interactions\n",
      "EvaluatorHoldout: Processed 35586 (100.0%) in 37.98 sec. Users per second: 937\n",
      "Similarity column 38121 (100.0%), 480.32 column/sec. Elapsed time 1.32 min\n",
      "EvaluatorHoldout: Ignoring 167 ( 0.5%) Users that have less than 1 test interactions\n",
      "EvaluatorHoldout: Processed 35569 (100.0%) in 38.10 sec. Users per second: 934\n",
      "Similarity column 38121 (100.0%), 473.86 column/sec. Elapsed time 1.34 min\n",
      "EvaluatorHoldout: Ignoring 172 ( 0.5%) Users that have less than 1 test interactions\n",
      "EvaluatorHoldout: Processed 35564 (100.0%) in 38.03 sec. Users per second: 935\n"
     ]
    },
    {
     "name": "stderr",
     "output_type": "stream",
     "text": [
      "[I 2025-01-06 05:52:11,184] Trial 461 finished with value: 0.2157806709888035 and parameters: {'similarity': 'euclidean', 'topK': 40, 'shrink': 390, 'feature_weighting': 'TF-IDF', 'normalize_avg_row': False, 'similarity_from_distance_mode': 'exp', 'normalize': True}. Best is trial 411 with value: 0.26030932919014205.\n"
     ]
    },
    {
     "name": "stdout",
     "output_type": "stream",
     "text": [
      "Similarity column 38121 (100.0%), 2935.03 column/sec. Elapsed time 12.99 sec\n",
      "EvaluatorHoldout: Ignoring 173 ( 0.5%) Users that have less than 1 test interactions\n",
      "EvaluatorHoldout: Processed 35563 (100.0%) in 36.84 sec. Users per second: 965\n",
      "Similarity column 38121 (100.0%), 2853.56 column/sec. Elapsed time 13.36 sec\n",
      "EvaluatorHoldout: Ignoring 163 ( 0.5%) Users that have less than 1 test interactions\n",
      "EvaluatorHoldout: Processed 35573 (100.0%) in 37.10 sec. Users per second: 959\n",
      "Similarity column 38121 (100.0%), 2952.61 column/sec. Elapsed time 12.91 sec\n",
      "EvaluatorHoldout: Ignoring 150 ( 0.4%) Users that have less than 1 test interactions\n",
      "EvaluatorHoldout: Processed 35586 (100.0%) in 37.03 sec. Users per second: 961\n",
      "Similarity column 38121 (100.0%), 2933.90 column/sec. Elapsed time 12.99 sec\n",
      "EvaluatorHoldout: Ignoring 167 ( 0.5%) Users that have less than 1 test interactions\n",
      "EvaluatorHoldout: Processed 35569 (100.0%) in 37.15 sec. Users per second: 957\n",
      "Similarity column 38121 (100.0%), 2948.76 column/sec. Elapsed time 12.93 sec\n",
      "EvaluatorHoldout: Ignoring 172 ( 0.5%) Users that have less than 1 test interactions\n",
      "EvaluatorHoldout: Processed 35564 (100.0%) in 36.91 sec. Users per second: 963\n"
     ]
    },
    {
     "name": "stderr",
     "output_type": "stream",
     "text": [
      "[I 2025-01-06 05:56:22,906] Trial 462 finished with value: 0.26027144997400836 and parameters: {'similarity': 'cosine', 'topK': 22, 'shrink': 389, 'feature_weighting': 'TF-IDF'}. Best is trial 411 with value: 0.26030932919014205.\n"
     ]
    },
    {
     "name": "stdout",
     "output_type": "stream",
     "text": [
      "Similarity column 38121 (100.0%), 2933.94 column/sec. Elapsed time 12.99 sec\n",
      "EvaluatorHoldout: Ignoring 173 ( 0.5%) Users that have less than 1 test interactions\n",
      "EvaluatorHoldout: Processed 35563 (100.0%) in 39.80 sec. Users per second: 893\n",
      "Similarity column 38121 (100.0%), 2879.99 column/sec. Elapsed time 13.24 sec\n",
      "EvaluatorHoldout: Ignoring 163 ( 0.5%) Users that have less than 1 test interactions\n",
      "EvaluatorHoldout: Processed 35573 (100.0%) in 39.75 sec. Users per second: 895\n",
      "Similarity column 38121 (100.0%), 2939.33 column/sec. Elapsed time 12.97 sec\n",
      "EvaluatorHoldout: Ignoring 150 ( 0.4%) Users that have less than 1 test interactions\n",
      "EvaluatorHoldout: Processed 35586 (100.0%) in 40.00 sec. Users per second: 890\n",
      "Similarity column 38121 (100.0%), 2912.23 column/sec. Elapsed time 13.09 sec\n",
      "EvaluatorHoldout: Ignoring 167 ( 0.5%) Users that have less than 1 test interactions\n",
      "EvaluatorHoldout: Processed 35569 (100.0%) in 39.86 sec. Users per second: 892\n",
      "Similarity column 38121 (100.0%), 2885.26 column/sec. Elapsed time 13.21 sec\n",
      "EvaluatorHoldout: Ignoring 172 ( 0.5%) Users that have less than 1 test interactions\n",
      "EvaluatorHoldout: Processed 35564 (100.0%) in 39.75 sec. Users per second: 895\n"
     ]
    },
    {
     "name": "stderr",
     "output_type": "stream",
     "text": [
      "[I 2025-01-06 06:00:49,394] Trial 463 finished with value: 0.2580004890827271 and parameters: {'similarity': 'cosine', 'topK': 64, 'shrink': 374, 'feature_weighting': 'TF-IDF'}. Best is trial 411 with value: 0.26030932919014205.\n"
     ]
    },
    {
     "name": "stdout",
     "output_type": "stream",
     "text": [
      "Similarity column 38121 (100.0%), 3048.10 column/sec. Elapsed time 12.51 sec\n",
      "EvaluatorHoldout: Ignoring 173 ( 0.5%) Users that have less than 1 test interactions\n",
      "EvaluatorHoldout: Processed 35563 (100.0%) in 39.41 sec. Users per second: 902\n",
      "Similarity column 38121 (100.0%), 2979.12 column/sec. Elapsed time 12.80 sec\n",
      "EvaluatorHoldout: Ignoring 163 ( 0.5%) Users that have less than 1 test interactions\n",
      "EvaluatorHoldout: Processed 35573 (100.0%) in 39.32 sec. Users per second: 905\n",
      "Similarity column 38121 (100.0%), 3028.32 column/sec. Elapsed time 12.59 sec\n",
      "EvaluatorHoldout: Ignoring 150 ( 0.4%) Users that have less than 1 test interactions\n",
      "EvaluatorHoldout: Processed 35586 (100.0%) in 39.83 sec. Users per second: 894\n",
      "Similarity column 38121 (100.0%), 3044.51 column/sec. Elapsed time 12.52 sec\n",
      "EvaluatorHoldout: Ignoring 167 ( 0.5%) Users that have less than 1 test interactions\n",
      "EvaluatorHoldout: Processed 35569 (100.0%) in 39.51 sec. Users per second: 900\n",
      "Similarity column 38121 (100.0%), 3057.18 column/sec. Elapsed time 12.47 sec\n",
      "EvaluatorHoldout: Ignoring 172 ( 0.5%) Users that have less than 1 test interactions\n",
      "EvaluatorHoldout: Processed 35564 (100.0%) in 39.43 sec. Users per second: 902\n"
     ]
    },
    {
     "name": "stderr",
     "output_type": "stream",
     "text": [
      "[I 2025-01-06 06:05:12,258] Trial 464 finished with value: 0.23122523985177565 and parameters: {'similarity': 'dice', 'topK': 35, 'shrink': 354, 'feature_weighting': 'TF-IDF'}. Best is trial 411 with value: 0.26030932919014205.\n"
     ]
    },
    {
     "name": "stdout",
     "output_type": "stream",
     "text": [
      "Similarity column 38121 (100.0%), 2923.82 column/sec. Elapsed time 13.04 sec\n",
      "EvaluatorHoldout: Ignoring 173 ( 0.5%) Users that have less than 1 test interactions\n",
      "EvaluatorHoldout: Processed 35563 (100.0%) in 38.95 sec. Users per second: 913\n",
      "Similarity column 38121 (100.0%), 2910.93 column/sec. Elapsed time 13.10 sec\n",
      "EvaluatorHoldout: Ignoring 163 ( 0.5%) Users that have less than 1 test interactions\n",
      "EvaluatorHoldout: Processed 35573 (100.0%) in 39.11 sec. Users per second: 909\n",
      "Similarity column 38121 (100.0%), 2921.53 column/sec. Elapsed time 13.05 sec\n",
      "EvaluatorHoldout: Ignoring 150 ( 0.4%) Users that have less than 1 test interactions\n",
      "EvaluatorHoldout: Processed 35586 (100.0%) in 38.92 sec. Users per second: 914\n",
      "Similarity column 38121 (100.0%), 2920.21 column/sec. Elapsed time 13.05 sec\n",
      "EvaluatorHoldout: Ignoring 167 ( 0.5%) Users that have less than 1 test interactions\n",
      "EvaluatorHoldout: Processed 35569 (100.0%) in 39.04 sec. Users per second: 911\n",
      "Similarity column 38121 (100.0%), 2929.88 column/sec. Elapsed time 13.01 sec\n",
      "EvaluatorHoldout: Ignoring 172 ( 0.5%) Users that have less than 1 test interactions\n",
      "EvaluatorHoldout: Processed 35564 (100.0%) in 39.11 sec. Users per second: 909\n"
     ]
    },
    {
     "name": "stderr",
     "output_type": "stream",
     "text": [
      "[I 2025-01-06 06:09:34,481] Trial 465 finished with value: 0.25881758397912435 and parameters: {'similarity': 'cosine', 'topK': 51, 'shrink': 389, 'feature_weighting': 'TF-IDF'}. Best is trial 411 with value: 0.26030932919014205.\n"
     ]
    },
    {
     "name": "stdout",
     "output_type": "stream",
     "text": [
      "Similarity column 38121 (100.0%), 2903.52 column/sec. Elapsed time 13.13 sec\n",
      "EvaluatorHoldout: Ignoring 173 ( 0.5%) Users that have less than 1 test interactions\n",
      "EvaluatorHoldout: Processed 35563 (100.0%) in 36.64 sec. Users per second: 971\n",
      "Similarity column 38121 (100.0%), 2930.12 column/sec. Elapsed time 13.01 sec\n",
      "EvaluatorHoldout: Ignoring 163 ( 0.5%) Users that have less than 1 test interactions\n",
      "EvaluatorHoldout: Processed 35573 (100.0%) in 36.82 sec. Users per second: 966\n",
      "Similarity column 38121 (100.0%), 2940.36 column/sec. Elapsed time 12.96 sec\n",
      "EvaluatorHoldout: Ignoring 150 ( 0.4%) Users that have less than 1 test interactions\n",
      "EvaluatorHoldout: Processed 35586 (100.0%) in 36.60 sec. Users per second: 972\n",
      "Similarity column 38121 (100.0%), 2913.92 column/sec. Elapsed time 13.08 sec\n",
      "EvaluatorHoldout: Ignoring 167 ( 0.5%) Users that have less than 1 test interactions\n",
      "EvaluatorHoldout: Processed 35569 (100.0%) in 36.60 sec. Users per second: 972\n",
      "Similarity column 38121 (100.0%), 2930.68 column/sec. Elapsed time 13.01 sec\n",
      "EvaluatorHoldout: Ignoring 172 ( 0.5%) Users that have less than 1 test interactions\n",
      "EvaluatorHoldout: Processed 35564 (100.0%) in 36.59 sec. Users per second: 972\n"
     ]
    },
    {
     "name": "stderr",
     "output_type": "stream",
     "text": [
      "[I 2025-01-06 06:13:44,452] Trial 466 finished with value: 0.26017211243352223 and parameters: {'similarity': 'cosine', 'topK': 19, 'shrink': 377, 'feature_weighting': 'TF-IDF'}. Best is trial 411 with value: 0.26030932919014205.\n"
     ]
    },
    {
     "name": "stdout",
     "output_type": "stream",
     "text": [
      "Similarity column 38121 (100.0%), 2919.93 column/sec. Elapsed time 13.06 sec\n",
      "EvaluatorHoldout: Ignoring 173 ( 0.5%) Users that have less than 1 test interactions\n",
      "EvaluatorHoldout: Processed 35563 (100.0%) in 37.45 sec. Users per second: 950\n",
      "Similarity column 38121 (100.0%), 2927.61 column/sec. Elapsed time 13.02 sec\n",
      "EvaluatorHoldout: Ignoring 163 ( 0.5%) Users that have less than 1 test interactions\n",
      "EvaluatorHoldout: Processed 35573 (100.0%) in 37.69 sec. Users per second: 944\n",
      "Similarity column 38121 (100.0%), 2928.13 column/sec. Elapsed time 13.02 sec\n",
      "EvaluatorHoldout: Ignoring 150 ( 0.4%) Users that have less than 1 test interactions\n",
      "EvaluatorHoldout: Processed 35586 (100.0%) in 37.63 sec. Users per second: 946\n",
      "Similarity column 38121 (100.0%), 2937.60 column/sec. Elapsed time 12.98 sec\n",
      "EvaluatorHoldout: Ignoring 167 ( 0.5%) Users that have less than 1 test interactions\n",
      "EvaluatorHoldout: Processed 35569 (100.0%) in 37.77 sec. Users per second: 942\n",
      "Similarity column 38121 (100.0%), 2943.55 column/sec. Elapsed time 12.95 sec\n",
      "EvaluatorHoldout: Ignoring 172 ( 0.5%) Users that have less than 1 test interactions\n",
      "EvaluatorHoldout: Processed 35564 (100.0%) in 37.92 sec. Users per second: 938\n"
     ]
    },
    {
     "name": "stderr",
     "output_type": "stream",
     "text": [
      "[I 2025-01-06 06:17:59,531] Trial 467 finished with value: 0.26009334454080163 and parameters: {'similarity': 'cosine', 'topK': 30, 'shrink': 339, 'feature_weighting': 'TF-IDF'}. Best is trial 411 with value: 0.26030932919014205.\n"
     ]
    },
    {
     "name": "stdout",
     "output_type": "stream",
     "text": [
      "Similarity column 38121 (100.0%), 2879.96 column/sec. Elapsed time 13.24 sec\n",
      "EvaluatorHoldout: Ignoring 173 ( 0.5%) Users that have less than 1 test interactions\n",
      "EvaluatorHoldout: Processed 35563 (100.0%) in 40.80 sec. Users per second: 872\n",
      "Similarity column 38121 (100.0%), 2882.20 column/sec. Elapsed time 13.23 sec\n",
      "EvaluatorHoldout: Ignoring 163 ( 0.5%) Users that have less than 1 test interactions\n",
      "EvaluatorHoldout: Processed 35573 (100.0%) in 40.99 sec. Users per second: 868\n",
      "Similarity column 38121 (100.0%), 2921.98 column/sec. Elapsed time 13.05 sec\n",
      "EvaluatorHoldout: Ignoring 150 ( 0.4%) Users that have less than 1 test interactions\n",
      "EvaluatorHoldout: Processed 35586 (100.0%) in 40.88 sec. Users per second: 871\n",
      "Similarity column 38121 (100.0%), 2893.48 column/sec. Elapsed time 13.17 sec\n",
      "EvaluatorHoldout: Ignoring 167 ( 0.5%) Users that have less than 1 test interactions\n",
      "EvaluatorHoldout: Processed 35569 (100.0%) in 40.91 sec. Users per second: 869\n",
      "Similarity column 38121 (100.0%), 2887.48 column/sec. Elapsed time 13.20 sec\n",
      "EvaluatorHoldout: Ignoring 172 ( 0.5%) Users that have less than 1 test interactions\n",
      "EvaluatorHoldout: Processed 35564 (100.0%) in 40.66 sec. Users per second: 875\n"
     ]
    },
    {
     "name": "stderr",
     "output_type": "stream",
     "text": [
      "[I 2025-01-06 06:22:31,628] Trial 468 finished with value: 0.2567786022580739 and parameters: {'similarity': 'cosine', 'topK': 84, 'shrink': 402, 'feature_weighting': 'TF-IDF'}. Best is trial 411 with value: 0.26030932919014205.\n"
     ]
    },
    {
     "name": "stdout",
     "output_type": "stream",
     "text": [
      "Similarity column 38121 (100.0%), 2935.20 column/sec. Elapsed time 12.99 sec\n",
      "EvaluatorHoldout: Ignoring 173 ( 0.5%) Users that have less than 1 test interactions\n",
      "EvaluatorHoldout: Processed 35563 (100.0%) in 35.37 sec. Users per second: 1006\n",
      "Similarity column 38121 (100.0%), 2915.88 column/sec. Elapsed time 13.07 sec\n",
      "EvaluatorHoldout: Ignoring 163 ( 0.5%) Users that have less than 1 test interactions\n",
      "EvaluatorHoldout: Processed 35573 (100.0%) in 35.50 sec. Users per second: 1002\n",
      "Similarity column 38121 (100.0%), 2942.02 column/sec. Elapsed time 12.96 sec\n",
      "EvaluatorHoldout: Ignoring 150 ( 0.4%) Users that have less than 1 test interactions\n",
      "EvaluatorHoldout: Processed 35586 (100.0%) in 35.79 sec. Users per second: 994\n",
      "Similarity column 38121 (100.0%), 2920.35 column/sec. Elapsed time 13.05 sec\n",
      "EvaluatorHoldout: Ignoring 167 ( 0.5%) Users that have less than 1 test interactions\n",
      "EvaluatorHoldout: Processed 35569 (100.0%) in 35.54 sec. Users per second: 1001\n",
      "Similarity column 38121 (100.0%), 2940.76 column/sec. Elapsed time 12.96 sec\n",
      "EvaluatorHoldout: Ignoring 172 ( 0.5%) Users that have less than 1 test interactions\n",
      "EvaluatorHoldout: Processed 35564 (100.0%) in 35.29 sec. Users per second: 1008\n"
     ]
    },
    {
     "name": "stderr",
     "output_type": "stream",
     "text": [
      "[I 2025-01-06 06:26:35,582] Trial 469 finished with value: 0.2592460258953557 and parameters: {'similarity': 'cosine', 'topK': 11, 'shrink': 369, 'feature_weighting': 'TF-IDF'}. Best is trial 411 with value: 0.26030932919014205.\n"
     ]
    },
    {
     "name": "stdout",
     "output_type": "stream",
     "text": [
      "Similarity column 38121 (100.0%), 2906.07 column/sec. Elapsed time 13.12 sec\n",
      "EvaluatorHoldout: Ignoring 173 ( 0.5%) Users that have less than 1 test interactions\n",
      "EvaluatorHoldout: Processed 35563 (100.0%) in 39.28 sec. Users per second: 905\n",
      "Similarity column 38121 (100.0%), 2898.52 column/sec. Elapsed time 13.15 sec\n",
      "EvaluatorHoldout: Ignoring 163 ( 0.5%) Users that have less than 1 test interactions\n",
      "EvaluatorHoldout: Processed 35573 (100.0%) in 39.21 sec. Users per second: 907\n",
      "Similarity column 38121 (100.0%), 2936.46 column/sec. Elapsed time 12.98 sec\n",
      "EvaluatorHoldout: Ignoring 150 ( 0.4%) Users that have less than 1 test interactions\n",
      "EvaluatorHoldout: Processed 35586 (100.0%) in 39.32 sec. Users per second: 905\n",
      "Similarity column 38121 (100.0%), 2910.81 column/sec. Elapsed time 13.10 sec\n",
      "EvaluatorHoldout: Ignoring 167 ( 0.5%) Users that have less than 1 test interactions\n",
      "EvaluatorHoldout: Processed 35569 (100.0%) in 39.23 sec. Users per second: 907\n",
      "Similarity column 38121 (100.0%), 2917.53 column/sec. Elapsed time 13.07 sec\n",
      "EvaluatorHoldout: Ignoring 172 ( 0.5%) Users that have less than 1 test interactions\n",
      "EvaluatorHoldout: Processed 35564 (100.0%) in 39.21 sec. Users per second: 907\n"
     ]
    },
    {
     "name": "stderr",
     "output_type": "stream",
     "text": [
      "[I 2025-01-06 06:30:58,999] Trial 470 finished with value: 0.2580568728872543 and parameters: {'similarity': 'cosine', 'topK': 47, 'shrink': 788, 'feature_weighting': 'TF-IDF'}. Best is trial 411 with value: 0.26030932919014205.\n"
     ]
    },
    {
     "name": "stdout",
     "output_type": "stream",
     "text": [
      "Similarity column 38121 (100.0%), 2926.78 column/sec. Elapsed time 13.02 sec\n",
      "EvaluatorHoldout: Ignoring 173 ( 0.5%) Users that have less than 1 test interactions\n",
      "EvaluatorHoldout: Processed 35563 (100.0%) in 37.30 sec. Users per second: 953\n",
      "Similarity column 38121 (100.0%), 2907.49 column/sec. Elapsed time 13.11 sec\n",
      "EvaluatorHoldout: Ignoring 163 ( 0.5%) Users that have less than 1 test interactions\n",
      "EvaluatorHoldout: Processed 35573 (100.0%) in 37.44 sec. Users per second: 950\n",
      "Similarity column 38121 (100.0%), 2928.31 column/sec. Elapsed time 13.02 sec\n",
      "EvaluatorHoldout: Ignoring 150 ( 0.4%) Users that have less than 1 test interactions\n",
      "EvaluatorHoldout: Processed 35586 (100.0%) in 37.51 sec. Users per second: 949\n",
      "Similarity column 38121 (100.0%), 2940.77 column/sec. Elapsed time 12.96 sec\n",
      "EvaluatorHoldout: Ignoring 167 ( 0.5%) Users that have less than 1 test interactions\n",
      "EvaluatorHoldout: Processed 35569 (100.0%) in 37.22 sec. Users per second: 956\n",
      "Similarity column 38121 (100.0%), 2897.16 column/sec. Elapsed time 13.16 sec\n",
      "EvaluatorHoldout: Ignoring 172 ( 0.5%) Users that have less than 1 test interactions\n",
      "EvaluatorHoldout: Processed 35564 (100.0%) in 37.78 sec. Users per second: 941\n"
     ]
    },
    {
     "name": "stderr",
     "output_type": "stream",
     "text": [
      "[I 2025-01-06 06:35:13,172] Trial 471 finished with value: 0.2602116520835973 and parameters: {'similarity': 'cosine', 'topK': 28, 'shrink': 327, 'feature_weighting': 'TF-IDF'}. Best is trial 411 with value: 0.26030932919014205.\n"
     ]
    },
    {
     "name": "stdout",
     "output_type": "stream",
     "text": [
      "Similarity column 38121 (100.0%), 2936.42 column/sec. Elapsed time 12.98 sec\n",
      "EvaluatorHoldout: Ignoring 173 ( 0.5%) Users that have less than 1 test interactions\n",
      "EvaluatorHoldout: Processed 35563 (100.0%) in 35.77 sec. Users per second: 994\n",
      "Similarity column 38121 (100.0%), 2915.89 column/sec. Elapsed time 13.07 sec\n",
      "EvaluatorHoldout: Ignoring 163 ( 0.5%) Users that have less than 1 test interactions\n",
      "EvaluatorHoldout: Processed 35573 (100.0%) in 35.85 sec. Users per second: 992\n",
      "Similarity column 38121 (100.0%), 2941.73 column/sec. Elapsed time 12.96 sec\n",
      "EvaluatorHoldout: Ignoring 150 ( 0.4%) Users that have less than 1 test interactions\n",
      "EvaluatorHoldout: Processed 35586 (100.0%) in 35.78 sec. Users per second: 994\n",
      "Similarity column 38121 (100.0%), 2935.15 column/sec. Elapsed time 12.99 sec\n",
      "EvaluatorHoldout: Ignoring 167 ( 0.5%) Users that have less than 1 test interactions\n",
      "EvaluatorHoldout: Processed 35569 (100.0%) in 35.80 sec. Users per second: 993\n",
      "Similarity column 38121 (100.0%), 2862.37 column/sec. Elapsed time 13.32 sec\n",
      "EvaluatorHoldout: Ignoring 172 ( 0.5%) Users that have less than 1 test interactions\n",
      "EvaluatorHoldout: Processed 35564 (100.0%) in 35.67 sec. Users per second: 997\n"
     ]
    },
    {
     "name": "stderr",
     "output_type": "stream",
     "text": [
      "[I 2025-01-06 06:39:18,822] Trial 472 finished with value: 0.2596326284048935 and parameters: {'similarity': 'cosine', 'topK': 12, 'shrink': 421, 'feature_weighting': 'TF-IDF'}. Best is trial 411 with value: 0.26030932919014205.\n"
     ]
    },
    {
     "name": "stdout",
     "output_type": "stream",
     "text": [
      "Similarity column 38121 (100.0%), 3756.78 column/sec. Elapsed time 10.15 sec\n",
      "EvaluatorHoldout: Ignoring 173 ( 0.5%) Users that have less than 1 test interactions\n",
      "EvaluatorHoldout: Processed 35563 (100.0%) in 27.75 sec. Users per second: 1282\n",
      "Similarity column 38121 (100.0%), 3786.14 column/sec. Elapsed time 10.07 sec\n",
      "EvaluatorHoldout: Ignoring 163 ( 0.5%) Users that have less than 1 test interactions\n",
      "EvaluatorHoldout: Processed 35573 (100.0%) in 27.99 sec. Users per second: 1271\n",
      "Similarity column 38121 (100.0%), 3762.70 column/sec. Elapsed time 10.13 sec\n",
      "EvaluatorHoldout: Ignoring 150 ( 0.4%) Users that have less than 1 test interactions\n",
      "EvaluatorHoldout: Processed 35586 (100.0%) in 27.80 sec. Users per second: 1280\n",
      "Similarity column 38121 (100.0%), 3762.42 column/sec. Elapsed time 10.13 sec\n",
      "EvaluatorHoldout: Ignoring 167 ( 0.5%) Users that have less than 1 test interactions\n",
      "EvaluatorHoldout: Processed 35569 (100.0%) in 27.69 sec. Users per second: 1284\n",
      "Similarity column 38121 (100.0%), 3749.74 column/sec. Elapsed time 10.17 sec\n",
      "EvaluatorHoldout: Ignoring 172 ( 0.5%) Users that have less than 1 test interactions\n",
      "EvaluatorHoldout: Processed 35564 (100.0%) in 27.76 sec. Users per second: 1281\n"
     ]
    },
    {
     "name": "stderr",
     "output_type": "stream",
     "text": [
      "[I 2025-01-06 06:42:29,828] Trial 473 finished with value: 0.0055265346604531345 and parameters: {'similarity': 'cosine', 'topK': 0, 'shrink': 392, 'feature_weighting': 'TF-IDF'}. Best is trial 411 with value: 0.26030932919014205.\n"
     ]
    },
    {
     "name": "stdout",
     "output_type": "stream",
     "text": [
      "Similarity column 38121 (100.0%), 2918.73 column/sec. Elapsed time 13.06 sec\n",
      "EvaluatorHoldout: Ignoring 173 ( 0.5%) Users that have less than 1 test interactions\n",
      "EvaluatorHoldout: Processed 35563 (100.0%) in 38.21 sec. Users per second: 931\n",
      "Similarity column 38121 (100.0%), 2909.72 column/sec. Elapsed time 13.10 sec\n",
      "EvaluatorHoldout: Ignoring 163 ( 0.5%) Users that have less than 1 test interactions\n",
      "EvaluatorHoldout: Processed 35573 (100.0%) in 38.29 sec. Users per second: 929\n",
      "Similarity column 38121 (100.0%), 2927.81 column/sec. Elapsed time 13.02 sec\n",
      "EvaluatorHoldout: Ignoring 150 ( 0.4%) Users that have less than 1 test interactions\n",
      "EvaluatorHoldout: Processed 35586 (100.0%) in 38.09 sec. Users per second: 934\n",
      "Similarity column 38121 (100.0%), 2881.17 column/sec. Elapsed time 13.23 sec\n",
      "EvaluatorHoldout: Ignoring 167 ( 0.5%) Users that have less than 1 test interactions\n",
      "EvaluatorHoldout: Processed 35569 (100.0%) in 38.04 sec. Users per second: 935\n",
      "Similarity column 38121 (100.0%), 2914.81 column/sec. Elapsed time 13.08 sec\n",
      "EvaluatorHoldout: Ignoring 172 ( 0.5%) Users that have less than 1 test interactions\n",
      "EvaluatorHoldout: Processed 35564 (100.0%) in 38.21 sec. Users per second: 931\n"
     ]
    },
    {
     "name": "stderr",
     "output_type": "stream",
     "text": [
      "[I 2025-01-06 06:46:47,878] Trial 474 finished with value: 0.259432322661013 and parameters: {'similarity': 'cosine', 'topK': 38, 'shrink': 244, 'feature_weighting': 'TF-IDF'}. Best is trial 411 with value: 0.26030932919014205.\n"
     ]
    },
    {
     "name": "stdout",
     "output_type": "stream",
     "text": [
      "Similarity column 38121 (100.0%), 2876.02 column/sec. Elapsed time 13.25 sec\n",
      "EvaluatorHoldout: Ignoring 173 ( 0.5%) Users that have less than 1 test interactions\n",
      "EvaluatorHoldout: Processed 35563 (100.0%) in 42.68 sec. Users per second: 833\n",
      "Similarity column 38121 (100.0%), 2866.15 column/sec. Elapsed time 13.30 sec\n",
      "EvaluatorHoldout: Ignoring 163 ( 0.5%) Users that have less than 1 test interactions\n",
      "EvaluatorHoldout: Processed 35573 (100.0%) in 42.66 sec. Users per second: 834\n",
      "Similarity column 38121 (100.0%), 2872.58 column/sec. Elapsed time 13.27 sec\n",
      "EvaluatorHoldout: Ignoring 150 ( 0.4%) Users that have less than 1 test interactions\n",
      "EvaluatorHoldout: Processed 35586 (100.0%) in 42.57 sec. Users per second: 836\n",
      "Similarity column 38121 (100.0%), 2878.60 column/sec. Elapsed time 13.24 sec\n",
      "EvaluatorHoldout: Ignoring 167 ( 0.5%) Users that have less than 1 test interactions\n",
      "EvaluatorHoldout: Processed 35569 (100.0%) in 42.66 sec. Users per second: 834\n",
      "Similarity column 38121 (100.0%), 2855.14 column/sec. Elapsed time 13.35 sec\n",
      "EvaluatorHoldout: Ignoring 172 ( 0.5%) Users that have less than 1 test interactions\n",
      "EvaluatorHoldout: Processed 35564 (100.0%) in 42.85 sec. Users per second: 830\n"
     ]
    },
    {
     "name": "stderr",
     "output_type": "stream",
     "text": [
      "[I 2025-01-06 06:51:29,157] Trial 475 finished with value: 0.2184415577017529 and parameters: {'similarity': 'cosine', 'topK': 63, 'shrink': 410, 'feature_weighting': 'none'}. Best is trial 411 with value: 0.26030932919014205.\n"
     ]
    },
    {
     "name": "stdout",
     "output_type": "stream",
     "text": [
      "Similarity column 38121 (100.0%), 2927.89 column/sec. Elapsed time 13.02 sec\n",
      "EvaluatorHoldout: Ignoring 173 ( 0.5%) Users that have less than 1 test interactions\n",
      "EvaluatorHoldout: Processed 35563 (100.0%) in 37.07 sec. Users per second: 959\n",
      "Similarity column 38121 (100.0%), 2946.62 column/sec. Elapsed time 12.94 sec\n",
      "EvaluatorHoldout: Ignoring 163 ( 0.5%) Users that have less than 1 test interactions\n",
      "EvaluatorHoldout: Processed 35573 (100.0%) in 37.07 sec. Users per second: 960\n",
      "Similarity column 38121 (100.0%), 2932.37 column/sec. Elapsed time 13.00 sec\n",
      "EvaluatorHoldout: Ignoring 150 ( 0.4%) Users that have less than 1 test interactions\n",
      "EvaluatorHoldout: Processed 35586 (100.0%) in 36.90 sec. Users per second: 964\n",
      "Similarity column 38121 (100.0%), 2936.71 column/sec. Elapsed time 12.98 sec\n",
      "EvaluatorHoldout: Ignoring 167 ( 0.5%) Users that have less than 1 test interactions\n",
      "EvaluatorHoldout: Processed 35569 (100.0%) in 37.14 sec. Users per second: 958\n",
      "Similarity column 38121 (100.0%), 2929.02 column/sec. Elapsed time 13.01 sec\n",
      "EvaluatorHoldout: Ignoring 172 ( 0.5%) Users that have less than 1 test interactions\n",
      "EvaluatorHoldout: Processed 35564 (100.0%) in 37.16 sec. Users per second: 957\n"
     ]
    },
    {
     "name": "stderr",
     "output_type": "stream",
     "text": [
      "[I 2025-01-06 06:55:41,012] Trial 476 finished with value: 0.2601799016771452 and parameters: {'similarity': 'cosine', 'topK': 24, 'shrink': 360, 'feature_weighting': 'TF-IDF'}. Best is trial 411 with value: 0.26030932919014205.\n"
     ]
    },
    {
     "name": "stdout",
     "output_type": "stream",
     "text": [
      "Similarity column 38121 (100.0%), 2915.17 column/sec. Elapsed time 13.08 sec\n",
      "EvaluatorHoldout: Ignoring 173 ( 0.5%) Users that have less than 1 test interactions\n",
      "EvaluatorHoldout: Processed 35563 (100.0%) in 38.87 sec. Users per second: 915\n",
      "Similarity column 38121 (100.0%), 2905.01 column/sec. Elapsed time 13.12 sec\n",
      "EvaluatorHoldout: Ignoring 163 ( 0.5%) Users that have less than 1 test interactions\n",
      "EvaluatorHoldout: Processed 35573 (100.0%) in 39.37 sec. Users per second: 904\n",
      "Similarity column 38121 (100.0%), 2924.81 column/sec. Elapsed time 13.03 sec\n",
      "EvaluatorHoldout: Ignoring 150 ( 0.4%) Users that have less than 1 test interactions\n",
      "EvaluatorHoldout: Processed 35586 (100.0%) in 38.98 sec. Users per second: 913\n",
      "Similarity column 38121 (100.0%), 2893.54 column/sec. Elapsed time 13.17 sec\n",
      "EvaluatorHoldout: Ignoring 167 ( 0.5%) Users that have less than 1 test interactions\n",
      "EvaluatorHoldout: Processed 35569 (100.0%) in 38.97 sec. Users per second: 913\n",
      "Similarity column 38121 (100.0%), 2918.07 column/sec. Elapsed time 13.06 sec\n",
      "EvaluatorHoldout: Ignoring 172 ( 0.5%) Users that have less than 1 test interactions\n",
      "EvaluatorHoldout: Processed 35564 (100.0%) in 38.84 sec. Users per second: 916\n"
     ]
    },
    {
     "name": "stderr",
     "output_type": "stream",
     "text": [
      "[I 2025-01-06 07:00:03,291] Trial 477 finished with value: 0.2588993606297075 and parameters: {'similarity': 'cosine', 'topK': 48, 'shrink': 385, 'feature_weighting': 'TF-IDF'}. Best is trial 411 with value: 0.26030932919014205.\n"
     ]
    },
    {
     "name": "stdout",
     "output_type": "stream",
     "text": [
      "Similarity column 38121 (100.0%), 2860.40 column/sec. Elapsed time 13.33 sec\n",
      "EvaluatorHoldout: Ignoring 173 ( 0.5%) Users that have less than 1 test interactions\n",
      "EvaluatorHoldout: Processed 35563 (100.0%) in 43.81 sec. Users per second: 812\n",
      "Similarity column 38121 (100.0%), 2842.51 column/sec. Elapsed time 13.41 sec\n",
      "EvaluatorHoldout: Ignoring 163 ( 0.5%) Users that have less than 1 test interactions\n",
      "EvaluatorHoldout: Processed 35573 (100.0%) in 43.98 sec. Users per second: 809\n",
      "Similarity column 38121 (100.0%), 2883.01 column/sec. Elapsed time 13.22 sec\n",
      "EvaluatorHoldout: Ignoring 150 ( 0.4%) Users that have less than 1 test interactions\n",
      "EvaluatorHoldout: Processed 35586 (100.0%) in 43.99 sec. Users per second: 809\n",
      "Similarity column 38121 (100.0%), 2856.13 column/sec. Elapsed time 13.35 sec\n",
      "EvaluatorHoldout: Ignoring 167 ( 0.5%) Users that have less than 1 test interactions\n",
      "EvaluatorHoldout: Processed 35569 (100.0%) in 44.10 sec. Users per second: 807\n",
      "Similarity column 38121 (100.0%), 2878.84 column/sec. Elapsed time 13.24 sec\n",
      "EvaluatorHoldout: Ignoring 172 ( 0.5%) Users that have less than 1 test interactions\n",
      "EvaluatorHoldout: Processed 35564 (100.0%) in 43.93 sec. Users per second: 810\n"
     ]
    },
    {
     "name": "stderr",
     "output_type": "stream",
     "text": [
      "[I 2025-01-06 07:04:52,187] Trial 478 finished with value: 0.25443746344604556 and parameters: {'similarity': 'cosine', 'topK': 162, 'shrink': 411, 'feature_weighting': 'TF-IDF'}. Best is trial 411 with value: 0.26030932919014205.\n"
     ]
    },
    {
     "name": "stdout",
     "output_type": "stream",
     "text": [
      "Similarity column 38121 (100.0%), 2926.17 column/sec. Elapsed time 13.03 sec\n",
      "EvaluatorHoldout: Ignoring 173 ( 0.5%) Users that have less than 1 test interactions\n",
      "EvaluatorHoldout: Processed 35563 (100.0%) in 36.47 sec. Users per second: 975\n",
      "Similarity column 38121 (100.0%), 2935.95 column/sec. Elapsed time 12.98 sec\n",
      "EvaluatorHoldout: Ignoring 163 ( 0.5%) Users that have less than 1 test interactions\n",
      "EvaluatorHoldout: Processed 35573 (100.0%) in 36.81 sec. Users per second: 966\n",
      "Similarity column 38121 (100.0%), 2933.93 column/sec. Elapsed time 12.99 sec\n",
      "EvaluatorHoldout: Ignoring 150 ( 0.4%) Users that have less than 1 test interactions\n",
      "EvaluatorHoldout: Processed 35586 (100.0%) in 36.75 sec. Users per second: 968\n",
      "Similarity column 38121 (100.0%), 2901.88 column/sec. Elapsed time 13.14 sec\n",
      "EvaluatorHoldout: Ignoring 167 ( 0.5%) Users that have less than 1 test interactions\n",
      "EvaluatorHoldout: Processed 35569 (100.0%) in 36.73 sec. Users per second: 968\n",
      "Similarity column 38121 (100.0%), 2926.87 column/sec. Elapsed time 13.02 sec\n",
      "EvaluatorHoldout: Ignoring 172 ( 0.5%) Users that have less than 1 test interactions\n",
      "EvaluatorHoldout: Processed 35564 (100.0%) in 36.85 sec. Users per second: 965\n"
     ]
    },
    {
     "name": "stderr",
     "output_type": "stream",
     "text": [
      "[I 2025-01-06 07:09:02,549] Trial 479 finished with value: 0.26008318966057925 and parameters: {'similarity': 'cosine', 'topK': 17, 'shrink': 560, 'feature_weighting': 'TF-IDF'}. Best is trial 411 with value: 0.26030932919014205.\n"
     ]
    },
    {
     "name": "stdout",
     "output_type": "stream",
     "text": [
      "Similarity column 38121 (100.0%), 2911.14 column/sec. Elapsed time 13.09 sec\n",
      "EvaluatorHoldout: Ignoring 173 ( 0.5%) Users that have less than 1 test interactions\n",
      "EvaluatorHoldout: Processed 35563 (100.0%) in 38.05 sec. Users per second: 935\n",
      "Similarity column 38121 (100.0%), 2936.56 column/sec. Elapsed time 12.98 sec\n",
      "EvaluatorHoldout: Ignoring 163 ( 0.5%) Users that have less than 1 test interactions\n",
      "EvaluatorHoldout: Processed 35573 (100.0%) in 37.92 sec. Users per second: 938\n",
      "Similarity column 38121 (100.0%), 2941.32 column/sec. Elapsed time 12.96 sec\n",
      "EvaluatorHoldout: Ignoring 150 ( 0.4%) Users that have less than 1 test interactions\n",
      "EvaluatorHoldout: Processed 35586 (100.0%) in 37.93 sec. Users per second: 938\n",
      "Similarity column 38121 (100.0%), 2913.50 column/sec. Elapsed time 13.08 sec\n",
      "EvaluatorHoldout: Ignoring 167 ( 0.5%) Users that have less than 1 test interactions\n",
      "EvaluatorHoldout: Processed 35569 (100.0%) in 37.99 sec. Users per second: 936\n",
      "Similarity column 38121 (100.0%), 2922.27 column/sec. Elapsed time 13.05 sec\n",
      "EvaluatorHoldout: Ignoring 172 ( 0.5%) Users that have less than 1 test interactions\n",
      "EvaluatorHoldout: Processed 35564 (100.0%) in 38.13 sec. Users per second: 933\n"
     ]
    },
    {
     "name": "stderr",
     "output_type": "stream",
     "text": [
      "[I 2025-01-06 07:13:19,326] Trial 480 finished with value: 0.2598474024260215 and parameters: {'similarity': 'cosine', 'topK': 34, 'shrink': 352, 'feature_weighting': 'TF-IDF'}. Best is trial 411 with value: 0.26030932919014205.\n"
     ]
    },
    {
     "name": "stdout",
     "output_type": "stream",
     "text": [
      "Similarity column 38121 (100.0%), 2925.30 column/sec. Elapsed time 13.03 sec\n",
      "EvaluatorHoldout: Ignoring 173 ( 0.5%) Users that have less than 1 test interactions\n",
      "EvaluatorHoldout: Processed 35563 (100.0%) in 35.36 sec. Users per second: 1006\n",
      "Similarity column 38121 (100.0%), 2946.88 column/sec. Elapsed time 12.94 sec\n",
      "EvaluatorHoldout: Ignoring 163 ( 0.5%) Users that have less than 1 test interactions\n",
      "EvaluatorHoldout: Processed 35573 (100.0%) in 35.58 sec. Users per second: 1000\n",
      "Similarity column 38121 (100.0%), 2909.46 column/sec. Elapsed time 13.10 sec\n",
      "EvaluatorHoldout: Ignoring 150 ( 0.4%) Users that have less than 1 test interactions\n",
      "EvaluatorHoldout: Processed 35586 (100.0%) in 35.49 sec. Users per second: 1003\n",
      "Similarity column 38121 (100.0%), 2945.23 column/sec. Elapsed time 12.94 sec\n",
      "EvaluatorHoldout: Ignoring 167 ( 0.5%) Users that have less than 1 test interactions\n",
      "EvaluatorHoldout: Processed 35569 (100.0%) in 35.54 sec. Users per second: 1001\n",
      "Similarity column 38121 (100.0%), 2937.37 column/sec. Elapsed time 12.98 sec\n",
      "EvaluatorHoldout: Ignoring 172 ( 0.5%) Users that have less than 1 test interactions\n",
      "EvaluatorHoldout: Processed 35564 (100.0%) in 35.39 sec. Users per second: 1005\n"
     ]
    },
    {
     "name": "stderr",
     "output_type": "stream",
     "text": [
      "[I 2025-01-06 07:17:23,246] Trial 481 finished with value: 0.2295737646501374 and parameters: {'similarity': 'cosine', 'topK': 13, 'shrink': 376, 'feature_weighting': 'BM25'}. Best is trial 411 with value: 0.26030932919014205.\n"
     ]
    },
    {
     "name": "stdout",
     "output_type": "stream",
     "text": [
      "Similarity column 38121 (100.0%), 2948.99 column/sec. Elapsed time 12.93 sec\n",
      "EvaluatorHoldout: Ignoring 173 ( 0.5%) Users that have less than 1 test interactions\n",
      "EvaluatorHoldout: Processed 35563 (100.0%) in 37.48 sec. Users per second: 949\n",
      "Similarity column 38121 (100.0%), 2932.07 column/sec. Elapsed time 13.00 sec\n",
      "EvaluatorHoldout: Ignoring 163 ( 0.5%) Users that have less than 1 test interactions\n",
      "EvaluatorHoldout: Processed 35573 (100.0%) in 37.47 sec. Users per second: 949\n",
      "Similarity column 38121 (100.0%), 2934.44 column/sec. Elapsed time 12.99 sec\n",
      "EvaluatorHoldout: Ignoring 150 ( 0.4%) Users that have less than 1 test interactions\n",
      "EvaluatorHoldout: Processed 35586 (100.0%) in 37.47 sec. Users per second: 950\n",
      "Similarity column 38121 (100.0%), 2939.31 column/sec. Elapsed time 12.97 sec\n",
      "EvaluatorHoldout: Ignoring 167 ( 0.5%) Users that have less than 1 test interactions\n",
      "EvaluatorHoldout: Processed 35569 (100.0%) in 37.38 sec. Users per second: 952\n",
      "Similarity column 38121 (100.0%), 2918.90 column/sec. Elapsed time 13.06 sec\n",
      "EvaluatorHoldout: Ignoring 172 ( 0.5%) Users that have less than 1 test interactions\n",
      "EvaluatorHoldout: Processed 35564 (100.0%) in 37.69 sec. Users per second: 944\n"
     ]
    },
    {
     "name": "stderr",
     "output_type": "stream",
     "text": [
      "[I 2025-01-06 07:21:37,263] Trial 482 finished with value: 0.26024538958526555 and parameters: {'similarity': 'cosine', 'topK': 27, 'shrink': 401, 'feature_weighting': 'TF-IDF'}. Best is trial 411 with value: 0.26030932919014205.\n"
     ]
    },
    {
     "name": "stdout",
     "output_type": "stream",
     "text": [
      "Similarity column 38121 (100.0%), 2722.42 column/sec. Elapsed time 14.00 sec\n",
      "EvaluatorHoldout: Ignoring 173 ( 0.5%) Users that have less than 1 test interactions\n",
      "EvaluatorHoldout: Processed 35563 (100.0%) in 40.72 sec. Users per second: 873\n",
      "Similarity column 38121 (100.0%), 2711.50 column/sec. Elapsed time 14.06 sec\n",
      "EvaluatorHoldout: Ignoring 163 ( 0.5%) Users that have less than 1 test interactions\n",
      "EvaluatorHoldout: Processed 35573 (100.0%) in 40.85 sec. Users per second: 871\n",
      "Similarity column 38121 (100.0%), 2714.74 column/sec. Elapsed time 14.04 sec\n",
      "EvaluatorHoldout: Ignoring 150 ( 0.4%) Users that have less than 1 test interactions\n",
      "EvaluatorHoldout: Processed 35586 (100.0%) in 40.71 sec. Users per second: 874\n",
      "Similarity column 38121 (100.0%), 2684.47 column/sec. Elapsed time 14.20 sec\n",
      "EvaluatorHoldout: Ignoring 167 ( 0.5%) Users that have less than 1 test interactions\n",
      "EvaluatorHoldout: Processed 35569 (100.0%) in 40.89 sec. Users per second: 870\n",
      "Similarity column 38121 (100.0%), 2726.60 column/sec. Elapsed time 13.98 sec\n",
      "EvaluatorHoldout: Ignoring 172 ( 0.5%) Users that have less than 1 test interactions\n",
      "EvaluatorHoldout: Processed 35564 (100.0%) in 40.88 sec. Users per second: 870\n"
     ]
    },
    {
     "name": "stderr",
     "output_type": "stream",
     "text": [
      "[I 2025-01-06 07:26:14,268] Trial 483 finished with value: 0.2288159559506609 and parameters: {'similarity': 'tversky', 'topK': 54, 'shrink': 396, 'feature_weighting': 'TF-IDF', 'tversky_alpha': 0.7556217368655225, 'tversky_beta': 1.136254542519333}. Best is trial 411 with value: 0.26030932919014205.\n"
     ]
    },
    {
     "name": "stdout",
     "output_type": "stream",
     "text": [
      "Similarity column 38121 (100.0%), 2981.50 column/sec. Elapsed time 12.79 sec\n",
      "EvaluatorHoldout: Ignoring 173 ( 0.5%) Users that have less than 1 test interactions\n",
      "EvaluatorHoldout: Processed 35563 (100.0%) in 39.26 sec. Users per second: 906\n",
      "Similarity column 38121 (100.0%), 2956.10 column/sec. Elapsed time 12.90 sec\n",
      "EvaluatorHoldout: Ignoring 163 ( 0.5%) Users that have less than 1 test interactions\n",
      "EvaluatorHoldout: Processed 35573 (100.0%) in 39.31 sec. Users per second: 905\n",
      "Similarity column 38121 (100.0%), 2980.28 column/sec. Elapsed time 12.79 sec\n",
      "EvaluatorHoldout: Ignoring 150 ( 0.4%) Users that have less than 1 test interactions\n",
      "EvaluatorHoldout: Processed 35586 (100.0%) in 39.30 sec. Users per second: 906\n",
      "Similarity column 38121 (100.0%), 2980.49 column/sec. Elapsed time 12.79 sec\n",
      "EvaluatorHoldout: Ignoring 167 ( 0.5%) Users that have less than 1 test interactions\n",
      "EvaluatorHoldout: Processed 35569 (100.0%) in 39.18 sec. Users per second: 908\n",
      "Similarity column 38121 (100.0%), 2981.71 column/sec. Elapsed time 12.78 sec\n",
      "EvaluatorHoldout: Ignoring 172 ( 0.5%) Users that have less than 1 test interactions\n",
      "EvaluatorHoldout: Processed 35564 (100.0%) in 39.19 sec. Users per second: 907\n"
     ]
    },
    {
     "name": "stderr",
     "output_type": "stream",
     "text": [
      "[I 2025-01-06 07:30:36,999] Trial 484 finished with value: 0.23231146959485285 and parameters: {'similarity': 'jaccard', 'topK': 35, 'shrink': 330, 'feature_weighting': 'TF-IDF'}. Best is trial 411 with value: 0.26030932919014205.\n"
     ]
    },
    {
     "name": "stdout",
     "output_type": "stream",
     "text": [
      "Similarity column 38121 (100.0%), 3776.56 column/sec. Elapsed time 10.09 sec\n",
      "EvaluatorHoldout: Ignoring 173 ( 0.5%) Users that have less than 1 test interactions\n",
      "EvaluatorHoldout: Processed 35563 (100.0%) in 27.63 sec. Users per second: 1287\n",
      "Similarity column 38121 (100.0%), 3780.31 column/sec. Elapsed time 10.08 sec\n",
      "EvaluatorHoldout: Ignoring 163 ( 0.5%) Users that have less than 1 test interactions\n",
      "EvaluatorHoldout: Processed 35573 (100.0%) in 27.92 sec. Users per second: 1274\n",
      "Similarity column 38121 (100.0%), 3762.58 column/sec. Elapsed time 10.13 sec\n",
      "EvaluatorHoldout: Ignoring 150 ( 0.4%) Users that have less than 1 test interactions\n",
      "EvaluatorHoldout: Processed 35586 (100.0%) in 27.80 sec. Users per second: 1280\n",
      "Similarity column 38121 (100.0%), 3749.81 column/sec. Elapsed time 10.17 sec\n",
      "EvaluatorHoldout: Ignoring 167 ( 0.5%) Users that have less than 1 test interactions\n",
      "EvaluatorHoldout: Processed 35569 (100.0%) in 27.73 sec. Users per second: 1283\n",
      "Similarity column 38121 (100.0%), 3783.72 column/sec. Elapsed time 10.08 sec\n",
      "EvaluatorHoldout: Ignoring 172 ( 0.5%) Users that have less than 1 test interactions\n",
      "EvaluatorHoldout: Processed 35564 (100.0%) in 27.84 sec. Users per second: 1277\n"
     ]
    },
    {
     "name": "stderr",
     "output_type": "stream",
     "text": [
      "[I 2025-01-06 07:33:47,873] Trial 485 finished with value: 0.0055265346604531345 and parameters: {'similarity': 'cosine', 'topK': 0, 'shrink': 367, 'feature_weighting': 'TF-IDF'}. Best is trial 411 with value: 0.26030932919014205.\n"
     ]
    },
    {
     "name": "stdout",
     "output_type": "stream",
     "text": [
      "Similarity column 38121 (100.0%), 2905.36 column/sec. Elapsed time 13.12 sec\n",
      "EvaluatorHoldout: Ignoring 173 ( 0.5%) Users that have less than 1 test interactions\n",
      "EvaluatorHoldout: Processed 35563 (100.0%) in 48.54 sec. Users per second: 733\n",
      "Similarity column 38121 (100.0%), 2882.58 column/sec. Elapsed time 13.22 sec\n",
      "EvaluatorHoldout: Ignoring 163 ( 0.5%) Users that have less than 1 test interactions\n",
      "EvaluatorHoldout: Processed 35573 (100.0%) in 48.54 sec. Users per second: 733\n",
      "Similarity column 38121 (100.0%), 2891.23 column/sec. Elapsed time 13.19 sec\n",
      "EvaluatorHoldout: Ignoring 150 ( 0.4%) Users that have less than 1 test interactions\n",
      "EvaluatorHoldout: Processed 35586 (100.0%) in 48.59 sec. Users per second: 732\n",
      "Similarity column 38121 (100.0%), 2897.36 column/sec. Elapsed time 13.16 sec\n",
      "EvaluatorHoldout: Ignoring 167 ( 0.5%) Users that have less than 1 test interactions\n",
      "EvaluatorHoldout: Processed 35569 (100.0%) in 48.45 sec. Users per second: 734\n",
      "Similarity column 38121 (100.0%), 2885.56 column/sec. Elapsed time 13.21 sec\n",
      "EvaluatorHoldout: Ignoring 172 ( 0.5%) Users that have less than 1 test interactions\n",
      "EvaluatorHoldout: Processed 35564 (100.0%) in 48.49 sec. Users per second: 734\n"
     ]
    },
    {
     "name": "stderr",
     "output_type": "stream",
     "text": [
      "[I 2025-01-06 07:38:58,237] Trial 486 finished with value: 0.1085759834687818 and parameters: {'similarity': 'asymmetric', 'topK': 70, 'shrink': 344, 'feature_weighting': 'TF-IDF', 'asymmetric_alpha': 1.9961747785101334}. Best is trial 411 with value: 0.26030932919014205.\n"
     ]
    },
    {
     "name": "stdout",
     "output_type": "stream",
     "text": [
      "Similarity column 38121 (100.0%), 2916.95 column/sec. Elapsed time 13.07 sec\n",
      "EvaluatorHoldout: Ignoring 173 ( 0.5%) Users that have less than 1 test interactions\n",
      "EvaluatorHoldout: Processed 35563 (100.0%) in 37.38 sec. Users per second: 951\n",
      "Similarity column 38121 (100.0%), 2913.58 column/sec. Elapsed time 13.08 sec\n",
      "EvaluatorHoldout: Ignoring 163 ( 0.5%) Users that have less than 1 test interactions\n",
      "EvaluatorHoldout: Processed 35573 (100.0%) in 37.31 sec. Users per second: 953\n",
      "Similarity column 38121 (100.0%), 2937.28 column/sec. Elapsed time 12.98 sec\n",
      "EvaluatorHoldout: Ignoring 150 ( 0.4%) Users that have less than 1 test interactions\n",
      "EvaluatorHoldout: Processed 35586 (100.0%) in 37.21 sec. Users per second: 956\n",
      "Similarity column 38121 (100.0%), 2905.05 column/sec. Elapsed time 13.12 sec\n",
      "EvaluatorHoldout: Ignoring 167 ( 0.5%) Users that have less than 1 test interactions\n",
      "EvaluatorHoldout: Processed 35569 (100.0%) in 37.34 sec. Users per second: 953\n",
      "Similarity column 38121 (100.0%), 2928.90 column/sec. Elapsed time 13.02 sec\n",
      "EvaluatorHoldout: Ignoring 172 ( 0.5%) Users that have less than 1 test interactions\n",
      "EvaluatorHoldout: Processed 35564 (100.0%) in 37.53 sec. Users per second: 948\n"
     ]
    },
    {
     "name": "stderr",
     "output_type": "stream",
     "text": [
      "[I 2025-01-06 07:43:11,847] Trial 487 finished with value: 0.260172108804372 and parameters: {'similarity': 'cosine', 'topK': 25, 'shrink': 398, 'feature_weighting': 'TF-IDF'}. Best is trial 411 with value: 0.26030932919014205.\n"
     ]
    },
    {
     "name": "stdout",
     "output_type": "stream",
     "text": [
      "Similarity column 38121 (100.0%), 2918.85 column/sec. Elapsed time 13.06 sec\n",
      "EvaluatorHoldout: Ignoring 173 ( 0.5%) Users that have less than 1 test interactions\n",
      "EvaluatorHoldout: Processed 35563 (100.0%) in 38.73 sec. Users per second: 918\n",
      "Similarity column 38121 (100.0%), 2896.02 column/sec. Elapsed time 13.16 sec\n",
      "EvaluatorHoldout: Ignoring 163 ( 0.5%) Users that have less than 1 test interactions\n",
      "EvaluatorHoldout: Processed 35573 (100.0%) in 38.71 sec. Users per second: 919\n",
      "Similarity column 38121 (100.0%), 2919.64 column/sec. Elapsed time 13.06 sec\n",
      "EvaluatorHoldout: Ignoring 150 ( 0.4%) Users that have less than 1 test interactions\n",
      "EvaluatorHoldout: Processed 35586 (100.0%) in 38.70 sec. Users per second: 919\n",
      "Similarity column 38121 (100.0%), 2895.31 column/sec. Elapsed time 13.17 sec\n",
      "EvaluatorHoldout: Ignoring 167 ( 0.5%) Users that have less than 1 test interactions\n",
      "EvaluatorHoldout: Processed 35569 (100.0%) in 38.71 sec. Users per second: 919\n",
      "Similarity column 38121 (100.0%), 2887.66 column/sec. Elapsed time 13.20 sec\n",
      "EvaluatorHoldout: Ignoring 172 ( 0.5%) Users that have less than 1 test interactions\n",
      "EvaluatorHoldout: Processed 35564 (100.0%) in 38.81 sec. Users per second: 916\n"
     ]
    },
    {
     "name": "stderr",
     "output_type": "stream",
     "text": [
      "[I 2025-01-06 07:47:32,923] Trial 488 finished with value: 0.25882429419848485 and parameters: {'similarity': 'cosine', 'topK': 47, 'shrink': 205, 'feature_weighting': 'TF-IDF'}. Best is trial 411 with value: 0.26030932919014205.\n"
     ]
    },
    {
     "name": "stdout",
     "output_type": "stream",
     "text": [
      "Similarity column 38121 (100.0%), 2925.99 column/sec. Elapsed time 13.03 sec\n",
      "EvaluatorHoldout: Ignoring 173 ( 0.5%) Users that have less than 1 test interactions\n",
      "EvaluatorHoldout: Processed 35563 (100.0%) in 36.00 sec. Users per second: 988\n",
      "Similarity column 38121 (100.0%), 2906.57 column/sec. Elapsed time 13.12 sec\n",
      "EvaluatorHoldout: Ignoring 163 ( 0.5%) Users that have less than 1 test interactions\n",
      "EvaluatorHoldout: Processed 35573 (100.0%) in 36.40 sec. Users per second: 977\n",
      "Similarity column 38121 (100.0%), 2922.93 column/sec. Elapsed time 13.04 sec\n",
      "EvaluatorHoldout: Ignoring 150 ( 0.4%) Users that have less than 1 test interactions\n",
      "EvaluatorHoldout: Processed 35586 (100.0%) in 36.33 sec. Users per second: 980\n",
      "Similarity column 38121 (100.0%), 2869.80 column/sec. Elapsed time 13.28 sec\n",
      "EvaluatorHoldout: Ignoring 167 ( 0.5%) Users that have less than 1 test interactions\n",
      "EvaluatorHoldout: Processed 35569 (100.0%) in 36.66 sec. Users per second: 970\n",
      "Similarity column 38121 (100.0%), 2919.61 column/sec. Elapsed time 13.06 sec\n",
      "EvaluatorHoldout: Ignoring 172 ( 0.5%) Users that have less than 1 test interactions\n",
      "EvaluatorHoldout: Processed 35564 (100.0%) in 36.40 sec. Users per second: 977\n"
     ]
    },
    {
     "name": "stderr",
     "output_type": "stream",
     "text": [
      "[I 2025-01-06 07:51:41,812] Trial 489 finished with value: 0.2597104101892449 and parameters: {'similarity': 'cosine', 'topK': 14, 'shrink': 539, 'feature_weighting': 'TF-IDF'}. Best is trial 411 with value: 0.26030932919014205.\n"
     ]
    },
    {
     "name": "stdout",
     "output_type": "stream",
     "text": [
      "Similarity column 38121 (100.0%), 2907.22 column/sec. Elapsed time 13.11 sec\n",
      "EvaluatorHoldout: Ignoring 173 ( 0.5%) Users that have less than 1 test interactions\n",
      "EvaluatorHoldout: Processed 35563 (100.0%) in 38.18 sec. Users per second: 932\n",
      "Similarity column 38121 (100.0%), 2883.51 column/sec. Elapsed time 13.22 sec\n",
      "EvaluatorHoldout: Ignoring 163 ( 0.5%) Users that have less than 1 test interactions\n",
      "EvaluatorHoldout: Processed 35573 (100.0%) in 38.40 sec. Users per second: 926\n",
      "Similarity column 38121 (100.0%), 2921.36 column/sec. Elapsed time 13.05 sec\n",
      "EvaluatorHoldout: Ignoring 150 ( 0.4%) Users that have less than 1 test interactions\n",
      "EvaluatorHoldout: Processed 35586 (100.0%) in 38.83 sec. Users per second: 916\n",
      "Similarity column 38121 (100.0%), 2907.50 column/sec. Elapsed time 13.11 sec\n",
      "EvaluatorHoldout: Ignoring 167 ( 0.5%) Users that have less than 1 test interactions\n",
      "EvaluatorHoldout: Processed 35569 (100.0%) in 38.65 sec. Users per second: 920\n",
      "Similarity column 38121 (100.0%), 2911.87 column/sec. Elapsed time 13.09 sec\n",
      "EvaluatorHoldout: Ignoring 172 ( 0.5%) Users that have less than 1 test interactions\n",
      "EvaluatorHoldout: Processed 35564 (100.0%) in 38.44 sec. Users per second: 925\n"
     ]
    },
    {
     "name": "stderr",
     "output_type": "stream",
     "text": [
      "[I 2025-01-06 07:56:01,571] Trial 490 finished with value: 0.2597756264281478 and parameters: {'similarity': 'cosine', 'topK': 35, 'shrink': 380, 'feature_weighting': 'TF-IDF'}. Best is trial 411 with value: 0.26030932919014205.\n"
     ]
    },
    {
     "name": "stdout",
     "output_type": "stream",
     "text": [
      "Similarity column 38121 (100.0%), 527.50 column/sec. Elapsed time 1.20 min\n",
      "EvaluatorHoldout: Ignoring 173 ( 0.5%) Users that have less than 1 test interactions\n",
      "EvaluatorHoldout: Processed 35563 (100.0%) in 30.64 sec. Users per second: 1161\n",
      "Similarity column 38121 (100.0%), 498.92 column/sec. Elapsed time 1.27 min\n",
      "EvaluatorHoldout: Ignoring 163 ( 0.5%) Users that have less than 1 test interactions\n",
      "EvaluatorHoldout: Processed 35573 (100.0%) in 30.53 sec. Users per second: 1165\n",
      "Similarity column 38121 (100.0%), 533.84 column/sec. Elapsed time 1.19 min\n",
      "EvaluatorHoldout: Ignoring 150 ( 0.4%) Users that have less than 1 test interactions\n",
      "EvaluatorHoldout: Processed 35586 (100.0%) in 30.40 sec. Users per second: 1170\n",
      "Similarity column 38121 (100.0%), 534.02 column/sec. Elapsed time 1.19 min\n",
      "EvaluatorHoldout: Ignoring 167 ( 0.5%) Users that have less than 1 test interactions\n",
      "EvaluatorHoldout: Processed 35569 (100.0%) in 30.40 sec. Users per second: 1170\n",
      "Similarity column 38121 (100.0%), 525.76 column/sec. Elapsed time 1.21 min\n",
      "EvaluatorHoldout: Ignoring 172 ( 0.5%) Users that have less than 1 test interactions\n",
      "EvaluatorHoldout: Processed 35564 (100.0%) in 30.21 sec. Users per second: 1177\n"
     ]
    },
    {
     "name": "stderr",
     "output_type": "stream",
     "text": [
      "[I 2025-01-06 08:04:38,988] Trial 491 finished with value: 0.0869794028164759 and parameters: {'similarity': 'euclidean', 'topK': 21, 'shrink': 420, 'feature_weighting': 'TF-IDF', 'normalize_avg_row': True, 'similarity_from_distance_mode': 'lin', 'normalize': False}. Best is trial 411 with value: 0.26030932919014205.\n"
     ]
    },
    {
     "name": "stdout",
     "output_type": "stream",
     "text": [
      "Similarity column 38121 (100.0%), 2932.68 column/sec. Elapsed time 13.00 sec\n",
      "EvaluatorHoldout: Ignoring 173 ( 0.5%) Users that have less than 1 test interactions\n",
      "EvaluatorHoldout: Processed 35563 (100.0%) in 38.59 sec. Users per second: 922\n",
      "Similarity column 38121 (100.0%), 2899.10 column/sec. Elapsed time 13.15 sec\n",
      "EvaluatorHoldout: Ignoring 163 ( 0.5%) Users that have less than 1 test interactions\n",
      "EvaluatorHoldout: Processed 35573 (100.0%) in 38.94 sec. Users per second: 913\n",
      "Similarity column 38121 (100.0%), 2894.21 column/sec. Elapsed time 13.17 sec\n",
      "EvaluatorHoldout: Ignoring 150 ( 0.4%) Users that have less than 1 test interactions\n",
      "EvaluatorHoldout: Processed 35586 (100.0%) in 38.67 sec. Users per second: 920\n",
      "Similarity column 38121 (100.0%), 2897.54 column/sec. Elapsed time 13.16 sec\n",
      "EvaluatorHoldout: Ignoring 167 ( 0.5%) Users that have less than 1 test interactions\n",
      "EvaluatorHoldout: Processed 35569 (100.0%) in 38.88 sec. Users per second: 915\n",
      "Similarity column 38121 (100.0%), 2902.09 column/sec. Elapsed time 13.14 sec\n",
      "EvaluatorHoldout: Ignoring 172 ( 0.5%) Users that have less than 1 test interactions\n",
      "EvaluatorHoldout: Processed 35564 (100.0%) in 38.81 sec. Users per second: 916\n"
     ]
    },
    {
     "name": "stderr",
     "output_type": "stream",
     "text": [
      "[I 2025-01-06 08:09:00,267] Trial 492 finished with value: 0.2591295629637894 and parameters: {'similarity': 'cosine', 'topK': 45, 'shrink': 310, 'feature_weighting': 'TF-IDF'}. Best is trial 411 with value: 0.26030932919014205.\n"
     ]
    },
    {
     "name": "stdout",
     "output_type": "stream",
     "text": [
      "Similarity column 38121 (100.0%), 3011.06 column/sec. Elapsed time 12.66 sec\n",
      "EvaluatorHoldout: Ignoring 173 ( 0.5%) Users that have less than 1 test interactions\n",
      "EvaluatorHoldout: Processed 35563 (100.0%) in 38.41 sec. Users per second: 926\n",
      "Similarity column 38121 (100.0%), 3033.58 column/sec. Elapsed time 12.57 sec\n",
      "EvaluatorHoldout: Ignoring 163 ( 0.5%) Users that have less than 1 test interactions\n",
      "EvaluatorHoldout: Processed 35573 (100.0%) in 38.48 sec. Users per second: 925\n",
      "Similarity column 38121 (100.0%), 3025.00 column/sec. Elapsed time 12.60 sec\n",
      "EvaluatorHoldout: Ignoring 150 ( 0.4%) Users that have less than 1 test interactions\n",
      "EvaluatorHoldout: Processed 35586 (100.0%) in 38.52 sec. Users per second: 924\n",
      "Similarity column 38121 (100.0%), 3039.77 column/sec. Elapsed time 12.54 sec\n",
      "EvaluatorHoldout: Ignoring 167 ( 0.5%) Users that have less than 1 test interactions\n",
      "EvaluatorHoldout: Processed 35569 (100.0%) in 38.45 sec. Users per second: 925\n",
      "Similarity column 38121 (100.0%), 3024.07 column/sec. Elapsed time 12.61 sec\n",
      "EvaluatorHoldout: Ignoring 172 ( 0.5%) Users that have less than 1 test interactions\n",
      "EvaluatorHoldout: Processed 35564 (100.0%) in 38.46 sec. Users per second: 925\n"
     ]
    },
    {
     "name": "stderr",
     "output_type": "stream",
     "text": [
      "[I 2025-01-06 08:13:17,988] Trial 493 finished with value: 0.23165514271750293 and parameters: {'similarity': 'dice', 'topK': 24, 'shrink': 370, 'feature_weighting': 'TF-IDF'}. Best is trial 411 with value: 0.26030932919014205.\n"
     ]
    },
    {
     "name": "stdout",
     "output_type": "stream",
     "text": [
      "Similarity column 38121 (100.0%), 3712.20 column/sec. Elapsed time 10.27 sec\n",
      "EvaluatorHoldout: Ignoring 173 ( 0.5%) Users that have less than 1 test interactions\n",
      "EvaluatorHoldout: Processed 35563 (100.0%) in 27.67 sec. Users per second: 1285\n",
      "Similarity column 38121 (100.0%), 3709.22 column/sec. Elapsed time 10.28 sec\n",
      "EvaluatorHoldout: Ignoring 163 ( 0.5%) Users that have less than 1 test interactions\n",
      "EvaluatorHoldout: Processed 35573 (100.0%) in 27.84 sec. Users per second: 1278\n",
      "Similarity column 38121 (100.0%), 3754.59 column/sec. Elapsed time 10.15 sec\n",
      "EvaluatorHoldout: Ignoring 150 ( 0.4%) Users that have less than 1 test interactions\n",
      "EvaluatorHoldout: Processed 35586 (100.0%) in 27.86 sec. Users per second: 1277\n",
      "Similarity column 38121 (100.0%), 3758.34 column/sec. Elapsed time 10.14 sec\n",
      "EvaluatorHoldout: Ignoring 167 ( 0.5%) Users that have less than 1 test interactions\n",
      "EvaluatorHoldout: Processed 35569 (100.0%) in 27.96 sec. Users per second: 1272\n",
      "Similarity column 38121 (100.0%), 3776.21 column/sec. Elapsed time 10.10 sec\n",
      "EvaluatorHoldout: Ignoring 172 ( 0.5%) Users that have less than 1 test interactions\n",
      "EvaluatorHoldout: Processed 35564 (100.0%) in 27.83 sec. Users per second: 1278\n"
     ]
    },
    {
     "name": "stderr",
     "output_type": "stream",
     "text": [
      "[I 2025-01-06 08:16:29,451] Trial 494 finished with value: 0.0055265346604531345 and parameters: {'similarity': 'cosine', 'topK': 0, 'shrink': 399, 'feature_weighting': 'TF-IDF'}. Best is trial 411 with value: 0.26030932919014205.\n"
     ]
    },
    {
     "name": "stdout",
     "output_type": "stream",
     "text": [
      "Similarity column 38121 (100.0%), 2896.93 column/sec. Elapsed time 13.16 sec\n",
      "EvaluatorHoldout: Ignoring 173 ( 0.5%) Users that have less than 1 test interactions\n",
      "EvaluatorHoldout: Processed 35563 (100.0%) in 39.76 sec. Users per second: 895\n",
      "Similarity column 38121 (100.0%), 2888.91 column/sec. Elapsed time 13.20 sec\n",
      "EvaluatorHoldout: Ignoring 163 ( 0.5%) Users that have less than 1 test interactions\n",
      "EvaluatorHoldout: Processed 35573 (100.0%) in 39.75 sec. Users per second: 895\n",
      "Similarity column 38121 (100.0%), 2913.53 column/sec. Elapsed time 13.08 sec\n",
      "EvaluatorHoldout: Ignoring 150 ( 0.4%) Users that have less than 1 test interactions\n",
      "EvaluatorHoldout: Processed 35586 (100.0%) in 39.54 sec. Users per second: 900\n",
      "Similarity column 38121 (100.0%), 2874.05 column/sec. Elapsed time 13.26 sec\n",
      "EvaluatorHoldout: Ignoring 167 ( 0.5%) Users that have less than 1 test interactions\n",
      "EvaluatorHoldout: Processed 35569 (100.0%) in 39.50 sec. Users per second: 900\n",
      "Similarity column 38121 (100.0%), 2892.36 column/sec. Elapsed time 13.18 sec\n",
      "EvaluatorHoldout: Ignoring 172 ( 0.5%) Users that have less than 1 test interactions\n",
      "EvaluatorHoldout: Processed 35564 (100.0%) in 39.71 sec. Users per second: 896\n"
     ]
    },
    {
     "name": "stderr",
     "output_type": "stream",
     "text": [
      "[I 2025-01-06 08:20:55,473] Trial 495 finished with value: 0.2581727935225413 and parameters: {'similarity': 'cosine', 'topK': 60, 'shrink': 355, 'feature_weighting': 'TF-IDF'}. Best is trial 411 with value: 0.26030932919014205.\n"
     ]
    },
    {
     "name": "stdout",
     "output_type": "stream",
     "text": [
      "Similarity column 38121 (100.0%), 2822.87 column/sec. Elapsed time 13.50 sec\n",
      "EvaluatorHoldout: Ignoring 173 ( 0.5%) Users that have less than 1 test interactions\n",
      "EvaluatorHoldout: Processed 35563 (100.0%) in 48.81 sec. Users per second: 729\n",
      "Similarity column 38121 (100.0%), 2816.15 column/sec. Elapsed time 13.54 sec\n",
      "EvaluatorHoldout: Ignoring 163 ( 0.5%) Users that have less than 1 test interactions\n",
      "EvaluatorHoldout: Processed 35573 (100.0%) in 48.81 sec. Users per second: 729\n",
      "Similarity column 38121 (100.0%), 2805.28 column/sec. Elapsed time 13.59 sec\n",
      "EvaluatorHoldout: Ignoring 150 ( 0.4%) Users that have less than 1 test interactions\n",
      "EvaluatorHoldout: Processed 35586 (100.0%) in 48.69 sec. Users per second: 731\n",
      "Similarity column 38121 (100.0%), 2808.59 column/sec. Elapsed time 13.57 sec\n",
      "EvaluatorHoldout: Ignoring 167 ( 0.5%) Users that have less than 1 test interactions\n",
      "EvaluatorHoldout: Processed 35569 (100.0%) in 48.85 sec. Users per second: 728\n",
      "Similarity column 38121 (100.0%), 2811.07 column/sec. Elapsed time 13.56 sec\n",
      "EvaluatorHoldout: Ignoring 172 ( 0.5%) Users that have less than 1 test interactions\n",
      "EvaluatorHoldout: Processed 35564 (100.0%) in 48.91 sec. Users per second: 727\n"
     ]
    },
    {
     "name": "stderr",
     "output_type": "stream",
     "text": [
      "[I 2025-01-06 08:26:11,200] Trial 496 finished with value: 0.25159807661144884 and parameters: {'similarity': 'cosine', 'topK': 326, 'shrink': 428, 'feature_weighting': 'TF-IDF'}. Best is trial 411 with value: 0.26030932919014205.\n"
     ]
    },
    {
     "name": "stdout",
     "output_type": "stream",
     "text": [
      "Similarity column 38121 (100.0%), 2900.05 column/sec. Elapsed time 13.14 sec\n",
      "EvaluatorHoldout: Ignoring 173 ( 0.5%) Users that have less than 1 test interactions\n",
      "EvaluatorHoldout: Processed 35563 (100.0%) in 36.14 sec. Users per second: 984\n",
      "Similarity column 38121 (100.0%), 2913.85 column/sec. Elapsed time 13.08 sec\n",
      "EvaluatorHoldout: Ignoring 163 ( 0.5%) Users that have less than 1 test interactions\n",
      "EvaluatorHoldout: Processed 35573 (100.0%) in 36.11 sec. Users per second: 985\n",
      "Similarity column 38121 (100.0%), 2951.93 column/sec. Elapsed time 12.91 sec\n",
      "EvaluatorHoldout: Ignoring 150 ( 0.4%) Users that have less than 1 test interactions\n",
      "EvaluatorHoldout: Processed 35586 (100.0%) in 36.11 sec. Users per second: 986\n",
      "Similarity column 38121 (100.0%), 2950.20 column/sec. Elapsed time 12.92 sec\n",
      "EvaluatorHoldout: Ignoring 167 ( 0.5%) Users that have less than 1 test interactions\n",
      "EvaluatorHoldout: Processed 35569 (100.0%) in 36.31 sec. Users per second: 980\n",
      "Similarity column 38121 (100.0%), 2945.21 column/sec. Elapsed time 12.94 sec\n",
      "EvaluatorHoldout: Ignoring 172 ( 0.5%) Users that have less than 1 test interactions\n",
      "EvaluatorHoldout: Processed 35564 (100.0%) in 36.04 sec. Users per second: 987\n"
     ]
    },
    {
     "name": "stderr",
     "output_type": "stream",
     "text": [
      "[I 2025-01-06 08:30:18,437] Trial 497 finished with value: 0.25952463494336436 and parameters: {'similarity': 'cosine', 'topK': 13, 'shrink': 519, 'feature_weighting': 'TF-IDF'}. Best is trial 411 with value: 0.26030932919014205.\n"
     ]
    },
    {
     "name": "stdout",
     "output_type": "stream",
     "text": [
      "Similarity column 38121 (100.0%), 2899.94 column/sec. Elapsed time 13.15 sec\n",
      "EvaluatorHoldout: Ignoring 173 ( 0.5%) Users that have less than 1 test interactions\n",
      "EvaluatorHoldout: Processed 35563 (100.0%) in 38.23 sec. Users per second: 930\n",
      "Similarity column 38121 (100.0%), 2926.89 column/sec. Elapsed time 13.02 sec\n",
      "EvaluatorHoldout: Ignoring 163 ( 0.5%) Users that have less than 1 test interactions\n",
      "EvaluatorHoldout: Processed 35573 (100.0%) in 38.32 sec. Users per second: 928\n",
      "Similarity column 38121 (100.0%), 2914.33 column/sec. Elapsed time 13.08 sec\n",
      "EvaluatorHoldout: Ignoring 150 ( 0.4%) Users that have less than 1 test interactions\n",
      "EvaluatorHoldout: Processed 35586 (100.0%) in 38.21 sec. Users per second: 931\n",
      "Similarity column 38121 (100.0%), 2915.99 column/sec. Elapsed time 13.07 sec\n",
      "EvaluatorHoldout: Ignoring 167 ( 0.5%) Users that have less than 1 test interactions\n",
      "EvaluatorHoldout: Processed 35569 (100.0%) in 38.44 sec. Users per second: 925\n",
      "Similarity column 38121 (100.0%), 2942.27 column/sec. Elapsed time 12.96 sec\n",
      "EvaluatorHoldout: Ignoring 172 ( 0.5%) Users that have less than 1 test interactions\n",
      "EvaluatorHoldout: Processed 35564 (100.0%) in 38.10 sec. Users per second: 933\n"
     ]
    },
    {
     "name": "stderr",
     "output_type": "stream",
     "text": [
      "[I 2025-01-06 08:34:36,680] Trial 498 finished with value: 0.2597784926295728 and parameters: {'similarity': 'cosine', 'topK': 35, 'shrink': 382, 'feature_weighting': 'TF-IDF'}. Best is trial 411 with value: 0.26030932919014205.\n"
     ]
    },
    {
     "name": "stdout",
     "output_type": "stream",
     "text": [
      "Similarity column 38121 (100.0%), 2873.33 column/sec. Elapsed time 13.27 sec\n",
      "EvaluatorHoldout: Ignoring 173 ( 0.5%) Users that have less than 1 test interactions\n",
      "EvaluatorHoldout: Processed 35563 (100.0%) in 39.65 sec. Users per second: 897\n",
      "Similarity column 38121 (100.0%), 2891.67 column/sec. Elapsed time 13.18 sec\n",
      "EvaluatorHoldout: Ignoring 163 ( 0.5%) Users that have less than 1 test interactions\n",
      "EvaluatorHoldout: Processed 35573 (100.0%) in 39.70 sec. Users per second: 896\n",
      "Similarity column 38121 (100.0%), 2887.00 column/sec. Elapsed time 13.20 sec\n",
      "EvaluatorHoldout: Ignoring 150 ( 0.4%) Users that have less than 1 test interactions\n",
      "EvaluatorHoldout: Processed 35586 (100.0%) in 39.53 sec. Users per second: 900\n",
      "Similarity column 38121 (100.0%), 2861.55 column/sec. Elapsed time 13.32 sec\n",
      "EvaluatorHoldout: Ignoring 167 ( 0.5%) Users that have less than 1 test interactions\n",
      "EvaluatorHoldout: Processed 35569 (100.0%) in 39.63 sec. Users per second: 898\n",
      "Similarity column 38121 (100.0%), 2887.46 column/sec. Elapsed time 13.20 sec\n",
      "EvaluatorHoldout: Ignoring 172 ( 0.5%) Users that have less than 1 test interactions\n",
      "EvaluatorHoldout: Processed 35564 (100.0%) in 39.91 sec. Users per second: 891\n"
     ]
    },
    {
     "name": "stderr",
     "output_type": "stream",
     "text": [
      "[I 2025-01-06 08:39:02,398] Trial 499 finished with value: 0.21936910173109378 and parameters: {'similarity': 'cosine', 'topK': 25, 'shrink': 417, 'feature_weighting': 'none'}. Best is trial 411 with value: 0.26030932919014205.\n"
     ]
    }
   ],
   "source": [
    "if config['tune_parameters']:\n",
    "    \n",
    "    optuna_study = optuna.create_study(direction='maximize', study_name=f'hyperparameters_tuning_{config[\"model\"]}_{config[\"metric\"]}',\n",
    "                                storage=f'sqlite:///{config[\"database_path\"]}', load_if_exists=True)\n",
    "\n",
    "    optuna_study.optimize(objective_function_ItemKNNCF, n_trials=150)"
   ]
  },
  {
   "cell_type": "markdown",
   "id": "328f8a3d",
   "metadata": {
    "papermill": {
     "duration": 0.145298,
     "end_time": "2025-01-06T08:39:02.801220",
     "exception": false,
     "start_time": "2025-01-06T08:39:02.655922",
     "status": "completed"
    },
    "tags": []
   },
   "source": [
    "## Some optuna visualizations on recommender parameters"
   ]
  },
  {
   "cell_type": "code",
   "execution_count": 14,
   "id": "cbe66809",
   "metadata": {
    "execution": {
     "iopub.execute_input": "2025-01-06T08:39:03.097714Z",
     "iopub.status.busy": "2025-01-06T08:39:03.097107Z",
     "iopub.status.idle": "2025-01-06T08:39:05.614709Z",
     "shell.execute_reply": "2025-01-06T08:39:05.613235Z"
    },
    "papermill": {
     "duration": 2.668009,
     "end_time": "2025-01-06T08:39:05.616912",
     "exception": false,
     "start_time": "2025-01-06T08:39:02.948903",
     "status": "completed"
    },
    "tags": []
   },
   "outputs": [
    {
     "data": {
      "text/html": [
       "<html>\n",
       "<head><meta charset=\"utf-8\" /></head>\n",
       "<body>\n",
       "    <div>            <script src=\"https://cdnjs.cloudflare.com/ajax/libs/mathjax/2.7.5/MathJax.js?config=TeX-AMS-MML_SVG\"></script><script type=\"text/javascript\">if (window.MathJax && window.MathJax.Hub && window.MathJax.Hub.Config) {window.MathJax.Hub.Config({SVG: {font: \"STIX-Web\"}});}</script>                <script type=\"text/javascript\">window.PlotlyConfig = {MathJaxConfig: 'local'};</script>\n",
       "        <script charset=\"utf-8\" src=\"https://cdn.plot.ly/plotly-2.35.2.min.js\"></script>                <div id=\"f1be75bd-c830-4402-9bff-7616140787d2\" class=\"plotly-graph-div\" style=\"height:525px; width:3000px;\"></div>            <script type=\"text/javascript\">                                    window.PLOTLYENV=window.PLOTLYENV || {};                                    if (document.getElementById(\"f1be75bd-c830-4402-9bff-7616140787d2\")) {                    Plotly.newPlot(                        \"f1be75bd-c830-4402-9bff-7616140787d2\",                        [{\"marker\":{\"color\":[11,12,13,15,58,69,125,147,179,225,261,291,315,343,370,400,428,459,486],\"colorbar\":{\"title\":{\"text\":\"Trial\"},\"x\":1.0,\"xpad\":40},\"colorscale\":[[0.0,\"rgb(247,251,255)\"],[0.125,\"rgb(222,235,247)\"],[0.25,\"rgb(198,219,239)\"],[0.375,\"rgb(158,202,225)\"],[0.5,\"rgb(107,174,214)\"],[0.625,\"rgb(66,146,198)\"],[0.75,\"rgb(33,113,181)\"],[0.875,\"rgb(8,81,156)\"],[1.0,\"rgb(8,48,107)\"]],\"line\":{\"color\":\"Grey\",\"width\":0.5},\"showscale\":true},\"mode\":\"markers\",\"name\":\"Feasible Trial\",\"showlegend\":false,\"x\":[1.2490635108547936,1.3868304130249864,0.3701974185047463,0.1919926740021835,1.9440672726861656,0.7279585933348233,1.8146837907296933,0.7035169215085025,0.03743022873650981,1.4703278120207952,0.9190069335301394,0.4557390090161506,1.6630971112588246,1.093984249246522,1.5816052830191913,0.6278948142291736,0.9453549215342106,0.004296377956370501,1.9961747785101334],\"y\":[0.2304573118495677,0.17144150147345222,0.2320857319855421,0.23171090388175025,0.054672355535981446,0.22608833450679114,0.124809511033937,0.24438533737019758,0.24964093523736391,0.12081679500471895,0.20937287642597688,0.24902297133649398,0.0055265346604531345,0.22890498543350976,0.12423199534280256,0.25161241253935335,0.2077995646213308,0.2580493632401571,0.1085759834687818],\"type\":\"scatter\",\"xaxis\":\"x\",\"yaxis\":\"y\"},{\"marker\":{\"color\":[0,1,2,3,4,5,6,7,8,9,10,11,12,13,14,15,16,17,18,19,20,21,22,23,24,25,26,27,28,29,30,31,32,33,34,35,36,37,38,39,40,41,42,43,44,45,46,47,48,49,50,51,52,53,54,55,56,57,58,59,60,61,62,63,64,65,66,67,68,69,70,71,72,73,74,75,76,77,78,79,80,81,82,83,84,85,86,87,88,89,90,91,92,93,94,95,96,97,98,99,100,101,102,103,104,105,106,107,108,109,110,111,112,113,114,115,116,117,118,119,120,121,122,123,124,125,126,127,128,129,130,131,132,133,134,135,136,137,138,139,140,141,142,143,144,145,146,147,148,149,150,151,152,153,154,155,156,157,158,159,160,161,162,163,164,165,166,167,168,169,170,171,172,173,174,175,176,177,178,179,180,181,182,183,184,185,186,187,188,189,190,191,192,193,194,195,196,197,198,199,200,201,202,203,204,205,206,207,208,209,210,211,212,213,214,215,216,217,218,219,220,221,222,223,224,225,226,227,228,229,230,231,232,233,234,235,236,237,238,239,240,241,242,243,244,245,246,247,248,249,250,251,252,253,254,255,256,257,258,259,260,261,262,263,264,265,266,267,268,269,270,271,272,273,274,275,276,277,278,279,280,281,282,283,284,285,286,287,288,289,290,291,292,293,294,295,296,297,298,299,300,301,302,303,304,305,306,307,308,309,310,311,312,313,314,315,316,317,318,319,320,321,322,323,324,325,326,327,328,329,330,331,332,333,334,335,336,337,338,339,340,341,342,343,344,345,346,347,348,349,350,351,352,353,354,355,356,357,358,359,360,361,362,363,364,365,366,367,368,369,370,371,372,373,374,375,376,377,378,379,380,381,382,383,384,385,386,387,388,389,390,391,392,393,394,395,396,397,398,399,400,401,402,403,404,405,406,407,408,409,410,411,412,413,414,415,416,417,418,419,420,421,422,423,424,425,426,427,428,429,430,431,432,433,434,435,436,437,438,439,440,441,442,443,444,445,446,447,448,449,450,451,452,453,454,455,456,457,458,459,460,461,462,463,464,465,466,467,468,469,470,471,472,473,474,475,476,477,478,479,480,481,482,483,484,485,486,487,488,489,490,491,492,493,494,495,496,497,498,499],\"colorbar\":{\"title\":{\"text\":\"Trial\"},\"x\":1.0,\"xpad\":40},\"colorscale\":[[0.0,\"rgb(247,251,255)\"],[0.125,\"rgb(222,235,247)\"],[0.25,\"rgb(198,219,239)\"],[0.375,\"rgb(158,202,225)\"],[0.5,\"rgb(107,174,214)\"],[0.625,\"rgb(66,146,198)\"],[0.75,\"rgb(33,113,181)\"],[0.875,\"rgb(8,81,156)\"],[1.0,\"rgb(8,48,107)\"]],\"line\":{\"color\":\"Grey\",\"width\":0.5},\"showscale\":false},\"mode\":\"markers\",\"name\":\"Feasible Trial\",\"showlegend\":false,\"x\":[\"BM25\",\"none\",\"BM25\",\"BM25\",\"BM25\",\"none\",\"none\",\"none\",\"BM25\",\"BM25\",\"TF-IDF\",\"BM25\",\"TF-IDF\",\"BM25\",\"BM25\",\"BM25\",\"TF-IDF\",\"BM25\",\"BM25\",\"TF-IDF\",\"BM25\",\"BM25\",\"BM25\",\"BM25\",\"BM25\",\"BM25\",\"BM25\",\"BM25\",\"TF-IDF\",\"none\",\"none\",\"none\",\"none\",\"none\",\"none\",\"none\",\"none\",\"none\",\"none\",\"none\",\"none\",\"none\",\"none\",\"none\",\"none\",\"none\",\"none\",\"none\",\"none\",\"none\",\"none\",\"none\",\"none\",\"none\",\"none\",\"none\",\"none\",\"none\",\"TF-IDF\",\"none\",\"none\",\"none\",\"none\",\"none\",\"none\",\"none\",\"TF-IDF\",\"none\",\"none\",\"none\",\"none\",\"none\",\"none\",\"none\",\"none\",\"none\",\"TF-IDF\",\"TF-IDF\",\"TF-IDF\",\"TF-IDF\",\"TF-IDF\",\"TF-IDF\",\"TF-IDF\",\"TF-IDF\",\"TF-IDF\",\"TF-IDF\",\"TF-IDF\",\"TF-IDF\",\"TF-IDF\",\"TF-IDF\",\"TF-IDF\",\"TF-IDF\",\"TF-IDF\",\"TF-IDF\",\"TF-IDF\",\"TF-IDF\",\"TF-IDF\",\"TF-IDF\",\"TF-IDF\",\"TF-IDF\",\"TF-IDF\",\"TF-IDF\",\"TF-IDF\",\"TF-IDF\",\"TF-IDF\",\"TF-IDF\",\"TF-IDF\",\"TF-IDF\",\"TF-IDF\",\"TF-IDF\",\"TF-IDF\",\"TF-IDF\",\"TF-IDF\",\"TF-IDF\",\"TF-IDF\",\"TF-IDF\",\"TF-IDF\",\"TF-IDF\",\"TF-IDF\",\"TF-IDF\",\"TF-IDF\",\"TF-IDF\",\"TF-IDF\",\"TF-IDF\",\"TF-IDF\",\"TF-IDF\",\"TF-IDF\",\"TF-IDF\",\"TF-IDF\",\"TF-IDF\",\"TF-IDF\",\"TF-IDF\",\"TF-IDF\",\"TF-IDF\",\"TF-IDF\",\"TF-IDF\",\"TF-IDF\",\"TF-IDF\",\"BM25\",\"TF-IDF\",\"TF-IDF\",\"TF-IDF\",\"TF-IDF\",\"TF-IDF\",\"TF-IDF\",\"TF-IDF\",\"TF-IDF\",\"TF-IDF\",\"TF-IDF\",\"TF-IDF\",\"TF-IDF\",\"TF-IDF\",\"TF-IDF\",\"TF-IDF\",\"TF-IDF\",\"TF-IDF\",\"TF-IDF\",\"TF-IDF\",\"BM25\",\"TF-IDF\",\"TF-IDF\",\"TF-IDF\",\"TF-IDF\",\"TF-IDF\",\"TF-IDF\",\"TF-IDF\",\"TF-IDF\",\"TF-IDF\",\"TF-IDF\",\"TF-IDF\",\"TF-IDF\",\"TF-IDF\",\"TF-IDF\",\"TF-IDF\",\"TF-IDF\",\"TF-IDF\",\"TF-IDF\",\"TF-IDF\",\"TF-IDF\",\"TF-IDF\",\"TF-IDF\",\"TF-IDF\",\"TF-IDF\",\"TF-IDF\",\"TF-IDF\",\"TF-IDF\",\"TF-IDF\",\"TF-IDF\",\"BM25\",\"TF-IDF\",\"TF-IDF\",\"TF-IDF\",\"TF-IDF\",\"TF-IDF\",\"TF-IDF\",\"TF-IDF\",\"TF-IDF\",\"TF-IDF\",\"TF-IDF\",\"TF-IDF\",\"TF-IDF\",\"TF-IDF\",\"TF-IDF\",\"TF-IDF\",\"TF-IDF\",\"TF-IDF\",\"TF-IDF\",\"TF-IDF\",\"TF-IDF\",\"TF-IDF\",\"TF-IDF\",\"TF-IDF\",\"TF-IDF\",\"TF-IDF\",\"TF-IDF\",\"TF-IDF\",\"TF-IDF\",\"TF-IDF\",\"TF-IDF\",\"TF-IDF\",\"TF-IDF\",\"TF-IDF\",\"TF-IDF\",\"TF-IDF\",\"TF-IDF\",\"TF-IDF\",\"BM25\",\"TF-IDF\",\"TF-IDF\",\"TF-IDF\",\"TF-IDF\",\"TF-IDF\",\"TF-IDF\",\"TF-IDF\",\"TF-IDF\",\"TF-IDF\",\"TF-IDF\",\"TF-IDF\",\"TF-IDF\",\"TF-IDF\",\"TF-IDF\",\"TF-IDF\",\"TF-IDF\",\"TF-IDF\",\"TF-IDF\",\"TF-IDF\",\"TF-IDF\",\"TF-IDF\",\"TF-IDF\",\"TF-IDF\",\"TF-IDF\",\"TF-IDF\",\"TF-IDF\",\"TF-IDF\",\"TF-IDF\",\"TF-IDF\",\"TF-IDF\",\"BM25\",\"TF-IDF\",\"TF-IDF\",\"TF-IDF\",\"TF-IDF\",\"TF-IDF\",\"TF-IDF\",\"TF-IDF\",\"TF-IDF\",\"TF-IDF\",\"TF-IDF\",\"TF-IDF\",\"TF-IDF\",\"TF-IDF\",\"TF-IDF\",\"TF-IDF\",\"TF-IDF\",\"TF-IDF\",\"TF-IDF\",\"TF-IDF\",\"TF-IDF\",\"TF-IDF\",\"TF-IDF\",\"BM25\",\"TF-IDF\",\"TF-IDF\",\"TF-IDF\",\"TF-IDF\",\"TF-IDF\",\"TF-IDF\",\"TF-IDF\",\"TF-IDF\",\"TF-IDF\",\"TF-IDF\",\"TF-IDF\",\"TF-IDF\",\"TF-IDF\",\"TF-IDF\",\"TF-IDF\",\"TF-IDF\",\"TF-IDF\",\"TF-IDF\",\"TF-IDF\",\"TF-IDF\",\"BM25\",\"TF-IDF\",\"TF-IDF\",\"TF-IDF\",\"TF-IDF\",\"TF-IDF\",\"TF-IDF\",\"TF-IDF\",\"TF-IDF\",\"TF-IDF\",\"TF-IDF\",\"TF-IDF\",\"TF-IDF\",\"TF-IDF\",\"TF-IDF\",\"TF-IDF\",\"TF-IDF\",\"TF-IDF\",\"TF-IDF\",\"TF-IDF\",\"BM25\",\"TF-IDF\",\"TF-IDF\",\"TF-IDF\",\"TF-IDF\",\"TF-IDF\",\"TF-IDF\",\"TF-IDF\",\"TF-IDF\",\"TF-IDF\",\"TF-IDF\",\"TF-IDF\",\"TF-IDF\",\"TF-IDF\",\"TF-IDF\",\"TF-IDF\",\"TF-IDF\",\"TF-IDF\",\"TF-IDF\",\"TF-IDF\",\"TF-IDF\",\"TF-IDF\",\"BM25\",\"TF-IDF\",\"TF-IDF\",\"TF-IDF\",\"TF-IDF\",\"TF-IDF\",\"TF-IDF\",\"TF-IDF\",\"TF-IDF\",\"TF-IDF\",\"TF-IDF\",\"TF-IDF\",\"TF-IDF\",\"TF-IDF\",\"TF-IDF\",\"TF-IDF\",\"TF-IDF\",\"TF-IDF\",\"TF-IDF\",\"TF-IDF\",\"TF-IDF\",\"none\",\"TF-IDF\",\"TF-IDF\",\"BM25\",\"TF-IDF\",\"TF-IDF\",\"TF-IDF\",\"TF-IDF\",\"TF-IDF\",\"TF-IDF\",\"TF-IDF\",\"TF-IDF\",\"TF-IDF\",\"TF-IDF\",\"TF-IDF\",\"TF-IDF\",\"TF-IDF\",\"TF-IDF\",\"TF-IDF\",\"TF-IDF\",\"TF-IDF\",\"TF-IDF\",\"none\",\"TF-IDF\",\"TF-IDF\",\"BM25\",\"TF-IDF\",\"TF-IDF\",\"TF-IDF\",\"TF-IDF\",\"TF-IDF\",\"TF-IDF\",\"TF-IDF\",\"TF-IDF\",\"TF-IDF\",\"TF-IDF\",\"TF-IDF\",\"TF-IDF\",\"TF-IDF\",\"TF-IDF\",\"TF-IDF\",\"TF-IDF\",\"TF-IDF\",\"TF-IDF\",\"TF-IDF\",\"none\",\"TF-IDF\",\"TF-IDF\",\"BM25\",\"TF-IDF\",\"TF-IDF\",\"TF-IDF\",\"TF-IDF\",\"TF-IDF\",\"TF-IDF\",\"TF-IDF\",\"TF-IDF\",\"TF-IDF\",\"TF-IDF\",\"TF-IDF\",\"TF-IDF\",\"TF-IDF\",\"TF-IDF\",\"TF-IDF\",\"TF-IDF\",\"TF-IDF\",\"TF-IDF\",\"none\",\"TF-IDF\",\"TF-IDF\",\"TF-IDF\",\"TF-IDF\",\"BM25\",\"TF-IDF\",\"TF-IDF\",\"TF-IDF\",\"TF-IDF\",\"TF-IDF\",\"TF-IDF\",\"TF-IDF\",\"TF-IDF\",\"TF-IDF\",\"TF-IDF\",\"TF-IDF\",\"TF-IDF\",\"TF-IDF\",\"TF-IDF\",\"TF-IDF\",\"TF-IDF\",\"TF-IDF\",\"none\",\"TF-IDF\",\"TF-IDF\",\"TF-IDF\",\"TF-IDF\",\"TF-IDF\",\"BM25\",\"TF-IDF\",\"TF-IDF\",\"TF-IDF\",\"TF-IDF\",\"TF-IDF\",\"TF-IDF\",\"TF-IDF\",\"TF-IDF\",\"TF-IDF\",\"TF-IDF\",\"TF-IDF\",\"TF-IDF\",\"TF-IDF\",\"TF-IDF\",\"none\",\"TF-IDF\",\"TF-IDF\",\"TF-IDF\",\"TF-IDF\",\"TF-IDF\",\"BM25\",\"TF-IDF\",\"TF-IDF\",\"TF-IDF\",\"TF-IDF\",\"TF-IDF\",\"TF-IDF\",\"TF-IDF\",\"TF-IDF\",\"TF-IDF\",\"TF-IDF\",\"TF-IDF\",\"TF-IDF\",\"TF-IDF\",\"TF-IDF\",\"TF-IDF\",\"TF-IDF\",\"TF-IDF\",\"none\"],\"y\":[0.23148330284290042,0.13624718955739376,0.1471750754734151,0.17665494281875593,0.22605954763810066,0.20349984418451744,0.1972443703365315,0.19482189997815597,0.17637428068323063,0.22522086925996349,0.22319422054210195,0.2304573118495677,0.17144150147345222,0.2320857319855421,0.23275752848559866,0.23171090388175025,0.2127854379593969,0.23970748561893918,0.240483947366465,0.22505091809824102,0.24092850196791454,0.24090856193617882,0.2355894386586912,0.24176958909342275,0.23873396992488702,0.24254635065272973,0.24957153157159687,0.24888446910334255,0.23541728054090555,0.2516468092914111,0.25443769162528307,0.2548065564830398,0.25372594137621196,0.2542656062806814,0.2510363291879291,0.21729222252899047,0.2542230921973612,0.23936386771471282,0.23272192674389913,0.2430012686796093,0.2445792335742334,0.2508384206817508,0.2555594698275499,0.25216047372169353,0.09889549888703199,0.21599737636144267,0.23142058460597698,0.24626551129669433,0.22726151671351763,0.23969296349398544,0.24756067995173195,0.25530024248415983,0.25560379420324086,0.25571632981331993,0.25565640365780096,0.08043575093375183,0.21855068461434887,0.24773265987949525,0.054672355535981446,0.22372828175047949,0.2358642124673164,0.2553778916070521,0.2568086807011941,0.2558789323947374,0.2552056581054293,0.2455116840403182,0.2152355960719305,0.0055265346604531345,0.11067393242761561,0.22608833450679114,0.233145956015041,0.2547298553411854,0.24897096109001587,0.2576156616761005,0.25744981266166433,0.21698334053455676,0.2575202661872857,0.2561060665645264,0.25578135216037295,0.25494998947199676,0.2538111399898332,0.2559646138359945,0.25582035948664855,0.2559897184094767,0.2559974523038986,0.2533678262625595,0.2562629450364597,0.2523955512395206,0.25646652209648685,0.2501219720024811,0.2485134954588148,0.25647034080192216,0.2551863355191928,0.2565211778203894,0.2565991891007239,0.25422240615921754,0.24847896854246318,0.2578990980248367,0.25753610102787367,0.25964283046146747,0.25917266297874675,0.258279823411374,0.2598612810007102,0.2596685152716735,0.2593783948294804,0.25918602878015073,0.25919092214299544,0.25919132087475044,0.2583387599220447,0.2585890395914807,0.21708510837470243,0.2587061884464763,0.2589839874559213,0.2589583376145547,0.25863546012247757,0.25885640146171823,0.25970924597612643,0.2600522358728864,0.2597082707062577,0.25826614004087733,0.21113037843336824,0.2599951255124881,0.2600831369621336,0.26007342166596137,0.2602208581514182,0.124809511033937,0.24869521280564416,0.055944053866720675,0.0055265346604531345,0.2600945614984461,0.260019690529778,0.2602939568788393,0.26015952543770826,0.2600300024230263,0.2601363510062749,0.2600263645507829,0.2600216894749122,0.25986158212031707,0.23112299979914588,0.258406550449704,0.2563362950505154,0.25987593054671143,0.25809501891627473,0.2600722602929655,0.2592606292932317,0.23251582536931018,0.25844008266429297,0.24438533737019758,0.1047407367488387,0.25840097475794127,0.2563216651426966,0.2598256616300174,0.24862544044376894,0.2601035905209292,0.2602726153027083,0.22736937727738943,0.2585028479772481,0.0055265346604531345,0.2307749488633813,0.2601695123332381,0.2590679863270371,0.2601695123332381,0.2601854248411634,0.25797448558814523,0.26021846822095585,0.2588010860733287,0.26015684881002554,0.25744117476851935,0.0055265346604531345,0.2602098221402436,0.0055265346604531345,0.2602967190708516,0.26030777685753526,0.2587079872788002,0.2602398571830838,0.2600797939695729,0.25878144958385246,0.2601141247441451,0.2580234098585182,0.24964093523736391,0.23835958795670487,0.2601999026823316,0.25908841948201733,0.0055265346604531345,0.26014436975609867,0.252680413487203,0.14577658713529842,0.25909516298509416,0.25835488067699763,0.25841751302486693,0.2593481385474267,0.2602909363743621,0.26020579220238493,0.25996299344736007,0.0055265346604531345,0.26021464860255117,0.25996258609179124,0.260148938520933,0.251475362966174,0.2592997343508444,0.26021746435997634,0.26026967279496155,0.25973168609259234,0.25956870479820804,0.15723541587884352,0.2602150234922539,0.2587655274981736,0.2601907058553735,0.2579695019688275,0.2597590106646209,0.26020274354136347,0.26021746435997634,0.25918609774315415,0.2602304128932977,0.0055265346604531345,0.2600048907447058,0.25898286532965625,0.26003591850712676,0.25955447200453297,0.25835700679338836,0.23143347632150107,0.2601496975882339,0.26023387066960185,0.2592878663097236,0.25947503718498066,0.12081679500471895,0.23194952716433268,0.2571584636359604,0.2593115432955166,0.22653160301581338,0.23114123541862147,0.2602284434081664,0.260170469264755,0.25900203441061187,0.0055265346604531345,0.26020109143156656,0.2593904519297865,0.2601949006087537,0.25972130209036765,0.25880710274682955,0.0055265346604531345,0.2602256159803388,0.25989067700252066,0.2601754809322693,0.2596268953818736,0.2602288515369037,0.25951884223100213,0.26018302358003814,0.2590879673112943,0.25958295616772503,0.26018595633990504,0.25955719105953917,0.25787750019155997,0.25930265616957976,0.2597042449670595,0.0055265346604531345,0.2602584809607259,0.23011156573280486,0.2587367168817073,0.0055265346604531345,0.26007023824899744,0.20937287642597688,0.26028008884807147,0.2593807253561915,0.09553855607140857,0.2599422480992969,0.26010841108429805,0.22476821283625031,0.259786569921156,0.2600146054175172,0.25937865695511186,0.0055265346604531345,0.2590838442103591,0.25808956918456116,0.2602203281578796,0.2597317041640639,0.2602112037161034,0.25957325982143475,0.258877519296107,0.2602381414271046,0.22945208899693456,0.25744764276503185,0.2601389618318306,0.25862269615460065,0.0055265346604531345,0.25943561873427423,0.2602278701134813,0.23464555602847445,0.2599600968746837,0.25109521608492075,0.22616600296427292,0.24902297133649398,0.15980766326376777,0.2585037107282405,0.25959143225865944,0.23005291874778028,0.0055265346604531345,0.2600550790310071,0.2587447097389494,0.25083312841401195,0.2594651705326456,0.22958111317103339,0.24941654283595271,0.2579482547122322,0.2601834638208213,0.2590896987297058,0.25994874879872176,0.2566554050110399,0.25015859489277437,0.2600386104686468,0.2592319521116402,0.2585951255947024,0.26008564469795814,0.21741802503013158,0.2539877203172722,0.0055265346604531345,0.2589570531637072,0.25770568201608424,0.0880585795268939,0.25938500137216963,0.2597812568469251,0.23116128426210455,0.2291441194798381,0.24985205544205963,0.15850607801390945,0.26016129018239126,0.2597370506135189,0.2600367201176465,0.25717057614970573,0.24831692697656357,0.2582856987402793,0.25941580123030095,0.25902385793599475,0.2602165828964806,0.0055265346604531345,0.259047320965904,0.2602042368707474,0.2582206446586085,0.26008694878407146,0.25971224492230577,0.2218098485066912,0.25197504054199743,0.25329318927483335,0.22890498543350976,0.26016787043909445,0.24097187263705983,0.2596410261874563,0.0055265346604531345,0.2263192919508843,0.2602107262461635,0.2591413763276285,0.2599697764094289,0.2599035287571607,0.24912732627669434,0.25853454670141957,0.0055265346604531345,0.2602479563416023,0.2570647641626406,0.2597794014276498,0.26011505151287,0.258378248473657,0.2593672598844204,0.2594305608338029,0.2602377722326518,0.21747323800604795,0.25786216947937035,0.2589923283179569,0.22930192799671553,0.23437172886744215,0.259471311198238,0.12423199534280256,0.2585635275207351,0.2601621662418898,0.2291377094869344,0.09136125441898482,0.0055265346604531345,0.26025539263972364,0.22613615098541356,0.25812082386342944,0.2587782732977528,0.26022759304269494,0.0055265346604531345,0.26023420611156195,0.2599532557543383,0.25122404967421585,0.2595217911182349,0.21837846063315292,0.2585744677146846,0.2525903908945561,0.23135724063380453,0.25050400302757386,0.2593617169659936,0.2600063671313236,0.259550281077439,0.2576169219628822,0.25864445652737356,0.21526253969522138,0.1587515171345776,0.2599170715747089,0.2590987364778049,0.25161241253935335,0.0055265346604531345,0.2602354350090934,0.21568719784113383,0.2582417723800057,0.26021629845031924,0.2249226784457174,0.26004879526486435,0.25969059714374343,0.21984525305723507,0.0055265346604531345,0.26030932919014205,0.22957241721625093,0.2599196639567832,0.25736517507920914,0.2602943453657022,0.25878144958385246,0.2596474649178281,0.26001368722739227,0.0055265346604531345,0.25914461700733715,0.2602909363743621,0.26022258635489964,0.2582244198596249,0.25999384532474223,0.25966079018410293,0.2587475879629773,0.21966113663044595,0.2077995646213308,0.22745558700225602,0.25940255367569615,0.21869407353698395,0.0730533295602892,0.2583681131252991,0.2593052433093101,0.0055265346604531345,0.2575467943131183,0.2602588626378052,0.2588132446671249,0.2601430863086486,0.25980703888924817,0.2594272506890332,0.25830630997380244,0.0055265346604531345,0.26016596222143695,0.25928500089234047,0.2597664437273418,0.2601555057914077,0.25565182482116927,0.25753992907091217,0.2588869456432543,0.2597111251745622,0.25994013204426897,0.25951884223100213,0.22515122483136155,0.0055265346604531345,0.2275176733713244,0.26025157902653767,0.2586679212832642,0.2580493632401571,0.0055265346604531345,0.2157806709888035,0.26027144997400836,0.2580004890827271,0.23122523985177565,0.25881758397912435,0.26017211243352223,0.26009334454080163,0.2567786022580739,0.2592460258953557,0.2580568728872543,0.2602116520835973,0.2596326284048935,0.0055265346604531345,0.259432322661013,0.2184415577017529,0.2601799016771452,0.2588993606297075,0.25443746344604556,0.26008318966057925,0.2598474024260215,0.2295737646501374,0.26024538958526555,0.2288159559506609,0.23231146959485285,0.0055265346604531345,0.1085759834687818,0.260172108804372,0.25882429419848485,0.2597104101892449,0.2597756264281478,0.0869794028164759,0.2591295629637894,0.23165514271750293,0.0055265346604531345,0.2581727935225413,0.25159807661144884,0.25952463494336436,0.2597784926295728,0.21936910173109378],\"type\":\"scatter\",\"xaxis\":\"x2\",\"yaxis\":\"y2\"},{\"marker\":{\"color\":[1,2,3,8,44,55,68,127,148,186,229,264,290,318,345,374,403,432,461,491],\"colorbar\":{\"title\":{\"text\":\"Trial\"},\"x\":1.0,\"xpad\":40},\"colorscale\":[[0.0,\"rgb(247,251,255)\"],[0.125,\"rgb(222,235,247)\"],[0.25,\"rgb(198,219,239)\"],[0.375,\"rgb(158,202,225)\"],[0.5,\"rgb(107,174,214)\"],[0.625,\"rgb(66,146,198)\"],[0.75,\"rgb(33,113,181)\"],[0.875,\"rgb(8,81,156)\"],[1.0,\"rgb(8,48,107)\"]],\"line\":{\"color\":\"Grey\",\"width\":0.5},\"showscale\":false},\"mode\":\"markers\",\"name\":\"Feasible Trial\",\"showlegend\":false,\"x\":[true,true,true,true,false,false,false,false,false,true,true,false,true,false,true,false,true,false,true,false],\"y\":[0.13624718955739376,0.1471750754734151,0.17665494281875593,0.17637428068323063,0.09889549888703199,0.08043575093375183,0.11067393242761561,0.055944053866720675,0.1047407367488387,0.14577658713529842,0.22653160301581338,0.09553855607140857,0.22616600296427292,0.0880585795268939,0.24097187263705983,0.09136125441898482,0.21568719784113383,0.0730533295602892,0.2157806709888035,0.0869794028164759],\"type\":\"scatter\",\"xaxis\":\"x3\",\"yaxis\":\"y3\"},{\"marker\":{\"color\":[1,2,3,8,44,55,68,127,148,186,229,264,290,318,345,374,403,432,461,491],\"colorbar\":{\"title\":{\"text\":\"Trial\"},\"x\":1.0,\"xpad\":40},\"colorscale\":[[0.0,\"rgb(247,251,255)\"],[0.125,\"rgb(222,235,247)\"],[0.25,\"rgb(198,219,239)\"],[0.375,\"rgb(158,202,225)\"],[0.5,\"rgb(107,174,214)\"],[0.625,\"rgb(66,146,198)\"],[0.75,\"rgb(33,113,181)\"],[0.875,\"rgb(8,81,156)\"],[1.0,\"rgb(8,48,107)\"]],\"line\":{\"color\":\"Grey\",\"width\":0.5},\"showscale\":false},\"mode\":\"markers\",\"name\":\"Feasible Trial\",\"showlegend\":false,\"x\":[true,false,true,true,false,false,true,false,false,true,false,true,true,false,true,false,true,false,false,true],\"y\":[0.13624718955739376,0.1471750754734151,0.17665494281875593,0.17637428068323063,0.09889549888703199,0.08043575093375183,0.11067393242761561,0.055944053866720675,0.1047407367488387,0.14577658713529842,0.22653160301581338,0.09553855607140857,0.22616600296427292,0.0880585795268939,0.24097187263705983,0.09136125441898482,0.21568719784113383,0.0730533295602892,0.2157806709888035,0.0869794028164759],\"type\":\"scatter\",\"xaxis\":\"x4\",\"yaxis\":\"y4\"},{\"marker\":{\"color\":[0,1,2,3,4,5,6,7,8,9,10,11,12,13,14,15,16,17,18,19,20,21,22,23,24,25,26,27,28,29,30,31,32,33,34,35,36,37,38,39,40,41,42,43,44,45,46,47,48,49,50,51,52,53,54,55,56,57,58,59,60,61,62,63,64,65,66,67,68,69,70,71,72,73,74,75,76,77,78,79,80,81,82,83,84,85,86,87,88,89,90,91,92,93,94,95,96,97,98,99,100,101,102,103,104,105,106,107,108,109,110,111,112,113,114,115,116,117,118,119,120,121,122,123,124,125,126,127,128,129,130,131,132,133,134,135,136,137,138,139,140,141,142,143,144,145,146,147,148,149,150,151,152,153,154,155,156,157,158,159,160,161,162,163,164,165,166,167,168,169,170,171,172,173,174,175,176,177,178,179,180,181,182,183,184,185,186,187,188,189,190,191,192,193,194,195,196,197,198,199,200,201,202,203,204,205,206,207,208,209,210,211,212,213,214,215,216,217,218,219,220,221,222,223,224,225,226,227,228,229,230,231,232,233,234,235,236,237,238,239,240,241,242,243,244,245,246,247,248,249,250,251,252,253,254,255,256,257,258,259,260,261,262,263,264,265,266,267,268,269,270,271,272,273,274,275,276,277,278,279,280,281,282,283,284,285,286,287,288,289,290,291,292,293,294,295,296,297,298,299,300,301,302,303,304,305,306,307,308,309,310,311,312,313,314,315,316,317,318,319,320,321,322,323,324,325,326,327,328,329,330,331,332,333,334,335,336,337,338,339,340,341,342,343,344,345,346,347,348,349,350,351,352,353,354,355,356,357,358,359,360,361,362,363,364,365,366,367,368,369,370,371,372,373,374,375,376,377,378,379,380,381,382,383,384,385,386,387,388,389,390,391,392,393,394,395,396,397,398,399,400,401,402,403,404,405,406,407,408,409,410,411,412,413,414,415,416,417,418,419,420,421,422,423,424,425,426,427,428,429,430,431,432,433,434,435,436,437,438,439,440,441,442,443,444,445,446,447,448,449,450,451,452,453,454,455,456,457,458,459,460,461,462,463,464,465,466,467,468,469,470,471,472,473,474,475,476,477,478,479,480,481,482,483,484,485,486,487,488,489,490,491,492,493,494,495,496,497,498,499],\"colorbar\":{\"title\":{\"text\":\"Trial\"},\"x\":1.0,\"xpad\":40},\"colorscale\":[[0.0,\"rgb(247,251,255)\"],[0.125,\"rgb(222,235,247)\"],[0.25,\"rgb(198,219,239)\"],[0.375,\"rgb(158,202,225)\"],[0.5,\"rgb(107,174,214)\"],[0.625,\"rgb(66,146,198)\"],[0.75,\"rgb(33,113,181)\"],[0.875,\"rgb(8,81,156)\"],[1.0,\"rgb(8,48,107)\"]],\"line\":{\"color\":\"Grey\",\"width\":0.5},\"showscale\":false},\"mode\":\"markers\",\"name\":\"Feasible Trial\",\"showlegend\":false,\"x\":[13,83,316,92,623,597,727,939,587,337,299,843,951,766,463,437,770,469,462,184,402,387,389,234,226,222,228,192,146,12,11,10,0,1,73,72,3,128,55,144,41,21,7,97,101,534,273,0,113,54,162,5,44,51,53,74,994,113,51,180,95,41,42,47,50,138,653,278,203,162,330,40,84,33,33,124,35,853,870,802,898,915,886,866,926,947,921,918,845,836,752,824,831,975,982,971,991,691,683,679,699,677,694,673,684,698,686,677,702,700,593,699,625,625,632,632,574,563,551,554,724,547,558,563,500,512,569,497,662,446,434,445,422,417,363,415,426,421,421,374,449,418,360,419,404,490,461,480,438,517,355,407,427,385,391,387,463,328,532,447,303,447,445,393,482,471,365,350,377,455,454,515,511,506,481,528,525,484,482,454,475,498,499,445,493,487,473,497,444,373,510,396,390,388,333,368,402,361,368,304,341,351,335,350,276,321,315,346,401,324,344,341,293,342,344,315,339,286,462,384,438,346,394,401,366,254,319,516,385,468,341,418,435,404,428,358,378,354,350,318,358,384,374,332,393,362,357,310,342,384,370,332,536,405,351,363,390,395,412,503,376,293,389,391,416,482,397,524,377,424,468,316,502,370,404,406,387,386,416,434,431,404,462,433,394,419,453,454,453,482,436,473,538,377,414,441,366,512,396,322,426,462,336,374,408,486,438,267,300,384,364,455,404,355,332,517,491,425,388,474,411,347,373,452,387,436,324,502,409,360,539,395,302,341,334,347,372,321,348,369,388,283,417,308,344,364,398,519,435,472,328,385,363,412,590,488,426,446,429,459,421,547,306,481,501,474,513,474,495,450,437,521,462,485,407,428,333,399,345,527,458,452,480,484,498,473,456,507,440,462,485,543,422,468,433,513,570,413,447,488,463,402,380,381,431,414,396,497,435,382,472,529,540,535,571,408,525,416,511,378,553,396,392,369,403,416,443,383,422,368,399,446,362,423,395,450,381,413,434,420,454,405,473,441,423,401,358,460,494,431,410,384,468,357,516,439,403,382,609,373,356,390,389,374,354,389,377,339,402,369,788,327,421,392,244,410,360,385,411,560,352,376,401,396,330,367,344,398,205,539,380,420,310,370,399,355,428,519,382,417],\"y\":[0.23148330284290042,0.13624718955739376,0.1471750754734151,0.17665494281875593,0.22605954763810066,0.20349984418451744,0.1972443703365315,0.19482189997815597,0.17637428068323063,0.22522086925996349,0.22319422054210195,0.2304573118495677,0.17144150147345222,0.2320857319855421,0.23275752848559866,0.23171090388175025,0.2127854379593969,0.23970748561893918,0.240483947366465,0.22505091809824102,0.24092850196791454,0.24090856193617882,0.2355894386586912,0.24176958909342275,0.23873396992488702,0.24254635065272973,0.24957153157159687,0.24888446910334255,0.23541728054090555,0.2516468092914111,0.25443769162528307,0.2548065564830398,0.25372594137621196,0.2542656062806814,0.2510363291879291,0.21729222252899047,0.2542230921973612,0.23936386771471282,0.23272192674389913,0.2430012686796093,0.2445792335742334,0.2508384206817508,0.2555594698275499,0.25216047372169353,0.09889549888703199,0.21599737636144267,0.23142058460597698,0.24626551129669433,0.22726151671351763,0.23969296349398544,0.24756067995173195,0.25530024248415983,0.25560379420324086,0.25571632981331993,0.25565640365780096,0.08043575093375183,0.21855068461434887,0.24773265987949525,0.054672355535981446,0.22372828175047949,0.2358642124673164,0.2553778916070521,0.2568086807011941,0.2558789323947374,0.2552056581054293,0.2455116840403182,0.2152355960719305,0.0055265346604531345,0.11067393242761561,0.22608833450679114,0.233145956015041,0.2547298553411854,0.24897096109001587,0.2576156616761005,0.25744981266166433,0.21698334053455676,0.2575202661872857,0.2561060665645264,0.25578135216037295,0.25494998947199676,0.2538111399898332,0.2559646138359945,0.25582035948664855,0.2559897184094767,0.2559974523038986,0.2533678262625595,0.2562629450364597,0.2523955512395206,0.25646652209648685,0.2501219720024811,0.2485134954588148,0.25647034080192216,0.2551863355191928,0.2565211778203894,0.2565991891007239,0.25422240615921754,0.24847896854246318,0.2578990980248367,0.25753610102787367,0.25964283046146747,0.25917266297874675,0.258279823411374,0.2598612810007102,0.2596685152716735,0.2593783948294804,0.25918602878015073,0.25919092214299544,0.25919132087475044,0.2583387599220447,0.2585890395914807,0.21708510837470243,0.2587061884464763,0.2589839874559213,0.2589583376145547,0.25863546012247757,0.25885640146171823,0.25970924597612643,0.2600522358728864,0.2597082707062577,0.25826614004087733,0.21113037843336824,0.2599951255124881,0.2600831369621336,0.26007342166596137,0.2602208581514182,0.124809511033937,0.24869521280564416,0.055944053866720675,0.0055265346604531345,0.2600945614984461,0.260019690529778,0.2602939568788393,0.26015952543770826,0.2600300024230263,0.2601363510062749,0.2600263645507829,0.2600216894749122,0.25986158212031707,0.23112299979914588,0.258406550449704,0.2563362950505154,0.25987593054671143,0.25809501891627473,0.2600722602929655,0.2592606292932317,0.23251582536931018,0.25844008266429297,0.24438533737019758,0.1047407367488387,0.25840097475794127,0.2563216651426966,0.2598256616300174,0.24862544044376894,0.2601035905209292,0.2602726153027083,0.22736937727738943,0.2585028479772481,0.0055265346604531345,0.2307749488633813,0.2601695123332381,0.2590679863270371,0.2601695123332381,0.2601854248411634,0.25797448558814523,0.26021846822095585,0.2588010860733287,0.26015684881002554,0.25744117476851935,0.0055265346604531345,0.2602098221402436,0.0055265346604531345,0.2602967190708516,0.26030777685753526,0.2587079872788002,0.2602398571830838,0.2600797939695729,0.25878144958385246,0.2601141247441451,0.2580234098585182,0.24964093523736391,0.23835958795670487,0.2601999026823316,0.25908841948201733,0.0055265346604531345,0.26014436975609867,0.252680413487203,0.14577658713529842,0.25909516298509416,0.25835488067699763,0.25841751302486693,0.2593481385474267,0.2602909363743621,0.26020579220238493,0.25996299344736007,0.0055265346604531345,0.26021464860255117,0.25996258609179124,0.260148938520933,0.251475362966174,0.2592997343508444,0.26021746435997634,0.26026967279496155,0.25973168609259234,0.25956870479820804,0.15723541587884352,0.2602150234922539,0.2587655274981736,0.2601907058553735,0.2579695019688275,0.2597590106646209,0.26020274354136347,0.26021746435997634,0.25918609774315415,0.2602304128932977,0.0055265346604531345,0.2600048907447058,0.25898286532965625,0.26003591850712676,0.25955447200453297,0.25835700679338836,0.23143347632150107,0.2601496975882339,0.26023387066960185,0.2592878663097236,0.25947503718498066,0.12081679500471895,0.23194952716433268,0.2571584636359604,0.2593115432955166,0.22653160301581338,0.23114123541862147,0.2602284434081664,0.260170469264755,0.25900203441061187,0.0055265346604531345,0.26020109143156656,0.2593904519297865,0.2601949006087537,0.25972130209036765,0.25880710274682955,0.0055265346604531345,0.2602256159803388,0.25989067700252066,0.2601754809322693,0.2596268953818736,0.2602288515369037,0.25951884223100213,0.26018302358003814,0.2590879673112943,0.25958295616772503,0.26018595633990504,0.25955719105953917,0.25787750019155997,0.25930265616957976,0.2597042449670595,0.0055265346604531345,0.2602584809607259,0.23011156573280486,0.2587367168817073,0.0055265346604531345,0.26007023824899744,0.20937287642597688,0.26028008884807147,0.2593807253561915,0.09553855607140857,0.2599422480992969,0.26010841108429805,0.22476821283625031,0.259786569921156,0.2600146054175172,0.25937865695511186,0.0055265346604531345,0.2590838442103591,0.25808956918456116,0.2602203281578796,0.2597317041640639,0.2602112037161034,0.25957325982143475,0.258877519296107,0.2602381414271046,0.22945208899693456,0.25744764276503185,0.2601389618318306,0.25862269615460065,0.0055265346604531345,0.25943561873427423,0.2602278701134813,0.23464555602847445,0.2599600968746837,0.25109521608492075,0.22616600296427292,0.24902297133649398,0.15980766326376777,0.2585037107282405,0.25959143225865944,0.23005291874778028,0.0055265346604531345,0.2600550790310071,0.2587447097389494,0.25083312841401195,0.2594651705326456,0.22958111317103339,0.24941654283595271,0.2579482547122322,0.2601834638208213,0.2590896987297058,0.25994874879872176,0.2566554050110399,0.25015859489277437,0.2600386104686468,0.2592319521116402,0.2585951255947024,0.26008564469795814,0.21741802503013158,0.2539877203172722,0.0055265346604531345,0.2589570531637072,0.25770568201608424,0.0880585795268939,0.25938500137216963,0.2597812568469251,0.23116128426210455,0.2291441194798381,0.24985205544205963,0.15850607801390945,0.26016129018239126,0.2597370506135189,0.2600367201176465,0.25717057614970573,0.24831692697656357,0.2582856987402793,0.25941580123030095,0.25902385793599475,0.2602165828964806,0.0055265346604531345,0.259047320965904,0.2602042368707474,0.2582206446586085,0.26008694878407146,0.25971224492230577,0.2218098485066912,0.25197504054199743,0.25329318927483335,0.22890498543350976,0.26016787043909445,0.24097187263705983,0.2596410261874563,0.0055265346604531345,0.2263192919508843,0.2602107262461635,0.2591413763276285,0.2599697764094289,0.2599035287571607,0.24912732627669434,0.25853454670141957,0.0055265346604531345,0.2602479563416023,0.2570647641626406,0.2597794014276498,0.26011505151287,0.258378248473657,0.2593672598844204,0.2594305608338029,0.2602377722326518,0.21747323800604795,0.25786216947937035,0.2589923283179569,0.22930192799671553,0.23437172886744215,0.259471311198238,0.12423199534280256,0.2585635275207351,0.2601621662418898,0.2291377094869344,0.09136125441898482,0.0055265346604531345,0.26025539263972364,0.22613615098541356,0.25812082386342944,0.2587782732977528,0.26022759304269494,0.0055265346604531345,0.26023420611156195,0.2599532557543383,0.25122404967421585,0.2595217911182349,0.21837846063315292,0.2585744677146846,0.2525903908945561,0.23135724063380453,0.25050400302757386,0.2593617169659936,0.2600063671313236,0.259550281077439,0.2576169219628822,0.25864445652737356,0.21526253969522138,0.1587515171345776,0.2599170715747089,0.2590987364778049,0.25161241253935335,0.0055265346604531345,0.2602354350090934,0.21568719784113383,0.2582417723800057,0.26021629845031924,0.2249226784457174,0.26004879526486435,0.25969059714374343,0.21984525305723507,0.0055265346604531345,0.26030932919014205,0.22957241721625093,0.2599196639567832,0.25736517507920914,0.2602943453657022,0.25878144958385246,0.2596474649178281,0.26001368722739227,0.0055265346604531345,0.25914461700733715,0.2602909363743621,0.26022258635489964,0.2582244198596249,0.25999384532474223,0.25966079018410293,0.2587475879629773,0.21966113663044595,0.2077995646213308,0.22745558700225602,0.25940255367569615,0.21869407353698395,0.0730533295602892,0.2583681131252991,0.2593052433093101,0.0055265346604531345,0.2575467943131183,0.2602588626378052,0.2588132446671249,0.2601430863086486,0.25980703888924817,0.2594272506890332,0.25830630997380244,0.0055265346604531345,0.26016596222143695,0.25928500089234047,0.2597664437273418,0.2601555057914077,0.25565182482116927,0.25753992907091217,0.2588869456432543,0.2597111251745622,0.25994013204426897,0.25951884223100213,0.22515122483136155,0.0055265346604531345,0.2275176733713244,0.26025157902653767,0.2586679212832642,0.2580493632401571,0.0055265346604531345,0.2157806709888035,0.26027144997400836,0.2580004890827271,0.23122523985177565,0.25881758397912435,0.26017211243352223,0.26009334454080163,0.2567786022580739,0.2592460258953557,0.2580568728872543,0.2602116520835973,0.2596326284048935,0.0055265346604531345,0.259432322661013,0.2184415577017529,0.2601799016771452,0.2588993606297075,0.25443746344604556,0.26008318966057925,0.2598474024260215,0.2295737646501374,0.26024538958526555,0.2288159559506609,0.23231146959485285,0.0055265346604531345,0.1085759834687818,0.260172108804372,0.25882429419848485,0.2597104101892449,0.2597756264281478,0.0869794028164759,0.2591295629637894,0.23165514271750293,0.0055265346604531345,0.2581727935225413,0.25159807661144884,0.25952463494336436,0.2597784926295728,0.21936910173109378],\"type\":\"scatter\",\"xaxis\":\"x5\",\"yaxis\":\"y5\"},{\"marker\":{\"color\":[0,1,2,3,4,5,6,7,8,9,10,11,12,13,14,15,16,17,18,19,20,21,22,23,24,25,26,27,28,29,30,31,32,33,34,35,36,37,38,39,40,41,42,43,44,45,46,47,48,49,50,51,52,53,54,55,56,57,58,59,60,61,62,63,64,65,66,67,68,69,70,71,72,73,74,75,76,77,78,79,80,81,82,83,84,85,86,87,88,89,90,91,92,93,94,95,96,97,98,99,100,101,102,103,104,105,106,107,108,109,110,111,112,113,114,115,116,117,118,119,120,121,122,123,124,125,126,127,128,129,130,131,132,133,134,135,136,137,138,139,140,141,142,143,144,145,146,147,148,149,150,151,152,153,154,155,156,157,158,159,160,161,162,163,164,165,166,167,168,169,170,171,172,173,174,175,176,177,178,179,180,181,182,183,184,185,186,187,188,189,190,191,192,193,194,195,196,197,198,199,200,201,202,203,204,205,206,207,208,209,210,211,212,213,214,215,216,217,218,219,220,221,222,223,224,225,226,227,228,229,230,231,232,233,234,235,236,237,238,239,240,241,242,243,244,245,246,247,248,249,250,251,252,253,254,255,256,257,258,259,260,261,262,263,264,265,266,267,268,269,270,271,272,273,274,275,276,277,278,279,280,281,282,283,284,285,286,287,288,289,290,291,292,293,294,295,296,297,298,299,300,301,302,303,304,305,306,307,308,309,310,311,312,313,314,315,316,317,318,319,320,321,322,323,324,325,326,327,328,329,330,331,332,333,334,335,336,337,338,339,340,341,342,343,344,345,346,347,348,349,350,351,352,353,354,355,356,357,358,359,360,361,362,363,364,365,366,367,368,369,370,371,372,373,374,375,376,377,378,379,380,381,382,383,384,385,386,387,388,389,390,391,392,393,394,395,396,397,398,399,400,401,402,403,404,405,406,407,408,409,410,411,412,413,414,415,416,417,418,419,420,421,422,423,424,425,426,427,428,429,430,431,432,433,434,435,436,437,438,439,440,441,442,443,444,445,446,447,448,449,450,451,452,453,454,455,456,457,458,459,460,461,462,463,464,465,466,467,468,469,470,471,472,473,474,475,476,477,478,479,480,481,482,483,484,485,486,487,488,489,490,491,492,493,494,495,496,497,498,499],\"colorbar\":{\"title\":{\"text\":\"Trial\"},\"x\":1.0,\"xpad\":40},\"colorscale\":[[0.0,\"rgb(247,251,255)\"],[0.125,\"rgb(222,235,247)\"],[0.25,\"rgb(198,219,239)\"],[0.375,\"rgb(158,202,225)\"],[0.5,\"rgb(107,174,214)\"],[0.625,\"rgb(66,146,198)\"],[0.75,\"rgb(33,113,181)\"],[0.875,\"rgb(8,81,156)\"],[1.0,\"rgb(8,48,107)\"]],\"line\":{\"color\":\"Grey\",\"width\":0.5},\"showscale\":false},\"mode\":\"markers\",\"name\":\"Feasible Trial\",\"showlegend\":false,\"x\":[\"cosine\",\"euclidean\",\"euclidean\",\"euclidean\",\"tversky\",\"dice\",\"cosine\",\"cosine\",\"euclidean\",\"tversky\",\"jaccard\",\"asymmetric\",\"asymmetric\",\"asymmetric\",\"cosine\",\"asymmetric\",\"jaccard\",\"dice\",\"dice\",\"dice\",\"dice\",\"dice\",\"dice\",\"dice\",\"dice\",\"dice\",\"dice\",\"dice\",\"dice\",\"dice\",\"jaccard\",\"jaccard\",\"jaccard\",\"jaccard\",\"jaccard\",\"jaccard\",\"jaccard\",\"jaccard\",\"jaccard\",\"jaccard\",\"jaccard\",\"jaccard\",\"jaccard\",\"jaccard\",\"euclidean\",\"tversky\",\"jaccard\",\"jaccard\",\"jaccard\",\"cosine\",\"tversky\",\"jaccard\",\"jaccard\",\"jaccard\",\"jaccard\",\"euclidean\",\"jaccard\",\"jaccard\",\"asymmetric\",\"cosine\",\"jaccard\",\"jaccard\",\"jaccard\",\"jaccard\",\"jaccard\",\"jaccard\",\"tversky\",\"jaccard\",\"euclidean\",\"asymmetric\",\"jaccard\",\"jaccard\",\"jaccard\",\"jaccard\",\"jaccard\",\"jaccard\",\"jaccard\",\"cosine\",\"cosine\",\"cosine\",\"cosine\",\"cosine\",\"cosine\",\"cosine\",\"cosine\",\"cosine\",\"cosine\",\"cosine\",\"cosine\",\"cosine\",\"cosine\",\"cosine\",\"cosine\",\"cosine\",\"cosine\",\"cosine\",\"cosine\",\"cosine\",\"cosine\",\"cosine\",\"cosine\",\"cosine\",\"cosine\",\"cosine\",\"cosine\",\"cosine\",\"cosine\",\"cosine\",\"cosine\",\"cosine\",\"cosine\",\"cosine\",\"cosine\",\"cosine\",\"cosine\",\"cosine\",\"cosine\",\"cosine\",\"cosine\",\"cosine\",\"tversky\",\"cosine\",\"cosine\",\"cosine\",\"cosine\",\"asymmetric\",\"cosine\",\"euclidean\",\"cosine\",\"cosine\",\"cosine\",\"cosine\",\"cosine\",\"cosine\",\"cosine\",\"cosine\",\"cosine\",\"cosine\",\"cosine\",\"cosine\",\"cosine\",\"cosine\",\"cosine\",\"cosine\",\"cosine\",\"tversky\",\"cosine\",\"asymmetric\",\"euclidean\",\"cosine\",\"cosine\",\"cosine\",\"cosine\",\"cosine\",\"cosine\",\"dice\",\"cosine\",\"cosine\",\"cosine\",\"cosine\",\"cosine\",\"cosine\",\"cosine\",\"cosine\",\"cosine\",\"cosine\",\"cosine\",\"cosine\",\"cosine\",\"cosine\",\"cosine\",\"cosine\",\"cosine\",\"cosine\",\"cosine\",\"cosine\",\"cosine\",\"cosine\",\"cosine\",\"asymmetric\",\"tversky\",\"cosine\",\"cosine\",\"cosine\",\"cosine\",\"cosine\",\"euclidean\",\"cosine\",\"dice\",\"cosine\",\"cosine\",\"cosine\",\"cosine\",\"cosine\",\"cosine\",\"cosine\",\"cosine\",\"cosine\",\"cosine\",\"cosine\",\"cosine\",\"cosine\",\"cosine\",\"cosine\",\"cosine\",\"cosine\",\"cosine\",\"cosine\",\"cosine\",\"cosine\",\"cosine\",\"cosine\",\"cosine\",\"cosine\",\"cosine\",\"cosine\",\"cosine\",\"cosine\",\"cosine\",\"cosine\",\"tversky\",\"cosine\",\"cosine\",\"cosine\",\"cosine\",\"asymmetric\",\"cosine\",\"cosine\",\"cosine\",\"euclidean\",\"dice\",\"cosine\",\"cosine\",\"cosine\",\"cosine\",\"cosine\",\"cosine\",\"cosine\",\"cosine\",\"cosine\",\"cosine\",\"cosine\",\"cosine\",\"cosine\",\"cosine\",\"cosine\",\"cosine\",\"cosine\",\"cosine\",\"cosine\",\"cosine\",\"cosine\",\"cosine\",\"cosine\",\"cosine\",\"cosine\",\"cosine\",\"cosine\",\"cosine\",\"tversky\",\"cosine\",\"asymmetric\",\"cosine\",\"cosine\",\"euclidean\",\"cosine\",\"cosine\",\"dice\",\"cosine\",\"cosine\",\"cosine\",\"cosine\",\"cosine\",\"cosine\",\"cosine\",\"cosine\",\"cosine\",\"cosine\",\"cosine\",\"cosine\",\"cosine\",\"cosine\",\"cosine\",\"cosine\",\"cosine\",\"cosine\",\"cosine\",\"tversky\",\"cosine\",\"cosine\",\"euclidean\",\"asymmetric\",\"cosine\",\"cosine\",\"cosine\",\"dice\",\"cosine\",\"cosine\",\"cosine\",\"cosine\",\"cosine\",\"cosine\",\"cosine\",\"cosine\",\"cosine\",\"cosine\",\"cosine\",\"cosine\",\"cosine\",\"cosine\",\"cosine\",\"cosine\",\"cosine\",\"tversky\",\"cosine\",\"asymmetric\",\"cosine\",\"cosine\",\"euclidean\",\"cosine\",\"cosine\",\"cosine\",\"dice\",\"cosine\",\"cosine\",\"cosine\",\"cosine\",\"cosine\",\"cosine\",\"cosine\",\"cosine\",\"cosine\",\"cosine\",\"cosine\",\"cosine\",\"cosine\",\"cosine\",\"cosine\",\"cosine\",\"cosine\",\"tversky\",\"cosine\",\"cosine\",\"asymmetric\",\"cosine\",\"euclidean\",\"cosine\",\"cosine\",\"dice\",\"cosine\",\"cosine\",\"cosine\",\"cosine\",\"cosine\",\"cosine\",\"cosine\",\"cosine\",\"cosine\",\"cosine\",\"cosine\",\"cosine\",\"cosine\",\"cosine\",\"cosine\",\"cosine\",\"cosine\",\"cosine\",\"cosine\",\"tversky\",\"cosine\",\"asymmetric\",\"cosine\",\"cosine\",\"jaccard\",\"euclidean\",\"cosine\",\"cosine\",\"dice\",\"cosine\",\"cosine\",\"cosine\",\"cosine\",\"cosine\",\"cosine\",\"cosine\",\"cosine\",\"cosine\",\"cosine\",\"cosine\",\"cosine\",\"cosine\",\"cosine\",\"cosine\",\"cosine\",\"cosine\",\"cosine\",\"tversky\",\"cosine\",\"cosine\",\"cosine\",\"asymmetric\",\"jaccard\",\"cosine\",\"euclidean\",\"cosine\",\"cosine\",\"dice\",\"cosine\",\"cosine\",\"cosine\",\"cosine\",\"cosine\",\"cosine\",\"cosine\",\"cosine\",\"cosine\",\"cosine\",\"cosine\",\"cosine\",\"cosine\",\"cosine\",\"cosine\",\"cosine\",\"cosine\",\"cosine\",\"cosine\",\"cosine\",\"tversky\",\"asymmetric\",\"jaccard\",\"cosine\",\"cosine\",\"euclidean\",\"cosine\",\"cosine\",\"cosine\",\"dice\",\"cosine\",\"cosine\",\"cosine\",\"cosine\",\"cosine\",\"cosine\",\"cosine\",\"cosine\",\"cosine\",\"cosine\",\"cosine\",\"cosine\",\"cosine\",\"cosine\",\"cosine\",\"cosine\",\"cosine\",\"tversky\",\"cosine\",\"jaccard\",\"cosine\",\"cosine\",\"asymmetric\",\"cosine\",\"euclidean\",\"cosine\",\"cosine\",\"dice\",\"cosine\",\"cosine\",\"cosine\",\"cosine\",\"cosine\",\"cosine\",\"cosine\",\"cosine\",\"cosine\",\"cosine\",\"cosine\",\"cosine\",\"cosine\",\"cosine\",\"cosine\",\"cosine\",\"cosine\",\"cosine\",\"tversky\",\"jaccard\",\"cosine\",\"asymmetric\",\"cosine\",\"cosine\",\"cosine\",\"cosine\",\"euclidean\",\"cosine\",\"dice\",\"cosine\",\"cosine\",\"cosine\",\"cosine\",\"cosine\",\"cosine\"],\"y\":[0.23148330284290042,0.13624718955739376,0.1471750754734151,0.17665494281875593,0.22605954763810066,0.20349984418451744,0.1972443703365315,0.19482189997815597,0.17637428068323063,0.22522086925996349,0.22319422054210195,0.2304573118495677,0.17144150147345222,0.2320857319855421,0.23275752848559866,0.23171090388175025,0.2127854379593969,0.23970748561893918,0.240483947366465,0.22505091809824102,0.24092850196791454,0.24090856193617882,0.2355894386586912,0.24176958909342275,0.23873396992488702,0.24254635065272973,0.24957153157159687,0.24888446910334255,0.23541728054090555,0.2516468092914111,0.25443769162528307,0.2548065564830398,0.25372594137621196,0.2542656062806814,0.2510363291879291,0.21729222252899047,0.2542230921973612,0.23936386771471282,0.23272192674389913,0.2430012686796093,0.2445792335742334,0.2508384206817508,0.2555594698275499,0.25216047372169353,0.09889549888703199,0.21599737636144267,0.23142058460597698,0.24626551129669433,0.22726151671351763,0.23969296349398544,0.24756067995173195,0.25530024248415983,0.25560379420324086,0.25571632981331993,0.25565640365780096,0.08043575093375183,0.21855068461434887,0.24773265987949525,0.054672355535981446,0.22372828175047949,0.2358642124673164,0.2553778916070521,0.2568086807011941,0.2558789323947374,0.2552056581054293,0.2455116840403182,0.2152355960719305,0.0055265346604531345,0.11067393242761561,0.22608833450679114,0.233145956015041,0.2547298553411854,0.24897096109001587,0.2576156616761005,0.25744981266166433,0.21698334053455676,0.2575202661872857,0.2561060665645264,0.25578135216037295,0.25494998947199676,0.2538111399898332,0.2559646138359945,0.25582035948664855,0.2559897184094767,0.2559974523038986,0.2533678262625595,0.2562629450364597,0.2523955512395206,0.25646652209648685,0.2501219720024811,0.2485134954588148,0.25647034080192216,0.2551863355191928,0.2565211778203894,0.2565991891007239,0.25422240615921754,0.24847896854246318,0.2578990980248367,0.25753610102787367,0.25964283046146747,0.25917266297874675,0.258279823411374,0.2598612810007102,0.2596685152716735,0.2593783948294804,0.25918602878015073,0.25919092214299544,0.25919132087475044,0.2583387599220447,0.2585890395914807,0.21708510837470243,0.2587061884464763,0.2589839874559213,0.2589583376145547,0.25863546012247757,0.25885640146171823,0.25970924597612643,0.2600522358728864,0.2597082707062577,0.25826614004087733,0.21113037843336824,0.2599951255124881,0.2600831369621336,0.26007342166596137,0.2602208581514182,0.124809511033937,0.24869521280564416,0.055944053866720675,0.0055265346604531345,0.2600945614984461,0.260019690529778,0.2602939568788393,0.26015952543770826,0.2600300024230263,0.2601363510062749,0.2600263645507829,0.2600216894749122,0.25986158212031707,0.23112299979914588,0.258406550449704,0.2563362950505154,0.25987593054671143,0.25809501891627473,0.2600722602929655,0.2592606292932317,0.23251582536931018,0.25844008266429297,0.24438533737019758,0.1047407367488387,0.25840097475794127,0.2563216651426966,0.2598256616300174,0.24862544044376894,0.2601035905209292,0.2602726153027083,0.22736937727738943,0.2585028479772481,0.0055265346604531345,0.2307749488633813,0.2601695123332381,0.2590679863270371,0.2601695123332381,0.2601854248411634,0.25797448558814523,0.26021846822095585,0.2588010860733287,0.26015684881002554,0.25744117476851935,0.0055265346604531345,0.2602098221402436,0.0055265346604531345,0.2602967190708516,0.26030777685753526,0.2587079872788002,0.2602398571830838,0.2600797939695729,0.25878144958385246,0.2601141247441451,0.2580234098585182,0.24964093523736391,0.23835958795670487,0.2601999026823316,0.25908841948201733,0.0055265346604531345,0.26014436975609867,0.252680413487203,0.14577658713529842,0.25909516298509416,0.25835488067699763,0.25841751302486693,0.2593481385474267,0.2602909363743621,0.26020579220238493,0.25996299344736007,0.0055265346604531345,0.26021464860255117,0.25996258609179124,0.260148938520933,0.251475362966174,0.2592997343508444,0.26021746435997634,0.26026967279496155,0.25973168609259234,0.25956870479820804,0.15723541587884352,0.2602150234922539,0.2587655274981736,0.2601907058553735,0.2579695019688275,0.2597590106646209,0.26020274354136347,0.26021746435997634,0.25918609774315415,0.2602304128932977,0.0055265346604531345,0.2600048907447058,0.25898286532965625,0.26003591850712676,0.25955447200453297,0.25835700679338836,0.23143347632150107,0.2601496975882339,0.26023387066960185,0.2592878663097236,0.25947503718498066,0.12081679500471895,0.23194952716433268,0.2571584636359604,0.2593115432955166,0.22653160301581338,0.23114123541862147,0.2602284434081664,0.260170469264755,0.25900203441061187,0.0055265346604531345,0.26020109143156656,0.2593904519297865,0.2601949006087537,0.25972130209036765,0.25880710274682955,0.0055265346604531345,0.2602256159803388,0.25989067700252066,0.2601754809322693,0.2596268953818736,0.2602288515369037,0.25951884223100213,0.26018302358003814,0.2590879673112943,0.25958295616772503,0.26018595633990504,0.25955719105953917,0.25787750019155997,0.25930265616957976,0.2597042449670595,0.0055265346604531345,0.2602584809607259,0.23011156573280486,0.2587367168817073,0.0055265346604531345,0.26007023824899744,0.20937287642597688,0.26028008884807147,0.2593807253561915,0.09553855607140857,0.2599422480992969,0.26010841108429805,0.22476821283625031,0.259786569921156,0.2600146054175172,0.25937865695511186,0.0055265346604531345,0.2590838442103591,0.25808956918456116,0.2602203281578796,0.2597317041640639,0.2602112037161034,0.25957325982143475,0.258877519296107,0.2602381414271046,0.22945208899693456,0.25744764276503185,0.2601389618318306,0.25862269615460065,0.0055265346604531345,0.25943561873427423,0.2602278701134813,0.23464555602847445,0.2599600968746837,0.25109521608492075,0.22616600296427292,0.24902297133649398,0.15980766326376777,0.2585037107282405,0.25959143225865944,0.23005291874778028,0.0055265346604531345,0.2600550790310071,0.2587447097389494,0.25083312841401195,0.2594651705326456,0.22958111317103339,0.24941654283595271,0.2579482547122322,0.2601834638208213,0.2590896987297058,0.25994874879872176,0.2566554050110399,0.25015859489277437,0.2600386104686468,0.2592319521116402,0.2585951255947024,0.26008564469795814,0.21741802503013158,0.2539877203172722,0.0055265346604531345,0.2589570531637072,0.25770568201608424,0.0880585795268939,0.25938500137216963,0.2597812568469251,0.23116128426210455,0.2291441194798381,0.24985205544205963,0.15850607801390945,0.26016129018239126,0.2597370506135189,0.2600367201176465,0.25717057614970573,0.24831692697656357,0.2582856987402793,0.25941580123030095,0.25902385793599475,0.2602165828964806,0.0055265346604531345,0.259047320965904,0.2602042368707474,0.2582206446586085,0.26008694878407146,0.25971224492230577,0.2218098485066912,0.25197504054199743,0.25329318927483335,0.22890498543350976,0.26016787043909445,0.24097187263705983,0.2596410261874563,0.0055265346604531345,0.2263192919508843,0.2602107262461635,0.2591413763276285,0.2599697764094289,0.2599035287571607,0.24912732627669434,0.25853454670141957,0.0055265346604531345,0.2602479563416023,0.2570647641626406,0.2597794014276498,0.26011505151287,0.258378248473657,0.2593672598844204,0.2594305608338029,0.2602377722326518,0.21747323800604795,0.25786216947937035,0.2589923283179569,0.22930192799671553,0.23437172886744215,0.259471311198238,0.12423199534280256,0.2585635275207351,0.2601621662418898,0.2291377094869344,0.09136125441898482,0.0055265346604531345,0.26025539263972364,0.22613615098541356,0.25812082386342944,0.2587782732977528,0.26022759304269494,0.0055265346604531345,0.26023420611156195,0.2599532557543383,0.25122404967421585,0.2595217911182349,0.21837846063315292,0.2585744677146846,0.2525903908945561,0.23135724063380453,0.25050400302757386,0.2593617169659936,0.2600063671313236,0.259550281077439,0.2576169219628822,0.25864445652737356,0.21526253969522138,0.1587515171345776,0.2599170715747089,0.2590987364778049,0.25161241253935335,0.0055265346604531345,0.2602354350090934,0.21568719784113383,0.2582417723800057,0.26021629845031924,0.2249226784457174,0.26004879526486435,0.25969059714374343,0.21984525305723507,0.0055265346604531345,0.26030932919014205,0.22957241721625093,0.2599196639567832,0.25736517507920914,0.2602943453657022,0.25878144958385246,0.2596474649178281,0.26001368722739227,0.0055265346604531345,0.25914461700733715,0.2602909363743621,0.26022258635489964,0.2582244198596249,0.25999384532474223,0.25966079018410293,0.2587475879629773,0.21966113663044595,0.2077995646213308,0.22745558700225602,0.25940255367569615,0.21869407353698395,0.0730533295602892,0.2583681131252991,0.2593052433093101,0.0055265346604531345,0.2575467943131183,0.2602588626378052,0.2588132446671249,0.2601430863086486,0.25980703888924817,0.2594272506890332,0.25830630997380244,0.0055265346604531345,0.26016596222143695,0.25928500089234047,0.2597664437273418,0.2601555057914077,0.25565182482116927,0.25753992907091217,0.2588869456432543,0.2597111251745622,0.25994013204426897,0.25951884223100213,0.22515122483136155,0.0055265346604531345,0.2275176733713244,0.26025157902653767,0.2586679212832642,0.2580493632401571,0.0055265346604531345,0.2157806709888035,0.26027144997400836,0.2580004890827271,0.23122523985177565,0.25881758397912435,0.26017211243352223,0.26009334454080163,0.2567786022580739,0.2592460258953557,0.2580568728872543,0.2602116520835973,0.2596326284048935,0.0055265346604531345,0.259432322661013,0.2184415577017529,0.2601799016771452,0.2588993606297075,0.25443746344604556,0.26008318966057925,0.2598474024260215,0.2295737646501374,0.26024538958526555,0.2288159559506609,0.23231146959485285,0.0055265346604531345,0.1085759834687818,0.260172108804372,0.25882429419848485,0.2597104101892449,0.2597756264281478,0.0869794028164759,0.2591295629637894,0.23165514271750293,0.0055265346604531345,0.2581727935225413,0.25159807661144884,0.25952463494336436,0.2597784926295728,0.21936910173109378],\"type\":\"scatter\",\"xaxis\":\"x6\",\"yaxis\":\"y6\"},{\"marker\":{\"color\":[1,2,3,8,44,55,68,127,148,186,229,264,290,318,345,374,403,432,461,491],\"colorbar\":{\"title\":{\"text\":\"Trial\"},\"x\":1.0,\"xpad\":40},\"colorscale\":[[0.0,\"rgb(247,251,255)\"],[0.125,\"rgb(222,235,247)\"],[0.25,\"rgb(198,219,239)\"],[0.375,\"rgb(158,202,225)\"],[0.5,\"rgb(107,174,214)\"],[0.625,\"rgb(66,146,198)\"],[0.75,\"rgb(33,113,181)\"],[0.875,\"rgb(8,81,156)\"],[1.0,\"rgb(8,48,107)\"]],\"line\":{\"color\":\"Grey\",\"width\":0.5},\"showscale\":false},\"mode\":\"markers\",\"name\":\"Feasible Trial\",\"showlegend\":false,\"x\":[\"lin\",\"exp\",\"log\",\"lin\",\"exp\",\"log\",\"log\",\"exp\",\"lin\",\"log\",\"exp\",\"lin\",\"exp\",\"log\",\"lin\",\"lin\",\"log\",\"exp\",\"exp\",\"lin\"],\"y\":[0.13624718955739376,0.1471750754734151,0.17665494281875593,0.17637428068323063,0.09889549888703199,0.08043575093375183,0.11067393242761561,0.055944053866720675,0.1047407367488387,0.14577658713529842,0.22653160301581338,0.09553855607140857,0.22616600296427292,0.0880585795268939,0.24097187263705983,0.09136125441898482,0.21568719784113383,0.0730533295602892,0.2157806709888035,0.0869794028164759],\"type\":\"scatter\",\"xaxis\":\"x7\",\"yaxis\":\"y7\"},{\"marker\":{\"color\":[0,1,2,3,4,5,6,7,8,9,10,11,12,13,14,15,16,17,18,19,20,21,22,23,24,25,26,27,28,29,30,31,32,33,34,35,36,37,38,39,40,41,42,43,44,45,46,47,48,49,50,51,52,53,54,55,56,57,58,59,60,61,62,63,64,65,66,67,68,69,70,71,72,73,74,75,76,77,78,79,80,81,82,83,84,85,86,87,88,89,90,91,92,93,94,95,96,97,98,99,100,101,102,103,104,105,106,107,108,109,110,111,112,113,114,115,116,117,118,119,120,121,122,123,124,125,126,127,128,129,130,131,132,133,134,135,136,137,138,139,140,141,142,143,144,145,146,147,148,149,150,151,152,153,154,155,156,157,158,159,160,161,162,163,164,165,166,167,168,169,170,171,172,173,174,175,176,177,178,179,180,181,182,183,184,185,186,187,188,189,190,191,192,193,194,195,196,197,198,199,200,201,202,203,204,205,206,207,208,209,210,211,212,213,214,215,216,217,218,219,220,221,222,223,224,225,226,227,228,229,230,231,232,233,234,235,236,237,238,239,240,241,242,243,244,245,246,247,248,249,250,251,252,253,254,255,256,257,258,259,260,261,262,263,264,265,266,267,268,269,270,271,272,273,274,275,276,277,278,279,280,281,282,283,284,285,286,287,288,289,290,291,292,293,294,295,296,297,298,299,300,301,302,303,304,305,306,307,308,309,310,311,312,313,314,315,316,317,318,319,320,321,322,323,324,325,326,327,328,329,330,331,332,333,334,335,336,337,338,339,340,341,342,343,344,345,346,347,348,349,350,351,352,353,354,355,356,357,358,359,360,361,362,363,364,365,366,367,368,369,370,371,372,373,374,375,376,377,378,379,380,381,382,383,384,385,386,387,388,389,390,391,392,393,394,395,396,397,398,399,400,401,402,403,404,405,406,407,408,409,410,411,412,413,414,415,416,417,418,419,420,421,422,423,424,425,426,427,428,429,430,431,432,433,434,435,436,437,438,439,440,441,442,443,444,445,446,447,448,449,450,451,452,453,454,455,456,457,458,459,460,461,462,463,464,465,466,467,468,469,470,471,472,473,474,475,476,477,478,479,480,481,482,483,484,485,486,487,488,489,490,491,492,493,494,495,496,497,498,499],\"colorbar\":{\"title\":{\"text\":\"Trial\"},\"x\":1.0,\"xpad\":40},\"colorscale\":[[0.0,\"rgb(247,251,255)\"],[0.125,\"rgb(222,235,247)\"],[0.25,\"rgb(198,219,239)\"],[0.375,\"rgb(158,202,225)\"],[0.5,\"rgb(107,174,214)\"],[0.625,\"rgb(66,146,198)\"],[0.75,\"rgb(33,113,181)\"],[0.875,\"rgb(8,81,156)\"],[1.0,\"rgb(8,48,107)\"]],\"line\":{\"color\":\"Grey\",\"width\":0.5},\"showscale\":false},\"mode\":\"markers\",\"name\":\"Feasible Trial\",\"showlegend\":false,\"x\":[28,707,529,93,389,596,404,405,88,576,216,257,18,195,227,240,160,314,297,347,303,306,479,326,450,304,138,150,135,69,65,61,64,59,42,2,63,107,749,49,182,103,51,9,108,36,84,188,630,128,70,53,31,25,22,3,15,31,97,162,264,38,20,27,29,30,116,0,83,84,28,45,50,19,23,2,20,83,86,121,144,77,84,83,75,161,71,204,72,367,545,75,103,65,62,128,447,55,62,15,12,50,17,16,14,12,12,11,9,43,2,42,40,42,45,43,15,19,14,8,9,16,17,17,20,26,619,2,0,30,31,24,26,30,27,30,29,34,31,56,96,34,61,31,42,30,55,31,277,54,96,34,697,31,28,69,53,0,28,26,45,26,28,63,27,47,26,71,0,22,0,21,21,48,21,19,47,18,60,420,22,24,41,0,19,239,513,41,23,56,39,20,18,15,0,20,15,18,332,42,24,23,14,38,1,24,53,27,61,35,27,24,43,24,0,17,47,30,12,57,34,22,26,11,39,27,50,73,11,27,42,25,23,10,0,24,39,20,13,53,0,24,34,19,37,22,12,23,46,12,25,38,61,11,37,0,24,18,49,0,30,51,21,39,67,15,31,49,14,29,11,0,41,62,23,36,18,12,47,22,12,72,25,53,0,38,18,38,16,373,27,675,1,55,37,16,0,26,52,397,38,15,558,65,26,43,16,86,465,29,11,53,30,14,182,0,44,67,24,39,14,31,52,504,1,23,36,16,76,741,55,38,11,25,0,46,26,60,30,13,269,286,210,46,26,12,37,0,64,24,44,16,33,596,51,0,22,76,35,25,55,11,40,22,30,64,44,11,23,38,12,52,26,11,37,0,25,82,62,47,24,0,21,15,347,38,22,52,243,36,421,11,29,12,68,51,32,1,15,42,25,0,22,40,59,21,98,16,36,49,0,22,14,31,70,22,47,12,30,0,40,20,18,59,32,13,48,26,12,78,38,24,641,57,11,0,38,24,48,26,14,38,58,0,26,41,14,26,112,70,47,13,32,12,32,0,58,24,45,20,0,40,22,64,35,51,19,30,84,11,47,28,12,0,38,63,24,48,162,17,34,13,27,54,35,0,70,25,47,14,35,21,45,24,0,60,326,13,35,25],\"y\":[0.23148330284290042,0.13624718955739376,0.1471750754734151,0.17665494281875593,0.22605954763810066,0.20349984418451744,0.1972443703365315,0.19482189997815597,0.17637428068323063,0.22522086925996349,0.22319422054210195,0.2304573118495677,0.17144150147345222,0.2320857319855421,0.23275752848559866,0.23171090388175025,0.2127854379593969,0.23970748561893918,0.240483947366465,0.22505091809824102,0.24092850196791454,0.24090856193617882,0.2355894386586912,0.24176958909342275,0.23873396992488702,0.24254635065272973,0.24957153157159687,0.24888446910334255,0.23541728054090555,0.2516468092914111,0.25443769162528307,0.2548065564830398,0.25372594137621196,0.2542656062806814,0.2510363291879291,0.21729222252899047,0.2542230921973612,0.23936386771471282,0.23272192674389913,0.2430012686796093,0.2445792335742334,0.2508384206817508,0.2555594698275499,0.25216047372169353,0.09889549888703199,0.21599737636144267,0.23142058460597698,0.24626551129669433,0.22726151671351763,0.23969296349398544,0.24756067995173195,0.25530024248415983,0.25560379420324086,0.25571632981331993,0.25565640365780096,0.08043575093375183,0.21855068461434887,0.24773265987949525,0.054672355535981446,0.22372828175047949,0.2358642124673164,0.2553778916070521,0.2568086807011941,0.2558789323947374,0.2552056581054293,0.2455116840403182,0.2152355960719305,0.0055265346604531345,0.11067393242761561,0.22608833450679114,0.233145956015041,0.2547298553411854,0.24897096109001587,0.2576156616761005,0.25744981266166433,0.21698334053455676,0.2575202661872857,0.2561060665645264,0.25578135216037295,0.25494998947199676,0.2538111399898332,0.2559646138359945,0.25582035948664855,0.2559897184094767,0.2559974523038986,0.2533678262625595,0.2562629450364597,0.2523955512395206,0.25646652209648685,0.2501219720024811,0.2485134954588148,0.25647034080192216,0.2551863355191928,0.2565211778203894,0.2565991891007239,0.25422240615921754,0.24847896854246318,0.2578990980248367,0.25753610102787367,0.25964283046146747,0.25917266297874675,0.258279823411374,0.2598612810007102,0.2596685152716735,0.2593783948294804,0.25918602878015073,0.25919092214299544,0.25919132087475044,0.2583387599220447,0.2585890395914807,0.21708510837470243,0.2587061884464763,0.2589839874559213,0.2589583376145547,0.25863546012247757,0.25885640146171823,0.25970924597612643,0.2600522358728864,0.2597082707062577,0.25826614004087733,0.21113037843336824,0.2599951255124881,0.2600831369621336,0.26007342166596137,0.2602208581514182,0.124809511033937,0.24869521280564416,0.055944053866720675,0.0055265346604531345,0.2600945614984461,0.260019690529778,0.2602939568788393,0.26015952543770826,0.2600300024230263,0.2601363510062749,0.2600263645507829,0.2600216894749122,0.25986158212031707,0.23112299979914588,0.258406550449704,0.2563362950505154,0.25987593054671143,0.25809501891627473,0.2600722602929655,0.2592606292932317,0.23251582536931018,0.25844008266429297,0.24438533737019758,0.1047407367488387,0.25840097475794127,0.2563216651426966,0.2598256616300174,0.24862544044376894,0.2601035905209292,0.2602726153027083,0.22736937727738943,0.2585028479772481,0.0055265346604531345,0.2307749488633813,0.2601695123332381,0.2590679863270371,0.2601695123332381,0.2601854248411634,0.25797448558814523,0.26021846822095585,0.2588010860733287,0.26015684881002554,0.25744117476851935,0.0055265346604531345,0.2602098221402436,0.0055265346604531345,0.2602967190708516,0.26030777685753526,0.2587079872788002,0.2602398571830838,0.2600797939695729,0.25878144958385246,0.2601141247441451,0.2580234098585182,0.24964093523736391,0.23835958795670487,0.2601999026823316,0.25908841948201733,0.0055265346604531345,0.26014436975609867,0.252680413487203,0.14577658713529842,0.25909516298509416,0.25835488067699763,0.25841751302486693,0.2593481385474267,0.2602909363743621,0.26020579220238493,0.25996299344736007,0.0055265346604531345,0.26021464860255117,0.25996258609179124,0.260148938520933,0.251475362966174,0.2592997343508444,0.26021746435997634,0.26026967279496155,0.25973168609259234,0.25956870479820804,0.15723541587884352,0.2602150234922539,0.2587655274981736,0.2601907058553735,0.2579695019688275,0.2597590106646209,0.26020274354136347,0.26021746435997634,0.25918609774315415,0.2602304128932977,0.0055265346604531345,0.2600048907447058,0.25898286532965625,0.26003591850712676,0.25955447200453297,0.25835700679338836,0.23143347632150107,0.2601496975882339,0.26023387066960185,0.2592878663097236,0.25947503718498066,0.12081679500471895,0.23194952716433268,0.2571584636359604,0.2593115432955166,0.22653160301581338,0.23114123541862147,0.2602284434081664,0.260170469264755,0.25900203441061187,0.0055265346604531345,0.26020109143156656,0.2593904519297865,0.2601949006087537,0.25972130209036765,0.25880710274682955,0.0055265346604531345,0.2602256159803388,0.25989067700252066,0.2601754809322693,0.2596268953818736,0.2602288515369037,0.25951884223100213,0.26018302358003814,0.2590879673112943,0.25958295616772503,0.26018595633990504,0.25955719105953917,0.25787750019155997,0.25930265616957976,0.2597042449670595,0.0055265346604531345,0.2602584809607259,0.23011156573280486,0.2587367168817073,0.0055265346604531345,0.26007023824899744,0.20937287642597688,0.26028008884807147,0.2593807253561915,0.09553855607140857,0.2599422480992969,0.26010841108429805,0.22476821283625031,0.259786569921156,0.2600146054175172,0.25937865695511186,0.0055265346604531345,0.2590838442103591,0.25808956918456116,0.2602203281578796,0.2597317041640639,0.2602112037161034,0.25957325982143475,0.258877519296107,0.2602381414271046,0.22945208899693456,0.25744764276503185,0.2601389618318306,0.25862269615460065,0.0055265346604531345,0.25943561873427423,0.2602278701134813,0.23464555602847445,0.2599600968746837,0.25109521608492075,0.22616600296427292,0.24902297133649398,0.15980766326376777,0.2585037107282405,0.25959143225865944,0.23005291874778028,0.0055265346604531345,0.2600550790310071,0.2587447097389494,0.25083312841401195,0.2594651705326456,0.22958111317103339,0.24941654283595271,0.2579482547122322,0.2601834638208213,0.2590896987297058,0.25994874879872176,0.2566554050110399,0.25015859489277437,0.2600386104686468,0.2592319521116402,0.2585951255947024,0.26008564469795814,0.21741802503013158,0.2539877203172722,0.0055265346604531345,0.2589570531637072,0.25770568201608424,0.0880585795268939,0.25938500137216963,0.2597812568469251,0.23116128426210455,0.2291441194798381,0.24985205544205963,0.15850607801390945,0.26016129018239126,0.2597370506135189,0.2600367201176465,0.25717057614970573,0.24831692697656357,0.2582856987402793,0.25941580123030095,0.25902385793599475,0.2602165828964806,0.0055265346604531345,0.259047320965904,0.2602042368707474,0.2582206446586085,0.26008694878407146,0.25971224492230577,0.2218098485066912,0.25197504054199743,0.25329318927483335,0.22890498543350976,0.26016787043909445,0.24097187263705983,0.2596410261874563,0.0055265346604531345,0.2263192919508843,0.2602107262461635,0.2591413763276285,0.2599697764094289,0.2599035287571607,0.24912732627669434,0.25853454670141957,0.0055265346604531345,0.2602479563416023,0.2570647641626406,0.2597794014276498,0.26011505151287,0.258378248473657,0.2593672598844204,0.2594305608338029,0.2602377722326518,0.21747323800604795,0.25786216947937035,0.2589923283179569,0.22930192799671553,0.23437172886744215,0.259471311198238,0.12423199534280256,0.2585635275207351,0.2601621662418898,0.2291377094869344,0.09136125441898482,0.0055265346604531345,0.26025539263972364,0.22613615098541356,0.25812082386342944,0.2587782732977528,0.26022759304269494,0.0055265346604531345,0.26023420611156195,0.2599532557543383,0.25122404967421585,0.2595217911182349,0.21837846063315292,0.2585744677146846,0.2525903908945561,0.23135724063380453,0.25050400302757386,0.2593617169659936,0.2600063671313236,0.259550281077439,0.2576169219628822,0.25864445652737356,0.21526253969522138,0.1587515171345776,0.2599170715747089,0.2590987364778049,0.25161241253935335,0.0055265346604531345,0.2602354350090934,0.21568719784113383,0.2582417723800057,0.26021629845031924,0.2249226784457174,0.26004879526486435,0.25969059714374343,0.21984525305723507,0.0055265346604531345,0.26030932919014205,0.22957241721625093,0.2599196639567832,0.25736517507920914,0.2602943453657022,0.25878144958385246,0.2596474649178281,0.26001368722739227,0.0055265346604531345,0.25914461700733715,0.2602909363743621,0.26022258635489964,0.2582244198596249,0.25999384532474223,0.25966079018410293,0.2587475879629773,0.21966113663044595,0.2077995646213308,0.22745558700225602,0.25940255367569615,0.21869407353698395,0.0730533295602892,0.2583681131252991,0.2593052433093101,0.0055265346604531345,0.2575467943131183,0.2602588626378052,0.2588132446671249,0.2601430863086486,0.25980703888924817,0.2594272506890332,0.25830630997380244,0.0055265346604531345,0.26016596222143695,0.25928500089234047,0.2597664437273418,0.2601555057914077,0.25565182482116927,0.25753992907091217,0.2588869456432543,0.2597111251745622,0.25994013204426897,0.25951884223100213,0.22515122483136155,0.0055265346604531345,0.2275176733713244,0.26025157902653767,0.2586679212832642,0.2580493632401571,0.0055265346604531345,0.2157806709888035,0.26027144997400836,0.2580004890827271,0.23122523985177565,0.25881758397912435,0.26017211243352223,0.26009334454080163,0.2567786022580739,0.2592460258953557,0.2580568728872543,0.2602116520835973,0.2596326284048935,0.0055265346604531345,0.259432322661013,0.2184415577017529,0.2601799016771452,0.2588993606297075,0.25443746344604556,0.26008318966057925,0.2598474024260215,0.2295737646501374,0.26024538958526555,0.2288159559506609,0.23231146959485285,0.0055265346604531345,0.1085759834687818,0.260172108804372,0.25882429419848485,0.2597104101892449,0.2597756264281478,0.0869794028164759,0.2591295629637894,0.23165514271750293,0.0055265346604531345,0.2581727935225413,0.25159807661144884,0.25952463494336436,0.2597784926295728,0.21936910173109378],\"type\":\"scatter\",\"xaxis\":\"x8\",\"yaxis\":\"y8\"},{\"marker\":{\"color\":[4,9,45,50,66,120,145,180,220,259,287,313,340,368,396,427,454,483],\"colorbar\":{\"title\":{\"text\":\"Trial\"},\"x\":1.0,\"xpad\":40},\"colorscale\":[[0.0,\"rgb(247,251,255)\"],[0.125,\"rgb(222,235,247)\"],[0.25,\"rgb(198,219,239)\"],[0.375,\"rgb(158,202,225)\"],[0.5,\"rgb(107,174,214)\"],[0.625,\"rgb(66,146,198)\"],[0.75,\"rgb(33,113,181)\"],[0.875,\"rgb(8,81,156)\"],[1.0,\"rgb(8,48,107)\"]],\"line\":{\"color\":\"Grey\",\"width\":0.5},\"showscale\":false},\"mode\":\"markers\",\"name\":\"Feasible Trial\",\"showlegend\":false,\"x\":[0.002773552710161331,0.012186413739336377,1.9589324692384469,1.3266837259233304,0.8306481932855818,0.8067298376548713,1.7113331433700558,0.44645192794332345,1.30076447023733,0.4756336408642483,1.3669547158153499,0.46900337037410833,1.6097015695752648,1.0300642748095459,1.9956336986166412,0.2469751121275796,1.0276052631032513,0.7556217368655225],\"y\":[0.22605954763810066,0.22522086925996349,0.21599737636144267,0.24756067995173195,0.2152355960719305,0.21113037843336824,0.23251582536931018,0.23835958795670487,0.23143347632150107,0.0055265346604531345,0.23464555602847445,0.21741802503013158,0.2218098485066912,0.23437172886744215,0.21526253969522138,0.21966113663044595,0.22515122483136155,0.2288159559506609],\"type\":\"scatter\",\"xaxis\":\"x9\",\"yaxis\":\"y9\"},{\"marker\":{\"color\":[4,9,45,50,66,120,145,180,220,259,287,313,340,368,396,427,454,483],\"colorbar\":{\"title\":{\"text\":\"Trial\"},\"x\":1.0,\"xpad\":40},\"colorscale\":[[0.0,\"rgb(247,251,255)\"],[0.125,\"rgb(222,235,247)\"],[0.25,\"rgb(198,219,239)\"],[0.375,\"rgb(158,202,225)\"],[0.5,\"rgb(107,174,214)\"],[0.625,\"rgb(66,146,198)\"],[0.75,\"rgb(33,113,181)\"],[0.875,\"rgb(8,81,156)\"],[1.0,\"rgb(8,48,107)\"]],\"line\":{\"color\":\"Grey\",\"width\":0.5},\"showscale\":false},\"mode\":\"markers\",\"name\":\"Feasible Trial\",\"showlegend\":false,\"x\":[0.610671904065073,1.4416409845921037,0.01962289550447016,1.95347608801205,0.8823383845412239,0.2874035369552379,1.4127330315232332,1.9709020362287026,1.224578477161475,0.6878494702791231,1.675650354704799,0.29323403065756626,1.0232320873041325,1.6360338344378085,0.01114539511178636,0.4903183358945513,0.9309285499445845,1.136254542519333],\"y\":[0.22605954763810066,0.22522086925996349,0.21599737636144267,0.24756067995173195,0.2152355960719305,0.21113037843336824,0.23251582536931018,0.23835958795670487,0.23143347632150107,0.0055265346604531345,0.23464555602847445,0.21741802503013158,0.2218098485066912,0.23437172886744215,0.21526253969522138,0.21966113663044595,0.22515122483136155,0.2288159559506609],\"type\":\"scatter\",\"xaxis\":\"x10\",\"yaxis\":\"y10\"}],                        {\"template\":{\"data\":{\"histogram2dcontour\":[{\"type\":\"histogram2dcontour\",\"colorbar\":{\"outlinewidth\":0,\"ticks\":\"\"},\"colorscale\":[[0.0,\"#0d0887\"],[0.1111111111111111,\"#46039f\"],[0.2222222222222222,\"#7201a8\"],[0.3333333333333333,\"#9c179e\"],[0.4444444444444444,\"#bd3786\"],[0.5555555555555556,\"#d8576b\"],[0.6666666666666666,\"#ed7953\"],[0.7777777777777778,\"#fb9f3a\"],[0.8888888888888888,\"#fdca26\"],[1.0,\"#f0f921\"]]}],\"choropleth\":[{\"type\":\"choropleth\",\"colorbar\":{\"outlinewidth\":0,\"ticks\":\"\"}}],\"histogram2d\":[{\"type\":\"histogram2d\",\"colorbar\":{\"outlinewidth\":0,\"ticks\":\"\"},\"colorscale\":[[0.0,\"#0d0887\"],[0.1111111111111111,\"#46039f\"],[0.2222222222222222,\"#7201a8\"],[0.3333333333333333,\"#9c179e\"],[0.4444444444444444,\"#bd3786\"],[0.5555555555555556,\"#d8576b\"],[0.6666666666666666,\"#ed7953\"],[0.7777777777777778,\"#fb9f3a\"],[0.8888888888888888,\"#fdca26\"],[1.0,\"#f0f921\"]]}],\"heatmap\":[{\"type\":\"heatmap\",\"colorbar\":{\"outlinewidth\":0,\"ticks\":\"\"},\"colorscale\":[[0.0,\"#0d0887\"],[0.1111111111111111,\"#46039f\"],[0.2222222222222222,\"#7201a8\"],[0.3333333333333333,\"#9c179e\"],[0.4444444444444444,\"#bd3786\"],[0.5555555555555556,\"#d8576b\"],[0.6666666666666666,\"#ed7953\"],[0.7777777777777778,\"#fb9f3a\"],[0.8888888888888888,\"#fdca26\"],[1.0,\"#f0f921\"]]}],\"heatmapgl\":[{\"type\":\"heatmapgl\",\"colorbar\":{\"outlinewidth\":0,\"ticks\":\"\"},\"colorscale\":[[0.0,\"#0d0887\"],[0.1111111111111111,\"#46039f\"],[0.2222222222222222,\"#7201a8\"],[0.3333333333333333,\"#9c179e\"],[0.4444444444444444,\"#bd3786\"],[0.5555555555555556,\"#d8576b\"],[0.6666666666666666,\"#ed7953\"],[0.7777777777777778,\"#fb9f3a\"],[0.8888888888888888,\"#fdca26\"],[1.0,\"#f0f921\"]]}],\"contourcarpet\":[{\"type\":\"contourcarpet\",\"colorbar\":{\"outlinewidth\":0,\"ticks\":\"\"}}],\"contour\":[{\"type\":\"contour\",\"colorbar\":{\"outlinewidth\":0,\"ticks\":\"\"},\"colorscale\":[[0.0,\"#0d0887\"],[0.1111111111111111,\"#46039f\"],[0.2222222222222222,\"#7201a8\"],[0.3333333333333333,\"#9c179e\"],[0.4444444444444444,\"#bd3786\"],[0.5555555555555556,\"#d8576b\"],[0.6666666666666666,\"#ed7953\"],[0.7777777777777778,\"#fb9f3a\"],[0.8888888888888888,\"#fdca26\"],[1.0,\"#f0f921\"]]}],\"surface\":[{\"type\":\"surface\",\"colorbar\":{\"outlinewidth\":0,\"ticks\":\"\"},\"colorscale\":[[0.0,\"#0d0887\"],[0.1111111111111111,\"#46039f\"],[0.2222222222222222,\"#7201a8\"],[0.3333333333333333,\"#9c179e\"],[0.4444444444444444,\"#bd3786\"],[0.5555555555555556,\"#d8576b\"],[0.6666666666666666,\"#ed7953\"],[0.7777777777777778,\"#fb9f3a\"],[0.8888888888888888,\"#fdca26\"],[1.0,\"#f0f921\"]]}],\"mesh3d\":[{\"type\":\"mesh3d\",\"colorbar\":{\"outlinewidth\":0,\"ticks\":\"\"}}],\"scatter\":[{\"fillpattern\":{\"fillmode\":\"overlay\",\"size\":10,\"solidity\":0.2},\"type\":\"scatter\"}],\"parcoords\":[{\"type\":\"parcoords\",\"line\":{\"colorbar\":{\"outlinewidth\":0,\"ticks\":\"\"}}}],\"scatterpolargl\":[{\"type\":\"scatterpolargl\",\"marker\":{\"colorbar\":{\"outlinewidth\":0,\"ticks\":\"\"}}}],\"bar\":[{\"error_x\":{\"color\":\"#2a3f5f\"},\"error_y\":{\"color\":\"#2a3f5f\"},\"marker\":{\"line\":{\"color\":\"#E5ECF6\",\"width\":0.5},\"pattern\":{\"fillmode\":\"overlay\",\"size\":10,\"solidity\":0.2}},\"type\":\"bar\"}],\"scattergeo\":[{\"type\":\"scattergeo\",\"marker\":{\"colorbar\":{\"outlinewidth\":0,\"ticks\":\"\"}}}],\"scatterpolar\":[{\"type\":\"scatterpolar\",\"marker\":{\"colorbar\":{\"outlinewidth\":0,\"ticks\":\"\"}}}],\"histogram\":[{\"marker\":{\"pattern\":{\"fillmode\":\"overlay\",\"size\":10,\"solidity\":0.2}},\"type\":\"histogram\"}],\"scattergl\":[{\"type\":\"scattergl\",\"marker\":{\"colorbar\":{\"outlinewidth\":0,\"ticks\":\"\"}}}],\"scatter3d\":[{\"type\":\"scatter3d\",\"line\":{\"colorbar\":{\"outlinewidth\":0,\"ticks\":\"\"}},\"marker\":{\"colorbar\":{\"outlinewidth\":0,\"ticks\":\"\"}}}],\"scattermapbox\":[{\"type\":\"scattermapbox\",\"marker\":{\"colorbar\":{\"outlinewidth\":0,\"ticks\":\"\"}}}],\"scatterternary\":[{\"type\":\"scatterternary\",\"marker\":{\"colorbar\":{\"outlinewidth\":0,\"ticks\":\"\"}}}],\"scattercarpet\":[{\"type\":\"scattercarpet\",\"marker\":{\"colorbar\":{\"outlinewidth\":0,\"ticks\":\"\"}}}],\"carpet\":[{\"aaxis\":{\"endlinecolor\":\"#2a3f5f\",\"gridcolor\":\"white\",\"linecolor\":\"white\",\"minorgridcolor\":\"white\",\"startlinecolor\":\"#2a3f5f\"},\"baxis\":{\"endlinecolor\":\"#2a3f5f\",\"gridcolor\":\"white\",\"linecolor\":\"white\",\"minorgridcolor\":\"white\",\"startlinecolor\":\"#2a3f5f\"},\"type\":\"carpet\"}],\"table\":[{\"cells\":{\"fill\":{\"color\":\"#EBF0F8\"},\"line\":{\"color\":\"white\"}},\"header\":{\"fill\":{\"color\":\"#C8D4E3\"},\"line\":{\"color\":\"white\"}},\"type\":\"table\"}],\"barpolar\":[{\"marker\":{\"line\":{\"color\":\"#E5ECF6\",\"width\":0.5},\"pattern\":{\"fillmode\":\"overlay\",\"size\":10,\"solidity\":0.2}},\"type\":\"barpolar\"}],\"pie\":[{\"automargin\":true,\"type\":\"pie\"}]},\"layout\":{\"autotypenumbers\":\"strict\",\"colorway\":[\"#636efa\",\"#EF553B\",\"#00cc96\",\"#ab63fa\",\"#FFA15A\",\"#19d3f3\",\"#FF6692\",\"#B6E880\",\"#FF97FF\",\"#FECB52\"],\"font\":{\"color\":\"#2a3f5f\"},\"hovermode\":\"closest\",\"hoverlabel\":{\"align\":\"left\"},\"paper_bgcolor\":\"white\",\"plot_bgcolor\":\"#E5ECF6\",\"polar\":{\"bgcolor\":\"#E5ECF6\",\"angularaxis\":{\"gridcolor\":\"white\",\"linecolor\":\"white\",\"ticks\":\"\"},\"radialaxis\":{\"gridcolor\":\"white\",\"linecolor\":\"white\",\"ticks\":\"\"}},\"ternary\":{\"bgcolor\":\"#E5ECF6\",\"aaxis\":{\"gridcolor\":\"white\",\"linecolor\":\"white\",\"ticks\":\"\"},\"baxis\":{\"gridcolor\":\"white\",\"linecolor\":\"white\",\"ticks\":\"\"},\"caxis\":{\"gridcolor\":\"white\",\"linecolor\":\"white\",\"ticks\":\"\"}},\"coloraxis\":{\"colorbar\":{\"outlinewidth\":0,\"ticks\":\"\"}},\"colorscale\":{\"sequential\":[[0.0,\"#0d0887\"],[0.1111111111111111,\"#46039f\"],[0.2222222222222222,\"#7201a8\"],[0.3333333333333333,\"#9c179e\"],[0.4444444444444444,\"#bd3786\"],[0.5555555555555556,\"#d8576b\"],[0.6666666666666666,\"#ed7953\"],[0.7777777777777778,\"#fb9f3a\"],[0.8888888888888888,\"#fdca26\"],[1.0,\"#f0f921\"]],\"sequentialminus\":[[0.0,\"#0d0887\"],[0.1111111111111111,\"#46039f\"],[0.2222222222222222,\"#7201a8\"],[0.3333333333333333,\"#9c179e\"],[0.4444444444444444,\"#bd3786\"],[0.5555555555555556,\"#d8576b\"],[0.6666666666666666,\"#ed7953\"],[0.7777777777777778,\"#fb9f3a\"],[0.8888888888888888,\"#fdca26\"],[1.0,\"#f0f921\"]],\"diverging\":[[0,\"#8e0152\"],[0.1,\"#c51b7d\"],[0.2,\"#de77ae\"],[0.3,\"#f1b6da\"],[0.4,\"#fde0ef\"],[0.5,\"#f7f7f7\"],[0.6,\"#e6f5d0\"],[0.7,\"#b8e186\"],[0.8,\"#7fbc41\"],[0.9,\"#4d9221\"],[1,\"#276419\"]]},\"xaxis\":{\"gridcolor\":\"white\",\"linecolor\":\"white\",\"ticks\":\"\",\"title\":{\"standoff\":15},\"zerolinecolor\":\"white\",\"automargin\":true,\"zerolinewidth\":2},\"yaxis\":{\"gridcolor\":\"white\",\"linecolor\":\"white\",\"ticks\":\"\",\"title\":{\"standoff\":15},\"zerolinecolor\":\"white\",\"automargin\":true,\"zerolinewidth\":2},\"scene\":{\"xaxis\":{\"backgroundcolor\":\"#E5ECF6\",\"gridcolor\":\"white\",\"linecolor\":\"white\",\"showbackground\":true,\"ticks\":\"\",\"zerolinecolor\":\"white\",\"gridwidth\":2},\"yaxis\":{\"backgroundcolor\":\"#E5ECF6\",\"gridcolor\":\"white\",\"linecolor\":\"white\",\"showbackground\":true,\"ticks\":\"\",\"zerolinecolor\":\"white\",\"gridwidth\":2},\"zaxis\":{\"backgroundcolor\":\"#E5ECF6\",\"gridcolor\":\"white\",\"linecolor\":\"white\",\"showbackground\":true,\"ticks\":\"\",\"zerolinecolor\":\"white\",\"gridwidth\":2}},\"shapedefaults\":{\"line\":{\"color\":\"#2a3f5f\"}},\"annotationdefaults\":{\"arrowcolor\":\"#2a3f5f\",\"arrowhead\":0,\"arrowwidth\":1},\"geo\":{\"bgcolor\":\"white\",\"landcolor\":\"#E5ECF6\",\"subunitcolor\":\"white\",\"showland\":true,\"showlakes\":true,\"lakecolor\":\"white\"},\"title\":{\"x\":0.05},\"mapbox\":{\"style\":\"light\"}}},\"xaxis\":{\"anchor\":\"y\",\"domain\":[0.0,0.082],\"title\":{\"text\":\"asymmetric_alpha\"}},\"yaxis\":{\"anchor\":\"x\",\"domain\":[0.0,1.0],\"title\":{\"text\":\"Objective Value\"}},\"xaxis2\":{\"anchor\":\"y2\",\"domain\":[0.10200000000000001,0.184],\"title\":{\"text\":\"feature_weighting\"},\"type\":\"category\",\"categoryorder\":\"array\",\"categoryarray\":[\"BM25\",\"TF-IDF\",\"none\"]},\"yaxis2\":{\"anchor\":\"x2\",\"domain\":[0.0,1.0],\"matches\":\"y\",\"showticklabels\":false},\"xaxis3\":{\"anchor\":\"y3\",\"domain\":[0.20400000000000001,0.28600000000000003],\"title\":{\"text\":\"normalize\"},\"type\":\"category\",\"categoryorder\":\"array\",\"categoryarray\":[true,false]},\"yaxis3\":{\"anchor\":\"x3\",\"domain\":[0.0,1.0],\"matches\":\"y\",\"showticklabels\":false},\"xaxis4\":{\"anchor\":\"y4\",\"domain\":[0.306,0.388],\"title\":{\"text\":\"normalize_avg_row\"},\"type\":\"category\",\"categoryorder\":\"array\",\"categoryarray\":[true,false]},\"yaxis4\":{\"anchor\":\"x4\",\"domain\":[0.0,1.0],\"matches\":\"y\",\"showticklabels\":false},\"xaxis5\":{\"anchor\":\"y5\",\"domain\":[0.40800000000000003,0.49000000000000005],\"title\":{\"text\":\"shrink\"}},\"yaxis5\":{\"anchor\":\"x5\",\"domain\":[0.0,1.0],\"matches\":\"y\",\"showticklabels\":false},\"xaxis6\":{\"anchor\":\"y6\",\"domain\":[0.51,0.592],\"title\":{\"text\":\"similarity\"},\"type\":\"category\",\"categoryorder\":\"array\",\"categoryarray\":[\"cosine\",\"dice\",\"jaccard\",\"asymmetric\",\"tversky\",\"euclidean\"]},\"yaxis6\":{\"anchor\":\"x6\",\"domain\":[0.0,1.0],\"matches\":\"y\",\"showticklabels\":false},\"xaxis7\":{\"anchor\":\"y7\",\"domain\":[0.6120000000000001,0.6940000000000001],\"title\":{\"text\":\"similarity_from_distance_mode\"},\"type\":\"category\",\"categoryorder\":\"array\",\"categoryarray\":[\"lin\",\"log\",\"exp\"]},\"yaxis7\":{\"anchor\":\"x7\",\"domain\":[0.0,1.0],\"matches\":\"y\",\"showticklabels\":false},\"xaxis8\":{\"anchor\":\"y8\",\"domain\":[0.7140000000000001,0.796],\"title\":{\"text\":\"topK\"}},\"yaxis8\":{\"anchor\":\"x8\",\"domain\":[0.0,1.0],\"matches\":\"y\",\"showticklabels\":false},\"xaxis9\":{\"anchor\":\"y9\",\"domain\":[0.8160000000000001,0.898],\"title\":{\"text\":\"tversky_alpha\"}},\"yaxis9\":{\"anchor\":\"x9\",\"domain\":[0.0,1.0],\"matches\":\"y\",\"showticklabels\":false},\"xaxis10\":{\"anchor\":\"y10\",\"domain\":[0.9179999999999999,0.9999999999999999],\"title\":{\"text\":\"tversky_beta\"}},\"yaxis10\":{\"anchor\":\"x10\",\"domain\":[0.0,1.0],\"matches\":\"y\",\"showticklabels\":false},\"title\":{\"text\":\"Slice Plot\"},\"width\":3000},                        {\"responsive\": true}                    ).then(function(){\n",
       "                            \n",
       "var gd = document.getElementById('f1be75bd-c830-4402-9bff-7616140787d2');\n",
       "var x = new MutationObserver(function (mutations, observer) {{\n",
       "        var display = window.getComputedStyle(gd).display;\n",
       "        if (!display || display === 'none') {{\n",
       "            console.log([gd, 'removed!']);\n",
       "            Plotly.purge(gd);\n",
       "            observer.disconnect();\n",
       "        }}\n",
       "}});\n",
       "\n",
       "// Listen for the removal of the full notebook cells\n",
       "var notebookContainer = gd.closest('#notebook-container');\n",
       "if (notebookContainer) {{\n",
       "    x.observe(notebookContainer, {childList: true});\n",
       "}}\n",
       "\n",
       "// Listen for the clearing of the current output cell\n",
       "var outputEl = gd.closest('.output');\n",
       "if (outputEl) {{\n",
       "    x.observe(outputEl, {childList: true});\n",
       "}}\n",
       "\n",
       "                        })                };                            </script>        </div>\n",
       "</body>\n",
       "</html>"
      ]
     },
     "metadata": {},
     "output_type": "display_data"
    }
   ],
   "source": [
    "if not config['tune_parameters']:\n",
    "    optuna_study = optuna.load_study(study_name=f'hyperparameters_tuning_{config[\"model\"]}_{config[\"metric\"]}', storage=f'sqlite:///{config[\"database_path\"]}')\n",
    "    \n",
    "fig = optuna.visualization.plot_slice(optuna_study)\n",
    "fig.show()"
   ]
  },
  {
   "cell_type": "code",
   "execution_count": 15,
   "id": "602776d0",
   "metadata": {
    "execution": {
     "iopub.execute_input": "2025-01-06T08:39:05.920310Z",
     "iopub.status.busy": "2025-01-06T08:39:05.919888Z",
     "iopub.status.idle": "2025-01-06T08:39:17.852555Z",
     "shell.execute_reply": "2025-01-06T08:39:17.851385Z"
    },
    "papermill": {
     "duration": 12.088106,
     "end_time": "2025-01-06T08:39:17.854343",
     "exception": false,
     "start_time": "2025-01-06T08:39:05.766237",
     "status": "completed"
    },
    "tags": []
   },
   "outputs": [
    {
     "data": {
      "text/html": [
       "<html>\n",
       "<head><meta charset=\"utf-8\" /></head>\n",
       "<body>\n",
       "    <div>            <script src=\"https://cdnjs.cloudflare.com/ajax/libs/mathjax/2.7.5/MathJax.js?config=TeX-AMS-MML_SVG\"></script><script type=\"text/javascript\">if (window.MathJax && window.MathJax.Hub && window.MathJax.Hub.Config) {window.MathJax.Hub.Config({SVG: {font: \"STIX-Web\"}});}</script>                <script type=\"text/javascript\">window.PlotlyConfig = {MathJaxConfig: 'local'};</script>\n",
       "        <script charset=\"utf-8\" src=\"https://cdn.plot.ly/plotly-2.35.2.min.js\"></script>                <div id=\"0f0634d0-54ec-4dfd-8c3b-28e5e93f7967\" class=\"plotly-graph-div\" style=\"height:525px; width:100%;\"></div>            <script type=\"text/javascript\">                                    window.PLOTLYENV=window.PLOTLYENV || {};                                    if (document.getElementById(\"0f0634d0-54ec-4dfd-8c3b-28e5e93f7967\")) {                    Plotly.newPlot(                        \"0f0634d0-54ec-4dfd-8c3b-28e5e93f7967\",                        [{\"cliponaxis\":false,\"hovertemplate\":[\"feature_weighting (CategoricalDistribution): 0.042986699661692405\\u003cextra\\u003e\\u003c\\u002fextra\\u003e\",\"topK (IntDistribution): 0.06974890137849653\\u003cextra\\u003e\\u003c\\u002fextra\\u003e\",\"shrink (IntDistribution): 0.12229104295134856\\u003cextra\\u003e\\u003c\\u002fextra\\u003e\",\"similarity (CategoricalDistribution): 0.7649733560084626\\u003cextra\\u003e\\u003c\\u002fextra\\u003e\"],\"name\":\"Objective Value\",\"orientation\":\"h\",\"text\":[\"0.04\",\"0.07\",\"0.12\",\"0.76\"],\"textposition\":\"outside\",\"x\":[0.042986699661692405,0.06974890137849653,0.12229104295134856,0.7649733560084626],\"y\":[\"feature_weighting\",\"topK\",\"shrink\",\"similarity\"],\"type\":\"bar\"}],                        {\"title\":{\"text\":\"Hyperparameter Importances\"},\"xaxis\":{\"title\":{\"text\":\"Hyperparameter Importance\"}},\"yaxis\":{\"title\":{\"text\":\"Hyperparameter\"}},\"template\":{\"data\":{\"histogram2dcontour\":[{\"type\":\"histogram2dcontour\",\"colorbar\":{\"outlinewidth\":0,\"ticks\":\"\"},\"colorscale\":[[0.0,\"#0d0887\"],[0.1111111111111111,\"#46039f\"],[0.2222222222222222,\"#7201a8\"],[0.3333333333333333,\"#9c179e\"],[0.4444444444444444,\"#bd3786\"],[0.5555555555555556,\"#d8576b\"],[0.6666666666666666,\"#ed7953\"],[0.7777777777777778,\"#fb9f3a\"],[0.8888888888888888,\"#fdca26\"],[1.0,\"#f0f921\"]]}],\"choropleth\":[{\"type\":\"choropleth\",\"colorbar\":{\"outlinewidth\":0,\"ticks\":\"\"}}],\"histogram2d\":[{\"type\":\"histogram2d\",\"colorbar\":{\"outlinewidth\":0,\"ticks\":\"\"},\"colorscale\":[[0.0,\"#0d0887\"],[0.1111111111111111,\"#46039f\"],[0.2222222222222222,\"#7201a8\"],[0.3333333333333333,\"#9c179e\"],[0.4444444444444444,\"#bd3786\"],[0.5555555555555556,\"#d8576b\"],[0.6666666666666666,\"#ed7953\"],[0.7777777777777778,\"#fb9f3a\"],[0.8888888888888888,\"#fdca26\"],[1.0,\"#f0f921\"]]}],\"heatmap\":[{\"type\":\"heatmap\",\"colorbar\":{\"outlinewidth\":0,\"ticks\":\"\"},\"colorscale\":[[0.0,\"#0d0887\"],[0.1111111111111111,\"#46039f\"],[0.2222222222222222,\"#7201a8\"],[0.3333333333333333,\"#9c179e\"],[0.4444444444444444,\"#bd3786\"],[0.5555555555555556,\"#d8576b\"],[0.6666666666666666,\"#ed7953\"],[0.7777777777777778,\"#fb9f3a\"],[0.8888888888888888,\"#fdca26\"],[1.0,\"#f0f921\"]]}],\"heatmapgl\":[{\"type\":\"heatmapgl\",\"colorbar\":{\"outlinewidth\":0,\"ticks\":\"\"},\"colorscale\":[[0.0,\"#0d0887\"],[0.1111111111111111,\"#46039f\"],[0.2222222222222222,\"#7201a8\"],[0.3333333333333333,\"#9c179e\"],[0.4444444444444444,\"#bd3786\"],[0.5555555555555556,\"#d8576b\"],[0.6666666666666666,\"#ed7953\"],[0.7777777777777778,\"#fb9f3a\"],[0.8888888888888888,\"#fdca26\"],[1.0,\"#f0f921\"]]}],\"contourcarpet\":[{\"type\":\"contourcarpet\",\"colorbar\":{\"outlinewidth\":0,\"ticks\":\"\"}}],\"contour\":[{\"type\":\"contour\",\"colorbar\":{\"outlinewidth\":0,\"ticks\":\"\"},\"colorscale\":[[0.0,\"#0d0887\"],[0.1111111111111111,\"#46039f\"],[0.2222222222222222,\"#7201a8\"],[0.3333333333333333,\"#9c179e\"],[0.4444444444444444,\"#bd3786\"],[0.5555555555555556,\"#d8576b\"],[0.6666666666666666,\"#ed7953\"],[0.7777777777777778,\"#fb9f3a\"],[0.8888888888888888,\"#fdca26\"],[1.0,\"#f0f921\"]]}],\"surface\":[{\"type\":\"surface\",\"colorbar\":{\"outlinewidth\":0,\"ticks\":\"\"},\"colorscale\":[[0.0,\"#0d0887\"],[0.1111111111111111,\"#46039f\"],[0.2222222222222222,\"#7201a8\"],[0.3333333333333333,\"#9c179e\"],[0.4444444444444444,\"#bd3786\"],[0.5555555555555556,\"#d8576b\"],[0.6666666666666666,\"#ed7953\"],[0.7777777777777778,\"#fb9f3a\"],[0.8888888888888888,\"#fdca26\"],[1.0,\"#f0f921\"]]}],\"mesh3d\":[{\"type\":\"mesh3d\",\"colorbar\":{\"outlinewidth\":0,\"ticks\":\"\"}}],\"scatter\":[{\"fillpattern\":{\"fillmode\":\"overlay\",\"size\":10,\"solidity\":0.2},\"type\":\"scatter\"}],\"parcoords\":[{\"type\":\"parcoords\",\"line\":{\"colorbar\":{\"outlinewidth\":0,\"ticks\":\"\"}}}],\"scatterpolargl\":[{\"type\":\"scatterpolargl\",\"marker\":{\"colorbar\":{\"outlinewidth\":0,\"ticks\":\"\"}}}],\"bar\":[{\"error_x\":{\"color\":\"#2a3f5f\"},\"error_y\":{\"color\":\"#2a3f5f\"},\"marker\":{\"line\":{\"color\":\"#E5ECF6\",\"width\":0.5},\"pattern\":{\"fillmode\":\"overlay\",\"size\":10,\"solidity\":0.2}},\"type\":\"bar\"}],\"scattergeo\":[{\"type\":\"scattergeo\",\"marker\":{\"colorbar\":{\"outlinewidth\":0,\"ticks\":\"\"}}}],\"scatterpolar\":[{\"type\":\"scatterpolar\",\"marker\":{\"colorbar\":{\"outlinewidth\":0,\"ticks\":\"\"}}}],\"histogram\":[{\"marker\":{\"pattern\":{\"fillmode\":\"overlay\",\"size\":10,\"solidity\":0.2}},\"type\":\"histogram\"}],\"scattergl\":[{\"type\":\"scattergl\",\"marker\":{\"colorbar\":{\"outlinewidth\":0,\"ticks\":\"\"}}}],\"scatter3d\":[{\"type\":\"scatter3d\",\"line\":{\"colorbar\":{\"outlinewidth\":0,\"ticks\":\"\"}},\"marker\":{\"colorbar\":{\"outlinewidth\":0,\"ticks\":\"\"}}}],\"scattermapbox\":[{\"type\":\"scattermapbox\",\"marker\":{\"colorbar\":{\"outlinewidth\":0,\"ticks\":\"\"}}}],\"scatterternary\":[{\"type\":\"scatterternary\",\"marker\":{\"colorbar\":{\"outlinewidth\":0,\"ticks\":\"\"}}}],\"scattercarpet\":[{\"type\":\"scattercarpet\",\"marker\":{\"colorbar\":{\"outlinewidth\":0,\"ticks\":\"\"}}}],\"carpet\":[{\"aaxis\":{\"endlinecolor\":\"#2a3f5f\",\"gridcolor\":\"white\",\"linecolor\":\"white\",\"minorgridcolor\":\"white\",\"startlinecolor\":\"#2a3f5f\"},\"baxis\":{\"endlinecolor\":\"#2a3f5f\",\"gridcolor\":\"white\",\"linecolor\":\"white\",\"minorgridcolor\":\"white\",\"startlinecolor\":\"#2a3f5f\"},\"type\":\"carpet\"}],\"table\":[{\"cells\":{\"fill\":{\"color\":\"#EBF0F8\"},\"line\":{\"color\":\"white\"}},\"header\":{\"fill\":{\"color\":\"#C8D4E3\"},\"line\":{\"color\":\"white\"}},\"type\":\"table\"}],\"barpolar\":[{\"marker\":{\"line\":{\"color\":\"#E5ECF6\",\"width\":0.5},\"pattern\":{\"fillmode\":\"overlay\",\"size\":10,\"solidity\":0.2}},\"type\":\"barpolar\"}],\"pie\":[{\"automargin\":true,\"type\":\"pie\"}]},\"layout\":{\"autotypenumbers\":\"strict\",\"colorway\":[\"#636efa\",\"#EF553B\",\"#00cc96\",\"#ab63fa\",\"#FFA15A\",\"#19d3f3\",\"#FF6692\",\"#B6E880\",\"#FF97FF\",\"#FECB52\"],\"font\":{\"color\":\"#2a3f5f\"},\"hovermode\":\"closest\",\"hoverlabel\":{\"align\":\"left\"},\"paper_bgcolor\":\"white\",\"plot_bgcolor\":\"#E5ECF6\",\"polar\":{\"bgcolor\":\"#E5ECF6\",\"angularaxis\":{\"gridcolor\":\"white\",\"linecolor\":\"white\",\"ticks\":\"\"},\"radialaxis\":{\"gridcolor\":\"white\",\"linecolor\":\"white\",\"ticks\":\"\"}},\"ternary\":{\"bgcolor\":\"#E5ECF6\",\"aaxis\":{\"gridcolor\":\"white\",\"linecolor\":\"white\",\"ticks\":\"\"},\"baxis\":{\"gridcolor\":\"white\",\"linecolor\":\"white\",\"ticks\":\"\"},\"caxis\":{\"gridcolor\":\"white\",\"linecolor\":\"white\",\"ticks\":\"\"}},\"coloraxis\":{\"colorbar\":{\"outlinewidth\":0,\"ticks\":\"\"}},\"colorscale\":{\"sequential\":[[0.0,\"#0d0887\"],[0.1111111111111111,\"#46039f\"],[0.2222222222222222,\"#7201a8\"],[0.3333333333333333,\"#9c179e\"],[0.4444444444444444,\"#bd3786\"],[0.5555555555555556,\"#d8576b\"],[0.6666666666666666,\"#ed7953\"],[0.7777777777777778,\"#fb9f3a\"],[0.8888888888888888,\"#fdca26\"],[1.0,\"#f0f921\"]],\"sequentialminus\":[[0.0,\"#0d0887\"],[0.1111111111111111,\"#46039f\"],[0.2222222222222222,\"#7201a8\"],[0.3333333333333333,\"#9c179e\"],[0.4444444444444444,\"#bd3786\"],[0.5555555555555556,\"#d8576b\"],[0.6666666666666666,\"#ed7953\"],[0.7777777777777778,\"#fb9f3a\"],[0.8888888888888888,\"#fdca26\"],[1.0,\"#f0f921\"]],\"diverging\":[[0,\"#8e0152\"],[0.1,\"#c51b7d\"],[0.2,\"#de77ae\"],[0.3,\"#f1b6da\"],[0.4,\"#fde0ef\"],[0.5,\"#f7f7f7\"],[0.6,\"#e6f5d0\"],[0.7,\"#b8e186\"],[0.8,\"#7fbc41\"],[0.9,\"#4d9221\"],[1,\"#276419\"]]},\"xaxis\":{\"gridcolor\":\"white\",\"linecolor\":\"white\",\"ticks\":\"\",\"title\":{\"standoff\":15},\"zerolinecolor\":\"white\",\"automargin\":true,\"zerolinewidth\":2},\"yaxis\":{\"gridcolor\":\"white\",\"linecolor\":\"white\",\"ticks\":\"\",\"title\":{\"standoff\":15},\"zerolinecolor\":\"white\",\"automargin\":true,\"zerolinewidth\":2},\"scene\":{\"xaxis\":{\"backgroundcolor\":\"#E5ECF6\",\"gridcolor\":\"white\",\"linecolor\":\"white\",\"showbackground\":true,\"ticks\":\"\",\"zerolinecolor\":\"white\",\"gridwidth\":2},\"yaxis\":{\"backgroundcolor\":\"#E5ECF6\",\"gridcolor\":\"white\",\"linecolor\":\"white\",\"showbackground\":true,\"ticks\":\"\",\"zerolinecolor\":\"white\",\"gridwidth\":2},\"zaxis\":{\"backgroundcolor\":\"#E5ECF6\",\"gridcolor\":\"white\",\"linecolor\":\"white\",\"showbackground\":true,\"ticks\":\"\",\"zerolinecolor\":\"white\",\"gridwidth\":2}},\"shapedefaults\":{\"line\":{\"color\":\"#2a3f5f\"}},\"annotationdefaults\":{\"arrowcolor\":\"#2a3f5f\",\"arrowhead\":0,\"arrowwidth\":1},\"geo\":{\"bgcolor\":\"white\",\"landcolor\":\"#E5ECF6\",\"subunitcolor\":\"white\",\"showland\":true,\"showlakes\":true,\"lakecolor\":\"white\"},\"title\":{\"x\":0.05},\"mapbox\":{\"style\":\"light\"}}}},                        {\"responsive\": true}                    ).then(function(){\n",
       "                            \n",
       "var gd = document.getElementById('0f0634d0-54ec-4dfd-8c3b-28e5e93f7967');\n",
       "var x = new MutationObserver(function (mutations, observer) {{\n",
       "        var display = window.getComputedStyle(gd).display;\n",
       "        if (!display || display === 'none') {{\n",
       "            console.log([gd, 'removed!']);\n",
       "            Plotly.purge(gd);\n",
       "            observer.disconnect();\n",
       "        }}\n",
       "}});\n",
       "\n",
       "// Listen for the removal of the full notebook cells\n",
       "var notebookContainer = gd.closest('#notebook-container');\n",
       "if (notebookContainer) {{\n",
       "    x.observe(notebookContainer, {childList: true});\n",
       "}}\n",
       "\n",
       "// Listen for the clearing of the current output cell\n",
       "var outputEl = gd.closest('.output');\n",
       "if (outputEl) {{\n",
       "    x.observe(outputEl, {childList: true});\n",
       "}}\n",
       "\n",
       "                        })                };                            </script>        </div>\n",
       "</body>\n",
       "</html>"
      ]
     },
     "metadata": {},
     "output_type": "display_data"
    }
   ],
   "source": [
    "if not config['tune_parameters']:\n",
    "    optuna_study = optuna.load_study(study_name=f'hyperparameters_tuning_{config[\"model\"]}_{config[\"metric\"]}', storage=f'sqlite:///{config[\"database_path\"]}')\n",
    "    \n",
    "fig = optuna.visualization.plot_param_importances(optuna_study)\n",
    "fig.show()"
   ]
  },
  {
   "cell_type": "markdown",
   "id": "b95026b9",
   "metadata": {
    "papermill": {
     "duration": 0.147236,
     "end_time": "2025-01-06T08:39:18.150700",
     "exception": false,
     "start_time": "2025-01-06T08:39:18.003464",
     "status": "completed"
    },
    "tags": []
   },
   "source": [
    "## Let's train the recommender with best parameter values"
   ]
  },
  {
   "cell_type": "code",
   "execution_count": 16,
   "id": "160befea",
   "metadata": {
    "execution": {
     "iopub.execute_input": "2025-01-06T08:39:18.445408Z",
     "iopub.status.busy": "2025-01-06T08:39:18.445004Z",
     "iopub.status.idle": "2025-01-06T08:39:33.364520Z",
     "shell.execute_reply": "2025-01-06T08:39:33.363472Z"
    },
    "papermill": {
     "duration": 15.070062,
     "end_time": "2025-01-06T08:39:33.366908",
     "exception": false,
     "start_time": "2025-01-06T08:39:18.296846",
     "status": "completed"
    },
    "tags": []
   },
   "outputs": [
    {
     "name": "stdout",
     "output_type": "stream",
     "text": [
      "Similarity column 38121 (100.0%), 2609.47 column/sec. Elapsed time 14.61 sec\n"
     ]
    }
   ],
   "source": [
    "if config['tune_best_params']:\n",
    "\n",
    "    if config['tune_parameters']:\n",
    "        best_params = optuna_study.best_trial.params\n",
    "    else: \n",
    "        with open(f'{K_PATH}/{GH_PATH}/{config[\"model\"]}Recommender/Optimizing{config[\"metric\"]}/best_params_{config[\"model\"]}_{config[\"metric\"]}.json', 'r') as best_params_json:\n",
    "            best_params = json.load(best_params_json)\n",
    "\n",
    "    recommender_instance = ItemKNNCFRecommender(URM_train + URM_validation)\n",
    "    recommender_instance.fit(**best_params)"
   ]
  },
  {
   "cell_type": "markdown",
   "id": "2fe6a70e",
   "metadata": {
    "papermill": {
     "duration": 0.151904,
     "end_time": "2025-01-06T08:39:33.688024",
     "exception": false,
     "start_time": "2025-01-06T08:39:33.536120",
     "status": "completed"
    },
    "tags": []
   },
   "source": [
    "# Testing"
   ]
  },
  {
   "cell_type": "markdown",
   "id": "b879cbe2",
   "metadata": {
    "papermill": {
     "duration": 0.164475,
     "end_time": "2025-01-06T08:39:34.000100",
     "exception": false,
     "start_time": "2025-01-06T08:39:33.835625",
     "status": "completed"
    },
    "tags": []
   },
   "source": [
    "Create the recommendations for the submission. "
   ]
  },
  {
   "cell_type": "code",
   "execution_count": 17,
   "id": "ad1ecbec",
   "metadata": {
    "execution": {
     "iopub.execute_input": "2025-01-06T08:39:34.301403Z",
     "iopub.status.busy": "2025-01-06T08:39:34.300989Z",
     "iopub.status.idle": "2025-01-06T08:40:02.632493Z",
     "shell.execute_reply": "2025-01-06T08:40:02.626330Z"
    },
    "papermill": {
     "duration": 28.498571,
     "end_time": "2025-01-06T08:40:02.648360",
     "exception": false,
     "start_time": "2025-01-06T08:39:34.149789",
     "status": "completed"
    },
    "tags": []
   },
   "outputs": [
    {
     "name": "stdout",
     "output_type": "stream",
     "text": [
      "Submission file saved as /kaggle/working/submission_ItemKNNCF_Recall.csv\n"
     ]
    }
   ],
   "source": [
    "if config['tune_best_params']:\n",
    "\n",
    "    data_target_users_test = pd.read_csv('/kaggle/input/recommender-system-2024-challenge-polimi/data_target_users_test.csv')\n",
    "    create_submission(data_target_users_test, recommender_instance, f'/kaggle/working/submission_{config[\"model\"]}_{config[\"metric\"]}.csv')"
   ]
  },
  {
   "cell_type": "markdown",
   "id": "da2b2157",
   "metadata": {
    "execution": {
     "iopub.execute_input": "2024-11-14T00:04:16.877791Z",
     "iopub.status.busy": "2024-11-14T00:04:16.877275Z",
     "iopub.status.idle": "2024-11-14T00:04:16.883170Z",
     "shell.execute_reply": "2024-11-14T00:04:16.881889Z",
     "shell.execute_reply.started": "2024-11-14T00:04:16.877743Z"
    },
    "papermill": {
     "duration": 0.751242,
     "end_time": "2025-01-06T08:40:04.150344",
     "exception": false,
     "start_time": "2025-01-06T08:40:03.399102",
     "status": "completed"
    },
    "tags": []
   },
   "source": [
    "# Save Version on GitHub "
   ]
  },
  {
   "cell_type": "markdown",
   "id": "dd2e841f",
   "metadata": {
    "papermill": {
     "duration": 0.611856,
     "end_time": "2025-01-06T08:40:05.474766",
     "exception": false,
     "start_time": "2025-01-06T08:40:04.862910",
     "status": "completed"
    },
    "tags": []
   },
   "source": [
    "Write or import a json file where best hyperparameters are saved. "
   ]
  },
  {
   "cell_type": "code",
   "execution_count": 18,
   "id": "0b2fa09e",
   "metadata": {
    "execution": {
     "iopub.execute_input": "2025-01-06T08:40:06.696501Z",
     "iopub.status.busy": "2025-01-06T08:40:06.695076Z",
     "iopub.status.idle": "2025-01-06T08:40:07.690130Z",
     "shell.execute_reply": "2025-01-06T08:40:07.688431Z"
    },
    "papermill": {
     "duration": 1.621386,
     "end_time": "2025-01-06T08:40:07.692699",
     "exception": false,
     "start_time": "2025-01-06T08:40:06.071313",
     "status": "completed"
    },
    "tags": []
   },
   "outputs": [
    {
     "name": "stdout",
     "output_type": "stream",
     "text": [
      "File 'TrainedModels/WithKFCV/KNN/ItemKNNCFRecommender/OptimizingRecall/best_params_ItemKNNCF_Recall.json' updated successfully.\n"
     ]
    }
   ],
   "source": [
    "if config['tune_parameters']:\n",
    "    with open(f'/kaggle/working/best_params_{config[\"model\"]}_{config[\"metric\"]}.json', 'w') as params_file:\n",
    "        json.dump(optuna_study.best_params, params_file)\n",
    "        \n",
    "    if config['save_github']:\n",
    "        upload_file(\n",
    "            f'/kaggle/working/best_params_{config[\"model\"]}_{config[\"metric\"]}.json', \n",
    "            f'{GH_PATH}/{config[\"model\"]}Recommender/Optimizing{config[\"metric\"]}/best_params_{config[\"model\"]}_{config[\"metric\"]}.json', \n",
    "            f'{config[\"model\"]}_{config[\"metric\"]} tuning results (from kaggle notebook)',\n",
    "            repo\n",
    "        )\n",
    "elif config['copy_prev_best_params']:\n",
    "    shutil.copyfile(\n",
    "        f'{K_PATH}/{GH_PATH}/{config[\"model\"]}Recommender/Optimizing{config[\"metric\"]}/'\\\n",
    "        f'best_params_{config[\"model\"]}_{config[\"metric\"]}.json', \n",
    "        f'/kaggle/working/best_params_{config[\"model\"]}_{config[\"metric\"]}.json'\n",
    "    )"
   ]
  },
  {
   "cell_type": "markdown",
   "id": "1b9a672b",
   "metadata": {
    "papermill": {
     "duration": 0.157253,
     "end_time": "2025-01-06T08:40:08.006473",
     "exception": false,
     "start_time": "2025-01-06T08:40:07.849220",
     "status": "completed"
    },
    "tags": []
   },
   "source": [
    "Save the history of the tuned model."
   ]
  },
  {
   "cell_type": "code",
   "execution_count": 19,
   "id": "1c28c1be",
   "metadata": {
    "execution": {
     "iopub.execute_input": "2025-01-06T08:40:08.313634Z",
     "iopub.status.busy": "2025-01-06T08:40:08.313160Z",
     "iopub.status.idle": "2025-01-06T08:40:09.467611Z",
     "shell.execute_reply": "2025-01-06T08:40:09.466319Z"
    },
    "papermill": {
     "duration": 1.31391,
     "end_time": "2025-01-06T08:40:09.470022",
     "exception": false,
     "start_time": "2025-01-06T08:40:08.156112",
     "status": "completed"
    },
    "tags": []
   },
   "outputs": [
    {
     "name": "stdout",
     "output_type": "stream",
     "text": [
      "File 'TrainedModels/WithKFCV/KNN/ItemKNNCFRecommender/OptimizingRecall/history_ItemKNNCF_Recall.db' updated successfully.\n"
     ]
    }
   ],
   "source": [
    "if config['save_github'] and config['tune_parameters']:\n",
    "    upload_file(\n",
    "        config['database_path'], \n",
    "        f'{GH_PATH}/{config[\"model\"]}Recommender/Optimizing{config[\"metric\"]}/history_{config[\"model\"]}_{config[\"metric\"]}.db',\n",
    "        f'Tuning {config[\"model\"]}_{config[\"metric\"]} db updated results (from kaggle notebook)',\n",
    "        repo\n",
    "    )"
   ]
  },
  {
   "cell_type": "markdown",
   "id": "d1fae285",
   "metadata": {
    "execution": {
     "iopub.execute_input": "2024-11-14T00:41:34.294243Z",
     "iopub.status.busy": "2024-11-14T00:41:34.293739Z",
     "iopub.status.idle": "2024-11-14T00:41:34.301478Z",
     "shell.execute_reply": "2024-11-14T00:41:34.299869Z",
     "shell.execute_reply.started": "2024-11-14T00:41:34.294186Z"
    },
    "papermill": {
     "duration": 0.369374,
     "end_time": "2025-01-06T08:40:10.207493",
     "exception": false,
     "start_time": "2025-01-06T08:40:09.838119",
     "status": "completed"
    },
    "tags": []
   },
   "source": [
    "Save the best trained model and its submission."
   ]
  },
  {
   "cell_type": "code",
   "execution_count": 20,
   "id": "09a7755b",
   "metadata": {
    "execution": {
     "iopub.execute_input": "2025-01-06T08:40:10.948118Z",
     "iopub.status.busy": "2025-01-06T08:40:10.947738Z",
     "iopub.status.idle": "2025-01-06T08:40:12.578215Z",
     "shell.execute_reply": "2025-01-06T08:40:12.576873Z"
    },
    "papermill": {
     "duration": 2.004476,
     "end_time": "2025-01-06T08:40:12.580174",
     "exception": false,
     "start_time": "2025-01-06T08:40:10.575698",
     "status": "completed"
    },
    "tags": []
   },
   "outputs": [
    {
     "name": "stdout",
     "output_type": "stream",
     "text": [
      "File 'TrainedModels/WithKFCV/KNN/ItemKNNCFRecommender/OptimizingRecall/Submission/submission_ItemKNNCF_Recall.csv' updated successfully.\n"
     ]
    }
   ],
   "source": [
    "if config['save_github'] and config['tune_best_params']: \n",
    "    upload_file(\n",
    "                f'/kaggle/working/submission_{config[\"model\"]}_{config[\"metric\"]}.csv', \n",
    "                f'{GH_PATH}/{config[\"model\"]}Recommender/Optimizing{config[\"metric\"]}/Submission/submission_{config[\"model\"]}_{config[\"metric\"]}.csv', \n",
    "                f'New {config[\"model\"]}_{config[\"metric\"]} submission (from kaggle notebook)',\n",
    "                repo\n",
    "            )"
   ]
  }
 ],
 "metadata": {
  "kaggle": {
   "accelerator": "none",
   "dataSources": [
    {
     "databundleVersionId": 9982103,
     "sourceId": 87439,
     "sourceType": "competition"
    }
   ],
   "dockerImageVersionId": 30822,
   "isGpuEnabled": false,
   "isInternetEnabled": true,
   "language": "python",
   "sourceType": "notebook"
  },
  "kernelspec": {
   "display_name": "Python 3",
   "language": "python",
   "name": "python3"
  },
  "language_info": {
   "codemirror_mode": {
    "name": "ipython",
    "version": 3
   },
   "file_extension": ".py",
   "mimetype": "text/x-python",
   "name": "python",
   "nbconvert_exporter": "python",
   "pygments_lexer": "ipython3",
   "version": "3.10.12"
  },
  "papermill": {
   "default_parameters": {},
   "duration": 40125.958309,
   "end_time": "2025-01-06T08:40:14.129500",
   "environment_variables": {},
   "exception": null,
   "input_path": "__notebook__.ipynb",
   "output_path": "__notebook__.ipynb",
   "parameters": {},
   "start_time": "2025-01-05T21:31:28.171191",
   "version": "2.6.0"
  }
 },
 "nbformat": 4,
 "nbformat_minor": 5
}
