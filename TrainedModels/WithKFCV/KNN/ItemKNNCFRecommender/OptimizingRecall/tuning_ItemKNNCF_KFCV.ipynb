{
 "cells": [
  {
   "cell_type": "markdown",
   "id": "e4340c2a",
   "metadata": {
    "papermill": {
     "duration": 0.006384,
     "end_time": "2025-01-06T09:52:16.163308",
     "exception": false,
     "start_time": "2025-01-06T09:52:16.156924",
     "status": "completed"
    },
    "tags": []
   },
   "source": [
    "# Set connection with GitHub"
   ]
  },
  {
   "cell_type": "code",
   "execution_count": 1,
   "id": "5ff82859",
   "metadata": {
    "execution": {
     "iopub.execute_input": "2025-01-06T09:52:16.176192Z",
     "iopub.status.busy": "2025-01-06T09:52:16.175741Z",
     "iopub.status.idle": "2025-01-06T09:52:16.181589Z",
     "shell.execute_reply": "2025-01-06T09:52:16.180644Z"
    },
    "papermill": {
     "duration": 0.013903,
     "end_time": "2025-01-06T09:52:16.183408",
     "exception": false,
     "start_time": "2025-01-06T09:52:16.169505",
     "status": "completed"
    },
    "tags": []
   },
   "outputs": [],
   "source": [
    "# ! cd /kaggle/working && rm -rf RECsys_Challenge2024"
   ]
  },
  {
   "cell_type": "code",
   "execution_count": 2,
   "id": "b0155cd9",
   "metadata": {
    "_cell_guid": "b1076dfc-b9ad-4769-8c92-a6c4dae69d19",
    "_uuid": "8f2839f25d086af736a60e9eeb907d3b93b6e0e5",
    "execution": {
     "iopub.execute_input": "2025-01-06T09:52:16.195830Z",
     "iopub.status.busy": "2025-01-06T09:52:16.195485Z",
     "iopub.status.idle": "2025-01-06T09:52:32.924631Z",
     "shell.execute_reply": "2025-01-06T09:52:32.923517Z"
    },
    "papermill": {
     "duration": 16.737455,
     "end_time": "2025-01-06T09:52:32.926736",
     "exception": false,
     "start_time": "2025-01-06T09:52:16.189281",
     "status": "completed"
    },
    "tags": []
   },
   "outputs": [
    {
     "name": "stdout",
     "output_type": "stream",
     "text": [
      "Cloning into 'RECsys_Challenge2024'...\r\n",
      "remote: Enumerating objects: 6727, done.\u001b[K\r\n",
      "remote: Counting objects: 100% (277/277), done.\u001b[K\r\n",
      "remote: Compressing objects: 100% (239/239), done.\u001b[K\r\n",
      "remote: Total 6727 (delta 105), reused 30 (delta 6), pack-reused 6450 (from 2)\u001b[K\r\n",
      "Receiving objects: 100% (6727/6727), 408.86 MiB | 35.10 MiB/s, done.\r\n",
      "Resolving deltas: 100% (3680/3680), done.\r\n",
      "Updating files: 100% (503/503), done.\r\n"
     ]
    }
   ],
   "source": [
    "from kaggle_secrets import UserSecretsClient\n",
    "\n",
    "token = UserSecretsClient().get_secret(\"Token\")\n",
    "\n",
    "! git clone https://{token}@github.com/madratak/RECsys_Challenge2024.git"
   ]
  },
  {
   "cell_type": "code",
   "execution_count": 3,
   "id": "025f26b5",
   "metadata": {
    "execution": {
     "iopub.execute_input": "2025-01-06T09:52:32.950164Z",
     "iopub.status.busy": "2025-01-06T09:52:32.949771Z",
     "iopub.status.idle": "2025-01-06T09:52:39.729596Z",
     "shell.execute_reply": "2025-01-06T09:52:39.728204Z"
    },
    "papermill": {
     "duration": 6.793994,
     "end_time": "2025-01-06T09:52:39.731777",
     "exception": false,
     "start_time": "2025-01-06T09:52:32.937783",
     "status": "completed"
    },
    "tags": []
   },
   "outputs": [
    {
     "name": "stdout",
     "output_type": "stream",
     "text": [
      "Collecting PyGithub\r\n",
      "  Downloading PyGithub-2.5.0-py3-none-any.whl.metadata (3.9 kB)\r\n",
      "Requirement already satisfied: requests in /usr/local/lib/python3.10/dist-packages (2.32.3)\r\n",
      "Collecting pynacl>=1.4.0 (from PyGithub)\r\n",
      "  Downloading PyNaCl-1.5.0-cp36-abi3-manylinux_2_17_x86_64.manylinux2014_x86_64.manylinux_2_24_x86_64.whl.metadata (8.6 kB)\r\n",
      "Requirement already satisfied: pyjwt>=2.4.0 in /usr/local/lib/python3.10/dist-packages (from pyjwt[crypto]>=2.4.0->PyGithub) (2.9.0)\r\n",
      "Requirement already satisfied: typing-extensions>=4.0.0 in /usr/local/lib/python3.10/dist-packages (from PyGithub) (4.12.2)\r\n",
      "Requirement already satisfied: urllib3>=1.26.0 in /usr/local/lib/python3.10/dist-packages (from PyGithub) (2.2.3)\r\n",
      "Requirement already satisfied: Deprecated in /usr/local/lib/python3.10/dist-packages (from PyGithub) (1.2.15)\r\n",
      "Requirement already satisfied: charset-normalizer<4,>=2 in /usr/local/lib/python3.10/dist-packages (from requests) (3.3.2)\r\n",
      "Requirement already satisfied: idna<4,>=2.5 in /usr/local/lib/python3.10/dist-packages (from requests) (3.10)\r\n",
      "Requirement already satisfied: certifi>=2017.4.17 in /usr/local/lib/python3.10/dist-packages (from requests) (2024.8.30)\r\n",
      "Requirement already satisfied: cryptography>=3.4.0 in /usr/local/lib/python3.10/dist-packages (from pyjwt[crypto]>=2.4.0->PyGithub) (43.0.1)\r\n",
      "Requirement already satisfied: cffi>=1.4.1 in /usr/local/lib/python3.10/dist-packages (from pynacl>=1.4.0->PyGithub) (1.17.1)\r\n",
      "Requirement already satisfied: wrapt<2,>=1.10 in /usr/local/lib/python3.10/dist-packages (from Deprecated->PyGithub) (1.16.0)\r\n",
      "Requirement already satisfied: pycparser in /usr/local/lib/python3.10/dist-packages (from cffi>=1.4.1->pynacl>=1.4.0->PyGithub) (2.22)\r\n",
      "Downloading PyGithub-2.5.0-py3-none-any.whl (375 kB)\r\n",
      "\u001b[2K   \u001b[90m━━━━━━━━━━━━━━━━━━━━━━━━━━━━━━━━━━━━━━━━\u001b[0m \u001b[32m375.9/375.9 kB\u001b[0m \u001b[31m6.7 MB/s\u001b[0m eta \u001b[36m0:00:00\u001b[0m\r\n",
      "\u001b[?25hDownloading PyNaCl-1.5.0-cp36-abi3-manylinux_2_17_x86_64.manylinux2014_x86_64.manylinux_2_24_x86_64.whl (856 kB)\r\n",
      "\u001b[2K   \u001b[90m━━━━━━━━━━━━━━━━━━━━━━━━━━━━━━━━━━━━━━━━\u001b[0m \u001b[32m856.7/856.7 kB\u001b[0m \u001b[31m27.2 MB/s\u001b[0m eta \u001b[36m0:00:00\u001b[0m\r\n",
      "\u001b[?25hInstalling collected packages: pynacl, PyGithub\r\n",
      "Successfully installed PyGithub-2.5.0 pynacl-1.5.0\r\n"
     ]
    }
   ],
   "source": [
    "! pip install PyGithub requests"
   ]
  },
  {
   "cell_type": "code",
   "execution_count": 4,
   "id": "cf322ad5",
   "metadata": {
    "_kg_hide-input": false,
    "execution": {
     "iopub.execute_input": "2025-01-06T09:52:39.756822Z",
     "iopub.status.busy": "2025-01-06T09:52:39.756244Z",
     "iopub.status.idle": "2025-01-06T09:55:29.327324Z",
     "shell.execute_reply": "2025-01-06T09:55:29.325637Z"
    },
    "papermill": {
     "duration": 169.586636,
     "end_time": "2025-01-06T09:55:29.330364",
     "exception": false,
     "start_time": "2025-01-06T09:52:39.743728",
     "status": "completed"
    },
    "tags": []
   },
   "outputs": [
    {
     "name": "stdout",
     "output_type": "stream",
     "text": [
      "/kaggle/working/RECsys_Challenge2024\n",
      "run_compile_all_cython: Found 11 Cython files in 5 folders...\r\n",
      "run_compile_all_cython: All files will be compiled using your current python environment: '/usr/bin/python3'\r\n",
      "Compiling [1/11]: MatrixFactorizationImpressions_Cython_Epoch.pyx... \r\n",
      "In file included from \u001b[01m\u001b[K/usr/local/lib/python3.10/dist-packages/numpy/core/include/numpy/ndarraytypes.h:1929\u001b[m\u001b[K,\r\n",
      "                 from \u001b[01m\u001b[K/usr/local/lib/python3.10/dist-packages/numpy/core/include/numpy/ndarrayobject.h:12\u001b[m\u001b[K,\r\n",
      "                 from \u001b[01m\u001b[K/usr/local/lib/python3.10/dist-packages/numpy/core/include/numpy/arrayobject.h:5\u001b[m\u001b[K,\r\n",
      "                 from \u001b[01m\u001b[KMatrixFactorizationImpressions_Cython_Epoch.c:1252\u001b[m\u001b[K:\r\n",
      "\u001b[01m\u001b[K/usr/local/lib/python3.10/dist-packages/numpy/core/include/numpy/npy_1_7_deprecated_api.h:17:2:\u001b[m\u001b[K \u001b[01;35m\u001b[Kwarning: \u001b[m\u001b[K#warning \"Using deprecated NumPy API, disable it with \" \"#define NPY_NO_DEPRECATED_API NPY_1_7_API_VERSION\" [\u001b[01;35m\u001b[K\u001b]8;;https://gcc.gnu.org/onlinedocs/gcc/Warning-Options.html#index-Wcpp\u0007-Wcpp\u001b]8;;\u0007\u001b[m\u001b[K]\r\n",
      "   17 | #\u001b[01;35m\u001b[Kwarning\u001b[m\u001b[K \"Using deprecated NumPy API, disable it with \" \\\r\n",
      "      |  \u001b[01;35m\u001b[K^~~~~~~\u001b[m\u001b[K\r\n",
      "\u001b[01m\u001b[KMatrixFactorizationImpressions_Cython_Epoch.c:\u001b[m\u001b[K In function ‘\u001b[01m\u001b[K__pyx_f_43MatrixFactorizationImpressions_Cython_Epoch_32MatrixFactorization_Cython_Epoch_sampleBPR_Cython\u001b[m\u001b[K’:\r\n",
      "\u001b[01m\u001b[KMatrixFactorizationImpressions_Cython_Epoch.c:30353:17:\u001b[m\u001b[K \u001b[01;35m\u001b[Kwarning: \u001b[m\u001b[K‘\u001b[01m\u001b[K__pyx_v_start_pos_impression_items\u001b[m\u001b[K’ may be used uninitialized in this function [\u001b[01;35m\u001b[K\u001b]8;;https://gcc.gnu.org/onlinedocs/gcc/Warning-Options.html#index-Wmaybe-uninitialized\u0007-Wmaybe-uninitialized\u001b]8;;\u0007\u001b[m\u001b[K]\r\n",
      "30353 |       \u001b[01;35m\u001b[K__pyx_t_4 = (__pyx_v_start_pos_impression_items + __pyx_v_index)\u001b[m\u001b[K;\r\n",
      "      |       \u001b[01;35m\u001b[K~~~~~~~~~~^~~~~~~~~~~~~~~~~~~~~~~~~~~~~~~~~~~~~~~~~~~~~~~~~~~~~~\u001b[m\u001b[K\r\n",
      "\u001b[01m\u001b[KMatrixFactorizationImpressions_Cython_Epoch.c:\u001b[m\u001b[K In function ‘\u001b[01m\u001b[K__pyx_pf_43MatrixFactorizationImpressions_Cython_Epoch_32MatrixFactorization_Cython_Epoch_10epochIteration_Cython_ASY_SVD_SGD\u001b[m\u001b[K’:\r\n",
      "\u001b[01m\u001b[KMatrixFactorizationImpressions_Cython_Epoch.c:26112:66:\u001b[m\u001b[K \u001b[01;35m\u001b[Kwarning: \u001b[m\u001b[K‘\u001b[01m\u001b[K__pyx_v_end_pos_seen_items\u001b[m\u001b[K’ may be used uninitialized in this function [\u001b[01;35m\u001b[K\u001b]8;;https://gcc.gnu.org/onlinedocs/gcc/Warning-Options.html#index-Wmaybe-uninitialized\u0007-Wmaybe-uninitialized\u001b]8;;\u0007\u001b[m\u001b[K]\r\n",
      "26112 |       for (__pyx_t_22 = __pyx_v_start_pos_seen_items; \u001b[01;35m\u001b[K__pyx_t_22 < __pyx_t_21\u001b[m\u001b[K; __pyx_t_22+=1) {\r\n",
      "      |                                                       \u001b[01;35m\u001b[K~~~~~~~~~~~^~~~~~~~~~~~\u001b[m\u001b[K\r\n",
      "\u001b[01m\u001b[KMatrixFactorizationImpressions_Cython_Epoch.c:26112:66:\u001b[m\u001b[K \u001b[01;35m\u001b[Kwarning: \u001b[m\u001b[K‘\u001b[01m\u001b[K__pyx_v_start_pos_seen_items\u001b[m\u001b[K’ may be used uninitialized in this function [\u001b[01;35m\u001b[K\u001b]8;;https://gcc.gnu.org/onlinedocs/gcc/Warning-Options.html#index-Wmaybe-uninitialized\u0007-Wmaybe-uninitialized\u001b]8;;\u0007\u001b[m\u001b[K]\r\n",
      "/usr/local/lib/python3.10/dist-packages/Cython/Compiler/Main.py:381: FutureWarning: Cython directive 'language_level' not set, using '3str' for now (Py3). This has changed from earlier releases! File: /kaggle/working/RECsys_Challenge2024/Recommenders/MatrixFactorization/Cython/MatrixFactorizationImpressions_Cython_Epoch.pyx\r\n",
      "  tree = Parsing.p_module(s, pxd, full_module_name)\r\n",
      "Compiling [1/11]: MatrixFactorizationImpressions_Cython_Epoch.pyx... PASS\r\n",
      "\r\n",
      "Compiling [2/11]: MatrixFactorization_Cython_Epoch.pyx... \r\n",
      "In file included from \u001b[01m\u001b[K/usr/local/lib/python3.10/dist-packages/numpy/core/include/numpy/ndarraytypes.h:1929\u001b[m\u001b[K,\r\n",
      "                 from \u001b[01m\u001b[K/usr/local/lib/python3.10/dist-packages/numpy/core/include/numpy/ndarrayobject.h:12\u001b[m\u001b[K,\r\n",
      "                 from \u001b[01m\u001b[K/usr/local/lib/python3.10/dist-packages/numpy/core/include/numpy/arrayobject.h:5\u001b[m\u001b[K,\r\n",
      "                 from \u001b[01m\u001b[KMatrixFactorization_Cython_Epoch.c:1252\u001b[m\u001b[K:\r\n",
      "\u001b[01m\u001b[K/usr/local/lib/python3.10/dist-packages/numpy/core/include/numpy/npy_1_7_deprecated_api.h:17:2:\u001b[m\u001b[K \u001b[01;35m\u001b[Kwarning: \u001b[m\u001b[K#warning \"Using deprecated NumPy API, disable it with \" \"#define NPY_NO_DEPRECATED_API NPY_1_7_API_VERSION\" [\u001b[01;35m\u001b[K\u001b]8;;https://gcc.gnu.org/onlinedocs/gcc/Warning-Options.html#index-Wcpp\u0007-Wcpp\u001b]8;;\u0007\u001b[m\u001b[K]\r\n",
      "   17 | #\u001b[01;35m\u001b[Kwarning\u001b[m\u001b[K \"Using deprecated NumPy API, disable it with \" \\\r\n",
      "      |  \u001b[01;35m\u001b[K^~~~~~~\u001b[m\u001b[K\r\n",
      "\u001b[01m\u001b[KMatrixFactorization_Cython_Epoch.c:\u001b[m\u001b[K In function ‘\u001b[01m\u001b[K__pyx_pf_32MatrixFactorization_Cython_Epoch_32MatrixFactorization_Cython_Epoch_10epochIteration_Cython_ASY_SVD_SGD\u001b[m\u001b[K’:\r\n",
      "\u001b[01m\u001b[KMatrixFactorization_Cython_Epoch.c:26256:68:\u001b[m\u001b[K \u001b[01;35m\u001b[Kwarning: \u001b[m\u001b[K‘\u001b[01m\u001b[K__pyx_v_end_pos_seen_items\u001b[m\u001b[K’ may be used uninitialized in this function [\u001b[01;35m\u001b[K\u001b]8;;https://gcc.gnu.org/onlinedocs/gcc/Warning-Options.html#index-Wmaybe-uninitialized\u0007-Wmaybe-uninitialized\u001b]8;;\u0007\u001b[m\u001b[K]\r\n",
      "26256 |         for (__pyx_t_22 = __pyx_v_start_pos_seen_items; \u001b[01;35m\u001b[K__pyx_t_22 < __pyx_t_21\u001b[m\u001b[K; __pyx_t_22+=1) {\r\n",
      "      |                                                         \u001b[01;35m\u001b[K~~~~~~~~~~~^~~~~~~~~~~~\u001b[m\u001b[K\r\n",
      "\u001b[01m\u001b[KMatrixFactorization_Cython_Epoch.c:26256:68:\u001b[m\u001b[K \u001b[01;35m\u001b[Kwarning: \u001b[m\u001b[K‘\u001b[01m\u001b[K__pyx_v_start_pos_seen_items\u001b[m\u001b[K’ may be used uninitialized in this function [\u001b[01;35m\u001b[K\u001b]8;;https://gcc.gnu.org/onlinedocs/gcc/Warning-Options.html#index-Wmaybe-uninitialized\u0007-Wmaybe-uninitialized\u001b]8;;\u0007\u001b[m\u001b[K]\r\n",
      "/usr/local/lib/python3.10/dist-packages/Cython/Compiler/Main.py:381: FutureWarning: Cython directive 'language_level' not set, using '3str' for now (Py3). This has changed from earlier releases! File: /kaggle/working/RECsys_Challenge2024/Recommenders/MatrixFactorization/Cython/MatrixFactorization_Cython_Epoch.pyx\r\n",
      "  tree = Parsing.p_module(s, pxd, full_module_name)\r\n",
      "Compiling [2/11]: MatrixFactorization_Cython_Epoch.pyx... PASS\r\n",
      "\r\n",
      "Compiling [3/11]: Compute_Similarity_Cython.pyx... \r\n",
      "warning: Compute_Similarity_Cython.pyx:21:0: The 'IF' statement is deprecated and will be removed in a future Cython version. Consider using runtime conditions or C macros instead. See https://github.com/cython/cython/issues/4310\r\n",
      "In file included from \u001b[01m\u001b[K/usr/local/lib/python3.10/dist-packages/numpy/core/include/numpy/ndarraytypes.h:1929\u001b[m\u001b[K,\r\n",
      "                 from \u001b[01m\u001b[K/usr/local/lib/python3.10/dist-packages/numpy/core/include/numpy/ndarrayobject.h:12\u001b[m\u001b[K,\r\n",
      "                 from \u001b[01m\u001b[K/usr/local/lib/python3.10/dist-packages/numpy/core/include/numpy/arrayobject.h:5\u001b[m\u001b[K,\r\n",
      "                 from \u001b[01m\u001b[KCompute_Similarity_Cython.c:1252\u001b[m\u001b[K:\r\n",
      "\u001b[01m\u001b[K/usr/local/lib/python3.10/dist-packages/numpy/core/include/numpy/npy_1_7_deprecated_api.h:17:2:\u001b[m\u001b[K \u001b[01;35m\u001b[Kwarning: \u001b[m\u001b[K#warning \"Using deprecated NumPy API, disable it with \" \"#define NPY_NO_DEPRECATED_API NPY_1_7_API_VERSION\" [\u001b[01;35m\u001b[K\u001b]8;;https://gcc.gnu.org/onlinedocs/gcc/Warning-Options.html#index-Wcpp\u0007-Wcpp\u001b]8;;\u0007\u001b[m\u001b[K]\r\n",
      "   17 | #\u001b[01;35m\u001b[Kwarning\u001b[m\u001b[K \"Using deprecated NumPy API, disable it with \" \\\r\n",
      "      |  \u001b[01;35m\u001b[K^~~~~~~\u001b[m\u001b[K\r\n",
      "/usr/local/lib/python3.10/dist-packages/Cython/Compiler/Main.py:381: FutureWarning: Cython directive 'language_level' not set, using '3str' for now (Py3). This has changed from earlier releases! File: /kaggle/working/RECsys_Challenge2024/Recommenders/Similarity/Cython/Compute_Similarity_Cython.pyx\r\n",
      "  tree = Parsing.p_module(s, pxd, full_module_name)\r\n",
      "warning: Compute_Similarity_Cython.pyx:21:0: The 'IF' statement is deprecated and will be removed in a future Cython version. Consider using runtime conditions or C macros instead. See https://github.com/cython/cython/issues/4310\r\n",
      "Compiling [3/11]: Compute_Similarity_Cython.pyx... PASS\r\n",
      "\r\n",
      "Compiling [4/11]: SLIM_BPR_Cython_Epoch.pyx... \r\n",
      "warning: SLIM_BPR_Cython_Epoch.pyx:24:0: The 'IF' statement is deprecated and will be removed in a future Cython version. Consider using runtime conditions or C macros instead. See https://github.com/cython/cython/issues/4310\r\n",
      "warning: SLIM_BPR_Cython_Epoch.pyx:632:34: Non-trivial type declarators in shared declaration (e.g. mix of pointers and values). Each pointer declaration should be on its own line.\r\n",
      "warning: SLIM_BPR_Cython_Epoch.pyx:632:66: Non-trivial type declarators in shared declaration (e.g. mix of pointers and values). Each pointer declaration should be on its own line.\r\n",
      "warning: SLIM_BPR_Cython_Epoch.pyx:817:35: Non-trivial type declarators in shared declaration (e.g. mix of pointers and values). Each pointer declaration should be on its own line.\r\n",
      "warning: SLIM_BPR_Cython_Epoch.pyx:817:52: Non-trivial type declarators in shared declaration (e.g. mix of pointers and values). Each pointer declaration should be on its own line.\r\n",
      "warning: SLIM_BPR_Cython_Epoch.pyx:916:35: Non-trivial type declarators in shared declaration (e.g. mix of pointers and values). Each pointer declaration should be on its own line.\r\n",
      "warning: SLIM_BPR_Cython_Epoch.pyx:916:53: Non-trivial type declarators in shared declaration (e.g. mix of pointers and values). Each pointer declaration should be on its own line.\r\n",
      "warning: SLIM_BPR_Cython_Epoch.pyx:916:69: Non-trivial type declarators in shared declaration (e.g. mix of pointers and values). Each pointer declaration should be on its own line.\r\n",
      "warning: SLIM_BPR_Cython_Epoch.pyx:1051:35: Non-trivial type declarators in shared declaration (e.g. mix of pointers and values). Each pointer declaration should be on its own line.\r\n",
      "warning: SLIM_BPR_Cython_Epoch.pyx:1051:42: Non-trivial type declarators in shared declaration (e.g. mix of pointers and values). Each pointer declaration should be on its own line.\r\n",
      "warning: SLIM_BPR_Cython_Epoch.pyx:1052:35: Non-trivial type declarators in shared declaration (e.g. mix of pointers and values). Each pointer declaration should be on its own line.\r\n",
      "warning: SLIM_BPR_Cython_Epoch.pyx:1052:53: Non-trivial type declarators in shared declaration (e.g. mix of pointers and values). Each pointer declaration should be on its own line.\r\n",
      "\r\n",
      "Error compiling Cython file:\r\n",
      "------------------------------------------------------------\r\n",
      "...\r\n",
      "            vector_pointer_to_list_elements[index].head = current_element\r\n",
      "            current_element = current_element.higher\r\n",
      "\r\n",
      "\r\n",
      "        # Sort array elements on their data field\r\n",
      "        qsort(vector_pointer_to_list_elements, list_length, sizeof(head_pointer_tree_s), compare_struct_on_data)\r\n",
      "                                                                                         ^\r\n",
      "------------------------------------------------------------\r\n",
      "\r\n",
      "SLIM_BPR_Cython_Epoch.pyx:990:89: Cannot assign type 'int (const void *, const void *) except? -1' to 'int (*)(const_void *, const_void *) noexcept'. Exception values are incompatible. Suggest adding 'noexcept' to the type of 'compare_struct_on_data'.\r\n",
      "\r\n",
      "Error compiling Cython file:\r\n",
      "------------------------------------------------------------\r\n",
      "...\r\n",
      "        # Sort array elements on their data field\r\n",
      "        qsort(vector_pointer_to_list_elements, list_length, sizeof(head_pointer_tree_s), compare_struct_on_data)\r\n",
      "\r\n",
      "        # Sort only the TopK according to their column field\r\n",
      "        # Sort is from lower to higher, therefore the elements to be considered are from len-topK to len\r\n",
      "        qsort(&vector_pointer_to_list_elements[list_length-TopK], TopK, sizeof(head_pointer_tree_s), compare_struct_on_column)\r\n",
      "                                                                                                     ^\r\n",
      "------------------------------------------------------------\r\n",
      "\r\n",
      "SLIM_BPR_Cython_Epoch.pyx:994:101: Cannot assign type 'int (const void *, const void *) except? -1' to 'int (*)(const_void *, const_void *) noexcept'. Exception values are incompatible. Suggest adding 'noexcept' to the type of 'compare_struct_on_column'.\r\n",
      "Traceback (most recent call last):\r\n",
      "  File \"/kaggle/working/RECsys_Challenge2024/CythonCompiler/compile_script.py\", line 48, in <module>\r\n",
      "    setup(\r\n",
      "  File \"/usr/local/lib/python3.10/dist-packages/setuptools/__init__.py\", line 108, in setup\r\n",
      "    return distutils.core.setup(**attrs)\r\n",
      "  File \"/usr/local/lib/python3.10/dist-packages/setuptools/_distutils/core.py\", line 184, in setup\r\n",
      "    return run_commands(dist)\r\n",
      "  File \"/usr/local/lib/python3.10/dist-packages/setuptools/_distutils/core.py\", line 200, in run_commands\r\n",
      "    dist.run_commands()\r\n",
      "  File \"/usr/local/lib/python3.10/dist-packages/setuptools/_distutils/dist.py\", line 970, in run_commands\r\n",
      "    self.run_command(cmd)\r\n",
      "  File \"/usr/local/lib/python3.10/dist-packages/setuptools/dist.py\", line 956, in run_command\r\n",
      "    super().run_command(command)\r\n",
      "  File \"/usr/local/lib/python3.10/dist-packages/setuptools/_distutils/dist.py\", line 989, in run_command\r\n",
      "    cmd_obj.run()\r\n",
      "  File \"/usr/local/lib/python3.10/dist-packages/setuptools/_distutils/command/build_ext.py\", line 359, in run\r\n",
      "    self.build_extensions()\r\n",
      "  File \"/usr/local/lib/python3.10/dist-packages/setuptools/_distutils/command/build_ext.py\", line 479, in build_extensions\r\n",
      "    self._build_extensions_serial()\r\n",
      "  File \"/usr/local/lib/python3.10/dist-packages/setuptools/_distutils/command/build_ext.py\", line 505, in _build_extensions_serial\r\n",
      "    self.build_extension(ext)\r\n",
      "  File \"/usr/local/lib/python3.10/dist-packages/Cython/Distutils/build_ext.py\", line 130, in build_extension\r\n",
      "    new_ext = cythonize(\r\n",
      "  File \"/usr/local/lib/python3.10/dist-packages/Cython/Build/Dependencies.py\", line 1154, in cythonize\r\n",
      "    cythonize_one(*args)\r\n",
      "  File \"/usr/local/lib/python3.10/dist-packages/Cython/Build/Dependencies.py\", line 1321, in cythonize_one\r\n",
      "    raise CompileError(None, pyx_file)\r\n",
      "Cython.Compiler.Errors.CompileError: SLIM_BPR_Cython_Epoch.pyx\r\n",
      "Traceback (most recent call last):\r\n",
      "  File \"/kaggle/working/RECsys_Challenge2024/run_compile_all_cython.py\", line 60, in <module>\r\n",
      "    run_compile_subprocess(file_path, [file_name])\r\n",
      "  File \"/kaggle/working/RECsys_Challenge2024/CythonCompiler/run_compile_subprocess.py\", line 51, in run_compile_subprocess\r\n",
      "    raise exc\r\n",
      "  File \"/kaggle/working/RECsys_Challenge2024/CythonCompiler/run_compile_subprocess.py\", line 32, in run_compile_subprocess\r\n",
      "    output = subprocess.check_output(' '.join(command),\r\n",
      "  File \"/usr/lib/python3.10/subprocess.py\", line 421, in check_output\r\n",
      "    return run(*popenargs, stdout=PIPE, timeout=timeout, check=True,\r\n",
      "  File \"/usr/lib/python3.10/subprocess.py\", line 526, in run\r\n",
      "    raise CalledProcessError(retcode, process.args,\r\n",
      "subprocess.CalledProcessError: Command '/usr/bin/python3 /kaggle/working/RECsys_Challenge2024/CythonCompiler/compile_script.py SLIM_BPR_Cython_Epoch.pyx build_ext --inplace' returned non-zero exit status 1.\r\n",
      "Compiling [4/11]: SLIM_BPR_Cython_Epoch.pyx... FAIL: Command '/usr/bin/python3 /kaggle/working/RECsys_Challenge2024/CythonCompiler/compile_script.py SLIM_BPR_Cython_Epoch.pyx build_ext --inplace' returned non-zero exit status 1.\r\n",
      "\r\n",
      "Compiling [5/11]: Sparse_Matrix_Tree_CSR.pyx... \r\n",
      "warning: Sparse_Matrix_Tree_CSR.pyx:132:34: Non-trivial type declarators in shared declaration (e.g. mix of pointers and values). Each pointer declaration should be on its own line.\r\n",
      "warning: Sparse_Matrix_Tree_CSR.pyx:132:66: Non-trivial type declarators in shared declaration (e.g. mix of pointers and values). Each pointer declaration should be on its own line.\r\n",
      "warning: Sparse_Matrix_Tree_CSR.pyx:343:35: Non-trivial type declarators in shared declaration (e.g. mix of pointers and values). Each pointer declaration should be on its own line.\r\n",
      "warning: Sparse_Matrix_Tree_CSR.pyx:343:52: Non-trivial type declarators in shared declaration (e.g. mix of pointers and values). Each pointer declaration should be on its own line.\r\n",
      "warning: Sparse_Matrix_Tree_CSR.pyx:442:35: Non-trivial type declarators in shared declaration (e.g. mix of pointers and values). Each pointer declaration should be on its own line.\r\n",
      "warning: Sparse_Matrix_Tree_CSR.pyx:442:53: Non-trivial type declarators in shared declaration (e.g. mix of pointers and values). Each pointer declaration should be on its own line.\r\n",
      "warning: Sparse_Matrix_Tree_CSR.pyx:442:69: Non-trivial type declarators in shared declaration (e.g. mix of pointers and values). Each pointer declaration should be on its own line.\r\n",
      "warning: Sparse_Matrix_Tree_CSR.pyx:577:35: Non-trivial type declarators in shared declaration (e.g. mix of pointers and values). Each pointer declaration should be on its own line.\r\n",
      "warning: Sparse_Matrix_Tree_CSR.pyx:577:42: Non-trivial type declarators in shared declaration (e.g. mix of pointers and values). Each pointer declaration should be on its own line.\r\n",
      "warning: Sparse_Matrix_Tree_CSR.pyx:578:35: Non-trivial type declarators in shared declaration (e.g. mix of pointers and values). Each pointer declaration should be on its own line.\r\n",
      "warning: Sparse_Matrix_Tree_CSR.pyx:578:53: Non-trivial type declarators in shared declaration (e.g. mix of pointers and values). Each pointer declaration should be on its own line.\r\n",
      "\r\n",
      "Error compiling Cython file:\r\n",
      "------------------------------------------------------------\r\n",
      "...\r\n",
      "            vector_pointer_to_list_elements[index].head = current_element\r\n",
      "            current_element = current_element.higher\r\n",
      "\r\n",
      "\r\n",
      "        # Sort array elements on their data field\r\n",
      "        qsort(vector_pointer_to_list_elements, list_length, sizeof(head_pointer_tree_s), compare_struct_on_data)\r\n",
      "                                                                                         ^\r\n",
      "------------------------------------------------------------\r\n",
      "\r\n",
      "Sparse_Matrix_Tree_CSR.pyx:516:89: Cannot assign type 'int (const void *, const void *) except? -1' to 'int (*)(const_void *, const_void *) noexcept'. Exception values are incompatible. Suggest adding 'noexcept' to the type of 'compare_struct_on_data'.\r\n",
      "\r\n",
      "Error compiling Cython file:\r\n",
      "------------------------------------------------------------\r\n",
      "...\r\n",
      "        # Sort array elements on their data field\r\n",
      "        qsort(vector_pointer_to_list_elements, list_length, sizeof(head_pointer_tree_s), compare_struct_on_data)\r\n",
      "\r\n",
      "        # Sort only the TopK according to their column field\r\n",
      "        # Sort is from lower to higher, therefore the elements to be considered are from len-topK to len\r\n",
      "        qsort(&vector_pointer_to_list_elements[list_length-TopK], TopK, sizeof(head_pointer_tree_s), compare_struct_on_column)\r\n",
      "                                                                                                     ^\r\n",
      "------------------------------------------------------------\r\n",
      "\r\n",
      "Sparse_Matrix_Tree_CSR.pyx:520:101: Cannot assign type 'int (const void *, const void *) except? -1' to 'int (*)(const_void *, const_void *) noexcept'. Exception values are incompatible. Suggest adding 'noexcept' to the type of 'compare_struct_on_column'.\r\n",
      "Traceback (most recent call last):\r\n",
      "  File \"/kaggle/working/RECsys_Challenge2024/CythonCompiler/compile_script.py\", line 48, in <module>\r\n",
      "    setup(\r\n",
      "  File \"/usr/local/lib/python3.10/dist-packages/setuptools/__init__.py\", line 108, in setup\r\n",
      "    return distutils.core.setup(**attrs)\r\n",
      "  File \"/usr/local/lib/python3.10/dist-packages/setuptools/_distutils/core.py\", line 184, in setup\r\n",
      "    return run_commands(dist)\r\n",
      "  File \"/usr/local/lib/python3.10/dist-packages/setuptools/_distutils/core.py\", line 200, in run_commands\r\n",
      "    dist.run_commands()\r\n",
      "  File \"/usr/local/lib/python3.10/dist-packages/setuptools/_distutils/dist.py\", line 970, in run_commands\r\n",
      "    self.run_command(cmd)\r\n",
      "  File \"/usr/local/lib/python3.10/dist-packages/setuptools/dist.py\", line 956, in run_command\r\n",
      "    super().run_command(command)\r\n",
      "  File \"/usr/local/lib/python3.10/dist-packages/setuptools/_distutils/dist.py\", line 989, in run_command\r\n",
      "    cmd_obj.run()\r\n",
      "  File \"/usr/local/lib/python3.10/dist-packages/setuptools/_distutils/command/build_ext.py\", line 359, in run\r\n",
      "    self.build_extensions()\r\n",
      "  File \"/usr/local/lib/python3.10/dist-packages/setuptools/_distutils/command/build_ext.py\", line 479, in build_extensions\r\n",
      "    self._build_extensions_serial()\r\n",
      "  File \"/usr/local/lib/python3.10/dist-packages/setuptools/_distutils/command/build_ext.py\", line 505, in _build_extensions_serial\r\n",
      "    self.build_extension(ext)\r\n",
      "  File \"/usr/local/lib/python3.10/dist-packages/Cython/Distutils/build_ext.py\", line 130, in build_extension\r\n",
      "    new_ext = cythonize(\r\n",
      "  File \"/usr/local/lib/python3.10/dist-packages/Cython/Build/Dependencies.py\", line 1154, in cythonize\r\n",
      "    cythonize_one(*args)\r\n",
      "  File \"/usr/local/lib/python3.10/dist-packages/Cython/Build/Dependencies.py\", line 1321, in cythonize_one\r\n",
      "    raise CompileError(None, pyx_file)\r\n",
      "Cython.Compiler.Errors.CompileError: Sparse_Matrix_Tree_CSR.pyx\r\n",
      "Traceback (most recent call last):\r\n",
      "  File \"/kaggle/working/RECsys_Challenge2024/run_compile_all_cython.py\", line 60, in <module>\r\n",
      "    run_compile_subprocess(file_path, [file_name])\r\n",
      "  File \"/kaggle/working/RECsys_Challenge2024/CythonCompiler/run_compile_subprocess.py\", line 51, in run_compile_subprocess\r\n",
      "    raise exc\r\n",
      "  File \"/kaggle/working/RECsys_Challenge2024/CythonCompiler/run_compile_subprocess.py\", line 32, in run_compile_subprocess\r\n",
      "    output = subprocess.check_output(' '.join(command),\r\n",
      "  File \"/usr/lib/python3.10/subprocess.py\", line 421, in check_output\r\n",
      "    return run(*popenargs, stdout=PIPE, timeout=timeout, check=True,\r\n",
      "  File \"/usr/lib/python3.10/subprocess.py\", line 526, in run\r\n",
      "    raise CalledProcessError(retcode, process.args,\r\n",
      "subprocess.CalledProcessError: Command '/usr/bin/python3 /kaggle/working/RECsys_Challenge2024/CythonCompiler/compile_script.py Sparse_Matrix_Tree_CSR.pyx build_ext --inplace' returned non-zero exit status 1.\r\n",
      "Compiling [5/11]: Sparse_Matrix_Tree_CSR.pyx... FAIL: Command '/usr/bin/python3 /kaggle/working/RECsys_Challenge2024/CythonCompiler/compile_script.py Sparse_Matrix_Tree_CSR.pyx build_ext --inplace' returned non-zero exit status 1.\r\n",
      "\r\n",
      "Compiling [6/11]: Triangular_Matrix.pyx... \r\n",
      "warning: Triangular_Matrix.pyx:22:0: The 'IF' statement is deprecated and will be removed in a future Cython version. Consider using runtime conditions or C macros instead. See https://github.com/cython/cython/issues/4310\r\n",
      "In file included from \u001b[01m\u001b[K/usr/local/lib/python3.10/dist-packages/numpy/core/include/numpy/ndarraytypes.h:1929\u001b[m\u001b[K,\r\n",
      "                 from \u001b[01m\u001b[K/usr/local/lib/python3.10/dist-packages/numpy/core/include/numpy/ndarrayobject.h:12\u001b[m\u001b[K,\r\n",
      "                 from \u001b[01m\u001b[K/usr/local/lib/python3.10/dist-packages/numpy/core/include/numpy/arrayobject.h:5\u001b[m\u001b[K,\r\n",
      "                 from \u001b[01m\u001b[KTriangular_Matrix.c:1252\u001b[m\u001b[K:\r\n",
      "\u001b[01m\u001b[K/usr/local/lib/python3.10/dist-packages/numpy/core/include/numpy/npy_1_7_deprecated_api.h:17:2:\u001b[m\u001b[K \u001b[01;35m\u001b[Kwarning: \u001b[m\u001b[K#warning \"Using deprecated NumPy API, disable it with \" \"#define NPY_NO_DEPRECATED_API NPY_1_7_API_VERSION\" [\u001b[01;35m\u001b[K\u001b]8;;https://gcc.gnu.org/onlinedocs/gcc/Warning-Options.html#index-Wcpp\u0007-Wcpp\u001b]8;;\u0007\u001b[m\u001b[K]\r\n",
      "   17 | #\u001b[01;35m\u001b[Kwarning\u001b[m\u001b[K \"Using deprecated NumPy API, disable it with \" \\\r\n",
      "      |  \u001b[01;35m\u001b[K^~~~~~~\u001b[m\u001b[K\r\n",
      "In function ‘\u001b[01m\u001b[K__pyx_pf_17Triangular_Matrix_17Triangular_Matrix___init__\u001b[m\u001b[K’,\r\n",
      "    inlined from ‘\u001b[01m\u001b[K__pyx_pw_17Triangular_Matrix_17Triangular_Matrix_1__init__\u001b[m\u001b[K’ at \u001b[01m\u001b[KTriangular_Matrix.c:5541:13\u001b[m\u001b[K:\r\n",
      "\u001b[01m\u001b[KTriangular_Matrix.c:5599:43:\u001b[m\u001b[K \u001b[01;35m\u001b[Kwarning: \u001b[m\u001b[Kargument 1 value ‘\u001b[01m\u001b[K18446744073709551608\u001b[m\u001b[K’ exceeds maximum object size 9223372036854775807 [\u001b[01;35m\u001b[K\u001b]8;;https://gcc.gnu.org/onlinedocs/gcc/Warning-Options.html#index-Walloc-size-larger-than=\u0007-Walloc-size-larger-than=\u001b]8;;\u0007\u001b[m\u001b[K]\r\n",
      " 5599 |   __pyx_v_self->row_pointer = ((double **)\u001b[01;35m\u001b[Kmalloc((__pyx_v_self->num_rows * (sizeof(double *))))\u001b[m\u001b[K);\r\n",
      "      |                                           \u001b[01;35m\u001b[K^~~~~~~~~~~~~~~~~~~~~~~~~~~~~~~~~~~~~~~~~~~~~~~~~~~~~\u001b[m\u001b[K\r\n",
      "In file included from \u001b[01m\u001b[K/usr/include/python3.10/Python.h:34\u001b[m\u001b[K,\r\n",
      "                 from \u001b[01m\u001b[KTriangular_Matrix.c:41\u001b[m\u001b[K:\r\n",
      "\u001b[01m\u001b[KTriangular_Matrix.c:\u001b[m\u001b[K In function ‘\u001b[01m\u001b[K__pyx_pw_17Triangular_Matrix_17Triangular_Matrix_1__init__\u001b[m\u001b[K’:\r\n",
      "\u001b[01m\u001b[K/usr/include/stdlib.h:540:14:\u001b[m\u001b[K \u001b[01;36m\u001b[Knote: \u001b[m\u001b[Kin a call to allocation function ‘\u001b[01m\u001b[Kmalloc\u001b[m\u001b[K’ declared here\r\n",
      "  540 | extern void *\u001b[01;36m\u001b[Kmalloc\u001b[m\u001b[K (size_t __size) __THROW __attribute_malloc__\r\n",
      "      |              \u001b[01;36m\u001b[K^~~~~~\u001b[m\u001b[K\r\n",
      "/usr/local/lib/python3.10/dist-packages/Cython/Compiler/Main.py:381: FutureWarning: Cython directive 'language_level' not set, using '3str' for now (Py3). This has changed from earlier releases! File: /kaggle/working/RECsys_Challenge2024/Recommenders/SLIM/Cython/Triangular_Matrix.pyx\r\n",
      "  tree = Parsing.p_module(s, pxd, full_module_name)\r\n",
      "warning: Triangular_Matrix.pyx:22:0: The 'IF' statement is deprecated and will be removed in a future Cython version. Consider using runtime conditions or C macros instead. See https://github.com/cython/cython/issues/4310\r\n",
      "Compiling [6/11]: Triangular_Matrix.pyx... PASS\r\n",
      "\r\n",
      "Compiling [7/11]: FBSM_Rating_Cython_SGD.pyx... \r\n",
      "In file included from \u001b[01m\u001b[K/usr/local/lib/python3.10/dist-packages/numpy/core/include/numpy/ndarraytypes.h:1929\u001b[m\u001b[K,\r\n",
      "                 from \u001b[01m\u001b[K/usr/local/lib/python3.10/dist-packages/numpy/core/include/numpy/ndarrayobject.h:12\u001b[m\u001b[K,\r\n",
      "                 from \u001b[01m\u001b[K/usr/local/lib/python3.10/dist-packages/numpy/core/include/numpy/arrayobject.h:5\u001b[m\u001b[K,\r\n",
      "                 from \u001b[01m\u001b[KFBSM_Rating_Cython_SGD.c:1252\u001b[m\u001b[K:\r\n",
      "\u001b[01m\u001b[K/usr/local/lib/python3.10/dist-packages/numpy/core/include/numpy/npy_1_7_deprecated_api.h:17:2:\u001b[m\u001b[K \u001b[01;35m\u001b[Kwarning: \u001b[m\u001b[K#warning \"Using deprecated NumPy API, disable it with \" \"#define NPY_NO_DEPRECATED_API NPY_1_7_API_VERSION\" [\u001b[01;35m\u001b[K\u001b]8;;https://gcc.gnu.org/onlinedocs/gcc/Warning-Options.html#index-Wcpp\u0007-Wcpp\u001b]8;;\u0007\u001b[m\u001b[K]\r\n",
      "   17 | #\u001b[01;35m\u001b[Kwarning\u001b[m\u001b[K \"Using deprecated NumPy API, disable it with \" \\\r\n",
      "      |  \u001b[01;35m\u001b[K^~~~~~~\u001b[m\u001b[K\r\n",
      "\u001b[01m\u001b[KFBSM_Rating_Cython_SGD.c:\u001b[m\u001b[K In function ‘\u001b[01m\u001b[K__pyx_pf_22FBSM_Rating_Cython_SGD_22FBSM_Rating_Cython_SGD_2fit\u001b[m\u001b[K’:\r\n",
      "\u001b[01m\u001b[KFBSM_Rating_Cython_SGD.c:26607:55:\u001b[m\u001b[K \u001b[01;35m\u001b[Kwarning: \u001b[m\u001b[K‘\u001b[01m\u001b[K__pyx_v_num_sample\u001b[m\u001b[K’ may be used uninitialized in this function [\u001b[01;35m\u001b[K\u001b]8;;https://gcc.gnu.org/onlinedocs/gcc/Warning-Options.html#index-Wmaybe-uninitialized\u0007-Wmaybe-uninitialized\u001b]8;;\u0007\u001b[m\u001b[K]\r\n",
      "26607 |   __pyx_t_5 = PyFloat_FromDouble((__pyx_v_cum_loss / \u001b[01;35m\u001b[K((double)__pyx_v_num_sample)\u001b[m\u001b[K)); if (unlikely(!__pyx_t_5)) __PYX_ERR(0, 551, __pyx_L1_error)\r\n",
      "      |                                                      \u001b[01;35m\u001b[K~^~~~~~~~~~~~~~~~~~~~~~~~~~~\u001b[m\u001b[K\r\n",
      "/usr/local/lib/python3.10/dist-packages/Cython/Compiler/Main.py:381: FutureWarning: Cython directive 'language_level' not set, using '3str' for now (Py3). This has changed from earlier releases! File: /kaggle/working/RECsys_Challenge2024/Recommenders/FeatureWeighting/Cython/FBSM_Rating_Cython_SGD.pyx\r\n",
      "  tree = Parsing.p_module(s, pxd, full_module_name)\r\n",
      "Compiling [7/11]: FBSM_Rating_Cython_SGD.pyx... PASS\r\n",
      "\r\n",
      "Compiling [8/11]: CFW_D_Similarity_Cython_SGD.pyx... \r\n",
      "In file included from \u001b[01m\u001b[K/usr/local/lib/python3.10/dist-packages/numpy/core/include/numpy/ndarraytypes.h:1929\u001b[m\u001b[K,\r\n",
      "                 from \u001b[01m\u001b[K/usr/local/lib/python3.10/dist-packages/numpy/core/include/numpy/ndarrayobject.h:12\u001b[m\u001b[K,\r\n",
      "                 from \u001b[01m\u001b[K/usr/local/lib/python3.10/dist-packages/numpy/core/include/numpy/arrayobject.h:5\u001b[m\u001b[K,\r\n",
      "                 from \u001b[01m\u001b[KCFW_D_Similarity_Cython_SGD.c:1252\u001b[m\u001b[K:\r\n",
      "\u001b[01m\u001b[K/usr/local/lib/python3.10/dist-packages/numpy/core/include/numpy/npy_1_7_deprecated_api.h:17:2:\u001b[m\u001b[K \u001b[01;35m\u001b[Kwarning: \u001b[m\u001b[K#warning \"Using deprecated NumPy API, disable it with \" \"#define NPY_NO_DEPRECATED_API NPY_1_7_API_VERSION\" [\u001b[01;35m\u001b[K\u001b]8;;https://gcc.gnu.org/onlinedocs/gcc/Warning-Options.html#index-Wcpp\u0007-Wcpp\u001b]8;;\u0007\u001b[m\u001b[K]\r\n",
      "   17 | #\u001b[01;35m\u001b[Kwarning\u001b[m\u001b[K \"Using deprecated NumPy API, disable it with \" \\\r\n",
      "      |  \u001b[01;35m\u001b[K^~~~~~~\u001b[m\u001b[K\r\n",
      "\u001b[01m\u001b[KCFW_D_Similarity_Cython_SGD.c:\u001b[m\u001b[K In function ‘\u001b[01m\u001b[K__pyx_pf_27CFW_D_Similarity_Cython_SGD_27CFW_D_Similarity_Cython_SGD_6fit\u001b[m\u001b[K’:\r\n",
      "\u001b[01m\u001b[KCFW_D_Similarity_Cython_SGD.c:23373:55:\u001b[m\u001b[K \u001b[01;35m\u001b[Kwarning: \u001b[m\u001b[K‘\u001b[01m\u001b[K__pyx_v_sample_num\u001b[m\u001b[K’ may be used uninitialized in this function [\u001b[01;35m\u001b[K\u001b]8;;https://gcc.gnu.org/onlinedocs/gcc/Warning-Options.html#index-Wmaybe-uninitialized\u0007-Wmaybe-uninitialized\u001b]8;;\u0007\u001b[m\u001b[K]\r\n",
      "23373 |   __pyx_t_3 = PyFloat_FromDouble((__pyx_v_cum_loss / \u001b[01;35m\u001b[K((double)__pyx_v_sample_num)\u001b[m\u001b[K)); if (unlikely(!__pyx_t_3)) __PYX_ERR(0, 290, __pyx_L1_error)\r\n",
      "      |                                                      \u001b[01;35m\u001b[K~^~~~~~~~~~~~~~~~~~~~~~~~~~~\u001b[m\u001b[K\r\n",
      "/usr/local/lib/python3.10/dist-packages/Cython/Compiler/Main.py:381: FutureWarning: Cython directive 'language_level' not set, using '3str' for now (Py3). This has changed from earlier releases! File: /kaggle/working/RECsys_Challenge2024/Recommenders/FeatureWeighting/Cython/CFW_D_Similarity_Cython_SGD.pyx\r\n",
      "  tree = Parsing.p_module(s, pxd, full_module_name)\r\n",
      "Compiling [8/11]: CFW_D_Similarity_Cython_SGD.pyx... PASS\r\n",
      "\r\n",
      "Compiling [9/11]: HP3_Similarity_Cython_SGD.pyx... \r\n",
      "performance hint: HP3_Similarity_Cython_SGD.pyx:113:40: Index should be typed for more efficient access\r\n",
      "performance hint: HP3_Similarity_Cython_SGD.pyx:114:40: Index should be typed for more efficient access\r\n",
      "In file included from \u001b[01m\u001b[K/usr/local/lib/python3.10/dist-packages/numpy/core/include/numpy/ndarraytypes.h:1929\u001b[m\u001b[K,\r\n",
      "                 from \u001b[01m\u001b[K/usr/local/lib/python3.10/dist-packages/numpy/core/include/numpy/ndarrayobject.h:12\u001b[m\u001b[K,\r\n",
      "                 from \u001b[01m\u001b[K/usr/local/lib/python3.10/dist-packages/numpy/core/include/numpy/arrayobject.h:5\u001b[m\u001b[K,\r\n",
      "                 from \u001b[01m\u001b[KHP3_Similarity_Cython_SGD.c:1252\u001b[m\u001b[K:\r\n",
      "\u001b[01m\u001b[K/usr/local/lib/python3.10/dist-packages/numpy/core/include/numpy/npy_1_7_deprecated_api.h:17:2:\u001b[m\u001b[K \u001b[01;35m\u001b[Kwarning: \u001b[m\u001b[K#warning \"Using deprecated NumPy API, disable it with \" \"#define NPY_NO_DEPRECATED_API NPY_1_7_API_VERSION\" [\u001b[01;35m\u001b[K\u001b]8;;https://gcc.gnu.org/onlinedocs/gcc/Warning-Options.html#index-Wcpp\u0007-Wcpp\u001b]8;;\u0007\u001b[m\u001b[K]\r\n",
      "   17 | #\u001b[01;35m\u001b[Kwarning\u001b[m\u001b[K \"Using deprecated NumPy API, disable it with \" \\\r\n",
      "      |  \u001b[01;35m\u001b[K^~~~~~~\u001b[m\u001b[K\r\n",
      "\u001b[01m\u001b[KHP3_Similarity_Cython_SGD.c:\u001b[m\u001b[K In function ‘\u001b[01m\u001b[K__pyx_pf_25HP3_Similarity_Cython_SGD_25HP3_Similarity_Cython_SGD_4fit\u001b[m\u001b[K’:\r\n",
      "\u001b[01m\u001b[KHP3_Similarity_Cython_SGD.c:23631:55:\u001b[m\u001b[K \u001b[01;35m\u001b[Kwarning: \u001b[m\u001b[K‘\u001b[01m\u001b[K__pyx_v_sample_num\u001b[m\u001b[K’ may be used uninitialized in this function [\u001b[01;35m\u001b[K\u001b]8;;https://gcc.gnu.org/onlinedocs/gcc/Warning-Options.html#index-Wmaybe-uninitialized\u0007-Wmaybe-uninitialized\u001b]8;;\u0007\u001b[m\u001b[K]\r\n",
      "23631 |   __pyx_t_1 = PyFloat_FromDouble((__pyx_v_cum_loss / \u001b[01;35m\u001b[K((double)__pyx_v_sample_num)\u001b[m\u001b[K)); if (unlikely(!__pyx_t_1)) __PYX_ERR(0, 291, __pyx_L1_error)\r\n",
      "      |                                                      \u001b[01;35m\u001b[K~^~~~~~~~~~~~~~~~~~~~~~~~~~~\u001b[m\u001b[K\r\n",
      "/usr/local/lib/python3.10/dist-packages/Cython/Compiler/Main.py:381: FutureWarning: Cython directive 'language_level' not set, using '3str' for now (Py3). This has changed from earlier releases! File: /kaggle/working/RECsys_Challenge2024/Recommenders/FeatureWeighting/Cython/HP3_Similarity_Cython_SGD.pyx\r\n",
      "  tree = Parsing.p_module(s, pxd, full_module_name)\r\n",
      "performance hint: HP3_Similarity_Cython_SGD.pyx:113:40: Index should be typed for more efficient access\r\n",
      "performance hint: HP3_Similarity_Cython_SGD.pyx:114:40: Index should be typed for more efficient access\r\n",
      "Compiling [9/11]: HP3_Similarity_Cython_SGD.pyx... PASS\r\n",
      "\r\n",
      "Compiling [10/11]: CFW_DVV_Similarity_Cython_SGD.pyx... \r\n",
      "In file included from \u001b[01m\u001b[K/usr/local/lib/python3.10/dist-packages/numpy/core/include/numpy/ndarraytypes.h:1929\u001b[m\u001b[K,\r\n",
      "                 from \u001b[01m\u001b[K/usr/local/lib/python3.10/dist-packages/numpy/core/include/numpy/ndarrayobject.h:12\u001b[m\u001b[K,\r\n",
      "                 from \u001b[01m\u001b[K/usr/local/lib/python3.10/dist-packages/numpy/core/include/numpy/arrayobject.h:5\u001b[m\u001b[K,\r\n",
      "                 from \u001b[01m\u001b[KCFW_DVV_Similarity_Cython_SGD.c:1252\u001b[m\u001b[K:\r\n",
      "\u001b[01m\u001b[K/usr/local/lib/python3.10/dist-packages/numpy/core/include/numpy/npy_1_7_deprecated_api.h:17:2:\u001b[m\u001b[K \u001b[01;35m\u001b[Kwarning: \u001b[m\u001b[K#warning \"Using deprecated NumPy API, disable it with \" \"#define NPY_NO_DEPRECATED_API NPY_1_7_API_VERSION\" [\u001b[01;35m\u001b[K\u001b]8;;https://gcc.gnu.org/onlinedocs/gcc/Warning-Options.html#index-Wcpp\u0007-Wcpp\u001b]8;;\u0007\u001b[m\u001b[K]\r\n",
      "   17 | #\u001b[01;35m\u001b[Kwarning\u001b[m\u001b[K \"Using deprecated NumPy API, disable it with \" \\\r\n",
      "      |  \u001b[01;35m\u001b[K^~~~~~~\u001b[m\u001b[K\r\n",
      "/usr/local/lib/python3.10/dist-packages/Cython/Compiler/Main.py:381: FutureWarning: Cython directive 'language_level' not set, using '3str' for now (Py3). This has changed from earlier releases! File: /kaggle/working/RECsys_Challenge2024/Recommenders/FeatureWeighting/Cython/CFW_DVV_Similarity_Cython_SGD.pyx\r\n",
      "  tree = Parsing.p_module(s, pxd, full_module_name)\r\n",
      "Compiling [10/11]: CFW_DVV_Similarity_Cython_SGD.pyx... PASS\r\n",
      "\r\n",
      "Compiling [11/11]: DataIterator.pyx... \r\n",
      "In file included from \u001b[01m\u001b[K/usr/local/lib/python3.10/dist-packages/numpy/core/include/numpy/ndarraytypes.h:1929\u001b[m\u001b[K,\r\n",
      "                 from \u001b[01m\u001b[K/usr/local/lib/python3.10/dist-packages/numpy/core/include/numpy/ndarrayobject.h:12\u001b[m\u001b[K,\r\n",
      "                 from \u001b[01m\u001b[K/usr/local/lib/python3.10/dist-packages/numpy/core/include/numpy/arrayobject.h:5\u001b[m\u001b[K,\r\n",
      "                 from \u001b[01m\u001b[KDataIterator.c:1252\u001b[m\u001b[K:\r\n",
      "\u001b[01m\u001b[K/usr/local/lib/python3.10/dist-packages/numpy/core/include/numpy/npy_1_7_deprecated_api.h:17:2:\u001b[m\u001b[K \u001b[01;35m\u001b[Kwarning: \u001b[m\u001b[K#warning \"Using deprecated NumPy API, disable it with \" \"#define NPY_NO_DEPRECATED_API NPY_1_7_API_VERSION\" [\u001b[01;35m\u001b[K\u001b]8;;https://gcc.gnu.org/onlinedocs/gcc/Warning-Options.html#index-Wcpp\u0007-Wcpp\u001b]8;;\u0007\u001b[m\u001b[K]\r\n",
      "   17 | #\u001b[01;35m\u001b[Kwarning\u001b[m\u001b[K \"Using deprecated NumPy API, disable it with \" \\\r\n",
      "      |  \u001b[01;35m\u001b[K^~~~~~~\u001b[m\u001b[K\r\n",
      "\u001b[01m\u001b[KDataIterator.c:\u001b[m\u001b[K In function ‘\u001b[01m\u001b[K__pyx_pf_12DataIterator_19InteractionIterator_6__next__\u001b[m\u001b[K’:\r\n",
      "\u001b[01m\u001b[KDataIterator.c:20937:22:\u001b[m\u001b[K \u001b[01;35m\u001b[Kwarning: \u001b[m\u001b[K‘\u001b[01m\u001b[K__pyx_v_i_batch\u001b[m\u001b[K’ may be used uninitialized in this function [\u001b[01;35m\u001b[K\u001b]8;;https://gcc.gnu.org/onlinedocs/gcc/Warning-Options.html#index-Wmaybe-uninitialized\u0007-Wmaybe-uninitialized\u001b]8;;\u0007\u001b[m\u001b[K]\r\n",
      "20937 |     (__pyx_v_i_batch \u001b[01;35m\u001b[K+\u001b[m\u001b[K 1),\r\n",
      "      |                      \u001b[01;35m\u001b[K^\u001b[m\u001b[K\r\n",
      "\u001b[01m\u001b[KDataIterator.c:\u001b[m\u001b[K In function ‘\u001b[01m\u001b[K__pyx_pf_12DataIterator_30InteractionAndNegativeIterator_6__next__\u001b[m\u001b[K’:\r\n",
      "\u001b[01m\u001b[KDataIterator.c:25499:22:\u001b[m\u001b[K \u001b[01;35m\u001b[Kwarning: \u001b[m\u001b[K‘\u001b[01m\u001b[K__pyx_v_i_batch\u001b[m\u001b[K’ may be used uninitialized in this function [\u001b[01;35m\u001b[K\u001b]8;;https://gcc.gnu.org/onlinedocs/gcc/Warning-Options.html#index-Wmaybe-uninitialized\u0007-Wmaybe-uninitialized\u001b]8;;\u0007\u001b[m\u001b[K]\r\n",
      "25499 |     (__pyx_v_i_batch \u001b[01;35m\u001b[K+\u001b[m\u001b[K 1),\r\n",
      "      |                      \u001b[01;35m\u001b[K^\u001b[m\u001b[K\r\n",
      "\u001b[01m\u001b[KDataIterator.c:\u001b[m\u001b[K In function ‘\u001b[01m\u001b[K__pyx_pf_12DataIterator_11BPRIterator_6__next__\u001b[m\u001b[K’:\r\n",
      "\u001b[01m\u001b[KDataIterator.c:23056:22:\u001b[m\u001b[K \u001b[01;35m\u001b[Kwarning: \u001b[m\u001b[K‘\u001b[01m\u001b[K__pyx_v_i_batch\u001b[m\u001b[K’ may be used uninitialized in this function [\u001b[01;35m\u001b[K\u001b]8;;https://gcc.gnu.org/onlinedocs/gcc/Warning-Options.html#index-Wmaybe-uninitialized\u0007-Wmaybe-uninitialized\u001b]8;;\u0007\u001b[m\u001b[K]\r\n",
      "23056 |     (__pyx_v_i_batch \u001b[01;35m\u001b[K+\u001b[m\u001b[K 1),\r\n",
      "      |                      \u001b[01;35m\u001b[K^\u001b[m\u001b[K\r\n",
      "/usr/local/lib/python3.10/dist-packages/Cython/Compiler/Main.py:381: FutureWarning: Cython directive 'language_level' not set, using '3str' for now (Py3). This has changed from earlier releases! File: /kaggle/working/RECsys_Challenge2024/Utils/PyTorch/Cython/DataIterator.pyx\r\n",
      "  tree = Parsing.p_module(s, pxd, full_module_name)\r\n",
      "Compiling [11/11]: DataIterator.pyx... PASS\r\n",
      "\r\n",
      "run_compile_all_cython: Compilation finished. FAILS 2/11.\r\n",
      "Compilation log can be found here: './result_experiments/run_compile_all_cython.txt'\r\n"
     ]
    }
   ],
   "source": [
    "%cd /kaggle/working/RECsys_Challenge2024 \n",
    "! python run_compile_all_cython.py"
   ]
  },
  {
   "cell_type": "code",
   "execution_count": 5,
   "id": "75018d63",
   "metadata": {
    "execution": {
     "iopub.execute_input": "2025-01-06T09:55:29.367260Z",
     "iopub.status.busy": "2025-01-06T09:55:29.366718Z",
     "iopub.status.idle": "2025-01-06T09:55:31.101977Z",
     "shell.execute_reply": "2025-01-06T09:55:31.098650Z"
    },
    "papermill": {
     "duration": 1.755857,
     "end_time": "2025-01-06T09:55:31.105110",
     "exception": false,
     "start_time": "2025-01-06T09:55:29.349253",
     "status": "completed"
    },
    "tags": []
   },
   "outputs": [],
   "source": [
    "from Utils.notebookFunctions import *\n",
    "import numpy as np\n",
    "import pandas as pd\n",
    "import scipy.sparse as sps\n",
    "import time\n",
    "import shutil\n",
    "import optuna\n",
    "import json\n",
    "import os\n",
    "from Utils.seconds_to_biggest_unit import seconds_to_biggest_unit\n",
    "\n",
    "\n",
    "K_PATH = '/kaggle/working/RECsys_Challenge2024'\n",
    "GH_PATH = 'TrainedModels/WithKFCV/KNN'\n",
    "\n",
    "np.random.seed(42)"
   ]
  },
  {
   "cell_type": "markdown",
   "id": "3e984e4a",
   "metadata": {
    "papermill": {
     "duration": 0.021278,
     "end_time": "2025-01-06T09:55:31.149284",
     "exception": false,
     "start_time": "2025-01-06T09:55:31.128006",
     "status": "completed"
    },
    "tags": []
   },
   "source": [
    "## Import the repository **RECsys_Challenge2024**"
   ]
  },
  {
   "cell_type": "code",
   "execution_count": 6,
   "id": "e546f5bd",
   "metadata": {
    "execution": {
     "iopub.execute_input": "2025-01-06T09:55:31.196019Z",
     "iopub.status.busy": "2025-01-06T09:55:31.195121Z",
     "iopub.status.idle": "2025-01-06T09:55:31.670948Z",
     "shell.execute_reply": "2025-01-06T09:55:31.669009Z"
    },
    "papermill": {
     "duration": 0.500426,
     "end_time": "2025-01-06T09:55:31.673313",
     "exception": false,
     "start_time": "2025-01-06T09:55:31.172887",
     "status": "completed"
    },
    "tags": []
   },
   "outputs": [
    {
     "name": "stdout",
     "output_type": "stream",
     "text": [
      "Repository 'RECsys_Challenge2024' found.\n"
     ]
    }
   ],
   "source": [
    "repo = get_repo_from_github(token)"
   ]
  },
  {
   "cell_type": "code",
   "execution_count": 7,
   "id": "0396aa10",
   "metadata": {
    "execution": {
     "iopub.execute_input": "2025-01-06T09:55:31.705992Z",
     "iopub.status.busy": "2025-01-06T09:55:31.705567Z",
     "iopub.status.idle": "2025-01-06T09:55:31.711221Z",
     "shell.execute_reply": "2025-01-06T09:55:31.709755Z"
    },
    "papermill": {
     "duration": 0.024357,
     "end_time": "2025-01-06T09:55:31.713318",
     "exception": false,
     "start_time": "2025-01-06T09:55:31.688961",
     "status": "completed"
    },
    "tags": []
   },
   "outputs": [],
   "source": [
    "config = {\n",
    "    'model': 'ItemKNNCF',\n",
    "    'n_folds': 5,\n",
    "    'metric': 'Recall',\n",
    "    'tune_parameters': True,\n",
    "    'database_path': '/kaggle/working/history_ItemKNNCF_Recall.db',\n",
    "    'copy_prev_best_params': False,\n",
    "    'tune_best_params': True,\n",
    "    'save_github': True\n",
    "}"
   ]
  },
  {
   "cell_type": "markdown",
   "id": "9b036c61",
   "metadata": {
    "papermill": {
     "duration": 0.017687,
     "end_time": "2025-01-06T09:55:31.750794",
     "exception": false,
     "start_time": "2025-01-06T09:55:31.733107",
     "status": "completed"
    },
    "tags": []
   },
   "source": [
    "Import the database where previous tuning trials have been saved."
   ]
  },
  {
   "cell_type": "code",
   "execution_count": 8,
   "id": "134e4cbd",
   "metadata": {
    "execution": {
     "iopub.execute_input": "2025-01-06T09:55:31.784783Z",
     "iopub.status.busy": "2025-01-06T09:55:31.784328Z",
     "iopub.status.idle": "2025-01-06T09:55:31.791229Z",
     "shell.execute_reply": "2025-01-06T09:55:31.789948Z"
    },
    "papermill": {
     "duration": 0.026187,
     "end_time": "2025-01-06T09:55:31.793493",
     "exception": false,
     "start_time": "2025-01-06T09:55:31.767306",
     "status": "completed"
    },
    "tags": []
   },
   "outputs": [],
   "source": [
    "try:\n",
    "    shutil.copyfile(\n",
    "        f'{K_PATH}/{GH_PATH}/{config[\"model\"]}Recommender/Optimizing{config[\"metric\"]}/history_{config[\"model\"]}_{config[\"metric\"]}.db', \n",
    "        config['database_path']\n",
    "    )\n",
    "except FileNotFoundError:\n",
    "    pass # if not present optuna will create it"
   ]
  },
  {
   "cell_type": "markdown",
   "id": "39475488",
   "metadata": {
    "papermill": {
     "duration": 0.014783,
     "end_time": "2025-01-06T09:55:31.825164",
     "exception": false,
     "start_time": "2025-01-06T09:55:31.810381",
     "status": "completed"
    },
    "tags": []
   },
   "source": [
    "# Construction of URM and ICM matrices"
   ]
  },
  {
   "cell_type": "code",
   "execution_count": 9,
   "id": "bd884e82",
   "metadata": {
    "execution": {
     "iopub.execute_input": "2025-01-06T09:55:31.858186Z",
     "iopub.status.busy": "2025-01-06T09:55:31.857760Z",
     "iopub.status.idle": "2025-01-06T09:55:32.844543Z",
     "shell.execute_reply": "2025-01-06T09:55:32.843270Z"
    },
    "papermill": {
     "duration": 1.005035,
     "end_time": "2025-01-06T09:55:32.846366",
     "exception": false,
     "start_time": "2025-01-06T09:55:31.841331",
     "status": "completed"
    },
    "tags": []
   },
   "outputs": [
    {
     "data": {
      "text/plain": [
       "<35736x38121 sparse matrix of type '<class 'numpy.float64'>'\n",
       "\twith 1764607 stored elements in Compressed Sparse Row format>"
      ]
     },
     "execution_count": 9,
     "metadata": {},
     "output_type": "execute_result"
    }
   ],
   "source": [
    "URM_all_dataframe = pd.read_csv(\"/kaggle/input/recommender-system-2024-challenge-polimi/data_train.csv\")\n",
    "\n",
    "n_users = len(URM_all_dataframe[\"user_id\"].unique())\n",
    "n_items = len(URM_all_dataframe[\"item_id\"].unique())\n",
    "\n",
    "URM_all = sps.csr_matrix((URM_all_dataframe[\"data\"].values, \n",
    "                          (URM_all_dataframe[\"user_id\"].values, URM_all_dataframe[\"item_id\"].values)),\n",
    "                        shape = (n_users, n_items))\n",
    "\n",
    "URM_all"
   ]
  },
  {
   "cell_type": "code",
   "execution_count": 10,
   "id": "c66d5fbb",
   "metadata": {
    "execution": {
     "iopub.execute_input": "2025-01-06T09:55:32.879758Z",
     "iopub.status.busy": "2025-01-06T09:55:32.879322Z",
     "iopub.status.idle": "2025-01-06T09:55:34.344949Z",
     "shell.execute_reply": "2025-01-06T09:55:34.343899Z"
    },
    "papermill": {
     "duration": 1.484801,
     "end_time": "2025-01-06T09:55:34.347381",
     "exception": false,
     "start_time": "2025-01-06T09:55:32.862580",
     "status": "completed"
    },
    "tags": []
   },
   "outputs": [
    {
     "data": {
      "text/plain": [
       "<38121x94331 sparse matrix of type '<class 'numpy.float64'>'\n",
       "\twith 2940040 stored elements in Compressed Sparse Row format>"
      ]
     },
     "execution_count": 10,
     "metadata": {},
     "output_type": "execute_result"
    }
   ],
   "source": [
    "ICM_dataframe = pd.read_csv(\"/kaggle/input/recommender-system-2024-challenge-polimi/data_ICM_metadata.csv\")\n",
    "\n",
    "n_items = len(ICM_dataframe[\"item_id\"].unique())\n",
    "n_features = len(ICM_dataframe[\"feature_id\"].unique())\n",
    "\n",
    "ICM_all = sps.csr_matrix((ICM_dataframe[\"data\"].values, \n",
    "                          (ICM_dataframe[\"item_id\"].values, ICM_dataframe[\"feature_id\"].values)),\n",
    "                        shape = (n_items, n_features))\n",
    "\n",
    "ICM_all"
   ]
  },
  {
   "cell_type": "markdown",
   "id": "1a859524",
   "metadata": {
    "papermill": {
     "duration": 0.017469,
     "end_time": "2025-01-06T09:55:34.381183",
     "exception": false,
     "start_time": "2025-01-06T09:55:34.363714",
     "status": "completed"
    },
    "tags": []
   },
   "source": [
    "# Training"
   ]
  },
  {
   "cell_type": "code",
   "execution_count": 11,
   "id": "c5f504c6",
   "metadata": {
    "execution": {
     "iopub.execute_input": "2025-01-06T09:55:34.414939Z",
     "iopub.status.busy": "2025-01-06T09:55:34.414473Z",
     "iopub.status.idle": "2025-01-06T09:55:53.184603Z",
     "shell.execute_reply": "2025-01-06T09:55:53.183016Z"
    },
    "papermill": {
     "duration": 18.78943,
     "end_time": "2025-01-06T09:55:53.186904",
     "exception": false,
     "start_time": "2025-01-06T09:55:34.397474",
     "status": "completed"
    },
    "tags": []
   },
   "outputs": [
    {
     "name": "stdout",
     "output_type": "stream",
     "text": [
      "Warning: 141 (0.39 %) of 35736 users have no sampled items\n"
     ]
    }
   ],
   "source": [
    "from Evaluation.Evaluator import EvaluatorHoldout\n",
    "from Data_manager.split_functions.split_train_validation_random_holdout import split_train_in_two_percentage_global_sample\n",
    "from Data_manager.split_functions.split_train_k_folds import split_train_k_folds\n",
    "\n",
    "URM_train, URM_validation = split_train_in_two_percentage_global_sample(URM_all, train_percentage = 0.80)\n",
    "\n",
    "folds = split_train_k_folds(URM_all, k=config['n_folds'])"
   ]
  },
  {
   "cell_type": "code",
   "execution_count": 12,
   "id": "a60a24cd",
   "metadata": {
    "execution": {
     "iopub.execute_input": "2025-01-06T09:55:53.224005Z",
     "iopub.status.busy": "2025-01-06T09:55:53.223603Z",
     "iopub.status.idle": "2025-01-06T09:55:53.242114Z",
     "shell.execute_reply": "2025-01-06T09:55:53.240965Z"
    },
    "papermill": {
     "duration": 0.041948,
     "end_time": "2025-01-06T09:55:53.244661",
     "exception": false,
     "start_time": "2025-01-06T09:55:53.202713",
     "status": "completed"
    },
    "tags": []
   },
   "outputs": [],
   "source": [
    "from Recommenders.KNN.ItemKNNCFRecommender import ItemKNNCFRecommender\n",
    "\n",
    "def objective_function_ItemKNNCF(optuna_trial):\n",
    "    \n",
    "    recommender_instance = ItemKNNCFRecommender(URM_train)\n",
    "    similarity = optuna_trial.suggest_categorical(\"similarity\", ['cosine', 'dice', 'jaccard', 'asymmetric', 'tversky', 'euclidean'])\n",
    "    \n",
    "    full_hyperp = {\"similarity\": similarity,\n",
    "                   \"topK\": optuna_trial.suggest_int(\"topK\", 0, 750),\n",
    "                   \"shrink\": optuna_trial.suggest_int(\"shrink\", 0, 1000),\n",
    "                   'feature_weighting': optuna_trial.suggest_categorical('feature_weighting', [\"BM25\", \"TF-IDF\", \"none\"])\n",
    "                  }\n",
    "    \n",
    "    if similarity == \"asymmetric\":\n",
    "        full_hyperp[\"asymmetric_alpha\"] = optuna_trial.suggest_float(\"asymmetric_alpha\", 0, 2, log=False)\n",
    "        full_hyperp[\"normalize\"] = True     \n",
    "\n",
    "    elif similarity == \"tversky\":\n",
    "        full_hyperp[\"tversky_alpha\"] = optuna_trial.suggest_float(\"tversky_alpha\", 0, 2, log=False)\n",
    "        full_hyperp[\"tversky_beta\"] = optuna_trial.suggest_float(\"tversky_beta\", 0, 2, log=False)\n",
    "        full_hyperp[\"normalize\"] = True \n",
    "\n",
    "    elif similarity == \"euclidean\":\n",
    "        full_hyperp[\"normalize_avg_row\"] = optuna_trial.suggest_categorical(\"normalize_avg_row\", [True, False])\n",
    "        full_hyperp[\"similarity_from_distance_mode\"] = optuna_trial.suggest_categorical(\"similarity_from_distance_mode\", [\"lin\", \"log\", \"exp\"])\n",
    "        full_hyperp[\"normalize\"] = optuna_trial.suggest_categorical(\"normalize\", [True, False])\n",
    "        \n",
    "    \n",
    "    validation_results = []\n",
    "    \n",
    "    for fold_idx, (URM_train_fold, URM_validation_fold) in enumerate(folds):\n",
    "    \n",
    "        recommender_instance = ItemKNNCFRecommender(URM_train_fold)\n",
    "        recommender_instance.fit(**full_hyperp)\n",
    "        \n",
    "        evaluator = EvaluatorHoldout(URM_validation_fold, cutoff_list=[50])\n",
    "        result_df, _ = evaluator.evaluateRecommender(recommender_instance)\n",
    "        \n",
    "        validation_results.append(result_df.loc[50][\"RECALL\"])\n",
    "    \n",
    "    return np.mean(validation_results)"
   ]
  },
  {
   "cell_type": "code",
   "execution_count": 13,
   "id": "f5332b61",
   "metadata": {
    "_kg_hide-output": true,
    "execution": {
     "iopub.execute_input": "2025-01-06T09:55:53.278896Z",
     "iopub.status.busy": "2025-01-06T09:55:53.278478Z",
     "iopub.status.idle": "2025-01-06T17:31:58.831278Z",
     "shell.execute_reply": "2025-01-06T17:31:58.830067Z"
    },
    "papermill": {
     "duration": 27365.617873,
     "end_time": "2025-01-06T17:31:58.879313",
     "exception": false,
     "start_time": "2025-01-06T09:55:53.261440",
     "status": "completed"
    },
    "tags": []
   },
   "outputs": [
    {
     "name": "stderr",
     "output_type": "stream",
     "text": [
      "[I 2025-01-06 09:55:54,500] Using an existing study with name 'hyperparameters_tuning_ItemKNNCF_Recall' instead of creating a new one.\n"
     ]
    },
    {
     "name": "stdout",
     "output_type": "stream",
     "text": [
      "Similarity column 38121 (100.0%), 2551.43 column/sec. Elapsed time 14.94 sec\n",
      "EvaluatorHoldout: Ignoring 173 ( 0.5%) Users that have less than 1 test interactions\n",
      "EvaluatorHoldout: Processed 35563 (100.0%) in 40.35 sec. Users per second: 881\n",
      "Similarity column 38121 (100.0%), 2884.89 column/sec. Elapsed time 13.21 sec\n",
      "EvaluatorHoldout: Ignoring 163 ( 0.5%) Users that have less than 1 test interactions\n",
      "EvaluatorHoldout: Processed 35573 (100.0%) in 38.09 sec. Users per second: 934\n",
      "Similarity column 38121 (100.0%), 2897.65 column/sec. Elapsed time 13.16 sec\n",
      "EvaluatorHoldout: Ignoring 150 ( 0.4%) Users that have less than 1 test interactions\n",
      "EvaluatorHoldout: Processed 35586 (100.0%) in 38.01 sec. Users per second: 936\n",
      "Similarity column 38121 (100.0%), 2873.70 column/sec. Elapsed time 13.27 sec\n",
      "EvaluatorHoldout: Ignoring 167 ( 0.5%) Users that have less than 1 test interactions\n",
      "EvaluatorHoldout: Processed 35569 (100.0%) in 38.12 sec. Users per second: 933\n",
      "Similarity column 38121 (100.0%), 2876.02 column/sec. Elapsed time 13.25 sec\n",
      "EvaluatorHoldout: Ignoring 172 ( 0.5%) Users that have less than 1 test interactions\n",
      "EvaluatorHoldout: Processed 35564 (100.0%) in 38.28 sec. Users per second: 929\n"
     ]
    },
    {
     "name": "stderr",
     "output_type": "stream",
     "text": [
      "[I 2025-01-06 10:00:17,374] Trial 500 finished with value: 0.2590735526492117 and parameters: {'similarity': 'cosine', 'topK': 46, 'shrink': 340, 'feature_weighting': 'TF-IDF'}. Best is trial 411 with value: 0.26030932919014205.\n"
     ]
    },
    {
     "name": "stdout",
     "output_type": "stream",
     "text": [
      "Similarity column 38121 (100.0%), 2865.23 column/sec. Elapsed time 13.30 sec\n",
      "EvaluatorHoldout: Ignoring 173 ( 0.5%) Users that have less than 1 test interactions\n",
      "EvaluatorHoldout: Processed 35563 (100.0%) in 39.98 sec. Users per second: 890\n",
      "Similarity column 38121 (100.0%), 2832.41 column/sec. Elapsed time 13.46 sec\n",
      "EvaluatorHoldout: Ignoring 163 ( 0.5%) Users that have less than 1 test interactions\n",
      "EvaluatorHoldout: Processed 35573 (100.0%) in 40.17 sec. Users per second: 886\n",
      "Similarity column 38121 (100.0%), 2881.88 column/sec. Elapsed time 13.23 sec\n",
      "EvaluatorHoldout: Ignoring 150 ( 0.4%) Users that have less than 1 test interactions\n",
      "EvaluatorHoldout: Processed 35586 (100.0%) in 39.91 sec. Users per second: 892\n",
      "Similarity column 38121 (100.0%), 2890.47 column/sec. Elapsed time 13.19 sec\n",
      "EvaluatorHoldout: Ignoring 167 ( 0.5%) Users that have less than 1 test interactions\n",
      "EvaluatorHoldout: Processed 35569 (100.0%) in 39.97 sec. Users per second: 890\n",
      "Similarity column 38121 (100.0%), 2866.69 column/sec. Elapsed time 13.30 sec\n",
      "EvaluatorHoldout: Ignoring 172 ( 0.5%) Users that have less than 1 test interactions\n",
      "EvaluatorHoldout: Processed 35564 (100.0%) in 39.87 sec. Users per second: 892\n"
     ]
    },
    {
     "name": "stderr",
     "output_type": "stream",
     "text": [
      "[I 2025-01-06 10:04:45,711] Trial 501 finished with value: 0.25706439760811906 and parameters: {'similarity': 'cosine', 'topK': 76, 'shrink': 495, 'feature_weighting': 'TF-IDF'}. Best is trial 411 with value: 0.26030932919014205.\n"
     ]
    },
    {
     "name": "stdout",
     "output_type": "stream",
     "text": [
      "Similarity column 38121 (100.0%), 2802.82 column/sec. Elapsed time 13.60 sec\n",
      "EvaluatorHoldout: Ignoring 173 ( 0.5%) Users that have less than 1 test interactions\n",
      "EvaluatorHoldout: Processed 35563 (100.0%) in 47.26 sec. Users per second: 752\n",
      "Similarity column 38121 (100.0%), 2793.79 column/sec. Elapsed time 13.64 sec\n",
      "EvaluatorHoldout: Ignoring 163 ( 0.5%) Users that have less than 1 test interactions\n",
      "EvaluatorHoldout: Processed 35573 (100.0%) in 47.73 sec. Users per second: 745\n",
      "Similarity column 38121 (100.0%), 2791.82 column/sec. Elapsed time 13.65 sec\n",
      "EvaluatorHoldout: Ignoring 150 ( 0.4%) Users that have less than 1 test interactions\n",
      "EvaluatorHoldout: Processed 35586 (100.0%) in 48.34 sec. Users per second: 736\n",
      "Similarity column 38121 (100.0%), 2788.19 column/sec. Elapsed time 13.67 sec\n",
      "EvaluatorHoldout: Ignoring 167 ( 0.5%) Users that have less than 1 test interactions\n",
      "EvaluatorHoldout: Processed 35569 (100.0%) in 49.07 sec. Users per second: 725\n",
      "Similarity column 38121 (100.0%), 2703.91 column/sec. Elapsed time 14.10 sec\n",
      "EvaluatorHoldout: Ignoring 172 ( 0.5%) Users that have less than 1 test interactions\n",
      "EvaluatorHoldout: Processed 35564 (100.0%) in 48.61 sec. Users per second: 732\n"
     ]
    },
    {
     "name": "stderr",
     "output_type": "stream",
     "text": [
      "[I 2025-01-06 10:09:59,374] Trial 502 finished with value: 0.25178513400185193 and parameters: {'similarity': 'cosine', 'topK': 304, 'shrink': 399, 'feature_weighting': 'TF-IDF'}. Best is trial 411 with value: 0.26030932919014205.\n"
     ]
    },
    {
     "name": "stdout",
     "output_type": "stream",
     "text": [
      "Similarity column 38121 (100.0%), 2820.37 column/sec. Elapsed time 13.52 sec\n",
      "EvaluatorHoldout: Ignoring 173 ( 0.5%) Users that have less than 1 test interactions\n",
      "EvaluatorHoldout: Processed 35563 (100.0%) in 35.31 sec. Users per second: 1007\n",
      "Similarity column 38121 (100.0%), 2832.12 column/sec. Elapsed time 13.46 sec\n",
      "EvaluatorHoldout: Ignoring 163 ( 0.5%) Users that have less than 1 test interactions\n",
      "EvaluatorHoldout: Processed 35573 (100.0%) in 35.58 sec. Users per second: 1000\n",
      "Similarity column 38121 (100.0%), 2802.20 column/sec. Elapsed time 13.60 sec\n",
      "EvaluatorHoldout: Ignoring 150 ( 0.4%) Users that have less than 1 test interactions\n",
      "EvaluatorHoldout: Processed 35586 (100.0%) in 35.88 sec. Users per second: 992\n",
      "Similarity column 38121 (100.0%), 2785.76 column/sec. Elapsed time 13.68 sec\n",
      "EvaluatorHoldout: Ignoring 167 ( 0.5%) Users that have less than 1 test interactions\n",
      "EvaluatorHoldout: Processed 35569 (100.0%) in 35.59 sec. Users per second: 1000\n",
      "Similarity column 38121 (100.0%), 2808.86 column/sec. Elapsed time 13.57 sec\n",
      "EvaluatorHoldout: Ignoring 172 ( 0.5%) Users that have less than 1 test interactions\n",
      "EvaluatorHoldout: Processed 35564 (100.0%) in 35.50 sec. Users per second: 1002\n"
     ]
    },
    {
     "name": "stderr",
     "output_type": "stream",
     "text": [
      "[I 2025-01-06 10:14:06,709] Trial 503 finished with value: 0.22926094314338635 and parameters: {'similarity': 'cosine', 'topK': 11, 'shrink': 435, 'feature_weighting': 'BM25'}. Best is trial 411 with value: 0.26030932919014205.\n"
     ]
    },
    {
     "name": "stdout",
     "output_type": "stream",
     "text": [
      "Similarity column 38121 (100.0%), 2840.61 column/sec. Elapsed time 13.42 sec\n",
      "EvaluatorHoldout: Ignoring 173 ( 0.5%) Users that have less than 1 test interactions\n",
      "EvaluatorHoldout: Processed 35563 (100.0%) in 38.02 sec. Users per second: 935\n",
      "Similarity column 38121 (100.0%), 2797.80 column/sec. Elapsed time 13.63 sec\n",
      "EvaluatorHoldout: Ignoring 163 ( 0.5%) Users that have less than 1 test interactions\n",
      "EvaluatorHoldout: Processed 35573 (100.0%) in 39.40 sec. Users per second: 903\n",
      "Similarity column 38121 (100.0%), 2817.45 column/sec. Elapsed time 13.53 sec\n",
      "EvaluatorHoldout: Ignoring 150 ( 0.4%) Users that have less than 1 test interactions\n",
      "EvaluatorHoldout: Processed 35586 (100.0%) in 38.40 sec. Users per second: 927\n",
      "Similarity column 38121 (100.0%), 2833.69 column/sec. Elapsed time 13.45 sec\n",
      "EvaluatorHoldout: Ignoring 167 ( 0.5%) Users that have less than 1 test interactions\n",
      "EvaluatorHoldout: Processed 35569 (100.0%) in 39.16 sec. Users per second: 908\n",
      "Similarity column 38121 (100.0%), 2764.07 column/sec. Elapsed time 13.79 sec\n",
      "EvaluatorHoldout: Ignoring 172 ( 0.5%) Users that have less than 1 test interactions\n",
      "EvaluatorHoldout: Processed 35564 (100.0%) in 39.77 sec. Users per second: 894\n"
     ]
    },
    {
     "name": "stderr",
     "output_type": "stream",
     "text": [
      "[I 2025-01-06 10:18:31,060] Trial 504 finished with value: 0.2597647560626294 and parameters: {'similarity': 'cosine', 'topK': 35, 'shrink': 367, 'feature_weighting': 'TF-IDF'}. Best is trial 411 with value: 0.26030932919014205.\n"
     ]
    },
    {
     "name": "stdout",
     "output_type": "stream",
     "text": [
      "Similarity column 38121 (100.0%), 2763.05 column/sec. Elapsed time 13.80 sec\n",
      "EvaluatorHoldout: Ignoring 173 ( 0.5%) Users that have less than 1 test interactions\n",
      "EvaluatorHoldout: Processed 35563 (100.0%) in 36.69 sec. Users per second: 969\n",
      "Similarity column 38121 (100.0%), 2813.72 column/sec. Elapsed time 13.55 sec\n",
      "EvaluatorHoldout: Ignoring 163 ( 0.5%) Users that have less than 1 test interactions\n",
      "EvaluatorHoldout: Processed 35573 (100.0%) in 37.49 sec. Users per second: 949\n",
      "Similarity column 38121 (100.0%), 2844.64 column/sec. Elapsed time 13.40 sec\n",
      "EvaluatorHoldout: Ignoring 150 ( 0.4%) Users that have less than 1 test interactions\n",
      "EvaluatorHoldout: Processed 35586 (100.0%) in 36.73 sec. Users per second: 969\n",
      "Similarity column 38121 (100.0%), 2794.35 column/sec. Elapsed time 13.64 sec\n",
      "EvaluatorHoldout: Ignoring 167 ( 0.5%) Users that have less than 1 test interactions\n",
      "EvaluatorHoldout: Processed 35569 (100.0%) in 37.49 sec. Users per second: 949\n",
      "Similarity column 38121 (100.0%), 2811.46 column/sec. Elapsed time 13.56 sec\n",
      "EvaluatorHoldout: Ignoring 172 ( 0.5%) Users that have less than 1 test interactions\n",
      "EvaluatorHoldout: Processed 35564 (100.0%) in 36.07 sec. Users per second: 986\n"
     ]
    },
    {
     "name": "stderr",
     "output_type": "stream",
     "text": [
      "[I 2025-01-06 10:22:45,242] Trial 505 finished with value: 0.2595196300514662 and parameters: {'similarity': 'cosine', 'topK': 12, 'shrink': 329, 'feature_weighting': 'TF-IDF'}. Best is trial 411 with value: 0.26030932919014205.\n"
     ]
    },
    {
     "name": "stdout",
     "output_type": "stream",
     "text": [
      "Similarity column 38121 (100.0%), 2768.72 column/sec. Elapsed time 13.77 sec\n",
      "EvaluatorHoldout: Ignoring 173 ( 0.5%) Users that have less than 1 test interactions\n",
      "EvaluatorHoldout: Processed 35563 (100.0%) in 40.44 sec. Users per second: 879\n",
      "Similarity column 38121 (100.0%), 2713.66 column/sec. Elapsed time 14.05 sec\n",
      "EvaluatorHoldout: Ignoring 163 ( 0.5%) Users that have less than 1 test interactions\n",
      "EvaluatorHoldout: Processed 35573 (100.0%) in 40.37 sec. Users per second: 881\n",
      "Similarity column 38121 (100.0%), 2802.43 column/sec. Elapsed time 13.60 sec\n",
      "EvaluatorHoldout: Ignoring 150 ( 0.4%) Users that have less than 1 test interactions\n",
      "EvaluatorHoldout: Processed 35586 (100.0%) in 40.55 sec. Users per second: 878\n",
      "Similarity column 38121 (100.0%), 2713.61 column/sec. Elapsed time 14.05 sec\n",
      "EvaluatorHoldout: Ignoring 167 ( 0.5%) Users that have less than 1 test interactions\n",
      "EvaluatorHoldout: Processed 35569 (100.0%) in 40.48 sec. Users per second: 879\n",
      "Similarity column 38121 (100.0%), 2792.13 column/sec. Elapsed time 13.65 sec\n",
      "EvaluatorHoldout: Ignoring 172 ( 0.5%) Users that have less than 1 test interactions\n",
      "EvaluatorHoldout: Processed 35564 (100.0%) in 39.89 sec. Users per second: 892\n"
     ]
    },
    {
     "name": "stderr",
     "output_type": "stream",
     "text": [
      "[I 2025-01-06 10:27:18,069] Trial 506 finished with value: 0.2583506478580867 and parameters: {'similarity': 'cosine', 'topK': 56, 'shrink': 392, 'feature_weighting': 'TF-IDF'}. Best is trial 411 with value: 0.26030932919014205.\n"
     ]
    },
    {
     "name": "stdout",
     "output_type": "stream",
     "text": [
      "Similarity column 38121 (100.0%), 2750.70 column/sec. Elapsed time 13.86 sec\n",
      "EvaluatorHoldout: Ignoring 173 ( 0.5%) Users that have less than 1 test interactions\n",
      "EvaluatorHoldout: Processed 35563 (100.0%) in 38.11 sec. Users per second: 933\n",
      "Similarity column 38121 (100.0%), 2771.46 column/sec. Elapsed time 13.75 sec\n",
      "EvaluatorHoldout: Ignoring 163 ( 0.5%) Users that have less than 1 test interactions\n",
      "EvaluatorHoldout: Processed 35573 (100.0%) in 37.74 sec. Users per second: 943\n",
      "Similarity column 38121 (100.0%), 2809.73 column/sec. Elapsed time 13.57 sec\n",
      "EvaluatorHoldout: Ignoring 150 ( 0.4%) Users that have less than 1 test interactions\n",
      "EvaluatorHoldout: Processed 35586 (100.0%) in 37.48 sec. Users per second: 949\n",
      "Similarity column 38121 (100.0%), 2828.70 column/sec. Elapsed time 13.48 sec\n",
      "EvaluatorHoldout: Ignoring 167 ( 0.5%) Users that have less than 1 test interactions\n",
      "EvaluatorHoldout: Processed 35569 (100.0%) in 37.97 sec. Users per second: 937\n",
      "Similarity column 38121 (100.0%), 2803.16 column/sec. Elapsed time 13.60 sec\n",
      "EvaluatorHoldout: Ignoring 172 ( 0.5%) Users that have less than 1 test interactions\n",
      "EvaluatorHoldout: Processed 35564 (100.0%) in 38.15 sec. Users per second: 932\n"
     ]
    },
    {
     "name": "stderr",
     "output_type": "stream",
     "text": [
      "[I 2025-01-06 10:31:37,532] Trial 507 finished with value: 0.260229039807429 and parameters: {'similarity': 'cosine', 'topK': 25, 'shrink': 411, 'feature_weighting': 'TF-IDF'}. Best is trial 411 with value: 0.26030932919014205.\n"
     ]
    },
    {
     "name": "stdout",
     "output_type": "stream",
     "text": [
      "Similarity column 38121 (100.0%), 2801.63 column/sec. Elapsed time 13.61 sec\n",
      "EvaluatorHoldout: Ignoring 173 ( 0.5%) Users that have less than 1 test interactions\n",
      "EvaluatorHoldout: Processed 35563 (100.0%) in 38.56 sec. Users per second: 922\n",
      "Similarity column 38121 (100.0%), 2823.74 column/sec. Elapsed time 13.50 sec\n",
      "EvaluatorHoldout: Ignoring 163 ( 0.5%) Users that have less than 1 test interactions\n",
      "EvaluatorHoldout: Processed 35573 (100.0%) in 39.10 sec. Users per second: 910\n",
      "Similarity column 38121 (100.0%), 2783.90 column/sec. Elapsed time 13.69 sec\n",
      "EvaluatorHoldout: Ignoring 150 ( 0.4%) Users that have less than 1 test interactions\n",
      "EvaluatorHoldout: Processed 35586 (100.0%) in 39.20 sec. Users per second: 908\n",
      "Similarity column 38121 (100.0%), 2776.70 column/sec. Elapsed time 13.73 sec\n",
      "EvaluatorHoldout: Ignoring 167 ( 0.5%) Users that have less than 1 test interactions\n",
      "EvaluatorHoldout: Processed 35569 (100.0%) in 39.00 sec. Users per second: 912\n",
      "Similarity column 38121 (100.0%), 2783.99 column/sec. Elapsed time 13.69 sec\n",
      "EvaluatorHoldout: Ignoring 172 ( 0.5%) Users that have less than 1 test interactions\n",
      "EvaluatorHoldout: Processed 35564 (100.0%) in 38.83 sec. Users per second: 916\n"
     ]
    },
    {
     "name": "stderr",
     "output_type": "stream",
     "text": [
      "[I 2025-01-06 10:36:02,296] Trial 508 finished with value: 0.25966701614166504 and parameters: {'similarity': 'cosine', 'topK': 36, 'shrink': 430, 'feature_weighting': 'TF-IDF'}. Best is trial 411 with value: 0.26030932919014205.\n"
     ]
    },
    {
     "name": "stdout",
     "output_type": "stream",
     "text": [
      "Similarity column 38121 (100.0%), 2779.25 column/sec. Elapsed time 13.72 sec\n",
      "EvaluatorHoldout: Ignoring 173 ( 0.5%) Users that have less than 1 test interactions\n",
      "EvaluatorHoldout: Processed 35563 (100.0%) in 45.01 sec. Users per second: 790\n",
      "Similarity column 38121 (100.0%), 2707.83 column/sec. Elapsed time 14.08 sec\n",
      "EvaluatorHoldout: Ignoring 163 ( 0.5%) Users that have less than 1 test interactions\n",
      "EvaluatorHoldout: Processed 35573 (100.0%) in 45.10 sec. Users per second: 789\n",
      "Similarity column 38121 (100.0%), 2683.13 column/sec. Elapsed time 14.21 sec\n",
      "EvaluatorHoldout: Ignoring 150 ( 0.4%) Users that have less than 1 test interactions\n",
      "EvaluatorHoldout: Processed 35586 (100.0%) in 44.52 sec. Users per second: 799\n",
      "Similarity column 38121 (100.0%), 2677.42 column/sec. Elapsed time 14.24 sec\n",
      "EvaluatorHoldout: Ignoring 167 ( 0.5%) Users that have less than 1 test interactions\n",
      "EvaluatorHoldout: Processed 35569 (100.0%) in 44.59 sec. Users per second: 798\n",
      "Similarity column 38121 (100.0%), 2754.16 column/sec. Elapsed time 13.84 sec\n",
      "EvaluatorHoldout: Ignoring 172 ( 0.5%) Users that have less than 1 test interactions\n",
      "EvaluatorHoldout: Processed 35564 (100.0%) in 43.11 sec. Users per second: 825\n"
     ]
    },
    {
     "name": "stderr",
     "output_type": "stream",
     "text": [
      "[I 2025-01-06 10:40:57,440] Trial 509 finished with value: 0.2549257490673278 and parameters: {'similarity': 'cosine', 'topK': 137, 'shrink': 412, 'feature_weighting': 'TF-IDF'}. Best is trial 411 with value: 0.26030932919014205.\n"
     ]
    },
    {
     "name": "stdout",
     "output_type": "stream",
     "text": [
      "Similarity column 38121 (100.0%), 2785.65 column/sec. Elapsed time 13.68 sec\n",
      "EvaluatorHoldout: Ignoring 173 ( 0.5%) Users that have less than 1 test interactions\n",
      "EvaluatorHoldout: Processed 35563 (100.0%) in 42.00 sec. Users per second: 847\n",
      "Similarity column 38121 (100.0%), 2754.02 column/sec. Elapsed time 13.84 sec\n",
      "EvaluatorHoldout: Ignoring 163 ( 0.5%) Users that have less than 1 test interactions\n",
      "EvaluatorHoldout: Processed 35573 (100.0%) in 42.95 sec. Users per second: 828\n",
      "Similarity column 38121 (100.0%), 2776.90 column/sec. Elapsed time 13.73 sec\n",
      "EvaluatorHoldout: Ignoring 150 ( 0.4%) Users that have less than 1 test interactions\n",
      "EvaluatorHoldout: Processed 35586 (100.0%) in 41.85 sec. Users per second: 850\n",
      "Similarity column 38121 (100.0%), 2686.69 column/sec. Elapsed time 14.19 sec\n",
      "EvaluatorHoldout: Ignoring 167 ( 0.5%) Users that have less than 1 test interactions\n",
      "EvaluatorHoldout: Processed 35569 (100.0%) in 42.39 sec. Users per second: 839\n",
      "Similarity column 38121 (100.0%), 2774.86 column/sec. Elapsed time 13.74 sec\n",
      "EvaluatorHoldout: Ignoring 172 ( 0.5%) Users that have less than 1 test interactions\n",
      "EvaluatorHoldout: Processed 35564 (100.0%) in 42.09 sec. Users per second: 845\n"
     ]
    },
    {
     "name": "stderr",
     "output_type": "stream",
     "text": [
      "[I 2025-01-06 10:45:40,079] Trial 510 finished with value: 0.2566343811901296 and parameters: {'similarity': 'cosine', 'topK': 89, 'shrink': 440, 'feature_weighting': 'TF-IDF'}. Best is trial 411 with value: 0.26030932919014205.\n"
     ]
    },
    {
     "name": "stdout",
     "output_type": "stream",
     "text": [
      "Similarity column 38121 (100.0%), 2579.04 column/sec. Elapsed time 14.78 sec\n",
      "EvaluatorHoldout: Ignoring 173 ( 0.5%) Users that have less than 1 test interactions\n",
      "EvaluatorHoldout: Processed 35563 (100.0%) in 38.88 sec. Users per second: 915\n",
      "Similarity column 38121 (100.0%), 2591.44 column/sec. Elapsed time 14.71 sec\n",
      "EvaluatorHoldout: Ignoring 163 ( 0.5%) Users that have less than 1 test interactions\n",
      "EvaluatorHoldout: Processed 35573 (100.0%) in 38.48 sec. Users per second: 924\n",
      "Similarity column 38121 (100.0%), 2682.83 column/sec. Elapsed time 14.21 sec\n",
      "EvaluatorHoldout: Ignoring 150 ( 0.4%) Users that have less than 1 test interactions\n",
      "EvaluatorHoldout: Processed 35586 (100.0%) in 37.33 sec. Users per second: 953\n",
      "Similarity column 38121 (100.0%), 2713.74 column/sec. Elapsed time 14.05 sec\n",
      "EvaluatorHoldout: Ignoring 167 ( 0.5%) Users that have less than 1 test interactions\n",
      "EvaluatorHoldout: Processed 35569 (100.0%) in 37.31 sec. Users per second: 953\n",
      "Similarity column 38121 (100.0%), 2723.01 column/sec. Elapsed time 14.00 sec\n",
      "EvaluatorHoldout: Ignoring 172 ( 0.5%) Users that have less than 1 test interactions\n",
      "EvaluatorHoldout: Processed 35564 (100.0%) in 38.10 sec. Users per second: 933\n"
     ]
    },
    {
     "name": "stderr",
     "output_type": "stream",
     "text": [
      "[I 2025-01-06 10:50:04,517] Trial 511 finished with value: 0.23552673990689793 and parameters: {'similarity': 'tversky', 'topK': 24, 'shrink': 484, 'feature_weighting': 'TF-IDF', 'tversky_alpha': 1.532286895789481, 'tversky_beta': 1.684170207593464}. Best is trial 411 with value: 0.26030932919014205.\n"
     ]
    },
    {
     "name": "stdout",
     "output_type": "stream",
     "text": [
      "Similarity column 38121 (100.0%), 2942.38 column/sec. Elapsed time 12.96 sec\n",
      "EvaluatorHoldout: Ignoring 173 ( 0.5%) Users that have less than 1 test interactions\n",
      "EvaluatorHoldout: Processed 35563 (100.0%) in 39.71 sec. Users per second: 896\n",
      "Similarity column 38121 (100.0%), 2947.10 column/sec. Elapsed time 12.94 sec\n",
      "EvaluatorHoldout: Ignoring 163 ( 0.5%) Users that have less than 1 test interactions\n",
      "EvaluatorHoldout: Processed 35573 (100.0%) in 40.17 sec. Users per second: 886\n",
      "Similarity column 38121 (100.0%), 2950.20 column/sec. Elapsed time 12.92 sec\n",
      "EvaluatorHoldout: Ignoring 150 ( 0.4%) Users that have less than 1 test interactions\n",
      "EvaluatorHoldout: Processed 35586 (100.0%) in 39.67 sec. Users per second: 897\n",
      "Similarity column 38121 (100.0%), 2962.01 column/sec. Elapsed time 12.87 sec\n",
      "EvaluatorHoldout: Ignoring 167 ( 0.5%) Users that have less than 1 test interactions\n",
      "EvaluatorHoldout: Processed 35569 (100.0%) in 39.85 sec. Users per second: 893\n",
      "Similarity column 38121 (100.0%), 2941.71 column/sec. Elapsed time 12.96 sec\n",
      "EvaluatorHoldout: Ignoring 172 ( 0.5%) Users that have less than 1 test interactions\n",
      "EvaluatorHoldout: Processed 35564 (100.0%) in 39.74 sec. Users per second: 895\n"
     ]
    },
    {
     "name": "stderr",
     "output_type": "stream",
     "text": [
      "[I 2025-01-06 10:54:30,989] Trial 512 finished with value: 0.22800688842369093 and parameters: {'similarity': 'jaccard', 'topK': 49, 'shrink': 411, 'feature_weighting': 'TF-IDF'}. Best is trial 411 with value: 0.26030932919014205.\n"
     ]
    },
    {
     "name": "stdout",
     "output_type": "stream",
     "text": [
      "Similarity column 38121 (100.0%), 2932.03 column/sec. Elapsed time 13.00 sec\n",
      "EvaluatorHoldout: Ignoring 173 ( 0.5%) Users that have less than 1 test interactions\n",
      "EvaluatorHoldout: Processed 35563 (100.0%) in 35.04 sec. Users per second: 1015\n",
      "Similarity column 38121 (100.0%), 2923.06 column/sec. Elapsed time 13.04 sec\n",
      "EvaluatorHoldout: Ignoring 163 ( 0.5%) Users that have less than 1 test interactions\n",
      "EvaluatorHoldout: Processed 35573 (100.0%) in 35.25 sec. Users per second: 1009\n",
      "Similarity column 38121 (100.0%), 2938.30 column/sec. Elapsed time 12.97 sec\n",
      "EvaluatorHoldout: Ignoring 150 ( 0.4%) Users that have less than 1 test interactions\n",
      "EvaluatorHoldout: Processed 35586 (100.0%) in 34.89 sec. Users per second: 1020\n",
      "Similarity column 38121 (100.0%), 2902.30 column/sec. Elapsed time 13.13 sec\n",
      "EvaluatorHoldout: Ignoring 167 ( 0.5%) Users that have less than 1 test interactions\n",
      "EvaluatorHoldout: Processed 35569 (100.0%) in 35.05 sec. Users per second: 1015\n",
      "Similarity column 38121 (100.0%), 2921.00 column/sec. Elapsed time 13.05 sec\n",
      "EvaluatorHoldout: Ignoring 172 ( 0.5%) Users that have less than 1 test interactions\n",
      "EvaluatorHoldout: Processed 35564 (100.0%) in 35.16 sec. Users per second: 1012\n"
     ]
    },
    {
     "name": "stderr",
     "output_type": "stream",
     "text": [
      "[I 2025-01-06 10:58:33,079] Trial 513 finished with value: 0.2595386599333579 and parameters: {'similarity': 'cosine', 'topK': 12, 'shrink': 449, 'feature_weighting': 'TF-IDF'}. Best is trial 411 with value: 0.26030932919014205.\n"
     ]
    },
    {
     "name": "stdout",
     "output_type": "stream",
     "text": [
      "Similarity column 38121 (100.0%), 3732.16 column/sec. Elapsed time 10.21 sec\n",
      "EvaluatorHoldout: Ignoring 173 ( 0.5%) Users that have less than 1 test interactions\n",
      "EvaluatorHoldout: Processed 35563 (100.0%) in 27.51 sec. Users per second: 1293\n",
      "Similarity column 38121 (100.0%), 3742.74 column/sec. Elapsed time 10.19 sec\n",
      "EvaluatorHoldout: Ignoring 163 ( 0.5%) Users that have less than 1 test interactions\n",
      "EvaluatorHoldout: Processed 35573 (100.0%) in 27.37 sec. Users per second: 1300\n",
      "Similarity column 38121 (100.0%), 3766.16 column/sec. Elapsed time 10.12 sec\n",
      "EvaluatorHoldout: Ignoring 150 ( 0.4%) Users that have less than 1 test interactions\n",
      "EvaluatorHoldout: Processed 35586 (100.0%) in 27.40 sec. Users per second: 1299\n",
      "Similarity column 38121 (100.0%), 3758.48 column/sec. Elapsed time 10.14 sec\n",
      "EvaluatorHoldout: Ignoring 167 ( 0.5%) Users that have less than 1 test interactions\n",
      "EvaluatorHoldout: Processed 35569 (100.0%) in 27.37 sec. Users per second: 1299\n",
      "Similarity column 38121 (100.0%), 3732.62 column/sec. Elapsed time 10.21 sec\n",
      "EvaluatorHoldout: Ignoring 172 ( 0.5%) Users that have less than 1 test interactions\n",
      "EvaluatorHoldout: Processed 35564 (100.0%) in 27.46 sec. Users per second: 1295\n"
     ]
    },
    {
     "name": "stderr",
     "output_type": "stream",
     "text": [
      "[I 2025-01-06 11:01:42,495] Trial 514 finished with value: 0.0055265346604531345 and parameters: {'similarity': 'cosine', 'topK': 0, 'shrink': 506, 'feature_weighting': 'TF-IDF'}. Best is trial 411 with value: 0.26030932919014205.\n"
     ]
    },
    {
     "name": "stdout",
     "output_type": "stream",
     "text": [
      "Similarity column 38121 (100.0%), 2925.95 column/sec. Elapsed time 13.03 sec\n",
      "EvaluatorHoldout: Ignoring 173 ( 0.5%) Users that have less than 1 test interactions\n",
      "EvaluatorHoldout: Processed 35563 (100.0%) in 41.55 sec. Users per second: 856\n",
      "Similarity column 38121 (100.0%), 2911.87 column/sec. Elapsed time 13.09 sec\n",
      "EvaluatorHoldout: Ignoring 163 ( 0.5%) Users that have less than 1 test interactions\n",
      "EvaluatorHoldout: Processed 35573 (100.0%) in 41.78 sec. Users per second: 851\n",
      "Similarity column 38121 (100.0%), 2949.66 column/sec. Elapsed time 12.92 sec\n",
      "EvaluatorHoldout: Ignoring 150 ( 0.4%) Users that have less than 1 test interactions\n",
      "EvaluatorHoldout: Processed 35586 (100.0%) in 41.54 sec. Users per second: 857\n",
      "Similarity column 38121 (100.0%), 2937.88 column/sec. Elapsed time 12.98 sec\n",
      "EvaluatorHoldout: Ignoring 167 ( 0.5%) Users that have less than 1 test interactions\n",
      "EvaluatorHoldout: Processed 35569 (100.0%) in 41.78 sec. Users per second: 851\n",
      "Similarity column 38121 (100.0%), 2932.62 column/sec. Elapsed time 13.00 sec\n",
      "EvaluatorHoldout: Ignoring 172 ( 0.5%) Users that have less than 1 test interactions\n",
      "EvaluatorHoldout: Processed 35564 (100.0%) in 42.14 sec. Users per second: 844\n"
     ]
    },
    {
     "name": "stderr",
     "output_type": "stream",
     "text": [
      "[I 2025-01-06 11:06:17,902] Trial 515 finished with value: 0.17164448707626226 and parameters: {'similarity': 'asymmetric', 'topK': 34, 'shrink': 392, 'feature_weighting': 'TF-IDF', 'asymmetric_alpha': 1.1681859489024797}. Best is trial 411 with value: 0.26030932919014205.\n"
     ]
    },
    {
     "name": "stdout",
     "output_type": "stream",
     "text": [
      "Similarity column 38121 (100.0%), 2831.34 column/sec. Elapsed time 13.46 sec\n",
      "EvaluatorHoldout: Ignoring 173 ( 0.5%) Users that have less than 1 test interactions\n",
      "EvaluatorHoldout: Processed 35563 (100.0%) in 44.51 sec. Users per second: 799\n",
      "Similarity column 38121 (100.0%), 2805.48 column/sec. Elapsed time 13.59 sec\n",
      "EvaluatorHoldout: Ignoring 163 ( 0.5%) Users that have less than 1 test interactions\n",
      "EvaluatorHoldout: Processed 35573 (100.0%) in 44.81 sec. Users per second: 794\n",
      "Similarity column 38121 (100.0%), 2850.37 column/sec. Elapsed time 13.37 sec\n",
      "EvaluatorHoldout: Ignoring 150 ( 0.4%) Users that have less than 1 test interactions\n",
      "EvaluatorHoldout: Processed 35586 (100.0%) in 44.33 sec. Users per second: 803\n",
      "Similarity column 38121 (100.0%), 2844.57 column/sec. Elapsed time 13.40 sec\n",
      "EvaluatorHoldout: Ignoring 167 ( 0.5%) Users that have less than 1 test interactions\n",
      "EvaluatorHoldout: Processed 35569 (100.0%) in 44.71 sec. Users per second: 796\n",
      "Similarity column 38121 (100.0%), 2859.08 column/sec. Elapsed time 13.33 sec\n",
      "EvaluatorHoldout: Ignoring 172 ( 0.5%) Users that have less than 1 test interactions\n",
      "EvaluatorHoldout: Processed 35564 (100.0%) in 44.73 sec. Users per second: 795\n"
     ]
    },
    {
     "name": "stderr",
     "output_type": "stream",
     "text": [
      "[I 2025-01-06 11:11:10,824] Trial 516 finished with value: 0.2536328458953843 and parameters: {'similarity': 'cosine', 'topK': 194, 'shrink': 529, 'feature_weighting': 'TF-IDF'}. Best is trial 411 with value: 0.26030932919014205.\n"
     ]
    },
    {
     "name": "stdout",
     "output_type": "stream",
     "text": [
      "Similarity column 38121 (100.0%), 376.50 column/sec. Elapsed time 1.69 min\n",
      "EvaluatorHoldout: Ignoring 173 ( 0.5%) Users that have less than 1 test interactions\n",
      "EvaluatorHoldout: Processed 35563 (100.0%) in 44.05 sec. Users per second: 807\n",
      "Similarity column 38121 (100.0%), 408.89 column/sec. Elapsed time 1.55 min\n",
      "EvaluatorHoldout: Ignoring 163 ( 0.5%) Users that have less than 1 test interactions\n",
      "EvaluatorHoldout: Processed 35573 (100.0%) in 44.11 sec. Users per second: 806\n",
      "Similarity column 38121 (100.0%), 415.24 column/sec. Elapsed time 1.53 min\n",
      "EvaluatorHoldout: Ignoring 150 ( 0.4%) Users that have less than 1 test interactions\n",
      "EvaluatorHoldout: Processed 35586 (100.0%) in 44.13 sec. Users per second: 806\n",
      "Similarity column 38121 (100.0%), 383.04 column/sec. Elapsed time 1.66 min\n",
      "EvaluatorHoldout: Ignoring 167 ( 0.5%) Users that have less than 1 test interactions\n",
      "EvaluatorHoldout: Processed 35569 (100.0%) in 44.13 sec. Users per second: 806\n",
      "Similarity column 38121 (100.0%), 405.51 column/sec. Elapsed time 1.57 min\n",
      "EvaluatorHoldout: Ignoring 172 ( 0.5%) Users that have less than 1 test interactions\n",
      "EvaluatorHoldout: Processed 35564 (100.0%) in 43.85 sec. Users per second: 811\n"
     ]
    },
    {
     "name": "stderr",
     "output_type": "stream",
     "text": [
      "[I 2025-01-06 11:22:53,572] Trial 517 finished with value: 0.1684000887798227 and parameters: {'similarity': 'euclidean', 'topK': 224, 'shrink': 419, 'feature_weighting': 'TF-IDF', 'normalize_avg_row': False, 'similarity_from_distance_mode': 'log', 'normalize': True}. Best is trial 411 with value: 0.26030932919014205.\n"
     ]
    },
    {
     "name": "stdout",
     "output_type": "stream",
     "text": [
      "Similarity column 38121 (100.0%), 2769.41 column/sec. Elapsed time 13.77 sec\n",
      "EvaluatorHoldout: Ignoring 173 ( 0.5%) Users that have less than 1 test interactions\n",
      "EvaluatorHoldout: Processed 35563 (100.0%) in 52.33 sec. Users per second: 680\n",
      "Similarity column 38121 (100.0%), 2781.82 column/sec. Elapsed time 13.70 sec\n",
      "EvaluatorHoldout: Ignoring 163 ( 0.5%) Users that have less than 1 test interactions\n",
      "EvaluatorHoldout: Processed 35573 (100.0%) in 52.11 sec. Users per second: 683\n",
      "Similarity column 38121 (100.0%), 2757.23 column/sec. Elapsed time 13.83 sec\n",
      "EvaluatorHoldout: Ignoring 150 ( 0.4%) Users that have less than 1 test interactions\n",
      "EvaluatorHoldout: Processed 35586 (100.0%) in 52.09 sec. Users per second: 683\n",
      "Similarity column 38121 (100.0%), 2775.53 column/sec. Elapsed time 13.73 sec\n",
      "EvaluatorHoldout: Ignoring 167 ( 0.5%) Users that have less than 1 test interactions\n",
      "EvaluatorHoldout: Processed 35569 (100.0%) in 52.27 sec. Users per second: 681\n",
      "Similarity column 38121 (100.0%), 2754.83 column/sec. Elapsed time 13.84 sec\n",
      "EvaluatorHoldout: Ignoring 172 ( 0.5%) Users that have less than 1 test interactions\n",
      "EvaluatorHoldout: Processed 35564 (100.0%) in 53.08 sec. Users per second: 670\n"
     ]
    },
    {
     "name": "stderr",
     "output_type": "stream",
     "text": [
      "[I 2025-01-06 11:28:29,145] Trial 518 finished with value: 0.24999205283655904 and parameters: {'similarity': 'cosine', 'topK': 487, 'shrink': 474, 'feature_weighting': 'TF-IDF'}. Best is trial 411 with value: 0.26030932919014205.\n"
     ]
    },
    {
     "name": "stdout",
     "output_type": "stream",
     "text": [
      "Similarity column 38121 (100.0%), 2820.06 column/sec. Elapsed time 13.52 sec\n",
      "EvaluatorHoldout: Ignoring 173 ( 0.5%) Users that have less than 1 test interactions\n",
      "EvaluatorHoldout: Processed 35563 (100.0%) in 40.55 sec. Users per second: 877\n",
      "Similarity column 38121 (100.0%), 2748.23 column/sec. Elapsed time 13.87 sec\n",
      "EvaluatorHoldout: Ignoring 163 ( 0.5%) Users that have less than 1 test interactions\n",
      "EvaluatorHoldout: Processed 35573 (100.0%) in 40.66 sec. Users per second: 875\n",
      "Similarity column 38121 (100.0%), 2819.60 column/sec. Elapsed time 13.52 sec\n",
      "EvaluatorHoldout: Ignoring 150 ( 0.4%) Users that have less than 1 test interactions\n",
      "EvaluatorHoldout: Processed 35586 (100.0%) in 39.99 sec. Users per second: 890\n",
      "Similarity column 38121 (100.0%), 2837.04 column/sec. Elapsed time 13.44 sec\n",
      "EvaluatorHoldout: Ignoring 167 ( 0.5%) Users that have less than 1 test interactions\n",
      "EvaluatorHoldout: Processed 35569 (100.0%) in 40.04 sec. Users per second: 888\n",
      "Similarity column 38121 (100.0%), 2786.94 column/sec. Elapsed time 13.68 sec\n",
      "EvaluatorHoldout: Ignoring 172 ( 0.5%) Users that have less than 1 test interactions\n",
      "EvaluatorHoldout: Processed 35564 (100.0%) in 40.44 sec. Users per second: 879\n"
     ]
    },
    {
     "name": "stderr",
     "output_type": "stream",
     "text": [
      "[I 2025-01-06 11:33:00,849] Trial 519 finished with value: 0.2580055337032765 and parameters: {'similarity': 'cosine', 'topK': 63, 'shrink': 386, 'feature_weighting': 'TF-IDF'}. Best is trial 411 with value: 0.26030932919014205.\n"
     ]
    },
    {
     "name": "stdout",
     "output_type": "stream",
     "text": [
      "Similarity column 38121 (100.0%), 2936.21 column/sec. Elapsed time 12.98 sec\n",
      "EvaluatorHoldout: Ignoring 173 ( 0.5%) Users that have less than 1 test interactions\n",
      "EvaluatorHoldout: Processed 35563 (100.0%) in 39.28 sec. Users per second: 905\n",
      "Similarity column 38121 (100.0%), 2968.25 column/sec. Elapsed time 12.84 sec\n",
      "EvaluatorHoldout: Ignoring 163 ( 0.5%) Users that have less than 1 test interactions\n",
      "EvaluatorHoldout: Processed 35573 (100.0%) in 38.65 sec. Users per second: 920\n",
      "Similarity column 38121 (100.0%), 2996.81 column/sec. Elapsed time 12.72 sec\n",
      "EvaluatorHoldout: Ignoring 150 ( 0.4%) Users that have less than 1 test interactions\n",
      "EvaluatorHoldout: Processed 35586 (100.0%) in 38.10 sec. Users per second: 934\n",
      "Similarity column 38121 (100.0%), 2985.22 column/sec. Elapsed time 12.77 sec\n",
      "EvaluatorHoldout: Ignoring 167 ( 0.5%) Users that have less than 1 test interactions\n",
      "EvaluatorHoldout: Processed 35569 (100.0%) in 38.11 sec. Users per second: 933\n",
      "Similarity column 38121 (100.0%), 3031.48 column/sec. Elapsed time 12.58 sec\n",
      "EvaluatorHoldout: Ignoring 172 ( 0.5%) Users that have less than 1 test interactions\n",
      "EvaluatorHoldout: Processed 35564 (100.0%) in 38.42 sec. Users per second: 926\n"
     ]
    },
    {
     "name": "stderr",
     "output_type": "stream",
     "text": [
      "[I 2025-01-06 11:37:19,400] Trial 520 finished with value: 0.22907116858125537 and parameters: {'similarity': 'dice', 'topK': 26, 'shrink': 435, 'feature_weighting': 'none'}. Best is trial 411 with value: 0.26030932919014205.\n"
     ]
    },
    {
     "name": "stdout",
     "output_type": "stream",
     "text": [
      "Similarity column 38121 (100.0%), 2857.90 column/sec. Elapsed time 13.34 sec\n",
      "EvaluatorHoldout: Ignoring 173 ( 0.5%) Users that have less than 1 test interactions\n",
      "EvaluatorHoldout: Processed 35563 (100.0%) in 38.32 sec. Users per second: 928\n",
      "Similarity column 38121 (100.0%), 2901.62 column/sec. Elapsed time 13.14 sec\n",
      "EvaluatorHoldout: Ignoring 163 ( 0.5%) Users that have less than 1 test interactions\n",
      "EvaluatorHoldout: Processed 35573 (100.0%) in 38.47 sec. Users per second: 925\n",
      "Similarity column 38121 (100.0%), 2900.12 column/sec. Elapsed time 13.14 sec\n",
      "EvaluatorHoldout: Ignoring 150 ( 0.4%) Users that have less than 1 test interactions\n",
      "EvaluatorHoldout: Processed 35586 (100.0%) in 38.44 sec. Users per second: 926\n",
      "Similarity column 38121 (100.0%), 2892.93 column/sec. Elapsed time 13.18 sec\n",
      "EvaluatorHoldout: Ignoring 167 ( 0.5%) Users that have less than 1 test interactions\n",
      "EvaluatorHoldout: Processed 35569 (100.0%) in 39.05 sec. Users per second: 911\n",
      "Similarity column 38121 (100.0%), 2868.20 column/sec. Elapsed time 13.29 sec\n",
      "EvaluatorHoldout: Ignoring 172 ( 0.5%) Users that have less than 1 test interactions\n",
      "EvaluatorHoldout: Processed 35564 (100.0%) in 38.59 sec. Users per second: 922\n"
     ]
    },
    {
     "name": "stderr",
     "output_type": "stream",
     "text": [
      "[I 2025-01-06 11:41:40,106] Trial 521 finished with value: 0.2589810409372474 and parameters: {'similarity': 'cosine', 'topK': 46, 'shrink': 408, 'feature_weighting': 'TF-IDF'}. Best is trial 411 with value: 0.26030932919014205.\n"
     ]
    },
    {
     "name": "stdout",
     "output_type": "stream",
     "text": [
      "Similarity column 38121 (100.0%), 2890.20 column/sec. Elapsed time 13.19 sec\n",
      "EvaluatorHoldout: Ignoring 173 ( 0.5%) Users that have less than 1 test interactions\n",
      "EvaluatorHoldout: Processed 35563 (100.0%) in 35.72 sec. Users per second: 996\n",
      "Similarity column 38121 (100.0%), 2854.60 column/sec. Elapsed time 13.35 sec\n",
      "EvaluatorHoldout: Ignoring 163 ( 0.5%) Users that have less than 1 test interactions\n",
      "EvaluatorHoldout: Processed 35573 (100.0%) in 36.23 sec. Users per second: 982\n",
      "Similarity column 38121 (100.0%), 2896.41 column/sec. Elapsed time 13.16 sec\n",
      "EvaluatorHoldout: Ignoring 150 ( 0.4%) Users that have less than 1 test interactions\n",
      "EvaluatorHoldout: Processed 35586 (100.0%) in 35.50 sec. Users per second: 1003\n",
      "Similarity column 38121 (100.0%), 2878.99 column/sec. Elapsed time 13.24 sec\n",
      "EvaluatorHoldout: Ignoring 167 ( 0.5%) Users that have less than 1 test interactions\n",
      "EvaluatorHoldout: Processed 35569 (100.0%) in 35.65 sec. Users per second: 998\n",
      "Similarity column 38121 (100.0%), 2902.50 column/sec. Elapsed time 13.13 sec\n",
      "EvaluatorHoldout: Ignoring 172 ( 0.5%) Users that have less than 1 test interactions\n",
      "EvaluatorHoldout: Processed 35564 (100.0%) in 35.62 sec. Users per second: 998\n"
     ]
    },
    {
     "name": "stderr",
     "output_type": "stream",
     "text": [
      "[I 2025-01-06 11:45:46,455] Trial 522 finished with value: 0.25978118215921925 and parameters: {'similarity': 'cosine', 'topK': 14, 'shrink': 379, 'feature_weighting': 'TF-IDF'}. Best is trial 411 with value: 0.26030932919014205.\n"
     ]
    },
    {
     "name": "stdout",
     "output_type": "stream",
     "text": [
      "Similarity column 38121 (100.0%), 3682.79 column/sec. Elapsed time 10.35 sec\n",
      "EvaluatorHoldout: Ignoring 173 ( 0.5%) Users that have less than 1 test interactions\n",
      "EvaluatorHoldout: Processed 35563 (100.0%) in 27.58 sec. Users per second: 1289\n",
      "Similarity column 38121 (100.0%), 3757.06 column/sec. Elapsed time 10.15 sec\n",
      "EvaluatorHoldout: Ignoring 163 ( 0.5%) Users that have less than 1 test interactions\n",
      "EvaluatorHoldout: Processed 35573 (100.0%) in 27.43 sec. Users per second: 1297\n",
      "Similarity column 38121 (100.0%), 3715.02 column/sec. Elapsed time 10.26 sec\n",
      "EvaluatorHoldout: Ignoring 150 ( 0.4%) Users that have less than 1 test interactions\n",
      "EvaluatorHoldout: Processed 35586 (100.0%) in 27.39 sec. Users per second: 1299\n",
      "Similarity column 38121 (100.0%), 3735.63 column/sec. Elapsed time 10.20 sec\n",
      "EvaluatorHoldout: Ignoring 167 ( 0.5%) Users that have less than 1 test interactions\n",
      "EvaluatorHoldout: Processed 35569 (100.0%) in 27.41 sec. Users per second: 1298\n",
      "Similarity column 38121 (100.0%), 3708.02 column/sec. Elapsed time 10.28 sec\n",
      "EvaluatorHoldout: Ignoring 172 ( 0.5%) Users that have less than 1 test interactions\n",
      "EvaluatorHoldout: Processed 35564 (100.0%) in 27.45 sec. Users per second: 1296\n"
     ]
    },
    {
     "name": "stderr",
     "output_type": "stream",
     "text": [
      "[I 2025-01-06 11:48:56,374] Trial 523 finished with value: 0.0055265346604531345 and parameters: {'similarity': 'cosine', 'topK': 0, 'shrink': 451, 'feature_weighting': 'TF-IDF'}. Best is trial 411 with value: 0.26030932919014205.\n"
     ]
    },
    {
     "name": "stdout",
     "output_type": "stream",
     "text": [
      "Similarity column 38121 (100.0%), 2908.15 column/sec. Elapsed time 13.11 sec\n",
      "EvaluatorHoldout: Ignoring 173 ( 0.5%) Users that have less than 1 test interactions\n",
      "EvaluatorHoldout: Processed 35563 (100.0%) in 37.13 sec. Users per second: 958\n",
      "Similarity column 38121 (100.0%), 2876.70 column/sec. Elapsed time 13.25 sec\n",
      "EvaluatorHoldout: Ignoring 163 ( 0.5%) Users that have less than 1 test interactions\n",
      "EvaluatorHoldout: Processed 35573 (100.0%) in 37.50 sec. Users per second: 949\n",
      "Similarity column 38121 (100.0%), 2929.89 column/sec. Elapsed time 13.01 sec\n",
      "EvaluatorHoldout: Ignoring 150 ( 0.4%) Users that have less than 1 test interactions\n",
      "EvaluatorHoldout: Processed 35586 (100.0%) in 37.37 sec. Users per second: 952\n",
      "Similarity column 38121 (100.0%), 2898.80 column/sec. Elapsed time 13.15 sec\n",
      "EvaluatorHoldout: Ignoring 167 ( 0.5%) Users that have less than 1 test interactions\n",
      "EvaluatorHoldout: Processed 35569 (100.0%) in 37.13 sec. Users per second: 958\n",
      "Similarity column 38121 (100.0%), 2928.20 column/sec. Elapsed time 13.02 sec\n",
      "EvaluatorHoldout: Ignoring 172 ( 0.5%) Users that have less than 1 test interactions\n",
      "EvaluatorHoldout: Processed 35564 (100.0%) in 37.18 sec. Users per second: 957\n"
     ]
    },
    {
     "name": "stderr",
     "output_type": "stream",
     "text": [
      "[I 2025-01-06 11:53:09,857] Trial 524 finished with value: 0.2599735545953593 and parameters: {'similarity': 'cosine', 'topK': 29, 'shrink': 554, 'feature_weighting': 'TF-IDF'}. Best is trial 411 with value: 0.26030932919014205.\n"
     ]
    },
    {
     "name": "stdout",
     "output_type": "stream",
     "text": [
      "Similarity column 38121 (100.0%), 2902.54 column/sec. Elapsed time 13.13 sec\n",
      "EvaluatorHoldout: Ignoring 173 ( 0.5%) Users that have less than 1 test interactions\n",
      "EvaluatorHoldout: Processed 35563 (100.0%) in 38.03 sec. Users per second: 935\n",
      "Similarity column 38121 (100.0%), 2866.38 column/sec. Elapsed time 13.30 sec\n",
      "EvaluatorHoldout: Ignoring 163 ( 0.5%) Users that have less than 1 test interactions\n",
      "EvaluatorHoldout: Processed 35573 (100.0%) in 38.16 sec. Users per second: 932\n",
      "Similarity column 38121 (100.0%), 2874.57 column/sec. Elapsed time 13.26 sec\n",
      "EvaluatorHoldout: Ignoring 150 ( 0.4%) Users that have less than 1 test interactions\n",
      "EvaluatorHoldout: Processed 35586 (100.0%) in 38.39 sec. Users per second: 927\n",
      "Similarity column 38121 (100.0%), 2827.44 column/sec. Elapsed time 13.48 sec\n",
      "EvaluatorHoldout: Ignoring 167 ( 0.5%) Users that have less than 1 test interactions\n",
      "EvaluatorHoldout: Processed 35569 (100.0%) in 38.28 sec. Users per second: 929\n",
      "Similarity column 38121 (100.0%), 2806.56 column/sec. Elapsed time 13.58 sec\n",
      "EvaluatorHoldout: Ignoring 172 ( 0.5%) Users that have less than 1 test interactions\n",
      "EvaluatorHoldout: Processed 35564 (100.0%) in 38.64 sec. Users per second: 920\n"
     ]
    },
    {
     "name": "stderr",
     "output_type": "stream",
     "text": [
      "[I 2025-01-06 11:57:29,920] Trial 525 finished with value: 0.25925956388189403 and parameters: {'similarity': 'cosine', 'topK': 40, 'shrink': 422, 'feature_weighting': 'TF-IDF'}. Best is trial 411 with value: 0.26030932919014205.\n"
     ]
    },
    {
     "name": "stdout",
     "output_type": "stream",
     "text": [
      "Similarity column 38121 (100.0%), 2886.13 column/sec. Elapsed time 13.21 sec\n",
      "EvaluatorHoldout: Ignoring 173 ( 0.5%) Users that have less than 1 test interactions\n",
      "EvaluatorHoldout: Processed 35563 (100.0%) in 36.62 sec. Users per second: 971\n",
      "Similarity column 38121 (100.0%), 2853.35 column/sec. Elapsed time 13.36 sec\n",
      "EvaluatorHoldout: Ignoring 163 ( 0.5%) Users that have less than 1 test interactions\n",
      "EvaluatorHoldout: Processed 35573 (100.0%) in 37.09 sec. Users per second: 959\n",
      "Similarity column 38121 (100.0%), 2835.04 column/sec. Elapsed time 13.45 sec\n",
      "EvaluatorHoldout: Ignoring 150 ( 0.4%) Users that have less than 1 test interactions\n",
      "EvaluatorHoldout: Processed 35586 (100.0%) in 36.70 sec. Users per second: 970\n",
      "Similarity column 38121 (100.0%), 2893.55 column/sec. Elapsed time 13.17 sec\n",
      "EvaluatorHoldout: Ignoring 167 ( 0.5%) Users that have less than 1 test interactions\n",
      "EvaluatorHoldout: Processed 35569 (100.0%) in 36.61 sec. Users per second: 972\n",
      "Similarity column 38121 (100.0%), 2884.60 column/sec. Elapsed time 13.22 sec\n",
      "EvaluatorHoldout: Ignoring 172 ( 0.5%) Users that have less than 1 test interactions\n",
      "EvaluatorHoldout: Processed 35564 (100.0%) in 36.41 sec. Users per second: 977\n"
     ]
    },
    {
     "name": "stderr",
     "output_type": "stream",
     "text": [
      "[I 2025-01-06 12:01:41,408] Trial 526 finished with value: 0.26003123984301163 and parameters: {'similarity': 'cosine', 'topK': 20, 'shrink': 287, 'feature_weighting': 'TF-IDF'}. Best is trial 411 with value: 0.26030932919014205.\n"
     ]
    },
    {
     "name": "stdout",
     "output_type": "stream",
     "text": [
      "Similarity column 38121 (100.0%), 2879.07 column/sec. Elapsed time 13.24 sec\n",
      "EvaluatorHoldout: Ignoring 173 ( 0.5%) Users that have less than 1 test interactions\n",
      "EvaluatorHoldout: Processed 35563 (100.0%) in 38.71 sec. Users per second: 919\n",
      "Similarity column 38121 (100.0%), 2874.08 column/sec. Elapsed time 13.26 sec\n",
      "EvaluatorHoldout: Ignoring 163 ( 0.5%) Users that have less than 1 test interactions\n",
      "EvaluatorHoldout: Processed 35573 (100.0%) in 38.85 sec. Users per second: 916\n",
      "Similarity column 38121 (100.0%), 2857.39 column/sec. Elapsed time 13.34 sec\n",
      "EvaluatorHoldout: Ignoring 150 ( 0.4%) Users that have less than 1 test interactions\n",
      "EvaluatorHoldout: Processed 35586 (100.0%) in 38.77 sec. Users per second: 918\n",
      "Similarity column 38121 (100.0%), 2784.91 column/sec. Elapsed time 13.69 sec\n",
      "EvaluatorHoldout: Ignoring 167 ( 0.5%) Users that have less than 1 test interactions\n",
      "EvaluatorHoldout: Processed 35569 (100.0%) in 39.19 sec. Users per second: 908\n",
      "Similarity column 38121 (100.0%), 2834.11 column/sec. Elapsed time 13.45 sec\n",
      "EvaluatorHoldout: Ignoring 172 ( 0.5%) Users that have less than 1 test interactions\n",
      "EvaluatorHoldout: Processed 35564 (100.0%) in 38.91 sec. Users per second: 914\n"
     ]
    },
    {
     "name": "stderr",
     "output_type": "stream",
     "text": [
      "[I 2025-01-06 12:06:04,815] Trial 527 finished with value: 0.2320362939646839 and parameters: {'similarity': 'cosine', 'topK': 60, 'shrink': 403, 'feature_weighting': 'BM25'}. Best is trial 411 with value: 0.26030932919014205.\n"
     ]
    },
    {
     "name": "stdout",
     "output_type": "stream",
     "text": [
      "Similarity column 38121 (100.0%), 2874.45 column/sec. Elapsed time 13.26 sec\n",
      "EvaluatorHoldout: Ignoring 173 ( 0.5%) Users that have less than 1 test interactions\n",
      "EvaluatorHoldout: Processed 35563 (100.0%) in 35.28 sec. Users per second: 1008\n",
      "Similarity column 38121 (100.0%), 2892.06 column/sec. Elapsed time 13.18 sec\n",
      "EvaluatorHoldout: Ignoring 163 ( 0.5%) Users that have less than 1 test interactions\n",
      "EvaluatorHoldout: Processed 35573 (100.0%) in 35.58 sec. Users per second: 1000\n",
      "Similarity column 38121 (100.0%), 2891.44 column/sec. Elapsed time 13.18 sec\n",
      "EvaluatorHoldout: Ignoring 150 ( 0.4%) Users that have less than 1 test interactions\n",
      "EvaluatorHoldout: Processed 35586 (100.0%) in 35.52 sec. Users per second: 1002\n",
      "Similarity column 38121 (100.0%), 2935.97 column/sec. Elapsed time 12.98 sec\n",
      "EvaluatorHoldout: Ignoring 167 ( 0.5%) Users that have less than 1 test interactions\n",
      "EvaluatorHoldout: Processed 35569 (100.0%) in 35.61 sec. Users per second: 999\n",
      "Similarity column 38121 (100.0%), 2855.03 column/sec. Elapsed time 13.35 sec\n",
      "EvaluatorHoldout: Ignoring 172 ( 0.5%) Users that have less than 1 test interactions\n",
      "EvaluatorHoldout: Processed 35564 (100.0%) in 36.91 sec. Users per second: 964\n"
     ]
    },
    {
     "name": "stderr",
     "output_type": "stream",
     "text": [
      "[I 2025-01-06 12:10:11,232] Trial 528 finished with value: 0.25972087619449563 and parameters: {'similarity': 'cosine', 'topK': 13, 'shrink': 360, 'feature_weighting': 'TF-IDF'}. Best is trial 411 with value: 0.26030932919014205.\n"
     ]
    },
    {
     "name": "stdout",
     "output_type": "stream",
     "text": [
      "Similarity column 38121 (100.0%), 2827.50 column/sec. Elapsed time 13.48 sec\n",
      "EvaluatorHoldout: Ignoring 173 ( 0.5%) Users that have less than 1 test interactions\n",
      "EvaluatorHoldout: Processed 35563 (100.0%) in 38.90 sec. Users per second: 914\n",
      "Similarity column 38121 (100.0%), 2759.20 column/sec. Elapsed time 13.82 sec\n",
      "EvaluatorHoldout: Ignoring 163 ( 0.5%) Users that have less than 1 test interactions\n",
      "EvaluatorHoldout: Processed 35573 (100.0%) in 39.19 sec. Users per second: 908\n",
      "Similarity column 38121 (100.0%), 2850.98 column/sec. Elapsed time 13.37 sec\n",
      "EvaluatorHoldout: Ignoring 150 ( 0.4%) Users that have less than 1 test interactions\n",
      "EvaluatorHoldout: Processed 35586 (100.0%) in 38.92 sec. Users per second: 914\n",
      "Similarity column 38121 (100.0%), 2772.08 column/sec. Elapsed time 13.75 sec\n",
      "EvaluatorHoldout: Ignoring 167 ( 0.5%) Users that have less than 1 test interactions\n",
      "EvaluatorHoldout: Processed 35569 (100.0%) in 39.56 sec. Users per second: 899\n",
      "Similarity column 38121 (100.0%), 2851.05 column/sec. Elapsed time 13.37 sec\n",
      "EvaluatorHoldout: Ignoring 172 ( 0.5%) Users that have less than 1 test interactions\n",
      "EvaluatorHoldout: Processed 35564 (100.0%) in 40.53 sec. Users per second: 878\n"
     ]
    },
    {
     "name": "stderr",
     "output_type": "stream",
     "text": [
      "[I 2025-01-06 12:14:37,930] Trial 529 finished with value: 0.25957054489777315 and parameters: {'similarity': 'cosine', 'topK': 37, 'shrink': 486, 'feature_weighting': 'TF-IDF'}. Best is trial 411 with value: 0.26030932919014205.\n"
     ]
    },
    {
     "name": "stdout",
     "output_type": "stream",
     "text": [
      "Similarity column 38121 (100.0%), 2858.94 column/sec. Elapsed time 13.33 sec\n",
      "EvaluatorHoldout: Ignoring 173 ( 0.5%) Users that have less than 1 test interactions\n",
      "EvaluatorHoldout: Processed 35563 (100.0%) in 37.58 sec. Users per second: 946\n",
      "Similarity column 38121 (100.0%), 2879.59 column/sec. Elapsed time 13.24 sec\n",
      "EvaluatorHoldout: Ignoring 163 ( 0.5%) Users that have less than 1 test interactions\n",
      "EvaluatorHoldout: Processed 35573 (100.0%) in 37.74 sec. Users per second: 943\n",
      "Similarity column 38121 (100.0%), 2914.94 column/sec. Elapsed time 13.08 sec\n",
      "EvaluatorHoldout: Ignoring 150 ( 0.4%) Users that have less than 1 test interactions\n",
      "EvaluatorHoldout: Processed 35586 (100.0%) in 37.03 sec. Users per second: 961\n",
      "Similarity column 38121 (100.0%), 2894.05 column/sec. Elapsed time 13.17 sec\n",
      "EvaluatorHoldout: Ignoring 167 ( 0.5%) Users that have less than 1 test interactions\n",
      "EvaluatorHoldout: Processed 35569 (100.0%) in 36.79 sec. Users per second: 967\n",
      "Similarity column 38121 (100.0%), 2911.49 column/sec. Elapsed time 13.09 sec\n",
      "EvaluatorHoldout: Ignoring 172 ( 0.5%) Users that have less than 1 test interactions\n",
      "EvaluatorHoldout: Processed 35564 (100.0%) in 36.86 sec. Users per second: 965\n"
     ]
    },
    {
     "name": "stderr",
     "output_type": "stream",
     "text": [
      "[I 2025-01-06 12:18:51,497] Trial 530 finished with value: 0.2602897203484428 and parameters: {'similarity': 'cosine', 'topK': 23, 'shrink': 465, 'feature_weighting': 'TF-IDF'}. Best is trial 411 with value: 0.26030932919014205.\n"
     ]
    },
    {
     "name": "stdout",
     "output_type": "stream",
     "text": [
      "Similarity column 38121 (100.0%), 2884.05 column/sec. Elapsed time 13.22 sec\n",
      "EvaluatorHoldout: Ignoring 173 ( 0.5%) Users that have less than 1 test interactions\n",
      "EvaluatorHoldout: Processed 35563 (100.0%) in 38.85 sec. Users per second: 915\n",
      "Similarity column 38121 (100.0%), 2867.15 column/sec. Elapsed time 13.30 sec\n",
      "EvaluatorHoldout: Ignoring 163 ( 0.5%) Users that have less than 1 test interactions\n",
      "EvaluatorHoldout: Processed 35573 (100.0%) in 39.16 sec. Users per second: 908\n",
      "Similarity column 38121 (100.0%), 2877.02 column/sec. Elapsed time 13.25 sec\n",
      "EvaluatorHoldout: Ignoring 150 ( 0.4%) Users that have less than 1 test interactions\n",
      "EvaluatorHoldout: Processed 35586 (100.0%) in 38.85 sec. Users per second: 916\n",
      "Similarity column 38121 (100.0%), 2884.89 column/sec. Elapsed time 13.21 sec\n",
      "EvaluatorHoldout: Ignoring 167 ( 0.5%) Users that have less than 1 test interactions\n",
      "EvaluatorHoldout: Processed 35569 (100.0%) in 38.87 sec. Users per second: 915\n",
      "Similarity column 38121 (100.0%), 2872.00 column/sec. Elapsed time 13.27 sec\n",
      "EvaluatorHoldout: Ignoring 172 ( 0.5%) Users that have less than 1 test interactions\n",
      "EvaluatorHoldout: Processed 35564 (100.0%) in 38.65 sec. Users per second: 920\n"
     ]
    },
    {
     "name": "stderr",
     "output_type": "stream",
     "text": [
      "[I 2025-01-06 12:23:13,924] Trial 531 finished with value: 0.2587723562994834 and parameters: {'similarity': 'cosine', 'topK': 49, 'shrink': 472, 'feature_weighting': 'TF-IDF'}. Best is trial 411 with value: 0.26030932919014205.\n"
     ]
    },
    {
     "name": "stdout",
     "output_type": "stream",
     "text": [
      "Similarity column 38121 (100.0%), 2898.44 column/sec. Elapsed time 13.15 sec\n",
      "EvaluatorHoldout: Ignoring 173 ( 0.5%) Users that have less than 1 test interactions\n",
      "EvaluatorHoldout: Processed 35563 (100.0%) in 35.12 sec. Users per second: 1013\n",
      "Similarity column 38121 (100.0%), 2918.44 column/sec. Elapsed time 13.06 sec\n",
      "EvaluatorHoldout: Ignoring 163 ( 0.5%) Users that have less than 1 test interactions\n",
      "EvaluatorHoldout: Processed 35573 (100.0%) in 35.51 sec. Users per second: 1002\n",
      "Similarity column 38121 (100.0%), 2891.85 column/sec. Elapsed time 13.18 sec\n",
      "EvaluatorHoldout: Ignoring 150 ( 0.4%) Users that have less than 1 test interactions\n",
      "EvaluatorHoldout: Processed 35586 (100.0%) in 35.64 sec. Users per second: 998\n",
      "Similarity column 38121 (100.0%), 2865.21 column/sec. Elapsed time 13.30 sec\n",
      "EvaluatorHoldout: Ignoring 167 ( 0.5%) Users that have less than 1 test interactions\n",
      "EvaluatorHoldout: Processed 35569 (100.0%) in 35.87 sec. Users per second: 992\n",
      "Similarity column 38121 (100.0%), 2897.62 column/sec. Elapsed time 13.16 sec\n",
      "EvaluatorHoldout: Ignoring 172 ( 0.5%) Users that have less than 1 test interactions\n",
      "EvaluatorHoldout: Processed 35564 (100.0%) in 35.80 sec. Users per second: 993\n"
     ]
    },
    {
     "name": "stderr",
     "output_type": "stream",
     "text": [
      "[I 2025-01-06 12:27:19,239] Trial 532 finished with value: 0.2593941115142979 and parameters: {'similarity': 'cosine', 'topK': 11, 'shrink': 500, 'feature_weighting': 'TF-IDF'}. Best is trial 411 with value: 0.26030932919014205.\n"
     ]
    },
    {
     "name": "stdout",
     "output_type": "stream",
     "text": [
      "Similarity column 38121 (100.0%), 2874.59 column/sec. Elapsed time 13.26 sec\n",
      "EvaluatorHoldout: Ignoring 173 ( 0.5%) Users that have less than 1 test interactions\n",
      "EvaluatorHoldout: Processed 35563 (100.0%) in 37.05 sec. Users per second: 960\n",
      "Similarity column 38121 (100.0%), 2894.48 column/sec. Elapsed time 13.17 sec\n",
      "EvaluatorHoldout: Ignoring 163 ( 0.5%) Users that have less than 1 test interactions\n",
      "EvaluatorHoldout: Processed 35573 (100.0%) in 37.48 sec. Users per second: 949\n",
      "Similarity column 38121 (100.0%), 2880.22 column/sec. Elapsed time 13.24 sec\n",
      "EvaluatorHoldout: Ignoring 150 ( 0.4%) Users that have less than 1 test interactions\n",
      "EvaluatorHoldout: Processed 35586 (100.0%) in 37.56 sec. Users per second: 948\n",
      "Similarity column 38121 (100.0%), 2798.74 column/sec. Elapsed time 13.62 sec\n",
      "EvaluatorHoldout: Ignoring 167 ( 0.5%) Users that have less than 1 test interactions\n",
      "EvaluatorHoldout: Processed 35569 (100.0%) in 37.43 sec. Users per second: 950\n",
      "Similarity column 38121 (100.0%), 2908.39 column/sec. Elapsed time 13.11 sec\n",
      "EvaluatorHoldout: Ignoring 172 ( 0.5%) Users that have less than 1 test interactions\n",
      "EvaluatorHoldout: Processed 35564 (100.0%) in 37.65 sec. Users per second: 945\n"
     ]
    },
    {
     "name": "stderr",
     "output_type": "stream",
     "text": [
      "[I 2025-01-06 12:31:34,421] Trial 533 finished with value: 0.259968640874758 and parameters: {'similarity': 'cosine', 'topK': 26, 'shrink': 579, 'feature_weighting': 'TF-IDF'}. Best is trial 411 with value: 0.26030932919014205.\n"
     ]
    },
    {
     "name": "stdout",
     "output_type": "stream",
     "text": [
      "Similarity column 38121 (100.0%), 2869.28 column/sec. Elapsed time 13.29 sec\n",
      "EvaluatorHoldout: Ignoring 173 ( 0.5%) Users that have less than 1 test interactions\n",
      "EvaluatorHoldout: Processed 35563 (100.0%) in 40.07 sec. Users per second: 888\n",
      "Similarity column 38121 (100.0%), 2869.38 column/sec. Elapsed time 13.29 sec\n",
      "EvaluatorHoldout: Ignoring 163 ( 0.5%) Users that have less than 1 test interactions\n",
      "EvaluatorHoldout: Processed 35573 (100.0%) in 40.36 sec. Users per second: 881\n",
      "Similarity column 38121 (100.0%), 2834.87 column/sec. Elapsed time 13.45 sec\n",
      "EvaluatorHoldout: Ignoring 150 ( 0.4%) Users that have less than 1 test interactions\n",
      "EvaluatorHoldout: Processed 35586 (100.0%) in 40.26 sec. Users per second: 884\n",
      "Similarity column 38121 (100.0%), 2866.05 column/sec. Elapsed time 13.30 sec\n",
      "EvaluatorHoldout: Ignoring 167 ( 0.5%) Users that have less than 1 test interactions\n",
      "EvaluatorHoldout: Processed 35569 (100.0%) in 39.96 sec. Users per second: 890\n",
      "Similarity column 38121 (100.0%), 2875.84 column/sec. Elapsed time 13.26 sec\n",
      "EvaluatorHoldout: Ignoring 172 ( 0.5%) Users that have less than 1 test interactions\n",
      "EvaluatorHoldout: Processed 35564 (100.0%) in 39.84 sec. Users per second: 893\n"
     ]
    },
    {
     "name": "stderr",
     "output_type": "stream",
     "text": [
      "[I 2025-01-06 12:36:03,442] Trial 534 finished with value: 0.25750631267648183 and parameters: {'similarity': 'cosine', 'topK': 70, 'shrink': 521, 'feature_weighting': 'TF-IDF'}. Best is trial 411 with value: 0.26030932919014205.\n"
     ]
    },
    {
     "name": "stdout",
     "output_type": "stream",
     "text": [
      "Similarity column 38121 (100.0%), 3692.15 column/sec. Elapsed time 10.32 sec\n",
      "EvaluatorHoldout: Ignoring 173 ( 0.5%) Users that have less than 1 test interactions\n",
      "EvaluatorHoldout: Processed 35563 (100.0%) in 27.53 sec. Users per second: 1292\n",
      "Similarity column 38121 (100.0%), 3655.75 column/sec. Elapsed time 10.43 sec\n",
      "EvaluatorHoldout: Ignoring 163 ( 0.5%) Users that have less than 1 test interactions\n",
      "EvaluatorHoldout: Processed 35573 (100.0%) in 27.71 sec. Users per second: 1284\n",
      "Similarity column 38121 (100.0%), 3731.02 column/sec. Elapsed time 10.22 sec\n",
      "EvaluatorHoldout: Ignoring 150 ( 0.4%) Users that have less than 1 test interactions\n",
      "EvaluatorHoldout: Processed 35586 (100.0%) in 27.59 sec. Users per second: 1290\n",
      "Similarity column 38121 (100.0%), 3746.02 column/sec. Elapsed time 10.18 sec\n",
      "EvaluatorHoldout: Ignoring 167 ( 0.5%) Users that have less than 1 test interactions\n",
      "EvaluatorHoldout: Processed 35569 (100.0%) in 27.57 sec. Users per second: 1290\n",
      "Similarity column 38121 (100.0%), 3722.38 column/sec. Elapsed time 10.24 sec\n",
      "EvaluatorHoldout: Ignoring 172 ( 0.5%) Users that have less than 1 test interactions\n",
      "EvaluatorHoldout: Processed 35564 (100.0%) in 27.55 sec. Users per second: 1291\n"
     ]
    },
    {
     "name": "stderr",
     "output_type": "stream",
     "text": [
      "[I 2025-01-06 12:39:14,196] Trial 535 finished with value: 0.0055265346604531345 and parameters: {'similarity': 'cosine', 'topK': 0, 'shrink': 490, 'feature_weighting': 'TF-IDF'}. Best is trial 411 with value: 0.26030932919014205.\n"
     ]
    },
    {
     "name": "stdout",
     "output_type": "stream",
     "text": [
      "Similarity column 38121 (100.0%), 2854.58 column/sec. Elapsed time 13.35 sec\n",
      "EvaluatorHoldout: Ignoring 173 ( 0.5%) Users that have less than 1 test interactions\n",
      "EvaluatorHoldout: Processed 35563 (100.0%) in 38.25 sec. Users per second: 930\n",
      "Similarity column 38121 (100.0%), 2873.58 column/sec. Elapsed time 13.27 sec\n",
      "EvaluatorHoldout: Ignoring 163 ( 0.5%) Users that have less than 1 test interactions\n",
      "EvaluatorHoldout: Processed 35573 (100.0%) in 38.32 sec. Users per second: 928\n",
      "Similarity column 38121 (100.0%), 2866.79 column/sec. Elapsed time 13.30 sec\n",
      "EvaluatorHoldout: Ignoring 150 ( 0.4%) Users that have less than 1 test interactions\n",
      "EvaluatorHoldout: Processed 35586 (100.0%) in 38.42 sec. Users per second: 926\n",
      "Similarity column 38121 (100.0%), 2873.22 column/sec. Elapsed time 13.27 sec\n",
      "EvaluatorHoldout: Ignoring 167 ( 0.5%) Users that have less than 1 test interactions\n",
      "EvaluatorHoldout: Processed 35569 (100.0%) in 38.03 sec. Users per second: 935\n",
      "Similarity column 38121 (100.0%), 2906.14 column/sec. Elapsed time 13.12 sec\n",
      "EvaluatorHoldout: Ignoring 172 ( 0.5%) Users that have less than 1 test interactions\n",
      "EvaluatorHoldout: Processed 35564 (100.0%) in 38.40 sec. Users per second: 926\n"
     ]
    },
    {
     "name": "stderr",
     "output_type": "stream",
     "text": [
      "[I 2025-01-06 12:43:33,693] Trial 536 finished with value: 0.25939589008135994 and parameters: {'similarity': 'cosine', 'topK': 39, 'shrink': 471, 'feature_weighting': 'TF-IDF'}. Best is trial 411 with value: 0.26030932919014205.\n"
     ]
    },
    {
     "name": "stdout",
     "output_type": "stream",
     "text": [
      "Similarity column 38121 (100.0%), 2891.68 column/sec. Elapsed time 13.18 sec\n",
      "EvaluatorHoldout: Ignoring 173 ( 0.5%) Users that have less than 1 test interactions\n",
      "EvaluatorHoldout: Processed 35563 (100.0%) in 36.25 sec. Users per second: 981\n",
      "Similarity column 38121 (100.0%), 2892.43 column/sec. Elapsed time 13.18 sec\n",
      "EvaluatorHoldout: Ignoring 163 ( 0.5%) Users that have less than 1 test interactions\n",
      "EvaluatorHoldout: Processed 35573 (100.0%) in 36.31 sec. Users per second: 980\n",
      "Similarity column 38121 (100.0%), 2922.17 column/sec. Elapsed time 13.05 sec\n",
      "EvaluatorHoldout: Ignoring 150 ( 0.4%) Users that have less than 1 test interactions\n",
      "EvaluatorHoldout: Processed 35586 (100.0%) in 36.19 sec. Users per second: 983\n",
      "Similarity column 38121 (100.0%), 2900.51 column/sec. Elapsed time 13.14 sec\n",
      "EvaluatorHoldout: Ignoring 167 ( 0.5%) Users that have less than 1 test interactions\n",
      "EvaluatorHoldout: Processed 35569 (100.0%) in 36.17 sec. Users per second: 983\n",
      "Similarity column 38121 (100.0%), 2925.21 column/sec. Elapsed time 13.03 sec\n",
      "EvaluatorHoldout: Ignoring 172 ( 0.5%) Users that have less than 1 test interactions\n",
      "EvaluatorHoldout: Processed 35564 (100.0%) in 36.29 sec. Users per second: 980\n"
     ]
    },
    {
     "name": "stderr",
     "output_type": "stream",
     "text": [
      "[I 2025-01-06 12:47:42,045] Trial 537 finished with value: 0.26023905126711677 and parameters: {'similarity': 'cosine', 'topK': 20, 'shrink': 454, 'feature_weighting': 'TF-IDF'}. Best is trial 411 with value: 0.26030932919014205.\n"
     ]
    },
    {
     "name": "stdout",
     "output_type": "stream",
     "text": [
      "Similarity column 38121 (100.0%), 2757.24 column/sec. Elapsed time 13.83 sec\n",
      "EvaluatorHoldout: Ignoring 173 ( 0.5%) Users that have less than 1 test interactions\n",
      "EvaluatorHoldout: Processed 35563 (100.0%) in 53.54 sec. Users per second: 664\n",
      "Similarity column 38121 (100.0%), 2769.44 column/sec. Elapsed time 13.76 sec\n",
      "EvaluatorHoldout: Ignoring 163 ( 0.5%) Users that have less than 1 test interactions\n",
      "EvaluatorHoldout: Processed 35573 (100.0%) in 53.78 sec. Users per second: 661\n",
      "Similarity column 38121 (100.0%), 2707.56 column/sec. Elapsed time 14.08 sec\n",
      "EvaluatorHoldout: Ignoring 150 ( 0.4%) Users that have less than 1 test interactions\n",
      "EvaluatorHoldout: Processed 35586 (100.0%) in 53.78 sec. Users per second: 662\n",
      "Similarity column 38121 (100.0%), 2700.82 column/sec. Elapsed time 14.11 sec\n",
      "EvaluatorHoldout: Ignoring 167 ( 0.5%) Users that have less than 1 test interactions\n",
      "EvaluatorHoldout: Processed 35569 (100.0%) in 54.69 sec. Users per second: 650\n",
      "Similarity column 38121 (100.0%), 2735.16 column/sec. Elapsed time 13.94 sec\n",
      "EvaluatorHoldout: Ignoring 172 ( 0.5%) Users that have less than 1 test interactions\n",
      "EvaluatorHoldout: Processed 35564 (100.0%) in 54.04 sec. Users per second: 658\n"
     ]
    },
    {
     "name": "stderr",
     "output_type": "stream",
     "text": [
      "[I 2025-01-06 12:53:27,492] Trial 538 finished with value: 0.24954106301564621 and parameters: {'similarity': 'cosine', 'topK': 536, 'shrink': 461, 'feature_weighting': 'TF-IDF'}. Best is trial 411 with value: 0.26030932919014205.\n"
     ]
    },
    {
     "name": "stdout",
     "output_type": "stream",
     "text": [
      "Similarity column 38121 (100.0%), 2689.80 column/sec. Elapsed time 14.17 sec\n",
      "EvaluatorHoldout: Ignoring 173 ( 0.5%) Users that have less than 1 test interactions\n",
      "EvaluatorHoldout: Processed 35563 (100.0%) in 37.68 sec. Users per second: 944\n",
      "Similarity column 38121 (100.0%), 2736.27 column/sec. Elapsed time 13.93 sec\n",
      "EvaluatorHoldout: Ignoring 163 ( 0.5%) Users that have less than 1 test interactions\n",
      "EvaluatorHoldout: Processed 35573 (100.0%) in 37.72 sec. Users per second: 943\n",
      "Similarity column 38121 (100.0%), 2707.65 column/sec. Elapsed time 14.08 sec\n",
      "EvaluatorHoldout: Ignoring 150 ( 0.4%) Users that have less than 1 test interactions\n",
      "EvaluatorHoldout: Processed 35586 (100.0%) in 37.71 sec. Users per second: 944\n",
      "Similarity column 38121 (100.0%), 2707.88 column/sec. Elapsed time 14.08 sec\n",
      "EvaluatorHoldout: Ignoring 167 ( 0.5%) Users that have less than 1 test interactions\n",
      "EvaluatorHoldout: Processed 35569 (100.0%) in 37.29 sec. Users per second: 954\n",
      "Similarity column 38121 (100.0%), 2722.54 column/sec. Elapsed time 14.00 sec\n",
      "EvaluatorHoldout: Ignoring 172 ( 0.5%) Users that have less than 1 test interactions\n",
      "EvaluatorHoldout: Processed 35564 (100.0%) in 37.62 sec. Users per second: 945\n"
     ]
    },
    {
     "name": "stderr",
     "output_type": "stream",
     "text": [
      "[I 2025-01-06 12:57:48,256] Trial 539 finished with value: 0.22689461845346556 and parameters: {'similarity': 'tversky', 'topK': 17, 'shrink': 456, 'feature_weighting': 'TF-IDF', 'tversky_alpha': 1.818856118800783, 'tversky_beta': 0.7705401629834272}. Best is trial 411 with value: 0.26030932919014205.\n"
     ]
    },
    {
     "name": "stdout",
     "output_type": "stream",
     "text": [
      "Similarity column 38121 (100.0%), 2901.18 column/sec. Elapsed time 13.14 sec\n",
      "EvaluatorHoldout: Ignoring 173 ( 0.5%) Users that have less than 1 test interactions\n",
      "EvaluatorHoldout: Processed 35563 (100.0%) in 40.95 sec. Users per second: 868\n",
      "Similarity column 38121 (100.0%), 2928.20 column/sec. Elapsed time 13.02 sec\n",
      "EvaluatorHoldout: Ignoring 163 ( 0.5%) Users that have less than 1 test interactions\n",
      "EvaluatorHoldout: Processed 35573 (100.0%) in 40.39 sec. Users per second: 881\n",
      "Similarity column 38121 (100.0%), 2923.88 column/sec. Elapsed time 13.04 sec\n",
      "EvaluatorHoldout: Ignoring 150 ( 0.4%) Users that have less than 1 test interactions\n",
      "EvaluatorHoldout: Processed 35586 (100.0%) in 40.03 sec. Users per second: 889\n",
      "Similarity column 38121 (100.0%), 2970.60 column/sec. Elapsed time 12.83 sec\n",
      "EvaluatorHoldout: Ignoring 167 ( 0.5%) Users that have less than 1 test interactions\n",
      "EvaluatorHoldout: Processed 35569 (100.0%) in 40.39 sec. Users per second: 881\n",
      "Similarity column 38121 (100.0%), 2933.16 column/sec. Elapsed time 13.00 sec\n",
      "EvaluatorHoldout: Ignoring 172 ( 0.5%) Users that have less than 1 test interactions\n",
      "EvaluatorHoldout: Processed 35564 (100.0%) in 40.35 sec. Users per second: 881\n"
     ]
    },
    {
     "name": "stderr",
     "output_type": "stream",
     "text": [
      "[I 2025-01-06 13:02:18,117] Trial 540 finished with value: 0.22712026330394103 and parameters: {'similarity': 'jaccard', 'topK': 49, 'shrink': 440, 'feature_weighting': 'TF-IDF'}. Best is trial 411 with value: 0.26030932919014205.\n"
     ]
    },
    {
     "name": "stdout",
     "output_type": "stream",
     "text": [
      "Similarity column 38121 (100.0%), 3689.91 column/sec. Elapsed time 10.33 sec\n",
      "EvaluatorHoldout: Ignoring 173 ( 0.5%) Users that have less than 1 test interactions\n",
      "EvaluatorHoldout: Processed 35563 (100.0%) in 27.16 sec. Users per second: 1310\n",
      "Similarity column 38121 (100.0%), 3704.89 column/sec. Elapsed time 10.29 sec\n",
      "EvaluatorHoldout: Ignoring 163 ( 0.5%) Users that have less than 1 test interactions\n",
      "EvaluatorHoldout: Processed 35573 (100.0%) in 27.64 sec. Users per second: 1287\n",
      "Similarity column 38121 (100.0%), 3706.21 column/sec. Elapsed time 10.29 sec\n",
      "EvaluatorHoldout: Ignoring 150 ( 0.4%) Users that have less than 1 test interactions\n",
      "EvaluatorHoldout: Processed 35586 (100.0%) in 27.45 sec. Users per second: 1296\n",
      "Similarity column 38121 (100.0%), 3754.03 column/sec. Elapsed time 10.15 sec\n",
      "EvaluatorHoldout: Ignoring 167 ( 0.5%) Users that have less than 1 test interactions\n",
      "EvaluatorHoldout: Processed 35569 (100.0%) in 27.28 sec. Users per second: 1304\n",
      "Similarity column 38121 (100.0%), 3753.38 column/sec. Elapsed time 10.16 sec\n",
      "EvaluatorHoldout: Ignoring 172 ( 0.5%) Users that have less than 1 test interactions\n",
      "EvaluatorHoldout: Processed 35564 (100.0%) in 27.42 sec. Users per second: 1297\n"
     ]
    },
    {
     "name": "stderr",
     "output_type": "stream",
     "text": [
      "[I 2025-01-06 13:05:27,672] Trial 541 finished with value: 0.0055265346604531345 and parameters: {'similarity': 'cosine', 'topK': 0, 'shrink': 509, 'feature_weighting': 'TF-IDF'}. Best is trial 411 with value: 0.26030932919014205.\n"
     ]
    },
    {
     "name": "stdout",
     "output_type": "stream",
     "text": [
      "Similarity column 38121 (100.0%), 2872.75 column/sec. Elapsed time 13.27 sec\n",
      "EvaluatorHoldout: Ignoring 173 ( 0.5%) Users that have less than 1 test interactions\n",
      "EvaluatorHoldout: Processed 35563 (100.0%) in 40.52 sec. Users per second: 878\n",
      "Similarity column 38121 (100.0%), 2825.80 column/sec. Elapsed time 13.49 sec\n",
      "EvaluatorHoldout: Ignoring 163 ( 0.5%) Users that have less than 1 test interactions\n",
      "EvaluatorHoldout: Processed 35573 (100.0%) in 42.76 sec. Users per second: 832\n",
      "Similarity column 38121 (100.0%), 2824.03 column/sec. Elapsed time 13.50 sec\n",
      "EvaluatorHoldout: Ignoring 150 ( 0.4%) Users that have less than 1 test interactions\n",
      "EvaluatorHoldout: Processed 35586 (100.0%) in 42.73 sec. Users per second: 833\n",
      "Similarity column 38121 (100.0%), 2795.81 column/sec. Elapsed time 13.64 sec\n",
      "EvaluatorHoldout: Ignoring 167 ( 0.5%) Users that have less than 1 test interactions\n",
      "EvaluatorHoldout: Processed 35569 (100.0%) in 42.59 sec. Users per second: 835\n",
      "Similarity column 38121 (100.0%), 2809.10 column/sec. Elapsed time 13.57 sec\n",
      "EvaluatorHoldout: Ignoring 172 ( 0.5%) Users that have less than 1 test interactions\n",
      "EvaluatorHoldout: Processed 35564 (100.0%) in 42.58 sec. Users per second: 835\n"
     ]
    },
    {
     "name": "stderr",
     "output_type": "stream",
     "text": [
      "[I 2025-01-06 13:10:08,467] Trial 542 finished with value: 0.25997693565562763 and parameters: {'similarity': 'cosine', 'topK': 31, 'shrink': 479, 'feature_weighting': 'TF-IDF'}. Best is trial 411 with value: 0.26030932919014205.\n"
     ]
    },
    {
     "name": "stdout",
     "output_type": "stream",
     "text": [
      "Similarity column 38121 (100.0%), 2755.05 column/sec. Elapsed time 13.84 sec\n",
      "EvaluatorHoldout: Ignoring 173 ( 0.5%) Users that have less than 1 test interactions\n",
      "EvaluatorHoldout: Processed 35563 (100.0%) in 40.97 sec. Users per second: 868\n",
      "Similarity column 38121 (100.0%), 2762.25 column/sec. Elapsed time 13.80 sec\n",
      "EvaluatorHoldout: Ignoring 163 ( 0.5%) Users that have less than 1 test interactions\n",
      "EvaluatorHoldout: Processed 35573 (100.0%) in 41.02 sec. Users per second: 867\n",
      "Similarity column 38121 (100.0%), 2825.56 column/sec. Elapsed time 13.49 sec\n",
      "EvaluatorHoldout: Ignoring 150 ( 0.4%) Users that have less than 1 test interactions\n",
      "EvaluatorHoldout: Processed 35586 (100.0%) in 36.17 sec. Users per second: 984\n",
      "Similarity column 38121 (100.0%), 2878.13 column/sec. Elapsed time 13.25 sec\n",
      "EvaluatorHoldout: Ignoring 167 ( 0.5%) Users that have less than 1 test interactions\n",
      "EvaluatorHoldout: Processed 35569 (100.0%) in 36.41 sec. Users per second: 977\n",
      "Similarity column 38121 (100.0%), 2675.13 column/sec. Elapsed time 14.25 sec\n",
      "EvaluatorHoldout: Ignoring 172 ( 0.5%) Users that have less than 1 test interactions\n",
      "EvaluatorHoldout: Processed 35564 (100.0%) in 42.05 sec. Users per second: 846\n"
     ]
    },
    {
     "name": "stderr",
     "output_type": "stream",
     "text": [
      "[I 2025-01-06 13:14:35,685] Trial 543 finished with value: 0.25928495415193503 and parameters: {'similarity': 'asymmetric', 'topK': 15, 'shrink': 459, 'feature_weighting': 'TF-IDF', 'asymmetric_alpha': 0.5120195480877102}. Best is trial 411 with value: 0.26030932919014205.\n"
     ]
    },
    {
     "name": "stdout",
     "output_type": "stream",
     "text": [
      "Similarity column 38121 (100.0%), 2757.08 column/sec. Elapsed time 13.83 sec\n",
      "EvaluatorHoldout: Ignoring 173 ( 0.5%) Users that have less than 1 test interactions\n",
      "EvaluatorHoldout: Processed 35563 (100.0%) in 40.65 sec. Users per second: 875\n",
      "Similarity column 38121 (100.0%), 2756.75 column/sec. Elapsed time 13.83 sec\n",
      "EvaluatorHoldout: Ignoring 163 ( 0.5%) Users that have less than 1 test interactions\n",
      "EvaluatorHoldout: Processed 35573 (100.0%) in 39.20 sec. Users per second: 908\n",
      "Similarity column 38121 (100.0%), 2827.39 column/sec. Elapsed time 13.48 sec\n",
      "EvaluatorHoldout: Ignoring 150 ( 0.4%) Users that have less than 1 test interactions\n",
      "EvaluatorHoldout: Processed 35586 (100.0%) in 38.67 sec. Users per second: 920\n",
      "Similarity column 38121 (100.0%), 2846.23 column/sec. Elapsed time 13.39 sec\n",
      "EvaluatorHoldout: Ignoring 167 ( 0.5%) Users that have less than 1 test interactions\n",
      "EvaluatorHoldout: Processed 35569 (100.0%) in 38.72 sec. Users per second: 919\n",
      "Similarity column 38121 (100.0%), 2852.07 column/sec. Elapsed time 13.37 sec\n",
      "EvaluatorHoldout: Ignoring 172 ( 0.5%) Users that have less than 1 test interactions\n",
      "EvaluatorHoldout: Processed 35564 (100.0%) in 38.22 sec. Users per second: 930\n"
     ]
    },
    {
     "name": "stderr",
     "output_type": "stream",
     "text": [
      "[I 2025-01-06 13:19:00,930] Trial 544 finished with value: 0.25942522434669035 and parameters: {'similarity': 'cosine', 'topK': 39, 'shrink': 435, 'feature_weighting': 'TF-IDF'}. Best is trial 411 with value: 0.26030932919014205.\n"
     ]
    },
    {
     "name": "stdout",
     "output_type": "stream",
     "text": [
      "Similarity column 38121 (100.0%), 2845.93 column/sec. Elapsed time 13.39 sec\n",
      "EvaluatorHoldout: Ignoring 173 ( 0.5%) Users that have less than 1 test interactions\n",
      "EvaluatorHoldout: Processed 35563 (100.0%) in 39.42 sec. Users per second: 902\n",
      "Similarity column 38121 (100.0%), 2821.07 column/sec. Elapsed time 13.51 sec\n",
      "EvaluatorHoldout: Ignoring 163 ( 0.5%) Users that have less than 1 test interactions\n",
      "EvaluatorHoldout: Processed 35573 (100.0%) in 38.96 sec. Users per second: 913\n",
      "Similarity column 38121 (100.0%), 2836.21 column/sec. Elapsed time 13.44 sec\n",
      "EvaluatorHoldout: Ignoring 150 ( 0.4%) Users that have less than 1 test interactions\n",
      "EvaluatorHoldout: Processed 35586 (100.0%) in 39.19 sec. Users per second: 908\n",
      "Similarity column 38121 (100.0%), 2865.67 column/sec. Elapsed time 13.30 sec\n",
      "EvaluatorHoldout: Ignoring 167 ( 0.5%) Users that have less than 1 test interactions\n",
      "EvaluatorHoldout: Processed 35569 (100.0%) in 38.93 sec. Users per second: 914\n",
      "Similarity column 38121 (100.0%), 2859.72 column/sec. Elapsed time 13.33 sec\n",
      "EvaluatorHoldout: Ignoring 172 ( 0.5%) Users that have less than 1 test interactions\n",
      "EvaluatorHoldout: Processed 35564 (100.0%) in 38.88 sec. Users per second: 915\n"
     ]
    },
    {
     "name": "stderr",
     "output_type": "stream",
     "text": [
      "[I 2025-01-06 13:23:24,443] Trial 545 finished with value: 0.21696625497730326 and parameters: {'similarity': 'cosine', 'topK': 23, 'shrink': 529, 'feature_weighting': 'none'}. Best is trial 411 with value: 0.26030932919014205.\n"
     ]
    },
    {
     "name": "stdout",
     "output_type": "stream",
     "text": [
      "Similarity column 38121 (100.0%), 515.01 column/sec. Elapsed time 1.23 min\n",
      "EvaluatorHoldout: Ignoring 173 ( 0.5%) Users that have less than 1 test interactions\n",
      "EvaluatorHoldout: Processed 35563 (100.0%) in 30.60 sec. Users per second: 1162\n",
      "Similarity column 38121 (100.0%), 442.15 column/sec. Elapsed time 1.44 min\n",
      "EvaluatorHoldout: Ignoring 163 ( 0.5%) Users that have less than 1 test interactions\n",
      "EvaluatorHoldout: Processed 35573 (100.0%) in 31.18 sec. Users per second: 1141\n",
      "Similarity column 38121 (100.0%), 442.78 column/sec. Elapsed time 1.43 min\n",
      "EvaluatorHoldout: Ignoring 150 ( 0.4%) Users that have less than 1 test interactions\n",
      "EvaluatorHoldout: Processed 35586 (100.0%) in 31.00 sec. Users per second: 1148\n",
      "Similarity column 38121 (100.0%), 419.10 column/sec. Elapsed time 1.52 min\n",
      "EvaluatorHoldout: Ignoring 167 ( 0.5%) Users that have less than 1 test interactions\n",
      "EvaluatorHoldout: Processed 35569 (100.0%) in 31.52 sec. Users per second: 1128\n",
      "Similarity column 38121 (100.0%), 416.84 column/sec. Elapsed time 1.52 min\n",
      "EvaluatorHoldout: Ignoring 172 ( 0.5%) Users that have less than 1 test interactions\n",
      "EvaluatorHoldout: Processed 35564 (100.0%) in 30.82 sec. Users per second: 1154\n"
     ]
    },
    {
     "name": "stderr",
     "output_type": "stream",
     "text": [
      "[I 2025-01-06 13:33:09,799] Trial 546 finished with value: 0.09395806969245246 and parameters: {'similarity': 'euclidean', 'topK': 53, 'shrink': 457, 'feature_weighting': 'TF-IDF', 'normalize_avg_row': True, 'similarity_from_distance_mode': 'exp', 'normalize': False}. Best is trial 411 with value: 0.26030932919014205.\n"
     ]
    },
    {
     "name": "stdout",
     "output_type": "stream",
     "text": [
      "Similarity column 38121 (100.0%), 2883.32 column/sec. Elapsed time 13.22 sec\n",
      "EvaluatorHoldout: Ignoring 173 ( 0.5%) Users that have less than 1 test interactions\n",
      "EvaluatorHoldout: Processed 35563 (100.0%) in 35.84 sec. Users per second: 992\n",
      "Similarity column 38121 (100.0%), 2902.18 column/sec. Elapsed time 13.14 sec\n",
      "EvaluatorHoldout: Ignoring 163 ( 0.5%) Users that have less than 1 test interactions\n",
      "EvaluatorHoldout: Processed 35573 (100.0%) in 35.80 sec. Users per second: 994\n",
      "Similarity column 38121 (100.0%), 2886.06 column/sec. Elapsed time 13.21 sec\n",
      "EvaluatorHoldout: Ignoring 150 ( 0.4%) Users that have less than 1 test interactions\n",
      "EvaluatorHoldout: Processed 35586 (100.0%) in 35.57 sec. Users per second: 1000\n",
      "Similarity column 38121 (100.0%), 2873.97 column/sec. Elapsed time 13.26 sec\n",
      "EvaluatorHoldout: Ignoring 167 ( 0.5%) Users that have less than 1 test interactions\n",
      "EvaluatorHoldout: Processed 35569 (100.0%) in 35.89 sec. Users per second: 991\n",
      "Similarity column 38121 (100.0%), 2892.54 column/sec. Elapsed time 13.18 sec\n",
      "EvaluatorHoldout: Ignoring 172 ( 0.5%) Users that have less than 1 test interactions\n",
      "EvaluatorHoldout: Processed 35564 (100.0%) in 35.61 sec. Users per second: 999\n"
     ]
    },
    {
     "name": "stderr",
     "output_type": "stream",
     "text": [
      "[I 2025-01-06 13:37:16,043] Trial 547 finished with value: 0.2595755954530888 and parameters: {'similarity': 'cosine', 'topK': 12, 'shrink': 489, 'feature_weighting': 'TF-IDF'}. Best is trial 411 with value: 0.26030932919014205.\n"
     ]
    },
    {
     "name": "stdout",
     "output_type": "stream",
     "text": [
      "Similarity column 38121 (100.0%), 2895.85 column/sec. Elapsed time 13.16 sec\n",
      "EvaluatorHoldout: Ignoring 173 ( 0.5%) Users that have less than 1 test interactions\n",
      "EvaluatorHoldout: Processed 35563 (100.0%) in 37.39 sec. Users per second: 951\n",
      "Similarity column 38121 (100.0%), 2903.12 column/sec. Elapsed time 13.13 sec\n",
      "EvaluatorHoldout: Ignoring 163 ( 0.5%) Users that have less than 1 test interactions\n",
      "EvaluatorHoldout: Processed 35573 (100.0%) in 37.63 sec. Users per second: 945\n",
      "Similarity column 38121 (100.0%), 2919.05 column/sec. Elapsed time 13.06 sec\n",
      "EvaluatorHoldout: Ignoring 150 ( 0.4%) Users that have less than 1 test interactions\n",
      "EvaluatorHoldout: Processed 35586 (100.0%) in 37.68 sec. Users per second: 945\n",
      "Similarity column 38121 (100.0%), 2906.54 column/sec. Elapsed time 13.12 sec\n",
      "EvaluatorHoldout: Ignoring 167 ( 0.5%) Users that have less than 1 test interactions\n",
      "EvaluatorHoldout: Processed 35569 (100.0%) in 37.63 sec. Users per second: 945\n",
      "Similarity column 38121 (100.0%), 2896.99 column/sec. Elapsed time 13.16 sec\n",
      "EvaluatorHoldout: Ignoring 172 ( 0.5%) Users that have less than 1 test interactions\n",
      "EvaluatorHoldout: Processed 35564 (100.0%) in 37.68 sec. Users per second: 944\n"
     ]
    },
    {
     "name": "stderr",
     "output_type": "stream",
     "text": [
      "[I 2025-01-06 13:41:31,345] Trial 548 finished with value: 0.2599726914236883 and parameters: {'similarity': 'cosine', 'topK': 32, 'shrink': 436, 'feature_weighting': 'TF-IDF'}. Best is trial 411 with value: 0.26030932919014205.\n"
     ]
    },
    {
     "name": "stdout",
     "output_type": "stream",
     "text": [
      "Similarity column 38121 (100.0%), 3042.49 column/sec. Elapsed time 12.53 sec\n",
      "EvaluatorHoldout: Ignoring 173 ( 0.5%) Users that have less than 1 test interactions\n",
      "EvaluatorHoldout: Processed 35563 (100.0%) in 36.29 sec. Users per second: 980\n",
      "Similarity column 38121 (100.0%), 3015.73 column/sec. Elapsed time 12.64 sec\n",
      "EvaluatorHoldout: Ignoring 163 ( 0.5%) Users that have less than 1 test interactions\n",
      "EvaluatorHoldout: Processed 35573 (100.0%) in 36.38 sec. Users per second: 978\n",
      "Similarity column 38121 (100.0%), 3010.06 column/sec. Elapsed time 12.66 sec\n",
      "EvaluatorHoldout: Ignoring 150 ( 0.4%) Users that have less than 1 test interactions\n",
      "EvaluatorHoldout: Processed 35586 (100.0%) in 36.71 sec. Users per second: 969\n",
      "Similarity column 38121 (100.0%), 2993.56 column/sec. Elapsed time 12.73 sec\n",
      "EvaluatorHoldout: Ignoring 167 ( 0.5%) Users that have less than 1 test interactions\n",
      "EvaluatorHoldout: Processed 35569 (100.0%) in 36.86 sec. Users per second: 965\n",
      "Similarity column 38121 (100.0%), 2880.50 column/sec. Elapsed time 13.23 sec\n",
      "EvaluatorHoldout: Ignoring 172 ( 0.5%) Users that have less than 1 test interactions\n",
      "EvaluatorHoldout: Processed 35564 (100.0%) in 37.76 sec. Users per second: 942\n"
     ]
    },
    {
     "name": "stderr",
     "output_type": "stream",
     "text": [
      "[I 2025-01-06 13:45:41,691] Trial 549 finished with value: 0.25661690650345714 and parameters: {'similarity': 'dice', 'topK': 11, 'shrink': 504, 'feature_weighting': 'BM25'}. Best is trial 411 with value: 0.26030932919014205.\n"
     ]
    },
    {
     "name": "stdout",
     "output_type": "stream",
     "text": [
      "Similarity column 38121 (100.0%), 2817.65 column/sec. Elapsed time 13.53 sec\n",
      "EvaluatorHoldout: Ignoring 173 ( 0.5%) Users that have less than 1 test interactions\n",
      "EvaluatorHoldout: Processed 35563 (100.0%) in 40.12 sec. Users per second: 886\n",
      "Similarity column 38121 (100.0%), 2815.15 column/sec. Elapsed time 13.54 sec\n",
      "EvaluatorHoldout: Ignoring 163 ( 0.5%) Users that have less than 1 test interactions\n",
      "EvaluatorHoldout: Processed 35573 (100.0%) in 39.81 sec. Users per second: 894\n",
      "Similarity column 38121 (100.0%), 2803.64 column/sec. Elapsed time 13.60 sec\n",
      "EvaluatorHoldout: Ignoring 150 ( 0.4%) Users that have less than 1 test interactions\n",
      "EvaluatorHoldout: Processed 35586 (100.0%) in 40.21 sec. Users per second: 885\n",
      "Similarity column 38121 (100.0%), 2879.80 column/sec. Elapsed time 13.24 sec\n",
      "EvaluatorHoldout: Ignoring 167 ( 0.5%) Users that have less than 1 test interactions\n",
      "EvaluatorHoldout: Processed 35569 (100.0%) in 39.61 sec. Users per second: 898\n",
      "Similarity column 38121 (100.0%), 2898.25 column/sec. Elapsed time 13.15 sec\n",
      "EvaluatorHoldout: Ignoring 172 ( 0.5%) Users that have less than 1 test interactions\n",
      "EvaluatorHoldout: Processed 35564 (100.0%) in 39.41 sec. Users per second: 902\n"
     ]
    },
    {
     "name": "stderr",
     "output_type": "stream",
     "text": [
      "[I 2025-01-06 13:50:09,905] Trial 550 finished with value: 0.2579170487010466 and parameters: {'similarity': 'cosine', 'topK': 61, 'shrink': 476, 'feature_weighting': 'TF-IDF'}. Best is trial 411 with value: 0.26030932919014205.\n"
     ]
    },
    {
     "name": "stdout",
     "output_type": "stream",
     "text": [
      "Similarity column 38121 (100.0%), 2885.69 column/sec. Elapsed time 13.21 sec\n",
      "EvaluatorHoldout: Ignoring 173 ( 0.5%) Users that have less than 1 test interactions\n",
      "EvaluatorHoldout: Processed 35563 (100.0%) in 38.00 sec. Users per second: 936\n",
      "Similarity column 38121 (100.0%), 2870.61 column/sec. Elapsed time 13.28 sec\n",
      "EvaluatorHoldout: Ignoring 163 ( 0.5%) Users that have less than 1 test interactions\n",
      "EvaluatorHoldout: Processed 35573 (100.0%) in 38.56 sec. Users per second: 922\n",
      "Similarity column 38121 (100.0%), 2871.84 column/sec. Elapsed time 13.27 sec\n",
      "EvaluatorHoldout: Ignoring 150 ( 0.4%) Users that have less than 1 test interactions\n",
      "EvaluatorHoldout: Processed 35586 (100.0%) in 37.96 sec. Users per second: 938\n",
      "Similarity column 38121 (100.0%), 2867.33 column/sec. Elapsed time 13.29 sec\n",
      "EvaluatorHoldout: Ignoring 167 ( 0.5%) Users that have less than 1 test interactions\n",
      "EvaluatorHoldout: Processed 35569 (100.0%) in 38.36 sec. Users per second: 927\n",
      "Similarity column 38121 (100.0%), 2867.72 column/sec. Elapsed time 13.29 sec\n",
      "EvaluatorHoldout: Ignoring 172 ( 0.5%) Users that have less than 1 test interactions\n",
      "EvaluatorHoldout: Processed 35564 (100.0%) in 38.38 sec. Users per second: 927\n"
     ]
    },
    {
     "name": "stderr",
     "output_type": "stream",
     "text": [
      "[I 2025-01-06 13:54:29,293] Trial 551 finished with value: 0.2592806729514664 and parameters: {'similarity': 'cosine', 'topK': 40, 'shrink': 421, 'feature_weighting': 'TF-IDF'}. Best is trial 411 with value: 0.26030932919014205.\n"
     ]
    },
    {
     "name": "stdout",
     "output_type": "stream",
     "text": [
      "Similarity column 38121 (100.0%), 3690.47 column/sec. Elapsed time 10.33 sec\n",
      "EvaluatorHoldout: Ignoring 173 ( 0.5%) Users that have less than 1 test interactions\n",
      "EvaluatorHoldout: Processed 35563 (100.0%) in 27.96 sec. Users per second: 1272\n",
      "Similarity column 38121 (100.0%), 3654.36 column/sec. Elapsed time 10.43 sec\n",
      "EvaluatorHoldout: Ignoring 163 ( 0.5%) Users that have less than 1 test interactions\n",
      "EvaluatorHoldout: Processed 35573 (100.0%) in 28.23 sec. Users per second: 1260\n",
      "Similarity column 38121 (100.0%), 3706.82 column/sec. Elapsed time 10.28 sec\n",
      "EvaluatorHoldout: Ignoring 150 ( 0.4%) Users that have less than 1 test interactions\n",
      "EvaluatorHoldout: Processed 35586 (100.0%) in 27.78 sec. Users per second: 1281\n",
      "Similarity column 38121 (100.0%), 3640.91 column/sec. Elapsed time 10.47 sec\n",
      "EvaluatorHoldout: Ignoring 167 ( 0.5%) Users that have less than 1 test interactions\n",
      "EvaluatorHoldout: Processed 35569 (100.0%) in 29.10 sec. Users per second: 1222\n",
      "Similarity column 38121 (100.0%), 3547.29 column/sec. Elapsed time 10.75 sec\n",
      "EvaluatorHoldout: Ignoring 172 ( 0.5%) Users that have less than 1 test interactions\n",
      "EvaluatorHoldout: Processed 35564 (100.0%) in 29.46 sec. Users per second: 1207\n"
     ]
    },
    {
     "name": "stderr",
     "output_type": "stream",
     "text": [
      "[I 2025-01-06 13:57:45,615] Trial 552 finished with value: 0.0055265346604531345 and parameters: {'similarity': 'cosine', 'topK': 0, 'shrink': 430, 'feature_weighting': 'TF-IDF'}. Best is trial 411 with value: 0.26030932919014205.\n"
     ]
    },
    {
     "name": "stdout",
     "output_type": "stream",
     "text": [
      "Similarity column 38121 (100.0%), 2633.34 column/sec. Elapsed time 14.48 sec\n",
      "EvaluatorHoldout: Ignoring 173 ( 0.5%) Users that have less than 1 test interactions\n",
      "EvaluatorHoldout: Processed 35563 (100.0%) in 51.90 sec. Users per second: 685\n",
      "Similarity column 38121 (100.0%), 2653.37 column/sec. Elapsed time 14.37 sec\n",
      "EvaluatorHoldout: Ignoring 163 ( 0.5%) Users that have less than 1 test interactions\n",
      "EvaluatorHoldout: Processed 35573 (100.0%) in 51.38 sec. Users per second: 692\n",
      "Similarity column 38121 (100.0%), 2579.31 column/sec. Elapsed time 14.78 sec\n",
      "EvaluatorHoldout: Ignoring 150 ( 0.4%) Users that have less than 1 test interactions\n",
      "EvaluatorHoldout: Processed 35586 (100.0%) in 50.73 sec. Users per second: 701\n",
      "Similarity column 38121 (100.0%), 2688.13 column/sec. Elapsed time 14.18 sec\n",
      "EvaluatorHoldout: Ignoring 167 ( 0.5%) Users that have less than 1 test interactions\n",
      "EvaluatorHoldout: Processed 35569 (100.0%) in 49.95 sec. Users per second: 712\n",
      "Similarity column 38121 (100.0%), 2790.74 column/sec. Elapsed time 13.66 sec\n",
      "EvaluatorHoldout: Ignoring 172 ( 0.5%) Users that have less than 1 test interactions\n",
      "EvaluatorHoldout: Processed 35564 (100.0%) in 49.26 sec. Users per second: 722\n"
     ]
    },
    {
     "name": "stderr",
     "output_type": "stream",
     "text": [
      "[I 2025-01-06 14:03:14,871] Trial 553 finished with value: 0.25121630768691805 and parameters: {'similarity': 'cosine', 'topK': 361, 'shrink': 449, 'feature_weighting': 'TF-IDF'}. Best is trial 411 with value: 0.26030932919014205.\n"
     ]
    },
    {
     "name": "stdout",
     "output_type": "stream",
     "text": [
      "Similarity column 38121 (100.0%), 2888.70 column/sec. Elapsed time 13.20 sec\n",
      "EvaluatorHoldout: Ignoring 173 ( 0.5%) Users that have less than 1 test interactions\n",
      "EvaluatorHoldout: Processed 35563 (100.0%) in 36.76 sec. Users per second: 967\n",
      "Similarity column 38121 (100.0%), 2926.50 column/sec. Elapsed time 13.03 sec\n",
      "EvaluatorHoldout: Ignoring 163 ( 0.5%) Users that have less than 1 test interactions\n",
      "EvaluatorHoldout: Processed 35573 (100.0%) in 36.70 sec. Users per second: 969\n",
      "Similarity column 38121 (100.0%), 2907.39 column/sec. Elapsed time 13.11 sec\n",
      "EvaluatorHoldout: Ignoring 150 ( 0.4%) Users that have less than 1 test interactions\n",
      "EvaluatorHoldout: Processed 35586 (100.0%) in 36.83 sec. Users per second: 966\n",
      "Similarity column 38121 (100.0%), 2916.21 column/sec. Elapsed time 13.07 sec\n",
      "EvaluatorHoldout: Ignoring 167 ( 0.5%) Users that have less than 1 test interactions\n",
      "EvaluatorHoldout: Processed 35569 (100.0%) in 36.90 sec. Users per second: 964\n",
      "Similarity column 38121 (100.0%), 2904.46 column/sec. Elapsed time 13.12 sec\n",
      "EvaluatorHoldout: Ignoring 172 ( 0.5%) Users that have less than 1 test interactions\n",
      "EvaluatorHoldout: Processed 35564 (100.0%) in 36.78 sec. Users per second: 967\n"
     ]
    },
    {
     "name": "stderr",
     "output_type": "stream",
     "text": [
      "[I 2025-01-06 14:07:25,936] Trial 554 finished with value: 0.2601063832303302 and parameters: {'similarity': 'cosine', 'topK': 24, 'shrink': 545, 'feature_weighting': 'TF-IDF'}. Best is trial 411 with value: 0.26030932919014205.\n"
     ]
    },
    {
     "name": "stdout",
     "output_type": "stream",
     "text": [
      "Similarity column 38121 (100.0%), 2897.20 column/sec. Elapsed time 13.16 sec\n",
      "EvaluatorHoldout: Ignoring 173 ( 0.5%) Users that have less than 1 test interactions\n",
      "EvaluatorHoldout: Processed 35563 (100.0%) in 37.11 sec. Users per second: 958\n",
      "Similarity column 38121 (100.0%), 2912.69 column/sec. Elapsed time 13.09 sec\n",
      "EvaluatorHoldout: Ignoring 163 ( 0.5%) Users that have less than 1 test interactions\n",
      "EvaluatorHoldout: Processed 35573 (100.0%) in 37.26 sec. Users per second: 955\n",
      "Similarity column 38121 (100.0%), 2833.43 column/sec. Elapsed time 13.45 sec\n",
      "EvaluatorHoldout: Ignoring 150 ( 0.4%) Users that have less than 1 test interactions\n",
      "EvaluatorHoldout: Processed 35586 (100.0%) in 38.10 sec. Users per second: 934\n",
      "Similarity column 38121 (100.0%), 2868.74 column/sec. Elapsed time 13.29 sec\n",
      "EvaluatorHoldout: Ignoring 167 ( 0.5%) Users that have less than 1 test interactions\n",
      "EvaluatorHoldout: Processed 35569 (100.0%) in 37.82 sec. Users per second: 941\n",
      "Similarity column 38121 (100.0%), 2861.83 column/sec. Elapsed time 13.32 sec\n",
      "EvaluatorHoldout: Ignoring 172 ( 0.5%) Users that have less than 1 test interactions\n",
      "EvaluatorHoldout: Processed 35564 (100.0%) in 37.21 sec. Users per second: 956\n"
     ]
    },
    {
     "name": "stderr",
     "output_type": "stream",
     "text": [
      "[I 2025-01-06 14:11:41,356] Trial 555 finished with value: 0.2602128016209736 and parameters: {'similarity': 'cosine', 'topK': 26, 'shrink': 391, 'feature_weighting': 'TF-IDF'}. Best is trial 411 with value: 0.26030932919014205.\n"
     ]
    },
    {
     "name": "stdout",
     "output_type": "stream",
     "text": [
      "Similarity column 38121 (100.0%), 2888.66 column/sec. Elapsed time 13.20 sec\n",
      "EvaluatorHoldout: Ignoring 173 ( 0.5%) Users that have less than 1 test interactions\n",
      "EvaluatorHoldout: Processed 35563 (100.0%) in 38.51 sec. Users per second: 923\n",
      "Similarity column 38121 (100.0%), 2890.43 column/sec. Elapsed time 13.19 sec\n",
      "EvaluatorHoldout: Ignoring 163 ( 0.5%) Users that have less than 1 test interactions\n",
      "EvaluatorHoldout: Processed 35573 (100.0%) in 38.83 sec. Users per second: 916\n",
      "Similarity column 38121 (100.0%), 2882.90 column/sec. Elapsed time 13.22 sec\n",
      "EvaluatorHoldout: Ignoring 150 ( 0.4%) Users that have less than 1 test interactions\n",
      "EvaluatorHoldout: Processed 35586 (100.0%) in 38.73 sec. Users per second: 919\n",
      "Similarity column 38121 (100.0%), 2872.92 column/sec. Elapsed time 13.27 sec\n",
      "EvaluatorHoldout: Ignoring 167 ( 0.5%) Users that have less than 1 test interactions\n",
      "EvaluatorHoldout: Processed 35569 (100.0%) in 38.64 sec. Users per second: 920\n",
      "Similarity column 38121 (100.0%), 2866.05 column/sec. Elapsed time 13.30 sec\n",
      "EvaluatorHoldout: Ignoring 172 ( 0.5%) Users that have less than 1 test interactions\n",
      "EvaluatorHoldout: Processed 35564 (100.0%) in 39.21 sec. Users per second: 907\n"
     ]
    },
    {
     "name": "stderr",
     "output_type": "stream",
     "text": [
      "[I 2025-01-06 14:16:03,269] Trial 556 finished with value: 0.2587937988935096 and parameters: {'similarity': 'cosine', 'topK': 47, 'shrink': 466, 'feature_weighting': 'TF-IDF'}. Best is trial 411 with value: 0.26030932919014205.\n"
     ]
    },
    {
     "name": "stdout",
     "output_type": "stream",
     "text": [
      "Similarity column 38121 (100.0%), 2908.64 column/sec. Elapsed time 13.11 sec\n",
      "EvaluatorHoldout: Ignoring 173 ( 0.5%) Users that have less than 1 test interactions\n",
      "EvaluatorHoldout: Processed 35563 (100.0%) in 35.41 sec. Users per second: 1004\n",
      "Similarity column 38121 (100.0%), 2912.33 column/sec. Elapsed time 13.09 sec\n",
      "EvaluatorHoldout: Ignoring 163 ( 0.5%) Users that have less than 1 test interactions\n",
      "EvaluatorHoldout: Processed 35573 (100.0%) in 36.33 sec. Users per second: 979\n",
      "Similarity column 38121 (100.0%), 2826.31 column/sec. Elapsed time 13.49 sec\n",
      "EvaluatorHoldout: Ignoring 150 ( 0.4%) Users that have less than 1 test interactions\n",
      "EvaluatorHoldout: Processed 35586 (100.0%) in 35.87 sec. Users per second: 992\n",
      "Similarity column 38121 (100.0%), 2849.96 column/sec. Elapsed time 13.38 sec\n",
      "EvaluatorHoldout: Ignoring 167 ( 0.5%) Users that have less than 1 test interactions\n",
      "EvaluatorHoldout: Processed 35569 (100.0%) in 35.45 sec. Users per second: 1003\n",
      "Similarity column 38121 (100.0%), 2915.31 column/sec. Elapsed time 13.08 sec\n",
      "EvaluatorHoldout: Ignoring 172 ( 0.5%) Users that have less than 1 test interactions\n",
      "EvaluatorHoldout: Processed 35564 (100.0%) in 35.79 sec. Users per second: 994\n"
     ]
    },
    {
     "name": "stderr",
     "output_type": "stream",
     "text": [
      "[I 2025-01-06 14:20:09,909] Trial 557 finished with value: 0.259659445139648 and parameters: {'similarity': 'cosine', 'topK': 13, 'shrink': 405, 'feature_weighting': 'TF-IDF'}. Best is trial 411 with value: 0.26030932919014205.\n"
     ]
    },
    {
     "name": "stdout",
     "output_type": "stream",
     "text": [
      "Similarity column 38121 (100.0%), 2879.77 column/sec. Elapsed time 13.24 sec\n",
      "EvaluatorHoldout: Ignoring 173 ( 0.5%) Users that have less than 1 test interactions\n",
      "EvaluatorHoldout: Processed 35563 (100.0%) in 40.19 sec. Users per second: 885\n",
      "Similarity column 38121 (100.0%), 2871.26 column/sec. Elapsed time 13.28 sec\n",
      "EvaluatorHoldout: Ignoring 163 ( 0.5%) Users that have less than 1 test interactions\n",
      "EvaluatorHoldout: Processed 35573 (100.0%) in 40.35 sec. Users per second: 882\n",
      "Similarity column 38121 (100.0%), 2880.88 column/sec. Elapsed time 13.23 sec\n",
      "EvaluatorHoldout: Ignoring 150 ( 0.4%) Users that have less than 1 test interactions\n",
      "EvaluatorHoldout: Processed 35586 (100.0%) in 40.30 sec. Users per second: 883\n",
      "Similarity column 38121 (100.0%), 2902.81 column/sec. Elapsed time 13.13 sec\n",
      "EvaluatorHoldout: Ignoring 167 ( 0.5%) Users that have less than 1 test interactions\n",
      "EvaluatorHoldout: Processed 35569 (100.0%) in 41.09 sec. Users per second: 866\n",
      "Similarity column 38121 (100.0%), 2829.08 column/sec. Elapsed time 13.47 sec\n",
      "EvaluatorHoldout: Ignoring 172 ( 0.5%) Users that have less than 1 test interactions\n",
      "EvaluatorHoldout: Processed 35564 (100.0%) in 40.39 sec. Users per second: 881\n"
     ]
    },
    {
     "name": "stderr",
     "output_type": "stream",
     "text": [
      "[I 2025-01-06 14:24:40,564] Trial 558 finished with value: 0.2570699414084287 and parameters: {'similarity': 'cosine', 'topK': 76, 'shrink': 497, 'feature_weighting': 'TF-IDF'}. Best is trial 411 with value: 0.26030932919014205.\n"
     ]
    },
    {
     "name": "stdout",
     "output_type": "stream",
     "text": [
      "Similarity column 38121 (100.0%), 2916.41 column/sec. Elapsed time 13.07 sec\n",
      "EvaluatorHoldout: Ignoring 173 ( 0.5%) Users that have less than 1 test interactions\n",
      "EvaluatorHoldout: Processed 35563 (100.0%) in 37.71 sec. Users per second: 943\n",
      "Similarity column 38121 (100.0%), 2920.89 column/sec. Elapsed time 13.05 sec\n",
      "EvaluatorHoldout: Ignoring 163 ( 0.5%) Users that have less than 1 test interactions\n",
      "EvaluatorHoldout: Processed 35573 (100.0%) in 37.98 sec. Users per second: 937\n",
      "Similarity column 38121 (100.0%), 2910.04 column/sec. Elapsed time 13.10 sec\n",
      "EvaluatorHoldout: Ignoring 150 ( 0.4%) Users that have less than 1 test interactions\n",
      "EvaluatorHoldout: Processed 35586 (100.0%) in 37.94 sec. Users per second: 938\n",
      "Similarity column 38121 (100.0%), 2906.26 column/sec. Elapsed time 13.12 sec\n",
      "EvaluatorHoldout: Ignoring 167 ( 0.5%) Users that have less than 1 test interactions\n",
      "EvaluatorHoldout: Processed 35569 (100.0%) in 38.28 sec. Users per second: 929\n",
      "Similarity column 38121 (100.0%), 2902.77 column/sec. Elapsed time 13.13 sec\n",
      "EvaluatorHoldout: Ignoring 172 ( 0.5%) Users that have less than 1 test interactions\n",
      "EvaluatorHoldout: Processed 35564 (100.0%) in 37.73 sec. Users per second: 943\n"
     ]
    },
    {
     "name": "stderr",
     "output_type": "stream",
     "text": [
      "[I 2025-01-06 14:28:57,334] Trial 559 finished with value: 0.25980326153108735 and parameters: {'similarity': 'cosine', 'topK': 35, 'shrink': 441, 'feature_weighting': 'TF-IDF'}. Best is trial 411 with value: 0.26030932919014205.\n"
     ]
    },
    {
     "name": "stdout",
     "output_type": "stream",
     "text": [
      "Similarity column 38121 (100.0%), 2805.83 column/sec. Elapsed time 13.59 sec\n",
      "EvaluatorHoldout: Ignoring 173 ( 0.5%) Users that have less than 1 test interactions\n",
      "EvaluatorHoldout: Processed 35563 (100.0%) in 46.06 sec. Users per second: 772\n",
      "Similarity column 38121 (100.0%), 2785.68 column/sec. Elapsed time 13.68 sec\n",
      "EvaluatorHoldout: Ignoring 163 ( 0.5%) Users that have less than 1 test interactions\n",
      "EvaluatorHoldout: Processed 35573 (100.0%) in 46.53 sec. Users per second: 764\n",
      "Similarity column 38121 (100.0%), 2772.58 column/sec. Elapsed time 13.75 sec\n",
      "EvaluatorHoldout: Ignoring 150 ( 0.4%) Users that have less than 1 test interactions\n",
      "EvaluatorHoldout: Processed 35586 (100.0%) in 46.27 sec. Users per second: 769\n",
      "Similarity column 38121 (100.0%), 2773.80 column/sec. Elapsed time 13.74 sec\n",
      "EvaluatorHoldout: Ignoring 167 ( 0.5%) Users that have less than 1 test interactions\n",
      "EvaluatorHoldout: Processed 35569 (100.0%) in 46.53 sec. Users per second: 764\n",
      "Similarity column 38121 (100.0%), 2844.77 column/sec. Elapsed time 13.40 sec\n",
      "EvaluatorHoldout: Ignoring 172 ( 0.5%) Users that have less than 1 test interactions\n",
      "EvaluatorHoldout: Processed 35564 (100.0%) in 46.17 sec. Users per second: 770\n"
     ]
    },
    {
     "name": "stderr",
     "output_type": "stream",
     "text": [
      "[I 2025-01-06 14:34:00,268] Trial 560 finished with value: 0.25250048108610856 and parameters: {'similarity': 'cosine', 'topK': 250, 'shrink': 377, 'feature_weighting': 'TF-IDF'}. Best is trial 411 with value: 0.26030932919014205.\n"
     ]
    },
    {
     "name": "stdout",
     "output_type": "stream",
     "text": [
      "Similarity column 38121 (100.0%), 2904.45 column/sec. Elapsed time 13.13 sec\n",
      "EvaluatorHoldout: Ignoring 173 ( 0.5%) Users that have less than 1 test interactions\n",
      "EvaluatorHoldout: Processed 35563 (100.0%) in 39.34 sec. Users per second: 904\n",
      "Similarity column 38121 (100.0%), 2858.29 column/sec. Elapsed time 13.34 sec\n",
      "EvaluatorHoldout: Ignoring 163 ( 0.5%) Users that have less than 1 test interactions\n",
      "EvaluatorHoldout: Processed 35573 (100.0%) in 39.39 sec. Users per second: 903\n",
      "Similarity column 38121 (100.0%), 2853.30 column/sec. Elapsed time 13.36 sec\n",
      "EvaluatorHoldout: Ignoring 150 ( 0.4%) Users that have less than 1 test interactions\n",
      "EvaluatorHoldout: Processed 35586 (100.0%) in 39.18 sec. Users per second: 908\n",
      "Similarity column 38121 (100.0%), 2893.35 column/sec. Elapsed time 13.18 sec\n",
      "EvaluatorHoldout: Ignoring 167 ( 0.5%) Users that have less than 1 test interactions\n",
      "EvaluatorHoldout: Processed 35569 (100.0%) in 39.24 sec. Users per second: 906\n",
      "Similarity column 38121 (100.0%), 2898.63 column/sec. Elapsed time 13.15 sec\n",
      "EvaluatorHoldout: Ignoring 172 ( 0.5%) Users that have less than 1 test interactions\n",
      "EvaluatorHoldout: Processed 35564 (100.0%) in 39.23 sec. Users per second: 906\n"
     ]
    },
    {
     "name": "stderr",
     "output_type": "stream",
     "text": [
      "[I 2025-01-06 14:38:24,647] Trial 561 finished with value: 0.2583853278009856 and parameters: {'similarity': 'cosine', 'topK': 56, 'shrink': 416, 'feature_weighting': 'TF-IDF'}. Best is trial 411 with value: 0.26030932919014205.\n"
     ]
    },
    {
     "name": "stdout",
     "output_type": "stream",
     "text": [
      "Similarity column 38121 (100.0%), 2886.19 column/sec. Elapsed time 13.21 sec\n",
      "EvaluatorHoldout: Ignoring 173 ( 0.5%) Users that have less than 1 test interactions\n",
      "EvaluatorHoldout: Processed 35563 (100.0%) in 36.79 sec. Users per second: 967\n",
      "Similarity column 38121 (100.0%), 2869.76 column/sec. Elapsed time 13.28 sec\n",
      "EvaluatorHoldout: Ignoring 163 ( 0.5%) Users that have less than 1 test interactions\n",
      "EvaluatorHoldout: Processed 35573 (100.0%) in 36.90 sec. Users per second: 964\n",
      "Similarity column 38121 (100.0%), 2879.60 column/sec. Elapsed time 13.24 sec\n",
      "EvaluatorHoldout: Ignoring 150 ( 0.4%) Users that have less than 1 test interactions\n",
      "EvaluatorHoldout: Processed 35586 (100.0%) in 36.56 sec. Users per second: 973\n",
      "Similarity column 38121 (100.0%), 2891.45 column/sec. Elapsed time 13.18 sec\n",
      "EvaluatorHoldout: Ignoring 167 ( 0.5%) Users that have less than 1 test interactions\n",
      "EvaluatorHoldout: Processed 35569 (100.0%) in 36.94 sec. Users per second: 963\n",
      "Similarity column 38121 (100.0%), 2896.25 column/sec. Elapsed time 13.16 sec\n",
      "EvaluatorHoldout: Ignoring 172 ( 0.5%) Users that have less than 1 test interactions\n",
      "EvaluatorHoldout: Processed 35564 (100.0%) in 36.69 sec. Users per second: 969\n"
     ]
    },
    {
     "name": "stderr",
     "output_type": "stream",
     "text": [
      "[I 2025-01-06 14:42:36,177] Trial 562 finished with value: 0.2598779591671245 and parameters: {'similarity': 'cosine', 'topK': 19, 'shrink': 729, 'feature_weighting': 'TF-IDF'}. Best is trial 411 with value: 0.26030932919014205.\n"
     ]
    },
    {
     "name": "stdout",
     "output_type": "stream",
     "text": [
      "Similarity column 38121 (100.0%), 2751.38 column/sec. Elapsed time 13.86 sec\n",
      "EvaluatorHoldout: Ignoring 173 ( 0.5%) Users that have less than 1 test interactions\n",
      "EvaluatorHoldout: Processed 35563 (100.0%) in 51.04 sec. Users per second: 697\n",
      "Similarity column 38121 (100.0%), 2755.31 column/sec. Elapsed time 13.84 sec\n",
      "EvaluatorHoldout: Ignoring 163 ( 0.5%) Users that have less than 1 test interactions\n",
      "EvaluatorHoldout: Processed 35573 (100.0%) in 50.83 sec. Users per second: 700\n",
      "Similarity column 38121 (100.0%), 2750.60 column/sec. Elapsed time 13.86 sec\n",
      "EvaluatorHoldout: Ignoring 150 ( 0.4%) Users that have less than 1 test interactions\n",
      "EvaluatorHoldout: Processed 35586 (100.0%) in 50.97 sec. Users per second: 698\n",
      "Similarity column 38121 (100.0%), 2764.58 column/sec. Elapsed time 13.79 sec\n",
      "EvaluatorHoldout: Ignoring 167 ( 0.5%) Users that have less than 1 test interactions\n",
      "EvaluatorHoldout: Processed 35569 (100.0%) in 50.93 sec. Users per second: 698\n",
      "Similarity column 38121 (100.0%), 2778.68 column/sec. Elapsed time 13.72 sec\n",
      "EvaluatorHoldout: Ignoring 172 ( 0.5%) Users that have less than 1 test interactions\n",
      "EvaluatorHoldout: Processed 35564 (100.0%) in 50.95 sec. Users per second: 698\n"
     ]
    },
    {
     "name": "stderr",
     "output_type": "stream",
     "text": [
      "[I 2025-01-06 14:48:04,403] Trial 563 finished with value: 0.2504721305336949 and parameters: {'similarity': 'cosine', 'topK': 417, 'shrink': 522, 'feature_weighting': 'TF-IDF'}. Best is trial 411 with value: 0.26030932919014205.\n"
     ]
    },
    {
     "name": "stdout",
     "output_type": "stream",
     "text": [
      "Similarity column 38121 (100.0%), 2902.64 column/sec. Elapsed time 13.13 sec\n",
      "EvaluatorHoldout: Ignoring 173 ( 0.5%) Users that have less than 1 test interactions\n",
      "EvaluatorHoldout: Processed 35563 (100.0%) in 37.45 sec. Users per second: 950\n",
      "Similarity column 38121 (100.0%), 2910.87 column/sec. Elapsed time 13.10 sec\n",
      "EvaluatorHoldout: Ignoring 163 ( 0.5%) Users that have less than 1 test interactions\n",
      "EvaluatorHoldout: Processed 35573 (100.0%) in 37.98 sec. Users per second: 937\n",
      "Similarity column 38121 (100.0%), 2908.45 column/sec. Elapsed time 13.11 sec\n",
      "EvaluatorHoldout: Ignoring 150 ( 0.4%) Users that have less than 1 test interactions\n",
      "EvaluatorHoldout: Processed 35586 (100.0%) in 37.82 sec. Users per second: 941\n",
      "Similarity column 38121 (100.0%), 2844.99 column/sec. Elapsed time 13.40 sec\n",
      "EvaluatorHoldout: Ignoring 167 ( 0.5%) Users that have less than 1 test interactions\n",
      "EvaluatorHoldout: Processed 35569 (100.0%) in 38.53 sec. Users per second: 923\n",
      "Similarity column 38121 (100.0%), 2861.52 column/sec. Elapsed time 13.32 sec\n",
      "EvaluatorHoldout: Ignoring 172 ( 0.5%) Users that have less than 1 test interactions\n",
      "EvaluatorHoldout: Processed 35564 (100.0%) in 38.30 sec. Users per second: 929\n"
     ]
    },
    {
     "name": "stderr",
     "output_type": "stream",
     "text": [
      "[I 2025-01-06 14:52:22,173] Trial 564 finished with value: 0.2598615553919898 and parameters: {'similarity': 'cosine', 'topK': 35, 'shrink': 395, 'feature_weighting': 'TF-IDF'}. Best is trial 411 with value: 0.26030932919014205.\n"
     ]
    },
    {
     "name": "stdout",
     "output_type": "stream",
     "text": [
      "Similarity column 38121 (100.0%), 2885.37 column/sec. Elapsed time 13.21 sec\n",
      "EvaluatorHoldout: Ignoring 173 ( 0.5%) Users that have less than 1 test interactions\n",
      "EvaluatorHoldout: Processed 35563 (100.0%) in 35.50 sec. Users per second: 1002\n",
      "Similarity column 38121 (100.0%), 2884.18 column/sec. Elapsed time 13.22 sec\n",
      "EvaluatorHoldout: Ignoring 163 ( 0.5%) Users that have less than 1 test interactions\n",
      "EvaluatorHoldout: Processed 35573 (100.0%) in 35.67 sec. Users per second: 997\n",
      "Similarity column 38121 (100.0%), 2885.87 column/sec. Elapsed time 13.21 sec\n",
      "EvaluatorHoldout: Ignoring 150 ( 0.4%) Users that have less than 1 test interactions\n",
      "EvaluatorHoldout: Processed 35586 (100.0%) in 35.39 sec. Users per second: 1006\n",
      "Similarity column 38121 (100.0%), 2896.75 column/sec. Elapsed time 13.16 sec\n",
      "EvaluatorHoldout: Ignoring 167 ( 0.5%) Users that have less than 1 test interactions\n",
      "EvaluatorHoldout: Processed 35569 (100.0%) in 35.38 sec. Users per second: 1005\n",
      "Similarity column 38121 (100.0%), 2900.97 column/sec. Elapsed time 13.14 sec\n",
      "EvaluatorHoldout: Ignoring 172 ( 0.5%) Users that have less than 1 test interactions\n",
      "EvaluatorHoldout: Processed 35564 (100.0%) in 35.74 sec. Users per second: 995\n"
     ]
    },
    {
     "name": "stderr",
     "output_type": "stream",
     "text": [
      "[I 2025-01-06 14:56:27,304] Trial 565 finished with value: 0.25938210339750223 and parameters: {'similarity': 'cosine', 'topK': 11, 'shrink': 483, 'feature_weighting': 'TF-IDF'}. Best is trial 411 with value: 0.26030932919014205.\n"
     ]
    },
    {
     "name": "stdout",
     "output_type": "stream",
     "text": [
      "Similarity column 38121 (100.0%), 2894.31 column/sec. Elapsed time 13.17 sec\n",
      "EvaluatorHoldout: Ignoring 173 ( 0.5%) Users that have less than 1 test interactions\n",
      "EvaluatorHoldout: Processed 35563 (100.0%) in 37.86 sec. Users per second: 939\n",
      "Similarity column 38121 (100.0%), 2817.52 column/sec. Elapsed time 13.53 sec\n",
      "EvaluatorHoldout: Ignoring 163 ( 0.5%) Users that have less than 1 test interactions\n",
      "EvaluatorHoldout: Processed 35573 (100.0%) in 38.70 sec. Users per second: 919\n",
      "Similarity column 38121 (100.0%), 2799.18 column/sec. Elapsed time 13.62 sec\n",
      "EvaluatorHoldout: Ignoring 150 ( 0.4%) Users that have less than 1 test interactions\n",
      "EvaluatorHoldout: Processed 35586 (100.0%) in 38.18 sec. Users per second: 932\n",
      "Similarity column 38121 (100.0%), 2832.00 column/sec. Elapsed time 13.46 sec\n",
      "EvaluatorHoldout: Ignoring 167 ( 0.5%) Users that have less than 1 test interactions\n",
      "EvaluatorHoldout: Processed 35569 (100.0%) in 38.25 sec. Users per second: 930\n",
      "Similarity column 38121 (100.0%), 2705.80 column/sec. Elapsed time 14.09 sec\n",
      "EvaluatorHoldout: Ignoring 172 ( 0.5%) Users that have less than 1 test interactions\n",
      "EvaluatorHoldout: Processed 35564 (100.0%) in 39.63 sec. Users per second: 897\n"
     ]
    },
    {
     "name": "stderr",
     "output_type": "stream",
     "text": [
      "[I 2025-01-06 15:00:49,503] Trial 566 finished with value: 0.2602121735374394 and parameters: {'similarity': 'cosine', 'topK': 27, 'shrink': 430, 'feature_weighting': 'TF-IDF'}. Best is trial 411 with value: 0.26030932919014205.\n"
     ]
    },
    {
     "name": "stdout",
     "output_type": "stream",
     "text": [
      "Similarity column 38121 (100.0%), 2588.89 column/sec. Elapsed time 14.72 sec\n",
      "EvaluatorHoldout: Ignoring 173 ( 0.5%) Users that have less than 1 test interactions\n",
      "EvaluatorHoldout: Processed 35563 (100.0%) in 44.44 sec. Users per second: 800\n",
      "Similarity column 38121 (100.0%), 2633.39 column/sec. Elapsed time 14.48 sec\n",
      "EvaluatorHoldout: Ignoring 163 ( 0.5%) Users that have less than 1 test interactions\n",
      "EvaluatorHoldout: Processed 35573 (100.0%) in 41.50 sec. Users per second: 857\n",
      "Similarity column 38121 (100.0%), 2667.04 column/sec. Elapsed time 14.29 sec\n",
      "EvaluatorHoldout: Ignoring 150 ( 0.4%) Users that have less than 1 test interactions\n",
      "EvaluatorHoldout: Processed 35586 (100.0%) in 41.28 sec. Users per second: 862\n",
      "Similarity column 38121 (100.0%), 2669.19 column/sec. Elapsed time 14.28 sec\n",
      "EvaluatorHoldout: Ignoring 167 ( 0.5%) Users that have less than 1 test interactions\n",
      "EvaluatorHoldout: Processed 35569 (100.0%) in 41.07 sec. Users per second: 866\n",
      "Similarity column 38121 (100.0%), 2686.30 column/sec. Elapsed time 14.19 sec\n",
      "EvaluatorHoldout: Ignoring 172 ( 0.5%) Users that have less than 1 test interactions\n",
      "EvaluatorHoldout: Processed 35564 (100.0%) in 40.97 sec. Users per second: 868\n"
     ]
    },
    {
     "name": "stderr",
     "output_type": "stream",
     "text": [
      "[I 2025-01-06 15:05:33,576] Trial 567 finished with value: 0.21296608480257068 and parameters: {'similarity': 'tversky', 'topK': 46, 'shrink': 454, 'feature_weighting': 'TF-IDF', 'tversky_alpha': 0.23104386521977505, 'tversky_beta': 0.332748682051623}. Best is trial 411 with value: 0.26030932919014205.\n"
     ]
    },
    {
     "name": "stdout",
     "output_type": "stream",
     "text": [
      "Similarity column 38121 (100.0%), 2975.75 column/sec. Elapsed time 12.81 sec\n",
      "EvaluatorHoldout: Ignoring 173 ( 0.5%) Users that have less than 1 test interactions\n",
      "EvaluatorHoldout: Processed 35563 (100.0%) in 36.31 sec. Users per second: 979\n",
      "Similarity column 38121 (100.0%), 2964.41 column/sec. Elapsed time 12.86 sec\n",
      "EvaluatorHoldout: Ignoring 163 ( 0.5%) Users that have less than 1 test interactions\n",
      "EvaluatorHoldout: Processed 35573 (100.0%) in 36.46 sec. Users per second: 976\n",
      "Similarity column 38121 (100.0%), 2983.50 column/sec. Elapsed time 12.78 sec\n",
      "EvaluatorHoldout: Ignoring 150 ( 0.4%) Users that have less than 1 test interactions\n",
      "EvaluatorHoldout: Processed 35586 (100.0%) in 36.59 sec. Users per second: 973\n",
      "Similarity column 38121 (100.0%), 2957.77 column/sec. Elapsed time 12.89 sec\n",
      "EvaluatorHoldout: Ignoring 167 ( 0.5%) Users that have less than 1 test interactions\n",
      "EvaluatorHoldout: Processed 35569 (100.0%) in 36.47 sec. Users per second: 975\n",
      "Similarity column 38121 (100.0%), 2909.84 column/sec. Elapsed time 13.10 sec\n",
      "EvaluatorHoldout: Ignoring 172 ( 0.5%) Users that have less than 1 test interactions\n",
      "EvaluatorHoldout: Processed 35564 (100.0%) in 36.90 sec. Users per second: 964\n"
     ]
    },
    {
     "name": "stderr",
     "output_type": "stream",
     "text": [
      "[I 2025-01-06 15:09:42,709] Trial 568 finished with value: 0.23336665633630677 and parameters: {'similarity': 'jaccard', 'topK': 12, 'shrink': 371, 'feature_weighting': 'none'}. Best is trial 411 with value: 0.26030932919014205.\n"
     ]
    },
    {
     "name": "stdout",
     "output_type": "stream",
     "text": [
      "Similarity column 38121 (100.0%), 2889.76 column/sec. Elapsed time 13.19 sec\n",
      "EvaluatorHoldout: Ignoring 173 ( 0.5%) Users that have less than 1 test interactions\n",
      "EvaluatorHoldout: Processed 35563 (100.0%) in 37.42 sec. Users per second: 950\n",
      "Similarity column 38121 (100.0%), 2890.60 column/sec. Elapsed time 13.19 sec\n",
      "EvaluatorHoldout: Ignoring 163 ( 0.5%) Users that have less than 1 test interactions\n",
      "EvaluatorHoldout: Processed 35573 (100.0%) in 37.59 sec. Users per second: 946\n",
      "Similarity column 38121 (100.0%), 2906.12 column/sec. Elapsed time 13.12 sec\n",
      "EvaluatorHoldout: Ignoring 150 ( 0.4%) Users that have less than 1 test interactions\n",
      "EvaluatorHoldout: Processed 35586 (100.0%) in 38.23 sec. Users per second: 931\n",
      "Similarity column 38121 (100.0%), 2820.44 column/sec. Elapsed time 13.52 sec\n",
      "EvaluatorHoldout: Ignoring 167 ( 0.5%) Users that have less than 1 test interactions\n",
      "EvaluatorHoldout: Processed 35569 (100.0%) in 38.13 sec. Users per second: 933\n",
      "Similarity column 38121 (100.0%), 2787.25 column/sec. Elapsed time 13.68 sec\n",
      "EvaluatorHoldout: Ignoring 172 ( 0.5%) Users that have less than 1 test interactions\n",
      "EvaluatorHoldout: Processed 35564 (100.0%) in 39.37 sec. Users per second: 903\n"
     ]
    },
    {
     "name": "stderr",
     "output_type": "stream",
     "text": [
      "[I 2025-01-06 15:14:01,829] Trial 569 finished with value: 0.2602296162226865 and parameters: {'similarity': 'cosine', 'topK': 28, 'shrink': 395, 'feature_weighting': 'TF-IDF'}. Best is trial 411 with value: 0.26030932919014205.\n"
     ]
    },
    {
     "name": "stdout",
     "output_type": "stream",
     "text": [
      "Similarity column 38121 (100.0%), 2805.76 column/sec. Elapsed time 13.59 sec\n",
      "EvaluatorHoldout: Ignoring 173 ( 0.5%) Users that have less than 1 test interactions\n",
      "EvaluatorHoldout: Processed 35563 (100.0%) in 38.87 sec. Users per second: 915\n",
      "Similarity column 38121 (100.0%), 2815.11 column/sec. Elapsed time 13.54 sec\n",
      "EvaluatorHoldout: Ignoring 163 ( 0.5%) Users that have less than 1 test interactions\n",
      "EvaluatorHoldout: Processed 35573 (100.0%) in 38.40 sec. Users per second: 926\n",
      "Similarity column 38121 (100.0%), 2787.47 column/sec. Elapsed time 13.68 sec\n",
      "EvaluatorHoldout: Ignoring 150 ( 0.4%) Users that have less than 1 test interactions\n",
      "EvaluatorHoldout: Processed 35586 (100.0%) in 38.28 sec. Users per second: 930\n",
      "Similarity column 38121 (100.0%), 2795.75 column/sec. Elapsed time 13.64 sec\n",
      "EvaluatorHoldout: Ignoring 167 ( 0.5%) Users that have less than 1 test interactions\n",
      "EvaluatorHoldout: Processed 35569 (100.0%) in 38.84 sec. Users per second: 916\n",
      "Similarity column 38121 (100.0%), 2806.70 column/sec. Elapsed time 13.58 sec\n",
      "EvaluatorHoldout: Ignoring 172 ( 0.5%) Users that have less than 1 test interactions\n",
      "EvaluatorHoldout: Processed 35564 (100.0%) in 38.32 sec. Users per second: 928\n"
     ]
    },
    {
     "name": "stderr",
     "output_type": "stream",
     "text": [
      "[I 2025-01-06 15:18:24,558] Trial 570 finished with value: 0.2659280370505061 and parameters: {'similarity': 'asymmetric', 'topK': 63, 'shrink': 419, 'feature_weighting': 'TF-IDF', 'asymmetric_alpha': 0.2133128893847478}. Best is trial 570 with value: 0.2659280370505061.\n"
     ]
    },
    {
     "name": "stdout",
     "output_type": "stream",
     "text": [
      "Similarity column 38121 (100.0%), 2824.65 column/sec. Elapsed time 13.50 sec\n",
      "EvaluatorHoldout: Ignoring 173 ( 0.5%) Users that have less than 1 test interactions\n",
      "EvaluatorHoldout: Processed 35563 (100.0%) in 39.30 sec. Users per second: 905\n",
      "Similarity column 38121 (100.0%), 2826.77 column/sec. Elapsed time 13.49 sec\n",
      "EvaluatorHoldout: Ignoring 163 ( 0.5%) Users that have less than 1 test interactions\n",
      "EvaluatorHoldout: Processed 35573 (100.0%) in 39.86 sec. Users per second: 892\n",
      "Similarity column 38121 (100.0%), 2831.05 column/sec. Elapsed time 13.47 sec\n",
      "EvaluatorHoldout: Ignoring 150 ( 0.4%) Users that have less than 1 test interactions\n",
      "EvaluatorHoldout: Processed 35586 (100.0%) in 39.14 sec. Users per second: 909\n",
      "Similarity column 38121 (100.0%), 2828.06 column/sec. Elapsed time 13.48 sec\n",
      "EvaluatorHoldout: Ignoring 167 ( 0.5%) Users that have less than 1 test interactions\n",
      "EvaluatorHoldout: Processed 35569 (100.0%) in 39.13 sec. Users per second: 909\n",
      "Similarity column 38121 (100.0%), 2830.45 column/sec. Elapsed time 13.47 sec\n",
      "EvaluatorHoldout: Ignoring 172 ( 0.5%) Users that have less than 1 test interactions\n",
      "EvaluatorHoldout: Processed 35564 (100.0%) in 38.99 sec. Users per second: 912\n"
     ]
    },
    {
     "name": "stderr",
     "output_type": "stream",
     "text": [
      "[I 2025-01-06 15:22:50,381] Trial 571 finished with value: 0.2644702232226721 and parameters: {'similarity': 'asymmetric', 'topK': 80, 'shrink': 446, 'feature_weighting': 'TF-IDF', 'asymmetric_alpha': 0.2655518361993048}. Best is trial 570 with value: 0.2659280370505061.\n"
     ]
    },
    {
     "name": "stdout",
     "output_type": "stream",
     "text": [
      "Similarity column 38121 (100.0%), 2817.32 column/sec. Elapsed time 13.53 sec\n",
      "EvaluatorHoldout: Ignoring 173 ( 0.5%) Users that have less than 1 test interactions\n",
      "EvaluatorHoldout: Processed 35563 (100.0%) in 41.16 sec. Users per second: 864\n",
      "Similarity column 38121 (100.0%), 2825.13 column/sec. Elapsed time 13.49 sec\n",
      "EvaluatorHoldout: Ignoring 163 ( 0.5%) Users that have less than 1 test interactions\n",
      "EvaluatorHoldout: Processed 35573 (100.0%) in 40.57 sec. Users per second: 877\n",
      "Similarity column 38121 (100.0%), 2795.55 column/sec. Elapsed time 13.64 sec\n",
      "EvaluatorHoldout: Ignoring 150 ( 0.4%) Users that have less than 1 test interactions\n",
      "EvaluatorHoldout: Processed 35586 (100.0%) in 40.44 sec. Users per second: 880\n",
      "Similarity column 38121 (100.0%), 2847.55 column/sec. Elapsed time 13.39 sec\n",
      "EvaluatorHoldout: Ignoring 167 ( 0.5%) Users that have less than 1 test interactions\n",
      "EvaluatorHoldout: Processed 35569 (100.0%) in 40.56 sec. Users per second: 877\n",
      "Similarity column 38121 (100.0%), 2845.31 column/sec. Elapsed time 13.40 sec\n",
      "EvaluatorHoldout: Ignoring 172 ( 0.5%) Users that have less than 1 test interactions\n",
      "EvaluatorHoldout: Processed 35564 (100.0%) in 40.47 sec. Users per second: 879\n"
     ]
    },
    {
     "name": "stderr",
     "output_type": "stream",
     "text": [
      "[I 2025-01-06 15:27:23,267] Trial 572 finished with value: 0.23213197117970022 and parameters: {'similarity': 'asymmetric', 'topK': 105, 'shrink': 429, 'feature_weighting': 'BM25', 'asymmetric_alpha': 0.2921108166252051}. Best is trial 570 with value: 0.2659280370505061.\n"
     ]
    },
    {
     "name": "stdout",
     "output_type": "stream",
     "text": [
      "Similarity column 38121 (100.0%), 2825.90 column/sec. Elapsed time 13.49 sec\n",
      "EvaluatorHoldout: Ignoring 173 ( 0.5%) Users that have less than 1 test interactions\n",
      "EvaluatorHoldout: Processed 35563 (100.0%) in 39.35 sec. Users per second: 904\n",
      "Similarity column 38121 (100.0%), 2797.46 column/sec. Elapsed time 13.63 sec\n",
      "EvaluatorHoldout: Ignoring 163 ( 0.5%) Users that have less than 1 test interactions\n",
      "EvaluatorHoldout: Processed 35573 (100.0%) in 39.41 sec. Users per second: 903\n",
      "Similarity column 38121 (100.0%), 2777.37 column/sec. Elapsed time 13.73 sec\n",
      "EvaluatorHoldout: Ignoring 150 ( 0.4%) Users that have less than 1 test interactions\n",
      "EvaluatorHoldout: Processed 35586 (100.0%) in 39.73 sec. Users per second: 896\n",
      "Similarity column 38121 (100.0%), 2809.05 column/sec. Elapsed time 13.57 sec\n",
      "EvaluatorHoldout: Ignoring 167 ( 0.5%) Users that have less than 1 test interactions\n",
      "EvaluatorHoldout: Processed 35569 (100.0%) in 40.14 sec. Users per second: 886\n",
      "Similarity column 38121 (100.0%), 2730.34 column/sec. Elapsed time 13.96 sec\n",
      "EvaluatorHoldout: Ignoring 172 ( 0.5%) Users that have less than 1 test interactions\n",
      "EvaluatorHoldout: Processed 35564 (100.0%) in 39.71 sec. Users per second: 896\n"
     ]
    },
    {
     "name": "stderr",
     "output_type": "stream",
     "text": [
      "[I 2025-01-06 15:31:52,047] Trial 573 finished with value: 0.26407752081532976 and parameters: {'similarity': 'asymmetric', 'topK': 85, 'shrink': 441, 'feature_weighting': 'TF-IDF', 'asymmetric_alpha': 0.2664043319650428}. Best is trial 570 with value: 0.2659280370505061.\n"
     ]
    },
    {
     "name": "stdout",
     "output_type": "stream",
     "text": [
      "Similarity column 38121 (100.0%), 2812.29 column/sec. Elapsed time 13.56 sec\n",
      "EvaluatorHoldout: Ignoring 173 ( 0.5%) Users that have less than 1 test interactions\n",
      "EvaluatorHoldout: Processed 35563 (100.0%) in 40.08 sec. Users per second: 887\n",
      "Similarity column 38121 (100.0%), 2821.51 column/sec. Elapsed time 13.51 sec\n",
      "EvaluatorHoldout: Ignoring 163 ( 0.5%) Users that have less than 1 test interactions\n",
      "EvaluatorHoldout: Processed 35573 (100.0%) in 40.10 sec. Users per second: 887\n",
      "Similarity column 38121 (100.0%), 2783.81 column/sec. Elapsed time 13.69 sec\n",
      "EvaluatorHoldout: Ignoring 150 ( 0.4%) Users that have less than 1 test interactions\n",
      "EvaluatorHoldout: Processed 35586 (100.0%) in 40.06 sec. Users per second: 888\n",
      "Similarity column 38121 (100.0%), 2819.17 column/sec. Elapsed time 13.52 sec\n",
      "EvaluatorHoldout: Ignoring 167 ( 0.5%) Users that have less than 1 test interactions\n",
      "EvaluatorHoldout: Processed 35569 (100.0%) in 40.31 sec. Users per second: 882\n",
      "Similarity column 38121 (100.0%), 2824.79 column/sec. Elapsed time 13.50 sec\n",
      "EvaluatorHoldout: Ignoring 172 ( 0.5%) Users that have less than 1 test interactions\n",
      "EvaluatorHoldout: Processed 35564 (100.0%) in 40.14 sec. Users per second: 886\n"
     ]
    },
    {
     "name": "stderr",
     "output_type": "stream",
     "text": [
      "[I 2025-01-06 15:36:22,709] Trial 574 finished with value: 0.2634132038596865 and parameters: {'similarity': 'asymmetric', 'topK': 111, 'shrink': 452, 'feature_weighting': 'TF-IDF', 'asymmetric_alpha': 0.17650625014859733}. Best is trial 570 with value: 0.2659280370505061.\n"
     ]
    },
    {
     "name": "stdout",
     "output_type": "stream",
     "text": [
      "Similarity column 38121 (100.0%), 2835.93 column/sec. Elapsed time 13.44 sec\n",
      "EvaluatorHoldout: Ignoring 173 ( 0.5%) Users that have less than 1 test interactions\n",
      "EvaluatorHoldout: Processed 35563 (100.0%) in 39.84 sec. Users per second: 893\n",
      "Similarity column 38121 (100.0%), 2765.63 column/sec. Elapsed time 13.78 sec\n",
      "EvaluatorHoldout: Ignoring 163 ( 0.5%) Users that have less than 1 test interactions\n",
      "EvaluatorHoldout: Processed 35573 (100.0%) in 39.79 sec. Users per second: 894\n",
      "Similarity column 38121 (100.0%), 2833.95 column/sec. Elapsed time 13.45 sec\n",
      "EvaluatorHoldout: Ignoring 150 ( 0.4%) Users that have less than 1 test interactions\n",
      "EvaluatorHoldout: Processed 35586 (100.0%) in 39.88 sec. Users per second: 892\n",
      "Similarity column 38121 (100.0%), 2814.43 column/sec. Elapsed time 13.54 sec\n",
      "EvaluatorHoldout: Ignoring 167 ( 0.5%) Users that have less than 1 test interactions\n",
      "EvaluatorHoldout: Processed 35569 (100.0%) in 40.42 sec. Users per second: 880\n",
      "Similarity column 38121 (100.0%), 2785.34 column/sec. Elapsed time 13.69 sec\n",
      "EvaluatorHoldout: Ignoring 172 ( 0.5%) Users that have less than 1 test interactions\n",
      "EvaluatorHoldout: Processed 35564 (100.0%) in 39.89 sec. Users per second: 892\n"
     ]
    },
    {
     "name": "stderr",
     "output_type": "stream",
     "text": [
      "[I 2025-01-06 15:40:52,576] Trial 575 finished with value: 0.264089236370088 and parameters: {'similarity': 'asymmetric', 'topK': 95, 'shrink': 445, 'feature_weighting': 'TF-IDF', 'asymmetric_alpha': 0.21880633209346606}. Best is trial 570 with value: 0.2659280370505061.\n"
     ]
    },
    {
     "name": "stdout",
     "output_type": "stream",
     "text": [
      "Similarity column 38121 (100.0%), 2770.47 column/sec. Elapsed time 13.76 sec\n",
      "EvaluatorHoldout: Ignoring 173 ( 0.5%) Users that have less than 1 test interactions\n",
      "EvaluatorHoldout: Processed 35563 (100.0%) in 41.21 sec. Users per second: 863\n",
      "Similarity column 38121 (100.0%), 2793.51 column/sec. Elapsed time 13.65 sec\n",
      "EvaluatorHoldout: Ignoring 163 ( 0.5%) Users that have less than 1 test interactions\n",
      "EvaluatorHoldout: Processed 35573 (100.0%) in 41.08 sec. Users per second: 866\n",
      "Similarity column 38121 (100.0%), 2807.11 column/sec. Elapsed time 13.58 sec\n",
      "EvaluatorHoldout: Ignoring 150 ( 0.4%) Users that have less than 1 test interactions\n",
      "EvaluatorHoldout: Processed 35586 (100.0%) in 40.97 sec. Users per second: 869\n",
      "Similarity column 38121 (100.0%), 2762.30 column/sec. Elapsed time 13.80 sec\n",
      "EvaluatorHoldout: Ignoring 167 ( 0.5%) Users that have less than 1 test interactions\n",
      "EvaluatorHoldout: Processed 35569 (100.0%) in 41.08 sec. Users per second: 866\n",
      "Similarity column 38121 (100.0%), 2803.68 column/sec. Elapsed time 13.60 sec\n",
      "EvaluatorHoldout: Ignoring 172 ( 0.5%) Users that have less than 1 test interactions\n",
      "EvaluatorHoldout: Processed 35564 (100.0%) in 40.74 sec. Users per second: 873\n"
     ]
    },
    {
     "name": "stderr",
     "output_type": "stream",
     "text": [
      "[I 2025-01-06 15:45:28,383] Trial 576 finished with value: 0.26255799459631757 and parameters: {'similarity': 'asymmetric', 'topK': 124, 'shrink': 448, 'feature_weighting': 'TF-IDF', 'asymmetric_alpha': 0.207711152664648}. Best is trial 570 with value: 0.2659280370505061.\n"
     ]
    },
    {
     "name": "stdout",
     "output_type": "stream",
     "text": [
      "Similarity column 38121 (100.0%), 2815.96 column/sec. Elapsed time 13.54 sec\n",
      "EvaluatorHoldout: Ignoring 173 ( 0.5%) Users that have less than 1 test interactions\n",
      "EvaluatorHoldout: Processed 35563 (100.0%) in 40.11 sec. Users per second: 887\n",
      "Similarity column 38121 (100.0%), 2835.35 column/sec. Elapsed time 13.44 sec\n",
      "EvaluatorHoldout: Ignoring 163 ( 0.5%) Users that have less than 1 test interactions\n",
      "EvaluatorHoldout: Processed 35573 (100.0%) in 39.85 sec. Users per second: 893\n",
      "Similarity column 38121 (100.0%), 2785.88 column/sec. Elapsed time 13.68 sec\n",
      "EvaluatorHoldout: Ignoring 150 ( 0.4%) Users that have less than 1 test interactions\n",
      "EvaluatorHoldout: Processed 35586 (100.0%) in 40.20 sec. Users per second: 885\n",
      "Similarity column 38121 (100.0%), 2809.40 column/sec. Elapsed time 13.57 sec\n",
      "EvaluatorHoldout: Ignoring 167 ( 0.5%) Users that have less than 1 test interactions\n",
      "EvaluatorHoldout: Processed 35569 (100.0%) in 39.92 sec. Users per second: 891\n",
      "Similarity column 38121 (100.0%), 2825.52 column/sec. Elapsed time 13.49 sec\n",
      "EvaluatorHoldout: Ignoring 172 ( 0.5%) Users that have less than 1 test interactions\n",
      "EvaluatorHoldout: Processed 35564 (100.0%) in 40.31 sec. Users per second: 882\n"
     ]
    },
    {
     "name": "stderr",
     "output_type": "stream",
     "text": [
      "[I 2025-01-06 15:49:58,647] Trial 577 finished with value: 0.26336985393121254 and parameters: {'similarity': 'asymmetric', 'topK': 110, 'shrink': 451, 'feature_weighting': 'TF-IDF', 'asymmetric_alpha': 0.19332378804134098}. Best is trial 570 with value: 0.2659280370505061.\n"
     ]
    },
    {
     "name": "stdout",
     "output_type": "stream",
     "text": [
      "Similarity column 38121 (100.0%), 2764.96 column/sec. Elapsed time 13.79 sec\n",
      "EvaluatorHoldout: Ignoring 173 ( 0.5%) Users that have less than 1 test interactions\n",
      "EvaluatorHoldout: Processed 35563 (100.0%) in 40.69 sec. Users per second: 874\n",
      "Similarity column 38121 (100.0%), 2785.20 column/sec. Elapsed time 13.69 sec\n",
      "EvaluatorHoldout: Ignoring 163 ( 0.5%) Users that have less than 1 test interactions\n",
      "EvaluatorHoldout: Processed 35573 (100.0%) in 40.89 sec. Users per second: 870\n",
      "Similarity column 38121 (100.0%), 2802.28 column/sec. Elapsed time 13.60 sec\n",
      "EvaluatorHoldout: Ignoring 150 ( 0.4%) Users that have less than 1 test interactions\n",
      "EvaluatorHoldout: Processed 35586 (100.0%) in 40.56 sec. Users per second: 877\n",
      "Similarity column 38121 (100.0%), 2824.42 column/sec. Elapsed time 13.50 sec\n",
      "EvaluatorHoldout: Ignoring 167 ( 0.5%) Users that have less than 1 test interactions\n",
      "EvaluatorHoldout: Processed 35569 (100.0%) in 40.86 sec. Users per second: 871\n",
      "Similarity column 38121 (100.0%), 2764.55 column/sec. Elapsed time 13.79 sec\n",
      "EvaluatorHoldout: Ignoring 172 ( 0.5%) Users that have less than 1 test interactions\n",
      "EvaluatorHoldout: Processed 35564 (100.0%) in 41.22 sec. Users per second: 863\n"
     ]
    },
    {
     "name": "stderr",
     "output_type": "stream",
     "text": [
      "[I 2025-01-06 15:54:33,578] Trial 578 finished with value: 0.2627723231246271 and parameters: {'similarity': 'asymmetric', 'topK': 125, 'shrink': 444, 'feature_weighting': 'TF-IDF', 'asymmetric_alpha': 0.17303102848895202}. Best is trial 570 with value: 0.2659280370505061.\n"
     ]
    },
    {
     "name": "stdout",
     "output_type": "stream",
     "text": [
      "Similarity column 38121 (100.0%), 2763.57 column/sec. Elapsed time 13.79 sec\n",
      "EvaluatorHoldout: Ignoring 173 ( 0.5%) Users that have less than 1 test interactions\n",
      "EvaluatorHoldout: Processed 35563 (100.0%) in 41.69 sec. Users per second: 853\n",
      "Similarity column 38121 (100.0%), 2801.98 column/sec. Elapsed time 13.61 sec\n",
      "EvaluatorHoldout: Ignoring 163 ( 0.5%) Users that have less than 1 test interactions\n",
      "EvaluatorHoldout: Processed 35573 (100.0%) in 41.02 sec. Users per second: 867\n",
      "Similarity column 38121 (100.0%), 2809.40 column/sec. Elapsed time 13.57 sec\n",
      "EvaluatorHoldout: Ignoring 150 ( 0.4%) Users that have less than 1 test interactions\n",
      "EvaluatorHoldout: Processed 35586 (100.0%) in 40.61 sec. Users per second: 876\n",
      "Similarity column 38121 (100.0%), 2813.91 column/sec. Elapsed time 13.55 sec\n",
      "EvaluatorHoldout: Ignoring 167 ( 0.5%) Users that have less than 1 test interactions\n",
      "EvaluatorHoldout: Processed 35569 (100.0%) in 40.93 sec. Users per second: 869\n",
      "Similarity column 38121 (100.0%), 2773.31 column/sec. Elapsed time 13.75 sec\n",
      "EvaluatorHoldout: Ignoring 172 ( 0.5%) Users that have less than 1 test interactions\n",
      "EvaluatorHoldout: Processed 35564 (100.0%) in 41.32 sec. Users per second: 861\n"
     ]
    },
    {
     "name": "stderr",
     "output_type": "stream",
     "text": [
      "[I 2025-01-06 15:59:09,722] Trial 579 finished with value: 0.26257804739462165 and parameters: {'similarity': 'asymmetric', 'topK': 122, 'shrink': 448, 'feature_weighting': 'TF-IDF', 'asymmetric_alpha': 0.22099416407205133}. Best is trial 570 with value: 0.2659280370505061.\n"
     ]
    },
    {
     "name": "stdout",
     "output_type": "stream",
     "text": [
      "Similarity column 38121 (100.0%), 2784.19 column/sec. Elapsed time 13.69 sec\n",
      "EvaluatorHoldout: Ignoring 173 ( 0.5%) Users that have less than 1 test interactions\n",
      "EvaluatorHoldout: Processed 35563 (100.0%) in 41.33 sec. Users per second: 861\n",
      "Similarity column 38121 (100.0%), 2760.62 column/sec. Elapsed time 13.81 sec\n",
      "EvaluatorHoldout: Ignoring 163 ( 0.5%) Users that have less than 1 test interactions\n",
      "EvaluatorHoldout: Processed 35573 (100.0%) in 41.17 sec. Users per second: 864\n",
      "Similarity column 38121 (100.0%), 2763.80 column/sec. Elapsed time 13.79 sec\n",
      "EvaluatorHoldout: Ignoring 150 ( 0.4%) Users that have less than 1 test interactions\n",
      "EvaluatorHoldout: Processed 35586 (100.0%) in 40.81 sec. Users per second: 872\n",
      "Similarity column 38121 (100.0%), 2775.57 column/sec. Elapsed time 13.73 sec\n",
      "EvaluatorHoldout: Ignoring 167 ( 0.5%) Users that have less than 1 test interactions\n",
      "EvaluatorHoldout: Processed 35569 (100.0%) in 40.85 sec. Users per second: 871\n",
      "Similarity column 38121 (100.0%), 2762.59 column/sec. Elapsed time 13.80 sec\n",
      "EvaluatorHoldout: Ignoring 172 ( 0.5%) Users that have less than 1 test interactions\n",
      "EvaluatorHoldout: Processed 35564 (100.0%) in 41.24 sec. Users per second: 862\n"
     ]
    },
    {
     "name": "stderr",
     "output_type": "stream",
     "text": [
      "[I 2025-01-06 16:03:46,301] Trial 580 finished with value: 0.2630475553375634 and parameters: {'similarity': 'asymmetric', 'topK': 121, 'shrink': 443, 'feature_weighting': 'TF-IDF', 'asymmetric_alpha': 0.1595771876015757}. Best is trial 570 with value: 0.2659280370505061.\n"
     ]
    },
    {
     "name": "stdout",
     "output_type": "stream",
     "text": [
      "Similarity column 38121 (100.0%), 2780.20 column/sec. Elapsed time 13.71 sec\n",
      "EvaluatorHoldout: Ignoring 173 ( 0.5%) Users that have less than 1 test interactions\n",
      "EvaluatorHoldout: Processed 35563 (100.0%) in 41.78 sec. Users per second: 851\n",
      "Similarity column 38121 (100.0%), 2749.90 column/sec. Elapsed time 13.86 sec\n",
      "EvaluatorHoldout: Ignoring 163 ( 0.5%) Users that have less than 1 test interactions\n",
      "EvaluatorHoldout: Processed 35573 (100.0%) in 41.41 sec. Users per second: 859\n",
      "Similarity column 38121 (100.0%), 2764.50 column/sec. Elapsed time 13.79 sec\n",
      "EvaluatorHoldout: Ignoring 150 ( 0.4%) Users that have less than 1 test interactions\n",
      "EvaluatorHoldout: Processed 35586 (100.0%) in 41.00 sec. Users per second: 868\n",
      "Similarity column 38121 (100.0%), 2800.92 column/sec. Elapsed time 13.61 sec\n",
      "EvaluatorHoldout: Ignoring 167 ( 0.5%) Users that have less than 1 test interactions\n",
      "EvaluatorHoldout: Processed 35569 (100.0%) in 41.39 sec. Users per second: 859\n",
      "Similarity column 38121 (100.0%), 2782.38 column/sec. Elapsed time 13.70 sec\n",
      "EvaluatorHoldout: Ignoring 172 ( 0.5%) Users that have less than 1 test interactions\n",
      "EvaluatorHoldout: Processed 35564 (100.0%) in 41.45 sec. Users per second: 858\n"
     ]
    },
    {
     "name": "stderr",
     "output_type": "stream",
     "text": [
      "[I 2025-01-06 16:08:24,463] Trial 581 finished with value: 0.26248546759835406 and parameters: {'similarity': 'asymmetric', 'topK': 127, 'shrink': 448, 'feature_weighting': 'TF-IDF', 'asymmetric_alpha': 0.19431958473663044}. Best is trial 570 with value: 0.2659280370505061.\n"
     ]
    },
    {
     "name": "stdout",
     "output_type": "stream",
     "text": [
      "Similarity column 38121 (100.0%), 2808.14 column/sec. Elapsed time 13.58 sec\n",
      "EvaluatorHoldout: Ignoring 173 ( 0.5%) Users that have less than 1 test interactions\n",
      "EvaluatorHoldout: Processed 35563 (100.0%) in 41.47 sec. Users per second: 858\n",
      "Similarity column 38121 (100.0%), 2778.85 column/sec. Elapsed time 13.72 sec\n",
      "EvaluatorHoldout: Ignoring 163 ( 0.5%) Users that have less than 1 test interactions\n",
      "EvaluatorHoldout: Processed 35573 (100.0%) in 40.72 sec. Users per second: 874\n",
      "Similarity column 38121 (100.0%), 2806.08 column/sec. Elapsed time 13.59 sec\n",
      "EvaluatorHoldout: Ignoring 150 ( 0.4%) Users that have less than 1 test interactions\n",
      "EvaluatorHoldout: Processed 35586 (100.0%) in 40.66 sec. Users per second: 875\n",
      "Similarity column 38121 (100.0%), 2721.04 column/sec. Elapsed time 14.01 sec\n",
      "EvaluatorHoldout: Ignoring 167 ( 0.5%) Users that have less than 1 test interactions\n",
      "EvaluatorHoldout: Processed 35569 (100.0%) in 41.11 sec. Users per second: 865\n",
      "Similarity column 38121 (100.0%), 2798.09 column/sec. Elapsed time 13.62 sec\n",
      "EvaluatorHoldout: Ignoring 172 ( 0.5%) Users that have less than 1 test interactions\n",
      "EvaluatorHoldout: Processed 35564 (100.0%) in 40.64 sec. Users per second: 875\n"
     ]
    },
    {
     "name": "stderr",
     "output_type": "stream",
     "text": [
      "[I 2025-01-06 16:12:59,910] Trial 582 finished with value: 0.26279758436900497 and parameters: {'similarity': 'asymmetric', 'topK': 121, 'shrink': 456, 'feature_weighting': 'TF-IDF', 'asymmetric_alpha': 0.19631780440693664}. Best is trial 570 with value: 0.2659280370505061.\n"
     ]
    },
    {
     "name": "stdout",
     "output_type": "stream",
     "text": [
      "Similarity column 38121 (100.0%), 2802.52 column/sec. Elapsed time 13.60 sec\n",
      "EvaluatorHoldout: Ignoring 173 ( 0.5%) Users that have less than 1 test interactions\n",
      "EvaluatorHoldout: Processed 35563 (100.0%) in 40.64 sec. Users per second: 875\n",
      "Similarity column 38121 (100.0%), 2785.76 column/sec. Elapsed time 13.68 sec\n",
      "EvaluatorHoldout: Ignoring 163 ( 0.5%) Users that have less than 1 test interactions\n",
      "EvaluatorHoldout: Processed 35573 (100.0%) in 40.74 sec. Users per second: 873\n",
      "Similarity column 38121 (100.0%), 2809.03 column/sec. Elapsed time 13.57 sec\n",
      "EvaluatorHoldout: Ignoring 150 ( 0.4%) Users that have less than 1 test interactions\n",
      "EvaluatorHoldout: Processed 35586 (100.0%) in 41.06 sec. Users per second: 867\n",
      "Similarity column 38121 (100.0%), 2773.70 column/sec. Elapsed time 13.74 sec\n",
      "EvaluatorHoldout: Ignoring 167 ( 0.5%) Users that have less than 1 test interactions\n",
      "EvaluatorHoldout: Processed 35569 (100.0%) in 40.95 sec. Users per second: 868\n",
      "Similarity column 38121 (100.0%), 2799.70 column/sec. Elapsed time 13.62 sec\n",
      "EvaluatorHoldout: Ignoring 172 ( 0.5%) Users that have less than 1 test interactions\n",
      "EvaluatorHoldout: Processed 35564 (100.0%) in 40.55 sec. Users per second: 877\n"
     ]
    },
    {
     "name": "stderr",
     "output_type": "stream",
     "text": [
      "[I 2025-01-06 16:17:34,406] Trial 583 finished with value: 0.2626973560979489 and parameters: {'similarity': 'asymmetric', 'topK': 123, 'shrink': 456, 'feature_weighting': 'TF-IDF', 'asymmetric_alpha': 0.19304113459033465}. Best is trial 570 with value: 0.2659280370505061.\n"
     ]
    },
    {
     "name": "stdout",
     "output_type": "stream",
     "text": [
      "Similarity column 38121 (100.0%), 2818.21 column/sec. Elapsed time 13.53 sec\n",
      "EvaluatorHoldout: Ignoring 173 ( 0.5%) Users that have less than 1 test interactions\n",
      "EvaluatorHoldout: Processed 35563 (100.0%) in 40.45 sec. Users per second: 879\n",
      "Similarity column 38121 (100.0%), 2830.32 column/sec. Elapsed time 13.47 sec\n",
      "EvaluatorHoldout: Ignoring 163 ( 0.5%) Users that have less than 1 test interactions\n",
      "EvaluatorHoldout: Processed 35573 (100.0%) in 40.40 sec. Users per second: 880\n",
      "Similarity column 38121 (100.0%), 2805.67 column/sec. Elapsed time 13.59 sec\n",
      "EvaluatorHoldout: Ignoring 150 ( 0.4%) Users that have less than 1 test interactions\n",
      "EvaluatorHoldout: Processed 35586 (100.0%) in 40.45 sec. Users per second: 880\n",
      "Similarity column 38121 (100.0%), 2808.83 column/sec. Elapsed time 13.57 sec\n",
      "EvaluatorHoldout: Ignoring 167 ( 0.5%) Users that have less than 1 test interactions\n",
      "EvaluatorHoldout: Processed 35569 (100.0%) in 40.38 sec. Users per second: 881\n",
      "Similarity column 38121 (100.0%), 2825.96 column/sec. Elapsed time 13.49 sec\n",
      "EvaluatorHoldout: Ignoring 172 ( 0.5%) Users that have less than 1 test interactions\n",
      "EvaluatorHoldout: Processed 35564 (100.0%) in 40.79 sec. Users per second: 872\n"
     ]
    },
    {
     "name": "stderr",
     "output_type": "stream",
     "text": [
      "[I 2025-01-06 16:22:06,767] Trial 584 finished with value: 0.26284614233050657 and parameters: {'similarity': 'asymmetric', 'topK': 121, 'shrink': 464, 'feature_weighting': 'TF-IDF', 'asymmetric_alpha': 0.19163244362232482}. Best is trial 570 with value: 0.2659280370505061.\n"
     ]
    },
    {
     "name": "stdout",
     "output_type": "stream",
     "text": [
      "Similarity column 38121 (100.0%), 2815.57 column/sec. Elapsed time 13.54 sec\n",
      "EvaluatorHoldout: Ignoring 173 ( 0.5%) Users that have less than 1 test interactions\n",
      "EvaluatorHoldout: Processed 35563 (100.0%) in 40.45 sec. Users per second: 879\n",
      "Similarity column 38121 (100.0%), 2779.81 column/sec. Elapsed time 13.71 sec\n",
      "EvaluatorHoldout: Ignoring 163 ( 0.5%) Users that have less than 1 test interactions\n",
      "EvaluatorHoldout: Processed 35573 (100.0%) in 41.38 sec. Users per second: 860\n",
      "Similarity column 38121 (100.0%), 2734.85 column/sec. Elapsed time 13.94 sec\n",
      "EvaluatorHoldout: Ignoring 150 ( 0.4%) Users that have less than 1 test interactions\n",
      "EvaluatorHoldout: Processed 35586 (100.0%) in 40.65 sec. Users per second: 875\n",
      "Similarity column 38121 (100.0%), 2808.44 column/sec. Elapsed time 13.57 sec\n",
      "EvaluatorHoldout: Ignoring 167 ( 0.5%) Users that have less than 1 test interactions\n",
      "EvaluatorHoldout: Processed 35569 (100.0%) in 40.71 sec. Users per second: 874\n",
      "Similarity column 38121 (100.0%), 2812.33 column/sec. Elapsed time 13.55 sec\n",
      "EvaluatorHoldout: Ignoring 172 ( 0.5%) Users that have less than 1 test interactions\n",
      "EvaluatorHoldout: Processed 35564 (100.0%) in 40.47 sec. Users per second: 879\n"
     ]
    },
    {
     "name": "stderr",
     "output_type": "stream",
     "text": [
      "[I 2025-01-06 16:26:41,077] Trial 585 finished with value: 0.26276785447195183 and parameters: {'similarity': 'asymmetric', 'topK': 121, 'shrink': 461, 'feature_weighting': 'TF-IDF', 'asymmetric_alpha': 0.19963541424718861}. Best is trial 570 with value: 0.2659280370505061.\n"
     ]
    },
    {
     "name": "stdout",
     "output_type": "stream",
     "text": [
      "Similarity column 38121 (100.0%), 2796.90 column/sec. Elapsed time 13.63 sec\n",
      "EvaluatorHoldout: Ignoring 173 ( 0.5%) Users that have less than 1 test interactions\n",
      "EvaluatorHoldout: Processed 35563 (100.0%) in 40.92 sec. Users per second: 869\n",
      "Similarity column 38121 (100.0%), 2760.00 column/sec. Elapsed time 13.81 sec\n",
      "EvaluatorHoldout: Ignoring 163 ( 0.5%) Users that have less than 1 test interactions\n",
      "EvaluatorHoldout: Processed 35573 (100.0%) in 40.91 sec. Users per second: 869\n",
      "Similarity column 38121 (100.0%), 2795.42 column/sec. Elapsed time 13.64 sec\n",
      "EvaluatorHoldout: Ignoring 150 ( 0.4%) Users that have less than 1 test interactions\n",
      "EvaluatorHoldout: Processed 35586 (100.0%) in 41.17 sec. Users per second: 864\n",
      "Similarity column 38121 (100.0%), 2800.76 column/sec. Elapsed time 13.61 sec\n",
      "EvaluatorHoldout: Ignoring 167 ( 0.5%) Users that have less than 1 test interactions\n",
      "EvaluatorHoldout: Processed 35569 (100.0%) in 40.83 sec. Users per second: 871\n",
      "Similarity column 38121 (100.0%), 2796.64 column/sec. Elapsed time 13.63 sec\n",
      "EvaluatorHoldout: Ignoring 172 ( 0.5%) Users that have less than 1 test interactions\n",
      "EvaluatorHoldout: Processed 35564 (100.0%) in 41.11 sec. Users per second: 865\n"
     ]
    },
    {
     "name": "stderr",
     "output_type": "stream",
     "text": [
      "[I 2025-01-06 16:31:16,659] Trial 586 finished with value: 0.26269515678039623 and parameters: {'similarity': 'asymmetric', 'topK': 124, 'shrink': 461, 'feature_weighting': 'TF-IDF', 'asymmetric_alpha': 0.18980790785367196}. Best is trial 570 with value: 0.2659280370505061.\n"
     ]
    },
    {
     "name": "stdout",
     "output_type": "stream",
     "text": [
      "Similarity column 38121 (100.0%), 2730.44 column/sec. Elapsed time 13.96 sec\n",
      "EvaluatorHoldout: Ignoring 173 ( 0.5%) Users that have less than 1 test interactions\n",
      "EvaluatorHoldout: Processed 35563 (100.0%) in 43.40 sec. Users per second: 819\n",
      "Similarity column 38121 (100.0%), 2708.23 column/sec. Elapsed time 14.08 sec\n",
      "EvaluatorHoldout: Ignoring 163 ( 0.5%) Users that have less than 1 test interactions\n",
      "EvaluatorHoldout: Processed 35573 (100.0%) in 42.79 sec. Users per second: 831\n",
      "Similarity column 38121 (100.0%), 2728.98 column/sec. Elapsed time 13.97 sec\n",
      "EvaluatorHoldout: Ignoring 150 ( 0.4%) Users that have less than 1 test interactions\n",
      "EvaluatorHoldout: Processed 35586 (100.0%) in 42.51 sec. Users per second: 837\n",
      "Similarity column 38121 (100.0%), 2762.58 column/sec. Elapsed time 13.80 sec\n",
      "EvaluatorHoldout: Ignoring 167 ( 0.5%) Users that have less than 1 test interactions\n",
      "EvaluatorHoldout: Processed 35569 (100.0%) in 41.33 sec. Users per second: 861\n",
      "Similarity column 38121 (100.0%), 2721.86 column/sec. Elapsed time 14.01 sec\n",
      "EvaluatorHoldout: Ignoring 172 ( 0.5%) Users that have less than 1 test interactions\n",
      "EvaluatorHoldout: Processed 35564 (100.0%) in 41.42 sec. Users per second: 859\n"
     ]
    },
    {
     "name": "stderr",
     "output_type": "stream",
     "text": [
      "[I 2025-01-06 16:36:00,365] Trial 587 finished with value: 0.2627237365342373 and parameters: {'similarity': 'asymmetric', 'topK': 122, 'shrink': 465, 'feature_weighting': 'TF-IDF', 'asymmetric_alpha': 0.19928969208522365}. Best is trial 570 with value: 0.2659280370505061.\n"
     ]
    },
    {
     "name": "stdout",
     "output_type": "stream",
     "text": [
      "Similarity column 38121 (100.0%), 2790.44 column/sec. Elapsed time 13.66 sec\n",
      "EvaluatorHoldout: Ignoring 173 ( 0.5%) Users that have less than 1 test interactions\n",
      "EvaluatorHoldout: Processed 35563 (100.0%) in 41.37 sec. Users per second: 860\n",
      "Similarity column 38121 (100.0%), 2686.56 column/sec. Elapsed time 14.19 sec\n",
      "EvaluatorHoldout: Ignoring 163 ( 0.5%) Users that have less than 1 test interactions\n",
      "EvaluatorHoldout: Processed 35573 (100.0%) in 41.74 sec. Users per second: 852\n",
      "Similarity column 38121 (100.0%), 2672.04 column/sec. Elapsed time 14.27 sec\n",
      "EvaluatorHoldout: Ignoring 150 ( 0.4%) Users that have less than 1 test interactions\n",
      "EvaluatorHoldout: Processed 35586 (100.0%) in 41.46 sec. Users per second: 858\n",
      "Similarity column 38121 (100.0%), 2752.04 column/sec. Elapsed time 13.85 sec\n",
      "EvaluatorHoldout: Ignoring 167 ( 0.5%) Users that have less than 1 test interactions\n",
      "EvaluatorHoldout: Processed 35569 (100.0%) in 41.38 sec. Users per second: 859\n",
      "Similarity column 38121 (100.0%), 2717.27 column/sec. Elapsed time 14.03 sec\n",
      "EvaluatorHoldout: Ignoring 172 ( 0.5%) Users that have less than 1 test interactions\n",
      "EvaluatorHoldout: Processed 35564 (100.0%) in 42.00 sec. Users per second: 847\n"
     ]
    },
    {
     "name": "stderr",
     "output_type": "stream",
     "text": [
      "[I 2025-01-06 16:40:40,699] Trial 588 finished with value: 0.2627172907433007 and parameters: {'similarity': 'asymmetric', 'topK': 123, 'shrink': 466, 'feature_weighting': 'TF-IDF', 'asymmetric_alpha': 0.18760080871036733}. Best is trial 570 with value: 0.2659280370505061.\n"
     ]
    },
    {
     "name": "stdout",
     "output_type": "stream",
     "text": [
      "Similarity column 38121 (100.0%), 2644.39 column/sec. Elapsed time 14.42 sec\n",
      "EvaluatorHoldout: Ignoring 173 ( 0.5%) Users that have less than 1 test interactions\n",
      "EvaluatorHoldout: Processed 35563 (100.0%) in 43.88 sec. Users per second: 811\n",
      "Similarity column 38121 (100.0%), 2709.74 column/sec. Elapsed time 14.07 sec\n",
      "EvaluatorHoldout: Ignoring 163 ( 0.5%) Users that have less than 1 test interactions\n",
      "EvaluatorHoldout: Processed 35573 (100.0%) in 41.39 sec. Users per second: 859\n",
      "Similarity column 38121 (100.0%), 2758.92 column/sec. Elapsed time 13.82 sec\n",
      "EvaluatorHoldout: Ignoring 150 ( 0.4%) Users that have less than 1 test interactions\n",
      "EvaluatorHoldout: Processed 35586 (100.0%) in 41.08 sec. Users per second: 866\n",
      "Similarity column 38121 (100.0%), 2763.39 column/sec. Elapsed time 13.80 sec\n",
      "EvaluatorHoldout: Ignoring 167 ( 0.5%) Users that have less than 1 test interactions\n",
      "EvaluatorHoldout: Processed 35569 (100.0%) in 40.74 sec. Users per second: 873\n",
      "Similarity column 38121 (100.0%), 2791.60 column/sec. Elapsed time 13.66 sec\n",
      "EvaluatorHoldout: Ignoring 172 ( 0.5%) Users that have less than 1 test interactions\n",
      "EvaluatorHoldout: Processed 35564 (100.0%) in 40.66 sec. Users per second: 875\n"
     ]
    },
    {
     "name": "stderr",
     "output_type": "stream",
     "text": [
      "[I 2025-01-06 16:45:20,657] Trial 589 finished with value: 0.2625337444255557 and parameters: {'similarity': 'asymmetric', 'topK': 127, 'shrink': 465, 'feature_weighting': 'TF-IDF', 'asymmetric_alpha': 0.19274370039113325}. Best is trial 570 with value: 0.2659280370505061.\n"
     ]
    },
    {
     "name": "stdout",
     "output_type": "stream",
     "text": [
      "Similarity column 38121 (100.0%), 2803.94 column/sec. Elapsed time 13.60 sec\n",
      "EvaluatorHoldout: Ignoring 173 ( 0.5%) Users that have less than 1 test interactions\n",
      "EvaluatorHoldout: Processed 35563 (100.0%) in 41.09 sec. Users per second: 866\n",
      "Similarity column 38121 (100.0%), 2794.66 column/sec. Elapsed time 13.64 sec\n",
      "EvaluatorHoldout: Ignoring 163 ( 0.5%) Users that have less than 1 test interactions\n",
      "EvaluatorHoldout: Processed 35573 (100.0%) in 40.81 sec. Users per second: 872\n",
      "Similarity column 38121 (100.0%), 2780.33 column/sec. Elapsed time 13.71 sec\n",
      "EvaluatorHoldout: Ignoring 150 ( 0.4%) Users that have less than 1 test interactions\n",
      "EvaluatorHoldout: Processed 35586 (100.0%) in 40.85 sec. Users per second: 871\n",
      "Similarity column 38121 (100.0%), 2772.68 column/sec. Elapsed time 13.75 sec\n",
      "EvaluatorHoldout: Ignoring 167 ( 0.5%) Users that have less than 1 test interactions\n",
      "EvaluatorHoldout: Processed 35569 (100.0%) in 40.70 sec. Users per second: 874\n",
      "Similarity column 38121 (100.0%), 2825.08 column/sec. Elapsed time 13.49 sec\n",
      "EvaluatorHoldout: Ignoring 172 ( 0.5%) Users that have less than 1 test interactions\n",
      "EvaluatorHoldout: Processed 35564 (100.0%) in 40.83 sec. Users per second: 871\n"
     ]
    },
    {
     "name": "stderr",
     "output_type": "stream",
     "text": [
      "[I 2025-01-06 16:49:55,486] Trial 590 finished with value: 0.26245179314675704 and parameters: {'similarity': 'asymmetric', 'topK': 129, 'shrink': 466, 'feature_weighting': 'TF-IDF', 'asymmetric_alpha': 0.19238480707241779}. Best is trial 570 with value: 0.2659280370505061.\n"
     ]
    },
    {
     "name": "stdout",
     "output_type": "stream",
     "text": [
      "Similarity column 38121 (100.0%), 2774.66 column/sec. Elapsed time 13.74 sec\n",
      "EvaluatorHoldout: Ignoring 173 ( 0.5%) Users that have less than 1 test interactions\n",
      "EvaluatorHoldout: Processed 35563 (100.0%) in 40.38 sec. Users per second: 881\n",
      "Similarity column 38121 (100.0%), 2793.39 column/sec. Elapsed time 13.65 sec\n",
      "EvaluatorHoldout: Ignoring 163 ( 0.5%) Users that have less than 1 test interactions\n",
      "EvaluatorHoldout: Processed 35573 (100.0%) in 40.65 sec. Users per second: 875\n",
      "Similarity column 38121 (100.0%), 2768.99 column/sec. Elapsed time 13.77 sec\n",
      "EvaluatorHoldout: Ignoring 150 ( 0.4%) Users that have less than 1 test interactions\n",
      "EvaluatorHoldout: Processed 35586 (100.0%) in 40.56 sec. Users per second: 877\n",
      "Similarity column 38121 (100.0%), 2809.71 column/sec. Elapsed time 13.57 sec\n",
      "EvaluatorHoldout: Ignoring 167 ( 0.5%) Users that have less than 1 test interactions\n",
      "EvaluatorHoldout: Processed 35569 (100.0%) in 42.29 sec. Users per second: 841\n",
      "Similarity column 38121 (100.0%), 2660.20 column/sec. Elapsed time 14.33 sec\n",
      "EvaluatorHoldout: Ignoring 172 ( 0.5%) Users that have less than 1 test interactions\n",
      "EvaluatorHoldout: Processed 35564 (100.0%) in 41.81 sec. Users per second: 851\n"
     ]
    },
    {
     "name": "stderr",
     "output_type": "stream",
     "text": [
      "[I 2025-01-06 16:54:32,523] Trial 591 finished with value: 0.26291899194897744 and parameters: {'similarity': 'asymmetric', 'topK': 119, 'shrink': 464, 'feature_weighting': 'TF-IDF', 'asymmetric_alpha': 0.1955126968242322}. Best is trial 570 with value: 0.2659280370505061.\n"
     ]
    },
    {
     "name": "stdout",
     "output_type": "stream",
     "text": [
      "Similarity column 38121 (100.0%), 2768.16 column/sec. Elapsed time 13.77 sec\n",
      "EvaluatorHoldout: Ignoring 173 ( 0.5%) Users that have less than 1 test interactions\n",
      "EvaluatorHoldout: Processed 35563 (100.0%) in 41.59 sec. Users per second: 855\n",
      "Similarity column 38121 (100.0%), 2749.87 column/sec. Elapsed time 13.86 sec\n",
      "EvaluatorHoldout: Ignoring 163 ( 0.5%) Users that have less than 1 test interactions\n",
      "EvaluatorHoldout: Processed 35573 (100.0%) in 41.28 sec. Users per second: 862\n",
      "Similarity column 38121 (100.0%), 2761.51 column/sec. Elapsed time 13.80 sec\n",
      "EvaluatorHoldout: Ignoring 150 ( 0.4%) Users that have less than 1 test interactions\n",
      "EvaluatorHoldout: Processed 35586 (100.0%) in 41.03 sec. Users per second: 867\n",
      "Similarity column 38121 (100.0%), 2810.81 column/sec. Elapsed time 13.56 sec\n",
      "EvaluatorHoldout: Ignoring 167 ( 0.5%) Users that have less than 1 test interactions\n",
      "EvaluatorHoldout: Processed 35569 (100.0%) in 40.93 sec. Users per second: 869\n",
      "Similarity column 38121 (100.0%), 2798.33 column/sec. Elapsed time 13.62 sec\n",
      "EvaluatorHoldout: Ignoring 172 ( 0.5%) Users that have less than 1 test interactions\n",
      "EvaluatorHoldout: Processed 35564 (100.0%) in 40.80 sec. Users per second: 872\n"
     ]
    },
    {
     "name": "stderr",
     "output_type": "stream",
     "text": [
      "[I 2025-01-06 16:59:09,144] Trial 592 finished with value: 0.2625354649768896 and parameters: {'similarity': 'asymmetric', 'topK': 125, 'shrink': 468, 'feature_weighting': 'TF-IDF', 'asymmetric_alpha': 0.1902973352370407}. Best is trial 570 with value: 0.2659280370505061.\n"
     ]
    },
    {
     "name": "stdout",
     "output_type": "stream",
     "text": [
      "Similarity column 38121 (100.0%), 2725.92 column/sec. Elapsed time 13.98 sec\n",
      "EvaluatorHoldout: Ignoring 173 ( 0.5%) Users that have less than 1 test interactions\n",
      "EvaluatorHoldout: Processed 35563 (100.0%) in 45.69 sec. Users per second: 778\n",
      "Similarity column 38121 (100.0%), 2720.42 column/sec. Elapsed time 14.01 sec\n",
      "EvaluatorHoldout: Ignoring 163 ( 0.5%) Users that have less than 1 test interactions\n",
      "EvaluatorHoldout: Processed 35573 (100.0%) in 45.74 sec. Users per second: 778\n",
      "Similarity column 38121 (100.0%), 2767.34 column/sec. Elapsed time 13.78 sec\n",
      "EvaluatorHoldout: Ignoring 150 ( 0.4%) Users that have less than 1 test interactions\n",
      "EvaluatorHoldout: Processed 35586 (100.0%) in 45.92 sec. Users per second: 775\n",
      "Similarity column 38121 (100.0%), 2766.97 column/sec. Elapsed time 13.78 sec\n",
      "EvaluatorHoldout: Ignoring 167 ( 0.5%) Users that have less than 1 test interactions\n",
      "EvaluatorHoldout: Processed 35569 (100.0%) in 45.52 sec. Users per second: 781\n",
      "Similarity column 38121 (100.0%), 2756.30 column/sec. Elapsed time 13.83 sec\n",
      "EvaluatorHoldout: Ignoring 172 ( 0.5%) Users that have less than 1 test interactions\n",
      "EvaluatorHoldout: Processed 35564 (100.0%) in 46.22 sec. Users per second: 769\n"
     ]
    },
    {
     "name": "stderr",
     "output_type": "stream",
     "text": [
      "[I 2025-01-06 17:04:09,479] Trial 593 finished with value: 0.21318859713604663 and parameters: {'similarity': 'asymmetric', 'topK': 125, 'shrink': 467, 'feature_weighting': 'none', 'asymmetric_alpha': 0.20002313146325268}. Best is trial 570 with value: 0.2659280370505061.\n"
     ]
    },
    {
     "name": "stdout",
     "output_type": "stream",
     "text": [
      "Similarity column 38121 (100.0%), 2785.07 column/sec. Elapsed time 13.69 sec\n",
      "EvaluatorHoldout: Ignoring 173 ( 0.5%) Users that have less than 1 test interactions\n",
      "EvaluatorHoldout: Processed 35563 (100.0%) in 41.77 sec. Users per second: 851\n",
      "Similarity column 38121 (100.0%), 2716.49 column/sec. Elapsed time 14.03 sec\n",
      "EvaluatorHoldout: Ignoring 163 ( 0.5%) Users that have less than 1 test interactions\n",
      "EvaluatorHoldout: Processed 35573 (100.0%) in 42.53 sec. Users per second: 836\n",
      "Similarity column 38121 (100.0%), 2728.10 column/sec. Elapsed time 13.97 sec\n",
      "EvaluatorHoldout: Ignoring 150 ( 0.4%) Users that have less than 1 test interactions\n",
      "EvaluatorHoldout: Processed 35586 (100.0%) in 42.00 sec. Users per second: 847\n",
      "Similarity column 38121 (100.0%), 2772.71 column/sec. Elapsed time 13.75 sec\n",
      "EvaluatorHoldout: Ignoring 167 ( 0.5%) Users that have less than 1 test interactions\n",
      "EvaluatorHoldout: Processed 35569 (100.0%) in 41.63 sec. Users per second: 854\n",
      "Similarity column 38121 (100.0%), 2804.87 column/sec. Elapsed time 13.59 sec\n",
      "EvaluatorHoldout: Ignoring 172 ( 0.5%) Users that have less than 1 test interactions\n",
      "EvaluatorHoldout: Processed 35564 (100.0%) in 41.51 sec. Users per second: 857\n"
     ]
    },
    {
     "name": "stderr",
     "output_type": "stream",
     "text": [
      "[I 2025-01-06 17:08:50,439] Trial 594 finished with value: 0.261363314721298 and parameters: {'similarity': 'asymmetric', 'topK': 149, 'shrink': 469, 'feature_weighting': 'TF-IDF', 'asymmetric_alpha': 0.19743524788292235}. Best is trial 570 with value: 0.2659280370505061.\n"
     ]
    },
    {
     "name": "stdout",
     "output_type": "stream",
     "text": [
      "Similarity column 38121 (100.0%), 2797.71 column/sec. Elapsed time 13.63 sec\n",
      "EvaluatorHoldout: Ignoring 173 ( 0.5%) Users that have less than 1 test interactions\n",
      "EvaluatorHoldout: Processed 35563 (100.0%) in 41.31 sec. Users per second: 861\n",
      "Similarity column 38121 (100.0%), 2763.05 column/sec. Elapsed time 13.80 sec\n",
      "EvaluatorHoldout: Ignoring 163 ( 0.5%) Users that have less than 1 test interactions\n",
      "EvaluatorHoldout: Processed 35573 (100.0%) in 41.33 sec. Users per second: 861\n",
      "Similarity column 38121 (100.0%), 2778.87 column/sec. Elapsed time 13.72 sec\n",
      "EvaluatorHoldout: Ignoring 150 ( 0.4%) Users that have less than 1 test interactions\n",
      "EvaluatorHoldout: Processed 35586 (100.0%) in 41.38 sec. Users per second: 860\n",
      "Similarity column 38121 (100.0%), 2798.56 column/sec. Elapsed time 13.62 sec\n",
      "EvaluatorHoldout: Ignoring 167 ( 0.5%) Users that have less than 1 test interactions\n",
      "EvaluatorHoldout: Processed 35569 (100.0%) in 41.35 sec. Users per second: 860\n",
      "Similarity column 38121 (100.0%), 2786.55 column/sec. Elapsed time 13.68 sec\n",
      "EvaluatorHoldout: Ignoring 172 ( 0.5%) Users that have less than 1 test interactions\n",
      "EvaluatorHoldout: Processed 35564 (100.0%) in 41.83 sec. Users per second: 850\n"
     ]
    },
    {
     "name": "stderr",
     "output_type": "stream",
     "text": [
      "[I 2025-01-06 17:13:28,524] Trial 595 finished with value: 0.26177769104624476 and parameters: {'similarity': 'asymmetric', 'topK': 141, 'shrink': 470, 'feature_weighting': 'TF-IDF', 'asymmetric_alpha': 0.18941685921905368}. Best is trial 570 with value: 0.2659280370505061.\n"
     ]
    },
    {
     "name": "stdout",
     "output_type": "stream",
     "text": [
      "Similarity column 38121 (100.0%), 2739.66 column/sec. Elapsed time 13.91 sec\n",
      "EvaluatorHoldout: Ignoring 173 ( 0.5%) Users that have less than 1 test interactions\n",
      "EvaluatorHoldout: Processed 35563 (100.0%) in 42.01 sec. Users per second: 847\n",
      "Similarity column 38121 (100.0%), 2774.22 column/sec. Elapsed time 13.74 sec\n",
      "EvaluatorHoldout: Ignoring 163 ( 0.5%) Users that have less than 1 test interactions\n",
      "EvaluatorHoldout: Processed 35573 (100.0%) in 42.11 sec. Users per second: 845\n",
      "Similarity column 38121 (100.0%), 2753.89 column/sec. Elapsed time 13.84 sec\n",
      "EvaluatorHoldout: Ignoring 150 ( 0.4%) Users that have less than 1 test interactions\n",
      "EvaluatorHoldout: Processed 35586 (100.0%) in 41.78 sec. Users per second: 852\n",
      "Similarity column 38121 (100.0%), 2787.48 column/sec. Elapsed time 13.68 sec\n",
      "EvaluatorHoldout: Ignoring 167 ( 0.5%) Users that have less than 1 test interactions\n",
      "EvaluatorHoldout: Processed 35569 (100.0%) in 41.59 sec. Users per second: 855\n",
      "Similarity column 38121 (100.0%), 2777.67 column/sec. Elapsed time 13.72 sec\n",
      "EvaluatorHoldout: Ignoring 172 ( 0.5%) Users that have less than 1 test interactions\n",
      "EvaluatorHoldout: Processed 35564 (100.0%) in 41.72 sec. Users per second: 852\n"
     ]
    },
    {
     "name": "stderr",
     "output_type": "stream",
     "text": [
      "[I 2025-01-06 17:18:09,153] Trial 596 finished with value: 0.2614340161318376 and parameters: {'similarity': 'asymmetric', 'topK': 148, 'shrink': 466, 'feature_weighting': 'TF-IDF', 'asymmetric_alpha': 0.1896524066087211}. Best is trial 570 with value: 0.2659280370505061.\n"
     ]
    },
    {
     "name": "stdout",
     "output_type": "stream",
     "text": [
      "Similarity column 38121 (100.0%), 2763.23 column/sec. Elapsed time 13.80 sec\n",
      "EvaluatorHoldout: Ignoring 173 ( 0.5%) Users that have less than 1 test interactions\n",
      "EvaluatorHoldout: Processed 35563 (100.0%) in 41.51 sec. Users per second: 857\n",
      "Similarity column 38121 (100.0%), 2769.53 column/sec. Elapsed time 13.76 sec\n",
      "EvaluatorHoldout: Ignoring 163 ( 0.5%) Users that have less than 1 test interactions\n",
      "EvaluatorHoldout: Processed 35573 (100.0%) in 42.14 sec. Users per second: 844\n",
      "Similarity column 38121 (100.0%), 2740.74 column/sec. Elapsed time 13.91 sec\n",
      "EvaluatorHoldout: Ignoring 150 ( 0.4%) Users that have less than 1 test interactions\n",
      "EvaluatorHoldout: Processed 35586 (100.0%) in 41.97 sec. Users per second: 848\n",
      "Similarity column 38121 (100.0%), 2764.89 column/sec. Elapsed time 13.79 sec\n",
      "EvaluatorHoldout: Ignoring 167 ( 0.5%) Users that have less than 1 test interactions\n",
      "EvaluatorHoldout: Processed 35569 (100.0%) in 41.80 sec. Users per second: 851\n",
      "Similarity column 38121 (100.0%), 2778.41 column/sec. Elapsed time 13.72 sec\n",
      "EvaluatorHoldout: Ignoring 172 ( 0.5%) Users that have less than 1 test interactions\n",
      "EvaluatorHoldout: Processed 35564 (100.0%) in 41.45 sec. Users per second: 858\n"
     ]
    },
    {
     "name": "stderr",
     "output_type": "stream",
     "text": [
      "[I 2025-01-06 17:22:49,653] Trial 597 finished with value: 0.2613585632652541 and parameters: {'similarity': 'asymmetric', 'topK': 149, 'shrink': 464, 'feature_weighting': 'TF-IDF', 'asymmetric_alpha': 0.19731428005429366}. Best is trial 570 with value: 0.2659280370505061.\n"
     ]
    },
    {
     "name": "stdout",
     "output_type": "stream",
     "text": [
      "Similarity column 38121 (100.0%), 2773.32 column/sec. Elapsed time 13.75 sec\n",
      "EvaluatorHoldout: Ignoring 173 ( 0.5%) Users that have less than 1 test interactions\n",
      "EvaluatorHoldout: Processed 35563 (100.0%) in 40.68 sec. Users per second: 874\n",
      "Similarity column 38121 (100.0%), 2779.84 column/sec. Elapsed time 13.71 sec\n",
      "EvaluatorHoldout: Ignoring 163 ( 0.5%) Users that have less than 1 test interactions\n",
      "EvaluatorHoldout: Processed 35573 (100.0%) in 40.78 sec. Users per second: 872\n",
      "Similarity column 38121 (100.0%), 2781.67 column/sec. Elapsed time 13.70 sec\n",
      "EvaluatorHoldout: Ignoring 150 ( 0.4%) Users that have less than 1 test interactions\n",
      "EvaluatorHoldout: Processed 35586 (100.0%) in 40.77 sec. Users per second: 873\n",
      "Similarity column 38121 (100.0%), 2778.60 column/sec. Elapsed time 13.72 sec\n",
      "EvaluatorHoldout: Ignoring 167 ( 0.5%) Users that have less than 1 test interactions\n",
      "EvaluatorHoldout: Processed 35569 (100.0%) in 41.40 sec. Users per second: 859\n",
      "Similarity column 38121 (100.0%), 2799.57 column/sec. Elapsed time 13.62 sec\n",
      "EvaluatorHoldout: Ignoring 172 ( 0.5%) Users that have less than 1 test interactions\n",
      "EvaluatorHoldout: Processed 35564 (100.0%) in 40.82 sec. Users per second: 871\n"
     ]
    },
    {
     "name": "stderr",
     "output_type": "stream",
     "text": [
      "[I 2025-01-06 17:27:24,915] Trial 598 finished with value: 0.262799275144951 and parameters: {'similarity': 'asymmetric', 'topK': 122, 'shrink': 473, 'feature_weighting': 'TF-IDF', 'asymmetric_alpha': 0.18410237715978248}. Best is trial 570 with value: 0.2659280370505061.\n"
     ]
    },
    {
     "name": "stdout",
     "output_type": "stream",
     "text": [
      "Similarity column 38121 (100.0%), 2795.43 column/sec. Elapsed time 13.64 sec\n",
      "EvaluatorHoldout: Ignoring 173 ( 0.5%) Users that have less than 1 test interactions\n",
      "EvaluatorHoldout: Processed 35563 (100.0%) in 40.37 sec. Users per second: 881\n",
      "Similarity column 38121 (100.0%), 2818.04 column/sec. Elapsed time 13.53 sec\n",
      "EvaluatorHoldout: Ignoring 163 ( 0.5%) Users that have less than 1 test interactions\n",
      "EvaluatorHoldout: Processed 35573 (100.0%) in 40.32 sec. Users per second: 882\n",
      "Similarity column 38121 (100.0%), 2800.73 column/sec. Elapsed time 13.61 sec\n",
      "EvaluatorHoldout: Ignoring 150 ( 0.4%) Users that have less than 1 test interactions\n",
      "EvaluatorHoldout: Processed 35586 (100.0%) in 40.43 sec. Users per second: 880\n",
      "Similarity column 38121 (100.0%), 2837.66 column/sec. Elapsed time 13.43 sec\n",
      "EvaluatorHoldout: Ignoring 167 ( 0.5%) Users that have less than 1 test interactions\n",
      "EvaluatorHoldout: Processed 35569 (100.0%) in 41.29 sec. Users per second: 861\n",
      "Similarity column 38121 (100.0%), 2740.63 column/sec. Elapsed time 13.91 sec\n",
      "EvaluatorHoldout: Ignoring 172 ( 0.5%) Users that have less than 1 test interactions\n",
      "EvaluatorHoldout: Processed 35564 (100.0%) in 41.09 sec. Users per second: 865\n"
     ]
    },
    {
     "name": "stderr",
     "output_type": "stream",
     "text": [
      "[I 2025-01-06 17:31:58,827] Trial 599 finished with value: 0.2629786352805573 and parameters: {'similarity': 'asymmetric', 'topK': 119, 'shrink': 467, 'feature_weighting': 'TF-IDF', 'asymmetric_alpha': 0.18722829502280436}. Best is trial 570 with value: 0.2659280370505061.\n"
     ]
    }
   ],
   "source": [
    "if config['tune_parameters']:\n",
    "    \n",
    "    optuna_study = optuna.create_study(direction='maximize', study_name=f'hyperparameters_tuning_{config[\"model\"]}_{config[\"metric\"]}',\n",
    "                                storage=f'sqlite:///{config[\"database_path\"]}', load_if_exists=True)\n",
    "\n",
    "    optuna_study.optimize(objective_function_ItemKNNCF, n_trials=100)"
   ]
  },
  {
   "cell_type": "markdown",
   "id": "60284426",
   "metadata": {
    "papermill": {
     "duration": 0.104241,
     "end_time": "2025-01-06T17:31:59.087463",
     "exception": false,
     "start_time": "2025-01-06T17:31:58.983222",
     "status": "completed"
    },
    "tags": []
   },
   "source": [
    "## Some optuna visualizations on recommender parameters"
   ]
  },
  {
   "cell_type": "code",
   "execution_count": 14,
   "id": "ff90cc1c",
   "metadata": {
    "execution": {
     "iopub.execute_input": "2025-01-06T17:31:59.296641Z",
     "iopub.status.busy": "2025-01-06T17:31:59.296116Z",
     "iopub.status.idle": "2025-01-06T17:32:02.418261Z",
     "shell.execute_reply": "2025-01-06T17:32:02.416934Z"
    },
    "papermill": {
     "duration": 3.227692,
     "end_time": "2025-01-06T17:32:02.420888",
     "exception": false,
     "start_time": "2025-01-06T17:31:59.193196",
     "status": "completed"
    },
    "tags": []
   },
   "outputs": [
    {
     "data": {
      "text/html": [
       "<html>\n",
       "<head><meta charset=\"utf-8\" /></head>\n",
       "<body>\n",
       "    <div>            <script src=\"https://cdnjs.cloudflare.com/ajax/libs/mathjax/2.7.5/MathJax.js?config=TeX-AMS-MML_SVG\"></script><script type=\"text/javascript\">if (window.MathJax && window.MathJax.Hub && window.MathJax.Hub.Config) {window.MathJax.Hub.Config({SVG: {font: \"STIX-Web\"}});}</script>                <script type=\"text/javascript\">window.PlotlyConfig = {MathJaxConfig: 'local'};</script>\n",
       "        <script charset=\"utf-8\" src=\"https://cdn.plot.ly/plotly-2.35.2.min.js\"></script>                <div id=\"5258035d-7fec-47b0-8c74-03bb0d7cef3b\" class=\"plotly-graph-div\" style=\"height:525px; width:3000px;\"></div>            <script type=\"text/javascript\">                                    window.PLOTLYENV=window.PLOTLYENV || {};                                    if (document.getElementById(\"5258035d-7fec-47b0-8c74-03bb0d7cef3b\")) {                    Plotly.newPlot(                        \"5258035d-7fec-47b0-8c74-03bb0d7cef3b\",                        [{\"marker\":{\"color\":[11,12,13,15,58,69,125,147,179,225,261,291,315,343,370,400,428,459,486,515,543,570,571,572,573,574,575,576,577,578,579,580,581,582,583,584,585,586,587,588,589,590,591,592,593,594,595,596,597,598,599],\"colorbar\":{\"title\":{\"text\":\"Trial\"},\"x\":1.0,\"xpad\":40},\"colorscale\":[[0.0,\"rgb(247,251,255)\"],[0.125,\"rgb(222,235,247)\"],[0.25,\"rgb(198,219,239)\"],[0.375,\"rgb(158,202,225)\"],[0.5,\"rgb(107,174,214)\"],[0.625,\"rgb(66,146,198)\"],[0.75,\"rgb(33,113,181)\"],[0.875,\"rgb(8,81,156)\"],[1.0,\"rgb(8,48,107)\"]],\"line\":{\"color\":\"Grey\",\"width\":0.5},\"showscale\":true},\"mode\":\"markers\",\"name\":\"Feasible Trial\",\"showlegend\":false,\"x\":[1.2490635108547936,1.3868304130249864,0.3701974185047463,0.1919926740021835,1.9440672726861656,0.7279585933348233,1.8146837907296933,0.7035169215085025,0.03743022873650981,1.4703278120207952,0.9190069335301394,0.4557390090161506,1.6630971112588246,1.093984249246522,1.5816052830191913,0.6278948142291736,0.9453549215342106,0.004296377956370501,1.9961747785101334,1.1681859489024797,0.5120195480877102,0.2133128893847478,0.2655518361993048,0.2921108166252051,0.2664043319650428,0.17650625014859733,0.21880633209346606,0.207711152664648,0.19332378804134098,0.17303102848895202,0.22099416407205133,0.1595771876015757,0.19431958473663044,0.19631780440693664,0.19304113459033465,0.19163244362232482,0.19963541424718861,0.18980790785367196,0.19928969208522365,0.18760080871036733,0.19274370039113325,0.19238480707241779,0.1955126968242322,0.1902973352370407,0.20002313146325268,0.19743524788292235,0.18941685921905368,0.1896524066087211,0.19731428005429366,0.18410237715978248,0.18722829502280436],\"y\":[0.2304573118495677,0.17144150147345222,0.2320857319855421,0.23171090388175025,0.054672355535981446,0.22608833450679114,0.124809511033937,0.24438533737019758,0.24964093523736391,0.12081679500471895,0.20937287642597688,0.24902297133649398,0.0055265346604531345,0.22890498543350976,0.12423199534280256,0.25161241253935335,0.2077995646213308,0.2580493632401571,0.1085759834687818,0.17164448707626226,0.25928495415193503,0.2659280370505061,0.2644702232226721,0.23213197117970022,0.26407752081532976,0.2634132038596865,0.264089236370088,0.26255799459631757,0.26336985393121254,0.2627723231246271,0.26257804739462165,0.2630475553375634,0.26248546759835406,0.26279758436900497,0.2626973560979489,0.26284614233050657,0.26276785447195183,0.26269515678039623,0.2627237365342373,0.2627172907433007,0.2625337444255557,0.26245179314675704,0.26291899194897744,0.2625354649768896,0.21318859713604663,0.261363314721298,0.26177769104624476,0.2614340161318376,0.2613585632652541,0.262799275144951,0.2629786352805573],\"type\":\"scatter\",\"xaxis\":\"x\",\"yaxis\":\"y\"},{\"marker\":{\"color\":[0,1,2,3,4,5,6,7,8,9,10,11,12,13,14,15,16,17,18,19,20,21,22,23,24,25,26,27,28,29,30,31,32,33,34,35,36,37,38,39,40,41,42,43,44,45,46,47,48,49,50,51,52,53,54,55,56,57,58,59,60,61,62,63,64,65,66,67,68,69,70,71,72,73,74,75,76,77,78,79,80,81,82,83,84,85,86,87,88,89,90,91,92,93,94,95,96,97,98,99,100,101,102,103,104,105,106,107,108,109,110,111,112,113,114,115,116,117,118,119,120,121,122,123,124,125,126,127,128,129,130,131,132,133,134,135,136,137,138,139,140,141,142,143,144,145,146,147,148,149,150,151,152,153,154,155,156,157,158,159,160,161,162,163,164,165,166,167,168,169,170,171,172,173,174,175,176,177,178,179,180,181,182,183,184,185,186,187,188,189,190,191,192,193,194,195,196,197,198,199,200,201,202,203,204,205,206,207,208,209,210,211,212,213,214,215,216,217,218,219,220,221,222,223,224,225,226,227,228,229,230,231,232,233,234,235,236,237,238,239,240,241,242,243,244,245,246,247,248,249,250,251,252,253,254,255,256,257,258,259,260,261,262,263,264,265,266,267,268,269,270,271,272,273,274,275,276,277,278,279,280,281,282,283,284,285,286,287,288,289,290,291,292,293,294,295,296,297,298,299,300,301,302,303,304,305,306,307,308,309,310,311,312,313,314,315,316,317,318,319,320,321,322,323,324,325,326,327,328,329,330,331,332,333,334,335,336,337,338,339,340,341,342,343,344,345,346,347,348,349,350,351,352,353,354,355,356,357,358,359,360,361,362,363,364,365,366,367,368,369,370,371,372,373,374,375,376,377,378,379,380,381,382,383,384,385,386,387,388,389,390,391,392,393,394,395,396,397,398,399,400,401,402,403,404,405,406,407,408,409,410,411,412,413,414,415,416,417,418,419,420,421,422,423,424,425,426,427,428,429,430,431,432,433,434,435,436,437,438,439,440,441,442,443,444,445,446,447,448,449,450,451,452,453,454,455,456,457,458,459,460,461,462,463,464,465,466,467,468,469,470,471,472,473,474,475,476,477,478,479,480,481,482,483,484,485,486,487,488,489,490,491,492,493,494,495,496,497,498,499,500,501,502,503,504,505,506,507,508,509,510,511,512,513,514,515,516,517,518,519,520,521,522,523,524,525,526,527,528,529,530,531,532,533,534,535,536,537,538,539,540,541,542,543,544,545,546,547,548,549,550,551,552,553,554,555,556,557,558,559,560,561,562,563,564,565,566,567,568,569,570,571,572,573,574,575,576,577,578,579,580,581,582,583,584,585,586,587,588,589,590,591,592,593,594,595,596,597,598,599],\"colorbar\":{\"title\":{\"text\":\"Trial\"},\"x\":1.0,\"xpad\":40},\"colorscale\":[[0.0,\"rgb(247,251,255)\"],[0.125,\"rgb(222,235,247)\"],[0.25,\"rgb(198,219,239)\"],[0.375,\"rgb(158,202,225)\"],[0.5,\"rgb(107,174,214)\"],[0.625,\"rgb(66,146,198)\"],[0.75,\"rgb(33,113,181)\"],[0.875,\"rgb(8,81,156)\"],[1.0,\"rgb(8,48,107)\"]],\"line\":{\"color\":\"Grey\",\"width\":0.5},\"showscale\":false},\"mode\":\"markers\",\"name\":\"Feasible Trial\",\"showlegend\":false,\"x\":[\"BM25\",\"none\",\"BM25\",\"BM25\",\"BM25\",\"none\",\"none\",\"none\",\"BM25\",\"BM25\",\"TF-IDF\",\"BM25\",\"TF-IDF\",\"BM25\",\"BM25\",\"BM25\",\"TF-IDF\",\"BM25\",\"BM25\",\"TF-IDF\",\"BM25\",\"BM25\",\"BM25\",\"BM25\",\"BM25\",\"BM25\",\"BM25\",\"BM25\",\"TF-IDF\",\"none\",\"none\",\"none\",\"none\",\"none\",\"none\",\"none\",\"none\",\"none\",\"none\",\"none\",\"none\",\"none\",\"none\",\"none\",\"none\",\"none\",\"none\",\"none\",\"none\",\"none\",\"none\",\"none\",\"none\",\"none\",\"none\",\"none\",\"none\",\"none\",\"TF-IDF\",\"none\",\"none\",\"none\",\"none\",\"none\",\"none\",\"none\",\"TF-IDF\",\"none\",\"none\",\"none\",\"none\",\"none\",\"none\",\"none\",\"none\",\"none\",\"TF-IDF\",\"TF-IDF\",\"TF-IDF\",\"TF-IDF\",\"TF-IDF\",\"TF-IDF\",\"TF-IDF\",\"TF-IDF\",\"TF-IDF\",\"TF-IDF\",\"TF-IDF\",\"TF-IDF\",\"TF-IDF\",\"TF-IDF\",\"TF-IDF\",\"TF-IDF\",\"TF-IDF\",\"TF-IDF\",\"TF-IDF\",\"TF-IDF\",\"TF-IDF\",\"TF-IDF\",\"TF-IDF\",\"TF-IDF\",\"TF-IDF\",\"TF-IDF\",\"TF-IDF\",\"TF-IDF\",\"TF-IDF\",\"TF-IDF\",\"TF-IDF\",\"TF-IDF\",\"TF-IDF\",\"TF-IDF\",\"TF-IDF\",\"TF-IDF\",\"TF-IDF\",\"TF-IDF\",\"TF-IDF\",\"TF-IDF\",\"TF-IDF\",\"TF-IDF\",\"TF-IDF\",\"TF-IDF\",\"TF-IDF\",\"TF-IDF\",\"TF-IDF\",\"TF-IDF\",\"TF-IDF\",\"TF-IDF\",\"TF-IDF\",\"TF-IDF\",\"TF-IDF\",\"TF-IDF\",\"TF-IDF\",\"TF-IDF\",\"TF-IDF\",\"TF-IDF\",\"TF-IDF\",\"TF-IDF\",\"TF-IDF\",\"TF-IDF\",\"BM25\",\"TF-IDF\",\"TF-IDF\",\"TF-IDF\",\"TF-IDF\",\"TF-IDF\",\"TF-IDF\",\"TF-IDF\",\"TF-IDF\",\"TF-IDF\",\"TF-IDF\",\"TF-IDF\",\"TF-IDF\",\"TF-IDF\",\"TF-IDF\",\"TF-IDF\",\"TF-IDF\",\"TF-IDF\",\"TF-IDF\",\"TF-IDF\",\"BM25\",\"TF-IDF\",\"TF-IDF\",\"TF-IDF\",\"TF-IDF\",\"TF-IDF\",\"TF-IDF\",\"TF-IDF\",\"TF-IDF\",\"TF-IDF\",\"TF-IDF\",\"TF-IDF\",\"TF-IDF\",\"TF-IDF\",\"TF-IDF\",\"TF-IDF\",\"TF-IDF\",\"TF-IDF\",\"TF-IDF\",\"TF-IDF\",\"TF-IDF\",\"TF-IDF\",\"TF-IDF\",\"TF-IDF\",\"TF-IDF\",\"TF-IDF\",\"TF-IDF\",\"TF-IDF\",\"TF-IDF\",\"TF-IDF\",\"BM25\",\"TF-IDF\",\"TF-IDF\",\"TF-IDF\",\"TF-IDF\",\"TF-IDF\",\"TF-IDF\",\"TF-IDF\",\"TF-IDF\",\"TF-IDF\",\"TF-IDF\",\"TF-IDF\",\"TF-IDF\",\"TF-IDF\",\"TF-IDF\",\"TF-IDF\",\"TF-IDF\",\"TF-IDF\",\"TF-IDF\",\"TF-IDF\",\"TF-IDF\",\"TF-IDF\",\"TF-IDF\",\"TF-IDF\",\"TF-IDF\",\"TF-IDF\",\"TF-IDF\",\"TF-IDF\",\"TF-IDF\",\"TF-IDF\",\"TF-IDF\",\"TF-IDF\",\"TF-IDF\",\"TF-IDF\",\"TF-IDF\",\"TF-IDF\",\"TF-IDF\",\"TF-IDF\",\"BM25\",\"TF-IDF\",\"TF-IDF\",\"TF-IDF\",\"TF-IDF\",\"TF-IDF\",\"TF-IDF\",\"TF-IDF\",\"TF-IDF\",\"TF-IDF\",\"TF-IDF\",\"TF-IDF\",\"TF-IDF\",\"TF-IDF\",\"TF-IDF\",\"TF-IDF\",\"TF-IDF\",\"TF-IDF\",\"TF-IDF\",\"TF-IDF\",\"TF-IDF\",\"TF-IDF\",\"TF-IDF\",\"TF-IDF\",\"TF-IDF\",\"TF-IDF\",\"TF-IDF\",\"TF-IDF\",\"TF-IDF\",\"TF-IDF\",\"TF-IDF\",\"BM25\",\"TF-IDF\",\"TF-IDF\",\"TF-IDF\",\"TF-IDF\",\"TF-IDF\",\"TF-IDF\",\"TF-IDF\",\"TF-IDF\",\"TF-IDF\",\"TF-IDF\",\"TF-IDF\",\"TF-IDF\",\"TF-IDF\",\"TF-IDF\",\"TF-IDF\",\"TF-IDF\",\"TF-IDF\",\"TF-IDF\",\"TF-IDF\",\"TF-IDF\",\"TF-IDF\",\"TF-IDF\",\"BM25\",\"TF-IDF\",\"TF-IDF\",\"TF-IDF\",\"TF-IDF\",\"TF-IDF\",\"TF-IDF\",\"TF-IDF\",\"TF-IDF\",\"TF-IDF\",\"TF-IDF\",\"TF-IDF\",\"TF-IDF\",\"TF-IDF\",\"TF-IDF\",\"TF-IDF\",\"TF-IDF\",\"TF-IDF\",\"TF-IDF\",\"TF-IDF\",\"TF-IDF\",\"BM25\",\"TF-IDF\",\"TF-IDF\",\"TF-IDF\",\"TF-IDF\",\"TF-IDF\",\"TF-IDF\",\"TF-IDF\",\"TF-IDF\",\"TF-IDF\",\"TF-IDF\",\"TF-IDF\",\"TF-IDF\",\"TF-IDF\",\"TF-IDF\",\"TF-IDF\",\"TF-IDF\",\"TF-IDF\",\"TF-IDF\",\"TF-IDF\",\"BM25\",\"TF-IDF\",\"TF-IDF\",\"TF-IDF\",\"TF-IDF\",\"TF-IDF\",\"TF-IDF\",\"TF-IDF\",\"TF-IDF\",\"TF-IDF\",\"TF-IDF\",\"TF-IDF\",\"TF-IDF\",\"TF-IDF\",\"TF-IDF\",\"TF-IDF\",\"TF-IDF\",\"TF-IDF\",\"TF-IDF\",\"TF-IDF\",\"TF-IDF\",\"TF-IDF\",\"BM25\",\"TF-IDF\",\"TF-IDF\",\"TF-IDF\",\"TF-IDF\",\"TF-IDF\",\"TF-IDF\",\"TF-IDF\",\"TF-IDF\",\"TF-IDF\",\"TF-IDF\",\"TF-IDF\",\"TF-IDF\",\"TF-IDF\",\"TF-IDF\",\"TF-IDF\",\"TF-IDF\",\"TF-IDF\",\"TF-IDF\",\"TF-IDF\",\"TF-IDF\",\"none\",\"TF-IDF\",\"TF-IDF\",\"BM25\",\"TF-IDF\",\"TF-IDF\",\"TF-IDF\",\"TF-IDF\",\"TF-IDF\",\"TF-IDF\",\"TF-IDF\",\"TF-IDF\",\"TF-IDF\",\"TF-IDF\",\"TF-IDF\",\"TF-IDF\",\"TF-IDF\",\"TF-IDF\",\"TF-IDF\",\"TF-IDF\",\"TF-IDF\",\"TF-IDF\",\"none\",\"TF-IDF\",\"TF-IDF\",\"BM25\",\"TF-IDF\",\"TF-IDF\",\"TF-IDF\",\"TF-IDF\",\"TF-IDF\",\"TF-IDF\",\"TF-IDF\",\"TF-IDF\",\"TF-IDF\",\"TF-IDF\",\"TF-IDF\",\"TF-IDF\",\"TF-IDF\",\"TF-IDF\",\"TF-IDF\",\"TF-IDF\",\"TF-IDF\",\"TF-IDF\",\"TF-IDF\",\"none\",\"TF-IDF\",\"TF-IDF\",\"BM25\",\"TF-IDF\",\"TF-IDF\",\"TF-IDF\",\"TF-IDF\",\"TF-IDF\",\"TF-IDF\",\"TF-IDF\",\"TF-IDF\",\"TF-IDF\",\"TF-IDF\",\"TF-IDF\",\"TF-IDF\",\"TF-IDF\",\"TF-IDF\",\"TF-IDF\",\"TF-IDF\",\"TF-IDF\",\"TF-IDF\",\"none\",\"TF-IDF\",\"TF-IDF\",\"TF-IDF\",\"TF-IDF\",\"BM25\",\"TF-IDF\",\"TF-IDF\",\"TF-IDF\",\"TF-IDF\",\"TF-IDF\",\"TF-IDF\",\"TF-IDF\",\"TF-IDF\",\"TF-IDF\",\"TF-IDF\",\"TF-IDF\",\"TF-IDF\",\"TF-IDF\",\"TF-IDF\",\"TF-IDF\",\"TF-IDF\",\"TF-IDF\",\"none\",\"TF-IDF\",\"TF-IDF\",\"TF-IDF\",\"TF-IDF\",\"TF-IDF\",\"BM25\",\"TF-IDF\",\"TF-IDF\",\"TF-IDF\",\"TF-IDF\",\"TF-IDF\",\"TF-IDF\",\"TF-IDF\",\"TF-IDF\",\"TF-IDF\",\"TF-IDF\",\"TF-IDF\",\"TF-IDF\",\"TF-IDF\",\"TF-IDF\",\"none\",\"TF-IDF\",\"TF-IDF\",\"TF-IDF\",\"TF-IDF\",\"TF-IDF\",\"BM25\",\"TF-IDF\",\"TF-IDF\",\"TF-IDF\",\"TF-IDF\",\"TF-IDF\",\"TF-IDF\",\"TF-IDF\",\"TF-IDF\",\"TF-IDF\",\"TF-IDF\",\"TF-IDF\",\"TF-IDF\",\"TF-IDF\",\"TF-IDF\",\"TF-IDF\",\"TF-IDF\",\"TF-IDF\",\"none\",\"TF-IDF\",\"TF-IDF\",\"TF-IDF\",\"BM25\",\"TF-IDF\",\"TF-IDF\",\"TF-IDF\",\"TF-IDF\",\"TF-IDF\",\"TF-IDF\",\"TF-IDF\",\"TF-IDF\",\"TF-IDF\",\"TF-IDF\",\"TF-IDF\",\"TF-IDF\",\"TF-IDF\",\"TF-IDF\",\"TF-IDF\",\"TF-IDF\",\"none\",\"TF-IDF\",\"TF-IDF\",\"TF-IDF\",\"TF-IDF\",\"TF-IDF\",\"TF-IDF\",\"BM25\",\"TF-IDF\",\"TF-IDF\",\"TF-IDF\",\"TF-IDF\",\"TF-IDF\",\"TF-IDF\",\"TF-IDF\",\"TF-IDF\",\"TF-IDF\",\"TF-IDF\",\"TF-IDF\",\"TF-IDF\",\"TF-IDF\",\"TF-IDF\",\"TF-IDF\",\"TF-IDF\",\"TF-IDF\",\"none\",\"TF-IDF\",\"TF-IDF\",\"TF-IDF\",\"BM25\",\"TF-IDF\",\"TF-IDF\",\"TF-IDF\",\"TF-IDF\",\"TF-IDF\",\"TF-IDF\",\"TF-IDF\",\"TF-IDF\",\"TF-IDF\",\"TF-IDF\",\"TF-IDF\",\"TF-IDF\",\"TF-IDF\",\"TF-IDF\",\"TF-IDF\",\"TF-IDF\",\"TF-IDF\",\"TF-IDF\",\"none\",\"TF-IDF\",\"TF-IDF\",\"TF-IDF\",\"BM25\",\"TF-IDF\",\"TF-IDF\",\"TF-IDF\",\"TF-IDF\",\"TF-IDF\",\"TF-IDF\",\"TF-IDF\",\"TF-IDF\",\"TF-IDF\",\"TF-IDF\",\"TF-IDF\",\"TF-IDF\",\"TF-IDF\",\"TF-IDF\",\"TF-IDF\",\"TF-IDF\",\"TF-IDF\",\"TF-IDF\",\"TF-IDF\",\"TF-IDF\",\"none\",\"TF-IDF\",\"TF-IDF\",\"TF-IDF\",\"TF-IDF\",\"TF-IDF\",\"TF-IDF\"],\"y\":[0.23148330284290042,0.13624718955739376,0.1471750754734151,0.17665494281875593,0.22605954763810066,0.20349984418451744,0.1972443703365315,0.19482189997815597,0.17637428068323063,0.22522086925996349,0.22319422054210195,0.2304573118495677,0.17144150147345222,0.2320857319855421,0.23275752848559866,0.23171090388175025,0.2127854379593969,0.23970748561893918,0.240483947366465,0.22505091809824102,0.24092850196791454,0.24090856193617882,0.2355894386586912,0.24176958909342275,0.23873396992488702,0.24254635065272973,0.24957153157159687,0.24888446910334255,0.23541728054090555,0.2516468092914111,0.25443769162528307,0.2548065564830398,0.25372594137621196,0.2542656062806814,0.2510363291879291,0.21729222252899047,0.2542230921973612,0.23936386771471282,0.23272192674389913,0.2430012686796093,0.2445792335742334,0.2508384206817508,0.2555594698275499,0.25216047372169353,0.09889549888703199,0.21599737636144267,0.23142058460597698,0.24626551129669433,0.22726151671351763,0.23969296349398544,0.24756067995173195,0.25530024248415983,0.25560379420324086,0.25571632981331993,0.25565640365780096,0.08043575093375183,0.21855068461434887,0.24773265987949525,0.054672355535981446,0.22372828175047949,0.2358642124673164,0.2553778916070521,0.2568086807011941,0.2558789323947374,0.2552056581054293,0.2455116840403182,0.2152355960719305,0.0055265346604531345,0.11067393242761561,0.22608833450679114,0.233145956015041,0.2547298553411854,0.24897096109001587,0.2576156616761005,0.25744981266166433,0.21698334053455676,0.2575202661872857,0.2561060665645264,0.25578135216037295,0.25494998947199676,0.2538111399898332,0.2559646138359945,0.25582035948664855,0.2559897184094767,0.2559974523038986,0.2533678262625595,0.2562629450364597,0.2523955512395206,0.25646652209648685,0.2501219720024811,0.2485134954588148,0.25647034080192216,0.2551863355191928,0.2565211778203894,0.2565991891007239,0.25422240615921754,0.24847896854246318,0.2578990980248367,0.25753610102787367,0.25964283046146747,0.25917266297874675,0.258279823411374,0.2598612810007102,0.2596685152716735,0.2593783948294804,0.25918602878015073,0.25919092214299544,0.25919132087475044,0.2583387599220447,0.2585890395914807,0.21708510837470243,0.2587061884464763,0.2589839874559213,0.2589583376145547,0.25863546012247757,0.25885640146171823,0.25970924597612643,0.2600522358728864,0.2597082707062577,0.25826614004087733,0.21113037843336824,0.2599951255124881,0.2600831369621336,0.26007342166596137,0.2602208581514182,0.124809511033937,0.24869521280564416,0.055944053866720675,0.0055265346604531345,0.2600945614984461,0.260019690529778,0.2602939568788393,0.26015952543770826,0.2600300024230263,0.2601363510062749,0.2600263645507829,0.2600216894749122,0.25986158212031707,0.23112299979914588,0.258406550449704,0.2563362950505154,0.25987593054671143,0.25809501891627473,0.2600722602929655,0.2592606292932317,0.23251582536931018,0.25844008266429297,0.24438533737019758,0.1047407367488387,0.25840097475794127,0.2563216651426966,0.2598256616300174,0.24862544044376894,0.2601035905209292,0.2602726153027083,0.22736937727738943,0.2585028479772481,0.0055265346604531345,0.2307749488633813,0.2601695123332381,0.2590679863270371,0.2601695123332381,0.2601854248411634,0.25797448558814523,0.26021846822095585,0.2588010860733287,0.26015684881002554,0.25744117476851935,0.0055265346604531345,0.2602098221402436,0.0055265346604531345,0.2602967190708516,0.26030777685753526,0.2587079872788002,0.2602398571830838,0.2600797939695729,0.25878144958385246,0.2601141247441451,0.2580234098585182,0.24964093523736391,0.23835958795670487,0.2601999026823316,0.25908841948201733,0.0055265346604531345,0.26014436975609867,0.252680413487203,0.14577658713529842,0.25909516298509416,0.25835488067699763,0.25841751302486693,0.2593481385474267,0.2602909363743621,0.26020579220238493,0.25996299344736007,0.0055265346604531345,0.26021464860255117,0.25996258609179124,0.260148938520933,0.251475362966174,0.2592997343508444,0.26021746435997634,0.26026967279496155,0.25973168609259234,0.25956870479820804,0.15723541587884352,0.2602150234922539,0.2587655274981736,0.2601907058553735,0.2579695019688275,0.2597590106646209,0.26020274354136347,0.26021746435997634,0.25918609774315415,0.2602304128932977,0.0055265346604531345,0.2600048907447058,0.25898286532965625,0.26003591850712676,0.25955447200453297,0.25835700679338836,0.23143347632150107,0.2601496975882339,0.26023387066960185,0.2592878663097236,0.25947503718498066,0.12081679500471895,0.23194952716433268,0.2571584636359604,0.2593115432955166,0.22653160301581338,0.23114123541862147,0.2602284434081664,0.260170469264755,0.25900203441061187,0.0055265346604531345,0.26020109143156656,0.2593904519297865,0.2601949006087537,0.25972130209036765,0.25880710274682955,0.0055265346604531345,0.2602256159803388,0.25989067700252066,0.2601754809322693,0.2596268953818736,0.2602288515369037,0.25951884223100213,0.26018302358003814,0.2590879673112943,0.25958295616772503,0.26018595633990504,0.25955719105953917,0.25787750019155997,0.25930265616957976,0.2597042449670595,0.0055265346604531345,0.2602584809607259,0.23011156573280486,0.2587367168817073,0.0055265346604531345,0.26007023824899744,0.20937287642597688,0.26028008884807147,0.2593807253561915,0.09553855607140857,0.2599422480992969,0.26010841108429805,0.22476821283625031,0.259786569921156,0.2600146054175172,0.25937865695511186,0.0055265346604531345,0.2590838442103591,0.25808956918456116,0.2602203281578796,0.2597317041640639,0.2602112037161034,0.25957325982143475,0.258877519296107,0.2602381414271046,0.22945208899693456,0.25744764276503185,0.2601389618318306,0.25862269615460065,0.0055265346604531345,0.25943561873427423,0.2602278701134813,0.23464555602847445,0.2599600968746837,0.25109521608492075,0.22616600296427292,0.24902297133649398,0.15980766326376777,0.2585037107282405,0.25959143225865944,0.23005291874778028,0.0055265346604531345,0.2600550790310071,0.2587447097389494,0.25083312841401195,0.2594651705326456,0.22958111317103339,0.24941654283595271,0.2579482547122322,0.2601834638208213,0.2590896987297058,0.25994874879872176,0.2566554050110399,0.25015859489277437,0.2600386104686468,0.2592319521116402,0.2585951255947024,0.26008564469795814,0.21741802503013158,0.2539877203172722,0.0055265346604531345,0.2589570531637072,0.25770568201608424,0.0880585795268939,0.25938500137216963,0.2597812568469251,0.23116128426210455,0.2291441194798381,0.24985205544205963,0.15850607801390945,0.26016129018239126,0.2597370506135189,0.2600367201176465,0.25717057614970573,0.24831692697656357,0.2582856987402793,0.25941580123030095,0.25902385793599475,0.2602165828964806,0.0055265346604531345,0.259047320965904,0.2602042368707474,0.2582206446586085,0.26008694878407146,0.25971224492230577,0.2218098485066912,0.25197504054199743,0.25329318927483335,0.22890498543350976,0.26016787043909445,0.24097187263705983,0.2596410261874563,0.0055265346604531345,0.2263192919508843,0.2602107262461635,0.2591413763276285,0.2599697764094289,0.2599035287571607,0.24912732627669434,0.25853454670141957,0.0055265346604531345,0.2602479563416023,0.2570647641626406,0.2597794014276498,0.26011505151287,0.258378248473657,0.2593672598844204,0.2594305608338029,0.2602377722326518,0.21747323800604795,0.25786216947937035,0.2589923283179569,0.22930192799671553,0.23437172886744215,0.259471311198238,0.12423199534280256,0.2585635275207351,0.2601621662418898,0.2291377094869344,0.09136125441898482,0.0055265346604531345,0.26025539263972364,0.22613615098541356,0.25812082386342944,0.2587782732977528,0.26022759304269494,0.0055265346604531345,0.26023420611156195,0.2599532557543383,0.25122404967421585,0.2595217911182349,0.21837846063315292,0.2585744677146846,0.2525903908945561,0.23135724063380453,0.25050400302757386,0.2593617169659936,0.2600063671313236,0.259550281077439,0.2576169219628822,0.25864445652737356,0.21526253969522138,0.1587515171345776,0.2599170715747089,0.2590987364778049,0.25161241253935335,0.0055265346604531345,0.2602354350090934,0.21568719784113383,0.2582417723800057,0.26021629845031924,0.2249226784457174,0.26004879526486435,0.25969059714374343,0.21984525305723507,0.0055265346604531345,0.26030932919014205,0.22957241721625093,0.2599196639567832,0.25736517507920914,0.2602943453657022,0.25878144958385246,0.2596474649178281,0.26001368722739227,0.0055265346604531345,0.25914461700733715,0.2602909363743621,0.26022258635489964,0.2582244198596249,0.25999384532474223,0.25966079018410293,0.2587475879629773,0.21966113663044595,0.2077995646213308,0.22745558700225602,0.25940255367569615,0.21869407353698395,0.0730533295602892,0.2583681131252991,0.2593052433093101,0.0055265346604531345,0.2575467943131183,0.2602588626378052,0.2588132446671249,0.2601430863086486,0.25980703888924817,0.2594272506890332,0.25830630997380244,0.0055265346604531345,0.26016596222143695,0.25928500089234047,0.2597664437273418,0.2601555057914077,0.25565182482116927,0.25753992907091217,0.2588869456432543,0.2597111251745622,0.25994013204426897,0.25951884223100213,0.22515122483136155,0.0055265346604531345,0.2275176733713244,0.26025157902653767,0.2586679212832642,0.2580493632401571,0.0055265346604531345,0.2157806709888035,0.26027144997400836,0.2580004890827271,0.23122523985177565,0.25881758397912435,0.26017211243352223,0.26009334454080163,0.2567786022580739,0.2592460258953557,0.2580568728872543,0.2602116520835973,0.2596326284048935,0.0055265346604531345,0.259432322661013,0.2184415577017529,0.2601799016771452,0.2588993606297075,0.25443746344604556,0.26008318966057925,0.2598474024260215,0.2295737646501374,0.26024538958526555,0.2288159559506609,0.23231146959485285,0.0055265346604531345,0.1085759834687818,0.260172108804372,0.25882429419848485,0.2597104101892449,0.2597756264281478,0.0869794028164759,0.2591295629637894,0.23165514271750293,0.0055265346604531345,0.2581727935225413,0.25159807661144884,0.25952463494336436,0.2597784926295728,0.21936910173109378,0.2590735526492117,0.25706439760811906,0.25178513400185193,0.22926094314338635,0.2597647560626294,0.2595196300514662,0.2583506478580867,0.260229039807429,0.25966701614166504,0.2549257490673278,0.2566343811901296,0.23552673990689793,0.22800688842369093,0.2595386599333579,0.0055265346604531345,0.17164448707626226,0.2536328458953843,0.1684000887798227,0.24999205283655904,0.2580055337032765,0.22907116858125537,0.2589810409372474,0.25978118215921925,0.0055265346604531345,0.2599735545953593,0.25925956388189403,0.26003123984301163,0.2320362939646839,0.25972087619449563,0.25957054489777315,0.2602897203484428,0.2587723562994834,0.2593941115142979,0.259968640874758,0.25750631267648183,0.0055265346604531345,0.25939589008135994,0.26023905126711677,0.24954106301564621,0.22689461845346556,0.22712026330394103,0.0055265346604531345,0.25997693565562763,0.25928495415193503,0.25942522434669035,0.21696625497730326,0.09395806969245246,0.2595755954530888,0.2599726914236883,0.25661690650345714,0.2579170487010466,0.2592806729514664,0.0055265346604531345,0.25121630768691805,0.2601063832303302,0.2602128016209736,0.2587937988935096,0.259659445139648,0.2570699414084287,0.25980326153108735,0.25250048108610856,0.2583853278009856,0.2598779591671245,0.2504721305336949,0.2598615553919898,0.25938210339750223,0.2602121735374394,0.21296608480257068,0.23336665633630677,0.2602296162226865,0.2659280370505061,0.2644702232226721,0.23213197117970022,0.26407752081532976,0.2634132038596865,0.264089236370088,0.26255799459631757,0.26336985393121254,0.2627723231246271,0.26257804739462165,0.2630475553375634,0.26248546759835406,0.26279758436900497,0.2626973560979489,0.26284614233050657,0.26276785447195183,0.26269515678039623,0.2627237365342373,0.2627172907433007,0.2625337444255557,0.26245179314675704,0.26291899194897744,0.2625354649768896,0.21318859713604663,0.261363314721298,0.26177769104624476,0.2614340161318376,0.2613585632652541,0.262799275144951,0.2629786352805573],\"type\":\"scatter\",\"xaxis\":\"x2\",\"yaxis\":\"y2\"},{\"marker\":{\"color\":[1,2,3,8,44,55,68,127,148,186,229,264,290,318,345,374,403,432,461,491,517,546],\"colorbar\":{\"title\":{\"text\":\"Trial\"},\"x\":1.0,\"xpad\":40},\"colorscale\":[[0.0,\"rgb(247,251,255)\"],[0.125,\"rgb(222,235,247)\"],[0.25,\"rgb(198,219,239)\"],[0.375,\"rgb(158,202,225)\"],[0.5,\"rgb(107,174,214)\"],[0.625,\"rgb(66,146,198)\"],[0.75,\"rgb(33,113,181)\"],[0.875,\"rgb(8,81,156)\"],[1.0,\"rgb(8,48,107)\"]],\"line\":{\"color\":\"Grey\",\"width\":0.5},\"showscale\":false},\"mode\":\"markers\",\"name\":\"Feasible Trial\",\"showlegend\":false,\"x\":[true,true,true,true,false,false,false,false,false,true,true,false,true,false,true,false,true,false,true,false,true,false],\"y\":[0.13624718955739376,0.1471750754734151,0.17665494281875593,0.17637428068323063,0.09889549888703199,0.08043575093375183,0.11067393242761561,0.055944053866720675,0.1047407367488387,0.14577658713529842,0.22653160301581338,0.09553855607140857,0.22616600296427292,0.0880585795268939,0.24097187263705983,0.09136125441898482,0.21568719784113383,0.0730533295602892,0.2157806709888035,0.0869794028164759,0.1684000887798227,0.09395806969245246],\"type\":\"scatter\",\"xaxis\":\"x3\",\"yaxis\":\"y3\"},{\"marker\":{\"color\":[1,2,3,8,44,55,68,127,148,186,229,264,290,318,345,374,403,432,461,491,517,546],\"colorbar\":{\"title\":{\"text\":\"Trial\"},\"x\":1.0,\"xpad\":40},\"colorscale\":[[0.0,\"rgb(247,251,255)\"],[0.125,\"rgb(222,235,247)\"],[0.25,\"rgb(198,219,239)\"],[0.375,\"rgb(158,202,225)\"],[0.5,\"rgb(107,174,214)\"],[0.625,\"rgb(66,146,198)\"],[0.75,\"rgb(33,113,181)\"],[0.875,\"rgb(8,81,156)\"],[1.0,\"rgb(8,48,107)\"]],\"line\":{\"color\":\"Grey\",\"width\":0.5},\"showscale\":false},\"mode\":\"markers\",\"name\":\"Feasible Trial\",\"showlegend\":false,\"x\":[true,false,true,true,false,false,true,false,false,true,false,true,true,false,true,false,true,false,false,true,false,true],\"y\":[0.13624718955739376,0.1471750754734151,0.17665494281875593,0.17637428068323063,0.09889549888703199,0.08043575093375183,0.11067393242761561,0.055944053866720675,0.1047407367488387,0.14577658713529842,0.22653160301581338,0.09553855607140857,0.22616600296427292,0.0880585795268939,0.24097187263705983,0.09136125441898482,0.21568719784113383,0.0730533295602892,0.2157806709888035,0.0869794028164759,0.1684000887798227,0.09395806969245246],\"type\":\"scatter\",\"xaxis\":\"x4\",\"yaxis\":\"y4\"},{\"marker\":{\"color\":[0,1,2,3,4,5,6,7,8,9,10,11,12,13,14,15,16,17,18,19,20,21,22,23,24,25,26,27,28,29,30,31,32,33,34,35,36,37,38,39,40,41,42,43,44,45,46,47,48,49,50,51,52,53,54,55,56,57,58,59,60,61,62,63,64,65,66,67,68,69,70,71,72,73,74,75,76,77,78,79,80,81,82,83,84,85,86,87,88,89,90,91,92,93,94,95,96,97,98,99,100,101,102,103,104,105,106,107,108,109,110,111,112,113,114,115,116,117,118,119,120,121,122,123,124,125,126,127,128,129,130,131,132,133,134,135,136,137,138,139,140,141,142,143,144,145,146,147,148,149,150,151,152,153,154,155,156,157,158,159,160,161,162,163,164,165,166,167,168,169,170,171,172,173,174,175,176,177,178,179,180,181,182,183,184,185,186,187,188,189,190,191,192,193,194,195,196,197,198,199,200,201,202,203,204,205,206,207,208,209,210,211,212,213,214,215,216,217,218,219,220,221,222,223,224,225,226,227,228,229,230,231,232,233,234,235,236,237,238,239,240,241,242,243,244,245,246,247,248,249,250,251,252,253,254,255,256,257,258,259,260,261,262,263,264,265,266,267,268,269,270,271,272,273,274,275,276,277,278,279,280,281,282,283,284,285,286,287,288,289,290,291,292,293,294,295,296,297,298,299,300,301,302,303,304,305,306,307,308,309,310,311,312,313,314,315,316,317,318,319,320,321,322,323,324,325,326,327,328,329,330,331,332,333,334,335,336,337,338,339,340,341,342,343,344,345,346,347,348,349,350,351,352,353,354,355,356,357,358,359,360,361,362,363,364,365,366,367,368,369,370,371,372,373,374,375,376,377,378,379,380,381,382,383,384,385,386,387,388,389,390,391,392,393,394,395,396,397,398,399,400,401,402,403,404,405,406,407,408,409,410,411,412,413,414,415,416,417,418,419,420,421,422,423,424,425,426,427,428,429,430,431,432,433,434,435,436,437,438,439,440,441,442,443,444,445,446,447,448,449,450,451,452,453,454,455,456,457,458,459,460,461,462,463,464,465,466,467,468,469,470,471,472,473,474,475,476,477,478,479,480,481,482,483,484,485,486,487,488,489,490,491,492,493,494,495,496,497,498,499,500,501,502,503,504,505,506,507,508,509,510,511,512,513,514,515,516,517,518,519,520,521,522,523,524,525,526,527,528,529,530,531,532,533,534,535,536,537,538,539,540,541,542,543,544,545,546,547,548,549,550,551,552,553,554,555,556,557,558,559,560,561,562,563,564,565,566,567,568,569,570,571,572,573,574,575,576,577,578,579,580,581,582,583,584,585,586,587,588,589,590,591,592,593,594,595,596,597,598,599],\"colorbar\":{\"title\":{\"text\":\"Trial\"},\"x\":1.0,\"xpad\":40},\"colorscale\":[[0.0,\"rgb(247,251,255)\"],[0.125,\"rgb(222,235,247)\"],[0.25,\"rgb(198,219,239)\"],[0.375,\"rgb(158,202,225)\"],[0.5,\"rgb(107,174,214)\"],[0.625,\"rgb(66,146,198)\"],[0.75,\"rgb(33,113,181)\"],[0.875,\"rgb(8,81,156)\"],[1.0,\"rgb(8,48,107)\"]],\"line\":{\"color\":\"Grey\",\"width\":0.5},\"showscale\":false},\"mode\":\"markers\",\"name\":\"Feasible Trial\",\"showlegend\":false,\"x\":[13,83,316,92,623,597,727,939,587,337,299,843,951,766,463,437,770,469,462,184,402,387,389,234,226,222,228,192,146,12,11,10,0,1,73,72,3,128,55,144,41,21,7,97,101,534,273,0,113,54,162,5,44,51,53,74,994,113,51,180,95,41,42,47,50,138,653,278,203,162,330,40,84,33,33,124,35,853,870,802,898,915,886,866,926,947,921,918,845,836,752,824,831,975,982,971,991,691,683,679,699,677,694,673,684,698,686,677,702,700,593,699,625,625,632,632,574,563,551,554,724,547,558,563,500,512,569,497,662,446,434,445,422,417,363,415,426,421,421,374,449,418,360,419,404,490,461,480,438,517,355,407,427,385,391,387,463,328,532,447,303,447,445,393,482,471,365,350,377,455,454,515,511,506,481,528,525,484,482,454,475,498,499,445,493,487,473,497,444,373,510,396,390,388,333,368,402,361,368,304,341,351,335,350,276,321,315,346,401,324,344,341,293,342,344,315,339,286,462,384,438,346,394,401,366,254,319,516,385,468,341,418,435,404,428,358,378,354,350,318,358,384,374,332,393,362,357,310,342,384,370,332,536,405,351,363,390,395,412,503,376,293,389,391,416,482,397,524,377,424,468,316,502,370,404,406,387,386,416,434,431,404,462,433,394,419,453,454,453,482,436,473,538,377,414,441,366,512,396,322,426,462,336,374,408,486,438,267,300,384,364,455,404,355,332,517,491,425,388,474,411,347,373,452,387,436,324,502,409,360,539,395,302,341,334,347,372,321,348,369,388,283,417,308,344,364,398,519,435,472,328,385,363,412,590,488,426,446,429,459,421,547,306,481,501,474,513,474,495,450,437,521,462,485,407,428,333,399,345,527,458,452,480,484,498,473,456,507,440,462,485,543,422,468,433,513,570,413,447,488,463,402,380,381,431,414,396,497,435,382,472,529,540,535,571,408,525,416,511,378,553,396,392,369,403,416,443,383,422,368,399,446,362,423,395,450,381,413,434,420,454,405,473,441,423,401,358,460,494,431,410,384,468,357,516,439,403,382,609,373,356,390,389,374,354,389,377,339,402,369,788,327,421,392,244,410,360,385,411,560,352,376,401,396,330,367,344,398,205,539,380,420,310,370,399,355,428,519,382,417,340,495,399,435,367,329,392,411,430,412,440,484,411,449,506,392,529,419,474,386,435,408,379,451,554,422,287,403,360,486,465,472,500,579,521,490,471,454,461,456,440,509,479,459,435,529,457,489,436,504,476,421,430,449,545,391,466,405,497,441,377,416,729,522,395,483,430,454,371,395,419,446,429,441,452,445,448,451,444,448,443,448,456,456,464,461,461,465,466,465,466,464,468,467,469,470,466,464,473,467],\"y\":[0.23148330284290042,0.13624718955739376,0.1471750754734151,0.17665494281875593,0.22605954763810066,0.20349984418451744,0.1972443703365315,0.19482189997815597,0.17637428068323063,0.22522086925996349,0.22319422054210195,0.2304573118495677,0.17144150147345222,0.2320857319855421,0.23275752848559866,0.23171090388175025,0.2127854379593969,0.23970748561893918,0.240483947366465,0.22505091809824102,0.24092850196791454,0.24090856193617882,0.2355894386586912,0.24176958909342275,0.23873396992488702,0.24254635065272973,0.24957153157159687,0.24888446910334255,0.23541728054090555,0.2516468092914111,0.25443769162528307,0.2548065564830398,0.25372594137621196,0.2542656062806814,0.2510363291879291,0.21729222252899047,0.2542230921973612,0.23936386771471282,0.23272192674389913,0.2430012686796093,0.2445792335742334,0.2508384206817508,0.2555594698275499,0.25216047372169353,0.09889549888703199,0.21599737636144267,0.23142058460597698,0.24626551129669433,0.22726151671351763,0.23969296349398544,0.24756067995173195,0.25530024248415983,0.25560379420324086,0.25571632981331993,0.25565640365780096,0.08043575093375183,0.21855068461434887,0.24773265987949525,0.054672355535981446,0.22372828175047949,0.2358642124673164,0.2553778916070521,0.2568086807011941,0.2558789323947374,0.2552056581054293,0.2455116840403182,0.2152355960719305,0.0055265346604531345,0.11067393242761561,0.22608833450679114,0.233145956015041,0.2547298553411854,0.24897096109001587,0.2576156616761005,0.25744981266166433,0.21698334053455676,0.2575202661872857,0.2561060665645264,0.25578135216037295,0.25494998947199676,0.2538111399898332,0.2559646138359945,0.25582035948664855,0.2559897184094767,0.2559974523038986,0.2533678262625595,0.2562629450364597,0.2523955512395206,0.25646652209648685,0.2501219720024811,0.2485134954588148,0.25647034080192216,0.2551863355191928,0.2565211778203894,0.2565991891007239,0.25422240615921754,0.24847896854246318,0.2578990980248367,0.25753610102787367,0.25964283046146747,0.25917266297874675,0.258279823411374,0.2598612810007102,0.2596685152716735,0.2593783948294804,0.25918602878015073,0.25919092214299544,0.25919132087475044,0.2583387599220447,0.2585890395914807,0.21708510837470243,0.2587061884464763,0.2589839874559213,0.2589583376145547,0.25863546012247757,0.25885640146171823,0.25970924597612643,0.2600522358728864,0.2597082707062577,0.25826614004087733,0.21113037843336824,0.2599951255124881,0.2600831369621336,0.26007342166596137,0.2602208581514182,0.124809511033937,0.24869521280564416,0.055944053866720675,0.0055265346604531345,0.2600945614984461,0.260019690529778,0.2602939568788393,0.26015952543770826,0.2600300024230263,0.2601363510062749,0.2600263645507829,0.2600216894749122,0.25986158212031707,0.23112299979914588,0.258406550449704,0.2563362950505154,0.25987593054671143,0.25809501891627473,0.2600722602929655,0.2592606292932317,0.23251582536931018,0.25844008266429297,0.24438533737019758,0.1047407367488387,0.25840097475794127,0.2563216651426966,0.2598256616300174,0.24862544044376894,0.2601035905209292,0.2602726153027083,0.22736937727738943,0.2585028479772481,0.0055265346604531345,0.2307749488633813,0.2601695123332381,0.2590679863270371,0.2601695123332381,0.2601854248411634,0.25797448558814523,0.26021846822095585,0.2588010860733287,0.26015684881002554,0.25744117476851935,0.0055265346604531345,0.2602098221402436,0.0055265346604531345,0.2602967190708516,0.26030777685753526,0.2587079872788002,0.2602398571830838,0.2600797939695729,0.25878144958385246,0.2601141247441451,0.2580234098585182,0.24964093523736391,0.23835958795670487,0.2601999026823316,0.25908841948201733,0.0055265346604531345,0.26014436975609867,0.252680413487203,0.14577658713529842,0.25909516298509416,0.25835488067699763,0.25841751302486693,0.2593481385474267,0.2602909363743621,0.26020579220238493,0.25996299344736007,0.0055265346604531345,0.26021464860255117,0.25996258609179124,0.260148938520933,0.251475362966174,0.2592997343508444,0.26021746435997634,0.26026967279496155,0.25973168609259234,0.25956870479820804,0.15723541587884352,0.2602150234922539,0.2587655274981736,0.2601907058553735,0.2579695019688275,0.2597590106646209,0.26020274354136347,0.26021746435997634,0.25918609774315415,0.2602304128932977,0.0055265346604531345,0.2600048907447058,0.25898286532965625,0.26003591850712676,0.25955447200453297,0.25835700679338836,0.23143347632150107,0.2601496975882339,0.26023387066960185,0.2592878663097236,0.25947503718498066,0.12081679500471895,0.23194952716433268,0.2571584636359604,0.2593115432955166,0.22653160301581338,0.23114123541862147,0.2602284434081664,0.260170469264755,0.25900203441061187,0.0055265346604531345,0.26020109143156656,0.2593904519297865,0.2601949006087537,0.25972130209036765,0.25880710274682955,0.0055265346604531345,0.2602256159803388,0.25989067700252066,0.2601754809322693,0.2596268953818736,0.2602288515369037,0.25951884223100213,0.26018302358003814,0.2590879673112943,0.25958295616772503,0.26018595633990504,0.25955719105953917,0.25787750019155997,0.25930265616957976,0.2597042449670595,0.0055265346604531345,0.2602584809607259,0.23011156573280486,0.2587367168817073,0.0055265346604531345,0.26007023824899744,0.20937287642597688,0.26028008884807147,0.2593807253561915,0.09553855607140857,0.2599422480992969,0.26010841108429805,0.22476821283625031,0.259786569921156,0.2600146054175172,0.25937865695511186,0.0055265346604531345,0.2590838442103591,0.25808956918456116,0.2602203281578796,0.2597317041640639,0.2602112037161034,0.25957325982143475,0.258877519296107,0.2602381414271046,0.22945208899693456,0.25744764276503185,0.2601389618318306,0.25862269615460065,0.0055265346604531345,0.25943561873427423,0.2602278701134813,0.23464555602847445,0.2599600968746837,0.25109521608492075,0.22616600296427292,0.24902297133649398,0.15980766326376777,0.2585037107282405,0.25959143225865944,0.23005291874778028,0.0055265346604531345,0.2600550790310071,0.2587447097389494,0.25083312841401195,0.2594651705326456,0.22958111317103339,0.24941654283595271,0.2579482547122322,0.2601834638208213,0.2590896987297058,0.25994874879872176,0.2566554050110399,0.25015859489277437,0.2600386104686468,0.2592319521116402,0.2585951255947024,0.26008564469795814,0.21741802503013158,0.2539877203172722,0.0055265346604531345,0.2589570531637072,0.25770568201608424,0.0880585795268939,0.25938500137216963,0.2597812568469251,0.23116128426210455,0.2291441194798381,0.24985205544205963,0.15850607801390945,0.26016129018239126,0.2597370506135189,0.2600367201176465,0.25717057614970573,0.24831692697656357,0.2582856987402793,0.25941580123030095,0.25902385793599475,0.2602165828964806,0.0055265346604531345,0.259047320965904,0.2602042368707474,0.2582206446586085,0.26008694878407146,0.25971224492230577,0.2218098485066912,0.25197504054199743,0.25329318927483335,0.22890498543350976,0.26016787043909445,0.24097187263705983,0.2596410261874563,0.0055265346604531345,0.2263192919508843,0.2602107262461635,0.2591413763276285,0.2599697764094289,0.2599035287571607,0.24912732627669434,0.25853454670141957,0.0055265346604531345,0.2602479563416023,0.2570647641626406,0.2597794014276498,0.26011505151287,0.258378248473657,0.2593672598844204,0.2594305608338029,0.2602377722326518,0.21747323800604795,0.25786216947937035,0.2589923283179569,0.22930192799671553,0.23437172886744215,0.259471311198238,0.12423199534280256,0.2585635275207351,0.2601621662418898,0.2291377094869344,0.09136125441898482,0.0055265346604531345,0.26025539263972364,0.22613615098541356,0.25812082386342944,0.2587782732977528,0.26022759304269494,0.0055265346604531345,0.26023420611156195,0.2599532557543383,0.25122404967421585,0.2595217911182349,0.21837846063315292,0.2585744677146846,0.2525903908945561,0.23135724063380453,0.25050400302757386,0.2593617169659936,0.2600063671313236,0.259550281077439,0.2576169219628822,0.25864445652737356,0.21526253969522138,0.1587515171345776,0.2599170715747089,0.2590987364778049,0.25161241253935335,0.0055265346604531345,0.2602354350090934,0.21568719784113383,0.2582417723800057,0.26021629845031924,0.2249226784457174,0.26004879526486435,0.25969059714374343,0.21984525305723507,0.0055265346604531345,0.26030932919014205,0.22957241721625093,0.2599196639567832,0.25736517507920914,0.2602943453657022,0.25878144958385246,0.2596474649178281,0.26001368722739227,0.0055265346604531345,0.25914461700733715,0.2602909363743621,0.26022258635489964,0.2582244198596249,0.25999384532474223,0.25966079018410293,0.2587475879629773,0.21966113663044595,0.2077995646213308,0.22745558700225602,0.25940255367569615,0.21869407353698395,0.0730533295602892,0.2583681131252991,0.2593052433093101,0.0055265346604531345,0.2575467943131183,0.2602588626378052,0.2588132446671249,0.2601430863086486,0.25980703888924817,0.2594272506890332,0.25830630997380244,0.0055265346604531345,0.26016596222143695,0.25928500089234047,0.2597664437273418,0.2601555057914077,0.25565182482116927,0.25753992907091217,0.2588869456432543,0.2597111251745622,0.25994013204426897,0.25951884223100213,0.22515122483136155,0.0055265346604531345,0.2275176733713244,0.26025157902653767,0.2586679212832642,0.2580493632401571,0.0055265346604531345,0.2157806709888035,0.26027144997400836,0.2580004890827271,0.23122523985177565,0.25881758397912435,0.26017211243352223,0.26009334454080163,0.2567786022580739,0.2592460258953557,0.2580568728872543,0.2602116520835973,0.2596326284048935,0.0055265346604531345,0.259432322661013,0.2184415577017529,0.2601799016771452,0.2588993606297075,0.25443746344604556,0.26008318966057925,0.2598474024260215,0.2295737646501374,0.26024538958526555,0.2288159559506609,0.23231146959485285,0.0055265346604531345,0.1085759834687818,0.260172108804372,0.25882429419848485,0.2597104101892449,0.2597756264281478,0.0869794028164759,0.2591295629637894,0.23165514271750293,0.0055265346604531345,0.2581727935225413,0.25159807661144884,0.25952463494336436,0.2597784926295728,0.21936910173109378,0.2590735526492117,0.25706439760811906,0.25178513400185193,0.22926094314338635,0.2597647560626294,0.2595196300514662,0.2583506478580867,0.260229039807429,0.25966701614166504,0.2549257490673278,0.2566343811901296,0.23552673990689793,0.22800688842369093,0.2595386599333579,0.0055265346604531345,0.17164448707626226,0.2536328458953843,0.1684000887798227,0.24999205283655904,0.2580055337032765,0.22907116858125537,0.2589810409372474,0.25978118215921925,0.0055265346604531345,0.2599735545953593,0.25925956388189403,0.26003123984301163,0.2320362939646839,0.25972087619449563,0.25957054489777315,0.2602897203484428,0.2587723562994834,0.2593941115142979,0.259968640874758,0.25750631267648183,0.0055265346604531345,0.25939589008135994,0.26023905126711677,0.24954106301564621,0.22689461845346556,0.22712026330394103,0.0055265346604531345,0.25997693565562763,0.25928495415193503,0.25942522434669035,0.21696625497730326,0.09395806969245246,0.2595755954530888,0.2599726914236883,0.25661690650345714,0.2579170487010466,0.2592806729514664,0.0055265346604531345,0.25121630768691805,0.2601063832303302,0.2602128016209736,0.2587937988935096,0.259659445139648,0.2570699414084287,0.25980326153108735,0.25250048108610856,0.2583853278009856,0.2598779591671245,0.2504721305336949,0.2598615553919898,0.25938210339750223,0.2602121735374394,0.21296608480257068,0.23336665633630677,0.2602296162226865,0.2659280370505061,0.2644702232226721,0.23213197117970022,0.26407752081532976,0.2634132038596865,0.264089236370088,0.26255799459631757,0.26336985393121254,0.2627723231246271,0.26257804739462165,0.2630475553375634,0.26248546759835406,0.26279758436900497,0.2626973560979489,0.26284614233050657,0.26276785447195183,0.26269515678039623,0.2627237365342373,0.2627172907433007,0.2625337444255557,0.26245179314675704,0.26291899194897744,0.2625354649768896,0.21318859713604663,0.261363314721298,0.26177769104624476,0.2614340161318376,0.2613585632652541,0.262799275144951,0.2629786352805573],\"type\":\"scatter\",\"xaxis\":\"x5\",\"yaxis\":\"y5\"},{\"marker\":{\"color\":[0,1,2,3,4,5,6,7,8,9,10,11,12,13,14,15,16,17,18,19,20,21,22,23,24,25,26,27,28,29,30,31,32,33,34,35,36,37,38,39,40,41,42,43,44,45,46,47,48,49,50,51,52,53,54,55,56,57,58,59,60,61,62,63,64,65,66,67,68,69,70,71,72,73,74,75,76,77,78,79,80,81,82,83,84,85,86,87,88,89,90,91,92,93,94,95,96,97,98,99,100,101,102,103,104,105,106,107,108,109,110,111,112,113,114,115,116,117,118,119,120,121,122,123,124,125,126,127,128,129,130,131,132,133,134,135,136,137,138,139,140,141,142,143,144,145,146,147,148,149,150,151,152,153,154,155,156,157,158,159,160,161,162,163,164,165,166,167,168,169,170,171,172,173,174,175,176,177,178,179,180,181,182,183,184,185,186,187,188,189,190,191,192,193,194,195,196,197,198,199,200,201,202,203,204,205,206,207,208,209,210,211,212,213,214,215,216,217,218,219,220,221,222,223,224,225,226,227,228,229,230,231,232,233,234,235,236,237,238,239,240,241,242,243,244,245,246,247,248,249,250,251,252,253,254,255,256,257,258,259,260,261,262,263,264,265,266,267,268,269,270,271,272,273,274,275,276,277,278,279,280,281,282,283,284,285,286,287,288,289,290,291,292,293,294,295,296,297,298,299,300,301,302,303,304,305,306,307,308,309,310,311,312,313,314,315,316,317,318,319,320,321,322,323,324,325,326,327,328,329,330,331,332,333,334,335,336,337,338,339,340,341,342,343,344,345,346,347,348,349,350,351,352,353,354,355,356,357,358,359,360,361,362,363,364,365,366,367,368,369,370,371,372,373,374,375,376,377,378,379,380,381,382,383,384,385,386,387,388,389,390,391,392,393,394,395,396,397,398,399,400,401,402,403,404,405,406,407,408,409,410,411,412,413,414,415,416,417,418,419,420,421,422,423,424,425,426,427,428,429,430,431,432,433,434,435,436,437,438,439,440,441,442,443,444,445,446,447,448,449,450,451,452,453,454,455,456,457,458,459,460,461,462,463,464,465,466,467,468,469,470,471,472,473,474,475,476,477,478,479,480,481,482,483,484,485,486,487,488,489,490,491,492,493,494,495,496,497,498,499,500,501,502,503,504,505,506,507,508,509,510,511,512,513,514,515,516,517,518,519,520,521,522,523,524,525,526,527,528,529,530,531,532,533,534,535,536,537,538,539,540,541,542,543,544,545,546,547,548,549,550,551,552,553,554,555,556,557,558,559,560,561,562,563,564,565,566,567,568,569,570,571,572,573,574,575,576,577,578,579,580,581,582,583,584,585,586,587,588,589,590,591,592,593,594,595,596,597,598,599],\"colorbar\":{\"title\":{\"text\":\"Trial\"},\"x\":1.0,\"xpad\":40},\"colorscale\":[[0.0,\"rgb(247,251,255)\"],[0.125,\"rgb(222,235,247)\"],[0.25,\"rgb(198,219,239)\"],[0.375,\"rgb(158,202,225)\"],[0.5,\"rgb(107,174,214)\"],[0.625,\"rgb(66,146,198)\"],[0.75,\"rgb(33,113,181)\"],[0.875,\"rgb(8,81,156)\"],[1.0,\"rgb(8,48,107)\"]],\"line\":{\"color\":\"Grey\",\"width\":0.5},\"showscale\":false},\"mode\":\"markers\",\"name\":\"Feasible Trial\",\"showlegend\":false,\"x\":[\"cosine\",\"euclidean\",\"euclidean\",\"euclidean\",\"tversky\",\"dice\",\"cosine\",\"cosine\",\"euclidean\",\"tversky\",\"jaccard\",\"asymmetric\",\"asymmetric\",\"asymmetric\",\"cosine\",\"asymmetric\",\"jaccard\",\"dice\",\"dice\",\"dice\",\"dice\",\"dice\",\"dice\",\"dice\",\"dice\",\"dice\",\"dice\",\"dice\",\"dice\",\"dice\",\"jaccard\",\"jaccard\",\"jaccard\",\"jaccard\",\"jaccard\",\"jaccard\",\"jaccard\",\"jaccard\",\"jaccard\",\"jaccard\",\"jaccard\",\"jaccard\",\"jaccard\",\"jaccard\",\"euclidean\",\"tversky\",\"jaccard\",\"jaccard\",\"jaccard\",\"cosine\",\"tversky\",\"jaccard\",\"jaccard\",\"jaccard\",\"jaccard\",\"euclidean\",\"jaccard\",\"jaccard\",\"asymmetric\",\"cosine\",\"jaccard\",\"jaccard\",\"jaccard\",\"jaccard\",\"jaccard\",\"jaccard\",\"tversky\",\"jaccard\",\"euclidean\",\"asymmetric\",\"jaccard\",\"jaccard\",\"jaccard\",\"jaccard\",\"jaccard\",\"jaccard\",\"jaccard\",\"cosine\",\"cosine\",\"cosine\",\"cosine\",\"cosine\",\"cosine\",\"cosine\",\"cosine\",\"cosine\",\"cosine\",\"cosine\",\"cosine\",\"cosine\",\"cosine\",\"cosine\",\"cosine\",\"cosine\",\"cosine\",\"cosine\",\"cosine\",\"cosine\",\"cosine\",\"cosine\",\"cosine\",\"cosine\",\"cosine\",\"cosine\",\"cosine\",\"cosine\",\"cosine\",\"cosine\",\"cosine\",\"cosine\",\"cosine\",\"cosine\",\"cosine\",\"cosine\",\"cosine\",\"cosine\",\"cosine\",\"cosine\",\"cosine\",\"cosine\",\"tversky\",\"cosine\",\"cosine\",\"cosine\",\"cosine\",\"asymmetric\",\"cosine\",\"euclidean\",\"cosine\",\"cosine\",\"cosine\",\"cosine\",\"cosine\",\"cosine\",\"cosine\",\"cosine\",\"cosine\",\"cosine\",\"cosine\",\"cosine\",\"cosine\",\"cosine\",\"cosine\",\"cosine\",\"cosine\",\"tversky\",\"cosine\",\"asymmetric\",\"euclidean\",\"cosine\",\"cosine\",\"cosine\",\"cosine\",\"cosine\",\"cosine\",\"dice\",\"cosine\",\"cosine\",\"cosine\",\"cosine\",\"cosine\",\"cosine\",\"cosine\",\"cosine\",\"cosine\",\"cosine\",\"cosine\",\"cosine\",\"cosine\",\"cosine\",\"cosine\",\"cosine\",\"cosine\",\"cosine\",\"cosine\",\"cosine\",\"cosine\",\"cosine\",\"cosine\",\"asymmetric\",\"tversky\",\"cosine\",\"cosine\",\"cosine\",\"cosine\",\"cosine\",\"euclidean\",\"cosine\",\"dice\",\"cosine\",\"cosine\",\"cosine\",\"cosine\",\"cosine\",\"cosine\",\"cosine\",\"cosine\",\"cosine\",\"cosine\",\"cosine\",\"cosine\",\"cosine\",\"cosine\",\"cosine\",\"cosine\",\"cosine\",\"cosine\",\"cosine\",\"cosine\",\"cosine\",\"cosine\",\"cosine\",\"cosine\",\"cosine\",\"cosine\",\"cosine\",\"cosine\",\"cosine\",\"cosine\",\"cosine\",\"tversky\",\"cosine\",\"cosine\",\"cosine\",\"cosine\",\"asymmetric\",\"cosine\",\"cosine\",\"cosine\",\"euclidean\",\"dice\",\"cosine\",\"cosine\",\"cosine\",\"cosine\",\"cosine\",\"cosine\",\"cosine\",\"cosine\",\"cosine\",\"cosine\",\"cosine\",\"cosine\",\"cosine\",\"cosine\",\"cosine\",\"cosine\",\"cosine\",\"cosine\",\"cosine\",\"cosine\",\"cosine\",\"cosine\",\"cosine\",\"cosine\",\"cosine\",\"cosine\",\"cosine\",\"cosine\",\"tversky\",\"cosine\",\"asymmetric\",\"cosine\",\"cosine\",\"euclidean\",\"cosine\",\"cosine\",\"dice\",\"cosine\",\"cosine\",\"cosine\",\"cosine\",\"cosine\",\"cosine\",\"cosine\",\"cosine\",\"cosine\",\"cosine\",\"cosine\",\"cosine\",\"cosine\",\"cosine\",\"cosine\",\"cosine\",\"cosine\",\"cosine\",\"cosine\",\"tversky\",\"cosine\",\"cosine\",\"euclidean\",\"asymmetric\",\"cosine\",\"cosine\",\"cosine\",\"dice\",\"cosine\",\"cosine\",\"cosine\",\"cosine\",\"cosine\",\"cosine\",\"cosine\",\"cosine\",\"cosine\",\"cosine\",\"cosine\",\"cosine\",\"cosine\",\"cosine\",\"cosine\",\"cosine\",\"cosine\",\"tversky\",\"cosine\",\"asymmetric\",\"cosine\",\"cosine\",\"euclidean\",\"cosine\",\"cosine\",\"cosine\",\"dice\",\"cosine\",\"cosine\",\"cosine\",\"cosine\",\"cosine\",\"cosine\",\"cosine\",\"cosine\",\"cosine\",\"cosine\",\"cosine\",\"cosine\",\"cosine\",\"cosine\",\"cosine\",\"cosine\",\"cosine\",\"tversky\",\"cosine\",\"cosine\",\"asymmetric\",\"cosine\",\"euclidean\",\"cosine\",\"cosine\",\"dice\",\"cosine\",\"cosine\",\"cosine\",\"cosine\",\"cosine\",\"cosine\",\"cosine\",\"cosine\",\"cosine\",\"cosine\",\"cosine\",\"cosine\",\"cosine\",\"cosine\",\"cosine\",\"cosine\",\"cosine\",\"cosine\",\"cosine\",\"tversky\",\"cosine\",\"asymmetric\",\"cosine\",\"cosine\",\"jaccard\",\"euclidean\",\"cosine\",\"cosine\",\"dice\",\"cosine\",\"cosine\",\"cosine\",\"cosine\",\"cosine\",\"cosine\",\"cosine\",\"cosine\",\"cosine\",\"cosine\",\"cosine\",\"cosine\",\"cosine\",\"cosine\",\"cosine\",\"cosine\",\"cosine\",\"cosine\",\"tversky\",\"cosine\",\"cosine\",\"cosine\",\"asymmetric\",\"jaccard\",\"cosine\",\"euclidean\",\"cosine\",\"cosine\",\"dice\",\"cosine\",\"cosine\",\"cosine\",\"cosine\",\"cosine\",\"cosine\",\"cosine\",\"cosine\",\"cosine\",\"cosine\",\"cosine\",\"cosine\",\"cosine\",\"cosine\",\"cosine\",\"cosine\",\"cosine\",\"cosine\",\"cosine\",\"cosine\",\"tversky\",\"asymmetric\",\"jaccard\",\"cosine\",\"cosine\",\"euclidean\",\"cosine\",\"cosine\",\"cosine\",\"dice\",\"cosine\",\"cosine\",\"cosine\",\"cosine\",\"cosine\",\"cosine\",\"cosine\",\"cosine\",\"cosine\",\"cosine\",\"cosine\",\"cosine\",\"cosine\",\"cosine\",\"cosine\",\"cosine\",\"cosine\",\"tversky\",\"cosine\",\"jaccard\",\"cosine\",\"cosine\",\"asymmetric\",\"cosine\",\"euclidean\",\"cosine\",\"cosine\",\"dice\",\"cosine\",\"cosine\",\"cosine\",\"cosine\",\"cosine\",\"cosine\",\"cosine\",\"cosine\",\"cosine\",\"cosine\",\"cosine\",\"cosine\",\"cosine\",\"cosine\",\"cosine\",\"cosine\",\"cosine\",\"cosine\",\"tversky\",\"jaccard\",\"cosine\",\"asymmetric\",\"cosine\",\"cosine\",\"cosine\",\"cosine\",\"euclidean\",\"cosine\",\"dice\",\"cosine\",\"cosine\",\"cosine\",\"cosine\",\"cosine\",\"cosine\",\"cosine\",\"cosine\",\"cosine\",\"cosine\",\"cosine\",\"cosine\",\"cosine\",\"cosine\",\"cosine\",\"cosine\",\"cosine\",\"tversky\",\"jaccard\",\"cosine\",\"cosine\",\"asymmetric\",\"cosine\",\"euclidean\",\"cosine\",\"cosine\",\"dice\",\"cosine\",\"cosine\",\"cosine\",\"cosine\",\"cosine\",\"cosine\",\"cosine\",\"cosine\",\"cosine\",\"cosine\",\"cosine\",\"cosine\",\"cosine\",\"cosine\",\"cosine\",\"cosine\",\"cosine\",\"cosine\",\"tversky\",\"jaccard\",\"cosine\",\"cosine\",\"asymmetric\",\"cosine\",\"cosine\",\"euclidean\",\"cosine\",\"cosine\",\"dice\",\"cosine\",\"cosine\",\"cosine\",\"cosine\",\"cosine\",\"cosine\",\"cosine\",\"cosine\",\"cosine\",\"cosine\",\"cosine\",\"cosine\",\"cosine\",\"cosine\",\"cosine\",\"cosine\",\"cosine\",\"tversky\",\"jaccard\",\"cosine\",\"asymmetric\",\"asymmetric\",\"asymmetric\",\"asymmetric\",\"asymmetric\",\"asymmetric\",\"asymmetric\",\"asymmetric\",\"asymmetric\",\"asymmetric\",\"asymmetric\",\"asymmetric\",\"asymmetric\",\"asymmetric\",\"asymmetric\",\"asymmetric\",\"asymmetric\",\"asymmetric\",\"asymmetric\",\"asymmetric\",\"asymmetric\",\"asymmetric\",\"asymmetric\",\"asymmetric\",\"asymmetric\",\"asymmetric\",\"asymmetric\",\"asymmetric\",\"asymmetric\",\"asymmetric\"],\"y\":[0.23148330284290042,0.13624718955739376,0.1471750754734151,0.17665494281875593,0.22605954763810066,0.20349984418451744,0.1972443703365315,0.19482189997815597,0.17637428068323063,0.22522086925996349,0.22319422054210195,0.2304573118495677,0.17144150147345222,0.2320857319855421,0.23275752848559866,0.23171090388175025,0.2127854379593969,0.23970748561893918,0.240483947366465,0.22505091809824102,0.24092850196791454,0.24090856193617882,0.2355894386586912,0.24176958909342275,0.23873396992488702,0.24254635065272973,0.24957153157159687,0.24888446910334255,0.23541728054090555,0.2516468092914111,0.25443769162528307,0.2548065564830398,0.25372594137621196,0.2542656062806814,0.2510363291879291,0.21729222252899047,0.2542230921973612,0.23936386771471282,0.23272192674389913,0.2430012686796093,0.2445792335742334,0.2508384206817508,0.2555594698275499,0.25216047372169353,0.09889549888703199,0.21599737636144267,0.23142058460597698,0.24626551129669433,0.22726151671351763,0.23969296349398544,0.24756067995173195,0.25530024248415983,0.25560379420324086,0.25571632981331993,0.25565640365780096,0.08043575093375183,0.21855068461434887,0.24773265987949525,0.054672355535981446,0.22372828175047949,0.2358642124673164,0.2553778916070521,0.2568086807011941,0.2558789323947374,0.2552056581054293,0.2455116840403182,0.2152355960719305,0.0055265346604531345,0.11067393242761561,0.22608833450679114,0.233145956015041,0.2547298553411854,0.24897096109001587,0.2576156616761005,0.25744981266166433,0.21698334053455676,0.2575202661872857,0.2561060665645264,0.25578135216037295,0.25494998947199676,0.2538111399898332,0.2559646138359945,0.25582035948664855,0.2559897184094767,0.2559974523038986,0.2533678262625595,0.2562629450364597,0.2523955512395206,0.25646652209648685,0.2501219720024811,0.2485134954588148,0.25647034080192216,0.2551863355191928,0.2565211778203894,0.2565991891007239,0.25422240615921754,0.24847896854246318,0.2578990980248367,0.25753610102787367,0.25964283046146747,0.25917266297874675,0.258279823411374,0.2598612810007102,0.2596685152716735,0.2593783948294804,0.25918602878015073,0.25919092214299544,0.25919132087475044,0.2583387599220447,0.2585890395914807,0.21708510837470243,0.2587061884464763,0.2589839874559213,0.2589583376145547,0.25863546012247757,0.25885640146171823,0.25970924597612643,0.2600522358728864,0.2597082707062577,0.25826614004087733,0.21113037843336824,0.2599951255124881,0.2600831369621336,0.26007342166596137,0.2602208581514182,0.124809511033937,0.24869521280564416,0.055944053866720675,0.0055265346604531345,0.2600945614984461,0.260019690529778,0.2602939568788393,0.26015952543770826,0.2600300024230263,0.2601363510062749,0.2600263645507829,0.2600216894749122,0.25986158212031707,0.23112299979914588,0.258406550449704,0.2563362950505154,0.25987593054671143,0.25809501891627473,0.2600722602929655,0.2592606292932317,0.23251582536931018,0.25844008266429297,0.24438533737019758,0.1047407367488387,0.25840097475794127,0.2563216651426966,0.2598256616300174,0.24862544044376894,0.2601035905209292,0.2602726153027083,0.22736937727738943,0.2585028479772481,0.0055265346604531345,0.2307749488633813,0.2601695123332381,0.2590679863270371,0.2601695123332381,0.2601854248411634,0.25797448558814523,0.26021846822095585,0.2588010860733287,0.26015684881002554,0.25744117476851935,0.0055265346604531345,0.2602098221402436,0.0055265346604531345,0.2602967190708516,0.26030777685753526,0.2587079872788002,0.2602398571830838,0.2600797939695729,0.25878144958385246,0.2601141247441451,0.2580234098585182,0.24964093523736391,0.23835958795670487,0.2601999026823316,0.25908841948201733,0.0055265346604531345,0.26014436975609867,0.252680413487203,0.14577658713529842,0.25909516298509416,0.25835488067699763,0.25841751302486693,0.2593481385474267,0.2602909363743621,0.26020579220238493,0.25996299344736007,0.0055265346604531345,0.26021464860255117,0.25996258609179124,0.260148938520933,0.251475362966174,0.2592997343508444,0.26021746435997634,0.26026967279496155,0.25973168609259234,0.25956870479820804,0.15723541587884352,0.2602150234922539,0.2587655274981736,0.2601907058553735,0.2579695019688275,0.2597590106646209,0.26020274354136347,0.26021746435997634,0.25918609774315415,0.2602304128932977,0.0055265346604531345,0.2600048907447058,0.25898286532965625,0.26003591850712676,0.25955447200453297,0.25835700679338836,0.23143347632150107,0.2601496975882339,0.26023387066960185,0.2592878663097236,0.25947503718498066,0.12081679500471895,0.23194952716433268,0.2571584636359604,0.2593115432955166,0.22653160301581338,0.23114123541862147,0.2602284434081664,0.260170469264755,0.25900203441061187,0.0055265346604531345,0.26020109143156656,0.2593904519297865,0.2601949006087537,0.25972130209036765,0.25880710274682955,0.0055265346604531345,0.2602256159803388,0.25989067700252066,0.2601754809322693,0.2596268953818736,0.2602288515369037,0.25951884223100213,0.26018302358003814,0.2590879673112943,0.25958295616772503,0.26018595633990504,0.25955719105953917,0.25787750019155997,0.25930265616957976,0.2597042449670595,0.0055265346604531345,0.2602584809607259,0.23011156573280486,0.2587367168817073,0.0055265346604531345,0.26007023824899744,0.20937287642597688,0.26028008884807147,0.2593807253561915,0.09553855607140857,0.2599422480992969,0.26010841108429805,0.22476821283625031,0.259786569921156,0.2600146054175172,0.25937865695511186,0.0055265346604531345,0.2590838442103591,0.25808956918456116,0.2602203281578796,0.2597317041640639,0.2602112037161034,0.25957325982143475,0.258877519296107,0.2602381414271046,0.22945208899693456,0.25744764276503185,0.2601389618318306,0.25862269615460065,0.0055265346604531345,0.25943561873427423,0.2602278701134813,0.23464555602847445,0.2599600968746837,0.25109521608492075,0.22616600296427292,0.24902297133649398,0.15980766326376777,0.2585037107282405,0.25959143225865944,0.23005291874778028,0.0055265346604531345,0.2600550790310071,0.2587447097389494,0.25083312841401195,0.2594651705326456,0.22958111317103339,0.24941654283595271,0.2579482547122322,0.2601834638208213,0.2590896987297058,0.25994874879872176,0.2566554050110399,0.25015859489277437,0.2600386104686468,0.2592319521116402,0.2585951255947024,0.26008564469795814,0.21741802503013158,0.2539877203172722,0.0055265346604531345,0.2589570531637072,0.25770568201608424,0.0880585795268939,0.25938500137216963,0.2597812568469251,0.23116128426210455,0.2291441194798381,0.24985205544205963,0.15850607801390945,0.26016129018239126,0.2597370506135189,0.2600367201176465,0.25717057614970573,0.24831692697656357,0.2582856987402793,0.25941580123030095,0.25902385793599475,0.2602165828964806,0.0055265346604531345,0.259047320965904,0.2602042368707474,0.2582206446586085,0.26008694878407146,0.25971224492230577,0.2218098485066912,0.25197504054199743,0.25329318927483335,0.22890498543350976,0.26016787043909445,0.24097187263705983,0.2596410261874563,0.0055265346604531345,0.2263192919508843,0.2602107262461635,0.2591413763276285,0.2599697764094289,0.2599035287571607,0.24912732627669434,0.25853454670141957,0.0055265346604531345,0.2602479563416023,0.2570647641626406,0.2597794014276498,0.26011505151287,0.258378248473657,0.2593672598844204,0.2594305608338029,0.2602377722326518,0.21747323800604795,0.25786216947937035,0.2589923283179569,0.22930192799671553,0.23437172886744215,0.259471311198238,0.12423199534280256,0.2585635275207351,0.2601621662418898,0.2291377094869344,0.09136125441898482,0.0055265346604531345,0.26025539263972364,0.22613615098541356,0.25812082386342944,0.2587782732977528,0.26022759304269494,0.0055265346604531345,0.26023420611156195,0.2599532557543383,0.25122404967421585,0.2595217911182349,0.21837846063315292,0.2585744677146846,0.2525903908945561,0.23135724063380453,0.25050400302757386,0.2593617169659936,0.2600063671313236,0.259550281077439,0.2576169219628822,0.25864445652737356,0.21526253969522138,0.1587515171345776,0.2599170715747089,0.2590987364778049,0.25161241253935335,0.0055265346604531345,0.2602354350090934,0.21568719784113383,0.2582417723800057,0.26021629845031924,0.2249226784457174,0.26004879526486435,0.25969059714374343,0.21984525305723507,0.0055265346604531345,0.26030932919014205,0.22957241721625093,0.2599196639567832,0.25736517507920914,0.2602943453657022,0.25878144958385246,0.2596474649178281,0.26001368722739227,0.0055265346604531345,0.25914461700733715,0.2602909363743621,0.26022258635489964,0.2582244198596249,0.25999384532474223,0.25966079018410293,0.2587475879629773,0.21966113663044595,0.2077995646213308,0.22745558700225602,0.25940255367569615,0.21869407353698395,0.0730533295602892,0.2583681131252991,0.2593052433093101,0.0055265346604531345,0.2575467943131183,0.2602588626378052,0.2588132446671249,0.2601430863086486,0.25980703888924817,0.2594272506890332,0.25830630997380244,0.0055265346604531345,0.26016596222143695,0.25928500089234047,0.2597664437273418,0.2601555057914077,0.25565182482116927,0.25753992907091217,0.2588869456432543,0.2597111251745622,0.25994013204426897,0.25951884223100213,0.22515122483136155,0.0055265346604531345,0.2275176733713244,0.26025157902653767,0.2586679212832642,0.2580493632401571,0.0055265346604531345,0.2157806709888035,0.26027144997400836,0.2580004890827271,0.23122523985177565,0.25881758397912435,0.26017211243352223,0.26009334454080163,0.2567786022580739,0.2592460258953557,0.2580568728872543,0.2602116520835973,0.2596326284048935,0.0055265346604531345,0.259432322661013,0.2184415577017529,0.2601799016771452,0.2588993606297075,0.25443746344604556,0.26008318966057925,0.2598474024260215,0.2295737646501374,0.26024538958526555,0.2288159559506609,0.23231146959485285,0.0055265346604531345,0.1085759834687818,0.260172108804372,0.25882429419848485,0.2597104101892449,0.2597756264281478,0.0869794028164759,0.2591295629637894,0.23165514271750293,0.0055265346604531345,0.2581727935225413,0.25159807661144884,0.25952463494336436,0.2597784926295728,0.21936910173109378,0.2590735526492117,0.25706439760811906,0.25178513400185193,0.22926094314338635,0.2597647560626294,0.2595196300514662,0.2583506478580867,0.260229039807429,0.25966701614166504,0.2549257490673278,0.2566343811901296,0.23552673990689793,0.22800688842369093,0.2595386599333579,0.0055265346604531345,0.17164448707626226,0.2536328458953843,0.1684000887798227,0.24999205283655904,0.2580055337032765,0.22907116858125537,0.2589810409372474,0.25978118215921925,0.0055265346604531345,0.2599735545953593,0.25925956388189403,0.26003123984301163,0.2320362939646839,0.25972087619449563,0.25957054489777315,0.2602897203484428,0.2587723562994834,0.2593941115142979,0.259968640874758,0.25750631267648183,0.0055265346604531345,0.25939589008135994,0.26023905126711677,0.24954106301564621,0.22689461845346556,0.22712026330394103,0.0055265346604531345,0.25997693565562763,0.25928495415193503,0.25942522434669035,0.21696625497730326,0.09395806969245246,0.2595755954530888,0.2599726914236883,0.25661690650345714,0.2579170487010466,0.2592806729514664,0.0055265346604531345,0.25121630768691805,0.2601063832303302,0.2602128016209736,0.2587937988935096,0.259659445139648,0.2570699414084287,0.25980326153108735,0.25250048108610856,0.2583853278009856,0.2598779591671245,0.2504721305336949,0.2598615553919898,0.25938210339750223,0.2602121735374394,0.21296608480257068,0.23336665633630677,0.2602296162226865,0.2659280370505061,0.2644702232226721,0.23213197117970022,0.26407752081532976,0.2634132038596865,0.264089236370088,0.26255799459631757,0.26336985393121254,0.2627723231246271,0.26257804739462165,0.2630475553375634,0.26248546759835406,0.26279758436900497,0.2626973560979489,0.26284614233050657,0.26276785447195183,0.26269515678039623,0.2627237365342373,0.2627172907433007,0.2625337444255557,0.26245179314675704,0.26291899194897744,0.2625354649768896,0.21318859713604663,0.261363314721298,0.26177769104624476,0.2614340161318376,0.2613585632652541,0.262799275144951,0.2629786352805573],\"type\":\"scatter\",\"xaxis\":\"x6\",\"yaxis\":\"y6\"},{\"marker\":{\"color\":[1,2,3,8,44,55,68,127,148,186,229,264,290,318,345,374,403,432,461,491,517,546],\"colorbar\":{\"title\":{\"text\":\"Trial\"},\"x\":1.0,\"xpad\":40},\"colorscale\":[[0.0,\"rgb(247,251,255)\"],[0.125,\"rgb(222,235,247)\"],[0.25,\"rgb(198,219,239)\"],[0.375,\"rgb(158,202,225)\"],[0.5,\"rgb(107,174,214)\"],[0.625,\"rgb(66,146,198)\"],[0.75,\"rgb(33,113,181)\"],[0.875,\"rgb(8,81,156)\"],[1.0,\"rgb(8,48,107)\"]],\"line\":{\"color\":\"Grey\",\"width\":0.5},\"showscale\":false},\"mode\":\"markers\",\"name\":\"Feasible Trial\",\"showlegend\":false,\"x\":[\"lin\",\"exp\",\"log\",\"lin\",\"exp\",\"log\",\"log\",\"exp\",\"lin\",\"log\",\"exp\",\"lin\",\"exp\",\"log\",\"lin\",\"lin\",\"log\",\"exp\",\"exp\",\"lin\",\"log\",\"exp\"],\"y\":[0.13624718955739376,0.1471750754734151,0.17665494281875593,0.17637428068323063,0.09889549888703199,0.08043575093375183,0.11067393242761561,0.055944053866720675,0.1047407367488387,0.14577658713529842,0.22653160301581338,0.09553855607140857,0.22616600296427292,0.0880585795268939,0.24097187263705983,0.09136125441898482,0.21568719784113383,0.0730533295602892,0.2157806709888035,0.0869794028164759,0.1684000887798227,0.09395806969245246],\"type\":\"scatter\",\"xaxis\":\"x7\",\"yaxis\":\"y7\"},{\"marker\":{\"color\":[0,1,2,3,4,5,6,7,8,9,10,11,12,13,14,15,16,17,18,19,20,21,22,23,24,25,26,27,28,29,30,31,32,33,34,35,36,37,38,39,40,41,42,43,44,45,46,47,48,49,50,51,52,53,54,55,56,57,58,59,60,61,62,63,64,65,66,67,68,69,70,71,72,73,74,75,76,77,78,79,80,81,82,83,84,85,86,87,88,89,90,91,92,93,94,95,96,97,98,99,100,101,102,103,104,105,106,107,108,109,110,111,112,113,114,115,116,117,118,119,120,121,122,123,124,125,126,127,128,129,130,131,132,133,134,135,136,137,138,139,140,141,142,143,144,145,146,147,148,149,150,151,152,153,154,155,156,157,158,159,160,161,162,163,164,165,166,167,168,169,170,171,172,173,174,175,176,177,178,179,180,181,182,183,184,185,186,187,188,189,190,191,192,193,194,195,196,197,198,199,200,201,202,203,204,205,206,207,208,209,210,211,212,213,214,215,216,217,218,219,220,221,222,223,224,225,226,227,228,229,230,231,232,233,234,235,236,237,238,239,240,241,242,243,244,245,246,247,248,249,250,251,252,253,254,255,256,257,258,259,260,261,262,263,264,265,266,267,268,269,270,271,272,273,274,275,276,277,278,279,280,281,282,283,284,285,286,287,288,289,290,291,292,293,294,295,296,297,298,299,300,301,302,303,304,305,306,307,308,309,310,311,312,313,314,315,316,317,318,319,320,321,322,323,324,325,326,327,328,329,330,331,332,333,334,335,336,337,338,339,340,341,342,343,344,345,346,347,348,349,350,351,352,353,354,355,356,357,358,359,360,361,362,363,364,365,366,367,368,369,370,371,372,373,374,375,376,377,378,379,380,381,382,383,384,385,386,387,388,389,390,391,392,393,394,395,396,397,398,399,400,401,402,403,404,405,406,407,408,409,410,411,412,413,414,415,416,417,418,419,420,421,422,423,424,425,426,427,428,429,430,431,432,433,434,435,436,437,438,439,440,441,442,443,444,445,446,447,448,449,450,451,452,453,454,455,456,457,458,459,460,461,462,463,464,465,466,467,468,469,470,471,472,473,474,475,476,477,478,479,480,481,482,483,484,485,486,487,488,489,490,491,492,493,494,495,496,497,498,499,500,501,502,503,504,505,506,507,508,509,510,511,512,513,514,515,516,517,518,519,520,521,522,523,524,525,526,527,528,529,530,531,532,533,534,535,536,537,538,539,540,541,542,543,544,545,546,547,548,549,550,551,552,553,554,555,556,557,558,559,560,561,562,563,564,565,566,567,568,569,570,571,572,573,574,575,576,577,578,579,580,581,582,583,584,585,586,587,588,589,590,591,592,593,594,595,596,597,598,599],\"colorbar\":{\"title\":{\"text\":\"Trial\"},\"x\":1.0,\"xpad\":40},\"colorscale\":[[0.0,\"rgb(247,251,255)\"],[0.125,\"rgb(222,235,247)\"],[0.25,\"rgb(198,219,239)\"],[0.375,\"rgb(158,202,225)\"],[0.5,\"rgb(107,174,214)\"],[0.625,\"rgb(66,146,198)\"],[0.75,\"rgb(33,113,181)\"],[0.875,\"rgb(8,81,156)\"],[1.0,\"rgb(8,48,107)\"]],\"line\":{\"color\":\"Grey\",\"width\":0.5},\"showscale\":false},\"mode\":\"markers\",\"name\":\"Feasible Trial\",\"showlegend\":false,\"x\":[28,707,529,93,389,596,404,405,88,576,216,257,18,195,227,240,160,314,297,347,303,306,479,326,450,304,138,150,135,69,65,61,64,59,42,2,63,107,749,49,182,103,51,9,108,36,84,188,630,128,70,53,31,25,22,3,15,31,97,162,264,38,20,27,29,30,116,0,83,84,28,45,50,19,23,2,20,83,86,121,144,77,84,83,75,161,71,204,72,367,545,75,103,65,62,128,447,55,62,15,12,50,17,16,14,12,12,11,9,43,2,42,40,42,45,43,15,19,14,8,9,16,17,17,20,26,619,2,0,30,31,24,26,30,27,30,29,34,31,56,96,34,61,31,42,30,55,31,277,54,96,34,697,31,28,69,53,0,28,26,45,26,28,63,27,47,26,71,0,22,0,21,21,48,21,19,47,18,60,420,22,24,41,0,19,239,513,41,23,56,39,20,18,15,0,20,15,18,332,42,24,23,14,38,1,24,53,27,61,35,27,24,43,24,0,17,47,30,12,57,34,22,26,11,39,27,50,73,11,27,42,25,23,10,0,24,39,20,13,53,0,24,34,19,37,22,12,23,46,12,25,38,61,11,37,0,24,18,49,0,30,51,21,39,67,15,31,49,14,29,11,0,41,62,23,36,18,12,47,22,12,72,25,53,0,38,18,38,16,373,27,675,1,55,37,16,0,26,52,397,38,15,558,65,26,43,16,86,465,29,11,53,30,14,182,0,44,67,24,39,14,31,52,504,1,23,36,16,76,741,55,38,11,25,0,46,26,60,30,13,269,286,210,46,26,12,37,0,64,24,44,16,33,596,51,0,22,76,35,25,55,11,40,22,30,64,44,11,23,38,12,52,26,11,37,0,25,82,62,47,24,0,21,15,347,38,22,52,243,36,421,11,29,12,68,51,32,1,15,42,25,0,22,40,59,21,98,16,36,49,0,22,14,31,70,22,47,12,30,0,40,20,18,59,32,13,48,26,12,78,38,24,641,57,11,0,38,24,48,26,14,38,58,0,26,41,14,26,112,70,47,13,32,12,32,0,58,24,45,20,0,40,22,64,35,51,19,30,84,11,47,28,12,0,38,63,24,48,162,17,34,13,27,54,35,0,70,25,47,14,35,21,45,24,0,60,326,13,35,25,46,76,304,11,35,12,56,25,36,137,89,24,49,12,0,34,194,224,487,63,26,46,14,0,29,40,20,60,13,37,23,49,11,26,70,0,39,20,536,17,49,0,31,15,39,23,53,12,32,11,61,40,0,361,24,26,47,13,76,35,250,56,19,417,35,11,27,46,12,28,63,80,105,85,111,95,124,110,125,122,121,127,121,123,121,121,124,122,123,127,129,119,125,125,149,141,148,149,122,119],\"y\":[0.23148330284290042,0.13624718955739376,0.1471750754734151,0.17665494281875593,0.22605954763810066,0.20349984418451744,0.1972443703365315,0.19482189997815597,0.17637428068323063,0.22522086925996349,0.22319422054210195,0.2304573118495677,0.17144150147345222,0.2320857319855421,0.23275752848559866,0.23171090388175025,0.2127854379593969,0.23970748561893918,0.240483947366465,0.22505091809824102,0.24092850196791454,0.24090856193617882,0.2355894386586912,0.24176958909342275,0.23873396992488702,0.24254635065272973,0.24957153157159687,0.24888446910334255,0.23541728054090555,0.2516468092914111,0.25443769162528307,0.2548065564830398,0.25372594137621196,0.2542656062806814,0.2510363291879291,0.21729222252899047,0.2542230921973612,0.23936386771471282,0.23272192674389913,0.2430012686796093,0.2445792335742334,0.2508384206817508,0.2555594698275499,0.25216047372169353,0.09889549888703199,0.21599737636144267,0.23142058460597698,0.24626551129669433,0.22726151671351763,0.23969296349398544,0.24756067995173195,0.25530024248415983,0.25560379420324086,0.25571632981331993,0.25565640365780096,0.08043575093375183,0.21855068461434887,0.24773265987949525,0.054672355535981446,0.22372828175047949,0.2358642124673164,0.2553778916070521,0.2568086807011941,0.2558789323947374,0.2552056581054293,0.2455116840403182,0.2152355960719305,0.0055265346604531345,0.11067393242761561,0.22608833450679114,0.233145956015041,0.2547298553411854,0.24897096109001587,0.2576156616761005,0.25744981266166433,0.21698334053455676,0.2575202661872857,0.2561060665645264,0.25578135216037295,0.25494998947199676,0.2538111399898332,0.2559646138359945,0.25582035948664855,0.2559897184094767,0.2559974523038986,0.2533678262625595,0.2562629450364597,0.2523955512395206,0.25646652209648685,0.2501219720024811,0.2485134954588148,0.25647034080192216,0.2551863355191928,0.2565211778203894,0.2565991891007239,0.25422240615921754,0.24847896854246318,0.2578990980248367,0.25753610102787367,0.25964283046146747,0.25917266297874675,0.258279823411374,0.2598612810007102,0.2596685152716735,0.2593783948294804,0.25918602878015073,0.25919092214299544,0.25919132087475044,0.2583387599220447,0.2585890395914807,0.21708510837470243,0.2587061884464763,0.2589839874559213,0.2589583376145547,0.25863546012247757,0.25885640146171823,0.25970924597612643,0.2600522358728864,0.2597082707062577,0.25826614004087733,0.21113037843336824,0.2599951255124881,0.2600831369621336,0.26007342166596137,0.2602208581514182,0.124809511033937,0.24869521280564416,0.055944053866720675,0.0055265346604531345,0.2600945614984461,0.260019690529778,0.2602939568788393,0.26015952543770826,0.2600300024230263,0.2601363510062749,0.2600263645507829,0.2600216894749122,0.25986158212031707,0.23112299979914588,0.258406550449704,0.2563362950505154,0.25987593054671143,0.25809501891627473,0.2600722602929655,0.2592606292932317,0.23251582536931018,0.25844008266429297,0.24438533737019758,0.1047407367488387,0.25840097475794127,0.2563216651426966,0.2598256616300174,0.24862544044376894,0.2601035905209292,0.2602726153027083,0.22736937727738943,0.2585028479772481,0.0055265346604531345,0.2307749488633813,0.2601695123332381,0.2590679863270371,0.2601695123332381,0.2601854248411634,0.25797448558814523,0.26021846822095585,0.2588010860733287,0.26015684881002554,0.25744117476851935,0.0055265346604531345,0.2602098221402436,0.0055265346604531345,0.2602967190708516,0.26030777685753526,0.2587079872788002,0.2602398571830838,0.2600797939695729,0.25878144958385246,0.2601141247441451,0.2580234098585182,0.24964093523736391,0.23835958795670487,0.2601999026823316,0.25908841948201733,0.0055265346604531345,0.26014436975609867,0.252680413487203,0.14577658713529842,0.25909516298509416,0.25835488067699763,0.25841751302486693,0.2593481385474267,0.2602909363743621,0.26020579220238493,0.25996299344736007,0.0055265346604531345,0.26021464860255117,0.25996258609179124,0.260148938520933,0.251475362966174,0.2592997343508444,0.26021746435997634,0.26026967279496155,0.25973168609259234,0.25956870479820804,0.15723541587884352,0.2602150234922539,0.2587655274981736,0.2601907058553735,0.2579695019688275,0.2597590106646209,0.26020274354136347,0.26021746435997634,0.25918609774315415,0.2602304128932977,0.0055265346604531345,0.2600048907447058,0.25898286532965625,0.26003591850712676,0.25955447200453297,0.25835700679338836,0.23143347632150107,0.2601496975882339,0.26023387066960185,0.2592878663097236,0.25947503718498066,0.12081679500471895,0.23194952716433268,0.2571584636359604,0.2593115432955166,0.22653160301581338,0.23114123541862147,0.2602284434081664,0.260170469264755,0.25900203441061187,0.0055265346604531345,0.26020109143156656,0.2593904519297865,0.2601949006087537,0.25972130209036765,0.25880710274682955,0.0055265346604531345,0.2602256159803388,0.25989067700252066,0.2601754809322693,0.2596268953818736,0.2602288515369037,0.25951884223100213,0.26018302358003814,0.2590879673112943,0.25958295616772503,0.26018595633990504,0.25955719105953917,0.25787750019155997,0.25930265616957976,0.2597042449670595,0.0055265346604531345,0.2602584809607259,0.23011156573280486,0.2587367168817073,0.0055265346604531345,0.26007023824899744,0.20937287642597688,0.26028008884807147,0.2593807253561915,0.09553855607140857,0.2599422480992969,0.26010841108429805,0.22476821283625031,0.259786569921156,0.2600146054175172,0.25937865695511186,0.0055265346604531345,0.2590838442103591,0.25808956918456116,0.2602203281578796,0.2597317041640639,0.2602112037161034,0.25957325982143475,0.258877519296107,0.2602381414271046,0.22945208899693456,0.25744764276503185,0.2601389618318306,0.25862269615460065,0.0055265346604531345,0.25943561873427423,0.2602278701134813,0.23464555602847445,0.2599600968746837,0.25109521608492075,0.22616600296427292,0.24902297133649398,0.15980766326376777,0.2585037107282405,0.25959143225865944,0.23005291874778028,0.0055265346604531345,0.2600550790310071,0.2587447097389494,0.25083312841401195,0.2594651705326456,0.22958111317103339,0.24941654283595271,0.2579482547122322,0.2601834638208213,0.2590896987297058,0.25994874879872176,0.2566554050110399,0.25015859489277437,0.2600386104686468,0.2592319521116402,0.2585951255947024,0.26008564469795814,0.21741802503013158,0.2539877203172722,0.0055265346604531345,0.2589570531637072,0.25770568201608424,0.0880585795268939,0.25938500137216963,0.2597812568469251,0.23116128426210455,0.2291441194798381,0.24985205544205963,0.15850607801390945,0.26016129018239126,0.2597370506135189,0.2600367201176465,0.25717057614970573,0.24831692697656357,0.2582856987402793,0.25941580123030095,0.25902385793599475,0.2602165828964806,0.0055265346604531345,0.259047320965904,0.2602042368707474,0.2582206446586085,0.26008694878407146,0.25971224492230577,0.2218098485066912,0.25197504054199743,0.25329318927483335,0.22890498543350976,0.26016787043909445,0.24097187263705983,0.2596410261874563,0.0055265346604531345,0.2263192919508843,0.2602107262461635,0.2591413763276285,0.2599697764094289,0.2599035287571607,0.24912732627669434,0.25853454670141957,0.0055265346604531345,0.2602479563416023,0.2570647641626406,0.2597794014276498,0.26011505151287,0.258378248473657,0.2593672598844204,0.2594305608338029,0.2602377722326518,0.21747323800604795,0.25786216947937035,0.2589923283179569,0.22930192799671553,0.23437172886744215,0.259471311198238,0.12423199534280256,0.2585635275207351,0.2601621662418898,0.2291377094869344,0.09136125441898482,0.0055265346604531345,0.26025539263972364,0.22613615098541356,0.25812082386342944,0.2587782732977528,0.26022759304269494,0.0055265346604531345,0.26023420611156195,0.2599532557543383,0.25122404967421585,0.2595217911182349,0.21837846063315292,0.2585744677146846,0.2525903908945561,0.23135724063380453,0.25050400302757386,0.2593617169659936,0.2600063671313236,0.259550281077439,0.2576169219628822,0.25864445652737356,0.21526253969522138,0.1587515171345776,0.2599170715747089,0.2590987364778049,0.25161241253935335,0.0055265346604531345,0.2602354350090934,0.21568719784113383,0.2582417723800057,0.26021629845031924,0.2249226784457174,0.26004879526486435,0.25969059714374343,0.21984525305723507,0.0055265346604531345,0.26030932919014205,0.22957241721625093,0.2599196639567832,0.25736517507920914,0.2602943453657022,0.25878144958385246,0.2596474649178281,0.26001368722739227,0.0055265346604531345,0.25914461700733715,0.2602909363743621,0.26022258635489964,0.2582244198596249,0.25999384532474223,0.25966079018410293,0.2587475879629773,0.21966113663044595,0.2077995646213308,0.22745558700225602,0.25940255367569615,0.21869407353698395,0.0730533295602892,0.2583681131252991,0.2593052433093101,0.0055265346604531345,0.2575467943131183,0.2602588626378052,0.2588132446671249,0.2601430863086486,0.25980703888924817,0.2594272506890332,0.25830630997380244,0.0055265346604531345,0.26016596222143695,0.25928500089234047,0.2597664437273418,0.2601555057914077,0.25565182482116927,0.25753992907091217,0.2588869456432543,0.2597111251745622,0.25994013204426897,0.25951884223100213,0.22515122483136155,0.0055265346604531345,0.2275176733713244,0.26025157902653767,0.2586679212832642,0.2580493632401571,0.0055265346604531345,0.2157806709888035,0.26027144997400836,0.2580004890827271,0.23122523985177565,0.25881758397912435,0.26017211243352223,0.26009334454080163,0.2567786022580739,0.2592460258953557,0.2580568728872543,0.2602116520835973,0.2596326284048935,0.0055265346604531345,0.259432322661013,0.2184415577017529,0.2601799016771452,0.2588993606297075,0.25443746344604556,0.26008318966057925,0.2598474024260215,0.2295737646501374,0.26024538958526555,0.2288159559506609,0.23231146959485285,0.0055265346604531345,0.1085759834687818,0.260172108804372,0.25882429419848485,0.2597104101892449,0.2597756264281478,0.0869794028164759,0.2591295629637894,0.23165514271750293,0.0055265346604531345,0.2581727935225413,0.25159807661144884,0.25952463494336436,0.2597784926295728,0.21936910173109378,0.2590735526492117,0.25706439760811906,0.25178513400185193,0.22926094314338635,0.2597647560626294,0.2595196300514662,0.2583506478580867,0.260229039807429,0.25966701614166504,0.2549257490673278,0.2566343811901296,0.23552673990689793,0.22800688842369093,0.2595386599333579,0.0055265346604531345,0.17164448707626226,0.2536328458953843,0.1684000887798227,0.24999205283655904,0.2580055337032765,0.22907116858125537,0.2589810409372474,0.25978118215921925,0.0055265346604531345,0.2599735545953593,0.25925956388189403,0.26003123984301163,0.2320362939646839,0.25972087619449563,0.25957054489777315,0.2602897203484428,0.2587723562994834,0.2593941115142979,0.259968640874758,0.25750631267648183,0.0055265346604531345,0.25939589008135994,0.26023905126711677,0.24954106301564621,0.22689461845346556,0.22712026330394103,0.0055265346604531345,0.25997693565562763,0.25928495415193503,0.25942522434669035,0.21696625497730326,0.09395806969245246,0.2595755954530888,0.2599726914236883,0.25661690650345714,0.2579170487010466,0.2592806729514664,0.0055265346604531345,0.25121630768691805,0.2601063832303302,0.2602128016209736,0.2587937988935096,0.259659445139648,0.2570699414084287,0.25980326153108735,0.25250048108610856,0.2583853278009856,0.2598779591671245,0.2504721305336949,0.2598615553919898,0.25938210339750223,0.2602121735374394,0.21296608480257068,0.23336665633630677,0.2602296162226865,0.2659280370505061,0.2644702232226721,0.23213197117970022,0.26407752081532976,0.2634132038596865,0.264089236370088,0.26255799459631757,0.26336985393121254,0.2627723231246271,0.26257804739462165,0.2630475553375634,0.26248546759835406,0.26279758436900497,0.2626973560979489,0.26284614233050657,0.26276785447195183,0.26269515678039623,0.2627237365342373,0.2627172907433007,0.2625337444255557,0.26245179314675704,0.26291899194897744,0.2625354649768896,0.21318859713604663,0.261363314721298,0.26177769104624476,0.2614340161318376,0.2613585632652541,0.262799275144951,0.2629786352805573],\"type\":\"scatter\",\"xaxis\":\"x8\",\"yaxis\":\"y8\"},{\"marker\":{\"color\":[4,9,45,50,66,120,145,180,220,259,287,313,340,368,396,427,454,483,511,539,567],\"colorbar\":{\"title\":{\"text\":\"Trial\"},\"x\":1.0,\"xpad\":40},\"colorscale\":[[0.0,\"rgb(247,251,255)\"],[0.125,\"rgb(222,235,247)\"],[0.25,\"rgb(198,219,239)\"],[0.375,\"rgb(158,202,225)\"],[0.5,\"rgb(107,174,214)\"],[0.625,\"rgb(66,146,198)\"],[0.75,\"rgb(33,113,181)\"],[0.875,\"rgb(8,81,156)\"],[1.0,\"rgb(8,48,107)\"]],\"line\":{\"color\":\"Grey\",\"width\":0.5},\"showscale\":false},\"mode\":\"markers\",\"name\":\"Feasible Trial\",\"showlegend\":false,\"x\":[0.002773552710161331,0.012186413739336377,1.9589324692384469,1.3266837259233304,0.8306481932855818,0.8067298376548713,1.7113331433700558,0.44645192794332345,1.30076447023733,0.4756336408642483,1.3669547158153499,0.46900337037410833,1.6097015695752648,1.0300642748095459,1.9956336986166412,0.2469751121275796,1.0276052631032513,0.7556217368655225,1.532286895789481,1.818856118800783,0.23104386521977505],\"y\":[0.22605954763810066,0.22522086925996349,0.21599737636144267,0.24756067995173195,0.2152355960719305,0.21113037843336824,0.23251582536931018,0.23835958795670487,0.23143347632150107,0.0055265346604531345,0.23464555602847445,0.21741802503013158,0.2218098485066912,0.23437172886744215,0.21526253969522138,0.21966113663044595,0.22515122483136155,0.2288159559506609,0.23552673990689793,0.22689461845346556,0.21296608480257068],\"type\":\"scatter\",\"xaxis\":\"x9\",\"yaxis\":\"y9\"},{\"marker\":{\"color\":[4,9,45,50,66,120,145,180,220,259,287,313,340,368,396,427,454,483,511,539,567],\"colorbar\":{\"title\":{\"text\":\"Trial\"},\"x\":1.0,\"xpad\":40},\"colorscale\":[[0.0,\"rgb(247,251,255)\"],[0.125,\"rgb(222,235,247)\"],[0.25,\"rgb(198,219,239)\"],[0.375,\"rgb(158,202,225)\"],[0.5,\"rgb(107,174,214)\"],[0.625,\"rgb(66,146,198)\"],[0.75,\"rgb(33,113,181)\"],[0.875,\"rgb(8,81,156)\"],[1.0,\"rgb(8,48,107)\"]],\"line\":{\"color\":\"Grey\",\"width\":0.5},\"showscale\":false},\"mode\":\"markers\",\"name\":\"Feasible Trial\",\"showlegend\":false,\"x\":[0.610671904065073,1.4416409845921037,0.01962289550447016,1.95347608801205,0.8823383845412239,0.2874035369552379,1.4127330315232332,1.9709020362287026,1.224578477161475,0.6878494702791231,1.675650354704799,0.29323403065756626,1.0232320873041325,1.6360338344378085,0.01114539511178636,0.4903183358945513,0.9309285499445845,1.136254542519333,1.684170207593464,0.7705401629834272,0.332748682051623],\"y\":[0.22605954763810066,0.22522086925996349,0.21599737636144267,0.24756067995173195,0.2152355960719305,0.21113037843336824,0.23251582536931018,0.23835958795670487,0.23143347632150107,0.0055265346604531345,0.23464555602847445,0.21741802503013158,0.2218098485066912,0.23437172886744215,0.21526253969522138,0.21966113663044595,0.22515122483136155,0.2288159559506609,0.23552673990689793,0.22689461845346556,0.21296608480257068],\"type\":\"scatter\",\"xaxis\":\"x10\",\"yaxis\":\"y10\"}],                        {\"template\":{\"data\":{\"histogram2dcontour\":[{\"type\":\"histogram2dcontour\",\"colorbar\":{\"outlinewidth\":0,\"ticks\":\"\"},\"colorscale\":[[0.0,\"#0d0887\"],[0.1111111111111111,\"#46039f\"],[0.2222222222222222,\"#7201a8\"],[0.3333333333333333,\"#9c179e\"],[0.4444444444444444,\"#bd3786\"],[0.5555555555555556,\"#d8576b\"],[0.6666666666666666,\"#ed7953\"],[0.7777777777777778,\"#fb9f3a\"],[0.8888888888888888,\"#fdca26\"],[1.0,\"#f0f921\"]]}],\"choropleth\":[{\"type\":\"choropleth\",\"colorbar\":{\"outlinewidth\":0,\"ticks\":\"\"}}],\"histogram2d\":[{\"type\":\"histogram2d\",\"colorbar\":{\"outlinewidth\":0,\"ticks\":\"\"},\"colorscale\":[[0.0,\"#0d0887\"],[0.1111111111111111,\"#46039f\"],[0.2222222222222222,\"#7201a8\"],[0.3333333333333333,\"#9c179e\"],[0.4444444444444444,\"#bd3786\"],[0.5555555555555556,\"#d8576b\"],[0.6666666666666666,\"#ed7953\"],[0.7777777777777778,\"#fb9f3a\"],[0.8888888888888888,\"#fdca26\"],[1.0,\"#f0f921\"]]}],\"heatmap\":[{\"type\":\"heatmap\",\"colorbar\":{\"outlinewidth\":0,\"ticks\":\"\"},\"colorscale\":[[0.0,\"#0d0887\"],[0.1111111111111111,\"#46039f\"],[0.2222222222222222,\"#7201a8\"],[0.3333333333333333,\"#9c179e\"],[0.4444444444444444,\"#bd3786\"],[0.5555555555555556,\"#d8576b\"],[0.6666666666666666,\"#ed7953\"],[0.7777777777777778,\"#fb9f3a\"],[0.8888888888888888,\"#fdca26\"],[1.0,\"#f0f921\"]]}],\"heatmapgl\":[{\"type\":\"heatmapgl\",\"colorbar\":{\"outlinewidth\":0,\"ticks\":\"\"},\"colorscale\":[[0.0,\"#0d0887\"],[0.1111111111111111,\"#46039f\"],[0.2222222222222222,\"#7201a8\"],[0.3333333333333333,\"#9c179e\"],[0.4444444444444444,\"#bd3786\"],[0.5555555555555556,\"#d8576b\"],[0.6666666666666666,\"#ed7953\"],[0.7777777777777778,\"#fb9f3a\"],[0.8888888888888888,\"#fdca26\"],[1.0,\"#f0f921\"]]}],\"contourcarpet\":[{\"type\":\"contourcarpet\",\"colorbar\":{\"outlinewidth\":0,\"ticks\":\"\"}}],\"contour\":[{\"type\":\"contour\",\"colorbar\":{\"outlinewidth\":0,\"ticks\":\"\"},\"colorscale\":[[0.0,\"#0d0887\"],[0.1111111111111111,\"#46039f\"],[0.2222222222222222,\"#7201a8\"],[0.3333333333333333,\"#9c179e\"],[0.4444444444444444,\"#bd3786\"],[0.5555555555555556,\"#d8576b\"],[0.6666666666666666,\"#ed7953\"],[0.7777777777777778,\"#fb9f3a\"],[0.8888888888888888,\"#fdca26\"],[1.0,\"#f0f921\"]]}],\"surface\":[{\"type\":\"surface\",\"colorbar\":{\"outlinewidth\":0,\"ticks\":\"\"},\"colorscale\":[[0.0,\"#0d0887\"],[0.1111111111111111,\"#46039f\"],[0.2222222222222222,\"#7201a8\"],[0.3333333333333333,\"#9c179e\"],[0.4444444444444444,\"#bd3786\"],[0.5555555555555556,\"#d8576b\"],[0.6666666666666666,\"#ed7953\"],[0.7777777777777778,\"#fb9f3a\"],[0.8888888888888888,\"#fdca26\"],[1.0,\"#f0f921\"]]}],\"mesh3d\":[{\"type\":\"mesh3d\",\"colorbar\":{\"outlinewidth\":0,\"ticks\":\"\"}}],\"scatter\":[{\"fillpattern\":{\"fillmode\":\"overlay\",\"size\":10,\"solidity\":0.2},\"type\":\"scatter\"}],\"parcoords\":[{\"type\":\"parcoords\",\"line\":{\"colorbar\":{\"outlinewidth\":0,\"ticks\":\"\"}}}],\"scatterpolargl\":[{\"type\":\"scatterpolargl\",\"marker\":{\"colorbar\":{\"outlinewidth\":0,\"ticks\":\"\"}}}],\"bar\":[{\"error_x\":{\"color\":\"#2a3f5f\"},\"error_y\":{\"color\":\"#2a3f5f\"},\"marker\":{\"line\":{\"color\":\"#E5ECF6\",\"width\":0.5},\"pattern\":{\"fillmode\":\"overlay\",\"size\":10,\"solidity\":0.2}},\"type\":\"bar\"}],\"scattergeo\":[{\"type\":\"scattergeo\",\"marker\":{\"colorbar\":{\"outlinewidth\":0,\"ticks\":\"\"}}}],\"scatterpolar\":[{\"type\":\"scatterpolar\",\"marker\":{\"colorbar\":{\"outlinewidth\":0,\"ticks\":\"\"}}}],\"histogram\":[{\"marker\":{\"pattern\":{\"fillmode\":\"overlay\",\"size\":10,\"solidity\":0.2}},\"type\":\"histogram\"}],\"scattergl\":[{\"type\":\"scattergl\",\"marker\":{\"colorbar\":{\"outlinewidth\":0,\"ticks\":\"\"}}}],\"scatter3d\":[{\"type\":\"scatter3d\",\"line\":{\"colorbar\":{\"outlinewidth\":0,\"ticks\":\"\"}},\"marker\":{\"colorbar\":{\"outlinewidth\":0,\"ticks\":\"\"}}}],\"scattermapbox\":[{\"type\":\"scattermapbox\",\"marker\":{\"colorbar\":{\"outlinewidth\":0,\"ticks\":\"\"}}}],\"scatterternary\":[{\"type\":\"scatterternary\",\"marker\":{\"colorbar\":{\"outlinewidth\":0,\"ticks\":\"\"}}}],\"scattercarpet\":[{\"type\":\"scattercarpet\",\"marker\":{\"colorbar\":{\"outlinewidth\":0,\"ticks\":\"\"}}}],\"carpet\":[{\"aaxis\":{\"endlinecolor\":\"#2a3f5f\",\"gridcolor\":\"white\",\"linecolor\":\"white\",\"minorgridcolor\":\"white\",\"startlinecolor\":\"#2a3f5f\"},\"baxis\":{\"endlinecolor\":\"#2a3f5f\",\"gridcolor\":\"white\",\"linecolor\":\"white\",\"minorgridcolor\":\"white\",\"startlinecolor\":\"#2a3f5f\"},\"type\":\"carpet\"}],\"table\":[{\"cells\":{\"fill\":{\"color\":\"#EBF0F8\"},\"line\":{\"color\":\"white\"}},\"header\":{\"fill\":{\"color\":\"#C8D4E3\"},\"line\":{\"color\":\"white\"}},\"type\":\"table\"}],\"barpolar\":[{\"marker\":{\"line\":{\"color\":\"#E5ECF6\",\"width\":0.5},\"pattern\":{\"fillmode\":\"overlay\",\"size\":10,\"solidity\":0.2}},\"type\":\"barpolar\"}],\"pie\":[{\"automargin\":true,\"type\":\"pie\"}]},\"layout\":{\"autotypenumbers\":\"strict\",\"colorway\":[\"#636efa\",\"#EF553B\",\"#00cc96\",\"#ab63fa\",\"#FFA15A\",\"#19d3f3\",\"#FF6692\",\"#B6E880\",\"#FF97FF\",\"#FECB52\"],\"font\":{\"color\":\"#2a3f5f\"},\"hovermode\":\"closest\",\"hoverlabel\":{\"align\":\"left\"},\"paper_bgcolor\":\"white\",\"plot_bgcolor\":\"#E5ECF6\",\"polar\":{\"bgcolor\":\"#E5ECF6\",\"angularaxis\":{\"gridcolor\":\"white\",\"linecolor\":\"white\",\"ticks\":\"\"},\"radialaxis\":{\"gridcolor\":\"white\",\"linecolor\":\"white\",\"ticks\":\"\"}},\"ternary\":{\"bgcolor\":\"#E5ECF6\",\"aaxis\":{\"gridcolor\":\"white\",\"linecolor\":\"white\",\"ticks\":\"\"},\"baxis\":{\"gridcolor\":\"white\",\"linecolor\":\"white\",\"ticks\":\"\"},\"caxis\":{\"gridcolor\":\"white\",\"linecolor\":\"white\",\"ticks\":\"\"}},\"coloraxis\":{\"colorbar\":{\"outlinewidth\":0,\"ticks\":\"\"}},\"colorscale\":{\"sequential\":[[0.0,\"#0d0887\"],[0.1111111111111111,\"#46039f\"],[0.2222222222222222,\"#7201a8\"],[0.3333333333333333,\"#9c179e\"],[0.4444444444444444,\"#bd3786\"],[0.5555555555555556,\"#d8576b\"],[0.6666666666666666,\"#ed7953\"],[0.7777777777777778,\"#fb9f3a\"],[0.8888888888888888,\"#fdca26\"],[1.0,\"#f0f921\"]],\"sequentialminus\":[[0.0,\"#0d0887\"],[0.1111111111111111,\"#46039f\"],[0.2222222222222222,\"#7201a8\"],[0.3333333333333333,\"#9c179e\"],[0.4444444444444444,\"#bd3786\"],[0.5555555555555556,\"#d8576b\"],[0.6666666666666666,\"#ed7953\"],[0.7777777777777778,\"#fb9f3a\"],[0.8888888888888888,\"#fdca26\"],[1.0,\"#f0f921\"]],\"diverging\":[[0,\"#8e0152\"],[0.1,\"#c51b7d\"],[0.2,\"#de77ae\"],[0.3,\"#f1b6da\"],[0.4,\"#fde0ef\"],[0.5,\"#f7f7f7\"],[0.6,\"#e6f5d0\"],[0.7,\"#b8e186\"],[0.8,\"#7fbc41\"],[0.9,\"#4d9221\"],[1,\"#276419\"]]},\"xaxis\":{\"gridcolor\":\"white\",\"linecolor\":\"white\",\"ticks\":\"\",\"title\":{\"standoff\":15},\"zerolinecolor\":\"white\",\"automargin\":true,\"zerolinewidth\":2},\"yaxis\":{\"gridcolor\":\"white\",\"linecolor\":\"white\",\"ticks\":\"\",\"title\":{\"standoff\":15},\"zerolinecolor\":\"white\",\"automargin\":true,\"zerolinewidth\":2},\"scene\":{\"xaxis\":{\"backgroundcolor\":\"#E5ECF6\",\"gridcolor\":\"white\",\"linecolor\":\"white\",\"showbackground\":true,\"ticks\":\"\",\"zerolinecolor\":\"white\",\"gridwidth\":2},\"yaxis\":{\"backgroundcolor\":\"#E5ECF6\",\"gridcolor\":\"white\",\"linecolor\":\"white\",\"showbackground\":true,\"ticks\":\"\",\"zerolinecolor\":\"white\",\"gridwidth\":2},\"zaxis\":{\"backgroundcolor\":\"#E5ECF6\",\"gridcolor\":\"white\",\"linecolor\":\"white\",\"showbackground\":true,\"ticks\":\"\",\"zerolinecolor\":\"white\",\"gridwidth\":2}},\"shapedefaults\":{\"line\":{\"color\":\"#2a3f5f\"}},\"annotationdefaults\":{\"arrowcolor\":\"#2a3f5f\",\"arrowhead\":0,\"arrowwidth\":1},\"geo\":{\"bgcolor\":\"white\",\"landcolor\":\"#E5ECF6\",\"subunitcolor\":\"white\",\"showland\":true,\"showlakes\":true,\"lakecolor\":\"white\"},\"title\":{\"x\":0.05},\"mapbox\":{\"style\":\"light\"}}},\"xaxis\":{\"anchor\":\"y\",\"domain\":[0.0,0.082],\"title\":{\"text\":\"asymmetric_alpha\"}},\"yaxis\":{\"anchor\":\"x\",\"domain\":[0.0,1.0],\"title\":{\"text\":\"Objective Value\"}},\"xaxis2\":{\"anchor\":\"y2\",\"domain\":[0.10200000000000001,0.184],\"title\":{\"text\":\"feature_weighting\"},\"type\":\"category\",\"categoryorder\":\"array\",\"categoryarray\":[\"BM25\",\"TF-IDF\",\"none\"]},\"yaxis2\":{\"anchor\":\"x2\",\"domain\":[0.0,1.0],\"matches\":\"y\",\"showticklabels\":false},\"xaxis3\":{\"anchor\":\"y3\",\"domain\":[0.20400000000000001,0.28600000000000003],\"title\":{\"text\":\"normalize\"},\"type\":\"category\",\"categoryorder\":\"array\",\"categoryarray\":[true,false]},\"yaxis3\":{\"anchor\":\"x3\",\"domain\":[0.0,1.0],\"matches\":\"y\",\"showticklabels\":false},\"xaxis4\":{\"anchor\":\"y4\",\"domain\":[0.306,0.388],\"title\":{\"text\":\"normalize_avg_row\"},\"type\":\"category\",\"categoryorder\":\"array\",\"categoryarray\":[true,false]},\"yaxis4\":{\"anchor\":\"x4\",\"domain\":[0.0,1.0],\"matches\":\"y\",\"showticklabels\":false},\"xaxis5\":{\"anchor\":\"y5\",\"domain\":[0.40800000000000003,0.49000000000000005],\"title\":{\"text\":\"shrink\"}},\"yaxis5\":{\"anchor\":\"x5\",\"domain\":[0.0,1.0],\"matches\":\"y\",\"showticklabels\":false},\"xaxis6\":{\"anchor\":\"y6\",\"domain\":[0.51,0.592],\"title\":{\"text\":\"similarity\"},\"type\":\"category\",\"categoryorder\":\"array\",\"categoryarray\":[\"cosine\",\"dice\",\"jaccard\",\"asymmetric\",\"tversky\",\"euclidean\"]},\"yaxis6\":{\"anchor\":\"x6\",\"domain\":[0.0,1.0],\"matches\":\"y\",\"showticklabels\":false},\"xaxis7\":{\"anchor\":\"y7\",\"domain\":[0.6120000000000001,0.6940000000000001],\"title\":{\"text\":\"similarity_from_distance_mode\"},\"type\":\"category\",\"categoryorder\":\"array\",\"categoryarray\":[\"lin\",\"log\",\"exp\"]},\"yaxis7\":{\"anchor\":\"x7\",\"domain\":[0.0,1.0],\"matches\":\"y\",\"showticklabels\":false},\"xaxis8\":{\"anchor\":\"y8\",\"domain\":[0.7140000000000001,0.796],\"title\":{\"text\":\"topK\"}},\"yaxis8\":{\"anchor\":\"x8\",\"domain\":[0.0,1.0],\"matches\":\"y\",\"showticklabels\":false},\"xaxis9\":{\"anchor\":\"y9\",\"domain\":[0.8160000000000001,0.898],\"title\":{\"text\":\"tversky_alpha\"}},\"yaxis9\":{\"anchor\":\"x9\",\"domain\":[0.0,1.0],\"matches\":\"y\",\"showticklabels\":false},\"xaxis10\":{\"anchor\":\"y10\",\"domain\":[0.9179999999999999,0.9999999999999999],\"title\":{\"text\":\"tversky_beta\"}},\"yaxis10\":{\"anchor\":\"x10\",\"domain\":[0.0,1.0],\"matches\":\"y\",\"showticklabels\":false},\"title\":{\"text\":\"Slice Plot\"},\"width\":3000},                        {\"responsive\": true}                    ).then(function(){\n",
       "                            \n",
       "var gd = document.getElementById('5258035d-7fec-47b0-8c74-03bb0d7cef3b');\n",
       "var x = new MutationObserver(function (mutations, observer) {{\n",
       "        var display = window.getComputedStyle(gd).display;\n",
       "        if (!display || display === 'none') {{\n",
       "            console.log([gd, 'removed!']);\n",
       "            Plotly.purge(gd);\n",
       "            observer.disconnect();\n",
       "        }}\n",
       "}});\n",
       "\n",
       "// Listen for the removal of the full notebook cells\n",
       "var notebookContainer = gd.closest('#notebook-container');\n",
       "if (notebookContainer) {{\n",
       "    x.observe(notebookContainer, {childList: true});\n",
       "}}\n",
       "\n",
       "// Listen for the clearing of the current output cell\n",
       "var outputEl = gd.closest('.output');\n",
       "if (outputEl) {{\n",
       "    x.observe(outputEl, {childList: true});\n",
       "}}\n",
       "\n",
       "                        })                };                            </script>        </div>\n",
       "</body>\n",
       "</html>"
      ]
     },
     "metadata": {},
     "output_type": "display_data"
    }
   ],
   "source": [
    "if not config['tune_parameters']:\n",
    "    optuna_study = optuna.load_study(study_name=f'hyperparameters_tuning_{config[\"model\"]}_{config[\"metric\"]}', storage=f'sqlite:///{config[\"database_path\"]}')\n",
    "    \n",
    "fig = optuna.visualization.plot_slice(optuna_study)\n",
    "fig.show()"
   ]
  },
  {
   "cell_type": "code",
   "execution_count": 15,
   "id": "0e68065c",
   "metadata": {
    "execution": {
     "iopub.execute_input": "2025-01-06T17:32:02.641532Z",
     "iopub.status.busy": "2025-01-06T17:32:02.641174Z",
     "iopub.status.idle": "2025-01-06T17:32:19.230896Z",
     "shell.execute_reply": "2025-01-06T17:32:19.229635Z"
    },
    "papermill": {
     "duration": 16.700756,
     "end_time": "2025-01-06T17:32:19.233108",
     "exception": false,
     "start_time": "2025-01-06T17:32:02.532352",
     "status": "completed"
    },
    "tags": []
   },
   "outputs": [
    {
     "data": {
      "text/html": [
       "<html>\n",
       "<head><meta charset=\"utf-8\" /></head>\n",
       "<body>\n",
       "    <div>            <script src=\"https://cdnjs.cloudflare.com/ajax/libs/mathjax/2.7.5/MathJax.js?config=TeX-AMS-MML_SVG\"></script><script type=\"text/javascript\">if (window.MathJax && window.MathJax.Hub && window.MathJax.Hub.Config) {window.MathJax.Hub.Config({SVG: {font: \"STIX-Web\"}});}</script>                <script type=\"text/javascript\">window.PlotlyConfig = {MathJaxConfig: 'local'};</script>\n",
       "        <script charset=\"utf-8\" src=\"https://cdn.plot.ly/plotly-2.35.2.min.js\"></script>                <div id=\"7ab0f050-03dd-4943-9477-72fd662d5ade\" class=\"plotly-graph-div\" style=\"height:525px; width:100%;\"></div>            <script type=\"text/javascript\">                                    window.PLOTLYENV=window.PLOTLYENV || {};                                    if (document.getElementById(\"7ab0f050-03dd-4943-9477-72fd662d5ade\")) {                    Plotly.newPlot(                        \"7ab0f050-03dd-4943-9477-72fd662d5ade\",                        [{\"cliponaxis\":false,\"hovertemplate\":[\"feature_weighting (CategoricalDistribution): 0.037471072810483355\\u003cextra\\u003e\\u003c\\u002fextra\\u003e\",\"topK (IntDistribution): 0.0653081288894937\\u003cextra\\u003e\\u003c\\u002fextra\\u003e\",\"shrink (IntDistribution): 0.06662072649077028\\u003cextra\\u003e\\u003c\\u002fextra\\u003e\",\"similarity (CategoricalDistribution): 0.8306000718092525\\u003cextra\\u003e\\u003c\\u002fextra\\u003e\"],\"name\":\"Objective Value\",\"orientation\":\"h\",\"text\":[\"0.04\",\"0.07\",\"0.07\",\"0.83\"],\"textposition\":\"outside\",\"x\":[0.037471072810483355,0.0653081288894937,0.06662072649077028,0.8306000718092525],\"y\":[\"feature_weighting\",\"topK\",\"shrink\",\"similarity\"],\"type\":\"bar\"}],                        {\"title\":{\"text\":\"Hyperparameter Importances\"},\"xaxis\":{\"title\":{\"text\":\"Hyperparameter Importance\"}},\"yaxis\":{\"title\":{\"text\":\"Hyperparameter\"}},\"template\":{\"data\":{\"histogram2dcontour\":[{\"type\":\"histogram2dcontour\",\"colorbar\":{\"outlinewidth\":0,\"ticks\":\"\"},\"colorscale\":[[0.0,\"#0d0887\"],[0.1111111111111111,\"#46039f\"],[0.2222222222222222,\"#7201a8\"],[0.3333333333333333,\"#9c179e\"],[0.4444444444444444,\"#bd3786\"],[0.5555555555555556,\"#d8576b\"],[0.6666666666666666,\"#ed7953\"],[0.7777777777777778,\"#fb9f3a\"],[0.8888888888888888,\"#fdca26\"],[1.0,\"#f0f921\"]]}],\"choropleth\":[{\"type\":\"choropleth\",\"colorbar\":{\"outlinewidth\":0,\"ticks\":\"\"}}],\"histogram2d\":[{\"type\":\"histogram2d\",\"colorbar\":{\"outlinewidth\":0,\"ticks\":\"\"},\"colorscale\":[[0.0,\"#0d0887\"],[0.1111111111111111,\"#46039f\"],[0.2222222222222222,\"#7201a8\"],[0.3333333333333333,\"#9c179e\"],[0.4444444444444444,\"#bd3786\"],[0.5555555555555556,\"#d8576b\"],[0.6666666666666666,\"#ed7953\"],[0.7777777777777778,\"#fb9f3a\"],[0.8888888888888888,\"#fdca26\"],[1.0,\"#f0f921\"]]}],\"heatmap\":[{\"type\":\"heatmap\",\"colorbar\":{\"outlinewidth\":0,\"ticks\":\"\"},\"colorscale\":[[0.0,\"#0d0887\"],[0.1111111111111111,\"#46039f\"],[0.2222222222222222,\"#7201a8\"],[0.3333333333333333,\"#9c179e\"],[0.4444444444444444,\"#bd3786\"],[0.5555555555555556,\"#d8576b\"],[0.6666666666666666,\"#ed7953\"],[0.7777777777777778,\"#fb9f3a\"],[0.8888888888888888,\"#fdca26\"],[1.0,\"#f0f921\"]]}],\"heatmapgl\":[{\"type\":\"heatmapgl\",\"colorbar\":{\"outlinewidth\":0,\"ticks\":\"\"},\"colorscale\":[[0.0,\"#0d0887\"],[0.1111111111111111,\"#46039f\"],[0.2222222222222222,\"#7201a8\"],[0.3333333333333333,\"#9c179e\"],[0.4444444444444444,\"#bd3786\"],[0.5555555555555556,\"#d8576b\"],[0.6666666666666666,\"#ed7953\"],[0.7777777777777778,\"#fb9f3a\"],[0.8888888888888888,\"#fdca26\"],[1.0,\"#f0f921\"]]}],\"contourcarpet\":[{\"type\":\"contourcarpet\",\"colorbar\":{\"outlinewidth\":0,\"ticks\":\"\"}}],\"contour\":[{\"type\":\"contour\",\"colorbar\":{\"outlinewidth\":0,\"ticks\":\"\"},\"colorscale\":[[0.0,\"#0d0887\"],[0.1111111111111111,\"#46039f\"],[0.2222222222222222,\"#7201a8\"],[0.3333333333333333,\"#9c179e\"],[0.4444444444444444,\"#bd3786\"],[0.5555555555555556,\"#d8576b\"],[0.6666666666666666,\"#ed7953\"],[0.7777777777777778,\"#fb9f3a\"],[0.8888888888888888,\"#fdca26\"],[1.0,\"#f0f921\"]]}],\"surface\":[{\"type\":\"surface\",\"colorbar\":{\"outlinewidth\":0,\"ticks\":\"\"},\"colorscale\":[[0.0,\"#0d0887\"],[0.1111111111111111,\"#46039f\"],[0.2222222222222222,\"#7201a8\"],[0.3333333333333333,\"#9c179e\"],[0.4444444444444444,\"#bd3786\"],[0.5555555555555556,\"#d8576b\"],[0.6666666666666666,\"#ed7953\"],[0.7777777777777778,\"#fb9f3a\"],[0.8888888888888888,\"#fdca26\"],[1.0,\"#f0f921\"]]}],\"mesh3d\":[{\"type\":\"mesh3d\",\"colorbar\":{\"outlinewidth\":0,\"ticks\":\"\"}}],\"scatter\":[{\"fillpattern\":{\"fillmode\":\"overlay\",\"size\":10,\"solidity\":0.2},\"type\":\"scatter\"}],\"parcoords\":[{\"type\":\"parcoords\",\"line\":{\"colorbar\":{\"outlinewidth\":0,\"ticks\":\"\"}}}],\"scatterpolargl\":[{\"type\":\"scatterpolargl\",\"marker\":{\"colorbar\":{\"outlinewidth\":0,\"ticks\":\"\"}}}],\"bar\":[{\"error_x\":{\"color\":\"#2a3f5f\"},\"error_y\":{\"color\":\"#2a3f5f\"},\"marker\":{\"line\":{\"color\":\"#E5ECF6\",\"width\":0.5},\"pattern\":{\"fillmode\":\"overlay\",\"size\":10,\"solidity\":0.2}},\"type\":\"bar\"}],\"scattergeo\":[{\"type\":\"scattergeo\",\"marker\":{\"colorbar\":{\"outlinewidth\":0,\"ticks\":\"\"}}}],\"scatterpolar\":[{\"type\":\"scatterpolar\",\"marker\":{\"colorbar\":{\"outlinewidth\":0,\"ticks\":\"\"}}}],\"histogram\":[{\"marker\":{\"pattern\":{\"fillmode\":\"overlay\",\"size\":10,\"solidity\":0.2}},\"type\":\"histogram\"}],\"scattergl\":[{\"type\":\"scattergl\",\"marker\":{\"colorbar\":{\"outlinewidth\":0,\"ticks\":\"\"}}}],\"scatter3d\":[{\"type\":\"scatter3d\",\"line\":{\"colorbar\":{\"outlinewidth\":0,\"ticks\":\"\"}},\"marker\":{\"colorbar\":{\"outlinewidth\":0,\"ticks\":\"\"}}}],\"scattermapbox\":[{\"type\":\"scattermapbox\",\"marker\":{\"colorbar\":{\"outlinewidth\":0,\"ticks\":\"\"}}}],\"scatterternary\":[{\"type\":\"scatterternary\",\"marker\":{\"colorbar\":{\"outlinewidth\":0,\"ticks\":\"\"}}}],\"scattercarpet\":[{\"type\":\"scattercarpet\",\"marker\":{\"colorbar\":{\"outlinewidth\":0,\"ticks\":\"\"}}}],\"carpet\":[{\"aaxis\":{\"endlinecolor\":\"#2a3f5f\",\"gridcolor\":\"white\",\"linecolor\":\"white\",\"minorgridcolor\":\"white\",\"startlinecolor\":\"#2a3f5f\"},\"baxis\":{\"endlinecolor\":\"#2a3f5f\",\"gridcolor\":\"white\",\"linecolor\":\"white\",\"minorgridcolor\":\"white\",\"startlinecolor\":\"#2a3f5f\"},\"type\":\"carpet\"}],\"table\":[{\"cells\":{\"fill\":{\"color\":\"#EBF0F8\"},\"line\":{\"color\":\"white\"}},\"header\":{\"fill\":{\"color\":\"#C8D4E3\"},\"line\":{\"color\":\"white\"}},\"type\":\"table\"}],\"barpolar\":[{\"marker\":{\"line\":{\"color\":\"#E5ECF6\",\"width\":0.5},\"pattern\":{\"fillmode\":\"overlay\",\"size\":10,\"solidity\":0.2}},\"type\":\"barpolar\"}],\"pie\":[{\"automargin\":true,\"type\":\"pie\"}]},\"layout\":{\"autotypenumbers\":\"strict\",\"colorway\":[\"#636efa\",\"#EF553B\",\"#00cc96\",\"#ab63fa\",\"#FFA15A\",\"#19d3f3\",\"#FF6692\",\"#B6E880\",\"#FF97FF\",\"#FECB52\"],\"font\":{\"color\":\"#2a3f5f\"},\"hovermode\":\"closest\",\"hoverlabel\":{\"align\":\"left\"},\"paper_bgcolor\":\"white\",\"plot_bgcolor\":\"#E5ECF6\",\"polar\":{\"bgcolor\":\"#E5ECF6\",\"angularaxis\":{\"gridcolor\":\"white\",\"linecolor\":\"white\",\"ticks\":\"\"},\"radialaxis\":{\"gridcolor\":\"white\",\"linecolor\":\"white\",\"ticks\":\"\"}},\"ternary\":{\"bgcolor\":\"#E5ECF6\",\"aaxis\":{\"gridcolor\":\"white\",\"linecolor\":\"white\",\"ticks\":\"\"},\"baxis\":{\"gridcolor\":\"white\",\"linecolor\":\"white\",\"ticks\":\"\"},\"caxis\":{\"gridcolor\":\"white\",\"linecolor\":\"white\",\"ticks\":\"\"}},\"coloraxis\":{\"colorbar\":{\"outlinewidth\":0,\"ticks\":\"\"}},\"colorscale\":{\"sequential\":[[0.0,\"#0d0887\"],[0.1111111111111111,\"#46039f\"],[0.2222222222222222,\"#7201a8\"],[0.3333333333333333,\"#9c179e\"],[0.4444444444444444,\"#bd3786\"],[0.5555555555555556,\"#d8576b\"],[0.6666666666666666,\"#ed7953\"],[0.7777777777777778,\"#fb9f3a\"],[0.8888888888888888,\"#fdca26\"],[1.0,\"#f0f921\"]],\"sequentialminus\":[[0.0,\"#0d0887\"],[0.1111111111111111,\"#46039f\"],[0.2222222222222222,\"#7201a8\"],[0.3333333333333333,\"#9c179e\"],[0.4444444444444444,\"#bd3786\"],[0.5555555555555556,\"#d8576b\"],[0.6666666666666666,\"#ed7953\"],[0.7777777777777778,\"#fb9f3a\"],[0.8888888888888888,\"#fdca26\"],[1.0,\"#f0f921\"]],\"diverging\":[[0,\"#8e0152\"],[0.1,\"#c51b7d\"],[0.2,\"#de77ae\"],[0.3,\"#f1b6da\"],[0.4,\"#fde0ef\"],[0.5,\"#f7f7f7\"],[0.6,\"#e6f5d0\"],[0.7,\"#b8e186\"],[0.8,\"#7fbc41\"],[0.9,\"#4d9221\"],[1,\"#276419\"]]},\"xaxis\":{\"gridcolor\":\"white\",\"linecolor\":\"white\",\"ticks\":\"\",\"title\":{\"standoff\":15},\"zerolinecolor\":\"white\",\"automargin\":true,\"zerolinewidth\":2},\"yaxis\":{\"gridcolor\":\"white\",\"linecolor\":\"white\",\"ticks\":\"\",\"title\":{\"standoff\":15},\"zerolinecolor\":\"white\",\"automargin\":true,\"zerolinewidth\":2},\"scene\":{\"xaxis\":{\"backgroundcolor\":\"#E5ECF6\",\"gridcolor\":\"white\",\"linecolor\":\"white\",\"showbackground\":true,\"ticks\":\"\",\"zerolinecolor\":\"white\",\"gridwidth\":2},\"yaxis\":{\"backgroundcolor\":\"#E5ECF6\",\"gridcolor\":\"white\",\"linecolor\":\"white\",\"showbackground\":true,\"ticks\":\"\",\"zerolinecolor\":\"white\",\"gridwidth\":2},\"zaxis\":{\"backgroundcolor\":\"#E5ECF6\",\"gridcolor\":\"white\",\"linecolor\":\"white\",\"showbackground\":true,\"ticks\":\"\",\"zerolinecolor\":\"white\",\"gridwidth\":2}},\"shapedefaults\":{\"line\":{\"color\":\"#2a3f5f\"}},\"annotationdefaults\":{\"arrowcolor\":\"#2a3f5f\",\"arrowhead\":0,\"arrowwidth\":1},\"geo\":{\"bgcolor\":\"white\",\"landcolor\":\"#E5ECF6\",\"subunitcolor\":\"white\",\"showland\":true,\"showlakes\":true,\"lakecolor\":\"white\"},\"title\":{\"x\":0.05},\"mapbox\":{\"style\":\"light\"}}}},                        {\"responsive\": true}                    ).then(function(){\n",
       "                            \n",
       "var gd = document.getElementById('7ab0f050-03dd-4943-9477-72fd662d5ade');\n",
       "var x = new MutationObserver(function (mutations, observer) {{\n",
       "        var display = window.getComputedStyle(gd).display;\n",
       "        if (!display || display === 'none') {{\n",
       "            console.log([gd, 'removed!']);\n",
       "            Plotly.purge(gd);\n",
       "            observer.disconnect();\n",
       "        }}\n",
       "}});\n",
       "\n",
       "// Listen for the removal of the full notebook cells\n",
       "var notebookContainer = gd.closest('#notebook-container');\n",
       "if (notebookContainer) {{\n",
       "    x.observe(notebookContainer, {childList: true});\n",
       "}}\n",
       "\n",
       "// Listen for the clearing of the current output cell\n",
       "var outputEl = gd.closest('.output');\n",
       "if (outputEl) {{\n",
       "    x.observe(outputEl, {childList: true});\n",
       "}}\n",
       "\n",
       "                        })                };                            </script>        </div>\n",
       "</body>\n",
       "</html>"
      ]
     },
     "metadata": {},
     "output_type": "display_data"
    }
   ],
   "source": [
    "if not config['tune_parameters']:\n",
    "    optuna_study = optuna.load_study(study_name=f'hyperparameters_tuning_{config[\"model\"]}_{config[\"metric\"]}', storage=f'sqlite:///{config[\"database_path\"]}')\n",
    "    \n",
    "fig = optuna.visualization.plot_param_importances(optuna_study)\n",
    "fig.show()"
   ]
  },
  {
   "cell_type": "markdown",
   "id": "64230894",
   "metadata": {
    "papermill": {
     "duration": 0.111169,
     "end_time": "2025-01-06T17:32:19.451145",
     "exception": false,
     "start_time": "2025-01-06T17:32:19.339976",
     "status": "completed"
    },
    "tags": []
   },
   "source": [
    "## Let's train the recommender with best parameter values"
   ]
  },
  {
   "cell_type": "code",
   "execution_count": 16,
   "id": "149ff042",
   "metadata": {
    "execution": {
     "iopub.execute_input": "2025-01-06T17:32:19.669989Z",
     "iopub.status.busy": "2025-01-06T17:32:19.669622Z",
     "iopub.status.idle": "2025-01-06T17:32:35.523115Z",
     "shell.execute_reply": "2025-01-06T17:32:35.521813Z"
    },
    "papermill": {
     "duration": 15.964635,
     "end_time": "2025-01-06T17:32:35.525222",
     "exception": false,
     "start_time": "2025-01-06T17:32:19.560587",
     "status": "completed"
    },
    "tags": []
   },
   "outputs": [
    {
     "name": "stdout",
     "output_type": "stream",
     "text": [
      "Similarity column 38121 (100.0%), 2470.42 column/sec. Elapsed time 15.43 sec\n"
     ]
    }
   ],
   "source": [
    "if config['tune_best_params']:\n",
    "\n",
    "    if config['tune_parameters']:\n",
    "        best_params = optuna_study.best_trial.params\n",
    "    else: \n",
    "        with open(f'{K_PATH}/{GH_PATH}/{config[\"model\"]}Recommender/Optimizing{config[\"metric\"]}/best_params_{config[\"model\"]}_{config[\"metric\"]}.json', 'r') as best_params_json:\n",
    "            best_params = json.load(best_params_json)\n",
    "\n",
    "    recommender_instance = ItemKNNCFRecommender(URM_train + URM_validation)\n",
    "    recommender_instance.fit(**best_params)"
   ]
  },
  {
   "cell_type": "markdown",
   "id": "a1bb59c5",
   "metadata": {
    "papermill": {
     "duration": 0.103987,
     "end_time": "2025-01-06T17:32:35.735117",
     "exception": false,
     "start_time": "2025-01-06T17:32:35.631130",
     "status": "completed"
    },
    "tags": []
   },
   "source": [
    "# Testing"
   ]
  },
  {
   "cell_type": "markdown",
   "id": "e3d4767e",
   "metadata": {
    "papermill": {
     "duration": 0.106964,
     "end_time": "2025-01-06T17:32:35.946549",
     "exception": false,
     "start_time": "2025-01-06T17:32:35.839585",
     "status": "completed"
    },
    "tags": []
   },
   "source": [
    "Create the recommendations for the submission. "
   ]
  },
  {
   "cell_type": "code",
   "execution_count": 17,
   "id": "a1d0498c",
   "metadata": {
    "execution": {
     "iopub.execute_input": "2025-01-06T17:32:36.158520Z",
     "iopub.status.busy": "2025-01-06T17:32:36.158169Z",
     "iopub.status.idle": "2025-01-06T17:33:01.510451Z",
     "shell.execute_reply": "2025-01-06T17:33:01.506254Z"
    },
    "papermill": {
     "duration": 25.465244,
     "end_time": "2025-01-06T17:33:01.517169",
     "exception": false,
     "start_time": "2025-01-06T17:32:36.051925",
     "status": "completed"
    },
    "tags": []
   },
   "outputs": [
    {
     "name": "stdout",
     "output_type": "stream",
     "text": [
      "Submission file saved as /kaggle/working/submission_ItemKNNCF_Recall.csv\n"
     ]
    }
   ],
   "source": [
    "if config['tune_best_params']:\n",
    "\n",
    "    data_target_users_test = pd.read_csv('/kaggle/input/recommender-system-2024-challenge-polimi/data_target_users_test.csv')\n",
    "    create_submission(data_target_users_test, recommender_instance, f'/kaggle/working/submission_{config[\"model\"]}_{config[\"metric\"]}.csv')"
   ]
  },
  {
   "cell_type": "markdown",
   "id": "0b21b055",
   "metadata": {
    "execution": {
     "iopub.execute_input": "2024-11-14T00:04:16.877791Z",
     "iopub.status.busy": "2024-11-14T00:04:16.877275Z",
     "iopub.status.idle": "2024-11-14T00:04:16.883170Z",
     "shell.execute_reply": "2024-11-14T00:04:16.881889Z",
     "shell.execute_reply.started": "2024-11-14T00:04:16.877743Z"
    },
    "papermill": {
     "duration": 0.150464,
     "end_time": "2025-01-06T17:33:01.980142",
     "exception": false,
     "start_time": "2025-01-06T17:33:01.829678",
     "status": "completed"
    },
    "tags": []
   },
   "source": [
    "# Save Version on GitHub "
   ]
  },
  {
   "cell_type": "markdown",
   "id": "747be6c2",
   "metadata": {
    "papermill": {
     "duration": 0.122334,
     "end_time": "2025-01-06T17:33:02.220246",
     "exception": false,
     "start_time": "2025-01-06T17:33:02.097912",
     "status": "completed"
    },
    "tags": []
   },
   "source": [
    "Write or import a json file where best hyperparameters are saved. "
   ]
  },
  {
   "cell_type": "code",
   "execution_count": 18,
   "id": "f3bce01a",
   "metadata": {
    "execution": {
     "iopub.execute_input": "2025-01-06T17:33:02.436278Z",
     "iopub.status.busy": "2025-01-06T17:33:02.435843Z",
     "iopub.status.idle": "2025-01-06T17:33:03.412874Z",
     "shell.execute_reply": "2025-01-06T17:33:03.411521Z"
    },
    "papermill": {
     "duration": 1.085145,
     "end_time": "2025-01-06T17:33:03.415120",
     "exception": false,
     "start_time": "2025-01-06T17:33:02.329975",
     "status": "completed"
    },
    "tags": []
   },
   "outputs": [
    {
     "name": "stdout",
     "output_type": "stream",
     "text": [
      "File 'TrainedModels/WithKFCV/KNN/ItemKNNCFRecommender/OptimizingRecall/best_params_ItemKNNCF_Recall.json' updated successfully.\n"
     ]
    }
   ],
   "source": [
    "if config['tune_parameters']:\n",
    "    with open(f'/kaggle/working/best_params_{config[\"model\"]}_{config[\"metric\"]}.json', 'w') as params_file:\n",
    "        json.dump(optuna_study.best_params, params_file)\n",
    "        \n",
    "    if config['save_github']:\n",
    "        upload_file(\n",
    "            f'/kaggle/working/best_params_{config[\"model\"]}_{config[\"metric\"]}.json', \n",
    "            f'{GH_PATH}/{config[\"model\"]}Recommender/Optimizing{config[\"metric\"]}/best_params_{config[\"model\"]}_{config[\"metric\"]}.json', \n",
    "            f'{config[\"model\"]}_{config[\"metric\"]} tuning results (from kaggle notebook)',\n",
    "            repo\n",
    "        )\n",
    "elif config['copy_prev_best_params']:\n",
    "    shutil.copyfile(\n",
    "        f'{K_PATH}/{GH_PATH}/{config[\"model\"]}Recommender/Optimizing{config[\"metric\"]}/'\\\n",
    "        f'best_params_{config[\"model\"]}_{config[\"metric\"]}.json', \n",
    "        f'/kaggle/working/best_params_{config[\"model\"]}_{config[\"metric\"]}.json'\n",
    "    )"
   ]
  },
  {
   "cell_type": "markdown",
   "id": "74ed36b3",
   "metadata": {
    "papermill": {
     "duration": 0.105817,
     "end_time": "2025-01-06T17:33:03.627349",
     "exception": false,
     "start_time": "2025-01-06T17:33:03.521532",
     "status": "completed"
    },
    "tags": []
   },
   "source": [
    "Save the history of the tuned model."
   ]
  },
  {
   "cell_type": "code",
   "execution_count": 19,
   "id": "5ce4d7e1",
   "metadata": {
    "execution": {
     "iopub.execute_input": "2025-01-06T17:33:03.854958Z",
     "iopub.status.busy": "2025-01-06T17:33:03.854625Z",
     "iopub.status.idle": "2025-01-06T17:33:05.291659Z",
     "shell.execute_reply": "2025-01-06T17:33:05.290413Z"
    },
    "papermill": {
     "duration": 1.561129,
     "end_time": "2025-01-06T17:33:05.293669",
     "exception": false,
     "start_time": "2025-01-06T17:33:03.732540",
     "status": "completed"
    },
    "tags": []
   },
   "outputs": [
    {
     "name": "stdout",
     "output_type": "stream",
     "text": [
      "File 'TrainedModels/WithKFCV/KNN/ItemKNNCFRecommender/OptimizingRecall/history_ItemKNNCF_Recall.db' updated successfully.\n"
     ]
    }
   ],
   "source": [
    "if config['save_github'] and config['tune_parameters']:\n",
    "    upload_file(\n",
    "        config['database_path'], \n",
    "        f'{GH_PATH}/{config[\"model\"]}Recommender/Optimizing{config[\"metric\"]}/history_{config[\"model\"]}_{config[\"metric\"]}.db',\n",
    "        f'Tuning {config[\"model\"]}_{config[\"metric\"]} db updated results (from kaggle notebook)',\n",
    "        repo\n",
    "    )"
   ]
  },
  {
   "cell_type": "markdown",
   "id": "7ce9c04c",
   "metadata": {
    "execution": {
     "iopub.execute_input": "2024-11-14T00:41:34.294243Z",
     "iopub.status.busy": "2024-11-14T00:41:34.293739Z",
     "iopub.status.idle": "2024-11-14T00:41:34.301478Z",
     "shell.execute_reply": "2024-11-14T00:41:34.299869Z",
     "shell.execute_reply.started": "2024-11-14T00:41:34.294186Z"
    },
    "papermill": {
     "duration": 0.105425,
     "end_time": "2025-01-06T17:33:05.632404",
     "exception": false,
     "start_time": "2025-01-06T17:33:05.526979",
     "status": "completed"
    },
    "tags": []
   },
   "source": [
    "Save the best trained model and its submission."
   ]
  },
  {
   "cell_type": "code",
   "execution_count": 20,
   "id": "8c19d7dd",
   "metadata": {
    "execution": {
     "iopub.execute_input": "2025-01-06T17:33:05.842696Z",
     "iopub.status.busy": "2025-01-06T17:33:05.842338Z",
     "iopub.status.idle": "2025-01-06T17:33:07.044303Z",
     "shell.execute_reply": "2025-01-06T17:33:07.040523Z"
    },
    "papermill": {
     "duration": 1.310474,
     "end_time": "2025-01-06T17:33:07.047471",
     "exception": false,
     "start_time": "2025-01-06T17:33:05.736997",
     "status": "completed"
    },
    "tags": []
   },
   "outputs": [
    {
     "name": "stdout",
     "output_type": "stream",
     "text": [
      "File 'TrainedModels/WithKFCV/KNN/ItemKNNCFRecommender/OptimizingRecall/Submission/submission_ItemKNNCF_Recall.csv' updated successfully.\n"
     ]
    }
   ],
   "source": [
    "if config['save_github'] and config['tune_best_params']: \n",
    "    upload_file(\n",
    "                f'/kaggle/working/submission_{config[\"model\"]}_{config[\"metric\"]}.csv', \n",
    "                f'{GH_PATH}/{config[\"model\"]}Recommender/Optimizing{config[\"metric\"]}/Submission/submission_{config[\"model\"]}_{config[\"metric\"]}.csv', \n",
    "                f'New {config[\"model\"]}_{config[\"metric\"]} submission (from kaggle notebook)',\n",
    "                repo\n",
    "            )"
   ]
  }
 ],
 "metadata": {
  "kaggle": {
   "accelerator": "none",
   "dataSources": [
    {
     "databundleVersionId": 9982103,
     "sourceId": 87439,
     "sourceType": "competition"
    }
   ],
   "dockerImageVersionId": 30822,
   "isGpuEnabled": false,
   "isInternetEnabled": true,
   "language": "python",
   "sourceType": "notebook"
  },
  "kernelspec": {
   "display_name": "Python 3",
   "language": "python",
   "name": "python3"
  },
  "language_info": {
   "codemirror_mode": {
    "name": "ipython",
    "version": 3
   },
   "file_extension": ".py",
   "mimetype": "text/x-python",
   "name": "python",
   "nbconvert_exporter": "python",
   "pygments_lexer": "ipython3",
   "version": "3.10.12"
  },
  "papermill": {
   "default_parameters": {},
   "duration": 27655.751072,
   "end_time": "2025-01-06T17:33:09.632911",
   "environment_variables": {},
   "exception": null,
   "input_path": "__notebook__.ipynb",
   "output_path": "__notebook__.ipynb",
   "parameters": {},
   "start_time": "2025-01-06T09:52:13.881839",
   "version": "2.6.0"
  }
 },
 "nbformat": 4,
 "nbformat_minor": 5
}
