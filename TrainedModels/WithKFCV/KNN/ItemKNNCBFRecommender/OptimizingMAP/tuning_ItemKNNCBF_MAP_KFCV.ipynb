{
 "cells": [
  {
   "cell_type": "markdown",
   "id": "048c9436",
   "metadata": {
    "papermill": {
     "duration": 0.005735,
     "end_time": "2025-01-06T23:33:40.213588",
     "exception": false,
     "start_time": "2025-01-06T23:33:40.207853",
     "status": "completed"
    },
    "tags": []
   },
   "source": [
    "# Set connection with GitHub"
   ]
  },
  {
   "cell_type": "code",
   "execution_count": 1,
   "id": "3bfea38a",
   "metadata": {
    "_cell_guid": "b1076dfc-b9ad-4769-8c92-a6c4dae69d19",
    "_uuid": "8f2839f25d086af736a60e9eeb907d3b93b6e0e5",
    "execution": {
     "iopub.execute_input": "2025-01-06T23:33:40.225080Z",
     "iopub.status.busy": "2025-01-06T23:33:40.224692Z",
     "iopub.status.idle": "2025-01-06T23:33:40.230598Z",
     "shell.execute_reply": "2025-01-06T23:33:40.229454Z"
    },
    "papermill": {
     "duration": 0.01393,
     "end_time": "2025-01-06T23:33:40.232611",
     "exception": false,
     "start_time": "2025-01-06T23:33:40.218681",
     "status": "completed"
    },
    "tags": []
   },
   "outputs": [],
   "source": [
    "# ! cd /kaggle/working && rm -rf RECsys_Challenge2024"
   ]
  },
  {
   "cell_type": "code",
   "execution_count": 2,
   "id": "0fb963f3",
   "metadata": {
    "execution": {
     "iopub.execute_input": "2025-01-06T23:33:40.246712Z",
     "iopub.status.busy": "2025-01-06T23:33:40.246325Z",
     "iopub.status.idle": "2025-01-06T23:33:57.577857Z",
     "shell.execute_reply": "2025-01-06T23:33:57.576378Z"
    },
    "papermill": {
     "duration": 17.341125,
     "end_time": "2025-01-06T23:33:57.580451",
     "exception": false,
     "start_time": "2025-01-06T23:33:40.239326",
     "status": "completed"
    },
    "tags": []
   },
   "outputs": [
    {
     "name": "stdout",
     "output_type": "stream",
     "text": [
      "Cloning into 'RECsys_Challenge2024'...\r\n",
      "remote: Enumerating objects: 7167, done.\u001b[K\r\n",
      "remote: Counting objects: 100% (13/13), done.\u001b[K\r\n",
      "remote: Compressing objects: 100% (12/12), done.\u001b[K\r\n",
      "remote: Total 7167 (delta 1), reused 0 (delta 0), pack-reused 7154 (from 5)\u001b[K\r\n",
      "Receiving objects: 100% (7167/7167), 416.65 MiB | 34.12 MiB/s, done.\r\n",
      "Resolving deltas: 100% (3882/3882), done.\r\n",
      "Updating files: 100% (506/506), done.\r\n"
     ]
    }
   ],
   "source": [
    "from kaggle_secrets import UserSecretsClient\n",
    "\n",
    "token = UserSecretsClient().get_secret(\"Token\")\n",
    "\n",
    "! git clone https://{token}@github.com/madratak/RECsys_Challenge2024.git"
   ]
  },
  {
   "cell_type": "code",
   "execution_count": 3,
   "id": "fb622472",
   "metadata": {
    "execution": {
     "iopub.execute_input": "2025-01-06T23:33:57.603500Z",
     "iopub.status.busy": "2025-01-06T23:33:57.603015Z",
     "iopub.status.idle": "2025-01-06T23:34:04.705442Z",
     "shell.execute_reply": "2025-01-06T23:34:04.704053Z"
    },
    "papermill": {
     "duration": 7.11573,
     "end_time": "2025-01-06T23:34:04.707538",
     "exception": false,
     "start_time": "2025-01-06T23:33:57.591808",
     "status": "completed"
    },
    "tags": []
   },
   "outputs": [
    {
     "name": "stdout",
     "output_type": "stream",
     "text": [
      "Collecting PyGithub\r\n",
      "  Downloading PyGithub-2.5.0-py3-none-any.whl.metadata (3.9 kB)\r\n",
      "Requirement already satisfied: requests in /usr/local/lib/python3.10/dist-packages (2.32.3)\r\n",
      "Collecting pynacl>=1.4.0 (from PyGithub)\r\n",
      "  Downloading PyNaCl-1.5.0-cp36-abi3-manylinux_2_17_x86_64.manylinux2014_x86_64.manylinux_2_24_x86_64.whl.metadata (8.6 kB)\r\n",
      "Requirement already satisfied: pyjwt>=2.4.0 in /usr/local/lib/python3.10/dist-packages (from pyjwt[crypto]>=2.4.0->PyGithub) (2.9.0)\r\n",
      "Requirement already satisfied: typing-extensions>=4.0.0 in /usr/local/lib/python3.10/dist-packages (from PyGithub) (4.12.2)\r\n",
      "Requirement already satisfied: urllib3>=1.26.0 in /usr/local/lib/python3.10/dist-packages (from PyGithub) (2.2.3)\r\n",
      "Requirement already satisfied: Deprecated in /usr/local/lib/python3.10/dist-packages (from PyGithub) (1.2.15)\r\n",
      "Requirement already satisfied: charset-normalizer<4,>=2 in /usr/local/lib/python3.10/dist-packages (from requests) (3.3.2)\r\n",
      "Requirement already satisfied: idna<4,>=2.5 in /usr/local/lib/python3.10/dist-packages (from requests) (3.10)\r\n",
      "Requirement already satisfied: certifi>=2017.4.17 in /usr/local/lib/python3.10/dist-packages (from requests) (2024.8.30)\r\n",
      "Requirement already satisfied: cryptography>=3.4.0 in /usr/local/lib/python3.10/dist-packages (from pyjwt[crypto]>=2.4.0->PyGithub) (43.0.1)\r\n",
      "Requirement already satisfied: cffi>=1.4.1 in /usr/local/lib/python3.10/dist-packages (from pynacl>=1.4.0->PyGithub) (1.17.1)\r\n",
      "Requirement already satisfied: wrapt<2,>=1.10 in /usr/local/lib/python3.10/dist-packages (from Deprecated->PyGithub) (1.16.0)\r\n",
      "Requirement already satisfied: pycparser in /usr/local/lib/python3.10/dist-packages (from cffi>=1.4.1->pynacl>=1.4.0->PyGithub) (2.22)\r\n",
      "Downloading PyGithub-2.5.0-py3-none-any.whl (375 kB)\r\n",
      "\u001b[2K   \u001b[90m━━━━━━━━━━━━━━━━━━━━━━━━━━━━━━━━━━━━━━━━\u001b[0m \u001b[32m375.9/375.9 kB\u001b[0m \u001b[31m8.6 MB/s\u001b[0m eta \u001b[36m0:00:00\u001b[0m\r\n",
      "\u001b[?25hDownloading PyNaCl-1.5.0-cp36-abi3-manylinux_2_17_x86_64.manylinux2014_x86_64.manylinux_2_24_x86_64.whl (856 kB)\r\n",
      "\u001b[2K   \u001b[90m━━━━━━━━━━━━━━━━━━━━━━━━━━━━━━━━━━━━━━━━\u001b[0m \u001b[32m856.7/856.7 kB\u001b[0m \u001b[31m29.6 MB/s\u001b[0m eta \u001b[36m0:00:00\u001b[0m\r\n",
      "\u001b[?25hInstalling collected packages: pynacl, PyGithub\r\n",
      "Successfully installed PyGithub-2.5.0 pynacl-1.5.0\r\n"
     ]
    }
   ],
   "source": [
    "! pip install PyGithub requests"
   ]
  },
  {
   "cell_type": "code",
   "execution_count": 4,
   "id": "bcea2a07",
   "metadata": {
    "execution": {
     "iopub.execute_input": "2025-01-06T23:34:04.730606Z",
     "iopub.status.busy": "2025-01-06T23:34:04.730164Z",
     "iopub.status.idle": "2025-01-06T23:36:53.672498Z",
     "shell.execute_reply": "2025-01-06T23:36:53.670893Z"
    },
    "papermill": {
     "duration": 168.956171,
     "end_time": "2025-01-06T23:36:53.674754",
     "exception": false,
     "start_time": "2025-01-06T23:34:04.718583",
     "status": "completed"
    },
    "tags": []
   },
   "outputs": [
    {
     "name": "stdout",
     "output_type": "stream",
     "text": [
      "/kaggle/working/RECsys_Challenge2024\n",
      "run_compile_all_cython: Found 11 Cython files in 5 folders...\r\n",
      "run_compile_all_cython: All files will be compiled using your current python environment: '/usr/bin/python3'\r\n",
      "Compiling [1/11]: MatrixFactorization_Cython_Epoch.pyx... \r\n",
      "In file included from \u001b[01m\u001b[K/usr/local/lib/python3.10/dist-packages/numpy/core/include/numpy/ndarraytypes.h:1929\u001b[m\u001b[K,\r\n",
      "                 from \u001b[01m\u001b[K/usr/local/lib/python3.10/dist-packages/numpy/core/include/numpy/ndarrayobject.h:12\u001b[m\u001b[K,\r\n",
      "                 from \u001b[01m\u001b[K/usr/local/lib/python3.10/dist-packages/numpy/core/include/numpy/arrayobject.h:5\u001b[m\u001b[K,\r\n",
      "                 from \u001b[01m\u001b[KMatrixFactorization_Cython_Epoch.c:1252\u001b[m\u001b[K:\r\n",
      "\u001b[01m\u001b[K/usr/local/lib/python3.10/dist-packages/numpy/core/include/numpy/npy_1_7_deprecated_api.h:17:2:\u001b[m\u001b[K \u001b[01;35m\u001b[Kwarning: \u001b[m\u001b[K#warning \"Using deprecated NumPy API, disable it with \" \"#define NPY_NO_DEPRECATED_API NPY_1_7_API_VERSION\" [\u001b[01;35m\u001b[K\u001b]8;;https://gcc.gnu.org/onlinedocs/gcc/Warning-Options.html#index-Wcpp\u0007-Wcpp\u001b]8;;\u0007\u001b[m\u001b[K]\r\n",
      "   17 | #\u001b[01;35m\u001b[Kwarning\u001b[m\u001b[K \"Using deprecated NumPy API, disable it with \" \\\r\n",
      "      |  \u001b[01;35m\u001b[K^~~~~~~\u001b[m\u001b[K\r\n",
      "\u001b[01m\u001b[KMatrixFactorization_Cython_Epoch.c:\u001b[m\u001b[K In function ‘\u001b[01m\u001b[K__pyx_pf_32MatrixFactorization_Cython_Epoch_32MatrixFactorization_Cython_Epoch_10epochIteration_Cython_ASY_SVD_SGD\u001b[m\u001b[K’:\r\n",
      "\u001b[01m\u001b[KMatrixFactorization_Cython_Epoch.c:26256:68:\u001b[m\u001b[K \u001b[01;35m\u001b[Kwarning: \u001b[m\u001b[K‘\u001b[01m\u001b[K__pyx_v_end_pos_seen_items\u001b[m\u001b[K’ may be used uninitialized in this function [\u001b[01;35m\u001b[K\u001b]8;;https://gcc.gnu.org/onlinedocs/gcc/Warning-Options.html#index-Wmaybe-uninitialized\u0007-Wmaybe-uninitialized\u001b]8;;\u0007\u001b[m\u001b[K]\r\n",
      "26256 |         for (__pyx_t_22 = __pyx_v_start_pos_seen_items; \u001b[01;35m\u001b[K__pyx_t_22 < __pyx_t_21\u001b[m\u001b[K; __pyx_t_22+=1) {\r\n",
      "      |                                                         \u001b[01;35m\u001b[K~~~~~~~~~~~^~~~~~~~~~~~\u001b[m\u001b[K\r\n",
      "\u001b[01m\u001b[KMatrixFactorization_Cython_Epoch.c:26256:68:\u001b[m\u001b[K \u001b[01;35m\u001b[Kwarning: \u001b[m\u001b[K‘\u001b[01m\u001b[K__pyx_v_start_pos_seen_items\u001b[m\u001b[K’ may be used uninitialized in this function [\u001b[01;35m\u001b[K\u001b]8;;https://gcc.gnu.org/onlinedocs/gcc/Warning-Options.html#index-Wmaybe-uninitialized\u0007-Wmaybe-uninitialized\u001b]8;;\u0007\u001b[m\u001b[K]\r\n",
      "/usr/local/lib/python3.10/dist-packages/Cython/Compiler/Main.py:381: FutureWarning: Cython directive 'language_level' not set, using '3str' for now (Py3). This has changed from earlier releases! File: /kaggle/working/RECsys_Challenge2024/Recommenders/MatrixFactorization/Cython/MatrixFactorization_Cython_Epoch.pyx\r\n",
      "  tree = Parsing.p_module(s, pxd, full_module_name)\r\n",
      "Compiling [1/11]: MatrixFactorization_Cython_Epoch.pyx... PASS\r\n",
      "\r\n",
      "Compiling [2/11]: MatrixFactorizationImpressions_Cython_Epoch.pyx... \r\n",
      "In file included from \u001b[01m\u001b[K/usr/local/lib/python3.10/dist-packages/numpy/core/include/numpy/ndarraytypes.h:1929\u001b[m\u001b[K,\r\n",
      "                 from \u001b[01m\u001b[K/usr/local/lib/python3.10/dist-packages/numpy/core/include/numpy/ndarrayobject.h:12\u001b[m\u001b[K,\r\n",
      "                 from \u001b[01m\u001b[K/usr/local/lib/python3.10/dist-packages/numpy/core/include/numpy/arrayobject.h:5\u001b[m\u001b[K,\r\n",
      "                 from \u001b[01m\u001b[KMatrixFactorizationImpressions_Cython_Epoch.c:1252\u001b[m\u001b[K:\r\n",
      "\u001b[01m\u001b[K/usr/local/lib/python3.10/dist-packages/numpy/core/include/numpy/npy_1_7_deprecated_api.h:17:2:\u001b[m\u001b[K \u001b[01;35m\u001b[Kwarning: \u001b[m\u001b[K#warning \"Using deprecated NumPy API, disable it with \" \"#define NPY_NO_DEPRECATED_API NPY_1_7_API_VERSION\" [\u001b[01;35m\u001b[K\u001b]8;;https://gcc.gnu.org/onlinedocs/gcc/Warning-Options.html#index-Wcpp\u0007-Wcpp\u001b]8;;\u0007\u001b[m\u001b[K]\r\n",
      "   17 | #\u001b[01;35m\u001b[Kwarning\u001b[m\u001b[K \"Using deprecated NumPy API, disable it with \" \\\r\n",
      "      |  \u001b[01;35m\u001b[K^~~~~~~\u001b[m\u001b[K\r\n",
      "\u001b[01m\u001b[KMatrixFactorizationImpressions_Cython_Epoch.c:\u001b[m\u001b[K In function ‘\u001b[01m\u001b[K__pyx_f_43MatrixFactorizationImpressions_Cython_Epoch_32MatrixFactorization_Cython_Epoch_sampleBPR_Cython\u001b[m\u001b[K’:\r\n",
      "\u001b[01m\u001b[KMatrixFactorizationImpressions_Cython_Epoch.c:30353:17:\u001b[m\u001b[K \u001b[01;35m\u001b[Kwarning: \u001b[m\u001b[K‘\u001b[01m\u001b[K__pyx_v_start_pos_impression_items\u001b[m\u001b[K’ may be used uninitialized in this function [\u001b[01;35m\u001b[K\u001b]8;;https://gcc.gnu.org/onlinedocs/gcc/Warning-Options.html#index-Wmaybe-uninitialized\u0007-Wmaybe-uninitialized\u001b]8;;\u0007\u001b[m\u001b[K]\r\n",
      "30353 |       \u001b[01;35m\u001b[K__pyx_t_4 = (__pyx_v_start_pos_impression_items + __pyx_v_index)\u001b[m\u001b[K;\r\n",
      "      |       \u001b[01;35m\u001b[K~~~~~~~~~~^~~~~~~~~~~~~~~~~~~~~~~~~~~~~~~~~~~~~~~~~~~~~~~~~~~~~~\u001b[m\u001b[K\r\n",
      "\u001b[01m\u001b[KMatrixFactorizationImpressions_Cython_Epoch.c:\u001b[m\u001b[K In function ‘\u001b[01m\u001b[K__pyx_pf_43MatrixFactorizationImpressions_Cython_Epoch_32MatrixFactorization_Cython_Epoch_10epochIteration_Cython_ASY_SVD_SGD\u001b[m\u001b[K’:\r\n",
      "\u001b[01m\u001b[KMatrixFactorizationImpressions_Cython_Epoch.c:26112:66:\u001b[m\u001b[K \u001b[01;35m\u001b[Kwarning: \u001b[m\u001b[K‘\u001b[01m\u001b[K__pyx_v_end_pos_seen_items\u001b[m\u001b[K’ may be used uninitialized in this function [\u001b[01;35m\u001b[K\u001b]8;;https://gcc.gnu.org/onlinedocs/gcc/Warning-Options.html#index-Wmaybe-uninitialized\u0007-Wmaybe-uninitialized\u001b]8;;\u0007\u001b[m\u001b[K]\r\n",
      "26112 |       for (__pyx_t_22 = __pyx_v_start_pos_seen_items; \u001b[01;35m\u001b[K__pyx_t_22 < __pyx_t_21\u001b[m\u001b[K; __pyx_t_22+=1) {\r\n",
      "      |                                                       \u001b[01;35m\u001b[K~~~~~~~~~~~^~~~~~~~~~~~\u001b[m\u001b[K\r\n",
      "\u001b[01m\u001b[KMatrixFactorizationImpressions_Cython_Epoch.c:26112:66:\u001b[m\u001b[K \u001b[01;35m\u001b[Kwarning: \u001b[m\u001b[K‘\u001b[01m\u001b[K__pyx_v_start_pos_seen_items\u001b[m\u001b[K’ may be used uninitialized in this function [\u001b[01;35m\u001b[K\u001b]8;;https://gcc.gnu.org/onlinedocs/gcc/Warning-Options.html#index-Wmaybe-uninitialized\u0007-Wmaybe-uninitialized\u001b]8;;\u0007\u001b[m\u001b[K]\r\n",
      "/usr/local/lib/python3.10/dist-packages/Cython/Compiler/Main.py:381: FutureWarning: Cython directive 'language_level' not set, using '3str' for now (Py3). This has changed from earlier releases! File: /kaggle/working/RECsys_Challenge2024/Recommenders/MatrixFactorization/Cython/MatrixFactorizationImpressions_Cython_Epoch.pyx\r\n",
      "  tree = Parsing.p_module(s, pxd, full_module_name)\r\n",
      "Compiling [2/11]: MatrixFactorizationImpressions_Cython_Epoch.pyx... PASS\r\n",
      "\r\n",
      "Compiling [3/11]: Compute_Similarity_Cython.pyx... \r\n",
      "warning: Compute_Similarity_Cython.pyx:21:0: The 'IF' statement is deprecated and will be removed in a future Cython version. Consider using runtime conditions or C macros instead. See https://github.com/cython/cython/issues/4310\r\n",
      "In file included from \u001b[01m\u001b[K/usr/local/lib/python3.10/dist-packages/numpy/core/include/numpy/ndarraytypes.h:1929\u001b[m\u001b[K,\r\n",
      "                 from \u001b[01m\u001b[K/usr/local/lib/python3.10/dist-packages/numpy/core/include/numpy/ndarrayobject.h:12\u001b[m\u001b[K,\r\n",
      "                 from \u001b[01m\u001b[K/usr/local/lib/python3.10/dist-packages/numpy/core/include/numpy/arrayobject.h:5\u001b[m\u001b[K,\r\n",
      "                 from \u001b[01m\u001b[KCompute_Similarity_Cython.c:1252\u001b[m\u001b[K:\r\n",
      "\u001b[01m\u001b[K/usr/local/lib/python3.10/dist-packages/numpy/core/include/numpy/npy_1_7_deprecated_api.h:17:2:\u001b[m\u001b[K \u001b[01;35m\u001b[Kwarning: \u001b[m\u001b[K#warning \"Using deprecated NumPy API, disable it with \" \"#define NPY_NO_DEPRECATED_API NPY_1_7_API_VERSION\" [\u001b[01;35m\u001b[K\u001b]8;;https://gcc.gnu.org/onlinedocs/gcc/Warning-Options.html#index-Wcpp\u0007-Wcpp\u001b]8;;\u0007\u001b[m\u001b[K]\r\n",
      "   17 | #\u001b[01;35m\u001b[Kwarning\u001b[m\u001b[K \"Using deprecated NumPy API, disable it with \" \\\r\n",
      "      |  \u001b[01;35m\u001b[K^~~~~~~\u001b[m\u001b[K\r\n",
      "/usr/local/lib/python3.10/dist-packages/Cython/Compiler/Main.py:381: FutureWarning: Cython directive 'language_level' not set, using '3str' for now (Py3). This has changed from earlier releases! File: /kaggle/working/RECsys_Challenge2024/Recommenders/Similarity/Cython/Compute_Similarity_Cython.pyx\r\n",
      "  tree = Parsing.p_module(s, pxd, full_module_name)\r\n",
      "warning: Compute_Similarity_Cython.pyx:21:0: The 'IF' statement is deprecated and will be removed in a future Cython version. Consider using runtime conditions or C macros instead. See https://github.com/cython/cython/issues/4310\r\n",
      "Compiling [3/11]: Compute_Similarity_Cython.pyx... PASS\r\n",
      "\r\n",
      "Compiling [4/11]: SLIM_BPR_Cython_Epoch.pyx... \r\n",
      "warning: SLIM_BPR_Cython_Epoch.pyx:24:0: The 'IF' statement is deprecated and will be removed in a future Cython version. Consider using runtime conditions or C macros instead. See https://github.com/cython/cython/issues/4310\r\n",
      "warning: SLIM_BPR_Cython_Epoch.pyx:632:34: Non-trivial type declarators in shared declaration (e.g. mix of pointers and values). Each pointer declaration should be on its own line.\r\n",
      "warning: SLIM_BPR_Cython_Epoch.pyx:632:66: Non-trivial type declarators in shared declaration (e.g. mix of pointers and values). Each pointer declaration should be on its own line.\r\n",
      "warning: SLIM_BPR_Cython_Epoch.pyx:817:35: Non-trivial type declarators in shared declaration (e.g. mix of pointers and values). Each pointer declaration should be on its own line.\r\n",
      "warning: SLIM_BPR_Cython_Epoch.pyx:817:52: Non-trivial type declarators in shared declaration (e.g. mix of pointers and values). Each pointer declaration should be on its own line.\r\n",
      "warning: SLIM_BPR_Cython_Epoch.pyx:916:35: Non-trivial type declarators in shared declaration (e.g. mix of pointers and values). Each pointer declaration should be on its own line.\r\n",
      "warning: SLIM_BPR_Cython_Epoch.pyx:916:53: Non-trivial type declarators in shared declaration (e.g. mix of pointers and values). Each pointer declaration should be on its own line.\r\n",
      "warning: SLIM_BPR_Cython_Epoch.pyx:916:69: Non-trivial type declarators in shared declaration (e.g. mix of pointers and values). Each pointer declaration should be on its own line.\r\n",
      "warning: SLIM_BPR_Cython_Epoch.pyx:1051:35: Non-trivial type declarators in shared declaration (e.g. mix of pointers and values). Each pointer declaration should be on its own line.\r\n",
      "warning: SLIM_BPR_Cython_Epoch.pyx:1051:42: Non-trivial type declarators in shared declaration (e.g. mix of pointers and values). Each pointer declaration should be on its own line.\r\n",
      "warning: SLIM_BPR_Cython_Epoch.pyx:1052:35: Non-trivial type declarators in shared declaration (e.g. mix of pointers and values). Each pointer declaration should be on its own line.\r\n",
      "warning: SLIM_BPR_Cython_Epoch.pyx:1052:53: Non-trivial type declarators in shared declaration (e.g. mix of pointers and values). Each pointer declaration should be on its own line.\r\n",
      "\r\n",
      "Error compiling Cython file:\r\n",
      "------------------------------------------------------------\r\n",
      "...\r\n",
      "            vector_pointer_to_list_elements[index].head = current_element\r\n",
      "            current_element = current_element.higher\r\n",
      "\r\n",
      "\r\n",
      "        # Sort array elements on their data field\r\n",
      "        qsort(vector_pointer_to_list_elements, list_length, sizeof(head_pointer_tree_s), compare_struct_on_data)\r\n",
      "                                                                                         ^\r\n",
      "------------------------------------------------------------\r\n",
      "\r\n",
      "SLIM_BPR_Cython_Epoch.pyx:990:89: Cannot assign type 'int (const void *, const void *) except? -1' to 'int (*)(const_void *, const_void *) noexcept'. Exception values are incompatible. Suggest adding 'noexcept' to the type of 'compare_struct_on_data'.\r\n",
      "\r\n",
      "Error compiling Cython file:\r\n",
      "------------------------------------------------------------\r\n",
      "...\r\n",
      "        # Sort array elements on their data field\r\n",
      "        qsort(vector_pointer_to_list_elements, list_length, sizeof(head_pointer_tree_s), compare_struct_on_data)\r\n",
      "\r\n",
      "        # Sort only the TopK according to their column field\r\n",
      "        # Sort is from lower to higher, therefore the elements to be considered are from len-topK to len\r\n",
      "        qsort(&vector_pointer_to_list_elements[list_length-TopK], TopK, sizeof(head_pointer_tree_s), compare_struct_on_column)\r\n",
      "                                                                                                     ^\r\n",
      "------------------------------------------------------------\r\n",
      "\r\n",
      "SLIM_BPR_Cython_Epoch.pyx:994:101: Cannot assign type 'int (const void *, const void *) except? -1' to 'int (*)(const_void *, const_void *) noexcept'. Exception values are incompatible. Suggest adding 'noexcept' to the type of 'compare_struct_on_column'.\r\n",
      "Traceback (most recent call last):\r\n",
      "  File \"/kaggle/working/RECsys_Challenge2024/CythonCompiler/compile_script.py\", line 48, in <module>\r\n",
      "    setup(\r\n",
      "  File \"/usr/local/lib/python3.10/dist-packages/setuptools/__init__.py\", line 108, in setup\r\n",
      "    return distutils.core.setup(**attrs)\r\n",
      "  File \"/usr/local/lib/python3.10/dist-packages/setuptools/_distutils/core.py\", line 184, in setup\r\n",
      "    return run_commands(dist)\r\n",
      "  File \"/usr/local/lib/python3.10/dist-packages/setuptools/_distutils/core.py\", line 200, in run_commands\r\n",
      "    dist.run_commands()\r\n",
      "  File \"/usr/local/lib/python3.10/dist-packages/setuptools/_distutils/dist.py\", line 970, in run_commands\r\n",
      "    self.run_command(cmd)\r\n",
      "  File \"/usr/local/lib/python3.10/dist-packages/setuptools/dist.py\", line 956, in run_command\r\n",
      "    super().run_command(command)\r\n",
      "  File \"/usr/local/lib/python3.10/dist-packages/setuptools/_distutils/dist.py\", line 989, in run_command\r\n",
      "    cmd_obj.run()\r\n",
      "  File \"/usr/local/lib/python3.10/dist-packages/setuptools/_distutils/command/build_ext.py\", line 359, in run\r\n",
      "    self.build_extensions()\r\n",
      "  File \"/usr/local/lib/python3.10/dist-packages/setuptools/_distutils/command/build_ext.py\", line 479, in build_extensions\r\n",
      "    self._build_extensions_serial()\r\n",
      "  File \"/usr/local/lib/python3.10/dist-packages/setuptools/_distutils/command/build_ext.py\", line 505, in _build_extensions_serial\r\n",
      "    self.build_extension(ext)\r\n",
      "  File \"/usr/local/lib/python3.10/dist-packages/Cython/Distutils/build_ext.py\", line 130, in build_extension\r\n",
      "    new_ext = cythonize(\r\n",
      "  File \"/usr/local/lib/python3.10/dist-packages/Cython/Build/Dependencies.py\", line 1154, in cythonize\r\n",
      "    cythonize_one(*args)\r\n",
      "  File \"/usr/local/lib/python3.10/dist-packages/Cython/Build/Dependencies.py\", line 1321, in cythonize_one\r\n",
      "    raise CompileError(None, pyx_file)\r\n",
      "Cython.Compiler.Errors.CompileError: SLIM_BPR_Cython_Epoch.pyx\r\n",
      "Traceback (most recent call last):\r\n",
      "  File \"/kaggle/working/RECsys_Challenge2024/run_compile_all_cython.py\", line 60, in <module>\r\n",
      "    run_compile_subprocess(file_path, [file_name])\r\n",
      "  File \"/kaggle/working/RECsys_Challenge2024/CythonCompiler/run_compile_subprocess.py\", line 51, in run_compile_subprocess\r\n",
      "    raise exc\r\n",
      "  File \"/kaggle/working/RECsys_Challenge2024/CythonCompiler/run_compile_subprocess.py\", line 32, in run_compile_subprocess\r\n",
      "    output = subprocess.check_output(' '.join(command),\r\n",
      "  File \"/usr/lib/python3.10/subprocess.py\", line 421, in check_output\r\n",
      "    return run(*popenargs, stdout=PIPE, timeout=timeout, check=True,\r\n",
      "  File \"/usr/lib/python3.10/subprocess.py\", line 526, in run\r\n",
      "    raise CalledProcessError(retcode, process.args,\r\n",
      "subprocess.CalledProcessError: Command '/usr/bin/python3 /kaggle/working/RECsys_Challenge2024/CythonCompiler/compile_script.py SLIM_BPR_Cython_Epoch.pyx build_ext --inplace' returned non-zero exit status 1.\r\n",
      "Compiling [4/11]: SLIM_BPR_Cython_Epoch.pyx... FAIL: Command '/usr/bin/python3 /kaggle/working/RECsys_Challenge2024/CythonCompiler/compile_script.py SLIM_BPR_Cython_Epoch.pyx build_ext --inplace' returned non-zero exit status 1.\r\n",
      "\r\n",
      "Compiling [5/11]: Triangular_Matrix.pyx... \r\n",
      "warning: Triangular_Matrix.pyx:22:0: The 'IF' statement is deprecated and will be removed in a future Cython version. Consider using runtime conditions or C macros instead. See https://github.com/cython/cython/issues/4310\r\n",
      "In file included from \u001b[01m\u001b[K/usr/local/lib/python3.10/dist-packages/numpy/core/include/numpy/ndarraytypes.h:1929\u001b[m\u001b[K,\r\n",
      "                 from \u001b[01m\u001b[K/usr/local/lib/python3.10/dist-packages/numpy/core/include/numpy/ndarrayobject.h:12\u001b[m\u001b[K,\r\n",
      "                 from \u001b[01m\u001b[K/usr/local/lib/python3.10/dist-packages/numpy/core/include/numpy/arrayobject.h:5\u001b[m\u001b[K,\r\n",
      "                 from \u001b[01m\u001b[KTriangular_Matrix.c:1252\u001b[m\u001b[K:\r\n",
      "\u001b[01m\u001b[K/usr/local/lib/python3.10/dist-packages/numpy/core/include/numpy/npy_1_7_deprecated_api.h:17:2:\u001b[m\u001b[K \u001b[01;35m\u001b[Kwarning: \u001b[m\u001b[K#warning \"Using deprecated NumPy API, disable it with \" \"#define NPY_NO_DEPRECATED_API NPY_1_7_API_VERSION\" [\u001b[01;35m\u001b[K\u001b]8;;https://gcc.gnu.org/onlinedocs/gcc/Warning-Options.html#index-Wcpp\u0007-Wcpp\u001b]8;;\u0007\u001b[m\u001b[K]\r\n",
      "   17 | #\u001b[01;35m\u001b[Kwarning\u001b[m\u001b[K \"Using deprecated NumPy API, disable it with \" \\\r\n",
      "      |  \u001b[01;35m\u001b[K^~~~~~~\u001b[m\u001b[K\r\n",
      "In function ‘\u001b[01m\u001b[K__pyx_pf_17Triangular_Matrix_17Triangular_Matrix___init__\u001b[m\u001b[K’,\r\n",
      "    inlined from ‘\u001b[01m\u001b[K__pyx_pw_17Triangular_Matrix_17Triangular_Matrix_1__init__\u001b[m\u001b[K’ at \u001b[01m\u001b[KTriangular_Matrix.c:5541:13\u001b[m\u001b[K:\r\n",
      "\u001b[01m\u001b[KTriangular_Matrix.c:5599:43:\u001b[m\u001b[K \u001b[01;35m\u001b[Kwarning: \u001b[m\u001b[Kargument 1 value ‘\u001b[01m\u001b[K18446744073709551608\u001b[m\u001b[K’ exceeds maximum object size 9223372036854775807 [\u001b[01;35m\u001b[K\u001b]8;;https://gcc.gnu.org/onlinedocs/gcc/Warning-Options.html#index-Walloc-size-larger-than=\u0007-Walloc-size-larger-than=\u001b]8;;\u0007\u001b[m\u001b[K]\r\n",
      " 5599 |   __pyx_v_self->row_pointer = ((double **)\u001b[01;35m\u001b[Kmalloc((__pyx_v_self->num_rows * (sizeof(double *))))\u001b[m\u001b[K);\r\n",
      "      |                                           \u001b[01;35m\u001b[K^~~~~~~~~~~~~~~~~~~~~~~~~~~~~~~~~~~~~~~~~~~~~~~~~~~~~\u001b[m\u001b[K\r\n",
      "In file included from \u001b[01m\u001b[K/usr/include/python3.10/Python.h:34\u001b[m\u001b[K,\r\n",
      "                 from \u001b[01m\u001b[KTriangular_Matrix.c:41\u001b[m\u001b[K:\r\n",
      "\u001b[01m\u001b[KTriangular_Matrix.c:\u001b[m\u001b[K In function ‘\u001b[01m\u001b[K__pyx_pw_17Triangular_Matrix_17Triangular_Matrix_1__init__\u001b[m\u001b[K’:\r\n",
      "\u001b[01m\u001b[K/usr/include/stdlib.h:540:14:\u001b[m\u001b[K \u001b[01;36m\u001b[Knote: \u001b[m\u001b[Kin a call to allocation function ‘\u001b[01m\u001b[Kmalloc\u001b[m\u001b[K’ declared here\r\n",
      "  540 | extern void *\u001b[01;36m\u001b[Kmalloc\u001b[m\u001b[K (size_t __size) __THROW __attribute_malloc__\r\n",
      "      |              \u001b[01;36m\u001b[K^~~~~~\u001b[m\u001b[K\r\n",
      "/usr/local/lib/python3.10/dist-packages/Cython/Compiler/Main.py:381: FutureWarning: Cython directive 'language_level' not set, using '3str' for now (Py3). This has changed from earlier releases! File: /kaggle/working/RECsys_Challenge2024/Recommenders/SLIM/Cython/Triangular_Matrix.pyx\r\n",
      "  tree = Parsing.p_module(s, pxd, full_module_name)\r\n",
      "warning: Triangular_Matrix.pyx:22:0: The 'IF' statement is deprecated and will be removed in a future Cython version. Consider using runtime conditions or C macros instead. See https://github.com/cython/cython/issues/4310\r\n",
      "Compiling [5/11]: Triangular_Matrix.pyx... PASS\r\n",
      "\r\n",
      "Compiling [6/11]: Sparse_Matrix_Tree_CSR.pyx... \r\n",
      "warning: Sparse_Matrix_Tree_CSR.pyx:132:34: Non-trivial type declarators in shared declaration (e.g. mix of pointers and values). Each pointer declaration should be on its own line.\r\n",
      "warning: Sparse_Matrix_Tree_CSR.pyx:132:66: Non-trivial type declarators in shared declaration (e.g. mix of pointers and values). Each pointer declaration should be on its own line.\r\n",
      "warning: Sparse_Matrix_Tree_CSR.pyx:343:35: Non-trivial type declarators in shared declaration (e.g. mix of pointers and values). Each pointer declaration should be on its own line.\r\n",
      "warning: Sparse_Matrix_Tree_CSR.pyx:343:52: Non-trivial type declarators in shared declaration (e.g. mix of pointers and values). Each pointer declaration should be on its own line.\r\n",
      "warning: Sparse_Matrix_Tree_CSR.pyx:442:35: Non-trivial type declarators in shared declaration (e.g. mix of pointers and values). Each pointer declaration should be on its own line.\r\n",
      "warning: Sparse_Matrix_Tree_CSR.pyx:442:53: Non-trivial type declarators in shared declaration (e.g. mix of pointers and values). Each pointer declaration should be on its own line.\r\n",
      "warning: Sparse_Matrix_Tree_CSR.pyx:442:69: Non-trivial type declarators in shared declaration (e.g. mix of pointers and values). Each pointer declaration should be on its own line.\r\n",
      "warning: Sparse_Matrix_Tree_CSR.pyx:577:35: Non-trivial type declarators in shared declaration (e.g. mix of pointers and values). Each pointer declaration should be on its own line.\r\n",
      "warning: Sparse_Matrix_Tree_CSR.pyx:577:42: Non-trivial type declarators in shared declaration (e.g. mix of pointers and values). Each pointer declaration should be on its own line.\r\n",
      "warning: Sparse_Matrix_Tree_CSR.pyx:578:35: Non-trivial type declarators in shared declaration (e.g. mix of pointers and values). Each pointer declaration should be on its own line.\r\n",
      "warning: Sparse_Matrix_Tree_CSR.pyx:578:53: Non-trivial type declarators in shared declaration (e.g. mix of pointers and values). Each pointer declaration should be on its own line.\r\n",
      "\r\n",
      "Error compiling Cython file:\r\n",
      "------------------------------------------------------------\r\n",
      "...\r\n",
      "            vector_pointer_to_list_elements[index].head = current_element\r\n",
      "            current_element = current_element.higher\r\n",
      "\r\n",
      "\r\n",
      "        # Sort array elements on their data field\r\n",
      "        qsort(vector_pointer_to_list_elements, list_length, sizeof(head_pointer_tree_s), compare_struct_on_data)\r\n",
      "                                                                                         ^\r\n",
      "------------------------------------------------------------\r\n",
      "\r\n",
      "Sparse_Matrix_Tree_CSR.pyx:516:89: Cannot assign type 'int (const void *, const void *) except? -1' to 'int (*)(const_void *, const_void *) noexcept'. Exception values are incompatible. Suggest adding 'noexcept' to the type of 'compare_struct_on_data'.\r\n",
      "\r\n",
      "Error compiling Cython file:\r\n",
      "------------------------------------------------------------\r\n",
      "...\r\n",
      "        # Sort array elements on their data field\r\n",
      "        qsort(vector_pointer_to_list_elements, list_length, sizeof(head_pointer_tree_s), compare_struct_on_data)\r\n",
      "\r\n",
      "        # Sort only the TopK according to their column field\r\n",
      "        # Sort is from lower to higher, therefore the elements to be considered are from len-topK to len\r\n",
      "        qsort(&vector_pointer_to_list_elements[list_length-TopK], TopK, sizeof(head_pointer_tree_s), compare_struct_on_column)\r\n",
      "                                                                                                     ^\r\n",
      "------------------------------------------------------------\r\n",
      "\r\n",
      "Sparse_Matrix_Tree_CSR.pyx:520:101: Cannot assign type 'int (const void *, const void *) except? -1' to 'int (*)(const_void *, const_void *) noexcept'. Exception values are incompatible. Suggest adding 'noexcept' to the type of 'compare_struct_on_column'.\r\n",
      "Traceback (most recent call last):\r\n",
      "  File \"/kaggle/working/RECsys_Challenge2024/CythonCompiler/compile_script.py\", line 48, in <module>\r\n",
      "    setup(\r\n",
      "  File \"/usr/local/lib/python3.10/dist-packages/setuptools/__init__.py\", line 108, in setup\r\n",
      "    return distutils.core.setup(**attrs)\r\n",
      "  File \"/usr/local/lib/python3.10/dist-packages/setuptools/_distutils/core.py\", line 184, in setup\r\n",
      "    return run_commands(dist)\r\n",
      "  File \"/usr/local/lib/python3.10/dist-packages/setuptools/_distutils/core.py\", line 200, in run_commands\r\n",
      "    dist.run_commands()\r\n",
      "  File \"/usr/local/lib/python3.10/dist-packages/setuptools/_distutils/dist.py\", line 970, in run_commands\r\n",
      "    self.run_command(cmd)\r\n",
      "  File \"/usr/local/lib/python3.10/dist-packages/setuptools/dist.py\", line 956, in run_command\r\n",
      "    super().run_command(command)\r\n",
      "  File \"/usr/local/lib/python3.10/dist-packages/setuptools/_distutils/dist.py\", line 989, in run_command\r\n",
      "    cmd_obj.run()\r\n",
      "  File \"/usr/local/lib/python3.10/dist-packages/setuptools/_distutils/command/build_ext.py\", line 359, in run\r\n",
      "    self.build_extensions()\r\n",
      "  File \"/usr/local/lib/python3.10/dist-packages/setuptools/_distutils/command/build_ext.py\", line 479, in build_extensions\r\n",
      "    self._build_extensions_serial()\r\n",
      "  File \"/usr/local/lib/python3.10/dist-packages/setuptools/_distutils/command/build_ext.py\", line 505, in _build_extensions_serial\r\n",
      "    self.build_extension(ext)\r\n",
      "  File \"/usr/local/lib/python3.10/dist-packages/Cython/Distutils/build_ext.py\", line 130, in build_extension\r\n",
      "    new_ext = cythonize(\r\n",
      "  File \"/usr/local/lib/python3.10/dist-packages/Cython/Build/Dependencies.py\", line 1154, in cythonize\r\n",
      "    cythonize_one(*args)\r\n",
      "  File \"/usr/local/lib/python3.10/dist-packages/Cython/Build/Dependencies.py\", line 1321, in cythonize_one\r\n",
      "    raise CompileError(None, pyx_file)\r\n",
      "Cython.Compiler.Errors.CompileError: Sparse_Matrix_Tree_CSR.pyx\r\n",
      "Traceback (most recent call last):\r\n",
      "  File \"/kaggle/working/RECsys_Challenge2024/run_compile_all_cython.py\", line 60, in <module>\r\n",
      "    run_compile_subprocess(file_path, [file_name])\r\n",
      "  File \"/kaggle/working/RECsys_Challenge2024/CythonCompiler/run_compile_subprocess.py\", line 51, in run_compile_subprocess\r\n",
      "    raise exc\r\n",
      "  File \"/kaggle/working/RECsys_Challenge2024/CythonCompiler/run_compile_subprocess.py\", line 32, in run_compile_subprocess\r\n",
      "    output = subprocess.check_output(' '.join(command),\r\n",
      "  File \"/usr/lib/python3.10/subprocess.py\", line 421, in check_output\r\n",
      "    return run(*popenargs, stdout=PIPE, timeout=timeout, check=True,\r\n",
      "  File \"/usr/lib/python3.10/subprocess.py\", line 526, in run\r\n",
      "    raise CalledProcessError(retcode, process.args,\r\n",
      "subprocess.CalledProcessError: Command '/usr/bin/python3 /kaggle/working/RECsys_Challenge2024/CythonCompiler/compile_script.py Sparse_Matrix_Tree_CSR.pyx build_ext --inplace' returned non-zero exit status 1.\r\n",
      "Compiling [6/11]: Sparse_Matrix_Tree_CSR.pyx... FAIL: Command '/usr/bin/python3 /kaggle/working/RECsys_Challenge2024/CythonCompiler/compile_script.py Sparse_Matrix_Tree_CSR.pyx build_ext --inplace' returned non-zero exit status 1.\r\n",
      "\r\n",
      "Compiling [7/11]: CFW_D_Similarity_Cython_SGD.pyx... \r\n",
      "In file included from \u001b[01m\u001b[K/usr/local/lib/python3.10/dist-packages/numpy/core/include/numpy/ndarraytypes.h:1929\u001b[m\u001b[K,\r\n",
      "                 from \u001b[01m\u001b[K/usr/local/lib/python3.10/dist-packages/numpy/core/include/numpy/ndarrayobject.h:12\u001b[m\u001b[K,\r\n",
      "                 from \u001b[01m\u001b[K/usr/local/lib/python3.10/dist-packages/numpy/core/include/numpy/arrayobject.h:5\u001b[m\u001b[K,\r\n",
      "                 from \u001b[01m\u001b[KCFW_D_Similarity_Cython_SGD.c:1252\u001b[m\u001b[K:\r\n",
      "\u001b[01m\u001b[K/usr/local/lib/python3.10/dist-packages/numpy/core/include/numpy/npy_1_7_deprecated_api.h:17:2:\u001b[m\u001b[K \u001b[01;35m\u001b[Kwarning: \u001b[m\u001b[K#warning \"Using deprecated NumPy API, disable it with \" \"#define NPY_NO_DEPRECATED_API NPY_1_7_API_VERSION\" [\u001b[01;35m\u001b[K\u001b]8;;https://gcc.gnu.org/onlinedocs/gcc/Warning-Options.html#index-Wcpp\u0007-Wcpp\u001b]8;;\u0007\u001b[m\u001b[K]\r\n",
      "   17 | #\u001b[01;35m\u001b[Kwarning\u001b[m\u001b[K \"Using deprecated NumPy API, disable it with \" \\\r\n",
      "      |  \u001b[01;35m\u001b[K^~~~~~~\u001b[m\u001b[K\r\n",
      "\u001b[01m\u001b[KCFW_D_Similarity_Cython_SGD.c:\u001b[m\u001b[K In function ‘\u001b[01m\u001b[K__pyx_pf_27CFW_D_Similarity_Cython_SGD_27CFW_D_Similarity_Cython_SGD_6fit\u001b[m\u001b[K’:\r\n",
      "\u001b[01m\u001b[KCFW_D_Similarity_Cython_SGD.c:23373:55:\u001b[m\u001b[K \u001b[01;35m\u001b[Kwarning: \u001b[m\u001b[K‘\u001b[01m\u001b[K__pyx_v_sample_num\u001b[m\u001b[K’ may be used uninitialized in this function [\u001b[01;35m\u001b[K\u001b]8;;https://gcc.gnu.org/onlinedocs/gcc/Warning-Options.html#index-Wmaybe-uninitialized\u0007-Wmaybe-uninitialized\u001b]8;;\u0007\u001b[m\u001b[K]\r\n",
      "23373 |   __pyx_t_3 = PyFloat_FromDouble((__pyx_v_cum_loss / \u001b[01;35m\u001b[K((double)__pyx_v_sample_num)\u001b[m\u001b[K)); if (unlikely(!__pyx_t_3)) __PYX_ERR(0, 290, __pyx_L1_error)\r\n",
      "      |                                                      \u001b[01;35m\u001b[K~^~~~~~~~~~~~~~~~~~~~~~~~~~~\u001b[m\u001b[K\r\n",
      "/usr/local/lib/python3.10/dist-packages/Cython/Compiler/Main.py:381: FutureWarning: Cython directive 'language_level' not set, using '3str' for now (Py3). This has changed from earlier releases! File: /kaggle/working/RECsys_Challenge2024/Recommenders/FeatureWeighting/Cython/CFW_D_Similarity_Cython_SGD.pyx\r\n",
      "  tree = Parsing.p_module(s, pxd, full_module_name)\r\n",
      "Compiling [7/11]: CFW_D_Similarity_Cython_SGD.pyx... PASS\r\n",
      "\r\n",
      "Compiling [8/11]: HP3_Similarity_Cython_SGD.pyx... \r\n",
      "performance hint: HP3_Similarity_Cython_SGD.pyx:113:40: Index should be typed for more efficient access\r\n",
      "performance hint: HP3_Similarity_Cython_SGD.pyx:114:40: Index should be typed for more efficient access\r\n",
      "In file included from \u001b[01m\u001b[K/usr/local/lib/python3.10/dist-packages/numpy/core/include/numpy/ndarraytypes.h:1929\u001b[m\u001b[K,\r\n",
      "                 from \u001b[01m\u001b[K/usr/local/lib/python3.10/dist-packages/numpy/core/include/numpy/ndarrayobject.h:12\u001b[m\u001b[K,\r\n",
      "                 from \u001b[01m\u001b[K/usr/local/lib/python3.10/dist-packages/numpy/core/include/numpy/arrayobject.h:5\u001b[m\u001b[K,\r\n",
      "                 from \u001b[01m\u001b[KHP3_Similarity_Cython_SGD.c:1252\u001b[m\u001b[K:\r\n",
      "\u001b[01m\u001b[K/usr/local/lib/python3.10/dist-packages/numpy/core/include/numpy/npy_1_7_deprecated_api.h:17:2:\u001b[m\u001b[K \u001b[01;35m\u001b[Kwarning: \u001b[m\u001b[K#warning \"Using deprecated NumPy API, disable it with \" \"#define NPY_NO_DEPRECATED_API NPY_1_7_API_VERSION\" [\u001b[01;35m\u001b[K\u001b]8;;https://gcc.gnu.org/onlinedocs/gcc/Warning-Options.html#index-Wcpp\u0007-Wcpp\u001b]8;;\u0007\u001b[m\u001b[K]\r\n",
      "   17 | #\u001b[01;35m\u001b[Kwarning\u001b[m\u001b[K \"Using deprecated NumPy API, disable it with \" \\\r\n",
      "      |  \u001b[01;35m\u001b[K^~~~~~~\u001b[m\u001b[K\r\n",
      "\u001b[01m\u001b[KHP3_Similarity_Cython_SGD.c:\u001b[m\u001b[K In function ‘\u001b[01m\u001b[K__pyx_pf_25HP3_Similarity_Cython_SGD_25HP3_Similarity_Cython_SGD_4fit\u001b[m\u001b[K’:\r\n",
      "\u001b[01m\u001b[KHP3_Similarity_Cython_SGD.c:23631:55:\u001b[m\u001b[K \u001b[01;35m\u001b[Kwarning: \u001b[m\u001b[K‘\u001b[01m\u001b[K__pyx_v_sample_num\u001b[m\u001b[K’ may be used uninitialized in this function [\u001b[01;35m\u001b[K\u001b]8;;https://gcc.gnu.org/onlinedocs/gcc/Warning-Options.html#index-Wmaybe-uninitialized\u0007-Wmaybe-uninitialized\u001b]8;;\u0007\u001b[m\u001b[K]\r\n",
      "23631 |   __pyx_t_1 = PyFloat_FromDouble((__pyx_v_cum_loss / \u001b[01;35m\u001b[K((double)__pyx_v_sample_num)\u001b[m\u001b[K)); if (unlikely(!__pyx_t_1)) __PYX_ERR(0, 291, __pyx_L1_error)\r\n",
      "      |                                                      \u001b[01;35m\u001b[K~^~~~~~~~~~~~~~~~~~~~~~~~~~~\u001b[m\u001b[K\r\n",
      "/usr/local/lib/python3.10/dist-packages/Cython/Compiler/Main.py:381: FutureWarning: Cython directive 'language_level' not set, using '3str' for now (Py3). This has changed from earlier releases! File: /kaggle/working/RECsys_Challenge2024/Recommenders/FeatureWeighting/Cython/HP3_Similarity_Cython_SGD.pyx\r\n",
      "  tree = Parsing.p_module(s, pxd, full_module_name)\r\n",
      "performance hint: HP3_Similarity_Cython_SGD.pyx:113:40: Index should be typed for more efficient access\r\n",
      "performance hint: HP3_Similarity_Cython_SGD.pyx:114:40: Index should be typed for more efficient access\r\n",
      "Compiling [8/11]: HP3_Similarity_Cython_SGD.pyx... PASS\r\n",
      "\r\n",
      "Compiling [9/11]: FBSM_Rating_Cython_SGD.pyx... \r\n",
      "In file included from \u001b[01m\u001b[K/usr/local/lib/python3.10/dist-packages/numpy/core/include/numpy/ndarraytypes.h:1929\u001b[m\u001b[K,\r\n",
      "                 from \u001b[01m\u001b[K/usr/local/lib/python3.10/dist-packages/numpy/core/include/numpy/ndarrayobject.h:12\u001b[m\u001b[K,\r\n",
      "                 from \u001b[01m\u001b[K/usr/local/lib/python3.10/dist-packages/numpy/core/include/numpy/arrayobject.h:5\u001b[m\u001b[K,\r\n",
      "                 from \u001b[01m\u001b[KFBSM_Rating_Cython_SGD.c:1252\u001b[m\u001b[K:\r\n",
      "\u001b[01m\u001b[K/usr/local/lib/python3.10/dist-packages/numpy/core/include/numpy/npy_1_7_deprecated_api.h:17:2:\u001b[m\u001b[K \u001b[01;35m\u001b[Kwarning: \u001b[m\u001b[K#warning \"Using deprecated NumPy API, disable it with \" \"#define NPY_NO_DEPRECATED_API NPY_1_7_API_VERSION\" [\u001b[01;35m\u001b[K\u001b]8;;https://gcc.gnu.org/onlinedocs/gcc/Warning-Options.html#index-Wcpp\u0007-Wcpp\u001b]8;;\u0007\u001b[m\u001b[K]\r\n",
      "   17 | #\u001b[01;35m\u001b[Kwarning\u001b[m\u001b[K \"Using deprecated NumPy API, disable it with \" \\\r\n",
      "      |  \u001b[01;35m\u001b[K^~~~~~~\u001b[m\u001b[K\r\n",
      "\u001b[01m\u001b[KFBSM_Rating_Cython_SGD.c:\u001b[m\u001b[K In function ‘\u001b[01m\u001b[K__pyx_pf_22FBSM_Rating_Cython_SGD_22FBSM_Rating_Cython_SGD_2fit\u001b[m\u001b[K’:\r\n",
      "\u001b[01m\u001b[KFBSM_Rating_Cython_SGD.c:26607:55:\u001b[m\u001b[K \u001b[01;35m\u001b[Kwarning: \u001b[m\u001b[K‘\u001b[01m\u001b[K__pyx_v_num_sample\u001b[m\u001b[K’ may be used uninitialized in this function [\u001b[01;35m\u001b[K\u001b]8;;https://gcc.gnu.org/onlinedocs/gcc/Warning-Options.html#index-Wmaybe-uninitialized\u0007-Wmaybe-uninitialized\u001b]8;;\u0007\u001b[m\u001b[K]\r\n",
      "26607 |   __pyx_t_5 = PyFloat_FromDouble((__pyx_v_cum_loss / \u001b[01;35m\u001b[K((double)__pyx_v_num_sample)\u001b[m\u001b[K)); if (unlikely(!__pyx_t_5)) __PYX_ERR(0, 551, __pyx_L1_error)\r\n",
      "      |                                                      \u001b[01;35m\u001b[K~^~~~~~~~~~~~~~~~~~~~~~~~~~~\u001b[m\u001b[K\r\n",
      "/usr/local/lib/python3.10/dist-packages/Cython/Compiler/Main.py:381: FutureWarning: Cython directive 'language_level' not set, using '3str' for now (Py3). This has changed from earlier releases! File: /kaggle/working/RECsys_Challenge2024/Recommenders/FeatureWeighting/Cython/FBSM_Rating_Cython_SGD.pyx\r\n",
      "  tree = Parsing.p_module(s, pxd, full_module_name)\r\n",
      "Compiling [9/11]: FBSM_Rating_Cython_SGD.pyx... PASS\r\n",
      "\r\n",
      "Compiling [10/11]: CFW_DVV_Similarity_Cython_SGD.pyx... \r\n",
      "In file included from \u001b[01m\u001b[K/usr/local/lib/python3.10/dist-packages/numpy/core/include/numpy/ndarraytypes.h:1929\u001b[m\u001b[K,\r\n",
      "                 from \u001b[01m\u001b[K/usr/local/lib/python3.10/dist-packages/numpy/core/include/numpy/ndarrayobject.h:12\u001b[m\u001b[K,\r\n",
      "                 from \u001b[01m\u001b[K/usr/local/lib/python3.10/dist-packages/numpy/core/include/numpy/arrayobject.h:5\u001b[m\u001b[K,\r\n",
      "                 from \u001b[01m\u001b[KCFW_DVV_Similarity_Cython_SGD.c:1252\u001b[m\u001b[K:\r\n",
      "\u001b[01m\u001b[K/usr/local/lib/python3.10/dist-packages/numpy/core/include/numpy/npy_1_7_deprecated_api.h:17:2:\u001b[m\u001b[K \u001b[01;35m\u001b[Kwarning: \u001b[m\u001b[K#warning \"Using deprecated NumPy API, disable it with \" \"#define NPY_NO_DEPRECATED_API NPY_1_7_API_VERSION\" [\u001b[01;35m\u001b[K\u001b]8;;https://gcc.gnu.org/onlinedocs/gcc/Warning-Options.html#index-Wcpp\u0007-Wcpp\u001b]8;;\u0007\u001b[m\u001b[K]\r\n",
      "   17 | #\u001b[01;35m\u001b[Kwarning\u001b[m\u001b[K \"Using deprecated NumPy API, disable it with \" \\\r\n",
      "      |  \u001b[01;35m\u001b[K^~~~~~~\u001b[m\u001b[K\r\n",
      "/usr/local/lib/python3.10/dist-packages/Cython/Compiler/Main.py:381: FutureWarning: Cython directive 'language_level' not set, using '3str' for now (Py3). This has changed from earlier releases! File: /kaggle/working/RECsys_Challenge2024/Recommenders/FeatureWeighting/Cython/CFW_DVV_Similarity_Cython_SGD.pyx\r\n",
      "  tree = Parsing.p_module(s, pxd, full_module_name)\r\n",
      "Compiling [10/11]: CFW_DVV_Similarity_Cython_SGD.pyx... PASS\r\n",
      "\r\n",
      "Compiling [11/11]: DataIterator.pyx... \r\n",
      "In file included from \u001b[01m\u001b[K/usr/local/lib/python3.10/dist-packages/numpy/core/include/numpy/ndarraytypes.h:1929\u001b[m\u001b[K,\r\n",
      "                 from \u001b[01m\u001b[K/usr/local/lib/python3.10/dist-packages/numpy/core/include/numpy/ndarrayobject.h:12\u001b[m\u001b[K,\r\n",
      "                 from \u001b[01m\u001b[K/usr/local/lib/python3.10/dist-packages/numpy/core/include/numpy/arrayobject.h:5\u001b[m\u001b[K,\r\n",
      "                 from \u001b[01m\u001b[KDataIterator.c:1252\u001b[m\u001b[K:\r\n",
      "\u001b[01m\u001b[K/usr/local/lib/python3.10/dist-packages/numpy/core/include/numpy/npy_1_7_deprecated_api.h:17:2:\u001b[m\u001b[K \u001b[01;35m\u001b[Kwarning: \u001b[m\u001b[K#warning \"Using deprecated NumPy API, disable it with \" \"#define NPY_NO_DEPRECATED_API NPY_1_7_API_VERSION\" [\u001b[01;35m\u001b[K\u001b]8;;https://gcc.gnu.org/onlinedocs/gcc/Warning-Options.html#index-Wcpp\u0007-Wcpp\u001b]8;;\u0007\u001b[m\u001b[K]\r\n",
      "   17 | #\u001b[01;35m\u001b[Kwarning\u001b[m\u001b[K \"Using deprecated NumPy API, disable it with \" \\\r\n",
      "      |  \u001b[01;35m\u001b[K^~~~~~~\u001b[m\u001b[K\r\n",
      "\u001b[01m\u001b[KDataIterator.c:\u001b[m\u001b[K In function ‘\u001b[01m\u001b[K__pyx_pf_12DataIterator_19InteractionIterator_6__next__\u001b[m\u001b[K’:\r\n",
      "\u001b[01m\u001b[KDataIterator.c:20937:22:\u001b[m\u001b[K \u001b[01;35m\u001b[Kwarning: \u001b[m\u001b[K‘\u001b[01m\u001b[K__pyx_v_i_batch\u001b[m\u001b[K’ may be used uninitialized in this function [\u001b[01;35m\u001b[K\u001b]8;;https://gcc.gnu.org/onlinedocs/gcc/Warning-Options.html#index-Wmaybe-uninitialized\u0007-Wmaybe-uninitialized\u001b]8;;\u0007\u001b[m\u001b[K]\r\n",
      "20937 |     (__pyx_v_i_batch \u001b[01;35m\u001b[K+\u001b[m\u001b[K 1),\r\n",
      "      |                      \u001b[01;35m\u001b[K^\u001b[m\u001b[K\r\n",
      "\u001b[01m\u001b[KDataIterator.c:\u001b[m\u001b[K In function ‘\u001b[01m\u001b[K__pyx_pf_12DataIterator_30InteractionAndNegativeIterator_6__next__\u001b[m\u001b[K’:\r\n",
      "\u001b[01m\u001b[KDataIterator.c:25499:22:\u001b[m\u001b[K \u001b[01;35m\u001b[Kwarning: \u001b[m\u001b[K‘\u001b[01m\u001b[K__pyx_v_i_batch\u001b[m\u001b[K’ may be used uninitialized in this function [\u001b[01;35m\u001b[K\u001b]8;;https://gcc.gnu.org/onlinedocs/gcc/Warning-Options.html#index-Wmaybe-uninitialized\u0007-Wmaybe-uninitialized\u001b]8;;\u0007\u001b[m\u001b[K]\r\n",
      "25499 |     (__pyx_v_i_batch \u001b[01;35m\u001b[K+\u001b[m\u001b[K 1),\r\n",
      "      |                      \u001b[01;35m\u001b[K^\u001b[m\u001b[K\r\n",
      "\u001b[01m\u001b[KDataIterator.c:\u001b[m\u001b[K In function ‘\u001b[01m\u001b[K__pyx_pf_12DataIterator_11BPRIterator_6__next__\u001b[m\u001b[K’:\r\n",
      "\u001b[01m\u001b[KDataIterator.c:23056:22:\u001b[m\u001b[K \u001b[01;35m\u001b[Kwarning: \u001b[m\u001b[K‘\u001b[01m\u001b[K__pyx_v_i_batch\u001b[m\u001b[K’ may be used uninitialized in this function [\u001b[01;35m\u001b[K\u001b]8;;https://gcc.gnu.org/onlinedocs/gcc/Warning-Options.html#index-Wmaybe-uninitialized\u0007-Wmaybe-uninitialized\u001b]8;;\u0007\u001b[m\u001b[K]\r\n",
      "23056 |     (__pyx_v_i_batch \u001b[01;35m\u001b[K+\u001b[m\u001b[K 1),\r\n",
      "      |                      \u001b[01;35m\u001b[K^\u001b[m\u001b[K\r\n",
      "/usr/local/lib/python3.10/dist-packages/Cython/Compiler/Main.py:381: FutureWarning: Cython directive 'language_level' not set, using '3str' for now (Py3). This has changed from earlier releases! File: /kaggle/working/RECsys_Challenge2024/Utils/PyTorch/Cython/DataIterator.pyx\r\n",
      "  tree = Parsing.p_module(s, pxd, full_module_name)\r\n",
      "Compiling [11/11]: DataIterator.pyx... PASS\r\n",
      "\r\n",
      "run_compile_all_cython: Compilation finished. FAILS 2/11.\r\n",
      "Compilation log can be found here: './result_experiments/run_compile_all_cython.txt'\r\n"
     ]
    }
   ],
   "source": [
    "%cd /kaggle/working/RECsys_Challenge2024 \n",
    "! python run_compile_all_cython.py"
   ]
  },
  {
   "cell_type": "code",
   "execution_count": 5,
   "id": "9885030d",
   "metadata": {
    "execution": {
     "iopub.execute_input": "2025-01-06T23:36:53.705968Z",
     "iopub.status.busy": "2025-01-06T23:36:53.705393Z",
     "iopub.status.idle": "2025-01-06T23:36:55.339709Z",
     "shell.execute_reply": "2025-01-06T23:36:55.338167Z"
    },
    "papermill": {
     "duration": 1.652312,
     "end_time": "2025-01-06T23:36:55.341752",
     "exception": false,
     "start_time": "2025-01-06T23:36:53.689440",
     "status": "completed"
    },
    "tags": []
   },
   "outputs": [],
   "source": [
    "from Utils.notebookFunctions import *\n",
    "import numpy as np\n",
    "import pandas as pd\n",
    "import scipy.sparse as sps\n",
    "import time\n",
    "import shutil\n",
    "import optuna\n",
    "import json\n",
    "import os\n",
    "from Utils.seconds_to_biggest_unit import seconds_to_biggest_unit\n",
    "\n",
    "\n",
    "K_PATH = '/kaggle/working/RECsys_Challenge2024'\n",
    "GH_PATH = 'TrainedModels/WithKFCV/KNN'\n",
    "\n",
    "np.random.seed(42)"
   ]
  },
  {
   "cell_type": "markdown",
   "id": "6f400b47",
   "metadata": {
    "papermill": {
     "duration": 0.014341,
     "end_time": "2025-01-06T23:36:55.370649",
     "exception": false,
     "start_time": "2025-01-06T23:36:55.356308",
     "status": "completed"
    },
    "tags": []
   },
   "source": [
    "## Import the repository **RECsys_Challenge2024**"
   ]
  },
  {
   "cell_type": "code",
   "execution_count": 6,
   "id": "bc7bfd6f",
   "metadata": {
    "execution": {
     "iopub.execute_input": "2025-01-06T23:36:55.401951Z",
     "iopub.status.busy": "2025-01-06T23:36:55.401426Z",
     "iopub.status.idle": "2025-01-06T23:36:55.733085Z",
     "shell.execute_reply": "2025-01-06T23:36:55.731398Z"
    },
    "papermill": {
     "duration": 0.349537,
     "end_time": "2025-01-06T23:36:55.735446",
     "exception": false,
     "start_time": "2025-01-06T23:36:55.385909",
     "status": "completed"
    },
    "tags": []
   },
   "outputs": [
    {
     "name": "stdout",
     "output_type": "stream",
     "text": [
      "Repository 'RECsys_Challenge2024' found.\n"
     ]
    }
   ],
   "source": [
    "repo = get_repo_from_github(token)"
   ]
  },
  {
   "cell_type": "code",
   "execution_count": 7,
   "id": "2c071820",
   "metadata": {
    "execution": {
     "iopub.execute_input": "2025-01-06T23:36:55.767929Z",
     "iopub.status.busy": "2025-01-06T23:36:55.767381Z",
     "iopub.status.idle": "2025-01-06T23:36:55.772683Z",
     "shell.execute_reply": "2025-01-06T23:36:55.771312Z"
    },
    "papermill": {
     "duration": 0.024155,
     "end_time": "2025-01-06T23:36:55.775132",
     "exception": false,
     "start_time": "2025-01-06T23:36:55.750977",
     "status": "completed"
    },
    "tags": []
   },
   "outputs": [],
   "source": [
    "config = {\n",
    "    'model': 'ItemKNNCBF',\n",
    "    'n_folds': 5,\n",
    "    'metric': 'MAP',\n",
    "    'tune_parameters': True,\n",
    "    'database_path': '/kaggle/working/history_ItemKNNCBF_MAP.db',\n",
    "    'copy_prev_best_params': False,\n",
    "    'tune_best_params': True,\n",
    "    'save_github': True\n",
    "}"
   ]
  },
  {
   "cell_type": "markdown",
   "id": "eee0748b",
   "metadata": {
    "papermill": {
     "duration": 0.0143,
     "end_time": "2025-01-06T23:36:55.807275",
     "exception": false,
     "start_time": "2025-01-06T23:36:55.792975",
     "status": "completed"
    },
    "tags": []
   },
   "source": [
    "Import the database where previous tuning trials have been saved."
   ]
  },
  {
   "cell_type": "code",
   "execution_count": 8,
   "id": "70de2395",
   "metadata": {
    "execution": {
     "iopub.execute_input": "2025-01-06T23:36:55.838787Z",
     "iopub.status.busy": "2025-01-06T23:36:55.838367Z",
     "iopub.status.idle": "2025-01-06T23:36:55.844266Z",
     "shell.execute_reply": "2025-01-06T23:36:55.843202Z"
    },
    "papermill": {
     "duration": 0.023581,
     "end_time": "2025-01-06T23:36:55.846090",
     "exception": false,
     "start_time": "2025-01-06T23:36:55.822509",
     "status": "completed"
    },
    "tags": []
   },
   "outputs": [],
   "source": [
    "try:\n",
    "    shutil.copyfile(\n",
    "        f'{K_PATH}/{GH_PATH}/{config[\"model\"]}Recommender/Optimizing{config[\"metric\"]}/history_{config[\"model\"]}_{config[\"metric\"]}.db', \n",
    "        config['database_path']\n",
    "    )\n",
    "except FileNotFoundError:\n",
    "    pass # if not present optuna will create it"
   ]
  },
  {
   "cell_type": "markdown",
   "id": "bcf70b03",
   "metadata": {
    "papermill": {
     "duration": 0.014069,
     "end_time": "2025-01-06T23:36:55.874891",
     "exception": false,
     "start_time": "2025-01-06T23:36:55.860822",
     "status": "completed"
    },
    "tags": []
   },
   "source": [
    "# Construction of URM and ICM matrices"
   ]
  },
  {
   "cell_type": "code",
   "execution_count": 9,
   "id": "f34c9d43",
   "metadata": {
    "execution": {
     "iopub.execute_input": "2025-01-06T23:36:55.906464Z",
     "iopub.status.busy": "2025-01-06T23:36:55.906055Z",
     "iopub.status.idle": "2025-01-06T23:36:56.514182Z",
     "shell.execute_reply": "2025-01-06T23:36:56.512892Z"
    },
    "papermill": {
     "duration": 0.626463,
     "end_time": "2025-01-06T23:36:56.516361",
     "exception": false,
     "start_time": "2025-01-06T23:36:55.889898",
     "status": "completed"
    },
    "tags": []
   },
   "outputs": [
    {
     "data": {
      "text/plain": [
       "<35736x38121 sparse matrix of type '<class 'numpy.float64'>'\n",
       "\twith 1764607 stored elements in Compressed Sparse Row format>"
      ]
     },
     "execution_count": 9,
     "metadata": {},
     "output_type": "execute_result"
    }
   ],
   "source": [
    "URM_all_dataframe = pd.read_csv(\"/kaggle/working/RECsys_Challenge2024/Dataset/data_train.csv\")\n",
    "\n",
    "n_users = len(URM_all_dataframe[\"user_id\"].unique())\n",
    "n_items = len(URM_all_dataframe[\"item_id\"].unique())\n",
    "\n",
    "URM_all = sps.csr_matrix((URM_all_dataframe[\"data\"].values, \n",
    "                          (URM_all_dataframe[\"user_id\"].values, URM_all_dataframe[\"item_id\"].values)),\n",
    "                        shape = (n_users, n_items))\n",
    "\n",
    "URM_all"
   ]
  },
  {
   "cell_type": "code",
   "execution_count": 10,
   "id": "b0327c44",
   "metadata": {
    "execution": {
     "iopub.execute_input": "2025-01-06T23:36:56.546793Z",
     "iopub.status.busy": "2025-01-06T23:36:56.546440Z",
     "iopub.status.idle": "2025-01-06T23:36:57.475878Z",
     "shell.execute_reply": "2025-01-06T23:36:57.474843Z"
    },
    "papermill": {
     "duration": 0.946768,
     "end_time": "2025-01-06T23:36:57.477767",
     "exception": false,
     "start_time": "2025-01-06T23:36:56.530999",
     "status": "completed"
    },
    "tags": []
   },
   "outputs": [
    {
     "data": {
      "text/plain": [
       "<38121x94331 sparse matrix of type '<class 'numpy.float64'>'\n",
       "\twith 2940040 stored elements in Compressed Sparse Row format>"
      ]
     },
     "execution_count": 10,
     "metadata": {},
     "output_type": "execute_result"
    }
   ],
   "source": [
    "ICM_dataframe = pd.read_csv(\"/kaggle/working/RECsys_Challenge2024/Dataset/data_ICM_metadata.csv\")\n",
    "\n",
    "n_items = len(ICM_dataframe[\"item_id\"].unique())\n",
    "n_features = len(ICM_dataframe[\"feature_id\"].unique())\n",
    "\n",
    "ICM_all = sps.csr_matrix((ICM_dataframe[\"data\"].values, \n",
    "                          (ICM_dataframe[\"item_id\"].values, ICM_dataframe[\"feature_id\"].values)),\n",
    "                        shape = (n_items, n_features))\n",
    "\n",
    "ICM_all"
   ]
  },
  {
   "cell_type": "markdown",
   "id": "84a7f449",
   "metadata": {
    "papermill": {
     "duration": 0.014381,
     "end_time": "2025-01-06T23:36:57.507405",
     "exception": false,
     "start_time": "2025-01-06T23:36:57.493024",
     "status": "completed"
    },
    "tags": []
   },
   "source": [
    "# Training"
   ]
  },
  {
   "cell_type": "code",
   "execution_count": 11,
   "id": "784b637b",
   "metadata": {
    "execution": {
     "iopub.execute_input": "2025-01-06T23:36:57.538990Z",
     "iopub.status.busy": "2025-01-06T23:36:57.538420Z",
     "iopub.status.idle": "2025-01-06T23:37:15.798004Z",
     "shell.execute_reply": "2025-01-06T23:37:15.797059Z"
    },
    "papermill": {
     "duration": 18.277284,
     "end_time": "2025-01-06T23:37:15.800069",
     "exception": false,
     "start_time": "2025-01-06T23:36:57.522785",
     "status": "completed"
    },
    "tags": []
   },
   "outputs": [
    {
     "name": "stdout",
     "output_type": "stream",
     "text": [
      "Warning: 141 (0.39 %) of 35736 users have no sampled items\n"
     ]
    }
   ],
   "source": [
    "from Evaluation.Evaluator import EvaluatorHoldout\n",
    "from Data_manager.split_functions.split_train_validation_random_holdout import split_train_in_two_percentage_global_sample\n",
    "from Data_manager.split_functions.split_train_k_folds import split_train_k_folds\n",
    "\n",
    "URM_train, URM_validation = split_train_in_two_percentage_global_sample(URM_all, train_percentage = 0.80)\n",
    "\n",
    "folds = split_train_k_folds(URM_all, k=config['n_folds'])"
   ]
  },
  {
   "cell_type": "code",
   "execution_count": 12,
   "id": "ebc6e686",
   "metadata": {
    "execution": {
     "iopub.execute_input": "2025-01-06T23:37:15.834002Z",
     "iopub.status.busy": "2025-01-06T23:37:15.833536Z",
     "iopub.status.idle": "2025-01-06T23:37:15.851644Z",
     "shell.execute_reply": "2025-01-06T23:37:15.850442Z"
    },
    "papermill": {
     "duration": 0.03694,
     "end_time": "2025-01-06T23:37:15.853554",
     "exception": false,
     "start_time": "2025-01-06T23:37:15.816614",
     "status": "completed"
    },
    "tags": []
   },
   "outputs": [],
   "source": [
    "from Recommenders.KNN.ItemKNNCBFRecommender import ItemKNNCBFRecommender\n",
    "\n",
    "def objective_function_ItemKNNCBF(optuna_trial):\n",
    "    \n",
    "    similarity = optuna_trial.suggest_categorical(\"similarity\", ['cosine', 'dice', 'jaccard', 'asymmetric', 'tversky', 'euclidean'])\n",
    "    \n",
    "    full_hyperp = {\"similarity\": similarity,\n",
    "                   \"topK\": optuna_trial.suggest_int(\"topK\", 0, 750),\n",
    "                   \"shrink\": optuna_trial.suggest_int(\"shrink\", 0, 1000),\n",
    "                   'feature_weighting': optuna_trial.suggest_categorical('feature_weighting', [\"BM25\", \"TF-IDF\", \"none\"])\n",
    "                  }\n",
    "    \n",
    "    if similarity == \"asymmetric\":\n",
    "        full_hyperp[\"asymmetric_alpha\"] = optuna_trial.suggest_float(\"asymmetric_alpha\", 0, 2, log=False)\n",
    "        full_hyperp[\"normalize\"] = True     \n",
    "\n",
    "    elif similarity == \"tversky\":\n",
    "        full_hyperp[\"tversky_alpha\"] = optuna_trial.suggest_float(\"tversky_alpha\", 0, 2, log=False)\n",
    "        full_hyperp[\"tversky_beta\"] = optuna_trial.suggest_float(\"tversky_beta\", 0, 2, log=False)\n",
    "        full_hyperp[\"normalize\"] = True \n",
    "\n",
    "    elif similarity == \"euclidean\":\n",
    "        full_hyperp[\"normalize_avg_row\"] = optuna_trial.suggest_categorical(\"normalize_avg_row\", [True, False])\n",
    "        full_hyperp[\"similarity_from_distance_mode\"] = optuna_trial.suggest_categorical(\"similarity_from_distance_mode\", [\"lin\", \"log\", \"exp\"])\n",
    "        full_hyperp[\"normalize\"] = optuna_trial.suggest_categorical(\"normalize\", [True, False])\n",
    "        \n",
    "    \n",
    "    validation_results = []\n",
    "    \n",
    "    for fold_idx, (URM_train_fold, URM_validation_fold) in enumerate(folds):\n",
    "    \n",
    "        recommender_instance = ItemKNNCBFRecommender(URM_train_fold, ICM_all)\n",
    "        recommender_instance.fit(**full_hyperp)\n",
    "        \n",
    "        evaluator = EvaluatorHoldout(URM_validation_fold, cutoff_list=[10])\n",
    "        result_df, _ = evaluator.evaluateRecommender(recommender_instance)\n",
    "        \n",
    "        validation_results.append(result_df.loc[10][\"MAP\"])\n",
    "    \n",
    "    return np.mean(validation_results)"
   ]
  },
  {
   "cell_type": "code",
   "execution_count": 13,
   "id": "d06177d2",
   "metadata": {
    "execution": {
     "iopub.execute_input": "2025-01-06T23:37:15.884935Z",
     "iopub.status.busy": "2025-01-06T23:37:15.884594Z",
     "iopub.status.idle": "2025-01-07T11:11:28.476878Z",
     "shell.execute_reply": "2025-01-07T11:11:28.475522Z"
    },
    "papermill": {
     "duration": 41652.64579,
     "end_time": "2025-01-07T11:11:28.514218",
     "exception": false,
     "start_time": "2025-01-06T23:37:15.868428",
     "status": "completed"
    },
    "tags": []
   },
   "outputs": [
    {
     "name": "stderr",
     "output_type": "stream",
     "text": [
      "[I 2025-01-06 23:37:16,952] Using an existing study with name 'hyperparameters_tuning_ItemKNNCBF_MAP' instead of creating a new one.\n"
     ]
    },
    {
     "name": "stdout",
     "output_type": "stream",
     "text": [
      "Similarity column 38121 (100.0%), 691.70 column/sec. Elapsed time 55.11 sec\n",
      "EvaluatorHoldout: Ignoring 173 ( 0.5%) Users that have less than 1 test interactions\n",
      "EvaluatorHoldout: Processed 35563 (100.0%) in 34.30 sec. Users per second: 1037\n",
      "Similarity column 38121 (100.0%), 690.56 column/sec. Elapsed time 55.20 sec\n",
      "EvaluatorHoldout: Ignoring 163 ( 0.5%) Users that have less than 1 test interactions\n",
      "EvaluatorHoldout: Processed 35573 (100.0%) in 34.28 sec. Users per second: 1038\n",
      "Similarity column 38121 (100.0%), 693.28 column/sec. Elapsed time 54.99 sec\n",
      "EvaluatorHoldout: Ignoring 150 ( 0.4%) Users that have less than 1 test interactions\n",
      "EvaluatorHoldout: Processed 35586 (100.0%) in 34.33 sec. Users per second: 1036\n",
      "Similarity column 38121 (100.0%), 695.40 column/sec. Elapsed time 54.82 sec\n",
      "EvaluatorHoldout: Ignoring 167 ( 0.5%) Users that have less than 1 test interactions\n",
      "EvaluatorHoldout: Processed 35569 (100.0%) in 34.30 sec. Users per second: 1037\n",
      "Similarity column 38121 (100.0%), 696.39 column/sec. Elapsed time 54.74 sec\n",
      "EvaluatorHoldout: Ignoring 172 ( 0.5%) Users that have less than 1 test interactions\n",
      "EvaluatorHoldout: Processed 35564 (100.0%) in 34.33 sec. Users per second: 1036\n"
     ]
    },
    {
     "name": "stderr",
     "output_type": "stream",
     "text": [
      "[I 2025-01-06 23:44:45,860] Trial 267 finished with value: 0.018485892106784745 and parameters: {'similarity': 'cosine', 'topK': 25, 'shrink': 563, 'feature_weighting': 'TF-IDF'}. Best is trial 121 with value: 0.018671630477460725.\n"
     ]
    },
    {
     "name": "stdout",
     "output_type": "stream",
     "text": [
      "Similarity column 38121 (100.0%), 693.35 column/sec. Elapsed time 54.98 sec\n",
      "EvaluatorHoldout: Ignoring 173 ( 0.5%) Users that have less than 1 test interactions\n",
      "EvaluatorHoldout: Processed 35563 (100.0%) in 33.16 sec. Users per second: 1073\n",
      "Similarity column 38121 (100.0%), 695.93 column/sec. Elapsed time 54.78 sec\n",
      "EvaluatorHoldout: Ignoring 163 ( 0.5%) Users that have less than 1 test interactions\n",
      "EvaluatorHoldout: Processed 35573 (100.0%) in 33.29 sec. Users per second: 1069\n",
      "Similarity column 38121 (100.0%), 687.70 column/sec. Elapsed time 55.43 sec\n",
      "EvaluatorHoldout: Ignoring 150 ( 0.4%) Users that have less than 1 test interactions\n",
      "EvaluatorHoldout: Processed 35586 (100.0%) in 33.67 sec. Users per second: 1057\n",
      "Similarity column 38121 (100.0%), 696.03 column/sec. Elapsed time 54.77 sec\n",
      "EvaluatorHoldout: Ignoring 167 ( 0.5%) Users that have less than 1 test interactions\n",
      "EvaluatorHoldout: Processed 35569 (100.0%) in 33.29 sec. Users per second: 1068\n",
      "Similarity column 38121 (100.0%), 696.23 column/sec. Elapsed time 54.75 sec\n",
      "EvaluatorHoldout: Ignoring 172 ( 0.5%) Users that have less than 1 test interactions\n",
      "EvaluatorHoldout: Processed 35564 (100.0%) in 33.33 sec. Users per second: 1067\n"
     ]
    },
    {
     "name": "stderr",
     "output_type": "stream",
     "text": [
      "[I 2025-01-06 23:52:09,471] Trial 268 finished with value: 0.018625262757224564 and parameters: {'similarity': 'cosine', 'topK': 14, 'shrink': 515, 'feature_weighting': 'TF-IDF'}. Best is trial 121 with value: 0.018671630477460725.\n"
     ]
    },
    {
     "name": "stdout",
     "output_type": "stream",
     "text": [
      "Similarity column 38121 (100.0%), 697.06 column/sec. Elapsed time 54.69 sec\n",
      "EvaluatorHoldout: Ignoring 173 ( 0.5%) Users that have less than 1 test interactions\n",
      "EvaluatorHoldout: Processed 35563 (100.0%) in 35.77 sec. Users per second: 994\n",
      "Similarity column 38121 (100.0%), 698.63 column/sec. Elapsed time 54.57 sec\n",
      "EvaluatorHoldout: Ignoring 163 ( 0.5%) Users that have less than 1 test interactions\n",
      "EvaluatorHoldout: Processed 35573 (100.0%) in 36.18 sec. Users per second: 983\n",
      "Similarity column 38121 (100.0%), 689.77 column/sec. Elapsed time 55.27 sec\n",
      "EvaluatorHoldout: Ignoring 150 ( 0.4%) Users that have less than 1 test interactions\n",
      "EvaluatorHoldout: Processed 35586 (100.0%) in 35.79 sec. Users per second: 994\n",
      "Similarity column 38121 (100.0%), 695.47 column/sec. Elapsed time 54.81 sec\n",
      "EvaluatorHoldout: Ignoring 167 ( 0.5%) Users that have less than 1 test interactions\n",
      "EvaluatorHoldout: Processed 35569 (100.0%) in 36.05 sec. Users per second: 987\n",
      "Similarity column 38121 (100.0%), 695.29 column/sec. Elapsed time 54.83 sec\n",
      "EvaluatorHoldout: Ignoring 172 ( 0.5%) Users that have less than 1 test interactions\n",
      "EvaluatorHoldout: Processed 35564 (100.0%) in 36.21 sec. Users per second: 982\n"
     ]
    },
    {
     "name": "stderr",
     "output_type": "stream",
     "text": [
      "[I 2025-01-06 23:59:46,149] Trial 269 finished with value: 0.017716585655773838 and parameters: {'similarity': 'cosine', 'topK': 54, 'shrink': 473, 'feature_weighting': 'BM25'}. Best is trial 121 with value: 0.018671630477460725.\n"
     ]
    },
    {
     "name": "stdout",
     "output_type": "stream",
     "text": [
      "Similarity column 38121 (100.0%), 685.26 column/sec. Elapsed time 55.63 sec\n",
      "EvaluatorHoldout: Ignoring 173 ( 0.5%) Users that have less than 1 test interactions\n",
      "EvaluatorHoldout: Processed 35563 (100.0%) in 35.42 sec. Users per second: 1004\n",
      "Similarity column 38121 (100.0%), 691.67 column/sec. Elapsed time 55.11 sec\n",
      "EvaluatorHoldout: Ignoring 163 ( 0.5%) Users that have less than 1 test interactions\n",
      "EvaluatorHoldout: Processed 35573 (100.0%) in 34.79 sec. Users per second: 1022\n",
      "Similarity column 38121 (100.0%), 701.17 column/sec. Elapsed time 54.37 sec\n",
      "EvaluatorHoldout: Ignoring 150 ( 0.4%) Users that have less than 1 test interactions\n",
      "EvaluatorHoldout: Processed 35586 (100.0%) in 34.30 sec. Users per second: 1037\n",
      "Similarity column 38121 (100.0%), 701.61 column/sec. Elapsed time 54.33 sec\n",
      "EvaluatorHoldout: Ignoring 167 ( 0.5%) Users that have less than 1 test interactions\n",
      "EvaluatorHoldout: Processed 35569 (100.0%) in 34.48 sec. Users per second: 1032\n",
      "Similarity column 38121 (100.0%), 698.66 column/sec. Elapsed time 54.56 sec\n",
      "EvaluatorHoldout: Ignoring 172 ( 0.5%) Users that have less than 1 test interactions\n",
      "EvaluatorHoldout: Processed 35564 (100.0%) in 34.68 sec. Users per second: 1026\n"
     ]
    },
    {
     "name": "stderr",
     "output_type": "stream",
     "text": [
      "[I 2025-01-07 00:07:16,040] Trial 270 finished with value: 0.01845937452990224 and parameters: {'similarity': 'cosine', 'topK': 31, 'shrink': 596, 'feature_weighting': 'TF-IDF'}. Best is trial 121 with value: 0.018671630477460725.\n"
     ]
    },
    {
     "name": "stdout",
     "output_type": "stream",
     "text": [
      "Similarity column 38121 (100.0%), 701.74 column/sec. Elapsed time 54.32 sec\n",
      "EvaluatorHoldout: Ignoring 173 ( 0.5%) Users that have less than 1 test interactions\n",
      "EvaluatorHoldout: Processed 35563 (100.0%) in 33.33 sec. Users per second: 1067\n",
      "Similarity column 38121 (100.0%), 700.55 column/sec. Elapsed time 54.42 sec\n",
      "EvaluatorHoldout: Ignoring 163 ( 0.5%) Users that have less than 1 test interactions\n",
      "EvaluatorHoldout: Processed 35573 (100.0%) in 33.37 sec. Users per second: 1066\n",
      "Similarity column 38121 (100.0%), 699.64 column/sec. Elapsed time 54.49 sec\n",
      "EvaluatorHoldout: Ignoring 150 ( 0.4%) Users that have less than 1 test interactions\n",
      "EvaluatorHoldout: Processed 35586 (100.0%) in 33.50 sec. Users per second: 1062\n",
      "Similarity column 38121 (100.0%), 695.28 column/sec. Elapsed time 54.83 sec\n",
      "EvaluatorHoldout: Ignoring 167 ( 0.5%) Users that have less than 1 test interactions\n",
      "EvaluatorHoldout: Processed 35569 (100.0%) in 33.45 sec. Users per second: 1063\n",
      "Similarity column 38121 (100.0%), 703.16 column/sec. Elapsed time 54.21 sec\n",
      "EvaluatorHoldout: Ignoring 172 ( 0.5%) Users that have less than 1 test interactions\n",
      "EvaluatorHoldout: Processed 35564 (100.0%) in 33.38 sec. Users per second: 1066\n"
     ]
    },
    {
     "name": "stderr",
     "output_type": "stream",
     "text": [
      "[I 2025-01-07 00:14:37,508] Trial 271 finished with value: 0.018371303339969874 and parameters: {'similarity': 'cosine', 'topK': 18, 'shrink': 319, 'feature_weighting': 'TF-IDF'}. Best is trial 121 with value: 0.018671630477460725.\n"
     ]
    },
    {
     "name": "stdout",
     "output_type": "stream",
     "text": [
      "Similarity column 38121 (100.0%), 979.25 column/sec. Elapsed time 38.93 sec\n",
      "EvaluatorHoldout: Ignoring 173 ( 0.5%) Users that have less than 1 test interactions\n",
      "EvaluatorHoldout: Processed 35563 (100.0%) in 25.12 sec. Users per second: 1416\n",
      "Similarity column 38121 (100.0%), 977.44 column/sec. Elapsed time 39.00 sec\n",
      "EvaluatorHoldout: Ignoring 163 ( 0.5%) Users that have less than 1 test interactions\n",
      "EvaluatorHoldout: Processed 35573 (100.0%) in 25.51 sec. Users per second: 1394\n",
      "Similarity column 38121 (100.0%), 954.11 column/sec. Elapsed time 39.95 sec\n",
      "EvaluatorHoldout: Ignoring 150 ( 0.4%) Users that have less than 1 test interactions\n",
      "EvaluatorHoldout: Processed 35586 (100.0%) in 25.24 sec. Users per second: 1410\n",
      "Similarity column 38121 (100.0%), 967.86 column/sec. Elapsed time 39.39 sec\n",
      "EvaluatorHoldout: Ignoring 167 ( 0.5%) Users that have less than 1 test interactions\n",
      "EvaluatorHoldout: Processed 35569 (100.0%) in 25.61 sec. Users per second: 1389\n",
      "Similarity column 38121 (100.0%), 957.24 column/sec. Elapsed time 39.82 sec\n",
      "EvaluatorHoldout: Ignoring 172 ( 0.5%) Users that have less than 1 test interactions\n",
      "EvaluatorHoldout: Processed 35564 (100.0%) in 25.48 sec. Users per second: 1396\n"
     ]
    },
    {
     "name": "stderr",
     "output_type": "stream",
     "text": [
      "[I 2025-01-07 00:20:05,548] Trial 272 finished with value: 0.0002664826418719655 and parameters: {'similarity': 'tversky', 'topK': 0, 'shrink': 627, 'feature_weighting': 'TF-IDF', 'tversky_alpha': 1.6624291963128488, 'tversky_beta': 0.48339675075185795}. Best is trial 121 with value: 0.018671630477460725.\n"
     ]
    },
    {
     "name": "stdout",
     "output_type": "stream",
     "text": [
      "Similarity column 38121 (100.0%), 696.28 column/sec. Elapsed time 54.75 sec\n",
      "EvaluatorHoldout: Ignoring 173 ( 0.5%) Users that have less than 1 test interactions\n",
      "EvaluatorHoldout: Processed 35563 (100.0%) in 35.14 sec. Users per second: 1012\n",
      "Similarity column 38121 (100.0%), 694.70 column/sec. Elapsed time 54.87 sec\n",
      "EvaluatorHoldout: Ignoring 163 ( 0.5%) Users that have less than 1 test interactions\n",
      "EvaluatorHoldout: Processed 35573 (100.0%) in 34.70 sec. Users per second: 1025\n",
      "Similarity column 38121 (100.0%), 707.74 column/sec. Elapsed time 53.86 sec\n",
      "EvaluatorHoldout: Ignoring 150 ( 0.4%) Users that have less than 1 test interactions\n",
      "EvaluatorHoldout: Processed 35586 (100.0%) in 34.53 sec. Users per second: 1030\n",
      "Similarity column 38121 (100.0%), 698.07 column/sec. Elapsed time 54.61 sec\n",
      "EvaluatorHoldout: Ignoring 167 ( 0.5%) Users that have less than 1 test interactions\n",
      "EvaluatorHoldout: Processed 35569 (100.0%) in 34.91 sec. Users per second: 1019\n",
      "Similarity column 38121 (100.0%), 702.37 column/sec. Elapsed time 54.27 sec\n",
      "EvaluatorHoldout: Ignoring 172 ( 0.5%) Users that have less than 1 test interactions\n",
      "EvaluatorHoldout: Processed 35564 (100.0%) in 34.88 sec. Users per second: 1020\n"
     ]
    },
    {
     "name": "stderr",
     "output_type": "stream",
     "text": [
      "[I 2025-01-07 00:27:34,341] Trial 273 finished with value: 0.018341851681268093 and parameters: {'similarity': 'cosine', 'topK': 37, 'shrink': 543, 'feature_weighting': 'TF-IDF'}. Best is trial 121 with value: 0.018671630477460725.\n"
     ]
    },
    {
     "name": "stdout",
     "output_type": "stream",
     "text": [
      "Similarity column 38121 (100.0%), 703.62 column/sec. Elapsed time 54.18 sec\n",
      "EvaluatorHoldout: Ignoring 173 ( 0.5%) Users that have less than 1 test interactions\n",
      "EvaluatorHoldout: Processed 35563 (100.0%) in 32.72 sec. Users per second: 1087\n",
      "Similarity column 38121 (100.0%), 700.76 column/sec. Elapsed time 54.40 sec\n",
      "EvaluatorHoldout: Ignoring 163 ( 0.5%) Users that have less than 1 test interactions\n",
      "EvaluatorHoldout: Processed 35573 (100.0%) in 32.97 sec. Users per second: 1079\n",
      "Similarity column 38121 (100.0%), 700.28 column/sec. Elapsed time 54.44 sec\n",
      "EvaluatorHoldout: Ignoring 150 ( 0.4%) Users that have less than 1 test interactions\n",
      "EvaluatorHoldout: Processed 35586 (100.0%) in 33.14 sec. Users per second: 1074\n",
      "Similarity column 38121 (100.0%), 702.99 column/sec. Elapsed time 54.23 sec\n",
      "EvaluatorHoldout: Ignoring 167 ( 0.5%) Users that have less than 1 test interactions\n",
      "EvaluatorHoldout: Processed 35569 (100.0%) in 33.06 sec. Users per second: 1076\n",
      "Similarity column 38121 (100.0%), 704.19 column/sec. Elapsed time 54.13 sec\n",
      "EvaluatorHoldout: Ignoring 172 ( 0.5%) Users that have less than 1 test interactions\n",
      "EvaluatorHoldout: Processed 35564 (100.0%) in 32.87 sec. Users per second: 1082\n"
     ]
    },
    {
     "name": "stderr",
     "output_type": "stream",
     "text": [
      "[I 2025-01-07 00:34:52,579] Trial 274 finished with value: 0.018606813886084685 and parameters: {'similarity': 'cosine', 'topK': 14, 'shrink': 503, 'feature_weighting': 'TF-IDF'}. Best is trial 121 with value: 0.018671630477460725.\n"
     ]
    },
    {
     "name": "stdout",
     "output_type": "stream",
     "text": [
      "Similarity column 38121 (100.0%), 701.69 column/sec. Elapsed time 54.33 sec\n",
      "EvaluatorHoldout: Ignoring 173 ( 0.5%) Users that have less than 1 test interactions\n",
      "EvaluatorHoldout: Processed 35563 (100.0%) in 33.91 sec. Users per second: 1049\n",
      "Similarity column 38121 (100.0%), 704.92 column/sec. Elapsed time 54.08 sec\n",
      "EvaluatorHoldout: Ignoring 163 ( 0.5%) Users that have less than 1 test interactions\n",
      "EvaluatorHoldout: Processed 35573 (100.0%) in 33.76 sec. Users per second: 1054\n",
      "Similarity column 38121 (100.0%), 707.91 column/sec. Elapsed time 53.85 sec\n",
      "EvaluatorHoldout: Ignoring 150 ( 0.4%) Users that have less than 1 test interactions\n",
      "EvaluatorHoldout: Processed 35586 (100.0%) in 33.90 sec. Users per second: 1050\n",
      "Similarity column 38121 (100.0%), 704.94 column/sec. Elapsed time 54.08 sec\n",
      "EvaluatorHoldout: Ignoring 167 ( 0.5%) Users that have less than 1 test interactions\n",
      "EvaluatorHoldout: Processed 35569 (100.0%) in 33.67 sec. Users per second: 1056\n",
      "Similarity column 38121 (100.0%), 702.42 column/sec. Elapsed time 54.27 sec\n",
      "EvaluatorHoldout: Ignoring 172 ( 0.5%) Users that have less than 1 test interactions\n",
      "EvaluatorHoldout: Processed 35564 (100.0%) in 33.72 sec. Users per second: 1055\n"
     ]
    },
    {
     "name": "stderr",
     "output_type": "stream",
     "text": [
      "[I 2025-01-07 00:42:14,306] Trial 275 finished with value: 0.01853405580673282 and parameters: {'similarity': 'cosine', 'topK': 24, 'shrink': 572, 'feature_weighting': 'TF-IDF'}. Best is trial 121 with value: 0.018671630477460725.\n"
     ]
    },
    {
     "name": "stdout",
     "output_type": "stream",
     "text": [
      "Similarity column 38121 (100.0%), 706.52 column/sec. Elapsed time 53.96 sec\n",
      "EvaluatorHoldout: Ignoring 173 ( 0.5%) Users that have less than 1 test interactions\n",
      "EvaluatorHoldout: Processed 35563 (100.0%) in 36.29 sec. Users per second: 980\n",
      "Similarity column 38121 (100.0%), 704.94 column/sec. Elapsed time 54.08 sec\n",
      "EvaluatorHoldout: Ignoring 163 ( 0.5%) Users that have less than 1 test interactions\n",
      "EvaluatorHoldout: Processed 35573 (100.0%) in 36.27 sec. Users per second: 981\n",
      "Similarity column 38121 (100.0%), 702.19 column/sec. Elapsed time 54.29 sec\n",
      "EvaluatorHoldout: Ignoring 150 ( 0.4%) Users that have less than 1 test interactions\n",
      "EvaluatorHoldout: Processed 35586 (100.0%) in 36.18 sec. Users per second: 984\n",
      "Similarity column 38121 (100.0%), 700.83 column/sec. Elapsed time 54.39 sec\n",
      "EvaluatorHoldout: Ignoring 167 ( 0.5%) Users that have less than 1 test interactions\n",
      "EvaluatorHoldout: Processed 35569 (100.0%) in 35.95 sec. Users per second: 990\n",
      "Similarity column 38121 (100.0%), 704.16 column/sec. Elapsed time 54.14 sec\n",
      "EvaluatorHoldout: Ignoring 172 ( 0.5%) Users that have less than 1 test interactions\n",
      "EvaluatorHoldout: Processed 35564 (100.0%) in 36.29 sec. Users per second: 980\n"
     ]
    },
    {
     "name": "stderr",
     "output_type": "stream",
     "text": [
      "[I 2025-01-07 00:49:48,523] Trial 276 finished with value: 0.018116812102547696 and parameters: {'similarity': 'cosine', 'topK': 63, 'shrink': 526, 'feature_weighting': 'TF-IDF'}. Best is trial 121 with value: 0.018671630477460725.\n"
     ]
    },
    {
     "name": "stdout",
     "output_type": "stream",
     "text": [
      "Similarity column 38121 (100.0%), 703.51 column/sec. Elapsed time 54.19 sec\n",
      "EvaluatorHoldout: Ignoring 173 ( 0.5%) Users that have less than 1 test interactions\n",
      "EvaluatorHoldout: Processed 35563 (100.0%) in 34.94 sec. Users per second: 1018\n",
      "Similarity column 38121 (100.0%), 701.46 column/sec. Elapsed time 54.35 sec\n",
      "EvaluatorHoldout: Ignoring 163 ( 0.5%) Users that have less than 1 test interactions\n",
      "EvaluatorHoldout: Processed 35573 (100.0%) in 35.00 sec. Users per second: 1016\n",
      "Similarity column 38121 (100.0%), 705.62 column/sec. Elapsed time 54.02 sec\n",
      "EvaluatorHoldout: Ignoring 150 ( 0.4%) Users that have less than 1 test interactions\n",
      "EvaluatorHoldout: Processed 35586 (100.0%) in 34.90 sec. Users per second: 1020\n",
      "Similarity column 38121 (100.0%), 702.06 column/sec. Elapsed time 54.30 sec\n",
      "EvaluatorHoldout: Ignoring 167 ( 0.5%) Users that have less than 1 test interactions\n",
      "EvaluatorHoldout: Processed 35569 (100.0%) in 34.96 sec. Users per second: 1017\n",
      "Similarity column 38121 (100.0%), 707.53 column/sec. Elapsed time 53.88 sec\n",
      "EvaluatorHoldout: Ignoring 172 ( 0.5%) Users that have less than 1 test interactions\n",
      "EvaluatorHoldout: Processed 35564 (100.0%) in 34.79 sec. Users per second: 1022\n"
     ]
    },
    {
     "name": "stderr",
     "output_type": "stream",
     "text": [
      "[I 2025-01-07 00:57:16,114] Trial 277 finished with value: 0.018311648221843217 and parameters: {'similarity': 'cosine', 'topK': 41, 'shrink': 611, 'feature_weighting': 'TF-IDF'}. Best is trial 121 with value: 0.018671630477460725.\n"
     ]
    },
    {
     "name": "stdout",
     "output_type": "stream",
     "text": [
      "Similarity column 38121 (100.0%), 1007.24 column/sec. Elapsed time 37.85 sec\n",
      "EvaluatorHoldout: Ignoring 173 ( 0.5%) Users that have less than 1 test interactions\n",
      "EvaluatorHoldout: Processed 35563 (100.0%) in 24.80 sec. Users per second: 1434\n",
      "Similarity column 38121 (100.0%), 1004.10 column/sec. Elapsed time 37.97 sec\n",
      "EvaluatorHoldout: Ignoring 163 ( 0.5%) Users that have less than 1 test interactions\n",
      "EvaluatorHoldout: Processed 35573 (100.0%) in 24.90 sec. Users per second: 1429\n",
      "Similarity column 38121 (100.0%), 1003.74 column/sec. Elapsed time 37.98 sec\n",
      "EvaluatorHoldout: Ignoring 150 ( 0.4%) Users that have less than 1 test interactions\n",
      "EvaluatorHoldout: Processed 35586 (100.0%) in 24.85 sec. Users per second: 1432\n",
      "Similarity column 38121 (100.0%), 1003.19 column/sec. Elapsed time 38.00 sec\n",
      "EvaluatorHoldout: Ignoring 167 ( 0.5%) Users that have less than 1 test interactions\n",
      "EvaluatorHoldout: Processed 35569 (100.0%) in 25.00 sec. Users per second: 1423\n",
      "Similarity column 38121 (100.0%), 1001.99 column/sec. Elapsed time 38.05 sec\n",
      "EvaluatorHoldout: Ignoring 172 ( 0.5%) Users that have less than 1 test interactions\n",
      "EvaluatorHoldout: Processed 35564 (100.0%) in 25.16 sec. Users per second: 1413\n"
     ]
    },
    {
     "name": "stderr",
     "output_type": "stream",
     "text": [
      "[I 2025-01-07 01:02:32,625] Trial 278 finished with value: 0.0002664826418719655 and parameters: {'similarity': 'cosine', 'topK': 0, 'shrink': 561, 'feature_weighting': 'TF-IDF'}. Best is trial 121 with value: 0.018671630477460725.\n"
     ]
    },
    {
     "name": "stdout",
     "output_type": "stream",
     "text": [
      "Similarity column 38121 (100.0%), 701.41 column/sec. Elapsed time 54.35 sec\n",
      "EvaluatorHoldout: Ignoring 173 ( 0.5%) Users that have less than 1 test interactions\n",
      "EvaluatorHoldout: Processed 35563 (100.0%) in 45.81 sec. Users per second: 776\n",
      "Similarity column 38121 (100.0%), 696.67 column/sec. Elapsed time 54.72 sec\n",
      "EvaluatorHoldout: Ignoring 163 ( 0.5%) Users that have less than 1 test interactions\n",
      "EvaluatorHoldout: Processed 35573 (100.0%) in 46.44 sec. Users per second: 766\n",
      "Similarity column 38121 (100.0%), 695.63 column/sec. Elapsed time 54.80 sec\n",
      "EvaluatorHoldout: Ignoring 150 ( 0.4%) Users that have less than 1 test interactions\n",
      "EvaluatorHoldout: Processed 35586 (100.0%) in 45.89 sec. Users per second: 775\n",
      "Similarity column 38121 (100.0%), 702.45 column/sec. Elapsed time 54.27 sec\n",
      "EvaluatorHoldout: Ignoring 167 ( 0.5%) Users that have less than 1 test interactions\n",
      "EvaluatorHoldout: Processed 35569 (100.0%) in 45.48 sec. Users per second: 782\n",
      "Similarity column 38121 (100.0%), 705.06 column/sec. Elapsed time 54.07 sec\n",
      "EvaluatorHoldout: Ignoring 172 ( 0.5%) Users that have less than 1 test interactions\n",
      "EvaluatorHoldout: Processed 35564 (100.0%) in 45.76 sec. Users per second: 777\n"
     ]
    },
    {
     "name": "stderr",
     "output_type": "stream",
     "text": [
      "[I 2025-01-07 01:11:00,385] Trial 279 finished with value: 0.011762133792443301 and parameters: {'similarity': 'jaccard', 'topK': 332, 'shrink': 137, 'feature_weighting': 'TF-IDF'}. Best is trial 121 with value: 0.018671630477460725.\n"
     ]
    },
    {
     "name": "stdout",
     "output_type": "stream",
     "text": [
      "Similarity column 38121 (100.0%), 706.92 column/sec. Elapsed time 53.93 sec\n",
      "EvaluatorHoldout: Ignoring 173 ( 0.5%) Users that have less than 1 test interactions\n",
      "EvaluatorHoldout: Processed 35563 (100.0%) in 32.75 sec. Users per second: 1086\n",
      "Similarity column 38121 (100.0%), 706.80 column/sec. Elapsed time 53.93 sec\n",
      "EvaluatorHoldout: Ignoring 163 ( 0.5%) Users that have less than 1 test interactions\n",
      "EvaluatorHoldout: Processed 35573 (100.0%) in 32.65 sec. Users per second: 1089\n",
      "Similarity column 38121 (100.0%), 707.77 column/sec. Elapsed time 53.86 sec\n",
      "EvaluatorHoldout: Ignoring 150 ( 0.4%) Users that have less than 1 test interactions\n",
      "EvaluatorHoldout: Processed 35586 (100.0%) in 32.77 sec. Users per second: 1086\n",
      "Similarity column 38121 (100.0%), 705.84 column/sec. Elapsed time 54.01 sec\n",
      "EvaluatorHoldout: Ignoring 167 ( 0.5%) Users that have less than 1 test interactions\n",
      "EvaluatorHoldout: Processed 35569 (100.0%) in 32.66 sec. Users per second: 1089\n",
      "Similarity column 38121 (100.0%), 706.75 column/sec. Elapsed time 53.94 sec\n",
      "EvaluatorHoldout: Ignoring 172 ( 0.5%) Users that have less than 1 test interactions\n",
      "EvaluatorHoldout: Processed 35564 (100.0%) in 32.78 sec. Users per second: 1085\n"
     ]
    },
    {
     "name": "stderr",
     "output_type": "stream",
     "text": [
      "[I 2025-01-07 01:18:15,675] Trial 280 finished with value: 0.018628768161232677 and parameters: {'similarity': 'cosine', 'topK': 14, 'shrink': 590, 'feature_weighting': 'TF-IDF'}. Best is trial 121 with value: 0.018671630477460725.\n"
     ]
    },
    {
     "name": "stdout",
     "output_type": "stream",
     "text": [
      "Similarity column 38121 (100.0%), 705.29 column/sec. Elapsed time 54.05 sec\n",
      "EvaluatorHoldout: Ignoring 173 ( 0.5%) Users that have less than 1 test interactions\n",
      "EvaluatorHoldout: Processed 35563 (100.0%) in 34.18 sec. Users per second: 1041\n",
      "Similarity column 38121 (100.0%), 704.13 column/sec. Elapsed time 54.14 sec\n",
      "EvaluatorHoldout: Ignoring 163 ( 0.5%) Users that have less than 1 test interactions\n",
      "EvaluatorHoldout: Processed 35573 (100.0%) in 34.20 sec. Users per second: 1040\n",
      "Similarity column 38121 (100.0%), 698.37 column/sec. Elapsed time 54.59 sec\n",
      "EvaluatorHoldout: Ignoring 150 ( 0.4%) Users that have less than 1 test interactions\n",
      "EvaluatorHoldout: Processed 35586 (100.0%) in 34.15 sec. Users per second: 1042\n",
      "Similarity column 38121 (100.0%), 699.87 column/sec. Elapsed time 54.47 sec\n",
      "EvaluatorHoldout: Ignoring 167 ( 0.5%) Users that have less than 1 test interactions\n",
      "EvaluatorHoldout: Processed 35569 (100.0%) in 34.18 sec. Users per second: 1041\n",
      "Similarity column 38121 (100.0%), 701.04 column/sec. Elapsed time 54.38 sec\n",
      "EvaluatorHoldout: Ignoring 172 ( 0.5%) Users that have less than 1 test interactions\n",
      "EvaluatorHoldout: Processed 35564 (100.0%) in 34.14 sec. Users per second: 1042\n"
     ]
    },
    {
     "name": "stderr",
     "output_type": "stream",
     "text": [
      "[I 2025-01-07 01:25:40,277] Trial 281 finished with value: 0.01844276233505558 and parameters: {'similarity': 'cosine', 'topK': 29, 'shrink': 485, 'feature_weighting': 'TF-IDF'}. Best is trial 121 with value: 0.018671630477460725.\n"
     ]
    },
    {
     "name": "stdout",
     "output_type": "stream",
     "text": [
      "Similarity column 38121 (100.0%), 700.19 column/sec. Elapsed time 54.44 sec\n",
      "EvaluatorHoldout: Ignoring 173 ( 0.5%) Users that have less than 1 test interactions\n",
      "EvaluatorHoldout: Processed 35563 (100.0%) in 32.70 sec. Users per second: 1087\n",
      "Similarity column 38121 (100.0%), 699.51 column/sec. Elapsed time 54.50 sec\n",
      "EvaluatorHoldout: Ignoring 163 ( 0.5%) Users that have less than 1 test interactions\n",
      "EvaluatorHoldout: Processed 35573 (100.0%) in 32.68 sec. Users per second: 1088\n",
      "Similarity column 38121 (100.0%), 700.42 column/sec. Elapsed time 54.43 sec\n",
      "EvaluatorHoldout: Ignoring 150 ( 0.4%) Users that have less than 1 test interactions\n",
      "EvaluatorHoldout: Processed 35586 (100.0%) in 32.58 sec. Users per second: 1092\n",
      "Similarity column 38121 (100.0%), 701.85 column/sec. Elapsed time 54.31 sec\n",
      "EvaluatorHoldout: Ignoring 167 ( 0.5%) Users that have less than 1 test interactions\n",
      "EvaluatorHoldout: Processed 35569 (100.0%) in 33.01 sec. Users per second: 1078\n",
      "Similarity column 38121 (100.0%), 696.47 column/sec. Elapsed time 54.73 sec\n",
      "EvaluatorHoldout: Ignoring 172 ( 0.5%) Users that have less than 1 test interactions\n",
      "EvaluatorHoldout: Processed 35564 (100.0%) in 32.76 sec. Users per second: 1086\n"
     ]
    },
    {
     "name": "stderr",
     "output_type": "stream",
     "text": [
      "[I 2025-01-07 01:32:58,524] Trial 282 finished with value: 0.018646771106634975 and parameters: {'similarity': 'cosine', 'topK': 13, 'shrink': 545, 'feature_weighting': 'TF-IDF'}. Best is trial 121 with value: 0.018671630477460725.\n"
     ]
    },
    {
     "name": "stdout",
     "output_type": "stream",
     "text": [
      "Similarity column 38121 (100.0%), 702.05 column/sec. Elapsed time 54.30 sec\n",
      "EvaluatorHoldout: Ignoring 173 ( 0.5%) Users that have less than 1 test interactions\n",
      "EvaluatorHoldout: Processed 35563 (100.0%) in 35.29 sec. Users per second: 1008\n",
      "Similarity column 38121 (100.0%), 700.92 column/sec. Elapsed time 54.39 sec\n",
      "EvaluatorHoldout: Ignoring 163 ( 0.5%) Users that have less than 1 test interactions\n",
      "EvaluatorHoldout: Processed 35573 (100.0%) in 35.58 sec. Users per second: 1000\n",
      "Similarity column 38121 (100.0%), 696.55 column/sec. Elapsed time 54.73 sec\n",
      "EvaluatorHoldout: Ignoring 150 ( 0.4%) Users that have less than 1 test interactions\n",
      "EvaluatorHoldout: Processed 35586 (100.0%) in 35.81 sec. Users per second: 994\n",
      "Similarity column 38121 (100.0%), 701.92 column/sec. Elapsed time 54.31 sec\n",
      "EvaluatorHoldout: Ignoring 167 ( 0.5%) Users that have less than 1 test interactions\n",
      "EvaluatorHoldout: Processed 35569 (100.0%) in 35.42 sec. Users per second: 1004\n",
      "Similarity column 38121 (100.0%), 700.24 column/sec. Elapsed time 54.44 sec\n",
      "EvaluatorHoldout: Ignoring 172 ( 0.5%) Users that have less than 1 test interactions\n",
      "EvaluatorHoldout: Processed 35564 (100.0%) in 35.52 sec. Users per second: 1001\n"
     ]
    },
    {
     "name": "stderr",
     "output_type": "stream",
     "text": [
      "[I 2025-01-07 01:40:30,663] Trial 283 finished with value: 0.018216638715498668 and parameters: {'similarity': 'cosine', 'topK': 49, 'shrink': 549, 'feature_weighting': 'TF-IDF'}. Best is trial 121 with value: 0.018671630477460725.\n"
     ]
    },
    {
     "name": "stdout",
     "output_type": "stream",
     "text": [
      "Similarity column 38121 (100.0%), 1006.34 column/sec. Elapsed time 37.88 sec\n",
      "EvaluatorHoldout: Ignoring 173 ( 0.5%) Users that have less than 1 test interactions\n",
      "EvaluatorHoldout: Processed 35563 (100.0%) in 24.97 sec. Users per second: 1424\n",
      "Similarity column 38121 (100.0%), 1006.56 column/sec. Elapsed time 37.87 sec\n",
      "EvaluatorHoldout: Ignoring 163 ( 0.5%) Users that have less than 1 test interactions\n",
      "EvaluatorHoldout: Processed 35573 (100.0%) in 25.23 sec. Users per second: 1410\n",
      "Similarity column 38121 (100.0%), 996.45 column/sec. Elapsed time 38.26 sec\n",
      "EvaluatorHoldout: Ignoring 150 ( 0.4%) Users that have less than 1 test interactions\n",
      "EvaluatorHoldout: Processed 35586 (100.0%) in 25.31 sec. Users per second: 1406\n",
      "Similarity column 38121 (100.0%), 997.60 column/sec. Elapsed time 38.21 sec\n",
      "EvaluatorHoldout: Ignoring 167 ( 0.5%) Users that have less than 1 test interactions\n",
      "EvaluatorHoldout: Processed 35569 (100.0%) in 25.00 sec. Users per second: 1423\n",
      "Similarity column 38121 (100.0%), 992.50 column/sec. Elapsed time 38.41 sec\n",
      "EvaluatorHoldout: Ignoring 172 ( 0.5%) Users that have less than 1 test interactions\n",
      "EvaluatorHoldout: Processed 35564 (100.0%) in 25.10 sec. Users per second: 1417\n"
     ]
    },
    {
     "name": "stderr",
     "output_type": "stream",
     "text": [
      "[I 2025-01-07 01:45:48,836] Trial 284 finished with value: 0.0002664826418719655 and parameters: {'similarity': 'cosine', 'topK': 0, 'shrink': 580, 'feature_weighting': 'TF-IDF'}. Best is trial 121 with value: 0.018671630477460725.\n"
     ]
    },
    {
     "name": "stdout",
     "output_type": "stream",
     "text": [
      "Similarity column 38121 (100.0%), 707.78 column/sec. Elapsed time 53.86 sec\n",
      "EvaluatorHoldout: Ignoring 173 ( 0.5%) Users that have less than 1 test interactions\n",
      "EvaluatorHoldout: Processed 35563 (100.0%) in 34.31 sec. Users per second: 1036\n",
      "Similarity column 38121 (100.0%), 705.01 column/sec. Elapsed time 54.07 sec\n",
      "EvaluatorHoldout: Ignoring 163 ( 0.5%) Users that have less than 1 test interactions\n",
      "EvaluatorHoldout: Processed 35573 (100.0%) in 34.29 sec. Users per second: 1037\n",
      "Similarity column 38121 (100.0%), 702.45 column/sec. Elapsed time 54.27 sec\n",
      "EvaluatorHoldout: Ignoring 150 ( 0.4%) Users that have less than 1 test interactions\n",
      "EvaluatorHoldout: Processed 35586 (100.0%) in 34.19 sec. Users per second: 1041\n",
      "Similarity column 38121 (100.0%), 707.21 column/sec. Elapsed time 53.90 sec\n",
      "EvaluatorHoldout: Ignoring 167 ( 0.5%) Users that have less than 1 test interactions\n",
      "EvaluatorHoldout: Processed 35569 (100.0%) in 34.03 sec. Users per second: 1045\n",
      "Similarity column 38121 (100.0%), 709.02 column/sec. Elapsed time 53.77 sec\n",
      "EvaluatorHoldout: Ignoring 172 ( 0.5%) Users that have less than 1 test interactions\n",
      "EvaluatorHoldout: Processed 35564 (100.0%) in 34.04 sec. Users per second: 1045\n"
     ]
    },
    {
     "name": "stderr",
     "output_type": "stream",
     "text": [
      "[I 2025-01-07 01:53:13,173] Trial 285 finished with value: 0.01327825327350925 and parameters: {'similarity': 'dice', 'topK': 30, 'shrink': 537, 'feature_weighting': 'none'}. Best is trial 121 with value: 0.018671630477460725.\n"
     ]
    },
    {
     "name": "stdout",
     "output_type": "stream",
     "text": [
      "Similarity column 38121 (100.0%), 700.99 column/sec. Elapsed time 54.38 sec\n",
      "EvaluatorHoldout: Ignoring 173 ( 0.5%) Users that have less than 1 test interactions\n",
      "EvaluatorHoldout: Processed 35563 (100.0%) in 33.56 sec. Users per second: 1060\n",
      "Similarity column 38121 (100.0%), 696.82 column/sec. Elapsed time 54.71 sec\n",
      "EvaluatorHoldout: Ignoring 163 ( 0.5%) Users that have less than 1 test interactions\n",
      "EvaluatorHoldout: Processed 35573 (100.0%) in 33.77 sec. Users per second: 1053\n",
      "Similarity column 38121 (100.0%), 703.64 column/sec. Elapsed time 54.18 sec\n",
      "EvaluatorHoldout: Ignoring 150 ( 0.4%) Users that have less than 1 test interactions\n",
      "EvaluatorHoldout: Processed 35586 (100.0%) in 33.77 sec. Users per second: 1054\n",
      "Similarity column 38121 (100.0%), 703.18 column/sec. Elapsed time 54.21 sec\n",
      "EvaluatorHoldout: Ignoring 167 ( 0.5%) Users that have less than 1 test interactions\n",
      "EvaluatorHoldout: Processed 35569 (100.0%) in 33.57 sec. Users per second: 1059\n",
      "Similarity column 38121 (100.0%), 703.14 column/sec. Elapsed time 54.22 sec\n",
      "EvaluatorHoldout: Ignoring 172 ( 0.5%) Users that have less than 1 test interactions\n",
      "EvaluatorHoldout: Processed 35564 (100.0%) in 33.66 sec. Users per second: 1056\n"
     ]
    },
    {
     "name": "stderr",
     "output_type": "stream",
     "text": [
      "[I 2025-01-07 02:00:35,311] Trial 286 finished with value: 0.01855113574655998 and parameters: {'similarity': 'cosine', 'topK': 21, 'shrink': 560, 'feature_weighting': 'TF-IDF'}. Best is trial 121 with value: 0.018671630477460725.\n"
     ]
    },
    {
     "name": "stdout",
     "output_type": "stream",
     "text": [
      "Similarity column 38121 (100.0%), 701.50 column/sec. Elapsed time 54.34 sec\n",
      "EvaluatorHoldout: Ignoring 173 ( 0.5%) Users that have less than 1 test interactions\n",
      "EvaluatorHoldout: Processed 35563 (100.0%) in 34.81 sec. Users per second: 1022\n",
      "Similarity column 38121 (100.0%), 699.16 column/sec. Elapsed time 54.52 sec\n",
      "EvaluatorHoldout: Ignoring 163 ( 0.5%) Users that have less than 1 test interactions\n",
      "EvaluatorHoldout: Processed 35573 (100.0%) in 35.44 sec. Users per second: 1004\n",
      "Similarity column 38121 (100.0%), 697.90 column/sec. Elapsed time 54.62 sec\n",
      "EvaluatorHoldout: Ignoring 150 ( 0.4%) Users that have less than 1 test interactions\n",
      "EvaluatorHoldout: Processed 35586 (100.0%) in 34.98 sec. Users per second: 1017\n",
      "Similarity column 38121 (100.0%), 700.44 column/sec. Elapsed time 54.42 sec\n",
      "EvaluatorHoldout: Ignoring 167 ( 0.5%) Users that have less than 1 test interactions\n",
      "EvaluatorHoldout: Processed 35569 (100.0%) in 34.92 sec. Users per second: 1019\n",
      "Similarity column 38121 (100.0%), 699.90 column/sec. Elapsed time 54.47 sec\n",
      "EvaluatorHoldout: Ignoring 172 ( 0.5%) Users that have less than 1 test interactions\n",
      "EvaluatorHoldout: Processed 35564 (100.0%) in 34.95 sec. Users per second: 1018\n"
     ]
    },
    {
     "name": "stderr",
     "output_type": "stream",
     "text": [
      "[I 2025-01-07 02:08:05,052] Trial 287 finished with value: 0.01830966605522233 and parameters: {'similarity': 'cosine', 'topK': 40, 'shrink': 599, 'feature_weighting': 'TF-IDF'}. Best is trial 121 with value: 0.018671630477460725.\n"
     ]
    },
    {
     "name": "stdout",
     "output_type": "stream",
     "text": [
      "Similarity column 38121 (100.0%), 701.30 column/sec. Elapsed time 54.36 sec\n",
      "EvaluatorHoldout: Ignoring 173 ( 0.5%) Users that have less than 1 test interactions\n",
      "EvaluatorHoldout: Processed 35563 (100.0%) in 32.98 sec. Users per second: 1078\n",
      "Similarity column 38121 (100.0%), 702.89 column/sec. Elapsed time 54.23 sec\n",
      "EvaluatorHoldout: Ignoring 163 ( 0.5%) Users that have less than 1 test interactions\n",
      "EvaluatorHoldout: Processed 35573 (100.0%) in 32.95 sec. Users per second: 1080\n",
      "Similarity column 38121 (100.0%), 703.07 column/sec. Elapsed time 54.22 sec\n",
      "EvaluatorHoldout: Ignoring 150 ( 0.4%) Users that have less than 1 test interactions\n",
      "EvaluatorHoldout: Processed 35586 (100.0%) in 33.02 sec. Users per second: 1078\n",
      "Similarity column 38121 (100.0%), 701.81 column/sec. Elapsed time 54.32 sec\n",
      "EvaluatorHoldout: Ignoring 167 ( 0.5%) Users that have less than 1 test interactions\n",
      "EvaluatorHoldout: Processed 35569 (100.0%) in 32.91 sec. Users per second: 1081\n",
      "Similarity column 38121 (100.0%), 699.25 column/sec. Elapsed time 54.52 sec\n",
      "EvaluatorHoldout: Ignoring 172 ( 0.5%) Users that have less than 1 test interactions\n",
      "EvaluatorHoldout: Processed 35564 (100.0%) in 33.24 sec. Users per second: 1070\n"
     ]
    },
    {
     "name": "stderr",
     "output_type": "stream",
     "text": [
      "[I 2025-01-07 02:15:23,880] Trial 288 finished with value: 0.0184562106950275 and parameters: {'similarity': 'cosine', 'topK': 15, 'shrink': 942, 'feature_weighting': 'TF-IDF'}. Best is trial 121 with value: 0.018671630477460725.\n"
     ]
    },
    {
     "name": "stdout",
     "output_type": "stream",
     "text": [
      "Similarity column 38121 (100.0%), 697.65 column/sec. Elapsed time 54.64 sec\n",
      "EvaluatorHoldout: Ignoring 173 ( 0.5%) Users that have less than 1 test interactions\n",
      "EvaluatorHoldout: Processed 35563 (100.0%) in 32.97 sec. Users per second: 1079\n",
      "Similarity column 38121 (100.0%), 697.25 column/sec. Elapsed time 54.67 sec\n",
      "EvaluatorHoldout: Ignoring 163 ( 0.5%) Users that have less than 1 test interactions\n",
      "EvaluatorHoldout: Processed 35573 (100.0%) in 32.62 sec. Users per second: 1091\n",
      "Similarity column 38121 (100.0%), 704.91 column/sec. Elapsed time 54.08 sec\n",
      "EvaluatorHoldout: Ignoring 150 ( 0.4%) Users that have less than 1 test interactions\n",
      "EvaluatorHoldout: Processed 35586 (100.0%) in 32.72 sec. Users per second: 1088\n",
      "Similarity column 38121 (100.0%), 705.02 column/sec. Elapsed time 54.07 sec\n",
      "EvaluatorHoldout: Ignoring 167 ( 0.5%) Users that have less than 1 test interactions\n",
      "EvaluatorHoldout: Processed 35569 (100.0%) in 32.41 sec. Users per second: 1097\n",
      "Similarity column 38121 (100.0%), 704.59 column/sec. Elapsed time 54.10 sec\n",
      "EvaluatorHoldout: Ignoring 172 ( 0.5%) Users that have less than 1 test interactions\n",
      "EvaluatorHoldout: Processed 35564 (100.0%) in 32.63 sec. Users per second: 1090\n"
     ]
    },
    {
     "name": "stderr",
     "output_type": "stream",
     "text": [
      "[I 2025-01-07 02:22:40,849] Trial 289 finished with value: 0.018653694117299956 and parameters: {'similarity': 'cosine', 'topK': 12, 'shrink': 529, 'feature_weighting': 'TF-IDF'}. Best is trial 121 with value: 0.018671630477460725.\n"
     ]
    },
    {
     "name": "stdout",
     "output_type": "stream",
     "text": [
      "Similarity column 38121 (100.0%), 1006.35 column/sec. Elapsed time 37.88 sec\n",
      "EvaluatorHoldout: Ignoring 173 ( 0.5%) Users that have less than 1 test interactions\n",
      "EvaluatorHoldout: Processed 35563 (100.0%) in 24.94 sec. Users per second: 1426\n",
      "Similarity column 38121 (100.0%), 1009.80 column/sec. Elapsed time 37.75 sec\n",
      "EvaluatorHoldout: Ignoring 163 ( 0.5%) Users that have less than 1 test interactions\n",
      "EvaluatorHoldout: Processed 35573 (100.0%) in 24.79 sec. Users per second: 1435\n",
      "Similarity column 38121 (100.0%), 1011.63 column/sec. Elapsed time 37.68 sec\n",
      "EvaluatorHoldout: Ignoring 150 ( 0.4%) Users that have less than 1 test interactions\n",
      "EvaluatorHoldout: Processed 35586 (100.0%) in 25.30 sec. Users per second: 1406\n",
      "Similarity column 38121 (100.0%), 1006.94 column/sec. Elapsed time 37.86 sec\n",
      "EvaluatorHoldout: Ignoring 167 ( 0.5%) Users that have less than 1 test interactions\n",
      "EvaluatorHoldout: Processed 35569 (100.0%) in 24.94 sec. Users per second: 1426\n",
      "Similarity column 38121 (100.0%), 1005.66 column/sec. Elapsed time 37.91 sec\n",
      "EvaluatorHoldout: Ignoring 172 ( 0.5%) Users that have less than 1 test interactions\n",
      "EvaluatorHoldout: Processed 35564 (100.0%) in 25.04 sec. Users per second: 1420\n"
     ]
    },
    {
     "name": "stderr",
     "output_type": "stream",
     "text": [
      "[I 2025-01-07 02:27:56,859] Trial 290 finished with value: 0.0002664826418719655 and parameters: {'similarity': 'cosine', 'topK': 0, 'shrink': 525, 'feature_weighting': 'TF-IDF'}. Best is trial 121 with value: 0.018671630477460725.\n"
     ]
    },
    {
     "name": "stdout",
     "output_type": "stream",
     "text": [
      "Similarity column 38121 (100.0%), 701.48 column/sec. Elapsed time 54.34 sec\n",
      "EvaluatorHoldout: Ignoring 173 ( 0.5%) Users that have less than 1 test interactions\n",
      "EvaluatorHoldout: Processed 35563 (100.0%) in 34.09 sec. Users per second: 1043\n",
      "Similarity column 38121 (100.0%), 704.02 column/sec. Elapsed time 54.15 sec\n",
      "EvaluatorHoldout: Ignoring 163 ( 0.5%) Users that have less than 1 test interactions\n",
      "EvaluatorHoldout: Processed 35573 (100.0%) in 34.15 sec. Users per second: 1042\n",
      "Similarity column 38121 (100.0%), 683.52 column/sec. Elapsed time 55.77 sec\n",
      "EvaluatorHoldout: Ignoring 150 ( 0.4%) Users that have less than 1 test interactions\n",
      "EvaluatorHoldout: Processed 35586 (100.0%) in 34.57 sec. Users per second: 1029\n",
      "Similarity column 38121 (100.0%), 694.73 column/sec. Elapsed time 54.87 sec\n",
      "EvaluatorHoldout: Ignoring 167 ( 0.5%) Users that have less than 1 test interactions\n",
      "EvaluatorHoldout: Processed 35569 (100.0%) in 34.42 sec. Users per second: 1034\n",
      "Similarity column 38121 (100.0%), 702.76 column/sec. Elapsed time 54.25 sec\n",
      "EvaluatorHoldout: Ignoring 172 ( 0.5%) Users that have less than 1 test interactions\n",
      "EvaluatorHoldout: Processed 35564 (100.0%) in 34.02 sec. Users per second: 1045\n"
     ]
    },
    {
     "name": "stderr",
     "output_type": "stream",
     "text": [
      "[I 2025-01-07 02:35:23,671] Trial 291 finished with value: 0.018490644440184726 and parameters: {'similarity': 'cosine', 'topK': 28, 'shrink': 542, 'feature_weighting': 'TF-IDF'}. Best is trial 121 with value: 0.018671630477460725.\n"
     ]
    },
    {
     "name": "stdout",
     "output_type": "stream",
     "text": [
      "Similarity column 38121 (100.0%), 704.50 column/sec. Elapsed time 54.11 sec\n",
      "EvaluatorHoldout: Ignoring 173 ( 0.5%) Users that have less than 1 test interactions\n",
      "EvaluatorHoldout: Processed 35563 (100.0%) in 35.75 sec. Users per second: 995\n",
      "Similarity column 38121 (100.0%), 701.10 column/sec. Elapsed time 54.37 sec\n",
      "EvaluatorHoldout: Ignoring 163 ( 0.5%) Users that have less than 1 test interactions\n",
      "EvaluatorHoldout: Processed 35573 (100.0%) in 35.66 sec. Users per second: 997\n",
      "Similarity column 38121 (100.0%), 702.66 column/sec. Elapsed time 54.25 sec\n",
      "EvaluatorHoldout: Ignoring 150 ( 0.4%) Users that have less than 1 test interactions\n",
      "EvaluatorHoldout: Processed 35586 (100.0%) in 35.85 sec. Users per second: 993\n",
      "Similarity column 38121 (100.0%), 702.91 column/sec. Elapsed time 54.23 sec\n",
      "EvaluatorHoldout: Ignoring 167 ( 0.5%) Users that have less than 1 test interactions\n",
      "EvaluatorHoldout: Processed 35569 (100.0%) in 35.86 sec. Users per second: 992\n",
      "Similarity column 38121 (100.0%), 703.38 column/sec. Elapsed time 54.20 sec\n",
      "EvaluatorHoldout: Ignoring 172 ( 0.5%) Users that have less than 1 test interactions\n",
      "EvaluatorHoldout: Processed 35564 (100.0%) in 35.96 sec. Users per second: 989\n"
     ]
    },
    {
     "name": "stderr",
     "output_type": "stream",
     "text": [
      "[I 2025-01-07 02:42:56,467] Trial 292 finished with value: 0.01756154307010379 and parameters: {'similarity': 'asymmetric', 'topK': 61, 'shrink': 523, 'feature_weighting': 'BM25', 'asymmetric_alpha': 0.00018643088785452733}. Best is trial 121 with value: 0.018671630477460725.\n"
     ]
    },
    {
     "name": "stdout",
     "output_type": "stream",
     "text": [
      "Similarity column 38121 (100.0%), 704.65 column/sec. Elapsed time 54.10 sec\n",
      "EvaluatorHoldout: Ignoring 173 ( 0.5%) Users that have less than 1 test interactions\n",
      "EvaluatorHoldout: Processed 35563 (100.0%) in 32.24 sec. Users per second: 1103\n",
      "Similarity column 38121 (100.0%), 706.50 column/sec. Elapsed time 53.96 sec\n",
      "EvaluatorHoldout: Ignoring 163 ( 0.5%) Users that have less than 1 test interactions\n",
      "EvaluatorHoldout: Processed 35573 (100.0%) in 32.46 sec. Users per second: 1096\n",
      "Similarity column 38121 (100.0%), 705.99 column/sec. Elapsed time 54.00 sec\n",
      "EvaluatorHoldout: Ignoring 150 ( 0.4%) Users that have less than 1 test interactions\n",
      "EvaluatorHoldout: Processed 35586 (100.0%) in 33.18 sec. Users per second: 1073\n",
      "Similarity column 38121 (100.0%), 703.33 column/sec. Elapsed time 54.20 sec\n",
      "EvaluatorHoldout: Ignoring 167 ( 0.5%) Users that have less than 1 test interactions\n",
      "EvaluatorHoldout: Processed 35569 (100.0%) in 32.43 sec. Users per second: 1097\n",
      "Similarity column 38121 (100.0%), 704.60 column/sec. Elapsed time 54.10 sec\n",
      "EvaluatorHoldout: Ignoring 172 ( 0.5%) Users that have less than 1 test interactions\n",
      "EvaluatorHoldout: Processed 35564 (100.0%) in 32.67 sec. Users per second: 1089\n"
     ]
    },
    {
     "name": "stderr",
     "output_type": "stream",
     "text": [
      "[I 2025-01-07 02:50:11,808] Trial 293 finished with value: 0.01856720608324711 and parameters: {'similarity': 'cosine', 'topK': 13, 'shrink': 868, 'feature_weighting': 'TF-IDF'}. Best is trial 121 with value: 0.018671630477460725.\n"
     ]
    },
    {
     "name": "stdout",
     "output_type": "stream",
     "text": [
      "Similarity column 38121 (100.0%), 703.04 column/sec. Elapsed time 54.22 sec\n",
      "EvaluatorHoldout: Ignoring 173 ( 0.5%) Users that have less than 1 test interactions\n",
      "EvaluatorHoldout: Processed 35563 (100.0%) in 34.58 sec. Users per second: 1028\n",
      "Similarity column 38121 (100.0%), 705.27 column/sec. Elapsed time 54.05 sec\n",
      "EvaluatorHoldout: Ignoring 163 ( 0.5%) Users that have less than 1 test interactions\n",
      "EvaluatorHoldout: Processed 35573 (100.0%) in 34.87 sec. Users per second: 1020\n",
      "Similarity column 38121 (100.0%), 706.77 column/sec. Elapsed time 53.94 sec\n",
      "EvaluatorHoldout: Ignoring 150 ( 0.4%) Users that have less than 1 test interactions\n",
      "EvaluatorHoldout: Processed 35586 (100.0%) in 34.88 sec. Users per second: 1020\n",
      "Similarity column 38121 (100.0%), 706.03 column/sec. Elapsed time 53.99 sec\n",
      "EvaluatorHoldout: Ignoring 167 ( 0.5%) Users that have less than 1 test interactions\n",
      "EvaluatorHoldout: Processed 35569 (100.0%) in 35.02 sec. Users per second: 1016\n",
      "Similarity column 38121 (100.0%), 704.60 column/sec. Elapsed time 54.10 sec\n",
      "EvaluatorHoldout: Ignoring 172 ( 0.5%) Users that have less than 1 test interactions\n",
      "EvaluatorHoldout: Processed 35564 (100.0%) in 34.90 sec. Users per second: 1019\n"
     ]
    },
    {
     "name": "stderr",
     "output_type": "stream",
     "text": [
      "[I 2025-01-07 02:57:38,554] Trial 294 finished with value: 0.01829205211404018 and parameters: {'similarity': 'cosine', 'topK': 41, 'shrink': 558, 'feature_weighting': 'TF-IDF'}. Best is trial 121 with value: 0.018671630477460725.\n",
      "/kaggle/working/RECsys_Challenge2024/Recommenders/Similarity/Compute_Similarity_Euclidean.py:167: RuntimeWarning: overflow encountered in exp\n",
      "  item_similarity = 1/(np.exp(item_distance) + self.shrink + 1e-9)\n"
     ]
    },
    {
     "name": "stdout",
     "output_type": "stream",
     "text": [
      "Similarity column 38121 (100.0%), 200.63 column/sec. Elapsed time 3.17 min\n",
      "EvaluatorHoldout: Ignoring 173 ( 0.5%) Users that have less than 1 test interactions\n",
      "EvaluatorHoldout: Processed 35563 (100.0%) in 33.72 sec. Users per second: 1055\n"
     ]
    },
    {
     "name": "stderr",
     "output_type": "stream",
     "text": [
      "/kaggle/working/RECsys_Challenge2024/Recommenders/Similarity/Compute_Similarity_Euclidean.py:167: RuntimeWarning: overflow encountered in exp\n",
      "  item_similarity = 1/(np.exp(item_distance) + self.shrink + 1e-9)\n"
     ]
    },
    {
     "name": "stdout",
     "output_type": "stream",
     "text": [
      "Similarity column 38121 (100.0%), 198.74 column/sec. Elapsed time 3.20 min\n",
      "EvaluatorHoldout: Ignoring 163 ( 0.5%) Users that have less than 1 test interactions\n",
      "EvaluatorHoldout: Processed 35573 (100.0%) in 33.88 sec. Users per second: 1050\n"
     ]
    },
    {
     "name": "stderr",
     "output_type": "stream",
     "text": [
      "/kaggle/working/RECsys_Challenge2024/Recommenders/Similarity/Compute_Similarity_Euclidean.py:167: RuntimeWarning: overflow encountered in exp\n",
      "  item_similarity = 1/(np.exp(item_distance) + self.shrink + 1e-9)\n"
     ]
    },
    {
     "name": "stdout",
     "output_type": "stream",
     "text": [
      "Similarity column 38121 (100.0%), 204.60 column/sec. Elapsed time 3.11 min\n",
      "EvaluatorHoldout: Ignoring 150 ( 0.4%) Users that have less than 1 test interactions\n",
      "EvaluatorHoldout: Processed 35586 (100.0%) in 33.81 sec. Users per second: 1052\n"
     ]
    },
    {
     "name": "stderr",
     "output_type": "stream",
     "text": [
      "/kaggle/working/RECsys_Challenge2024/Recommenders/Similarity/Compute_Similarity_Euclidean.py:167: RuntimeWarning: overflow encountered in exp\n",
      "  item_similarity = 1/(np.exp(item_distance) + self.shrink + 1e-9)\n"
     ]
    },
    {
     "name": "stdout",
     "output_type": "stream",
     "text": [
      "Similarity column 38121 (100.0%), 200.25 column/sec. Elapsed time 3.17 min\n",
      "EvaluatorHoldout: Ignoring 167 ( 0.5%) Users that have less than 1 test interactions\n",
      "EvaluatorHoldout: Processed 35569 (100.0%) in 33.85 sec. Users per second: 1051\n"
     ]
    },
    {
     "name": "stderr",
     "output_type": "stream",
     "text": [
      "/kaggle/working/RECsys_Challenge2024/Recommenders/Similarity/Compute_Similarity_Euclidean.py:167: RuntimeWarning: overflow encountered in exp\n",
      "  item_similarity = 1/(np.exp(item_distance) + self.shrink + 1e-9)\n"
     ]
    },
    {
     "name": "stdout",
     "output_type": "stream",
     "text": [
      "Similarity column 38121 (100.0%), 197.55 column/sec. Elapsed time 3.22 min\n",
      "EvaluatorHoldout: Ignoring 172 ( 0.5%) Users that have less than 1 test interactions\n",
      "EvaluatorHoldout: Processed 35564 (100.0%) in 33.74 sec. Users per second: 1054\n"
     ]
    },
    {
     "name": "stderr",
     "output_type": "stream",
     "text": [
      "[I 2025-01-07 03:16:20,524] Trial 295 finished with value: 0.015222825506829147 and parameters: {'similarity': 'euclidean', 'topK': 26, 'shrink': 491, 'feature_weighting': 'TF-IDF', 'normalize_avg_row': False, 'similarity_from_distance_mode': 'exp', 'normalize': True}. Best is trial 121 with value: 0.018671630477460725.\n"
     ]
    },
    {
     "name": "stdout",
     "output_type": "stream",
     "text": [
      "Similarity column 38121 (100.0%), 703.25 column/sec. Elapsed time 54.21 sec\n",
      "EvaluatorHoldout: Ignoring 173 ( 0.5%) Users that have less than 1 test interactions\n",
      "EvaluatorHoldout: Processed 35563 (100.0%) in 32.57 sec. Users per second: 1092\n",
      "Similarity column 38121 (100.0%), 707.22 column/sec. Elapsed time 53.90 sec\n",
      "EvaluatorHoldout: Ignoring 163 ( 0.5%) Users that have less than 1 test interactions\n",
      "EvaluatorHoldout: Processed 35573 (100.0%) in 32.45 sec. Users per second: 1096\n",
      "Similarity column 38121 (100.0%), 706.98 column/sec. Elapsed time 53.92 sec\n",
      "EvaluatorHoldout: Ignoring 150 ( 0.4%) Users that have less than 1 test interactions\n",
      "EvaluatorHoldout: Processed 35586 (100.0%) in 32.26 sec. Users per second: 1103\n",
      "Similarity column 38121 (100.0%), 704.75 column/sec. Elapsed time 54.09 sec\n",
      "EvaluatorHoldout: Ignoring 167 ( 0.5%) Users that have less than 1 test interactions\n",
      "EvaluatorHoldout: Processed 35569 (100.0%) in 32.46 sec. Users per second: 1096\n",
      "Similarity column 38121 (100.0%), 707.35 column/sec. Elapsed time 53.89 sec\n",
      "EvaluatorHoldout: Ignoring 172 ( 0.5%) Users that have less than 1 test interactions\n",
      "EvaluatorHoldout: Processed 35564 (100.0%) in 32.40 sec. Users per second: 1098\n"
     ]
    },
    {
     "name": "stderr",
     "output_type": "stream",
     "text": [
      "[I 2025-01-07 03:23:34,745] Trial 296 finished with value: 0.018649151086418108 and parameters: {'similarity': 'cosine', 'topK': 12, 'shrink': 539, 'feature_weighting': 'TF-IDF'}. Best is trial 121 with value: 0.018671630477460725.\n"
     ]
    },
    {
     "name": "stdout",
     "output_type": "stream",
     "text": [
      "Similarity column 38121 (100.0%), 705.34 column/sec. Elapsed time 54.05 sec\n",
      "EvaluatorHoldout: Ignoring 173 ( 0.5%) Users that have less than 1 test interactions\n",
      "EvaluatorHoldout: Processed 35563 (100.0%) in 32.58 sec. Users per second: 1092\n",
      "Similarity column 38121 (100.0%), 699.57 column/sec. Elapsed time 54.49 sec\n",
      "EvaluatorHoldout: Ignoring 163 ( 0.5%) Users that have less than 1 test interactions\n",
      "EvaluatorHoldout: Processed 35573 (100.0%) in 32.43 sec. Users per second: 1097\n",
      "Similarity column 38121 (100.0%), 705.82 column/sec. Elapsed time 54.01 sec\n",
      "EvaluatorHoldout: Ignoring 150 ( 0.4%) Users that have less than 1 test interactions\n",
      "EvaluatorHoldout: Processed 35586 (100.0%) in 32.47 sec. Users per second: 1096\n",
      "Similarity column 38121 (100.0%), 705.56 column/sec. Elapsed time 54.03 sec\n",
      "EvaluatorHoldout: Ignoring 167 ( 0.5%) Users that have less than 1 test interactions\n",
      "EvaluatorHoldout: Processed 35569 (100.0%) in 32.71 sec. Users per second: 1087\n",
      "Similarity column 38121 (100.0%), 702.83 column/sec. Elapsed time 54.24 sec\n",
      "EvaluatorHoldout: Ignoring 172 ( 0.5%) Users that have less than 1 test interactions\n",
      "EvaluatorHoldout: Processed 35564 (100.0%) in 32.50 sec. Users per second: 1094\n"
     ]
    },
    {
     "name": "stderr",
     "output_type": "stream",
     "text": [
      "[I 2025-01-07 03:30:50,278] Trial 297 finished with value: 0.01866375849234617 and parameters: {'similarity': 'cosine', 'topK': 12, 'shrink': 509, 'feature_weighting': 'TF-IDF'}. Best is trial 121 with value: 0.018671630477460725.\n"
     ]
    },
    {
     "name": "stdout",
     "output_type": "stream",
     "text": [
      "Similarity column 38121 (100.0%), 703.80 column/sec. Elapsed time 54.16 sec\n",
      "EvaluatorHoldout: Ignoring 173 ( 0.5%) Users that have less than 1 test interactions\n",
      "EvaluatorHoldout: Processed 35563 (100.0%) in 34.18 sec. Users per second: 1040\n",
      "Similarity column 38121 (100.0%), 704.38 column/sec. Elapsed time 54.12 sec\n",
      "EvaluatorHoldout: Ignoring 163 ( 0.5%) Users that have less than 1 test interactions\n",
      "EvaluatorHoldout: Processed 35573 (100.0%) in 34.02 sec. Users per second: 1046\n",
      "Similarity column 38121 (100.0%), 703.61 column/sec. Elapsed time 54.18 sec\n",
      "EvaluatorHoldout: Ignoring 150 ( 0.4%) Users that have less than 1 test interactions\n",
      "EvaluatorHoldout: Processed 35586 (100.0%) in 34.12 sec. Users per second: 1043\n",
      "Similarity column 38121 (100.0%), 701.34 column/sec. Elapsed time 54.35 sec\n",
      "EvaluatorHoldout: Ignoring 167 ( 0.5%) Users that have less than 1 test interactions\n",
      "EvaluatorHoldout: Processed 35569 (100.0%) in 34.31 sec. Users per second: 1037\n",
      "Similarity column 38121 (100.0%), 700.28 column/sec. Elapsed time 54.44 sec\n",
      "EvaluatorHoldout: Ignoring 172 ( 0.5%) Users that have less than 1 test interactions\n",
      "EvaluatorHoldout: Processed 35564 (100.0%) in 34.11 sec. Users per second: 1043\n"
     ]
    },
    {
     "name": "stderr",
     "output_type": "stream",
     "text": [
      "[I 2025-01-07 03:38:14,441] Trial 298 finished with value: 0.01847689639293882 and parameters: {'similarity': 'cosine', 'topK': 28, 'shrink': 503, 'feature_weighting': 'TF-IDF'}. Best is trial 121 with value: 0.018671630477460725.\n"
     ]
    },
    {
     "name": "stdout",
     "output_type": "stream",
     "text": [
      "Similarity column 38121 (100.0%), 998.23 column/sec. Elapsed time 38.19 sec\n",
      "EvaluatorHoldout: Ignoring 173 ( 0.5%) Users that have less than 1 test interactions\n",
      "EvaluatorHoldout: Processed 35563 (100.0%) in 25.12 sec. Users per second: 1416\n",
      "Similarity column 38121 (100.0%), 1003.33 column/sec. Elapsed time 37.99 sec\n",
      "EvaluatorHoldout: Ignoring 163 ( 0.5%) Users that have less than 1 test interactions\n",
      "EvaluatorHoldout: Processed 35573 (100.0%) in 24.79 sec. Users per second: 1435\n",
      "Similarity column 38121 (100.0%), 1001.51 column/sec. Elapsed time 38.06 sec\n",
      "EvaluatorHoldout: Ignoring 150 ( 0.4%) Users that have less than 1 test interactions\n",
      "EvaluatorHoldout: Processed 35586 (100.0%) in 25.01 sec. Users per second: 1423\n",
      "Similarity column 38121 (100.0%), 999.84 column/sec. Elapsed time 38.13 sec\n",
      "EvaluatorHoldout: Ignoring 167 ( 0.5%) Users that have less than 1 test interactions\n",
      "EvaluatorHoldout: Processed 35569 (100.0%) in 24.74 sec. Users per second: 1438\n",
      "Similarity column 38121 (100.0%), 1006.87 column/sec. Elapsed time 37.86 sec\n",
      "EvaluatorHoldout: Ignoring 172 ( 0.5%) Users that have less than 1 test interactions\n",
      "EvaluatorHoldout: Processed 35564 (100.0%) in 24.71 sec. Users per second: 1439\n"
     ]
    },
    {
     "name": "stderr",
     "output_type": "stream",
     "text": [
      "[I 2025-01-07 03:43:31,009] Trial 299 finished with value: 0.0002664826418719655 and parameters: {'similarity': 'cosine', 'topK': 0, 'shrink': 444, 'feature_weighting': 'TF-IDF'}. Best is trial 121 with value: 0.018671630477460725.\n"
     ]
    },
    {
     "name": "stdout",
     "output_type": "stream",
     "text": [
      "Similarity column 38121 (100.0%), 704.52 column/sec. Elapsed time 54.11 sec\n",
      "EvaluatorHoldout: Ignoring 173 ( 0.5%) Users that have less than 1 test interactions\n",
      "EvaluatorHoldout: Processed 35563 (100.0%) in 35.43 sec. Users per second: 1004\n",
      "Similarity column 38121 (100.0%), 704.77 column/sec. Elapsed time 54.09 sec\n",
      "EvaluatorHoldout: Ignoring 163 ( 0.5%) Users that have less than 1 test interactions\n",
      "EvaluatorHoldout: Processed 35573 (100.0%) in 35.73 sec. Users per second: 996\n",
      "Similarity column 38121 (100.0%), 699.69 column/sec. Elapsed time 54.48 sec\n",
      "EvaluatorHoldout: Ignoring 150 ( 0.4%) Users that have less than 1 test interactions\n",
      "EvaluatorHoldout: Processed 35586 (100.0%) in 35.53 sec. Users per second: 1002\n",
      "Similarity column 38121 (100.0%), 704.43 column/sec. Elapsed time 54.12 sec\n",
      "EvaluatorHoldout: Ignoring 167 ( 0.5%) Users that have less than 1 test interactions\n",
      "EvaluatorHoldout: Processed 35569 (100.0%) in 35.62 sec. Users per second: 999\n",
      "Similarity column 38121 (100.0%), 701.88 column/sec. Elapsed time 54.31 sec\n",
      "EvaluatorHoldout: Ignoring 172 ( 0.5%) Users that have less than 1 test interactions\n",
      "EvaluatorHoldout: Processed 35564 (100.0%) in 35.56 sec. Users per second: 1000\n"
     ]
    },
    {
     "name": "stderr",
     "output_type": "stream",
     "text": [
      "[I 2025-01-07 03:51:02,277] Trial 300 finished with value: 0.018154208781022852 and parameters: {'similarity': 'cosine', 'topK': 52, 'shrink': 475, 'feature_weighting': 'TF-IDF'}. Best is trial 121 with value: 0.018671630477460725.\n"
     ]
    },
    {
     "name": "stdout",
     "output_type": "stream",
     "text": [
      "Similarity column 38121 (100.0%), 692.64 column/sec. Elapsed time 55.04 sec\n",
      "EvaluatorHoldout: Ignoring 173 ( 0.5%) Users that have less than 1 test interactions\n",
      "EvaluatorHoldout: Processed 35563 (100.0%) in 32.10 sec. Users per second: 1108\n",
      "Similarity column 38121 (100.0%), 695.89 column/sec. Elapsed time 54.78 sec\n",
      "EvaluatorHoldout: Ignoring 163 ( 0.5%) Users that have less than 1 test interactions\n",
      "EvaluatorHoldout: Processed 35573 (100.0%) in 32.30 sec. Users per second: 1101\n",
      "Similarity column 38121 (100.0%), 696.13 column/sec. Elapsed time 54.76 sec\n",
      "EvaluatorHoldout: Ignoring 150 ( 0.4%) Users that have less than 1 test interactions\n",
      "EvaluatorHoldout: Processed 35586 (100.0%) in 32.48 sec. Users per second: 1095\n",
      "Similarity column 38121 (100.0%), 693.24 column/sec. Elapsed time 54.99 sec\n",
      "EvaluatorHoldout: Ignoring 167 ( 0.5%) Users that have less than 1 test interactions\n",
      "EvaluatorHoldout: Processed 35569 (100.0%) in 32.36 sec. Users per second: 1099\n",
      "Similarity column 38121 (100.0%), 695.49 column/sec. Elapsed time 54.81 sec\n",
      "EvaluatorHoldout: Ignoring 172 ( 0.5%) Users that have less than 1 test interactions\n",
      "EvaluatorHoldout: Processed 35564 (100.0%) in 32.30 sec. Users per second: 1101\n"
     ]
    },
    {
     "name": "stderr",
     "output_type": "stream",
     "text": [
      "[I 2025-01-07 03:58:22,140] Trial 301 finished with value: 0.01404690916522304 and parameters: {'similarity': 'tversky', 'topK': 13, 'shrink': 536, 'feature_weighting': 'TF-IDF', 'tversky_alpha': 1.1640894466625182, 'tversky_beta': 1.485649902586331}. Best is trial 121 with value: 0.018671630477460725.\n"
     ]
    },
    {
     "name": "stdout",
     "output_type": "stream",
     "text": [
      "Similarity column 38121 (100.0%), 704.79 column/sec. Elapsed time 54.09 sec\n",
      "EvaluatorHoldout: Ignoring 173 ( 0.5%) Users that have less than 1 test interactions\n",
      "EvaluatorHoldout: Processed 35563 (100.0%) in 34.56 sec. Users per second: 1029\n",
      "Similarity column 38121 (100.0%), 707.42 column/sec. Elapsed time 53.89 sec\n",
      "EvaluatorHoldout: Ignoring 163 ( 0.5%) Users that have less than 1 test interactions\n",
      "EvaluatorHoldout: Processed 35573 (100.0%) in 34.38 sec. Users per second: 1035\n",
      "Similarity column 38121 (100.0%), 707.11 column/sec. Elapsed time 53.91 sec\n",
      "EvaluatorHoldout: Ignoring 150 ( 0.4%) Users that have less than 1 test interactions\n",
      "EvaluatorHoldout: Processed 35586 (100.0%) in 34.60 sec. Users per second: 1028\n",
      "Similarity column 38121 (100.0%), 704.17 column/sec. Elapsed time 54.14 sec\n",
      "EvaluatorHoldout: Ignoring 167 ( 0.5%) Users that have less than 1 test interactions\n",
      "EvaluatorHoldout: Processed 35569 (100.0%) in 34.30 sec. Users per second: 1037\n",
      "Similarity column 38121 (100.0%), 705.21 column/sec. Elapsed time 54.06 sec\n",
      "EvaluatorHoldout: Ignoring 172 ( 0.5%) Users that have less than 1 test interactions\n",
      "EvaluatorHoldout: Processed 35564 (100.0%) in 34.71 sec. Users per second: 1025\n"
     ]
    },
    {
     "name": "stderr",
     "output_type": "stream",
     "text": [
      "[I 2025-01-07 04:05:46,942] Trial 302 finished with value: 0.018316075044189965 and parameters: {'similarity': 'cosine', 'topK': 36, 'shrink': 512, 'feature_weighting': 'TF-IDF'}. Best is trial 121 with value: 0.018671630477460725.\n"
     ]
    },
    {
     "name": "stdout",
     "output_type": "stream",
     "text": [
      "Similarity column 38121 (100.0%), 706.26 column/sec. Elapsed time 53.98 sec\n",
      "EvaluatorHoldout: Ignoring 173 ( 0.5%) Users that have less than 1 test interactions\n",
      "EvaluatorHoldout: Processed 35563 (100.0%) in 32.61 sec. Users per second: 1091\n",
      "Similarity column 38121 (100.0%), 705.34 column/sec. Elapsed time 54.05 sec\n",
      "EvaluatorHoldout: Ignoring 163 ( 0.5%) Users that have less than 1 test interactions\n",
      "EvaluatorHoldout: Processed 35573 (100.0%) in 32.74 sec. Users per second: 1087\n",
      "Similarity column 38121 (100.0%), 705.19 column/sec. Elapsed time 54.06 sec\n",
      "EvaluatorHoldout: Ignoring 150 ( 0.4%) Users that have less than 1 test interactions\n",
      "EvaluatorHoldout: Processed 35586 (100.0%) in 32.83 sec. Users per second: 1084\n",
      "Similarity column 38121 (100.0%), 701.39 column/sec. Elapsed time 54.35 sec\n",
      "EvaluatorHoldout: Ignoring 167 ( 0.5%) Users that have less than 1 test interactions\n",
      "EvaluatorHoldout: Processed 35569 (100.0%) in 32.86 sec. Users per second: 1082\n",
      "Similarity column 38121 (100.0%), 702.50 column/sec. Elapsed time 54.26 sec\n",
      "EvaluatorHoldout: Ignoring 172 ( 0.5%) Users that have less than 1 test interactions\n",
      "EvaluatorHoldout: Processed 35564 (100.0%) in 32.85 sec. Users per second: 1083\n"
     ]
    },
    {
     "name": "stderr",
     "output_type": "stream",
     "text": [
      "[I 2025-01-07 04:13:03,581] Trial 303 finished with value: 0.01863972832943932 and parameters: {'similarity': 'cosine', 'topK': 14, 'shrink': 549, 'feature_weighting': 'TF-IDF'}. Best is trial 121 with value: 0.018671630477460725.\n"
     ]
    },
    {
     "name": "stdout",
     "output_type": "stream",
     "text": [
      "Similarity column 38121 (100.0%), 701.83 column/sec. Elapsed time 54.32 sec\n",
      "EvaluatorHoldout: Ignoring 173 ( 0.5%) Users that have less than 1 test interactions\n",
      "EvaluatorHoldout: Processed 35563 (100.0%) in 36.91 sec. Users per second: 964\n",
      "Similarity column 38121 (100.0%), 699.60 column/sec. Elapsed time 54.49 sec\n",
      "EvaluatorHoldout: Ignoring 163 ( 0.5%) Users that have less than 1 test interactions\n",
      "EvaluatorHoldout: Processed 35573 (100.0%) in 36.91 sec. Users per second: 964\n",
      "Similarity column 38121 (100.0%), 701.09 column/sec. Elapsed time 54.37 sec\n",
      "EvaluatorHoldout: Ignoring 150 ( 0.4%) Users that have less than 1 test interactions\n",
      "EvaluatorHoldout: Processed 35586 (100.0%) in 36.93 sec. Users per second: 964\n",
      "Similarity column 38121 (100.0%), 699.28 column/sec. Elapsed time 54.51 sec\n",
      "EvaluatorHoldout: Ignoring 167 ( 0.5%) Users that have less than 1 test interactions\n",
      "EvaluatorHoldout: Processed 35569 (100.0%) in 37.01 sec. Users per second: 961\n",
      "Similarity column 38121 (100.0%), 699.80 column/sec. Elapsed time 54.47 sec\n",
      "EvaluatorHoldout: Ignoring 172 ( 0.5%) Users that have less than 1 test interactions\n",
      "EvaluatorHoldout: Processed 35564 (100.0%) in 36.93 sec. Users per second: 963\n"
     ]
    },
    {
     "name": "stderr",
     "output_type": "stream",
     "text": [
      "[I 2025-01-07 04:20:42,856] Trial 304 finished with value: 0.01809010629556217 and parameters: {'similarity': 'cosine', 'topK': 72, 'shrink': 544, 'feature_weighting': 'TF-IDF'}. Best is trial 121 with value: 0.018671630477460725.\n"
     ]
    },
    {
     "name": "stdout",
     "output_type": "stream",
     "text": [
      "Similarity column 38121 (100.0%), 685.46 column/sec. Elapsed time 55.61 sec\n",
      "EvaluatorHoldout: Ignoring 173 ( 0.5%) Users that have less than 1 test interactions\n",
      "EvaluatorHoldout: Processed 35563 (100.0%) in 52.29 sec. Users per second: 680\n",
      "Similarity column 38121 (100.0%), 688.47 column/sec. Elapsed time 55.37 sec\n",
      "EvaluatorHoldout: Ignoring 163 ( 0.5%) Users that have less than 1 test interactions\n",
      "EvaluatorHoldout: Processed 35573 (100.0%) in 52.02 sec. Users per second: 684\n",
      "Similarity column 38121 (100.0%), 692.63 column/sec. Elapsed time 55.04 sec\n",
      "EvaluatorHoldout: Ignoring 150 ( 0.4%) Users that have less than 1 test interactions\n",
      "EvaluatorHoldout: Processed 35586 (100.0%) in 52.20 sec. Users per second: 682\n",
      "Similarity column 38121 (100.0%), 692.25 column/sec. Elapsed time 55.07 sec\n",
      "EvaluatorHoldout: Ignoring 167 ( 0.5%) Users that have less than 1 test interactions\n",
      "EvaluatorHoldout: Processed 35569 (100.0%) in 52.16 sec. Users per second: 682\n",
      "Similarity column 38121 (100.0%), 691.62 column/sec. Elapsed time 55.12 sec\n",
      "EvaluatorHoldout: Ignoring 172 ( 0.5%) Users that have less than 1 test interactions\n",
      "EvaluatorHoldout: Processed 35564 (100.0%) in 52.45 sec. Users per second: 678\n"
     ]
    },
    {
     "name": "stderr",
     "output_type": "stream",
     "text": [
      "[I 2025-01-07 04:29:46,143] Trial 305 finished with value: 0.01647607290950952 and parameters: {'similarity': 'cosine', 'topK': 575, 'shrink': 516, 'feature_weighting': 'TF-IDF'}. Best is trial 121 with value: 0.018671630477460725.\n"
     ]
    },
    {
     "name": "stdout",
     "output_type": "stream",
     "text": [
      "Similarity column 38121 (100.0%), 701.33 column/sec. Elapsed time 54.35 sec\n",
      "EvaluatorHoldout: Ignoring 173 ( 0.5%) Users that have less than 1 test interactions\n",
      "EvaluatorHoldout: Processed 35563 (100.0%) in 33.46 sec. Users per second: 1063\n",
      "Similarity column 38121 (100.0%), 701.97 column/sec. Elapsed time 54.31 sec\n",
      "EvaluatorHoldout: Ignoring 163 ( 0.5%) Users that have less than 1 test interactions\n",
      "EvaluatorHoldout: Processed 35573 (100.0%) in 33.49 sec. Users per second: 1062\n",
      "Similarity column 38121 (100.0%), 705.28 column/sec. Elapsed time 54.05 sec\n",
      "EvaluatorHoldout: Ignoring 150 ( 0.4%) Users that have less than 1 test interactions\n",
      "EvaluatorHoldout: Processed 35586 (100.0%) in 33.56 sec. Users per second: 1060\n",
      "Similarity column 38121 (100.0%), 705.38 column/sec. Elapsed time 54.04 sec\n",
      "EvaluatorHoldout: Ignoring 167 ( 0.5%) Users that have less than 1 test interactions\n",
      "EvaluatorHoldout: Processed 35569 (100.0%) in 33.82 sec. Users per second: 1052\n",
      "Similarity column 38121 (100.0%), 709.12 column/sec. Elapsed time 53.76 sec\n",
      "EvaluatorHoldout: Ignoring 172 ( 0.5%) Users that have less than 1 test interactions\n",
      "EvaluatorHoldout: Processed 35564 (100.0%) in 33.51 sec. Users per second: 1061\n"
     ]
    },
    {
     "name": "stderr",
     "output_type": "stream",
     "text": [
      "[I 2025-01-07 04:37:06,604] Trial 306 finished with value: 0.018565626600230884 and parameters: {'similarity': 'cosine', 'topK': 23, 'shrink': 493, 'feature_weighting': 'TF-IDF'}. Best is trial 121 with value: 0.018671630477460725.\n"
     ]
    },
    {
     "name": "stdout",
     "output_type": "stream",
     "text": [
      "Similarity column 38121 (100.0%), 695.09 column/sec. Elapsed time 54.84 sec\n",
      "EvaluatorHoldout: Ignoring 173 ( 0.5%) Users that have less than 1 test interactions\n",
      "EvaluatorHoldout: Processed 35563 (100.0%) in 48.99 sec. Users per second: 726\n",
      "Similarity column 38121 (100.0%), 696.35 column/sec. Elapsed time 54.74 sec\n",
      "EvaluatorHoldout: Ignoring 163 ( 0.5%) Users that have less than 1 test interactions\n",
      "EvaluatorHoldout: Processed 35573 (100.0%) in 48.54 sec. Users per second: 733\n",
      "Similarity column 38121 (100.0%), 694.45 column/sec. Elapsed time 54.89 sec\n",
      "EvaluatorHoldout: Ignoring 150 ( 0.4%) Users that have less than 1 test interactions\n",
      "EvaluatorHoldout: Processed 35586 (100.0%) in 48.64 sec. Users per second: 732\n",
      "Similarity column 38121 (100.0%), 697.56 column/sec. Elapsed time 54.65 sec\n",
      "EvaluatorHoldout: Ignoring 167 ( 0.5%) Users that have less than 1 test interactions\n",
      "EvaluatorHoldout: Processed 35569 (100.0%) in 48.54 sec. Users per second: 733\n",
      "Similarity column 38121 (100.0%), 698.00 column/sec. Elapsed time 54.61 sec\n",
      "EvaluatorHoldout: Ignoring 172 ( 0.5%) Users that have less than 1 test interactions\n",
      "EvaluatorHoldout: Processed 35564 (100.0%) in 48.77 sec. Users per second: 729\n"
     ]
    },
    {
     "name": "stderr",
     "output_type": "stream",
     "text": [
      "[I 2025-01-07 04:45:48,745] Trial 307 finished with value: 0.01676443982441471 and parameters: {'similarity': 'cosine', 'topK': 428, 'shrink': 462, 'feature_weighting': 'TF-IDF'}. Best is trial 121 with value: 0.018671630477460725.\n"
     ]
    },
    {
     "name": "stdout",
     "output_type": "stream",
     "text": [
      "Similarity column 38121 (100.0%), 1024.72 column/sec. Elapsed time 37.20 sec\n",
      "EvaluatorHoldout: Ignoring 173 ( 0.5%) Users that have less than 1 test interactions\n",
      "EvaluatorHoldout: Processed 35563 (100.0%) in 24.87 sec. Users per second: 1430\n",
      "Similarity column 38121 (100.0%), 1016.70 column/sec. Elapsed time 37.49 sec\n",
      "EvaluatorHoldout: Ignoring 163 ( 0.5%) Users that have less than 1 test interactions\n",
      "EvaluatorHoldout: Processed 35573 (100.0%) in 24.84 sec. Users per second: 1432\n",
      "Similarity column 38121 (100.0%), 1027.47 column/sec. Elapsed time 37.10 sec\n",
      "EvaluatorHoldout: Ignoring 150 ( 0.4%) Users that have less than 1 test interactions\n",
      "EvaluatorHoldout: Processed 35586 (100.0%) in 24.88 sec. Users per second: 1430\n",
      "Similarity column 38121 (100.0%), 1021.87 column/sec. Elapsed time 37.30 sec\n",
      "EvaluatorHoldout: Ignoring 167 ( 0.5%) Users that have less than 1 test interactions\n",
      "EvaluatorHoldout: Processed 35569 (100.0%) in 24.84 sec. Users per second: 1432\n",
      "Similarity column 38121 (100.0%), 1019.69 column/sec. Elapsed time 37.38 sec\n",
      "EvaluatorHoldout: Ignoring 172 ( 0.5%) Users that have less than 1 test interactions\n",
      "EvaluatorHoldout: Processed 35564 (100.0%) in 24.97 sec. Users per second: 1424\n"
     ]
    },
    {
     "name": "stderr",
     "output_type": "stream",
     "text": [
      "[I 2025-01-07 04:51:03,449] Trial 308 finished with value: 0.0002664826418719655 and parameters: {'similarity': 'jaccard', 'topK': 0, 'shrink': 552, 'feature_weighting': 'TF-IDF'}. Best is trial 121 with value: 0.018671630477460725.\n"
     ]
    },
    {
     "name": "stdout",
     "output_type": "stream",
     "text": [
      "Similarity column 38121 (100.0%), 688.76 column/sec. Elapsed time 55.35 sec\n",
      "EvaluatorHoldout: Ignoring 173 ( 0.5%) Users that have less than 1 test interactions\n",
      "EvaluatorHoldout: Processed 35563 (100.0%) in 49.11 sec. Users per second: 724\n",
      "Similarity column 38121 (100.0%), 694.69 column/sec. Elapsed time 54.88 sec\n",
      "EvaluatorHoldout: Ignoring 163 ( 0.5%) Users that have less than 1 test interactions\n",
      "EvaluatorHoldout: Processed 35573 (100.0%) in 48.93 sec. Users per second: 727\n",
      "Similarity column 38121 (100.0%), 692.78 column/sec. Elapsed time 55.03 sec\n",
      "EvaluatorHoldout: Ignoring 150 ( 0.4%) Users that have less than 1 test interactions\n",
      "EvaluatorHoldout: Processed 35586 (100.0%) in 48.91 sec. Users per second: 728\n",
      "Similarity column 38121 (100.0%), 693.79 column/sec. Elapsed time 54.95 sec\n",
      "EvaluatorHoldout: Ignoring 167 ( 0.5%) Users that have less than 1 test interactions\n",
      "EvaluatorHoldout: Processed 35569 (100.0%) in 48.78 sec. Users per second: 729\n",
      "Similarity column 38121 (100.0%), 691.40 column/sec. Elapsed time 55.14 sec\n",
      "EvaluatorHoldout: Ignoring 172 ( 0.5%) Users that have less than 1 test interactions\n",
      "EvaluatorHoldout: Processed 35564 (100.0%) in 49.29 sec. Users per second: 722\n"
     ]
    },
    {
     "name": "stderr",
     "output_type": "stream",
     "text": [
      "[I 2025-01-07 04:59:49,189] Trial 309 finished with value: 0.009799669066942062 and parameters: {'similarity': 'cosine', 'topK': 511, 'shrink': 525, 'feature_weighting': 'none'}. Best is trial 121 with value: 0.018671630477460725.\n"
     ]
    },
    {
     "name": "stdout",
     "output_type": "stream",
     "text": [
      "Similarity column 38121 (100.0%), 706.45 column/sec. Elapsed time 53.96 sec\n",
      "EvaluatorHoldout: Ignoring 173 ( 0.5%) Users that have less than 1 test interactions\n",
      "EvaluatorHoldout: Processed 35563 (100.0%) in 35.22 sec. Users per second: 1010\n",
      "Similarity column 38121 (100.0%), 704.66 column/sec. Elapsed time 54.10 sec\n",
      "EvaluatorHoldout: Ignoring 163 ( 0.5%) Users that have less than 1 test interactions\n",
      "EvaluatorHoldout: Processed 35573 (100.0%) in 35.40 sec. Users per second: 1005\n",
      "Similarity column 38121 (100.0%), 703.47 column/sec. Elapsed time 54.19 sec\n",
      "EvaluatorHoldout: Ignoring 150 ( 0.4%) Users that have less than 1 test interactions\n",
      "EvaluatorHoldout: Processed 35586 (100.0%) in 35.17 sec. Users per second: 1012\n",
      "Similarity column 38121 (100.0%), 707.35 column/sec. Elapsed time 53.89 sec\n",
      "EvaluatorHoldout: Ignoring 167 ( 0.5%) Users that have less than 1 test interactions\n",
      "EvaluatorHoldout: Processed 35569 (100.0%) in 35.00 sec. Users per second: 1016\n",
      "Similarity column 38121 (100.0%), 701.64 column/sec. Elapsed time 54.33 sec\n",
      "EvaluatorHoldout: Ignoring 172 ( 0.5%) Users that have less than 1 test interactions\n",
      "EvaluatorHoldout: Processed 35564 (100.0%) in 35.07 sec. Users per second: 1014\n"
     ]
    },
    {
     "name": "stderr",
     "output_type": "stream",
     "text": [
      "[I 2025-01-07 05:07:17,813] Trial 310 finished with value: 0.018239737482423 and parameters: {'similarity': 'cosine', 'topK': 45, 'shrink': 504, 'feature_weighting': 'TF-IDF'}. Best is trial 121 with value: 0.018671630477460725.\n"
     ]
    },
    {
     "name": "stdout",
     "output_type": "stream",
     "text": [
      "Similarity column 38121 (100.0%), 706.67 column/sec. Elapsed time 53.94 sec\n",
      "EvaluatorHoldout: Ignoring 173 ( 0.5%) Users that have less than 1 test interactions\n",
      "EvaluatorHoldout: Processed 35563 (100.0%) in 33.88 sec. Users per second: 1050\n",
      "Similarity column 38121 (100.0%), 703.53 column/sec. Elapsed time 54.19 sec\n",
      "EvaluatorHoldout: Ignoring 163 ( 0.5%) Users that have less than 1 test interactions\n",
      "EvaluatorHoldout: Processed 35573 (100.0%) in 33.81 sec. Users per second: 1052\n",
      "Similarity column 38121 (100.0%), 700.70 column/sec. Elapsed time 54.40 sec\n",
      "EvaluatorHoldout: Ignoring 150 ( 0.4%) Users that have less than 1 test interactions\n",
      "EvaluatorHoldout: Processed 35586 (100.0%) in 33.88 sec. Users per second: 1050\n",
      "Similarity column 38121 (100.0%), 703.84 column/sec. Elapsed time 54.16 sec\n",
      "EvaluatorHoldout: Ignoring 167 ( 0.5%) Users that have less than 1 test interactions\n",
      "EvaluatorHoldout: Processed 35569 (100.0%) in 33.78 sec. Users per second: 1053\n",
      "Similarity column 38121 (100.0%), 708.17 column/sec. Elapsed time 53.83 sec\n",
      "EvaluatorHoldout: Ignoring 172 ( 0.5%) Users that have less than 1 test interactions\n",
      "EvaluatorHoldout: Processed 35564 (100.0%) in 33.80 sec. Users per second: 1052\n"
     ]
    },
    {
     "name": "stderr",
     "output_type": "stream",
     "text": [
      "[I 2025-01-07 05:14:39,625] Trial 311 finished with value: 0.018502048673423623 and parameters: {'similarity': 'cosine', 'topK': 25, 'shrink': 532, 'feature_weighting': 'TF-IDF'}. Best is trial 121 with value: 0.018671630477460725.\n"
     ]
    },
    {
     "name": "stdout",
     "output_type": "stream",
     "text": [
      "Similarity column 38121 (100.0%), 707.96 column/sec. Elapsed time 53.85 sec\n",
      "EvaluatorHoldout: Ignoring 173 ( 0.5%) Users that have less than 1 test interactions\n",
      "EvaluatorHoldout: Processed 35563 (100.0%) in 32.79 sec. Users per second: 1084\n",
      "Similarity column 38121 (100.0%), 707.29 column/sec. Elapsed time 53.90 sec\n",
      "EvaluatorHoldout: Ignoring 163 ( 0.5%) Users that have less than 1 test interactions\n",
      "EvaluatorHoldout: Processed 35573 (100.0%) in 32.70 sec. Users per second: 1088\n",
      "Similarity column 38121 (100.0%), 707.79 column/sec. Elapsed time 53.86 sec\n",
      "EvaluatorHoldout: Ignoring 150 ( 0.4%) Users that have less than 1 test interactions\n",
      "EvaluatorHoldout: Processed 35586 (100.0%) in 32.72 sec. Users per second: 1088\n",
      "Similarity column 38121 (100.0%), 701.55 column/sec. Elapsed time 54.34 sec\n",
      "EvaluatorHoldout: Ignoring 167 ( 0.5%) Users that have less than 1 test interactions\n",
      "EvaluatorHoldout: Processed 35569 (100.0%) in 32.66 sec. Users per second: 1089\n",
      "Similarity column 38121 (100.0%), 707.41 column/sec. Elapsed time 53.89 sec\n",
      "EvaluatorHoldout: Ignoring 172 ( 0.5%) Users that have less than 1 test interactions\n",
      "EvaluatorHoldout: Processed 35564 (100.0%) in 32.58 sec. Users per second: 1092\n"
     ]
    },
    {
     "name": "stderr",
     "output_type": "stream",
     "text": [
      "[I 2025-01-07 05:21:54,929] Trial 312 finished with value: 0.018629658925830444 and parameters: {'similarity': 'cosine', 'topK': 13, 'shrink': 565, 'feature_weighting': 'TF-IDF'}. Best is trial 121 with value: 0.018671630477460725.\n"
     ]
    },
    {
     "name": "stdout",
     "output_type": "stream",
     "text": [
      "Similarity column 38121 (100.0%), 705.36 column/sec. Elapsed time 54.04 sec\n",
      "EvaluatorHoldout: Ignoring 173 ( 0.5%) Users that have less than 1 test interactions\n",
      "EvaluatorHoldout: Processed 35563 (100.0%) in 34.79 sec. Users per second: 1022\n",
      "Similarity column 38121 (100.0%), 707.06 column/sec. Elapsed time 53.92 sec\n",
      "EvaluatorHoldout: Ignoring 163 ( 0.5%) Users that have less than 1 test interactions\n",
      "EvaluatorHoldout: Processed 35573 (100.0%) in 34.79 sec. Users per second: 1022\n",
      "Similarity column 38121 (100.0%), 703.26 column/sec. Elapsed time 54.21 sec\n",
      "EvaluatorHoldout: Ignoring 150 ( 0.4%) Users that have less than 1 test interactions\n",
      "EvaluatorHoldout: Processed 35586 (100.0%) in 34.79 sec. Users per second: 1023\n",
      "Similarity column 38121 (100.0%), 706.18 column/sec. Elapsed time 53.98 sec\n",
      "EvaluatorHoldout: Ignoring 167 ( 0.5%) Users that have less than 1 test interactions\n",
      "EvaluatorHoldout: Processed 35569 (100.0%) in 34.82 sec. Users per second: 1022\n",
      "Similarity column 38121 (100.0%), 708.22 column/sec. Elapsed time 53.83 sec\n",
      "EvaluatorHoldout: Ignoring 172 ( 0.5%) Users that have less than 1 test interactions\n",
      "EvaluatorHoldout: Processed 35564 (100.0%) in 34.92 sec. Users per second: 1018\n"
     ]
    },
    {
     "name": "stderr",
     "output_type": "stream",
     "text": [
      "[I 2025-01-07 05:29:21,230] Trial 313 finished with value: 0.018291410099092822 and parameters: {'similarity': 'cosine', 'topK': 40, 'shrink': 547, 'feature_weighting': 'TF-IDF'}. Best is trial 121 with value: 0.018671630477460725.\n"
     ]
    },
    {
     "name": "stdout",
     "output_type": "stream",
     "text": [
      "Similarity column 38121 (100.0%), 709.62 column/sec. Elapsed time 53.72 sec\n",
      "EvaluatorHoldout: Ignoring 173 ( 0.5%) Users that have less than 1 test interactions\n",
      "EvaluatorHoldout: Processed 35563 (100.0%) in 33.60 sec. Users per second: 1058\n",
      "Similarity column 38121 (100.0%), 708.64 column/sec. Elapsed time 53.79 sec\n",
      "EvaluatorHoldout: Ignoring 163 ( 0.5%) Users that have less than 1 test interactions\n",
      "EvaluatorHoldout: Processed 35573 (100.0%) in 33.69 sec. Users per second: 1056\n",
      "Similarity column 38121 (100.0%), 704.56 column/sec. Elapsed time 54.11 sec\n",
      "EvaluatorHoldout: Ignoring 150 ( 0.4%) Users that have less than 1 test interactions\n",
      "EvaluatorHoldout: Processed 35586 (100.0%) in 33.94 sec. Users per second: 1048\n",
      "Similarity column 38121 (100.0%), 703.95 column/sec. Elapsed time 54.15 sec\n",
      "EvaluatorHoldout: Ignoring 167 ( 0.5%) Users that have less than 1 test interactions\n",
      "EvaluatorHoldout: Processed 35569 (100.0%) in 33.59 sec. Users per second: 1059\n",
      "Similarity column 38121 (100.0%), 708.14 column/sec. Elapsed time 53.83 sec\n",
      "EvaluatorHoldout: Ignoring 172 ( 0.5%) Users that have less than 1 test interactions\n",
      "EvaluatorHoldout: Processed 35564 (100.0%) in 33.47 sec. Users per second: 1063\n"
     ]
    },
    {
     "name": "stderr",
     "output_type": "stream",
     "text": [
      "[I 2025-01-07 05:36:41,197] Trial 314 finished with value: 0.018560861615020206 and parameters: {'similarity': 'cosine', 'topK': 24, 'shrink': 517, 'feature_weighting': 'TF-IDF'}. Best is trial 121 with value: 0.018671630477460725.\n"
     ]
    },
    {
     "name": "stdout",
     "output_type": "stream",
     "text": [
      "Similarity column 38121 (100.0%), 1032.56 column/sec. Elapsed time 36.92 sec\n",
      "EvaluatorHoldout: Ignoring 173 ( 0.5%) Users that have less than 1 test interactions\n",
      "EvaluatorHoldout: Processed 35563 (100.0%) in 24.62 sec. Users per second: 1444\n",
      "Similarity column 38121 (100.0%), 1030.53 column/sec. Elapsed time 36.99 sec\n",
      "EvaluatorHoldout: Ignoring 163 ( 0.5%) Users that have less than 1 test interactions\n",
      "EvaluatorHoldout: Processed 35573 (100.0%) in 25.05 sec. Users per second: 1420\n",
      "Similarity column 38121 (100.0%), 1025.86 column/sec. Elapsed time 37.16 sec\n",
      "EvaluatorHoldout: Ignoring 150 ( 0.4%) Users that have less than 1 test interactions\n",
      "EvaluatorHoldout: Processed 35586 (100.0%) in 24.85 sec. Users per second: 1432\n",
      "Similarity column 38121 (100.0%), 1029.78 column/sec. Elapsed time 37.02 sec\n",
      "EvaluatorHoldout: Ignoring 167 ( 0.5%) Users that have less than 1 test interactions\n",
      "EvaluatorHoldout: Processed 35569 (100.0%) in 24.73 sec. Users per second: 1438\n",
      "Similarity column 38121 (100.0%), 1027.17 column/sec. Elapsed time 37.11 sec\n",
      "EvaluatorHoldout: Ignoring 172 ( 0.5%) Users that have less than 1 test interactions\n",
      "EvaluatorHoldout: Processed 35564 (100.0%) in 24.84 sec. Users per second: 1432\n"
     ]
    },
    {
     "name": "stderr",
     "output_type": "stream",
     "text": [
      "[I 2025-01-07 05:41:54,295] Trial 315 finished with value: 0.0002664826418719655 and parameters: {'similarity': 'dice', 'topK': 0, 'shrink': 478, 'feature_weighting': 'TF-IDF'}. Best is trial 121 with value: 0.018671630477460725.\n"
     ]
    },
    {
     "name": "stdout",
     "output_type": "stream",
     "text": [
      "Similarity column 38121 (100.0%), 708.98 column/sec. Elapsed time 53.77 sec\n",
      "EvaluatorHoldout: Ignoring 173 ( 0.5%) Users that have less than 1 test interactions\n",
      "EvaluatorHoldout: Processed 35563 (100.0%) in 32.58 sec. Users per second: 1092\n",
      "Similarity column 38121 (100.0%), 704.28 column/sec. Elapsed time 54.13 sec\n",
      "EvaluatorHoldout: Ignoring 163 ( 0.5%) Users that have less than 1 test interactions\n",
      "EvaluatorHoldout: Processed 35573 (100.0%) in 32.62 sec. Users per second: 1090\n",
      "Similarity column 38121 (100.0%), 706.20 column/sec. Elapsed time 53.98 sec\n",
      "EvaluatorHoldout: Ignoring 150 ( 0.4%) Users that have less than 1 test interactions\n",
      "EvaluatorHoldout: Processed 35586 (100.0%) in 32.53 sec. Users per second: 1094\n",
      "Similarity column 38121 (100.0%), 705.22 column/sec. Elapsed time 54.06 sec\n",
      "EvaluatorHoldout: Ignoring 167 ( 0.5%) Users that have less than 1 test interactions\n",
      "EvaluatorHoldout: Processed 35569 (100.0%) in 32.66 sec. Users per second: 1089\n",
      "Similarity column 38121 (100.0%), 710.05 column/sec. Elapsed time 53.69 sec\n",
      "EvaluatorHoldout: Ignoring 172 ( 0.5%) Users that have less than 1 test interactions\n",
      "EvaluatorHoldout: Processed 35564 (100.0%) in 32.71 sec. Users per second: 1087\n"
     ]
    },
    {
     "name": "stderr",
     "output_type": "stream",
     "text": [
      "[I 2025-01-07 05:49:09,192] Trial 316 finished with value: 0.01841989128048841 and parameters: {'similarity': 'cosine', 'topK': 13, 'shrink': 572, 'feature_weighting': 'BM25'}. Best is trial 121 with value: 0.018671630477460725.\n"
     ]
    },
    {
     "name": "stdout",
     "output_type": "stream",
     "text": [
      "Similarity column 38121 (100.0%), 704.23 column/sec. Elapsed time 54.13 sec\n",
      "EvaluatorHoldout: Ignoring 173 ( 0.5%) Users that have less than 1 test interactions\n",
      "EvaluatorHoldout: Processed 35563 (100.0%) in 35.77 sec. Users per second: 994\n",
      "Similarity column 38121 (100.0%), 703.53 column/sec. Elapsed time 54.19 sec\n",
      "EvaluatorHoldout: Ignoring 163 ( 0.5%) Users that have less than 1 test interactions\n",
      "EvaluatorHoldout: Processed 35573 (100.0%) in 35.76 sec. Users per second: 995\n",
      "Similarity column 38121 (100.0%), 700.58 column/sec. Elapsed time 54.41 sec\n",
      "EvaluatorHoldout: Ignoring 150 ( 0.4%) Users that have less than 1 test interactions\n",
      "EvaluatorHoldout: Processed 35586 (100.0%) in 36.01 sec. Users per second: 988\n",
      "Similarity column 38121 (100.0%), 703.07 column/sec. Elapsed time 54.22 sec\n",
      "EvaluatorHoldout: Ignoring 167 ( 0.5%) Users that have less than 1 test interactions\n",
      "EvaluatorHoldout: Processed 35569 (100.0%) in 35.94 sec. Users per second: 990\n",
      "Similarity column 38121 (100.0%), 704.55 column/sec. Elapsed time 54.11 sec\n",
      "EvaluatorHoldout: Ignoring 172 ( 0.5%) Users that have less than 1 test interactions\n",
      "EvaluatorHoldout: Processed 35564 (100.0%) in 36.11 sec. Users per second: 985\n"
     ]
    },
    {
     "name": "stderr",
     "output_type": "stream",
     "text": [
      "[I 2025-01-07 05:56:42,195] Trial 317 finished with value: 0.018146425694656826 and parameters: {'similarity': 'cosine', 'topK': 58, 'shrink': 539, 'feature_weighting': 'TF-IDF'}. Best is trial 121 with value: 0.018671630477460725.\n"
     ]
    },
    {
     "name": "stdout",
     "output_type": "stream",
     "text": [
      "Similarity column 38121 (100.0%), 706.64 column/sec. Elapsed time 53.95 sec\n",
      "EvaluatorHoldout: Ignoring 173 ( 0.5%) Users that have less than 1 test interactions\n",
      "EvaluatorHoldout: Processed 35563 (100.0%) in 34.13 sec. Users per second: 1042\n",
      "Similarity column 38121 (100.0%), 706.67 column/sec. Elapsed time 53.94 sec\n",
      "EvaluatorHoldout: Ignoring 163 ( 0.5%) Users that have less than 1 test interactions\n",
      "EvaluatorHoldout: Processed 35573 (100.0%) in 34.44 sec. Users per second: 1033\n",
      "Similarity column 38121 (100.0%), 705.89 column/sec. Elapsed time 54.00 sec\n",
      "EvaluatorHoldout: Ignoring 150 ( 0.4%) Users that have less than 1 test interactions\n",
      "EvaluatorHoldout: Processed 35586 (100.0%) in 34.47 sec. Users per second: 1033\n",
      "Similarity column 38121 (100.0%), 706.56 column/sec. Elapsed time 53.95 sec\n",
      "EvaluatorHoldout: Ignoring 167 ( 0.5%) Users that have less than 1 test interactions\n",
      "EvaluatorHoldout: Processed 35569 (100.0%) in 34.47 sec. Users per second: 1032\n",
      "Similarity column 38121 (100.0%), 704.27 column/sec. Elapsed time 54.13 sec\n",
      "EvaluatorHoldout: Ignoring 172 ( 0.5%) Users that have less than 1 test interactions\n",
      "EvaluatorHoldout: Processed 35564 (100.0%) in 34.31 sec. Users per second: 1037\n"
     ]
    },
    {
     "name": "stderr",
     "output_type": "stream",
     "text": [
      "[I 2025-01-07 06:04:06,149] Trial 318 finished with value: 0.018387619773292223 and parameters: {'similarity': 'cosine', 'topK': 33, 'shrink': 502, 'feature_weighting': 'TF-IDF'}. Best is trial 121 with value: 0.018671630477460725.\n"
     ]
    },
    {
     "name": "stdout",
     "output_type": "stream",
     "text": [
      "Similarity column 38121 (100.0%), 708.67 column/sec. Elapsed time 53.79 sec\n",
      "EvaluatorHoldout: Ignoring 173 ( 0.5%) Users that have less than 1 test interactions\n",
      "EvaluatorHoldout: Processed 35563 (100.0%) in 33.15 sec. Users per second: 1073\n",
      "Similarity column 38121 (100.0%), 702.60 column/sec. Elapsed time 54.26 sec\n",
      "EvaluatorHoldout: Ignoring 163 ( 0.5%) Users that have less than 1 test interactions\n",
      "EvaluatorHoldout: Processed 35573 (100.0%) in 32.78 sec. Users per second: 1085\n",
      "Similarity column 38121 (100.0%), 705.79 column/sec. Elapsed time 54.01 sec\n",
      "EvaluatorHoldout: Ignoring 150 ( 0.4%) Users that have less than 1 test interactions\n",
      "EvaluatorHoldout: Processed 35586 (100.0%) in 32.99 sec. Users per second: 1079\n",
      "Similarity column 38121 (100.0%), 704.95 column/sec. Elapsed time 54.08 sec\n",
      "EvaluatorHoldout: Ignoring 167 ( 0.5%) Users that have less than 1 test interactions\n",
      "EvaluatorHoldout: Processed 35569 (100.0%) in 33.07 sec. Users per second: 1075\n",
      "Similarity column 38121 (100.0%), 701.03 column/sec. Elapsed time 54.38 sec\n",
      "EvaluatorHoldout: Ignoring 172 ( 0.5%) Users that have less than 1 test interactions\n",
      "EvaluatorHoldout: Processed 35564 (100.0%) in 32.91 sec. Users per second: 1081\n"
     ]
    },
    {
     "name": "stderr",
     "output_type": "stream",
     "text": [
      "[I 2025-01-07 06:11:23,623] Trial 319 finished with value: 0.018635939251535432 and parameters: {'similarity': 'cosine', 'topK': 14, 'shrink': 558, 'feature_weighting': 'TF-IDF'}. Best is trial 121 with value: 0.018671630477460725.\n"
     ]
    },
    {
     "name": "stdout",
     "output_type": "stream",
     "text": [
      "Similarity column 38121 (100.0%), 707.06 column/sec. Elapsed time 53.91 sec\n",
      "EvaluatorHoldout: Ignoring 173 ( 0.5%) Users that have less than 1 test interactions\n",
      "EvaluatorHoldout: Processed 35563 (100.0%) in 33.58 sec. Users per second: 1059\n",
      "Similarity column 38121 (100.0%), 702.50 column/sec. Elapsed time 54.26 sec\n",
      "EvaluatorHoldout: Ignoring 163 ( 0.5%) Users that have less than 1 test interactions\n",
      "EvaluatorHoldout: Processed 35573 (100.0%) in 33.99 sec. Users per second: 1046\n",
      "Similarity column 38121 (100.0%), 699.78 column/sec. Elapsed time 54.48 sec\n",
      "EvaluatorHoldout: Ignoring 150 ( 0.4%) Users that have less than 1 test interactions\n",
      "EvaluatorHoldout: Processed 35586 (100.0%) in 34.06 sec. Users per second: 1045\n",
      "Similarity column 38121 (100.0%), 700.55 column/sec. Elapsed time 54.42 sec\n",
      "EvaluatorHoldout: Ignoring 167 ( 0.5%) Users that have less than 1 test interactions\n",
      "EvaluatorHoldout: Processed 35569 (100.0%) in 34.02 sec. Users per second: 1045\n",
      "Similarity column 38121 (100.0%), 697.87 column/sec. Elapsed time 54.62 sec\n",
      "EvaluatorHoldout: Ignoring 172 ( 0.5%) Users that have less than 1 test interactions\n",
      "EvaluatorHoldout: Processed 35564 (100.0%) in 33.90 sec. Users per second: 1049\n"
     ]
    },
    {
     "name": "stderr",
     "output_type": "stream",
     "text": [
      "[I 2025-01-07 06:18:47,027] Trial 320 finished with value: 0.018512540881886287 and parameters: {'similarity': 'cosine', 'topK': 24, 'shrink': 552, 'feature_weighting': 'TF-IDF'}. Best is trial 121 with value: 0.018671630477460725.\n"
     ]
    },
    {
     "name": "stdout",
     "output_type": "stream",
     "text": [
      "Similarity column 38121 (100.0%), 698.59 column/sec. Elapsed time 54.57 sec\n",
      "EvaluatorHoldout: Ignoring 173 ( 0.5%) Users that have less than 1 test interactions\n",
      "EvaluatorHoldout: Processed 35563 (100.0%) in 35.64 sec. Users per second: 998\n",
      "Similarity column 38121 (100.0%), 699.60 column/sec. Elapsed time 54.49 sec\n",
      "EvaluatorHoldout: Ignoring 163 ( 0.5%) Users that have less than 1 test interactions\n",
      "EvaluatorHoldout: Processed 35573 (100.0%) in 35.58 sec. Users per second: 1000\n",
      "Similarity column 38121 (100.0%), 701.54 column/sec. Elapsed time 54.34 sec\n",
      "EvaluatorHoldout: Ignoring 150 ( 0.4%) Users that have less than 1 test interactions\n",
      "EvaluatorHoldout: Processed 35586 (100.0%) in 35.91 sec. Users per second: 991\n",
      "Similarity column 38121 (100.0%), 699.86 column/sec. Elapsed time 54.47 sec\n",
      "EvaluatorHoldout: Ignoring 167 ( 0.5%) Users that have less than 1 test interactions\n",
      "EvaluatorHoldout: Processed 35569 (100.0%) in 35.49 sec. Users per second: 1002\n",
      "Similarity column 38121 (100.0%), 699.14 column/sec. Elapsed time 54.53 sec\n",
      "EvaluatorHoldout: Ignoring 172 ( 0.5%) Users that have less than 1 test interactions\n",
      "EvaluatorHoldout: Processed 35564 (100.0%) in 35.68 sec. Users per second: 997\n"
     ]
    },
    {
     "name": "stderr",
     "output_type": "stream",
     "text": [
      "[I 2025-01-07 06:26:20,087] Trial 321 finished with value: 0.01824210640717506 and parameters: {'similarity': 'cosine', 'topK': 48, 'shrink': 525, 'feature_weighting': 'TF-IDF'}. Best is trial 121 with value: 0.018671630477460725.\n"
     ]
    },
    {
     "name": "stdout",
     "output_type": "stream",
     "text": [
      "Similarity column 38121 (100.0%), 699.54 column/sec. Elapsed time 54.49 sec\n",
      "EvaluatorHoldout: Ignoring 173 ( 0.5%) Users that have less than 1 test interactions\n",
      "EvaluatorHoldout: Processed 35563 (100.0%) in 32.62 sec. Users per second: 1090\n",
      "Similarity column 38121 (100.0%), 700.76 column/sec. Elapsed time 54.40 sec\n",
      "EvaluatorHoldout: Ignoring 163 ( 0.5%) Users that have less than 1 test interactions\n",
      "EvaluatorHoldout: Processed 35573 (100.0%) in 32.92 sec. Users per second: 1081\n",
      "Similarity column 38121 (100.0%), 699.74 column/sec. Elapsed time 54.48 sec\n",
      "EvaluatorHoldout: Ignoring 150 ( 0.4%) Users that have less than 1 test interactions\n",
      "EvaluatorHoldout: Processed 35586 (100.0%) in 32.68 sec. Users per second: 1089\n",
      "Similarity column 38121 (100.0%), 702.87 column/sec. Elapsed time 54.24 sec\n",
      "EvaluatorHoldout: Ignoring 167 ( 0.5%) Users that have less than 1 test interactions\n",
      "EvaluatorHoldout: Processed 35569 (100.0%) in 32.89 sec. Users per second: 1082\n",
      "Similarity column 38121 (100.0%), 699.11 column/sec. Elapsed time 54.53 sec\n",
      "EvaluatorHoldout: Ignoring 172 ( 0.5%) Users that have less than 1 test interactions\n",
      "EvaluatorHoldout: Processed 35564 (100.0%) in 33.07 sec. Users per second: 1075\n"
     ]
    },
    {
     "name": "stderr",
     "output_type": "stream",
     "text": [
      "[I 2025-01-07 06:33:38,492] Trial 322 finished with value: 0.018651295758459537 and parameters: {'similarity': 'cosine', 'topK': 12, 'shrink': 489, 'feature_weighting': 'TF-IDF'}. Best is trial 121 with value: 0.018671630477460725.\n"
     ]
    },
    {
     "name": "stdout",
     "output_type": "stream",
     "text": [
      "Similarity column 38121 (100.0%), 213.45 column/sec. Elapsed time 2.98 min\n",
      "EvaluatorHoldout: Ignoring 173 ( 0.5%) Users that have less than 1 test interactions\n",
      "EvaluatorHoldout: Processed 35563 (100.0%) in 33.15 sec. Users per second: 1073\n",
      "Similarity column 38121 (100.0%), 216.27 column/sec. Elapsed time 2.94 min\n",
      "EvaluatorHoldout: Ignoring 163 ( 0.5%) Users that have less than 1 test interactions\n",
      "EvaluatorHoldout: Processed 35573 (100.0%) in 33.12 sec. Users per second: 1074\n",
      "Similarity column 38121 (100.0%), 215.93 column/sec. Elapsed time 2.94 min\n",
      "EvaluatorHoldout: Ignoring 150 ( 0.4%) Users that have less than 1 test interactions\n",
      "EvaluatorHoldout: Processed 35586 (100.0%) in 33.13 sec. Users per second: 1074\n",
      "Similarity column 38121 (100.0%), 215.44 column/sec. Elapsed time 2.95 min\n",
      "EvaluatorHoldout: Ignoring 167 ( 0.5%) Users that have less than 1 test interactions\n",
      "EvaluatorHoldout: Processed 35569 (100.0%) in 33.22 sec. Users per second: 1071\n",
      "Similarity column 38121 (100.0%), 212.30 column/sec. Elapsed time 2.99 min\n",
      "EvaluatorHoldout: Ignoring 172 ( 0.5%) Users that have less than 1 test interactions\n",
      "EvaluatorHoldout: Processed 35564 (100.0%) in 33.25 sec. Users per second: 1070\n"
     ]
    },
    {
     "name": "stderr",
     "output_type": "stream",
     "text": [
      "[I 2025-01-07 06:51:13,722] Trial 323 finished with value: 0.00858148467768244 and parameters: {'similarity': 'euclidean', 'topK': 35, 'shrink': 446, 'feature_weighting': 'TF-IDF', 'normalize_avg_row': True, 'similarity_from_distance_mode': 'lin', 'normalize': False}. Best is trial 121 with value: 0.018671630477460725.\n"
     ]
    },
    {
     "name": "stdout",
     "output_type": "stream",
     "text": [
      "Similarity column 38121 (100.0%), 989.82 column/sec. Elapsed time 38.51 sec\n",
      "EvaluatorHoldout: Ignoring 173 ( 0.5%) Users that have less than 1 test interactions\n",
      "EvaluatorHoldout: Processed 35563 (100.0%) in 25.11 sec. Users per second: 1416\n",
      "Similarity column 38121 (100.0%), 989.17 column/sec. Elapsed time 38.54 sec\n",
      "EvaluatorHoldout: Ignoring 163 ( 0.5%) Users that have less than 1 test interactions\n",
      "EvaluatorHoldout: Processed 35573 (100.0%) in 25.24 sec. Users per second: 1410\n",
      "Similarity column 38121 (100.0%), 996.68 column/sec. Elapsed time 38.25 sec\n",
      "EvaluatorHoldout: Ignoring 150 ( 0.4%) Users that have less than 1 test interactions\n",
      "EvaluatorHoldout: Processed 35586 (100.0%) in 24.98 sec. Users per second: 1425\n",
      "Similarity column 38121 (100.0%), 989.68 column/sec. Elapsed time 38.52 sec\n",
      "EvaluatorHoldout: Ignoring 167 ( 0.5%) Users that have less than 1 test interactions\n",
      "EvaluatorHoldout: Processed 35569 (100.0%) in 25.07 sec. Users per second: 1419\n",
      "Similarity column 38121 (100.0%), 996.20 column/sec. Elapsed time 38.27 sec\n",
      "EvaluatorHoldout: Ignoring 172 ( 0.5%) Users that have less than 1 test interactions\n",
      "EvaluatorHoldout: Processed 35564 (100.0%) in 24.99 sec. Users per second: 1423\n"
     ]
    },
    {
     "name": "stderr",
     "output_type": "stream",
     "text": [
      "[I 2025-01-07 06:56:33,192] Trial 324 finished with value: 0.0002664826418719655 and parameters: {'similarity': 'cosine', 'topK': 0, 'shrink': 494, 'feature_weighting': 'TF-IDF'}. Best is trial 121 with value: 0.018671630477460725.\n"
     ]
    },
    {
     "name": "stdout",
     "output_type": "stream",
     "text": [
      "Similarity column 38121 (100.0%), 700.03 column/sec. Elapsed time 54.46 sec\n",
      "EvaluatorHoldout: Ignoring 173 ( 0.5%) Users that have less than 1 test interactions\n",
      "EvaluatorHoldout: Processed 35563 (100.0%) in 33.56 sec. Users per second: 1060\n",
      "Similarity column 38121 (100.0%), 700.78 column/sec. Elapsed time 54.40 sec\n",
      "EvaluatorHoldout: Ignoring 163 ( 0.5%) Users that have less than 1 test interactions\n",
      "EvaluatorHoldout: Processed 35573 (100.0%) in 33.95 sec. Users per second: 1048\n",
      "Similarity column 38121 (100.0%), 699.47 column/sec. Elapsed time 54.50 sec\n",
      "EvaluatorHoldout: Ignoring 150 ( 0.4%) Users that have less than 1 test interactions\n",
      "EvaluatorHoldout: Processed 35586 (100.0%) in 33.85 sec. Users per second: 1051\n",
      "Similarity column 38121 (100.0%), 698.41 column/sec. Elapsed time 54.58 sec\n",
      "EvaluatorHoldout: Ignoring 167 ( 0.5%) Users that have less than 1 test interactions\n",
      "EvaluatorHoldout: Processed 35569 (100.0%) in 33.72 sec. Users per second: 1055\n",
      "Similarity column 38121 (100.0%), 702.04 column/sec. Elapsed time 54.30 sec\n",
      "EvaluatorHoldout: Ignoring 172 ( 0.5%) Users that have less than 1 test interactions\n",
      "EvaluatorHoldout: Processed 35564 (100.0%) in 33.64 sec. Users per second: 1057\n"
     ]
    },
    {
     "name": "stderr",
     "output_type": "stream",
     "text": [
      "[I 2025-01-07 07:03:56,323] Trial 325 finished with value: 0.01855480992988597 and parameters: {'similarity': 'cosine', 'topK': 23, 'shrink': 472, 'feature_weighting': 'TF-IDF'}. Best is trial 121 with value: 0.018671630477460725.\n"
     ]
    },
    {
     "name": "stdout",
     "output_type": "stream",
     "text": [
      "Similarity column 38121 (100.0%), 705.78 column/sec. Elapsed time 54.01 sec\n",
      "EvaluatorHoldout: Ignoring 173 ( 0.5%) Users that have less than 1 test interactions\n",
      "EvaluatorHoldout: Processed 35563 (100.0%) in 31.13 sec. Users per second: 1142\n",
      "Similarity column 38121 (100.0%), 705.29 column/sec. Elapsed time 54.05 sec\n",
      "EvaluatorHoldout: Ignoring 163 ( 0.5%) Users that have less than 1 test interactions\n",
      "EvaluatorHoldout: Processed 35573 (100.0%) in 31.03 sec. Users per second: 1147\n",
      "Similarity column 38121 (100.0%), 704.78 column/sec. Elapsed time 54.09 sec\n",
      "EvaluatorHoldout: Ignoring 150 ( 0.4%) Users that have less than 1 test interactions\n",
      "EvaluatorHoldout: Processed 35586 (100.0%) in 30.99 sec. Users per second: 1148\n",
      "Similarity column 38121 (100.0%), 700.40 column/sec. Elapsed time 54.43 sec\n",
      "EvaluatorHoldout: Ignoring 167 ( 0.5%) Users that have less than 1 test interactions\n",
      "EvaluatorHoldout: Processed 35569 (100.0%) in 31.31 sec. Users per second: 1136\n",
      "Similarity column 38121 (100.0%), 692.08 column/sec. Elapsed time 55.08 sec\n",
      "EvaluatorHoldout: Ignoring 172 ( 0.5%) Users that have less than 1 test interactions\n",
      "EvaluatorHoldout: Processed 35564 (100.0%) in 31.30 sec. Users per second: 1136\n"
     ]
    },
    {
     "name": "stderr",
     "output_type": "stream",
     "text": [
      "[I 2025-01-07 07:11:05,839] Trial 326 finished with value: 0.013057022992912618 and parameters: {'similarity': 'asymmetric', 'topK': 13, 'shrink': 512, 'feature_weighting': 'TF-IDF', 'asymmetric_alpha': 1.9684884272232803}. Best is trial 121 with value: 0.018671630477460725.\n"
     ]
    },
    {
     "name": "stdout",
     "output_type": "stream",
     "text": [
      "Similarity column 38121 (100.0%), 692.40 column/sec. Elapsed time 55.06 sec\n",
      "EvaluatorHoldout: Ignoring 173 ( 0.5%) Users that have less than 1 test interactions\n",
      "EvaluatorHoldout: Processed 35563 (100.0%) in 35.46 sec. Users per second: 1003\n",
      "Similarity column 38121 (100.0%), 700.31 column/sec. Elapsed time 54.43 sec\n",
      "EvaluatorHoldout: Ignoring 163 ( 0.5%) Users that have less than 1 test interactions\n",
      "EvaluatorHoldout: Processed 35573 (100.0%) in 35.21 sec. Users per second: 1010\n",
      "Similarity column 38121 (100.0%), 702.90 column/sec. Elapsed time 54.23 sec\n",
      "EvaluatorHoldout: Ignoring 150 ( 0.4%) Users that have less than 1 test interactions\n",
      "EvaluatorHoldout: Processed 35586 (100.0%) in 35.84 sec. Users per second: 993\n",
      "Similarity column 38121 (100.0%), 700.71 column/sec. Elapsed time 54.40 sec\n",
      "EvaluatorHoldout: Ignoring 167 ( 0.5%) Users that have less than 1 test interactions\n",
      "EvaluatorHoldout: Processed 35569 (100.0%) in 35.68 sec. Users per second: 997\n",
      "Similarity column 38121 (100.0%), 698.36 column/sec. Elapsed time 54.59 sec\n",
      "EvaluatorHoldout: Ignoring 172 ( 0.5%) Users that have less than 1 test interactions\n",
      "EvaluatorHoldout: Processed 35564 (100.0%) in 35.33 sec. Users per second: 1007\n"
     ]
    },
    {
     "name": "stderr",
     "output_type": "stream",
     "text": [
      "[I 2025-01-07 07:18:38,449] Trial 327 finished with value: 0.018248207475715317 and parameters: {'similarity': 'cosine', 'topK': 45, 'shrink': 487, 'feature_weighting': 'TF-IDF'}. Best is trial 121 with value: 0.018671630477460725.\n"
     ]
    },
    {
     "name": "stdout",
     "output_type": "stream",
     "text": [
      "Similarity column 38121 (100.0%), 700.87 column/sec. Elapsed time 54.39 sec\n",
      "EvaluatorHoldout: Ignoring 173 ( 0.5%) Users that have less than 1 test interactions\n",
      "EvaluatorHoldout: Processed 35563 (100.0%) in 34.46 sec. Users per second: 1032\n",
      "Similarity column 38121 (100.0%), 700.25 column/sec. Elapsed time 54.44 sec\n",
      "EvaluatorHoldout: Ignoring 163 ( 0.5%) Users that have less than 1 test interactions\n",
      "EvaluatorHoldout: Processed 35573 (100.0%) in 34.34 sec. Users per second: 1036\n",
      "Similarity column 38121 (100.0%), 701.34 column/sec. Elapsed time 54.35 sec\n",
      "EvaluatorHoldout: Ignoring 150 ( 0.4%) Users that have less than 1 test interactions\n",
      "EvaluatorHoldout: Processed 35586 (100.0%) in 34.12 sec. Users per second: 1043\n",
      "Similarity column 38121 (100.0%), 698.91 column/sec. Elapsed time 54.54 sec\n",
      "EvaluatorHoldout: Ignoring 167 ( 0.5%) Users that have less than 1 test interactions\n",
      "EvaluatorHoldout: Processed 35569 (100.0%) in 34.23 sec. Users per second: 1039\n",
      "Similarity column 38121 (100.0%), 700.77 column/sec. Elapsed time 54.40 sec\n",
      "EvaluatorHoldout: Ignoring 172 ( 0.5%) Users that have less than 1 test interactions\n",
      "EvaluatorHoldout: Processed 35564 (100.0%) in 34.46 sec. Users per second: 1032\n"
     ]
    },
    {
     "name": "stderr",
     "output_type": "stream",
     "text": [
      "[I 2025-01-07 07:26:04,392] Trial 328 finished with value: 0.018486731372105093 and parameters: {'similarity': 'cosine', 'topK': 28, 'shrink': 533, 'feature_weighting': 'TF-IDF'}. Best is trial 121 with value: 0.018671630477460725.\n"
     ]
    },
    {
     "name": "stdout",
     "output_type": "stream",
     "text": [
      "Similarity column 38121 (100.0%), 983.25 column/sec. Elapsed time 38.77 sec\n",
      "EvaluatorHoldout: Ignoring 173 ( 0.5%) Users that have less than 1 test interactions\n",
      "EvaluatorHoldout: Processed 35563 (100.0%) in 25.16 sec. Users per second: 1413\n",
      "Similarity column 38121 (100.0%), 981.74 column/sec. Elapsed time 38.83 sec\n",
      "EvaluatorHoldout: Ignoring 163 ( 0.5%) Users that have less than 1 test interactions\n",
      "EvaluatorHoldout: Processed 35573 (100.0%) in 24.96 sec. Users per second: 1425\n",
      "Similarity column 38121 (100.0%), 984.18 column/sec. Elapsed time 38.73 sec\n",
      "EvaluatorHoldout: Ignoring 150 ( 0.4%) Users that have less than 1 test interactions\n",
      "EvaluatorHoldout: Processed 35586 (100.0%) in 25.24 sec. Users per second: 1410\n",
      "Similarity column 38121 (100.0%), 979.71 column/sec. Elapsed time 38.91 sec\n",
      "EvaluatorHoldout: Ignoring 167 ( 0.5%) Users that have less than 1 test interactions\n",
      "EvaluatorHoldout: Processed 35569 (100.0%) in 25.08 sec. Users per second: 1418\n",
      "Similarity column 38121 (100.0%), 975.89 column/sec. Elapsed time 39.06 sec\n",
      "EvaluatorHoldout: Ignoring 172 ( 0.5%) Users that have less than 1 test interactions\n",
      "EvaluatorHoldout: Processed 35564 (100.0%) in 25.46 sec. Users per second: 1397\n"
     ]
    },
    {
     "name": "stderr",
     "output_type": "stream",
     "text": [
      "[I 2025-01-07 07:31:28,576] Trial 329 finished with value: 0.0002664826418719655 and parameters: {'similarity': 'tversky', 'topK': 0, 'shrink': 419, 'feature_weighting': 'TF-IDF', 'tversky_alpha': 0.7013800778181779, 'tversky_beta': 0.7645508705779145}. Best is trial 121 with value: 0.018671630477460725.\n"
     ]
    },
    {
     "name": "stdout",
     "output_type": "stream",
     "text": [
      "Similarity column 38121 (100.0%), 702.23 column/sec. Elapsed time 54.29 sec\n",
      "EvaluatorHoldout: Ignoring 173 ( 0.5%) Users that have less than 1 test interactions\n",
      "EvaluatorHoldout: Processed 35563 (100.0%) in 33.20 sec. Users per second: 1071\n",
      "Similarity column 38121 (100.0%), 703.86 column/sec. Elapsed time 54.16 sec\n",
      "EvaluatorHoldout: Ignoring 163 ( 0.5%) Users that have less than 1 test interactions\n",
      "EvaluatorHoldout: Processed 35573 (100.0%) in 33.06 sec. Users per second: 1076\n",
      "Similarity column 38121 (100.0%), 703.35 column/sec. Elapsed time 54.20 sec\n",
      "EvaluatorHoldout: Ignoring 150 ( 0.4%) Users that have less than 1 test interactions\n",
      "EvaluatorHoldout: Processed 35586 (100.0%) in 33.39 sec. Users per second: 1066\n",
      "Similarity column 38121 (100.0%), 700.97 column/sec. Elapsed time 54.38 sec\n",
      "EvaluatorHoldout: Ignoring 167 ( 0.5%) Users that have less than 1 test interactions\n",
      "EvaluatorHoldout: Processed 35569 (100.0%) in 33.16 sec. Users per second: 1073\n",
      "Similarity column 38121 (100.0%), 701.23 column/sec. Elapsed time 54.36 sec\n",
      "EvaluatorHoldout: Ignoring 172 ( 0.5%) Users that have less than 1 test interactions\n",
      "EvaluatorHoldout: Processed 35564 (100.0%) in 33.04 sec. Users per second: 1076\n"
     ]
    },
    {
     "name": "stderr",
     "output_type": "stream",
     "text": [
      "[I 2025-01-07 07:38:47,893] Trial 330 finished with value: 0.018539559169841128 and parameters: {'similarity': 'cosine', 'topK': 16, 'shrink': 462, 'feature_weighting': 'TF-IDF'}. Best is trial 121 with value: 0.018671630477460725.\n"
     ]
    },
    {
     "name": "stdout",
     "output_type": "stream",
     "text": [
      "Similarity column 38121 (100.0%), 698.15 column/sec. Elapsed time 54.60 sec\n",
      "EvaluatorHoldout: Ignoring 173 ( 0.5%) Users that have less than 1 test interactions\n",
      "EvaluatorHoldout: Processed 35563 (100.0%) in 34.97 sec. Users per second: 1017\n",
      "Similarity column 38121 (100.0%), 704.52 column/sec. Elapsed time 54.11 sec\n",
      "EvaluatorHoldout: Ignoring 163 ( 0.5%) Users that have less than 1 test interactions\n",
      "EvaluatorHoldout: Processed 35573 (100.0%) in 34.95 sec. Users per second: 1018\n",
      "Similarity column 38121 (100.0%), 700.54 column/sec. Elapsed time 54.42 sec\n",
      "EvaluatorHoldout: Ignoring 150 ( 0.4%) Users that have less than 1 test interactions\n",
      "EvaluatorHoldout: Processed 35586 (100.0%) in 34.83 sec. Users per second: 1022\n",
      "Similarity column 38121 (100.0%), 701.12 column/sec. Elapsed time 54.37 sec\n",
      "EvaluatorHoldout: Ignoring 167 ( 0.5%) Users that have less than 1 test interactions\n",
      "EvaluatorHoldout: Processed 35569 (100.0%) in 35.13 sec. Users per second: 1013\n",
      "Similarity column 38121 (100.0%), 691.54 column/sec. Elapsed time 55.13 sec\n",
      "EvaluatorHoldout: Ignoring 172 ( 0.5%) Users that have less than 1 test interactions\n",
      "EvaluatorHoldout: Processed 35564 (100.0%) in 34.98 sec. Users per second: 1017\n"
     ]
    },
    {
     "name": "stderr",
     "output_type": "stream",
     "text": [
      "[I 2025-01-07 07:46:17,595] Trial 331 finished with value: 0.018358309480171676 and parameters: {'similarity': 'cosine', 'topK': 35, 'shrink': 509, 'feature_weighting': 'TF-IDF'}. Best is trial 121 with value: 0.018671630477460725.\n"
     ]
    },
    {
     "name": "stdout",
     "output_type": "stream",
     "text": [
      "Similarity column 38121 (100.0%), 695.92 column/sec. Elapsed time 54.78 sec\n",
      "EvaluatorHoldout: Ignoring 173 ( 0.5%) Users that have less than 1 test interactions\n",
      "EvaluatorHoldout: Processed 35563 (100.0%) in 36.68 sec. Users per second: 969\n",
      "Similarity column 38121 (100.0%), 693.68 column/sec. Elapsed time 54.95 sec\n",
      "EvaluatorHoldout: Ignoring 163 ( 0.5%) Users that have less than 1 test interactions\n",
      "EvaluatorHoldout: Processed 35573 (100.0%) in 36.89 sec. Users per second: 964\n",
      "Similarity column 38121 (100.0%), 691.87 column/sec. Elapsed time 55.10 sec\n",
      "EvaluatorHoldout: Ignoring 150 ( 0.4%) Users that have less than 1 test interactions\n",
      "EvaluatorHoldout: Processed 35586 (100.0%) in 36.25 sec. Users per second: 982\n",
      "Similarity column 38121 (100.0%), 695.92 column/sec. Elapsed time 54.78 sec\n",
      "EvaluatorHoldout: Ignoring 167 ( 0.5%) Users that have less than 1 test interactions\n",
      "EvaluatorHoldout: Processed 35569 (100.0%) in 36.67 sec. Users per second: 970\n",
      "Similarity column 38121 (100.0%), 687.19 column/sec. Elapsed time 55.47 sec\n",
      "EvaluatorHoldout: Ignoring 172 ( 0.5%) Users that have less than 1 test interactions\n",
      "EvaluatorHoldout: Processed 35564 (100.0%) in 36.51 sec. Users per second: 974\n"
     ]
    },
    {
     "name": "stderr",
     "output_type": "stream",
     "text": [
      "[I 2025-01-07 07:53:57,597] Trial 332 finished with value: 0.012092311122095346 and parameters: {'similarity': 'cosine', 'topK': 64, 'shrink': 493, 'feature_weighting': 'none'}. Best is trial 121 with value: 0.018671630477460725.\n"
     ]
    },
    {
     "name": "stdout",
     "output_type": "stream",
     "text": [
      "Similarity column 38121 (100.0%), 701.62 column/sec. Elapsed time 54.33 sec\n",
      "EvaluatorHoldout: Ignoring 173 ( 0.5%) Users that have less than 1 test interactions\n",
      "EvaluatorHoldout: Processed 35563 (100.0%) in 32.94 sec. Users per second: 1080\n",
      "Similarity column 38121 (100.0%), 700.99 column/sec. Elapsed time 54.38 sec\n",
      "EvaluatorHoldout: Ignoring 163 ( 0.5%) Users that have less than 1 test interactions\n",
      "EvaluatorHoldout: Processed 35573 (100.0%) in 32.93 sec. Users per second: 1080\n",
      "Similarity column 38121 (100.0%), 696.06 column/sec. Elapsed time 54.77 sec\n",
      "EvaluatorHoldout: Ignoring 150 ( 0.4%) Users that have less than 1 test interactions\n",
      "EvaluatorHoldout: Processed 35586 (100.0%) in 33.08 sec. Users per second: 1076\n",
      "Similarity column 38121 (100.0%), 700.62 column/sec. Elapsed time 54.41 sec\n",
      "EvaluatorHoldout: Ignoring 167 ( 0.5%) Users that have less than 1 test interactions\n",
      "EvaluatorHoldout: Processed 35569 (100.0%) in 33.01 sec. Users per second: 1077\n",
      "Similarity column 38121 (100.0%), 696.12 column/sec. Elapsed time 54.76 sec\n",
      "EvaluatorHoldout: Ignoring 172 ( 0.5%) Users that have less than 1 test interactions\n",
      "EvaluatorHoldout: Processed 35564 (100.0%) in 32.90 sec. Users per second: 1081\n"
     ]
    },
    {
     "name": "stderr",
     "output_type": "stream",
     "text": [
      "[I 2025-01-07 08:01:17,235] Trial 333 finished with value: 0.018626241298244695 and parameters: {'similarity': 'cosine', 'topK': 13, 'shrink': 529, 'feature_weighting': 'TF-IDF'}. Best is trial 121 with value: 0.018671630477460725.\n"
     ]
    },
    {
     "name": "stdout",
     "output_type": "stream",
     "text": [
      "Similarity column 38121 (100.0%), 703.81 column/sec. Elapsed time 54.16 sec\n",
      "EvaluatorHoldout: Ignoring 173 ( 0.5%) Users that have less than 1 test interactions\n",
      "EvaluatorHoldout: Processed 35563 (100.0%) in 33.97 sec. Users per second: 1047\n",
      "Similarity column 38121 (100.0%), 703.71 column/sec. Elapsed time 54.17 sec\n",
      "EvaluatorHoldout: Ignoring 163 ( 0.5%) Users that have less than 1 test interactions\n",
      "EvaluatorHoldout: Processed 35573 (100.0%) in 34.61 sec. Users per second: 1028\n",
      "Similarity column 38121 (100.0%), 702.16 column/sec. Elapsed time 54.29 sec\n",
      "EvaluatorHoldout: Ignoring 150 ( 0.4%) Users that have less than 1 test interactions\n",
      "EvaluatorHoldout: Processed 35586 (100.0%) in 34.07 sec. Users per second: 1044\n",
      "Similarity column 38121 (100.0%), 694.77 column/sec. Elapsed time 54.87 sec\n",
      "EvaluatorHoldout: Ignoring 167 ( 0.5%) Users that have less than 1 test interactions\n",
      "EvaluatorHoldout: Processed 35569 (100.0%) in 34.46 sec. Users per second: 1032\n",
      "Similarity column 38121 (100.0%), 702.29 column/sec. Elapsed time 54.28 sec\n",
      "EvaluatorHoldout: Ignoring 172 ( 0.5%) Users that have less than 1 test interactions\n",
      "EvaluatorHoldout: Processed 35564 (100.0%) in 34.16 sec. Users per second: 1041\n"
     ]
    },
    {
     "name": "stderr",
     "output_type": "stream",
     "text": [
      "[I 2025-01-07 08:08:42,474] Trial 334 finished with value: 0.018508756352188016 and parameters: {'similarity': 'cosine', 'topK': 25, 'shrink': 543, 'feature_weighting': 'TF-IDF'}. Best is trial 121 with value: 0.018671630477460725.\n"
     ]
    },
    {
     "name": "stdout",
     "output_type": "stream",
     "text": [
      "Similarity column 38121 (100.0%), 698.88 column/sec. Elapsed time 54.55 sec\n",
      "EvaluatorHoldout: Ignoring 173 ( 0.5%) Users that have less than 1 test interactions\n",
      "EvaluatorHoldout: Processed 35563 (100.0%) in 35.52 sec. Users per second: 1001\n",
      "Similarity column 38121 (100.0%), 698.67 column/sec. Elapsed time 54.56 sec\n",
      "EvaluatorHoldout: Ignoring 163 ( 0.5%) Users that have less than 1 test interactions\n",
      "EvaluatorHoldout: Processed 35573 (100.0%) in 35.75 sec. Users per second: 995\n",
      "Similarity column 38121 (100.0%), 697.74 column/sec. Elapsed time 54.64 sec\n",
      "EvaluatorHoldout: Ignoring 150 ( 0.4%) Users that have less than 1 test interactions\n",
      "EvaluatorHoldout: Processed 35586 (100.0%) in 35.84 sec. Users per second: 993\n",
      "Similarity column 38121 (100.0%), 698.47 column/sec. Elapsed time 54.58 sec\n",
      "EvaluatorHoldout: Ignoring 167 ( 0.5%) Users that have less than 1 test interactions\n",
      "EvaluatorHoldout: Processed 35569 (100.0%) in 35.81 sec. Users per second: 993\n",
      "Similarity column 38121 (100.0%), 700.84 column/sec. Elapsed time 54.39 sec\n",
      "EvaluatorHoldout: Ignoring 172 ( 0.5%) Users that have less than 1 test interactions\n",
      "EvaluatorHoldout: Processed 35564 (100.0%) in 35.72 sec. Users per second: 996\n"
     ]
    },
    {
     "name": "stderr",
     "output_type": "stream",
     "text": [
      "[I 2025-01-07 08:16:16,148] Trial 335 finished with value: 0.018215719003731444 and parameters: {'similarity': 'cosine', 'topK': 50, 'shrink': 519, 'feature_weighting': 'TF-IDF'}. Best is trial 121 with value: 0.018671630477460725.\n"
     ]
    },
    {
     "name": "stdout",
     "output_type": "stream",
     "text": [
      "Similarity column 38121 (100.0%), 999.77 column/sec. Elapsed time 38.13 sec\n",
      "EvaluatorHoldout: Ignoring 173 ( 0.5%) Users that have less than 1 test interactions\n",
      "EvaluatorHoldout: Processed 35563 (100.0%) in 25.29 sec. Users per second: 1406\n",
      "Similarity column 38121 (100.0%), 993.03 column/sec. Elapsed time 38.39 sec\n",
      "EvaluatorHoldout: Ignoring 163 ( 0.5%) Users that have less than 1 test interactions\n",
      "EvaluatorHoldout: Processed 35573 (100.0%) in 25.24 sec. Users per second: 1409\n",
      "Similarity column 38121 (100.0%), 1001.29 column/sec. Elapsed time 38.07 sec\n",
      "EvaluatorHoldout: Ignoring 150 ( 0.4%) Users that have less than 1 test interactions\n",
      "EvaluatorHoldout: Processed 35586 (100.0%) in 25.60 sec. Users per second: 1390\n",
      "Similarity column 38121 (100.0%), 1001.00 column/sec. Elapsed time 38.08 sec\n",
      "EvaluatorHoldout: Ignoring 167 ( 0.5%) Users that have less than 1 test interactions\n",
      "EvaluatorHoldout: Processed 35569 (100.0%) in 25.19 sec. Users per second: 1412\n",
      "Similarity column 38121 (100.0%), 999.88 column/sec. Elapsed time 38.13 sec\n",
      "EvaluatorHoldout: Ignoring 172 ( 0.5%) Users that have less than 1 test interactions\n",
      "EvaluatorHoldout: Processed 35564 (100.0%) in 25.16 sec. Users per second: 1413\n"
     ]
    },
    {
     "name": "stderr",
     "output_type": "stream",
     "text": [
      "[I 2025-01-07 08:21:35,422] Trial 336 finished with value: 0.0002664826418719655 and parameters: {'similarity': 'cosine', 'topK': 0, 'shrink': 566, 'feature_weighting': 'TF-IDF'}. Best is trial 121 with value: 0.018671630477460725.\n"
     ]
    },
    {
     "name": "stdout",
     "output_type": "stream",
     "text": [
      "Similarity column 38121 (100.0%), 701.74 column/sec. Elapsed time 54.32 sec\n",
      "EvaluatorHoldout: Ignoring 173 ( 0.5%) Users that have less than 1 test interactions\n",
      "EvaluatorHoldout: Processed 35563 (100.0%) in 34.81 sec. Users per second: 1022\n",
      "Similarity column 38121 (100.0%), 701.57 column/sec. Elapsed time 54.34 sec\n",
      "EvaluatorHoldout: Ignoring 163 ( 0.5%) Users that have less than 1 test interactions\n",
      "EvaluatorHoldout: Processed 35573 (100.0%) in 34.88 sec. Users per second: 1020\n",
      "Similarity column 38121 (100.0%), 697.86 column/sec. Elapsed time 54.63 sec\n",
      "EvaluatorHoldout: Ignoring 150 ( 0.4%) Users that have less than 1 test interactions\n",
      "EvaluatorHoldout: Processed 35586 (100.0%) in 34.89 sec. Users per second: 1020\n",
      "Similarity column 38121 (100.0%), 705.12 column/sec. Elapsed time 54.06 sec\n",
      "EvaluatorHoldout: Ignoring 167 ( 0.5%) Users that have less than 1 test interactions\n",
      "EvaluatorHoldout: Processed 35569 (100.0%) in 34.94 sec. Users per second: 1018\n",
      "Similarity column 38121 (100.0%), 698.32 column/sec. Elapsed time 54.59 sec\n",
      "EvaluatorHoldout: Ignoring 172 ( 0.5%) Users that have less than 1 test interactions\n",
      "EvaluatorHoldout: Processed 35564 (100.0%) in 34.86 sec. Users per second: 1020\n"
     ]
    },
    {
     "name": "stderr",
     "output_type": "stream",
     "text": [
      "[I 2025-01-07 08:29:04,016] Trial 337 finished with value: 0.018316075044189965 and parameters: {'similarity': 'cosine', 'topK': 36, 'shrink': 512, 'feature_weighting': 'TF-IDF'}. Best is trial 121 with value: 0.018671630477460725.\n"
     ]
    },
    {
     "name": "stdout",
     "output_type": "stream",
     "text": [
      "Similarity column 38121 (100.0%), 694.78 column/sec. Elapsed time 54.87 sec\n",
      "EvaluatorHoldout: Ignoring 173 ( 0.5%) Users that have less than 1 test interactions\n",
      "EvaluatorHoldout: Processed 35563 (100.0%) in 33.66 sec. Users per second: 1056\n",
      "Similarity column 38121 (100.0%), 697.29 column/sec. Elapsed time 54.67 sec\n",
      "EvaluatorHoldout: Ignoring 163 ( 0.5%) Users that have less than 1 test interactions\n",
      "EvaluatorHoldout: Processed 35573 (100.0%) in 33.58 sec. Users per second: 1059\n",
      "Similarity column 38121 (100.0%), 679.55 column/sec. Elapsed time 56.10 sec\n",
      "EvaluatorHoldout: Ignoring 150 ( 0.4%) Users that have less than 1 test interactions\n",
      "EvaluatorHoldout: Processed 35586 (100.0%) in 33.46 sec. Users per second: 1064\n",
      "Similarity column 38121 (100.0%), 695.11 column/sec. Elapsed time 54.84 sec\n",
      "EvaluatorHoldout: Ignoring 167 ( 0.5%) Users that have less than 1 test interactions\n",
      "EvaluatorHoldout: Processed 35569 (100.0%) in 33.71 sec. Users per second: 1055\n",
      "Similarity column 38121 (100.0%), 699.96 column/sec. Elapsed time 54.46 sec\n",
      "EvaluatorHoldout: Ignoring 172 ( 0.5%) Users that have less than 1 test interactions\n",
      "EvaluatorHoldout: Processed 35564 (100.0%) in 33.13 sec. Users per second: 1074\n"
     ]
    },
    {
     "name": "stderr",
     "output_type": "stream",
     "text": [
      "[I 2025-01-07 08:36:28,791] Trial 338 finished with value: 0.018204860588767267 and parameters: {'similarity': 'cosine', 'topK': 16, 'shrink': 487, 'feature_weighting': 'BM25'}. Best is trial 121 with value: 0.018671630477460725.\n"
     ]
    },
    {
     "name": "stdout",
     "output_type": "stream",
     "text": [
      "Similarity column 38121 (100.0%), 702.05 column/sec. Elapsed time 54.30 sec\n",
      "EvaluatorHoldout: Ignoring 173 ( 0.5%) Users that have less than 1 test interactions\n",
      "EvaluatorHoldout: Processed 35563 (100.0%) in 32.87 sec. Users per second: 1082\n",
      "Similarity column 38121 (100.0%), 702.10 column/sec. Elapsed time 54.30 sec\n",
      "EvaluatorHoldout: Ignoring 163 ( 0.5%) Users that have less than 1 test interactions\n",
      "EvaluatorHoldout: Processed 35573 (100.0%) in 32.96 sec. Users per second: 1079\n",
      "Similarity column 38121 (100.0%), 700.67 column/sec. Elapsed time 54.41 sec\n",
      "EvaluatorHoldout: Ignoring 150 ( 0.4%) Users that have less than 1 test interactions\n",
      "EvaluatorHoldout: Processed 35586 (100.0%) in 32.87 sec. Users per second: 1083\n",
      "Similarity column 38121 (100.0%), 703.63 column/sec. Elapsed time 54.18 sec\n",
      "EvaluatorHoldout: Ignoring 167 ( 0.5%) Users that have less than 1 test interactions\n",
      "EvaluatorHoldout: Processed 35569 (100.0%) in 32.82 sec. Users per second: 1084\n",
      "Similarity column 38121 (100.0%), 701.78 column/sec. Elapsed time 54.32 sec\n",
      "EvaluatorHoldout: Ignoring 172 ( 0.5%) Users that have less than 1 test interactions\n",
      "EvaluatorHoldout: Processed 35564 (100.0%) in 32.91 sec. Users per second: 1081\n"
     ]
    },
    {
     "name": "stderr",
     "output_type": "stream",
     "text": [
      "[I 2025-01-07 08:43:46,774] Trial 339 finished with value: 0.018633415784032263 and parameters: {'similarity': 'cosine', 'topK': 14, 'shrink': 541, 'feature_weighting': 'TF-IDF'}. Best is trial 121 with value: 0.018671630477460725.\n"
     ]
    },
    {
     "name": "stdout",
     "output_type": "stream",
     "text": [
      "Similarity column 38121 (100.0%), 708.98 column/sec. Elapsed time 53.77 sec\n",
      "EvaluatorHoldout: Ignoring 173 ( 0.5%) Users that have less than 1 test interactions\n",
      "EvaluatorHoldout: Processed 35563 (100.0%) in 34.58 sec. Users per second: 1028\n",
      "Similarity column 38121 (100.0%), 704.81 column/sec. Elapsed time 54.09 sec\n",
      "EvaluatorHoldout: Ignoring 163 ( 0.5%) Users that have less than 1 test interactions\n",
      "EvaluatorHoldout: Processed 35573 (100.0%) in 34.72 sec. Users per second: 1025\n",
      "Similarity column 38121 (100.0%), 700.50 column/sec. Elapsed time 54.42 sec\n",
      "EvaluatorHoldout: Ignoring 150 ( 0.4%) Users that have less than 1 test interactions\n",
      "EvaluatorHoldout: Processed 35586 (100.0%) in 34.62 sec. Users per second: 1028\n",
      "Similarity column 38121 (100.0%), 705.76 column/sec. Elapsed time 54.01 sec\n",
      "EvaluatorHoldout: Ignoring 167 ( 0.5%) Users that have less than 1 test interactions\n",
      "EvaluatorHoldout: Processed 35569 (100.0%) in 34.77 sec. Users per second: 1023\n",
      "Similarity column 38121 (100.0%), 704.45 column/sec. Elapsed time 54.11 sec\n",
      "EvaluatorHoldout: Ignoring 172 ( 0.5%) Users that have less than 1 test interactions\n",
      "EvaluatorHoldout: Processed 35564 (100.0%) in 34.78 sec. Users per second: 1023\n"
     ]
    },
    {
     "name": "stderr",
     "output_type": "stream",
     "text": [
      "[I 2025-01-07 08:51:14,789] Trial 340 finished with value: 0.012962885416997846 and parameters: {'similarity': 'jaccard', 'topK': 36, 'shrink': 575, 'feature_weighting': 'TF-IDF'}. Best is trial 121 with value: 0.018671630477460725.\n"
     ]
    },
    {
     "name": "stdout",
     "output_type": "stream",
     "text": [
      "Similarity column 38121 (100.0%), 699.54 column/sec. Elapsed time 54.49 sec\n",
      "EvaluatorHoldout: Ignoring 173 ( 0.5%) Users that have less than 1 test interactions\n",
      "EvaluatorHoldout: Processed 35563 (100.0%) in 33.89 sec. Users per second: 1049\n",
      "Similarity column 38121 (100.0%), 698.21 column/sec. Elapsed time 54.60 sec\n",
      "EvaluatorHoldout: Ignoring 163 ( 0.5%) Users that have less than 1 test interactions\n",
      "EvaluatorHoldout: Processed 35573 (100.0%) in 33.83 sec. Users per second: 1051\n",
      "Similarity column 38121 (100.0%), 700.38 column/sec. Elapsed time 54.43 sec\n",
      "EvaluatorHoldout: Ignoring 150 ( 0.4%) Users that have less than 1 test interactions\n",
      "EvaluatorHoldout: Processed 35586 (100.0%) in 34.01 sec. Users per second: 1046\n",
      "Similarity column 38121 (100.0%), 699.95 column/sec. Elapsed time 54.46 sec\n",
      "EvaluatorHoldout: Ignoring 167 ( 0.5%) Users that have less than 1 test interactions\n",
      "EvaluatorHoldout: Processed 35569 (100.0%) in 33.88 sec. Users per second: 1050\n",
      "Similarity column 38121 (100.0%), 698.53 column/sec. Elapsed time 54.57 sec\n",
      "EvaluatorHoldout: Ignoring 172 ( 0.5%) Users that have less than 1 test interactions\n",
      "EvaluatorHoldout: Processed 35564 (100.0%) in 33.90 sec. Users per second: 1049\n"
     ]
    },
    {
     "name": "stderr",
     "output_type": "stream",
     "text": [
      "[I 2025-01-07 08:58:38,964] Trial 341 finished with value: 0.01855932125259844 and parameters: {'similarity': 'cosine', 'topK': 22, 'shrink': 473, 'feature_weighting': 'TF-IDF'}. Best is trial 121 with value: 0.018671630477460725.\n"
     ]
    },
    {
     "name": "stdout",
     "output_type": "stream",
     "text": [
      "Similarity column 38121 (100.0%), 700.70 column/sec. Elapsed time 54.40 sec\n",
      "EvaluatorHoldout: Ignoring 173 ( 0.5%) Users that have less than 1 test interactions\n",
      "EvaluatorHoldout: Processed 35563 (100.0%) in 32.86 sec. Users per second: 1082\n",
      "Similarity column 38121 (100.0%), 697.08 column/sec. Elapsed time 54.69 sec\n",
      "EvaluatorHoldout: Ignoring 163 ( 0.5%) Users that have less than 1 test interactions\n",
      "EvaluatorHoldout: Processed 35573 (100.0%) in 33.03 sec. Users per second: 1077\n",
      "Similarity column 38121 (100.0%), 699.26 column/sec. Elapsed time 54.52 sec\n",
      "EvaluatorHoldout: Ignoring 150 ( 0.4%) Users that have less than 1 test interactions\n",
      "EvaluatorHoldout: Processed 35586 (100.0%) in 32.55 sec. Users per second: 1093\n",
      "Similarity column 38121 (100.0%), 704.42 column/sec. Elapsed time 54.12 sec\n",
      "EvaluatorHoldout: Ignoring 167 ( 0.5%) Users that have less than 1 test interactions\n",
      "EvaluatorHoldout: Processed 35569 (100.0%) in 32.58 sec. Users per second: 1092\n",
      "Similarity column 38121 (100.0%), 693.29 column/sec. Elapsed time 54.99 sec\n",
      "EvaluatorHoldout: Ignoring 172 ( 0.5%) Users that have less than 1 test interactions\n",
      "EvaluatorHoldout: Processed 35564 (100.0%) in 33.19 sec. Users per second: 1071\n"
     ]
    },
    {
     "name": "stderr",
     "output_type": "stream",
     "text": [
      "[I 2025-01-07 09:05:57,934] Trial 342 finished with value: 0.01863984622485191 and parameters: {'similarity': 'cosine', 'topK': 11, 'shrink': 546, 'feature_weighting': 'TF-IDF'}. Best is trial 121 with value: 0.018671630477460725.\n"
     ]
    },
    {
     "name": "stdout",
     "output_type": "stream",
     "text": [
      "Similarity column 38121 (100.0%), 683.34 column/sec. Elapsed time 55.79 sec\n",
      "EvaluatorHoldout: Ignoring 173 ( 0.5%) Users that have less than 1 test interactions\n",
      "EvaluatorHoldout: Processed 35563 (100.0%) in 56.63 sec. Users per second: 628\n",
      "Similarity column 38121 (100.0%), 684.20 column/sec. Elapsed time 55.72 sec\n",
      "EvaluatorHoldout: Ignoring 163 ( 0.5%) Users that have less than 1 test interactions\n",
      "EvaluatorHoldout: Processed 35573 (100.0%) in 56.25 sec. Users per second: 632\n",
      "Similarity column 38121 (100.0%), 685.78 column/sec. Elapsed time 55.59 sec\n",
      "EvaluatorHoldout: Ignoring 150 ( 0.4%) Users that have less than 1 test interactions\n",
      "EvaluatorHoldout: Processed 35586 (100.0%) in 56.57 sec. Users per second: 629\n",
      "Similarity column 38121 (100.0%), 677.16 column/sec. Elapsed time 56.30 sec\n",
      "EvaluatorHoldout: Ignoring 167 ( 0.5%) Users that have less than 1 test interactions\n",
      "EvaluatorHoldout: Processed 35569 (100.0%) in 57.09 sec. Users per second: 623\n",
      "Similarity column 38121 (100.0%), 680.47 column/sec. Elapsed time 56.02 sec\n",
      "EvaluatorHoldout: Ignoring 172 ( 0.5%) Users that have less than 1 test interactions\n",
      "EvaluatorHoldout: Processed 35564 (100.0%) in 56.29 sec. Users per second: 632\n"
     ]
    },
    {
     "name": "stderr",
     "output_type": "stream",
     "text": [
      "[I 2025-01-07 09:15:27,712] Trial 343 finished with value: 0.016212771887797135 and parameters: {'similarity': 'cosine', 'topK': 745, 'shrink': 500, 'feature_weighting': 'TF-IDF'}. Best is trial 121 with value: 0.018671630477460725.\n"
     ]
    },
    {
     "name": "stdout",
     "output_type": "stream",
     "text": [
      "Similarity column 38121 (100.0%), 691.80 column/sec. Elapsed time 55.10 sec\n",
      "EvaluatorHoldout: Ignoring 173 ( 0.5%) Users that have less than 1 test interactions\n",
      "EvaluatorHoldout: Processed 35563 (100.0%) in 53.78 sec. Users per second: 661\n",
      "Similarity column 38121 (100.0%), 687.24 column/sec. Elapsed time 55.47 sec\n",
      "EvaluatorHoldout: Ignoring 163 ( 0.5%) Users that have less than 1 test interactions\n",
      "EvaluatorHoldout: Processed 35573 (100.0%) in 53.70 sec. Users per second: 662\n",
      "Similarity column 38121 (100.0%), 686.49 column/sec. Elapsed time 55.53 sec\n",
      "EvaluatorHoldout: Ignoring 150 ( 0.4%) Users that have less than 1 test interactions\n",
      "EvaluatorHoldout: Processed 35586 (100.0%) in 53.43 sec. Users per second: 666\n",
      "Similarity column 38121 (100.0%), 682.91 column/sec. Elapsed time 55.82 sec\n",
      "EvaluatorHoldout: Ignoring 167 ( 0.5%) Users that have less than 1 test interactions\n",
      "EvaluatorHoldout: Processed 35569 (100.0%) in 53.20 sec. Users per second: 669\n",
      "Similarity column 38121 (100.0%), 689.03 column/sec. Elapsed time 55.33 sec\n",
      "EvaluatorHoldout: Ignoring 172 ( 0.5%) Users that have less than 1 test interactions\n",
      "EvaluatorHoldout: Processed 35564 (100.0%) in 53.14 sec. Users per second: 669\n"
     ]
    },
    {
     "name": "stderr",
     "output_type": "stream",
     "text": [
      "[I 2025-01-07 09:24:40,635] Trial 344 finished with value: 0.00975277810675975 and parameters: {'similarity': 'dice', 'topK': 654, 'shrink': 589, 'feature_weighting': 'TF-IDF'}. Best is trial 121 with value: 0.018671630477460725.\n"
     ]
    },
    {
     "name": "stdout",
     "output_type": "stream",
     "text": [
      "Similarity column 38121 (100.0%), 694.59 column/sec. Elapsed time 54.88 sec\n",
      "EvaluatorHoldout: Ignoring 173 ( 0.5%) Users that have less than 1 test interactions\n",
      "EvaluatorHoldout: Processed 35563 (100.0%) in 35.75 sec. Users per second: 995\n",
      "Similarity column 38121 (100.0%), 695.67 column/sec. Elapsed time 54.80 sec\n",
      "EvaluatorHoldout: Ignoring 163 ( 0.5%) Users that have less than 1 test interactions\n",
      "EvaluatorHoldout: Processed 35573 (100.0%) in 35.93 sec. Users per second: 990\n",
      "Similarity column 38121 (100.0%), 697.93 column/sec. Elapsed time 54.62 sec\n",
      "EvaluatorHoldout: Ignoring 150 ( 0.4%) Users that have less than 1 test interactions\n",
      "EvaluatorHoldout: Processed 35586 (100.0%) in 36.02 sec. Users per second: 988\n",
      "Similarity column 38121 (100.0%), 698.29 column/sec. Elapsed time 54.59 sec\n",
      "EvaluatorHoldout: Ignoring 167 ( 0.5%) Users that have less than 1 test interactions\n",
      "EvaluatorHoldout: Processed 35569 (100.0%) in 35.58 sec. Users per second: 1000\n",
      "Similarity column 38121 (100.0%), 698.03 column/sec. Elapsed time 54.61 sec\n",
      "EvaluatorHoldout: Ignoring 172 ( 0.5%) Users that have less than 1 test interactions\n",
      "EvaluatorHoldout: Processed 35564 (100.0%) in 35.77 sec. Users per second: 994\n"
     ]
    },
    {
     "name": "stderr",
     "output_type": "stream",
     "text": [
      "[I 2025-01-07 09:32:15,569] Trial 345 finished with value: 0.01824818491424833 and parameters: {'similarity': 'cosine', 'topK': 47, 'shrink': 526, 'feature_weighting': 'TF-IDF'}. Best is trial 121 with value: 0.018671630477460725.\n"
     ]
    },
    {
     "name": "stdout",
     "output_type": "stream",
     "text": [
      "Similarity column 38121 (100.0%), 994.00 column/sec. Elapsed time 38.35 sec\n",
      "EvaluatorHoldout: Ignoring 173 ( 0.5%) Users that have less than 1 test interactions\n",
      "EvaluatorHoldout: Processed 35563 (100.0%) in 25.16 sec. Users per second: 1413\n",
      "Similarity column 38121 (100.0%), 987.71 column/sec. Elapsed time 38.60 sec\n",
      "EvaluatorHoldout: Ignoring 163 ( 0.5%) Users that have less than 1 test interactions\n",
      "EvaluatorHoldout: Processed 35573 (100.0%) in 25.10 sec. Users per second: 1417\n",
      "Similarity column 38121 (100.0%), 991.64 column/sec. Elapsed time 38.44 sec\n",
      "EvaluatorHoldout: Ignoring 150 ( 0.4%) Users that have less than 1 test interactions\n",
      "EvaluatorHoldout: Processed 35586 (100.0%) in 25.28 sec. Users per second: 1408\n",
      "Similarity column 38121 (100.0%), 996.16 column/sec. Elapsed time 38.27 sec\n",
      "EvaluatorHoldout: Ignoring 167 ( 0.5%) Users that have less than 1 test interactions\n",
      "EvaluatorHoldout: Processed 35569 (100.0%) in 25.00 sec. Users per second: 1423\n",
      "Similarity column 38121 (100.0%), 995.88 column/sec. Elapsed time 38.28 sec\n",
      "EvaluatorHoldout: Ignoring 172 ( 0.5%) Users that have less than 1 test interactions\n",
      "EvaluatorHoldout: Processed 35564 (100.0%) in 25.10 sec. Users per second: 1417\n"
     ]
    },
    {
     "name": "stderr",
     "output_type": "stream",
     "text": [
      "[I 2025-01-07 09:37:35,156] Trial 346 finished with value: 0.0002664826418719655 and parameters: {'similarity': 'cosine', 'topK': 0, 'shrink': 559, 'feature_weighting': 'TF-IDF'}. Best is trial 121 with value: 0.018671630477460725.\n"
     ]
    },
    {
     "name": "stdout",
     "output_type": "stream",
     "text": [
      "Similarity column 38121 (100.0%), 699.49 column/sec. Elapsed time 54.50 sec\n",
      "EvaluatorHoldout: Ignoring 173 ( 0.5%) Users that have less than 1 test interactions\n",
      "EvaluatorHoldout: Processed 35563 (100.0%) in 34.40 sec. Users per second: 1034\n",
      "Similarity column 38121 (100.0%), 698.09 column/sec. Elapsed time 54.61 sec\n",
      "EvaluatorHoldout: Ignoring 163 ( 0.5%) Users that have less than 1 test interactions\n",
      "EvaluatorHoldout: Processed 35573 (100.0%) in 34.39 sec. Users per second: 1034\n",
      "Similarity column 38121 (100.0%), 695.72 column/sec. Elapsed time 54.79 sec\n",
      "EvaluatorHoldout: Ignoring 150 ( 0.4%) Users that have less than 1 test interactions\n",
      "EvaluatorHoldout: Processed 35586 (100.0%) in 34.49 sec. Users per second: 1032\n",
      "Similarity column 38121 (100.0%), 695.02 column/sec. Elapsed time 54.85 sec\n",
      "EvaluatorHoldout: Ignoring 167 ( 0.5%) Users that have less than 1 test interactions\n",
      "EvaluatorHoldout: Processed 35569 (100.0%) in 34.49 sec. Users per second: 1031\n",
      "Similarity column 38121 (100.0%), 699.16 column/sec. Elapsed time 54.52 sec\n",
      "EvaluatorHoldout: Ignoring 172 ( 0.5%) Users that have less than 1 test interactions\n",
      "EvaluatorHoldout: Processed 35564 (100.0%) in 34.70 sec. Users per second: 1025\n"
     ]
    },
    {
     "name": "stderr",
     "output_type": "stream",
     "text": [
      "[I 2025-01-07 09:45:03,138] Trial 347 finished with value: 0.018498160643124796 and parameters: {'similarity': 'cosine', 'topK': 28, 'shrink': 528, 'feature_weighting': 'TF-IDF'}. Best is trial 121 with value: 0.018671630477460725.\n"
     ]
    },
    {
     "name": "stdout",
     "output_type": "stream",
     "text": [
      "Similarity column 38121 (100.0%), 694.73 column/sec. Elapsed time 54.87 sec\n",
      "EvaluatorHoldout: Ignoring 173 ( 0.5%) Users that have less than 1 test interactions\n",
      "EvaluatorHoldout: Processed 35563 (100.0%) in 32.88 sec. Users per second: 1082\n",
      "Similarity column 38121 (100.0%), 693.32 column/sec. Elapsed time 54.98 sec\n",
      "EvaluatorHoldout: Ignoring 163 ( 0.5%) Users that have less than 1 test interactions\n",
      "EvaluatorHoldout: Processed 35573 (100.0%) in 32.79 sec. Users per second: 1085\n",
      "Similarity column 38121 (100.0%), 696.36 column/sec. Elapsed time 54.74 sec\n",
      "EvaluatorHoldout: Ignoring 150 ( 0.4%) Users that have less than 1 test interactions\n",
      "EvaluatorHoldout: Processed 35586 (100.0%) in 33.07 sec. Users per second: 1076\n",
      "Similarity column 38121 (100.0%), 699.10 column/sec. Elapsed time 54.53 sec\n",
      "EvaluatorHoldout: Ignoring 167 ( 0.5%) Users that have less than 1 test interactions\n",
      "EvaluatorHoldout: Processed 35569 (100.0%) in 32.85 sec. Users per second: 1083\n",
      "Similarity column 38121 (100.0%), 699.36 column/sec. Elapsed time 54.51 sec\n",
      "EvaluatorHoldout: Ignoring 172 ( 0.5%) Users that have less than 1 test interactions\n",
      "EvaluatorHoldout: Processed 35564 (100.0%) in 32.88 sec. Users per second: 1082\n"
     ]
    },
    {
     "name": "stderr",
     "output_type": "stream",
     "text": [
      "[I 2025-01-07 09:52:23,361] Trial 348 finished with value: 0.018640721753330636 and parameters: {'similarity': 'cosine', 'topK': 12, 'shrink': 504, 'feature_weighting': 'TF-IDF'}. Best is trial 121 with value: 0.018671630477460725.\n"
     ]
    },
    {
     "name": "stdout",
     "output_type": "stream",
     "text": [
      "Similarity column 38121 (100.0%), 697.02 column/sec. Elapsed time 54.69 sec\n",
      "EvaluatorHoldout: Ignoring 173 ( 0.5%) Users that have less than 1 test interactions\n",
      "EvaluatorHoldout: Processed 35563 (100.0%) in 36.94 sec. Users per second: 963\n",
      "Similarity column 38121 (100.0%), 700.70 column/sec. Elapsed time 54.40 sec\n",
      "EvaluatorHoldout: Ignoring 163 ( 0.5%) Users that have less than 1 test interactions\n",
      "EvaluatorHoldout: Processed 35573 (100.0%) in 36.98 sec. Users per second: 962\n",
      "Similarity column 38121 (100.0%), 698.60 column/sec. Elapsed time 54.57 sec\n",
      "EvaluatorHoldout: Ignoring 150 ( 0.4%) Users that have less than 1 test interactions\n",
      "EvaluatorHoldout: Processed 35586 (100.0%) in 36.96 sec. Users per second: 963\n",
      "Similarity column 38121 (100.0%), 697.43 column/sec. Elapsed time 54.66 sec\n",
      "EvaluatorHoldout: Ignoring 167 ( 0.5%) Users that have less than 1 test interactions\n",
      "EvaluatorHoldout: Processed 35569 (100.0%) in 36.86 sec. Users per second: 965\n",
      "Similarity column 38121 (100.0%), 692.54 column/sec. Elapsed time 55.05 sec\n",
      "EvaluatorHoldout: Ignoring 172 ( 0.5%) Users that have less than 1 test interactions\n",
      "EvaluatorHoldout: Processed 35564 (100.0%) in 37.15 sec. Users per second: 957\n"
     ]
    },
    {
     "name": "stderr",
     "output_type": "stream",
     "text": [
      "[I 2025-01-07 10:00:04,141] Trial 349 finished with value: 0.01813182587296191 and parameters: {'similarity': 'cosine', 'topK': 70, 'shrink': 485, 'feature_weighting': 'TF-IDF'}. Best is trial 121 with value: 0.018671630477460725.\n"
     ]
    },
    {
     "name": "stdout",
     "output_type": "stream",
     "text": [
      "Similarity column 38121 (100.0%), 698.42 column/sec. Elapsed time 54.58 sec\n",
      "EvaluatorHoldout: Ignoring 173 ( 0.5%) Users that have less than 1 test interactions\n",
      "EvaluatorHoldout: Processed 35563 (100.0%) in 34.62 sec. Users per second: 1027\n",
      "Similarity column 38121 (100.0%), 698.87 column/sec. Elapsed time 54.55 sec\n",
      "EvaluatorHoldout: Ignoring 163 ( 0.5%) Users that have less than 1 test interactions\n",
      "EvaluatorHoldout: Processed 35573 (100.0%) in 34.21 sec. Users per second: 1040\n",
      "Similarity column 38121 (100.0%), 698.13 column/sec. Elapsed time 54.60 sec\n",
      "EvaluatorHoldout: Ignoring 150 ( 0.4%) Users that have less than 1 test interactions\n",
      "EvaluatorHoldout: Processed 35586 (100.0%) in 34.31 sec. Users per second: 1037\n",
      "Similarity column 38121 (100.0%), 700.39 column/sec. Elapsed time 54.43 sec\n",
      "EvaluatorHoldout: Ignoring 167 ( 0.5%) Users that have less than 1 test interactions\n",
      "EvaluatorHoldout: Processed 35569 (100.0%) in 34.05 sec. Users per second: 1045\n",
      "Similarity column 38121 (100.0%), 701.21 column/sec. Elapsed time 54.36 sec\n",
      "EvaluatorHoldout: Ignoring 172 ( 0.5%) Users that have less than 1 test interactions\n",
      "EvaluatorHoldout: Processed 35564 (100.0%) in 34.37 sec. Users per second: 1035\n"
     ]
    },
    {
     "name": "stderr",
     "output_type": "stream",
     "text": [
      "[I 2025-01-07 10:07:30,410] Trial 350 finished with value: 0.018485072979784835 and parameters: {'similarity': 'cosine', 'topK': 26, 'shrink': 442, 'feature_weighting': 'TF-IDF'}. Best is trial 121 with value: 0.018671630477460725.\n"
     ]
    },
    {
     "name": "stdout",
     "output_type": "stream",
     "text": [
      "Similarity column 38121 (100.0%), 693.66 column/sec. Elapsed time 54.96 sec\n",
      "EvaluatorHoldout: Ignoring 173 ( 0.5%) Users that have less than 1 test interactions\n",
      "EvaluatorHoldout: Processed 35563 (100.0%) in 35.25 sec. Users per second: 1009\n",
      "Similarity column 38121 (100.0%), 694.99 column/sec. Elapsed time 54.85 sec\n",
      "EvaluatorHoldout: Ignoring 163 ( 0.5%) Users that have less than 1 test interactions\n",
      "EvaluatorHoldout: Processed 35573 (100.0%) in 35.27 sec. Users per second: 1009\n",
      "Similarity column 38121 (100.0%), 694.95 column/sec. Elapsed time 54.85 sec\n",
      "EvaluatorHoldout: Ignoring 150 ( 0.4%) Users that have less than 1 test interactions\n",
      "EvaluatorHoldout: Processed 35586 (100.0%) in 35.49 sec. Users per second: 1003\n",
      "Similarity column 38121 (100.0%), 696.42 column/sec. Elapsed time 54.74 sec\n",
      "EvaluatorHoldout: Ignoring 167 ( 0.5%) Users that have less than 1 test interactions\n",
      "EvaluatorHoldout: Processed 35569 (100.0%) in 35.53 sec. Users per second: 1001\n",
      "Similarity column 38121 (100.0%), 697.03 column/sec. Elapsed time 54.69 sec\n",
      "EvaluatorHoldout: Ignoring 172 ( 0.5%) Users that have less than 1 test interactions\n",
      "EvaluatorHoldout: Processed 35564 (100.0%) in 35.36 sec. Users per second: 1006\n"
     ]
    },
    {
     "name": "stderr",
     "output_type": "stream",
     "text": [
      "[I 2025-01-07 10:15:03,720] Trial 351 finished with value: 0.01828910156932064 and parameters: {'similarity': 'cosine', 'topK': 41, 'shrink': 503, 'feature_weighting': 'TF-IDF'}. Best is trial 121 with value: 0.018671630477460725.\n"
     ]
    },
    {
     "name": "stdout",
     "output_type": "stream",
     "text": [
      "Similarity column 38121 (100.0%), 992.52 column/sec. Elapsed time 38.41 sec\n",
      "EvaluatorHoldout: Ignoring 173 ( 0.5%) Users that have less than 1 test interactions\n",
      "EvaluatorHoldout: Processed 35563 (100.0%) in 25.09 sec. Users per second: 1417\n",
      "Similarity column 38121 (100.0%), 986.46 column/sec. Elapsed time 38.64 sec\n",
      "EvaluatorHoldout: Ignoring 163 ( 0.5%) Users that have less than 1 test interactions\n",
      "EvaluatorHoldout: Processed 35573 (100.0%) in 25.39 sec. Users per second: 1401\n",
      "Similarity column 38121 (100.0%), 983.27 column/sec. Elapsed time 38.77 sec\n",
      "EvaluatorHoldout: Ignoring 150 ( 0.4%) Users that have less than 1 test interactions\n",
      "EvaluatorHoldout: Processed 35586 (100.0%) in 25.29 sec. Users per second: 1407\n",
      "Similarity column 38121 (100.0%), 993.61 column/sec. Elapsed time 38.37 sec\n",
      "EvaluatorHoldout: Ignoring 167 ( 0.5%) Users that have less than 1 test interactions\n",
      "EvaluatorHoldout: Processed 35569 (100.0%) in 25.28 sec. Users per second: 1407\n",
      "Similarity column 38121 (100.0%), 988.28 column/sec. Elapsed time 38.57 sec\n",
      "EvaluatorHoldout: Ignoring 172 ( 0.5%) Users that have less than 1 test interactions\n",
      "EvaluatorHoldout: Processed 35564 (100.0%) in 25.19 sec. Users per second: 1412\n"
     ]
    },
    {
     "name": "stderr",
     "output_type": "stream",
     "text": [
      "[I 2025-01-07 10:20:24,746] Trial 352 finished with value: 0.0002664826418719655 and parameters: {'similarity': 'asymmetric', 'topK': 0, 'shrink': 514, 'feature_weighting': 'TF-IDF', 'asymmetric_alpha': 1.074275673840265}. Best is trial 121 with value: 0.018671630477460725.\n"
     ]
    },
    {
     "name": "stdout",
     "output_type": "stream",
     "text": [
      "Similarity column 38121 (100.0%), 182.76 column/sec. Elapsed time 3.48 min\n",
      "EvaluatorHoldout: Ignoring 173 ( 0.5%) Users that have less than 1 test interactions\n",
      "EvaluatorHoldout: Processed 35563 (100.0%) in 33.18 sec. Users per second: 1072\n",
      "Similarity column 38121 (100.0%), 183.75 column/sec. Elapsed time 3.46 min\n",
      "EvaluatorHoldout: Ignoring 163 ( 0.5%) Users that have less than 1 test interactions\n",
      "EvaluatorHoldout: Processed 35573 (100.0%) in 33.46 sec. Users per second: 1063\n",
      "Similarity column 38121 (100.0%), 183.60 column/sec. Elapsed time 3.46 min\n",
      "EvaluatorHoldout: Ignoring 150 ( 0.4%) Users that have less than 1 test interactions\n",
      "EvaluatorHoldout: Processed 35586 (100.0%) in 33.74 sec. Users per second: 1055\n",
      "Similarity column 38121 (100.0%), 176.43 column/sec. Elapsed time 3.60 min\n",
      "EvaluatorHoldout: Ignoring 167 ( 0.5%) Users that have less than 1 test interactions\n",
      "EvaluatorHoldout: Processed 35569 (100.0%) in 33.22 sec. Users per second: 1071\n",
      "Similarity column 38121 (100.0%), 182.13 column/sec. Elapsed time 3.49 min\n",
      "EvaluatorHoldout: Ignoring 172 ( 0.5%) Users that have less than 1 test interactions\n",
      "EvaluatorHoldout: Processed 35564 (100.0%) in 33.17 sec. Users per second: 1072\n"
     ]
    },
    {
     "name": "stderr",
     "output_type": "stream",
     "text": [
      "[I 2025-01-07 10:40:42,058] Trial 353 finished with value: 0.016695305564747836 and parameters: {'similarity': 'euclidean', 'topK': 15, 'shrink': 455, 'feature_weighting': 'TF-IDF', 'normalize_avg_row': False, 'similarity_from_distance_mode': 'log', 'normalize': True}. Best is trial 121 with value: 0.018671630477460725.\n"
     ]
    },
    {
     "name": "stdout",
     "output_type": "stream",
     "text": [
      "Similarity column 38121 (100.0%), 698.27 column/sec. Elapsed time 54.59 sec\n",
      "EvaluatorHoldout: Ignoring 173 ( 0.5%) Users that have less than 1 test interactions\n",
      "EvaluatorHoldout: Processed 35563 (100.0%) in 34.33 sec. Users per second: 1036\n",
      "Similarity column 38121 (100.0%), 692.34 column/sec. Elapsed time 55.06 sec\n",
      "EvaluatorHoldout: Ignoring 163 ( 0.5%) Users that have less than 1 test interactions\n",
      "EvaluatorHoldout: Processed 35573 (100.0%) in 34.46 sec. Users per second: 1032\n",
      "Similarity column 38121 (100.0%), 695.76 column/sec. Elapsed time 54.79 sec\n",
      "EvaluatorHoldout: Ignoring 150 ( 0.4%) Users that have less than 1 test interactions\n",
      "EvaluatorHoldout: Processed 35586 (100.0%) in 34.60 sec. Users per second: 1028\n",
      "Similarity column 38121 (100.0%), 694.18 column/sec. Elapsed time 54.91 sec\n",
      "EvaluatorHoldout: Ignoring 167 ( 0.5%) Users that have less than 1 test interactions\n",
      "EvaluatorHoldout: Processed 35569 (100.0%) in 34.58 sec. Users per second: 1029\n",
      "Similarity column 38121 (100.0%), 694.57 column/sec. Elapsed time 54.88 sec\n",
      "EvaluatorHoldout: Ignoring 172 ( 0.5%) Users that have less than 1 test interactions\n",
      "EvaluatorHoldout: Processed 35564 (100.0%) in 34.72 sec. Users per second: 1024\n"
     ]
    },
    {
     "name": "stderr",
     "output_type": "stream",
     "text": [
      "[I 2025-01-07 10:48:11,217] Trial 354 finished with value: 0.01841191874694098 and parameters: {'similarity': 'cosine', 'topK': 29, 'shrink': 542, 'feature_weighting': 'TF-IDF'}. Best is trial 121 with value: 0.018671630477460725.\n"
     ]
    },
    {
     "name": "stdout",
     "output_type": "stream",
     "text": [
      "Similarity column 38121 (100.0%), 683.23 column/sec. Elapsed time 55.80 sec\n",
      "EvaluatorHoldout: Ignoring 173 ( 0.5%) Users that have less than 1 test interactions\n",
      "EvaluatorHoldout: Processed 35563 (100.0%) in 38.15 sec. Users per second: 932\n",
      "Similarity column 38121 (100.0%), 684.88 column/sec. Elapsed time 55.66 sec\n",
      "EvaluatorHoldout: Ignoring 163 ( 0.5%) Users that have less than 1 test interactions\n",
      "EvaluatorHoldout: Processed 35573 (100.0%) in 36.90 sec. Users per second: 964\n",
      "Similarity column 38121 (100.0%), 687.41 column/sec. Elapsed time 55.46 sec\n",
      "EvaluatorHoldout: Ignoring 150 ( 0.4%) Users that have less than 1 test interactions\n",
      "EvaluatorHoldout: Processed 35586 (100.0%) in 36.28 sec. Users per second: 981\n",
      "Similarity column 38121 (100.0%), 695.67 column/sec. Elapsed time 54.80 sec\n",
      "EvaluatorHoldout: Ignoring 167 ( 0.5%) Users that have less than 1 test interactions\n",
      "EvaluatorHoldout: Processed 35569 (100.0%) in 36.22 sec. Users per second: 982\n",
      "Similarity column 38121 (100.0%), 693.65 column/sec. Elapsed time 54.96 sec\n",
      "EvaluatorHoldout: Ignoring 172 ( 0.5%) Users that have less than 1 test interactions\n",
      "EvaluatorHoldout: Processed 35564 (100.0%) in 36.43 sec. Users per second: 976\n"
     ]
    },
    {
     "name": "stderr",
     "output_type": "stream",
     "text": [
      "[I 2025-01-07 10:55:54,364] Trial 355 finished with value: 0.01812746080329421 and parameters: {'similarity': 'cosine', 'topK': 56, 'shrink': 476, 'feature_weighting': 'TF-IDF'}. Best is trial 121 with value: 0.018671630477460725.\n"
     ]
    },
    {
     "name": "stdout",
     "output_type": "stream",
     "text": [
      "Similarity column 38121 (100.0%), 691.74 column/sec. Elapsed time 55.11 sec\n",
      "EvaluatorHoldout: Ignoring 173 ( 0.5%) Users that have less than 1 test interactions\n",
      "EvaluatorHoldout: Processed 35563 (100.0%) in 42.47 sec. Users per second: 837\n",
      "Similarity column 38121 (100.0%), 692.17 column/sec. Elapsed time 55.08 sec\n",
      "EvaluatorHoldout: Ignoring 163 ( 0.5%) Users that have less than 1 test interactions\n",
      "EvaluatorHoldout: Processed 35573 (100.0%) in 42.48 sec. Users per second: 837\n",
      "Similarity column 38121 (100.0%), 686.26 column/sec. Elapsed time 55.55 sec\n",
      "EvaluatorHoldout: Ignoring 150 ( 0.4%) Users that have less than 1 test interactions\n",
      "EvaluatorHoldout: Processed 35586 (100.0%) in 42.84 sec. Users per second: 831\n",
      "Similarity column 38121 (100.0%), 686.38 column/sec. Elapsed time 55.54 sec\n",
      "EvaluatorHoldout: Ignoring 167 ( 0.5%) Users that have less than 1 test interactions\n",
      "EvaluatorHoldout: Processed 35569 (100.0%) in 42.87 sec. Users per second: 830\n",
      "Similarity column 38121 (100.0%), 682.12 column/sec. Elapsed time 55.89 sec\n",
      "EvaluatorHoldout: Ignoring 172 ( 0.5%) Users that have less than 1 test interactions\n",
      "EvaluatorHoldout: Processed 35564 (100.0%) in 42.75 sec. Users per second: 832\n"
     ]
    },
    {
     "name": "stderr",
     "output_type": "stream",
     "text": [
      "[I 2025-01-07 11:04:08,416] Trial 356 finished with value: 0.017442400945413293 and parameters: {'similarity': 'cosine', 'topK': 198, 'shrink': 500, 'feature_weighting': 'TF-IDF'}. Best is trial 121 with value: 0.018671630477460725.\n"
     ]
    },
    {
     "name": "stdout",
     "output_type": "stream",
     "text": [
      "Similarity column 38121 (100.0%), 691.16 column/sec. Elapsed time 55.16 sec\n",
      "EvaluatorHoldout: Ignoring 173 ( 0.5%) Users that have less than 1 test interactions\n",
      "EvaluatorHoldout: Processed 35563 (100.0%) in 32.14 sec. Users per second: 1107\n",
      "Similarity column 38121 (100.0%), 695.65 column/sec. Elapsed time 54.80 sec\n",
      "EvaluatorHoldout: Ignoring 163 ( 0.5%) Users that have less than 1 test interactions\n",
      "EvaluatorHoldout: Processed 35573 (100.0%) in 32.27 sec. Users per second: 1102\n",
      "Similarity column 38121 (100.0%), 691.43 column/sec. Elapsed time 55.13 sec\n",
      "EvaluatorHoldout: Ignoring 150 ( 0.4%) Users that have less than 1 test interactions\n",
      "EvaluatorHoldout: Processed 35586 (100.0%) in 32.32 sec. Users per second: 1101\n",
      "Similarity column 38121 (100.0%), 685.61 column/sec. Elapsed time 55.60 sec\n",
      "EvaluatorHoldout: Ignoring 167 ( 0.5%) Users that have less than 1 test interactions\n",
      "EvaluatorHoldout: Processed 35569 (100.0%) in 32.43 sec. Users per second: 1097\n",
      "Similarity column 38121 (100.0%), 684.04 column/sec. Elapsed time 55.73 sec\n",
      "EvaluatorHoldout: Ignoring 172 ( 0.5%) Users that have less than 1 test interactions\n",
      "EvaluatorHoldout: Processed 35564 (100.0%) in 32.83 sec. Users per second: 1083\n"
     ]
    },
    {
     "name": "stderr",
     "output_type": "stream",
     "text": [
      "[I 2025-01-07 11:11:28,471] Trial 357 finished with value: 0.013029810575032982 and parameters: {'similarity': 'cosine', 'topK': 13, 'shrink': 527, 'feature_weighting': 'none'}. Best is trial 121 with value: 0.018671630477460725.\n"
     ]
    }
   ],
   "source": [
    "if config['tune_parameters']:\n",
    "    \n",
    "    optuna_study = optuna.create_study(direction='maximize', study_name=f'hyperparameters_tuning_{config[\"model\"]}_{config[\"metric\"]}',\n",
    "                                storage=f'sqlite:///{config[\"database_path\"]}', load_if_exists=True)\n",
    "\n",
    "    optuna_study.optimize(objective_function_ItemKNNCBF, timeout=3600 * 11 + 60 * 30)"
   ]
  },
  {
   "cell_type": "markdown",
   "id": "925684ad",
   "metadata": {
    "papermill": {
     "duration": 0.095117,
     "end_time": "2025-01-07T11:11:28.705008",
     "exception": false,
     "start_time": "2025-01-07T11:11:28.609891",
     "status": "completed"
    },
    "tags": []
   },
   "source": [
    "## Some optuna visualizations on recommender parameters"
   ]
  },
  {
   "cell_type": "code",
   "execution_count": 14,
   "id": "ae77b25e",
   "metadata": {
    "execution": {
     "iopub.execute_input": "2025-01-07T11:11:28.911012Z",
     "iopub.status.busy": "2025-01-07T11:11:28.910388Z",
     "iopub.status.idle": "2025-01-07T11:11:31.655435Z",
     "shell.execute_reply": "2025-01-07T11:11:31.654119Z"
    },
    "papermill": {
     "duration": 2.850243,
     "end_time": "2025-01-07T11:11:31.657772",
     "exception": false,
     "start_time": "2025-01-07T11:11:28.807529",
     "status": "completed"
    },
    "tags": []
   },
   "outputs": [
    {
     "data": {
      "text/html": [
       "<html>\n",
       "<head><meta charset=\"utf-8\" /></head>\n",
       "<body>\n",
       "    <div>            <script src=\"https://cdnjs.cloudflare.com/ajax/libs/mathjax/2.7.5/MathJax.js?config=TeX-AMS-MML_SVG\"></script><script type=\"text/javascript\">if (window.MathJax && window.MathJax.Hub && window.MathJax.Hub.Config) {window.MathJax.Hub.Config({SVG: {font: \"STIX-Web\"}});}</script>                <script type=\"text/javascript\">window.PlotlyConfig = {MathJaxConfig: 'local'};</script>\n",
       "        <script charset=\"utf-8\" src=\"https://cdn.plot.ly/plotly-2.35.2.min.js\"></script>                <div id=\"c3707342-5227-4a32-88c5-91b02fca9586\" class=\"plotly-graph-div\" style=\"height:525px; width:3000px;\"></div>            <script type=\"text/javascript\">                                    window.PLOTLYENV=window.PLOTLYENV || {};                                    if (document.getElementById(\"c3707342-5227-4a32-88c5-91b02fca9586\")) {                    Plotly.newPlot(                        \"c3707342-5227-4a32-88c5-91b02fca9586\",                        [{\"marker\":{\"color\":[3,7,26,38,47,67,85,109,145,184,227,264,292,326,352],\"colorbar\":{\"title\":{\"text\":\"Trial\"},\"x\":1.0,\"xpad\":40},\"colorscale\":[[0.0,\"rgb(247,251,255)\"],[0.125,\"rgb(222,235,247)\"],[0.25,\"rgb(198,219,239)\"],[0.375,\"rgb(158,202,225)\"],[0.5,\"rgb(107,174,214)\"],[0.625,\"rgb(66,146,198)\"],[0.75,\"rgb(33,113,181)\"],[0.875,\"rgb(8,81,156)\"],[1.0,\"rgb(8,48,107)\"]],\"line\":{\"color\":\"Grey\",\"width\":0.5},\"showscale\":true},\"mode\":\"markers\",\"name\":\"Feasible Trial\",\"showlegend\":false,\"x\":[1.688651211666376,1.4001682583287673,0.0022314690622364797,0.2538328178515745,0.8085012079902789,0.8631903211650198,1.9890945571427534,0.5757797392833232,1.3082548882835385,1.1687371953163728,0.503515766436963,1.7096488727654515,0.00018643088785452733,1.9684884272232803,1.074275673840265],\"y\":[0.01194965028507702,0.010916198747226014,0.017387173095694684,0.017769666518619696,0.017063966566785847,0.01585188364384459,0.012844042198069536,0.016280187306946997,0.014903006669062174,0.015524765347209164,0.01825434891964211,0.012866431216295571,0.01756154307010379,0.013057022992912618,0.0002664826418719655],\"type\":\"scatter\",\"xaxis\":\"x\",\"yaxis\":\"y\"},{\"marker\":{\"color\":[0,1,2,3,4,5,6,7,8,9,10,11,12,13,14,15,16,17,18,19,20,21,22,23,24,25,26,27,28,29,30,31,32,33,34,35,36,37,38,39,40,41,42,43,44,45,46,47,48,49,50,51,52,53,54,55,56,57,58,59,60,61,62,63,64,65,66,67,68,69,70,71,72,73,74,75,76,77,78,79,80,81,82,83,84,85,86,87,88,89,90,91,92,93,94,95,96,97,98,99,100,101,102,103,104,105,106,107,108,109,110,111,112,113,114,115,116,117,118,119,120,121,122,123,124,125,126,127,128,129,130,131,132,133,134,135,136,137,138,139,140,141,142,143,144,145,146,147,148,149,150,151,152,153,154,155,156,157,158,159,160,161,162,163,164,165,166,167,168,169,170,171,172,173,174,175,176,177,178,179,180,181,182,183,184,185,186,187,188,189,190,191,192,193,194,195,196,197,198,199,200,201,202,203,204,205,206,207,208,209,210,211,212,213,214,215,216,217,218,219,220,221,222,223,224,225,226,227,228,229,230,231,232,233,234,235,236,237,238,239,240,241,242,243,244,245,246,247,248,249,250,251,252,253,254,255,256,257,258,259,260,261,262,263,264,265,266,267,268,269,270,271,272,273,274,275,276,277,278,279,280,281,282,283,284,285,286,287,288,289,290,291,292,293,294,295,296,297,298,299,300,301,302,303,304,305,306,307,308,309,310,311,312,313,314,315,316,317,318,319,320,321,322,323,324,325,326,327,328,329,330,331,332,333,334,335,336,337,338,339,340,341,342,343,344,345,346,347,348,349,350,351,352,353,354,355,356,357],\"colorbar\":{\"title\":{\"text\":\"Trial\"},\"x\":1.0,\"xpad\":40},\"colorscale\":[[0.0,\"rgb(247,251,255)\"],[0.125,\"rgb(222,235,247)\"],[0.25,\"rgb(198,219,239)\"],[0.375,\"rgb(158,202,225)\"],[0.5,\"rgb(107,174,214)\"],[0.625,\"rgb(66,146,198)\"],[0.75,\"rgb(33,113,181)\"],[0.875,\"rgb(8,81,156)\"],[1.0,\"rgb(8,48,107)\"]],\"line\":{\"color\":\"Grey\",\"width\":0.5},\"showscale\":false},\"mode\":\"markers\",\"name\":\"Feasible Trial\",\"showlegend\":false,\"x\":[\"none\",\"BM25\",\"BM25\",\"TF-IDF\",\"BM25\",\"BM25\",\"none\",\"none\",\"none\",\"none\",\"TF-IDF\",\"TF-IDF\",\"TF-IDF\",\"TF-IDF\",\"TF-IDF\",\"TF-IDF\",\"TF-IDF\",\"TF-IDF\",\"TF-IDF\",\"TF-IDF\",\"TF-IDF\",\"TF-IDF\",\"TF-IDF\",\"TF-IDF\",\"TF-IDF\",\"TF-IDF\",\"TF-IDF\",\"TF-IDF\",\"BM25\",\"TF-IDF\",\"none\",\"TF-IDF\",\"TF-IDF\",\"TF-IDF\",\"TF-IDF\",\"BM25\",\"TF-IDF\",\"BM25\",\"TF-IDF\",\"none\",\"BM25\",\"TF-IDF\",\"TF-IDF\",\"TF-IDF\",\"TF-IDF\",\"TF-IDF\",\"none\",\"TF-IDF\",\"TF-IDF\",\"TF-IDF\",\"TF-IDF\",\"TF-IDF\",\"TF-IDF\",\"TF-IDF\",\"TF-IDF\",\"TF-IDF\",\"none\",\"TF-IDF\",\"TF-IDF\",\"TF-IDF\",\"BM25\",\"TF-IDF\",\"TF-IDF\",\"TF-IDF\",\"TF-IDF\",\"TF-IDF\",\"TF-IDF\",\"TF-IDF\",\"TF-IDF\",\"none\",\"TF-IDF\",\"TF-IDF\",\"TF-IDF\",\"TF-IDF\",\"TF-IDF\",\"TF-IDF\",\"BM25\",\"TF-IDF\",\"TF-IDF\",\"TF-IDF\",\"TF-IDF\",\"TF-IDF\",\"TF-IDF\",\"TF-IDF\",\"TF-IDF\",\"TF-IDF\",\"none\",\"TF-IDF\",\"BM25\",\"TF-IDF\",\"TF-IDF\",\"TF-IDF\",\"TF-IDF\",\"TF-IDF\",\"TF-IDF\",\"TF-IDF\",\"TF-IDF\",\"TF-IDF\",\"TF-IDF\",\"TF-IDF\",\"none\",\"TF-IDF\",\"TF-IDF\",\"TF-IDF\",\"TF-IDF\",\"TF-IDF\",\"TF-IDF\",\"TF-IDF\",\"BM25\",\"TF-IDF\",\"TF-IDF\",\"TF-IDF\",\"TF-IDF\",\"TF-IDF\",\"TF-IDF\",\"TF-IDF\",\"TF-IDF\",\"TF-IDF\",\"TF-IDF\",\"TF-IDF\",\"TF-IDF\",\"TF-IDF\",\"TF-IDF\",\"TF-IDF\",\"TF-IDF\",\"TF-IDF\",\"TF-IDF\",\"TF-IDF\",\"TF-IDF\",\"none\",\"TF-IDF\",\"TF-IDF\",\"TF-IDF\",\"TF-IDF\",\"TF-IDF\",\"TF-IDF\",\"TF-IDF\",\"BM25\",\"TF-IDF\",\"TF-IDF\",\"TF-IDF\",\"TF-IDF\",\"TF-IDF\",\"TF-IDF\",\"TF-IDF\",\"TF-IDF\",\"TF-IDF\",\"TF-IDF\",\"TF-IDF\",\"TF-IDF\",\"TF-IDF\",\"TF-IDF\",\"TF-IDF\",\"TF-IDF\",\"TF-IDF\",\"TF-IDF\",\"TF-IDF\",\"none\",\"TF-IDF\",\"TF-IDF\",\"TF-IDF\",\"TF-IDF\",\"TF-IDF\",\"TF-IDF\",\"TF-IDF\",\"TF-IDF\",\"BM25\",\"TF-IDF\",\"TF-IDF\",\"TF-IDF\",\"TF-IDF\",\"TF-IDF\",\"TF-IDF\",\"TF-IDF\",\"TF-IDF\",\"TF-IDF\",\"TF-IDF\",\"TF-IDF\",\"TF-IDF\",\"TF-IDF\",\"TF-IDF\",\"TF-IDF\",\"TF-IDF\",\"TF-IDF\",\"TF-IDF\",\"TF-IDF\",\"TF-IDF\",\"TF-IDF\",\"TF-IDF\",\"TF-IDF\",\"TF-IDF\",\"TF-IDF\",\"TF-IDF\",\"TF-IDF\",\"TF-IDF\",\"TF-IDF\",\"TF-IDF\",\"none\",\"TF-IDF\",\"TF-IDF\",\"TF-IDF\",\"TF-IDF\",\"TF-IDF\",\"TF-IDF\",\"TF-IDF\",\"TF-IDF\",\"TF-IDF\",\"BM25\",\"TF-IDF\",\"TF-IDF\",\"TF-IDF\",\"TF-IDF\",\"TF-IDF\",\"TF-IDF\",\"TF-IDF\",\"TF-IDF\",\"TF-IDF\",\"TF-IDF\",\"TF-IDF\",\"TF-IDF\",\"TF-IDF\",\"TF-IDF\",\"TF-IDF\",\"TF-IDF\",\"TF-IDF\",\"TF-IDF\",\"TF-IDF\",\"TF-IDF\",\"TF-IDF\",\"TF-IDF\",\"TF-IDF\",\"TF-IDF\",\"TF-IDF\",\"TF-IDF\",\"TF-IDF\",\"TF-IDF\",\"none\",\"TF-IDF\",\"TF-IDF\",\"TF-IDF\",\"TF-IDF\",\"TF-IDF\",\"TF-IDF\",\"TF-IDF\",\"TF-IDF\",\"TF-IDF\",\"TF-IDF\",\"BM25\",\"TF-IDF\",\"TF-IDF\",\"TF-IDF\",\"TF-IDF\",\"TF-IDF\",\"TF-IDF\",\"TF-IDF\",\"TF-IDF\",\"TF-IDF\",\"TF-IDF\",\"TF-IDF\",\"TF-IDF\",\"TF-IDF\",\"TF-IDF\",\"TF-IDF\",\"none\",\"TF-IDF\",\"TF-IDF\",\"TF-IDF\",\"TF-IDF\",\"TF-IDF\",\"BM25\",\"TF-IDF\",\"TF-IDF\",\"TF-IDF\",\"TF-IDF\",\"TF-IDF\",\"TF-IDF\",\"TF-IDF\",\"TF-IDF\",\"TF-IDF\",\"TF-IDF\",\"TF-IDF\",\"TF-IDF\",\"TF-IDF\",\"TF-IDF\",\"TF-IDF\",\"none\",\"TF-IDF\",\"TF-IDF\",\"TF-IDF\",\"TF-IDF\",\"TF-IDF\",\"TF-IDF\",\"BM25\",\"TF-IDF\",\"TF-IDF\",\"TF-IDF\",\"TF-IDF\",\"TF-IDF\",\"TF-IDF\",\"TF-IDF\",\"TF-IDF\",\"TF-IDF\",\"TF-IDF\",\"TF-IDF\",\"TF-IDF\",\"TF-IDF\",\"TF-IDF\",\"TF-IDF\",\"TF-IDF\",\"none\",\"TF-IDF\",\"TF-IDF\",\"TF-IDF\",\"TF-IDF\",\"TF-IDF\",\"TF-IDF\",\"BM25\",\"TF-IDF\",\"TF-IDF\",\"TF-IDF\",\"TF-IDF\",\"TF-IDF\",\"TF-IDF\",\"TF-IDF\",\"TF-IDF\",\"TF-IDF\",\"TF-IDF\",\"TF-IDF\",\"TF-IDF\",\"TF-IDF\",\"TF-IDF\",\"TF-IDF\",\"none\",\"TF-IDF\",\"TF-IDF\",\"TF-IDF\",\"TF-IDF\",\"TF-IDF\",\"BM25\",\"TF-IDF\",\"TF-IDF\",\"TF-IDF\",\"TF-IDF\",\"TF-IDF\",\"TF-IDF\",\"TF-IDF\",\"TF-IDF\",\"TF-IDF\",\"TF-IDF\",\"TF-IDF\",\"TF-IDF\",\"TF-IDF\",\"TF-IDF\",\"TF-IDF\",\"TF-IDF\",\"TF-IDF\",\"TF-IDF\",\"none\"],\"y\":[0.009793785371799476,0.010677161631146816,0.011199188770934735,0.01194965028507702,0.006887465083364871,0.013303712916148059,0.008833373857937357,0.010916198747226014,0.011899030461485943,0.0096541350890923,0.016743779058403414,0.016719103507437945,0.01667148593685378,0.01673901570119769,0.01663206339558968,0.016921868987782186,0.0169874675222459,0.010748905973185651,0.016881998228723542,0.0177109748502463,0.018630280812546602,0.018621983625463738,0.018542537492187212,0.01788634495514598,0.018623125772983716,0.01269249852513373,0.017387173095694684,0.01085757686214181,0.009661542562685215,0.013421249599076516,0.011367971354478078,0.018618189479811188,0.018590661496887463,0.018083037086213644,0.011449161383198559,0.017791731938566084,0.0111015298019646,0.008832227172108164,0.017769666518619696,0.010909223024003082,0.013188637227475111,0.01862377143245525,0.018426319108917705,0.017812885352163084,0.016283482402261105,0.016470840159172648,0.012207493806475017,0.017063966566785847,0.014187003110379631,0.017280716354706672,0.017510704123981542,0.01844722645256516,0.018080083329069303,0.018601869118089476,0.017798332516262776,0.014031795777739973,0.012161478314504504,0.018302010613796264,0.009326283992828236,0.017899061414351134,0.01828175371136304,0.0002664826418719655,0.018286258670127824,0.018137063336075707,0.018453454021416845,0.011975195450097564,0.018460961306586275,0.01585188364384459,0.006985863295294085,0.011651983243021588,0.012373332029989923,0.018532972414443304,0.016298750442629628,0.01853656785086166,0.017933922238540123,0.01813980341525303,0.014363366032705114,0.01806757777434754,0.017738483316781455,0.013469001972887501,0.016327361374399444,0.018481643613769208,0.018528848839338495,0.018227598799192418,0.01788404962488211,0.012844042198069536,0.012882679906028097,0.006420004226862436,0.0002664826418719655,0.018324397777419097,0.012318569883878491,0.018522202989140132,0.018534315297660094,0.01827342547131739,0.018062093682351354,0.01856041753953205,0.01269321440206403,0.01629652411671368,0.018389058587874863,0.018621458726074326,0.011928347928066373,0.01855874851540369,0.018660758318432186,0.018640283284529723,0.018294171640554212,0.01852937930334828,0.012807813664649115,0.018455679101926595,0.017381559274033075,0.016280187306946997,0.006406678996699086,0.018621583327131642,0.018637161961662117,0.01827924927857262,0.018638996588665118,0.018133718394375567,0.018632739007966602,0.01835456544096951,0.01862652485248914,0.012426763948608774,0.018237037763600576,0.018671630477460725,0.0185769036159332,0.018397648817782518,0.01627813021941228,0.016359686848071705,0.018641243843147404,0.018185646269180906,0.013169855606699563,0.012292981096958965,0.01682807617754376,0.0002664826418719655,0.01852163396431382,0.018555800253892894,0.018352536193750765,0.0002664826418719655,0.012530046524342317,0.018267381721335366,0.018009993440722082,0.018362279002320646,0.0184353888447136,0.018518490159171147,0.01863994693191499,0.01818066155351832,0.0002664826418719655,0.014903006669062174,0.017086830290529053,0.01814999209988028,0.018234461280881013,0.01864099346605867,0.010443131589517785,0.018644810181348614,0.018359419283748908,0.01853109217464046,0.018514065120790214,0.0002664826418719655,0.0183046679463074,0.01085198380449382,0.012413214392041067,0.01862958573382582,0.018460568943672925,0.016812941008761705,0.018620665383481574,0.018569054714278783,0.018298051446181608,0.018554747185112755,0.01584246989308005,0.018051962442254356,0.01841003517076179,0.01864159067934202,0.013065215786960478,0.018643973530609002,0.01663238488574889,0.0002664826418719655,0.018502745546591214,0.018658230191451727,0.01857017123579111,0.01832033927065363,0.018553408834015343,0.018363634941642244,0.00976952647803173,0.018625513080220805,0.0002664826418719655,0.01849641499360475,0.015524765347209164,0.016272298484203633,0.018644810181348614,0.016448116511932138,0.018628302856076712,0.018168088719730847,0.01847639156554346,0.018661888216538573,0.018648169415590592,0.01856491396186851,0.01829322539791657,0.0002664826418719655,0.018488894001407984,0.012364306387745076,0.01859521833978208,0.01811117047119342,0.013185967517649888,0.01863559762687608,0.018632893935222144,0.0002664826418719655,0.01848370255048018,0.018637114766294857,0.01828258619847848,0.018420443234432548,0.0002664826418719655,0.01847489256600098,0.018342935001104167,0.018627838313780593,0.018628981632859126,0.018544507476426084,0.018629031460713062,0.018239793347769505,0.01850036156479772,0.018636924651771063,0.012053543698819705,0.0002664826418719655,0.018472464784938997,0.018624934688925364,0.018592299127977073,0.018353855991963996,0.0002664826418719655,0.018542020695758256,0.017108711369504565,0.01825434891964211,0.018622522387879373,0.01841604067869999,0.01862532713951287,0.01862074965611198,0.0002664826418719655,0.005027676128340002,0.018532067333659252,0.018317501344321044,0.013016891174723655,0.01853292341726476,0.0002664826418719655,0.012622270551497648,0.018287112976982812,0.01858482619390486,0.018636779005873745,0.018537145022224477,0.015957364745117945,0.018475041411974005,0.018621412496871756,0.0002664826418719655,0.018358149244435677,0.018567377252104094,0.0002664826418719655,0.01829476817138966,0.01864771165790818,0.01847120671346769,0.018629341619670618,0.018134945624804364,0.01836394062314852,0.014021814825747745,0.0002664826418719655,0.017298441252054614,0.018399943869690315,0.01826777525763194,0.018555461044018652,0.013045586482237165,0.012866431216295571,0.0002664826418719655,0.013911997271693979,0.018485892106784745,0.018625262757224564,0.017716585655773838,0.01845937452990224,0.018371303339969874,0.0002664826418719655,0.018341851681268093,0.018606813886084685,0.01853405580673282,0.018116812102547696,0.018311648221843217,0.0002664826418719655,0.011762133792443301,0.018628768161232677,0.01844276233505558,0.018646771106634975,0.018216638715498668,0.0002664826418719655,0.01327825327350925,0.01855113574655998,0.01830966605522233,0.0184562106950275,0.018653694117299956,0.0002664826418719655,0.018490644440184726,0.01756154307010379,0.01856720608324711,0.01829205211404018,0.015222825506829147,0.018649151086418108,0.01866375849234617,0.01847689639293882,0.0002664826418719655,0.018154208781022852,0.01404690916522304,0.018316075044189965,0.01863972832943932,0.01809010629556217,0.01647607290950952,0.018565626600230884,0.01676443982441471,0.0002664826418719655,0.009799669066942062,0.018239737482423,0.018502048673423623,0.018629658925830444,0.018291410099092822,0.018560861615020206,0.0002664826418719655,0.01841989128048841,0.018146425694656826,0.018387619773292223,0.018635939251535432,0.018512540881886287,0.01824210640717506,0.018651295758459537,0.00858148467768244,0.0002664826418719655,0.01855480992988597,0.013057022992912618,0.018248207475715317,0.018486731372105093,0.0002664826418719655,0.018539559169841128,0.018358309480171676,0.012092311122095346,0.018626241298244695,0.018508756352188016,0.018215719003731444,0.0002664826418719655,0.018316075044189965,0.018204860588767267,0.018633415784032263,0.012962885416997846,0.01855932125259844,0.01863984622485191,0.016212771887797135,0.00975277810675975,0.01824818491424833,0.0002664826418719655,0.018498160643124796,0.018640721753330636,0.01813182587296191,0.018485072979784835,0.01828910156932064,0.0002664826418719655,0.016695305564747836,0.01841191874694098,0.01812746080329421,0.017442400945413293,0.013029810575032982],\"type\":\"scatter\",\"xaxis\":\"x2\",\"yaxis\":\"y2\"},{\"marker\":{\"color\":[4,6,28,37,48,68,87,110,146,180,233,266,295,323,353],\"colorbar\":{\"title\":{\"text\":\"Trial\"},\"x\":1.0,\"xpad\":40},\"colorscale\":[[0.0,\"rgb(247,251,255)\"],[0.125,\"rgb(222,235,247)\"],[0.25,\"rgb(198,219,239)\"],[0.375,\"rgb(158,202,225)\"],[0.5,\"rgb(107,174,214)\"],[0.625,\"rgb(66,146,198)\"],[0.75,\"rgb(33,113,181)\"],[0.875,\"rgb(8,81,156)\"],[1.0,\"rgb(8,48,107)\"]],\"line\":{\"color\":\"Grey\",\"width\":0.5},\"showscale\":false},\"mode\":\"markers\",\"name\":\"Feasible Trial\",\"showlegend\":false,\"x\":[false,true,true,false,true,false,false,true,true,false,false,true,true,false,true],\"y\":[0.006887465083364871,0.008833373857937357,0.009661542562685215,0.008832227172108164,0.014187003110379631,0.006985863295294085,0.006420004226862436,0.006406678996699086,0.017086830290529053,0.00976952647803173,0.005027676128340002,0.013911997271693979,0.015222825506829147,0.00858148467768244,0.016695305564747836],\"type\":\"scatter\",\"xaxis\":\"x3\",\"yaxis\":\"y3\"},{\"marker\":{\"color\":[4,6,28,37,48,68,87,110,146,180,233,266,295,323,353],\"colorbar\":{\"title\":{\"text\":\"Trial\"},\"x\":1.0,\"xpad\":40},\"colorscale\":[[0.0,\"rgb(247,251,255)\"],[0.125,\"rgb(222,235,247)\"],[0.25,\"rgb(198,219,239)\"],[0.375,\"rgb(158,202,225)\"],[0.5,\"rgb(107,174,214)\"],[0.625,\"rgb(66,146,198)\"],[0.75,\"rgb(33,113,181)\"],[0.875,\"rgb(8,81,156)\"],[1.0,\"rgb(8,48,107)\"]],\"line\":{\"color\":\"Grey\",\"width\":0.5},\"showscale\":false},\"mode\":\"markers\",\"name\":\"Feasible Trial\",\"showlegend\":false,\"x\":[true,true,false,false,true,false,false,true,false,true,false,true,false,true,false],\"y\":[0.006887465083364871,0.008833373857937357,0.009661542562685215,0.008832227172108164,0.014187003110379631,0.006985863295294085,0.006420004226862436,0.006406678996699086,0.017086830290529053,0.00976952647803173,0.005027676128340002,0.013911997271693979,0.015222825506829147,0.00858148467768244,0.016695305564747836],\"type\":\"scatter\",\"xaxis\":\"x4\",\"yaxis\":\"y4\"},{\"marker\":{\"color\":[0,1,2,3,4,5,6,7,8,9,10,11,12,13,14,15,16,17,18,19,20,21,22,23,24,25,26,27,28,29,30,31,32,33,34,35,36,37,38,39,40,41,42,43,44,45,46,47,48,49,50,51,52,53,54,55,56,57,58,59,60,61,62,63,64,65,66,67,68,69,70,71,72,73,74,75,76,77,78,79,80,81,82,83,84,85,86,87,88,89,90,91,92,93,94,95,96,97,98,99,100,101,102,103,104,105,106,107,108,109,110,111,112,113,114,115,116,117,118,119,120,121,122,123,124,125,126,127,128,129,130,131,132,133,134,135,136,137,138,139,140,141,142,143,144,145,146,147,148,149,150,151,152,153,154,155,156,157,158,159,160,161,162,163,164,165,166,167,168,169,170,171,172,173,174,175,176,177,178,179,180,181,182,183,184,185,186,187,188,189,190,191,192,193,194,195,196,197,198,199,200,201,202,203,204,205,206,207,208,209,210,211,212,213,214,215,216,217,218,219,220,221,222,223,224,225,226,227,228,229,230,231,232,233,234,235,236,237,238,239,240,241,242,243,244,245,246,247,248,249,250,251,252,253,254,255,256,257,258,259,260,261,262,263,264,265,266,267,268,269,270,271,272,273,274,275,276,277,278,279,280,281,282,283,284,285,286,287,288,289,290,291,292,293,294,295,296,297,298,299,300,301,302,303,304,305,306,307,308,309,310,311,312,313,314,315,316,317,318,319,320,321,322,323,324,325,326,327,328,329,330,331,332,333,334,335,336,337,338,339,340,341,342,343,344,345,346,347,348,349,350,351,352,353,354,355,356,357],\"colorbar\":{\"title\":{\"text\":\"Trial\"},\"x\":1.0,\"xpad\":40},\"colorscale\":[[0.0,\"rgb(247,251,255)\"],[0.125,\"rgb(222,235,247)\"],[0.25,\"rgb(198,219,239)\"],[0.375,\"rgb(158,202,225)\"],[0.5,\"rgb(107,174,214)\"],[0.625,\"rgb(66,146,198)\"],[0.75,\"rgb(33,113,181)\"],[0.875,\"rgb(8,81,156)\"],[1.0,\"rgb(8,48,107)\"]],\"line\":{\"color\":\"Grey\",\"width\":0.5},\"showscale\":false},\"mode\":\"markers\",\"name\":\"Feasible Trial\",\"showlegend\":false,\"x\":[404,153,577,456,326,187,458,360,169,497,861,910,924,968,714,748,763,706,759,608,585,600,607,590,606,35,665,840,524,290,534,644,676,405,639,809,541,475,406,565,263,648,654,435,617,698,561,497,801,737,636,683,672,585,581,502,365,463,594,779,557,738,627,709,677,515,595,624,653,729,903,602,541,578,647,699,83,480,539,619,561,582,669,605,446,519,572,636,690,778,718,603,654,658,551,581,489,575,618,531,421,519,520,511,503,469,534,636,385,506,546,524,581,456,528,486,526,429,534,530,561,525,512,494,472,550,524,597,565,522,452,537,497,526,553,482,589,611,571,522,211,635,555,547,506,586,538,612,463,565,568,554,563,591,508,549,621,485,570,603,603,524,541,580,626,557,510,984,592,497,438,491,468,486,500,540,536,517,553,496,477,566,570,537,584,515,554,551,532,521,559,536,533,531,500,542,454,508,485,530,547,579,575,580,565,588,599,603,582,560,616,517,546,550,578,585,576,602,609,511,597,560,573,591,635,534,499,559,620,521,582,545,546,570,536,486,517,554,609,571,504,529,547,545,16,590,564,527,551,494,598,574,512,471,508,510,481,505,525,498,460,524,538,514,490,553,534,563,515,473,596,319,627,543,503,572,526,611,561,137,590,485,545,549,580,537,560,599,942,529,525,542,523,868,558,491,539,509,503,444,475,536,512,549,544,516,493,462,552,525,504,532,565,547,517,478,572,539,502,558,552,525,489,446,494,472,512,487,533,419,462,509,493,529,543,519,566,512,487,541,575,473,546,500,589,526,559,528,504,485,442,503,514,455,542,476,500,527],\"y\":[0.009793785371799476,0.010677161631146816,0.011199188770934735,0.01194965028507702,0.006887465083364871,0.013303712916148059,0.008833373857937357,0.010916198747226014,0.011899030461485943,0.0096541350890923,0.016743779058403414,0.016719103507437945,0.01667148593685378,0.01673901570119769,0.01663206339558968,0.016921868987782186,0.0169874675222459,0.010748905973185651,0.016881998228723542,0.0177109748502463,0.018630280812546602,0.018621983625463738,0.018542537492187212,0.01788634495514598,0.018623125772983716,0.01269249852513373,0.017387173095694684,0.01085757686214181,0.009661542562685215,0.013421249599076516,0.011367971354478078,0.018618189479811188,0.018590661496887463,0.018083037086213644,0.011449161383198559,0.017791731938566084,0.0111015298019646,0.008832227172108164,0.017769666518619696,0.010909223024003082,0.013188637227475111,0.01862377143245525,0.018426319108917705,0.017812885352163084,0.016283482402261105,0.016470840159172648,0.012207493806475017,0.017063966566785847,0.014187003110379631,0.017280716354706672,0.017510704123981542,0.01844722645256516,0.018080083329069303,0.018601869118089476,0.017798332516262776,0.014031795777739973,0.012161478314504504,0.018302010613796264,0.009326283992828236,0.017899061414351134,0.01828175371136304,0.0002664826418719655,0.018286258670127824,0.018137063336075707,0.018453454021416845,0.011975195450097564,0.018460961306586275,0.01585188364384459,0.006985863295294085,0.011651983243021588,0.012373332029989923,0.018532972414443304,0.016298750442629628,0.01853656785086166,0.017933922238540123,0.01813980341525303,0.014363366032705114,0.01806757777434754,0.017738483316781455,0.013469001972887501,0.016327361374399444,0.018481643613769208,0.018528848839338495,0.018227598799192418,0.01788404962488211,0.012844042198069536,0.012882679906028097,0.006420004226862436,0.0002664826418719655,0.018324397777419097,0.012318569883878491,0.018522202989140132,0.018534315297660094,0.01827342547131739,0.018062093682351354,0.01856041753953205,0.01269321440206403,0.01629652411671368,0.018389058587874863,0.018621458726074326,0.011928347928066373,0.01855874851540369,0.018660758318432186,0.018640283284529723,0.018294171640554212,0.01852937930334828,0.012807813664649115,0.018455679101926595,0.017381559274033075,0.016280187306946997,0.006406678996699086,0.018621583327131642,0.018637161961662117,0.01827924927857262,0.018638996588665118,0.018133718394375567,0.018632739007966602,0.01835456544096951,0.01862652485248914,0.012426763948608774,0.018237037763600576,0.018671630477460725,0.0185769036159332,0.018397648817782518,0.01627813021941228,0.016359686848071705,0.018641243843147404,0.018185646269180906,0.013169855606699563,0.012292981096958965,0.01682807617754376,0.0002664826418719655,0.01852163396431382,0.018555800253892894,0.018352536193750765,0.0002664826418719655,0.012530046524342317,0.018267381721335366,0.018009993440722082,0.018362279002320646,0.0184353888447136,0.018518490159171147,0.01863994693191499,0.01818066155351832,0.0002664826418719655,0.014903006669062174,0.017086830290529053,0.01814999209988028,0.018234461280881013,0.01864099346605867,0.010443131589517785,0.018644810181348614,0.018359419283748908,0.01853109217464046,0.018514065120790214,0.0002664826418719655,0.0183046679463074,0.01085198380449382,0.012413214392041067,0.01862958573382582,0.018460568943672925,0.016812941008761705,0.018620665383481574,0.018569054714278783,0.018298051446181608,0.018554747185112755,0.01584246989308005,0.018051962442254356,0.01841003517076179,0.01864159067934202,0.013065215786960478,0.018643973530609002,0.01663238488574889,0.0002664826418719655,0.018502745546591214,0.018658230191451727,0.01857017123579111,0.01832033927065363,0.018553408834015343,0.018363634941642244,0.00976952647803173,0.018625513080220805,0.0002664826418719655,0.01849641499360475,0.015524765347209164,0.016272298484203633,0.018644810181348614,0.016448116511932138,0.018628302856076712,0.018168088719730847,0.01847639156554346,0.018661888216538573,0.018648169415590592,0.01856491396186851,0.01829322539791657,0.0002664826418719655,0.018488894001407984,0.012364306387745076,0.01859521833978208,0.01811117047119342,0.013185967517649888,0.01863559762687608,0.018632893935222144,0.0002664826418719655,0.01848370255048018,0.018637114766294857,0.01828258619847848,0.018420443234432548,0.0002664826418719655,0.01847489256600098,0.018342935001104167,0.018627838313780593,0.018628981632859126,0.018544507476426084,0.018629031460713062,0.018239793347769505,0.01850036156479772,0.018636924651771063,0.012053543698819705,0.0002664826418719655,0.018472464784938997,0.018624934688925364,0.018592299127977073,0.018353855991963996,0.0002664826418719655,0.018542020695758256,0.017108711369504565,0.01825434891964211,0.018622522387879373,0.01841604067869999,0.01862532713951287,0.01862074965611198,0.0002664826418719655,0.005027676128340002,0.018532067333659252,0.018317501344321044,0.013016891174723655,0.01853292341726476,0.0002664826418719655,0.012622270551497648,0.018287112976982812,0.01858482619390486,0.018636779005873745,0.018537145022224477,0.015957364745117945,0.018475041411974005,0.018621412496871756,0.0002664826418719655,0.018358149244435677,0.018567377252104094,0.0002664826418719655,0.01829476817138966,0.01864771165790818,0.01847120671346769,0.018629341619670618,0.018134945624804364,0.01836394062314852,0.014021814825747745,0.0002664826418719655,0.017298441252054614,0.018399943869690315,0.01826777525763194,0.018555461044018652,0.013045586482237165,0.012866431216295571,0.0002664826418719655,0.013911997271693979,0.018485892106784745,0.018625262757224564,0.017716585655773838,0.01845937452990224,0.018371303339969874,0.0002664826418719655,0.018341851681268093,0.018606813886084685,0.01853405580673282,0.018116812102547696,0.018311648221843217,0.0002664826418719655,0.011762133792443301,0.018628768161232677,0.01844276233505558,0.018646771106634975,0.018216638715498668,0.0002664826418719655,0.01327825327350925,0.01855113574655998,0.01830966605522233,0.0184562106950275,0.018653694117299956,0.0002664826418719655,0.018490644440184726,0.01756154307010379,0.01856720608324711,0.01829205211404018,0.015222825506829147,0.018649151086418108,0.01866375849234617,0.01847689639293882,0.0002664826418719655,0.018154208781022852,0.01404690916522304,0.018316075044189965,0.01863972832943932,0.01809010629556217,0.01647607290950952,0.018565626600230884,0.01676443982441471,0.0002664826418719655,0.009799669066942062,0.018239737482423,0.018502048673423623,0.018629658925830444,0.018291410099092822,0.018560861615020206,0.0002664826418719655,0.01841989128048841,0.018146425694656826,0.018387619773292223,0.018635939251535432,0.018512540881886287,0.01824210640717506,0.018651295758459537,0.00858148467768244,0.0002664826418719655,0.01855480992988597,0.013057022992912618,0.018248207475715317,0.018486731372105093,0.0002664826418719655,0.018539559169841128,0.018358309480171676,0.012092311122095346,0.018626241298244695,0.018508756352188016,0.018215719003731444,0.0002664826418719655,0.018316075044189965,0.018204860588767267,0.018633415784032263,0.012962885416997846,0.01855932125259844,0.01863984622485191,0.016212771887797135,0.00975277810675975,0.01824818491424833,0.0002664826418719655,0.018498160643124796,0.018640721753330636,0.01813182587296191,0.018485072979784835,0.01828910156932064,0.0002664826418719655,0.016695305564747836,0.01841191874694098,0.01812746080329421,0.017442400945413293,0.013029810575032982],\"type\":\"scatter\",\"xaxis\":\"x5\",\"yaxis\":\"y5\"},{\"marker\":{\"color\":[0,1,2,3,4,5,6,7,8,9,10,11,12,13,14,15,16,17,18,19,20,21,22,23,24,25,26,27,28,29,30,31,32,33,34,35,36,37,38,39,40,41,42,43,44,45,46,47,48,49,50,51,52,53,54,55,56,57,58,59,60,61,62,63,64,65,66,67,68,69,70,71,72,73,74,75,76,77,78,79,80,81,82,83,84,85,86,87,88,89,90,91,92,93,94,95,96,97,98,99,100,101,102,103,104,105,106,107,108,109,110,111,112,113,114,115,116,117,118,119,120,121,122,123,124,125,126,127,128,129,130,131,132,133,134,135,136,137,138,139,140,141,142,143,144,145,146,147,148,149,150,151,152,153,154,155,156,157,158,159,160,161,162,163,164,165,166,167,168,169,170,171,172,173,174,175,176,177,178,179,180,181,182,183,184,185,186,187,188,189,190,191,192,193,194,195,196,197,198,199,200,201,202,203,204,205,206,207,208,209,210,211,212,213,214,215,216,217,218,219,220,221,222,223,224,225,226,227,228,229,230,231,232,233,234,235,236,237,238,239,240,241,242,243,244,245,246,247,248,249,250,251,252,253,254,255,256,257,258,259,260,261,262,263,264,265,266,267,268,269,270,271,272,273,274,275,276,277,278,279,280,281,282,283,284,285,286,287,288,289,290,291,292,293,294,295,296,297,298,299,300,301,302,303,304,305,306,307,308,309,310,311,312,313,314,315,316,317,318,319,320,321,322,323,324,325,326,327,328,329,330,331,332,333,334,335,336,337,338,339,340,341,342,343,344,345,346,347,348,349,350,351,352,353,354,355,356,357],\"colorbar\":{\"title\":{\"text\":\"Trial\"},\"x\":1.0,\"xpad\":40},\"colorscale\":[[0.0,\"rgb(247,251,255)\"],[0.125,\"rgb(222,235,247)\"],[0.25,\"rgb(198,219,239)\"],[0.375,\"rgb(158,202,225)\"],[0.5,\"rgb(107,174,214)\"],[0.625,\"rgb(66,146,198)\"],[0.75,\"rgb(33,113,181)\"],[0.875,\"rgb(8,81,156)\"],[1.0,\"rgb(8,48,107)\"]],\"line\":{\"color\":\"Grey\",\"width\":0.5},\"showscale\":false},\"mode\":\"markers\",\"name\":\"Feasible Trial\",\"showlegend\":false,\"x\":[\"dice\",\"tversky\",\"jaccard\",\"asymmetric\",\"euclidean\",\"jaccard\",\"euclidean\",\"asymmetric\",\"jaccard\",\"dice\",\"cosine\",\"cosine\",\"cosine\",\"cosine\",\"cosine\",\"cosine\",\"cosine\",\"tversky\",\"cosine\",\"cosine\",\"cosine\",\"cosine\",\"cosine\",\"cosine\",\"cosine\",\"dice\",\"asymmetric\",\"tversky\",\"euclidean\",\"dice\",\"cosine\",\"cosine\",\"cosine\",\"cosine\",\"tversky\",\"cosine\",\"jaccard\",\"euclidean\",\"asymmetric\",\"cosine\",\"jaccard\",\"cosine\",\"cosine\",\"cosine\",\"cosine\",\"cosine\",\"dice\",\"asymmetric\",\"euclidean\",\"cosine\",\"cosine\",\"cosine\",\"cosine\",\"cosine\",\"cosine\",\"jaccard\",\"cosine\",\"cosine\",\"tversky\",\"cosine\",\"cosine\",\"cosine\",\"cosine\",\"cosine\",\"cosine\",\"dice\",\"cosine\",\"asymmetric\",\"euclidean\",\"cosine\",\"tversky\",\"cosine\",\"cosine\",\"cosine\",\"cosine\",\"cosine\",\"jaccard\",\"cosine\",\"cosine\",\"dice\",\"cosine\",\"cosine\",\"cosine\",\"cosine\",\"cosine\",\"asymmetric\",\"cosine\",\"euclidean\",\"cosine\",\"cosine\",\"tversky\",\"cosine\",\"cosine\",\"cosine\",\"cosine\",\"cosine\",\"jaccard\",\"cosine\",\"cosine\",\"cosine\",\"cosine\",\"cosine\",\"cosine\",\"cosine\",\"cosine\",\"cosine\",\"dice\",\"cosine\",\"cosine\",\"asymmetric\",\"euclidean\",\"cosine\",\"cosine\",\"cosine\",\"cosine\",\"cosine\",\"cosine\",\"cosine\",\"cosine\",\"tversky\",\"cosine\",\"cosine\",\"cosine\",\"cosine\",\"cosine\",\"cosine\",\"cosine\",\"cosine\",\"jaccard\",\"cosine\",\"cosine\",\"cosine\",\"cosine\",\"cosine\",\"cosine\",\"cosine\",\"dice\",\"cosine\",\"cosine\",\"cosine\",\"cosine\",\"cosine\",\"cosine\",\"cosine\",\"cosine\",\"asymmetric\",\"euclidean\",\"cosine\",\"cosine\",\"cosine\",\"tversky\",\"cosine\",\"cosine\",\"cosine\",\"cosine\",\"cosine\",\"cosine\",\"cosine\",\"jaccard\",\"cosine\",\"cosine\",\"cosine\",\"cosine\",\"cosine\",\"cosine\",\"cosine\",\"cosine\",\"cosine\",\"cosine\",\"cosine\",\"dice\",\"cosine\",\"cosine\",\"cosine\",\"cosine\",\"cosine\",\"cosine\",\"cosine\",\"cosine\",\"cosine\",\"euclidean\",\"cosine\",\"cosine\",\"cosine\",\"asymmetric\",\"cosine\",\"cosine\",\"cosine\",\"cosine\",\"cosine\",\"cosine\",\"cosine\",\"cosine\",\"cosine\",\"cosine\",\"tversky\",\"cosine\",\"cosine\",\"cosine\",\"cosine\",\"jaccard\",\"cosine\",\"cosine\",\"cosine\",\"cosine\",\"cosine\",\"cosine\",\"cosine\",\"cosine\",\"cosine\",\"cosine\",\"cosine\",\"cosine\",\"cosine\",\"cosine\",\"cosine\",\"cosine\",\"cosine\",\"dice\",\"cosine\",\"cosine\",\"cosine\",\"cosine\",\"cosine\",\"cosine\",\"cosine\",\"cosine\",\"asymmetric\",\"cosine\",\"cosine\",\"cosine\",\"cosine\",\"cosine\",\"euclidean\",\"cosine\",\"cosine\",\"cosine\",\"cosine\",\"cosine\",\"tversky\",\"cosine\",\"cosine\",\"cosine\",\"cosine\",\"cosine\",\"cosine\",\"cosine\",\"cosine\",\"cosine\",\"cosine\",\"jaccard\",\"cosine\",\"cosine\",\"cosine\",\"cosine\",\"cosine\",\"cosine\",\"dice\",\"cosine\",\"cosine\",\"cosine\",\"cosine\",\"cosine\",\"cosine\",\"asymmetric\",\"cosine\",\"euclidean\",\"cosine\",\"cosine\",\"cosine\",\"cosine\",\"cosine\",\"tversky\",\"cosine\",\"cosine\",\"cosine\",\"cosine\",\"cosine\",\"cosine\",\"jaccard\",\"cosine\",\"cosine\",\"cosine\",\"cosine\",\"cosine\",\"dice\",\"cosine\",\"cosine\",\"cosine\",\"cosine\",\"cosine\",\"cosine\",\"asymmetric\",\"cosine\",\"cosine\",\"euclidean\",\"cosine\",\"cosine\",\"cosine\",\"cosine\",\"cosine\",\"tversky\",\"cosine\",\"cosine\",\"cosine\",\"cosine\",\"cosine\",\"cosine\",\"jaccard\",\"cosine\",\"cosine\",\"cosine\",\"cosine\",\"cosine\",\"cosine\",\"dice\",\"cosine\",\"cosine\",\"cosine\",\"cosine\",\"cosine\",\"cosine\",\"cosine\",\"euclidean\",\"cosine\",\"cosine\",\"asymmetric\",\"cosine\",\"cosine\",\"tversky\",\"cosine\",\"cosine\",\"cosine\",\"cosine\",\"cosine\",\"cosine\",\"cosine\",\"cosine\",\"cosine\",\"cosine\",\"jaccard\",\"cosine\",\"cosine\",\"cosine\",\"dice\",\"cosine\",\"cosine\",\"cosine\",\"cosine\",\"cosine\",\"cosine\",\"cosine\",\"asymmetric\",\"euclidean\",\"cosine\",\"cosine\",\"cosine\",\"cosine\"],\"y\":[0.009793785371799476,0.010677161631146816,0.011199188770934735,0.01194965028507702,0.006887465083364871,0.013303712916148059,0.008833373857937357,0.010916198747226014,0.011899030461485943,0.0096541350890923,0.016743779058403414,0.016719103507437945,0.01667148593685378,0.01673901570119769,0.01663206339558968,0.016921868987782186,0.0169874675222459,0.010748905973185651,0.016881998228723542,0.0177109748502463,0.018630280812546602,0.018621983625463738,0.018542537492187212,0.01788634495514598,0.018623125772983716,0.01269249852513373,0.017387173095694684,0.01085757686214181,0.009661542562685215,0.013421249599076516,0.011367971354478078,0.018618189479811188,0.018590661496887463,0.018083037086213644,0.011449161383198559,0.017791731938566084,0.0111015298019646,0.008832227172108164,0.017769666518619696,0.010909223024003082,0.013188637227475111,0.01862377143245525,0.018426319108917705,0.017812885352163084,0.016283482402261105,0.016470840159172648,0.012207493806475017,0.017063966566785847,0.014187003110379631,0.017280716354706672,0.017510704123981542,0.01844722645256516,0.018080083329069303,0.018601869118089476,0.017798332516262776,0.014031795777739973,0.012161478314504504,0.018302010613796264,0.009326283992828236,0.017899061414351134,0.01828175371136304,0.0002664826418719655,0.018286258670127824,0.018137063336075707,0.018453454021416845,0.011975195450097564,0.018460961306586275,0.01585188364384459,0.006985863295294085,0.011651983243021588,0.012373332029989923,0.018532972414443304,0.016298750442629628,0.01853656785086166,0.017933922238540123,0.01813980341525303,0.014363366032705114,0.01806757777434754,0.017738483316781455,0.013469001972887501,0.016327361374399444,0.018481643613769208,0.018528848839338495,0.018227598799192418,0.01788404962488211,0.012844042198069536,0.012882679906028097,0.006420004226862436,0.0002664826418719655,0.018324397777419097,0.012318569883878491,0.018522202989140132,0.018534315297660094,0.01827342547131739,0.018062093682351354,0.01856041753953205,0.01269321440206403,0.01629652411671368,0.018389058587874863,0.018621458726074326,0.011928347928066373,0.01855874851540369,0.018660758318432186,0.018640283284529723,0.018294171640554212,0.01852937930334828,0.012807813664649115,0.018455679101926595,0.017381559274033075,0.016280187306946997,0.006406678996699086,0.018621583327131642,0.018637161961662117,0.01827924927857262,0.018638996588665118,0.018133718394375567,0.018632739007966602,0.01835456544096951,0.01862652485248914,0.012426763948608774,0.018237037763600576,0.018671630477460725,0.0185769036159332,0.018397648817782518,0.01627813021941228,0.016359686848071705,0.018641243843147404,0.018185646269180906,0.013169855606699563,0.012292981096958965,0.01682807617754376,0.0002664826418719655,0.01852163396431382,0.018555800253892894,0.018352536193750765,0.0002664826418719655,0.012530046524342317,0.018267381721335366,0.018009993440722082,0.018362279002320646,0.0184353888447136,0.018518490159171147,0.01863994693191499,0.01818066155351832,0.0002664826418719655,0.014903006669062174,0.017086830290529053,0.01814999209988028,0.018234461280881013,0.01864099346605867,0.010443131589517785,0.018644810181348614,0.018359419283748908,0.01853109217464046,0.018514065120790214,0.0002664826418719655,0.0183046679463074,0.01085198380449382,0.012413214392041067,0.01862958573382582,0.018460568943672925,0.016812941008761705,0.018620665383481574,0.018569054714278783,0.018298051446181608,0.018554747185112755,0.01584246989308005,0.018051962442254356,0.01841003517076179,0.01864159067934202,0.013065215786960478,0.018643973530609002,0.01663238488574889,0.0002664826418719655,0.018502745546591214,0.018658230191451727,0.01857017123579111,0.01832033927065363,0.018553408834015343,0.018363634941642244,0.00976952647803173,0.018625513080220805,0.0002664826418719655,0.01849641499360475,0.015524765347209164,0.016272298484203633,0.018644810181348614,0.016448116511932138,0.018628302856076712,0.018168088719730847,0.01847639156554346,0.018661888216538573,0.018648169415590592,0.01856491396186851,0.01829322539791657,0.0002664826418719655,0.018488894001407984,0.012364306387745076,0.01859521833978208,0.01811117047119342,0.013185967517649888,0.01863559762687608,0.018632893935222144,0.0002664826418719655,0.01848370255048018,0.018637114766294857,0.01828258619847848,0.018420443234432548,0.0002664826418719655,0.01847489256600098,0.018342935001104167,0.018627838313780593,0.018628981632859126,0.018544507476426084,0.018629031460713062,0.018239793347769505,0.01850036156479772,0.018636924651771063,0.012053543698819705,0.0002664826418719655,0.018472464784938997,0.018624934688925364,0.018592299127977073,0.018353855991963996,0.0002664826418719655,0.018542020695758256,0.017108711369504565,0.01825434891964211,0.018622522387879373,0.01841604067869999,0.01862532713951287,0.01862074965611198,0.0002664826418719655,0.005027676128340002,0.018532067333659252,0.018317501344321044,0.013016891174723655,0.01853292341726476,0.0002664826418719655,0.012622270551497648,0.018287112976982812,0.01858482619390486,0.018636779005873745,0.018537145022224477,0.015957364745117945,0.018475041411974005,0.018621412496871756,0.0002664826418719655,0.018358149244435677,0.018567377252104094,0.0002664826418719655,0.01829476817138966,0.01864771165790818,0.01847120671346769,0.018629341619670618,0.018134945624804364,0.01836394062314852,0.014021814825747745,0.0002664826418719655,0.017298441252054614,0.018399943869690315,0.01826777525763194,0.018555461044018652,0.013045586482237165,0.012866431216295571,0.0002664826418719655,0.013911997271693979,0.018485892106784745,0.018625262757224564,0.017716585655773838,0.01845937452990224,0.018371303339969874,0.0002664826418719655,0.018341851681268093,0.018606813886084685,0.01853405580673282,0.018116812102547696,0.018311648221843217,0.0002664826418719655,0.011762133792443301,0.018628768161232677,0.01844276233505558,0.018646771106634975,0.018216638715498668,0.0002664826418719655,0.01327825327350925,0.01855113574655998,0.01830966605522233,0.0184562106950275,0.018653694117299956,0.0002664826418719655,0.018490644440184726,0.01756154307010379,0.01856720608324711,0.01829205211404018,0.015222825506829147,0.018649151086418108,0.01866375849234617,0.01847689639293882,0.0002664826418719655,0.018154208781022852,0.01404690916522304,0.018316075044189965,0.01863972832943932,0.01809010629556217,0.01647607290950952,0.018565626600230884,0.01676443982441471,0.0002664826418719655,0.009799669066942062,0.018239737482423,0.018502048673423623,0.018629658925830444,0.018291410099092822,0.018560861615020206,0.0002664826418719655,0.01841989128048841,0.018146425694656826,0.018387619773292223,0.018635939251535432,0.018512540881886287,0.01824210640717506,0.018651295758459537,0.00858148467768244,0.0002664826418719655,0.01855480992988597,0.013057022992912618,0.018248207475715317,0.018486731372105093,0.0002664826418719655,0.018539559169841128,0.018358309480171676,0.012092311122095346,0.018626241298244695,0.018508756352188016,0.018215719003731444,0.0002664826418719655,0.018316075044189965,0.018204860588767267,0.018633415784032263,0.012962885416997846,0.01855932125259844,0.01863984622485191,0.016212771887797135,0.00975277810675975,0.01824818491424833,0.0002664826418719655,0.018498160643124796,0.018640721753330636,0.01813182587296191,0.018485072979784835,0.01828910156932064,0.0002664826418719655,0.016695305564747836,0.01841191874694098,0.01812746080329421,0.017442400945413293,0.013029810575032982],\"type\":\"scatter\",\"xaxis\":\"x6\",\"yaxis\":\"y6\"},{\"marker\":{\"color\":[4,6,28,37,48,68,87,110,146,180,233,266,295,323,353],\"colorbar\":{\"title\":{\"text\":\"Trial\"},\"x\":1.0,\"xpad\":40},\"colorscale\":[[0.0,\"rgb(247,251,255)\"],[0.125,\"rgb(222,235,247)\"],[0.25,\"rgb(198,219,239)\"],[0.375,\"rgb(158,202,225)\"],[0.5,\"rgb(107,174,214)\"],[0.625,\"rgb(66,146,198)\"],[0.75,\"rgb(33,113,181)\"],[0.875,\"rgb(8,81,156)\"],[1.0,\"rgb(8,48,107)\"]],\"line\":{\"color\":\"Grey\",\"width\":0.5},\"showscale\":false},\"mode\":\"markers\",\"name\":\"Feasible Trial\",\"showlegend\":false,\"x\":[\"log\",\"lin\",\"exp\",\"lin\",\"exp\",\"log\",\"log\",\"exp\",\"lin\",\"lin\",\"exp\",\"log\",\"exp\",\"lin\",\"log\"],\"y\":[0.006887465083364871,0.008833373857937357,0.009661542562685215,0.008832227172108164,0.014187003110379631,0.006985863295294085,0.006420004226862436,0.006406678996699086,0.017086830290529053,0.00976952647803173,0.005027676128340002,0.013911997271693979,0.015222825506829147,0.00858148467768244,0.016695305564747836],\"type\":\"scatter\",\"xaxis\":\"x7\",\"yaxis\":\"y7\"},{\"marker\":{\"color\":[0,1,2,3,4,5,6,7,8,9,10,11,12,13,14,15,16,17,18,19,20,21,22,23,24,25,26,27,28,29,30,31,32,33,34,35,36,37,38,39,40,41,42,43,44,45,46,47,48,49,50,51,52,53,54,55,56,57,58,59,60,61,62,63,64,65,66,67,68,69,70,71,72,73,74,75,76,77,78,79,80,81,82,83,84,85,86,87,88,89,90,91,92,93,94,95,96,97,98,99,100,101,102,103,104,105,106,107,108,109,110,111,112,113,114,115,116,117,118,119,120,121,122,123,124,125,126,127,128,129,130,131,132,133,134,135,136,137,138,139,140,141,142,143,144,145,146,147,148,149,150,151,152,153,154,155,156,157,158,159,160,161,162,163,164,165,166,167,168,169,170,171,172,173,174,175,176,177,178,179,180,181,182,183,184,185,186,187,188,189,190,191,192,193,194,195,196,197,198,199,200,201,202,203,204,205,206,207,208,209,210,211,212,213,214,215,216,217,218,219,220,221,222,223,224,225,226,227,228,229,230,231,232,233,234,235,236,237,238,239,240,241,242,243,244,245,246,247,248,249,250,251,252,253,254,255,256,257,258,259,260,261,262,263,264,265,266,267,268,269,270,271,272,273,274,275,276,277,278,279,280,281,282,283,284,285,286,287,288,289,290,291,292,293,294,295,296,297,298,299,300,301,302,303,304,305,306,307,308,309,310,311,312,313,314,315,316,317,318,319,320,321,322,323,324,325,326,327,328,329,330,331,332,333,334,335,336,337,338,339,340,341,342,343,344,345,346,347,348,349,350,351,352,353,354,355,356,357],\"colorbar\":{\"title\":{\"text\":\"Trial\"},\"x\":1.0,\"xpad\":40},\"colorscale\":[[0.0,\"rgb(247,251,255)\"],[0.125,\"rgb(222,235,247)\"],[0.25,\"rgb(198,219,239)\"],[0.375,\"rgb(158,202,225)\"],[0.5,\"rgb(107,174,214)\"],[0.625,\"rgb(66,146,198)\"],[0.75,\"rgb(33,113,181)\"],[0.875,\"rgb(8,81,156)\"],[1.0,\"rgb(8,48,107)\"]],\"line\":{\"color\":\"Grey\",\"width\":0.5},\"showscale\":false},\"mode\":\"markers\",\"name\":\"Feasible Trial\",\"showlegend\":false,\"x\":[701,698,225,638,649,87,76,193,278,745,443,453,475,457,512,358,328,312,385,147,13,14,18,2,11,113,50,153,212,51,129,10,8,57,161,98,261,31,88,188,68,13,32,114,1,621,93,62,35,248,189,27,72,8,129,6,74,37,551,99,3,0,43,57,27,121,26,420,164,79,50,16,1,22,98,59,46,80,140,20,700,30,18,47,107,71,14,304,0,37,61,17,19,44,84,21,63,733,34,14,86,16,9,11,42,4,55,30,71,1,541,14,13,40,11,53,10,30,14,69,47,12,15,33,1,667,13,55,28,45,376,0,17,19,37,0,66,18,88,35,12,24,12,53,0,30,13,57,45,14,348,14,34,17,26,0,43,215,74,13,30,403,10,16,42,23,1,58,33,12,50,13,472,0,25,12,16,38,16,31,12,10,0,26,40,1,14,608,14,53,26,12,12,23,39,0,18,42,14,64,29,9,11,0,29,13,44,13,0,27,36,14,14,23,12,47,29,9,1,0,27,14,15,35,0,21,291,46,13,31,14,14,0,26,17,37,12,24,0,53,39,15,13,24,10,27,11,0,34,22,0,42,13,26,13,54,34,12,0,242,29,46,21,12,175,0,40,25,14,54,31,18,0,37,14,24,63,41,0,332,14,29,13,49,0,30,21,40,15,12,0,28,61,13,41,26,12,12,28,0,52,13,36,14,72,575,23,428,0,511,45,25,13,40,24,0,13,58,33,14,24,48,12,35,0,23,13,45,28,0,16,35,64,13,25,50,0,36,16,14,36,22,11,745,654,47,0,28,12,70,26,41,0,15,29,56,198,13],\"y\":[0.009793785371799476,0.010677161631146816,0.011199188770934735,0.01194965028507702,0.006887465083364871,0.013303712916148059,0.008833373857937357,0.010916198747226014,0.011899030461485943,0.0096541350890923,0.016743779058403414,0.016719103507437945,0.01667148593685378,0.01673901570119769,0.01663206339558968,0.016921868987782186,0.0169874675222459,0.010748905973185651,0.016881998228723542,0.0177109748502463,0.018630280812546602,0.018621983625463738,0.018542537492187212,0.01788634495514598,0.018623125772983716,0.01269249852513373,0.017387173095694684,0.01085757686214181,0.009661542562685215,0.013421249599076516,0.011367971354478078,0.018618189479811188,0.018590661496887463,0.018083037086213644,0.011449161383198559,0.017791731938566084,0.0111015298019646,0.008832227172108164,0.017769666518619696,0.010909223024003082,0.013188637227475111,0.01862377143245525,0.018426319108917705,0.017812885352163084,0.016283482402261105,0.016470840159172648,0.012207493806475017,0.017063966566785847,0.014187003110379631,0.017280716354706672,0.017510704123981542,0.01844722645256516,0.018080083329069303,0.018601869118089476,0.017798332516262776,0.014031795777739973,0.012161478314504504,0.018302010613796264,0.009326283992828236,0.017899061414351134,0.01828175371136304,0.0002664826418719655,0.018286258670127824,0.018137063336075707,0.018453454021416845,0.011975195450097564,0.018460961306586275,0.01585188364384459,0.006985863295294085,0.011651983243021588,0.012373332029989923,0.018532972414443304,0.016298750442629628,0.01853656785086166,0.017933922238540123,0.01813980341525303,0.014363366032705114,0.01806757777434754,0.017738483316781455,0.013469001972887501,0.016327361374399444,0.018481643613769208,0.018528848839338495,0.018227598799192418,0.01788404962488211,0.012844042198069536,0.012882679906028097,0.006420004226862436,0.0002664826418719655,0.018324397777419097,0.012318569883878491,0.018522202989140132,0.018534315297660094,0.01827342547131739,0.018062093682351354,0.01856041753953205,0.01269321440206403,0.01629652411671368,0.018389058587874863,0.018621458726074326,0.011928347928066373,0.01855874851540369,0.018660758318432186,0.018640283284529723,0.018294171640554212,0.01852937930334828,0.012807813664649115,0.018455679101926595,0.017381559274033075,0.016280187306946997,0.006406678996699086,0.018621583327131642,0.018637161961662117,0.01827924927857262,0.018638996588665118,0.018133718394375567,0.018632739007966602,0.01835456544096951,0.01862652485248914,0.012426763948608774,0.018237037763600576,0.018671630477460725,0.0185769036159332,0.018397648817782518,0.01627813021941228,0.016359686848071705,0.018641243843147404,0.018185646269180906,0.013169855606699563,0.012292981096958965,0.01682807617754376,0.0002664826418719655,0.01852163396431382,0.018555800253892894,0.018352536193750765,0.0002664826418719655,0.012530046524342317,0.018267381721335366,0.018009993440722082,0.018362279002320646,0.0184353888447136,0.018518490159171147,0.01863994693191499,0.01818066155351832,0.0002664826418719655,0.014903006669062174,0.017086830290529053,0.01814999209988028,0.018234461280881013,0.01864099346605867,0.010443131589517785,0.018644810181348614,0.018359419283748908,0.01853109217464046,0.018514065120790214,0.0002664826418719655,0.0183046679463074,0.01085198380449382,0.012413214392041067,0.01862958573382582,0.018460568943672925,0.016812941008761705,0.018620665383481574,0.018569054714278783,0.018298051446181608,0.018554747185112755,0.01584246989308005,0.018051962442254356,0.01841003517076179,0.01864159067934202,0.013065215786960478,0.018643973530609002,0.01663238488574889,0.0002664826418719655,0.018502745546591214,0.018658230191451727,0.01857017123579111,0.01832033927065363,0.018553408834015343,0.018363634941642244,0.00976952647803173,0.018625513080220805,0.0002664826418719655,0.01849641499360475,0.015524765347209164,0.016272298484203633,0.018644810181348614,0.016448116511932138,0.018628302856076712,0.018168088719730847,0.01847639156554346,0.018661888216538573,0.018648169415590592,0.01856491396186851,0.01829322539791657,0.0002664826418719655,0.018488894001407984,0.012364306387745076,0.01859521833978208,0.01811117047119342,0.013185967517649888,0.01863559762687608,0.018632893935222144,0.0002664826418719655,0.01848370255048018,0.018637114766294857,0.01828258619847848,0.018420443234432548,0.0002664826418719655,0.01847489256600098,0.018342935001104167,0.018627838313780593,0.018628981632859126,0.018544507476426084,0.018629031460713062,0.018239793347769505,0.01850036156479772,0.018636924651771063,0.012053543698819705,0.0002664826418719655,0.018472464784938997,0.018624934688925364,0.018592299127977073,0.018353855991963996,0.0002664826418719655,0.018542020695758256,0.017108711369504565,0.01825434891964211,0.018622522387879373,0.01841604067869999,0.01862532713951287,0.01862074965611198,0.0002664826418719655,0.005027676128340002,0.018532067333659252,0.018317501344321044,0.013016891174723655,0.01853292341726476,0.0002664826418719655,0.012622270551497648,0.018287112976982812,0.01858482619390486,0.018636779005873745,0.018537145022224477,0.015957364745117945,0.018475041411974005,0.018621412496871756,0.0002664826418719655,0.018358149244435677,0.018567377252104094,0.0002664826418719655,0.01829476817138966,0.01864771165790818,0.01847120671346769,0.018629341619670618,0.018134945624804364,0.01836394062314852,0.014021814825747745,0.0002664826418719655,0.017298441252054614,0.018399943869690315,0.01826777525763194,0.018555461044018652,0.013045586482237165,0.012866431216295571,0.0002664826418719655,0.013911997271693979,0.018485892106784745,0.018625262757224564,0.017716585655773838,0.01845937452990224,0.018371303339969874,0.0002664826418719655,0.018341851681268093,0.018606813886084685,0.01853405580673282,0.018116812102547696,0.018311648221843217,0.0002664826418719655,0.011762133792443301,0.018628768161232677,0.01844276233505558,0.018646771106634975,0.018216638715498668,0.0002664826418719655,0.01327825327350925,0.01855113574655998,0.01830966605522233,0.0184562106950275,0.018653694117299956,0.0002664826418719655,0.018490644440184726,0.01756154307010379,0.01856720608324711,0.01829205211404018,0.015222825506829147,0.018649151086418108,0.01866375849234617,0.01847689639293882,0.0002664826418719655,0.018154208781022852,0.01404690916522304,0.018316075044189965,0.01863972832943932,0.01809010629556217,0.01647607290950952,0.018565626600230884,0.01676443982441471,0.0002664826418719655,0.009799669066942062,0.018239737482423,0.018502048673423623,0.018629658925830444,0.018291410099092822,0.018560861615020206,0.0002664826418719655,0.01841989128048841,0.018146425694656826,0.018387619773292223,0.018635939251535432,0.018512540881886287,0.01824210640717506,0.018651295758459537,0.00858148467768244,0.0002664826418719655,0.01855480992988597,0.013057022992912618,0.018248207475715317,0.018486731372105093,0.0002664826418719655,0.018539559169841128,0.018358309480171676,0.012092311122095346,0.018626241298244695,0.018508756352188016,0.018215719003731444,0.0002664826418719655,0.018316075044189965,0.018204860588767267,0.018633415784032263,0.012962885416997846,0.01855932125259844,0.01863984622485191,0.016212771887797135,0.00975277810675975,0.01824818491424833,0.0002664826418719655,0.018498160643124796,0.018640721753330636,0.01813182587296191,0.018485072979784835,0.01828910156932064,0.0002664826418719655,0.016695305564747836,0.01841191874694098,0.01812746080329421,0.017442400945413293,0.013029810575032982],\"type\":\"scatter\",\"xaxis\":\"x8\",\"yaxis\":\"y8\"},{\"marker\":{\"color\":[1,17,27,34,58,70,90,119,150,195,239,272,301,329],\"colorbar\":{\"title\":{\"text\":\"Trial\"},\"x\":1.0,\"xpad\":40},\"colorscale\":[[0.0,\"rgb(247,251,255)\"],[0.125,\"rgb(222,235,247)\"],[0.25,\"rgb(198,219,239)\"],[0.375,\"rgb(158,202,225)\"],[0.5,\"rgb(107,174,214)\"],[0.625,\"rgb(66,146,198)\"],[0.75,\"rgb(33,113,181)\"],[0.875,\"rgb(8,81,156)\"],[1.0,\"rgb(8,48,107)\"]],\"line\":{\"color\":\"Grey\",\"width\":0.5},\"showscale\":false},\"mode\":\"markers\",\"name\":\"Feasible Trial\",\"showlegend\":false,\"x\":[0.9495818087554875,1.961848587307362,0.04419788006583736,1.8989571560442753,0.27056347279099047,1.1725309897378353,0.7827658230193888,1.4167008460848884,0.5657533517732061,1.5077809381435272,0.4802374100509157,1.6624291963128488,1.1640894466625182,0.7013800778181779],\"y\":[0.010677161631146816,0.010748905973185651,0.01085757686214181,0.011449161383198559,0.009326283992828236,0.012373332029989923,0.012318569883878491,0.012426763948608774,0.010443131589517785,0.0002664826418719655,0.012622270551497648,0.0002664826418719655,0.01404690916522304,0.0002664826418719655],\"type\":\"scatter\",\"xaxis\":\"x9\",\"yaxis\":\"y9\"},{\"marker\":{\"color\":[1,17,27,34,58,70,90,119,150,195,239,272,301,329],\"colorbar\":{\"title\":{\"text\":\"Trial\"},\"x\":1.0,\"xpad\":40},\"colorscale\":[[0.0,\"rgb(247,251,255)\"],[0.125,\"rgb(222,235,247)\"],[0.25,\"rgb(198,219,239)\"],[0.375,\"rgb(158,202,225)\"],[0.5,\"rgb(107,174,214)\"],[0.625,\"rgb(66,146,198)\"],[0.75,\"rgb(33,113,181)\"],[0.875,\"rgb(8,81,156)\"],[1.0,\"rgb(8,48,107)\"]],\"line\":{\"color\":\"Grey\",\"width\":0.5},\"showscale\":false},\"mode\":\"markers\",\"name\":\"Feasible Trial\",\"showlegend\":false,\"x\":[1.093082904290796,0.020288046029147244,1.9661576348391303,0.13649169809452855,1.9785925696227693,0.9480093327062789,1.1526972768176313,0.5684144409625601,1.5712598132412352,0.5322346277112638,1.516495671331851,0.48339675075185795,1.485649902586331,0.7645508705779145],\"y\":[0.010677161631146816,0.010748905973185651,0.01085757686214181,0.011449161383198559,0.009326283992828236,0.012373332029989923,0.012318569883878491,0.012426763948608774,0.010443131589517785,0.0002664826418719655,0.012622270551497648,0.0002664826418719655,0.01404690916522304,0.0002664826418719655],\"type\":\"scatter\",\"xaxis\":\"x10\",\"yaxis\":\"y10\"}],                        {\"template\":{\"data\":{\"histogram2dcontour\":[{\"type\":\"histogram2dcontour\",\"colorbar\":{\"outlinewidth\":0,\"ticks\":\"\"},\"colorscale\":[[0.0,\"#0d0887\"],[0.1111111111111111,\"#46039f\"],[0.2222222222222222,\"#7201a8\"],[0.3333333333333333,\"#9c179e\"],[0.4444444444444444,\"#bd3786\"],[0.5555555555555556,\"#d8576b\"],[0.6666666666666666,\"#ed7953\"],[0.7777777777777778,\"#fb9f3a\"],[0.8888888888888888,\"#fdca26\"],[1.0,\"#f0f921\"]]}],\"choropleth\":[{\"type\":\"choropleth\",\"colorbar\":{\"outlinewidth\":0,\"ticks\":\"\"}}],\"histogram2d\":[{\"type\":\"histogram2d\",\"colorbar\":{\"outlinewidth\":0,\"ticks\":\"\"},\"colorscale\":[[0.0,\"#0d0887\"],[0.1111111111111111,\"#46039f\"],[0.2222222222222222,\"#7201a8\"],[0.3333333333333333,\"#9c179e\"],[0.4444444444444444,\"#bd3786\"],[0.5555555555555556,\"#d8576b\"],[0.6666666666666666,\"#ed7953\"],[0.7777777777777778,\"#fb9f3a\"],[0.8888888888888888,\"#fdca26\"],[1.0,\"#f0f921\"]]}],\"heatmap\":[{\"type\":\"heatmap\",\"colorbar\":{\"outlinewidth\":0,\"ticks\":\"\"},\"colorscale\":[[0.0,\"#0d0887\"],[0.1111111111111111,\"#46039f\"],[0.2222222222222222,\"#7201a8\"],[0.3333333333333333,\"#9c179e\"],[0.4444444444444444,\"#bd3786\"],[0.5555555555555556,\"#d8576b\"],[0.6666666666666666,\"#ed7953\"],[0.7777777777777778,\"#fb9f3a\"],[0.8888888888888888,\"#fdca26\"],[1.0,\"#f0f921\"]]}],\"heatmapgl\":[{\"type\":\"heatmapgl\",\"colorbar\":{\"outlinewidth\":0,\"ticks\":\"\"},\"colorscale\":[[0.0,\"#0d0887\"],[0.1111111111111111,\"#46039f\"],[0.2222222222222222,\"#7201a8\"],[0.3333333333333333,\"#9c179e\"],[0.4444444444444444,\"#bd3786\"],[0.5555555555555556,\"#d8576b\"],[0.6666666666666666,\"#ed7953\"],[0.7777777777777778,\"#fb9f3a\"],[0.8888888888888888,\"#fdca26\"],[1.0,\"#f0f921\"]]}],\"contourcarpet\":[{\"type\":\"contourcarpet\",\"colorbar\":{\"outlinewidth\":0,\"ticks\":\"\"}}],\"contour\":[{\"type\":\"contour\",\"colorbar\":{\"outlinewidth\":0,\"ticks\":\"\"},\"colorscale\":[[0.0,\"#0d0887\"],[0.1111111111111111,\"#46039f\"],[0.2222222222222222,\"#7201a8\"],[0.3333333333333333,\"#9c179e\"],[0.4444444444444444,\"#bd3786\"],[0.5555555555555556,\"#d8576b\"],[0.6666666666666666,\"#ed7953\"],[0.7777777777777778,\"#fb9f3a\"],[0.8888888888888888,\"#fdca26\"],[1.0,\"#f0f921\"]]}],\"surface\":[{\"type\":\"surface\",\"colorbar\":{\"outlinewidth\":0,\"ticks\":\"\"},\"colorscale\":[[0.0,\"#0d0887\"],[0.1111111111111111,\"#46039f\"],[0.2222222222222222,\"#7201a8\"],[0.3333333333333333,\"#9c179e\"],[0.4444444444444444,\"#bd3786\"],[0.5555555555555556,\"#d8576b\"],[0.6666666666666666,\"#ed7953\"],[0.7777777777777778,\"#fb9f3a\"],[0.8888888888888888,\"#fdca26\"],[1.0,\"#f0f921\"]]}],\"mesh3d\":[{\"type\":\"mesh3d\",\"colorbar\":{\"outlinewidth\":0,\"ticks\":\"\"}}],\"scatter\":[{\"fillpattern\":{\"fillmode\":\"overlay\",\"size\":10,\"solidity\":0.2},\"type\":\"scatter\"}],\"parcoords\":[{\"type\":\"parcoords\",\"line\":{\"colorbar\":{\"outlinewidth\":0,\"ticks\":\"\"}}}],\"scatterpolargl\":[{\"type\":\"scatterpolargl\",\"marker\":{\"colorbar\":{\"outlinewidth\":0,\"ticks\":\"\"}}}],\"bar\":[{\"error_x\":{\"color\":\"#2a3f5f\"},\"error_y\":{\"color\":\"#2a3f5f\"},\"marker\":{\"line\":{\"color\":\"#E5ECF6\",\"width\":0.5},\"pattern\":{\"fillmode\":\"overlay\",\"size\":10,\"solidity\":0.2}},\"type\":\"bar\"}],\"scattergeo\":[{\"type\":\"scattergeo\",\"marker\":{\"colorbar\":{\"outlinewidth\":0,\"ticks\":\"\"}}}],\"scatterpolar\":[{\"type\":\"scatterpolar\",\"marker\":{\"colorbar\":{\"outlinewidth\":0,\"ticks\":\"\"}}}],\"histogram\":[{\"marker\":{\"pattern\":{\"fillmode\":\"overlay\",\"size\":10,\"solidity\":0.2}},\"type\":\"histogram\"}],\"scattergl\":[{\"type\":\"scattergl\",\"marker\":{\"colorbar\":{\"outlinewidth\":0,\"ticks\":\"\"}}}],\"scatter3d\":[{\"type\":\"scatter3d\",\"line\":{\"colorbar\":{\"outlinewidth\":0,\"ticks\":\"\"}},\"marker\":{\"colorbar\":{\"outlinewidth\":0,\"ticks\":\"\"}}}],\"scattermapbox\":[{\"type\":\"scattermapbox\",\"marker\":{\"colorbar\":{\"outlinewidth\":0,\"ticks\":\"\"}}}],\"scatterternary\":[{\"type\":\"scatterternary\",\"marker\":{\"colorbar\":{\"outlinewidth\":0,\"ticks\":\"\"}}}],\"scattercarpet\":[{\"type\":\"scattercarpet\",\"marker\":{\"colorbar\":{\"outlinewidth\":0,\"ticks\":\"\"}}}],\"carpet\":[{\"aaxis\":{\"endlinecolor\":\"#2a3f5f\",\"gridcolor\":\"white\",\"linecolor\":\"white\",\"minorgridcolor\":\"white\",\"startlinecolor\":\"#2a3f5f\"},\"baxis\":{\"endlinecolor\":\"#2a3f5f\",\"gridcolor\":\"white\",\"linecolor\":\"white\",\"minorgridcolor\":\"white\",\"startlinecolor\":\"#2a3f5f\"},\"type\":\"carpet\"}],\"table\":[{\"cells\":{\"fill\":{\"color\":\"#EBF0F8\"},\"line\":{\"color\":\"white\"}},\"header\":{\"fill\":{\"color\":\"#C8D4E3\"},\"line\":{\"color\":\"white\"}},\"type\":\"table\"}],\"barpolar\":[{\"marker\":{\"line\":{\"color\":\"#E5ECF6\",\"width\":0.5},\"pattern\":{\"fillmode\":\"overlay\",\"size\":10,\"solidity\":0.2}},\"type\":\"barpolar\"}],\"pie\":[{\"automargin\":true,\"type\":\"pie\"}]},\"layout\":{\"autotypenumbers\":\"strict\",\"colorway\":[\"#636efa\",\"#EF553B\",\"#00cc96\",\"#ab63fa\",\"#FFA15A\",\"#19d3f3\",\"#FF6692\",\"#B6E880\",\"#FF97FF\",\"#FECB52\"],\"font\":{\"color\":\"#2a3f5f\"},\"hovermode\":\"closest\",\"hoverlabel\":{\"align\":\"left\"},\"paper_bgcolor\":\"white\",\"plot_bgcolor\":\"#E5ECF6\",\"polar\":{\"bgcolor\":\"#E5ECF6\",\"angularaxis\":{\"gridcolor\":\"white\",\"linecolor\":\"white\",\"ticks\":\"\"},\"radialaxis\":{\"gridcolor\":\"white\",\"linecolor\":\"white\",\"ticks\":\"\"}},\"ternary\":{\"bgcolor\":\"#E5ECF6\",\"aaxis\":{\"gridcolor\":\"white\",\"linecolor\":\"white\",\"ticks\":\"\"},\"baxis\":{\"gridcolor\":\"white\",\"linecolor\":\"white\",\"ticks\":\"\"},\"caxis\":{\"gridcolor\":\"white\",\"linecolor\":\"white\",\"ticks\":\"\"}},\"coloraxis\":{\"colorbar\":{\"outlinewidth\":0,\"ticks\":\"\"}},\"colorscale\":{\"sequential\":[[0.0,\"#0d0887\"],[0.1111111111111111,\"#46039f\"],[0.2222222222222222,\"#7201a8\"],[0.3333333333333333,\"#9c179e\"],[0.4444444444444444,\"#bd3786\"],[0.5555555555555556,\"#d8576b\"],[0.6666666666666666,\"#ed7953\"],[0.7777777777777778,\"#fb9f3a\"],[0.8888888888888888,\"#fdca26\"],[1.0,\"#f0f921\"]],\"sequentialminus\":[[0.0,\"#0d0887\"],[0.1111111111111111,\"#46039f\"],[0.2222222222222222,\"#7201a8\"],[0.3333333333333333,\"#9c179e\"],[0.4444444444444444,\"#bd3786\"],[0.5555555555555556,\"#d8576b\"],[0.6666666666666666,\"#ed7953\"],[0.7777777777777778,\"#fb9f3a\"],[0.8888888888888888,\"#fdca26\"],[1.0,\"#f0f921\"]],\"diverging\":[[0,\"#8e0152\"],[0.1,\"#c51b7d\"],[0.2,\"#de77ae\"],[0.3,\"#f1b6da\"],[0.4,\"#fde0ef\"],[0.5,\"#f7f7f7\"],[0.6,\"#e6f5d0\"],[0.7,\"#b8e186\"],[0.8,\"#7fbc41\"],[0.9,\"#4d9221\"],[1,\"#276419\"]]},\"xaxis\":{\"gridcolor\":\"white\",\"linecolor\":\"white\",\"ticks\":\"\",\"title\":{\"standoff\":15},\"zerolinecolor\":\"white\",\"automargin\":true,\"zerolinewidth\":2},\"yaxis\":{\"gridcolor\":\"white\",\"linecolor\":\"white\",\"ticks\":\"\",\"title\":{\"standoff\":15},\"zerolinecolor\":\"white\",\"automargin\":true,\"zerolinewidth\":2},\"scene\":{\"xaxis\":{\"backgroundcolor\":\"#E5ECF6\",\"gridcolor\":\"white\",\"linecolor\":\"white\",\"showbackground\":true,\"ticks\":\"\",\"zerolinecolor\":\"white\",\"gridwidth\":2},\"yaxis\":{\"backgroundcolor\":\"#E5ECF6\",\"gridcolor\":\"white\",\"linecolor\":\"white\",\"showbackground\":true,\"ticks\":\"\",\"zerolinecolor\":\"white\",\"gridwidth\":2},\"zaxis\":{\"backgroundcolor\":\"#E5ECF6\",\"gridcolor\":\"white\",\"linecolor\":\"white\",\"showbackground\":true,\"ticks\":\"\",\"zerolinecolor\":\"white\",\"gridwidth\":2}},\"shapedefaults\":{\"line\":{\"color\":\"#2a3f5f\"}},\"annotationdefaults\":{\"arrowcolor\":\"#2a3f5f\",\"arrowhead\":0,\"arrowwidth\":1},\"geo\":{\"bgcolor\":\"white\",\"landcolor\":\"#E5ECF6\",\"subunitcolor\":\"white\",\"showland\":true,\"showlakes\":true,\"lakecolor\":\"white\"},\"title\":{\"x\":0.05},\"mapbox\":{\"style\":\"light\"}}},\"xaxis\":{\"anchor\":\"y\",\"domain\":[0.0,0.082],\"title\":{\"text\":\"asymmetric_alpha\"}},\"yaxis\":{\"anchor\":\"x\",\"domain\":[0.0,1.0],\"title\":{\"text\":\"Objective Value\"}},\"xaxis2\":{\"anchor\":\"y2\",\"domain\":[0.10200000000000001,0.184],\"title\":{\"text\":\"feature_weighting\"},\"type\":\"category\",\"categoryorder\":\"array\",\"categoryarray\":[\"BM25\",\"TF-IDF\",\"none\"]},\"yaxis2\":{\"anchor\":\"x2\",\"domain\":[0.0,1.0],\"matches\":\"y\",\"showticklabels\":false},\"xaxis3\":{\"anchor\":\"y3\",\"domain\":[0.20400000000000001,0.28600000000000003],\"title\":{\"text\":\"normalize\"},\"type\":\"category\",\"categoryorder\":\"array\",\"categoryarray\":[true,false]},\"yaxis3\":{\"anchor\":\"x3\",\"domain\":[0.0,1.0],\"matches\":\"y\",\"showticklabels\":false},\"xaxis4\":{\"anchor\":\"y4\",\"domain\":[0.306,0.388],\"title\":{\"text\":\"normalize_avg_row\"},\"type\":\"category\",\"categoryorder\":\"array\",\"categoryarray\":[true,false]},\"yaxis4\":{\"anchor\":\"x4\",\"domain\":[0.0,1.0],\"matches\":\"y\",\"showticklabels\":false},\"xaxis5\":{\"anchor\":\"y5\",\"domain\":[0.40800000000000003,0.49000000000000005],\"title\":{\"text\":\"shrink\"}},\"yaxis5\":{\"anchor\":\"x5\",\"domain\":[0.0,1.0],\"matches\":\"y\",\"showticklabels\":false},\"xaxis6\":{\"anchor\":\"y6\",\"domain\":[0.51,0.592],\"title\":{\"text\":\"similarity\"},\"type\":\"category\",\"categoryorder\":\"array\",\"categoryarray\":[\"cosine\",\"dice\",\"jaccard\",\"asymmetric\",\"tversky\",\"euclidean\"]},\"yaxis6\":{\"anchor\":\"x6\",\"domain\":[0.0,1.0],\"matches\":\"y\",\"showticklabels\":false},\"xaxis7\":{\"anchor\":\"y7\",\"domain\":[0.6120000000000001,0.6940000000000001],\"title\":{\"text\":\"similarity_from_distance_mode\"},\"type\":\"category\",\"categoryorder\":\"array\",\"categoryarray\":[\"lin\",\"log\",\"exp\"]},\"yaxis7\":{\"anchor\":\"x7\",\"domain\":[0.0,1.0],\"matches\":\"y\",\"showticklabels\":false},\"xaxis8\":{\"anchor\":\"y8\",\"domain\":[0.7140000000000001,0.796],\"title\":{\"text\":\"topK\"}},\"yaxis8\":{\"anchor\":\"x8\",\"domain\":[0.0,1.0],\"matches\":\"y\",\"showticklabels\":false},\"xaxis9\":{\"anchor\":\"y9\",\"domain\":[0.8160000000000001,0.898],\"title\":{\"text\":\"tversky_alpha\"}},\"yaxis9\":{\"anchor\":\"x9\",\"domain\":[0.0,1.0],\"matches\":\"y\",\"showticklabels\":false},\"xaxis10\":{\"anchor\":\"y10\",\"domain\":[0.9179999999999999,0.9999999999999999],\"title\":{\"text\":\"tversky_beta\"}},\"yaxis10\":{\"anchor\":\"x10\",\"domain\":[0.0,1.0],\"matches\":\"y\",\"showticklabels\":false},\"title\":{\"text\":\"Slice Plot\"},\"width\":3000},                        {\"responsive\": true}                    ).then(function(){\n",
       "                            \n",
       "var gd = document.getElementById('c3707342-5227-4a32-88c5-91b02fca9586');\n",
       "var x = new MutationObserver(function (mutations, observer) {{\n",
       "        var display = window.getComputedStyle(gd).display;\n",
       "        if (!display || display === 'none') {{\n",
       "            console.log([gd, 'removed!']);\n",
       "            Plotly.purge(gd);\n",
       "            observer.disconnect();\n",
       "        }}\n",
       "}});\n",
       "\n",
       "// Listen for the removal of the full notebook cells\n",
       "var notebookContainer = gd.closest('#notebook-container');\n",
       "if (notebookContainer) {{\n",
       "    x.observe(notebookContainer, {childList: true});\n",
       "}}\n",
       "\n",
       "// Listen for the clearing of the current output cell\n",
       "var outputEl = gd.closest('.output');\n",
       "if (outputEl) {{\n",
       "    x.observe(outputEl, {childList: true});\n",
       "}}\n",
       "\n",
       "                        })                };                            </script>        </div>\n",
       "</body>\n",
       "</html>"
      ]
     },
     "metadata": {},
     "output_type": "display_data"
    }
   ],
   "source": [
    "if not config['tune_parameters']:\n",
    "    optuna_study = optuna.load_study(study_name=f'hyperparameters_tuning_{config[\"model\"]}_{config[\"metric\"]}', storage=f'sqlite:///{config[\"database_path\"]}')\n",
    "    \n",
    "fig = optuna.visualization.plot_slice(optuna_study)\n",
    "fig.show()"
   ]
  },
  {
   "cell_type": "code",
   "execution_count": 15,
   "id": "8604dcc8",
   "metadata": {
    "execution": {
     "iopub.execute_input": "2025-01-07T11:11:31.857694Z",
     "iopub.status.busy": "2025-01-07T11:11:31.857268Z",
     "iopub.status.idle": "2025-01-07T11:11:38.390161Z",
     "shell.execute_reply": "2025-01-07T11:11:38.389017Z"
    },
    "papermill": {
     "duration": 6.637087,
     "end_time": "2025-01-07T11:11:38.392448",
     "exception": false,
     "start_time": "2025-01-07T11:11:31.755361",
     "status": "completed"
    },
    "tags": []
   },
   "outputs": [
    {
     "data": {
      "text/html": [
       "<html>\n",
       "<head><meta charset=\"utf-8\" /></head>\n",
       "<body>\n",
       "    <div>            <script src=\"https://cdnjs.cloudflare.com/ajax/libs/mathjax/2.7.5/MathJax.js?config=TeX-AMS-MML_SVG\"></script><script type=\"text/javascript\">if (window.MathJax && window.MathJax.Hub && window.MathJax.Hub.Config) {window.MathJax.Hub.Config({SVG: {font: \"STIX-Web\"}});}</script>                <script type=\"text/javascript\">window.PlotlyConfig = {MathJaxConfig: 'local'};</script>\n",
       "        <script charset=\"utf-8\" src=\"https://cdn.plot.ly/plotly-2.35.2.min.js\"></script>                <div id=\"64448f92-b8f6-4fbb-bcb6-94b371ba034a\" class=\"plotly-graph-div\" style=\"height:525px; width:100%;\"></div>            <script type=\"text/javascript\">                                    window.PLOTLYENV=window.PLOTLYENV || {};                                    if (document.getElementById(\"64448f92-b8f6-4fbb-bcb6-94b371ba034a\")) {                    Plotly.newPlot(                        \"64448f92-b8f6-4fbb-bcb6-94b371ba034a\",                        [{\"cliponaxis\":false,\"hovertemplate\":[\"shrink (IntDistribution): 0.016430330381776315\\u003cextra\\u003e\\u003c\\u002fextra\\u003e\",\"topK (IntDistribution): 0.1358799892568669\\u003cextra\\u003e\\u003c\\u002fextra\\u003e\",\"feature_weighting (CategoricalDistribution): 0.28973578346504203\\u003cextra\\u003e\\u003c\\u002fextra\\u003e\",\"similarity (CategoricalDistribution): 0.5579538968963146\\u003cextra\\u003e\\u003c\\u002fextra\\u003e\"],\"name\":\"Objective Value\",\"orientation\":\"h\",\"text\":[\"0.02\",\"0.14\",\"0.29\",\"0.56\"],\"textposition\":\"outside\",\"x\":[0.016430330381776315,0.1358799892568669,0.28973578346504203,0.5579538968963146],\"y\":[\"shrink\",\"topK\",\"feature_weighting\",\"similarity\"],\"type\":\"bar\"}],                        {\"title\":{\"text\":\"Hyperparameter Importances\"},\"xaxis\":{\"title\":{\"text\":\"Hyperparameter Importance\"}},\"yaxis\":{\"title\":{\"text\":\"Hyperparameter\"}},\"template\":{\"data\":{\"histogram2dcontour\":[{\"type\":\"histogram2dcontour\",\"colorbar\":{\"outlinewidth\":0,\"ticks\":\"\"},\"colorscale\":[[0.0,\"#0d0887\"],[0.1111111111111111,\"#46039f\"],[0.2222222222222222,\"#7201a8\"],[0.3333333333333333,\"#9c179e\"],[0.4444444444444444,\"#bd3786\"],[0.5555555555555556,\"#d8576b\"],[0.6666666666666666,\"#ed7953\"],[0.7777777777777778,\"#fb9f3a\"],[0.8888888888888888,\"#fdca26\"],[1.0,\"#f0f921\"]]}],\"choropleth\":[{\"type\":\"choropleth\",\"colorbar\":{\"outlinewidth\":0,\"ticks\":\"\"}}],\"histogram2d\":[{\"type\":\"histogram2d\",\"colorbar\":{\"outlinewidth\":0,\"ticks\":\"\"},\"colorscale\":[[0.0,\"#0d0887\"],[0.1111111111111111,\"#46039f\"],[0.2222222222222222,\"#7201a8\"],[0.3333333333333333,\"#9c179e\"],[0.4444444444444444,\"#bd3786\"],[0.5555555555555556,\"#d8576b\"],[0.6666666666666666,\"#ed7953\"],[0.7777777777777778,\"#fb9f3a\"],[0.8888888888888888,\"#fdca26\"],[1.0,\"#f0f921\"]]}],\"heatmap\":[{\"type\":\"heatmap\",\"colorbar\":{\"outlinewidth\":0,\"ticks\":\"\"},\"colorscale\":[[0.0,\"#0d0887\"],[0.1111111111111111,\"#46039f\"],[0.2222222222222222,\"#7201a8\"],[0.3333333333333333,\"#9c179e\"],[0.4444444444444444,\"#bd3786\"],[0.5555555555555556,\"#d8576b\"],[0.6666666666666666,\"#ed7953\"],[0.7777777777777778,\"#fb9f3a\"],[0.8888888888888888,\"#fdca26\"],[1.0,\"#f0f921\"]]}],\"heatmapgl\":[{\"type\":\"heatmapgl\",\"colorbar\":{\"outlinewidth\":0,\"ticks\":\"\"},\"colorscale\":[[0.0,\"#0d0887\"],[0.1111111111111111,\"#46039f\"],[0.2222222222222222,\"#7201a8\"],[0.3333333333333333,\"#9c179e\"],[0.4444444444444444,\"#bd3786\"],[0.5555555555555556,\"#d8576b\"],[0.6666666666666666,\"#ed7953\"],[0.7777777777777778,\"#fb9f3a\"],[0.8888888888888888,\"#fdca26\"],[1.0,\"#f0f921\"]]}],\"contourcarpet\":[{\"type\":\"contourcarpet\",\"colorbar\":{\"outlinewidth\":0,\"ticks\":\"\"}}],\"contour\":[{\"type\":\"contour\",\"colorbar\":{\"outlinewidth\":0,\"ticks\":\"\"},\"colorscale\":[[0.0,\"#0d0887\"],[0.1111111111111111,\"#46039f\"],[0.2222222222222222,\"#7201a8\"],[0.3333333333333333,\"#9c179e\"],[0.4444444444444444,\"#bd3786\"],[0.5555555555555556,\"#d8576b\"],[0.6666666666666666,\"#ed7953\"],[0.7777777777777778,\"#fb9f3a\"],[0.8888888888888888,\"#fdca26\"],[1.0,\"#f0f921\"]]}],\"surface\":[{\"type\":\"surface\",\"colorbar\":{\"outlinewidth\":0,\"ticks\":\"\"},\"colorscale\":[[0.0,\"#0d0887\"],[0.1111111111111111,\"#46039f\"],[0.2222222222222222,\"#7201a8\"],[0.3333333333333333,\"#9c179e\"],[0.4444444444444444,\"#bd3786\"],[0.5555555555555556,\"#d8576b\"],[0.6666666666666666,\"#ed7953\"],[0.7777777777777778,\"#fb9f3a\"],[0.8888888888888888,\"#fdca26\"],[1.0,\"#f0f921\"]]}],\"mesh3d\":[{\"type\":\"mesh3d\",\"colorbar\":{\"outlinewidth\":0,\"ticks\":\"\"}}],\"scatter\":[{\"fillpattern\":{\"fillmode\":\"overlay\",\"size\":10,\"solidity\":0.2},\"type\":\"scatter\"}],\"parcoords\":[{\"type\":\"parcoords\",\"line\":{\"colorbar\":{\"outlinewidth\":0,\"ticks\":\"\"}}}],\"scatterpolargl\":[{\"type\":\"scatterpolargl\",\"marker\":{\"colorbar\":{\"outlinewidth\":0,\"ticks\":\"\"}}}],\"bar\":[{\"error_x\":{\"color\":\"#2a3f5f\"},\"error_y\":{\"color\":\"#2a3f5f\"},\"marker\":{\"line\":{\"color\":\"#E5ECF6\",\"width\":0.5},\"pattern\":{\"fillmode\":\"overlay\",\"size\":10,\"solidity\":0.2}},\"type\":\"bar\"}],\"scattergeo\":[{\"type\":\"scattergeo\",\"marker\":{\"colorbar\":{\"outlinewidth\":0,\"ticks\":\"\"}}}],\"scatterpolar\":[{\"type\":\"scatterpolar\",\"marker\":{\"colorbar\":{\"outlinewidth\":0,\"ticks\":\"\"}}}],\"histogram\":[{\"marker\":{\"pattern\":{\"fillmode\":\"overlay\",\"size\":10,\"solidity\":0.2}},\"type\":\"histogram\"}],\"scattergl\":[{\"type\":\"scattergl\",\"marker\":{\"colorbar\":{\"outlinewidth\":0,\"ticks\":\"\"}}}],\"scatter3d\":[{\"type\":\"scatter3d\",\"line\":{\"colorbar\":{\"outlinewidth\":0,\"ticks\":\"\"}},\"marker\":{\"colorbar\":{\"outlinewidth\":0,\"ticks\":\"\"}}}],\"scattermapbox\":[{\"type\":\"scattermapbox\",\"marker\":{\"colorbar\":{\"outlinewidth\":0,\"ticks\":\"\"}}}],\"scatterternary\":[{\"type\":\"scatterternary\",\"marker\":{\"colorbar\":{\"outlinewidth\":0,\"ticks\":\"\"}}}],\"scattercarpet\":[{\"type\":\"scattercarpet\",\"marker\":{\"colorbar\":{\"outlinewidth\":0,\"ticks\":\"\"}}}],\"carpet\":[{\"aaxis\":{\"endlinecolor\":\"#2a3f5f\",\"gridcolor\":\"white\",\"linecolor\":\"white\",\"minorgridcolor\":\"white\",\"startlinecolor\":\"#2a3f5f\"},\"baxis\":{\"endlinecolor\":\"#2a3f5f\",\"gridcolor\":\"white\",\"linecolor\":\"white\",\"minorgridcolor\":\"white\",\"startlinecolor\":\"#2a3f5f\"},\"type\":\"carpet\"}],\"table\":[{\"cells\":{\"fill\":{\"color\":\"#EBF0F8\"},\"line\":{\"color\":\"white\"}},\"header\":{\"fill\":{\"color\":\"#C8D4E3\"},\"line\":{\"color\":\"white\"}},\"type\":\"table\"}],\"barpolar\":[{\"marker\":{\"line\":{\"color\":\"#E5ECF6\",\"width\":0.5},\"pattern\":{\"fillmode\":\"overlay\",\"size\":10,\"solidity\":0.2}},\"type\":\"barpolar\"}],\"pie\":[{\"automargin\":true,\"type\":\"pie\"}]},\"layout\":{\"autotypenumbers\":\"strict\",\"colorway\":[\"#636efa\",\"#EF553B\",\"#00cc96\",\"#ab63fa\",\"#FFA15A\",\"#19d3f3\",\"#FF6692\",\"#B6E880\",\"#FF97FF\",\"#FECB52\"],\"font\":{\"color\":\"#2a3f5f\"},\"hovermode\":\"closest\",\"hoverlabel\":{\"align\":\"left\"},\"paper_bgcolor\":\"white\",\"plot_bgcolor\":\"#E5ECF6\",\"polar\":{\"bgcolor\":\"#E5ECF6\",\"angularaxis\":{\"gridcolor\":\"white\",\"linecolor\":\"white\",\"ticks\":\"\"},\"radialaxis\":{\"gridcolor\":\"white\",\"linecolor\":\"white\",\"ticks\":\"\"}},\"ternary\":{\"bgcolor\":\"#E5ECF6\",\"aaxis\":{\"gridcolor\":\"white\",\"linecolor\":\"white\",\"ticks\":\"\"},\"baxis\":{\"gridcolor\":\"white\",\"linecolor\":\"white\",\"ticks\":\"\"},\"caxis\":{\"gridcolor\":\"white\",\"linecolor\":\"white\",\"ticks\":\"\"}},\"coloraxis\":{\"colorbar\":{\"outlinewidth\":0,\"ticks\":\"\"}},\"colorscale\":{\"sequential\":[[0.0,\"#0d0887\"],[0.1111111111111111,\"#46039f\"],[0.2222222222222222,\"#7201a8\"],[0.3333333333333333,\"#9c179e\"],[0.4444444444444444,\"#bd3786\"],[0.5555555555555556,\"#d8576b\"],[0.6666666666666666,\"#ed7953\"],[0.7777777777777778,\"#fb9f3a\"],[0.8888888888888888,\"#fdca26\"],[1.0,\"#f0f921\"]],\"sequentialminus\":[[0.0,\"#0d0887\"],[0.1111111111111111,\"#46039f\"],[0.2222222222222222,\"#7201a8\"],[0.3333333333333333,\"#9c179e\"],[0.4444444444444444,\"#bd3786\"],[0.5555555555555556,\"#d8576b\"],[0.6666666666666666,\"#ed7953\"],[0.7777777777777778,\"#fb9f3a\"],[0.8888888888888888,\"#fdca26\"],[1.0,\"#f0f921\"]],\"diverging\":[[0,\"#8e0152\"],[0.1,\"#c51b7d\"],[0.2,\"#de77ae\"],[0.3,\"#f1b6da\"],[0.4,\"#fde0ef\"],[0.5,\"#f7f7f7\"],[0.6,\"#e6f5d0\"],[0.7,\"#b8e186\"],[0.8,\"#7fbc41\"],[0.9,\"#4d9221\"],[1,\"#276419\"]]},\"xaxis\":{\"gridcolor\":\"white\",\"linecolor\":\"white\",\"ticks\":\"\",\"title\":{\"standoff\":15},\"zerolinecolor\":\"white\",\"automargin\":true,\"zerolinewidth\":2},\"yaxis\":{\"gridcolor\":\"white\",\"linecolor\":\"white\",\"ticks\":\"\",\"title\":{\"standoff\":15},\"zerolinecolor\":\"white\",\"automargin\":true,\"zerolinewidth\":2},\"scene\":{\"xaxis\":{\"backgroundcolor\":\"#E5ECF6\",\"gridcolor\":\"white\",\"linecolor\":\"white\",\"showbackground\":true,\"ticks\":\"\",\"zerolinecolor\":\"white\",\"gridwidth\":2},\"yaxis\":{\"backgroundcolor\":\"#E5ECF6\",\"gridcolor\":\"white\",\"linecolor\":\"white\",\"showbackground\":true,\"ticks\":\"\",\"zerolinecolor\":\"white\",\"gridwidth\":2},\"zaxis\":{\"backgroundcolor\":\"#E5ECF6\",\"gridcolor\":\"white\",\"linecolor\":\"white\",\"showbackground\":true,\"ticks\":\"\",\"zerolinecolor\":\"white\",\"gridwidth\":2}},\"shapedefaults\":{\"line\":{\"color\":\"#2a3f5f\"}},\"annotationdefaults\":{\"arrowcolor\":\"#2a3f5f\",\"arrowhead\":0,\"arrowwidth\":1},\"geo\":{\"bgcolor\":\"white\",\"landcolor\":\"#E5ECF6\",\"subunitcolor\":\"white\",\"showland\":true,\"showlakes\":true,\"lakecolor\":\"white\"},\"title\":{\"x\":0.05},\"mapbox\":{\"style\":\"light\"}}}},                        {\"responsive\": true}                    ).then(function(){\n",
       "                            \n",
       "var gd = document.getElementById('64448f92-b8f6-4fbb-bcb6-94b371ba034a');\n",
       "var x = new MutationObserver(function (mutations, observer) {{\n",
       "        var display = window.getComputedStyle(gd).display;\n",
       "        if (!display || display === 'none') {{\n",
       "            console.log([gd, 'removed!']);\n",
       "            Plotly.purge(gd);\n",
       "            observer.disconnect();\n",
       "        }}\n",
       "}});\n",
       "\n",
       "// Listen for the removal of the full notebook cells\n",
       "var notebookContainer = gd.closest('#notebook-container');\n",
       "if (notebookContainer) {{\n",
       "    x.observe(notebookContainer, {childList: true});\n",
       "}}\n",
       "\n",
       "// Listen for the clearing of the current output cell\n",
       "var outputEl = gd.closest('.output');\n",
       "if (outputEl) {{\n",
       "    x.observe(outputEl, {childList: true});\n",
       "}}\n",
       "\n",
       "                        })                };                            </script>        </div>\n",
       "</body>\n",
       "</html>"
      ]
     },
     "metadata": {},
     "output_type": "display_data"
    }
   ],
   "source": [
    "if not config['tune_parameters']:\n",
    "    optuna_study = optuna.load_study(study_name=f'hyperparameters_tuning_{config[\"model\"]}_{config[\"metric\"]}', storage=f'sqlite:///{config[\"database_path\"]}')\n",
    "    \n",
    "fig = optuna.visualization.plot_param_importances(optuna_study)\n",
    "fig.show()"
   ]
  },
  {
   "cell_type": "markdown",
   "id": "17dd05f5",
   "metadata": {
    "papermill": {
     "duration": 0.098878,
     "end_time": "2025-01-07T11:11:38.591092",
     "exception": false,
     "start_time": "2025-01-07T11:11:38.492214",
     "status": "completed"
    },
    "tags": []
   },
   "source": [
    "## Let's train the recommender with best parameter values"
   ]
  },
  {
   "cell_type": "code",
   "execution_count": 16,
   "id": "b0a45477",
   "metadata": {
    "execution": {
     "iopub.execute_input": "2025-01-07T11:11:38.787071Z",
     "iopub.status.busy": "2025-01-07T11:11:38.786716Z",
     "iopub.status.idle": "2025-01-07T11:12:34.566049Z",
     "shell.execute_reply": "2025-01-07T11:12:34.563680Z"
    },
    "papermill": {
     "duration": 55.980339,
     "end_time": "2025-01-07T11:12:34.667971",
     "exception": false,
     "start_time": "2025-01-07T11:11:38.687632",
     "status": "completed"
    },
    "tags": []
   },
   "outputs": [
    {
     "name": "stdout",
     "output_type": "stream",
     "text": [
      "Similarity column 38121 (100.0%), 688.85 column/sec. Elapsed time 55.34 sec\n"
     ]
    }
   ],
   "source": [
    "if config['tune_best_params']:\n",
    "\n",
    "    if config['tune_parameters']:\n",
    "        best_params = optuna_study.best_trial.params\n",
    "    else: \n",
    "        with open(f'{K_PATH}/{GH_PATH}/{config[\"model\"]}Recommender/Optimizing{config[\"metric\"]}/best_params_{config[\"model\"]}_{config[\"metric\"]}.json', 'r') as best_params_json:\n",
    "            best_params = json.load(best_params_json)\n",
    "\n",
    "    recommender_instance = ItemKNNCBFRecommender(URM_train + URM_validation,ICM_all)\n",
    "    recommender_instance.fit(**best_params)"
   ]
  },
  {
   "cell_type": "markdown",
   "id": "4b6e3a45",
   "metadata": {
    "papermill": {
     "duration": 0.096441,
     "end_time": "2025-01-07T11:12:34.862781",
     "exception": false,
     "start_time": "2025-01-07T11:12:34.766340",
     "status": "completed"
    },
    "tags": []
   },
   "source": [
    "# Testing\n",
    "\n",
    "Create the recommendations for the submission. "
   ]
  },
  {
   "cell_type": "code",
   "execution_count": 17,
   "id": "81abf241",
   "metadata": {
    "execution": {
     "iopub.execute_input": "2025-01-07T11:12:35.064602Z",
     "iopub.status.busy": "2025-01-07T11:12:35.064183Z",
     "iopub.status.idle": "2025-01-07T11:12:57.001860Z",
     "shell.execute_reply": "2025-01-07T11:12:57.000491Z"
    },
    "papermill": {
     "duration": 22.042551,
     "end_time": "2025-01-07T11:12:57.004113",
     "exception": false,
     "start_time": "2025-01-07T11:12:34.961562",
     "status": "completed"
    },
    "tags": []
   },
   "outputs": [
    {
     "name": "stdout",
     "output_type": "stream",
     "text": [
      "Submission file saved as /kaggle/working/submission_ItemKNNCBF_MAP.csv\n"
     ]
    }
   ],
   "source": [
    "if config['tune_best_params']:\n",
    "\n",
    "    data_target_users_test = pd.read_csv('/kaggle/working/RECsys_Challenge2024/Dataset/data_target_users_test.csv')\n",
    "    create_submission(data_target_users_test, recommender_instance, f'/kaggle/working/submission_{config[\"model\"]}_{config[\"metric\"]}.csv')"
   ]
  },
  {
   "cell_type": "markdown",
   "id": "c877bcf2",
   "metadata": {
    "papermill": {
     "duration": 0.099982,
     "end_time": "2025-01-07T11:12:57.205766",
     "exception": false,
     "start_time": "2025-01-07T11:12:57.105784",
     "status": "completed"
    },
    "tags": []
   },
   "source": [
    "# Save Version on GitHub \n",
    "\n",
    "Write or import a json file where best hyperparameters are saved. "
   ]
  },
  {
   "cell_type": "code",
   "execution_count": 18,
   "id": "19fa0045",
   "metadata": {
    "execution": {
     "iopub.execute_input": "2025-01-07T11:12:57.403295Z",
     "iopub.status.busy": "2025-01-07T11:12:57.402858Z",
     "iopub.status.idle": "2025-01-07T11:12:58.329095Z",
     "shell.execute_reply": "2025-01-07T11:12:58.327648Z"
    },
    "papermill": {
     "duration": 1.028059,
     "end_time": "2025-01-07T11:12:58.330947",
     "exception": false,
     "start_time": "2025-01-07T11:12:57.302888",
     "status": "completed"
    },
    "tags": []
   },
   "outputs": [
    {
     "name": "stdout",
     "output_type": "stream",
     "text": [
      "File 'TrainedModels/WithKFCV/KNN/ItemKNNCBFRecommender/OptimizingMAP/best_params_ItemKNNCBF_MAP.json' updated successfully.\n"
     ]
    }
   ],
   "source": [
    "if config['tune_parameters']:\n",
    "    with open(f'/kaggle/working/best_params_{config[\"model\"]}_{config[\"metric\"]}.json', 'w') as params_file:\n",
    "        json.dump(optuna_study.best_params, params_file)\n",
    "        \n",
    "    if config['save_github']:\n",
    "        upload_file(\n",
    "            f'/kaggle/working/best_params_{config[\"model\"]}_{config[\"metric\"]}.json', \n",
    "            f'{GH_PATH}/{config[\"model\"]}Recommender/Optimizing{config[\"metric\"]}/best_params_{config[\"model\"]}_{config[\"metric\"]}.json', \n",
    "            f'{config[\"model\"]}_{config[\"metric\"]} tuning results (from kaggle notebook)',\n",
    "            repo\n",
    "        )\n",
    "elif config['copy_prev_best_params']:\n",
    "    shutil.copyfile(\n",
    "        f'{K_PATH}/{GH_PATH}/{config[\"model\"]}Recommender/Optimizing{config[\"metric\"]}/'\\\n",
    "        f'best_params_{config[\"model\"]}_{config[\"metric\"]}.json', \n",
    "        f'/kaggle/working/best_params_{config[\"model\"]}_{config[\"metric\"]}.json'\n",
    "    )"
   ]
  },
  {
   "cell_type": "markdown",
   "id": "80edaf91",
   "metadata": {
    "papermill": {
     "duration": 0.097578,
     "end_time": "2025-01-07T11:12:58.527681",
     "exception": false,
     "start_time": "2025-01-07T11:12:58.430103",
     "status": "completed"
    },
    "tags": []
   },
   "source": [
    "Save the history of the tuned model."
   ]
  },
  {
   "cell_type": "code",
   "execution_count": 19,
   "id": "e176c08f",
   "metadata": {
    "execution": {
     "iopub.execute_input": "2025-01-07T11:12:58.725427Z",
     "iopub.status.busy": "2025-01-07T11:12:58.725024Z",
     "iopub.status.idle": "2025-01-07T11:13:00.099338Z",
     "shell.execute_reply": "2025-01-07T11:13:00.097860Z"
    },
    "papermill": {
     "duration": 1.474714,
     "end_time": "2025-01-07T11:13:00.101473",
     "exception": false,
     "start_time": "2025-01-07T11:12:58.626759",
     "status": "completed"
    },
    "tags": []
   },
   "outputs": [
    {
     "name": "stdout",
     "output_type": "stream",
     "text": [
      "File 'TrainedModels/WithKFCV/KNN/ItemKNNCBFRecommender/OptimizingMAP/history_ItemKNNCBF_MAP.db' updated successfully.\n"
     ]
    }
   ],
   "source": [
    "if config['save_github'] and config['tune_parameters']:\n",
    "    upload_file(\n",
    "        config['database_path'], \n",
    "        f'{GH_PATH}/{config[\"model\"]}Recommender/Optimizing{config[\"metric\"]}/history_{config[\"model\"]}_{config[\"metric\"]}.db',\n",
    "        f'Tuning {config[\"model\"]}_{config[\"metric\"]} db updated results (from kaggle notebook)',\n",
    "        repo\n",
    "    )"
   ]
  },
  {
   "cell_type": "markdown",
   "id": "21c54641",
   "metadata": {
    "papermill": {
     "duration": 0.098192,
     "end_time": "2025-01-07T11:13:00.299232",
     "exception": false,
     "start_time": "2025-01-07T11:13:00.201040",
     "status": "completed"
    },
    "tags": []
   },
   "source": [
    "Save the best trained model and its submission."
   ]
  },
  {
   "cell_type": "code",
   "execution_count": 20,
   "id": "ca45e163",
   "metadata": {
    "execution": {
     "iopub.execute_input": "2025-01-07T11:13:00.495709Z",
     "iopub.status.busy": "2025-01-07T11:13:00.495326Z",
     "iopub.status.idle": "2025-01-07T11:13:01.959126Z",
     "shell.execute_reply": "2025-01-07T11:13:01.957688Z"
    },
    "papermill": {
     "duration": 1.564103,
     "end_time": "2025-01-07T11:13:01.960975",
     "exception": false,
     "start_time": "2025-01-07T11:13:00.396872",
     "status": "completed"
    },
    "tags": []
   },
   "outputs": [
    {
     "name": "stdout",
     "output_type": "stream",
     "text": [
      "File 'TrainedModels/WithKFCV/KNN/ItemKNNCBFRecommender/OptimizingMAP/Submission/submission_ItemKNNCBF_MAP.csv' updated successfully.\n"
     ]
    }
   ],
   "source": [
    "if config['save_github'] and config['tune_best_params']: \n",
    "    upload_file(\n",
    "                f'/kaggle/working/submission_{config[\"model\"]}_{config[\"metric\"]}.csv', \n",
    "                f'{GH_PATH}/{config[\"model\"]}Recommender/Optimizing{config[\"metric\"]}/Submission/submission_{config[\"model\"]}_{config[\"metric\"]}.csv', \n",
    "                f'New {config[\"model\"]}_{config[\"metric\"]} submission (from kaggle notebook)',\n",
    "                repo\n",
    "            )"
   ]
  }
 ],
 "metadata": {
  "kaggle": {
   "accelerator": "none",
   "dataSources": [],
   "dockerImageVersionId": 30822,
   "isGpuEnabled": false,
   "isInternetEnabled": true,
   "language": "python",
   "sourceType": "notebook"
  },
  "kernelspec": {
   "display_name": "Python 3",
   "language": "python",
   "name": "python3"
  },
  "language_info": {
   "codemirror_mode": {
    "name": "ipython",
    "version": 3
   },
   "file_extension": ".py",
   "mimetype": "text/x-python",
   "name": "python",
   "nbconvert_exporter": "python",
   "pygments_lexer": "ipython3",
   "version": "3.10.12"
  },
  "papermill": {
   "default_parameters": {},
   "duration": 41965.541064,
   "end_time": "2025-01-07T11:13:03.345357",
   "environment_variables": {},
   "exception": null,
   "input_path": "__notebook__.ipynb",
   "output_path": "__notebook__.ipynb",
   "parameters": {},
   "start_time": "2025-01-06T23:33:37.804293",
   "version": "2.6.0"
  }
 },
 "nbformat": 4,
 "nbformat_minor": 5
}
