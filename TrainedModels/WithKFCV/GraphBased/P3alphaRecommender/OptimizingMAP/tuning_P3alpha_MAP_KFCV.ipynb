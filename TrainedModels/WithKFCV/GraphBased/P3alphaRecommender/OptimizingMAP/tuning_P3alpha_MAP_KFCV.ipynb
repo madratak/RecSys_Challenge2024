{
 "cells": [
  {
   "cell_type": "markdown",
   "id": "ef3ee32b",
   "metadata": {
    "papermill": {
     "duration": 0.006809,
     "end_time": "2025-01-05T15:15:02.155901",
     "exception": false,
     "start_time": "2025-01-05T15:15:02.149092",
     "status": "completed"
    },
    "tags": []
   },
   "source": [
    "# Set connection with GitHub"
   ]
  },
  {
   "cell_type": "code",
   "execution_count": 1,
   "id": "3139354f",
   "metadata": {
    "execution": {
     "iopub.execute_input": "2025-01-05T15:15:02.169222Z",
     "iopub.status.busy": "2025-01-05T15:15:02.168835Z",
     "iopub.status.idle": "2025-01-05T15:15:02.174373Z",
     "shell.execute_reply": "2025-01-05T15:15:02.173110Z"
    },
    "papermill": {
     "duration": 0.014219,
     "end_time": "2025-01-05T15:15:02.176230",
     "exception": false,
     "start_time": "2025-01-05T15:15:02.162011",
     "status": "completed"
    },
    "tags": []
   },
   "outputs": [],
   "source": [
    "# ! cd /kaggle/working && rm -rf RECsys_Challenge2024"
   ]
  },
  {
   "cell_type": "code",
   "execution_count": 2,
   "id": "614c3631",
   "metadata": {
    "_cell_guid": "b1076dfc-b9ad-4769-8c92-a6c4dae69d19",
    "_uuid": "8f2839f25d086af736a60e9eeb907d3b93b6e0e5",
    "execution": {
     "iopub.execute_input": "2025-01-05T15:15:02.189922Z",
     "iopub.status.busy": "2025-01-05T15:15:02.189588Z",
     "iopub.status.idle": "2025-01-05T15:15:27.177243Z",
     "shell.execute_reply": "2025-01-05T15:15:27.175978Z"
    },
    "papermill": {
     "duration": 24.996596,
     "end_time": "2025-01-05T15:15:27.179293",
     "exception": false,
     "start_time": "2025-01-05T15:15:02.182697",
     "status": "completed"
    },
    "tags": []
   },
   "outputs": [
    {
     "name": "stdout",
     "output_type": "stream",
     "text": [
      "Cloning into 'RECsys_Challenge2024'...\r\n",
      "remote: Enumerating objects: 6294, done.\u001b[K\r\n",
      "remote: Counting objects: 100% (205/205), done.\u001b[K\r\n",
      "remote: Compressing objects: 100% (172/172), done.\u001b[K\r\n",
      "remote: Total 6294 (delta 71), reused 25 (delta 10), pack-reused 6089 (from 4)\u001b[K\r\n",
      "Receiving objects: 100% (6294/6294), 401.61 MiB | 20.28 MiB/s, done.\r\n",
      "Resolving deltas: 100% (3451/3451), done.\r\n",
      "Updating files: 100% (490/490), done.\r\n"
     ]
    }
   ],
   "source": [
    "from kaggle_secrets import UserSecretsClient\n",
    "\n",
    "token = UserSecretsClient().get_secret(\"Token\")\n",
    "\n",
    "! git clone https://{token}@github.com/madratak/RECsys_Challenge2024.git"
   ]
  },
  {
   "cell_type": "code",
   "execution_count": 3,
   "id": "e86a87fe",
   "metadata": {
    "execution": {
     "iopub.execute_input": "2025-01-05T15:15:27.203500Z",
     "iopub.status.busy": "2025-01-05T15:15:27.203070Z",
     "iopub.status.idle": "2025-01-05T15:15:34.046390Z",
     "shell.execute_reply": "2025-01-05T15:15:34.044662Z"
    },
    "papermill": {
     "duration": 6.857963,
     "end_time": "2025-01-05T15:15:34.048810",
     "exception": false,
     "start_time": "2025-01-05T15:15:27.190847",
     "status": "completed"
    },
    "tags": []
   },
   "outputs": [
    {
     "name": "stdout",
     "output_type": "stream",
     "text": [
      "Collecting PyGithub\r\n",
      "  Downloading PyGithub-2.5.0-py3-none-any.whl.metadata (3.9 kB)\r\n",
      "Requirement already satisfied: requests in /usr/local/lib/python3.10/dist-packages (2.32.3)\r\n",
      "Collecting pynacl>=1.4.0 (from PyGithub)\r\n",
      "  Downloading PyNaCl-1.5.0-cp36-abi3-manylinux_2_17_x86_64.manylinux2014_x86_64.manylinux_2_24_x86_64.whl.metadata (8.6 kB)\r\n",
      "Requirement already satisfied: pyjwt>=2.4.0 in /usr/local/lib/python3.10/dist-packages (from pyjwt[crypto]>=2.4.0->PyGithub) (2.9.0)\r\n",
      "Requirement already satisfied: typing-extensions>=4.0.0 in /usr/local/lib/python3.10/dist-packages (from PyGithub) (4.12.2)\r\n",
      "Requirement already satisfied: urllib3>=1.26.0 in /usr/local/lib/python3.10/dist-packages (from PyGithub) (2.2.3)\r\n",
      "Requirement already satisfied: Deprecated in /usr/local/lib/python3.10/dist-packages (from PyGithub) (1.2.15)\r\n",
      "Requirement already satisfied: charset-normalizer<4,>=2 in /usr/local/lib/python3.10/dist-packages (from requests) (3.3.2)\r\n",
      "Requirement already satisfied: idna<4,>=2.5 in /usr/local/lib/python3.10/dist-packages (from requests) (3.10)\r\n",
      "Requirement already satisfied: certifi>=2017.4.17 in /usr/local/lib/python3.10/dist-packages (from requests) (2024.8.30)\r\n",
      "Requirement already satisfied: cryptography>=3.4.0 in /usr/local/lib/python3.10/dist-packages (from pyjwt[crypto]>=2.4.0->PyGithub) (43.0.1)\r\n",
      "Requirement already satisfied: cffi>=1.4.1 in /usr/local/lib/python3.10/dist-packages (from pynacl>=1.4.0->PyGithub) (1.17.1)\r\n",
      "Requirement already satisfied: wrapt<2,>=1.10 in /usr/local/lib/python3.10/dist-packages (from Deprecated->PyGithub) (1.16.0)\r\n",
      "Requirement already satisfied: pycparser in /usr/local/lib/python3.10/dist-packages (from cffi>=1.4.1->pynacl>=1.4.0->PyGithub) (2.22)\r\n",
      "Downloading PyGithub-2.5.0-py3-none-any.whl (375 kB)\r\n",
      "\u001b[2K   \u001b[90m━━━━━━━━━━━━━━━━━━━━━━━━━━━━━━━━━━━━━━━━\u001b[0m \u001b[32m375.9/375.9 kB\u001b[0m \u001b[31m16.2 MB/s\u001b[0m eta \u001b[36m0:00:00\u001b[0m\r\n",
      "\u001b[?25hDownloading PyNaCl-1.5.0-cp36-abi3-manylinux_2_17_x86_64.manylinux2014_x86_64.manylinux_2_24_x86_64.whl (856 kB)\r\n",
      "\u001b[2K   \u001b[90m━━━━━━━━━━━━━━━━━━━━━━━━━━━━━━━━━━━━━━━━\u001b[0m \u001b[32m856.7/856.7 kB\u001b[0m \u001b[31m43.1 MB/s\u001b[0m eta \u001b[36m0:00:00\u001b[0m\r\n",
      "\u001b[?25hInstalling collected packages: pynacl, PyGithub\r\n",
      "Successfully installed PyGithub-2.5.0 pynacl-1.5.0\r\n"
     ]
    }
   ],
   "source": [
    "! pip install PyGithub requests"
   ]
  },
  {
   "cell_type": "code",
   "execution_count": 4,
   "id": "a1dc65ba",
   "metadata": {
    "_kg_hide-input": false,
    "execution": {
     "iopub.execute_input": "2025-01-05T15:15:34.075258Z",
     "iopub.status.busy": "2025-01-05T15:15:34.074886Z",
     "iopub.status.idle": "2025-01-05T15:18:24.760060Z",
     "shell.execute_reply": "2025-01-05T15:18:24.758523Z"
    },
    "papermill": {
     "duration": 170.700783,
     "end_time": "2025-01-05T15:18:24.762772",
     "exception": false,
     "start_time": "2025-01-05T15:15:34.061989",
     "status": "completed"
    },
    "tags": []
   },
   "outputs": [
    {
     "name": "stdout",
     "output_type": "stream",
     "text": [
      "/kaggle/working/RECsys_Challenge2024\n",
      "run_compile_all_cython: Found 11 Cython files in 5 folders...\r\n",
      "run_compile_all_cython: All files will be compiled using your current python environment: '/usr/bin/python3'\r\n",
      "Compiling [1/11]: MatrixFactorization_Cython_Epoch.pyx... \r\n",
      "In file included from \u001b[01m\u001b[K/usr/local/lib/python3.10/dist-packages/numpy/core/include/numpy/ndarraytypes.h:1929\u001b[m\u001b[K,\r\n",
      "                 from \u001b[01m\u001b[K/usr/local/lib/python3.10/dist-packages/numpy/core/include/numpy/ndarrayobject.h:12\u001b[m\u001b[K,\r\n",
      "                 from \u001b[01m\u001b[K/usr/local/lib/python3.10/dist-packages/numpy/core/include/numpy/arrayobject.h:5\u001b[m\u001b[K,\r\n",
      "                 from \u001b[01m\u001b[KMatrixFactorization_Cython_Epoch.c:1252\u001b[m\u001b[K:\r\n",
      "\u001b[01m\u001b[K/usr/local/lib/python3.10/dist-packages/numpy/core/include/numpy/npy_1_7_deprecated_api.h:17:2:\u001b[m\u001b[K \u001b[01;35m\u001b[Kwarning: \u001b[m\u001b[K#warning \"Using deprecated NumPy API, disable it with \" \"#define NPY_NO_DEPRECATED_API NPY_1_7_API_VERSION\" [\u001b[01;35m\u001b[K\u001b]8;;https://gcc.gnu.org/onlinedocs/gcc/Warning-Options.html#index-Wcpp\u0007-Wcpp\u001b]8;;\u0007\u001b[m\u001b[K]\r\n",
      "   17 | #\u001b[01;35m\u001b[Kwarning\u001b[m\u001b[K \"Using deprecated NumPy API, disable it with \" \\\r\n",
      "      |  \u001b[01;35m\u001b[K^~~~~~~\u001b[m\u001b[K\r\n",
      "\u001b[01m\u001b[KMatrixFactorization_Cython_Epoch.c:\u001b[m\u001b[K In function ‘\u001b[01m\u001b[K__pyx_pf_32MatrixFactorization_Cython_Epoch_32MatrixFactorization_Cython_Epoch_10epochIteration_Cython_ASY_SVD_SGD\u001b[m\u001b[K’:\r\n",
      "\u001b[01m\u001b[KMatrixFactorization_Cython_Epoch.c:26256:68:\u001b[m\u001b[K \u001b[01;35m\u001b[Kwarning: \u001b[m\u001b[K‘\u001b[01m\u001b[K__pyx_v_end_pos_seen_items\u001b[m\u001b[K’ may be used uninitialized in this function [\u001b[01;35m\u001b[K\u001b]8;;https://gcc.gnu.org/onlinedocs/gcc/Warning-Options.html#index-Wmaybe-uninitialized\u0007-Wmaybe-uninitialized\u001b]8;;\u0007\u001b[m\u001b[K]\r\n",
      "26256 |         for (__pyx_t_22 = __pyx_v_start_pos_seen_items; \u001b[01;35m\u001b[K__pyx_t_22 < __pyx_t_21\u001b[m\u001b[K; __pyx_t_22+=1) {\r\n",
      "      |                                                         \u001b[01;35m\u001b[K~~~~~~~~~~~^~~~~~~~~~~~\u001b[m\u001b[K\r\n",
      "\u001b[01m\u001b[KMatrixFactorization_Cython_Epoch.c:26256:68:\u001b[m\u001b[K \u001b[01;35m\u001b[Kwarning: \u001b[m\u001b[K‘\u001b[01m\u001b[K__pyx_v_start_pos_seen_items\u001b[m\u001b[K’ may be used uninitialized in this function [\u001b[01;35m\u001b[K\u001b]8;;https://gcc.gnu.org/onlinedocs/gcc/Warning-Options.html#index-Wmaybe-uninitialized\u0007-Wmaybe-uninitialized\u001b]8;;\u0007\u001b[m\u001b[K]\r\n",
      "/usr/local/lib/python3.10/dist-packages/Cython/Compiler/Main.py:381: FutureWarning: Cython directive 'language_level' not set, using '3str' for now (Py3). This has changed from earlier releases! File: /kaggle/working/RECsys_Challenge2024/Recommenders/MatrixFactorization/Cython/MatrixFactorization_Cython_Epoch.pyx\r\n",
      "  tree = Parsing.p_module(s, pxd, full_module_name)\r\n",
      "Compiling [1/11]: MatrixFactorization_Cython_Epoch.pyx... PASS\r\n",
      "\r\n",
      "Compiling [2/11]: MatrixFactorizationImpressions_Cython_Epoch.pyx... \r\n",
      "In file included from \u001b[01m\u001b[K/usr/local/lib/python3.10/dist-packages/numpy/core/include/numpy/ndarraytypes.h:1929\u001b[m\u001b[K,\r\n",
      "                 from \u001b[01m\u001b[K/usr/local/lib/python3.10/dist-packages/numpy/core/include/numpy/ndarrayobject.h:12\u001b[m\u001b[K,\r\n",
      "                 from \u001b[01m\u001b[K/usr/local/lib/python3.10/dist-packages/numpy/core/include/numpy/arrayobject.h:5\u001b[m\u001b[K,\r\n",
      "                 from \u001b[01m\u001b[KMatrixFactorizationImpressions_Cython_Epoch.c:1252\u001b[m\u001b[K:\r\n",
      "\u001b[01m\u001b[K/usr/local/lib/python3.10/dist-packages/numpy/core/include/numpy/npy_1_7_deprecated_api.h:17:2:\u001b[m\u001b[K \u001b[01;35m\u001b[Kwarning: \u001b[m\u001b[K#warning \"Using deprecated NumPy API, disable it with \" \"#define NPY_NO_DEPRECATED_API NPY_1_7_API_VERSION\" [\u001b[01;35m\u001b[K\u001b]8;;https://gcc.gnu.org/onlinedocs/gcc/Warning-Options.html#index-Wcpp\u0007-Wcpp\u001b]8;;\u0007\u001b[m\u001b[K]\r\n",
      "   17 | #\u001b[01;35m\u001b[Kwarning\u001b[m\u001b[K \"Using deprecated NumPy API, disable it with \" \\\r\n",
      "      |  \u001b[01;35m\u001b[K^~~~~~~\u001b[m\u001b[K\r\n",
      "\u001b[01m\u001b[KMatrixFactorizationImpressions_Cython_Epoch.c:\u001b[m\u001b[K In function ‘\u001b[01m\u001b[K__pyx_f_43MatrixFactorizationImpressions_Cython_Epoch_32MatrixFactorization_Cython_Epoch_sampleBPR_Cython\u001b[m\u001b[K’:\r\n",
      "\u001b[01m\u001b[KMatrixFactorizationImpressions_Cython_Epoch.c:30353:17:\u001b[m\u001b[K \u001b[01;35m\u001b[Kwarning: \u001b[m\u001b[K‘\u001b[01m\u001b[K__pyx_v_start_pos_impression_items\u001b[m\u001b[K’ may be used uninitialized in this function [\u001b[01;35m\u001b[K\u001b]8;;https://gcc.gnu.org/onlinedocs/gcc/Warning-Options.html#index-Wmaybe-uninitialized\u0007-Wmaybe-uninitialized\u001b]8;;\u0007\u001b[m\u001b[K]\r\n",
      "30353 |       \u001b[01;35m\u001b[K__pyx_t_4 = (__pyx_v_start_pos_impression_items + __pyx_v_index)\u001b[m\u001b[K;\r\n",
      "      |       \u001b[01;35m\u001b[K~~~~~~~~~~^~~~~~~~~~~~~~~~~~~~~~~~~~~~~~~~~~~~~~~~~~~~~~~~~~~~~~\u001b[m\u001b[K\r\n",
      "\u001b[01m\u001b[KMatrixFactorizationImpressions_Cython_Epoch.c:\u001b[m\u001b[K In function ‘\u001b[01m\u001b[K__pyx_pf_43MatrixFactorizationImpressions_Cython_Epoch_32MatrixFactorization_Cython_Epoch_10epochIteration_Cython_ASY_SVD_SGD\u001b[m\u001b[K’:\r\n",
      "\u001b[01m\u001b[KMatrixFactorizationImpressions_Cython_Epoch.c:26112:66:\u001b[m\u001b[K \u001b[01;35m\u001b[Kwarning: \u001b[m\u001b[K‘\u001b[01m\u001b[K__pyx_v_end_pos_seen_items\u001b[m\u001b[K’ may be used uninitialized in this function [\u001b[01;35m\u001b[K\u001b]8;;https://gcc.gnu.org/onlinedocs/gcc/Warning-Options.html#index-Wmaybe-uninitialized\u0007-Wmaybe-uninitialized\u001b]8;;\u0007\u001b[m\u001b[K]\r\n",
      "26112 |       for (__pyx_t_22 = __pyx_v_start_pos_seen_items; \u001b[01;35m\u001b[K__pyx_t_22 < __pyx_t_21\u001b[m\u001b[K; __pyx_t_22+=1) {\r\n",
      "      |                                                       \u001b[01;35m\u001b[K~~~~~~~~~~~^~~~~~~~~~~~\u001b[m\u001b[K\r\n",
      "\u001b[01m\u001b[KMatrixFactorizationImpressions_Cython_Epoch.c:26112:66:\u001b[m\u001b[K \u001b[01;35m\u001b[Kwarning: \u001b[m\u001b[K‘\u001b[01m\u001b[K__pyx_v_start_pos_seen_items\u001b[m\u001b[K’ may be used uninitialized in this function [\u001b[01;35m\u001b[K\u001b]8;;https://gcc.gnu.org/onlinedocs/gcc/Warning-Options.html#index-Wmaybe-uninitialized\u0007-Wmaybe-uninitialized\u001b]8;;\u0007\u001b[m\u001b[K]\r\n",
      "/usr/local/lib/python3.10/dist-packages/Cython/Compiler/Main.py:381: FutureWarning: Cython directive 'language_level' not set, using '3str' for now (Py3). This has changed from earlier releases! File: /kaggle/working/RECsys_Challenge2024/Recommenders/MatrixFactorization/Cython/MatrixFactorizationImpressions_Cython_Epoch.pyx\r\n",
      "  tree = Parsing.p_module(s, pxd, full_module_name)\r\n",
      "Compiling [2/11]: MatrixFactorizationImpressions_Cython_Epoch.pyx... PASS\r\n",
      "\r\n",
      "Compiling [3/11]: Compute_Similarity_Cython.pyx... \r\n",
      "warning: Compute_Similarity_Cython.pyx:21:0: The 'IF' statement is deprecated and will be removed in a future Cython version. Consider using runtime conditions or C macros instead. See https://github.com/cython/cython/issues/4310\r\n",
      "In file included from \u001b[01m\u001b[K/usr/local/lib/python3.10/dist-packages/numpy/core/include/numpy/ndarraytypes.h:1929\u001b[m\u001b[K,\r\n",
      "                 from \u001b[01m\u001b[K/usr/local/lib/python3.10/dist-packages/numpy/core/include/numpy/ndarrayobject.h:12\u001b[m\u001b[K,\r\n",
      "                 from \u001b[01m\u001b[K/usr/local/lib/python3.10/dist-packages/numpy/core/include/numpy/arrayobject.h:5\u001b[m\u001b[K,\r\n",
      "                 from \u001b[01m\u001b[KCompute_Similarity_Cython.c:1252\u001b[m\u001b[K:\r\n",
      "\u001b[01m\u001b[K/usr/local/lib/python3.10/dist-packages/numpy/core/include/numpy/npy_1_7_deprecated_api.h:17:2:\u001b[m\u001b[K \u001b[01;35m\u001b[Kwarning: \u001b[m\u001b[K#warning \"Using deprecated NumPy API, disable it with \" \"#define NPY_NO_DEPRECATED_API NPY_1_7_API_VERSION\" [\u001b[01;35m\u001b[K\u001b]8;;https://gcc.gnu.org/onlinedocs/gcc/Warning-Options.html#index-Wcpp\u0007-Wcpp\u001b]8;;\u0007\u001b[m\u001b[K]\r\n",
      "   17 | #\u001b[01;35m\u001b[Kwarning\u001b[m\u001b[K \"Using deprecated NumPy API, disable it with \" \\\r\n",
      "      |  \u001b[01;35m\u001b[K^~~~~~~\u001b[m\u001b[K\r\n",
      "/usr/local/lib/python3.10/dist-packages/Cython/Compiler/Main.py:381: FutureWarning: Cython directive 'language_level' not set, using '3str' for now (Py3). This has changed from earlier releases! File: /kaggle/working/RECsys_Challenge2024/Recommenders/Similarity/Cython/Compute_Similarity_Cython.pyx\r\n",
      "  tree = Parsing.p_module(s, pxd, full_module_name)\r\n",
      "warning: Compute_Similarity_Cython.pyx:21:0: The 'IF' statement is deprecated and will be removed in a future Cython version. Consider using runtime conditions or C macros instead. See https://github.com/cython/cython/issues/4310\r\n",
      "Compiling [3/11]: Compute_Similarity_Cython.pyx... PASS\r\n",
      "\r\n",
      "Compiling [4/11]: Triangular_Matrix.pyx... \r\n",
      "warning: Triangular_Matrix.pyx:22:0: The 'IF' statement is deprecated and will be removed in a future Cython version. Consider using runtime conditions or C macros instead. See https://github.com/cython/cython/issues/4310\r\n",
      "In file included from \u001b[01m\u001b[K/usr/local/lib/python3.10/dist-packages/numpy/core/include/numpy/ndarraytypes.h:1929\u001b[m\u001b[K,\r\n",
      "                 from \u001b[01m\u001b[K/usr/local/lib/python3.10/dist-packages/numpy/core/include/numpy/ndarrayobject.h:12\u001b[m\u001b[K,\r\n",
      "                 from \u001b[01m\u001b[K/usr/local/lib/python3.10/dist-packages/numpy/core/include/numpy/arrayobject.h:5\u001b[m\u001b[K,\r\n",
      "                 from \u001b[01m\u001b[KTriangular_Matrix.c:1252\u001b[m\u001b[K:\r\n",
      "\u001b[01m\u001b[K/usr/local/lib/python3.10/dist-packages/numpy/core/include/numpy/npy_1_7_deprecated_api.h:17:2:\u001b[m\u001b[K \u001b[01;35m\u001b[Kwarning: \u001b[m\u001b[K#warning \"Using deprecated NumPy API, disable it with \" \"#define NPY_NO_DEPRECATED_API NPY_1_7_API_VERSION\" [\u001b[01;35m\u001b[K\u001b]8;;https://gcc.gnu.org/onlinedocs/gcc/Warning-Options.html#index-Wcpp\u0007-Wcpp\u001b]8;;\u0007\u001b[m\u001b[K]\r\n",
      "   17 | #\u001b[01;35m\u001b[Kwarning\u001b[m\u001b[K \"Using deprecated NumPy API, disable it with \" \\\r\n",
      "      |  \u001b[01;35m\u001b[K^~~~~~~\u001b[m\u001b[K\r\n",
      "In function ‘\u001b[01m\u001b[K__pyx_pf_17Triangular_Matrix_17Triangular_Matrix___init__\u001b[m\u001b[K’,\r\n",
      "    inlined from ‘\u001b[01m\u001b[K__pyx_pw_17Triangular_Matrix_17Triangular_Matrix_1__init__\u001b[m\u001b[K’ at \u001b[01m\u001b[KTriangular_Matrix.c:5541:13\u001b[m\u001b[K:\r\n",
      "\u001b[01m\u001b[KTriangular_Matrix.c:5599:43:\u001b[m\u001b[K \u001b[01;35m\u001b[Kwarning: \u001b[m\u001b[Kargument 1 value ‘\u001b[01m\u001b[K18446744073709551608\u001b[m\u001b[K’ exceeds maximum object size 9223372036854775807 [\u001b[01;35m\u001b[K\u001b]8;;https://gcc.gnu.org/onlinedocs/gcc/Warning-Options.html#index-Walloc-size-larger-than=\u0007-Walloc-size-larger-than=\u001b]8;;\u0007\u001b[m\u001b[K]\r\n",
      " 5599 |   __pyx_v_self->row_pointer = ((double **)\u001b[01;35m\u001b[Kmalloc((__pyx_v_self->num_rows * (sizeof(double *))))\u001b[m\u001b[K);\r\n",
      "      |                                           \u001b[01;35m\u001b[K^~~~~~~~~~~~~~~~~~~~~~~~~~~~~~~~~~~~~~~~~~~~~~~~~~~~~\u001b[m\u001b[K\r\n",
      "In file included from \u001b[01m\u001b[K/usr/include/python3.10/Python.h:34\u001b[m\u001b[K,\r\n",
      "                 from \u001b[01m\u001b[KTriangular_Matrix.c:41\u001b[m\u001b[K:\r\n",
      "\u001b[01m\u001b[KTriangular_Matrix.c:\u001b[m\u001b[K In function ‘\u001b[01m\u001b[K__pyx_pw_17Triangular_Matrix_17Triangular_Matrix_1__init__\u001b[m\u001b[K’:\r\n",
      "\u001b[01m\u001b[K/usr/include/stdlib.h:540:14:\u001b[m\u001b[K \u001b[01;36m\u001b[Knote: \u001b[m\u001b[Kin a call to allocation function ‘\u001b[01m\u001b[Kmalloc\u001b[m\u001b[K’ declared here\r\n",
      "  540 | extern void *\u001b[01;36m\u001b[Kmalloc\u001b[m\u001b[K (size_t __size) __THROW __attribute_malloc__\r\n",
      "      |              \u001b[01;36m\u001b[K^~~~~~\u001b[m\u001b[K\r\n",
      "/usr/local/lib/python3.10/dist-packages/Cython/Compiler/Main.py:381: FutureWarning: Cython directive 'language_level' not set, using '3str' for now (Py3). This has changed from earlier releases! File: /kaggle/working/RECsys_Challenge2024/Recommenders/SLIM/Cython/Triangular_Matrix.pyx\r\n",
      "  tree = Parsing.p_module(s, pxd, full_module_name)\r\n",
      "warning: Triangular_Matrix.pyx:22:0: The 'IF' statement is deprecated and will be removed in a future Cython version. Consider using runtime conditions or C macros instead. See https://github.com/cython/cython/issues/4310\r\n",
      "Compiling [4/11]: Triangular_Matrix.pyx... PASS\r\n",
      "\r\n",
      "Compiling [5/11]: Sparse_Matrix_Tree_CSR.pyx... \r\n",
      "warning: Sparse_Matrix_Tree_CSR.pyx:132:34: Non-trivial type declarators in shared declaration (e.g. mix of pointers and values). Each pointer declaration should be on its own line.\r\n",
      "warning: Sparse_Matrix_Tree_CSR.pyx:132:66: Non-trivial type declarators in shared declaration (e.g. mix of pointers and values). Each pointer declaration should be on its own line.\r\n",
      "warning: Sparse_Matrix_Tree_CSR.pyx:343:35: Non-trivial type declarators in shared declaration (e.g. mix of pointers and values). Each pointer declaration should be on its own line.\r\n",
      "warning: Sparse_Matrix_Tree_CSR.pyx:343:52: Non-trivial type declarators in shared declaration (e.g. mix of pointers and values). Each pointer declaration should be on its own line.\r\n",
      "warning: Sparse_Matrix_Tree_CSR.pyx:442:35: Non-trivial type declarators in shared declaration (e.g. mix of pointers and values). Each pointer declaration should be on its own line.\r\n",
      "warning: Sparse_Matrix_Tree_CSR.pyx:442:53: Non-trivial type declarators in shared declaration (e.g. mix of pointers and values). Each pointer declaration should be on its own line.\r\n",
      "warning: Sparse_Matrix_Tree_CSR.pyx:442:69: Non-trivial type declarators in shared declaration (e.g. mix of pointers and values). Each pointer declaration should be on its own line.\r\n",
      "warning: Sparse_Matrix_Tree_CSR.pyx:577:35: Non-trivial type declarators in shared declaration (e.g. mix of pointers and values). Each pointer declaration should be on its own line.\r\n",
      "warning: Sparse_Matrix_Tree_CSR.pyx:577:42: Non-trivial type declarators in shared declaration (e.g. mix of pointers and values). Each pointer declaration should be on its own line.\r\n",
      "warning: Sparse_Matrix_Tree_CSR.pyx:578:35: Non-trivial type declarators in shared declaration (e.g. mix of pointers and values). Each pointer declaration should be on its own line.\r\n",
      "warning: Sparse_Matrix_Tree_CSR.pyx:578:53: Non-trivial type declarators in shared declaration (e.g. mix of pointers and values). Each pointer declaration should be on its own line.\r\n",
      "\r\n",
      "Error compiling Cython file:\r\n",
      "------------------------------------------------------------\r\n",
      "...\r\n",
      "            vector_pointer_to_list_elements[index].head = current_element\r\n",
      "            current_element = current_element.higher\r\n",
      "\r\n",
      "\r\n",
      "        # Sort array elements on their data field\r\n",
      "        qsort(vector_pointer_to_list_elements, list_length, sizeof(head_pointer_tree_s), compare_struct_on_data)\r\n",
      "                                                                                         ^\r\n",
      "------------------------------------------------------------\r\n",
      "\r\n",
      "Sparse_Matrix_Tree_CSR.pyx:516:89: Cannot assign type 'int (const void *, const void *) except? -1' to 'int (*)(const_void *, const_void *) noexcept'. Exception values are incompatible. Suggest adding 'noexcept' to the type of 'compare_struct_on_data'.\r\n",
      "\r\n",
      "Error compiling Cython file:\r\n",
      "------------------------------------------------------------\r\n",
      "...\r\n",
      "        # Sort array elements on their data field\r\n",
      "        qsort(vector_pointer_to_list_elements, list_length, sizeof(head_pointer_tree_s), compare_struct_on_data)\r\n",
      "\r\n",
      "        # Sort only the TopK according to their column field\r\n",
      "        # Sort is from lower to higher, therefore the elements to be considered are from len-topK to len\r\n",
      "        qsort(&vector_pointer_to_list_elements[list_length-TopK], TopK, sizeof(head_pointer_tree_s), compare_struct_on_column)\r\n",
      "                                                                                                     ^\r\n",
      "------------------------------------------------------------\r\n",
      "\r\n",
      "Sparse_Matrix_Tree_CSR.pyx:520:101: Cannot assign type 'int (const void *, const void *) except? -1' to 'int (*)(const_void *, const_void *) noexcept'. Exception values are incompatible. Suggest adding 'noexcept' to the type of 'compare_struct_on_column'.\r\n",
      "Traceback (most recent call last):\r\n",
      "  File \"/kaggle/working/RECsys_Challenge2024/CythonCompiler/compile_script.py\", line 48, in <module>\r\n",
      "    setup(\r\n",
      "  File \"/usr/local/lib/python3.10/dist-packages/setuptools/__init__.py\", line 108, in setup\r\n",
      "    return distutils.core.setup(**attrs)\r\n",
      "  File \"/usr/local/lib/python3.10/dist-packages/setuptools/_distutils/core.py\", line 184, in setup\r\n",
      "    return run_commands(dist)\r\n",
      "  File \"/usr/local/lib/python3.10/dist-packages/setuptools/_distutils/core.py\", line 200, in run_commands\r\n",
      "    dist.run_commands()\r\n",
      "  File \"/usr/local/lib/python3.10/dist-packages/setuptools/_distutils/dist.py\", line 970, in run_commands\r\n",
      "    self.run_command(cmd)\r\n",
      "  File \"/usr/local/lib/python3.10/dist-packages/setuptools/dist.py\", line 956, in run_command\r\n",
      "    super().run_command(command)\r\n",
      "  File \"/usr/local/lib/python3.10/dist-packages/setuptools/_distutils/dist.py\", line 989, in run_command\r\n",
      "    cmd_obj.run()\r\n",
      "  File \"/usr/local/lib/python3.10/dist-packages/setuptools/_distutils/command/build_ext.py\", line 359, in run\r\n",
      "    self.build_extensions()\r\n",
      "  File \"/usr/local/lib/python3.10/dist-packages/setuptools/_distutils/command/build_ext.py\", line 479, in build_extensions\r\n",
      "    self._build_extensions_serial()\r\n",
      "  File \"/usr/local/lib/python3.10/dist-packages/setuptools/_distutils/command/build_ext.py\", line 505, in _build_extensions_serial\r\n",
      "    self.build_extension(ext)\r\n",
      "  File \"/usr/local/lib/python3.10/dist-packages/Cython/Distutils/build_ext.py\", line 130, in build_extension\r\n",
      "    new_ext = cythonize(\r\n",
      "  File \"/usr/local/lib/python3.10/dist-packages/Cython/Build/Dependencies.py\", line 1154, in cythonize\r\n",
      "    cythonize_one(*args)\r\n",
      "  File \"/usr/local/lib/python3.10/dist-packages/Cython/Build/Dependencies.py\", line 1321, in cythonize_one\r\n",
      "    raise CompileError(None, pyx_file)\r\n",
      "Cython.Compiler.Errors.CompileError: Sparse_Matrix_Tree_CSR.pyx\r\n",
      "Traceback (most recent call last):\r\n",
      "  File \"/kaggle/working/RECsys_Challenge2024/run_compile_all_cython.py\", line 60, in <module>\r\n",
      "    run_compile_subprocess(file_path, [file_name])\r\n",
      "  File \"/kaggle/working/RECsys_Challenge2024/CythonCompiler/run_compile_subprocess.py\", line 51, in run_compile_subprocess\r\n",
      "    raise exc\r\n",
      "  File \"/kaggle/working/RECsys_Challenge2024/CythonCompiler/run_compile_subprocess.py\", line 32, in run_compile_subprocess\r\n",
      "    output = subprocess.check_output(' '.join(command),\r\n",
      "  File \"/usr/lib/python3.10/subprocess.py\", line 421, in check_output\r\n",
      "    return run(*popenargs, stdout=PIPE, timeout=timeout, check=True,\r\n",
      "  File \"/usr/lib/python3.10/subprocess.py\", line 526, in run\r\n",
      "    raise CalledProcessError(retcode, process.args,\r\n",
      "subprocess.CalledProcessError: Command '/usr/bin/python3 /kaggle/working/RECsys_Challenge2024/CythonCompiler/compile_script.py Sparse_Matrix_Tree_CSR.pyx build_ext --inplace' returned non-zero exit status 1.\r\n",
      "Compiling [5/11]: Sparse_Matrix_Tree_CSR.pyx... FAIL: Command '/usr/bin/python3 /kaggle/working/RECsys_Challenge2024/CythonCompiler/compile_script.py Sparse_Matrix_Tree_CSR.pyx build_ext --inplace' returned non-zero exit status 1.\r\n",
      "\r\n",
      "Compiling [6/11]: SLIM_BPR_Cython_Epoch.pyx... \r\n",
      "warning: SLIM_BPR_Cython_Epoch.pyx:24:0: The 'IF' statement is deprecated and will be removed in a future Cython version. Consider using runtime conditions or C macros instead. See https://github.com/cython/cython/issues/4310\r\n",
      "warning: SLIM_BPR_Cython_Epoch.pyx:632:34: Non-trivial type declarators in shared declaration (e.g. mix of pointers and values). Each pointer declaration should be on its own line.\r\n",
      "warning: SLIM_BPR_Cython_Epoch.pyx:632:66: Non-trivial type declarators in shared declaration (e.g. mix of pointers and values). Each pointer declaration should be on its own line.\r\n",
      "warning: SLIM_BPR_Cython_Epoch.pyx:817:35: Non-trivial type declarators in shared declaration (e.g. mix of pointers and values). Each pointer declaration should be on its own line.\r\n",
      "warning: SLIM_BPR_Cython_Epoch.pyx:817:52: Non-trivial type declarators in shared declaration (e.g. mix of pointers and values). Each pointer declaration should be on its own line.\r\n",
      "warning: SLIM_BPR_Cython_Epoch.pyx:916:35: Non-trivial type declarators in shared declaration (e.g. mix of pointers and values). Each pointer declaration should be on its own line.\r\n",
      "warning: SLIM_BPR_Cython_Epoch.pyx:916:53: Non-trivial type declarators in shared declaration (e.g. mix of pointers and values). Each pointer declaration should be on its own line.\r\n",
      "warning: SLIM_BPR_Cython_Epoch.pyx:916:69: Non-trivial type declarators in shared declaration (e.g. mix of pointers and values). Each pointer declaration should be on its own line.\r\n",
      "warning: SLIM_BPR_Cython_Epoch.pyx:1051:35: Non-trivial type declarators in shared declaration (e.g. mix of pointers and values). Each pointer declaration should be on its own line.\r\n",
      "warning: SLIM_BPR_Cython_Epoch.pyx:1051:42: Non-trivial type declarators in shared declaration (e.g. mix of pointers and values). Each pointer declaration should be on its own line.\r\n",
      "warning: SLIM_BPR_Cython_Epoch.pyx:1052:35: Non-trivial type declarators in shared declaration (e.g. mix of pointers and values). Each pointer declaration should be on its own line.\r\n",
      "warning: SLIM_BPR_Cython_Epoch.pyx:1052:53: Non-trivial type declarators in shared declaration (e.g. mix of pointers and values). Each pointer declaration should be on its own line.\r\n",
      "\r\n",
      "Error compiling Cython file:\r\n",
      "------------------------------------------------------------\r\n",
      "...\r\n",
      "            vector_pointer_to_list_elements[index].head = current_element\r\n",
      "            current_element = current_element.higher\r\n",
      "\r\n",
      "\r\n",
      "        # Sort array elements on their data field\r\n",
      "        qsort(vector_pointer_to_list_elements, list_length, sizeof(head_pointer_tree_s), compare_struct_on_data)\r\n",
      "                                                                                         ^\r\n",
      "------------------------------------------------------------\r\n",
      "\r\n",
      "SLIM_BPR_Cython_Epoch.pyx:990:89: Cannot assign type 'int (const void *, const void *) except? -1' to 'int (*)(const_void *, const_void *) noexcept'. Exception values are incompatible. Suggest adding 'noexcept' to the type of 'compare_struct_on_data'.\r\n",
      "\r\n",
      "Error compiling Cython file:\r\n",
      "------------------------------------------------------------\r\n",
      "...\r\n",
      "        # Sort array elements on their data field\r\n",
      "        qsort(vector_pointer_to_list_elements, list_length, sizeof(head_pointer_tree_s), compare_struct_on_data)\r\n",
      "\r\n",
      "        # Sort only the TopK according to their column field\r\n",
      "        # Sort is from lower to higher, therefore the elements to be considered are from len-topK to len\r\n",
      "        qsort(&vector_pointer_to_list_elements[list_length-TopK], TopK, sizeof(head_pointer_tree_s), compare_struct_on_column)\r\n",
      "                                                                                                     ^\r\n",
      "------------------------------------------------------------\r\n",
      "\r\n",
      "SLIM_BPR_Cython_Epoch.pyx:994:101: Cannot assign type 'int (const void *, const void *) except? -1' to 'int (*)(const_void *, const_void *) noexcept'. Exception values are incompatible. Suggest adding 'noexcept' to the type of 'compare_struct_on_column'.\r\n",
      "Traceback (most recent call last):\r\n",
      "  File \"/kaggle/working/RECsys_Challenge2024/CythonCompiler/compile_script.py\", line 48, in <module>\r\n",
      "    setup(\r\n",
      "  File \"/usr/local/lib/python3.10/dist-packages/setuptools/__init__.py\", line 108, in setup\r\n",
      "    return distutils.core.setup(**attrs)\r\n",
      "  File \"/usr/local/lib/python3.10/dist-packages/setuptools/_distutils/core.py\", line 184, in setup\r\n",
      "    return run_commands(dist)\r\n",
      "  File \"/usr/local/lib/python3.10/dist-packages/setuptools/_distutils/core.py\", line 200, in run_commands\r\n",
      "    dist.run_commands()\r\n",
      "  File \"/usr/local/lib/python3.10/dist-packages/setuptools/_distutils/dist.py\", line 970, in run_commands\r\n",
      "    self.run_command(cmd)\r\n",
      "  File \"/usr/local/lib/python3.10/dist-packages/setuptools/dist.py\", line 956, in run_command\r\n",
      "    super().run_command(command)\r\n",
      "  File \"/usr/local/lib/python3.10/dist-packages/setuptools/_distutils/dist.py\", line 989, in run_command\r\n",
      "    cmd_obj.run()\r\n",
      "  File \"/usr/local/lib/python3.10/dist-packages/setuptools/_distutils/command/build_ext.py\", line 359, in run\r\n",
      "    self.build_extensions()\r\n",
      "  File \"/usr/local/lib/python3.10/dist-packages/setuptools/_distutils/command/build_ext.py\", line 479, in build_extensions\r\n",
      "    self._build_extensions_serial()\r\n",
      "  File \"/usr/local/lib/python3.10/dist-packages/setuptools/_distutils/command/build_ext.py\", line 505, in _build_extensions_serial\r\n",
      "    self.build_extension(ext)\r\n",
      "  File \"/usr/local/lib/python3.10/dist-packages/Cython/Distutils/build_ext.py\", line 130, in build_extension\r\n",
      "    new_ext = cythonize(\r\n",
      "  File \"/usr/local/lib/python3.10/dist-packages/Cython/Build/Dependencies.py\", line 1154, in cythonize\r\n",
      "    cythonize_one(*args)\r\n",
      "  File \"/usr/local/lib/python3.10/dist-packages/Cython/Build/Dependencies.py\", line 1321, in cythonize_one\r\n",
      "    raise CompileError(None, pyx_file)\r\n",
      "Cython.Compiler.Errors.CompileError: SLIM_BPR_Cython_Epoch.pyx\r\n",
      "Traceback (most recent call last):\r\n",
      "  File \"/kaggle/working/RECsys_Challenge2024/run_compile_all_cython.py\", line 60, in <module>\r\n",
      "    run_compile_subprocess(file_path, [file_name])\r\n",
      "  File \"/kaggle/working/RECsys_Challenge2024/CythonCompiler/run_compile_subprocess.py\", line 51, in run_compile_subprocess\r\n",
      "    raise exc\r\n",
      "  File \"/kaggle/working/RECsys_Challenge2024/CythonCompiler/run_compile_subprocess.py\", line 32, in run_compile_subprocess\r\n",
      "    output = subprocess.check_output(' '.join(command),\r\n",
      "  File \"/usr/lib/python3.10/subprocess.py\", line 421, in check_output\r\n",
      "    return run(*popenargs, stdout=PIPE, timeout=timeout, check=True,\r\n",
      "  File \"/usr/lib/python3.10/subprocess.py\", line 526, in run\r\n",
      "    raise CalledProcessError(retcode, process.args,\r\n",
      "subprocess.CalledProcessError: Command '/usr/bin/python3 /kaggle/working/RECsys_Challenge2024/CythonCompiler/compile_script.py SLIM_BPR_Cython_Epoch.pyx build_ext --inplace' returned non-zero exit status 1.\r\n",
      "Compiling [6/11]: SLIM_BPR_Cython_Epoch.pyx... FAIL: Command '/usr/bin/python3 /kaggle/working/RECsys_Challenge2024/CythonCompiler/compile_script.py SLIM_BPR_Cython_Epoch.pyx build_ext --inplace' returned non-zero exit status 1.\r\n",
      "\r\n",
      "Compiling [7/11]: CFW_DVV_Similarity_Cython_SGD.pyx... \r\n",
      "In file included from \u001b[01m\u001b[K/usr/local/lib/python3.10/dist-packages/numpy/core/include/numpy/ndarraytypes.h:1929\u001b[m\u001b[K,\r\n",
      "                 from \u001b[01m\u001b[K/usr/local/lib/python3.10/dist-packages/numpy/core/include/numpy/ndarrayobject.h:12\u001b[m\u001b[K,\r\n",
      "                 from \u001b[01m\u001b[K/usr/local/lib/python3.10/dist-packages/numpy/core/include/numpy/arrayobject.h:5\u001b[m\u001b[K,\r\n",
      "                 from \u001b[01m\u001b[KCFW_DVV_Similarity_Cython_SGD.c:1252\u001b[m\u001b[K:\r\n",
      "\u001b[01m\u001b[K/usr/local/lib/python3.10/dist-packages/numpy/core/include/numpy/npy_1_7_deprecated_api.h:17:2:\u001b[m\u001b[K \u001b[01;35m\u001b[Kwarning: \u001b[m\u001b[K#warning \"Using deprecated NumPy API, disable it with \" \"#define NPY_NO_DEPRECATED_API NPY_1_7_API_VERSION\" [\u001b[01;35m\u001b[K\u001b]8;;https://gcc.gnu.org/onlinedocs/gcc/Warning-Options.html#index-Wcpp\u0007-Wcpp\u001b]8;;\u0007\u001b[m\u001b[K]\r\n",
      "   17 | #\u001b[01;35m\u001b[Kwarning\u001b[m\u001b[K \"Using deprecated NumPy API, disable it with \" \\\r\n",
      "      |  \u001b[01;35m\u001b[K^~~~~~~\u001b[m\u001b[K\r\n",
      "/usr/local/lib/python3.10/dist-packages/Cython/Compiler/Main.py:381: FutureWarning: Cython directive 'language_level' not set, using '3str' for now (Py3). This has changed from earlier releases! File: /kaggle/working/RECsys_Challenge2024/Recommenders/FeatureWeighting/Cython/CFW_DVV_Similarity_Cython_SGD.pyx\r\n",
      "  tree = Parsing.p_module(s, pxd, full_module_name)\r\n",
      "Compiling [7/11]: CFW_DVV_Similarity_Cython_SGD.pyx... PASS\r\n",
      "\r\n",
      "Compiling [8/11]: HP3_Similarity_Cython_SGD.pyx... \r\n",
      "performance hint: HP3_Similarity_Cython_SGD.pyx:113:40: Index should be typed for more efficient access\r\n",
      "performance hint: HP3_Similarity_Cython_SGD.pyx:114:40: Index should be typed for more efficient access\r\n",
      "In file included from \u001b[01m\u001b[K/usr/local/lib/python3.10/dist-packages/numpy/core/include/numpy/ndarraytypes.h:1929\u001b[m\u001b[K,\r\n",
      "                 from \u001b[01m\u001b[K/usr/local/lib/python3.10/dist-packages/numpy/core/include/numpy/ndarrayobject.h:12\u001b[m\u001b[K,\r\n",
      "                 from \u001b[01m\u001b[K/usr/local/lib/python3.10/dist-packages/numpy/core/include/numpy/arrayobject.h:5\u001b[m\u001b[K,\r\n",
      "                 from \u001b[01m\u001b[KHP3_Similarity_Cython_SGD.c:1252\u001b[m\u001b[K:\r\n",
      "\u001b[01m\u001b[K/usr/local/lib/python3.10/dist-packages/numpy/core/include/numpy/npy_1_7_deprecated_api.h:17:2:\u001b[m\u001b[K \u001b[01;35m\u001b[Kwarning: \u001b[m\u001b[K#warning \"Using deprecated NumPy API, disable it with \" \"#define NPY_NO_DEPRECATED_API NPY_1_7_API_VERSION\" [\u001b[01;35m\u001b[K\u001b]8;;https://gcc.gnu.org/onlinedocs/gcc/Warning-Options.html#index-Wcpp\u0007-Wcpp\u001b]8;;\u0007\u001b[m\u001b[K]\r\n",
      "   17 | #\u001b[01;35m\u001b[Kwarning\u001b[m\u001b[K \"Using deprecated NumPy API, disable it with \" \\\r\n",
      "      |  \u001b[01;35m\u001b[K^~~~~~~\u001b[m\u001b[K\r\n",
      "\u001b[01m\u001b[KHP3_Similarity_Cython_SGD.c:\u001b[m\u001b[K In function ‘\u001b[01m\u001b[K__pyx_pf_25HP3_Similarity_Cython_SGD_25HP3_Similarity_Cython_SGD_4fit\u001b[m\u001b[K’:\r\n",
      "\u001b[01m\u001b[KHP3_Similarity_Cython_SGD.c:23631:55:\u001b[m\u001b[K \u001b[01;35m\u001b[Kwarning: \u001b[m\u001b[K‘\u001b[01m\u001b[K__pyx_v_sample_num\u001b[m\u001b[K’ may be used uninitialized in this function [\u001b[01;35m\u001b[K\u001b]8;;https://gcc.gnu.org/onlinedocs/gcc/Warning-Options.html#index-Wmaybe-uninitialized\u0007-Wmaybe-uninitialized\u001b]8;;\u0007\u001b[m\u001b[K]\r\n",
      "23631 |   __pyx_t_1 = PyFloat_FromDouble((__pyx_v_cum_loss / \u001b[01;35m\u001b[K((double)__pyx_v_sample_num)\u001b[m\u001b[K)); if (unlikely(!__pyx_t_1)) __PYX_ERR(0, 291, __pyx_L1_error)\r\n",
      "      |                                                      \u001b[01;35m\u001b[K~^~~~~~~~~~~~~~~~~~~~~~~~~~~\u001b[m\u001b[K\r\n",
      "/usr/local/lib/python3.10/dist-packages/Cython/Compiler/Main.py:381: FutureWarning: Cython directive 'language_level' not set, using '3str' for now (Py3). This has changed from earlier releases! File: /kaggle/working/RECsys_Challenge2024/Recommenders/FeatureWeighting/Cython/HP3_Similarity_Cython_SGD.pyx\r\n",
      "  tree = Parsing.p_module(s, pxd, full_module_name)\r\n",
      "performance hint: HP3_Similarity_Cython_SGD.pyx:113:40: Index should be typed for more efficient access\r\n",
      "performance hint: HP3_Similarity_Cython_SGD.pyx:114:40: Index should be typed for more efficient access\r\n",
      "Compiling [8/11]: HP3_Similarity_Cython_SGD.pyx... PASS\r\n",
      "\r\n",
      "Compiling [9/11]: CFW_D_Similarity_Cython_SGD.pyx... \r\n",
      "In file included from \u001b[01m\u001b[K/usr/local/lib/python3.10/dist-packages/numpy/core/include/numpy/ndarraytypes.h:1929\u001b[m\u001b[K,\r\n",
      "                 from \u001b[01m\u001b[K/usr/local/lib/python3.10/dist-packages/numpy/core/include/numpy/ndarrayobject.h:12\u001b[m\u001b[K,\r\n",
      "                 from \u001b[01m\u001b[K/usr/local/lib/python3.10/dist-packages/numpy/core/include/numpy/arrayobject.h:5\u001b[m\u001b[K,\r\n",
      "                 from \u001b[01m\u001b[KCFW_D_Similarity_Cython_SGD.c:1252\u001b[m\u001b[K:\r\n",
      "\u001b[01m\u001b[K/usr/local/lib/python3.10/dist-packages/numpy/core/include/numpy/npy_1_7_deprecated_api.h:17:2:\u001b[m\u001b[K \u001b[01;35m\u001b[Kwarning: \u001b[m\u001b[K#warning \"Using deprecated NumPy API, disable it with \" \"#define NPY_NO_DEPRECATED_API NPY_1_7_API_VERSION\" [\u001b[01;35m\u001b[K\u001b]8;;https://gcc.gnu.org/onlinedocs/gcc/Warning-Options.html#index-Wcpp\u0007-Wcpp\u001b]8;;\u0007\u001b[m\u001b[K]\r\n",
      "   17 | #\u001b[01;35m\u001b[Kwarning\u001b[m\u001b[K \"Using deprecated NumPy API, disable it with \" \\\r\n",
      "      |  \u001b[01;35m\u001b[K^~~~~~~\u001b[m\u001b[K\r\n",
      "\u001b[01m\u001b[KCFW_D_Similarity_Cython_SGD.c:\u001b[m\u001b[K In function ‘\u001b[01m\u001b[K__pyx_pf_27CFW_D_Similarity_Cython_SGD_27CFW_D_Similarity_Cython_SGD_6fit\u001b[m\u001b[K’:\r\n",
      "\u001b[01m\u001b[KCFW_D_Similarity_Cython_SGD.c:23373:55:\u001b[m\u001b[K \u001b[01;35m\u001b[Kwarning: \u001b[m\u001b[K‘\u001b[01m\u001b[K__pyx_v_sample_num\u001b[m\u001b[K’ may be used uninitialized in this function [\u001b[01;35m\u001b[K\u001b]8;;https://gcc.gnu.org/onlinedocs/gcc/Warning-Options.html#index-Wmaybe-uninitialized\u0007-Wmaybe-uninitialized\u001b]8;;\u0007\u001b[m\u001b[K]\r\n",
      "23373 |   __pyx_t_3 = PyFloat_FromDouble((__pyx_v_cum_loss / \u001b[01;35m\u001b[K((double)__pyx_v_sample_num)\u001b[m\u001b[K)); if (unlikely(!__pyx_t_3)) __PYX_ERR(0, 290, __pyx_L1_error)\r\n",
      "      |                                                      \u001b[01;35m\u001b[K~^~~~~~~~~~~~~~~~~~~~~~~~~~~\u001b[m\u001b[K\r\n",
      "/usr/local/lib/python3.10/dist-packages/Cython/Compiler/Main.py:381: FutureWarning: Cython directive 'language_level' not set, using '3str' for now (Py3). This has changed from earlier releases! File: /kaggle/working/RECsys_Challenge2024/Recommenders/FeatureWeighting/Cython/CFW_D_Similarity_Cython_SGD.pyx\r\n",
      "  tree = Parsing.p_module(s, pxd, full_module_name)\r\n",
      "Compiling [9/11]: CFW_D_Similarity_Cython_SGD.pyx... PASS\r\n",
      "\r\n",
      "Compiling [10/11]: FBSM_Rating_Cython_SGD.pyx... \r\n",
      "In file included from \u001b[01m\u001b[K/usr/local/lib/python3.10/dist-packages/numpy/core/include/numpy/ndarraytypes.h:1929\u001b[m\u001b[K,\r\n",
      "                 from \u001b[01m\u001b[K/usr/local/lib/python3.10/dist-packages/numpy/core/include/numpy/ndarrayobject.h:12\u001b[m\u001b[K,\r\n",
      "                 from \u001b[01m\u001b[K/usr/local/lib/python3.10/dist-packages/numpy/core/include/numpy/arrayobject.h:5\u001b[m\u001b[K,\r\n",
      "                 from \u001b[01m\u001b[KFBSM_Rating_Cython_SGD.c:1252\u001b[m\u001b[K:\r\n",
      "\u001b[01m\u001b[K/usr/local/lib/python3.10/dist-packages/numpy/core/include/numpy/npy_1_7_deprecated_api.h:17:2:\u001b[m\u001b[K \u001b[01;35m\u001b[Kwarning: \u001b[m\u001b[K#warning \"Using deprecated NumPy API, disable it with \" \"#define NPY_NO_DEPRECATED_API NPY_1_7_API_VERSION\" [\u001b[01;35m\u001b[K\u001b]8;;https://gcc.gnu.org/onlinedocs/gcc/Warning-Options.html#index-Wcpp\u0007-Wcpp\u001b]8;;\u0007\u001b[m\u001b[K]\r\n",
      "   17 | #\u001b[01;35m\u001b[Kwarning\u001b[m\u001b[K \"Using deprecated NumPy API, disable it with \" \\\r\n",
      "      |  \u001b[01;35m\u001b[K^~~~~~~\u001b[m\u001b[K\r\n",
      "\u001b[01m\u001b[KFBSM_Rating_Cython_SGD.c:\u001b[m\u001b[K In function ‘\u001b[01m\u001b[K__pyx_pf_22FBSM_Rating_Cython_SGD_22FBSM_Rating_Cython_SGD_2fit\u001b[m\u001b[K’:\r\n",
      "\u001b[01m\u001b[KFBSM_Rating_Cython_SGD.c:26607:55:\u001b[m\u001b[K \u001b[01;35m\u001b[Kwarning: \u001b[m\u001b[K‘\u001b[01m\u001b[K__pyx_v_num_sample\u001b[m\u001b[K’ may be used uninitialized in this function [\u001b[01;35m\u001b[K\u001b]8;;https://gcc.gnu.org/onlinedocs/gcc/Warning-Options.html#index-Wmaybe-uninitialized\u0007-Wmaybe-uninitialized\u001b]8;;\u0007\u001b[m\u001b[K]\r\n",
      "26607 |   __pyx_t_5 = PyFloat_FromDouble((__pyx_v_cum_loss / \u001b[01;35m\u001b[K((double)__pyx_v_num_sample)\u001b[m\u001b[K)); if (unlikely(!__pyx_t_5)) __PYX_ERR(0, 551, __pyx_L1_error)\r\n",
      "      |                                                      \u001b[01;35m\u001b[K~^~~~~~~~~~~~~~~~~~~~~~~~~~~\u001b[m\u001b[K\r\n",
      "/usr/local/lib/python3.10/dist-packages/Cython/Compiler/Main.py:381: FutureWarning: Cython directive 'language_level' not set, using '3str' for now (Py3). This has changed from earlier releases! File: /kaggle/working/RECsys_Challenge2024/Recommenders/FeatureWeighting/Cython/FBSM_Rating_Cython_SGD.pyx\r\n",
      "  tree = Parsing.p_module(s, pxd, full_module_name)\r\n",
      "Compiling [10/11]: FBSM_Rating_Cython_SGD.pyx... PASS\r\n",
      "\r\n",
      "Compiling [11/11]: DataIterator.pyx... \r\n",
      "In file included from \u001b[01m\u001b[K/usr/local/lib/python3.10/dist-packages/numpy/core/include/numpy/ndarraytypes.h:1929\u001b[m\u001b[K,\r\n",
      "                 from \u001b[01m\u001b[K/usr/local/lib/python3.10/dist-packages/numpy/core/include/numpy/ndarrayobject.h:12\u001b[m\u001b[K,\r\n",
      "                 from \u001b[01m\u001b[K/usr/local/lib/python3.10/dist-packages/numpy/core/include/numpy/arrayobject.h:5\u001b[m\u001b[K,\r\n",
      "                 from \u001b[01m\u001b[KDataIterator.c:1252\u001b[m\u001b[K:\r\n",
      "\u001b[01m\u001b[K/usr/local/lib/python3.10/dist-packages/numpy/core/include/numpy/npy_1_7_deprecated_api.h:17:2:\u001b[m\u001b[K \u001b[01;35m\u001b[Kwarning: \u001b[m\u001b[K#warning \"Using deprecated NumPy API, disable it with \" \"#define NPY_NO_DEPRECATED_API NPY_1_7_API_VERSION\" [\u001b[01;35m\u001b[K\u001b]8;;https://gcc.gnu.org/onlinedocs/gcc/Warning-Options.html#index-Wcpp\u0007-Wcpp\u001b]8;;\u0007\u001b[m\u001b[K]\r\n",
      "   17 | #\u001b[01;35m\u001b[Kwarning\u001b[m\u001b[K \"Using deprecated NumPy API, disable it with \" \\\r\n",
      "      |  \u001b[01;35m\u001b[K^~~~~~~\u001b[m\u001b[K\r\n",
      "\u001b[01m\u001b[KDataIterator.c:\u001b[m\u001b[K In function ‘\u001b[01m\u001b[K__pyx_pf_12DataIterator_19InteractionIterator_6__next__\u001b[m\u001b[K’:\r\n",
      "\u001b[01m\u001b[KDataIterator.c:20937:22:\u001b[m\u001b[K \u001b[01;35m\u001b[Kwarning: \u001b[m\u001b[K‘\u001b[01m\u001b[K__pyx_v_i_batch\u001b[m\u001b[K’ may be used uninitialized in this function [\u001b[01;35m\u001b[K\u001b]8;;https://gcc.gnu.org/onlinedocs/gcc/Warning-Options.html#index-Wmaybe-uninitialized\u0007-Wmaybe-uninitialized\u001b]8;;\u0007\u001b[m\u001b[K]\r\n",
      "20937 |     (__pyx_v_i_batch \u001b[01;35m\u001b[K+\u001b[m\u001b[K 1),\r\n",
      "      |                      \u001b[01;35m\u001b[K^\u001b[m\u001b[K\r\n",
      "\u001b[01m\u001b[KDataIterator.c:\u001b[m\u001b[K In function ‘\u001b[01m\u001b[K__pyx_pf_12DataIterator_30InteractionAndNegativeIterator_6__next__\u001b[m\u001b[K’:\r\n",
      "\u001b[01m\u001b[KDataIterator.c:25499:22:\u001b[m\u001b[K \u001b[01;35m\u001b[Kwarning: \u001b[m\u001b[K‘\u001b[01m\u001b[K__pyx_v_i_batch\u001b[m\u001b[K’ may be used uninitialized in this function [\u001b[01;35m\u001b[K\u001b]8;;https://gcc.gnu.org/onlinedocs/gcc/Warning-Options.html#index-Wmaybe-uninitialized\u0007-Wmaybe-uninitialized\u001b]8;;\u0007\u001b[m\u001b[K]\r\n",
      "25499 |     (__pyx_v_i_batch \u001b[01;35m\u001b[K+\u001b[m\u001b[K 1),\r\n",
      "      |                      \u001b[01;35m\u001b[K^\u001b[m\u001b[K\r\n",
      "\u001b[01m\u001b[KDataIterator.c:\u001b[m\u001b[K In function ‘\u001b[01m\u001b[K__pyx_pf_12DataIterator_11BPRIterator_6__next__\u001b[m\u001b[K’:\r\n",
      "\u001b[01m\u001b[KDataIterator.c:23056:22:\u001b[m\u001b[K \u001b[01;35m\u001b[Kwarning: \u001b[m\u001b[K‘\u001b[01m\u001b[K__pyx_v_i_batch\u001b[m\u001b[K’ may be used uninitialized in this function [\u001b[01;35m\u001b[K\u001b]8;;https://gcc.gnu.org/onlinedocs/gcc/Warning-Options.html#index-Wmaybe-uninitialized\u0007-Wmaybe-uninitialized\u001b]8;;\u0007\u001b[m\u001b[K]\r\n",
      "23056 |     (__pyx_v_i_batch \u001b[01;35m\u001b[K+\u001b[m\u001b[K 1),\r\n",
      "      |                      \u001b[01;35m\u001b[K^\u001b[m\u001b[K\r\n",
      "/usr/local/lib/python3.10/dist-packages/Cython/Compiler/Main.py:381: FutureWarning: Cython directive 'language_level' not set, using '3str' for now (Py3). This has changed from earlier releases! File: /kaggle/working/RECsys_Challenge2024/Utils/PyTorch/Cython/DataIterator.pyx\r\n",
      "  tree = Parsing.p_module(s, pxd, full_module_name)\r\n",
      "Compiling [11/11]: DataIterator.pyx... PASS\r\n",
      "\r\n",
      "run_compile_all_cython: Compilation finished. FAILS 2/11.\r\n",
      "Compilation log can be found here: './result_experiments/run_compile_all_cython.txt'\r\n"
     ]
    }
   ],
   "source": [
    "%cd /kaggle/working/RECsys_Challenge2024 \n",
    "! python run_compile_all_cython.py"
   ]
  },
  {
   "cell_type": "code",
   "execution_count": 5,
   "id": "78b32bd9",
   "metadata": {
    "execution": {
     "iopub.execute_input": "2025-01-05T15:18:24.796498Z",
     "iopub.status.busy": "2025-01-05T15:18:24.796080Z",
     "iopub.status.idle": "2025-01-05T15:18:26.257641Z",
     "shell.execute_reply": "2025-01-05T15:18:26.256451Z"
    },
    "papermill": {
     "duration": 1.480476,
     "end_time": "2025-01-05T15:18:26.259572",
     "exception": false,
     "start_time": "2025-01-05T15:18:24.779096",
     "status": "completed"
    },
    "tags": []
   },
   "outputs": [],
   "source": [
    "from Utils.notebookFunctions import *\n",
    "import numpy as np\n",
    "import pandas as pd\n",
    "import scipy.sparse as sps\n",
    "import time\n",
    "import shutil\n",
    "import optuna\n",
    "import json\n",
    "import os\n",
    "from Utils.seconds_to_biggest_unit import seconds_to_biggest_unit\n",
    "\n",
    "\n",
    "K_PATH = '/kaggle/working/RECsys_Challenge2024'\n",
    "GH_PATH = 'TrainedModels/WithKFCV/GraphBased'\n",
    "\n",
    "np.random.seed(42)"
   ]
  },
  {
   "cell_type": "markdown",
   "id": "5025744a",
   "metadata": {
    "papermill": {
     "duration": 0.014741,
     "end_time": "2025-01-05T15:18:26.289840",
     "exception": false,
     "start_time": "2025-01-05T15:18:26.275099",
     "status": "completed"
    },
    "tags": []
   },
   "source": [
    "## Import the repository"
   ]
  },
  {
   "cell_type": "code",
   "execution_count": 6,
   "id": "7f4979d2",
   "metadata": {
    "execution": {
     "iopub.execute_input": "2025-01-05T15:18:26.321536Z",
     "iopub.status.busy": "2025-01-05T15:18:26.320990Z",
     "iopub.status.idle": "2025-01-05T15:18:26.680865Z",
     "shell.execute_reply": "2025-01-05T15:18:26.679739Z"
    },
    "papermill": {
     "duration": 0.377563,
     "end_time": "2025-01-05T15:18:26.682745",
     "exception": false,
     "start_time": "2025-01-05T15:18:26.305182",
     "status": "completed"
    },
    "tags": []
   },
   "outputs": [
    {
     "name": "stdout",
     "output_type": "stream",
     "text": [
      "Repository 'RECsys_Challenge2024' found.\n"
     ]
    }
   ],
   "source": [
    "repo = get_repo_from_github(token)"
   ]
  },
  {
   "cell_type": "code",
   "execution_count": 7,
   "id": "00f646a6",
   "metadata": {
    "execution": {
     "iopub.execute_input": "2025-01-05T15:18:26.714820Z",
     "iopub.status.busy": "2025-01-05T15:18:26.714423Z",
     "iopub.status.idle": "2025-01-05T15:18:26.719539Z",
     "shell.execute_reply": "2025-01-05T15:18:26.718328Z"
    },
    "papermill": {
     "duration": 0.023062,
     "end_time": "2025-01-05T15:18:26.721388",
     "exception": false,
     "start_time": "2025-01-05T15:18:26.698326",
     "status": "completed"
    },
    "tags": []
   },
   "outputs": [],
   "source": [
    "config = {\n",
    "    'model': 'P3alpha',\n",
    "    'metric': 'MAP',\n",
    "    'n_folds': 5,\n",
    "    'tune_parameters': True,\n",
    "    'database_path': '/kaggle/working/history_P3alpha_MAP.db',\n",
    "    'copy_prev_best_params': False,\n",
    "    'tune_best_params': True,\n",
    "    'save_github': True\n",
    "}"
   ]
  },
  {
   "cell_type": "markdown",
   "id": "03ac4baa",
   "metadata": {
    "papermill": {
     "duration": 0.015417,
     "end_time": "2025-01-05T15:18:26.753015",
     "exception": false,
     "start_time": "2025-01-05T15:18:26.737598",
     "status": "completed"
    },
    "tags": []
   },
   "source": [
    "Import the database where previous tuning trials have been saved."
   ]
  },
  {
   "cell_type": "code",
   "execution_count": 8,
   "id": "eb51e391",
   "metadata": {
    "execution": {
     "iopub.execute_input": "2025-01-05T15:18:26.785642Z",
     "iopub.status.busy": "2025-01-05T15:18:26.785267Z",
     "iopub.status.idle": "2025-01-05T15:18:26.790691Z",
     "shell.execute_reply": "2025-01-05T15:18:26.789680Z"
    },
    "papermill": {
     "duration": 0.024319,
     "end_time": "2025-01-05T15:18:26.792898",
     "exception": false,
     "start_time": "2025-01-05T15:18:26.768579",
     "status": "completed"
    },
    "tags": []
   },
   "outputs": [],
   "source": [
    "try:\n",
    "    shutil.copyfile(\n",
    "        f'{K_PATH}/{GH_PATH}/{config[\"model\"]}Recommender/Optimizing{config[\"metric\"]}/history_{config[\"model\"]}_{config[\"metric\"]}.db', \n",
    "        config['database_path']\n",
    "    )\n",
    "except FileNotFoundError:\n",
    "    pass # if not present optuna will create it"
   ]
  },
  {
   "cell_type": "markdown",
   "id": "5ad817cd",
   "metadata": {
    "papermill": {
     "duration": 0.015538,
     "end_time": "2025-01-05T15:18:26.824673",
     "exception": false,
     "start_time": "2025-01-05T15:18:26.809135",
     "status": "completed"
    },
    "tags": []
   },
   "source": [
    "# Construction of URM and ICM matrices"
   ]
  },
  {
   "cell_type": "code",
   "execution_count": 9,
   "id": "591f45f5",
   "metadata": {
    "execution": {
     "iopub.execute_input": "2025-01-05T15:18:26.857386Z",
     "iopub.status.busy": "2025-01-05T15:18:26.857021Z",
     "iopub.status.idle": "2025-01-05T15:18:27.745551Z",
     "shell.execute_reply": "2025-01-05T15:18:27.744107Z"
    },
    "papermill": {
     "duration": 0.907247,
     "end_time": "2025-01-05T15:18:27.747604",
     "exception": false,
     "start_time": "2025-01-05T15:18:26.840357",
     "status": "completed"
    },
    "tags": []
   },
   "outputs": [
    {
     "data": {
      "text/plain": [
       "<35736x38121 sparse matrix of type '<class 'numpy.float64'>'\n",
       "\twith 1764607 stored elements in Compressed Sparse Row format>"
      ]
     },
     "execution_count": 9,
     "metadata": {},
     "output_type": "execute_result"
    }
   ],
   "source": [
    "URM_all_dataframe = pd.read_csv(\"/kaggle/input/recommender-system-2024-challenge-polimi/data_train.csv\")\n",
    "\n",
    "n_users = len(URM_all_dataframe[\"user_id\"].unique())\n",
    "n_items = len(URM_all_dataframe[\"item_id\"].unique())\n",
    "\n",
    "URM_all = sps.csr_matrix((URM_all_dataframe[\"data\"].values, \n",
    "                          (URM_all_dataframe[\"user_id\"].values, URM_all_dataframe[\"item_id\"].values)),\n",
    "                        shape = (n_users, n_items))\n",
    "\n",
    "URM_all"
   ]
  },
  {
   "cell_type": "code",
   "execution_count": 10,
   "id": "439b185b",
   "metadata": {
    "execution": {
     "iopub.execute_input": "2025-01-05T15:18:27.780105Z",
     "iopub.status.busy": "2025-01-05T15:18:27.779680Z",
     "iopub.status.idle": "2025-01-05T15:18:29.090772Z",
     "shell.execute_reply": "2025-01-05T15:18:29.089689Z"
    },
    "papermill": {
     "duration": 1.329392,
     "end_time": "2025-01-05T15:18:29.092586",
     "exception": false,
     "start_time": "2025-01-05T15:18:27.763194",
     "status": "completed"
    },
    "tags": []
   },
   "outputs": [
    {
     "data": {
      "text/plain": [
       "<38121x94331 sparse matrix of type '<class 'numpy.float64'>'\n",
       "\twith 2940040 stored elements in Compressed Sparse Row format>"
      ]
     },
     "execution_count": 10,
     "metadata": {},
     "output_type": "execute_result"
    }
   ],
   "source": [
    "ICM_dataframe = pd.read_csv(\"/kaggle/input/recommender-system-2024-challenge-polimi/data_ICM_metadata.csv\")\n",
    "\n",
    "n_items = len(ICM_dataframe[\"item_id\"].unique())\n",
    "n_features = len(ICM_dataframe[\"feature_id\"].unique())\n",
    "\n",
    "ICM_all = sps.csr_matrix((ICM_dataframe[\"data\"].values, \n",
    "                          (ICM_dataframe[\"item_id\"].values, ICM_dataframe[\"feature_id\"].values)),\n",
    "                        shape = (n_items, n_features))\n",
    "\n",
    "ICM_all"
   ]
  },
  {
   "cell_type": "markdown",
   "id": "8d9f7de0",
   "metadata": {
    "papermill": {
     "duration": 0.015646,
     "end_time": "2025-01-05T15:18:29.123932",
     "exception": false,
     "start_time": "2025-01-05T15:18:29.108286",
     "status": "completed"
    },
    "tags": []
   },
   "source": [
    "# Training"
   ]
  },
  {
   "cell_type": "code",
   "execution_count": 11,
   "id": "eaa961aa",
   "metadata": {
    "execution": {
     "iopub.execute_input": "2025-01-05T15:18:29.157183Z",
     "iopub.status.busy": "2025-01-05T15:18:29.156824Z",
     "iopub.status.idle": "2025-01-05T15:18:47.002960Z",
     "shell.execute_reply": "2025-01-05T15:18:47.001997Z"
    },
    "papermill": {
     "duration": 17.865397,
     "end_time": "2025-01-05T15:18:47.004728",
     "exception": false,
     "start_time": "2025-01-05T15:18:29.139331",
     "status": "completed"
    },
    "tags": []
   },
   "outputs": [
    {
     "name": "stdout",
     "output_type": "stream",
     "text": [
      "Warning: 141 (0.39 %) of 35736 users have no sampled items\n"
     ]
    }
   ],
   "source": [
    "from Evaluation.Evaluator import EvaluatorHoldout\n",
    "from Data_manager.split_functions.split_train_validation_random_holdout import split_train_in_two_percentage_global_sample\n",
    "from Data_manager.split_functions.split_train_k_folds import split_train_k_folds\n",
    "\n",
    "URM_train, URM_validation = split_train_in_two_percentage_global_sample(URM_all, train_percentage = 0.80)\n",
    "\n",
    "folds = split_train_k_folds(URM_all, k=config['n_folds'])"
   ]
  },
  {
   "cell_type": "code",
   "execution_count": 12,
   "id": "7f1c1baf",
   "metadata": {
    "execution": {
     "iopub.execute_input": "2025-01-05T15:18:47.039472Z",
     "iopub.status.busy": "2025-01-05T15:18:47.039043Z",
     "iopub.status.idle": "2025-01-05T15:18:48.110700Z",
     "shell.execute_reply": "2025-01-05T15:18:48.109376Z"
    },
    "papermill": {
     "duration": 1.092398,
     "end_time": "2025-01-05T15:18:48.112759",
     "exception": false,
     "start_time": "2025-01-05T15:18:47.020361",
     "status": "completed"
    },
    "tags": []
   },
   "outputs": [],
   "source": [
    "from Recommenders.GraphBased.P3alphaRecommender import P3alphaRecommender\n",
    "\n",
    "def objective_function_P3alpha(optuna_trial):\n",
    "    \n",
    "    full_hyperp = {\n",
    "                   \"topK\": optuna_trial.suggest_int(\"topK\", 0, 1500),\n",
    "                   \"alpha\": optuna_trial.suggest_float(\"alpha\", 0, 2, log=False),\n",
    "                   \"normalize_similarity\": optuna_trial.suggest_categorical(\"normalize_similarity\", [True, False]),\n",
    "                   \"implicit\": optuna_trial.suggest_categorical(\"implicit\", [True, False]),\n",
    "    }            \n",
    "\n",
    "    validation_results = []\n",
    "    \n",
    "    for fold_idx, (URM_train_fold, URM_validation_fold) in enumerate(folds):\n",
    "    \n",
    "        recommender_instance = P3alphaRecommender(URM_train_fold)\n",
    "        recommender_instance.fit(**full_hyperp)\n",
    "        \n",
    "        evaluator = EvaluatorHoldout(URM_validation_fold, cutoff_list=[10])\n",
    "        result_df, _ = evaluator.evaluateRecommender(recommender_instance)\n",
    "        \n",
    "        validation_results.append(result_df.loc[10][\"MAP\"])\n",
    "    \n",
    "    return np.mean(validation_results)"
   ]
  },
  {
   "cell_type": "code",
   "execution_count": 13,
   "id": "8a9e95b5",
   "metadata": {
    "_kg_hide-output": true,
    "execution": {
     "iopub.execute_input": "2025-01-05T15:18:48.146723Z",
     "iopub.status.busy": "2025-01-05T15:18:48.146081Z",
     "iopub.status.idle": "2025-01-05T19:01:43.008514Z",
     "shell.execute_reply": "2025-01-05T19:01:43.007381Z"
    },
    "papermill": {
     "duration": 13374.892575,
     "end_time": "2025-01-05T19:01:43.021644",
     "exception": false,
     "start_time": "2025-01-05T15:18:48.129069",
     "status": "completed"
    },
    "tags": []
   },
   "outputs": [
    {
     "name": "stderr",
     "output_type": "stream",
     "text": [
      "[I 2025-01-05 15:18:49,160] Using an existing study with name 'hyperparameters_tuning_P3alpha_MAP' instead of creating a new one.\n"
     ]
    },
    {
     "name": "stdout",
     "output_type": "stream",
     "text": [
      "P3alphaRecommender: Similarity column 38121 (100.0%), 1755.00 column/sec. Elapsed time 21.72 sec\n",
      "EvaluatorHoldout: Ignoring 173 ( 0.5%) Users that have less than 1 test interactions\n",
      "EvaluatorHoldout: Processed 35563 (100.0%) in 33.07 sec. Users per second: 1075\n",
      "P3alphaRecommender: Similarity column 38121 (100.0%), 1728.37 column/sec. Elapsed time 22.06 sec\n",
      "EvaluatorHoldout: Ignoring 163 ( 0.5%) Users that have less than 1 test interactions\n",
      "EvaluatorHoldout: Processed 35573 (100.0%) in 33.71 sec. Users per second: 1055\n",
      "P3alphaRecommender: Similarity column 38121 (100.0%), 1712.11 column/sec. Elapsed time 22.27 sec\n",
      "EvaluatorHoldout: Ignoring 150 ( 0.4%) Users that have less than 1 test interactions\n",
      "EvaluatorHoldout: Processed 35586 (100.0%) in 32.85 sec. Users per second: 1083\n",
      "P3alphaRecommender: Similarity column 38121 (100.0%), 1795.25 column/sec. Elapsed time 21.23 sec\n",
      "EvaluatorHoldout: Ignoring 167 ( 0.5%) Users that have less than 1 test interactions\n",
      "EvaluatorHoldout: Processed 35569 (100.0%) in 32.36 sec. Users per second: 1099\n",
      "P3alphaRecommender: Similarity column 38121 (100.0%), 1786.44 column/sec. Elapsed time 21.34 sec\n",
      "EvaluatorHoldout: Ignoring 172 ( 0.5%) Users that have less than 1 test interactions\n",
      "EvaluatorHoldout: Processed 35564 (100.0%) in 33.16 sec. Users per second: 1073\n"
     ]
    },
    {
     "name": "stderr",
     "output_type": "stream",
     "text": [
      "[I 2025-01-05 15:23:45,204] Trial 150 finished with value: 0.04121725363851465 and parameters: {'topK': 122, 'alpha': 0.6194822005755359, 'normalize_similarity': False, 'implicit': False}. Best is trial 10 with value: 0.05370249298547826.\n"
     ]
    },
    {
     "name": "stdout",
     "output_type": "stream",
     "text": [
      "P3alphaRecommender: Similarity column 38121 (100.0%), 2245.46 column/sec. Elapsed time 16.98 sec\n",
      "EvaluatorHoldout: Ignoring 173 ( 0.5%) Users that have less than 1 test interactions\n",
      "EvaluatorHoldout: Processed 35563 (100.0%) in 31.13 sec. Users per second: 1142\n",
      "P3alphaRecommender: Similarity column 38121 (100.0%), 2269.09 column/sec. Elapsed time 16.80 sec\n",
      "EvaluatorHoldout: Ignoring 163 ( 0.5%) Users that have less than 1 test interactions\n",
      "EvaluatorHoldout: Processed 35573 (100.0%) in 31.32 sec. Users per second: 1136\n",
      "P3alphaRecommender: Similarity column 38121 (100.0%), 2208.41 column/sec. Elapsed time 17.26 sec\n",
      "EvaluatorHoldout: Ignoring 150 ( 0.4%) Users that have less than 1 test interactions\n",
      "EvaluatorHoldout: Processed 35586 (100.0%) in 32.86 sec. Users per second: 1083\n",
      "P3alphaRecommender: Similarity column 38121 (100.0%), 2255.09 column/sec. Elapsed time 16.90 sec\n",
      "EvaluatorHoldout: Ignoring 167 ( 0.5%) Users that have less than 1 test interactions\n",
      "EvaluatorHoldout: Processed 35569 (100.0%) in 30.81 sec. Users per second: 1155\n",
      "P3alphaRecommender: Similarity column 38121 (100.0%), 2253.88 column/sec. Elapsed time 16.91 sec\n",
      "EvaluatorHoldout: Ignoring 172 ( 0.5%) Users that have less than 1 test interactions\n",
      "EvaluatorHoldout: Processed 35564 (100.0%) in 32.50 sec. Users per second: 1094\n"
     ]
    },
    {
     "name": "stderr",
     "output_type": "stream",
     "text": [
      "[I 2025-01-05 15:27:55,168] Trial 151 finished with value: 0.05282848818748159 and parameters: {'topK': 23, 'alpha': 0.0763699851597649, 'normalize_similarity': True, 'implicit': False}. Best is trial 10 with value: 0.05370249298547826.\n"
     ]
    },
    {
     "name": "stdout",
     "output_type": "stream",
     "text": [
      "P3alphaRecommender: Similarity column 38121 (100.0%), 2195.76 column/sec. Elapsed time 17.36 sec\n",
      "EvaluatorHoldout: Ignoring 173 ( 0.5%) Users that have less than 1 test interactions\n",
      "EvaluatorHoldout: Processed 35563 (100.0%) in 32.99 sec. Users per second: 1078\n",
      "P3alphaRecommender: Similarity column 38121 (100.0%), 2178.23 column/sec. Elapsed time 17.50 sec\n",
      "EvaluatorHoldout: Ignoring 163 ( 0.5%) Users that have less than 1 test interactions\n",
      "EvaluatorHoldout: Processed 35573 (100.0%) in 33.39 sec. Users per second: 1066\n",
      "P3alphaRecommender: Similarity column 38121 (100.0%), 2212.94 column/sec. Elapsed time 17.23 sec\n",
      "EvaluatorHoldout: Ignoring 150 ( 0.4%) Users that have less than 1 test interactions\n",
      "EvaluatorHoldout: Processed 35586 (100.0%) in 33.59 sec. Users per second: 1059\n",
      "P3alphaRecommender: Similarity column 38121 (100.0%), 2199.91 column/sec. Elapsed time 17.33 sec\n",
      "EvaluatorHoldout: Ignoring 167 ( 0.5%) Users that have less than 1 test interactions\n",
      "EvaluatorHoldout: Processed 35569 (100.0%) in 32.60 sec. Users per second: 1091\n",
      "P3alphaRecommender: Similarity column 38121 (100.0%), 2205.44 column/sec. Elapsed time 17.28 sec\n",
      "EvaluatorHoldout: Ignoring 172 ( 0.5%) Users that have less than 1 test interactions\n",
      "EvaluatorHoldout: Processed 35564 (100.0%) in 32.23 sec. Users per second: 1103\n"
     ]
    },
    {
     "name": "stderr",
     "output_type": "stream",
     "text": [
      "[I 2025-01-05 15:32:14,172] Trial 152 finished with value: 0.05191767159807118 and parameters: {'topK': 30, 'alpha': 0.05124875194521569, 'normalize_similarity': True, 'implicit': False}. Best is trial 10 with value: 0.05370249298547826.\n"
     ]
    },
    {
     "name": "stdout",
     "output_type": "stream",
     "text": [
      "P3alphaRecommender: Similarity column 38121 (100.0%), 2198.86 column/sec. Elapsed time 17.34 sec\n",
      "EvaluatorHoldout: Ignoring 173 ( 0.5%) Users that have less than 1 test interactions\n",
      "EvaluatorHoldout: Processed 35563 (100.0%) in 32.15 sec. Users per second: 1106\n",
      "P3alphaRecommender: Similarity column 38121 (100.0%), 2262.82 column/sec. Elapsed time 16.85 sec\n",
      "EvaluatorHoldout: Ignoring 163 ( 0.5%) Users that have less than 1 test interactions\n",
      "EvaluatorHoldout: Processed 35573 (100.0%) in 31.57 sec. Users per second: 1127\n",
      "P3alphaRecommender: Similarity column 38121 (100.0%), 2199.63 column/sec. Elapsed time 17.33 sec\n",
      "EvaluatorHoldout: Ignoring 150 ( 0.4%) Users that have less than 1 test interactions\n",
      "EvaluatorHoldout: Processed 35586 (100.0%) in 32.51 sec. Users per second: 1095\n",
      "P3alphaRecommender: Similarity column 38121 (100.0%), 2245.47 column/sec. Elapsed time 16.98 sec\n",
      "EvaluatorHoldout: Ignoring 167 ( 0.5%) Users that have less than 1 test interactions\n",
      "EvaluatorHoldout: Processed 35569 (100.0%) in 33.01 sec. Users per second: 1078\n",
      "P3alphaRecommender: Similarity column 38121 (100.0%), 2221.61 column/sec. Elapsed time 17.16 sec\n",
      "EvaluatorHoldout: Ignoring 172 ( 0.5%) Users that have less than 1 test interactions\n",
      "EvaluatorHoldout: Processed 35564 (100.0%) in 32.65 sec. Users per second: 1089\n"
     ]
    },
    {
     "name": "stderr",
     "output_type": "stream",
     "text": [
      "[I 2025-01-05 15:36:28,671] Trial 153 finished with value: 0.05251727378020658 and parameters: {'topK': 25, 'alpha': 0.05633771745197805, 'normalize_similarity': True, 'implicit': False}. Best is trial 10 with value: 0.05370249298547826.\n"
     ]
    },
    {
     "name": "stdout",
     "output_type": "stream",
     "text": [
      "P3alphaRecommender: Similarity column 38121 (100.0%), 1957.61 column/sec. Elapsed time 19.47 sec\n",
      "EvaluatorHoldout: Ignoring 173 ( 0.5%) Users that have less than 1 test interactions\n",
      "EvaluatorHoldout: Processed 35563 (100.0%) in 33.98 sec. Users per second: 1047\n",
      "P3alphaRecommender: Similarity column 38121 (100.0%), 2036.14 column/sec. Elapsed time 18.72 sec\n",
      "EvaluatorHoldout: Ignoring 163 ( 0.5%) Users that have less than 1 test interactions\n",
      "EvaluatorHoldout: Processed 35573 (100.0%) in 34.44 sec. Users per second: 1033\n",
      "P3alphaRecommender: Similarity column 38121 (100.0%), 2050.44 column/sec. Elapsed time 18.59 sec\n",
      "EvaluatorHoldout: Ignoring 150 ( 0.4%) Users that have less than 1 test interactions\n",
      "EvaluatorHoldout: Processed 35586 (100.0%) in 35.20 sec. Users per second: 1011\n",
      "P3alphaRecommender: Similarity column 38121 (100.0%), 1996.89 column/sec. Elapsed time 19.09 sec\n",
      "EvaluatorHoldout: Ignoring 167 ( 0.5%) Users that have less than 1 test interactions\n",
      "EvaluatorHoldout: Processed 35569 (100.0%) in 35.55 sec. Users per second: 1001\n",
      "P3alphaRecommender: Similarity column 38121 (100.0%), 1978.98 column/sec. Elapsed time 19.26 sec\n",
      "EvaluatorHoldout: Ignoring 172 ( 0.5%) Users that have less than 1 test interactions\n",
      "EvaluatorHoldout: Processed 35564 (100.0%) in 35.59 sec. Users per second: 999\n"
     ]
    },
    {
     "name": "stderr",
     "output_type": "stream",
     "text": [
      "[I 2025-01-05 15:41:10,977] Trial 154 finished with value: 0.048936109878433595 and parameters: {'topK': 66, 'alpha': 0.08011178552421945, 'normalize_similarity': True, 'implicit': False}. Best is trial 10 with value: 0.05370249298547826.\n"
     ]
    },
    {
     "name": "stdout",
     "output_type": "stream",
     "text": [
      "P3alphaRecommender: Similarity column 38121 (100.0%), 1922.29 column/sec. Elapsed time 19.83 sec\n",
      "EvaluatorHoldout: Ignoring 173 ( 0.5%) Users that have less than 1 test interactions\n",
      "EvaluatorHoldout: Processed 35563 (100.0%) in 28.72 sec. Users per second: 1238\n",
      "P3alphaRecommender: Similarity column 38121 (100.0%), 1932.31 column/sec. Elapsed time 19.73 sec\n",
      "EvaluatorHoldout: Ignoring 163 ( 0.5%) Users that have less than 1 test interactions\n",
      "EvaluatorHoldout: Processed 35573 (100.0%) in 29.31 sec. Users per second: 1214\n",
      "P3alphaRecommender: Similarity column 38121 (100.0%), 1951.32 column/sec. Elapsed time 19.54 sec\n",
      "EvaluatorHoldout: Ignoring 150 ( 0.4%) Users that have less than 1 test interactions\n",
      "EvaluatorHoldout: Processed 35586 (100.0%) in 29.15 sec. Users per second: 1221\n",
      "P3alphaRecommender: Similarity column 38121 (100.0%), 1928.64 column/sec. Elapsed time 19.77 sec\n",
      "EvaluatorHoldout: Ignoring 167 ( 0.5%) Users that have less than 1 test interactions\n",
      "EvaluatorHoldout: Processed 35569 (100.0%) in 29.04 sec. Users per second: 1225\n",
      "P3alphaRecommender: Similarity column 38121 (100.0%), 1953.30 column/sec. Elapsed time 19.52 sec\n",
      "EvaluatorHoldout: Ignoring 172 ( 0.5%) Users that have less than 1 test interactions\n",
      "EvaluatorHoldout: Processed 35564 (100.0%) in 28.99 sec. Users per second: 1227\n"
     ]
    },
    {
     "name": "stderr",
     "output_type": "stream",
     "text": [
      "[I 2025-01-05 15:45:18,644] Trial 155 finished with value: 0.044208576613926395 and parameters: {'topK': 3, 'alpha': 0.014400856065544018, 'normalize_similarity': True, 'implicit': False}. Best is trial 10 with value: 0.05370249298547826.\n"
     ]
    },
    {
     "name": "stdout",
     "output_type": "stream",
     "text": [
      "P3alphaRecommender: Similarity column 38121 (100.0%), 1896.09 column/sec. Elapsed time 20.11 sec\n",
      "EvaluatorHoldout: Ignoring 173 ( 0.5%) Users that have less than 1 test interactions\n",
      "EvaluatorHoldout: Processed 35563 (100.0%) in 32.72 sec. Users per second: 1087\n",
      "P3alphaRecommender: Similarity column 38121 (100.0%), 1877.87 column/sec. Elapsed time 20.30 sec\n",
      "EvaluatorHoldout: Ignoring 163 ( 0.5%) Users that have less than 1 test interactions\n",
      "EvaluatorHoldout: Processed 35573 (100.0%) in 35.57 sec. Users per second: 1000\n",
      "P3alphaRecommender: Similarity column 38121 (100.0%), 1892.44 column/sec. Elapsed time 20.14 sec\n",
      "EvaluatorHoldout: Ignoring 150 ( 0.4%) Users that have less than 1 test interactions\n",
      "EvaluatorHoldout: Processed 35586 (100.0%) in 31.07 sec. Users per second: 1145\n",
      "P3alphaRecommender: Similarity column 38121 (100.0%), 1886.80 column/sec. Elapsed time 20.20 sec\n",
      "EvaluatorHoldout: Ignoring 167 ( 0.5%) Users that have less than 1 test interactions\n",
      "EvaluatorHoldout: Processed 35569 (100.0%) in 31.88 sec. Users per second: 1116\n",
      "P3alphaRecommender: Similarity column 38121 (100.0%), 1889.72 column/sec. Elapsed time 20.17 sec\n",
      "EvaluatorHoldout: Ignoring 172 ( 0.5%) Users that have less than 1 test interactions\n",
      "EvaluatorHoldout: Processed 35564 (100.0%) in 35.08 sec. Users per second: 1014\n"
     ]
    },
    {
     "name": "stderr",
     "output_type": "stream",
     "text": [
      "[I 2025-01-05 15:50:02,843] Trial 156 finished with value: 0.0471758536609599 and parameters: {'topK': 95, 'alpha': 0.1282190724068411, 'normalize_similarity': True, 'implicit': False}. Best is trial 10 with value: 0.05370249298547826.\n"
     ]
    },
    {
     "name": "stdout",
     "output_type": "stream",
     "text": [
      "P3alphaRecommender: Similarity column 38121 (100.0%), 1997.41 column/sec. Elapsed time 19.09 sec\n",
      "EvaluatorHoldout: Ignoring 173 ( 0.5%) Users that have less than 1 test interactions\n",
      "EvaluatorHoldout: Processed 35563 (100.0%) in 34.67 sec. Users per second: 1026\n",
      "P3alphaRecommender: Similarity column 38121 (100.0%), 2072.40 column/sec. Elapsed time 18.39 sec\n",
      "EvaluatorHoldout: Ignoring 163 ( 0.5%) Users that have less than 1 test interactions\n",
      "EvaluatorHoldout: Processed 35573 (100.0%) in 33.67 sec. Users per second: 1057\n",
      "P3alphaRecommender: Similarity column 38121 (100.0%), 2086.73 column/sec. Elapsed time 18.27 sec\n",
      "EvaluatorHoldout: Ignoring 150 ( 0.4%) Users that have less than 1 test interactions\n",
      "EvaluatorHoldout: Processed 35586 (100.0%) in 34.42 sec. Users per second: 1034\n",
      "P3alphaRecommender: Similarity column 38121 (100.0%), 2038.88 column/sec. Elapsed time 18.70 sec\n",
      "EvaluatorHoldout: Ignoring 167 ( 0.5%) Users that have less than 1 test interactions\n",
      "EvaluatorHoldout: Processed 35569 (100.0%) in 33.98 sec. Users per second: 1047\n",
      "P3alphaRecommender: Similarity column 38121 (100.0%), 2067.94 column/sec. Elapsed time 18.43 sec\n",
      "EvaluatorHoldout: Ignoring 172 ( 0.5%) Users that have less than 1 test interactions\n",
      "EvaluatorHoldout: Processed 35564 (100.0%) in 33.88 sec. Users per second: 1050\n"
     ]
    },
    {
     "name": "stderr",
     "output_type": "stream",
     "text": [
      "[I 2025-01-05 15:54:37,486] Trial 157 finished with value: 0.04945865583313777 and parameters: {'topK': 55, 'alpha': 0.00780784404479734, 'normalize_similarity': True, 'implicit': False}. Best is trial 10 with value: 0.05370249298547826.\n"
     ]
    },
    {
     "name": "stdout",
     "output_type": "stream",
     "text": [
      "P3alphaRecommender: Similarity column 38121 (100.0%), 2274.86 column/sec. Elapsed time 16.76 sec\n",
      "EvaluatorHoldout: Ignoring 173 ( 0.5%) Users that have less than 1 test interactions\n",
      "EvaluatorHoldout: Processed 35563 (100.0%) in 32.87 sec. Users per second: 1082\n",
      "P3alphaRecommender: Similarity column 38121 (100.0%), 2155.83 column/sec. Elapsed time 17.68 sec\n",
      "EvaluatorHoldout: Ignoring 163 ( 0.5%) Users that have less than 1 test interactions\n",
      "EvaluatorHoldout: Processed 35573 (100.0%) in 33.56 sec. Users per second: 1060\n",
      "P3alphaRecommender: Similarity column 38121 (100.0%), 2195.13 column/sec. Elapsed time 17.37 sec\n",
      "EvaluatorHoldout: Ignoring 150 ( 0.4%) Users that have less than 1 test interactions\n",
      "EvaluatorHoldout: Processed 35586 (100.0%) in 32.34 sec. Users per second: 1100\n",
      "P3alphaRecommender: Similarity column 38121 (100.0%), 2221.87 column/sec. Elapsed time 17.16 sec\n",
      "EvaluatorHoldout: Ignoring 167 ( 0.5%) Users that have less than 1 test interactions\n",
      "EvaluatorHoldout: Processed 35569 (100.0%) in 32.69 sec. Users per second: 1088\n",
      "P3alphaRecommender: Similarity column 38121 (100.0%), 2246.76 column/sec. Elapsed time 16.97 sec\n",
      "EvaluatorHoldout: Ignoring 172 ( 0.5%) Users that have less than 1 test interactions\n",
      "EvaluatorHoldout: Processed 35564 (100.0%) in 32.24 sec. Users per second: 1103\n"
     ]
    },
    {
     "name": "stderr",
     "output_type": "stream",
     "text": [
      "[I 2025-01-05 15:58:54,511] Trial 158 finished with value: 0.05238245591016597 and parameters: {'topK': 30, 'alpha': 0.1872162133647409, 'normalize_similarity': True, 'implicit': False}. Best is trial 10 with value: 0.05370249298547826.\n"
     ]
    },
    {
     "name": "stdout",
     "output_type": "stream",
     "text": [
      "P3alphaRecommender: Similarity column 38121 (100.0%), 1723.72 column/sec. Elapsed time 22.12 sec\n",
      "EvaluatorHoldout: Ignoring 173 ( 0.5%) Users that have less than 1 test interactions\n",
      "EvaluatorHoldout: Processed 35563 (100.0%) in 32.66 sec. Users per second: 1089\n",
      "P3alphaRecommender: Similarity column 38121 (100.0%), 1700.47 column/sec. Elapsed time 22.42 sec\n",
      "EvaluatorHoldout: Ignoring 163 ( 0.5%) Users that have less than 1 test interactions\n",
      "EvaluatorHoldout: Processed 35573 (100.0%) in 33.59 sec. Users per second: 1059\n",
      "P3alphaRecommender: Similarity column 38121 (100.0%), 1765.54 column/sec. Elapsed time 21.59 sec\n",
      "EvaluatorHoldout: Ignoring 150 ( 0.4%) Users that have less than 1 test interactions\n",
      "EvaluatorHoldout: Processed 35586 (100.0%) in 33.28 sec. Users per second: 1069\n",
      "P3alphaRecommender: Similarity column 38121 (100.0%), 1793.73 column/sec. Elapsed time 21.25 sec\n",
      "EvaluatorHoldout: Ignoring 167 ( 0.5%) Users that have less than 1 test interactions\n",
      "EvaluatorHoldout: Processed 35569 (100.0%) in 32.26 sec. Users per second: 1103\n",
      "P3alphaRecommender: Similarity column 38121 (100.0%), 1787.59 column/sec. Elapsed time 21.33 sec\n",
      "EvaluatorHoldout: Ignoring 172 ( 0.5%) Users that have less than 1 test interactions\n",
      "EvaluatorHoldout: Processed 35564 (100.0%) in 32.50 sec. Users per second: 1094\n"
     ]
    },
    {
     "name": "stderr",
     "output_type": "stream",
     "text": [
      "[I 2025-01-05 16:03:48,872] Trial 159 finished with value: 0.046327703480299236 and parameters: {'topK': 123, 'alpha': 0.3184364984395813, 'normalize_similarity': True, 'implicit': False}. Best is trial 10 with value: 0.05370249298547826.\n"
     ]
    },
    {
     "name": "stdout",
     "output_type": "stream",
     "text": [
      "P3alphaRecommender: Similarity column 38121 (100.0%), 2020.61 column/sec. Elapsed time 18.87 sec\n",
      "EvaluatorHoldout: Ignoring 173 ( 0.5%) Users that have less than 1 test interactions\n",
      "EvaluatorHoldout: Processed 35563 (100.0%) in 34.74 sec. Users per second: 1024\n",
      "P3alphaRecommender: Similarity column 38121 (100.0%), 2092.32 column/sec. Elapsed time 18.22 sec\n",
      "EvaluatorHoldout: Ignoring 163 ( 0.5%) Users that have less than 1 test interactions\n",
      "EvaluatorHoldout: Processed 35573 (100.0%) in 35.28 sec. Users per second: 1008\n",
      "P3alphaRecommender: Similarity column 38121 (100.0%), 2069.58 column/sec. Elapsed time 18.42 sec\n",
      "EvaluatorHoldout: Ignoring 150 ( 0.4%) Users that have less than 1 test interactions\n",
      "EvaluatorHoldout: Processed 35586 (100.0%) in 35.08 sec. Users per second: 1014\n",
      "P3alphaRecommender: Similarity column 38121 (100.0%), 2046.53 column/sec. Elapsed time 18.63 sec\n",
      "EvaluatorHoldout: Ignoring 167 ( 0.5%) Users that have less than 1 test interactions\n",
      "EvaluatorHoldout: Processed 35569 (100.0%) in 33.98 sec. Users per second: 1047\n",
      "P3alphaRecommender: Similarity column 38121 (100.0%), 2101.51 column/sec. Elapsed time 18.14 sec\n",
      "EvaluatorHoldout: Ignoring 172 ( 0.5%) Users that have less than 1 test interactions\n",
      "EvaluatorHoldout: Processed 35564 (100.0%) in 35.07 sec. Users per second: 1014\n"
     ]
    },
    {
     "name": "stderr",
     "output_type": "stream",
     "text": [
      "[I 2025-01-05 16:08:27,556] Trial 160 finished with value: 0.04987587977943793 and parameters: {'topK': 59, 'alpha': 0.684602477163826, 'normalize_similarity': True, 'implicit': False}. Best is trial 10 with value: 0.05370249298547826.\n"
     ]
    },
    {
     "name": "stdout",
     "output_type": "stream",
     "text": [
      "P3alphaRecommender: Similarity column 38121 (100.0%), 2233.46 column/sec. Elapsed time 17.07 sec\n",
      "EvaluatorHoldout: Ignoring 173 ( 0.5%) Users that have less than 1 test interactions\n",
      "EvaluatorHoldout: Processed 35563 (100.0%) in 33.18 sec. Users per second: 1072\n",
      "P3alphaRecommender: Similarity column 38121 (100.0%), 2212.41 column/sec. Elapsed time 17.23 sec\n",
      "EvaluatorHoldout: Ignoring 163 ( 0.5%) Users that have less than 1 test interactions\n",
      "EvaluatorHoldout: Processed 35573 (100.0%) in 33.00 sec. Users per second: 1078\n",
      "P3alphaRecommender: Similarity column 38121 (100.0%), 2248.93 column/sec. Elapsed time 16.95 sec\n",
      "EvaluatorHoldout: Ignoring 150 ( 0.4%) Users that have less than 1 test interactions\n",
      "EvaluatorHoldout: Processed 35586 (100.0%) in 33.08 sec. Users per second: 1076\n",
      "P3alphaRecommender: Similarity column 38121 (100.0%), 2228.73 column/sec. Elapsed time 17.10 sec\n",
      "EvaluatorHoldout: Ignoring 167 ( 0.5%) Users that have less than 1 test interactions\n",
      "EvaluatorHoldout: Processed 35569 (100.0%) in 32.40 sec. Users per second: 1098\n",
      "P3alphaRecommender: Similarity column 38121 (100.0%), 2183.80 column/sec. Elapsed time 17.46 sec\n",
      "EvaluatorHoldout: Ignoring 172 ( 0.5%) Users that have less than 1 test interactions\n",
      "EvaluatorHoldout: Processed 35564 (100.0%) in 33.15 sec. Users per second: 1073\n"
     ]
    },
    {
     "name": "stderr",
     "output_type": "stream",
     "text": [
      "[I 2025-01-05 16:12:45,628] Trial 161 finished with value: 0.052723232440028765 and parameters: {'topK': 25, 'alpha': 0.7293135140343755, 'normalize_similarity': True, 'implicit': False}. Best is trial 10 with value: 0.05370249298547826.\n"
     ]
    },
    {
     "name": "stdout",
     "output_type": "stream",
     "text": [
      "P3alphaRecommender: Similarity column 38121 (100.0%), 2221.24 column/sec. Elapsed time 17.16 sec\n",
      "EvaluatorHoldout: Ignoring 173 ( 0.5%) Users that have less than 1 test interactions\n",
      "EvaluatorHoldout: Processed 35563 (100.0%) in 33.00 sec. Users per second: 1078\n",
      "P3alphaRecommender: Similarity column 38121 (100.0%), 2217.57 column/sec. Elapsed time 17.19 sec\n",
      "EvaluatorHoldout: Ignoring 163 ( 0.5%) Users that have less than 1 test interactions\n",
      "EvaluatorHoldout: Processed 35573 (100.0%) in 33.55 sec. Users per second: 1060\n",
      "P3alphaRecommender: Similarity column 38121 (100.0%), 2224.74 column/sec. Elapsed time 17.14 sec\n",
      "EvaluatorHoldout: Ignoring 150 ( 0.4%) Users that have less than 1 test interactions\n",
      "EvaluatorHoldout: Processed 35586 (100.0%) in 33.77 sec. Users per second: 1054\n",
      "P3alphaRecommender: Similarity column 38121 (100.0%), 2178.85 column/sec. Elapsed time 17.50 sec\n",
      "EvaluatorHoldout: Ignoring 167 ( 0.5%) Users that have less than 1 test interactions\n",
      "EvaluatorHoldout: Processed 35569 (100.0%) in 33.99 sec. Users per second: 1047\n",
      "P3alphaRecommender: Similarity column 38121 (100.0%), 2184.18 column/sec. Elapsed time 17.45 sec\n",
      "EvaluatorHoldout: Ignoring 172 ( 0.5%) Users that have less than 1 test interactions\n",
      "EvaluatorHoldout: Processed 35564 (100.0%) in 32.99 sec. Users per second: 1078\n"
     ]
    },
    {
     "name": "stderr",
     "output_type": "stream",
     "text": [
      "[I 2025-01-05 16:17:06,872] Trial 162 finished with value: 0.052742427144316886 and parameters: {'topK': 27, 'alpha': 0.6528933866301747, 'normalize_similarity': True, 'implicit': False}. Best is trial 10 with value: 0.05370249298547826.\n"
     ]
    },
    {
     "name": "stdout",
     "output_type": "stream",
     "text": [
      "P3alphaRecommender: Similarity column 38121 (100.0%), 3215.08 column/sec. Elapsed time 11.86 sec\n",
      "EvaluatorHoldout: Ignoring 173 ( 0.5%) Users that have less than 1 test interactions\n",
      "EvaluatorHoldout: Processed 35563 (100.0%) in 26.15 sec. Users per second: 1360\n",
      "P3alphaRecommender: Similarity column 38121 (100.0%), 3188.54 column/sec. Elapsed time 11.96 sec\n",
      "EvaluatorHoldout: Ignoring 163 ( 0.5%) Users that have less than 1 test interactions\n",
      "EvaluatorHoldout: Processed 35573 (100.0%) in 26.49 sec. Users per second: 1343\n",
      "P3alphaRecommender: Similarity column 38121 (100.0%), 3174.27 column/sec. Elapsed time 12.01 sec\n",
      "EvaluatorHoldout: Ignoring 150 ( 0.4%) Users that have less than 1 test interactions\n",
      "EvaluatorHoldout: Processed 35586 (100.0%) in 26.38 sec. Users per second: 1349\n",
      "P3alphaRecommender: Similarity column 38121 (100.0%), 3148.23 column/sec. Elapsed time 12.11 sec\n",
      "EvaluatorHoldout: Ignoring 167 ( 0.5%) Users that have less than 1 test interactions\n",
      "EvaluatorHoldout: Processed 35569 (100.0%) in 25.43 sec. Users per second: 1399\n",
      "P3alphaRecommender: Similarity column 38121 (100.0%), 3316.26 column/sec. Elapsed time 11.50 sec\n",
      "EvaluatorHoldout: Ignoring 172 ( 0.5%) Users that have less than 1 test interactions\n",
      "EvaluatorHoldout: Processed 35564 (100.0%) in 26.64 sec. Users per second: 1335\n"
     ]
    },
    {
     "name": "stderr",
     "output_type": "stream",
     "text": [
      "[I 2025-01-05 16:20:18,389] Trial 163 finished with value: 0.0002664826418719655 and parameters: {'topK': 0, 'alpha': 0.719504196981361, 'normalize_similarity': True, 'implicit': False}. Best is trial 10 with value: 0.05370249298547826.\n"
     ]
    },
    {
     "name": "stdout",
     "output_type": "stream",
     "text": [
      "P3alphaRecommender: Similarity column 38121 (100.0%), 1969.58 column/sec. Elapsed time 19.35 sec\n",
      "EvaluatorHoldout: Ignoring 173 ( 0.5%) Users that have less than 1 test interactions\n",
      "EvaluatorHoldout: Processed 35563 (100.0%) in 35.06 sec. Users per second: 1014\n",
      "P3alphaRecommender: Similarity column 38121 (100.0%), 1903.50 column/sec. Elapsed time 20.03 sec\n",
      "EvaluatorHoldout: Ignoring 163 ( 0.5%) Users that have less than 1 test interactions\n",
      "EvaluatorHoldout: Processed 35573 (100.0%) in 34.83 sec. Users per second: 1021\n",
      "P3alphaRecommender: Similarity column 38121 (100.0%), 1963.10 column/sec. Elapsed time 19.42 sec\n",
      "EvaluatorHoldout: Ignoring 150 ( 0.4%) Users that have less than 1 test interactions\n",
      "EvaluatorHoldout: Processed 35586 (100.0%) in 34.50 sec. Users per second: 1031\n",
      "P3alphaRecommender: Similarity column 38121 (100.0%), 1946.39 column/sec. Elapsed time 19.59 sec\n",
      "EvaluatorHoldout: Ignoring 167 ( 0.5%) Users that have less than 1 test interactions\n",
      "EvaluatorHoldout: Processed 35569 (100.0%) in 34.78 sec. Users per second: 1023\n",
      "P3alphaRecommender: Similarity column 38121 (100.0%), 1935.59 column/sec. Elapsed time 19.69 sec\n",
      "EvaluatorHoldout: Ignoring 172 ( 0.5%) Users that have less than 1 test interactions\n",
      "EvaluatorHoldout: Processed 35564 (100.0%) in 35.37 sec. Users per second: 1006\n"
     ]
    },
    {
     "name": "stderr",
     "output_type": "stream",
     "text": [
      "[I 2025-01-05 16:25:06,178] Trial 164 finished with value: 0.04871490000398578 and parameters: {'topK': 81, 'alpha': 0.4531970682327979, 'normalize_similarity': True, 'implicit': False}. Best is trial 10 with value: 0.05370249298547826.\n"
     ]
    },
    {
     "name": "stdout",
     "output_type": "stream",
     "text": [
      "P3alphaRecommender: Similarity column 38121 (100.0%), 2165.82 column/sec. Elapsed time 17.60 sec\n",
      "EvaluatorHoldout: Ignoring 173 ( 0.5%) Users that have less than 1 test interactions\n",
      "EvaluatorHoldout: Processed 35563 (100.0%) in 34.59 sec. Users per second: 1028\n",
      "P3alphaRecommender: Similarity column 38121 (100.0%), 2150.57 column/sec. Elapsed time 17.73 sec\n",
      "EvaluatorHoldout: Ignoring 163 ( 0.5%) Users that have less than 1 test interactions\n",
      "EvaluatorHoldout: Processed 35573 (100.0%) in 32.88 sec. Users per second: 1082\n",
      "P3alphaRecommender: Similarity column 38121 (100.0%), 2210.50 column/sec. Elapsed time 17.25 sec\n",
      "EvaluatorHoldout: Ignoring 150 ( 0.4%) Users that have less than 1 test interactions\n",
      "EvaluatorHoldout: Processed 35586 (100.0%) in 33.79 sec. Users per second: 1053\n",
      "P3alphaRecommender: Similarity column 38121 (100.0%), 2161.73 column/sec. Elapsed time 17.63 sec\n",
      "EvaluatorHoldout: Ignoring 167 ( 0.5%) Users that have less than 1 test interactions\n",
      "EvaluatorHoldout: Processed 35569 (100.0%) in 32.98 sec. Users per second: 1079\n",
      "P3alphaRecommender: Similarity column 38121 (100.0%), 2213.23 column/sec. Elapsed time 17.22 sec\n",
      "EvaluatorHoldout: Ignoring 172 ( 0.5%) Users that have less than 1 test interactions\n",
      "EvaluatorHoldout: Processed 35564 (100.0%) in 33.19 sec. Users per second: 1072\n"
     ]
    },
    {
     "name": "stderr",
     "output_type": "stream",
     "text": [
      "[I 2025-01-05 16:29:29,401] Trial 165 finished with value: 0.05215845464194435 and parameters: {'topK': 34, 'alpha': 0.5838316183764864, 'normalize_similarity': True, 'implicit': False}. Best is trial 10 with value: 0.05370249298547826.\n"
     ]
    },
    {
     "name": "stdout",
     "output_type": "stream",
     "text": [
      "P3alphaRecommender: Similarity column 38121 (100.0%), 2108.43 column/sec. Elapsed time 18.08 sec\n",
      "EvaluatorHoldout: Ignoring 173 ( 0.5%) Users that have less than 1 test interactions\n",
      "EvaluatorHoldout: Processed 35563 (100.0%) in 34.07 sec. Users per second: 1044\n",
      "P3alphaRecommender: Similarity column 38121 (100.0%), 2080.65 column/sec. Elapsed time 18.32 sec\n",
      "EvaluatorHoldout: Ignoring 163 ( 0.5%) Users that have less than 1 test interactions\n",
      "EvaluatorHoldout: Processed 35573 (100.0%) in 34.41 sec. Users per second: 1034\n",
      "P3alphaRecommender: Similarity column 38121 (100.0%), 2092.13 column/sec. Elapsed time 18.22 sec\n",
      "EvaluatorHoldout: Ignoring 150 ( 0.4%) Users that have less than 1 test interactions\n",
      "EvaluatorHoldout: Processed 35586 (100.0%) in 33.36 sec. Users per second: 1067\n",
      "P3alphaRecommender: Similarity column 38121 (100.0%), 2122.33 column/sec. Elapsed time 17.96 sec\n",
      "EvaluatorHoldout: Ignoring 167 ( 0.5%) Users that have less than 1 test interactions\n",
      "EvaluatorHoldout: Processed 35569 (100.0%) in 34.04 sec. Users per second: 1045\n",
      "P3alphaRecommender: Similarity column 38121 (100.0%), 2125.21 column/sec. Elapsed time 17.94 sec\n",
      "EvaluatorHoldout: Ignoring 172 ( 0.5%) Users that have less than 1 test interactions\n",
      "EvaluatorHoldout: Processed 35564 (100.0%) in 33.15 sec. Users per second: 1073\n"
     ]
    },
    {
     "name": "stderr",
     "output_type": "stream",
     "text": [
      "[I 2025-01-05 16:33:59,620] Trial 166 finished with value: 0.05080581134781799 and parameters: {'topK': 49, 'alpha': 0.6292679285876068, 'normalize_similarity': True, 'implicit': False}. Best is trial 10 with value: 0.05370249298547826.\n"
     ]
    },
    {
     "name": "stdout",
     "output_type": "stream",
     "text": [
      "P3alphaRecommender: Similarity column 38121 (100.0%), 1888.57 column/sec. Elapsed time 20.19 sec\n",
      "EvaluatorHoldout: Ignoring 173 ( 0.5%) Users that have less than 1 test interactions\n",
      "EvaluatorHoldout: Processed 35563 (100.0%) in 31.71 sec. Users per second: 1122\n",
      "P3alphaRecommender: Similarity column 38121 (100.0%), 1877.54 column/sec. Elapsed time 20.30 sec\n",
      "EvaluatorHoldout: Ignoring 163 ( 0.5%) Users that have less than 1 test interactions\n",
      "EvaluatorHoldout: Processed 35573 (100.0%) in 35.97 sec. Users per second: 989\n",
      "P3alphaRecommender: Similarity column 38121 (100.0%), 1837.97 column/sec. Elapsed time 20.74 sec\n",
      "EvaluatorHoldout: Ignoring 150 ( 0.4%) Users that have less than 1 test interactions\n",
      "EvaluatorHoldout: Processed 35586 (100.0%) in 32.31 sec. Users per second: 1101\n",
      "P3alphaRecommender: Similarity column 38121 (100.0%), 1906.01 column/sec. Elapsed time 20.00 sec\n",
      "EvaluatorHoldout: Ignoring 167 ( 0.5%) Users that have less than 1 test interactions\n",
      "EvaluatorHoldout: Processed 35569 (100.0%) in 35.06 sec. Users per second: 1015\n",
      "P3alphaRecommender: Similarity column 38121 (100.0%), 1930.73 column/sec. Elapsed time 19.74 sec\n",
      "EvaluatorHoldout: Ignoring 172 ( 0.5%) Users that have less than 1 test interactions\n",
      "EvaluatorHoldout: Processed 35564 (100.0%) in 31.98 sec. Users per second: 1112\n"
     ]
    },
    {
     "name": "stderr",
     "output_type": "stream",
     "text": [
      "[I 2025-01-05 16:38:44,137] Trial 167 finished with value: 0.04797725966127435 and parameters: {'topK': 90, 'alpha': 0.2727122675345214, 'normalize_similarity': True, 'implicit': False}. Best is trial 10 with value: 0.05370249298547826.\n"
     ]
    },
    {
     "name": "stdout",
     "output_type": "stream",
     "text": [
      "P3alphaRecommender: Similarity column 38121 (100.0%), 2322.63 column/sec. Elapsed time 16.41 sec\n",
      "EvaluatorHoldout: Ignoring 173 ( 0.5%) Users that have less than 1 test interactions\n",
      "EvaluatorHoldout: Processed 35563 (100.0%) in 31.98 sec. Users per second: 1112\n",
      "P3alphaRecommender: Similarity column 38121 (100.0%), 2254.76 column/sec. Elapsed time 16.91 sec\n",
      "EvaluatorHoldout: Ignoring 163 ( 0.5%) Users that have less than 1 test interactions\n",
      "EvaluatorHoldout: Processed 35573 (100.0%) in 32.64 sec. Users per second: 1090\n",
      "P3alphaRecommender: Similarity column 38121 (100.0%), 2270.89 column/sec. Elapsed time 16.79 sec\n",
      "EvaluatorHoldout: Ignoring 150 ( 0.4%) Users that have less than 1 test interactions\n",
      "EvaluatorHoldout: Processed 35586 (100.0%) in 32.77 sec. Users per second: 1086\n",
      "P3alphaRecommender: Similarity column 38121 (100.0%), 2294.86 column/sec. Elapsed time 16.61 sec\n",
      "EvaluatorHoldout: Ignoring 167 ( 0.5%) Users that have less than 1 test interactions\n",
      "EvaluatorHoldout: Processed 35569 (100.0%) in 31.70 sec. Users per second: 1122\n",
      "P3alphaRecommender: Similarity column 38121 (100.0%), 2270.23 column/sec. Elapsed time 16.79 sec\n",
      "EvaluatorHoldout: Ignoring 172 ( 0.5%) Users that have less than 1 test interactions\n",
      "EvaluatorHoldout: Processed 35564 (100.0%) in 31.65 sec. Users per second: 1124\n"
     ]
    },
    {
     "name": "stderr",
     "output_type": "stream",
     "text": [
      "[I 2025-01-05 16:42:54,774] Trial 168 finished with value: 0.05328432894531375 and parameters: {'topK': 21, 'alpha': 0.15605597925873946, 'normalize_similarity': True, 'implicit': False}. Best is trial 10 with value: 0.05370249298547826.\n"
     ]
    },
    {
     "name": "stdout",
     "output_type": "stream",
     "text": [
      "P3alphaRecommender: Similarity column 38121 (100.0%), 1117.30 column/sec. Elapsed time 34.12 sec\n",
      "EvaluatorHoldout: Ignoring 173 ( 0.5%) Users that have less than 1 test interactions\n",
      "EvaluatorHoldout: Processed 35563 (100.0%) in 42.98 sec. Users per second: 827\n",
      "P3alphaRecommender: Similarity column 38121 (100.0%), 1110.81 column/sec. Elapsed time 34.32 sec\n",
      "EvaluatorHoldout: Ignoring 163 ( 0.5%) Users that have less than 1 test interactions\n",
      "EvaluatorHoldout: Processed 35573 (100.0%) in 43.23 sec. Users per second: 823\n",
      "P3alphaRecommender: Similarity column 38121 (100.0%), 1100.53 column/sec. Elapsed time 34.64 sec\n",
      "EvaluatorHoldout: Ignoring 150 ( 0.4%) Users that have less than 1 test interactions\n",
      "EvaluatorHoldout: Processed 35586 (100.0%) in 42.02 sec. Users per second: 847\n",
      "P3alphaRecommender: Similarity column 38121 (100.0%), 1099.52 column/sec. Elapsed time 34.67 sec\n",
      "EvaluatorHoldout: Ignoring 167 ( 0.5%) Users that have less than 1 test interactions\n",
      "EvaluatorHoldout: Processed 35569 (100.0%) in 41.88 sec. Users per second: 849\n",
      "P3alphaRecommender: Similarity column 38121 (100.0%), 1101.78 column/sec. Elapsed time 34.60 sec\n",
      "EvaluatorHoldout: Ignoring 172 ( 0.5%) Users that have less than 1 test interactions\n",
      "EvaluatorHoldout: Processed 35564 (100.0%) in 42.78 sec. Users per second: 831\n"
     ]
    },
    {
     "name": "stderr",
     "output_type": "stream",
     "text": [
      "[I 2025-01-05 16:50:30,666] Trial 169 finished with value: 0.03825159292314441 and parameters: {'topK': 411, 'alpha': 0.22738529911600316, 'normalize_similarity': True, 'implicit': False}. Best is trial 10 with value: 0.05370249298547826.\n"
     ]
    },
    {
     "name": "stdout",
     "output_type": "stream",
     "text": [
      "P3alphaRecommender: Similarity column 38121 (100.0%), 2033.86 column/sec. Elapsed time 18.74 sec\n",
      "EvaluatorHoldout: Ignoring 173 ( 0.5%) Users that have less than 1 test interactions\n",
      "EvaluatorHoldout: Processed 35563 (100.0%) in 34.00 sec. Users per second: 1046\n",
      "P3alphaRecommender: Similarity column 38121 (100.0%), 2068.79 column/sec. Elapsed time 18.43 sec\n",
      "EvaluatorHoldout: Ignoring 163 ( 0.5%) Users that have less than 1 test interactions\n",
      "EvaluatorHoldout: Processed 35573 (100.0%) in 34.88 sec. Users per second: 1020\n",
      "P3alphaRecommender: Similarity column 38121 (100.0%), 2018.84 column/sec. Elapsed time 18.88 sec\n",
      "EvaluatorHoldout: Ignoring 150 ( 0.4%) Users that have less than 1 test interactions\n",
      "EvaluatorHoldout: Processed 35586 (100.0%) in 34.69 sec. Users per second: 1026\n",
      "P3alphaRecommender: Similarity column 38121 (100.0%), 2011.20 column/sec. Elapsed time 18.95 sec\n",
      "EvaluatorHoldout: Ignoring 167 ( 0.5%) Users that have less than 1 test interactions\n",
      "EvaluatorHoldout: Processed 35569 (100.0%) in 34.23 sec. Users per second: 1039\n",
      "P3alphaRecommender: Similarity column 38121 (100.0%), 2031.62 column/sec. Elapsed time 18.76 sec\n",
      "EvaluatorHoldout: Ignoring 172 ( 0.5%) Users that have less than 1 test interactions\n",
      "EvaluatorHoldout: Processed 35564 (100.0%) in 34.09 sec. Users per second: 1043\n"
     ]
    },
    {
     "name": "stderr",
     "output_type": "stream",
     "text": [
      "[I 2025-01-05 16:55:08,822] Trial 170 finished with value: 0.04913631963637322 and parameters: {'topK': 67, 'alpha': 0.15462086590885787, 'normalize_similarity': True, 'implicit': False}. Best is trial 10 with value: 0.05370249298547826.\n"
     ]
    },
    {
     "name": "stdout",
     "output_type": "stream",
     "text": [
      "P3alphaRecommender: Similarity column 38121 (100.0%), 2448.05 column/sec. Elapsed time 15.57 sec\n",
      "EvaluatorHoldout: Ignoring 173 ( 0.5%) Users that have less than 1 test interactions\n",
      "EvaluatorHoldout: Processed 35563 (100.0%) in 28.60 sec. Users per second: 1243\n",
      "P3alphaRecommender: Similarity column 38121 (100.0%), 2467.40 column/sec. Elapsed time 15.45 sec\n",
      "EvaluatorHoldout: Ignoring 163 ( 0.5%) Users that have less than 1 test interactions\n",
      "EvaluatorHoldout: Processed 35573 (100.0%) in 28.74 sec. Users per second: 1238\n",
      "P3alphaRecommender: Similarity column 38121 (100.0%), 2530.28 column/sec. Elapsed time 15.07 sec\n",
      "EvaluatorHoldout: Ignoring 150 ( 0.4%) Users that have less than 1 test interactions\n",
      "EvaluatorHoldout: Processed 35586 (100.0%) in 28.34 sec. Users per second: 1256\n",
      "P3alphaRecommender: Similarity column 38121 (100.0%), 2505.56 column/sec. Elapsed time 15.21 sec\n",
      "EvaluatorHoldout: Ignoring 167 ( 0.5%) Users that have less than 1 test interactions\n",
      "EvaluatorHoldout: Processed 35569 (100.0%) in 28.86 sec. Users per second: 1233\n",
      "P3alphaRecommender: Similarity column 38121 (100.0%), 2488.00 column/sec. Elapsed time 15.32 sec\n",
      "EvaluatorHoldout: Ignoring 172 ( 0.5%) Users that have less than 1 test interactions\n",
      "EvaluatorHoldout: Processed 35564 (100.0%) in 29.40 sec. Users per second: 1210\n"
     ]
    },
    {
     "name": "stderr",
     "output_type": "stream",
     "text": [
      "[I 2025-01-05 16:58:53,316] Trial 171 finished with value: 0.03644820818813297 and parameters: {'topK': 2, 'alpha': 0.6754142551196689, 'normalize_similarity': True, 'implicit': False}. Best is trial 10 with value: 0.05370249298547826.\n"
     ]
    },
    {
     "name": "stdout",
     "output_type": "stream",
     "text": [
      "P3alphaRecommender: Similarity column 38121 (100.0%), 2209.75 column/sec. Elapsed time 17.25 sec\n",
      "EvaluatorHoldout: Ignoring 173 ( 0.5%) Users that have less than 1 test interactions\n",
      "EvaluatorHoldout: Processed 35563 (100.0%) in 32.18 sec. Users per second: 1105\n",
      "P3alphaRecommender: Similarity column 38121 (100.0%), 2209.95 column/sec. Elapsed time 17.25 sec\n",
      "EvaluatorHoldout: Ignoring 163 ( 0.5%) Users that have less than 1 test interactions\n",
      "EvaluatorHoldout: Processed 35573 (100.0%) in 33.52 sec. Users per second: 1061\n",
      "P3alphaRecommender: Similarity column 38121 (100.0%), 2148.04 column/sec. Elapsed time 17.75 sec\n",
      "EvaluatorHoldout: Ignoring 150 ( 0.4%) Users that have less than 1 test interactions\n",
      "EvaluatorHoldout: Processed 35586 (100.0%) in 33.25 sec. Users per second: 1070\n",
      "P3alphaRecommender: Similarity column 38121 (100.0%), 2238.38 column/sec. Elapsed time 17.03 sec\n",
      "EvaluatorHoldout: Ignoring 167 ( 0.5%) Users that have less than 1 test interactions\n",
      "EvaluatorHoldout: Processed 35569 (100.0%) in 33.30 sec. Users per second: 1068\n",
      "P3alphaRecommender: Similarity column 38121 (100.0%), 2223.81 column/sec. Elapsed time 17.14 sec\n",
      "EvaluatorHoldout: Ignoring 172 ( 0.5%) Users that have less than 1 test interactions\n",
      "EvaluatorHoldout: Processed 35564 (100.0%) in 33.44 sec. Users per second: 1064\n"
     ]
    },
    {
     "name": "stderr",
     "output_type": "stream",
     "text": [
      "[I 2025-01-05 17:03:12,466] Trial 172 finished with value: 0.05232801211309551 and parameters: {'topK': 27, 'alpha': 0.08051724095874796, 'normalize_similarity': True, 'implicit': False}. Best is trial 10 with value: 0.05370249298547826.\n"
     ]
    },
    {
     "name": "stdout",
     "output_type": "stream",
     "text": [
      "P3alphaRecommender: Similarity column 38121 (100.0%), 2068.71 column/sec. Elapsed time 18.43 sec\n",
      "EvaluatorHoldout: Ignoring 173 ( 0.5%) Users that have less than 1 test interactions\n",
      "EvaluatorHoldout: Processed 35563 (100.0%) in 32.77 sec. Users per second: 1085\n",
      "P3alphaRecommender: Similarity column 38121 (100.0%), 2061.56 column/sec. Elapsed time 18.49 sec\n",
      "EvaluatorHoldout: Ignoring 163 ( 0.5%) Users that have less than 1 test interactions\n",
      "EvaluatorHoldout: Processed 35573 (100.0%) in 33.82 sec. Users per second: 1052\n",
      "P3alphaRecommender: Similarity column 38121 (100.0%), 2112.95 column/sec. Elapsed time 18.04 sec\n",
      "EvaluatorHoldout: Ignoring 150 ( 0.4%) Users that have less than 1 test interactions\n",
      "EvaluatorHoldout: Processed 35586 (100.0%) in 34.49 sec. Users per second: 1032\n",
      "P3alphaRecommender: Similarity column 38121 (100.0%), 2102.45 column/sec. Elapsed time 18.13 sec\n",
      "EvaluatorHoldout: Ignoring 167 ( 0.5%) Users that have less than 1 test interactions\n",
      "EvaluatorHoldout: Processed 35569 (100.0%) in 33.64 sec. Users per second: 1057\n",
      "P3alphaRecommender: Similarity column 38121 (100.0%), 2137.88 column/sec. Elapsed time 17.83 sec\n",
      "EvaluatorHoldout: Ignoring 172 ( 0.5%) Users that have less than 1 test interactions\n",
      "EvaluatorHoldout: Processed 35564 (100.0%) in 33.56 sec. Users per second: 1060\n"
     ]
    },
    {
     "name": "stderr",
     "output_type": "stream",
     "text": [
      "[I 2025-01-05 17:07:41,390] Trial 173 finished with value: 0.05058215622683474 and parameters: {'topK': 46, 'alpha': 0.10356321239964451, 'normalize_similarity': True, 'implicit': False}. Best is trial 10 with value: 0.05370249298547826.\n"
     ]
    },
    {
     "name": "stdout",
     "output_type": "stream",
     "text": [
      "P3alphaRecommender: Similarity column 38121 (100.0%), 3326.20 column/sec. Elapsed time 11.46 sec\n",
      "EvaluatorHoldout: Ignoring 173 ( 0.5%) Users that have less than 1 test interactions\n",
      "EvaluatorHoldout: Processed 35563 (100.0%) in 27.47 sec. Users per second: 1294\n",
      "P3alphaRecommender: Similarity column 38121 (100.0%), 3111.32 column/sec. Elapsed time 12.25 sec\n",
      "EvaluatorHoldout: Ignoring 163 ( 0.5%) Users that have less than 1 test interactions\n",
      "EvaluatorHoldout: Processed 35573 (100.0%) in 26.18 sec. Users per second: 1359\n",
      "P3alphaRecommender: Similarity column 38121 (100.0%), 3147.71 column/sec. Elapsed time 12.11 sec\n",
      "EvaluatorHoldout: Ignoring 150 ( 0.4%) Users that have less than 1 test interactions\n",
      "EvaluatorHoldout: Processed 35586 (100.0%) in 26.68 sec. Users per second: 1334\n",
      "P3alphaRecommender: Similarity column 38121 (100.0%), 3145.02 column/sec. Elapsed time 12.12 sec\n",
      "EvaluatorHoldout: Ignoring 167 ( 0.5%) Users that have less than 1 test interactions\n",
      "EvaluatorHoldout: Processed 35569 (100.0%) in 27.14 sec. Users per second: 1310\n",
      "P3alphaRecommender: Similarity column 38121 (100.0%), 3177.34 column/sec. Elapsed time 12.00 sec\n",
      "EvaluatorHoldout: Ignoring 172 ( 0.5%) Users that have less than 1 test interactions\n",
      "EvaluatorHoldout: Processed 35564 (100.0%) in 26.67 sec. Users per second: 1334\n"
     ]
    },
    {
     "name": "stderr",
     "output_type": "stream",
     "text": [
      "[I 2025-01-05 17:10:56,467] Trial 174 finished with value: 0.0002664826418719655 and parameters: {'topK': 0, 'alpha': 0.7851582643799528, 'normalize_similarity': True, 'implicit': False}. Best is trial 10 with value: 0.05370249298547826.\n"
     ]
    },
    {
     "name": "stdout",
     "output_type": "stream",
     "text": [
      "P3alphaRecommender: Similarity column 38121 (100.0%), 2213.78 column/sec. Elapsed time 17.22 sec\n",
      "EvaluatorHoldout: Ignoring 173 ( 0.5%) Users that have less than 1 test interactions\n",
      "EvaluatorHoldout: Processed 35563 (100.0%) in 32.87 sec. Users per second: 1082\n",
      "P3alphaRecommender: Similarity column 38121 (100.0%), 2201.95 column/sec. Elapsed time 17.31 sec\n",
      "EvaluatorHoldout: Ignoring 163 ( 0.5%) Users that have less than 1 test interactions\n",
      "EvaluatorHoldout: Processed 35573 (100.0%) in 32.88 sec. Users per second: 1082\n",
      "P3alphaRecommender: Similarity column 38121 (100.0%), 2225.12 column/sec. Elapsed time 17.13 sec\n",
      "EvaluatorHoldout: Ignoring 150 ( 0.4%) Users that have less than 1 test interactions\n",
      "EvaluatorHoldout: Processed 35586 (100.0%) in 32.63 sec. Users per second: 1091\n",
      "P3alphaRecommender: Similarity column 38121 (100.0%), 2267.59 column/sec. Elapsed time 16.81 sec\n",
      "EvaluatorHoldout: Ignoring 167 ( 0.5%) Users that have less than 1 test interactions\n",
      "EvaluatorHoldout: Processed 35569 (100.0%) in 33.70 sec. Users per second: 1055\n",
      "P3alphaRecommender: Similarity column 38121 (100.0%), 2195.96 column/sec. Elapsed time 17.36 sec\n",
      "EvaluatorHoldout: Ignoring 172 ( 0.5%) Users that have less than 1 test interactions\n",
      "EvaluatorHoldout: Processed 35564 (100.0%) in 33.38 sec. Users per second: 1065\n"
     ]
    },
    {
     "name": "stderr",
     "output_type": "stream",
     "text": [
      "[I 2025-01-05 17:15:15,032] Trial 175 finished with value: 0.05255776313824743 and parameters: {'topK': 28, 'alpha': 0.17249124557091433, 'normalize_similarity': True, 'implicit': False}. Best is trial 10 with value: 0.05370249298547826.\n"
     ]
    },
    {
     "name": "stdout",
     "output_type": "stream",
     "text": [
      "P3alphaRecommender: Similarity column 38121 (100.0%), 1834.96 column/sec. Elapsed time 20.77 sec\n",
      "EvaluatorHoldout: Ignoring 173 ( 0.5%) Users that have less than 1 test interactions\n",
      "EvaluatorHoldout: Processed 35563 (100.0%) in 33.60 sec. Users per second: 1059\n",
      "P3alphaRecommender: Similarity column 38121 (100.0%), 1887.05 column/sec. Elapsed time 20.20 sec\n",
      "EvaluatorHoldout: Ignoring 163 ( 0.5%) Users that have less than 1 test interactions\n",
      "EvaluatorHoldout: Processed 35573 (100.0%) in 32.34 sec. Users per second: 1100\n",
      "P3alphaRecommender: Similarity column 38121 (100.0%), 1900.62 column/sec. Elapsed time 20.06 sec\n",
      "EvaluatorHoldout: Ignoring 150 ( 0.4%) Users that have less than 1 test interactions\n",
      "EvaluatorHoldout: Processed 35586 (100.0%) in 31.43 sec. Users per second: 1132\n",
      "P3alphaRecommender: Similarity column 38121 (100.0%), 1868.55 column/sec. Elapsed time 20.40 sec\n",
      "EvaluatorHoldout: Ignoring 167 ( 0.5%) Users that have less than 1 test interactions\n",
      "EvaluatorHoldout: Processed 35569 (100.0%) in 31.86 sec. Users per second: 1116\n",
      "P3alphaRecommender: Similarity column 38121 (100.0%), 1847.10 column/sec. Elapsed time 20.64 sec\n",
      "EvaluatorHoldout: Ignoring 172 ( 0.5%) Users that have less than 1 test interactions\n",
      "EvaluatorHoldout: Processed 35564 (100.0%) in 32.43 sec. Users per second: 1097\n"
     ]
    },
    {
     "name": "stderr",
     "output_type": "stream",
     "text": [
      "[I 2025-01-05 17:19:57,499] Trial 176 finished with value: 0.04746732427685902 and parameters: {'topK': 101, 'alpha': 0.5409981518276129, 'normalize_similarity': True, 'implicit': False}. Best is trial 10 with value: 0.05370249298547826.\n"
     ]
    },
    {
     "name": "stdout",
     "output_type": "stream",
     "text": [
      "P3alphaRecommender: Similarity column 38121 (100.0%), 1940.24 column/sec. Elapsed time 19.65 sec\n",
      "EvaluatorHoldout: Ignoring 173 ( 0.5%) Users that have less than 1 test interactions\n",
      "EvaluatorHoldout: Processed 35563 (100.0%) in 36.24 sec. Users per second: 981\n",
      "P3alphaRecommender: Similarity column 38121 (100.0%), 1943.09 column/sec. Elapsed time 19.62 sec\n",
      "EvaluatorHoldout: Ignoring 163 ( 0.5%) Users that have less than 1 test interactions\n",
      "EvaluatorHoldout: Processed 35573 (100.0%) in 35.56 sec. Users per second: 1000\n",
      "P3alphaRecommender: Similarity column 38121 (100.0%), 1966.34 column/sec. Elapsed time 19.39 sec\n",
      "EvaluatorHoldout: Ignoring 150 ( 0.4%) Users that have less than 1 test interactions\n",
      "EvaluatorHoldout: Processed 35586 (100.0%) in 36.00 sec. Users per second: 988\n",
      "P3alphaRecommender: Similarity column 38121 (100.0%), 2021.08 column/sec. Elapsed time 18.86 sec\n",
      "EvaluatorHoldout: Ignoring 167 ( 0.5%) Users that have less than 1 test interactions\n",
      "EvaluatorHoldout: Processed 35569 (100.0%) in 35.47 sec. Users per second: 1003\n",
      "P3alphaRecommender: Similarity column 38121 (100.0%), 1961.17 column/sec. Elapsed time 19.44 sec\n",
      "EvaluatorHoldout: Ignoring 172 ( 0.5%) Users that have less than 1 test interactions\n",
      "EvaluatorHoldout: Processed 35564 (100.0%) in 36.02 sec. Users per second: 987\n"
     ]
    },
    {
     "name": "stderr",
     "output_type": "stream",
     "text": [
      "[I 2025-01-05 17:24:48,024] Trial 177 finished with value: 0.04890617255157278 and parameters: {'topK': 70, 'alpha': 0.7469505168265322, 'normalize_similarity': True, 'implicit': False}. Best is trial 10 with value: 0.05370249298547826.\n"
     ]
    },
    {
     "name": "stdout",
     "output_type": "stream",
     "text": [
      "P3alphaRecommender: Similarity column 38121 (100.0%), 2200.89 column/sec. Elapsed time 17.32 sec\n",
      "EvaluatorHoldout: Ignoring 173 ( 0.5%) Users that have less than 1 test interactions\n",
      "EvaluatorHoldout: Processed 35563 (100.0%) in 34.05 sec. Users per second: 1044\n",
      "P3alphaRecommender: Similarity column 38121 (100.0%), 2187.37 column/sec. Elapsed time 17.43 sec\n",
      "EvaluatorHoldout: Ignoring 163 ( 0.5%) Users that have less than 1 test interactions\n",
      "EvaluatorHoldout: Processed 35573 (100.0%) in 33.06 sec. Users per second: 1076\n",
      "P3alphaRecommender: Similarity column 38121 (100.0%), 2199.56 column/sec. Elapsed time 17.33 sec\n",
      "EvaluatorHoldout: Ignoring 150 ( 0.4%) Users that have less than 1 test interactions\n",
      "EvaluatorHoldout: Processed 35586 (100.0%) in 33.50 sec. Users per second: 1062\n",
      "P3alphaRecommender: Similarity column 38121 (100.0%), 2204.17 column/sec. Elapsed time 17.29 sec\n",
      "EvaluatorHoldout: Ignoring 167 ( 0.5%) Users that have less than 1 test interactions\n",
      "EvaluatorHoldout: Processed 35569 (100.0%) in 33.17 sec. Users per second: 1072\n",
      "P3alphaRecommender: Similarity column 38121 (100.0%), 2224.81 column/sec. Elapsed time 17.13 sec\n",
      "EvaluatorHoldout: Ignoring 172 ( 0.5%) Users that have less than 1 test interactions\n",
      "EvaluatorHoldout: Processed 35564 (100.0%) in 32.85 sec. Users per second: 1083\n"
     ]
    },
    {
     "name": "stderr",
     "output_type": "stream",
     "text": [
      "[I 2025-01-05 17:29:08,691] Trial 178 finished with value: 0.052448670670091325 and parameters: {'topK': 30, 'alpha': 0.21952898847522254, 'normalize_similarity': True, 'implicit': False}. Best is trial 10 with value: 0.05370249298547826.\n"
     ]
    },
    {
     "name": "stdout",
     "output_type": "stream",
     "text": [
      "P3alphaRecommender: Similarity column 38121 (100.0%), 1791.54 column/sec. Elapsed time 21.28 sec\n",
      "EvaluatorHoldout: Ignoring 173 ( 0.5%) Users that have less than 1 test interactions\n",
      "EvaluatorHoldout: Processed 35563 (100.0%) in 32.43 sec. Users per second: 1097\n",
      "P3alphaRecommender: Similarity column 38121 (100.0%), 1785.66 column/sec. Elapsed time 21.35 sec\n",
      "EvaluatorHoldout: Ignoring 163 ( 0.5%) Users that have less than 1 test interactions\n",
      "EvaluatorHoldout: Processed 35573 (100.0%) in 33.54 sec. Users per second: 1060\n",
      "P3alphaRecommender: Similarity column 38121 (100.0%), 1820.82 column/sec. Elapsed time 20.94 sec\n",
      "EvaluatorHoldout: Ignoring 150 ( 0.4%) Users that have less than 1 test interactions\n",
      "EvaluatorHoldout: Processed 35586 (100.0%) in 33.30 sec. Users per second: 1069\n",
      "P3alphaRecommender: Similarity column 38121 (100.0%), 1774.88 column/sec. Elapsed time 21.48 sec\n",
      "EvaluatorHoldout: Ignoring 167 ( 0.5%) Users that have less than 1 test interactions\n",
      "EvaluatorHoldout: Processed 35569 (100.0%) in 32.42 sec. Users per second: 1097\n",
      "P3alphaRecommender: Similarity column 38121 (100.0%), 1812.68 column/sec. Elapsed time 21.03 sec\n",
      "EvaluatorHoldout: Ignoring 172 ( 0.5%) Users that have less than 1 test interactions\n",
      "EvaluatorHoldout: Processed 35564 (100.0%) in 32.62 sec. Users per second: 1090\n"
     ]
    },
    {
     "name": "stderr",
     "output_type": "stream",
     "text": [
      "[I 2025-01-05 17:33:59,407] Trial 179 finished with value: 0.04694639389465257 and parameters: {'topK': 113, 'alpha': 0.411915602914322, 'normalize_similarity': True, 'implicit': True}. Best is trial 10 with value: 0.05370249298547826.\n"
     ]
    },
    {
     "name": "stdout",
     "output_type": "stream",
     "text": [
      "P3alphaRecommender: Similarity column 38121 (100.0%), 2025.01 column/sec. Elapsed time 18.83 sec\n",
      "EvaluatorHoldout: Ignoring 173 ( 0.5%) Users that have less than 1 test interactions\n",
      "EvaluatorHoldout: Processed 35563 (100.0%) in 34.84 sec. Users per second: 1021\n",
      "P3alphaRecommender: Similarity column 38121 (100.0%), 2079.50 column/sec. Elapsed time 18.33 sec\n",
      "EvaluatorHoldout: Ignoring 163 ( 0.5%) Users that have less than 1 test interactions\n",
      "EvaluatorHoldout: Processed 35573 (100.0%) in 35.48 sec. Users per second: 1003\n",
      "P3alphaRecommender: Similarity column 38121 (100.0%), 2014.96 column/sec. Elapsed time 18.92 sec\n",
      "EvaluatorHoldout: Ignoring 150 ( 0.4%) Users that have less than 1 test interactions\n",
      "EvaluatorHoldout: Processed 35586 (100.0%) in 34.82 sec. Users per second: 1022\n",
      "P3alphaRecommender: Similarity column 38121 (100.0%), 2103.48 column/sec. Elapsed time 18.12 sec\n",
      "EvaluatorHoldout: Ignoring 167 ( 0.5%) Users that have less than 1 test interactions\n",
      "EvaluatorHoldout: Processed 35569 (100.0%) in 35.39 sec. Users per second: 1005\n",
      "P3alphaRecommender: Similarity column 38121 (100.0%), 2099.96 column/sec. Elapsed time 18.15 sec\n",
      "EvaluatorHoldout: Ignoring 172 ( 0.5%) Users that have less than 1 test interactions\n",
      "EvaluatorHoldout: Processed 35564 (100.0%) in 34.76 sec. Users per second: 1023\n"
     ]
    },
    {
     "name": "stderr",
     "output_type": "stream",
     "text": [
      "[I 2025-01-05 17:38:38,730] Trial 180 finished with value: 0.04371043937336743 and parameters: {'topK': 54, 'alpha': 0.6033163772172552, 'normalize_similarity': False, 'implicit': False}. Best is trial 10 with value: 0.05370249298547826.\n"
     ]
    },
    {
     "name": "stdout",
     "output_type": "stream",
     "text": [
      "P3alphaRecommender: Similarity column 38121 (100.0%), 2260.76 column/sec. Elapsed time 16.86 sec\n",
      "EvaluatorHoldout: Ignoring 173 ( 0.5%) Users that have less than 1 test interactions\n",
      "EvaluatorHoldout: Processed 35563 (100.0%) in 32.30 sec. Users per second: 1101\n",
      "P3alphaRecommender: Similarity column 38121 (100.0%), 2229.28 column/sec. Elapsed time 17.10 sec\n",
      "EvaluatorHoldout: Ignoring 163 ( 0.5%) Users that have less than 1 test interactions\n",
      "EvaluatorHoldout: Processed 35573 (100.0%) in 33.43 sec. Users per second: 1064\n",
      "P3alphaRecommender: Similarity column 38121 (100.0%), 2285.11 column/sec. Elapsed time 16.68 sec\n",
      "EvaluatorHoldout: Ignoring 150 ( 0.4%) Users that have less than 1 test interactions\n",
      "EvaluatorHoldout: Processed 35586 (100.0%) in 32.55 sec. Users per second: 1093\n",
      "P3alphaRecommender: Similarity column 38121 (100.0%), 2296.07 column/sec. Elapsed time 16.60 sec\n",
      "EvaluatorHoldout: Ignoring 167 ( 0.5%) Users that have less than 1 test interactions\n",
      "EvaluatorHoldout: Processed 35569 (100.0%) in 33.60 sec. Users per second: 1059\n",
      "P3alphaRecommender: Similarity column 38121 (100.0%), 2280.68 column/sec. Elapsed time 16.71 sec\n",
      "EvaluatorHoldout: Ignoring 172 ( 0.5%) Users that have less than 1 test interactions\n",
      "EvaluatorHoldout: Processed 35564 (100.0%) in 33.15 sec. Users per second: 1073\n"
     ]
    },
    {
     "name": "stderr",
     "output_type": "stream",
     "text": [
      "[I 2025-01-05 17:42:54,441] Trial 181 finished with value: 0.053138127327039986 and parameters: {'topK': 23, 'alpha': 0.6493811217171951, 'normalize_similarity': True, 'implicit': False}. Best is trial 10 with value: 0.05370249298547826.\n"
     ]
    },
    {
     "name": "stdout",
     "output_type": "stream",
     "text": [
      "P3alphaRecommender: Similarity column 38121 (100.0%), 2225.71 column/sec. Elapsed time 17.13 sec\n",
      "EvaluatorHoldout: Ignoring 173 ( 0.5%) Users that have less than 1 test interactions\n",
      "EvaluatorHoldout: Processed 35563 (100.0%) in 32.47 sec. Users per second: 1095\n",
      "P3alphaRecommender: Similarity column 38121 (100.0%), 2229.57 column/sec. Elapsed time 17.10 sec\n",
      "EvaluatorHoldout: Ignoring 163 ( 0.5%) Users that have less than 1 test interactions\n",
      "EvaluatorHoldout: Processed 35573 (100.0%) in 32.85 sec. Users per second: 1083\n",
      "P3alphaRecommender: Similarity column 38121 (100.0%), 2309.91 column/sec. Elapsed time 16.50 sec\n",
      "EvaluatorHoldout: Ignoring 150 ( 0.4%) Users that have less than 1 test interactions\n",
      "EvaluatorHoldout: Processed 35586 (100.0%) in 33.06 sec. Users per second: 1076\n",
      "P3alphaRecommender: Similarity column 38121 (100.0%), 2263.03 column/sec. Elapsed time 16.85 sec\n",
      "EvaluatorHoldout: Ignoring 167 ( 0.5%) Users that have less than 1 test interactions\n",
      "EvaluatorHoldout: Processed 35569 (100.0%) in 33.65 sec. Users per second: 1057\n",
      "P3alphaRecommender: Similarity column 38121 (100.0%), 2240.28 column/sec. Elapsed time 17.02 sec\n",
      "EvaluatorHoldout: Ignoring 172 ( 0.5%) Users that have less than 1 test interactions\n",
      "EvaluatorHoldout: Processed 35564 (100.0%) in 33.29 sec. Users per second: 1068\n"
     ]
    },
    {
     "name": "stderr",
     "output_type": "stream",
     "text": [
      "[I 2025-01-05 17:47:11,446] Trial 182 finished with value: 0.052718246880571085 and parameters: {'topK': 25, 'alpha': 0.730725279178008, 'normalize_similarity': True, 'implicit': False}. Best is trial 10 with value: 0.05370249298547826.\n"
     ]
    },
    {
     "name": "stdout",
     "output_type": "stream",
     "text": [
      "P3alphaRecommender: Similarity column 38121 (100.0%), 3408.51 column/sec. Elapsed time 11.18 sec\n",
      "EvaluatorHoldout: Ignoring 173 ( 0.5%) Users that have less than 1 test interactions\n",
      "EvaluatorHoldout: Processed 35563 (100.0%) in 27.23 sec. Users per second: 1306\n",
      "P3alphaRecommender: Similarity column 38121 (100.0%), 3418.43 column/sec. Elapsed time 11.15 sec\n",
      "EvaluatorHoldout: Ignoring 163 ( 0.5%) Users that have less than 1 test interactions\n",
      "EvaluatorHoldout: Processed 35573 (100.0%) in 28.12 sec. Users per second: 1265\n",
      "P3alphaRecommender: Similarity column 38121 (100.0%), 3461.86 column/sec. Elapsed time 11.01 sec\n",
      "EvaluatorHoldout: Ignoring 150 ( 0.4%) Users that have less than 1 test interactions\n",
      "EvaluatorHoldout: Processed 35586 (100.0%) in 28.65 sec. Users per second: 1242\n",
      "P3alphaRecommender: Similarity column 38121 (100.0%), 3375.35 column/sec. Elapsed time 11.29 sec\n",
      "EvaluatorHoldout: Ignoring 167 ( 0.5%) Users that have less than 1 test interactions\n",
      "EvaluatorHoldout: Processed 35569 (100.0%) in 28.66 sec. Users per second: 1241\n",
      "P3alphaRecommender: Similarity column 38121 (100.0%), 3313.59 column/sec. Elapsed time 11.50 sec\n",
      "EvaluatorHoldout: Ignoring 172 ( 0.5%) Users that have less than 1 test interactions\n",
      "EvaluatorHoldout: Processed 35564 (100.0%) in 29.15 sec. Users per second: 1220\n"
     ]
    },
    {
     "name": "stderr",
     "output_type": "stream",
     "text": [
      "[I 2025-01-05 17:50:33,136] Trial 183 finished with value: 0.01961097420207157 and parameters: {'topK': 1, 'alpha': 0.6535974702092937, 'normalize_similarity': True, 'implicit': False}. Best is trial 10 with value: 0.05370249298547826.\n"
     ]
    },
    {
     "name": "stdout",
     "output_type": "stream",
     "text": [
      "P3alphaRecommender: Similarity column 38121 (100.0%), 1968.88 column/sec. Elapsed time 19.36 sec\n",
      "EvaluatorHoldout: Ignoring 173 ( 0.5%) Users that have less than 1 test interactions\n",
      "EvaluatorHoldout: Processed 35563 (100.0%) in 35.96 sec. Users per second: 989\n",
      "P3alphaRecommender: Similarity column 38121 (100.0%), 1989.73 column/sec. Elapsed time 19.16 sec\n",
      "EvaluatorHoldout: Ignoring 163 ( 0.5%) Users that have less than 1 test interactions\n",
      "EvaluatorHoldout: Processed 35573 (100.0%) in 35.68 sec. Users per second: 997\n",
      "P3alphaRecommender: Similarity column 38121 (100.0%), 2038.20 column/sec. Elapsed time 18.70 sec\n",
      "EvaluatorHoldout: Ignoring 150 ( 0.4%) Users that have less than 1 test interactions\n",
      "EvaluatorHoldout: Processed 35586 (100.0%) in 35.36 sec. Users per second: 1006\n",
      "P3alphaRecommender: Similarity column 38121 (100.0%), 2017.19 column/sec. Elapsed time 18.90 sec\n",
      "EvaluatorHoldout: Ignoring 167 ( 0.5%) Users that have less than 1 test interactions\n",
      "EvaluatorHoldout: Processed 35569 (100.0%) in 36.40 sec. Users per second: 977\n",
      "P3alphaRecommender: Similarity column 38121 (100.0%), 1995.47 column/sec. Elapsed time 19.10 sec\n",
      "EvaluatorHoldout: Ignoring 172 ( 0.5%) Users that have less than 1 test interactions\n",
      "EvaluatorHoldout: Processed 35564 (100.0%) in 35.62 sec. Users per second: 998\n"
     ]
    },
    {
     "name": "stderr",
     "output_type": "stream",
     "text": [
      "[I 2025-01-05 17:55:21,862] Trial 184 finished with value: 0.04893820996096516 and parameters: {'topK': 73, 'alpha': 0.691235358346056, 'normalize_similarity': True, 'implicit': False}. Best is trial 10 with value: 0.05370249298547826.\n"
     ]
    },
    {
     "name": "stdout",
     "output_type": "stream",
     "text": [
      "P3alphaRecommender: Similarity column 38121 (100.0%), 2160.34 column/sec. Elapsed time 17.65 sec\n",
      "EvaluatorHoldout: Ignoring 173 ( 0.5%) Users that have less than 1 test interactions\n",
      "EvaluatorHoldout: Processed 35563 (100.0%) in 33.79 sec. Users per second: 1052\n",
      "P3alphaRecommender: Similarity column 38121 (100.0%), 2199.49 column/sec. Elapsed time 17.33 sec\n",
      "EvaluatorHoldout: Ignoring 163 ( 0.5%) Users that have less than 1 test interactions\n",
      "EvaluatorHoldout: Processed 35573 (100.0%) in 33.06 sec. Users per second: 1076\n",
      "P3alphaRecommender: Similarity column 38121 (100.0%), 2226.62 column/sec. Elapsed time 17.12 sec\n",
      "EvaluatorHoldout: Ignoring 150 ( 0.4%) Users that have less than 1 test interactions\n",
      "EvaluatorHoldout: Processed 35586 (100.0%) in 32.93 sec. Users per second: 1081\n",
      "P3alphaRecommender: Similarity column 38121 (100.0%), 2219.12 column/sec. Elapsed time 17.18 sec\n",
      "EvaluatorHoldout: Ignoring 167 ( 0.5%) Users that have less than 1 test interactions\n",
      "EvaluatorHoldout: Processed 35569 (100.0%) in 33.33 sec. Users per second: 1067\n",
      "P3alphaRecommender: Similarity column 38121 (100.0%), 2207.27 column/sec. Elapsed time 17.27 sec\n",
      "EvaluatorHoldout: Ignoring 172 ( 0.5%) Users that have less than 1 test interactions\n",
      "EvaluatorHoldout: Processed 35564 (100.0%) in 32.89 sec. Users per second: 1081\n"
     ]
    },
    {
     "name": "stderr",
     "output_type": "stream",
     "text": [
      "[I 2025-01-05 17:59:42,403] Trial 185 finished with value: 0.05254108530861705 and parameters: {'topK': 31, 'alpha': 0.5190039419469052, 'normalize_similarity': True, 'implicit': False}. Best is trial 10 with value: 0.05370249298547826.\n"
     ]
    },
    {
     "name": "stdout",
     "output_type": "stream",
     "text": [
      "P3alphaRecommender: Similarity column 38121 (100.0%), 3299.51 column/sec. Elapsed time 11.55 sec\n",
      "EvaluatorHoldout: Ignoring 173 ( 0.5%) Users that have less than 1 test interactions\n",
      "EvaluatorHoldout: Processed 35563 (100.0%) in 27.33 sec. Users per second: 1301\n",
      "P3alphaRecommender: Similarity column 38121 (100.0%), 3141.19 column/sec. Elapsed time 12.14 sec\n",
      "EvaluatorHoldout: Ignoring 163 ( 0.5%) Users that have less than 1 test interactions\n",
      "EvaluatorHoldout: Processed 35573 (100.0%) in 27.14 sec. Users per second: 1311\n",
      "P3alphaRecommender: Similarity column 38121 (100.0%), 3155.63 column/sec. Elapsed time 12.08 sec\n",
      "EvaluatorHoldout: Ignoring 150 ( 0.4%) Users that have less than 1 test interactions\n",
      "EvaluatorHoldout: Processed 35586 (100.0%) in 26.61 sec. Users per second: 1338\n",
      "P3alphaRecommender: Similarity column 38121 (100.0%), 3178.79 column/sec. Elapsed time 11.99 sec\n",
      "EvaluatorHoldout: Ignoring 167 ( 0.5%) Users that have less than 1 test interactions\n",
      "EvaluatorHoldout: Processed 35569 (100.0%) in 26.66 sec. Users per second: 1334\n",
      "P3alphaRecommender: Similarity column 38121 (100.0%), 3194.04 column/sec. Elapsed time 11.94 sec\n",
      "EvaluatorHoldout: Ignoring 172 ( 0.5%) Users that have less than 1 test interactions\n",
      "EvaluatorHoldout: Processed 35564 (100.0%) in 25.46 sec. Users per second: 1397\n"
     ]
    },
    {
     "name": "stderr",
     "output_type": "stream",
     "text": [
      "[I 2025-01-05 18:02:56,349] Trial 186 finished with value: 0.0002664826418719655 and parameters: {'topK': 0, 'alpha': 0.6396689405479431, 'normalize_similarity': True, 'implicit': False}. Best is trial 10 with value: 0.05370249298547826.\n"
     ]
    },
    {
     "name": "stdout",
     "output_type": "stream",
     "text": [
      "P3alphaRecommender: Similarity column 38121 (100.0%), 2027.62 column/sec. Elapsed time 18.80 sec\n",
      "EvaluatorHoldout: Ignoring 173 ( 0.5%) Users that have less than 1 test interactions\n",
      "EvaluatorHoldout: Processed 35563 (100.0%) in 35.23 sec. Users per second: 1009\n",
      "P3alphaRecommender: Similarity column 38121 (100.0%), 2003.76 column/sec. Elapsed time 19.02 sec\n",
      "EvaluatorHoldout: Ignoring 163 ( 0.5%) Users that have less than 1 test interactions\n",
      "EvaluatorHoldout: Processed 35573 (100.0%) in 35.63 sec. Users per second: 998\n",
      "P3alphaRecommender: Similarity column 38121 (100.0%), 1978.77 column/sec. Elapsed time 19.26 sec\n",
      "EvaluatorHoldout: Ignoring 150 ( 0.4%) Users that have less than 1 test interactions\n",
      "EvaluatorHoldout: Processed 35586 (100.0%) in 36.33 sec. Users per second: 979\n",
      "P3alphaRecommender: Similarity column 38121 (100.0%), 2009.41 column/sec. Elapsed time 18.97 sec\n",
      "EvaluatorHoldout: Ignoring 167 ( 0.5%) Users that have less than 1 test interactions\n",
      "EvaluatorHoldout: Processed 35569 (100.0%) in 35.21 sec. Users per second: 1010\n",
      "P3alphaRecommender: Similarity column 38121 (100.0%), 2060.56 column/sec. Elapsed time 18.50 sec\n",
      "EvaluatorHoldout: Ignoring 172 ( 0.5%) Users that have less than 1 test interactions\n",
      "EvaluatorHoldout: Processed 35564 (100.0%) in 34.66 sec. Users per second: 1026\n"
     ]
    },
    {
     "name": "stderr",
     "output_type": "stream",
     "text": [
      "[I 2025-01-05 18:07:40,260] Trial 187 finished with value: 0.05021489654233825 and parameters: {'topK': 60, 'alpha': 0.4706785708738227, 'normalize_similarity': True, 'implicit': False}. Best is trial 10 with value: 0.05370249298547826.\n"
     ]
    },
    {
     "name": "stdout",
     "output_type": "stream",
     "text": [
      "P3alphaRecommender: Similarity column 38121 (100.0%), 1878.14 column/sec. Elapsed time 20.30 sec\n",
      "EvaluatorHoldout: Ignoring 173 ( 0.5%) Users that have less than 1 test interactions\n",
      "EvaluatorHoldout: Processed 35563 (100.0%) in 32.22 sec. Users per second: 1104\n",
      "P3alphaRecommender: Similarity column 38121 (100.0%), 1888.11 column/sec. Elapsed time 20.19 sec\n",
      "EvaluatorHoldout: Ignoring 163 ( 0.5%) Users that have less than 1 test interactions\n",
      "EvaluatorHoldout: Processed 35573 (100.0%) in 33.21 sec. Users per second: 1071\n",
      "P3alphaRecommender: Similarity column 38121 (100.0%), 1868.08 column/sec. Elapsed time 20.41 sec\n",
      "EvaluatorHoldout: Ignoring 150 ( 0.4%) Users that have less than 1 test interactions\n",
      "EvaluatorHoldout: Processed 35586 (100.0%) in 34.17 sec. Users per second: 1041\n",
      "P3alphaRecommender: Similarity column 38121 (100.0%), 1811.65 column/sec. Elapsed time 21.04 sec\n",
      "EvaluatorHoldout: Ignoring 167 ( 0.5%) Users that have less than 1 test interactions\n",
      "EvaluatorHoldout: Processed 35569 (100.0%) in 33.16 sec. Users per second: 1073\n",
      "P3alphaRecommender: Similarity column 38121 (100.0%), 1890.97 column/sec. Elapsed time 20.16 sec\n",
      "EvaluatorHoldout: Ignoring 172 ( 0.5%) Users that have less than 1 test interactions\n",
      "EvaluatorHoldout: Processed 35564 (100.0%) in 32.79 sec. Users per second: 1084\n"
     ]
    },
    {
     "name": "stderr",
     "output_type": "stream",
     "text": [
      "[I 2025-01-05 18:12:26,989] Trial 188 finished with value: 0.04738824552417005 and parameters: {'topK': 101, 'alpha': 0.5923027782159911, 'normalize_similarity': True, 'implicit': False}. Best is trial 10 with value: 0.05370249298547826.\n"
     ]
    },
    {
     "name": "stdout",
     "output_type": "stream",
     "text": [
      "P3alphaRecommender: Similarity column 38121 (100.0%), 2120.68 column/sec. Elapsed time 17.98 sec\n",
      "EvaluatorHoldout: Ignoring 173 ( 0.5%) Users that have less than 1 test interactions\n",
      "EvaluatorHoldout: Processed 35563 (100.0%) in 34.42 sec. Users per second: 1033\n",
      "P3alphaRecommender: Similarity column 38121 (100.0%), 2160.98 column/sec. Elapsed time 17.64 sec\n",
      "EvaluatorHoldout: Ignoring 163 ( 0.5%) Users that have less than 1 test interactions\n",
      "EvaluatorHoldout: Processed 35573 (100.0%) in 34.14 sec. Users per second: 1042\n",
      "P3alphaRecommender: Similarity column 38121 (100.0%), 2103.54 column/sec. Elapsed time 18.12 sec\n",
      "EvaluatorHoldout: Ignoring 150 ( 0.4%) Users that have less than 1 test interactions\n",
      "EvaluatorHoldout: Processed 35586 (100.0%) in 34.00 sec. Users per second: 1047\n",
      "P3alphaRecommender: Similarity column 38121 (100.0%), 2147.12 column/sec. Elapsed time 17.75 sec\n",
      "EvaluatorHoldout: Ignoring 167 ( 0.5%) Users that have less than 1 test interactions\n",
      "EvaluatorHoldout: Processed 35569 (100.0%) in 34.94 sec. Users per second: 1018\n",
      "P3alphaRecommender: Similarity column 38121 (100.0%), 2070.36 column/sec. Elapsed time 18.41 sec\n",
      "EvaluatorHoldout: Ignoring 172 ( 0.5%) Users that have less than 1 test interactions\n",
      "EvaluatorHoldout: Processed 35564 (100.0%) in 34.04 sec. Users per second: 1045\n"
     ]
    },
    {
     "name": "stderr",
     "output_type": "stream",
     "text": [
      "[I 2025-01-05 18:16:58,320] Trial 189 finished with value: 0.050559405869964304 and parameters: {'topK': 48, 'alpha': 0.14605065182844562, 'normalize_similarity': True, 'implicit': False}. Best is trial 10 with value: 0.05370249298547826.\n"
     ]
    },
    {
     "name": "stdout",
     "output_type": "stream",
     "text": [
      "P3alphaRecommender: Similarity column 38121 (100.0%), 1980.44 column/sec. Elapsed time 19.25 sec\n",
      "EvaluatorHoldout: Ignoring 173 ( 0.5%) Users that have less than 1 test interactions\n",
      "EvaluatorHoldout: Processed 35563 (100.0%) in 35.98 sec. Users per second: 988\n",
      "P3alphaRecommender: Similarity column 38121 (100.0%), 1944.00 column/sec. Elapsed time 19.61 sec\n",
      "EvaluatorHoldout: Ignoring 163 ( 0.5%) Users that have less than 1 test interactions\n",
      "EvaluatorHoldout: Processed 35573 (100.0%) in 36.31 sec. Users per second: 980\n",
      "P3alphaRecommender: Similarity column 38121 (100.0%), 1930.09 column/sec. Elapsed time 19.75 sec\n",
      "EvaluatorHoldout: Ignoring 150 ( 0.4%) Users that have less than 1 test interactions\n",
      "EvaluatorHoldout: Processed 35586 (100.0%) in 36.76 sec. Users per second: 968\n",
      "P3alphaRecommender: Similarity column 38121 (100.0%), 1900.03 column/sec. Elapsed time 20.06 sec\n",
      "EvaluatorHoldout: Ignoring 167 ( 0.5%) Users that have less than 1 test interactions\n",
      "EvaluatorHoldout: Processed 35569 (100.0%) in 37.15 sec. Users per second: 957\n",
      "P3alphaRecommender: Similarity column 38121 (100.0%), 1942.60 column/sec. Elapsed time 19.62 sec\n",
      "EvaluatorHoldout: Ignoring 172 ( 0.5%) Users that have less than 1 test interactions\n",
      "EvaluatorHoldout: Processed 35564 (100.0%) in 36.40 sec. Users per second: 977\n"
     ]
    },
    {
     "name": "stderr",
     "output_type": "stream",
     "text": [
      "[I 2025-01-05 18:21:56,273] Trial 190 finished with value: 0.04223967199505846 and parameters: {'topK': 81, 'alpha': 1.991282266522873, 'normalize_similarity': True, 'implicit': False}. Best is trial 10 with value: 0.05370249298547826.\n"
     ]
    },
    {
     "name": "stdout",
     "output_type": "stream",
     "text": [
      "P3alphaRecommender: Similarity column 38121 (100.0%), 2237.13 column/sec. Elapsed time 17.04 sec\n",
      "EvaluatorHoldout: Ignoring 173 ( 0.5%) Users that have less than 1 test interactions\n",
      "EvaluatorHoldout: Processed 35563 (100.0%) in 33.22 sec. Users per second: 1071\n",
      "P3alphaRecommender: Similarity column 38121 (100.0%), 2278.23 column/sec. Elapsed time 16.73 sec\n",
      "EvaluatorHoldout: Ignoring 163 ( 0.5%) Users that have less than 1 test interactions\n",
      "EvaluatorHoldout: Processed 35573 (100.0%) in 32.47 sec. Users per second: 1096\n",
      "P3alphaRecommender: Similarity column 38121 (100.0%), 2277.57 column/sec. Elapsed time 16.74 sec\n",
      "EvaluatorHoldout: Ignoring 150 ( 0.4%) Users that have less than 1 test interactions\n",
      "EvaluatorHoldout: Processed 35586 (100.0%) in 33.95 sec. Users per second: 1048\n",
      "P3alphaRecommender: Similarity column 38121 (100.0%), 2277.29 column/sec. Elapsed time 16.74 sec\n",
      "EvaluatorHoldout: Ignoring 167 ( 0.5%) Users that have less than 1 test interactions\n",
      "EvaluatorHoldout: Processed 35569 (100.0%) in 32.88 sec. Users per second: 1082\n",
      "P3alphaRecommender: Similarity column 38121 (100.0%), 2206.55 column/sec. Elapsed time 17.28 sec\n",
      "EvaluatorHoldout: Ignoring 172 ( 0.5%) Users that have less than 1 test interactions\n",
      "EvaluatorHoldout: Processed 35564 (100.0%) in 33.35 sec. Users per second: 1066\n"
     ]
    },
    {
     "name": "stderr",
     "output_type": "stream",
     "text": [
      "[I 2025-01-05 18:26:13,795] Trial 191 finished with value: 0.052636546251000324 and parameters: {'topK': 25, 'alpha': 0.750689965843235, 'normalize_similarity': True, 'implicit': False}. Best is trial 10 with value: 0.05370249298547826.\n"
     ]
    },
    {
     "name": "stdout",
     "output_type": "stream",
     "text": [
      "P3alphaRecommender: Similarity column 38121 (100.0%), 2234.03 column/sec. Elapsed time 17.06 sec\n",
      "EvaluatorHoldout: Ignoring 173 ( 0.5%) Users that have less than 1 test interactions\n",
      "EvaluatorHoldout: Processed 35563 (100.0%) in 32.56 sec. Users per second: 1092\n",
      "P3alphaRecommender: Similarity column 38121 (100.0%), 2310.14 column/sec. Elapsed time 16.50 sec\n",
      "EvaluatorHoldout: Ignoring 163 ( 0.5%) Users that have less than 1 test interactions\n",
      "EvaluatorHoldout: Processed 35573 (100.0%) in 32.35 sec. Users per second: 1100\n",
      "P3alphaRecommender: Similarity column 38121 (100.0%), 2231.33 column/sec. Elapsed time 17.08 sec\n",
      "EvaluatorHoldout: Ignoring 150 ( 0.4%) Users that have less than 1 test interactions\n",
      "EvaluatorHoldout: Processed 35586 (100.0%) in 32.47 sec. Users per second: 1096\n",
      "P3alphaRecommender: Similarity column 38121 (100.0%), 2203.02 column/sec. Elapsed time 17.30 sec\n",
      "EvaluatorHoldout: Ignoring 167 ( 0.5%) Users that have less than 1 test interactions\n",
      "EvaluatorHoldout: Processed 35569 (100.0%) in 33.35 sec. Users per second: 1066\n",
      "P3alphaRecommender: Similarity column 38121 (100.0%), 2292.99 column/sec. Elapsed time 16.62 sec\n",
      "EvaluatorHoldout: Ignoring 172 ( 0.5%) Users that have less than 1 test interactions\n",
      "EvaluatorHoldout: Processed 35564 (100.0%) in 33.28 sec. Users per second: 1069\n"
     ]
    },
    {
     "name": "stderr",
     "output_type": "stream",
     "text": [
      "[I 2025-01-05 18:30:29,608] Trial 192 finished with value: 0.05274947957147995 and parameters: {'topK': 25, 'alpha': 0.7191887505908455, 'normalize_similarity': True, 'implicit': False}. Best is trial 10 with value: 0.05370249298547826.\n"
     ]
    },
    {
     "name": "stdout",
     "output_type": "stream",
     "text": [
      "P3alphaRecommender: Similarity column 38121 (100.0%), 3208.70 column/sec. Elapsed time 11.88 sec\n",
      "EvaluatorHoldout: Ignoring 173 ( 0.5%) Users that have less than 1 test interactions\n",
      "EvaluatorHoldout: Processed 35563 (100.0%) in 26.63 sec. Users per second: 1335\n",
      "P3alphaRecommender: Similarity column 38121 (100.0%), 3351.85 column/sec. Elapsed time 11.37 sec\n",
      "EvaluatorHoldout: Ignoring 163 ( 0.5%) Users that have less than 1 test interactions\n",
      "EvaluatorHoldout: Processed 35573 (100.0%) in 26.12 sec. Users per second: 1362\n",
      "P3alphaRecommender: Similarity column 38121 (100.0%), 3235.95 column/sec. Elapsed time 11.78 sec\n",
      "EvaluatorHoldout: Ignoring 150 ( 0.4%) Users that have less than 1 test interactions\n",
      "EvaluatorHoldout: Processed 35586 (100.0%) in 26.82 sec. Users per second: 1327\n",
      "P3alphaRecommender: Similarity column 38121 (100.0%), 3195.67 column/sec. Elapsed time 11.93 sec\n",
      "EvaluatorHoldout: Ignoring 167 ( 0.5%) Users that have less than 1 test interactions\n",
      "EvaluatorHoldout: Processed 35569 (100.0%) in 26.31 sec. Users per second: 1352\n",
      "P3alphaRecommender: Similarity column 38121 (100.0%), 3277.38 column/sec. Elapsed time 11.63 sec\n",
      "EvaluatorHoldout: Ignoring 172 ( 0.5%) Users that have less than 1 test interactions\n",
      "EvaluatorHoldout: Processed 35564 (100.0%) in 26.50 sec. Users per second: 1342\n"
     ]
    },
    {
     "name": "stderr",
     "output_type": "stream",
     "text": [
      "[I 2025-01-05 18:33:41,582] Trial 193 finished with value: 0.0002664826418719655 and parameters: {'topK': 0, 'alpha': 0.6951791764753091, 'normalize_similarity': True, 'implicit': False}. Best is trial 10 with value: 0.05370249298547826.\n"
     ]
    },
    {
     "name": "stdout",
     "output_type": "stream",
     "text": [
      "P3alphaRecommender: Similarity column 38121 (100.0%), 2115.19 column/sec. Elapsed time 18.02 sec\n",
      "EvaluatorHoldout: Ignoring 173 ( 0.5%) Users that have less than 1 test interactions\n",
      "EvaluatorHoldout: Processed 35563 (100.0%) in 34.81 sec. Users per second: 1022\n",
      "P3alphaRecommender: Similarity column 38121 (100.0%), 2154.12 column/sec. Elapsed time 17.70 sec\n",
      "EvaluatorHoldout: Ignoring 163 ( 0.5%) Users that have less than 1 test interactions\n",
      "EvaluatorHoldout: Processed 35573 (100.0%) in 34.45 sec. Users per second: 1033\n",
      "P3alphaRecommender: Similarity column 38121 (100.0%), 2092.63 column/sec. Elapsed time 18.22 sec\n",
      "EvaluatorHoldout: Ignoring 150 ( 0.4%) Users that have less than 1 test interactions\n",
      "EvaluatorHoldout: Processed 35586 (100.0%) in 34.71 sec. Users per second: 1025\n",
      "P3alphaRecommender: Similarity column 38121 (100.0%), 2135.45 column/sec. Elapsed time 17.85 sec\n",
      "EvaluatorHoldout: Ignoring 167 ( 0.5%) Users that have less than 1 test interactions\n",
      "EvaluatorHoldout: Processed 35569 (100.0%) in 34.12 sec. Users per second: 1043\n",
      "P3alphaRecommender: Similarity column 38121 (100.0%), 2129.46 column/sec. Elapsed time 17.90 sec\n",
      "EvaluatorHoldout: Ignoring 172 ( 0.5%) Users that have less than 1 test interactions\n",
      "EvaluatorHoldout: Processed 35564 (100.0%) in 33.63 sec. Users per second: 1058\n"
     ]
    },
    {
     "name": "stderr",
     "output_type": "stream",
     "text": [
      "[I 2025-01-05 18:38:12,820] Trial 194 finished with value: 0.051100629641741335 and parameters: {'topK': 44, 'alpha': 0.6499203045289901, 'normalize_similarity': True, 'implicit': False}. Best is trial 10 with value: 0.05370249298547826.\n"
     ]
    },
    {
     "name": "stdout",
     "output_type": "stream",
     "text": [
      "P3alphaRecommender: Similarity column 38121 (100.0%), 2025.53 column/sec. Elapsed time 18.82 sec\n",
      "EvaluatorHoldout: Ignoring 173 ( 0.5%) Users that have less than 1 test interactions\n",
      "EvaluatorHoldout: Processed 35563 (100.0%) in 34.31 sec. Users per second: 1037\n",
      "P3alphaRecommender: Similarity column 38121 (100.0%), 2040.35 column/sec. Elapsed time 18.68 sec\n",
      "EvaluatorHoldout: Ignoring 163 ( 0.5%) Users that have less than 1 test interactions\n",
      "EvaluatorHoldout: Processed 35573 (100.0%) in 35.36 sec. Users per second: 1006\n",
      "P3alphaRecommender: Similarity column 38121 (100.0%), 1988.09 column/sec. Elapsed time 19.17 sec\n",
      "EvaluatorHoldout: Ignoring 150 ( 0.4%) Users that have less than 1 test interactions\n",
      "EvaluatorHoldout: Processed 35586 (100.0%) in 34.98 sec. Users per second: 1017\n",
      "P3alphaRecommender: Similarity column 38121 (100.0%), 2037.42 column/sec. Elapsed time 18.71 sec\n",
      "EvaluatorHoldout: Ignoring 167 ( 0.5%) Users that have less than 1 test interactions\n",
      "EvaluatorHoldout: Processed 35569 (100.0%) in 34.93 sec. Users per second: 1018\n",
      "P3alphaRecommender: Similarity column 38121 (100.0%), 2068.69 column/sec. Elapsed time 18.43 sec\n",
      "EvaluatorHoldout: Ignoring 172 ( 0.5%) Users that have less than 1 test interactions\n",
      "EvaluatorHoldout: Processed 35564 (100.0%) in 35.53 sec. Users per second: 1001\n"
     ]
    },
    {
     "name": "stderr",
     "output_type": "stream",
     "text": [
      "[I 2025-01-05 18:42:54,624] Trial 195 finished with value: 0.04984303897361041 and parameters: {'topK': 64, 'alpha': 0.55883632567692, 'normalize_similarity': True, 'implicit': False}. Best is trial 10 with value: 0.05370249298547826.\n"
     ]
    },
    {
     "name": "stdout",
     "output_type": "stream",
     "text": [
      "P3alphaRecommender: Similarity column 38121 (100.0%), 2261.43 column/sec. Elapsed time 16.86 sec\n",
      "EvaluatorHoldout: Ignoring 173 ( 0.5%) Users that have less than 1 test interactions\n",
      "EvaluatorHoldout: Processed 35563 (100.0%) in 33.31 sec. Users per second: 1068\n",
      "P3alphaRecommender: Similarity column 38121 (100.0%), 2196.48 column/sec. Elapsed time 17.36 sec\n",
      "EvaluatorHoldout: Ignoring 163 ( 0.5%) Users that have less than 1 test interactions\n",
      "EvaluatorHoldout: Processed 35573 (100.0%) in 34.55 sec. Users per second: 1030\n",
      "P3alphaRecommender: Similarity column 38121 (100.0%), 2290.18 column/sec. Elapsed time 16.65 sec\n",
      "EvaluatorHoldout: Ignoring 150 ( 0.4%) Users that have less than 1 test interactions\n",
      "EvaluatorHoldout: Processed 35586 (100.0%) in 33.85 sec. Users per second: 1051\n",
      "P3alphaRecommender: Similarity column 38121 (100.0%), 2168.80 column/sec. Elapsed time 17.58 sec\n",
      "EvaluatorHoldout: Ignoring 167 ( 0.5%) Users that have less than 1 test interactions\n",
      "EvaluatorHoldout: Processed 35569 (100.0%) in 34.35 sec. Users per second: 1036\n",
      "P3alphaRecommender: Similarity column 38121 (100.0%), 2197.53 column/sec. Elapsed time 17.35 sec\n",
      "EvaluatorHoldout: Ignoring 172 ( 0.5%) Users that have less than 1 test interactions\n",
      "EvaluatorHoldout: Processed 35564 (100.0%) in 33.17 sec. Users per second: 1072\n"
     ]
    },
    {
     "name": "stderr",
     "output_type": "stream",
     "text": [
      "[I 2025-01-05 18:47:17,349] Trial 196 finished with value: 0.05224156680194235 and parameters: {'topK': 28, 'alpha': 0.7826164143706671, 'normalize_similarity': True, 'implicit': False}. Best is trial 10 with value: 0.05370249298547826.\n"
     ]
    },
    {
     "name": "stdout",
     "output_type": "stream",
     "text": [
      "P3alphaRecommender: Similarity column 38121 (100.0%), 1916.36 column/sec. Elapsed time 19.89 sec\n",
      "EvaluatorHoldout: Ignoring 173 ( 0.5%) Users that have less than 1 test interactions\n",
      "EvaluatorHoldout: Processed 35563 (100.0%) in 33.88 sec. Users per second: 1050\n",
      "P3alphaRecommender: Similarity column 38121 (100.0%), 1911.85 column/sec. Elapsed time 19.94 sec\n",
      "EvaluatorHoldout: Ignoring 163 ( 0.5%) Users that have less than 1 test interactions\n",
      "EvaluatorHoldout: Processed 35573 (100.0%) in 36.89 sec. Users per second: 964\n",
      "P3alphaRecommender: Similarity column 38121 (100.0%), 1903.85 column/sec. Elapsed time 20.02 sec\n",
      "EvaluatorHoldout: Ignoring 150 ( 0.4%) Users that have less than 1 test interactions\n",
      "EvaluatorHoldout: Processed 35586 (100.0%) in 33.37 sec. Users per second: 1066\n",
      "P3alphaRecommender: Similarity column 38121 (100.0%), 1896.74 column/sec. Elapsed time 20.10 sec\n",
      "EvaluatorHoldout: Ignoring 167 ( 0.5%) Users that have less than 1 test interactions\n",
      "EvaluatorHoldout: Processed 35569 (100.0%) in 37.67 sec. Users per second: 944\n",
      "P3alphaRecommender: Similarity column 38121 (100.0%), 1918.76 column/sec. Elapsed time 19.87 sec\n",
      "EvaluatorHoldout: Ignoring 172 ( 0.5%) Users that have less than 1 test interactions\n",
      "EvaluatorHoldout: Processed 35564 (100.0%) in 32.65 sec. Users per second: 1089\n"
     ]
    },
    {
     "name": "stderr",
     "output_type": "stream",
     "text": [
      "[I 2025-01-05 18:52:09,667] Trial 197 finished with value: 0.04476627402902931 and parameters: {'topK': 88, 'alpha': 1.4078367965295273, 'normalize_similarity': True, 'implicit': False}. Best is trial 10 with value: 0.05370249298547826.\n"
     ]
    },
    {
     "name": "stdout",
     "output_type": "stream",
     "text": [
      "P3alphaRecommender: Similarity column 38121 (100.0%), 1743.58 column/sec. Elapsed time 21.86 sec\n",
      "EvaluatorHoldout: Ignoring 173 ( 0.5%) Users that have less than 1 test interactions\n",
      "EvaluatorHoldout: Processed 35563 (100.0%) in 33.56 sec. Users per second: 1060\n",
      "P3alphaRecommender: Similarity column 38121 (100.0%), 1741.20 column/sec. Elapsed time 21.89 sec\n",
      "EvaluatorHoldout: Ignoring 163 ( 0.5%) Users that have less than 1 test interactions\n",
      "EvaluatorHoldout: Processed 35573 (100.0%) in 34.24 sec. Users per second: 1039\n",
      "P3alphaRecommender: Similarity column 38121 (100.0%), 1726.58 column/sec. Elapsed time 22.08 sec\n",
      "EvaluatorHoldout: Ignoring 150 ( 0.4%) Users that have less than 1 test interactions\n",
      "EvaluatorHoldout: Processed 35586 (100.0%) in 33.07 sec. Users per second: 1076\n",
      "P3alphaRecommender: Similarity column 38121 (100.0%), 1725.92 column/sec. Elapsed time 22.09 sec\n",
      "EvaluatorHoldout: Ignoring 167 ( 0.5%) Users that have less than 1 test interactions\n",
      "EvaluatorHoldout: Processed 35569 (100.0%) in 33.86 sec. Users per second: 1050\n",
      "P3alphaRecommender: Similarity column 38121 (100.0%), 1743.69 column/sec. Elapsed time 21.86 sec\n",
      "EvaluatorHoldout: Ignoring 172 ( 0.5%) Users that have less than 1 test interactions\n",
      "EvaluatorHoldout: Processed 35564 (100.0%) in 33.55 sec. Users per second: 1060\n"
     ]
    },
    {
     "name": "stderr",
     "output_type": "stream",
     "text": [
      "[I 2025-01-05 18:57:11,773] Trial 198 finished with value: 0.04556134751061881 and parameters: {'topK': 132, 'alpha': 0.7114321432755171, 'normalize_similarity': True, 'implicit': False}. Best is trial 10 with value: 0.05370249298547826.\n"
     ]
    },
    {
     "name": "stdout",
     "output_type": "stream",
     "text": [
      "P3alphaRecommender: Similarity column 38121 (100.0%), 2125.62 column/sec. Elapsed time 17.93 sec\n",
      "EvaluatorHoldout: Ignoring 173 ( 0.5%) Users that have less than 1 test interactions\n",
      "EvaluatorHoldout: Processed 35563 (100.0%) in 34.02 sec. Users per second: 1045\n",
      "P3alphaRecommender: Similarity column 38121 (100.0%), 2128.46 column/sec. Elapsed time 17.91 sec\n",
      "EvaluatorHoldout: Ignoring 163 ( 0.5%) Users that have less than 1 test interactions\n",
      "EvaluatorHoldout: Processed 35573 (100.0%) in 34.47 sec. Users per second: 1032\n",
      "P3alphaRecommender: Similarity column 38121 (100.0%), 2078.32 column/sec. Elapsed time 18.34 sec\n",
      "EvaluatorHoldout: Ignoring 150 ( 0.4%) Users that have less than 1 test interactions\n",
      "EvaluatorHoldout: Processed 35586 (100.0%) in 33.76 sec. Users per second: 1054\n",
      "P3alphaRecommender: Similarity column 38121 (100.0%), 2050.52 column/sec. Elapsed time 18.59 sec\n",
      "EvaluatorHoldout: Ignoring 167 ( 0.5%) Users that have less than 1 test interactions\n",
      "EvaluatorHoldout: Processed 35569 (100.0%) in 34.58 sec. Users per second: 1029\n",
      "P3alphaRecommender: Similarity column 38121 (100.0%), 2112.63 column/sec. Elapsed time 18.04 sec\n",
      "EvaluatorHoldout: Ignoring 172 ( 0.5%) Users that have less than 1 test interactions\n",
      "EvaluatorHoldout: Processed 35564 (100.0%) in 33.72 sec. Users per second: 1055\n"
     ]
    },
    {
     "name": "stderr",
     "output_type": "stream",
     "text": [
      "[I 2025-01-05 19:01:43,003] Trial 199 finished with value: 0.0512478898108774 and parameters: {'topK': 46, 'alpha': 0.33515171454889386, 'normalize_similarity': True, 'implicit': False}. Best is trial 10 with value: 0.05370249298547826.\n"
     ]
    }
   ],
   "source": [
    "if config['tune_parameters']:\n",
    "    \n",
    "    optuna_study = optuna.create_study(direction='maximize', study_name=f'hyperparameters_tuning_{config[\"model\"]}_{config[\"metric\"]}',\n",
    "                                storage=f'sqlite:///{config[\"database_path\"]}', load_if_exists=True)\n",
    "\n",
    "    optuna_study.optimize(objective_function_P3alpha, n_trials=50)"
   ]
  },
  {
   "cell_type": "markdown",
   "id": "6ffdf54b",
   "metadata": {
    "papermill": {
     "duration": 0.059674,
     "end_time": "2025-01-05T19:01:43.142699",
     "exception": false,
     "start_time": "2025-01-05T19:01:43.083025",
     "status": "completed"
    },
    "tags": []
   },
   "source": [
    "## Some optuna visualizations on recommender parameters"
   ]
  },
  {
   "cell_type": "code",
   "execution_count": 14,
   "id": "abe8772a",
   "metadata": {
    "execution": {
     "iopub.execute_input": "2025-01-05T19:01:43.262979Z",
     "iopub.status.busy": "2025-01-05T19:01:43.262579Z",
     "iopub.status.idle": "2025-01-05T19:01:44.807256Z",
     "shell.execute_reply": "2025-01-05T19:01:44.806158Z"
    },
    "papermill": {
     "duration": 1.607487,
     "end_time": "2025-01-05T19:01:44.809138",
     "exception": false,
     "start_time": "2025-01-05T19:01:43.201651",
     "status": "completed"
    },
    "tags": []
   },
   "outputs": [
    {
     "data": {
      "text/html": [
       "<html>\n",
       "<head><meta charset=\"utf-8\" /></head>\n",
       "<body>\n",
       "    <div>            <script src=\"https://cdnjs.cloudflare.com/ajax/libs/mathjax/2.7.5/MathJax.js?config=TeX-AMS-MML_SVG\"></script><script type=\"text/javascript\">if (window.MathJax && window.MathJax.Hub && window.MathJax.Hub.Config) {window.MathJax.Hub.Config({SVG: {font: \"STIX-Web\"}});}</script>                <script type=\"text/javascript\">window.PlotlyConfig = {MathJaxConfig: 'local'};</script>\n",
       "        <script charset=\"utf-8\" src=\"https://cdn.plot.ly/plotly-2.35.2.min.js\"></script>                <div id=\"b97c0ea7-21f5-421f-a135-0016c31a80e8\" class=\"plotly-graph-div\" style=\"height:525px; width:1200px;\"></div>            <script type=\"text/javascript\">                                    window.PLOTLYENV=window.PLOTLYENV || {};                                    if (document.getElementById(\"b97c0ea7-21f5-421f-a135-0016c31a80e8\")) {                    Plotly.newPlot(                        \"b97c0ea7-21f5-421f-a135-0016c31a80e8\",                        [{\"marker\":{\"color\":[0,1,2,3,4,5,6,7,8,9,10,11,12,13,14,15,16,17,18,19,20,21,22,23,24,25,26,27,28,29,30,31,32,33,34,35,36,37,38,39,40,41,42,43,44,45,46,47,48,49,50,51,52,53,54,55,56,57,58,59,60,61,62,63,64,65,66,67,68,69,70,71,72,73,74,75,76,77,78,79,80,81,82,83,84,85,86,87,88,89,90,91,92,93,94,95,96,97,98,99,100,101,102,103,104,105,106,107,108,109,110,111,112,113,114,115,116,117,118,119,120,121,122,123,124,125,126,127,128,129,130,131,132,133,134,135,136,137,138,139,140,141,142,143,144,145,146,147,148,149,150,151,152,153,154,155,156,157,158,159,160,161,162,163,164,165,166,167,168,169,170,171,172,173,174,175,176,177,178,179,180,181,182,183,184,185,186,187,188,189,190,191,192,193,194,195,196,197,198,199],\"colorbar\":{\"title\":{\"text\":\"Trial\"},\"x\":1.0,\"xpad\":40},\"colorscale\":[[0.0,\"rgb(247,251,255)\"],[0.125,\"rgb(222,235,247)\"],[0.25,\"rgb(198,219,239)\"],[0.375,\"rgb(158,202,225)\"],[0.5,\"rgb(107,174,214)\"],[0.625,\"rgb(66,146,198)\"],[0.75,\"rgb(33,113,181)\"],[0.875,\"rgb(8,81,156)\"],[1.0,\"rgb(8,48,107)\"]],\"line\":{\"color\":\"Grey\",\"width\":0.5},\"showscale\":true},\"mode\":\"markers\",\"name\":\"Feasible Trial\",\"showlegend\":false,\"x\":[1.9555722902370891,1.9451119902075962,1.7041603674865449,1.505154401702621,1.417404807113589,1.429887748017081,0.6423970179752319,1.357324393912698,1.5796611764403068,1.6573015763234014,0.259039498224813,0.009023169374170525,0.017299402340292758,0.05741669922250647,0.43291619988413355,0.3895368099707133,0.9236758405543553,0.2391747392107611,0.7722037747685639,1.1270782733213431,0.2985411909626277,0.0017162766615581183,0.14459969802008343,0.5599915376809156,0.5812080291300891,0.5102570969146578,0.22919558780975743,0.7668253532326018,0.33619034800127023,1.0633881794880087,0.6766890326896323,0.7039495572064933,0.8844159780371044,0.2131957245488712,0.47485156287817376,0.574233908892971,0.10992686396759538,1.2101192102741831,0.3784090900895734,1.9022453793230083,0.3660741625786829,0.6397588510717156,0.14701427855027074,0.4727310234549015,0.26510340366778407,0.7793874438330077,0.5467916658262164,0.33679676849763707,0.07978912869645305,0.9206078425164291,0.4076427685325944,0.7094347586149212,0.668182561752386,0.848680880583546,0.17504588313995484,0.9940586966767009,0.596323803099865,0.4155696012952391,0.7300889084614393,0.7026659998723025,1.2587097134982606,0.8226962402219791,0.4968729307331387,0.5021039955142267,0.7208562371905738,0.4893319886324915,0.49464939326422325,0.2865429878389075,0.6381872933570667,0.030385557205286684,0.6095385251915566,0.5313224598605867,0.4647212342347552,0.6560616524933051,0.650752516464808,0.31763081121375114,0.21126695358820613,0.4267861093987477,0.5459638645694592,0.8001884544805936,0.09578152435076426,1.0010919088318104,0.7950044110954735,0.6528845026555389,0.8686452399747855,0.5219055435571492,0.5950609222707803,0.7584562694479525,0.45561107720649413,0.3787727339565327,0.25881816157705617,0.7691591857526583,0.6778059048614092,0.6749715864565274,0.6180208184965519,0.7414105503298687,0.5553121477748694,0.9199117843582898,0.5039640716484797,0.6704274210455656,0.19357071407470383,0.8235823673862037,0.8299408357816291,0.7038677874082406,0.5772227777273413,0.9627241371928188,0.742368111052462,0.8961852086316883,0.6338913908159787,0.8460819589168291,0.1586491656004776,0.8225077290647852,0.7618321041561548,0.6583349373649502,0.6789599869812522,1.0775051301164722,0.3543262304602782,0.43423386096461297,0.602547150467961,1.7286336439736891,0.4851087227011725,0.7069993242156728,0.8142271556988062,0.644933766546533,0.04504424348085013,0.5642599143266227,0.5220220431518023,0.5293533995293002,0.30698068395560196,0.49877319348182425,0.40311038526825405,0.4083906234953192,0.4700130398125544,0.5764571058788258,0.4332367982573321,0.37960263756498636,0.3726199860245315,0.28642614087400553,0.5372572418525191,0.2414509904925934,0.13051411228117996,0.21892288364838153,0.18408104329372876,0.3298703606035894,0.24272445566827786,0.2254262440401089,0.3577549363475985,0.26254144173877386,0.11172958775022032,0.3949603199965616,0.6194822005755359,0.0763699851597649,0.05124875194521569,0.05633771745197805,0.08011178552421945,0.014400856065544018,0.1282190724068411,0.00780784404479734,0.1872162133647409,0.3184364984395813,0.684602477163826,0.7293135140343755,0.6528933866301747,0.719504196981361,0.4531970682327979,0.5838316183764864,0.6292679285876068,0.2727122675345214,0.15605597925873946,0.22738529911600316,0.15462086590885787,0.6754142551196689,0.08051724095874796,0.10356321239964451,0.7851582643799528,0.17249124557091433,0.5409981518276129,0.7469505168265322,0.21952898847522254,0.411915602914322,0.6033163772172552,0.6493811217171951,0.730725279178008,0.6535974702092937,0.691235358346056,0.5190039419469052,0.6396689405479431,0.4706785708738227,0.5923027782159911,0.14605065182844562,1.991282266522873,0.750689965843235,0.7191887505908455,0.6951791764753091,0.6499203045289901,0.55883632567692,0.7826164143706671,1.4078367965295273,0.7114321432755171,0.33515171454889386],\"y\":[0.03324698331399583,0.026332902930887934,0.030469137563298575,0.03444987576203394,0.04814619271239208,0.038066821299608235,0.03313890578532456,0.035480558776875615,0.03795740934127874,0.031156855638856097,0.05370249298547826,0.053043338860751556,0.049358568615201014,0.04046620173964342,0.04135830475866652,0.03482896954916652,0.04154041337618398,0.03462141000783664,0.046612718601797054,0.037526935207238,0.043719300306238565,0.045391643727781025,0.03855362113289444,0.05005819010027681,0.039473372363462364,0.03480637042849982,0.03369956604439408,0.0399559022002486,0.045554766209695396,0.0377710062570645,0.05345532201680157,0.049179364245239526,0.045038814489735374,0.042924297756840736,0.04001730686109394,0.040681947973510366,0.03255432649509493,0.039981091096421034,0.0503522003189274,0.03981101195489917,0.032811783069301007,0.049862294786565405,0.04851576479166418,0.02024138376707917,0.04170481583937038,0.04767053965435942,0.04313826063367159,0.03283938541515903,0.03278310247782083,0.037876718506305,0.040726692725909806,0.050762033934032155,0.04610049465209755,0.035598704019295734,0.044183615546848895,0.04990649894396905,0.04210634543158245,0.047338175501152914,0.05084595784289079,0.03654701218043085,0.042371475724924626,0.048460256440363954,0.052472475068935306,0.052887525248913415,0.04626885698320693,0.05317992334355266,0.04275097241274065,0.034748374854042384,0.052153755408722705,0.03966879729859924,0.03456739709318828,0.04381019379874547,0.04726398158402837,0.05265843147113376,0.05331823873229896,0.045087667532495476,0.020770348777273694,0.047398026686143964,0.0389465853039739,0.05219137903797115,0.04709926993082188,0.0508971605112515,0.05151212750052316,0.048758814503789674,0.04242500361269015,0.04710632376294343,0.03531964393831496,0.052457237175554304,0.045799822985578484,0.033738054775223146,0.0488217757697453,0.051946099320358693,0.05278336944453671,0.04705396776723112,0.049838598061873234,0.043675457175516186,0.04587686254833845,0.04662172783159644,0.05218017043087157,0.0494985524929483,0.04088362422565477,0.05221018954207535,0.05253647896025815,0.04302974775721296,0.04816109208279552,0.04896643161435016,0.045115575584085396,0.04286887657038844,0.04155131211473144,0.049748990510831904,0.03438504613986426,0.0528663253282279,0.04815928395451181,0.053184673529307856,0.051916487103832246,0.043299638979650404,0.04754727094759563,0.05076538637504058,0.04623849148207724,0.047417452844366215,0.02022282504685614,0.05026288773688968,0.048146784203736005,0.033965166850007285,0.051114131635104296,0.036454444441654986,0.05341465722787142,0.03552890563535609,0.03666385268601502,0.04671620191668675,0.053604758640113416,0.037257922932716854,0.05125645218515289,0.04907912984206813,0.052227000936113085,0.05341870658574962,0.04766486170283768,0.03341205827496927,0.050080152181557966,0.05328353864373002,0.0002664826418719655,0.05353499815479453,0.05007783008052824,0.020625866865305254,0.0368139763138582,0.04765859233065183,0.04512944980534381,0.05184343676719398,0.048504895493151595,0.0331849856244731,0.04121725363851465,0.05282848818748159,0.05191767159807118,0.05251727378020658,0.048936109878433595,0.044208576613926395,0.0471758536609599,0.04945865583313777,0.05238245591016597,0.046327703480299236,0.04987587977943793,0.052723232440028765,0.052742427144316886,0.0002664826418719655,0.04871490000398578,0.05215845464194435,0.05080581134781799,0.04797725966127435,0.05328432894531375,0.03825159292314441,0.04913631963637322,0.03644820818813297,0.05232801211309551,0.05058215622683474,0.0002664826418719655,0.05255776313824743,0.04746732427685902,0.04890617255157278,0.052448670670091325,0.04694639389465257,0.04371043937336743,0.053138127327039986,0.052718246880571085,0.01961097420207157,0.04893820996096516,0.05254108530861705,0.0002664826418719655,0.05021489654233825,0.04738824552417005,0.050559405869964304,0.04223967199505846,0.052636546251000324,0.05274947957147995,0.0002664826418719655,0.051100629641741335,0.04984303897361041,0.05224156680194235,0.04476627402902931,0.04556134751061881,0.0512478898108774],\"type\":\"scatter\",\"xaxis\":\"x\",\"yaxis\":\"y\"},{\"marker\":{\"color\":[0,1,2,3,4,5,6,7,8,9,10,11,12,13,14,15,16,17,18,19,20,21,22,23,24,25,26,27,28,29,30,31,32,33,34,35,36,37,38,39,40,41,42,43,44,45,46,47,48,49,50,51,52,53,54,55,56,57,58,59,60,61,62,63,64,65,66,67,68,69,70,71,72,73,74,75,76,77,78,79,80,81,82,83,84,85,86,87,88,89,90,91,92,93,94,95,96,97,98,99,100,101,102,103,104,105,106,107,108,109,110,111,112,113,114,115,116,117,118,119,120,121,122,123,124,125,126,127,128,129,130,131,132,133,134,135,136,137,138,139,140,141,142,143,144,145,146,147,148,149,150,151,152,153,154,155,156,157,158,159,160,161,162,163,164,165,166,167,168,169,170,171,172,173,174,175,176,177,178,179,180,181,182,183,184,185,186,187,188,189,190,191,192,193,194,195,196,197,198,199],\"colorbar\":{\"title\":{\"text\":\"Trial\"},\"x\":1.0,\"xpad\":40},\"colorscale\":[[0.0,\"rgb(247,251,255)\"],[0.125,\"rgb(222,235,247)\"],[0.25,\"rgb(198,219,239)\"],[0.375,\"rgb(158,202,225)\"],[0.5,\"rgb(107,174,214)\"],[0.625,\"rgb(66,146,198)\"],[0.75,\"rgb(33,113,181)\"],[0.875,\"rgb(8,81,156)\"],[1.0,\"rgb(8,48,107)\"]],\"line\":{\"color\":\"Grey\",\"width\":0.5},\"showscale\":false},\"mode\":\"markers\",\"name\":\"Feasible Trial\",\"showlegend\":false,\"x\":[false,true,true,true,false,true,true,false,false,true,false,false,false,false,false,false,false,false,false,false,false,false,false,false,false,false,false,false,false,false,false,false,false,false,true,false,true,false,true,true,true,true,true,true,true,false,true,false,false,false,true,true,true,true,true,false,true,false,false,false,true,false,false,false,false,false,false,false,false,false,false,false,false,false,false,false,false,false,false,false,false,false,false,false,false,false,false,false,false,false,false,false,false,false,false,false,false,false,false,false,false,false,false,false,false,false,false,false,false,false,false,false,false,false,false,false,false,false,false,false,false,false,false,false,false,false,false,false,false,false,false,false,false,false,false,false,false,false,false,false,false,false,false,false,false,false,false,false,false,false,false,false,false,false,false,false,false,false,false,false,false,false,false,false,false,false,false,false,false,false,false,false,false,false,false,false,false,false,false,true,false,false,false,false,false,false,false,false,false,false,false,false,false,false,false,false,false,false,false,false],\"y\":[0.03324698331399583,0.026332902930887934,0.030469137563298575,0.03444987576203394,0.04814619271239208,0.038066821299608235,0.03313890578532456,0.035480558776875615,0.03795740934127874,0.031156855638856097,0.05370249298547826,0.053043338860751556,0.049358568615201014,0.04046620173964342,0.04135830475866652,0.03482896954916652,0.04154041337618398,0.03462141000783664,0.046612718601797054,0.037526935207238,0.043719300306238565,0.045391643727781025,0.03855362113289444,0.05005819010027681,0.039473372363462364,0.03480637042849982,0.03369956604439408,0.0399559022002486,0.045554766209695396,0.0377710062570645,0.05345532201680157,0.049179364245239526,0.045038814489735374,0.042924297756840736,0.04001730686109394,0.040681947973510366,0.03255432649509493,0.039981091096421034,0.0503522003189274,0.03981101195489917,0.032811783069301007,0.049862294786565405,0.04851576479166418,0.02024138376707917,0.04170481583937038,0.04767053965435942,0.04313826063367159,0.03283938541515903,0.03278310247782083,0.037876718506305,0.040726692725909806,0.050762033934032155,0.04610049465209755,0.035598704019295734,0.044183615546848895,0.04990649894396905,0.04210634543158245,0.047338175501152914,0.05084595784289079,0.03654701218043085,0.042371475724924626,0.048460256440363954,0.052472475068935306,0.052887525248913415,0.04626885698320693,0.05317992334355266,0.04275097241274065,0.034748374854042384,0.052153755408722705,0.03966879729859924,0.03456739709318828,0.04381019379874547,0.04726398158402837,0.05265843147113376,0.05331823873229896,0.045087667532495476,0.020770348777273694,0.047398026686143964,0.0389465853039739,0.05219137903797115,0.04709926993082188,0.0508971605112515,0.05151212750052316,0.048758814503789674,0.04242500361269015,0.04710632376294343,0.03531964393831496,0.052457237175554304,0.045799822985578484,0.033738054775223146,0.0488217757697453,0.051946099320358693,0.05278336944453671,0.04705396776723112,0.049838598061873234,0.043675457175516186,0.04587686254833845,0.04662172783159644,0.05218017043087157,0.0494985524929483,0.04088362422565477,0.05221018954207535,0.05253647896025815,0.04302974775721296,0.04816109208279552,0.04896643161435016,0.045115575584085396,0.04286887657038844,0.04155131211473144,0.049748990510831904,0.03438504613986426,0.0528663253282279,0.04815928395451181,0.053184673529307856,0.051916487103832246,0.043299638979650404,0.04754727094759563,0.05076538637504058,0.04623849148207724,0.047417452844366215,0.02022282504685614,0.05026288773688968,0.048146784203736005,0.033965166850007285,0.051114131635104296,0.036454444441654986,0.05341465722787142,0.03552890563535609,0.03666385268601502,0.04671620191668675,0.053604758640113416,0.037257922932716854,0.05125645218515289,0.04907912984206813,0.052227000936113085,0.05341870658574962,0.04766486170283768,0.03341205827496927,0.050080152181557966,0.05328353864373002,0.0002664826418719655,0.05353499815479453,0.05007783008052824,0.020625866865305254,0.0368139763138582,0.04765859233065183,0.04512944980534381,0.05184343676719398,0.048504895493151595,0.0331849856244731,0.04121725363851465,0.05282848818748159,0.05191767159807118,0.05251727378020658,0.048936109878433595,0.044208576613926395,0.0471758536609599,0.04945865583313777,0.05238245591016597,0.046327703480299236,0.04987587977943793,0.052723232440028765,0.052742427144316886,0.0002664826418719655,0.04871490000398578,0.05215845464194435,0.05080581134781799,0.04797725966127435,0.05328432894531375,0.03825159292314441,0.04913631963637322,0.03644820818813297,0.05232801211309551,0.05058215622683474,0.0002664826418719655,0.05255776313824743,0.04746732427685902,0.04890617255157278,0.052448670670091325,0.04694639389465257,0.04371043937336743,0.053138127327039986,0.052718246880571085,0.01961097420207157,0.04893820996096516,0.05254108530861705,0.0002664826418719655,0.05021489654233825,0.04738824552417005,0.050559405869964304,0.04223967199505846,0.052636546251000324,0.05274947957147995,0.0002664826418719655,0.051100629641741335,0.04984303897361041,0.05224156680194235,0.04476627402902931,0.04556134751061881,0.0512478898108774],\"type\":\"scatter\",\"xaxis\":\"x2\",\"yaxis\":\"y2\"},{\"marker\":{\"color\":[0,1,2,3,4,5,6,7,8,9,10,11,12,13,14,15,16,17,18,19,20,21,22,23,24,25,26,27,28,29,30,31,32,33,34,35,36,37,38,39,40,41,42,43,44,45,46,47,48,49,50,51,52,53,54,55,56,57,58,59,60,61,62,63,64,65,66,67,68,69,70,71,72,73,74,75,76,77,78,79,80,81,82,83,84,85,86,87,88,89,90,91,92,93,94,95,96,97,98,99,100,101,102,103,104,105,106,107,108,109,110,111,112,113,114,115,116,117,118,119,120,121,122,123,124,125,126,127,128,129,130,131,132,133,134,135,136,137,138,139,140,141,142,143,144,145,146,147,148,149,150,151,152,153,154,155,156,157,158,159,160,161,162,163,164,165,166,167,168,169,170,171,172,173,174,175,176,177,178,179,180,181,182,183,184,185,186,187,188,189,190,191,192,193,194,195,196,197,198,199],\"colorbar\":{\"title\":{\"text\":\"Trial\"},\"x\":1.0,\"xpad\":40},\"colorscale\":[[0.0,\"rgb(247,251,255)\"],[0.125,\"rgb(222,235,247)\"],[0.25,\"rgb(198,219,239)\"],[0.375,\"rgb(158,202,225)\"],[0.5,\"rgb(107,174,214)\"],[0.625,\"rgb(66,146,198)\"],[0.75,\"rgb(33,113,181)\"],[0.875,\"rgb(8,81,156)\"],[1.0,\"rgb(8,48,107)\"]],\"line\":{\"color\":\"Grey\",\"width\":0.5},\"showscale\":false},\"mode\":\"markers\",\"name\":\"Feasible Trial\",\"showlegend\":false,\"x\":[true,false,false,true,true,true,false,false,true,false,true,true,true,true,true,true,true,true,true,true,true,true,true,true,true,true,false,true,true,true,true,true,true,true,false,true,true,false,true,true,false,true,true,true,true,true,true,true,false,true,true,true,true,true,true,true,true,true,true,true,true,true,true,true,true,true,true,false,true,true,true,true,true,true,true,true,true,true,false,true,true,true,true,true,true,true,true,true,true,false,true,true,true,true,true,true,true,true,true,true,true,true,true,true,true,true,true,true,false,true,true,true,true,true,true,true,true,true,true,true,true,true,true,true,true,true,true,true,false,true,true,true,true,true,true,true,true,true,true,true,true,true,true,true,true,true,true,true,true,true,false,true,true,true,true,true,true,true,true,true,true,true,true,true,true,true,true,true,true,true,true,true,true,true,true,true,true,true,true,true,false,true,true,true,true,true,true,true,true,true,true,true,true,true,true,true,true,true,true,true],\"y\":[0.03324698331399583,0.026332902930887934,0.030469137563298575,0.03444987576203394,0.04814619271239208,0.038066821299608235,0.03313890578532456,0.035480558776875615,0.03795740934127874,0.031156855638856097,0.05370249298547826,0.053043338860751556,0.049358568615201014,0.04046620173964342,0.04135830475866652,0.03482896954916652,0.04154041337618398,0.03462141000783664,0.046612718601797054,0.037526935207238,0.043719300306238565,0.045391643727781025,0.03855362113289444,0.05005819010027681,0.039473372363462364,0.03480637042849982,0.03369956604439408,0.0399559022002486,0.045554766209695396,0.0377710062570645,0.05345532201680157,0.049179364245239526,0.045038814489735374,0.042924297756840736,0.04001730686109394,0.040681947973510366,0.03255432649509493,0.039981091096421034,0.0503522003189274,0.03981101195489917,0.032811783069301007,0.049862294786565405,0.04851576479166418,0.02024138376707917,0.04170481583937038,0.04767053965435942,0.04313826063367159,0.03283938541515903,0.03278310247782083,0.037876718506305,0.040726692725909806,0.050762033934032155,0.04610049465209755,0.035598704019295734,0.044183615546848895,0.04990649894396905,0.04210634543158245,0.047338175501152914,0.05084595784289079,0.03654701218043085,0.042371475724924626,0.048460256440363954,0.052472475068935306,0.052887525248913415,0.04626885698320693,0.05317992334355266,0.04275097241274065,0.034748374854042384,0.052153755408722705,0.03966879729859924,0.03456739709318828,0.04381019379874547,0.04726398158402837,0.05265843147113376,0.05331823873229896,0.045087667532495476,0.020770348777273694,0.047398026686143964,0.0389465853039739,0.05219137903797115,0.04709926993082188,0.0508971605112515,0.05151212750052316,0.048758814503789674,0.04242500361269015,0.04710632376294343,0.03531964393831496,0.052457237175554304,0.045799822985578484,0.033738054775223146,0.0488217757697453,0.051946099320358693,0.05278336944453671,0.04705396776723112,0.049838598061873234,0.043675457175516186,0.04587686254833845,0.04662172783159644,0.05218017043087157,0.0494985524929483,0.04088362422565477,0.05221018954207535,0.05253647896025815,0.04302974775721296,0.04816109208279552,0.04896643161435016,0.045115575584085396,0.04286887657038844,0.04155131211473144,0.049748990510831904,0.03438504613986426,0.0528663253282279,0.04815928395451181,0.053184673529307856,0.051916487103832246,0.043299638979650404,0.04754727094759563,0.05076538637504058,0.04623849148207724,0.047417452844366215,0.02022282504685614,0.05026288773688968,0.048146784203736005,0.033965166850007285,0.051114131635104296,0.036454444441654986,0.05341465722787142,0.03552890563535609,0.03666385268601502,0.04671620191668675,0.053604758640113416,0.037257922932716854,0.05125645218515289,0.04907912984206813,0.052227000936113085,0.05341870658574962,0.04766486170283768,0.03341205827496927,0.050080152181557966,0.05328353864373002,0.0002664826418719655,0.05353499815479453,0.05007783008052824,0.020625866865305254,0.0368139763138582,0.04765859233065183,0.04512944980534381,0.05184343676719398,0.048504895493151595,0.0331849856244731,0.04121725363851465,0.05282848818748159,0.05191767159807118,0.05251727378020658,0.048936109878433595,0.044208576613926395,0.0471758536609599,0.04945865583313777,0.05238245591016597,0.046327703480299236,0.04987587977943793,0.052723232440028765,0.052742427144316886,0.0002664826418719655,0.04871490000398578,0.05215845464194435,0.05080581134781799,0.04797725966127435,0.05328432894531375,0.03825159292314441,0.04913631963637322,0.03644820818813297,0.05232801211309551,0.05058215622683474,0.0002664826418719655,0.05255776313824743,0.04746732427685902,0.04890617255157278,0.052448670670091325,0.04694639389465257,0.04371043937336743,0.053138127327039986,0.052718246880571085,0.01961097420207157,0.04893820996096516,0.05254108530861705,0.0002664826418719655,0.05021489654233825,0.04738824552417005,0.050559405869964304,0.04223967199505846,0.052636546251000324,0.05274947957147995,0.0002664826418719655,0.051100629641741335,0.04984303897361041,0.05224156680194235,0.04476627402902931,0.04556134751061881,0.0512478898108774],\"type\":\"scatter\",\"xaxis\":\"x3\",\"yaxis\":\"y3\"},{\"marker\":{\"color\":[0,1,2,3,4,5,6,7,8,9,10,11,12,13,14,15,16,17,18,19,20,21,22,23,24,25,26,27,28,29,30,31,32,33,34,35,36,37,38,39,40,41,42,43,44,45,46,47,48,49,50,51,52,53,54,55,56,57,58,59,60,61,62,63,64,65,66,67,68,69,70,71,72,73,74,75,76,77,78,79,80,81,82,83,84,85,86,87,88,89,90,91,92,93,94,95,96,97,98,99,100,101,102,103,104,105,106,107,108,109,110,111,112,113,114,115,116,117,118,119,120,121,122,123,124,125,126,127,128,129,130,131,132,133,134,135,136,137,138,139,140,141,142,143,144,145,146,147,148,149,150,151,152,153,154,155,156,157,158,159,160,161,162,163,164,165,166,167,168,169,170,171,172,173,174,175,176,177,178,179,180,181,182,183,184,185,186,187,188,189,190,191,192,193,194,195,196,197,198,199],\"colorbar\":{\"title\":{\"text\":\"Trial\"},\"x\":1.0,\"xpad\":40},\"colorscale\":[[0.0,\"rgb(247,251,255)\"],[0.125,\"rgb(222,235,247)\"],[0.25,\"rgb(198,219,239)\"],[0.375,\"rgb(158,202,225)\"],[0.5,\"rgb(107,174,214)\"],[0.625,\"rgb(66,146,198)\"],[0.75,\"rgb(33,113,181)\"],[0.875,\"rgb(8,81,156)\"],[1.0,\"rgb(8,48,107)\"]],\"line\":{\"color\":\"Grey\",\"width\":0.5},\"showscale\":false},\"mode\":\"markers\",\"name\":\"Feasible Trial\",\"showlegend\":false,\"x\":[1466,1202,501,1494,35,516,1253,1307,499,1278,19,19,57,259,271,878,249,801,4,648,183,118,371,61,382,990,150,351,140,604,17,5,132,198,81,307,1071,467,58,195,427,61,75,1,244,87,206,1382,61,570,299,46,123,2,160,42,242,105,44,737,173,72,32,28,117,25,218,149,33,289,1188,3,106,28,20,149,1,104,168,28,94,31,34,77,215,108,938,27,137,339,76,31,26,4,62,181,133,96,35,65,264,27,23,3,88,55,141,196,120,52,774,18,81,22,7,162,101,53,123,23,1,53,78,1488,37,693,22,839,83,117,21,2,46,74,35,23,99,1100,61,23,0,20,56,1,534,93,151,37,73,1360,122,23,30,25,66,3,95,55,30,123,59,25,27,0,81,34,49,90,21,411,67,2,27,46,0,28,101,70,30,113,54,23,25,1,73,31,0,60,101,48,81,25,25,0,44,64,28,88,132,46],\"y\":[0.03324698331399583,0.026332902930887934,0.030469137563298575,0.03444987576203394,0.04814619271239208,0.038066821299608235,0.03313890578532456,0.035480558776875615,0.03795740934127874,0.031156855638856097,0.05370249298547826,0.053043338860751556,0.049358568615201014,0.04046620173964342,0.04135830475866652,0.03482896954916652,0.04154041337618398,0.03462141000783664,0.046612718601797054,0.037526935207238,0.043719300306238565,0.045391643727781025,0.03855362113289444,0.05005819010027681,0.039473372363462364,0.03480637042849982,0.03369956604439408,0.0399559022002486,0.045554766209695396,0.0377710062570645,0.05345532201680157,0.049179364245239526,0.045038814489735374,0.042924297756840736,0.04001730686109394,0.040681947973510366,0.03255432649509493,0.039981091096421034,0.0503522003189274,0.03981101195489917,0.032811783069301007,0.049862294786565405,0.04851576479166418,0.02024138376707917,0.04170481583937038,0.04767053965435942,0.04313826063367159,0.03283938541515903,0.03278310247782083,0.037876718506305,0.040726692725909806,0.050762033934032155,0.04610049465209755,0.035598704019295734,0.044183615546848895,0.04990649894396905,0.04210634543158245,0.047338175501152914,0.05084595784289079,0.03654701218043085,0.042371475724924626,0.048460256440363954,0.052472475068935306,0.052887525248913415,0.04626885698320693,0.05317992334355266,0.04275097241274065,0.034748374854042384,0.052153755408722705,0.03966879729859924,0.03456739709318828,0.04381019379874547,0.04726398158402837,0.05265843147113376,0.05331823873229896,0.045087667532495476,0.020770348777273694,0.047398026686143964,0.0389465853039739,0.05219137903797115,0.04709926993082188,0.0508971605112515,0.05151212750052316,0.048758814503789674,0.04242500361269015,0.04710632376294343,0.03531964393831496,0.052457237175554304,0.045799822985578484,0.033738054775223146,0.0488217757697453,0.051946099320358693,0.05278336944453671,0.04705396776723112,0.049838598061873234,0.043675457175516186,0.04587686254833845,0.04662172783159644,0.05218017043087157,0.0494985524929483,0.04088362422565477,0.05221018954207535,0.05253647896025815,0.04302974775721296,0.04816109208279552,0.04896643161435016,0.045115575584085396,0.04286887657038844,0.04155131211473144,0.049748990510831904,0.03438504613986426,0.0528663253282279,0.04815928395451181,0.053184673529307856,0.051916487103832246,0.043299638979650404,0.04754727094759563,0.05076538637504058,0.04623849148207724,0.047417452844366215,0.02022282504685614,0.05026288773688968,0.048146784203736005,0.033965166850007285,0.051114131635104296,0.036454444441654986,0.05341465722787142,0.03552890563535609,0.03666385268601502,0.04671620191668675,0.053604758640113416,0.037257922932716854,0.05125645218515289,0.04907912984206813,0.052227000936113085,0.05341870658574962,0.04766486170283768,0.03341205827496927,0.050080152181557966,0.05328353864373002,0.0002664826418719655,0.05353499815479453,0.05007783008052824,0.020625866865305254,0.0368139763138582,0.04765859233065183,0.04512944980534381,0.05184343676719398,0.048504895493151595,0.0331849856244731,0.04121725363851465,0.05282848818748159,0.05191767159807118,0.05251727378020658,0.048936109878433595,0.044208576613926395,0.0471758536609599,0.04945865583313777,0.05238245591016597,0.046327703480299236,0.04987587977943793,0.052723232440028765,0.052742427144316886,0.0002664826418719655,0.04871490000398578,0.05215845464194435,0.05080581134781799,0.04797725966127435,0.05328432894531375,0.03825159292314441,0.04913631963637322,0.03644820818813297,0.05232801211309551,0.05058215622683474,0.0002664826418719655,0.05255776313824743,0.04746732427685902,0.04890617255157278,0.052448670670091325,0.04694639389465257,0.04371043937336743,0.053138127327039986,0.052718246880571085,0.01961097420207157,0.04893820996096516,0.05254108530861705,0.0002664826418719655,0.05021489654233825,0.04738824552417005,0.050559405869964304,0.04223967199505846,0.052636546251000324,0.05274947957147995,0.0002664826418719655,0.051100629641741335,0.04984303897361041,0.05224156680194235,0.04476627402902931,0.04556134751061881,0.0512478898108774],\"type\":\"scatter\",\"xaxis\":\"x4\",\"yaxis\":\"y4\"}],                        {\"template\":{\"data\":{\"histogram2dcontour\":[{\"type\":\"histogram2dcontour\",\"colorbar\":{\"outlinewidth\":0,\"ticks\":\"\"},\"colorscale\":[[0.0,\"#0d0887\"],[0.1111111111111111,\"#46039f\"],[0.2222222222222222,\"#7201a8\"],[0.3333333333333333,\"#9c179e\"],[0.4444444444444444,\"#bd3786\"],[0.5555555555555556,\"#d8576b\"],[0.6666666666666666,\"#ed7953\"],[0.7777777777777778,\"#fb9f3a\"],[0.8888888888888888,\"#fdca26\"],[1.0,\"#f0f921\"]]}],\"choropleth\":[{\"type\":\"choropleth\",\"colorbar\":{\"outlinewidth\":0,\"ticks\":\"\"}}],\"histogram2d\":[{\"type\":\"histogram2d\",\"colorbar\":{\"outlinewidth\":0,\"ticks\":\"\"},\"colorscale\":[[0.0,\"#0d0887\"],[0.1111111111111111,\"#46039f\"],[0.2222222222222222,\"#7201a8\"],[0.3333333333333333,\"#9c179e\"],[0.4444444444444444,\"#bd3786\"],[0.5555555555555556,\"#d8576b\"],[0.6666666666666666,\"#ed7953\"],[0.7777777777777778,\"#fb9f3a\"],[0.8888888888888888,\"#fdca26\"],[1.0,\"#f0f921\"]]}],\"heatmap\":[{\"type\":\"heatmap\",\"colorbar\":{\"outlinewidth\":0,\"ticks\":\"\"},\"colorscale\":[[0.0,\"#0d0887\"],[0.1111111111111111,\"#46039f\"],[0.2222222222222222,\"#7201a8\"],[0.3333333333333333,\"#9c179e\"],[0.4444444444444444,\"#bd3786\"],[0.5555555555555556,\"#d8576b\"],[0.6666666666666666,\"#ed7953\"],[0.7777777777777778,\"#fb9f3a\"],[0.8888888888888888,\"#fdca26\"],[1.0,\"#f0f921\"]]}],\"heatmapgl\":[{\"type\":\"heatmapgl\",\"colorbar\":{\"outlinewidth\":0,\"ticks\":\"\"},\"colorscale\":[[0.0,\"#0d0887\"],[0.1111111111111111,\"#46039f\"],[0.2222222222222222,\"#7201a8\"],[0.3333333333333333,\"#9c179e\"],[0.4444444444444444,\"#bd3786\"],[0.5555555555555556,\"#d8576b\"],[0.6666666666666666,\"#ed7953\"],[0.7777777777777778,\"#fb9f3a\"],[0.8888888888888888,\"#fdca26\"],[1.0,\"#f0f921\"]]}],\"contourcarpet\":[{\"type\":\"contourcarpet\",\"colorbar\":{\"outlinewidth\":0,\"ticks\":\"\"}}],\"contour\":[{\"type\":\"contour\",\"colorbar\":{\"outlinewidth\":0,\"ticks\":\"\"},\"colorscale\":[[0.0,\"#0d0887\"],[0.1111111111111111,\"#46039f\"],[0.2222222222222222,\"#7201a8\"],[0.3333333333333333,\"#9c179e\"],[0.4444444444444444,\"#bd3786\"],[0.5555555555555556,\"#d8576b\"],[0.6666666666666666,\"#ed7953\"],[0.7777777777777778,\"#fb9f3a\"],[0.8888888888888888,\"#fdca26\"],[1.0,\"#f0f921\"]]}],\"surface\":[{\"type\":\"surface\",\"colorbar\":{\"outlinewidth\":0,\"ticks\":\"\"},\"colorscale\":[[0.0,\"#0d0887\"],[0.1111111111111111,\"#46039f\"],[0.2222222222222222,\"#7201a8\"],[0.3333333333333333,\"#9c179e\"],[0.4444444444444444,\"#bd3786\"],[0.5555555555555556,\"#d8576b\"],[0.6666666666666666,\"#ed7953\"],[0.7777777777777778,\"#fb9f3a\"],[0.8888888888888888,\"#fdca26\"],[1.0,\"#f0f921\"]]}],\"mesh3d\":[{\"type\":\"mesh3d\",\"colorbar\":{\"outlinewidth\":0,\"ticks\":\"\"}}],\"scatter\":[{\"fillpattern\":{\"fillmode\":\"overlay\",\"size\":10,\"solidity\":0.2},\"type\":\"scatter\"}],\"parcoords\":[{\"type\":\"parcoords\",\"line\":{\"colorbar\":{\"outlinewidth\":0,\"ticks\":\"\"}}}],\"scatterpolargl\":[{\"type\":\"scatterpolargl\",\"marker\":{\"colorbar\":{\"outlinewidth\":0,\"ticks\":\"\"}}}],\"bar\":[{\"error_x\":{\"color\":\"#2a3f5f\"},\"error_y\":{\"color\":\"#2a3f5f\"},\"marker\":{\"line\":{\"color\":\"#E5ECF6\",\"width\":0.5},\"pattern\":{\"fillmode\":\"overlay\",\"size\":10,\"solidity\":0.2}},\"type\":\"bar\"}],\"scattergeo\":[{\"type\":\"scattergeo\",\"marker\":{\"colorbar\":{\"outlinewidth\":0,\"ticks\":\"\"}}}],\"scatterpolar\":[{\"type\":\"scatterpolar\",\"marker\":{\"colorbar\":{\"outlinewidth\":0,\"ticks\":\"\"}}}],\"histogram\":[{\"marker\":{\"pattern\":{\"fillmode\":\"overlay\",\"size\":10,\"solidity\":0.2}},\"type\":\"histogram\"}],\"scattergl\":[{\"type\":\"scattergl\",\"marker\":{\"colorbar\":{\"outlinewidth\":0,\"ticks\":\"\"}}}],\"scatter3d\":[{\"type\":\"scatter3d\",\"line\":{\"colorbar\":{\"outlinewidth\":0,\"ticks\":\"\"}},\"marker\":{\"colorbar\":{\"outlinewidth\":0,\"ticks\":\"\"}}}],\"scattermapbox\":[{\"type\":\"scattermapbox\",\"marker\":{\"colorbar\":{\"outlinewidth\":0,\"ticks\":\"\"}}}],\"scatterternary\":[{\"type\":\"scatterternary\",\"marker\":{\"colorbar\":{\"outlinewidth\":0,\"ticks\":\"\"}}}],\"scattercarpet\":[{\"type\":\"scattercarpet\",\"marker\":{\"colorbar\":{\"outlinewidth\":0,\"ticks\":\"\"}}}],\"carpet\":[{\"aaxis\":{\"endlinecolor\":\"#2a3f5f\",\"gridcolor\":\"white\",\"linecolor\":\"white\",\"minorgridcolor\":\"white\",\"startlinecolor\":\"#2a3f5f\"},\"baxis\":{\"endlinecolor\":\"#2a3f5f\",\"gridcolor\":\"white\",\"linecolor\":\"white\",\"minorgridcolor\":\"white\",\"startlinecolor\":\"#2a3f5f\"},\"type\":\"carpet\"}],\"table\":[{\"cells\":{\"fill\":{\"color\":\"#EBF0F8\"},\"line\":{\"color\":\"white\"}},\"header\":{\"fill\":{\"color\":\"#C8D4E3\"},\"line\":{\"color\":\"white\"}},\"type\":\"table\"}],\"barpolar\":[{\"marker\":{\"line\":{\"color\":\"#E5ECF6\",\"width\":0.5},\"pattern\":{\"fillmode\":\"overlay\",\"size\":10,\"solidity\":0.2}},\"type\":\"barpolar\"}],\"pie\":[{\"automargin\":true,\"type\":\"pie\"}]},\"layout\":{\"autotypenumbers\":\"strict\",\"colorway\":[\"#636efa\",\"#EF553B\",\"#00cc96\",\"#ab63fa\",\"#FFA15A\",\"#19d3f3\",\"#FF6692\",\"#B6E880\",\"#FF97FF\",\"#FECB52\"],\"font\":{\"color\":\"#2a3f5f\"},\"hovermode\":\"closest\",\"hoverlabel\":{\"align\":\"left\"},\"paper_bgcolor\":\"white\",\"plot_bgcolor\":\"#E5ECF6\",\"polar\":{\"bgcolor\":\"#E5ECF6\",\"angularaxis\":{\"gridcolor\":\"white\",\"linecolor\":\"white\",\"ticks\":\"\"},\"radialaxis\":{\"gridcolor\":\"white\",\"linecolor\":\"white\",\"ticks\":\"\"}},\"ternary\":{\"bgcolor\":\"#E5ECF6\",\"aaxis\":{\"gridcolor\":\"white\",\"linecolor\":\"white\",\"ticks\":\"\"},\"baxis\":{\"gridcolor\":\"white\",\"linecolor\":\"white\",\"ticks\":\"\"},\"caxis\":{\"gridcolor\":\"white\",\"linecolor\":\"white\",\"ticks\":\"\"}},\"coloraxis\":{\"colorbar\":{\"outlinewidth\":0,\"ticks\":\"\"}},\"colorscale\":{\"sequential\":[[0.0,\"#0d0887\"],[0.1111111111111111,\"#46039f\"],[0.2222222222222222,\"#7201a8\"],[0.3333333333333333,\"#9c179e\"],[0.4444444444444444,\"#bd3786\"],[0.5555555555555556,\"#d8576b\"],[0.6666666666666666,\"#ed7953\"],[0.7777777777777778,\"#fb9f3a\"],[0.8888888888888888,\"#fdca26\"],[1.0,\"#f0f921\"]],\"sequentialminus\":[[0.0,\"#0d0887\"],[0.1111111111111111,\"#46039f\"],[0.2222222222222222,\"#7201a8\"],[0.3333333333333333,\"#9c179e\"],[0.4444444444444444,\"#bd3786\"],[0.5555555555555556,\"#d8576b\"],[0.6666666666666666,\"#ed7953\"],[0.7777777777777778,\"#fb9f3a\"],[0.8888888888888888,\"#fdca26\"],[1.0,\"#f0f921\"]],\"diverging\":[[0,\"#8e0152\"],[0.1,\"#c51b7d\"],[0.2,\"#de77ae\"],[0.3,\"#f1b6da\"],[0.4,\"#fde0ef\"],[0.5,\"#f7f7f7\"],[0.6,\"#e6f5d0\"],[0.7,\"#b8e186\"],[0.8,\"#7fbc41\"],[0.9,\"#4d9221\"],[1,\"#276419\"]]},\"xaxis\":{\"gridcolor\":\"white\",\"linecolor\":\"white\",\"ticks\":\"\",\"title\":{\"standoff\":15},\"zerolinecolor\":\"white\",\"automargin\":true,\"zerolinewidth\":2},\"yaxis\":{\"gridcolor\":\"white\",\"linecolor\":\"white\",\"ticks\":\"\",\"title\":{\"standoff\":15},\"zerolinecolor\":\"white\",\"automargin\":true,\"zerolinewidth\":2},\"scene\":{\"xaxis\":{\"backgroundcolor\":\"#E5ECF6\",\"gridcolor\":\"white\",\"linecolor\":\"white\",\"showbackground\":true,\"ticks\":\"\",\"zerolinecolor\":\"white\",\"gridwidth\":2},\"yaxis\":{\"backgroundcolor\":\"#E5ECF6\",\"gridcolor\":\"white\",\"linecolor\":\"white\",\"showbackground\":true,\"ticks\":\"\",\"zerolinecolor\":\"white\",\"gridwidth\":2},\"zaxis\":{\"backgroundcolor\":\"#E5ECF6\",\"gridcolor\":\"white\",\"linecolor\":\"white\",\"showbackground\":true,\"ticks\":\"\",\"zerolinecolor\":\"white\",\"gridwidth\":2}},\"shapedefaults\":{\"line\":{\"color\":\"#2a3f5f\"}},\"annotationdefaults\":{\"arrowcolor\":\"#2a3f5f\",\"arrowhead\":0,\"arrowwidth\":1},\"geo\":{\"bgcolor\":\"white\",\"landcolor\":\"#E5ECF6\",\"subunitcolor\":\"white\",\"showland\":true,\"showlakes\":true,\"lakecolor\":\"white\"},\"title\":{\"x\":0.05},\"mapbox\":{\"style\":\"light\"}}},\"xaxis\":{\"anchor\":\"y\",\"domain\":[0.0,0.2125],\"title\":{\"text\":\"alpha\"}},\"yaxis\":{\"anchor\":\"x\",\"domain\":[0.0,1.0],\"title\":{\"text\":\"Objective Value\"}},\"xaxis2\":{\"anchor\":\"y2\",\"domain\":[0.2625,0.475],\"title\":{\"text\":\"implicit\"},\"type\":\"category\",\"categoryorder\":\"array\",\"categoryarray\":[true,false]},\"yaxis2\":{\"anchor\":\"x2\",\"domain\":[0.0,1.0],\"matches\":\"y\",\"showticklabels\":false},\"xaxis3\":{\"anchor\":\"y3\",\"domain\":[0.525,0.7375],\"title\":{\"text\":\"normalize_similarity\"},\"type\":\"category\",\"categoryorder\":\"array\",\"categoryarray\":[true,false]},\"yaxis3\":{\"anchor\":\"x3\",\"domain\":[0.0,1.0],\"matches\":\"y\",\"showticklabels\":false},\"xaxis4\":{\"anchor\":\"y4\",\"domain\":[0.7875,1.0],\"title\":{\"text\":\"topK\"}},\"yaxis4\":{\"anchor\":\"x4\",\"domain\":[0.0,1.0],\"matches\":\"y\",\"showticklabels\":false},\"title\":{\"text\":\"Slice Plot\"},\"width\":1200},                        {\"responsive\": true}                    ).then(function(){\n",
       "                            \n",
       "var gd = document.getElementById('b97c0ea7-21f5-421f-a135-0016c31a80e8');\n",
       "var x = new MutationObserver(function (mutations, observer) {{\n",
       "        var display = window.getComputedStyle(gd).display;\n",
       "        if (!display || display === 'none') {{\n",
       "            console.log([gd, 'removed!']);\n",
       "            Plotly.purge(gd);\n",
       "            observer.disconnect();\n",
       "        }}\n",
       "}});\n",
       "\n",
       "// Listen for the removal of the full notebook cells\n",
       "var notebookContainer = gd.closest('#notebook-container');\n",
       "if (notebookContainer) {{\n",
       "    x.observe(notebookContainer, {childList: true});\n",
       "}}\n",
       "\n",
       "// Listen for the clearing of the current output cell\n",
       "var outputEl = gd.closest('.output');\n",
       "if (outputEl) {{\n",
       "    x.observe(outputEl, {childList: true});\n",
       "}}\n",
       "\n",
       "                        })                };                            </script>        </div>\n",
       "</body>\n",
       "</html>"
      ]
     },
     "metadata": {},
     "output_type": "display_data"
    }
   ],
   "source": [
    "if not config['tune_parameters']:\n",
    "    optuna_study = optuna.load_study(study_name=f'hyperparameters_tuning_{config[\"model\"]}_{config[\"metric\"]}', storage=f'sqlite:///{config[\"database_path\"]}')\n",
    "    \n",
    "fig = optuna.visualization.plot_slice(optuna_study)\n",
    "fig.show()"
   ]
  },
  {
   "cell_type": "code",
   "execution_count": 15,
   "id": "10b01493",
   "metadata": {
    "execution": {
     "iopub.execute_input": "2025-01-05T19:01:44.931891Z",
     "iopub.status.busy": "2025-01-05T19:01:44.931558Z",
     "iopub.status.idle": "2025-01-05T19:01:47.989011Z",
     "shell.execute_reply": "2025-01-05T19:01:47.987884Z"
    },
    "papermill": {
     "duration": 3.121226,
     "end_time": "2025-01-05T19:01:47.990825",
     "exception": false,
     "start_time": "2025-01-05T19:01:44.869599",
     "status": "completed"
    },
    "tags": []
   },
   "outputs": [
    {
     "data": {
      "text/html": [
       "<html>\n",
       "<head><meta charset=\"utf-8\" /></head>\n",
       "<body>\n",
       "    <div>            <script src=\"https://cdnjs.cloudflare.com/ajax/libs/mathjax/2.7.5/MathJax.js?config=TeX-AMS-MML_SVG\"></script><script type=\"text/javascript\">if (window.MathJax && window.MathJax.Hub && window.MathJax.Hub.Config) {window.MathJax.Hub.Config({SVG: {font: \"STIX-Web\"}});}</script>                <script type=\"text/javascript\">window.PlotlyConfig = {MathJaxConfig: 'local'};</script>\n",
       "        <script charset=\"utf-8\" src=\"https://cdn.plot.ly/plotly-2.35.2.min.js\"></script>                <div id=\"f4f0c9be-23ce-4b2c-8493-1bd53ed57aba\" class=\"plotly-graph-div\" style=\"height:525px; width:100%;\"></div>            <script type=\"text/javascript\">                                    window.PLOTLYENV=window.PLOTLYENV || {};                                    if (document.getElementById(\"f4f0c9be-23ce-4b2c-8493-1bd53ed57aba\")) {                    Plotly.newPlot(                        \"f4f0c9be-23ce-4b2c-8493-1bd53ed57aba\",                        [{\"cliponaxis\":false,\"hovertemplate\":[\"implicit (CategoricalDistribution): 0.015605875023802953\\u003cextra\\u003e\\u003c\\u002fextra\\u003e\",\"normalize_similarity (CategoricalDistribution): 0.038730324243540025\\u003cextra\\u003e\\u003c\\u002fextra\\u003e\",\"alpha (FloatDistribution): 0.09663303439472803\\u003cextra\\u003e\\u003c\\u002fextra\\u003e\",\"topK (IntDistribution): 0.8490307663379288\\u003cextra\\u003e\\u003c\\u002fextra\\u003e\"],\"name\":\"Objective Value\",\"orientation\":\"h\",\"text\":[\"0.02\",\"0.04\",\"0.10\",\"0.85\"],\"textposition\":\"outside\",\"x\":[0.015605875023802953,0.038730324243540025,0.09663303439472803,0.8490307663379288],\"y\":[\"implicit\",\"normalize_similarity\",\"alpha\",\"topK\"],\"type\":\"bar\"}],                        {\"title\":{\"text\":\"Hyperparameter Importances\"},\"xaxis\":{\"title\":{\"text\":\"Hyperparameter Importance\"}},\"yaxis\":{\"title\":{\"text\":\"Hyperparameter\"}},\"template\":{\"data\":{\"histogram2dcontour\":[{\"type\":\"histogram2dcontour\",\"colorbar\":{\"outlinewidth\":0,\"ticks\":\"\"},\"colorscale\":[[0.0,\"#0d0887\"],[0.1111111111111111,\"#46039f\"],[0.2222222222222222,\"#7201a8\"],[0.3333333333333333,\"#9c179e\"],[0.4444444444444444,\"#bd3786\"],[0.5555555555555556,\"#d8576b\"],[0.6666666666666666,\"#ed7953\"],[0.7777777777777778,\"#fb9f3a\"],[0.8888888888888888,\"#fdca26\"],[1.0,\"#f0f921\"]]}],\"choropleth\":[{\"type\":\"choropleth\",\"colorbar\":{\"outlinewidth\":0,\"ticks\":\"\"}}],\"histogram2d\":[{\"type\":\"histogram2d\",\"colorbar\":{\"outlinewidth\":0,\"ticks\":\"\"},\"colorscale\":[[0.0,\"#0d0887\"],[0.1111111111111111,\"#46039f\"],[0.2222222222222222,\"#7201a8\"],[0.3333333333333333,\"#9c179e\"],[0.4444444444444444,\"#bd3786\"],[0.5555555555555556,\"#d8576b\"],[0.6666666666666666,\"#ed7953\"],[0.7777777777777778,\"#fb9f3a\"],[0.8888888888888888,\"#fdca26\"],[1.0,\"#f0f921\"]]}],\"heatmap\":[{\"type\":\"heatmap\",\"colorbar\":{\"outlinewidth\":0,\"ticks\":\"\"},\"colorscale\":[[0.0,\"#0d0887\"],[0.1111111111111111,\"#46039f\"],[0.2222222222222222,\"#7201a8\"],[0.3333333333333333,\"#9c179e\"],[0.4444444444444444,\"#bd3786\"],[0.5555555555555556,\"#d8576b\"],[0.6666666666666666,\"#ed7953\"],[0.7777777777777778,\"#fb9f3a\"],[0.8888888888888888,\"#fdca26\"],[1.0,\"#f0f921\"]]}],\"heatmapgl\":[{\"type\":\"heatmapgl\",\"colorbar\":{\"outlinewidth\":0,\"ticks\":\"\"},\"colorscale\":[[0.0,\"#0d0887\"],[0.1111111111111111,\"#46039f\"],[0.2222222222222222,\"#7201a8\"],[0.3333333333333333,\"#9c179e\"],[0.4444444444444444,\"#bd3786\"],[0.5555555555555556,\"#d8576b\"],[0.6666666666666666,\"#ed7953\"],[0.7777777777777778,\"#fb9f3a\"],[0.8888888888888888,\"#fdca26\"],[1.0,\"#f0f921\"]]}],\"contourcarpet\":[{\"type\":\"contourcarpet\",\"colorbar\":{\"outlinewidth\":0,\"ticks\":\"\"}}],\"contour\":[{\"type\":\"contour\",\"colorbar\":{\"outlinewidth\":0,\"ticks\":\"\"},\"colorscale\":[[0.0,\"#0d0887\"],[0.1111111111111111,\"#46039f\"],[0.2222222222222222,\"#7201a8\"],[0.3333333333333333,\"#9c179e\"],[0.4444444444444444,\"#bd3786\"],[0.5555555555555556,\"#d8576b\"],[0.6666666666666666,\"#ed7953\"],[0.7777777777777778,\"#fb9f3a\"],[0.8888888888888888,\"#fdca26\"],[1.0,\"#f0f921\"]]}],\"surface\":[{\"type\":\"surface\",\"colorbar\":{\"outlinewidth\":0,\"ticks\":\"\"},\"colorscale\":[[0.0,\"#0d0887\"],[0.1111111111111111,\"#46039f\"],[0.2222222222222222,\"#7201a8\"],[0.3333333333333333,\"#9c179e\"],[0.4444444444444444,\"#bd3786\"],[0.5555555555555556,\"#d8576b\"],[0.6666666666666666,\"#ed7953\"],[0.7777777777777778,\"#fb9f3a\"],[0.8888888888888888,\"#fdca26\"],[1.0,\"#f0f921\"]]}],\"mesh3d\":[{\"type\":\"mesh3d\",\"colorbar\":{\"outlinewidth\":0,\"ticks\":\"\"}}],\"scatter\":[{\"fillpattern\":{\"fillmode\":\"overlay\",\"size\":10,\"solidity\":0.2},\"type\":\"scatter\"}],\"parcoords\":[{\"type\":\"parcoords\",\"line\":{\"colorbar\":{\"outlinewidth\":0,\"ticks\":\"\"}}}],\"scatterpolargl\":[{\"type\":\"scatterpolargl\",\"marker\":{\"colorbar\":{\"outlinewidth\":0,\"ticks\":\"\"}}}],\"bar\":[{\"error_x\":{\"color\":\"#2a3f5f\"},\"error_y\":{\"color\":\"#2a3f5f\"},\"marker\":{\"line\":{\"color\":\"#E5ECF6\",\"width\":0.5},\"pattern\":{\"fillmode\":\"overlay\",\"size\":10,\"solidity\":0.2}},\"type\":\"bar\"}],\"scattergeo\":[{\"type\":\"scattergeo\",\"marker\":{\"colorbar\":{\"outlinewidth\":0,\"ticks\":\"\"}}}],\"scatterpolar\":[{\"type\":\"scatterpolar\",\"marker\":{\"colorbar\":{\"outlinewidth\":0,\"ticks\":\"\"}}}],\"histogram\":[{\"marker\":{\"pattern\":{\"fillmode\":\"overlay\",\"size\":10,\"solidity\":0.2}},\"type\":\"histogram\"}],\"scattergl\":[{\"type\":\"scattergl\",\"marker\":{\"colorbar\":{\"outlinewidth\":0,\"ticks\":\"\"}}}],\"scatter3d\":[{\"type\":\"scatter3d\",\"line\":{\"colorbar\":{\"outlinewidth\":0,\"ticks\":\"\"}},\"marker\":{\"colorbar\":{\"outlinewidth\":0,\"ticks\":\"\"}}}],\"scattermapbox\":[{\"type\":\"scattermapbox\",\"marker\":{\"colorbar\":{\"outlinewidth\":0,\"ticks\":\"\"}}}],\"scatterternary\":[{\"type\":\"scatterternary\",\"marker\":{\"colorbar\":{\"outlinewidth\":0,\"ticks\":\"\"}}}],\"scattercarpet\":[{\"type\":\"scattercarpet\",\"marker\":{\"colorbar\":{\"outlinewidth\":0,\"ticks\":\"\"}}}],\"carpet\":[{\"aaxis\":{\"endlinecolor\":\"#2a3f5f\",\"gridcolor\":\"white\",\"linecolor\":\"white\",\"minorgridcolor\":\"white\",\"startlinecolor\":\"#2a3f5f\"},\"baxis\":{\"endlinecolor\":\"#2a3f5f\",\"gridcolor\":\"white\",\"linecolor\":\"white\",\"minorgridcolor\":\"white\",\"startlinecolor\":\"#2a3f5f\"},\"type\":\"carpet\"}],\"table\":[{\"cells\":{\"fill\":{\"color\":\"#EBF0F8\"},\"line\":{\"color\":\"white\"}},\"header\":{\"fill\":{\"color\":\"#C8D4E3\"},\"line\":{\"color\":\"white\"}},\"type\":\"table\"}],\"barpolar\":[{\"marker\":{\"line\":{\"color\":\"#E5ECF6\",\"width\":0.5},\"pattern\":{\"fillmode\":\"overlay\",\"size\":10,\"solidity\":0.2}},\"type\":\"barpolar\"}],\"pie\":[{\"automargin\":true,\"type\":\"pie\"}]},\"layout\":{\"autotypenumbers\":\"strict\",\"colorway\":[\"#636efa\",\"#EF553B\",\"#00cc96\",\"#ab63fa\",\"#FFA15A\",\"#19d3f3\",\"#FF6692\",\"#B6E880\",\"#FF97FF\",\"#FECB52\"],\"font\":{\"color\":\"#2a3f5f\"},\"hovermode\":\"closest\",\"hoverlabel\":{\"align\":\"left\"},\"paper_bgcolor\":\"white\",\"plot_bgcolor\":\"#E5ECF6\",\"polar\":{\"bgcolor\":\"#E5ECF6\",\"angularaxis\":{\"gridcolor\":\"white\",\"linecolor\":\"white\",\"ticks\":\"\"},\"radialaxis\":{\"gridcolor\":\"white\",\"linecolor\":\"white\",\"ticks\":\"\"}},\"ternary\":{\"bgcolor\":\"#E5ECF6\",\"aaxis\":{\"gridcolor\":\"white\",\"linecolor\":\"white\",\"ticks\":\"\"},\"baxis\":{\"gridcolor\":\"white\",\"linecolor\":\"white\",\"ticks\":\"\"},\"caxis\":{\"gridcolor\":\"white\",\"linecolor\":\"white\",\"ticks\":\"\"}},\"coloraxis\":{\"colorbar\":{\"outlinewidth\":0,\"ticks\":\"\"}},\"colorscale\":{\"sequential\":[[0.0,\"#0d0887\"],[0.1111111111111111,\"#46039f\"],[0.2222222222222222,\"#7201a8\"],[0.3333333333333333,\"#9c179e\"],[0.4444444444444444,\"#bd3786\"],[0.5555555555555556,\"#d8576b\"],[0.6666666666666666,\"#ed7953\"],[0.7777777777777778,\"#fb9f3a\"],[0.8888888888888888,\"#fdca26\"],[1.0,\"#f0f921\"]],\"sequentialminus\":[[0.0,\"#0d0887\"],[0.1111111111111111,\"#46039f\"],[0.2222222222222222,\"#7201a8\"],[0.3333333333333333,\"#9c179e\"],[0.4444444444444444,\"#bd3786\"],[0.5555555555555556,\"#d8576b\"],[0.6666666666666666,\"#ed7953\"],[0.7777777777777778,\"#fb9f3a\"],[0.8888888888888888,\"#fdca26\"],[1.0,\"#f0f921\"]],\"diverging\":[[0,\"#8e0152\"],[0.1,\"#c51b7d\"],[0.2,\"#de77ae\"],[0.3,\"#f1b6da\"],[0.4,\"#fde0ef\"],[0.5,\"#f7f7f7\"],[0.6,\"#e6f5d0\"],[0.7,\"#b8e186\"],[0.8,\"#7fbc41\"],[0.9,\"#4d9221\"],[1,\"#276419\"]]},\"xaxis\":{\"gridcolor\":\"white\",\"linecolor\":\"white\",\"ticks\":\"\",\"title\":{\"standoff\":15},\"zerolinecolor\":\"white\",\"automargin\":true,\"zerolinewidth\":2},\"yaxis\":{\"gridcolor\":\"white\",\"linecolor\":\"white\",\"ticks\":\"\",\"title\":{\"standoff\":15},\"zerolinecolor\":\"white\",\"automargin\":true,\"zerolinewidth\":2},\"scene\":{\"xaxis\":{\"backgroundcolor\":\"#E5ECF6\",\"gridcolor\":\"white\",\"linecolor\":\"white\",\"showbackground\":true,\"ticks\":\"\",\"zerolinecolor\":\"white\",\"gridwidth\":2},\"yaxis\":{\"backgroundcolor\":\"#E5ECF6\",\"gridcolor\":\"white\",\"linecolor\":\"white\",\"showbackground\":true,\"ticks\":\"\",\"zerolinecolor\":\"white\",\"gridwidth\":2},\"zaxis\":{\"backgroundcolor\":\"#E5ECF6\",\"gridcolor\":\"white\",\"linecolor\":\"white\",\"showbackground\":true,\"ticks\":\"\",\"zerolinecolor\":\"white\",\"gridwidth\":2}},\"shapedefaults\":{\"line\":{\"color\":\"#2a3f5f\"}},\"annotationdefaults\":{\"arrowcolor\":\"#2a3f5f\",\"arrowhead\":0,\"arrowwidth\":1},\"geo\":{\"bgcolor\":\"white\",\"landcolor\":\"#E5ECF6\",\"subunitcolor\":\"white\",\"showland\":true,\"showlakes\":true,\"lakecolor\":\"white\"},\"title\":{\"x\":0.05},\"mapbox\":{\"style\":\"light\"}}}},                        {\"responsive\": true}                    ).then(function(){\n",
       "                            \n",
       "var gd = document.getElementById('f4f0c9be-23ce-4b2c-8493-1bd53ed57aba');\n",
       "var x = new MutationObserver(function (mutations, observer) {{\n",
       "        var display = window.getComputedStyle(gd).display;\n",
       "        if (!display || display === 'none') {{\n",
       "            console.log([gd, 'removed!']);\n",
       "            Plotly.purge(gd);\n",
       "            observer.disconnect();\n",
       "        }}\n",
       "}});\n",
       "\n",
       "// Listen for the removal of the full notebook cells\n",
       "var notebookContainer = gd.closest('#notebook-container');\n",
       "if (notebookContainer) {{\n",
       "    x.observe(notebookContainer, {childList: true});\n",
       "}}\n",
       "\n",
       "// Listen for the clearing of the current output cell\n",
       "var outputEl = gd.closest('.output');\n",
       "if (outputEl) {{\n",
       "    x.observe(outputEl, {childList: true});\n",
       "}}\n",
       "\n",
       "                        })                };                            </script>        </div>\n",
       "</body>\n",
       "</html>"
      ]
     },
     "metadata": {},
     "output_type": "display_data"
    }
   ],
   "source": [
    "if not config['tune_parameters']:\n",
    "    optuna_study = optuna.load_study(study_name=f'hyperparameters_tuning_{config[\"model\"]}_{config[\"metric\"]}', storage=f'sqlite:///{config[\"database_path\"]}')\n",
    "    \n",
    "fig = optuna.visualization.plot_param_importances(optuna_study)\n",
    "fig.show()"
   ]
  },
  {
   "cell_type": "markdown",
   "id": "8ee27267",
   "metadata": {
    "papermill": {
     "duration": 0.061129,
     "end_time": "2025-01-05T19:01:48.113541",
     "exception": false,
     "start_time": "2025-01-05T19:01:48.052412",
     "status": "completed"
    },
    "tags": []
   },
   "source": [
    "## Let's train the recommender with best parameter values"
   ]
  },
  {
   "cell_type": "code",
   "execution_count": 16,
   "id": "7ddee99c",
   "metadata": {
    "execution": {
     "iopub.execute_input": "2025-01-05T19:01:48.239398Z",
     "iopub.status.busy": "2025-01-05T19:01:48.239059Z",
     "iopub.status.idle": "2025-01-05T19:02:08.598215Z",
     "shell.execute_reply": "2025-01-05T19:02:08.597314Z"
    },
    "papermill": {
     "duration": 20.425484,
     "end_time": "2025-01-05T19:02:08.600086",
     "exception": false,
     "start_time": "2025-01-05T19:01:48.174602",
     "status": "completed"
    },
    "tags": []
   },
   "outputs": [
    {
     "name": "stdout",
     "output_type": "stream",
     "text": [
      "P3alphaRecommender: Similarity column 38121 (100.0%), 1989.19 column/sec. Elapsed time 19.16 sec\n"
     ]
    }
   ],
   "source": [
    "if config['tune_best_params']:\n",
    "\n",
    "    if config['tune_parameters']:\n",
    "        best_params = optuna_study.best_trial.params\n",
    "    else: \n",
    "        with open(f'{K_PATH}/{GH_PATH}/{config[\"model\"]}Recommender/Optimizing{config[\"metric\"]}/best_params_{config[\"model\"]}_{config[\"metric\"]}.json', 'r') as best_params_json:\n",
    "            best_params = json.load(best_params_json)\n",
    "\n",
    "    recommender_instance = P3alphaRecommender(URM_train + URM_validation)\n",
    "    recommender_instance.fit(**best_params)"
   ]
  },
  {
   "cell_type": "markdown",
   "id": "29b64097",
   "metadata": {
    "papermill": {
     "duration": 0.061949,
     "end_time": "2025-01-05T19:02:08.724309",
     "exception": false,
     "start_time": "2025-01-05T19:02:08.662360",
     "status": "completed"
    },
    "tags": []
   },
   "source": [
    "# Testing"
   ]
  },
  {
   "cell_type": "markdown",
   "id": "efdf190e",
   "metadata": {
    "papermill": {
     "duration": 0.062427,
     "end_time": "2025-01-05T19:02:08.849107",
     "exception": false,
     "start_time": "2025-01-05T19:02:08.786680",
     "status": "completed"
    },
    "tags": []
   },
   "source": [
    "Create the recommendations for the submission. "
   ]
  },
  {
   "cell_type": "code",
   "execution_count": 17,
   "id": "56850a7c",
   "metadata": {
    "execution": {
     "iopub.execute_input": "2025-01-05T19:02:08.971636Z",
     "iopub.status.busy": "2025-01-05T19:02:08.971270Z",
     "iopub.status.idle": "2025-01-05T19:02:28.357074Z",
     "shell.execute_reply": "2025-01-05T19:02:28.355316Z"
    },
    "papermill": {
     "duration": 19.448904,
     "end_time": "2025-01-05T19:02:28.359228",
     "exception": false,
     "start_time": "2025-01-05T19:02:08.910324",
     "status": "completed"
    },
    "tags": []
   },
   "outputs": [
    {
     "name": "stdout",
     "output_type": "stream",
     "text": [
      "Submission file saved as /kaggle/working/submission_P3alpha_MAP.csv\n"
     ]
    }
   ],
   "source": [
    "if config['tune_best_params']:\n",
    "\n",
    "    data_target_users_test = pd.read_csv('/kaggle/input/recommender-system-2024-challenge-polimi/data_target_users_test.csv')\n",
    "    create_submission(data_target_users_test, recommender_instance, f'/kaggle/working/submission_{config[\"model\"]}_{config[\"metric\"]}.csv')"
   ]
  },
  {
   "cell_type": "markdown",
   "id": "94115dad",
   "metadata": {
    "execution": {
     "iopub.execute_input": "2024-11-14T00:04:16.877791Z",
     "iopub.status.busy": "2024-11-14T00:04:16.877275Z",
     "iopub.status.idle": "2024-11-14T00:04:16.883170Z",
     "shell.execute_reply": "2024-11-14T00:04:16.881889Z",
     "shell.execute_reply.started": "2024-11-14T00:04:16.877743Z"
    },
    "papermill": {
     "duration": 0.062041,
     "end_time": "2025-01-05T19:02:28.484577",
     "exception": false,
     "start_time": "2025-01-05T19:02:28.422536",
     "status": "completed"
    },
    "tags": []
   },
   "source": [
    "# Save Version on GitHub "
   ]
  },
  {
   "cell_type": "markdown",
   "id": "1347d248",
   "metadata": {
    "papermill": {
     "duration": 0.062933,
     "end_time": "2025-01-05T19:02:28.610549",
     "exception": false,
     "start_time": "2025-01-05T19:02:28.547616",
     "status": "completed"
    },
    "tags": []
   },
   "source": [
    "Write or import a json file where best hyperparameters are saved. "
   ]
  },
  {
   "cell_type": "code",
   "execution_count": 18,
   "id": "63ff65c9",
   "metadata": {
    "execution": {
     "iopub.execute_input": "2025-01-05T19:02:28.737903Z",
     "iopub.status.busy": "2025-01-05T19:02:28.737428Z",
     "iopub.status.idle": "2025-01-05T19:02:29.806381Z",
     "shell.execute_reply": "2025-01-05T19:02:29.804766Z"
    },
    "papermill": {
     "duration": 1.13539,
     "end_time": "2025-01-05T19:02:29.808961",
     "exception": false,
     "start_time": "2025-01-05T19:02:28.673571",
     "status": "completed"
    },
    "tags": []
   },
   "outputs": [
    {
     "name": "stdout",
     "output_type": "stream",
     "text": [
      "File 'TrainedModels/WithKFCV/GraphBased/P3alphaRecommender/OptimizingMAP/best_params_P3alpha_MAP.json' updated successfully.\n"
     ]
    }
   ],
   "source": [
    "if config['tune_parameters']:\n",
    "    with open(f'/kaggle/working/best_params_{config[\"model\"]}_{config[\"metric\"]}.json', 'w') as params_file:\n",
    "        json.dump(optuna_study.best_params, params_file)\n",
    "        \n",
    "    if config['save_github']:\n",
    "        upload_file(\n",
    "            f'/kaggle/working/best_params_{config[\"model\"]}_{config[\"metric\"]}.json', \n",
    "            f'{GH_PATH}/{config[\"model\"]}Recommender/Optimizing{config[\"metric\"]}/best_params_{config[\"model\"]}_{config[\"metric\"]}.json', \n",
    "            f'{config[\"model\"]}_{config[\"metric\"]} tuning results (from kaggle notebook)',\n",
    "            repo\n",
    "        )\n",
    "elif config['copy_prev_best_params']:\n",
    "    shutil.copyfile(\n",
    "        f'{K_PATH}/{GH_PATH}/{config[\"model\"]}Recommender/Optimizing{config[\"metric\"]}/'\\\n",
    "        f'best_params_{config[\"model\"]}_{config[\"metric\"]}.json', \n",
    "        f'/kaggle/working/best_params_{config[\"model\"]}_{config[\"metric\"]}.json'\n",
    "    )"
   ]
  },
  {
   "cell_type": "markdown",
   "id": "d1c60a21",
   "metadata": {
    "execution": {
     "iopub.execute_input": "2024-11-14T00:41:34.294243Z",
     "iopub.status.busy": "2024-11-14T00:41:34.293739Z",
     "iopub.status.idle": "2024-11-14T00:41:34.301478Z",
     "shell.execute_reply": "2024-11-14T00:41:34.299869Z",
     "shell.execute_reply.started": "2024-11-14T00:41:34.294186Z"
    },
    "papermill": {
     "duration": 0.075081,
     "end_time": "2025-01-05T19:02:29.978843",
     "exception": false,
     "start_time": "2025-01-05T19:02:29.903762",
     "status": "completed"
    },
    "tags": []
   },
   "source": [
    "Save the history of the tuned model."
   ]
  },
  {
   "cell_type": "code",
   "execution_count": 19,
   "id": "303338ce",
   "metadata": {
    "execution": {
     "iopub.execute_input": "2025-01-05T19:02:30.130278Z",
     "iopub.status.busy": "2025-01-05T19:02:30.129875Z",
     "iopub.status.idle": "2025-01-05T19:02:32.110354Z",
     "shell.execute_reply": "2025-01-05T19:02:32.108405Z"
    },
    "papermill": {
     "duration": 2.058071,
     "end_time": "2025-01-05T19:02:32.112654",
     "exception": false,
     "start_time": "2025-01-05T19:02:30.054583",
     "status": "completed"
    },
    "tags": []
   },
   "outputs": [
    {
     "name": "stdout",
     "output_type": "stream",
     "text": [
      "File 'TrainedModels/WithKFCV/GraphBased/P3alphaRecommender/OptimizingMAP/history_P3alpha_MAP.db' updated successfully.\n"
     ]
    }
   ],
   "source": [
    "if config['save_github'] and config['tune_parameters']:\n",
    "    upload_file(\n",
    "        config['database_path'], \n",
    "        f'{GH_PATH}/{config[\"model\"]}Recommender/Optimizing{config[\"metric\"]}/history_{config[\"model\"]}_{config[\"metric\"]}.db',\n",
    "        f'Tuning {config[\"model\"]}_{config[\"metric\"]} db updated results (from kaggle notebook)',\n",
    "        repo\n",
    "    )"
   ]
  },
  {
   "cell_type": "markdown",
   "id": "a75a956e",
   "metadata": {
    "papermill": {
     "duration": 0.062814,
     "end_time": "2025-01-05T19:02:32.238683",
     "exception": false,
     "start_time": "2025-01-05T19:02:32.175869",
     "status": "completed"
    },
    "tags": []
   },
   "source": [
    "Save the best trained model and its submission."
   ]
  },
  {
   "cell_type": "code",
   "execution_count": 20,
   "id": "e864a74e",
   "metadata": {
    "execution": {
     "iopub.execute_input": "2025-01-05T19:02:32.366641Z",
     "iopub.status.busy": "2025-01-05T19:02:32.366185Z",
     "iopub.status.idle": "2025-01-05T19:02:34.915071Z",
     "shell.execute_reply": "2025-01-05T19:02:34.913444Z"
    },
    "papermill": {
     "duration": 2.616161,
     "end_time": "2025-01-05T19:02:34.917525",
     "exception": false,
     "start_time": "2025-01-05T19:02:32.301364",
     "status": "completed"
    },
    "tags": []
   },
   "outputs": [
    {
     "name": "stdout",
     "output_type": "stream",
     "text": [
      "File 'TrainedModels/WithKFCV/GraphBased/P3alphaRecommender/OptimizingMAP/Submission/submission_P3alpha_MAP.csv' updated successfully.\n"
     ]
    }
   ],
   "source": [
    "if config['save_github'] and config['tune_best_params']: \n",
    "    upload_file(\n",
    "                f'/kaggle/working/submission_{config[\"model\"]}_{config[\"metric\"]}.csv', \n",
    "                f'{GH_PATH}/{config[\"model\"]}Recommender/Optimizing{config[\"metric\"]}/Submission/submission_{config[\"model\"]}_{config[\"metric\"]}.csv', \n",
    "                f'New {config[\"model\"]}_{config[\"metric\"]} submission (from kaggle notebook)',\n",
    "                repo\n",
    "            )"
   ]
  }
 ],
 "metadata": {
  "kaggle": {
   "accelerator": "none",
   "dataSources": [
    {
     "databundleVersionId": 9982103,
     "sourceId": 87439,
     "sourceType": "competition"
    }
   ],
   "dockerImageVersionId": 30822,
   "isGpuEnabled": false,
   "isInternetEnabled": true,
   "language": "python",
   "sourceType": "notebook"
  },
  "kernelspec": {
   "display_name": "Python 3",
   "language": "python",
   "name": "python3"
  },
  "language_info": {
   "codemirror_mode": {
    "name": "ipython",
    "version": 3
   },
   "file_extension": ".py",
   "mimetype": "text/x-python",
   "name": "python",
   "nbconvert_exporter": "python",
   "pygments_lexer": "ipython3",
   "version": "3.10.12"
  },
  "papermill": {
   "default_parameters": {},
   "duration": 13656.782615,
   "end_time": "2025-01-05T19:02:36.638388",
   "environment_variables": {},
   "exception": null,
   "input_path": "__notebook__.ipynb",
   "output_path": "__notebook__.ipynb",
   "parameters": {},
   "start_time": "2025-01-05T15:14:59.855773",
   "version": "2.6.0"
  }
 },
 "nbformat": 4,
 "nbformat_minor": 5
}
