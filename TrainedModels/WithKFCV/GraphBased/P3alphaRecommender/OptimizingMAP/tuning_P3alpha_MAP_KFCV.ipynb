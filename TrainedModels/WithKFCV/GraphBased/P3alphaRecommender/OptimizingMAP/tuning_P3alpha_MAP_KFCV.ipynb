{
 "cells": [
  {
   "cell_type": "markdown",
   "id": "0338cfc8",
   "metadata": {
    "papermill": {
     "duration": 0.006427,
     "end_time": "2025-01-06T10:55:35.603461",
     "exception": false,
     "start_time": "2025-01-06T10:55:35.597034",
     "status": "completed"
    },
    "tags": []
   },
   "source": [
    "# Set connection with GitHub"
   ]
  },
  {
   "cell_type": "code",
   "execution_count": 1,
   "id": "68233e1c",
   "metadata": {
    "execution": {
     "iopub.execute_input": "2025-01-06T10:55:35.617012Z",
     "iopub.status.busy": "2025-01-06T10:55:35.616671Z",
     "iopub.status.idle": "2025-01-06T10:55:35.622002Z",
     "shell.execute_reply": "2025-01-06T10:55:35.621113Z"
    },
    "papermill": {
     "duration": 0.013911,
     "end_time": "2025-01-06T10:55:35.623493",
     "exception": false,
     "start_time": "2025-01-06T10:55:35.609582",
     "status": "completed"
    },
    "tags": []
   },
   "outputs": [],
   "source": [
    "# ! cd /kaggle/working && rm -rf RECsys_Challenge2024"
   ]
  },
  {
   "cell_type": "code",
   "execution_count": 2,
   "id": "361be239",
   "metadata": {
    "_cell_guid": "b1076dfc-b9ad-4769-8c92-a6c4dae69d19",
    "_uuid": "8f2839f25d086af736a60e9eeb907d3b93b6e0e5",
    "execution": {
     "iopub.execute_input": "2025-01-06T10:55:35.636638Z",
     "iopub.status.busy": "2025-01-06T10:55:35.636230Z",
     "iopub.status.idle": "2025-01-06T10:55:53.746893Z",
     "shell.execute_reply": "2025-01-06T10:55:53.745452Z"
    },
    "papermill": {
     "duration": 18.11962,
     "end_time": "2025-01-06T10:55:53.749081",
     "exception": false,
     "start_time": "2025-01-06T10:55:35.629461",
     "status": "completed"
    },
    "tags": []
   },
   "outputs": [
    {
     "name": "stdout",
     "output_type": "stream",
     "text": [
      "Cloning into 'RECsys_Challenge2024'...\r\n",
      "remote: Enumerating objects: 6786, done.\u001b[K\r\n",
      "remote: Counting objects: 100% (336/336), done.\u001b[K\r\n",
      "remote: Compressing objects: 100% (290/290), done.\u001b[K\r\n",
      "remote: Total 6786 (delta 132), reused 38 (delta 9), pack-reused 6450 (from 2)\u001b[K\r\n",
      "Receiving objects: 100% (6786/6786), 409.72 MiB | 32.73 MiB/s, done.\r\n",
      "Resolving deltas: 100% (3707/3707), done.\r\n",
      "Updating files: 100% (506/506), done.\r\n"
     ]
    }
   ],
   "source": [
    "from kaggle_secrets import UserSecretsClient\n",
    "\n",
    "token = UserSecretsClient().get_secret(\"Token\")\n",
    "\n",
    "! git clone https://{token}@github.com/madratak/RECsys_Challenge2024.git"
   ]
  },
  {
   "cell_type": "code",
   "execution_count": 3,
   "id": "9a484860",
   "metadata": {
    "execution": {
     "iopub.execute_input": "2025-01-06T10:55:53.774247Z",
     "iopub.status.busy": "2025-01-06T10:55:53.773870Z",
     "iopub.status.idle": "2025-01-06T10:56:00.696199Z",
     "shell.execute_reply": "2025-01-06T10:56:00.694797Z"
    },
    "papermill": {
     "duration": 6.937071,
     "end_time": "2025-01-06T10:56:00.698230",
     "exception": false,
     "start_time": "2025-01-06T10:55:53.761159",
     "status": "completed"
    },
    "tags": []
   },
   "outputs": [
    {
     "name": "stdout",
     "output_type": "stream",
     "text": [
      "Collecting PyGithub\r\n",
      "  Downloading PyGithub-2.5.0-py3-none-any.whl.metadata (3.9 kB)\r\n",
      "Requirement already satisfied: requests in /usr/local/lib/python3.10/dist-packages (2.32.3)\r\n",
      "Collecting pynacl>=1.4.0 (from PyGithub)\r\n",
      "  Downloading PyNaCl-1.5.0-cp36-abi3-manylinux_2_17_x86_64.manylinux2014_x86_64.manylinux_2_24_x86_64.whl.metadata (8.6 kB)\r\n",
      "Requirement already satisfied: pyjwt>=2.4.0 in /usr/local/lib/python3.10/dist-packages (from pyjwt[crypto]>=2.4.0->PyGithub) (2.9.0)\r\n",
      "Requirement already satisfied: typing-extensions>=4.0.0 in /usr/local/lib/python3.10/dist-packages (from PyGithub) (4.12.2)\r\n",
      "Requirement already satisfied: urllib3>=1.26.0 in /usr/local/lib/python3.10/dist-packages (from PyGithub) (2.2.3)\r\n",
      "Requirement already satisfied: Deprecated in /usr/local/lib/python3.10/dist-packages (from PyGithub) (1.2.15)\r\n",
      "Requirement already satisfied: charset-normalizer<4,>=2 in /usr/local/lib/python3.10/dist-packages (from requests) (3.3.2)\r\n",
      "Requirement already satisfied: idna<4,>=2.5 in /usr/local/lib/python3.10/dist-packages (from requests) (3.10)\r\n",
      "Requirement already satisfied: certifi>=2017.4.17 in /usr/local/lib/python3.10/dist-packages (from requests) (2024.8.30)\r\n",
      "Requirement already satisfied: cryptography>=3.4.0 in /usr/local/lib/python3.10/dist-packages (from pyjwt[crypto]>=2.4.0->PyGithub) (43.0.1)\r\n",
      "Requirement already satisfied: cffi>=1.4.1 in /usr/local/lib/python3.10/dist-packages (from pynacl>=1.4.0->PyGithub) (1.17.1)\r\n",
      "Requirement already satisfied: wrapt<2,>=1.10 in /usr/local/lib/python3.10/dist-packages (from Deprecated->PyGithub) (1.16.0)\r\n",
      "Requirement already satisfied: pycparser in /usr/local/lib/python3.10/dist-packages (from cffi>=1.4.1->pynacl>=1.4.0->PyGithub) (2.22)\r\n",
      "Downloading PyGithub-2.5.0-py3-none-any.whl (375 kB)\r\n",
      "\u001b[2K   \u001b[90m━━━━━━━━━━━━━━━━━━━━━━━━━━━━━━━━━━━━━━━━\u001b[0m \u001b[32m375.9/375.9 kB\u001b[0m \u001b[31m11.2 MB/s\u001b[0m eta \u001b[36m0:00:00\u001b[0m\r\n",
      "\u001b[?25hDownloading PyNaCl-1.5.0-cp36-abi3-manylinux_2_17_x86_64.manylinux2014_x86_64.manylinux_2_24_x86_64.whl (856 kB)\r\n",
      "\u001b[2K   \u001b[90m━━━━━━━━━━━━━━━━━━━━━━━━━━━━━━━━━━━━━━━━\u001b[0m \u001b[32m856.7/856.7 kB\u001b[0m \u001b[31m33.3 MB/s\u001b[0m eta \u001b[36m0:00:00\u001b[0m\r\n",
      "\u001b[?25hInstalling collected packages: pynacl, PyGithub\r\n",
      "Successfully installed PyGithub-2.5.0 pynacl-1.5.0\r\n"
     ]
    }
   ],
   "source": [
    "! pip install PyGithub requests"
   ]
  },
  {
   "cell_type": "code",
   "execution_count": 4,
   "id": "775c4980",
   "metadata": {
    "_kg_hide-input": false,
    "execution": {
     "iopub.execute_input": "2025-01-06T10:56:00.723836Z",
     "iopub.status.busy": "2025-01-06T10:56:00.723345Z",
     "iopub.status.idle": "2025-01-06T10:58:46.428895Z",
     "shell.execute_reply": "2025-01-06T10:58:46.427657Z"
    },
    "papermill": {
     "duration": 165.720784,
     "end_time": "2025-01-06T10:58:46.431019",
     "exception": false,
     "start_time": "2025-01-06T10:56:00.710235",
     "status": "completed"
    },
    "tags": []
   },
   "outputs": [
    {
     "name": "stdout",
     "output_type": "stream",
     "text": [
      "/kaggle/working/RECsys_Challenge2024\n",
      "run_compile_all_cython: Found 11 Cython files in 5 folders...\r\n",
      "run_compile_all_cython: All files will be compiled using your current python environment: '/usr/bin/python3'\r\n",
      "Compiling [1/11]: MatrixFactorizationImpressions_Cython_Epoch.pyx... \r\n",
      "In file included from \u001b[01m\u001b[K/usr/local/lib/python3.10/dist-packages/numpy/core/include/numpy/ndarraytypes.h:1929\u001b[m\u001b[K,\r\n",
      "                 from \u001b[01m\u001b[K/usr/local/lib/python3.10/dist-packages/numpy/core/include/numpy/ndarrayobject.h:12\u001b[m\u001b[K,\r\n",
      "                 from \u001b[01m\u001b[K/usr/local/lib/python3.10/dist-packages/numpy/core/include/numpy/arrayobject.h:5\u001b[m\u001b[K,\r\n",
      "                 from \u001b[01m\u001b[KMatrixFactorizationImpressions_Cython_Epoch.c:1252\u001b[m\u001b[K:\r\n",
      "\u001b[01m\u001b[K/usr/local/lib/python3.10/dist-packages/numpy/core/include/numpy/npy_1_7_deprecated_api.h:17:2:\u001b[m\u001b[K \u001b[01;35m\u001b[Kwarning: \u001b[m\u001b[K#warning \"Using deprecated NumPy API, disable it with \" \"#define NPY_NO_DEPRECATED_API NPY_1_7_API_VERSION\" [\u001b[01;35m\u001b[K\u001b]8;;https://gcc.gnu.org/onlinedocs/gcc/Warning-Options.html#index-Wcpp\u0007-Wcpp\u001b]8;;\u0007\u001b[m\u001b[K]\r\n",
      "   17 | #\u001b[01;35m\u001b[Kwarning\u001b[m\u001b[K \"Using deprecated NumPy API, disable it with \" \\\r\n",
      "      |  \u001b[01;35m\u001b[K^~~~~~~\u001b[m\u001b[K\r\n",
      "\u001b[01m\u001b[KMatrixFactorizationImpressions_Cython_Epoch.c:\u001b[m\u001b[K In function ‘\u001b[01m\u001b[K__pyx_f_43MatrixFactorizationImpressions_Cython_Epoch_32MatrixFactorization_Cython_Epoch_sampleBPR_Cython\u001b[m\u001b[K’:\r\n",
      "\u001b[01m\u001b[KMatrixFactorizationImpressions_Cython_Epoch.c:30353:17:\u001b[m\u001b[K \u001b[01;35m\u001b[Kwarning: \u001b[m\u001b[K‘\u001b[01m\u001b[K__pyx_v_start_pos_impression_items\u001b[m\u001b[K’ may be used uninitialized in this function [\u001b[01;35m\u001b[K\u001b]8;;https://gcc.gnu.org/onlinedocs/gcc/Warning-Options.html#index-Wmaybe-uninitialized\u0007-Wmaybe-uninitialized\u001b]8;;\u0007\u001b[m\u001b[K]\r\n",
      "30353 |       \u001b[01;35m\u001b[K__pyx_t_4 = (__pyx_v_start_pos_impression_items + __pyx_v_index)\u001b[m\u001b[K;\r\n",
      "      |       \u001b[01;35m\u001b[K~~~~~~~~~~^~~~~~~~~~~~~~~~~~~~~~~~~~~~~~~~~~~~~~~~~~~~~~~~~~~~~~\u001b[m\u001b[K\r\n",
      "\u001b[01m\u001b[KMatrixFactorizationImpressions_Cython_Epoch.c:\u001b[m\u001b[K In function ‘\u001b[01m\u001b[K__pyx_pf_43MatrixFactorizationImpressions_Cython_Epoch_32MatrixFactorization_Cython_Epoch_10epochIteration_Cython_ASY_SVD_SGD\u001b[m\u001b[K’:\r\n",
      "\u001b[01m\u001b[KMatrixFactorizationImpressions_Cython_Epoch.c:26112:66:\u001b[m\u001b[K \u001b[01;35m\u001b[Kwarning: \u001b[m\u001b[K‘\u001b[01m\u001b[K__pyx_v_end_pos_seen_items\u001b[m\u001b[K’ may be used uninitialized in this function [\u001b[01;35m\u001b[K\u001b]8;;https://gcc.gnu.org/onlinedocs/gcc/Warning-Options.html#index-Wmaybe-uninitialized\u0007-Wmaybe-uninitialized\u001b]8;;\u0007\u001b[m\u001b[K]\r\n",
      "26112 |       for (__pyx_t_22 = __pyx_v_start_pos_seen_items; \u001b[01;35m\u001b[K__pyx_t_22 < __pyx_t_21\u001b[m\u001b[K; __pyx_t_22+=1) {\r\n",
      "      |                                                       \u001b[01;35m\u001b[K~~~~~~~~~~~^~~~~~~~~~~~\u001b[m\u001b[K\r\n",
      "\u001b[01m\u001b[KMatrixFactorizationImpressions_Cython_Epoch.c:26112:66:\u001b[m\u001b[K \u001b[01;35m\u001b[Kwarning: \u001b[m\u001b[K‘\u001b[01m\u001b[K__pyx_v_start_pos_seen_items\u001b[m\u001b[K’ may be used uninitialized in this function [\u001b[01;35m\u001b[K\u001b]8;;https://gcc.gnu.org/onlinedocs/gcc/Warning-Options.html#index-Wmaybe-uninitialized\u0007-Wmaybe-uninitialized\u001b]8;;\u0007\u001b[m\u001b[K]\r\n",
      "/usr/local/lib/python3.10/dist-packages/Cython/Compiler/Main.py:381: FutureWarning: Cython directive 'language_level' not set, using '3str' for now (Py3). This has changed from earlier releases! File: /kaggle/working/RECsys_Challenge2024/Recommenders/MatrixFactorization/Cython/MatrixFactorizationImpressions_Cython_Epoch.pyx\r\n",
      "  tree = Parsing.p_module(s, pxd, full_module_name)\r\n",
      "Compiling [1/11]: MatrixFactorizationImpressions_Cython_Epoch.pyx... PASS\r\n",
      "\r\n",
      "Compiling [2/11]: MatrixFactorization_Cython_Epoch.pyx... \r\n",
      "In file included from \u001b[01m\u001b[K/usr/local/lib/python3.10/dist-packages/numpy/core/include/numpy/ndarraytypes.h:1929\u001b[m\u001b[K,\r\n",
      "                 from \u001b[01m\u001b[K/usr/local/lib/python3.10/dist-packages/numpy/core/include/numpy/ndarrayobject.h:12\u001b[m\u001b[K,\r\n",
      "                 from \u001b[01m\u001b[K/usr/local/lib/python3.10/dist-packages/numpy/core/include/numpy/arrayobject.h:5\u001b[m\u001b[K,\r\n",
      "                 from \u001b[01m\u001b[KMatrixFactorization_Cython_Epoch.c:1252\u001b[m\u001b[K:\r\n",
      "\u001b[01m\u001b[K/usr/local/lib/python3.10/dist-packages/numpy/core/include/numpy/npy_1_7_deprecated_api.h:17:2:\u001b[m\u001b[K \u001b[01;35m\u001b[Kwarning: \u001b[m\u001b[K#warning \"Using deprecated NumPy API, disable it with \" \"#define NPY_NO_DEPRECATED_API NPY_1_7_API_VERSION\" [\u001b[01;35m\u001b[K\u001b]8;;https://gcc.gnu.org/onlinedocs/gcc/Warning-Options.html#index-Wcpp\u0007-Wcpp\u001b]8;;\u0007\u001b[m\u001b[K]\r\n",
      "   17 | #\u001b[01;35m\u001b[Kwarning\u001b[m\u001b[K \"Using deprecated NumPy API, disable it with \" \\\r\n",
      "      |  \u001b[01;35m\u001b[K^~~~~~~\u001b[m\u001b[K\r\n",
      "\u001b[01m\u001b[KMatrixFactorization_Cython_Epoch.c:\u001b[m\u001b[K In function ‘\u001b[01m\u001b[K__pyx_pf_32MatrixFactorization_Cython_Epoch_32MatrixFactorization_Cython_Epoch_10epochIteration_Cython_ASY_SVD_SGD\u001b[m\u001b[K’:\r\n",
      "\u001b[01m\u001b[KMatrixFactorization_Cython_Epoch.c:26256:68:\u001b[m\u001b[K \u001b[01;35m\u001b[Kwarning: \u001b[m\u001b[K‘\u001b[01m\u001b[K__pyx_v_end_pos_seen_items\u001b[m\u001b[K’ may be used uninitialized in this function [\u001b[01;35m\u001b[K\u001b]8;;https://gcc.gnu.org/onlinedocs/gcc/Warning-Options.html#index-Wmaybe-uninitialized\u0007-Wmaybe-uninitialized\u001b]8;;\u0007\u001b[m\u001b[K]\r\n",
      "26256 |         for (__pyx_t_22 = __pyx_v_start_pos_seen_items; \u001b[01;35m\u001b[K__pyx_t_22 < __pyx_t_21\u001b[m\u001b[K; __pyx_t_22+=1) {\r\n",
      "      |                                                         \u001b[01;35m\u001b[K~~~~~~~~~~~^~~~~~~~~~~~\u001b[m\u001b[K\r\n",
      "\u001b[01m\u001b[KMatrixFactorization_Cython_Epoch.c:26256:68:\u001b[m\u001b[K \u001b[01;35m\u001b[Kwarning: \u001b[m\u001b[K‘\u001b[01m\u001b[K__pyx_v_start_pos_seen_items\u001b[m\u001b[K’ may be used uninitialized in this function [\u001b[01;35m\u001b[K\u001b]8;;https://gcc.gnu.org/onlinedocs/gcc/Warning-Options.html#index-Wmaybe-uninitialized\u0007-Wmaybe-uninitialized\u001b]8;;\u0007\u001b[m\u001b[K]\r\n",
      "/usr/local/lib/python3.10/dist-packages/Cython/Compiler/Main.py:381: FutureWarning: Cython directive 'language_level' not set, using '3str' for now (Py3). This has changed from earlier releases! File: /kaggle/working/RECsys_Challenge2024/Recommenders/MatrixFactorization/Cython/MatrixFactorization_Cython_Epoch.pyx\r\n",
      "  tree = Parsing.p_module(s, pxd, full_module_name)\r\n",
      "Compiling [2/11]: MatrixFactorization_Cython_Epoch.pyx... PASS\r\n",
      "\r\n",
      "Compiling [3/11]: Compute_Similarity_Cython.pyx... \r\n",
      "warning: Compute_Similarity_Cython.pyx:21:0: The 'IF' statement is deprecated and will be removed in a future Cython version. Consider using runtime conditions or C macros instead. See https://github.com/cython/cython/issues/4310\r\n",
      "In file included from \u001b[01m\u001b[K/usr/local/lib/python3.10/dist-packages/numpy/core/include/numpy/ndarraytypes.h:1929\u001b[m\u001b[K,\r\n",
      "                 from \u001b[01m\u001b[K/usr/local/lib/python3.10/dist-packages/numpy/core/include/numpy/ndarrayobject.h:12\u001b[m\u001b[K,\r\n",
      "                 from \u001b[01m\u001b[K/usr/local/lib/python3.10/dist-packages/numpy/core/include/numpy/arrayobject.h:5\u001b[m\u001b[K,\r\n",
      "                 from \u001b[01m\u001b[KCompute_Similarity_Cython.c:1252\u001b[m\u001b[K:\r\n",
      "\u001b[01m\u001b[K/usr/local/lib/python3.10/dist-packages/numpy/core/include/numpy/npy_1_7_deprecated_api.h:17:2:\u001b[m\u001b[K \u001b[01;35m\u001b[Kwarning: \u001b[m\u001b[K#warning \"Using deprecated NumPy API, disable it with \" \"#define NPY_NO_DEPRECATED_API NPY_1_7_API_VERSION\" [\u001b[01;35m\u001b[K\u001b]8;;https://gcc.gnu.org/onlinedocs/gcc/Warning-Options.html#index-Wcpp\u0007-Wcpp\u001b]8;;\u0007\u001b[m\u001b[K]\r\n",
      "   17 | #\u001b[01;35m\u001b[Kwarning\u001b[m\u001b[K \"Using deprecated NumPy API, disable it with \" \\\r\n",
      "      |  \u001b[01;35m\u001b[K^~~~~~~\u001b[m\u001b[K\r\n",
      "/usr/local/lib/python3.10/dist-packages/Cython/Compiler/Main.py:381: FutureWarning: Cython directive 'language_level' not set, using '3str' for now (Py3). This has changed from earlier releases! File: /kaggle/working/RECsys_Challenge2024/Recommenders/Similarity/Cython/Compute_Similarity_Cython.pyx\r\n",
      "  tree = Parsing.p_module(s, pxd, full_module_name)\r\n",
      "warning: Compute_Similarity_Cython.pyx:21:0: The 'IF' statement is deprecated and will be removed in a future Cython version. Consider using runtime conditions or C macros instead. See https://github.com/cython/cython/issues/4310\r\n",
      "Compiling [3/11]: Compute_Similarity_Cython.pyx... PASS\r\n",
      "\r\n",
      "Compiling [4/11]: SLIM_BPR_Cython_Epoch.pyx... \r\n",
      "warning: SLIM_BPR_Cython_Epoch.pyx:24:0: The 'IF' statement is deprecated and will be removed in a future Cython version. Consider using runtime conditions or C macros instead. See https://github.com/cython/cython/issues/4310\r\n",
      "warning: SLIM_BPR_Cython_Epoch.pyx:632:34: Non-trivial type declarators in shared declaration (e.g. mix of pointers and values). Each pointer declaration should be on its own line.\r\n",
      "warning: SLIM_BPR_Cython_Epoch.pyx:632:66: Non-trivial type declarators in shared declaration (e.g. mix of pointers and values). Each pointer declaration should be on its own line.\r\n",
      "warning: SLIM_BPR_Cython_Epoch.pyx:817:35: Non-trivial type declarators in shared declaration (e.g. mix of pointers and values). Each pointer declaration should be on its own line.\r\n",
      "warning: SLIM_BPR_Cython_Epoch.pyx:817:52: Non-trivial type declarators in shared declaration (e.g. mix of pointers and values). Each pointer declaration should be on its own line.\r\n",
      "warning: SLIM_BPR_Cython_Epoch.pyx:916:35: Non-trivial type declarators in shared declaration (e.g. mix of pointers and values). Each pointer declaration should be on its own line.\r\n",
      "warning: SLIM_BPR_Cython_Epoch.pyx:916:53: Non-trivial type declarators in shared declaration (e.g. mix of pointers and values). Each pointer declaration should be on its own line.\r\n",
      "warning: SLIM_BPR_Cython_Epoch.pyx:916:69: Non-trivial type declarators in shared declaration (e.g. mix of pointers and values). Each pointer declaration should be on its own line.\r\n",
      "warning: SLIM_BPR_Cython_Epoch.pyx:1051:35: Non-trivial type declarators in shared declaration (e.g. mix of pointers and values). Each pointer declaration should be on its own line.\r\n",
      "warning: SLIM_BPR_Cython_Epoch.pyx:1051:42: Non-trivial type declarators in shared declaration (e.g. mix of pointers and values). Each pointer declaration should be on its own line.\r\n",
      "warning: SLIM_BPR_Cython_Epoch.pyx:1052:35: Non-trivial type declarators in shared declaration (e.g. mix of pointers and values). Each pointer declaration should be on its own line.\r\n",
      "warning: SLIM_BPR_Cython_Epoch.pyx:1052:53: Non-trivial type declarators in shared declaration (e.g. mix of pointers and values). Each pointer declaration should be on its own line.\r\n",
      "\r\n",
      "Error compiling Cython file:\r\n",
      "------------------------------------------------------------\r\n",
      "...\r\n",
      "            vector_pointer_to_list_elements[index].head = current_element\r\n",
      "            current_element = current_element.higher\r\n",
      "\r\n",
      "\r\n",
      "        # Sort array elements on their data field\r\n",
      "        qsort(vector_pointer_to_list_elements, list_length, sizeof(head_pointer_tree_s), compare_struct_on_data)\r\n",
      "                                                                                         ^\r\n",
      "------------------------------------------------------------\r\n",
      "\r\n",
      "SLIM_BPR_Cython_Epoch.pyx:990:89: Cannot assign type 'int (const void *, const void *) except? -1' to 'int (*)(const_void *, const_void *) noexcept'. Exception values are incompatible. Suggest adding 'noexcept' to the type of 'compare_struct_on_data'.\r\n",
      "\r\n",
      "Error compiling Cython file:\r\n",
      "------------------------------------------------------------\r\n",
      "...\r\n",
      "        # Sort array elements on their data field\r\n",
      "        qsort(vector_pointer_to_list_elements, list_length, sizeof(head_pointer_tree_s), compare_struct_on_data)\r\n",
      "\r\n",
      "        # Sort only the TopK according to their column field\r\n",
      "        # Sort is from lower to higher, therefore the elements to be considered are from len-topK to len\r\n",
      "        qsort(&vector_pointer_to_list_elements[list_length-TopK], TopK, sizeof(head_pointer_tree_s), compare_struct_on_column)\r\n",
      "                                                                                                     ^\r\n",
      "------------------------------------------------------------\r\n",
      "\r\n",
      "SLIM_BPR_Cython_Epoch.pyx:994:101: Cannot assign type 'int (const void *, const void *) except? -1' to 'int (*)(const_void *, const_void *) noexcept'. Exception values are incompatible. Suggest adding 'noexcept' to the type of 'compare_struct_on_column'.\r\n",
      "Traceback (most recent call last):\r\n",
      "  File \"/kaggle/working/RECsys_Challenge2024/CythonCompiler/compile_script.py\", line 48, in <module>\r\n",
      "    setup(\r\n",
      "  File \"/usr/local/lib/python3.10/dist-packages/setuptools/__init__.py\", line 108, in setup\r\n",
      "    return distutils.core.setup(**attrs)\r\n",
      "  File \"/usr/local/lib/python3.10/dist-packages/setuptools/_distutils/core.py\", line 184, in setup\r\n",
      "    return run_commands(dist)\r\n",
      "  File \"/usr/local/lib/python3.10/dist-packages/setuptools/_distutils/core.py\", line 200, in run_commands\r\n",
      "    dist.run_commands()\r\n",
      "  File \"/usr/local/lib/python3.10/dist-packages/setuptools/_distutils/dist.py\", line 970, in run_commands\r\n",
      "    self.run_command(cmd)\r\n",
      "  File \"/usr/local/lib/python3.10/dist-packages/setuptools/dist.py\", line 956, in run_command\r\n",
      "    super().run_command(command)\r\n",
      "  File \"/usr/local/lib/python3.10/dist-packages/setuptools/_distutils/dist.py\", line 989, in run_command\r\n",
      "    cmd_obj.run()\r\n",
      "  File \"/usr/local/lib/python3.10/dist-packages/setuptools/_distutils/command/build_ext.py\", line 359, in run\r\n",
      "    self.build_extensions()\r\n",
      "  File \"/usr/local/lib/python3.10/dist-packages/setuptools/_distutils/command/build_ext.py\", line 479, in build_extensions\r\n",
      "    self._build_extensions_serial()\r\n",
      "  File \"/usr/local/lib/python3.10/dist-packages/setuptools/_distutils/command/build_ext.py\", line 505, in _build_extensions_serial\r\n",
      "    self.build_extension(ext)\r\n",
      "  File \"/usr/local/lib/python3.10/dist-packages/Cython/Distutils/build_ext.py\", line 130, in build_extension\r\n",
      "    new_ext = cythonize(\r\n",
      "  File \"/usr/local/lib/python3.10/dist-packages/Cython/Build/Dependencies.py\", line 1154, in cythonize\r\n",
      "    cythonize_one(*args)\r\n",
      "  File \"/usr/local/lib/python3.10/dist-packages/Cython/Build/Dependencies.py\", line 1321, in cythonize_one\r\n",
      "    raise CompileError(None, pyx_file)\r\n",
      "Cython.Compiler.Errors.CompileError: SLIM_BPR_Cython_Epoch.pyx\r\n",
      "Traceback (most recent call last):\r\n",
      "  File \"/kaggle/working/RECsys_Challenge2024/run_compile_all_cython.py\", line 60, in <module>\r\n",
      "    run_compile_subprocess(file_path, [file_name])\r\n",
      "  File \"/kaggle/working/RECsys_Challenge2024/CythonCompiler/run_compile_subprocess.py\", line 51, in run_compile_subprocess\r\n",
      "    raise exc\r\n",
      "  File \"/kaggle/working/RECsys_Challenge2024/CythonCompiler/run_compile_subprocess.py\", line 32, in run_compile_subprocess\r\n",
      "    output = subprocess.check_output(' '.join(command),\r\n",
      "  File \"/usr/lib/python3.10/subprocess.py\", line 421, in check_output\r\n",
      "    return run(*popenargs, stdout=PIPE, timeout=timeout, check=True,\r\n",
      "  File \"/usr/lib/python3.10/subprocess.py\", line 526, in run\r\n",
      "    raise CalledProcessError(retcode, process.args,\r\n",
      "subprocess.CalledProcessError: Command '/usr/bin/python3 /kaggle/working/RECsys_Challenge2024/CythonCompiler/compile_script.py SLIM_BPR_Cython_Epoch.pyx build_ext --inplace' returned non-zero exit status 1.\r\n",
      "Compiling [4/11]: SLIM_BPR_Cython_Epoch.pyx... FAIL: Command '/usr/bin/python3 /kaggle/working/RECsys_Challenge2024/CythonCompiler/compile_script.py SLIM_BPR_Cython_Epoch.pyx build_ext --inplace' returned non-zero exit status 1.\r\n",
      "\r\n",
      "Compiling [5/11]: Sparse_Matrix_Tree_CSR.pyx... \r\n",
      "warning: Sparse_Matrix_Tree_CSR.pyx:132:34: Non-trivial type declarators in shared declaration (e.g. mix of pointers and values). Each pointer declaration should be on its own line.\r\n",
      "warning: Sparse_Matrix_Tree_CSR.pyx:132:66: Non-trivial type declarators in shared declaration (e.g. mix of pointers and values). Each pointer declaration should be on its own line.\r\n",
      "warning: Sparse_Matrix_Tree_CSR.pyx:343:35: Non-trivial type declarators in shared declaration (e.g. mix of pointers and values). Each pointer declaration should be on its own line.\r\n",
      "warning: Sparse_Matrix_Tree_CSR.pyx:343:52: Non-trivial type declarators in shared declaration (e.g. mix of pointers and values). Each pointer declaration should be on its own line.\r\n",
      "warning: Sparse_Matrix_Tree_CSR.pyx:442:35: Non-trivial type declarators in shared declaration (e.g. mix of pointers and values). Each pointer declaration should be on its own line.\r\n",
      "warning: Sparse_Matrix_Tree_CSR.pyx:442:53: Non-trivial type declarators in shared declaration (e.g. mix of pointers and values). Each pointer declaration should be on its own line.\r\n",
      "warning: Sparse_Matrix_Tree_CSR.pyx:442:69: Non-trivial type declarators in shared declaration (e.g. mix of pointers and values). Each pointer declaration should be on its own line.\r\n",
      "warning: Sparse_Matrix_Tree_CSR.pyx:577:35: Non-trivial type declarators in shared declaration (e.g. mix of pointers and values). Each pointer declaration should be on its own line.\r\n",
      "warning: Sparse_Matrix_Tree_CSR.pyx:577:42: Non-trivial type declarators in shared declaration (e.g. mix of pointers and values). Each pointer declaration should be on its own line.\r\n",
      "warning: Sparse_Matrix_Tree_CSR.pyx:578:35: Non-trivial type declarators in shared declaration (e.g. mix of pointers and values). Each pointer declaration should be on its own line.\r\n",
      "warning: Sparse_Matrix_Tree_CSR.pyx:578:53: Non-trivial type declarators in shared declaration (e.g. mix of pointers and values). Each pointer declaration should be on its own line.\r\n",
      "\r\n",
      "Error compiling Cython file:\r\n",
      "------------------------------------------------------------\r\n",
      "...\r\n",
      "            vector_pointer_to_list_elements[index].head = current_element\r\n",
      "            current_element = current_element.higher\r\n",
      "\r\n",
      "\r\n",
      "        # Sort array elements on their data field\r\n",
      "        qsort(vector_pointer_to_list_elements, list_length, sizeof(head_pointer_tree_s), compare_struct_on_data)\r\n",
      "                                                                                         ^\r\n",
      "------------------------------------------------------------\r\n",
      "\r\n",
      "Sparse_Matrix_Tree_CSR.pyx:516:89: Cannot assign type 'int (const void *, const void *) except? -1' to 'int (*)(const_void *, const_void *) noexcept'. Exception values are incompatible. Suggest adding 'noexcept' to the type of 'compare_struct_on_data'.\r\n",
      "\r\n",
      "Error compiling Cython file:\r\n",
      "------------------------------------------------------------\r\n",
      "...\r\n",
      "        # Sort array elements on their data field\r\n",
      "        qsort(vector_pointer_to_list_elements, list_length, sizeof(head_pointer_tree_s), compare_struct_on_data)\r\n",
      "\r\n",
      "        # Sort only the TopK according to their column field\r\n",
      "        # Sort is from lower to higher, therefore the elements to be considered are from len-topK to len\r\n",
      "        qsort(&vector_pointer_to_list_elements[list_length-TopK], TopK, sizeof(head_pointer_tree_s), compare_struct_on_column)\r\n",
      "                                                                                                     ^\r\n",
      "------------------------------------------------------------\r\n",
      "\r\n",
      "Sparse_Matrix_Tree_CSR.pyx:520:101: Cannot assign type 'int (const void *, const void *) except? -1' to 'int (*)(const_void *, const_void *) noexcept'. Exception values are incompatible. Suggest adding 'noexcept' to the type of 'compare_struct_on_column'.\r\n",
      "Traceback (most recent call last):\r\n",
      "  File \"/kaggle/working/RECsys_Challenge2024/CythonCompiler/compile_script.py\", line 48, in <module>\r\n",
      "    setup(\r\n",
      "  File \"/usr/local/lib/python3.10/dist-packages/setuptools/__init__.py\", line 108, in setup\r\n",
      "    return distutils.core.setup(**attrs)\r\n",
      "  File \"/usr/local/lib/python3.10/dist-packages/setuptools/_distutils/core.py\", line 184, in setup\r\n",
      "    return run_commands(dist)\r\n",
      "  File \"/usr/local/lib/python3.10/dist-packages/setuptools/_distutils/core.py\", line 200, in run_commands\r\n",
      "    dist.run_commands()\r\n",
      "  File \"/usr/local/lib/python3.10/dist-packages/setuptools/_distutils/dist.py\", line 970, in run_commands\r\n",
      "    self.run_command(cmd)\r\n",
      "  File \"/usr/local/lib/python3.10/dist-packages/setuptools/dist.py\", line 956, in run_command\r\n",
      "    super().run_command(command)\r\n",
      "  File \"/usr/local/lib/python3.10/dist-packages/setuptools/_distutils/dist.py\", line 989, in run_command\r\n",
      "    cmd_obj.run()\r\n",
      "  File \"/usr/local/lib/python3.10/dist-packages/setuptools/_distutils/command/build_ext.py\", line 359, in run\r\n",
      "    self.build_extensions()\r\n",
      "  File \"/usr/local/lib/python3.10/dist-packages/setuptools/_distutils/command/build_ext.py\", line 479, in build_extensions\r\n",
      "    self._build_extensions_serial()\r\n",
      "  File \"/usr/local/lib/python3.10/dist-packages/setuptools/_distutils/command/build_ext.py\", line 505, in _build_extensions_serial\r\n",
      "    self.build_extension(ext)\r\n",
      "  File \"/usr/local/lib/python3.10/dist-packages/Cython/Distutils/build_ext.py\", line 130, in build_extension\r\n",
      "    new_ext = cythonize(\r\n",
      "  File \"/usr/local/lib/python3.10/dist-packages/Cython/Build/Dependencies.py\", line 1154, in cythonize\r\n",
      "    cythonize_one(*args)\r\n",
      "  File \"/usr/local/lib/python3.10/dist-packages/Cython/Build/Dependencies.py\", line 1321, in cythonize_one\r\n",
      "    raise CompileError(None, pyx_file)\r\n",
      "Cython.Compiler.Errors.CompileError: Sparse_Matrix_Tree_CSR.pyx\r\n",
      "Traceback (most recent call last):\r\n",
      "  File \"/kaggle/working/RECsys_Challenge2024/run_compile_all_cython.py\", line 60, in <module>\r\n",
      "    run_compile_subprocess(file_path, [file_name])\r\n",
      "  File \"/kaggle/working/RECsys_Challenge2024/CythonCompiler/run_compile_subprocess.py\", line 51, in run_compile_subprocess\r\n",
      "    raise exc\r\n",
      "  File \"/kaggle/working/RECsys_Challenge2024/CythonCompiler/run_compile_subprocess.py\", line 32, in run_compile_subprocess\r\n",
      "    output = subprocess.check_output(' '.join(command),\r\n",
      "  File \"/usr/lib/python3.10/subprocess.py\", line 421, in check_output\r\n",
      "    return run(*popenargs, stdout=PIPE, timeout=timeout, check=True,\r\n",
      "  File \"/usr/lib/python3.10/subprocess.py\", line 526, in run\r\n",
      "    raise CalledProcessError(retcode, process.args,\r\n",
      "subprocess.CalledProcessError: Command '/usr/bin/python3 /kaggle/working/RECsys_Challenge2024/CythonCompiler/compile_script.py Sparse_Matrix_Tree_CSR.pyx build_ext --inplace' returned non-zero exit status 1.\r\n",
      "Compiling [5/11]: Sparse_Matrix_Tree_CSR.pyx... FAIL: Command '/usr/bin/python3 /kaggle/working/RECsys_Challenge2024/CythonCompiler/compile_script.py Sparse_Matrix_Tree_CSR.pyx build_ext --inplace' returned non-zero exit status 1.\r\n",
      "\r\n",
      "Compiling [6/11]: Triangular_Matrix.pyx... \r\n",
      "warning: Triangular_Matrix.pyx:22:0: The 'IF' statement is deprecated and will be removed in a future Cython version. Consider using runtime conditions or C macros instead. See https://github.com/cython/cython/issues/4310\r\n",
      "In file included from \u001b[01m\u001b[K/usr/local/lib/python3.10/dist-packages/numpy/core/include/numpy/ndarraytypes.h:1929\u001b[m\u001b[K,\r\n",
      "                 from \u001b[01m\u001b[K/usr/local/lib/python3.10/dist-packages/numpy/core/include/numpy/ndarrayobject.h:12\u001b[m\u001b[K,\r\n",
      "                 from \u001b[01m\u001b[K/usr/local/lib/python3.10/dist-packages/numpy/core/include/numpy/arrayobject.h:5\u001b[m\u001b[K,\r\n",
      "                 from \u001b[01m\u001b[KTriangular_Matrix.c:1252\u001b[m\u001b[K:\r\n",
      "\u001b[01m\u001b[K/usr/local/lib/python3.10/dist-packages/numpy/core/include/numpy/npy_1_7_deprecated_api.h:17:2:\u001b[m\u001b[K \u001b[01;35m\u001b[Kwarning: \u001b[m\u001b[K#warning \"Using deprecated NumPy API, disable it with \" \"#define NPY_NO_DEPRECATED_API NPY_1_7_API_VERSION\" [\u001b[01;35m\u001b[K\u001b]8;;https://gcc.gnu.org/onlinedocs/gcc/Warning-Options.html#index-Wcpp\u0007-Wcpp\u001b]8;;\u0007\u001b[m\u001b[K]\r\n",
      "   17 | #\u001b[01;35m\u001b[Kwarning\u001b[m\u001b[K \"Using deprecated NumPy API, disable it with \" \\\r\n",
      "      |  \u001b[01;35m\u001b[K^~~~~~~\u001b[m\u001b[K\r\n",
      "In function ‘\u001b[01m\u001b[K__pyx_pf_17Triangular_Matrix_17Triangular_Matrix___init__\u001b[m\u001b[K’,\r\n",
      "    inlined from ‘\u001b[01m\u001b[K__pyx_pw_17Triangular_Matrix_17Triangular_Matrix_1__init__\u001b[m\u001b[K’ at \u001b[01m\u001b[KTriangular_Matrix.c:5541:13\u001b[m\u001b[K:\r\n",
      "\u001b[01m\u001b[KTriangular_Matrix.c:5599:43:\u001b[m\u001b[K \u001b[01;35m\u001b[Kwarning: \u001b[m\u001b[Kargument 1 value ‘\u001b[01m\u001b[K18446744073709551608\u001b[m\u001b[K’ exceeds maximum object size 9223372036854775807 [\u001b[01;35m\u001b[K\u001b]8;;https://gcc.gnu.org/onlinedocs/gcc/Warning-Options.html#index-Walloc-size-larger-than=\u0007-Walloc-size-larger-than=\u001b]8;;\u0007\u001b[m\u001b[K]\r\n",
      " 5599 |   __pyx_v_self->row_pointer = ((double **)\u001b[01;35m\u001b[Kmalloc((__pyx_v_self->num_rows * (sizeof(double *))))\u001b[m\u001b[K);\r\n",
      "      |                                           \u001b[01;35m\u001b[K^~~~~~~~~~~~~~~~~~~~~~~~~~~~~~~~~~~~~~~~~~~~~~~~~~~~~\u001b[m\u001b[K\r\n",
      "In file included from \u001b[01m\u001b[K/usr/include/python3.10/Python.h:34\u001b[m\u001b[K,\r\n",
      "                 from \u001b[01m\u001b[KTriangular_Matrix.c:41\u001b[m\u001b[K:\r\n",
      "\u001b[01m\u001b[KTriangular_Matrix.c:\u001b[m\u001b[K In function ‘\u001b[01m\u001b[K__pyx_pw_17Triangular_Matrix_17Triangular_Matrix_1__init__\u001b[m\u001b[K’:\r\n",
      "\u001b[01m\u001b[K/usr/include/stdlib.h:540:14:\u001b[m\u001b[K \u001b[01;36m\u001b[Knote: \u001b[m\u001b[Kin a call to allocation function ‘\u001b[01m\u001b[Kmalloc\u001b[m\u001b[K’ declared here\r\n",
      "  540 | extern void *\u001b[01;36m\u001b[Kmalloc\u001b[m\u001b[K (size_t __size) __THROW __attribute_malloc__\r\n",
      "      |              \u001b[01;36m\u001b[K^~~~~~\u001b[m\u001b[K\r\n",
      "/usr/local/lib/python3.10/dist-packages/Cython/Compiler/Main.py:381: FutureWarning: Cython directive 'language_level' not set, using '3str' for now (Py3). This has changed from earlier releases! File: /kaggle/working/RECsys_Challenge2024/Recommenders/SLIM/Cython/Triangular_Matrix.pyx\r\n",
      "  tree = Parsing.p_module(s, pxd, full_module_name)\r\n",
      "warning: Triangular_Matrix.pyx:22:0: The 'IF' statement is deprecated and will be removed in a future Cython version. Consider using runtime conditions or C macros instead. See https://github.com/cython/cython/issues/4310\r\n",
      "Compiling [6/11]: Triangular_Matrix.pyx... PASS\r\n",
      "\r\n",
      "Compiling [7/11]: CFW_DVV_Similarity_Cython_SGD.pyx... \r\n",
      "In file included from \u001b[01m\u001b[K/usr/local/lib/python3.10/dist-packages/numpy/core/include/numpy/ndarraytypes.h:1929\u001b[m\u001b[K,\r\n",
      "                 from \u001b[01m\u001b[K/usr/local/lib/python3.10/dist-packages/numpy/core/include/numpy/ndarrayobject.h:12\u001b[m\u001b[K,\r\n",
      "                 from \u001b[01m\u001b[K/usr/local/lib/python3.10/dist-packages/numpy/core/include/numpy/arrayobject.h:5\u001b[m\u001b[K,\r\n",
      "                 from \u001b[01m\u001b[KCFW_DVV_Similarity_Cython_SGD.c:1252\u001b[m\u001b[K:\r\n",
      "\u001b[01m\u001b[K/usr/local/lib/python3.10/dist-packages/numpy/core/include/numpy/npy_1_7_deprecated_api.h:17:2:\u001b[m\u001b[K \u001b[01;35m\u001b[Kwarning: \u001b[m\u001b[K#warning \"Using deprecated NumPy API, disable it with \" \"#define NPY_NO_DEPRECATED_API NPY_1_7_API_VERSION\" [\u001b[01;35m\u001b[K\u001b]8;;https://gcc.gnu.org/onlinedocs/gcc/Warning-Options.html#index-Wcpp\u0007-Wcpp\u001b]8;;\u0007\u001b[m\u001b[K]\r\n",
      "   17 | #\u001b[01;35m\u001b[Kwarning\u001b[m\u001b[K \"Using deprecated NumPy API, disable it with \" \\\r\n",
      "      |  \u001b[01;35m\u001b[K^~~~~~~\u001b[m\u001b[K\r\n",
      "/usr/local/lib/python3.10/dist-packages/Cython/Compiler/Main.py:381: FutureWarning: Cython directive 'language_level' not set, using '3str' for now (Py3). This has changed from earlier releases! File: /kaggle/working/RECsys_Challenge2024/Recommenders/FeatureWeighting/Cython/CFW_DVV_Similarity_Cython_SGD.pyx\r\n",
      "  tree = Parsing.p_module(s, pxd, full_module_name)\r\n",
      "Compiling [7/11]: CFW_DVV_Similarity_Cython_SGD.pyx... PASS\r\n",
      "\r\n",
      "Compiling [8/11]: FBSM_Rating_Cython_SGD.pyx... \r\n",
      "In file included from \u001b[01m\u001b[K/usr/local/lib/python3.10/dist-packages/numpy/core/include/numpy/ndarraytypes.h:1929\u001b[m\u001b[K,\r\n",
      "                 from \u001b[01m\u001b[K/usr/local/lib/python3.10/dist-packages/numpy/core/include/numpy/ndarrayobject.h:12\u001b[m\u001b[K,\r\n",
      "                 from \u001b[01m\u001b[K/usr/local/lib/python3.10/dist-packages/numpy/core/include/numpy/arrayobject.h:5\u001b[m\u001b[K,\r\n",
      "                 from \u001b[01m\u001b[KFBSM_Rating_Cython_SGD.c:1252\u001b[m\u001b[K:\r\n",
      "\u001b[01m\u001b[K/usr/local/lib/python3.10/dist-packages/numpy/core/include/numpy/npy_1_7_deprecated_api.h:17:2:\u001b[m\u001b[K \u001b[01;35m\u001b[Kwarning: \u001b[m\u001b[K#warning \"Using deprecated NumPy API, disable it with \" \"#define NPY_NO_DEPRECATED_API NPY_1_7_API_VERSION\" [\u001b[01;35m\u001b[K\u001b]8;;https://gcc.gnu.org/onlinedocs/gcc/Warning-Options.html#index-Wcpp\u0007-Wcpp\u001b]8;;\u0007\u001b[m\u001b[K]\r\n",
      "   17 | #\u001b[01;35m\u001b[Kwarning\u001b[m\u001b[K \"Using deprecated NumPy API, disable it with \" \\\r\n",
      "      |  \u001b[01;35m\u001b[K^~~~~~~\u001b[m\u001b[K\r\n",
      "\u001b[01m\u001b[KFBSM_Rating_Cython_SGD.c:\u001b[m\u001b[K In function ‘\u001b[01m\u001b[K__pyx_pf_22FBSM_Rating_Cython_SGD_22FBSM_Rating_Cython_SGD_2fit\u001b[m\u001b[K’:\r\n",
      "\u001b[01m\u001b[KFBSM_Rating_Cython_SGD.c:26607:55:\u001b[m\u001b[K \u001b[01;35m\u001b[Kwarning: \u001b[m\u001b[K‘\u001b[01m\u001b[K__pyx_v_num_sample\u001b[m\u001b[K’ may be used uninitialized in this function [\u001b[01;35m\u001b[K\u001b]8;;https://gcc.gnu.org/onlinedocs/gcc/Warning-Options.html#index-Wmaybe-uninitialized\u0007-Wmaybe-uninitialized\u001b]8;;\u0007\u001b[m\u001b[K]\r\n",
      "26607 |   __pyx_t_5 = PyFloat_FromDouble((__pyx_v_cum_loss / \u001b[01;35m\u001b[K((double)__pyx_v_num_sample)\u001b[m\u001b[K)); if (unlikely(!__pyx_t_5)) __PYX_ERR(0, 551, __pyx_L1_error)\r\n",
      "      |                                                      \u001b[01;35m\u001b[K~^~~~~~~~~~~~~~~~~~~~~~~~~~~\u001b[m\u001b[K\r\n",
      "/usr/local/lib/python3.10/dist-packages/Cython/Compiler/Main.py:381: FutureWarning: Cython directive 'language_level' not set, using '3str' for now (Py3). This has changed from earlier releases! File: /kaggle/working/RECsys_Challenge2024/Recommenders/FeatureWeighting/Cython/FBSM_Rating_Cython_SGD.pyx\r\n",
      "  tree = Parsing.p_module(s, pxd, full_module_name)\r\n",
      "Compiling [8/11]: FBSM_Rating_Cython_SGD.pyx... PASS\r\n",
      "\r\n",
      "Compiling [9/11]: HP3_Similarity_Cython_SGD.pyx... \r\n",
      "performance hint: HP3_Similarity_Cython_SGD.pyx:113:40: Index should be typed for more efficient access\r\n",
      "performance hint: HP3_Similarity_Cython_SGD.pyx:114:40: Index should be typed for more efficient access\r\n",
      "In file included from \u001b[01m\u001b[K/usr/local/lib/python3.10/dist-packages/numpy/core/include/numpy/ndarraytypes.h:1929\u001b[m\u001b[K,\r\n",
      "                 from \u001b[01m\u001b[K/usr/local/lib/python3.10/dist-packages/numpy/core/include/numpy/ndarrayobject.h:12\u001b[m\u001b[K,\r\n",
      "                 from \u001b[01m\u001b[K/usr/local/lib/python3.10/dist-packages/numpy/core/include/numpy/arrayobject.h:5\u001b[m\u001b[K,\r\n",
      "                 from \u001b[01m\u001b[KHP3_Similarity_Cython_SGD.c:1252\u001b[m\u001b[K:\r\n",
      "\u001b[01m\u001b[K/usr/local/lib/python3.10/dist-packages/numpy/core/include/numpy/npy_1_7_deprecated_api.h:17:2:\u001b[m\u001b[K \u001b[01;35m\u001b[Kwarning: \u001b[m\u001b[K#warning \"Using deprecated NumPy API, disable it with \" \"#define NPY_NO_DEPRECATED_API NPY_1_7_API_VERSION\" [\u001b[01;35m\u001b[K\u001b]8;;https://gcc.gnu.org/onlinedocs/gcc/Warning-Options.html#index-Wcpp\u0007-Wcpp\u001b]8;;\u0007\u001b[m\u001b[K]\r\n",
      "   17 | #\u001b[01;35m\u001b[Kwarning\u001b[m\u001b[K \"Using deprecated NumPy API, disable it with \" \\\r\n",
      "      |  \u001b[01;35m\u001b[K^~~~~~~\u001b[m\u001b[K\r\n",
      "\u001b[01m\u001b[KHP3_Similarity_Cython_SGD.c:\u001b[m\u001b[K In function ‘\u001b[01m\u001b[K__pyx_pf_25HP3_Similarity_Cython_SGD_25HP3_Similarity_Cython_SGD_4fit\u001b[m\u001b[K’:\r\n",
      "\u001b[01m\u001b[KHP3_Similarity_Cython_SGD.c:23631:55:\u001b[m\u001b[K \u001b[01;35m\u001b[Kwarning: \u001b[m\u001b[K‘\u001b[01m\u001b[K__pyx_v_sample_num\u001b[m\u001b[K’ may be used uninitialized in this function [\u001b[01;35m\u001b[K\u001b]8;;https://gcc.gnu.org/onlinedocs/gcc/Warning-Options.html#index-Wmaybe-uninitialized\u0007-Wmaybe-uninitialized\u001b]8;;\u0007\u001b[m\u001b[K]\r\n",
      "23631 |   __pyx_t_1 = PyFloat_FromDouble((__pyx_v_cum_loss / \u001b[01;35m\u001b[K((double)__pyx_v_sample_num)\u001b[m\u001b[K)); if (unlikely(!__pyx_t_1)) __PYX_ERR(0, 291, __pyx_L1_error)\r\n",
      "      |                                                      \u001b[01;35m\u001b[K~^~~~~~~~~~~~~~~~~~~~~~~~~~~\u001b[m\u001b[K\r\n",
      "/usr/local/lib/python3.10/dist-packages/Cython/Compiler/Main.py:381: FutureWarning: Cython directive 'language_level' not set, using '3str' for now (Py3). This has changed from earlier releases! File: /kaggle/working/RECsys_Challenge2024/Recommenders/FeatureWeighting/Cython/HP3_Similarity_Cython_SGD.pyx\r\n",
      "  tree = Parsing.p_module(s, pxd, full_module_name)\r\n",
      "performance hint: HP3_Similarity_Cython_SGD.pyx:113:40: Index should be typed for more efficient access\r\n",
      "performance hint: HP3_Similarity_Cython_SGD.pyx:114:40: Index should be typed for more efficient access\r\n",
      "Compiling [9/11]: HP3_Similarity_Cython_SGD.pyx... PASS\r\n",
      "\r\n",
      "Compiling [10/11]: CFW_D_Similarity_Cython_SGD.pyx... \r\n",
      "In file included from \u001b[01m\u001b[K/usr/local/lib/python3.10/dist-packages/numpy/core/include/numpy/ndarraytypes.h:1929\u001b[m\u001b[K,\r\n",
      "                 from \u001b[01m\u001b[K/usr/local/lib/python3.10/dist-packages/numpy/core/include/numpy/ndarrayobject.h:12\u001b[m\u001b[K,\r\n",
      "                 from \u001b[01m\u001b[K/usr/local/lib/python3.10/dist-packages/numpy/core/include/numpy/arrayobject.h:5\u001b[m\u001b[K,\r\n",
      "                 from \u001b[01m\u001b[KCFW_D_Similarity_Cython_SGD.c:1252\u001b[m\u001b[K:\r\n",
      "\u001b[01m\u001b[K/usr/local/lib/python3.10/dist-packages/numpy/core/include/numpy/npy_1_7_deprecated_api.h:17:2:\u001b[m\u001b[K \u001b[01;35m\u001b[Kwarning: \u001b[m\u001b[K#warning \"Using deprecated NumPy API, disable it with \" \"#define NPY_NO_DEPRECATED_API NPY_1_7_API_VERSION\" [\u001b[01;35m\u001b[K\u001b]8;;https://gcc.gnu.org/onlinedocs/gcc/Warning-Options.html#index-Wcpp\u0007-Wcpp\u001b]8;;\u0007\u001b[m\u001b[K]\r\n",
      "   17 | #\u001b[01;35m\u001b[Kwarning\u001b[m\u001b[K \"Using deprecated NumPy API, disable it with \" \\\r\n",
      "      |  \u001b[01;35m\u001b[K^~~~~~~\u001b[m\u001b[K\r\n",
      "\u001b[01m\u001b[KCFW_D_Similarity_Cython_SGD.c:\u001b[m\u001b[K In function ‘\u001b[01m\u001b[K__pyx_pf_27CFW_D_Similarity_Cython_SGD_27CFW_D_Similarity_Cython_SGD_6fit\u001b[m\u001b[K’:\r\n",
      "\u001b[01m\u001b[KCFW_D_Similarity_Cython_SGD.c:23373:55:\u001b[m\u001b[K \u001b[01;35m\u001b[Kwarning: \u001b[m\u001b[K‘\u001b[01m\u001b[K__pyx_v_sample_num\u001b[m\u001b[K’ may be used uninitialized in this function [\u001b[01;35m\u001b[K\u001b]8;;https://gcc.gnu.org/onlinedocs/gcc/Warning-Options.html#index-Wmaybe-uninitialized\u0007-Wmaybe-uninitialized\u001b]8;;\u0007\u001b[m\u001b[K]\r\n",
      "23373 |   __pyx_t_3 = PyFloat_FromDouble((__pyx_v_cum_loss / \u001b[01;35m\u001b[K((double)__pyx_v_sample_num)\u001b[m\u001b[K)); if (unlikely(!__pyx_t_3)) __PYX_ERR(0, 290, __pyx_L1_error)\r\n",
      "      |                                                      \u001b[01;35m\u001b[K~^~~~~~~~~~~~~~~~~~~~~~~~~~~\u001b[m\u001b[K\r\n",
      "/usr/local/lib/python3.10/dist-packages/Cython/Compiler/Main.py:381: FutureWarning: Cython directive 'language_level' not set, using '3str' for now (Py3). This has changed from earlier releases! File: /kaggle/working/RECsys_Challenge2024/Recommenders/FeatureWeighting/Cython/CFW_D_Similarity_Cython_SGD.pyx\r\n",
      "  tree = Parsing.p_module(s, pxd, full_module_name)\r\n",
      "Compiling [10/11]: CFW_D_Similarity_Cython_SGD.pyx... PASS\r\n",
      "\r\n",
      "Compiling [11/11]: DataIterator.pyx... \r\n",
      "In file included from \u001b[01m\u001b[K/usr/local/lib/python3.10/dist-packages/numpy/core/include/numpy/ndarraytypes.h:1929\u001b[m\u001b[K,\r\n",
      "                 from \u001b[01m\u001b[K/usr/local/lib/python3.10/dist-packages/numpy/core/include/numpy/ndarrayobject.h:12\u001b[m\u001b[K,\r\n",
      "                 from \u001b[01m\u001b[K/usr/local/lib/python3.10/dist-packages/numpy/core/include/numpy/arrayobject.h:5\u001b[m\u001b[K,\r\n",
      "                 from \u001b[01m\u001b[KDataIterator.c:1252\u001b[m\u001b[K:\r\n",
      "\u001b[01m\u001b[K/usr/local/lib/python3.10/dist-packages/numpy/core/include/numpy/npy_1_7_deprecated_api.h:17:2:\u001b[m\u001b[K \u001b[01;35m\u001b[Kwarning: \u001b[m\u001b[K#warning \"Using deprecated NumPy API, disable it with \" \"#define NPY_NO_DEPRECATED_API NPY_1_7_API_VERSION\" [\u001b[01;35m\u001b[K\u001b]8;;https://gcc.gnu.org/onlinedocs/gcc/Warning-Options.html#index-Wcpp\u0007-Wcpp\u001b]8;;\u0007\u001b[m\u001b[K]\r\n",
      "   17 | #\u001b[01;35m\u001b[Kwarning\u001b[m\u001b[K \"Using deprecated NumPy API, disable it with \" \\\r\n",
      "      |  \u001b[01;35m\u001b[K^~~~~~~\u001b[m\u001b[K\r\n",
      "\u001b[01m\u001b[KDataIterator.c:\u001b[m\u001b[K In function ‘\u001b[01m\u001b[K__pyx_pf_12DataIterator_19InteractionIterator_6__next__\u001b[m\u001b[K’:\r\n",
      "\u001b[01m\u001b[KDataIterator.c:20937:22:\u001b[m\u001b[K \u001b[01;35m\u001b[Kwarning: \u001b[m\u001b[K‘\u001b[01m\u001b[K__pyx_v_i_batch\u001b[m\u001b[K’ may be used uninitialized in this function [\u001b[01;35m\u001b[K\u001b]8;;https://gcc.gnu.org/onlinedocs/gcc/Warning-Options.html#index-Wmaybe-uninitialized\u0007-Wmaybe-uninitialized\u001b]8;;\u0007\u001b[m\u001b[K]\r\n",
      "20937 |     (__pyx_v_i_batch \u001b[01;35m\u001b[K+\u001b[m\u001b[K 1),\r\n",
      "      |                      \u001b[01;35m\u001b[K^\u001b[m\u001b[K\r\n",
      "\u001b[01m\u001b[KDataIterator.c:\u001b[m\u001b[K In function ‘\u001b[01m\u001b[K__pyx_pf_12DataIterator_30InteractionAndNegativeIterator_6__next__\u001b[m\u001b[K’:\r\n",
      "\u001b[01m\u001b[KDataIterator.c:25499:22:\u001b[m\u001b[K \u001b[01;35m\u001b[Kwarning: \u001b[m\u001b[K‘\u001b[01m\u001b[K__pyx_v_i_batch\u001b[m\u001b[K’ may be used uninitialized in this function [\u001b[01;35m\u001b[K\u001b]8;;https://gcc.gnu.org/onlinedocs/gcc/Warning-Options.html#index-Wmaybe-uninitialized\u0007-Wmaybe-uninitialized\u001b]8;;\u0007\u001b[m\u001b[K]\r\n",
      "25499 |     (__pyx_v_i_batch \u001b[01;35m\u001b[K+\u001b[m\u001b[K 1),\r\n",
      "      |                      \u001b[01;35m\u001b[K^\u001b[m\u001b[K\r\n",
      "\u001b[01m\u001b[KDataIterator.c:\u001b[m\u001b[K In function ‘\u001b[01m\u001b[K__pyx_pf_12DataIterator_11BPRIterator_6__next__\u001b[m\u001b[K’:\r\n",
      "\u001b[01m\u001b[KDataIterator.c:23056:22:\u001b[m\u001b[K \u001b[01;35m\u001b[Kwarning: \u001b[m\u001b[K‘\u001b[01m\u001b[K__pyx_v_i_batch\u001b[m\u001b[K’ may be used uninitialized in this function [\u001b[01;35m\u001b[K\u001b]8;;https://gcc.gnu.org/onlinedocs/gcc/Warning-Options.html#index-Wmaybe-uninitialized\u0007-Wmaybe-uninitialized\u001b]8;;\u0007\u001b[m\u001b[K]\r\n",
      "23056 |     (__pyx_v_i_batch \u001b[01;35m\u001b[K+\u001b[m\u001b[K 1),\r\n",
      "      |                      \u001b[01;35m\u001b[K^\u001b[m\u001b[K\r\n",
      "/usr/local/lib/python3.10/dist-packages/Cython/Compiler/Main.py:381: FutureWarning: Cython directive 'language_level' not set, using '3str' for now (Py3). This has changed from earlier releases! File: /kaggle/working/RECsys_Challenge2024/Utils/PyTorch/Cython/DataIterator.pyx\r\n",
      "  tree = Parsing.p_module(s, pxd, full_module_name)\r\n",
      "Compiling [11/11]: DataIterator.pyx... PASS\r\n",
      "\r\n",
      "run_compile_all_cython: Compilation finished. FAILS 2/11.\r\n",
      "Compilation log can be found here: './result_experiments/run_compile_all_cython.txt'\r\n"
     ]
    }
   ],
   "source": [
    "%cd /kaggle/working/RECsys_Challenge2024 \n",
    "! python run_compile_all_cython.py"
   ]
  },
  {
   "cell_type": "code",
   "execution_count": 5,
   "id": "ca06a2f9",
   "metadata": {
    "execution": {
     "iopub.execute_input": "2025-01-06T10:58:46.463634Z",
     "iopub.status.busy": "2025-01-06T10:58:46.463222Z",
     "iopub.status.idle": "2025-01-06T10:58:47.905455Z",
     "shell.execute_reply": "2025-01-06T10:58:47.903945Z"
    },
    "papermill": {
     "duration": 1.461572,
     "end_time": "2025-01-06T10:58:47.907959",
     "exception": false,
     "start_time": "2025-01-06T10:58:46.446387",
     "status": "completed"
    },
    "tags": []
   },
   "outputs": [],
   "source": [
    "from Utils.notebookFunctions import *\n",
    "import numpy as np\n",
    "import pandas as pd\n",
    "import scipy.sparse as sps\n",
    "import time\n",
    "import shutil\n",
    "import optuna\n",
    "import json\n",
    "import os\n",
    "from Utils.seconds_to_biggest_unit import seconds_to_biggest_unit\n",
    "\n",
    "\n",
    "K_PATH = '/kaggle/working/RECsys_Challenge2024'\n",
    "GH_PATH = 'TrainedModels/WithKFCV/GraphBased'\n",
    "\n",
    "np.random.seed(42)"
   ]
  },
  {
   "cell_type": "markdown",
   "id": "5704691d",
   "metadata": {
    "papermill": {
     "duration": 0.015974,
     "end_time": "2025-01-06T10:58:47.940147",
     "exception": false,
     "start_time": "2025-01-06T10:58:47.924173",
     "status": "completed"
    },
    "tags": []
   },
   "source": [
    "## Import the repository"
   ]
  },
  {
   "cell_type": "code",
   "execution_count": 6,
   "id": "4bf89328",
   "metadata": {
    "execution": {
     "iopub.execute_input": "2025-01-06T10:58:47.973295Z",
     "iopub.status.busy": "2025-01-06T10:58:47.972732Z",
     "iopub.status.idle": "2025-01-06T10:58:48.280338Z",
     "shell.execute_reply": "2025-01-06T10:58:48.279136Z"
    },
    "papermill": {
     "duration": 0.325495,
     "end_time": "2025-01-06T10:58:48.282109",
     "exception": false,
     "start_time": "2025-01-06T10:58:47.956614",
     "status": "completed"
    },
    "tags": []
   },
   "outputs": [
    {
     "name": "stdout",
     "output_type": "stream",
     "text": [
      "Repository 'RECsys_Challenge2024' found.\n"
     ]
    }
   ],
   "source": [
    "repo = get_repo_from_github(token)"
   ]
  },
  {
   "cell_type": "code",
   "execution_count": 7,
   "id": "f60d4b0d",
   "metadata": {
    "execution": {
     "iopub.execute_input": "2025-01-06T10:58:48.313901Z",
     "iopub.status.busy": "2025-01-06T10:58:48.313382Z",
     "iopub.status.idle": "2025-01-06T10:58:48.317962Z",
     "shell.execute_reply": "2025-01-06T10:58:48.316982Z"
    },
    "papermill": {
     "duration": 0.022456,
     "end_time": "2025-01-06T10:58:48.319714",
     "exception": false,
     "start_time": "2025-01-06T10:58:48.297258",
     "status": "completed"
    },
    "tags": []
   },
   "outputs": [],
   "source": [
    "config = {\n",
    "    'model': 'P3alpha',\n",
    "    'metric': 'MAP',\n",
    "    'n_folds': 5,\n",
    "    'tune_parameters': True,\n",
    "    'database_path': '/kaggle/working/history_P3alpha_MAP.db',\n",
    "    'copy_prev_best_params': False,\n",
    "    'tune_best_params': True,\n",
    "    'save_github': True\n",
    "}"
   ]
  },
  {
   "cell_type": "markdown",
   "id": "b540117a",
   "metadata": {
    "papermill": {
     "duration": 0.015004,
     "end_time": "2025-01-06T10:58:48.349864",
     "exception": false,
     "start_time": "2025-01-06T10:58:48.334860",
     "status": "completed"
    },
    "tags": []
   },
   "source": [
    "Import the database where previous tuning trials have been saved."
   ]
  },
  {
   "cell_type": "code",
   "execution_count": 8,
   "id": "5a478233",
   "metadata": {
    "execution": {
     "iopub.execute_input": "2025-01-06T10:58:48.381162Z",
     "iopub.status.busy": "2025-01-06T10:58:48.380763Z",
     "iopub.status.idle": "2025-01-06T10:58:48.386676Z",
     "shell.execute_reply": "2025-01-06T10:58:48.385639Z"
    },
    "papermill": {
     "duration": 0.023841,
     "end_time": "2025-01-06T10:58:48.388640",
     "exception": false,
     "start_time": "2025-01-06T10:58:48.364799",
     "status": "completed"
    },
    "tags": []
   },
   "outputs": [],
   "source": [
    "try:\n",
    "    shutil.copyfile(\n",
    "        f'{K_PATH}/{GH_PATH}/{config[\"model\"]}Recommender/Optimizing{config[\"metric\"]}/history_{config[\"model\"]}_{config[\"metric\"]}.db', \n",
    "        config['database_path']\n",
    "    )\n",
    "except FileNotFoundError:\n",
    "    pass # if not present optuna will create it"
   ]
  },
  {
   "cell_type": "markdown",
   "id": "3c9b0d2d",
   "metadata": {
    "papermill": {
     "duration": 0.014603,
     "end_time": "2025-01-06T10:58:48.418507",
     "exception": false,
     "start_time": "2025-01-06T10:58:48.403904",
     "status": "completed"
    },
    "tags": []
   },
   "source": [
    "# Construction of URM and ICM matrices"
   ]
  },
  {
   "cell_type": "code",
   "execution_count": 9,
   "id": "d914186f",
   "metadata": {
    "execution": {
     "iopub.execute_input": "2025-01-06T10:58:48.450163Z",
     "iopub.status.busy": "2025-01-06T10:58:48.449776Z",
     "iopub.status.idle": "2025-01-06T10:58:49.272196Z",
     "shell.execute_reply": "2025-01-06T10:58:49.271097Z"
    },
    "papermill": {
     "duration": 0.840477,
     "end_time": "2025-01-06T10:58:49.274110",
     "exception": false,
     "start_time": "2025-01-06T10:58:48.433633",
     "status": "completed"
    },
    "tags": []
   },
   "outputs": [
    {
     "data": {
      "text/plain": [
       "<35736x38121 sparse matrix of type '<class 'numpy.float64'>'\n",
       "\twith 1764607 stored elements in Compressed Sparse Row format>"
      ]
     },
     "execution_count": 9,
     "metadata": {},
     "output_type": "execute_result"
    }
   ],
   "source": [
    "URM_all_dataframe = pd.read_csv(\"/kaggle/input/recommender-system-2024-challenge-polimi/data_train.csv\")\n",
    "\n",
    "n_users = len(URM_all_dataframe[\"user_id\"].unique())\n",
    "n_items = len(URM_all_dataframe[\"item_id\"].unique())\n",
    "\n",
    "URM_all = sps.csr_matrix((URM_all_dataframe[\"data\"].values, \n",
    "                          (URM_all_dataframe[\"user_id\"].values, URM_all_dataframe[\"item_id\"].values)),\n",
    "                        shape = (n_users, n_items))\n",
    "\n",
    "URM_all"
   ]
  },
  {
   "cell_type": "code",
   "execution_count": 10,
   "id": "a4ce6c2c",
   "metadata": {
    "execution": {
     "iopub.execute_input": "2025-01-06T10:58:49.306161Z",
     "iopub.status.busy": "2025-01-06T10:58:49.305813Z",
     "iopub.status.idle": "2025-01-06T10:58:50.550233Z",
     "shell.execute_reply": "2025-01-06T10:58:50.549086Z"
    },
    "papermill": {
     "duration": 1.262673,
     "end_time": "2025-01-06T10:58:50.552195",
     "exception": false,
     "start_time": "2025-01-06T10:58:49.289522",
     "status": "completed"
    },
    "tags": []
   },
   "outputs": [
    {
     "data": {
      "text/plain": [
       "<38121x94331 sparse matrix of type '<class 'numpy.float64'>'\n",
       "\twith 2940040 stored elements in Compressed Sparse Row format>"
      ]
     },
     "execution_count": 10,
     "metadata": {},
     "output_type": "execute_result"
    }
   ],
   "source": [
    "ICM_dataframe = pd.read_csv(\"/kaggle/input/recommender-system-2024-challenge-polimi/data_ICM_metadata.csv\")\n",
    "\n",
    "n_items = len(ICM_dataframe[\"item_id\"].unique())\n",
    "n_features = len(ICM_dataframe[\"feature_id\"].unique())\n",
    "\n",
    "ICM_all = sps.csr_matrix((ICM_dataframe[\"data\"].values, \n",
    "                          (ICM_dataframe[\"item_id\"].values, ICM_dataframe[\"feature_id\"].values)),\n",
    "                        shape = (n_items, n_features))\n",
    "\n",
    "ICM_all"
   ]
  },
  {
   "cell_type": "markdown",
   "id": "b443a38f",
   "metadata": {
    "papermill": {
     "duration": 0.015131,
     "end_time": "2025-01-06T10:58:50.583069",
     "exception": false,
     "start_time": "2025-01-06T10:58:50.567938",
     "status": "completed"
    },
    "tags": []
   },
   "source": [
    "# Training"
   ]
  },
  {
   "cell_type": "code",
   "execution_count": 11,
   "id": "ea51d6c1",
   "metadata": {
    "execution": {
     "iopub.execute_input": "2025-01-06T10:58:50.615144Z",
     "iopub.status.busy": "2025-01-06T10:58:50.614786Z",
     "iopub.status.idle": "2025-01-06T10:59:09.012317Z",
     "shell.execute_reply": "2025-01-06T10:59:09.011254Z"
    },
    "papermill": {
     "duration": 18.415729,
     "end_time": "2025-01-06T10:59:09.014171",
     "exception": false,
     "start_time": "2025-01-06T10:58:50.598442",
     "status": "completed"
    },
    "tags": []
   },
   "outputs": [
    {
     "name": "stdout",
     "output_type": "stream",
     "text": [
      "Warning: 141 (0.39 %) of 35736 users have no sampled items\n"
     ]
    }
   ],
   "source": [
    "from Evaluation.Evaluator import EvaluatorHoldout\n",
    "from Data_manager.split_functions.split_train_validation_random_holdout import split_train_in_two_percentage_global_sample\n",
    "from Data_manager.split_functions.split_train_k_folds import split_train_k_folds\n",
    "\n",
    "URM_train, URM_validation = split_train_in_two_percentage_global_sample(URM_all, train_percentage = 0.80)\n",
    "\n",
    "folds = split_train_k_folds(URM_all, k=config['n_folds'])"
   ]
  },
  {
   "cell_type": "code",
   "execution_count": 12,
   "id": "29b9c8b0",
   "metadata": {
    "execution": {
     "iopub.execute_input": "2025-01-06T10:59:09.047105Z",
     "iopub.status.busy": "2025-01-06T10:59:09.046646Z",
     "iopub.status.idle": "2025-01-06T10:59:10.128219Z",
     "shell.execute_reply": "2025-01-06T10:59:10.127019Z"
    },
    "papermill": {
     "duration": 1.100204,
     "end_time": "2025-01-06T10:59:10.130315",
     "exception": false,
     "start_time": "2025-01-06T10:59:09.030111",
     "status": "completed"
    },
    "tags": []
   },
   "outputs": [],
   "source": [
    "from Recommenders.GraphBased.P3alphaRecommender import P3alphaRecommender\n",
    "\n",
    "def objective_function_P3alpha(optuna_trial):\n",
    "    \n",
    "    full_hyperp = {\n",
    "                   \"topK\": optuna_trial.suggest_int(\"topK\", 0, 1500),\n",
    "                   \"alpha\": optuna_trial.suggest_float(\"alpha\", 0, 2, log=False),\n",
    "                   \"normalize_similarity\": optuna_trial.suggest_categorical(\"normalize_similarity\", [True, False]),\n",
    "                   \"implicit\": optuna_trial.suggest_categorical(\"implicit\", [True, False]),\n",
    "    }            \n",
    "\n",
    "    validation_results = []\n",
    "    \n",
    "    for fold_idx, (URM_train_fold, URM_validation_fold) in enumerate(folds):\n",
    "    \n",
    "        recommender_instance = P3alphaRecommender(URM_train_fold)\n",
    "        recommender_instance.fit(**full_hyperp)\n",
    "        \n",
    "        evaluator = EvaluatorHoldout(URM_validation_fold, cutoff_list=[10])\n",
    "        result_df, _ = evaluator.evaluateRecommender(recommender_instance)\n",
    "        \n",
    "        validation_results.append(result_df.loc[10][\"MAP\"])\n",
    "    \n",
    "    return np.mean(validation_results)"
   ]
  },
  {
   "cell_type": "code",
   "execution_count": 13,
   "id": "dfd06f82",
   "metadata": {
    "_kg_hide-output": true,
    "execution": {
     "iopub.execute_input": "2025-01-06T10:59:10.162743Z",
     "iopub.status.busy": "2025-01-06T10:59:10.162112Z",
     "iopub.status.idle": "2025-01-06T16:14:25.743405Z",
     "shell.execute_reply": "2025-01-06T16:14:25.742081Z"
    },
    "papermill": {
     "duration": 18915.614067,
     "end_time": "2025-01-06T16:14:25.759784",
     "exception": false,
     "start_time": "2025-01-06T10:59:10.145717",
     "status": "completed"
    },
    "tags": []
   },
   "outputs": [
    {
     "name": "stderr",
     "output_type": "stream",
     "text": [
      "[I 2025-01-06 10:59:11,156] Using an existing study with name 'hyperparameters_tuning_P3alpha_MAP' instead of creating a new one.\n"
     ]
    },
    {
     "name": "stdout",
     "output_type": "stream",
     "text": [
      "P3alphaRecommender: Similarity column 38121 (100.0%), 1629.73 column/sec. Elapsed time 23.39 sec\n",
      "EvaluatorHoldout: Ignoring 173 ( 0.5%) Users that have less than 1 test interactions\n",
      "EvaluatorHoldout: Processed 35563 (100.0%) in 32.35 sec. Users per second: 1099\n",
      "P3alphaRecommender: Similarity column 38121 (100.0%), 1615.39 column/sec. Elapsed time 23.60 sec\n",
      "EvaluatorHoldout: Ignoring 163 ( 0.5%) Users that have less than 1 test interactions\n",
      "EvaluatorHoldout: Processed 35573 (100.0%) in 32.18 sec. Users per second: 1106\n",
      "P3alphaRecommender: Similarity column 38121 (100.0%), 1613.12 column/sec. Elapsed time 23.63 sec\n",
      "EvaluatorHoldout: Ignoring 150 ( 0.4%) Users that have less than 1 test interactions\n",
      "EvaluatorHoldout: Processed 35586 (100.0%) in 32.06 sec. Users per second: 1110\n",
      "P3alphaRecommender: Similarity column 38121 (100.0%), 1612.28 column/sec. Elapsed time 23.64 sec\n",
      "EvaluatorHoldout: Ignoring 167 ( 0.5%) Users that have less than 1 test interactions\n",
      "EvaluatorHoldout: Processed 35569 (100.0%) in 32.04 sec. Users per second: 1110\n",
      "P3alphaRecommender: Similarity column 38121 (100.0%), 1627.70 column/sec. Elapsed time 23.42 sec\n",
      "EvaluatorHoldout: Ignoring 172 ( 0.5%) Users that have less than 1 test interactions\n",
      "EvaluatorHoldout: Processed 35564 (100.0%) in 32.15 sec. Users per second: 1106\n"
     ]
    },
    {
     "name": "stderr",
     "output_type": "stream",
     "text": [
      "[I 2025-01-06 11:04:19,052] Trial 391 finished with value: 0.04395810848482335 and parameters: {'topK': 175, 'alpha': 0.2740995778919141, 'normalize_similarity': True, 'implicit': True}. Best is trial 10 with value: 0.05370249298547826.\n"
     ]
    },
    {
     "name": "stdout",
     "output_type": "stream",
     "text": [
      "P3alphaRecommender: Similarity column 38121 (100.0%), 569.40 column/sec. Elapsed time 1.12 min\n",
      "EvaluatorHoldout: Ignoring 173 ( 0.5%) Users that have less than 1 test interactions\n",
      "EvaluatorHoldout: Processed 35563 (100.0%) in 53.94 sec. Users per second: 659\n",
      "P3alphaRecommender: Similarity column 38121 (100.0%), 565.83 column/sec. Elapsed time 1.12 min\n",
      "EvaluatorHoldout: Ignoring 163 ( 0.5%) Users that have less than 1 test interactions\n",
      "EvaluatorHoldout: Processed 35573 (100.0%) in 53.94 sec. Users per second: 659\n",
      "P3alphaRecommender: Similarity column 38121 (100.0%), 570.97 column/sec. Elapsed time 1.11 min\n",
      "EvaluatorHoldout: Ignoring 150 ( 0.4%) Users that have less than 1 test interactions\n",
      "EvaluatorHoldout: Processed 35586 (100.0%) in 54.09 sec. Users per second: 658\n",
      "P3alphaRecommender: Similarity column 38121 (100.0%), 574.72 column/sec. Elapsed time 1.11 min\n",
      "EvaluatorHoldout: Ignoring 167 ( 0.5%) Users that have less than 1 test interactions\n",
      "EvaluatorHoldout: Processed 35569 (100.0%) in 53.67 sec. Users per second: 663\n",
      "P3alphaRecommender: Similarity column 38121 (100.0%), 563.75 column/sec. Elapsed time 1.13 min\n",
      "EvaluatorHoldout: Ignoring 172 ( 0.5%) Users that have less than 1 test interactions\n",
      "EvaluatorHoldout: Processed 35564 (100.0%) in 54.50 sec. Users per second: 653\n"
     ]
    },
    {
     "name": "stderr",
     "output_type": "stream",
     "text": [
      "[I 2025-01-06 11:17:50,360] Trial 392 finished with value: 0.030199508301712075 and parameters: {'topK': 1140, 'alpha': 0.3997048536625302, 'normalize_similarity': False, 'implicit': True}. Best is trial 10 with value: 0.05370249298547826.\n"
     ]
    },
    {
     "name": "stdout",
     "output_type": "stream",
     "text": [
      "P3alphaRecommender: Similarity column 38121 (100.0%), 2334.97 column/sec. Elapsed time 16.33 sec\n",
      "EvaluatorHoldout: Ignoring 173 ( 0.5%) Users that have less than 1 test interactions\n",
      "EvaluatorHoldout: Processed 35563 (100.0%) in 31.70 sec. Users per second: 1122\n",
      "P3alphaRecommender: Similarity column 38121 (100.0%), 2351.10 column/sec. Elapsed time 16.21 sec\n",
      "EvaluatorHoldout: Ignoring 163 ( 0.5%) Users that have less than 1 test interactions\n",
      "EvaluatorHoldout: Processed 35573 (100.0%) in 31.10 sec. Users per second: 1144\n",
      "P3alphaRecommender: Similarity column 38121 (100.0%), 2333.14 column/sec. Elapsed time 16.34 sec\n",
      "EvaluatorHoldout: Ignoring 150 ( 0.4%) Users that have less than 1 test interactions\n",
      "EvaluatorHoldout: Processed 35586 (100.0%) in 31.09 sec. Users per second: 1145\n",
      "P3alphaRecommender: Similarity column 38121 (100.0%), 2346.42 column/sec. Elapsed time 16.25 sec\n",
      "EvaluatorHoldout: Ignoring 167 ( 0.5%) Users that have less than 1 test interactions\n",
      "EvaluatorHoldout: Processed 35569 (100.0%) in 31.23 sec. Users per second: 1139\n",
      "P3alphaRecommender: Similarity column 38121 (100.0%), 2310.77 column/sec. Elapsed time 16.50 sec\n",
      "EvaluatorHoldout: Ignoring 172 ( 0.5%) Users that have less than 1 test interactions\n",
      "EvaluatorHoldout: Processed 35564 (100.0%) in 31.29 sec. Users per second: 1137\n"
     ]
    },
    {
     "name": "stderr",
     "output_type": "stream",
     "text": [
      "[I 2025-01-06 11:21:54,948] Trial 393 finished with value: 0.05313094859470495 and parameters: {'topK': 24, 'alpha': 0.2183528844299757, 'normalize_similarity': True, 'implicit': True}. Best is trial 10 with value: 0.05370249298547826.\n"
     ]
    },
    {
     "name": "stdout",
     "output_type": "stream",
     "text": [
      "P3alphaRecommender: Similarity column 38121 (100.0%), 2058.15 column/sec. Elapsed time 18.52 sec\n",
      "EvaluatorHoldout: Ignoring 173 ( 0.5%) Users that have less than 1 test interactions\n",
      "EvaluatorHoldout: Processed 35563 (100.0%) in 33.32 sec. Users per second: 1067\n",
      "P3alphaRecommender: Similarity column 38121 (100.0%), 2060.67 column/sec. Elapsed time 18.50 sec\n",
      "EvaluatorHoldout: Ignoring 163 ( 0.5%) Users that have less than 1 test interactions\n",
      "EvaluatorHoldout: Processed 35573 (100.0%) in 33.52 sec. Users per second: 1061\n",
      "P3alphaRecommender: Similarity column 38121 (100.0%), 2038.92 column/sec. Elapsed time 18.70 sec\n",
      "EvaluatorHoldout: Ignoring 150 ( 0.4%) Users that have less than 1 test interactions\n",
      "EvaluatorHoldout: Processed 35586 (100.0%) in 33.40 sec. Users per second: 1065\n",
      "P3alphaRecommender: Similarity column 38121 (100.0%), 2030.59 column/sec. Elapsed time 18.77 sec\n",
      "EvaluatorHoldout: Ignoring 167 ( 0.5%) Users that have less than 1 test interactions\n",
      "EvaluatorHoldout: Processed 35569 (100.0%) in 33.48 sec. Users per second: 1063\n",
      "P3alphaRecommender: Similarity column 38121 (100.0%), 2066.45 column/sec. Elapsed time 18.45 sec\n",
      "EvaluatorHoldout: Ignoring 172 ( 0.5%) Users that have less than 1 test interactions\n",
      "EvaluatorHoldout: Processed 35564 (100.0%) in 33.46 sec. Users per second: 1063\n"
     ]
    },
    {
     "name": "stderr",
     "output_type": "stream",
     "text": [
      "[I 2025-01-06 11:26:28,455] Trial 394 finished with value: 0.049210747519225856 and parameters: {'topK': 73, 'alpha': 0.3251349327716018, 'normalize_similarity': True, 'implicit': True}. Best is trial 10 with value: 0.05370249298547826.\n"
     ]
    },
    {
     "name": "stdout",
     "output_type": "stream",
     "text": [
      "P3alphaRecommender: Similarity column 38121 (100.0%), 1047.37 column/sec. Elapsed time 36.40 sec\n",
      "EvaluatorHoldout: Ignoring 173 ( 0.5%) Users that have less than 1 test interactions\n",
      "EvaluatorHoldout: Processed 35563 (100.0%) in 59.29 sec. Users per second: 600\n",
      "P3alphaRecommender: Similarity column 38121 (100.0%), 1039.74 column/sec. Elapsed time 36.66 sec\n",
      "EvaluatorHoldout: Ignoring 163 ( 0.5%) Users that have less than 1 test interactions\n",
      "EvaluatorHoldout: Processed 35573 (100.0%) in 42.65 sec. Users per second: 834\n",
      "P3alphaRecommender: Similarity column 38121 (100.0%), 1046.92 column/sec. Elapsed time 36.41 sec\n",
      "EvaluatorHoldout: Ignoring 150 ( 0.4%) Users that have less than 1 test interactions\n",
      "EvaluatorHoldout: Processed 35586 (100.0%) in 42.84 sec. Users per second: 831\n",
      "P3alphaRecommender: Similarity column 38121 (100.0%), 1054.44 column/sec. Elapsed time 36.15 sec\n",
      "EvaluatorHoldout: Ignoring 167 ( 0.5%) Users that have less than 1 test interactions\n",
      "EvaluatorHoldout: Processed 35569 (100.0%) in 43.56 sec. Users per second: 817\n",
      "P3alphaRecommender: Similarity column 38121 (100.0%), 1066.63 column/sec. Elapsed time 35.74 sec\n",
      "EvaluatorHoldout: Ignoring 172 ( 0.5%) Users that have less than 1 test interactions\n",
      "EvaluatorHoldout: Processed 35564 (100.0%) in 42.90 sec. Users per second: 829\n"
     ]
    },
    {
     "name": "stderr",
     "output_type": "stream",
     "text": [
      "[I 2025-01-06 11:34:43,643] Trial 395 finished with value: 0.038262328053049924 and parameters: {'topK': 447, 'alpha': 0.37442491853425486, 'normalize_similarity': True, 'implicit': True}. Best is trial 10 with value: 0.05370249298547826.\n"
     ]
    },
    {
     "name": "stdout",
     "output_type": "stream",
     "text": [
      "P3alphaRecommender: Similarity column 38121 (100.0%), 3489.06 column/sec. Elapsed time 10.93 sec\n",
      "EvaluatorHoldout: Ignoring 173 ( 0.5%) Users that have less than 1 test interactions\n",
      "EvaluatorHoldout: Processed 35563 (100.0%) in 27.23 sec. Users per second: 1306\n",
      "P3alphaRecommender: Similarity column 38121 (100.0%), 3531.39 column/sec. Elapsed time 10.79 sec\n",
      "EvaluatorHoldout: Ignoring 163 ( 0.5%) Users that have less than 1 test interactions\n",
      "EvaluatorHoldout: Processed 35573 (100.0%) in 27.00 sec. Users per second: 1318\n",
      "P3alphaRecommender: Similarity column 38121 (100.0%), 3479.62 column/sec. Elapsed time 10.96 sec\n",
      "EvaluatorHoldout: Ignoring 150 ( 0.4%) Users that have less than 1 test interactions\n",
      "EvaluatorHoldout: Processed 35586 (100.0%) in 27.24 sec. Users per second: 1306\n",
      "P3alphaRecommender: Similarity column 38121 (100.0%), 3518.15 column/sec. Elapsed time 10.84 sec\n",
      "EvaluatorHoldout: Ignoring 167 ( 0.5%) Users that have less than 1 test interactions\n",
      "EvaluatorHoldout: Processed 35569 (100.0%) in 26.94 sec. Users per second: 1321\n",
      "P3alphaRecommender: Similarity column 38121 (100.0%), 3528.15 column/sec. Elapsed time 10.80 sec\n",
      "EvaluatorHoldout: Ignoring 172 ( 0.5%) Users that have less than 1 test interactions\n",
      "EvaluatorHoldout: Processed 35564 (100.0%) in 27.05 sec. Users per second: 1315\n"
     ]
    },
    {
     "name": "stderr",
     "output_type": "stream",
     "text": [
      "[I 2025-01-06 11:37:57,329] Trial 396 finished with value: 0.020247560709111764 and parameters: {'topK': 1, 'alpha': 0.47465443865563817, 'normalize_similarity': True, 'implicit': True}. Best is trial 10 with value: 0.05370249298547826.\n"
     ]
    },
    {
     "name": "stdout",
     "output_type": "stream",
     "text": [
      "P3alphaRecommender: Similarity column 38121 (100.0%), 2172.59 column/sec. Elapsed time 17.55 sec\n",
      "EvaluatorHoldout: Ignoring 173 ( 0.5%) Users that have less than 1 test interactions\n",
      "EvaluatorHoldout: Processed 35563 (100.0%) in 54.36 sec. Users per second: 654\n",
      "P3alphaRecommender: Similarity column 38121 (100.0%), 2151.18 column/sec. Elapsed time 17.72 sec\n",
      "EvaluatorHoldout: Ignoring 163 ( 0.5%) Users that have less than 1 test interactions\n",
      "EvaluatorHoldout: Processed 35573 (100.0%) in 34.37 sec. Users per second: 1035\n",
      "P3alphaRecommender: Similarity column 38121 (100.0%), 2158.34 column/sec. Elapsed time 17.66 sec\n",
      "EvaluatorHoldout: Ignoring 150 ( 0.4%) Users that have less than 1 test interactions\n",
      "EvaluatorHoldout: Processed 35586 (100.0%) in 34.83 sec. Users per second: 1022\n",
      "P3alphaRecommender: Similarity column 38121 (100.0%), 2180.51 column/sec. Elapsed time 17.48 sec\n",
      "EvaluatorHoldout: Ignoring 167 ( 0.5%) Users that have less than 1 test interactions\n",
      "EvaluatorHoldout: Processed 35569 (100.0%) in 34.01 sec. Users per second: 1046\n",
      "P3alphaRecommender: Similarity column 38121 (100.0%), 2146.58 column/sec. Elapsed time 17.76 sec\n",
      "EvaluatorHoldout: Ignoring 172 ( 0.5%) Users that have less than 1 test interactions\n",
      "EvaluatorHoldout: Processed 35564 (100.0%) in 34.45 sec. Users per second: 1032\n"
     ]
    },
    {
     "name": "stderr",
     "output_type": "stream",
     "text": [
      "[I 2025-01-06 11:42:48,573] Trial 397 finished with value: 0.04682259831335464 and parameters: {'topK': 47, 'alpha': 1.463295895691413, 'normalize_similarity': True, 'implicit': False}. Best is trial 10 with value: 0.05370249298547826.\n"
     ]
    },
    {
     "name": "stdout",
     "output_type": "stream",
     "text": [
      "P3alphaRecommender: Similarity column 38121 (100.0%), 1916.97 column/sec. Elapsed time 19.89 sec\n",
      "EvaluatorHoldout: Ignoring 173 ( 0.5%) Users that have less than 1 test interactions\n",
      "EvaluatorHoldout: Processed 35563 (100.0%) in 31.33 sec. Users per second: 1135\n",
      "P3alphaRecommender: Similarity column 38121 (100.0%), 1915.65 column/sec. Elapsed time 19.90 sec\n",
      "EvaluatorHoldout: Ignoring 163 ( 0.5%) Users that have less than 1 test interactions\n",
      "EvaluatorHoldout: Processed 35573 (100.0%) in 30.84 sec. Users per second: 1153\n",
      "P3alphaRecommender: Similarity column 38121 (100.0%), 1926.03 column/sec. Elapsed time 19.79 sec\n",
      "EvaluatorHoldout: Ignoring 150 ( 0.4%) Users that have less than 1 test interactions\n",
      "EvaluatorHoldout: Processed 35586 (100.0%) in 31.09 sec. Users per second: 1145\n",
      "P3alphaRecommender: Similarity column 38121 (100.0%), 1886.76 column/sec. Elapsed time 20.20 sec\n",
      "EvaluatorHoldout: Ignoring 167 ( 0.5%) Users that have less than 1 test interactions\n",
      "EvaluatorHoldout: Processed 35569 (100.0%) in 35.21 sec. Users per second: 1010\n",
      "P3alphaRecommender: Similarity column 38121 (100.0%), 1955.48 column/sec. Elapsed time 19.49 sec\n",
      "EvaluatorHoldout: Ignoring 172 ( 0.5%) Users that have less than 1 test interactions\n",
      "EvaluatorHoldout: Processed 35564 (100.0%) in 34.63 sec. Users per second: 1027\n"
     ]
    },
    {
     "name": "stderr",
     "output_type": "stream",
     "text": [
      "[I 2025-01-06 11:47:27,731] Trial 398 finished with value: 0.04772214187686012 and parameters: {'topK': 95, 'alpha': 0.29244730524160234, 'normalize_similarity': True, 'implicit': False}. Best is trial 10 with value: 0.05370249298547826.\n"
     ]
    },
    {
     "name": "stdout",
     "output_type": "stream",
     "text": [
      "P3alphaRecommender: Similarity column 38121 (100.0%), 976.96 column/sec. Elapsed time 39.02 sec\n",
      "EvaluatorHoldout: Ignoring 173 ( 0.5%) Users that have less than 1 test interactions\n",
      "EvaluatorHoldout: Processed 35563 (100.0%) in 57.29 sec. Users per second: 621\n",
      "P3alphaRecommender: Similarity column 38121 (100.0%), 927.88 column/sec. Elapsed time 41.08 sec\n",
      "EvaluatorHoldout: Ignoring 163 ( 0.5%) Users that have less than 1 test interactions\n",
      "EvaluatorHoldout: Processed 35573 (100.0%) in 44.60 sec. Users per second: 798\n",
      "P3alphaRecommender: Similarity column 38121 (100.0%), 955.36 column/sec. Elapsed time 39.90 sec\n",
      "EvaluatorHoldout: Ignoring 150 ( 0.4%) Users that have less than 1 test interactions\n",
      "EvaluatorHoldout: Processed 35586 (100.0%) in 44.65 sec. Users per second: 797\n",
      "P3alphaRecommender: Similarity column 38121 (100.0%), 931.17 column/sec. Elapsed time 40.94 sec\n",
      "EvaluatorHoldout: Ignoring 167 ( 0.5%) Users that have less than 1 test interactions\n",
      "EvaluatorHoldout: Processed 35569 (100.0%) in 44.58 sec. Users per second: 798\n",
      "P3alphaRecommender: Similarity column 38121 (100.0%), 957.87 column/sec. Elapsed time 39.80 sec\n",
      "EvaluatorHoldout: Ignoring 172 ( 0.5%) Users that have less than 1 test interactions\n",
      "EvaluatorHoldout: Processed 35564 (100.0%) in 44.45 sec. Users per second: 800\n"
     ]
    },
    {
     "name": "stderr",
     "output_type": "stream",
     "text": [
      "[I 2025-01-06 11:56:19,416] Trial 399 finished with value: 0.03774681121102223 and parameters: {'topK': 503, 'alpha': 0.42967651163182174, 'normalize_similarity': True, 'implicit': False}. Best is trial 10 with value: 0.05370249298547826.\n"
     ]
    },
    {
     "name": "stdout",
     "output_type": "stream",
     "text": [
      "P3alphaRecommender: Similarity column 38121 (100.0%), 2293.00 column/sec. Elapsed time 16.62 sec\n",
      "EvaluatorHoldout: Ignoring 173 ( 0.5%) Users that have less than 1 test interactions\n",
      "EvaluatorHoldout: Processed 35563 (100.0%) in 31.80 sec. Users per second: 1118\n",
      "P3alphaRecommender: Similarity column 38121 (100.0%), 2278.74 column/sec. Elapsed time 16.73 sec\n",
      "EvaluatorHoldout: Ignoring 163 ( 0.5%) Users that have less than 1 test interactions\n",
      "EvaluatorHoldout: Processed 35573 (100.0%) in 32.02 sec. Users per second: 1111\n",
      "P3alphaRecommender: Similarity column 38121 (100.0%), 2290.28 column/sec. Elapsed time 16.64 sec\n",
      "EvaluatorHoldout: Ignoring 150 ( 0.4%) Users that have less than 1 test interactions\n",
      "EvaluatorHoldout: Processed 35586 (100.0%) in 31.88 sec. Users per second: 1116\n",
      "P3alphaRecommender: Similarity column 38121 (100.0%), 2296.85 column/sec. Elapsed time 16.60 sec\n",
      "EvaluatorHoldout: Ignoring 167 ( 0.5%) Users that have less than 1 test interactions\n",
      "EvaluatorHoldout: Processed 35569 (100.0%) in 31.82 sec. Users per second: 1118\n",
      "P3alphaRecommender: Similarity column 38121 (100.0%), 2280.22 column/sec. Elapsed time 16.72 sec\n",
      "EvaluatorHoldout: Ignoring 172 ( 0.5%) Users that have less than 1 test interactions\n",
      "EvaluatorHoldout: Processed 35564 (100.0%) in 32.14 sec. Users per second: 1106\n"
     ]
    },
    {
     "name": "stderr",
     "output_type": "stream",
     "text": [
      "[I 2025-01-06 12:00:29,391] Trial 400 finished with value: 0.052847758354719186 and parameters: {'topK': 27, 'alpha': 0.25212521116389414, 'normalize_similarity': True, 'implicit': False}. Best is trial 10 with value: 0.05370249298547826.\n"
     ]
    },
    {
     "name": "stdout",
     "output_type": "stream",
     "text": [
      "P3alphaRecommender: Similarity column 38121 (100.0%), 2097.39 column/sec. Elapsed time 18.18 sec\n",
      "EvaluatorHoldout: Ignoring 173 ( 0.5%) Users that have less than 1 test interactions\n",
      "EvaluatorHoldout: Processed 35563 (100.0%) in 33.48 sec. Users per second: 1062\n",
      "P3alphaRecommender: Similarity column 38121 (100.0%), 2111.40 column/sec. Elapsed time 18.05 sec\n",
      "EvaluatorHoldout: Ignoring 163 ( 0.5%) Users that have less than 1 test interactions\n",
      "EvaluatorHoldout: Processed 35573 (100.0%) in 33.71 sec. Users per second: 1055\n",
      "P3alphaRecommender: Similarity column 38121 (100.0%), 2104.51 column/sec. Elapsed time 18.11 sec\n",
      "EvaluatorHoldout: Ignoring 150 ( 0.4%) Users that have less than 1 test interactions\n",
      "EvaluatorHoldout: Processed 35586 (100.0%) in 34.84 sec. Users per second: 1021\n",
      "P3alphaRecommender: Similarity column 38121 (100.0%), 2085.38 column/sec. Elapsed time 18.28 sec\n",
      "EvaluatorHoldout: Ignoring 167 ( 0.5%) Users that have less than 1 test interactions\n",
      "EvaluatorHoldout: Processed 35569 (100.0%) in 33.90 sec. Users per second: 1049\n",
      "P3alphaRecommender: Similarity column 38121 (100.0%), 2104.75 column/sec. Elapsed time 18.11 sec\n",
      "EvaluatorHoldout: Ignoring 172 ( 0.5%) Users that have less than 1 test interactions\n",
      "EvaluatorHoldout: Processed 35564 (100.0%) in 33.91 sec. Users per second: 1049\n"
     ]
    },
    {
     "name": "stderr",
     "output_type": "stream",
     "text": [
      "[I 2025-01-06 12:05:01,657] Trial 401 finished with value: 0.05019948065635708 and parameters: {'topK': 60, 'alpha': 0.3711810777421322, 'normalize_similarity': True, 'implicit': False}. Best is trial 10 with value: 0.05370249298547826.\n"
     ]
    },
    {
     "name": "stdout",
     "output_type": "stream",
     "text": [
      "P3alphaRecommender: Similarity column 38121 (100.0%), 2325.42 column/sec. Elapsed time 16.39 sec\n",
      "EvaluatorHoldout: Ignoring 173 ( 0.5%) Users that have less than 1 test interactions\n",
      "EvaluatorHoldout: Processed 35563 (100.0%) in 32.64 sec. Users per second: 1090\n",
      "P3alphaRecommender: Similarity column 38121 (100.0%), 1945.86 column/sec. Elapsed time 19.59 sec\n",
      "EvaluatorHoldout: Ignoring 163 ( 0.5%) Users that have less than 1 test interactions\n",
      "EvaluatorHoldout: Processed 35573 (100.0%) in 34.92 sec. Users per second: 1019\n",
      "P3alphaRecommender: Similarity column 38121 (100.0%), 2288.84 column/sec. Elapsed time 16.66 sec\n",
      "EvaluatorHoldout: Ignoring 150 ( 0.4%) Users that have less than 1 test interactions\n",
      "EvaluatorHoldout: Processed 35586 (100.0%) in 31.64 sec. Users per second: 1125\n",
      "P3alphaRecommender: Similarity column 38121 (100.0%), 2345.37 column/sec. Elapsed time 16.25 sec\n",
      "EvaluatorHoldout: Ignoring 167 ( 0.5%) Users that have less than 1 test interactions\n",
      "EvaluatorHoldout: Processed 35569 (100.0%) in 32.60 sec. Users per second: 1091\n",
      "P3alphaRecommender: Similarity column 38121 (100.0%), 2323.77 column/sec. Elapsed time 16.40 sec\n",
      "EvaluatorHoldout: Ignoring 172 ( 0.5%) Users that have less than 1 test interactions\n",
      "EvaluatorHoldout: Processed 35564 (100.0%) in 32.00 sec. Users per second: 1112\n"
     ]
    },
    {
     "name": "stderr",
     "output_type": "stream",
     "text": [
      "[I 2025-01-06 12:09:17,649] Trial 402 finished with value: 0.05288581883174122 and parameters: {'topK': 25, 'alpha': 0.17570016856876244, 'normalize_similarity': True, 'implicit': False}. Best is trial 10 with value: 0.05370249298547826.\n"
     ]
    },
    {
     "name": "stdout",
     "output_type": "stream",
     "text": [
      "P3alphaRecommender: Similarity column 38121 (100.0%), 3371.02 column/sec. Elapsed time 11.31 sec\n",
      "EvaluatorHoldout: Ignoring 173 ( 0.5%) Users that have less than 1 test interactions\n",
      "EvaluatorHoldout: Processed 35563 (100.0%) in 25.35 sec. Users per second: 1403\n",
      "P3alphaRecommender: Similarity column 38121 (100.0%), 3359.71 column/sec. Elapsed time 11.35 sec\n",
      "EvaluatorHoldout: Ignoring 163 ( 0.5%) Users that have less than 1 test interactions\n",
      "EvaluatorHoldout: Processed 35573 (100.0%) in 25.06 sec. Users per second: 1419\n",
      "P3alphaRecommender: Similarity column 38121 (100.0%), 3336.21 column/sec. Elapsed time 11.43 sec\n",
      "EvaluatorHoldout: Ignoring 150 ( 0.4%) Users that have less than 1 test interactions\n",
      "EvaluatorHoldout: Processed 35586 (100.0%) in 25.23 sec. Users per second: 1410\n",
      "P3alphaRecommender: Similarity column 38121 (100.0%), 3347.86 column/sec. Elapsed time 11.39 sec\n",
      "EvaluatorHoldout: Ignoring 167 ( 0.5%) Users that have less than 1 test interactions\n",
      "EvaluatorHoldout: Processed 35569 (100.0%) in 25.17 sec. Users per second: 1413\n",
      "P3alphaRecommender: Similarity column 38121 (100.0%), 3346.83 column/sec. Elapsed time 11.39 sec\n",
      "EvaluatorHoldout: Ignoring 172 ( 0.5%) Users that have less than 1 test interactions\n",
      "EvaluatorHoldout: Processed 35564 (100.0%) in 25.28 sec. Users per second: 1407\n"
     ]
    },
    {
     "name": "stderr",
     "output_type": "stream",
     "text": [
      "[I 2025-01-06 12:12:21,631] Trial 403 finished with value: 0.0002664826418719655 and parameters: {'topK': 0, 'alpha': 0.31072851594665984, 'normalize_similarity': True, 'implicit': True}. Best is trial 10 with value: 0.05370249298547826.\n"
     ]
    },
    {
     "name": "stdout",
     "output_type": "stream",
     "text": [
      "P3alphaRecommender: Similarity column 38121 (100.0%), 1828.69 column/sec. Elapsed time 20.85 sec\n",
      "EvaluatorHoldout: Ignoring 173 ( 0.5%) Users that have less than 1 test interactions\n",
      "EvaluatorHoldout: Processed 35563 (100.0%) in 31.96 sec. Users per second: 1113\n",
      "P3alphaRecommender: Similarity column 38121 (100.0%), 1806.83 column/sec. Elapsed time 21.10 sec\n",
      "EvaluatorHoldout: Ignoring 163 ( 0.5%) Users that have less than 1 test interactions\n",
      "EvaluatorHoldout: Processed 35573 (100.0%) in 31.83 sec. Users per second: 1118\n",
      "P3alphaRecommender: Similarity column 38121 (100.0%), 1824.47 column/sec. Elapsed time 20.89 sec\n",
      "EvaluatorHoldout: Ignoring 150 ( 0.4%) Users that have less than 1 test interactions\n",
      "EvaluatorHoldout: Processed 35586 (100.0%) in 31.95 sec. Users per second: 1114\n",
      "P3alphaRecommender: Similarity column 38121 (100.0%), 1818.45 column/sec. Elapsed time 20.96 sec\n",
      "EvaluatorHoldout: Ignoring 167 ( 0.5%) Users that have less than 1 test interactions\n",
      "EvaluatorHoldout: Processed 35569 (100.0%) in 31.73 sec. Users per second: 1121\n",
      "P3alphaRecommender: Similarity column 38121 (100.0%), 1598.16 column/sec. Elapsed time 23.85 sec\n",
      "EvaluatorHoldout: Ignoring 172 ( 0.5%) Users that have less than 1 test interactions\n",
      "EvaluatorHoldout: Processed 35564 (100.0%) in 34.27 sec. Users per second: 1038\n"
     ]
    },
    {
     "name": "stderr",
     "output_type": "stream",
     "text": [
      "[I 2025-01-06 12:17:13,553] Trial 404 finished with value: 0.0465691328902873 and parameters: {'topK': 120, 'alpha': 0.49260066282374115, 'normalize_similarity': True, 'implicit': False}. Best is trial 10 with value: 0.05370249298547826.\n"
     ]
    },
    {
     "name": "stdout",
     "output_type": "stream",
     "text": [
      "P3alphaRecommender: Similarity column 38121 (100.0%), 2038.71 column/sec. Elapsed time 18.70 sec\n",
      "EvaluatorHoldout: Ignoring 173 ( 0.5%) Users that have less than 1 test interactions\n",
      "EvaluatorHoldout: Processed 35563 (100.0%) in 34.52 sec. Users per second: 1030\n",
      "P3alphaRecommender: Similarity column 38121 (100.0%), 2015.69 column/sec. Elapsed time 18.91 sec\n",
      "EvaluatorHoldout: Ignoring 163 ( 0.5%) Users that have less than 1 test interactions\n",
      "EvaluatorHoldout: Processed 35573 (100.0%) in 34.49 sec. Users per second: 1032\n",
      "P3alphaRecommender: Similarity column 38121 (100.0%), 2018.66 column/sec. Elapsed time 18.88 sec\n",
      "EvaluatorHoldout: Ignoring 150 ( 0.4%) Users that have less than 1 test interactions\n",
      "EvaluatorHoldout: Processed 35586 (100.0%) in 34.91 sec. Users per second: 1019\n",
      "P3alphaRecommender: Similarity column 38121 (100.0%), 1999.81 column/sec. Elapsed time 19.06 sec\n",
      "EvaluatorHoldout: Ignoring 167 ( 0.5%) Users that have less than 1 test interactions\n",
      "EvaluatorHoldout: Processed 35569 (100.0%) in 35.13 sec. Users per second: 1012\n",
      "P3alphaRecommender: Similarity column 38121 (100.0%), 2006.98 column/sec. Elapsed time 18.99 sec\n",
      "EvaluatorHoldout: Ignoring 172 ( 0.5%) Users that have less than 1 test interactions\n",
      "EvaluatorHoldout: Processed 35564 (100.0%) in 35.14 sec. Users per second: 1012\n"
     ]
    },
    {
     "name": "stderr",
     "output_type": "stream",
     "text": [
      "[I 2025-01-06 12:21:56,528] Trial 405 finished with value: 0.04917604364989033 and parameters: {'topK': 74, 'alpha': 0.4502718344214988, 'normalize_similarity': True, 'implicit': False}. Best is trial 10 with value: 0.05370249298547826.\n"
     ]
    },
    {
     "name": "stdout",
     "output_type": "stream",
     "text": [
      "P3alphaRecommender: Similarity column 38121 (100.0%), 2173.64 column/sec. Elapsed time 17.54 sec\n",
      "EvaluatorHoldout: Ignoring 173 ( 0.5%) Users that have less than 1 test interactions\n",
      "EvaluatorHoldout: Processed 35563 (100.0%) in 33.21 sec. Users per second: 1071\n",
      "P3alphaRecommender: Similarity column 38121 (100.0%), 2159.03 column/sec. Elapsed time 17.66 sec\n",
      "EvaluatorHoldout: Ignoring 163 ( 0.5%) Users that have less than 1 test interactions\n",
      "EvaluatorHoldout: Processed 35573 (100.0%) in 33.17 sec. Users per second: 1072\n",
      "P3alphaRecommender: Similarity column 38121 (100.0%), 2165.40 column/sec. Elapsed time 17.60 sec\n",
      "EvaluatorHoldout: Ignoring 150 ( 0.4%) Users that have less than 1 test interactions\n",
      "EvaluatorHoldout: Processed 35586 (100.0%) in 33.91 sec. Users per second: 1049\n",
      "P3alphaRecommender: Similarity column 38121 (100.0%), 2179.82 column/sec. Elapsed time 17.49 sec\n",
      "EvaluatorHoldout: Ignoring 167 ( 0.5%) Users that have less than 1 test interactions\n",
      "EvaluatorHoldout: Processed 35569 (100.0%) in 33.13 sec. Users per second: 1074\n",
      "P3alphaRecommender: Similarity column 38121 (100.0%), 2160.74 column/sec. Elapsed time 17.64 sec\n",
      "EvaluatorHoldout: Ignoring 172 ( 0.5%) Users that have less than 1 test interactions\n",
      "EvaluatorHoldout: Processed 35564 (100.0%) in 33.37 sec. Users per second: 1066\n"
     ]
    },
    {
     "name": "stderr",
     "output_type": "stream",
     "text": [
      "[I 2025-01-06 12:26:21,234] Trial 406 finished with value: 0.051141739488587155 and parameters: {'topK': 46, 'alpha': 0.5752587784492469, 'normalize_similarity': True, 'implicit': False}. Best is trial 10 with value: 0.05370249298547826.\n"
     ]
    },
    {
     "name": "stdout",
     "output_type": "stream",
     "text": [
      "P3alphaRecommender: Similarity column 38121 (100.0%), 2328.48 column/sec. Elapsed time 16.37 sec\n",
      "EvaluatorHoldout: Ignoring 173 ( 0.5%) Users that have less than 1 test interactions\n",
      "EvaluatorHoldout: Processed 35563 (100.0%) in 48.56 sec. Users per second: 732\n",
      "P3alphaRecommender: Similarity column 38121 (100.0%), 2301.64 column/sec. Elapsed time 16.56 sec\n",
      "EvaluatorHoldout: Ignoring 163 ( 0.5%) Users that have less than 1 test interactions\n",
      "EvaluatorHoldout: Processed 35573 (100.0%) in 31.95 sec. Users per second: 1113\n",
      "P3alphaRecommender: Similarity column 38121 (100.0%), 2290.73 column/sec. Elapsed time 16.64 sec\n",
      "EvaluatorHoldout: Ignoring 150 ( 0.4%) Users that have less than 1 test interactions\n",
      "EvaluatorHoldout: Processed 35586 (100.0%) in 32.41 sec. Users per second: 1098\n",
      "P3alphaRecommender: Similarity column 38121 (100.0%), 2302.46 column/sec. Elapsed time 16.56 sec\n",
      "EvaluatorHoldout: Ignoring 167 ( 0.5%) Users that have less than 1 test interactions\n",
      "EvaluatorHoldout: Processed 35569 (100.0%) in 31.62 sec. Users per second: 1125\n",
      "P3alphaRecommender: Similarity column 38121 (100.0%), 2293.89 column/sec. Elapsed time 16.62 sec\n",
      "EvaluatorHoldout: Ignoring 172 ( 0.5%) Users that have less than 1 test interactions\n",
      "EvaluatorHoldout: Processed 35564 (100.0%) in 31.87 sec. Users per second: 1116\n"
     ]
    },
    {
     "name": "stderr",
     "output_type": "stream",
     "text": [
      "[I 2025-01-06 12:30:47,095] Trial 407 finished with value: 0.05329199322311109 and parameters: {'topK': 24, 'alpha': 0.395181857114714, 'normalize_similarity': True, 'implicit': False}. Best is trial 10 with value: 0.05370249298547826.\n"
     ]
    },
    {
     "name": "stdout",
     "output_type": "stream",
     "text": [
      "P3alphaRecommender: Similarity column 38121 (100.0%), 2143.70 column/sec. Elapsed time 17.78 sec\n",
      "EvaluatorHoldout: Ignoring 173 ( 0.5%) Users that have less than 1 test interactions\n",
      "EvaluatorHoldout: Processed 35563 (100.0%) in 33.61 sec. Users per second: 1058\n",
      "P3alphaRecommender: Similarity column 38121 (100.0%), 2164.43 column/sec. Elapsed time 17.61 sec\n",
      "EvaluatorHoldout: Ignoring 163 ( 0.5%) Users that have less than 1 test interactions\n",
      "EvaluatorHoldout: Processed 35573 (100.0%) in 33.48 sec. Users per second: 1063\n",
      "P3alphaRecommender: Similarity column 38121 (100.0%), 2174.86 column/sec. Elapsed time 17.53 sec\n",
      "EvaluatorHoldout: Ignoring 150 ( 0.4%) Users that have less than 1 test interactions\n",
      "EvaluatorHoldout: Processed 35586 (100.0%) in 33.64 sec. Users per second: 1058\n",
      "P3alphaRecommender: Similarity column 38121 (100.0%), 2156.68 column/sec. Elapsed time 17.68 sec\n",
      "EvaluatorHoldout: Ignoring 167 ( 0.5%) Users that have less than 1 test interactions\n",
      "EvaluatorHoldout: Processed 35569 (100.0%) in 33.42 sec. Users per second: 1064\n",
      "P3alphaRecommender: Similarity column 38121 (100.0%), 2181.90 column/sec. Elapsed time 17.47 sec\n",
      "EvaluatorHoldout: Ignoring 172 ( 0.5%) Users that have less than 1 test interactions\n",
      "EvaluatorHoldout: Processed 35564 (100.0%) in 33.63 sec. Users per second: 1058\n"
     ]
    },
    {
     "name": "stderr",
     "output_type": "stream",
     "text": [
      "[I 2025-01-06 12:35:13,000] Trial 408 finished with value: 0.033845634725264896 and parameters: {'topK': 49, 'alpha': 0.11892577233308266, 'normalize_similarity': False, 'implicit': False}. Best is trial 10 with value: 0.05370249298547826.\n"
     ]
    },
    {
     "name": "stdout",
     "output_type": "stream",
     "text": [
      "P3alphaRecommender: Similarity column 38121 (100.0%), 2002.54 column/sec. Elapsed time 19.04 sec\n",
      "EvaluatorHoldout: Ignoring 173 ( 0.5%) Users that have less than 1 test interactions\n",
      "EvaluatorHoldout: Processed 35563 (100.0%) in 34.77 sec. Users per second: 1023\n",
      "P3alphaRecommender: Similarity column 38121 (100.0%), 1954.17 column/sec. Elapsed time 19.51 sec\n",
      "EvaluatorHoldout: Ignoring 163 ( 0.5%) Users that have less than 1 test interactions\n",
      "EvaluatorHoldout: Processed 35573 (100.0%) in 34.58 sec. Users per second: 1029\n",
      "P3alphaRecommender: Similarity column 38121 (100.0%), 1726.47 column/sec. Elapsed time 22.08 sec\n",
      "EvaluatorHoldout: Ignoring 150 ( 0.4%) Users that have less than 1 test interactions\n",
      "EvaluatorHoldout: Processed 35586 (100.0%) in 38.34 sec. Users per second: 928\n",
      "P3alphaRecommender: Similarity column 38121 (100.0%), 1985.16 column/sec. Elapsed time 19.20 sec\n",
      "EvaluatorHoldout: Ignoring 167 ( 0.5%) Users that have less than 1 test interactions\n",
      "EvaluatorHoldout: Processed 35569 (100.0%) in 34.70 sec. Users per second: 1025\n",
      "P3alphaRecommender: Similarity column 38121 (100.0%), 1984.10 column/sec. Elapsed time 19.21 sec\n",
      "EvaluatorHoldout: Ignoring 172 ( 0.5%) Users that have less than 1 test interactions\n",
      "EvaluatorHoldout: Processed 35564 (100.0%) in 34.89 sec. Users per second: 1019\n"
     ]
    },
    {
     "name": "stderr",
     "output_type": "stream",
     "text": [
      "[I 2025-01-06 12:40:05,567] Trial 409 finished with value: 0.04859997697479275 and parameters: {'topK': 83, 'alpha': 0.42389899209481663, 'normalize_similarity': True, 'implicit': False}. Best is trial 10 with value: 0.05370249298547826.\n"
     ]
    },
    {
     "name": "stdout",
     "output_type": "stream",
     "text": [
      "P3alphaRecommender: Similarity column 38121 (100.0%), 2296.52 column/sec. Elapsed time 16.60 sec\n",
      "EvaluatorHoldout: Ignoring 173 ( 0.5%) Users that have less than 1 test interactions\n",
      "EvaluatorHoldout: Processed 35563 (100.0%) in 31.84 sec. Users per second: 1117\n",
      "P3alphaRecommender: Similarity column 38121 (100.0%), 2290.49 column/sec. Elapsed time 16.64 sec\n",
      "EvaluatorHoldout: Ignoring 163 ( 0.5%) Users that have less than 1 test interactions\n",
      "EvaluatorHoldout: Processed 35573 (100.0%) in 31.80 sec. Users per second: 1119\n",
      "P3alphaRecommender: Similarity column 38121 (100.0%), 2319.71 column/sec. Elapsed time 16.43 sec\n",
      "EvaluatorHoldout: Ignoring 150 ( 0.4%) Users that have less than 1 test interactions\n",
      "EvaluatorHoldout: Processed 35586 (100.0%) in 32.03 sec. Users per second: 1111\n",
      "P3alphaRecommender: Similarity column 38121 (100.0%), 2307.36 column/sec. Elapsed time 16.52 sec\n",
      "EvaluatorHoldout: Ignoring 167 ( 0.5%) Users that have less than 1 test interactions\n",
      "EvaluatorHoldout: Processed 35569 (100.0%) in 32.44 sec. Users per second: 1096\n",
      "P3alphaRecommender: Similarity column 38121 (100.0%), 2319.49 column/sec. Elapsed time 16.44 sec\n",
      "EvaluatorHoldout: Ignoring 172 ( 0.5%) Users that have less than 1 test interactions\n",
      "EvaluatorHoldout: Processed 35564 (100.0%) in 31.93 sec. Users per second: 1114\n"
     ]
    },
    {
     "name": "stderr",
     "output_type": "stream",
     "text": [
      "[I 2025-01-06 12:44:15,147] Trial 410 finished with value: 0.05325260276122264 and parameters: {'topK': 24, 'alpha': 0.5089249048451545, 'normalize_similarity': True, 'implicit': False}. Best is trial 10 with value: 0.05370249298547826.\n"
     ]
    },
    {
     "name": "stdout",
     "output_type": "stream",
     "text": [
      "P3alphaRecommender: Similarity column 38121 (100.0%), 1756.25 column/sec. Elapsed time 21.71 sec\n",
      "EvaluatorHoldout: Ignoring 173 ( 0.5%) Users that have less than 1 test interactions\n",
      "EvaluatorHoldout: Processed 35563 (100.0%) in 32.50 sec. Users per second: 1094\n",
      "P3alphaRecommender: Similarity column 38121 (100.0%), 1735.82 column/sec. Elapsed time 21.96 sec\n",
      "EvaluatorHoldout: Ignoring 163 ( 0.5%) Users that have less than 1 test interactions\n",
      "EvaluatorHoldout: Processed 35573 (100.0%) in 32.45 sec. Users per second: 1096\n",
      "P3alphaRecommender: Similarity column 38121 (100.0%), 1742.36 column/sec. Elapsed time 21.88 sec\n",
      "EvaluatorHoldout: Ignoring 150 ( 0.4%) Users that have less than 1 test interactions\n",
      "EvaluatorHoldout: Processed 35586 (100.0%) in 32.42 sec. Users per second: 1098\n",
      "P3alphaRecommender: Similarity column 38121 (100.0%), 1748.10 column/sec. Elapsed time 21.81 sec\n",
      "EvaluatorHoldout: Ignoring 167 ( 0.5%) Users that have less than 1 test interactions\n",
      "EvaluatorHoldout: Processed 35569 (100.0%) in 47.98 sec. Users per second: 741\n",
      "P3alphaRecommender: Similarity column 38121 (100.0%), 1750.53 column/sec. Elapsed time 21.78 sec\n",
      "EvaluatorHoldout: Ignoring 172 ( 0.5%) Users that have less than 1 test interactions\n",
      "EvaluatorHoldout: Processed 35564 (100.0%) in 32.32 sec. Users per second: 1100\n"
     ]
    },
    {
     "name": "stderr",
     "output_type": "stream",
     "text": [
      "[I 2025-01-06 12:49:26,592] Trial 411 finished with value: 0.045563484912983905 and parameters: {'topK': 141, 'alpha': 0.4936194458842714, 'normalize_similarity': True, 'implicit': False}. Best is trial 10 with value: 0.05370249298547826.\n"
     ]
    },
    {
     "name": "stdout",
     "output_type": "stream",
     "text": [
      "P3alphaRecommender: Similarity column 38121 (100.0%), 2286.82 column/sec. Elapsed time 16.67 sec\n",
      "EvaluatorHoldout: Ignoring 173 ( 0.5%) Users that have less than 1 test interactions\n",
      "EvaluatorHoldout: Processed 35563 (100.0%) in 32.11 sec. Users per second: 1108\n",
      "P3alphaRecommender: Similarity column 38121 (100.0%), 2299.05 column/sec. Elapsed time 16.58 sec\n",
      "EvaluatorHoldout: Ignoring 163 ( 0.5%) Users that have less than 1 test interactions\n",
      "EvaluatorHoldout: Processed 35573 (100.0%) in 32.05 sec. Users per second: 1110\n",
      "P3alphaRecommender: Similarity column 38121 (100.0%), 2303.81 column/sec. Elapsed time 16.55 sec\n",
      "EvaluatorHoldout: Ignoring 150 ( 0.4%) Users that have less than 1 test interactions\n",
      "EvaluatorHoldout: Processed 35586 (100.0%) in 32.19 sec. Users per second: 1105\n",
      "P3alphaRecommender: Similarity column 38121 (100.0%), 2270.95 column/sec. Elapsed time 16.79 sec\n",
      "EvaluatorHoldout: Ignoring 167 ( 0.5%) Users that have less than 1 test interactions\n",
      "EvaluatorHoldout: Processed 35569 (100.0%) in 31.95 sec. Users per second: 1113\n",
      "P3alphaRecommender: Similarity column 38121 (100.0%), 2295.13 column/sec. Elapsed time 16.61 sec\n",
      "EvaluatorHoldout: Ignoring 172 ( 0.5%) Users that have less than 1 test interactions\n",
      "EvaluatorHoldout: Processed 35564 (100.0%) in 31.97 sec. Users per second: 1112\n"
     ]
    },
    {
     "name": "stderr",
     "output_type": "stream",
     "text": [
      "[I 2025-01-06 12:53:36,765] Trial 412 finished with value: 0.053231092174650455 and parameters: {'topK': 24, 'alpha': 0.5251954390275875, 'normalize_similarity': True, 'implicit': False}. Best is trial 10 with value: 0.05370249298547826.\n"
     ]
    },
    {
     "name": "stdout",
     "output_type": "stream",
     "text": [
      "P3alphaRecommender: Similarity column 38121 (100.0%), 3508.08 column/sec. Elapsed time 10.87 sec\n",
      "EvaluatorHoldout: Ignoring 173 ( 0.5%) Users that have less than 1 test interactions\n",
      "EvaluatorHoldout: Processed 35563 (100.0%) in 27.08 sec. Users per second: 1313\n",
      "P3alphaRecommender: Similarity column 38121 (100.0%), 3480.34 column/sec. Elapsed time 10.95 sec\n",
      "EvaluatorHoldout: Ignoring 163 ( 0.5%) Users that have less than 1 test interactions\n",
      "EvaluatorHoldout: Processed 35573 (100.0%) in 27.34 sec. Users per second: 1301\n",
      "P3alphaRecommender: Similarity column 38121 (100.0%), 3504.42 column/sec. Elapsed time 10.88 sec\n",
      "EvaluatorHoldout: Ignoring 150 ( 0.4%) Users that have less than 1 test interactions\n",
      "EvaluatorHoldout: Processed 35586 (100.0%) in 27.61 sec. Users per second: 1289\n",
      "P3alphaRecommender: Similarity column 38121 (100.0%), 3506.03 column/sec. Elapsed time 10.87 sec\n",
      "EvaluatorHoldout: Ignoring 167 ( 0.5%) Users that have less than 1 test interactions\n",
      "EvaluatorHoldout: Processed 35569 (100.0%) in 27.45 sec. Users per second: 1296\n",
      "P3alphaRecommender: Similarity column 38121 (100.0%), 3492.15 column/sec. Elapsed time 10.92 sec\n",
      "EvaluatorHoldout: Ignoring 172 ( 0.5%) Users that have less than 1 test interactions\n",
      "EvaluatorHoldout: Processed 35564 (100.0%) in 27.24 sec. Users per second: 1306\n"
     ]
    },
    {
     "name": "stderr",
     "output_type": "stream",
     "text": [
      "[I 2025-01-06 12:56:51,641] Trial 413 finished with value: 0.02006929883263382 and parameters: {'topK': 1, 'alpha': 0.5382248170227418, 'normalize_similarity': True, 'implicit': False}. Best is trial 10 with value: 0.05370249298547826.\n"
     ]
    },
    {
     "name": "stdout",
     "output_type": "stream",
     "text": [
      "P3alphaRecommender: Similarity column 38121 (100.0%), 3318.66 column/sec. Elapsed time 11.49 sec\n",
      "EvaluatorHoldout: Ignoring 173 ( 0.5%) Users that have less than 1 test interactions\n",
      "EvaluatorHoldout: Processed 35563 (100.0%) in 25.44 sec. Users per second: 1398\n",
      "P3alphaRecommender: Similarity column 38121 (100.0%), 3328.01 column/sec. Elapsed time 11.45 sec\n",
      "EvaluatorHoldout: Ignoring 163 ( 0.5%) Users that have less than 1 test interactions\n",
      "EvaluatorHoldout: Processed 35573 (100.0%) in 25.46 sec. Users per second: 1397\n",
      "P3alphaRecommender: Similarity column 38121 (100.0%), 3343.00 column/sec. Elapsed time 11.40 sec\n",
      "EvaluatorHoldout: Ignoring 150 ( 0.4%) Users that have less than 1 test interactions\n",
      "EvaluatorHoldout: Processed 35586 (100.0%) in 42.02 sec. Users per second: 847\n",
      "P3alphaRecommender: Similarity column 38121 (100.0%), 3312.56 column/sec. Elapsed time 11.51 sec\n",
      "EvaluatorHoldout: Ignoring 167 ( 0.5%) Users that have less than 1 test interactions\n",
      "EvaluatorHoldout: Processed 35569 (100.0%) in 25.55 sec. Users per second: 1392\n",
      "P3alphaRecommender: Similarity column 38121 (100.0%), 3356.61 column/sec. Elapsed time 11.36 sec\n",
      "EvaluatorHoldout: Ignoring 172 ( 0.5%) Users that have less than 1 test interactions\n",
      "EvaluatorHoldout: Processed 35564 (100.0%) in 25.80 sec. Users per second: 1378\n"
     ]
    },
    {
     "name": "stderr",
     "output_type": "stream",
     "text": [
      "[I 2025-01-06 13:00:14,135] Trial 414 finished with value: 0.0002664826418719655 and parameters: {'topK': 0, 'alpha': 0.5222628340692116, 'normalize_similarity': True, 'implicit': False}. Best is trial 10 with value: 0.05370249298547826.\n"
     ]
    },
    {
     "name": "stdout",
     "output_type": "stream",
     "text": [
      "P3alphaRecommender: Similarity column 38121 (100.0%), 2106.85 column/sec. Elapsed time 18.09 sec\n",
      "EvaluatorHoldout: Ignoring 173 ( 0.5%) Users that have less than 1 test interactions\n",
      "EvaluatorHoldout: Processed 35563 (100.0%) in 34.63 sec. Users per second: 1027\n",
      "P3alphaRecommender: Similarity column 38121 (100.0%), 2120.59 column/sec. Elapsed time 17.98 sec\n",
      "EvaluatorHoldout: Ignoring 163 ( 0.5%) Users that have less than 1 test interactions\n",
      "EvaluatorHoldout: Processed 35573 (100.0%) in 34.00 sec. Users per second: 1046\n",
      "P3alphaRecommender: Similarity column 38121 (100.0%), 2117.70 column/sec. Elapsed time 18.00 sec\n",
      "EvaluatorHoldout: Ignoring 150 ( 0.4%) Users that have less than 1 test interactions\n",
      "EvaluatorHoldout: Processed 35586 (100.0%) in 34.30 sec. Users per second: 1038\n",
      "P3alphaRecommender: Similarity column 38121 (100.0%), 2125.90 column/sec. Elapsed time 17.93 sec\n",
      "EvaluatorHoldout: Ignoring 167 ( 0.5%) Users that have less than 1 test interactions\n",
      "EvaluatorHoldout: Processed 35569 (100.0%) in 35.26 sec. Users per second: 1009\n",
      "P3alphaRecommender: Similarity column 38121 (100.0%), 2107.61 column/sec. Elapsed time 18.09 sec\n",
      "EvaluatorHoldout: Ignoring 172 ( 0.5%) Users that have less than 1 test interactions\n",
      "EvaluatorHoldout: Processed 35564 (100.0%) in 34.38 sec. Users per second: 1034\n"
     ]
    },
    {
     "name": "stderr",
     "output_type": "stream",
     "text": [
      "[I 2025-01-06 13:04:48,139] Trial 415 finished with value: 0.05051310528810095 and parameters: {'topK': 54, 'alpha': 0.5621843211776107, 'normalize_similarity': True, 'implicit': False}. Best is trial 10 with value: 0.05370249298547826.\n"
     ]
    },
    {
     "name": "stdout",
     "output_type": "stream",
     "text": [
      "P3alphaRecommender: Similarity column 38121 (100.0%), 1900.39 column/sec. Elapsed time 20.06 sec\n",
      "EvaluatorHoldout: Ignoring 173 ( 0.5%) Users that have less than 1 test interactions\n",
      "EvaluatorHoldout: Processed 35563 (100.0%) in 31.79 sec. Users per second: 1119\n",
      "P3alphaRecommender: Similarity column 38121 (100.0%), 1858.63 column/sec. Elapsed time 20.51 sec\n",
      "EvaluatorHoldout: Ignoring 163 ( 0.5%) Users that have less than 1 test interactions\n",
      "EvaluatorHoldout: Processed 35573 (100.0%) in 31.88 sec. Users per second: 1116\n",
      "P3alphaRecommender: Similarity column 38121 (100.0%), 1888.39 column/sec. Elapsed time 20.19 sec\n",
      "EvaluatorHoldout: Ignoring 150 ( 0.4%) Users that have less than 1 test interactions\n",
      "EvaluatorHoldout: Processed 35586 (100.0%) in 31.64 sec. Users per second: 1125\n",
      "P3alphaRecommender: Similarity column 38121 (100.0%), 1869.54 column/sec. Elapsed time 20.39 sec\n",
      "EvaluatorHoldout: Ignoring 167 ( 0.5%) Users that have less than 1 test interactions\n",
      "EvaluatorHoldout: Processed 35569 (100.0%) in 31.50 sec. Users per second: 1129\n",
      "P3alphaRecommender: Similarity column 38121 (100.0%), 1856.63 column/sec. Elapsed time 20.53 sec\n",
      "EvaluatorHoldout: Ignoring 172 ( 0.5%) Users that have less than 1 test interactions\n",
      "EvaluatorHoldout: Processed 35564 (100.0%) in 44.29 sec. Users per second: 803\n"
     ]
    },
    {
     "name": "stderr",
     "output_type": "stream",
     "text": [
      "[I 2025-01-06 13:09:39,858] Trial 416 finished with value: 0.04753179272913118 and parameters: {'topK': 101, 'alpha': 0.4737392593830484, 'normalize_similarity': True, 'implicit': False}. Best is trial 10 with value: 0.05370249298547826.\n"
     ]
    },
    {
     "name": "stdout",
     "output_type": "stream",
     "text": [
      "P3alphaRecommender: Similarity column 38121 (100.0%), 2029.36 column/sec. Elapsed time 18.78 sec\n",
      "EvaluatorHoldout: Ignoring 173 ( 0.5%) Users that have less than 1 test interactions\n",
      "EvaluatorHoldout: Processed 35563 (100.0%) in 35.42 sec. Users per second: 1004\n",
      "P3alphaRecommender: Similarity column 38121 (100.0%), 2017.57 column/sec. Elapsed time 18.89 sec\n",
      "EvaluatorHoldout: Ignoring 163 ( 0.5%) Users that have less than 1 test interactions\n",
      "EvaluatorHoldout: Processed 35573 (100.0%) in 34.62 sec. Users per second: 1028\n",
      "P3alphaRecommender: Similarity column 38121 (100.0%), 2038.54 column/sec. Elapsed time 18.70 sec\n",
      "EvaluatorHoldout: Ignoring 150 ( 0.4%) Users that have less than 1 test interactions\n",
      "EvaluatorHoldout: Processed 35586 (100.0%) in 34.68 sec. Users per second: 1026\n",
      "P3alphaRecommender: Similarity column 38121 (100.0%), 2011.91 column/sec. Elapsed time 18.95 sec\n",
      "EvaluatorHoldout: Ignoring 167 ( 0.5%) Users that have less than 1 test interactions\n",
      "EvaluatorHoldout: Processed 35569 (100.0%) in 34.54 sec. Users per second: 1030\n",
      "P3alphaRecommender: Similarity column 38121 (100.0%), 2028.92 column/sec. Elapsed time 18.79 sec\n",
      "EvaluatorHoldout: Ignoring 172 ( 0.5%) Users that have less than 1 test interactions\n",
      "EvaluatorHoldout: Processed 35564 (100.0%) in 34.48 sec. Users per second: 1032\n"
     ]
    },
    {
     "name": "stderr",
     "output_type": "stream",
     "text": [
      "[I 2025-01-06 13:14:21,385] Trial 417 finished with value: 0.04946487540011091 and parameters: {'topK': 70, 'alpha': 0.4884996588771578, 'normalize_similarity': True, 'implicit': True}. Best is trial 10 with value: 0.05370249298547826.\n"
     ]
    },
    {
     "name": "stdout",
     "output_type": "stream",
     "text": [
      "P3alphaRecommender: Similarity column 38121 (100.0%), 2176.39 column/sec. Elapsed time 17.52 sec\n",
      "EvaluatorHoldout: Ignoring 173 ( 0.5%) Users that have less than 1 test interactions\n",
      "EvaluatorHoldout: Processed 35563 (100.0%) in 32.95 sec. Users per second: 1079\n",
      "P3alphaRecommender: Similarity column 38121 (100.0%), 2156.76 column/sec. Elapsed time 17.68 sec\n",
      "EvaluatorHoldout: Ignoring 163 ( 0.5%) Users that have less than 1 test interactions\n",
      "EvaluatorHoldout: Processed 35573 (100.0%) in 35.69 sec. Users per second: 997\n",
      "P3alphaRecommender: Similarity column 38121 (100.0%), 2158.95 column/sec. Elapsed time 17.66 sec\n",
      "EvaluatorHoldout: Ignoring 150 ( 0.4%) Users that have less than 1 test interactions\n",
      "EvaluatorHoldout: Processed 35586 (100.0%) in 33.80 sec. Users per second: 1053\n",
      "P3alphaRecommender: Similarity column 38121 (100.0%), 2183.76 column/sec. Elapsed time 17.46 sec\n",
      "EvaluatorHoldout: Ignoring 167 ( 0.5%) Users that have less than 1 test interactions\n",
      "EvaluatorHoldout: Processed 35569 (100.0%) in 34.58 sec. Users per second: 1029\n",
      "P3alphaRecommender: Similarity column 38121 (100.0%), 2161.57 column/sec. Elapsed time 17.64 sec\n",
      "EvaluatorHoldout: Ignoring 172 ( 0.5%) Users that have less than 1 test interactions\n",
      "EvaluatorHoldout: Processed 35564 (100.0%) in 33.66 sec. Users per second: 1057\n"
     ]
    },
    {
     "name": "stderr",
     "output_type": "stream",
     "text": [
      "[I 2025-01-06 13:18:49,486] Trial 418 finished with value: 0.05163285768657535 and parameters: {'topK': 41, 'alpha': 0.5110176686171496, 'normalize_similarity': True, 'implicit': False}. Best is trial 10 with value: 0.05370249298547826.\n"
     ]
    },
    {
     "name": "stdout",
     "output_type": "stream",
     "text": [
      "P3alphaRecommender: Similarity column 38121 (100.0%), 556.41 column/sec. Elapsed time 1.14 min\n",
      "EvaluatorHoldout: Ignoring 173 ( 0.5%) Users that have less than 1 test interactions\n",
      "EvaluatorHoldout: Processed 35563 (100.0%) in 54.35 sec. Users per second: 654\n",
      "P3alphaRecommender: Similarity column 38121 (100.0%), 584.49 column/sec. Elapsed time 1.09 min\n",
      "EvaluatorHoldout: Ignoring 163 ( 0.5%) Users that have less than 1 test interactions\n",
      "EvaluatorHoldout: Processed 35573 (100.0%) in 53.97 sec. Users per second: 659\n",
      "P3alphaRecommender: Similarity column 38121 (100.0%), 586.17 column/sec. Elapsed time 1.08 min\n",
      "EvaluatorHoldout: Ignoring 150 ( 0.4%) Users that have less than 1 test interactions\n",
      "EvaluatorHoldout: Processed 35586 (100.0%) in 54.64 sec. Users per second: 651\n",
      "P3alphaRecommender: Similarity column 38121 (100.0%), 581.61 column/sec. Elapsed time 1.09 min\n",
      "EvaluatorHoldout: Ignoring 167 ( 0.5%) Users that have less than 1 test interactions\n",
      "EvaluatorHoldout: Processed 35569 (100.0%) in 54.66 sec. Users per second: 651\n",
      "P3alphaRecommender: Similarity column 38121 (100.0%), 583.25 column/sec. Elapsed time 1.09 min\n",
      "EvaluatorHoldout: Ignoring 172 ( 0.5%) Users that have less than 1 test interactions\n",
      "EvaluatorHoldout: Processed 35564 (100.0%) in 54.20 sec. Users per second: 656\n"
     ]
    },
    {
     "name": "stderr",
     "output_type": "stream",
     "text": [
      "[I 2025-01-06 13:32:15,566] Trial 419 finished with value: 0.034852829366112226 and parameters: {'topK': 1057, 'alpha': 0.5915328926613894, 'normalize_similarity': True, 'implicit': False}. Best is trial 10 with value: 0.05370249298547826.\n"
     ]
    },
    {
     "name": "stdout",
     "output_type": "stream",
     "text": [
      "P3alphaRecommender: Similarity column 38121 (100.0%), 717.44 column/sec. Elapsed time 53.14 sec\n",
      "EvaluatorHoldout: Ignoring 173 ( 0.5%) Users that have less than 1 test interactions\n",
      "EvaluatorHoldout: Processed 35563 (100.0%) in 49.72 sec. Users per second: 715\n",
      "P3alphaRecommender: Similarity column 38121 (100.0%), 713.86 column/sec. Elapsed time 53.40 sec\n",
      "EvaluatorHoldout: Ignoring 163 ( 0.5%) Users that have less than 1 test interactions\n",
      "EvaluatorHoldout: Processed 35573 (100.0%) in 50.24 sec. Users per second: 708\n",
      "P3alphaRecommender: Similarity column 38121 (100.0%), 709.00 column/sec. Elapsed time 53.77 sec\n",
      "EvaluatorHoldout: Ignoring 150 ( 0.4%) Users that have less than 1 test interactions\n",
      "EvaluatorHoldout: Processed 35586 (100.0%) in 49.68 sec. Users per second: 716\n",
      "P3alphaRecommender: Similarity column 38121 (100.0%), 707.74 column/sec. Elapsed time 53.86 sec\n",
      "EvaluatorHoldout: Ignoring 167 ( 0.5%) Users that have less than 1 test interactions\n",
      "EvaluatorHoldout: Processed 35569 (100.0%) in 50.47 sec. Users per second: 705\n",
      "P3alphaRecommender: Similarity column 38121 (100.0%), 714.14 column/sec. Elapsed time 53.38 sec\n",
      "EvaluatorHoldout: Ignoring 172 ( 0.5%) Users that have less than 1 test interactions\n",
      "EvaluatorHoldout: Processed 35564 (100.0%) in 49.53 sec. Users per second: 718\n"
     ]
    },
    {
     "name": "stderr",
     "output_type": "stream",
     "text": [
      "[I 2025-01-06 13:43:22,579] Trial 420 finished with value: 0.03555118091919194 and parameters: {'topK': 783, 'alpha': 0.44345543054218783, 'normalize_similarity': True, 'implicit': False}. Best is trial 10 with value: 0.05370249298547826.\n"
     ]
    },
    {
     "name": "stdout",
     "output_type": "stream",
     "text": [
      "P3alphaRecommender: Similarity column 38121 (100.0%), 2298.40 column/sec. Elapsed time 16.59 sec\n",
      "EvaluatorHoldout: Ignoring 173 ( 0.5%) Users that have less than 1 test interactions\n",
      "EvaluatorHoldout: Processed 35563 (100.0%) in 33.05 sec. Users per second: 1076\n",
      "P3alphaRecommender: Similarity column 38121 (100.0%), 2232.26 column/sec. Elapsed time 17.08 sec\n",
      "EvaluatorHoldout: Ignoring 163 ( 0.5%) Users that have less than 1 test interactions\n",
      "EvaluatorHoldout: Processed 35573 (100.0%) in 33.14 sec. Users per second: 1073\n",
      "P3alphaRecommender: Similarity column 38121 (100.0%), 2207.21 column/sec. Elapsed time 17.27 sec\n",
      "EvaluatorHoldout: Ignoring 150 ( 0.4%) Users that have less than 1 test interactions\n",
      "EvaluatorHoldout: Processed 35586 (100.0%) in 32.85 sec. Users per second: 1083\n",
      "P3alphaRecommender: Similarity column 38121 (100.0%), 2235.32 column/sec. Elapsed time 17.05 sec\n",
      "EvaluatorHoldout: Ignoring 167 ( 0.5%) Users that have less than 1 test interactions\n",
      "EvaluatorHoldout: Processed 35569 (100.0%) in 32.75 sec. Users per second: 1086\n",
      "P3alphaRecommender: Similarity column 38121 (100.0%), 2221.18 column/sec. Elapsed time 17.16 sec\n",
      "EvaluatorHoldout: Ignoring 172 ( 0.5%) Users that have less than 1 test interactions\n",
      "EvaluatorHoldout: Processed 35564 (100.0%) in 32.77 sec. Users per second: 1085\n"
     ]
    },
    {
     "name": "stderr",
     "output_type": "stream",
     "text": [
      "[I 2025-01-06 13:47:40,604] Trial 421 finished with value: 0.0521564103981937 and parameters: {'topK': 35, 'alpha': 0.5242419452538631, 'normalize_similarity': True, 'implicit': False}. Best is trial 10 with value: 0.05370249298547826.\n"
     ]
    },
    {
     "name": "stdout",
     "output_type": "stream",
     "text": [
      "P3alphaRecommender: Similarity column 38121 (100.0%), 3326.13 column/sec. Elapsed time 11.46 sec\n",
      "EvaluatorHoldout: Ignoring 173 ( 0.5%) Users that have less than 1 test interactions\n",
      "EvaluatorHoldout: Processed 35563 (100.0%) in 25.31 sec. Users per second: 1405\n",
      "P3alphaRecommender: Similarity column 38121 (100.0%), 3378.37 column/sec. Elapsed time 11.28 sec\n",
      "EvaluatorHoldout: Ignoring 163 ( 0.5%) Users that have less than 1 test interactions\n",
      "EvaluatorHoldout: Processed 35573 (100.0%) in 25.46 sec. Users per second: 1397\n",
      "P3alphaRecommender: Similarity column 38121 (100.0%), 3375.93 column/sec. Elapsed time 11.29 sec\n",
      "EvaluatorHoldout: Ignoring 150 ( 0.4%) Users that have less than 1 test interactions\n",
      "EvaluatorHoldout: Processed 35586 (100.0%) in 25.35 sec. Users per second: 1404\n",
      "P3alphaRecommender: Similarity column 38121 (100.0%), 3374.83 column/sec. Elapsed time 11.30 sec\n",
      "EvaluatorHoldout: Ignoring 167 ( 0.5%) Users that have less than 1 test interactions\n",
      "EvaluatorHoldout: Processed 35569 (100.0%) in 25.40 sec. Users per second: 1400\n",
      "P3alphaRecommender: Similarity column 38121 (100.0%), 3327.36 column/sec. Elapsed time 11.46 sec\n",
      "EvaluatorHoldout: Ignoring 172 ( 0.5%) Users that have less than 1 test interactions\n",
      "EvaluatorHoldout: Processed 35564 (100.0%) in 25.36 sec. Users per second: 1402\n"
     ]
    },
    {
     "name": "stderr",
     "output_type": "stream",
     "text": [
      "[I 2025-01-06 13:50:45,274] Trial 422 finished with value: 0.0002664826418719655 and parameters: {'topK': 0, 'alpha': 0.46161544282684563, 'normalize_similarity': True, 'implicit': False}. Best is trial 10 with value: 0.05370249298547826.\n"
     ]
    },
    {
     "name": "stdout",
     "output_type": "stream",
     "text": [
      "P3alphaRecommender: Similarity column 38121 (100.0%), 2032.45 column/sec. Elapsed time 18.76 sec\n",
      "EvaluatorHoldout: Ignoring 173 ( 0.5%) Users that have less than 1 test interactions\n",
      "EvaluatorHoldout: Processed 35563 (100.0%) in 33.92 sec. Users per second: 1048\n",
      "P3alphaRecommender: Similarity column 38121 (100.0%), 2026.89 column/sec. Elapsed time 18.81 sec\n",
      "EvaluatorHoldout: Ignoring 163 ( 0.5%) Users that have less than 1 test interactions\n",
      "EvaluatorHoldout: Processed 35573 (100.0%) in 34.15 sec. Users per second: 1042\n",
      "P3alphaRecommender: Similarity column 38121 (100.0%), 2032.84 column/sec. Elapsed time 18.75 sec\n",
      "EvaluatorHoldout: Ignoring 150 ( 0.4%) Users that have less than 1 test interactions\n",
      "EvaluatorHoldout: Processed 35586 (100.0%) in 34.19 sec. Users per second: 1041\n",
      "P3alphaRecommender: Similarity column 38121 (100.0%), 2043.56 column/sec. Elapsed time 18.65 sec\n",
      "EvaluatorHoldout: Ignoring 167 ( 0.5%) Users that have less than 1 test interactions\n",
      "EvaluatorHoldout: Processed 35569 (100.0%) in 34.25 sec. Users per second: 1039\n",
      "P3alphaRecommender: Similarity column 38121 (100.0%), 2046.60 column/sec. Elapsed time 18.63 sec\n",
      "EvaluatorHoldout: Ignoring 172 ( 0.5%) Users that have less than 1 test interactions\n",
      "EvaluatorHoldout: Processed 35564 (100.0%) in 34.20 sec. Users per second: 1040\n"
     ]
    },
    {
     "name": "stderr",
     "output_type": "stream",
     "text": [
      "[I 2025-01-06 13:55:22,514] Trial 423 finished with value: 0.04915038377642298 and parameters: {'topK': 70, 'alpha': 0.220655505406154, 'normalize_similarity': True, 'implicit': False}. Best is trial 10 with value: 0.05370249298547826.\n"
     ]
    },
    {
     "name": "stdout",
     "output_type": "stream",
     "text": [
      "P3alphaRecommender: Similarity column 38121 (100.0%), 2306.62 column/sec. Elapsed time 16.53 sec\n",
      "EvaluatorHoldout: Ignoring 173 ( 0.5%) Users that have less than 1 test interactions\n",
      "EvaluatorHoldout: Processed 35563 (100.0%) in 32.12 sec. Users per second: 1107\n",
      "P3alphaRecommender: Similarity column 38121 (100.0%), 2313.53 column/sec. Elapsed time 16.48 sec\n",
      "EvaluatorHoldout: Ignoring 163 ( 0.5%) Users that have less than 1 test interactions\n",
      "EvaluatorHoldout: Processed 35573 (100.0%) in 31.78 sec. Users per second: 1119\n",
      "P3alphaRecommender: Similarity column 38121 (100.0%), 2282.80 column/sec. Elapsed time 16.70 sec\n",
      "EvaluatorHoldout: Ignoring 150 ( 0.4%) Users that have less than 1 test interactions\n",
      "EvaluatorHoldout: Processed 35586 (100.0%) in 33.16 sec. Users per second: 1073\n",
      "P3alphaRecommender: Similarity column 38121 (100.0%), 2321.12 column/sec. Elapsed time 16.42 sec\n",
      "EvaluatorHoldout: Ignoring 167 ( 0.5%) Users that have less than 1 test interactions\n",
      "EvaluatorHoldout: Processed 35569 (100.0%) in 33.75 sec. Users per second: 1054\n",
      "P3alphaRecommender: Similarity column 38121 (100.0%), 2324.43 column/sec. Elapsed time 16.40 sec\n",
      "EvaluatorHoldout: Ignoring 172 ( 0.5%) Users that have less than 1 test interactions\n",
      "EvaluatorHoldout: Processed 35564 (100.0%) in 32.15 sec. Users per second: 1106\n"
     ]
    },
    {
     "name": "stderr",
     "output_type": "stream",
     "text": [
      "[I 2025-01-06 13:59:34,864] Trial 424 finished with value: 0.05340830084328356 and parameters: {'topK': 23, 'alpha': 0.40018190368334194, 'normalize_similarity': True, 'implicit': False}. Best is trial 10 with value: 0.05370249298547826.\n"
     ]
    },
    {
     "name": "stdout",
     "output_type": "stream",
     "text": [
      "P3alphaRecommender: Similarity column 38121 (100.0%), 509.52 column/sec. Elapsed time 1.25 min\n",
      "EvaluatorHoldout: Ignoring 173 ( 0.5%) Users that have less than 1 test interactions\n",
      "EvaluatorHoldout: Processed 35563 (100.0%) in 57.82 sec. Users per second: 615\n",
      "P3alphaRecommender: Similarity column 38121 (100.0%), 502.36 column/sec. Elapsed time 1.26 min\n",
      "EvaluatorHoldout: Ignoring 163 ( 0.5%) Users that have less than 1 test interactions\n",
      "EvaluatorHoldout: Processed 35573 (100.0%) in 58.97 sec. Users per second: 603\n",
      "P3alphaRecommender: Similarity column 38121 (100.0%), 498.52 column/sec. Elapsed time 1.27 min\n",
      "EvaluatorHoldout: Ignoring 150 ( 0.4%) Users that have less than 1 test interactions\n",
      "EvaluatorHoldout: Processed 35586 (100.0%) in 57.89 sec. Users per second: 615\n",
      "P3alphaRecommender: Similarity column 38121 (100.0%), 495.28 column/sec. Elapsed time 1.28 min\n",
      "EvaluatorHoldout: Ignoring 167 ( 0.5%) Users that have less than 1 test interactions\n",
      "EvaluatorHoldout: Processed 35569 (100.0%) in 57.78 sec. Users per second: 616\n",
      "P3alphaRecommender: Similarity column 38121 (100.0%), 510.81 column/sec. Elapsed time 1.24 min\n",
      "EvaluatorHoldout: Ignoring 172 ( 0.5%) Users that have less than 1 test interactions\n",
      "EvaluatorHoldout: Processed 35564 (100.0%) in 58.13 sec. Users per second: 612\n"
     ]
    },
    {
     "name": "stderr",
     "output_type": "stream",
     "text": [
      "[I 2025-01-06 14:14:57,936] Trial 425 finished with value: 0.033977001067100956 and parameters: {'topK': 1349, 'alpha': 0.5685214049321471, 'normalize_similarity': True, 'implicit': False}. Best is trial 10 with value: 0.05370249298547826.\n"
     ]
    },
    {
     "name": "stdout",
     "output_type": "stream",
     "text": [
      "P3alphaRecommender: Similarity column 38121 (100.0%), 2162.43 column/sec. Elapsed time 17.63 sec\n",
      "EvaluatorHoldout: Ignoring 173 ( 0.5%) Users that have less than 1 test interactions\n",
      "EvaluatorHoldout: Processed 35563 (100.0%) in 33.31 sec. Users per second: 1068\n",
      "P3alphaRecommender: Similarity column 38121 (100.0%), 2137.63 column/sec. Elapsed time 17.83 sec\n",
      "EvaluatorHoldout: Ignoring 163 ( 0.5%) Users that have less than 1 test interactions\n",
      "EvaluatorHoldout: Processed 35573 (100.0%) in 33.68 sec. Users per second: 1056\n",
      "P3alphaRecommender: Similarity column 38121 (100.0%), 2142.35 column/sec. Elapsed time 17.79 sec\n",
      "EvaluatorHoldout: Ignoring 150 ( 0.4%) Users that have less than 1 test interactions\n",
      "EvaluatorHoldout: Processed 35586 (100.0%) in 32.97 sec. Users per second: 1079\n",
      "P3alphaRecommender: Similarity column 38121 (100.0%), 2168.11 column/sec. Elapsed time 17.58 sec\n",
      "EvaluatorHoldout: Ignoring 167 ( 0.5%) Users that have less than 1 test interactions\n",
      "EvaluatorHoldout: Processed 35569 (100.0%) in 33.14 sec. Users per second: 1073\n",
      "P3alphaRecommender: Similarity column 38121 (100.0%), 2151.96 column/sec. Elapsed time 17.71 sec\n",
      "EvaluatorHoldout: Ignoring 172 ( 0.5%) Users that have less than 1 test interactions\n",
      "EvaluatorHoldout: Processed 35564 (100.0%) in 34.04 sec. Users per second: 1045\n"
     ]
    },
    {
     "name": "stderr",
     "output_type": "stream",
     "text": [
      "[I 2025-01-06 14:19:23,153] Trial 426 finished with value: 0.05093514492684801 and parameters: {'topK': 45, 'alpha': 0.18103863869009068, 'normalize_similarity': True, 'implicit': False}. Best is trial 10 with value: 0.05370249298547826.\n"
     ]
    },
    {
     "name": "stdout",
     "output_type": "stream",
     "text": [
      "P3alphaRecommender: Similarity column 38121 (100.0%), 1962.55 column/sec. Elapsed time 19.42 sec\n",
      "EvaluatorHoldout: Ignoring 173 ( 0.5%) Users that have less than 1 test interactions\n",
      "EvaluatorHoldout: Processed 35563 (100.0%) in 31.34 sec. Users per second: 1135\n",
      "P3alphaRecommender: Similarity column 38121 (100.0%), 1968.00 column/sec. Elapsed time 19.37 sec\n",
      "EvaluatorHoldout: Ignoring 163 ( 0.5%) Users that have less than 1 test interactions\n",
      "EvaluatorHoldout: Processed 35573 (100.0%) in 34.80 sec. Users per second: 1022\n",
      "P3alphaRecommender: Similarity column 38121 (100.0%), 1979.43 column/sec. Elapsed time 19.26 sec\n",
      "EvaluatorHoldout: Ignoring 150 ( 0.4%) Users that have less than 1 test interactions\n",
      "EvaluatorHoldout: Processed 35586 (100.0%) in 31.46 sec. Users per second: 1131\n",
      "P3alphaRecommender: Similarity column 38121 (100.0%), 1978.35 column/sec. Elapsed time 19.27 sec\n",
      "EvaluatorHoldout: Ignoring 167 ( 0.5%) Users that have less than 1 test interactions\n",
      "EvaluatorHoldout: Processed 35569 (100.0%) in 34.78 sec. Users per second: 1023\n",
      "P3alphaRecommender: Similarity column 38121 (100.0%), 1972.45 column/sec. Elapsed time 19.33 sec\n",
      "EvaluatorHoldout: Ignoring 172 ( 0.5%) Users that have less than 1 test interactions\n",
      "EvaluatorHoldout: Processed 35564 (100.0%) in 31.38 sec. Users per second: 1133\n"
     ]
    },
    {
     "name": "stderr",
     "output_type": "stream",
     "text": [
      "[I 2025-01-06 14:23:59,309] Trial 427 finished with value: 0.04845475803253587 and parameters: {'topK': 85, 'alpha': 0.5124765869690351, 'normalize_similarity': True, 'implicit': False}. Best is trial 10 with value: 0.05370249298547826.\n"
     ]
    },
    {
     "name": "stdout",
     "output_type": "stream",
     "text": [
      "P3alphaRecommender: Similarity column 38121 (100.0%), 3370.08 column/sec. Elapsed time 11.31 sec\n",
      "EvaluatorHoldout: Ignoring 173 ( 0.5%) Users that have less than 1 test interactions\n",
      "EvaluatorHoldout: Processed 35563 (100.0%) in 25.18 sec. Users per second: 1413\n",
      "P3alphaRecommender: Similarity column 38121 (100.0%), 3310.09 column/sec. Elapsed time 11.52 sec\n",
      "EvaluatorHoldout: Ignoring 163 ( 0.5%) Users that have less than 1 test interactions\n",
      "EvaluatorHoldout: Processed 35573 (100.0%) in 25.43 sec. Users per second: 1399\n",
      "P3alphaRecommender: Similarity column 38121 (100.0%), 3323.94 column/sec. Elapsed time 11.47 sec\n",
      "EvaluatorHoldout: Ignoring 150 ( 0.4%) Users that have less than 1 test interactions\n",
      "EvaluatorHoldout: Processed 35586 (100.0%) in 25.17 sec. Users per second: 1414\n",
      "P3alphaRecommender: Similarity column 38121 (100.0%), 3334.43 column/sec. Elapsed time 11.43 sec\n",
      "EvaluatorHoldout: Ignoring 167 ( 0.5%) Users that have less than 1 test interactions\n",
      "EvaluatorHoldout: Processed 35569 (100.0%) in 26.49 sec. Users per second: 1343\n",
      "P3alphaRecommender: Similarity column 38121 (100.0%), 3349.83 column/sec. Elapsed time 11.38 sec\n",
      "EvaluatorHoldout: Ignoring 172 ( 0.5%) Users that have less than 1 test interactions\n",
      "EvaluatorHoldout: Processed 35564 (100.0%) in 25.46 sec. Users per second: 1397\n"
     ]
    },
    {
     "name": "stderr",
     "output_type": "stream",
     "text": [
      "[I 2025-01-06 14:27:05,180] Trial 428 finished with value: 0.0002664826418719655 and parameters: {'topK': 0, 'alpha': 0.45842669266460784, 'normalize_similarity': True, 'implicit': False}. Best is trial 10 with value: 0.05370249298547826.\n"
     ]
    },
    {
     "name": "stdout",
     "output_type": "stream",
     "text": [
      "P3alphaRecommender: Similarity column 38121 (100.0%), 2313.97 column/sec. Elapsed time 16.47 sec\n",
      "EvaluatorHoldout: Ignoring 173 ( 0.5%) Users that have less than 1 test interactions\n",
      "EvaluatorHoldout: Processed 35563 (100.0%) in 32.22 sec. Users per second: 1104\n",
      "P3alphaRecommender: Similarity column 38121 (100.0%), 2291.36 column/sec. Elapsed time 16.64 sec\n",
      "EvaluatorHoldout: Ignoring 163 ( 0.5%) Users that have less than 1 test interactions\n",
      "EvaluatorHoldout: Processed 35573 (100.0%) in 31.90 sec. Users per second: 1115\n",
      "P3alphaRecommender: Similarity column 38121 (100.0%), 2294.92 column/sec. Elapsed time 16.61 sec\n",
      "EvaluatorHoldout: Ignoring 150 ( 0.4%) Users that have less than 1 test interactions\n",
      "EvaluatorHoldout: Processed 35586 (100.0%) in 31.92 sec. Users per second: 1115\n",
      "P3alphaRecommender: Similarity column 38121 (100.0%), 2302.54 column/sec. Elapsed time 16.56 sec\n",
      "EvaluatorHoldout: Ignoring 167 ( 0.5%) Users that have less than 1 test interactions\n",
      "EvaluatorHoldout: Processed 35569 (100.0%) in 32.77 sec. Users per second: 1085\n",
      "P3alphaRecommender: Similarity column 38121 (100.0%), 2278.63 column/sec. Elapsed time 16.73 sec\n",
      "EvaluatorHoldout: Ignoring 172 ( 0.5%) Users that have less than 1 test interactions\n",
      "EvaluatorHoldout: Processed 35564 (100.0%) in 32.61 sec. Users per second: 1091\n"
     ]
    },
    {
     "name": "stderr",
     "output_type": "stream",
     "text": [
      "[I 2025-01-06 14:31:16,658] Trial 429 finished with value: 0.053198648233263736 and parameters: {'topK': 25, 'alpha': 0.37979412747060143, 'normalize_similarity': True, 'implicit': False}. Best is trial 10 with value: 0.05370249298547826.\n"
     ]
    },
    {
     "name": "stdout",
     "output_type": "stream",
     "text": [
      "P3alphaRecommender: Similarity column 38121 (100.0%), 2131.56 column/sec. Elapsed time 17.88 sec\n",
      "EvaluatorHoldout: Ignoring 173 ( 0.5%) Users that have less than 1 test interactions\n",
      "EvaluatorHoldout: Processed 35563 (100.0%) in 33.98 sec. Users per second: 1047\n",
      "P3alphaRecommender: Similarity column 38121 (100.0%), 2145.15 column/sec. Elapsed time 17.77 sec\n",
      "EvaluatorHoldout: Ignoring 163 ( 0.5%) Users that have less than 1 test interactions\n",
      "EvaluatorHoldout: Processed 35573 (100.0%) in 33.94 sec. Users per second: 1048\n",
      "P3alphaRecommender: Similarity column 38121 (100.0%), 2141.84 column/sec. Elapsed time 17.80 sec\n",
      "EvaluatorHoldout: Ignoring 150 ( 0.4%) Users that have less than 1 test interactions\n",
      "EvaluatorHoldout: Processed 35586 (100.0%) in 33.72 sec. Users per second: 1055\n",
      "P3alphaRecommender: Similarity column 38121 (100.0%), 2146.18 column/sec. Elapsed time 17.76 sec\n",
      "EvaluatorHoldout: Ignoring 167 ( 0.5%) Users that have less than 1 test interactions\n",
      "EvaluatorHoldout: Processed 35569 (100.0%) in 33.65 sec. Users per second: 1057\n",
      "P3alphaRecommender: Similarity column 38121 (100.0%), 2137.94 column/sec. Elapsed time 17.83 sec\n",
      "EvaluatorHoldout: Ignoring 172 ( 0.5%) Users that have less than 1 test interactions\n",
      "EvaluatorHoldout: Processed 35564 (100.0%) in 33.84 sec. Users per second: 1051\n"
     ]
    },
    {
     "name": "stderr",
     "output_type": "stream",
     "text": [
      "[I 2025-01-06 14:35:45,165] Trial 430 finished with value: 0.03936238094782014 and parameters: {'topK': 51, 'alpha': 0.38012706509546434, 'normalize_similarity': False, 'implicit': True}. Best is trial 10 with value: 0.05370249298547826.\n"
     ]
    },
    {
     "name": "stdout",
     "output_type": "stream",
     "text": [
      "P3alphaRecommender: Similarity column 38121 (100.0%), 1855.41 column/sec. Elapsed time 20.55 sec\n",
      "EvaluatorHoldout: Ignoring 173 ( 0.5%) Users that have less than 1 test interactions\n",
      "EvaluatorHoldout: Processed 35563 (100.0%) in 31.62 sec. Users per second: 1125\n",
      "P3alphaRecommender: Similarity column 38121 (100.0%), 1839.35 column/sec. Elapsed time 20.73 sec\n",
      "EvaluatorHoldout: Ignoring 163 ( 0.5%) Users that have less than 1 test interactions\n",
      "EvaluatorHoldout: Processed 35573 (100.0%) in 31.68 sec. Users per second: 1123\n",
      "P3alphaRecommender: Similarity column 38121 (100.0%), 1839.11 column/sec. Elapsed time 20.73 sec\n",
      "EvaluatorHoldout: Ignoring 150 ( 0.4%) Users that have less than 1 test interactions\n",
      "EvaluatorHoldout: Processed 35586 (100.0%) in 31.61 sec. Users per second: 1126\n",
      "P3alphaRecommender: Similarity column 38121 (100.0%), 1856.06 column/sec. Elapsed time 20.54 sec\n",
      "EvaluatorHoldout: Ignoring 167 ( 0.5%) Users that have less than 1 test interactions\n",
      "EvaluatorHoldout: Processed 35569 (100.0%) in 31.42 sec. Users per second: 1132\n",
      "P3alphaRecommender: Similarity column 38121 (100.0%), 1839.83 column/sec. Elapsed time 20.72 sec\n",
      "EvaluatorHoldout: Ignoring 172 ( 0.5%) Users that have less than 1 test interactions\n",
      "EvaluatorHoldout: Processed 35564 (100.0%) in 31.55 sec. Users per second: 1127\n"
     ]
    },
    {
     "name": "stderr",
     "output_type": "stream",
     "text": [
      "[I 2025-01-06 14:40:25,343] Trial 431 finished with value: 0.04680131825691733 and parameters: {'topK': 111, 'alpha': 0.26124060856470405, 'normalize_similarity': True, 'implicit': False}. Best is trial 10 with value: 0.05370249298547826.\n"
     ]
    },
    {
     "name": "stdout",
     "output_type": "stream",
     "text": [
      "P3alphaRecommender: Similarity column 38121 (100.0%), 2293.48 column/sec. Elapsed time 16.62 sec\n",
      "EvaluatorHoldout: Ignoring 173 ( 0.5%) Users that have less than 1 test interactions\n",
      "EvaluatorHoldout: Processed 35563 (100.0%) in 32.18 sec. Users per second: 1105\n",
      "P3alphaRecommender: Similarity column 38121 (100.0%), 2243.66 column/sec. Elapsed time 16.99 sec\n",
      "EvaluatorHoldout: Ignoring 163 ( 0.5%) Users that have less than 1 test interactions\n",
      "EvaluatorHoldout: Processed 35573 (100.0%) in 33.48 sec. Users per second: 1063\n",
      "P3alphaRecommender: Similarity column 38121 (100.0%), 2233.65 column/sec. Elapsed time 17.07 sec\n",
      "EvaluatorHoldout: Ignoring 150 ( 0.4%) Users that have less than 1 test interactions\n",
      "EvaluatorHoldout: Processed 35586 (100.0%) in 32.27 sec. Users per second: 1103\n",
      "P3alphaRecommender: Similarity column 38121 (100.0%), 2261.81 column/sec. Elapsed time 16.85 sec\n",
      "EvaluatorHoldout: Ignoring 167 ( 0.5%) Users that have less than 1 test interactions\n",
      "EvaluatorHoldout: Processed 35569 (100.0%) in 32.37 sec. Users per second: 1099\n",
      "P3alphaRecommender: Similarity column 38121 (100.0%), 2238.93 column/sec. Elapsed time 17.03 sec\n",
      "EvaluatorHoldout: Ignoring 172 ( 0.5%) Users that have less than 1 test interactions\n",
      "EvaluatorHoldout: Processed 35564 (100.0%) in 32.46 sec. Users per second: 1096\n"
     ]
    },
    {
     "name": "stderr",
     "output_type": "stream",
     "text": [
      "[I 2025-01-06 14:44:40,094] Trial 432 finished with value: 0.05271034373074329 and parameters: {'topK': 29, 'alpha': 0.3099043592539802, 'normalize_similarity': True, 'implicit': False}. Best is trial 10 with value: 0.05370249298547826.\n"
     ]
    },
    {
     "name": "stdout",
     "output_type": "stream",
     "text": [
      "P3alphaRecommender: Similarity column 38121 (100.0%), 2020.49 column/sec. Elapsed time 18.87 sec\n",
      "EvaluatorHoldout: Ignoring 173 ( 0.5%) Users that have less than 1 test interactions\n",
      "EvaluatorHoldout: Processed 35563 (100.0%) in 35.03 sec. Users per second: 1015\n",
      "P3alphaRecommender: Similarity column 38121 (100.0%), 1986.23 column/sec. Elapsed time 19.19 sec\n",
      "EvaluatorHoldout: Ignoring 163 ( 0.5%) Users that have less than 1 test interactions\n",
      "EvaluatorHoldout: Processed 35573 (100.0%) in 34.55 sec. Users per second: 1030\n",
      "P3alphaRecommender: Similarity column 38121 (100.0%), 1993.54 column/sec. Elapsed time 19.12 sec\n",
      "EvaluatorHoldout: Ignoring 150 ( 0.4%) Users that have less than 1 test interactions\n",
      "EvaluatorHoldout: Processed 35586 (100.0%) in 35.48 sec. Users per second: 1003\n",
      "P3alphaRecommender: Similarity column 38121 (100.0%), 1984.81 column/sec. Elapsed time 19.21 sec\n",
      "EvaluatorHoldout: Ignoring 167 ( 0.5%) Users that have less than 1 test interactions\n",
      "EvaluatorHoldout: Processed 35569 (100.0%) in 34.66 sec. Users per second: 1026\n",
      "P3alphaRecommender: Similarity column 38121 (100.0%), 1996.04 column/sec. Elapsed time 19.10 sec\n",
      "EvaluatorHoldout: Ignoring 172 ( 0.5%) Users that have less than 1 test interactions\n",
      "EvaluatorHoldout: Processed 35564 (100.0%) in 34.35 sec. Users per second: 1035\n"
     ]
    },
    {
     "name": "stderr",
     "output_type": "stream",
     "text": [
      "[I 2025-01-06 14:49:23,594] Trial 433 finished with value: 0.04926216927731234 and parameters: {'topK': 73, 'alpha': 0.3706558713933226, 'normalize_similarity': True, 'implicit': False}. Best is trial 10 with value: 0.05370249298547826.\n"
     ]
    },
    {
     "name": "stdout",
     "output_type": "stream",
     "text": [
      "P3alphaRecommender: Similarity column 38121 (100.0%), 2281.56 column/sec. Elapsed time 16.71 sec\n",
      "EvaluatorHoldout: Ignoring 173 ( 0.5%) Users that have less than 1 test interactions\n",
      "EvaluatorHoldout: Processed 35563 (100.0%) in 32.47 sec. Users per second: 1095\n",
      "P3alphaRecommender: Similarity column 38121 (100.0%), 2261.15 column/sec. Elapsed time 16.86 sec\n",
      "EvaluatorHoldout: Ignoring 163 ( 0.5%) Users that have less than 1 test interactions\n",
      "EvaluatorHoldout: Processed 35573 (100.0%) in 32.55 sec. Users per second: 1093\n",
      "P3alphaRecommender: Similarity column 38121 (100.0%), 2247.83 column/sec. Elapsed time 16.96 sec\n",
      "EvaluatorHoldout: Ignoring 150 ( 0.4%) Users that have less than 1 test interactions\n",
      "EvaluatorHoldout: Processed 35586 (100.0%) in 33.45 sec. Users per second: 1064\n",
      "P3alphaRecommender: Similarity column 38121 (100.0%), 2261.85 column/sec. Elapsed time 16.85 sec\n",
      "EvaluatorHoldout: Ignoring 167 ( 0.5%) Users that have less than 1 test interactions\n",
      "EvaluatorHoldout: Processed 35569 (100.0%) in 32.26 sec. Users per second: 1103\n",
      "P3alphaRecommender: Similarity column 38121 (100.0%), 2246.77 column/sec. Elapsed time 16.97 sec\n",
      "EvaluatorHoldout: Ignoring 172 ( 0.5%) Users that have less than 1 test interactions\n",
      "EvaluatorHoldout: Processed 35564 (100.0%) in 32.30 sec. Users per second: 1101\n"
     ]
    },
    {
     "name": "stderr",
     "output_type": "stream",
     "text": [
      "[I 2025-01-06 14:53:38,400] Trial 434 finished with value: 0.05272854410424118 and parameters: {'topK': 29, 'alpha': 0.33912516279110083, 'normalize_similarity': True, 'implicit': False}. Best is trial 10 with value: 0.05370249298547826.\n"
     ]
    },
    {
     "name": "stdout",
     "output_type": "stream",
     "text": [
      "P3alphaRecommender: Similarity column 38121 (100.0%), 749.44 column/sec. Elapsed time 50.87 sec\n",
      "EvaluatorHoldout: Ignoring 173 ( 0.5%) Users that have less than 1 test interactions\n",
      "EvaluatorHoldout: Processed 35563 (100.0%) in 49.24 sec. Users per second: 722\n",
      "P3alphaRecommender: Similarity column 38121 (100.0%), 746.06 column/sec. Elapsed time 51.10 sec\n",
      "EvaluatorHoldout: Ignoring 163 ( 0.5%) Users that have less than 1 test interactions\n",
      "EvaluatorHoldout: Processed 35573 (100.0%) in 48.78 sec. Users per second: 729\n",
      "P3alphaRecommender: Similarity column 38121 (100.0%), 749.18 column/sec. Elapsed time 50.88 sec\n",
      "EvaluatorHoldout: Ignoring 150 ( 0.4%) Users that have less than 1 test interactions\n",
      "EvaluatorHoldout: Processed 35586 (100.0%) in 49.15 sec. Users per second: 724\n",
      "P3alphaRecommender: Similarity column 38121 (100.0%), 735.51 column/sec. Elapsed time 51.83 sec\n",
      "EvaluatorHoldout: Ignoring 167 ( 0.5%) Users that have less than 1 test interactions\n",
      "EvaluatorHoldout: Processed 35569 (100.0%) in 48.91 sec. Users per second: 727\n",
      "P3alphaRecommender: Similarity column 38121 (100.0%), 751.82 column/sec. Elapsed time 50.70 sec\n",
      "EvaluatorHoldout: Ignoring 172 ( 0.5%) Users that have less than 1 test interactions\n",
      "EvaluatorHoldout: Processed 35564 (100.0%) in 49.33 sec. Users per second: 721\n"
     ]
    },
    {
     "name": "stderr",
     "output_type": "stream",
     "text": [
      "[I 2025-01-06 15:04:18,986] Trial 435 finished with value: 0.03640940162214149 and parameters: {'topK': 725, 'alpha': 0.6151911699133924, 'normalize_similarity': True, 'implicit': False}. Best is trial 10 with value: 0.05370249298547826.\n"
     ]
    },
    {
     "name": "stdout",
     "output_type": "stream",
     "text": [
      "P3alphaRecommender: Similarity column 38121 (100.0%), 3495.04 column/sec. Elapsed time 10.91 sec\n",
      "EvaluatorHoldout: Ignoring 173 ( 0.5%) Users that have less than 1 test interactions\n",
      "EvaluatorHoldout: Processed 35563 (100.0%) in 27.13 sec. Users per second: 1311\n",
      "P3alphaRecommender: Similarity column 38121 (100.0%), 3470.46 column/sec. Elapsed time 10.98 sec\n",
      "EvaluatorHoldout: Ignoring 163 ( 0.5%) Users that have less than 1 test interactions\n",
      "EvaluatorHoldout: Processed 35573 (100.0%) in 27.32 sec. Users per second: 1302\n",
      "P3alphaRecommender: Similarity column 38121 (100.0%), 3497.67 column/sec. Elapsed time 10.90 sec\n",
      "EvaluatorHoldout: Ignoring 150 ( 0.4%) Users that have less than 1 test interactions\n",
      "EvaluatorHoldout: Processed 35586 (100.0%) in 27.24 sec. Users per second: 1306\n",
      "P3alphaRecommender: Similarity column 38121 (100.0%), 3561.85 column/sec. Elapsed time 10.70 sec\n",
      "EvaluatorHoldout: Ignoring 167 ( 0.5%) Users that have less than 1 test interactions\n",
      "EvaluatorHoldout: Processed 35569 (100.0%) in 27.21 sec. Users per second: 1307\n",
      "P3alphaRecommender: Similarity column 38121 (100.0%), 3559.53 column/sec. Elapsed time 10.71 sec\n",
      "EvaluatorHoldout: Ignoring 172 ( 0.5%) Users that have less than 1 test interactions\n",
      "EvaluatorHoldout: Processed 35564 (100.0%) in 27.21 sec. Users per second: 1307\n"
     ]
    },
    {
     "name": "stderr",
     "output_type": "stream",
     "text": [
      "[I 2025-01-06 15:07:33,024] Trial 436 finished with value: 0.02076949636764042 and parameters: {'topK': 1, 'alpha': 0.21126044588703025, 'normalize_similarity': True, 'implicit': False}. Best is trial 10 with value: 0.05370249298547826.\n"
     ]
    },
    {
     "name": "stdout",
     "output_type": "stream",
     "text": [
      "P3alphaRecommender: Similarity column 38121 (100.0%), 2178.38 column/sec. Elapsed time 17.50 sec\n",
      "EvaluatorHoldout: Ignoring 173 ( 0.5%) Users that have less than 1 test interactions\n",
      "EvaluatorHoldout: Processed 35563 (100.0%) in 33.76 sec. Users per second: 1053\n",
      "P3alphaRecommender: Similarity column 38121 (100.0%), 2137.10 column/sec. Elapsed time 17.84 sec\n",
      "EvaluatorHoldout: Ignoring 163 ( 0.5%) Users that have less than 1 test interactions\n",
      "EvaluatorHoldout: Processed 35573 (100.0%) in 34.10 sec. Users per second: 1043\n",
      "P3alphaRecommender: Similarity column 38121 (100.0%), 2109.39 column/sec. Elapsed time 18.07 sec\n",
      "EvaluatorHoldout: Ignoring 150 ( 0.4%) Users that have less than 1 test interactions\n",
      "EvaluatorHoldout: Processed 35586 (100.0%) in 34.27 sec. Users per second: 1038\n",
      "P3alphaRecommender: Similarity column 38121 (100.0%), 2138.97 column/sec. Elapsed time 17.82 sec\n",
      "EvaluatorHoldout: Ignoring 167 ( 0.5%) Users that have less than 1 test interactions\n",
      "EvaluatorHoldout: Processed 35569 (100.0%) in 33.73 sec. Users per second: 1055\n",
      "P3alphaRecommender: Similarity column 38121 (100.0%), 2147.06 column/sec. Elapsed time 17.75 sec\n",
      "EvaluatorHoldout: Ignoring 172 ( 0.5%) Users that have less than 1 test interactions\n",
      "EvaluatorHoldout: Processed 35564 (100.0%) in 33.91 sec. Users per second: 1049\n"
     ]
    },
    {
     "name": "stderr",
     "output_type": "stream",
     "text": [
      "[I 2025-01-06 15:12:03,335] Trial 437 finished with value: 0.050486416511203426 and parameters: {'topK': 57, 'alpha': 0.41778772059782526, 'normalize_similarity': True, 'implicit': False}. Best is trial 10 with value: 0.05370249298547826.\n"
     ]
    },
    {
     "name": "stdout",
     "output_type": "stream",
     "text": [
      "P3alphaRecommender: Similarity column 38121 (100.0%), 1923.96 column/sec. Elapsed time 19.81 sec\n",
      "EvaluatorHoldout: Ignoring 173 ( 0.5%) Users that have less than 1 test interactions\n",
      "EvaluatorHoldout: Processed 35563 (100.0%) in 31.06 sec. Users per second: 1145\n",
      "P3alphaRecommender: Similarity column 38121 (100.0%), 1913.89 column/sec. Elapsed time 19.92 sec\n",
      "EvaluatorHoldout: Ignoring 163 ( 0.5%) Users that have less than 1 test interactions\n",
      "EvaluatorHoldout: Processed 35573 (100.0%) in 30.96 sec. Users per second: 1149\n",
      "P3alphaRecommender: Similarity column 38121 (100.0%), 1924.42 column/sec. Elapsed time 19.81 sec\n",
      "EvaluatorHoldout: Ignoring 150 ( 0.4%) Users that have less than 1 test interactions\n",
      "EvaluatorHoldout: Processed 35586 (100.0%) in 30.89 sec. Users per second: 1152\n",
      "P3alphaRecommender: Similarity column 38121 (100.0%), 1882.59 column/sec. Elapsed time 20.25 sec\n",
      "EvaluatorHoldout: Ignoring 167 ( 0.5%) Users that have less than 1 test interactions\n",
      "EvaluatorHoldout: Processed 35569 (100.0%) in 31.52 sec. Users per second: 1129\n",
      "P3alphaRecommender: Similarity column 38121 (100.0%), 1909.98 column/sec. Elapsed time 19.96 sec\n",
      "EvaluatorHoldout: Ignoring 172 ( 0.5%) Users that have less than 1 test interactions\n",
      "EvaluatorHoldout: Processed 35564 (100.0%) in 30.96 sec. Users per second: 1149\n"
     ]
    },
    {
     "name": "stderr",
     "output_type": "stream",
     "text": [
      "[I 2025-01-06 15:16:35,534] Trial 438 finished with value: 0.04771072055869466 and parameters: {'topK': 96, 'alpha': 0.30779831672553776, 'normalize_similarity': True, 'implicit': False}. Best is trial 10 with value: 0.05370249298547826.\n"
     ]
    },
    {
     "name": "stdout",
     "output_type": "stream",
     "text": [
      "P3alphaRecommender: Similarity column 38121 (100.0%), 2299.99 column/sec. Elapsed time 16.57 sec\n",
      "EvaluatorHoldout: Ignoring 173 ( 0.5%) Users that have less than 1 test interactions\n",
      "EvaluatorHoldout: Processed 35563 (100.0%) in 32.02 sec. Users per second: 1111\n",
      "P3alphaRecommender: Similarity column 38121 (100.0%), 2281.13 column/sec. Elapsed time 16.71 sec\n",
      "EvaluatorHoldout: Ignoring 163 ( 0.5%) Users that have less than 1 test interactions\n",
      "EvaluatorHoldout: Processed 35573 (100.0%) in 32.14 sec. Users per second: 1107\n",
      "P3alphaRecommender: Similarity column 38121 (100.0%), 2279.53 column/sec. Elapsed time 16.72 sec\n",
      "EvaluatorHoldout: Ignoring 150 ( 0.4%) Users that have less than 1 test interactions\n",
      "EvaluatorHoldout: Processed 35586 (100.0%) in 31.88 sec. Users per second: 1116\n",
      "P3alphaRecommender: Similarity column 38121 (100.0%), 2286.84 column/sec. Elapsed time 16.67 sec\n",
      "EvaluatorHoldout: Ignoring 167 ( 0.5%) Users that have less than 1 test interactions\n",
      "EvaluatorHoldout: Processed 35569 (100.0%) in 31.86 sec. Users per second: 1116\n",
      "P3alphaRecommender: Similarity column 38121 (100.0%), 2259.72 column/sec. Elapsed time 16.87 sec\n",
      "EvaluatorHoldout: Ignoring 172 ( 0.5%) Users that have less than 1 test interactions\n",
      "EvaluatorHoldout: Processed 35564 (100.0%) in 32.14 sec. Users per second: 1106\n"
     ]
    },
    {
     "name": "stderr",
     "output_type": "stream",
     "text": [
      "[I 2025-01-06 15:20:46,047] Trial 439 finished with value: 0.052565096218566455 and parameters: {'topK': 27, 'alpha': 0.14891757194930638, 'normalize_similarity': True, 'implicit': False}. Best is trial 10 with value: 0.05370249298547826.\n"
     ]
    },
    {
     "name": "stdout",
     "output_type": "stream",
     "text": [
      "P3alphaRecommender: Similarity column 38121 (100.0%), 2114.47 column/sec. Elapsed time 18.03 sec\n",
      "EvaluatorHoldout: Ignoring 173 ( 0.5%) Users that have less than 1 test interactions\n",
      "EvaluatorHoldout: Processed 35563 (100.0%) in 33.40 sec. Users per second: 1065\n",
      "P3alphaRecommender: Similarity column 38121 (100.0%), 2127.08 column/sec. Elapsed time 17.92 sec\n",
      "EvaluatorHoldout: Ignoring 163 ( 0.5%) Users that have less than 1 test interactions\n",
      "EvaluatorHoldout: Processed 35573 (100.0%) in 33.44 sec. Users per second: 1064\n",
      "P3alphaRecommender: Similarity column 38121 (100.0%), 2110.46 column/sec. Elapsed time 18.06 sec\n",
      "EvaluatorHoldout: Ignoring 150 ( 0.4%) Users that have less than 1 test interactions\n",
      "EvaluatorHoldout: Processed 35586 (100.0%) in 33.47 sec. Users per second: 1063\n",
      "P3alphaRecommender: Similarity column 38121 (100.0%), 2139.37 column/sec. Elapsed time 17.82 sec\n",
      "EvaluatorHoldout: Ignoring 167 ( 0.5%) Users that have less than 1 test interactions\n",
      "EvaluatorHoldout: Processed 35569 (100.0%) in 33.70 sec. Users per second: 1055\n",
      "P3alphaRecommender: Similarity column 38121 (100.0%), 2124.74 column/sec. Elapsed time 17.94 sec\n",
      "EvaluatorHoldout: Ignoring 172 ( 0.5%) Users that have less than 1 test interactions\n",
      "EvaluatorHoldout: Processed 35564 (100.0%) in 33.62 sec. Users per second: 1058\n"
     ]
    },
    {
     "name": "stderr",
     "output_type": "stream",
     "text": [
      "[I 2025-01-06 15:25:14,086] Trial 440 finished with value: 0.05040589217819526 and parameters: {'topK': 54, 'alpha': 0.24541444885913863, 'normalize_similarity': True, 'implicit': False}. Best is trial 10 with value: 0.05370249298547826.\n"
     ]
    },
    {
     "name": "stdout",
     "output_type": "stream",
     "text": [
      "P3alphaRecommender: Similarity column 38121 (100.0%), 1793.76 column/sec. Elapsed time 21.25 sec\n",
      "EvaluatorHoldout: Ignoring 173 ( 0.5%) Users that have less than 1 test interactions\n",
      "EvaluatorHoldout: Processed 35563 (100.0%) in 32.42 sec. Users per second: 1097\n",
      "P3alphaRecommender: Similarity column 38121 (100.0%), 1784.96 column/sec. Elapsed time 21.36 sec\n",
      "EvaluatorHoldout: Ignoring 163 ( 0.5%) Users that have less than 1 test interactions\n",
      "EvaluatorHoldout: Processed 35573 (100.0%) in 32.24 sec. Users per second: 1103\n",
      "P3alphaRecommender: Similarity column 38121 (100.0%), 1776.07 column/sec. Elapsed time 21.46 sec\n",
      "EvaluatorHoldout: Ignoring 150 ( 0.4%) Users that have less than 1 test interactions\n",
      "EvaluatorHoldout: Processed 35586 (100.0%) in 32.06 sec. Users per second: 1110\n",
      "P3alphaRecommender: Similarity column 38121 (100.0%), 1789.03 column/sec. Elapsed time 21.31 sec\n",
      "EvaluatorHoldout: Ignoring 167 ( 0.5%) Users that have less than 1 test interactions\n",
      "EvaluatorHoldout: Processed 35569 (100.0%) in 32.04 sec. Users per second: 1110\n",
      "P3alphaRecommender: Similarity column 38121 (100.0%), 1781.04 column/sec. Elapsed time 21.40 sec\n",
      "EvaluatorHoldout: Ignoring 172 ( 0.5%) Users that have less than 1 test interactions\n",
      "EvaluatorHoldout: Processed 35564 (100.0%) in 33.17 sec. Users per second: 1072\n"
     ]
    },
    {
     "name": "stderr",
     "output_type": "stream",
     "text": [
      "[I 2025-01-06 15:30:05,410] Trial 441 finished with value: 0.046031040729327774 and parameters: {'topK': 131, 'alpha': 0.3911326801862697, 'normalize_similarity': True, 'implicit': False}. Best is trial 10 with value: 0.05370249298547826.\n"
     ]
    },
    {
     "name": "stdout",
     "output_type": "stream",
     "text": [
      "P3alphaRecommender: Similarity column 38121 (100.0%), 2296.78 column/sec. Elapsed time 16.60 sec\n",
      "EvaluatorHoldout: Ignoring 173 ( 0.5%) Users that have less than 1 test interactions\n",
      "EvaluatorHoldout: Processed 35563 (100.0%) in 31.84 sec. Users per second: 1117\n",
      "P3alphaRecommender: Similarity column 38121 (100.0%), 2297.29 column/sec. Elapsed time 16.59 sec\n",
      "EvaluatorHoldout: Ignoring 163 ( 0.5%) Users that have less than 1 test interactions\n",
      "EvaluatorHoldout: Processed 35573 (100.0%) in 31.81 sec. Users per second: 1118\n",
      "P3alphaRecommender: Similarity column 38121 (100.0%), 2291.08 column/sec. Elapsed time 16.64 sec\n",
      "EvaluatorHoldout: Ignoring 150 ( 0.4%) Users that have less than 1 test interactions\n",
      "EvaluatorHoldout: Processed 35586 (100.0%) in 31.78 sec. Users per second: 1120\n",
      "P3alphaRecommender: Similarity column 38121 (100.0%), 2329.76 column/sec. Elapsed time 16.36 sec\n",
      "EvaluatorHoldout: Ignoring 167 ( 0.5%) Users that have less than 1 test interactions\n",
      "EvaluatorHoldout: Processed 35569 (100.0%) in 31.71 sec. Users per second: 1122\n",
      "P3alphaRecommender: Similarity column 38121 (100.0%), 2350.20 column/sec. Elapsed time 16.22 sec\n",
      "EvaluatorHoldout: Ignoring 172 ( 0.5%) Users that have less than 1 test interactions\n",
      "EvaluatorHoldout: Processed 35564 (100.0%) in 31.94 sec. Users per second: 1114\n"
     ]
    },
    {
     "name": "stderr",
     "output_type": "stream",
     "text": [
      "[I 2025-01-06 15:34:13,814] Trial 442 finished with value: 0.05315179229717726 and parameters: {'topK': 25, 'alpha': 0.28237216099949375, 'normalize_similarity': True, 'implicit': True}. Best is trial 10 with value: 0.05370249298547826.\n"
     ]
    },
    {
     "name": "stdout",
     "output_type": "stream",
     "text": [
      "P3alphaRecommender: Similarity column 38121 (100.0%), 1992.90 column/sec. Elapsed time 19.13 sec\n",
      "EvaluatorHoldout: Ignoring 173 ( 0.5%) Users that have less than 1 test interactions\n",
      "EvaluatorHoldout: Processed 35563 (100.0%) in 34.42 sec. Users per second: 1033\n",
      "P3alphaRecommender: Similarity column 38121 (100.0%), 2000.54 column/sec. Elapsed time 19.06 sec\n",
      "EvaluatorHoldout: Ignoring 163 ( 0.5%) Users that have less than 1 test interactions\n",
      "EvaluatorHoldout: Processed 35573 (100.0%) in 34.71 sec. Users per second: 1025\n",
      "P3alphaRecommender: Similarity column 38121 (100.0%), 1981.37 column/sec. Elapsed time 19.24 sec\n",
      "EvaluatorHoldout: Ignoring 150 ( 0.4%) Users that have less than 1 test interactions\n",
      "EvaluatorHoldout: Processed 35586 (100.0%) in 34.90 sec. Users per second: 1020\n",
      "P3alphaRecommender: Similarity column 38121 (100.0%), 1981.40 column/sec. Elapsed time 19.24 sec\n",
      "EvaluatorHoldout: Ignoring 167 ( 0.5%) Users that have less than 1 test interactions\n",
      "EvaluatorHoldout: Processed 35569 (100.0%) in 34.51 sec. Users per second: 1031\n",
      "P3alphaRecommender: Similarity column 38121 (100.0%), 1981.16 column/sec. Elapsed time 19.24 sec\n",
      "EvaluatorHoldout: Ignoring 172 ( 0.5%) Users that have less than 1 test interactions\n",
      "EvaluatorHoldout: Processed 35564 (100.0%) in 34.60 sec. Users per second: 1028\n"
     ]
    },
    {
     "name": "stderr",
     "output_type": "stream",
     "text": [
      "[I 2025-01-06 15:38:57,214] Trial 443 finished with value: 0.04889570091477457 and parameters: {'topK': 78, 'alpha': 0.3532195739058696, 'normalize_similarity': True, 'implicit': False}. Best is trial 10 with value: 0.05370249298547826.\n"
     ]
    },
    {
     "name": "stdout",
     "output_type": "stream",
     "text": [
      "P3alphaRecommender: Similarity column 38121 (100.0%), 3333.46 column/sec. Elapsed time 11.44 sec\n",
      "EvaluatorHoldout: Ignoring 173 ( 0.5%) Users that have less than 1 test interactions\n",
      "EvaluatorHoldout: Processed 35563 (100.0%) in 25.46 sec. Users per second: 1397\n",
      "P3alphaRecommender: Similarity column 38121 (100.0%), 3355.72 column/sec. Elapsed time 11.36 sec\n",
      "EvaluatorHoldout: Ignoring 163 ( 0.5%) Users that have less than 1 test interactions\n",
      "EvaluatorHoldout: Processed 35573 (100.0%) in 25.59 sec. Users per second: 1390\n",
      "P3alphaRecommender: Similarity column 38121 (100.0%), 3323.04 column/sec. Elapsed time 11.47 sec\n",
      "EvaluatorHoldout: Ignoring 150 ( 0.4%) Users that have less than 1 test interactions\n",
      "EvaluatorHoldout: Processed 35586 (100.0%) in 25.36 sec. Users per second: 1403\n",
      "P3alphaRecommender: Similarity column 38121 (100.0%), 3333.37 column/sec. Elapsed time 11.44 sec\n",
      "EvaluatorHoldout: Ignoring 167 ( 0.5%) Users that have less than 1 test interactions\n",
      "EvaluatorHoldout: Processed 35569 (100.0%) in 25.44 sec. Users per second: 1398\n",
      "P3alphaRecommender: Similarity column 38121 (100.0%), 3351.78 column/sec. Elapsed time 11.37 sec\n",
      "EvaluatorHoldout: Ignoring 172 ( 0.5%) Users that have less than 1 test interactions\n",
      "EvaluatorHoldout: Processed 35564 (100.0%) in 25.51 sec. Users per second: 1394\n"
     ]
    },
    {
     "name": "stderr",
     "output_type": "stream",
     "text": [
      "[I 2025-01-06 15:42:02,682] Trial 444 finished with value: 0.0002664826418719655 and parameters: {'topK': 0, 'alpha': 0.10139974197041582, 'normalize_similarity': True, 'implicit': False}. Best is trial 10 with value: 0.05370249298547826.\n"
     ]
    },
    {
     "name": "stdout",
     "output_type": "stream",
     "text": [
      "P3alphaRecommender: Similarity column 38121 (100.0%), 2161.62 column/sec. Elapsed time 17.64 sec\n",
      "EvaluatorHoldout: Ignoring 173 ( 0.5%) Users that have less than 1 test interactions\n",
      "EvaluatorHoldout: Processed 35563 (100.0%) in 33.35 sec. Users per second: 1066\n",
      "P3alphaRecommender: Similarity column 38121 (100.0%), 2157.48 column/sec. Elapsed time 17.67 sec\n",
      "EvaluatorHoldout: Ignoring 163 ( 0.5%) Users that have less than 1 test interactions\n",
      "EvaluatorHoldout: Processed 35573 (100.0%) in 33.44 sec. Users per second: 1064\n",
      "P3alphaRecommender: Similarity column 38121 (100.0%), 2144.24 column/sec. Elapsed time 17.78 sec\n",
      "EvaluatorHoldout: Ignoring 150 ( 0.4%) Users that have less than 1 test interactions\n",
      "EvaluatorHoldout: Processed 35586 (100.0%) in 33.45 sec. Users per second: 1064\n",
      "P3alphaRecommender: Similarity column 38121 (100.0%), 2154.93 column/sec. Elapsed time 17.69 sec\n",
      "EvaluatorHoldout: Ignoring 167 ( 0.5%) Users that have less than 1 test interactions\n",
      "EvaluatorHoldout: Processed 35569 (100.0%) in 34.00 sec. Users per second: 1046\n",
      "P3alphaRecommender: Similarity column 38121 (100.0%), 2138.06 column/sec. Elapsed time 17.83 sec\n",
      "EvaluatorHoldout: Ignoring 172 ( 0.5%) Users that have less than 1 test interactions\n",
      "EvaluatorHoldout: Processed 35564 (100.0%) in 33.65 sec. Users per second: 1057\n"
     ]
    },
    {
     "name": "stderr",
     "output_type": "stream",
     "text": [
      "[I 2025-01-06 15:46:29,388] Trial 445 finished with value: 0.05102110147661072 and parameters: {'topK': 49, 'alpha': 0.4187563457650106, 'normalize_similarity': True, 'implicit': False}. Best is trial 10 with value: 0.05370249298547826.\n"
     ]
    },
    {
     "name": "stdout",
     "output_type": "stream",
     "text": [
      "P3alphaRecommender: Similarity column 38121 (100.0%), 534.05 column/sec. Elapsed time 1.19 min\n",
      "EvaluatorHoldout: Ignoring 173 ( 0.5%) Users that have less than 1 test interactions\n",
      "EvaluatorHoldout: Processed 35563 (100.0%) in 56.42 sec. Users per second: 630\n",
      "P3alphaRecommender: Similarity column 38121 (100.0%), 529.15 column/sec. Elapsed time 1.20 min\n",
      "EvaluatorHoldout: Ignoring 163 ( 0.5%) Users that have less than 1 test interactions\n",
      "EvaluatorHoldout: Processed 35573 (100.0%) in 56.46 sec. Users per second: 630\n",
      "P3alphaRecommender: Similarity column 38121 (100.0%), 530.75 column/sec. Elapsed time 1.20 min\n",
      "EvaluatorHoldout: Ignoring 150 ( 0.4%) Users that have less than 1 test interactions\n",
      "EvaluatorHoldout: Processed 35586 (100.0%) in 57.46 sec. Users per second: 619\n",
      "P3alphaRecommender: Similarity column 38121 (100.0%), 529.93 column/sec. Elapsed time 1.20 min\n",
      "EvaluatorHoldout: Ignoring 167 ( 0.5%) Users that have less than 1 test interactions\n",
      "EvaluatorHoldout: Processed 35569 (100.0%) in 56.41 sec. Users per second: 631\n",
      "P3alphaRecommender: Similarity column 38121 (100.0%), 529.20 column/sec. Elapsed time 1.20 min\n",
      "EvaluatorHoldout: Ignoring 172 ( 0.5%) Users that have less than 1 test interactions\n",
      "EvaluatorHoldout: Processed 35564 (100.0%) in 56.62 sec. Users per second: 628\n"
     ]
    },
    {
     "name": "stderr",
     "output_type": "stream",
     "text": [
      "[I 2025-01-06 16:01:08,105] Trial 446 finished with value: 0.03424886353482064 and parameters: {'topK': 1242, 'alpha': 0.5694096277322901, 'normalize_similarity': True, 'implicit': False}. Best is trial 10 with value: 0.05370249298547826.\n"
     ]
    },
    {
     "name": "stdout",
     "output_type": "stream",
     "text": [
      "P3alphaRecommender: Similarity column 38121 (100.0%), 2312.62 column/sec. Elapsed time 16.48 sec\n",
      "EvaluatorHoldout: Ignoring 173 ( 0.5%) Users that have less than 1 test interactions\n",
      "EvaluatorHoldout: Processed 35563 (100.0%) in 32.09 sec. Users per second: 1108\n",
      "P3alphaRecommender: Similarity column 38121 (100.0%), 2243.29 column/sec. Elapsed time 16.99 sec\n",
      "EvaluatorHoldout: Ignoring 163 ( 0.5%) Users that have less than 1 test interactions\n",
      "EvaluatorHoldout: Processed 35573 (100.0%) in 32.27 sec. Users per second: 1103\n",
      "P3alphaRecommender: Similarity column 38121 (100.0%), 2252.47 column/sec. Elapsed time 16.92 sec\n",
      "EvaluatorHoldout: Ignoring 150 ( 0.4%) Users that have less than 1 test interactions\n",
      "EvaluatorHoldout: Processed 35586 (100.0%) in 32.48 sec. Users per second: 1096\n",
      "P3alphaRecommender: Similarity column 38121 (100.0%), 2260.41 column/sec. Elapsed time 16.86 sec\n",
      "EvaluatorHoldout: Ignoring 167 ( 0.5%) Users that have less than 1 test interactions\n",
      "EvaluatorHoldout: Processed 35569 (100.0%) in 32.33 sec. Users per second: 1100\n",
      "P3alphaRecommender: Similarity column 38121 (100.0%), 2273.98 column/sec. Elapsed time 16.76 sec\n",
      "EvaluatorHoldout: Ignoring 172 ( 0.5%) Users that have less than 1 test interactions\n",
      "EvaluatorHoldout: Processed 35564 (100.0%) in 32.25 sec. Users per second: 1103\n"
     ]
    },
    {
     "name": "stderr",
     "output_type": "stream",
     "text": [
      "[I 2025-01-06 16:05:20,702] Trial 447 finished with value: 0.053031892438765695 and parameters: {'topK': 26, 'alpha': 0.5337939123925559, 'normalize_similarity': True, 'implicit': False}. Best is trial 10 with value: 0.05370249298547826.\n"
     ]
    },
    {
     "name": "stdout",
     "output_type": "stream",
     "text": [
      "P3alphaRecommender: Similarity column 38121 (100.0%), 1941.72 column/sec. Elapsed time 19.63 sec\n",
      "EvaluatorHoldout: Ignoring 173 ( 0.5%) Users that have less than 1 test interactions\n",
      "EvaluatorHoldout: Processed 35563 (100.0%) in 31.73 sec. Users per second: 1121\n",
      "P3alphaRecommender: Similarity column 38121 (100.0%), 1910.22 column/sec. Elapsed time 19.96 sec\n",
      "EvaluatorHoldout: Ignoring 163 ( 0.5%) Users that have less than 1 test interactions\n",
      "EvaluatorHoldout: Processed 35573 (100.0%) in 31.49 sec. Users per second: 1130\n",
      "P3alphaRecommender: Similarity column 38121 (100.0%), 1925.41 column/sec. Elapsed time 19.80 sec\n",
      "EvaluatorHoldout: Ignoring 150 ( 0.4%) Users that have less than 1 test interactions\n",
      "EvaluatorHoldout: Processed 35586 (100.0%) in 31.62 sec. Users per second: 1125\n",
      "P3alphaRecommender: Similarity column 38121 (100.0%), 1917.51 column/sec. Elapsed time 19.88 sec\n",
      "EvaluatorHoldout: Ignoring 167 ( 0.5%) Users that have less than 1 test interactions\n",
      "EvaluatorHoldout: Processed 35569 (100.0%) in 31.54 sec. Users per second: 1128\n",
      "P3alphaRecommender: Similarity column 38121 (100.0%), 1819.86 column/sec. Elapsed time 20.95 sec\n",
      "EvaluatorHoldout: Ignoring 172 ( 0.5%) Users that have less than 1 test interactions\n",
      "EvaluatorHoldout: Processed 35564 (100.0%) in 31.75 sec. Users per second: 1120\n"
     ]
    },
    {
     "name": "stderr",
     "output_type": "stream",
     "text": [
      "[I 2025-01-06 16:09:55,860] Trial 448 finished with value: 0.03979647859217959 and parameters: {'topK': 91, 'alpha': 0.4827501744728803, 'normalize_similarity': False, 'implicit': False}. Best is trial 10 with value: 0.05370249298547826.\n"
     ]
    },
    {
     "name": "stdout",
     "output_type": "stream",
     "text": [
      "P3alphaRecommender: Similarity column 38121 (100.0%), 2102.38 column/sec. Elapsed time 18.13 sec\n",
      "EvaluatorHoldout: Ignoring 173 ( 0.5%) Users that have less than 1 test interactions\n",
      "EvaluatorHoldout: Processed 35563 (100.0%) in 33.83 sec. Users per second: 1051\n",
      "P3alphaRecommender: Similarity column 38121 (100.0%), 2119.17 column/sec. Elapsed time 17.99 sec\n",
      "EvaluatorHoldout: Ignoring 163 ( 0.5%) Users that have less than 1 test interactions\n",
      "EvaluatorHoldout: Processed 35573 (100.0%) in 33.95 sec. Users per second: 1048\n",
      "P3alphaRecommender: Similarity column 38121 (100.0%), 2122.30 column/sec. Elapsed time 17.96 sec\n",
      "EvaluatorHoldout: Ignoring 150 ( 0.4%) Users that have less than 1 test interactions\n",
      "EvaluatorHoldout: Processed 35586 (100.0%) in 34.08 sec. Users per second: 1044\n",
      "P3alphaRecommender: Similarity column 38121 (100.0%), 2111.08 column/sec. Elapsed time 18.06 sec\n",
      "EvaluatorHoldout: Ignoring 167 ( 0.5%) Users that have less than 1 test interactions\n",
      "EvaluatorHoldout: Processed 35569 (100.0%) in 33.52 sec. Users per second: 1061\n",
      "P3alphaRecommender: Similarity column 38121 (100.0%), 2141.16 column/sec. Elapsed time 17.80 sec\n",
      "EvaluatorHoldout: Ignoring 172 ( 0.5%) Users that have less than 1 test interactions\n",
      "EvaluatorHoldout: Processed 35564 (100.0%) in 33.67 sec. Users per second: 1056\n"
     ]
    },
    {
     "name": "stderr",
     "output_type": "stream",
     "text": [
      "[I 2025-01-06 16:14:25,738] Trial 449 finished with value: 0.050723867415145577 and parameters: {'topK': 53, 'alpha': 0.3806578556434539, 'normalize_similarity': True, 'implicit': False}. Best is trial 10 with value: 0.05370249298547826.\n"
     ]
    }
   ],
   "source": [
    "if config['tune_parameters']:\n",
    "    \n",
    "    optuna_study = optuna.create_study(direction='maximize', study_name=f'hyperparameters_tuning_{config[\"model\"]}_{config[\"metric\"]}',\n",
    "                                storage=f'sqlite:///{config[\"database_path\"]}', load_if_exists=True)\n",
    "\n",
    "    optuna_study.optimize(objective_function_P3alpha, n_trials=59)"
   ]
  },
  {
   "cell_type": "markdown",
   "id": "45851e94",
   "metadata": {
    "papermill": {
     "duration": 0.068072,
     "end_time": "2025-01-06T16:14:25.895502",
     "exception": false,
     "start_time": "2025-01-06T16:14:25.827430",
     "status": "completed"
    },
    "tags": []
   },
   "source": [
    "## Some optuna visualizations on recommender parameters"
   ]
  },
  {
   "cell_type": "code",
   "execution_count": 14,
   "id": "154b8be1",
   "metadata": {
    "execution": {
     "iopub.execute_input": "2025-01-06T16:14:26.034187Z",
     "iopub.status.busy": "2025-01-06T16:14:26.033840Z",
     "iopub.status.idle": "2025-01-06T16:14:27.605187Z",
     "shell.execute_reply": "2025-01-06T16:14:27.603919Z"
    },
    "papermill": {
     "duration": 1.642649,
     "end_time": "2025-01-06T16:14:27.607525",
     "exception": false,
     "start_time": "2025-01-06T16:14:25.964876",
     "status": "completed"
    },
    "tags": []
   },
   "outputs": [
    {
     "data": {
      "text/html": [
       "<html>\n",
       "<head><meta charset=\"utf-8\" /></head>\n",
       "<body>\n",
       "    <div>            <script src=\"https://cdnjs.cloudflare.com/ajax/libs/mathjax/2.7.5/MathJax.js?config=TeX-AMS-MML_SVG\"></script><script type=\"text/javascript\">if (window.MathJax && window.MathJax.Hub && window.MathJax.Hub.Config) {window.MathJax.Hub.Config({SVG: {font: \"STIX-Web\"}});}</script>                <script type=\"text/javascript\">window.PlotlyConfig = {MathJaxConfig: 'local'};</script>\n",
       "        <script charset=\"utf-8\" src=\"https://cdn.plot.ly/plotly-2.35.2.min.js\"></script>                <div id=\"4b21d5ae-cdf4-4e3a-b507-25da5944e417\" class=\"plotly-graph-div\" style=\"height:525px; width:1200px;\"></div>            <script type=\"text/javascript\">                                    window.PLOTLYENV=window.PLOTLYENV || {};                                    if (document.getElementById(\"4b21d5ae-cdf4-4e3a-b507-25da5944e417\")) {                    Plotly.newPlot(                        \"4b21d5ae-cdf4-4e3a-b507-25da5944e417\",                        [{\"marker\":{\"color\":[0,1,2,3,4,5,6,7,8,9,10,11,12,13,14,15,16,17,18,19,20,21,22,23,24,25,26,27,28,29,30,31,32,33,34,35,36,37,38,39,40,41,42,43,44,45,46,47,48,49,50,51,52,53,54,55,56,57,58,59,60,61,62,63,64,65,66,67,68,69,70,71,72,73,74,75,76,77,78,79,80,81,82,83,84,85,86,87,88,89,90,91,92,93,94,95,96,97,98,99,100,101,102,103,104,105,106,107,108,109,110,111,112,113,114,115,116,117,118,119,120,121,122,123,124,125,126,127,128,129,130,131,132,133,134,135,136,137,138,139,140,141,142,143,144,145,146,147,148,149,150,151,152,153,154,155,156,157,158,159,160,161,162,163,164,165,166,167,168,169,170,171,172,173,174,175,176,177,178,179,180,181,182,183,184,185,186,187,188,189,190,191,192,193,194,195,196,197,198,199,200,201,202,203,204,205,206,207,208,209,210,211,212,213,214,215,216,217,218,219,220,221,222,223,224,225,226,227,228,229,230,231,232,233,234,235,236,237,238,239,240,241,242,243,244,245,246,247,248,249,250,251,252,253,254,255,256,257,258,259,260,261,262,263,264,265,266,267,268,269,270,271,272,273,274,275,276,277,278,279,280,281,282,283,284,285,286,287,288,289,290,291,292,293,294,295,296,297,298,299,300,301,302,303,304,305,306,307,308,309,310,311,312,313,314,315,316,317,318,319,320,321,322,323,324,325,326,327,328,329,330,331,332,333,334,335,336,337,338,339,340,341,342,343,344,345,346,347,348,349,350,351,352,353,354,355,356,357,358,359,360,361,362,363,364,365,366,367,368,369,370,371,372,373,374,375,376,377,378,379,380,381,382,383,384,385,386,387,388,389,390,391,392,393,394,395,396,397,398,399,400,401,402,403,404,405,406,407,408,409,410,411,412,413,414,415,416,417,418,419,420,421,422,423,424,425,426,427,428,429,430,431,432,433,434,435,436,437,438,439,440,441,442,443,444,445,446,447,448,449],\"colorbar\":{\"title\":{\"text\":\"Trial\"},\"x\":1.0,\"xpad\":40},\"colorscale\":[[0.0,\"rgb(247,251,255)\"],[0.125,\"rgb(222,235,247)\"],[0.25,\"rgb(198,219,239)\"],[0.375,\"rgb(158,202,225)\"],[0.5,\"rgb(107,174,214)\"],[0.625,\"rgb(66,146,198)\"],[0.75,\"rgb(33,113,181)\"],[0.875,\"rgb(8,81,156)\"],[1.0,\"rgb(8,48,107)\"]],\"line\":{\"color\":\"Grey\",\"width\":0.5},\"showscale\":true},\"mode\":\"markers\",\"name\":\"Feasible Trial\",\"showlegend\":false,\"x\":[1.9555722902370891,1.9451119902075962,1.7041603674865449,1.505154401702621,1.417404807113589,1.429887748017081,0.6423970179752319,1.357324393912698,1.5796611764403068,1.6573015763234014,0.259039498224813,0.009023169374170525,0.017299402340292758,0.05741669922250647,0.43291619988413355,0.3895368099707133,0.9236758405543553,0.2391747392107611,0.7722037747685639,1.1270782733213431,0.2985411909626277,0.0017162766615581183,0.14459969802008343,0.5599915376809156,0.5812080291300891,0.5102570969146578,0.22919558780975743,0.7668253532326018,0.33619034800127023,1.0633881794880087,0.6766890326896323,0.7039495572064933,0.8844159780371044,0.2131957245488712,0.47485156287817376,0.574233908892971,0.10992686396759538,1.2101192102741831,0.3784090900895734,1.9022453793230083,0.3660741625786829,0.6397588510717156,0.14701427855027074,0.4727310234549015,0.26510340366778407,0.7793874438330077,0.5467916658262164,0.33679676849763707,0.07978912869645305,0.9206078425164291,0.4076427685325944,0.7094347586149212,0.668182561752386,0.848680880583546,0.17504588313995484,0.9940586966767009,0.596323803099865,0.4155696012952391,0.7300889084614393,0.7026659998723025,1.2587097134982606,0.8226962402219791,0.4968729307331387,0.5021039955142267,0.7208562371905738,0.4893319886324915,0.49464939326422325,0.2865429878389075,0.6381872933570667,0.030385557205286684,0.6095385251915566,0.5313224598605867,0.4647212342347552,0.6560616524933051,0.650752516464808,0.31763081121375114,0.21126695358820613,0.4267861093987477,0.5459638645694592,0.8001884544805936,0.09578152435076426,1.0010919088318104,0.7950044110954735,0.6528845026555389,0.8686452399747855,0.5219055435571492,0.5950609222707803,0.7584562694479525,0.45561107720649413,0.3787727339565327,0.25881816157705617,0.7691591857526583,0.6778059048614092,0.6749715864565274,0.6180208184965519,0.7414105503298687,0.5553121477748694,0.9199117843582898,0.5039640716484797,0.6704274210455656,0.19357071407470383,0.8235823673862037,0.8299408357816291,0.7038677874082406,0.5772227777273413,0.9627241371928188,0.742368111052462,0.8961852086316883,0.6338913908159787,0.8460819589168291,0.1586491656004776,0.8225077290647852,0.7618321041561548,0.6583349373649502,0.6789599869812522,1.0775051301164722,0.3543262304602782,0.43423386096461297,0.602547150467961,1.7286336439736891,0.4851087227011725,0.7069993242156728,0.8142271556988062,0.644933766546533,0.04504424348085013,0.5642599143266227,0.5220220431518023,0.5293533995293002,0.30698068395560196,0.49877319348182425,0.40311038526825405,0.4083906234953192,0.4700130398125544,0.5764571058788258,0.4332367982573321,0.37960263756498636,0.3726199860245315,0.28642614087400553,0.5372572418525191,0.2414509904925934,0.13051411228117996,0.21892288364838153,0.18408104329372876,0.3298703606035894,0.24272445566827786,0.2254262440401089,0.3577549363475985,0.26254144173877386,0.11172958775022032,0.3949603199965616,0.6194822005755359,0.0763699851597649,0.05124875194521569,0.05633771745197805,0.08011178552421945,0.014400856065544018,0.1282190724068411,0.00780784404479734,0.1872162133647409,0.3184364984395813,0.684602477163826,0.7293135140343755,0.6528933866301747,0.719504196981361,0.4531970682327979,0.5838316183764864,0.6292679285876068,0.2727122675345214,0.15605597925873946,0.22738529911600316,0.15462086590885787,0.6754142551196689,0.08051724095874796,0.10356321239964451,0.7851582643799528,0.17249124557091433,0.5409981518276129,0.7469505168265322,0.21952898847522254,0.411915602914322,0.6033163772172552,0.6493811217171951,0.730725279178008,0.6535974702092937,0.691235358346056,0.5190039419469052,0.6396689405479431,0.4706785708738227,0.5923027782159911,0.14605065182844562,1.991282266522873,0.750689965843235,0.7191887505908455,0.6951791764753091,0.6499203045289901,0.55883632567692,0.7826164143706671,1.4078367965295273,0.7114321432755171,0.33515171454889386,1.5335079283085307e-06,0.7243938595668475,0.6646007887478794,0.6259315858021324,0.6864345356931131,0.2974544010107464,0.6035303526255554,0.6519600925434839,0.5022846351434787,0.5660578921196558,0.6479388777849419,0.6785283907693364,0.6129007711260249,0.6713430289833643,0.25396226040908904,0.23901463692069994,0.1899513283700905,0.2853637863575599,0.3581055898861555,0.05908681944138008,0.1087472039846413,0.6592893321370048,0.24290548115696284,0.20267863088948618,0.24968308020485022,0.20123006253876735,0.17136075168902892,0.255312654825196,0.4005707845063343,0.32402761881440634,0.21634974720973704,0.26373652352777166,0.37772391875796874,0.4472959895878147,0.2916765845546186,0.2782359611409385,0.4068369358682918,0.4064092884954983,0.38359123041301385,0.39584372010119573,0.43717159227516905,0.4546445506639781,0.3478487004908362,0.40421419625181715,0.4857190399469833,0.44441513783810827,0.35687267440624304,0.3135275919343732,0.4283224438564439,0.3777147306316379,0.5062029226816227,0.24007301266396938,0.24256913110221529,0.2655753437080081,0.21897694593597253,0.33432834030229686,0.19247862856267825,0.31094151925191293,0.30596343829496886,0.2793742051156507,0.3781357190110007,0.31649797307755767,0.2413269725943298,0.15649398630917216,0.34524926005928525,0.4251504272426689,0.41961256823177634,0.39444137310042565,0.4466628215308672,0.26533692245492035,0.2082525971956478,0.3465167747512839,0.2982543781895113,0.3776585308151857,1.5973131070456343,0.22431794145994055,0.4245193088379381,0.48007663942022205,0.32319605314516087,0.15257564403824003,0.26580693018896945,0.27282641840408856,0.36438430506535036,0.28264224391235176,1.2296896840771774,0.4197213668233392,0.3281389350595773,0.4592741476239715,0.4724543880905522,0.5088462103743839,0.47005982281520753,1.8320596842865247,0.529177890111326,0.46509752904679036,0.38725762546155135,0.5472994669367118,0.5132384351564557,0.49916300323837914,0.5469386340835891,0.4402413432908254,0.5646845287192743,0.4772546168254802,0.5470330110067754,0.5910645400179868,0.46368789870744526,0.40673929650710816,0.14170995055440871,0.18983451516197627,0.4576943880670317,0.5283405782135544,0.3927643659317568,0.25361308636879887,0.35665642713004386,0.49637695581408986,0.4186431014877718,0.5853693877893372,0.2881961031027166,0.22672596444379178,0.44331273212722155,0.5042563497886698,0.4389785933530354,0.4534855302108318,0.42584318019180106,0.45856833036455635,0.37569267272256596,0.5334343185541583,0.5489613947103209,0.5059830887168739,0.47790499773834777,0.42416858902705806,0.5263724791167886,0.3850942954558019,0.47774616364876354,0.5742145996324565,0.43249513214670704,0.3440258204871688,0.3599589224638134,1.1601414781832446,0.31317637616714905,0.3592455708529556,0.38865065063361653,0.32471943230133676,0.3374647657304024,0.28021218877396836,0.6076713941769429,0.5395374501972943,0.41607250514445776,0.49743005123784934,0.39369305197768356,0.18074810591386858,0.2915180707607743,0.3414566595896635,0.5423311832874356,0.4683477989453775,0.2601092922043458,0.4032818723185997,0.35486707659250044,0.38893965763833094,0.3928098685774739,0.3223521736976948,0.378046942843158,0.41561017098051894,0.31411889165566836,0.2208672205002095,0.35827394018813286,0.3616440644953478,0.28560449372401453,0.3499364352399933,0.359574851056809,0.30966025944299075,0.38998581916658,0.2562741311070808,0.33535045091029636,0.2905303546987889,0.9617640353695214,0.1293315558607037,0.37951056450383974,0.19491022563939542,1.2988593571942095,1.0611913364042045,0.34821212060519724,0.4019302723242262,0.2587616797746707,0.4206944455929249,0.30798435188329276,0.16728998666177286,0.2266497296998266,0.34226934445318347,0.3744621535096698,0.4173243771137701,0.4467648828590439,0.2740995778919141,0.3997048536625302,0.2183528844299757,0.3251349327716018,0.37442491853425486,0.47465443865563817,1.463295895691413,0.29244730524160234,0.42967651163182174,0.25212521116389414,0.3711810777421322,0.17570016856876244,0.31072851594665984,0.49260066282374115,0.4502718344214988,0.5752587784492469,0.395181857114714,0.11892577233308266,0.42389899209481663,0.5089249048451545,0.4936194458842714,0.5251954390275875,0.5382248170227418,0.5222628340692116,0.5621843211776107,0.4737392593830484,0.4884996588771578,0.5110176686171496,0.5915328926613894,0.44345543054218783,0.5242419452538631,0.46161544282684563,0.220655505406154,0.40018190368334194,0.5685214049321471,0.18103863869009068,0.5124765869690351,0.45842669266460784,0.37979412747060143,0.38012706509546434,0.26124060856470405,0.3099043592539802,0.3706558713933226,0.33912516279110083,0.6151911699133924,0.21126044588703025,0.41778772059782526,0.30779831672553776,0.14891757194930638,0.24541444885913863,0.3911326801862697,0.28237216099949375,0.3532195739058696,0.10139974197041582,0.4187563457650106,0.5694096277322901,0.5337939123925559,0.4827501744728803,0.3806578556434539],\"y\":[0.03324698331399583,0.026332902930887934,0.030469137563298575,0.03444987576203394,0.04814619271239208,0.038066821299608235,0.03313890578532456,0.035480558776875615,0.03795740934127874,0.031156855638856097,0.05370249298547826,0.053043338860751556,0.049358568615201014,0.04046620173964342,0.04135830475866652,0.03482896954916652,0.04154041337618398,0.03462141000783664,0.046612718601797054,0.037526935207238,0.043719300306238565,0.045391643727781025,0.03855362113289444,0.05005819010027681,0.039473372363462364,0.03480637042849982,0.03369956604439408,0.0399559022002486,0.045554766209695396,0.0377710062570645,0.05345532201680157,0.049179364245239526,0.045038814489735374,0.042924297756840736,0.04001730686109394,0.040681947973510366,0.03255432649509493,0.039981091096421034,0.0503522003189274,0.03981101195489917,0.032811783069301007,0.049862294786565405,0.04851576479166418,0.02024138376707917,0.04170481583937038,0.04767053965435942,0.04313826063367159,0.03283938541515903,0.03278310247782083,0.037876718506305,0.040726692725909806,0.050762033934032155,0.04610049465209755,0.035598704019295734,0.044183615546848895,0.04990649894396905,0.04210634543158245,0.047338175501152914,0.05084595784289079,0.03654701218043085,0.042371475724924626,0.048460256440363954,0.052472475068935306,0.052887525248913415,0.04626885698320693,0.05317992334355266,0.04275097241274065,0.034748374854042384,0.052153755408722705,0.03966879729859924,0.03456739709318828,0.04381019379874547,0.04726398158402837,0.05265843147113376,0.05331823873229896,0.045087667532495476,0.020770348777273694,0.047398026686143964,0.0389465853039739,0.05219137903797115,0.04709926993082188,0.0508971605112515,0.05151212750052316,0.048758814503789674,0.04242500361269015,0.04710632376294343,0.03531964393831496,0.052457237175554304,0.045799822985578484,0.033738054775223146,0.0488217757697453,0.051946099320358693,0.05278336944453671,0.04705396776723112,0.049838598061873234,0.043675457175516186,0.04587686254833845,0.04662172783159644,0.05218017043087157,0.0494985524929483,0.04088362422565477,0.05221018954207535,0.05253647896025815,0.04302974775721296,0.04816109208279552,0.04896643161435016,0.045115575584085396,0.04286887657038844,0.04155131211473144,0.049748990510831904,0.03438504613986426,0.0528663253282279,0.04815928395451181,0.053184673529307856,0.051916487103832246,0.043299638979650404,0.04754727094759563,0.05076538637504058,0.04623849148207724,0.047417452844366215,0.02022282504685614,0.05026288773688968,0.048146784203736005,0.033965166850007285,0.051114131635104296,0.036454444441654986,0.05341465722787142,0.03552890563535609,0.03666385268601502,0.04671620191668675,0.053604758640113416,0.037257922932716854,0.05125645218515289,0.04907912984206813,0.052227000936113085,0.05341870658574962,0.04766486170283768,0.03341205827496927,0.050080152181557966,0.05328353864373002,0.0002664826418719655,0.05353499815479453,0.05007783008052824,0.020625866865305254,0.0368139763138582,0.04765859233065183,0.04512944980534381,0.05184343676719398,0.048504895493151595,0.0331849856244731,0.04121725363851465,0.05282848818748159,0.05191767159807118,0.05251727378020658,0.048936109878433595,0.044208576613926395,0.0471758536609599,0.04945865583313777,0.05238245591016597,0.046327703480299236,0.04987587977943793,0.052723232440028765,0.052742427144316886,0.0002664826418719655,0.04871490000398578,0.05215845464194435,0.05080581134781799,0.04797725966127435,0.05328432894531375,0.03825159292314441,0.04913631963637322,0.03644820818813297,0.05232801211309551,0.05058215622683474,0.0002664826418719655,0.05255776313824743,0.04746732427685902,0.04890617255157278,0.052448670670091325,0.04694639389465257,0.04371043937336743,0.053138127327039986,0.052718246880571085,0.01961097420207157,0.04893820996096516,0.05254108530861705,0.0002664826418719655,0.05021489654233825,0.04738824552417005,0.050559405869964304,0.04223967199505846,0.052636546251000324,0.05274947957147995,0.0002664826418719655,0.051100629641741335,0.04984303897361041,0.05224156680194235,0.04476627402902931,0.04556134751061881,0.0512478898108774,0.05254800497278619,0.052570520624497505,0.05309453242412906,0.05005515614018681,0.049260964973266985,0.04913904231473435,0.050933518728898494,0.052940203076757786,0.0002664826418719655,0.04743906713380423,0.0447716937735021,0.05278340209256904,0.05218999514565716,0.048792968009973195,0.053301229217860034,0.05051208651483021,0.049730293864476915,0.05247715393762241,0.04795038885116478,0.04968247262213467,0.05213521401905165,0.01958306821780261,0.05294787340695032,0.052965634437134465,0.03750764346191856,0.050354025210916684,0.048068647868180395,0.050820098983822684,0.053192171650747425,0.0002664826418719655,0.04889540237577561,0.05298924866125896,0.052676630927969856,0.0002664826418719655,0.05146360592161434,0.05087833720645489,0.05328716987791245,0.049349621094694415,0.05341014175498473,0.05072096751384281,0.05319565120216119,0.020298223986877865,0.0528349634064809,0.03643449682323522,0.052779333619889755,0.04949095586367009,0.051312590526507496,0.0002664826418719655,0.04782487103874401,0.05267665454289437,0.05012491176372837,0.05307640278752486,0.030592871249155235,0.0002664826418719655,0.033483224130800245,0.04853853410290045,0.05057667619140397,0.052905302300901694,0.04662810288686135,0.052785807574896905,0.05072517009082791,0.05302427246524616,0.048255091838980024,0.05000258676611448,0.02063139597007708,0.05298316341498076,0.04908773048570615,0.05153131274652325,0.04718594425190997,0.02071495386353738,0.03667497071865735,0.049805236911150165,0.05278226546063021,0.0002664826418719655,0.0453107318146697,0.04738244317335088,0.05120312631972691,0.0523194585871497,0.033321802671932056,0.048360619857158,0.05330605795609156,0.053421441611220755,0.05011568507579704,0.0002664826418719655,0.043880011341689215,0.051015829896634536,0.048569456424178106,0.053181993383246626,0.05342114833437674,0.0370023087688049,0.0393580630137986,0.044417733669923416,0.04928352260680933,0.0002664826418719655,0.05159836205404498,0.053226070133459424,0.033593167746711707,0.04694705511051811,0.04918009342818756,0.0002664826418719655,0.050757086473957644,0.05291267410433097,0.04832338315082683,0.052800107254639274,0.05075063002723542,0.039958579053552365,0.044211670008936534,0.03513044170799907,0.03725711421479812,0.04458412125692145,0.0002664826418719655,0.050134267717387215,0.048198007479569954,0.05297733588587722,0.0513419833324078,0.046630610816760384,0.04995732258019859,0.03250135757746272,0.05309608844642524,0.0002664826418719655,0.053115138222547195,0.0485426891786735,0.03506109496076011,0.05247405672320217,0.05042900647211144,0.053219681790958706,0.049023859745606115,0.050840845206065036,0.0002664826418719655,0.047042243192549224,0.04400429633060646,0.051190866564585116,0.04580131881466834,0.04858292285739425,0.0002664826418719655,0.053184442633366635,0.050110715185494537,0.050371721440861085,0.0002664826418719655,0.047785446943191236,0.05103717718579069,0.049340733488470664,0.05305947173860868,0.05130618774841469,0.047435263946884174,0.02007441160344,0.04979230513355574,0.05307405198996862,0.0002664826418719655,0.05060841958123731,0.02927803985843553,0.04864349977774612,0.05274203023088357,0.04625072463247637,0.05116258183145974,0.053191736145366916,0.049389023399662016,0.053205501229680076,0.05051442608080654,0.04807129692627238,0.0002664826418719655,0.05277851026735767,0.05084965648001623,0.04683345588968544,0.05318343057050301,0.05330300093871647,0.048958902826168625,0.053080103299979677,0.03730927269301402,0.05051600632698126,0.03898604659114761,0.03548578176395485,0.05129950212254072,0.020754137387667994,0.044375912809123966,0.048967001968867885,0.05310487636169009,0.050771625253807254,0.0002664826418719655,0.04533291152708037,0.0526433046575437,0.049201143504004806,0.0002664826418719655,0.051016059651910785,0.05260750852969994,0.04811840246061358,0.05281346840798169,0.0502311954002998,0.053290539549150515,0.04739740245097478,0.05063721353675554,0.04395810848482335,0.030199508301712075,0.05313094859470495,0.049210747519225856,0.038262328053049924,0.020247560709111764,0.04682259831335464,0.04772214187686012,0.03774681121102223,0.052847758354719186,0.05019948065635708,0.05288581883174122,0.0002664826418719655,0.0465691328902873,0.04917604364989033,0.051141739488587155,0.05329199322311109,0.033845634725264896,0.04859997697479275,0.05325260276122264,0.045563484912983905,0.053231092174650455,0.02006929883263382,0.0002664826418719655,0.05051310528810095,0.04753179272913118,0.04946487540011091,0.05163285768657535,0.034852829366112226,0.03555118091919194,0.0521564103981937,0.0002664826418719655,0.04915038377642298,0.05340830084328356,0.033977001067100956,0.05093514492684801,0.04845475803253587,0.0002664826418719655,0.053198648233263736,0.03936238094782014,0.04680131825691733,0.05271034373074329,0.04926216927731234,0.05272854410424118,0.03640940162214149,0.02076949636764042,0.050486416511203426,0.04771072055869466,0.052565096218566455,0.05040589217819526,0.046031040729327774,0.05315179229717726,0.04889570091477457,0.0002664826418719655,0.05102110147661072,0.03424886353482064,0.053031892438765695,0.03979647859217959,0.050723867415145577],\"type\":\"scatter\",\"xaxis\":\"x\",\"yaxis\":\"y\"},{\"marker\":{\"color\":[0,1,2,3,4,5,6,7,8,9,10,11,12,13,14,15,16,17,18,19,20,21,22,23,24,25,26,27,28,29,30,31,32,33,34,35,36,37,38,39,40,41,42,43,44,45,46,47,48,49,50,51,52,53,54,55,56,57,58,59,60,61,62,63,64,65,66,67,68,69,70,71,72,73,74,75,76,77,78,79,80,81,82,83,84,85,86,87,88,89,90,91,92,93,94,95,96,97,98,99,100,101,102,103,104,105,106,107,108,109,110,111,112,113,114,115,116,117,118,119,120,121,122,123,124,125,126,127,128,129,130,131,132,133,134,135,136,137,138,139,140,141,142,143,144,145,146,147,148,149,150,151,152,153,154,155,156,157,158,159,160,161,162,163,164,165,166,167,168,169,170,171,172,173,174,175,176,177,178,179,180,181,182,183,184,185,186,187,188,189,190,191,192,193,194,195,196,197,198,199,200,201,202,203,204,205,206,207,208,209,210,211,212,213,214,215,216,217,218,219,220,221,222,223,224,225,226,227,228,229,230,231,232,233,234,235,236,237,238,239,240,241,242,243,244,245,246,247,248,249,250,251,252,253,254,255,256,257,258,259,260,261,262,263,264,265,266,267,268,269,270,271,272,273,274,275,276,277,278,279,280,281,282,283,284,285,286,287,288,289,290,291,292,293,294,295,296,297,298,299,300,301,302,303,304,305,306,307,308,309,310,311,312,313,314,315,316,317,318,319,320,321,322,323,324,325,326,327,328,329,330,331,332,333,334,335,336,337,338,339,340,341,342,343,344,345,346,347,348,349,350,351,352,353,354,355,356,357,358,359,360,361,362,363,364,365,366,367,368,369,370,371,372,373,374,375,376,377,378,379,380,381,382,383,384,385,386,387,388,389,390,391,392,393,394,395,396,397,398,399,400,401,402,403,404,405,406,407,408,409,410,411,412,413,414,415,416,417,418,419,420,421,422,423,424,425,426,427,428,429,430,431,432,433,434,435,436,437,438,439,440,441,442,443,444,445,446,447,448,449],\"colorbar\":{\"title\":{\"text\":\"Trial\"},\"x\":1.0,\"xpad\":40},\"colorscale\":[[0.0,\"rgb(247,251,255)\"],[0.125,\"rgb(222,235,247)\"],[0.25,\"rgb(198,219,239)\"],[0.375,\"rgb(158,202,225)\"],[0.5,\"rgb(107,174,214)\"],[0.625,\"rgb(66,146,198)\"],[0.75,\"rgb(33,113,181)\"],[0.875,\"rgb(8,81,156)\"],[1.0,\"rgb(8,48,107)\"]],\"line\":{\"color\":\"Grey\",\"width\":0.5},\"showscale\":false},\"mode\":\"markers\",\"name\":\"Feasible Trial\",\"showlegend\":false,\"x\":[false,true,true,true,false,true,true,false,false,true,false,false,false,false,false,false,false,false,false,false,false,false,false,false,false,false,false,false,false,false,false,false,false,false,true,false,true,false,true,true,true,true,true,true,true,false,true,false,false,false,true,true,true,true,true,false,true,false,false,false,true,false,false,false,false,false,false,false,false,false,false,false,false,false,false,false,false,false,false,false,false,false,false,false,false,false,false,false,false,false,false,false,false,false,false,false,false,false,false,false,false,false,false,false,false,false,false,false,false,false,false,false,false,false,false,false,false,false,false,false,false,false,false,false,false,false,false,false,false,false,false,false,false,false,false,false,false,false,false,false,false,false,false,false,false,false,false,false,false,false,false,false,false,false,false,false,false,false,false,false,false,false,false,false,false,false,false,false,false,false,false,false,false,false,false,false,false,false,false,true,false,false,false,false,false,false,false,false,false,false,false,false,false,false,false,false,false,false,false,false,false,false,false,false,false,false,false,false,false,false,false,false,false,false,false,false,true,false,false,false,false,false,false,false,false,false,false,false,false,false,false,false,false,false,false,false,false,false,false,false,false,false,false,false,false,false,false,false,false,true,false,false,false,false,false,false,false,false,false,false,false,false,false,false,false,false,false,false,true,false,false,false,false,false,false,false,false,false,false,false,false,false,false,false,false,false,false,false,false,true,false,false,false,false,false,false,false,false,false,false,false,false,false,false,false,false,false,false,true,false,false,false,false,false,false,false,false,false,false,false,false,false,false,false,false,false,false,false,false,true,false,false,false,false,false,false,false,false,false,false,false,false,false,false,false,false,false,false,false,true,false,false,false,false,false,false,false,false,false,false,false,false,false,false,false,false,false,false,false,true,false,false,false,false,false,false,false,false,false,false,false,false,false,false,false,false,false,false,true,true,true,true,true,true,true,true,true,false,false,false,false,false,false,true,false,false,false,false,false,false,false,false,false,false,false,false,false,true,false,false,false,false,false,false,false,false,false,false,false,false,true,false,false,false,false,false,false,false,false,false,false,false,true,false,false,false,false,false,false,false],\"y\":[0.03324698331399583,0.026332902930887934,0.030469137563298575,0.03444987576203394,0.04814619271239208,0.038066821299608235,0.03313890578532456,0.035480558776875615,0.03795740934127874,0.031156855638856097,0.05370249298547826,0.053043338860751556,0.049358568615201014,0.04046620173964342,0.04135830475866652,0.03482896954916652,0.04154041337618398,0.03462141000783664,0.046612718601797054,0.037526935207238,0.043719300306238565,0.045391643727781025,0.03855362113289444,0.05005819010027681,0.039473372363462364,0.03480637042849982,0.03369956604439408,0.0399559022002486,0.045554766209695396,0.0377710062570645,0.05345532201680157,0.049179364245239526,0.045038814489735374,0.042924297756840736,0.04001730686109394,0.040681947973510366,0.03255432649509493,0.039981091096421034,0.0503522003189274,0.03981101195489917,0.032811783069301007,0.049862294786565405,0.04851576479166418,0.02024138376707917,0.04170481583937038,0.04767053965435942,0.04313826063367159,0.03283938541515903,0.03278310247782083,0.037876718506305,0.040726692725909806,0.050762033934032155,0.04610049465209755,0.035598704019295734,0.044183615546848895,0.04990649894396905,0.04210634543158245,0.047338175501152914,0.05084595784289079,0.03654701218043085,0.042371475724924626,0.048460256440363954,0.052472475068935306,0.052887525248913415,0.04626885698320693,0.05317992334355266,0.04275097241274065,0.034748374854042384,0.052153755408722705,0.03966879729859924,0.03456739709318828,0.04381019379874547,0.04726398158402837,0.05265843147113376,0.05331823873229896,0.045087667532495476,0.020770348777273694,0.047398026686143964,0.0389465853039739,0.05219137903797115,0.04709926993082188,0.0508971605112515,0.05151212750052316,0.048758814503789674,0.04242500361269015,0.04710632376294343,0.03531964393831496,0.052457237175554304,0.045799822985578484,0.033738054775223146,0.0488217757697453,0.051946099320358693,0.05278336944453671,0.04705396776723112,0.049838598061873234,0.043675457175516186,0.04587686254833845,0.04662172783159644,0.05218017043087157,0.0494985524929483,0.04088362422565477,0.05221018954207535,0.05253647896025815,0.04302974775721296,0.04816109208279552,0.04896643161435016,0.045115575584085396,0.04286887657038844,0.04155131211473144,0.049748990510831904,0.03438504613986426,0.0528663253282279,0.04815928395451181,0.053184673529307856,0.051916487103832246,0.043299638979650404,0.04754727094759563,0.05076538637504058,0.04623849148207724,0.047417452844366215,0.02022282504685614,0.05026288773688968,0.048146784203736005,0.033965166850007285,0.051114131635104296,0.036454444441654986,0.05341465722787142,0.03552890563535609,0.03666385268601502,0.04671620191668675,0.053604758640113416,0.037257922932716854,0.05125645218515289,0.04907912984206813,0.052227000936113085,0.05341870658574962,0.04766486170283768,0.03341205827496927,0.050080152181557966,0.05328353864373002,0.0002664826418719655,0.05353499815479453,0.05007783008052824,0.020625866865305254,0.0368139763138582,0.04765859233065183,0.04512944980534381,0.05184343676719398,0.048504895493151595,0.0331849856244731,0.04121725363851465,0.05282848818748159,0.05191767159807118,0.05251727378020658,0.048936109878433595,0.044208576613926395,0.0471758536609599,0.04945865583313777,0.05238245591016597,0.046327703480299236,0.04987587977943793,0.052723232440028765,0.052742427144316886,0.0002664826418719655,0.04871490000398578,0.05215845464194435,0.05080581134781799,0.04797725966127435,0.05328432894531375,0.03825159292314441,0.04913631963637322,0.03644820818813297,0.05232801211309551,0.05058215622683474,0.0002664826418719655,0.05255776313824743,0.04746732427685902,0.04890617255157278,0.052448670670091325,0.04694639389465257,0.04371043937336743,0.053138127327039986,0.052718246880571085,0.01961097420207157,0.04893820996096516,0.05254108530861705,0.0002664826418719655,0.05021489654233825,0.04738824552417005,0.050559405869964304,0.04223967199505846,0.052636546251000324,0.05274947957147995,0.0002664826418719655,0.051100629641741335,0.04984303897361041,0.05224156680194235,0.04476627402902931,0.04556134751061881,0.0512478898108774,0.05254800497278619,0.052570520624497505,0.05309453242412906,0.05005515614018681,0.049260964973266985,0.04913904231473435,0.050933518728898494,0.052940203076757786,0.0002664826418719655,0.04743906713380423,0.0447716937735021,0.05278340209256904,0.05218999514565716,0.048792968009973195,0.053301229217860034,0.05051208651483021,0.049730293864476915,0.05247715393762241,0.04795038885116478,0.04968247262213467,0.05213521401905165,0.01958306821780261,0.05294787340695032,0.052965634437134465,0.03750764346191856,0.050354025210916684,0.048068647868180395,0.050820098983822684,0.053192171650747425,0.0002664826418719655,0.04889540237577561,0.05298924866125896,0.052676630927969856,0.0002664826418719655,0.05146360592161434,0.05087833720645489,0.05328716987791245,0.049349621094694415,0.05341014175498473,0.05072096751384281,0.05319565120216119,0.020298223986877865,0.0528349634064809,0.03643449682323522,0.052779333619889755,0.04949095586367009,0.051312590526507496,0.0002664826418719655,0.04782487103874401,0.05267665454289437,0.05012491176372837,0.05307640278752486,0.030592871249155235,0.0002664826418719655,0.033483224130800245,0.04853853410290045,0.05057667619140397,0.052905302300901694,0.04662810288686135,0.052785807574896905,0.05072517009082791,0.05302427246524616,0.048255091838980024,0.05000258676611448,0.02063139597007708,0.05298316341498076,0.04908773048570615,0.05153131274652325,0.04718594425190997,0.02071495386353738,0.03667497071865735,0.049805236911150165,0.05278226546063021,0.0002664826418719655,0.0453107318146697,0.04738244317335088,0.05120312631972691,0.0523194585871497,0.033321802671932056,0.048360619857158,0.05330605795609156,0.053421441611220755,0.05011568507579704,0.0002664826418719655,0.043880011341689215,0.051015829896634536,0.048569456424178106,0.053181993383246626,0.05342114833437674,0.0370023087688049,0.0393580630137986,0.044417733669923416,0.04928352260680933,0.0002664826418719655,0.05159836205404498,0.053226070133459424,0.033593167746711707,0.04694705511051811,0.04918009342818756,0.0002664826418719655,0.050757086473957644,0.05291267410433097,0.04832338315082683,0.052800107254639274,0.05075063002723542,0.039958579053552365,0.044211670008936534,0.03513044170799907,0.03725711421479812,0.04458412125692145,0.0002664826418719655,0.050134267717387215,0.048198007479569954,0.05297733588587722,0.0513419833324078,0.046630610816760384,0.04995732258019859,0.03250135757746272,0.05309608844642524,0.0002664826418719655,0.053115138222547195,0.0485426891786735,0.03506109496076011,0.05247405672320217,0.05042900647211144,0.053219681790958706,0.049023859745606115,0.050840845206065036,0.0002664826418719655,0.047042243192549224,0.04400429633060646,0.051190866564585116,0.04580131881466834,0.04858292285739425,0.0002664826418719655,0.053184442633366635,0.050110715185494537,0.050371721440861085,0.0002664826418719655,0.047785446943191236,0.05103717718579069,0.049340733488470664,0.05305947173860868,0.05130618774841469,0.047435263946884174,0.02007441160344,0.04979230513355574,0.05307405198996862,0.0002664826418719655,0.05060841958123731,0.02927803985843553,0.04864349977774612,0.05274203023088357,0.04625072463247637,0.05116258183145974,0.053191736145366916,0.049389023399662016,0.053205501229680076,0.05051442608080654,0.04807129692627238,0.0002664826418719655,0.05277851026735767,0.05084965648001623,0.04683345588968544,0.05318343057050301,0.05330300093871647,0.048958902826168625,0.053080103299979677,0.03730927269301402,0.05051600632698126,0.03898604659114761,0.03548578176395485,0.05129950212254072,0.020754137387667994,0.044375912809123966,0.048967001968867885,0.05310487636169009,0.050771625253807254,0.0002664826418719655,0.04533291152708037,0.0526433046575437,0.049201143504004806,0.0002664826418719655,0.051016059651910785,0.05260750852969994,0.04811840246061358,0.05281346840798169,0.0502311954002998,0.053290539549150515,0.04739740245097478,0.05063721353675554,0.04395810848482335,0.030199508301712075,0.05313094859470495,0.049210747519225856,0.038262328053049924,0.020247560709111764,0.04682259831335464,0.04772214187686012,0.03774681121102223,0.052847758354719186,0.05019948065635708,0.05288581883174122,0.0002664826418719655,0.0465691328902873,0.04917604364989033,0.051141739488587155,0.05329199322311109,0.033845634725264896,0.04859997697479275,0.05325260276122264,0.045563484912983905,0.053231092174650455,0.02006929883263382,0.0002664826418719655,0.05051310528810095,0.04753179272913118,0.04946487540011091,0.05163285768657535,0.034852829366112226,0.03555118091919194,0.0521564103981937,0.0002664826418719655,0.04915038377642298,0.05340830084328356,0.033977001067100956,0.05093514492684801,0.04845475803253587,0.0002664826418719655,0.053198648233263736,0.03936238094782014,0.04680131825691733,0.05271034373074329,0.04926216927731234,0.05272854410424118,0.03640940162214149,0.02076949636764042,0.050486416511203426,0.04771072055869466,0.052565096218566455,0.05040589217819526,0.046031040729327774,0.05315179229717726,0.04889570091477457,0.0002664826418719655,0.05102110147661072,0.03424886353482064,0.053031892438765695,0.03979647859217959,0.050723867415145577],\"type\":\"scatter\",\"xaxis\":\"x2\",\"yaxis\":\"y2\"},{\"marker\":{\"color\":[0,1,2,3,4,5,6,7,8,9,10,11,12,13,14,15,16,17,18,19,20,21,22,23,24,25,26,27,28,29,30,31,32,33,34,35,36,37,38,39,40,41,42,43,44,45,46,47,48,49,50,51,52,53,54,55,56,57,58,59,60,61,62,63,64,65,66,67,68,69,70,71,72,73,74,75,76,77,78,79,80,81,82,83,84,85,86,87,88,89,90,91,92,93,94,95,96,97,98,99,100,101,102,103,104,105,106,107,108,109,110,111,112,113,114,115,116,117,118,119,120,121,122,123,124,125,126,127,128,129,130,131,132,133,134,135,136,137,138,139,140,141,142,143,144,145,146,147,148,149,150,151,152,153,154,155,156,157,158,159,160,161,162,163,164,165,166,167,168,169,170,171,172,173,174,175,176,177,178,179,180,181,182,183,184,185,186,187,188,189,190,191,192,193,194,195,196,197,198,199,200,201,202,203,204,205,206,207,208,209,210,211,212,213,214,215,216,217,218,219,220,221,222,223,224,225,226,227,228,229,230,231,232,233,234,235,236,237,238,239,240,241,242,243,244,245,246,247,248,249,250,251,252,253,254,255,256,257,258,259,260,261,262,263,264,265,266,267,268,269,270,271,272,273,274,275,276,277,278,279,280,281,282,283,284,285,286,287,288,289,290,291,292,293,294,295,296,297,298,299,300,301,302,303,304,305,306,307,308,309,310,311,312,313,314,315,316,317,318,319,320,321,322,323,324,325,326,327,328,329,330,331,332,333,334,335,336,337,338,339,340,341,342,343,344,345,346,347,348,349,350,351,352,353,354,355,356,357,358,359,360,361,362,363,364,365,366,367,368,369,370,371,372,373,374,375,376,377,378,379,380,381,382,383,384,385,386,387,388,389,390,391,392,393,394,395,396,397,398,399,400,401,402,403,404,405,406,407,408,409,410,411,412,413,414,415,416,417,418,419,420,421,422,423,424,425,426,427,428,429,430,431,432,433,434,435,436,437,438,439,440,441,442,443,444,445,446,447,448,449],\"colorbar\":{\"title\":{\"text\":\"Trial\"},\"x\":1.0,\"xpad\":40},\"colorscale\":[[0.0,\"rgb(247,251,255)\"],[0.125,\"rgb(222,235,247)\"],[0.25,\"rgb(198,219,239)\"],[0.375,\"rgb(158,202,225)\"],[0.5,\"rgb(107,174,214)\"],[0.625,\"rgb(66,146,198)\"],[0.75,\"rgb(33,113,181)\"],[0.875,\"rgb(8,81,156)\"],[1.0,\"rgb(8,48,107)\"]],\"line\":{\"color\":\"Grey\",\"width\":0.5},\"showscale\":false},\"mode\":\"markers\",\"name\":\"Feasible Trial\",\"showlegend\":false,\"x\":[true,false,false,true,true,true,false,false,true,false,true,true,true,true,true,true,true,true,true,true,true,true,true,true,true,true,false,true,true,true,true,true,true,true,false,true,true,false,true,true,false,true,true,true,true,true,true,true,false,true,true,true,true,true,true,true,true,true,true,true,true,true,true,true,true,true,true,false,true,true,true,true,true,true,true,true,true,true,false,true,true,true,true,true,true,true,true,true,true,false,true,true,true,true,true,true,true,true,true,true,true,true,true,true,true,true,true,true,false,true,true,true,true,true,true,true,true,true,true,true,true,true,true,true,true,true,true,true,false,true,true,true,true,true,true,true,true,true,true,true,true,true,true,true,true,true,true,true,true,true,false,true,true,true,true,true,true,true,true,true,true,true,true,true,true,true,true,true,true,true,true,true,true,true,true,true,true,true,true,true,false,true,true,true,true,true,true,true,true,true,true,true,true,true,true,true,true,true,true,true,true,true,true,true,true,true,true,true,true,true,false,true,true,true,true,true,true,true,true,true,true,true,true,true,true,true,true,true,true,true,true,true,true,true,true,true,true,true,true,true,true,true,true,true,true,true,true,true,true,true,true,true,false,true,true,true,true,true,true,true,true,true,true,true,true,true,true,true,true,true,false,true,true,true,true,true,true,true,true,true,true,true,true,true,true,true,true,true,true,true,false,true,true,true,true,true,true,true,true,true,true,true,true,true,true,true,true,true,true,false,true,true,true,true,true,true,true,true,true,true,true,true,true,true,true,true,true,true,true,true,false,true,true,true,true,true,true,true,true,true,true,true,true,true,true,true,true,true,true,true,false,true,true,true,true,true,true,true,true,true,true,true,true,true,true,true,true,true,true,true,true,false,true,true,true,true,true,true,true,true,true,true,true,true,true,true,true,true,true,true,true,true,false,true,true,true,true,true,true,true,true,true,true,true,true,true,true,true,false,true,true,true,true,true,true,true,true,true,true,true,true,true,true,true,true,true,true,true,true,true,false,true,true,true,true,true,true,true,true,true,true,true,true,true,true,true,true,true,false,true],\"y\":[0.03324698331399583,0.026332902930887934,0.030469137563298575,0.03444987576203394,0.04814619271239208,0.038066821299608235,0.03313890578532456,0.035480558776875615,0.03795740934127874,0.031156855638856097,0.05370249298547826,0.053043338860751556,0.049358568615201014,0.04046620173964342,0.04135830475866652,0.03482896954916652,0.04154041337618398,0.03462141000783664,0.046612718601797054,0.037526935207238,0.043719300306238565,0.045391643727781025,0.03855362113289444,0.05005819010027681,0.039473372363462364,0.03480637042849982,0.03369956604439408,0.0399559022002486,0.045554766209695396,0.0377710062570645,0.05345532201680157,0.049179364245239526,0.045038814489735374,0.042924297756840736,0.04001730686109394,0.040681947973510366,0.03255432649509493,0.039981091096421034,0.0503522003189274,0.03981101195489917,0.032811783069301007,0.049862294786565405,0.04851576479166418,0.02024138376707917,0.04170481583937038,0.04767053965435942,0.04313826063367159,0.03283938541515903,0.03278310247782083,0.037876718506305,0.040726692725909806,0.050762033934032155,0.04610049465209755,0.035598704019295734,0.044183615546848895,0.04990649894396905,0.04210634543158245,0.047338175501152914,0.05084595784289079,0.03654701218043085,0.042371475724924626,0.048460256440363954,0.052472475068935306,0.052887525248913415,0.04626885698320693,0.05317992334355266,0.04275097241274065,0.034748374854042384,0.052153755408722705,0.03966879729859924,0.03456739709318828,0.04381019379874547,0.04726398158402837,0.05265843147113376,0.05331823873229896,0.045087667532495476,0.020770348777273694,0.047398026686143964,0.0389465853039739,0.05219137903797115,0.04709926993082188,0.0508971605112515,0.05151212750052316,0.048758814503789674,0.04242500361269015,0.04710632376294343,0.03531964393831496,0.052457237175554304,0.045799822985578484,0.033738054775223146,0.0488217757697453,0.051946099320358693,0.05278336944453671,0.04705396776723112,0.049838598061873234,0.043675457175516186,0.04587686254833845,0.04662172783159644,0.05218017043087157,0.0494985524929483,0.04088362422565477,0.05221018954207535,0.05253647896025815,0.04302974775721296,0.04816109208279552,0.04896643161435016,0.045115575584085396,0.04286887657038844,0.04155131211473144,0.049748990510831904,0.03438504613986426,0.0528663253282279,0.04815928395451181,0.053184673529307856,0.051916487103832246,0.043299638979650404,0.04754727094759563,0.05076538637504058,0.04623849148207724,0.047417452844366215,0.02022282504685614,0.05026288773688968,0.048146784203736005,0.033965166850007285,0.051114131635104296,0.036454444441654986,0.05341465722787142,0.03552890563535609,0.03666385268601502,0.04671620191668675,0.053604758640113416,0.037257922932716854,0.05125645218515289,0.04907912984206813,0.052227000936113085,0.05341870658574962,0.04766486170283768,0.03341205827496927,0.050080152181557966,0.05328353864373002,0.0002664826418719655,0.05353499815479453,0.05007783008052824,0.020625866865305254,0.0368139763138582,0.04765859233065183,0.04512944980534381,0.05184343676719398,0.048504895493151595,0.0331849856244731,0.04121725363851465,0.05282848818748159,0.05191767159807118,0.05251727378020658,0.048936109878433595,0.044208576613926395,0.0471758536609599,0.04945865583313777,0.05238245591016597,0.046327703480299236,0.04987587977943793,0.052723232440028765,0.052742427144316886,0.0002664826418719655,0.04871490000398578,0.05215845464194435,0.05080581134781799,0.04797725966127435,0.05328432894531375,0.03825159292314441,0.04913631963637322,0.03644820818813297,0.05232801211309551,0.05058215622683474,0.0002664826418719655,0.05255776313824743,0.04746732427685902,0.04890617255157278,0.052448670670091325,0.04694639389465257,0.04371043937336743,0.053138127327039986,0.052718246880571085,0.01961097420207157,0.04893820996096516,0.05254108530861705,0.0002664826418719655,0.05021489654233825,0.04738824552417005,0.050559405869964304,0.04223967199505846,0.052636546251000324,0.05274947957147995,0.0002664826418719655,0.051100629641741335,0.04984303897361041,0.05224156680194235,0.04476627402902931,0.04556134751061881,0.0512478898108774,0.05254800497278619,0.052570520624497505,0.05309453242412906,0.05005515614018681,0.049260964973266985,0.04913904231473435,0.050933518728898494,0.052940203076757786,0.0002664826418719655,0.04743906713380423,0.0447716937735021,0.05278340209256904,0.05218999514565716,0.048792968009973195,0.053301229217860034,0.05051208651483021,0.049730293864476915,0.05247715393762241,0.04795038885116478,0.04968247262213467,0.05213521401905165,0.01958306821780261,0.05294787340695032,0.052965634437134465,0.03750764346191856,0.050354025210916684,0.048068647868180395,0.050820098983822684,0.053192171650747425,0.0002664826418719655,0.04889540237577561,0.05298924866125896,0.052676630927969856,0.0002664826418719655,0.05146360592161434,0.05087833720645489,0.05328716987791245,0.049349621094694415,0.05341014175498473,0.05072096751384281,0.05319565120216119,0.020298223986877865,0.0528349634064809,0.03643449682323522,0.052779333619889755,0.04949095586367009,0.051312590526507496,0.0002664826418719655,0.04782487103874401,0.05267665454289437,0.05012491176372837,0.05307640278752486,0.030592871249155235,0.0002664826418719655,0.033483224130800245,0.04853853410290045,0.05057667619140397,0.052905302300901694,0.04662810288686135,0.052785807574896905,0.05072517009082791,0.05302427246524616,0.048255091838980024,0.05000258676611448,0.02063139597007708,0.05298316341498076,0.04908773048570615,0.05153131274652325,0.04718594425190997,0.02071495386353738,0.03667497071865735,0.049805236911150165,0.05278226546063021,0.0002664826418719655,0.0453107318146697,0.04738244317335088,0.05120312631972691,0.0523194585871497,0.033321802671932056,0.048360619857158,0.05330605795609156,0.053421441611220755,0.05011568507579704,0.0002664826418719655,0.043880011341689215,0.051015829896634536,0.048569456424178106,0.053181993383246626,0.05342114833437674,0.0370023087688049,0.0393580630137986,0.044417733669923416,0.04928352260680933,0.0002664826418719655,0.05159836205404498,0.053226070133459424,0.033593167746711707,0.04694705511051811,0.04918009342818756,0.0002664826418719655,0.050757086473957644,0.05291267410433097,0.04832338315082683,0.052800107254639274,0.05075063002723542,0.039958579053552365,0.044211670008936534,0.03513044170799907,0.03725711421479812,0.04458412125692145,0.0002664826418719655,0.050134267717387215,0.048198007479569954,0.05297733588587722,0.0513419833324078,0.046630610816760384,0.04995732258019859,0.03250135757746272,0.05309608844642524,0.0002664826418719655,0.053115138222547195,0.0485426891786735,0.03506109496076011,0.05247405672320217,0.05042900647211144,0.053219681790958706,0.049023859745606115,0.050840845206065036,0.0002664826418719655,0.047042243192549224,0.04400429633060646,0.051190866564585116,0.04580131881466834,0.04858292285739425,0.0002664826418719655,0.053184442633366635,0.050110715185494537,0.050371721440861085,0.0002664826418719655,0.047785446943191236,0.05103717718579069,0.049340733488470664,0.05305947173860868,0.05130618774841469,0.047435263946884174,0.02007441160344,0.04979230513355574,0.05307405198996862,0.0002664826418719655,0.05060841958123731,0.02927803985843553,0.04864349977774612,0.05274203023088357,0.04625072463247637,0.05116258183145974,0.053191736145366916,0.049389023399662016,0.053205501229680076,0.05051442608080654,0.04807129692627238,0.0002664826418719655,0.05277851026735767,0.05084965648001623,0.04683345588968544,0.05318343057050301,0.05330300093871647,0.048958902826168625,0.053080103299979677,0.03730927269301402,0.05051600632698126,0.03898604659114761,0.03548578176395485,0.05129950212254072,0.020754137387667994,0.044375912809123966,0.048967001968867885,0.05310487636169009,0.050771625253807254,0.0002664826418719655,0.04533291152708037,0.0526433046575437,0.049201143504004806,0.0002664826418719655,0.051016059651910785,0.05260750852969994,0.04811840246061358,0.05281346840798169,0.0502311954002998,0.053290539549150515,0.04739740245097478,0.05063721353675554,0.04395810848482335,0.030199508301712075,0.05313094859470495,0.049210747519225856,0.038262328053049924,0.020247560709111764,0.04682259831335464,0.04772214187686012,0.03774681121102223,0.052847758354719186,0.05019948065635708,0.05288581883174122,0.0002664826418719655,0.0465691328902873,0.04917604364989033,0.051141739488587155,0.05329199322311109,0.033845634725264896,0.04859997697479275,0.05325260276122264,0.045563484912983905,0.053231092174650455,0.02006929883263382,0.0002664826418719655,0.05051310528810095,0.04753179272913118,0.04946487540011091,0.05163285768657535,0.034852829366112226,0.03555118091919194,0.0521564103981937,0.0002664826418719655,0.04915038377642298,0.05340830084328356,0.033977001067100956,0.05093514492684801,0.04845475803253587,0.0002664826418719655,0.053198648233263736,0.03936238094782014,0.04680131825691733,0.05271034373074329,0.04926216927731234,0.05272854410424118,0.03640940162214149,0.02076949636764042,0.050486416511203426,0.04771072055869466,0.052565096218566455,0.05040589217819526,0.046031040729327774,0.05315179229717726,0.04889570091477457,0.0002664826418719655,0.05102110147661072,0.03424886353482064,0.053031892438765695,0.03979647859217959,0.050723867415145577],\"type\":\"scatter\",\"xaxis\":\"x3\",\"yaxis\":\"y3\"},{\"marker\":{\"color\":[0,1,2,3,4,5,6,7,8,9,10,11,12,13,14,15,16,17,18,19,20,21,22,23,24,25,26,27,28,29,30,31,32,33,34,35,36,37,38,39,40,41,42,43,44,45,46,47,48,49,50,51,52,53,54,55,56,57,58,59,60,61,62,63,64,65,66,67,68,69,70,71,72,73,74,75,76,77,78,79,80,81,82,83,84,85,86,87,88,89,90,91,92,93,94,95,96,97,98,99,100,101,102,103,104,105,106,107,108,109,110,111,112,113,114,115,116,117,118,119,120,121,122,123,124,125,126,127,128,129,130,131,132,133,134,135,136,137,138,139,140,141,142,143,144,145,146,147,148,149,150,151,152,153,154,155,156,157,158,159,160,161,162,163,164,165,166,167,168,169,170,171,172,173,174,175,176,177,178,179,180,181,182,183,184,185,186,187,188,189,190,191,192,193,194,195,196,197,198,199,200,201,202,203,204,205,206,207,208,209,210,211,212,213,214,215,216,217,218,219,220,221,222,223,224,225,226,227,228,229,230,231,232,233,234,235,236,237,238,239,240,241,242,243,244,245,246,247,248,249,250,251,252,253,254,255,256,257,258,259,260,261,262,263,264,265,266,267,268,269,270,271,272,273,274,275,276,277,278,279,280,281,282,283,284,285,286,287,288,289,290,291,292,293,294,295,296,297,298,299,300,301,302,303,304,305,306,307,308,309,310,311,312,313,314,315,316,317,318,319,320,321,322,323,324,325,326,327,328,329,330,331,332,333,334,335,336,337,338,339,340,341,342,343,344,345,346,347,348,349,350,351,352,353,354,355,356,357,358,359,360,361,362,363,364,365,366,367,368,369,370,371,372,373,374,375,376,377,378,379,380,381,382,383,384,385,386,387,388,389,390,391,392,393,394,395,396,397,398,399,400,401,402,403,404,405,406,407,408,409,410,411,412,413,414,415,416,417,418,419,420,421,422,423,424,425,426,427,428,429,430,431,432,433,434,435,436,437,438,439,440,441,442,443,444,445,446,447,448,449],\"colorbar\":{\"title\":{\"text\":\"Trial\"},\"x\":1.0,\"xpad\":40},\"colorscale\":[[0.0,\"rgb(247,251,255)\"],[0.125,\"rgb(222,235,247)\"],[0.25,\"rgb(198,219,239)\"],[0.375,\"rgb(158,202,225)\"],[0.5,\"rgb(107,174,214)\"],[0.625,\"rgb(66,146,198)\"],[0.75,\"rgb(33,113,181)\"],[0.875,\"rgb(8,81,156)\"],[1.0,\"rgb(8,48,107)\"]],\"line\":{\"color\":\"Grey\",\"width\":0.5},\"showscale\":false},\"mode\":\"markers\",\"name\":\"Feasible Trial\",\"showlegend\":false,\"x\":[1466,1202,501,1494,35,516,1253,1307,499,1278,19,19,57,259,271,878,249,801,4,648,183,118,371,61,382,990,150,351,140,604,17,5,132,198,81,307,1071,467,58,195,427,61,75,1,244,87,206,1382,61,570,299,46,123,2,160,42,242,105,44,737,173,72,32,28,117,25,218,149,33,289,1188,3,106,28,20,149,1,104,168,28,94,31,34,77,215,108,938,27,137,339,76,31,26,4,62,181,133,96,35,65,264,27,23,3,88,55,141,196,120,52,774,18,81,22,7,162,101,53,123,23,1,53,78,1488,37,693,22,839,83,117,21,2,46,74,35,23,99,1100,61,23,0,20,56,1,534,93,151,37,73,1360,122,23,30,25,66,3,95,55,30,123,59,25,27,0,81,34,49,90,21,411,67,2,27,46,0,28,101,70,30,113,54,23,25,1,73,31,0,60,101,48,81,25,25,0,44,64,28,88,132,46,23,27,23,59,5,73,48,25,0,101,51,26,33,76,23,5,61,31,93,55,30,1,26,25,2,53,83,49,25,0,73,26,30,0,42,49,24,72,23,53,25,1,28,632,29,70,45,0,96,30,61,25,472,0,992,83,50,27,116,28,53,26,84,56,1,27,76,43,108,1,27,65,28,0,59,98,47,34,1176,78,23,22,61,0,129,49,82,25,23,2,99,53,72,0,42,24,1423,112,73,0,51,28,86,28,53,336,157,692,557,24,0,58,89,27,45,116,62,1285,26,0,26,84,864,32,57,24,75,51,0,111,29,47,136,81,0,25,61,28,0,96,49,71,26,44,100,1,66,26,0,49,942,81,29,126,45,25,71,25,56,90,0,29,50,108,25,24,75,26,2,55,397,90,45,1,142,68,26,48,0,109,30,74,0,49,30,82,27,59,24,104,55,175,1140,24,73,447,1,47,95,503,27,60,25,0,120,74,46,24,49,83,24,141,24,1,0,54,101,70,41,1057,783,35,0,70,23,1349,45,85,0,25,51,111,29,73,29,725,1,57,96,27,54,131,25,78,0,49,1242,26,91,53],\"y\":[0.03324698331399583,0.026332902930887934,0.030469137563298575,0.03444987576203394,0.04814619271239208,0.038066821299608235,0.03313890578532456,0.035480558776875615,0.03795740934127874,0.031156855638856097,0.05370249298547826,0.053043338860751556,0.049358568615201014,0.04046620173964342,0.04135830475866652,0.03482896954916652,0.04154041337618398,0.03462141000783664,0.046612718601797054,0.037526935207238,0.043719300306238565,0.045391643727781025,0.03855362113289444,0.05005819010027681,0.039473372363462364,0.03480637042849982,0.03369956604439408,0.0399559022002486,0.045554766209695396,0.0377710062570645,0.05345532201680157,0.049179364245239526,0.045038814489735374,0.042924297756840736,0.04001730686109394,0.040681947973510366,0.03255432649509493,0.039981091096421034,0.0503522003189274,0.03981101195489917,0.032811783069301007,0.049862294786565405,0.04851576479166418,0.02024138376707917,0.04170481583937038,0.04767053965435942,0.04313826063367159,0.03283938541515903,0.03278310247782083,0.037876718506305,0.040726692725909806,0.050762033934032155,0.04610049465209755,0.035598704019295734,0.044183615546848895,0.04990649894396905,0.04210634543158245,0.047338175501152914,0.05084595784289079,0.03654701218043085,0.042371475724924626,0.048460256440363954,0.052472475068935306,0.052887525248913415,0.04626885698320693,0.05317992334355266,0.04275097241274065,0.034748374854042384,0.052153755408722705,0.03966879729859924,0.03456739709318828,0.04381019379874547,0.04726398158402837,0.05265843147113376,0.05331823873229896,0.045087667532495476,0.020770348777273694,0.047398026686143964,0.0389465853039739,0.05219137903797115,0.04709926993082188,0.0508971605112515,0.05151212750052316,0.048758814503789674,0.04242500361269015,0.04710632376294343,0.03531964393831496,0.052457237175554304,0.045799822985578484,0.033738054775223146,0.0488217757697453,0.051946099320358693,0.05278336944453671,0.04705396776723112,0.049838598061873234,0.043675457175516186,0.04587686254833845,0.04662172783159644,0.05218017043087157,0.0494985524929483,0.04088362422565477,0.05221018954207535,0.05253647896025815,0.04302974775721296,0.04816109208279552,0.04896643161435016,0.045115575584085396,0.04286887657038844,0.04155131211473144,0.049748990510831904,0.03438504613986426,0.0528663253282279,0.04815928395451181,0.053184673529307856,0.051916487103832246,0.043299638979650404,0.04754727094759563,0.05076538637504058,0.04623849148207724,0.047417452844366215,0.02022282504685614,0.05026288773688968,0.048146784203736005,0.033965166850007285,0.051114131635104296,0.036454444441654986,0.05341465722787142,0.03552890563535609,0.03666385268601502,0.04671620191668675,0.053604758640113416,0.037257922932716854,0.05125645218515289,0.04907912984206813,0.052227000936113085,0.05341870658574962,0.04766486170283768,0.03341205827496927,0.050080152181557966,0.05328353864373002,0.0002664826418719655,0.05353499815479453,0.05007783008052824,0.020625866865305254,0.0368139763138582,0.04765859233065183,0.04512944980534381,0.05184343676719398,0.048504895493151595,0.0331849856244731,0.04121725363851465,0.05282848818748159,0.05191767159807118,0.05251727378020658,0.048936109878433595,0.044208576613926395,0.0471758536609599,0.04945865583313777,0.05238245591016597,0.046327703480299236,0.04987587977943793,0.052723232440028765,0.052742427144316886,0.0002664826418719655,0.04871490000398578,0.05215845464194435,0.05080581134781799,0.04797725966127435,0.05328432894531375,0.03825159292314441,0.04913631963637322,0.03644820818813297,0.05232801211309551,0.05058215622683474,0.0002664826418719655,0.05255776313824743,0.04746732427685902,0.04890617255157278,0.052448670670091325,0.04694639389465257,0.04371043937336743,0.053138127327039986,0.052718246880571085,0.01961097420207157,0.04893820996096516,0.05254108530861705,0.0002664826418719655,0.05021489654233825,0.04738824552417005,0.050559405869964304,0.04223967199505846,0.052636546251000324,0.05274947957147995,0.0002664826418719655,0.051100629641741335,0.04984303897361041,0.05224156680194235,0.04476627402902931,0.04556134751061881,0.0512478898108774,0.05254800497278619,0.052570520624497505,0.05309453242412906,0.05005515614018681,0.049260964973266985,0.04913904231473435,0.050933518728898494,0.052940203076757786,0.0002664826418719655,0.04743906713380423,0.0447716937735021,0.05278340209256904,0.05218999514565716,0.048792968009973195,0.053301229217860034,0.05051208651483021,0.049730293864476915,0.05247715393762241,0.04795038885116478,0.04968247262213467,0.05213521401905165,0.01958306821780261,0.05294787340695032,0.052965634437134465,0.03750764346191856,0.050354025210916684,0.048068647868180395,0.050820098983822684,0.053192171650747425,0.0002664826418719655,0.04889540237577561,0.05298924866125896,0.052676630927969856,0.0002664826418719655,0.05146360592161434,0.05087833720645489,0.05328716987791245,0.049349621094694415,0.05341014175498473,0.05072096751384281,0.05319565120216119,0.020298223986877865,0.0528349634064809,0.03643449682323522,0.052779333619889755,0.04949095586367009,0.051312590526507496,0.0002664826418719655,0.04782487103874401,0.05267665454289437,0.05012491176372837,0.05307640278752486,0.030592871249155235,0.0002664826418719655,0.033483224130800245,0.04853853410290045,0.05057667619140397,0.052905302300901694,0.04662810288686135,0.052785807574896905,0.05072517009082791,0.05302427246524616,0.048255091838980024,0.05000258676611448,0.02063139597007708,0.05298316341498076,0.04908773048570615,0.05153131274652325,0.04718594425190997,0.02071495386353738,0.03667497071865735,0.049805236911150165,0.05278226546063021,0.0002664826418719655,0.0453107318146697,0.04738244317335088,0.05120312631972691,0.0523194585871497,0.033321802671932056,0.048360619857158,0.05330605795609156,0.053421441611220755,0.05011568507579704,0.0002664826418719655,0.043880011341689215,0.051015829896634536,0.048569456424178106,0.053181993383246626,0.05342114833437674,0.0370023087688049,0.0393580630137986,0.044417733669923416,0.04928352260680933,0.0002664826418719655,0.05159836205404498,0.053226070133459424,0.033593167746711707,0.04694705511051811,0.04918009342818756,0.0002664826418719655,0.050757086473957644,0.05291267410433097,0.04832338315082683,0.052800107254639274,0.05075063002723542,0.039958579053552365,0.044211670008936534,0.03513044170799907,0.03725711421479812,0.04458412125692145,0.0002664826418719655,0.050134267717387215,0.048198007479569954,0.05297733588587722,0.0513419833324078,0.046630610816760384,0.04995732258019859,0.03250135757746272,0.05309608844642524,0.0002664826418719655,0.053115138222547195,0.0485426891786735,0.03506109496076011,0.05247405672320217,0.05042900647211144,0.053219681790958706,0.049023859745606115,0.050840845206065036,0.0002664826418719655,0.047042243192549224,0.04400429633060646,0.051190866564585116,0.04580131881466834,0.04858292285739425,0.0002664826418719655,0.053184442633366635,0.050110715185494537,0.050371721440861085,0.0002664826418719655,0.047785446943191236,0.05103717718579069,0.049340733488470664,0.05305947173860868,0.05130618774841469,0.047435263946884174,0.02007441160344,0.04979230513355574,0.05307405198996862,0.0002664826418719655,0.05060841958123731,0.02927803985843553,0.04864349977774612,0.05274203023088357,0.04625072463247637,0.05116258183145974,0.053191736145366916,0.049389023399662016,0.053205501229680076,0.05051442608080654,0.04807129692627238,0.0002664826418719655,0.05277851026735767,0.05084965648001623,0.04683345588968544,0.05318343057050301,0.05330300093871647,0.048958902826168625,0.053080103299979677,0.03730927269301402,0.05051600632698126,0.03898604659114761,0.03548578176395485,0.05129950212254072,0.020754137387667994,0.044375912809123966,0.048967001968867885,0.05310487636169009,0.050771625253807254,0.0002664826418719655,0.04533291152708037,0.0526433046575437,0.049201143504004806,0.0002664826418719655,0.051016059651910785,0.05260750852969994,0.04811840246061358,0.05281346840798169,0.0502311954002998,0.053290539549150515,0.04739740245097478,0.05063721353675554,0.04395810848482335,0.030199508301712075,0.05313094859470495,0.049210747519225856,0.038262328053049924,0.020247560709111764,0.04682259831335464,0.04772214187686012,0.03774681121102223,0.052847758354719186,0.05019948065635708,0.05288581883174122,0.0002664826418719655,0.0465691328902873,0.04917604364989033,0.051141739488587155,0.05329199322311109,0.033845634725264896,0.04859997697479275,0.05325260276122264,0.045563484912983905,0.053231092174650455,0.02006929883263382,0.0002664826418719655,0.05051310528810095,0.04753179272913118,0.04946487540011091,0.05163285768657535,0.034852829366112226,0.03555118091919194,0.0521564103981937,0.0002664826418719655,0.04915038377642298,0.05340830084328356,0.033977001067100956,0.05093514492684801,0.04845475803253587,0.0002664826418719655,0.053198648233263736,0.03936238094782014,0.04680131825691733,0.05271034373074329,0.04926216927731234,0.05272854410424118,0.03640940162214149,0.02076949636764042,0.050486416511203426,0.04771072055869466,0.052565096218566455,0.05040589217819526,0.046031040729327774,0.05315179229717726,0.04889570091477457,0.0002664826418719655,0.05102110147661072,0.03424886353482064,0.053031892438765695,0.03979647859217959,0.050723867415145577],\"type\":\"scatter\",\"xaxis\":\"x4\",\"yaxis\":\"y4\"}],                        {\"template\":{\"data\":{\"histogram2dcontour\":[{\"type\":\"histogram2dcontour\",\"colorbar\":{\"outlinewidth\":0,\"ticks\":\"\"},\"colorscale\":[[0.0,\"#0d0887\"],[0.1111111111111111,\"#46039f\"],[0.2222222222222222,\"#7201a8\"],[0.3333333333333333,\"#9c179e\"],[0.4444444444444444,\"#bd3786\"],[0.5555555555555556,\"#d8576b\"],[0.6666666666666666,\"#ed7953\"],[0.7777777777777778,\"#fb9f3a\"],[0.8888888888888888,\"#fdca26\"],[1.0,\"#f0f921\"]]}],\"choropleth\":[{\"type\":\"choropleth\",\"colorbar\":{\"outlinewidth\":0,\"ticks\":\"\"}}],\"histogram2d\":[{\"type\":\"histogram2d\",\"colorbar\":{\"outlinewidth\":0,\"ticks\":\"\"},\"colorscale\":[[0.0,\"#0d0887\"],[0.1111111111111111,\"#46039f\"],[0.2222222222222222,\"#7201a8\"],[0.3333333333333333,\"#9c179e\"],[0.4444444444444444,\"#bd3786\"],[0.5555555555555556,\"#d8576b\"],[0.6666666666666666,\"#ed7953\"],[0.7777777777777778,\"#fb9f3a\"],[0.8888888888888888,\"#fdca26\"],[1.0,\"#f0f921\"]]}],\"heatmap\":[{\"type\":\"heatmap\",\"colorbar\":{\"outlinewidth\":0,\"ticks\":\"\"},\"colorscale\":[[0.0,\"#0d0887\"],[0.1111111111111111,\"#46039f\"],[0.2222222222222222,\"#7201a8\"],[0.3333333333333333,\"#9c179e\"],[0.4444444444444444,\"#bd3786\"],[0.5555555555555556,\"#d8576b\"],[0.6666666666666666,\"#ed7953\"],[0.7777777777777778,\"#fb9f3a\"],[0.8888888888888888,\"#fdca26\"],[1.0,\"#f0f921\"]]}],\"heatmapgl\":[{\"type\":\"heatmapgl\",\"colorbar\":{\"outlinewidth\":0,\"ticks\":\"\"},\"colorscale\":[[0.0,\"#0d0887\"],[0.1111111111111111,\"#46039f\"],[0.2222222222222222,\"#7201a8\"],[0.3333333333333333,\"#9c179e\"],[0.4444444444444444,\"#bd3786\"],[0.5555555555555556,\"#d8576b\"],[0.6666666666666666,\"#ed7953\"],[0.7777777777777778,\"#fb9f3a\"],[0.8888888888888888,\"#fdca26\"],[1.0,\"#f0f921\"]]}],\"contourcarpet\":[{\"type\":\"contourcarpet\",\"colorbar\":{\"outlinewidth\":0,\"ticks\":\"\"}}],\"contour\":[{\"type\":\"contour\",\"colorbar\":{\"outlinewidth\":0,\"ticks\":\"\"},\"colorscale\":[[0.0,\"#0d0887\"],[0.1111111111111111,\"#46039f\"],[0.2222222222222222,\"#7201a8\"],[0.3333333333333333,\"#9c179e\"],[0.4444444444444444,\"#bd3786\"],[0.5555555555555556,\"#d8576b\"],[0.6666666666666666,\"#ed7953\"],[0.7777777777777778,\"#fb9f3a\"],[0.8888888888888888,\"#fdca26\"],[1.0,\"#f0f921\"]]}],\"surface\":[{\"type\":\"surface\",\"colorbar\":{\"outlinewidth\":0,\"ticks\":\"\"},\"colorscale\":[[0.0,\"#0d0887\"],[0.1111111111111111,\"#46039f\"],[0.2222222222222222,\"#7201a8\"],[0.3333333333333333,\"#9c179e\"],[0.4444444444444444,\"#bd3786\"],[0.5555555555555556,\"#d8576b\"],[0.6666666666666666,\"#ed7953\"],[0.7777777777777778,\"#fb9f3a\"],[0.8888888888888888,\"#fdca26\"],[1.0,\"#f0f921\"]]}],\"mesh3d\":[{\"type\":\"mesh3d\",\"colorbar\":{\"outlinewidth\":0,\"ticks\":\"\"}}],\"scatter\":[{\"fillpattern\":{\"fillmode\":\"overlay\",\"size\":10,\"solidity\":0.2},\"type\":\"scatter\"}],\"parcoords\":[{\"type\":\"parcoords\",\"line\":{\"colorbar\":{\"outlinewidth\":0,\"ticks\":\"\"}}}],\"scatterpolargl\":[{\"type\":\"scatterpolargl\",\"marker\":{\"colorbar\":{\"outlinewidth\":0,\"ticks\":\"\"}}}],\"bar\":[{\"error_x\":{\"color\":\"#2a3f5f\"},\"error_y\":{\"color\":\"#2a3f5f\"},\"marker\":{\"line\":{\"color\":\"#E5ECF6\",\"width\":0.5},\"pattern\":{\"fillmode\":\"overlay\",\"size\":10,\"solidity\":0.2}},\"type\":\"bar\"}],\"scattergeo\":[{\"type\":\"scattergeo\",\"marker\":{\"colorbar\":{\"outlinewidth\":0,\"ticks\":\"\"}}}],\"scatterpolar\":[{\"type\":\"scatterpolar\",\"marker\":{\"colorbar\":{\"outlinewidth\":0,\"ticks\":\"\"}}}],\"histogram\":[{\"marker\":{\"pattern\":{\"fillmode\":\"overlay\",\"size\":10,\"solidity\":0.2}},\"type\":\"histogram\"}],\"scattergl\":[{\"type\":\"scattergl\",\"marker\":{\"colorbar\":{\"outlinewidth\":0,\"ticks\":\"\"}}}],\"scatter3d\":[{\"type\":\"scatter3d\",\"line\":{\"colorbar\":{\"outlinewidth\":0,\"ticks\":\"\"}},\"marker\":{\"colorbar\":{\"outlinewidth\":0,\"ticks\":\"\"}}}],\"scattermapbox\":[{\"type\":\"scattermapbox\",\"marker\":{\"colorbar\":{\"outlinewidth\":0,\"ticks\":\"\"}}}],\"scatterternary\":[{\"type\":\"scatterternary\",\"marker\":{\"colorbar\":{\"outlinewidth\":0,\"ticks\":\"\"}}}],\"scattercarpet\":[{\"type\":\"scattercarpet\",\"marker\":{\"colorbar\":{\"outlinewidth\":0,\"ticks\":\"\"}}}],\"carpet\":[{\"aaxis\":{\"endlinecolor\":\"#2a3f5f\",\"gridcolor\":\"white\",\"linecolor\":\"white\",\"minorgridcolor\":\"white\",\"startlinecolor\":\"#2a3f5f\"},\"baxis\":{\"endlinecolor\":\"#2a3f5f\",\"gridcolor\":\"white\",\"linecolor\":\"white\",\"minorgridcolor\":\"white\",\"startlinecolor\":\"#2a3f5f\"},\"type\":\"carpet\"}],\"table\":[{\"cells\":{\"fill\":{\"color\":\"#EBF0F8\"},\"line\":{\"color\":\"white\"}},\"header\":{\"fill\":{\"color\":\"#C8D4E3\"},\"line\":{\"color\":\"white\"}},\"type\":\"table\"}],\"barpolar\":[{\"marker\":{\"line\":{\"color\":\"#E5ECF6\",\"width\":0.5},\"pattern\":{\"fillmode\":\"overlay\",\"size\":10,\"solidity\":0.2}},\"type\":\"barpolar\"}],\"pie\":[{\"automargin\":true,\"type\":\"pie\"}]},\"layout\":{\"autotypenumbers\":\"strict\",\"colorway\":[\"#636efa\",\"#EF553B\",\"#00cc96\",\"#ab63fa\",\"#FFA15A\",\"#19d3f3\",\"#FF6692\",\"#B6E880\",\"#FF97FF\",\"#FECB52\"],\"font\":{\"color\":\"#2a3f5f\"},\"hovermode\":\"closest\",\"hoverlabel\":{\"align\":\"left\"},\"paper_bgcolor\":\"white\",\"plot_bgcolor\":\"#E5ECF6\",\"polar\":{\"bgcolor\":\"#E5ECF6\",\"angularaxis\":{\"gridcolor\":\"white\",\"linecolor\":\"white\",\"ticks\":\"\"},\"radialaxis\":{\"gridcolor\":\"white\",\"linecolor\":\"white\",\"ticks\":\"\"}},\"ternary\":{\"bgcolor\":\"#E5ECF6\",\"aaxis\":{\"gridcolor\":\"white\",\"linecolor\":\"white\",\"ticks\":\"\"},\"baxis\":{\"gridcolor\":\"white\",\"linecolor\":\"white\",\"ticks\":\"\"},\"caxis\":{\"gridcolor\":\"white\",\"linecolor\":\"white\",\"ticks\":\"\"}},\"coloraxis\":{\"colorbar\":{\"outlinewidth\":0,\"ticks\":\"\"}},\"colorscale\":{\"sequential\":[[0.0,\"#0d0887\"],[0.1111111111111111,\"#46039f\"],[0.2222222222222222,\"#7201a8\"],[0.3333333333333333,\"#9c179e\"],[0.4444444444444444,\"#bd3786\"],[0.5555555555555556,\"#d8576b\"],[0.6666666666666666,\"#ed7953\"],[0.7777777777777778,\"#fb9f3a\"],[0.8888888888888888,\"#fdca26\"],[1.0,\"#f0f921\"]],\"sequentialminus\":[[0.0,\"#0d0887\"],[0.1111111111111111,\"#46039f\"],[0.2222222222222222,\"#7201a8\"],[0.3333333333333333,\"#9c179e\"],[0.4444444444444444,\"#bd3786\"],[0.5555555555555556,\"#d8576b\"],[0.6666666666666666,\"#ed7953\"],[0.7777777777777778,\"#fb9f3a\"],[0.8888888888888888,\"#fdca26\"],[1.0,\"#f0f921\"]],\"diverging\":[[0,\"#8e0152\"],[0.1,\"#c51b7d\"],[0.2,\"#de77ae\"],[0.3,\"#f1b6da\"],[0.4,\"#fde0ef\"],[0.5,\"#f7f7f7\"],[0.6,\"#e6f5d0\"],[0.7,\"#b8e186\"],[0.8,\"#7fbc41\"],[0.9,\"#4d9221\"],[1,\"#276419\"]]},\"xaxis\":{\"gridcolor\":\"white\",\"linecolor\":\"white\",\"ticks\":\"\",\"title\":{\"standoff\":15},\"zerolinecolor\":\"white\",\"automargin\":true,\"zerolinewidth\":2},\"yaxis\":{\"gridcolor\":\"white\",\"linecolor\":\"white\",\"ticks\":\"\",\"title\":{\"standoff\":15},\"zerolinecolor\":\"white\",\"automargin\":true,\"zerolinewidth\":2},\"scene\":{\"xaxis\":{\"backgroundcolor\":\"#E5ECF6\",\"gridcolor\":\"white\",\"linecolor\":\"white\",\"showbackground\":true,\"ticks\":\"\",\"zerolinecolor\":\"white\",\"gridwidth\":2},\"yaxis\":{\"backgroundcolor\":\"#E5ECF6\",\"gridcolor\":\"white\",\"linecolor\":\"white\",\"showbackground\":true,\"ticks\":\"\",\"zerolinecolor\":\"white\",\"gridwidth\":2},\"zaxis\":{\"backgroundcolor\":\"#E5ECF6\",\"gridcolor\":\"white\",\"linecolor\":\"white\",\"showbackground\":true,\"ticks\":\"\",\"zerolinecolor\":\"white\",\"gridwidth\":2}},\"shapedefaults\":{\"line\":{\"color\":\"#2a3f5f\"}},\"annotationdefaults\":{\"arrowcolor\":\"#2a3f5f\",\"arrowhead\":0,\"arrowwidth\":1},\"geo\":{\"bgcolor\":\"white\",\"landcolor\":\"#E5ECF6\",\"subunitcolor\":\"white\",\"showland\":true,\"showlakes\":true,\"lakecolor\":\"white\"},\"title\":{\"x\":0.05},\"mapbox\":{\"style\":\"light\"}}},\"xaxis\":{\"anchor\":\"y\",\"domain\":[0.0,0.2125],\"title\":{\"text\":\"alpha\"}},\"yaxis\":{\"anchor\":\"x\",\"domain\":[0.0,1.0],\"title\":{\"text\":\"Objective Value\"}},\"xaxis2\":{\"anchor\":\"y2\",\"domain\":[0.2625,0.475],\"title\":{\"text\":\"implicit\"},\"type\":\"category\",\"categoryorder\":\"array\",\"categoryarray\":[true,false]},\"yaxis2\":{\"anchor\":\"x2\",\"domain\":[0.0,1.0],\"matches\":\"y\",\"showticklabels\":false},\"xaxis3\":{\"anchor\":\"y3\",\"domain\":[0.525,0.7375],\"title\":{\"text\":\"normalize_similarity\"},\"type\":\"category\",\"categoryorder\":\"array\",\"categoryarray\":[true,false]},\"yaxis3\":{\"anchor\":\"x3\",\"domain\":[0.0,1.0],\"matches\":\"y\",\"showticklabels\":false},\"xaxis4\":{\"anchor\":\"y4\",\"domain\":[0.7875,1.0],\"title\":{\"text\":\"topK\"}},\"yaxis4\":{\"anchor\":\"x4\",\"domain\":[0.0,1.0],\"matches\":\"y\",\"showticklabels\":false},\"title\":{\"text\":\"Slice Plot\"},\"width\":1200},                        {\"responsive\": true}                    ).then(function(){\n",
       "                            \n",
       "var gd = document.getElementById('4b21d5ae-cdf4-4e3a-b507-25da5944e417');\n",
       "var x = new MutationObserver(function (mutations, observer) {{\n",
       "        var display = window.getComputedStyle(gd).display;\n",
       "        if (!display || display === 'none') {{\n",
       "            console.log([gd, 'removed!']);\n",
       "            Plotly.purge(gd);\n",
       "            observer.disconnect();\n",
       "        }}\n",
       "}});\n",
       "\n",
       "// Listen for the removal of the full notebook cells\n",
       "var notebookContainer = gd.closest('#notebook-container');\n",
       "if (notebookContainer) {{\n",
       "    x.observe(notebookContainer, {childList: true});\n",
       "}}\n",
       "\n",
       "// Listen for the clearing of the current output cell\n",
       "var outputEl = gd.closest('.output');\n",
       "if (outputEl) {{\n",
       "    x.observe(outputEl, {childList: true});\n",
       "}}\n",
       "\n",
       "                        })                };                            </script>        </div>\n",
       "</body>\n",
       "</html>"
      ]
     },
     "metadata": {},
     "output_type": "display_data"
    }
   ],
   "source": [
    "if not config['tune_parameters']:\n",
    "    optuna_study = optuna.load_study(study_name=f'hyperparameters_tuning_{config[\"model\"]}_{config[\"metric\"]}', storage=f'sqlite:///{config[\"database_path\"]}')\n",
    "    \n",
    "fig = optuna.visualization.plot_slice(optuna_study)\n",
    "fig.show()"
   ]
  },
  {
   "cell_type": "code",
   "execution_count": 15,
   "id": "c7aab268",
   "metadata": {
    "execution": {
     "iopub.execute_input": "2025-01-06T16:14:27.747424Z",
     "iopub.status.busy": "2025-01-06T16:14:27.747021Z",
     "iopub.status.idle": "2025-01-06T16:14:37.662836Z",
     "shell.execute_reply": "2025-01-06T16:14:37.661642Z"
    },
    "papermill": {
     "duration": 9.987352,
     "end_time": "2025-01-06T16:14:37.664651",
     "exception": false,
     "start_time": "2025-01-06T16:14:27.677299",
     "status": "completed"
    },
    "tags": []
   },
   "outputs": [
    {
     "data": {
      "text/html": [
       "<html>\n",
       "<head><meta charset=\"utf-8\" /></head>\n",
       "<body>\n",
       "    <div>            <script src=\"https://cdnjs.cloudflare.com/ajax/libs/mathjax/2.7.5/MathJax.js?config=TeX-AMS-MML_SVG\"></script><script type=\"text/javascript\">if (window.MathJax && window.MathJax.Hub && window.MathJax.Hub.Config) {window.MathJax.Hub.Config({SVG: {font: \"STIX-Web\"}});}</script>                <script type=\"text/javascript\">window.PlotlyConfig = {MathJaxConfig: 'local'};</script>\n",
       "        <script charset=\"utf-8\" src=\"https://cdn.plot.ly/plotly-2.35.2.min.js\"></script>                <div id=\"12b79d15-51dd-426d-a8a5-eb56b65577cb\" class=\"plotly-graph-div\" style=\"height:525px; width:100%;\"></div>            <script type=\"text/javascript\">                                    window.PLOTLYENV=window.PLOTLYENV || {};                                    if (document.getElementById(\"12b79d15-51dd-426d-a8a5-eb56b65577cb\")) {                    Plotly.newPlot(                        \"12b79d15-51dd-426d-a8a5-eb56b65577cb\",                        [{\"cliponaxis\":false,\"hovertemplate\":[\"implicit (CategoricalDistribution): 0.004891230291834572\\u003cextra\\u003e\\u003c\\u002fextra\\u003e\",\"alpha (FloatDistribution): 0.03902682931299249\\u003cextra\\u003e\\u003c\\u002fextra\\u003e\",\"normalize_similarity (CategoricalDistribution): 0.12241448233413836\\u003cextra\\u003e\\u003c\\u002fextra\\u003e\",\"topK (IntDistribution): 0.8336674580610346\\u003cextra\\u003e\\u003c\\u002fextra\\u003e\"],\"name\":\"Objective Value\",\"orientation\":\"h\",\"text\":[\"\\u003c0.01\",\"0.04\",\"0.12\",\"0.83\"],\"textposition\":\"outside\",\"x\":[0.004891230291834572,0.03902682931299249,0.12241448233413836,0.8336674580610346],\"y\":[\"implicit\",\"alpha\",\"normalize_similarity\",\"topK\"],\"type\":\"bar\"}],                        {\"title\":{\"text\":\"Hyperparameter Importances\"},\"xaxis\":{\"title\":{\"text\":\"Hyperparameter Importance\"}},\"yaxis\":{\"title\":{\"text\":\"Hyperparameter\"}},\"template\":{\"data\":{\"histogram2dcontour\":[{\"type\":\"histogram2dcontour\",\"colorbar\":{\"outlinewidth\":0,\"ticks\":\"\"},\"colorscale\":[[0.0,\"#0d0887\"],[0.1111111111111111,\"#46039f\"],[0.2222222222222222,\"#7201a8\"],[0.3333333333333333,\"#9c179e\"],[0.4444444444444444,\"#bd3786\"],[0.5555555555555556,\"#d8576b\"],[0.6666666666666666,\"#ed7953\"],[0.7777777777777778,\"#fb9f3a\"],[0.8888888888888888,\"#fdca26\"],[1.0,\"#f0f921\"]]}],\"choropleth\":[{\"type\":\"choropleth\",\"colorbar\":{\"outlinewidth\":0,\"ticks\":\"\"}}],\"histogram2d\":[{\"type\":\"histogram2d\",\"colorbar\":{\"outlinewidth\":0,\"ticks\":\"\"},\"colorscale\":[[0.0,\"#0d0887\"],[0.1111111111111111,\"#46039f\"],[0.2222222222222222,\"#7201a8\"],[0.3333333333333333,\"#9c179e\"],[0.4444444444444444,\"#bd3786\"],[0.5555555555555556,\"#d8576b\"],[0.6666666666666666,\"#ed7953\"],[0.7777777777777778,\"#fb9f3a\"],[0.8888888888888888,\"#fdca26\"],[1.0,\"#f0f921\"]]}],\"heatmap\":[{\"type\":\"heatmap\",\"colorbar\":{\"outlinewidth\":0,\"ticks\":\"\"},\"colorscale\":[[0.0,\"#0d0887\"],[0.1111111111111111,\"#46039f\"],[0.2222222222222222,\"#7201a8\"],[0.3333333333333333,\"#9c179e\"],[0.4444444444444444,\"#bd3786\"],[0.5555555555555556,\"#d8576b\"],[0.6666666666666666,\"#ed7953\"],[0.7777777777777778,\"#fb9f3a\"],[0.8888888888888888,\"#fdca26\"],[1.0,\"#f0f921\"]]}],\"heatmapgl\":[{\"type\":\"heatmapgl\",\"colorbar\":{\"outlinewidth\":0,\"ticks\":\"\"},\"colorscale\":[[0.0,\"#0d0887\"],[0.1111111111111111,\"#46039f\"],[0.2222222222222222,\"#7201a8\"],[0.3333333333333333,\"#9c179e\"],[0.4444444444444444,\"#bd3786\"],[0.5555555555555556,\"#d8576b\"],[0.6666666666666666,\"#ed7953\"],[0.7777777777777778,\"#fb9f3a\"],[0.8888888888888888,\"#fdca26\"],[1.0,\"#f0f921\"]]}],\"contourcarpet\":[{\"type\":\"contourcarpet\",\"colorbar\":{\"outlinewidth\":0,\"ticks\":\"\"}}],\"contour\":[{\"type\":\"contour\",\"colorbar\":{\"outlinewidth\":0,\"ticks\":\"\"},\"colorscale\":[[0.0,\"#0d0887\"],[0.1111111111111111,\"#46039f\"],[0.2222222222222222,\"#7201a8\"],[0.3333333333333333,\"#9c179e\"],[0.4444444444444444,\"#bd3786\"],[0.5555555555555556,\"#d8576b\"],[0.6666666666666666,\"#ed7953\"],[0.7777777777777778,\"#fb9f3a\"],[0.8888888888888888,\"#fdca26\"],[1.0,\"#f0f921\"]]}],\"surface\":[{\"type\":\"surface\",\"colorbar\":{\"outlinewidth\":0,\"ticks\":\"\"},\"colorscale\":[[0.0,\"#0d0887\"],[0.1111111111111111,\"#46039f\"],[0.2222222222222222,\"#7201a8\"],[0.3333333333333333,\"#9c179e\"],[0.4444444444444444,\"#bd3786\"],[0.5555555555555556,\"#d8576b\"],[0.6666666666666666,\"#ed7953\"],[0.7777777777777778,\"#fb9f3a\"],[0.8888888888888888,\"#fdca26\"],[1.0,\"#f0f921\"]]}],\"mesh3d\":[{\"type\":\"mesh3d\",\"colorbar\":{\"outlinewidth\":0,\"ticks\":\"\"}}],\"scatter\":[{\"fillpattern\":{\"fillmode\":\"overlay\",\"size\":10,\"solidity\":0.2},\"type\":\"scatter\"}],\"parcoords\":[{\"type\":\"parcoords\",\"line\":{\"colorbar\":{\"outlinewidth\":0,\"ticks\":\"\"}}}],\"scatterpolargl\":[{\"type\":\"scatterpolargl\",\"marker\":{\"colorbar\":{\"outlinewidth\":0,\"ticks\":\"\"}}}],\"bar\":[{\"error_x\":{\"color\":\"#2a3f5f\"},\"error_y\":{\"color\":\"#2a3f5f\"},\"marker\":{\"line\":{\"color\":\"#E5ECF6\",\"width\":0.5},\"pattern\":{\"fillmode\":\"overlay\",\"size\":10,\"solidity\":0.2}},\"type\":\"bar\"}],\"scattergeo\":[{\"type\":\"scattergeo\",\"marker\":{\"colorbar\":{\"outlinewidth\":0,\"ticks\":\"\"}}}],\"scatterpolar\":[{\"type\":\"scatterpolar\",\"marker\":{\"colorbar\":{\"outlinewidth\":0,\"ticks\":\"\"}}}],\"histogram\":[{\"marker\":{\"pattern\":{\"fillmode\":\"overlay\",\"size\":10,\"solidity\":0.2}},\"type\":\"histogram\"}],\"scattergl\":[{\"type\":\"scattergl\",\"marker\":{\"colorbar\":{\"outlinewidth\":0,\"ticks\":\"\"}}}],\"scatter3d\":[{\"type\":\"scatter3d\",\"line\":{\"colorbar\":{\"outlinewidth\":0,\"ticks\":\"\"}},\"marker\":{\"colorbar\":{\"outlinewidth\":0,\"ticks\":\"\"}}}],\"scattermapbox\":[{\"type\":\"scattermapbox\",\"marker\":{\"colorbar\":{\"outlinewidth\":0,\"ticks\":\"\"}}}],\"scatterternary\":[{\"type\":\"scatterternary\",\"marker\":{\"colorbar\":{\"outlinewidth\":0,\"ticks\":\"\"}}}],\"scattercarpet\":[{\"type\":\"scattercarpet\",\"marker\":{\"colorbar\":{\"outlinewidth\":0,\"ticks\":\"\"}}}],\"carpet\":[{\"aaxis\":{\"endlinecolor\":\"#2a3f5f\",\"gridcolor\":\"white\",\"linecolor\":\"white\",\"minorgridcolor\":\"white\",\"startlinecolor\":\"#2a3f5f\"},\"baxis\":{\"endlinecolor\":\"#2a3f5f\",\"gridcolor\":\"white\",\"linecolor\":\"white\",\"minorgridcolor\":\"white\",\"startlinecolor\":\"#2a3f5f\"},\"type\":\"carpet\"}],\"table\":[{\"cells\":{\"fill\":{\"color\":\"#EBF0F8\"},\"line\":{\"color\":\"white\"}},\"header\":{\"fill\":{\"color\":\"#C8D4E3\"},\"line\":{\"color\":\"white\"}},\"type\":\"table\"}],\"barpolar\":[{\"marker\":{\"line\":{\"color\":\"#E5ECF6\",\"width\":0.5},\"pattern\":{\"fillmode\":\"overlay\",\"size\":10,\"solidity\":0.2}},\"type\":\"barpolar\"}],\"pie\":[{\"automargin\":true,\"type\":\"pie\"}]},\"layout\":{\"autotypenumbers\":\"strict\",\"colorway\":[\"#636efa\",\"#EF553B\",\"#00cc96\",\"#ab63fa\",\"#FFA15A\",\"#19d3f3\",\"#FF6692\",\"#B6E880\",\"#FF97FF\",\"#FECB52\"],\"font\":{\"color\":\"#2a3f5f\"},\"hovermode\":\"closest\",\"hoverlabel\":{\"align\":\"left\"},\"paper_bgcolor\":\"white\",\"plot_bgcolor\":\"#E5ECF6\",\"polar\":{\"bgcolor\":\"#E5ECF6\",\"angularaxis\":{\"gridcolor\":\"white\",\"linecolor\":\"white\",\"ticks\":\"\"},\"radialaxis\":{\"gridcolor\":\"white\",\"linecolor\":\"white\",\"ticks\":\"\"}},\"ternary\":{\"bgcolor\":\"#E5ECF6\",\"aaxis\":{\"gridcolor\":\"white\",\"linecolor\":\"white\",\"ticks\":\"\"},\"baxis\":{\"gridcolor\":\"white\",\"linecolor\":\"white\",\"ticks\":\"\"},\"caxis\":{\"gridcolor\":\"white\",\"linecolor\":\"white\",\"ticks\":\"\"}},\"coloraxis\":{\"colorbar\":{\"outlinewidth\":0,\"ticks\":\"\"}},\"colorscale\":{\"sequential\":[[0.0,\"#0d0887\"],[0.1111111111111111,\"#46039f\"],[0.2222222222222222,\"#7201a8\"],[0.3333333333333333,\"#9c179e\"],[0.4444444444444444,\"#bd3786\"],[0.5555555555555556,\"#d8576b\"],[0.6666666666666666,\"#ed7953\"],[0.7777777777777778,\"#fb9f3a\"],[0.8888888888888888,\"#fdca26\"],[1.0,\"#f0f921\"]],\"sequentialminus\":[[0.0,\"#0d0887\"],[0.1111111111111111,\"#46039f\"],[0.2222222222222222,\"#7201a8\"],[0.3333333333333333,\"#9c179e\"],[0.4444444444444444,\"#bd3786\"],[0.5555555555555556,\"#d8576b\"],[0.6666666666666666,\"#ed7953\"],[0.7777777777777778,\"#fb9f3a\"],[0.8888888888888888,\"#fdca26\"],[1.0,\"#f0f921\"]],\"diverging\":[[0,\"#8e0152\"],[0.1,\"#c51b7d\"],[0.2,\"#de77ae\"],[0.3,\"#f1b6da\"],[0.4,\"#fde0ef\"],[0.5,\"#f7f7f7\"],[0.6,\"#e6f5d0\"],[0.7,\"#b8e186\"],[0.8,\"#7fbc41\"],[0.9,\"#4d9221\"],[1,\"#276419\"]]},\"xaxis\":{\"gridcolor\":\"white\",\"linecolor\":\"white\",\"ticks\":\"\",\"title\":{\"standoff\":15},\"zerolinecolor\":\"white\",\"automargin\":true,\"zerolinewidth\":2},\"yaxis\":{\"gridcolor\":\"white\",\"linecolor\":\"white\",\"ticks\":\"\",\"title\":{\"standoff\":15},\"zerolinecolor\":\"white\",\"automargin\":true,\"zerolinewidth\":2},\"scene\":{\"xaxis\":{\"backgroundcolor\":\"#E5ECF6\",\"gridcolor\":\"white\",\"linecolor\":\"white\",\"showbackground\":true,\"ticks\":\"\",\"zerolinecolor\":\"white\",\"gridwidth\":2},\"yaxis\":{\"backgroundcolor\":\"#E5ECF6\",\"gridcolor\":\"white\",\"linecolor\":\"white\",\"showbackground\":true,\"ticks\":\"\",\"zerolinecolor\":\"white\",\"gridwidth\":2},\"zaxis\":{\"backgroundcolor\":\"#E5ECF6\",\"gridcolor\":\"white\",\"linecolor\":\"white\",\"showbackground\":true,\"ticks\":\"\",\"zerolinecolor\":\"white\",\"gridwidth\":2}},\"shapedefaults\":{\"line\":{\"color\":\"#2a3f5f\"}},\"annotationdefaults\":{\"arrowcolor\":\"#2a3f5f\",\"arrowhead\":0,\"arrowwidth\":1},\"geo\":{\"bgcolor\":\"white\",\"landcolor\":\"#E5ECF6\",\"subunitcolor\":\"white\",\"showland\":true,\"showlakes\":true,\"lakecolor\":\"white\"},\"title\":{\"x\":0.05},\"mapbox\":{\"style\":\"light\"}}}},                        {\"responsive\": true}                    ).then(function(){\n",
       "                            \n",
       "var gd = document.getElementById('12b79d15-51dd-426d-a8a5-eb56b65577cb');\n",
       "var x = new MutationObserver(function (mutations, observer) {{\n",
       "        var display = window.getComputedStyle(gd).display;\n",
       "        if (!display || display === 'none') {{\n",
       "            console.log([gd, 'removed!']);\n",
       "            Plotly.purge(gd);\n",
       "            observer.disconnect();\n",
       "        }}\n",
       "}});\n",
       "\n",
       "// Listen for the removal of the full notebook cells\n",
       "var notebookContainer = gd.closest('#notebook-container');\n",
       "if (notebookContainer) {{\n",
       "    x.observe(notebookContainer, {childList: true});\n",
       "}}\n",
       "\n",
       "// Listen for the clearing of the current output cell\n",
       "var outputEl = gd.closest('.output');\n",
       "if (outputEl) {{\n",
       "    x.observe(outputEl, {childList: true});\n",
       "}}\n",
       "\n",
       "                        })                };                            </script>        </div>\n",
       "</body>\n",
       "</html>"
      ]
     },
     "metadata": {},
     "output_type": "display_data"
    }
   ],
   "source": [
    "if not config['tune_parameters']:\n",
    "    optuna_study = optuna.load_study(study_name=f'hyperparameters_tuning_{config[\"model\"]}_{config[\"metric\"]}', storage=f'sqlite:///{config[\"database_path\"]}')\n",
    "    \n",
    "fig = optuna.visualization.plot_param_importances(optuna_study)\n",
    "fig.show()"
   ]
  },
  {
   "cell_type": "markdown",
   "id": "9305700b",
   "metadata": {
    "papermill": {
     "duration": 0.068735,
     "end_time": "2025-01-06T16:14:37.803504",
     "exception": false,
     "start_time": "2025-01-06T16:14:37.734769",
     "status": "completed"
    },
    "tags": []
   },
   "source": [
    "## Let's train the recommender with best parameter values"
   ]
  },
  {
   "cell_type": "code",
   "execution_count": 16,
   "id": "9acabcc9",
   "metadata": {
    "execution": {
     "iopub.execute_input": "2025-01-06T16:14:37.942340Z",
     "iopub.status.busy": "2025-01-06T16:14:37.941993Z",
     "iopub.status.idle": "2025-01-06T16:14:57.758720Z",
     "shell.execute_reply": "2025-01-06T16:14:57.757269Z"
    },
    "papermill": {
     "duration": 19.88865,
     "end_time": "2025-01-06T16:14:57.760722",
     "exception": false,
     "start_time": "2025-01-06T16:14:37.872072",
     "status": "completed"
    },
    "tags": []
   },
   "outputs": [
    {
     "name": "stdout",
     "output_type": "stream",
     "text": [
      "P3alphaRecommender: Similarity column 38121 (100.0%), 2039.70 column/sec. Elapsed time 18.69 sec\n"
     ]
    }
   ],
   "source": [
    "if config['tune_best_params']:\n",
    "\n",
    "    if config['tune_parameters']:\n",
    "        best_params = optuna_study.best_trial.params\n",
    "    else: \n",
    "        with open(f'{K_PATH}/{GH_PATH}/{config[\"model\"]}Recommender/Optimizing{config[\"metric\"]}/best_params_{config[\"model\"]}_{config[\"metric\"]}.json', 'r') as best_params_json:\n",
    "            best_params = json.load(best_params_json)\n",
    "\n",
    "    recommender_instance = P3alphaRecommender(URM_train + URM_validation)\n",
    "    recommender_instance.fit(**best_params)"
   ]
  },
  {
   "cell_type": "markdown",
   "id": "09bfc469",
   "metadata": {
    "papermill": {
     "duration": 0.069588,
     "end_time": "2025-01-06T16:14:57.899223",
     "exception": false,
     "start_time": "2025-01-06T16:14:57.829635",
     "status": "completed"
    },
    "tags": []
   },
   "source": [
    "# Testing"
   ]
  },
  {
   "cell_type": "markdown",
   "id": "38d7e508",
   "metadata": {
    "papermill": {
     "duration": 0.070109,
     "end_time": "2025-01-06T16:14:58.038260",
     "exception": false,
     "start_time": "2025-01-06T16:14:57.968151",
     "status": "completed"
    },
    "tags": []
   },
   "source": [
    "Create the recommendations for the submission. "
   ]
  },
  {
   "cell_type": "code",
   "execution_count": 17,
   "id": "c8047fef",
   "metadata": {
    "execution": {
     "iopub.execute_input": "2025-01-06T16:14:58.184198Z",
     "iopub.status.busy": "2025-01-06T16:14:58.183802Z",
     "iopub.status.idle": "2025-01-06T16:15:23.551341Z",
     "shell.execute_reply": "2025-01-06T16:15:23.550082Z"
    },
    "papermill": {
     "duration": 25.442041,
     "end_time": "2025-01-06T16:15:23.553333",
     "exception": false,
     "start_time": "2025-01-06T16:14:58.111292",
     "status": "completed"
    },
    "tags": []
   },
   "outputs": [
    {
     "name": "stdout",
     "output_type": "stream",
     "text": [
      "Submission file saved as /kaggle/working/submission_P3alpha_MAP.csv\n"
     ]
    }
   ],
   "source": [
    "if config['tune_best_params']:\n",
    "\n",
    "    data_target_users_test = pd.read_csv('/kaggle/input/recommender-system-2024-challenge-polimi/data_target_users_test.csv')\n",
    "    create_submission(data_target_users_test, recommender_instance, f'/kaggle/working/submission_{config[\"model\"]}_{config[\"metric\"]}.csv')"
   ]
  },
  {
   "cell_type": "markdown",
   "id": "70336943",
   "metadata": {
    "execution": {
     "iopub.execute_input": "2024-11-14T00:04:16.877791Z",
     "iopub.status.busy": "2024-11-14T00:04:16.877275Z",
     "iopub.status.idle": "2024-11-14T00:04:16.883170Z",
     "shell.execute_reply": "2024-11-14T00:04:16.881889Z",
     "shell.execute_reply.started": "2024-11-14T00:04:16.877743Z"
    },
    "papermill": {
     "duration": 0.070011,
     "end_time": "2025-01-06T16:15:23.696019",
     "exception": false,
     "start_time": "2025-01-06T16:15:23.626008",
     "status": "completed"
    },
    "tags": []
   },
   "source": [
    "# Save Version on GitHub "
   ]
  },
  {
   "cell_type": "markdown",
   "id": "9092dcbe",
   "metadata": {
    "papermill": {
     "duration": 0.070111,
     "end_time": "2025-01-06T16:15:24.007851",
     "exception": false,
     "start_time": "2025-01-06T16:15:23.937740",
     "status": "completed"
    },
    "tags": []
   },
   "source": [
    "Write or import a json file where best hyperparameters are saved. "
   ]
  },
  {
   "cell_type": "code",
   "execution_count": 18,
   "id": "102a23cb",
   "metadata": {
    "execution": {
     "iopub.execute_input": "2025-01-06T16:15:24.148340Z",
     "iopub.status.busy": "2025-01-06T16:15:24.147991Z",
     "iopub.status.idle": "2025-01-06T16:15:25.136960Z",
     "shell.execute_reply": "2025-01-06T16:15:25.135493Z"
    },
    "papermill": {
     "duration": 1.062495,
     "end_time": "2025-01-06T16:15:25.139140",
     "exception": false,
     "start_time": "2025-01-06T16:15:24.076645",
     "status": "completed"
    },
    "tags": []
   },
   "outputs": [
    {
     "name": "stdout",
     "output_type": "stream",
     "text": [
      "File 'TrainedModels/WithKFCV/GraphBased/P3alphaRecommender/OptimizingMAP/best_params_P3alpha_MAP.json' updated successfully.\n"
     ]
    }
   ],
   "source": [
    "if config['tune_parameters']:\n",
    "    with open(f'/kaggle/working/best_params_{config[\"model\"]}_{config[\"metric\"]}.json', 'w') as params_file:\n",
    "        json.dump(optuna_study.best_params, params_file)\n",
    "        \n",
    "    if config['save_github']:\n",
    "        upload_file(\n",
    "            f'/kaggle/working/best_params_{config[\"model\"]}_{config[\"metric\"]}.json', \n",
    "            f'{GH_PATH}/{config[\"model\"]}Recommender/Optimizing{config[\"metric\"]}/best_params_{config[\"model\"]}_{config[\"metric\"]}.json', \n",
    "            f'{config[\"model\"]}_{config[\"metric\"]} tuning results (from kaggle notebook)',\n",
    "            repo\n",
    "        )\n",
    "elif config['copy_prev_best_params']:\n",
    "    shutil.copyfile(\n",
    "        f'{K_PATH}/{GH_PATH}/{config[\"model\"]}Recommender/Optimizing{config[\"metric\"]}/'\\\n",
    "        f'best_params_{config[\"model\"]}_{config[\"metric\"]}.json', \n",
    "        f'/kaggle/working/best_params_{config[\"model\"]}_{config[\"metric\"]}.json'\n",
    "    )"
   ]
  },
  {
   "cell_type": "markdown",
   "id": "15b159f3",
   "metadata": {
    "execution": {
     "iopub.execute_input": "2024-11-14T00:41:34.294243Z",
     "iopub.status.busy": "2024-11-14T00:41:34.293739Z",
     "iopub.status.idle": "2024-11-14T00:41:34.301478Z",
     "shell.execute_reply": "2024-11-14T00:41:34.299869Z",
     "shell.execute_reply.started": "2024-11-14T00:41:34.294186Z"
    },
    "papermill": {
     "duration": 0.090878,
     "end_time": "2025-01-06T16:15:25.306326",
     "exception": false,
     "start_time": "2025-01-06T16:15:25.215448",
     "status": "completed"
    },
    "tags": []
   },
   "source": [
    "Save the history of the tuned model."
   ]
  },
  {
   "cell_type": "code",
   "execution_count": 19,
   "id": "442a46db",
   "metadata": {
    "execution": {
     "iopub.execute_input": "2025-01-06T16:15:25.460276Z",
     "iopub.status.busy": "2025-01-06T16:15:25.459877Z",
     "iopub.status.idle": "2025-01-06T16:15:26.885810Z",
     "shell.execute_reply": "2025-01-06T16:15:26.884428Z"
    },
    "papermill": {
     "duration": 1.509963,
     "end_time": "2025-01-06T16:15:26.887836",
     "exception": false,
     "start_time": "2025-01-06T16:15:25.377873",
     "status": "completed"
    },
    "tags": []
   },
   "outputs": [
    {
     "name": "stdout",
     "output_type": "stream",
     "text": [
      "File 'TrainedModels/WithKFCV/GraphBased/P3alphaRecommender/OptimizingMAP/history_P3alpha_MAP.db' updated successfully.\n"
     ]
    }
   ],
   "source": [
    "if config['save_github'] and config['tune_parameters']:\n",
    "    upload_file(\n",
    "        config['database_path'], \n",
    "        f'{GH_PATH}/{config[\"model\"]}Recommender/Optimizing{config[\"metric\"]}/history_{config[\"model\"]}_{config[\"metric\"]}.db',\n",
    "        f'Tuning {config[\"model\"]}_{config[\"metric\"]} db updated results (from kaggle notebook)',\n",
    "        repo\n",
    "    )"
   ]
  },
  {
   "cell_type": "markdown",
   "id": "272e076a",
   "metadata": {
    "papermill": {
     "duration": 0.069451,
     "end_time": "2025-01-06T16:15:27.026977",
     "exception": false,
     "start_time": "2025-01-06T16:15:26.957526",
     "status": "completed"
    },
    "tags": []
   },
   "source": [
    "Save the best trained model and its submission."
   ]
  },
  {
   "cell_type": "code",
   "execution_count": 20,
   "id": "f935ef03",
   "metadata": {
    "execution": {
     "iopub.execute_input": "2025-01-06T16:15:27.171242Z",
     "iopub.status.busy": "2025-01-06T16:15:27.170810Z",
     "iopub.status.idle": "2025-01-06T16:15:28.809218Z",
     "shell.execute_reply": "2025-01-06T16:15:28.807875Z"
    },
    "papermill": {
     "duration": 1.714733,
     "end_time": "2025-01-06T16:15:28.811118",
     "exception": false,
     "start_time": "2025-01-06T16:15:27.096385",
     "status": "completed"
    },
    "tags": []
   },
   "outputs": [
    {
     "name": "stdout",
     "output_type": "stream",
     "text": [
      "File 'TrainedModels/WithKFCV/GraphBased/P3alphaRecommender/OptimizingMAP/Submission/submission_P3alpha_MAP.csv' updated successfully.\n"
     ]
    }
   ],
   "source": [
    "if config['save_github'] and config['tune_best_params']: \n",
    "    upload_file(\n",
    "                f'/kaggle/working/submission_{config[\"model\"]}_{config[\"metric\"]}.csv', \n",
    "                f'{GH_PATH}/{config[\"model\"]}Recommender/Optimizing{config[\"metric\"]}/Submission/submission_{config[\"model\"]}_{config[\"metric\"]}.csv', \n",
    "                f'New {config[\"model\"]}_{config[\"metric\"]} submission (from kaggle notebook)',\n",
    "                repo\n",
    "            )"
   ]
  }
 ],
 "metadata": {
  "kaggle": {
   "accelerator": "none",
   "dataSources": [
    {
     "databundleVersionId": 9982103,
     "sourceId": 87439,
     "sourceType": "competition"
    }
   ],
   "dockerImageVersionId": 30822,
   "isGpuEnabled": false,
   "isInternetEnabled": true,
   "language": "python",
   "sourceType": "notebook"
  },
  "kernelspec": {
   "display_name": "Python 3",
   "language": "python",
   "name": "python3"
  },
  "language_info": {
   "codemirror_mode": {
    "name": "ipython",
    "version": 3
   },
   "file_extension": ".py",
   "mimetype": "text/x-python",
   "name": "python",
   "nbconvert_exporter": "python",
   "pygments_lexer": "ipython3",
   "version": "3.10.12"
  },
  "papermill": {
   "default_parameters": {},
   "duration": 19196.848525,
   "end_time": "2025-01-06T16:15:30.133971",
   "environment_variables": {},
   "exception": null,
   "input_path": "__notebook__.ipynb",
   "output_path": "__notebook__.ipynb",
   "parameters": {},
   "start_time": "2025-01-06T10:55:33.285446",
   "version": "2.6.0"
  }
 },
 "nbformat": 4,
 "nbformat_minor": 5
}
