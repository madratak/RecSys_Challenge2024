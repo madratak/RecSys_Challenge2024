{
 "cells": [
  {
   "cell_type": "markdown",
   "id": "d8aa2e1a",
   "metadata": {
    "papermill": {
     "duration": 0.006697,
     "end_time": "2025-01-05T10:36:07.186270",
     "exception": false,
     "start_time": "2025-01-05T10:36:07.179573",
     "status": "completed"
    },
    "tags": []
   },
   "source": [
    "# Set connection with GitHub"
   ]
  },
  {
   "cell_type": "code",
   "execution_count": 1,
   "id": "84e42fb5",
   "metadata": {
    "execution": {
     "iopub.execute_input": "2025-01-05T10:36:07.199485Z",
     "iopub.status.busy": "2025-01-05T10:36:07.199076Z",
     "iopub.status.idle": "2025-01-05T10:36:07.204411Z",
     "shell.execute_reply": "2025-01-05T10:36:07.203352Z"
    },
    "papermill": {
     "duration": 0.013848,
     "end_time": "2025-01-05T10:36:07.206046",
     "exception": false,
     "start_time": "2025-01-05T10:36:07.192198",
     "status": "completed"
    },
    "tags": []
   },
   "outputs": [],
   "source": [
    "# ! cd /kaggle/working && rm -rf RECsys_Challenge2024"
   ]
  },
  {
   "cell_type": "code",
   "execution_count": 2,
   "id": "8ba96cd3",
   "metadata": {
    "_cell_guid": "b1076dfc-b9ad-4769-8c92-a6c4dae69d19",
    "_uuid": "8f2839f25d086af736a60e9eeb907d3b93b6e0e5",
    "execution": {
     "iopub.execute_input": "2025-01-05T10:36:07.219192Z",
     "iopub.status.busy": "2025-01-05T10:36:07.218837Z",
     "iopub.status.idle": "2025-01-05T10:36:30.393116Z",
     "shell.execute_reply": "2025-01-05T10:36:30.391967Z"
    },
    "papermill": {
     "duration": 23.183277,
     "end_time": "2025-01-05T10:36:30.395225",
     "exception": false,
     "start_time": "2025-01-05T10:36:07.211948",
     "status": "completed"
    },
    "tags": []
   },
   "outputs": [
    {
     "name": "stdout",
     "output_type": "stream",
     "text": [
      "Cloning into 'RECsys_Challenge2024'...\r\n",
      "remote: Enumerating objects: 6172, done.\u001b[K\r\n",
      "remote: Counting objects: 100% (83/83), done.\u001b[K\r\n",
      "remote: Compressing objects: 100% (69/69), done.\u001b[K\r\n",
      "remote: Total 6172 (delta 23), reused 13 (delta 4), pack-reused 6089 (from 4)\u001b[K\r\n",
      "Receiving objects: 100% (6172/6172), 398.57 MiB | 23.45 MiB/s, done.\r\n",
      "Resolving deltas: 100% (3403/3403), done.\r\n",
      "Updating files: 100% (486/486), done.\r\n"
     ]
    }
   ],
   "source": [
    "from kaggle_secrets import UserSecretsClient\n",
    "\n",
    "token = UserSecretsClient().get_secret(\"Token\")\n",
    "\n",
    "! git clone https://{token}@github.com/madratak/RECsys_Challenge2024.git"
   ]
  },
  {
   "cell_type": "code",
   "execution_count": 3,
   "id": "53ae601e",
   "metadata": {
    "execution": {
     "iopub.execute_input": "2025-01-05T10:36:30.419235Z",
     "iopub.status.busy": "2025-01-05T10:36:30.418832Z",
     "iopub.status.idle": "2025-01-05T10:36:37.504956Z",
     "shell.execute_reply": "2025-01-05T10:36:37.503848Z"
    },
    "papermill": {
     "duration": 7.100199,
     "end_time": "2025-01-05T10:36:37.507032",
     "exception": false,
     "start_time": "2025-01-05T10:36:30.406833",
     "status": "completed"
    },
    "tags": []
   },
   "outputs": [
    {
     "name": "stdout",
     "output_type": "stream",
     "text": [
      "Collecting PyGithub\r\n",
      "  Downloading PyGithub-2.5.0-py3-none-any.whl.metadata (3.9 kB)\r\n",
      "Requirement already satisfied: requests in /usr/local/lib/python3.10/dist-packages (2.32.3)\r\n",
      "Collecting pynacl>=1.4.0 (from PyGithub)\r\n",
      "  Downloading PyNaCl-1.5.0-cp36-abi3-manylinux_2_17_x86_64.manylinux2014_x86_64.manylinux_2_24_x86_64.whl.metadata (8.6 kB)\r\n",
      "Requirement already satisfied: pyjwt>=2.4.0 in /usr/local/lib/python3.10/dist-packages (from pyjwt[crypto]>=2.4.0->PyGithub) (2.9.0)\r\n",
      "Requirement already satisfied: typing-extensions>=4.0.0 in /usr/local/lib/python3.10/dist-packages (from PyGithub) (4.12.2)\r\n",
      "Requirement already satisfied: urllib3>=1.26.0 in /usr/local/lib/python3.10/dist-packages (from PyGithub) (2.2.3)\r\n",
      "Requirement already satisfied: Deprecated in /usr/local/lib/python3.10/dist-packages (from PyGithub) (1.2.15)\r\n",
      "Requirement already satisfied: charset-normalizer<4,>=2 in /usr/local/lib/python3.10/dist-packages (from requests) (3.3.2)\r\n",
      "Requirement already satisfied: idna<4,>=2.5 in /usr/local/lib/python3.10/dist-packages (from requests) (3.10)\r\n",
      "Requirement already satisfied: certifi>=2017.4.17 in /usr/local/lib/python3.10/dist-packages (from requests) (2024.8.30)\r\n",
      "Requirement already satisfied: cryptography>=3.4.0 in /usr/local/lib/python3.10/dist-packages (from pyjwt[crypto]>=2.4.0->PyGithub) (43.0.1)\r\n",
      "Requirement already satisfied: cffi>=1.4.1 in /usr/local/lib/python3.10/dist-packages (from pynacl>=1.4.0->PyGithub) (1.17.1)\r\n",
      "Requirement already satisfied: wrapt<2,>=1.10 in /usr/local/lib/python3.10/dist-packages (from Deprecated->PyGithub) (1.16.0)\r\n",
      "Requirement already satisfied: pycparser in /usr/local/lib/python3.10/dist-packages (from cffi>=1.4.1->pynacl>=1.4.0->PyGithub) (2.22)\r\n",
      "Downloading PyGithub-2.5.0-py3-none-any.whl (375 kB)\r\n",
      "\u001b[2K   \u001b[90m━━━━━━━━━━━━━━━━━━━━━━━━━━━━━━━━━━━━━━━━\u001b[0m \u001b[32m375.9/375.9 kB\u001b[0m \u001b[31m6.5 MB/s\u001b[0m eta \u001b[36m0:00:00\u001b[0m\r\n",
      "\u001b[?25hDownloading PyNaCl-1.5.0-cp36-abi3-manylinux_2_17_x86_64.manylinux2014_x86_64.manylinux_2_24_x86_64.whl (856 kB)\r\n",
      "\u001b[2K   \u001b[90m━━━━━━━━━━━━━━━━━━━━━━━━━━━━━━━━━━━━━━━━\u001b[0m \u001b[32m856.7/856.7 kB\u001b[0m \u001b[31m20.7 MB/s\u001b[0m eta \u001b[36m0:00:00\u001b[0m\r\n",
      "\u001b[?25hInstalling collected packages: pynacl, PyGithub\r\n",
      "Successfully installed PyGithub-2.5.0 pynacl-1.5.0\r\n"
     ]
    }
   ],
   "source": [
    "! pip install PyGithub requests"
   ]
  },
  {
   "cell_type": "code",
   "execution_count": 4,
   "id": "6be57748",
   "metadata": {
    "_kg_hide-input": false,
    "execution": {
     "iopub.execute_input": "2025-01-05T10:36:37.532101Z",
     "iopub.status.busy": "2025-01-05T10:36:37.531711Z",
     "iopub.status.idle": "2025-01-05T10:39:16.265363Z",
     "shell.execute_reply": "2025-01-05T10:39:16.264084Z"
    },
    "papermill": {
     "duration": 158.748508,
     "end_time": "2025-01-05T10:39:16.267469",
     "exception": false,
     "start_time": "2025-01-05T10:36:37.518961",
     "status": "completed"
    },
    "tags": []
   },
   "outputs": [
    {
     "name": "stdout",
     "output_type": "stream",
     "text": [
      "/kaggle/working/RECsys_Challenge2024\n",
      "run_compile_all_cython: Found 11 Cython files in 5 folders...\r\n",
      "run_compile_all_cython: All files will be compiled using your current python environment: '/usr/bin/python3'\r\n",
      "Compiling [1/11]: MatrixFactorizationImpressions_Cython_Epoch.pyx... \r\n",
      "In file included from \u001b[01m\u001b[K/usr/local/lib/python3.10/dist-packages/numpy/core/include/numpy/ndarraytypes.h:1929\u001b[m\u001b[K,\r\n",
      "                 from \u001b[01m\u001b[K/usr/local/lib/python3.10/dist-packages/numpy/core/include/numpy/ndarrayobject.h:12\u001b[m\u001b[K,\r\n",
      "                 from \u001b[01m\u001b[K/usr/local/lib/python3.10/dist-packages/numpy/core/include/numpy/arrayobject.h:5\u001b[m\u001b[K,\r\n",
      "                 from \u001b[01m\u001b[KMatrixFactorizationImpressions_Cython_Epoch.c:1252\u001b[m\u001b[K:\r\n",
      "\u001b[01m\u001b[K/usr/local/lib/python3.10/dist-packages/numpy/core/include/numpy/npy_1_7_deprecated_api.h:17:2:\u001b[m\u001b[K \u001b[01;35m\u001b[Kwarning: \u001b[m\u001b[K#warning \"Using deprecated NumPy API, disable it with \" \"#define NPY_NO_DEPRECATED_API NPY_1_7_API_VERSION\" [\u001b[01;35m\u001b[K\u001b]8;;https://gcc.gnu.org/onlinedocs/gcc/Warning-Options.html#index-Wcpp\u0007-Wcpp\u001b]8;;\u0007\u001b[m\u001b[K]\r\n",
      "   17 | #\u001b[01;35m\u001b[Kwarning\u001b[m\u001b[K \"Using deprecated NumPy API, disable it with \" \\\r\n",
      "      |  \u001b[01;35m\u001b[K^~~~~~~\u001b[m\u001b[K\r\n",
      "\u001b[01m\u001b[KMatrixFactorizationImpressions_Cython_Epoch.c:\u001b[m\u001b[K In function ‘\u001b[01m\u001b[K__pyx_f_43MatrixFactorizationImpressions_Cython_Epoch_32MatrixFactorization_Cython_Epoch_sampleBPR_Cython\u001b[m\u001b[K’:\r\n",
      "\u001b[01m\u001b[KMatrixFactorizationImpressions_Cython_Epoch.c:30353:17:\u001b[m\u001b[K \u001b[01;35m\u001b[Kwarning: \u001b[m\u001b[K‘\u001b[01m\u001b[K__pyx_v_start_pos_impression_items\u001b[m\u001b[K’ may be used uninitialized in this function [\u001b[01;35m\u001b[K\u001b]8;;https://gcc.gnu.org/onlinedocs/gcc/Warning-Options.html#index-Wmaybe-uninitialized\u0007-Wmaybe-uninitialized\u001b]8;;\u0007\u001b[m\u001b[K]\r\n",
      "30353 |       \u001b[01;35m\u001b[K__pyx_t_4 = (__pyx_v_start_pos_impression_items + __pyx_v_index)\u001b[m\u001b[K;\r\n",
      "      |       \u001b[01;35m\u001b[K~~~~~~~~~~^~~~~~~~~~~~~~~~~~~~~~~~~~~~~~~~~~~~~~~~~~~~~~~~~~~~~~\u001b[m\u001b[K\r\n",
      "\u001b[01m\u001b[KMatrixFactorizationImpressions_Cython_Epoch.c:\u001b[m\u001b[K In function ‘\u001b[01m\u001b[K__pyx_pf_43MatrixFactorizationImpressions_Cython_Epoch_32MatrixFactorization_Cython_Epoch_10epochIteration_Cython_ASY_SVD_SGD\u001b[m\u001b[K’:\r\n",
      "\u001b[01m\u001b[KMatrixFactorizationImpressions_Cython_Epoch.c:26112:66:\u001b[m\u001b[K \u001b[01;35m\u001b[Kwarning: \u001b[m\u001b[K‘\u001b[01m\u001b[K__pyx_v_end_pos_seen_items\u001b[m\u001b[K’ may be used uninitialized in this function [\u001b[01;35m\u001b[K\u001b]8;;https://gcc.gnu.org/onlinedocs/gcc/Warning-Options.html#index-Wmaybe-uninitialized\u0007-Wmaybe-uninitialized\u001b]8;;\u0007\u001b[m\u001b[K]\r\n",
      "26112 |       for (__pyx_t_22 = __pyx_v_start_pos_seen_items; \u001b[01;35m\u001b[K__pyx_t_22 < __pyx_t_21\u001b[m\u001b[K; __pyx_t_22+=1) {\r\n",
      "      |                                                       \u001b[01;35m\u001b[K~~~~~~~~~~~^~~~~~~~~~~~\u001b[m\u001b[K\r\n",
      "\u001b[01m\u001b[KMatrixFactorizationImpressions_Cython_Epoch.c:26112:66:\u001b[m\u001b[K \u001b[01;35m\u001b[Kwarning: \u001b[m\u001b[K‘\u001b[01m\u001b[K__pyx_v_start_pos_seen_items\u001b[m\u001b[K’ may be used uninitialized in this function [\u001b[01;35m\u001b[K\u001b]8;;https://gcc.gnu.org/onlinedocs/gcc/Warning-Options.html#index-Wmaybe-uninitialized\u0007-Wmaybe-uninitialized\u001b]8;;\u0007\u001b[m\u001b[K]\r\n",
      "/usr/local/lib/python3.10/dist-packages/Cython/Compiler/Main.py:381: FutureWarning: Cython directive 'language_level' not set, using '3str' for now (Py3). This has changed from earlier releases! File: /kaggle/working/RECsys_Challenge2024/Recommenders/MatrixFactorization/Cython/MatrixFactorizationImpressions_Cython_Epoch.pyx\r\n",
      "  tree = Parsing.p_module(s, pxd, full_module_name)\r\n",
      "Compiling [1/11]: MatrixFactorizationImpressions_Cython_Epoch.pyx... PASS\r\n",
      "\r\n",
      "Compiling [2/11]: MatrixFactorization_Cython_Epoch.pyx... \r\n",
      "In file included from \u001b[01m\u001b[K/usr/local/lib/python3.10/dist-packages/numpy/core/include/numpy/ndarraytypes.h:1929\u001b[m\u001b[K,\r\n",
      "                 from \u001b[01m\u001b[K/usr/local/lib/python3.10/dist-packages/numpy/core/include/numpy/ndarrayobject.h:12\u001b[m\u001b[K,\r\n",
      "                 from \u001b[01m\u001b[K/usr/local/lib/python3.10/dist-packages/numpy/core/include/numpy/arrayobject.h:5\u001b[m\u001b[K,\r\n",
      "                 from \u001b[01m\u001b[KMatrixFactorization_Cython_Epoch.c:1252\u001b[m\u001b[K:\r\n",
      "\u001b[01m\u001b[K/usr/local/lib/python3.10/dist-packages/numpy/core/include/numpy/npy_1_7_deprecated_api.h:17:2:\u001b[m\u001b[K \u001b[01;35m\u001b[Kwarning: \u001b[m\u001b[K#warning \"Using deprecated NumPy API, disable it with \" \"#define NPY_NO_DEPRECATED_API NPY_1_7_API_VERSION\" [\u001b[01;35m\u001b[K\u001b]8;;https://gcc.gnu.org/onlinedocs/gcc/Warning-Options.html#index-Wcpp\u0007-Wcpp\u001b]8;;\u0007\u001b[m\u001b[K]\r\n",
      "   17 | #\u001b[01;35m\u001b[Kwarning\u001b[m\u001b[K \"Using deprecated NumPy API, disable it with \" \\\r\n",
      "      |  \u001b[01;35m\u001b[K^~~~~~~\u001b[m\u001b[K\r\n",
      "\u001b[01m\u001b[KMatrixFactorization_Cython_Epoch.c:\u001b[m\u001b[K In function ‘\u001b[01m\u001b[K__pyx_pf_32MatrixFactorization_Cython_Epoch_32MatrixFactorization_Cython_Epoch_10epochIteration_Cython_ASY_SVD_SGD\u001b[m\u001b[K’:\r\n",
      "\u001b[01m\u001b[KMatrixFactorization_Cython_Epoch.c:26256:68:\u001b[m\u001b[K \u001b[01;35m\u001b[Kwarning: \u001b[m\u001b[K‘\u001b[01m\u001b[K__pyx_v_end_pos_seen_items\u001b[m\u001b[K’ may be used uninitialized in this function [\u001b[01;35m\u001b[K\u001b]8;;https://gcc.gnu.org/onlinedocs/gcc/Warning-Options.html#index-Wmaybe-uninitialized\u0007-Wmaybe-uninitialized\u001b]8;;\u0007\u001b[m\u001b[K]\r\n",
      "26256 |         for (__pyx_t_22 = __pyx_v_start_pos_seen_items; \u001b[01;35m\u001b[K__pyx_t_22 < __pyx_t_21\u001b[m\u001b[K; __pyx_t_22+=1) {\r\n",
      "      |                                                         \u001b[01;35m\u001b[K~~~~~~~~~~~^~~~~~~~~~~~\u001b[m\u001b[K\r\n",
      "\u001b[01m\u001b[KMatrixFactorization_Cython_Epoch.c:26256:68:\u001b[m\u001b[K \u001b[01;35m\u001b[Kwarning: \u001b[m\u001b[K‘\u001b[01m\u001b[K__pyx_v_start_pos_seen_items\u001b[m\u001b[K’ may be used uninitialized in this function [\u001b[01;35m\u001b[K\u001b]8;;https://gcc.gnu.org/onlinedocs/gcc/Warning-Options.html#index-Wmaybe-uninitialized\u0007-Wmaybe-uninitialized\u001b]8;;\u0007\u001b[m\u001b[K]\r\n",
      "/usr/local/lib/python3.10/dist-packages/Cython/Compiler/Main.py:381: FutureWarning: Cython directive 'language_level' not set, using '3str' for now (Py3). This has changed from earlier releases! File: /kaggle/working/RECsys_Challenge2024/Recommenders/MatrixFactorization/Cython/MatrixFactorization_Cython_Epoch.pyx\r\n",
      "  tree = Parsing.p_module(s, pxd, full_module_name)\r\n",
      "Compiling [2/11]: MatrixFactorization_Cython_Epoch.pyx... PASS\r\n",
      "\r\n",
      "Compiling [3/11]: Compute_Similarity_Cython.pyx... \r\n",
      "warning: Compute_Similarity_Cython.pyx:21:0: The 'IF' statement is deprecated and will be removed in a future Cython version. Consider using runtime conditions or C macros instead. See https://github.com/cython/cython/issues/4310\r\n",
      "In file included from \u001b[01m\u001b[K/usr/local/lib/python3.10/dist-packages/numpy/core/include/numpy/ndarraytypes.h:1929\u001b[m\u001b[K,\r\n",
      "                 from \u001b[01m\u001b[K/usr/local/lib/python3.10/dist-packages/numpy/core/include/numpy/ndarrayobject.h:12\u001b[m\u001b[K,\r\n",
      "                 from \u001b[01m\u001b[K/usr/local/lib/python3.10/dist-packages/numpy/core/include/numpy/arrayobject.h:5\u001b[m\u001b[K,\r\n",
      "                 from \u001b[01m\u001b[KCompute_Similarity_Cython.c:1252\u001b[m\u001b[K:\r\n",
      "\u001b[01m\u001b[K/usr/local/lib/python3.10/dist-packages/numpy/core/include/numpy/npy_1_7_deprecated_api.h:17:2:\u001b[m\u001b[K \u001b[01;35m\u001b[Kwarning: \u001b[m\u001b[K#warning \"Using deprecated NumPy API, disable it with \" \"#define NPY_NO_DEPRECATED_API NPY_1_7_API_VERSION\" [\u001b[01;35m\u001b[K\u001b]8;;https://gcc.gnu.org/onlinedocs/gcc/Warning-Options.html#index-Wcpp\u0007-Wcpp\u001b]8;;\u0007\u001b[m\u001b[K]\r\n",
      "   17 | #\u001b[01;35m\u001b[Kwarning\u001b[m\u001b[K \"Using deprecated NumPy API, disable it with \" \\\r\n",
      "      |  \u001b[01;35m\u001b[K^~~~~~~\u001b[m\u001b[K\r\n",
      "/usr/local/lib/python3.10/dist-packages/Cython/Compiler/Main.py:381: FutureWarning: Cython directive 'language_level' not set, using '3str' for now (Py3). This has changed from earlier releases! File: /kaggle/working/RECsys_Challenge2024/Recommenders/Similarity/Cython/Compute_Similarity_Cython.pyx\r\n",
      "  tree = Parsing.p_module(s, pxd, full_module_name)\r\n",
      "warning: Compute_Similarity_Cython.pyx:21:0: The 'IF' statement is deprecated and will be removed in a future Cython version. Consider using runtime conditions or C macros instead. See https://github.com/cython/cython/issues/4310\r\n",
      "Compiling [3/11]: Compute_Similarity_Cython.pyx... PASS\r\n",
      "\r\n",
      "Compiling [4/11]: Triangular_Matrix.pyx... \r\n",
      "warning: Triangular_Matrix.pyx:22:0: The 'IF' statement is deprecated and will be removed in a future Cython version. Consider using runtime conditions or C macros instead. See https://github.com/cython/cython/issues/4310\r\n",
      "In file included from \u001b[01m\u001b[K/usr/local/lib/python3.10/dist-packages/numpy/core/include/numpy/ndarraytypes.h:1929\u001b[m\u001b[K,\r\n",
      "                 from \u001b[01m\u001b[K/usr/local/lib/python3.10/dist-packages/numpy/core/include/numpy/ndarrayobject.h:12\u001b[m\u001b[K,\r\n",
      "                 from \u001b[01m\u001b[K/usr/local/lib/python3.10/dist-packages/numpy/core/include/numpy/arrayobject.h:5\u001b[m\u001b[K,\r\n",
      "                 from \u001b[01m\u001b[KTriangular_Matrix.c:1252\u001b[m\u001b[K:\r\n",
      "\u001b[01m\u001b[K/usr/local/lib/python3.10/dist-packages/numpy/core/include/numpy/npy_1_7_deprecated_api.h:17:2:\u001b[m\u001b[K \u001b[01;35m\u001b[Kwarning: \u001b[m\u001b[K#warning \"Using deprecated NumPy API, disable it with \" \"#define NPY_NO_DEPRECATED_API NPY_1_7_API_VERSION\" [\u001b[01;35m\u001b[K\u001b]8;;https://gcc.gnu.org/onlinedocs/gcc/Warning-Options.html#index-Wcpp\u0007-Wcpp\u001b]8;;\u0007\u001b[m\u001b[K]\r\n",
      "   17 | #\u001b[01;35m\u001b[Kwarning\u001b[m\u001b[K \"Using deprecated NumPy API, disable it with \" \\\r\n",
      "      |  \u001b[01;35m\u001b[K^~~~~~~\u001b[m\u001b[K\r\n",
      "In function ‘\u001b[01m\u001b[K__pyx_pf_17Triangular_Matrix_17Triangular_Matrix___init__\u001b[m\u001b[K’,\r\n",
      "    inlined from ‘\u001b[01m\u001b[K__pyx_pw_17Triangular_Matrix_17Triangular_Matrix_1__init__\u001b[m\u001b[K’ at \u001b[01m\u001b[KTriangular_Matrix.c:5541:13\u001b[m\u001b[K:\r\n",
      "\u001b[01m\u001b[KTriangular_Matrix.c:5599:43:\u001b[m\u001b[K \u001b[01;35m\u001b[Kwarning: \u001b[m\u001b[Kargument 1 value ‘\u001b[01m\u001b[K18446744073709551608\u001b[m\u001b[K’ exceeds maximum object size 9223372036854775807 [\u001b[01;35m\u001b[K\u001b]8;;https://gcc.gnu.org/onlinedocs/gcc/Warning-Options.html#index-Walloc-size-larger-than=\u0007-Walloc-size-larger-than=\u001b]8;;\u0007\u001b[m\u001b[K]\r\n",
      " 5599 |   __pyx_v_self->row_pointer = ((double **)\u001b[01;35m\u001b[Kmalloc((__pyx_v_self->num_rows * (sizeof(double *))))\u001b[m\u001b[K);\r\n",
      "      |                                           \u001b[01;35m\u001b[K^~~~~~~~~~~~~~~~~~~~~~~~~~~~~~~~~~~~~~~~~~~~~~~~~~~~~\u001b[m\u001b[K\r\n",
      "In file included from \u001b[01m\u001b[K/usr/include/python3.10/Python.h:34\u001b[m\u001b[K,\r\n",
      "                 from \u001b[01m\u001b[KTriangular_Matrix.c:41\u001b[m\u001b[K:\r\n",
      "\u001b[01m\u001b[KTriangular_Matrix.c:\u001b[m\u001b[K In function ‘\u001b[01m\u001b[K__pyx_pw_17Triangular_Matrix_17Triangular_Matrix_1__init__\u001b[m\u001b[K’:\r\n",
      "\u001b[01m\u001b[K/usr/include/stdlib.h:540:14:\u001b[m\u001b[K \u001b[01;36m\u001b[Knote: \u001b[m\u001b[Kin a call to allocation function ‘\u001b[01m\u001b[Kmalloc\u001b[m\u001b[K’ declared here\r\n",
      "  540 | extern void *\u001b[01;36m\u001b[Kmalloc\u001b[m\u001b[K (size_t __size) __THROW __attribute_malloc__\r\n",
      "      |              \u001b[01;36m\u001b[K^~~~~~\u001b[m\u001b[K\r\n",
      "/usr/local/lib/python3.10/dist-packages/Cython/Compiler/Main.py:381: FutureWarning: Cython directive 'language_level' not set, using '3str' for now (Py3). This has changed from earlier releases! File: /kaggle/working/RECsys_Challenge2024/Recommenders/SLIM/Cython/Triangular_Matrix.pyx\r\n",
      "  tree = Parsing.p_module(s, pxd, full_module_name)\r\n",
      "warning: Triangular_Matrix.pyx:22:0: The 'IF' statement is deprecated and will be removed in a future Cython version. Consider using runtime conditions or C macros instead. See https://github.com/cython/cython/issues/4310\r\n",
      "Compiling [4/11]: Triangular_Matrix.pyx... PASS\r\n",
      "\r\n",
      "Compiling [5/11]: SLIM_BPR_Cython_Epoch.pyx... \r\n",
      "warning: SLIM_BPR_Cython_Epoch.pyx:24:0: The 'IF' statement is deprecated and will be removed in a future Cython version. Consider using runtime conditions or C macros instead. See https://github.com/cython/cython/issues/4310\r\n",
      "warning: SLIM_BPR_Cython_Epoch.pyx:632:34: Non-trivial type declarators in shared declaration (e.g. mix of pointers and values). Each pointer declaration should be on its own line.\r\n",
      "warning: SLIM_BPR_Cython_Epoch.pyx:632:66: Non-trivial type declarators in shared declaration (e.g. mix of pointers and values). Each pointer declaration should be on its own line.\r\n",
      "warning: SLIM_BPR_Cython_Epoch.pyx:817:35: Non-trivial type declarators in shared declaration (e.g. mix of pointers and values). Each pointer declaration should be on its own line.\r\n",
      "warning: SLIM_BPR_Cython_Epoch.pyx:817:52: Non-trivial type declarators in shared declaration (e.g. mix of pointers and values). Each pointer declaration should be on its own line.\r\n",
      "warning: SLIM_BPR_Cython_Epoch.pyx:916:35: Non-trivial type declarators in shared declaration (e.g. mix of pointers and values). Each pointer declaration should be on its own line.\r\n",
      "warning: SLIM_BPR_Cython_Epoch.pyx:916:53: Non-trivial type declarators in shared declaration (e.g. mix of pointers and values). Each pointer declaration should be on its own line.\r\n",
      "warning: SLIM_BPR_Cython_Epoch.pyx:916:69: Non-trivial type declarators in shared declaration (e.g. mix of pointers and values). Each pointer declaration should be on its own line.\r\n",
      "warning: SLIM_BPR_Cython_Epoch.pyx:1051:35: Non-trivial type declarators in shared declaration (e.g. mix of pointers and values). Each pointer declaration should be on its own line.\r\n",
      "warning: SLIM_BPR_Cython_Epoch.pyx:1051:42: Non-trivial type declarators in shared declaration (e.g. mix of pointers and values). Each pointer declaration should be on its own line.\r\n",
      "warning: SLIM_BPR_Cython_Epoch.pyx:1052:35: Non-trivial type declarators in shared declaration (e.g. mix of pointers and values). Each pointer declaration should be on its own line.\r\n",
      "warning: SLIM_BPR_Cython_Epoch.pyx:1052:53: Non-trivial type declarators in shared declaration (e.g. mix of pointers and values). Each pointer declaration should be on its own line.\r\n",
      "\r\n",
      "Error compiling Cython file:\r\n",
      "------------------------------------------------------------\r\n",
      "...\r\n",
      "            vector_pointer_to_list_elements[index].head = current_element\r\n",
      "            current_element = current_element.higher\r\n",
      "\r\n",
      "\r\n",
      "        # Sort array elements on their data field\r\n",
      "        qsort(vector_pointer_to_list_elements, list_length, sizeof(head_pointer_tree_s), compare_struct_on_data)\r\n",
      "                                                                                         ^\r\n",
      "------------------------------------------------------------\r\n",
      "\r\n",
      "SLIM_BPR_Cython_Epoch.pyx:990:89: Cannot assign type 'int (const void *, const void *) except? -1' to 'int (*)(const_void *, const_void *) noexcept'. Exception values are incompatible. Suggest adding 'noexcept' to the type of 'compare_struct_on_data'.\r\n",
      "\r\n",
      "Error compiling Cython file:\r\n",
      "------------------------------------------------------------\r\n",
      "...\r\n",
      "        # Sort array elements on their data field\r\n",
      "        qsort(vector_pointer_to_list_elements, list_length, sizeof(head_pointer_tree_s), compare_struct_on_data)\r\n",
      "\r\n",
      "        # Sort only the TopK according to their column field\r\n",
      "        # Sort is from lower to higher, therefore the elements to be considered are from len-topK to len\r\n",
      "        qsort(&vector_pointer_to_list_elements[list_length-TopK], TopK, sizeof(head_pointer_tree_s), compare_struct_on_column)\r\n",
      "                                                                                                     ^\r\n",
      "------------------------------------------------------------\r\n",
      "\r\n",
      "SLIM_BPR_Cython_Epoch.pyx:994:101: Cannot assign type 'int (const void *, const void *) except? -1' to 'int (*)(const_void *, const_void *) noexcept'. Exception values are incompatible. Suggest adding 'noexcept' to the type of 'compare_struct_on_column'.\r\n",
      "Traceback (most recent call last):\r\n",
      "  File \"/kaggle/working/RECsys_Challenge2024/CythonCompiler/compile_script.py\", line 48, in <module>\r\n",
      "    setup(\r\n",
      "  File \"/usr/local/lib/python3.10/dist-packages/setuptools/__init__.py\", line 108, in setup\r\n",
      "    return distutils.core.setup(**attrs)\r\n",
      "  File \"/usr/local/lib/python3.10/dist-packages/setuptools/_distutils/core.py\", line 184, in setup\r\n",
      "    return run_commands(dist)\r\n",
      "  File \"/usr/local/lib/python3.10/dist-packages/setuptools/_distutils/core.py\", line 200, in run_commands\r\n",
      "    dist.run_commands()\r\n",
      "  File \"/usr/local/lib/python3.10/dist-packages/setuptools/_distutils/dist.py\", line 970, in run_commands\r\n",
      "    self.run_command(cmd)\r\n",
      "  File \"/usr/local/lib/python3.10/dist-packages/setuptools/dist.py\", line 956, in run_command\r\n",
      "    super().run_command(command)\r\n",
      "  File \"/usr/local/lib/python3.10/dist-packages/setuptools/_distutils/dist.py\", line 989, in run_command\r\n",
      "    cmd_obj.run()\r\n",
      "  File \"/usr/local/lib/python3.10/dist-packages/setuptools/_distutils/command/build_ext.py\", line 359, in run\r\n",
      "    self.build_extensions()\r\n",
      "  File \"/usr/local/lib/python3.10/dist-packages/setuptools/_distutils/command/build_ext.py\", line 479, in build_extensions\r\n",
      "    self._build_extensions_serial()\r\n",
      "  File \"/usr/local/lib/python3.10/dist-packages/setuptools/_distutils/command/build_ext.py\", line 505, in _build_extensions_serial\r\n",
      "    self.build_extension(ext)\r\n",
      "  File \"/usr/local/lib/python3.10/dist-packages/Cython/Distutils/build_ext.py\", line 130, in build_extension\r\n",
      "    new_ext = cythonize(\r\n",
      "  File \"/usr/local/lib/python3.10/dist-packages/Cython/Build/Dependencies.py\", line 1154, in cythonize\r\n",
      "    cythonize_one(*args)\r\n",
      "  File \"/usr/local/lib/python3.10/dist-packages/Cython/Build/Dependencies.py\", line 1321, in cythonize_one\r\n",
      "    raise CompileError(None, pyx_file)\r\n",
      "Cython.Compiler.Errors.CompileError: SLIM_BPR_Cython_Epoch.pyx\r\n",
      "Traceback (most recent call last):\r\n",
      "  File \"/kaggle/working/RECsys_Challenge2024/run_compile_all_cython.py\", line 60, in <module>\r\n",
      "    run_compile_subprocess(file_path, [file_name])\r\n",
      "  File \"/kaggle/working/RECsys_Challenge2024/CythonCompiler/run_compile_subprocess.py\", line 51, in run_compile_subprocess\r\n",
      "    raise exc\r\n",
      "  File \"/kaggle/working/RECsys_Challenge2024/CythonCompiler/run_compile_subprocess.py\", line 32, in run_compile_subprocess\r\n",
      "    output = subprocess.check_output(' '.join(command),\r\n",
      "  File \"/usr/lib/python3.10/subprocess.py\", line 421, in check_output\r\n",
      "    return run(*popenargs, stdout=PIPE, timeout=timeout, check=True,\r\n",
      "  File \"/usr/lib/python3.10/subprocess.py\", line 526, in run\r\n",
      "    raise CalledProcessError(retcode, process.args,\r\n",
      "subprocess.CalledProcessError: Command '/usr/bin/python3 /kaggle/working/RECsys_Challenge2024/CythonCompiler/compile_script.py SLIM_BPR_Cython_Epoch.pyx build_ext --inplace' returned non-zero exit status 1.\r\n",
      "Compiling [5/11]: SLIM_BPR_Cython_Epoch.pyx... FAIL: Command '/usr/bin/python3 /kaggle/working/RECsys_Challenge2024/CythonCompiler/compile_script.py SLIM_BPR_Cython_Epoch.pyx build_ext --inplace' returned non-zero exit status 1.\r\n",
      "\r\n",
      "Compiling [6/11]: Sparse_Matrix_Tree_CSR.pyx... \r\n",
      "warning: Sparse_Matrix_Tree_CSR.pyx:132:34: Non-trivial type declarators in shared declaration (e.g. mix of pointers and values). Each pointer declaration should be on its own line.\r\n",
      "warning: Sparse_Matrix_Tree_CSR.pyx:132:66: Non-trivial type declarators in shared declaration (e.g. mix of pointers and values). Each pointer declaration should be on its own line.\r\n",
      "warning: Sparse_Matrix_Tree_CSR.pyx:343:35: Non-trivial type declarators in shared declaration (e.g. mix of pointers and values). Each pointer declaration should be on its own line.\r\n",
      "warning: Sparse_Matrix_Tree_CSR.pyx:343:52: Non-trivial type declarators in shared declaration (e.g. mix of pointers and values). Each pointer declaration should be on its own line.\r\n",
      "warning: Sparse_Matrix_Tree_CSR.pyx:442:35: Non-trivial type declarators in shared declaration (e.g. mix of pointers and values). Each pointer declaration should be on its own line.\r\n",
      "warning: Sparse_Matrix_Tree_CSR.pyx:442:53: Non-trivial type declarators in shared declaration (e.g. mix of pointers and values). Each pointer declaration should be on its own line.\r\n",
      "warning: Sparse_Matrix_Tree_CSR.pyx:442:69: Non-trivial type declarators in shared declaration (e.g. mix of pointers and values). Each pointer declaration should be on its own line.\r\n",
      "warning: Sparse_Matrix_Tree_CSR.pyx:577:35: Non-trivial type declarators in shared declaration (e.g. mix of pointers and values). Each pointer declaration should be on its own line.\r\n",
      "warning: Sparse_Matrix_Tree_CSR.pyx:577:42: Non-trivial type declarators in shared declaration (e.g. mix of pointers and values). Each pointer declaration should be on its own line.\r\n",
      "warning: Sparse_Matrix_Tree_CSR.pyx:578:35: Non-trivial type declarators in shared declaration (e.g. mix of pointers and values). Each pointer declaration should be on its own line.\r\n",
      "warning: Sparse_Matrix_Tree_CSR.pyx:578:53: Non-trivial type declarators in shared declaration (e.g. mix of pointers and values). Each pointer declaration should be on its own line.\r\n",
      "\r\n",
      "Error compiling Cython file:\r\n",
      "------------------------------------------------------------\r\n",
      "...\r\n",
      "            vector_pointer_to_list_elements[index].head = current_element\r\n",
      "            current_element = current_element.higher\r\n",
      "\r\n",
      "\r\n",
      "        # Sort array elements on their data field\r\n",
      "        qsort(vector_pointer_to_list_elements, list_length, sizeof(head_pointer_tree_s), compare_struct_on_data)\r\n",
      "                                                                                         ^\r\n",
      "------------------------------------------------------------\r\n",
      "\r\n",
      "Sparse_Matrix_Tree_CSR.pyx:516:89: Cannot assign type 'int (const void *, const void *) except? -1' to 'int (*)(const_void *, const_void *) noexcept'. Exception values are incompatible. Suggest adding 'noexcept' to the type of 'compare_struct_on_data'.\r\n",
      "\r\n",
      "Error compiling Cython file:\r\n",
      "------------------------------------------------------------\r\n",
      "...\r\n",
      "        # Sort array elements on their data field\r\n",
      "        qsort(vector_pointer_to_list_elements, list_length, sizeof(head_pointer_tree_s), compare_struct_on_data)\r\n",
      "\r\n",
      "        # Sort only the TopK according to their column field\r\n",
      "        # Sort is from lower to higher, therefore the elements to be considered are from len-topK to len\r\n",
      "        qsort(&vector_pointer_to_list_elements[list_length-TopK], TopK, sizeof(head_pointer_tree_s), compare_struct_on_column)\r\n",
      "                                                                                                     ^\r\n",
      "------------------------------------------------------------\r\n",
      "\r\n",
      "Sparse_Matrix_Tree_CSR.pyx:520:101: Cannot assign type 'int (const void *, const void *) except? -1' to 'int (*)(const_void *, const_void *) noexcept'. Exception values are incompatible. Suggest adding 'noexcept' to the type of 'compare_struct_on_column'.\r\n",
      "Traceback (most recent call last):\r\n",
      "  File \"/kaggle/working/RECsys_Challenge2024/CythonCompiler/compile_script.py\", line 48, in <module>\r\n",
      "    setup(\r\n",
      "  File \"/usr/local/lib/python3.10/dist-packages/setuptools/__init__.py\", line 108, in setup\r\n",
      "    return distutils.core.setup(**attrs)\r\n",
      "  File \"/usr/local/lib/python3.10/dist-packages/setuptools/_distutils/core.py\", line 184, in setup\r\n",
      "    return run_commands(dist)\r\n",
      "  File \"/usr/local/lib/python3.10/dist-packages/setuptools/_distutils/core.py\", line 200, in run_commands\r\n",
      "    dist.run_commands()\r\n",
      "  File \"/usr/local/lib/python3.10/dist-packages/setuptools/_distutils/dist.py\", line 970, in run_commands\r\n",
      "    self.run_command(cmd)\r\n",
      "  File \"/usr/local/lib/python3.10/dist-packages/setuptools/dist.py\", line 956, in run_command\r\n",
      "    super().run_command(command)\r\n",
      "  File \"/usr/local/lib/python3.10/dist-packages/setuptools/_distutils/dist.py\", line 989, in run_command\r\n",
      "    cmd_obj.run()\r\n",
      "  File \"/usr/local/lib/python3.10/dist-packages/setuptools/_distutils/command/build_ext.py\", line 359, in run\r\n",
      "    self.build_extensions()\r\n",
      "  File \"/usr/local/lib/python3.10/dist-packages/setuptools/_distutils/command/build_ext.py\", line 479, in build_extensions\r\n",
      "    self._build_extensions_serial()\r\n",
      "  File \"/usr/local/lib/python3.10/dist-packages/setuptools/_distutils/command/build_ext.py\", line 505, in _build_extensions_serial\r\n",
      "    self.build_extension(ext)\r\n",
      "  File \"/usr/local/lib/python3.10/dist-packages/Cython/Distutils/build_ext.py\", line 130, in build_extension\r\n",
      "    new_ext = cythonize(\r\n",
      "  File \"/usr/local/lib/python3.10/dist-packages/Cython/Build/Dependencies.py\", line 1154, in cythonize\r\n",
      "    cythonize_one(*args)\r\n",
      "  File \"/usr/local/lib/python3.10/dist-packages/Cython/Build/Dependencies.py\", line 1321, in cythonize_one\r\n",
      "    raise CompileError(None, pyx_file)\r\n",
      "Cython.Compiler.Errors.CompileError: Sparse_Matrix_Tree_CSR.pyx\r\n",
      "Traceback (most recent call last):\r\n",
      "  File \"/kaggle/working/RECsys_Challenge2024/run_compile_all_cython.py\", line 60, in <module>\r\n",
      "    run_compile_subprocess(file_path, [file_name])\r\n",
      "  File \"/kaggle/working/RECsys_Challenge2024/CythonCompiler/run_compile_subprocess.py\", line 51, in run_compile_subprocess\r\n",
      "    raise exc\r\n",
      "  File \"/kaggle/working/RECsys_Challenge2024/CythonCompiler/run_compile_subprocess.py\", line 32, in run_compile_subprocess\r\n",
      "    output = subprocess.check_output(' '.join(command),\r\n",
      "  File \"/usr/lib/python3.10/subprocess.py\", line 421, in check_output\r\n",
      "    return run(*popenargs, stdout=PIPE, timeout=timeout, check=True,\r\n",
      "  File \"/usr/lib/python3.10/subprocess.py\", line 526, in run\r\n",
      "    raise CalledProcessError(retcode, process.args,\r\n",
      "subprocess.CalledProcessError: Command '/usr/bin/python3 /kaggle/working/RECsys_Challenge2024/CythonCompiler/compile_script.py Sparse_Matrix_Tree_CSR.pyx build_ext --inplace' returned non-zero exit status 1.\r\n",
      "Compiling [6/11]: Sparse_Matrix_Tree_CSR.pyx... FAIL: Command '/usr/bin/python3 /kaggle/working/RECsys_Challenge2024/CythonCompiler/compile_script.py Sparse_Matrix_Tree_CSR.pyx build_ext --inplace' returned non-zero exit status 1.\r\n",
      "\r\n",
      "Compiling [7/11]: HP3_Similarity_Cython_SGD.pyx... \r\n",
      "performance hint: HP3_Similarity_Cython_SGD.pyx:113:40: Index should be typed for more efficient access\r\n",
      "performance hint: HP3_Similarity_Cython_SGD.pyx:114:40: Index should be typed for more efficient access\r\n",
      "In file included from \u001b[01m\u001b[K/usr/local/lib/python3.10/dist-packages/numpy/core/include/numpy/ndarraytypes.h:1929\u001b[m\u001b[K,\r\n",
      "                 from \u001b[01m\u001b[K/usr/local/lib/python3.10/dist-packages/numpy/core/include/numpy/ndarrayobject.h:12\u001b[m\u001b[K,\r\n",
      "                 from \u001b[01m\u001b[K/usr/local/lib/python3.10/dist-packages/numpy/core/include/numpy/arrayobject.h:5\u001b[m\u001b[K,\r\n",
      "                 from \u001b[01m\u001b[KHP3_Similarity_Cython_SGD.c:1252\u001b[m\u001b[K:\r\n",
      "\u001b[01m\u001b[K/usr/local/lib/python3.10/dist-packages/numpy/core/include/numpy/npy_1_7_deprecated_api.h:17:2:\u001b[m\u001b[K \u001b[01;35m\u001b[Kwarning: \u001b[m\u001b[K#warning \"Using deprecated NumPy API, disable it with \" \"#define NPY_NO_DEPRECATED_API NPY_1_7_API_VERSION\" [\u001b[01;35m\u001b[K\u001b]8;;https://gcc.gnu.org/onlinedocs/gcc/Warning-Options.html#index-Wcpp\u0007-Wcpp\u001b]8;;\u0007\u001b[m\u001b[K]\r\n",
      "   17 | #\u001b[01;35m\u001b[Kwarning\u001b[m\u001b[K \"Using deprecated NumPy API, disable it with \" \\\r\n",
      "      |  \u001b[01;35m\u001b[K^~~~~~~\u001b[m\u001b[K\r\n",
      "\u001b[01m\u001b[KHP3_Similarity_Cython_SGD.c:\u001b[m\u001b[K In function ‘\u001b[01m\u001b[K__pyx_pf_25HP3_Similarity_Cython_SGD_25HP3_Similarity_Cython_SGD_4fit\u001b[m\u001b[K’:\r\n",
      "\u001b[01m\u001b[KHP3_Similarity_Cython_SGD.c:23631:55:\u001b[m\u001b[K \u001b[01;35m\u001b[Kwarning: \u001b[m\u001b[K‘\u001b[01m\u001b[K__pyx_v_sample_num\u001b[m\u001b[K’ may be used uninitialized in this function [\u001b[01;35m\u001b[K\u001b]8;;https://gcc.gnu.org/onlinedocs/gcc/Warning-Options.html#index-Wmaybe-uninitialized\u0007-Wmaybe-uninitialized\u001b]8;;\u0007\u001b[m\u001b[K]\r\n",
      "23631 |   __pyx_t_1 = PyFloat_FromDouble((__pyx_v_cum_loss / \u001b[01;35m\u001b[K((double)__pyx_v_sample_num)\u001b[m\u001b[K)); if (unlikely(!__pyx_t_1)) __PYX_ERR(0, 291, __pyx_L1_error)\r\n",
      "      |                                                      \u001b[01;35m\u001b[K~^~~~~~~~~~~~~~~~~~~~~~~~~~~\u001b[m\u001b[K\r\n",
      "/usr/local/lib/python3.10/dist-packages/Cython/Compiler/Main.py:381: FutureWarning: Cython directive 'language_level' not set, using '3str' for now (Py3). This has changed from earlier releases! File: /kaggle/working/RECsys_Challenge2024/Recommenders/FeatureWeighting/Cython/HP3_Similarity_Cython_SGD.pyx\r\n",
      "  tree = Parsing.p_module(s, pxd, full_module_name)\r\n",
      "performance hint: HP3_Similarity_Cython_SGD.pyx:113:40: Index should be typed for more efficient access\r\n",
      "performance hint: HP3_Similarity_Cython_SGD.pyx:114:40: Index should be typed for more efficient access\r\n",
      "Compiling [7/11]: HP3_Similarity_Cython_SGD.pyx... PASS\r\n",
      "\r\n",
      "Compiling [8/11]: CFW_DVV_Similarity_Cython_SGD.pyx... \r\n",
      "In file included from \u001b[01m\u001b[K/usr/local/lib/python3.10/dist-packages/numpy/core/include/numpy/ndarraytypes.h:1929\u001b[m\u001b[K,\r\n",
      "                 from \u001b[01m\u001b[K/usr/local/lib/python3.10/dist-packages/numpy/core/include/numpy/ndarrayobject.h:12\u001b[m\u001b[K,\r\n",
      "                 from \u001b[01m\u001b[K/usr/local/lib/python3.10/dist-packages/numpy/core/include/numpy/arrayobject.h:5\u001b[m\u001b[K,\r\n",
      "                 from \u001b[01m\u001b[KCFW_DVV_Similarity_Cython_SGD.c:1252\u001b[m\u001b[K:\r\n",
      "\u001b[01m\u001b[K/usr/local/lib/python3.10/dist-packages/numpy/core/include/numpy/npy_1_7_deprecated_api.h:17:2:\u001b[m\u001b[K \u001b[01;35m\u001b[Kwarning: \u001b[m\u001b[K#warning \"Using deprecated NumPy API, disable it with \" \"#define NPY_NO_DEPRECATED_API NPY_1_7_API_VERSION\" [\u001b[01;35m\u001b[K\u001b]8;;https://gcc.gnu.org/onlinedocs/gcc/Warning-Options.html#index-Wcpp\u0007-Wcpp\u001b]8;;\u0007\u001b[m\u001b[K]\r\n",
      "   17 | #\u001b[01;35m\u001b[Kwarning\u001b[m\u001b[K \"Using deprecated NumPy API, disable it with \" \\\r\n",
      "      |  \u001b[01;35m\u001b[K^~~~~~~\u001b[m\u001b[K\r\n",
      "/usr/local/lib/python3.10/dist-packages/Cython/Compiler/Main.py:381: FutureWarning: Cython directive 'language_level' not set, using '3str' for now (Py3). This has changed from earlier releases! File: /kaggle/working/RECsys_Challenge2024/Recommenders/FeatureWeighting/Cython/CFW_DVV_Similarity_Cython_SGD.pyx\r\n",
      "  tree = Parsing.p_module(s, pxd, full_module_name)\r\n",
      "Compiling [8/11]: CFW_DVV_Similarity_Cython_SGD.pyx... PASS\r\n",
      "\r\n",
      "Compiling [9/11]: CFW_D_Similarity_Cython_SGD.pyx... \r\n",
      "In file included from \u001b[01m\u001b[K/usr/local/lib/python3.10/dist-packages/numpy/core/include/numpy/ndarraytypes.h:1929\u001b[m\u001b[K,\r\n",
      "                 from \u001b[01m\u001b[K/usr/local/lib/python3.10/dist-packages/numpy/core/include/numpy/ndarrayobject.h:12\u001b[m\u001b[K,\r\n",
      "                 from \u001b[01m\u001b[K/usr/local/lib/python3.10/dist-packages/numpy/core/include/numpy/arrayobject.h:5\u001b[m\u001b[K,\r\n",
      "                 from \u001b[01m\u001b[KCFW_D_Similarity_Cython_SGD.c:1252\u001b[m\u001b[K:\r\n",
      "\u001b[01m\u001b[K/usr/local/lib/python3.10/dist-packages/numpy/core/include/numpy/npy_1_7_deprecated_api.h:17:2:\u001b[m\u001b[K \u001b[01;35m\u001b[Kwarning: \u001b[m\u001b[K#warning \"Using deprecated NumPy API, disable it with \" \"#define NPY_NO_DEPRECATED_API NPY_1_7_API_VERSION\" [\u001b[01;35m\u001b[K\u001b]8;;https://gcc.gnu.org/onlinedocs/gcc/Warning-Options.html#index-Wcpp\u0007-Wcpp\u001b]8;;\u0007\u001b[m\u001b[K]\r\n",
      "   17 | #\u001b[01;35m\u001b[Kwarning\u001b[m\u001b[K \"Using deprecated NumPy API, disable it with \" \\\r\n",
      "      |  \u001b[01;35m\u001b[K^~~~~~~\u001b[m\u001b[K\r\n",
      "\u001b[01m\u001b[KCFW_D_Similarity_Cython_SGD.c:\u001b[m\u001b[K In function ‘\u001b[01m\u001b[K__pyx_pf_27CFW_D_Similarity_Cython_SGD_27CFW_D_Similarity_Cython_SGD_6fit\u001b[m\u001b[K’:\r\n",
      "\u001b[01m\u001b[KCFW_D_Similarity_Cython_SGD.c:23373:55:\u001b[m\u001b[K \u001b[01;35m\u001b[Kwarning: \u001b[m\u001b[K‘\u001b[01m\u001b[K__pyx_v_sample_num\u001b[m\u001b[K’ may be used uninitialized in this function [\u001b[01;35m\u001b[K\u001b]8;;https://gcc.gnu.org/onlinedocs/gcc/Warning-Options.html#index-Wmaybe-uninitialized\u0007-Wmaybe-uninitialized\u001b]8;;\u0007\u001b[m\u001b[K]\r\n",
      "23373 |   __pyx_t_3 = PyFloat_FromDouble((__pyx_v_cum_loss / \u001b[01;35m\u001b[K((double)__pyx_v_sample_num)\u001b[m\u001b[K)); if (unlikely(!__pyx_t_3)) __PYX_ERR(0, 290, __pyx_L1_error)\r\n",
      "      |                                                      \u001b[01;35m\u001b[K~^~~~~~~~~~~~~~~~~~~~~~~~~~~\u001b[m\u001b[K\r\n",
      "/usr/local/lib/python3.10/dist-packages/Cython/Compiler/Main.py:381: FutureWarning: Cython directive 'language_level' not set, using '3str' for now (Py3). This has changed from earlier releases! File: /kaggle/working/RECsys_Challenge2024/Recommenders/FeatureWeighting/Cython/CFW_D_Similarity_Cython_SGD.pyx\r\n",
      "  tree = Parsing.p_module(s, pxd, full_module_name)\r\n",
      "Compiling [9/11]: CFW_D_Similarity_Cython_SGD.pyx... PASS\r\n",
      "\r\n",
      "Compiling [10/11]: FBSM_Rating_Cython_SGD.pyx... \r\n",
      "In file included from \u001b[01m\u001b[K/usr/local/lib/python3.10/dist-packages/numpy/core/include/numpy/ndarraytypes.h:1929\u001b[m\u001b[K,\r\n",
      "                 from \u001b[01m\u001b[K/usr/local/lib/python3.10/dist-packages/numpy/core/include/numpy/ndarrayobject.h:12\u001b[m\u001b[K,\r\n",
      "                 from \u001b[01m\u001b[K/usr/local/lib/python3.10/dist-packages/numpy/core/include/numpy/arrayobject.h:5\u001b[m\u001b[K,\r\n",
      "                 from \u001b[01m\u001b[KFBSM_Rating_Cython_SGD.c:1252\u001b[m\u001b[K:\r\n",
      "\u001b[01m\u001b[K/usr/local/lib/python3.10/dist-packages/numpy/core/include/numpy/npy_1_7_deprecated_api.h:17:2:\u001b[m\u001b[K \u001b[01;35m\u001b[Kwarning: \u001b[m\u001b[K#warning \"Using deprecated NumPy API, disable it with \" \"#define NPY_NO_DEPRECATED_API NPY_1_7_API_VERSION\" [\u001b[01;35m\u001b[K\u001b]8;;https://gcc.gnu.org/onlinedocs/gcc/Warning-Options.html#index-Wcpp\u0007-Wcpp\u001b]8;;\u0007\u001b[m\u001b[K]\r\n",
      "   17 | #\u001b[01;35m\u001b[Kwarning\u001b[m\u001b[K \"Using deprecated NumPy API, disable it with \" \\\r\n",
      "      |  \u001b[01;35m\u001b[K^~~~~~~\u001b[m\u001b[K\r\n",
      "\u001b[01m\u001b[KFBSM_Rating_Cython_SGD.c:\u001b[m\u001b[K In function ‘\u001b[01m\u001b[K__pyx_pf_22FBSM_Rating_Cython_SGD_22FBSM_Rating_Cython_SGD_2fit\u001b[m\u001b[K’:\r\n",
      "\u001b[01m\u001b[KFBSM_Rating_Cython_SGD.c:26607:55:\u001b[m\u001b[K \u001b[01;35m\u001b[Kwarning: \u001b[m\u001b[K‘\u001b[01m\u001b[K__pyx_v_num_sample\u001b[m\u001b[K’ may be used uninitialized in this function [\u001b[01;35m\u001b[K\u001b]8;;https://gcc.gnu.org/onlinedocs/gcc/Warning-Options.html#index-Wmaybe-uninitialized\u0007-Wmaybe-uninitialized\u001b]8;;\u0007\u001b[m\u001b[K]\r\n",
      "26607 |   __pyx_t_5 = PyFloat_FromDouble((__pyx_v_cum_loss / \u001b[01;35m\u001b[K((double)__pyx_v_num_sample)\u001b[m\u001b[K)); if (unlikely(!__pyx_t_5)) __PYX_ERR(0, 551, __pyx_L1_error)\r\n",
      "      |                                                      \u001b[01;35m\u001b[K~^~~~~~~~~~~~~~~~~~~~~~~~~~~\u001b[m\u001b[K\r\n",
      "/usr/local/lib/python3.10/dist-packages/Cython/Compiler/Main.py:381: FutureWarning: Cython directive 'language_level' not set, using '3str' for now (Py3). This has changed from earlier releases! File: /kaggle/working/RECsys_Challenge2024/Recommenders/FeatureWeighting/Cython/FBSM_Rating_Cython_SGD.pyx\r\n",
      "  tree = Parsing.p_module(s, pxd, full_module_name)\r\n",
      "Compiling [10/11]: FBSM_Rating_Cython_SGD.pyx... PASS\r\n",
      "\r\n",
      "Compiling [11/11]: DataIterator.pyx... \r\n",
      "In file included from \u001b[01m\u001b[K/usr/local/lib/python3.10/dist-packages/numpy/core/include/numpy/ndarraytypes.h:1929\u001b[m\u001b[K,\r\n",
      "                 from \u001b[01m\u001b[K/usr/local/lib/python3.10/dist-packages/numpy/core/include/numpy/ndarrayobject.h:12\u001b[m\u001b[K,\r\n",
      "                 from \u001b[01m\u001b[K/usr/local/lib/python3.10/dist-packages/numpy/core/include/numpy/arrayobject.h:5\u001b[m\u001b[K,\r\n",
      "                 from \u001b[01m\u001b[KDataIterator.c:1252\u001b[m\u001b[K:\r\n",
      "\u001b[01m\u001b[K/usr/local/lib/python3.10/dist-packages/numpy/core/include/numpy/npy_1_7_deprecated_api.h:17:2:\u001b[m\u001b[K \u001b[01;35m\u001b[Kwarning: \u001b[m\u001b[K#warning \"Using deprecated NumPy API, disable it with \" \"#define NPY_NO_DEPRECATED_API NPY_1_7_API_VERSION\" [\u001b[01;35m\u001b[K\u001b]8;;https://gcc.gnu.org/onlinedocs/gcc/Warning-Options.html#index-Wcpp\u0007-Wcpp\u001b]8;;\u0007\u001b[m\u001b[K]\r\n",
      "   17 | #\u001b[01;35m\u001b[Kwarning\u001b[m\u001b[K \"Using deprecated NumPy API, disable it with \" \\\r\n",
      "      |  \u001b[01;35m\u001b[K^~~~~~~\u001b[m\u001b[K\r\n",
      "\u001b[01m\u001b[KDataIterator.c:\u001b[m\u001b[K In function ‘\u001b[01m\u001b[K__pyx_pf_12DataIterator_19InteractionIterator_6__next__\u001b[m\u001b[K’:\r\n",
      "\u001b[01m\u001b[KDataIterator.c:20937:22:\u001b[m\u001b[K \u001b[01;35m\u001b[Kwarning: \u001b[m\u001b[K‘\u001b[01m\u001b[K__pyx_v_i_batch\u001b[m\u001b[K’ may be used uninitialized in this function [\u001b[01;35m\u001b[K\u001b]8;;https://gcc.gnu.org/onlinedocs/gcc/Warning-Options.html#index-Wmaybe-uninitialized\u0007-Wmaybe-uninitialized\u001b]8;;\u0007\u001b[m\u001b[K]\r\n",
      "20937 |     (__pyx_v_i_batch \u001b[01;35m\u001b[K+\u001b[m\u001b[K 1),\r\n",
      "      |                      \u001b[01;35m\u001b[K^\u001b[m\u001b[K\r\n",
      "\u001b[01m\u001b[KDataIterator.c:\u001b[m\u001b[K In function ‘\u001b[01m\u001b[K__pyx_pf_12DataIterator_30InteractionAndNegativeIterator_6__next__\u001b[m\u001b[K’:\r\n",
      "\u001b[01m\u001b[KDataIterator.c:25499:22:\u001b[m\u001b[K \u001b[01;35m\u001b[Kwarning: \u001b[m\u001b[K‘\u001b[01m\u001b[K__pyx_v_i_batch\u001b[m\u001b[K’ may be used uninitialized in this function [\u001b[01;35m\u001b[K\u001b]8;;https://gcc.gnu.org/onlinedocs/gcc/Warning-Options.html#index-Wmaybe-uninitialized\u0007-Wmaybe-uninitialized\u001b]8;;\u0007\u001b[m\u001b[K]\r\n",
      "25499 |     (__pyx_v_i_batch \u001b[01;35m\u001b[K+\u001b[m\u001b[K 1),\r\n",
      "      |                      \u001b[01;35m\u001b[K^\u001b[m\u001b[K\r\n",
      "\u001b[01m\u001b[KDataIterator.c:\u001b[m\u001b[K In function ‘\u001b[01m\u001b[K__pyx_pf_12DataIterator_11BPRIterator_6__next__\u001b[m\u001b[K’:\r\n",
      "\u001b[01m\u001b[KDataIterator.c:23056:22:\u001b[m\u001b[K \u001b[01;35m\u001b[Kwarning: \u001b[m\u001b[K‘\u001b[01m\u001b[K__pyx_v_i_batch\u001b[m\u001b[K’ may be used uninitialized in this function [\u001b[01;35m\u001b[K\u001b]8;;https://gcc.gnu.org/onlinedocs/gcc/Warning-Options.html#index-Wmaybe-uninitialized\u0007-Wmaybe-uninitialized\u001b]8;;\u0007\u001b[m\u001b[K]\r\n",
      "23056 |     (__pyx_v_i_batch \u001b[01;35m\u001b[K+\u001b[m\u001b[K 1),\r\n",
      "      |                      \u001b[01;35m\u001b[K^\u001b[m\u001b[K\r\n",
      "/usr/local/lib/python3.10/dist-packages/Cython/Compiler/Main.py:381: FutureWarning: Cython directive 'language_level' not set, using '3str' for now (Py3). This has changed from earlier releases! File: /kaggle/working/RECsys_Challenge2024/Utils/PyTorch/Cython/DataIterator.pyx\r\n",
      "  tree = Parsing.p_module(s, pxd, full_module_name)\r\n",
      "Compiling [11/11]: DataIterator.pyx... PASS\r\n",
      "\r\n",
      "run_compile_all_cython: Compilation finished. FAILS 2/11.\r\n",
      "Compilation log can be found here: './result_experiments/run_compile_all_cython.txt'\r\n"
     ]
    }
   ],
   "source": [
    "%cd /kaggle/working/RECsys_Challenge2024 \n",
    "! python run_compile_all_cython.py"
   ]
  },
  {
   "cell_type": "code",
   "execution_count": 5,
   "id": "5300bd06",
   "metadata": {
    "execution": {
     "iopub.execute_input": "2025-01-05T10:39:16.298985Z",
     "iopub.status.busy": "2025-01-05T10:39:16.298482Z",
     "iopub.status.idle": "2025-01-05T10:39:18.032553Z",
     "shell.execute_reply": "2025-01-05T10:39:18.031635Z"
    },
    "papermill": {
     "duration": 1.751764,
     "end_time": "2025-01-05T10:39:18.034322",
     "exception": false,
     "start_time": "2025-01-05T10:39:16.282558",
     "status": "completed"
    },
    "tags": []
   },
   "outputs": [],
   "source": [
    "from Utils.notebookFunctions import *\n",
    "import numpy as np\n",
    "import pandas as pd\n",
    "import scipy.sparse as sps\n",
    "import time\n",
    "import shutil\n",
    "import optuna\n",
    "import json\n",
    "import os\n",
    "from Utils.seconds_to_biggest_unit import seconds_to_biggest_unit\n",
    "\n",
    "\n",
    "K_PATH = '/kaggle/working/RECsys_Challenge2024'\n",
    "GH_PATH = 'TrainedModels/WithKFCV/GraphBased'\n",
    "\n",
    "np.random.seed(42)"
   ]
  },
  {
   "cell_type": "markdown",
   "id": "20598be9",
   "metadata": {
    "papermill": {
     "duration": 0.014802,
     "end_time": "2025-01-05T10:39:18.064193",
     "exception": false,
     "start_time": "2025-01-05T10:39:18.049391",
     "status": "completed"
    },
    "tags": []
   },
   "source": [
    "## Import the repository"
   ]
  },
  {
   "cell_type": "code",
   "execution_count": 6,
   "id": "01a26542",
   "metadata": {
    "execution": {
     "iopub.execute_input": "2025-01-05T10:39:18.095405Z",
     "iopub.status.busy": "2025-01-05T10:39:18.094912Z",
     "iopub.status.idle": "2025-01-05T10:39:18.568301Z",
     "shell.execute_reply": "2025-01-05T10:39:18.567192Z"
    },
    "papermill": {
     "duration": 0.49092,
     "end_time": "2025-01-05T10:39:18.569940",
     "exception": false,
     "start_time": "2025-01-05T10:39:18.079020",
     "status": "completed"
    },
    "tags": []
   },
   "outputs": [
    {
     "name": "stdout",
     "output_type": "stream",
     "text": [
      "Repository 'RECsys_Challenge2024' found.\n"
     ]
    }
   ],
   "source": [
    "repo = get_repo_from_github(token)"
   ]
  },
  {
   "cell_type": "code",
   "execution_count": 7,
   "id": "01248462",
   "metadata": {
    "execution": {
     "iopub.execute_input": "2025-01-05T10:39:18.601258Z",
     "iopub.status.busy": "2025-01-05T10:39:18.600855Z",
     "iopub.status.idle": "2025-01-05T10:39:18.605575Z",
     "shell.execute_reply": "2025-01-05T10:39:18.604483Z"
    },
    "papermill": {
     "duration": 0.022302,
     "end_time": "2025-01-05T10:39:18.607278",
     "exception": false,
     "start_time": "2025-01-05T10:39:18.584976",
     "status": "completed"
    },
    "tags": []
   },
   "outputs": [],
   "source": [
    "config = {\n",
    "    'model': 'P3alpha',\n",
    "    'metric': 'MAP',\n",
    "    'n_folds': 5,\n",
    "    'tune_parameters': True,\n",
    "    'database_path': '/kaggle/working/history_P3alpha_MAP.db',\n",
    "    'copy_prev_best_params': False,\n",
    "    'tune_best_params': True,\n",
    "    'save_github': True\n",
    "}"
   ]
  },
  {
   "cell_type": "markdown",
   "id": "5b6c16ff",
   "metadata": {
    "papermill": {
     "duration": 0.01471,
     "end_time": "2025-01-05T10:39:18.637588",
     "exception": false,
     "start_time": "2025-01-05T10:39:18.622878",
     "status": "completed"
    },
    "tags": []
   },
   "source": [
    "Import the database where previous tuning trials have been saved."
   ]
  },
  {
   "cell_type": "code",
   "execution_count": 8,
   "id": "b5302fe3",
   "metadata": {
    "execution": {
     "iopub.execute_input": "2025-01-05T10:39:18.669269Z",
     "iopub.status.busy": "2025-01-05T10:39:18.668867Z",
     "iopub.status.idle": "2025-01-05T10:39:18.674444Z",
     "shell.execute_reply": "2025-01-05T10:39:18.673439Z"
    },
    "papermill": {
     "duration": 0.023546,
     "end_time": "2025-01-05T10:39:18.676147",
     "exception": false,
     "start_time": "2025-01-05T10:39:18.652601",
     "status": "completed"
    },
    "tags": []
   },
   "outputs": [],
   "source": [
    "try:\n",
    "    shutil.copyfile(\n",
    "        f'{K_PATH}/{GH_PATH}/{config[\"model\"]}Recommender/Optimizing{config[\"metric\"]}/history_{config[\"model\"]}_{config[\"metric\"]}.db', \n",
    "        config['database_path']\n",
    "    )\n",
    "except FileNotFoundError:\n",
    "    pass # if not present optuna will create it"
   ]
  },
  {
   "cell_type": "markdown",
   "id": "88e660ee",
   "metadata": {
    "papermill": {
     "duration": 0.01455,
     "end_time": "2025-01-05T10:39:18.705786",
     "exception": false,
     "start_time": "2025-01-05T10:39:18.691236",
     "status": "completed"
    },
    "tags": []
   },
   "source": [
    "# Construction of URM and ICM matrices"
   ]
  },
  {
   "cell_type": "code",
   "execution_count": 9,
   "id": "ea163214",
   "metadata": {
    "execution": {
     "iopub.execute_input": "2025-01-05T10:39:18.737054Z",
     "iopub.status.busy": "2025-01-05T10:39:18.736630Z",
     "iopub.status.idle": "2025-01-05T10:39:19.583013Z",
     "shell.execute_reply": "2025-01-05T10:39:19.581838Z"
    },
    "papermill": {
     "duration": 0.864186,
     "end_time": "2025-01-05T10:39:19.584878",
     "exception": false,
     "start_time": "2025-01-05T10:39:18.720692",
     "status": "completed"
    },
    "tags": []
   },
   "outputs": [
    {
     "data": {
      "text/plain": [
       "<35736x38121 sparse matrix of type '<class 'numpy.float64'>'\n",
       "\twith 1764607 stored elements in Compressed Sparse Row format>"
      ]
     },
     "execution_count": 9,
     "metadata": {},
     "output_type": "execute_result"
    }
   ],
   "source": [
    "URM_all_dataframe = pd.read_csv(\"/kaggle/input/recommender-system-2024-challenge-polimi/data_train.csv\")\n",
    "\n",
    "n_users = len(URM_all_dataframe[\"user_id\"].unique())\n",
    "n_items = len(URM_all_dataframe[\"item_id\"].unique())\n",
    "\n",
    "URM_all = sps.csr_matrix((URM_all_dataframe[\"data\"].values, \n",
    "                          (URM_all_dataframe[\"user_id\"].values, URM_all_dataframe[\"item_id\"].values)),\n",
    "                        shape = (n_users, n_items))\n",
    "\n",
    "URM_all"
   ]
  },
  {
   "cell_type": "code",
   "execution_count": 10,
   "id": "b0ad7744",
   "metadata": {
    "execution": {
     "iopub.execute_input": "2025-01-05T10:39:19.616445Z",
     "iopub.status.busy": "2025-01-05T10:39:19.616053Z",
     "iopub.status.idle": "2025-01-05T10:39:20.859307Z",
     "shell.execute_reply": "2025-01-05T10:39:20.858223Z"
    },
    "papermill": {
     "duration": 1.261093,
     "end_time": "2025-01-05T10:39:20.861177",
     "exception": false,
     "start_time": "2025-01-05T10:39:19.600084",
     "status": "completed"
    },
    "tags": []
   },
   "outputs": [
    {
     "data": {
      "text/plain": [
       "<38121x94331 sparse matrix of type '<class 'numpy.float64'>'\n",
       "\twith 2940040 stored elements in Compressed Sparse Row format>"
      ]
     },
     "execution_count": 10,
     "metadata": {},
     "output_type": "execute_result"
    }
   ],
   "source": [
    "ICM_dataframe = pd.read_csv(\"/kaggle/input/recommender-system-2024-challenge-polimi/data_ICM_metadata.csv\")\n",
    "\n",
    "n_items = len(ICM_dataframe[\"item_id\"].unique())\n",
    "n_features = len(ICM_dataframe[\"feature_id\"].unique())\n",
    "\n",
    "ICM_all = sps.csr_matrix((ICM_dataframe[\"data\"].values, \n",
    "                          (ICM_dataframe[\"item_id\"].values, ICM_dataframe[\"feature_id\"].values)),\n",
    "                        shape = (n_items, n_features))\n",
    "\n",
    "ICM_all"
   ]
  },
  {
   "cell_type": "markdown",
   "id": "b212776a",
   "metadata": {
    "papermill": {
     "duration": 0.014787,
     "end_time": "2025-01-05T10:39:20.891018",
     "exception": false,
     "start_time": "2025-01-05T10:39:20.876231",
     "status": "completed"
    },
    "tags": []
   },
   "source": [
    "# Training"
   ]
  },
  {
   "cell_type": "code",
   "execution_count": 11,
   "id": "6ebd947c",
   "metadata": {
    "execution": {
     "iopub.execute_input": "2025-01-05T10:39:20.922772Z",
     "iopub.status.busy": "2025-01-05T10:39:20.922366Z",
     "iopub.status.idle": "2025-01-05T10:39:38.452345Z",
     "shell.execute_reply": "2025-01-05T10:39:38.451413Z"
    },
    "papermill": {
     "duration": 17.548125,
     "end_time": "2025-01-05T10:39:38.454341",
     "exception": false,
     "start_time": "2025-01-05T10:39:20.906216",
     "status": "completed"
    },
    "tags": []
   },
   "outputs": [
    {
     "name": "stdout",
     "output_type": "stream",
     "text": [
      "Warning: 141 (0.39 %) of 35736 users have no sampled items\n"
     ]
    }
   ],
   "source": [
    "from Evaluation.Evaluator import EvaluatorHoldout\n",
    "from Data_manager.split_functions.split_train_validation_random_holdout import split_train_in_two_percentage_global_sample\n",
    "from Data_manager.split_functions.split_train_k_folds import split_train_k_folds\n",
    "\n",
    "URM_train, URM_validation = split_train_in_two_percentage_global_sample(URM_all, train_percentage = 0.80)\n",
    "\n",
    "folds = split_train_k_folds(URM_all, k=config['n_folds'])"
   ]
  },
  {
   "cell_type": "code",
   "execution_count": 12,
   "id": "81011098",
   "metadata": {
    "execution": {
     "iopub.execute_input": "2025-01-05T10:39:38.487571Z",
     "iopub.status.busy": "2025-01-05T10:39:38.487125Z",
     "iopub.status.idle": "2025-01-05T10:39:39.453486Z",
     "shell.execute_reply": "2025-01-05T10:39:39.452126Z"
    },
    "papermill": {
     "duration": 0.984801,
     "end_time": "2025-01-05T10:39:39.455475",
     "exception": false,
     "start_time": "2025-01-05T10:39:38.470674",
     "status": "completed"
    },
    "tags": []
   },
   "outputs": [],
   "source": [
    "from Recommenders.GraphBased.P3alphaRecommender import P3alphaRecommender\n",
    "\n",
    "def objective_function_P3alpha(optuna_trial):\n",
    "    \n",
    "    full_hyperp = {\n",
    "                   \"topK\": optuna_trial.suggest_int(\"topK\", 0, 1500),\n",
    "                   \"alpha\": optuna_trial.suggest_float(\"alpha\", 0, 2, log=False),\n",
    "                   \"normalize_similarity\": optuna_trial.suggest_categorical(\"normalize_similarity\", [True, False]),\n",
    "                   \"implicit\": optuna_trial.suggest_categorical(\"implicit\", [True, False]),\n",
    "    }            \n",
    "\n",
    "    validation_results = []\n",
    "    \n",
    "    for fold_idx, (URM_train_fold, URM_validation_fold) in enumerate(folds):\n",
    "    \n",
    "        recommender_instance = P3alphaRecommender(URM_train_fold)\n",
    "        recommender_instance.fit(**full_hyperp)\n",
    "        \n",
    "        evaluator = EvaluatorHoldout(URM_validation_fold, cutoff_list=[10])\n",
    "        result_df, _ = evaluator.evaluateRecommender(recommender_instance)\n",
    "        \n",
    "        validation_results.append(result_df.loc[10][\"MAP\"])\n",
    "    \n",
    "    return np.mean(validation_results)"
   ]
  },
  {
   "cell_type": "code",
   "execution_count": 13,
   "id": "de956d5a",
   "metadata": {
    "_kg_hide-output": true,
    "execution": {
     "iopub.execute_input": "2025-01-05T10:39:39.487375Z",
     "iopub.status.busy": "2025-01-05T10:39:39.486779Z",
     "iopub.status.idle": "2025-01-05T15:09:36.367680Z",
     "shell.execute_reply": "2025-01-05T15:09:36.366563Z"
    },
    "papermill": {
     "duration": 16196.901178,
     "end_time": "2025-01-05T15:09:36.372014",
     "exception": false,
     "start_time": "2025-01-05T10:39:39.470836",
     "status": "completed"
    },
    "tags": []
   },
   "outputs": [
    {
     "name": "stderr",
     "output_type": "stream",
     "text": [
      "[I 2025-01-05 10:39:40,426] Using an existing study with name 'hyperparameters_tuning_P3alpha_MAP' instead of creating a new one.\n"
     ]
    },
    {
     "name": "stdout",
     "output_type": "stream",
     "text": [
      "P3alphaRecommender: Similarity column 38121 (100.0%), 1393.16 column/sec. Elapsed time 27.36 sec\n",
      "EvaluatorHoldout: Ignoring 173 ( 0.5%) Users that have less than 1 test interactions\n",
      "EvaluatorHoldout: Processed 35563 (100.0%) in 37.96 sec. Users per second: 937\n",
      "P3alphaRecommender: Similarity column 38121 (100.0%), 1393.38 column/sec. Elapsed time 27.36 sec\n",
      "EvaluatorHoldout: Ignoring 163 ( 0.5%) Users that have less than 1 test interactions\n",
      "EvaluatorHoldout: Processed 35573 (100.0%) in 37.83 sec. Users per second: 940\n",
      "P3alphaRecommender: Similarity column 38121 (100.0%), 1402.37 column/sec. Elapsed time 27.18 sec\n",
      "EvaluatorHoldout: Ignoring 150 ( 0.4%) Users that have less than 1 test interactions\n",
      "EvaluatorHoldout: Processed 35586 (100.0%) in 37.67 sec. Users per second: 945\n",
      "P3alphaRecommender: Similarity column 38121 (100.0%), 1370.75 column/sec. Elapsed time 27.81 sec\n",
      "EvaluatorHoldout: Ignoring 167 ( 0.5%) Users that have less than 1 test interactions\n",
      "EvaluatorHoldout: Processed 35569 (100.0%) in 38.06 sec. Users per second: 935\n",
      "P3alphaRecommender: Similarity column 38121 (100.0%), 1367.48 column/sec. Elapsed time 27.88 sec\n",
      "EvaluatorHoldout: Ignoring 172 ( 0.5%) Users that have less than 1 test interactions\n",
      "EvaluatorHoldout: Processed 35564 (100.0%) in 37.59 sec. Users per second: 946\n"
     ]
    },
    {
     "name": "stderr",
     "output_type": "stream",
     "text": [
      "[I 2025-01-05 10:45:52,587] Trial 100 finished with value: 0.04088362422565477 and parameters: {'topK': 264, 'alpha': 0.19357071407470383, 'normalize_similarity': True, 'implicit': False}. Best is trial 10 with value: 0.05370249298547826.\n"
     ]
    },
    {
     "name": "stdout",
     "output_type": "stream",
     "text": [
      "P3alphaRecommender: Similarity column 38121 (100.0%), 2343.62 column/sec. Elapsed time 16.27 sec\n",
      "EvaluatorHoldout: Ignoring 173 ( 0.5%) Users that have less than 1 test interactions\n",
      "EvaluatorHoldout: Processed 35563 (100.0%) in 31.07 sec. Users per second: 1145\n",
      "P3alphaRecommender: Similarity column 38121 (100.0%), 2342.70 column/sec. Elapsed time 16.27 sec\n",
      "EvaluatorHoldout: Ignoring 163 ( 0.5%) Users that have less than 1 test interactions\n",
      "EvaluatorHoldout: Processed 35573 (100.0%) in 31.25 sec. Users per second: 1138\n",
      "P3alphaRecommender: Similarity column 38121 (100.0%), 2362.76 column/sec. Elapsed time 16.13 sec\n",
      "EvaluatorHoldout: Ignoring 150 ( 0.4%) Users that have less than 1 test interactions\n",
      "EvaluatorHoldout: Processed 35586 (100.0%) in 31.17 sec. Users per second: 1142\n",
      "P3alphaRecommender: Similarity column 38121 (100.0%), 2335.92 column/sec. Elapsed time 16.32 sec\n",
      "EvaluatorHoldout: Ignoring 167 ( 0.5%) Users that have less than 1 test interactions\n",
      "EvaluatorHoldout: Processed 35569 (100.0%) in 31.21 sec. Users per second: 1140\n",
      "P3alphaRecommender: Similarity column 38121 (100.0%), 2331.88 column/sec. Elapsed time 16.35 sec\n",
      "EvaluatorHoldout: Ignoring 172 ( 0.5%) Users that have less than 1 test interactions\n",
      "EvaluatorHoldout: Processed 35564 (100.0%) in 31.14 sec. Users per second: 1142\n"
     ]
    },
    {
     "name": "stderr",
     "output_type": "stream",
     "text": [
      "[I 2025-01-05 10:49:57,033] Trial 101 finished with value: 0.05221018954207535 and parameters: {'topK': 27, 'alpha': 0.8235823673862037, 'normalize_similarity': True, 'implicit': False}. Best is trial 10 with value: 0.05370249298547826.\n"
     ]
    },
    {
     "name": "stdout",
     "output_type": "stream",
     "text": [
      "P3alphaRecommender: Similarity column 38121 (100.0%), 2360.70 column/sec. Elapsed time 16.15 sec\n",
      "EvaluatorHoldout: Ignoring 173 ( 0.5%) Users that have less than 1 test interactions\n",
      "EvaluatorHoldout: Processed 35563 (100.0%) in 30.89 sec. Users per second: 1151\n",
      "P3alphaRecommender: Similarity column 38121 (100.0%), 2367.04 column/sec. Elapsed time 16.10 sec\n",
      "EvaluatorHoldout: Ignoring 163 ( 0.5%) Users that have less than 1 test interactions\n",
      "EvaluatorHoldout: Processed 35573 (100.0%) in 30.94 sec. Users per second: 1150\n",
      "P3alphaRecommender: Similarity column 38121 (100.0%), 2372.39 column/sec. Elapsed time 16.07 sec\n",
      "EvaluatorHoldout: Ignoring 150 ( 0.4%) Users that have less than 1 test interactions\n",
      "EvaluatorHoldout: Processed 35586 (100.0%) in 31.04 sec. Users per second: 1146\n",
      "P3alphaRecommender: Similarity column 38121 (100.0%), 2346.42 column/sec. Elapsed time 16.25 sec\n",
      "EvaluatorHoldout: Ignoring 167 ( 0.5%) Users that have less than 1 test interactions\n",
      "EvaluatorHoldout: Processed 35569 (100.0%) in 30.91 sec. Users per second: 1151\n",
      "P3alphaRecommender: Similarity column 38121 (100.0%), 2358.87 column/sec. Elapsed time 16.16 sec\n",
      "EvaluatorHoldout: Ignoring 172 ( 0.5%) Users that have less than 1 test interactions\n",
      "EvaluatorHoldout: Processed 35564 (100.0%) in 30.84 sec. Users per second: 1153\n"
     ]
    },
    {
     "name": "stderr",
     "output_type": "stream",
     "text": [
      "[I 2025-01-05 10:53:58,973] Trial 102 finished with value: 0.05253647896025815 and parameters: {'topK': 23, 'alpha': 0.8299408357816291, 'normalize_similarity': True, 'implicit': False}. Best is trial 10 with value: 0.05370249298547826.\n"
     ]
    },
    {
     "name": "stdout",
     "output_type": "stream",
     "text": [
      "P3alphaRecommender: Similarity column 38121 (100.0%), 1999.29 column/sec. Elapsed time 19.07 sec\n",
      "EvaluatorHoldout: Ignoring 173 ( 0.5%) Users that have less than 1 test interactions\n",
      "EvaluatorHoldout: Processed 35563 (100.0%) in 27.58 sec. Users per second: 1289\n",
      "P3alphaRecommender: Similarity column 38121 (100.0%), 2006.68 column/sec. Elapsed time 19.00 sec\n",
      "EvaluatorHoldout: Ignoring 163 ( 0.5%) Users that have less than 1 test interactions\n",
      "EvaluatorHoldout: Processed 35573 (100.0%) in 27.60 sec. Users per second: 1289\n",
      "P3alphaRecommender: Similarity column 38121 (100.0%), 1996.82 column/sec. Elapsed time 19.09 sec\n",
      "EvaluatorHoldout: Ignoring 150 ( 0.4%) Users that have less than 1 test interactions\n",
      "EvaluatorHoldout: Processed 35586 (100.0%) in 27.53 sec. Users per second: 1293\n",
      "P3alphaRecommender: Similarity column 38121 (100.0%), 2000.26 column/sec. Elapsed time 19.06 sec\n",
      "EvaluatorHoldout: Ignoring 167 ( 0.5%) Users that have less than 1 test interactions\n",
      "EvaluatorHoldout: Processed 35569 (100.0%) in 27.48 sec. Users per second: 1294\n",
      "P3alphaRecommender: Similarity column 38121 (100.0%), 2002.32 column/sec. Elapsed time 19.04 sec\n",
      "EvaluatorHoldout: Ignoring 172 ( 0.5%) Users that have less than 1 test interactions\n",
      "EvaluatorHoldout: Processed 35564 (100.0%) in 27.37 sec. Users per second: 1299\n"
     ]
    },
    {
     "name": "stderr",
     "output_type": "stream",
     "text": [
      "[I 2025-01-05 10:57:55,655] Trial 103 finished with value: 0.04302974775721296 and parameters: {'topK': 3, 'alpha': 0.7038677874082406, 'normalize_similarity': True, 'implicit': False}. Best is trial 10 with value: 0.05370249298547826.\n"
     ]
    },
    {
     "name": "stdout",
     "output_type": "stream",
     "text": [
      "P3alphaRecommender: Similarity column 38121 (100.0%), 2018.85 column/sec. Elapsed time 18.88 sec\n",
      "EvaluatorHoldout: Ignoring 173 ( 0.5%) Users that have less than 1 test interactions\n",
      "EvaluatorHoldout: Processed 35563 (100.0%) in 29.63 sec. Users per second: 1200\n",
      "P3alphaRecommender: Similarity column 38121 (100.0%), 2001.31 column/sec. Elapsed time 19.05 sec\n",
      "EvaluatorHoldout: Ignoring 163 ( 0.5%) Users that have less than 1 test interactions\n",
      "EvaluatorHoldout: Processed 35573 (100.0%) in 33.73 sec. Users per second: 1055\n",
      "P3alphaRecommender: Similarity column 38121 (100.0%), 1983.15 column/sec. Elapsed time 19.22 sec\n",
      "EvaluatorHoldout: Ignoring 150 ( 0.4%) Users that have less than 1 test interactions\n",
      "EvaluatorHoldout: Processed 35586 (100.0%) in 29.99 sec. Users per second: 1186\n",
      "P3alphaRecommender: Similarity column 38121 (100.0%), 1999.90 column/sec. Elapsed time 19.06 sec\n",
      "EvaluatorHoldout: Ignoring 167 ( 0.5%) Users that have less than 1 test interactions\n",
      "EvaluatorHoldout: Processed 35569 (100.0%) in 33.66 sec. Users per second: 1057\n",
      "P3alphaRecommender: Similarity column 38121 (100.0%), 1991.38 column/sec. Elapsed time 19.14 sec\n",
      "EvaluatorHoldout: Ignoring 172 ( 0.5%) Users that have less than 1 test interactions\n",
      "EvaluatorHoldout: Processed 35564 (100.0%) in 29.85 sec. Users per second: 1191\n"
     ]
    },
    {
     "name": "stderr",
     "output_type": "stream",
     "text": [
      "[I 2025-01-05 11:02:23,980] Trial 104 finished with value: 0.04816109208279552 and parameters: {'topK': 88, 'alpha': 0.5772227777273413, 'normalize_similarity': True, 'implicit': False}. Best is trial 10 with value: 0.05370249298547826.\n"
     ]
    },
    {
     "name": "stdout",
     "output_type": "stream",
     "text": [
      "P3alphaRecommender: Similarity column 38121 (100.0%), 2158.06 column/sec. Elapsed time 17.66 sec\n",
      "EvaluatorHoldout: Ignoring 173 ( 0.5%) Users that have less than 1 test interactions\n",
      "EvaluatorHoldout: Processed 35563 (100.0%) in 32.97 sec. Users per second: 1079\n",
      "P3alphaRecommender: Similarity column 38121 (100.0%), 2164.95 column/sec. Elapsed time 17.61 sec\n",
      "EvaluatorHoldout: Ignoring 163 ( 0.5%) Users that have less than 1 test interactions\n",
      "EvaluatorHoldout: Processed 35573 (100.0%) in 33.08 sec. Users per second: 1075\n",
      "P3alphaRecommender: Similarity column 38121 (100.0%), 2130.03 column/sec. Elapsed time 17.90 sec\n",
      "EvaluatorHoldout: Ignoring 150 ( 0.4%) Users that have less than 1 test interactions\n",
      "EvaluatorHoldout: Processed 35586 (100.0%) in 33.13 sec. Users per second: 1074\n",
      "P3alphaRecommender: Similarity column 38121 (100.0%), 2183.71 column/sec. Elapsed time 17.46 sec\n",
      "EvaluatorHoldout: Ignoring 167 ( 0.5%) Users that have less than 1 test interactions\n",
      "EvaluatorHoldout: Processed 35569 (100.0%) in 32.95 sec. Users per second: 1079\n",
      "P3alphaRecommender: Similarity column 38121 (100.0%), 2177.34 column/sec. Elapsed time 17.51 sec\n",
      "EvaluatorHoldout: Ignoring 172 ( 0.5%) Users that have less than 1 test interactions\n",
      "EvaluatorHoldout: Processed 35564 (100.0%) in 32.90 sec. Users per second: 1081\n"
     ]
    },
    {
     "name": "stderr",
     "output_type": "stream",
     "text": [
      "[I 2025-01-05 11:06:49,002] Trial 105 finished with value: 0.04896643161435016 and parameters: {'topK': 55, 'alpha': 0.9627241371928188, 'normalize_similarity': True, 'implicit': False}. Best is trial 10 with value: 0.05370249298547826.\n"
     ]
    },
    {
     "name": "stdout",
     "output_type": "stream",
     "text": [
      "P3alphaRecommender: Similarity column 38121 (100.0%), 1779.99 column/sec. Elapsed time 21.42 sec\n",
      "EvaluatorHoldout: Ignoring 173 ( 0.5%) Users that have less than 1 test interactions\n",
      "EvaluatorHoldout: Processed 35563 (100.0%) in 31.48 sec. Users per second: 1130\n",
      "P3alphaRecommender: Similarity column 38121 (100.0%), 1762.01 column/sec. Elapsed time 21.63 sec\n",
      "EvaluatorHoldout: Ignoring 163 ( 0.5%) Users that have less than 1 test interactions\n",
      "EvaluatorHoldout: Processed 35573 (100.0%) in 31.73 sec. Users per second: 1121\n",
      "P3alphaRecommender: Similarity column 38121 (100.0%), 1766.12 column/sec. Elapsed time 21.58 sec\n",
      "EvaluatorHoldout: Ignoring 150 ( 0.4%) Users that have less than 1 test interactions\n",
      "EvaluatorHoldout: Processed 35586 (100.0%) in 31.58 sec. Users per second: 1127\n",
      "P3alphaRecommender: Similarity column 38121 (100.0%), 1784.29 column/sec. Elapsed time 21.36 sec\n",
      "EvaluatorHoldout: Ignoring 167 ( 0.5%) Users that have less than 1 test interactions\n",
      "EvaluatorHoldout: Processed 35569 (100.0%) in 31.68 sec. Users per second: 1123\n",
      "P3alphaRecommender: Similarity column 38121 (100.0%), 1773.32 column/sec. Elapsed time 21.50 sec\n",
      "EvaluatorHoldout: Ignoring 172 ( 0.5%) Users that have less than 1 test interactions\n",
      "EvaluatorHoldout: Processed 35564 (100.0%) in 31.64 sec. Users per second: 1124\n"
     ]
    },
    {
     "name": "stderr",
     "output_type": "stream",
     "text": [
      "[I 2025-01-05 11:11:39,753] Trial 106 finished with value: 0.045115575584085396 and parameters: {'topK': 141, 'alpha': 0.742368111052462, 'normalize_similarity': True, 'implicit': False}. Best is trial 10 with value: 0.05370249298547826.\n"
     ]
    },
    {
     "name": "stdout",
     "output_type": "stream",
     "text": [
      "P3alphaRecommender: Similarity column 38121 (100.0%), 1568.30 column/sec. Elapsed time 24.31 sec\n",
      "EvaluatorHoldout: Ignoring 173 ( 0.5%) Users that have less than 1 test interactions\n",
      "EvaluatorHoldout: Processed 35563 (100.0%) in 37.36 sec. Users per second: 952\n",
      "P3alphaRecommender: Similarity column 38121 (100.0%), 1583.90 column/sec. Elapsed time 24.07 sec\n",
      "EvaluatorHoldout: Ignoring 163 ( 0.5%) Users that have less than 1 test interactions\n",
      "EvaluatorHoldout: Processed 35573 (100.0%) in 37.21 sec. Users per second: 956\n",
      "P3alphaRecommender: Similarity column 38121 (100.0%), 1584.07 column/sec. Elapsed time 24.07 sec\n",
      "EvaluatorHoldout: Ignoring 150 ( 0.4%) Users that have less than 1 test interactions\n",
      "EvaluatorHoldout: Processed 35586 (100.0%) in 37.20 sec. Users per second: 957\n",
      "P3alphaRecommender: Similarity column 38121 (100.0%), 1564.68 column/sec. Elapsed time 24.36 sec\n",
      "EvaluatorHoldout: Ignoring 167 ( 0.5%) Users that have less than 1 test interactions\n",
      "EvaluatorHoldout: Processed 35569 (100.0%) in 37.32 sec. Users per second: 953\n",
      "P3alphaRecommender: Similarity column 38121 (100.0%), 1566.45 column/sec. Elapsed time 24.34 sec\n",
      "EvaluatorHoldout: Ignoring 172 ( 0.5%) Users that have less than 1 test interactions\n",
      "EvaluatorHoldout: Processed 35564 (100.0%) in 37.19 sec. Users per second: 956\n"
     ]
    },
    {
     "name": "stderr",
     "output_type": "stream",
     "text": [
      "[I 2025-01-05 11:17:23,159] Trial 107 finished with value: 0.04286887657038844 and parameters: {'topK': 196, 'alpha': 0.8961852086316883, 'normalize_similarity': True, 'implicit': False}. Best is trial 10 with value: 0.05370249298547826.\n"
     ]
    },
    {
     "name": "stdout",
     "output_type": "stream",
     "text": [
      "P3alphaRecommender: Similarity column 38121 (100.0%), 1847.72 column/sec. Elapsed time 20.63 sec\n",
      "EvaluatorHoldout: Ignoring 173 ( 0.5%) Users that have less than 1 test interactions\n",
      "EvaluatorHoldout: Processed 35563 (100.0%) in 31.32 sec. Users per second: 1135\n",
      "P3alphaRecommender: Similarity column 38121 (100.0%), 1859.14 column/sec. Elapsed time 20.50 sec\n",
      "EvaluatorHoldout: Ignoring 163 ( 0.5%) Users that have less than 1 test interactions\n",
      "EvaluatorHoldout: Processed 35573 (100.0%) in 31.07 sec. Users per second: 1145\n",
      "P3alphaRecommender: Similarity column 38121 (100.0%), 1857.36 column/sec. Elapsed time 20.52 sec\n",
      "EvaluatorHoldout: Ignoring 150 ( 0.4%) Users that have less than 1 test interactions\n",
      "EvaluatorHoldout: Processed 35586 (100.0%) in 31.03 sec. Users per second: 1147\n",
      "P3alphaRecommender: Similarity column 38121 (100.0%), 1856.30 column/sec. Elapsed time 20.54 sec\n",
      "EvaluatorHoldout: Ignoring 167 ( 0.5%) Users that have less than 1 test interactions\n",
      "EvaluatorHoldout: Processed 35569 (100.0%) in 30.93 sec. Users per second: 1150\n",
      "P3alphaRecommender: Similarity column 38121 (100.0%), 1848.70 column/sec. Elapsed time 20.62 sec\n",
      "EvaluatorHoldout: Ignoring 172 ( 0.5%) Users that have less than 1 test interactions\n",
      "EvaluatorHoldout: Processed 35564 (100.0%) in 30.93 sec. Users per second: 1150\n"
     ]
    },
    {
     "name": "stderr",
     "output_type": "stream",
     "text": [
      "[I 2025-01-05 11:22:02,542] Trial 108 finished with value: 0.04155131211473144 and parameters: {'topK': 120, 'alpha': 0.6338913908159787, 'normalize_similarity': False, 'implicit': False}. Best is trial 10 with value: 0.05370249298547826.\n"
     ]
    },
    {
     "name": "stdout",
     "output_type": "stream",
     "text": [
      "P3alphaRecommender: Similarity column 38121 (100.0%), 2179.47 column/sec. Elapsed time 17.49 sec\n",
      "EvaluatorHoldout: Ignoring 173 ( 0.5%) Users that have less than 1 test interactions\n",
      "EvaluatorHoldout: Processed 35563 (100.0%) in 32.81 sec. Users per second: 1084\n",
      "P3alphaRecommender: Similarity column 38121 (100.0%), 2190.02 column/sec. Elapsed time 17.41 sec\n",
      "EvaluatorHoldout: Ignoring 163 ( 0.5%) Users that have less than 1 test interactions\n",
      "EvaluatorHoldout: Processed 35573 (100.0%) in 32.81 sec. Users per second: 1084\n",
      "P3alphaRecommender: Similarity column 38121 (100.0%), 2175.97 column/sec. Elapsed time 17.52 sec\n",
      "EvaluatorHoldout: Ignoring 150 ( 0.4%) Users that have less than 1 test interactions\n",
      "EvaluatorHoldout: Processed 35586 (100.0%) in 32.83 sec. Users per second: 1084\n",
      "P3alphaRecommender: Similarity column 38121 (100.0%), 2196.74 column/sec. Elapsed time 17.35 sec\n",
      "EvaluatorHoldout: Ignoring 167 ( 0.5%) Users that have less than 1 test interactions\n",
      "EvaluatorHoldout: Processed 35569 (100.0%) in 32.79 sec. Users per second: 1085\n",
      "P3alphaRecommender: Similarity column 38121 (100.0%), 2188.47 column/sec. Elapsed time 17.42 sec\n",
      "EvaluatorHoldout: Ignoring 172 ( 0.5%) Users that have less than 1 test interactions\n",
      "EvaluatorHoldout: Processed 35564 (100.0%) in 32.59 sec. Users per second: 1091\n"
     ]
    },
    {
     "name": "stderr",
     "output_type": "stream",
     "text": [
      "[I 2025-01-05 11:26:24,539] Trial 109 finished with value: 0.049748990510831904 and parameters: {'topK': 52, 'alpha': 0.8460819589168291, 'normalize_similarity': True, 'implicit': False}. Best is trial 10 with value: 0.05370249298547826.\n"
     ]
    },
    {
     "name": "stdout",
     "output_type": "stream",
     "text": [
      "P3alphaRecommender: Similarity column 38121 (100.0%), 730.89 column/sec. Elapsed time 52.16 sec\n",
      "EvaluatorHoldout: Ignoring 173 ( 0.5%) Users that have less than 1 test interactions\n",
      "EvaluatorHoldout: Processed 35563 (100.0%) in 46.57 sec. Users per second: 764\n",
      "P3alphaRecommender: Similarity column 38121 (100.0%), 729.19 column/sec. Elapsed time 52.28 sec\n",
      "EvaluatorHoldout: Ignoring 163 ( 0.5%) Users that have less than 1 test interactions\n",
      "EvaluatorHoldout: Processed 35573 (100.0%) in 46.71 sec. Users per second: 762\n",
      "P3alphaRecommender: Similarity column 38121 (100.0%), 727.07 column/sec. Elapsed time 52.43 sec\n",
      "EvaluatorHoldout: Ignoring 150 ( 0.4%) Users that have less than 1 test interactions\n",
      "EvaluatorHoldout: Processed 35586 (100.0%) in 46.92 sec. Users per second: 758\n",
      "P3alphaRecommender: Similarity column 38121 (100.0%), 736.67 column/sec. Elapsed time 51.75 sec\n",
      "EvaluatorHoldout: Ignoring 167 ( 0.5%) Users that have less than 1 test interactions\n",
      "EvaluatorHoldout: Processed 35569 (100.0%) in 46.50 sec. Users per second: 765\n",
      "P3alphaRecommender: Similarity column 38121 (100.0%), 741.70 column/sec. Elapsed time 51.40 sec\n",
      "EvaluatorHoldout: Ignoring 172 ( 0.5%) Users that have less than 1 test interactions\n",
      "EvaluatorHoldout: Processed 35564 (100.0%) in 46.54 sec. Users per second: 764\n"
     ]
    },
    {
     "name": "stderr",
     "output_type": "stream",
     "text": [
      "[I 2025-01-05 11:36:57,272] Trial 110 finished with value: 0.03438504613986426 and parameters: {'topK': 774, 'alpha': 0.1586491656004776, 'normalize_similarity': True, 'implicit': False}. Best is trial 10 with value: 0.05370249298547826.\n"
     ]
    },
    {
     "name": "stdout",
     "output_type": "stream",
     "text": [
      "P3alphaRecommender: Similarity column 38121 (100.0%), 2463.46 column/sec. Elapsed time 15.47 sec\n",
      "EvaluatorHoldout: Ignoring 173 ( 0.5%) Users that have less than 1 test interactions\n",
      "EvaluatorHoldout: Processed 35563 (100.0%) in 30.51 sec. Users per second: 1166\n",
      "P3alphaRecommender: Similarity column 38121 (100.0%), 2444.11 column/sec. Elapsed time 15.60 sec\n",
      "EvaluatorHoldout: Ignoring 163 ( 0.5%) Users that have less than 1 test interactions\n",
      "EvaluatorHoldout: Processed 35573 (100.0%) in 30.62 sec. Users per second: 1162\n",
      "P3alphaRecommender: Similarity column 38121 (100.0%), 2454.34 column/sec. Elapsed time 15.53 sec\n",
      "EvaluatorHoldout: Ignoring 150 ( 0.4%) Users that have less than 1 test interactions\n",
      "EvaluatorHoldout: Processed 35586 (100.0%) in 30.47 sec. Users per second: 1168\n",
      "P3alphaRecommender: Similarity column 38121 (100.0%), 2447.73 column/sec. Elapsed time 15.57 sec\n",
      "EvaluatorHoldout: Ignoring 167 ( 0.5%) Users that have less than 1 test interactions\n",
      "EvaluatorHoldout: Processed 35569 (100.0%) in 30.47 sec. Users per second: 1167\n",
      "P3alphaRecommender: Similarity column 38121 (100.0%), 2459.30 column/sec. Elapsed time 15.50 sec\n",
      "EvaluatorHoldout: Ignoring 172 ( 0.5%) Users that have less than 1 test interactions\n",
      "EvaluatorHoldout: Processed 35564 (100.0%) in 30.36 sec. Users per second: 1171\n"
     ]
    },
    {
     "name": "stderr",
     "output_type": "stream",
     "text": [
      "[I 2025-01-05 11:40:53,273] Trial 111 finished with value: 0.0528663253282279 and parameters: {'topK': 18, 'alpha': 0.8225077290647852, 'normalize_similarity': True, 'implicit': False}. Best is trial 10 with value: 0.05370249298547826.\n"
     ]
    },
    {
     "name": "stdout",
     "output_type": "stream",
     "text": [
      "P3alphaRecommender: Similarity column 38121 (100.0%), 2071.66 column/sec. Elapsed time 18.40 sec\n",
      "EvaluatorHoldout: Ignoring 173 ( 0.5%) Users that have less than 1 test interactions\n",
      "EvaluatorHoldout: Processed 35563 (100.0%) in 33.71 sec. Users per second: 1055\n",
      "P3alphaRecommender: Similarity column 38121 (100.0%), 2025.96 column/sec. Elapsed time 18.82 sec\n",
      "EvaluatorHoldout: Ignoring 163 ( 0.5%) Users that have less than 1 test interactions\n",
      "EvaluatorHoldout: Processed 35573 (100.0%) in 33.80 sec. Users per second: 1053\n",
      "P3alphaRecommender: Similarity column 38121 (100.0%), 2024.33 column/sec. Elapsed time 18.83 sec\n",
      "EvaluatorHoldout: Ignoring 150 ( 0.4%) Users that have less than 1 test interactions\n",
      "EvaluatorHoldout: Processed 35586 (100.0%) in 33.55 sec. Users per second: 1061\n",
      "P3alphaRecommender: Similarity column 38121 (100.0%), 2034.72 column/sec. Elapsed time 18.74 sec\n",
      "EvaluatorHoldout: Ignoring 167 ( 0.5%) Users that have less than 1 test interactions\n",
      "EvaluatorHoldout: Processed 35569 (100.0%) in 33.68 sec. Users per second: 1056\n",
      "P3alphaRecommender: Similarity column 38121 (100.0%), 2033.33 column/sec. Elapsed time 18.75 sec\n",
      "EvaluatorHoldout: Ignoring 172 ( 0.5%) Users that have less than 1 test interactions\n",
      "EvaluatorHoldout: Processed 35564 (100.0%) in 33.62 sec. Users per second: 1058\n"
     ]
    },
    {
     "name": "stderr",
     "output_type": "stream",
     "text": [
      "[I 2025-01-05 11:45:30,499] Trial 112 finished with value: 0.04815928395451181 and parameters: {'topK': 81, 'alpha': 0.7618321041561548, 'normalize_similarity': True, 'implicit': False}. Best is trial 10 with value: 0.05370249298547826.\n"
     ]
    },
    {
     "name": "stdout",
     "output_type": "stream",
     "text": [
      "P3alphaRecommender: Similarity column 38121 (100.0%), 2372.57 column/sec. Elapsed time 16.07 sec\n",
      "EvaluatorHoldout: Ignoring 173 ( 0.5%) Users that have less than 1 test interactions\n",
      "EvaluatorHoldout: Processed 35563 (100.0%) in 30.55 sec. Users per second: 1164\n",
      "P3alphaRecommender: Similarity column 38121 (100.0%), 2374.00 column/sec. Elapsed time 16.06 sec\n",
      "EvaluatorHoldout: Ignoring 163 ( 0.5%) Users that have less than 1 test interactions\n",
      "EvaluatorHoldout: Processed 35573 (100.0%) in 30.67 sec. Users per second: 1160\n",
      "P3alphaRecommender: Similarity column 38121 (100.0%), 2392.91 column/sec. Elapsed time 15.93 sec\n",
      "EvaluatorHoldout: Ignoring 150 ( 0.4%) Users that have less than 1 test interactions\n",
      "EvaluatorHoldout: Processed 35586 (100.0%) in 30.74 sec. Users per second: 1158\n",
      "P3alphaRecommender: Similarity column 38121 (100.0%), 2357.27 column/sec. Elapsed time 16.17 sec\n",
      "EvaluatorHoldout: Ignoring 167 ( 0.5%) Users that have less than 1 test interactions\n",
      "EvaluatorHoldout: Processed 35569 (100.0%) in 30.72 sec. Users per second: 1158\n",
      "P3alphaRecommender: Similarity column 38121 (100.0%), 2370.39 column/sec. Elapsed time 16.08 sec\n",
      "EvaluatorHoldout: Ignoring 172 ( 0.5%) Users that have less than 1 test interactions\n",
      "EvaluatorHoldout: Processed 35564 (100.0%) in 30.63 sec. Users per second: 1161\n"
     ]
    },
    {
     "name": "stderr",
     "output_type": "stream",
     "text": [
      "[I 2025-01-05 11:49:30,476] Trial 113 finished with value: 0.053184673529307856 and parameters: {'topK': 22, 'alpha': 0.6583349373649502, 'normalize_similarity': True, 'implicit': False}. Best is trial 10 with value: 0.05370249298547826.\n"
     ]
    },
    {
     "name": "stdout",
     "output_type": "stream",
     "text": [
      "P3alphaRecommender: Similarity column 38121 (100.0%), 2491.06 column/sec. Elapsed time 15.30 sec\n",
      "EvaluatorHoldout: Ignoring 173 ( 0.5%) Users that have less than 1 test interactions\n",
      "EvaluatorHoldout: Processed 35563 (100.0%) in 28.53 sec. Users per second: 1246\n",
      "P3alphaRecommender: Similarity column 38121 (100.0%), 2519.09 column/sec. Elapsed time 15.13 sec\n",
      "EvaluatorHoldout: Ignoring 163 ( 0.5%) Users that have less than 1 test interactions\n",
      "EvaluatorHoldout: Processed 35573 (100.0%) in 28.60 sec. Users per second: 1244\n",
      "P3alphaRecommender: Similarity column 38121 (100.0%), 2480.02 column/sec. Elapsed time 15.37 sec\n",
      "EvaluatorHoldout: Ignoring 150 ( 0.4%) Users that have less than 1 test interactions\n",
      "EvaluatorHoldout: Processed 35586 (100.0%) in 28.66 sec. Users per second: 1242\n",
      "P3alphaRecommender: Similarity column 38121 (100.0%), 2515.47 column/sec. Elapsed time 15.15 sec\n",
      "EvaluatorHoldout: Ignoring 167 ( 0.5%) Users that have less than 1 test interactions\n",
      "EvaluatorHoldout: Processed 35569 (100.0%) in 28.68 sec. Users per second: 1240\n",
      "P3alphaRecommender: Similarity column 38121 (100.0%), 2507.96 column/sec. Elapsed time 15.20 sec\n",
      "EvaluatorHoldout: Ignoring 172 ( 0.5%) Users that have less than 1 test interactions\n",
      "EvaluatorHoldout: Processed 35564 (100.0%) in 28.54 sec. Users per second: 1246\n"
     ]
    },
    {
     "name": "stderr",
     "output_type": "stream",
     "text": [
      "[I 2025-01-05 11:53:14,045] Trial 114 finished with value: 0.051916487103832246 and parameters: {'topK': 7, 'alpha': 0.6789599869812522, 'normalize_similarity': True, 'implicit': False}. Best is trial 10 with value: 0.05370249298547826.\n"
     ]
    },
    {
     "name": "stdout",
     "output_type": "stream",
     "text": [
      "P3alphaRecommender: Similarity column 38121 (100.0%), 1702.53 column/sec. Elapsed time 22.39 sec\n",
      "EvaluatorHoldout: Ignoring 173 ( 0.5%) Users that have less than 1 test interactions\n",
      "EvaluatorHoldout: Processed 35563 (100.0%) in 36.33 sec. Users per second: 979\n",
      "P3alphaRecommender: Similarity column 38121 (100.0%), 1700.47 column/sec. Elapsed time 22.42 sec\n",
      "EvaluatorHoldout: Ignoring 163 ( 0.5%) Users that have less than 1 test interactions\n",
      "EvaluatorHoldout: Processed 35573 (100.0%) in 36.36 sec. Users per second: 978\n",
      "P3alphaRecommender: Similarity column 38121 (100.0%), 1699.71 column/sec. Elapsed time 22.43 sec\n",
      "EvaluatorHoldout: Ignoring 150 ( 0.4%) Users that have less than 1 test interactions\n",
      "EvaluatorHoldout: Processed 35586 (100.0%) in 36.54 sec. Users per second: 974\n",
      "P3alphaRecommender: Similarity column 38121 (100.0%), 1694.77 column/sec. Elapsed time 22.49 sec\n",
      "EvaluatorHoldout: Ignoring 167 ( 0.5%) Users that have less than 1 test interactions\n",
      "EvaluatorHoldout: Processed 35569 (100.0%) in 36.59 sec. Users per second: 972\n",
      "P3alphaRecommender: Similarity column 38121 (100.0%), 1701.32 column/sec. Elapsed time 22.41 sec\n",
      "EvaluatorHoldout: Ignoring 172 ( 0.5%) Users that have less than 1 test interactions\n",
      "EvaluatorHoldout: Processed 35564 (100.0%) in 36.55 sec. Users per second: 973\n"
     ]
    },
    {
     "name": "stderr",
     "output_type": "stream",
     "text": [
      "[I 2025-01-05 11:58:38,216] Trial 115 finished with value: 0.043299638979650404 and parameters: {'topK': 162, 'alpha': 1.0775051301164722, 'normalize_similarity': True, 'implicit': False}. Best is trial 10 with value: 0.05370249298547826.\n"
     ]
    },
    {
     "name": "stdout",
     "output_type": "stream",
     "text": [
      "P3alphaRecommender: Similarity column 38121 (100.0%), 1943.99 column/sec. Elapsed time 19.61 sec\n",
      "EvaluatorHoldout: Ignoring 173 ( 0.5%) Users that have less than 1 test interactions\n",
      "EvaluatorHoldout: Processed 35563 (100.0%) in 34.02 sec. Users per second: 1045\n",
      "P3alphaRecommender: Similarity column 38121 (100.0%), 1937.39 column/sec. Elapsed time 19.68 sec\n",
      "EvaluatorHoldout: Ignoring 163 ( 0.5%) Users that have less than 1 test interactions\n",
      "EvaluatorHoldout: Processed 35573 (100.0%) in 34.11 sec. Users per second: 1043\n",
      "P3alphaRecommender: Similarity column 38121 (100.0%), 1936.73 column/sec. Elapsed time 19.68 sec\n",
      "EvaluatorHoldout: Ignoring 150 ( 0.4%) Users that have less than 1 test interactions\n",
      "EvaluatorHoldout: Processed 35586 (100.0%) in 29.92 sec. Users per second: 1189\n",
      "P3alphaRecommender: Similarity column 38121 (100.0%), 1948.81 column/sec. Elapsed time 19.56 sec\n",
      "EvaluatorHoldout: Ignoring 167 ( 0.5%) Users that have less than 1 test interactions\n",
      "EvaluatorHoldout: Processed 35569 (100.0%) in 30.14 sec. Users per second: 1180\n",
      "P3alphaRecommender: Similarity column 38121 (100.0%), 1941.28 column/sec. Elapsed time 19.64 sec\n",
      "EvaluatorHoldout: Ignoring 172 ( 0.5%) Users that have less than 1 test interactions\n",
      "EvaluatorHoldout: Processed 35564 (100.0%) in 29.78 sec. Users per second: 1194\n"
     ]
    },
    {
     "name": "stderr",
     "output_type": "stream",
     "text": [
      "[I 2025-01-05 12:03:11,659] Trial 116 finished with value: 0.04754727094759563 and parameters: {'topK': 101, 'alpha': 0.3543262304602782, 'normalize_similarity': True, 'implicit': False}. Best is trial 10 with value: 0.05370249298547826.\n"
     ]
    },
    {
     "name": "stdout",
     "output_type": "stream",
     "text": [
      "P3alphaRecommender: Similarity column 38121 (100.0%), 2164.33 column/sec. Elapsed time 17.61 sec\n",
      "EvaluatorHoldout: Ignoring 173 ( 0.5%) Users that have less than 1 test interactions\n",
      "EvaluatorHoldout: Processed 35563 (100.0%) in 32.25 sec. Users per second: 1103\n",
      "P3alphaRecommender: Similarity column 38121 (100.0%), 2198.93 column/sec. Elapsed time 17.34 sec\n",
      "EvaluatorHoldout: Ignoring 163 ( 0.5%) Users that have less than 1 test interactions\n",
      "EvaluatorHoldout: Processed 35573 (100.0%) in 32.38 sec. Users per second: 1099\n",
      "P3alphaRecommender: Similarity column 38121 (100.0%), 2201.71 column/sec. Elapsed time 17.31 sec\n",
      "EvaluatorHoldout: Ignoring 150 ( 0.4%) Users that have less than 1 test interactions\n",
      "EvaluatorHoldout: Processed 35586 (100.0%) in 32.21 sec. Users per second: 1105\n",
      "P3alphaRecommender: Similarity column 38121 (100.0%), 2192.76 column/sec. Elapsed time 17.38 sec\n",
      "EvaluatorHoldout: Ignoring 167 ( 0.5%) Users that have less than 1 test interactions\n",
      "EvaluatorHoldout: Processed 35569 (100.0%) in 32.17 sec. Users per second: 1106\n",
      "P3alphaRecommender: Similarity column 38121 (100.0%), 2212.42 column/sec. Elapsed time 17.23 sec\n",
      "EvaluatorHoldout: Ignoring 172 ( 0.5%) Users that have less than 1 test interactions\n",
      "EvaluatorHoldout: Processed 35564 (100.0%) in 32.11 sec. Users per second: 1107\n"
     ]
    },
    {
     "name": "stderr",
     "output_type": "stream",
     "text": [
      "[I 2025-01-05 12:07:30,149] Trial 117 finished with value: 0.05076538637504058 and parameters: {'topK': 53, 'alpha': 0.43423386096461297, 'normalize_similarity': True, 'implicit': False}. Best is trial 10 with value: 0.05370249298547826.\n"
     ]
    },
    {
     "name": "stdout",
     "output_type": "stream",
     "text": [
      "P3alphaRecommender: Similarity column 38121 (100.0%), 1856.76 column/sec. Elapsed time 20.53 sec\n",
      "EvaluatorHoldout: Ignoring 173 ( 0.5%) Users that have less than 1 test interactions\n",
      "EvaluatorHoldout: Processed 35563 (100.0%) in 31.08 sec. Users per second: 1144\n",
      "P3alphaRecommender: Similarity column 38121 (100.0%), 1845.29 column/sec. Elapsed time 20.66 sec\n",
      "EvaluatorHoldout: Ignoring 163 ( 0.5%) Users that have less than 1 test interactions\n",
      "EvaluatorHoldout: Processed 35573 (100.0%) in 30.98 sec. Users per second: 1148\n",
      "P3alphaRecommender: Similarity column 38121 (100.0%), 1856.13 column/sec. Elapsed time 20.54 sec\n",
      "EvaluatorHoldout: Ignoring 150 ( 0.4%) Users that have less than 1 test interactions\n",
      "EvaluatorHoldout: Processed 35586 (100.0%) in 31.11 sec. Users per second: 1144\n",
      "P3alphaRecommender: Similarity column 38121 (100.0%), 1837.67 column/sec. Elapsed time 20.74 sec\n",
      "EvaluatorHoldout: Ignoring 167 ( 0.5%) Users that have less than 1 test interactions\n",
      "EvaluatorHoldout: Processed 35569 (100.0%) in 30.92 sec. Users per second: 1150\n",
      "P3alphaRecommender: Similarity column 38121 (100.0%), 1854.76 column/sec. Elapsed time 20.55 sec\n",
      "EvaluatorHoldout: Ignoring 172 ( 0.5%) Users that have less than 1 test interactions\n",
      "EvaluatorHoldout: Processed 35564 (100.0%) in 30.90 sec. Users per second: 1151\n"
     ]
    },
    {
     "name": "stderr",
     "output_type": "stream",
     "text": [
      "[I 2025-01-05 12:12:09,862] Trial 118 finished with value: 0.04623849148207724 and parameters: {'topK': 123, 'alpha': 0.602547150467961, 'normalize_similarity': True, 'implicit': False}. Best is trial 10 with value: 0.05370249298547826.\n"
     ]
    },
    {
     "name": "stdout",
     "output_type": "stream",
     "text": [
      "P3alphaRecommender: Similarity column 38121 (100.0%), 2365.58 column/sec. Elapsed time 16.11 sec\n",
      "EvaluatorHoldout: Ignoring 173 ( 0.5%) Users that have less than 1 test interactions\n",
      "EvaluatorHoldout: Processed 35563 (100.0%) in 31.43 sec. Users per second: 1131\n",
      "P3alphaRecommender: Similarity column 38121 (100.0%), 2362.27 column/sec. Elapsed time 16.14 sec\n",
      "EvaluatorHoldout: Ignoring 163 ( 0.5%) Users that have less than 1 test interactions\n",
      "EvaluatorHoldout: Processed 35573 (100.0%) in 31.37 sec. Users per second: 1134\n",
      "P3alphaRecommender: Similarity column 38121 (100.0%), 2387.78 column/sec. Elapsed time 15.97 sec\n",
      "EvaluatorHoldout: Ignoring 150 ( 0.4%) Users that have less than 1 test interactions\n",
      "EvaluatorHoldout: Processed 35586 (100.0%) in 31.51 sec. Users per second: 1129\n",
      "P3alphaRecommender: Similarity column 38121 (100.0%), 2384.47 column/sec. Elapsed time 15.99 sec\n",
      "EvaluatorHoldout: Ignoring 167 ( 0.5%) Users that have less than 1 test interactions\n",
      "EvaluatorHoldout: Processed 35569 (100.0%) in 31.48 sec. Users per second: 1130\n",
      "P3alphaRecommender: Similarity column 38121 (100.0%), 2375.58 column/sec. Elapsed time 16.05 sec\n",
      "EvaluatorHoldout: Ignoring 172 ( 0.5%) Users that have less than 1 test interactions\n",
      "EvaluatorHoldout: Processed 35564 (100.0%) in 31.49 sec. Users per second: 1129\n"
     ]
    },
    {
     "name": "stderr",
     "output_type": "stream",
     "text": [
      "[I 2025-01-05 12:16:14,511] Trial 119 finished with value: 0.047417452844366215 and parameters: {'topK': 23, 'alpha': 1.7286336439736891, 'normalize_similarity': True, 'implicit': False}. Best is trial 10 with value: 0.05370249298547826.\n"
     ]
    },
    {
     "name": "stdout",
     "output_type": "stream",
     "text": [
      "P3alphaRecommender: Similarity column 38121 (100.0%), 3666.00 column/sec. Elapsed time 10.40 sec\n",
      "EvaluatorHoldout: Ignoring 173 ( 0.5%) Users that have less than 1 test interactions\n",
      "EvaluatorHoldout: Processed 35563 (100.0%) in 26.02 sec. Users per second: 1367\n",
      "P3alphaRecommender: Similarity column 38121 (100.0%), 3683.58 column/sec. Elapsed time 10.35 sec\n",
      "EvaluatorHoldout: Ignoring 163 ( 0.5%) Users that have less than 1 test interactions\n",
      "EvaluatorHoldout: Processed 35573 (100.0%) in 26.09 sec. Users per second: 1363\n",
      "P3alphaRecommender: Similarity column 38121 (100.0%), 3664.52 column/sec. Elapsed time 10.40 sec\n",
      "EvaluatorHoldout: Ignoring 150 ( 0.4%) Users that have less than 1 test interactions\n",
      "EvaluatorHoldout: Processed 35586 (100.0%) in 26.21 sec. Users per second: 1358\n",
      "P3alphaRecommender: Similarity column 38121 (100.0%), 3680.31 column/sec. Elapsed time 10.36 sec\n",
      "EvaluatorHoldout: Ignoring 167 ( 0.5%) Users that have less than 1 test interactions\n",
      "EvaluatorHoldout: Processed 35569 (100.0%) in 26.34 sec. Users per second: 1350\n",
      "P3alphaRecommender: Similarity column 38121 (100.0%), 3654.83 column/sec. Elapsed time 10.43 sec\n",
      "EvaluatorHoldout: Ignoring 172 ( 0.5%) Users that have less than 1 test interactions\n",
      "EvaluatorHoldout: Processed 35564 (100.0%) in 25.99 sec. Users per second: 1368\n"
     ]
    },
    {
     "name": "stderr",
     "output_type": "stream",
     "text": [
      "[I 2025-01-05 12:19:20,782] Trial 120 finished with value: 0.02022282504685614 and parameters: {'topK': 1, 'alpha': 0.4851087227011725, 'normalize_similarity': True, 'implicit': False}. Best is trial 10 with value: 0.05370249298547826.\n"
     ]
    },
    {
     "name": "stdout",
     "output_type": "stream",
     "text": [
      "P3alphaRecommender: Similarity column 38121 (100.0%), 2193.68 column/sec. Elapsed time 17.38 sec\n",
      "EvaluatorHoldout: Ignoring 173 ( 0.5%) Users that have less than 1 test interactions\n",
      "EvaluatorHoldout: Processed 35563 (100.0%) in 32.83 sec. Users per second: 1083\n",
      "P3alphaRecommender: Similarity column 38121 (100.0%), 2203.98 column/sec. Elapsed time 17.30 sec\n",
      "EvaluatorHoldout: Ignoring 163 ( 0.5%) Users that have less than 1 test interactions\n",
      "EvaluatorHoldout: Processed 35573 (100.0%) in 32.69 sec. Users per second: 1088\n",
      "P3alphaRecommender: Similarity column 38121 (100.0%), 2215.90 column/sec. Elapsed time 17.20 sec\n",
      "EvaluatorHoldout: Ignoring 150 ( 0.4%) Users that have less than 1 test interactions\n",
      "EvaluatorHoldout: Processed 35586 (100.0%) in 32.66 sec. Users per second: 1090\n",
      "P3alphaRecommender: Similarity column 38121 (100.0%), 2200.72 column/sec. Elapsed time 17.32 sec\n",
      "EvaluatorHoldout: Ignoring 167 ( 0.5%) Users that have less than 1 test interactions\n",
      "EvaluatorHoldout: Processed 35569 (100.0%) in 32.49 sec. Users per second: 1095\n",
      "P3alphaRecommender: Similarity column 38121 (100.0%), 2224.42 column/sec. Elapsed time 17.14 sec\n",
      "EvaluatorHoldout: Ignoring 172 ( 0.5%) Users that have less than 1 test interactions\n",
      "EvaluatorHoldout: Processed 35564 (100.0%) in 32.46 sec. Users per second: 1096\n"
     ]
    },
    {
     "name": "stderr",
     "output_type": "stream",
     "text": [
      "[I 2025-01-05 12:23:41,275] Trial 121 finished with value: 0.05026288773688968 and parameters: {'topK': 53, 'alpha': 0.7069993242156728, 'normalize_similarity': True, 'implicit': False}. Best is trial 10 with value: 0.05370249298547826.\n"
     ]
    },
    {
     "name": "stdout",
     "output_type": "stream",
     "text": [
      "P3alphaRecommender: Similarity column 38121 (100.0%), 2075.20 column/sec. Elapsed time 18.37 sec\n",
      "EvaluatorHoldout: Ignoring 173 ( 0.5%) Users that have less than 1 test interactions\n",
      "EvaluatorHoldout: Processed 35563 (100.0%) in 33.93 sec. Users per second: 1048\n",
      "P3alphaRecommender: Similarity column 38121 (100.0%), 2069.35 column/sec. Elapsed time 18.42 sec\n",
      "EvaluatorHoldout: Ignoring 163 ( 0.5%) Users that have less than 1 test interactions\n",
      "EvaluatorHoldout: Processed 35573 (100.0%) in 33.66 sec. Users per second: 1057\n",
      "P3alphaRecommender: Similarity column 38121 (100.0%), 2045.22 column/sec. Elapsed time 18.64 sec\n",
      "EvaluatorHoldout: Ignoring 150 ( 0.4%) Users that have less than 1 test interactions\n",
      "EvaluatorHoldout: Processed 35586 (100.0%) in 33.86 sec. Users per second: 1051\n",
      "P3alphaRecommender: Similarity column 38121 (100.0%), 2043.10 column/sec. Elapsed time 18.66 sec\n",
      "EvaluatorHoldout: Ignoring 167 ( 0.5%) Users that have less than 1 test interactions\n",
      "EvaluatorHoldout: Processed 35569 (100.0%) in 33.66 sec. Users per second: 1057\n",
      "P3alphaRecommender: Similarity column 38121 (100.0%), 2055.82 column/sec. Elapsed time 18.54 sec\n",
      "EvaluatorHoldout: Ignoring 172 ( 0.5%) Users that have less than 1 test interactions\n",
      "EvaluatorHoldout: Processed 35564 (100.0%) in 33.68 sec. Users per second: 1056\n"
     ]
    },
    {
     "name": "stderr",
     "output_type": "stream",
     "text": [
      "[I 2025-01-05 12:28:17,777] Trial 122 finished with value: 0.048146784203736005 and parameters: {'topK': 78, 'alpha': 0.8142271556988062, 'normalize_similarity': True, 'implicit': False}. Best is trial 10 with value: 0.05370249298547826.\n"
     ]
    },
    {
     "name": "stdout",
     "output_type": "stream",
     "text": [
      "P3alphaRecommender: Similarity column 38121 (100.0%), 489.35 column/sec. Elapsed time 1.30 min\n",
      "EvaluatorHoldout: Ignoring 173 ( 0.5%) Users that have less than 1 test interactions\n",
      "EvaluatorHoldout: Processed 35563 (100.0%) in 57.66 sec. Users per second: 617\n",
      "P3alphaRecommender: Similarity column 38121 (100.0%), 486.89 column/sec. Elapsed time 1.30 min\n",
      "EvaluatorHoldout: Ignoring 163 ( 0.5%) Users that have less than 1 test interactions\n",
      "EvaluatorHoldout: Processed 35573 (100.0%) in 57.16 sec. Users per second: 622\n",
      "P3alphaRecommender: Similarity column 38121 (100.0%), 488.96 column/sec. Elapsed time 1.30 min\n",
      "EvaluatorHoldout: Ignoring 150 ( 0.4%) Users that have less than 1 test interactions\n",
      "EvaluatorHoldout: Processed 35586 (100.0%) in 57.11 sec. Users per second: 623\n",
      "P3alphaRecommender: Similarity column 38121 (100.0%), 492.35 column/sec. Elapsed time 1.29 min\n",
      "EvaluatorHoldout: Ignoring 167 ( 0.5%) Users that have less than 1 test interactions\n",
      "EvaluatorHoldout: Processed 35569 (100.0%) in 57.10 sec. Users per second: 623\n",
      "P3alphaRecommender: Similarity column 38121 (100.0%), 491.75 column/sec. Elapsed time 1.29 min\n",
      "EvaluatorHoldout: Ignoring 172 ( 0.5%) Users that have less than 1 test interactions\n",
      "EvaluatorHoldout: Processed 35564 (100.0%) in 57.03 sec. Users per second: 624\n"
     ]
    },
    {
     "name": "stderr",
     "output_type": "stream",
     "text": [
      "[I 2025-01-05 12:43:54,679] Trial 123 finished with value: 0.033965166850007285 and parameters: {'topK': 1488, 'alpha': 0.644933766546533, 'normalize_similarity': True, 'implicit': False}. Best is trial 10 with value: 0.05370249298547826.\n"
     ]
    },
    {
     "name": "stdout",
     "output_type": "stream",
     "text": [
      "P3alphaRecommender: Similarity column 38121 (100.0%), 2294.89 column/sec. Elapsed time 16.61 sec\n",
      "EvaluatorHoldout: Ignoring 173 ( 0.5%) Users that have less than 1 test interactions\n",
      "EvaluatorHoldout: Processed 35563 (100.0%) in 31.31 sec. Users per second: 1136\n",
      "P3alphaRecommender: Similarity column 38121 (100.0%), 2285.37 column/sec. Elapsed time 16.68 sec\n",
      "EvaluatorHoldout: Ignoring 163 ( 0.5%) Users that have less than 1 test interactions\n",
      "EvaluatorHoldout: Processed 35573 (100.0%) in 31.42 sec. Users per second: 1132\n",
      "P3alphaRecommender: Similarity column 38121 (100.0%), 2281.52 column/sec. Elapsed time 16.71 sec\n",
      "EvaluatorHoldout: Ignoring 150 ( 0.4%) Users that have less than 1 test interactions\n",
      "EvaluatorHoldout: Processed 35586 (100.0%) in 31.35 sec. Users per second: 1135\n",
      "P3alphaRecommender: Similarity column 38121 (100.0%), 2268.15 column/sec. Elapsed time 16.81 sec\n",
      "EvaluatorHoldout: Ignoring 167 ( 0.5%) Users that have less than 1 test interactions\n",
      "EvaluatorHoldout: Processed 35569 (100.0%) in 31.41 sec. Users per second: 1133\n",
      "P3alphaRecommender: Similarity column 38121 (100.0%), 2266.67 column/sec. Elapsed time 16.82 sec\n",
      "EvaluatorHoldout: Ignoring 172 ( 0.5%) Users that have less than 1 test interactions\n",
      "EvaluatorHoldout: Processed 35564 (100.0%) in 31.51 sec. Users per second: 1129\n"
     ]
    },
    {
     "name": "stderr",
     "output_type": "stream",
     "text": [
      "[I 2025-01-05 12:48:03,462] Trial 124 finished with value: 0.051114131635104296 and parameters: {'topK': 37, 'alpha': 0.04504424348085013, 'normalize_similarity': True, 'implicit': False}. Best is trial 10 with value: 0.05370249298547826.\n"
     ]
    },
    {
     "name": "stdout",
     "output_type": "stream",
     "text": [
      "P3alphaRecommender: Similarity column 38121 (100.0%), 786.22 column/sec. Elapsed time 48.49 sec\n",
      "EvaluatorHoldout: Ignoring 173 ( 0.5%) Users that have less than 1 test interactions\n",
      "EvaluatorHoldout: Processed 35563 (100.0%) in 46.44 sec. Users per second: 766\n",
      "P3alphaRecommender: Similarity column 38121 (100.0%), 773.62 column/sec. Elapsed time 49.28 sec\n",
      "EvaluatorHoldout: Ignoring 163 ( 0.5%) Users that have less than 1 test interactions\n",
      "EvaluatorHoldout: Processed 35573 (100.0%) in 46.54 sec. Users per second: 764\n",
      "P3alphaRecommender: Similarity column 38121 (100.0%), 782.42 column/sec. Elapsed time 48.72 sec\n",
      "EvaluatorHoldout: Ignoring 150 ( 0.4%) Users that have less than 1 test interactions\n",
      "EvaluatorHoldout: Processed 35586 (100.0%) in 46.52 sec. Users per second: 765\n",
      "P3alphaRecommender: Similarity column 38121 (100.0%), 785.51 column/sec. Elapsed time 48.53 sec\n",
      "EvaluatorHoldout: Ignoring 167 ( 0.5%) Users that have less than 1 test interactions\n",
      "EvaluatorHoldout: Processed 35569 (100.0%) in 46.50 sec. Users per second: 765\n",
      "P3alphaRecommender: Similarity column 38121 (100.0%), 792.54 column/sec. Elapsed time 48.10 sec\n",
      "EvaluatorHoldout: Ignoring 172 ( 0.5%) Users that have less than 1 test interactions\n",
      "EvaluatorHoldout: Processed 35564 (100.0%) in 46.41 sec. Users per second: 766\n"
     ]
    },
    {
     "name": "stderr",
     "output_type": "stream",
     "text": [
      "[I 2025-01-05 12:58:08,258] Trial 125 finished with value: 0.036454444441654986 and parameters: {'topK': 693, 'alpha': 0.5642599143266227, 'normalize_similarity': True, 'implicit': False}. Best is trial 10 with value: 0.05370249298547826.\n"
     ]
    },
    {
     "name": "stdout",
     "output_type": "stream",
     "text": [
      "P3alphaRecommender: Similarity column 38121 (100.0%), 2403.07 column/sec. Elapsed time 15.86 sec\n",
      "EvaluatorHoldout: Ignoring 173 ( 0.5%) Users that have less than 1 test interactions\n",
      "EvaluatorHoldout: Processed 35563 (100.0%) in 30.68 sec. Users per second: 1159\n",
      "P3alphaRecommender: Similarity column 38121 (100.0%), 2400.10 column/sec. Elapsed time 15.88 sec\n",
      "EvaluatorHoldout: Ignoring 163 ( 0.5%) Users that have less than 1 test interactions\n",
      "EvaluatorHoldout: Processed 35573 (100.0%) in 30.84 sec. Users per second: 1154\n",
      "P3alphaRecommender: Similarity column 38121 (100.0%), 2393.75 column/sec. Elapsed time 15.93 sec\n",
      "EvaluatorHoldout: Ignoring 150 ( 0.4%) Users that have less than 1 test interactions\n",
      "EvaluatorHoldout: Processed 35586 (100.0%) in 30.81 sec. Users per second: 1155\n",
      "P3alphaRecommender: Similarity column 38121 (100.0%), 2408.39 column/sec. Elapsed time 15.83 sec\n",
      "EvaluatorHoldout: Ignoring 167 ( 0.5%) Users that have less than 1 test interactions\n",
      "EvaluatorHoldout: Processed 35569 (100.0%) in 30.76 sec. Users per second: 1156\n",
      "P3alphaRecommender: Similarity column 38121 (100.0%), 2390.77 column/sec. Elapsed time 15.95 sec\n",
      "EvaluatorHoldout: Ignoring 172 ( 0.5%) Users that have less than 1 test interactions\n",
      "EvaluatorHoldout: Processed 35564 (100.0%) in 30.71 sec. Users per second: 1158\n"
     ]
    },
    {
     "name": "stderr",
     "output_type": "stream",
     "text": [
      "[I 2025-01-05 13:02:07,776] Trial 126 finished with value: 0.05341465722787142 and parameters: {'topK': 22, 'alpha': 0.5220220431518023, 'normalize_similarity': True, 'implicit': False}. Best is trial 10 with value: 0.05370249298547826.\n"
     ]
    },
    {
     "name": "stdout",
     "output_type": "stream",
     "text": [
      "P3alphaRecommender: Similarity column 38121 (100.0%), 695.89 column/sec. Elapsed time 54.78 sec\n",
      "EvaluatorHoldout: Ignoring 173 ( 0.5%) Users that have less than 1 test interactions\n",
      "EvaluatorHoldout: Processed 35563 (100.0%) in 48.97 sec. Users per second: 726\n",
      "P3alphaRecommender: Similarity column 38121 (100.0%), 689.17 column/sec. Elapsed time 55.31 sec\n",
      "EvaluatorHoldout: Ignoring 163 ( 0.5%) Users that have less than 1 test interactions\n",
      "EvaluatorHoldout: Processed 35573 (100.0%) in 48.75 sec. Users per second: 730\n",
      "P3alphaRecommender: Similarity column 38121 (100.0%), 688.39 column/sec. Elapsed time 55.38 sec\n",
      "EvaluatorHoldout: Ignoring 150 ( 0.4%) Users that have less than 1 test interactions\n",
      "EvaluatorHoldout: Processed 35586 (100.0%) in 48.98 sec. Users per second: 727\n",
      "P3alphaRecommender: Similarity column 38121 (100.0%), 683.51 column/sec. Elapsed time 55.77 sec\n",
      "EvaluatorHoldout: Ignoring 167 ( 0.5%) Users that have less than 1 test interactions\n",
      "EvaluatorHoldout: Processed 35569 (100.0%) in 48.74 sec. Users per second: 730\n",
      "P3alphaRecommender: Similarity column 38121 (100.0%), 698.25 column/sec. Elapsed time 54.59 sec\n",
      "EvaluatorHoldout: Ignoring 172 ( 0.5%) Users that have less than 1 test interactions\n",
      "EvaluatorHoldout: Processed 35564 (100.0%) in 48.96 sec. Users per second: 726\n"
     ]
    },
    {
     "name": "stderr",
     "output_type": "stream",
     "text": [
      "[I 2025-01-05 13:13:25,188] Trial 127 finished with value: 0.03552890563535609 and parameters: {'topK': 839, 'alpha': 0.5293533995293002, 'normalize_similarity': True, 'implicit': False}. Best is trial 10 with value: 0.05370249298547826.\n"
     ]
    },
    {
     "name": "stdout",
     "output_type": "stream",
     "text": [
      "P3alphaRecommender: Similarity column 38121 (100.0%), 2035.85 column/sec. Elapsed time 18.72 sec\n",
      "EvaluatorHoldout: Ignoring 173 ( 0.5%) Users that have less than 1 test interactions\n",
      "EvaluatorHoldout: Processed 35563 (100.0%) in 34.18 sec. Users per second: 1041\n",
      "P3alphaRecommender: Similarity column 38121 (100.0%), 2050.49 column/sec. Elapsed time 18.59 sec\n",
      "EvaluatorHoldout: Ignoring 163 ( 0.5%) Users that have less than 1 test interactions\n",
      "EvaluatorHoldout: Processed 35573 (100.0%) in 34.25 sec. Users per second: 1039\n",
      "P3alphaRecommender: Similarity column 38121 (100.0%), 2039.16 column/sec. Elapsed time 18.69 sec\n",
      "EvaluatorHoldout: Ignoring 150 ( 0.4%) Users that have less than 1 test interactions\n",
      "EvaluatorHoldout: Processed 35586 (100.0%) in 34.13 sec. Users per second: 1043\n",
      "P3alphaRecommender: Similarity column 38121 (100.0%), 1994.57 column/sec. Elapsed time 19.11 sec\n",
      "EvaluatorHoldout: Ignoring 167 ( 0.5%) Users that have less than 1 test interactions\n",
      "EvaluatorHoldout: Processed 35569 (100.0%) in 33.96 sec. Users per second: 1047\n",
      "P3alphaRecommender: Similarity column 38121 (100.0%), 2006.41 column/sec. Elapsed time 19.00 sec\n",
      "EvaluatorHoldout: Ignoring 172 ( 0.5%) Users that have less than 1 test interactions\n",
      "EvaluatorHoldout: Processed 35564 (100.0%) in 33.89 sec. Users per second: 1050\n"
     ]
    },
    {
     "name": "stderr",
     "output_type": "stream",
     "text": [
      "[I 2025-01-05 13:18:04,502] Trial 128 finished with value: 0.03666385268601502 and parameters: {'topK': 83, 'alpha': 0.30698068395560196, 'normalize_similarity': False, 'implicit': False}. Best is trial 10 with value: 0.05370249298547826.\n"
     ]
    },
    {
     "name": "stdout",
     "output_type": "stream",
     "text": [
      "P3alphaRecommender: Similarity column 38121 (100.0%), 1857.88 column/sec. Elapsed time 20.52 sec\n",
      "EvaluatorHoldout: Ignoring 173 ( 0.5%) Users that have less than 1 test interactions\n",
      "EvaluatorHoldout: Processed 35563 (100.0%) in 35.17 sec. Users per second: 1011\n",
      "P3alphaRecommender: Similarity column 38121 (100.0%), 1850.83 column/sec. Elapsed time 20.60 sec\n",
      "EvaluatorHoldout: Ignoring 163 ( 0.5%) Users that have less than 1 test interactions\n",
      "EvaluatorHoldout: Processed 35573 (100.0%) in 31.12 sec. Users per second: 1143\n",
      "P3alphaRecommender: Similarity column 38121 (100.0%), 1846.42 column/sec. Elapsed time 20.65 sec\n",
      "EvaluatorHoldout: Ignoring 150 ( 0.4%) Users that have less than 1 test interactions\n",
      "EvaluatorHoldout: Processed 35586 (100.0%) in 30.88 sec. Users per second: 1152\n",
      "P3alphaRecommender: Similarity column 38121 (100.0%), 1852.03 column/sec. Elapsed time 20.58 sec\n",
      "EvaluatorHoldout: Ignoring 167 ( 0.5%) Users that have less than 1 test interactions\n",
      "EvaluatorHoldout: Processed 35569 (100.0%) in 30.87 sec. Users per second: 1152\n",
      "P3alphaRecommender: Similarity column 38121 (100.0%), 1870.87 column/sec. Elapsed time 20.38 sec\n",
      "EvaluatorHoldout: Ignoring 172 ( 0.5%) Users that have less than 1 test interactions\n",
      "EvaluatorHoldout: Processed 35564 (100.0%) in 30.84 sec. Users per second: 1153\n"
     ]
    },
    {
     "name": "stderr",
     "output_type": "stream",
     "text": [
      "[I 2025-01-05 13:22:46,687] Trial 129 finished with value: 0.04671620191668675 and parameters: {'topK': 117, 'alpha': 0.49877319348182425, 'normalize_similarity': True, 'implicit': False}. Best is trial 10 with value: 0.05370249298547826.\n"
     ]
    },
    {
     "name": "stdout",
     "output_type": "stream",
     "text": [
      "P3alphaRecommender: Similarity column 38121 (100.0%), 2346.59 column/sec. Elapsed time 16.25 sec\n",
      "EvaluatorHoldout: Ignoring 173 ( 0.5%) Users that have less than 1 test interactions\n",
      "EvaluatorHoldout: Processed 35563 (100.0%) in 30.62 sec. Users per second: 1161\n",
      "P3alphaRecommender: Similarity column 38121 (100.0%), 2374.62 column/sec. Elapsed time 16.05 sec\n",
      "EvaluatorHoldout: Ignoring 163 ( 0.5%) Users that have less than 1 test interactions\n",
      "EvaluatorHoldout: Processed 35573 (100.0%) in 30.72 sec. Users per second: 1158\n",
      "P3alphaRecommender: Similarity column 38121 (100.0%), 2350.77 column/sec. Elapsed time 16.22 sec\n",
      "EvaluatorHoldout: Ignoring 150 ( 0.4%) Users that have less than 1 test interactions\n",
      "EvaluatorHoldout: Processed 35586 (100.0%) in 30.87 sec. Users per second: 1153\n",
      "P3alphaRecommender: Similarity column 38121 (100.0%), 2346.52 column/sec. Elapsed time 16.25 sec\n",
      "EvaluatorHoldout: Ignoring 167 ( 0.5%) Users that have less than 1 test interactions\n",
      "EvaluatorHoldout: Processed 35569 (100.0%) in 30.57 sec. Users per second: 1164\n",
      "P3alphaRecommender: Similarity column 38121 (100.0%), 2364.59 column/sec. Elapsed time 16.12 sec\n",
      "EvaluatorHoldout: Ignoring 172 ( 0.5%) Users that have less than 1 test interactions\n",
      "EvaluatorHoldout: Processed 35564 (100.0%) in 30.63 sec. Users per second: 1161\n"
     ]
    },
    {
     "name": "stderr",
     "output_type": "stream",
     "text": [
      "[I 2025-01-05 13:26:47,231] Trial 130 finished with value: 0.053604758640113416 and parameters: {'topK': 21, 'alpha': 0.40311038526825405, 'normalize_similarity': True, 'implicit': False}. Best is trial 10 with value: 0.05370249298547826.\n"
     ]
    },
    {
     "name": "stdout",
     "output_type": "stream",
     "text": [
      "P3alphaRecommender: Similarity column 38121 (100.0%), 2582.33 column/sec. Elapsed time 14.76 sec\n",
      "EvaluatorHoldout: Ignoring 173 ( 0.5%) Users that have less than 1 test interactions\n",
      "EvaluatorHoldout: Processed 35563 (100.0%) in 27.01 sec. Users per second: 1316\n",
      "P3alphaRecommender: Similarity column 38121 (100.0%), 2577.13 column/sec. Elapsed time 14.79 sec\n",
      "EvaluatorHoldout: Ignoring 163 ( 0.5%) Users that have less than 1 test interactions\n",
      "EvaluatorHoldout: Processed 35573 (100.0%) in 27.27 sec. Users per second: 1305\n",
      "P3alphaRecommender: Similarity column 38121 (100.0%), 2578.54 column/sec. Elapsed time 14.78 sec\n",
      "EvaluatorHoldout: Ignoring 150 ( 0.4%) Users that have less than 1 test interactions\n",
      "EvaluatorHoldout: Processed 35586 (100.0%) in 27.13 sec. Users per second: 1312\n",
      "P3alphaRecommender: Similarity column 38121 (100.0%), 2594.40 column/sec. Elapsed time 14.69 sec\n",
      "EvaluatorHoldout: Ignoring 167 ( 0.5%) Users that have less than 1 test interactions\n",
      "EvaluatorHoldout: Processed 35569 (100.0%) in 27.26 sec. Users per second: 1305\n",
      "P3alphaRecommender: Similarity column 38121 (100.0%), 2569.84 column/sec. Elapsed time 14.83 sec\n",
      "EvaluatorHoldout: Ignoring 172 ( 0.5%) Users that have less than 1 test interactions\n",
      "EvaluatorHoldout: Processed 35564 (100.0%) in 27.09 sec. Users per second: 1313\n"
     ]
    },
    {
     "name": "stderr",
     "output_type": "stream",
     "text": [
      "[I 2025-01-05 13:30:20,623] Trial 131 finished with value: 0.037257922932716854 and parameters: {'topK': 2, 'alpha': 0.4083906234953192, 'normalize_similarity': True, 'implicit': False}. Best is trial 10 with value: 0.05370249298547826.\n"
     ]
    },
    {
     "name": "stdout",
     "output_type": "stream",
     "text": [
      "P3alphaRecommender: Similarity column 38121 (100.0%), 2237.02 column/sec. Elapsed time 17.04 sec\n",
      "EvaluatorHoldout: Ignoring 173 ( 0.5%) Users that have less than 1 test interactions\n",
      "EvaluatorHoldout: Processed 35563 (100.0%) in 32.26 sec. Users per second: 1102\n",
      "P3alphaRecommender: Similarity column 38121 (100.0%), 2203.14 column/sec. Elapsed time 17.30 sec\n",
      "EvaluatorHoldout: Ignoring 163 ( 0.5%) Users that have less than 1 test interactions\n",
      "EvaluatorHoldout: Processed 35573 (100.0%) in 32.27 sec. Users per second: 1102\n",
      "P3alphaRecommender: Similarity column 38121 (100.0%), 2205.32 column/sec. Elapsed time 17.29 sec\n",
      "EvaluatorHoldout: Ignoring 150 ( 0.4%) Users that have less than 1 test interactions\n",
      "EvaluatorHoldout: Processed 35586 (100.0%) in 32.40 sec. Users per second: 1098\n",
      "P3alphaRecommender: Similarity column 38121 (100.0%), 2206.68 column/sec. Elapsed time 17.28 sec\n",
      "EvaluatorHoldout: Ignoring 167 ( 0.5%) Users that have less than 1 test interactions\n",
      "EvaluatorHoldout: Processed 35569 (100.0%) in 32.34 sec. Users per second: 1100\n",
      "P3alphaRecommender: Similarity column 38121 (100.0%), 2199.16 column/sec. Elapsed time 17.33 sec\n",
      "EvaluatorHoldout: Ignoring 172 ( 0.5%) Users that have less than 1 test interactions\n",
      "EvaluatorHoldout: Processed 35564 (100.0%) in 32.32 sec. Users per second: 1101\n"
     ]
    },
    {
     "name": "stderr",
     "output_type": "stream",
     "text": [
      "[I 2025-01-05 13:34:38,123] Trial 132 finished with value: 0.05125645218515289 and parameters: {'topK': 46, 'alpha': 0.4700130398125544, 'normalize_similarity': True, 'implicit': False}. Best is trial 10 with value: 0.05370249298547826.\n"
     ]
    },
    {
     "name": "stdout",
     "output_type": "stream",
     "text": [
      "P3alphaRecommender: Similarity column 38121 (100.0%), 2046.09 column/sec. Elapsed time 18.63 sec\n",
      "EvaluatorHoldout: Ignoring 173 ( 0.5%) Users that have less than 1 test interactions\n",
      "EvaluatorHoldout: Processed 35563 (100.0%) in 33.82 sec. Users per second: 1052\n",
      "P3alphaRecommender: Similarity column 38121 (100.0%), 2065.89 column/sec. Elapsed time 18.45 sec\n",
      "EvaluatorHoldout: Ignoring 163 ( 0.5%) Users that have less than 1 test interactions\n",
      "EvaluatorHoldout: Processed 35573 (100.0%) in 33.63 sec. Users per second: 1058\n",
      "P3alphaRecommender: Similarity column 38121 (100.0%), 2040.31 column/sec. Elapsed time 18.68 sec\n",
      "EvaluatorHoldout: Ignoring 150 ( 0.4%) Users that have less than 1 test interactions\n",
      "EvaluatorHoldout: Processed 35586 (100.0%) in 33.63 sec. Users per second: 1058\n",
      "P3alphaRecommender: Similarity column 38121 (100.0%), 2046.32 column/sec. Elapsed time 18.63 sec\n",
      "EvaluatorHoldout: Ignoring 167 ( 0.5%) Users that have less than 1 test interactions\n",
      "EvaluatorHoldout: Processed 35569 (100.0%) in 33.47 sec. Users per second: 1063\n",
      "P3alphaRecommender: Similarity column 38121 (100.0%), 2044.05 column/sec. Elapsed time 18.65 sec\n",
      "EvaluatorHoldout: Ignoring 172 ( 0.5%) Users that have less than 1 test interactions\n",
      "EvaluatorHoldout: Processed 35564 (100.0%) in 33.67 sec. Users per second: 1056\n"
     ]
    },
    {
     "name": "stderr",
     "output_type": "stream",
     "text": [
      "[I 2025-01-05 13:39:13,586] Trial 133 finished with value: 0.04907912984206813 and parameters: {'topK': 74, 'alpha': 0.5764571058788258, 'normalize_similarity': True, 'implicit': False}. Best is trial 10 with value: 0.05370249298547826.\n"
     ]
    },
    {
     "name": "stdout",
     "output_type": "stream",
     "text": [
      "P3alphaRecommender: Similarity column 38121 (100.0%), 2275.92 column/sec. Elapsed time 16.75 sec\n",
      "EvaluatorHoldout: Ignoring 173 ( 0.5%) Users that have less than 1 test interactions\n",
      "EvaluatorHoldout: Processed 35563 (100.0%) in 31.67 sec. Users per second: 1123\n",
      "P3alphaRecommender: Similarity column 38121 (100.0%), 2275.27 column/sec. Elapsed time 16.75 sec\n",
      "EvaluatorHoldout: Ignoring 163 ( 0.5%) Users that have less than 1 test interactions\n",
      "EvaluatorHoldout: Processed 35573 (100.0%) in 31.69 sec. Users per second: 1123\n",
      "P3alphaRecommender: Similarity column 38121 (100.0%), 2288.99 column/sec. Elapsed time 16.65 sec\n",
      "EvaluatorHoldout: Ignoring 150 ( 0.4%) Users that have less than 1 test interactions\n",
      "EvaluatorHoldout: Processed 35586 (100.0%) in 31.62 sec. Users per second: 1125\n",
      "P3alphaRecommender: Similarity column 38121 (100.0%), 2273.46 column/sec. Elapsed time 16.77 sec\n",
      "EvaluatorHoldout: Ignoring 167 ( 0.5%) Users that have less than 1 test interactions\n",
      "EvaluatorHoldout: Processed 35569 (100.0%) in 31.71 sec. Users per second: 1122\n",
      "P3alphaRecommender: Similarity column 38121 (100.0%), 2269.54 column/sec. Elapsed time 16.80 sec\n",
      "EvaluatorHoldout: Ignoring 172 ( 0.5%) Users that have less than 1 test interactions\n",
      "EvaluatorHoldout: Processed 35564 (100.0%) in 31.73 sec. Users per second: 1121\n"
     ]
    },
    {
     "name": "stderr",
     "output_type": "stream",
     "text": [
      "[I 2025-01-05 13:43:23,874] Trial 134 finished with value: 0.052227000936113085 and parameters: {'topK': 35, 'alpha': 0.4332367982573321, 'normalize_similarity': True, 'implicit': False}. Best is trial 10 with value: 0.05370249298547826.\n"
     ]
    },
    {
     "name": "stdout",
     "output_type": "stream",
     "text": [
      "P3alphaRecommender: Similarity column 38121 (100.0%), 2330.07 column/sec. Elapsed time 16.36 sec\n",
      "EvaluatorHoldout: Ignoring 173 ( 0.5%) Users that have less than 1 test interactions\n",
      "EvaluatorHoldout: Processed 35563 (100.0%) in 31.01 sec. Users per second: 1147\n",
      "P3alphaRecommender: Similarity column 38121 (100.0%), 2355.15 column/sec. Elapsed time 16.19 sec\n",
      "EvaluatorHoldout: Ignoring 163 ( 0.5%) Users that have less than 1 test interactions\n",
      "EvaluatorHoldout: Processed 35573 (100.0%) in 30.91 sec. Users per second: 1151\n",
      "P3alphaRecommender: Similarity column 38121 (100.0%), 2342.67 column/sec. Elapsed time 16.27 sec\n",
      "EvaluatorHoldout: Ignoring 150 ( 0.4%) Users that have less than 1 test interactions\n",
      "EvaluatorHoldout: Processed 35586 (100.0%) in 30.90 sec. Users per second: 1152\n",
      "P3alphaRecommender: Similarity column 38121 (100.0%), 2360.59 column/sec. Elapsed time 16.15 sec\n",
      "EvaluatorHoldout: Ignoring 167 ( 0.5%) Users that have less than 1 test interactions\n",
      "EvaluatorHoldout: Processed 35569 (100.0%) in 30.79 sec. Users per second: 1155\n",
      "P3alphaRecommender: Similarity column 38121 (100.0%), 2365.44 column/sec. Elapsed time 16.12 sec\n",
      "EvaluatorHoldout: Ignoring 172 ( 0.5%) Users that have less than 1 test interactions\n",
      "EvaluatorHoldout: Processed 35564 (100.0%) in 30.85 sec. Users per second: 1153\n"
     ]
    },
    {
     "name": "stderr",
     "output_type": "stream",
     "text": [
      "[I 2025-01-05 13:47:25,776] Trial 135 finished with value: 0.05341870658574962 and parameters: {'topK': 23, 'alpha': 0.37960263756498636, 'normalize_similarity': True, 'implicit': False}. Best is trial 10 with value: 0.05370249298547826.\n"
     ]
    },
    {
     "name": "stdout",
     "output_type": "stream",
     "text": [
      "P3alphaRecommender: Similarity column 38121 (100.0%), 1958.49 column/sec. Elapsed time 19.46 sec\n",
      "EvaluatorHoldout: Ignoring 173 ( 0.5%) Users that have less than 1 test interactions\n",
      "EvaluatorHoldout: Processed 35563 (100.0%) in 34.47 sec. Users per second: 1032\n",
      "P3alphaRecommender: Similarity column 38121 (100.0%), 1952.42 column/sec. Elapsed time 19.52 sec\n",
      "EvaluatorHoldout: Ignoring 163 ( 0.5%) Users that have less than 1 test interactions\n",
      "EvaluatorHoldout: Processed 35573 (100.0%) in 34.38 sec. Users per second: 1035\n",
      "P3alphaRecommender: Similarity column 38121 (100.0%), 1931.27 column/sec. Elapsed time 19.74 sec\n",
      "EvaluatorHoldout: Ignoring 150 ( 0.4%) Users that have less than 1 test interactions\n",
      "EvaluatorHoldout: Processed 35586 (100.0%) in 30.25 sec. Users per second: 1177\n",
      "P3alphaRecommender: Similarity column 38121 (100.0%), 1933.97 column/sec. Elapsed time 19.71 sec\n",
      "EvaluatorHoldout: Ignoring 167 ( 0.5%) Users that have less than 1 test interactions\n",
      "EvaluatorHoldout: Processed 35569 (100.0%) in 30.16 sec. Users per second: 1179\n",
      "P3alphaRecommender: Similarity column 38121 (100.0%), 1951.39 column/sec. Elapsed time 19.54 sec\n",
      "EvaluatorHoldout: Ignoring 172 ( 0.5%) Users that have less than 1 test interactions\n",
      "EvaluatorHoldout: Processed 35564 (100.0%) in 30.10 sec. Users per second: 1181\n"
     ]
    },
    {
     "name": "stderr",
     "output_type": "stream",
     "text": [
      "[I 2025-01-05 13:52:00,288] Trial 136 finished with value: 0.04766486170283768 and parameters: {'topK': 99, 'alpha': 0.3726199860245315, 'normalize_similarity': True, 'implicit': False}. Best is trial 10 with value: 0.05370249298547826.\n"
     ]
    },
    {
     "name": "stdout",
     "output_type": "stream",
     "text": [
      "P3alphaRecommender: Similarity column 38121 (100.0%), 584.48 column/sec. Elapsed time 1.09 min\n",
      "EvaluatorHoldout: Ignoring 173 ( 0.5%) Users that have less than 1 test interactions\n",
      "EvaluatorHoldout: Processed 35563 (100.0%) in 51.96 sec. Users per second: 684\n",
      "P3alphaRecommender: Similarity column 38121 (100.0%), 577.53 column/sec. Elapsed time 1.10 min\n",
      "EvaluatorHoldout: Ignoring 163 ( 0.5%) Users that have less than 1 test interactions\n",
      "EvaluatorHoldout: Processed 35573 (100.0%) in 51.81 sec. Users per second: 687\n",
      "P3alphaRecommender: Similarity column 38121 (100.0%), 579.33 column/sec. Elapsed time 1.10 min\n",
      "EvaluatorHoldout: Ignoring 150 ( 0.4%) Users that have less than 1 test interactions\n",
      "EvaluatorHoldout: Processed 35586 (100.0%) in 51.89 sec. Users per second: 686\n",
      "P3alphaRecommender: Similarity column 38121 (100.0%), 578.90 column/sec. Elapsed time 1.10 min\n",
      "EvaluatorHoldout: Ignoring 167 ( 0.5%) Users that have less than 1 test interactions\n",
      "EvaluatorHoldout: Processed 35569 (100.0%) in 51.79 sec. Users per second: 687\n",
      "P3alphaRecommender: Similarity column 38121 (100.0%), 589.30 column/sec. Elapsed time 1.08 min\n",
      "EvaluatorHoldout: Ignoring 172 ( 0.5%) Users that have less than 1 test interactions\n",
      "EvaluatorHoldout: Processed 35564 (100.0%) in 51.87 sec. Users per second: 686\n"
     ]
    },
    {
     "name": "stderr",
     "output_type": "stream",
     "text": [
      "[I 2025-01-05 14:05:05,410] Trial 137 finished with value: 0.03341205827496927 and parameters: {'topK': 1100, 'alpha': 0.28642614087400553, 'normalize_similarity': True, 'implicit': False}. Best is trial 10 with value: 0.05370249298547826.\n"
     ]
    },
    {
     "name": "stdout",
     "output_type": "stream",
     "text": [
      "P3alphaRecommender: Similarity column 38121 (100.0%), 2169.36 column/sec. Elapsed time 17.57 sec\n",
      "EvaluatorHoldout: Ignoring 173 ( 0.5%) Users that have less than 1 test interactions\n",
      "EvaluatorHoldout: Processed 35563 (100.0%) in 33.02 sec. Users per second: 1077\n",
      "P3alphaRecommender: Similarity column 38121 (100.0%), 2160.32 column/sec. Elapsed time 17.65 sec\n",
      "EvaluatorHoldout: Ignoring 163 ( 0.5%) Users that have less than 1 test interactions\n",
      "EvaluatorHoldout: Processed 35573 (100.0%) in 33.08 sec. Users per second: 1075\n",
      "P3alphaRecommender: Similarity column 38121 (100.0%), 2157.14 column/sec. Elapsed time 17.67 sec\n",
      "EvaluatorHoldout: Ignoring 150 ( 0.4%) Users that have less than 1 test interactions\n",
      "EvaluatorHoldout: Processed 35586 (100.0%) in 33.13 sec. Users per second: 1074\n",
      "P3alphaRecommender: Similarity column 38121 (100.0%), 2133.32 column/sec. Elapsed time 17.87 sec\n",
      "EvaluatorHoldout: Ignoring 167 ( 0.5%) Users that have less than 1 test interactions\n",
      "EvaluatorHoldout: Processed 35569 (100.0%) in 33.20 sec. Users per second: 1071\n",
      "P3alphaRecommender: Similarity column 38121 (100.0%), 2146.83 column/sec. Elapsed time 17.76 sec\n",
      "EvaluatorHoldout: Ignoring 172 ( 0.5%) Users that have less than 1 test interactions\n",
      "EvaluatorHoldout: Processed 35564 (100.0%) in 32.99 sec. Users per second: 1078\n"
     ]
    },
    {
     "name": "stderr",
     "output_type": "stream",
     "text": [
      "[I 2025-01-05 14:09:31,237] Trial 138 finished with value: 0.050080152181557966 and parameters: {'topK': 61, 'alpha': 0.5372572418525191, 'normalize_similarity': True, 'implicit': False}. Best is trial 10 with value: 0.05370249298547826.\n"
     ]
    },
    {
     "name": "stdout",
     "output_type": "stream",
     "text": [
      "P3alphaRecommender: Similarity column 38121 (100.0%), 2372.86 column/sec. Elapsed time 16.07 sec\n",
      "EvaluatorHoldout: Ignoring 173 ( 0.5%) Users that have less than 1 test interactions\n",
      "EvaluatorHoldout: Processed 35563 (100.0%) in 30.66 sec. Users per second: 1160\n",
      "P3alphaRecommender: Similarity column 38121 (100.0%), 2388.94 column/sec. Elapsed time 15.96 sec\n",
      "EvaluatorHoldout: Ignoring 163 ( 0.5%) Users that have less than 1 test interactions\n",
      "EvaluatorHoldout: Processed 35573 (100.0%) in 30.66 sec. Users per second: 1160\n",
      "P3alphaRecommender: Similarity column 38121 (100.0%), 2397.52 column/sec. Elapsed time 15.90 sec\n",
      "EvaluatorHoldout: Ignoring 150 ( 0.4%) Users that have less than 1 test interactions\n",
      "EvaluatorHoldout: Processed 35586 (100.0%) in 30.76 sec. Users per second: 1157\n",
      "P3alphaRecommender: Similarity column 38121 (100.0%), 2406.67 column/sec. Elapsed time 15.84 sec\n",
      "EvaluatorHoldout: Ignoring 167 ( 0.5%) Users that have less than 1 test interactions\n",
      "EvaluatorHoldout: Processed 35569 (100.0%) in 30.76 sec. Users per second: 1156\n",
      "P3alphaRecommender: Similarity column 38121 (100.0%), 2398.58 column/sec. Elapsed time 15.89 sec\n",
      "EvaluatorHoldout: Ignoring 172 ( 0.5%) Users that have less than 1 test interactions\n",
      "EvaluatorHoldout: Processed 35564 (100.0%) in 30.71 sec. Users per second: 1158\n"
     ]
    },
    {
     "name": "stderr",
     "output_type": "stream",
     "text": [
      "[I 2025-01-05 14:13:30,706] Trial 139 finished with value: 0.05328353864373002 and parameters: {'topK': 23, 'alpha': 0.2414509904925934, 'normalize_similarity': True, 'implicit': False}. Best is trial 10 with value: 0.05370249298547826.\n"
     ]
    },
    {
     "name": "stdout",
     "output_type": "stream",
     "text": [
      "P3alphaRecommender: Similarity column 38121 (100.0%), 3497.92 column/sec. Elapsed time 10.90 sec\n",
      "EvaluatorHoldout: Ignoring 173 ( 0.5%) Users that have less than 1 test interactions\n",
      "EvaluatorHoldout: Processed 35563 (100.0%) in 24.49 sec. Users per second: 1452\n",
      "P3alphaRecommender: Similarity column 38121 (100.0%), 3500.65 column/sec. Elapsed time 10.89 sec\n",
      "EvaluatorHoldout: Ignoring 163 ( 0.5%) Users that have less than 1 test interactions\n",
      "EvaluatorHoldout: Processed 35573 (100.0%) in 24.40 sec. Users per second: 1458\n",
      "P3alphaRecommender: Similarity column 38121 (100.0%), 3495.76 column/sec. Elapsed time 10.90 sec\n",
      "EvaluatorHoldout: Ignoring 150 ( 0.4%) Users that have less than 1 test interactions\n",
      "EvaluatorHoldout: Processed 35586 (100.0%) in 24.65 sec. Users per second: 1443\n",
      "P3alphaRecommender: Similarity column 38121 (100.0%), 3505.68 column/sec. Elapsed time 10.87 sec\n",
      "EvaluatorHoldout: Ignoring 167 ( 0.5%) Users that have less than 1 test interactions\n",
      "EvaluatorHoldout: Processed 35569 (100.0%) in 24.50 sec. Users per second: 1452\n",
      "P3alphaRecommender: Similarity column 38121 (100.0%), 3493.99 column/sec. Elapsed time 10.91 sec\n",
      "EvaluatorHoldout: Ignoring 172 ( 0.5%) Users that have less than 1 test interactions\n",
      "EvaluatorHoldout: Processed 35564 (100.0%) in 24.48 sec. Users per second: 1453\n"
     ]
    },
    {
     "name": "stderr",
     "output_type": "stream",
     "text": [
      "[I 2025-01-05 14:16:28,646] Trial 140 finished with value: 0.0002664826418719655 and parameters: {'topK': 0, 'alpha': 0.13051411228117996, 'normalize_similarity': True, 'implicit': False}. Best is trial 10 with value: 0.05370249298547826.\n"
     ]
    },
    {
     "name": "stdout",
     "output_type": "stream",
     "text": [
      "P3alphaRecommender: Similarity column 38121 (100.0%), 2397.84 column/sec. Elapsed time 15.90 sec\n",
      "EvaluatorHoldout: Ignoring 173 ( 0.5%) Users that have less than 1 test interactions\n",
      "EvaluatorHoldout: Processed 35563 (100.0%) in 30.45 sec. Users per second: 1168\n",
      "P3alphaRecommender: Similarity column 38121 (100.0%), 2411.79 column/sec. Elapsed time 15.81 sec\n",
      "EvaluatorHoldout: Ignoring 163 ( 0.5%) Users that have less than 1 test interactions\n",
      "EvaluatorHoldout: Processed 35573 (100.0%) in 30.42 sec. Users per second: 1169\n",
      "P3alphaRecommender: Similarity column 38121 (100.0%), 2419.49 column/sec. Elapsed time 15.76 sec\n",
      "EvaluatorHoldout: Ignoring 150 ( 0.4%) Users that have less than 1 test interactions\n",
      "EvaluatorHoldout: Processed 35586 (100.0%) in 30.43 sec. Users per second: 1169\n",
      "P3alphaRecommender: Similarity column 38121 (100.0%), 2414.70 column/sec. Elapsed time 15.79 sec\n",
      "EvaluatorHoldout: Ignoring 167 ( 0.5%) Users that have less than 1 test interactions\n",
      "EvaluatorHoldout: Processed 35569 (100.0%) in 30.30 sec. Users per second: 1174\n",
      "P3alphaRecommender: Similarity column 38121 (100.0%), 2408.98 column/sec. Elapsed time 15.82 sec\n",
      "EvaluatorHoldout: Ignoring 172 ( 0.5%) Users that have less than 1 test interactions\n",
      "EvaluatorHoldout: Processed 35564 (100.0%) in 30.41 sec. Users per second: 1170\n"
     ]
    },
    {
     "name": "stderr",
     "output_type": "stream",
     "text": [
      "[I 2025-01-05 14:20:25,669] Trial 141 finished with value: 0.05353499815479453 and parameters: {'topK': 20, 'alpha': 0.21892288364838153, 'normalize_similarity': True, 'implicit': False}. Best is trial 10 with value: 0.05370249298547826.\n"
     ]
    },
    {
     "name": "stdout",
     "output_type": "stream",
     "text": [
      "P3alphaRecommender: Similarity column 38121 (100.0%), 2193.94 column/sec. Elapsed time 17.38 sec\n",
      "EvaluatorHoldout: Ignoring 173 ( 0.5%) Users that have less than 1 test interactions\n",
      "EvaluatorHoldout: Processed 35563 (100.0%) in 32.52 sec. Users per second: 1094\n",
      "P3alphaRecommender: Similarity column 38121 (100.0%), 2163.63 column/sec. Elapsed time 17.62 sec\n",
      "EvaluatorHoldout: Ignoring 163 ( 0.5%) Users that have less than 1 test interactions\n",
      "EvaluatorHoldout: Processed 35573 (100.0%) in 32.56 sec. Users per second: 1093\n",
      "P3alphaRecommender: Similarity column 38121 (100.0%), 2185.28 column/sec. Elapsed time 17.44 sec\n",
      "EvaluatorHoldout: Ignoring 150 ( 0.4%) Users that have less than 1 test interactions\n",
      "EvaluatorHoldout: Processed 35586 (100.0%) in 32.39 sec. Users per second: 1099\n",
      "P3alphaRecommender: Similarity column 38121 (100.0%), 2180.92 column/sec. Elapsed time 17.48 sec\n",
      "EvaluatorHoldout: Ignoring 167 ( 0.5%) Users that have less than 1 test interactions\n",
      "EvaluatorHoldout: Processed 35569 (100.0%) in 32.57 sec. Users per second: 1092\n",
      "P3alphaRecommender: Similarity column 38121 (100.0%), 2178.27 column/sec. Elapsed time 17.50 sec\n",
      "EvaluatorHoldout: Ignoring 172 ( 0.5%) Users that have less than 1 test interactions\n",
      "EvaluatorHoldout: Processed 35564 (100.0%) in 32.66 sec. Users per second: 1089\n"
     ]
    },
    {
     "name": "stderr",
     "output_type": "stream",
     "text": [
      "[I 2025-01-05 14:24:46,574] Trial 142 finished with value: 0.05007783008052824 and parameters: {'topK': 56, 'alpha': 0.18408104329372876, 'normalize_similarity': True, 'implicit': False}. Best is trial 10 with value: 0.05370249298547826.\n"
     ]
    },
    {
     "name": "stdout",
     "output_type": "stream",
     "text": [
      "P3alphaRecommender: Similarity column 38121 (100.0%), 3662.26 column/sec. Elapsed time 10.41 sec\n",
      "EvaluatorHoldout: Ignoring 173 ( 0.5%) Users that have less than 1 test interactions\n",
      "EvaluatorHoldout: Processed 35563 (100.0%) in 26.36 sec. Users per second: 1349\n",
      "P3alphaRecommender: Similarity column 38121 (100.0%), 3645.39 column/sec. Elapsed time 10.46 sec\n",
      "EvaluatorHoldout: Ignoring 163 ( 0.5%) Users that have less than 1 test interactions\n",
      "EvaluatorHoldout: Processed 35573 (100.0%) in 26.48 sec. Users per second: 1344\n",
      "P3alphaRecommender: Similarity column 38121 (100.0%), 3640.42 column/sec. Elapsed time 10.47 sec\n",
      "EvaluatorHoldout: Ignoring 150 ( 0.4%) Users that have less than 1 test interactions\n",
      "EvaluatorHoldout: Processed 35586 (100.0%) in 26.23 sec. Users per second: 1357\n",
      "P3alphaRecommender: Similarity column 38121 (100.0%), 3654.69 column/sec. Elapsed time 10.43 sec\n",
      "EvaluatorHoldout: Ignoring 167 ( 0.5%) Users that have less than 1 test interactions\n",
      "EvaluatorHoldout: Processed 35569 (100.0%) in 26.32 sec. Users per second: 1351\n",
      "P3alphaRecommender: Similarity column 38121 (100.0%), 3675.99 column/sec. Elapsed time 10.37 sec\n",
      "EvaluatorHoldout: Ignoring 172 ( 0.5%) Users that have less than 1 test interactions\n",
      "EvaluatorHoldout: Processed 35564 (100.0%) in 26.38 sec. Users per second: 1348\n"
     ]
    },
    {
     "name": "stderr",
     "output_type": "stream",
     "text": [
      "[I 2025-01-05 14:27:54,190] Trial 143 finished with value: 0.020625866865305254 and parameters: {'topK': 1, 'alpha': 0.3298703606035894, 'normalize_similarity': True, 'implicit': False}. Best is trial 10 with value: 0.05370249298547826.\n"
     ]
    },
    {
     "name": "stdout",
     "output_type": "stream",
     "text": [
      "P3alphaRecommender: Similarity column 38121 (100.0%), 927.07 column/sec. Elapsed time 41.12 sec\n",
      "EvaluatorHoldout: Ignoring 173 ( 0.5%) Users that have less than 1 test interactions\n",
      "EvaluatorHoldout: Processed 35563 (100.0%) in 43.20 sec. Users per second: 823\n",
      "P3alphaRecommender: Similarity column 38121 (100.0%), 934.46 column/sec. Elapsed time 40.79 sec\n",
      "EvaluatorHoldout: Ignoring 163 ( 0.5%) Users that have less than 1 test interactions\n",
      "EvaluatorHoldout: Processed 35573 (100.0%) in 43.29 sec. Users per second: 822\n",
      "P3alphaRecommender: Similarity column 38121 (100.0%), 927.44 column/sec. Elapsed time 41.10 sec\n",
      "EvaluatorHoldout: Ignoring 150 ( 0.4%) Users that have less than 1 test interactions\n",
      "EvaluatorHoldout: Processed 35586 (100.0%) in 43.27 sec. Users per second: 822\n",
      "P3alphaRecommender: Similarity column 38121 (100.0%), 930.75 column/sec. Elapsed time 40.96 sec\n",
      "EvaluatorHoldout: Ignoring 167 ( 0.5%) Users that have less than 1 test interactions\n",
      "EvaluatorHoldout: Processed 35569 (100.0%) in 43.00 sec. Users per second: 827\n",
      "P3alphaRecommender: Similarity column 38121 (100.0%), 946.46 column/sec. Elapsed time 40.28 sec\n",
      "EvaluatorHoldout: Ignoring 172 ( 0.5%) Users that have less than 1 test interactions\n",
      "EvaluatorHoldout: Processed 35564 (100.0%) in 43.23 sec. Users per second: 823\n"
     ]
    },
    {
     "name": "stderr",
     "output_type": "stream",
     "text": [
      "[I 2025-01-05 14:36:30,620] Trial 144 finished with value: 0.0368139763138582 and parameters: {'topK': 534, 'alpha': 0.24272445566827786, 'normalize_similarity': True, 'implicit': False}. Best is trial 10 with value: 0.05370249298547826.\n"
     ]
    },
    {
     "name": "stdout",
     "output_type": "stream",
     "text": [
      "P3alphaRecommender: Similarity column 38121 (100.0%), 2000.01 column/sec. Elapsed time 19.06 sec\n",
      "EvaluatorHoldout: Ignoring 173 ( 0.5%) Users that have less than 1 test interactions\n",
      "EvaluatorHoldout: Processed 35563 (100.0%) in 33.93 sec. Users per second: 1048\n",
      "P3alphaRecommender: Similarity column 38121 (100.0%), 1960.37 column/sec. Elapsed time 19.45 sec\n",
      "EvaluatorHoldout: Ignoring 163 ( 0.5%) Users that have less than 1 test interactions\n",
      "EvaluatorHoldout: Processed 35573 (100.0%) in 33.97 sec. Users per second: 1047\n",
      "P3alphaRecommender: Similarity column 38121 (100.0%), 1982.74 column/sec. Elapsed time 19.23 sec\n",
      "EvaluatorHoldout: Ignoring 150 ( 0.4%) Users that have less than 1 test interactions\n",
      "EvaluatorHoldout: Processed 35586 (100.0%) in 29.98 sec. Users per second: 1187\n",
      "P3alphaRecommender: Similarity column 38121 (100.0%), 1947.51 column/sec. Elapsed time 19.57 sec\n",
      "EvaluatorHoldout: Ignoring 167 ( 0.5%) Users that have less than 1 test interactions\n",
      "EvaluatorHoldout: Processed 35569 (100.0%) in 34.16 sec. Users per second: 1041\n",
      "P3alphaRecommender: Similarity column 38121 (100.0%), 1962.63 column/sec. Elapsed time 19.42 sec\n",
      "EvaluatorHoldout: Ignoring 172 ( 0.5%) Users that have less than 1 test interactions\n",
      "EvaluatorHoldout: Processed 35564 (100.0%) in 30.06 sec. Users per second: 1183\n"
     ]
    },
    {
     "name": "stderr",
     "output_type": "stream",
     "text": [
      "[I 2025-01-05 14:41:05,614] Trial 145 finished with value: 0.04765859233065183 and parameters: {'topK': 93, 'alpha': 0.2254262440401089, 'normalize_similarity': True, 'implicit': False}. Best is trial 10 with value: 0.05370249298547826.\n"
     ]
    },
    {
     "name": "stdout",
     "output_type": "stream",
     "text": [
      "P3alphaRecommender: Similarity column 38121 (100.0%), 1714.24 column/sec. Elapsed time 22.24 sec\n",
      "EvaluatorHoldout: Ignoring 173 ( 0.5%) Users that have less than 1 test interactions\n",
      "EvaluatorHoldout: Processed 35563 (100.0%) in 31.66 sec. Users per second: 1123\n",
      "P3alphaRecommender: Similarity column 38121 (100.0%), 1712.84 column/sec. Elapsed time 22.26 sec\n",
      "EvaluatorHoldout: Ignoring 163 ( 0.5%) Users that have less than 1 test interactions\n",
      "EvaluatorHoldout: Processed 35573 (100.0%) in 31.44 sec. Users per second: 1132\n",
      "P3alphaRecommender: Similarity column 38121 (100.0%), 1725.12 column/sec. Elapsed time 22.10 sec\n",
      "EvaluatorHoldout: Ignoring 150 ( 0.4%) Users that have less than 1 test interactions\n",
      "EvaluatorHoldout: Processed 35586 (100.0%) in 31.47 sec. Users per second: 1131\n",
      "P3alphaRecommender: Similarity column 38121 (100.0%), 1721.68 column/sec. Elapsed time 22.14 sec\n",
      "EvaluatorHoldout: Ignoring 167 ( 0.5%) Users that have less than 1 test interactions\n",
      "EvaluatorHoldout: Processed 35569 (100.0%) in 31.65 sec. Users per second: 1124\n",
      "P3alphaRecommender: Similarity column 38121 (100.0%), 1726.69 column/sec. Elapsed time 22.08 sec\n",
      "EvaluatorHoldout: Ignoring 172 ( 0.5%) Users that have less than 1 test interactions\n",
      "EvaluatorHoldout: Processed 35564 (100.0%) in 31.46 sec. Users per second: 1130\n"
     ]
    },
    {
     "name": "stderr",
     "output_type": "stream",
     "text": [
      "[I 2025-01-05 14:45:59,361] Trial 146 finished with value: 0.04512944980534381 and parameters: {'topK': 151, 'alpha': 0.3577549363475985, 'normalize_similarity': True, 'implicit': False}. Best is trial 10 with value: 0.05370249298547826.\n"
     ]
    },
    {
     "name": "stdout",
     "output_type": "stream",
     "text": [
      "P3alphaRecommender: Similarity column 38121 (100.0%), 2249.47 column/sec. Elapsed time 16.95 sec\n",
      "EvaluatorHoldout: Ignoring 173 ( 0.5%) Users that have less than 1 test interactions\n",
      "EvaluatorHoldout: Processed 35563 (100.0%) in 31.61 sec. Users per second: 1125\n",
      "P3alphaRecommender: Similarity column 38121 (100.0%), 2257.51 column/sec. Elapsed time 16.89 sec\n",
      "EvaluatorHoldout: Ignoring 163 ( 0.5%) Users that have less than 1 test interactions\n",
      "EvaluatorHoldout: Processed 35573 (100.0%) in 31.89 sec. Users per second: 1115\n",
      "P3alphaRecommender: Similarity column 38121 (100.0%), 2256.32 column/sec. Elapsed time 16.90 sec\n",
      "EvaluatorHoldout: Ignoring 150 ( 0.4%) Users that have less than 1 test interactions\n",
      "EvaluatorHoldout: Processed 35586 (100.0%) in 31.84 sec. Users per second: 1118\n",
      "P3alphaRecommender: Similarity column 38121 (100.0%), 2255.99 column/sec. Elapsed time 16.90 sec\n",
      "EvaluatorHoldout: Ignoring 167 ( 0.5%) Users that have less than 1 test interactions\n",
      "EvaluatorHoldout: Processed 35569 (100.0%) in 31.70 sec. Users per second: 1122\n",
      "P3alphaRecommender: Similarity column 38121 (100.0%), 2258.06 column/sec. Elapsed time 16.88 sec\n",
      "EvaluatorHoldout: Ignoring 172 ( 0.5%) Users that have less than 1 test interactions\n",
      "EvaluatorHoldout: Processed 35564 (100.0%) in 31.62 sec. Users per second: 1125\n"
     ]
    },
    {
     "name": "stderr",
     "output_type": "stream",
     "text": [
      "[I 2025-01-05 14:50:10,813] Trial 147 finished with value: 0.05184343676719398 and parameters: {'topK': 37, 'alpha': 0.26254144173877386, 'normalize_similarity': True, 'implicit': False}. Best is trial 10 with value: 0.05370249298547826.\n"
     ]
    },
    {
     "name": "stdout",
     "output_type": "stream",
     "text": [
      "P3alphaRecommender: Similarity column 38121 (100.0%), 2056.27 column/sec. Elapsed time 18.54 sec\n",
      "EvaluatorHoldout: Ignoring 173 ( 0.5%) Users that have less than 1 test interactions\n",
      "EvaluatorHoldout: Processed 35563 (100.0%) in 33.16 sec. Users per second: 1072\n",
      "P3alphaRecommender: Similarity column 38121 (100.0%), 2058.72 column/sec. Elapsed time 18.52 sec\n",
      "EvaluatorHoldout: Ignoring 163 ( 0.5%) Users that have less than 1 test interactions\n",
      "EvaluatorHoldout: Processed 35573 (100.0%) in 33.01 sec. Users per second: 1078\n",
      "P3alphaRecommender: Similarity column 38121 (100.0%), 2056.12 column/sec. Elapsed time 18.54 sec\n",
      "EvaluatorHoldout: Ignoring 150 ( 0.4%) Users that have less than 1 test interactions\n",
      "EvaluatorHoldout: Processed 35586 (100.0%) in 33.24 sec. Users per second: 1071\n",
      "P3alphaRecommender: Similarity column 38121 (100.0%), 2063.99 column/sec. Elapsed time 18.47 sec\n",
      "EvaluatorHoldout: Ignoring 167 ( 0.5%) Users that have less than 1 test interactions\n",
      "EvaluatorHoldout: Processed 35569 (100.0%) in 32.93 sec. Users per second: 1080\n",
      "P3alphaRecommender: Similarity column 38121 (100.0%), 2055.96 column/sec. Elapsed time 18.54 sec\n",
      "EvaluatorHoldout: Ignoring 172 ( 0.5%) Users that have less than 1 test interactions\n",
      "EvaluatorHoldout: Processed 35564 (100.0%) in 33.14 sec. Users per second: 1073\n"
     ]
    },
    {
     "name": "stderr",
     "output_type": "stream",
     "text": [
      "[I 2025-01-05 14:54:42,090] Trial 148 finished with value: 0.048504895493151595 and parameters: {'topK': 73, 'alpha': 0.11172958775022032, 'normalize_similarity': True, 'implicit': False}. Best is trial 10 with value: 0.05370249298547826.\n"
     ]
    },
    {
     "name": "stdout",
     "output_type": "stream",
     "text": [
      "P3alphaRecommender: Similarity column 38121 (100.0%), 511.72 column/sec. Elapsed time 1.24 min\n",
      "EvaluatorHoldout: Ignoring 173 ( 0.5%) Users that have less than 1 test interactions\n",
      "EvaluatorHoldout: Processed 35563 (100.0%) in 55.65 sec. Users per second: 639\n",
      "P3alphaRecommender: Similarity column 38121 (100.0%), 508.27 column/sec. Elapsed time 1.25 min\n",
      "EvaluatorHoldout: Ignoring 163 ( 0.5%) Users that have less than 1 test interactions\n",
      "EvaluatorHoldout: Processed 35573 (100.0%) in 55.37 sec. Users per second: 642\n",
      "P3alphaRecommender: Similarity column 38121 (100.0%), 507.27 column/sec. Elapsed time 1.25 min\n",
      "EvaluatorHoldout: Ignoring 150 ( 0.4%) Users that have less than 1 test interactions\n",
      "EvaluatorHoldout: Processed 35586 (100.0%) in 55.24 sec. Users per second: 644\n",
      "P3alphaRecommender: Similarity column 38121 (100.0%), 507.64 column/sec. Elapsed time 1.25 min\n",
      "EvaluatorHoldout: Ignoring 167 ( 0.5%) Users that have less than 1 test interactions\n",
      "EvaluatorHoldout: Processed 35569 (100.0%) in 55.00 sec. Users per second: 647\n",
      "P3alphaRecommender: Similarity column 38121 (100.0%), 509.93 column/sec. Elapsed time 1.25 min\n",
      "EvaluatorHoldout: Ignoring 172 ( 0.5%) Users that have less than 1 test interactions\n",
      "EvaluatorHoldout: Processed 35564 (100.0%) in 55.21 sec. Users per second: 644\n"
     ]
    },
    {
     "name": "stderr",
     "output_type": "stream",
     "text": [
      "[I 2025-01-05 15:09:36,363] Trial 149 finished with value: 0.0331849856244731 and parameters: {'topK': 1360, 'alpha': 0.3949603199965616, 'normalize_similarity': True, 'implicit': False}. Best is trial 10 with value: 0.05370249298547826.\n"
     ]
    }
   ],
   "source": [
    "if config['tune_parameters']:\n",
    "    \n",
    "    optuna_study = optuna.create_study(direction='maximize', study_name=f'hyperparameters_tuning_{config[\"model\"]}_{config[\"metric\"]}',\n",
    "                                storage=f'sqlite:///{config[\"database_path\"]}', load_if_exists=True)\n",
    "\n",
    "    optuna_study.optimize(objective_function_P3alpha, n_trials=50)"
   ]
  },
  {
   "cell_type": "markdown",
   "id": "7938ca03",
   "metadata": {
    "papermill": {
     "duration": 0.058947,
     "end_time": "2025-01-05T15:09:36.490356",
     "exception": false,
     "start_time": "2025-01-05T15:09:36.431409",
     "status": "completed"
    },
    "tags": []
   },
   "source": [
    "## Some optuna visualizations on recommender parameters"
   ]
  },
  {
   "cell_type": "code",
   "execution_count": 14,
   "id": "47dab9fe",
   "metadata": {
    "execution": {
     "iopub.execute_input": "2025-01-05T15:09:36.608444Z",
     "iopub.status.busy": "2025-01-05T15:09:36.608088Z",
     "iopub.status.idle": "2025-01-05T15:09:37.986250Z",
     "shell.execute_reply": "2025-01-05T15:09:37.985121Z"
    },
    "papermill": {
     "duration": 1.440019,
     "end_time": "2025-01-05T15:09:37.988431",
     "exception": false,
     "start_time": "2025-01-05T15:09:36.548412",
     "status": "completed"
    },
    "tags": []
   },
   "outputs": [
    {
     "data": {
      "text/html": [
       "<html>\n",
       "<head><meta charset=\"utf-8\" /></head>\n",
       "<body>\n",
       "    <div>            <script src=\"https://cdnjs.cloudflare.com/ajax/libs/mathjax/2.7.5/MathJax.js?config=TeX-AMS-MML_SVG\"></script><script type=\"text/javascript\">if (window.MathJax && window.MathJax.Hub && window.MathJax.Hub.Config) {window.MathJax.Hub.Config({SVG: {font: \"STIX-Web\"}});}</script>                <script type=\"text/javascript\">window.PlotlyConfig = {MathJaxConfig: 'local'};</script>\n",
       "        <script charset=\"utf-8\" src=\"https://cdn.plot.ly/plotly-2.35.2.min.js\"></script>                <div id=\"eb39ff98-19ff-4b73-97bd-0c0b32f0ab04\" class=\"plotly-graph-div\" style=\"height:525px; width:1200px;\"></div>            <script type=\"text/javascript\">                                    window.PLOTLYENV=window.PLOTLYENV || {};                                    if (document.getElementById(\"eb39ff98-19ff-4b73-97bd-0c0b32f0ab04\")) {                    Plotly.newPlot(                        \"eb39ff98-19ff-4b73-97bd-0c0b32f0ab04\",                        [{\"marker\":{\"color\":[0,1,2,3,4,5,6,7,8,9,10,11,12,13,14,15,16,17,18,19,20,21,22,23,24,25,26,27,28,29,30,31,32,33,34,35,36,37,38,39,40,41,42,43,44,45,46,47,48,49,50,51,52,53,54,55,56,57,58,59,60,61,62,63,64,65,66,67,68,69,70,71,72,73,74,75,76,77,78,79,80,81,82,83,84,85,86,87,88,89,90,91,92,93,94,95,96,97,98,99,100,101,102,103,104,105,106,107,108,109,110,111,112,113,114,115,116,117,118,119,120,121,122,123,124,125,126,127,128,129,130,131,132,133,134,135,136,137,138,139,140,141,142,143,144,145,146,147,148,149],\"colorbar\":{\"title\":{\"text\":\"Trial\"},\"x\":1.0,\"xpad\":40},\"colorscale\":[[0.0,\"rgb(247,251,255)\"],[0.125,\"rgb(222,235,247)\"],[0.25,\"rgb(198,219,239)\"],[0.375,\"rgb(158,202,225)\"],[0.5,\"rgb(107,174,214)\"],[0.625,\"rgb(66,146,198)\"],[0.75,\"rgb(33,113,181)\"],[0.875,\"rgb(8,81,156)\"],[1.0,\"rgb(8,48,107)\"]],\"line\":{\"color\":\"Grey\",\"width\":0.5},\"showscale\":true},\"mode\":\"markers\",\"name\":\"Feasible Trial\",\"showlegend\":false,\"x\":[1.9555722902370891,1.9451119902075962,1.7041603674865449,1.505154401702621,1.417404807113589,1.429887748017081,0.6423970179752319,1.357324393912698,1.5796611764403068,1.6573015763234014,0.259039498224813,0.009023169374170525,0.017299402340292758,0.05741669922250647,0.43291619988413355,0.3895368099707133,0.9236758405543553,0.2391747392107611,0.7722037747685639,1.1270782733213431,0.2985411909626277,0.0017162766615581183,0.14459969802008343,0.5599915376809156,0.5812080291300891,0.5102570969146578,0.22919558780975743,0.7668253532326018,0.33619034800127023,1.0633881794880087,0.6766890326896323,0.7039495572064933,0.8844159780371044,0.2131957245488712,0.47485156287817376,0.574233908892971,0.10992686396759538,1.2101192102741831,0.3784090900895734,1.9022453793230083,0.3660741625786829,0.6397588510717156,0.14701427855027074,0.4727310234549015,0.26510340366778407,0.7793874438330077,0.5467916658262164,0.33679676849763707,0.07978912869645305,0.9206078425164291,0.4076427685325944,0.7094347586149212,0.668182561752386,0.848680880583546,0.17504588313995484,0.9940586966767009,0.596323803099865,0.4155696012952391,0.7300889084614393,0.7026659998723025,1.2587097134982606,0.8226962402219791,0.4968729307331387,0.5021039955142267,0.7208562371905738,0.4893319886324915,0.49464939326422325,0.2865429878389075,0.6381872933570667,0.030385557205286684,0.6095385251915566,0.5313224598605867,0.4647212342347552,0.6560616524933051,0.650752516464808,0.31763081121375114,0.21126695358820613,0.4267861093987477,0.5459638645694592,0.8001884544805936,0.09578152435076426,1.0010919088318104,0.7950044110954735,0.6528845026555389,0.8686452399747855,0.5219055435571492,0.5950609222707803,0.7584562694479525,0.45561107720649413,0.3787727339565327,0.25881816157705617,0.7691591857526583,0.6778059048614092,0.6749715864565274,0.6180208184965519,0.7414105503298687,0.5553121477748694,0.9199117843582898,0.5039640716484797,0.6704274210455656,0.19357071407470383,0.8235823673862037,0.8299408357816291,0.7038677874082406,0.5772227777273413,0.9627241371928188,0.742368111052462,0.8961852086316883,0.6338913908159787,0.8460819589168291,0.1586491656004776,0.8225077290647852,0.7618321041561548,0.6583349373649502,0.6789599869812522,1.0775051301164722,0.3543262304602782,0.43423386096461297,0.602547150467961,1.7286336439736891,0.4851087227011725,0.7069993242156728,0.8142271556988062,0.644933766546533,0.04504424348085013,0.5642599143266227,0.5220220431518023,0.5293533995293002,0.30698068395560196,0.49877319348182425,0.40311038526825405,0.4083906234953192,0.4700130398125544,0.5764571058788258,0.4332367982573321,0.37960263756498636,0.3726199860245315,0.28642614087400553,0.5372572418525191,0.2414509904925934,0.13051411228117996,0.21892288364838153,0.18408104329372876,0.3298703606035894,0.24272445566827786,0.2254262440401089,0.3577549363475985,0.26254144173877386,0.11172958775022032,0.3949603199965616],\"y\":[0.03324698331399583,0.026332902930887934,0.030469137563298575,0.03444987576203394,0.04814619271239208,0.038066821299608235,0.03313890578532456,0.035480558776875615,0.03795740934127874,0.031156855638856097,0.05370249298547826,0.053043338860751556,0.049358568615201014,0.04046620173964342,0.04135830475866652,0.03482896954916652,0.04154041337618398,0.03462141000783664,0.046612718601797054,0.037526935207238,0.043719300306238565,0.045391643727781025,0.03855362113289444,0.05005819010027681,0.039473372363462364,0.03480637042849982,0.03369956604439408,0.0399559022002486,0.045554766209695396,0.0377710062570645,0.05345532201680157,0.049179364245239526,0.045038814489735374,0.042924297756840736,0.04001730686109394,0.040681947973510366,0.03255432649509493,0.039981091096421034,0.0503522003189274,0.03981101195489917,0.032811783069301007,0.049862294786565405,0.04851576479166418,0.02024138376707917,0.04170481583937038,0.04767053965435942,0.04313826063367159,0.03283938541515903,0.03278310247782083,0.037876718506305,0.040726692725909806,0.050762033934032155,0.04610049465209755,0.035598704019295734,0.044183615546848895,0.04990649894396905,0.04210634543158245,0.047338175501152914,0.05084595784289079,0.03654701218043085,0.042371475724924626,0.048460256440363954,0.052472475068935306,0.052887525248913415,0.04626885698320693,0.05317992334355266,0.04275097241274065,0.034748374854042384,0.052153755408722705,0.03966879729859924,0.03456739709318828,0.04381019379874547,0.04726398158402837,0.05265843147113376,0.05331823873229896,0.045087667532495476,0.020770348777273694,0.047398026686143964,0.0389465853039739,0.05219137903797115,0.04709926993082188,0.0508971605112515,0.05151212750052316,0.048758814503789674,0.04242500361269015,0.04710632376294343,0.03531964393831496,0.052457237175554304,0.045799822985578484,0.033738054775223146,0.0488217757697453,0.051946099320358693,0.05278336944453671,0.04705396776723112,0.049838598061873234,0.043675457175516186,0.04587686254833845,0.04662172783159644,0.05218017043087157,0.0494985524929483,0.04088362422565477,0.05221018954207535,0.05253647896025815,0.04302974775721296,0.04816109208279552,0.04896643161435016,0.045115575584085396,0.04286887657038844,0.04155131211473144,0.049748990510831904,0.03438504613986426,0.0528663253282279,0.04815928395451181,0.053184673529307856,0.051916487103832246,0.043299638979650404,0.04754727094759563,0.05076538637504058,0.04623849148207724,0.047417452844366215,0.02022282504685614,0.05026288773688968,0.048146784203736005,0.033965166850007285,0.051114131635104296,0.036454444441654986,0.05341465722787142,0.03552890563535609,0.03666385268601502,0.04671620191668675,0.053604758640113416,0.037257922932716854,0.05125645218515289,0.04907912984206813,0.052227000936113085,0.05341870658574962,0.04766486170283768,0.03341205827496927,0.050080152181557966,0.05328353864373002,0.0002664826418719655,0.05353499815479453,0.05007783008052824,0.020625866865305254,0.0368139763138582,0.04765859233065183,0.04512944980534381,0.05184343676719398,0.048504895493151595,0.0331849856244731],\"type\":\"scatter\",\"xaxis\":\"x\",\"yaxis\":\"y\"},{\"marker\":{\"color\":[0,1,2,3,4,5,6,7,8,9,10,11,12,13,14,15,16,17,18,19,20,21,22,23,24,25,26,27,28,29,30,31,32,33,34,35,36,37,38,39,40,41,42,43,44,45,46,47,48,49,50,51,52,53,54,55,56,57,58,59,60,61,62,63,64,65,66,67,68,69,70,71,72,73,74,75,76,77,78,79,80,81,82,83,84,85,86,87,88,89,90,91,92,93,94,95,96,97,98,99,100,101,102,103,104,105,106,107,108,109,110,111,112,113,114,115,116,117,118,119,120,121,122,123,124,125,126,127,128,129,130,131,132,133,134,135,136,137,138,139,140,141,142,143,144,145,146,147,148,149],\"colorbar\":{\"title\":{\"text\":\"Trial\"},\"x\":1.0,\"xpad\":40},\"colorscale\":[[0.0,\"rgb(247,251,255)\"],[0.125,\"rgb(222,235,247)\"],[0.25,\"rgb(198,219,239)\"],[0.375,\"rgb(158,202,225)\"],[0.5,\"rgb(107,174,214)\"],[0.625,\"rgb(66,146,198)\"],[0.75,\"rgb(33,113,181)\"],[0.875,\"rgb(8,81,156)\"],[1.0,\"rgb(8,48,107)\"]],\"line\":{\"color\":\"Grey\",\"width\":0.5},\"showscale\":false},\"mode\":\"markers\",\"name\":\"Feasible Trial\",\"showlegend\":false,\"x\":[false,true,true,true,false,true,true,false,false,true,false,false,false,false,false,false,false,false,false,false,false,false,false,false,false,false,false,false,false,false,false,false,false,false,true,false,true,false,true,true,true,true,true,true,true,false,true,false,false,false,true,true,true,true,true,false,true,false,false,false,true,false,false,false,false,false,false,false,false,false,false,false,false,false,false,false,false,false,false,false,false,false,false,false,false,false,false,false,false,false,false,false,false,false,false,false,false,false,false,false,false,false,false,false,false,false,false,false,false,false,false,false,false,false,false,false,false,false,false,false,false,false,false,false,false,false,false,false,false,false,false,false,false,false,false,false,false,false,false,false,false,false,false,false,false,false,false,false,false,false],\"y\":[0.03324698331399583,0.026332902930887934,0.030469137563298575,0.03444987576203394,0.04814619271239208,0.038066821299608235,0.03313890578532456,0.035480558776875615,0.03795740934127874,0.031156855638856097,0.05370249298547826,0.053043338860751556,0.049358568615201014,0.04046620173964342,0.04135830475866652,0.03482896954916652,0.04154041337618398,0.03462141000783664,0.046612718601797054,0.037526935207238,0.043719300306238565,0.045391643727781025,0.03855362113289444,0.05005819010027681,0.039473372363462364,0.03480637042849982,0.03369956604439408,0.0399559022002486,0.045554766209695396,0.0377710062570645,0.05345532201680157,0.049179364245239526,0.045038814489735374,0.042924297756840736,0.04001730686109394,0.040681947973510366,0.03255432649509493,0.039981091096421034,0.0503522003189274,0.03981101195489917,0.032811783069301007,0.049862294786565405,0.04851576479166418,0.02024138376707917,0.04170481583937038,0.04767053965435942,0.04313826063367159,0.03283938541515903,0.03278310247782083,0.037876718506305,0.040726692725909806,0.050762033934032155,0.04610049465209755,0.035598704019295734,0.044183615546848895,0.04990649894396905,0.04210634543158245,0.047338175501152914,0.05084595784289079,0.03654701218043085,0.042371475724924626,0.048460256440363954,0.052472475068935306,0.052887525248913415,0.04626885698320693,0.05317992334355266,0.04275097241274065,0.034748374854042384,0.052153755408722705,0.03966879729859924,0.03456739709318828,0.04381019379874547,0.04726398158402837,0.05265843147113376,0.05331823873229896,0.045087667532495476,0.020770348777273694,0.047398026686143964,0.0389465853039739,0.05219137903797115,0.04709926993082188,0.0508971605112515,0.05151212750052316,0.048758814503789674,0.04242500361269015,0.04710632376294343,0.03531964393831496,0.052457237175554304,0.045799822985578484,0.033738054775223146,0.0488217757697453,0.051946099320358693,0.05278336944453671,0.04705396776723112,0.049838598061873234,0.043675457175516186,0.04587686254833845,0.04662172783159644,0.05218017043087157,0.0494985524929483,0.04088362422565477,0.05221018954207535,0.05253647896025815,0.04302974775721296,0.04816109208279552,0.04896643161435016,0.045115575584085396,0.04286887657038844,0.04155131211473144,0.049748990510831904,0.03438504613986426,0.0528663253282279,0.04815928395451181,0.053184673529307856,0.051916487103832246,0.043299638979650404,0.04754727094759563,0.05076538637504058,0.04623849148207724,0.047417452844366215,0.02022282504685614,0.05026288773688968,0.048146784203736005,0.033965166850007285,0.051114131635104296,0.036454444441654986,0.05341465722787142,0.03552890563535609,0.03666385268601502,0.04671620191668675,0.053604758640113416,0.037257922932716854,0.05125645218515289,0.04907912984206813,0.052227000936113085,0.05341870658574962,0.04766486170283768,0.03341205827496927,0.050080152181557966,0.05328353864373002,0.0002664826418719655,0.05353499815479453,0.05007783008052824,0.020625866865305254,0.0368139763138582,0.04765859233065183,0.04512944980534381,0.05184343676719398,0.048504895493151595,0.0331849856244731],\"type\":\"scatter\",\"xaxis\":\"x2\",\"yaxis\":\"y2\"},{\"marker\":{\"color\":[0,1,2,3,4,5,6,7,8,9,10,11,12,13,14,15,16,17,18,19,20,21,22,23,24,25,26,27,28,29,30,31,32,33,34,35,36,37,38,39,40,41,42,43,44,45,46,47,48,49,50,51,52,53,54,55,56,57,58,59,60,61,62,63,64,65,66,67,68,69,70,71,72,73,74,75,76,77,78,79,80,81,82,83,84,85,86,87,88,89,90,91,92,93,94,95,96,97,98,99,100,101,102,103,104,105,106,107,108,109,110,111,112,113,114,115,116,117,118,119,120,121,122,123,124,125,126,127,128,129,130,131,132,133,134,135,136,137,138,139,140,141,142,143,144,145,146,147,148,149],\"colorbar\":{\"title\":{\"text\":\"Trial\"},\"x\":1.0,\"xpad\":40},\"colorscale\":[[0.0,\"rgb(247,251,255)\"],[0.125,\"rgb(222,235,247)\"],[0.25,\"rgb(198,219,239)\"],[0.375,\"rgb(158,202,225)\"],[0.5,\"rgb(107,174,214)\"],[0.625,\"rgb(66,146,198)\"],[0.75,\"rgb(33,113,181)\"],[0.875,\"rgb(8,81,156)\"],[1.0,\"rgb(8,48,107)\"]],\"line\":{\"color\":\"Grey\",\"width\":0.5},\"showscale\":false},\"mode\":\"markers\",\"name\":\"Feasible Trial\",\"showlegend\":false,\"x\":[true,false,false,true,true,true,false,false,true,false,true,true,true,true,true,true,true,true,true,true,true,true,true,true,true,true,false,true,true,true,true,true,true,true,false,true,true,false,true,true,false,true,true,true,true,true,true,true,false,true,true,true,true,true,true,true,true,true,true,true,true,true,true,true,true,true,true,false,true,true,true,true,true,true,true,true,true,true,false,true,true,true,true,true,true,true,true,true,true,false,true,true,true,true,true,true,true,true,true,true,true,true,true,true,true,true,true,true,false,true,true,true,true,true,true,true,true,true,true,true,true,true,true,true,true,true,true,true,false,true,true,true,true,true,true,true,true,true,true,true,true,true,true,true,true,true,true,true,true,true],\"y\":[0.03324698331399583,0.026332902930887934,0.030469137563298575,0.03444987576203394,0.04814619271239208,0.038066821299608235,0.03313890578532456,0.035480558776875615,0.03795740934127874,0.031156855638856097,0.05370249298547826,0.053043338860751556,0.049358568615201014,0.04046620173964342,0.04135830475866652,0.03482896954916652,0.04154041337618398,0.03462141000783664,0.046612718601797054,0.037526935207238,0.043719300306238565,0.045391643727781025,0.03855362113289444,0.05005819010027681,0.039473372363462364,0.03480637042849982,0.03369956604439408,0.0399559022002486,0.045554766209695396,0.0377710062570645,0.05345532201680157,0.049179364245239526,0.045038814489735374,0.042924297756840736,0.04001730686109394,0.040681947973510366,0.03255432649509493,0.039981091096421034,0.0503522003189274,0.03981101195489917,0.032811783069301007,0.049862294786565405,0.04851576479166418,0.02024138376707917,0.04170481583937038,0.04767053965435942,0.04313826063367159,0.03283938541515903,0.03278310247782083,0.037876718506305,0.040726692725909806,0.050762033934032155,0.04610049465209755,0.035598704019295734,0.044183615546848895,0.04990649894396905,0.04210634543158245,0.047338175501152914,0.05084595784289079,0.03654701218043085,0.042371475724924626,0.048460256440363954,0.052472475068935306,0.052887525248913415,0.04626885698320693,0.05317992334355266,0.04275097241274065,0.034748374854042384,0.052153755408722705,0.03966879729859924,0.03456739709318828,0.04381019379874547,0.04726398158402837,0.05265843147113376,0.05331823873229896,0.045087667532495476,0.020770348777273694,0.047398026686143964,0.0389465853039739,0.05219137903797115,0.04709926993082188,0.0508971605112515,0.05151212750052316,0.048758814503789674,0.04242500361269015,0.04710632376294343,0.03531964393831496,0.052457237175554304,0.045799822985578484,0.033738054775223146,0.0488217757697453,0.051946099320358693,0.05278336944453671,0.04705396776723112,0.049838598061873234,0.043675457175516186,0.04587686254833845,0.04662172783159644,0.05218017043087157,0.0494985524929483,0.04088362422565477,0.05221018954207535,0.05253647896025815,0.04302974775721296,0.04816109208279552,0.04896643161435016,0.045115575584085396,0.04286887657038844,0.04155131211473144,0.049748990510831904,0.03438504613986426,0.0528663253282279,0.04815928395451181,0.053184673529307856,0.051916487103832246,0.043299638979650404,0.04754727094759563,0.05076538637504058,0.04623849148207724,0.047417452844366215,0.02022282504685614,0.05026288773688968,0.048146784203736005,0.033965166850007285,0.051114131635104296,0.036454444441654986,0.05341465722787142,0.03552890563535609,0.03666385268601502,0.04671620191668675,0.053604758640113416,0.037257922932716854,0.05125645218515289,0.04907912984206813,0.052227000936113085,0.05341870658574962,0.04766486170283768,0.03341205827496927,0.050080152181557966,0.05328353864373002,0.0002664826418719655,0.05353499815479453,0.05007783008052824,0.020625866865305254,0.0368139763138582,0.04765859233065183,0.04512944980534381,0.05184343676719398,0.048504895493151595,0.0331849856244731],\"type\":\"scatter\",\"xaxis\":\"x3\",\"yaxis\":\"y3\"},{\"marker\":{\"color\":[0,1,2,3,4,5,6,7,8,9,10,11,12,13,14,15,16,17,18,19,20,21,22,23,24,25,26,27,28,29,30,31,32,33,34,35,36,37,38,39,40,41,42,43,44,45,46,47,48,49,50,51,52,53,54,55,56,57,58,59,60,61,62,63,64,65,66,67,68,69,70,71,72,73,74,75,76,77,78,79,80,81,82,83,84,85,86,87,88,89,90,91,92,93,94,95,96,97,98,99,100,101,102,103,104,105,106,107,108,109,110,111,112,113,114,115,116,117,118,119,120,121,122,123,124,125,126,127,128,129,130,131,132,133,134,135,136,137,138,139,140,141,142,143,144,145,146,147,148,149],\"colorbar\":{\"title\":{\"text\":\"Trial\"},\"x\":1.0,\"xpad\":40},\"colorscale\":[[0.0,\"rgb(247,251,255)\"],[0.125,\"rgb(222,235,247)\"],[0.25,\"rgb(198,219,239)\"],[0.375,\"rgb(158,202,225)\"],[0.5,\"rgb(107,174,214)\"],[0.625,\"rgb(66,146,198)\"],[0.75,\"rgb(33,113,181)\"],[0.875,\"rgb(8,81,156)\"],[1.0,\"rgb(8,48,107)\"]],\"line\":{\"color\":\"Grey\",\"width\":0.5},\"showscale\":false},\"mode\":\"markers\",\"name\":\"Feasible Trial\",\"showlegend\":false,\"x\":[1466,1202,501,1494,35,516,1253,1307,499,1278,19,19,57,259,271,878,249,801,4,648,183,118,371,61,382,990,150,351,140,604,17,5,132,198,81,307,1071,467,58,195,427,61,75,1,244,87,206,1382,61,570,299,46,123,2,160,42,242,105,44,737,173,72,32,28,117,25,218,149,33,289,1188,3,106,28,20,149,1,104,168,28,94,31,34,77,215,108,938,27,137,339,76,31,26,4,62,181,133,96,35,65,264,27,23,3,88,55,141,196,120,52,774,18,81,22,7,162,101,53,123,23,1,53,78,1488,37,693,22,839,83,117,21,2,46,74,35,23,99,1100,61,23,0,20,56,1,534,93,151,37,73,1360],\"y\":[0.03324698331399583,0.026332902930887934,0.030469137563298575,0.03444987576203394,0.04814619271239208,0.038066821299608235,0.03313890578532456,0.035480558776875615,0.03795740934127874,0.031156855638856097,0.05370249298547826,0.053043338860751556,0.049358568615201014,0.04046620173964342,0.04135830475866652,0.03482896954916652,0.04154041337618398,0.03462141000783664,0.046612718601797054,0.037526935207238,0.043719300306238565,0.045391643727781025,0.03855362113289444,0.05005819010027681,0.039473372363462364,0.03480637042849982,0.03369956604439408,0.0399559022002486,0.045554766209695396,0.0377710062570645,0.05345532201680157,0.049179364245239526,0.045038814489735374,0.042924297756840736,0.04001730686109394,0.040681947973510366,0.03255432649509493,0.039981091096421034,0.0503522003189274,0.03981101195489917,0.032811783069301007,0.049862294786565405,0.04851576479166418,0.02024138376707917,0.04170481583937038,0.04767053965435942,0.04313826063367159,0.03283938541515903,0.03278310247782083,0.037876718506305,0.040726692725909806,0.050762033934032155,0.04610049465209755,0.035598704019295734,0.044183615546848895,0.04990649894396905,0.04210634543158245,0.047338175501152914,0.05084595784289079,0.03654701218043085,0.042371475724924626,0.048460256440363954,0.052472475068935306,0.052887525248913415,0.04626885698320693,0.05317992334355266,0.04275097241274065,0.034748374854042384,0.052153755408722705,0.03966879729859924,0.03456739709318828,0.04381019379874547,0.04726398158402837,0.05265843147113376,0.05331823873229896,0.045087667532495476,0.020770348777273694,0.047398026686143964,0.0389465853039739,0.05219137903797115,0.04709926993082188,0.0508971605112515,0.05151212750052316,0.048758814503789674,0.04242500361269015,0.04710632376294343,0.03531964393831496,0.052457237175554304,0.045799822985578484,0.033738054775223146,0.0488217757697453,0.051946099320358693,0.05278336944453671,0.04705396776723112,0.049838598061873234,0.043675457175516186,0.04587686254833845,0.04662172783159644,0.05218017043087157,0.0494985524929483,0.04088362422565477,0.05221018954207535,0.05253647896025815,0.04302974775721296,0.04816109208279552,0.04896643161435016,0.045115575584085396,0.04286887657038844,0.04155131211473144,0.049748990510831904,0.03438504613986426,0.0528663253282279,0.04815928395451181,0.053184673529307856,0.051916487103832246,0.043299638979650404,0.04754727094759563,0.05076538637504058,0.04623849148207724,0.047417452844366215,0.02022282504685614,0.05026288773688968,0.048146784203736005,0.033965166850007285,0.051114131635104296,0.036454444441654986,0.05341465722787142,0.03552890563535609,0.03666385268601502,0.04671620191668675,0.053604758640113416,0.037257922932716854,0.05125645218515289,0.04907912984206813,0.052227000936113085,0.05341870658574962,0.04766486170283768,0.03341205827496927,0.050080152181557966,0.05328353864373002,0.0002664826418719655,0.05353499815479453,0.05007783008052824,0.020625866865305254,0.0368139763138582,0.04765859233065183,0.04512944980534381,0.05184343676719398,0.048504895493151595,0.0331849856244731],\"type\":\"scatter\",\"xaxis\":\"x4\",\"yaxis\":\"y4\"}],                        {\"template\":{\"data\":{\"histogram2dcontour\":[{\"type\":\"histogram2dcontour\",\"colorbar\":{\"outlinewidth\":0,\"ticks\":\"\"},\"colorscale\":[[0.0,\"#0d0887\"],[0.1111111111111111,\"#46039f\"],[0.2222222222222222,\"#7201a8\"],[0.3333333333333333,\"#9c179e\"],[0.4444444444444444,\"#bd3786\"],[0.5555555555555556,\"#d8576b\"],[0.6666666666666666,\"#ed7953\"],[0.7777777777777778,\"#fb9f3a\"],[0.8888888888888888,\"#fdca26\"],[1.0,\"#f0f921\"]]}],\"choropleth\":[{\"type\":\"choropleth\",\"colorbar\":{\"outlinewidth\":0,\"ticks\":\"\"}}],\"histogram2d\":[{\"type\":\"histogram2d\",\"colorbar\":{\"outlinewidth\":0,\"ticks\":\"\"},\"colorscale\":[[0.0,\"#0d0887\"],[0.1111111111111111,\"#46039f\"],[0.2222222222222222,\"#7201a8\"],[0.3333333333333333,\"#9c179e\"],[0.4444444444444444,\"#bd3786\"],[0.5555555555555556,\"#d8576b\"],[0.6666666666666666,\"#ed7953\"],[0.7777777777777778,\"#fb9f3a\"],[0.8888888888888888,\"#fdca26\"],[1.0,\"#f0f921\"]]}],\"heatmap\":[{\"type\":\"heatmap\",\"colorbar\":{\"outlinewidth\":0,\"ticks\":\"\"},\"colorscale\":[[0.0,\"#0d0887\"],[0.1111111111111111,\"#46039f\"],[0.2222222222222222,\"#7201a8\"],[0.3333333333333333,\"#9c179e\"],[0.4444444444444444,\"#bd3786\"],[0.5555555555555556,\"#d8576b\"],[0.6666666666666666,\"#ed7953\"],[0.7777777777777778,\"#fb9f3a\"],[0.8888888888888888,\"#fdca26\"],[1.0,\"#f0f921\"]]}],\"heatmapgl\":[{\"type\":\"heatmapgl\",\"colorbar\":{\"outlinewidth\":0,\"ticks\":\"\"},\"colorscale\":[[0.0,\"#0d0887\"],[0.1111111111111111,\"#46039f\"],[0.2222222222222222,\"#7201a8\"],[0.3333333333333333,\"#9c179e\"],[0.4444444444444444,\"#bd3786\"],[0.5555555555555556,\"#d8576b\"],[0.6666666666666666,\"#ed7953\"],[0.7777777777777778,\"#fb9f3a\"],[0.8888888888888888,\"#fdca26\"],[1.0,\"#f0f921\"]]}],\"contourcarpet\":[{\"type\":\"contourcarpet\",\"colorbar\":{\"outlinewidth\":0,\"ticks\":\"\"}}],\"contour\":[{\"type\":\"contour\",\"colorbar\":{\"outlinewidth\":0,\"ticks\":\"\"},\"colorscale\":[[0.0,\"#0d0887\"],[0.1111111111111111,\"#46039f\"],[0.2222222222222222,\"#7201a8\"],[0.3333333333333333,\"#9c179e\"],[0.4444444444444444,\"#bd3786\"],[0.5555555555555556,\"#d8576b\"],[0.6666666666666666,\"#ed7953\"],[0.7777777777777778,\"#fb9f3a\"],[0.8888888888888888,\"#fdca26\"],[1.0,\"#f0f921\"]]}],\"surface\":[{\"type\":\"surface\",\"colorbar\":{\"outlinewidth\":0,\"ticks\":\"\"},\"colorscale\":[[0.0,\"#0d0887\"],[0.1111111111111111,\"#46039f\"],[0.2222222222222222,\"#7201a8\"],[0.3333333333333333,\"#9c179e\"],[0.4444444444444444,\"#bd3786\"],[0.5555555555555556,\"#d8576b\"],[0.6666666666666666,\"#ed7953\"],[0.7777777777777778,\"#fb9f3a\"],[0.8888888888888888,\"#fdca26\"],[1.0,\"#f0f921\"]]}],\"mesh3d\":[{\"type\":\"mesh3d\",\"colorbar\":{\"outlinewidth\":0,\"ticks\":\"\"}}],\"scatter\":[{\"fillpattern\":{\"fillmode\":\"overlay\",\"size\":10,\"solidity\":0.2},\"type\":\"scatter\"}],\"parcoords\":[{\"type\":\"parcoords\",\"line\":{\"colorbar\":{\"outlinewidth\":0,\"ticks\":\"\"}}}],\"scatterpolargl\":[{\"type\":\"scatterpolargl\",\"marker\":{\"colorbar\":{\"outlinewidth\":0,\"ticks\":\"\"}}}],\"bar\":[{\"error_x\":{\"color\":\"#2a3f5f\"},\"error_y\":{\"color\":\"#2a3f5f\"},\"marker\":{\"line\":{\"color\":\"#E5ECF6\",\"width\":0.5},\"pattern\":{\"fillmode\":\"overlay\",\"size\":10,\"solidity\":0.2}},\"type\":\"bar\"}],\"scattergeo\":[{\"type\":\"scattergeo\",\"marker\":{\"colorbar\":{\"outlinewidth\":0,\"ticks\":\"\"}}}],\"scatterpolar\":[{\"type\":\"scatterpolar\",\"marker\":{\"colorbar\":{\"outlinewidth\":0,\"ticks\":\"\"}}}],\"histogram\":[{\"marker\":{\"pattern\":{\"fillmode\":\"overlay\",\"size\":10,\"solidity\":0.2}},\"type\":\"histogram\"}],\"scattergl\":[{\"type\":\"scattergl\",\"marker\":{\"colorbar\":{\"outlinewidth\":0,\"ticks\":\"\"}}}],\"scatter3d\":[{\"type\":\"scatter3d\",\"line\":{\"colorbar\":{\"outlinewidth\":0,\"ticks\":\"\"}},\"marker\":{\"colorbar\":{\"outlinewidth\":0,\"ticks\":\"\"}}}],\"scattermapbox\":[{\"type\":\"scattermapbox\",\"marker\":{\"colorbar\":{\"outlinewidth\":0,\"ticks\":\"\"}}}],\"scatterternary\":[{\"type\":\"scatterternary\",\"marker\":{\"colorbar\":{\"outlinewidth\":0,\"ticks\":\"\"}}}],\"scattercarpet\":[{\"type\":\"scattercarpet\",\"marker\":{\"colorbar\":{\"outlinewidth\":0,\"ticks\":\"\"}}}],\"carpet\":[{\"aaxis\":{\"endlinecolor\":\"#2a3f5f\",\"gridcolor\":\"white\",\"linecolor\":\"white\",\"minorgridcolor\":\"white\",\"startlinecolor\":\"#2a3f5f\"},\"baxis\":{\"endlinecolor\":\"#2a3f5f\",\"gridcolor\":\"white\",\"linecolor\":\"white\",\"minorgridcolor\":\"white\",\"startlinecolor\":\"#2a3f5f\"},\"type\":\"carpet\"}],\"table\":[{\"cells\":{\"fill\":{\"color\":\"#EBF0F8\"},\"line\":{\"color\":\"white\"}},\"header\":{\"fill\":{\"color\":\"#C8D4E3\"},\"line\":{\"color\":\"white\"}},\"type\":\"table\"}],\"barpolar\":[{\"marker\":{\"line\":{\"color\":\"#E5ECF6\",\"width\":0.5},\"pattern\":{\"fillmode\":\"overlay\",\"size\":10,\"solidity\":0.2}},\"type\":\"barpolar\"}],\"pie\":[{\"automargin\":true,\"type\":\"pie\"}]},\"layout\":{\"autotypenumbers\":\"strict\",\"colorway\":[\"#636efa\",\"#EF553B\",\"#00cc96\",\"#ab63fa\",\"#FFA15A\",\"#19d3f3\",\"#FF6692\",\"#B6E880\",\"#FF97FF\",\"#FECB52\"],\"font\":{\"color\":\"#2a3f5f\"},\"hovermode\":\"closest\",\"hoverlabel\":{\"align\":\"left\"},\"paper_bgcolor\":\"white\",\"plot_bgcolor\":\"#E5ECF6\",\"polar\":{\"bgcolor\":\"#E5ECF6\",\"angularaxis\":{\"gridcolor\":\"white\",\"linecolor\":\"white\",\"ticks\":\"\"},\"radialaxis\":{\"gridcolor\":\"white\",\"linecolor\":\"white\",\"ticks\":\"\"}},\"ternary\":{\"bgcolor\":\"#E5ECF6\",\"aaxis\":{\"gridcolor\":\"white\",\"linecolor\":\"white\",\"ticks\":\"\"},\"baxis\":{\"gridcolor\":\"white\",\"linecolor\":\"white\",\"ticks\":\"\"},\"caxis\":{\"gridcolor\":\"white\",\"linecolor\":\"white\",\"ticks\":\"\"}},\"coloraxis\":{\"colorbar\":{\"outlinewidth\":0,\"ticks\":\"\"}},\"colorscale\":{\"sequential\":[[0.0,\"#0d0887\"],[0.1111111111111111,\"#46039f\"],[0.2222222222222222,\"#7201a8\"],[0.3333333333333333,\"#9c179e\"],[0.4444444444444444,\"#bd3786\"],[0.5555555555555556,\"#d8576b\"],[0.6666666666666666,\"#ed7953\"],[0.7777777777777778,\"#fb9f3a\"],[0.8888888888888888,\"#fdca26\"],[1.0,\"#f0f921\"]],\"sequentialminus\":[[0.0,\"#0d0887\"],[0.1111111111111111,\"#46039f\"],[0.2222222222222222,\"#7201a8\"],[0.3333333333333333,\"#9c179e\"],[0.4444444444444444,\"#bd3786\"],[0.5555555555555556,\"#d8576b\"],[0.6666666666666666,\"#ed7953\"],[0.7777777777777778,\"#fb9f3a\"],[0.8888888888888888,\"#fdca26\"],[1.0,\"#f0f921\"]],\"diverging\":[[0,\"#8e0152\"],[0.1,\"#c51b7d\"],[0.2,\"#de77ae\"],[0.3,\"#f1b6da\"],[0.4,\"#fde0ef\"],[0.5,\"#f7f7f7\"],[0.6,\"#e6f5d0\"],[0.7,\"#b8e186\"],[0.8,\"#7fbc41\"],[0.9,\"#4d9221\"],[1,\"#276419\"]]},\"xaxis\":{\"gridcolor\":\"white\",\"linecolor\":\"white\",\"ticks\":\"\",\"title\":{\"standoff\":15},\"zerolinecolor\":\"white\",\"automargin\":true,\"zerolinewidth\":2},\"yaxis\":{\"gridcolor\":\"white\",\"linecolor\":\"white\",\"ticks\":\"\",\"title\":{\"standoff\":15},\"zerolinecolor\":\"white\",\"automargin\":true,\"zerolinewidth\":2},\"scene\":{\"xaxis\":{\"backgroundcolor\":\"#E5ECF6\",\"gridcolor\":\"white\",\"linecolor\":\"white\",\"showbackground\":true,\"ticks\":\"\",\"zerolinecolor\":\"white\",\"gridwidth\":2},\"yaxis\":{\"backgroundcolor\":\"#E5ECF6\",\"gridcolor\":\"white\",\"linecolor\":\"white\",\"showbackground\":true,\"ticks\":\"\",\"zerolinecolor\":\"white\",\"gridwidth\":2},\"zaxis\":{\"backgroundcolor\":\"#E5ECF6\",\"gridcolor\":\"white\",\"linecolor\":\"white\",\"showbackground\":true,\"ticks\":\"\",\"zerolinecolor\":\"white\",\"gridwidth\":2}},\"shapedefaults\":{\"line\":{\"color\":\"#2a3f5f\"}},\"annotationdefaults\":{\"arrowcolor\":\"#2a3f5f\",\"arrowhead\":0,\"arrowwidth\":1},\"geo\":{\"bgcolor\":\"white\",\"landcolor\":\"#E5ECF6\",\"subunitcolor\":\"white\",\"showland\":true,\"showlakes\":true,\"lakecolor\":\"white\"},\"title\":{\"x\":0.05},\"mapbox\":{\"style\":\"light\"}}},\"xaxis\":{\"anchor\":\"y\",\"domain\":[0.0,0.2125],\"title\":{\"text\":\"alpha\"}},\"yaxis\":{\"anchor\":\"x\",\"domain\":[0.0,1.0],\"title\":{\"text\":\"Objective Value\"}},\"xaxis2\":{\"anchor\":\"y2\",\"domain\":[0.2625,0.475],\"title\":{\"text\":\"implicit\"},\"type\":\"category\",\"categoryorder\":\"array\",\"categoryarray\":[true,false]},\"yaxis2\":{\"anchor\":\"x2\",\"domain\":[0.0,1.0],\"matches\":\"y\",\"showticklabels\":false},\"xaxis3\":{\"anchor\":\"y3\",\"domain\":[0.525,0.7375],\"title\":{\"text\":\"normalize_similarity\"},\"type\":\"category\",\"categoryorder\":\"array\",\"categoryarray\":[true,false]},\"yaxis3\":{\"anchor\":\"x3\",\"domain\":[0.0,1.0],\"matches\":\"y\",\"showticklabels\":false},\"xaxis4\":{\"anchor\":\"y4\",\"domain\":[0.7875,1.0],\"title\":{\"text\":\"topK\"}},\"yaxis4\":{\"anchor\":\"x4\",\"domain\":[0.0,1.0],\"matches\":\"y\",\"showticklabels\":false},\"title\":{\"text\":\"Slice Plot\"},\"width\":1200},                        {\"responsive\": true}                    ).then(function(){\n",
       "                            \n",
       "var gd = document.getElementById('eb39ff98-19ff-4b73-97bd-0c0b32f0ab04');\n",
       "var x = new MutationObserver(function (mutations, observer) {{\n",
       "        var display = window.getComputedStyle(gd).display;\n",
       "        if (!display || display === 'none') {{\n",
       "            console.log([gd, 'removed!']);\n",
       "            Plotly.purge(gd);\n",
       "            observer.disconnect();\n",
       "        }}\n",
       "}});\n",
       "\n",
       "// Listen for the removal of the full notebook cells\n",
       "var notebookContainer = gd.closest('#notebook-container');\n",
       "if (notebookContainer) {{\n",
       "    x.observe(notebookContainer, {childList: true});\n",
       "}}\n",
       "\n",
       "// Listen for the clearing of the current output cell\n",
       "var outputEl = gd.closest('.output');\n",
       "if (outputEl) {{\n",
       "    x.observe(outputEl, {childList: true});\n",
       "}}\n",
       "\n",
       "                        })                };                            </script>        </div>\n",
       "</body>\n",
       "</html>"
      ]
     },
     "metadata": {},
     "output_type": "display_data"
    }
   ],
   "source": [
    "if not config['tune_parameters']:\n",
    "    optuna_study = optuna.load_study(study_name=f'hyperparameters_tuning_{config[\"model\"]}_{config[\"metric\"]}', storage=f'sqlite:///{config[\"database_path\"]}')\n",
    "    \n",
    "fig = optuna.visualization.plot_slice(optuna_study)\n",
    "fig.show()"
   ]
  },
  {
   "cell_type": "code",
   "execution_count": 15,
   "id": "16e2fc26",
   "metadata": {
    "execution": {
     "iopub.execute_input": "2025-01-05T15:09:38.109413Z",
     "iopub.status.busy": "2025-01-05T15:09:38.109013Z",
     "iopub.status.idle": "2025-01-05T15:09:40.142446Z",
     "shell.execute_reply": "2025-01-05T15:09:40.141315Z"
    },
    "papermill": {
     "duration": 2.095664,
     "end_time": "2025-01-05T15:09:40.144243",
     "exception": false,
     "start_time": "2025-01-05T15:09:38.048579",
     "status": "completed"
    },
    "tags": []
   },
   "outputs": [
    {
     "data": {
      "text/html": [
       "<html>\n",
       "<head><meta charset=\"utf-8\" /></head>\n",
       "<body>\n",
       "    <div>            <script src=\"https://cdnjs.cloudflare.com/ajax/libs/mathjax/2.7.5/MathJax.js?config=TeX-AMS-MML_SVG\"></script><script type=\"text/javascript\">if (window.MathJax && window.MathJax.Hub && window.MathJax.Hub.Config) {window.MathJax.Hub.Config({SVG: {font: \"STIX-Web\"}});}</script>                <script type=\"text/javascript\">window.PlotlyConfig = {MathJaxConfig: 'local'};</script>\n",
       "        <script charset=\"utf-8\" src=\"https://cdn.plot.ly/plotly-2.35.2.min.js\"></script>                <div id=\"deaaa2d2-c347-4be0-9618-4a3f797824ba\" class=\"plotly-graph-div\" style=\"height:525px; width:100%;\"></div>            <script type=\"text/javascript\">                                    window.PLOTLYENV=window.PLOTLYENV || {};                                    if (document.getElementById(\"deaaa2d2-c347-4be0-9618-4a3f797824ba\")) {                    Plotly.newPlot(                        \"deaaa2d2-c347-4be0-9618-4a3f797824ba\",                        [{\"cliponaxis\":false,\"hovertemplate\":[\"implicit (CategoricalDistribution): 0.015930811545006675\\u003cextra\\u003e\\u003c\\u002fextra\\u003e\",\"normalize_similarity (CategoricalDistribution): 0.04564095081303728\\u003cextra\\u003e\\u003c\\u002fextra\\u003e\",\"alpha (FloatDistribution): 0.11230171561707213\\u003cextra\\u003e\\u003c\\u002fextra\\u003e\",\"topK (IntDistribution): 0.8261265220248839\\u003cextra\\u003e\\u003c\\u002fextra\\u003e\"],\"name\":\"Objective Value\",\"orientation\":\"h\",\"text\":[\"0.02\",\"0.05\",\"0.11\",\"0.83\"],\"textposition\":\"outside\",\"x\":[0.015930811545006675,0.04564095081303728,0.11230171561707213,0.8261265220248839],\"y\":[\"implicit\",\"normalize_similarity\",\"alpha\",\"topK\"],\"type\":\"bar\"}],                        {\"title\":{\"text\":\"Hyperparameter Importances\"},\"xaxis\":{\"title\":{\"text\":\"Hyperparameter Importance\"}},\"yaxis\":{\"title\":{\"text\":\"Hyperparameter\"}},\"template\":{\"data\":{\"histogram2dcontour\":[{\"type\":\"histogram2dcontour\",\"colorbar\":{\"outlinewidth\":0,\"ticks\":\"\"},\"colorscale\":[[0.0,\"#0d0887\"],[0.1111111111111111,\"#46039f\"],[0.2222222222222222,\"#7201a8\"],[0.3333333333333333,\"#9c179e\"],[0.4444444444444444,\"#bd3786\"],[0.5555555555555556,\"#d8576b\"],[0.6666666666666666,\"#ed7953\"],[0.7777777777777778,\"#fb9f3a\"],[0.8888888888888888,\"#fdca26\"],[1.0,\"#f0f921\"]]}],\"choropleth\":[{\"type\":\"choropleth\",\"colorbar\":{\"outlinewidth\":0,\"ticks\":\"\"}}],\"histogram2d\":[{\"type\":\"histogram2d\",\"colorbar\":{\"outlinewidth\":0,\"ticks\":\"\"},\"colorscale\":[[0.0,\"#0d0887\"],[0.1111111111111111,\"#46039f\"],[0.2222222222222222,\"#7201a8\"],[0.3333333333333333,\"#9c179e\"],[0.4444444444444444,\"#bd3786\"],[0.5555555555555556,\"#d8576b\"],[0.6666666666666666,\"#ed7953\"],[0.7777777777777778,\"#fb9f3a\"],[0.8888888888888888,\"#fdca26\"],[1.0,\"#f0f921\"]]}],\"heatmap\":[{\"type\":\"heatmap\",\"colorbar\":{\"outlinewidth\":0,\"ticks\":\"\"},\"colorscale\":[[0.0,\"#0d0887\"],[0.1111111111111111,\"#46039f\"],[0.2222222222222222,\"#7201a8\"],[0.3333333333333333,\"#9c179e\"],[0.4444444444444444,\"#bd3786\"],[0.5555555555555556,\"#d8576b\"],[0.6666666666666666,\"#ed7953\"],[0.7777777777777778,\"#fb9f3a\"],[0.8888888888888888,\"#fdca26\"],[1.0,\"#f0f921\"]]}],\"heatmapgl\":[{\"type\":\"heatmapgl\",\"colorbar\":{\"outlinewidth\":0,\"ticks\":\"\"},\"colorscale\":[[0.0,\"#0d0887\"],[0.1111111111111111,\"#46039f\"],[0.2222222222222222,\"#7201a8\"],[0.3333333333333333,\"#9c179e\"],[0.4444444444444444,\"#bd3786\"],[0.5555555555555556,\"#d8576b\"],[0.6666666666666666,\"#ed7953\"],[0.7777777777777778,\"#fb9f3a\"],[0.8888888888888888,\"#fdca26\"],[1.0,\"#f0f921\"]]}],\"contourcarpet\":[{\"type\":\"contourcarpet\",\"colorbar\":{\"outlinewidth\":0,\"ticks\":\"\"}}],\"contour\":[{\"type\":\"contour\",\"colorbar\":{\"outlinewidth\":0,\"ticks\":\"\"},\"colorscale\":[[0.0,\"#0d0887\"],[0.1111111111111111,\"#46039f\"],[0.2222222222222222,\"#7201a8\"],[0.3333333333333333,\"#9c179e\"],[0.4444444444444444,\"#bd3786\"],[0.5555555555555556,\"#d8576b\"],[0.6666666666666666,\"#ed7953\"],[0.7777777777777778,\"#fb9f3a\"],[0.8888888888888888,\"#fdca26\"],[1.0,\"#f0f921\"]]}],\"surface\":[{\"type\":\"surface\",\"colorbar\":{\"outlinewidth\":0,\"ticks\":\"\"},\"colorscale\":[[0.0,\"#0d0887\"],[0.1111111111111111,\"#46039f\"],[0.2222222222222222,\"#7201a8\"],[0.3333333333333333,\"#9c179e\"],[0.4444444444444444,\"#bd3786\"],[0.5555555555555556,\"#d8576b\"],[0.6666666666666666,\"#ed7953\"],[0.7777777777777778,\"#fb9f3a\"],[0.8888888888888888,\"#fdca26\"],[1.0,\"#f0f921\"]]}],\"mesh3d\":[{\"type\":\"mesh3d\",\"colorbar\":{\"outlinewidth\":0,\"ticks\":\"\"}}],\"scatter\":[{\"fillpattern\":{\"fillmode\":\"overlay\",\"size\":10,\"solidity\":0.2},\"type\":\"scatter\"}],\"parcoords\":[{\"type\":\"parcoords\",\"line\":{\"colorbar\":{\"outlinewidth\":0,\"ticks\":\"\"}}}],\"scatterpolargl\":[{\"type\":\"scatterpolargl\",\"marker\":{\"colorbar\":{\"outlinewidth\":0,\"ticks\":\"\"}}}],\"bar\":[{\"error_x\":{\"color\":\"#2a3f5f\"},\"error_y\":{\"color\":\"#2a3f5f\"},\"marker\":{\"line\":{\"color\":\"#E5ECF6\",\"width\":0.5},\"pattern\":{\"fillmode\":\"overlay\",\"size\":10,\"solidity\":0.2}},\"type\":\"bar\"}],\"scattergeo\":[{\"type\":\"scattergeo\",\"marker\":{\"colorbar\":{\"outlinewidth\":0,\"ticks\":\"\"}}}],\"scatterpolar\":[{\"type\":\"scatterpolar\",\"marker\":{\"colorbar\":{\"outlinewidth\":0,\"ticks\":\"\"}}}],\"histogram\":[{\"marker\":{\"pattern\":{\"fillmode\":\"overlay\",\"size\":10,\"solidity\":0.2}},\"type\":\"histogram\"}],\"scattergl\":[{\"type\":\"scattergl\",\"marker\":{\"colorbar\":{\"outlinewidth\":0,\"ticks\":\"\"}}}],\"scatter3d\":[{\"type\":\"scatter3d\",\"line\":{\"colorbar\":{\"outlinewidth\":0,\"ticks\":\"\"}},\"marker\":{\"colorbar\":{\"outlinewidth\":0,\"ticks\":\"\"}}}],\"scattermapbox\":[{\"type\":\"scattermapbox\",\"marker\":{\"colorbar\":{\"outlinewidth\":0,\"ticks\":\"\"}}}],\"scatterternary\":[{\"type\":\"scatterternary\",\"marker\":{\"colorbar\":{\"outlinewidth\":0,\"ticks\":\"\"}}}],\"scattercarpet\":[{\"type\":\"scattercarpet\",\"marker\":{\"colorbar\":{\"outlinewidth\":0,\"ticks\":\"\"}}}],\"carpet\":[{\"aaxis\":{\"endlinecolor\":\"#2a3f5f\",\"gridcolor\":\"white\",\"linecolor\":\"white\",\"minorgridcolor\":\"white\",\"startlinecolor\":\"#2a3f5f\"},\"baxis\":{\"endlinecolor\":\"#2a3f5f\",\"gridcolor\":\"white\",\"linecolor\":\"white\",\"minorgridcolor\":\"white\",\"startlinecolor\":\"#2a3f5f\"},\"type\":\"carpet\"}],\"table\":[{\"cells\":{\"fill\":{\"color\":\"#EBF0F8\"},\"line\":{\"color\":\"white\"}},\"header\":{\"fill\":{\"color\":\"#C8D4E3\"},\"line\":{\"color\":\"white\"}},\"type\":\"table\"}],\"barpolar\":[{\"marker\":{\"line\":{\"color\":\"#E5ECF6\",\"width\":0.5},\"pattern\":{\"fillmode\":\"overlay\",\"size\":10,\"solidity\":0.2}},\"type\":\"barpolar\"}],\"pie\":[{\"automargin\":true,\"type\":\"pie\"}]},\"layout\":{\"autotypenumbers\":\"strict\",\"colorway\":[\"#636efa\",\"#EF553B\",\"#00cc96\",\"#ab63fa\",\"#FFA15A\",\"#19d3f3\",\"#FF6692\",\"#B6E880\",\"#FF97FF\",\"#FECB52\"],\"font\":{\"color\":\"#2a3f5f\"},\"hovermode\":\"closest\",\"hoverlabel\":{\"align\":\"left\"},\"paper_bgcolor\":\"white\",\"plot_bgcolor\":\"#E5ECF6\",\"polar\":{\"bgcolor\":\"#E5ECF6\",\"angularaxis\":{\"gridcolor\":\"white\",\"linecolor\":\"white\",\"ticks\":\"\"},\"radialaxis\":{\"gridcolor\":\"white\",\"linecolor\":\"white\",\"ticks\":\"\"}},\"ternary\":{\"bgcolor\":\"#E5ECF6\",\"aaxis\":{\"gridcolor\":\"white\",\"linecolor\":\"white\",\"ticks\":\"\"},\"baxis\":{\"gridcolor\":\"white\",\"linecolor\":\"white\",\"ticks\":\"\"},\"caxis\":{\"gridcolor\":\"white\",\"linecolor\":\"white\",\"ticks\":\"\"}},\"coloraxis\":{\"colorbar\":{\"outlinewidth\":0,\"ticks\":\"\"}},\"colorscale\":{\"sequential\":[[0.0,\"#0d0887\"],[0.1111111111111111,\"#46039f\"],[0.2222222222222222,\"#7201a8\"],[0.3333333333333333,\"#9c179e\"],[0.4444444444444444,\"#bd3786\"],[0.5555555555555556,\"#d8576b\"],[0.6666666666666666,\"#ed7953\"],[0.7777777777777778,\"#fb9f3a\"],[0.8888888888888888,\"#fdca26\"],[1.0,\"#f0f921\"]],\"sequentialminus\":[[0.0,\"#0d0887\"],[0.1111111111111111,\"#46039f\"],[0.2222222222222222,\"#7201a8\"],[0.3333333333333333,\"#9c179e\"],[0.4444444444444444,\"#bd3786\"],[0.5555555555555556,\"#d8576b\"],[0.6666666666666666,\"#ed7953\"],[0.7777777777777778,\"#fb9f3a\"],[0.8888888888888888,\"#fdca26\"],[1.0,\"#f0f921\"]],\"diverging\":[[0,\"#8e0152\"],[0.1,\"#c51b7d\"],[0.2,\"#de77ae\"],[0.3,\"#f1b6da\"],[0.4,\"#fde0ef\"],[0.5,\"#f7f7f7\"],[0.6,\"#e6f5d0\"],[0.7,\"#b8e186\"],[0.8,\"#7fbc41\"],[0.9,\"#4d9221\"],[1,\"#276419\"]]},\"xaxis\":{\"gridcolor\":\"white\",\"linecolor\":\"white\",\"ticks\":\"\",\"title\":{\"standoff\":15},\"zerolinecolor\":\"white\",\"automargin\":true,\"zerolinewidth\":2},\"yaxis\":{\"gridcolor\":\"white\",\"linecolor\":\"white\",\"ticks\":\"\",\"title\":{\"standoff\":15},\"zerolinecolor\":\"white\",\"automargin\":true,\"zerolinewidth\":2},\"scene\":{\"xaxis\":{\"backgroundcolor\":\"#E5ECF6\",\"gridcolor\":\"white\",\"linecolor\":\"white\",\"showbackground\":true,\"ticks\":\"\",\"zerolinecolor\":\"white\",\"gridwidth\":2},\"yaxis\":{\"backgroundcolor\":\"#E5ECF6\",\"gridcolor\":\"white\",\"linecolor\":\"white\",\"showbackground\":true,\"ticks\":\"\",\"zerolinecolor\":\"white\",\"gridwidth\":2},\"zaxis\":{\"backgroundcolor\":\"#E5ECF6\",\"gridcolor\":\"white\",\"linecolor\":\"white\",\"showbackground\":true,\"ticks\":\"\",\"zerolinecolor\":\"white\",\"gridwidth\":2}},\"shapedefaults\":{\"line\":{\"color\":\"#2a3f5f\"}},\"annotationdefaults\":{\"arrowcolor\":\"#2a3f5f\",\"arrowhead\":0,\"arrowwidth\":1},\"geo\":{\"bgcolor\":\"white\",\"landcolor\":\"#E5ECF6\",\"subunitcolor\":\"white\",\"showland\":true,\"showlakes\":true,\"lakecolor\":\"white\"},\"title\":{\"x\":0.05},\"mapbox\":{\"style\":\"light\"}}}},                        {\"responsive\": true}                    ).then(function(){\n",
       "                            \n",
       "var gd = document.getElementById('deaaa2d2-c347-4be0-9618-4a3f797824ba');\n",
       "var x = new MutationObserver(function (mutations, observer) {{\n",
       "        var display = window.getComputedStyle(gd).display;\n",
       "        if (!display || display === 'none') {{\n",
       "            console.log([gd, 'removed!']);\n",
       "            Plotly.purge(gd);\n",
       "            observer.disconnect();\n",
       "        }}\n",
       "}});\n",
       "\n",
       "// Listen for the removal of the full notebook cells\n",
       "var notebookContainer = gd.closest('#notebook-container');\n",
       "if (notebookContainer) {{\n",
       "    x.observe(notebookContainer, {childList: true});\n",
       "}}\n",
       "\n",
       "// Listen for the clearing of the current output cell\n",
       "var outputEl = gd.closest('.output');\n",
       "if (outputEl) {{\n",
       "    x.observe(outputEl, {childList: true});\n",
       "}}\n",
       "\n",
       "                        })                };                            </script>        </div>\n",
       "</body>\n",
       "</html>"
      ]
     },
     "metadata": {},
     "output_type": "display_data"
    }
   ],
   "source": [
    "if not config['tune_parameters']:\n",
    "    optuna_study = optuna.load_study(study_name=f'hyperparameters_tuning_{config[\"model\"]}_{config[\"metric\"]}', storage=f'sqlite:///{config[\"database_path\"]}')\n",
    "    \n",
    "fig = optuna.visualization.plot_param_importances(optuna_study)\n",
    "fig.show()"
   ]
  },
  {
   "cell_type": "markdown",
   "id": "59dc4a7a",
   "metadata": {
    "papermill": {
     "duration": 0.059776,
     "end_time": "2025-01-05T15:09:40.264460",
     "exception": false,
     "start_time": "2025-01-05T15:09:40.204684",
     "status": "completed"
    },
    "tags": []
   },
   "source": [
    "## Let's train the recommender with best parameter values"
   ]
  },
  {
   "cell_type": "code",
   "execution_count": 16,
   "id": "4440873a",
   "metadata": {
    "execution": {
     "iopub.execute_input": "2025-01-05T15:09:40.386268Z",
     "iopub.status.busy": "2025-01-05T15:09:40.385913Z",
     "iopub.status.idle": "2025-01-05T15:09:59.522994Z",
     "shell.execute_reply": "2025-01-05T15:09:59.522038Z"
    },
    "papermill": {
     "duration": 19.200664,
     "end_time": "2025-01-05T15:09:59.524994",
     "exception": false,
     "start_time": "2025-01-05T15:09:40.324330",
     "status": "completed"
    },
    "tags": []
   },
   "outputs": [
    {
     "name": "stdout",
     "output_type": "stream",
     "text": [
      "P3alphaRecommender: Similarity column 38121 (100.0%), 2115.43 column/sec. Elapsed time 18.02 sec\n"
     ]
    }
   ],
   "source": [
    "if config['tune_best_params']:\n",
    "\n",
    "    if config['tune_parameters']:\n",
    "        best_params = optuna_study.best_trial.params\n",
    "    else: \n",
    "        with open(f'{K_PATH}/{GH_PATH}/{config[\"model\"]}Recommender/Optimizing{config[\"metric\"]}/best_params_{config[\"model\"]}_{config[\"metric\"]}.json', 'r') as best_params_json:\n",
    "            best_params = json.load(best_params_json)\n",
    "\n",
    "    recommender_instance = P3alphaRecommender(URM_train + URM_validation)\n",
    "    recommender_instance.fit(**best_params)"
   ]
  },
  {
   "cell_type": "markdown",
   "id": "e1469642",
   "metadata": {
    "papermill": {
     "duration": 0.059469,
     "end_time": "2025-01-05T15:09:59.643877",
     "exception": false,
     "start_time": "2025-01-05T15:09:59.584408",
     "status": "completed"
    },
    "tags": []
   },
   "source": [
    "# Testing"
   ]
  },
  {
   "cell_type": "markdown",
   "id": "9dd68919",
   "metadata": {
    "papermill": {
     "duration": 0.059744,
     "end_time": "2025-01-05T15:09:59.765042",
     "exception": false,
     "start_time": "2025-01-05T15:09:59.705298",
     "status": "completed"
    },
    "tags": []
   },
   "source": [
    "Create the recommendations for the submission. "
   ]
  },
  {
   "cell_type": "code",
   "execution_count": 17,
   "id": "4ce289f8",
   "metadata": {
    "execution": {
     "iopub.execute_input": "2025-01-05T15:09:59.885514Z",
     "iopub.status.busy": "2025-01-05T15:09:59.885171Z",
     "iopub.status.idle": "2025-01-05T15:10:17.878871Z",
     "shell.execute_reply": "2025-01-05T15:10:17.877625Z"
    },
    "papermill": {
     "duration": 18.056279,
     "end_time": "2025-01-05T15:10:17.880976",
     "exception": false,
     "start_time": "2025-01-05T15:09:59.824697",
     "status": "completed"
    },
    "tags": []
   },
   "outputs": [
    {
     "name": "stdout",
     "output_type": "stream",
     "text": [
      "Submission file saved as /kaggle/working/submission_P3alpha_MAP.csv\n"
     ]
    }
   ],
   "source": [
    "if config['tune_best_params']:\n",
    "\n",
    "    data_target_users_test = pd.read_csv('/kaggle/input/recommender-system-2024-challenge-polimi/data_target_users_test.csv')\n",
    "    create_submission(data_target_users_test, recommender_instance, f'/kaggle/working/submission_{config[\"model\"]}_{config[\"metric\"]}.csv')"
   ]
  },
  {
   "cell_type": "markdown",
   "id": "d5f22d9f",
   "metadata": {
    "execution": {
     "iopub.execute_input": "2024-11-14T00:04:16.877791Z",
     "iopub.status.busy": "2024-11-14T00:04:16.877275Z",
     "iopub.status.idle": "2024-11-14T00:04:16.883170Z",
     "shell.execute_reply": "2024-11-14T00:04:16.881889Z",
     "shell.execute_reply.started": "2024-11-14T00:04:16.877743Z"
    },
    "papermill": {
     "duration": 0.060145,
     "end_time": "2025-01-05T15:10:18.003047",
     "exception": false,
     "start_time": "2025-01-05T15:10:17.942902",
     "status": "completed"
    },
    "tags": []
   },
   "source": [
    "# Save Version on GitHub "
   ]
  },
  {
   "cell_type": "markdown",
   "id": "fc7a4659",
   "metadata": {
    "papermill": {
     "duration": 0.060091,
     "end_time": "2025-01-05T15:10:18.123002",
     "exception": false,
     "start_time": "2025-01-05T15:10:18.062911",
     "status": "completed"
    },
    "tags": []
   },
   "source": [
    "Write or import a json file where best hyperparameters are saved. "
   ]
  },
  {
   "cell_type": "code",
   "execution_count": 18,
   "id": "8fa2b0c3",
   "metadata": {
    "execution": {
     "iopub.execute_input": "2025-01-05T15:10:18.243465Z",
     "iopub.status.busy": "2025-01-05T15:10:18.243108Z",
     "iopub.status.idle": "2025-01-05T15:10:19.481263Z",
     "shell.execute_reply": "2025-01-05T15:10:19.480140Z"
    },
    "papermill": {
     "duration": 1.300519,
     "end_time": "2025-01-05T15:10:19.483031",
     "exception": false,
     "start_time": "2025-01-05T15:10:18.182512",
     "status": "completed"
    },
    "tags": []
   },
   "outputs": [
    {
     "name": "stdout",
     "output_type": "stream",
     "text": [
      "File 'TrainedModels/WithKFCV/GraphBased/P3alphaRecommender/OptimizingMAP/best_params_P3alpha_MAP.json' updated successfully.\n"
     ]
    }
   ],
   "source": [
    "if config['tune_parameters']:\n",
    "    with open(f'/kaggle/working/best_params_{config[\"model\"]}_{config[\"metric\"]}.json', 'w') as params_file:\n",
    "        json.dump(optuna_study.best_params, params_file)\n",
    "        \n",
    "    if config['save_github']:\n",
    "        upload_file(\n",
    "            f'/kaggle/working/best_params_{config[\"model\"]}_{config[\"metric\"]}.json', \n",
    "            f'{GH_PATH}/{config[\"model\"]}Recommender/Optimizing{config[\"metric\"]}/best_params_{config[\"model\"]}_{config[\"metric\"]}.json', \n",
    "            f'{config[\"model\"]}_{config[\"metric\"]} tuning results (from kaggle notebook)',\n",
    "            repo\n",
    "        )\n",
    "elif config['copy_prev_best_params']:\n",
    "    shutil.copyfile(\n",
    "        f'{K_PATH}/{GH_PATH}/{config[\"model\"]}Recommender/Optimizing{config[\"metric\"]}/'\\\n",
    "        f'best_params_{config[\"model\"]}_{config[\"metric\"]}.json', \n",
    "        f'/kaggle/working/best_params_{config[\"model\"]}_{config[\"metric\"]}.json'\n",
    "    )"
   ]
  },
  {
   "cell_type": "markdown",
   "id": "1c66a9ab",
   "metadata": {
    "execution": {
     "iopub.execute_input": "2024-11-14T00:41:34.294243Z",
     "iopub.status.busy": "2024-11-14T00:41:34.293739Z",
     "iopub.status.idle": "2024-11-14T00:41:34.301478Z",
     "shell.execute_reply": "2024-11-14T00:41:34.299869Z",
     "shell.execute_reply.started": "2024-11-14T00:41:34.294186Z"
    },
    "papermill": {
     "duration": 0.059846,
     "end_time": "2025-01-05T15:10:19.602936",
     "exception": false,
     "start_time": "2025-01-05T15:10:19.543090",
     "status": "completed"
    },
    "tags": []
   },
   "source": [
    "Save the history of the tuned model."
   ]
  },
  {
   "cell_type": "code",
   "execution_count": 19,
   "id": "998f07ad",
   "metadata": {
    "execution": {
     "iopub.execute_input": "2025-01-05T15:10:19.724378Z",
     "iopub.status.busy": "2025-01-05T15:10:19.723997Z",
     "iopub.status.idle": "2025-01-05T15:10:21.577908Z",
     "shell.execute_reply": "2025-01-05T15:10:21.576622Z"
    },
    "papermill": {
     "duration": 1.916882,
     "end_time": "2025-01-05T15:10:21.579896",
     "exception": false,
     "start_time": "2025-01-05T15:10:19.663014",
     "status": "completed"
    },
    "tags": []
   },
   "outputs": [
    {
     "name": "stdout",
     "output_type": "stream",
     "text": [
      "File 'TrainedModels/WithKFCV/GraphBased/P3alphaRecommender/OptimizingMAP/history_P3alpha_MAP.db' updated successfully.\n"
     ]
    }
   ],
   "source": [
    "if config['save_github'] and config['tune_parameters']:\n",
    "    upload_file(\n",
    "        config['database_path'], \n",
    "        f'{GH_PATH}/{config[\"model\"]}Recommender/Optimizing{config[\"metric\"]}/history_{config[\"model\"]}_{config[\"metric\"]}.db',\n",
    "        f'Tuning {config[\"model\"]}_{config[\"metric\"]} db updated results (from kaggle notebook)',\n",
    "        repo\n",
    "    )"
   ]
  },
  {
   "cell_type": "markdown",
   "id": "1ffccce2",
   "metadata": {
    "papermill": {
     "duration": 0.060084,
     "end_time": "2025-01-05T15:10:21.718262",
     "exception": false,
     "start_time": "2025-01-05T15:10:21.658178",
     "status": "completed"
    },
    "tags": []
   },
   "source": [
    "Save the best trained model and its submission."
   ]
  },
  {
   "cell_type": "code",
   "execution_count": 20,
   "id": "8a42f78d",
   "metadata": {
    "execution": {
     "iopub.execute_input": "2025-01-05T15:10:21.841856Z",
     "iopub.status.busy": "2025-01-05T15:10:21.841440Z",
     "iopub.status.idle": "2025-01-05T15:10:24.361394Z",
     "shell.execute_reply": "2025-01-05T15:10:24.360278Z"
    },
    "papermill": {
     "duration": 2.58218,
     "end_time": "2025-01-05T15:10:24.363321",
     "exception": false,
     "start_time": "2025-01-05T15:10:21.781141",
     "status": "completed"
    },
    "tags": []
   },
   "outputs": [
    {
     "name": "stdout",
     "output_type": "stream",
     "text": [
      "File 'TrainedModels/WithKFCV/GraphBased/P3alphaRecommender/OptimizingMAP/Submission/submission_P3alpha_MAP.csv' updated successfully.\n"
     ]
    }
   ],
   "source": [
    "if config['save_github'] and config['tune_best_params']: \n",
    "    upload_file(\n",
    "                f'/kaggle/working/submission_{config[\"model\"]}_{config[\"metric\"]}.csv', \n",
    "                f'{GH_PATH}/{config[\"model\"]}Recommender/Optimizing{config[\"metric\"]}/Submission/submission_{config[\"model\"]}_{config[\"metric\"]}.csv', \n",
    "                f'New {config[\"model\"]}_{config[\"metric\"]} submission (from kaggle notebook)',\n",
    "                repo\n",
    "            )"
   ]
  }
 ],
 "metadata": {
  "kaggle": {
   "accelerator": "none",
   "dataSources": [
    {
     "databundleVersionId": 9982103,
     "sourceId": 87439,
     "sourceType": "competition"
    }
   ],
   "dockerImageVersionId": 30822,
   "isGpuEnabled": false,
   "isInternetEnabled": true,
   "language": "python",
   "sourceType": "notebook"
  },
  "kernelspec": {
   "display_name": "Python 3",
   "language": "python",
   "name": "python3"
  },
  "language_info": {
   "codemirror_mode": {
    "name": "ipython",
    "version": 3
   },
   "file_extension": ".py",
   "mimetype": "text/x-python",
   "name": "python",
   "nbconvert_exporter": "python",
   "pygments_lexer": "ipython3",
   "version": "3.10.12"
  },
  "papermill": {
   "default_parameters": {},
   "duration": 16461.150496,
   "end_time": "2025-01-05T15:10:25.671306",
   "environment_variables": {},
   "exception": null,
   "input_path": "__notebook__.ipynb",
   "output_path": "__notebook__.ipynb",
   "parameters": {},
   "start_time": "2025-01-05T10:36:04.520810",
   "version": "2.6.0"
  }
 },
 "nbformat": 4,
 "nbformat_minor": 5
}
