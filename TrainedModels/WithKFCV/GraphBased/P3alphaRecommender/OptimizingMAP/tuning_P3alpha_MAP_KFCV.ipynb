{
 "cells": [
  {
   "cell_type": "markdown",
   "id": "23f0ddd5",
   "metadata": {
    "papermill": {
     "duration": 0.006435,
     "end_time": "2025-01-06T16:37:26.151632",
     "exception": false,
     "start_time": "2025-01-06T16:37:26.145197",
     "status": "completed"
    },
    "tags": []
   },
   "source": [
    "# Set connection with GitHub"
   ]
  },
  {
   "cell_type": "code",
   "execution_count": 1,
   "id": "d431045c",
   "metadata": {
    "execution": {
     "iopub.execute_input": "2025-01-06T16:37:26.164968Z",
     "iopub.status.busy": "2025-01-06T16:37:26.164563Z",
     "iopub.status.idle": "2025-01-06T16:37:26.169919Z",
     "shell.execute_reply": "2025-01-06T16:37:26.169102Z"
    },
    "papermill": {
     "duration": 0.013945,
     "end_time": "2025-01-06T16:37:26.171510",
     "exception": false,
     "start_time": "2025-01-06T16:37:26.157565",
     "status": "completed"
    },
    "tags": []
   },
   "outputs": [],
   "source": [
    "# ! cd /kaggle/working && rm -rf RECsys_Challenge2024"
   ]
  },
  {
   "cell_type": "code",
   "execution_count": 2,
   "id": "a13f77a3",
   "metadata": {
    "_cell_guid": "b1076dfc-b9ad-4769-8c92-a6c4dae69d19",
    "_uuid": "8f2839f25d086af736a60e9eeb907d3b93b6e0e5",
    "execution": {
     "iopub.execute_input": "2025-01-06T16:37:26.184400Z",
     "iopub.status.busy": "2025-01-06T16:37:26.184056Z",
     "iopub.status.idle": "2025-01-06T16:37:50.807976Z",
     "shell.execute_reply": "2025-01-06T16:37:50.806536Z"
    },
    "papermill": {
     "duration": 24.632664,
     "end_time": "2025-01-06T16:37:50.810017",
     "exception": false,
     "start_time": "2025-01-06T16:37:26.177353",
     "status": "completed"
    },
    "tags": []
   },
   "outputs": [
    {
     "name": "stdout",
     "output_type": "stream",
     "text": [
      "Cloning into 'RECsys_Challenge2024'...\r\n",
      "remote: Enumerating objects: 6927, done.\u001b[K\r\n",
      "remote: Counting objects: 100% (105/105), done.\u001b[K\r\n",
      "remote: Compressing objects: 100% (87/87), done.\u001b[K\r\n",
      "remote: Total 6927 (delta 33), reused 8 (delta 2), pack-reused 6822 (from 3)\u001b[K\r\n",
      "Receiving objects: 100% (6927/6927), 412.60 MiB | 23.37 MiB/s, done.\r\n",
      "Resolving deltas: 100% (3764/3764), done.\r\n",
      "Updating files: 100% (506/506), done.\r\n"
     ]
    }
   ],
   "source": [
    "from kaggle_secrets import UserSecretsClient\n",
    "\n",
    "token = UserSecretsClient().get_secret(\"Token\")\n",
    "\n",
    "! git clone https://{token}@github.com/madratak/RECsys_Challenge2024.git"
   ]
  },
  {
   "cell_type": "code",
   "execution_count": 3,
   "id": "c665d56e",
   "metadata": {
    "execution": {
     "iopub.execute_input": "2025-01-06T16:37:50.833619Z",
     "iopub.status.busy": "2025-01-06T16:37:50.833245Z",
     "iopub.status.idle": "2025-01-06T16:37:58.232344Z",
     "shell.execute_reply": "2025-01-06T16:37:58.230938Z"
    },
    "papermill": {
     "duration": 7.413177,
     "end_time": "2025-01-06T16:37:58.234650",
     "exception": false,
     "start_time": "2025-01-06T16:37:50.821473",
     "status": "completed"
    },
    "tags": []
   },
   "outputs": [
    {
     "name": "stdout",
     "output_type": "stream",
     "text": [
      "Collecting PyGithub\r\n",
      "  Downloading PyGithub-2.5.0-py3-none-any.whl.metadata (3.9 kB)\r\n",
      "Requirement already satisfied: requests in /usr/local/lib/python3.10/dist-packages (2.32.3)\r\n",
      "Collecting pynacl>=1.4.0 (from PyGithub)\r\n",
      "  Downloading PyNaCl-1.5.0-cp36-abi3-manylinux_2_17_x86_64.manylinux2014_x86_64.manylinux_2_24_x86_64.whl.metadata (8.6 kB)\r\n",
      "Requirement already satisfied: pyjwt>=2.4.0 in /usr/local/lib/python3.10/dist-packages (from pyjwt[crypto]>=2.4.0->PyGithub) (2.9.0)\r\n",
      "Requirement already satisfied: typing-extensions>=4.0.0 in /usr/local/lib/python3.10/dist-packages (from PyGithub) (4.12.2)\r\n",
      "Requirement already satisfied: urllib3>=1.26.0 in /usr/local/lib/python3.10/dist-packages (from PyGithub) (2.2.3)\r\n",
      "Requirement already satisfied: Deprecated in /usr/local/lib/python3.10/dist-packages (from PyGithub) (1.2.15)\r\n",
      "Requirement already satisfied: charset-normalizer<4,>=2 in /usr/local/lib/python3.10/dist-packages (from requests) (3.3.2)\r\n",
      "Requirement already satisfied: idna<4,>=2.5 in /usr/local/lib/python3.10/dist-packages (from requests) (3.10)\r\n",
      "Requirement already satisfied: certifi>=2017.4.17 in /usr/local/lib/python3.10/dist-packages (from requests) (2024.8.30)\r\n",
      "Requirement already satisfied: cryptography>=3.4.0 in /usr/local/lib/python3.10/dist-packages (from pyjwt[crypto]>=2.4.0->PyGithub) (43.0.1)\r\n",
      "Requirement already satisfied: cffi>=1.4.1 in /usr/local/lib/python3.10/dist-packages (from pynacl>=1.4.0->PyGithub) (1.17.1)\r\n",
      "Requirement already satisfied: wrapt<2,>=1.10 in /usr/local/lib/python3.10/dist-packages (from Deprecated->PyGithub) (1.16.0)\r\n",
      "Requirement already satisfied: pycparser in /usr/local/lib/python3.10/dist-packages (from cffi>=1.4.1->pynacl>=1.4.0->PyGithub) (2.22)\r\n",
      "Downloading PyGithub-2.5.0-py3-none-any.whl (375 kB)\r\n",
      "\u001b[2K   \u001b[90m━━━━━━━━━━━━━━━━━━━━━━━━━━━━━━━━━━━━━━━━\u001b[0m \u001b[32m375.9/375.9 kB\u001b[0m \u001b[31m6.4 MB/s\u001b[0m eta \u001b[36m0:00:00\u001b[0m\r\n",
      "\u001b[?25hDownloading PyNaCl-1.5.0-cp36-abi3-manylinux_2_17_x86_64.manylinux2014_x86_64.manylinux_2_24_x86_64.whl (856 kB)\r\n",
      "\u001b[2K   \u001b[90m━━━━━━━━━━━━━━━━━━━━━━━━━━━━━━━━━━━━━━━━\u001b[0m \u001b[32m856.7/856.7 kB\u001b[0m \u001b[31m23.5 MB/s\u001b[0m eta \u001b[36m0:00:00\u001b[0m\r\n",
      "\u001b[?25hInstalling collected packages: pynacl, PyGithub\r\n",
      "Successfully installed PyGithub-2.5.0 pynacl-1.5.0\r\n"
     ]
    }
   ],
   "source": [
    "! pip install PyGithub requests"
   ]
  },
  {
   "cell_type": "code",
   "execution_count": 4,
   "id": "a95becf6",
   "metadata": {
    "_kg_hide-input": false,
    "execution": {
     "iopub.execute_input": "2025-01-06T16:37:58.260401Z",
     "iopub.status.busy": "2025-01-06T16:37:58.259912Z",
     "iopub.status.idle": "2025-01-06T16:40:36.464902Z",
     "shell.execute_reply": "2025-01-06T16:40:36.463592Z"
    },
    "papermill": {
     "duration": 158.220299,
     "end_time": "2025-01-06T16:40:36.466993",
     "exception": false,
     "start_time": "2025-01-06T16:37:58.246694",
     "status": "completed"
    },
    "tags": []
   },
   "outputs": [
    {
     "name": "stdout",
     "output_type": "stream",
     "text": [
      "/kaggle/working/RECsys_Challenge2024\n",
      "run_compile_all_cython: Found 11 Cython files in 5 folders...\r\n",
      "run_compile_all_cython: All files will be compiled using your current python environment: '/usr/bin/python3'\r\n",
      "Compiling [1/11]: MatrixFactorizationImpressions_Cython_Epoch.pyx... \r\n",
      "In file included from \u001b[01m\u001b[K/usr/local/lib/python3.10/dist-packages/numpy/core/include/numpy/ndarraytypes.h:1929\u001b[m\u001b[K,\r\n",
      "                 from \u001b[01m\u001b[K/usr/local/lib/python3.10/dist-packages/numpy/core/include/numpy/ndarrayobject.h:12\u001b[m\u001b[K,\r\n",
      "                 from \u001b[01m\u001b[K/usr/local/lib/python3.10/dist-packages/numpy/core/include/numpy/arrayobject.h:5\u001b[m\u001b[K,\r\n",
      "                 from \u001b[01m\u001b[KMatrixFactorizationImpressions_Cython_Epoch.c:1252\u001b[m\u001b[K:\r\n",
      "\u001b[01m\u001b[K/usr/local/lib/python3.10/dist-packages/numpy/core/include/numpy/npy_1_7_deprecated_api.h:17:2:\u001b[m\u001b[K \u001b[01;35m\u001b[Kwarning: \u001b[m\u001b[K#warning \"Using deprecated NumPy API, disable it with \" \"#define NPY_NO_DEPRECATED_API NPY_1_7_API_VERSION\" [\u001b[01;35m\u001b[K\u001b]8;;https://gcc.gnu.org/onlinedocs/gcc/Warning-Options.html#index-Wcpp\u0007-Wcpp\u001b]8;;\u0007\u001b[m\u001b[K]\r\n",
      "   17 | #\u001b[01;35m\u001b[Kwarning\u001b[m\u001b[K \"Using deprecated NumPy API, disable it with \" \\\r\n",
      "      |  \u001b[01;35m\u001b[K^~~~~~~\u001b[m\u001b[K\r\n",
      "\u001b[01m\u001b[KMatrixFactorizationImpressions_Cython_Epoch.c:\u001b[m\u001b[K In function ‘\u001b[01m\u001b[K__pyx_f_43MatrixFactorizationImpressions_Cython_Epoch_32MatrixFactorization_Cython_Epoch_sampleBPR_Cython\u001b[m\u001b[K’:\r\n",
      "\u001b[01m\u001b[KMatrixFactorizationImpressions_Cython_Epoch.c:30353:17:\u001b[m\u001b[K \u001b[01;35m\u001b[Kwarning: \u001b[m\u001b[K‘\u001b[01m\u001b[K__pyx_v_start_pos_impression_items\u001b[m\u001b[K’ may be used uninitialized in this function [\u001b[01;35m\u001b[K\u001b]8;;https://gcc.gnu.org/onlinedocs/gcc/Warning-Options.html#index-Wmaybe-uninitialized\u0007-Wmaybe-uninitialized\u001b]8;;\u0007\u001b[m\u001b[K]\r\n",
      "30353 |       \u001b[01;35m\u001b[K__pyx_t_4 = (__pyx_v_start_pos_impression_items + __pyx_v_index)\u001b[m\u001b[K;\r\n",
      "      |       \u001b[01;35m\u001b[K~~~~~~~~~~^~~~~~~~~~~~~~~~~~~~~~~~~~~~~~~~~~~~~~~~~~~~~~~~~~~~~~\u001b[m\u001b[K\r\n",
      "\u001b[01m\u001b[KMatrixFactorizationImpressions_Cython_Epoch.c:\u001b[m\u001b[K In function ‘\u001b[01m\u001b[K__pyx_pf_43MatrixFactorizationImpressions_Cython_Epoch_32MatrixFactorization_Cython_Epoch_10epochIteration_Cython_ASY_SVD_SGD\u001b[m\u001b[K’:\r\n",
      "\u001b[01m\u001b[KMatrixFactorizationImpressions_Cython_Epoch.c:26112:66:\u001b[m\u001b[K \u001b[01;35m\u001b[Kwarning: \u001b[m\u001b[K‘\u001b[01m\u001b[K__pyx_v_end_pos_seen_items\u001b[m\u001b[K’ may be used uninitialized in this function [\u001b[01;35m\u001b[K\u001b]8;;https://gcc.gnu.org/onlinedocs/gcc/Warning-Options.html#index-Wmaybe-uninitialized\u0007-Wmaybe-uninitialized\u001b]8;;\u0007\u001b[m\u001b[K]\r\n",
      "26112 |       for (__pyx_t_22 = __pyx_v_start_pos_seen_items; \u001b[01;35m\u001b[K__pyx_t_22 < __pyx_t_21\u001b[m\u001b[K; __pyx_t_22+=1) {\r\n",
      "      |                                                       \u001b[01;35m\u001b[K~~~~~~~~~~~^~~~~~~~~~~~\u001b[m\u001b[K\r\n",
      "\u001b[01m\u001b[KMatrixFactorizationImpressions_Cython_Epoch.c:26112:66:\u001b[m\u001b[K \u001b[01;35m\u001b[Kwarning: \u001b[m\u001b[K‘\u001b[01m\u001b[K__pyx_v_start_pos_seen_items\u001b[m\u001b[K’ may be used uninitialized in this function [\u001b[01;35m\u001b[K\u001b]8;;https://gcc.gnu.org/onlinedocs/gcc/Warning-Options.html#index-Wmaybe-uninitialized\u0007-Wmaybe-uninitialized\u001b]8;;\u0007\u001b[m\u001b[K]\r\n",
      "/usr/local/lib/python3.10/dist-packages/Cython/Compiler/Main.py:381: FutureWarning: Cython directive 'language_level' not set, using '3str' for now (Py3). This has changed from earlier releases! File: /kaggle/working/RECsys_Challenge2024/Recommenders/MatrixFactorization/Cython/MatrixFactorizationImpressions_Cython_Epoch.pyx\r\n",
      "  tree = Parsing.p_module(s, pxd, full_module_name)\r\n",
      "Compiling [1/11]: MatrixFactorizationImpressions_Cython_Epoch.pyx... PASS\r\n",
      "\r\n",
      "Compiling [2/11]: MatrixFactorization_Cython_Epoch.pyx... \r\n",
      "In file included from \u001b[01m\u001b[K/usr/local/lib/python3.10/dist-packages/numpy/core/include/numpy/ndarraytypes.h:1929\u001b[m\u001b[K,\r\n",
      "                 from \u001b[01m\u001b[K/usr/local/lib/python3.10/dist-packages/numpy/core/include/numpy/ndarrayobject.h:12\u001b[m\u001b[K,\r\n",
      "                 from \u001b[01m\u001b[K/usr/local/lib/python3.10/dist-packages/numpy/core/include/numpy/arrayobject.h:5\u001b[m\u001b[K,\r\n",
      "                 from \u001b[01m\u001b[KMatrixFactorization_Cython_Epoch.c:1252\u001b[m\u001b[K:\r\n",
      "\u001b[01m\u001b[K/usr/local/lib/python3.10/dist-packages/numpy/core/include/numpy/npy_1_7_deprecated_api.h:17:2:\u001b[m\u001b[K \u001b[01;35m\u001b[Kwarning: \u001b[m\u001b[K#warning \"Using deprecated NumPy API, disable it with \" \"#define NPY_NO_DEPRECATED_API NPY_1_7_API_VERSION\" [\u001b[01;35m\u001b[K\u001b]8;;https://gcc.gnu.org/onlinedocs/gcc/Warning-Options.html#index-Wcpp\u0007-Wcpp\u001b]8;;\u0007\u001b[m\u001b[K]\r\n",
      "   17 | #\u001b[01;35m\u001b[Kwarning\u001b[m\u001b[K \"Using deprecated NumPy API, disable it with \" \\\r\n",
      "      |  \u001b[01;35m\u001b[K^~~~~~~\u001b[m\u001b[K\r\n",
      "\u001b[01m\u001b[KMatrixFactorization_Cython_Epoch.c:\u001b[m\u001b[K In function ‘\u001b[01m\u001b[K__pyx_pf_32MatrixFactorization_Cython_Epoch_32MatrixFactorization_Cython_Epoch_10epochIteration_Cython_ASY_SVD_SGD\u001b[m\u001b[K’:\r\n",
      "\u001b[01m\u001b[KMatrixFactorization_Cython_Epoch.c:26256:68:\u001b[m\u001b[K \u001b[01;35m\u001b[Kwarning: \u001b[m\u001b[K‘\u001b[01m\u001b[K__pyx_v_end_pos_seen_items\u001b[m\u001b[K’ may be used uninitialized in this function [\u001b[01;35m\u001b[K\u001b]8;;https://gcc.gnu.org/onlinedocs/gcc/Warning-Options.html#index-Wmaybe-uninitialized\u0007-Wmaybe-uninitialized\u001b]8;;\u0007\u001b[m\u001b[K]\r\n",
      "26256 |         for (__pyx_t_22 = __pyx_v_start_pos_seen_items; \u001b[01;35m\u001b[K__pyx_t_22 < __pyx_t_21\u001b[m\u001b[K; __pyx_t_22+=1) {\r\n",
      "      |                                                         \u001b[01;35m\u001b[K~~~~~~~~~~~^~~~~~~~~~~~\u001b[m\u001b[K\r\n",
      "\u001b[01m\u001b[KMatrixFactorization_Cython_Epoch.c:26256:68:\u001b[m\u001b[K \u001b[01;35m\u001b[Kwarning: \u001b[m\u001b[K‘\u001b[01m\u001b[K__pyx_v_start_pos_seen_items\u001b[m\u001b[K’ may be used uninitialized in this function [\u001b[01;35m\u001b[K\u001b]8;;https://gcc.gnu.org/onlinedocs/gcc/Warning-Options.html#index-Wmaybe-uninitialized\u0007-Wmaybe-uninitialized\u001b]8;;\u0007\u001b[m\u001b[K]\r\n",
      "/usr/local/lib/python3.10/dist-packages/Cython/Compiler/Main.py:381: FutureWarning: Cython directive 'language_level' not set, using '3str' for now (Py3). This has changed from earlier releases! File: /kaggle/working/RECsys_Challenge2024/Recommenders/MatrixFactorization/Cython/MatrixFactorization_Cython_Epoch.pyx\r\n",
      "  tree = Parsing.p_module(s, pxd, full_module_name)\r\n",
      "Compiling [2/11]: MatrixFactorization_Cython_Epoch.pyx... PASS\r\n",
      "\r\n",
      "Compiling [3/11]: Compute_Similarity_Cython.pyx... \r\n",
      "warning: Compute_Similarity_Cython.pyx:21:0: The 'IF' statement is deprecated and will be removed in a future Cython version. Consider using runtime conditions or C macros instead. See https://github.com/cython/cython/issues/4310\r\n",
      "In file included from \u001b[01m\u001b[K/usr/local/lib/python3.10/dist-packages/numpy/core/include/numpy/ndarraytypes.h:1929\u001b[m\u001b[K,\r\n",
      "                 from \u001b[01m\u001b[K/usr/local/lib/python3.10/dist-packages/numpy/core/include/numpy/ndarrayobject.h:12\u001b[m\u001b[K,\r\n",
      "                 from \u001b[01m\u001b[K/usr/local/lib/python3.10/dist-packages/numpy/core/include/numpy/arrayobject.h:5\u001b[m\u001b[K,\r\n",
      "                 from \u001b[01m\u001b[KCompute_Similarity_Cython.c:1252\u001b[m\u001b[K:\r\n",
      "\u001b[01m\u001b[K/usr/local/lib/python3.10/dist-packages/numpy/core/include/numpy/npy_1_7_deprecated_api.h:17:2:\u001b[m\u001b[K \u001b[01;35m\u001b[Kwarning: \u001b[m\u001b[K#warning \"Using deprecated NumPy API, disable it with \" \"#define NPY_NO_DEPRECATED_API NPY_1_7_API_VERSION\" [\u001b[01;35m\u001b[K\u001b]8;;https://gcc.gnu.org/onlinedocs/gcc/Warning-Options.html#index-Wcpp\u0007-Wcpp\u001b]8;;\u0007\u001b[m\u001b[K]\r\n",
      "   17 | #\u001b[01;35m\u001b[Kwarning\u001b[m\u001b[K \"Using deprecated NumPy API, disable it with \" \\\r\n",
      "      |  \u001b[01;35m\u001b[K^~~~~~~\u001b[m\u001b[K\r\n",
      "/usr/local/lib/python3.10/dist-packages/Cython/Compiler/Main.py:381: FutureWarning: Cython directive 'language_level' not set, using '3str' for now (Py3). This has changed from earlier releases! File: /kaggle/working/RECsys_Challenge2024/Recommenders/Similarity/Cython/Compute_Similarity_Cython.pyx\r\n",
      "  tree = Parsing.p_module(s, pxd, full_module_name)\r\n",
      "warning: Compute_Similarity_Cython.pyx:21:0: The 'IF' statement is deprecated and will be removed in a future Cython version. Consider using runtime conditions or C macros instead. See https://github.com/cython/cython/issues/4310\r\n",
      "Compiling [3/11]: Compute_Similarity_Cython.pyx... PASS\r\n",
      "\r\n",
      "Compiling [4/11]: Sparse_Matrix_Tree_CSR.pyx... \r\n",
      "warning: Sparse_Matrix_Tree_CSR.pyx:132:34: Non-trivial type declarators in shared declaration (e.g. mix of pointers and values). Each pointer declaration should be on its own line.\r\n",
      "warning: Sparse_Matrix_Tree_CSR.pyx:132:66: Non-trivial type declarators in shared declaration (e.g. mix of pointers and values). Each pointer declaration should be on its own line.\r\n",
      "warning: Sparse_Matrix_Tree_CSR.pyx:343:35: Non-trivial type declarators in shared declaration (e.g. mix of pointers and values). Each pointer declaration should be on its own line.\r\n",
      "warning: Sparse_Matrix_Tree_CSR.pyx:343:52: Non-trivial type declarators in shared declaration (e.g. mix of pointers and values). Each pointer declaration should be on its own line.\r\n",
      "warning: Sparse_Matrix_Tree_CSR.pyx:442:35: Non-trivial type declarators in shared declaration (e.g. mix of pointers and values). Each pointer declaration should be on its own line.\r\n",
      "warning: Sparse_Matrix_Tree_CSR.pyx:442:53: Non-trivial type declarators in shared declaration (e.g. mix of pointers and values). Each pointer declaration should be on its own line.\r\n",
      "warning: Sparse_Matrix_Tree_CSR.pyx:442:69: Non-trivial type declarators in shared declaration (e.g. mix of pointers and values). Each pointer declaration should be on its own line.\r\n",
      "warning: Sparse_Matrix_Tree_CSR.pyx:577:35: Non-trivial type declarators in shared declaration (e.g. mix of pointers and values). Each pointer declaration should be on its own line.\r\n",
      "warning: Sparse_Matrix_Tree_CSR.pyx:577:42: Non-trivial type declarators in shared declaration (e.g. mix of pointers and values). Each pointer declaration should be on its own line.\r\n",
      "warning: Sparse_Matrix_Tree_CSR.pyx:578:35: Non-trivial type declarators in shared declaration (e.g. mix of pointers and values). Each pointer declaration should be on its own line.\r\n",
      "warning: Sparse_Matrix_Tree_CSR.pyx:578:53: Non-trivial type declarators in shared declaration (e.g. mix of pointers and values). Each pointer declaration should be on its own line.\r\n",
      "\r\n",
      "Error compiling Cython file:\r\n",
      "------------------------------------------------------------\r\n",
      "...\r\n",
      "            vector_pointer_to_list_elements[index].head = current_element\r\n",
      "            current_element = current_element.higher\r\n",
      "\r\n",
      "\r\n",
      "        # Sort array elements on their data field\r\n",
      "        qsort(vector_pointer_to_list_elements, list_length, sizeof(head_pointer_tree_s), compare_struct_on_data)\r\n",
      "                                                                                         ^\r\n",
      "------------------------------------------------------------\r\n",
      "\r\n",
      "Sparse_Matrix_Tree_CSR.pyx:516:89: Cannot assign type 'int (const void *, const void *) except? -1' to 'int (*)(const_void *, const_void *) noexcept'. Exception values are incompatible. Suggest adding 'noexcept' to the type of 'compare_struct_on_data'.\r\n",
      "\r\n",
      "Error compiling Cython file:\r\n",
      "------------------------------------------------------------\r\n",
      "...\r\n",
      "        # Sort array elements on their data field\r\n",
      "        qsort(vector_pointer_to_list_elements, list_length, sizeof(head_pointer_tree_s), compare_struct_on_data)\r\n",
      "\r\n",
      "        # Sort only the TopK according to their column field\r\n",
      "        # Sort is from lower to higher, therefore the elements to be considered are from len-topK to len\r\n",
      "        qsort(&vector_pointer_to_list_elements[list_length-TopK], TopK, sizeof(head_pointer_tree_s), compare_struct_on_column)\r\n",
      "                                                                                                     ^\r\n",
      "------------------------------------------------------------\r\n",
      "\r\n",
      "Sparse_Matrix_Tree_CSR.pyx:520:101: Cannot assign type 'int (const void *, const void *) except? -1' to 'int (*)(const_void *, const_void *) noexcept'. Exception values are incompatible. Suggest adding 'noexcept' to the type of 'compare_struct_on_column'.\r\n",
      "Traceback (most recent call last):\r\n",
      "  File \"/kaggle/working/RECsys_Challenge2024/CythonCompiler/compile_script.py\", line 48, in <module>\r\n",
      "    setup(\r\n",
      "  File \"/usr/local/lib/python3.10/dist-packages/setuptools/__init__.py\", line 108, in setup\r\n",
      "    return distutils.core.setup(**attrs)\r\n",
      "  File \"/usr/local/lib/python3.10/dist-packages/setuptools/_distutils/core.py\", line 184, in setup\r\n",
      "    return run_commands(dist)\r\n",
      "  File \"/usr/local/lib/python3.10/dist-packages/setuptools/_distutils/core.py\", line 200, in run_commands\r\n",
      "    dist.run_commands()\r\n",
      "  File \"/usr/local/lib/python3.10/dist-packages/setuptools/_distutils/dist.py\", line 970, in run_commands\r\n",
      "    self.run_command(cmd)\r\n",
      "  File \"/usr/local/lib/python3.10/dist-packages/setuptools/dist.py\", line 956, in run_command\r\n",
      "    super().run_command(command)\r\n",
      "  File \"/usr/local/lib/python3.10/dist-packages/setuptools/_distutils/dist.py\", line 989, in run_command\r\n",
      "    cmd_obj.run()\r\n",
      "  File \"/usr/local/lib/python3.10/dist-packages/setuptools/_distutils/command/build_ext.py\", line 359, in run\r\n",
      "    self.build_extensions()\r\n",
      "  File \"/usr/local/lib/python3.10/dist-packages/setuptools/_distutils/command/build_ext.py\", line 479, in build_extensions\r\n",
      "    self._build_extensions_serial()\r\n",
      "  File \"/usr/local/lib/python3.10/dist-packages/setuptools/_distutils/command/build_ext.py\", line 505, in _build_extensions_serial\r\n",
      "    self.build_extension(ext)\r\n",
      "  File \"/usr/local/lib/python3.10/dist-packages/Cython/Distutils/build_ext.py\", line 130, in build_extension\r\n",
      "    new_ext = cythonize(\r\n",
      "  File \"/usr/local/lib/python3.10/dist-packages/Cython/Build/Dependencies.py\", line 1154, in cythonize\r\n",
      "    cythonize_one(*args)\r\n",
      "  File \"/usr/local/lib/python3.10/dist-packages/Cython/Build/Dependencies.py\", line 1321, in cythonize_one\r\n",
      "    raise CompileError(None, pyx_file)\r\n",
      "Cython.Compiler.Errors.CompileError: Sparse_Matrix_Tree_CSR.pyx\r\n",
      "Traceback (most recent call last):\r\n",
      "  File \"/kaggle/working/RECsys_Challenge2024/run_compile_all_cython.py\", line 60, in <module>\r\n",
      "    run_compile_subprocess(file_path, [file_name])\r\n",
      "  File \"/kaggle/working/RECsys_Challenge2024/CythonCompiler/run_compile_subprocess.py\", line 51, in run_compile_subprocess\r\n",
      "    raise exc\r\n",
      "  File \"/kaggle/working/RECsys_Challenge2024/CythonCompiler/run_compile_subprocess.py\", line 32, in run_compile_subprocess\r\n",
      "    output = subprocess.check_output(' '.join(command),\r\n",
      "  File \"/usr/lib/python3.10/subprocess.py\", line 421, in check_output\r\n",
      "    return run(*popenargs, stdout=PIPE, timeout=timeout, check=True,\r\n",
      "  File \"/usr/lib/python3.10/subprocess.py\", line 526, in run\r\n",
      "    raise CalledProcessError(retcode, process.args,\r\n",
      "subprocess.CalledProcessError: Command '/usr/bin/python3 /kaggle/working/RECsys_Challenge2024/CythonCompiler/compile_script.py Sparse_Matrix_Tree_CSR.pyx build_ext --inplace' returned non-zero exit status 1.\r\n",
      "Compiling [4/11]: Sparse_Matrix_Tree_CSR.pyx... FAIL: Command '/usr/bin/python3 /kaggle/working/RECsys_Challenge2024/CythonCompiler/compile_script.py Sparse_Matrix_Tree_CSR.pyx build_ext --inplace' returned non-zero exit status 1.\r\n",
      "\r\n",
      "Compiling [5/11]: Triangular_Matrix.pyx... \r\n",
      "warning: Triangular_Matrix.pyx:22:0: The 'IF' statement is deprecated and will be removed in a future Cython version. Consider using runtime conditions or C macros instead. See https://github.com/cython/cython/issues/4310\r\n",
      "In file included from \u001b[01m\u001b[K/usr/local/lib/python3.10/dist-packages/numpy/core/include/numpy/ndarraytypes.h:1929\u001b[m\u001b[K,\r\n",
      "                 from \u001b[01m\u001b[K/usr/local/lib/python3.10/dist-packages/numpy/core/include/numpy/ndarrayobject.h:12\u001b[m\u001b[K,\r\n",
      "                 from \u001b[01m\u001b[K/usr/local/lib/python3.10/dist-packages/numpy/core/include/numpy/arrayobject.h:5\u001b[m\u001b[K,\r\n",
      "                 from \u001b[01m\u001b[KTriangular_Matrix.c:1252\u001b[m\u001b[K:\r\n",
      "\u001b[01m\u001b[K/usr/local/lib/python3.10/dist-packages/numpy/core/include/numpy/npy_1_7_deprecated_api.h:17:2:\u001b[m\u001b[K \u001b[01;35m\u001b[Kwarning: \u001b[m\u001b[K#warning \"Using deprecated NumPy API, disable it with \" \"#define NPY_NO_DEPRECATED_API NPY_1_7_API_VERSION\" [\u001b[01;35m\u001b[K\u001b]8;;https://gcc.gnu.org/onlinedocs/gcc/Warning-Options.html#index-Wcpp\u0007-Wcpp\u001b]8;;\u0007\u001b[m\u001b[K]\r\n",
      "   17 | #\u001b[01;35m\u001b[Kwarning\u001b[m\u001b[K \"Using deprecated NumPy API, disable it with \" \\\r\n",
      "      |  \u001b[01;35m\u001b[K^~~~~~~\u001b[m\u001b[K\r\n",
      "In function ‘\u001b[01m\u001b[K__pyx_pf_17Triangular_Matrix_17Triangular_Matrix___init__\u001b[m\u001b[K’,\r\n",
      "    inlined from ‘\u001b[01m\u001b[K__pyx_pw_17Triangular_Matrix_17Triangular_Matrix_1__init__\u001b[m\u001b[K’ at \u001b[01m\u001b[KTriangular_Matrix.c:5541:13\u001b[m\u001b[K:\r\n",
      "\u001b[01m\u001b[KTriangular_Matrix.c:5599:43:\u001b[m\u001b[K \u001b[01;35m\u001b[Kwarning: \u001b[m\u001b[Kargument 1 value ‘\u001b[01m\u001b[K18446744073709551608\u001b[m\u001b[K’ exceeds maximum object size 9223372036854775807 [\u001b[01;35m\u001b[K\u001b]8;;https://gcc.gnu.org/onlinedocs/gcc/Warning-Options.html#index-Walloc-size-larger-than=\u0007-Walloc-size-larger-than=\u001b]8;;\u0007\u001b[m\u001b[K]\r\n",
      " 5599 |   __pyx_v_self->row_pointer = ((double **)\u001b[01;35m\u001b[Kmalloc((__pyx_v_self->num_rows * (sizeof(double *))))\u001b[m\u001b[K);\r\n",
      "      |                                           \u001b[01;35m\u001b[K^~~~~~~~~~~~~~~~~~~~~~~~~~~~~~~~~~~~~~~~~~~~~~~~~~~~~\u001b[m\u001b[K\r\n",
      "In file included from \u001b[01m\u001b[K/usr/include/python3.10/Python.h:34\u001b[m\u001b[K,\r\n",
      "                 from \u001b[01m\u001b[KTriangular_Matrix.c:41\u001b[m\u001b[K:\r\n",
      "\u001b[01m\u001b[KTriangular_Matrix.c:\u001b[m\u001b[K In function ‘\u001b[01m\u001b[K__pyx_pw_17Triangular_Matrix_17Triangular_Matrix_1__init__\u001b[m\u001b[K’:\r\n",
      "\u001b[01m\u001b[K/usr/include/stdlib.h:540:14:\u001b[m\u001b[K \u001b[01;36m\u001b[Knote: \u001b[m\u001b[Kin a call to allocation function ‘\u001b[01m\u001b[Kmalloc\u001b[m\u001b[K’ declared here\r\n",
      "  540 | extern void *\u001b[01;36m\u001b[Kmalloc\u001b[m\u001b[K (size_t __size) __THROW __attribute_malloc__\r\n",
      "      |              \u001b[01;36m\u001b[K^~~~~~\u001b[m\u001b[K\r\n",
      "/usr/local/lib/python3.10/dist-packages/Cython/Compiler/Main.py:381: FutureWarning: Cython directive 'language_level' not set, using '3str' for now (Py3). This has changed from earlier releases! File: /kaggle/working/RECsys_Challenge2024/Recommenders/SLIM/Cython/Triangular_Matrix.pyx\r\n",
      "  tree = Parsing.p_module(s, pxd, full_module_name)\r\n",
      "warning: Triangular_Matrix.pyx:22:0: The 'IF' statement is deprecated and will be removed in a future Cython version. Consider using runtime conditions or C macros instead. See https://github.com/cython/cython/issues/4310\r\n",
      "Compiling [5/11]: Triangular_Matrix.pyx... PASS\r\n",
      "\r\n",
      "Compiling [6/11]: SLIM_BPR_Cython_Epoch.pyx... \r\n",
      "warning: SLIM_BPR_Cython_Epoch.pyx:24:0: The 'IF' statement is deprecated and will be removed in a future Cython version. Consider using runtime conditions or C macros instead. See https://github.com/cython/cython/issues/4310\r\n",
      "warning: SLIM_BPR_Cython_Epoch.pyx:632:34: Non-trivial type declarators in shared declaration (e.g. mix of pointers and values). Each pointer declaration should be on its own line.\r\n",
      "warning: SLIM_BPR_Cython_Epoch.pyx:632:66: Non-trivial type declarators in shared declaration (e.g. mix of pointers and values). Each pointer declaration should be on its own line.\r\n",
      "warning: SLIM_BPR_Cython_Epoch.pyx:817:35: Non-trivial type declarators in shared declaration (e.g. mix of pointers and values). Each pointer declaration should be on its own line.\r\n",
      "warning: SLIM_BPR_Cython_Epoch.pyx:817:52: Non-trivial type declarators in shared declaration (e.g. mix of pointers and values). Each pointer declaration should be on its own line.\r\n",
      "warning: SLIM_BPR_Cython_Epoch.pyx:916:35: Non-trivial type declarators in shared declaration (e.g. mix of pointers and values). Each pointer declaration should be on its own line.\r\n",
      "warning: SLIM_BPR_Cython_Epoch.pyx:916:53: Non-trivial type declarators in shared declaration (e.g. mix of pointers and values). Each pointer declaration should be on its own line.\r\n",
      "warning: SLIM_BPR_Cython_Epoch.pyx:916:69: Non-trivial type declarators in shared declaration (e.g. mix of pointers and values). Each pointer declaration should be on its own line.\r\n",
      "warning: SLIM_BPR_Cython_Epoch.pyx:1051:35: Non-trivial type declarators in shared declaration (e.g. mix of pointers and values). Each pointer declaration should be on its own line.\r\n",
      "warning: SLIM_BPR_Cython_Epoch.pyx:1051:42: Non-trivial type declarators in shared declaration (e.g. mix of pointers and values). Each pointer declaration should be on its own line.\r\n",
      "warning: SLIM_BPR_Cython_Epoch.pyx:1052:35: Non-trivial type declarators in shared declaration (e.g. mix of pointers and values). Each pointer declaration should be on its own line.\r\n",
      "warning: SLIM_BPR_Cython_Epoch.pyx:1052:53: Non-trivial type declarators in shared declaration (e.g. mix of pointers and values). Each pointer declaration should be on its own line.\r\n",
      "\r\n",
      "Error compiling Cython file:\r\n",
      "------------------------------------------------------------\r\n",
      "...\r\n",
      "            vector_pointer_to_list_elements[index].head = current_element\r\n",
      "            current_element = current_element.higher\r\n",
      "\r\n",
      "\r\n",
      "        # Sort array elements on their data field\r\n",
      "        qsort(vector_pointer_to_list_elements, list_length, sizeof(head_pointer_tree_s), compare_struct_on_data)\r\n",
      "                                                                                         ^\r\n",
      "------------------------------------------------------------\r\n",
      "\r\n",
      "SLIM_BPR_Cython_Epoch.pyx:990:89: Cannot assign type 'int (const void *, const void *) except? -1' to 'int (*)(const_void *, const_void *) noexcept'. Exception values are incompatible. Suggest adding 'noexcept' to the type of 'compare_struct_on_data'.\r\n",
      "\r\n",
      "Error compiling Cython file:\r\n",
      "------------------------------------------------------------\r\n",
      "...\r\n",
      "        # Sort array elements on their data field\r\n",
      "        qsort(vector_pointer_to_list_elements, list_length, sizeof(head_pointer_tree_s), compare_struct_on_data)\r\n",
      "\r\n",
      "        # Sort only the TopK according to their column field\r\n",
      "        # Sort is from lower to higher, therefore the elements to be considered are from len-topK to len\r\n",
      "        qsort(&vector_pointer_to_list_elements[list_length-TopK], TopK, sizeof(head_pointer_tree_s), compare_struct_on_column)\r\n",
      "                                                                                                     ^\r\n",
      "------------------------------------------------------------\r\n",
      "\r\n",
      "SLIM_BPR_Cython_Epoch.pyx:994:101: Cannot assign type 'int (const void *, const void *) except? -1' to 'int (*)(const_void *, const_void *) noexcept'. Exception values are incompatible. Suggest adding 'noexcept' to the type of 'compare_struct_on_column'.\r\n",
      "Traceback (most recent call last):\r\n",
      "  File \"/kaggle/working/RECsys_Challenge2024/CythonCompiler/compile_script.py\", line 48, in <module>\r\n",
      "    setup(\r\n",
      "  File \"/usr/local/lib/python3.10/dist-packages/setuptools/__init__.py\", line 108, in setup\r\n",
      "    return distutils.core.setup(**attrs)\r\n",
      "  File \"/usr/local/lib/python3.10/dist-packages/setuptools/_distutils/core.py\", line 184, in setup\r\n",
      "    return run_commands(dist)\r\n",
      "  File \"/usr/local/lib/python3.10/dist-packages/setuptools/_distutils/core.py\", line 200, in run_commands\r\n",
      "    dist.run_commands()\r\n",
      "  File \"/usr/local/lib/python3.10/dist-packages/setuptools/_distutils/dist.py\", line 970, in run_commands\r\n",
      "    self.run_command(cmd)\r\n",
      "  File \"/usr/local/lib/python3.10/dist-packages/setuptools/dist.py\", line 956, in run_command\r\n",
      "    super().run_command(command)\r\n",
      "  File \"/usr/local/lib/python3.10/dist-packages/setuptools/_distutils/dist.py\", line 989, in run_command\r\n",
      "    cmd_obj.run()\r\n",
      "  File \"/usr/local/lib/python3.10/dist-packages/setuptools/_distutils/command/build_ext.py\", line 359, in run\r\n",
      "    self.build_extensions()\r\n",
      "  File \"/usr/local/lib/python3.10/dist-packages/setuptools/_distutils/command/build_ext.py\", line 479, in build_extensions\r\n",
      "    self._build_extensions_serial()\r\n",
      "  File \"/usr/local/lib/python3.10/dist-packages/setuptools/_distutils/command/build_ext.py\", line 505, in _build_extensions_serial\r\n",
      "    self.build_extension(ext)\r\n",
      "  File \"/usr/local/lib/python3.10/dist-packages/Cython/Distutils/build_ext.py\", line 130, in build_extension\r\n",
      "    new_ext = cythonize(\r\n",
      "  File \"/usr/local/lib/python3.10/dist-packages/Cython/Build/Dependencies.py\", line 1154, in cythonize\r\n",
      "    cythonize_one(*args)\r\n",
      "  File \"/usr/local/lib/python3.10/dist-packages/Cython/Build/Dependencies.py\", line 1321, in cythonize_one\r\n",
      "    raise CompileError(None, pyx_file)\r\n",
      "Cython.Compiler.Errors.CompileError: SLIM_BPR_Cython_Epoch.pyx\r\n",
      "Traceback (most recent call last):\r\n",
      "  File \"/kaggle/working/RECsys_Challenge2024/run_compile_all_cython.py\", line 60, in <module>\r\n",
      "    run_compile_subprocess(file_path, [file_name])\r\n",
      "  File \"/kaggle/working/RECsys_Challenge2024/CythonCompiler/run_compile_subprocess.py\", line 51, in run_compile_subprocess\r\n",
      "    raise exc\r\n",
      "  File \"/kaggle/working/RECsys_Challenge2024/CythonCompiler/run_compile_subprocess.py\", line 32, in run_compile_subprocess\r\n",
      "    output = subprocess.check_output(' '.join(command),\r\n",
      "  File \"/usr/lib/python3.10/subprocess.py\", line 421, in check_output\r\n",
      "    return run(*popenargs, stdout=PIPE, timeout=timeout, check=True,\r\n",
      "  File \"/usr/lib/python3.10/subprocess.py\", line 526, in run\r\n",
      "    raise CalledProcessError(retcode, process.args,\r\n",
      "subprocess.CalledProcessError: Command '/usr/bin/python3 /kaggle/working/RECsys_Challenge2024/CythonCompiler/compile_script.py SLIM_BPR_Cython_Epoch.pyx build_ext --inplace' returned non-zero exit status 1.\r\n",
      "Compiling [6/11]: SLIM_BPR_Cython_Epoch.pyx... FAIL: Command '/usr/bin/python3 /kaggle/working/RECsys_Challenge2024/CythonCompiler/compile_script.py SLIM_BPR_Cython_Epoch.pyx build_ext --inplace' returned non-zero exit status 1.\r\n",
      "\r\n",
      "Compiling [7/11]: CFW_D_Similarity_Cython_SGD.pyx... \r\n",
      "In file included from \u001b[01m\u001b[K/usr/local/lib/python3.10/dist-packages/numpy/core/include/numpy/ndarraytypes.h:1929\u001b[m\u001b[K,\r\n",
      "                 from \u001b[01m\u001b[K/usr/local/lib/python3.10/dist-packages/numpy/core/include/numpy/ndarrayobject.h:12\u001b[m\u001b[K,\r\n",
      "                 from \u001b[01m\u001b[K/usr/local/lib/python3.10/dist-packages/numpy/core/include/numpy/arrayobject.h:5\u001b[m\u001b[K,\r\n",
      "                 from \u001b[01m\u001b[KCFW_D_Similarity_Cython_SGD.c:1252\u001b[m\u001b[K:\r\n",
      "\u001b[01m\u001b[K/usr/local/lib/python3.10/dist-packages/numpy/core/include/numpy/npy_1_7_deprecated_api.h:17:2:\u001b[m\u001b[K \u001b[01;35m\u001b[Kwarning: \u001b[m\u001b[K#warning \"Using deprecated NumPy API, disable it with \" \"#define NPY_NO_DEPRECATED_API NPY_1_7_API_VERSION\" [\u001b[01;35m\u001b[K\u001b]8;;https://gcc.gnu.org/onlinedocs/gcc/Warning-Options.html#index-Wcpp\u0007-Wcpp\u001b]8;;\u0007\u001b[m\u001b[K]\r\n",
      "   17 | #\u001b[01;35m\u001b[Kwarning\u001b[m\u001b[K \"Using deprecated NumPy API, disable it with \" \\\r\n",
      "      |  \u001b[01;35m\u001b[K^~~~~~~\u001b[m\u001b[K\r\n",
      "\u001b[01m\u001b[KCFW_D_Similarity_Cython_SGD.c:\u001b[m\u001b[K In function ‘\u001b[01m\u001b[K__pyx_pf_27CFW_D_Similarity_Cython_SGD_27CFW_D_Similarity_Cython_SGD_6fit\u001b[m\u001b[K’:\r\n",
      "\u001b[01m\u001b[KCFW_D_Similarity_Cython_SGD.c:23373:55:\u001b[m\u001b[K \u001b[01;35m\u001b[Kwarning: \u001b[m\u001b[K‘\u001b[01m\u001b[K__pyx_v_sample_num\u001b[m\u001b[K’ may be used uninitialized in this function [\u001b[01;35m\u001b[K\u001b]8;;https://gcc.gnu.org/onlinedocs/gcc/Warning-Options.html#index-Wmaybe-uninitialized\u0007-Wmaybe-uninitialized\u001b]8;;\u0007\u001b[m\u001b[K]\r\n",
      "23373 |   __pyx_t_3 = PyFloat_FromDouble((__pyx_v_cum_loss / \u001b[01;35m\u001b[K((double)__pyx_v_sample_num)\u001b[m\u001b[K)); if (unlikely(!__pyx_t_3)) __PYX_ERR(0, 290, __pyx_L1_error)\r\n",
      "      |                                                      \u001b[01;35m\u001b[K~^~~~~~~~~~~~~~~~~~~~~~~~~~~\u001b[m\u001b[K\r\n",
      "/usr/local/lib/python3.10/dist-packages/Cython/Compiler/Main.py:381: FutureWarning: Cython directive 'language_level' not set, using '3str' for now (Py3). This has changed from earlier releases! File: /kaggle/working/RECsys_Challenge2024/Recommenders/FeatureWeighting/Cython/CFW_D_Similarity_Cython_SGD.pyx\r\n",
      "  tree = Parsing.p_module(s, pxd, full_module_name)\r\n",
      "Compiling [7/11]: CFW_D_Similarity_Cython_SGD.pyx... PASS\r\n",
      "\r\n",
      "Compiling [8/11]: CFW_DVV_Similarity_Cython_SGD.pyx... \r\n",
      "In file included from \u001b[01m\u001b[K/usr/local/lib/python3.10/dist-packages/numpy/core/include/numpy/ndarraytypes.h:1929\u001b[m\u001b[K,\r\n",
      "                 from \u001b[01m\u001b[K/usr/local/lib/python3.10/dist-packages/numpy/core/include/numpy/ndarrayobject.h:12\u001b[m\u001b[K,\r\n",
      "                 from \u001b[01m\u001b[K/usr/local/lib/python3.10/dist-packages/numpy/core/include/numpy/arrayobject.h:5\u001b[m\u001b[K,\r\n",
      "                 from \u001b[01m\u001b[KCFW_DVV_Similarity_Cython_SGD.c:1252\u001b[m\u001b[K:\r\n",
      "\u001b[01m\u001b[K/usr/local/lib/python3.10/dist-packages/numpy/core/include/numpy/npy_1_7_deprecated_api.h:17:2:\u001b[m\u001b[K \u001b[01;35m\u001b[Kwarning: \u001b[m\u001b[K#warning \"Using deprecated NumPy API, disable it with \" \"#define NPY_NO_DEPRECATED_API NPY_1_7_API_VERSION\" [\u001b[01;35m\u001b[K\u001b]8;;https://gcc.gnu.org/onlinedocs/gcc/Warning-Options.html#index-Wcpp\u0007-Wcpp\u001b]8;;\u0007\u001b[m\u001b[K]\r\n",
      "   17 | #\u001b[01;35m\u001b[Kwarning\u001b[m\u001b[K \"Using deprecated NumPy API, disable it with \" \\\r\n",
      "      |  \u001b[01;35m\u001b[K^~~~~~~\u001b[m\u001b[K\r\n",
      "/usr/local/lib/python3.10/dist-packages/Cython/Compiler/Main.py:381: FutureWarning: Cython directive 'language_level' not set, using '3str' for now (Py3). This has changed from earlier releases! File: /kaggle/working/RECsys_Challenge2024/Recommenders/FeatureWeighting/Cython/CFW_DVV_Similarity_Cython_SGD.pyx\r\n",
      "  tree = Parsing.p_module(s, pxd, full_module_name)\r\n",
      "Compiling [8/11]: CFW_DVV_Similarity_Cython_SGD.pyx... PASS\r\n",
      "\r\n",
      "Compiling [9/11]: FBSM_Rating_Cython_SGD.pyx... \r\n",
      "In file included from \u001b[01m\u001b[K/usr/local/lib/python3.10/dist-packages/numpy/core/include/numpy/ndarraytypes.h:1929\u001b[m\u001b[K,\r\n",
      "                 from \u001b[01m\u001b[K/usr/local/lib/python3.10/dist-packages/numpy/core/include/numpy/ndarrayobject.h:12\u001b[m\u001b[K,\r\n",
      "                 from \u001b[01m\u001b[K/usr/local/lib/python3.10/dist-packages/numpy/core/include/numpy/arrayobject.h:5\u001b[m\u001b[K,\r\n",
      "                 from \u001b[01m\u001b[KFBSM_Rating_Cython_SGD.c:1252\u001b[m\u001b[K:\r\n",
      "\u001b[01m\u001b[K/usr/local/lib/python3.10/dist-packages/numpy/core/include/numpy/npy_1_7_deprecated_api.h:17:2:\u001b[m\u001b[K \u001b[01;35m\u001b[Kwarning: \u001b[m\u001b[K#warning \"Using deprecated NumPy API, disable it with \" \"#define NPY_NO_DEPRECATED_API NPY_1_7_API_VERSION\" [\u001b[01;35m\u001b[K\u001b]8;;https://gcc.gnu.org/onlinedocs/gcc/Warning-Options.html#index-Wcpp\u0007-Wcpp\u001b]8;;\u0007\u001b[m\u001b[K]\r\n",
      "   17 | #\u001b[01;35m\u001b[Kwarning\u001b[m\u001b[K \"Using deprecated NumPy API, disable it with \" \\\r\n",
      "      |  \u001b[01;35m\u001b[K^~~~~~~\u001b[m\u001b[K\r\n",
      "\u001b[01m\u001b[KFBSM_Rating_Cython_SGD.c:\u001b[m\u001b[K In function ‘\u001b[01m\u001b[K__pyx_pf_22FBSM_Rating_Cython_SGD_22FBSM_Rating_Cython_SGD_2fit\u001b[m\u001b[K’:\r\n",
      "\u001b[01m\u001b[KFBSM_Rating_Cython_SGD.c:26607:55:\u001b[m\u001b[K \u001b[01;35m\u001b[Kwarning: \u001b[m\u001b[K‘\u001b[01m\u001b[K__pyx_v_num_sample\u001b[m\u001b[K’ may be used uninitialized in this function [\u001b[01;35m\u001b[K\u001b]8;;https://gcc.gnu.org/onlinedocs/gcc/Warning-Options.html#index-Wmaybe-uninitialized\u0007-Wmaybe-uninitialized\u001b]8;;\u0007\u001b[m\u001b[K]\r\n",
      "26607 |   __pyx_t_5 = PyFloat_FromDouble((__pyx_v_cum_loss / \u001b[01;35m\u001b[K((double)__pyx_v_num_sample)\u001b[m\u001b[K)); if (unlikely(!__pyx_t_5)) __PYX_ERR(0, 551, __pyx_L1_error)\r\n",
      "      |                                                      \u001b[01;35m\u001b[K~^~~~~~~~~~~~~~~~~~~~~~~~~~~\u001b[m\u001b[K\r\n",
      "/usr/local/lib/python3.10/dist-packages/Cython/Compiler/Main.py:381: FutureWarning: Cython directive 'language_level' not set, using '3str' for now (Py3). This has changed from earlier releases! File: /kaggle/working/RECsys_Challenge2024/Recommenders/FeatureWeighting/Cython/FBSM_Rating_Cython_SGD.pyx\r\n",
      "  tree = Parsing.p_module(s, pxd, full_module_name)\r\n",
      "Compiling [9/11]: FBSM_Rating_Cython_SGD.pyx... PASS\r\n",
      "\r\n",
      "Compiling [10/11]: HP3_Similarity_Cython_SGD.pyx... \r\n",
      "performance hint: HP3_Similarity_Cython_SGD.pyx:113:40: Index should be typed for more efficient access\r\n",
      "performance hint: HP3_Similarity_Cython_SGD.pyx:114:40: Index should be typed for more efficient access\r\n",
      "In file included from \u001b[01m\u001b[K/usr/local/lib/python3.10/dist-packages/numpy/core/include/numpy/ndarraytypes.h:1929\u001b[m\u001b[K,\r\n",
      "                 from \u001b[01m\u001b[K/usr/local/lib/python3.10/dist-packages/numpy/core/include/numpy/ndarrayobject.h:12\u001b[m\u001b[K,\r\n",
      "                 from \u001b[01m\u001b[K/usr/local/lib/python3.10/dist-packages/numpy/core/include/numpy/arrayobject.h:5\u001b[m\u001b[K,\r\n",
      "                 from \u001b[01m\u001b[KHP3_Similarity_Cython_SGD.c:1252\u001b[m\u001b[K:\r\n",
      "\u001b[01m\u001b[K/usr/local/lib/python3.10/dist-packages/numpy/core/include/numpy/npy_1_7_deprecated_api.h:17:2:\u001b[m\u001b[K \u001b[01;35m\u001b[Kwarning: \u001b[m\u001b[K#warning \"Using deprecated NumPy API, disable it with \" \"#define NPY_NO_DEPRECATED_API NPY_1_7_API_VERSION\" [\u001b[01;35m\u001b[K\u001b]8;;https://gcc.gnu.org/onlinedocs/gcc/Warning-Options.html#index-Wcpp\u0007-Wcpp\u001b]8;;\u0007\u001b[m\u001b[K]\r\n",
      "   17 | #\u001b[01;35m\u001b[Kwarning\u001b[m\u001b[K \"Using deprecated NumPy API, disable it with \" \\\r\n",
      "      |  \u001b[01;35m\u001b[K^~~~~~~\u001b[m\u001b[K\r\n",
      "\u001b[01m\u001b[KHP3_Similarity_Cython_SGD.c:\u001b[m\u001b[K In function ‘\u001b[01m\u001b[K__pyx_pf_25HP3_Similarity_Cython_SGD_25HP3_Similarity_Cython_SGD_4fit\u001b[m\u001b[K’:\r\n",
      "\u001b[01m\u001b[KHP3_Similarity_Cython_SGD.c:23631:55:\u001b[m\u001b[K \u001b[01;35m\u001b[Kwarning: \u001b[m\u001b[K‘\u001b[01m\u001b[K__pyx_v_sample_num\u001b[m\u001b[K’ may be used uninitialized in this function [\u001b[01;35m\u001b[K\u001b]8;;https://gcc.gnu.org/onlinedocs/gcc/Warning-Options.html#index-Wmaybe-uninitialized\u0007-Wmaybe-uninitialized\u001b]8;;\u0007\u001b[m\u001b[K]\r\n",
      "23631 |   __pyx_t_1 = PyFloat_FromDouble((__pyx_v_cum_loss / \u001b[01;35m\u001b[K((double)__pyx_v_sample_num)\u001b[m\u001b[K)); if (unlikely(!__pyx_t_1)) __PYX_ERR(0, 291, __pyx_L1_error)\r\n",
      "      |                                                      \u001b[01;35m\u001b[K~^~~~~~~~~~~~~~~~~~~~~~~~~~~\u001b[m\u001b[K\r\n",
      "/usr/local/lib/python3.10/dist-packages/Cython/Compiler/Main.py:381: FutureWarning: Cython directive 'language_level' not set, using '3str' for now (Py3). This has changed from earlier releases! File: /kaggle/working/RECsys_Challenge2024/Recommenders/FeatureWeighting/Cython/HP3_Similarity_Cython_SGD.pyx\r\n",
      "  tree = Parsing.p_module(s, pxd, full_module_name)\r\n",
      "performance hint: HP3_Similarity_Cython_SGD.pyx:113:40: Index should be typed for more efficient access\r\n",
      "performance hint: HP3_Similarity_Cython_SGD.pyx:114:40: Index should be typed for more efficient access\r\n",
      "Compiling [10/11]: HP3_Similarity_Cython_SGD.pyx... PASS\r\n",
      "\r\n",
      "Compiling [11/11]: DataIterator.pyx... \r\n",
      "In file included from \u001b[01m\u001b[K/usr/local/lib/python3.10/dist-packages/numpy/core/include/numpy/ndarraytypes.h:1929\u001b[m\u001b[K,\r\n",
      "                 from \u001b[01m\u001b[K/usr/local/lib/python3.10/dist-packages/numpy/core/include/numpy/ndarrayobject.h:12\u001b[m\u001b[K,\r\n",
      "                 from \u001b[01m\u001b[K/usr/local/lib/python3.10/dist-packages/numpy/core/include/numpy/arrayobject.h:5\u001b[m\u001b[K,\r\n",
      "                 from \u001b[01m\u001b[KDataIterator.c:1252\u001b[m\u001b[K:\r\n",
      "\u001b[01m\u001b[K/usr/local/lib/python3.10/dist-packages/numpy/core/include/numpy/npy_1_7_deprecated_api.h:17:2:\u001b[m\u001b[K \u001b[01;35m\u001b[Kwarning: \u001b[m\u001b[K#warning \"Using deprecated NumPy API, disable it with \" \"#define NPY_NO_DEPRECATED_API NPY_1_7_API_VERSION\" [\u001b[01;35m\u001b[K\u001b]8;;https://gcc.gnu.org/onlinedocs/gcc/Warning-Options.html#index-Wcpp\u0007-Wcpp\u001b]8;;\u0007\u001b[m\u001b[K]\r\n",
      "   17 | #\u001b[01;35m\u001b[Kwarning\u001b[m\u001b[K \"Using deprecated NumPy API, disable it with \" \\\r\n",
      "      |  \u001b[01;35m\u001b[K^~~~~~~\u001b[m\u001b[K\r\n",
      "\u001b[01m\u001b[KDataIterator.c:\u001b[m\u001b[K In function ‘\u001b[01m\u001b[K__pyx_pf_12DataIterator_19InteractionIterator_6__next__\u001b[m\u001b[K’:\r\n",
      "\u001b[01m\u001b[KDataIterator.c:20937:22:\u001b[m\u001b[K \u001b[01;35m\u001b[Kwarning: \u001b[m\u001b[K‘\u001b[01m\u001b[K__pyx_v_i_batch\u001b[m\u001b[K’ may be used uninitialized in this function [\u001b[01;35m\u001b[K\u001b]8;;https://gcc.gnu.org/onlinedocs/gcc/Warning-Options.html#index-Wmaybe-uninitialized\u0007-Wmaybe-uninitialized\u001b]8;;\u0007\u001b[m\u001b[K]\r\n",
      "20937 |     (__pyx_v_i_batch \u001b[01;35m\u001b[K+\u001b[m\u001b[K 1),\r\n",
      "      |                      \u001b[01;35m\u001b[K^\u001b[m\u001b[K\r\n",
      "\u001b[01m\u001b[KDataIterator.c:\u001b[m\u001b[K In function ‘\u001b[01m\u001b[K__pyx_pf_12DataIterator_30InteractionAndNegativeIterator_6__next__\u001b[m\u001b[K’:\r\n",
      "\u001b[01m\u001b[KDataIterator.c:25499:22:\u001b[m\u001b[K \u001b[01;35m\u001b[Kwarning: \u001b[m\u001b[K‘\u001b[01m\u001b[K__pyx_v_i_batch\u001b[m\u001b[K’ may be used uninitialized in this function [\u001b[01;35m\u001b[K\u001b]8;;https://gcc.gnu.org/onlinedocs/gcc/Warning-Options.html#index-Wmaybe-uninitialized\u0007-Wmaybe-uninitialized\u001b]8;;\u0007\u001b[m\u001b[K]\r\n",
      "25499 |     (__pyx_v_i_batch \u001b[01;35m\u001b[K+\u001b[m\u001b[K 1),\r\n",
      "      |                      \u001b[01;35m\u001b[K^\u001b[m\u001b[K\r\n",
      "\u001b[01m\u001b[KDataIterator.c:\u001b[m\u001b[K In function ‘\u001b[01m\u001b[K__pyx_pf_12DataIterator_11BPRIterator_6__next__\u001b[m\u001b[K’:\r\n",
      "\u001b[01m\u001b[KDataIterator.c:23056:22:\u001b[m\u001b[K \u001b[01;35m\u001b[Kwarning: \u001b[m\u001b[K‘\u001b[01m\u001b[K__pyx_v_i_batch\u001b[m\u001b[K’ may be used uninitialized in this function [\u001b[01;35m\u001b[K\u001b]8;;https://gcc.gnu.org/onlinedocs/gcc/Warning-Options.html#index-Wmaybe-uninitialized\u0007-Wmaybe-uninitialized\u001b]8;;\u0007\u001b[m\u001b[K]\r\n",
      "23056 |     (__pyx_v_i_batch \u001b[01;35m\u001b[K+\u001b[m\u001b[K 1),\r\n",
      "      |                      \u001b[01;35m\u001b[K^\u001b[m\u001b[K\r\n",
      "/usr/local/lib/python3.10/dist-packages/Cython/Compiler/Main.py:381: FutureWarning: Cython directive 'language_level' not set, using '3str' for now (Py3). This has changed from earlier releases! File: /kaggle/working/RECsys_Challenge2024/Utils/PyTorch/Cython/DataIterator.pyx\r\n",
      "  tree = Parsing.p_module(s, pxd, full_module_name)\r\n",
      "Compiling [11/11]: DataIterator.pyx... PASS\r\n",
      "\r\n",
      "run_compile_all_cython: Compilation finished. FAILS 2/11.\r\n",
      "Compilation log can be found here: './result_experiments/run_compile_all_cython.txt'\r\n"
     ]
    }
   ],
   "source": [
    "%cd /kaggle/working/RECsys_Challenge2024 \n",
    "! python run_compile_all_cython.py"
   ]
  },
  {
   "cell_type": "code",
   "execution_count": 5,
   "id": "182c5fe3",
   "metadata": {
    "execution": {
     "iopub.execute_input": "2025-01-06T16:40:36.500911Z",
     "iopub.status.busy": "2025-01-06T16:40:36.500553Z",
     "iopub.status.idle": "2025-01-06T16:40:38.406918Z",
     "shell.execute_reply": "2025-01-06T16:40:38.406066Z"
    },
    "papermill": {
     "duration": 1.924407,
     "end_time": "2025-01-06T16:40:38.408828",
     "exception": false,
     "start_time": "2025-01-06T16:40:36.484421",
     "status": "completed"
    },
    "tags": []
   },
   "outputs": [],
   "source": [
    "from Utils.notebookFunctions import *\n",
    "import numpy as np\n",
    "import pandas as pd\n",
    "import scipy.sparse as sps\n",
    "import time\n",
    "import shutil\n",
    "import optuna\n",
    "import json\n",
    "import os\n",
    "from Utils.seconds_to_biggest_unit import seconds_to_biggest_unit\n",
    "\n",
    "\n",
    "K_PATH = '/kaggle/working/RECsys_Challenge2024'\n",
    "GH_PATH = 'TrainedModels/WithKFCV/GraphBased'\n",
    "\n",
    "np.random.seed(42)"
   ]
  },
  {
   "cell_type": "markdown",
   "id": "0b110abd",
   "metadata": {
    "papermill": {
     "duration": 0.014897,
     "end_time": "2025-01-06T16:40:38.438872",
     "exception": false,
     "start_time": "2025-01-06T16:40:38.423975",
     "status": "completed"
    },
    "tags": []
   },
   "source": [
    "## Import the repository"
   ]
  },
  {
   "cell_type": "code",
   "execution_count": 6,
   "id": "e48c5f9c",
   "metadata": {
    "execution": {
     "iopub.execute_input": "2025-01-06T16:40:38.469714Z",
     "iopub.status.busy": "2025-01-06T16:40:38.469183Z",
     "iopub.status.idle": "2025-01-06T16:40:38.955562Z",
     "shell.execute_reply": "2025-01-06T16:40:38.954438Z"
    },
    "papermill": {
     "duration": 0.503697,
     "end_time": "2025-01-06T16:40:38.957389",
     "exception": false,
     "start_time": "2025-01-06T16:40:38.453692",
     "status": "completed"
    },
    "tags": []
   },
   "outputs": [
    {
     "name": "stdout",
     "output_type": "stream",
     "text": [
      "Repository 'RECsys_Challenge2024' found.\n"
     ]
    }
   ],
   "source": [
    "repo = get_repo_from_github(token)"
   ]
  },
  {
   "cell_type": "code",
   "execution_count": 7,
   "id": "0cc371f4",
   "metadata": {
    "execution": {
     "iopub.execute_input": "2025-01-06T16:40:38.988416Z",
     "iopub.status.busy": "2025-01-06T16:40:38.988062Z",
     "iopub.status.idle": "2025-01-06T16:40:38.992434Z",
     "shell.execute_reply": "2025-01-06T16:40:38.991610Z"
    },
    "papermill": {
     "duration": 0.02175,
     "end_time": "2025-01-06T16:40:38.993999",
     "exception": false,
     "start_time": "2025-01-06T16:40:38.972249",
     "status": "completed"
    },
    "tags": []
   },
   "outputs": [],
   "source": [
    "config = {\n",
    "    'model': 'P3alpha',\n",
    "    'metric': 'MAP',\n",
    "    'n_folds': 5,\n",
    "    'tune_parameters': True,\n",
    "    'database_path': '/kaggle/working/history_P3alpha_MAP.db',\n",
    "    'copy_prev_best_params': False,\n",
    "    'tune_best_params': True,\n",
    "    'save_github': True\n",
    "}"
   ]
  },
  {
   "cell_type": "markdown",
   "id": "c4a29585",
   "metadata": {
    "papermill": {
     "duration": 0.014449,
     "end_time": "2025-01-06T16:40:39.023504",
     "exception": false,
     "start_time": "2025-01-06T16:40:39.009055",
     "status": "completed"
    },
    "tags": []
   },
   "source": [
    "Import the database where previous tuning trials have been saved."
   ]
  },
  {
   "cell_type": "code",
   "execution_count": 8,
   "id": "c8e6d43f",
   "metadata": {
    "execution": {
     "iopub.execute_input": "2025-01-06T16:40:39.054607Z",
     "iopub.status.busy": "2025-01-06T16:40:39.054230Z",
     "iopub.status.idle": "2025-01-06T16:40:39.059673Z",
     "shell.execute_reply": "2025-01-06T16:40:39.058705Z"
    },
    "papermill": {
     "duration": 0.022579,
     "end_time": "2025-01-06T16:40:39.061170",
     "exception": false,
     "start_time": "2025-01-06T16:40:39.038591",
     "status": "completed"
    },
    "tags": []
   },
   "outputs": [],
   "source": [
    "try:\n",
    "    shutil.copyfile(\n",
    "        f'{K_PATH}/{GH_PATH}/{config[\"model\"]}Recommender/Optimizing{config[\"metric\"]}/history_{config[\"model\"]}_{config[\"metric\"]}.db', \n",
    "        config['database_path']\n",
    "    )\n",
    "except FileNotFoundError:\n",
    "    pass # if not present optuna will create it"
   ]
  },
  {
   "cell_type": "markdown",
   "id": "88e626aa",
   "metadata": {
    "papermill": {
     "duration": 0.014537,
     "end_time": "2025-01-06T16:40:39.090531",
     "exception": false,
     "start_time": "2025-01-06T16:40:39.075994",
     "status": "completed"
    },
    "tags": []
   },
   "source": [
    "# Construction of URM and ICM matrices"
   ]
  },
  {
   "cell_type": "code",
   "execution_count": 9,
   "id": "650f3e10",
   "metadata": {
    "execution": {
     "iopub.execute_input": "2025-01-06T16:40:39.121326Z",
     "iopub.status.busy": "2025-01-06T16:40:39.120937Z",
     "iopub.status.idle": "2025-01-06T16:40:39.957745Z",
     "shell.execute_reply": "2025-01-06T16:40:39.956716Z"
    },
    "papermill": {
     "duration": 0.853966,
     "end_time": "2025-01-06T16:40:39.959542",
     "exception": false,
     "start_time": "2025-01-06T16:40:39.105576",
     "status": "completed"
    },
    "tags": []
   },
   "outputs": [
    {
     "data": {
      "text/plain": [
       "<35736x38121 sparse matrix of type '<class 'numpy.float64'>'\n",
       "\twith 1764607 stored elements in Compressed Sparse Row format>"
      ]
     },
     "execution_count": 9,
     "metadata": {},
     "output_type": "execute_result"
    }
   ],
   "source": [
    "URM_all_dataframe = pd.read_csv(\"/kaggle/input/recommender-system-2024-challenge-polimi/data_train.csv\")\n",
    "\n",
    "n_users = len(URM_all_dataframe[\"user_id\"].unique())\n",
    "n_items = len(URM_all_dataframe[\"item_id\"].unique())\n",
    "\n",
    "URM_all = sps.csr_matrix((URM_all_dataframe[\"data\"].values, \n",
    "                          (URM_all_dataframe[\"user_id\"].values, URM_all_dataframe[\"item_id\"].values)),\n",
    "                        shape = (n_users, n_items))\n",
    "\n",
    "URM_all"
   ]
  },
  {
   "cell_type": "code",
   "execution_count": 10,
   "id": "88ba6cc7",
   "metadata": {
    "execution": {
     "iopub.execute_input": "2025-01-06T16:40:39.990727Z",
     "iopub.status.busy": "2025-01-06T16:40:39.990385Z",
     "iopub.status.idle": "2025-01-06T16:40:41.237525Z",
     "shell.execute_reply": "2025-01-06T16:40:41.236372Z"
    },
    "papermill": {
     "duration": 1.264952,
     "end_time": "2025-01-06T16:40:41.239684",
     "exception": false,
     "start_time": "2025-01-06T16:40:39.974732",
     "status": "completed"
    },
    "tags": []
   },
   "outputs": [
    {
     "data": {
      "text/plain": [
       "<38121x94331 sparse matrix of type '<class 'numpy.float64'>'\n",
       "\twith 2940040 stored elements in Compressed Sparse Row format>"
      ]
     },
     "execution_count": 10,
     "metadata": {},
     "output_type": "execute_result"
    }
   ],
   "source": [
    "ICM_dataframe = pd.read_csv(\"/kaggle/input/recommender-system-2024-challenge-polimi/data_ICM_metadata.csv\")\n",
    "\n",
    "n_items = len(ICM_dataframe[\"item_id\"].unique())\n",
    "n_features = len(ICM_dataframe[\"feature_id\"].unique())\n",
    "\n",
    "ICM_all = sps.csr_matrix((ICM_dataframe[\"data\"].values, \n",
    "                          (ICM_dataframe[\"item_id\"].values, ICM_dataframe[\"feature_id\"].values)),\n",
    "                        shape = (n_items, n_features))\n",
    "\n",
    "ICM_all"
   ]
  },
  {
   "cell_type": "markdown",
   "id": "bafe4f34",
   "metadata": {
    "papermill": {
     "duration": 0.015045,
     "end_time": "2025-01-06T16:40:41.275769",
     "exception": false,
     "start_time": "2025-01-06T16:40:41.260724",
     "status": "completed"
    },
    "tags": []
   },
   "source": [
    "# Training"
   ]
  },
  {
   "cell_type": "code",
   "execution_count": 11,
   "id": "27f72305",
   "metadata": {
    "execution": {
     "iopub.execute_input": "2025-01-06T16:40:41.308273Z",
     "iopub.status.busy": "2025-01-06T16:40:41.307859Z",
     "iopub.status.idle": "2025-01-06T16:40:58.479700Z",
     "shell.execute_reply": "2025-01-06T16:40:58.478893Z"
    },
    "papermill": {
     "duration": 17.190017,
     "end_time": "2025-01-06T16:40:58.481633",
     "exception": false,
     "start_time": "2025-01-06T16:40:41.291616",
     "status": "completed"
    },
    "tags": []
   },
   "outputs": [
    {
     "name": "stdout",
     "output_type": "stream",
     "text": [
      "Warning: 141 (0.39 %) of 35736 users have no sampled items\n"
     ]
    }
   ],
   "source": [
    "from Evaluation.Evaluator import EvaluatorHoldout\n",
    "from Data_manager.split_functions.split_train_validation_random_holdout import split_train_in_two_percentage_global_sample\n",
    "from Data_manager.split_functions.split_train_k_folds import split_train_k_folds\n",
    "\n",
    "URM_train, URM_validation = split_train_in_two_percentage_global_sample(URM_all, train_percentage = 0.80)\n",
    "\n",
    "folds = split_train_k_folds(URM_all, k=config['n_folds'])"
   ]
  },
  {
   "cell_type": "code",
   "execution_count": 12,
   "id": "d8af55ec",
   "metadata": {
    "execution": {
     "iopub.execute_input": "2025-01-06T16:40:58.514187Z",
     "iopub.status.busy": "2025-01-06T16:40:58.513776Z",
     "iopub.status.idle": "2025-01-06T16:40:59.572842Z",
     "shell.execute_reply": "2025-01-06T16:40:59.572068Z"
    },
    "papermill": {
     "duration": 1.077414,
     "end_time": "2025-01-06T16:40:59.574629",
     "exception": false,
     "start_time": "2025-01-06T16:40:58.497215",
     "status": "completed"
    },
    "tags": []
   },
   "outputs": [],
   "source": [
    "from Recommenders.GraphBased.P3alphaRecommender import P3alphaRecommender\n",
    "\n",
    "def objective_function_P3alpha(optuna_trial):\n",
    "    \n",
    "    full_hyperp = {\n",
    "                   \"topK\": optuna_trial.suggest_int(\"topK\", 0, 1500),\n",
    "                   \"alpha\": optuna_trial.suggest_float(\"alpha\", 0, 2, log=False),\n",
    "                   \"normalize_similarity\": optuna_trial.suggest_categorical(\"normalize_similarity\", [True, False]),\n",
    "                   \"implicit\": optuna_trial.suggest_categorical(\"implicit\", [True, False]),\n",
    "    }            \n",
    "\n",
    "    validation_results = []\n",
    "    \n",
    "    for fold_idx, (URM_train_fold, URM_validation_fold) in enumerate(folds):\n",
    "    \n",
    "        recommender_instance = P3alphaRecommender(URM_train_fold)\n",
    "        recommender_instance.fit(**full_hyperp)\n",
    "        \n",
    "        evaluator = EvaluatorHoldout(URM_validation_fold, cutoff_list=[10])\n",
    "        result_df, _ = evaluator.evaluateRecommender(recommender_instance)\n",
    "        \n",
    "        validation_results.append(result_df.loc[10][\"MAP\"])\n",
    "    \n",
    "    return np.mean(validation_results)"
   ]
  },
  {
   "cell_type": "code",
   "execution_count": 13,
   "id": "77734b29",
   "metadata": {
    "_kg_hide-output": true,
    "execution": {
     "iopub.execute_input": "2025-01-06T16:40:59.606011Z",
     "iopub.status.busy": "2025-01-06T16:40:59.605484Z",
     "iopub.status.idle": "2025-01-06T23:45:30.478047Z",
     "shell.execute_reply": "2025-01-06T23:45:30.476869Z"
    },
    "papermill": {
     "duration": 25470.926946,
     "end_time": "2025-01-06T23:45:30.516971",
     "exception": false,
     "start_time": "2025-01-06T16:40:59.590025",
     "status": "completed"
    },
    "tags": []
   },
   "outputs": [
    {
     "name": "stderr",
     "output_type": "stream",
     "text": [
      "[I 2025-01-06 16:41:00,537] Using an existing study with name 'hyperparameters_tuning_P3alpha_MAP' instead of creating a new one.\n"
     ]
    },
    {
     "name": "stdout",
     "output_type": "stream",
     "text": [
      "P3alphaRecommender: Similarity column 38121 (100.0%), 3660.70 column/sec. Elapsed time 10.41 sec\n",
      "EvaluatorHoldout: Ignoring 173 ( 0.5%) Users that have less than 1 test interactions\n",
      "EvaluatorHoldout: Processed 35563 (100.0%) in 25.89 sec. Users per second: 1374\n",
      "P3alphaRecommender: Similarity column 38121 (100.0%), 3674.43 column/sec. Elapsed time 10.37 sec\n",
      "EvaluatorHoldout: Ignoring 163 ( 0.5%) Users that have less than 1 test interactions\n",
      "EvaluatorHoldout: Processed 35573 (100.0%) in 25.95 sec. Users per second: 1371\n",
      "P3alphaRecommender: Similarity column 38121 (100.0%), 3663.99 column/sec. Elapsed time 10.40 sec\n",
      "EvaluatorHoldout: Ignoring 150 ( 0.4%) Users that have less than 1 test interactions\n",
      "EvaluatorHoldout: Processed 35586 (100.0%) in 26.01 sec. Users per second: 1368\n",
      "P3alphaRecommender: Similarity column 38121 (100.0%), 3727.47 column/sec. Elapsed time 10.23 sec\n",
      "EvaluatorHoldout: Ignoring 167 ( 0.5%) Users that have less than 1 test interactions\n",
      "EvaluatorHoldout: Processed 35569 (100.0%) in 25.83 sec. Users per second: 1377\n",
      "P3alphaRecommender: Similarity column 38121 (100.0%), 3705.59 column/sec. Elapsed time 10.29 sec\n",
      "EvaluatorHoldout: Ignoring 172 ( 0.5%) Users that have less than 1 test interactions\n",
      "EvaluatorHoldout: Processed 35564 (100.0%) in 25.84 sec. Users per second: 1376\n"
     ]
    },
    {
     "name": "stderr",
     "output_type": "stream",
     "text": [
      "[I 2025-01-06 16:44:05,547] Trial 450 finished with value: 0.020811376657922116 and parameters: {'topK': 1, 'alpha': 0.20233414401634756, 'normalize_similarity': True, 'implicit': False}. Best is trial 10 with value: 0.05370249298547826.\n"
     ]
    },
    {
     "name": "stdout",
     "output_type": "stream",
     "text": [
      "P3alphaRecommender: Similarity column 38121 (100.0%), 2382.84 column/sec. Elapsed time 16.00 sec\n",
      "EvaluatorHoldout: Ignoring 173 ( 0.5%) Users that have less than 1 test interactions\n",
      "EvaluatorHoldout: Processed 35563 (100.0%) in 30.95 sec. Users per second: 1149\n",
      "P3alphaRecommender: Similarity column 38121 (100.0%), 2316.82 column/sec. Elapsed time 16.45 sec\n",
      "EvaluatorHoldout: Ignoring 163 ( 0.5%) Users that have less than 1 test interactions\n",
      "EvaluatorHoldout: Processed 35573 (100.0%) in 30.89 sec. Users per second: 1151\n",
      "P3alphaRecommender: Similarity column 38121 (100.0%), 2363.86 column/sec. Elapsed time 16.13 sec\n",
      "EvaluatorHoldout: Ignoring 150 ( 0.4%) Users that have less than 1 test interactions\n",
      "EvaluatorHoldout: Processed 35586 (100.0%) in 30.72 sec. Users per second: 1158\n",
      "P3alphaRecommender: Similarity column 38121 (100.0%), 2349.77 column/sec. Elapsed time 16.22 sec\n",
      "EvaluatorHoldout: Ignoring 167 ( 0.5%) Users that have less than 1 test interactions\n",
      "EvaluatorHoldout: Processed 35569 (100.0%) in 30.36 sec. Users per second: 1172\n",
      "P3alphaRecommender: Similarity column 38121 (100.0%), 2344.41 column/sec. Elapsed time 16.26 sec\n",
      "EvaluatorHoldout: Ignoring 172 ( 0.5%) Users that have less than 1 test interactions\n",
      "EvaluatorHoldout: Processed 35564 (100.0%) in 30.90 sec. Users per second: 1151\n"
     ]
    },
    {
     "name": "stderr",
     "output_type": "stream",
     "text": [
      "[I 2025-01-06 16:48:07,767] Trial 451 finished with value: 0.052548596230326 and parameters: {'topK': 30, 'alpha': 0.2739604703816118, 'normalize_similarity': True, 'implicit': False}. Best is trial 10 with value: 0.05370249298547826.\n"
     ]
    },
    {
     "name": "stdout",
     "output_type": "stream",
     "text": [
      "P3alphaRecommender: Similarity column 38121 (100.0%), 2129.53 column/sec. Elapsed time 17.90 sec\n",
      "EvaluatorHoldout: Ignoring 173 ( 0.5%) Users that have less than 1 test interactions\n",
      "EvaluatorHoldout: Processed 35563 (100.0%) in 32.56 sec. Users per second: 1092\n",
      "P3alphaRecommender: Similarity column 38121 (100.0%), 2139.14 column/sec. Elapsed time 17.82 sec\n",
      "EvaluatorHoldout: Ignoring 163 ( 0.5%) Users that have less than 1 test interactions\n",
      "EvaluatorHoldout: Processed 35573 (100.0%) in 32.53 sec. Users per second: 1094\n",
      "P3alphaRecommender: Similarity column 38121 (100.0%), 2154.93 column/sec. Elapsed time 17.69 sec\n",
      "EvaluatorHoldout: Ignoring 150 ( 0.4%) Users that have less than 1 test interactions\n",
      "EvaluatorHoldout: Processed 35586 (100.0%) in 32.77 sec. Users per second: 1086\n",
      "P3alphaRecommender: Similarity column 38121 (100.0%), 2157.70 column/sec. Elapsed time 17.67 sec\n",
      "EvaluatorHoldout: Ignoring 167 ( 0.5%) Users that have less than 1 test interactions\n",
      "EvaluatorHoldout: Processed 35569 (100.0%) in 32.26 sec. Users per second: 1103\n",
      "P3alphaRecommender: Similarity column 38121 (100.0%), 2143.88 column/sec. Elapsed time 17.78 sec\n",
      "EvaluatorHoldout: Ignoring 172 ( 0.5%) Users that have less than 1 test interactions\n",
      "EvaluatorHoldout: Processed 35564 (100.0%) in 32.29 sec. Users per second: 1101\n"
     ]
    },
    {
     "name": "stderr",
     "output_type": "stream",
     "text": [
      "[I 2025-01-06 16:52:31,099] Trial 452 finished with value: 0.049785967019947704 and parameters: {'topK': 65, 'alpha': 0.3372108190988191, 'normalize_similarity': True, 'implicit': False}. Best is trial 10 with value: 0.05370249298547826.\n"
     ]
    },
    {
     "name": "stdout",
     "output_type": "stream",
     "text": [
      "P3alphaRecommender: Similarity column 38121 (100.0%), 2390.77 column/sec. Elapsed time 15.95 sec\n",
      "EvaluatorHoldout: Ignoring 173 ( 0.5%) Users that have less than 1 test interactions\n",
      "EvaluatorHoldout: Processed 35563 (100.0%) in 30.77 sec. Users per second: 1156\n",
      "P3alphaRecommender: Similarity column 38121 (100.0%), 2376.07 column/sec. Elapsed time 16.04 sec\n",
      "EvaluatorHoldout: Ignoring 163 ( 0.5%) Users that have less than 1 test interactions\n",
      "EvaluatorHoldout: Processed 35573 (100.0%) in 30.98 sec. Users per second: 1148\n",
      "P3alphaRecommender: Similarity column 38121 (100.0%), 2377.62 column/sec. Elapsed time 16.03 sec\n",
      "EvaluatorHoldout: Ignoring 150 ( 0.4%) Users that have less than 1 test interactions\n",
      "EvaluatorHoldout: Processed 35586 (100.0%) in 31.13 sec. Users per second: 1143\n",
      "P3alphaRecommender: Similarity column 38121 (100.0%), 2373.96 column/sec. Elapsed time 16.06 sec\n",
      "EvaluatorHoldout: Ignoring 167 ( 0.5%) Users that have less than 1 test interactions\n",
      "EvaluatorHoldout: Processed 35569 (100.0%) in 31.27 sec. Users per second: 1138\n",
      "P3alphaRecommender: Similarity column 38121 (100.0%), 2358.67 column/sec. Elapsed time 16.16 sec\n",
      "EvaluatorHoldout: Ignoring 172 ( 0.5%) Users that have less than 1 test interactions\n",
      "EvaluatorHoldout: Processed 35564 (100.0%) in 31.16 sec. Users per second: 1141\n"
     ]
    },
    {
     "name": "stderr",
     "output_type": "stream",
     "text": [
      "[I 2025-01-06 16:56:33,691] Trial 453 finished with value: 0.05215388112343311 and parameters: {'topK': 26, 'alpha': 0.8648952671089667, 'normalize_similarity': True, 'implicit': True}. Best is trial 10 with value: 0.05370249298547826.\n"
     ]
    },
    {
     "name": "stdout",
     "output_type": "stream",
     "text": [
      "P3alphaRecommender: Similarity column 38121 (100.0%), 1326.70 column/sec. Elapsed time 28.73 sec\n",
      "EvaluatorHoldout: Ignoring 173 ( 0.5%) Users that have less than 1 test interactions\n",
      "EvaluatorHoldout: Processed 35563 (100.0%) in 38.82 sec. Users per second: 916\n",
      "P3alphaRecommender: Similarity column 38121 (100.0%), 1336.03 column/sec. Elapsed time 28.53 sec\n",
      "EvaluatorHoldout: Ignoring 163 ( 0.5%) Users that have less than 1 test interactions\n",
      "EvaluatorHoldout: Processed 35573 (100.0%) in 38.64 sec. Users per second: 921\n",
      "P3alphaRecommender: Similarity column 38121 (100.0%), 1336.74 column/sec. Elapsed time 28.52 sec\n",
      "EvaluatorHoldout: Ignoring 150 ( 0.4%) Users that have less than 1 test interactions\n",
      "EvaluatorHoldout: Processed 35586 (100.0%) in 38.29 sec. Users per second: 929\n",
      "P3alphaRecommender: Similarity column 38121 (100.0%), 1324.91 column/sec. Elapsed time 28.77 sec\n",
      "EvaluatorHoldout: Ignoring 167 ( 0.5%) Users that have less than 1 test interactions\n",
      "EvaluatorHoldout: Processed 35569 (100.0%) in 38.78 sec. Users per second: 917\n",
      "P3alphaRecommender: Similarity column 38121 (100.0%), 1310.94 column/sec. Elapsed time 29.08 sec\n",
      "EvaluatorHoldout: Ignoring 172 ( 0.5%) Users that have less than 1 test interactions\n",
      "EvaluatorHoldout: Processed 35564 (100.0%) in 39.07 sec. Users per second: 910\n"
     ]
    },
    {
     "name": "stderr",
     "output_type": "stream",
     "text": [
      "[I 2025-01-06 17:03:03,931] Trial 454 finished with value: 0.04075452147246874 and parameters: {'topK': 300, 'alpha': 0.44307668220856666, 'normalize_similarity': True, 'implicit': False}. Best is trial 10 with value: 0.05370249298547826.\n"
     ]
    },
    {
     "name": "stdout",
     "output_type": "stream",
     "text": [
      "P3alphaRecommender: Similarity column 38121 (100.0%), 1927.83 column/sec. Elapsed time 19.77 sec\n",
      "EvaluatorHoldout: Ignoring 173 ( 0.5%) Users that have less than 1 test interactions\n",
      "EvaluatorHoldout: Processed 35563 (100.0%) in 34.16 sec. Users per second: 1041\n",
      "P3alphaRecommender: Similarity column 38121 (100.0%), 1911.27 column/sec. Elapsed time 19.95 sec\n",
      "EvaluatorHoldout: Ignoring 163 ( 0.5%) Users that have less than 1 test interactions\n",
      "EvaluatorHoldout: Processed 35573 (100.0%) in 30.23 sec. Users per second: 1177\n",
      "P3alphaRecommender: Similarity column 38121 (100.0%), 1927.25 column/sec. Elapsed time 19.78 sec\n",
      "EvaluatorHoldout: Ignoring 150 ( 0.4%) Users that have less than 1 test interactions\n",
      "EvaluatorHoldout: Processed 35586 (100.0%) in 34.37 sec. Users per second: 1035\n",
      "P3alphaRecommender: Similarity column 38121 (100.0%), 1932.43 column/sec. Elapsed time 19.73 sec\n",
      "EvaluatorHoldout: Ignoring 167 ( 0.5%) Users that have less than 1 test interactions\n",
      "EvaluatorHoldout: Processed 35569 (100.0%) in 29.86 sec. Users per second: 1191\n",
      "P3alphaRecommender: Similarity column 38121 (100.0%), 1939.12 column/sec. Elapsed time 19.66 sec\n",
      "EvaluatorHoldout: Ignoring 172 ( 0.5%) Users that have less than 1 test interactions\n",
      "EvaluatorHoldout: Processed 35564 (100.0%) in 29.95 sec. Users per second: 1188\n"
     ]
    },
    {
     "name": "stderr",
     "output_type": "stream",
     "text": [
      "[I 2025-01-06 17:07:39,485] Trial 455 finished with value: 0.04727935552667801 and parameters: {'topK': 106, 'alpha': 0.4015065643420961, 'normalize_similarity': True, 'implicit': False}. Best is trial 10 with value: 0.05370249298547826.\n"
     ]
    },
    {
     "name": "stdout",
     "output_type": "stream",
     "text": [
      "P3alphaRecommender: Similarity column 38121 (100.0%), 2136.39 column/sec. Elapsed time 17.84 sec\n",
      "EvaluatorHoldout: Ignoring 173 ( 0.5%) Users that have less than 1 test interactions\n",
      "EvaluatorHoldout: Processed 35563 (100.0%) in 32.46 sec. Users per second: 1096\n",
      "P3alphaRecommender: Similarity column 38121 (100.0%), 2144.97 column/sec. Elapsed time 17.77 sec\n",
      "EvaluatorHoldout: Ignoring 163 ( 0.5%) Users that have less than 1 test interactions\n",
      "EvaluatorHoldout: Processed 35573 (100.0%) in 32.32 sec. Users per second: 1101\n",
      "P3alphaRecommender: Similarity column 38121 (100.0%), 2138.77 column/sec. Elapsed time 17.82 sec\n",
      "EvaluatorHoldout: Ignoring 150 ( 0.4%) Users that have less than 1 test interactions\n",
      "EvaluatorHoldout: Processed 35586 (100.0%) in 32.33 sec. Users per second: 1101\n",
      "P3alphaRecommender: Similarity column 38121 (100.0%), 2128.47 column/sec. Elapsed time 17.91 sec\n",
      "EvaluatorHoldout: Ignoring 167 ( 0.5%) Users that have less than 1 test interactions\n",
      "EvaluatorHoldout: Processed 35569 (100.0%) in 32.57 sec. Users per second: 1092\n",
      "P3alphaRecommender: Similarity column 38121 (100.0%), 2125.68 column/sec. Elapsed time 17.93 sec\n",
      "EvaluatorHoldout: Ignoring 172 ( 0.5%) Users that have less than 1 test interactions\n",
      "EvaluatorHoldout: Processed 35564 (100.0%) in 32.52 sec. Users per second: 1094\n"
     ]
    },
    {
     "name": "stderr",
     "output_type": "stream",
     "text": [
      "[I 2025-01-06 17:12:03,351] Trial 456 finished with value: 0.04970689733952483 and parameters: {'topK': 67, 'alpha': 0.49065996251354094, 'normalize_similarity': True, 'implicit': False}. Best is trial 10 with value: 0.05370249298547826.\n"
     ]
    },
    {
     "name": "stdout",
     "output_type": "stream",
     "text": [
      "P3alphaRecommender: Similarity column 38121 (100.0%), 2402.88 column/sec. Elapsed time 15.86 sec\n",
      "EvaluatorHoldout: Ignoring 173 ( 0.5%) Users that have less than 1 test interactions\n",
      "EvaluatorHoldout: Processed 35563 (100.0%) in 30.66 sec. Users per second: 1160\n",
      "P3alphaRecommender: Similarity column 38121 (100.0%), 2405.06 column/sec. Elapsed time 15.85 sec\n",
      "EvaluatorHoldout: Ignoring 163 ( 0.5%) Users that have less than 1 test interactions\n",
      "EvaluatorHoldout: Processed 35573 (100.0%) in 30.61 sec. Users per second: 1162\n",
      "P3alphaRecommender: Similarity column 38121 (100.0%), 2386.54 column/sec. Elapsed time 15.97 sec\n",
      "EvaluatorHoldout: Ignoring 150 ( 0.4%) Users that have less than 1 test interactions\n",
      "EvaluatorHoldout: Processed 35586 (100.0%) in 30.59 sec. Users per second: 1163\n",
      "P3alphaRecommender: Similarity column 38121 (100.0%), 2397.54 column/sec. Elapsed time 15.90 sec\n",
      "EvaluatorHoldout: Ignoring 167 ( 0.5%) Users that have less than 1 test interactions\n",
      "EvaluatorHoldout: Processed 35569 (100.0%) in 30.54 sec. Users per second: 1165\n",
      "P3alphaRecommender: Similarity column 38121 (100.0%), 2392.10 column/sec. Elapsed time 15.94 sec\n",
      "EvaluatorHoldout: Ignoring 172 ( 0.5%) Users that have less than 1 test interactions\n",
      "EvaluatorHoldout: Processed 35564 (100.0%) in 30.29 sec. Users per second: 1174\n"
     ]
    },
    {
     "name": "stderr",
     "output_type": "stream",
     "text": [
      "[I 2025-01-06 17:16:01,883] Trial 457 finished with value: 0.05339153051684285 and parameters: {'topK': 22, 'alpha': 0.5445864705311206, 'normalize_similarity': True, 'implicit': False}. Best is trial 10 with value: 0.05370249298547826.\n"
     ]
    },
    {
     "name": "stdout",
     "output_type": "stream",
     "text": [
      "P3alphaRecommender: Similarity column 38121 (100.0%), 2254.54 column/sec. Elapsed time 16.91 sec\n",
      "EvaluatorHoldout: Ignoring 173 ( 0.5%) Users that have less than 1 test interactions\n",
      "EvaluatorHoldout: Processed 35563 (100.0%) in 32.02 sec. Users per second: 1110\n",
      "P3alphaRecommender: Similarity column 38121 (100.0%), 2244.93 column/sec. Elapsed time 16.98 sec\n",
      "EvaluatorHoldout: Ignoring 163 ( 0.5%) Users that have less than 1 test interactions\n",
      "EvaluatorHoldout: Processed 35573 (100.0%) in 32.01 sec. Users per second: 1111\n",
      "P3alphaRecommender: Similarity column 38121 (100.0%), 2243.08 column/sec. Elapsed time 16.99 sec\n",
      "EvaluatorHoldout: Ignoring 150 ( 0.4%) Users that have less than 1 test interactions\n",
      "EvaluatorHoldout: Processed 35586 (100.0%) in 31.84 sec. Users per second: 1118\n",
      "P3alphaRecommender: Similarity column 38121 (100.0%), 2226.76 column/sec. Elapsed time 17.12 sec\n",
      "EvaluatorHoldout: Ignoring 167 ( 0.5%) Users that have less than 1 test interactions\n",
      "EvaluatorHoldout: Processed 35569 (100.0%) in 31.99 sec. Users per second: 1112\n",
      "P3alphaRecommender: Similarity column 38121 (100.0%), 2227.23 column/sec. Elapsed time 17.12 sec\n",
      "EvaluatorHoldout: Ignoring 172 ( 0.5%) Users that have less than 1 test interactions\n",
      "EvaluatorHoldout: Processed 35564 (100.0%) in 32.01 sec. Users per second: 1111\n"
     ]
    },
    {
     "name": "stderr",
     "output_type": "stream",
     "text": [
      "[I 2025-01-06 17:20:17,066] Trial 458 finished with value: 0.050855057924920344 and parameters: {'topK': 50, 'alpha': 0.546251220968084, 'normalize_similarity': True, 'implicit': False}. Best is trial 10 with value: 0.05370249298547826.\n"
     ]
    },
    {
     "name": "stdout",
     "output_type": "stream",
     "text": [
      "P3alphaRecommender: Similarity column 38121 (100.0%), 2416.59 column/sec. Elapsed time 15.77 sec\n",
      "EvaluatorHoldout: Ignoring 173 ( 0.5%) Users that have less than 1 test interactions\n",
      "EvaluatorHoldout: Processed 35563 (100.0%) in 30.09 sec. Users per second: 1182\n",
      "P3alphaRecommender: Similarity column 38121 (100.0%), 2424.59 column/sec. Elapsed time 15.72 sec\n",
      "EvaluatorHoldout: Ignoring 163 ( 0.5%) Users that have less than 1 test interactions\n",
      "EvaluatorHoldout: Processed 35573 (100.0%) in 30.51 sec. Users per second: 1166\n",
      "P3alphaRecommender: Similarity column 38121 (100.0%), 2406.67 column/sec. Elapsed time 15.84 sec\n",
      "EvaluatorHoldout: Ignoring 150 ( 0.4%) Users that have less than 1 test interactions\n",
      "EvaluatorHoldout: Processed 35586 (100.0%) in 30.42 sec. Users per second: 1170\n",
      "P3alphaRecommender: Similarity column 38121 (100.0%), 2401.13 column/sec. Elapsed time 15.88 sec\n",
      "EvaluatorHoldout: Ignoring 167 ( 0.5%) Users that have less than 1 test interactions\n",
      "EvaluatorHoldout: Processed 35569 (100.0%) in 30.56 sec. Users per second: 1164\n",
      "P3alphaRecommender: Similarity column 38121 (100.0%), 2404.86 column/sec. Elapsed time 15.85 sec\n",
      "EvaluatorHoldout: Ignoring 172 ( 0.5%) Users that have less than 1 test interactions\n",
      "EvaluatorHoldout: Processed 35564 (100.0%) in 30.38 sec. Users per second: 1170\n"
     ]
    },
    {
     "name": "stderr",
     "output_type": "stream",
     "text": [
      "[I 2025-01-06 17:24:14,344] Trial 459 finished with value: 0.05334709034475429 and parameters: {'topK': 22, 'alpha': 0.5688486445543975, 'normalize_similarity': True, 'implicit': False}. Best is trial 10 with value: 0.05370249298547826.\n"
     ]
    },
    {
     "name": "stdout",
     "output_type": "stream",
     "text": [
      "P3alphaRecommender: Similarity column 38121 (100.0%), 3699.11 column/sec. Elapsed time 10.31 sec\n",
      "EvaluatorHoldout: Ignoring 173 ( 0.5%) Users that have less than 1 test interactions\n",
      "EvaluatorHoldout: Processed 35563 (100.0%) in 25.91 sec. Users per second: 1373\n",
      "P3alphaRecommender: Similarity column 38121 (100.0%), 3687.68 column/sec. Elapsed time 10.34 sec\n",
      "EvaluatorHoldout: Ignoring 163 ( 0.5%) Users that have less than 1 test interactions\n",
      "EvaluatorHoldout: Processed 35573 (100.0%) in 26.20 sec. Users per second: 1358\n",
      "P3alphaRecommender: Similarity column 38121 (100.0%), 3650.69 column/sec. Elapsed time 10.44 sec\n",
      "EvaluatorHoldout: Ignoring 150 ( 0.4%) Users that have less than 1 test interactions\n",
      "EvaluatorHoldout: Processed 35586 (100.0%) in 26.11 sec. Users per second: 1363\n",
      "P3alphaRecommender: Similarity column 38121 (100.0%), 3628.00 column/sec. Elapsed time 10.51 sec\n",
      "EvaluatorHoldout: Ignoring 167 ( 0.5%) Users that have less than 1 test interactions\n",
      "EvaluatorHoldout: Processed 35569 (100.0%) in 26.31 sec. Users per second: 1352\n",
      "P3alphaRecommender: Similarity column 38121 (100.0%), 3647.22 column/sec. Elapsed time 10.45 sec\n",
      "EvaluatorHoldout: Ignoring 172 ( 0.5%) Users that have less than 1 test interactions\n",
      "EvaluatorHoldout: Processed 35564 (100.0%) in 25.92 sec. Users per second: 1372\n"
     ]
    },
    {
     "name": "stderr",
     "output_type": "stream",
     "text": [
      "[I 2025-01-06 17:27:20,403] Trial 460 finished with value: 0.019798829303457374 and parameters: {'topK': 1, 'alpha': 0.617262096096329, 'normalize_similarity': True, 'implicit': False}. Best is trial 10 with value: 0.05370249298547826.\n"
     ]
    },
    {
     "name": "stdout",
     "output_type": "stream",
     "text": [
      "P3alphaRecommender: Similarity column 38121 (100.0%), 2141.50 column/sec. Elapsed time 17.80 sec\n",
      "EvaluatorHoldout: Ignoring 173 ( 0.5%) Users that have less than 1 test interactions\n",
      "EvaluatorHoldout: Processed 35563 (100.0%) in 32.88 sec. Users per second: 1082\n",
      "P3alphaRecommender: Similarity column 38121 (100.0%), 2110.37 column/sec. Elapsed time 18.06 sec\n",
      "EvaluatorHoldout: Ignoring 163 ( 0.5%) Users that have less than 1 test interactions\n",
      "EvaluatorHoldout: Processed 35573 (100.0%) in 32.92 sec. Users per second: 1081\n",
      "P3alphaRecommender: Similarity column 38121 (100.0%), 2108.32 column/sec. Elapsed time 18.08 sec\n",
      "EvaluatorHoldout: Ignoring 150 ( 0.4%) Users that have less than 1 test interactions\n",
      "EvaluatorHoldout: Processed 35586 (100.0%) in 33.27 sec. Users per second: 1070\n",
      "P3alphaRecommender: Similarity column 38121 (100.0%), 2129.82 column/sec. Elapsed time 17.90 sec\n",
      "EvaluatorHoldout: Ignoring 167 ( 0.5%) Users that have less than 1 test interactions\n",
      "EvaluatorHoldout: Processed 35569 (100.0%) in 33.43 sec. Users per second: 1064\n",
      "P3alphaRecommender: Similarity column 38121 (100.0%), 2090.90 column/sec. Elapsed time 18.23 sec\n",
      "EvaluatorHoldout: Ignoring 172 ( 0.5%) Users that have less than 1 test interactions\n",
      "EvaluatorHoldout: Processed 35564 (100.0%) in 33.22 sec. Users per second: 1071\n"
     ]
    },
    {
     "name": "stderr",
     "output_type": "stream",
     "text": [
      "[I 2025-01-06 17:31:49,324] Trial 461 finished with value: 0.0493924967412415 and parameters: {'topK': 69, 'alpha': 0.6095820647361629, 'normalize_similarity': True, 'implicit': False}. Best is trial 10 with value: 0.05370249298547826.\n"
     ]
    },
    {
     "name": "stdout",
     "output_type": "stream",
     "text": [
      "P3alphaRecommender: Similarity column 38121 (100.0%), 1980.70 column/sec. Elapsed time 19.25 sec\n",
      "EvaluatorHoldout: Ignoring 173 ( 0.5%) Users that have less than 1 test interactions\n",
      "EvaluatorHoldout: Processed 35563 (100.0%) in 33.85 sec. Users per second: 1050\n",
      "P3alphaRecommender: Similarity column 38121 (100.0%), 1987.44 column/sec. Elapsed time 19.18 sec\n",
      "EvaluatorHoldout: Ignoring 163 ( 0.5%) Users that have less than 1 test interactions\n",
      "EvaluatorHoldout: Processed 35573 (100.0%) in 30.09 sec. Users per second: 1182\n",
      "P3alphaRecommender: Similarity column 38121 (100.0%), 1999.32 column/sec. Elapsed time 19.07 sec\n",
      "EvaluatorHoldout: Ignoring 150 ( 0.4%) Users that have less than 1 test interactions\n",
      "EvaluatorHoldout: Processed 35586 (100.0%) in 30.07 sec. Users per second: 1184\n",
      "P3alphaRecommender: Similarity column 38121 (100.0%), 2005.48 column/sec. Elapsed time 19.01 sec\n",
      "EvaluatorHoldout: Ignoring 167 ( 0.5%) Users that have less than 1 test interactions\n",
      "EvaluatorHoldout: Processed 35569 (100.0%) in 34.07 sec. Users per second: 1044\n",
      "P3alphaRecommender: Similarity column 38121 (100.0%), 1984.12 column/sec. Elapsed time 19.21 sec\n",
      "EvaluatorHoldout: Ignoring 172 ( 0.5%) Users that have less than 1 test interactions\n",
      "EvaluatorHoldout: Processed 35564 (100.0%) in 33.94 sec. Users per second: 1048\n"
     ]
    },
    {
     "name": "stderr",
     "output_type": "stream",
     "text": [
      "[I 2025-01-06 17:36:23,779] Trial 462 finished with value: 0.04792883764345963 and parameters: {'topK': 92, 'alpha': 0.5831037804683844, 'normalize_similarity': True, 'implicit': False}. Best is trial 10 with value: 0.05370249298547826.\n"
     ]
    },
    {
     "name": "stdout",
     "output_type": "stream",
     "text": [
      "P3alphaRecommender: Similarity column 38121 (100.0%), 2227.69 column/sec. Elapsed time 17.11 sec\n",
      "EvaluatorHoldout: Ignoring 173 ( 0.5%) Users that have less than 1 test interactions\n",
      "EvaluatorHoldout: Processed 35563 (100.0%) in 32.21 sec. Users per second: 1104\n",
      "P3alphaRecommender: Similarity column 38121 (100.0%), 2225.55 column/sec. Elapsed time 17.13 sec\n",
      "EvaluatorHoldout: Ignoring 163 ( 0.5%) Users that have less than 1 test interactions\n",
      "EvaluatorHoldout: Processed 35573 (100.0%) in 32.12 sec. Users per second: 1107\n",
      "P3alphaRecommender: Similarity column 38121 (100.0%), 2249.81 column/sec. Elapsed time 16.94 sec\n",
      "EvaluatorHoldout: Ignoring 150 ( 0.4%) Users that have less than 1 test interactions\n",
      "EvaluatorHoldout: Processed 35586 (100.0%) in 32.44 sec. Users per second: 1097\n",
      "P3alphaRecommender: Similarity column 38121 (100.0%), 2242.98 column/sec. Elapsed time 17.00 sec\n",
      "EvaluatorHoldout: Ignoring 167 ( 0.5%) Users that have less than 1 test interactions\n",
      "EvaluatorHoldout: Processed 35569 (100.0%) in 32.16 sec. Users per second: 1106\n",
      "P3alphaRecommender: Similarity column 38121 (100.0%), 2238.91 column/sec. Elapsed time 17.03 sec\n",
      "EvaluatorHoldout: Ignoring 172 ( 0.5%) Users that have less than 1 test interactions\n",
      "EvaluatorHoldout: Processed 35564 (100.0%) in 32.02 sec. Users per second: 1111\n"
     ]
    },
    {
     "name": "stderr",
     "output_type": "stream",
     "text": [
      "[I 2025-01-06 17:40:39,632] Trial 463 finished with value: 0.051210761436634666 and parameters: {'topK': 45, 'alpha': 0.5747602154195747, 'normalize_similarity': True, 'implicit': False}. Best is trial 10 with value: 0.05370249298547826.\n"
     ]
    },
    {
     "name": "stdout",
     "output_type": "stream",
     "text": [
      "P3alphaRecommender: Similarity column 38121 (100.0%), 3443.05 column/sec. Elapsed time 11.07 sec\n",
      "EvaluatorHoldout: Ignoring 173 ( 0.5%) Users that have less than 1 test interactions\n",
      "EvaluatorHoldout: Processed 35563 (100.0%) in 24.60 sec. Users per second: 1446\n",
      "P3alphaRecommender: Similarity column 38121 (100.0%), 3476.06 column/sec. Elapsed time 10.97 sec\n",
      "EvaluatorHoldout: Ignoring 163 ( 0.5%) Users that have less than 1 test interactions\n",
      "EvaluatorHoldout: Processed 35573 (100.0%) in 24.49 sec. Users per second: 1453\n",
      "P3alphaRecommender: Similarity column 38121 (100.0%), 3442.34 column/sec. Elapsed time 11.07 sec\n",
      "EvaluatorHoldout: Ignoring 150 ( 0.4%) Users that have less than 1 test interactions\n",
      "EvaluatorHoldout: Processed 35586 (100.0%) in 24.60 sec. Users per second: 1447\n",
      "P3alphaRecommender: Similarity column 38121 (100.0%), 3461.75 column/sec. Elapsed time 11.01 sec\n",
      "EvaluatorHoldout: Ignoring 167 ( 0.5%) Users that have less than 1 test interactions\n",
      "EvaluatorHoldout: Processed 35569 (100.0%) in 24.53 sec. Users per second: 1450\n",
      "P3alphaRecommender: Similarity column 38121 (100.0%), 3446.36 column/sec. Elapsed time 11.06 sec\n",
      "EvaluatorHoldout: Ignoring 172 ( 0.5%) Users that have less than 1 test interactions\n",
      "EvaluatorHoldout: Processed 35564 (100.0%) in 24.44 sec. Users per second: 1455\n"
     ]
    },
    {
     "name": "stderr",
     "output_type": "stream",
     "text": [
      "[I 2025-01-06 17:43:38,390] Trial 464 finished with value: 0.0002664826418719655 and parameters: {'topK': 0, 'alpha': 0.6319000821891422, 'normalize_similarity': True, 'implicit': False}. Best is trial 10 with value: 0.05370249298547826.\n"
     ]
    },
    {
     "name": "stdout",
     "output_type": "stream",
     "text": [
      "P3alphaRecommender: Similarity column 38121 (100.0%), 1707.36 column/sec. Elapsed time 22.33 sec\n",
      "EvaluatorHoldout: Ignoring 173 ( 0.5%) Users that have less than 1 test interactions\n",
      "EvaluatorHoldout: Processed 35563 (100.0%) in 31.66 sec. Users per second: 1123\n",
      "P3alphaRecommender: Similarity column 38121 (100.0%), 1716.48 column/sec. Elapsed time 22.21 sec\n",
      "EvaluatorHoldout: Ignoring 163 ( 0.5%) Users that have less than 1 test interactions\n",
      "EvaluatorHoldout: Processed 35573 (100.0%) in 31.69 sec. Users per second: 1122\n",
      "P3alphaRecommender: Similarity column 38121 (100.0%), 1715.64 column/sec. Elapsed time 22.22 sec\n",
      "EvaluatorHoldout: Ignoring 150 ( 0.4%) Users that have less than 1 test interactions\n",
      "EvaluatorHoldout: Processed 35586 (100.0%) in 31.62 sec. Users per second: 1125\n",
      "P3alphaRecommender: Similarity column 38121 (100.0%), 1716.89 column/sec. Elapsed time 22.20 sec\n",
      "EvaluatorHoldout: Ignoring 167 ( 0.5%) Users that have less than 1 test interactions\n",
      "EvaluatorHoldout: Processed 35569 (100.0%) in 31.70 sec. Users per second: 1122\n",
      "P3alphaRecommender: Similarity column 38121 (100.0%), 1721.27 column/sec. Elapsed time 22.15 sec\n",
      "EvaluatorHoldout: Ignoring 172 ( 0.5%) Users that have less than 1 test interactions\n",
      "EvaluatorHoldout: Processed 35564 (100.0%) in 31.79 sec. Users per second: 1119\n"
     ]
    },
    {
     "name": "stderr",
     "output_type": "stream",
     "text": [
      "[I 2025-01-06 17:48:35,615] Trial 465 finished with value: 0.044765393494891094 and parameters: {'topK': 159, 'alpha': 0.5318771758589255, 'normalize_similarity': True, 'implicit': True}. Best is trial 10 with value: 0.05370249298547826.\n"
     ]
    },
    {
     "name": "stdout",
     "output_type": "stream",
     "text": [
      "P3alphaRecommender: Similarity column 38121 (100.0%), 2235.75 column/sec. Elapsed time 17.05 sec\n",
      "EvaluatorHoldout: Ignoring 173 ( 0.5%) Users that have less than 1 test interactions\n",
      "EvaluatorHoldout: Processed 35563 (100.0%) in 32.04 sec. Users per second: 1110\n",
      "P3alphaRecommender: Similarity column 38121 (100.0%), 2236.93 column/sec. Elapsed time 17.04 sec\n",
      "EvaluatorHoldout: Ignoring 163 ( 0.5%) Users that have less than 1 test interactions\n",
      "EvaluatorHoldout: Processed 35573 (100.0%) in 32.06 sec. Users per second: 1110\n",
      "P3alphaRecommender: Similarity column 38121 (100.0%), 2250.70 column/sec. Elapsed time 16.94 sec\n",
      "EvaluatorHoldout: Ignoring 150 ( 0.4%) Users that have less than 1 test interactions\n",
      "EvaluatorHoldout: Processed 35586 (100.0%) in 32.15 sec. Users per second: 1107\n",
      "P3alphaRecommender: Similarity column 38121 (100.0%), 2238.04 column/sec. Elapsed time 17.03 sec\n",
      "EvaluatorHoldout: Ignoring 167 ( 0.5%) Users that have less than 1 test interactions\n",
      "EvaluatorHoldout: Processed 35569 (100.0%) in 32.22 sec. Users per second: 1104\n",
      "P3alphaRecommender: Similarity column 38121 (100.0%), 2222.36 column/sec. Elapsed time 17.15 sec\n",
      "EvaluatorHoldout: Ignoring 172 ( 0.5%) Users that have less than 1 test interactions\n",
      "EvaluatorHoldout: Processed 35564 (100.0%) in 31.87 sec. Users per second: 1116\n"
     ]
    },
    {
     "name": "stderr",
     "output_type": "stream",
     "text": [
      "[I 2025-01-06 17:52:50,394] Trial 466 finished with value: 0.05153598122737548 and parameters: {'topK': 42, 'alpha': 0.5452665285715425, 'normalize_similarity': True, 'implicit': False}. Best is trial 10 with value: 0.05370249298547826.\n"
     ]
    },
    {
     "name": "stdout",
     "output_type": "stream",
     "text": [
      "P3alphaRecommender: Similarity column 38121 (100.0%), 1837.15 column/sec. Elapsed time 20.75 sec\n",
      "EvaluatorHoldout: Ignoring 173 ( 0.5%) Users that have less than 1 test interactions\n",
      "EvaluatorHoldout: Processed 35563 (100.0%) in 31.00 sec. Users per second: 1147\n",
      "P3alphaRecommender: Similarity column 38121 (100.0%), 1836.83 column/sec. Elapsed time 20.75 sec\n",
      "EvaluatorHoldout: Ignoring 163 ( 0.5%) Users that have less than 1 test interactions\n",
      "EvaluatorHoldout: Processed 35573 (100.0%) in 31.05 sec. Users per second: 1146\n",
      "P3alphaRecommender: Similarity column 38121 (100.0%), 1843.42 column/sec. Elapsed time 20.68 sec\n",
      "EvaluatorHoldout: Ignoring 150 ( 0.4%) Users that have less than 1 test interactions\n",
      "EvaluatorHoldout: Processed 35586 (100.0%) in 30.82 sec. Users per second: 1155\n",
      "P3alphaRecommender: Similarity column 38121 (100.0%), 1854.82 column/sec. Elapsed time 20.55 sec\n",
      "EvaluatorHoldout: Ignoring 167 ( 0.5%) Users that have less than 1 test interactions\n",
      "EvaluatorHoldout: Processed 35569 (100.0%) in 30.94 sec. Users per second: 1150\n",
      "P3alphaRecommender: Similarity column 38121 (100.0%), 1870.00 column/sec. Elapsed time 20.39 sec\n",
      "EvaluatorHoldout: Ignoring 172 ( 0.5%) Users that have less than 1 test interactions\n",
      "EvaluatorHoldout: Processed 35564 (100.0%) in 30.67 sec. Users per second: 1160\n"
     ]
    },
    {
     "name": "stderr",
     "output_type": "stream",
     "text": [
      "[I 2025-01-06 17:57:29,565] Trial 467 finished with value: 0.04624245680660055 and parameters: {'topK': 126, 'alpha': 0.5105283045999465, 'normalize_similarity': True, 'implicit': False}. Best is trial 10 with value: 0.05370249298547826.\n"
     ]
    },
    {
     "name": "stdout",
     "output_type": "stream",
     "text": [
      "P3alphaRecommender: Similarity column 38121 (100.0%), 1499.84 column/sec. Elapsed time 25.42 sec\n",
      "EvaluatorHoldout: Ignoring 173 ( 0.5%) Users that have less than 1 test interactions\n",
      "EvaluatorHoldout: Processed 35563 (100.0%) in 37.69 sec. Users per second: 944\n",
      "P3alphaRecommender: Similarity column 38121 (100.0%), 1508.34 column/sec. Elapsed time 25.27 sec\n",
      "EvaluatorHoldout: Ignoring 163 ( 0.5%) Users that have less than 1 test interactions\n",
      "EvaluatorHoldout: Processed 35573 (100.0%) in 37.91 sec. Users per second: 938\n",
      "P3alphaRecommender: Similarity column 38121 (100.0%), 1488.39 column/sec. Elapsed time 25.61 sec\n",
      "EvaluatorHoldout: Ignoring 150 ( 0.4%) Users that have less than 1 test interactions\n",
      "EvaluatorHoldout: Processed 35586 (100.0%) in 37.71 sec. Users per second: 944\n",
      "P3alphaRecommender: Similarity column 38121 (100.0%), 1500.55 column/sec. Elapsed time 25.40 sec\n",
      "EvaluatorHoldout: Ignoring 167 ( 0.5%) Users that have less than 1 test interactions\n",
      "EvaluatorHoldout: Processed 35569 (100.0%) in 38.25 sec. Users per second: 930\n",
      "P3alphaRecommender: Similarity column 38121 (100.0%), 1486.84 column/sec. Elapsed time 25.64 sec\n",
      "EvaluatorHoldout: Ignoring 172 ( 0.5%) Users that have less than 1 test interactions\n",
      "EvaluatorHoldout: Processed 35564 (100.0%) in 37.95 sec. Users per second: 937\n"
     ]
    },
    {
     "name": "stderr",
     "output_type": "stream",
     "text": [
      "[I 2025-01-06 18:03:27,869] Trial 468 finished with value: 0.0383864313606888 and parameters: {'topK': 233, 'alpha': 0.5855037538440664, 'normalize_similarity': False, 'implicit': False}. Best is trial 10 with value: 0.05370249298547826.\n"
     ]
    },
    {
     "name": "stdout",
     "output_type": "stream",
     "text": [
      "P3alphaRecommender: Similarity column 38121 (100.0%), 3443.61 column/sec. Elapsed time 11.07 sec\n",
      "EvaluatorHoldout: Ignoring 173 ( 0.5%) Users that have less than 1 test interactions\n",
      "EvaluatorHoldout: Processed 35563 (100.0%) in 24.35 sec. Users per second: 1461\n",
      "P3alphaRecommender: Similarity column 38121 (100.0%), 3457.55 column/sec. Elapsed time 11.03 sec\n",
      "EvaluatorHoldout: Ignoring 163 ( 0.5%) Users that have less than 1 test interactions\n",
      "EvaluatorHoldout: Processed 35573 (100.0%) in 24.46 sec. Users per second: 1455\n",
      "P3alphaRecommender: Similarity column 38121 (100.0%), 3462.50 column/sec. Elapsed time 11.01 sec\n",
      "EvaluatorHoldout: Ignoring 150 ( 0.4%) Users that have less than 1 test interactions\n",
      "EvaluatorHoldout: Processed 35586 (100.0%) in 24.38 sec. Users per second: 1460\n",
      "P3alphaRecommender: Similarity column 38121 (100.0%), 3447.05 column/sec. Elapsed time 11.06 sec\n",
      "EvaluatorHoldout: Ignoring 167 ( 0.5%) Users that have less than 1 test interactions\n",
      "EvaluatorHoldout: Processed 35569 (100.0%) in 24.32 sec. Users per second: 1462\n",
      "P3alphaRecommender: Similarity column 38121 (100.0%), 3430.40 column/sec. Elapsed time 11.11 sec\n",
      "EvaluatorHoldout: Ignoring 172 ( 0.5%) Users that have less than 1 test interactions\n",
      "EvaluatorHoldout: Processed 35564 (100.0%) in 24.24 sec. Users per second: 1467\n"
     ]
    },
    {
     "name": "stderr",
     "output_type": "stream",
     "text": [
      "[I 2025-01-06 18:06:25,836] Trial 469 finished with value: 0.0002664826418719655 and parameters: {'topK': 0, 'alpha': 0.534261840467882, 'normalize_similarity': True, 'implicit': False}. Best is trial 10 with value: 0.05370249298547826.\n"
     ]
    },
    {
     "name": "stdout",
     "output_type": "stream",
     "text": [
      "P3alphaRecommender: Similarity column 38121 (100.0%), 2087.24 column/sec. Elapsed time 18.26 sec\n",
      "EvaluatorHoldout: Ignoring 173 ( 0.5%) Users that have less than 1 test interactions\n",
      "EvaluatorHoldout: Processed 35563 (100.0%) in 33.57 sec. Users per second: 1059\n",
      "P3alphaRecommender: Similarity column 38121 (100.0%), 2074.87 column/sec. Elapsed time 18.37 sec\n",
      "EvaluatorHoldout: Ignoring 163 ( 0.5%) Users that have less than 1 test interactions\n",
      "EvaluatorHoldout: Processed 35573 (100.0%) in 33.58 sec. Users per second: 1059\n",
      "P3alphaRecommender: Similarity column 38121 (100.0%), 2066.36 column/sec. Elapsed time 18.45 sec\n",
      "EvaluatorHoldout: Ignoring 150 ( 0.4%) Users that have less than 1 test interactions\n",
      "EvaluatorHoldout: Processed 35586 (100.0%) in 33.98 sec. Users per second: 1047\n",
      "P3alphaRecommender: Similarity column 38121 (100.0%), 2055.08 column/sec. Elapsed time 18.55 sec\n",
      "EvaluatorHoldout: Ignoring 167 ( 0.5%) Users that have less than 1 test interactions\n",
      "EvaluatorHoldout: Processed 35569 (100.0%) in 33.69 sec. Users per second: 1056\n",
      "P3alphaRecommender: Similarity column 38121 (100.0%), 2050.86 column/sec. Elapsed time 18.59 sec\n",
      "EvaluatorHoldout: Ignoring 172 ( 0.5%) Users that have less than 1 test interactions\n",
      "EvaluatorHoldout: Processed 35564 (100.0%) in 33.62 sec. Users per second: 1058\n"
     ]
    },
    {
     "name": "stderr",
     "output_type": "stream",
     "text": [
      "[I 2025-01-06 18:11:00,924] Trial 470 finished with value: 0.04889854617495644 and parameters: {'topK': 76, 'alpha': 0.6130228049316034, 'normalize_similarity': True, 'implicit': False}. Best is trial 10 with value: 0.05370249298547826.\n"
     ]
    },
    {
     "name": "stdout",
     "output_type": "stream",
     "text": [
      "P3alphaRecommender: Similarity column 38121 (100.0%), 2323.81 column/sec. Elapsed time 16.40 sec\n",
      "EvaluatorHoldout: Ignoring 173 ( 0.5%) Users that have less than 1 test interactions\n",
      "EvaluatorHoldout: Processed 35563 (100.0%) in 31.40 sec. Users per second: 1133\n",
      "P3alphaRecommender: Similarity column 38121 (100.0%), 2327.06 column/sec. Elapsed time 16.38 sec\n",
      "EvaluatorHoldout: Ignoring 163 ( 0.5%) Users that have less than 1 test interactions\n",
      "EvaluatorHoldout: Processed 35573 (100.0%) in 31.11 sec. Users per second: 1143\n",
      "P3alphaRecommender: Similarity column 38121 (100.0%), 2338.47 column/sec. Elapsed time 16.30 sec\n",
      "EvaluatorHoldout: Ignoring 150 ( 0.4%) Users that have less than 1 test interactions\n",
      "EvaluatorHoldout: Processed 35586 (100.0%) in 31.24 sec. Users per second: 1139\n",
      "P3alphaRecommender: Similarity column 38121 (100.0%), 2326.84 column/sec. Elapsed time 16.38 sec\n",
      "EvaluatorHoldout: Ignoring 167 ( 0.5%) Users that have less than 1 test interactions\n",
      "EvaluatorHoldout: Processed 35569 (100.0%) in 31.18 sec. Users per second: 1141\n",
      "P3alphaRecommender: Similarity column 38121 (100.0%), 2328.95 column/sec. Elapsed time 16.37 sec\n",
      "EvaluatorHoldout: Ignoring 172 ( 0.5%) Users that have less than 1 test interactions\n",
      "EvaluatorHoldout: Processed 35564 (100.0%) in 31.08 sec. Users per second: 1144\n"
     ]
    },
    {
     "name": "stderr",
     "output_type": "stream",
     "text": [
      "[I 2025-01-06 18:15:06,021] Trial 471 finished with value: 0.05275104218872275 and parameters: {'topK': 29, 'alpha': 0.4968267224984268, 'normalize_similarity': True, 'implicit': False}. Best is trial 10 with value: 0.05370249298547826.\n"
     ]
    },
    {
     "name": "stdout",
     "output_type": "stream",
     "text": [
      "P3alphaRecommender: Similarity column 38121 (100.0%), 2191.18 column/sec. Elapsed time 17.40 sec\n",
      "EvaluatorHoldout: Ignoring 173 ( 0.5%) Users that have less than 1 test interactions\n",
      "EvaluatorHoldout: Processed 35563 (100.0%) in 32.30 sec. Users per second: 1101\n",
      "P3alphaRecommender: Similarity column 38121 (100.0%), 2201.95 column/sec. Elapsed time 17.31 sec\n",
      "EvaluatorHoldout: Ignoring 163 ( 0.5%) Users that have less than 1 test interactions\n",
      "EvaluatorHoldout: Processed 35573 (100.0%) in 32.43 sec. Users per second: 1097\n",
      "P3alphaRecommender: Similarity column 38121 (100.0%), 2226.38 column/sec. Elapsed time 17.12 sec\n",
      "EvaluatorHoldout: Ignoring 150 ( 0.4%) Users that have less than 1 test interactions\n",
      "EvaluatorHoldout: Processed 35586 (100.0%) in 32.26 sec. Users per second: 1103\n",
      "P3alphaRecommender: Similarity column 38121 (100.0%), 2208.74 column/sec. Elapsed time 17.26 sec\n",
      "EvaluatorHoldout: Ignoring 167 ( 0.5%) Users that have less than 1 test interactions\n",
      "EvaluatorHoldout: Processed 35569 (100.0%) in 32.89 sec. Users per second: 1082\n",
      "P3alphaRecommender: Similarity column 38121 (100.0%), 2225.18 column/sec. Elapsed time 17.13 sec\n",
      "EvaluatorHoldout: Ignoring 172 ( 0.5%) Users that have less than 1 test interactions\n",
      "EvaluatorHoldout: Processed 35564 (100.0%) in 32.44 sec. Users per second: 1096\n"
     ]
    },
    {
     "name": "stderr",
     "output_type": "stream",
     "text": [
      "[I 2025-01-06 18:19:24,704] Trial 472 finished with value: 0.05090922854524691 and parameters: {'topK': 49, 'alpha': 0.5623441428317282, 'normalize_similarity': True, 'implicit': False}. Best is trial 10 with value: 0.05370249298547826.\n"
     ]
    },
    {
     "name": "stdout",
     "output_type": "stream",
     "text": [
      "P3alphaRecommender: Similarity column 38121 (100.0%), 2387.10 column/sec. Elapsed time 15.97 sec\n",
      "EvaluatorHoldout: Ignoring 173 ( 0.5%) Users that have less than 1 test interactions\n",
      "EvaluatorHoldout: Processed 35563 (100.0%) in 30.66 sec. Users per second: 1160\n",
      "P3alphaRecommender: Similarity column 38121 (100.0%), 2363.17 column/sec. Elapsed time 16.13 sec\n",
      "EvaluatorHoldout: Ignoring 163 ( 0.5%) Users that have less than 1 test interactions\n",
      "EvaluatorHoldout: Processed 35573 (100.0%) in 30.94 sec. Users per second: 1150\n",
      "P3alphaRecommender: Similarity column 38121 (100.0%), 2377.12 column/sec. Elapsed time 16.04 sec\n",
      "EvaluatorHoldout: Ignoring 150 ( 0.4%) Users that have less than 1 test interactions\n",
      "EvaluatorHoldout: Processed 35586 (100.0%) in 30.84 sec. Users per second: 1154\n",
      "P3alphaRecommender: Similarity column 38121 (100.0%), 2364.89 column/sec. Elapsed time 16.12 sec\n",
      "EvaluatorHoldout: Ignoring 167 ( 0.5%) Users that have less than 1 test interactions\n",
      "EvaluatorHoldout: Processed 35569 (100.0%) in 31.03 sec. Users per second: 1146\n",
      "P3alphaRecommender: Similarity column 38121 (100.0%), 2370.68 column/sec. Elapsed time 16.08 sec\n",
      "EvaluatorHoldout: Ignoring 172 ( 0.5%) Users that have less than 1 test interactions\n",
      "EvaluatorHoldout: Processed 35564 (100.0%) in 30.58 sec. Users per second: 1163\n"
     ]
    },
    {
     "name": "stderr",
     "output_type": "stream",
     "text": [
      "[I 2025-01-06 18:23:25,537] Trial 473 finished with value: 0.052951655775261564 and parameters: {'topK': 24, 'alpha': 0.15098918717451001, 'normalize_similarity': True, 'implicit': False}. Best is trial 10 with value: 0.05370249298547826.\n"
     ]
    },
    {
     "name": "stdout",
     "output_type": "stream",
     "text": [
      "P3alphaRecommender: Similarity column 38121 (100.0%), 3491.06 column/sec. Elapsed time 10.92 sec\n",
      "EvaluatorHoldout: Ignoring 173 ( 0.5%) Users that have less than 1 test interactions\n",
      "EvaluatorHoldout: Processed 35563 (100.0%) in 24.20 sec. Users per second: 1470\n",
      "P3alphaRecommender: Similarity column 38121 (100.0%), 3502.56 column/sec. Elapsed time 10.88 sec\n",
      "EvaluatorHoldout: Ignoring 163 ( 0.5%) Users that have less than 1 test interactions\n",
      "EvaluatorHoldout: Processed 35573 (100.0%) in 24.31 sec. Users per second: 1464\n",
      "P3alphaRecommender: Similarity column 38121 (100.0%), 3468.40 column/sec. Elapsed time 10.99 sec\n",
      "EvaluatorHoldout: Ignoring 150 ( 0.4%) Users that have less than 1 test interactions\n",
      "EvaluatorHoldout: Processed 35586 (100.0%) in 24.29 sec. Users per second: 1465\n",
      "P3alphaRecommender: Similarity column 38121 (100.0%), 3482.23 column/sec. Elapsed time 10.95 sec\n",
      "EvaluatorHoldout: Ignoring 167 ( 0.5%) Users that have less than 1 test interactions\n",
      "EvaluatorHoldout: Processed 35569 (100.0%) in 24.23 sec. Users per second: 1468\n",
      "P3alphaRecommender: Similarity column 38121 (100.0%), 3489.28 column/sec. Elapsed time 10.93 sec\n",
      "EvaluatorHoldout: Ignoring 172 ( 0.5%) Users that have less than 1 test interactions\n",
      "EvaluatorHoldout: Processed 35564 (100.0%) in 24.14 sec. Users per second: 1473\n"
     ]
    },
    {
     "name": "stderr",
     "output_type": "stream",
     "text": [
      "[I 2025-01-06 18:26:22,269] Trial 474 finished with value: 0.0002664826418719655 and parameters: {'topK': 0, 'alpha': 0.23559798263708837, 'normalize_similarity': True, 'implicit': False}. Best is trial 10 with value: 0.05370249298547826.\n"
     ]
    },
    {
     "name": "stdout",
     "output_type": "stream",
     "text": [
      "P3alphaRecommender: Similarity column 38121 (100.0%), 1232.13 column/sec. Elapsed time 30.94 sec\n",
      "EvaluatorHoldout: Ignoring 173 ( 0.5%) Users that have less than 1 test interactions\n",
      "EvaluatorHoldout: Processed 35563 (100.0%) in 40.01 sec. Users per second: 889\n",
      "P3alphaRecommender: Similarity column 38121 (100.0%), 1247.68 column/sec. Elapsed time 30.55 sec\n",
      "EvaluatorHoldout: Ignoring 163 ( 0.5%) Users that have less than 1 test interactions\n",
      "EvaluatorHoldout: Processed 35573 (100.0%) in 39.55 sec. Users per second: 900\n",
      "P3alphaRecommender: Similarity column 38121 (100.0%), 1252.46 column/sec. Elapsed time 30.44 sec\n",
      "EvaluatorHoldout: Ignoring 150 ( 0.4%) Users that have less than 1 test interactions\n",
      "EvaluatorHoldout: Processed 35586 (100.0%) in 39.73 sec. Users per second: 896\n",
      "P3alphaRecommender: Similarity column 38121 (100.0%), 1235.09 column/sec. Elapsed time 30.86 sec\n",
      "EvaluatorHoldout: Ignoring 167 ( 0.5%) Users that have less than 1 test interactions\n",
      "EvaluatorHoldout: Processed 35569 (100.0%) in 39.34 sec. Users per second: 904\n",
      "P3alphaRecommender: Similarity column 38121 (100.0%), 1348.96 column/sec. Elapsed time 28.26 sec\n",
      "EvaluatorHoldout: Ignoring 172 ( 0.5%) Users that have less than 1 test interactions\n",
      "EvaluatorHoldout: Processed 35564 (100.0%) in 38.07 sec. Users per second: 934\n"
     ]
    },
    {
     "name": "stderr",
     "output_type": "stream",
     "text": [
      "[I 2025-01-06 18:33:13,057] Trial 475 finished with value: 0.039721255985363024 and parameters: {'topK': 359, 'alpha': 0.4939798202232043, 'normalize_similarity': True, 'implicit': False}. Best is trial 10 with value: 0.05370249298547826.\n"
     ]
    },
    {
     "name": "stdout",
     "output_type": "stream",
     "text": [
      "P3alphaRecommender: Similarity column 38121 (100.0%), 2157.16 column/sec. Elapsed time 17.67 sec\n",
      "EvaluatorHoldout: Ignoring 173 ( 0.5%) Users that have less than 1 test interactions\n",
      "EvaluatorHoldout: Processed 35563 (100.0%) in 32.33 sec. Users per second: 1100\n",
      "P3alphaRecommender: Similarity column 38121 (100.0%), 2135.11 column/sec. Elapsed time 17.85 sec\n",
      "EvaluatorHoldout: Ignoring 163 ( 0.5%) Users that have less than 1 test interactions\n",
      "EvaluatorHoldout: Processed 35573 (100.0%) in 32.51 sec. Users per second: 1094\n",
      "P3alphaRecommender: Similarity column 38121 (100.0%), 2063.43 column/sec. Elapsed time 18.47 sec\n",
      "EvaluatorHoldout: Ignoring 150 ( 0.4%) Users that have less than 1 test interactions\n",
      "EvaluatorHoldout: Processed 35586 (100.0%) in 32.92 sec. Users per second: 1081\n",
      "P3alphaRecommender: Similarity column 38121 (100.0%), 2065.81 column/sec. Elapsed time 18.45 sec\n",
      "EvaluatorHoldout: Ignoring 167 ( 0.5%) Users that have less than 1 test interactions\n",
      "EvaluatorHoldout: Processed 35569 (100.0%) in 32.71 sec. Users per second: 1087\n",
      "P3alphaRecommender: Similarity column 38121 (100.0%), 2068.08 column/sec. Elapsed time 18.43 sec\n",
      "EvaluatorHoldout: Ignoring 172 ( 0.5%) Users that have less than 1 test interactions\n",
      "EvaluatorHoldout: Processed 35564 (100.0%) in 31.83 sec. Users per second: 1117\n"
     ]
    },
    {
     "name": "stderr",
     "output_type": "stream",
     "text": [
      "[I 2025-01-06 18:37:40,888] Trial 476 finished with value: 0.0477857850099169 and parameters: {'topK': 89, 'alpha': 0.19691014749278274, 'normalize_similarity': True, 'implicit': True}. Best is trial 10 with value: 0.05370249298547826.\n"
     ]
    },
    {
     "name": "stdout",
     "output_type": "stream",
     "text": [
      "P3alphaRecommender: Similarity column 38121 (100.0%), 2260.47 column/sec. Elapsed time 16.86 sec\n",
      "EvaluatorHoldout: Ignoring 173 ( 0.5%) Users that have less than 1 test interactions\n",
      "EvaluatorHoldout: Processed 35563 (100.0%) in 31.98 sec. Users per second: 1112\n",
      "P3alphaRecommender: Similarity column 38121 (100.0%), 2293.91 column/sec. Elapsed time 16.62 sec\n",
      "EvaluatorHoldout: Ignoring 163 ( 0.5%) Users that have less than 1 test interactions\n",
      "EvaluatorHoldout: Processed 35573 (100.0%) in 31.73 sec. Users per second: 1121\n",
      "P3alphaRecommender: Similarity column 38121 (100.0%), 2321.22 column/sec. Elapsed time 16.42 sec\n",
      "EvaluatorHoldout: Ignoring 150 ( 0.4%) Users that have less than 1 test interactions\n",
      "EvaluatorHoldout: Processed 35586 (100.0%) in 31.30 sec. Users per second: 1137\n",
      "P3alphaRecommender: Similarity column 38121 (100.0%), 2305.77 column/sec. Elapsed time 16.53 sec\n",
      "EvaluatorHoldout: Ignoring 167 ( 0.5%) Users that have less than 1 test interactions\n",
      "EvaluatorHoldout: Processed 35569 (100.0%) in 31.07 sec. Users per second: 1145\n",
      "P3alphaRecommender: Similarity column 38121 (100.0%), 2384.97 column/sec. Elapsed time 15.98 sec\n",
      "EvaluatorHoldout: Ignoring 172 ( 0.5%) Users that have less than 1 test interactions\n",
      "EvaluatorHoldout: Processed 35564 (100.0%) in 30.44 sec. Users per second: 1168\n"
     ]
    },
    {
     "name": "stderr",
     "output_type": "stream",
     "text": [
      "[I 2025-01-06 18:41:49,916] Trial 477 finished with value: 0.05071024430475531 and parameters: {'topK': 52, 'alpha': 0.5566198135301372, 'normalize_similarity': True, 'implicit': False}. Best is trial 10 with value: 0.05370249298547826.\n"
     ]
    },
    {
     "name": "stdout",
     "output_type": "stream",
     "text": [
      "P3alphaRecommender: Similarity column 38121 (100.0%), 2498.23 column/sec. Elapsed time 15.26 sec\n",
      "EvaluatorHoldout: Ignoring 173 ( 0.5%) Users that have less than 1 test interactions\n",
      "EvaluatorHoldout: Processed 35563 (100.0%) in 29.34 sec. Users per second: 1212\n",
      "P3alphaRecommender: Similarity column 38121 (100.0%), 2554.28 column/sec. Elapsed time 14.92 sec\n",
      "EvaluatorHoldout: Ignoring 163 ( 0.5%) Users that have less than 1 test interactions\n",
      "EvaluatorHoldout: Processed 35573 (100.0%) in 29.22 sec. Users per second: 1217\n",
      "P3alphaRecommender: Similarity column 38121 (100.0%), 2564.60 column/sec. Elapsed time 14.86 sec\n",
      "EvaluatorHoldout: Ignoring 150 ( 0.4%) Users that have less than 1 test interactions\n",
      "EvaluatorHoldout: Processed 35586 (100.0%) in 29.18 sec. Users per second: 1219\n",
      "P3alphaRecommender: Similarity column 38121 (100.0%), 2530.89 column/sec. Elapsed time 15.06 sec\n",
      "EvaluatorHoldout: Ignoring 167 ( 0.5%) Users that have less than 1 test interactions\n",
      "EvaluatorHoldout: Processed 35569 (100.0%) in 29.00 sec. Users per second: 1227\n",
      "P3alphaRecommender: Similarity column 38121 (100.0%), 2587.78 column/sec. Elapsed time 14.73 sec\n",
      "EvaluatorHoldout: Ignoring 172 ( 0.5%) Users that have less than 1 test interactions\n",
      "EvaluatorHoldout: Processed 35564 (100.0%) in 28.76 sec. Users per second: 1237\n"
     ]
    },
    {
     "name": "stderr",
     "output_type": "stream",
     "text": [
      "[I 2025-01-06 18:45:36,891] Trial 478 finished with value: 0.05303276958006624 and parameters: {'topK': 27, 'alpha': 0.46573495720853186, 'normalize_similarity': True, 'implicit': False}. Best is trial 10 with value: 0.05370249298547826.\n"
     ]
    },
    {
     "name": "stdout",
     "output_type": "stream",
     "text": [
      "P3alphaRecommender: Similarity column 38121 (100.0%), 2345.44 column/sec. Elapsed time 16.25 sec\n",
      "EvaluatorHoldout: Ignoring 173 ( 0.5%) Users that have less than 1 test interactions\n",
      "EvaluatorHoldout: Processed 35563 (100.0%) in 30.62 sec. Users per second: 1161\n",
      "P3alphaRecommender: Similarity column 38121 (100.0%), 2341.03 column/sec. Elapsed time 16.28 sec\n",
      "EvaluatorHoldout: Ignoring 163 ( 0.5%) Users that have less than 1 test interactions\n",
      "EvaluatorHoldout: Processed 35573 (100.0%) in 30.99 sec. Users per second: 1148\n",
      "P3alphaRecommender: Similarity column 38121 (100.0%), 2379.04 column/sec. Elapsed time 16.02 sec\n",
      "EvaluatorHoldout: Ignoring 150 ( 0.4%) Users that have less than 1 test interactions\n",
      "EvaluatorHoldout: Processed 35586 (100.0%) in 30.63 sec. Users per second: 1162\n",
      "P3alphaRecommender: Similarity column 38121 (100.0%), 2348.05 column/sec. Elapsed time 16.24 sec\n",
      "EvaluatorHoldout: Ignoring 167 ( 0.5%) Users that have less than 1 test interactions\n",
      "EvaluatorHoldout: Processed 35569 (100.0%) in 30.60 sec. Users per second: 1162\n",
      "P3alphaRecommender: Similarity column 38121 (100.0%), 2332.22 column/sec. Elapsed time 16.35 sec\n",
      "EvaluatorHoldout: Ignoring 172 ( 0.5%) Users that have less than 1 test interactions\n",
      "EvaluatorHoldout: Processed 35564 (100.0%) in 31.32 sec. Users per second: 1136\n"
     ]
    },
    {
     "name": "stderr",
     "output_type": "stream",
     "text": [
      "[I 2025-01-06 18:49:43,422] Trial 479 finished with value: 0.04981366852717408 and parameters: {'topK': 65, 'alpha': 0.5233755270752316, 'normalize_similarity': True, 'implicit': False}. Best is trial 10 with value: 0.05370249298547826.\n"
     ]
    },
    {
     "name": "stdout",
     "output_type": "stream",
     "text": [
      "P3alphaRecommender: Similarity column 38121 (100.0%), 2066.35 column/sec. Elapsed time 18.45 sec\n",
      "EvaluatorHoldout: Ignoring 173 ( 0.5%) Users that have less than 1 test interactions\n",
      "EvaluatorHoldout: Processed 35563 (100.0%) in 31.98 sec. Users per second: 1112\n",
      "P3alphaRecommender: Similarity column 38121 (100.0%), 2152.83 column/sec. Elapsed time 17.71 sec\n",
      "EvaluatorHoldout: Ignoring 163 ( 0.5%) Users that have less than 1 test interactions\n",
      "EvaluatorHoldout: Processed 35573 (100.0%) in 27.28 sec. Users per second: 1304\n",
      "P3alphaRecommender: Similarity column 38121 (100.0%), 2185.87 column/sec. Elapsed time 17.44 sec\n",
      "EvaluatorHoldout: Ignoring 150 ( 0.4%) Users that have less than 1 test interactions\n",
      "EvaluatorHoldout: Processed 35586 (100.0%) in 30.94 sec. Users per second: 1150\n",
      "P3alphaRecommender: Similarity column 38121 (100.0%), 2139.82 column/sec. Elapsed time 17.82 sec\n",
      "EvaluatorHoldout: Ignoring 167 ( 0.5%) Users that have less than 1 test interactions\n",
      "EvaluatorHoldout: Processed 35569 (100.0%) in 27.36 sec. Users per second: 1300\n",
      "P3alphaRecommender: Similarity column 38121 (100.0%), 2184.08 column/sec. Elapsed time 17.45 sec\n",
      "EvaluatorHoldout: Ignoring 172 ( 0.5%) Users that have less than 1 test interactions\n",
      "EvaluatorHoldout: Processed 35564 (100.0%) in 27.66 sec. Users per second: 1286\n"
     ]
    },
    {
     "name": "stderr",
     "output_type": "stream",
     "text": [
      "[I 2025-01-06 18:53:53,964] Trial 480 finished with value: 0.04699002889969203 and parameters: {'topK': 106, 'alpha': 0.23704029682645666, 'normalize_similarity': True, 'implicit': False}. Best is trial 10 with value: 0.05370249298547826.\n"
     ]
    },
    {
     "name": "stdout",
     "output_type": "stream",
     "text": [
      "P3alphaRecommender: Similarity column 38121 (100.0%), 3840.95 column/sec. Elapsed time 9.92 sec\n",
      "EvaluatorHoldout: Ignoring 173 ( 0.5%) Users that have less than 1 test interactions\n",
      "EvaluatorHoldout: Processed 35563 (100.0%) in 22.12 sec. Users per second: 1607\n",
      "P3alphaRecommender: Similarity column 38121 (100.0%), 3891.48 column/sec. Elapsed time 9.80 sec\n",
      "EvaluatorHoldout: Ignoring 163 ( 0.5%) Users that have less than 1 test interactions\n",
      "EvaluatorHoldout: Processed 35573 (100.0%) in 22.54 sec. Users per second: 1579\n",
      "P3alphaRecommender: Similarity column 38121 (100.0%), 3902.60 column/sec. Elapsed time 9.77 sec\n",
      "EvaluatorHoldout: Ignoring 150 ( 0.4%) Users that have less than 1 test interactions\n",
      "EvaluatorHoldout: Processed 35586 (100.0%) in 22.04 sec. Users per second: 1615\n",
      "P3alphaRecommender: Similarity column 38121 (100.0%), 3908.77 column/sec. Elapsed time 9.75 sec\n",
      "EvaluatorHoldout: Ignoring 167 ( 0.5%) Users that have less than 1 test interactions\n",
      "EvaluatorHoldout: Processed 35569 (100.0%) in 22.22 sec. Users per second: 1601\n",
      "P3alphaRecommender: Similarity column 38121 (100.0%), 3926.94 column/sec. Elapsed time 9.71 sec\n",
      "EvaluatorHoldout: Ignoring 172 ( 0.5%) Users that have less than 1 test interactions\n",
      "EvaluatorHoldout: Processed 35564 (100.0%) in 21.97 sec. Users per second: 1619\n"
     ]
    },
    {
     "name": "stderr",
     "output_type": "stream",
     "text": [
      "[I 2025-01-06 18:56:34,589] Trial 481 finished with value: 0.0002664826418719655 and parameters: {'topK': 0, 'alpha': 0.28313861895191794, 'normalize_similarity': True, 'implicit': False}. Best is trial 10 with value: 0.05370249298547826.\n"
     ]
    },
    {
     "name": "stdout",
     "output_type": "stream",
     "text": [
      "P3alphaRecommender: Similarity column 38121 (100.0%), 2611.69 column/sec. Elapsed time 14.60 sec\n",
      "EvaluatorHoldout: Ignoring 173 ( 0.5%) Users that have less than 1 test interactions\n",
      "EvaluatorHoldout: Processed 35563 (100.0%) in 28.72 sec. Users per second: 1238\n",
      "P3alphaRecommender: Similarity column 38121 (100.0%), 2579.40 column/sec. Elapsed time 14.78 sec\n",
      "EvaluatorHoldout: Ignoring 163 ( 0.5%) Users that have less than 1 test interactions\n",
      "EvaluatorHoldout: Processed 35573 (100.0%) in 29.17 sec. Users per second: 1220\n",
      "P3alphaRecommender: Similarity column 38121 (100.0%), 2576.10 column/sec. Elapsed time 14.80 sec\n",
      "EvaluatorHoldout: Ignoring 150 ( 0.4%) Users that have less than 1 test interactions\n",
      "EvaluatorHoldout: Processed 35586 (100.0%) in 29.14 sec. Users per second: 1221\n",
      "P3alphaRecommender: Similarity column 38121 (100.0%), 2545.29 column/sec. Elapsed time 14.98 sec\n",
      "EvaluatorHoldout: Ignoring 167 ( 0.5%) Users that have less than 1 test interactions\n",
      "EvaluatorHoldout: Processed 35569 (100.0%) in 28.85 sec. Users per second: 1233\n",
      "P3alphaRecommender: Similarity column 38121 (100.0%), 2575.44 column/sec. Elapsed time 14.80 sec\n",
      "EvaluatorHoldout: Ignoring 172 ( 0.5%) Users that have less than 1 test interactions\n",
      "EvaluatorHoldout: Processed 35564 (100.0%) in 28.96 sec. Users per second: 1228\n"
     ]
    },
    {
     "name": "stderr",
     "output_type": "stream",
     "text": [
      "[I 2025-01-06 19:00:20,975] Trial 482 finished with value: 0.05187916493510677 and parameters: {'topK': 37, 'alpha': 0.5855692163859705, 'normalize_similarity': True, 'implicit': False}. Best is trial 10 with value: 0.05370249298547826.\n"
     ]
    },
    {
     "name": "stdout",
     "output_type": "stream",
     "text": [
      "P3alphaRecommender: Similarity column 38121 (100.0%), 2321.40 column/sec. Elapsed time 16.42 sec\n",
      "EvaluatorHoldout: Ignoring 173 ( 0.5%) Users that have less than 1 test interactions\n",
      "EvaluatorHoldout: Processed 35563 (100.0%) in 30.77 sec. Users per second: 1156\n",
      "P3alphaRecommender: Similarity column 38121 (100.0%), 2349.38 column/sec. Elapsed time 16.23 sec\n",
      "EvaluatorHoldout: Ignoring 163 ( 0.5%) Users that have less than 1 test interactions\n",
      "EvaluatorHoldout: Processed 35573 (100.0%) in 30.01 sec. Users per second: 1185\n",
      "P3alphaRecommender: Similarity column 38121 (100.0%), 2353.26 column/sec. Elapsed time 16.20 sec\n",
      "EvaluatorHoldout: Ignoring 150 ( 0.4%) Users that have less than 1 test interactions\n",
      "EvaluatorHoldout: Processed 35586 (100.0%) in 29.64 sec. Users per second: 1201\n",
      "P3alphaRecommender: Similarity column 38121 (100.0%), 2350.78 column/sec. Elapsed time 16.22 sec\n",
      "EvaluatorHoldout: Ignoring 167 ( 0.5%) Users that have less than 1 test interactions\n",
      "EvaluatorHoldout: Processed 35569 (100.0%) in 29.94 sec. Users per second: 1188\n",
      "P3alphaRecommender: Similarity column 38121 (100.0%), 2349.64 column/sec. Elapsed time 16.22 sec\n",
      "EvaluatorHoldout: Ignoring 172 ( 0.5%) Users that have less than 1 test interactions\n",
      "EvaluatorHoldout: Processed 35564 (100.0%) in 29.87 sec. Users per second: 1190\n"
     ]
    },
    {
     "name": "stderr",
     "output_type": "stream",
     "text": [
      "[I 2025-01-06 19:04:24,636] Trial 483 finished with value: 0.04901993806948928 and parameters: {'topK': 76, 'alpha': 0.46666526028997457, 'normalize_similarity': True, 'implicit': False}. Best is trial 10 with value: 0.05370249298547826.\n"
     ]
    },
    {
     "name": "stdout",
     "output_type": "stream",
     "text": [
      "P3alphaRecommender: Similarity column 38121 (100.0%), 2702.24 column/sec. Elapsed time 14.11 sec\n",
      "EvaluatorHoldout: Ignoring 173 ( 0.5%) Users that have less than 1 test interactions\n",
      "EvaluatorHoldout: Processed 35563 (100.0%) in 28.36 sec. Users per second: 1254\n",
      "P3alphaRecommender: Similarity column 38121 (100.0%), 2654.85 column/sec. Elapsed time 14.36 sec\n",
      "EvaluatorHoldout: Ignoring 163 ( 0.5%) Users that have less than 1 test interactions\n",
      "EvaluatorHoldout: Processed 35573 (100.0%) in 28.11 sec. Users per second: 1266\n",
      "P3alphaRecommender: Similarity column 38121 (100.0%), 2742.06 column/sec. Elapsed time 13.90 sec\n",
      "EvaluatorHoldout: Ignoring 150 ( 0.4%) Users that have less than 1 test interactions\n",
      "EvaluatorHoldout: Processed 35586 (100.0%) in 27.64 sec. Users per second: 1288\n",
      "P3alphaRecommender: Similarity column 38121 (100.0%), 2703.63 column/sec. Elapsed time 14.10 sec\n",
      "EvaluatorHoldout: Ignoring 167 ( 0.5%) Users that have less than 1 test interactions\n",
      "EvaluatorHoldout: Processed 35569 (100.0%) in 27.70 sec. Users per second: 1284\n",
      "P3alphaRecommender: Similarity column 38121 (100.0%), 2681.85 column/sec. Elapsed time 14.21 sec\n",
      "EvaluatorHoldout: Ignoring 172 ( 0.5%) Users that have less than 1 test interactions\n",
      "EvaluatorHoldout: Processed 35564 (100.0%) in 27.63 sec. Users per second: 1287\n"
     ]
    },
    {
     "name": "stderr",
     "output_type": "stream",
     "text": [
      "[I 2025-01-06 19:08:00,704] Trial 484 finished with value: 0.05265434958527578 and parameters: {'topK': 27, 'alpha': 0.17139043737274473, 'normalize_similarity': True, 'implicit': False}. Best is trial 10 with value: 0.05370249298547826.\n"
     ]
    },
    {
     "name": "stdout",
     "output_type": "stream",
     "text": [
      "P3alphaRecommender: Similarity column 38121 (100.0%), 2467.30 column/sec. Elapsed time 15.45 sec\n",
      "EvaluatorHoldout: Ignoring 173 ( 0.5%) Users that have less than 1 test interactions\n",
      "EvaluatorHoldout: Processed 35563 (100.0%) in 29.29 sec. Users per second: 1214\n",
      "P3alphaRecommender: Similarity column 38121 (100.0%), 2496.88 column/sec. Elapsed time 15.27 sec\n",
      "EvaluatorHoldout: Ignoring 163 ( 0.5%) Users that have less than 1 test interactions\n",
      "EvaluatorHoldout: Processed 35573 (100.0%) in 29.35 sec. Users per second: 1212\n",
      "P3alphaRecommender: Similarity column 38121 (100.0%), 2539.00 column/sec. Elapsed time 15.01 sec\n",
      "EvaluatorHoldout: Ignoring 150 ( 0.4%) Users that have less than 1 test interactions\n",
      "EvaluatorHoldout: Processed 35586 (100.0%) in 29.14 sec. Users per second: 1221\n",
      "P3alphaRecommender: Similarity column 38121 (100.0%), 2507.22 column/sec. Elapsed time 15.20 sec\n",
      "EvaluatorHoldout: Ignoring 167 ( 0.5%) Users that have less than 1 test interactions\n",
      "EvaluatorHoldout: Processed 35569 (100.0%) in 29.35 sec. Users per second: 1212\n",
      "P3alphaRecommender: Similarity column 38121 (100.0%), 2478.27 column/sec. Elapsed time 15.38 sec\n",
      "EvaluatorHoldout: Ignoring 172 ( 0.5%) Users that have less than 1 test interactions\n",
      "EvaluatorHoldout: Processed 35564 (100.0%) in 29.62 sec. Users per second: 1201\n"
     ]
    },
    {
     "name": "stderr",
     "output_type": "stream",
     "text": [
      "[I 2025-01-06 19:11:53,448] Trial 485 finished with value: 0.050465805783102134 and parameters: {'topK': 56, 'alpha': 0.5113590019013392, 'normalize_similarity': True, 'implicit': False}. Best is trial 10 with value: 0.05370249298547826.\n"
     ]
    },
    {
     "name": "stdout",
     "output_type": "stream",
     "text": [
      "P3alphaRecommender: Similarity column 38121 (100.0%), 1025.15 column/sec. Elapsed time 37.19 sec\n",
      "EvaluatorHoldout: Ignoring 173 ( 0.5%) Users that have less than 1 test interactions\n",
      "EvaluatorHoldout: Processed 35563 (100.0%) in 39.66 sec. Users per second: 897\n",
      "P3alphaRecommender: Similarity column 38121 (100.0%), 1024.71 column/sec. Elapsed time 37.20 sec\n",
      "EvaluatorHoldout: Ignoring 163 ( 0.5%) Users that have less than 1 test interactions\n",
      "EvaluatorHoldout: Processed 35573 (100.0%) in 40.27 sec. Users per second: 883\n",
      "P3alphaRecommender: Similarity column 38121 (100.0%), 1019.88 column/sec. Elapsed time 37.38 sec\n",
      "EvaluatorHoldout: Ignoring 150 ( 0.4%) Users that have less than 1 test interactions\n",
      "EvaluatorHoldout: Processed 35586 (100.0%) in 39.76 sec. Users per second: 895\n",
      "P3alphaRecommender: Similarity column 38121 (100.0%), 1027.19 column/sec. Elapsed time 37.11 sec\n",
      "EvaluatorHoldout: Ignoring 167 ( 0.5%) Users that have less than 1 test interactions\n",
      "EvaluatorHoldout: Processed 35569 (100.0%) in 39.88 sec. Users per second: 892\n",
      "P3alphaRecommender: Similarity column 38121 (100.0%), 1028.54 column/sec. Elapsed time 37.06 sec\n",
      "EvaluatorHoldout: Ignoring 172 ( 0.5%) Users that have less than 1 test interactions\n",
      "EvaluatorHoldout: Processed 35564 (100.0%) in 40.22 sec. Users per second: 884\n"
     ]
    },
    {
     "name": "stderr",
     "output_type": "stream",
     "text": [
      "[I 2025-01-06 19:19:54,989] Trial 486 finished with value: 0.03725654593118531 and parameters: {'topK': 603, 'alpha': 0.6344332458774624, 'normalize_similarity': True, 'implicit': False}. Best is trial 10 with value: 0.05370249298547826.\n"
     ]
    },
    {
     "name": "stdout",
     "output_type": "stream",
     "text": [
      "P3alphaRecommender: Similarity column 38121 (100.0%), 2703.12 column/sec. Elapsed time 14.10 sec\n",
      "EvaluatorHoldout: Ignoring 173 ( 0.5%) Users that have less than 1 test interactions\n",
      "EvaluatorHoldout: Processed 35563 (100.0%) in 27.83 sec. Users per second: 1278\n",
      "P3alphaRecommender: Similarity column 38121 (100.0%), 2755.72 column/sec. Elapsed time 13.83 sec\n",
      "EvaluatorHoldout: Ignoring 163 ( 0.5%) Users that have less than 1 test interactions\n",
      "EvaluatorHoldout: Processed 35573 (100.0%) in 27.59 sec. Users per second: 1289\n",
      "P3alphaRecommender: Similarity column 38121 (100.0%), 2744.00 column/sec. Elapsed time 13.89 sec\n",
      "EvaluatorHoldout: Ignoring 150 ( 0.4%) Users that have less than 1 test interactions\n",
      "EvaluatorHoldout: Processed 35586 (100.0%) in 28.14 sec. Users per second: 1265\n",
      "P3alphaRecommender: Similarity column 38121 (100.0%), 2752.46 column/sec. Elapsed time 13.85 sec\n",
      "EvaluatorHoldout: Ignoring 167 ( 0.5%) Users that have less than 1 test interactions\n",
      "EvaluatorHoldout: Processed 35569 (100.0%) in 27.60 sec. Users per second: 1289\n",
      "P3alphaRecommender: Similarity column 38121 (100.0%), 2708.19 column/sec. Elapsed time 14.08 sec\n",
      "EvaluatorHoldout: Ignoring 172 ( 0.5%) Users that have less than 1 test interactions\n",
      "EvaluatorHoldout: Processed 35564 (100.0%) in 27.48 sec. Users per second: 1294\n"
     ]
    },
    {
     "name": "stderr",
     "output_type": "stream",
     "text": [
      "[I 2025-01-06 19:23:29,351] Trial 487 finished with value: 0.0527948561914086 and parameters: {'topK': 28, 'alpha': 0.3106586506591507, 'normalize_similarity': True, 'implicit': True}. Best is trial 10 with value: 0.05370249298547826.\n"
     ]
    },
    {
     "name": "stdout",
     "output_type": "stream",
     "text": [
      "P3alphaRecommender: Similarity column 38121 (100.0%), 2404.02 column/sec. Elapsed time 15.86 sec\n",
      "EvaluatorHoldout: Ignoring 173 ( 0.5%) Users that have less than 1 test interactions\n",
      "EvaluatorHoldout: Processed 35563 (100.0%) in 29.80 sec. Users per second: 1194\n",
      "P3alphaRecommender: Similarity column 38121 (100.0%), 2352.24 column/sec. Elapsed time 16.21 sec\n",
      "EvaluatorHoldout: Ignoring 163 ( 0.5%) Users that have less than 1 test interactions\n",
      "EvaluatorHoldout: Processed 35573 (100.0%) in 30.22 sec. Users per second: 1177\n",
      "P3alphaRecommender: Similarity column 38121 (100.0%), 2269.08 column/sec. Elapsed time 16.80 sec\n",
      "EvaluatorHoldout: Ignoring 150 ( 0.4%) Users that have less than 1 test interactions\n",
      "EvaluatorHoldout: Processed 35586 (100.0%) in 30.58 sec. Users per second: 1164\n",
      "P3alphaRecommender: Similarity column 38121 (100.0%), 2300.96 column/sec. Elapsed time 16.57 sec\n",
      "EvaluatorHoldout: Ignoring 167 ( 0.5%) Users that have less than 1 test interactions\n",
      "EvaluatorHoldout: Processed 35569 (100.0%) in 32.82 sec. Users per second: 1084\n",
      "P3alphaRecommender: Similarity column 38121 (100.0%), 2072.55 column/sec. Elapsed time 18.39 sec\n",
      "EvaluatorHoldout: Ignoring 172 ( 0.5%) Users that have less than 1 test interactions\n",
      "EvaluatorHoldout: Processed 35564 (100.0%) in 32.47 sec. Users per second: 1095\n"
     ]
    },
    {
     "name": "stderr",
     "output_type": "stream",
     "text": [
      "[I 2025-01-06 19:27:42,453] Trial 488 finished with value: 0.04144838879166414 and parameters: {'topK': 80, 'alpha': 0.5481390233108768, 'normalize_similarity': False, 'implicit': False}. Best is trial 10 with value: 0.05370249298547826.\n"
     ]
    },
    {
     "name": "stdout",
     "output_type": "stream",
     "text": [
      "P3alphaRecommender: Similarity column 38121 (100.0%), 3767.07 column/sec. Elapsed time 10.12 sec\n",
      "EvaluatorHoldout: Ignoring 173 ( 0.5%) Users that have less than 1 test interactions\n",
      "EvaluatorHoldout: Processed 35563 (100.0%) in 22.57 sec. Users per second: 1576\n",
      "P3alphaRecommender: Similarity column 38121 (100.0%), 3928.44 column/sec. Elapsed time 9.70 sec\n",
      "EvaluatorHoldout: Ignoring 163 ( 0.5%) Users that have less than 1 test interactions\n",
      "EvaluatorHoldout: Processed 35573 (100.0%) in 22.12 sec. Users per second: 1608\n",
      "P3alphaRecommender: Similarity column 38121 (100.0%), 3882.77 column/sec. Elapsed time 9.82 sec\n",
      "EvaluatorHoldout: Ignoring 150 ( 0.4%) Users that have less than 1 test interactions\n",
      "EvaluatorHoldout: Processed 35586 (100.0%) in 22.22 sec. Users per second: 1602\n",
      "P3alphaRecommender: Similarity column 38121 (100.0%), 3916.83 column/sec. Elapsed time 9.73 sec\n",
      "EvaluatorHoldout: Ignoring 167 ( 0.5%) Users that have less than 1 test interactions\n",
      "EvaluatorHoldout: Processed 35569 (100.0%) in 22.20 sec. Users per second: 1602\n",
      "P3alphaRecommender: Similarity column 38121 (100.0%), 3987.54 column/sec. Elapsed time 9.56 sec\n",
      "EvaluatorHoldout: Ignoring 172 ( 0.5%) Users that have less than 1 test interactions\n",
      "EvaluatorHoldout: Processed 35564 (100.0%) in 21.54 sec. Users per second: 1651\n"
     ]
    },
    {
     "name": "stderr",
     "output_type": "stream",
     "text": [
      "[I 2025-01-06 19:30:22,845] Trial 489 finished with value: 0.0002664826418719655 and parameters: {'topK': 0, 'alpha': 0.4488496282515151, 'normalize_similarity': True, 'implicit': False}. Best is trial 10 with value: 0.05370249298547826.\n"
     ]
    },
    {
     "name": "stdout",
     "output_type": "stream",
     "text": [
      "P3alphaRecommender: Similarity column 38121 (100.0%), 2147.36 column/sec. Elapsed time 17.75 sec\n",
      "EvaluatorHoldout: Ignoring 173 ( 0.5%) Users that have less than 1 test interactions\n",
      "EvaluatorHoldout: Processed 35563 (100.0%) in 30.63 sec. Users per second: 1161\n",
      "P3alphaRecommender: Similarity column 38121 (100.0%), 2113.93 column/sec. Elapsed time 18.03 sec\n",
      "EvaluatorHoldout: Ignoring 163 ( 0.5%) Users that have less than 1 test interactions\n",
      "EvaluatorHoldout: Processed 35573 (100.0%) in 27.21 sec. Users per second: 1308\n",
      "P3alphaRecommender: Similarity column 38121 (100.0%), 2131.37 column/sec. Elapsed time 17.89 sec\n",
      "EvaluatorHoldout: Ignoring 150 ( 0.4%) Users that have less than 1 test interactions\n",
      "EvaluatorHoldout: Processed 35586 (100.0%) in 27.39 sec. Users per second: 1299\n",
      "P3alphaRecommender: Similarity column 38121 (100.0%), 2136.75 column/sec. Elapsed time 17.84 sec\n",
      "EvaluatorHoldout: Ignoring 167 ( 0.5%) Users that have less than 1 test interactions\n",
      "EvaluatorHoldout: Processed 35569 (100.0%) in 27.02 sec. Users per second: 1316\n",
      "P3alphaRecommender: Similarity column 38121 (100.0%), 2145.99 column/sec. Elapsed time 17.76 sec\n",
      "EvaluatorHoldout: Ignoring 172 ( 0.5%) Users that have less than 1 test interactions\n",
      "EvaluatorHoldout: Processed 35564 (100.0%) in 30.39 sec. Users per second: 1170\n"
     ]
    },
    {
     "name": "stderr",
     "output_type": "stream",
     "text": [
      "[I 2025-01-06 19:34:32,273] Trial 490 finished with value: 0.04615243674253673 and parameters: {'topK': 122, 'alpha': 0.2321723745860878, 'normalize_similarity': True, 'implicit': False}. Best is trial 10 with value: 0.05370249298547826.\n"
     ]
    },
    {
     "name": "stdout",
     "output_type": "stream",
     "text": [
      "P3alphaRecommender: Similarity column 38121 (100.0%), 2556.77 column/sec. Elapsed time 14.91 sec\n",
      "EvaluatorHoldout: Ignoring 173 ( 0.5%) Users that have less than 1 test interactions\n",
      "EvaluatorHoldout: Processed 35563 (100.0%) in 29.60 sec. Users per second: 1201\n",
      "P3alphaRecommender: Similarity column 38121 (100.0%), 2445.79 column/sec. Elapsed time 15.59 sec\n",
      "EvaluatorHoldout: Ignoring 163 ( 0.5%) Users that have less than 1 test interactions\n",
      "EvaluatorHoldout: Processed 35573 (100.0%) in 29.41 sec. Users per second: 1210\n",
      "P3alphaRecommender: Similarity column 38121 (100.0%), 2530.13 column/sec. Elapsed time 15.07 sec\n",
      "EvaluatorHoldout: Ignoring 150 ( 0.4%) Users that have less than 1 test interactions\n",
      "EvaluatorHoldout: Processed 35586 (100.0%) in 29.32 sec. Users per second: 1214\n",
      "P3alphaRecommender: Similarity column 38121 (100.0%), 2462.23 column/sec. Elapsed time 15.48 sec\n",
      "EvaluatorHoldout: Ignoring 167 ( 0.5%) Users that have less than 1 test interactions\n",
      "EvaluatorHoldout: Processed 35569 (100.0%) in 28.96 sec. Users per second: 1228\n",
      "P3alphaRecommender: Similarity column 38121 (100.0%), 2554.76 column/sec. Elapsed time 14.92 sec\n",
      "EvaluatorHoldout: Ignoring 172 ( 0.5%) Users that have less than 1 test interactions\n",
      "EvaluatorHoldout: Processed 35564 (100.0%) in 28.91 sec. Users per second: 1230\n"
     ]
    },
    {
     "name": "stderr",
     "output_type": "stream",
     "text": [
      "[I 2025-01-06 19:38:23,060] Trial 491 finished with value: 0.050976040604934304 and parameters: {'topK': 48, 'alpha': 0.27739872041820646, 'normalize_similarity': True, 'implicit': False}. Best is trial 10 with value: 0.05370249298547826.\n"
     ]
    },
    {
     "name": "stdout",
     "output_type": "stream",
     "text": [
      "P3alphaRecommender: Similarity column 38121 (100.0%), 2770.42 column/sec. Elapsed time 13.76 sec\n",
      "EvaluatorHoldout: Ignoring 173 ( 0.5%) Users that have less than 1 test interactions\n",
      "EvaluatorHoldout: Processed 35563 (100.0%) in 27.64 sec. Users per second: 1286\n",
      "P3alphaRecommender: Similarity column 38121 (100.0%), 2744.43 column/sec. Elapsed time 13.89 sec\n",
      "EvaluatorHoldout: Ignoring 163 ( 0.5%) Users that have less than 1 test interactions\n",
      "EvaluatorHoldout: Processed 35573 (100.0%) in 27.24 sec. Users per second: 1306\n",
      "P3alphaRecommender: Similarity column 38121 (100.0%), 2787.41 column/sec. Elapsed time 13.68 sec\n",
      "EvaluatorHoldout: Ignoring 150 ( 0.4%) Users that have less than 1 test interactions\n",
      "EvaluatorHoldout: Processed 35586 (100.0%) in 27.49 sec. Users per second: 1295\n",
      "P3alphaRecommender: Similarity column 38121 (100.0%), 2757.76 column/sec. Elapsed time 13.82 sec\n",
      "EvaluatorHoldout: Ignoring 167 ( 0.5%) Users that have less than 1 test interactions\n",
      "EvaluatorHoldout: Processed 35569 (100.0%) in 27.17 sec. Users per second: 1309\n",
      "P3alphaRecommender: Similarity column 38121 (100.0%), 2725.47 column/sec. Elapsed time 13.99 sec\n",
      "EvaluatorHoldout: Ignoring 172 ( 0.5%) Users that have less than 1 test interactions\n",
      "EvaluatorHoldout: Processed 35564 (100.0%) in 27.79 sec. Users per second: 1280\n"
     ]
    },
    {
     "name": "stderr",
     "output_type": "stream",
     "text": [
      "[I 2025-01-06 19:41:54,856] Trial 492 finished with value: 0.05346393778526174 and parameters: {'topK': 22, 'alpha': 0.4436140502198942, 'normalize_similarity': True, 'implicit': False}. Best is trial 10 with value: 0.05370249298547826.\n"
     ]
    },
    {
     "name": "stdout",
     "output_type": "stream",
     "text": [
      "P3alphaRecommender: Similarity column 38121 (100.0%), 2491.17 column/sec. Elapsed time 15.30 sec\n",
      "EvaluatorHoldout: Ignoring 173 ( 0.5%) Users that have less than 1 test interactions\n",
      "EvaluatorHoldout: Processed 35563 (100.0%) in 29.25 sec. Users per second: 1216\n",
      "P3alphaRecommender: Similarity column 38121 (100.0%), 2452.02 column/sec. Elapsed time 15.55 sec\n",
      "EvaluatorHoldout: Ignoring 163 ( 0.5%) Users that have less than 1 test interactions\n",
      "EvaluatorHoldout: Processed 35573 (100.0%) in 29.59 sec. Users per second: 1202\n",
      "P3alphaRecommender: Similarity column 38121 (100.0%), 2480.51 column/sec. Elapsed time 15.37 sec\n",
      "EvaluatorHoldout: Ignoring 150 ( 0.4%) Users that have less than 1 test interactions\n",
      "EvaluatorHoldout: Processed 35586 (100.0%) in 29.71 sec. Users per second: 1198\n",
      "P3alphaRecommender: Similarity column 38121 (100.0%), 2461.89 column/sec. Elapsed time 15.48 sec\n",
      "EvaluatorHoldout: Ignoring 167 ( 0.5%) Users that have less than 1 test interactions\n",
      "EvaluatorHoldout: Processed 35569 (100.0%) in 29.06 sec. Users per second: 1224\n",
      "P3alphaRecommender: Similarity column 38121 (100.0%), 2487.29 column/sec. Elapsed time 15.33 sec\n",
      "EvaluatorHoldout: Ignoring 172 ( 0.5%) Users that have less than 1 test interactions\n",
      "EvaluatorHoldout: Processed 35564 (100.0%) in 29.10 sec. Users per second: 1222\n"
     ]
    },
    {
     "name": "stderr",
     "output_type": "stream",
     "text": [
      "[I 2025-01-06 19:45:48,216] Trial 493 finished with value: 0.05070152354254045 and parameters: {'topK': 54, 'alpha': 0.44060926912185444, 'normalize_similarity': True, 'implicit': False}. Best is trial 10 with value: 0.05370249298547826.\n"
     ]
    },
    {
     "name": "stdout",
     "output_type": "stream",
     "text": [
      "P3alphaRecommender: Similarity column 38121 (100.0%), 2676.89 column/sec. Elapsed time 14.24 sec\n",
      "EvaluatorHoldout: Ignoring 173 ( 0.5%) Users that have less than 1 test interactions\n",
      "EvaluatorHoldout: Processed 35563 (100.0%) in 28.04 sec. Users per second: 1268\n",
      "P3alphaRecommender: Similarity column 38121 (100.0%), 2677.21 column/sec. Elapsed time 14.24 sec\n",
      "EvaluatorHoldout: Ignoring 163 ( 0.5%) Users that have less than 1 test interactions\n",
      "EvaluatorHoldout: Processed 35573 (100.0%) in 27.66 sec. Users per second: 1286\n",
      "P3alphaRecommender: Similarity column 38121 (100.0%), 2696.51 column/sec. Elapsed time 14.14 sec\n",
      "EvaluatorHoldout: Ignoring 150 ( 0.4%) Users that have less than 1 test interactions\n",
      "EvaluatorHoldout: Processed 35586 (100.0%) in 27.58 sec. Users per second: 1290\n",
      "P3alphaRecommender: Similarity column 38121 (100.0%), 2719.95 column/sec. Elapsed time 14.02 sec\n",
      "EvaluatorHoldout: Ignoring 167 ( 0.5%) Users that have less than 1 test interactions\n",
      "EvaluatorHoldout: Processed 35569 (100.0%) in 28.10 sec. Users per second: 1266\n",
      "P3alphaRecommender: Similarity column 38121 (100.0%), 2614.15 column/sec. Elapsed time 14.58 sec\n",
      "EvaluatorHoldout: Ignoring 172 ( 0.5%) Users that have less than 1 test interactions\n",
      "EvaluatorHoldout: Processed 35564 (100.0%) in 28.51 sec. Users per second: 1247\n"
     ]
    },
    {
     "name": "stderr",
     "output_type": "stream",
     "text": [
      "[I 2025-01-06 19:49:25,471] Trial 494 finished with value: 0.052999013632758996 and parameters: {'topK': 27, 'alpha': 0.42168961597220395, 'normalize_similarity': True, 'implicit': False}. Best is trial 10 with value: 0.05370249298547826.\n"
     ]
    },
    {
     "name": "stdout",
     "output_type": "stream",
     "text": [
      "P3alphaRecommender: Similarity column 38121 (100.0%), 3878.13 column/sec. Elapsed time 9.83 sec\n",
      "EvaluatorHoldout: Ignoring 173 ( 0.5%) Users that have less than 1 test interactions\n",
      "EvaluatorHoldout: Processed 35563 (100.0%) in 22.52 sec. Users per second: 1579\n",
      "P3alphaRecommender: Similarity column 38121 (100.0%), 3934.54 column/sec. Elapsed time 9.69 sec\n",
      "EvaluatorHoldout: Ignoring 163 ( 0.5%) Users that have less than 1 test interactions\n",
      "EvaluatorHoldout: Processed 35573 (100.0%) in 22.65 sec. Users per second: 1570\n",
      "P3alphaRecommender: Similarity column 38121 (100.0%), 3926.36 column/sec. Elapsed time 9.71 sec\n",
      "EvaluatorHoldout: Ignoring 150 ( 0.4%) Users that have less than 1 test interactions\n",
      "EvaluatorHoldout: Processed 35586 (100.0%) in 22.59 sec. Users per second: 1575\n",
      "P3alphaRecommender: Similarity column 38121 (100.0%), 4012.06 column/sec. Elapsed time 9.50 sec\n",
      "EvaluatorHoldout: Ignoring 167 ( 0.5%) Users that have less than 1 test interactions\n",
      "EvaluatorHoldout: Processed 35569 (100.0%) in 22.43 sec. Users per second: 1586\n",
      "P3alphaRecommender: Similarity column 38121 (100.0%), 4055.32 column/sec. Elapsed time 9.40 sec\n",
      "EvaluatorHoldout: Ignoring 172 ( 0.5%) Users that have less than 1 test interactions\n",
      "EvaluatorHoldout: Processed 35564 (100.0%) in 21.79 sec. Users per second: 1632\n"
     ]
    },
    {
     "name": "stderr",
     "output_type": "stream",
     "text": [
      "[I 2025-01-06 19:52:06,370] Trial 495 finished with value: 0.0002664826418719655 and parameters: {'topK': 0, 'alpha': 0.33283383703818936, 'normalize_similarity': True, 'implicit': False}. Best is trial 10 with value: 0.05370249298547826.\n"
     ]
    },
    {
     "name": "stdout",
     "output_type": "stream",
     "text": [
      "P3alphaRecommender: Similarity column 38121 (100.0%), 2330.04 column/sec. Elapsed time 16.36 sec\n",
      "EvaluatorHoldout: Ignoring 173 ( 0.5%) Users that have less than 1 test interactions\n",
      "EvaluatorHoldout: Processed 35563 (100.0%) in 30.35 sec. Users per second: 1172\n",
      "P3alphaRecommender: Similarity column 38121 (100.0%), 2279.12 column/sec. Elapsed time 16.73 sec\n",
      "EvaluatorHoldout: Ignoring 163 ( 0.5%) Users that have less than 1 test interactions\n",
      "EvaluatorHoldout: Processed 35573 (100.0%) in 29.69 sec. Users per second: 1198\n",
      "P3alphaRecommender: Similarity column 38121 (100.0%), 2276.39 column/sec. Elapsed time 16.75 sec\n",
      "EvaluatorHoldout: Ignoring 150 ( 0.4%) Users that have less than 1 test interactions\n",
      "EvaluatorHoldout: Processed 35586 (100.0%) in 30.48 sec. Users per second: 1167\n",
      "P3alphaRecommender: Similarity column 38121 (100.0%), 2245.01 column/sec. Elapsed time 16.98 sec\n",
      "EvaluatorHoldout: Ignoring 167 ( 0.5%) Users that have less than 1 test interactions\n",
      "EvaluatorHoldout: Processed 35569 (100.0%) in 31.17 sec. Users per second: 1141\n",
      "P3alphaRecommender: Similarity column 38121 (100.0%), 2179.33 column/sec. Elapsed time 17.49 sec\n",
      "EvaluatorHoldout: Ignoring 172 ( 0.5%) Users that have less than 1 test interactions\n",
      "EvaluatorHoldout: Processed 35564 (100.0%) in 31.40 sec. Users per second: 1133\n"
     ]
    },
    {
     "name": "stderr",
     "output_type": "stream",
     "text": [
      "[I 2025-01-06 19:56:17,491] Trial 496 finished with value: 0.04747779076810771 and parameters: {'topK': 90, 'alpha': 0.12731963682978803, 'normalize_similarity': True, 'implicit': False}. Best is trial 10 with value: 0.05370249298547826.\n"
     ]
    },
    {
     "name": "stdout",
     "output_type": "stream",
     "text": [
      "P3alphaRecommender: Similarity column 38121 (100.0%), 2311.92 column/sec. Elapsed time 16.49 sec\n",
      "EvaluatorHoldout: Ignoring 173 ( 0.5%) Users that have less than 1 test interactions\n",
      "EvaluatorHoldout: Processed 35563 (100.0%) in 32.48 sec. Users per second: 1095\n",
      "P3alphaRecommender: Similarity column 38121 (100.0%), 2281.71 column/sec. Elapsed time 16.71 sec\n",
      "EvaluatorHoldout: Ignoring 163 ( 0.5%) Users that have less than 1 test interactions\n",
      "EvaluatorHoldout: Processed 35573 (100.0%) in 31.27 sec. Users per second: 1138\n",
      "P3alphaRecommender: Similarity column 38121 (100.0%), 2316.58 column/sec. Elapsed time 16.46 sec\n",
      "EvaluatorHoldout: Ignoring 150 ( 0.4%) Users that have less than 1 test interactions\n",
      "EvaluatorHoldout: Processed 35586 (100.0%) in 31.59 sec. Users per second: 1126\n",
      "P3alphaRecommender: Similarity column 38121 (100.0%), 2333.64 column/sec. Elapsed time 16.34 sec\n",
      "EvaluatorHoldout: Ignoring 167 ( 0.5%) Users that have less than 1 test interactions\n",
      "EvaluatorHoldout: Processed 35569 (100.0%) in 30.86 sec. Users per second: 1153\n",
      "P3alphaRecommender: Similarity column 38121 (100.0%), 2364.32 column/sec. Elapsed time 16.12 sec\n",
      "EvaluatorHoldout: Ignoring 172 ( 0.5%) Users that have less than 1 test interactions\n",
      "EvaluatorHoldout: Processed 35564 (100.0%) in 30.62 sec. Users per second: 1161\n"
     ]
    },
    {
     "name": "stderr",
     "output_type": "stream",
     "text": [
      "[I 2025-01-06 20:00:28,932] Trial 497 finished with value: 0.044506621608061764 and parameters: {'topK': 64, 'alpha': 1.6948078582675987, 'normalize_similarity': True, 'implicit': False}. Best is trial 10 with value: 0.05370249298547826.\n"
     ]
    },
    {
     "name": "stdout",
     "output_type": "stream",
     "text": [
      "P3alphaRecommender: Similarity column 38121 (100.0%), 2663.61 column/sec. Elapsed time 14.31 sec\n",
      "EvaluatorHoldout: Ignoring 173 ( 0.5%) Users that have less than 1 test interactions\n",
      "EvaluatorHoldout: Processed 35563 (100.0%) in 28.54 sec. Users per second: 1246\n",
      "P3alphaRecommender: Similarity column 38121 (100.0%), 2648.78 column/sec. Elapsed time 14.39 sec\n",
      "EvaluatorHoldout: Ignoring 163 ( 0.5%) Users that have less than 1 test interactions\n",
      "EvaluatorHoldout: Processed 35573 (100.0%) in 29.01 sec. Users per second: 1226\n",
      "P3alphaRecommender: Similarity column 38121 (100.0%), 2561.61 column/sec. Elapsed time 14.88 sec\n",
      "EvaluatorHoldout: Ignoring 150 ( 0.4%) Users that have less than 1 test interactions\n",
      "EvaluatorHoldout: Processed 35586 (100.0%) in 29.69 sec. Users per second: 1199\n",
      "P3alphaRecommender: Similarity column 38121 (100.0%), 2581.55 column/sec. Elapsed time 14.77 sec\n",
      "EvaluatorHoldout: Ignoring 167 ( 0.5%) Users that have less than 1 test interactions\n",
      "EvaluatorHoldout: Processed 35569 (100.0%) in 28.99 sec. Users per second: 1227\n",
      "P3alphaRecommender: Similarity column 38121 (100.0%), 2628.65 column/sec. Elapsed time 14.50 sec\n",
      "EvaluatorHoldout: Ignoring 172 ( 0.5%) Users that have less than 1 test interactions\n",
      "EvaluatorHoldout: Processed 35564 (100.0%) in 29.03 sec. Users per second: 1225\n"
     ]
    },
    {
     "name": "stderr",
     "output_type": "stream",
     "text": [
      "[I 2025-01-06 20:04:13,713] Trial 498 finished with value: 0.05277860917145566 and parameters: {'topK': 29, 'alpha': 0.47131103827874377, 'normalize_similarity': True, 'implicit': False}. Best is trial 10 with value: 0.05370249298547826.\n"
     ]
    },
    {
     "name": "stdout",
     "output_type": "stream",
     "text": [
      "P3alphaRecommender: Similarity column 38121 (100.0%), 2222.95 column/sec. Elapsed time 17.15 sec\n",
      "EvaluatorHoldout: Ignoring 173 ( 0.5%) Users that have less than 1 test interactions\n",
      "EvaluatorHoldout: Processed 35563 (100.0%) in 31.13 sec. Users per second: 1142\n",
      "P3alphaRecommender: Similarity column 38121 (100.0%), 2186.07 column/sec. Elapsed time 17.44 sec\n",
      "EvaluatorHoldout: Ignoring 163 ( 0.5%) Users that have less than 1 test interactions\n",
      "EvaluatorHoldout: Processed 35573 (100.0%) in 27.93 sec. Users per second: 1274\n",
      "P3alphaRecommender: Similarity column 38121 (100.0%), 2238.31 column/sec. Elapsed time 17.03 sec\n",
      "EvaluatorHoldout: Ignoring 150 ( 0.4%) Users that have less than 1 test interactions\n",
      "EvaluatorHoldout: Processed 35586 (100.0%) in 30.64 sec. Users per second: 1161\n",
      "P3alphaRecommender: Similarity column 38121 (100.0%), 2257.05 column/sec. Elapsed time 16.89 sec\n",
      "EvaluatorHoldout: Ignoring 167 ( 0.5%) Users that have less than 1 test interactions\n",
      "EvaluatorHoldout: Processed 35569 (100.0%) in 27.22 sec. Users per second: 1307\n",
      "P3alphaRecommender: Similarity column 38121 (100.0%), 2258.68 column/sec. Elapsed time 16.88 sec\n",
      "EvaluatorHoldout: Ignoring 172 ( 0.5%) Users that have less than 1 test interactions\n",
      "EvaluatorHoldout: Processed 35564 (100.0%) in 27.00 sec. Users per second: 1317\n"
     ]
    },
    {
     "name": "stderr",
     "output_type": "stream",
     "text": [
      "[I 2025-01-06 20:08:18,420] Trial 499 finished with value: 0.04750489131383462 and parameters: {'topK': 102, 'alpha': 0.35648098729793865, 'normalize_similarity': True, 'implicit': True}. Best is trial 10 with value: 0.05370249298547826.\n"
     ]
    },
    {
     "name": "stdout",
     "output_type": "stream",
     "text": [
      "P3alphaRecommender: Similarity column 38121 (100.0%), 2510.66 column/sec. Elapsed time 15.18 sec\n",
      "EvaluatorHoldout: Ignoring 173 ( 0.5%) Users that have less than 1 test interactions\n",
      "EvaluatorHoldout: Processed 35563 (100.0%) in 30.31 sec. Users per second: 1173\n",
      "P3alphaRecommender: Similarity column 38121 (100.0%), 2444.27 column/sec. Elapsed time 15.60 sec\n",
      "EvaluatorHoldout: Ignoring 163 ( 0.5%) Users that have less than 1 test interactions\n",
      "EvaluatorHoldout: Processed 35573 (100.0%) in 30.17 sec. Users per second: 1179\n",
      "P3alphaRecommender: Similarity column 38121 (100.0%), 2517.15 column/sec. Elapsed time 15.14 sec\n",
      "EvaluatorHoldout: Ignoring 150 ( 0.4%) Users that have less than 1 test interactions\n",
      "EvaluatorHoldout: Processed 35586 (100.0%) in 30.38 sec. Users per second: 1172\n",
      "P3alphaRecommender: Similarity column 38121 (100.0%), 2452.34 column/sec. Elapsed time 15.54 sec\n",
      "EvaluatorHoldout: Ignoring 167 ( 0.5%) Users that have less than 1 test interactions\n",
      "EvaluatorHoldout: Processed 35569 (100.0%) in 30.39 sec. Users per second: 1170\n",
      "P3alphaRecommender: Similarity column 38121 (100.0%), 2477.84 column/sec. Elapsed time 15.38 sec\n",
      "EvaluatorHoldout: Ignoring 172 ( 0.5%) Users that have less than 1 test interactions\n",
      "EvaluatorHoldout: Processed 35564 (100.0%) in 29.57 sec. Users per second: 1203\n"
     ]
    },
    {
     "name": "stderr",
     "output_type": "stream",
     "text": [
      "[I 2025-01-06 20:12:14,742] Trial 500 finished with value: 0.05119848219107702 and parameters: {'topK': 47, 'alpha': 0.43037146787929187, 'normalize_similarity': True, 'implicit': False}. Best is trial 10 with value: 0.05370249298547826.\n"
     ]
    },
    {
     "name": "stdout",
     "output_type": "stream",
     "text": [
      "P3alphaRecommender: Similarity column 38121 (100.0%), 2338.58 column/sec. Elapsed time 16.30 sec\n",
      "EvaluatorHoldout: Ignoring 173 ( 0.5%) Users that have less than 1 test interactions\n",
      "EvaluatorHoldout: Processed 35563 (100.0%) in 29.89 sec. Users per second: 1190\n",
      "P3alphaRecommender: Similarity column 38121 (100.0%), 2332.81 column/sec. Elapsed time 16.34 sec\n",
      "EvaluatorHoldout: Ignoring 163 ( 0.5%) Users that have less than 1 test interactions\n",
      "EvaluatorHoldout: Processed 35573 (100.0%) in 30.57 sec. Users per second: 1163\n",
      "P3alphaRecommender: Similarity column 38121 (100.0%), 2378.92 column/sec. Elapsed time 16.02 sec\n",
      "EvaluatorHoldout: Ignoring 150 ( 0.4%) Users that have less than 1 test interactions\n",
      "EvaluatorHoldout: Processed 35586 (100.0%) in 29.89 sec. Users per second: 1190\n",
      "P3alphaRecommender: Similarity column 38121 (100.0%), 2367.69 column/sec. Elapsed time 16.10 sec\n",
      "EvaluatorHoldout: Ignoring 167 ( 0.5%) Users that have less than 1 test interactions\n",
      "EvaluatorHoldout: Processed 35569 (100.0%) in 29.97 sec. Users per second: 1187\n",
      "P3alphaRecommender: Similarity column 38121 (100.0%), 2356.27 column/sec. Elapsed time 16.18 sec\n",
      "EvaluatorHoldout: Ignoring 172 ( 0.5%) Users that have less than 1 test interactions\n",
      "EvaluatorHoldout: Processed 35564 (100.0%) in 29.92 sec. Users per second: 1189\n"
     ]
    },
    {
     "name": "stderr",
     "output_type": "stream",
     "text": [
      "[I 2025-01-06 20:16:17,701] Trial 501 finished with value: 0.04899959934305564 and parameters: {'topK': 74, 'alpha': 0.2765870481880731, 'normalize_similarity': True, 'implicit': False}. Best is trial 10 with value: 0.05370249298547826.\n"
     ]
    },
    {
     "name": "stdout",
     "output_type": "stream",
     "text": [
      "P3alphaRecommender: Similarity column 38121 (100.0%), 2815.64 column/sec. Elapsed time 13.54 sec\n",
      "EvaluatorHoldout: Ignoring 173 ( 0.5%) Users that have less than 1 test interactions\n",
      "EvaluatorHoldout: Processed 35563 (100.0%) in 27.05 sec. Users per second: 1315\n",
      "P3alphaRecommender: Similarity column 38121 (100.0%), 2771.06 column/sec. Elapsed time 13.76 sec\n",
      "EvaluatorHoldout: Ignoring 163 ( 0.5%) Users that have less than 1 test interactions\n",
      "EvaluatorHoldout: Processed 35573 (100.0%) in 27.39 sec. Users per second: 1299\n",
      "P3alphaRecommender: Similarity column 38121 (100.0%), 2824.69 column/sec. Elapsed time 13.50 sec\n",
      "EvaluatorHoldout: Ignoring 150 ( 0.4%) Users that have less than 1 test interactions\n",
      "EvaluatorHoldout: Processed 35586 (100.0%) in 27.13 sec. Users per second: 1311\n",
      "P3alphaRecommender: Similarity column 38121 (100.0%), 2831.25 column/sec. Elapsed time 13.46 sec\n",
      "EvaluatorHoldout: Ignoring 167 ( 0.5%) Users that have less than 1 test interactions\n",
      "EvaluatorHoldout: Processed 35569 (100.0%) in 27.09 sec. Users per second: 1313\n",
      "P3alphaRecommender: Similarity column 38121 (100.0%), 2851.46 column/sec. Elapsed time 13.37 sec\n",
      "EvaluatorHoldout: Ignoring 172 ( 0.5%) Users that have less than 1 test interactions\n",
      "EvaluatorHoldout: Processed 35564 (100.0%) in 26.93 sec. Users per second: 1320\n"
     ]
    },
    {
     "name": "stderr",
     "output_type": "stream",
     "text": [
      "[I 2025-01-06 20:19:46,010] Trial 502 finished with value: 0.05361747549495834 and parameters: {'topK': 19, 'alpha': 0.19549192170610377, 'normalize_similarity': True, 'implicit': False}. Best is trial 10 with value: 0.05370249298547826.\n"
     ]
    },
    {
     "name": "stdout",
     "output_type": "stream",
     "text": [
      "P3alphaRecommender: Similarity column 38121 (100.0%), 2783.53 column/sec. Elapsed time 13.70 sec\n",
      "EvaluatorHoldout: Ignoring 173 ( 0.5%) Users that have less than 1 test interactions\n",
      "EvaluatorHoldout: Processed 35563 (100.0%) in 27.58 sec. Users per second: 1289\n",
      "P3alphaRecommender: Similarity column 38121 (100.0%), 2753.04 column/sec. Elapsed time 13.85 sec\n",
      "EvaluatorHoldout: Ignoring 163 ( 0.5%) Users that have less than 1 test interactions\n",
      "EvaluatorHoldout: Processed 35573 (100.0%) in 27.62 sec. Users per second: 1288\n",
      "P3alphaRecommender: Similarity column 38121 (100.0%), 2766.07 column/sec. Elapsed time 13.78 sec\n",
      "EvaluatorHoldout: Ignoring 150 ( 0.4%) Users that have less than 1 test interactions\n",
      "EvaluatorHoldout: Processed 35586 (100.0%) in 27.32 sec. Users per second: 1302\n",
      "P3alphaRecommender: Similarity column 38121 (100.0%), 2803.96 column/sec. Elapsed time 13.60 sec\n",
      "EvaluatorHoldout: Ignoring 167 ( 0.5%) Users that have less than 1 test interactions\n",
      "EvaluatorHoldout: Processed 35569 (100.0%) in 28.29 sec. Users per second: 1257\n",
      "P3alphaRecommender: Similarity column 38121 (100.0%), 2683.49 column/sec. Elapsed time 14.21 sec\n",
      "EvaluatorHoldout: Ignoring 172 ( 0.5%) Users that have less than 1 test interactions\n",
      "EvaluatorHoldout: Processed 35564 (100.0%) in 28.69 sec. Users per second: 1240\n"
     ]
    },
    {
     "name": "stderr",
     "output_type": "stream",
     "text": [
      "[I 2025-01-06 20:23:20,448] Trial 503 finished with value: 0.05306862921131865 and parameters: {'topK': 24, 'alpha': 0.19023701418523042, 'normalize_similarity': True, 'implicit': False}. Best is trial 10 with value: 0.05370249298547826.\n"
     ]
    },
    {
     "name": "stdout",
     "output_type": "stream",
     "text": [
      "P3alphaRecommender: Similarity column 38121 (100.0%), 4025.95 column/sec. Elapsed time 9.47 sec\n",
      "EvaluatorHoldout: Ignoring 173 ( 0.5%) Users that have less than 1 test interactions\n",
      "EvaluatorHoldout: Processed 35563 (100.0%) in 24.92 sec. Users per second: 1427\n",
      "P3alphaRecommender: Similarity column 38121 (100.0%), 3848.93 column/sec. Elapsed time 9.90 sec\n",
      "EvaluatorHoldout: Ignoring 163 ( 0.5%) Users that have less than 1 test interactions\n",
      "EvaluatorHoldout: Processed 35573 (100.0%) in 25.24 sec. Users per second: 1409\n",
      "P3alphaRecommender: Similarity column 38121 (100.0%), 3850.95 column/sec. Elapsed time 9.90 sec\n",
      "EvaluatorHoldout: Ignoring 150 ( 0.4%) Users that have less than 1 test interactions\n",
      "EvaluatorHoldout: Processed 35586 (100.0%) in 25.65 sec. Users per second: 1387\n",
      "P3alphaRecommender: Similarity column 38121 (100.0%), 3953.47 column/sec. Elapsed time 9.64 sec\n",
      "EvaluatorHoldout: Ignoring 167 ( 0.5%) Users that have less than 1 test interactions\n",
      "EvaluatorHoldout: Processed 35569 (100.0%) in 25.46 sec. Users per second: 1397\n",
      "P3alphaRecommender: Similarity column 38121 (100.0%), 3880.70 column/sec. Elapsed time 9.82 sec\n",
      "EvaluatorHoldout: Ignoring 172 ( 0.5%) Users that have less than 1 test interactions\n",
      "EvaluatorHoldout: Processed 35564 (100.0%) in 24.97 sec. Users per second: 1424\n"
     ]
    },
    {
     "name": "stderr",
     "output_type": "stream",
     "text": [
      "[I 2025-01-06 20:26:18,743] Trial 504 finished with value: 0.021020863460596513 and parameters: {'topK': 1, 'alpha': 0.14754752238586777, 'normalize_similarity': True, 'implicit': False}. Best is trial 10 with value: 0.05370249298547826.\n"
     ]
    },
    {
     "name": "stdout",
     "output_type": "stream",
     "text": [
      "P3alphaRecommender: Similarity column 38121 (100.0%), 3867.14 column/sec. Elapsed time 9.86 sec\n",
      "EvaluatorHoldout: Ignoring 173 ( 0.5%) Users that have less than 1 test interactions\n",
      "EvaluatorHoldout: Processed 35563 (100.0%) in 22.77 sec. Users per second: 1562\n",
      "P3alphaRecommender: Similarity column 38121 (100.0%), 3761.52 column/sec. Elapsed time 10.13 sec\n",
      "EvaluatorHoldout: Ignoring 163 ( 0.5%) Users that have less than 1 test interactions\n",
      "EvaluatorHoldout: Processed 35573 (100.0%) in 23.63 sec. Users per second: 1505\n",
      "P3alphaRecommender: Similarity column 38121 (100.0%), 3662.49 column/sec. Elapsed time 10.41 sec\n",
      "EvaluatorHoldout: Ignoring 150 ( 0.4%) Users that have less than 1 test interactions\n",
      "EvaluatorHoldout: Processed 35586 (100.0%) in 23.23 sec. Users per second: 1532\n",
      "P3alphaRecommender: Similarity column 38121 (100.0%), 3808.95 column/sec. Elapsed time 10.01 sec\n",
      "EvaluatorHoldout: Ignoring 167 ( 0.5%) Users that have less than 1 test interactions\n",
      "EvaluatorHoldout: Processed 35569 (100.0%) in 22.52 sec. Users per second: 1579\n",
      "P3alphaRecommender: Similarity column 38121 (100.0%), 3835.59 column/sec. Elapsed time 9.94 sec\n",
      "EvaluatorHoldout: Ignoring 172 ( 0.5%) Users that have less than 1 test interactions\n",
      "EvaluatorHoldout: Processed 35564 (100.0%) in 22.80 sec. Users per second: 1560\n"
     ]
    },
    {
     "name": "stderr",
     "output_type": "stream",
     "text": [
      "[I 2025-01-06 20:29:04,849] Trial 505 finished with value: 0.0002664826418719655 and parameters: {'topK': 0, 'alpha': 0.19731963383981518, 'normalize_similarity': True, 'implicit': False}. Best is trial 10 with value: 0.05370249298547826.\n"
     ]
    },
    {
     "name": "stdout",
     "output_type": "stream",
     "text": [
      "P3alphaRecommender: Similarity column 38121 (100.0%), 2424.89 column/sec. Elapsed time 15.72 sec\n",
      "EvaluatorHoldout: Ignoring 173 ( 0.5%) Users that have less than 1 test interactions\n",
      "EvaluatorHoldout: Processed 35563 (100.0%) in 30.98 sec. Users per second: 1148\n",
      "P3alphaRecommender: Similarity column 38121 (100.0%), 2415.19 column/sec. Elapsed time 15.78 sec\n",
      "EvaluatorHoldout: Ignoring 163 ( 0.5%) Users that have less than 1 test interactions\n",
      "EvaluatorHoldout: Processed 35573 (100.0%) in 30.81 sec. Users per second: 1155\n",
      "P3alphaRecommender: Similarity column 38121 (100.0%), 2367.37 column/sec. Elapsed time 16.10 sec\n",
      "EvaluatorHoldout: Ignoring 150 ( 0.4%) Users that have less than 1 test interactions\n",
      "EvaluatorHoldout: Processed 35586 (100.0%) in 30.95 sec. Users per second: 1150\n",
      "P3alphaRecommender: Similarity column 38121 (100.0%), 2389.03 column/sec. Elapsed time 15.96 sec\n",
      "EvaluatorHoldout: Ignoring 167 ( 0.5%) Users that have less than 1 test interactions\n",
      "EvaluatorHoldout: Processed 35569 (100.0%) in 30.28 sec. Users per second: 1175\n",
      "P3alphaRecommender: Similarity column 38121 (100.0%), 2437.07 column/sec. Elapsed time 15.64 sec\n",
      "EvaluatorHoldout: Ignoring 172 ( 0.5%) Users that have less than 1 test interactions\n",
      "EvaluatorHoldout: Processed 35564 (100.0%) in 30.12 sec. Users per second: 1181\n"
     ]
    },
    {
     "name": "stderr",
     "output_type": "stream",
     "text": [
      "[I 2025-01-06 20:33:06,616] Trial 506 finished with value: 0.03371215439975779 and parameters: {'topK': 52, 'alpha': 0.11613224445929254, 'normalize_similarity': False, 'implicit': False}. Best is trial 10 with value: 0.05370249298547826.\n"
     ]
    },
    {
     "name": "stdout",
     "output_type": "stream",
     "text": [
      "P3alphaRecommender: Similarity column 38121 (100.0%), 2330.34 column/sec. Elapsed time 16.36 sec\n",
      "EvaluatorHoldout: Ignoring 173 ( 0.5%) Users that have less than 1 test interactions\n",
      "EvaluatorHoldout: Processed 35563 (100.0%) in 30.35 sec. Users per second: 1172\n",
      "P3alphaRecommender: Similarity column 38121 (100.0%), 2267.05 column/sec. Elapsed time 16.82 sec\n",
      "EvaluatorHoldout: Ignoring 163 ( 0.5%) Users that have less than 1 test interactions\n",
      "EvaluatorHoldout: Processed 35573 (100.0%) in 31.76 sec. Users per second: 1120\n",
      "P3alphaRecommender: Similarity column 38121 (100.0%), 2254.32 column/sec. Elapsed time 16.91 sec\n",
      "EvaluatorHoldout: Ignoring 150 ( 0.4%) Users that have less than 1 test interactions\n",
      "EvaluatorHoldout: Processed 35586 (100.0%) in 31.30 sec. Users per second: 1137\n",
      "P3alphaRecommender: Similarity column 38121 (100.0%), 2248.88 column/sec. Elapsed time 16.95 sec\n",
      "EvaluatorHoldout: Ignoring 167 ( 0.5%) Users that have less than 1 test interactions\n",
      "EvaluatorHoldout: Processed 35569 (100.0%) in 31.01 sec. Users per second: 1147\n",
      "P3alphaRecommender: Similarity column 38121 (100.0%), 2207.15 column/sec. Elapsed time 17.27 sec\n",
      "EvaluatorHoldout: Ignoring 172 ( 0.5%) Users that have less than 1 test interactions\n",
      "EvaluatorHoldout: Processed 35564 (100.0%) in 31.32 sec. Users per second: 1136\n"
     ]
    },
    {
     "name": "stderr",
     "output_type": "stream",
     "text": [
      "[I 2025-01-06 20:37:19,213] Trial 507 finished with value: 0.04873141870897872 and parameters: {'topK': 77, 'alpha': 0.25075299031565007, 'normalize_similarity': True, 'implicit': False}. Best is trial 10 with value: 0.05370249298547826.\n"
     ]
    },
    {
     "name": "stdout",
     "output_type": "stream",
     "text": [
      "P3alphaRecommender: Similarity column 38121 (100.0%), 2470.36 column/sec. Elapsed time 15.43 sec\n",
      "EvaluatorHoldout: Ignoring 173 ( 0.5%) Users that have less than 1 test interactions\n",
      "EvaluatorHoldout: Processed 35563 (100.0%) in 30.59 sec. Users per second: 1162\n",
      "P3alphaRecommender: Similarity column 38121 (100.0%), 2424.12 column/sec. Elapsed time 15.73 sec\n",
      "EvaluatorHoldout: Ignoring 163 ( 0.5%) Users that have less than 1 test interactions\n",
      "EvaluatorHoldout: Processed 35573 (100.0%) in 30.03 sec. Users per second: 1185\n",
      "P3alphaRecommender: Similarity column 38121 (100.0%), 2469.80 column/sec. Elapsed time 15.43 sec\n",
      "EvaluatorHoldout: Ignoring 150 ( 0.4%) Users that have less than 1 test interactions\n",
      "EvaluatorHoldout: Processed 35586 (100.0%) in 29.89 sec. Users per second: 1190\n",
      "P3alphaRecommender: Similarity column 38121 (100.0%), 2456.42 column/sec. Elapsed time 15.52 sec\n",
      "EvaluatorHoldout: Ignoring 167 ( 0.5%) Users that have less than 1 test interactions\n",
      "EvaluatorHoldout: Processed 35569 (100.0%) in 30.35 sec. Users per second: 1172\n",
      "P3alphaRecommender: Similarity column 38121 (100.0%), 2461.94 column/sec. Elapsed time 15.48 sec\n",
      "EvaluatorHoldout: Ignoring 172 ( 0.5%) Users that have less than 1 test interactions\n",
      "EvaluatorHoldout: Processed 35564 (100.0%) in 29.82 sec. Users per second: 1193\n"
     ]
    },
    {
     "name": "stderr",
     "output_type": "stream",
     "text": [
      "[I 2025-01-06 20:41:16,025] Trial 508 finished with value: 0.05037743366598245 and parameters: {'topK': 47, 'alpha': 0.07779472482770286, 'normalize_similarity': True, 'implicit': False}. Best is trial 10 with value: 0.05370249298547826.\n"
     ]
    },
    {
     "name": "stdout",
     "output_type": "stream",
     "text": [
      "P3alphaRecommender: Similarity column 38121 (100.0%), 2606.53 column/sec. Elapsed time 14.63 sec\n",
      "EvaluatorHoldout: Ignoring 173 ( 0.5%) Users that have less than 1 test interactions\n",
      "EvaluatorHoldout: Processed 35563 (100.0%) in 29.76 sec. Users per second: 1195\n",
      "P3alphaRecommender: Similarity column 38121 (100.0%), 2533.62 column/sec. Elapsed time 15.05 sec\n",
      "EvaluatorHoldout: Ignoring 163 ( 0.5%) Users that have less than 1 test interactions\n",
      "EvaluatorHoldout: Processed 35573 (100.0%) in 29.65 sec. Users per second: 1200\n",
      "P3alphaRecommender: Similarity column 38121 (100.0%), 2516.40 column/sec. Elapsed time 15.15 sec\n",
      "EvaluatorHoldout: Ignoring 150 ( 0.4%) Users that have less than 1 test interactions\n",
      "EvaluatorHoldout: Processed 35586 (100.0%) in 29.57 sec. Users per second: 1203\n",
      "P3alphaRecommender: Similarity column 38121 (100.0%), 2493.48 column/sec. Elapsed time 15.29 sec\n",
      "EvaluatorHoldout: Ignoring 167 ( 0.5%) Users that have less than 1 test interactions\n",
      "EvaluatorHoldout: Processed 35569 (100.0%) in 29.63 sec. Users per second: 1201\n",
      "P3alphaRecommender: Similarity column 38121 (100.0%), 2576.05 column/sec. Elapsed time 14.80 sec\n",
      "EvaluatorHoldout: Ignoring 172 ( 0.5%) Users that have less than 1 test interactions\n",
      "EvaluatorHoldout: Processed 35564 (100.0%) in 29.48 sec. Users per second: 1206\n"
     ]
    },
    {
     "name": "stderr",
     "output_type": "stream",
     "text": [
      "[I 2025-01-06 20:45:05,382] Trial 509 finished with value: 0.05276683179818996 and parameters: {'topK': 27, 'alpha': 0.20601844070638023, 'normalize_similarity': True, 'implicit': False}. Best is trial 10 with value: 0.05370249298547826.\n"
     ]
    },
    {
     "name": "stdout",
     "output_type": "stream",
     "text": [
      "P3alphaRecommender: Similarity column 38121 (100.0%), 2158.16 column/sec. Elapsed time 17.66 sec\n",
      "EvaluatorHoldout: Ignoring 173 ( 0.5%) Users that have less than 1 test interactions\n",
      "EvaluatorHoldout: Processed 35563 (100.0%) in 31.68 sec. Users per second: 1122\n",
      "P3alphaRecommender: Similarity column 38121 (100.0%), 2150.09 column/sec. Elapsed time 17.73 sec\n",
      "EvaluatorHoldout: Ignoring 163 ( 0.5%) Users that have less than 1 test interactions\n",
      "EvaluatorHoldout: Processed 35573 (100.0%) in 31.69 sec. Users per second: 1123\n",
      "P3alphaRecommender: Similarity column 38121 (100.0%), 2164.66 column/sec. Elapsed time 17.61 sec\n",
      "EvaluatorHoldout: Ignoring 150 ( 0.4%) Users that have less than 1 test interactions\n",
      "EvaluatorHoldout: Processed 35586 (100.0%) in 31.47 sec. Users per second: 1131\n",
      "P3alphaRecommender: Similarity column 38121 (100.0%), 2193.83 column/sec. Elapsed time 17.38 sec\n",
      "EvaluatorHoldout: Ignoring 167 ( 0.5%) Users that have less than 1 test interactions\n",
      "EvaluatorHoldout: Processed 35569 (100.0%) in 27.76 sec. Users per second: 1281\n",
      "P3alphaRecommender: Similarity column 38121 (100.0%), 2157.66 column/sec. Elapsed time 17.67 sec\n",
      "EvaluatorHoldout: Ignoring 172 ( 0.5%) Users that have less than 1 test interactions\n",
      "EvaluatorHoldout: Processed 35564 (100.0%) in 27.71 sec. Users per second: 1284\n"
     ]
    },
    {
     "name": "stderr",
     "output_type": "stream",
     "text": [
      "[I 2025-01-06 20:49:18,977] Trial 510 finished with value: 0.04717339179653983 and parameters: {'topK': 98, 'alpha': 0.16593388715639823, 'normalize_similarity': True, 'implicit': False}. Best is trial 10 with value: 0.05370249298547826.\n"
     ]
    },
    {
     "name": "stdout",
     "output_type": "stream",
     "text": [
      "P3alphaRecommender: Similarity column 38121 (100.0%), 1943.44 column/sec. Elapsed time 19.62 sec\n",
      "EvaluatorHoldout: Ignoring 173 ( 0.5%) Users that have less than 1 test interactions\n",
      "EvaluatorHoldout: Processed 35563 (100.0%) in 33.97 sec. Users per second: 1047\n",
      "P3alphaRecommender: Similarity column 38121 (100.0%), 1938.86 column/sec. Elapsed time 19.66 sec\n",
      "EvaluatorHoldout: Ignoring 163 ( 0.5%) Users that have less than 1 test interactions\n",
      "EvaluatorHoldout: Processed 35573 (100.0%) in 34.44 sec. Users per second: 1033\n",
      "P3alphaRecommender: Similarity column 38121 (100.0%), 1971.48 column/sec. Elapsed time 19.34 sec\n",
      "EvaluatorHoldout: Ignoring 150 ( 0.4%) Users that have less than 1 test interactions\n",
      "EvaluatorHoldout: Processed 35586 (100.0%) in 33.66 sec. Users per second: 1057\n",
      "P3alphaRecommender: Similarity column 38121 (100.0%), 1975.56 column/sec. Elapsed time 19.30 sec\n",
      "EvaluatorHoldout: Ignoring 167 ( 0.5%) Users that have less than 1 test interactions\n",
      "EvaluatorHoldout: Processed 35569 (100.0%) in 34.15 sec. Users per second: 1042\n",
      "P3alphaRecommender: Similarity column 38121 (100.0%), 1989.27 column/sec. Elapsed time 19.16 sec\n",
      "EvaluatorHoldout: Ignoring 172 ( 0.5%) Users that have less than 1 test interactions\n",
      "EvaluatorHoldout: Processed 35564 (100.0%) in 33.85 sec. Users per second: 1051\n"
     ]
    },
    {
     "name": "stderr",
     "output_type": "stream",
     "text": [
      "[I 2025-01-06 20:54:10,510] Trial 511 finished with value: 0.040901281267907215 and parameters: {'topK': 143, 'alpha': 1.8828044345061357, 'normalize_similarity': True, 'implicit': True}. Best is trial 10 with value: 0.05370249298547826.\n"
     ]
    },
    {
     "name": "stdout",
     "output_type": "stream",
     "text": [
      "P3alphaRecommender: Similarity column 38121 (100.0%), 2652.21 column/sec. Elapsed time 14.37 sec\n",
      "EvaluatorHoldout: Ignoring 173 ( 0.5%) Users that have less than 1 test interactions\n",
      "EvaluatorHoldout: Processed 35563 (100.0%) in 28.63 sec. Users per second: 1242\n",
      "P3alphaRecommender: Similarity column 38121 (100.0%), 2644.26 column/sec. Elapsed time 14.42 sec\n",
      "EvaluatorHoldout: Ignoring 163 ( 0.5%) Users that have less than 1 test interactions\n",
      "EvaluatorHoldout: Processed 35573 (100.0%) in 28.27 sec. Users per second: 1258\n",
      "P3alphaRecommender: Similarity column 38121 (100.0%), 2602.43 column/sec. Elapsed time 14.65 sec\n",
      "EvaluatorHoldout: Ignoring 150 ( 0.4%) Users that have less than 1 test interactions\n",
      "EvaluatorHoldout: Processed 35586 (100.0%) in 28.82 sec. Users per second: 1235\n",
      "P3alphaRecommender: Similarity column 38121 (100.0%), 2605.59 column/sec. Elapsed time 14.63 sec\n",
      "EvaluatorHoldout: Ignoring 167 ( 0.5%) Users that have less than 1 test interactions\n",
      "EvaluatorHoldout: Processed 35569 (100.0%) in 29.18 sec. Users per second: 1219\n",
      "P3alphaRecommender: Similarity column 38121 (100.0%), 2571.29 column/sec. Elapsed time 14.83 sec\n",
      "EvaluatorHoldout: Ignoring 172 ( 0.5%) Users that have less than 1 test interactions\n",
      "EvaluatorHoldout: Processed 35564 (100.0%) in 28.91 sec. Users per second: 1230\n"
     ]
    },
    {
     "name": "stderr",
     "output_type": "stream",
     "text": [
      "[I 2025-01-06 20:57:53,381] Trial 512 finished with value: 0.052833811203558734 and parameters: {'topK': 27, 'alpha': 0.24065424871940003, 'normalize_similarity': True, 'implicit': False}. Best is trial 10 with value: 0.05370249298547826.\n"
     ]
    },
    {
     "name": "stdout",
     "output_type": "stream",
     "text": [
      "P3alphaRecommender: Similarity column 38121 (100.0%), 2366.17 column/sec. Elapsed time 16.11 sec\n",
      "EvaluatorHoldout: Ignoring 173 ( 0.5%) Users that have less than 1 test interactions\n",
      "EvaluatorHoldout: Processed 35563 (100.0%) in 30.11 sec. Users per second: 1181\n",
      "P3alphaRecommender: Similarity column 38121 (100.0%), 2440.65 column/sec. Elapsed time 15.62 sec\n",
      "EvaluatorHoldout: Ignoring 163 ( 0.5%) Users that have less than 1 test interactions\n",
      "EvaluatorHoldout: Processed 35573 (100.0%) in 29.90 sec. Users per second: 1190\n",
      "P3alphaRecommender: Similarity column 38121 (100.0%), 2467.00 column/sec. Elapsed time 15.45 sec\n",
      "EvaluatorHoldout: Ignoring 150 ( 0.4%) Users that have less than 1 test interactions\n",
      "EvaluatorHoldout: Processed 35586 (100.0%) in 30.04 sec. Users per second: 1185\n",
      "P3alphaRecommender: Similarity column 38121 (100.0%), 2448.92 column/sec. Elapsed time 15.57 sec\n",
      "EvaluatorHoldout: Ignoring 167 ( 0.5%) Users that have less than 1 test interactions\n",
      "EvaluatorHoldout: Processed 35569 (100.0%) in 29.90 sec. Users per second: 1189\n",
      "P3alphaRecommender: Similarity column 38121 (100.0%), 2462.15 column/sec. Elapsed time 15.48 sec\n",
      "EvaluatorHoldout: Ignoring 172 ( 0.5%) Users that have less than 1 test interactions\n",
      "EvaluatorHoldout: Processed 35564 (100.0%) in 30.18 sec. Users per second: 1179\n"
     ]
    },
    {
     "name": "stderr",
     "output_type": "stream",
     "text": [
      "[I 2025-01-06 21:01:52,103] Trial 513 finished with value: 0.05004933377092593 and parameters: {'topK': 61, 'alpha': 0.3100677459673989, 'normalize_similarity': True, 'implicit': False}. Best is trial 10 with value: 0.05370249298547826.\n"
     ]
    },
    {
     "name": "stdout",
     "output_type": "stream",
     "text": [
      "P3alphaRecommender: Similarity column 38121 (100.0%), 2630.93 column/sec. Elapsed time 14.49 sec\n",
      "EvaluatorHoldout: Ignoring 173 ( 0.5%) Users that have less than 1 test interactions\n",
      "EvaluatorHoldout: Processed 35563 (100.0%) in 29.51 sec. Users per second: 1205\n",
      "P3alphaRecommender: Similarity column 38121 (100.0%), 2572.28 column/sec. Elapsed time 14.82 sec\n",
      "EvaluatorHoldout: Ignoring 163 ( 0.5%) Users that have less than 1 test interactions\n",
      "EvaluatorHoldout: Processed 35573 (100.0%) in 29.11 sec. Users per second: 1222\n",
      "P3alphaRecommender: Similarity column 38121 (100.0%), 2643.50 column/sec. Elapsed time 14.42 sec\n",
      "EvaluatorHoldout: Ignoring 150 ( 0.4%) Users that have less than 1 test interactions\n",
      "EvaluatorHoldout: Processed 35586 (100.0%) in 28.31 sec. Users per second: 1257\n",
      "P3alphaRecommender: Similarity column 38121 (100.0%), 2646.57 column/sec. Elapsed time 14.40 sec\n",
      "EvaluatorHoldout: Ignoring 167 ( 0.5%) Users that have less than 1 test interactions\n",
      "EvaluatorHoldout: Processed 35569 (100.0%) in 27.99 sec. Users per second: 1271\n",
      "P3alphaRecommender: Similarity column 38121 (100.0%), 2680.33 column/sec. Elapsed time 14.22 sec\n",
      "EvaluatorHoldout: Ignoring 172 ( 0.5%) Users that have less than 1 test interactions\n",
      "EvaluatorHoldout: Processed 35564 (100.0%) in 28.45 sec. Users per second: 1250\n"
     ]
    },
    {
     "name": "stderr",
     "output_type": "stream",
     "text": [
      "[I 2025-01-06 21:05:33,864] Trial 514 finished with value: 0.053291976923241446 and parameters: {'topK': 24, 'alpha': 0.3522236547673663, 'normalize_similarity': True, 'implicit': False}. Best is trial 10 with value: 0.05370249298547826.\n"
     ]
    },
    {
     "name": "stdout",
     "output_type": "stream",
     "text": [
      "P3alphaRecommender: Similarity column 38121 (100.0%), 3923.48 column/sec. Elapsed time 9.72 sec\n",
      "EvaluatorHoldout: Ignoring 173 ( 0.5%) Users that have less than 1 test interactions\n",
      "EvaluatorHoldout: Processed 35563 (100.0%) in 22.83 sec. Users per second: 1558\n",
      "P3alphaRecommender: Similarity column 38121 (100.0%), 3905.27 column/sec. Elapsed time 9.76 sec\n",
      "EvaluatorHoldout: Ignoring 163 ( 0.5%) Users that have less than 1 test interactions\n",
      "EvaluatorHoldout: Processed 35573 (100.0%) in 23.31 sec. Users per second: 1526\n",
      "P3alphaRecommender: Similarity column 38121 (100.0%), 3850.67 column/sec. Elapsed time 9.90 sec\n",
      "EvaluatorHoldout: Ignoring 150 ( 0.4%) Users that have less than 1 test interactions\n",
      "EvaluatorHoldout: Processed 35586 (100.0%) in 22.49 sec. Users per second: 1582\n",
      "P3alphaRecommender: Similarity column 38121 (100.0%), 4039.12 column/sec. Elapsed time 9.44 sec\n",
      "EvaluatorHoldout: Ignoring 167 ( 0.5%) Users that have less than 1 test interactions\n",
      "EvaluatorHoldout: Processed 35569 (100.0%) in 22.68 sec. Users per second: 1568\n",
      "P3alphaRecommender: Similarity column 38121 (100.0%), 3984.36 column/sec. Elapsed time 9.57 sec\n",
      "EvaluatorHoldout: Ignoring 172 ( 0.5%) Users that have less than 1 test interactions\n",
      "EvaluatorHoldout: Processed 35564 (100.0%) in 22.58 sec. Users per second: 1575\n"
     ]
    },
    {
     "name": "stderr",
     "output_type": "stream",
     "text": [
      "[I 2025-01-06 21:08:16,940] Trial 515 finished with value: 0.0002664826418719655 and parameters: {'topK': 0, 'alpha': 0.3165308026152184, 'normalize_similarity': True, 'implicit': False}. Best is trial 10 with value: 0.05370249298547826.\n"
     ]
    },
    {
     "name": "stdout",
     "output_type": "stream",
     "text": [
      "P3alphaRecommender: Similarity column 38121 (100.0%), 2483.46 column/sec. Elapsed time 15.35 sec\n",
      "EvaluatorHoldout: Ignoring 173 ( 0.5%) Users that have less than 1 test interactions\n",
      "EvaluatorHoldout: Processed 35563 (100.0%) in 29.55 sec. Users per second: 1203\n",
      "P3alphaRecommender: Similarity column 38121 (100.0%), 2519.45 column/sec. Elapsed time 15.13 sec\n",
      "EvaluatorHoldout: Ignoring 163 ( 0.5%) Users that have less than 1 test interactions\n",
      "EvaluatorHoldout: Processed 35573 (100.0%) in 29.80 sec. Users per second: 1194\n",
      "P3alphaRecommender: Similarity column 38121 (100.0%), 2547.30 column/sec. Elapsed time 14.97 sec\n",
      "EvaluatorHoldout: Ignoring 150 ( 0.4%) Users that have less than 1 test interactions\n",
      "EvaluatorHoldout: Processed 35586 (100.0%) in 29.83 sec. Users per second: 1193\n",
      "P3alphaRecommender: Similarity column 38121 (100.0%), 2499.42 column/sec. Elapsed time 15.25 sec\n",
      "EvaluatorHoldout: Ignoring 167 ( 0.5%) Users that have less than 1 test interactions\n",
      "EvaluatorHoldout: Processed 35569 (100.0%) in 29.83 sec. Users per second: 1192\n",
      "P3alphaRecommender: Similarity column 38121 (100.0%), 2540.84 column/sec. Elapsed time 15.00 sec\n",
      "EvaluatorHoldout: Ignoring 172 ( 0.5%) Users that have less than 1 test interactions\n",
      "EvaluatorHoldout: Processed 35564 (100.0%) in 29.94 sec. Users per second: 1188\n"
     ]
    },
    {
     "name": "stderr",
     "output_type": "stream",
     "text": [
      "[I 2025-01-06 21:12:10,636] Trial 516 finished with value: 0.050831462439586396 and parameters: {'topK': 51, 'alpha': 0.3407444031839244, 'normalize_similarity': True, 'implicit': False}. Best is trial 10 with value: 0.05370249298547826.\n"
     ]
    },
    {
     "name": "stdout",
     "output_type": "stream",
     "text": [
      "P3alphaRecommender: Similarity column 38121 (100.0%), 2147.13 column/sec. Elapsed time 17.75 sec\n",
      "EvaluatorHoldout: Ignoring 173 ( 0.5%) Users that have less than 1 test interactions\n",
      "EvaluatorHoldout: Processed 35563 (100.0%) in 31.80 sec. Users per second: 1118\n",
      "P3alphaRecommender: Similarity column 38121 (100.0%), 2130.54 column/sec. Elapsed time 17.89 sec\n",
      "EvaluatorHoldout: Ignoring 163 ( 0.5%) Users that have less than 1 test interactions\n",
      "EvaluatorHoldout: Processed 35573 (100.0%) in 27.55 sec. Users per second: 1291\n",
      "P3alphaRecommender: Similarity column 38121 (100.0%), 2146.36 column/sec. Elapsed time 17.76 sec\n",
      "EvaluatorHoldout: Ignoring 150 ( 0.4%) Users that have less than 1 test interactions\n",
      "EvaluatorHoldout: Processed 35586 (100.0%) in 28.00 sec. Users per second: 1271\n",
      "P3alphaRecommender: Similarity column 38121 (100.0%), 2089.63 column/sec. Elapsed time 18.24 sec\n",
      "EvaluatorHoldout: Ignoring 167 ( 0.5%) Users that have less than 1 test interactions\n",
      "EvaluatorHoldout: Processed 35569 (100.0%) in 32.65 sec. Users per second: 1089\n",
      "P3alphaRecommender: Similarity column 38121 (100.0%), 2083.21 column/sec. Elapsed time 18.30 sec\n",
      "EvaluatorHoldout: Ignoring 172 ( 0.5%) Users that have less than 1 test interactions\n",
      "EvaluatorHoldout: Processed 35564 (100.0%) in 31.16 sec. Users per second: 1141\n"
     ]
    },
    {
     "name": "stderr",
     "output_type": "stream",
     "text": [
      "[I 2025-01-06 21:16:29,487] Trial 517 finished with value: 0.04664793171890249 and parameters: {'topK': 115, 'alpha': 0.28409704832221483, 'normalize_similarity': True, 'implicit': False}. Best is trial 10 with value: 0.05370249298547826.\n"
     ]
    },
    {
     "name": "stdout",
     "output_type": "stream",
     "text": [
      "P3alphaRecommender: Similarity column 38121 (100.0%), 2374.58 column/sec. Elapsed time 16.05 sec\n",
      "EvaluatorHoldout: Ignoring 173 ( 0.5%) Users that have less than 1 test interactions\n",
      "EvaluatorHoldout: Processed 35563 (100.0%) in 30.07 sec. Users per second: 1183\n",
      "P3alphaRecommender: Similarity column 38121 (100.0%), 2333.31 column/sec. Elapsed time 16.34 sec\n",
      "EvaluatorHoldout: Ignoring 163 ( 0.5%) Users that have less than 1 test interactions\n",
      "EvaluatorHoldout: Processed 35573 (100.0%) in 30.00 sec. Users per second: 1186\n",
      "P3alphaRecommender: Similarity column 38121 (100.0%), 2418.62 column/sec. Elapsed time 15.76 sec\n",
      "EvaluatorHoldout: Ignoring 150 ( 0.4%) Users that have less than 1 test interactions\n",
      "EvaluatorHoldout: Processed 35586 (100.0%) in 30.53 sec. Users per second: 1166\n",
      "P3alphaRecommender: Similarity column 38121 (100.0%), 2328.53 column/sec. Elapsed time 16.37 sec\n",
      "EvaluatorHoldout: Ignoring 167 ( 0.5%) Users that have less than 1 test interactions\n",
      "EvaluatorHoldout: Processed 35569 (100.0%) in 30.39 sec. Users per second: 1170\n",
      "P3alphaRecommender: Similarity column 38121 (100.0%), 2384.59 column/sec. Elapsed time 15.99 sec\n",
      "EvaluatorHoldout: Ignoring 172 ( 0.5%) Users that have less than 1 test interactions\n",
      "EvaluatorHoldout: Processed 35564 (100.0%) in 30.23 sec. Users per second: 1176\n"
     ]
    },
    {
     "name": "stderr",
     "output_type": "stream",
     "text": [
      "[I 2025-01-06 21:20:33,753] Trial 518 finished with value: 0.04886319138789361 and parameters: {'topK': 79, 'alpha': 0.3844321964106261, 'normalize_similarity': True, 'implicit': False}. Best is trial 10 with value: 0.05370249298547826.\n"
     ]
    },
    {
     "name": "stdout",
     "output_type": "stream",
     "text": [
      "P3alphaRecommender: Similarity column 38121 (100.0%), 2692.51 column/sec. Elapsed time 14.16 sec\n",
      "EvaluatorHoldout: Ignoring 173 ( 0.5%) Users that have less than 1 test interactions\n",
      "EvaluatorHoldout: Processed 35563 (100.0%) in 27.90 sec. Users per second: 1275\n",
      "P3alphaRecommender: Similarity column 38121 (100.0%), 2736.94 column/sec. Elapsed time 13.93 sec\n",
      "EvaluatorHoldout: Ignoring 163 ( 0.5%) Users that have less than 1 test interactions\n",
      "EvaluatorHoldout: Processed 35573 (100.0%) in 28.37 sec. Users per second: 1254\n",
      "P3alphaRecommender: Similarity column 38121 (100.0%), 2674.02 column/sec. Elapsed time 14.26 sec\n",
      "EvaluatorHoldout: Ignoring 150 ( 0.4%) Users that have less than 1 test interactions\n",
      "EvaluatorHoldout: Processed 35586 (100.0%) in 32.65 sec. Users per second: 1090\n",
      "P3alphaRecommender: Similarity column 38121 (100.0%), 2373.02 column/sec. Elapsed time 16.06 sec\n",
      "EvaluatorHoldout: Ignoring 167 ( 0.5%) Users that have less than 1 test interactions\n",
      "EvaluatorHoldout: Processed 35569 (100.0%) in 29.07 sec. Users per second: 1224\n",
      "P3alphaRecommender: Similarity column 38121 (100.0%), 2711.01 column/sec. Elapsed time 14.06 sec\n",
      "EvaluatorHoldout: Ignoring 172 ( 0.5%) Users that have less than 1 test interactions\n",
      "EvaluatorHoldout: Processed 35564 (100.0%) in 27.91 sec. Users per second: 1274\n"
     ]
    },
    {
     "name": "stderr",
     "output_type": "stream",
     "text": [
      "[I 2025-01-06 21:24:18,423] Trial 519 finished with value: 0.052733424240238615 and parameters: {'topK': 29, 'alpha': 0.3564008674637297, 'normalize_similarity': True, 'implicit': False}. Best is trial 10 with value: 0.05370249298547826.\n"
     ]
    },
    {
     "name": "stdout",
     "output_type": "stream",
     "text": [
      "P3alphaRecommender: Similarity column 38121 (100.0%), 763.32 column/sec. Elapsed time 49.94 sec\n",
      "EvaluatorHoldout: Ignoring 173 ( 0.5%) Users that have less than 1 test interactions\n",
      "EvaluatorHoldout: Processed 35563 (100.0%) in 45.46 sec. Users per second: 782\n",
      "P3alphaRecommender: Similarity column 38121 (100.0%), 735.10 column/sec. Elapsed time 51.86 sec\n",
      "EvaluatorHoldout: Ignoring 163 ( 0.5%) Users that have less than 1 test interactions\n",
      "EvaluatorHoldout: Processed 35573 (100.0%) in 44.43 sec. Users per second: 801\n",
      "P3alphaRecommender: Similarity column 38121 (100.0%), 771.25 column/sec. Elapsed time 49.43 sec\n",
      "EvaluatorHoldout: Ignoring 150 ( 0.4%) Users that have less than 1 test interactions\n",
      "EvaluatorHoldout: Processed 35586 (100.0%) in 43.67 sec. Users per second: 815\n",
      "P3alphaRecommender: Similarity column 38121 (100.0%), 759.59 column/sec. Elapsed time 50.19 sec\n",
      "EvaluatorHoldout: Ignoring 167 ( 0.5%) Users that have less than 1 test interactions\n",
      "EvaluatorHoldout: Processed 35569 (100.0%) in 44.23 sec. Users per second: 804\n",
      "P3alphaRecommender: Similarity column 38121 (100.0%), 768.87 column/sec. Elapsed time 49.58 sec\n",
      "EvaluatorHoldout: Ignoring 172 ( 0.5%) Users that have less than 1 test interactions\n",
      "EvaluatorHoldout: Processed 35564 (100.0%) in 46.60 sec. Users per second: 763\n"
     ]
    },
    {
     "name": "stderr",
     "output_type": "stream",
     "text": [
      "[I 2025-01-06 21:34:43,601] Trial 520 finished with value: 0.03411405493105184 and parameters: {'topK': 907, 'alpha': 0.2630941532342521, 'normalize_similarity': True, 'implicit': False}. Best is trial 10 with value: 0.05370249298547826.\n"
     ]
    },
    {
     "name": "stdout",
     "output_type": "stream",
     "text": [
      "P3alphaRecommender: Similarity column 38121 (100.0%), 2573.39 column/sec. Elapsed time 14.81 sec\n",
      "EvaluatorHoldout: Ignoring 173 ( 0.5%) Users that have less than 1 test interactions\n",
      "EvaluatorHoldout: Processed 35563 (100.0%) in 29.57 sec. Users per second: 1203\n",
      "P3alphaRecommender: Similarity column 38121 (100.0%), 2538.41 column/sec. Elapsed time 15.02 sec\n",
      "EvaluatorHoldout: Ignoring 163 ( 0.5%) Users that have less than 1 test interactions\n",
      "EvaluatorHoldout: Processed 35573 (100.0%) in 29.87 sec. Users per second: 1191\n",
      "P3alphaRecommender: Similarity column 38121 (100.0%), 2569.25 column/sec. Elapsed time 14.84 sec\n",
      "EvaluatorHoldout: Ignoring 150 ( 0.4%) Users that have less than 1 test interactions\n",
      "EvaluatorHoldout: Processed 35586 (100.0%) in 29.80 sec. Users per second: 1194\n",
      "P3alphaRecommender: Similarity column 38121 (100.0%), 2507.21 column/sec. Elapsed time 15.20 sec\n",
      "EvaluatorHoldout: Ignoring 167 ( 0.5%) Users that have less than 1 test interactions\n",
      "EvaluatorHoldout: Processed 35569 (100.0%) in 29.32 sec. Users per second: 1213\n",
      "P3alphaRecommender: Similarity column 38121 (100.0%), 2531.67 column/sec. Elapsed time 15.06 sec\n",
      "EvaluatorHoldout: Ignoring 172 ( 0.5%) Users that have less than 1 test interactions\n",
      "EvaluatorHoldout: Processed 35564 (100.0%) in 29.06 sec. Users per second: 1224\n"
     ]
    },
    {
     "name": "stderr",
     "output_type": "stream",
     "text": [
      "[I 2025-01-06 21:38:35,631] Trial 521 finished with value: 0.05065449654899908 and parameters: {'topK': 54, 'alpha': 0.38866910492576495, 'normalize_similarity': True, 'implicit': False}. Best is trial 10 with value: 0.05370249298547826.\n"
     ]
    },
    {
     "name": "stdout",
     "output_type": "stream",
     "text": [
      "P3alphaRecommender: Similarity column 38121 (100.0%), 1858.36 column/sec. Elapsed time 20.51 sec\n",
      "EvaluatorHoldout: Ignoring 173 ( 0.5%) Users that have less than 1 test interactions\n",
      "EvaluatorHoldout: Processed 35563 (100.0%) in 26.33 sec. Users per second: 1351\n",
      "P3alphaRecommender: Similarity column 38121 (100.0%), 1852.77 column/sec. Elapsed time 20.58 sec\n",
      "EvaluatorHoldout: Ignoring 163 ( 0.5%) Users that have less than 1 test interactions\n",
      "EvaluatorHoldout: Processed 35573 (100.0%) in 27.28 sec. Users per second: 1304\n",
      "P3alphaRecommender: Similarity column 38121 (100.0%), 1855.56 column/sec. Elapsed time 20.54 sec\n",
      "EvaluatorHoldout: Ignoring 150 ( 0.4%) Users that have less than 1 test interactions\n",
      "EvaluatorHoldout: Processed 35586 (100.0%) in 25.58 sec. Users per second: 1391\n",
      "P3alphaRecommender: Similarity column 38121 (100.0%), 1835.38 column/sec. Elapsed time 20.77 sec\n",
      "EvaluatorHoldout: Ignoring 167 ( 0.5%) Users that have less than 1 test interactions\n",
      "EvaluatorHoldout: Processed 35569 (100.0%) in 27.70 sec. Users per second: 1284\n",
      "P3alphaRecommender: Similarity column 38121 (100.0%), 1794.65 column/sec. Elapsed time 21.24 sec\n",
      "EvaluatorHoldout: Ignoring 172 ( 0.5%) Users that have less than 1 test interactions\n",
      "EvaluatorHoldout: Processed 35564 (100.0%) in 26.69 sec. Users per second: 1332\n"
     ]
    },
    {
     "name": "stderr",
     "output_type": "stream",
     "text": [
      "[I 2025-01-06 21:43:01,676] Trial 522 finished with value: 0.04328351937572048 and parameters: {'topK': 197, 'alpha': 0.3373880723998864, 'normalize_similarity': True, 'implicit': True}. Best is trial 10 with value: 0.05370249298547826.\n"
     ]
    },
    {
     "name": "stdout",
     "output_type": "stream",
     "text": [
      "P3alphaRecommender: Similarity column 38121 (100.0%), 816.05 column/sec. Elapsed time 46.71 sec\n",
      "EvaluatorHoldout: Ignoring 173 ( 0.5%) Users that have less than 1 test interactions\n",
      "EvaluatorHoldout: Processed 35563 (100.0%) in 42.43 sec. Users per second: 838\n",
      "P3alphaRecommender: Similarity column 38121 (100.0%), 831.29 column/sec. Elapsed time 45.86 sec\n",
      "EvaluatorHoldout: Ignoring 163 ( 0.5%) Users that have less than 1 test interactions\n",
      "EvaluatorHoldout: Processed 35573 (100.0%) in 41.52 sec. Users per second: 857\n",
      "P3alphaRecommender: Similarity column 38121 (100.0%), 835.19 column/sec. Elapsed time 45.64 sec\n",
      "EvaluatorHoldout: Ignoring 150 ( 0.4%) Users that have less than 1 test interactions\n",
      "EvaluatorHoldout: Processed 35586 (100.0%) in 42.27 sec. Users per second: 842\n",
      "P3alphaRecommender: Similarity column 38121 (100.0%), 827.96 column/sec. Elapsed time 46.04 sec\n",
      "EvaluatorHoldout: Ignoring 167 ( 0.5%) Users that have less than 1 test interactions\n",
      "EvaluatorHoldout: Processed 35569 (100.0%) in 42.03 sec. Users per second: 846\n",
      "P3alphaRecommender: Similarity column 38121 (100.0%), 831.03 column/sec. Elapsed time 45.87 sec\n",
      "EvaluatorHoldout: Ignoring 172 ( 0.5%) Users that have less than 1 test interactions\n",
      "EvaluatorHoldout: Processed 35564 (100.0%) in 42.37 sec. Users per second: 839\n"
     ]
    },
    {
     "name": "stderr",
     "output_type": "stream",
     "text": [
      "[I 2025-01-06 21:52:28,788] Trial 523 finished with value: 0.0344558206985437 and parameters: {'topK': 816, 'alpha': 0.2220978611177834, 'normalize_similarity': True, 'implicit': False}. Best is trial 10 with value: 0.05370249298547826.\n"
     ]
    },
    {
     "name": "stdout",
     "output_type": "stream",
     "text": [
      "P3alphaRecommender: Similarity column 38121 (100.0%), 2734.10 column/sec. Elapsed time 13.94 sec\n",
      "EvaluatorHoldout: Ignoring 173 ( 0.5%) Users that have less than 1 test interactions\n",
      "EvaluatorHoldout: Processed 35563 (100.0%) in 28.50 sec. Users per second: 1248\n",
      "P3alphaRecommender: Similarity column 38121 (100.0%), 2745.69 column/sec. Elapsed time 13.88 sec\n",
      "EvaluatorHoldout: Ignoring 163 ( 0.5%) Users that have less than 1 test interactions\n",
      "EvaluatorHoldout: Processed 35573 (100.0%) in 28.31 sec. Users per second: 1256\n",
      "P3alphaRecommender: Similarity column 38121 (100.0%), 2757.74 column/sec. Elapsed time 13.82 sec\n",
      "EvaluatorHoldout: Ignoring 150 ( 0.4%) Users that have less than 1 test interactions\n",
      "EvaluatorHoldout: Processed 35586 (100.0%) in 28.29 sec. Users per second: 1258\n",
      "P3alphaRecommender: Similarity column 38121 (100.0%), 2723.14 column/sec. Elapsed time 14.00 sec\n",
      "EvaluatorHoldout: Ignoring 167 ( 0.5%) Users that have less than 1 test interactions\n",
      "EvaluatorHoldout: Processed 35569 (100.0%) in 28.43 sec. Users per second: 1251\n",
      "P3alphaRecommender: Similarity column 38121 (100.0%), 2708.80 column/sec. Elapsed time 14.07 sec\n",
      "EvaluatorHoldout: Ignoring 172 ( 0.5%) Users that have less than 1 test interactions\n",
      "EvaluatorHoldout: Processed 35564 (100.0%) in 28.81 sec. Users per second: 1234\n"
     ]
    },
    {
     "name": "stderr",
     "output_type": "stream",
     "text": [
      "[I 2025-01-06 21:56:06,628] Trial 524 finished with value: 0.05327465792370911 and parameters: {'topK': 24, 'alpha': 0.2997471159862314, 'normalize_similarity': True, 'implicit': False}. Best is trial 10 with value: 0.05370249298547826.\n"
     ]
    },
    {
     "name": "stdout",
     "output_type": "stream",
     "text": [
      "P3alphaRecommender: Similarity column 38121 (100.0%), 4033.43 column/sec. Elapsed time 9.45 sec\n",
      "EvaluatorHoldout: Ignoring 173 ( 0.5%) Users that have less than 1 test interactions\n",
      "EvaluatorHoldout: Processed 35563 (100.0%) in 22.46 sec. Users per second: 1584\n",
      "P3alphaRecommender: Similarity column 38121 (100.0%), 3983.58 column/sec. Elapsed time 9.57 sec\n",
      "EvaluatorHoldout: Ignoring 163 ( 0.5%) Users that have less than 1 test interactions\n",
      "EvaluatorHoldout: Processed 35573 (100.0%) in 23.15 sec. Users per second: 1537\n",
      "P3alphaRecommender: Similarity column 38121 (100.0%), 4132.64 column/sec. Elapsed time 9.22 sec\n",
      "EvaluatorHoldout: Ignoring 150 ( 0.4%) Users that have less than 1 test interactions\n",
      "EvaluatorHoldout: Processed 35586 (100.0%) in 22.08 sec. Users per second: 1612\n",
      "P3alphaRecommender: Similarity column 38121 (100.0%), 4152.20 column/sec. Elapsed time 9.18 sec\n",
      "EvaluatorHoldout: Ignoring 167 ( 0.5%) Users that have less than 1 test interactions\n",
      "EvaluatorHoldout: Processed 35569 (100.0%) in 22.48 sec. Users per second: 1582\n",
      "P3alphaRecommender: Similarity column 38121 (100.0%), 4048.05 column/sec. Elapsed time 9.42 sec\n",
      "EvaluatorHoldout: Ignoring 172 ( 0.5%) Users that have less than 1 test interactions\n",
      "EvaluatorHoldout: Processed 35564 (100.0%) in 22.61 sec. Users per second: 1573\n"
     ]
    },
    {
     "name": "stderr",
     "output_type": "stream",
     "text": [
      "[I 2025-01-06 21:58:47,058] Trial 525 finished with value: 0.0002664826418719655 and parameters: {'topK': 0, 'alpha': 0.2985057669665975, 'normalize_similarity': True, 'implicit': False}. Best is trial 10 with value: 0.05370249298547826.\n"
     ]
    },
    {
     "name": "stdout",
     "output_type": "stream",
     "text": [
      "P3alphaRecommender: Similarity column 38121 (100.0%), 2365.79 column/sec. Elapsed time 16.11 sec\n",
      "EvaluatorHoldout: Ignoring 173 ( 0.5%) Users that have less than 1 test interactions\n",
      "EvaluatorHoldout: Processed 35563 (100.0%) in 31.08 sec. Users per second: 1144\n",
      "P3alphaRecommender: Similarity column 38121 (100.0%), 2295.63 column/sec. Elapsed time 16.61 sec\n",
      "EvaluatorHoldout: Ignoring 163 ( 0.5%) Users that have less than 1 test interactions\n",
      "EvaluatorHoldout: Processed 35573 (100.0%) in 31.22 sec. Users per second: 1140\n",
      "P3alphaRecommender: Similarity column 38121 (100.0%), 2309.12 column/sec. Elapsed time 16.51 sec\n",
      "EvaluatorHoldout: Ignoring 150 ( 0.4%) Users that have less than 1 test interactions\n",
      "EvaluatorHoldout: Processed 35586 (100.0%) in 31.59 sec. Users per second: 1127\n",
      "P3alphaRecommender: Similarity column 38121 (100.0%), 2256.54 column/sec. Elapsed time 16.89 sec\n",
      "EvaluatorHoldout: Ignoring 167 ( 0.5%) Users that have less than 1 test interactions\n",
      "EvaluatorHoldout: Processed 35569 (100.0%) in 32.59 sec. Users per second: 1091\n",
      "P3alphaRecommender: Similarity column 38121 (100.0%), 2096.83 column/sec. Elapsed time 18.18 sec\n",
      "EvaluatorHoldout: Ignoring 172 ( 0.5%) Users that have less than 1 test interactions\n",
      "EvaluatorHoldout: Processed 35564 (100.0%) in 33.59 sec. Users per second: 1059\n"
     ]
    },
    {
     "name": "stderr",
     "output_type": "stream",
     "text": [
      "[I 2025-01-06 22:03:04,328] Trial 526 finished with value: 0.03579440699297698 and parameters: {'topK': 81, 'alpha': 0.2602394249561873, 'normalize_similarity': False, 'implicit': False}. Best is trial 10 with value: 0.05370249298547826.\n"
     ]
    },
    {
     "name": "stdout",
     "output_type": "stream",
     "text": [
      "P3alphaRecommender: Similarity column 38121 (100.0%), 2229.77 column/sec. Elapsed time 17.10 sec\n",
      "EvaluatorHoldout: Ignoring 173 ( 0.5%) Users that have less than 1 test interactions\n",
      "EvaluatorHoldout: Processed 35563 (100.0%) in 32.02 sec. Users per second: 1111\n",
      "P3alphaRecommender: Similarity column 38121 (100.0%), 2231.82 column/sec. Elapsed time 17.08 sec\n",
      "EvaluatorHoldout: Ignoring 163 ( 0.5%) Users that have less than 1 test interactions\n",
      "EvaluatorHoldout: Processed 35573 (100.0%) in 31.99 sec. Users per second: 1112\n",
      "P3alphaRecommender: Similarity column 38121 (100.0%), 2243.06 column/sec. Elapsed time 17.00 sec\n",
      "EvaluatorHoldout: Ignoring 150 ( 0.4%) Users that have less than 1 test interactions\n",
      "EvaluatorHoldout: Processed 35586 (100.0%) in 31.93 sec. Users per second: 1114\n",
      "P3alphaRecommender: Similarity column 38121 (100.0%), 2228.51 column/sec. Elapsed time 17.11 sec\n",
      "EvaluatorHoldout: Ignoring 167 ( 0.5%) Users that have less than 1 test interactions\n",
      "EvaluatorHoldout: Processed 35569 (100.0%) in 32.03 sec. Users per second: 1110\n",
      "P3alphaRecommender: Similarity column 38121 (100.0%), 2235.06 column/sec. Elapsed time 17.06 sec\n",
      "EvaluatorHoldout: Ignoring 172 ( 0.5%) Users that have less than 1 test interactions\n",
      "EvaluatorHoldout: Processed 35564 (100.0%) in 32.26 sec. Users per second: 1102\n"
     ]
    },
    {
     "name": "stderr",
     "output_type": "stream",
     "text": [
      "[I 2025-01-06 22:07:19,358] Trial 527 finished with value: 0.051083072672213646 and parameters: {'topK': 47, 'alpha': 0.3068027684763905, 'normalize_similarity': True, 'implicit': False}. Best is trial 10 with value: 0.05370249298547826.\n"
     ]
    },
    {
     "name": "stdout",
     "output_type": "stream",
     "text": [
      "P3alphaRecommender: Similarity column 38121 (100.0%), 3491.87 column/sec. Elapsed time 10.92 sec\n",
      "EvaluatorHoldout: Ignoring 173 ( 0.5%) Users that have less than 1 test interactions\n",
      "EvaluatorHoldout: Processed 35563 (100.0%) in 24.43 sec. Users per second: 1455\n",
      "P3alphaRecommender: Similarity column 38121 (100.0%), 3551.45 column/sec. Elapsed time 10.73 sec\n",
      "EvaluatorHoldout: Ignoring 163 ( 0.5%) Users that have less than 1 test interactions\n",
      "EvaluatorHoldout: Processed 35573 (100.0%) in 24.28 sec. Users per second: 1465\n",
      "P3alphaRecommender: Similarity column 38121 (100.0%), 3559.76 column/sec. Elapsed time 10.71 sec\n",
      "EvaluatorHoldout: Ignoring 150 ( 0.4%) Users that have less than 1 test interactions\n",
      "EvaluatorHoldout: Processed 35586 (100.0%) in 24.50 sec. Users per second: 1452\n",
      "P3alphaRecommender: Similarity column 38121 (100.0%), 3479.01 column/sec. Elapsed time 10.96 sec\n",
      "EvaluatorHoldout: Ignoring 167 ( 0.5%) Users that have less than 1 test interactions\n",
      "EvaluatorHoldout: Processed 35569 (100.0%) in 24.31 sec. Users per second: 1463\n",
      "P3alphaRecommender: Similarity column 38121 (100.0%), 3514.47 column/sec. Elapsed time 10.85 sec\n",
      "EvaluatorHoldout: Ignoring 172 ( 0.5%) Users that have less than 1 test interactions\n",
      "EvaluatorHoldout: Processed 35564 (100.0%) in 24.63 sec. Users per second: 1444\n"
     ]
    },
    {
     "name": "stderr",
     "output_type": "stream",
     "text": [
      "[I 2025-01-06 22:10:16,594] Trial 528 finished with value: 0.0002664826418719655 and parameters: {'topK': 0, 'alpha': 0.3477644236717488, 'normalize_similarity': True, 'implicit': False}. Best is trial 10 with value: 0.05370249298547826.\n"
     ]
    },
    {
     "name": "stdout",
     "output_type": "stream",
     "text": [
      "P3alphaRecommender: Similarity column 38121 (100.0%), 2259.00 column/sec. Elapsed time 16.88 sec\n",
      "EvaluatorHoldout: Ignoring 173 ( 0.5%) Users that have less than 1 test interactions\n",
      "EvaluatorHoldout: Processed 35563 (100.0%) in 31.73 sec. Users per second: 1121\n",
      "P3alphaRecommender: Similarity column 38121 (100.0%), 2243.27 column/sec. Elapsed time 16.99 sec\n",
      "EvaluatorHoldout: Ignoring 163 ( 0.5%) Users that have less than 1 test interactions\n",
      "EvaluatorHoldout: Processed 35573 (100.0%) in 31.92 sec. Users per second: 1114\n",
      "P3alphaRecommender: Similarity column 38121 (100.0%), 2246.98 column/sec. Elapsed time 16.97 sec\n",
      "EvaluatorHoldout: Ignoring 150 ( 0.4%) Users that have less than 1 test interactions\n",
      "EvaluatorHoldout: Processed 35586 (100.0%) in 31.94 sec. Users per second: 1114\n",
      "P3alphaRecommender: Similarity column 38121 (100.0%), 2238.67 column/sec. Elapsed time 17.03 sec\n",
      "EvaluatorHoldout: Ignoring 167 ( 0.5%) Users that have less than 1 test interactions\n",
      "EvaluatorHoldout: Processed 35569 (100.0%) in 31.95 sec. Users per second: 1113\n",
      "P3alphaRecommender: Similarity column 38121 (100.0%), 2260.60 column/sec. Elapsed time 16.86 sec\n",
      "EvaluatorHoldout: Ignoring 172 ( 0.5%) Users that have less than 1 test interactions\n",
      "EvaluatorHoldout: Processed 35564 (100.0%) in 32.02 sec. Users per second: 1111\n"
     ]
    },
    {
     "name": "stderr",
     "output_type": "stream",
     "text": [
      "[I 2025-01-06 22:14:30,249] Trial 529 finished with value: 0.05105935326394827 and parameters: {'topK': 46, 'alpha': 0.2431201917458803, 'normalize_similarity': True, 'implicit': False}. Best is trial 10 with value: 0.05370249298547826.\n"
     ]
    },
    {
     "name": "stdout",
     "output_type": "stream",
     "text": [
      "P3alphaRecommender: Similarity column 38121 (100.0%), 641.11 column/sec. Elapsed time 59.46 sec\n",
      "EvaluatorHoldout: Ignoring 173 ( 0.5%) Users that have less than 1 test interactions\n",
      "EvaluatorHoldout: Processed 35563 (100.0%) in 49.57 sec. Users per second: 717\n",
      "P3alphaRecommender: Similarity column 38121 (100.0%), 643.27 column/sec. Elapsed time 59.26 sec\n",
      "EvaluatorHoldout: Ignoring 163 ( 0.5%) Users that have less than 1 test interactions\n",
      "EvaluatorHoldout: Processed 35573 (100.0%) in 48.80 sec. Users per second: 729\n",
      "P3alphaRecommender: Similarity column 38121 (100.0%), 664.66 column/sec. Elapsed time 57.35 sec\n",
      "EvaluatorHoldout: Ignoring 150 ( 0.4%) Users that have less than 1 test interactions\n",
      "EvaluatorHoldout: Processed 35586 (100.0%) in 48.52 sec. Users per second: 733\n",
      "P3alphaRecommender: Similarity column 38121 (100.0%), 656.94 column/sec. Elapsed time 58.03 sec\n",
      "EvaluatorHoldout: Ignoring 167 ( 0.5%) Users that have less than 1 test interactions\n",
      "EvaluatorHoldout: Processed 35569 (100.0%) in 48.48 sec. Users per second: 734\n",
      "P3alphaRecommender: Similarity column 38121 (100.0%), 658.61 column/sec. Elapsed time 57.88 sec\n",
      "EvaluatorHoldout: Ignoring 172 ( 0.5%) Users that have less than 1 test interactions\n",
      "EvaluatorHoldout: Processed 35564 (100.0%) in 50.41 sec. Users per second: 705\n"
     ]
    },
    {
     "name": "stderr",
     "output_type": "stream",
     "text": [
      "[I 2025-01-06 22:26:22,457] Trial 530 finished with value: 0.033956086426831004 and parameters: {'topK': 1009, 'alpha': 0.3288775399776981, 'normalize_similarity': True, 'implicit': False}. Best is trial 10 with value: 0.05370249298547826.\n"
     ]
    },
    {
     "name": "stdout",
     "output_type": "stream",
     "text": [
      "P3alphaRecommender: Similarity column 38121 (100.0%), 2158.32 column/sec. Elapsed time 17.66 sec\n",
      "EvaluatorHoldout: Ignoring 173 ( 0.5%) Users that have less than 1 test interactions\n",
      "EvaluatorHoldout: Processed 35563 (100.0%) in 33.54 sec. Users per second: 1060\n",
      "P3alphaRecommender: Similarity column 38121 (100.0%), 2085.60 column/sec. Elapsed time 18.28 sec\n",
      "EvaluatorHoldout: Ignoring 163 ( 0.5%) Users that have less than 1 test interactions\n",
      "EvaluatorHoldout: Processed 35573 (100.0%) in 33.28 sec. Users per second: 1069\n",
      "P3alphaRecommender: Similarity column 38121 (100.0%), 2038.34 column/sec. Elapsed time 18.70 sec\n",
      "EvaluatorHoldout: Ignoring 150 ( 0.4%) Users that have less than 1 test interactions\n",
      "EvaluatorHoldout: Processed 35586 (100.0%) in 33.62 sec. Users per second: 1058\n",
      "P3alphaRecommender: Similarity column 38121 (100.0%), 2058.06 column/sec. Elapsed time 18.52 sec\n",
      "EvaluatorHoldout: Ignoring 167 ( 0.5%) Users that have less than 1 test interactions\n",
      "EvaluatorHoldout: Processed 35569 (100.0%) in 33.38 sec. Users per second: 1066\n",
      "P3alphaRecommender: Similarity column 38121 (100.0%), 2037.94 column/sec. Elapsed time 18.71 sec\n",
      "EvaluatorHoldout: Ignoring 172 ( 0.5%) Users that have less than 1 test interactions\n",
      "EvaluatorHoldout: Processed 35564 (100.0%) in 33.80 sec. Users per second: 1052\n"
     ]
    },
    {
     "name": "stderr",
     "output_type": "stream",
     "text": [
      "[I 2025-01-06 22:30:55,719] Trial 531 finished with value: 0.04887889203956956 and parameters: {'topK': 76, 'alpha': 0.2834596320952038, 'normalize_similarity': True, 'implicit': False}. Best is trial 10 with value: 0.05370249298547826.\n"
     ]
    },
    {
     "name": "stdout",
     "output_type": "stream",
     "text": [
      "P3alphaRecommender: Similarity column 38121 (100.0%), 2317.70 column/sec. Elapsed time 16.45 sec\n",
      "EvaluatorHoldout: Ignoring 173 ( 0.5%) Users that have less than 1 test interactions\n",
      "EvaluatorHoldout: Processed 35563 (100.0%) in 31.82 sec. Users per second: 1118\n",
      "P3alphaRecommender: Similarity column 38121 (100.0%), 2307.41 column/sec. Elapsed time 16.52 sec\n",
      "EvaluatorHoldout: Ignoring 163 ( 0.5%) Users that have less than 1 test interactions\n",
      "EvaluatorHoldout: Processed 35573 (100.0%) in 31.35 sec. Users per second: 1135\n",
      "P3alphaRecommender: Similarity column 38121 (100.0%), 2335.31 column/sec. Elapsed time 16.32 sec\n",
      "EvaluatorHoldout: Ignoring 150 ( 0.4%) Users that have less than 1 test interactions\n",
      "EvaluatorHoldout: Processed 35586 (100.0%) in 31.63 sec. Users per second: 1125\n",
      "P3alphaRecommender: Similarity column 38121 (100.0%), 2334.67 column/sec. Elapsed time 16.33 sec\n",
      "EvaluatorHoldout: Ignoring 167 ( 0.5%) Users that have less than 1 test interactions\n",
      "EvaluatorHoldout: Processed 35569 (100.0%) in 31.51 sec. Users per second: 1129\n",
      "P3alphaRecommender: Similarity column 38121 (100.0%), 2337.22 column/sec. Elapsed time 16.31 sec\n",
      "EvaluatorHoldout: Ignoring 172 ( 0.5%) Users that have less than 1 test interactions\n",
      "EvaluatorHoldout: Processed 35564 (100.0%) in 31.65 sec. Users per second: 1124\n"
     ]
    },
    {
     "name": "stderr",
     "output_type": "stream",
     "text": [
      "[I 2025-01-06 22:35:02,590] Trial 532 finished with value: 0.05298346154200061 and parameters: {'topK': 27, 'alpha': 0.3986354486940008, 'normalize_similarity': True, 'implicit': False}. Best is trial 10 with value: 0.05370249298547826.\n"
     ]
    },
    {
     "name": "stdout",
     "output_type": "stream",
     "text": [
      "P3alphaRecommender: Similarity column 38121 (100.0%), 1875.52 column/sec. Elapsed time 20.33 sec\n",
      "EvaluatorHoldout: Ignoring 173 ( 0.5%) Users that have less than 1 test interactions\n",
      "EvaluatorHoldout: Processed 35563 (100.0%) in 34.76 sec. Users per second: 1023\n",
      "P3alphaRecommender: Similarity column 38121 (100.0%), 1864.03 column/sec. Elapsed time 20.45 sec\n",
      "EvaluatorHoldout: Ignoring 163 ( 0.5%) Users that have less than 1 test interactions\n",
      "EvaluatorHoldout: Processed 35573 (100.0%) in 30.71 sec. Users per second: 1158\n",
      "P3alphaRecommender: Similarity column 38121 (100.0%), 1872.80 column/sec. Elapsed time 20.36 sec\n",
      "EvaluatorHoldout: Ignoring 150 ( 0.4%) Users that have less than 1 test interactions\n",
      "EvaluatorHoldout: Processed 35586 (100.0%) in 34.76 sec. Users per second: 1024\n",
      "P3alphaRecommender: Similarity column 38121 (100.0%), 1866.51 column/sec. Elapsed time 20.42 sec\n",
      "EvaluatorHoldout: Ignoring 167 ( 0.5%) Users that have less than 1 test interactions\n",
      "EvaluatorHoldout: Processed 35569 (100.0%) in 30.44 sec. Users per second: 1168\n",
      "P3alphaRecommender: Similarity column 38121 (100.0%), 1874.15 column/sec. Elapsed time 20.34 sec\n",
      "EvaluatorHoldout: Ignoring 172 ( 0.5%) Users that have less than 1 test interactions\n",
      "EvaluatorHoldout: Processed 35564 (100.0%) in 30.63 sec. Users per second: 1161\n"
     ]
    },
    {
     "name": "stderr",
     "output_type": "stream",
     "text": [
      "[I 2025-01-06 22:39:45,280] Trial 533 finished with value: 0.04626808768330708 and parameters: {'topK': 117, 'alpha': 0.1959882697937612, 'normalize_similarity': True, 'implicit': False}. Best is trial 10 with value: 0.05370249298547826.\n"
     ]
    },
    {
     "name": "stdout",
     "output_type": "stream",
     "text": [
      "P3alphaRecommender: Similarity column 38121 (100.0%), 3431.07 column/sec. Elapsed time 11.11 sec\n",
      "EvaluatorHoldout: Ignoring 173 ( 0.5%) Users that have less than 1 test interactions\n",
      "EvaluatorHoldout: Processed 35563 (100.0%) in 24.59 sec. Users per second: 1446\n",
      "P3alphaRecommender: Similarity column 38121 (100.0%), 3471.26 column/sec. Elapsed time 10.98 sec\n",
      "EvaluatorHoldout: Ignoring 163 ( 0.5%) Users that have less than 1 test interactions\n",
      "EvaluatorHoldout: Processed 35573 (100.0%) in 24.58 sec. Users per second: 1447\n",
      "P3alphaRecommender: Similarity column 38121 (100.0%), 3429.81 column/sec. Elapsed time 11.11 sec\n",
      "EvaluatorHoldout: Ignoring 150 ( 0.4%) Users that have less than 1 test interactions\n",
      "EvaluatorHoldout: Processed 35586 (100.0%) in 24.77 sec. Users per second: 1437\n",
      "P3alphaRecommender: Similarity column 38121 (100.0%), 3403.52 column/sec. Elapsed time 11.20 sec\n",
      "EvaluatorHoldout: Ignoring 167 ( 0.5%) Users that have less than 1 test interactions\n",
      "EvaluatorHoldout: Processed 35569 (100.0%) in 24.44 sec. Users per second: 1455\n",
      "P3alphaRecommender: Similarity column 38121 (100.0%), 3435.82 column/sec. Elapsed time 11.10 sec\n",
      "EvaluatorHoldout: Ignoring 172 ( 0.5%) Users that have less than 1 test interactions\n",
      "EvaluatorHoldout: Processed 35564 (100.0%) in 24.86 sec. Users per second: 1431\n"
     ]
    },
    {
     "name": "stderr",
     "output_type": "stream",
     "text": [
      "[I 2025-01-06 22:42:44,965] Trial 534 finished with value: 0.0002664826418719655 and parameters: {'topK': 0, 'alpha': 0.3576958393105565, 'normalize_similarity': True, 'implicit': True}. Best is trial 10 with value: 0.05370249298547826.\n"
     ]
    },
    {
     "name": "stdout",
     "output_type": "stream",
     "text": [
      "P3alphaRecommender: Similarity column 38121 (100.0%), 2171.98 column/sec. Elapsed time 17.55 sec\n",
      "EvaluatorHoldout: Ignoring 173 ( 0.5%) Users that have less than 1 test interactions\n",
      "EvaluatorHoldout: Processed 35563 (100.0%) in 32.52 sec. Users per second: 1094\n",
      "P3alphaRecommender: Similarity column 38121 (100.0%), 2180.33 column/sec. Elapsed time 17.48 sec\n",
      "EvaluatorHoldout: Ignoring 163 ( 0.5%) Users that have less than 1 test interactions\n",
      "EvaluatorHoldout: Processed 35573 (100.0%) in 32.22 sec. Users per second: 1104\n",
      "P3alphaRecommender: Similarity column 38121 (100.0%), 2219.82 column/sec. Elapsed time 17.17 sec\n",
      "EvaluatorHoldout: Ignoring 150 ( 0.4%) Users that have less than 1 test interactions\n",
      "EvaluatorHoldout: Processed 35586 (100.0%) in 32.27 sec. Users per second: 1103\n",
      "P3alphaRecommender: Similarity column 38121 (100.0%), 2196.85 column/sec. Elapsed time 17.35 sec\n",
      "EvaluatorHoldout: Ignoring 167 ( 0.5%) Users that have less than 1 test interactions\n",
      "EvaluatorHoldout: Processed 35569 (100.0%) in 32.32 sec. Users per second: 1101\n",
      "P3alphaRecommender: Similarity column 38121 (100.0%), 2218.62 column/sec. Elapsed time 17.18 sec\n",
      "EvaluatorHoldout: Ignoring 172 ( 0.5%) Users that have less than 1 test interactions\n",
      "EvaluatorHoldout: Processed 35564 (100.0%) in 32.45 sec. Users per second: 1096\n"
     ]
    },
    {
     "name": "stderr",
     "output_type": "stream",
     "text": [
      "[I 2025-01-06 22:47:03,529] Trial 535 finished with value: 0.05085067781990482 and parameters: {'topK': 50, 'alpha': 0.3079639895296718, 'normalize_similarity': True, 'implicit': False}. Best is trial 10 with value: 0.05370249298547826.\n"
     ]
    },
    {
     "name": "stdout",
     "output_type": "stream",
     "text": [
      "P3alphaRecommender: Similarity column 38121 (100.0%), 2358.24 column/sec. Elapsed time 16.16 sec\n",
      "EvaluatorHoldout: Ignoring 173 ( 0.5%) Users that have less than 1 test interactions\n",
      "EvaluatorHoldout: Processed 35563 (100.0%) in 30.89 sec. Users per second: 1151\n",
      "P3alphaRecommender: Similarity column 38121 (100.0%), 2351.57 column/sec. Elapsed time 16.21 sec\n",
      "EvaluatorHoldout: Ignoring 163 ( 0.5%) Users that have less than 1 test interactions\n",
      "EvaluatorHoldout: Processed 35573 (100.0%) in 31.08 sec. Users per second: 1145\n",
      "P3alphaRecommender: Similarity column 38121 (100.0%), 2368.87 column/sec. Elapsed time 16.09 sec\n",
      "EvaluatorHoldout: Ignoring 150 ( 0.4%) Users that have less than 1 test interactions\n",
      "EvaluatorHoldout: Processed 35586 (100.0%) in 31.18 sec. Users per second: 1141\n",
      "P3alphaRecommender: Similarity column 38121 (100.0%), 2371.10 column/sec. Elapsed time 16.08 sec\n",
      "EvaluatorHoldout: Ignoring 167 ( 0.5%) Users that have less than 1 test interactions\n",
      "EvaluatorHoldout: Processed 35569 (100.0%) in 31.04 sec. Users per second: 1146\n",
      "P3alphaRecommender: Similarity column 38121 (100.0%), 2389.26 column/sec. Elapsed time 15.96 sec\n",
      "EvaluatorHoldout: Ignoring 172 ( 0.5%) Users that have less than 1 test interactions\n",
      "EvaluatorHoldout: Processed 35564 (100.0%) in 30.97 sec. Users per second: 1148\n"
     ]
    },
    {
     "name": "stderr",
     "output_type": "stream",
     "text": [
      "[I 2025-01-06 22:51:05,865] Trial 536 finished with value: 0.05283285937492006 and parameters: {'topK': 27, 'alpha': 0.23764904073259957, 'normalize_similarity': True, 'implicit': False}. Best is trial 10 with value: 0.05370249298547826.\n"
     ]
    },
    {
     "name": "stdout",
     "output_type": "stream",
     "text": [
      "P3alphaRecommender: Similarity column 38121 (100.0%), 2038.80 column/sec. Elapsed time 18.70 sec\n",
      "EvaluatorHoldout: Ignoring 173 ( 0.5%) Users that have less than 1 test interactions\n",
      "EvaluatorHoldout: Processed 35563 (100.0%) in 33.29 sec. Users per second: 1068\n",
      "P3alphaRecommender: Similarity column 38121 (100.0%), 2022.60 column/sec. Elapsed time 18.85 sec\n",
      "EvaluatorHoldout: Ignoring 163 ( 0.5%) Users that have less than 1 test interactions\n",
      "EvaluatorHoldout: Processed 35573 (100.0%) in 33.69 sec. Users per second: 1056\n",
      "P3alphaRecommender: Similarity column 38121 (100.0%), 2043.25 column/sec. Elapsed time 18.66 sec\n",
      "EvaluatorHoldout: Ignoring 150 ( 0.4%) Users that have less than 1 test interactions\n",
      "EvaluatorHoldout: Processed 35586 (100.0%) in 33.67 sec. Users per second: 1057\n",
      "P3alphaRecommender: Similarity column 38121 (100.0%), 2020.10 column/sec. Elapsed time 18.87 sec\n",
      "EvaluatorHoldout: Ignoring 167 ( 0.5%) Users that have less than 1 test interactions\n",
      "EvaluatorHoldout: Processed 35569 (100.0%) in 33.55 sec. Users per second: 1060\n",
      "P3alphaRecommender: Similarity column 38121 (100.0%), 2006.57 column/sec. Elapsed time 19.00 sec\n",
      "EvaluatorHoldout: Ignoring 172 ( 0.5%) Users that have less than 1 test interactions\n",
      "EvaluatorHoldout: Processed 35564 (100.0%) in 29.85 sec. Users per second: 1192\n"
     ]
    },
    {
     "name": "stderr",
     "output_type": "stream",
     "text": [
      "[I 2025-01-06 22:55:39,117] Trial 537 finished with value: 0.04770473414744578 and parameters: {'topK': 88, 'alpha': 0.15641524166478055, 'normalize_similarity': True, 'implicit': False}. Best is trial 10 with value: 0.05370249298547826.\n"
     ]
    },
    {
     "name": "stdout",
     "output_type": "stream",
     "text": [
      "P3alphaRecommender: Similarity column 38121 (100.0%), 2133.57 column/sec. Elapsed time 17.87 sec\n",
      "EvaluatorHoldout: Ignoring 173 ( 0.5%) Users that have less than 1 test interactions\n",
      "EvaluatorHoldout: Processed 35563 (100.0%) in 32.86 sec. Users per second: 1082\n",
      "P3alphaRecommender: Similarity column 38121 (100.0%), 2162.98 column/sec. Elapsed time 17.62 sec\n",
      "EvaluatorHoldout: Ignoring 163 ( 0.5%) Users that have less than 1 test interactions\n",
      "EvaluatorHoldout: Processed 35573 (100.0%) in 32.98 sec. Users per second: 1079\n",
      "P3alphaRecommender: Similarity column 38121 (100.0%), 2140.80 column/sec. Elapsed time 17.81 sec\n",
      "EvaluatorHoldout: Ignoring 150 ( 0.4%) Users that have less than 1 test interactions\n",
      "EvaluatorHoldout: Processed 35586 (100.0%) in 32.87 sec. Users per second: 1083\n",
      "P3alphaRecommender: Similarity column 38121 (100.0%), 2154.86 column/sec. Elapsed time 17.69 sec\n",
      "EvaluatorHoldout: Ignoring 167 ( 0.5%) Users that have less than 1 test interactions\n",
      "EvaluatorHoldout: Processed 35569 (100.0%) in 32.72 sec. Users per second: 1087\n",
      "P3alphaRecommender: Similarity column 38121 (100.0%), 2154.40 column/sec. Elapsed time 17.69 sec\n",
      "EvaluatorHoldout: Ignoring 172 ( 0.5%) Users that have less than 1 test interactions\n",
      "EvaluatorHoldout: Processed 35564 (100.0%) in 32.66 sec. Users per second: 1089\n"
     ]
    },
    {
     "name": "stderr",
     "output_type": "stream",
     "text": [
      "[I 2025-01-06 23:00:03,374] Trial 538 finished with value: 0.05023930463698891 and parameters: {'topK': 60, 'alpha': 0.40873675519064934, 'normalize_similarity': True, 'implicit': False}. Best is trial 10 with value: 0.05370249298547826.\n"
     ]
    },
    {
     "name": "stdout",
     "output_type": "stream",
     "text": [
      "P3alphaRecommender: Similarity column 38121 (100.0%), 2375.39 column/sec. Elapsed time 16.05 sec\n",
      "EvaluatorHoldout: Ignoring 173 ( 0.5%) Users that have less than 1 test interactions\n",
      "EvaluatorHoldout: Processed 35563 (100.0%) in 30.89 sec. Users per second: 1151\n",
      "P3alphaRecommender: Similarity column 38121 (100.0%), 2356.81 column/sec. Elapsed time 16.17 sec\n",
      "EvaluatorHoldout: Ignoring 163 ( 0.5%) Users that have less than 1 test interactions\n",
      "EvaluatorHoldout: Processed 35573 (100.0%) in 31.00 sec. Users per second: 1148\n",
      "P3alphaRecommender: Similarity column 38121 (100.0%), 2351.02 column/sec. Elapsed time 16.21 sec\n",
      "EvaluatorHoldout: Ignoring 150 ( 0.4%) Users that have less than 1 test interactions\n",
      "EvaluatorHoldout: Processed 35586 (100.0%) in 31.00 sec. Users per second: 1148\n",
      "P3alphaRecommender: Similarity column 38121 (100.0%), 2371.54 column/sec. Elapsed time 16.07 sec\n",
      "EvaluatorHoldout: Ignoring 167 ( 0.5%) Users that have less than 1 test interactions\n",
      "EvaluatorHoldout: Processed 35569 (100.0%) in 30.97 sec. Users per second: 1148\n",
      "P3alphaRecommender: Similarity column 38121 (100.0%), 2354.15 column/sec. Elapsed time 16.19 sec\n",
      "EvaluatorHoldout: Ignoring 172 ( 0.5%) Users that have less than 1 test interactions\n",
      "EvaluatorHoldout: Processed 35564 (100.0%) in 31.21 sec. Users per second: 1140\n"
     ]
    },
    {
     "name": "stderr",
     "output_type": "stream",
     "text": [
      "[I 2025-01-06 23:04:05,976] Trial 539 finished with value: 0.05309551099246711 and parameters: {'topK': 26, 'alpha': 0.36899670134569673, 'normalize_similarity': True, 'implicit': False}. Best is trial 10 with value: 0.05370249298547826.\n"
     ]
    },
    {
     "name": "stdout",
     "output_type": "stream",
     "text": [
      "P3alphaRecommender: Similarity column 38121 (100.0%), 2360.58 column/sec. Elapsed time 16.15 sec\n",
      "EvaluatorHoldout: Ignoring 173 ( 0.5%) Users that have less than 1 test interactions\n",
      "EvaluatorHoldout: Processed 35563 (100.0%) in 30.90 sec. Users per second: 1151\n",
      "P3alphaRecommender: Similarity column 38121 (100.0%), 2403.50 column/sec. Elapsed time 15.86 sec\n",
      "EvaluatorHoldout: Ignoring 163 ( 0.5%) Users that have less than 1 test interactions\n",
      "EvaluatorHoldout: Processed 35573 (100.0%) in 30.70 sec. Users per second: 1159\n",
      "P3alphaRecommender: Similarity column 38121 (100.0%), 2410.59 column/sec. Elapsed time 15.81 sec\n",
      "EvaluatorHoldout: Ignoring 150 ( 0.4%) Users that have less than 1 test interactions\n",
      "EvaluatorHoldout: Processed 35586 (100.0%) in 30.66 sec. Users per second: 1161\n",
      "P3alphaRecommender: Similarity column 38121 (100.0%), 2377.86 column/sec. Elapsed time 16.03 sec\n",
      "EvaluatorHoldout: Ignoring 167 ( 0.5%) Users that have less than 1 test interactions\n",
      "EvaluatorHoldout: Processed 35569 (100.0%) in 31.12 sec. Users per second: 1143\n",
      "P3alphaRecommender: Similarity column 38121 (100.0%), 2352.88 column/sec. Elapsed time 16.20 sec\n",
      "EvaluatorHoldout: Ignoring 172 ( 0.5%) Users that have less than 1 test interactions\n",
      "EvaluatorHoldout: Processed 35564 (100.0%) in 31.08 sec. Users per second: 1144\n"
     ]
    },
    {
     "name": "stderr",
     "output_type": "stream",
     "text": [
      "[I 2025-01-06 23:08:07,235] Trial 540 finished with value: 0.05286009541605554 and parameters: {'topK': 27, 'alpha': 0.267509430686707, 'normalize_similarity': True, 'implicit': False}. Best is trial 10 with value: 0.05370249298547826.\n"
     ]
    },
    {
     "name": "stdout",
     "output_type": "stream",
     "text": [
      "P3alphaRecommender: Similarity column 38121 (100.0%), 2105.70 column/sec. Elapsed time 18.10 sec\n",
      "EvaluatorHoldout: Ignoring 173 ( 0.5%) Users that have less than 1 test interactions\n",
      "EvaluatorHoldout: Processed 35563 (100.0%) in 33.40 sec. Users per second: 1065\n",
      "P3alphaRecommender: Similarity column 38121 (100.0%), 2129.86 column/sec. Elapsed time 17.90 sec\n",
      "EvaluatorHoldout: Ignoring 163 ( 0.5%) Users that have less than 1 test interactions\n",
      "EvaluatorHoldout: Processed 35573 (100.0%) in 33.12 sec. Users per second: 1074\n",
      "P3alphaRecommender: Similarity column 38121 (100.0%), 2110.06 column/sec. Elapsed time 18.07 sec\n",
      "EvaluatorHoldout: Ignoring 150 ( 0.4%) Users that have less than 1 test interactions\n",
      "EvaluatorHoldout: Processed 35586 (100.0%) in 33.15 sec. Users per second: 1074\n",
      "P3alphaRecommender: Similarity column 38121 (100.0%), 2091.07 column/sec. Elapsed time 18.23 sec\n",
      "EvaluatorHoldout: Ignoring 167 ( 0.5%) Users that have less than 1 test interactions\n",
      "EvaluatorHoldout: Processed 35569 (100.0%) in 33.03 sec. Users per second: 1077\n",
      "P3alphaRecommender: Similarity column 38121 (100.0%), 2108.84 column/sec. Elapsed time 18.08 sec\n",
      "EvaluatorHoldout: Ignoring 172 ( 0.5%) Users that have less than 1 test interactions\n",
      "EvaluatorHoldout: Processed 35564 (100.0%) in 32.90 sec. Users per second: 1081\n"
     ]
    },
    {
     "name": "stderr",
     "output_type": "stream",
     "text": [
      "[I 2025-01-06 23:12:35,714] Trial 541 finished with value: 0.04925292810577507 and parameters: {'topK': 68, 'alpha': 0.21192404876278215, 'normalize_similarity': True, 'implicit': False}. Best is trial 10 with value: 0.05370249298547826.\n"
     ]
    },
    {
     "name": "stdout",
     "output_type": "stream",
     "text": [
      "P3alphaRecommender: Similarity column 38121 (100.0%), 3410.39 column/sec. Elapsed time 11.18 sec\n",
      "EvaluatorHoldout: Ignoring 173 ( 0.5%) Users that have less than 1 test interactions\n",
      "EvaluatorHoldout: Processed 35563 (100.0%) in 24.62 sec. Users per second: 1444\n",
      "P3alphaRecommender: Similarity column 38121 (100.0%), 3400.57 column/sec. Elapsed time 11.21 sec\n",
      "EvaluatorHoldout: Ignoring 163 ( 0.5%) Users that have less than 1 test interactions\n",
      "EvaluatorHoldout: Processed 35573 (100.0%) in 24.57 sec. Users per second: 1448\n",
      "P3alphaRecommender: Similarity column 38121 (100.0%), 3455.00 column/sec. Elapsed time 11.03 sec\n",
      "EvaluatorHoldout: Ignoring 150 ( 0.4%) Users that have less than 1 test interactions\n",
      "EvaluatorHoldout: Processed 35586 (100.0%) in 24.75 sec. Users per second: 1438\n",
      "P3alphaRecommender: Similarity column 38121 (100.0%), 3415.84 column/sec. Elapsed time 11.16 sec\n",
      "EvaluatorHoldout: Ignoring 167 ( 0.5%) Users that have less than 1 test interactions\n",
      "EvaluatorHoldout: Processed 35569 (100.0%) in 24.67 sec. Users per second: 1442\n",
      "P3alphaRecommender: Similarity column 38121 (100.0%), 3455.35 column/sec. Elapsed time 11.03 sec\n",
      "EvaluatorHoldout: Ignoring 172 ( 0.5%) Users that have less than 1 test interactions\n",
      "EvaluatorHoldout: Processed 35564 (100.0%) in 24.67 sec. Users per second: 1442\n"
     ]
    },
    {
     "name": "stderr",
     "output_type": "stream",
     "text": [
      "[I 2025-01-06 23:15:35,592] Trial 542 finished with value: 0.0002664826418719655 and parameters: {'topK': 0, 'alpha': 0.30896622386721495, 'normalize_similarity': True, 'implicit': False}. Best is trial 10 with value: 0.05370249298547826.\n"
     ]
    },
    {
     "name": "stdout",
     "output_type": "stream",
     "text": [
      "P3alphaRecommender: Similarity column 38121 (100.0%), 1927.58 column/sec. Elapsed time 19.78 sec\n",
      "EvaluatorHoldout: Ignoring 173 ( 0.5%) Users that have less than 1 test interactions\n",
      "EvaluatorHoldout: Processed 35563 (100.0%) in 34.57 sec. Users per second: 1029\n",
      "P3alphaRecommender: Similarity column 38121 (100.0%), 1918.88 column/sec. Elapsed time 19.87 sec\n",
      "EvaluatorHoldout: Ignoring 163 ( 0.5%) Users that have less than 1 test interactions\n",
      "EvaluatorHoldout: Processed 35573 (100.0%) in 30.56 sec. Users per second: 1164\n",
      "P3alphaRecommender: Similarity column 38121 (100.0%), 1933.18 column/sec. Elapsed time 19.72 sec\n",
      "EvaluatorHoldout: Ignoring 150 ( 0.4%) Users that have less than 1 test interactions\n",
      "EvaluatorHoldout: Processed 35586 (100.0%) in 34.92 sec. Users per second: 1019\n",
      "P3alphaRecommender: Similarity column 38121 (100.0%), 1914.15 column/sec. Elapsed time 19.92 sec\n",
      "EvaluatorHoldout: Ignoring 167 ( 0.5%) Users that have less than 1 test interactions\n",
      "EvaluatorHoldout: Processed 35569 (100.0%) in 30.46 sec. Users per second: 1168\n",
      "P3alphaRecommender: Similarity column 38121 (100.0%), 1907.87 column/sec. Elapsed time 19.98 sec\n",
      "EvaluatorHoldout: Ignoring 172 ( 0.5%) Users that have less than 1 test interactions\n",
      "EvaluatorHoldout: Processed 35564 (100.0%) in 30.43 sec. Users per second: 1169\n"
     ]
    },
    {
     "name": "stderr",
     "output_type": "stream",
     "text": [
      "[I 2025-01-06 23:20:13,979] Trial 543 finished with value: 0.04734105278637962 and parameters: {'topK': 105, 'alpha': 0.3647813326137363, 'normalize_similarity': True, 'implicit': False}. Best is trial 10 with value: 0.05370249298547826.\n"
     ]
    },
    {
     "name": "stdout",
     "output_type": "stream",
     "text": [
      "P3alphaRecommender: Similarity column 38121 (100.0%), 2196.38 column/sec. Elapsed time 17.36 sec\n",
      "EvaluatorHoldout: Ignoring 173 ( 0.5%) Users that have less than 1 test interactions\n",
      "EvaluatorHoldout: Processed 35563 (100.0%) in 33.69 sec. Users per second: 1055\n",
      "P3alphaRecommender: Similarity column 38121 (100.0%), 2186.15 column/sec. Elapsed time 17.44 sec\n",
      "EvaluatorHoldout: Ignoring 163 ( 0.5%) Users that have less than 1 test interactions\n",
      "EvaluatorHoldout: Processed 35573 (100.0%) in 33.77 sec. Users per second: 1053\n",
      "P3alphaRecommender: Similarity column 38121 (100.0%), 2183.82 column/sec. Elapsed time 17.46 sec\n",
      "EvaluatorHoldout: Ignoring 150 ( 0.4%) Users that have less than 1 test interactions\n",
      "EvaluatorHoldout: Processed 35586 (100.0%) in 33.87 sec. Users per second: 1051\n",
      "P3alphaRecommender: Similarity column 38121 (100.0%), 2192.54 column/sec. Elapsed time 17.39 sec\n",
      "EvaluatorHoldout: Ignoring 167 ( 0.5%) Users that have less than 1 test interactions\n",
      "EvaluatorHoldout: Processed 35569 (100.0%) in 33.71 sec. Users per second: 1055\n",
      "P3alphaRecommender: Similarity column 38121 (100.0%), 2213.71 column/sec. Elapsed time 17.22 sec\n",
      "EvaluatorHoldout: Ignoring 172 ( 0.5%) Users that have less than 1 test interactions\n",
      "EvaluatorHoldout: Processed 35564 (100.0%) in 33.82 sec. Users per second: 1051\n"
     ]
    },
    {
     "name": "stderr",
     "output_type": "stream",
     "text": [
      "[I 2025-01-06 23:24:41,188] Trial 544 finished with value: 0.046217656431506625 and parameters: {'topK': 50, 'alpha': 1.5341110720525144, 'normalize_similarity': True, 'implicit': False}. Best is trial 10 with value: 0.05370249298547826.\n"
     ]
    },
    {
     "name": "stdout",
     "output_type": "stream",
     "text": [
      "P3alphaRecommender: Similarity column 38121 (100.0%), 2336.76 column/sec. Elapsed time 16.31 sec\n",
      "EvaluatorHoldout: Ignoring 173 ( 0.5%) Users that have less than 1 test interactions\n",
      "EvaluatorHoldout: Processed 35563 (100.0%) in 31.36 sec. Users per second: 1134\n",
      "P3alphaRecommender: Similarity column 38121 (100.0%), 2330.54 column/sec. Elapsed time 16.36 sec\n",
      "EvaluatorHoldout: Ignoring 163 ( 0.5%) Users that have less than 1 test interactions\n",
      "EvaluatorHoldout: Processed 35573 (100.0%) in 31.47 sec. Users per second: 1130\n",
      "P3alphaRecommender: Similarity column 38121 (100.0%), 2341.29 column/sec. Elapsed time 16.28 sec\n",
      "EvaluatorHoldout: Ignoring 150 ( 0.4%) Users that have less than 1 test interactions\n",
      "EvaluatorHoldout: Processed 35586 (100.0%) in 31.44 sec. Users per second: 1132\n",
      "P3alphaRecommender: Similarity column 38121 (100.0%), 2344.74 column/sec. Elapsed time 16.26 sec\n",
      "EvaluatorHoldout: Ignoring 167 ( 0.5%) Users that have less than 1 test interactions\n",
      "EvaluatorHoldout: Processed 35569 (100.0%) in 31.50 sec. Users per second: 1129\n",
      "P3alphaRecommender: Similarity column 38121 (100.0%), 2344.92 column/sec. Elapsed time 16.26 sec\n",
      "EvaluatorHoldout: Ignoring 172 ( 0.5%) Users that have less than 1 test interactions\n",
      "EvaluatorHoldout: Processed 35564 (100.0%) in 31.42 sec. Users per second: 1132\n"
     ]
    },
    {
     "name": "stderr",
     "output_type": "stream",
     "text": [
      "[I 2025-01-06 23:28:46,796] Trial 545 finished with value: 0.05298899704178896 and parameters: {'topK': 27, 'alpha': 0.4285519102005176, 'normalize_similarity': True, 'implicit': True}. Best is trial 10 with value: 0.05370249298547826.\n"
     ]
    },
    {
     "name": "stdout",
     "output_type": "stream",
     "text": [
      "P3alphaRecommender: Similarity column 38121 (100.0%), 3447.07 column/sec. Elapsed time 11.06 sec\n",
      "EvaluatorHoldout: Ignoring 173 ( 0.5%) Users that have less than 1 test interactions\n",
      "EvaluatorHoldout: Processed 35563 (100.0%) in 24.97 sec. Users per second: 1424\n",
      "P3alphaRecommender: Similarity column 38121 (100.0%), 3441.83 column/sec. Elapsed time 11.08 sec\n",
      "EvaluatorHoldout: Ignoring 163 ( 0.5%) Users that have less than 1 test interactions\n",
      "EvaluatorHoldout: Processed 35573 (100.0%) in 24.77 sec. Users per second: 1436\n",
      "P3alphaRecommender: Similarity column 38121 (100.0%), 3430.10 column/sec. Elapsed time 11.11 sec\n",
      "EvaluatorHoldout: Ignoring 150 ( 0.4%) Users that have less than 1 test interactions\n",
      "EvaluatorHoldout: Processed 35586 (100.0%) in 24.67 sec. Users per second: 1442\n",
      "P3alphaRecommender: Similarity column 38121 (100.0%), 3378.14 column/sec. Elapsed time 11.28 sec\n",
      "EvaluatorHoldout: Ignoring 167 ( 0.5%) Users that have less than 1 test interactions\n",
      "EvaluatorHoldout: Processed 35569 (100.0%) in 24.69 sec. Users per second: 1440\n",
      "P3alphaRecommender: Similarity column 38121 (100.0%), 3421.58 column/sec. Elapsed time 11.14 sec\n",
      "EvaluatorHoldout: Ignoring 172 ( 0.5%) Users that have less than 1 test interactions\n",
      "EvaluatorHoldout: Processed 35564 (100.0%) in 24.81 sec. Users per second: 1433\n"
     ]
    },
    {
     "name": "stderr",
     "output_type": "stream",
     "text": [
      "[I 2025-01-06 23:31:47,375] Trial 546 finished with value: 0.0002664826418719655 and parameters: {'topK': 0, 'alpha': 1.3706662789400421, 'normalize_similarity': True, 'implicit': False}. Best is trial 10 with value: 0.05370249298547826.\n"
     ]
    },
    {
     "name": "stdout",
     "output_type": "stream",
     "text": [
      "P3alphaRecommender: Similarity column 38121 (100.0%), 2082.00 column/sec. Elapsed time 18.31 sec\n",
      "EvaluatorHoldout: Ignoring 173 ( 0.5%) Users that have less than 1 test interactions\n",
      "EvaluatorHoldout: Processed 35563 (100.0%) in 33.50 sec. Users per second: 1062\n",
      "P3alphaRecommender: Similarity column 38121 (100.0%), 2040.07 column/sec. Elapsed time 18.69 sec\n",
      "EvaluatorHoldout: Ignoring 163 ( 0.5%) Users that have less than 1 test interactions\n",
      "EvaluatorHoldout: Processed 35573 (100.0%) in 33.71 sec. Users per second: 1055\n",
      "P3alphaRecommender: Similarity column 38121 (100.0%), 2041.40 column/sec. Elapsed time 18.67 sec\n",
      "EvaluatorHoldout: Ignoring 150 ( 0.4%) Users that have less than 1 test interactions\n",
      "EvaluatorHoldout: Processed 35586 (100.0%) in 33.82 sec. Users per second: 1052\n",
      "P3alphaRecommender: Similarity column 38121 (100.0%), 2054.05 column/sec. Elapsed time 18.56 sec\n",
      "EvaluatorHoldout: Ignoring 167 ( 0.5%) Users that have less than 1 test interactions\n",
      "EvaluatorHoldout: Processed 35569 (100.0%) in 33.73 sec. Users per second: 1054\n",
      "P3alphaRecommender: Similarity column 38121 (100.0%), 2026.73 column/sec. Elapsed time 18.81 sec\n",
      "EvaluatorHoldout: Ignoring 172 ( 0.5%) Users that have less than 1 test interactions\n",
      "EvaluatorHoldout: Processed 35564 (100.0%) in 33.64 sec. Users per second: 1057\n"
     ]
    },
    {
     "name": "stderr",
     "output_type": "stream",
     "text": [
      "[I 2025-01-06 23:36:22,461] Trial 547 finished with value: 0.049162547479723075 and parameters: {'topK': 74, 'alpha': 0.3305113059417045, 'normalize_similarity': True, 'implicit': False}. Best is trial 10 with value: 0.05370249298547826.\n"
     ]
    },
    {
     "name": "stdout",
     "output_type": "stream",
     "text": [
      "P3alphaRecommender: Similarity column 38121 (100.0%), 2218.02 column/sec. Elapsed time 17.19 sec\n",
      "EvaluatorHoldout: Ignoring 173 ( 0.5%) Users that have less than 1 test interactions\n",
      "EvaluatorHoldout: Processed 35563 (100.0%) in 32.92 sec. Users per second: 1080\n",
      "P3alphaRecommender: Similarity column 38121 (100.0%), 2203.26 column/sec. Elapsed time 17.30 sec\n",
      "EvaluatorHoldout: Ignoring 163 ( 0.5%) Users that have less than 1 test interactions\n",
      "EvaluatorHoldout: Processed 35573 (100.0%) in 32.89 sec. Users per second: 1082\n",
      "P3alphaRecommender: Similarity column 38121 (100.0%), 2181.53 column/sec. Elapsed time 17.47 sec\n",
      "EvaluatorHoldout: Ignoring 150 ( 0.4%) Users that have less than 1 test interactions\n",
      "EvaluatorHoldout: Processed 35586 (100.0%) in 32.86 sec. Users per second: 1083\n",
      "P3alphaRecommender: Similarity column 38121 (100.0%), 2178.09 column/sec. Elapsed time 17.50 sec\n",
      "EvaluatorHoldout: Ignoring 167 ( 0.5%) Users that have less than 1 test interactions\n",
      "EvaluatorHoldout: Processed 35569 (100.0%) in 32.96 sec. Users per second: 1079\n",
      "P3alphaRecommender: Similarity column 38121 (100.0%), 2219.60 column/sec. Elapsed time 17.17 sec\n",
      "EvaluatorHoldout: Ignoring 172 ( 0.5%) Users that have less than 1 test interactions\n",
      "EvaluatorHoldout: Processed 35564 (100.0%) in 32.88 sec. Users per second: 1082\n"
     ]
    },
    {
     "name": "stderr",
     "output_type": "stream",
     "text": [
      "[I 2025-01-06 23:40:43,146] Trial 548 finished with value: 0.04001399237777069 and parameters: {'topK': 46, 'alpha': 0.3995109809168195, 'normalize_similarity': False, 'implicit': False}. Best is trial 10 with value: 0.05370249298547826.\n"
     ]
    },
    {
     "name": "stdout",
     "output_type": "stream",
     "text": [
      "P3alphaRecommender: Similarity column 38121 (100.0%), 1761.85 column/sec. Elapsed time 21.64 sec\n",
      "EvaluatorHoldout: Ignoring 173 ( 0.5%) Users that have less than 1 test interactions\n",
      "EvaluatorHoldout: Processed 35563 (100.0%) in 31.41 sec. Users per second: 1132\n",
      "P3alphaRecommender: Similarity column 38121 (100.0%), 1757.06 column/sec. Elapsed time 21.70 sec\n",
      "EvaluatorHoldout: Ignoring 163 ( 0.5%) Users that have less than 1 test interactions\n",
      "EvaluatorHoldout: Processed 35573 (100.0%) in 31.36 sec. Users per second: 1135\n",
      "P3alphaRecommender: Similarity column 38121 (100.0%), 1767.95 column/sec. Elapsed time 21.56 sec\n",
      "EvaluatorHoldout: Ignoring 150 ( 0.4%) Users that have less than 1 test interactions\n",
      "EvaluatorHoldout: Processed 35586 (100.0%) in 31.17 sec. Users per second: 1142\n",
      "P3alphaRecommender: Similarity column 38121 (100.0%), 1780.82 column/sec. Elapsed time 21.41 sec\n",
      "EvaluatorHoldout: Ignoring 167 ( 0.5%) Users that have less than 1 test interactions\n",
      "EvaluatorHoldout: Processed 35569 (100.0%) in 31.30 sec. Users per second: 1136\n",
      "P3alphaRecommender: Similarity column 38121 (100.0%), 1783.08 column/sec. Elapsed time 21.38 sec\n",
      "EvaluatorHoldout: Ignoring 172 ( 0.5%) Users that have less than 1 test interactions\n",
      "EvaluatorHoldout: Processed 35564 (100.0%) in 31.26 sec. Users per second: 1138\n"
     ]
    },
    {
     "name": "stderr",
     "output_type": "stream",
     "text": [
      "[I 2025-01-06 23:45:30,473] Trial 549 finished with value: 0.04510624650908464 and parameters: {'topK': 140, 'alpha': 0.18336369143406084, 'normalize_similarity': True, 'implicit': False}. Best is trial 10 with value: 0.05370249298547826.\n"
     ]
    }
   ],
   "source": [
    "if config['tune_parameters']:\n",
    "    \n",
    "    optuna_study = optuna.create_study(direction='maximize', study_name=f'hyperparameters_tuning_{config[\"model\"]}_{config[\"metric\"]}',\n",
    "                                storage=f'sqlite:///{config[\"database_path\"]}', load_if_exists=True)\n",
    "\n",
    "    optuna_study.optimize(objective_function_P3alpha, timeout=3600*7)"
   ]
  },
  {
   "cell_type": "markdown",
   "id": "58b5ac5a",
   "metadata": {
    "papermill": {
     "duration": 0.101811,
     "end_time": "2025-01-06T23:45:30.721536",
     "exception": false,
     "start_time": "2025-01-06T23:45:30.619725",
     "status": "completed"
    },
    "tags": []
   },
   "source": [
    "## Some optuna visualizations on recommender parameters"
   ]
  },
  {
   "cell_type": "code",
   "execution_count": 14,
   "id": "9dd1ab9e",
   "metadata": {
    "execution": {
     "iopub.execute_input": "2025-01-06T23:45:30.934675Z",
     "iopub.status.busy": "2025-01-06T23:45:30.934289Z",
     "iopub.status.idle": "2025-01-06T23:45:32.603406Z",
     "shell.execute_reply": "2025-01-06T23:45:32.602280Z"
    },
    "papermill": {
     "duration": 1.781551,
     "end_time": "2025-01-06T23:45:32.605236",
     "exception": false,
     "start_time": "2025-01-06T23:45:30.823685",
     "status": "completed"
    },
    "tags": []
   },
   "outputs": [
    {
     "data": {
      "text/html": [
       "<html>\n",
       "<head><meta charset=\"utf-8\" /></head>\n",
       "<body>\n",
       "    <div>            <script src=\"https://cdnjs.cloudflare.com/ajax/libs/mathjax/2.7.5/MathJax.js?config=TeX-AMS-MML_SVG\"></script><script type=\"text/javascript\">if (window.MathJax && window.MathJax.Hub && window.MathJax.Hub.Config) {window.MathJax.Hub.Config({SVG: {font: \"STIX-Web\"}});}</script>                <script type=\"text/javascript\">window.PlotlyConfig = {MathJaxConfig: 'local'};</script>\n",
       "        <script charset=\"utf-8\" src=\"https://cdn.plot.ly/plotly-2.35.2.min.js\"></script>                <div id=\"76500d7c-98f2-431f-a326-ee6e0b86780a\" class=\"plotly-graph-div\" style=\"height:525px; width:1200px;\"></div>            <script type=\"text/javascript\">                                    window.PLOTLYENV=window.PLOTLYENV || {};                                    if (document.getElementById(\"76500d7c-98f2-431f-a326-ee6e0b86780a\")) {                    Plotly.newPlot(                        \"76500d7c-98f2-431f-a326-ee6e0b86780a\",                        [{\"marker\":{\"color\":[0,1,2,3,4,5,6,7,8,9,10,11,12,13,14,15,16,17,18,19,20,21,22,23,24,25,26,27,28,29,30,31,32,33,34,35,36,37,38,39,40,41,42,43,44,45,46,47,48,49,50,51,52,53,54,55,56,57,58,59,60,61,62,63,64,65,66,67,68,69,70,71,72,73,74,75,76,77,78,79,80,81,82,83,84,85,86,87,88,89,90,91,92,93,94,95,96,97,98,99,100,101,102,103,104,105,106,107,108,109,110,111,112,113,114,115,116,117,118,119,120,121,122,123,124,125,126,127,128,129,130,131,132,133,134,135,136,137,138,139,140,141,142,143,144,145,146,147,148,149,150,151,152,153,154,155,156,157,158,159,160,161,162,163,164,165,166,167,168,169,170,171,172,173,174,175,176,177,178,179,180,181,182,183,184,185,186,187,188,189,190,191,192,193,194,195,196,197,198,199,200,201,202,203,204,205,206,207,208,209,210,211,212,213,214,215,216,217,218,219,220,221,222,223,224,225,226,227,228,229,230,231,232,233,234,235,236,237,238,239,240,241,242,243,244,245,246,247,248,249,250,251,252,253,254,255,256,257,258,259,260,261,262,263,264,265,266,267,268,269,270,271,272,273,274,275,276,277,278,279,280,281,282,283,284,285,286,287,288,289,290,291,292,293,294,295,296,297,298,299,300,301,302,303,304,305,306,307,308,309,310,311,312,313,314,315,316,317,318,319,320,321,322,323,324,325,326,327,328,329,330,331,332,333,334,335,336,337,338,339,340,341,342,343,344,345,346,347,348,349,350,351,352,353,354,355,356,357,358,359,360,361,362,363,364,365,366,367,368,369,370,371,372,373,374,375,376,377,378,379,380,381,382,383,384,385,386,387,388,389,390,391,392,393,394,395,396,397,398,399,400,401,402,403,404,405,406,407,408,409,410,411,412,413,414,415,416,417,418,419,420,421,422,423,424,425,426,427,428,429,430,431,432,433,434,435,436,437,438,439,440,441,442,443,444,445,446,447,448,449,450,451,452,453,454,455,456,457,458,459,460,461,462,463,464,465,466,467,468,469,470,471,472,473,474,475,476,477,478,479,480,481,482,483,484,485,486,487,488,489,490,491,492,493,494,495,496,497,498,499,500,501,502,503,504,505,506,507,508,509,510,511,512,513,514,515,516,517,518,519,520,521,522,523,524,525,526,527,528,529,530,531,532,533,534,535,536,537,538,539,540,541,542,543,544,545,546,547,548,549],\"colorbar\":{\"title\":{\"text\":\"Trial\"},\"x\":1.0,\"xpad\":40},\"colorscale\":[[0.0,\"rgb(247,251,255)\"],[0.125,\"rgb(222,235,247)\"],[0.25,\"rgb(198,219,239)\"],[0.375,\"rgb(158,202,225)\"],[0.5,\"rgb(107,174,214)\"],[0.625,\"rgb(66,146,198)\"],[0.75,\"rgb(33,113,181)\"],[0.875,\"rgb(8,81,156)\"],[1.0,\"rgb(8,48,107)\"]],\"line\":{\"color\":\"Grey\",\"width\":0.5},\"showscale\":true},\"mode\":\"markers\",\"name\":\"Feasible Trial\",\"showlegend\":false,\"x\":[1.9555722902370891,1.9451119902075962,1.7041603674865449,1.505154401702621,1.417404807113589,1.429887748017081,0.6423970179752319,1.357324393912698,1.5796611764403068,1.6573015763234014,0.259039498224813,0.009023169374170525,0.017299402340292758,0.05741669922250647,0.43291619988413355,0.3895368099707133,0.9236758405543553,0.2391747392107611,0.7722037747685639,1.1270782733213431,0.2985411909626277,0.0017162766615581183,0.14459969802008343,0.5599915376809156,0.5812080291300891,0.5102570969146578,0.22919558780975743,0.7668253532326018,0.33619034800127023,1.0633881794880087,0.6766890326896323,0.7039495572064933,0.8844159780371044,0.2131957245488712,0.47485156287817376,0.574233908892971,0.10992686396759538,1.2101192102741831,0.3784090900895734,1.9022453793230083,0.3660741625786829,0.6397588510717156,0.14701427855027074,0.4727310234549015,0.26510340366778407,0.7793874438330077,0.5467916658262164,0.33679676849763707,0.07978912869645305,0.9206078425164291,0.4076427685325944,0.7094347586149212,0.668182561752386,0.848680880583546,0.17504588313995484,0.9940586966767009,0.596323803099865,0.4155696012952391,0.7300889084614393,0.7026659998723025,1.2587097134982606,0.8226962402219791,0.4968729307331387,0.5021039955142267,0.7208562371905738,0.4893319886324915,0.49464939326422325,0.2865429878389075,0.6381872933570667,0.030385557205286684,0.6095385251915566,0.5313224598605867,0.4647212342347552,0.6560616524933051,0.650752516464808,0.31763081121375114,0.21126695358820613,0.4267861093987477,0.5459638645694592,0.8001884544805936,0.09578152435076426,1.0010919088318104,0.7950044110954735,0.6528845026555389,0.8686452399747855,0.5219055435571492,0.5950609222707803,0.7584562694479525,0.45561107720649413,0.3787727339565327,0.25881816157705617,0.7691591857526583,0.6778059048614092,0.6749715864565274,0.6180208184965519,0.7414105503298687,0.5553121477748694,0.9199117843582898,0.5039640716484797,0.6704274210455656,0.19357071407470383,0.8235823673862037,0.8299408357816291,0.7038677874082406,0.5772227777273413,0.9627241371928188,0.742368111052462,0.8961852086316883,0.6338913908159787,0.8460819589168291,0.1586491656004776,0.8225077290647852,0.7618321041561548,0.6583349373649502,0.6789599869812522,1.0775051301164722,0.3543262304602782,0.43423386096461297,0.602547150467961,1.7286336439736891,0.4851087227011725,0.7069993242156728,0.8142271556988062,0.644933766546533,0.04504424348085013,0.5642599143266227,0.5220220431518023,0.5293533995293002,0.30698068395560196,0.49877319348182425,0.40311038526825405,0.4083906234953192,0.4700130398125544,0.5764571058788258,0.4332367982573321,0.37960263756498636,0.3726199860245315,0.28642614087400553,0.5372572418525191,0.2414509904925934,0.13051411228117996,0.21892288364838153,0.18408104329372876,0.3298703606035894,0.24272445566827786,0.2254262440401089,0.3577549363475985,0.26254144173877386,0.11172958775022032,0.3949603199965616,0.6194822005755359,0.0763699851597649,0.05124875194521569,0.05633771745197805,0.08011178552421945,0.014400856065544018,0.1282190724068411,0.00780784404479734,0.1872162133647409,0.3184364984395813,0.684602477163826,0.7293135140343755,0.6528933866301747,0.719504196981361,0.4531970682327979,0.5838316183764864,0.6292679285876068,0.2727122675345214,0.15605597925873946,0.22738529911600316,0.15462086590885787,0.6754142551196689,0.08051724095874796,0.10356321239964451,0.7851582643799528,0.17249124557091433,0.5409981518276129,0.7469505168265322,0.21952898847522254,0.411915602914322,0.6033163772172552,0.6493811217171951,0.730725279178008,0.6535974702092937,0.691235358346056,0.5190039419469052,0.6396689405479431,0.4706785708738227,0.5923027782159911,0.14605065182844562,1.991282266522873,0.750689965843235,0.7191887505908455,0.6951791764753091,0.6499203045289901,0.55883632567692,0.7826164143706671,1.4078367965295273,0.7114321432755171,0.33515171454889386,1.5335079283085307e-06,0.7243938595668475,0.6646007887478794,0.6259315858021324,0.6864345356931131,0.2974544010107464,0.6035303526255554,0.6519600925434839,0.5022846351434787,0.5660578921196558,0.6479388777849419,0.6785283907693364,0.6129007711260249,0.6713430289833643,0.25396226040908904,0.23901463692069994,0.1899513283700905,0.2853637863575599,0.3581055898861555,0.05908681944138008,0.1087472039846413,0.6592893321370048,0.24290548115696284,0.20267863088948618,0.24968308020485022,0.20123006253876735,0.17136075168902892,0.255312654825196,0.4005707845063343,0.32402761881440634,0.21634974720973704,0.26373652352777166,0.37772391875796874,0.4472959895878147,0.2916765845546186,0.2782359611409385,0.4068369358682918,0.4064092884954983,0.38359123041301385,0.39584372010119573,0.43717159227516905,0.4546445506639781,0.3478487004908362,0.40421419625181715,0.4857190399469833,0.44441513783810827,0.35687267440624304,0.3135275919343732,0.4283224438564439,0.3777147306316379,0.5062029226816227,0.24007301266396938,0.24256913110221529,0.2655753437080081,0.21897694593597253,0.33432834030229686,0.19247862856267825,0.31094151925191293,0.30596343829496886,0.2793742051156507,0.3781357190110007,0.31649797307755767,0.2413269725943298,0.15649398630917216,0.34524926005928525,0.4251504272426689,0.41961256823177634,0.39444137310042565,0.4466628215308672,0.26533692245492035,0.2082525971956478,0.3465167747512839,0.2982543781895113,0.3776585308151857,1.5973131070456343,0.22431794145994055,0.4245193088379381,0.48007663942022205,0.32319605314516087,0.15257564403824003,0.26580693018896945,0.27282641840408856,0.36438430506535036,0.28264224391235176,1.2296896840771774,0.4197213668233392,0.3281389350595773,0.4592741476239715,0.4724543880905522,0.5088462103743839,0.47005982281520753,1.8320596842865247,0.529177890111326,0.46509752904679036,0.38725762546155135,0.5472994669367118,0.5132384351564557,0.49916300323837914,0.5469386340835891,0.4402413432908254,0.5646845287192743,0.4772546168254802,0.5470330110067754,0.5910645400179868,0.46368789870744526,0.40673929650710816,0.14170995055440871,0.18983451516197627,0.4576943880670317,0.5283405782135544,0.3927643659317568,0.25361308636879887,0.35665642713004386,0.49637695581408986,0.4186431014877718,0.5853693877893372,0.2881961031027166,0.22672596444379178,0.44331273212722155,0.5042563497886698,0.4389785933530354,0.4534855302108318,0.42584318019180106,0.45856833036455635,0.37569267272256596,0.5334343185541583,0.5489613947103209,0.5059830887168739,0.47790499773834777,0.42416858902705806,0.5263724791167886,0.3850942954558019,0.47774616364876354,0.5742145996324565,0.43249513214670704,0.3440258204871688,0.3599589224638134,1.1601414781832446,0.31317637616714905,0.3592455708529556,0.38865065063361653,0.32471943230133676,0.3374647657304024,0.28021218877396836,0.6076713941769429,0.5395374501972943,0.41607250514445776,0.49743005123784934,0.39369305197768356,0.18074810591386858,0.2915180707607743,0.3414566595896635,0.5423311832874356,0.4683477989453775,0.2601092922043458,0.4032818723185997,0.35486707659250044,0.38893965763833094,0.3928098685774739,0.3223521736976948,0.378046942843158,0.41561017098051894,0.31411889165566836,0.2208672205002095,0.35827394018813286,0.3616440644953478,0.28560449372401453,0.3499364352399933,0.359574851056809,0.30966025944299075,0.38998581916658,0.2562741311070808,0.33535045091029636,0.2905303546987889,0.9617640353695214,0.1293315558607037,0.37951056450383974,0.19491022563939542,1.2988593571942095,1.0611913364042045,0.34821212060519724,0.4019302723242262,0.2587616797746707,0.4206944455929249,0.30798435188329276,0.16728998666177286,0.2266497296998266,0.34226934445318347,0.3744621535096698,0.4173243771137701,0.4467648828590439,0.2740995778919141,0.3997048536625302,0.2183528844299757,0.3251349327716018,0.37442491853425486,0.47465443865563817,1.463295895691413,0.29244730524160234,0.42967651163182174,0.25212521116389414,0.3711810777421322,0.17570016856876244,0.31072851594665984,0.49260066282374115,0.4502718344214988,0.5752587784492469,0.395181857114714,0.11892577233308266,0.42389899209481663,0.5089249048451545,0.4936194458842714,0.5251954390275875,0.5382248170227418,0.5222628340692116,0.5621843211776107,0.4737392593830484,0.4884996588771578,0.5110176686171496,0.5915328926613894,0.44345543054218783,0.5242419452538631,0.46161544282684563,0.220655505406154,0.40018190368334194,0.5685214049321471,0.18103863869009068,0.5124765869690351,0.45842669266460784,0.37979412747060143,0.38012706509546434,0.26124060856470405,0.3099043592539802,0.3706558713933226,0.33912516279110083,0.6151911699133924,0.21126044588703025,0.41778772059782526,0.30779831672553776,0.14891757194930638,0.24541444885913863,0.3911326801862697,0.28237216099949375,0.3532195739058696,0.10139974197041582,0.4187563457650106,0.5694096277322901,0.5337939123925559,0.4827501744728803,0.3806578556434539,0.20233414401634756,0.2739604703816118,0.3372108190988191,0.8648952671089667,0.44307668220856666,0.4015065643420961,0.49065996251354094,0.5445864705311206,0.546251220968084,0.5688486445543975,0.617262096096329,0.6095820647361629,0.5831037804683844,0.5747602154195747,0.6319000821891422,0.5318771758589255,0.5452665285715425,0.5105283045999465,0.5855037538440664,0.534261840467882,0.6130228049316034,0.4968267224984268,0.5623441428317282,0.15098918717451001,0.23559798263708837,0.4939798202232043,0.19691014749278274,0.5566198135301372,0.46573495720853186,0.5233755270752316,0.23704029682645666,0.28313861895191794,0.5855692163859705,0.46666526028997457,0.17139043737274473,0.5113590019013392,0.6344332458774624,0.3106586506591507,0.5481390233108768,0.4488496282515151,0.2321723745860878,0.27739872041820646,0.4436140502198942,0.44060926912185444,0.42168961597220395,0.33283383703818936,0.12731963682978803,1.6948078582675987,0.47131103827874377,0.35648098729793865,0.43037146787929187,0.2765870481880731,0.19549192170610377,0.19023701418523042,0.14754752238586777,0.19731963383981518,0.11613224445929254,0.25075299031565007,0.07779472482770286,0.20601844070638023,0.16593388715639823,1.8828044345061357,0.24065424871940003,0.3100677459673989,0.3522236547673663,0.3165308026152184,0.3407444031839244,0.28409704832221483,0.3844321964106261,0.3564008674637297,0.2630941532342521,0.38866910492576495,0.3373880723998864,0.2220978611177834,0.2997471159862314,0.2985057669665975,0.2602394249561873,0.3068027684763905,0.3477644236717488,0.2431201917458803,0.3288775399776981,0.2834596320952038,0.3986354486940008,0.1959882697937612,0.3576958393105565,0.3079639895296718,0.23764904073259957,0.15641524166478055,0.40873675519064934,0.36899670134569673,0.267509430686707,0.21192404876278215,0.30896622386721495,0.3647813326137363,1.5341110720525144,0.4285519102005176,1.3706662789400421,0.3305113059417045,0.3995109809168195,0.18336369143406084],\"y\":[0.03324698331399583,0.026332902930887934,0.030469137563298575,0.03444987576203394,0.04814619271239208,0.038066821299608235,0.03313890578532456,0.035480558776875615,0.03795740934127874,0.031156855638856097,0.05370249298547826,0.053043338860751556,0.049358568615201014,0.04046620173964342,0.04135830475866652,0.03482896954916652,0.04154041337618398,0.03462141000783664,0.046612718601797054,0.037526935207238,0.043719300306238565,0.045391643727781025,0.03855362113289444,0.05005819010027681,0.039473372363462364,0.03480637042849982,0.03369956604439408,0.0399559022002486,0.045554766209695396,0.0377710062570645,0.05345532201680157,0.049179364245239526,0.045038814489735374,0.042924297756840736,0.04001730686109394,0.040681947973510366,0.03255432649509493,0.039981091096421034,0.0503522003189274,0.03981101195489917,0.032811783069301007,0.049862294786565405,0.04851576479166418,0.02024138376707917,0.04170481583937038,0.04767053965435942,0.04313826063367159,0.03283938541515903,0.03278310247782083,0.037876718506305,0.040726692725909806,0.050762033934032155,0.04610049465209755,0.035598704019295734,0.044183615546848895,0.04990649894396905,0.04210634543158245,0.047338175501152914,0.05084595784289079,0.03654701218043085,0.042371475724924626,0.048460256440363954,0.052472475068935306,0.052887525248913415,0.04626885698320693,0.05317992334355266,0.04275097241274065,0.034748374854042384,0.052153755408722705,0.03966879729859924,0.03456739709318828,0.04381019379874547,0.04726398158402837,0.05265843147113376,0.05331823873229896,0.045087667532495476,0.020770348777273694,0.047398026686143964,0.0389465853039739,0.05219137903797115,0.04709926993082188,0.0508971605112515,0.05151212750052316,0.048758814503789674,0.04242500361269015,0.04710632376294343,0.03531964393831496,0.052457237175554304,0.045799822985578484,0.033738054775223146,0.0488217757697453,0.051946099320358693,0.05278336944453671,0.04705396776723112,0.049838598061873234,0.043675457175516186,0.04587686254833845,0.04662172783159644,0.05218017043087157,0.0494985524929483,0.04088362422565477,0.05221018954207535,0.05253647896025815,0.04302974775721296,0.04816109208279552,0.04896643161435016,0.045115575584085396,0.04286887657038844,0.04155131211473144,0.049748990510831904,0.03438504613986426,0.0528663253282279,0.04815928395451181,0.053184673529307856,0.051916487103832246,0.043299638979650404,0.04754727094759563,0.05076538637504058,0.04623849148207724,0.047417452844366215,0.02022282504685614,0.05026288773688968,0.048146784203736005,0.033965166850007285,0.051114131635104296,0.036454444441654986,0.05341465722787142,0.03552890563535609,0.03666385268601502,0.04671620191668675,0.053604758640113416,0.037257922932716854,0.05125645218515289,0.04907912984206813,0.052227000936113085,0.05341870658574962,0.04766486170283768,0.03341205827496927,0.050080152181557966,0.05328353864373002,0.0002664826418719655,0.05353499815479453,0.05007783008052824,0.020625866865305254,0.0368139763138582,0.04765859233065183,0.04512944980534381,0.05184343676719398,0.048504895493151595,0.0331849856244731,0.04121725363851465,0.05282848818748159,0.05191767159807118,0.05251727378020658,0.048936109878433595,0.044208576613926395,0.0471758536609599,0.04945865583313777,0.05238245591016597,0.046327703480299236,0.04987587977943793,0.052723232440028765,0.052742427144316886,0.0002664826418719655,0.04871490000398578,0.05215845464194435,0.05080581134781799,0.04797725966127435,0.05328432894531375,0.03825159292314441,0.04913631963637322,0.03644820818813297,0.05232801211309551,0.05058215622683474,0.0002664826418719655,0.05255776313824743,0.04746732427685902,0.04890617255157278,0.052448670670091325,0.04694639389465257,0.04371043937336743,0.053138127327039986,0.052718246880571085,0.01961097420207157,0.04893820996096516,0.05254108530861705,0.0002664826418719655,0.05021489654233825,0.04738824552417005,0.050559405869964304,0.04223967199505846,0.052636546251000324,0.05274947957147995,0.0002664826418719655,0.051100629641741335,0.04984303897361041,0.05224156680194235,0.04476627402902931,0.04556134751061881,0.0512478898108774,0.05254800497278619,0.052570520624497505,0.05309453242412906,0.05005515614018681,0.049260964973266985,0.04913904231473435,0.050933518728898494,0.052940203076757786,0.0002664826418719655,0.04743906713380423,0.0447716937735021,0.05278340209256904,0.05218999514565716,0.048792968009973195,0.053301229217860034,0.05051208651483021,0.049730293864476915,0.05247715393762241,0.04795038885116478,0.04968247262213467,0.05213521401905165,0.01958306821780261,0.05294787340695032,0.052965634437134465,0.03750764346191856,0.050354025210916684,0.048068647868180395,0.050820098983822684,0.053192171650747425,0.0002664826418719655,0.04889540237577561,0.05298924866125896,0.052676630927969856,0.0002664826418719655,0.05146360592161434,0.05087833720645489,0.05328716987791245,0.049349621094694415,0.05341014175498473,0.05072096751384281,0.05319565120216119,0.020298223986877865,0.0528349634064809,0.03643449682323522,0.052779333619889755,0.04949095586367009,0.051312590526507496,0.0002664826418719655,0.04782487103874401,0.05267665454289437,0.05012491176372837,0.05307640278752486,0.030592871249155235,0.0002664826418719655,0.033483224130800245,0.04853853410290045,0.05057667619140397,0.052905302300901694,0.04662810288686135,0.052785807574896905,0.05072517009082791,0.05302427246524616,0.048255091838980024,0.05000258676611448,0.02063139597007708,0.05298316341498076,0.04908773048570615,0.05153131274652325,0.04718594425190997,0.02071495386353738,0.03667497071865735,0.049805236911150165,0.05278226546063021,0.0002664826418719655,0.0453107318146697,0.04738244317335088,0.05120312631972691,0.0523194585871497,0.033321802671932056,0.048360619857158,0.05330605795609156,0.053421441611220755,0.05011568507579704,0.0002664826418719655,0.043880011341689215,0.051015829896634536,0.048569456424178106,0.053181993383246626,0.05342114833437674,0.0370023087688049,0.0393580630137986,0.044417733669923416,0.04928352260680933,0.0002664826418719655,0.05159836205404498,0.053226070133459424,0.033593167746711707,0.04694705511051811,0.04918009342818756,0.0002664826418719655,0.050757086473957644,0.05291267410433097,0.04832338315082683,0.052800107254639274,0.05075063002723542,0.039958579053552365,0.044211670008936534,0.03513044170799907,0.03725711421479812,0.04458412125692145,0.0002664826418719655,0.050134267717387215,0.048198007479569954,0.05297733588587722,0.0513419833324078,0.046630610816760384,0.04995732258019859,0.03250135757746272,0.05309608844642524,0.0002664826418719655,0.053115138222547195,0.0485426891786735,0.03506109496076011,0.05247405672320217,0.05042900647211144,0.053219681790958706,0.049023859745606115,0.050840845206065036,0.0002664826418719655,0.047042243192549224,0.04400429633060646,0.051190866564585116,0.04580131881466834,0.04858292285739425,0.0002664826418719655,0.053184442633366635,0.050110715185494537,0.050371721440861085,0.0002664826418719655,0.047785446943191236,0.05103717718579069,0.049340733488470664,0.05305947173860868,0.05130618774841469,0.047435263946884174,0.02007441160344,0.04979230513355574,0.05307405198996862,0.0002664826418719655,0.05060841958123731,0.02927803985843553,0.04864349977774612,0.05274203023088357,0.04625072463247637,0.05116258183145974,0.053191736145366916,0.049389023399662016,0.053205501229680076,0.05051442608080654,0.04807129692627238,0.0002664826418719655,0.05277851026735767,0.05084965648001623,0.04683345588968544,0.05318343057050301,0.05330300093871647,0.048958902826168625,0.053080103299979677,0.03730927269301402,0.05051600632698126,0.03898604659114761,0.03548578176395485,0.05129950212254072,0.020754137387667994,0.044375912809123966,0.048967001968867885,0.05310487636169009,0.050771625253807254,0.0002664826418719655,0.04533291152708037,0.0526433046575437,0.049201143504004806,0.0002664826418719655,0.051016059651910785,0.05260750852969994,0.04811840246061358,0.05281346840798169,0.0502311954002998,0.053290539549150515,0.04739740245097478,0.05063721353675554,0.04395810848482335,0.030199508301712075,0.05313094859470495,0.049210747519225856,0.038262328053049924,0.020247560709111764,0.04682259831335464,0.04772214187686012,0.03774681121102223,0.052847758354719186,0.05019948065635708,0.05288581883174122,0.0002664826418719655,0.0465691328902873,0.04917604364989033,0.051141739488587155,0.05329199322311109,0.033845634725264896,0.04859997697479275,0.05325260276122264,0.045563484912983905,0.053231092174650455,0.02006929883263382,0.0002664826418719655,0.05051310528810095,0.04753179272913118,0.04946487540011091,0.05163285768657535,0.034852829366112226,0.03555118091919194,0.0521564103981937,0.0002664826418719655,0.04915038377642298,0.05340830084328356,0.033977001067100956,0.05093514492684801,0.04845475803253587,0.0002664826418719655,0.053198648233263736,0.03936238094782014,0.04680131825691733,0.05271034373074329,0.04926216927731234,0.05272854410424118,0.03640940162214149,0.02076949636764042,0.050486416511203426,0.04771072055869466,0.052565096218566455,0.05040589217819526,0.046031040729327774,0.05315179229717726,0.04889570091477457,0.0002664826418719655,0.05102110147661072,0.03424886353482064,0.053031892438765695,0.03979647859217959,0.050723867415145577,0.020811376657922116,0.052548596230326,0.049785967019947704,0.05215388112343311,0.04075452147246874,0.04727935552667801,0.04970689733952483,0.05339153051684285,0.050855057924920344,0.05334709034475429,0.019798829303457374,0.0493924967412415,0.04792883764345963,0.051210761436634666,0.0002664826418719655,0.044765393494891094,0.05153598122737548,0.04624245680660055,0.0383864313606888,0.0002664826418719655,0.04889854617495644,0.05275104218872275,0.05090922854524691,0.052951655775261564,0.0002664826418719655,0.039721255985363024,0.0477857850099169,0.05071024430475531,0.05303276958006624,0.04981366852717408,0.04699002889969203,0.0002664826418719655,0.05187916493510677,0.04901993806948928,0.05265434958527578,0.050465805783102134,0.03725654593118531,0.0527948561914086,0.04144838879166414,0.0002664826418719655,0.04615243674253673,0.050976040604934304,0.05346393778526174,0.05070152354254045,0.052999013632758996,0.0002664826418719655,0.04747779076810771,0.044506621608061764,0.05277860917145566,0.04750489131383462,0.05119848219107702,0.04899959934305564,0.05361747549495834,0.05306862921131865,0.021020863460596513,0.0002664826418719655,0.03371215439975779,0.04873141870897872,0.05037743366598245,0.05276683179818996,0.04717339179653983,0.040901281267907215,0.052833811203558734,0.05004933377092593,0.053291976923241446,0.0002664826418719655,0.050831462439586396,0.04664793171890249,0.04886319138789361,0.052733424240238615,0.03411405493105184,0.05065449654899908,0.04328351937572048,0.0344558206985437,0.05327465792370911,0.0002664826418719655,0.03579440699297698,0.051083072672213646,0.0002664826418719655,0.05105935326394827,0.033956086426831004,0.04887889203956956,0.05298346154200061,0.04626808768330708,0.0002664826418719655,0.05085067781990482,0.05283285937492006,0.04770473414744578,0.05023930463698891,0.05309551099246711,0.05286009541605554,0.04925292810577507,0.0002664826418719655,0.04734105278637962,0.046217656431506625,0.05298899704178896,0.0002664826418719655,0.049162547479723075,0.04001399237777069,0.04510624650908464],\"type\":\"scatter\",\"xaxis\":\"x\",\"yaxis\":\"y\"},{\"marker\":{\"color\":[0,1,2,3,4,5,6,7,8,9,10,11,12,13,14,15,16,17,18,19,20,21,22,23,24,25,26,27,28,29,30,31,32,33,34,35,36,37,38,39,40,41,42,43,44,45,46,47,48,49,50,51,52,53,54,55,56,57,58,59,60,61,62,63,64,65,66,67,68,69,70,71,72,73,74,75,76,77,78,79,80,81,82,83,84,85,86,87,88,89,90,91,92,93,94,95,96,97,98,99,100,101,102,103,104,105,106,107,108,109,110,111,112,113,114,115,116,117,118,119,120,121,122,123,124,125,126,127,128,129,130,131,132,133,134,135,136,137,138,139,140,141,142,143,144,145,146,147,148,149,150,151,152,153,154,155,156,157,158,159,160,161,162,163,164,165,166,167,168,169,170,171,172,173,174,175,176,177,178,179,180,181,182,183,184,185,186,187,188,189,190,191,192,193,194,195,196,197,198,199,200,201,202,203,204,205,206,207,208,209,210,211,212,213,214,215,216,217,218,219,220,221,222,223,224,225,226,227,228,229,230,231,232,233,234,235,236,237,238,239,240,241,242,243,244,245,246,247,248,249,250,251,252,253,254,255,256,257,258,259,260,261,262,263,264,265,266,267,268,269,270,271,272,273,274,275,276,277,278,279,280,281,282,283,284,285,286,287,288,289,290,291,292,293,294,295,296,297,298,299,300,301,302,303,304,305,306,307,308,309,310,311,312,313,314,315,316,317,318,319,320,321,322,323,324,325,326,327,328,329,330,331,332,333,334,335,336,337,338,339,340,341,342,343,344,345,346,347,348,349,350,351,352,353,354,355,356,357,358,359,360,361,362,363,364,365,366,367,368,369,370,371,372,373,374,375,376,377,378,379,380,381,382,383,384,385,386,387,388,389,390,391,392,393,394,395,396,397,398,399,400,401,402,403,404,405,406,407,408,409,410,411,412,413,414,415,416,417,418,419,420,421,422,423,424,425,426,427,428,429,430,431,432,433,434,435,436,437,438,439,440,441,442,443,444,445,446,447,448,449,450,451,452,453,454,455,456,457,458,459,460,461,462,463,464,465,466,467,468,469,470,471,472,473,474,475,476,477,478,479,480,481,482,483,484,485,486,487,488,489,490,491,492,493,494,495,496,497,498,499,500,501,502,503,504,505,506,507,508,509,510,511,512,513,514,515,516,517,518,519,520,521,522,523,524,525,526,527,528,529,530,531,532,533,534,535,536,537,538,539,540,541,542,543,544,545,546,547,548,549],\"colorbar\":{\"title\":{\"text\":\"Trial\"},\"x\":1.0,\"xpad\":40},\"colorscale\":[[0.0,\"rgb(247,251,255)\"],[0.125,\"rgb(222,235,247)\"],[0.25,\"rgb(198,219,239)\"],[0.375,\"rgb(158,202,225)\"],[0.5,\"rgb(107,174,214)\"],[0.625,\"rgb(66,146,198)\"],[0.75,\"rgb(33,113,181)\"],[0.875,\"rgb(8,81,156)\"],[1.0,\"rgb(8,48,107)\"]],\"line\":{\"color\":\"Grey\",\"width\":0.5},\"showscale\":false},\"mode\":\"markers\",\"name\":\"Feasible Trial\",\"showlegend\":false,\"x\":[false,true,true,true,false,true,true,false,false,true,false,false,false,false,false,false,false,false,false,false,false,false,false,false,false,false,false,false,false,false,false,false,false,false,true,false,true,false,true,true,true,true,true,true,true,false,true,false,false,false,true,true,true,true,true,false,true,false,false,false,true,false,false,false,false,false,false,false,false,false,false,false,false,false,false,false,false,false,false,false,false,false,false,false,false,false,false,false,false,false,false,false,false,false,false,false,false,false,false,false,false,false,false,false,false,false,false,false,false,false,false,false,false,false,false,false,false,false,false,false,false,false,false,false,false,false,false,false,false,false,false,false,false,false,false,false,false,false,false,false,false,false,false,false,false,false,false,false,false,false,false,false,false,false,false,false,false,false,false,false,false,false,false,false,false,false,false,false,false,false,false,false,false,false,false,false,false,false,false,true,false,false,false,false,false,false,false,false,false,false,false,false,false,false,false,false,false,false,false,false,false,false,false,false,false,false,false,false,false,false,false,false,false,false,false,false,true,false,false,false,false,false,false,false,false,false,false,false,false,false,false,false,false,false,false,false,false,false,false,false,false,false,false,false,false,false,false,false,false,true,false,false,false,false,false,false,false,false,false,false,false,false,false,false,false,false,false,false,true,false,false,false,false,false,false,false,false,false,false,false,false,false,false,false,false,false,false,false,false,true,false,false,false,false,false,false,false,false,false,false,false,false,false,false,false,false,false,false,true,false,false,false,false,false,false,false,false,false,false,false,false,false,false,false,false,false,false,false,false,true,false,false,false,false,false,false,false,false,false,false,false,false,false,false,false,false,false,false,false,true,false,false,false,false,false,false,false,false,false,false,false,false,false,false,false,false,false,false,false,true,false,false,false,false,false,false,false,false,false,false,false,false,false,false,false,false,false,false,true,true,true,true,true,true,true,true,true,false,false,false,false,false,false,true,false,false,false,false,false,false,false,false,false,false,false,false,false,true,false,false,false,false,false,false,false,false,false,false,false,false,true,false,false,false,false,false,false,false,false,false,false,false,true,false,false,false,false,false,false,false,false,false,false,true,false,false,false,false,false,false,false,false,false,false,false,true,false,false,false,false,false,false,false,false,false,false,true,false,false,false,false,false,false,false,false,false,false,true,false,false,false,false,false,false,false,false,false,false,false,true,false,false,false,false,false,false,false,false,false,false,false,true,false,false,false,false,false,false,false,false,false,false,true,false,false,false,false,false,false,false,false,false,false,false,true,false,false,false,false,false,false,false,false,false,false,true,false,false,false,false],\"y\":[0.03324698331399583,0.026332902930887934,0.030469137563298575,0.03444987576203394,0.04814619271239208,0.038066821299608235,0.03313890578532456,0.035480558776875615,0.03795740934127874,0.031156855638856097,0.05370249298547826,0.053043338860751556,0.049358568615201014,0.04046620173964342,0.04135830475866652,0.03482896954916652,0.04154041337618398,0.03462141000783664,0.046612718601797054,0.037526935207238,0.043719300306238565,0.045391643727781025,0.03855362113289444,0.05005819010027681,0.039473372363462364,0.03480637042849982,0.03369956604439408,0.0399559022002486,0.045554766209695396,0.0377710062570645,0.05345532201680157,0.049179364245239526,0.045038814489735374,0.042924297756840736,0.04001730686109394,0.040681947973510366,0.03255432649509493,0.039981091096421034,0.0503522003189274,0.03981101195489917,0.032811783069301007,0.049862294786565405,0.04851576479166418,0.02024138376707917,0.04170481583937038,0.04767053965435942,0.04313826063367159,0.03283938541515903,0.03278310247782083,0.037876718506305,0.040726692725909806,0.050762033934032155,0.04610049465209755,0.035598704019295734,0.044183615546848895,0.04990649894396905,0.04210634543158245,0.047338175501152914,0.05084595784289079,0.03654701218043085,0.042371475724924626,0.048460256440363954,0.052472475068935306,0.052887525248913415,0.04626885698320693,0.05317992334355266,0.04275097241274065,0.034748374854042384,0.052153755408722705,0.03966879729859924,0.03456739709318828,0.04381019379874547,0.04726398158402837,0.05265843147113376,0.05331823873229896,0.045087667532495476,0.020770348777273694,0.047398026686143964,0.0389465853039739,0.05219137903797115,0.04709926993082188,0.0508971605112515,0.05151212750052316,0.048758814503789674,0.04242500361269015,0.04710632376294343,0.03531964393831496,0.052457237175554304,0.045799822985578484,0.033738054775223146,0.0488217757697453,0.051946099320358693,0.05278336944453671,0.04705396776723112,0.049838598061873234,0.043675457175516186,0.04587686254833845,0.04662172783159644,0.05218017043087157,0.0494985524929483,0.04088362422565477,0.05221018954207535,0.05253647896025815,0.04302974775721296,0.04816109208279552,0.04896643161435016,0.045115575584085396,0.04286887657038844,0.04155131211473144,0.049748990510831904,0.03438504613986426,0.0528663253282279,0.04815928395451181,0.053184673529307856,0.051916487103832246,0.043299638979650404,0.04754727094759563,0.05076538637504058,0.04623849148207724,0.047417452844366215,0.02022282504685614,0.05026288773688968,0.048146784203736005,0.033965166850007285,0.051114131635104296,0.036454444441654986,0.05341465722787142,0.03552890563535609,0.03666385268601502,0.04671620191668675,0.053604758640113416,0.037257922932716854,0.05125645218515289,0.04907912984206813,0.052227000936113085,0.05341870658574962,0.04766486170283768,0.03341205827496927,0.050080152181557966,0.05328353864373002,0.0002664826418719655,0.05353499815479453,0.05007783008052824,0.020625866865305254,0.0368139763138582,0.04765859233065183,0.04512944980534381,0.05184343676719398,0.048504895493151595,0.0331849856244731,0.04121725363851465,0.05282848818748159,0.05191767159807118,0.05251727378020658,0.048936109878433595,0.044208576613926395,0.0471758536609599,0.04945865583313777,0.05238245591016597,0.046327703480299236,0.04987587977943793,0.052723232440028765,0.052742427144316886,0.0002664826418719655,0.04871490000398578,0.05215845464194435,0.05080581134781799,0.04797725966127435,0.05328432894531375,0.03825159292314441,0.04913631963637322,0.03644820818813297,0.05232801211309551,0.05058215622683474,0.0002664826418719655,0.05255776313824743,0.04746732427685902,0.04890617255157278,0.052448670670091325,0.04694639389465257,0.04371043937336743,0.053138127327039986,0.052718246880571085,0.01961097420207157,0.04893820996096516,0.05254108530861705,0.0002664826418719655,0.05021489654233825,0.04738824552417005,0.050559405869964304,0.04223967199505846,0.052636546251000324,0.05274947957147995,0.0002664826418719655,0.051100629641741335,0.04984303897361041,0.05224156680194235,0.04476627402902931,0.04556134751061881,0.0512478898108774,0.05254800497278619,0.052570520624497505,0.05309453242412906,0.05005515614018681,0.049260964973266985,0.04913904231473435,0.050933518728898494,0.052940203076757786,0.0002664826418719655,0.04743906713380423,0.0447716937735021,0.05278340209256904,0.05218999514565716,0.048792968009973195,0.053301229217860034,0.05051208651483021,0.049730293864476915,0.05247715393762241,0.04795038885116478,0.04968247262213467,0.05213521401905165,0.01958306821780261,0.05294787340695032,0.052965634437134465,0.03750764346191856,0.050354025210916684,0.048068647868180395,0.050820098983822684,0.053192171650747425,0.0002664826418719655,0.04889540237577561,0.05298924866125896,0.052676630927969856,0.0002664826418719655,0.05146360592161434,0.05087833720645489,0.05328716987791245,0.049349621094694415,0.05341014175498473,0.05072096751384281,0.05319565120216119,0.020298223986877865,0.0528349634064809,0.03643449682323522,0.052779333619889755,0.04949095586367009,0.051312590526507496,0.0002664826418719655,0.04782487103874401,0.05267665454289437,0.05012491176372837,0.05307640278752486,0.030592871249155235,0.0002664826418719655,0.033483224130800245,0.04853853410290045,0.05057667619140397,0.052905302300901694,0.04662810288686135,0.052785807574896905,0.05072517009082791,0.05302427246524616,0.048255091838980024,0.05000258676611448,0.02063139597007708,0.05298316341498076,0.04908773048570615,0.05153131274652325,0.04718594425190997,0.02071495386353738,0.03667497071865735,0.049805236911150165,0.05278226546063021,0.0002664826418719655,0.0453107318146697,0.04738244317335088,0.05120312631972691,0.0523194585871497,0.033321802671932056,0.048360619857158,0.05330605795609156,0.053421441611220755,0.05011568507579704,0.0002664826418719655,0.043880011341689215,0.051015829896634536,0.048569456424178106,0.053181993383246626,0.05342114833437674,0.0370023087688049,0.0393580630137986,0.044417733669923416,0.04928352260680933,0.0002664826418719655,0.05159836205404498,0.053226070133459424,0.033593167746711707,0.04694705511051811,0.04918009342818756,0.0002664826418719655,0.050757086473957644,0.05291267410433097,0.04832338315082683,0.052800107254639274,0.05075063002723542,0.039958579053552365,0.044211670008936534,0.03513044170799907,0.03725711421479812,0.04458412125692145,0.0002664826418719655,0.050134267717387215,0.048198007479569954,0.05297733588587722,0.0513419833324078,0.046630610816760384,0.04995732258019859,0.03250135757746272,0.05309608844642524,0.0002664826418719655,0.053115138222547195,0.0485426891786735,0.03506109496076011,0.05247405672320217,0.05042900647211144,0.053219681790958706,0.049023859745606115,0.050840845206065036,0.0002664826418719655,0.047042243192549224,0.04400429633060646,0.051190866564585116,0.04580131881466834,0.04858292285739425,0.0002664826418719655,0.053184442633366635,0.050110715185494537,0.050371721440861085,0.0002664826418719655,0.047785446943191236,0.05103717718579069,0.049340733488470664,0.05305947173860868,0.05130618774841469,0.047435263946884174,0.02007441160344,0.04979230513355574,0.05307405198996862,0.0002664826418719655,0.05060841958123731,0.02927803985843553,0.04864349977774612,0.05274203023088357,0.04625072463247637,0.05116258183145974,0.053191736145366916,0.049389023399662016,0.053205501229680076,0.05051442608080654,0.04807129692627238,0.0002664826418719655,0.05277851026735767,0.05084965648001623,0.04683345588968544,0.05318343057050301,0.05330300093871647,0.048958902826168625,0.053080103299979677,0.03730927269301402,0.05051600632698126,0.03898604659114761,0.03548578176395485,0.05129950212254072,0.020754137387667994,0.044375912809123966,0.048967001968867885,0.05310487636169009,0.050771625253807254,0.0002664826418719655,0.04533291152708037,0.0526433046575437,0.049201143504004806,0.0002664826418719655,0.051016059651910785,0.05260750852969994,0.04811840246061358,0.05281346840798169,0.0502311954002998,0.053290539549150515,0.04739740245097478,0.05063721353675554,0.04395810848482335,0.030199508301712075,0.05313094859470495,0.049210747519225856,0.038262328053049924,0.020247560709111764,0.04682259831335464,0.04772214187686012,0.03774681121102223,0.052847758354719186,0.05019948065635708,0.05288581883174122,0.0002664826418719655,0.0465691328902873,0.04917604364989033,0.051141739488587155,0.05329199322311109,0.033845634725264896,0.04859997697479275,0.05325260276122264,0.045563484912983905,0.053231092174650455,0.02006929883263382,0.0002664826418719655,0.05051310528810095,0.04753179272913118,0.04946487540011091,0.05163285768657535,0.034852829366112226,0.03555118091919194,0.0521564103981937,0.0002664826418719655,0.04915038377642298,0.05340830084328356,0.033977001067100956,0.05093514492684801,0.04845475803253587,0.0002664826418719655,0.053198648233263736,0.03936238094782014,0.04680131825691733,0.05271034373074329,0.04926216927731234,0.05272854410424118,0.03640940162214149,0.02076949636764042,0.050486416511203426,0.04771072055869466,0.052565096218566455,0.05040589217819526,0.046031040729327774,0.05315179229717726,0.04889570091477457,0.0002664826418719655,0.05102110147661072,0.03424886353482064,0.053031892438765695,0.03979647859217959,0.050723867415145577,0.020811376657922116,0.052548596230326,0.049785967019947704,0.05215388112343311,0.04075452147246874,0.04727935552667801,0.04970689733952483,0.05339153051684285,0.050855057924920344,0.05334709034475429,0.019798829303457374,0.0493924967412415,0.04792883764345963,0.051210761436634666,0.0002664826418719655,0.044765393494891094,0.05153598122737548,0.04624245680660055,0.0383864313606888,0.0002664826418719655,0.04889854617495644,0.05275104218872275,0.05090922854524691,0.052951655775261564,0.0002664826418719655,0.039721255985363024,0.0477857850099169,0.05071024430475531,0.05303276958006624,0.04981366852717408,0.04699002889969203,0.0002664826418719655,0.05187916493510677,0.04901993806948928,0.05265434958527578,0.050465805783102134,0.03725654593118531,0.0527948561914086,0.04144838879166414,0.0002664826418719655,0.04615243674253673,0.050976040604934304,0.05346393778526174,0.05070152354254045,0.052999013632758996,0.0002664826418719655,0.04747779076810771,0.044506621608061764,0.05277860917145566,0.04750489131383462,0.05119848219107702,0.04899959934305564,0.05361747549495834,0.05306862921131865,0.021020863460596513,0.0002664826418719655,0.03371215439975779,0.04873141870897872,0.05037743366598245,0.05276683179818996,0.04717339179653983,0.040901281267907215,0.052833811203558734,0.05004933377092593,0.053291976923241446,0.0002664826418719655,0.050831462439586396,0.04664793171890249,0.04886319138789361,0.052733424240238615,0.03411405493105184,0.05065449654899908,0.04328351937572048,0.0344558206985437,0.05327465792370911,0.0002664826418719655,0.03579440699297698,0.051083072672213646,0.0002664826418719655,0.05105935326394827,0.033956086426831004,0.04887889203956956,0.05298346154200061,0.04626808768330708,0.0002664826418719655,0.05085067781990482,0.05283285937492006,0.04770473414744578,0.05023930463698891,0.05309551099246711,0.05286009541605554,0.04925292810577507,0.0002664826418719655,0.04734105278637962,0.046217656431506625,0.05298899704178896,0.0002664826418719655,0.049162547479723075,0.04001399237777069,0.04510624650908464],\"type\":\"scatter\",\"xaxis\":\"x2\",\"yaxis\":\"y2\"},{\"marker\":{\"color\":[0,1,2,3,4,5,6,7,8,9,10,11,12,13,14,15,16,17,18,19,20,21,22,23,24,25,26,27,28,29,30,31,32,33,34,35,36,37,38,39,40,41,42,43,44,45,46,47,48,49,50,51,52,53,54,55,56,57,58,59,60,61,62,63,64,65,66,67,68,69,70,71,72,73,74,75,76,77,78,79,80,81,82,83,84,85,86,87,88,89,90,91,92,93,94,95,96,97,98,99,100,101,102,103,104,105,106,107,108,109,110,111,112,113,114,115,116,117,118,119,120,121,122,123,124,125,126,127,128,129,130,131,132,133,134,135,136,137,138,139,140,141,142,143,144,145,146,147,148,149,150,151,152,153,154,155,156,157,158,159,160,161,162,163,164,165,166,167,168,169,170,171,172,173,174,175,176,177,178,179,180,181,182,183,184,185,186,187,188,189,190,191,192,193,194,195,196,197,198,199,200,201,202,203,204,205,206,207,208,209,210,211,212,213,214,215,216,217,218,219,220,221,222,223,224,225,226,227,228,229,230,231,232,233,234,235,236,237,238,239,240,241,242,243,244,245,246,247,248,249,250,251,252,253,254,255,256,257,258,259,260,261,262,263,264,265,266,267,268,269,270,271,272,273,274,275,276,277,278,279,280,281,282,283,284,285,286,287,288,289,290,291,292,293,294,295,296,297,298,299,300,301,302,303,304,305,306,307,308,309,310,311,312,313,314,315,316,317,318,319,320,321,322,323,324,325,326,327,328,329,330,331,332,333,334,335,336,337,338,339,340,341,342,343,344,345,346,347,348,349,350,351,352,353,354,355,356,357,358,359,360,361,362,363,364,365,366,367,368,369,370,371,372,373,374,375,376,377,378,379,380,381,382,383,384,385,386,387,388,389,390,391,392,393,394,395,396,397,398,399,400,401,402,403,404,405,406,407,408,409,410,411,412,413,414,415,416,417,418,419,420,421,422,423,424,425,426,427,428,429,430,431,432,433,434,435,436,437,438,439,440,441,442,443,444,445,446,447,448,449,450,451,452,453,454,455,456,457,458,459,460,461,462,463,464,465,466,467,468,469,470,471,472,473,474,475,476,477,478,479,480,481,482,483,484,485,486,487,488,489,490,491,492,493,494,495,496,497,498,499,500,501,502,503,504,505,506,507,508,509,510,511,512,513,514,515,516,517,518,519,520,521,522,523,524,525,526,527,528,529,530,531,532,533,534,535,536,537,538,539,540,541,542,543,544,545,546,547,548,549],\"colorbar\":{\"title\":{\"text\":\"Trial\"},\"x\":1.0,\"xpad\":40},\"colorscale\":[[0.0,\"rgb(247,251,255)\"],[0.125,\"rgb(222,235,247)\"],[0.25,\"rgb(198,219,239)\"],[0.375,\"rgb(158,202,225)\"],[0.5,\"rgb(107,174,214)\"],[0.625,\"rgb(66,146,198)\"],[0.75,\"rgb(33,113,181)\"],[0.875,\"rgb(8,81,156)\"],[1.0,\"rgb(8,48,107)\"]],\"line\":{\"color\":\"Grey\",\"width\":0.5},\"showscale\":false},\"mode\":\"markers\",\"name\":\"Feasible Trial\",\"showlegend\":false,\"x\":[true,false,false,true,true,true,false,false,true,false,true,true,true,true,true,true,true,true,true,true,true,true,true,true,true,true,false,true,true,true,true,true,true,true,false,true,true,false,true,true,false,true,true,true,true,true,true,true,false,true,true,true,true,true,true,true,true,true,true,true,true,true,true,true,true,true,true,false,true,true,true,true,true,true,true,true,true,true,false,true,true,true,true,true,true,true,true,true,true,false,true,true,true,true,true,true,true,true,true,true,true,true,true,true,true,true,true,true,false,true,true,true,true,true,true,true,true,true,true,true,true,true,true,true,true,true,true,true,false,true,true,true,true,true,true,true,true,true,true,true,true,true,true,true,true,true,true,true,true,true,false,true,true,true,true,true,true,true,true,true,true,true,true,true,true,true,true,true,true,true,true,true,true,true,true,true,true,true,true,true,false,true,true,true,true,true,true,true,true,true,true,true,true,true,true,true,true,true,true,true,true,true,true,true,true,true,true,true,true,true,false,true,true,true,true,true,true,true,true,true,true,true,true,true,true,true,true,true,true,true,true,true,true,true,true,true,true,true,true,true,true,true,true,true,true,true,true,true,true,true,true,true,false,true,true,true,true,true,true,true,true,true,true,true,true,true,true,true,true,true,false,true,true,true,true,true,true,true,true,true,true,true,true,true,true,true,true,true,true,true,false,true,true,true,true,true,true,true,true,true,true,true,true,true,true,true,true,true,true,false,true,true,true,true,true,true,true,true,true,true,true,true,true,true,true,true,true,true,true,true,false,true,true,true,true,true,true,true,true,true,true,true,true,true,true,true,true,true,true,true,false,true,true,true,true,true,true,true,true,true,true,true,true,true,true,true,true,true,true,true,true,false,true,true,true,true,true,true,true,true,true,true,true,true,true,true,true,true,true,true,true,true,false,true,true,true,true,true,true,true,true,true,true,true,true,true,true,true,false,true,true,true,true,true,true,true,true,true,true,true,true,true,true,true,true,true,true,true,true,true,false,true,true,true,true,true,true,true,true,true,true,true,true,true,true,true,true,true,false,true,true,true,true,true,true,true,true,true,true,true,true,true,true,true,true,true,true,true,false,true,true,true,true,true,true,true,true,true,true,true,true,true,true,true,true,true,true,true,false,true,true,true,true,true,true,true,true,true,true,true,true,true,true,true,true,true,false,true,true,true,true,true,true,true,true,true,true,true,true,true,true,true,true,true,true,true,false,true,true,true,true,true,true,true,true,true,true,true,true,true,true,true,true,true,true,true,true,true,false,true],\"y\":[0.03324698331399583,0.026332902930887934,0.030469137563298575,0.03444987576203394,0.04814619271239208,0.038066821299608235,0.03313890578532456,0.035480558776875615,0.03795740934127874,0.031156855638856097,0.05370249298547826,0.053043338860751556,0.049358568615201014,0.04046620173964342,0.04135830475866652,0.03482896954916652,0.04154041337618398,0.03462141000783664,0.046612718601797054,0.037526935207238,0.043719300306238565,0.045391643727781025,0.03855362113289444,0.05005819010027681,0.039473372363462364,0.03480637042849982,0.03369956604439408,0.0399559022002486,0.045554766209695396,0.0377710062570645,0.05345532201680157,0.049179364245239526,0.045038814489735374,0.042924297756840736,0.04001730686109394,0.040681947973510366,0.03255432649509493,0.039981091096421034,0.0503522003189274,0.03981101195489917,0.032811783069301007,0.049862294786565405,0.04851576479166418,0.02024138376707917,0.04170481583937038,0.04767053965435942,0.04313826063367159,0.03283938541515903,0.03278310247782083,0.037876718506305,0.040726692725909806,0.050762033934032155,0.04610049465209755,0.035598704019295734,0.044183615546848895,0.04990649894396905,0.04210634543158245,0.047338175501152914,0.05084595784289079,0.03654701218043085,0.042371475724924626,0.048460256440363954,0.052472475068935306,0.052887525248913415,0.04626885698320693,0.05317992334355266,0.04275097241274065,0.034748374854042384,0.052153755408722705,0.03966879729859924,0.03456739709318828,0.04381019379874547,0.04726398158402837,0.05265843147113376,0.05331823873229896,0.045087667532495476,0.020770348777273694,0.047398026686143964,0.0389465853039739,0.05219137903797115,0.04709926993082188,0.0508971605112515,0.05151212750052316,0.048758814503789674,0.04242500361269015,0.04710632376294343,0.03531964393831496,0.052457237175554304,0.045799822985578484,0.033738054775223146,0.0488217757697453,0.051946099320358693,0.05278336944453671,0.04705396776723112,0.049838598061873234,0.043675457175516186,0.04587686254833845,0.04662172783159644,0.05218017043087157,0.0494985524929483,0.04088362422565477,0.05221018954207535,0.05253647896025815,0.04302974775721296,0.04816109208279552,0.04896643161435016,0.045115575584085396,0.04286887657038844,0.04155131211473144,0.049748990510831904,0.03438504613986426,0.0528663253282279,0.04815928395451181,0.053184673529307856,0.051916487103832246,0.043299638979650404,0.04754727094759563,0.05076538637504058,0.04623849148207724,0.047417452844366215,0.02022282504685614,0.05026288773688968,0.048146784203736005,0.033965166850007285,0.051114131635104296,0.036454444441654986,0.05341465722787142,0.03552890563535609,0.03666385268601502,0.04671620191668675,0.053604758640113416,0.037257922932716854,0.05125645218515289,0.04907912984206813,0.052227000936113085,0.05341870658574962,0.04766486170283768,0.03341205827496927,0.050080152181557966,0.05328353864373002,0.0002664826418719655,0.05353499815479453,0.05007783008052824,0.020625866865305254,0.0368139763138582,0.04765859233065183,0.04512944980534381,0.05184343676719398,0.048504895493151595,0.0331849856244731,0.04121725363851465,0.05282848818748159,0.05191767159807118,0.05251727378020658,0.048936109878433595,0.044208576613926395,0.0471758536609599,0.04945865583313777,0.05238245591016597,0.046327703480299236,0.04987587977943793,0.052723232440028765,0.052742427144316886,0.0002664826418719655,0.04871490000398578,0.05215845464194435,0.05080581134781799,0.04797725966127435,0.05328432894531375,0.03825159292314441,0.04913631963637322,0.03644820818813297,0.05232801211309551,0.05058215622683474,0.0002664826418719655,0.05255776313824743,0.04746732427685902,0.04890617255157278,0.052448670670091325,0.04694639389465257,0.04371043937336743,0.053138127327039986,0.052718246880571085,0.01961097420207157,0.04893820996096516,0.05254108530861705,0.0002664826418719655,0.05021489654233825,0.04738824552417005,0.050559405869964304,0.04223967199505846,0.052636546251000324,0.05274947957147995,0.0002664826418719655,0.051100629641741335,0.04984303897361041,0.05224156680194235,0.04476627402902931,0.04556134751061881,0.0512478898108774,0.05254800497278619,0.052570520624497505,0.05309453242412906,0.05005515614018681,0.049260964973266985,0.04913904231473435,0.050933518728898494,0.052940203076757786,0.0002664826418719655,0.04743906713380423,0.0447716937735021,0.05278340209256904,0.05218999514565716,0.048792968009973195,0.053301229217860034,0.05051208651483021,0.049730293864476915,0.05247715393762241,0.04795038885116478,0.04968247262213467,0.05213521401905165,0.01958306821780261,0.05294787340695032,0.052965634437134465,0.03750764346191856,0.050354025210916684,0.048068647868180395,0.050820098983822684,0.053192171650747425,0.0002664826418719655,0.04889540237577561,0.05298924866125896,0.052676630927969856,0.0002664826418719655,0.05146360592161434,0.05087833720645489,0.05328716987791245,0.049349621094694415,0.05341014175498473,0.05072096751384281,0.05319565120216119,0.020298223986877865,0.0528349634064809,0.03643449682323522,0.052779333619889755,0.04949095586367009,0.051312590526507496,0.0002664826418719655,0.04782487103874401,0.05267665454289437,0.05012491176372837,0.05307640278752486,0.030592871249155235,0.0002664826418719655,0.033483224130800245,0.04853853410290045,0.05057667619140397,0.052905302300901694,0.04662810288686135,0.052785807574896905,0.05072517009082791,0.05302427246524616,0.048255091838980024,0.05000258676611448,0.02063139597007708,0.05298316341498076,0.04908773048570615,0.05153131274652325,0.04718594425190997,0.02071495386353738,0.03667497071865735,0.049805236911150165,0.05278226546063021,0.0002664826418719655,0.0453107318146697,0.04738244317335088,0.05120312631972691,0.0523194585871497,0.033321802671932056,0.048360619857158,0.05330605795609156,0.053421441611220755,0.05011568507579704,0.0002664826418719655,0.043880011341689215,0.051015829896634536,0.048569456424178106,0.053181993383246626,0.05342114833437674,0.0370023087688049,0.0393580630137986,0.044417733669923416,0.04928352260680933,0.0002664826418719655,0.05159836205404498,0.053226070133459424,0.033593167746711707,0.04694705511051811,0.04918009342818756,0.0002664826418719655,0.050757086473957644,0.05291267410433097,0.04832338315082683,0.052800107254639274,0.05075063002723542,0.039958579053552365,0.044211670008936534,0.03513044170799907,0.03725711421479812,0.04458412125692145,0.0002664826418719655,0.050134267717387215,0.048198007479569954,0.05297733588587722,0.0513419833324078,0.046630610816760384,0.04995732258019859,0.03250135757746272,0.05309608844642524,0.0002664826418719655,0.053115138222547195,0.0485426891786735,0.03506109496076011,0.05247405672320217,0.05042900647211144,0.053219681790958706,0.049023859745606115,0.050840845206065036,0.0002664826418719655,0.047042243192549224,0.04400429633060646,0.051190866564585116,0.04580131881466834,0.04858292285739425,0.0002664826418719655,0.053184442633366635,0.050110715185494537,0.050371721440861085,0.0002664826418719655,0.047785446943191236,0.05103717718579069,0.049340733488470664,0.05305947173860868,0.05130618774841469,0.047435263946884174,0.02007441160344,0.04979230513355574,0.05307405198996862,0.0002664826418719655,0.05060841958123731,0.02927803985843553,0.04864349977774612,0.05274203023088357,0.04625072463247637,0.05116258183145974,0.053191736145366916,0.049389023399662016,0.053205501229680076,0.05051442608080654,0.04807129692627238,0.0002664826418719655,0.05277851026735767,0.05084965648001623,0.04683345588968544,0.05318343057050301,0.05330300093871647,0.048958902826168625,0.053080103299979677,0.03730927269301402,0.05051600632698126,0.03898604659114761,0.03548578176395485,0.05129950212254072,0.020754137387667994,0.044375912809123966,0.048967001968867885,0.05310487636169009,0.050771625253807254,0.0002664826418719655,0.04533291152708037,0.0526433046575437,0.049201143504004806,0.0002664826418719655,0.051016059651910785,0.05260750852969994,0.04811840246061358,0.05281346840798169,0.0502311954002998,0.053290539549150515,0.04739740245097478,0.05063721353675554,0.04395810848482335,0.030199508301712075,0.05313094859470495,0.049210747519225856,0.038262328053049924,0.020247560709111764,0.04682259831335464,0.04772214187686012,0.03774681121102223,0.052847758354719186,0.05019948065635708,0.05288581883174122,0.0002664826418719655,0.0465691328902873,0.04917604364989033,0.051141739488587155,0.05329199322311109,0.033845634725264896,0.04859997697479275,0.05325260276122264,0.045563484912983905,0.053231092174650455,0.02006929883263382,0.0002664826418719655,0.05051310528810095,0.04753179272913118,0.04946487540011091,0.05163285768657535,0.034852829366112226,0.03555118091919194,0.0521564103981937,0.0002664826418719655,0.04915038377642298,0.05340830084328356,0.033977001067100956,0.05093514492684801,0.04845475803253587,0.0002664826418719655,0.053198648233263736,0.03936238094782014,0.04680131825691733,0.05271034373074329,0.04926216927731234,0.05272854410424118,0.03640940162214149,0.02076949636764042,0.050486416511203426,0.04771072055869466,0.052565096218566455,0.05040589217819526,0.046031040729327774,0.05315179229717726,0.04889570091477457,0.0002664826418719655,0.05102110147661072,0.03424886353482064,0.053031892438765695,0.03979647859217959,0.050723867415145577,0.020811376657922116,0.052548596230326,0.049785967019947704,0.05215388112343311,0.04075452147246874,0.04727935552667801,0.04970689733952483,0.05339153051684285,0.050855057924920344,0.05334709034475429,0.019798829303457374,0.0493924967412415,0.04792883764345963,0.051210761436634666,0.0002664826418719655,0.044765393494891094,0.05153598122737548,0.04624245680660055,0.0383864313606888,0.0002664826418719655,0.04889854617495644,0.05275104218872275,0.05090922854524691,0.052951655775261564,0.0002664826418719655,0.039721255985363024,0.0477857850099169,0.05071024430475531,0.05303276958006624,0.04981366852717408,0.04699002889969203,0.0002664826418719655,0.05187916493510677,0.04901993806948928,0.05265434958527578,0.050465805783102134,0.03725654593118531,0.0527948561914086,0.04144838879166414,0.0002664826418719655,0.04615243674253673,0.050976040604934304,0.05346393778526174,0.05070152354254045,0.052999013632758996,0.0002664826418719655,0.04747779076810771,0.044506621608061764,0.05277860917145566,0.04750489131383462,0.05119848219107702,0.04899959934305564,0.05361747549495834,0.05306862921131865,0.021020863460596513,0.0002664826418719655,0.03371215439975779,0.04873141870897872,0.05037743366598245,0.05276683179818996,0.04717339179653983,0.040901281267907215,0.052833811203558734,0.05004933377092593,0.053291976923241446,0.0002664826418719655,0.050831462439586396,0.04664793171890249,0.04886319138789361,0.052733424240238615,0.03411405493105184,0.05065449654899908,0.04328351937572048,0.0344558206985437,0.05327465792370911,0.0002664826418719655,0.03579440699297698,0.051083072672213646,0.0002664826418719655,0.05105935326394827,0.033956086426831004,0.04887889203956956,0.05298346154200061,0.04626808768330708,0.0002664826418719655,0.05085067781990482,0.05283285937492006,0.04770473414744578,0.05023930463698891,0.05309551099246711,0.05286009541605554,0.04925292810577507,0.0002664826418719655,0.04734105278637962,0.046217656431506625,0.05298899704178896,0.0002664826418719655,0.049162547479723075,0.04001399237777069,0.04510624650908464],\"type\":\"scatter\",\"xaxis\":\"x3\",\"yaxis\":\"y3\"},{\"marker\":{\"color\":[0,1,2,3,4,5,6,7,8,9,10,11,12,13,14,15,16,17,18,19,20,21,22,23,24,25,26,27,28,29,30,31,32,33,34,35,36,37,38,39,40,41,42,43,44,45,46,47,48,49,50,51,52,53,54,55,56,57,58,59,60,61,62,63,64,65,66,67,68,69,70,71,72,73,74,75,76,77,78,79,80,81,82,83,84,85,86,87,88,89,90,91,92,93,94,95,96,97,98,99,100,101,102,103,104,105,106,107,108,109,110,111,112,113,114,115,116,117,118,119,120,121,122,123,124,125,126,127,128,129,130,131,132,133,134,135,136,137,138,139,140,141,142,143,144,145,146,147,148,149,150,151,152,153,154,155,156,157,158,159,160,161,162,163,164,165,166,167,168,169,170,171,172,173,174,175,176,177,178,179,180,181,182,183,184,185,186,187,188,189,190,191,192,193,194,195,196,197,198,199,200,201,202,203,204,205,206,207,208,209,210,211,212,213,214,215,216,217,218,219,220,221,222,223,224,225,226,227,228,229,230,231,232,233,234,235,236,237,238,239,240,241,242,243,244,245,246,247,248,249,250,251,252,253,254,255,256,257,258,259,260,261,262,263,264,265,266,267,268,269,270,271,272,273,274,275,276,277,278,279,280,281,282,283,284,285,286,287,288,289,290,291,292,293,294,295,296,297,298,299,300,301,302,303,304,305,306,307,308,309,310,311,312,313,314,315,316,317,318,319,320,321,322,323,324,325,326,327,328,329,330,331,332,333,334,335,336,337,338,339,340,341,342,343,344,345,346,347,348,349,350,351,352,353,354,355,356,357,358,359,360,361,362,363,364,365,366,367,368,369,370,371,372,373,374,375,376,377,378,379,380,381,382,383,384,385,386,387,388,389,390,391,392,393,394,395,396,397,398,399,400,401,402,403,404,405,406,407,408,409,410,411,412,413,414,415,416,417,418,419,420,421,422,423,424,425,426,427,428,429,430,431,432,433,434,435,436,437,438,439,440,441,442,443,444,445,446,447,448,449,450,451,452,453,454,455,456,457,458,459,460,461,462,463,464,465,466,467,468,469,470,471,472,473,474,475,476,477,478,479,480,481,482,483,484,485,486,487,488,489,490,491,492,493,494,495,496,497,498,499,500,501,502,503,504,505,506,507,508,509,510,511,512,513,514,515,516,517,518,519,520,521,522,523,524,525,526,527,528,529,530,531,532,533,534,535,536,537,538,539,540,541,542,543,544,545,546,547,548,549],\"colorbar\":{\"title\":{\"text\":\"Trial\"},\"x\":1.0,\"xpad\":40},\"colorscale\":[[0.0,\"rgb(247,251,255)\"],[0.125,\"rgb(222,235,247)\"],[0.25,\"rgb(198,219,239)\"],[0.375,\"rgb(158,202,225)\"],[0.5,\"rgb(107,174,214)\"],[0.625,\"rgb(66,146,198)\"],[0.75,\"rgb(33,113,181)\"],[0.875,\"rgb(8,81,156)\"],[1.0,\"rgb(8,48,107)\"]],\"line\":{\"color\":\"Grey\",\"width\":0.5},\"showscale\":false},\"mode\":\"markers\",\"name\":\"Feasible Trial\",\"showlegend\":false,\"x\":[1466,1202,501,1494,35,516,1253,1307,499,1278,19,19,57,259,271,878,249,801,4,648,183,118,371,61,382,990,150,351,140,604,17,5,132,198,81,307,1071,467,58,195,427,61,75,1,244,87,206,1382,61,570,299,46,123,2,160,42,242,105,44,737,173,72,32,28,117,25,218,149,33,289,1188,3,106,28,20,149,1,104,168,28,94,31,34,77,215,108,938,27,137,339,76,31,26,4,62,181,133,96,35,65,264,27,23,3,88,55,141,196,120,52,774,18,81,22,7,162,101,53,123,23,1,53,78,1488,37,693,22,839,83,117,21,2,46,74,35,23,99,1100,61,23,0,20,56,1,534,93,151,37,73,1360,122,23,30,25,66,3,95,55,30,123,59,25,27,0,81,34,49,90,21,411,67,2,27,46,0,28,101,70,30,113,54,23,25,1,73,31,0,60,101,48,81,25,25,0,44,64,28,88,132,46,23,27,23,59,5,73,48,25,0,101,51,26,33,76,23,5,61,31,93,55,30,1,26,25,2,53,83,49,25,0,73,26,30,0,42,49,24,72,23,53,25,1,28,632,29,70,45,0,96,30,61,25,472,0,992,83,50,27,116,28,53,26,84,56,1,27,76,43,108,1,27,65,28,0,59,98,47,34,1176,78,23,22,61,0,129,49,82,25,23,2,99,53,72,0,42,24,1423,112,73,0,51,28,86,28,53,336,157,692,557,24,0,58,89,27,45,116,62,1285,26,0,26,84,864,32,57,24,75,51,0,111,29,47,136,81,0,25,61,28,0,96,49,71,26,44,100,1,66,26,0,49,942,81,29,126,45,25,71,25,56,90,0,29,50,108,25,24,75,26,2,55,397,90,45,1,142,68,26,48,0,109,30,74,0,49,30,82,27,59,24,104,55,175,1140,24,73,447,1,47,95,503,27,60,25,0,120,74,46,24,49,83,24,141,24,1,0,54,101,70,41,1057,783,35,0,70,23,1349,45,85,0,25,51,111,29,73,29,725,1,57,96,27,54,131,25,78,0,49,1242,26,91,53,1,30,65,26,300,106,67,22,50,22,1,69,92,45,0,159,42,126,233,0,76,29,49,24,0,359,89,52,27,65,106,0,37,76,27,56,603,28,80,0,122,48,22,54,27,0,90,64,29,102,47,74,19,24,1,0,52,77,47,27,98,143,27,61,24,0,51,115,79,29,907,54,197,816,24,0,81,47,0,46,1009,76,27,117,0,50,27,88,60,26,27,68,0,105,50,27,0,74,46,140],\"y\":[0.03324698331399583,0.026332902930887934,0.030469137563298575,0.03444987576203394,0.04814619271239208,0.038066821299608235,0.03313890578532456,0.035480558776875615,0.03795740934127874,0.031156855638856097,0.05370249298547826,0.053043338860751556,0.049358568615201014,0.04046620173964342,0.04135830475866652,0.03482896954916652,0.04154041337618398,0.03462141000783664,0.046612718601797054,0.037526935207238,0.043719300306238565,0.045391643727781025,0.03855362113289444,0.05005819010027681,0.039473372363462364,0.03480637042849982,0.03369956604439408,0.0399559022002486,0.045554766209695396,0.0377710062570645,0.05345532201680157,0.049179364245239526,0.045038814489735374,0.042924297756840736,0.04001730686109394,0.040681947973510366,0.03255432649509493,0.039981091096421034,0.0503522003189274,0.03981101195489917,0.032811783069301007,0.049862294786565405,0.04851576479166418,0.02024138376707917,0.04170481583937038,0.04767053965435942,0.04313826063367159,0.03283938541515903,0.03278310247782083,0.037876718506305,0.040726692725909806,0.050762033934032155,0.04610049465209755,0.035598704019295734,0.044183615546848895,0.04990649894396905,0.04210634543158245,0.047338175501152914,0.05084595784289079,0.03654701218043085,0.042371475724924626,0.048460256440363954,0.052472475068935306,0.052887525248913415,0.04626885698320693,0.05317992334355266,0.04275097241274065,0.034748374854042384,0.052153755408722705,0.03966879729859924,0.03456739709318828,0.04381019379874547,0.04726398158402837,0.05265843147113376,0.05331823873229896,0.045087667532495476,0.020770348777273694,0.047398026686143964,0.0389465853039739,0.05219137903797115,0.04709926993082188,0.0508971605112515,0.05151212750052316,0.048758814503789674,0.04242500361269015,0.04710632376294343,0.03531964393831496,0.052457237175554304,0.045799822985578484,0.033738054775223146,0.0488217757697453,0.051946099320358693,0.05278336944453671,0.04705396776723112,0.049838598061873234,0.043675457175516186,0.04587686254833845,0.04662172783159644,0.05218017043087157,0.0494985524929483,0.04088362422565477,0.05221018954207535,0.05253647896025815,0.04302974775721296,0.04816109208279552,0.04896643161435016,0.045115575584085396,0.04286887657038844,0.04155131211473144,0.049748990510831904,0.03438504613986426,0.0528663253282279,0.04815928395451181,0.053184673529307856,0.051916487103832246,0.043299638979650404,0.04754727094759563,0.05076538637504058,0.04623849148207724,0.047417452844366215,0.02022282504685614,0.05026288773688968,0.048146784203736005,0.033965166850007285,0.051114131635104296,0.036454444441654986,0.05341465722787142,0.03552890563535609,0.03666385268601502,0.04671620191668675,0.053604758640113416,0.037257922932716854,0.05125645218515289,0.04907912984206813,0.052227000936113085,0.05341870658574962,0.04766486170283768,0.03341205827496927,0.050080152181557966,0.05328353864373002,0.0002664826418719655,0.05353499815479453,0.05007783008052824,0.020625866865305254,0.0368139763138582,0.04765859233065183,0.04512944980534381,0.05184343676719398,0.048504895493151595,0.0331849856244731,0.04121725363851465,0.05282848818748159,0.05191767159807118,0.05251727378020658,0.048936109878433595,0.044208576613926395,0.0471758536609599,0.04945865583313777,0.05238245591016597,0.046327703480299236,0.04987587977943793,0.052723232440028765,0.052742427144316886,0.0002664826418719655,0.04871490000398578,0.05215845464194435,0.05080581134781799,0.04797725966127435,0.05328432894531375,0.03825159292314441,0.04913631963637322,0.03644820818813297,0.05232801211309551,0.05058215622683474,0.0002664826418719655,0.05255776313824743,0.04746732427685902,0.04890617255157278,0.052448670670091325,0.04694639389465257,0.04371043937336743,0.053138127327039986,0.052718246880571085,0.01961097420207157,0.04893820996096516,0.05254108530861705,0.0002664826418719655,0.05021489654233825,0.04738824552417005,0.050559405869964304,0.04223967199505846,0.052636546251000324,0.05274947957147995,0.0002664826418719655,0.051100629641741335,0.04984303897361041,0.05224156680194235,0.04476627402902931,0.04556134751061881,0.0512478898108774,0.05254800497278619,0.052570520624497505,0.05309453242412906,0.05005515614018681,0.049260964973266985,0.04913904231473435,0.050933518728898494,0.052940203076757786,0.0002664826418719655,0.04743906713380423,0.0447716937735021,0.05278340209256904,0.05218999514565716,0.048792968009973195,0.053301229217860034,0.05051208651483021,0.049730293864476915,0.05247715393762241,0.04795038885116478,0.04968247262213467,0.05213521401905165,0.01958306821780261,0.05294787340695032,0.052965634437134465,0.03750764346191856,0.050354025210916684,0.048068647868180395,0.050820098983822684,0.053192171650747425,0.0002664826418719655,0.04889540237577561,0.05298924866125896,0.052676630927969856,0.0002664826418719655,0.05146360592161434,0.05087833720645489,0.05328716987791245,0.049349621094694415,0.05341014175498473,0.05072096751384281,0.05319565120216119,0.020298223986877865,0.0528349634064809,0.03643449682323522,0.052779333619889755,0.04949095586367009,0.051312590526507496,0.0002664826418719655,0.04782487103874401,0.05267665454289437,0.05012491176372837,0.05307640278752486,0.030592871249155235,0.0002664826418719655,0.033483224130800245,0.04853853410290045,0.05057667619140397,0.052905302300901694,0.04662810288686135,0.052785807574896905,0.05072517009082791,0.05302427246524616,0.048255091838980024,0.05000258676611448,0.02063139597007708,0.05298316341498076,0.04908773048570615,0.05153131274652325,0.04718594425190997,0.02071495386353738,0.03667497071865735,0.049805236911150165,0.05278226546063021,0.0002664826418719655,0.0453107318146697,0.04738244317335088,0.05120312631972691,0.0523194585871497,0.033321802671932056,0.048360619857158,0.05330605795609156,0.053421441611220755,0.05011568507579704,0.0002664826418719655,0.043880011341689215,0.051015829896634536,0.048569456424178106,0.053181993383246626,0.05342114833437674,0.0370023087688049,0.0393580630137986,0.044417733669923416,0.04928352260680933,0.0002664826418719655,0.05159836205404498,0.053226070133459424,0.033593167746711707,0.04694705511051811,0.04918009342818756,0.0002664826418719655,0.050757086473957644,0.05291267410433097,0.04832338315082683,0.052800107254639274,0.05075063002723542,0.039958579053552365,0.044211670008936534,0.03513044170799907,0.03725711421479812,0.04458412125692145,0.0002664826418719655,0.050134267717387215,0.048198007479569954,0.05297733588587722,0.0513419833324078,0.046630610816760384,0.04995732258019859,0.03250135757746272,0.05309608844642524,0.0002664826418719655,0.053115138222547195,0.0485426891786735,0.03506109496076011,0.05247405672320217,0.05042900647211144,0.053219681790958706,0.049023859745606115,0.050840845206065036,0.0002664826418719655,0.047042243192549224,0.04400429633060646,0.051190866564585116,0.04580131881466834,0.04858292285739425,0.0002664826418719655,0.053184442633366635,0.050110715185494537,0.050371721440861085,0.0002664826418719655,0.047785446943191236,0.05103717718579069,0.049340733488470664,0.05305947173860868,0.05130618774841469,0.047435263946884174,0.02007441160344,0.04979230513355574,0.05307405198996862,0.0002664826418719655,0.05060841958123731,0.02927803985843553,0.04864349977774612,0.05274203023088357,0.04625072463247637,0.05116258183145974,0.053191736145366916,0.049389023399662016,0.053205501229680076,0.05051442608080654,0.04807129692627238,0.0002664826418719655,0.05277851026735767,0.05084965648001623,0.04683345588968544,0.05318343057050301,0.05330300093871647,0.048958902826168625,0.053080103299979677,0.03730927269301402,0.05051600632698126,0.03898604659114761,0.03548578176395485,0.05129950212254072,0.020754137387667994,0.044375912809123966,0.048967001968867885,0.05310487636169009,0.050771625253807254,0.0002664826418719655,0.04533291152708037,0.0526433046575437,0.049201143504004806,0.0002664826418719655,0.051016059651910785,0.05260750852969994,0.04811840246061358,0.05281346840798169,0.0502311954002998,0.053290539549150515,0.04739740245097478,0.05063721353675554,0.04395810848482335,0.030199508301712075,0.05313094859470495,0.049210747519225856,0.038262328053049924,0.020247560709111764,0.04682259831335464,0.04772214187686012,0.03774681121102223,0.052847758354719186,0.05019948065635708,0.05288581883174122,0.0002664826418719655,0.0465691328902873,0.04917604364989033,0.051141739488587155,0.05329199322311109,0.033845634725264896,0.04859997697479275,0.05325260276122264,0.045563484912983905,0.053231092174650455,0.02006929883263382,0.0002664826418719655,0.05051310528810095,0.04753179272913118,0.04946487540011091,0.05163285768657535,0.034852829366112226,0.03555118091919194,0.0521564103981937,0.0002664826418719655,0.04915038377642298,0.05340830084328356,0.033977001067100956,0.05093514492684801,0.04845475803253587,0.0002664826418719655,0.053198648233263736,0.03936238094782014,0.04680131825691733,0.05271034373074329,0.04926216927731234,0.05272854410424118,0.03640940162214149,0.02076949636764042,0.050486416511203426,0.04771072055869466,0.052565096218566455,0.05040589217819526,0.046031040729327774,0.05315179229717726,0.04889570091477457,0.0002664826418719655,0.05102110147661072,0.03424886353482064,0.053031892438765695,0.03979647859217959,0.050723867415145577,0.020811376657922116,0.052548596230326,0.049785967019947704,0.05215388112343311,0.04075452147246874,0.04727935552667801,0.04970689733952483,0.05339153051684285,0.050855057924920344,0.05334709034475429,0.019798829303457374,0.0493924967412415,0.04792883764345963,0.051210761436634666,0.0002664826418719655,0.044765393494891094,0.05153598122737548,0.04624245680660055,0.0383864313606888,0.0002664826418719655,0.04889854617495644,0.05275104218872275,0.05090922854524691,0.052951655775261564,0.0002664826418719655,0.039721255985363024,0.0477857850099169,0.05071024430475531,0.05303276958006624,0.04981366852717408,0.04699002889969203,0.0002664826418719655,0.05187916493510677,0.04901993806948928,0.05265434958527578,0.050465805783102134,0.03725654593118531,0.0527948561914086,0.04144838879166414,0.0002664826418719655,0.04615243674253673,0.050976040604934304,0.05346393778526174,0.05070152354254045,0.052999013632758996,0.0002664826418719655,0.04747779076810771,0.044506621608061764,0.05277860917145566,0.04750489131383462,0.05119848219107702,0.04899959934305564,0.05361747549495834,0.05306862921131865,0.021020863460596513,0.0002664826418719655,0.03371215439975779,0.04873141870897872,0.05037743366598245,0.05276683179818996,0.04717339179653983,0.040901281267907215,0.052833811203558734,0.05004933377092593,0.053291976923241446,0.0002664826418719655,0.050831462439586396,0.04664793171890249,0.04886319138789361,0.052733424240238615,0.03411405493105184,0.05065449654899908,0.04328351937572048,0.0344558206985437,0.05327465792370911,0.0002664826418719655,0.03579440699297698,0.051083072672213646,0.0002664826418719655,0.05105935326394827,0.033956086426831004,0.04887889203956956,0.05298346154200061,0.04626808768330708,0.0002664826418719655,0.05085067781990482,0.05283285937492006,0.04770473414744578,0.05023930463698891,0.05309551099246711,0.05286009541605554,0.04925292810577507,0.0002664826418719655,0.04734105278637962,0.046217656431506625,0.05298899704178896,0.0002664826418719655,0.049162547479723075,0.04001399237777069,0.04510624650908464],\"type\":\"scatter\",\"xaxis\":\"x4\",\"yaxis\":\"y4\"}],                        {\"template\":{\"data\":{\"histogram2dcontour\":[{\"type\":\"histogram2dcontour\",\"colorbar\":{\"outlinewidth\":0,\"ticks\":\"\"},\"colorscale\":[[0.0,\"#0d0887\"],[0.1111111111111111,\"#46039f\"],[0.2222222222222222,\"#7201a8\"],[0.3333333333333333,\"#9c179e\"],[0.4444444444444444,\"#bd3786\"],[0.5555555555555556,\"#d8576b\"],[0.6666666666666666,\"#ed7953\"],[0.7777777777777778,\"#fb9f3a\"],[0.8888888888888888,\"#fdca26\"],[1.0,\"#f0f921\"]]}],\"choropleth\":[{\"type\":\"choropleth\",\"colorbar\":{\"outlinewidth\":0,\"ticks\":\"\"}}],\"histogram2d\":[{\"type\":\"histogram2d\",\"colorbar\":{\"outlinewidth\":0,\"ticks\":\"\"},\"colorscale\":[[0.0,\"#0d0887\"],[0.1111111111111111,\"#46039f\"],[0.2222222222222222,\"#7201a8\"],[0.3333333333333333,\"#9c179e\"],[0.4444444444444444,\"#bd3786\"],[0.5555555555555556,\"#d8576b\"],[0.6666666666666666,\"#ed7953\"],[0.7777777777777778,\"#fb9f3a\"],[0.8888888888888888,\"#fdca26\"],[1.0,\"#f0f921\"]]}],\"heatmap\":[{\"type\":\"heatmap\",\"colorbar\":{\"outlinewidth\":0,\"ticks\":\"\"},\"colorscale\":[[0.0,\"#0d0887\"],[0.1111111111111111,\"#46039f\"],[0.2222222222222222,\"#7201a8\"],[0.3333333333333333,\"#9c179e\"],[0.4444444444444444,\"#bd3786\"],[0.5555555555555556,\"#d8576b\"],[0.6666666666666666,\"#ed7953\"],[0.7777777777777778,\"#fb9f3a\"],[0.8888888888888888,\"#fdca26\"],[1.0,\"#f0f921\"]]}],\"heatmapgl\":[{\"type\":\"heatmapgl\",\"colorbar\":{\"outlinewidth\":0,\"ticks\":\"\"},\"colorscale\":[[0.0,\"#0d0887\"],[0.1111111111111111,\"#46039f\"],[0.2222222222222222,\"#7201a8\"],[0.3333333333333333,\"#9c179e\"],[0.4444444444444444,\"#bd3786\"],[0.5555555555555556,\"#d8576b\"],[0.6666666666666666,\"#ed7953\"],[0.7777777777777778,\"#fb9f3a\"],[0.8888888888888888,\"#fdca26\"],[1.0,\"#f0f921\"]]}],\"contourcarpet\":[{\"type\":\"contourcarpet\",\"colorbar\":{\"outlinewidth\":0,\"ticks\":\"\"}}],\"contour\":[{\"type\":\"contour\",\"colorbar\":{\"outlinewidth\":0,\"ticks\":\"\"},\"colorscale\":[[0.0,\"#0d0887\"],[0.1111111111111111,\"#46039f\"],[0.2222222222222222,\"#7201a8\"],[0.3333333333333333,\"#9c179e\"],[0.4444444444444444,\"#bd3786\"],[0.5555555555555556,\"#d8576b\"],[0.6666666666666666,\"#ed7953\"],[0.7777777777777778,\"#fb9f3a\"],[0.8888888888888888,\"#fdca26\"],[1.0,\"#f0f921\"]]}],\"surface\":[{\"type\":\"surface\",\"colorbar\":{\"outlinewidth\":0,\"ticks\":\"\"},\"colorscale\":[[0.0,\"#0d0887\"],[0.1111111111111111,\"#46039f\"],[0.2222222222222222,\"#7201a8\"],[0.3333333333333333,\"#9c179e\"],[0.4444444444444444,\"#bd3786\"],[0.5555555555555556,\"#d8576b\"],[0.6666666666666666,\"#ed7953\"],[0.7777777777777778,\"#fb9f3a\"],[0.8888888888888888,\"#fdca26\"],[1.0,\"#f0f921\"]]}],\"mesh3d\":[{\"type\":\"mesh3d\",\"colorbar\":{\"outlinewidth\":0,\"ticks\":\"\"}}],\"scatter\":[{\"fillpattern\":{\"fillmode\":\"overlay\",\"size\":10,\"solidity\":0.2},\"type\":\"scatter\"}],\"parcoords\":[{\"type\":\"parcoords\",\"line\":{\"colorbar\":{\"outlinewidth\":0,\"ticks\":\"\"}}}],\"scatterpolargl\":[{\"type\":\"scatterpolargl\",\"marker\":{\"colorbar\":{\"outlinewidth\":0,\"ticks\":\"\"}}}],\"bar\":[{\"error_x\":{\"color\":\"#2a3f5f\"},\"error_y\":{\"color\":\"#2a3f5f\"},\"marker\":{\"line\":{\"color\":\"#E5ECF6\",\"width\":0.5},\"pattern\":{\"fillmode\":\"overlay\",\"size\":10,\"solidity\":0.2}},\"type\":\"bar\"}],\"scattergeo\":[{\"type\":\"scattergeo\",\"marker\":{\"colorbar\":{\"outlinewidth\":0,\"ticks\":\"\"}}}],\"scatterpolar\":[{\"type\":\"scatterpolar\",\"marker\":{\"colorbar\":{\"outlinewidth\":0,\"ticks\":\"\"}}}],\"histogram\":[{\"marker\":{\"pattern\":{\"fillmode\":\"overlay\",\"size\":10,\"solidity\":0.2}},\"type\":\"histogram\"}],\"scattergl\":[{\"type\":\"scattergl\",\"marker\":{\"colorbar\":{\"outlinewidth\":0,\"ticks\":\"\"}}}],\"scatter3d\":[{\"type\":\"scatter3d\",\"line\":{\"colorbar\":{\"outlinewidth\":0,\"ticks\":\"\"}},\"marker\":{\"colorbar\":{\"outlinewidth\":0,\"ticks\":\"\"}}}],\"scattermapbox\":[{\"type\":\"scattermapbox\",\"marker\":{\"colorbar\":{\"outlinewidth\":0,\"ticks\":\"\"}}}],\"scatterternary\":[{\"type\":\"scatterternary\",\"marker\":{\"colorbar\":{\"outlinewidth\":0,\"ticks\":\"\"}}}],\"scattercarpet\":[{\"type\":\"scattercarpet\",\"marker\":{\"colorbar\":{\"outlinewidth\":0,\"ticks\":\"\"}}}],\"carpet\":[{\"aaxis\":{\"endlinecolor\":\"#2a3f5f\",\"gridcolor\":\"white\",\"linecolor\":\"white\",\"minorgridcolor\":\"white\",\"startlinecolor\":\"#2a3f5f\"},\"baxis\":{\"endlinecolor\":\"#2a3f5f\",\"gridcolor\":\"white\",\"linecolor\":\"white\",\"minorgridcolor\":\"white\",\"startlinecolor\":\"#2a3f5f\"},\"type\":\"carpet\"}],\"table\":[{\"cells\":{\"fill\":{\"color\":\"#EBF0F8\"},\"line\":{\"color\":\"white\"}},\"header\":{\"fill\":{\"color\":\"#C8D4E3\"},\"line\":{\"color\":\"white\"}},\"type\":\"table\"}],\"barpolar\":[{\"marker\":{\"line\":{\"color\":\"#E5ECF6\",\"width\":0.5},\"pattern\":{\"fillmode\":\"overlay\",\"size\":10,\"solidity\":0.2}},\"type\":\"barpolar\"}],\"pie\":[{\"automargin\":true,\"type\":\"pie\"}]},\"layout\":{\"autotypenumbers\":\"strict\",\"colorway\":[\"#636efa\",\"#EF553B\",\"#00cc96\",\"#ab63fa\",\"#FFA15A\",\"#19d3f3\",\"#FF6692\",\"#B6E880\",\"#FF97FF\",\"#FECB52\"],\"font\":{\"color\":\"#2a3f5f\"},\"hovermode\":\"closest\",\"hoverlabel\":{\"align\":\"left\"},\"paper_bgcolor\":\"white\",\"plot_bgcolor\":\"#E5ECF6\",\"polar\":{\"bgcolor\":\"#E5ECF6\",\"angularaxis\":{\"gridcolor\":\"white\",\"linecolor\":\"white\",\"ticks\":\"\"},\"radialaxis\":{\"gridcolor\":\"white\",\"linecolor\":\"white\",\"ticks\":\"\"}},\"ternary\":{\"bgcolor\":\"#E5ECF6\",\"aaxis\":{\"gridcolor\":\"white\",\"linecolor\":\"white\",\"ticks\":\"\"},\"baxis\":{\"gridcolor\":\"white\",\"linecolor\":\"white\",\"ticks\":\"\"},\"caxis\":{\"gridcolor\":\"white\",\"linecolor\":\"white\",\"ticks\":\"\"}},\"coloraxis\":{\"colorbar\":{\"outlinewidth\":0,\"ticks\":\"\"}},\"colorscale\":{\"sequential\":[[0.0,\"#0d0887\"],[0.1111111111111111,\"#46039f\"],[0.2222222222222222,\"#7201a8\"],[0.3333333333333333,\"#9c179e\"],[0.4444444444444444,\"#bd3786\"],[0.5555555555555556,\"#d8576b\"],[0.6666666666666666,\"#ed7953\"],[0.7777777777777778,\"#fb9f3a\"],[0.8888888888888888,\"#fdca26\"],[1.0,\"#f0f921\"]],\"sequentialminus\":[[0.0,\"#0d0887\"],[0.1111111111111111,\"#46039f\"],[0.2222222222222222,\"#7201a8\"],[0.3333333333333333,\"#9c179e\"],[0.4444444444444444,\"#bd3786\"],[0.5555555555555556,\"#d8576b\"],[0.6666666666666666,\"#ed7953\"],[0.7777777777777778,\"#fb9f3a\"],[0.8888888888888888,\"#fdca26\"],[1.0,\"#f0f921\"]],\"diverging\":[[0,\"#8e0152\"],[0.1,\"#c51b7d\"],[0.2,\"#de77ae\"],[0.3,\"#f1b6da\"],[0.4,\"#fde0ef\"],[0.5,\"#f7f7f7\"],[0.6,\"#e6f5d0\"],[0.7,\"#b8e186\"],[0.8,\"#7fbc41\"],[0.9,\"#4d9221\"],[1,\"#276419\"]]},\"xaxis\":{\"gridcolor\":\"white\",\"linecolor\":\"white\",\"ticks\":\"\",\"title\":{\"standoff\":15},\"zerolinecolor\":\"white\",\"automargin\":true,\"zerolinewidth\":2},\"yaxis\":{\"gridcolor\":\"white\",\"linecolor\":\"white\",\"ticks\":\"\",\"title\":{\"standoff\":15},\"zerolinecolor\":\"white\",\"automargin\":true,\"zerolinewidth\":2},\"scene\":{\"xaxis\":{\"backgroundcolor\":\"#E5ECF6\",\"gridcolor\":\"white\",\"linecolor\":\"white\",\"showbackground\":true,\"ticks\":\"\",\"zerolinecolor\":\"white\",\"gridwidth\":2},\"yaxis\":{\"backgroundcolor\":\"#E5ECF6\",\"gridcolor\":\"white\",\"linecolor\":\"white\",\"showbackground\":true,\"ticks\":\"\",\"zerolinecolor\":\"white\",\"gridwidth\":2},\"zaxis\":{\"backgroundcolor\":\"#E5ECF6\",\"gridcolor\":\"white\",\"linecolor\":\"white\",\"showbackground\":true,\"ticks\":\"\",\"zerolinecolor\":\"white\",\"gridwidth\":2}},\"shapedefaults\":{\"line\":{\"color\":\"#2a3f5f\"}},\"annotationdefaults\":{\"arrowcolor\":\"#2a3f5f\",\"arrowhead\":0,\"arrowwidth\":1},\"geo\":{\"bgcolor\":\"white\",\"landcolor\":\"#E5ECF6\",\"subunitcolor\":\"white\",\"showland\":true,\"showlakes\":true,\"lakecolor\":\"white\"},\"title\":{\"x\":0.05},\"mapbox\":{\"style\":\"light\"}}},\"xaxis\":{\"anchor\":\"y\",\"domain\":[0.0,0.2125],\"title\":{\"text\":\"alpha\"}},\"yaxis\":{\"anchor\":\"x\",\"domain\":[0.0,1.0],\"title\":{\"text\":\"Objective Value\"}},\"xaxis2\":{\"anchor\":\"y2\",\"domain\":[0.2625,0.475],\"title\":{\"text\":\"implicit\"},\"type\":\"category\",\"categoryorder\":\"array\",\"categoryarray\":[true,false]},\"yaxis2\":{\"anchor\":\"x2\",\"domain\":[0.0,1.0],\"matches\":\"y\",\"showticklabels\":false},\"xaxis3\":{\"anchor\":\"y3\",\"domain\":[0.525,0.7375],\"title\":{\"text\":\"normalize_similarity\"},\"type\":\"category\",\"categoryorder\":\"array\",\"categoryarray\":[true,false]},\"yaxis3\":{\"anchor\":\"x3\",\"domain\":[0.0,1.0],\"matches\":\"y\",\"showticklabels\":false},\"xaxis4\":{\"anchor\":\"y4\",\"domain\":[0.7875,1.0],\"title\":{\"text\":\"topK\"}},\"yaxis4\":{\"anchor\":\"x4\",\"domain\":[0.0,1.0],\"matches\":\"y\",\"showticklabels\":false},\"title\":{\"text\":\"Slice Plot\"},\"width\":1200},                        {\"responsive\": true}                    ).then(function(){\n",
       "                            \n",
       "var gd = document.getElementById('76500d7c-98f2-431f-a326-ee6e0b86780a');\n",
       "var x = new MutationObserver(function (mutations, observer) {{\n",
       "        var display = window.getComputedStyle(gd).display;\n",
       "        if (!display || display === 'none') {{\n",
       "            console.log([gd, 'removed!']);\n",
       "            Plotly.purge(gd);\n",
       "            observer.disconnect();\n",
       "        }}\n",
       "}});\n",
       "\n",
       "// Listen for the removal of the full notebook cells\n",
       "var notebookContainer = gd.closest('#notebook-container');\n",
       "if (notebookContainer) {{\n",
       "    x.observe(notebookContainer, {childList: true});\n",
       "}}\n",
       "\n",
       "// Listen for the clearing of the current output cell\n",
       "var outputEl = gd.closest('.output');\n",
       "if (outputEl) {{\n",
       "    x.observe(outputEl, {childList: true});\n",
       "}}\n",
       "\n",
       "                        })                };                            </script>        </div>\n",
       "</body>\n",
       "</html>"
      ]
     },
     "metadata": {},
     "output_type": "display_data"
    }
   ],
   "source": [
    "if not config['tune_parameters']:\n",
    "    optuna_study = optuna.load_study(study_name=f'hyperparameters_tuning_{config[\"model\"]}_{config[\"metric\"]}', storage=f'sqlite:///{config[\"database_path\"]}')\n",
    "    \n",
    "fig = optuna.visualization.plot_slice(optuna_study)\n",
    "fig.show()"
   ]
  },
  {
   "cell_type": "code",
   "execution_count": 15,
   "id": "ba2e38bf",
   "metadata": {
    "execution": {
     "iopub.execute_input": "2025-01-06T23:45:32.819098Z",
     "iopub.status.busy": "2025-01-06T23:45:32.818668Z",
     "iopub.status.idle": "2025-01-06T23:45:47.108046Z",
     "shell.execute_reply": "2025-01-06T23:45:47.107023Z"
    },
    "papermill": {
     "duration": 14.398993,
     "end_time": "2025-01-06T23:45:47.109759",
     "exception": false,
     "start_time": "2025-01-06T23:45:32.710766",
     "status": "completed"
    },
    "tags": []
   },
   "outputs": [
    {
     "data": {
      "text/html": [
       "<html>\n",
       "<head><meta charset=\"utf-8\" /></head>\n",
       "<body>\n",
       "    <div>            <script src=\"https://cdnjs.cloudflare.com/ajax/libs/mathjax/2.7.5/MathJax.js?config=TeX-AMS-MML_SVG\"></script><script type=\"text/javascript\">if (window.MathJax && window.MathJax.Hub && window.MathJax.Hub.Config) {window.MathJax.Hub.Config({SVG: {font: \"STIX-Web\"}});}</script>                <script type=\"text/javascript\">window.PlotlyConfig = {MathJaxConfig: 'local'};</script>\n",
       "        <script charset=\"utf-8\" src=\"https://cdn.plot.ly/plotly-2.35.2.min.js\"></script>                <div id=\"de748bfc-d294-402d-88b0-5abde3b1cb04\" class=\"plotly-graph-div\" style=\"height:525px; width:100%;\"></div>            <script type=\"text/javascript\">                                    window.PLOTLYENV=window.PLOTLYENV || {};                                    if (document.getElementById(\"de748bfc-d294-402d-88b0-5abde3b1cb04\")) {                    Plotly.newPlot(                        \"de748bfc-d294-402d-88b0-5abde3b1cb04\",                        [{\"cliponaxis\":false,\"hovertemplate\":[\"implicit (CategoricalDistribution): 0.0039911099905781565\\u003cextra\\u003e\\u003c\\u002fextra\\u003e\",\"alpha (FloatDistribution): 0.05238271568254604\\u003cextra\\u003e\\u003c\\u002fextra\\u003e\",\"normalize_similarity (CategoricalDistribution): 0.11702200478504927\\u003cextra\\u003e\\u003c\\u002fextra\\u003e\",\"topK (IntDistribution): 0.8266041695418266\\u003cextra\\u003e\\u003c\\u002fextra\\u003e\"],\"name\":\"Objective Value\",\"orientation\":\"h\",\"text\":[\"\\u003c0.01\",\"0.05\",\"0.12\",\"0.83\"],\"textposition\":\"outside\",\"x\":[0.0039911099905781565,0.05238271568254604,0.11702200478504927,0.8266041695418266],\"y\":[\"implicit\",\"alpha\",\"normalize_similarity\",\"topK\"],\"type\":\"bar\"}],                        {\"title\":{\"text\":\"Hyperparameter Importances\"},\"xaxis\":{\"title\":{\"text\":\"Hyperparameter Importance\"}},\"yaxis\":{\"title\":{\"text\":\"Hyperparameter\"}},\"template\":{\"data\":{\"histogram2dcontour\":[{\"type\":\"histogram2dcontour\",\"colorbar\":{\"outlinewidth\":0,\"ticks\":\"\"},\"colorscale\":[[0.0,\"#0d0887\"],[0.1111111111111111,\"#46039f\"],[0.2222222222222222,\"#7201a8\"],[0.3333333333333333,\"#9c179e\"],[0.4444444444444444,\"#bd3786\"],[0.5555555555555556,\"#d8576b\"],[0.6666666666666666,\"#ed7953\"],[0.7777777777777778,\"#fb9f3a\"],[0.8888888888888888,\"#fdca26\"],[1.0,\"#f0f921\"]]}],\"choropleth\":[{\"type\":\"choropleth\",\"colorbar\":{\"outlinewidth\":0,\"ticks\":\"\"}}],\"histogram2d\":[{\"type\":\"histogram2d\",\"colorbar\":{\"outlinewidth\":0,\"ticks\":\"\"},\"colorscale\":[[0.0,\"#0d0887\"],[0.1111111111111111,\"#46039f\"],[0.2222222222222222,\"#7201a8\"],[0.3333333333333333,\"#9c179e\"],[0.4444444444444444,\"#bd3786\"],[0.5555555555555556,\"#d8576b\"],[0.6666666666666666,\"#ed7953\"],[0.7777777777777778,\"#fb9f3a\"],[0.8888888888888888,\"#fdca26\"],[1.0,\"#f0f921\"]]}],\"heatmap\":[{\"type\":\"heatmap\",\"colorbar\":{\"outlinewidth\":0,\"ticks\":\"\"},\"colorscale\":[[0.0,\"#0d0887\"],[0.1111111111111111,\"#46039f\"],[0.2222222222222222,\"#7201a8\"],[0.3333333333333333,\"#9c179e\"],[0.4444444444444444,\"#bd3786\"],[0.5555555555555556,\"#d8576b\"],[0.6666666666666666,\"#ed7953\"],[0.7777777777777778,\"#fb9f3a\"],[0.8888888888888888,\"#fdca26\"],[1.0,\"#f0f921\"]]}],\"heatmapgl\":[{\"type\":\"heatmapgl\",\"colorbar\":{\"outlinewidth\":0,\"ticks\":\"\"},\"colorscale\":[[0.0,\"#0d0887\"],[0.1111111111111111,\"#46039f\"],[0.2222222222222222,\"#7201a8\"],[0.3333333333333333,\"#9c179e\"],[0.4444444444444444,\"#bd3786\"],[0.5555555555555556,\"#d8576b\"],[0.6666666666666666,\"#ed7953\"],[0.7777777777777778,\"#fb9f3a\"],[0.8888888888888888,\"#fdca26\"],[1.0,\"#f0f921\"]]}],\"contourcarpet\":[{\"type\":\"contourcarpet\",\"colorbar\":{\"outlinewidth\":0,\"ticks\":\"\"}}],\"contour\":[{\"type\":\"contour\",\"colorbar\":{\"outlinewidth\":0,\"ticks\":\"\"},\"colorscale\":[[0.0,\"#0d0887\"],[0.1111111111111111,\"#46039f\"],[0.2222222222222222,\"#7201a8\"],[0.3333333333333333,\"#9c179e\"],[0.4444444444444444,\"#bd3786\"],[0.5555555555555556,\"#d8576b\"],[0.6666666666666666,\"#ed7953\"],[0.7777777777777778,\"#fb9f3a\"],[0.8888888888888888,\"#fdca26\"],[1.0,\"#f0f921\"]]}],\"surface\":[{\"type\":\"surface\",\"colorbar\":{\"outlinewidth\":0,\"ticks\":\"\"},\"colorscale\":[[0.0,\"#0d0887\"],[0.1111111111111111,\"#46039f\"],[0.2222222222222222,\"#7201a8\"],[0.3333333333333333,\"#9c179e\"],[0.4444444444444444,\"#bd3786\"],[0.5555555555555556,\"#d8576b\"],[0.6666666666666666,\"#ed7953\"],[0.7777777777777778,\"#fb9f3a\"],[0.8888888888888888,\"#fdca26\"],[1.0,\"#f0f921\"]]}],\"mesh3d\":[{\"type\":\"mesh3d\",\"colorbar\":{\"outlinewidth\":0,\"ticks\":\"\"}}],\"scatter\":[{\"fillpattern\":{\"fillmode\":\"overlay\",\"size\":10,\"solidity\":0.2},\"type\":\"scatter\"}],\"parcoords\":[{\"type\":\"parcoords\",\"line\":{\"colorbar\":{\"outlinewidth\":0,\"ticks\":\"\"}}}],\"scatterpolargl\":[{\"type\":\"scatterpolargl\",\"marker\":{\"colorbar\":{\"outlinewidth\":0,\"ticks\":\"\"}}}],\"bar\":[{\"error_x\":{\"color\":\"#2a3f5f\"},\"error_y\":{\"color\":\"#2a3f5f\"},\"marker\":{\"line\":{\"color\":\"#E5ECF6\",\"width\":0.5},\"pattern\":{\"fillmode\":\"overlay\",\"size\":10,\"solidity\":0.2}},\"type\":\"bar\"}],\"scattergeo\":[{\"type\":\"scattergeo\",\"marker\":{\"colorbar\":{\"outlinewidth\":0,\"ticks\":\"\"}}}],\"scatterpolar\":[{\"type\":\"scatterpolar\",\"marker\":{\"colorbar\":{\"outlinewidth\":0,\"ticks\":\"\"}}}],\"histogram\":[{\"marker\":{\"pattern\":{\"fillmode\":\"overlay\",\"size\":10,\"solidity\":0.2}},\"type\":\"histogram\"}],\"scattergl\":[{\"type\":\"scattergl\",\"marker\":{\"colorbar\":{\"outlinewidth\":0,\"ticks\":\"\"}}}],\"scatter3d\":[{\"type\":\"scatter3d\",\"line\":{\"colorbar\":{\"outlinewidth\":0,\"ticks\":\"\"}},\"marker\":{\"colorbar\":{\"outlinewidth\":0,\"ticks\":\"\"}}}],\"scattermapbox\":[{\"type\":\"scattermapbox\",\"marker\":{\"colorbar\":{\"outlinewidth\":0,\"ticks\":\"\"}}}],\"scatterternary\":[{\"type\":\"scatterternary\",\"marker\":{\"colorbar\":{\"outlinewidth\":0,\"ticks\":\"\"}}}],\"scattercarpet\":[{\"type\":\"scattercarpet\",\"marker\":{\"colorbar\":{\"outlinewidth\":0,\"ticks\":\"\"}}}],\"carpet\":[{\"aaxis\":{\"endlinecolor\":\"#2a3f5f\",\"gridcolor\":\"white\",\"linecolor\":\"white\",\"minorgridcolor\":\"white\",\"startlinecolor\":\"#2a3f5f\"},\"baxis\":{\"endlinecolor\":\"#2a3f5f\",\"gridcolor\":\"white\",\"linecolor\":\"white\",\"minorgridcolor\":\"white\",\"startlinecolor\":\"#2a3f5f\"},\"type\":\"carpet\"}],\"table\":[{\"cells\":{\"fill\":{\"color\":\"#EBF0F8\"},\"line\":{\"color\":\"white\"}},\"header\":{\"fill\":{\"color\":\"#C8D4E3\"},\"line\":{\"color\":\"white\"}},\"type\":\"table\"}],\"barpolar\":[{\"marker\":{\"line\":{\"color\":\"#E5ECF6\",\"width\":0.5},\"pattern\":{\"fillmode\":\"overlay\",\"size\":10,\"solidity\":0.2}},\"type\":\"barpolar\"}],\"pie\":[{\"automargin\":true,\"type\":\"pie\"}]},\"layout\":{\"autotypenumbers\":\"strict\",\"colorway\":[\"#636efa\",\"#EF553B\",\"#00cc96\",\"#ab63fa\",\"#FFA15A\",\"#19d3f3\",\"#FF6692\",\"#B6E880\",\"#FF97FF\",\"#FECB52\"],\"font\":{\"color\":\"#2a3f5f\"},\"hovermode\":\"closest\",\"hoverlabel\":{\"align\":\"left\"},\"paper_bgcolor\":\"white\",\"plot_bgcolor\":\"#E5ECF6\",\"polar\":{\"bgcolor\":\"#E5ECF6\",\"angularaxis\":{\"gridcolor\":\"white\",\"linecolor\":\"white\",\"ticks\":\"\"},\"radialaxis\":{\"gridcolor\":\"white\",\"linecolor\":\"white\",\"ticks\":\"\"}},\"ternary\":{\"bgcolor\":\"#E5ECF6\",\"aaxis\":{\"gridcolor\":\"white\",\"linecolor\":\"white\",\"ticks\":\"\"},\"baxis\":{\"gridcolor\":\"white\",\"linecolor\":\"white\",\"ticks\":\"\"},\"caxis\":{\"gridcolor\":\"white\",\"linecolor\":\"white\",\"ticks\":\"\"}},\"coloraxis\":{\"colorbar\":{\"outlinewidth\":0,\"ticks\":\"\"}},\"colorscale\":{\"sequential\":[[0.0,\"#0d0887\"],[0.1111111111111111,\"#46039f\"],[0.2222222222222222,\"#7201a8\"],[0.3333333333333333,\"#9c179e\"],[0.4444444444444444,\"#bd3786\"],[0.5555555555555556,\"#d8576b\"],[0.6666666666666666,\"#ed7953\"],[0.7777777777777778,\"#fb9f3a\"],[0.8888888888888888,\"#fdca26\"],[1.0,\"#f0f921\"]],\"sequentialminus\":[[0.0,\"#0d0887\"],[0.1111111111111111,\"#46039f\"],[0.2222222222222222,\"#7201a8\"],[0.3333333333333333,\"#9c179e\"],[0.4444444444444444,\"#bd3786\"],[0.5555555555555556,\"#d8576b\"],[0.6666666666666666,\"#ed7953\"],[0.7777777777777778,\"#fb9f3a\"],[0.8888888888888888,\"#fdca26\"],[1.0,\"#f0f921\"]],\"diverging\":[[0,\"#8e0152\"],[0.1,\"#c51b7d\"],[0.2,\"#de77ae\"],[0.3,\"#f1b6da\"],[0.4,\"#fde0ef\"],[0.5,\"#f7f7f7\"],[0.6,\"#e6f5d0\"],[0.7,\"#b8e186\"],[0.8,\"#7fbc41\"],[0.9,\"#4d9221\"],[1,\"#276419\"]]},\"xaxis\":{\"gridcolor\":\"white\",\"linecolor\":\"white\",\"ticks\":\"\",\"title\":{\"standoff\":15},\"zerolinecolor\":\"white\",\"automargin\":true,\"zerolinewidth\":2},\"yaxis\":{\"gridcolor\":\"white\",\"linecolor\":\"white\",\"ticks\":\"\",\"title\":{\"standoff\":15},\"zerolinecolor\":\"white\",\"automargin\":true,\"zerolinewidth\":2},\"scene\":{\"xaxis\":{\"backgroundcolor\":\"#E5ECF6\",\"gridcolor\":\"white\",\"linecolor\":\"white\",\"showbackground\":true,\"ticks\":\"\",\"zerolinecolor\":\"white\",\"gridwidth\":2},\"yaxis\":{\"backgroundcolor\":\"#E5ECF6\",\"gridcolor\":\"white\",\"linecolor\":\"white\",\"showbackground\":true,\"ticks\":\"\",\"zerolinecolor\":\"white\",\"gridwidth\":2},\"zaxis\":{\"backgroundcolor\":\"#E5ECF6\",\"gridcolor\":\"white\",\"linecolor\":\"white\",\"showbackground\":true,\"ticks\":\"\",\"zerolinecolor\":\"white\",\"gridwidth\":2}},\"shapedefaults\":{\"line\":{\"color\":\"#2a3f5f\"}},\"annotationdefaults\":{\"arrowcolor\":\"#2a3f5f\",\"arrowhead\":0,\"arrowwidth\":1},\"geo\":{\"bgcolor\":\"white\",\"landcolor\":\"#E5ECF6\",\"subunitcolor\":\"white\",\"showland\":true,\"showlakes\":true,\"lakecolor\":\"white\"},\"title\":{\"x\":0.05},\"mapbox\":{\"style\":\"light\"}}}},                        {\"responsive\": true}                    ).then(function(){\n",
       "                            \n",
       "var gd = document.getElementById('de748bfc-d294-402d-88b0-5abde3b1cb04');\n",
       "var x = new MutationObserver(function (mutations, observer) {{\n",
       "        var display = window.getComputedStyle(gd).display;\n",
       "        if (!display || display === 'none') {{\n",
       "            console.log([gd, 'removed!']);\n",
       "            Plotly.purge(gd);\n",
       "            observer.disconnect();\n",
       "        }}\n",
       "}});\n",
       "\n",
       "// Listen for the removal of the full notebook cells\n",
       "var notebookContainer = gd.closest('#notebook-container');\n",
       "if (notebookContainer) {{\n",
       "    x.observe(notebookContainer, {childList: true});\n",
       "}}\n",
       "\n",
       "// Listen for the clearing of the current output cell\n",
       "var outputEl = gd.closest('.output');\n",
       "if (outputEl) {{\n",
       "    x.observe(outputEl, {childList: true});\n",
       "}}\n",
       "\n",
       "                        })                };                            </script>        </div>\n",
       "</body>\n",
       "</html>"
      ]
     },
     "metadata": {},
     "output_type": "display_data"
    }
   ],
   "source": [
    "if not config['tune_parameters']:\n",
    "    optuna_study = optuna.load_study(study_name=f'hyperparameters_tuning_{config[\"model\"]}_{config[\"metric\"]}', storage=f'sqlite:///{config[\"database_path\"]}')\n",
    "    \n",
    "fig = optuna.visualization.plot_param_importances(optuna_study)\n",
    "fig.show()"
   ]
  },
  {
   "cell_type": "markdown",
   "id": "96217d50",
   "metadata": {
    "papermill": {
     "duration": 0.105875,
     "end_time": "2025-01-06T23:45:47.321014",
     "exception": false,
     "start_time": "2025-01-06T23:45:47.215139",
     "status": "completed"
    },
    "tags": []
   },
   "source": [
    "## Let's train the recommender with best parameter values"
   ]
  },
  {
   "cell_type": "code",
   "execution_count": 16,
   "id": "222bbf55",
   "metadata": {
    "execution": {
     "iopub.execute_input": "2025-01-06T23:45:47.533560Z",
     "iopub.status.busy": "2025-01-06T23:45:47.533186Z",
     "iopub.status.idle": "2025-01-06T23:46:06.869716Z",
     "shell.execute_reply": "2025-01-06T23:46:06.868477Z"
    },
    "papermill": {
     "duration": 19.445847,
     "end_time": "2025-01-06T23:46:06.871843",
     "exception": false,
     "start_time": "2025-01-06T23:45:47.425996",
     "status": "completed"
    },
    "tags": []
   },
   "outputs": [
    {
     "name": "stdout",
     "output_type": "stream",
     "text": [
      "P3alphaRecommender: Similarity column 38121 (100.0%), 2096.80 column/sec. Elapsed time 18.18 sec\n"
     ]
    }
   ],
   "source": [
    "if config['tune_best_params']:\n",
    "\n",
    "    if config['tune_parameters']:\n",
    "        best_params = optuna_study.best_trial.params\n",
    "    else: \n",
    "        with open(f'{K_PATH}/{GH_PATH}/{config[\"model\"]}Recommender/Optimizing{config[\"metric\"]}/best_params_{config[\"model\"]}_{config[\"metric\"]}.json', 'r') as best_params_json:\n",
    "            best_params = json.load(best_params_json)\n",
    "\n",
    "    recommender_instance = P3alphaRecommender(URM_train + URM_validation)\n",
    "    recommender_instance.fit(**best_params)"
   ]
  },
  {
   "cell_type": "markdown",
   "id": "eff5121e",
   "metadata": {
    "papermill": {
     "duration": 0.108619,
     "end_time": "2025-01-06T23:46:07.089118",
     "exception": false,
     "start_time": "2025-01-06T23:46:06.980499",
     "status": "completed"
    },
    "tags": []
   },
   "source": [
    "# Testing"
   ]
  },
  {
   "cell_type": "markdown",
   "id": "78177c92",
   "metadata": {
    "papermill": {
     "duration": 0.105313,
     "end_time": "2025-01-06T23:46:07.300226",
     "exception": false,
     "start_time": "2025-01-06T23:46:07.194913",
     "status": "completed"
    },
    "tags": []
   },
   "source": [
    "Create the recommendations for the submission. "
   ]
  },
  {
   "cell_type": "code",
   "execution_count": 17,
   "id": "cfbd4778",
   "metadata": {
    "execution": {
     "iopub.execute_input": "2025-01-06T23:46:07.517401Z",
     "iopub.status.busy": "2025-01-06T23:46:07.516930Z",
     "iopub.status.idle": "2025-01-06T23:46:27.867442Z",
     "shell.execute_reply": "2025-01-06T23:46:27.866407Z"
    },
    "papermill": {
     "duration": 20.460663,
     "end_time": "2025-01-06T23:46:27.869079",
     "exception": false,
     "start_time": "2025-01-06T23:46:07.408416",
     "status": "completed"
    },
    "tags": []
   },
   "outputs": [
    {
     "name": "stdout",
     "output_type": "stream",
     "text": [
      "Submission file saved as /kaggle/working/submission_P3alpha_MAP.csv\n"
     ]
    }
   ],
   "source": [
    "if config['tune_best_params']:\n",
    "\n",
    "    data_target_users_test = pd.read_csv('/kaggle/input/recommender-system-2024-challenge-polimi/data_target_users_test.csv')\n",
    "    create_submission(data_target_users_test, recommender_instance, f'/kaggle/working/submission_{config[\"model\"]}_{config[\"metric\"]}.csv')"
   ]
  },
  {
   "cell_type": "markdown",
   "id": "0283b71f",
   "metadata": {
    "execution": {
     "iopub.execute_input": "2024-11-14T00:04:16.877791Z",
     "iopub.status.busy": "2024-11-14T00:04:16.877275Z",
     "iopub.status.idle": "2024-11-14T00:04:16.883170Z",
     "shell.execute_reply": "2024-11-14T00:04:16.881889Z",
     "shell.execute_reply.started": "2024-11-14T00:04:16.877743Z"
    },
    "papermill": {
     "duration": 0.105697,
     "end_time": "2025-01-06T23:46:28.079674",
     "exception": false,
     "start_time": "2025-01-06T23:46:27.973977",
     "status": "completed"
    },
    "tags": []
   },
   "source": [
    "# Save Version on GitHub "
   ]
  },
  {
   "cell_type": "markdown",
   "id": "9b1cc6ea",
   "metadata": {
    "papermill": {
     "duration": 0.103526,
     "end_time": "2025-01-06T23:46:28.287232",
     "exception": false,
     "start_time": "2025-01-06T23:46:28.183706",
     "status": "completed"
    },
    "tags": []
   },
   "source": [
    "Write or import a json file where best hyperparameters are saved. "
   ]
  },
  {
   "cell_type": "code",
   "execution_count": 18,
   "id": "5b4c78c7",
   "metadata": {
    "execution": {
     "iopub.execute_input": "2025-01-06T23:46:28.497659Z",
     "iopub.status.busy": "2025-01-06T23:46:28.497256Z",
     "iopub.status.idle": "2025-01-06T23:46:30.125286Z",
     "shell.execute_reply": "2025-01-06T23:46:30.124043Z"
    },
    "papermill": {
     "duration": 1.736206,
     "end_time": "2025-01-06T23:46:30.127116",
     "exception": false,
     "start_time": "2025-01-06T23:46:28.390910",
     "status": "completed"
    },
    "tags": []
   },
   "outputs": [
    {
     "name": "stdout",
     "output_type": "stream",
     "text": [
      "File 'TrainedModels/WithKFCV/GraphBased/P3alphaRecommender/OptimizingMAP/best_params_P3alpha_MAP.json' updated successfully.\n"
     ]
    }
   ],
   "source": [
    "if config['tune_parameters']:\n",
    "    with open(f'/kaggle/working/best_params_{config[\"model\"]}_{config[\"metric\"]}.json', 'w') as params_file:\n",
    "        json.dump(optuna_study.best_params, params_file)\n",
    "        \n",
    "    if config['save_github']:\n",
    "        upload_file(\n",
    "            f'/kaggle/working/best_params_{config[\"model\"]}_{config[\"metric\"]}.json', \n",
    "            f'{GH_PATH}/{config[\"model\"]}Recommender/Optimizing{config[\"metric\"]}/best_params_{config[\"model\"]}_{config[\"metric\"]}.json', \n",
    "            f'{config[\"model\"]}_{config[\"metric\"]} tuning results (from kaggle notebook)',\n",
    "            repo\n",
    "        )\n",
    "elif config['copy_prev_best_params']:\n",
    "    shutil.copyfile(\n",
    "        f'{K_PATH}/{GH_PATH}/{config[\"model\"]}Recommender/Optimizing{config[\"metric\"]}/'\\\n",
    "        f'best_params_{config[\"model\"]}_{config[\"metric\"]}.json', \n",
    "        f'/kaggle/working/best_params_{config[\"model\"]}_{config[\"metric\"]}.json'\n",
    "    )"
   ]
  },
  {
   "cell_type": "markdown",
   "id": "c0fb6695",
   "metadata": {
    "execution": {
     "iopub.execute_input": "2024-11-14T00:41:34.294243Z",
     "iopub.status.busy": "2024-11-14T00:41:34.293739Z",
     "iopub.status.idle": "2024-11-14T00:41:34.301478Z",
     "shell.execute_reply": "2024-11-14T00:41:34.299869Z",
     "shell.execute_reply.started": "2024-11-14T00:41:34.294186Z"
    },
    "papermill": {
     "duration": 0.225449,
     "end_time": "2025-01-06T23:46:30.458162",
     "exception": false,
     "start_time": "2025-01-06T23:46:30.232713",
     "status": "completed"
    },
    "tags": []
   },
   "source": [
    "Save the history of the tuned model."
   ]
  },
  {
   "cell_type": "code",
   "execution_count": 19,
   "id": "3f051fe3",
   "metadata": {
    "execution": {
     "iopub.execute_input": "2025-01-06T23:46:30.666793Z",
     "iopub.status.busy": "2025-01-06T23:46:30.666451Z",
     "iopub.status.idle": "2025-01-06T23:46:33.001339Z",
     "shell.execute_reply": "2025-01-06T23:46:33.000284Z"
    },
    "papermill": {
     "duration": 2.440992,
     "end_time": "2025-01-06T23:46:33.003271",
     "exception": false,
     "start_time": "2025-01-06T23:46:30.562279",
     "status": "completed"
    },
    "tags": []
   },
   "outputs": [
    {
     "name": "stdout",
     "output_type": "stream",
     "text": [
      "File 'TrainedModels/WithKFCV/GraphBased/P3alphaRecommender/OptimizingMAP/history_P3alpha_MAP.db' updated successfully.\n"
     ]
    }
   ],
   "source": [
    "if config['save_github'] and config['tune_parameters']:\n",
    "    upload_file(\n",
    "        config['database_path'], \n",
    "        f'{GH_PATH}/{config[\"model\"]}Recommender/Optimizing{config[\"metric\"]}/history_{config[\"model\"]}_{config[\"metric\"]}.db',\n",
    "        f'Tuning {config[\"model\"]}_{config[\"metric\"]} db updated results (from kaggle notebook)',\n",
    "        repo\n",
    "    )"
   ]
  },
  {
   "cell_type": "markdown",
   "id": "16924f41",
   "metadata": {
    "papermill": {
     "duration": 0.106175,
     "end_time": "2025-01-06T23:46:33.214095",
     "exception": false,
     "start_time": "2025-01-06T23:46:33.107920",
     "status": "completed"
    },
    "tags": []
   },
   "source": [
    "Save the best trained model and its submission."
   ]
  },
  {
   "cell_type": "code",
   "execution_count": 20,
   "id": "06bfa798",
   "metadata": {
    "execution": {
     "iopub.execute_input": "2025-01-06T23:46:33.426148Z",
     "iopub.status.busy": "2025-01-06T23:46:33.425734Z",
     "iopub.status.idle": "2025-01-06T23:46:35.543513Z",
     "shell.execute_reply": "2025-01-06T23:46:35.542288Z"
    },
    "papermill": {
     "duration": 2.226094,
     "end_time": "2025-01-06T23:46:35.545363",
     "exception": false,
     "start_time": "2025-01-06T23:46:33.319269",
     "status": "completed"
    },
    "tags": []
   },
   "outputs": [
    {
     "name": "stdout",
     "output_type": "stream",
     "text": [
      "File 'TrainedModels/WithKFCV/GraphBased/P3alphaRecommender/OptimizingMAP/Submission/submission_P3alpha_MAP.csv' updated successfully.\n"
     ]
    }
   ],
   "source": [
    "if config['save_github'] and config['tune_best_params']: \n",
    "    upload_file(\n",
    "                f'/kaggle/working/submission_{config[\"model\"]}_{config[\"metric\"]}.csv', \n",
    "                f'{GH_PATH}/{config[\"model\"]}Recommender/Optimizing{config[\"metric\"]}/Submission/submission_{config[\"model\"]}_{config[\"metric\"]}.csv', \n",
    "                f'New {config[\"model\"]}_{config[\"metric\"]} submission (from kaggle notebook)',\n",
    "                repo\n",
    "            )"
   ]
  }
 ],
 "metadata": {
  "kaggle": {
   "accelerator": "none",
   "dataSources": [
    {
     "databundleVersionId": 9982103,
     "sourceId": 87439,
     "sourceType": "competition"
    }
   ],
   "dockerImageVersionId": 30822,
   "isGpuEnabled": false,
   "isInternetEnabled": true,
   "language": "python",
   "sourceType": "notebook"
  },
  "kernelspec": {
   "display_name": "Python 3",
   "language": "python",
   "name": "python3"
  },
  "language_info": {
   "codemirror_mode": {
    "name": "ipython",
    "version": 3
   },
   "file_extension": ".py",
   "mimetype": "text/x-python",
   "name": "python",
   "nbconvert_exporter": "python",
   "pygments_lexer": "ipython3",
   "version": "3.10.12"
  },
  "papermill": {
   "default_parameters": {},
   "duration": 25753.556931,
   "end_time": "2025-01-06T23:46:36.908174",
   "environment_variables": {},
   "exception": null,
   "input_path": "__notebook__.ipynb",
   "output_path": "__notebook__.ipynb",
   "parameters": {},
   "start_time": "2025-01-06T16:37:23.351243",
   "version": "2.6.0"
  }
 },
 "nbformat": 4,
 "nbformat_minor": 5
}
