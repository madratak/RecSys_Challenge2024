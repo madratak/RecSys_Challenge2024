{
 "cells": [
  {
   "cell_type": "markdown",
   "id": "a17f1518",
   "metadata": {
    "papermill": {
     "duration": 0.00718,
     "end_time": "2025-01-06T23:50:28.641346",
     "exception": false,
     "start_time": "2025-01-06T23:50:28.634166",
     "status": "completed"
    },
    "tags": []
   },
   "source": [
    "# Set connection with GitHub"
   ]
  },
  {
   "cell_type": "code",
   "execution_count": 1,
   "id": "eeb4dfe0",
   "metadata": {
    "execution": {
     "iopub.execute_input": "2025-01-06T23:50:28.654728Z",
     "iopub.status.busy": "2025-01-06T23:50:28.654264Z",
     "iopub.status.idle": "2025-01-06T23:50:28.660152Z",
     "shell.execute_reply": "2025-01-06T23:50:28.658986Z"
    },
    "papermill": {
     "duration": 0.014645,
     "end_time": "2025-01-06T23:50:28.662089",
     "exception": false,
     "start_time": "2025-01-06T23:50:28.647444",
     "status": "completed"
    },
    "tags": []
   },
   "outputs": [],
   "source": [
    "# ! cd /kaggle/working && rm -rf RECsys_Challenge2024"
   ]
  },
  {
   "cell_type": "code",
   "execution_count": 2,
   "id": "0be11b03",
   "metadata": {
    "_cell_guid": "b1076dfc-b9ad-4769-8c92-a6c4dae69d19",
    "_uuid": "8f2839f25d086af736a60e9eeb907d3b93b6e0e5",
    "execution": {
     "iopub.execute_input": "2025-01-06T23:50:28.675436Z",
     "iopub.status.busy": "2025-01-06T23:50:28.675100Z",
     "iopub.status.idle": "2025-01-06T23:50:45.289723Z",
     "shell.execute_reply": "2025-01-06T23:50:45.288312Z"
    },
    "papermill": {
     "duration": 16.623552,
     "end_time": "2025-01-06T23:50:45.291705",
     "exception": false,
     "start_time": "2025-01-06T23:50:28.668153",
     "status": "completed"
    },
    "tags": []
   },
   "outputs": [
    {
     "name": "stdout",
     "output_type": "stream",
     "text": [
      "Cloning into 'RECsys_Challenge2024'...\r\n",
      "remote: Enumerating objects: 7232, done.\u001b[K\r\n",
      "remote: Counting objects: 100% (78/78), done.\u001b[K\r\n",
      "remote: Compressing objects: 100% (67/67), done.\u001b[K\r\n",
      "remote: Total 7232 (delta 28), reused 0 (delta 0), pack-reused 7154 (from 5)\u001b[K\r\n",
      "Receiving objects: 100% (7232/7232), 418.03 MiB | 35.08 MiB/s, done.\r\n",
      "Resolving deltas: 100% (3909/3909), done.\r\n",
      "Updating files: 100% (506/506), done.\r\n"
     ]
    }
   ],
   "source": [
    "from kaggle_secrets import UserSecretsClient\n",
    "\n",
    "token = UserSecretsClient().get_secret(\"Token\")\n",
    "\n",
    "! git clone https://{token}@github.com/madratak/RECsys_Challenge2024.git"
   ]
  },
  {
   "cell_type": "code",
   "execution_count": 3,
   "id": "ebb1a07a",
   "metadata": {
    "execution": {
     "iopub.execute_input": "2025-01-06T23:50:45.316301Z",
     "iopub.status.busy": "2025-01-06T23:50:45.315920Z",
     "iopub.status.idle": "2025-01-06T23:50:52.515920Z",
     "shell.execute_reply": "2025-01-06T23:50:52.514388Z"
    },
    "papermill": {
     "duration": 7.214531,
     "end_time": "2025-01-06T23:50:52.518062",
     "exception": false,
     "start_time": "2025-01-06T23:50:45.303531",
     "status": "completed"
    },
    "tags": []
   },
   "outputs": [
    {
     "name": "stdout",
     "output_type": "stream",
     "text": [
      "Collecting PyGithub\r\n",
      "  Downloading PyGithub-2.5.0-py3-none-any.whl.metadata (3.9 kB)\r\n",
      "Requirement already satisfied: requests in /usr/local/lib/python3.10/dist-packages (2.32.3)\r\n",
      "Collecting pynacl>=1.4.0 (from PyGithub)\r\n",
      "  Downloading PyNaCl-1.5.0-cp36-abi3-manylinux_2_17_x86_64.manylinux2014_x86_64.manylinux_2_24_x86_64.whl.metadata (8.6 kB)\r\n",
      "Requirement already satisfied: pyjwt>=2.4.0 in /usr/local/lib/python3.10/dist-packages (from pyjwt[crypto]>=2.4.0->PyGithub) (2.9.0)\r\n",
      "Requirement already satisfied: typing-extensions>=4.0.0 in /usr/local/lib/python3.10/dist-packages (from PyGithub) (4.12.2)\r\n",
      "Requirement already satisfied: urllib3>=1.26.0 in /usr/local/lib/python3.10/dist-packages (from PyGithub) (2.2.3)\r\n",
      "Requirement already satisfied: Deprecated in /usr/local/lib/python3.10/dist-packages (from PyGithub) (1.2.15)\r\n",
      "Requirement already satisfied: charset-normalizer<4,>=2 in /usr/local/lib/python3.10/dist-packages (from requests) (3.3.2)\r\n",
      "Requirement already satisfied: idna<4,>=2.5 in /usr/local/lib/python3.10/dist-packages (from requests) (3.10)\r\n",
      "Requirement already satisfied: certifi>=2017.4.17 in /usr/local/lib/python3.10/dist-packages (from requests) (2024.8.30)\r\n",
      "Requirement already satisfied: cryptography>=3.4.0 in /usr/local/lib/python3.10/dist-packages (from pyjwt[crypto]>=2.4.0->PyGithub) (43.0.1)\r\n",
      "Requirement already satisfied: cffi>=1.4.1 in /usr/local/lib/python3.10/dist-packages (from pynacl>=1.4.0->PyGithub) (1.17.1)\r\n",
      "Requirement already satisfied: wrapt<2,>=1.10 in /usr/local/lib/python3.10/dist-packages (from Deprecated->PyGithub) (1.16.0)\r\n",
      "Requirement already satisfied: pycparser in /usr/local/lib/python3.10/dist-packages (from cffi>=1.4.1->pynacl>=1.4.0->PyGithub) (2.22)\r\n",
      "Downloading PyGithub-2.5.0-py3-none-any.whl (375 kB)\r\n",
      "\u001b[2K   \u001b[90m━━━━━━━━━━━━━━━━━━━━━━━━━━━━━━━━━━━━━━━━\u001b[0m \u001b[32m375.9/375.9 kB\u001b[0m \u001b[31m6.6 MB/s\u001b[0m eta \u001b[36m0:00:00\u001b[0m\r\n",
      "\u001b[?25hDownloading PyNaCl-1.5.0-cp36-abi3-manylinux_2_17_x86_64.manylinux2014_x86_64.manylinux_2_24_x86_64.whl (856 kB)\r\n",
      "\u001b[2K   \u001b[90m━━━━━━━━━━━━━━━━━━━━━━━━━━━━━━━━━━━━━━━━\u001b[0m \u001b[32m856.7/856.7 kB\u001b[0m \u001b[31m23.4 MB/s\u001b[0m eta \u001b[36m0:00:00\u001b[0m\r\n",
      "\u001b[?25hInstalling collected packages: pynacl, PyGithub\r\n",
      "Successfully installed PyGithub-2.5.0 pynacl-1.5.0\r\n"
     ]
    }
   ],
   "source": [
    "! pip install PyGithub requests"
   ]
  },
  {
   "cell_type": "code",
   "execution_count": 4,
   "id": "11e290a7",
   "metadata": {
    "_kg_hide-input": false,
    "execution": {
     "iopub.execute_input": "2025-01-06T23:50:52.544335Z",
     "iopub.status.busy": "2025-01-06T23:50:52.543963Z",
     "iopub.status.idle": "2025-01-06T23:53:40.829125Z",
     "shell.execute_reply": "2025-01-06T23:53:40.827752Z"
    },
    "papermill": {
     "duration": 168.300319,
     "end_time": "2025-01-06T23:53:40.831095",
     "exception": false,
     "start_time": "2025-01-06T23:50:52.530776",
     "status": "completed"
    },
    "tags": []
   },
   "outputs": [
    {
     "name": "stdout",
     "output_type": "stream",
     "text": [
      "/kaggle/working/RECsys_Challenge2024\n",
      "run_compile_all_cython: Found 11 Cython files in 5 folders...\r\n",
      "run_compile_all_cython: All files will be compiled using your current python environment: '/usr/bin/python3'\r\n",
      "Compiling [1/11]: MatrixFactorization_Cython_Epoch.pyx... \r\n",
      "In file included from \u001b[01m\u001b[K/usr/local/lib/python3.10/dist-packages/numpy/core/include/numpy/ndarraytypes.h:1929\u001b[m\u001b[K,\r\n",
      "                 from \u001b[01m\u001b[K/usr/local/lib/python3.10/dist-packages/numpy/core/include/numpy/ndarrayobject.h:12\u001b[m\u001b[K,\r\n",
      "                 from \u001b[01m\u001b[K/usr/local/lib/python3.10/dist-packages/numpy/core/include/numpy/arrayobject.h:5\u001b[m\u001b[K,\r\n",
      "                 from \u001b[01m\u001b[KMatrixFactorization_Cython_Epoch.c:1252\u001b[m\u001b[K:\r\n",
      "\u001b[01m\u001b[K/usr/local/lib/python3.10/dist-packages/numpy/core/include/numpy/npy_1_7_deprecated_api.h:17:2:\u001b[m\u001b[K \u001b[01;35m\u001b[Kwarning: \u001b[m\u001b[K#warning \"Using deprecated NumPy API, disable it with \" \"#define NPY_NO_DEPRECATED_API NPY_1_7_API_VERSION\" [\u001b[01;35m\u001b[K\u001b]8;;https://gcc.gnu.org/onlinedocs/gcc/Warning-Options.html#index-Wcpp\u0007-Wcpp\u001b]8;;\u0007\u001b[m\u001b[K]\r\n",
      "   17 | #\u001b[01;35m\u001b[Kwarning\u001b[m\u001b[K \"Using deprecated NumPy API, disable it with \" \\\r\n",
      "      |  \u001b[01;35m\u001b[K^~~~~~~\u001b[m\u001b[K\r\n",
      "\u001b[01m\u001b[KMatrixFactorization_Cython_Epoch.c:\u001b[m\u001b[K In function ‘\u001b[01m\u001b[K__pyx_pf_32MatrixFactorization_Cython_Epoch_32MatrixFactorization_Cython_Epoch_10epochIteration_Cython_ASY_SVD_SGD\u001b[m\u001b[K’:\r\n",
      "\u001b[01m\u001b[KMatrixFactorization_Cython_Epoch.c:26256:68:\u001b[m\u001b[K \u001b[01;35m\u001b[Kwarning: \u001b[m\u001b[K‘\u001b[01m\u001b[K__pyx_v_end_pos_seen_items\u001b[m\u001b[K’ may be used uninitialized in this function [\u001b[01;35m\u001b[K\u001b]8;;https://gcc.gnu.org/onlinedocs/gcc/Warning-Options.html#index-Wmaybe-uninitialized\u0007-Wmaybe-uninitialized\u001b]8;;\u0007\u001b[m\u001b[K]\r\n",
      "26256 |         for (__pyx_t_22 = __pyx_v_start_pos_seen_items; \u001b[01;35m\u001b[K__pyx_t_22 < __pyx_t_21\u001b[m\u001b[K; __pyx_t_22+=1) {\r\n",
      "      |                                                         \u001b[01;35m\u001b[K~~~~~~~~~~~^~~~~~~~~~~~\u001b[m\u001b[K\r\n",
      "\u001b[01m\u001b[KMatrixFactorization_Cython_Epoch.c:26256:68:\u001b[m\u001b[K \u001b[01;35m\u001b[Kwarning: \u001b[m\u001b[K‘\u001b[01m\u001b[K__pyx_v_start_pos_seen_items\u001b[m\u001b[K’ may be used uninitialized in this function [\u001b[01;35m\u001b[K\u001b]8;;https://gcc.gnu.org/onlinedocs/gcc/Warning-Options.html#index-Wmaybe-uninitialized\u0007-Wmaybe-uninitialized\u001b]8;;\u0007\u001b[m\u001b[K]\r\n",
      "/usr/local/lib/python3.10/dist-packages/Cython/Compiler/Main.py:381: FutureWarning: Cython directive 'language_level' not set, using '3str' for now (Py3). This has changed from earlier releases! File: /kaggle/working/RECsys_Challenge2024/Recommenders/MatrixFactorization/Cython/MatrixFactorization_Cython_Epoch.pyx\r\n",
      "  tree = Parsing.p_module(s, pxd, full_module_name)\r\n",
      "Compiling [1/11]: MatrixFactorization_Cython_Epoch.pyx... PASS\r\n",
      "\r\n",
      "Compiling [2/11]: MatrixFactorizationImpressions_Cython_Epoch.pyx... \r\n",
      "In file included from \u001b[01m\u001b[K/usr/local/lib/python3.10/dist-packages/numpy/core/include/numpy/ndarraytypes.h:1929\u001b[m\u001b[K,\r\n",
      "                 from \u001b[01m\u001b[K/usr/local/lib/python3.10/dist-packages/numpy/core/include/numpy/ndarrayobject.h:12\u001b[m\u001b[K,\r\n",
      "                 from \u001b[01m\u001b[K/usr/local/lib/python3.10/dist-packages/numpy/core/include/numpy/arrayobject.h:5\u001b[m\u001b[K,\r\n",
      "                 from \u001b[01m\u001b[KMatrixFactorizationImpressions_Cython_Epoch.c:1252\u001b[m\u001b[K:\r\n",
      "\u001b[01m\u001b[K/usr/local/lib/python3.10/dist-packages/numpy/core/include/numpy/npy_1_7_deprecated_api.h:17:2:\u001b[m\u001b[K \u001b[01;35m\u001b[Kwarning: \u001b[m\u001b[K#warning \"Using deprecated NumPy API, disable it with \" \"#define NPY_NO_DEPRECATED_API NPY_1_7_API_VERSION\" [\u001b[01;35m\u001b[K\u001b]8;;https://gcc.gnu.org/onlinedocs/gcc/Warning-Options.html#index-Wcpp\u0007-Wcpp\u001b]8;;\u0007\u001b[m\u001b[K]\r\n",
      "   17 | #\u001b[01;35m\u001b[Kwarning\u001b[m\u001b[K \"Using deprecated NumPy API, disable it with \" \\\r\n",
      "      |  \u001b[01;35m\u001b[K^~~~~~~\u001b[m\u001b[K\r\n",
      "\u001b[01m\u001b[KMatrixFactorizationImpressions_Cython_Epoch.c:\u001b[m\u001b[K In function ‘\u001b[01m\u001b[K__pyx_f_43MatrixFactorizationImpressions_Cython_Epoch_32MatrixFactorization_Cython_Epoch_sampleBPR_Cython\u001b[m\u001b[K’:\r\n",
      "\u001b[01m\u001b[KMatrixFactorizationImpressions_Cython_Epoch.c:30353:17:\u001b[m\u001b[K \u001b[01;35m\u001b[Kwarning: \u001b[m\u001b[K‘\u001b[01m\u001b[K__pyx_v_start_pos_impression_items\u001b[m\u001b[K’ may be used uninitialized in this function [\u001b[01;35m\u001b[K\u001b]8;;https://gcc.gnu.org/onlinedocs/gcc/Warning-Options.html#index-Wmaybe-uninitialized\u0007-Wmaybe-uninitialized\u001b]8;;\u0007\u001b[m\u001b[K]\r\n",
      "30353 |       \u001b[01;35m\u001b[K__pyx_t_4 = (__pyx_v_start_pos_impression_items + __pyx_v_index)\u001b[m\u001b[K;\r\n",
      "      |       \u001b[01;35m\u001b[K~~~~~~~~~~^~~~~~~~~~~~~~~~~~~~~~~~~~~~~~~~~~~~~~~~~~~~~~~~~~~~~~\u001b[m\u001b[K\r\n",
      "\u001b[01m\u001b[KMatrixFactorizationImpressions_Cython_Epoch.c:\u001b[m\u001b[K In function ‘\u001b[01m\u001b[K__pyx_pf_43MatrixFactorizationImpressions_Cython_Epoch_32MatrixFactorization_Cython_Epoch_10epochIteration_Cython_ASY_SVD_SGD\u001b[m\u001b[K’:\r\n",
      "\u001b[01m\u001b[KMatrixFactorizationImpressions_Cython_Epoch.c:26112:66:\u001b[m\u001b[K \u001b[01;35m\u001b[Kwarning: \u001b[m\u001b[K‘\u001b[01m\u001b[K__pyx_v_end_pos_seen_items\u001b[m\u001b[K’ may be used uninitialized in this function [\u001b[01;35m\u001b[K\u001b]8;;https://gcc.gnu.org/onlinedocs/gcc/Warning-Options.html#index-Wmaybe-uninitialized\u0007-Wmaybe-uninitialized\u001b]8;;\u0007\u001b[m\u001b[K]\r\n",
      "26112 |       for (__pyx_t_22 = __pyx_v_start_pos_seen_items; \u001b[01;35m\u001b[K__pyx_t_22 < __pyx_t_21\u001b[m\u001b[K; __pyx_t_22+=1) {\r\n",
      "      |                                                       \u001b[01;35m\u001b[K~~~~~~~~~~~^~~~~~~~~~~~\u001b[m\u001b[K\r\n",
      "\u001b[01m\u001b[KMatrixFactorizationImpressions_Cython_Epoch.c:26112:66:\u001b[m\u001b[K \u001b[01;35m\u001b[Kwarning: \u001b[m\u001b[K‘\u001b[01m\u001b[K__pyx_v_start_pos_seen_items\u001b[m\u001b[K’ may be used uninitialized in this function [\u001b[01;35m\u001b[K\u001b]8;;https://gcc.gnu.org/onlinedocs/gcc/Warning-Options.html#index-Wmaybe-uninitialized\u0007-Wmaybe-uninitialized\u001b]8;;\u0007\u001b[m\u001b[K]\r\n",
      "/usr/local/lib/python3.10/dist-packages/Cython/Compiler/Main.py:381: FutureWarning: Cython directive 'language_level' not set, using '3str' for now (Py3). This has changed from earlier releases! File: /kaggle/working/RECsys_Challenge2024/Recommenders/MatrixFactorization/Cython/MatrixFactorizationImpressions_Cython_Epoch.pyx\r\n",
      "  tree = Parsing.p_module(s, pxd, full_module_name)\r\n",
      "Compiling [2/11]: MatrixFactorizationImpressions_Cython_Epoch.pyx... PASS\r\n",
      "\r\n",
      "Compiling [3/11]: Compute_Similarity_Cython.pyx... \r\n",
      "warning: Compute_Similarity_Cython.pyx:21:0: The 'IF' statement is deprecated and will be removed in a future Cython version. Consider using runtime conditions or C macros instead. See https://github.com/cython/cython/issues/4310\r\n",
      "In file included from \u001b[01m\u001b[K/usr/local/lib/python3.10/dist-packages/numpy/core/include/numpy/ndarraytypes.h:1929\u001b[m\u001b[K,\r\n",
      "                 from \u001b[01m\u001b[K/usr/local/lib/python3.10/dist-packages/numpy/core/include/numpy/ndarrayobject.h:12\u001b[m\u001b[K,\r\n",
      "                 from \u001b[01m\u001b[K/usr/local/lib/python3.10/dist-packages/numpy/core/include/numpy/arrayobject.h:5\u001b[m\u001b[K,\r\n",
      "                 from \u001b[01m\u001b[KCompute_Similarity_Cython.c:1252\u001b[m\u001b[K:\r\n",
      "\u001b[01m\u001b[K/usr/local/lib/python3.10/dist-packages/numpy/core/include/numpy/npy_1_7_deprecated_api.h:17:2:\u001b[m\u001b[K \u001b[01;35m\u001b[Kwarning: \u001b[m\u001b[K#warning \"Using deprecated NumPy API, disable it with \" \"#define NPY_NO_DEPRECATED_API NPY_1_7_API_VERSION\" [\u001b[01;35m\u001b[K\u001b]8;;https://gcc.gnu.org/onlinedocs/gcc/Warning-Options.html#index-Wcpp\u0007-Wcpp\u001b]8;;\u0007\u001b[m\u001b[K]\r\n",
      "   17 | #\u001b[01;35m\u001b[Kwarning\u001b[m\u001b[K \"Using deprecated NumPy API, disable it with \" \\\r\n",
      "      |  \u001b[01;35m\u001b[K^~~~~~~\u001b[m\u001b[K\r\n",
      "/usr/local/lib/python3.10/dist-packages/Cython/Compiler/Main.py:381: FutureWarning: Cython directive 'language_level' not set, using '3str' for now (Py3). This has changed from earlier releases! File: /kaggle/working/RECsys_Challenge2024/Recommenders/Similarity/Cython/Compute_Similarity_Cython.pyx\r\n",
      "  tree = Parsing.p_module(s, pxd, full_module_name)\r\n",
      "warning: Compute_Similarity_Cython.pyx:21:0: The 'IF' statement is deprecated and will be removed in a future Cython version. Consider using runtime conditions or C macros instead. See https://github.com/cython/cython/issues/4310\r\n",
      "Compiling [3/11]: Compute_Similarity_Cython.pyx... PASS\r\n",
      "\r\n",
      "Compiling [4/11]: Sparse_Matrix_Tree_CSR.pyx... \r\n",
      "warning: Sparse_Matrix_Tree_CSR.pyx:132:34: Non-trivial type declarators in shared declaration (e.g. mix of pointers and values). Each pointer declaration should be on its own line.\r\n",
      "warning: Sparse_Matrix_Tree_CSR.pyx:132:66: Non-trivial type declarators in shared declaration (e.g. mix of pointers and values). Each pointer declaration should be on its own line.\r\n",
      "warning: Sparse_Matrix_Tree_CSR.pyx:343:35: Non-trivial type declarators in shared declaration (e.g. mix of pointers and values). Each pointer declaration should be on its own line.\r\n",
      "warning: Sparse_Matrix_Tree_CSR.pyx:343:52: Non-trivial type declarators in shared declaration (e.g. mix of pointers and values). Each pointer declaration should be on its own line.\r\n",
      "warning: Sparse_Matrix_Tree_CSR.pyx:442:35: Non-trivial type declarators in shared declaration (e.g. mix of pointers and values). Each pointer declaration should be on its own line.\r\n",
      "warning: Sparse_Matrix_Tree_CSR.pyx:442:53: Non-trivial type declarators in shared declaration (e.g. mix of pointers and values). Each pointer declaration should be on its own line.\r\n",
      "warning: Sparse_Matrix_Tree_CSR.pyx:442:69: Non-trivial type declarators in shared declaration (e.g. mix of pointers and values). Each pointer declaration should be on its own line.\r\n",
      "warning: Sparse_Matrix_Tree_CSR.pyx:577:35: Non-trivial type declarators in shared declaration (e.g. mix of pointers and values). Each pointer declaration should be on its own line.\r\n",
      "warning: Sparse_Matrix_Tree_CSR.pyx:577:42: Non-trivial type declarators in shared declaration (e.g. mix of pointers and values). Each pointer declaration should be on its own line.\r\n",
      "warning: Sparse_Matrix_Tree_CSR.pyx:578:35: Non-trivial type declarators in shared declaration (e.g. mix of pointers and values). Each pointer declaration should be on its own line.\r\n",
      "warning: Sparse_Matrix_Tree_CSR.pyx:578:53: Non-trivial type declarators in shared declaration (e.g. mix of pointers and values). Each pointer declaration should be on its own line.\r\n",
      "\r\n",
      "Error compiling Cython file:\r\n",
      "------------------------------------------------------------\r\n",
      "...\r\n",
      "            vector_pointer_to_list_elements[index].head = current_element\r\n",
      "            current_element = current_element.higher\r\n",
      "\r\n",
      "\r\n",
      "        # Sort array elements on their data field\r\n",
      "        qsort(vector_pointer_to_list_elements, list_length, sizeof(head_pointer_tree_s), compare_struct_on_data)\r\n",
      "                                                                                         ^\r\n",
      "------------------------------------------------------------\r\n",
      "\r\n",
      "Sparse_Matrix_Tree_CSR.pyx:516:89: Cannot assign type 'int (const void *, const void *) except? -1' to 'int (*)(const_void *, const_void *) noexcept'. Exception values are incompatible. Suggest adding 'noexcept' to the type of 'compare_struct_on_data'.\r\n",
      "\r\n",
      "Error compiling Cython file:\r\n",
      "------------------------------------------------------------\r\n",
      "...\r\n",
      "        # Sort array elements on their data field\r\n",
      "        qsort(vector_pointer_to_list_elements, list_length, sizeof(head_pointer_tree_s), compare_struct_on_data)\r\n",
      "\r\n",
      "        # Sort only the TopK according to their column field\r\n",
      "        # Sort is from lower to higher, therefore the elements to be considered are from len-topK to len\r\n",
      "        qsort(&vector_pointer_to_list_elements[list_length-TopK], TopK, sizeof(head_pointer_tree_s), compare_struct_on_column)\r\n",
      "                                                                                                     ^\r\n",
      "------------------------------------------------------------\r\n",
      "\r\n",
      "Sparse_Matrix_Tree_CSR.pyx:520:101: Cannot assign type 'int (const void *, const void *) except? -1' to 'int (*)(const_void *, const_void *) noexcept'. Exception values are incompatible. Suggest adding 'noexcept' to the type of 'compare_struct_on_column'.\r\n",
      "Traceback (most recent call last):\r\n",
      "  File \"/kaggle/working/RECsys_Challenge2024/CythonCompiler/compile_script.py\", line 48, in <module>\r\n",
      "    setup(\r\n",
      "  File \"/usr/local/lib/python3.10/dist-packages/setuptools/__init__.py\", line 108, in setup\r\n",
      "    return distutils.core.setup(**attrs)\r\n",
      "  File \"/usr/local/lib/python3.10/dist-packages/setuptools/_distutils/core.py\", line 184, in setup\r\n",
      "    return run_commands(dist)\r\n",
      "  File \"/usr/local/lib/python3.10/dist-packages/setuptools/_distutils/core.py\", line 200, in run_commands\r\n",
      "    dist.run_commands()\r\n",
      "  File \"/usr/local/lib/python3.10/dist-packages/setuptools/_distutils/dist.py\", line 970, in run_commands\r\n",
      "    self.run_command(cmd)\r\n",
      "  File \"/usr/local/lib/python3.10/dist-packages/setuptools/dist.py\", line 956, in run_command\r\n",
      "    super().run_command(command)\r\n",
      "  File \"/usr/local/lib/python3.10/dist-packages/setuptools/_distutils/dist.py\", line 989, in run_command\r\n",
      "    cmd_obj.run()\r\n",
      "  File \"/usr/local/lib/python3.10/dist-packages/setuptools/_distutils/command/build_ext.py\", line 359, in run\r\n",
      "    self.build_extensions()\r\n",
      "  File \"/usr/local/lib/python3.10/dist-packages/setuptools/_distutils/command/build_ext.py\", line 479, in build_extensions\r\n",
      "    self._build_extensions_serial()\r\n",
      "  File \"/usr/local/lib/python3.10/dist-packages/setuptools/_distutils/command/build_ext.py\", line 505, in _build_extensions_serial\r\n",
      "    self.build_extension(ext)\r\n",
      "  File \"/usr/local/lib/python3.10/dist-packages/Cython/Distutils/build_ext.py\", line 130, in build_extension\r\n",
      "    new_ext = cythonize(\r\n",
      "  File \"/usr/local/lib/python3.10/dist-packages/Cython/Build/Dependencies.py\", line 1154, in cythonize\r\n",
      "    cythonize_one(*args)\r\n",
      "  File \"/usr/local/lib/python3.10/dist-packages/Cython/Build/Dependencies.py\", line 1321, in cythonize_one\r\n",
      "    raise CompileError(None, pyx_file)\r\n",
      "Cython.Compiler.Errors.CompileError: Sparse_Matrix_Tree_CSR.pyx\r\n",
      "Traceback (most recent call last):\r\n",
      "  File \"/kaggle/working/RECsys_Challenge2024/run_compile_all_cython.py\", line 60, in <module>\r\n",
      "    run_compile_subprocess(file_path, [file_name])\r\n",
      "  File \"/kaggle/working/RECsys_Challenge2024/CythonCompiler/run_compile_subprocess.py\", line 51, in run_compile_subprocess\r\n",
      "    raise exc\r\n",
      "  File \"/kaggle/working/RECsys_Challenge2024/CythonCompiler/run_compile_subprocess.py\", line 32, in run_compile_subprocess\r\n",
      "    output = subprocess.check_output(' '.join(command),\r\n",
      "  File \"/usr/lib/python3.10/subprocess.py\", line 421, in check_output\r\n",
      "    return run(*popenargs, stdout=PIPE, timeout=timeout, check=True,\r\n",
      "  File \"/usr/lib/python3.10/subprocess.py\", line 526, in run\r\n",
      "    raise CalledProcessError(retcode, process.args,\r\n",
      "subprocess.CalledProcessError: Command '/usr/bin/python3 /kaggle/working/RECsys_Challenge2024/CythonCompiler/compile_script.py Sparse_Matrix_Tree_CSR.pyx build_ext --inplace' returned non-zero exit status 1.\r\n",
      "Compiling [4/11]: Sparse_Matrix_Tree_CSR.pyx... FAIL: Command '/usr/bin/python3 /kaggle/working/RECsys_Challenge2024/CythonCompiler/compile_script.py Sparse_Matrix_Tree_CSR.pyx build_ext --inplace' returned non-zero exit status 1.\r\n",
      "\r\n",
      "Compiling [5/11]: SLIM_BPR_Cython_Epoch.pyx... \r\n",
      "warning: SLIM_BPR_Cython_Epoch.pyx:24:0: The 'IF' statement is deprecated and will be removed in a future Cython version. Consider using runtime conditions or C macros instead. See https://github.com/cython/cython/issues/4310\r\n",
      "warning: SLIM_BPR_Cython_Epoch.pyx:632:34: Non-trivial type declarators in shared declaration (e.g. mix of pointers and values). Each pointer declaration should be on its own line.\r\n",
      "warning: SLIM_BPR_Cython_Epoch.pyx:632:66: Non-trivial type declarators in shared declaration (e.g. mix of pointers and values). Each pointer declaration should be on its own line.\r\n",
      "warning: SLIM_BPR_Cython_Epoch.pyx:817:35: Non-trivial type declarators in shared declaration (e.g. mix of pointers and values). Each pointer declaration should be on its own line.\r\n",
      "warning: SLIM_BPR_Cython_Epoch.pyx:817:52: Non-trivial type declarators in shared declaration (e.g. mix of pointers and values). Each pointer declaration should be on its own line.\r\n",
      "warning: SLIM_BPR_Cython_Epoch.pyx:916:35: Non-trivial type declarators in shared declaration (e.g. mix of pointers and values). Each pointer declaration should be on its own line.\r\n",
      "warning: SLIM_BPR_Cython_Epoch.pyx:916:53: Non-trivial type declarators in shared declaration (e.g. mix of pointers and values). Each pointer declaration should be on its own line.\r\n",
      "warning: SLIM_BPR_Cython_Epoch.pyx:916:69: Non-trivial type declarators in shared declaration (e.g. mix of pointers and values). Each pointer declaration should be on its own line.\r\n",
      "warning: SLIM_BPR_Cython_Epoch.pyx:1051:35: Non-trivial type declarators in shared declaration (e.g. mix of pointers and values). Each pointer declaration should be on its own line.\r\n",
      "warning: SLIM_BPR_Cython_Epoch.pyx:1051:42: Non-trivial type declarators in shared declaration (e.g. mix of pointers and values). Each pointer declaration should be on its own line.\r\n",
      "warning: SLIM_BPR_Cython_Epoch.pyx:1052:35: Non-trivial type declarators in shared declaration (e.g. mix of pointers and values). Each pointer declaration should be on its own line.\r\n",
      "warning: SLIM_BPR_Cython_Epoch.pyx:1052:53: Non-trivial type declarators in shared declaration (e.g. mix of pointers and values). Each pointer declaration should be on its own line.\r\n",
      "\r\n",
      "Error compiling Cython file:\r\n",
      "------------------------------------------------------------\r\n",
      "...\r\n",
      "            vector_pointer_to_list_elements[index].head = current_element\r\n",
      "            current_element = current_element.higher\r\n",
      "\r\n",
      "\r\n",
      "        # Sort array elements on their data field\r\n",
      "        qsort(vector_pointer_to_list_elements, list_length, sizeof(head_pointer_tree_s), compare_struct_on_data)\r\n",
      "                                                                                         ^\r\n",
      "------------------------------------------------------------\r\n",
      "\r\n",
      "SLIM_BPR_Cython_Epoch.pyx:990:89: Cannot assign type 'int (const void *, const void *) except? -1' to 'int (*)(const_void *, const_void *) noexcept'. Exception values are incompatible. Suggest adding 'noexcept' to the type of 'compare_struct_on_data'.\r\n",
      "\r\n",
      "Error compiling Cython file:\r\n",
      "------------------------------------------------------------\r\n",
      "...\r\n",
      "        # Sort array elements on their data field\r\n",
      "        qsort(vector_pointer_to_list_elements, list_length, sizeof(head_pointer_tree_s), compare_struct_on_data)\r\n",
      "\r\n",
      "        # Sort only the TopK according to their column field\r\n",
      "        # Sort is from lower to higher, therefore the elements to be considered are from len-topK to len\r\n",
      "        qsort(&vector_pointer_to_list_elements[list_length-TopK], TopK, sizeof(head_pointer_tree_s), compare_struct_on_column)\r\n",
      "                                                                                                     ^\r\n",
      "------------------------------------------------------------\r\n",
      "\r\n",
      "SLIM_BPR_Cython_Epoch.pyx:994:101: Cannot assign type 'int (const void *, const void *) except? -1' to 'int (*)(const_void *, const_void *) noexcept'. Exception values are incompatible. Suggest adding 'noexcept' to the type of 'compare_struct_on_column'.\r\n",
      "Traceback (most recent call last):\r\n",
      "  File \"/kaggle/working/RECsys_Challenge2024/CythonCompiler/compile_script.py\", line 48, in <module>\r\n",
      "    setup(\r\n",
      "  File \"/usr/local/lib/python3.10/dist-packages/setuptools/__init__.py\", line 108, in setup\r\n",
      "    return distutils.core.setup(**attrs)\r\n",
      "  File \"/usr/local/lib/python3.10/dist-packages/setuptools/_distutils/core.py\", line 184, in setup\r\n",
      "    return run_commands(dist)\r\n",
      "  File \"/usr/local/lib/python3.10/dist-packages/setuptools/_distutils/core.py\", line 200, in run_commands\r\n",
      "    dist.run_commands()\r\n",
      "  File \"/usr/local/lib/python3.10/dist-packages/setuptools/_distutils/dist.py\", line 970, in run_commands\r\n",
      "    self.run_command(cmd)\r\n",
      "  File \"/usr/local/lib/python3.10/dist-packages/setuptools/dist.py\", line 956, in run_command\r\n",
      "    super().run_command(command)\r\n",
      "  File \"/usr/local/lib/python3.10/dist-packages/setuptools/_distutils/dist.py\", line 989, in run_command\r\n",
      "    cmd_obj.run()\r\n",
      "  File \"/usr/local/lib/python3.10/dist-packages/setuptools/_distutils/command/build_ext.py\", line 359, in run\r\n",
      "    self.build_extensions()\r\n",
      "  File \"/usr/local/lib/python3.10/dist-packages/setuptools/_distutils/command/build_ext.py\", line 479, in build_extensions\r\n",
      "    self._build_extensions_serial()\r\n",
      "  File \"/usr/local/lib/python3.10/dist-packages/setuptools/_distutils/command/build_ext.py\", line 505, in _build_extensions_serial\r\n",
      "    self.build_extension(ext)\r\n",
      "  File \"/usr/local/lib/python3.10/dist-packages/Cython/Distutils/build_ext.py\", line 130, in build_extension\r\n",
      "    new_ext = cythonize(\r\n",
      "  File \"/usr/local/lib/python3.10/dist-packages/Cython/Build/Dependencies.py\", line 1154, in cythonize\r\n",
      "    cythonize_one(*args)\r\n",
      "  File \"/usr/local/lib/python3.10/dist-packages/Cython/Build/Dependencies.py\", line 1321, in cythonize_one\r\n",
      "    raise CompileError(None, pyx_file)\r\n",
      "Cython.Compiler.Errors.CompileError: SLIM_BPR_Cython_Epoch.pyx\r\n",
      "Traceback (most recent call last):\r\n",
      "  File \"/kaggle/working/RECsys_Challenge2024/run_compile_all_cython.py\", line 60, in <module>\r\n",
      "    run_compile_subprocess(file_path, [file_name])\r\n",
      "  File \"/kaggle/working/RECsys_Challenge2024/CythonCompiler/run_compile_subprocess.py\", line 51, in run_compile_subprocess\r\n",
      "    raise exc\r\n",
      "  File \"/kaggle/working/RECsys_Challenge2024/CythonCompiler/run_compile_subprocess.py\", line 32, in run_compile_subprocess\r\n",
      "    output = subprocess.check_output(' '.join(command),\r\n",
      "  File \"/usr/lib/python3.10/subprocess.py\", line 421, in check_output\r\n",
      "    return run(*popenargs, stdout=PIPE, timeout=timeout, check=True,\r\n",
      "  File \"/usr/lib/python3.10/subprocess.py\", line 526, in run\r\n",
      "    raise CalledProcessError(retcode, process.args,\r\n",
      "subprocess.CalledProcessError: Command '/usr/bin/python3 /kaggle/working/RECsys_Challenge2024/CythonCompiler/compile_script.py SLIM_BPR_Cython_Epoch.pyx build_ext --inplace' returned non-zero exit status 1.\r\n",
      "Compiling [5/11]: SLIM_BPR_Cython_Epoch.pyx... FAIL: Command '/usr/bin/python3 /kaggle/working/RECsys_Challenge2024/CythonCompiler/compile_script.py SLIM_BPR_Cython_Epoch.pyx build_ext --inplace' returned non-zero exit status 1.\r\n",
      "\r\n",
      "Compiling [6/11]: Triangular_Matrix.pyx... \r\n",
      "warning: Triangular_Matrix.pyx:22:0: The 'IF' statement is deprecated and will be removed in a future Cython version. Consider using runtime conditions or C macros instead. See https://github.com/cython/cython/issues/4310\r\n",
      "In file included from \u001b[01m\u001b[K/usr/local/lib/python3.10/dist-packages/numpy/core/include/numpy/ndarraytypes.h:1929\u001b[m\u001b[K,\r\n",
      "                 from \u001b[01m\u001b[K/usr/local/lib/python3.10/dist-packages/numpy/core/include/numpy/ndarrayobject.h:12\u001b[m\u001b[K,\r\n",
      "                 from \u001b[01m\u001b[K/usr/local/lib/python3.10/dist-packages/numpy/core/include/numpy/arrayobject.h:5\u001b[m\u001b[K,\r\n",
      "                 from \u001b[01m\u001b[KTriangular_Matrix.c:1252\u001b[m\u001b[K:\r\n",
      "\u001b[01m\u001b[K/usr/local/lib/python3.10/dist-packages/numpy/core/include/numpy/npy_1_7_deprecated_api.h:17:2:\u001b[m\u001b[K \u001b[01;35m\u001b[Kwarning: \u001b[m\u001b[K#warning \"Using deprecated NumPy API, disable it with \" \"#define NPY_NO_DEPRECATED_API NPY_1_7_API_VERSION\" [\u001b[01;35m\u001b[K\u001b]8;;https://gcc.gnu.org/onlinedocs/gcc/Warning-Options.html#index-Wcpp\u0007-Wcpp\u001b]8;;\u0007\u001b[m\u001b[K]\r\n",
      "   17 | #\u001b[01;35m\u001b[Kwarning\u001b[m\u001b[K \"Using deprecated NumPy API, disable it with \" \\\r\n",
      "      |  \u001b[01;35m\u001b[K^~~~~~~\u001b[m\u001b[K\r\n",
      "In function ‘\u001b[01m\u001b[K__pyx_pf_17Triangular_Matrix_17Triangular_Matrix___init__\u001b[m\u001b[K’,\r\n",
      "    inlined from ‘\u001b[01m\u001b[K__pyx_pw_17Triangular_Matrix_17Triangular_Matrix_1__init__\u001b[m\u001b[K’ at \u001b[01m\u001b[KTriangular_Matrix.c:5541:13\u001b[m\u001b[K:\r\n",
      "\u001b[01m\u001b[KTriangular_Matrix.c:5599:43:\u001b[m\u001b[K \u001b[01;35m\u001b[Kwarning: \u001b[m\u001b[Kargument 1 value ‘\u001b[01m\u001b[K18446744073709551608\u001b[m\u001b[K’ exceeds maximum object size 9223372036854775807 [\u001b[01;35m\u001b[K\u001b]8;;https://gcc.gnu.org/onlinedocs/gcc/Warning-Options.html#index-Walloc-size-larger-than=\u0007-Walloc-size-larger-than=\u001b]8;;\u0007\u001b[m\u001b[K]\r\n",
      " 5599 |   __pyx_v_self->row_pointer = ((double **)\u001b[01;35m\u001b[Kmalloc((__pyx_v_self->num_rows * (sizeof(double *))))\u001b[m\u001b[K);\r\n",
      "      |                                           \u001b[01;35m\u001b[K^~~~~~~~~~~~~~~~~~~~~~~~~~~~~~~~~~~~~~~~~~~~~~~~~~~~~\u001b[m\u001b[K\r\n",
      "In file included from \u001b[01m\u001b[K/usr/include/python3.10/Python.h:34\u001b[m\u001b[K,\r\n",
      "                 from \u001b[01m\u001b[KTriangular_Matrix.c:41\u001b[m\u001b[K:\r\n",
      "\u001b[01m\u001b[KTriangular_Matrix.c:\u001b[m\u001b[K In function ‘\u001b[01m\u001b[K__pyx_pw_17Triangular_Matrix_17Triangular_Matrix_1__init__\u001b[m\u001b[K’:\r\n",
      "\u001b[01m\u001b[K/usr/include/stdlib.h:540:14:\u001b[m\u001b[K \u001b[01;36m\u001b[Knote: \u001b[m\u001b[Kin a call to allocation function ‘\u001b[01m\u001b[Kmalloc\u001b[m\u001b[K’ declared here\r\n",
      "  540 | extern void *\u001b[01;36m\u001b[Kmalloc\u001b[m\u001b[K (size_t __size) __THROW __attribute_malloc__\r\n",
      "      |              \u001b[01;36m\u001b[K^~~~~~\u001b[m\u001b[K\r\n",
      "/usr/local/lib/python3.10/dist-packages/Cython/Compiler/Main.py:381: FutureWarning: Cython directive 'language_level' not set, using '3str' for now (Py3). This has changed from earlier releases! File: /kaggle/working/RECsys_Challenge2024/Recommenders/SLIM/Cython/Triangular_Matrix.pyx\r\n",
      "  tree = Parsing.p_module(s, pxd, full_module_name)\r\n",
      "warning: Triangular_Matrix.pyx:22:0: The 'IF' statement is deprecated and will be removed in a future Cython version. Consider using runtime conditions or C macros instead. See https://github.com/cython/cython/issues/4310\r\n",
      "Compiling [6/11]: Triangular_Matrix.pyx... PASS\r\n",
      "\r\n",
      "Compiling [7/11]: CFW_DVV_Similarity_Cython_SGD.pyx... \r\n",
      "In file included from \u001b[01m\u001b[K/usr/local/lib/python3.10/dist-packages/numpy/core/include/numpy/ndarraytypes.h:1929\u001b[m\u001b[K,\r\n",
      "                 from \u001b[01m\u001b[K/usr/local/lib/python3.10/dist-packages/numpy/core/include/numpy/ndarrayobject.h:12\u001b[m\u001b[K,\r\n",
      "                 from \u001b[01m\u001b[K/usr/local/lib/python3.10/dist-packages/numpy/core/include/numpy/arrayobject.h:5\u001b[m\u001b[K,\r\n",
      "                 from \u001b[01m\u001b[KCFW_DVV_Similarity_Cython_SGD.c:1252\u001b[m\u001b[K:\r\n",
      "\u001b[01m\u001b[K/usr/local/lib/python3.10/dist-packages/numpy/core/include/numpy/npy_1_7_deprecated_api.h:17:2:\u001b[m\u001b[K \u001b[01;35m\u001b[Kwarning: \u001b[m\u001b[K#warning \"Using deprecated NumPy API, disable it with \" \"#define NPY_NO_DEPRECATED_API NPY_1_7_API_VERSION\" [\u001b[01;35m\u001b[K\u001b]8;;https://gcc.gnu.org/onlinedocs/gcc/Warning-Options.html#index-Wcpp\u0007-Wcpp\u001b]8;;\u0007\u001b[m\u001b[K]\r\n",
      "   17 | #\u001b[01;35m\u001b[Kwarning\u001b[m\u001b[K \"Using deprecated NumPy API, disable it with \" \\\r\n",
      "      |  \u001b[01;35m\u001b[K^~~~~~~\u001b[m\u001b[K\r\n",
      "/usr/local/lib/python3.10/dist-packages/Cython/Compiler/Main.py:381: FutureWarning: Cython directive 'language_level' not set, using '3str' for now (Py3). This has changed from earlier releases! File: /kaggle/working/RECsys_Challenge2024/Recommenders/FeatureWeighting/Cython/CFW_DVV_Similarity_Cython_SGD.pyx\r\n",
      "  tree = Parsing.p_module(s, pxd, full_module_name)\r\n",
      "Compiling [7/11]: CFW_DVV_Similarity_Cython_SGD.pyx... PASS\r\n",
      "\r\n",
      "Compiling [8/11]: HP3_Similarity_Cython_SGD.pyx... \r\n",
      "performance hint: HP3_Similarity_Cython_SGD.pyx:113:40: Index should be typed for more efficient access\r\n",
      "performance hint: HP3_Similarity_Cython_SGD.pyx:114:40: Index should be typed for more efficient access\r\n",
      "In file included from \u001b[01m\u001b[K/usr/local/lib/python3.10/dist-packages/numpy/core/include/numpy/ndarraytypes.h:1929\u001b[m\u001b[K,\r\n",
      "                 from \u001b[01m\u001b[K/usr/local/lib/python3.10/dist-packages/numpy/core/include/numpy/ndarrayobject.h:12\u001b[m\u001b[K,\r\n",
      "                 from \u001b[01m\u001b[K/usr/local/lib/python3.10/dist-packages/numpy/core/include/numpy/arrayobject.h:5\u001b[m\u001b[K,\r\n",
      "                 from \u001b[01m\u001b[KHP3_Similarity_Cython_SGD.c:1252\u001b[m\u001b[K:\r\n",
      "\u001b[01m\u001b[K/usr/local/lib/python3.10/dist-packages/numpy/core/include/numpy/npy_1_7_deprecated_api.h:17:2:\u001b[m\u001b[K \u001b[01;35m\u001b[Kwarning: \u001b[m\u001b[K#warning \"Using deprecated NumPy API, disable it with \" \"#define NPY_NO_DEPRECATED_API NPY_1_7_API_VERSION\" [\u001b[01;35m\u001b[K\u001b]8;;https://gcc.gnu.org/onlinedocs/gcc/Warning-Options.html#index-Wcpp\u0007-Wcpp\u001b]8;;\u0007\u001b[m\u001b[K]\r\n",
      "   17 | #\u001b[01;35m\u001b[Kwarning\u001b[m\u001b[K \"Using deprecated NumPy API, disable it with \" \\\r\n",
      "      |  \u001b[01;35m\u001b[K^~~~~~~\u001b[m\u001b[K\r\n",
      "\u001b[01m\u001b[KHP3_Similarity_Cython_SGD.c:\u001b[m\u001b[K In function ‘\u001b[01m\u001b[K__pyx_pf_25HP3_Similarity_Cython_SGD_25HP3_Similarity_Cython_SGD_4fit\u001b[m\u001b[K’:\r\n",
      "\u001b[01m\u001b[KHP3_Similarity_Cython_SGD.c:23631:55:\u001b[m\u001b[K \u001b[01;35m\u001b[Kwarning: \u001b[m\u001b[K‘\u001b[01m\u001b[K__pyx_v_sample_num\u001b[m\u001b[K’ may be used uninitialized in this function [\u001b[01;35m\u001b[K\u001b]8;;https://gcc.gnu.org/onlinedocs/gcc/Warning-Options.html#index-Wmaybe-uninitialized\u0007-Wmaybe-uninitialized\u001b]8;;\u0007\u001b[m\u001b[K]\r\n",
      "23631 |   __pyx_t_1 = PyFloat_FromDouble((__pyx_v_cum_loss / \u001b[01;35m\u001b[K((double)__pyx_v_sample_num)\u001b[m\u001b[K)); if (unlikely(!__pyx_t_1)) __PYX_ERR(0, 291, __pyx_L1_error)\r\n",
      "      |                                                      \u001b[01;35m\u001b[K~^~~~~~~~~~~~~~~~~~~~~~~~~~~\u001b[m\u001b[K\r\n",
      "/usr/local/lib/python3.10/dist-packages/Cython/Compiler/Main.py:381: FutureWarning: Cython directive 'language_level' not set, using '3str' for now (Py3). This has changed from earlier releases! File: /kaggle/working/RECsys_Challenge2024/Recommenders/FeatureWeighting/Cython/HP3_Similarity_Cython_SGD.pyx\r\n",
      "  tree = Parsing.p_module(s, pxd, full_module_name)\r\n",
      "performance hint: HP3_Similarity_Cython_SGD.pyx:113:40: Index should be typed for more efficient access\r\n",
      "performance hint: HP3_Similarity_Cython_SGD.pyx:114:40: Index should be typed for more efficient access\r\n",
      "Compiling [8/11]: HP3_Similarity_Cython_SGD.pyx... PASS\r\n",
      "\r\n",
      "Compiling [9/11]: FBSM_Rating_Cython_SGD.pyx... \r\n",
      "In file included from \u001b[01m\u001b[K/usr/local/lib/python3.10/dist-packages/numpy/core/include/numpy/ndarraytypes.h:1929\u001b[m\u001b[K,\r\n",
      "                 from \u001b[01m\u001b[K/usr/local/lib/python3.10/dist-packages/numpy/core/include/numpy/ndarrayobject.h:12\u001b[m\u001b[K,\r\n",
      "                 from \u001b[01m\u001b[K/usr/local/lib/python3.10/dist-packages/numpy/core/include/numpy/arrayobject.h:5\u001b[m\u001b[K,\r\n",
      "                 from \u001b[01m\u001b[KFBSM_Rating_Cython_SGD.c:1252\u001b[m\u001b[K:\r\n",
      "\u001b[01m\u001b[K/usr/local/lib/python3.10/dist-packages/numpy/core/include/numpy/npy_1_7_deprecated_api.h:17:2:\u001b[m\u001b[K \u001b[01;35m\u001b[Kwarning: \u001b[m\u001b[K#warning \"Using deprecated NumPy API, disable it with \" \"#define NPY_NO_DEPRECATED_API NPY_1_7_API_VERSION\" [\u001b[01;35m\u001b[K\u001b]8;;https://gcc.gnu.org/onlinedocs/gcc/Warning-Options.html#index-Wcpp\u0007-Wcpp\u001b]8;;\u0007\u001b[m\u001b[K]\r\n",
      "   17 | #\u001b[01;35m\u001b[Kwarning\u001b[m\u001b[K \"Using deprecated NumPy API, disable it with \" \\\r\n",
      "      |  \u001b[01;35m\u001b[K^~~~~~~\u001b[m\u001b[K\r\n",
      "\u001b[01m\u001b[KFBSM_Rating_Cython_SGD.c:\u001b[m\u001b[K In function ‘\u001b[01m\u001b[K__pyx_pf_22FBSM_Rating_Cython_SGD_22FBSM_Rating_Cython_SGD_2fit\u001b[m\u001b[K’:\r\n",
      "\u001b[01m\u001b[KFBSM_Rating_Cython_SGD.c:26607:55:\u001b[m\u001b[K \u001b[01;35m\u001b[Kwarning: \u001b[m\u001b[K‘\u001b[01m\u001b[K__pyx_v_num_sample\u001b[m\u001b[K’ may be used uninitialized in this function [\u001b[01;35m\u001b[K\u001b]8;;https://gcc.gnu.org/onlinedocs/gcc/Warning-Options.html#index-Wmaybe-uninitialized\u0007-Wmaybe-uninitialized\u001b]8;;\u0007\u001b[m\u001b[K]\r\n",
      "26607 |   __pyx_t_5 = PyFloat_FromDouble((__pyx_v_cum_loss / \u001b[01;35m\u001b[K((double)__pyx_v_num_sample)\u001b[m\u001b[K)); if (unlikely(!__pyx_t_5)) __PYX_ERR(0, 551, __pyx_L1_error)\r\n",
      "      |                                                      \u001b[01;35m\u001b[K~^~~~~~~~~~~~~~~~~~~~~~~~~~~\u001b[m\u001b[K\r\n",
      "/usr/local/lib/python3.10/dist-packages/Cython/Compiler/Main.py:381: FutureWarning: Cython directive 'language_level' not set, using '3str' for now (Py3). This has changed from earlier releases! File: /kaggle/working/RECsys_Challenge2024/Recommenders/FeatureWeighting/Cython/FBSM_Rating_Cython_SGD.pyx\r\n",
      "  tree = Parsing.p_module(s, pxd, full_module_name)\r\n",
      "Compiling [9/11]: FBSM_Rating_Cython_SGD.pyx... PASS\r\n",
      "\r\n",
      "Compiling [10/11]: CFW_D_Similarity_Cython_SGD.pyx... \r\n",
      "In file included from \u001b[01m\u001b[K/usr/local/lib/python3.10/dist-packages/numpy/core/include/numpy/ndarraytypes.h:1929\u001b[m\u001b[K,\r\n",
      "                 from \u001b[01m\u001b[K/usr/local/lib/python3.10/dist-packages/numpy/core/include/numpy/ndarrayobject.h:12\u001b[m\u001b[K,\r\n",
      "                 from \u001b[01m\u001b[K/usr/local/lib/python3.10/dist-packages/numpy/core/include/numpy/arrayobject.h:5\u001b[m\u001b[K,\r\n",
      "                 from \u001b[01m\u001b[KCFW_D_Similarity_Cython_SGD.c:1252\u001b[m\u001b[K:\r\n",
      "\u001b[01m\u001b[K/usr/local/lib/python3.10/dist-packages/numpy/core/include/numpy/npy_1_7_deprecated_api.h:17:2:\u001b[m\u001b[K \u001b[01;35m\u001b[Kwarning: \u001b[m\u001b[K#warning \"Using deprecated NumPy API, disable it with \" \"#define NPY_NO_DEPRECATED_API NPY_1_7_API_VERSION\" [\u001b[01;35m\u001b[K\u001b]8;;https://gcc.gnu.org/onlinedocs/gcc/Warning-Options.html#index-Wcpp\u0007-Wcpp\u001b]8;;\u0007\u001b[m\u001b[K]\r\n",
      "   17 | #\u001b[01;35m\u001b[Kwarning\u001b[m\u001b[K \"Using deprecated NumPy API, disable it with \" \\\r\n",
      "      |  \u001b[01;35m\u001b[K^~~~~~~\u001b[m\u001b[K\r\n",
      "\u001b[01m\u001b[KCFW_D_Similarity_Cython_SGD.c:\u001b[m\u001b[K In function ‘\u001b[01m\u001b[K__pyx_pf_27CFW_D_Similarity_Cython_SGD_27CFW_D_Similarity_Cython_SGD_6fit\u001b[m\u001b[K’:\r\n",
      "\u001b[01m\u001b[KCFW_D_Similarity_Cython_SGD.c:23373:55:\u001b[m\u001b[K \u001b[01;35m\u001b[Kwarning: \u001b[m\u001b[K‘\u001b[01m\u001b[K__pyx_v_sample_num\u001b[m\u001b[K’ may be used uninitialized in this function [\u001b[01;35m\u001b[K\u001b]8;;https://gcc.gnu.org/onlinedocs/gcc/Warning-Options.html#index-Wmaybe-uninitialized\u0007-Wmaybe-uninitialized\u001b]8;;\u0007\u001b[m\u001b[K]\r\n",
      "23373 |   __pyx_t_3 = PyFloat_FromDouble((__pyx_v_cum_loss / \u001b[01;35m\u001b[K((double)__pyx_v_sample_num)\u001b[m\u001b[K)); if (unlikely(!__pyx_t_3)) __PYX_ERR(0, 290, __pyx_L1_error)\r\n",
      "      |                                                      \u001b[01;35m\u001b[K~^~~~~~~~~~~~~~~~~~~~~~~~~~~\u001b[m\u001b[K\r\n",
      "/usr/local/lib/python3.10/dist-packages/Cython/Compiler/Main.py:381: FutureWarning: Cython directive 'language_level' not set, using '3str' for now (Py3). This has changed from earlier releases! File: /kaggle/working/RECsys_Challenge2024/Recommenders/FeatureWeighting/Cython/CFW_D_Similarity_Cython_SGD.pyx\r\n",
      "  tree = Parsing.p_module(s, pxd, full_module_name)\r\n",
      "Compiling [10/11]: CFW_D_Similarity_Cython_SGD.pyx... PASS\r\n",
      "\r\n",
      "Compiling [11/11]: DataIterator.pyx... \r\n",
      "In file included from \u001b[01m\u001b[K/usr/local/lib/python3.10/dist-packages/numpy/core/include/numpy/ndarraytypes.h:1929\u001b[m\u001b[K,\r\n",
      "                 from \u001b[01m\u001b[K/usr/local/lib/python3.10/dist-packages/numpy/core/include/numpy/ndarrayobject.h:12\u001b[m\u001b[K,\r\n",
      "                 from \u001b[01m\u001b[K/usr/local/lib/python3.10/dist-packages/numpy/core/include/numpy/arrayobject.h:5\u001b[m\u001b[K,\r\n",
      "                 from \u001b[01m\u001b[KDataIterator.c:1252\u001b[m\u001b[K:\r\n",
      "\u001b[01m\u001b[K/usr/local/lib/python3.10/dist-packages/numpy/core/include/numpy/npy_1_7_deprecated_api.h:17:2:\u001b[m\u001b[K \u001b[01;35m\u001b[Kwarning: \u001b[m\u001b[K#warning \"Using deprecated NumPy API, disable it with \" \"#define NPY_NO_DEPRECATED_API NPY_1_7_API_VERSION\" [\u001b[01;35m\u001b[K\u001b]8;;https://gcc.gnu.org/onlinedocs/gcc/Warning-Options.html#index-Wcpp\u0007-Wcpp\u001b]8;;\u0007\u001b[m\u001b[K]\r\n",
      "   17 | #\u001b[01;35m\u001b[Kwarning\u001b[m\u001b[K \"Using deprecated NumPy API, disable it with \" \\\r\n",
      "      |  \u001b[01;35m\u001b[K^~~~~~~\u001b[m\u001b[K\r\n",
      "\u001b[01m\u001b[KDataIterator.c:\u001b[m\u001b[K In function ‘\u001b[01m\u001b[K__pyx_pf_12DataIterator_19InteractionIterator_6__next__\u001b[m\u001b[K’:\r\n",
      "\u001b[01m\u001b[KDataIterator.c:20937:22:\u001b[m\u001b[K \u001b[01;35m\u001b[Kwarning: \u001b[m\u001b[K‘\u001b[01m\u001b[K__pyx_v_i_batch\u001b[m\u001b[K’ may be used uninitialized in this function [\u001b[01;35m\u001b[K\u001b]8;;https://gcc.gnu.org/onlinedocs/gcc/Warning-Options.html#index-Wmaybe-uninitialized\u0007-Wmaybe-uninitialized\u001b]8;;\u0007\u001b[m\u001b[K]\r\n",
      "20937 |     (__pyx_v_i_batch \u001b[01;35m\u001b[K+\u001b[m\u001b[K 1),\r\n",
      "      |                      \u001b[01;35m\u001b[K^\u001b[m\u001b[K\r\n",
      "\u001b[01m\u001b[KDataIterator.c:\u001b[m\u001b[K In function ‘\u001b[01m\u001b[K__pyx_pf_12DataIterator_30InteractionAndNegativeIterator_6__next__\u001b[m\u001b[K’:\r\n",
      "\u001b[01m\u001b[KDataIterator.c:25499:22:\u001b[m\u001b[K \u001b[01;35m\u001b[Kwarning: \u001b[m\u001b[K‘\u001b[01m\u001b[K__pyx_v_i_batch\u001b[m\u001b[K’ may be used uninitialized in this function [\u001b[01;35m\u001b[K\u001b]8;;https://gcc.gnu.org/onlinedocs/gcc/Warning-Options.html#index-Wmaybe-uninitialized\u0007-Wmaybe-uninitialized\u001b]8;;\u0007\u001b[m\u001b[K]\r\n",
      "25499 |     (__pyx_v_i_batch \u001b[01;35m\u001b[K+\u001b[m\u001b[K 1),\r\n",
      "      |                      \u001b[01;35m\u001b[K^\u001b[m\u001b[K\r\n",
      "\u001b[01m\u001b[KDataIterator.c:\u001b[m\u001b[K In function ‘\u001b[01m\u001b[K__pyx_pf_12DataIterator_11BPRIterator_6__next__\u001b[m\u001b[K’:\r\n",
      "\u001b[01m\u001b[KDataIterator.c:23056:22:\u001b[m\u001b[K \u001b[01;35m\u001b[Kwarning: \u001b[m\u001b[K‘\u001b[01m\u001b[K__pyx_v_i_batch\u001b[m\u001b[K’ may be used uninitialized in this function [\u001b[01;35m\u001b[K\u001b]8;;https://gcc.gnu.org/onlinedocs/gcc/Warning-Options.html#index-Wmaybe-uninitialized\u0007-Wmaybe-uninitialized\u001b]8;;\u0007\u001b[m\u001b[K]\r\n",
      "23056 |     (__pyx_v_i_batch \u001b[01;35m\u001b[K+\u001b[m\u001b[K 1),\r\n",
      "      |                      \u001b[01;35m\u001b[K^\u001b[m\u001b[K\r\n",
      "/usr/local/lib/python3.10/dist-packages/Cython/Compiler/Main.py:381: FutureWarning: Cython directive 'language_level' not set, using '3str' for now (Py3). This has changed from earlier releases! File: /kaggle/working/RECsys_Challenge2024/Utils/PyTorch/Cython/DataIterator.pyx\r\n",
      "  tree = Parsing.p_module(s, pxd, full_module_name)\r\n",
      "Compiling [11/11]: DataIterator.pyx... PASS\r\n",
      "\r\n",
      "run_compile_all_cython: Compilation finished. FAILS 2/11.\r\n",
      "Compilation log can be found here: './result_experiments/run_compile_all_cython.txt'\r\n"
     ]
    }
   ],
   "source": [
    "%cd /kaggle/working/RECsys_Challenge2024 \n",
    "! python run_compile_all_cython.py"
   ]
  },
  {
   "cell_type": "code",
   "execution_count": 5,
   "id": "cc9394a5",
   "metadata": {
    "execution": {
     "iopub.execute_input": "2025-01-06T23:53:40.863843Z",
     "iopub.status.busy": "2025-01-06T23:53:40.863315Z",
     "iopub.status.idle": "2025-01-06T23:53:42.306793Z",
     "shell.execute_reply": "2025-01-06T23:53:42.305553Z"
    },
    "papermill": {
     "duration": 1.462502,
     "end_time": "2025-01-06T23:53:42.308926",
     "exception": false,
     "start_time": "2025-01-06T23:53:40.846424",
     "status": "completed"
    },
    "tags": []
   },
   "outputs": [],
   "source": [
    "from Utils.notebookFunctions import *\n",
    "import numpy as np\n",
    "import pandas as pd\n",
    "import scipy.sparse as sps\n",
    "import time\n",
    "import shutil\n",
    "import optuna\n",
    "import json\n",
    "import os\n",
    "from Utils.seconds_to_biggest_unit import seconds_to_biggest_unit\n",
    "\n",
    "\n",
    "K_PATH = '/kaggle/working/RECsys_Challenge2024'\n",
    "GH_PATH = 'TrainedModels/WithKFCV/GraphBased'\n",
    "\n",
    "np.random.seed(42)"
   ]
  },
  {
   "cell_type": "markdown",
   "id": "260dccfd",
   "metadata": {
    "papermill": {
     "duration": 0.015017,
     "end_time": "2025-01-06T23:53:42.339979",
     "exception": false,
     "start_time": "2025-01-06T23:53:42.324962",
     "status": "completed"
    },
    "tags": []
   },
   "source": [
    "## Import the repository"
   ]
  },
  {
   "cell_type": "code",
   "execution_count": 6,
   "id": "e9f6e260",
   "metadata": {
    "execution": {
     "iopub.execute_input": "2025-01-06T23:53:42.373448Z",
     "iopub.status.busy": "2025-01-06T23:53:42.372921Z",
     "iopub.status.idle": "2025-01-06T23:53:42.600970Z",
     "shell.execute_reply": "2025-01-06T23:53:42.599746Z"
    },
    "papermill": {
     "duration": 0.24674,
     "end_time": "2025-01-06T23:53:42.602851",
     "exception": false,
     "start_time": "2025-01-06T23:53:42.356111",
     "status": "completed"
    },
    "tags": []
   },
   "outputs": [
    {
     "name": "stdout",
     "output_type": "stream",
     "text": [
      "Repository 'RECsys_Challenge2024' found.\n"
     ]
    }
   ],
   "source": [
    "repo = get_repo_from_github(token)"
   ]
  },
  {
   "cell_type": "code",
   "execution_count": 7,
   "id": "a46bdef2",
   "metadata": {
    "execution": {
     "iopub.execute_input": "2025-01-06T23:53:42.635201Z",
     "iopub.status.busy": "2025-01-06T23:53:42.634846Z",
     "iopub.status.idle": "2025-01-06T23:53:42.640001Z",
     "shell.execute_reply": "2025-01-06T23:53:42.638859Z"
    },
    "papermill": {
     "duration": 0.023789,
     "end_time": "2025-01-06T23:53:42.641990",
     "exception": false,
     "start_time": "2025-01-06T23:53:42.618201",
     "status": "completed"
    },
    "tags": []
   },
   "outputs": [],
   "source": [
    "config = {\n",
    "    'model': 'P3alpha',\n",
    "    'metric': 'MAP',\n",
    "    'n_folds': 5,\n",
    "    'tune_parameters': True,\n",
    "    'database_path': '/kaggle/working/history_P3alpha_MAP.db',\n",
    "    'copy_prev_best_params': False,\n",
    "    'tune_best_params': True,\n",
    "    'save_github': True\n",
    "}"
   ]
  },
  {
   "cell_type": "markdown",
   "id": "1bcff9e7",
   "metadata": {
    "papermill": {
     "duration": 0.014772,
     "end_time": "2025-01-06T23:53:42.672225",
     "exception": false,
     "start_time": "2025-01-06T23:53:42.657453",
     "status": "completed"
    },
    "tags": []
   },
   "source": [
    "Import the database where previous tuning trials have been saved."
   ]
  },
  {
   "cell_type": "code",
   "execution_count": 8,
   "id": "886ea4c2",
   "metadata": {
    "execution": {
     "iopub.execute_input": "2025-01-06T23:53:42.704424Z",
     "iopub.status.busy": "2025-01-06T23:53:42.704037Z",
     "iopub.status.idle": "2025-01-06T23:53:42.709929Z",
     "shell.execute_reply": "2025-01-06T23:53:42.708732Z"
    },
    "papermill": {
     "duration": 0.024149,
     "end_time": "2025-01-06T23:53:42.711698",
     "exception": false,
     "start_time": "2025-01-06T23:53:42.687549",
     "status": "completed"
    },
    "tags": []
   },
   "outputs": [],
   "source": [
    "try:\n",
    "    shutil.copyfile(\n",
    "        f'{K_PATH}/{GH_PATH}/{config[\"model\"]}Recommender/Optimizing{config[\"metric\"]}/history_{config[\"model\"]}_{config[\"metric\"]}.db', \n",
    "        config['database_path']\n",
    "    )\n",
    "except FileNotFoundError:\n",
    "    pass # if not present optuna will create it"
   ]
  },
  {
   "cell_type": "markdown",
   "id": "67d614dc",
   "metadata": {
    "papermill": {
     "duration": 0.014789,
     "end_time": "2025-01-06T23:53:42.741933",
     "exception": false,
     "start_time": "2025-01-06T23:53:42.727144",
     "status": "completed"
    },
    "tags": []
   },
   "source": [
    "# Construction of URM and ICM matrices"
   ]
  },
  {
   "cell_type": "code",
   "execution_count": 9,
   "id": "1fcfe51e",
   "metadata": {
    "execution": {
     "iopub.execute_input": "2025-01-06T23:53:42.773489Z",
     "iopub.status.busy": "2025-01-06T23:53:42.773086Z",
     "iopub.status.idle": "2025-01-06T23:53:43.615420Z",
     "shell.execute_reply": "2025-01-06T23:53:43.614090Z"
    },
    "papermill": {
     "duration": 0.860426,
     "end_time": "2025-01-06T23:53:43.617396",
     "exception": false,
     "start_time": "2025-01-06T23:53:42.756970",
     "status": "completed"
    },
    "tags": []
   },
   "outputs": [
    {
     "data": {
      "text/plain": [
       "<35736x38121 sparse matrix of type '<class 'numpy.float64'>'\n",
       "\twith 1764607 stored elements in Compressed Sparse Row format>"
      ]
     },
     "execution_count": 9,
     "metadata": {},
     "output_type": "execute_result"
    }
   ],
   "source": [
    "URM_all_dataframe = pd.read_csv(\"/kaggle/input/recommender-system-2024-challenge-polimi/data_train.csv\")\n",
    "\n",
    "n_users = len(URM_all_dataframe[\"user_id\"].unique())\n",
    "n_items = len(URM_all_dataframe[\"item_id\"].unique())\n",
    "\n",
    "URM_all = sps.csr_matrix((URM_all_dataframe[\"data\"].values, \n",
    "                          (URM_all_dataframe[\"user_id\"].values, URM_all_dataframe[\"item_id\"].values)),\n",
    "                        shape = (n_users, n_items))\n",
    "\n",
    "URM_all"
   ]
  },
  {
   "cell_type": "code",
   "execution_count": 10,
   "id": "ffc3b520",
   "metadata": {
    "execution": {
     "iopub.execute_input": "2025-01-06T23:53:43.650123Z",
     "iopub.status.busy": "2025-01-06T23:53:43.649753Z",
     "iopub.status.idle": "2025-01-06T23:53:44.952675Z",
     "shell.execute_reply": "2025-01-06T23:53:44.951671Z"
    },
    "papermill": {
     "duration": 1.321531,
     "end_time": "2025-01-06T23:53:44.954822",
     "exception": false,
     "start_time": "2025-01-06T23:53:43.633291",
     "status": "completed"
    },
    "tags": []
   },
   "outputs": [
    {
     "data": {
      "text/plain": [
       "<38121x94331 sparse matrix of type '<class 'numpy.float64'>'\n",
       "\twith 2940040 stored elements in Compressed Sparse Row format>"
      ]
     },
     "execution_count": 10,
     "metadata": {},
     "output_type": "execute_result"
    }
   ],
   "source": [
    "ICM_dataframe = pd.read_csv(\"/kaggle/input/recommender-system-2024-challenge-polimi/data_ICM_metadata.csv\")\n",
    "\n",
    "n_items = len(ICM_dataframe[\"item_id\"].unique())\n",
    "n_features = len(ICM_dataframe[\"feature_id\"].unique())\n",
    "\n",
    "ICM_all = sps.csr_matrix((ICM_dataframe[\"data\"].values, \n",
    "                          (ICM_dataframe[\"item_id\"].values, ICM_dataframe[\"feature_id\"].values)),\n",
    "                        shape = (n_items, n_features))\n",
    "\n",
    "ICM_all"
   ]
  },
  {
   "cell_type": "markdown",
   "id": "13fda383",
   "metadata": {
    "papermill": {
     "duration": 0.017866,
     "end_time": "2025-01-06T23:53:44.989984",
     "exception": false,
     "start_time": "2025-01-06T23:53:44.972118",
     "status": "completed"
    },
    "tags": []
   },
   "source": [
    "# Training"
   ]
  },
  {
   "cell_type": "code",
   "execution_count": 11,
   "id": "8329c9d8",
   "metadata": {
    "execution": {
     "iopub.execute_input": "2025-01-06T23:53:45.024555Z",
     "iopub.status.busy": "2025-01-06T23:53:45.024166Z",
     "iopub.status.idle": "2025-01-06T23:54:03.058766Z",
     "shell.execute_reply": "2025-01-06T23:54:03.057732Z"
    },
    "papermill": {
     "duration": 18.055138,
     "end_time": "2025-01-06T23:54:03.061179",
     "exception": false,
     "start_time": "2025-01-06T23:53:45.006041",
     "status": "completed"
    },
    "tags": []
   },
   "outputs": [
    {
     "name": "stdout",
     "output_type": "stream",
     "text": [
      "Warning: 141 (0.39 %) of 35736 users have no sampled items\n"
     ]
    }
   ],
   "source": [
    "from Evaluation.Evaluator import EvaluatorHoldout\n",
    "from Data_manager.split_functions.split_train_validation_random_holdout import split_train_in_two_percentage_global_sample\n",
    "from Data_manager.split_functions.split_train_k_folds import split_train_k_folds\n",
    "\n",
    "URM_train, URM_validation = split_train_in_two_percentage_global_sample(URM_all, train_percentage = 0.80)\n",
    "\n",
    "folds = split_train_k_folds(URM_all, k=config['n_folds'])"
   ]
  },
  {
   "cell_type": "code",
   "execution_count": 12,
   "id": "72280483",
   "metadata": {
    "execution": {
     "iopub.execute_input": "2025-01-06T23:54:03.094440Z",
     "iopub.status.busy": "2025-01-06T23:54:03.094030Z",
     "iopub.status.idle": "2025-01-06T23:54:04.249242Z",
     "shell.execute_reply": "2025-01-06T23:54:04.248085Z"
    },
    "papermill": {
     "duration": 1.173736,
     "end_time": "2025-01-06T23:54:04.251261",
     "exception": false,
     "start_time": "2025-01-06T23:54:03.077525",
     "status": "completed"
    },
    "tags": []
   },
   "outputs": [],
   "source": [
    "from Recommenders.GraphBased.P3alphaRecommender import P3alphaRecommender\n",
    "\n",
    "def objective_function_P3alpha(optuna_trial):\n",
    "    \n",
    "    full_hyperp = {\n",
    "                   \"topK\": optuna_trial.suggest_int(\"topK\", 0, 1500),\n",
    "                   \"alpha\": optuna_trial.suggest_float(\"alpha\", 0, 2, log=False),\n",
    "                   \"normalize_similarity\": optuna_trial.suggest_categorical(\"normalize_similarity\", [True, False]),\n",
    "                   \"implicit\": optuna_trial.suggest_categorical(\"implicit\", [True, False]),\n",
    "    }            \n",
    "\n",
    "    validation_results = []\n",
    "    \n",
    "    for fold_idx, (URM_train_fold, URM_validation_fold) in enumerate(folds):\n",
    "    \n",
    "        recommender_instance = P3alphaRecommender(URM_train_fold)\n",
    "        recommender_instance.fit(**full_hyperp)\n",
    "        \n",
    "        evaluator = EvaluatorHoldout(URM_validation_fold, cutoff_list=[10])\n",
    "        result_df, _ = evaluator.evaluateRecommender(recommender_instance)\n",
    "        \n",
    "        validation_results.append(result_df.loc[10][\"MAP\"])\n",
    "    \n",
    "    return np.mean(validation_results)"
   ]
  },
  {
   "cell_type": "code",
   "execution_count": 13,
   "id": "93b7ebac",
   "metadata": {
    "_kg_hide-output": true,
    "execution": {
     "iopub.execute_input": "2025-01-06T23:54:04.288977Z",
     "iopub.status.busy": "2025-01-06T23:54:04.288367Z",
     "iopub.status.idle": "2025-01-07T10:24:08.993898Z",
     "shell.execute_reply": "2025-01-07T10:24:08.992744Z"
    },
    "papermill": {
     "duration": 37804.797048,
     "end_time": "2025-01-07T10:24:09.066440",
     "exception": false,
     "start_time": "2025-01-06T23:54:04.269392",
     "status": "completed"
    },
    "tags": []
   },
   "outputs": [
    {
     "name": "stderr",
     "output_type": "stream",
     "text": [
      "[I 2025-01-06 23:54:05,367] Using an existing study with name 'hyperparameters_tuning_P3alpha_MAP' instead of creating a new one.\n"
     ]
    },
    {
     "name": "stdout",
     "output_type": "stream",
     "text": [
      "P3alphaRecommender: Similarity column 38121 (100.0%), 1940.72 column/sec. Elapsed time 19.64 sec\n",
      "EvaluatorHoldout: Ignoring 173 ( 0.5%) Users that have less than 1 test interactions\n",
      "EvaluatorHoldout: Processed 35563 (100.0%) in 34.12 sec. Users per second: 1042\n",
      "P3alphaRecommender: Similarity column 38121 (100.0%), 1825.00 column/sec. Elapsed time 20.89 sec\n",
      "EvaluatorHoldout: Ignoring 163 ( 0.5%) Users that have less than 1 test interactions\n",
      "EvaluatorHoldout: Processed 35573 (100.0%) in 31.29 sec. Users per second: 1137\n",
      "P3alphaRecommender: Similarity column 38121 (100.0%), 1920.57 column/sec. Elapsed time 19.85 sec\n",
      "EvaluatorHoldout: Ignoring 150 ( 0.4%) Users that have less than 1 test interactions\n",
      "EvaluatorHoldout: Processed 35586 (100.0%) in 30.66 sec. Users per second: 1161\n",
      "P3alphaRecommender: Similarity column 38121 (100.0%), 1901.38 column/sec. Elapsed time 20.05 sec\n",
      "EvaluatorHoldout: Ignoring 167 ( 0.5%) Users that have less than 1 test interactions\n",
      "EvaluatorHoldout: Processed 35569 (100.0%) in 30.89 sec. Users per second: 1151\n",
      "P3alphaRecommender: Similarity column 38121 (100.0%), 1930.87 column/sec. Elapsed time 19.74 sec\n",
      "EvaluatorHoldout: Ignoring 172 ( 0.5%) Users that have less than 1 test interactions\n",
      "EvaluatorHoldout: Processed 35564 (100.0%) in 30.85 sec. Users per second: 1153\n"
     ]
    },
    {
     "name": "stderr",
     "output_type": "stream",
     "text": [
      "[I 2025-01-06 23:58:40,364] Trial 550 finished with value: 0.04783471831975102 and parameters: {'topK': 92, 'alpha': 0.2669562353513171, 'normalize_similarity': True, 'implicit': False}. Best is trial 10 with value: 0.05370249298547826.\n"
     ]
    },
    {
     "name": "stdout",
     "output_type": "stream",
     "text": [
      "P3alphaRecommender: Similarity column 38121 (100.0%), 1335.55 column/sec. Elapsed time 28.54 sec\n",
      "EvaluatorHoldout: Ignoring 173 ( 0.5%) Users that have less than 1 test interactions\n",
      "EvaluatorHoldout: Processed 35563 (100.0%) in 38.84 sec. Users per second: 916\n",
      "P3alphaRecommender: Similarity column 38121 (100.0%), 1093.64 column/sec. Elapsed time 34.86 sec\n",
      "EvaluatorHoldout: Ignoring 163 ( 0.5%) Users that have less than 1 test interactions\n",
      "EvaluatorHoldout: Processed 35573 (100.0%) in 39.90 sec. Users per second: 892\n",
      "P3alphaRecommender: Similarity column 38121 (100.0%), 1335.62 column/sec. Elapsed time 28.54 sec\n",
      "EvaluatorHoldout: Ignoring 150 ( 0.4%) Users that have less than 1 test interactions\n",
      "EvaluatorHoldout: Processed 35586 (100.0%) in 38.94 sec. Users per second: 914\n",
      "P3alphaRecommender: Similarity column 38121 (100.0%), 1290.96 column/sec. Elapsed time 29.53 sec\n",
      "EvaluatorHoldout: Ignoring 167 ( 0.5%) Users that have less than 1 test interactions\n",
      "EvaluatorHoldout: Processed 35569 (100.0%) in 38.66 sec. Users per second: 920\n",
      "P3alphaRecommender: Similarity column 38121 (100.0%), 1323.87 column/sec. Elapsed time 28.80 sec\n",
      "EvaluatorHoldout: Ignoring 172 ( 0.5%) Users that have less than 1 test interactions\n",
      "EvaluatorHoldout: Processed 35564 (100.0%) in 39.16 sec. Users per second: 908\n"
     ]
    },
    {
     "name": "stderr",
     "output_type": "stream",
     "text": [
      "[I 2025-01-07 00:05:14,421] Trial 551 finished with value: 0.04040734818808826 and parameters: {'topK': 270, 'alpha': 0.10504632785542875, 'normalize_similarity': True, 'implicit': False}. Best is trial 10 with value: 0.05370249298547826.\n"
     ]
    },
    {
     "name": "stdout",
     "output_type": "stream",
     "text": [
      "P3alphaRecommender: Similarity column 38121 (100.0%), 2247.26 column/sec. Elapsed time 16.96 sec\n",
      "EvaluatorHoldout: Ignoring 173 ( 0.5%) Users that have less than 1 test interactions\n",
      "EvaluatorHoldout: Processed 35563 (100.0%) in 32.88 sec. Users per second: 1082\n",
      "P3alphaRecommender: Similarity column 38121 (100.0%), 2225.48 column/sec. Elapsed time 17.13 sec\n",
      "EvaluatorHoldout: Ignoring 163 ( 0.5%) Users that have less than 1 test interactions\n",
      "EvaluatorHoldout: Processed 35573 (100.0%) in 32.35 sec. Users per second: 1100\n",
      "P3alphaRecommender: Similarity column 38121 (100.0%), 2265.58 column/sec. Elapsed time 16.83 sec\n",
      "EvaluatorHoldout: Ignoring 150 ( 0.4%) Users that have less than 1 test interactions\n",
      "EvaluatorHoldout: Processed 35586 (100.0%) in 32.60 sec. Users per second: 1091\n",
      "P3alphaRecommender: Similarity column 38121 (100.0%), 2222.86 column/sec. Elapsed time 17.15 sec\n",
      "EvaluatorHoldout: Ignoring 167 ( 0.5%) Users that have less than 1 test interactions\n",
      "EvaluatorHoldout: Processed 35569 (100.0%) in 32.39 sec. Users per second: 1098\n",
      "P3alphaRecommender: Similarity column 38121 (100.0%), 2231.52 column/sec. Elapsed time 17.08 sec\n",
      "EvaluatorHoldout: Ignoring 172 ( 0.5%) Users that have less than 1 test interactions\n",
      "EvaluatorHoldout: Processed 35564 (100.0%) in 32.37 sec. Users per second: 1099\n"
     ]
    },
    {
     "name": "stderr",
     "output_type": "stream",
     "text": [
      "[I 2025-01-07 00:09:29,916] Trial 552 finished with value: 0.052354820017498215 and parameters: {'topK': 31, 'alpha': 0.2268561261217963, 'normalize_similarity': True, 'implicit': False}. Best is trial 10 with value: 0.05370249298547826.\n"
     ]
    },
    {
     "name": "stdout",
     "output_type": "stream",
     "text": [
      "P3alphaRecommender: Similarity column 38121 (100.0%), 3335.65 column/sec. Elapsed time 11.43 sec\n",
      "EvaluatorHoldout: Ignoring 173 ( 0.5%) Users that have less than 1 test interactions\n",
      "EvaluatorHoldout: Processed 35563 (100.0%) in 25.32 sec. Users per second: 1404\n",
      "P3alphaRecommender: Similarity column 38121 (100.0%), 3245.23 column/sec. Elapsed time 11.75 sec\n",
      "EvaluatorHoldout: Ignoring 163 ( 0.5%) Users that have less than 1 test interactions\n",
      "EvaluatorHoldout: Processed 35573 (100.0%) in 25.31 sec. Users per second: 1405\n",
      "P3alphaRecommender: Similarity column 38121 (100.0%), 3315.41 column/sec. Elapsed time 11.50 sec\n",
      "EvaluatorHoldout: Ignoring 150 ( 0.4%) Users that have less than 1 test interactions\n",
      "EvaluatorHoldout: Processed 35586 (100.0%) in 25.33 sec. Users per second: 1405\n",
      "P3alphaRecommender: Similarity column 38121 (100.0%), 3291.07 column/sec. Elapsed time 11.58 sec\n",
      "EvaluatorHoldout: Ignoring 167 ( 0.5%) Users that have less than 1 test interactions\n",
      "EvaluatorHoldout: Processed 35569 (100.0%) in 25.24 sec. Users per second: 1409\n",
      "P3alphaRecommender: Similarity column 38121 (100.0%), 3339.53 column/sec. Elapsed time 11.42 sec\n",
      "EvaluatorHoldout: Ignoring 172 ( 0.5%) Users that have less than 1 test interactions\n",
      "EvaluatorHoldout: Processed 35564 (100.0%) in 25.50 sec. Users per second: 1395\n"
     ]
    },
    {
     "name": "stderr",
     "output_type": "stream",
     "text": [
      "[I 2025-01-07 00:12:35,335] Trial 553 finished with value: 0.0002664826418719655 and parameters: {'topK': 0, 'alpha': 0.3698958093727899, 'normalize_similarity': True, 'implicit': False}. Best is trial 10 with value: 0.05370249298547826.\n"
     ]
    },
    {
     "name": "stdout",
     "output_type": "stream",
     "text": [
      "P3alphaRecommender: Similarity column 38121 (100.0%), 2080.56 column/sec. Elapsed time 18.32 sec\n",
      "EvaluatorHoldout: Ignoring 173 ( 0.5%) Users that have less than 1 test interactions\n",
      "EvaluatorHoldout: Processed 35563 (100.0%) in 33.89 sec. Users per second: 1049\n",
      "P3alphaRecommender: Similarity column 38121 (100.0%), 2057.86 column/sec. Elapsed time 18.52 sec\n",
      "EvaluatorHoldout: Ignoring 163 ( 0.5%) Users that have less than 1 test interactions\n",
      "EvaluatorHoldout: Processed 35573 (100.0%) in 33.45 sec. Users per second: 1063\n",
      "P3alphaRecommender: Similarity column 38121 (100.0%), 2090.85 column/sec. Elapsed time 18.23 sec\n",
      "EvaluatorHoldout: Ignoring 150 ( 0.4%) Users that have less than 1 test interactions\n",
      "EvaluatorHoldout: Processed 35586 (100.0%) in 34.70 sec. Users per second: 1025\n",
      "P3alphaRecommender: Similarity column 38121 (100.0%), 2069.54 column/sec. Elapsed time 18.42 sec\n",
      "EvaluatorHoldout: Ignoring 167 ( 0.5%) Users that have less than 1 test interactions\n",
      "EvaluatorHoldout: Processed 35569 (100.0%) in 34.11 sec. Users per second: 1043\n",
      "P3alphaRecommender: Similarity column 38121 (100.0%), 2042.39 column/sec. Elapsed time 18.66 sec\n",
      "EvaluatorHoldout: Ignoring 172 ( 0.5%) Users that have less than 1 test interactions\n",
      "EvaluatorHoldout: Processed 35564 (100.0%) in 34.46 sec. Users per second: 1032\n"
     ]
    },
    {
     "name": "stderr",
     "output_type": "stream",
     "text": [
      "[I 2025-01-07 00:17:10,425] Trial 554 finished with value: 0.049952352856993176 and parameters: {'topK': 62, 'alpha': 0.299020039560865, 'normalize_similarity': True, 'implicit': False}. Best is trial 10 with value: 0.05370249298547826.\n"
     ]
    },
    {
     "name": "stdout",
     "output_type": "stream",
     "text": [
      "P3alphaRecommender: Similarity column 38121 (100.0%), 2201.74 column/sec. Elapsed time 17.31 sec\n",
      "EvaluatorHoldout: Ignoring 173 ( 0.5%) Users that have less than 1 test interactions\n",
      "EvaluatorHoldout: Processed 35563 (100.0%) in 31.88 sec. Users per second: 1115\n",
      "P3alphaRecommender: Similarity column 38121 (100.0%), 2251.93 column/sec. Elapsed time 16.93 sec\n",
      "EvaluatorHoldout: Ignoring 163 ( 0.5%) Users that have less than 1 test interactions\n",
      "EvaluatorHoldout: Processed 35573 (100.0%) in 32.30 sec. Users per second: 1101\n",
      "P3alphaRecommender: Similarity column 38121 (100.0%), 2248.82 column/sec. Elapsed time 16.95 sec\n",
      "EvaluatorHoldout: Ignoring 150 ( 0.4%) Users that have less than 1 test interactions\n",
      "EvaluatorHoldout: Processed 35586 (100.0%) in 32.31 sec. Users per second: 1101\n",
      "P3alphaRecommender: Similarity column 38121 (100.0%), 2264.31 column/sec. Elapsed time 16.84 sec\n",
      "EvaluatorHoldout: Ignoring 167 ( 0.5%) Users that have less than 1 test interactions\n",
      "EvaluatorHoldout: Processed 35569 (100.0%) in 32.93 sec. Users per second: 1080\n",
      "P3alphaRecommender: Similarity column 38121 (100.0%), 2236.74 column/sec. Elapsed time 17.04 sec\n",
      "EvaluatorHoldout: Ignoring 172 ( 0.5%) Users that have less than 1 test interactions\n",
      "EvaluatorHoldout: Processed 35564 (100.0%) in 31.60 sec. Users per second: 1125\n"
     ]
    },
    {
     "name": "stderr",
     "output_type": "stream",
     "text": [
      "[I 2025-01-07 00:21:23,875] Trial 555 finished with value: 0.05288723820960998 and parameters: {'topK': 28, 'alpha': 0.41470272519669144, 'normalize_similarity': True, 'implicit': False}. Best is trial 10 with value: 0.05370249298547826.\n"
     ]
    },
    {
     "name": "stdout",
     "output_type": "stream",
     "text": [
      "P3alphaRecommender: Similarity column 38121 (100.0%), 2079.76 column/sec. Elapsed time 18.33 sec\n",
      "EvaluatorHoldout: Ignoring 173 ( 0.5%) Users that have less than 1 test interactions\n",
      "EvaluatorHoldout: Processed 35563 (100.0%) in 33.51 sec. Users per second: 1061\n",
      "P3alphaRecommender: Similarity column 38121 (100.0%), 2047.99 column/sec. Elapsed time 18.61 sec\n",
      "EvaluatorHoldout: Ignoring 163 ( 0.5%) Users that have less than 1 test interactions\n",
      "EvaluatorHoldout: Processed 35573 (100.0%) in 33.83 sec. Users per second: 1051\n",
      "P3alphaRecommender: Similarity column 38121 (100.0%), 2074.24 column/sec. Elapsed time 18.38 sec\n",
      "EvaluatorHoldout: Ignoring 150 ( 0.4%) Users that have less than 1 test interactions\n",
      "EvaluatorHoldout: Processed 35586 (100.0%) in 33.71 sec. Users per second: 1056\n",
      "P3alphaRecommender: Similarity column 38121 (100.0%), 2066.60 column/sec. Elapsed time 18.45 sec\n",
      "EvaluatorHoldout: Ignoring 167 ( 0.5%) Users that have less than 1 test interactions\n",
      "EvaluatorHoldout: Processed 35569 (100.0%) in 33.68 sec. Users per second: 1056\n",
      "P3alphaRecommender: Similarity column 38121 (100.0%), 2054.48 column/sec. Elapsed time 18.56 sec\n",
      "EvaluatorHoldout: Ignoring 172 ( 0.5%) Users that have less than 1 test interactions\n",
      "EvaluatorHoldout: Processed 35564 (100.0%) in 33.80 sec. Users per second: 1052\n"
     ]
    },
    {
     "name": "stderr",
     "output_type": "stream",
     "text": [
      "[I 2025-01-07 00:25:57,235] Trial 556 finished with value: 0.04987685624982983 and parameters: {'topK': 64, 'alpha': 0.33722463198573943, 'normalize_similarity': True, 'implicit': True}. Best is trial 10 with value: 0.05370249298547826.\n"
     ]
    },
    {
     "name": "stdout",
     "output_type": "stream",
     "text": [
      "P3alphaRecommender: Similarity column 38121 (100.0%), 1882.35 column/sec. Elapsed time 20.25 sec\n",
      "EvaluatorHoldout: Ignoring 173 ( 0.5%) Users that have less than 1 test interactions\n",
      "EvaluatorHoldout: Processed 35563 (100.0%) in 31.87 sec. Users per second: 1116\n",
      "P3alphaRecommender: Similarity column 38121 (100.0%), 1912.64 column/sec. Elapsed time 19.93 sec\n",
      "EvaluatorHoldout: Ignoring 163 ( 0.5%) Users that have less than 1 test interactions\n",
      "EvaluatorHoldout: Processed 35573 (100.0%) in 32.06 sec. Users per second: 1109\n",
      "P3alphaRecommender: Similarity column 38121 (100.0%), 1911.38 column/sec. Elapsed time 19.94 sec\n",
      "EvaluatorHoldout: Ignoring 150 ( 0.4%) Users that have less than 1 test interactions\n",
      "EvaluatorHoldout: Processed 35586 (100.0%) in 31.71 sec. Users per second: 1122\n",
      "P3alphaRecommender: Similarity column 38121 (100.0%), 1913.94 column/sec. Elapsed time 19.92 sec\n",
      "EvaluatorHoldout: Ignoring 167 ( 0.5%) Users that have less than 1 test interactions\n",
      "EvaluatorHoldout: Processed 35569 (100.0%) in 32.20 sec. Users per second: 1105\n",
      "P3alphaRecommender: Similarity column 38121 (100.0%), 1894.18 column/sec. Elapsed time 20.13 sec\n",
      "EvaluatorHoldout: Ignoring 172 ( 0.5%) Users that have less than 1 test interactions\n",
      "EvaluatorHoldout: Processed 35564 (100.0%) in 33.18 sec. Users per second: 1072\n"
     ]
    },
    {
     "name": "stderr",
     "output_type": "stream",
     "text": [
      "[I 2025-01-07 00:30:38,550] Trial 557 finished with value: 0.04555739481079582 and parameters: {'topK': 98, 'alpha': 1.1356843790208597, 'normalize_similarity': True, 'implicit': False}. Best is trial 10 with value: 0.05370249298547826.\n"
     ]
    },
    {
     "name": "stdout",
     "output_type": "stream",
     "text": [
      "P3alphaRecommender: Similarity column 38121 (100.0%), 2275.08 column/sec. Elapsed time 16.76 sec\n",
      "EvaluatorHoldout: Ignoring 173 ( 0.5%) Users that have less than 1 test interactions\n",
      "EvaluatorHoldout: Processed 35563 (100.0%) in 31.63 sec. Users per second: 1124\n",
      "P3alphaRecommender: Similarity column 38121 (100.0%), 2307.09 column/sec. Elapsed time 16.52 sec\n",
      "EvaluatorHoldout: Ignoring 163 ( 0.5%) Users that have less than 1 test interactions\n",
      "EvaluatorHoldout: Processed 35573 (100.0%) in 31.58 sec. Users per second: 1126\n",
      "P3alphaRecommender: Similarity column 38121 (100.0%), 2273.41 column/sec. Elapsed time 16.77 sec\n",
      "EvaluatorHoldout: Ignoring 150 ( 0.4%) Users that have less than 1 test interactions\n",
      "EvaluatorHoldout: Processed 35586 (100.0%) in 31.79 sec. Users per second: 1119\n",
      "P3alphaRecommender: Similarity column 38121 (100.0%), 2284.34 column/sec. Elapsed time 16.69 sec\n",
      "EvaluatorHoldout: Ignoring 167 ( 0.5%) Users that have less than 1 test interactions\n",
      "EvaluatorHoldout: Processed 35569 (100.0%) in 31.79 sec. Users per second: 1119\n",
      "P3alphaRecommender: Similarity column 38121 (100.0%), 2289.24 column/sec. Elapsed time 16.65 sec\n",
      "EvaluatorHoldout: Ignoring 172 ( 0.5%) Users that have less than 1 test interactions\n",
      "EvaluatorHoldout: Processed 35564 (100.0%) in 32.41 sec. Users per second: 1097\n"
     ]
    },
    {
     "name": "stderr",
     "output_type": "stream",
     "text": [
      "[I 2025-01-07 00:34:48,075] Trial 558 finished with value: 0.05300637126979988 and parameters: {'topK': 26, 'alpha': 0.27950897235825767, 'normalize_similarity': True, 'implicit': False}. Best is trial 10 with value: 0.05370249298547826.\n"
     ]
    },
    {
     "name": "stdout",
     "output_type": "stream",
     "text": [
      "P3alphaRecommender: Similarity column 38121 (100.0%), 2171.41 column/sec. Elapsed time 17.56 sec\n",
      "EvaluatorHoldout: Ignoring 173 ( 0.5%) Users that have less than 1 test interactions\n",
      "EvaluatorHoldout: Processed 35563 (100.0%) in 32.58 sec. Users per second: 1092\n",
      "P3alphaRecommender: Similarity column 38121 (100.0%), 2188.83 column/sec. Elapsed time 17.42 sec\n",
      "EvaluatorHoldout: Ignoring 163 ( 0.5%) Users that have less than 1 test interactions\n",
      "EvaluatorHoldout: Processed 35573 (100.0%) in 32.41 sec. Users per second: 1097\n",
      "P3alphaRecommender: Similarity column 38121 (100.0%), 2172.86 column/sec. Elapsed time 17.54 sec\n",
      "EvaluatorHoldout: Ignoring 150 ( 0.4%) Users that have less than 1 test interactions\n",
      "EvaluatorHoldout: Processed 35586 (100.0%) in 32.63 sec. Users per second: 1091\n",
      "P3alphaRecommender: Similarity column 38121 (100.0%), 2202.94 column/sec. Elapsed time 17.30 sec\n",
      "EvaluatorHoldout: Ignoring 167 ( 0.5%) Users that have less than 1 test interactions\n",
      "EvaluatorHoldout: Processed 35569 (100.0%) in 32.64 sec. Users per second: 1090\n",
      "P3alphaRecommender: Similarity column 38121 (100.0%), 2187.06 column/sec. Elapsed time 17.43 sec\n",
      "EvaluatorHoldout: Ignoring 172 ( 0.5%) Users that have less than 1 test interactions\n",
      "EvaluatorHoldout: Processed 35564 (100.0%) in 32.61 sec. Users per second: 1091\n"
     ]
    },
    {
     "name": "stderr",
     "output_type": "stream",
     "text": [
      "[I 2025-01-07 00:39:07,645] Trial 559 finished with value: 0.050955427409444164 and parameters: {'topK': 44, 'alpha': 0.16045148698415115, 'normalize_similarity': True, 'implicit': False}. Best is trial 10 with value: 0.05370249298547826.\n"
     ]
    },
    {
     "name": "stdout",
     "output_type": "stream",
     "text": [
      "P3alphaRecommender: Similarity column 38121 (100.0%), 2016.51 column/sec. Elapsed time 18.90 sec\n",
      "EvaluatorHoldout: Ignoring 173 ( 0.5%) Users that have less than 1 test interactions\n",
      "EvaluatorHoldout: Processed 35563 (100.0%) in 34.37 sec. Users per second: 1035\n",
      "P3alphaRecommender: Similarity column 38121 (100.0%), 1982.14 column/sec. Elapsed time 19.23 sec\n",
      "EvaluatorHoldout: Ignoring 163 ( 0.5%) Users that have less than 1 test interactions\n",
      "EvaluatorHoldout: Processed 35573 (100.0%) in 34.12 sec. Users per second: 1043\n",
      "P3alphaRecommender: Similarity column 38121 (100.0%), 2037.43 column/sec. Elapsed time 18.71 sec\n",
      "EvaluatorHoldout: Ignoring 150 ( 0.4%) Users that have less than 1 test interactions\n",
      "EvaluatorHoldout: Processed 35586 (100.0%) in 34.10 sec. Users per second: 1044\n",
      "P3alphaRecommender: Similarity column 38121 (100.0%), 2038.24 column/sec. Elapsed time 18.70 sec\n",
      "EvaluatorHoldout: Ignoring 167 ( 0.5%) Users that have less than 1 test interactions\n",
      "EvaluatorHoldout: Processed 35569 (100.0%) in 34.12 sec. Users per second: 1042\n",
      "P3alphaRecommender: Similarity column 38121 (100.0%), 2025.36 column/sec. Elapsed time 18.82 sec\n",
      "EvaluatorHoldout: Ignoring 172 ( 0.5%) Users that have less than 1 test interactions\n",
      "EvaluatorHoldout: Processed 35564 (100.0%) in 33.79 sec. Users per second: 1053\n"
     ]
    },
    {
     "name": "stderr",
     "output_type": "stream",
     "text": [
      "[I 2025-01-07 00:43:46,051] Trial 560 finished with value: 0.04941570427465221 and parameters: {'topK': 71, 'alpha': 0.4335825674193548, 'normalize_similarity': True, 'implicit': False}. Best is trial 10 with value: 0.05370249298547826.\n"
     ]
    },
    {
     "name": "stdout",
     "output_type": "stream",
     "text": [
      "P3alphaRecommender: Similarity column 38121 (100.0%), 2313.86 column/sec. Elapsed time 16.48 sec\n",
      "EvaluatorHoldout: Ignoring 173 ( 0.5%) Users that have less than 1 test interactions\n",
      "EvaluatorHoldout: Processed 35563 (100.0%) in 31.49 sec. Users per second: 1129\n",
      "P3alphaRecommender: Similarity column 38121 (100.0%), 2291.07 column/sec. Elapsed time 16.64 sec\n",
      "EvaluatorHoldout: Ignoring 163 ( 0.5%) Users that have less than 1 test interactions\n",
      "EvaluatorHoldout: Processed 35573 (100.0%) in 32.50 sec. Users per second: 1094\n",
      "P3alphaRecommender: Similarity column 38121 (100.0%), 2290.56 column/sec. Elapsed time 16.64 sec\n",
      "EvaluatorHoldout: Ignoring 150 ( 0.4%) Users that have less than 1 test interactions\n",
      "EvaluatorHoldout: Processed 35586 (100.0%) in 31.30 sec. Users per second: 1137\n",
      "P3alphaRecommender: Similarity column 38121 (100.0%), 2315.70 column/sec. Elapsed time 16.46 sec\n",
      "EvaluatorHoldout: Ignoring 167 ( 0.5%) Users that have less than 1 test interactions\n",
      "EvaluatorHoldout: Processed 35569 (100.0%) in 31.29 sec. Users per second: 1137\n",
      "P3alphaRecommender: Similarity column 38121 (100.0%), 2290.81 column/sec. Elapsed time 16.64 sec\n",
      "EvaluatorHoldout: Ignoring 172 ( 0.5%) Users that have less than 1 test interactions\n",
      "EvaluatorHoldout: Processed 35564 (100.0%) in 31.33 sec. Users per second: 1135\n"
     ]
    },
    {
     "name": "stderr",
     "output_type": "stream",
     "text": [
      "[I 2025-01-07 00:47:53,621] Trial 561 finished with value: 0.05329086789011413 and parameters: {'topK': 24, 'alpha': 0.36990301482650967, 'normalize_similarity': True, 'implicit': False}. Best is trial 10 with value: 0.05370249298547826.\n"
     ]
    },
    {
     "name": "stdout",
     "output_type": "stream",
     "text": [
      "P3alphaRecommender: Similarity column 38121 (100.0%), 2163.38 column/sec. Elapsed time 17.62 sec\n",
      "EvaluatorHoldout: Ignoring 173 ( 0.5%) Users that have less than 1 test interactions\n",
      "EvaluatorHoldout: Processed 35563 (100.0%) in 32.94 sec. Users per second: 1080\n",
      "P3alphaRecommender: Similarity column 38121 (100.0%), 2187.11 column/sec. Elapsed time 17.43 sec\n",
      "EvaluatorHoldout: Ignoring 163 ( 0.5%) Users that have less than 1 test interactions\n",
      "EvaluatorHoldout: Processed 35573 (100.0%) in 32.76 sec. Users per second: 1086\n",
      "P3alphaRecommender: Similarity column 38121 (100.0%), 2191.84 column/sec. Elapsed time 17.39 sec\n",
      "EvaluatorHoldout: Ignoring 150 ( 0.4%) Users that have less than 1 test interactions\n",
      "EvaluatorHoldout: Processed 35586 (100.0%) in 32.80 sec. Users per second: 1085\n",
      "P3alphaRecommender: Similarity column 38121 (100.0%), 2155.31 column/sec. Elapsed time 17.69 sec\n",
      "EvaluatorHoldout: Ignoring 167 ( 0.5%) Users that have less than 1 test interactions\n",
      "EvaluatorHoldout: Processed 35569 (100.0%) in 32.68 sec. Users per second: 1088\n",
      "P3alphaRecommender: Similarity column 38121 (100.0%), 2197.71 column/sec. Elapsed time 17.35 sec\n",
      "EvaluatorHoldout: Ignoring 172 ( 0.5%) Users that have less than 1 test interactions\n",
      "EvaluatorHoldout: Processed 35564 (100.0%) in 32.49 sec. Users per second: 1095\n"
     ]
    },
    {
     "name": "stderr",
     "output_type": "stream",
     "text": [
      "[I 2025-01-07 00:52:14,694] Trial 562 finished with value: 0.05120139948250054 and parameters: {'topK': 47, 'alpha': 0.400742487376947, 'normalize_similarity': True, 'implicit': False}. Best is trial 10 with value: 0.05370249298547826.\n"
     ]
    },
    {
     "name": "stdout",
     "output_type": "stream",
     "text": [
      "P3alphaRecommender: Similarity column 38121 (100.0%), 1882.63 column/sec. Elapsed time 20.25 sec\n",
      "EvaluatorHoldout: Ignoring 173 ( 0.5%) Users that have less than 1 test interactions\n",
      "EvaluatorHoldout: Processed 35563 (100.0%) in 30.98 sec. Users per second: 1148\n",
      "P3alphaRecommender: Similarity column 38121 (100.0%), 1867.84 column/sec. Elapsed time 20.41 sec\n",
      "EvaluatorHoldout: Ignoring 163 ( 0.5%) Users that have less than 1 test interactions\n",
      "EvaluatorHoldout: Processed 35573 (100.0%) in 31.02 sec. Users per second: 1147\n",
      "P3alphaRecommender: Similarity column 38121 (100.0%), 1866.61 column/sec. Elapsed time 20.42 sec\n",
      "EvaluatorHoldout: Ignoring 150 ( 0.4%) Users that have less than 1 test interactions\n",
      "EvaluatorHoldout: Processed 35586 (100.0%) in 31.02 sec. Users per second: 1147\n",
      "P3alphaRecommender: Similarity column 38121 (100.0%), 1861.68 column/sec. Elapsed time 20.48 sec\n",
      "EvaluatorHoldout: Ignoring 167 ( 0.5%) Users that have less than 1 test interactions\n",
      "EvaluatorHoldout: Processed 35569 (100.0%) in 30.96 sec. Users per second: 1149\n",
      "P3alphaRecommender: Similarity column 38121 (100.0%), 1860.16 column/sec. Elapsed time 20.49 sec\n",
      "EvaluatorHoldout: Ignoring 172 ( 0.5%) Users that have less than 1 test interactions\n",
      "EvaluatorHoldout: Processed 35564 (100.0%) in 30.93 sec. Users per second: 1150\n"
     ]
    },
    {
     "name": "stderr",
     "output_type": "stream",
     "text": [
      "[I 2025-01-07 00:56:51,339] Trial 563 finished with value: 0.046984243779065085 and parameters: {'topK': 112, 'alpha': 0.45287653839939135, 'normalize_similarity': True, 'implicit': False}. Best is trial 10 with value: 0.05370249298547826.\n"
     ]
    },
    {
     "name": "stdout",
     "output_type": "stream",
     "text": [
      "P3alphaRecommender: Similarity column 38121 (100.0%), 2313.93 column/sec. Elapsed time 16.47 sec\n",
      "EvaluatorHoldout: Ignoring 173 ( 0.5%) Users that have less than 1 test interactions\n",
      "EvaluatorHoldout: Processed 35563 (100.0%) in 31.96 sec. Users per second: 1113\n",
      "P3alphaRecommender: Similarity column 38121 (100.0%), 2298.07 column/sec. Elapsed time 16.59 sec\n",
      "EvaluatorHoldout: Ignoring 163 ( 0.5%) Users that have less than 1 test interactions\n",
      "EvaluatorHoldout: Processed 35573 (100.0%) in 32.02 sec. Users per second: 1111\n",
      "P3alphaRecommender: Similarity column 38121 (100.0%), 2269.25 column/sec. Elapsed time 16.80 sec\n",
      "EvaluatorHoldout: Ignoring 150 ( 0.4%) Users that have less than 1 test interactions\n",
      "EvaluatorHoldout: Processed 35586 (100.0%) in 32.16 sec. Users per second: 1106\n",
      "P3alphaRecommender: Similarity column 38121 (100.0%), 2295.46 column/sec. Elapsed time 16.61 sec\n",
      "EvaluatorHoldout: Ignoring 167 ( 0.5%) Users that have less than 1 test interactions\n",
      "EvaluatorHoldout: Processed 35569 (100.0%) in 33.85 sec. Users per second: 1051\n",
      "P3alphaRecommender: Similarity column 38121 (100.0%), 2152.72 column/sec. Elapsed time 17.71 sec\n",
      "EvaluatorHoldout: Ignoring 172 ( 0.5%) Users that have less than 1 test interactions\n",
      "EvaluatorHoldout: Processed 35564 (100.0%) in 32.23 sec. Users per second: 1103\n"
     ]
    },
    {
     "name": "stderr",
     "output_type": "stream",
     "text": [
      "[I 2025-01-07 01:01:04,716] Trial 564 finished with value: 0.040842829460374354 and parameters: {'topK': 26, 'alpha': 0.37634480752328503, 'normalize_similarity': False, 'implicit': False}. Best is trial 10 with value: 0.05370249298547826.\n"
     ]
    },
    {
     "name": "stdout",
     "output_type": "stream",
     "text": [
      "P3alphaRecommender: Similarity column 38121 (100.0%), 3283.28 column/sec. Elapsed time 11.61 sec\n",
      "EvaluatorHoldout: Ignoring 173 ( 0.5%) Users that have less than 1 test interactions\n",
      "EvaluatorHoldout: Processed 35563 (100.0%) in 26.11 sec. Users per second: 1362\n",
      "P3alphaRecommender: Similarity column 38121 (100.0%), 3293.09 column/sec. Elapsed time 11.58 sec\n",
      "EvaluatorHoldout: Ignoring 163 ( 0.5%) Users that have less than 1 test interactions\n",
      "EvaluatorHoldout: Processed 35573 (100.0%) in 25.68 sec. Users per second: 1385\n",
      "P3alphaRecommender: Similarity column 38121 (100.0%), 3318.67 column/sec. Elapsed time 11.49 sec\n",
      "EvaluatorHoldout: Ignoring 150 ( 0.4%) Users that have less than 1 test interactions\n",
      "EvaluatorHoldout: Processed 35586 (100.0%) in 25.76 sec. Users per second: 1382\n",
      "P3alphaRecommender: Similarity column 38121 (100.0%), 3343.98 column/sec. Elapsed time 11.40 sec\n",
      "EvaluatorHoldout: Ignoring 167 ( 0.5%) Users that have less than 1 test interactions\n",
      "EvaluatorHoldout: Processed 35569 (100.0%) in 26.14 sec. Users per second: 1361\n",
      "P3alphaRecommender: Similarity column 38121 (100.0%), 3303.94 column/sec. Elapsed time 11.54 sec\n",
      "EvaluatorHoldout: Ignoring 172 ( 0.5%) Users that have less than 1 test interactions\n",
      "EvaluatorHoldout: Processed 35564 (100.0%) in 25.42 sec. Users per second: 1399\n"
     ]
    },
    {
     "name": "stderr",
     "output_type": "stream",
     "text": [
      "[I 2025-01-07 01:04:12,508] Trial 565 finished with value: 0.0002664826418719655 and parameters: {'topK': 0, 'alpha': 1.048605456865753, 'normalize_similarity': True, 'implicit': False}. Best is trial 10 with value: 0.05370249298547826.\n"
     ]
    },
    {
     "name": "stdout",
     "output_type": "stream",
     "text": [
      "P3alphaRecommender: Similarity column 38121 (100.0%), 3310.51 column/sec. Elapsed time 11.52 sec\n",
      "EvaluatorHoldout: Ignoring 173 ( 0.5%) Users that have less than 1 test interactions\n",
      "EvaluatorHoldout: Processed 35563 (100.0%) in 25.61 sec. Users per second: 1389\n",
      "P3alphaRecommender: Similarity column 38121 (100.0%), 3270.65 column/sec. Elapsed time 11.66 sec\n",
      "EvaluatorHoldout: Ignoring 163 ( 0.5%) Users that have less than 1 test interactions\n",
      "EvaluatorHoldout: Processed 35573 (100.0%) in 28.18 sec. Users per second: 1262\n",
      "P3alphaRecommender: Similarity column 38121 (100.0%), 3307.06 column/sec. Elapsed time 11.53 sec\n",
      "EvaluatorHoldout: Ignoring 150 ( 0.4%) Users that have less than 1 test interactions\n",
      "EvaluatorHoldout: Processed 35586 (100.0%) in 26.40 sec. Users per second: 1348\n",
      "P3alphaRecommender: Similarity column 38121 (100.0%), 3260.60 column/sec. Elapsed time 11.69 sec\n",
      "EvaluatorHoldout: Ignoring 167 ( 0.5%) Users that have less than 1 test interactions\n",
      "EvaluatorHoldout: Processed 35569 (100.0%) in 25.75 sec. Users per second: 1381\n",
      "P3alphaRecommender: Similarity column 38121 (100.0%), 3172.76 column/sec. Elapsed time 12.02 sec\n",
      "EvaluatorHoldout: Ignoring 172 ( 0.5%) Users that have less than 1 test interactions\n",
      "EvaluatorHoldout: Processed 35564 (100.0%) in 26.23 sec. Users per second: 1356\n"
     ]
    },
    {
     "name": "stderr",
     "output_type": "stream",
     "text": [
      "[I 2025-01-07 01:07:24,146] Trial 566 finished with value: 0.0002664826418719655 and parameters: {'topK': 0, 'alpha': 0.4060539448268241, 'normalize_similarity': True, 'implicit': False}. Best is trial 10 with value: 0.05370249298547826.\n"
     ]
    },
    {
     "name": "stdout",
     "output_type": "stream",
     "text": [
      "P3alphaRecommender: Similarity column 38121 (100.0%), 2003.32 column/sec. Elapsed time 19.03 sec\n",
      "EvaluatorHoldout: Ignoring 173 ( 0.5%) Users that have less than 1 test interactions\n",
      "EvaluatorHoldout: Processed 35563 (100.0%) in 34.50 sec. Users per second: 1031\n",
      "P3alphaRecommender: Similarity column 38121 (100.0%), 2007.41 column/sec. Elapsed time 18.99 sec\n",
      "EvaluatorHoldout: Ignoring 163 ( 0.5%) Users that have less than 1 test interactions\n",
      "EvaluatorHoldout: Processed 35573 (100.0%) in 34.70 sec. Users per second: 1025\n",
      "P3alphaRecommender: Similarity column 38121 (100.0%), 1958.54 column/sec. Elapsed time 19.46 sec\n",
      "EvaluatorHoldout: Ignoring 150 ( 0.4%) Users that have less than 1 test interactions\n",
      "EvaluatorHoldout: Processed 35586 (100.0%) in 34.44 sec. Users per second: 1033\n",
      "P3alphaRecommender: Similarity column 38121 (100.0%), 1991.30 column/sec. Elapsed time 19.14 sec\n",
      "EvaluatorHoldout: Ignoring 167 ( 0.5%) Users that have less than 1 test interactions\n",
      "EvaluatorHoldout: Processed 35569 (100.0%) in 34.57 sec. Users per second: 1029\n",
      "P3alphaRecommender: Similarity column 38121 (100.0%), 2017.63 column/sec. Elapsed time 18.89 sec\n",
      "EvaluatorHoldout: Ignoring 172 ( 0.5%) Users that have less than 1 test interactions\n",
      "EvaluatorHoldout: Processed 35564 (100.0%) in 34.30 sec. Users per second: 1037\n"
     ]
    },
    {
     "name": "stderr",
     "output_type": "stream",
     "text": [
      "[I 2025-01-07 01:12:06,684] Trial 567 finished with value: 0.04911232466509683 and parameters: {'topK': 75, 'alpha': 0.44617126555894315, 'normalize_similarity': True, 'implicit': False}. Best is trial 10 with value: 0.05370249298547826.\n"
     ]
    },
    {
     "name": "stdout",
     "output_type": "stream",
     "text": [
      "P3alphaRecommender: Similarity column 38121 (100.0%), 2153.82 column/sec. Elapsed time 17.70 sec\n",
      "EvaluatorHoldout: Ignoring 173 ( 0.5%) Users that have less than 1 test interactions\n",
      "EvaluatorHoldout: Processed 35563 (100.0%) in 32.66 sec. Users per second: 1089\n",
      "P3alphaRecommender: Similarity column 38121 (100.0%), 2178.24 column/sec. Elapsed time 17.50 sec\n",
      "EvaluatorHoldout: Ignoring 163 ( 0.5%) Users that have less than 1 test interactions\n",
      "EvaluatorHoldout: Processed 35573 (100.0%) in 32.76 sec. Users per second: 1086\n",
      "P3alphaRecommender: Similarity column 38121 (100.0%), 2213.38 column/sec. Elapsed time 17.22 sec\n",
      "EvaluatorHoldout: Ignoring 150 ( 0.4%) Users that have less than 1 test interactions\n",
      "EvaluatorHoldout: Processed 35586 (100.0%) in 33.05 sec. Users per second: 1077\n",
      "P3alphaRecommender: Similarity column 38121 (100.0%), 2171.66 column/sec. Elapsed time 17.55 sec\n",
      "EvaluatorHoldout: Ignoring 167 ( 0.5%) Users that have less than 1 test interactions\n",
      "EvaluatorHoldout: Processed 35569 (100.0%) in 33.83 sec. Users per second: 1052\n",
      "P3alphaRecommender: Similarity column 38121 (100.0%), 2162.05 column/sec. Elapsed time 17.63 sec\n",
      "EvaluatorHoldout: Ignoring 172 ( 0.5%) Users that have less than 1 test interactions\n",
      "EvaluatorHoldout: Processed 35564 (100.0%) in 33.53 sec. Users per second: 1061\n"
     ]
    },
    {
     "name": "stderr",
     "output_type": "stream",
     "text": [
      "[I 2025-01-07 01:16:30,369] Trial 568 finished with value: 0.051316416922226805 and parameters: {'topK': 45, 'alpha': 0.3574652385933538, 'normalize_similarity': True, 'implicit': True}. Best is trial 10 with value: 0.05370249298547826.\n"
     ]
    },
    {
     "name": "stdout",
     "output_type": "stream",
     "text": [
      "P3alphaRecommender: Similarity column 38121 (100.0%), 770.64 column/sec. Elapsed time 49.47 sec\n",
      "EvaluatorHoldout: Ignoring 173 ( 0.5%) Users that have less than 1 test interactions\n",
      "EvaluatorHoldout: Processed 35563 (100.0%) in 47.52 sec. Users per second: 748\n",
      "P3alphaRecommender: Similarity column 38121 (100.0%), 779.94 column/sec. Elapsed time 48.88 sec\n",
      "EvaluatorHoldout: Ignoring 163 ( 0.5%) Users that have less than 1 test interactions\n",
      "EvaluatorHoldout: Processed 35573 (100.0%) in 47.94 sec. Users per second: 742\n",
      "P3alphaRecommender: Similarity column 38121 (100.0%), 780.73 column/sec. Elapsed time 48.83 sec\n",
      "EvaluatorHoldout: Ignoring 150 ( 0.4%) Users that have less than 1 test interactions\n",
      "EvaluatorHoldout: Processed 35586 (100.0%) in 47.79 sec. Users per second: 745\n",
      "P3alphaRecommender: Similarity column 38121 (100.0%), 780.27 column/sec. Elapsed time 48.86 sec\n",
      "EvaluatorHoldout: Ignoring 167 ( 0.5%) Users that have less than 1 test interactions\n",
      "EvaluatorHoldout: Processed 35569 (100.0%) in 47.64 sec. Users per second: 747\n",
      "P3alphaRecommender: Similarity column 38121 (100.0%), 777.45 column/sec. Elapsed time 49.03 sec\n",
      "EvaluatorHoldout: Ignoring 172 ( 0.5%) Users that have less than 1 test interactions\n",
      "EvaluatorHoldout: Processed 35564 (100.0%) in 47.59 sec. Users per second: 747\n"
     ]
    },
    {
     "name": "stderr",
     "output_type": "stream",
     "text": [
      "[I 2025-01-07 01:26:44,938] Trial 569 finished with value: 0.03724358415116223 and parameters: {'topK': 679, 'alpha': 0.9045865164444822, 'normalize_similarity': True, 'implicit': False}. Best is trial 10 with value: 0.05370249298547826.\n"
     ]
    },
    {
     "name": "stdout",
     "output_type": "stream",
     "text": [
      "P3alphaRecommender: Similarity column 38121 (100.0%), 2032.21 column/sec. Elapsed time 18.76 sec\n",
      "EvaluatorHoldout: Ignoring 173 ( 0.5%) Users that have less than 1 test interactions\n",
      "EvaluatorHoldout: Processed 35563 (100.0%) in 33.89 sec. Users per second: 1049\n",
      "P3alphaRecommender: Similarity column 38121 (100.0%), 1996.34 column/sec. Elapsed time 19.10 sec\n",
      "EvaluatorHoldout: Ignoring 163 ( 0.5%) Users that have less than 1 test interactions\n",
      "EvaluatorHoldout: Processed 35573 (100.0%) in 34.01 sec. Users per second: 1046\n",
      "P3alphaRecommender: Similarity column 38121 (100.0%), 1973.65 column/sec. Elapsed time 19.31 sec\n",
      "EvaluatorHoldout: Ignoring 150 ( 0.4%) Users that have less than 1 test interactions\n",
      "EvaluatorHoldout: Processed 35586 (100.0%) in 30.58 sec. Users per second: 1164\n",
      "P3alphaRecommender: Similarity column 38121 (100.0%), 1968.12 column/sec. Elapsed time 19.37 sec\n",
      "EvaluatorHoldout: Ignoring 167 ( 0.5%) Users that have less than 1 test interactions\n",
      "EvaluatorHoldout: Processed 35569 (100.0%) in 35.10 sec. Users per second: 1013\n",
      "P3alphaRecommender: Similarity column 38121 (100.0%), 1973.58 column/sec. Elapsed time 19.32 sec\n",
      "EvaluatorHoldout: Ignoring 172 ( 0.5%) Users that have less than 1 test interactions\n",
      "EvaluatorHoldout: Processed 35564 (100.0%) in 34.16 sec. Users per second: 1041\n"
     ]
    },
    {
     "name": "stderr",
     "output_type": "stream",
     "text": [
      "[I 2025-01-07 01:31:23,788] Trial 570 finished with value: 0.0485535088993726 and parameters: {'topK': 83, 'alpha': 0.33942101360736654, 'normalize_similarity': True, 'implicit': False}. Best is trial 10 with value: 0.05370249298547826.\n"
     ]
    },
    {
     "name": "stdout",
     "output_type": "stream",
     "text": [
      "P3alphaRecommender: Similarity column 38121 (100.0%), 2189.13 column/sec. Elapsed time 17.41 sec\n",
      "EvaluatorHoldout: Ignoring 173 ( 0.5%) Users that have less than 1 test interactions\n",
      "EvaluatorHoldout: Processed 35563 (100.0%) in 32.83 sec. Users per second: 1083\n",
      "P3alphaRecommender: Similarity column 38121 (100.0%), 2196.65 column/sec. Elapsed time 17.35 sec\n",
      "EvaluatorHoldout: Ignoring 163 ( 0.5%) Users that have less than 1 test interactions\n",
      "EvaluatorHoldout: Processed 35573 (100.0%) in 32.76 sec. Users per second: 1086\n",
      "P3alphaRecommender: Similarity column 38121 (100.0%), 2178.94 column/sec. Elapsed time 17.50 sec\n",
      "EvaluatorHoldout: Ignoring 150 ( 0.4%) Users that have less than 1 test interactions\n",
      "EvaluatorHoldout: Processed 35586 (100.0%) in 32.89 sec. Users per second: 1082\n",
      "P3alphaRecommender: Similarity column 38121 (100.0%), 2205.30 column/sec. Elapsed time 17.29 sec\n",
      "EvaluatorHoldout: Ignoring 167 ( 0.5%) Users that have less than 1 test interactions\n",
      "EvaluatorHoldout: Processed 35569 (100.0%) in 32.70 sec. Users per second: 1088\n",
      "P3alphaRecommender: Similarity column 38121 (100.0%), 2187.63 column/sec. Elapsed time 17.43 sec\n",
      "EvaluatorHoldout: Ignoring 172 ( 0.5%) Users that have less than 1 test interactions\n",
      "EvaluatorHoldout: Processed 35564 (100.0%) in 32.92 sec. Users per second: 1080\n"
     ]
    },
    {
     "name": "stderr",
     "output_type": "stream",
     "text": [
      "[I 2025-01-07 01:35:44,916] Trial 571 finished with value: 0.051271951718733076 and parameters: {'topK': 46, 'alpha': 0.46517873359325435, 'normalize_similarity': True, 'implicit': False}. Best is trial 10 with value: 0.05370249298547826.\n"
     ]
    },
    {
     "name": "stdout",
     "output_type": "stream",
     "text": [
      "P3alphaRecommender: Similarity column 38121 (100.0%), 2326.89 column/sec. Elapsed time 16.38 sec\n",
      "EvaluatorHoldout: Ignoring 173 ( 0.5%) Users that have less than 1 test interactions\n",
      "EvaluatorHoldout: Processed 35563 (100.0%) in 31.33 sec. Users per second: 1135\n",
      "P3alphaRecommender: Similarity column 38121 (100.0%), 2347.51 column/sec. Elapsed time 16.24 sec\n",
      "EvaluatorHoldout: Ignoring 163 ( 0.5%) Users that have less than 1 test interactions\n",
      "EvaluatorHoldout: Processed 35573 (100.0%) in 31.04 sec. Users per second: 1146\n",
      "P3alphaRecommender: Similarity column 38121 (100.0%), 2354.04 column/sec. Elapsed time 16.19 sec\n",
      "EvaluatorHoldout: Ignoring 150 ( 0.4%) Users that have less than 1 test interactions\n",
      "EvaluatorHoldout: Processed 35586 (100.0%) in 31.25 sec. Users per second: 1139\n",
      "P3alphaRecommender: Similarity column 38121 (100.0%), 2324.94 column/sec. Elapsed time 16.40 sec\n",
      "EvaluatorHoldout: Ignoring 167 ( 0.5%) Users that have less than 1 test interactions\n",
      "EvaluatorHoldout: Processed 35569 (100.0%) in 31.15 sec. Users per second: 1142\n",
      "P3alphaRecommender: Similarity column 38121 (100.0%), 2315.47 column/sec. Elapsed time 16.46 sec\n",
      "EvaluatorHoldout: Ignoring 172 ( 0.5%) Users that have less than 1 test interactions\n",
      "EvaluatorHoldout: Processed 35564 (100.0%) in 31.17 sec. Users per second: 1141\n"
     ]
    },
    {
     "name": "stderr",
     "output_type": "stream",
     "text": [
      "[I 2025-01-07 01:39:48,912] Trial 572 finished with value: 0.0534774925769814 and parameters: {'topK': 22, 'alpha': 0.4137719157375631, 'normalize_similarity': True, 'implicit': False}. Best is trial 10 with value: 0.05370249298547826.\n"
     ]
    },
    {
     "name": "stdout",
     "output_type": "stream",
     "text": [
      "P3alphaRecommender: Similarity column 38121 (100.0%), 2305.50 column/sec. Elapsed time 16.53 sec\n",
      "EvaluatorHoldout: Ignoring 173 ( 0.5%) Users that have less than 1 test interactions\n",
      "EvaluatorHoldout: Processed 35563 (100.0%) in 31.62 sec. Users per second: 1125\n",
      "P3alphaRecommender: Similarity column 38121 (100.0%), 2308.70 column/sec. Elapsed time 16.51 sec\n",
      "EvaluatorHoldout: Ignoring 163 ( 0.5%) Users that have less than 1 test interactions\n",
      "EvaluatorHoldout: Processed 35573 (100.0%) in 31.63 sec. Users per second: 1125\n",
      "P3alphaRecommender: Similarity column 38121 (100.0%), 2300.33 column/sec. Elapsed time 16.57 sec\n",
      "EvaluatorHoldout: Ignoring 150 ( 0.4%) Users that have less than 1 test interactions\n",
      "EvaluatorHoldout: Processed 35586 (100.0%) in 31.72 sec. Users per second: 1122\n",
      "P3alphaRecommender: Similarity column 38121 (100.0%), 2293.47 column/sec. Elapsed time 16.62 sec\n",
      "EvaluatorHoldout: Ignoring 167 ( 0.5%) Users that have less than 1 test interactions\n",
      "EvaluatorHoldout: Processed 35569 (100.0%) in 31.65 sec. Users per second: 1124\n",
      "P3alphaRecommender: Similarity column 38121 (100.0%), 2301.71 column/sec. Elapsed time 16.56 sec\n",
      "EvaluatorHoldout: Ignoring 172 ( 0.5%) Users that have less than 1 test interactions\n",
      "EvaluatorHoldout: Processed 35564 (100.0%) in 31.70 sec. Users per second: 1122\n"
     ]
    },
    {
     "name": "stderr",
     "output_type": "stream",
     "text": [
      "[I 2025-01-07 01:43:57,062] Trial 573 finished with value: 0.0531225964490656 and parameters: {'topK': 26, 'alpha': 0.4186617941758802, 'normalize_similarity': True, 'implicit': False}. Best is trial 10 with value: 0.05370249298547826.\n"
     ]
    },
    {
     "name": "stdout",
     "output_type": "stream",
     "text": [
      "P3alphaRecommender: Similarity column 38121 (100.0%), 1819.61 column/sec. Elapsed time 20.95 sec\n",
      "EvaluatorHoldout: Ignoring 173 ( 0.5%) Users that have less than 1 test interactions\n",
      "EvaluatorHoldout: Processed 35563 (100.0%) in 31.51 sec. Users per second: 1129\n",
      "P3alphaRecommender: Similarity column 38121 (100.0%), 1702.18 column/sec. Elapsed time 22.40 sec\n",
      "EvaluatorHoldout: Ignoring 163 ( 0.5%) Users that have less than 1 test interactions\n",
      "EvaluatorHoldout: Processed 35573 (100.0%) in 31.79 sec. Users per second: 1119\n",
      "P3alphaRecommender: Similarity column 38121 (100.0%), 1812.44 column/sec. Elapsed time 21.03 sec\n",
      "EvaluatorHoldout: Ignoring 150 ( 0.4%) Users that have less than 1 test interactions\n",
      "EvaluatorHoldout: Processed 35586 (100.0%) in 31.58 sec. Users per second: 1127\n",
      "P3alphaRecommender: Similarity column 38121 (100.0%), 1810.37 column/sec. Elapsed time 21.06 sec\n",
      "EvaluatorHoldout: Ignoring 167 ( 0.5%) Users that have less than 1 test interactions\n",
      "EvaluatorHoldout: Processed 35569 (100.0%) in 31.87 sec. Users per second: 1116\n",
      "P3alphaRecommender: Similarity column 38121 (100.0%), 1817.76 column/sec. Elapsed time 20.97 sec\n",
      "EvaluatorHoldout: Ignoring 172 ( 0.5%) Users that have less than 1 test interactions\n",
      "EvaluatorHoldout: Processed 35564 (100.0%) in 31.42 sec. Users per second: 1132\n"
     ]
    },
    {
     "name": "stderr",
     "output_type": "stream",
     "text": [
      "[I 2025-01-07 01:48:43,799] Trial 574 finished with value: 0.046301500943758 and parameters: {'topK': 125, 'alpha': 0.4018127067152234, 'normalize_similarity': True, 'implicit': False}. Best is trial 10 with value: 0.05370249298547826.\n"
     ]
    },
    {
     "name": "stdout",
     "output_type": "stream",
     "text": [
      "P3alphaRecommender: Similarity column 38121 (100.0%), 2117.95 column/sec. Elapsed time 18.00 sec\n",
      "EvaluatorHoldout: Ignoring 173 ( 0.5%) Users that have less than 1 test interactions\n",
      "EvaluatorHoldout: Processed 35563 (100.0%) in 33.45 sec. Users per second: 1063\n",
      "P3alphaRecommender: Similarity column 38121 (100.0%), 2107.58 column/sec. Elapsed time 18.09 sec\n",
      "EvaluatorHoldout: Ignoring 163 ( 0.5%) Users that have less than 1 test interactions\n",
      "EvaluatorHoldout: Processed 35573 (100.0%) in 33.41 sec. Users per second: 1065\n",
      "P3alphaRecommender: Similarity column 38121 (100.0%), 2126.85 column/sec. Elapsed time 17.92 sec\n",
      "EvaluatorHoldout: Ignoring 150 ( 0.4%) Users that have less than 1 test interactions\n",
      "EvaluatorHoldout: Processed 35586 (100.0%) in 33.34 sec. Users per second: 1067\n",
      "P3alphaRecommender: Similarity column 38121 (100.0%), 2146.22 column/sec. Elapsed time 17.76 sec\n",
      "EvaluatorHoldout: Ignoring 167 ( 0.5%) Users that have less than 1 test interactions\n",
      "EvaluatorHoldout: Processed 35569 (100.0%) in 33.06 sec. Users per second: 1076\n",
      "P3alphaRecommender: Similarity column 38121 (100.0%), 2118.00 column/sec. Elapsed time 18.00 sec\n",
      "EvaluatorHoldout: Ignoring 172 ( 0.5%) Users that have less than 1 test interactions\n",
      "EvaluatorHoldout: Processed 35564 (100.0%) in 33.11 sec. Users per second: 1074\n"
     ]
    },
    {
     "name": "stderr",
     "output_type": "stream",
     "text": [
      "[I 2025-01-07 01:53:11,594] Trial 575 finished with value: 0.05020901456221936 and parameters: {'topK': 60, 'alpha': 0.3760675536024408, 'normalize_similarity': True, 'implicit': False}. Best is trial 10 with value: 0.05370249298547826.\n"
     ]
    },
    {
     "name": "stdout",
     "output_type": "stream",
     "text": [
      "P3alphaRecommender: Similarity column 38121 (100.0%), 2329.91 column/sec. Elapsed time 16.36 sec\n",
      "EvaluatorHoldout: Ignoring 173 ( 0.5%) Users that have less than 1 test interactions\n",
      "EvaluatorHoldout: Processed 35563 (100.0%) in 31.16 sec. Users per second: 1141\n",
      "P3alphaRecommender: Similarity column 38121 (100.0%), 2345.08 column/sec. Elapsed time 16.26 sec\n",
      "EvaluatorHoldout: Ignoring 163 ( 0.5%) Users that have less than 1 test interactions\n",
      "EvaluatorHoldout: Processed 35573 (100.0%) in 31.44 sec. Users per second: 1131\n",
      "P3alphaRecommender: Similarity column 38121 (100.0%), 2311.79 column/sec. Elapsed time 16.49 sec\n",
      "EvaluatorHoldout: Ignoring 150 ( 0.4%) Users that have less than 1 test interactions\n",
      "EvaluatorHoldout: Processed 35586 (100.0%) in 31.66 sec. Users per second: 1124\n",
      "P3alphaRecommender: Similarity column 38121 (100.0%), 2330.22 column/sec. Elapsed time 16.36 sec\n",
      "EvaluatorHoldout: Ignoring 167 ( 0.5%) Users that have less than 1 test interactions\n",
      "EvaluatorHoldout: Processed 35569 (100.0%) in 31.43 sec. Users per second: 1132\n",
      "P3alphaRecommender: Similarity column 38121 (100.0%), 2258.66 column/sec. Elapsed time 16.88 sec\n",
      "EvaluatorHoldout: Ignoring 172 ( 0.5%) Users that have less than 1 test interactions\n",
      "EvaluatorHoldout: Processed 35564 (100.0%) in 31.70 sec. Users per second: 1122\n"
     ]
    },
    {
     "name": "stderr",
     "output_type": "stream",
     "text": [
      "[I 2025-01-07 01:57:18,155] Trial 576 finished with value: 0.05317848507988103 and parameters: {'topK': 25, 'alpha': 0.45309048156207055, 'normalize_similarity': True, 'implicit': False}. Best is trial 10 with value: 0.05370249298547826.\n"
     ]
    },
    {
     "name": "stdout",
     "output_type": "stream",
     "text": [
      "P3alphaRecommender: Similarity column 38121 (100.0%), 1947.50 column/sec. Elapsed time 19.57 sec\n",
      "EvaluatorHoldout: Ignoring 173 ( 0.5%) Users that have less than 1 test interactions\n",
      "EvaluatorHoldout: Processed 35563 (100.0%) in 30.71 sec. Users per second: 1158\n",
      "P3alphaRecommender: Similarity column 38121 (100.0%), 1942.27 column/sec. Elapsed time 19.63 sec\n",
      "EvaluatorHoldout: Ignoring 163 ( 0.5%) Users that have less than 1 test interactions\n",
      "EvaluatorHoldout: Processed 35573 (100.0%) in 30.85 sec. Users per second: 1153\n",
      "P3alphaRecommender: Similarity column 38121 (100.0%), 1952.87 column/sec. Elapsed time 19.52 sec\n",
      "EvaluatorHoldout: Ignoring 150 ( 0.4%) Users that have less than 1 test interactions\n",
      "EvaluatorHoldout: Processed 35586 (100.0%) in 30.59 sec. Users per second: 1163\n",
      "P3alphaRecommender: Similarity column 38121 (100.0%), 1691.22 column/sec. Elapsed time 22.54 sec\n",
      "EvaluatorHoldout: Ignoring 167 ( 0.5%) Users that have less than 1 test interactions\n",
      "EvaluatorHoldout: Processed 35569 (100.0%) in 31.72 sec. Users per second: 1121\n",
      "P3alphaRecommender: Similarity column 38121 (100.0%), 1927.67 column/sec. Elapsed time 19.78 sec\n",
      "EvaluatorHoldout: Ignoring 172 ( 0.5%) Users that have less than 1 test interactions\n",
      "EvaluatorHoldout: Processed 35564 (100.0%) in 31.42 sec. Users per second: 1132\n"
     ]
    },
    {
     "name": "stderr",
     "output_type": "stream",
     "text": [
      "[I 2025-01-07 02:01:52,129] Trial 577 finished with value: 0.047941101157181525 and parameters: {'topK': 94, 'alpha': 0.4311729331022282, 'normalize_similarity': True, 'implicit': False}. Best is trial 10 with value: 0.05370249298547826.\n"
     ]
    },
    {
     "name": "stdout",
     "output_type": "stream",
     "text": [
      "P3alphaRecommender: Similarity column 38121 (100.0%), 3337.76 column/sec. Elapsed time 11.42 sec\n",
      "EvaluatorHoldout: Ignoring 173 ( 0.5%) Users that have less than 1 test interactions\n",
      "EvaluatorHoldout: Processed 35563 (100.0%) in 25.13 sec. Users per second: 1415\n",
      "P3alphaRecommender: Similarity column 38121 (100.0%), 3359.84 column/sec. Elapsed time 11.35 sec\n",
      "EvaluatorHoldout: Ignoring 163 ( 0.5%) Users that have less than 1 test interactions\n",
      "EvaluatorHoldout: Processed 35573 (100.0%) in 25.30 sec. Users per second: 1406\n",
      "P3alphaRecommender: Similarity column 38121 (100.0%), 3388.63 column/sec. Elapsed time 11.25 sec\n",
      "EvaluatorHoldout: Ignoring 150 ( 0.4%) Users that have less than 1 test interactions\n",
      "EvaluatorHoldout: Processed 35586 (100.0%) in 25.36 sec. Users per second: 1403\n",
      "P3alphaRecommender: Similarity column 38121 (100.0%), 3383.01 column/sec. Elapsed time 11.27 sec\n",
      "EvaluatorHoldout: Ignoring 167 ( 0.5%) Users that have less than 1 test interactions\n",
      "EvaluatorHoldout: Processed 35569 (100.0%) in 25.03 sec. Users per second: 1421\n",
      "P3alphaRecommender: Similarity column 38121 (100.0%), 3386.29 column/sec. Elapsed time 11.26 sec\n",
      "EvaluatorHoldout: Ignoring 172 ( 0.5%) Users that have less than 1 test interactions\n",
      "EvaluatorHoldout: Processed 35564 (100.0%) in 25.31 sec. Users per second: 1405\n"
     ]
    },
    {
     "name": "stderr",
     "output_type": "stream",
     "text": [
      "[I 2025-01-07 02:04:55,793] Trial 578 finished with value: 0.0002664826418719655 and parameters: {'topK': 0, 'alpha': 0.37602664194669505, 'normalize_similarity': True, 'implicit': False}. Best is trial 10 with value: 0.05370249298547826.\n"
     ]
    },
    {
     "name": "stdout",
     "output_type": "stream",
     "text": [
      "P3alphaRecommender: Similarity column 38121 (100.0%), 2139.67 column/sec. Elapsed time 17.82 sec\n",
      "EvaluatorHoldout: Ignoring 173 ( 0.5%) Users that have less than 1 test interactions\n",
      "EvaluatorHoldout: Processed 35563 (100.0%) in 33.77 sec. Users per second: 1053\n",
      "P3alphaRecommender: Similarity column 38121 (100.0%), 2153.58 column/sec. Elapsed time 17.70 sec\n",
      "EvaluatorHoldout: Ignoring 163 ( 0.5%) Users that have less than 1 test interactions\n",
      "EvaluatorHoldout: Processed 35573 (100.0%) in 33.26 sec. Users per second: 1070\n",
      "P3alphaRecommender: Similarity column 38121 (100.0%), 2155.71 column/sec. Elapsed time 17.68 sec\n",
      "EvaluatorHoldout: Ignoring 150 ( 0.4%) Users that have less than 1 test interactions\n",
      "EvaluatorHoldout: Processed 35586 (100.0%) in 33.49 sec. Users per second: 1062\n",
      "P3alphaRecommender: Similarity column 38121 (100.0%), 2154.43 column/sec. Elapsed time 17.69 sec\n",
      "EvaluatorHoldout: Ignoring 167 ( 0.5%) Users that have less than 1 test interactions\n",
      "EvaluatorHoldout: Processed 35569 (100.0%) in 33.42 sec. Users per second: 1064\n",
      "P3alphaRecommender: Similarity column 38121 (100.0%), 2141.20 column/sec. Elapsed time 17.80 sec\n",
      "EvaluatorHoldout: Ignoring 172 ( 0.5%) Users that have less than 1 test interactions\n",
      "EvaluatorHoldout: Processed 35564 (100.0%) in 33.54 sec. Users per second: 1060\n"
     ]
    },
    {
     "name": "stderr",
     "output_type": "stream",
     "text": [
      "[I 2025-01-07 02:09:22,923] Trial 579 finished with value: 0.05086911090502766 and parameters: {'topK': 51, 'alpha': 0.48119786116774727, 'normalize_similarity': True, 'implicit': False}. Best is trial 10 with value: 0.05370249298547826.\n"
     ]
    },
    {
     "name": "stdout",
     "output_type": "stream",
     "text": [
      "P3alphaRecommender: Similarity column 38121 (100.0%), 2298.84 column/sec. Elapsed time 16.58 sec\n",
      "EvaluatorHoldout: Ignoring 173 ( 0.5%) Users that have less than 1 test interactions\n",
      "EvaluatorHoldout: Processed 35563 (100.0%) in 32.10 sec. Users per second: 1108\n",
      "P3alphaRecommender: Similarity column 38121 (100.0%), 2285.88 column/sec. Elapsed time 16.68 sec\n",
      "EvaluatorHoldout: Ignoring 163 ( 0.5%) Users that have less than 1 test interactions\n",
      "EvaluatorHoldout: Processed 35573 (100.0%) in 31.79 sec. Users per second: 1119\n",
      "P3alphaRecommender: Similarity column 38121 (100.0%), 2281.41 column/sec. Elapsed time 16.71 sec\n",
      "EvaluatorHoldout: Ignoring 150 ( 0.4%) Users that have less than 1 test interactions\n",
      "EvaluatorHoldout: Processed 35586 (100.0%) in 31.90 sec. Users per second: 1116\n",
      "P3alphaRecommender: Similarity column 38121 (100.0%), 2304.77 column/sec. Elapsed time 16.54 sec\n",
      "EvaluatorHoldout: Ignoring 167 ( 0.5%) Users that have less than 1 test interactions\n",
      "EvaluatorHoldout: Processed 35569 (100.0%) in 31.50 sec. Users per second: 1129\n",
      "P3alphaRecommender: Similarity column 38121 (100.0%), 2309.44 column/sec. Elapsed time 16.51 sec\n",
      "EvaluatorHoldout: Ignoring 172 ( 0.5%) Users that have less than 1 test interactions\n",
      "EvaluatorHoldout: Processed 35564 (100.0%) in 31.61 sec. Users per second: 1125\n"
     ]
    },
    {
     "name": "stderr",
     "output_type": "stream",
     "text": [
      "[I 2025-01-07 02:13:31,826] Trial 580 finished with value: 0.05311129292714554 and parameters: {'topK': 26, 'alpha': 0.404726128804511, 'normalize_similarity': True, 'implicit': True}. Best is trial 10 with value: 0.05370249298547826.\n"
     ]
    },
    {
     "name": "stdout",
     "output_type": "stream",
     "text": [
      "P3alphaRecommender: Similarity column 38121 (100.0%), 1660.04 column/sec. Elapsed time 22.96 sec\n",
      "EvaluatorHoldout: Ignoring 173 ( 0.5%) Users that have less than 1 test interactions\n",
      "EvaluatorHoldout: Processed 35563 (100.0%) in 32.13 sec. Users per second: 1107\n",
      "P3alphaRecommender: Similarity column 38121 (100.0%), 1637.43 column/sec. Elapsed time 23.28 sec\n",
      "EvaluatorHoldout: Ignoring 163 ( 0.5%) Users that have less than 1 test interactions\n",
      "EvaluatorHoldout: Processed 35573 (100.0%) in 32.79 sec. Users per second: 1085\n",
      "P3alphaRecommender: Similarity column 38121 (100.0%), 1654.90 column/sec. Elapsed time 23.04 sec\n",
      "EvaluatorHoldout: Ignoring 150 ( 0.4%) Users that have less than 1 test interactions\n",
      "EvaluatorHoldout: Processed 35586 (100.0%) in 32.73 sec. Users per second: 1087\n",
      "P3alphaRecommender: Similarity column 38121 (100.0%), 1649.46 column/sec. Elapsed time 23.11 sec\n",
      "EvaluatorHoldout: Ignoring 167 ( 0.5%) Users that have less than 1 test interactions\n",
      "EvaluatorHoldout: Processed 35569 (100.0%) in 32.31 sec. Users per second: 1101\n",
      "P3alphaRecommender: Similarity column 38121 (100.0%), 1656.19 column/sec. Elapsed time 23.02 sec\n",
      "EvaluatorHoldout: Ignoring 172 ( 0.5%) Users that have less than 1 test interactions\n",
      "EvaluatorHoldout: Processed 35564 (100.0%) in 32.28 sec. Users per second: 1102\n"
     ]
    },
    {
     "name": "stderr",
     "output_type": "stream",
     "text": [
      "[I 2025-01-07 02:18:38,096] Trial 581 finished with value: 0.04448652947298679 and parameters: {'topK': 165, 'alpha': 0.34447718433198277, 'normalize_similarity': True, 'implicit': False}. Best is trial 10 with value: 0.05370249298547826.\n"
     ]
    },
    {
     "name": "stdout",
     "output_type": "stream",
     "text": [
      "P3alphaRecommender: Similarity column 38121 (100.0%), 2035.74 column/sec. Elapsed time 18.73 sec\n",
      "EvaluatorHoldout: Ignoring 173 ( 0.5%) Users that have less than 1 test interactions\n",
      "EvaluatorHoldout: Processed 35563 (100.0%) in 34.10 sec. Users per second: 1043\n",
      "P3alphaRecommender: Similarity column 38121 (100.0%), 2017.08 column/sec. Elapsed time 18.90 sec\n",
      "EvaluatorHoldout: Ignoring 163 ( 0.5%) Users that have less than 1 test interactions\n",
      "EvaluatorHoldout: Processed 35573 (100.0%) in 34.10 sec. Users per second: 1043\n",
      "P3alphaRecommender: Similarity column 38121 (100.0%), 2034.21 column/sec. Elapsed time 18.74 sec\n",
      "EvaluatorHoldout: Ignoring 150 ( 0.4%) Users that have less than 1 test interactions\n",
      "EvaluatorHoldout: Processed 35586 (100.0%) in 34.17 sec. Users per second: 1041\n",
      "P3alphaRecommender: Similarity column 38121 (100.0%), 2032.91 column/sec. Elapsed time 18.75 sec\n",
      "EvaluatorHoldout: Ignoring 167 ( 0.5%) Users that have less than 1 test interactions\n",
      "EvaluatorHoldout: Processed 35569 (100.0%) in 33.98 sec. Users per second: 1047\n",
      "P3alphaRecommender: Similarity column 38121 (100.0%), 2041.19 column/sec. Elapsed time 18.68 sec\n",
      "EvaluatorHoldout: Ignoring 172 ( 0.5%) Users that have less than 1 test interactions\n",
      "EvaluatorHoldout: Processed 35564 (100.0%) in 33.74 sec. Users per second: 1054\n"
     ]
    },
    {
     "name": "stderr",
     "output_type": "stream",
     "text": [
      "[I 2025-01-07 02:23:16,284] Trial 582 finished with value: 0.049098444443341424 and parameters: {'topK': 75, 'alpha': 0.469592010416339, 'normalize_similarity': True, 'implicit': False}. Best is trial 10 with value: 0.05370249298547826.\n"
     ]
    },
    {
     "name": "stdout",
     "output_type": "stream",
     "text": [
      "P3alphaRecommender: Similarity column 38121 (100.0%), 3582.82 column/sec. Elapsed time 10.64 sec\n",
      "EvaluatorHoldout: Ignoring 173 ( 0.5%) Users that have less than 1 test interactions\n",
      "EvaluatorHoldout: Processed 35563 (100.0%) in 26.60 sec. Users per second: 1337\n",
      "P3alphaRecommender: Similarity column 38121 (100.0%), 3574.10 column/sec. Elapsed time 10.67 sec\n",
      "EvaluatorHoldout: Ignoring 163 ( 0.5%) Users that have less than 1 test interactions\n",
      "EvaluatorHoldout: Processed 35573 (100.0%) in 26.56 sec. Users per second: 1339\n",
      "P3alphaRecommender: Similarity column 38121 (100.0%), 3571.03 column/sec. Elapsed time 10.68 sec\n",
      "EvaluatorHoldout: Ignoring 150 ( 0.4%) Users that have less than 1 test interactions\n",
      "EvaluatorHoldout: Processed 35586 (100.0%) in 26.72 sec. Users per second: 1332\n",
      "P3alphaRecommender: Similarity column 38121 (100.0%), 3554.72 column/sec. Elapsed time 10.72 sec\n",
      "EvaluatorHoldout: Ignoring 167 ( 0.5%) Users that have less than 1 test interactions\n",
      "EvaluatorHoldout: Processed 35569 (100.0%) in 26.82 sec. Users per second: 1326\n",
      "P3alphaRecommender: Similarity column 38121 (100.0%), 3560.95 column/sec. Elapsed time 10.71 sec\n",
      "EvaluatorHoldout: Ignoring 172 ( 0.5%) Users that have less than 1 test interactions\n",
      "EvaluatorHoldout: Processed 35564 (100.0%) in 26.94 sec. Users per second: 1320\n"
     ]
    },
    {
     "name": "stderr",
     "output_type": "stream",
     "text": [
      "[I 2025-01-07 02:26:26,970] Trial 583 finished with value: 0.02045930909349004 and parameters: {'topK': 1, 'alpha': 0.4373920953225161, 'normalize_similarity': True, 'implicit': False}. Best is trial 10 with value: 0.05370249298547826.\n"
     ]
    },
    {
     "name": "stdout",
     "output_type": "stream",
     "text": [
      "P3alphaRecommender: Similarity column 38121 (100.0%), 2205.18 column/sec. Elapsed time 17.29 sec\n",
      "EvaluatorHoldout: Ignoring 173 ( 0.5%) Users that have less than 1 test interactions\n",
      "EvaluatorHoldout: Processed 35563 (100.0%) in 33.29 sec. Users per second: 1068\n",
      "P3alphaRecommender: Similarity column 38121 (100.0%), 2192.21 column/sec. Elapsed time 17.39 sec\n",
      "EvaluatorHoldout: Ignoring 163 ( 0.5%) Users that have less than 1 test interactions\n",
      "EvaluatorHoldout: Processed 35573 (100.0%) in 32.76 sec. Users per second: 1086\n",
      "P3alphaRecommender: Similarity column 38121 (100.0%), 2203.70 column/sec. Elapsed time 17.30 sec\n",
      "EvaluatorHoldout: Ignoring 150 ( 0.4%) Users that have less than 1 test interactions\n",
      "EvaluatorHoldout: Processed 35586 (100.0%) in 33.18 sec. Users per second: 1073\n",
      "P3alphaRecommender: Similarity column 38121 (100.0%), 2185.13 column/sec. Elapsed time 17.45 sec\n",
      "EvaluatorHoldout: Ignoring 167 ( 0.5%) Users that have less than 1 test interactions\n",
      "EvaluatorHoldout: Processed 35569 (100.0%) in 32.90 sec. Users per second: 1081\n",
      "P3alphaRecommender: Similarity column 38121 (100.0%), 2143.67 column/sec. Elapsed time 17.78 sec\n",
      "EvaluatorHoldout: Ignoring 172 ( 0.5%) Users that have less than 1 test interactions\n",
      "EvaluatorHoldout: Processed 35564 (100.0%) in 33.40 sec. Users per second: 1065\n"
     ]
    },
    {
     "name": "stderr",
     "output_type": "stream",
     "text": [
      "[I 2025-01-07 02:30:49,419] Trial 584 finished with value: 0.04003142089799762 and parameters: {'topK': 46, 'alpha': 0.4002775980614107, 'normalize_similarity': False, 'implicit': False}. Best is trial 10 with value: 0.05370249298547826.\n"
     ]
    },
    {
     "name": "stdout",
     "output_type": "stream",
     "text": [
      "P3alphaRecommender: Similarity column 38121 (100.0%), 3405.93 column/sec. Elapsed time 11.19 sec\n",
      "EvaluatorHoldout: Ignoring 173 ( 0.5%) Users that have less than 1 test interactions\n",
      "EvaluatorHoldout: Processed 35563 (100.0%) in 24.88 sec. Users per second: 1429\n",
      "P3alphaRecommender: Similarity column 38121 (100.0%), 3247.83 column/sec. Elapsed time 11.74 sec\n",
      "EvaluatorHoldout: Ignoring 163 ( 0.5%) Users that have less than 1 test interactions\n",
      "EvaluatorHoldout: Processed 35573 (100.0%) in 25.06 sec. Users per second: 1419\n",
      "P3alphaRecommender: Similarity column 38121 (100.0%), 3417.85 column/sec. Elapsed time 11.15 sec\n",
      "EvaluatorHoldout: Ignoring 150 ( 0.4%) Users that have less than 1 test interactions\n",
      "EvaluatorHoldout: Processed 35586 (100.0%) in 24.89 sec. Users per second: 1430\n",
      "P3alphaRecommender: Similarity column 38121 (100.0%), 3411.18 column/sec. Elapsed time 11.18 sec\n",
      "EvaluatorHoldout: Ignoring 167 ( 0.5%) Users that have less than 1 test interactions\n",
      "EvaluatorHoldout: Processed 35569 (100.0%) in 24.79 sec. Users per second: 1435\n",
      "P3alphaRecommender: Similarity column 38121 (100.0%), 3417.87 column/sec. Elapsed time 11.15 sec\n",
      "EvaluatorHoldout: Ignoring 172 ( 0.5%) Users that have less than 1 test interactions\n",
      "EvaluatorHoldout: Processed 35564 (100.0%) in 24.72 sec. Users per second: 1438\n"
     ]
    },
    {
     "name": "stderr",
     "output_type": "stream",
     "text": [
      "[I 2025-01-07 02:33:51,180] Trial 585 finished with value: 0.0002664826418719655 and parameters: {'topK': 0, 'alpha': 0.3340922062682572, 'normalize_similarity': True, 'implicit': False}. Best is trial 10 with value: 0.05370249298547826.\n"
     ]
    },
    {
     "name": "stdout",
     "output_type": "stream",
     "text": [
      "P3alphaRecommender: Similarity column 38121 (100.0%), 2098.10 column/sec. Elapsed time 18.17 sec\n",
      "EvaluatorHoldout: Ignoring 173 ( 0.5%) Users that have less than 1 test interactions\n",
      "EvaluatorHoldout: Processed 35563 (100.0%) in 33.24 sec. Users per second: 1070\n",
      "P3alphaRecommender: Similarity column 38121 (100.0%), 2067.43 column/sec. Elapsed time 18.44 sec\n",
      "EvaluatorHoldout: Ignoring 163 ( 0.5%) Users that have less than 1 test interactions\n",
      "EvaluatorHoldout: Processed 35573 (100.0%) in 33.33 sec. Users per second: 1067\n",
      "P3alphaRecommender: Similarity column 38121 (100.0%), 2080.47 column/sec. Elapsed time 18.32 sec\n",
      "EvaluatorHoldout: Ignoring 150 ( 0.4%) Users that have less than 1 test interactions\n",
      "EvaluatorHoldout: Processed 35586 (100.0%) in 33.63 sec. Users per second: 1058\n",
      "P3alphaRecommender: Similarity column 38121 (100.0%), 2070.85 column/sec. Elapsed time 18.41 sec\n",
      "EvaluatorHoldout: Ignoring 167 ( 0.5%) Users that have less than 1 test interactions\n",
      "EvaluatorHoldout: Processed 35569 (100.0%) in 33.37 sec. Users per second: 1066\n",
      "P3alphaRecommender: Similarity column 38121 (100.0%), 2079.40 column/sec. Elapsed time 18.33 sec\n",
      "EvaluatorHoldout: Ignoring 172 ( 0.5%) Users that have less than 1 test interactions\n",
      "EvaluatorHoldout: Processed 35564 (100.0%) in 33.46 sec. Users per second: 1063\n"
     ]
    },
    {
     "name": "stderr",
     "output_type": "stream",
     "text": [
      "[I 2025-01-07 02:38:22,964] Trial 586 finished with value: 0.04962102902597464 and parameters: {'topK': 68, 'alpha': 0.3875124080376421, 'normalize_similarity': True, 'implicit': False}. Best is trial 10 with value: 0.05370249298547826.\n"
     ]
    },
    {
     "name": "stdout",
     "output_type": "stream",
     "text": [
      "P3alphaRecommender: Similarity column 38121 (100.0%), 2306.24 column/sec. Elapsed time 16.53 sec\n",
      "EvaluatorHoldout: Ignoring 173 ( 0.5%) Users that have less than 1 test interactions\n",
      "EvaluatorHoldout: Processed 35563 (100.0%) in 31.85 sec. Users per second: 1116\n",
      "P3alphaRecommender: Similarity column 38121 (100.0%), 2293.25 column/sec. Elapsed time 16.62 sec\n",
      "EvaluatorHoldout: Ignoring 163 ( 0.5%) Users that have less than 1 test interactions\n",
      "EvaluatorHoldout: Processed 35573 (100.0%) in 31.87 sec. Users per second: 1116\n",
      "P3alphaRecommender: Similarity column 38121 (100.0%), 2299.87 column/sec. Elapsed time 16.58 sec\n",
      "EvaluatorHoldout: Ignoring 150 ( 0.4%) Users that have less than 1 test interactions\n",
      "EvaluatorHoldout: Processed 35586 (100.0%) in 31.77 sec. Users per second: 1120\n",
      "P3alphaRecommender: Similarity column 38121 (100.0%), 2303.71 column/sec. Elapsed time 16.55 sec\n",
      "EvaluatorHoldout: Ignoring 167 ( 0.5%) Users that have less than 1 test interactions\n",
      "EvaluatorHoldout: Processed 35569 (100.0%) in 32.17 sec. Users per second: 1106\n",
      "P3alphaRecommender: Similarity column 38121 (100.0%), 2296.54 column/sec. Elapsed time 16.60 sec\n",
      "EvaluatorHoldout: Ignoring 172 ( 0.5%) Users that have less than 1 test interactions\n",
      "EvaluatorHoldout: Processed 35564 (100.0%) in 31.94 sec. Users per second: 1113\n"
     ]
    },
    {
     "name": "stderr",
     "output_type": "stream",
     "text": [
      "[I 2025-01-07 02:42:32,805] Trial 587 finished with value: 0.052635919303839415 and parameters: {'topK': 27, 'alpha': 0.6951224079878651, 'normalize_similarity': True, 'implicit': False}. Best is trial 10 with value: 0.05370249298547826.\n"
     ]
    },
    {
     "name": "stdout",
     "output_type": "stream",
     "text": [
      "P3alphaRecommender: Similarity column 38121 (100.0%), 1881.47 column/sec. Elapsed time 20.26 sec\n",
      "EvaluatorHoldout: Ignoring 173 ( 0.5%) Users that have less than 1 test interactions\n",
      "EvaluatorHoldout: Processed 35563 (100.0%) in 31.19 sec. Users per second: 1140\n",
      "P3alphaRecommender: Similarity column 38121 (100.0%), 1879.93 column/sec. Elapsed time 20.28 sec\n",
      "EvaluatorHoldout: Ignoring 163 ( 0.5%) Users that have less than 1 test interactions\n",
      "EvaluatorHoldout: Processed 35573 (100.0%) in 31.18 sec. Users per second: 1141\n",
      "P3alphaRecommender: Similarity column 38121 (100.0%), 1873.27 column/sec. Elapsed time 20.35 sec\n",
      "EvaluatorHoldout: Ignoring 150 ( 0.4%) Users that have less than 1 test interactions\n",
      "EvaluatorHoldout: Processed 35586 (100.0%) in 32.41 sec. Users per second: 1098\n",
      "P3alphaRecommender: Similarity column 38121 (100.0%), 1861.93 column/sec. Elapsed time 20.47 sec\n",
      "EvaluatorHoldout: Ignoring 167 ( 0.5%) Users that have less than 1 test interactions\n",
      "EvaluatorHoldout: Processed 35569 (100.0%) in 31.14 sec. Users per second: 1142\n",
      "P3alphaRecommender: Similarity column 38121 (100.0%), 1888.30 column/sec. Elapsed time 20.19 sec\n",
      "EvaluatorHoldout: Ignoring 172 ( 0.5%) Users that have less than 1 test interactions\n",
      "EvaluatorHoldout: Processed 35564 (100.0%) in 30.98 sec. Users per second: 1148\n"
     ]
    },
    {
     "name": "stderr",
     "output_type": "stream",
     "text": [
      "[I 2025-01-07 02:47:11,053] Trial 588 finished with value: 0.04706174483481943 and parameters: {'topK': 110, 'alpha': 0.4859286365296607, 'normalize_similarity': True, 'implicit': False}. Best is trial 10 with value: 0.05370249298547826.\n"
     ]
    },
    {
     "name": "stdout",
     "output_type": "stream",
     "text": [
      "P3alphaRecommender: Similarity column 38121 (100.0%), 2199.86 column/sec. Elapsed time 17.33 sec\n",
      "EvaluatorHoldout: Ignoring 173 ( 0.5%) Users that have less than 1 test interactions\n",
      "EvaluatorHoldout: Processed 35563 (100.0%) in 32.50 sec. Users per second: 1094\n",
      "P3alphaRecommender: Similarity column 38121 (100.0%), 2185.55 column/sec. Elapsed time 17.44 sec\n",
      "EvaluatorHoldout: Ignoring 163 ( 0.5%) Users that have less than 1 test interactions\n",
      "EvaluatorHoldout: Processed 35573 (100.0%) in 32.74 sec. Users per second: 1087\n",
      "P3alphaRecommender: Similarity column 38121 (100.0%), 2205.45 column/sec. Elapsed time 17.28 sec\n",
      "EvaluatorHoldout: Ignoring 150 ( 0.4%) Users that have less than 1 test interactions\n",
      "EvaluatorHoldout: Processed 35586 (100.0%) in 32.59 sec. Users per second: 1092\n",
      "P3alphaRecommender: Similarity column 38121 (100.0%), 2197.50 column/sec. Elapsed time 17.35 sec\n",
      "EvaluatorHoldout: Ignoring 167 ( 0.5%) Users that have less than 1 test interactions\n",
      "EvaluatorHoldout: Processed 35569 (100.0%) in 32.64 sec. Users per second: 1090\n",
      "P3alphaRecommender: Similarity column 38121 (100.0%), 2201.46 column/sec. Elapsed time 17.32 sec\n",
      "EvaluatorHoldout: Ignoring 172 ( 0.5%) Users that have less than 1 test interactions\n",
      "EvaluatorHoldout: Processed 35564 (100.0%) in 32.57 sec. Users per second: 1092\n"
     ]
    },
    {
     "name": "stderr",
     "output_type": "stream",
     "text": [
      "[I 2025-01-07 02:51:30,354] Trial 589 finished with value: 0.05132229714078653 and parameters: {'topK': 45, 'alpha': 0.3654287374722776, 'normalize_similarity': True, 'implicit': False}. Best is trial 10 with value: 0.05370249298547826.\n"
     ]
    },
    {
     "name": "stdout",
     "output_type": "stream",
     "text": [
      "P3alphaRecommender: Similarity column 38121 (100.0%), 1993.53 column/sec. Elapsed time 19.12 sec\n",
      "EvaluatorHoldout: Ignoring 173 ( 0.5%) Users that have less than 1 test interactions\n",
      "EvaluatorHoldout: Processed 35563 (100.0%) in 30.23 sec. Users per second: 1176\n",
      "P3alphaRecommender: Similarity column 38121 (100.0%), 1975.13 column/sec. Elapsed time 19.30 sec\n",
      "EvaluatorHoldout: Ignoring 163 ( 0.5%) Users that have less than 1 test interactions\n",
      "EvaluatorHoldout: Processed 35573 (100.0%) in 34.08 sec. Users per second: 1044\n",
      "P3alphaRecommender: Similarity column 38121 (100.0%), 1996.34 column/sec. Elapsed time 19.10 sec\n",
      "EvaluatorHoldout: Ignoring 150 ( 0.4%) Users that have less than 1 test interactions\n",
      "EvaluatorHoldout: Processed 35586 (100.0%) in 30.26 sec. Users per second: 1176\n",
      "P3alphaRecommender: Similarity column 38121 (100.0%), 1970.23 column/sec. Elapsed time 19.35 sec\n",
      "EvaluatorHoldout: Ignoring 167 ( 0.5%) Users that have less than 1 test interactions\n",
      "EvaluatorHoldout: Processed 35569 (100.0%) in 34.12 sec. Users per second: 1043\n",
      "P3alphaRecommender: Similarity column 38121 (100.0%), 1965.88 column/sec. Elapsed time 19.39 sec\n",
      "EvaluatorHoldout: Ignoring 172 ( 0.5%) Users that have less than 1 test interactions\n",
      "EvaluatorHoldout: Processed 35564 (100.0%) in 30.58 sec. Users per second: 1163\n"
     ]
    },
    {
     "name": "stderr",
     "output_type": "stream",
     "text": [
      "[I 2025-01-07 02:56:01,640] Trial 590 finished with value: 0.04839024336358964 and parameters: {'topK': 86, 'alpha': 0.43237450862680316, 'normalize_similarity': True, 'implicit': False}. Best is trial 10 with value: 0.05370249298547826.\n"
     ]
    },
    {
     "name": "stdout",
     "output_type": "stream",
     "text": [
      "P3alphaRecommender: Similarity column 38121 (100.0%), 2173.51 column/sec. Elapsed time 17.54 sec\n",
      "EvaluatorHoldout: Ignoring 173 ( 0.5%) Users that have less than 1 test interactions\n",
      "EvaluatorHoldout: Processed 35563 (100.0%) in 32.93 sec. Users per second: 1080\n",
      "P3alphaRecommender: Similarity column 38121 (100.0%), 2176.39 column/sec. Elapsed time 17.52 sec\n",
      "EvaluatorHoldout: Ignoring 163 ( 0.5%) Users that have less than 1 test interactions\n",
      "EvaluatorHoldout: Processed 35573 (100.0%) in 32.69 sec. Users per second: 1088\n",
      "P3alphaRecommender: Similarity column 38121 (100.0%), 2186.01 column/sec. Elapsed time 17.44 sec\n",
      "EvaluatorHoldout: Ignoring 150 ( 0.4%) Users that have less than 1 test interactions\n",
      "EvaluatorHoldout: Processed 35586 (100.0%) in 32.82 sec. Users per second: 1084\n",
      "P3alphaRecommender: Similarity column 38121 (100.0%), 2192.98 column/sec. Elapsed time 17.38 sec\n",
      "EvaluatorHoldout: Ignoring 167 ( 0.5%) Users that have less than 1 test interactions\n",
      "EvaluatorHoldout: Processed 35569 (100.0%) in 32.95 sec. Users per second: 1080\n",
      "P3alphaRecommender: Similarity column 38121 (100.0%), 2176.46 column/sec. Elapsed time 17.52 sec\n",
      "EvaluatorHoldout: Ignoring 172 ( 0.5%) Users that have less than 1 test interactions\n",
      "EvaluatorHoldout: Processed 35564 (100.0%) in 34.79 sec. Users per second: 1022\n"
     ]
    },
    {
     "name": "stderr",
     "output_type": "stream",
     "text": [
      "[I 2025-01-07 03:00:25,397] Trial 591 finished with value: 0.050849771288954404 and parameters: {'topK': 50, 'alpha': 0.31407223251950256, 'normalize_similarity': True, 'implicit': True}. Best is trial 10 with value: 0.05370249298547826.\n"
     ]
    },
    {
     "name": "stdout",
     "output_type": "stream",
     "text": [
      "P3alphaRecommender: Similarity column 38121 (100.0%), 2217.11 column/sec. Elapsed time 17.19 sec\n",
      "EvaluatorHoldout: Ignoring 173 ( 0.5%) Users that have less than 1 test interactions\n",
      "EvaluatorHoldout: Processed 35563 (100.0%) in 32.14 sec. Users per second: 1106\n",
      "P3alphaRecommender: Similarity column 38121 (100.0%), 2279.98 column/sec. Elapsed time 16.72 sec\n",
      "EvaluatorHoldout: Ignoring 163 ( 0.5%) Users that have less than 1 test interactions\n",
      "EvaluatorHoldout: Processed 35573 (100.0%) in 31.93 sec. Users per second: 1114\n",
      "P3alphaRecommender: Similarity column 38121 (100.0%), 2286.82 column/sec. Elapsed time 16.67 sec\n",
      "EvaluatorHoldout: Ignoring 150 ( 0.4%) Users that have less than 1 test interactions\n",
      "EvaluatorHoldout: Processed 35586 (100.0%) in 31.86 sec. Users per second: 1117\n",
      "P3alphaRecommender: Similarity column 38121 (100.0%), 2291.33 column/sec. Elapsed time 16.64 sec\n",
      "EvaluatorHoldout: Ignoring 167 ( 0.5%) Users that have less than 1 test interactions\n",
      "EvaluatorHoldout: Processed 35569 (100.0%) in 31.98 sec. Users per second: 1112\n",
      "P3alphaRecommender: Similarity column 38121 (100.0%), 2266.41 column/sec. Elapsed time 16.82 sec\n",
      "EvaluatorHoldout: Ignoring 172 ( 0.5%) Users that have less than 1 test interactions\n",
      "EvaluatorHoldout: Processed 35564 (100.0%) in 31.91 sec. Users per second: 1115\n"
     ]
    },
    {
     "name": "stderr",
     "output_type": "stream",
     "text": [
      "[I 2025-01-07 03:04:36,994] Trial 592 finished with value: 0.05256590962594632 and parameters: {'topK': 31, 'alpha': 0.36360965379579047, 'normalize_similarity': True, 'implicit': False}. Best is trial 10 with value: 0.05370249298547826.\n"
     ]
    },
    {
     "name": "stdout",
     "output_type": "stream",
     "text": [
      "P3alphaRecommender: Similarity column 38121 (100.0%), 2040.81 column/sec. Elapsed time 18.68 sec\n",
      "EvaluatorHoldout: Ignoring 173 ( 0.5%) Users that have less than 1 test interactions\n",
      "EvaluatorHoldout: Processed 35563 (100.0%) in 33.56 sec. Users per second: 1060\n",
      "P3alphaRecommender: Similarity column 38121 (100.0%), 2072.14 column/sec. Elapsed time 18.40 sec\n",
      "EvaluatorHoldout: Ignoring 163 ( 0.5%) Users that have less than 1 test interactions\n",
      "EvaluatorHoldout: Processed 35573 (100.0%) in 33.53 sec. Users per second: 1061\n",
      "P3alphaRecommender: Similarity column 38121 (100.0%), 2089.78 column/sec. Elapsed time 18.24 sec\n",
      "EvaluatorHoldout: Ignoring 150 ( 0.4%) Users that have less than 1 test interactions\n",
      "EvaluatorHoldout: Processed 35586 (100.0%) in 33.55 sec. Users per second: 1061\n",
      "P3alphaRecommender: Similarity column 38121 (100.0%), 2058.53 column/sec. Elapsed time 18.52 sec\n",
      "EvaluatorHoldout: Ignoring 167 ( 0.5%) Users that have less than 1 test interactions\n",
      "EvaluatorHoldout: Processed 35569 (100.0%) in 33.51 sec. Users per second: 1062\n",
      "P3alphaRecommender: Similarity column 38121 (100.0%), 2094.82 column/sec. Elapsed time 18.20 sec\n",
      "EvaluatorHoldout: Ignoring 172 ( 0.5%) Users that have less than 1 test interactions\n",
      "EvaluatorHoldout: Processed 35564 (100.0%) in 33.55 sec. Users per second: 1060\n"
     ]
    },
    {
     "name": "stderr",
     "output_type": "stream",
     "text": [
      "[I 2025-01-07 03:09:09,544] Trial 593 finished with value: 0.04873241148001733 and parameters: {'topK': 68, 'alpha': 0.06409289953312647, 'normalize_similarity': True, 'implicit': False}. Best is trial 10 with value: 0.05370249298547826.\n"
     ]
    },
    {
     "name": "stdout",
     "output_type": "stream",
     "text": [
      "P3alphaRecommender: Similarity column 38121 (100.0%), 2359.27 column/sec. Elapsed time 16.16 sec\n",
      "EvaluatorHoldout: Ignoring 173 ( 0.5%) Users that have less than 1 test interactions\n",
      "EvaluatorHoldout: Processed 35563 (100.0%) in 30.95 sec. Users per second: 1149\n",
      "P3alphaRecommender: Similarity column 38121 (100.0%), 2292.91 column/sec. Elapsed time 16.63 sec\n",
      "EvaluatorHoldout: Ignoring 163 ( 0.5%) Users that have less than 1 test interactions\n",
      "EvaluatorHoldout: Processed 35573 (100.0%) in 31.19 sec. Users per second: 1140\n",
      "P3alphaRecommender: Similarity column 38121 (100.0%), 2369.35 column/sec. Elapsed time 16.09 sec\n",
      "EvaluatorHoldout: Ignoring 150 ( 0.4%) Users that have less than 1 test interactions\n",
      "EvaluatorHoldout: Processed 35586 (100.0%) in 31.30 sec. Users per second: 1137\n",
      "P3alphaRecommender: Similarity column 38121 (100.0%), 2342.21 column/sec. Elapsed time 16.28 sec\n",
      "EvaluatorHoldout: Ignoring 167 ( 0.5%) Users that have less than 1 test interactions\n",
      "EvaluatorHoldout: Processed 35569 (100.0%) in 30.91 sec. Users per second: 1151\n",
      "P3alphaRecommender: Similarity column 38121 (100.0%), 2380.12 column/sec. Elapsed time 16.02 sec\n",
      "EvaluatorHoldout: Ignoring 172 ( 0.5%) Users that have less than 1 test interactions\n",
      "EvaluatorHoldout: Processed 35564 (100.0%) in 31.00 sec. Users per second: 1147\n"
     ]
    },
    {
     "name": "stderr",
     "output_type": "stream",
     "text": [
      "[I 2025-01-07 03:13:12,267] Trial 594 finished with value: 0.05370769070711755 and parameters: {'topK': 20, 'alpha': 0.43957349353675323, 'normalize_similarity': True, 'implicit': False}. Best is trial 594 with value: 0.05370769070711755.\n"
     ]
    },
    {
     "name": "stdout",
     "output_type": "stream",
     "text": [
      "P3alphaRecommender: Similarity column 38121 (100.0%), 2377.12 column/sec. Elapsed time 16.04 sec\n",
      "EvaluatorHoldout: Ignoring 173 ( 0.5%) Users that have less than 1 test interactions\n",
      "EvaluatorHoldout: Processed 35563 (100.0%) in 30.73 sec. Users per second: 1157\n",
      "P3alphaRecommender: Similarity column 38121 (100.0%), 2372.41 column/sec. Elapsed time 16.07 sec\n",
      "EvaluatorHoldout: Ignoring 163 ( 0.5%) Users that have less than 1 test interactions\n",
      "EvaluatorHoldout: Processed 35573 (100.0%) in 30.95 sec. Users per second: 1150\n",
      "P3alphaRecommender: Similarity column 38121 (100.0%), 2329.36 column/sec. Elapsed time 16.37 sec\n",
      "EvaluatorHoldout: Ignoring 150 ( 0.4%) Users that have less than 1 test interactions\n",
      "EvaluatorHoldout: Processed 35586 (100.0%) in 31.16 sec. Users per second: 1142\n",
      "P3alphaRecommender: Similarity column 38121 (100.0%), 2391.98 column/sec. Elapsed time 15.94 sec\n",
      "EvaluatorHoldout: Ignoring 167 ( 0.5%) Users that have less than 1 test interactions\n",
      "EvaluatorHoldout: Processed 35569 (100.0%) in 30.71 sec. Users per second: 1158\n",
      "P3alphaRecommender: Similarity column 38121 (100.0%), 2393.12 column/sec. Elapsed time 15.93 sec\n",
      "EvaluatorHoldout: Ignoring 172 ( 0.5%) Users that have less than 1 test interactions\n",
      "EvaluatorHoldout: Processed 35564 (100.0%) in 30.64 sec. Users per second: 1161\n"
     ]
    },
    {
     "name": "stderr",
     "output_type": "stream",
     "text": [
      "[I 2025-01-07 03:17:12,805] Trial 595 finished with value: 0.053754418047188966 and parameters: {'topK': 19, 'alpha': 0.47871515252597385, 'normalize_similarity': True, 'implicit': False}. Best is trial 595 with value: 0.053754418047188966.\n"
     ]
    },
    {
     "name": "stdout",
     "output_type": "stream",
     "text": [
      "P3alphaRecommender: Similarity column 38121 (100.0%), 2356.75 column/sec. Elapsed time 16.18 sec\n",
      "EvaluatorHoldout: Ignoring 173 ( 0.5%) Users that have less than 1 test interactions\n",
      "EvaluatorHoldout: Processed 35563 (100.0%) in 31.20 sec. Users per second: 1140\n",
      "P3alphaRecommender: Similarity column 38121 (100.0%), 2337.50 column/sec. Elapsed time 16.31 sec\n",
      "EvaluatorHoldout: Ignoring 163 ( 0.5%) Users that have less than 1 test interactions\n",
      "EvaluatorHoldout: Processed 35573 (100.0%) in 31.36 sec. Users per second: 1134\n",
      "P3alphaRecommender: Similarity column 38121 (100.0%), 2340.32 column/sec. Elapsed time 16.29 sec\n",
      "EvaluatorHoldout: Ignoring 150 ( 0.4%) Users that have less than 1 test interactions\n",
      "EvaluatorHoldout: Processed 35586 (100.0%) in 31.33 sec. Users per second: 1136\n",
      "P3alphaRecommender: Similarity column 38121 (100.0%), 2335.66 column/sec. Elapsed time 16.32 sec\n",
      "EvaluatorHoldout: Ignoring 167 ( 0.5%) Users that have less than 1 test interactions\n",
      "EvaluatorHoldout: Processed 35569 (100.0%) in 31.36 sec. Users per second: 1134\n",
      "P3alphaRecommender: Similarity column 38121 (100.0%), 2329.37 column/sec. Elapsed time 16.37 sec\n",
      "EvaluatorHoldout: Ignoring 172 ( 0.5%) Users that have less than 1 test interactions\n",
      "EvaluatorHoldout: Processed 35564 (100.0%) in 31.33 sec. Users per second: 1135\n"
     ]
    },
    {
     "name": "stderr",
     "output_type": "stream",
     "text": [
      "[I 2025-01-07 03:21:17,765] Trial 596 finished with value: 0.05319035471003798 and parameters: {'topK': 25, 'alpha': 0.47485647835341216, 'normalize_similarity': True, 'implicit': False}. Best is trial 595 with value: 0.053754418047188966.\n"
     ]
    },
    {
     "name": "stdout",
     "output_type": "stream",
     "text": [
      "P3alphaRecommender: Similarity column 38121 (100.0%), 2542.29 column/sec. Elapsed time 14.99 sec\n",
      "EvaluatorHoldout: Ignoring 173 ( 0.5%) Users that have less than 1 test interactions\n",
      "EvaluatorHoldout: Processed 35563 (100.0%) in 27.50 sec. Users per second: 1293\n",
      "P3alphaRecommender: Similarity column 38121 (100.0%), 2553.41 column/sec. Elapsed time 14.93 sec\n",
      "EvaluatorHoldout: Ignoring 163 ( 0.5%) Users that have less than 1 test interactions\n",
      "EvaluatorHoldout: Processed 35573 (100.0%) in 27.85 sec. Users per second: 1277\n",
      "P3alphaRecommender: Similarity column 38121 (100.0%), 2515.73 column/sec. Elapsed time 15.15 sec\n",
      "EvaluatorHoldout: Ignoring 150 ( 0.4%) Users that have less than 1 test interactions\n",
      "EvaluatorHoldout: Processed 35586 (100.0%) in 27.68 sec. Users per second: 1285\n",
      "P3alphaRecommender: Similarity column 38121 (100.0%), 2567.12 column/sec. Elapsed time 14.85 sec\n",
      "EvaluatorHoldout: Ignoring 167 ( 0.5%) Users that have less than 1 test interactions\n",
      "EvaluatorHoldout: Processed 35569 (100.0%) in 27.57 sec. Users per second: 1290\n",
      "P3alphaRecommender: Similarity column 38121 (100.0%), 2537.18 column/sec. Elapsed time 15.02 sec\n",
      "EvaluatorHoldout: Ignoring 172 ( 0.5%) Users that have less than 1 test interactions\n",
      "EvaluatorHoldout: Processed 35564 (100.0%) in 27.42 sec. Users per second: 1297\n"
     ]
    },
    {
     "name": "stderr",
     "output_type": "stream",
     "text": [
      "[I 2025-01-07 03:24:54,903] Trial 597 finished with value: 0.037127182482869364 and parameters: {'topK': 2, 'alpha': 0.4560615580803314, 'normalize_similarity': True, 'implicit': False}. Best is trial 595 with value: 0.053754418047188966.\n"
     ]
    },
    {
     "name": "stdout",
     "output_type": "stream",
     "text": [
      "P3alphaRecommender: Similarity column 38121 (100.0%), 2152.63 column/sec. Elapsed time 17.71 sec\n",
      "EvaluatorHoldout: Ignoring 173 ( 0.5%) Users that have less than 1 test interactions\n",
      "EvaluatorHoldout: Processed 35563 (100.0%) in 33.09 sec. Users per second: 1075\n",
      "P3alphaRecommender: Similarity column 38121 (100.0%), 2127.92 column/sec. Elapsed time 17.91 sec\n",
      "EvaluatorHoldout: Ignoring 163 ( 0.5%) Users that have less than 1 test interactions\n",
      "EvaluatorHoldout: Processed 35573 (100.0%) in 33.28 sec. Users per second: 1069\n",
      "P3alphaRecommender: Similarity column 38121 (100.0%), 2159.23 column/sec. Elapsed time 17.65 sec\n",
      "EvaluatorHoldout: Ignoring 150 ( 0.4%) Users that have less than 1 test interactions\n",
      "EvaluatorHoldout: Processed 35586 (100.0%) in 33.32 sec. Users per second: 1068\n",
      "P3alphaRecommender: Similarity column 38121 (100.0%), 2146.38 column/sec. Elapsed time 17.76 sec\n",
      "EvaluatorHoldout: Ignoring 167 ( 0.5%) Users that have less than 1 test interactions\n",
      "EvaluatorHoldout: Processed 35569 (100.0%) in 33.35 sec. Users per second: 1066\n",
      "P3alphaRecommender: Similarity column 38121 (100.0%), 2133.09 column/sec. Elapsed time 17.87 sec\n",
      "EvaluatorHoldout: Ignoring 172 ( 0.5%) Users that have less than 1 test interactions\n",
      "EvaluatorHoldout: Processed 35564 (100.0%) in 33.18 sec. Users per second: 1072\n"
     ]
    },
    {
     "name": "stderr",
     "output_type": "stream",
     "text": [
      "[I 2025-01-07 03:29:21,670] Trial 598 finished with value: 0.05034034434603234 and parameters: {'topK': 58, 'alpha': 0.4947397450804422, 'normalize_similarity': True, 'implicit': False}. Best is trial 595 with value: 0.053754418047188966.\n"
     ]
    },
    {
     "name": "stdout",
     "output_type": "stream",
     "text": [
      "P3alphaRecommender: Similarity column 38121 (100.0%), 1962.73 column/sec. Elapsed time 19.42 sec\n",
      "EvaluatorHoldout: Ignoring 173 ( 0.5%) Users that have less than 1 test interactions\n",
      "EvaluatorHoldout: Processed 35563 (100.0%) in 31.30 sec. Users per second: 1136\n",
      "P3alphaRecommender: Similarity column 38121 (100.0%), 1890.80 column/sec. Elapsed time 20.16 sec\n",
      "EvaluatorHoldout: Ignoring 163 ( 0.5%) Users that have less than 1 test interactions\n",
      "EvaluatorHoldout: Processed 35573 (100.0%) in 30.75 sec. Users per second: 1157\n",
      "P3alphaRecommender: Similarity column 38121 (100.0%), 1903.67 column/sec. Elapsed time 20.02 sec\n",
      "EvaluatorHoldout: Ignoring 150 ( 0.4%) Users that have less than 1 test interactions\n",
      "EvaluatorHoldout: Processed 35586 (100.0%) in 30.88 sec. Users per second: 1153\n",
      "P3alphaRecommender: Similarity column 38121 (100.0%), 1939.23 column/sec. Elapsed time 19.66 sec\n",
      "EvaluatorHoldout: Ignoring 167 ( 0.5%) Users that have less than 1 test interactions\n",
      "EvaluatorHoldout: Processed 35569 (100.0%) in 30.60 sec. Users per second: 1163\n",
      "P3alphaRecommender: Similarity column 38121 (100.0%), 1942.42 column/sec. Elapsed time 19.63 sec\n",
      "EvaluatorHoldout: Ignoring 172 ( 0.5%) Users that have less than 1 test interactions\n",
      "EvaluatorHoldout: Processed 35564 (100.0%) in 30.69 sec. Users per second: 1159\n"
     ]
    },
    {
     "name": "stderr",
     "output_type": "stream",
     "text": [
      "[I 2025-01-07 03:33:52,515] Trial 599 finished with value: 0.04775063752742309 and parameters: {'topK': 97, 'alpha': 0.5086397616625339, 'normalize_similarity': True, 'implicit': False}. Best is trial 595 with value: 0.053754418047188966.\n"
     ]
    },
    {
     "name": "stdout",
     "output_type": "stream",
     "text": [
      "P3alphaRecommender: Similarity column 38121 (100.0%), 486.20 column/sec. Elapsed time 1.31 min\n",
      "EvaluatorHoldout: Ignoring 173 ( 0.5%) Users that have less than 1 test interactions\n",
      "EvaluatorHoldout: Processed 35563 (100.0%) in 57.54 sec. Users per second: 618\n",
      "P3alphaRecommender: Similarity column 38121 (100.0%), 480.74 column/sec. Elapsed time 1.32 min\n",
      "EvaluatorHoldout: Ignoring 163 ( 0.5%) Users that have less than 1 test interactions\n",
      "EvaluatorHoldout: Processed 35573 (100.0%) in 58.02 sec. Users per second: 613\n",
      "P3alphaRecommender: Similarity column 38121 (100.0%), 481.60 column/sec. Elapsed time 1.32 min\n",
      "EvaluatorHoldout: Ignoring 150 ( 0.4%) Users that have less than 1 test interactions\n",
      "EvaluatorHoldout: Processed 35586 (100.0%) in 57.92 sec. Users per second: 614\n",
      "P3alphaRecommender: Similarity column 38121 (100.0%), 480.97 column/sec. Elapsed time 1.32 min\n",
      "EvaluatorHoldout: Ignoring 167 ( 0.5%) Users that have less than 1 test interactions\n",
      "EvaluatorHoldout: Processed 35569 (100.0%) in 57.25 sec. Users per second: 621\n",
      "P3alphaRecommender: Similarity column 38121 (100.0%), 484.18 column/sec. Elapsed time 1.31 min\n",
      "EvaluatorHoldout: Ignoring 172 ( 0.5%) Users that have less than 1 test interactions\n",
      "EvaluatorHoldout: Processed 35564 (100.0%) in 57.44 sec. Users per second: 619\n"
     ]
    },
    {
     "name": "stderr",
     "output_type": "stream",
     "text": [
      "[I 2025-01-07 03:49:40,876] Trial 600 finished with value: 0.033218751644281605 and parameters: {'topK': 1470, 'alpha': 0.4546070148200009, 'normalize_similarity': True, 'implicit': False}. Best is trial 595 with value: 0.053754418047188966.\n"
     ]
    },
    {
     "name": "stdout",
     "output_type": "stream",
     "text": [
      "P3alphaRecommender: Similarity column 38121 (100.0%), 3407.54 column/sec. Elapsed time 11.19 sec\n",
      "EvaluatorHoldout: Ignoring 173 ( 0.5%) Users that have less than 1 test interactions\n",
      "EvaluatorHoldout: Processed 35563 (100.0%) in 25.05 sec. Users per second: 1420\n",
      "P3alphaRecommender: Similarity column 38121 (100.0%), 3346.58 column/sec. Elapsed time 11.39 sec\n",
      "EvaluatorHoldout: Ignoring 163 ( 0.5%) Users that have less than 1 test interactions\n",
      "EvaluatorHoldout: Processed 35573 (100.0%) in 24.88 sec. Users per second: 1430\n",
      "P3alphaRecommender: Similarity column 38121 (100.0%), 3410.89 column/sec. Elapsed time 11.18 sec\n",
      "EvaluatorHoldout: Ignoring 150 ( 0.4%) Users that have less than 1 test interactions\n",
      "EvaluatorHoldout: Processed 35586 (100.0%) in 25.08 sec. Users per second: 1419\n",
      "P3alphaRecommender: Similarity column 38121 (100.0%), 3446.31 column/sec. Elapsed time 11.06 sec\n",
      "EvaluatorHoldout: Ignoring 167 ( 0.5%) Users that have less than 1 test interactions\n",
      "EvaluatorHoldout: Processed 35569 (100.0%) in 24.87 sec. Users per second: 1430\n",
      "P3alphaRecommender: Similarity column 38121 (100.0%), 3441.15 column/sec. Elapsed time 11.08 sec\n",
      "EvaluatorHoldout: Ignoring 172 ( 0.5%) Users that have less than 1 test interactions\n",
      "EvaluatorHoldout: Processed 35564 (100.0%) in 24.82 sec. Users per second: 1433\n"
     ]
    },
    {
     "name": "stderr",
     "output_type": "stream",
     "text": [
      "[I 2025-01-07 03:52:42,474] Trial 601 finished with value: 0.0002664826418719655 and parameters: {'topK': 0, 'alpha': 0.4288844970575147, 'normalize_similarity': True, 'implicit': False}. Best is trial 595 with value: 0.053754418047188966.\n"
     ]
    },
    {
     "name": "stdout",
     "output_type": "stream",
     "text": [
      "P3alphaRecommender: Similarity column 38121 (100.0%), 2306.40 column/sec. Elapsed time 16.53 sec\n",
      "EvaluatorHoldout: Ignoring 173 ( 0.5%) Users that have less than 1 test interactions\n",
      "EvaluatorHoldout: Processed 35563 (100.0%) in 31.71 sec. Users per second: 1121\n",
      "P3alphaRecommender: Similarity column 38121 (100.0%), 2296.33 column/sec. Elapsed time 16.60 sec\n",
      "EvaluatorHoldout: Ignoring 163 ( 0.5%) Users that have less than 1 test interactions\n",
      "EvaluatorHoldout: Processed 35573 (100.0%) in 31.84 sec. Users per second: 1117\n",
      "P3alphaRecommender: Similarity column 38121 (100.0%), 2298.69 column/sec. Elapsed time 16.58 sec\n",
      "EvaluatorHoldout: Ignoring 150 ( 0.4%) Users that have less than 1 test interactions\n",
      "EvaluatorHoldout: Processed 35586 (100.0%) in 31.92 sec. Users per second: 1115\n",
      "P3alphaRecommender: Similarity column 38121 (100.0%), 2307.99 column/sec. Elapsed time 16.52 sec\n",
      "EvaluatorHoldout: Ignoring 167 ( 0.5%) Users that have less than 1 test interactions\n",
      "EvaluatorHoldout: Processed 35569 (100.0%) in 31.73 sec. Users per second: 1121\n",
      "P3alphaRecommender: Similarity column 38121 (100.0%), 2294.82 column/sec. Elapsed time 16.61 sec\n",
      "EvaluatorHoldout: Ignoring 172 ( 0.5%) Users that have less than 1 test interactions\n",
      "EvaluatorHoldout: Processed 35564 (100.0%) in 32.45 sec. Users per second: 1096\n"
     ]
    },
    {
     "name": "stderr",
     "output_type": "stream",
     "text": [
      "[I 2025-01-07 03:56:52,387] Trial 602 finished with value: 0.052779987889371126 and parameters: {'topK': 29, 'alpha': 0.48578769241017217, 'normalize_similarity': True, 'implicit': False}. Best is trial 595 with value: 0.053754418047188966.\n"
     ]
    },
    {
     "name": "stdout",
     "output_type": "stream",
     "text": [
      "P3alphaRecommender: Similarity column 38121 (100.0%), 2154.69 column/sec. Elapsed time 17.69 sec\n",
      "EvaluatorHoldout: Ignoring 173 ( 0.5%) Users that have less than 1 test interactions\n",
      "EvaluatorHoldout: Processed 35563 (100.0%) in 33.02 sec. Users per second: 1077\n",
      "P3alphaRecommender: Similarity column 38121 (100.0%), 2166.69 column/sec. Elapsed time 17.59 sec\n",
      "EvaluatorHoldout: Ignoring 163 ( 0.5%) Users that have less than 1 test interactions\n",
      "EvaluatorHoldout: Processed 35573 (100.0%) in 33.40 sec. Users per second: 1065\n",
      "P3alphaRecommender: Similarity column 38121 (100.0%), 1744.63 column/sec. Elapsed time 21.85 sec\n",
      "EvaluatorHoldout: Ignoring 150 ( 0.4%) Users that have less than 1 test interactions\n",
      "EvaluatorHoldout: Processed 35586 (100.0%) in 38.22 sec. Users per second: 931\n",
      "P3alphaRecommender: Similarity column 38121 (100.0%), 2143.22 column/sec. Elapsed time 17.79 sec\n",
      "EvaluatorHoldout: Ignoring 167 ( 0.5%) Users that have less than 1 test interactions\n",
      "EvaluatorHoldout: Processed 35569 (100.0%) in 34.93 sec. Users per second: 1018\n",
      "P3alphaRecommender: Similarity column 38121 (100.0%), 2156.05 column/sec. Elapsed time 17.68 sec\n",
      "EvaluatorHoldout: Ignoring 172 ( 0.5%) Users that have less than 1 test interactions\n",
      "EvaluatorHoldout: Processed 35564 (100.0%) in 33.71 sec. Users per second: 1055\n"
     ]
    },
    {
     "name": "stderr",
     "output_type": "stream",
     "text": [
      "[I 2025-01-07 04:01:29,189] Trial 603 finished with value: 0.050803934459811115 and parameters: {'topK': 52, 'alpha': 0.4222749971936572, 'normalize_similarity': True, 'implicit': False}. Best is trial 595 with value: 0.053754418047188966.\n"
     ]
    },
    {
     "name": "stdout",
     "output_type": "stream",
     "text": [
      "P3alphaRecommender: Similarity column 38121 (100.0%), 2295.08 column/sec. Elapsed time 16.61 sec\n",
      "EvaluatorHoldout: Ignoring 173 ( 0.5%) Users that have less than 1 test interactions\n",
      "EvaluatorHoldout: Processed 35563 (100.0%) in 32.31 sec. Users per second: 1101\n",
      "P3alphaRecommender: Similarity column 38121 (100.0%), 2295.86 column/sec. Elapsed time 16.60 sec\n",
      "EvaluatorHoldout: Ignoring 163 ( 0.5%) Users that have less than 1 test interactions\n",
      "EvaluatorHoldout: Processed 35573 (100.0%) in 32.24 sec. Users per second: 1103\n",
      "P3alphaRecommender: Similarity column 38121 (100.0%), 2159.93 column/sec. Elapsed time 17.65 sec\n",
      "EvaluatorHoldout: Ignoring 150 ( 0.4%) Users that have less than 1 test interactions\n",
      "EvaluatorHoldout: Processed 35586 (100.0%) in 32.91 sec. Users per second: 1081\n",
      "P3alphaRecommender: Similarity column 38121 (100.0%), 2291.64 column/sec. Elapsed time 16.63 sec\n",
      "EvaluatorHoldout: Ignoring 167 ( 0.5%) Users that have less than 1 test interactions\n",
      "EvaluatorHoldout: Processed 35569 (100.0%) in 32.41 sec. Users per second: 1098\n",
      "P3alphaRecommender: Similarity column 38121 (100.0%), 2295.68 column/sec. Elapsed time 16.61 sec\n",
      "EvaluatorHoldout: Ignoring 172 ( 0.5%) Users that have less than 1 test interactions\n",
      "EvaluatorHoldout: Processed 35564 (100.0%) in 32.31 sec. Users per second: 1101\n"
     ]
    },
    {
     "name": "stderr",
     "output_type": "stream",
     "text": [
      "[I 2025-01-07 04:05:42,727] Trial 604 finished with value: 0.04686765576702299 and parameters: {'topK': 25, 'alpha': 0.9915220658265836, 'normalize_similarity': False, 'implicit': True}. Best is trial 595 with value: 0.053754418047188966.\n"
     ]
    },
    {
     "name": "stdout",
     "output_type": "stream",
     "text": [
      "P3alphaRecommender: Similarity column 38121 (100.0%), 1968.51 column/sec. Elapsed time 19.37 sec\n",
      "EvaluatorHoldout: Ignoring 173 ( 0.5%) Users that have less than 1 test interactions\n",
      "EvaluatorHoldout: Processed 35563 (100.0%) in 30.87 sec. Users per second: 1152\n",
      "P3alphaRecommender: Similarity column 38121 (100.0%), 1943.09 column/sec. Elapsed time 19.62 sec\n",
      "EvaluatorHoldout: Ignoring 163 ( 0.5%) Users that have less than 1 test interactions\n",
      "EvaluatorHoldout: Processed 35573 (100.0%) in 35.04 sec. Users per second: 1015\n",
      "P3alphaRecommender: Similarity column 38121 (100.0%), 1963.49 column/sec. Elapsed time 19.41 sec\n",
      "EvaluatorHoldout: Ignoring 150 ( 0.4%) Users that have less than 1 test interactions\n",
      "EvaluatorHoldout: Processed 35586 (100.0%) in 31.14 sec. Users per second: 1143\n",
      "P3alphaRecommender: Similarity column 38121 (100.0%), 1966.68 column/sec. Elapsed time 19.38 sec\n",
      "EvaluatorHoldout: Ignoring 167 ( 0.5%) Users that have less than 1 test interactions\n",
      "EvaluatorHoldout: Processed 35569 (100.0%) in 46.98 sec. Users per second: 757\n",
      "P3alphaRecommender: Similarity column 38121 (100.0%), 1945.68 column/sec. Elapsed time 19.59 sec\n",
      "EvaluatorHoldout: Ignoring 172 ( 0.5%) Users that have less than 1 test interactions\n",
      "EvaluatorHoldout: Processed 35564 (100.0%) in 31.92 sec. Users per second: 1114\n"
     ]
    },
    {
     "name": "stderr",
     "output_type": "stream",
     "text": [
      "[I 2025-01-07 04:10:32,418] Trial 605 finished with value: 0.04841380576262485 and parameters: {'topK': 86, 'alpha': 0.5056285874788823, 'normalize_similarity': True, 'implicit': False}. Best is trial 595 with value: 0.053754418047188966.\n"
     ]
    },
    {
     "name": "stdout",
     "output_type": "stream",
     "text": [
      "P3alphaRecommender: Similarity column 38121 (100.0%), 2060.96 column/sec. Elapsed time 18.50 sec\n",
      "EvaluatorHoldout: Ignoring 173 ( 0.5%) Users that have less than 1 test interactions\n",
      "EvaluatorHoldout: Processed 35563 (100.0%) in 34.35 sec. Users per second: 1035\n",
      "P3alphaRecommender: Similarity column 38121 (100.0%), 2080.48 column/sec. Elapsed time 18.32 sec\n",
      "EvaluatorHoldout: Ignoring 163 ( 0.5%) Users that have less than 1 test interactions\n",
      "EvaluatorHoldout: Processed 35573 (100.0%) in 35.02 sec. Users per second: 1016\n",
      "P3alphaRecommender: Similarity column 38121 (100.0%), 2054.19 column/sec. Elapsed time 18.56 sec\n",
      "EvaluatorHoldout: Ignoring 150 ( 0.4%) Users that have less than 1 test interactions\n",
      "EvaluatorHoldout: Processed 35586 (100.0%) in 34.41 sec. Users per second: 1034\n",
      "P3alphaRecommender: Similarity column 38121 (100.0%), 2081.52 column/sec. Elapsed time 18.31 sec\n",
      "EvaluatorHoldout: Ignoring 167 ( 0.5%) Users that have less than 1 test interactions\n",
      "EvaluatorHoldout: Processed 35569 (100.0%) in 34.07 sec. Users per second: 1044\n",
      "P3alphaRecommender: Similarity column 38121 (100.0%), 2065.64 column/sec. Elapsed time 18.45 sec\n",
      "EvaluatorHoldout: Ignoring 172 ( 0.5%) Users that have less than 1 test interactions\n",
      "EvaluatorHoldout: Processed 35564 (100.0%) in 34.23 sec. Users per second: 1039\n"
     ]
    },
    {
     "name": "stderr",
     "output_type": "stream",
     "text": [
      "[I 2025-01-07 04:15:08,559] Trial 606 finished with value: 0.05021250453782855 and parameters: {'topK': 60, 'alpha': 0.39045803315332006, 'normalize_similarity': True, 'implicit': False}. Best is trial 595 with value: 0.053754418047188966.\n"
     ]
    },
    {
     "name": "stdout",
     "output_type": "stream",
     "text": [
      "P3alphaRecommender: Similarity column 38121 (100.0%), 3299.18 column/sec. Elapsed time 11.55 sec\n",
      "EvaluatorHoldout: Ignoring 173 ( 0.5%) Users that have less than 1 test interactions\n",
      "EvaluatorHoldout: Processed 35563 (100.0%) in 25.28 sec. Users per second: 1407\n",
      "P3alphaRecommender: Similarity column 38121 (100.0%), 3335.12 column/sec. Elapsed time 11.43 sec\n",
      "EvaluatorHoldout: Ignoring 163 ( 0.5%) Users that have less than 1 test interactions\n",
      "EvaluatorHoldout: Processed 35573 (100.0%) in 25.71 sec. Users per second: 1384\n",
      "P3alphaRecommender: Similarity column 38121 (100.0%), 3346.80 column/sec. Elapsed time 11.39 sec\n",
      "EvaluatorHoldout: Ignoring 150 ( 0.4%) Users that have less than 1 test interactions\n",
      "EvaluatorHoldout: Processed 35586 (100.0%) in 25.63 sec. Users per second: 1388\n",
      "P3alphaRecommender: Similarity column 38121 (100.0%), 3373.77 column/sec. Elapsed time 11.30 sec\n",
      "EvaluatorHoldout: Ignoring 167 ( 0.5%) Users that have less than 1 test interactions\n",
      "EvaluatorHoldout: Processed 35569 (100.0%) in 25.47 sec. Users per second: 1396\n",
      "P3alphaRecommender: Similarity column 38121 (100.0%), 3357.39 column/sec. Elapsed time 11.35 sec\n",
      "EvaluatorHoldout: Ignoring 172 ( 0.5%) Users that have less than 1 test interactions\n",
      "EvaluatorHoldout: Processed 35564 (100.0%) in 25.49 sec. Users per second: 1395\n"
     ]
    },
    {
     "name": "stderr",
     "output_type": "stream",
     "text": [
      "[I 2025-01-07 04:18:14,185] Trial 607 finished with value: 0.0002664826418719655 and parameters: {'topK': 0, 'alpha': 0.4480537042446385, 'normalize_similarity': True, 'implicit': False}. Best is trial 595 with value: 0.053754418047188966.\n"
     ]
    },
    {
     "name": "stdout",
     "output_type": "stream",
     "text": [
      "P3alphaRecommender: Similarity column 38121 (100.0%), 2290.40 column/sec. Elapsed time 16.64 sec\n",
      "EvaluatorHoldout: Ignoring 173 ( 0.5%) Users that have less than 1 test interactions\n",
      "EvaluatorHoldout: Processed 35563 (100.0%) in 32.35 sec. Users per second: 1099\n",
      "P3alphaRecommender: Similarity column 38121 (100.0%), 2274.20 column/sec. Elapsed time 16.76 sec\n",
      "EvaluatorHoldout: Ignoring 163 ( 0.5%) Users that have less than 1 test interactions\n",
      "EvaluatorHoldout: Processed 35573 (100.0%) in 32.39 sec. Users per second: 1098\n",
      "P3alphaRecommender: Similarity column 38121 (100.0%), 2254.23 column/sec. Elapsed time 16.91 sec\n",
      "EvaluatorHoldout: Ignoring 150 ( 0.4%) Users that have less than 1 test interactions\n",
      "EvaluatorHoldout: Processed 35586 (100.0%) in 32.55 sec. Users per second: 1093\n",
      "P3alphaRecommender: Similarity column 38121 (100.0%), 2265.87 column/sec. Elapsed time 16.82 sec\n",
      "EvaluatorHoldout: Ignoring 167 ( 0.5%) Users that have less than 1 test interactions\n",
      "EvaluatorHoldout: Processed 35569 (100.0%) in 32.30 sec. Users per second: 1101\n",
      "P3alphaRecommender: Similarity column 38121 (100.0%), 2265.21 column/sec. Elapsed time 16.83 sec\n",
      "EvaluatorHoldout: Ignoring 172 ( 0.5%) Users that have less than 1 test interactions\n",
      "EvaluatorHoldout: Processed 35564 (100.0%) in 32.16 sec. Users per second: 1106\n"
     ]
    },
    {
     "name": "stderr",
     "output_type": "stream",
     "text": [
      "[I 2025-01-07 04:22:27,188] Trial 608 finished with value: 0.05283076526473394 and parameters: {'topK': 28, 'alpha': 0.33667226983998355, 'normalize_similarity': True, 'implicit': False}. Best is trial 595 with value: 0.053754418047188966.\n"
     ]
    },
    {
     "name": "stdout",
     "output_type": "stream",
     "text": [
      "P3alphaRecommender: Similarity column 38121 (100.0%), 1826.98 column/sec. Elapsed time 20.87 sec\n",
      "EvaluatorHoldout: Ignoring 173 ( 0.5%) Users that have less than 1 test interactions\n",
      "EvaluatorHoldout: Processed 35563 (100.0%) in 32.19 sec. Users per second: 1105\n",
      "P3alphaRecommender: Similarity column 38121 (100.0%), 1819.66 column/sec. Elapsed time 20.95 sec\n",
      "EvaluatorHoldout: Ignoring 163 ( 0.5%) Users that have less than 1 test interactions\n",
      "EvaluatorHoldout: Processed 35573 (100.0%) in 32.27 sec. Users per second: 1102\n",
      "P3alphaRecommender: Similarity column 38121 (100.0%), 1837.33 column/sec. Elapsed time 20.75 sec\n",
      "EvaluatorHoldout: Ignoring 150 ( 0.4%) Users that have less than 1 test interactions\n",
      "EvaluatorHoldout: Processed 35586 (100.0%) in 32.43 sec. Users per second: 1097\n",
      "P3alphaRecommender: Similarity column 38121 (100.0%), 1820.40 column/sec. Elapsed time 20.94 sec\n",
      "EvaluatorHoldout: Ignoring 167 ( 0.5%) Users that have less than 1 test interactions\n",
      "EvaluatorHoldout: Processed 35569 (100.0%) in 32.05 sec. Users per second: 1110\n",
      "P3alphaRecommender: Similarity column 38121 (100.0%), 1827.01 column/sec. Elapsed time 20.87 sec\n",
      "EvaluatorHoldout: Ignoring 172 ( 0.5%) Users that have less than 1 test interactions\n",
      "EvaluatorHoldout: Processed 35564 (100.0%) in 32.26 sec. Users per second: 1102\n"
     ]
    },
    {
     "name": "stderr",
     "output_type": "stream",
     "text": [
      "[I 2025-01-07 04:27:14,132] Trial 609 finished with value: 0.04660816519098536 and parameters: {'topK': 116, 'alpha': 0.5933968962608995, 'normalize_similarity': True, 'implicit': False}. Best is trial 595 with value: 0.053754418047188966.\n"
     ]
    },
    {
     "name": "stdout",
     "output_type": "stream",
     "text": [
      "P3alphaRecommender: Similarity column 38121 (100.0%), 489.39 column/sec. Elapsed time 1.30 min\n",
      "EvaluatorHoldout: Ignoring 173 ( 0.5%) Users that have less than 1 test interactions\n",
      "EvaluatorHoldout: Processed 35563 (100.0%) in 59.25 sec. Users per second: 600\n",
      "P3alphaRecommender: Similarity column 38121 (100.0%), 481.86 column/sec. Elapsed time 1.32 min\n",
      "EvaluatorHoldout: Ignoring 163 ( 0.5%) Users that have less than 1 test interactions\n",
      "EvaluatorHoldout: Processed 35573 (100.0%) in 58.53 sec. Users per second: 608\n",
      "P3alphaRecommender: Similarity column 38121 (100.0%), 487.42 column/sec. Elapsed time 1.30 min\n",
      "EvaluatorHoldout: Ignoring 150 ( 0.4%) Users that have less than 1 test interactions\n",
      "EvaluatorHoldout: Processed 35586 (100.0%) in 59.57 sec. Users per second: 597\n",
      "P3alphaRecommender: Similarity column 38121 (100.0%), 483.99 column/sec. Elapsed time 1.31 min\n",
      "EvaluatorHoldout: Ignoring 167 ( 0.5%) Users that have less than 1 test interactions\n",
      "EvaluatorHoldout: Processed 35569 (100.0%) in 58.54 sec. Users per second: 608\n",
      "P3alphaRecommender: Similarity column 38121 (100.0%), 483.04 column/sec. Elapsed time 1.32 min\n",
      "EvaluatorHoldout: Ignoring 172 ( 0.5%) Users that have less than 1 test interactions\n",
      "EvaluatorHoldout: Processed 35564 (100.0%) in 58.66 sec. Users per second: 606\n"
     ]
    },
    {
     "name": "stderr",
     "output_type": "stream",
     "text": [
      "[I 2025-01-07 04:43:08,075] Trial 610 finished with value: 0.03416685079311225 and parameters: {'topK': 1413, 'alpha': 0.6575601421995252, 'normalize_similarity': True, 'implicit': False}. Best is trial 595 with value: 0.053754418047188966.\n"
     ]
    },
    {
     "name": "stdout",
     "output_type": "stream",
     "text": [
      "P3alphaRecommender: Similarity column 38121 (100.0%), 2105.14 column/sec. Elapsed time 18.11 sec\n",
      "EvaluatorHoldout: Ignoring 173 ( 0.5%) Users that have less than 1 test interactions\n",
      "EvaluatorHoldout: Processed 35563 (100.0%) in 34.11 sec. Users per second: 1043\n",
      "P3alphaRecommender: Similarity column 38121 (100.0%), 2085.74 column/sec. Elapsed time 18.28 sec\n",
      "EvaluatorHoldout: Ignoring 163 ( 0.5%) Users that have less than 1 test interactions\n",
      "EvaluatorHoldout: Processed 35573 (100.0%) in 34.17 sec. Users per second: 1041\n",
      "P3alphaRecommender: Similarity column 38121 (100.0%), 2070.83 column/sec. Elapsed time 18.41 sec\n",
      "EvaluatorHoldout: Ignoring 150 ( 0.4%) Users that have less than 1 test interactions\n",
      "EvaluatorHoldout: Processed 35586 (100.0%) in 34.66 sec. Users per second: 1027\n",
      "P3alphaRecommender: Similarity column 38121 (100.0%), 2053.83 column/sec. Elapsed time 18.56 sec\n",
      "EvaluatorHoldout: Ignoring 167 ( 0.5%) Users that have less than 1 test interactions\n",
      "EvaluatorHoldout: Processed 35569 (100.0%) in 34.36 sec. Users per second: 1035\n",
      "P3alphaRecommender: Similarity column 38121 (100.0%), 2082.06 column/sec. Elapsed time 18.31 sec\n",
      "EvaluatorHoldout: Ignoring 172 ( 0.5%) Users that have less than 1 test interactions\n",
      "EvaluatorHoldout: Processed 35564 (100.0%) in 34.44 sec. Users per second: 1033\n"
     ]
    },
    {
     "name": "stderr",
     "output_type": "stream",
     "text": [
      "[I 2025-01-07 04:47:43,767] Trial 611 finished with value: 0.04997356531368875 and parameters: {'topK': 63, 'alpha': 0.4037513872120202, 'normalize_similarity': True, 'implicit': False}. Best is trial 595 with value: 0.053754418047188966.\n"
     ]
    },
    {
     "name": "stdout",
     "output_type": "stream",
     "text": [
      "P3alphaRecommender: Similarity column 38121 (100.0%), 3313.95 column/sec. Elapsed time 11.50 sec\n",
      "EvaluatorHoldout: Ignoring 173 ( 0.5%) Users that have less than 1 test interactions\n",
      "EvaluatorHoldout: Processed 35563 (100.0%) in 25.43 sec. Users per second: 1399\n",
      "P3alphaRecommender: Similarity column 38121 (100.0%), 3319.24 column/sec. Elapsed time 11.48 sec\n",
      "EvaluatorHoldout: Ignoring 163 ( 0.5%) Users that have less than 1 test interactions\n",
      "EvaluatorHoldout: Processed 35573 (100.0%) in 25.58 sec. Users per second: 1391\n",
      "P3alphaRecommender: Similarity column 38121 (100.0%), 3354.06 column/sec. Elapsed time 11.37 sec\n",
      "EvaluatorHoldout: Ignoring 150 ( 0.4%) Users that have less than 1 test interactions\n",
      "EvaluatorHoldout: Processed 35586 (100.0%) in 25.67 sec. Users per second: 1386\n",
      "P3alphaRecommender: Similarity column 38121 (100.0%), 3344.34 column/sec. Elapsed time 11.40 sec\n",
      "EvaluatorHoldout: Ignoring 167 ( 0.5%) Users that have less than 1 test interactions\n",
      "EvaluatorHoldout: Processed 35569 (100.0%) in 25.52 sec. Users per second: 1394\n",
      "P3alphaRecommender: Similarity column 38121 (100.0%), 3308.38 column/sec. Elapsed time 11.52 sec\n",
      "EvaluatorHoldout: Ignoring 172 ( 0.5%) Users that have less than 1 test interactions\n",
      "EvaluatorHoldout: Processed 35564 (100.0%) in 25.48 sec. Users per second: 1396\n"
     ]
    },
    {
     "name": "stderr",
     "output_type": "stream",
     "text": [
      "[I 2025-01-07 04:50:49,754] Trial 612 finished with value: 0.0002664826418719655 and parameters: {'topK': 0, 'alpha': 0.4759785441308085, 'normalize_similarity': True, 'implicit': False}. Best is trial 595 with value: 0.053754418047188966.\n"
     ]
    },
    {
     "name": "stdout",
     "output_type": "stream",
     "text": [
      "P3alphaRecommender: Similarity column 38121 (100.0%), 2178.85 column/sec. Elapsed time 17.50 sec\n",
      "EvaluatorHoldout: Ignoring 173 ( 0.5%) Users that have less than 1 test interactions\n",
      "EvaluatorHoldout: Processed 35563 (100.0%) in 33.35 sec. Users per second: 1066\n",
      "P3alphaRecommender: Similarity column 38121 (100.0%), 2123.18 column/sec. Elapsed time 17.95 sec\n",
      "EvaluatorHoldout: Ignoring 163 ( 0.5%) Users that have less than 1 test interactions\n",
      "EvaluatorHoldout: Processed 35573 (100.0%) in 33.34 sec. Users per second: 1067\n",
      "P3alphaRecommender: Similarity column 38121 (100.0%), 2165.54 column/sec. Elapsed time 17.60 sec\n",
      "EvaluatorHoldout: Ignoring 150 ( 0.4%) Users that have less than 1 test interactions\n",
      "EvaluatorHoldout: Processed 35586 (100.0%) in 33.36 sec. Users per second: 1067\n",
      "P3alphaRecommender: Similarity column 38121 (100.0%), 2154.42 column/sec. Elapsed time 17.69 sec\n",
      "EvaluatorHoldout: Ignoring 167 ( 0.5%) Users that have less than 1 test interactions\n",
      "EvaluatorHoldout: Processed 35569 (100.0%) in 33.24 sec. Users per second: 1070\n",
      "P3alphaRecommender: Similarity column 38121 (100.0%), 2138.96 column/sec. Elapsed time 17.82 sec\n",
      "EvaluatorHoldout: Ignoring 172 ( 0.5%) Users that have less than 1 test interactions\n",
      "EvaluatorHoldout: Processed 35564 (100.0%) in 33.34 sec. Users per second: 1067\n"
     ]
    },
    {
     "name": "stderr",
     "output_type": "stream",
     "text": [
      "[I 2025-01-07 04:55:14,929] Trial 613 finished with value: 0.05109701076491393 and parameters: {'topK': 47, 'alpha': 0.31003192945506663, 'normalize_similarity': True, 'implicit': False}. Best is trial 595 with value: 0.053754418047188966.\n"
     ]
    },
    {
     "name": "stdout",
     "output_type": "stream",
     "text": [
      "P3alphaRecommender: Similarity column 38121 (100.0%), 1941.71 column/sec. Elapsed time 19.63 sec\n",
      "EvaluatorHoldout: Ignoring 173 ( 0.5%) Users that have less than 1 test interactions\n",
      "EvaluatorHoldout: Processed 35563 (100.0%) in 48.09 sec. Users per second: 739\n",
      "P3alphaRecommender: Similarity column 38121 (100.0%), 1932.75 column/sec. Elapsed time 19.72 sec\n",
      "EvaluatorHoldout: Ignoring 163 ( 0.5%) Users that have less than 1 test interactions\n",
      "EvaluatorHoldout: Processed 35573 (100.0%) in 35.56 sec. Users per second: 1000\n",
      "P3alphaRecommender: Similarity column 38121 (100.0%), 1952.97 column/sec. Elapsed time 19.52 sec\n",
      "EvaluatorHoldout: Ignoring 150 ( 0.4%) Users that have less than 1 test interactions\n",
      "EvaluatorHoldout: Processed 35586 (100.0%) in 31.24 sec. Users per second: 1139\n",
      "P3alphaRecommender: Similarity column 38121 (100.0%), 1950.89 column/sec. Elapsed time 19.54 sec\n",
      "EvaluatorHoldout: Ignoring 167 ( 0.5%) Users that have less than 1 test interactions\n",
      "EvaluatorHoldout: Processed 35569 (100.0%) in 35.05 sec. Users per second: 1015\n",
      "P3alphaRecommender: Similarity column 38121 (100.0%), 1951.24 column/sec. Elapsed time 19.54 sec\n",
      "EvaluatorHoldout: Ignoring 172 ( 0.5%) Users that have less than 1 test interactions\n",
      "EvaluatorHoldout: Processed 35564 (100.0%) in 31.83 sec. Users per second: 1117\n"
     ]
    },
    {
     "name": "stderr",
     "output_type": "stream",
     "text": [
      "[I 2025-01-07 05:00:10,708] Trial 614 finished with value: 0.04825881140102428 and parameters: {'topK': 88, 'alpha': 0.3636758896241006, 'normalize_similarity': True, 'implicit': False}. Best is trial 595 with value: 0.053754418047188966.\n"
     ]
    },
    {
     "name": "stdout",
     "output_type": "stream",
     "text": [
      "P3alphaRecommender: Similarity column 38121 (100.0%), 1686.12 column/sec. Elapsed time 22.61 sec\n",
      "EvaluatorHoldout: Ignoring 173 ( 0.5%) Users that have less than 1 test interactions\n",
      "EvaluatorHoldout: Processed 35563 (100.0%) in 33.76 sec. Users per second: 1054\n",
      "P3alphaRecommender: Similarity column 38121 (100.0%), 1697.19 column/sec. Elapsed time 22.46 sec\n",
      "EvaluatorHoldout: Ignoring 163 ( 0.5%) Users that have less than 1 test interactions\n",
      "EvaluatorHoldout: Processed 35573 (100.0%) in 33.10 sec. Users per second: 1075\n",
      "P3alphaRecommender: Similarity column 38121 (100.0%), 1722.13 column/sec. Elapsed time 22.14 sec\n",
      "EvaluatorHoldout: Ignoring 150 ( 0.4%) Users that have less than 1 test interactions\n",
      "EvaluatorHoldout: Processed 35586 (100.0%) in 33.22 sec. Users per second: 1071\n",
      "P3alphaRecommender: Similarity column 38121 (100.0%), 1713.53 column/sec. Elapsed time 22.25 sec\n",
      "EvaluatorHoldout: Ignoring 167 ( 0.5%) Users that have less than 1 test interactions\n",
      "EvaluatorHoldout: Processed 35569 (100.0%) in 33.01 sec. Users per second: 1078\n",
      "P3alphaRecommender: Similarity column 38121 (100.0%), 1722.96 column/sec. Elapsed time 22.13 sec\n",
      "EvaluatorHoldout: Ignoring 172 ( 0.5%) Users that have less than 1 test interactions\n",
      "EvaluatorHoldout: Processed 35564 (100.0%) in 32.97 sec. Users per second: 1079\n"
     ]
    },
    {
     "name": "stderr",
     "output_type": "stream",
     "text": [
      "[I 2025-01-07 05:05:15,180] Trial 615 finished with value: 0.04486097368791201 and parameters: {'topK': 144, 'alpha': 0.7925670739642184, 'normalize_similarity': True, 'implicit': True}. Best is trial 595 with value: 0.053754418047188966.\n"
     ]
    },
    {
     "name": "stdout",
     "output_type": "stream",
     "text": [
      "P3alphaRecommender: Similarity column 38121 (100.0%), 2285.88 column/sec. Elapsed time 16.68 sec\n",
      "EvaluatorHoldout: Ignoring 173 ( 0.5%) Users that have less than 1 test interactions\n",
      "EvaluatorHoldout: Processed 35563 (100.0%) in 32.21 sec. Users per second: 1104\n",
      "P3alphaRecommender: Similarity column 38121 (100.0%), 2196.78 column/sec. Elapsed time 17.35 sec\n",
      "EvaluatorHoldout: Ignoring 163 ( 0.5%) Users that have less than 1 test interactions\n",
      "EvaluatorHoldout: Processed 35573 (100.0%) in 46.57 sec. Users per second: 764\n",
      "P3alphaRecommender: Similarity column 38121 (100.0%), 2284.56 column/sec. Elapsed time 16.69 sec\n",
      "EvaluatorHoldout: Ignoring 150 ( 0.4%) Users that have less than 1 test interactions\n",
      "EvaluatorHoldout: Processed 35586 (100.0%) in 32.41 sec. Users per second: 1098\n",
      "P3alphaRecommender: Similarity column 38121 (100.0%), 2259.11 column/sec. Elapsed time 16.87 sec\n",
      "EvaluatorHoldout: Ignoring 167 ( 0.5%) Users that have less than 1 test interactions\n",
      "EvaluatorHoldout: Processed 35569 (100.0%) in 32.19 sec. Users per second: 1105\n",
      "P3alphaRecommender: Similarity column 38121 (100.0%), 2276.53 column/sec. Elapsed time 16.75 sec\n",
      "EvaluatorHoldout: Ignoring 172 ( 0.5%) Users that have less than 1 test interactions\n",
      "EvaluatorHoldout: Processed 35564 (100.0%) in 32.20 sec. Users per second: 1104\n"
     ]
    },
    {
     "name": "stderr",
     "output_type": "stream",
     "text": [
      "[I 2025-01-07 05:09:42,377] Trial 616 finished with value: 0.05289841125095927 and parameters: {'topK': 28, 'alpha': 0.43382972564724415, 'normalize_similarity': True, 'implicit': False}. Best is trial 595 with value: 0.053754418047188966.\n"
     ]
    },
    {
     "name": "stdout",
     "output_type": "stream",
     "text": [
      "P3alphaRecommender: Similarity column 38121 (100.0%), 2167.16 column/sec. Elapsed time 17.59 sec\n",
      "EvaluatorHoldout: Ignoring 173 ( 0.5%) Users that have less than 1 test interactions\n",
      "EvaluatorHoldout: Processed 35563 (100.0%) in 33.47 sec. Users per second: 1063\n",
      "P3alphaRecommender: Similarity column 38121 (100.0%), 2160.49 column/sec. Elapsed time 17.64 sec\n",
      "EvaluatorHoldout: Ignoring 163 ( 0.5%) Users that have less than 1 test interactions\n",
      "EvaluatorHoldout: Processed 35573 (100.0%) in 33.44 sec. Users per second: 1064\n",
      "P3alphaRecommender: Similarity column 38121 (100.0%), 2179.49 column/sec. Elapsed time 17.49 sec\n",
      "EvaluatorHoldout: Ignoring 150 ( 0.4%) Users that have less than 1 test interactions\n",
      "EvaluatorHoldout: Processed 35586 (100.0%) in 33.32 sec. Users per second: 1068\n",
      "P3alphaRecommender: Similarity column 38121 (100.0%), 2145.46 column/sec. Elapsed time 17.77 sec\n",
      "EvaluatorHoldout: Ignoring 167 ( 0.5%) Users that have less than 1 test interactions\n",
      "EvaluatorHoldout: Processed 35569 (100.0%) in 34.02 sec. Users per second: 1046\n",
      "P3alphaRecommender: Similarity column 38121 (100.0%), 2166.27 column/sec. Elapsed time 17.60 sec\n",
      "EvaluatorHoldout: Ignoring 172 ( 0.5%) Users that have less than 1 test interactions\n",
      "EvaluatorHoldout: Processed 35564 (100.0%) in 33.30 sec. Users per second: 1068\n"
     ]
    },
    {
     "name": "stderr",
     "output_type": "stream",
     "text": [
      "[I 2025-01-07 05:14:08,166] Trial 617 finished with value: 0.05116819572950053 and parameters: {'topK': 46, 'alpha': 0.5336607870480585, 'normalize_similarity': True, 'implicit': False}. Best is trial 595 with value: 0.053754418047188966.\n"
     ]
    },
    {
     "name": "stdout",
     "output_type": "stream",
     "text": [
      "P3alphaRecommender: Similarity column 38121 (100.0%), 933.01 column/sec. Elapsed time 40.86 sec\n",
      "EvaluatorHoldout: Ignoring 173 ( 0.5%) Users that have less than 1 test interactions\n",
      "EvaluatorHoldout: Processed 35563 (100.0%) in 45.37 sec. Users per second: 784\n",
      "P3alphaRecommender: Similarity column 38121 (100.0%), 904.20 column/sec. Elapsed time 42.16 sec\n",
      "EvaluatorHoldout: Ignoring 163 ( 0.5%) Users that have less than 1 test interactions\n",
      "EvaluatorHoldout: Processed 35573 (100.0%) in 57.94 sec. Users per second: 614\n",
      "P3alphaRecommender: Similarity column 38121 (100.0%), 914.80 column/sec. Elapsed time 41.67 sec\n",
      "EvaluatorHoldout: Ignoring 150 ( 0.4%) Users that have less than 1 test interactions\n",
      "EvaluatorHoldout: Processed 35586 (100.0%) in 45.73 sec. Users per second: 778\n",
      "P3alphaRecommender: Similarity column 38121 (100.0%), 876.46 column/sec. Elapsed time 43.49 sec\n",
      "EvaluatorHoldout: Ignoring 167 ( 0.5%) Users that have less than 1 test interactions\n",
      "EvaluatorHoldout: Processed 35569 (100.0%) in 46.08 sec. Users per second: 772\n",
      "P3alphaRecommender: Similarity column 38121 (100.0%), 905.89 column/sec. Elapsed time 42.08 sec\n",
      "EvaluatorHoldout: Ignoring 172 ( 0.5%) Users that have less than 1 test interactions\n",
      "EvaluatorHoldout: Processed 35564 (100.0%) in 45.64 sec. Users per second: 779\n"
     ]
    },
    {
     "name": "stderr",
     "output_type": "stream",
     "text": [
      "[I 2025-01-07 05:23:23,658] Trial 618 finished with value: 0.03718470405126187 and parameters: {'topK': 542, 'alpha': 0.38244663872424134, 'normalize_similarity': True, 'implicit': False}. Best is trial 595 with value: 0.053754418047188966.\n"
     ]
    },
    {
     "name": "stdout",
     "output_type": "stream",
     "text": [
      "P3alphaRecommender: Similarity column 38121 (100.0%), 2278.21 column/sec. Elapsed time 16.73 sec\n",
      "EvaluatorHoldout: Ignoring 173 ( 0.5%) Users that have less than 1 test interactions\n",
      "EvaluatorHoldout: Processed 35563 (100.0%) in 32.10 sec. Users per second: 1108\n",
      "P3alphaRecommender: Similarity column 38121 (100.0%), 2283.50 column/sec. Elapsed time 16.69 sec\n",
      "EvaluatorHoldout: Ignoring 163 ( 0.5%) Users that have less than 1 test interactions\n",
      "EvaluatorHoldout: Processed 35573 (100.0%) in 32.08 sec. Users per second: 1109\n",
      "P3alphaRecommender: Similarity column 38121 (100.0%), 2253.95 column/sec. Elapsed time 16.91 sec\n",
      "EvaluatorHoldout: Ignoring 150 ( 0.4%) Users that have less than 1 test interactions\n",
      "EvaluatorHoldout: Processed 35586 (100.0%) in 32.89 sec. Users per second: 1082\n",
      "P3alphaRecommender: Similarity column 38121 (100.0%), 2327.13 column/sec. Elapsed time 16.38 sec\n",
      "EvaluatorHoldout: Ignoring 167 ( 0.5%) Users that have less than 1 test interactions\n",
      "EvaluatorHoldout: Processed 35569 (100.0%) in 31.83 sec. Users per second: 1118\n",
      "P3alphaRecommender: Similarity column 38121 (100.0%), 2275.51 column/sec. Elapsed time 16.75 sec\n",
      "EvaluatorHoldout: Ignoring 172 ( 0.5%) Users that have less than 1 test interactions\n",
      "EvaluatorHoldout: Processed 35564 (100.0%) in 39.44 sec. Users per second: 902\n"
     ]
    },
    {
     "name": "stderr",
     "output_type": "stream",
     "text": [
      "[I 2025-01-07 05:27:42,395] Trial 619 finished with value: 0.05299742031406762 and parameters: {'topK': 26, 'alpha': 0.26556892254218717, 'normalize_similarity': True, 'implicit': False}. Best is trial 595 with value: 0.053754418047188966.\n"
     ]
    },
    {
     "name": "stdout",
     "output_type": "stream",
     "text": [
      "P3alphaRecommender: Similarity column 38121 (100.0%), 3049.76 column/sec. Elapsed time 12.50 sec\n",
      "EvaluatorHoldout: Ignoring 173 ( 0.5%) Users that have less than 1 test interactions\n",
      "EvaluatorHoldout: Processed 35563 (100.0%) in 27.44 sec. Users per second: 1296\n",
      "P3alphaRecommender: Similarity column 38121 (100.0%), 3412.32 column/sec. Elapsed time 11.17 sec\n",
      "EvaluatorHoldout: Ignoring 163 ( 0.5%) Users that have less than 1 test interactions\n",
      "EvaluatorHoldout: Processed 35573 (100.0%) in 25.33 sec. Users per second: 1404\n",
      "P3alphaRecommender: Similarity column 38121 (100.0%), 3443.57 column/sec. Elapsed time 11.07 sec\n",
      "EvaluatorHoldout: Ignoring 150 ( 0.4%) Users that have less than 1 test interactions\n",
      "EvaluatorHoldout: Processed 35586 (100.0%) in 25.47 sec. Users per second: 1397\n",
      "P3alphaRecommender: Similarity column 38121 (100.0%), 3447.59 column/sec. Elapsed time 11.06 sec\n",
      "EvaluatorHoldout: Ignoring 167 ( 0.5%) Users that have less than 1 test interactions\n",
      "EvaluatorHoldout: Processed 35569 (100.0%) in 25.93 sec. Users per second: 1372\n",
      "P3alphaRecommender: Similarity column 38121 (100.0%), 3367.33 column/sec. Elapsed time 11.32 sec\n",
      "EvaluatorHoldout: Ignoring 172 ( 0.5%) Users that have less than 1 test interactions\n",
      "EvaluatorHoldout: Processed 35564 (100.0%) in 25.34 sec. Users per second: 1403\n"
     ]
    },
    {
     "name": "stderr",
     "output_type": "stream",
     "text": [
      "[I 2025-01-07 05:30:50,052] Trial 620 finished with value: 0.0002664826418719655 and parameters: {'topK': 0, 'alpha': 0.4874052385832388, 'normalize_similarity': True, 'implicit': False}. Best is trial 595 with value: 0.053754418047188966.\n"
     ]
    },
    {
     "name": "stdout",
     "output_type": "stream",
     "text": [
      "P3alphaRecommender: Similarity column 38121 (100.0%), 2014.23 column/sec. Elapsed time 18.93 sec\n",
      "EvaluatorHoldout: Ignoring 173 ( 0.5%) Users that have less than 1 test interactions\n",
      "EvaluatorHoldout: Processed 35563 (100.0%) in 34.75 sec. Users per second: 1023\n",
      "P3alphaRecommender: Similarity column 38121 (100.0%), 2007.37 column/sec. Elapsed time 18.99 sec\n",
      "EvaluatorHoldout: Ignoring 163 ( 0.5%) Users that have less than 1 test interactions\n",
      "EvaluatorHoldout: Processed 35573 (100.0%) in 34.51 sec. Users per second: 1031\n",
      "P3alphaRecommender: Similarity column 38121 (100.0%), 2014.73 column/sec. Elapsed time 18.92 sec\n",
      "EvaluatorHoldout: Ignoring 150 ( 0.4%) Users that have less than 1 test interactions\n",
      "EvaluatorHoldout: Processed 35586 (100.0%) in 34.55 sec. Users per second: 1030\n",
      "P3alphaRecommender: Similarity column 38121 (100.0%), 2007.59 column/sec. Elapsed time 18.99 sec\n",
      "EvaluatorHoldout: Ignoring 167 ( 0.5%) Users that have less than 1 test interactions\n",
      "EvaluatorHoldout: Processed 35569 (100.0%) in 34.58 sec. Users per second: 1029\n",
      "P3alphaRecommender: Similarity column 38121 (100.0%), 1972.67 column/sec. Elapsed time 19.32 sec\n",
      "EvaluatorHoldout: Ignoring 172 ( 0.5%) Users that have less than 1 test interactions\n",
      "EvaluatorHoldout: Processed 35564 (100.0%) in 34.68 sec. Users per second: 1026\n"
     ]
    },
    {
     "name": "stderr",
     "output_type": "stream",
     "text": [
      "[I 2025-01-07 05:35:32,318] Trial 621 finished with value: 0.04898875355829823 and parameters: {'topK': 76, 'alpha': 0.3236134037081656, 'normalize_similarity': True, 'implicit': False}. Best is trial 595 with value: 0.053754418047188966.\n"
     ]
    },
    {
     "name": "stdout",
     "output_type": "stream",
     "text": [
      "P3alphaRecommender: Similarity column 38121 (100.0%), 2138.08 column/sec. Elapsed time 17.83 sec\n",
      "EvaluatorHoldout: Ignoring 173 ( 0.5%) Users that have less than 1 test interactions\n",
      "EvaluatorHoldout: Processed 35563 (100.0%) in 33.60 sec. Users per second: 1059\n",
      "P3alphaRecommender: Similarity column 38121 (100.0%), 2145.38 column/sec. Elapsed time 17.77 sec\n",
      "EvaluatorHoldout: Ignoring 163 ( 0.5%) Users that have less than 1 test interactions\n",
      "EvaluatorHoldout: Processed 35573 (100.0%) in 33.65 sec. Users per second: 1057\n",
      "P3alphaRecommender: Similarity column 38121 (100.0%), 2143.06 column/sec. Elapsed time 17.79 sec\n",
      "EvaluatorHoldout: Ignoring 150 ( 0.4%) Users that have less than 1 test interactions\n",
      "EvaluatorHoldout: Processed 35586 (100.0%) in 33.68 sec. Users per second: 1057\n",
      "P3alphaRecommender: Similarity column 38121 (100.0%), 2132.55 column/sec. Elapsed time 17.88 sec\n",
      "EvaluatorHoldout: Ignoring 167 ( 0.5%) Users that have less than 1 test interactions\n",
      "EvaluatorHoldout: Processed 35569 (100.0%) in 33.56 sec. Users per second: 1060\n",
      "P3alphaRecommender: Similarity column 38121 (100.0%), 2153.22 column/sec. Elapsed time 17.70 sec\n",
      "EvaluatorHoldout: Ignoring 172 ( 0.5%) Users that have less than 1 test interactions\n",
      "EvaluatorHoldout: Processed 35564 (100.0%) in 33.40 sec. Users per second: 1065\n"
     ]
    },
    {
     "name": "stderr",
     "output_type": "stream",
     "text": [
      "[I 2025-01-07 05:39:59,330] Trial 622 finished with value: 0.05111619983404867 and parameters: {'topK': 48, 'alpha': 0.4345279569033213, 'normalize_similarity': True, 'implicit': False}. Best is trial 595 with value: 0.053754418047188966.\n"
     ]
    },
    {
     "name": "stdout",
     "output_type": "stream",
     "text": [
      "P3alphaRecommender: Similarity column 38121 (100.0%), 1876.00 column/sec. Elapsed time 20.32 sec\n",
      "EvaluatorHoldout: Ignoring 173 ( 0.5%) Users that have less than 1 test interactions\n",
      "EvaluatorHoldout: Processed 35563 (100.0%) in 31.89 sec. Users per second: 1115\n",
      "P3alphaRecommender: Similarity column 38121 (100.0%), 1885.17 column/sec. Elapsed time 20.22 sec\n",
      "EvaluatorHoldout: Ignoring 163 ( 0.5%) Users that have less than 1 test interactions\n",
      "EvaluatorHoldout: Processed 35573 (100.0%) in 31.83 sec. Users per second: 1118\n",
      "P3alphaRecommender: Similarity column 38121 (100.0%), 1877.19 column/sec. Elapsed time 20.31 sec\n",
      "EvaluatorHoldout: Ignoring 150 ( 0.4%) Users that have less than 1 test interactions\n",
      "EvaluatorHoldout: Processed 35586 (100.0%) in 32.06 sec. Users per second: 1110\n",
      "P3alphaRecommender: Similarity column 38121 (100.0%), 1916.24 column/sec. Elapsed time 19.89 sec\n",
      "EvaluatorHoldout: Ignoring 167 ( 0.5%) Users that have less than 1 test interactions\n",
      "EvaluatorHoldout: Processed 35569 (100.0%) in 31.71 sec. Users per second: 1122\n",
      "P3alphaRecommender: Similarity column 38121 (100.0%), 1897.37 column/sec. Elapsed time 20.09 sec\n",
      "EvaluatorHoldout: Ignoring 172 ( 0.5%) Users that have less than 1 test interactions\n",
      "EvaluatorHoldout: Processed 35564 (100.0%) in 31.77 sec. Users per second: 1120\n"
     ]
    },
    {
     "name": "stderr",
     "output_type": "stream",
     "text": [
      "[I 2025-01-07 05:44:38,205] Trial 623 finished with value: 0.044035710792093063 and parameters: {'topK': 98, 'alpha': 0.7489122925244381, 'normalize_similarity': False, 'implicit': False}. Best is trial 595 with value: 0.053754418047188966.\n"
     ]
    },
    {
     "name": "stdout",
     "output_type": "stream",
     "text": [
      "P3alphaRecommender: Similarity column 38121 (100.0%), 3325.54 column/sec. Elapsed time 11.46 sec\n",
      "EvaluatorHoldout: Ignoring 173 ( 0.5%) Users that have less than 1 test interactions\n",
      "EvaluatorHoldout: Processed 35563 (100.0%) in 25.35 sec. Users per second: 1403\n",
      "P3alphaRecommender: Similarity column 38121 (100.0%), 3295.69 column/sec. Elapsed time 11.57 sec\n",
      "EvaluatorHoldout: Ignoring 163 ( 0.5%) Users that have less than 1 test interactions\n",
      "EvaluatorHoldout: Processed 35573 (100.0%) in 25.54 sec. Users per second: 1393\n",
      "P3alphaRecommender: Similarity column 38121 (100.0%), 3343.63 column/sec. Elapsed time 11.40 sec\n",
      "EvaluatorHoldout: Ignoring 150 ( 0.4%) Users that have less than 1 test interactions\n",
      "EvaluatorHoldout: Processed 35586 (100.0%) in 25.39 sec. Users per second: 1401\n",
      "P3alphaRecommender: Similarity column 38121 (100.0%), 3366.25 column/sec. Elapsed time 11.32 sec\n",
      "EvaluatorHoldout: Ignoring 167 ( 0.5%) Users that have less than 1 test interactions\n",
      "EvaluatorHoldout: Processed 35569 (100.0%) in 25.29 sec. Users per second: 1407\n",
      "P3alphaRecommender: Similarity column 38121 (100.0%), 3340.25 column/sec. Elapsed time 11.41 sec\n",
      "EvaluatorHoldout: Ignoring 172 ( 0.5%) Users that have less than 1 test interactions\n",
      "EvaluatorHoldout: Processed 35564 (100.0%) in 25.33 sec. Users per second: 1404\n"
     ]
    },
    {
     "name": "stderr",
     "output_type": "stream",
     "text": [
      "[I 2025-01-07 05:47:43,300] Trial 624 finished with value: 0.0002664826418719655 and parameters: {'topK': 0, 'alpha': 0.3643517975414091, 'normalize_similarity': True, 'implicit': False}. Best is trial 595 with value: 0.053754418047188966.\n"
     ]
    },
    {
     "name": "stdout",
     "output_type": "stream",
     "text": [
      "P3alphaRecommender: Similarity column 38121 (100.0%), 2257.99 column/sec. Elapsed time 16.88 sec\n",
      "EvaluatorHoldout: Ignoring 173 ( 0.5%) Users that have less than 1 test interactions\n",
      "EvaluatorHoldout: Processed 35563 (100.0%) in 32.81 sec. Users per second: 1084\n",
      "P3alphaRecommender: Similarity column 38121 (100.0%), 2235.42 column/sec. Elapsed time 17.05 sec\n",
      "EvaluatorHoldout: Ignoring 163 ( 0.5%) Users that have less than 1 test interactions\n",
      "EvaluatorHoldout: Processed 35573 (100.0%) in 33.10 sec. Users per second: 1075\n",
      "P3alphaRecommender: Similarity column 38121 (100.0%), 2246.25 column/sec. Elapsed time 16.97 sec\n",
      "EvaluatorHoldout: Ignoring 150 ( 0.4%) Users that have less than 1 test interactions\n",
      "EvaluatorHoldout: Processed 35586 (100.0%) in 33.32 sec. Users per second: 1068\n",
      "P3alphaRecommender: Similarity column 38121 (100.0%), 2241.58 column/sec. Elapsed time 17.01 sec\n",
      "EvaluatorHoldout: Ignoring 167 ( 0.5%) Users that have less than 1 test interactions\n",
      "EvaluatorHoldout: Processed 35569 (100.0%) in 32.95 sec. Users per second: 1079\n",
      "P3alphaRecommender: Similarity column 38121 (100.0%), 2230.79 column/sec. Elapsed time 17.09 sec\n",
      "EvaluatorHoldout: Ignoring 172 ( 0.5%) Users that have less than 1 test interactions\n",
      "EvaluatorHoldout: Processed 35564 (100.0%) in 32.72 sec. Users per second: 1087\n"
     ]
    },
    {
     "name": "stderr",
     "output_type": "stream",
     "text": [
      "[I 2025-01-07 05:52:01,068] Trial 625 finished with value: 0.05241835329593303 and parameters: {'topK': 31, 'alpha': 0.6091616423804489, 'normalize_similarity': True, 'implicit': False}. Best is trial 595 with value: 0.053754418047188966.\n"
     ]
    },
    {
     "name": "stdout",
     "output_type": "stream",
     "text": [
      "P3alphaRecommender: Similarity column 38121 (100.0%), 2016.97 column/sec. Elapsed time 18.90 sec\n",
      "EvaluatorHoldout: Ignoring 173 ( 0.5%) Users that have less than 1 test interactions\n",
      "EvaluatorHoldout: Processed 35563 (100.0%) in 34.59 sec. Users per second: 1028\n",
      "P3alphaRecommender: Similarity column 38121 (100.0%), 2006.23 column/sec. Elapsed time 19.00 sec\n",
      "EvaluatorHoldout: Ignoring 163 ( 0.5%) Users that have less than 1 test interactions\n",
      "EvaluatorHoldout: Processed 35573 (100.0%) in 34.54 sec. Users per second: 1030\n",
      "P3alphaRecommender: Similarity column 38121 (100.0%), 2014.74 column/sec. Elapsed time 18.92 sec\n",
      "EvaluatorHoldout: Ignoring 150 ( 0.4%) Users that have less than 1 test interactions\n",
      "EvaluatorHoldout: Processed 35586 (100.0%) in 34.68 sec. Users per second: 1026\n",
      "P3alphaRecommender: Similarity column 38121 (100.0%), 1999.81 column/sec. Elapsed time 19.06 sec\n",
      "EvaluatorHoldout: Ignoring 167 ( 0.5%) Users that have less than 1 test interactions\n",
      "EvaluatorHoldout: Processed 35569 (100.0%) in 34.69 sec. Users per second: 1025\n",
      "P3alphaRecommender: Similarity column 38121 (100.0%), 2004.71 column/sec. Elapsed time 19.02 sec\n",
      "EvaluatorHoldout: Ignoring 172 ( 0.5%) Users that have less than 1 test interactions\n",
      "EvaluatorHoldout: Processed 35564 (100.0%) in 34.71 sec. Users per second: 1025\n"
     ]
    },
    {
     "name": "stderr",
     "output_type": "stream",
     "text": [
      "[I 2025-01-07 05:56:43,457] Trial 626 finished with value: 0.0492101997519559 and parameters: {'topK': 74, 'alpha': 0.40306779700083367, 'normalize_similarity': True, 'implicit': True}. Best is trial 595 with value: 0.053754418047188966.\n"
     ]
    },
    {
     "name": "stdout",
     "output_type": "stream",
     "text": [
      "P3alphaRecommender: Similarity column 38121 (100.0%), 977.94 column/sec. Elapsed time 38.98 sec\n",
      "EvaluatorHoldout: Ignoring 173 ( 0.5%) Users that have less than 1 test interactions\n",
      "EvaluatorHoldout: Processed 35563 (100.0%) in 44.73 sec. Users per second: 795\n",
      "P3alphaRecommender: Similarity column 38121 (100.0%), 962.55 column/sec. Elapsed time 39.60 sec\n",
      "EvaluatorHoldout: Ignoring 163 ( 0.5%) Users that have less than 1 test interactions\n",
      "EvaluatorHoldout: Processed 35573 (100.0%) in 45.86 sec. Users per second: 776\n",
      "P3alphaRecommender: Similarity column 38121 (100.0%), 909.13 column/sec. Elapsed time 41.93 sec\n",
      "EvaluatorHoldout: Ignoring 150 ( 0.4%) Users that have less than 1 test interactions\n",
      "EvaluatorHoldout: Processed 35586 (100.0%) in 45.21 sec. Users per second: 787\n",
      "P3alphaRecommender: Similarity column 38121 (100.0%), 971.84 column/sec. Elapsed time 39.23 sec\n",
      "EvaluatorHoldout: Ignoring 167 ( 0.5%) Users that have less than 1 test interactions\n",
      "EvaluatorHoldout: Processed 35569 (100.0%) in 44.95 sec. Users per second: 791\n",
      "P3alphaRecommender: Similarity column 38121 (100.0%), 987.63 column/sec. Elapsed time 38.60 sec\n",
      "EvaluatorHoldout: Ignoring 172 ( 0.5%) Users that have less than 1 test interactions\n",
      "EvaluatorHoldout: Processed 35564 (100.0%) in 45.31 sec. Users per second: 785\n"
     ]
    },
    {
     "name": "stderr",
     "output_type": "stream",
     "text": [
      "[I 2025-01-07 06:05:21,073] Trial 627 finished with value: 0.0382205602237922 and parameters: {'topK': 481, 'alpha': 0.5591228017037698, 'normalize_similarity': True, 'implicit': False}. Best is trial 595 with value: 0.053754418047188966.\n"
     ]
    },
    {
     "name": "stdout",
     "output_type": "stream",
     "text": [
      "P3alphaRecommender: Similarity column 38121 (100.0%), 850.41 column/sec. Elapsed time 44.83 sec\n",
      "EvaluatorHoldout: Ignoring 173 ( 0.5%) Users that have less than 1 test interactions\n",
      "EvaluatorHoldout: Processed 35563 (100.0%) in 46.60 sec. Users per second: 763\n",
      "P3alphaRecommender: Similarity column 38121 (100.0%), 838.32 column/sec. Elapsed time 45.47 sec\n",
      "EvaluatorHoldout: Ignoring 163 ( 0.5%) Users that have less than 1 test interactions\n",
      "EvaluatorHoldout: Processed 35573 (100.0%) in 46.14 sec. Users per second: 771\n",
      "P3alphaRecommender: Similarity column 38121 (100.0%), 853.98 column/sec. Elapsed time 44.64 sec\n",
      "EvaluatorHoldout: Ignoring 150 ( 0.4%) Users that have less than 1 test interactions\n",
      "EvaluatorHoldout: Processed 35586 (100.0%) in 46.63 sec. Users per second: 763\n",
      "P3alphaRecommender: Similarity column 38121 (100.0%), 847.17 column/sec. Elapsed time 45.00 sec\n",
      "EvaluatorHoldout: Ignoring 167 ( 0.5%) Users that have less than 1 test interactions\n",
      "EvaluatorHoldout: Processed 35569 (100.0%) in 46.23 sec. Users per second: 769\n",
      "P3alphaRecommender: Similarity column 38121 (100.0%), 859.74 column/sec. Elapsed time 44.34 sec\n",
      "EvaluatorHoldout: Ignoring 172 ( 0.5%) Users that have less than 1 test interactions\n",
      "EvaluatorHoldout: Processed 35564 (100.0%) in 46.13 sec. Users per second: 771\n"
     ]
    },
    {
     "name": "stderr",
     "output_type": "stream",
     "text": [
      "[I 2025-01-07 06:14:50,922] Trial 628 finished with value: 0.036345725196191954 and parameters: {'topK': 599, 'alpha': 0.29870686671156227, 'normalize_similarity': True, 'implicit': False}. Best is trial 595 with value: 0.053754418047188966.\n"
     ]
    },
    {
     "name": "stdout",
     "output_type": "stream",
     "text": [
      "P3alphaRecommender: Similarity column 38121 (100.0%), 2165.13 column/sec. Elapsed time 17.61 sec\n",
      "EvaluatorHoldout: Ignoring 173 ( 0.5%) Users that have less than 1 test interactions\n",
      "EvaluatorHoldout: Processed 35563 (100.0%) in 34.60 sec. Users per second: 1028\n",
      "P3alphaRecommender: Similarity column 38121 (100.0%), 2193.24 column/sec. Elapsed time 17.38 sec\n",
      "EvaluatorHoldout: Ignoring 163 ( 0.5%) Users that have less than 1 test interactions\n",
      "EvaluatorHoldout: Processed 35573 (100.0%) in 34.41 sec. Users per second: 1034\n",
      "P3alphaRecommender: Similarity column 38121 (100.0%), 2216.05 column/sec. Elapsed time 17.20 sec\n",
      "EvaluatorHoldout: Ignoring 150 ( 0.4%) Users that have less than 1 test interactions\n",
      "EvaluatorHoldout: Processed 35586 (100.0%) in 34.07 sec. Users per second: 1044\n",
      "P3alphaRecommender: Similarity column 38121 (100.0%), 2112.61 column/sec. Elapsed time 18.04 sec\n",
      "EvaluatorHoldout: Ignoring 167 ( 0.5%) Users that have less than 1 test interactions\n",
      "EvaluatorHoldout: Processed 35569 (100.0%) in 34.58 sec. Users per second: 1029\n",
      "P3alphaRecommender: Similarity column 38121 (100.0%), 2207.68 column/sec. Elapsed time 17.27 sec\n",
      "EvaluatorHoldout: Ignoring 172 ( 0.5%) Users that have less than 1 test interactions\n",
      "EvaluatorHoldout: Processed 35564 (100.0%) in 34.18 sec. Users per second: 1040\n"
     ]
    },
    {
     "name": "stderr",
     "output_type": "stream",
     "text": [
      "[I 2025-01-07 06:19:17,996] Trial 629 finished with value: 0.052995766233788454 and parameters: {'topK': 27, 'alpha': 0.4575592241738162, 'normalize_similarity': True, 'implicit': False}. Best is trial 595 with value: 0.053754418047188966.\n"
     ]
    },
    {
     "name": "stdout",
     "output_type": "stream",
     "text": [
      "P3alphaRecommender: Similarity column 38121 (100.0%), 700.10 column/sec. Elapsed time 54.45 sec\n",
      "EvaluatorHoldout: Ignoring 173 ( 0.5%) Users that have less than 1 test interactions\n",
      "EvaluatorHoldout: Processed 35563 (100.0%) in 51.00 sec. Users per second: 697\n",
      "P3alphaRecommender: Similarity column 38121 (100.0%), 682.40 column/sec. Elapsed time 55.86 sec\n",
      "EvaluatorHoldout: Ignoring 163 ( 0.5%) Users that have less than 1 test interactions\n",
      "EvaluatorHoldout: Processed 35573 (100.0%) in 51.62 sec. Users per second: 689\n",
      "P3alphaRecommender: Similarity column 38121 (100.0%), 705.04 column/sec. Elapsed time 54.07 sec\n",
      "EvaluatorHoldout: Ignoring 150 ( 0.4%) Users that have less than 1 test interactions\n",
      "EvaluatorHoldout: Processed 35586 (100.0%) in 49.85 sec. Users per second: 714\n",
      "P3alphaRecommender: Similarity column 38121 (100.0%), 708.79 column/sec. Elapsed time 53.78 sec\n",
      "EvaluatorHoldout: Ignoring 167 ( 0.5%) Users that have less than 1 test interactions\n",
      "EvaluatorHoldout: Processed 35569 (100.0%) in 49.78 sec. Users per second: 714\n",
      "P3alphaRecommender: Similarity column 38121 (100.0%), 721.84 column/sec. Elapsed time 52.81 sec\n",
      "EvaluatorHoldout: Ignoring 172 ( 0.5%) Users that have less than 1 test interactions\n",
      "EvaluatorHoldout: Processed 35564 (100.0%) in 51.06 sec. Users per second: 697\n"
     ]
    },
    {
     "name": "stderr",
     "output_type": "stream",
     "text": [
      "[I 2025-01-07 06:30:31,337] Trial 630 finished with value: 0.03536472920991992 and parameters: {'topK': 750, 'alpha': 0.34348039067117975, 'normalize_similarity': True, 'implicit': False}. Best is trial 595 with value: 0.053754418047188966.\n"
     ]
    },
    {
     "name": "stdout",
     "output_type": "stream",
     "text": [
      "P3alphaRecommender: Similarity column 38121 (100.0%), 2098.00 column/sec. Elapsed time 18.17 sec\n",
      "EvaluatorHoldout: Ignoring 173 ( 0.5%) Users that have less than 1 test interactions\n",
      "EvaluatorHoldout: Processed 35563 (100.0%) in 34.63 sec. Users per second: 1027\n",
      "P3alphaRecommender: Similarity column 38121 (100.0%), 2072.00 column/sec. Elapsed time 18.40 sec\n",
      "EvaluatorHoldout: Ignoring 163 ( 0.5%) Users that have less than 1 test interactions\n",
      "EvaluatorHoldout: Processed 35573 (100.0%) in 34.57 sec. Users per second: 1029\n",
      "P3alphaRecommender: Similarity column 38121 (100.0%), 2091.33 column/sec. Elapsed time 18.23 sec\n",
      "EvaluatorHoldout: Ignoring 150 ( 0.4%) Users that have less than 1 test interactions\n",
      "EvaluatorHoldout: Processed 35586 (100.0%) in 34.96 sec. Users per second: 1018\n",
      "P3alphaRecommender: Similarity column 38121 (100.0%), 2013.44 column/sec. Elapsed time 18.93 sec\n",
      "EvaluatorHoldout: Ignoring 167 ( 0.5%) Users that have less than 1 test interactions\n",
      "EvaluatorHoldout: Processed 35569 (100.0%) in 35.04 sec. Users per second: 1015\n",
      "P3alphaRecommender: Similarity column 38121 (100.0%), 2060.59 column/sec. Elapsed time 18.50 sec\n",
      "EvaluatorHoldout: Ignoring 172 ( 0.5%) Users that have less than 1 test interactions\n",
      "EvaluatorHoldout: Processed 35564 (100.0%) in 34.97 sec. Users per second: 1017\n"
     ]
    },
    {
     "name": "stderr",
     "output_type": "stream",
     "text": [
      "[I 2025-01-07 06:35:09,380] Trial 631 finished with value: 0.050129033840491485 and parameters: {'topK': 58, 'alpha': 0.24846250242198575, 'normalize_similarity': True, 'implicit': False}. Best is trial 595 with value: 0.053754418047188966.\n"
     ]
    },
    {
     "name": "stdout",
     "output_type": "stream",
     "text": [
      "P3alphaRecommender: Similarity column 38121 (100.0%), 3021.46 column/sec. Elapsed time 12.62 sec\n",
      "EvaluatorHoldout: Ignoring 173 ( 0.5%) Users that have less than 1 test interactions\n",
      "EvaluatorHoldout: Processed 35563 (100.0%) in 26.10 sec. Users per second: 1362\n",
      "P3alphaRecommender: Similarity column 38121 (100.0%), 3380.58 column/sec. Elapsed time 11.28 sec\n",
      "EvaluatorHoldout: Ignoring 163 ( 0.5%) Users that have less than 1 test interactions\n",
      "EvaluatorHoldout: Processed 35573 (100.0%) in 26.13 sec. Users per second: 1361\n",
      "P3alphaRecommender: Similarity column 38121 (100.0%), 3384.69 column/sec. Elapsed time 11.26 sec\n",
      "EvaluatorHoldout: Ignoring 150 ( 0.4%) Users that have less than 1 test interactions\n",
      "EvaluatorHoldout: Processed 35586 (100.0%) in 25.74 sec. Users per second: 1383\n",
      "P3alphaRecommender: Similarity column 38121 (100.0%), 3413.92 column/sec. Elapsed time 11.17 sec\n",
      "EvaluatorHoldout: Ignoring 167 ( 0.5%) Users that have less than 1 test interactions\n",
      "EvaluatorHoldout: Processed 35569 (100.0%) in 26.34 sec. Users per second: 1350\n",
      "P3alphaRecommender: Similarity column 38121 (100.0%), 3379.20 column/sec. Elapsed time 11.28 sec\n",
      "EvaluatorHoldout: Ignoring 172 ( 0.5%) Users that have less than 1 test interactions\n",
      "EvaluatorHoldout: Processed 35564 (100.0%) in 25.71 sec. Users per second: 1383\n"
     ]
    },
    {
     "name": "stderr",
     "output_type": "stream",
     "text": [
      "[I 2025-01-07 06:38:18,116] Trial 632 finished with value: 0.0002664826418719655 and parameters: {'topK': 0, 'alpha': 0.5109145657652643, 'normalize_similarity': True, 'implicit': False}. Best is trial 595 with value: 0.053754418047188966.\n"
     ]
    },
    {
     "name": "stdout",
     "output_type": "stream",
     "text": [
      "P3alphaRecommender: Similarity column 38121 (100.0%), 2116.16 column/sec. Elapsed time 18.01 sec\n",
      "EvaluatorHoldout: Ignoring 173 ( 0.5%) Users that have less than 1 test interactions\n",
      "EvaluatorHoldout: Processed 35563 (100.0%) in 33.99 sec. Users per second: 1046\n",
      "P3alphaRecommender: Similarity column 38121 (100.0%), 2073.16 column/sec. Elapsed time 18.39 sec\n",
      "EvaluatorHoldout: Ignoring 163 ( 0.5%) Users that have less than 1 test interactions\n",
      "EvaluatorHoldout: Processed 35573 (100.0%) in 33.98 sec. Users per second: 1047\n",
      "P3alphaRecommender: Similarity column 38121 (100.0%), 2130.79 column/sec. Elapsed time 17.89 sec\n",
      "EvaluatorHoldout: Ignoring 150 ( 0.4%) Users that have less than 1 test interactions\n",
      "EvaluatorHoldout: Processed 35586 (100.0%) in 34.09 sec. Users per second: 1044\n",
      "P3alphaRecommender: Similarity column 38121 (100.0%), 2117.43 column/sec. Elapsed time 18.00 sec\n",
      "EvaluatorHoldout: Ignoring 167 ( 0.5%) Users that have less than 1 test interactions\n",
      "EvaluatorHoldout: Processed 35569 (100.0%) in 33.98 sec. Users per second: 1047\n",
      "P3alphaRecommender: Similarity column 38121 (100.0%), 2123.57 column/sec. Elapsed time 17.95 sec\n",
      "EvaluatorHoldout: Ignoring 172 ( 0.5%) Users that have less than 1 test interactions\n",
      "EvaluatorHoldout: Processed 35564 (100.0%) in 33.87 sec. Users per second: 1050\n"
     ]
    },
    {
     "name": "stderr",
     "output_type": "stream",
     "text": [
      "[I 2025-01-07 06:42:49,128] Trial 633 finished with value: 0.05080398341643451 and parameters: {'topK': 52, 'alpha': 0.4099825428754731, 'normalize_similarity': True, 'implicit': False}. Best is trial 595 with value: 0.053754418047188966.\n"
     ]
    },
    {
     "name": "stdout",
     "output_type": "stream",
     "text": [
      "P3alphaRecommender: Similarity column 38121 (100.0%), 1056.27 column/sec. Elapsed time 36.09 sec\n",
      "EvaluatorHoldout: Ignoring 173 ( 0.5%) Users that have less than 1 test interactions\n",
      "EvaluatorHoldout: Processed 35563 (100.0%) in 42.63 sec. Users per second: 834\n",
      "P3alphaRecommender: Similarity column 38121 (100.0%), 1087.75 column/sec. Elapsed time 35.05 sec\n",
      "EvaluatorHoldout: Ignoring 163 ( 0.5%) Users that have less than 1 test interactions\n",
      "EvaluatorHoldout: Processed 35573 (100.0%) in 43.04 sec. Users per second: 826\n",
      "P3alphaRecommender: Similarity column 38121 (100.0%), 1088.85 column/sec. Elapsed time 35.01 sec\n",
      "EvaluatorHoldout: Ignoring 150 ( 0.4%) Users that have less than 1 test interactions\n",
      "EvaluatorHoldout: Processed 35586 (100.0%) in 43.12 sec. Users per second: 825\n",
      "P3alphaRecommender: Similarity column 38121 (100.0%), 1053.91 column/sec. Elapsed time 36.17 sec\n",
      "EvaluatorHoldout: Ignoring 167 ( 0.5%) Users that have less than 1 test interactions\n",
      "EvaluatorHoldout: Processed 35569 (100.0%) in 43.18 sec. Users per second: 824\n",
      "P3alphaRecommender: Similarity column 38121 (100.0%), 1059.60 column/sec. Elapsed time 35.98 sec\n",
      "EvaluatorHoldout: Ignoring 172 ( 0.5%) Users that have less than 1 test interactions\n",
      "EvaluatorHoldout: Processed 35564 (100.0%) in 42.99 sec. Users per second: 827\n"
     ]
    },
    {
     "name": "stderr",
     "output_type": "stream",
     "text": [
      "[I 2025-01-07 06:50:40,664] Trial 634 finished with value: 0.03836860260798801 and parameters: {'topK': 421, 'alpha': 0.2920753294270978, 'normalize_similarity': True, 'implicit': False}. Best is trial 595 with value: 0.053754418047188966.\n"
     ]
    },
    {
     "name": "stdout",
     "output_type": "stream",
     "text": [
      "P3alphaRecommender: Similarity column 38121 (100.0%), 1886.60 column/sec. Elapsed time 20.21 sec\n",
      "EvaluatorHoldout: Ignoring 173 ( 0.5%) Users that have less than 1 test interactions\n",
      "EvaluatorHoldout: Processed 35563 (100.0%) in 31.77 sec. Users per second: 1120\n",
      "P3alphaRecommender: Similarity column 38121 (100.0%), 1841.92 column/sec. Elapsed time 20.70 sec\n",
      "EvaluatorHoldout: Ignoring 163 ( 0.5%) Users that have less than 1 test interactions\n",
      "EvaluatorHoldout: Processed 35573 (100.0%) in 32.00 sec. Users per second: 1112\n",
      "P3alphaRecommender: Similarity column 38121 (100.0%), 1853.22 column/sec. Elapsed time 20.57 sec\n",
      "EvaluatorHoldout: Ignoring 150 ( 0.4%) Users that have less than 1 test interactions\n",
      "EvaluatorHoldout: Processed 35586 (100.0%) in 31.87 sec. Users per second: 1116\n",
      "P3alphaRecommender: Similarity column 38121 (100.0%), 1841.68 column/sec. Elapsed time 20.70 sec\n",
      "EvaluatorHoldout: Ignoring 167 ( 0.5%) Users that have less than 1 test interactions\n",
      "EvaluatorHoldout: Processed 35569 (100.0%) in 32.06 sec. Users per second: 1109\n",
      "P3alphaRecommender: Similarity column 38121 (100.0%), 1841.60 column/sec. Elapsed time 20.70 sec\n",
      "EvaluatorHoldout: Ignoring 172 ( 0.5%) Users that have less than 1 test interactions\n",
      "EvaluatorHoldout: Processed 35564 (100.0%) in 32.23 sec. Users per second: 1103\n"
     ]
    },
    {
     "name": "stderr",
     "output_type": "stream",
     "text": [
      "[I 2025-01-07 06:55:23,003] Trial 635 finished with value: 0.04716058055955153 and parameters: {'topK': 108, 'alpha': 0.4671786473077054, 'normalize_similarity': True, 'implicit': False}. Best is trial 595 with value: 0.053754418047188966.\n"
     ]
    },
    {
     "name": "stdout",
     "output_type": "stream",
     "text": [
      "P3alphaRecommender: Similarity column 38121 (100.0%), 2249.64 column/sec. Elapsed time 16.95 sec\n",
      "EvaluatorHoldout: Ignoring 173 ( 0.5%) Users that have less than 1 test interactions\n",
      "EvaluatorHoldout: Processed 35563 (100.0%) in 32.61 sec. Users per second: 1091\n",
      "P3alphaRecommender: Similarity column 38121 (100.0%), 2233.57 column/sec. Elapsed time 17.07 sec\n",
      "EvaluatorHoldout: Ignoring 163 ( 0.5%) Users that have less than 1 test interactions\n",
      "EvaluatorHoldout: Processed 35573 (100.0%) in 32.65 sec. Users per second: 1090\n",
      "P3alphaRecommender: Similarity column 38121 (100.0%), 2244.01 column/sec. Elapsed time 16.99 sec\n",
      "EvaluatorHoldout: Ignoring 150 ( 0.4%) Users that have less than 1 test interactions\n",
      "EvaluatorHoldout: Processed 35586 (100.0%) in 32.87 sec. Users per second: 1083\n",
      "P3alphaRecommender: Similarity column 38121 (100.0%), 2235.33 column/sec. Elapsed time 17.05 sec\n",
      "EvaluatorHoldout: Ignoring 167 ( 0.5%) Users that have less than 1 test interactions\n",
      "EvaluatorHoldout: Processed 35569 (100.0%) in 32.77 sec. Users per second: 1085\n",
      "P3alphaRecommender: Similarity column 38121 (100.0%), 2225.22 column/sec. Elapsed time 17.13 sec\n",
      "EvaluatorHoldout: Ignoring 172 ( 0.5%) Users that have less than 1 test interactions\n",
      "EvaluatorHoldout: Processed 35564 (100.0%) in 33.10 sec. Users per second: 1074\n"
     ]
    },
    {
     "name": "stderr",
     "output_type": "stream",
     "text": [
      "[I 2025-01-07 06:59:39,886] Trial 636 finished with value: 0.052669534579589485 and parameters: {'topK': 30, 'alpha': 0.3742692877805437, 'normalize_similarity': True, 'implicit': False}. Best is trial 595 with value: 0.053754418047188966.\n"
     ]
    },
    {
     "name": "stdout",
     "output_type": "stream",
     "text": [
      "P3alphaRecommender: Similarity column 38121 (100.0%), 1965.05 column/sec. Elapsed time 19.40 sec\n",
      "EvaluatorHoldout: Ignoring 173 ( 0.5%) Users that have less than 1 test interactions\n",
      "EvaluatorHoldout: Processed 35563 (100.0%) in 37.93 sec. Users per second: 938\n",
      "P3alphaRecommender: Similarity column 38121 (100.0%), 1929.22 column/sec. Elapsed time 19.76 sec\n",
      "EvaluatorHoldout: Ignoring 163 ( 0.5%) Users that have less than 1 test interactions\n",
      "EvaluatorHoldout: Processed 35573 (100.0%) in 35.86 sec. Users per second: 992\n",
      "P3alphaRecommender: Similarity column 38121 (100.0%), 1973.64 column/sec. Elapsed time 19.32 sec\n",
      "EvaluatorHoldout: Ignoring 150 ( 0.4%) Users that have less than 1 test interactions\n",
      "EvaluatorHoldout: Processed 35586 (100.0%) in 35.73 sec. Users per second: 996\n",
      "P3alphaRecommender: Similarity column 38121 (100.0%), 2001.79 column/sec. Elapsed time 19.04 sec\n",
      "EvaluatorHoldout: Ignoring 167 ( 0.5%) Users that have less than 1 test interactions\n",
      "EvaluatorHoldout: Processed 35569 (100.0%) in 35.24 sec. Users per second: 1009\n",
      "P3alphaRecommender: Similarity column 38121 (100.0%), 2001.20 column/sec. Elapsed time 19.05 sec\n",
      "EvaluatorHoldout: Ignoring 172 ( 0.5%) Users that have less than 1 test interactions\n",
      "EvaluatorHoldout: Processed 35564 (100.0%) in 35.28 sec. Users per second: 1008\n"
     ]
    },
    {
     "name": "stderr",
     "output_type": "stream",
     "text": [
      "[I 2025-01-07 07:04:31,162] Trial 637 finished with value: 0.04936561516992773 and parameters: {'topK': 71, 'alpha': 0.5203812570252863, 'normalize_similarity': True, 'implicit': False}. Best is trial 595 with value: 0.053754418047188966.\n"
     ]
    },
    {
     "name": "stdout",
     "output_type": "stream",
     "text": [
      "P3alphaRecommender: Similarity column 38121 (100.0%), 2278.37 column/sec. Elapsed time 16.73 sec\n",
      "EvaluatorHoldout: Ignoring 173 ( 0.5%) Users that have less than 1 test interactions\n",
      "EvaluatorHoldout: Processed 35563 (100.0%) in 33.23 sec. Users per second: 1070\n",
      "P3alphaRecommender: Similarity column 38121 (100.0%), 2256.00 column/sec. Elapsed time 16.90 sec\n",
      "EvaluatorHoldout: Ignoring 163 ( 0.5%) Users that have less than 1 test interactions\n",
      "EvaluatorHoldout: Processed 35573 (100.0%) in 33.18 sec. Users per second: 1072\n",
      "P3alphaRecommender: Similarity column 38121 (100.0%), 2249.97 column/sec. Elapsed time 16.94 sec\n",
      "EvaluatorHoldout: Ignoring 150 ( 0.4%) Users that have less than 1 test interactions\n",
      "EvaluatorHoldout: Processed 35586 (100.0%) in 32.25 sec. Users per second: 1103\n",
      "P3alphaRecommender: Similarity column 38121 (100.0%), 2257.68 column/sec. Elapsed time 16.89 sec\n",
      "EvaluatorHoldout: Ignoring 167 ( 0.5%) Users that have less than 1 test interactions\n",
      "EvaluatorHoldout: Processed 35569 (100.0%) in 32.11 sec. Users per second: 1108\n",
      "P3alphaRecommender: Similarity column 38121 (100.0%), 2264.84 column/sec. Elapsed time 16.83 sec\n",
      "EvaluatorHoldout: Ignoring 172 ( 0.5%) Users that have less than 1 test interactions\n",
      "EvaluatorHoldout: Processed 35564 (100.0%) in 32.55 sec. Users per second: 1093\n"
     ]
    },
    {
     "name": "stderr",
     "output_type": "stream",
     "text": [
      "[I 2025-01-07 07:08:45,683] Trial 638 finished with value: 0.05318549444045049 and parameters: {'topK': 25, 'alpha': 0.3330290617184706, 'normalize_similarity': True, 'implicit': True}. Best is trial 595 with value: 0.053754418047188966.\n"
     ]
    },
    {
     "name": "stdout",
     "output_type": "stream",
     "text": [
      "P3alphaRecommender: Similarity column 38121 (100.0%), 2133.85 column/sec. Elapsed time 17.86 sec\n",
      "EvaluatorHoldout: Ignoring 173 ( 0.5%) Users that have less than 1 test interactions\n",
      "EvaluatorHoldout: Processed 35563 (100.0%) in 34.05 sec. Users per second: 1044\n",
      "P3alphaRecommender: Similarity column 38121 (100.0%), 2125.32 column/sec. Elapsed time 17.94 sec\n",
      "EvaluatorHoldout: Ignoring 163 ( 0.5%) Users that have less than 1 test interactions\n",
      "EvaluatorHoldout: Processed 35573 (100.0%) in 34.61 sec. Users per second: 1028\n",
      "P3alphaRecommender: Similarity column 38121 (100.0%), 2114.14 column/sec. Elapsed time 18.03 sec\n",
      "EvaluatorHoldout: Ignoring 150 ( 0.4%) Users that have less than 1 test interactions\n",
      "EvaluatorHoldout: Processed 35586 (100.0%) in 34.58 sec. Users per second: 1029\n",
      "P3alphaRecommender: Similarity column 38121 (100.0%), 2112.21 column/sec. Elapsed time 18.05 sec\n",
      "EvaluatorHoldout: Ignoring 167 ( 0.5%) Users that have less than 1 test interactions\n",
      "EvaluatorHoldout: Processed 35569 (100.0%) in 34.04 sec. Users per second: 1045\n",
      "P3alphaRecommender: Similarity column 38121 (100.0%), 2101.69 column/sec. Elapsed time 18.14 sec\n",
      "EvaluatorHoldout: Ignoring 172 ( 0.5%) Users that have less than 1 test interactions\n",
      "EvaluatorHoldout: Processed 35564 (100.0%) in 34.12 sec. Users per second: 1042\n"
     ]
    },
    {
     "name": "stderr",
     "output_type": "stream",
     "text": [
      "[I 2025-01-07 07:13:17,436] Trial 639 finished with value: 0.05121092353918908 and parameters: {'topK': 47, 'alpha': 0.41806701968877746, 'normalize_similarity': True, 'implicit': False}. Best is trial 595 with value: 0.053754418047188966.\n"
     ]
    },
    {
     "name": "stdout",
     "output_type": "stream",
     "text": [
      "P3alphaRecommender: Similarity column 38121 (100.0%), 1769.39 column/sec. Elapsed time 21.54 sec\n",
      "EvaluatorHoldout: Ignoring 173 ( 0.5%) Users that have less than 1 test interactions\n",
      "EvaluatorHoldout: Processed 35563 (100.0%) in 32.48 sec. Users per second: 1095\n",
      "P3alphaRecommender: Similarity column 38121 (100.0%), 1765.90 column/sec. Elapsed time 21.59 sec\n",
      "EvaluatorHoldout: Ignoring 163 ( 0.5%) Users that have less than 1 test interactions\n",
      "EvaluatorHoldout: Processed 35573 (100.0%) in 32.87 sec. Users per second: 1082\n",
      "P3alphaRecommender: Similarity column 38121 (100.0%), 1765.15 column/sec. Elapsed time 21.60 sec\n",
      "EvaluatorHoldout: Ignoring 150 ( 0.4%) Users that have less than 1 test interactions\n",
      "EvaluatorHoldout: Processed 35586 (100.0%) in 32.66 sec. Users per second: 1090\n",
      "P3alphaRecommender: Similarity column 38121 (100.0%), 1771.30 column/sec. Elapsed time 21.52 sec\n",
      "EvaluatorHoldout: Ignoring 167 ( 0.5%) Users that have less than 1 test interactions\n",
      "EvaluatorHoldout: Processed 35569 (100.0%) in 32.29 sec. Users per second: 1101\n",
      "P3alphaRecommender: Similarity column 38121 (100.0%), 1760.23 column/sec. Elapsed time 21.66 sec\n",
      "EvaluatorHoldout: Ignoring 172 ( 0.5%) Users that have less than 1 test interactions\n",
      "EvaluatorHoldout: Processed 35564 (100.0%) in 32.34 sec. Users per second: 1100\n"
     ]
    },
    {
     "name": "stderr",
     "output_type": "stream",
     "text": [
      "[I 2025-01-07 07:18:09,455] Trial 640 finished with value: 0.04622669442013204 and parameters: {'topK': 123, 'alpha': 0.2755690501833715, 'normalize_similarity': True, 'implicit': False}. Best is trial 595 with value: 0.053754418047188966.\n"
     ]
    },
    {
     "name": "stdout",
     "output_type": "stream",
     "text": [
      "P3alphaRecommender: Similarity column 38121 (100.0%), 1986.66 column/sec. Elapsed time 19.19 sec\n",
      "EvaluatorHoldout: Ignoring 173 ( 0.5%) Users that have less than 1 test interactions\n",
      "EvaluatorHoldout: Processed 35563 (100.0%) in 35.10 sec. Users per second: 1013\n",
      "P3alphaRecommender: Similarity column 38121 (100.0%), 1961.36 column/sec. Elapsed time 19.44 sec\n",
      "EvaluatorHoldout: Ignoring 163 ( 0.5%) Users that have less than 1 test interactions\n",
      "EvaluatorHoldout: Processed 35573 (100.0%) in 35.07 sec. Users per second: 1014\n",
      "P3alphaRecommender: Similarity column 38121 (100.0%), 1957.92 column/sec. Elapsed time 19.47 sec\n",
      "EvaluatorHoldout: Ignoring 150 ( 0.4%) Users that have less than 1 test interactions\n",
      "EvaluatorHoldout: Processed 35586 (100.0%) in 35.21 sec. Users per second: 1011\n",
      "P3alphaRecommender: Similarity column 38121 (100.0%), 1930.24 column/sec. Elapsed time 19.75 sec\n",
      "EvaluatorHoldout: Ignoring 167 ( 0.5%) Users that have less than 1 test interactions\n",
      "EvaluatorHoldout: Processed 35569 (100.0%) in 35.23 sec. Users per second: 1010\n",
      "P3alphaRecommender: Similarity column 38121 (100.0%), 1955.77 column/sec. Elapsed time 19.49 sec\n",
      "EvaluatorHoldout: Ignoring 172 ( 0.5%) Users that have less than 1 test interactions\n",
      "EvaluatorHoldout: Processed 35564 (100.0%) in 35.05 sec. Users per second: 1015\n"
     ]
    },
    {
     "name": "stderr",
     "output_type": "stream",
     "text": [
      "[I 2025-01-07 07:22:57,325] Trial 641 finished with value: 0.048913585923876346 and parameters: {'topK': 78, 'alpha': 0.4571256800998076, 'normalize_similarity': True, 'implicit': False}. Best is trial 595 with value: 0.053754418047188966.\n"
     ]
    },
    {
     "name": "stdout",
     "output_type": "stream",
     "text": [
      "P3alphaRecommender: Similarity column 38121 (100.0%), 2282.79 column/sec. Elapsed time 16.70 sec\n",
      "EvaluatorHoldout: Ignoring 173 ( 0.5%) Users that have less than 1 test interactions\n",
      "EvaluatorHoldout: Processed 35563 (100.0%) in 32.22 sec. Users per second: 1104\n",
      "P3alphaRecommender: Similarity column 38121 (100.0%), 2275.08 column/sec. Elapsed time 16.76 sec\n",
      "EvaluatorHoldout: Ignoring 163 ( 0.5%) Users that have less than 1 test interactions\n",
      "EvaluatorHoldout: Processed 35573 (100.0%) in 32.63 sec. Users per second: 1090\n",
      "P3alphaRecommender: Similarity column 38121 (100.0%), 2285.25 column/sec. Elapsed time 16.68 sec\n",
      "EvaluatorHoldout: Ignoring 150 ( 0.4%) Users that have less than 1 test interactions\n",
      "EvaluatorHoldout: Processed 35586 (100.0%) in 32.37 sec. Users per second: 1099\n",
      "P3alphaRecommender: Similarity column 38121 (100.0%), 2302.14 column/sec. Elapsed time 16.56 sec\n",
      "EvaluatorHoldout: Ignoring 167 ( 0.5%) Users that have less than 1 test interactions\n",
      "EvaluatorHoldout: Processed 35569 (100.0%) in 32.04 sec. Users per second: 1110\n",
      "P3alphaRecommender: Similarity column 38121 (100.0%), 2294.33 column/sec. Elapsed time 16.62 sec\n",
      "EvaluatorHoldout: Ignoring 172 ( 0.5%) Users that have less than 1 test interactions\n",
      "EvaluatorHoldout: Processed 35564 (100.0%) in 32.08 sec. Users per second: 1109\n"
     ]
    },
    {
     "name": "stderr",
     "output_type": "stream",
     "text": [
      "[I 2025-01-07 07:27:08,674] Trial 642 finished with value: 0.053242522473897456 and parameters: {'topK': 23, 'alpha': 0.2141769339278622, 'normalize_similarity': True, 'implicit': False}. Best is trial 595 with value: 0.053754418047188966.\n"
     ]
    },
    {
     "name": "stdout",
     "output_type": "stream",
     "text": [
      "P3alphaRecommender: Similarity column 38121 (100.0%), 2278.24 column/sec. Elapsed time 16.73 sec\n",
      "EvaluatorHoldout: Ignoring 173 ( 0.5%) Users that have less than 1 test interactions\n",
      "EvaluatorHoldout: Processed 35563 (100.0%) in 32.57 sec. Users per second: 1092\n",
      "P3alphaRecommender: Similarity column 38121 (100.0%), 2281.69 column/sec. Elapsed time 16.71 sec\n",
      "EvaluatorHoldout: Ignoring 163 ( 0.5%) Users that have less than 1 test interactions\n",
      "EvaluatorHoldout: Processed 35573 (100.0%) in 32.40 sec. Users per second: 1098\n",
      "P3alphaRecommender: Similarity column 38121 (100.0%), 2323.19 column/sec. Elapsed time 16.41 sec\n",
      "EvaluatorHoldout: Ignoring 150 ( 0.4%) Users that have less than 1 test interactions\n",
      "EvaluatorHoldout: Processed 35586 (100.0%) in 32.83 sec. Users per second: 1084\n",
      "P3alphaRecommender: Similarity column 38121 (100.0%), 2309.23 column/sec. Elapsed time 16.51 sec\n",
      "EvaluatorHoldout: Ignoring 167 ( 0.5%) Users that have less than 1 test interactions\n",
      "EvaluatorHoldout: Processed 35569 (100.0%) in 33.17 sec. Users per second: 1072\n",
      "P3alphaRecommender: Similarity column 38121 (100.0%), 2262.08 column/sec. Elapsed time 16.85 sec\n",
      "EvaluatorHoldout: Ignoring 172 ( 0.5%) Users that have less than 1 test interactions\n",
      "EvaluatorHoldout: Processed 35564 (100.0%) in 32.78 sec. Users per second: 1085\n"
     ]
    },
    {
     "name": "stderr",
     "output_type": "stream",
     "text": [
      "[I 2025-01-07 07:31:22,278] Trial 643 finished with value: 0.0454305203289052 and parameters: {'topK': 23, 'alpha': 0.5605486932739036, 'normalize_similarity': False, 'implicit': False}. Best is trial 595 with value: 0.053754418047188966.\n"
     ]
    },
    {
     "name": "stdout",
     "output_type": "stream",
     "text": [
      "P3alphaRecommender: Similarity column 38121 (100.0%), 2069.11 column/sec. Elapsed time 18.42 sec\n",
      "EvaluatorHoldout: Ignoring 173 ( 0.5%) Users that have less than 1 test interactions\n",
      "EvaluatorHoldout: Processed 35563 (100.0%) in 34.60 sec. Users per second: 1028\n",
      "P3alphaRecommender: Similarity column 38121 (100.0%), 2093.65 column/sec. Elapsed time 18.21 sec\n",
      "EvaluatorHoldout: Ignoring 163 ( 0.5%) Users that have less than 1 test interactions\n",
      "EvaluatorHoldout: Processed 35573 (100.0%) in 35.03 sec. Users per second: 1015\n",
      "P3alphaRecommender: Similarity column 38121 (100.0%), 2067.51 column/sec. Elapsed time 18.44 sec\n",
      "EvaluatorHoldout: Ignoring 150 ( 0.4%) Users that have less than 1 test interactions\n",
      "EvaluatorHoldout: Processed 35586 (100.0%) in 34.57 sec. Users per second: 1029\n",
      "P3alphaRecommender: Similarity column 38121 (100.0%), 2074.80 column/sec. Elapsed time 18.37 sec\n",
      "EvaluatorHoldout: Ignoring 167 ( 0.5%) Users that have less than 1 test interactions\n",
      "EvaluatorHoldout: Processed 35569 (100.0%) in 34.92 sec. Users per second: 1019\n",
      "P3alphaRecommender: Similarity column 38121 (100.0%), 2065.08 column/sec. Elapsed time 18.46 sec\n",
      "EvaluatorHoldout: Ignoring 172 ( 0.5%) Users that have less than 1 test interactions\n",
      "EvaluatorHoldout: Processed 35564 (100.0%) in 35.11 sec. Users per second: 1013\n"
     ]
    },
    {
     "name": "stderr",
     "output_type": "stream",
     "text": [
      "[I 2025-01-07 07:36:00,323] Trial 644 finished with value: 0.050263135194122385 and parameters: {'topK': 56, 'alpha': 0.6224930374175776, 'normalize_similarity': True, 'implicit': False}. Best is trial 595 with value: 0.053754418047188966.\n"
     ]
    },
    {
     "name": "stdout",
     "output_type": "stream",
     "text": [
      "P3alphaRecommender: Similarity column 38121 (100.0%), 3464.61 column/sec. Elapsed time 11.00 sec\n",
      "EvaluatorHoldout: Ignoring 173 ( 0.5%) Users that have less than 1 test interactions\n",
      "EvaluatorHoldout: Processed 35563 (100.0%) in 28.37 sec. Users per second: 1254\n",
      "P3alphaRecommender: Similarity column 38121 (100.0%), 3432.87 column/sec. Elapsed time 11.10 sec\n",
      "EvaluatorHoldout: Ignoring 163 ( 0.5%) Users that have less than 1 test interactions\n",
      "EvaluatorHoldout: Processed 35573 (100.0%) in 28.22 sec. Users per second: 1261\n",
      "P3alphaRecommender: Similarity column 38121 (100.0%), 3452.32 column/sec. Elapsed time 11.04 sec\n",
      "EvaluatorHoldout: Ignoring 150 ( 0.4%) Users that have less than 1 test interactions\n",
      "EvaluatorHoldout: Processed 35586 (100.0%) in 28.44 sec. Users per second: 1251\n",
      "P3alphaRecommender: Similarity column 38121 (100.0%), 3331.34 column/sec. Elapsed time 11.44 sec\n",
      "EvaluatorHoldout: Ignoring 167 ( 0.5%) Users that have less than 1 test interactions\n",
      "EvaluatorHoldout: Processed 35569 (100.0%) in 27.84 sec. Users per second: 1277\n",
      "P3alphaRecommender: Similarity column 38121 (100.0%), 3421.97 column/sec. Elapsed time 11.14 sec\n",
      "EvaluatorHoldout: Ignoring 172 ( 0.5%) Users that have less than 1 test interactions\n",
      "EvaluatorHoldout: Processed 35564 (100.0%) in 27.77 sec. Users per second: 1280\n"
     ]
    },
    {
     "name": "stderr",
     "output_type": "stream",
     "text": [
      "[I 2025-01-07 07:39:20,513] Trial 645 finished with value: 0.02057138510120817 and parameters: {'topK': 1, 'alpha': 0.37098498683730907, 'normalize_similarity': True, 'implicit': False}. Best is trial 595 with value: 0.053754418047188966.\n"
     ]
    },
    {
     "name": "stdout",
     "output_type": "stream",
     "text": [
      "P3alphaRecommender: Similarity column 38121 (100.0%), 1946.22 column/sec. Elapsed time 19.59 sec\n",
      "EvaluatorHoldout: Ignoring 173 ( 0.5%) Users that have less than 1 test interactions\n",
      "EvaluatorHoldout: Processed 35563 (100.0%) in 32.32 sec. Users per second: 1100\n",
      "P3alphaRecommender: Similarity column 38121 (100.0%), 1894.39 column/sec. Elapsed time 20.12 sec\n",
      "EvaluatorHoldout: Ignoring 163 ( 0.5%) Users that have less than 1 test interactions\n",
      "EvaluatorHoldout: Processed 35573 (100.0%) in 35.65 sec. Users per second: 998\n",
      "P3alphaRecommender: Similarity column 38121 (100.0%), 1887.45 column/sec. Elapsed time 20.20 sec\n",
      "EvaluatorHoldout: Ignoring 150 ( 0.4%) Users that have less than 1 test interactions\n",
      "EvaluatorHoldout: Processed 35586 (100.0%) in 31.61 sec. Users per second: 1126\n",
      "P3alphaRecommender: Similarity column 38121 (100.0%), 1908.97 column/sec. Elapsed time 19.97 sec\n",
      "EvaluatorHoldout: Ignoring 167 ( 0.5%) Users that have less than 1 test interactions\n",
      "EvaluatorHoldout: Processed 35569 (100.0%) in 35.82 sec. Users per second: 993\n",
      "P3alphaRecommender: Similarity column 38121 (100.0%), 1907.07 column/sec. Elapsed time 19.99 sec\n",
      "EvaluatorHoldout: Ignoring 172 ( 0.5%) Users that have less than 1 test interactions\n",
      "EvaluatorHoldout: Processed 35564 (100.0%) in 31.65 sec. Users per second: 1124\n"
     ]
    },
    {
     "name": "stderr",
     "output_type": "stream",
     "text": [
      "[I 2025-01-07 07:44:04,229] Trial 646 finished with value: 0.0482667893244886 and parameters: {'topK': 88, 'alpha': 0.4852564729946459, 'normalize_similarity': True, 'implicit': False}. Best is trial 595 with value: 0.053754418047188966.\n"
     ]
    },
    {
     "name": "stdout",
     "output_type": "stream",
     "text": [
      "P3alphaRecommender: Similarity column 38121 (100.0%), 2127.58 column/sec. Elapsed time 17.92 sec\n",
      "EvaluatorHoldout: Ignoring 173 ( 0.5%) Users that have less than 1 test interactions\n",
      "EvaluatorHoldout: Processed 35563 (100.0%) in 33.83 sec. Users per second: 1051\n",
      "P3alphaRecommender: Similarity column 38121 (100.0%), 2060.32 column/sec. Elapsed time 18.50 sec\n",
      "EvaluatorHoldout: Ignoring 163 ( 0.5%) Users that have less than 1 test interactions\n",
      "EvaluatorHoldout: Processed 35573 (100.0%) in 34.06 sec. Users per second: 1045\n",
      "P3alphaRecommender: Similarity column 38121 (100.0%), 2126.66 column/sec. Elapsed time 17.93 sec\n",
      "EvaluatorHoldout: Ignoring 150 ( 0.4%) Users that have less than 1 test interactions\n",
      "EvaluatorHoldout: Processed 35586 (100.0%) in 34.14 sec. Users per second: 1042\n",
      "P3alphaRecommender: Similarity column 38121 (100.0%), 2113.09 column/sec. Elapsed time 18.04 sec\n",
      "EvaluatorHoldout: Ignoring 167 ( 0.5%) Users that have less than 1 test interactions\n",
      "EvaluatorHoldout: Processed 35569 (100.0%) in 34.12 sec. Users per second: 1042\n",
      "P3alphaRecommender: Similarity column 38121 (100.0%), 2124.26 column/sec. Elapsed time 17.95 sec\n",
      "EvaluatorHoldout: Ignoring 172 ( 0.5%) Users that have less than 1 test interactions\n",
      "EvaluatorHoldout: Processed 35564 (100.0%) in 34.18 sec. Users per second: 1040\n"
     ]
    },
    {
     "name": "stderr",
     "output_type": "stream",
     "text": [
      "[I 2025-01-07 07:48:35,184] Trial 647 finished with value: 0.051094100203623025 and parameters: {'topK': 48, 'alpha': 0.4156956507226577, 'normalize_similarity': True, 'implicit': False}. Best is trial 595 with value: 0.053754418047188966.\n"
     ]
    },
    {
     "name": "stdout",
     "output_type": "stream",
     "text": [
      "P3alphaRecommender: Similarity column 38121 (100.0%), 2233.17 column/sec. Elapsed time 17.07 sec\n",
      "EvaluatorHoldout: Ignoring 173 ( 0.5%) Users that have less than 1 test interactions\n",
      "EvaluatorHoldout: Processed 35563 (100.0%) in 32.80 sec. Users per second: 1084\n",
      "P3alphaRecommender: Similarity column 38121 (100.0%), 2280.65 column/sec. Elapsed time 16.71 sec\n",
      "EvaluatorHoldout: Ignoring 163 ( 0.5%) Users that have less than 1 test interactions\n",
      "EvaluatorHoldout: Processed 35573 (100.0%) in 32.71 sec. Users per second: 1088\n",
      "P3alphaRecommender: Similarity column 38121 (100.0%), 2267.05 column/sec. Elapsed time 16.82 sec\n",
      "EvaluatorHoldout: Ignoring 150 ( 0.4%) Users that have less than 1 test interactions\n",
      "EvaluatorHoldout: Processed 35586 (100.0%) in 32.40 sec. Users per second: 1098\n",
      "P3alphaRecommender: Similarity column 38121 (100.0%), 2256.22 column/sec. Elapsed time 16.90 sec\n",
      "EvaluatorHoldout: Ignoring 167 ( 0.5%) Users that have less than 1 test interactions\n",
      "EvaluatorHoldout: Processed 35569 (100.0%) in 32.27 sec. Users per second: 1102\n",
      "P3alphaRecommender: Similarity column 38121 (100.0%), 2275.07 column/sec. Elapsed time 16.76 sec\n",
      "EvaluatorHoldout: Ignoring 172 ( 0.5%) Users that have less than 1 test interactions\n",
      "EvaluatorHoldout: Processed 35564 (100.0%) in 31.80 sec. Users per second: 1118\n"
     ]
    },
    {
     "name": "stderr",
     "output_type": "stream",
     "text": [
      "[I 2025-01-07 07:52:48,529] Trial 648 finished with value: 0.05302314731676028 and parameters: {'topK': 26, 'alpha': 0.31908289238053866, 'normalize_similarity': True, 'implicit': False}. Best is trial 595 with value: 0.053754418047188966.\n"
     ]
    },
    {
     "name": "stdout",
     "output_type": "stream",
     "text": [
      "P3alphaRecommender: Similarity column 38121 (100.0%), 3350.96 column/sec. Elapsed time 11.38 sec\n",
      "EvaluatorHoldout: Ignoring 173 ( 0.5%) Users that have less than 1 test interactions\n",
      "EvaluatorHoldout: Processed 35563 (100.0%) in 25.25 sec. Users per second: 1408\n",
      "P3alphaRecommender: Similarity column 38121 (100.0%), 3315.52 column/sec. Elapsed time 11.50 sec\n",
      "EvaluatorHoldout: Ignoring 163 ( 0.5%) Users that have less than 1 test interactions\n",
      "EvaluatorHoldout: Processed 35573 (100.0%) in 25.40 sec. Users per second: 1401\n",
      "P3alphaRecommender: Similarity column 38121 (100.0%), 3310.44 column/sec. Elapsed time 11.52 sec\n",
      "EvaluatorHoldout: Ignoring 150 ( 0.4%) Users that have less than 1 test interactions\n",
      "EvaluatorHoldout: Processed 35586 (100.0%) in 25.71 sec. Users per second: 1384\n",
      "P3alphaRecommender: Similarity column 38121 (100.0%), 3372.28 column/sec. Elapsed time 11.30 sec\n",
      "EvaluatorHoldout: Ignoring 167 ( 0.5%) Users that have less than 1 test interactions\n",
      "EvaluatorHoldout: Processed 35569 (100.0%) in 25.56 sec. Users per second: 1392\n",
      "P3alphaRecommender: Similarity column 38121 (100.0%), 3347.45 column/sec. Elapsed time 11.39 sec\n",
      "EvaluatorHoldout: Ignoring 172 ( 0.5%) Users that have less than 1 test interactions\n",
      "EvaluatorHoldout: Processed 35564 (100.0%) in 25.33 sec. Users per second: 1404\n"
     ]
    },
    {
     "name": "stderr",
     "output_type": "stream",
     "text": [
      "[I 2025-01-07 07:55:53,890] Trial 649 finished with value: 0.0002664826418719655 and parameters: {'topK': 0, 'alpha': 0.24407154384275903, 'normalize_similarity': True, 'implicit': True}. Best is trial 595 with value: 0.053754418047188966.\n"
     ]
    },
    {
     "name": "stdout",
     "output_type": "stream",
     "text": [
      "P3alphaRecommender: Similarity column 38121 (100.0%), 2039.50 column/sec. Elapsed time 18.69 sec\n",
      "EvaluatorHoldout: Ignoring 173 ( 0.5%) Users that have less than 1 test interactions\n",
      "EvaluatorHoldout: Processed 35563 (100.0%) in 34.49 sec. Users per second: 1031\n",
      "P3alphaRecommender: Similarity column 38121 (100.0%), 1995.98 column/sec. Elapsed time 19.10 sec\n",
      "EvaluatorHoldout: Ignoring 163 ( 0.5%) Users that have less than 1 test interactions\n",
      "EvaluatorHoldout: Processed 35573 (100.0%) in 34.73 sec. Users per second: 1024\n",
      "P3alphaRecommender: Similarity column 38121 (100.0%), 2023.37 column/sec. Elapsed time 18.84 sec\n",
      "EvaluatorHoldout: Ignoring 150 ( 0.4%) Users that have less than 1 test interactions\n",
      "EvaluatorHoldout: Processed 35586 (100.0%) in 34.40 sec. Users per second: 1035\n",
      "P3alphaRecommender: Similarity column 38121 (100.0%), 2006.45 column/sec. Elapsed time 19.00 sec\n",
      "EvaluatorHoldout: Ignoring 167 ( 0.5%) Users that have less than 1 test interactions\n",
      "EvaluatorHoldout: Processed 35569 (100.0%) in 34.53 sec. Users per second: 1030\n",
      "P3alphaRecommender: Similarity column 38121 (100.0%), 2014.89 column/sec. Elapsed time 18.92 sec\n",
      "EvaluatorHoldout: Ignoring 172 ( 0.5%) Users that have less than 1 test interactions\n",
      "EvaluatorHoldout: Processed 35564 (100.0%) in 35.85 sec. Users per second: 992\n"
     ]
    },
    {
     "name": "stderr",
     "output_type": "stream",
     "text": [
      "[I 2025-01-07 08:00:35,909] Trial 650 finished with value: 0.049400300030439444 and parameters: {'topK': 71, 'alpha': 0.3598146453332335, 'normalize_similarity': True, 'implicit': False}. Best is trial 595 with value: 0.053754418047188966.\n"
     ]
    },
    {
     "name": "stdout",
     "output_type": "stream",
     "text": [
      "P3alphaRecommender: Similarity column 38121 (100.0%), 2151.00 column/sec. Elapsed time 17.72 sec\n",
      "EvaluatorHoldout: Ignoring 173 ( 0.5%) Users that have less than 1 test interactions\n",
      "EvaluatorHoldout: Processed 35563 (100.0%) in 33.45 sec. Users per second: 1063\n",
      "P3alphaRecommender: Similarity column 38121 (100.0%), 2154.86 column/sec. Elapsed time 17.69 sec\n",
      "EvaluatorHoldout: Ignoring 163 ( 0.5%) Users that have less than 1 test interactions\n",
      "EvaluatorHoldout: Processed 35573 (100.0%) in 33.40 sec. Users per second: 1065\n",
      "P3alphaRecommender: Similarity column 38121 (100.0%), 2148.38 column/sec. Elapsed time 17.74 sec\n",
      "EvaluatorHoldout: Ignoring 150 ( 0.4%) Users that have less than 1 test interactions\n",
      "EvaluatorHoldout: Processed 35586 (100.0%) in 33.51 sec. Users per second: 1062\n",
      "P3alphaRecommender: Similarity column 38121 (100.0%), 2139.68 column/sec. Elapsed time 17.82 sec\n",
      "EvaluatorHoldout: Ignoring 167 ( 0.5%) Users that have less than 1 test interactions\n",
      "EvaluatorHoldout: Processed 35569 (100.0%) in 33.89 sec. Users per second: 1050\n",
      "P3alphaRecommender: Similarity column 38121 (100.0%), 2060.52 column/sec. Elapsed time 18.50 sec\n",
      "EvaluatorHoldout: Ignoring 172 ( 0.5%) Users that have less than 1 test interactions\n",
      "EvaluatorHoldout: Processed 35564 (100.0%) in 34.04 sec. Users per second: 1045\n"
     ]
    },
    {
     "name": "stderr",
     "output_type": "stream",
     "text": [
      "[I 2025-01-07 08:05:03,655] Trial 651 finished with value: 0.05135600257581754 and parameters: {'topK': 45, 'alpha': 0.4437068628525257, 'normalize_similarity': True, 'implicit': False}. Best is trial 595 with value: 0.053754418047188966.\n"
     ]
    },
    {
     "name": "stdout",
     "output_type": "stream",
     "text": [
      "P3alphaRecommender: Similarity column 38121 (100.0%), 1710.38 column/sec. Elapsed time 22.29 sec\n",
      "EvaluatorHoldout: Ignoring 173 ( 0.5%) Users that have less than 1 test interactions\n",
      "EvaluatorHoldout: Processed 35563 (100.0%) in 33.16 sec. Users per second: 1073\n",
      "P3alphaRecommender: Similarity column 38121 (100.0%), 1720.79 column/sec. Elapsed time 22.15 sec\n",
      "EvaluatorHoldout: Ignoring 163 ( 0.5%) Users that have less than 1 test interactions\n",
      "EvaluatorHoldout: Processed 35573 (100.0%) in 33.53 sec. Users per second: 1061\n",
      "P3alphaRecommender: Similarity column 38121 (100.0%), 1733.09 column/sec. Elapsed time 22.00 sec\n",
      "EvaluatorHoldout: Ignoring 150 ( 0.4%) Users that have less than 1 test interactions\n",
      "EvaluatorHoldout: Processed 35586 (100.0%) in 33.03 sec. Users per second: 1077\n",
      "P3alphaRecommender: Similarity column 38121 (100.0%), 1737.61 column/sec. Elapsed time 21.94 sec\n",
      "EvaluatorHoldout: Ignoring 167 ( 0.5%) Users that have less than 1 test interactions\n",
      "EvaluatorHoldout: Processed 35569 (100.0%) in 33.41 sec. Users per second: 1065\n",
      "P3alphaRecommender: Similarity column 38121 (100.0%), 1676.39 column/sec. Elapsed time 22.74 sec\n",
      "EvaluatorHoldout: Ignoring 172 ( 0.5%) Users that have less than 1 test interactions\n",
      "EvaluatorHoldout: Processed 35564 (100.0%) in 33.87 sec. Users per second: 1050\n"
     ]
    },
    {
     "name": "stderr",
     "output_type": "stream",
     "text": [
      "[I 2025-01-07 08:10:06,346] Trial 652 finished with value: 0.04564311992759966 and parameters: {'topK': 133, 'alpha': 0.6666522994158501, 'normalize_similarity': True, 'implicit': False}. Best is trial 595 with value: 0.053754418047188966.\n"
     ]
    },
    {
     "name": "stdout",
     "output_type": "stream",
     "text": [
      "P3alphaRecommender: Similarity column 38121 (100.0%), 1752.91 column/sec. Elapsed time 21.75 sec\n",
      "EvaluatorHoldout: Ignoring 173 ( 0.5%) Users that have less than 1 test interactions\n",
      "EvaluatorHoldout: Processed 35563 (100.0%) in 32.85 sec. Users per second: 1083\n",
      "P3alphaRecommender: Similarity column 38121 (100.0%), 1830.58 column/sec. Elapsed time 20.82 sec\n",
      "EvaluatorHoldout: Ignoring 163 ( 0.5%) Users that have less than 1 test interactions\n",
      "EvaluatorHoldout: Processed 35573 (100.0%) in 32.33 sec. Users per second: 1100\n",
      "P3alphaRecommender: Similarity column 38121 (100.0%), 1829.45 column/sec. Elapsed time 20.84 sec\n",
      "EvaluatorHoldout: Ignoring 150 ( 0.4%) Users that have less than 1 test interactions\n",
      "EvaluatorHoldout: Processed 35586 (100.0%) in 32.13 sec. Users per second: 1108\n",
      "P3alphaRecommender: Similarity column 38121 (100.0%), 1861.59 column/sec. Elapsed time 20.48 sec\n",
      "EvaluatorHoldout: Ignoring 167 ( 0.5%) Users that have less than 1 test interactions\n",
      "EvaluatorHoldout: Processed 35569 (100.0%) in 31.85 sec. Users per second: 1117\n",
      "P3alphaRecommender: Similarity column 38121 (100.0%), 1892.19 column/sec. Elapsed time 20.15 sec\n",
      "EvaluatorHoldout: Ignoring 172 ( 0.5%) Users that have less than 1 test interactions\n",
      "EvaluatorHoldout: Processed 35564 (100.0%) in 32.41 sec. Users per second: 1097\n"
     ]
    },
    {
     "name": "stderr",
     "output_type": "stream",
     "text": [
      "[I 2025-01-07 08:14:50,582] Trial 653 finished with value: 0.047731874213846115 and parameters: {'topK': 97, 'alpha': 0.515884342834167, 'normalize_similarity': True, 'implicit': False}. Best is trial 595 with value: 0.053754418047188966.\n"
     ]
    },
    {
     "name": "stdout",
     "output_type": "stream",
     "text": [
      "P3alphaRecommender: Similarity column 38121 (100.0%), 3278.41 column/sec. Elapsed time 11.63 sec\n",
      "EvaluatorHoldout: Ignoring 173 ( 0.5%) Users that have less than 1 test interactions\n",
      "EvaluatorHoldout: Processed 35563 (100.0%) in 26.68 sec. Users per second: 1333\n",
      "P3alphaRecommender: Similarity column 38121 (100.0%), 3220.02 column/sec. Elapsed time 11.84 sec\n",
      "EvaluatorHoldout: Ignoring 163 ( 0.5%) Users that have less than 1 test interactions\n",
      "EvaluatorHoldout: Processed 35573 (100.0%) in 26.16 sec. Users per second: 1360\n",
      "P3alphaRecommender: Similarity column 38121 (100.0%), 3311.51 column/sec. Elapsed time 11.51 sec\n",
      "EvaluatorHoldout: Ignoring 150 ( 0.4%) Users that have less than 1 test interactions\n",
      "EvaluatorHoldout: Processed 35586 (100.0%) in 26.09 sec. Users per second: 1364\n",
      "P3alphaRecommender: Similarity column 38121 (100.0%), 3298.64 column/sec. Elapsed time 11.56 sec\n",
      "EvaluatorHoldout: Ignoring 167 ( 0.5%) Users that have less than 1 test interactions\n",
      "EvaluatorHoldout: Processed 35569 (100.0%) in 25.87 sec. Users per second: 1375\n",
      "P3alphaRecommender: Similarity column 38121 (100.0%), 3315.14 column/sec. Elapsed time 11.50 sec\n",
      "EvaluatorHoldout: Ignoring 172 ( 0.5%) Users that have less than 1 test interactions\n",
      "EvaluatorHoldout: Processed 35564 (100.0%) in 25.76 sec. Users per second: 1381\n"
     ]
    },
    {
     "name": "stderr",
     "output_type": "stream",
     "text": [
      "[I 2025-01-07 08:18:00,297] Trial 654 finished with value: 0.0002664826418719655 and parameters: {'topK': 0, 'alpha': 1.8152726026328039, 'normalize_similarity': True, 'implicit': False}. Best is trial 595 with value: 0.053754418047188966.\n"
     ]
    },
    {
     "name": "stdout",
     "output_type": "stream",
     "text": [
      "P3alphaRecommender: Similarity column 38121 (100.0%), 2142.55 column/sec. Elapsed time 17.79 sec\n",
      "EvaluatorHoldout: Ignoring 173 ( 0.5%) Users that have less than 1 test interactions\n",
      "EvaluatorHoldout: Processed 35563 (100.0%) in 33.97 sec. Users per second: 1047\n",
      "P3alphaRecommender: Similarity column 38121 (100.0%), 2134.21 column/sec. Elapsed time 17.86 sec\n",
      "EvaluatorHoldout: Ignoring 163 ( 0.5%) Users that have less than 1 test interactions\n",
      "EvaluatorHoldout: Processed 35573 (100.0%) in 33.43 sec. Users per second: 1064\n",
      "P3alphaRecommender: Similarity column 38121 (100.0%), 2137.44 column/sec. Elapsed time 17.83 sec\n",
      "EvaluatorHoldout: Ignoring 150 ( 0.4%) Users that have less than 1 test interactions\n",
      "EvaluatorHoldout: Processed 35586 (100.0%) in 33.97 sec. Users per second: 1048\n",
      "P3alphaRecommender: Similarity column 38121 (100.0%), 2119.92 column/sec. Elapsed time 17.98 sec\n",
      "EvaluatorHoldout: Ignoring 167 ( 0.5%) Users that have less than 1 test interactions\n",
      "EvaluatorHoldout: Processed 35569 (100.0%) in 33.76 sec. Users per second: 1054\n",
      "P3alphaRecommender: Similarity column 38121 (100.0%), 2155.85 column/sec. Elapsed time 17.68 sec\n",
      "EvaluatorHoldout: Ignoring 172 ( 0.5%) Users that have less than 1 test interactions\n",
      "EvaluatorHoldout: Processed 35564 (100.0%) in 33.48 sec. Users per second: 1062\n"
     ]
    },
    {
     "name": "stderr",
     "output_type": "stream",
     "text": [
      "[I 2025-01-07 08:22:27,996] Trial 655 finished with value: 0.051256922358179725 and parameters: {'topK': 46, 'alpha': 0.3887392539103491, 'normalize_similarity': True, 'implicit': False}. Best is trial 595 with value: 0.053754418047188966.\n"
     ]
    },
    {
     "name": "stdout",
     "output_type": "stream",
     "text": [
      "P3alphaRecommender: Similarity column 38121 (100.0%), 2027.47 column/sec. Elapsed time 18.80 sec\n",
      "EvaluatorHoldout: Ignoring 173 ( 0.5%) Users that have less than 1 test interactions\n",
      "EvaluatorHoldout: Processed 35563 (100.0%) in 34.29 sec. Users per second: 1037\n",
      "P3alphaRecommender: Similarity column 38121 (100.0%), 2026.43 column/sec. Elapsed time 18.81 sec\n",
      "EvaluatorHoldout: Ignoring 163 ( 0.5%) Users that have less than 1 test interactions\n",
      "EvaluatorHoldout: Processed 35573 (100.0%) in 34.65 sec. Users per second: 1027\n",
      "P3alphaRecommender: Similarity column 38121 (100.0%), 2012.31 column/sec. Elapsed time 18.94 sec\n",
      "EvaluatorHoldout: Ignoring 150 ( 0.4%) Users that have less than 1 test interactions\n",
      "EvaluatorHoldout: Processed 35586 (100.0%) in 34.50 sec. Users per second: 1031\n",
      "P3alphaRecommender: Similarity column 38121 (100.0%), 1997.42 column/sec. Elapsed time 19.09 sec\n",
      "EvaluatorHoldout: Ignoring 167 ( 0.5%) Users that have less than 1 test interactions\n",
      "EvaluatorHoldout: Processed 35569 (100.0%) in 34.50 sec. Users per second: 1031\n",
      "P3alphaRecommender: Similarity column 38121 (100.0%), 1997.23 column/sec. Elapsed time 19.09 sec\n",
      "EvaluatorHoldout: Ignoring 172 ( 0.5%) Users that have less than 1 test interactions\n",
      "EvaluatorHoldout: Processed 35564 (100.0%) in 34.30 sec. Users per second: 1037\n"
     ]
    },
    {
     "name": "stderr",
     "output_type": "stream",
     "text": [
      "[I 2025-01-07 08:27:08,307] Trial 656 finished with value: 0.04937897977373877 and parameters: {'topK': 70, 'alpha': 0.3006441254981992, 'normalize_similarity': True, 'implicit': False}. Best is trial 595 with value: 0.053754418047188966.\n"
     ]
    },
    {
     "name": "stdout",
     "output_type": "stream",
     "text": [
      "P3alphaRecommender: Similarity column 38121 (100.0%), 2274.02 column/sec. Elapsed time 16.76 sec\n",
      "EvaluatorHoldout: Ignoring 173 ( 0.5%) Users that have less than 1 test interactions\n",
      "EvaluatorHoldout: Processed 35563 (100.0%) in 32.36 sec. Users per second: 1099\n",
      "P3alphaRecommender: Similarity column 38121 (100.0%), 2263.36 column/sec. Elapsed time 16.84 sec\n",
      "EvaluatorHoldout: Ignoring 163 ( 0.5%) Users that have less than 1 test interactions\n",
      "EvaluatorHoldout: Processed 35573 (100.0%) in 32.11 sec. Users per second: 1108\n",
      "P3alphaRecommender: Similarity column 38121 (100.0%), 2288.70 column/sec. Elapsed time 16.66 sec\n",
      "EvaluatorHoldout: Ignoring 150 ( 0.4%) Users that have less than 1 test interactions\n",
      "EvaluatorHoldout: Processed 35586 (100.0%) in 32.26 sec. Users per second: 1103\n",
      "P3alphaRecommender: Similarity column 38121 (100.0%), 2268.65 column/sec. Elapsed time 16.80 sec\n",
      "EvaluatorHoldout: Ignoring 167 ( 0.5%) Users that have less than 1 test interactions\n",
      "EvaluatorHoldout: Processed 35569 (100.0%) in 33.66 sec. Users per second: 1057\n",
      "P3alphaRecommender: Similarity column 38121 (100.0%), 2238.16 column/sec. Elapsed time 17.03 sec\n",
      "EvaluatorHoldout: Ignoring 172 ( 0.5%) Users that have less than 1 test interactions\n",
      "EvaluatorHoldout: Processed 35564 (100.0%) in 32.18 sec. Users per second: 1105\n"
     ]
    },
    {
     "name": "stderr",
     "output_type": "stream",
     "text": [
      "[I 2025-01-07 08:31:22,313] Trial 657 finished with value: 0.05285317278632853 and parameters: {'topK': 28, 'alpha': 0.565351025021448, 'normalize_similarity': True, 'implicit': False}. Best is trial 595 with value: 0.053754418047188966.\n"
     ]
    },
    {
     "name": "stdout",
     "output_type": "stream",
     "text": [
      "P3alphaRecommender: Similarity column 38121 (100.0%), 540.48 column/sec. Elapsed time 1.18 min\n",
      "EvaluatorHoldout: Ignoring 173 ( 0.5%) Users that have less than 1 test interactions\n",
      "EvaluatorHoldout: Processed 35563 (100.0%) in 55.45 sec. Users per second: 641\n",
      "P3alphaRecommender: Similarity column 38121 (100.0%), 540.92 column/sec. Elapsed time 1.17 min\n",
      "EvaluatorHoldout: Ignoring 163 ( 0.5%) Users that have less than 1 test interactions\n",
      "EvaluatorHoldout: Processed 35573 (100.0%) in 55.14 sec. Users per second: 645\n",
      "P3alphaRecommender: Similarity column 38121 (100.0%), 545.59 column/sec. Elapsed time 1.16 min\n",
      "EvaluatorHoldout: Ignoring 150 ( 0.4%) Users that have less than 1 test interactions\n",
      "EvaluatorHoldout: Processed 35586 (100.0%) in 55.26 sec. Users per second: 644\n",
      "P3alphaRecommender: Similarity column 38121 (100.0%), 536.54 column/sec. Elapsed time 1.18 min\n",
      "EvaluatorHoldout: Ignoring 167 ( 0.5%) Users that have less than 1 test interactions\n",
      "EvaluatorHoldout: Processed 35569 (100.0%) in 55.69 sec. Users per second: 639\n",
      "P3alphaRecommender: Similarity column 38121 (100.0%), 542.90 column/sec. Elapsed time 1.17 min\n",
      "EvaluatorHoldout: Ignoring 172 ( 0.5%) Users that have less than 1 test interactions\n",
      "EvaluatorHoldout: Processed 35564 (100.0%) in 55.63 sec. Users per second: 639\n"
     ]
    },
    {
     "name": "stderr",
     "output_type": "stream",
     "text": [
      "[I 2025-01-07 08:45:41,015] Trial 658 finished with value: 0.03367474683176884 and parameters: {'topK': 1213, 'alpha': 0.41465209003085735, 'normalize_similarity': True, 'implicit': False}. Best is trial 595 with value: 0.053754418047188966.\n"
     ]
    },
    {
     "name": "stdout",
     "output_type": "stream",
     "text": [
      "P3alphaRecommender: Similarity column 38121 (100.0%), 2343.00 column/sec. Elapsed time 16.27 sec\n",
      "EvaluatorHoldout: Ignoring 173 ( 0.5%) Users that have less than 1 test interactions\n",
      "EvaluatorHoldout: Processed 35563 (100.0%) in 32.02 sec. Users per second: 1111\n",
      "P3alphaRecommender: Similarity column 38121 (100.0%), 2328.93 column/sec. Elapsed time 16.37 sec\n",
      "EvaluatorHoldout: Ignoring 163 ( 0.5%) Users that have less than 1 test interactions\n",
      "EvaluatorHoldout: Processed 35573 (100.0%) in 31.86 sec. Users per second: 1116\n",
      "P3alphaRecommender: Similarity column 38121 (100.0%), 2288.61 column/sec. Elapsed time 16.66 sec\n",
      "EvaluatorHoldout: Ignoring 150 ( 0.4%) Users that have less than 1 test interactions\n",
      "EvaluatorHoldout: Processed 35586 (100.0%) in 31.91 sec. Users per second: 1115\n",
      "P3alphaRecommender: Similarity column 38121 (100.0%), 2187.71 column/sec. Elapsed time 17.43 sec\n",
      "EvaluatorHoldout: Ignoring 167 ( 0.5%) Users that have less than 1 test interactions\n",
      "EvaluatorHoldout: Processed 35569 (100.0%) in 31.91 sec. Users per second: 1115\n",
      "P3alphaRecommender: Similarity column 38121 (100.0%), 2286.85 column/sec. Elapsed time 16.67 sec\n",
      "EvaluatorHoldout: Ignoring 172 ( 0.5%) Users that have less than 1 test interactions\n",
      "EvaluatorHoldout: Processed 35564 (100.0%) in 31.84 sec. Users per second: 1117\n"
     ]
    },
    {
     "name": "stderr",
     "output_type": "stream",
     "text": [
      "[I 2025-01-07 08:49:50,814] Trial 659 finished with value: 0.05307329063603559 and parameters: {'topK': 26, 'alpha': 0.3475409548362107, 'normalize_similarity': True, 'implicit': False}. Best is trial 595 with value: 0.053754418047188966.\n"
     ]
    },
    {
     "name": "stdout",
     "output_type": "stream",
     "text": [
      "P3alphaRecommender: Similarity column 38121 (100.0%), 585.41 column/sec. Elapsed time 1.09 min\n",
      "EvaluatorHoldout: Ignoring 173 ( 0.5%) Users that have less than 1 test interactions\n",
      "EvaluatorHoldout: Processed 35563 (100.0%) in 53.94 sec. Users per second: 659\n",
      "P3alphaRecommender: Similarity column 38121 (100.0%), 578.43 column/sec. Elapsed time 1.10 min\n",
      "EvaluatorHoldout: Ignoring 163 ( 0.5%) Users that have less than 1 test interactions\n",
      "EvaluatorHoldout: Processed 35573 (100.0%) in 53.96 sec. Users per second: 659\n",
      "P3alphaRecommender: Similarity column 38121 (100.0%), 580.92 column/sec. Elapsed time 1.09 min\n",
      "EvaluatorHoldout: Ignoring 150 ( 0.4%) Users that have less than 1 test interactions\n",
      "EvaluatorHoldout: Processed 35586 (100.0%) in 53.93 sec. Users per second: 660\n",
      "P3alphaRecommender: Similarity column 38121 (100.0%), 581.73 column/sec. Elapsed time 1.09 min\n",
      "EvaluatorHoldout: Ignoring 167 ( 0.5%) Users that have less than 1 test interactions\n",
      "EvaluatorHoldout: Processed 35569 (100.0%) in 54.97 sec. Users per second: 647\n",
      "P3alphaRecommender: Similarity column 38121 (100.0%), 583.91 column/sec. Elapsed time 1.09 min\n",
      "EvaluatorHoldout: Ignoring 172 ( 0.5%) Users that have less than 1 test interactions\n",
      "EvaluatorHoldout: Processed 35564 (100.0%) in 54.37 sec. Users per second: 654\n"
     ]
    },
    {
     "name": "stderr",
     "output_type": "stream",
     "text": [
      "[I 2025-01-07 09:03:14,764] Trial 660 finished with value: 0.034406556408126863 and parameters: {'topK': 1072, 'alpha': 0.483576177820835, 'normalize_similarity': True, 'implicit': True}. Best is trial 595 with value: 0.053754418047188966.\n"
     ]
    },
    {
     "name": "stdout",
     "output_type": "stream",
     "text": [
      "P3alphaRecommender: Similarity column 38121 (100.0%), 1905.55 column/sec. Elapsed time 20.01 sec\n",
      "EvaluatorHoldout: Ignoring 173 ( 0.5%) Users that have less than 1 test interactions\n",
      "EvaluatorHoldout: Processed 35563 (100.0%) in 32.15 sec. Users per second: 1106\n",
      "P3alphaRecommender: Similarity column 38121 (100.0%), 1886.29 column/sec. Elapsed time 20.21 sec\n",
      "EvaluatorHoldout: Ignoring 163 ( 0.5%) Users that have less than 1 test interactions\n",
      "EvaluatorHoldout: Processed 35573 (100.0%) in 32.82 sec. Users per second: 1084\n",
      "P3alphaRecommender: Similarity column 38121 (100.0%), 1826.98 column/sec. Elapsed time 20.87 sec\n",
      "EvaluatorHoldout: Ignoring 150 ( 0.4%) Users that have less than 1 test interactions\n",
      "EvaluatorHoldout: Processed 35586 (100.0%) in 32.80 sec. Users per second: 1085\n",
      "P3alphaRecommender: Similarity column 38121 (100.0%), 1861.71 column/sec. Elapsed time 20.48 sec\n",
      "EvaluatorHoldout: Ignoring 167 ( 0.5%) Users that have less than 1 test interactions\n",
      "EvaluatorHoldout: Processed 35569 (100.0%) in 32.17 sec. Users per second: 1106\n",
      "P3alphaRecommender: Similarity column 38121 (100.0%), 1884.33 column/sec. Elapsed time 20.23 sec\n",
      "EvaluatorHoldout: Ignoring 172 ( 0.5%) Users that have less than 1 test interactions\n",
      "EvaluatorHoldout: Processed 35564 (100.0%) in 32.15 sec. Users per second: 1106\n"
     ]
    },
    {
     "name": "stderr",
     "output_type": "stream",
     "text": [
      "[I 2025-01-07 09:07:57,202] Trial 661 finished with value: 0.04356907116756757 and parameters: {'topK': 95, 'alpha': 0.7104124103913728, 'normalize_similarity': False, 'implicit': False}. Best is trial 595 with value: 0.053754418047188966.\n"
     ]
    },
    {
     "name": "stdout",
     "output_type": "stream",
     "text": [
      "P3alphaRecommender: Similarity column 38121 (100.0%), 3264.76 column/sec. Elapsed time 11.68 sec\n",
      "EvaluatorHoldout: Ignoring 173 ( 0.5%) Users that have less than 1 test interactions\n",
      "EvaluatorHoldout: Processed 35563 (100.0%) in 26.89 sec. Users per second: 1323\n",
      "P3alphaRecommender: Similarity column 38121 (100.0%), 3127.28 column/sec. Elapsed time 12.19 sec\n",
      "EvaluatorHoldout: Ignoring 163 ( 0.5%) Users that have less than 1 test interactions\n",
      "EvaluatorHoldout: Processed 35573 (100.0%) in 27.71 sec. Users per second: 1284\n",
      "P3alphaRecommender: Similarity column 38121 (100.0%), 3033.29 column/sec. Elapsed time 12.57 sec\n",
      "EvaluatorHoldout: Ignoring 150 ( 0.4%) Users that have less than 1 test interactions\n",
      "EvaluatorHoldout: Processed 35586 (100.0%) in 26.73 sec. Users per second: 1332\n",
      "P3alphaRecommender: Similarity column 38121 (100.0%), 3079.43 column/sec. Elapsed time 12.38 sec\n",
      "EvaluatorHoldout: Ignoring 167 ( 0.5%) Users that have less than 1 test interactions\n",
      "EvaluatorHoldout: Processed 35569 (100.0%) in 28.62 sec. Users per second: 1243\n",
      "P3alphaRecommender: Similarity column 38121 (100.0%), 3150.41 column/sec. Elapsed time 12.10 sec\n",
      "EvaluatorHoldout: Ignoring 172 ( 0.5%) Users that have less than 1 test interactions\n",
      "EvaluatorHoldout: Processed 35564 (100.0%) in 26.49 sec. Users per second: 1343\n"
     ]
    },
    {
     "name": "stderr",
     "output_type": "stream",
     "text": [
      "[I 2025-01-07 09:11:15,637] Trial 662 finished with value: 0.0002664826418719655 and parameters: {'topK': 0, 'alpha': 0.20828475972184166, 'normalize_similarity': True, 'implicit': False}. Best is trial 595 with value: 0.053754418047188966.\n"
     ]
    },
    {
     "name": "stdout",
     "output_type": "stream",
     "text": [
      "P3alphaRecommender: Similarity column 38121 (100.0%), 2001.98 column/sec. Elapsed time 19.04 sec\n",
      "EvaluatorHoldout: Ignoring 173 ( 0.5%) Users that have less than 1 test interactions\n",
      "EvaluatorHoldout: Processed 35563 (100.0%) in 35.57 sec. Users per second: 1000\n",
      "P3alphaRecommender: Similarity column 38121 (100.0%), 2021.61 column/sec. Elapsed time 18.86 sec\n",
      "EvaluatorHoldout: Ignoring 163 ( 0.5%) Users that have less than 1 test interactions\n",
      "EvaluatorHoldout: Processed 35573 (100.0%) in 35.95 sec. Users per second: 990\n",
      "P3alphaRecommender: Similarity column 38121 (100.0%), 2022.47 column/sec. Elapsed time 18.85 sec\n",
      "EvaluatorHoldout: Ignoring 150 ( 0.4%) Users that have less than 1 test interactions\n",
      "EvaluatorHoldout: Processed 35586 (100.0%) in 35.58 sec. Users per second: 1000\n",
      "P3alphaRecommender: Similarity column 38121 (100.0%), 2040.34 column/sec. Elapsed time 18.68 sec\n",
      "EvaluatorHoldout: Ignoring 167 ( 0.5%) Users that have less than 1 test interactions\n",
      "EvaluatorHoldout: Processed 35569 (100.0%) in 35.56 sec. Users per second: 1000\n",
      "P3alphaRecommender: Similarity column 38121 (100.0%), 1944.35 column/sec. Elapsed time 19.61 sec\n",
      "EvaluatorHoldout: Ignoring 172 ( 0.5%) Users that have less than 1 test interactions\n",
      "EvaluatorHoldout: Processed 35564 (100.0%) in 35.14 sec. Users per second: 1012\n"
     ]
    },
    {
     "name": "stderr",
     "output_type": "stream",
     "text": [
      "[I 2025-01-07 09:16:00,314] Trial 663 finished with value: 0.050189438061637316 and parameters: {'topK': 58, 'alpha': 0.26562194244322507, 'normalize_similarity': True, 'implicit': False}. Best is trial 595 with value: 0.053754418047188966.\n"
     ]
    },
    {
     "name": "stdout",
     "output_type": "stream",
     "text": [
      "P3alphaRecommender: Similarity column 38121 (100.0%), 2200.27 column/sec. Elapsed time 17.33 sec\n",
      "EvaluatorHoldout: Ignoring 173 ( 0.5%) Users that have less than 1 test interactions\n",
      "EvaluatorHoldout: Processed 35563 (100.0%) in 33.30 sec. Users per second: 1068\n",
      "P3alphaRecommender: Similarity column 38121 (100.0%), 2239.46 column/sec. Elapsed time 17.02 sec\n",
      "EvaluatorHoldout: Ignoring 163 ( 0.5%) Users that have less than 1 test interactions\n",
      "EvaluatorHoldout: Processed 35573 (100.0%) in 33.78 sec. Users per second: 1053\n",
      "P3alphaRecommender: Similarity column 38121 (100.0%), 2202.06 column/sec. Elapsed time 17.31 sec\n",
      "EvaluatorHoldout: Ignoring 150 ( 0.4%) Users that have less than 1 test interactions\n",
      "EvaluatorHoldout: Processed 35586 (100.0%) in 32.70 sec. Users per second: 1088\n",
      "P3alphaRecommender: Similarity column 38121 (100.0%), 2203.69 column/sec. Elapsed time 17.30 sec\n",
      "EvaluatorHoldout: Ignoring 167 ( 0.5%) Users that have less than 1 test interactions\n",
      "EvaluatorHoldout: Processed 35569 (100.0%) in 33.36 sec. Users per second: 1066\n",
      "P3alphaRecommender: Similarity column 38121 (100.0%), 2238.11 column/sec. Elapsed time 17.03 sec\n",
      "EvaluatorHoldout: Ignoring 172 ( 0.5%) Users that have less than 1 test interactions\n",
      "EvaluatorHoldout: Processed 35564 (100.0%) in 34.61 sec. Users per second: 1027\n"
     ]
    },
    {
     "name": "stderr",
     "output_type": "stream",
     "text": [
      "[I 2025-01-07 09:20:21,870] Trial 664 finished with value: 0.052698532916004515 and parameters: {'topK': 30, 'alpha': 0.4436101741448826, 'normalize_similarity': True, 'implicit': False}. Best is trial 595 with value: 0.053754418047188966.\n"
     ]
    },
    {
     "name": "stdout",
     "output_type": "stream",
     "text": [
      "P3alphaRecommender: Similarity column 38121 (100.0%), 1978.18 column/sec. Elapsed time 19.27 sec\n",
      "EvaluatorHoldout: Ignoring 173 ( 0.5%) Users that have less than 1 test interactions\n",
      "EvaluatorHoldout: Processed 35563 (100.0%) in 35.36 sec. Users per second: 1006\n",
      "P3alphaRecommender: Similarity column 38121 (100.0%), 1913.49 column/sec. Elapsed time 19.92 sec\n",
      "EvaluatorHoldout: Ignoring 163 ( 0.5%) Users that have less than 1 test interactions\n",
      "EvaluatorHoldout: Processed 35573 (100.0%) in 35.08 sec. Users per second: 1014\n",
      "P3alphaRecommender: Similarity column 38121 (100.0%), 1993.29 column/sec. Elapsed time 19.12 sec\n",
      "EvaluatorHoldout: Ignoring 150 ( 0.4%) Users that have less than 1 test interactions\n",
      "EvaluatorHoldout: Processed 35586 (100.0%) in 34.41 sec. Users per second: 1034\n",
      "P3alphaRecommender: Similarity column 38121 (100.0%), 2039.77 column/sec. Elapsed time 18.69 sec\n",
      "EvaluatorHoldout: Ignoring 167 ( 0.5%) Users that have less than 1 test interactions\n",
      "EvaluatorHoldout: Processed 35569 (100.0%) in 34.27 sec. Users per second: 1038\n",
      "P3alphaRecommender: Similarity column 38121 (100.0%), 2056.20 column/sec. Elapsed time 18.54 sec\n",
      "EvaluatorHoldout: Ignoring 172 ( 0.5%) Users that have less than 1 test interactions\n",
      "EvaluatorHoldout: Processed 35564 (100.0%) in 34.29 sec. Users per second: 1037\n"
     ]
    },
    {
     "name": "stderr",
     "output_type": "stream",
     "text": [
      "[I 2025-01-07 09:25:03,870] Trial 665 finished with value: 0.04963537883265183 and parameters: {'topK': 67, 'alpha': 0.3223574470208811, 'normalize_similarity': True, 'implicit': False}. Best is trial 595 with value: 0.053754418047188966.\n"
     ]
    },
    {
     "name": "stdout",
     "output_type": "stream",
     "text": [
      "P3alphaRecommender: Similarity column 38121 (100.0%), 2265.26 column/sec. Elapsed time 16.83 sec\n",
      "EvaluatorHoldout: Ignoring 173 ( 0.5%) Users that have less than 1 test interactions\n",
      "EvaluatorHoldout: Processed 35563 (100.0%) in 32.10 sec. Users per second: 1108\n",
      "P3alphaRecommender: Similarity column 38121 (100.0%), 2301.28 column/sec. Elapsed time 16.57 sec\n",
      "EvaluatorHoldout: Ignoring 163 ( 0.5%) Users that have less than 1 test interactions\n",
      "EvaluatorHoldout: Processed 35573 (100.0%) in 31.97 sec. Users per second: 1113\n",
      "P3alphaRecommender: Similarity column 38121 (100.0%), 2291.60 column/sec. Elapsed time 16.64 sec\n",
      "EvaluatorHoldout: Ignoring 150 ( 0.4%) Users that have less than 1 test interactions\n",
      "EvaluatorHoldout: Processed 35586 (100.0%) in 31.86 sec. Users per second: 1117\n",
      "P3alphaRecommender: Similarity column 38121 (100.0%), 2292.35 column/sec. Elapsed time 16.63 sec\n",
      "EvaluatorHoldout: Ignoring 167 ( 0.5%) Users that have less than 1 test interactions\n",
      "EvaluatorHoldout: Processed 35569 (100.0%) in 31.96 sec. Users per second: 1113\n",
      "P3alphaRecommender: Similarity column 38121 (100.0%), 2285.45 column/sec. Elapsed time 16.68 sec\n",
      "EvaluatorHoldout: Ignoring 172 ( 0.5%) Users that have less than 1 test interactions\n",
      "EvaluatorHoldout: Processed 35564 (100.0%) in 31.86 sec. Users per second: 1116\n"
     ]
    },
    {
     "name": "stderr",
     "output_type": "stream",
     "text": [
      "[I 2025-01-07 09:29:14,117] Trial 666 finished with value: 0.05296847959613714 and parameters: {'topK': 27, 'alpha': 0.38063957416347605, 'normalize_similarity': True, 'implicit': False}. Best is trial 595 with value: 0.053754418047188966.\n"
     ]
    },
    {
     "name": "stdout",
     "output_type": "stream",
     "text": [
      "P3alphaRecommender: Similarity column 38121 (100.0%), 1233.87 column/sec. Elapsed time 30.90 sec\n",
      "EvaluatorHoldout: Ignoring 173 ( 0.5%) Users that have less than 1 test interactions\n",
      "EvaluatorHoldout: Processed 35563 (100.0%) in 41.53 sec. Users per second: 856\n",
      "P3alphaRecommender: Similarity column 38121 (100.0%), 1212.19 column/sec. Elapsed time 31.45 sec\n",
      "EvaluatorHoldout: Ignoring 163 ( 0.5%) Users that have less than 1 test interactions\n",
      "EvaluatorHoldout: Processed 35573 (100.0%) in 40.90 sec. Users per second: 870\n",
      "P3alphaRecommender: Similarity column 38121 (100.0%), 1244.90 column/sec. Elapsed time 30.62 sec\n",
      "EvaluatorHoldout: Ignoring 150 ( 0.4%) Users that have less than 1 test interactions\n",
      "EvaluatorHoldout: Processed 35586 (100.0%) in 41.11 sec. Users per second: 866\n",
      "P3alphaRecommender: Similarity column 38121 (100.0%), 1210.74 column/sec. Elapsed time 31.49 sec\n",
      "EvaluatorHoldout: Ignoring 167 ( 0.5%) Users that have less than 1 test interactions\n",
      "EvaluatorHoldout: Processed 35569 (100.0%) in 41.13 sec. Users per second: 865\n",
      "P3alphaRecommender: Similarity column 38121 (100.0%), 1238.71 column/sec. Elapsed time 30.77 sec\n",
      "EvaluatorHoldout: Ignoring 172 ( 0.5%) Users that have less than 1 test interactions\n",
      "EvaluatorHoldout: Processed 35564 (100.0%) in 41.48 sec. Users per second: 857\n"
     ]
    },
    {
     "name": "stderr",
     "output_type": "stream",
     "text": [
      "[I 2025-01-07 09:36:16,005] Trial 667 finished with value: 0.040306592405151484 and parameters: {'topK': 326, 'alpha': 0.5277590137602234, 'normalize_similarity': True, 'implicit': False}. Best is trial 595 with value: 0.053754418047188966.\n"
     ]
    },
    {
     "name": "stdout",
     "output_type": "stream",
     "text": [
      "P3alphaRecommender: Similarity column 38121 (100.0%), 2148.17 column/sec. Elapsed time 17.75 sec\n",
      "EvaluatorHoldout: Ignoring 173 ( 0.5%) Users that have less than 1 test interactions\n",
      "EvaluatorHoldout: Processed 35563 (100.0%) in 33.46 sec. Users per second: 1063\n",
      "P3alphaRecommender: Similarity column 38121 (100.0%), 2150.99 column/sec. Elapsed time 17.72 sec\n",
      "EvaluatorHoldout: Ignoring 163 ( 0.5%) Users that have less than 1 test interactions\n",
      "EvaluatorHoldout: Processed 35573 (100.0%) in 33.85 sec. Users per second: 1051\n",
      "P3alphaRecommender: Similarity column 38121 (100.0%), 2170.81 column/sec. Elapsed time 17.56 sec\n",
      "EvaluatorHoldout: Ignoring 150 ( 0.4%) Users that have less than 1 test interactions\n",
      "EvaluatorHoldout: Processed 35586 (100.0%) in 33.69 sec. Users per second: 1056\n",
      "P3alphaRecommender: Similarity column 38121 (100.0%), 2116.76 column/sec. Elapsed time 18.01 sec\n",
      "EvaluatorHoldout: Ignoring 167 ( 0.5%) Users that have less than 1 test interactions\n",
      "EvaluatorHoldout: Processed 35569 (100.0%) in 33.74 sec. Users per second: 1054\n",
      "P3alphaRecommender: Similarity column 38121 (100.0%), 2138.56 column/sec. Elapsed time 17.83 sec\n",
      "EvaluatorHoldout: Ignoring 172 ( 0.5%) Users that have less than 1 test interactions\n",
      "EvaluatorHoldout: Processed 35564 (100.0%) in 33.77 sec. Users per second: 1053\n"
     ]
    },
    {
     "name": "stderr",
     "output_type": "stream",
     "text": [
      "[I 2025-01-07 09:40:44,229] Trial 668 finished with value: 0.050691137682658226 and parameters: {'topK': 51, 'alpha': 0.5993581258653509, 'normalize_similarity': True, 'implicit': False}. Best is trial 595 with value: 0.053754418047188966.\n"
     ]
    },
    {
     "name": "stdout",
     "output_type": "stream",
     "text": [
      "P3alphaRecommender: Similarity column 38121 (100.0%), 1941.32 column/sec. Elapsed time 19.64 sec\n",
      "EvaluatorHoldout: Ignoring 173 ( 0.5%) Users that have less than 1 test interactions\n",
      "EvaluatorHoldout: Processed 35563 (100.0%) in 31.17 sec. Users per second: 1141\n",
      "P3alphaRecommender: Similarity column 38121 (100.0%), 1933.12 column/sec. Elapsed time 19.72 sec\n",
      "EvaluatorHoldout: Ignoring 163 ( 0.5%) Users that have less than 1 test interactions\n",
      "EvaluatorHoldout: Processed 35573 (100.0%) in 31.18 sec. Users per second: 1141\n",
      "P3alphaRecommender: Similarity column 38121 (100.0%), 1922.73 column/sec. Elapsed time 19.83 sec\n",
      "EvaluatorHoldout: Ignoring 150 ( 0.4%) Users that have less than 1 test interactions\n",
      "EvaluatorHoldout: Processed 35586 (100.0%) in 31.13 sec. Users per second: 1143\n",
      "P3alphaRecommender: Similarity column 38121 (100.0%), 1919.17 column/sec. Elapsed time 19.86 sec\n",
      "EvaluatorHoldout: Ignoring 167 ( 0.5%) Users that have less than 1 test interactions\n",
      "EvaluatorHoldout: Processed 35569 (100.0%) in 31.16 sec. Users per second: 1142\n",
      "P3alphaRecommender: Similarity column 38121 (100.0%), 1916.95 column/sec. Elapsed time 19.89 sec\n",
      "EvaluatorHoldout: Ignoring 172 ( 0.5%) Users that have less than 1 test interactions\n",
      "EvaluatorHoldout: Processed 35564 (100.0%) in 31.21 sec. Users per second: 1140\n"
     ]
    },
    {
     "name": "stderr",
     "output_type": "stream",
     "text": [
      "[I 2025-01-07 09:45:16,089] Trial 669 finished with value: 0.047917696886013286 and parameters: {'topK': 94, 'alpha': 0.3928562904067425, 'normalize_similarity': True, 'implicit': False}. Best is trial 595 with value: 0.053754418047188966.\n"
     ]
    },
    {
     "name": "stdout",
     "output_type": "stream",
     "text": [
      "P3alphaRecommender: Similarity column 38121 (100.0%), 1598.30 column/sec. Elapsed time 23.85 sec\n",
      "EvaluatorHoldout: Ignoring 173 ( 0.5%) Users that have less than 1 test interactions\n",
      "EvaluatorHoldout: Processed 35563 (100.0%) in 33.48 sec. Users per second: 1062\n",
      "P3alphaRecommender: Similarity column 38121 (100.0%), 1586.42 column/sec. Elapsed time 24.03 sec\n",
      "EvaluatorHoldout: Ignoring 163 ( 0.5%) Users that have less than 1 test interactions\n",
      "EvaluatorHoldout: Processed 35573 (100.0%) in 33.00 sec. Users per second: 1078\n",
      "P3alphaRecommender: Similarity column 38121 (100.0%), 1610.57 column/sec. Elapsed time 23.67 sec\n",
      "EvaluatorHoldout: Ignoring 150 ( 0.4%) Users that have less than 1 test interactions\n",
      "EvaluatorHoldout: Processed 35586 (100.0%) in 33.26 sec. Users per second: 1070\n",
      "P3alphaRecommender: Similarity column 38121 (100.0%), 1600.93 column/sec. Elapsed time 23.81 sec\n",
      "EvaluatorHoldout: Ignoring 167 ( 0.5%) Users that have less than 1 test interactions\n",
      "EvaluatorHoldout: Processed 35569 (100.0%) in 33.11 sec. Users per second: 1074\n",
      "P3alphaRecommender: Similarity column 38121 (100.0%), 1603.54 column/sec. Elapsed time 23.77 sec\n",
      "EvaluatorHoldout: Ignoring 172 ( 0.5%) Users that have less than 1 test interactions\n",
      "EvaluatorHoldout: Processed 35564 (100.0%) in 33.17 sec. Users per second: 1072\n"
     ]
    },
    {
     "name": "stderr",
     "output_type": "stream",
     "text": [
      "[I 2025-01-07 09:50:31,668] Trial 670 finished with value: 0.043932114395565484 and parameters: {'topK': 176, 'alpha': 0.2775945488458666, 'normalize_similarity': True, 'implicit': False}. Best is trial 595 with value: 0.053754418047188966.\n"
     ]
    },
    {
     "name": "stdout",
     "output_type": "stream",
     "text": [
      "P3alphaRecommender: Similarity column 38121 (100.0%), 2256.79 column/sec. Elapsed time 16.89 sec\n",
      "EvaluatorHoldout: Ignoring 173 ( 0.5%) Users that have less than 1 test interactions\n",
      "EvaluatorHoldout: Processed 35563 (100.0%) in 32.35 sec. Users per second: 1099\n",
      "P3alphaRecommender: Similarity column 38121 (100.0%), 2269.99 column/sec. Elapsed time 16.79 sec\n",
      "EvaluatorHoldout: Ignoring 163 ( 0.5%) Users that have less than 1 test interactions\n",
      "EvaluatorHoldout: Processed 35573 (100.0%) in 32.43 sec. Users per second: 1097\n",
      "P3alphaRecommender: Similarity column 38121 (100.0%), 2274.14 column/sec. Elapsed time 16.76 sec\n",
      "EvaluatorHoldout: Ignoring 150 ( 0.4%) Users that have less than 1 test interactions\n",
      "EvaluatorHoldout: Processed 35586 (100.0%) in 32.28 sec. Users per second: 1102\n",
      "P3alphaRecommender: Similarity column 38121 (100.0%), 2260.00 column/sec. Elapsed time 16.87 sec\n",
      "EvaluatorHoldout: Ignoring 167 ( 0.5%) Users that have less than 1 test interactions\n",
      "EvaluatorHoldout: Processed 35569 (100.0%) in 32.18 sec. Users per second: 1105\n",
      "P3alphaRecommender: Similarity column 38121 (100.0%), 2275.08 column/sec. Elapsed time 16.76 sec\n",
      "EvaluatorHoldout: Ignoring 172 ( 0.5%) Users that have less than 1 test interactions\n",
      "EvaluatorHoldout: Processed 35564 (100.0%) in 32.41 sec. Users per second: 1097\n"
     ]
    },
    {
     "name": "stderr",
     "output_type": "stream",
     "text": [
      "[I 2025-01-07 09:54:44,992] Trial 671 finished with value: 0.05264548032172407 and parameters: {'topK': 30, 'alpha': 0.4687211964014987, 'normalize_similarity': True, 'implicit': True}. Best is trial 595 with value: 0.053754418047188966.\n"
     ]
    },
    {
     "name": "stdout",
     "output_type": "stream",
     "text": [
      "P3alphaRecommender: Similarity column 38121 (100.0%), 2027.19 column/sec. Elapsed time 18.80 sec\n",
      "EvaluatorHoldout: Ignoring 173 ( 0.5%) Users that have less than 1 test interactions\n",
      "EvaluatorHoldout: Processed 35563 (100.0%) in 34.16 sec. Users per second: 1041\n",
      "P3alphaRecommender: Similarity column 38121 (100.0%), 2040.05 column/sec. Elapsed time 18.69 sec\n",
      "EvaluatorHoldout: Ignoring 163 ( 0.5%) Users that have less than 1 test interactions\n",
      "EvaluatorHoldout: Processed 35573 (100.0%) in 34.07 sec. Users per second: 1044\n",
      "P3alphaRecommender: Similarity column 38121 (100.0%), 2051.46 column/sec. Elapsed time 18.58 sec\n",
      "EvaluatorHoldout: Ignoring 150 ( 0.4%) Users that have less than 1 test interactions\n",
      "EvaluatorHoldout: Processed 35586 (100.0%) in 34.19 sec. Users per second: 1041\n",
      "P3alphaRecommender: Similarity column 38121 (100.0%), 2033.90 column/sec. Elapsed time 18.74 sec\n",
      "EvaluatorHoldout: Ignoring 167 ( 0.5%) Users that have less than 1 test interactions\n",
      "EvaluatorHoldout: Processed 35569 (100.0%) in 33.95 sec. Users per second: 1048\n",
      "P3alphaRecommender: Similarity column 38121 (100.0%), 2031.88 column/sec. Elapsed time 18.76 sec\n",
      "EvaluatorHoldout: Ignoring 172 ( 0.5%) Users that have less than 1 test interactions\n",
      "EvaluatorHoldout: Processed 35564 (100.0%) in 34.02 sec. Users per second: 1045\n"
     ]
    },
    {
     "name": "stderr",
     "output_type": "stream",
     "text": [
      "[I 2025-01-07 09:59:22,346] Trial 672 finished with value: 0.049370557120269026 and parameters: {'topK': 71, 'alpha': 0.3482883353723918, 'normalize_similarity': True, 'implicit': False}. Best is trial 595 with value: 0.053754418047188966.\n"
     ]
    },
    {
     "name": "stdout",
     "output_type": "stream",
     "text": [
      "P3alphaRecommender: Similarity column 38121 (100.0%), 1825.28 column/sec. Elapsed time 20.89 sec\n",
      "EvaluatorHoldout: Ignoring 173 ( 0.5%) Users that have less than 1 test interactions\n",
      "EvaluatorHoldout: Processed 35563 (100.0%) in 37.69 sec. Users per second: 944\n",
      "P3alphaRecommender: Similarity column 38121 (100.0%), 1823.57 column/sec. Elapsed time 20.90 sec\n",
      "EvaluatorHoldout: Ignoring 163 ( 0.5%) Users that have less than 1 test interactions\n",
      "EvaluatorHoldout: Processed 35573 (100.0%) in 37.02 sec. Users per second: 961\n",
      "P3alphaRecommender: Similarity column 38121 (100.0%), 1815.69 column/sec. Elapsed time 21.00 sec\n",
      "EvaluatorHoldout: Ignoring 150 ( 0.4%) Users that have less than 1 test interactions\n",
      "EvaluatorHoldout: Processed 35586 (100.0%) in 37.05 sec. Users per second: 961\n",
      "P3alphaRecommender: Similarity column 38121 (100.0%), 1805.78 column/sec. Elapsed time 21.11 sec\n",
      "EvaluatorHoldout: Ignoring 167 ( 0.5%) Users that have less than 1 test interactions\n",
      "EvaluatorHoldout: Processed 35569 (100.0%) in 37.27 sec. Users per second: 954\n",
      "P3alphaRecommender: Similarity column 38121 (100.0%), 1821.93 column/sec. Elapsed time 20.92 sec\n",
      "EvaluatorHoldout: Ignoring 172 ( 0.5%) Users that have less than 1 test interactions\n",
      "EvaluatorHoldout: Processed 35564 (100.0%) in 36.96 sec. Users per second: 962\n"
     ]
    },
    {
     "name": "stderr",
     "output_type": "stream",
     "text": [
      "[I 2025-01-07 10:04:36,195] Trial 673 finished with value: 0.044063439974280035 and parameters: {'topK': 118, 'alpha': 1.2691082141788725, 'normalize_similarity': True, 'implicit': False}. Best is trial 595 with value: 0.053754418047188966.\n"
     ]
    },
    {
     "name": "stdout",
     "output_type": "stream",
     "text": [
      "P3alphaRecommender: Similarity column 38121 (100.0%), 3339.55 column/sec. Elapsed time 11.42 sec\n",
      "EvaluatorHoldout: Ignoring 173 ( 0.5%) Users that have less than 1 test interactions\n",
      "EvaluatorHoldout: Processed 35563 (100.0%) in 25.34 sec. Users per second: 1403\n",
      "P3alphaRecommender: Similarity column 38121 (100.0%), 3356.38 column/sec. Elapsed time 11.36 sec\n",
      "EvaluatorHoldout: Ignoring 163 ( 0.5%) Users that have less than 1 test interactions\n",
      "EvaluatorHoldout: Processed 35573 (100.0%) in 25.27 sec. Users per second: 1408\n",
      "P3alphaRecommender: Similarity column 38121 (100.0%), 3357.18 column/sec. Elapsed time 11.36 sec\n",
      "EvaluatorHoldout: Ignoring 150 ( 0.4%) Users that have less than 1 test interactions\n",
      "EvaluatorHoldout: Processed 35586 (100.0%) in 25.54 sec. Users per second: 1394\n",
      "P3alphaRecommender: Similarity column 38121 (100.0%), 3341.32 column/sec. Elapsed time 11.41 sec\n",
      "EvaluatorHoldout: Ignoring 167 ( 0.5%) Users that have less than 1 test interactions\n",
      "EvaluatorHoldout: Processed 35569 (100.0%) in 25.73 sec. Users per second: 1382\n",
      "P3alphaRecommender: Similarity column 38121 (100.0%), 3347.98 column/sec. Elapsed time 11.39 sec\n",
      "EvaluatorHoldout: Ignoring 172 ( 0.5%) Users that have less than 1 test interactions\n",
      "EvaluatorHoldout: Processed 35564 (100.0%) in 25.25 sec. Users per second: 1409\n"
     ]
    },
    {
     "name": "stderr",
     "output_type": "stream",
     "text": [
      "[I 2025-01-07 10:07:41,269] Trial 674 finished with value: 0.0002664826418719655 and parameters: {'topK': 0, 'alpha': 0.2341191315962069, 'normalize_similarity': True, 'implicit': False}. Best is trial 595 with value: 0.053754418047188966.\n"
     ]
    },
    {
     "name": "stdout",
     "output_type": "stream",
     "text": [
      "P3alphaRecommender: Similarity column 38121 (100.0%), 2170.21 column/sec. Elapsed time 17.57 sec\n",
      "EvaluatorHoldout: Ignoring 173 ( 0.5%) Users that have less than 1 test interactions\n",
      "EvaluatorHoldout: Processed 35563 (100.0%) in 33.41 sec. Users per second: 1065\n",
      "P3alphaRecommender: Similarity column 38121 (100.0%), 2148.55 column/sec. Elapsed time 17.74 sec\n",
      "EvaluatorHoldout: Ignoring 163 ( 0.5%) Users that have less than 1 test interactions\n",
      "EvaluatorHoldout: Processed 35573 (100.0%) in 33.39 sec. Users per second: 1065\n",
      "P3alphaRecommender: Similarity column 38121 (100.0%), 2134.36 column/sec. Elapsed time 17.86 sec\n",
      "EvaluatorHoldout: Ignoring 150 ( 0.4%) Users that have less than 1 test interactions\n",
      "EvaluatorHoldout: Processed 35586 (100.0%) in 33.66 sec. Users per second: 1057\n",
      "P3alphaRecommender: Similarity column 38121 (100.0%), 2131.93 column/sec. Elapsed time 17.88 sec\n",
      "EvaluatorHoldout: Ignoring 167 ( 0.5%) Users that have less than 1 test interactions\n",
      "EvaluatorHoldout: Processed 35569 (100.0%) in 33.34 sec. Users per second: 1067\n",
      "P3alphaRecommender: Similarity column 38121 (100.0%), 2133.88 column/sec. Elapsed time 17.86 sec\n",
      "EvaluatorHoldout: Ignoring 172 ( 0.5%) Users that have less than 1 test interactions\n",
      "EvaluatorHoldout: Processed 35564 (100.0%) in 33.86 sec. Users per second: 1050\n"
     ]
    },
    {
     "name": "stderr",
     "output_type": "stream",
     "text": [
      "[I 2025-01-07 10:12:07,896] Trial 675 finished with value: 0.05111082622514492 and parameters: {'topK': 48, 'alpha': 0.42292633473570457, 'normalize_similarity': True, 'implicit': False}. Best is trial 595 with value: 0.053754418047188966.\n"
     ]
    },
    {
     "name": "stdout",
     "output_type": "stream",
     "text": [
      "P3alphaRecommender: Similarity column 38121 (100.0%), 2303.71 column/sec. Elapsed time 16.55 sec\n",
      "EvaluatorHoldout: Ignoring 173 ( 0.5%) Users that have less than 1 test interactions\n",
      "EvaluatorHoldout: Processed 35563 (100.0%) in 32.41 sec. Users per second: 1097\n",
      "P3alphaRecommender: Similarity column 38121 (100.0%), 2320.08 column/sec. Elapsed time 16.43 sec\n",
      "EvaluatorHoldout: Ignoring 163 ( 0.5%) Users that have less than 1 test interactions\n",
      "EvaluatorHoldout: Processed 35573 (100.0%) in 32.41 sec. Users per second: 1098\n",
      "P3alphaRecommender: Similarity column 38121 (100.0%), 2317.46 column/sec. Elapsed time 16.45 sec\n",
      "EvaluatorHoldout: Ignoring 150 ( 0.4%) Users that have less than 1 test interactions\n",
      "EvaluatorHoldout: Processed 35586 (100.0%) in 32.24 sec. Users per second: 1104\n",
      "P3alphaRecommender: Similarity column 38121 (100.0%), 2318.43 column/sec. Elapsed time 16.44 sec\n",
      "EvaluatorHoldout: Ignoring 167 ( 0.5%) Users that have less than 1 test interactions\n",
      "EvaluatorHoldout: Processed 35569 (100.0%) in 32.54 sec. Users per second: 1093\n",
      "P3alphaRecommender: Similarity column 38121 (100.0%), 2288.06 column/sec. Elapsed time 16.66 sec\n",
      "EvaluatorHoldout: Ignoring 172 ( 0.5%) Users that have less than 1 test interactions\n",
      "EvaluatorHoldout: Processed 35564 (100.0%) in 32.19 sec. Users per second: 1105\n"
     ]
    },
    {
     "name": "stderr",
     "output_type": "stream",
     "text": [
      "[I 2025-01-07 10:16:19,370] Trial 676 finished with value: 0.05189782858079034 and parameters: {'topK': 24, 'alpha': 0.945589274123847, 'normalize_similarity': True, 'implicit': False}. Best is trial 595 with value: 0.053754418047188966.\n"
     ]
    },
    {
     "name": "stdout",
     "output_type": "stream",
     "text": [
      "P3alphaRecommender: Similarity column 38121 (100.0%), 3523.84 column/sec. Elapsed time 10.82 sec\n",
      "EvaluatorHoldout: Ignoring 173 ( 0.5%) Users that have less than 1 test interactions\n",
      "EvaluatorHoldout: Processed 35563 (100.0%) in 27.12 sec. Users per second: 1311\n",
      "P3alphaRecommender: Similarity column 38121 (100.0%), 3518.50 column/sec. Elapsed time 10.83 sec\n",
      "EvaluatorHoldout: Ignoring 163 ( 0.5%) Users that have less than 1 test interactions\n",
      "EvaluatorHoldout: Processed 35573 (100.0%) in 27.12 sec. Users per second: 1312\n",
      "P3alphaRecommender: Similarity column 38121 (100.0%), 3518.14 column/sec. Elapsed time 10.84 sec\n",
      "EvaluatorHoldout: Ignoring 150 ( 0.4%) Users that have less than 1 test interactions\n",
      "EvaluatorHoldout: Processed 35586 (100.0%) in 27.23 sec. Users per second: 1307\n",
      "P3alphaRecommender: Similarity column 38121 (100.0%), 3537.71 column/sec. Elapsed time 10.78 sec\n",
      "EvaluatorHoldout: Ignoring 167 ( 0.5%) Users that have less than 1 test interactions\n",
      "EvaluatorHoldout: Processed 35569 (100.0%) in 27.49 sec. Users per second: 1294\n",
      "P3alphaRecommender: Similarity column 38121 (100.0%), 3493.17 column/sec. Elapsed time 10.91 sec\n",
      "EvaluatorHoldout: Ignoring 172 ( 0.5%) Users that have less than 1 test interactions\n",
      "EvaluatorHoldout: Processed 35564 (100.0%) in 27.13 sec. Users per second: 1311\n"
     ]
    },
    {
     "name": "stderr",
     "output_type": "stream",
     "text": [
      "[I 2025-01-07 10:19:33,388] Trial 677 finished with value: 0.020217571485928565 and parameters: {'topK': 1, 'alpha': 0.4943603141148381, 'normalize_similarity': True, 'implicit': False}. Best is trial 595 with value: 0.053754418047188966.\n"
     ]
    },
    {
     "name": "stdout",
     "output_type": "stream",
     "text": [
      "P3alphaRecommender: Similarity column 38121 (100.0%), 2075.14 column/sec. Elapsed time 18.37 sec\n",
      "EvaluatorHoldout: Ignoring 173 ( 0.5%) Users that have less than 1 test interactions\n",
      "EvaluatorHoldout: Processed 35563 (100.0%) in 34.22 sec. Users per second: 1039\n",
      "P3alphaRecommender: Similarity column 38121 (100.0%), 2081.46 column/sec. Elapsed time 18.31 sec\n",
      "EvaluatorHoldout: Ignoring 163 ( 0.5%) Users that have less than 1 test interactions\n",
      "EvaluatorHoldout: Processed 35573 (100.0%) in 34.03 sec. Users per second: 1045\n",
      "P3alphaRecommender: Similarity column 38121 (100.0%), 2066.52 column/sec. Elapsed time 18.45 sec\n",
      "EvaluatorHoldout: Ignoring 150 ( 0.4%) Users that have less than 1 test interactions\n",
      "EvaluatorHoldout: Processed 35586 (100.0%) in 34.26 sec. Users per second: 1039\n",
      "P3alphaRecommender: Similarity column 38121 (100.0%), 2027.37 column/sec. Elapsed time 18.80 sec\n",
      "EvaluatorHoldout: Ignoring 167 ( 0.5%) Users that have less than 1 test interactions\n",
      "EvaluatorHoldout: Processed 35569 (100.0%) in 33.94 sec. Users per second: 1048\n",
      "P3alphaRecommender: Similarity column 38121 (100.0%), 2055.85 column/sec. Elapsed time 18.54 sec\n",
      "EvaluatorHoldout: Ignoring 172 ( 0.5%) Users that have less than 1 test interactions\n",
      "EvaluatorHoldout: Processed 35564 (100.0%) in 34.05 sec. Users per second: 1045\n"
     ]
    },
    {
     "name": "stderr",
     "output_type": "stream",
     "text": [
      "[I 2025-01-07 10:24:08,988] Trial 678 finished with value: 0.0496529085032361 and parameters: {'topK': 67, 'alpha': 0.3428088232262387, 'normalize_similarity': True, 'implicit': False}. Best is trial 595 with value: 0.053754418047188966.\n"
     ]
    }
   ],
   "source": [
    "if config['tune_parameters']:\n",
    "    \n",
    "    optuna_study = optuna.create_study(direction='maximize', study_name=f'hyperparameters_tuning_{config[\"model\"]}_{config[\"metric\"]}',\n",
    "                                storage=f'sqlite:///{config[\"database_path\"]}', load_if_exists=True)\n",
    "\n",
    "    optuna_study.optimize(objective_function_P3alpha, timeout=3600*10.5)"
   ]
  },
  {
   "cell_type": "markdown",
   "id": "1ac6df5e",
   "metadata": {
    "papermill": {
     "duration": 0.129521,
     "end_time": "2025-01-07T10:24:09.329906",
     "exception": false,
     "start_time": "2025-01-07T10:24:09.200385",
     "status": "completed"
    },
    "tags": []
   },
   "source": [
    "## Some optuna visualizations on recommender parameters"
   ]
  },
  {
   "cell_type": "code",
   "execution_count": 14,
   "id": "5fbe831c",
   "metadata": {
    "execution": {
     "iopub.execute_input": "2025-01-07T10:24:09.594480Z",
     "iopub.status.busy": "2025-01-07T10:24:09.594092Z",
     "iopub.status.idle": "2025-01-07T10:24:11.196059Z",
     "shell.execute_reply": "2025-01-07T10:24:11.194829Z"
    },
    "papermill": {
     "duration": 1.736461,
     "end_time": "2025-01-07T10:24:11.197893",
     "exception": false,
     "start_time": "2025-01-07T10:24:09.461432",
     "status": "completed"
    },
    "tags": []
   },
   "outputs": [
    {
     "data": {
      "text/html": [
       "<html>\n",
       "<head><meta charset=\"utf-8\" /></head>\n",
       "<body>\n",
       "    <div>            <script src=\"https://cdnjs.cloudflare.com/ajax/libs/mathjax/2.7.5/MathJax.js?config=TeX-AMS-MML_SVG\"></script><script type=\"text/javascript\">if (window.MathJax && window.MathJax.Hub && window.MathJax.Hub.Config) {window.MathJax.Hub.Config({SVG: {font: \"STIX-Web\"}});}</script>                <script type=\"text/javascript\">window.PlotlyConfig = {MathJaxConfig: 'local'};</script>\n",
       "        <script charset=\"utf-8\" src=\"https://cdn.plot.ly/plotly-2.35.2.min.js\"></script>                <div id=\"be9d973d-1edf-44d0-b971-565e59395625\" class=\"plotly-graph-div\" style=\"height:525px; width:1200px;\"></div>            <script type=\"text/javascript\">                                    window.PLOTLYENV=window.PLOTLYENV || {};                                    if (document.getElementById(\"be9d973d-1edf-44d0-b971-565e59395625\")) {                    Plotly.newPlot(                        \"be9d973d-1edf-44d0-b971-565e59395625\",                        [{\"marker\":{\"color\":[0,1,2,3,4,5,6,7,8,9,10,11,12,13,14,15,16,17,18,19,20,21,22,23,24,25,26,27,28,29,30,31,32,33,34,35,36,37,38,39,40,41,42,43,44,45,46,47,48,49,50,51,52,53,54,55,56,57,58,59,60,61,62,63,64,65,66,67,68,69,70,71,72,73,74,75,76,77,78,79,80,81,82,83,84,85,86,87,88,89,90,91,92,93,94,95,96,97,98,99,100,101,102,103,104,105,106,107,108,109,110,111,112,113,114,115,116,117,118,119,120,121,122,123,124,125,126,127,128,129,130,131,132,133,134,135,136,137,138,139,140,141,142,143,144,145,146,147,148,149,150,151,152,153,154,155,156,157,158,159,160,161,162,163,164,165,166,167,168,169,170,171,172,173,174,175,176,177,178,179,180,181,182,183,184,185,186,187,188,189,190,191,192,193,194,195,196,197,198,199,200,201,202,203,204,205,206,207,208,209,210,211,212,213,214,215,216,217,218,219,220,221,222,223,224,225,226,227,228,229,230,231,232,233,234,235,236,237,238,239,240,241,242,243,244,245,246,247,248,249,250,251,252,253,254,255,256,257,258,259,260,261,262,263,264,265,266,267,268,269,270,271,272,273,274,275,276,277,278,279,280,281,282,283,284,285,286,287,288,289,290,291,292,293,294,295,296,297,298,299,300,301,302,303,304,305,306,307,308,309,310,311,312,313,314,315,316,317,318,319,320,321,322,323,324,325,326,327,328,329,330,331,332,333,334,335,336,337,338,339,340,341,342,343,344,345,346,347,348,349,350,351,352,353,354,355,356,357,358,359,360,361,362,363,364,365,366,367,368,369,370,371,372,373,374,375,376,377,378,379,380,381,382,383,384,385,386,387,388,389,390,391,392,393,394,395,396,397,398,399,400,401,402,403,404,405,406,407,408,409,410,411,412,413,414,415,416,417,418,419,420,421,422,423,424,425,426,427,428,429,430,431,432,433,434,435,436,437,438,439,440,441,442,443,444,445,446,447,448,449,450,451,452,453,454,455,456,457,458,459,460,461,462,463,464,465,466,467,468,469,470,471,472,473,474,475,476,477,478,479,480,481,482,483,484,485,486,487,488,489,490,491,492,493,494,495,496,497,498,499,500,501,502,503,504,505,506,507,508,509,510,511,512,513,514,515,516,517,518,519,520,521,522,523,524,525,526,527,528,529,530,531,532,533,534,535,536,537,538,539,540,541,542,543,544,545,546,547,548,549,550,551,552,553,554,555,556,557,558,559,560,561,562,563,564,565,566,567,568,569,570,571,572,573,574,575,576,577,578,579,580,581,582,583,584,585,586,587,588,589,590,591,592,593,594,595,596,597,598,599,600,601,602,603,604,605,606,607,608,609,610,611,612,613,614,615,616,617,618,619,620,621,622,623,624,625,626,627,628,629,630,631,632,633,634,635,636,637,638,639,640,641,642,643,644,645,646,647,648,649,650,651,652,653,654,655,656,657,658,659,660,661,662,663,664,665,666,667,668,669,670,671,672,673,674,675,676,677,678],\"colorbar\":{\"title\":{\"text\":\"Trial\"},\"x\":1.0,\"xpad\":40},\"colorscale\":[[0.0,\"rgb(247,251,255)\"],[0.125,\"rgb(222,235,247)\"],[0.25,\"rgb(198,219,239)\"],[0.375,\"rgb(158,202,225)\"],[0.5,\"rgb(107,174,214)\"],[0.625,\"rgb(66,146,198)\"],[0.75,\"rgb(33,113,181)\"],[0.875,\"rgb(8,81,156)\"],[1.0,\"rgb(8,48,107)\"]],\"line\":{\"color\":\"Grey\",\"width\":0.5},\"showscale\":true},\"mode\":\"markers\",\"name\":\"Feasible Trial\",\"showlegend\":false,\"x\":[1.9555722902370891,1.9451119902075962,1.7041603674865449,1.505154401702621,1.417404807113589,1.429887748017081,0.6423970179752319,1.357324393912698,1.5796611764403068,1.6573015763234014,0.259039498224813,0.009023169374170525,0.017299402340292758,0.05741669922250647,0.43291619988413355,0.3895368099707133,0.9236758405543553,0.2391747392107611,0.7722037747685639,1.1270782733213431,0.2985411909626277,0.0017162766615581183,0.14459969802008343,0.5599915376809156,0.5812080291300891,0.5102570969146578,0.22919558780975743,0.7668253532326018,0.33619034800127023,1.0633881794880087,0.6766890326896323,0.7039495572064933,0.8844159780371044,0.2131957245488712,0.47485156287817376,0.574233908892971,0.10992686396759538,1.2101192102741831,0.3784090900895734,1.9022453793230083,0.3660741625786829,0.6397588510717156,0.14701427855027074,0.4727310234549015,0.26510340366778407,0.7793874438330077,0.5467916658262164,0.33679676849763707,0.07978912869645305,0.9206078425164291,0.4076427685325944,0.7094347586149212,0.668182561752386,0.848680880583546,0.17504588313995484,0.9940586966767009,0.596323803099865,0.4155696012952391,0.7300889084614393,0.7026659998723025,1.2587097134982606,0.8226962402219791,0.4968729307331387,0.5021039955142267,0.7208562371905738,0.4893319886324915,0.49464939326422325,0.2865429878389075,0.6381872933570667,0.030385557205286684,0.6095385251915566,0.5313224598605867,0.4647212342347552,0.6560616524933051,0.650752516464808,0.31763081121375114,0.21126695358820613,0.4267861093987477,0.5459638645694592,0.8001884544805936,0.09578152435076426,1.0010919088318104,0.7950044110954735,0.6528845026555389,0.8686452399747855,0.5219055435571492,0.5950609222707803,0.7584562694479525,0.45561107720649413,0.3787727339565327,0.25881816157705617,0.7691591857526583,0.6778059048614092,0.6749715864565274,0.6180208184965519,0.7414105503298687,0.5553121477748694,0.9199117843582898,0.5039640716484797,0.6704274210455656,0.19357071407470383,0.8235823673862037,0.8299408357816291,0.7038677874082406,0.5772227777273413,0.9627241371928188,0.742368111052462,0.8961852086316883,0.6338913908159787,0.8460819589168291,0.1586491656004776,0.8225077290647852,0.7618321041561548,0.6583349373649502,0.6789599869812522,1.0775051301164722,0.3543262304602782,0.43423386096461297,0.602547150467961,1.7286336439736891,0.4851087227011725,0.7069993242156728,0.8142271556988062,0.644933766546533,0.04504424348085013,0.5642599143266227,0.5220220431518023,0.5293533995293002,0.30698068395560196,0.49877319348182425,0.40311038526825405,0.4083906234953192,0.4700130398125544,0.5764571058788258,0.4332367982573321,0.37960263756498636,0.3726199860245315,0.28642614087400553,0.5372572418525191,0.2414509904925934,0.13051411228117996,0.21892288364838153,0.18408104329372876,0.3298703606035894,0.24272445566827786,0.2254262440401089,0.3577549363475985,0.26254144173877386,0.11172958775022032,0.3949603199965616,0.6194822005755359,0.0763699851597649,0.05124875194521569,0.05633771745197805,0.08011178552421945,0.014400856065544018,0.1282190724068411,0.00780784404479734,0.1872162133647409,0.3184364984395813,0.684602477163826,0.7293135140343755,0.6528933866301747,0.719504196981361,0.4531970682327979,0.5838316183764864,0.6292679285876068,0.2727122675345214,0.15605597925873946,0.22738529911600316,0.15462086590885787,0.6754142551196689,0.08051724095874796,0.10356321239964451,0.7851582643799528,0.17249124557091433,0.5409981518276129,0.7469505168265322,0.21952898847522254,0.411915602914322,0.6033163772172552,0.6493811217171951,0.730725279178008,0.6535974702092937,0.691235358346056,0.5190039419469052,0.6396689405479431,0.4706785708738227,0.5923027782159911,0.14605065182844562,1.991282266522873,0.750689965843235,0.7191887505908455,0.6951791764753091,0.6499203045289901,0.55883632567692,0.7826164143706671,1.4078367965295273,0.7114321432755171,0.33515171454889386,1.5335079283085307e-06,0.7243938595668475,0.6646007887478794,0.6259315858021324,0.6864345356931131,0.2974544010107464,0.6035303526255554,0.6519600925434839,0.5022846351434787,0.5660578921196558,0.6479388777849419,0.6785283907693364,0.6129007711260249,0.6713430289833643,0.25396226040908904,0.23901463692069994,0.1899513283700905,0.2853637863575599,0.3581055898861555,0.05908681944138008,0.1087472039846413,0.6592893321370048,0.24290548115696284,0.20267863088948618,0.24968308020485022,0.20123006253876735,0.17136075168902892,0.255312654825196,0.4005707845063343,0.32402761881440634,0.21634974720973704,0.26373652352777166,0.37772391875796874,0.4472959895878147,0.2916765845546186,0.2782359611409385,0.4068369358682918,0.4064092884954983,0.38359123041301385,0.39584372010119573,0.43717159227516905,0.4546445506639781,0.3478487004908362,0.40421419625181715,0.4857190399469833,0.44441513783810827,0.35687267440624304,0.3135275919343732,0.4283224438564439,0.3777147306316379,0.5062029226816227,0.24007301266396938,0.24256913110221529,0.2655753437080081,0.21897694593597253,0.33432834030229686,0.19247862856267825,0.31094151925191293,0.30596343829496886,0.2793742051156507,0.3781357190110007,0.31649797307755767,0.2413269725943298,0.15649398630917216,0.34524926005928525,0.4251504272426689,0.41961256823177634,0.39444137310042565,0.4466628215308672,0.26533692245492035,0.2082525971956478,0.3465167747512839,0.2982543781895113,0.3776585308151857,1.5973131070456343,0.22431794145994055,0.4245193088379381,0.48007663942022205,0.32319605314516087,0.15257564403824003,0.26580693018896945,0.27282641840408856,0.36438430506535036,0.28264224391235176,1.2296896840771774,0.4197213668233392,0.3281389350595773,0.4592741476239715,0.4724543880905522,0.5088462103743839,0.47005982281520753,1.8320596842865247,0.529177890111326,0.46509752904679036,0.38725762546155135,0.5472994669367118,0.5132384351564557,0.49916300323837914,0.5469386340835891,0.4402413432908254,0.5646845287192743,0.4772546168254802,0.5470330110067754,0.5910645400179868,0.46368789870744526,0.40673929650710816,0.14170995055440871,0.18983451516197627,0.4576943880670317,0.5283405782135544,0.3927643659317568,0.25361308636879887,0.35665642713004386,0.49637695581408986,0.4186431014877718,0.5853693877893372,0.2881961031027166,0.22672596444379178,0.44331273212722155,0.5042563497886698,0.4389785933530354,0.4534855302108318,0.42584318019180106,0.45856833036455635,0.37569267272256596,0.5334343185541583,0.5489613947103209,0.5059830887168739,0.47790499773834777,0.42416858902705806,0.5263724791167886,0.3850942954558019,0.47774616364876354,0.5742145996324565,0.43249513214670704,0.3440258204871688,0.3599589224638134,1.1601414781832446,0.31317637616714905,0.3592455708529556,0.38865065063361653,0.32471943230133676,0.3374647657304024,0.28021218877396836,0.6076713941769429,0.5395374501972943,0.41607250514445776,0.49743005123784934,0.39369305197768356,0.18074810591386858,0.2915180707607743,0.3414566595896635,0.5423311832874356,0.4683477989453775,0.2601092922043458,0.4032818723185997,0.35486707659250044,0.38893965763833094,0.3928098685774739,0.3223521736976948,0.378046942843158,0.41561017098051894,0.31411889165566836,0.2208672205002095,0.35827394018813286,0.3616440644953478,0.28560449372401453,0.3499364352399933,0.359574851056809,0.30966025944299075,0.38998581916658,0.2562741311070808,0.33535045091029636,0.2905303546987889,0.9617640353695214,0.1293315558607037,0.37951056450383974,0.19491022563939542,1.2988593571942095,1.0611913364042045,0.34821212060519724,0.4019302723242262,0.2587616797746707,0.4206944455929249,0.30798435188329276,0.16728998666177286,0.2266497296998266,0.34226934445318347,0.3744621535096698,0.4173243771137701,0.4467648828590439,0.2740995778919141,0.3997048536625302,0.2183528844299757,0.3251349327716018,0.37442491853425486,0.47465443865563817,1.463295895691413,0.29244730524160234,0.42967651163182174,0.25212521116389414,0.3711810777421322,0.17570016856876244,0.31072851594665984,0.49260066282374115,0.4502718344214988,0.5752587784492469,0.395181857114714,0.11892577233308266,0.42389899209481663,0.5089249048451545,0.4936194458842714,0.5251954390275875,0.5382248170227418,0.5222628340692116,0.5621843211776107,0.4737392593830484,0.4884996588771578,0.5110176686171496,0.5915328926613894,0.44345543054218783,0.5242419452538631,0.46161544282684563,0.220655505406154,0.40018190368334194,0.5685214049321471,0.18103863869009068,0.5124765869690351,0.45842669266460784,0.37979412747060143,0.38012706509546434,0.26124060856470405,0.3099043592539802,0.3706558713933226,0.33912516279110083,0.6151911699133924,0.21126044588703025,0.41778772059782526,0.30779831672553776,0.14891757194930638,0.24541444885913863,0.3911326801862697,0.28237216099949375,0.3532195739058696,0.10139974197041582,0.4187563457650106,0.5694096277322901,0.5337939123925559,0.4827501744728803,0.3806578556434539,0.20233414401634756,0.2739604703816118,0.3372108190988191,0.8648952671089667,0.44307668220856666,0.4015065643420961,0.49065996251354094,0.5445864705311206,0.546251220968084,0.5688486445543975,0.617262096096329,0.6095820647361629,0.5831037804683844,0.5747602154195747,0.6319000821891422,0.5318771758589255,0.5452665285715425,0.5105283045999465,0.5855037538440664,0.534261840467882,0.6130228049316034,0.4968267224984268,0.5623441428317282,0.15098918717451001,0.23559798263708837,0.4939798202232043,0.19691014749278274,0.5566198135301372,0.46573495720853186,0.5233755270752316,0.23704029682645666,0.28313861895191794,0.5855692163859705,0.46666526028997457,0.17139043737274473,0.5113590019013392,0.6344332458774624,0.3106586506591507,0.5481390233108768,0.4488496282515151,0.2321723745860878,0.27739872041820646,0.4436140502198942,0.44060926912185444,0.42168961597220395,0.33283383703818936,0.12731963682978803,1.6948078582675987,0.47131103827874377,0.35648098729793865,0.43037146787929187,0.2765870481880731,0.19549192170610377,0.19023701418523042,0.14754752238586777,0.19731963383981518,0.11613224445929254,0.25075299031565007,0.07779472482770286,0.20601844070638023,0.16593388715639823,1.8828044345061357,0.24065424871940003,0.3100677459673989,0.3522236547673663,0.3165308026152184,0.3407444031839244,0.28409704832221483,0.3844321964106261,0.3564008674637297,0.2630941532342521,0.38866910492576495,0.3373880723998864,0.2220978611177834,0.2997471159862314,0.2985057669665975,0.2602394249561873,0.3068027684763905,0.3477644236717488,0.2431201917458803,0.3288775399776981,0.2834596320952038,0.3986354486940008,0.1959882697937612,0.3576958393105565,0.3079639895296718,0.23764904073259957,0.15641524166478055,0.40873675519064934,0.36899670134569673,0.267509430686707,0.21192404876278215,0.30896622386721495,0.3647813326137363,1.5341110720525144,0.4285519102005176,1.3706662789400421,0.3305113059417045,0.3995109809168195,0.18336369143406084,0.2669562353513171,0.10504632785542875,0.2268561261217963,0.3698958093727899,0.299020039560865,0.41470272519669144,0.33722463198573943,1.1356843790208597,0.27950897235825767,0.16045148698415115,0.4335825674193548,0.36990301482650967,0.400742487376947,0.45287653839939135,0.37634480752328503,1.048605456865753,0.4060539448268241,0.44617126555894315,0.3574652385933538,0.9045865164444822,0.33942101360736654,0.46517873359325435,0.4137719157375631,0.4186617941758802,0.4018127067152234,0.3760675536024408,0.45309048156207055,0.4311729331022282,0.37602664194669505,0.48119786116774727,0.404726128804511,0.34447718433198277,0.469592010416339,0.4373920953225161,0.4002775980614107,0.3340922062682572,0.3875124080376421,0.6951224079878651,0.4859286365296607,0.3654287374722776,0.43237450862680316,0.31407223251950256,0.36360965379579047,0.06409289953312647,0.43957349353675323,0.47871515252597385,0.47485647835341216,0.4560615580803314,0.4947397450804422,0.5086397616625339,0.4546070148200009,0.4288844970575147,0.48578769241017217,0.4222749971936572,0.9915220658265836,0.5056285874788823,0.39045803315332006,0.4480537042446385,0.33667226983998355,0.5933968962608995,0.6575601421995252,0.4037513872120202,0.4759785441308085,0.31003192945506663,0.3636758896241006,0.7925670739642184,0.43382972564724415,0.5336607870480585,0.38244663872424134,0.26556892254218717,0.4874052385832388,0.3236134037081656,0.4345279569033213,0.7489122925244381,0.3643517975414091,0.6091616423804489,0.40306779700083367,0.5591228017037698,0.29870686671156227,0.4575592241738162,0.34348039067117975,0.24846250242198575,0.5109145657652643,0.4099825428754731,0.2920753294270978,0.4671786473077054,0.3742692877805437,0.5203812570252863,0.3330290617184706,0.41806701968877746,0.2755690501833715,0.4571256800998076,0.2141769339278622,0.5605486932739036,0.6224930374175776,0.37098498683730907,0.4852564729946459,0.4156956507226577,0.31908289238053866,0.24407154384275903,0.3598146453332335,0.4437068628525257,0.6666522994158501,0.515884342834167,1.8152726026328039,0.3887392539103491,0.3006441254981992,0.565351025021448,0.41465209003085735,0.3475409548362107,0.483576177820835,0.7104124103913728,0.20828475972184166,0.26562194244322507,0.4436101741448826,0.3223574470208811,0.38063957416347605,0.5277590137602234,0.5993581258653509,0.3928562904067425,0.2775945488458666,0.4687211964014987,0.3482883353723918,1.2691082141788725,0.2341191315962069,0.42292633473570457,0.945589274123847,0.4943603141148381,0.3428088232262387],\"y\":[0.03324698331399583,0.026332902930887934,0.030469137563298575,0.03444987576203394,0.04814619271239208,0.038066821299608235,0.03313890578532456,0.035480558776875615,0.03795740934127874,0.031156855638856097,0.05370249298547826,0.053043338860751556,0.049358568615201014,0.04046620173964342,0.04135830475866652,0.03482896954916652,0.04154041337618398,0.03462141000783664,0.046612718601797054,0.037526935207238,0.043719300306238565,0.045391643727781025,0.03855362113289444,0.05005819010027681,0.039473372363462364,0.03480637042849982,0.03369956604439408,0.0399559022002486,0.045554766209695396,0.0377710062570645,0.05345532201680157,0.049179364245239526,0.045038814489735374,0.042924297756840736,0.04001730686109394,0.040681947973510366,0.03255432649509493,0.039981091096421034,0.0503522003189274,0.03981101195489917,0.032811783069301007,0.049862294786565405,0.04851576479166418,0.02024138376707917,0.04170481583937038,0.04767053965435942,0.04313826063367159,0.03283938541515903,0.03278310247782083,0.037876718506305,0.040726692725909806,0.050762033934032155,0.04610049465209755,0.035598704019295734,0.044183615546848895,0.04990649894396905,0.04210634543158245,0.047338175501152914,0.05084595784289079,0.03654701218043085,0.042371475724924626,0.048460256440363954,0.052472475068935306,0.052887525248913415,0.04626885698320693,0.05317992334355266,0.04275097241274065,0.034748374854042384,0.052153755408722705,0.03966879729859924,0.03456739709318828,0.04381019379874547,0.04726398158402837,0.05265843147113376,0.05331823873229896,0.045087667532495476,0.020770348777273694,0.047398026686143964,0.0389465853039739,0.05219137903797115,0.04709926993082188,0.0508971605112515,0.05151212750052316,0.048758814503789674,0.04242500361269015,0.04710632376294343,0.03531964393831496,0.052457237175554304,0.045799822985578484,0.033738054775223146,0.0488217757697453,0.051946099320358693,0.05278336944453671,0.04705396776723112,0.049838598061873234,0.043675457175516186,0.04587686254833845,0.04662172783159644,0.05218017043087157,0.0494985524929483,0.04088362422565477,0.05221018954207535,0.05253647896025815,0.04302974775721296,0.04816109208279552,0.04896643161435016,0.045115575584085396,0.04286887657038844,0.04155131211473144,0.049748990510831904,0.03438504613986426,0.0528663253282279,0.04815928395451181,0.053184673529307856,0.051916487103832246,0.043299638979650404,0.04754727094759563,0.05076538637504058,0.04623849148207724,0.047417452844366215,0.02022282504685614,0.05026288773688968,0.048146784203736005,0.033965166850007285,0.051114131635104296,0.036454444441654986,0.05341465722787142,0.03552890563535609,0.03666385268601502,0.04671620191668675,0.053604758640113416,0.037257922932716854,0.05125645218515289,0.04907912984206813,0.052227000936113085,0.05341870658574962,0.04766486170283768,0.03341205827496927,0.050080152181557966,0.05328353864373002,0.0002664826418719655,0.05353499815479453,0.05007783008052824,0.020625866865305254,0.0368139763138582,0.04765859233065183,0.04512944980534381,0.05184343676719398,0.048504895493151595,0.0331849856244731,0.04121725363851465,0.05282848818748159,0.05191767159807118,0.05251727378020658,0.048936109878433595,0.044208576613926395,0.0471758536609599,0.04945865583313777,0.05238245591016597,0.046327703480299236,0.04987587977943793,0.052723232440028765,0.052742427144316886,0.0002664826418719655,0.04871490000398578,0.05215845464194435,0.05080581134781799,0.04797725966127435,0.05328432894531375,0.03825159292314441,0.04913631963637322,0.03644820818813297,0.05232801211309551,0.05058215622683474,0.0002664826418719655,0.05255776313824743,0.04746732427685902,0.04890617255157278,0.052448670670091325,0.04694639389465257,0.04371043937336743,0.053138127327039986,0.052718246880571085,0.01961097420207157,0.04893820996096516,0.05254108530861705,0.0002664826418719655,0.05021489654233825,0.04738824552417005,0.050559405869964304,0.04223967199505846,0.052636546251000324,0.05274947957147995,0.0002664826418719655,0.051100629641741335,0.04984303897361041,0.05224156680194235,0.04476627402902931,0.04556134751061881,0.0512478898108774,0.05254800497278619,0.052570520624497505,0.05309453242412906,0.05005515614018681,0.049260964973266985,0.04913904231473435,0.050933518728898494,0.052940203076757786,0.0002664826418719655,0.04743906713380423,0.0447716937735021,0.05278340209256904,0.05218999514565716,0.048792968009973195,0.053301229217860034,0.05051208651483021,0.049730293864476915,0.05247715393762241,0.04795038885116478,0.04968247262213467,0.05213521401905165,0.01958306821780261,0.05294787340695032,0.052965634437134465,0.03750764346191856,0.050354025210916684,0.048068647868180395,0.050820098983822684,0.053192171650747425,0.0002664826418719655,0.04889540237577561,0.05298924866125896,0.052676630927969856,0.0002664826418719655,0.05146360592161434,0.05087833720645489,0.05328716987791245,0.049349621094694415,0.05341014175498473,0.05072096751384281,0.05319565120216119,0.020298223986877865,0.0528349634064809,0.03643449682323522,0.052779333619889755,0.04949095586367009,0.051312590526507496,0.0002664826418719655,0.04782487103874401,0.05267665454289437,0.05012491176372837,0.05307640278752486,0.030592871249155235,0.0002664826418719655,0.033483224130800245,0.04853853410290045,0.05057667619140397,0.052905302300901694,0.04662810288686135,0.052785807574896905,0.05072517009082791,0.05302427246524616,0.048255091838980024,0.05000258676611448,0.02063139597007708,0.05298316341498076,0.04908773048570615,0.05153131274652325,0.04718594425190997,0.02071495386353738,0.03667497071865735,0.049805236911150165,0.05278226546063021,0.0002664826418719655,0.0453107318146697,0.04738244317335088,0.05120312631972691,0.0523194585871497,0.033321802671932056,0.048360619857158,0.05330605795609156,0.053421441611220755,0.05011568507579704,0.0002664826418719655,0.043880011341689215,0.051015829896634536,0.048569456424178106,0.053181993383246626,0.05342114833437674,0.0370023087688049,0.0393580630137986,0.044417733669923416,0.04928352260680933,0.0002664826418719655,0.05159836205404498,0.053226070133459424,0.033593167746711707,0.04694705511051811,0.04918009342818756,0.0002664826418719655,0.050757086473957644,0.05291267410433097,0.04832338315082683,0.052800107254639274,0.05075063002723542,0.039958579053552365,0.044211670008936534,0.03513044170799907,0.03725711421479812,0.04458412125692145,0.0002664826418719655,0.050134267717387215,0.048198007479569954,0.05297733588587722,0.0513419833324078,0.046630610816760384,0.04995732258019859,0.03250135757746272,0.05309608844642524,0.0002664826418719655,0.053115138222547195,0.0485426891786735,0.03506109496076011,0.05247405672320217,0.05042900647211144,0.053219681790958706,0.049023859745606115,0.050840845206065036,0.0002664826418719655,0.047042243192549224,0.04400429633060646,0.051190866564585116,0.04580131881466834,0.04858292285739425,0.0002664826418719655,0.053184442633366635,0.050110715185494537,0.050371721440861085,0.0002664826418719655,0.047785446943191236,0.05103717718579069,0.049340733488470664,0.05305947173860868,0.05130618774841469,0.047435263946884174,0.02007441160344,0.04979230513355574,0.05307405198996862,0.0002664826418719655,0.05060841958123731,0.02927803985843553,0.04864349977774612,0.05274203023088357,0.04625072463247637,0.05116258183145974,0.053191736145366916,0.049389023399662016,0.053205501229680076,0.05051442608080654,0.04807129692627238,0.0002664826418719655,0.05277851026735767,0.05084965648001623,0.04683345588968544,0.05318343057050301,0.05330300093871647,0.048958902826168625,0.053080103299979677,0.03730927269301402,0.05051600632698126,0.03898604659114761,0.03548578176395485,0.05129950212254072,0.020754137387667994,0.044375912809123966,0.048967001968867885,0.05310487636169009,0.050771625253807254,0.0002664826418719655,0.04533291152708037,0.0526433046575437,0.049201143504004806,0.0002664826418719655,0.051016059651910785,0.05260750852969994,0.04811840246061358,0.05281346840798169,0.0502311954002998,0.053290539549150515,0.04739740245097478,0.05063721353675554,0.04395810848482335,0.030199508301712075,0.05313094859470495,0.049210747519225856,0.038262328053049924,0.020247560709111764,0.04682259831335464,0.04772214187686012,0.03774681121102223,0.052847758354719186,0.05019948065635708,0.05288581883174122,0.0002664826418719655,0.0465691328902873,0.04917604364989033,0.051141739488587155,0.05329199322311109,0.033845634725264896,0.04859997697479275,0.05325260276122264,0.045563484912983905,0.053231092174650455,0.02006929883263382,0.0002664826418719655,0.05051310528810095,0.04753179272913118,0.04946487540011091,0.05163285768657535,0.034852829366112226,0.03555118091919194,0.0521564103981937,0.0002664826418719655,0.04915038377642298,0.05340830084328356,0.033977001067100956,0.05093514492684801,0.04845475803253587,0.0002664826418719655,0.053198648233263736,0.03936238094782014,0.04680131825691733,0.05271034373074329,0.04926216927731234,0.05272854410424118,0.03640940162214149,0.02076949636764042,0.050486416511203426,0.04771072055869466,0.052565096218566455,0.05040589217819526,0.046031040729327774,0.05315179229717726,0.04889570091477457,0.0002664826418719655,0.05102110147661072,0.03424886353482064,0.053031892438765695,0.03979647859217959,0.050723867415145577,0.020811376657922116,0.052548596230326,0.049785967019947704,0.05215388112343311,0.04075452147246874,0.04727935552667801,0.04970689733952483,0.05339153051684285,0.050855057924920344,0.05334709034475429,0.019798829303457374,0.0493924967412415,0.04792883764345963,0.051210761436634666,0.0002664826418719655,0.044765393494891094,0.05153598122737548,0.04624245680660055,0.0383864313606888,0.0002664826418719655,0.04889854617495644,0.05275104218872275,0.05090922854524691,0.052951655775261564,0.0002664826418719655,0.039721255985363024,0.0477857850099169,0.05071024430475531,0.05303276958006624,0.04981366852717408,0.04699002889969203,0.0002664826418719655,0.05187916493510677,0.04901993806948928,0.05265434958527578,0.050465805783102134,0.03725654593118531,0.0527948561914086,0.04144838879166414,0.0002664826418719655,0.04615243674253673,0.050976040604934304,0.05346393778526174,0.05070152354254045,0.052999013632758996,0.0002664826418719655,0.04747779076810771,0.044506621608061764,0.05277860917145566,0.04750489131383462,0.05119848219107702,0.04899959934305564,0.05361747549495834,0.05306862921131865,0.021020863460596513,0.0002664826418719655,0.03371215439975779,0.04873141870897872,0.05037743366598245,0.05276683179818996,0.04717339179653983,0.040901281267907215,0.052833811203558734,0.05004933377092593,0.053291976923241446,0.0002664826418719655,0.050831462439586396,0.04664793171890249,0.04886319138789361,0.052733424240238615,0.03411405493105184,0.05065449654899908,0.04328351937572048,0.0344558206985437,0.05327465792370911,0.0002664826418719655,0.03579440699297698,0.051083072672213646,0.0002664826418719655,0.05105935326394827,0.033956086426831004,0.04887889203956956,0.05298346154200061,0.04626808768330708,0.0002664826418719655,0.05085067781990482,0.05283285937492006,0.04770473414744578,0.05023930463698891,0.05309551099246711,0.05286009541605554,0.04925292810577507,0.0002664826418719655,0.04734105278637962,0.046217656431506625,0.05298899704178896,0.0002664826418719655,0.049162547479723075,0.04001399237777069,0.04510624650908464,0.04783471831975102,0.04040734818808826,0.052354820017498215,0.0002664826418719655,0.049952352856993176,0.05288723820960998,0.04987685624982983,0.04555739481079582,0.05300637126979988,0.050955427409444164,0.04941570427465221,0.05329086789011413,0.05120139948250054,0.046984243779065085,0.040842829460374354,0.0002664826418719655,0.0002664826418719655,0.04911232466509683,0.051316416922226805,0.03724358415116223,0.0485535088993726,0.051271951718733076,0.0534774925769814,0.0531225964490656,0.046301500943758,0.05020901456221936,0.05317848507988103,0.047941101157181525,0.0002664826418719655,0.05086911090502766,0.05311129292714554,0.04448652947298679,0.049098444443341424,0.02045930909349004,0.04003142089799762,0.0002664826418719655,0.04962102902597464,0.052635919303839415,0.04706174483481943,0.05132229714078653,0.04839024336358964,0.050849771288954404,0.05256590962594632,0.04873241148001733,0.05370769070711755,0.053754418047188966,0.05319035471003798,0.037127182482869364,0.05034034434603234,0.04775063752742309,0.033218751644281605,0.0002664826418719655,0.052779987889371126,0.050803934459811115,0.04686765576702299,0.04841380576262485,0.05021250453782855,0.0002664826418719655,0.05283076526473394,0.04660816519098536,0.03416685079311225,0.04997356531368875,0.0002664826418719655,0.05109701076491393,0.04825881140102428,0.04486097368791201,0.05289841125095927,0.05116819572950053,0.03718470405126187,0.05299742031406762,0.0002664826418719655,0.04898875355829823,0.05111619983404867,0.044035710792093063,0.0002664826418719655,0.05241835329593303,0.0492101997519559,0.0382205602237922,0.036345725196191954,0.052995766233788454,0.03536472920991992,0.050129033840491485,0.0002664826418719655,0.05080398341643451,0.03836860260798801,0.04716058055955153,0.052669534579589485,0.04936561516992773,0.05318549444045049,0.05121092353918908,0.04622669442013204,0.048913585923876346,0.053242522473897456,0.0454305203289052,0.050263135194122385,0.02057138510120817,0.0482667893244886,0.051094100203623025,0.05302314731676028,0.0002664826418719655,0.049400300030439444,0.05135600257581754,0.04564311992759966,0.047731874213846115,0.0002664826418719655,0.051256922358179725,0.04937897977373877,0.05285317278632853,0.03367474683176884,0.05307329063603559,0.034406556408126863,0.04356907116756757,0.0002664826418719655,0.050189438061637316,0.052698532916004515,0.04963537883265183,0.05296847959613714,0.040306592405151484,0.050691137682658226,0.047917696886013286,0.043932114395565484,0.05264548032172407,0.049370557120269026,0.044063439974280035,0.0002664826418719655,0.05111082622514492,0.05189782858079034,0.020217571485928565,0.0496529085032361],\"type\":\"scatter\",\"xaxis\":\"x\",\"yaxis\":\"y\"},{\"marker\":{\"color\":[0,1,2,3,4,5,6,7,8,9,10,11,12,13,14,15,16,17,18,19,20,21,22,23,24,25,26,27,28,29,30,31,32,33,34,35,36,37,38,39,40,41,42,43,44,45,46,47,48,49,50,51,52,53,54,55,56,57,58,59,60,61,62,63,64,65,66,67,68,69,70,71,72,73,74,75,76,77,78,79,80,81,82,83,84,85,86,87,88,89,90,91,92,93,94,95,96,97,98,99,100,101,102,103,104,105,106,107,108,109,110,111,112,113,114,115,116,117,118,119,120,121,122,123,124,125,126,127,128,129,130,131,132,133,134,135,136,137,138,139,140,141,142,143,144,145,146,147,148,149,150,151,152,153,154,155,156,157,158,159,160,161,162,163,164,165,166,167,168,169,170,171,172,173,174,175,176,177,178,179,180,181,182,183,184,185,186,187,188,189,190,191,192,193,194,195,196,197,198,199,200,201,202,203,204,205,206,207,208,209,210,211,212,213,214,215,216,217,218,219,220,221,222,223,224,225,226,227,228,229,230,231,232,233,234,235,236,237,238,239,240,241,242,243,244,245,246,247,248,249,250,251,252,253,254,255,256,257,258,259,260,261,262,263,264,265,266,267,268,269,270,271,272,273,274,275,276,277,278,279,280,281,282,283,284,285,286,287,288,289,290,291,292,293,294,295,296,297,298,299,300,301,302,303,304,305,306,307,308,309,310,311,312,313,314,315,316,317,318,319,320,321,322,323,324,325,326,327,328,329,330,331,332,333,334,335,336,337,338,339,340,341,342,343,344,345,346,347,348,349,350,351,352,353,354,355,356,357,358,359,360,361,362,363,364,365,366,367,368,369,370,371,372,373,374,375,376,377,378,379,380,381,382,383,384,385,386,387,388,389,390,391,392,393,394,395,396,397,398,399,400,401,402,403,404,405,406,407,408,409,410,411,412,413,414,415,416,417,418,419,420,421,422,423,424,425,426,427,428,429,430,431,432,433,434,435,436,437,438,439,440,441,442,443,444,445,446,447,448,449,450,451,452,453,454,455,456,457,458,459,460,461,462,463,464,465,466,467,468,469,470,471,472,473,474,475,476,477,478,479,480,481,482,483,484,485,486,487,488,489,490,491,492,493,494,495,496,497,498,499,500,501,502,503,504,505,506,507,508,509,510,511,512,513,514,515,516,517,518,519,520,521,522,523,524,525,526,527,528,529,530,531,532,533,534,535,536,537,538,539,540,541,542,543,544,545,546,547,548,549,550,551,552,553,554,555,556,557,558,559,560,561,562,563,564,565,566,567,568,569,570,571,572,573,574,575,576,577,578,579,580,581,582,583,584,585,586,587,588,589,590,591,592,593,594,595,596,597,598,599,600,601,602,603,604,605,606,607,608,609,610,611,612,613,614,615,616,617,618,619,620,621,622,623,624,625,626,627,628,629,630,631,632,633,634,635,636,637,638,639,640,641,642,643,644,645,646,647,648,649,650,651,652,653,654,655,656,657,658,659,660,661,662,663,664,665,666,667,668,669,670,671,672,673,674,675,676,677,678],\"colorbar\":{\"title\":{\"text\":\"Trial\"},\"x\":1.0,\"xpad\":40},\"colorscale\":[[0.0,\"rgb(247,251,255)\"],[0.125,\"rgb(222,235,247)\"],[0.25,\"rgb(198,219,239)\"],[0.375,\"rgb(158,202,225)\"],[0.5,\"rgb(107,174,214)\"],[0.625,\"rgb(66,146,198)\"],[0.75,\"rgb(33,113,181)\"],[0.875,\"rgb(8,81,156)\"],[1.0,\"rgb(8,48,107)\"]],\"line\":{\"color\":\"Grey\",\"width\":0.5},\"showscale\":false},\"mode\":\"markers\",\"name\":\"Feasible Trial\",\"showlegend\":false,\"x\":[false,true,true,true,false,true,true,false,false,true,false,false,false,false,false,false,false,false,false,false,false,false,false,false,false,false,false,false,false,false,false,false,false,false,true,false,true,false,true,true,true,true,true,true,true,false,true,false,false,false,true,true,true,true,true,false,true,false,false,false,true,false,false,false,false,false,false,false,false,false,false,false,false,false,false,false,false,false,false,false,false,false,false,false,false,false,false,false,false,false,false,false,false,false,false,false,false,false,false,false,false,false,false,false,false,false,false,false,false,false,false,false,false,false,false,false,false,false,false,false,false,false,false,false,false,false,false,false,false,false,false,false,false,false,false,false,false,false,false,false,false,false,false,false,false,false,false,false,false,false,false,false,false,false,false,false,false,false,false,false,false,false,false,false,false,false,false,false,false,false,false,false,false,false,false,false,false,false,false,true,false,false,false,false,false,false,false,false,false,false,false,false,false,false,false,false,false,false,false,false,false,false,false,false,false,false,false,false,false,false,false,false,false,false,false,false,true,false,false,false,false,false,false,false,false,false,false,false,false,false,false,false,false,false,false,false,false,false,false,false,false,false,false,false,false,false,false,false,false,true,false,false,false,false,false,false,false,false,false,false,false,false,false,false,false,false,false,false,true,false,false,false,false,false,false,false,false,false,false,false,false,false,false,false,false,false,false,false,false,true,false,false,false,false,false,false,false,false,false,false,false,false,false,false,false,false,false,false,true,false,false,false,false,false,false,false,false,false,false,false,false,false,false,false,false,false,false,false,false,true,false,false,false,false,false,false,false,false,false,false,false,false,false,false,false,false,false,false,false,true,false,false,false,false,false,false,false,false,false,false,false,false,false,false,false,false,false,false,false,true,false,false,false,false,false,false,false,false,false,false,false,false,false,false,false,false,false,false,true,true,true,true,true,true,true,true,true,false,false,false,false,false,false,true,false,false,false,false,false,false,false,false,false,false,false,false,false,true,false,false,false,false,false,false,false,false,false,false,false,false,true,false,false,false,false,false,false,false,false,false,false,false,true,false,false,false,false,false,false,false,false,false,false,true,false,false,false,false,false,false,false,false,false,false,false,true,false,false,false,false,false,false,false,false,false,false,true,false,false,false,false,false,false,false,false,false,false,true,false,false,false,false,false,false,false,false,false,false,false,true,false,false,false,false,false,false,false,false,false,false,false,true,false,false,false,false,false,false,false,false,false,false,true,false,false,false,false,false,false,false,false,false,false,false,true,false,false,false,false,false,false,false,false,false,false,true,false,false,false,false,false,false,false,false,false,false,true,false,false,false,false,false,false,false,false,false,false,false,true,false,false,false,false,false,false,false,false,false,false,false,true,false,false,false,false,false,false,false,false,false,false,true,false,false,false,false,false,false,false,false,false,false,false,false,true,false,false,false,false,false,false,false,false,false,false,true,false,false,false,false,false,false,false,false,false,false,true,false,false,false,false,false,false,false,false,false,false,false,true,false,false,false,false,false,false,false,false,false,false,true,false,false,false,false,false,false,false,false,false,false,true,false,false,false,false,false,false,false,false,false,false,true,false,false,false,false,false,false,false],\"y\":[0.03324698331399583,0.026332902930887934,0.030469137563298575,0.03444987576203394,0.04814619271239208,0.038066821299608235,0.03313890578532456,0.035480558776875615,0.03795740934127874,0.031156855638856097,0.05370249298547826,0.053043338860751556,0.049358568615201014,0.04046620173964342,0.04135830475866652,0.03482896954916652,0.04154041337618398,0.03462141000783664,0.046612718601797054,0.037526935207238,0.043719300306238565,0.045391643727781025,0.03855362113289444,0.05005819010027681,0.039473372363462364,0.03480637042849982,0.03369956604439408,0.0399559022002486,0.045554766209695396,0.0377710062570645,0.05345532201680157,0.049179364245239526,0.045038814489735374,0.042924297756840736,0.04001730686109394,0.040681947973510366,0.03255432649509493,0.039981091096421034,0.0503522003189274,0.03981101195489917,0.032811783069301007,0.049862294786565405,0.04851576479166418,0.02024138376707917,0.04170481583937038,0.04767053965435942,0.04313826063367159,0.03283938541515903,0.03278310247782083,0.037876718506305,0.040726692725909806,0.050762033934032155,0.04610049465209755,0.035598704019295734,0.044183615546848895,0.04990649894396905,0.04210634543158245,0.047338175501152914,0.05084595784289079,0.03654701218043085,0.042371475724924626,0.048460256440363954,0.052472475068935306,0.052887525248913415,0.04626885698320693,0.05317992334355266,0.04275097241274065,0.034748374854042384,0.052153755408722705,0.03966879729859924,0.03456739709318828,0.04381019379874547,0.04726398158402837,0.05265843147113376,0.05331823873229896,0.045087667532495476,0.020770348777273694,0.047398026686143964,0.0389465853039739,0.05219137903797115,0.04709926993082188,0.0508971605112515,0.05151212750052316,0.048758814503789674,0.04242500361269015,0.04710632376294343,0.03531964393831496,0.052457237175554304,0.045799822985578484,0.033738054775223146,0.0488217757697453,0.051946099320358693,0.05278336944453671,0.04705396776723112,0.049838598061873234,0.043675457175516186,0.04587686254833845,0.04662172783159644,0.05218017043087157,0.0494985524929483,0.04088362422565477,0.05221018954207535,0.05253647896025815,0.04302974775721296,0.04816109208279552,0.04896643161435016,0.045115575584085396,0.04286887657038844,0.04155131211473144,0.049748990510831904,0.03438504613986426,0.0528663253282279,0.04815928395451181,0.053184673529307856,0.051916487103832246,0.043299638979650404,0.04754727094759563,0.05076538637504058,0.04623849148207724,0.047417452844366215,0.02022282504685614,0.05026288773688968,0.048146784203736005,0.033965166850007285,0.051114131635104296,0.036454444441654986,0.05341465722787142,0.03552890563535609,0.03666385268601502,0.04671620191668675,0.053604758640113416,0.037257922932716854,0.05125645218515289,0.04907912984206813,0.052227000936113085,0.05341870658574962,0.04766486170283768,0.03341205827496927,0.050080152181557966,0.05328353864373002,0.0002664826418719655,0.05353499815479453,0.05007783008052824,0.020625866865305254,0.0368139763138582,0.04765859233065183,0.04512944980534381,0.05184343676719398,0.048504895493151595,0.0331849856244731,0.04121725363851465,0.05282848818748159,0.05191767159807118,0.05251727378020658,0.048936109878433595,0.044208576613926395,0.0471758536609599,0.04945865583313777,0.05238245591016597,0.046327703480299236,0.04987587977943793,0.052723232440028765,0.052742427144316886,0.0002664826418719655,0.04871490000398578,0.05215845464194435,0.05080581134781799,0.04797725966127435,0.05328432894531375,0.03825159292314441,0.04913631963637322,0.03644820818813297,0.05232801211309551,0.05058215622683474,0.0002664826418719655,0.05255776313824743,0.04746732427685902,0.04890617255157278,0.052448670670091325,0.04694639389465257,0.04371043937336743,0.053138127327039986,0.052718246880571085,0.01961097420207157,0.04893820996096516,0.05254108530861705,0.0002664826418719655,0.05021489654233825,0.04738824552417005,0.050559405869964304,0.04223967199505846,0.052636546251000324,0.05274947957147995,0.0002664826418719655,0.051100629641741335,0.04984303897361041,0.05224156680194235,0.04476627402902931,0.04556134751061881,0.0512478898108774,0.05254800497278619,0.052570520624497505,0.05309453242412906,0.05005515614018681,0.049260964973266985,0.04913904231473435,0.050933518728898494,0.052940203076757786,0.0002664826418719655,0.04743906713380423,0.0447716937735021,0.05278340209256904,0.05218999514565716,0.048792968009973195,0.053301229217860034,0.05051208651483021,0.049730293864476915,0.05247715393762241,0.04795038885116478,0.04968247262213467,0.05213521401905165,0.01958306821780261,0.05294787340695032,0.052965634437134465,0.03750764346191856,0.050354025210916684,0.048068647868180395,0.050820098983822684,0.053192171650747425,0.0002664826418719655,0.04889540237577561,0.05298924866125896,0.052676630927969856,0.0002664826418719655,0.05146360592161434,0.05087833720645489,0.05328716987791245,0.049349621094694415,0.05341014175498473,0.05072096751384281,0.05319565120216119,0.020298223986877865,0.0528349634064809,0.03643449682323522,0.052779333619889755,0.04949095586367009,0.051312590526507496,0.0002664826418719655,0.04782487103874401,0.05267665454289437,0.05012491176372837,0.05307640278752486,0.030592871249155235,0.0002664826418719655,0.033483224130800245,0.04853853410290045,0.05057667619140397,0.052905302300901694,0.04662810288686135,0.052785807574896905,0.05072517009082791,0.05302427246524616,0.048255091838980024,0.05000258676611448,0.02063139597007708,0.05298316341498076,0.04908773048570615,0.05153131274652325,0.04718594425190997,0.02071495386353738,0.03667497071865735,0.049805236911150165,0.05278226546063021,0.0002664826418719655,0.0453107318146697,0.04738244317335088,0.05120312631972691,0.0523194585871497,0.033321802671932056,0.048360619857158,0.05330605795609156,0.053421441611220755,0.05011568507579704,0.0002664826418719655,0.043880011341689215,0.051015829896634536,0.048569456424178106,0.053181993383246626,0.05342114833437674,0.0370023087688049,0.0393580630137986,0.044417733669923416,0.04928352260680933,0.0002664826418719655,0.05159836205404498,0.053226070133459424,0.033593167746711707,0.04694705511051811,0.04918009342818756,0.0002664826418719655,0.050757086473957644,0.05291267410433097,0.04832338315082683,0.052800107254639274,0.05075063002723542,0.039958579053552365,0.044211670008936534,0.03513044170799907,0.03725711421479812,0.04458412125692145,0.0002664826418719655,0.050134267717387215,0.048198007479569954,0.05297733588587722,0.0513419833324078,0.046630610816760384,0.04995732258019859,0.03250135757746272,0.05309608844642524,0.0002664826418719655,0.053115138222547195,0.0485426891786735,0.03506109496076011,0.05247405672320217,0.05042900647211144,0.053219681790958706,0.049023859745606115,0.050840845206065036,0.0002664826418719655,0.047042243192549224,0.04400429633060646,0.051190866564585116,0.04580131881466834,0.04858292285739425,0.0002664826418719655,0.053184442633366635,0.050110715185494537,0.050371721440861085,0.0002664826418719655,0.047785446943191236,0.05103717718579069,0.049340733488470664,0.05305947173860868,0.05130618774841469,0.047435263946884174,0.02007441160344,0.04979230513355574,0.05307405198996862,0.0002664826418719655,0.05060841958123731,0.02927803985843553,0.04864349977774612,0.05274203023088357,0.04625072463247637,0.05116258183145974,0.053191736145366916,0.049389023399662016,0.053205501229680076,0.05051442608080654,0.04807129692627238,0.0002664826418719655,0.05277851026735767,0.05084965648001623,0.04683345588968544,0.05318343057050301,0.05330300093871647,0.048958902826168625,0.053080103299979677,0.03730927269301402,0.05051600632698126,0.03898604659114761,0.03548578176395485,0.05129950212254072,0.020754137387667994,0.044375912809123966,0.048967001968867885,0.05310487636169009,0.050771625253807254,0.0002664826418719655,0.04533291152708037,0.0526433046575437,0.049201143504004806,0.0002664826418719655,0.051016059651910785,0.05260750852969994,0.04811840246061358,0.05281346840798169,0.0502311954002998,0.053290539549150515,0.04739740245097478,0.05063721353675554,0.04395810848482335,0.030199508301712075,0.05313094859470495,0.049210747519225856,0.038262328053049924,0.020247560709111764,0.04682259831335464,0.04772214187686012,0.03774681121102223,0.052847758354719186,0.05019948065635708,0.05288581883174122,0.0002664826418719655,0.0465691328902873,0.04917604364989033,0.051141739488587155,0.05329199322311109,0.033845634725264896,0.04859997697479275,0.05325260276122264,0.045563484912983905,0.053231092174650455,0.02006929883263382,0.0002664826418719655,0.05051310528810095,0.04753179272913118,0.04946487540011091,0.05163285768657535,0.034852829366112226,0.03555118091919194,0.0521564103981937,0.0002664826418719655,0.04915038377642298,0.05340830084328356,0.033977001067100956,0.05093514492684801,0.04845475803253587,0.0002664826418719655,0.053198648233263736,0.03936238094782014,0.04680131825691733,0.05271034373074329,0.04926216927731234,0.05272854410424118,0.03640940162214149,0.02076949636764042,0.050486416511203426,0.04771072055869466,0.052565096218566455,0.05040589217819526,0.046031040729327774,0.05315179229717726,0.04889570091477457,0.0002664826418719655,0.05102110147661072,0.03424886353482064,0.053031892438765695,0.03979647859217959,0.050723867415145577,0.020811376657922116,0.052548596230326,0.049785967019947704,0.05215388112343311,0.04075452147246874,0.04727935552667801,0.04970689733952483,0.05339153051684285,0.050855057924920344,0.05334709034475429,0.019798829303457374,0.0493924967412415,0.04792883764345963,0.051210761436634666,0.0002664826418719655,0.044765393494891094,0.05153598122737548,0.04624245680660055,0.0383864313606888,0.0002664826418719655,0.04889854617495644,0.05275104218872275,0.05090922854524691,0.052951655775261564,0.0002664826418719655,0.039721255985363024,0.0477857850099169,0.05071024430475531,0.05303276958006624,0.04981366852717408,0.04699002889969203,0.0002664826418719655,0.05187916493510677,0.04901993806948928,0.05265434958527578,0.050465805783102134,0.03725654593118531,0.0527948561914086,0.04144838879166414,0.0002664826418719655,0.04615243674253673,0.050976040604934304,0.05346393778526174,0.05070152354254045,0.052999013632758996,0.0002664826418719655,0.04747779076810771,0.044506621608061764,0.05277860917145566,0.04750489131383462,0.05119848219107702,0.04899959934305564,0.05361747549495834,0.05306862921131865,0.021020863460596513,0.0002664826418719655,0.03371215439975779,0.04873141870897872,0.05037743366598245,0.05276683179818996,0.04717339179653983,0.040901281267907215,0.052833811203558734,0.05004933377092593,0.053291976923241446,0.0002664826418719655,0.050831462439586396,0.04664793171890249,0.04886319138789361,0.052733424240238615,0.03411405493105184,0.05065449654899908,0.04328351937572048,0.0344558206985437,0.05327465792370911,0.0002664826418719655,0.03579440699297698,0.051083072672213646,0.0002664826418719655,0.05105935326394827,0.033956086426831004,0.04887889203956956,0.05298346154200061,0.04626808768330708,0.0002664826418719655,0.05085067781990482,0.05283285937492006,0.04770473414744578,0.05023930463698891,0.05309551099246711,0.05286009541605554,0.04925292810577507,0.0002664826418719655,0.04734105278637962,0.046217656431506625,0.05298899704178896,0.0002664826418719655,0.049162547479723075,0.04001399237777069,0.04510624650908464,0.04783471831975102,0.04040734818808826,0.052354820017498215,0.0002664826418719655,0.049952352856993176,0.05288723820960998,0.04987685624982983,0.04555739481079582,0.05300637126979988,0.050955427409444164,0.04941570427465221,0.05329086789011413,0.05120139948250054,0.046984243779065085,0.040842829460374354,0.0002664826418719655,0.0002664826418719655,0.04911232466509683,0.051316416922226805,0.03724358415116223,0.0485535088993726,0.051271951718733076,0.0534774925769814,0.0531225964490656,0.046301500943758,0.05020901456221936,0.05317848507988103,0.047941101157181525,0.0002664826418719655,0.05086911090502766,0.05311129292714554,0.04448652947298679,0.049098444443341424,0.02045930909349004,0.04003142089799762,0.0002664826418719655,0.04962102902597464,0.052635919303839415,0.04706174483481943,0.05132229714078653,0.04839024336358964,0.050849771288954404,0.05256590962594632,0.04873241148001733,0.05370769070711755,0.053754418047188966,0.05319035471003798,0.037127182482869364,0.05034034434603234,0.04775063752742309,0.033218751644281605,0.0002664826418719655,0.052779987889371126,0.050803934459811115,0.04686765576702299,0.04841380576262485,0.05021250453782855,0.0002664826418719655,0.05283076526473394,0.04660816519098536,0.03416685079311225,0.04997356531368875,0.0002664826418719655,0.05109701076491393,0.04825881140102428,0.04486097368791201,0.05289841125095927,0.05116819572950053,0.03718470405126187,0.05299742031406762,0.0002664826418719655,0.04898875355829823,0.05111619983404867,0.044035710792093063,0.0002664826418719655,0.05241835329593303,0.0492101997519559,0.0382205602237922,0.036345725196191954,0.052995766233788454,0.03536472920991992,0.050129033840491485,0.0002664826418719655,0.05080398341643451,0.03836860260798801,0.04716058055955153,0.052669534579589485,0.04936561516992773,0.05318549444045049,0.05121092353918908,0.04622669442013204,0.048913585923876346,0.053242522473897456,0.0454305203289052,0.050263135194122385,0.02057138510120817,0.0482667893244886,0.051094100203623025,0.05302314731676028,0.0002664826418719655,0.049400300030439444,0.05135600257581754,0.04564311992759966,0.047731874213846115,0.0002664826418719655,0.051256922358179725,0.04937897977373877,0.05285317278632853,0.03367474683176884,0.05307329063603559,0.034406556408126863,0.04356907116756757,0.0002664826418719655,0.050189438061637316,0.052698532916004515,0.04963537883265183,0.05296847959613714,0.040306592405151484,0.050691137682658226,0.047917696886013286,0.043932114395565484,0.05264548032172407,0.049370557120269026,0.044063439974280035,0.0002664826418719655,0.05111082622514492,0.05189782858079034,0.020217571485928565,0.0496529085032361],\"type\":\"scatter\",\"xaxis\":\"x2\",\"yaxis\":\"y2\"},{\"marker\":{\"color\":[0,1,2,3,4,5,6,7,8,9,10,11,12,13,14,15,16,17,18,19,20,21,22,23,24,25,26,27,28,29,30,31,32,33,34,35,36,37,38,39,40,41,42,43,44,45,46,47,48,49,50,51,52,53,54,55,56,57,58,59,60,61,62,63,64,65,66,67,68,69,70,71,72,73,74,75,76,77,78,79,80,81,82,83,84,85,86,87,88,89,90,91,92,93,94,95,96,97,98,99,100,101,102,103,104,105,106,107,108,109,110,111,112,113,114,115,116,117,118,119,120,121,122,123,124,125,126,127,128,129,130,131,132,133,134,135,136,137,138,139,140,141,142,143,144,145,146,147,148,149,150,151,152,153,154,155,156,157,158,159,160,161,162,163,164,165,166,167,168,169,170,171,172,173,174,175,176,177,178,179,180,181,182,183,184,185,186,187,188,189,190,191,192,193,194,195,196,197,198,199,200,201,202,203,204,205,206,207,208,209,210,211,212,213,214,215,216,217,218,219,220,221,222,223,224,225,226,227,228,229,230,231,232,233,234,235,236,237,238,239,240,241,242,243,244,245,246,247,248,249,250,251,252,253,254,255,256,257,258,259,260,261,262,263,264,265,266,267,268,269,270,271,272,273,274,275,276,277,278,279,280,281,282,283,284,285,286,287,288,289,290,291,292,293,294,295,296,297,298,299,300,301,302,303,304,305,306,307,308,309,310,311,312,313,314,315,316,317,318,319,320,321,322,323,324,325,326,327,328,329,330,331,332,333,334,335,336,337,338,339,340,341,342,343,344,345,346,347,348,349,350,351,352,353,354,355,356,357,358,359,360,361,362,363,364,365,366,367,368,369,370,371,372,373,374,375,376,377,378,379,380,381,382,383,384,385,386,387,388,389,390,391,392,393,394,395,396,397,398,399,400,401,402,403,404,405,406,407,408,409,410,411,412,413,414,415,416,417,418,419,420,421,422,423,424,425,426,427,428,429,430,431,432,433,434,435,436,437,438,439,440,441,442,443,444,445,446,447,448,449,450,451,452,453,454,455,456,457,458,459,460,461,462,463,464,465,466,467,468,469,470,471,472,473,474,475,476,477,478,479,480,481,482,483,484,485,486,487,488,489,490,491,492,493,494,495,496,497,498,499,500,501,502,503,504,505,506,507,508,509,510,511,512,513,514,515,516,517,518,519,520,521,522,523,524,525,526,527,528,529,530,531,532,533,534,535,536,537,538,539,540,541,542,543,544,545,546,547,548,549,550,551,552,553,554,555,556,557,558,559,560,561,562,563,564,565,566,567,568,569,570,571,572,573,574,575,576,577,578,579,580,581,582,583,584,585,586,587,588,589,590,591,592,593,594,595,596,597,598,599,600,601,602,603,604,605,606,607,608,609,610,611,612,613,614,615,616,617,618,619,620,621,622,623,624,625,626,627,628,629,630,631,632,633,634,635,636,637,638,639,640,641,642,643,644,645,646,647,648,649,650,651,652,653,654,655,656,657,658,659,660,661,662,663,664,665,666,667,668,669,670,671,672,673,674,675,676,677,678],\"colorbar\":{\"title\":{\"text\":\"Trial\"},\"x\":1.0,\"xpad\":40},\"colorscale\":[[0.0,\"rgb(247,251,255)\"],[0.125,\"rgb(222,235,247)\"],[0.25,\"rgb(198,219,239)\"],[0.375,\"rgb(158,202,225)\"],[0.5,\"rgb(107,174,214)\"],[0.625,\"rgb(66,146,198)\"],[0.75,\"rgb(33,113,181)\"],[0.875,\"rgb(8,81,156)\"],[1.0,\"rgb(8,48,107)\"]],\"line\":{\"color\":\"Grey\",\"width\":0.5},\"showscale\":false},\"mode\":\"markers\",\"name\":\"Feasible Trial\",\"showlegend\":false,\"x\":[true,false,false,true,true,true,false,false,true,false,true,true,true,true,true,true,true,true,true,true,true,true,true,true,true,true,false,true,true,true,true,true,true,true,false,true,true,false,true,true,false,true,true,true,true,true,true,true,false,true,true,true,true,true,true,true,true,true,true,true,true,true,true,true,true,true,true,false,true,true,true,true,true,true,true,true,true,true,false,true,true,true,true,true,true,true,true,true,true,false,true,true,true,true,true,true,true,true,true,true,true,true,true,true,true,true,true,true,false,true,true,true,true,true,true,true,true,true,true,true,true,true,true,true,true,true,true,true,false,true,true,true,true,true,true,true,true,true,true,true,true,true,true,true,true,true,true,true,true,true,false,true,true,true,true,true,true,true,true,true,true,true,true,true,true,true,true,true,true,true,true,true,true,true,true,true,true,true,true,true,false,true,true,true,true,true,true,true,true,true,true,true,true,true,true,true,true,true,true,true,true,true,true,true,true,true,true,true,true,true,false,true,true,true,true,true,true,true,true,true,true,true,true,true,true,true,true,true,true,true,true,true,true,true,true,true,true,true,true,true,true,true,true,true,true,true,true,true,true,true,true,true,false,true,true,true,true,true,true,true,true,true,true,true,true,true,true,true,true,true,false,true,true,true,true,true,true,true,true,true,true,true,true,true,true,true,true,true,true,true,false,true,true,true,true,true,true,true,true,true,true,true,true,true,true,true,true,true,true,false,true,true,true,true,true,true,true,true,true,true,true,true,true,true,true,true,true,true,true,true,false,true,true,true,true,true,true,true,true,true,true,true,true,true,true,true,true,true,true,true,false,true,true,true,true,true,true,true,true,true,true,true,true,true,true,true,true,true,true,true,true,false,true,true,true,true,true,true,true,true,true,true,true,true,true,true,true,true,true,true,true,true,false,true,true,true,true,true,true,true,true,true,true,true,true,true,true,true,false,true,true,true,true,true,true,true,true,true,true,true,true,true,true,true,true,true,true,true,true,true,false,true,true,true,true,true,true,true,true,true,true,true,true,true,true,true,true,true,false,true,true,true,true,true,true,true,true,true,true,true,true,true,true,true,true,true,true,true,false,true,true,true,true,true,true,true,true,true,true,true,true,true,true,true,true,true,true,true,false,true,true,true,true,true,true,true,true,true,true,true,true,true,true,true,true,true,false,true,true,true,true,true,true,true,true,true,true,true,true,true,true,true,true,true,true,true,false,true,true,true,true,true,true,true,true,true,true,true,true,true,true,true,true,true,true,true,true,true,false,true,true,true,true,true,true,true,true,true,true,true,true,true,true,true,false,true,true,true,true,true,true,true,true,true,true,true,true,true,true,true,true,true,true,true,false,true,true,true,true,true,true,true,true,true,true,true,true,true,true,true,true,true,true,true,false,true,true,true,true,true,true,true,true,true,true,true,true,true,true,true,true,true,true,false,true,true,true,true,true,true,true,true,true,true,true,true,true,true,true,true,true,true,true,false,true,true,true,true,true,true,true,true,true,true,true,true,true,true,true,true,true,false,true,true,true,true,true,true,true,true,true,true,true,true,true,true,true,true,true],\"y\":[0.03324698331399583,0.026332902930887934,0.030469137563298575,0.03444987576203394,0.04814619271239208,0.038066821299608235,0.03313890578532456,0.035480558776875615,0.03795740934127874,0.031156855638856097,0.05370249298547826,0.053043338860751556,0.049358568615201014,0.04046620173964342,0.04135830475866652,0.03482896954916652,0.04154041337618398,0.03462141000783664,0.046612718601797054,0.037526935207238,0.043719300306238565,0.045391643727781025,0.03855362113289444,0.05005819010027681,0.039473372363462364,0.03480637042849982,0.03369956604439408,0.0399559022002486,0.045554766209695396,0.0377710062570645,0.05345532201680157,0.049179364245239526,0.045038814489735374,0.042924297756840736,0.04001730686109394,0.040681947973510366,0.03255432649509493,0.039981091096421034,0.0503522003189274,0.03981101195489917,0.032811783069301007,0.049862294786565405,0.04851576479166418,0.02024138376707917,0.04170481583937038,0.04767053965435942,0.04313826063367159,0.03283938541515903,0.03278310247782083,0.037876718506305,0.040726692725909806,0.050762033934032155,0.04610049465209755,0.035598704019295734,0.044183615546848895,0.04990649894396905,0.04210634543158245,0.047338175501152914,0.05084595784289079,0.03654701218043085,0.042371475724924626,0.048460256440363954,0.052472475068935306,0.052887525248913415,0.04626885698320693,0.05317992334355266,0.04275097241274065,0.034748374854042384,0.052153755408722705,0.03966879729859924,0.03456739709318828,0.04381019379874547,0.04726398158402837,0.05265843147113376,0.05331823873229896,0.045087667532495476,0.020770348777273694,0.047398026686143964,0.0389465853039739,0.05219137903797115,0.04709926993082188,0.0508971605112515,0.05151212750052316,0.048758814503789674,0.04242500361269015,0.04710632376294343,0.03531964393831496,0.052457237175554304,0.045799822985578484,0.033738054775223146,0.0488217757697453,0.051946099320358693,0.05278336944453671,0.04705396776723112,0.049838598061873234,0.043675457175516186,0.04587686254833845,0.04662172783159644,0.05218017043087157,0.0494985524929483,0.04088362422565477,0.05221018954207535,0.05253647896025815,0.04302974775721296,0.04816109208279552,0.04896643161435016,0.045115575584085396,0.04286887657038844,0.04155131211473144,0.049748990510831904,0.03438504613986426,0.0528663253282279,0.04815928395451181,0.053184673529307856,0.051916487103832246,0.043299638979650404,0.04754727094759563,0.05076538637504058,0.04623849148207724,0.047417452844366215,0.02022282504685614,0.05026288773688968,0.048146784203736005,0.033965166850007285,0.051114131635104296,0.036454444441654986,0.05341465722787142,0.03552890563535609,0.03666385268601502,0.04671620191668675,0.053604758640113416,0.037257922932716854,0.05125645218515289,0.04907912984206813,0.052227000936113085,0.05341870658574962,0.04766486170283768,0.03341205827496927,0.050080152181557966,0.05328353864373002,0.0002664826418719655,0.05353499815479453,0.05007783008052824,0.020625866865305254,0.0368139763138582,0.04765859233065183,0.04512944980534381,0.05184343676719398,0.048504895493151595,0.0331849856244731,0.04121725363851465,0.05282848818748159,0.05191767159807118,0.05251727378020658,0.048936109878433595,0.044208576613926395,0.0471758536609599,0.04945865583313777,0.05238245591016597,0.046327703480299236,0.04987587977943793,0.052723232440028765,0.052742427144316886,0.0002664826418719655,0.04871490000398578,0.05215845464194435,0.05080581134781799,0.04797725966127435,0.05328432894531375,0.03825159292314441,0.04913631963637322,0.03644820818813297,0.05232801211309551,0.05058215622683474,0.0002664826418719655,0.05255776313824743,0.04746732427685902,0.04890617255157278,0.052448670670091325,0.04694639389465257,0.04371043937336743,0.053138127327039986,0.052718246880571085,0.01961097420207157,0.04893820996096516,0.05254108530861705,0.0002664826418719655,0.05021489654233825,0.04738824552417005,0.050559405869964304,0.04223967199505846,0.052636546251000324,0.05274947957147995,0.0002664826418719655,0.051100629641741335,0.04984303897361041,0.05224156680194235,0.04476627402902931,0.04556134751061881,0.0512478898108774,0.05254800497278619,0.052570520624497505,0.05309453242412906,0.05005515614018681,0.049260964973266985,0.04913904231473435,0.050933518728898494,0.052940203076757786,0.0002664826418719655,0.04743906713380423,0.0447716937735021,0.05278340209256904,0.05218999514565716,0.048792968009973195,0.053301229217860034,0.05051208651483021,0.049730293864476915,0.05247715393762241,0.04795038885116478,0.04968247262213467,0.05213521401905165,0.01958306821780261,0.05294787340695032,0.052965634437134465,0.03750764346191856,0.050354025210916684,0.048068647868180395,0.050820098983822684,0.053192171650747425,0.0002664826418719655,0.04889540237577561,0.05298924866125896,0.052676630927969856,0.0002664826418719655,0.05146360592161434,0.05087833720645489,0.05328716987791245,0.049349621094694415,0.05341014175498473,0.05072096751384281,0.05319565120216119,0.020298223986877865,0.0528349634064809,0.03643449682323522,0.052779333619889755,0.04949095586367009,0.051312590526507496,0.0002664826418719655,0.04782487103874401,0.05267665454289437,0.05012491176372837,0.05307640278752486,0.030592871249155235,0.0002664826418719655,0.033483224130800245,0.04853853410290045,0.05057667619140397,0.052905302300901694,0.04662810288686135,0.052785807574896905,0.05072517009082791,0.05302427246524616,0.048255091838980024,0.05000258676611448,0.02063139597007708,0.05298316341498076,0.04908773048570615,0.05153131274652325,0.04718594425190997,0.02071495386353738,0.03667497071865735,0.049805236911150165,0.05278226546063021,0.0002664826418719655,0.0453107318146697,0.04738244317335088,0.05120312631972691,0.0523194585871497,0.033321802671932056,0.048360619857158,0.05330605795609156,0.053421441611220755,0.05011568507579704,0.0002664826418719655,0.043880011341689215,0.051015829896634536,0.048569456424178106,0.053181993383246626,0.05342114833437674,0.0370023087688049,0.0393580630137986,0.044417733669923416,0.04928352260680933,0.0002664826418719655,0.05159836205404498,0.053226070133459424,0.033593167746711707,0.04694705511051811,0.04918009342818756,0.0002664826418719655,0.050757086473957644,0.05291267410433097,0.04832338315082683,0.052800107254639274,0.05075063002723542,0.039958579053552365,0.044211670008936534,0.03513044170799907,0.03725711421479812,0.04458412125692145,0.0002664826418719655,0.050134267717387215,0.048198007479569954,0.05297733588587722,0.0513419833324078,0.046630610816760384,0.04995732258019859,0.03250135757746272,0.05309608844642524,0.0002664826418719655,0.053115138222547195,0.0485426891786735,0.03506109496076011,0.05247405672320217,0.05042900647211144,0.053219681790958706,0.049023859745606115,0.050840845206065036,0.0002664826418719655,0.047042243192549224,0.04400429633060646,0.051190866564585116,0.04580131881466834,0.04858292285739425,0.0002664826418719655,0.053184442633366635,0.050110715185494537,0.050371721440861085,0.0002664826418719655,0.047785446943191236,0.05103717718579069,0.049340733488470664,0.05305947173860868,0.05130618774841469,0.047435263946884174,0.02007441160344,0.04979230513355574,0.05307405198996862,0.0002664826418719655,0.05060841958123731,0.02927803985843553,0.04864349977774612,0.05274203023088357,0.04625072463247637,0.05116258183145974,0.053191736145366916,0.049389023399662016,0.053205501229680076,0.05051442608080654,0.04807129692627238,0.0002664826418719655,0.05277851026735767,0.05084965648001623,0.04683345588968544,0.05318343057050301,0.05330300093871647,0.048958902826168625,0.053080103299979677,0.03730927269301402,0.05051600632698126,0.03898604659114761,0.03548578176395485,0.05129950212254072,0.020754137387667994,0.044375912809123966,0.048967001968867885,0.05310487636169009,0.050771625253807254,0.0002664826418719655,0.04533291152708037,0.0526433046575437,0.049201143504004806,0.0002664826418719655,0.051016059651910785,0.05260750852969994,0.04811840246061358,0.05281346840798169,0.0502311954002998,0.053290539549150515,0.04739740245097478,0.05063721353675554,0.04395810848482335,0.030199508301712075,0.05313094859470495,0.049210747519225856,0.038262328053049924,0.020247560709111764,0.04682259831335464,0.04772214187686012,0.03774681121102223,0.052847758354719186,0.05019948065635708,0.05288581883174122,0.0002664826418719655,0.0465691328902873,0.04917604364989033,0.051141739488587155,0.05329199322311109,0.033845634725264896,0.04859997697479275,0.05325260276122264,0.045563484912983905,0.053231092174650455,0.02006929883263382,0.0002664826418719655,0.05051310528810095,0.04753179272913118,0.04946487540011091,0.05163285768657535,0.034852829366112226,0.03555118091919194,0.0521564103981937,0.0002664826418719655,0.04915038377642298,0.05340830084328356,0.033977001067100956,0.05093514492684801,0.04845475803253587,0.0002664826418719655,0.053198648233263736,0.03936238094782014,0.04680131825691733,0.05271034373074329,0.04926216927731234,0.05272854410424118,0.03640940162214149,0.02076949636764042,0.050486416511203426,0.04771072055869466,0.052565096218566455,0.05040589217819526,0.046031040729327774,0.05315179229717726,0.04889570091477457,0.0002664826418719655,0.05102110147661072,0.03424886353482064,0.053031892438765695,0.03979647859217959,0.050723867415145577,0.020811376657922116,0.052548596230326,0.049785967019947704,0.05215388112343311,0.04075452147246874,0.04727935552667801,0.04970689733952483,0.05339153051684285,0.050855057924920344,0.05334709034475429,0.019798829303457374,0.0493924967412415,0.04792883764345963,0.051210761436634666,0.0002664826418719655,0.044765393494891094,0.05153598122737548,0.04624245680660055,0.0383864313606888,0.0002664826418719655,0.04889854617495644,0.05275104218872275,0.05090922854524691,0.052951655775261564,0.0002664826418719655,0.039721255985363024,0.0477857850099169,0.05071024430475531,0.05303276958006624,0.04981366852717408,0.04699002889969203,0.0002664826418719655,0.05187916493510677,0.04901993806948928,0.05265434958527578,0.050465805783102134,0.03725654593118531,0.0527948561914086,0.04144838879166414,0.0002664826418719655,0.04615243674253673,0.050976040604934304,0.05346393778526174,0.05070152354254045,0.052999013632758996,0.0002664826418719655,0.04747779076810771,0.044506621608061764,0.05277860917145566,0.04750489131383462,0.05119848219107702,0.04899959934305564,0.05361747549495834,0.05306862921131865,0.021020863460596513,0.0002664826418719655,0.03371215439975779,0.04873141870897872,0.05037743366598245,0.05276683179818996,0.04717339179653983,0.040901281267907215,0.052833811203558734,0.05004933377092593,0.053291976923241446,0.0002664826418719655,0.050831462439586396,0.04664793171890249,0.04886319138789361,0.052733424240238615,0.03411405493105184,0.05065449654899908,0.04328351937572048,0.0344558206985437,0.05327465792370911,0.0002664826418719655,0.03579440699297698,0.051083072672213646,0.0002664826418719655,0.05105935326394827,0.033956086426831004,0.04887889203956956,0.05298346154200061,0.04626808768330708,0.0002664826418719655,0.05085067781990482,0.05283285937492006,0.04770473414744578,0.05023930463698891,0.05309551099246711,0.05286009541605554,0.04925292810577507,0.0002664826418719655,0.04734105278637962,0.046217656431506625,0.05298899704178896,0.0002664826418719655,0.049162547479723075,0.04001399237777069,0.04510624650908464,0.04783471831975102,0.04040734818808826,0.052354820017498215,0.0002664826418719655,0.049952352856993176,0.05288723820960998,0.04987685624982983,0.04555739481079582,0.05300637126979988,0.050955427409444164,0.04941570427465221,0.05329086789011413,0.05120139948250054,0.046984243779065085,0.040842829460374354,0.0002664826418719655,0.0002664826418719655,0.04911232466509683,0.051316416922226805,0.03724358415116223,0.0485535088993726,0.051271951718733076,0.0534774925769814,0.0531225964490656,0.046301500943758,0.05020901456221936,0.05317848507988103,0.047941101157181525,0.0002664826418719655,0.05086911090502766,0.05311129292714554,0.04448652947298679,0.049098444443341424,0.02045930909349004,0.04003142089799762,0.0002664826418719655,0.04962102902597464,0.052635919303839415,0.04706174483481943,0.05132229714078653,0.04839024336358964,0.050849771288954404,0.05256590962594632,0.04873241148001733,0.05370769070711755,0.053754418047188966,0.05319035471003798,0.037127182482869364,0.05034034434603234,0.04775063752742309,0.033218751644281605,0.0002664826418719655,0.052779987889371126,0.050803934459811115,0.04686765576702299,0.04841380576262485,0.05021250453782855,0.0002664826418719655,0.05283076526473394,0.04660816519098536,0.03416685079311225,0.04997356531368875,0.0002664826418719655,0.05109701076491393,0.04825881140102428,0.04486097368791201,0.05289841125095927,0.05116819572950053,0.03718470405126187,0.05299742031406762,0.0002664826418719655,0.04898875355829823,0.05111619983404867,0.044035710792093063,0.0002664826418719655,0.05241835329593303,0.0492101997519559,0.0382205602237922,0.036345725196191954,0.052995766233788454,0.03536472920991992,0.050129033840491485,0.0002664826418719655,0.05080398341643451,0.03836860260798801,0.04716058055955153,0.052669534579589485,0.04936561516992773,0.05318549444045049,0.05121092353918908,0.04622669442013204,0.048913585923876346,0.053242522473897456,0.0454305203289052,0.050263135194122385,0.02057138510120817,0.0482667893244886,0.051094100203623025,0.05302314731676028,0.0002664826418719655,0.049400300030439444,0.05135600257581754,0.04564311992759966,0.047731874213846115,0.0002664826418719655,0.051256922358179725,0.04937897977373877,0.05285317278632853,0.03367474683176884,0.05307329063603559,0.034406556408126863,0.04356907116756757,0.0002664826418719655,0.050189438061637316,0.052698532916004515,0.04963537883265183,0.05296847959613714,0.040306592405151484,0.050691137682658226,0.047917696886013286,0.043932114395565484,0.05264548032172407,0.049370557120269026,0.044063439974280035,0.0002664826418719655,0.05111082622514492,0.05189782858079034,0.020217571485928565,0.0496529085032361],\"type\":\"scatter\",\"xaxis\":\"x3\",\"yaxis\":\"y3\"},{\"marker\":{\"color\":[0,1,2,3,4,5,6,7,8,9,10,11,12,13,14,15,16,17,18,19,20,21,22,23,24,25,26,27,28,29,30,31,32,33,34,35,36,37,38,39,40,41,42,43,44,45,46,47,48,49,50,51,52,53,54,55,56,57,58,59,60,61,62,63,64,65,66,67,68,69,70,71,72,73,74,75,76,77,78,79,80,81,82,83,84,85,86,87,88,89,90,91,92,93,94,95,96,97,98,99,100,101,102,103,104,105,106,107,108,109,110,111,112,113,114,115,116,117,118,119,120,121,122,123,124,125,126,127,128,129,130,131,132,133,134,135,136,137,138,139,140,141,142,143,144,145,146,147,148,149,150,151,152,153,154,155,156,157,158,159,160,161,162,163,164,165,166,167,168,169,170,171,172,173,174,175,176,177,178,179,180,181,182,183,184,185,186,187,188,189,190,191,192,193,194,195,196,197,198,199,200,201,202,203,204,205,206,207,208,209,210,211,212,213,214,215,216,217,218,219,220,221,222,223,224,225,226,227,228,229,230,231,232,233,234,235,236,237,238,239,240,241,242,243,244,245,246,247,248,249,250,251,252,253,254,255,256,257,258,259,260,261,262,263,264,265,266,267,268,269,270,271,272,273,274,275,276,277,278,279,280,281,282,283,284,285,286,287,288,289,290,291,292,293,294,295,296,297,298,299,300,301,302,303,304,305,306,307,308,309,310,311,312,313,314,315,316,317,318,319,320,321,322,323,324,325,326,327,328,329,330,331,332,333,334,335,336,337,338,339,340,341,342,343,344,345,346,347,348,349,350,351,352,353,354,355,356,357,358,359,360,361,362,363,364,365,366,367,368,369,370,371,372,373,374,375,376,377,378,379,380,381,382,383,384,385,386,387,388,389,390,391,392,393,394,395,396,397,398,399,400,401,402,403,404,405,406,407,408,409,410,411,412,413,414,415,416,417,418,419,420,421,422,423,424,425,426,427,428,429,430,431,432,433,434,435,436,437,438,439,440,441,442,443,444,445,446,447,448,449,450,451,452,453,454,455,456,457,458,459,460,461,462,463,464,465,466,467,468,469,470,471,472,473,474,475,476,477,478,479,480,481,482,483,484,485,486,487,488,489,490,491,492,493,494,495,496,497,498,499,500,501,502,503,504,505,506,507,508,509,510,511,512,513,514,515,516,517,518,519,520,521,522,523,524,525,526,527,528,529,530,531,532,533,534,535,536,537,538,539,540,541,542,543,544,545,546,547,548,549,550,551,552,553,554,555,556,557,558,559,560,561,562,563,564,565,566,567,568,569,570,571,572,573,574,575,576,577,578,579,580,581,582,583,584,585,586,587,588,589,590,591,592,593,594,595,596,597,598,599,600,601,602,603,604,605,606,607,608,609,610,611,612,613,614,615,616,617,618,619,620,621,622,623,624,625,626,627,628,629,630,631,632,633,634,635,636,637,638,639,640,641,642,643,644,645,646,647,648,649,650,651,652,653,654,655,656,657,658,659,660,661,662,663,664,665,666,667,668,669,670,671,672,673,674,675,676,677,678],\"colorbar\":{\"title\":{\"text\":\"Trial\"},\"x\":1.0,\"xpad\":40},\"colorscale\":[[0.0,\"rgb(247,251,255)\"],[0.125,\"rgb(222,235,247)\"],[0.25,\"rgb(198,219,239)\"],[0.375,\"rgb(158,202,225)\"],[0.5,\"rgb(107,174,214)\"],[0.625,\"rgb(66,146,198)\"],[0.75,\"rgb(33,113,181)\"],[0.875,\"rgb(8,81,156)\"],[1.0,\"rgb(8,48,107)\"]],\"line\":{\"color\":\"Grey\",\"width\":0.5},\"showscale\":false},\"mode\":\"markers\",\"name\":\"Feasible Trial\",\"showlegend\":false,\"x\":[1466,1202,501,1494,35,516,1253,1307,499,1278,19,19,57,259,271,878,249,801,4,648,183,118,371,61,382,990,150,351,140,604,17,5,132,198,81,307,1071,467,58,195,427,61,75,1,244,87,206,1382,61,570,299,46,123,2,160,42,242,105,44,737,173,72,32,28,117,25,218,149,33,289,1188,3,106,28,20,149,1,104,168,28,94,31,34,77,215,108,938,27,137,339,76,31,26,4,62,181,133,96,35,65,264,27,23,3,88,55,141,196,120,52,774,18,81,22,7,162,101,53,123,23,1,53,78,1488,37,693,22,839,83,117,21,2,46,74,35,23,99,1100,61,23,0,20,56,1,534,93,151,37,73,1360,122,23,30,25,66,3,95,55,30,123,59,25,27,0,81,34,49,90,21,411,67,2,27,46,0,28,101,70,30,113,54,23,25,1,73,31,0,60,101,48,81,25,25,0,44,64,28,88,132,46,23,27,23,59,5,73,48,25,0,101,51,26,33,76,23,5,61,31,93,55,30,1,26,25,2,53,83,49,25,0,73,26,30,0,42,49,24,72,23,53,25,1,28,632,29,70,45,0,96,30,61,25,472,0,992,83,50,27,116,28,53,26,84,56,1,27,76,43,108,1,27,65,28,0,59,98,47,34,1176,78,23,22,61,0,129,49,82,25,23,2,99,53,72,0,42,24,1423,112,73,0,51,28,86,28,53,336,157,692,557,24,0,58,89,27,45,116,62,1285,26,0,26,84,864,32,57,24,75,51,0,111,29,47,136,81,0,25,61,28,0,96,49,71,26,44,100,1,66,26,0,49,942,81,29,126,45,25,71,25,56,90,0,29,50,108,25,24,75,26,2,55,397,90,45,1,142,68,26,48,0,109,30,74,0,49,30,82,27,59,24,104,55,175,1140,24,73,447,1,47,95,503,27,60,25,0,120,74,46,24,49,83,24,141,24,1,0,54,101,70,41,1057,783,35,0,70,23,1349,45,85,0,25,51,111,29,73,29,725,1,57,96,27,54,131,25,78,0,49,1242,26,91,53,1,30,65,26,300,106,67,22,50,22,1,69,92,45,0,159,42,126,233,0,76,29,49,24,0,359,89,52,27,65,106,0,37,76,27,56,603,28,80,0,122,48,22,54,27,0,90,64,29,102,47,74,19,24,1,0,52,77,47,27,98,143,27,61,24,0,51,115,79,29,907,54,197,816,24,0,81,47,0,46,1009,76,27,117,0,50,27,88,60,26,27,68,0,105,50,27,0,74,46,140,92,270,31,0,62,28,64,98,26,44,71,24,47,112,26,0,0,75,45,679,83,46,22,26,125,60,25,94,0,51,26,165,75,1,46,0,68,27,110,45,86,50,31,68,20,19,25,2,58,97,1470,0,29,52,25,86,60,0,28,116,1413,63,0,47,88,144,28,46,542,26,0,76,48,98,0,31,74,481,599,27,750,58,0,52,421,108,30,71,25,47,123,78,23,23,56,1,88,48,26,0,71,45,133,97,0,46,70,28,1213,26,1072,95,0,58,30,67,27,326,51,94,176,30,71,118,0,48,24,1,67],\"y\":[0.03324698331399583,0.026332902930887934,0.030469137563298575,0.03444987576203394,0.04814619271239208,0.038066821299608235,0.03313890578532456,0.035480558776875615,0.03795740934127874,0.031156855638856097,0.05370249298547826,0.053043338860751556,0.049358568615201014,0.04046620173964342,0.04135830475866652,0.03482896954916652,0.04154041337618398,0.03462141000783664,0.046612718601797054,0.037526935207238,0.043719300306238565,0.045391643727781025,0.03855362113289444,0.05005819010027681,0.039473372363462364,0.03480637042849982,0.03369956604439408,0.0399559022002486,0.045554766209695396,0.0377710062570645,0.05345532201680157,0.049179364245239526,0.045038814489735374,0.042924297756840736,0.04001730686109394,0.040681947973510366,0.03255432649509493,0.039981091096421034,0.0503522003189274,0.03981101195489917,0.032811783069301007,0.049862294786565405,0.04851576479166418,0.02024138376707917,0.04170481583937038,0.04767053965435942,0.04313826063367159,0.03283938541515903,0.03278310247782083,0.037876718506305,0.040726692725909806,0.050762033934032155,0.04610049465209755,0.035598704019295734,0.044183615546848895,0.04990649894396905,0.04210634543158245,0.047338175501152914,0.05084595784289079,0.03654701218043085,0.042371475724924626,0.048460256440363954,0.052472475068935306,0.052887525248913415,0.04626885698320693,0.05317992334355266,0.04275097241274065,0.034748374854042384,0.052153755408722705,0.03966879729859924,0.03456739709318828,0.04381019379874547,0.04726398158402837,0.05265843147113376,0.05331823873229896,0.045087667532495476,0.020770348777273694,0.047398026686143964,0.0389465853039739,0.05219137903797115,0.04709926993082188,0.0508971605112515,0.05151212750052316,0.048758814503789674,0.04242500361269015,0.04710632376294343,0.03531964393831496,0.052457237175554304,0.045799822985578484,0.033738054775223146,0.0488217757697453,0.051946099320358693,0.05278336944453671,0.04705396776723112,0.049838598061873234,0.043675457175516186,0.04587686254833845,0.04662172783159644,0.05218017043087157,0.0494985524929483,0.04088362422565477,0.05221018954207535,0.05253647896025815,0.04302974775721296,0.04816109208279552,0.04896643161435016,0.045115575584085396,0.04286887657038844,0.04155131211473144,0.049748990510831904,0.03438504613986426,0.0528663253282279,0.04815928395451181,0.053184673529307856,0.051916487103832246,0.043299638979650404,0.04754727094759563,0.05076538637504058,0.04623849148207724,0.047417452844366215,0.02022282504685614,0.05026288773688968,0.048146784203736005,0.033965166850007285,0.051114131635104296,0.036454444441654986,0.05341465722787142,0.03552890563535609,0.03666385268601502,0.04671620191668675,0.053604758640113416,0.037257922932716854,0.05125645218515289,0.04907912984206813,0.052227000936113085,0.05341870658574962,0.04766486170283768,0.03341205827496927,0.050080152181557966,0.05328353864373002,0.0002664826418719655,0.05353499815479453,0.05007783008052824,0.020625866865305254,0.0368139763138582,0.04765859233065183,0.04512944980534381,0.05184343676719398,0.048504895493151595,0.0331849856244731,0.04121725363851465,0.05282848818748159,0.05191767159807118,0.05251727378020658,0.048936109878433595,0.044208576613926395,0.0471758536609599,0.04945865583313777,0.05238245591016597,0.046327703480299236,0.04987587977943793,0.052723232440028765,0.052742427144316886,0.0002664826418719655,0.04871490000398578,0.05215845464194435,0.05080581134781799,0.04797725966127435,0.05328432894531375,0.03825159292314441,0.04913631963637322,0.03644820818813297,0.05232801211309551,0.05058215622683474,0.0002664826418719655,0.05255776313824743,0.04746732427685902,0.04890617255157278,0.052448670670091325,0.04694639389465257,0.04371043937336743,0.053138127327039986,0.052718246880571085,0.01961097420207157,0.04893820996096516,0.05254108530861705,0.0002664826418719655,0.05021489654233825,0.04738824552417005,0.050559405869964304,0.04223967199505846,0.052636546251000324,0.05274947957147995,0.0002664826418719655,0.051100629641741335,0.04984303897361041,0.05224156680194235,0.04476627402902931,0.04556134751061881,0.0512478898108774,0.05254800497278619,0.052570520624497505,0.05309453242412906,0.05005515614018681,0.049260964973266985,0.04913904231473435,0.050933518728898494,0.052940203076757786,0.0002664826418719655,0.04743906713380423,0.0447716937735021,0.05278340209256904,0.05218999514565716,0.048792968009973195,0.053301229217860034,0.05051208651483021,0.049730293864476915,0.05247715393762241,0.04795038885116478,0.04968247262213467,0.05213521401905165,0.01958306821780261,0.05294787340695032,0.052965634437134465,0.03750764346191856,0.050354025210916684,0.048068647868180395,0.050820098983822684,0.053192171650747425,0.0002664826418719655,0.04889540237577561,0.05298924866125896,0.052676630927969856,0.0002664826418719655,0.05146360592161434,0.05087833720645489,0.05328716987791245,0.049349621094694415,0.05341014175498473,0.05072096751384281,0.05319565120216119,0.020298223986877865,0.0528349634064809,0.03643449682323522,0.052779333619889755,0.04949095586367009,0.051312590526507496,0.0002664826418719655,0.04782487103874401,0.05267665454289437,0.05012491176372837,0.05307640278752486,0.030592871249155235,0.0002664826418719655,0.033483224130800245,0.04853853410290045,0.05057667619140397,0.052905302300901694,0.04662810288686135,0.052785807574896905,0.05072517009082791,0.05302427246524616,0.048255091838980024,0.05000258676611448,0.02063139597007708,0.05298316341498076,0.04908773048570615,0.05153131274652325,0.04718594425190997,0.02071495386353738,0.03667497071865735,0.049805236911150165,0.05278226546063021,0.0002664826418719655,0.0453107318146697,0.04738244317335088,0.05120312631972691,0.0523194585871497,0.033321802671932056,0.048360619857158,0.05330605795609156,0.053421441611220755,0.05011568507579704,0.0002664826418719655,0.043880011341689215,0.051015829896634536,0.048569456424178106,0.053181993383246626,0.05342114833437674,0.0370023087688049,0.0393580630137986,0.044417733669923416,0.04928352260680933,0.0002664826418719655,0.05159836205404498,0.053226070133459424,0.033593167746711707,0.04694705511051811,0.04918009342818756,0.0002664826418719655,0.050757086473957644,0.05291267410433097,0.04832338315082683,0.052800107254639274,0.05075063002723542,0.039958579053552365,0.044211670008936534,0.03513044170799907,0.03725711421479812,0.04458412125692145,0.0002664826418719655,0.050134267717387215,0.048198007479569954,0.05297733588587722,0.0513419833324078,0.046630610816760384,0.04995732258019859,0.03250135757746272,0.05309608844642524,0.0002664826418719655,0.053115138222547195,0.0485426891786735,0.03506109496076011,0.05247405672320217,0.05042900647211144,0.053219681790958706,0.049023859745606115,0.050840845206065036,0.0002664826418719655,0.047042243192549224,0.04400429633060646,0.051190866564585116,0.04580131881466834,0.04858292285739425,0.0002664826418719655,0.053184442633366635,0.050110715185494537,0.050371721440861085,0.0002664826418719655,0.047785446943191236,0.05103717718579069,0.049340733488470664,0.05305947173860868,0.05130618774841469,0.047435263946884174,0.02007441160344,0.04979230513355574,0.05307405198996862,0.0002664826418719655,0.05060841958123731,0.02927803985843553,0.04864349977774612,0.05274203023088357,0.04625072463247637,0.05116258183145974,0.053191736145366916,0.049389023399662016,0.053205501229680076,0.05051442608080654,0.04807129692627238,0.0002664826418719655,0.05277851026735767,0.05084965648001623,0.04683345588968544,0.05318343057050301,0.05330300093871647,0.048958902826168625,0.053080103299979677,0.03730927269301402,0.05051600632698126,0.03898604659114761,0.03548578176395485,0.05129950212254072,0.020754137387667994,0.044375912809123966,0.048967001968867885,0.05310487636169009,0.050771625253807254,0.0002664826418719655,0.04533291152708037,0.0526433046575437,0.049201143504004806,0.0002664826418719655,0.051016059651910785,0.05260750852969994,0.04811840246061358,0.05281346840798169,0.0502311954002998,0.053290539549150515,0.04739740245097478,0.05063721353675554,0.04395810848482335,0.030199508301712075,0.05313094859470495,0.049210747519225856,0.038262328053049924,0.020247560709111764,0.04682259831335464,0.04772214187686012,0.03774681121102223,0.052847758354719186,0.05019948065635708,0.05288581883174122,0.0002664826418719655,0.0465691328902873,0.04917604364989033,0.051141739488587155,0.05329199322311109,0.033845634725264896,0.04859997697479275,0.05325260276122264,0.045563484912983905,0.053231092174650455,0.02006929883263382,0.0002664826418719655,0.05051310528810095,0.04753179272913118,0.04946487540011091,0.05163285768657535,0.034852829366112226,0.03555118091919194,0.0521564103981937,0.0002664826418719655,0.04915038377642298,0.05340830084328356,0.033977001067100956,0.05093514492684801,0.04845475803253587,0.0002664826418719655,0.053198648233263736,0.03936238094782014,0.04680131825691733,0.05271034373074329,0.04926216927731234,0.05272854410424118,0.03640940162214149,0.02076949636764042,0.050486416511203426,0.04771072055869466,0.052565096218566455,0.05040589217819526,0.046031040729327774,0.05315179229717726,0.04889570091477457,0.0002664826418719655,0.05102110147661072,0.03424886353482064,0.053031892438765695,0.03979647859217959,0.050723867415145577,0.020811376657922116,0.052548596230326,0.049785967019947704,0.05215388112343311,0.04075452147246874,0.04727935552667801,0.04970689733952483,0.05339153051684285,0.050855057924920344,0.05334709034475429,0.019798829303457374,0.0493924967412415,0.04792883764345963,0.051210761436634666,0.0002664826418719655,0.044765393494891094,0.05153598122737548,0.04624245680660055,0.0383864313606888,0.0002664826418719655,0.04889854617495644,0.05275104218872275,0.05090922854524691,0.052951655775261564,0.0002664826418719655,0.039721255985363024,0.0477857850099169,0.05071024430475531,0.05303276958006624,0.04981366852717408,0.04699002889969203,0.0002664826418719655,0.05187916493510677,0.04901993806948928,0.05265434958527578,0.050465805783102134,0.03725654593118531,0.0527948561914086,0.04144838879166414,0.0002664826418719655,0.04615243674253673,0.050976040604934304,0.05346393778526174,0.05070152354254045,0.052999013632758996,0.0002664826418719655,0.04747779076810771,0.044506621608061764,0.05277860917145566,0.04750489131383462,0.05119848219107702,0.04899959934305564,0.05361747549495834,0.05306862921131865,0.021020863460596513,0.0002664826418719655,0.03371215439975779,0.04873141870897872,0.05037743366598245,0.05276683179818996,0.04717339179653983,0.040901281267907215,0.052833811203558734,0.05004933377092593,0.053291976923241446,0.0002664826418719655,0.050831462439586396,0.04664793171890249,0.04886319138789361,0.052733424240238615,0.03411405493105184,0.05065449654899908,0.04328351937572048,0.0344558206985437,0.05327465792370911,0.0002664826418719655,0.03579440699297698,0.051083072672213646,0.0002664826418719655,0.05105935326394827,0.033956086426831004,0.04887889203956956,0.05298346154200061,0.04626808768330708,0.0002664826418719655,0.05085067781990482,0.05283285937492006,0.04770473414744578,0.05023930463698891,0.05309551099246711,0.05286009541605554,0.04925292810577507,0.0002664826418719655,0.04734105278637962,0.046217656431506625,0.05298899704178896,0.0002664826418719655,0.049162547479723075,0.04001399237777069,0.04510624650908464,0.04783471831975102,0.04040734818808826,0.052354820017498215,0.0002664826418719655,0.049952352856993176,0.05288723820960998,0.04987685624982983,0.04555739481079582,0.05300637126979988,0.050955427409444164,0.04941570427465221,0.05329086789011413,0.05120139948250054,0.046984243779065085,0.040842829460374354,0.0002664826418719655,0.0002664826418719655,0.04911232466509683,0.051316416922226805,0.03724358415116223,0.0485535088993726,0.051271951718733076,0.0534774925769814,0.0531225964490656,0.046301500943758,0.05020901456221936,0.05317848507988103,0.047941101157181525,0.0002664826418719655,0.05086911090502766,0.05311129292714554,0.04448652947298679,0.049098444443341424,0.02045930909349004,0.04003142089799762,0.0002664826418719655,0.04962102902597464,0.052635919303839415,0.04706174483481943,0.05132229714078653,0.04839024336358964,0.050849771288954404,0.05256590962594632,0.04873241148001733,0.05370769070711755,0.053754418047188966,0.05319035471003798,0.037127182482869364,0.05034034434603234,0.04775063752742309,0.033218751644281605,0.0002664826418719655,0.052779987889371126,0.050803934459811115,0.04686765576702299,0.04841380576262485,0.05021250453782855,0.0002664826418719655,0.05283076526473394,0.04660816519098536,0.03416685079311225,0.04997356531368875,0.0002664826418719655,0.05109701076491393,0.04825881140102428,0.04486097368791201,0.05289841125095927,0.05116819572950053,0.03718470405126187,0.05299742031406762,0.0002664826418719655,0.04898875355829823,0.05111619983404867,0.044035710792093063,0.0002664826418719655,0.05241835329593303,0.0492101997519559,0.0382205602237922,0.036345725196191954,0.052995766233788454,0.03536472920991992,0.050129033840491485,0.0002664826418719655,0.05080398341643451,0.03836860260798801,0.04716058055955153,0.052669534579589485,0.04936561516992773,0.05318549444045049,0.05121092353918908,0.04622669442013204,0.048913585923876346,0.053242522473897456,0.0454305203289052,0.050263135194122385,0.02057138510120817,0.0482667893244886,0.051094100203623025,0.05302314731676028,0.0002664826418719655,0.049400300030439444,0.05135600257581754,0.04564311992759966,0.047731874213846115,0.0002664826418719655,0.051256922358179725,0.04937897977373877,0.05285317278632853,0.03367474683176884,0.05307329063603559,0.034406556408126863,0.04356907116756757,0.0002664826418719655,0.050189438061637316,0.052698532916004515,0.04963537883265183,0.05296847959613714,0.040306592405151484,0.050691137682658226,0.047917696886013286,0.043932114395565484,0.05264548032172407,0.049370557120269026,0.044063439974280035,0.0002664826418719655,0.05111082622514492,0.05189782858079034,0.020217571485928565,0.0496529085032361],\"type\":\"scatter\",\"xaxis\":\"x4\",\"yaxis\":\"y4\"}],                        {\"template\":{\"data\":{\"histogram2dcontour\":[{\"type\":\"histogram2dcontour\",\"colorbar\":{\"outlinewidth\":0,\"ticks\":\"\"},\"colorscale\":[[0.0,\"#0d0887\"],[0.1111111111111111,\"#46039f\"],[0.2222222222222222,\"#7201a8\"],[0.3333333333333333,\"#9c179e\"],[0.4444444444444444,\"#bd3786\"],[0.5555555555555556,\"#d8576b\"],[0.6666666666666666,\"#ed7953\"],[0.7777777777777778,\"#fb9f3a\"],[0.8888888888888888,\"#fdca26\"],[1.0,\"#f0f921\"]]}],\"choropleth\":[{\"type\":\"choropleth\",\"colorbar\":{\"outlinewidth\":0,\"ticks\":\"\"}}],\"histogram2d\":[{\"type\":\"histogram2d\",\"colorbar\":{\"outlinewidth\":0,\"ticks\":\"\"},\"colorscale\":[[0.0,\"#0d0887\"],[0.1111111111111111,\"#46039f\"],[0.2222222222222222,\"#7201a8\"],[0.3333333333333333,\"#9c179e\"],[0.4444444444444444,\"#bd3786\"],[0.5555555555555556,\"#d8576b\"],[0.6666666666666666,\"#ed7953\"],[0.7777777777777778,\"#fb9f3a\"],[0.8888888888888888,\"#fdca26\"],[1.0,\"#f0f921\"]]}],\"heatmap\":[{\"type\":\"heatmap\",\"colorbar\":{\"outlinewidth\":0,\"ticks\":\"\"},\"colorscale\":[[0.0,\"#0d0887\"],[0.1111111111111111,\"#46039f\"],[0.2222222222222222,\"#7201a8\"],[0.3333333333333333,\"#9c179e\"],[0.4444444444444444,\"#bd3786\"],[0.5555555555555556,\"#d8576b\"],[0.6666666666666666,\"#ed7953\"],[0.7777777777777778,\"#fb9f3a\"],[0.8888888888888888,\"#fdca26\"],[1.0,\"#f0f921\"]]}],\"heatmapgl\":[{\"type\":\"heatmapgl\",\"colorbar\":{\"outlinewidth\":0,\"ticks\":\"\"},\"colorscale\":[[0.0,\"#0d0887\"],[0.1111111111111111,\"#46039f\"],[0.2222222222222222,\"#7201a8\"],[0.3333333333333333,\"#9c179e\"],[0.4444444444444444,\"#bd3786\"],[0.5555555555555556,\"#d8576b\"],[0.6666666666666666,\"#ed7953\"],[0.7777777777777778,\"#fb9f3a\"],[0.8888888888888888,\"#fdca26\"],[1.0,\"#f0f921\"]]}],\"contourcarpet\":[{\"type\":\"contourcarpet\",\"colorbar\":{\"outlinewidth\":0,\"ticks\":\"\"}}],\"contour\":[{\"type\":\"contour\",\"colorbar\":{\"outlinewidth\":0,\"ticks\":\"\"},\"colorscale\":[[0.0,\"#0d0887\"],[0.1111111111111111,\"#46039f\"],[0.2222222222222222,\"#7201a8\"],[0.3333333333333333,\"#9c179e\"],[0.4444444444444444,\"#bd3786\"],[0.5555555555555556,\"#d8576b\"],[0.6666666666666666,\"#ed7953\"],[0.7777777777777778,\"#fb9f3a\"],[0.8888888888888888,\"#fdca26\"],[1.0,\"#f0f921\"]]}],\"surface\":[{\"type\":\"surface\",\"colorbar\":{\"outlinewidth\":0,\"ticks\":\"\"},\"colorscale\":[[0.0,\"#0d0887\"],[0.1111111111111111,\"#46039f\"],[0.2222222222222222,\"#7201a8\"],[0.3333333333333333,\"#9c179e\"],[0.4444444444444444,\"#bd3786\"],[0.5555555555555556,\"#d8576b\"],[0.6666666666666666,\"#ed7953\"],[0.7777777777777778,\"#fb9f3a\"],[0.8888888888888888,\"#fdca26\"],[1.0,\"#f0f921\"]]}],\"mesh3d\":[{\"type\":\"mesh3d\",\"colorbar\":{\"outlinewidth\":0,\"ticks\":\"\"}}],\"scatter\":[{\"fillpattern\":{\"fillmode\":\"overlay\",\"size\":10,\"solidity\":0.2},\"type\":\"scatter\"}],\"parcoords\":[{\"type\":\"parcoords\",\"line\":{\"colorbar\":{\"outlinewidth\":0,\"ticks\":\"\"}}}],\"scatterpolargl\":[{\"type\":\"scatterpolargl\",\"marker\":{\"colorbar\":{\"outlinewidth\":0,\"ticks\":\"\"}}}],\"bar\":[{\"error_x\":{\"color\":\"#2a3f5f\"},\"error_y\":{\"color\":\"#2a3f5f\"},\"marker\":{\"line\":{\"color\":\"#E5ECF6\",\"width\":0.5},\"pattern\":{\"fillmode\":\"overlay\",\"size\":10,\"solidity\":0.2}},\"type\":\"bar\"}],\"scattergeo\":[{\"type\":\"scattergeo\",\"marker\":{\"colorbar\":{\"outlinewidth\":0,\"ticks\":\"\"}}}],\"scatterpolar\":[{\"type\":\"scatterpolar\",\"marker\":{\"colorbar\":{\"outlinewidth\":0,\"ticks\":\"\"}}}],\"histogram\":[{\"marker\":{\"pattern\":{\"fillmode\":\"overlay\",\"size\":10,\"solidity\":0.2}},\"type\":\"histogram\"}],\"scattergl\":[{\"type\":\"scattergl\",\"marker\":{\"colorbar\":{\"outlinewidth\":0,\"ticks\":\"\"}}}],\"scatter3d\":[{\"type\":\"scatter3d\",\"line\":{\"colorbar\":{\"outlinewidth\":0,\"ticks\":\"\"}},\"marker\":{\"colorbar\":{\"outlinewidth\":0,\"ticks\":\"\"}}}],\"scattermapbox\":[{\"type\":\"scattermapbox\",\"marker\":{\"colorbar\":{\"outlinewidth\":0,\"ticks\":\"\"}}}],\"scatterternary\":[{\"type\":\"scatterternary\",\"marker\":{\"colorbar\":{\"outlinewidth\":0,\"ticks\":\"\"}}}],\"scattercarpet\":[{\"type\":\"scattercarpet\",\"marker\":{\"colorbar\":{\"outlinewidth\":0,\"ticks\":\"\"}}}],\"carpet\":[{\"aaxis\":{\"endlinecolor\":\"#2a3f5f\",\"gridcolor\":\"white\",\"linecolor\":\"white\",\"minorgridcolor\":\"white\",\"startlinecolor\":\"#2a3f5f\"},\"baxis\":{\"endlinecolor\":\"#2a3f5f\",\"gridcolor\":\"white\",\"linecolor\":\"white\",\"minorgridcolor\":\"white\",\"startlinecolor\":\"#2a3f5f\"},\"type\":\"carpet\"}],\"table\":[{\"cells\":{\"fill\":{\"color\":\"#EBF0F8\"},\"line\":{\"color\":\"white\"}},\"header\":{\"fill\":{\"color\":\"#C8D4E3\"},\"line\":{\"color\":\"white\"}},\"type\":\"table\"}],\"barpolar\":[{\"marker\":{\"line\":{\"color\":\"#E5ECF6\",\"width\":0.5},\"pattern\":{\"fillmode\":\"overlay\",\"size\":10,\"solidity\":0.2}},\"type\":\"barpolar\"}],\"pie\":[{\"automargin\":true,\"type\":\"pie\"}]},\"layout\":{\"autotypenumbers\":\"strict\",\"colorway\":[\"#636efa\",\"#EF553B\",\"#00cc96\",\"#ab63fa\",\"#FFA15A\",\"#19d3f3\",\"#FF6692\",\"#B6E880\",\"#FF97FF\",\"#FECB52\"],\"font\":{\"color\":\"#2a3f5f\"},\"hovermode\":\"closest\",\"hoverlabel\":{\"align\":\"left\"},\"paper_bgcolor\":\"white\",\"plot_bgcolor\":\"#E5ECF6\",\"polar\":{\"bgcolor\":\"#E5ECF6\",\"angularaxis\":{\"gridcolor\":\"white\",\"linecolor\":\"white\",\"ticks\":\"\"},\"radialaxis\":{\"gridcolor\":\"white\",\"linecolor\":\"white\",\"ticks\":\"\"}},\"ternary\":{\"bgcolor\":\"#E5ECF6\",\"aaxis\":{\"gridcolor\":\"white\",\"linecolor\":\"white\",\"ticks\":\"\"},\"baxis\":{\"gridcolor\":\"white\",\"linecolor\":\"white\",\"ticks\":\"\"},\"caxis\":{\"gridcolor\":\"white\",\"linecolor\":\"white\",\"ticks\":\"\"}},\"coloraxis\":{\"colorbar\":{\"outlinewidth\":0,\"ticks\":\"\"}},\"colorscale\":{\"sequential\":[[0.0,\"#0d0887\"],[0.1111111111111111,\"#46039f\"],[0.2222222222222222,\"#7201a8\"],[0.3333333333333333,\"#9c179e\"],[0.4444444444444444,\"#bd3786\"],[0.5555555555555556,\"#d8576b\"],[0.6666666666666666,\"#ed7953\"],[0.7777777777777778,\"#fb9f3a\"],[0.8888888888888888,\"#fdca26\"],[1.0,\"#f0f921\"]],\"sequentialminus\":[[0.0,\"#0d0887\"],[0.1111111111111111,\"#46039f\"],[0.2222222222222222,\"#7201a8\"],[0.3333333333333333,\"#9c179e\"],[0.4444444444444444,\"#bd3786\"],[0.5555555555555556,\"#d8576b\"],[0.6666666666666666,\"#ed7953\"],[0.7777777777777778,\"#fb9f3a\"],[0.8888888888888888,\"#fdca26\"],[1.0,\"#f0f921\"]],\"diverging\":[[0,\"#8e0152\"],[0.1,\"#c51b7d\"],[0.2,\"#de77ae\"],[0.3,\"#f1b6da\"],[0.4,\"#fde0ef\"],[0.5,\"#f7f7f7\"],[0.6,\"#e6f5d0\"],[0.7,\"#b8e186\"],[0.8,\"#7fbc41\"],[0.9,\"#4d9221\"],[1,\"#276419\"]]},\"xaxis\":{\"gridcolor\":\"white\",\"linecolor\":\"white\",\"ticks\":\"\",\"title\":{\"standoff\":15},\"zerolinecolor\":\"white\",\"automargin\":true,\"zerolinewidth\":2},\"yaxis\":{\"gridcolor\":\"white\",\"linecolor\":\"white\",\"ticks\":\"\",\"title\":{\"standoff\":15},\"zerolinecolor\":\"white\",\"automargin\":true,\"zerolinewidth\":2},\"scene\":{\"xaxis\":{\"backgroundcolor\":\"#E5ECF6\",\"gridcolor\":\"white\",\"linecolor\":\"white\",\"showbackground\":true,\"ticks\":\"\",\"zerolinecolor\":\"white\",\"gridwidth\":2},\"yaxis\":{\"backgroundcolor\":\"#E5ECF6\",\"gridcolor\":\"white\",\"linecolor\":\"white\",\"showbackground\":true,\"ticks\":\"\",\"zerolinecolor\":\"white\",\"gridwidth\":2},\"zaxis\":{\"backgroundcolor\":\"#E5ECF6\",\"gridcolor\":\"white\",\"linecolor\":\"white\",\"showbackground\":true,\"ticks\":\"\",\"zerolinecolor\":\"white\",\"gridwidth\":2}},\"shapedefaults\":{\"line\":{\"color\":\"#2a3f5f\"}},\"annotationdefaults\":{\"arrowcolor\":\"#2a3f5f\",\"arrowhead\":0,\"arrowwidth\":1},\"geo\":{\"bgcolor\":\"white\",\"landcolor\":\"#E5ECF6\",\"subunitcolor\":\"white\",\"showland\":true,\"showlakes\":true,\"lakecolor\":\"white\"},\"title\":{\"x\":0.05},\"mapbox\":{\"style\":\"light\"}}},\"xaxis\":{\"anchor\":\"y\",\"domain\":[0.0,0.2125],\"title\":{\"text\":\"alpha\"}},\"yaxis\":{\"anchor\":\"x\",\"domain\":[0.0,1.0],\"title\":{\"text\":\"Objective Value\"}},\"xaxis2\":{\"anchor\":\"y2\",\"domain\":[0.2625,0.475],\"title\":{\"text\":\"implicit\"},\"type\":\"category\",\"categoryorder\":\"array\",\"categoryarray\":[true,false]},\"yaxis2\":{\"anchor\":\"x2\",\"domain\":[0.0,1.0],\"matches\":\"y\",\"showticklabels\":false},\"xaxis3\":{\"anchor\":\"y3\",\"domain\":[0.525,0.7375],\"title\":{\"text\":\"normalize_similarity\"},\"type\":\"category\",\"categoryorder\":\"array\",\"categoryarray\":[true,false]},\"yaxis3\":{\"anchor\":\"x3\",\"domain\":[0.0,1.0],\"matches\":\"y\",\"showticklabels\":false},\"xaxis4\":{\"anchor\":\"y4\",\"domain\":[0.7875,1.0],\"title\":{\"text\":\"topK\"}},\"yaxis4\":{\"anchor\":\"x4\",\"domain\":[0.0,1.0],\"matches\":\"y\",\"showticklabels\":false},\"title\":{\"text\":\"Slice Plot\"},\"width\":1200},                        {\"responsive\": true}                    ).then(function(){\n",
       "                            \n",
       "var gd = document.getElementById('be9d973d-1edf-44d0-b971-565e59395625');\n",
       "var x = new MutationObserver(function (mutations, observer) {{\n",
       "        var display = window.getComputedStyle(gd).display;\n",
       "        if (!display || display === 'none') {{\n",
       "            console.log([gd, 'removed!']);\n",
       "            Plotly.purge(gd);\n",
       "            observer.disconnect();\n",
       "        }}\n",
       "}});\n",
       "\n",
       "// Listen for the removal of the full notebook cells\n",
       "var notebookContainer = gd.closest('#notebook-container');\n",
       "if (notebookContainer) {{\n",
       "    x.observe(notebookContainer, {childList: true});\n",
       "}}\n",
       "\n",
       "// Listen for the clearing of the current output cell\n",
       "var outputEl = gd.closest('.output');\n",
       "if (outputEl) {{\n",
       "    x.observe(outputEl, {childList: true});\n",
       "}}\n",
       "\n",
       "                        })                };                            </script>        </div>\n",
       "</body>\n",
       "</html>"
      ]
     },
     "metadata": {},
     "output_type": "display_data"
    }
   ],
   "source": [
    "if not config['tune_parameters']:\n",
    "    optuna_study = optuna.load_study(study_name=f'hyperparameters_tuning_{config[\"model\"]}_{config[\"metric\"]}', storage=f'sqlite:///{config[\"database_path\"]}')\n",
    "    \n",
    "fig = optuna.visualization.plot_slice(optuna_study)\n",
    "fig.show()"
   ]
  },
  {
   "cell_type": "code",
   "execution_count": 15,
   "id": "d76e5361",
   "metadata": {
    "execution": {
     "iopub.execute_input": "2025-01-07T10:24:11.616440Z",
     "iopub.status.busy": "2025-01-07T10:24:11.615934Z",
     "iopub.status.idle": "2025-01-07T10:24:31.402770Z",
     "shell.execute_reply": "2025-01-07T10:24:31.401441Z"
    },
    "papermill": {
     "duration": 19.921893,
     "end_time": "2025-01-07T10:24:31.404440",
     "exception": false,
     "start_time": "2025-01-07T10:24:11.482547",
     "status": "completed"
    },
    "tags": []
   },
   "outputs": [
    {
     "data": {
      "text/html": [
       "<html>\n",
       "<head><meta charset=\"utf-8\" /></head>\n",
       "<body>\n",
       "    <div>            <script src=\"https://cdnjs.cloudflare.com/ajax/libs/mathjax/2.7.5/MathJax.js?config=TeX-AMS-MML_SVG\"></script><script type=\"text/javascript\">if (window.MathJax && window.MathJax.Hub && window.MathJax.Hub.Config) {window.MathJax.Hub.Config({SVG: {font: \"STIX-Web\"}});}</script>                <script type=\"text/javascript\">window.PlotlyConfig = {MathJaxConfig: 'local'};</script>\n",
       "        <script charset=\"utf-8\" src=\"https://cdn.plot.ly/plotly-2.35.2.min.js\"></script>                <div id=\"fa1cade4-a48c-4386-9d72-24fe471149b8\" class=\"plotly-graph-div\" style=\"height:525px; width:100%;\"></div>            <script type=\"text/javascript\">                                    window.PLOTLYENV=window.PLOTLYENV || {};                                    if (document.getElementById(\"fa1cade4-a48c-4386-9d72-24fe471149b8\")) {                    Plotly.newPlot(                        \"fa1cade4-a48c-4386-9d72-24fe471149b8\",                        [{\"cliponaxis\":false,\"hovertemplate\":[\"implicit (CategoricalDistribution): 0.0030446817132808945\\u003cextra\\u003e\\u003c\\u002fextra\\u003e\",\"alpha (FloatDistribution): 0.04728275216154576\\u003cextra\\u003e\\u003c\\u002fextra\\u003e\",\"normalize_similarity (CategoricalDistribution): 0.12079281610169557\\u003cextra\\u003e\\u003c\\u002fextra\\u003e\",\"topK (IntDistribution): 0.8288797500234778\\u003cextra\\u003e\\u003c\\u002fextra\\u003e\"],\"name\":\"Objective Value\",\"orientation\":\"h\",\"text\":[\"\\u003c0.01\",\"0.05\",\"0.12\",\"0.83\"],\"textposition\":\"outside\",\"x\":[0.0030446817132808945,0.04728275216154576,0.12079281610169557,0.8288797500234778],\"y\":[\"implicit\",\"alpha\",\"normalize_similarity\",\"topK\"],\"type\":\"bar\"}],                        {\"title\":{\"text\":\"Hyperparameter Importances\"},\"xaxis\":{\"title\":{\"text\":\"Hyperparameter Importance\"}},\"yaxis\":{\"title\":{\"text\":\"Hyperparameter\"}},\"template\":{\"data\":{\"histogram2dcontour\":[{\"type\":\"histogram2dcontour\",\"colorbar\":{\"outlinewidth\":0,\"ticks\":\"\"},\"colorscale\":[[0.0,\"#0d0887\"],[0.1111111111111111,\"#46039f\"],[0.2222222222222222,\"#7201a8\"],[0.3333333333333333,\"#9c179e\"],[0.4444444444444444,\"#bd3786\"],[0.5555555555555556,\"#d8576b\"],[0.6666666666666666,\"#ed7953\"],[0.7777777777777778,\"#fb9f3a\"],[0.8888888888888888,\"#fdca26\"],[1.0,\"#f0f921\"]]}],\"choropleth\":[{\"type\":\"choropleth\",\"colorbar\":{\"outlinewidth\":0,\"ticks\":\"\"}}],\"histogram2d\":[{\"type\":\"histogram2d\",\"colorbar\":{\"outlinewidth\":0,\"ticks\":\"\"},\"colorscale\":[[0.0,\"#0d0887\"],[0.1111111111111111,\"#46039f\"],[0.2222222222222222,\"#7201a8\"],[0.3333333333333333,\"#9c179e\"],[0.4444444444444444,\"#bd3786\"],[0.5555555555555556,\"#d8576b\"],[0.6666666666666666,\"#ed7953\"],[0.7777777777777778,\"#fb9f3a\"],[0.8888888888888888,\"#fdca26\"],[1.0,\"#f0f921\"]]}],\"heatmap\":[{\"type\":\"heatmap\",\"colorbar\":{\"outlinewidth\":0,\"ticks\":\"\"},\"colorscale\":[[0.0,\"#0d0887\"],[0.1111111111111111,\"#46039f\"],[0.2222222222222222,\"#7201a8\"],[0.3333333333333333,\"#9c179e\"],[0.4444444444444444,\"#bd3786\"],[0.5555555555555556,\"#d8576b\"],[0.6666666666666666,\"#ed7953\"],[0.7777777777777778,\"#fb9f3a\"],[0.8888888888888888,\"#fdca26\"],[1.0,\"#f0f921\"]]}],\"heatmapgl\":[{\"type\":\"heatmapgl\",\"colorbar\":{\"outlinewidth\":0,\"ticks\":\"\"},\"colorscale\":[[0.0,\"#0d0887\"],[0.1111111111111111,\"#46039f\"],[0.2222222222222222,\"#7201a8\"],[0.3333333333333333,\"#9c179e\"],[0.4444444444444444,\"#bd3786\"],[0.5555555555555556,\"#d8576b\"],[0.6666666666666666,\"#ed7953\"],[0.7777777777777778,\"#fb9f3a\"],[0.8888888888888888,\"#fdca26\"],[1.0,\"#f0f921\"]]}],\"contourcarpet\":[{\"type\":\"contourcarpet\",\"colorbar\":{\"outlinewidth\":0,\"ticks\":\"\"}}],\"contour\":[{\"type\":\"contour\",\"colorbar\":{\"outlinewidth\":0,\"ticks\":\"\"},\"colorscale\":[[0.0,\"#0d0887\"],[0.1111111111111111,\"#46039f\"],[0.2222222222222222,\"#7201a8\"],[0.3333333333333333,\"#9c179e\"],[0.4444444444444444,\"#bd3786\"],[0.5555555555555556,\"#d8576b\"],[0.6666666666666666,\"#ed7953\"],[0.7777777777777778,\"#fb9f3a\"],[0.8888888888888888,\"#fdca26\"],[1.0,\"#f0f921\"]]}],\"surface\":[{\"type\":\"surface\",\"colorbar\":{\"outlinewidth\":0,\"ticks\":\"\"},\"colorscale\":[[0.0,\"#0d0887\"],[0.1111111111111111,\"#46039f\"],[0.2222222222222222,\"#7201a8\"],[0.3333333333333333,\"#9c179e\"],[0.4444444444444444,\"#bd3786\"],[0.5555555555555556,\"#d8576b\"],[0.6666666666666666,\"#ed7953\"],[0.7777777777777778,\"#fb9f3a\"],[0.8888888888888888,\"#fdca26\"],[1.0,\"#f0f921\"]]}],\"mesh3d\":[{\"type\":\"mesh3d\",\"colorbar\":{\"outlinewidth\":0,\"ticks\":\"\"}}],\"scatter\":[{\"fillpattern\":{\"fillmode\":\"overlay\",\"size\":10,\"solidity\":0.2},\"type\":\"scatter\"}],\"parcoords\":[{\"type\":\"parcoords\",\"line\":{\"colorbar\":{\"outlinewidth\":0,\"ticks\":\"\"}}}],\"scatterpolargl\":[{\"type\":\"scatterpolargl\",\"marker\":{\"colorbar\":{\"outlinewidth\":0,\"ticks\":\"\"}}}],\"bar\":[{\"error_x\":{\"color\":\"#2a3f5f\"},\"error_y\":{\"color\":\"#2a3f5f\"},\"marker\":{\"line\":{\"color\":\"#E5ECF6\",\"width\":0.5},\"pattern\":{\"fillmode\":\"overlay\",\"size\":10,\"solidity\":0.2}},\"type\":\"bar\"}],\"scattergeo\":[{\"type\":\"scattergeo\",\"marker\":{\"colorbar\":{\"outlinewidth\":0,\"ticks\":\"\"}}}],\"scatterpolar\":[{\"type\":\"scatterpolar\",\"marker\":{\"colorbar\":{\"outlinewidth\":0,\"ticks\":\"\"}}}],\"histogram\":[{\"marker\":{\"pattern\":{\"fillmode\":\"overlay\",\"size\":10,\"solidity\":0.2}},\"type\":\"histogram\"}],\"scattergl\":[{\"type\":\"scattergl\",\"marker\":{\"colorbar\":{\"outlinewidth\":0,\"ticks\":\"\"}}}],\"scatter3d\":[{\"type\":\"scatter3d\",\"line\":{\"colorbar\":{\"outlinewidth\":0,\"ticks\":\"\"}},\"marker\":{\"colorbar\":{\"outlinewidth\":0,\"ticks\":\"\"}}}],\"scattermapbox\":[{\"type\":\"scattermapbox\",\"marker\":{\"colorbar\":{\"outlinewidth\":0,\"ticks\":\"\"}}}],\"scatterternary\":[{\"type\":\"scatterternary\",\"marker\":{\"colorbar\":{\"outlinewidth\":0,\"ticks\":\"\"}}}],\"scattercarpet\":[{\"type\":\"scattercarpet\",\"marker\":{\"colorbar\":{\"outlinewidth\":0,\"ticks\":\"\"}}}],\"carpet\":[{\"aaxis\":{\"endlinecolor\":\"#2a3f5f\",\"gridcolor\":\"white\",\"linecolor\":\"white\",\"minorgridcolor\":\"white\",\"startlinecolor\":\"#2a3f5f\"},\"baxis\":{\"endlinecolor\":\"#2a3f5f\",\"gridcolor\":\"white\",\"linecolor\":\"white\",\"minorgridcolor\":\"white\",\"startlinecolor\":\"#2a3f5f\"},\"type\":\"carpet\"}],\"table\":[{\"cells\":{\"fill\":{\"color\":\"#EBF0F8\"},\"line\":{\"color\":\"white\"}},\"header\":{\"fill\":{\"color\":\"#C8D4E3\"},\"line\":{\"color\":\"white\"}},\"type\":\"table\"}],\"barpolar\":[{\"marker\":{\"line\":{\"color\":\"#E5ECF6\",\"width\":0.5},\"pattern\":{\"fillmode\":\"overlay\",\"size\":10,\"solidity\":0.2}},\"type\":\"barpolar\"}],\"pie\":[{\"automargin\":true,\"type\":\"pie\"}]},\"layout\":{\"autotypenumbers\":\"strict\",\"colorway\":[\"#636efa\",\"#EF553B\",\"#00cc96\",\"#ab63fa\",\"#FFA15A\",\"#19d3f3\",\"#FF6692\",\"#B6E880\",\"#FF97FF\",\"#FECB52\"],\"font\":{\"color\":\"#2a3f5f\"},\"hovermode\":\"closest\",\"hoverlabel\":{\"align\":\"left\"},\"paper_bgcolor\":\"white\",\"plot_bgcolor\":\"#E5ECF6\",\"polar\":{\"bgcolor\":\"#E5ECF6\",\"angularaxis\":{\"gridcolor\":\"white\",\"linecolor\":\"white\",\"ticks\":\"\"},\"radialaxis\":{\"gridcolor\":\"white\",\"linecolor\":\"white\",\"ticks\":\"\"}},\"ternary\":{\"bgcolor\":\"#E5ECF6\",\"aaxis\":{\"gridcolor\":\"white\",\"linecolor\":\"white\",\"ticks\":\"\"},\"baxis\":{\"gridcolor\":\"white\",\"linecolor\":\"white\",\"ticks\":\"\"},\"caxis\":{\"gridcolor\":\"white\",\"linecolor\":\"white\",\"ticks\":\"\"}},\"coloraxis\":{\"colorbar\":{\"outlinewidth\":0,\"ticks\":\"\"}},\"colorscale\":{\"sequential\":[[0.0,\"#0d0887\"],[0.1111111111111111,\"#46039f\"],[0.2222222222222222,\"#7201a8\"],[0.3333333333333333,\"#9c179e\"],[0.4444444444444444,\"#bd3786\"],[0.5555555555555556,\"#d8576b\"],[0.6666666666666666,\"#ed7953\"],[0.7777777777777778,\"#fb9f3a\"],[0.8888888888888888,\"#fdca26\"],[1.0,\"#f0f921\"]],\"sequentialminus\":[[0.0,\"#0d0887\"],[0.1111111111111111,\"#46039f\"],[0.2222222222222222,\"#7201a8\"],[0.3333333333333333,\"#9c179e\"],[0.4444444444444444,\"#bd3786\"],[0.5555555555555556,\"#d8576b\"],[0.6666666666666666,\"#ed7953\"],[0.7777777777777778,\"#fb9f3a\"],[0.8888888888888888,\"#fdca26\"],[1.0,\"#f0f921\"]],\"diverging\":[[0,\"#8e0152\"],[0.1,\"#c51b7d\"],[0.2,\"#de77ae\"],[0.3,\"#f1b6da\"],[0.4,\"#fde0ef\"],[0.5,\"#f7f7f7\"],[0.6,\"#e6f5d0\"],[0.7,\"#b8e186\"],[0.8,\"#7fbc41\"],[0.9,\"#4d9221\"],[1,\"#276419\"]]},\"xaxis\":{\"gridcolor\":\"white\",\"linecolor\":\"white\",\"ticks\":\"\",\"title\":{\"standoff\":15},\"zerolinecolor\":\"white\",\"automargin\":true,\"zerolinewidth\":2},\"yaxis\":{\"gridcolor\":\"white\",\"linecolor\":\"white\",\"ticks\":\"\",\"title\":{\"standoff\":15},\"zerolinecolor\":\"white\",\"automargin\":true,\"zerolinewidth\":2},\"scene\":{\"xaxis\":{\"backgroundcolor\":\"#E5ECF6\",\"gridcolor\":\"white\",\"linecolor\":\"white\",\"showbackground\":true,\"ticks\":\"\",\"zerolinecolor\":\"white\",\"gridwidth\":2},\"yaxis\":{\"backgroundcolor\":\"#E5ECF6\",\"gridcolor\":\"white\",\"linecolor\":\"white\",\"showbackground\":true,\"ticks\":\"\",\"zerolinecolor\":\"white\",\"gridwidth\":2},\"zaxis\":{\"backgroundcolor\":\"#E5ECF6\",\"gridcolor\":\"white\",\"linecolor\":\"white\",\"showbackground\":true,\"ticks\":\"\",\"zerolinecolor\":\"white\",\"gridwidth\":2}},\"shapedefaults\":{\"line\":{\"color\":\"#2a3f5f\"}},\"annotationdefaults\":{\"arrowcolor\":\"#2a3f5f\",\"arrowhead\":0,\"arrowwidth\":1},\"geo\":{\"bgcolor\":\"white\",\"landcolor\":\"#E5ECF6\",\"subunitcolor\":\"white\",\"showland\":true,\"showlakes\":true,\"lakecolor\":\"white\"},\"title\":{\"x\":0.05},\"mapbox\":{\"style\":\"light\"}}}},                        {\"responsive\": true}                    ).then(function(){\n",
       "                            \n",
       "var gd = document.getElementById('fa1cade4-a48c-4386-9d72-24fe471149b8');\n",
       "var x = new MutationObserver(function (mutations, observer) {{\n",
       "        var display = window.getComputedStyle(gd).display;\n",
       "        if (!display || display === 'none') {{\n",
       "            console.log([gd, 'removed!']);\n",
       "            Plotly.purge(gd);\n",
       "            observer.disconnect();\n",
       "        }}\n",
       "}});\n",
       "\n",
       "// Listen for the removal of the full notebook cells\n",
       "var notebookContainer = gd.closest('#notebook-container');\n",
       "if (notebookContainer) {{\n",
       "    x.observe(notebookContainer, {childList: true});\n",
       "}}\n",
       "\n",
       "// Listen for the clearing of the current output cell\n",
       "var outputEl = gd.closest('.output');\n",
       "if (outputEl) {{\n",
       "    x.observe(outputEl, {childList: true});\n",
       "}}\n",
       "\n",
       "                        })                };                            </script>        </div>\n",
       "</body>\n",
       "</html>"
      ]
     },
     "metadata": {},
     "output_type": "display_data"
    }
   ],
   "source": [
    "if not config['tune_parameters']:\n",
    "    optuna_study = optuna.load_study(study_name=f'hyperparameters_tuning_{config[\"model\"]}_{config[\"metric\"]}', storage=f'sqlite:///{config[\"database_path\"]}')\n",
    "    \n",
    "fig = optuna.visualization.plot_param_importances(optuna_study)\n",
    "fig.show()"
   ]
  },
  {
   "cell_type": "markdown",
   "id": "0c2b503c",
   "metadata": {
    "papermill": {
     "duration": 0.134386,
     "end_time": "2025-01-07T10:24:31.673749",
     "exception": false,
     "start_time": "2025-01-07T10:24:31.539363",
     "status": "completed"
    },
    "tags": []
   },
   "source": [
    "## Let's train the recommender with best parameter values"
   ]
  },
  {
   "cell_type": "code",
   "execution_count": 16,
   "id": "34edbfd2",
   "metadata": {
    "execution": {
     "iopub.execute_input": "2025-01-07T10:24:31.943744Z",
     "iopub.status.busy": "2025-01-07T10:24:31.943210Z",
     "iopub.status.idle": "2025-01-07T10:24:51.814876Z",
     "shell.execute_reply": "2025-01-07T10:24:51.813799Z"
    },
    "papermill": {
     "duration": 20.008954,
     "end_time": "2025-01-07T10:24:51.816917",
     "exception": false,
     "start_time": "2025-01-07T10:24:31.807963",
     "status": "completed"
    },
    "tags": []
   },
   "outputs": [
    {
     "name": "stdout",
     "output_type": "stream",
     "text": [
      "P3alphaRecommender: Similarity column 38121 (100.0%), 2042.53 column/sec. Elapsed time 18.66 sec\n"
     ]
    }
   ],
   "source": [
    "if config['tune_best_params']:\n",
    "\n",
    "    if config['tune_parameters']:\n",
    "        best_params = optuna_study.best_trial.params\n",
    "    else: \n",
    "        with open(f'{K_PATH}/{GH_PATH}/{config[\"model\"]}Recommender/Optimizing{config[\"metric\"]}/best_params_{config[\"model\"]}_{config[\"metric\"]}.json', 'r') as best_params_json:\n",
    "            best_params = json.load(best_params_json)\n",
    "\n",
    "    recommender_instance = P3alphaRecommender(URM_train + URM_validation)\n",
    "    recommender_instance.fit(**best_params)"
   ]
  },
  {
   "cell_type": "markdown",
   "id": "44af00a0",
   "metadata": {
    "papermill": {
     "duration": 0.135322,
     "end_time": "2025-01-07T10:24:52.085954",
     "exception": false,
     "start_time": "2025-01-07T10:24:51.950632",
     "status": "completed"
    },
    "tags": []
   },
   "source": [
    "# Testing"
   ]
  },
  {
   "cell_type": "markdown",
   "id": "ee7f263c",
   "metadata": {
    "papermill": {
     "duration": 0.133088,
     "end_time": "2025-01-07T10:24:52.350354",
     "exception": false,
     "start_time": "2025-01-07T10:24:52.217266",
     "status": "completed"
    },
    "tags": []
   },
   "source": [
    "Create the recommendations for the submission. "
   ]
  },
  {
   "cell_type": "code",
   "execution_count": 17,
   "id": "cefafd5c",
   "metadata": {
    "execution": {
     "iopub.execute_input": "2025-01-07T10:24:52.616505Z",
     "iopub.status.busy": "2025-01-07T10:24:52.616159Z",
     "iopub.status.idle": "2025-01-07T10:25:18.081529Z",
     "shell.execute_reply": "2025-01-07T10:25:18.080041Z"
    },
    "papermill": {
     "duration": 25.601255,
     "end_time": "2025-01-07T10:25:18.083510",
     "exception": false,
     "start_time": "2025-01-07T10:24:52.482255",
     "status": "completed"
    },
    "tags": []
   },
   "outputs": [
    {
     "name": "stdout",
     "output_type": "stream",
     "text": [
      "Submission file saved as /kaggle/working/submission_P3alpha_MAP.csv\n"
     ]
    }
   ],
   "source": [
    "if config['tune_best_params']:\n",
    "\n",
    "    data_target_users_test = pd.read_csv('/kaggle/input/recommender-system-2024-challenge-polimi/data_target_users_test.csv')\n",
    "    create_submission(data_target_users_test, recommender_instance, f'/kaggle/working/submission_{config[\"model\"]}_{config[\"metric\"]}.csv')"
   ]
  },
  {
   "cell_type": "markdown",
   "id": "d20638b0",
   "metadata": {
    "execution": {
     "iopub.execute_input": "2024-11-14T00:04:16.877791Z",
     "iopub.status.busy": "2024-11-14T00:04:16.877275Z",
     "iopub.status.idle": "2024-11-14T00:04:16.883170Z",
     "shell.execute_reply": "2024-11-14T00:04:16.881889Z",
     "shell.execute_reply.started": "2024-11-14T00:04:16.877743Z"
    },
    "papermill": {
     "duration": 0.136679,
     "end_time": "2025-01-07T10:25:18.359737",
     "exception": false,
     "start_time": "2025-01-07T10:25:18.223058",
     "status": "completed"
    },
    "tags": []
   },
   "source": [
    "# Save Version on GitHub "
   ]
  },
  {
   "cell_type": "markdown",
   "id": "2fe37758",
   "metadata": {
    "papermill": {
     "duration": 0.133793,
     "end_time": "2025-01-07T10:25:18.628990",
     "exception": false,
     "start_time": "2025-01-07T10:25:18.495197",
     "status": "completed"
    },
    "tags": []
   },
   "source": [
    "Write or import a json file where best hyperparameters are saved. "
   ]
  },
  {
   "cell_type": "code",
   "execution_count": 18,
   "id": "1aa8504b",
   "metadata": {
    "execution": {
     "iopub.execute_input": "2025-01-07T10:25:18.895007Z",
     "iopub.status.busy": "2025-01-07T10:25:18.894566Z",
     "iopub.status.idle": "2025-01-07T10:25:19.713967Z",
     "shell.execute_reply": "2025-01-07T10:25:19.712518Z"
    },
    "papermill": {
     "duration": 0.955271,
     "end_time": "2025-01-07T10:25:19.716070",
     "exception": false,
     "start_time": "2025-01-07T10:25:18.760799",
     "status": "completed"
    },
    "tags": []
   },
   "outputs": [
    {
     "name": "stdout",
     "output_type": "stream",
     "text": [
      "File 'TrainedModels/WithKFCV/GraphBased/P3alphaRecommender/OptimizingMAP/best_params_P3alpha_MAP.json' updated successfully.\n"
     ]
    }
   ],
   "source": [
    "if config['tune_parameters']:\n",
    "    with open(f'/kaggle/working/best_params_{config[\"model\"]}_{config[\"metric\"]}.json', 'w') as params_file:\n",
    "        json.dump(optuna_study.best_params, params_file)\n",
    "        \n",
    "    if config['save_github']:\n",
    "        upload_file(\n",
    "            f'/kaggle/working/best_params_{config[\"model\"]}_{config[\"metric\"]}.json', \n",
    "            f'{GH_PATH}/{config[\"model\"]}Recommender/Optimizing{config[\"metric\"]}/best_params_{config[\"model\"]}_{config[\"metric\"]}.json', \n",
    "            f'{config[\"model\"]}_{config[\"metric\"]} tuning results (from kaggle notebook)',\n",
    "            repo\n",
    "        )\n",
    "elif config['copy_prev_best_params']:\n",
    "    shutil.copyfile(\n",
    "        f'{K_PATH}/{GH_PATH}/{config[\"model\"]}Recommender/Optimizing{config[\"metric\"]}/'\\\n",
    "        f'best_params_{config[\"model\"]}_{config[\"metric\"]}.json', \n",
    "        f'/kaggle/working/best_params_{config[\"model\"]}_{config[\"metric\"]}.json'\n",
    "    )"
   ]
  },
  {
   "cell_type": "markdown",
   "id": "067734d1",
   "metadata": {
    "execution": {
     "iopub.execute_input": "2024-11-14T00:41:34.294243Z",
     "iopub.status.busy": "2024-11-14T00:41:34.293739Z",
     "iopub.status.idle": "2024-11-14T00:41:34.301478Z",
     "shell.execute_reply": "2024-11-14T00:41:34.299869Z",
     "shell.execute_reply.started": "2024-11-14T00:41:34.294186Z"
    },
    "papermill": {
     "duration": 0.132544,
     "end_time": "2025-01-07T10:25:19.982166",
     "exception": false,
     "start_time": "2025-01-07T10:25:19.849622",
     "status": "completed"
    },
    "tags": []
   },
   "source": [
    "Save the history of the tuned model."
   ]
  },
  {
   "cell_type": "code",
   "execution_count": 19,
   "id": "62bbabe0",
   "metadata": {
    "execution": {
     "iopub.execute_input": "2025-01-07T10:25:20.251102Z",
     "iopub.status.busy": "2025-01-07T10:25:20.250709Z",
     "iopub.status.idle": "2025-01-07T10:25:21.401307Z",
     "shell.execute_reply": "2025-01-07T10:25:21.399538Z"
    },
    "papermill": {
     "duration": 1.287382,
     "end_time": "2025-01-07T10:25:21.403500",
     "exception": false,
     "start_time": "2025-01-07T10:25:20.116118",
     "status": "completed"
    },
    "tags": []
   },
   "outputs": [
    {
     "name": "stdout",
     "output_type": "stream",
     "text": [
      "File 'TrainedModels/WithKFCV/GraphBased/P3alphaRecommender/OptimizingMAP/history_P3alpha_MAP.db' updated successfully.\n"
     ]
    }
   ],
   "source": [
    "if config['save_github'] and config['tune_parameters']:\n",
    "    upload_file(\n",
    "        config['database_path'], \n",
    "        f'{GH_PATH}/{config[\"model\"]}Recommender/Optimizing{config[\"metric\"]}/history_{config[\"model\"]}_{config[\"metric\"]}.db',\n",
    "        f'Tuning {config[\"model\"]}_{config[\"metric\"]} db updated results (from kaggle notebook)',\n",
    "        repo\n",
    "    )"
   ]
  },
  {
   "cell_type": "markdown",
   "id": "0043dcd4",
   "metadata": {
    "papermill": {
     "duration": 0.134436,
     "end_time": "2025-01-07T10:25:21.671154",
     "exception": false,
     "start_time": "2025-01-07T10:25:21.536718",
     "status": "completed"
    },
    "tags": []
   },
   "source": [
    "Save the best trained model and its submission."
   ]
  },
  {
   "cell_type": "code",
   "execution_count": 20,
   "id": "ed27e421",
   "metadata": {
    "execution": {
     "iopub.execute_input": "2025-01-07T10:25:21.942145Z",
     "iopub.status.busy": "2025-01-07T10:25:21.941588Z",
     "iopub.status.idle": "2025-01-07T10:25:22.984986Z",
     "shell.execute_reply": "2025-01-07T10:25:22.983761Z"
    },
    "papermill": {
     "duration": 1.182704,
     "end_time": "2025-01-07T10:25:22.986869",
     "exception": false,
     "start_time": "2025-01-07T10:25:21.804165",
     "status": "completed"
    },
    "tags": []
   },
   "outputs": [
    {
     "name": "stdout",
     "output_type": "stream",
     "text": [
      "File 'TrainedModels/WithKFCV/GraphBased/P3alphaRecommender/OptimizingMAP/Submission/submission_P3alpha_MAP.csv' updated successfully.\n"
     ]
    }
   ],
   "source": [
    "if config['save_github'] and config['tune_best_params']: \n",
    "    upload_file(\n",
    "                f'/kaggle/working/submission_{config[\"model\"]}_{config[\"metric\"]}.csv', \n",
    "                f'{GH_PATH}/{config[\"model\"]}Recommender/Optimizing{config[\"metric\"]}/Submission/submission_{config[\"model\"]}_{config[\"metric\"]}.csv', \n",
    "                f'New {config[\"model\"]}_{config[\"metric\"]} submission (from kaggle notebook)',\n",
    "                repo\n",
    "            )"
   ]
  }
 ],
 "metadata": {
  "kaggle": {
   "accelerator": "none",
   "dataSources": [
    {
     "databundleVersionId": 9982103,
     "sourceId": 87439,
     "sourceType": "competition"
    }
   ],
   "dockerImageVersionId": 30822,
   "isGpuEnabled": false,
   "isInternetEnabled": true,
   "language": "python",
   "sourceType": "notebook"
  },
  "kernelspec": {
   "display_name": "Python 3",
   "language": "python",
   "name": "python3"
  },
  "language_info": {
   "codemirror_mode": {
    "name": "ipython",
    "version": 3
   },
   "file_extension": ".py",
   "mimetype": "text/x-python",
   "name": "python",
   "nbconvert_exporter": "python",
   "pygments_lexer": "ipython3",
   "version": "3.10.12"
  },
  "papermill": {
   "default_parameters": {},
   "duration": 38098.243936,
   "end_time": "2025-01-07T10:25:24.500024",
   "environment_variables": {},
   "exception": null,
   "input_path": "__notebook__.ipynb",
   "output_path": "__notebook__.ipynb",
   "parameters": {},
   "start_time": "2025-01-06T23:50:26.256088",
   "version": "2.6.0"
  }
 },
 "nbformat": 4,
 "nbformat_minor": 5
}
