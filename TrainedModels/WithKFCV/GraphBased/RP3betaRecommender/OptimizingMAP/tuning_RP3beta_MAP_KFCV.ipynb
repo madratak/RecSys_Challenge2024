{
 "cells": [
  {
   "cell_type": "markdown",
   "id": "31a29c31",
   "metadata": {
    "papermill": {
     "duration": 0.006693,
     "end_time": "2025-01-05T23:28:47.039826",
     "exception": false,
     "start_time": "2025-01-05T23:28:47.033133",
     "status": "completed"
    },
    "tags": []
   },
   "source": [
    "# Set connection with GitHub"
   ]
  },
  {
   "cell_type": "code",
   "execution_count": 1,
   "id": "ab61d846",
   "metadata": {
    "execution": {
     "iopub.execute_input": "2025-01-05T23:28:47.053562Z",
     "iopub.status.busy": "2025-01-05T23:28:47.053148Z",
     "iopub.status.idle": "2025-01-05T23:28:47.059855Z",
     "shell.execute_reply": "2025-01-05T23:28:47.058437Z"
    },
    "papermill": {
     "duration": 0.016059,
     "end_time": "2025-01-05T23:28:47.062216",
     "exception": false,
     "start_time": "2025-01-05T23:28:47.046157",
     "status": "completed"
    },
    "tags": []
   },
   "outputs": [],
   "source": [
    "# ! cd /kaggle/working && rm -rf RECsys_Challenge2024"
   ]
  },
  {
   "cell_type": "code",
   "execution_count": 2,
   "id": "a815b7d8",
   "metadata": {
    "_cell_guid": "b1076dfc-b9ad-4769-8c92-a6c4dae69d19",
    "_uuid": "8f2839f25d086af736a60e9eeb907d3b93b6e0e5",
    "execution": {
     "iopub.execute_input": "2025-01-05T23:28:47.076026Z",
     "iopub.status.busy": "2025-01-05T23:28:47.075662Z",
     "iopub.status.idle": "2025-01-05T23:29:05.204424Z",
     "shell.execute_reply": "2025-01-05T23:29:05.203175Z"
    },
    "papermill": {
     "duration": 18.138381,
     "end_time": "2025-01-05T23:29:05.206933",
     "exception": false,
     "start_time": "2025-01-05T23:28:47.068552",
     "status": "completed"
    },
    "tags": []
   },
   "outputs": [
    {
     "name": "stdout",
     "output_type": "stream",
     "text": [
      "Cloning into 'RECsys_Challenge2024'...\r\n",
      "remote: Enumerating objects: 6616, done.\u001b[K\r\n",
      "remote: Counting objects: 100% (166/166), done.\u001b[K\r\n",
      "remote: Compressing objects: 100% (150/150), done.\u001b[K\r\n",
      "remote: Total 6616 (delta 58), reused 5 (delta 1), pack-reused 6450 (from 2)\u001b[K\r\n",
      "Receiving objects: 100% (6616/6616), 407.01 MiB | 31.08 MiB/s, done.\r\n",
      "Resolving deltas: 100% (3633/3633), done.\r\n",
      "Updating files: 100% (502/502), done.\r\n"
     ]
    }
   ],
   "source": [
    "from kaggle_secrets import UserSecretsClient\n",
    "\n",
    "token = UserSecretsClient().get_secret(\"Token\")\n",
    "\n",
    "! git clone https://{token}@github.com/madratak/RECsys_Challenge2024.git"
   ]
  },
  {
   "cell_type": "code",
   "execution_count": 3,
   "id": "0a786154",
   "metadata": {
    "execution": {
     "iopub.execute_input": "2025-01-05T23:29:05.232357Z",
     "iopub.status.busy": "2025-01-05T23:29:05.231956Z",
     "iopub.status.idle": "2025-01-05T23:29:12.165564Z",
     "shell.execute_reply": "2025-01-05T23:29:12.164177Z"
    },
    "papermill": {
     "duration": 6.94854,
     "end_time": "2025-01-05T23:29:12.167686",
     "exception": false,
     "start_time": "2025-01-05T23:29:05.219146",
     "status": "completed"
    },
    "tags": []
   },
   "outputs": [
    {
     "name": "stdout",
     "output_type": "stream",
     "text": [
      "Collecting PyGithub\r\n",
      "  Downloading PyGithub-2.5.0-py3-none-any.whl.metadata (3.9 kB)\r\n",
      "Requirement already satisfied: requests in /usr/local/lib/python3.10/dist-packages (2.32.3)\r\n",
      "Collecting pynacl>=1.4.0 (from PyGithub)\r\n",
      "  Downloading PyNaCl-1.5.0-cp36-abi3-manylinux_2_17_x86_64.manylinux2014_x86_64.manylinux_2_24_x86_64.whl.metadata (8.6 kB)\r\n",
      "Requirement already satisfied: pyjwt>=2.4.0 in /usr/local/lib/python3.10/dist-packages (from pyjwt[crypto]>=2.4.0->PyGithub) (2.9.0)\r\n",
      "Requirement already satisfied: typing-extensions>=4.0.0 in /usr/local/lib/python3.10/dist-packages (from PyGithub) (4.12.2)\r\n",
      "Requirement already satisfied: urllib3>=1.26.0 in /usr/local/lib/python3.10/dist-packages (from PyGithub) (2.2.3)\r\n",
      "Requirement already satisfied: Deprecated in /usr/local/lib/python3.10/dist-packages (from PyGithub) (1.2.15)\r\n",
      "Requirement already satisfied: charset-normalizer<4,>=2 in /usr/local/lib/python3.10/dist-packages (from requests) (3.3.2)\r\n",
      "Requirement already satisfied: idna<4,>=2.5 in /usr/local/lib/python3.10/dist-packages (from requests) (3.10)\r\n",
      "Requirement already satisfied: certifi>=2017.4.17 in /usr/local/lib/python3.10/dist-packages (from requests) (2024.8.30)\r\n",
      "Requirement already satisfied: cryptography>=3.4.0 in /usr/local/lib/python3.10/dist-packages (from pyjwt[crypto]>=2.4.0->PyGithub) (43.0.1)\r\n",
      "Requirement already satisfied: cffi>=1.4.1 in /usr/local/lib/python3.10/dist-packages (from pynacl>=1.4.0->PyGithub) (1.17.1)\r\n",
      "Requirement already satisfied: wrapt<2,>=1.10 in /usr/local/lib/python3.10/dist-packages (from Deprecated->PyGithub) (1.16.0)\r\n",
      "Requirement already satisfied: pycparser in /usr/local/lib/python3.10/dist-packages (from cffi>=1.4.1->pynacl>=1.4.0->PyGithub) (2.22)\r\n",
      "Downloading PyGithub-2.5.0-py3-none-any.whl (375 kB)\r\n",
      "\u001b[2K   \u001b[90m━━━━━━━━━━━━━━━━━━━━━━━━━━━━━━━━━━━━━━━━\u001b[0m \u001b[32m375.9/375.9 kB\u001b[0m \u001b[31m6.6 MB/s\u001b[0m eta \u001b[36m0:00:00\u001b[0m\r\n",
      "\u001b[?25hDownloading PyNaCl-1.5.0-cp36-abi3-manylinux_2_17_x86_64.manylinux2014_x86_64.manylinux_2_24_x86_64.whl (856 kB)\r\n",
      "\u001b[2K   \u001b[90m━━━━━━━━━━━━━━━━━━━━━━━━━━━━━━━━━━━━━━━━\u001b[0m \u001b[32m856.7/856.7 kB\u001b[0m \u001b[31m22.7 MB/s\u001b[0m eta \u001b[36m0:00:00\u001b[0m\r\n",
      "\u001b[?25hInstalling collected packages: pynacl, PyGithub\r\n",
      "Successfully installed PyGithub-2.5.0 pynacl-1.5.0\r\n"
     ]
    }
   ],
   "source": [
    "! pip install PyGithub requests"
   ]
  },
  {
   "cell_type": "code",
   "execution_count": 4,
   "id": "782c5654",
   "metadata": {
    "_kg_hide-input": false,
    "execution": {
     "iopub.execute_input": "2025-01-05T23:29:12.195076Z",
     "iopub.status.busy": "2025-01-05T23:29:12.194720Z",
     "iopub.status.idle": "2025-01-05T23:32:05.766985Z",
     "shell.execute_reply": "2025-01-05T23:32:05.765360Z"
    },
    "papermill": {
     "duration": 173.588662,
     "end_time": "2025-01-05T23:32:05.769281",
     "exception": false,
     "start_time": "2025-01-05T23:29:12.180619",
     "status": "completed"
    },
    "tags": []
   },
   "outputs": [
    {
     "name": "stdout",
     "output_type": "stream",
     "text": [
      "/kaggle/working/RECsys_Challenge2024\n",
      "run_compile_all_cython: Found 11 Cython files in 5 folders...\r\n",
      "run_compile_all_cython: All files will be compiled using your current python environment: '/usr/bin/python3'\r\n",
      "Compiling [1/11]: MatrixFactorization_Cython_Epoch.pyx... \r\n",
      "In file included from \u001b[01m\u001b[K/usr/local/lib/python3.10/dist-packages/numpy/core/include/numpy/ndarraytypes.h:1929\u001b[m\u001b[K,\r\n",
      "                 from \u001b[01m\u001b[K/usr/local/lib/python3.10/dist-packages/numpy/core/include/numpy/ndarrayobject.h:12\u001b[m\u001b[K,\r\n",
      "                 from \u001b[01m\u001b[K/usr/local/lib/python3.10/dist-packages/numpy/core/include/numpy/arrayobject.h:5\u001b[m\u001b[K,\r\n",
      "                 from \u001b[01m\u001b[KMatrixFactorization_Cython_Epoch.c:1252\u001b[m\u001b[K:\r\n",
      "\u001b[01m\u001b[K/usr/local/lib/python3.10/dist-packages/numpy/core/include/numpy/npy_1_7_deprecated_api.h:17:2:\u001b[m\u001b[K \u001b[01;35m\u001b[Kwarning: \u001b[m\u001b[K#warning \"Using deprecated NumPy API, disable it with \" \"#define NPY_NO_DEPRECATED_API NPY_1_7_API_VERSION\" [\u001b[01;35m\u001b[K\u001b]8;;https://gcc.gnu.org/onlinedocs/gcc/Warning-Options.html#index-Wcpp\u0007-Wcpp\u001b]8;;\u0007\u001b[m\u001b[K]\r\n",
      "   17 | #\u001b[01;35m\u001b[Kwarning\u001b[m\u001b[K \"Using deprecated NumPy API, disable it with \" \\\r\n",
      "      |  \u001b[01;35m\u001b[K^~~~~~~\u001b[m\u001b[K\r\n",
      "\u001b[01m\u001b[KMatrixFactorization_Cython_Epoch.c:\u001b[m\u001b[K In function ‘\u001b[01m\u001b[K__pyx_pf_32MatrixFactorization_Cython_Epoch_32MatrixFactorization_Cython_Epoch_10epochIteration_Cython_ASY_SVD_SGD\u001b[m\u001b[K’:\r\n",
      "\u001b[01m\u001b[KMatrixFactorization_Cython_Epoch.c:26256:68:\u001b[m\u001b[K \u001b[01;35m\u001b[Kwarning: \u001b[m\u001b[K‘\u001b[01m\u001b[K__pyx_v_end_pos_seen_items\u001b[m\u001b[K’ may be used uninitialized in this function [\u001b[01;35m\u001b[K\u001b]8;;https://gcc.gnu.org/onlinedocs/gcc/Warning-Options.html#index-Wmaybe-uninitialized\u0007-Wmaybe-uninitialized\u001b]8;;\u0007\u001b[m\u001b[K]\r\n",
      "26256 |         for (__pyx_t_22 = __pyx_v_start_pos_seen_items; \u001b[01;35m\u001b[K__pyx_t_22 < __pyx_t_21\u001b[m\u001b[K; __pyx_t_22+=1) {\r\n",
      "      |                                                         \u001b[01;35m\u001b[K~~~~~~~~~~~^~~~~~~~~~~~\u001b[m\u001b[K\r\n",
      "\u001b[01m\u001b[KMatrixFactorization_Cython_Epoch.c:26256:68:\u001b[m\u001b[K \u001b[01;35m\u001b[Kwarning: \u001b[m\u001b[K‘\u001b[01m\u001b[K__pyx_v_start_pos_seen_items\u001b[m\u001b[K’ may be used uninitialized in this function [\u001b[01;35m\u001b[K\u001b]8;;https://gcc.gnu.org/onlinedocs/gcc/Warning-Options.html#index-Wmaybe-uninitialized\u0007-Wmaybe-uninitialized\u001b]8;;\u0007\u001b[m\u001b[K]\r\n",
      "/usr/local/lib/python3.10/dist-packages/Cython/Compiler/Main.py:381: FutureWarning: Cython directive 'language_level' not set, using '3str' for now (Py3). This has changed from earlier releases! File: /kaggle/working/RECsys_Challenge2024/Recommenders/MatrixFactorization/Cython/MatrixFactorization_Cython_Epoch.pyx\r\n",
      "  tree = Parsing.p_module(s, pxd, full_module_name)\r\n",
      "Compiling [1/11]: MatrixFactorization_Cython_Epoch.pyx... PASS\r\n",
      "\r\n",
      "Compiling [2/11]: MatrixFactorizationImpressions_Cython_Epoch.pyx... \r\n",
      "In file included from \u001b[01m\u001b[K/usr/local/lib/python3.10/dist-packages/numpy/core/include/numpy/ndarraytypes.h:1929\u001b[m\u001b[K,\r\n",
      "                 from \u001b[01m\u001b[K/usr/local/lib/python3.10/dist-packages/numpy/core/include/numpy/ndarrayobject.h:12\u001b[m\u001b[K,\r\n",
      "                 from \u001b[01m\u001b[K/usr/local/lib/python3.10/dist-packages/numpy/core/include/numpy/arrayobject.h:5\u001b[m\u001b[K,\r\n",
      "                 from \u001b[01m\u001b[KMatrixFactorizationImpressions_Cython_Epoch.c:1252\u001b[m\u001b[K:\r\n",
      "\u001b[01m\u001b[K/usr/local/lib/python3.10/dist-packages/numpy/core/include/numpy/npy_1_7_deprecated_api.h:17:2:\u001b[m\u001b[K \u001b[01;35m\u001b[Kwarning: \u001b[m\u001b[K#warning \"Using deprecated NumPy API, disable it with \" \"#define NPY_NO_DEPRECATED_API NPY_1_7_API_VERSION\" [\u001b[01;35m\u001b[K\u001b]8;;https://gcc.gnu.org/onlinedocs/gcc/Warning-Options.html#index-Wcpp\u0007-Wcpp\u001b]8;;\u0007\u001b[m\u001b[K]\r\n",
      "   17 | #\u001b[01;35m\u001b[Kwarning\u001b[m\u001b[K \"Using deprecated NumPy API, disable it with \" \\\r\n",
      "      |  \u001b[01;35m\u001b[K^~~~~~~\u001b[m\u001b[K\r\n",
      "\u001b[01m\u001b[KMatrixFactorizationImpressions_Cython_Epoch.c:\u001b[m\u001b[K In function ‘\u001b[01m\u001b[K__pyx_f_43MatrixFactorizationImpressions_Cython_Epoch_32MatrixFactorization_Cython_Epoch_sampleBPR_Cython\u001b[m\u001b[K’:\r\n",
      "\u001b[01m\u001b[KMatrixFactorizationImpressions_Cython_Epoch.c:30353:17:\u001b[m\u001b[K \u001b[01;35m\u001b[Kwarning: \u001b[m\u001b[K‘\u001b[01m\u001b[K__pyx_v_start_pos_impression_items\u001b[m\u001b[K’ may be used uninitialized in this function [\u001b[01;35m\u001b[K\u001b]8;;https://gcc.gnu.org/onlinedocs/gcc/Warning-Options.html#index-Wmaybe-uninitialized\u0007-Wmaybe-uninitialized\u001b]8;;\u0007\u001b[m\u001b[K]\r\n",
      "30353 |       \u001b[01;35m\u001b[K__pyx_t_4 = (__pyx_v_start_pos_impression_items + __pyx_v_index)\u001b[m\u001b[K;\r\n",
      "      |       \u001b[01;35m\u001b[K~~~~~~~~~~^~~~~~~~~~~~~~~~~~~~~~~~~~~~~~~~~~~~~~~~~~~~~~~~~~~~~~\u001b[m\u001b[K\r\n",
      "\u001b[01m\u001b[KMatrixFactorizationImpressions_Cython_Epoch.c:\u001b[m\u001b[K In function ‘\u001b[01m\u001b[K__pyx_pf_43MatrixFactorizationImpressions_Cython_Epoch_32MatrixFactorization_Cython_Epoch_10epochIteration_Cython_ASY_SVD_SGD\u001b[m\u001b[K’:\r\n",
      "\u001b[01m\u001b[KMatrixFactorizationImpressions_Cython_Epoch.c:26112:66:\u001b[m\u001b[K \u001b[01;35m\u001b[Kwarning: \u001b[m\u001b[K‘\u001b[01m\u001b[K__pyx_v_end_pos_seen_items\u001b[m\u001b[K’ may be used uninitialized in this function [\u001b[01;35m\u001b[K\u001b]8;;https://gcc.gnu.org/onlinedocs/gcc/Warning-Options.html#index-Wmaybe-uninitialized\u0007-Wmaybe-uninitialized\u001b]8;;\u0007\u001b[m\u001b[K]\r\n",
      "26112 |       for (__pyx_t_22 = __pyx_v_start_pos_seen_items; \u001b[01;35m\u001b[K__pyx_t_22 < __pyx_t_21\u001b[m\u001b[K; __pyx_t_22+=1) {\r\n",
      "      |                                                       \u001b[01;35m\u001b[K~~~~~~~~~~~^~~~~~~~~~~~\u001b[m\u001b[K\r\n",
      "\u001b[01m\u001b[KMatrixFactorizationImpressions_Cython_Epoch.c:26112:66:\u001b[m\u001b[K \u001b[01;35m\u001b[Kwarning: \u001b[m\u001b[K‘\u001b[01m\u001b[K__pyx_v_start_pos_seen_items\u001b[m\u001b[K’ may be used uninitialized in this function [\u001b[01;35m\u001b[K\u001b]8;;https://gcc.gnu.org/onlinedocs/gcc/Warning-Options.html#index-Wmaybe-uninitialized\u0007-Wmaybe-uninitialized\u001b]8;;\u0007\u001b[m\u001b[K]\r\n",
      "/usr/local/lib/python3.10/dist-packages/Cython/Compiler/Main.py:381: FutureWarning: Cython directive 'language_level' not set, using '3str' for now (Py3). This has changed from earlier releases! File: /kaggle/working/RECsys_Challenge2024/Recommenders/MatrixFactorization/Cython/MatrixFactorizationImpressions_Cython_Epoch.pyx\r\n",
      "  tree = Parsing.p_module(s, pxd, full_module_name)\r\n",
      "Compiling [2/11]: MatrixFactorizationImpressions_Cython_Epoch.pyx... PASS\r\n",
      "\r\n",
      "Compiling [3/11]: Compute_Similarity_Cython.pyx... \r\n",
      "warning: Compute_Similarity_Cython.pyx:21:0: The 'IF' statement is deprecated and will be removed in a future Cython version. Consider using runtime conditions or C macros instead. See https://github.com/cython/cython/issues/4310\r\n",
      "In file included from \u001b[01m\u001b[K/usr/local/lib/python3.10/dist-packages/numpy/core/include/numpy/ndarraytypes.h:1929\u001b[m\u001b[K,\r\n",
      "                 from \u001b[01m\u001b[K/usr/local/lib/python3.10/dist-packages/numpy/core/include/numpy/ndarrayobject.h:12\u001b[m\u001b[K,\r\n",
      "                 from \u001b[01m\u001b[K/usr/local/lib/python3.10/dist-packages/numpy/core/include/numpy/arrayobject.h:5\u001b[m\u001b[K,\r\n",
      "                 from \u001b[01m\u001b[KCompute_Similarity_Cython.c:1252\u001b[m\u001b[K:\r\n",
      "\u001b[01m\u001b[K/usr/local/lib/python3.10/dist-packages/numpy/core/include/numpy/npy_1_7_deprecated_api.h:17:2:\u001b[m\u001b[K \u001b[01;35m\u001b[Kwarning: \u001b[m\u001b[K#warning \"Using deprecated NumPy API, disable it with \" \"#define NPY_NO_DEPRECATED_API NPY_1_7_API_VERSION\" [\u001b[01;35m\u001b[K\u001b]8;;https://gcc.gnu.org/onlinedocs/gcc/Warning-Options.html#index-Wcpp\u0007-Wcpp\u001b]8;;\u0007\u001b[m\u001b[K]\r\n",
      "   17 | #\u001b[01;35m\u001b[Kwarning\u001b[m\u001b[K \"Using deprecated NumPy API, disable it with \" \\\r\n",
      "      |  \u001b[01;35m\u001b[K^~~~~~~\u001b[m\u001b[K\r\n",
      "/usr/local/lib/python3.10/dist-packages/Cython/Compiler/Main.py:381: FutureWarning: Cython directive 'language_level' not set, using '3str' for now (Py3). This has changed from earlier releases! File: /kaggle/working/RECsys_Challenge2024/Recommenders/Similarity/Cython/Compute_Similarity_Cython.pyx\r\n",
      "  tree = Parsing.p_module(s, pxd, full_module_name)\r\n",
      "warning: Compute_Similarity_Cython.pyx:21:0: The 'IF' statement is deprecated and will be removed in a future Cython version. Consider using runtime conditions or C macros instead. See https://github.com/cython/cython/issues/4310\r\n",
      "Compiling [3/11]: Compute_Similarity_Cython.pyx... PASS\r\n",
      "\r\n",
      "Compiling [4/11]: SLIM_BPR_Cython_Epoch.pyx... \r\n",
      "warning: SLIM_BPR_Cython_Epoch.pyx:24:0: The 'IF' statement is deprecated and will be removed in a future Cython version. Consider using runtime conditions or C macros instead. See https://github.com/cython/cython/issues/4310\r\n",
      "warning: SLIM_BPR_Cython_Epoch.pyx:632:34: Non-trivial type declarators in shared declaration (e.g. mix of pointers and values). Each pointer declaration should be on its own line.\r\n",
      "warning: SLIM_BPR_Cython_Epoch.pyx:632:66: Non-trivial type declarators in shared declaration (e.g. mix of pointers and values). Each pointer declaration should be on its own line.\r\n",
      "warning: SLIM_BPR_Cython_Epoch.pyx:817:35: Non-trivial type declarators in shared declaration (e.g. mix of pointers and values). Each pointer declaration should be on its own line.\r\n",
      "warning: SLIM_BPR_Cython_Epoch.pyx:817:52: Non-trivial type declarators in shared declaration (e.g. mix of pointers and values). Each pointer declaration should be on its own line.\r\n",
      "warning: SLIM_BPR_Cython_Epoch.pyx:916:35: Non-trivial type declarators in shared declaration (e.g. mix of pointers and values). Each pointer declaration should be on its own line.\r\n",
      "warning: SLIM_BPR_Cython_Epoch.pyx:916:53: Non-trivial type declarators in shared declaration (e.g. mix of pointers and values). Each pointer declaration should be on its own line.\r\n",
      "warning: SLIM_BPR_Cython_Epoch.pyx:916:69: Non-trivial type declarators in shared declaration (e.g. mix of pointers and values). Each pointer declaration should be on its own line.\r\n",
      "warning: SLIM_BPR_Cython_Epoch.pyx:1051:35: Non-trivial type declarators in shared declaration (e.g. mix of pointers and values). Each pointer declaration should be on its own line.\r\n",
      "warning: SLIM_BPR_Cython_Epoch.pyx:1051:42: Non-trivial type declarators in shared declaration (e.g. mix of pointers and values). Each pointer declaration should be on its own line.\r\n",
      "warning: SLIM_BPR_Cython_Epoch.pyx:1052:35: Non-trivial type declarators in shared declaration (e.g. mix of pointers and values). Each pointer declaration should be on its own line.\r\n",
      "warning: SLIM_BPR_Cython_Epoch.pyx:1052:53: Non-trivial type declarators in shared declaration (e.g. mix of pointers and values). Each pointer declaration should be on its own line.\r\n",
      "\r\n",
      "Error compiling Cython file:\r\n",
      "------------------------------------------------------------\r\n",
      "...\r\n",
      "            vector_pointer_to_list_elements[index].head = current_element\r\n",
      "            current_element = current_element.higher\r\n",
      "\r\n",
      "\r\n",
      "        # Sort array elements on their data field\r\n",
      "        qsort(vector_pointer_to_list_elements, list_length, sizeof(head_pointer_tree_s), compare_struct_on_data)\r\n",
      "                                                                                         ^\r\n",
      "------------------------------------------------------------\r\n",
      "\r\n",
      "SLIM_BPR_Cython_Epoch.pyx:990:89: Cannot assign type 'int (const void *, const void *) except? -1' to 'int (*)(const_void *, const_void *) noexcept'. Exception values are incompatible. Suggest adding 'noexcept' to the type of 'compare_struct_on_data'.\r\n",
      "\r\n",
      "Error compiling Cython file:\r\n",
      "------------------------------------------------------------\r\n",
      "...\r\n",
      "        # Sort array elements on their data field\r\n",
      "        qsort(vector_pointer_to_list_elements, list_length, sizeof(head_pointer_tree_s), compare_struct_on_data)\r\n",
      "\r\n",
      "        # Sort only the TopK according to their column field\r\n",
      "        # Sort is from lower to higher, therefore the elements to be considered are from len-topK to len\r\n",
      "        qsort(&vector_pointer_to_list_elements[list_length-TopK], TopK, sizeof(head_pointer_tree_s), compare_struct_on_column)\r\n",
      "                                                                                                     ^\r\n",
      "------------------------------------------------------------\r\n",
      "\r\n",
      "SLIM_BPR_Cython_Epoch.pyx:994:101: Cannot assign type 'int (const void *, const void *) except? -1' to 'int (*)(const_void *, const_void *) noexcept'. Exception values are incompatible. Suggest adding 'noexcept' to the type of 'compare_struct_on_column'.\r\n",
      "Traceback (most recent call last):\r\n",
      "  File \"/kaggle/working/RECsys_Challenge2024/CythonCompiler/compile_script.py\", line 48, in <module>\r\n",
      "    setup(\r\n",
      "  File \"/usr/local/lib/python3.10/dist-packages/setuptools/__init__.py\", line 108, in setup\r\n",
      "    return distutils.core.setup(**attrs)\r\n",
      "  File \"/usr/local/lib/python3.10/dist-packages/setuptools/_distutils/core.py\", line 184, in setup\r\n",
      "    return run_commands(dist)\r\n",
      "  File \"/usr/local/lib/python3.10/dist-packages/setuptools/_distutils/core.py\", line 200, in run_commands\r\n",
      "    dist.run_commands()\r\n",
      "  File \"/usr/local/lib/python3.10/dist-packages/setuptools/_distutils/dist.py\", line 970, in run_commands\r\n",
      "    self.run_command(cmd)\r\n",
      "  File \"/usr/local/lib/python3.10/dist-packages/setuptools/dist.py\", line 956, in run_command\r\n",
      "    super().run_command(command)\r\n",
      "  File \"/usr/local/lib/python3.10/dist-packages/setuptools/_distutils/dist.py\", line 989, in run_command\r\n",
      "    cmd_obj.run()\r\n",
      "  File \"/usr/local/lib/python3.10/dist-packages/setuptools/_distutils/command/build_ext.py\", line 359, in run\r\n",
      "    self.build_extensions()\r\n",
      "  File \"/usr/local/lib/python3.10/dist-packages/setuptools/_distutils/command/build_ext.py\", line 479, in build_extensions\r\n",
      "    self._build_extensions_serial()\r\n",
      "  File \"/usr/local/lib/python3.10/dist-packages/setuptools/_distutils/command/build_ext.py\", line 505, in _build_extensions_serial\r\n",
      "    self.build_extension(ext)\r\n",
      "  File \"/usr/local/lib/python3.10/dist-packages/Cython/Distutils/build_ext.py\", line 130, in build_extension\r\n",
      "    new_ext = cythonize(\r\n",
      "  File \"/usr/local/lib/python3.10/dist-packages/Cython/Build/Dependencies.py\", line 1154, in cythonize\r\n",
      "    cythonize_one(*args)\r\n",
      "  File \"/usr/local/lib/python3.10/dist-packages/Cython/Build/Dependencies.py\", line 1321, in cythonize_one\r\n",
      "    raise CompileError(None, pyx_file)\r\n",
      "Cython.Compiler.Errors.CompileError: SLIM_BPR_Cython_Epoch.pyx\r\n",
      "Traceback (most recent call last):\r\n",
      "  File \"/kaggle/working/RECsys_Challenge2024/run_compile_all_cython.py\", line 60, in <module>\r\n",
      "    run_compile_subprocess(file_path, [file_name])\r\n",
      "  File \"/kaggle/working/RECsys_Challenge2024/CythonCompiler/run_compile_subprocess.py\", line 51, in run_compile_subprocess\r\n",
      "    raise exc\r\n",
      "  File \"/kaggle/working/RECsys_Challenge2024/CythonCompiler/run_compile_subprocess.py\", line 32, in run_compile_subprocess\r\n",
      "    output = subprocess.check_output(' '.join(command),\r\n",
      "  File \"/usr/lib/python3.10/subprocess.py\", line 421, in check_output\r\n",
      "    return run(*popenargs, stdout=PIPE, timeout=timeout, check=True,\r\n",
      "  File \"/usr/lib/python3.10/subprocess.py\", line 526, in run\r\n",
      "    raise CalledProcessError(retcode, process.args,\r\n",
      "subprocess.CalledProcessError: Command '/usr/bin/python3 /kaggle/working/RECsys_Challenge2024/CythonCompiler/compile_script.py SLIM_BPR_Cython_Epoch.pyx build_ext --inplace' returned non-zero exit status 1.\r\n",
      "Compiling [4/11]: SLIM_BPR_Cython_Epoch.pyx... FAIL: Command '/usr/bin/python3 /kaggle/working/RECsys_Challenge2024/CythonCompiler/compile_script.py SLIM_BPR_Cython_Epoch.pyx build_ext --inplace' returned non-zero exit status 1.\r\n",
      "\r\n",
      "Compiling [5/11]: Triangular_Matrix.pyx... \r\n",
      "warning: Triangular_Matrix.pyx:22:0: The 'IF' statement is deprecated and will be removed in a future Cython version. Consider using runtime conditions or C macros instead. See https://github.com/cython/cython/issues/4310\r\n",
      "In file included from \u001b[01m\u001b[K/usr/local/lib/python3.10/dist-packages/numpy/core/include/numpy/ndarraytypes.h:1929\u001b[m\u001b[K,\r\n",
      "                 from \u001b[01m\u001b[K/usr/local/lib/python3.10/dist-packages/numpy/core/include/numpy/ndarrayobject.h:12\u001b[m\u001b[K,\r\n",
      "                 from \u001b[01m\u001b[K/usr/local/lib/python3.10/dist-packages/numpy/core/include/numpy/arrayobject.h:5\u001b[m\u001b[K,\r\n",
      "                 from \u001b[01m\u001b[KTriangular_Matrix.c:1252\u001b[m\u001b[K:\r\n",
      "\u001b[01m\u001b[K/usr/local/lib/python3.10/dist-packages/numpy/core/include/numpy/npy_1_7_deprecated_api.h:17:2:\u001b[m\u001b[K \u001b[01;35m\u001b[Kwarning: \u001b[m\u001b[K#warning \"Using deprecated NumPy API, disable it with \" \"#define NPY_NO_DEPRECATED_API NPY_1_7_API_VERSION\" [\u001b[01;35m\u001b[K\u001b]8;;https://gcc.gnu.org/onlinedocs/gcc/Warning-Options.html#index-Wcpp\u0007-Wcpp\u001b]8;;\u0007\u001b[m\u001b[K]\r\n",
      "   17 | #\u001b[01;35m\u001b[Kwarning\u001b[m\u001b[K \"Using deprecated NumPy API, disable it with \" \\\r\n",
      "      |  \u001b[01;35m\u001b[K^~~~~~~\u001b[m\u001b[K\r\n",
      "In function ‘\u001b[01m\u001b[K__pyx_pf_17Triangular_Matrix_17Triangular_Matrix___init__\u001b[m\u001b[K’,\r\n",
      "    inlined from ‘\u001b[01m\u001b[K__pyx_pw_17Triangular_Matrix_17Triangular_Matrix_1__init__\u001b[m\u001b[K’ at \u001b[01m\u001b[KTriangular_Matrix.c:5541:13\u001b[m\u001b[K:\r\n",
      "\u001b[01m\u001b[KTriangular_Matrix.c:5599:43:\u001b[m\u001b[K \u001b[01;35m\u001b[Kwarning: \u001b[m\u001b[Kargument 1 value ‘\u001b[01m\u001b[K18446744073709551608\u001b[m\u001b[K’ exceeds maximum object size 9223372036854775807 [\u001b[01;35m\u001b[K\u001b]8;;https://gcc.gnu.org/onlinedocs/gcc/Warning-Options.html#index-Walloc-size-larger-than=\u0007-Walloc-size-larger-than=\u001b]8;;\u0007\u001b[m\u001b[K]\r\n",
      " 5599 |   __pyx_v_self->row_pointer = ((double **)\u001b[01;35m\u001b[Kmalloc((__pyx_v_self->num_rows * (sizeof(double *))))\u001b[m\u001b[K);\r\n",
      "      |                                           \u001b[01;35m\u001b[K^~~~~~~~~~~~~~~~~~~~~~~~~~~~~~~~~~~~~~~~~~~~~~~~~~~~~\u001b[m\u001b[K\r\n",
      "In file included from \u001b[01m\u001b[K/usr/include/python3.10/Python.h:34\u001b[m\u001b[K,\r\n",
      "                 from \u001b[01m\u001b[KTriangular_Matrix.c:41\u001b[m\u001b[K:\r\n",
      "\u001b[01m\u001b[KTriangular_Matrix.c:\u001b[m\u001b[K In function ‘\u001b[01m\u001b[K__pyx_pw_17Triangular_Matrix_17Triangular_Matrix_1__init__\u001b[m\u001b[K’:\r\n",
      "\u001b[01m\u001b[K/usr/include/stdlib.h:540:14:\u001b[m\u001b[K \u001b[01;36m\u001b[Knote: \u001b[m\u001b[Kin a call to allocation function ‘\u001b[01m\u001b[Kmalloc\u001b[m\u001b[K’ declared here\r\n",
      "  540 | extern void *\u001b[01;36m\u001b[Kmalloc\u001b[m\u001b[K (size_t __size) __THROW __attribute_malloc__\r\n",
      "      |              \u001b[01;36m\u001b[K^~~~~~\u001b[m\u001b[K\r\n",
      "/usr/local/lib/python3.10/dist-packages/Cython/Compiler/Main.py:381: FutureWarning: Cython directive 'language_level' not set, using '3str' for now (Py3). This has changed from earlier releases! File: /kaggle/working/RECsys_Challenge2024/Recommenders/SLIM/Cython/Triangular_Matrix.pyx\r\n",
      "  tree = Parsing.p_module(s, pxd, full_module_name)\r\n",
      "warning: Triangular_Matrix.pyx:22:0: The 'IF' statement is deprecated and will be removed in a future Cython version. Consider using runtime conditions or C macros instead. See https://github.com/cython/cython/issues/4310\r\n",
      "Compiling [5/11]: Triangular_Matrix.pyx... PASS\r\n",
      "\r\n",
      "Compiling [6/11]: Sparse_Matrix_Tree_CSR.pyx... \r\n",
      "warning: Sparse_Matrix_Tree_CSR.pyx:132:34: Non-trivial type declarators in shared declaration (e.g. mix of pointers and values). Each pointer declaration should be on its own line.\r\n",
      "warning: Sparse_Matrix_Tree_CSR.pyx:132:66: Non-trivial type declarators in shared declaration (e.g. mix of pointers and values). Each pointer declaration should be on its own line.\r\n",
      "warning: Sparse_Matrix_Tree_CSR.pyx:343:35: Non-trivial type declarators in shared declaration (e.g. mix of pointers and values). Each pointer declaration should be on its own line.\r\n",
      "warning: Sparse_Matrix_Tree_CSR.pyx:343:52: Non-trivial type declarators in shared declaration (e.g. mix of pointers and values). Each pointer declaration should be on its own line.\r\n",
      "warning: Sparse_Matrix_Tree_CSR.pyx:442:35: Non-trivial type declarators in shared declaration (e.g. mix of pointers and values). Each pointer declaration should be on its own line.\r\n",
      "warning: Sparse_Matrix_Tree_CSR.pyx:442:53: Non-trivial type declarators in shared declaration (e.g. mix of pointers and values). Each pointer declaration should be on its own line.\r\n",
      "warning: Sparse_Matrix_Tree_CSR.pyx:442:69: Non-trivial type declarators in shared declaration (e.g. mix of pointers and values). Each pointer declaration should be on its own line.\r\n",
      "warning: Sparse_Matrix_Tree_CSR.pyx:577:35: Non-trivial type declarators in shared declaration (e.g. mix of pointers and values). Each pointer declaration should be on its own line.\r\n",
      "warning: Sparse_Matrix_Tree_CSR.pyx:577:42: Non-trivial type declarators in shared declaration (e.g. mix of pointers and values). Each pointer declaration should be on its own line.\r\n",
      "warning: Sparse_Matrix_Tree_CSR.pyx:578:35: Non-trivial type declarators in shared declaration (e.g. mix of pointers and values). Each pointer declaration should be on its own line.\r\n",
      "warning: Sparse_Matrix_Tree_CSR.pyx:578:53: Non-trivial type declarators in shared declaration (e.g. mix of pointers and values). Each pointer declaration should be on its own line.\r\n",
      "\r\n",
      "Error compiling Cython file:\r\n",
      "------------------------------------------------------------\r\n",
      "...\r\n",
      "            vector_pointer_to_list_elements[index].head = current_element\r\n",
      "            current_element = current_element.higher\r\n",
      "\r\n",
      "\r\n",
      "        # Sort array elements on their data field\r\n",
      "        qsort(vector_pointer_to_list_elements, list_length, sizeof(head_pointer_tree_s), compare_struct_on_data)\r\n",
      "                                                                                         ^\r\n",
      "------------------------------------------------------------\r\n",
      "\r\n",
      "Sparse_Matrix_Tree_CSR.pyx:516:89: Cannot assign type 'int (const void *, const void *) except? -1' to 'int (*)(const_void *, const_void *) noexcept'. Exception values are incompatible. Suggest adding 'noexcept' to the type of 'compare_struct_on_data'.\r\n",
      "\r\n",
      "Error compiling Cython file:\r\n",
      "------------------------------------------------------------\r\n",
      "...\r\n",
      "        # Sort array elements on their data field\r\n",
      "        qsort(vector_pointer_to_list_elements, list_length, sizeof(head_pointer_tree_s), compare_struct_on_data)\r\n",
      "\r\n",
      "        # Sort only the TopK according to their column field\r\n",
      "        # Sort is from lower to higher, therefore the elements to be considered are from len-topK to len\r\n",
      "        qsort(&vector_pointer_to_list_elements[list_length-TopK], TopK, sizeof(head_pointer_tree_s), compare_struct_on_column)\r\n",
      "                                                                                                     ^\r\n",
      "------------------------------------------------------------\r\n",
      "\r\n",
      "Sparse_Matrix_Tree_CSR.pyx:520:101: Cannot assign type 'int (const void *, const void *) except? -1' to 'int (*)(const_void *, const_void *) noexcept'. Exception values are incompatible. Suggest adding 'noexcept' to the type of 'compare_struct_on_column'.\r\n",
      "Traceback (most recent call last):\r\n",
      "  File \"/kaggle/working/RECsys_Challenge2024/CythonCompiler/compile_script.py\", line 48, in <module>\r\n",
      "    setup(\r\n",
      "  File \"/usr/local/lib/python3.10/dist-packages/setuptools/__init__.py\", line 108, in setup\r\n",
      "    return distutils.core.setup(**attrs)\r\n",
      "  File \"/usr/local/lib/python3.10/dist-packages/setuptools/_distutils/core.py\", line 184, in setup\r\n",
      "    return run_commands(dist)\r\n",
      "  File \"/usr/local/lib/python3.10/dist-packages/setuptools/_distutils/core.py\", line 200, in run_commands\r\n",
      "    dist.run_commands()\r\n",
      "  File \"/usr/local/lib/python3.10/dist-packages/setuptools/_distutils/dist.py\", line 970, in run_commands\r\n",
      "    self.run_command(cmd)\r\n",
      "  File \"/usr/local/lib/python3.10/dist-packages/setuptools/dist.py\", line 956, in run_command\r\n",
      "    super().run_command(command)\r\n",
      "  File \"/usr/local/lib/python3.10/dist-packages/setuptools/_distutils/dist.py\", line 989, in run_command\r\n",
      "    cmd_obj.run()\r\n",
      "  File \"/usr/local/lib/python3.10/dist-packages/setuptools/_distutils/command/build_ext.py\", line 359, in run\r\n",
      "    self.build_extensions()\r\n",
      "  File \"/usr/local/lib/python3.10/dist-packages/setuptools/_distutils/command/build_ext.py\", line 479, in build_extensions\r\n",
      "    self._build_extensions_serial()\r\n",
      "  File \"/usr/local/lib/python3.10/dist-packages/setuptools/_distutils/command/build_ext.py\", line 505, in _build_extensions_serial\r\n",
      "    self.build_extension(ext)\r\n",
      "  File \"/usr/local/lib/python3.10/dist-packages/Cython/Distutils/build_ext.py\", line 130, in build_extension\r\n",
      "    new_ext = cythonize(\r\n",
      "  File \"/usr/local/lib/python3.10/dist-packages/Cython/Build/Dependencies.py\", line 1154, in cythonize\r\n",
      "    cythonize_one(*args)\r\n",
      "  File \"/usr/local/lib/python3.10/dist-packages/Cython/Build/Dependencies.py\", line 1321, in cythonize_one\r\n",
      "    raise CompileError(None, pyx_file)\r\n",
      "Cython.Compiler.Errors.CompileError: Sparse_Matrix_Tree_CSR.pyx\r\n",
      "Traceback (most recent call last):\r\n",
      "  File \"/kaggle/working/RECsys_Challenge2024/run_compile_all_cython.py\", line 60, in <module>\r\n",
      "    run_compile_subprocess(file_path, [file_name])\r\n",
      "  File \"/kaggle/working/RECsys_Challenge2024/CythonCompiler/run_compile_subprocess.py\", line 51, in run_compile_subprocess\r\n",
      "    raise exc\r\n",
      "  File \"/kaggle/working/RECsys_Challenge2024/CythonCompiler/run_compile_subprocess.py\", line 32, in run_compile_subprocess\r\n",
      "    output = subprocess.check_output(' '.join(command),\r\n",
      "  File \"/usr/lib/python3.10/subprocess.py\", line 421, in check_output\r\n",
      "    return run(*popenargs, stdout=PIPE, timeout=timeout, check=True,\r\n",
      "  File \"/usr/lib/python3.10/subprocess.py\", line 526, in run\r\n",
      "    raise CalledProcessError(retcode, process.args,\r\n",
      "subprocess.CalledProcessError: Command '/usr/bin/python3 /kaggle/working/RECsys_Challenge2024/CythonCompiler/compile_script.py Sparse_Matrix_Tree_CSR.pyx build_ext --inplace' returned non-zero exit status 1.\r\n",
      "Compiling [6/11]: Sparse_Matrix_Tree_CSR.pyx... FAIL: Command '/usr/bin/python3 /kaggle/working/RECsys_Challenge2024/CythonCompiler/compile_script.py Sparse_Matrix_Tree_CSR.pyx build_ext --inplace' returned non-zero exit status 1.\r\n",
      "\r\n",
      "Compiling [7/11]: HP3_Similarity_Cython_SGD.pyx... \r\n",
      "performance hint: HP3_Similarity_Cython_SGD.pyx:113:40: Index should be typed for more efficient access\r\n",
      "performance hint: HP3_Similarity_Cython_SGD.pyx:114:40: Index should be typed for more efficient access\r\n",
      "In file included from \u001b[01m\u001b[K/usr/local/lib/python3.10/dist-packages/numpy/core/include/numpy/ndarraytypes.h:1929\u001b[m\u001b[K,\r\n",
      "                 from \u001b[01m\u001b[K/usr/local/lib/python3.10/dist-packages/numpy/core/include/numpy/ndarrayobject.h:12\u001b[m\u001b[K,\r\n",
      "                 from \u001b[01m\u001b[K/usr/local/lib/python3.10/dist-packages/numpy/core/include/numpy/arrayobject.h:5\u001b[m\u001b[K,\r\n",
      "                 from \u001b[01m\u001b[KHP3_Similarity_Cython_SGD.c:1252\u001b[m\u001b[K:\r\n",
      "\u001b[01m\u001b[K/usr/local/lib/python3.10/dist-packages/numpy/core/include/numpy/npy_1_7_deprecated_api.h:17:2:\u001b[m\u001b[K \u001b[01;35m\u001b[Kwarning: \u001b[m\u001b[K#warning \"Using deprecated NumPy API, disable it with \" \"#define NPY_NO_DEPRECATED_API NPY_1_7_API_VERSION\" [\u001b[01;35m\u001b[K\u001b]8;;https://gcc.gnu.org/onlinedocs/gcc/Warning-Options.html#index-Wcpp\u0007-Wcpp\u001b]8;;\u0007\u001b[m\u001b[K]\r\n",
      "   17 | #\u001b[01;35m\u001b[Kwarning\u001b[m\u001b[K \"Using deprecated NumPy API, disable it with \" \\\r\n",
      "      |  \u001b[01;35m\u001b[K^~~~~~~\u001b[m\u001b[K\r\n",
      "\u001b[01m\u001b[KHP3_Similarity_Cython_SGD.c:\u001b[m\u001b[K In function ‘\u001b[01m\u001b[K__pyx_pf_25HP3_Similarity_Cython_SGD_25HP3_Similarity_Cython_SGD_4fit\u001b[m\u001b[K’:\r\n",
      "\u001b[01m\u001b[KHP3_Similarity_Cython_SGD.c:23631:55:\u001b[m\u001b[K \u001b[01;35m\u001b[Kwarning: \u001b[m\u001b[K‘\u001b[01m\u001b[K__pyx_v_sample_num\u001b[m\u001b[K’ may be used uninitialized in this function [\u001b[01;35m\u001b[K\u001b]8;;https://gcc.gnu.org/onlinedocs/gcc/Warning-Options.html#index-Wmaybe-uninitialized\u0007-Wmaybe-uninitialized\u001b]8;;\u0007\u001b[m\u001b[K]\r\n",
      "23631 |   __pyx_t_1 = PyFloat_FromDouble((__pyx_v_cum_loss / \u001b[01;35m\u001b[K((double)__pyx_v_sample_num)\u001b[m\u001b[K)); if (unlikely(!__pyx_t_1)) __PYX_ERR(0, 291, __pyx_L1_error)\r\n",
      "      |                                                      \u001b[01;35m\u001b[K~^~~~~~~~~~~~~~~~~~~~~~~~~~~\u001b[m\u001b[K\r\n",
      "/usr/local/lib/python3.10/dist-packages/Cython/Compiler/Main.py:381: FutureWarning: Cython directive 'language_level' not set, using '3str' for now (Py3). This has changed from earlier releases! File: /kaggle/working/RECsys_Challenge2024/Recommenders/FeatureWeighting/Cython/HP3_Similarity_Cython_SGD.pyx\r\n",
      "  tree = Parsing.p_module(s, pxd, full_module_name)\r\n",
      "performance hint: HP3_Similarity_Cython_SGD.pyx:113:40: Index should be typed for more efficient access\r\n",
      "performance hint: HP3_Similarity_Cython_SGD.pyx:114:40: Index should be typed for more efficient access\r\n",
      "Compiling [7/11]: HP3_Similarity_Cython_SGD.pyx... PASS\r\n",
      "\r\n",
      "Compiling [8/11]: CFW_D_Similarity_Cython_SGD.pyx... \r\n",
      "In file included from \u001b[01m\u001b[K/usr/local/lib/python3.10/dist-packages/numpy/core/include/numpy/ndarraytypes.h:1929\u001b[m\u001b[K,\r\n",
      "                 from \u001b[01m\u001b[K/usr/local/lib/python3.10/dist-packages/numpy/core/include/numpy/ndarrayobject.h:12\u001b[m\u001b[K,\r\n",
      "                 from \u001b[01m\u001b[K/usr/local/lib/python3.10/dist-packages/numpy/core/include/numpy/arrayobject.h:5\u001b[m\u001b[K,\r\n",
      "                 from \u001b[01m\u001b[KCFW_D_Similarity_Cython_SGD.c:1252\u001b[m\u001b[K:\r\n",
      "\u001b[01m\u001b[K/usr/local/lib/python3.10/dist-packages/numpy/core/include/numpy/npy_1_7_deprecated_api.h:17:2:\u001b[m\u001b[K \u001b[01;35m\u001b[Kwarning: \u001b[m\u001b[K#warning \"Using deprecated NumPy API, disable it with \" \"#define NPY_NO_DEPRECATED_API NPY_1_7_API_VERSION\" [\u001b[01;35m\u001b[K\u001b]8;;https://gcc.gnu.org/onlinedocs/gcc/Warning-Options.html#index-Wcpp\u0007-Wcpp\u001b]8;;\u0007\u001b[m\u001b[K]\r\n",
      "   17 | #\u001b[01;35m\u001b[Kwarning\u001b[m\u001b[K \"Using deprecated NumPy API, disable it with \" \\\r\n",
      "      |  \u001b[01;35m\u001b[K^~~~~~~\u001b[m\u001b[K\r\n",
      "\u001b[01m\u001b[KCFW_D_Similarity_Cython_SGD.c:\u001b[m\u001b[K In function ‘\u001b[01m\u001b[K__pyx_pf_27CFW_D_Similarity_Cython_SGD_27CFW_D_Similarity_Cython_SGD_6fit\u001b[m\u001b[K’:\r\n",
      "\u001b[01m\u001b[KCFW_D_Similarity_Cython_SGD.c:23373:55:\u001b[m\u001b[K \u001b[01;35m\u001b[Kwarning: \u001b[m\u001b[K‘\u001b[01m\u001b[K__pyx_v_sample_num\u001b[m\u001b[K’ may be used uninitialized in this function [\u001b[01;35m\u001b[K\u001b]8;;https://gcc.gnu.org/onlinedocs/gcc/Warning-Options.html#index-Wmaybe-uninitialized\u0007-Wmaybe-uninitialized\u001b]8;;\u0007\u001b[m\u001b[K]\r\n",
      "23373 |   __pyx_t_3 = PyFloat_FromDouble((__pyx_v_cum_loss / \u001b[01;35m\u001b[K((double)__pyx_v_sample_num)\u001b[m\u001b[K)); if (unlikely(!__pyx_t_3)) __PYX_ERR(0, 290, __pyx_L1_error)\r\n",
      "      |                                                      \u001b[01;35m\u001b[K~^~~~~~~~~~~~~~~~~~~~~~~~~~~\u001b[m\u001b[K\r\n",
      "/usr/local/lib/python3.10/dist-packages/Cython/Compiler/Main.py:381: FutureWarning: Cython directive 'language_level' not set, using '3str' for now (Py3). This has changed from earlier releases! File: /kaggle/working/RECsys_Challenge2024/Recommenders/FeatureWeighting/Cython/CFW_D_Similarity_Cython_SGD.pyx\r\n",
      "  tree = Parsing.p_module(s, pxd, full_module_name)\r\n",
      "Compiling [8/11]: CFW_D_Similarity_Cython_SGD.pyx... PASS\r\n",
      "\r\n",
      "Compiling [9/11]: FBSM_Rating_Cython_SGD.pyx... \r\n",
      "In file included from \u001b[01m\u001b[K/usr/local/lib/python3.10/dist-packages/numpy/core/include/numpy/ndarraytypes.h:1929\u001b[m\u001b[K,\r\n",
      "                 from \u001b[01m\u001b[K/usr/local/lib/python3.10/dist-packages/numpy/core/include/numpy/ndarrayobject.h:12\u001b[m\u001b[K,\r\n",
      "                 from \u001b[01m\u001b[K/usr/local/lib/python3.10/dist-packages/numpy/core/include/numpy/arrayobject.h:5\u001b[m\u001b[K,\r\n",
      "                 from \u001b[01m\u001b[KFBSM_Rating_Cython_SGD.c:1252\u001b[m\u001b[K:\r\n",
      "\u001b[01m\u001b[K/usr/local/lib/python3.10/dist-packages/numpy/core/include/numpy/npy_1_7_deprecated_api.h:17:2:\u001b[m\u001b[K \u001b[01;35m\u001b[Kwarning: \u001b[m\u001b[K#warning \"Using deprecated NumPy API, disable it with \" \"#define NPY_NO_DEPRECATED_API NPY_1_7_API_VERSION\" [\u001b[01;35m\u001b[K\u001b]8;;https://gcc.gnu.org/onlinedocs/gcc/Warning-Options.html#index-Wcpp\u0007-Wcpp\u001b]8;;\u0007\u001b[m\u001b[K]\r\n",
      "   17 | #\u001b[01;35m\u001b[Kwarning\u001b[m\u001b[K \"Using deprecated NumPy API, disable it with \" \\\r\n",
      "      |  \u001b[01;35m\u001b[K^~~~~~~\u001b[m\u001b[K\r\n",
      "\u001b[01m\u001b[KFBSM_Rating_Cython_SGD.c:\u001b[m\u001b[K In function ‘\u001b[01m\u001b[K__pyx_pf_22FBSM_Rating_Cython_SGD_22FBSM_Rating_Cython_SGD_2fit\u001b[m\u001b[K’:\r\n",
      "\u001b[01m\u001b[KFBSM_Rating_Cython_SGD.c:26607:55:\u001b[m\u001b[K \u001b[01;35m\u001b[Kwarning: \u001b[m\u001b[K‘\u001b[01m\u001b[K__pyx_v_num_sample\u001b[m\u001b[K’ may be used uninitialized in this function [\u001b[01;35m\u001b[K\u001b]8;;https://gcc.gnu.org/onlinedocs/gcc/Warning-Options.html#index-Wmaybe-uninitialized\u0007-Wmaybe-uninitialized\u001b]8;;\u0007\u001b[m\u001b[K]\r\n",
      "26607 |   __pyx_t_5 = PyFloat_FromDouble((__pyx_v_cum_loss / \u001b[01;35m\u001b[K((double)__pyx_v_num_sample)\u001b[m\u001b[K)); if (unlikely(!__pyx_t_5)) __PYX_ERR(0, 551, __pyx_L1_error)\r\n",
      "      |                                                      \u001b[01;35m\u001b[K~^~~~~~~~~~~~~~~~~~~~~~~~~~~\u001b[m\u001b[K\r\n",
      "/usr/local/lib/python3.10/dist-packages/Cython/Compiler/Main.py:381: FutureWarning: Cython directive 'language_level' not set, using '3str' for now (Py3). This has changed from earlier releases! File: /kaggle/working/RECsys_Challenge2024/Recommenders/FeatureWeighting/Cython/FBSM_Rating_Cython_SGD.pyx\r\n",
      "  tree = Parsing.p_module(s, pxd, full_module_name)\r\n",
      "Compiling [9/11]: FBSM_Rating_Cython_SGD.pyx... PASS\r\n",
      "\r\n",
      "Compiling [10/11]: CFW_DVV_Similarity_Cython_SGD.pyx... \r\n",
      "In file included from \u001b[01m\u001b[K/usr/local/lib/python3.10/dist-packages/numpy/core/include/numpy/ndarraytypes.h:1929\u001b[m\u001b[K,\r\n",
      "                 from \u001b[01m\u001b[K/usr/local/lib/python3.10/dist-packages/numpy/core/include/numpy/ndarrayobject.h:12\u001b[m\u001b[K,\r\n",
      "                 from \u001b[01m\u001b[K/usr/local/lib/python3.10/dist-packages/numpy/core/include/numpy/arrayobject.h:5\u001b[m\u001b[K,\r\n",
      "                 from \u001b[01m\u001b[KCFW_DVV_Similarity_Cython_SGD.c:1252\u001b[m\u001b[K:\r\n",
      "\u001b[01m\u001b[K/usr/local/lib/python3.10/dist-packages/numpy/core/include/numpy/npy_1_7_deprecated_api.h:17:2:\u001b[m\u001b[K \u001b[01;35m\u001b[Kwarning: \u001b[m\u001b[K#warning \"Using deprecated NumPy API, disable it with \" \"#define NPY_NO_DEPRECATED_API NPY_1_7_API_VERSION\" [\u001b[01;35m\u001b[K\u001b]8;;https://gcc.gnu.org/onlinedocs/gcc/Warning-Options.html#index-Wcpp\u0007-Wcpp\u001b]8;;\u0007\u001b[m\u001b[K]\r\n",
      "   17 | #\u001b[01;35m\u001b[Kwarning\u001b[m\u001b[K \"Using deprecated NumPy API, disable it with \" \\\r\n",
      "      |  \u001b[01;35m\u001b[K^~~~~~~\u001b[m\u001b[K\r\n",
      "/usr/local/lib/python3.10/dist-packages/Cython/Compiler/Main.py:381: FutureWarning: Cython directive 'language_level' not set, using '3str' for now (Py3). This has changed from earlier releases! File: /kaggle/working/RECsys_Challenge2024/Recommenders/FeatureWeighting/Cython/CFW_DVV_Similarity_Cython_SGD.pyx\r\n",
      "  tree = Parsing.p_module(s, pxd, full_module_name)\r\n",
      "Compiling [10/11]: CFW_DVV_Similarity_Cython_SGD.pyx... PASS\r\n",
      "\r\n",
      "Compiling [11/11]: DataIterator.pyx... \r\n",
      "In file included from \u001b[01m\u001b[K/usr/local/lib/python3.10/dist-packages/numpy/core/include/numpy/ndarraytypes.h:1929\u001b[m\u001b[K,\r\n",
      "                 from \u001b[01m\u001b[K/usr/local/lib/python3.10/dist-packages/numpy/core/include/numpy/ndarrayobject.h:12\u001b[m\u001b[K,\r\n",
      "                 from \u001b[01m\u001b[K/usr/local/lib/python3.10/dist-packages/numpy/core/include/numpy/arrayobject.h:5\u001b[m\u001b[K,\r\n",
      "                 from \u001b[01m\u001b[KDataIterator.c:1252\u001b[m\u001b[K:\r\n",
      "\u001b[01m\u001b[K/usr/local/lib/python3.10/dist-packages/numpy/core/include/numpy/npy_1_7_deprecated_api.h:17:2:\u001b[m\u001b[K \u001b[01;35m\u001b[Kwarning: \u001b[m\u001b[K#warning \"Using deprecated NumPy API, disable it with \" \"#define NPY_NO_DEPRECATED_API NPY_1_7_API_VERSION\" [\u001b[01;35m\u001b[K\u001b]8;;https://gcc.gnu.org/onlinedocs/gcc/Warning-Options.html#index-Wcpp\u0007-Wcpp\u001b]8;;\u0007\u001b[m\u001b[K]\r\n",
      "   17 | #\u001b[01;35m\u001b[Kwarning\u001b[m\u001b[K \"Using deprecated NumPy API, disable it with \" \\\r\n",
      "      |  \u001b[01;35m\u001b[K^~~~~~~\u001b[m\u001b[K\r\n",
      "\u001b[01m\u001b[KDataIterator.c:\u001b[m\u001b[K In function ‘\u001b[01m\u001b[K__pyx_pf_12DataIterator_19InteractionIterator_6__next__\u001b[m\u001b[K’:\r\n",
      "\u001b[01m\u001b[KDataIterator.c:20937:22:\u001b[m\u001b[K \u001b[01;35m\u001b[Kwarning: \u001b[m\u001b[K‘\u001b[01m\u001b[K__pyx_v_i_batch\u001b[m\u001b[K’ may be used uninitialized in this function [\u001b[01;35m\u001b[K\u001b]8;;https://gcc.gnu.org/onlinedocs/gcc/Warning-Options.html#index-Wmaybe-uninitialized\u0007-Wmaybe-uninitialized\u001b]8;;\u0007\u001b[m\u001b[K]\r\n",
      "20937 |     (__pyx_v_i_batch \u001b[01;35m\u001b[K+\u001b[m\u001b[K 1),\r\n",
      "      |                      \u001b[01;35m\u001b[K^\u001b[m\u001b[K\r\n",
      "\u001b[01m\u001b[KDataIterator.c:\u001b[m\u001b[K In function ‘\u001b[01m\u001b[K__pyx_pf_12DataIterator_30InteractionAndNegativeIterator_6__next__\u001b[m\u001b[K’:\r\n",
      "\u001b[01m\u001b[KDataIterator.c:25499:22:\u001b[m\u001b[K \u001b[01;35m\u001b[Kwarning: \u001b[m\u001b[K‘\u001b[01m\u001b[K__pyx_v_i_batch\u001b[m\u001b[K’ may be used uninitialized in this function [\u001b[01;35m\u001b[K\u001b]8;;https://gcc.gnu.org/onlinedocs/gcc/Warning-Options.html#index-Wmaybe-uninitialized\u0007-Wmaybe-uninitialized\u001b]8;;\u0007\u001b[m\u001b[K]\r\n",
      "25499 |     (__pyx_v_i_batch \u001b[01;35m\u001b[K+\u001b[m\u001b[K 1),\r\n",
      "      |                      \u001b[01;35m\u001b[K^\u001b[m\u001b[K\r\n",
      "\u001b[01m\u001b[KDataIterator.c:\u001b[m\u001b[K In function ‘\u001b[01m\u001b[K__pyx_pf_12DataIterator_11BPRIterator_6__next__\u001b[m\u001b[K’:\r\n",
      "\u001b[01m\u001b[KDataIterator.c:23056:22:\u001b[m\u001b[K \u001b[01;35m\u001b[Kwarning: \u001b[m\u001b[K‘\u001b[01m\u001b[K__pyx_v_i_batch\u001b[m\u001b[K’ may be used uninitialized in this function [\u001b[01;35m\u001b[K\u001b]8;;https://gcc.gnu.org/onlinedocs/gcc/Warning-Options.html#index-Wmaybe-uninitialized\u0007-Wmaybe-uninitialized\u001b]8;;\u0007\u001b[m\u001b[K]\r\n",
      "23056 |     (__pyx_v_i_batch \u001b[01;35m\u001b[K+\u001b[m\u001b[K 1),\r\n",
      "      |                      \u001b[01;35m\u001b[K^\u001b[m\u001b[K\r\n",
      "/usr/local/lib/python3.10/dist-packages/Cython/Compiler/Main.py:381: FutureWarning: Cython directive 'language_level' not set, using '3str' for now (Py3). This has changed from earlier releases! File: /kaggle/working/RECsys_Challenge2024/Utils/PyTorch/Cython/DataIterator.pyx\r\n",
      "  tree = Parsing.p_module(s, pxd, full_module_name)\r\n",
      "Compiling [11/11]: DataIterator.pyx... PASS\r\n",
      "\r\n",
      "run_compile_all_cython: Compilation finished. FAILS 2/11.\r\n",
      "Compilation log can be found here: './result_experiments/run_compile_all_cython.txt'\r\n"
     ]
    }
   ],
   "source": [
    "%cd /kaggle/working/RECsys_Challenge2024 \n",
    "! python run_compile_all_cython.py"
   ]
  },
  {
   "cell_type": "code",
   "execution_count": 5,
   "id": "5b8518b4",
   "metadata": {
    "execution": {
     "iopub.execute_input": "2025-01-05T23:32:05.803084Z",
     "iopub.status.busy": "2025-01-05T23:32:05.802674Z",
     "iopub.status.idle": "2025-01-05T23:32:07.374197Z",
     "shell.execute_reply": "2025-01-05T23:32:07.372833Z"
    },
    "papermill": {
     "duration": 1.59167,
     "end_time": "2025-01-05T23:32:07.376639",
     "exception": false,
     "start_time": "2025-01-05T23:32:05.784969",
     "status": "completed"
    },
    "tags": []
   },
   "outputs": [],
   "source": [
    "from Utils.notebookFunctions import *\n",
    "import numpy as np\n",
    "import pandas as pd\n",
    "import scipy.sparse as sps\n",
    "import time\n",
    "import shutil\n",
    "import optuna\n",
    "import json\n",
    "import os\n",
    "from Utils.seconds_to_biggest_unit import seconds_to_biggest_unit\n",
    "\n",
    "\n",
    "K_PATH = '/kaggle/working/RECsys_Challenge2024'\n",
    "GH_PATH = 'TrainedModels/WithKFCV/GraphBased'\n",
    "\n",
    "np.random.seed(42)"
   ]
  },
  {
   "cell_type": "markdown",
   "id": "807f23d0",
   "metadata": {
    "papermill": {
     "duration": 0.016562,
     "end_time": "2025-01-05T23:32:07.421207",
     "exception": false,
     "start_time": "2025-01-05T23:32:07.404645",
     "status": "completed"
    },
    "tags": []
   },
   "source": [
    "## Import the repository"
   ]
  },
  {
   "cell_type": "code",
   "execution_count": 6,
   "id": "a80df955",
   "metadata": {
    "execution": {
     "iopub.execute_input": "2025-01-05T23:32:07.456180Z",
     "iopub.status.busy": "2025-01-05T23:32:07.455518Z",
     "iopub.status.idle": "2025-01-05T23:32:07.723153Z",
     "shell.execute_reply": "2025-01-05T23:32:07.721837Z"
    },
    "papermill": {
     "duration": 0.287723,
     "end_time": "2025-01-05T23:32:07.725812",
     "exception": false,
     "start_time": "2025-01-05T23:32:07.438089",
     "status": "completed"
    },
    "tags": []
   },
   "outputs": [
    {
     "name": "stdout",
     "output_type": "stream",
     "text": [
      "Repository 'RECsys_Challenge2024' found.\n"
     ]
    }
   ],
   "source": [
    "repo = get_repo_from_github(token)"
   ]
  },
  {
   "cell_type": "code",
   "execution_count": 7,
   "id": "5458f8d7",
   "metadata": {
    "execution": {
     "iopub.execute_input": "2025-01-05T23:32:07.761835Z",
     "iopub.status.busy": "2025-01-05T23:32:07.761324Z",
     "iopub.status.idle": "2025-01-05T23:32:07.767258Z",
     "shell.execute_reply": "2025-01-05T23:32:07.766057Z"
    },
    "papermill": {
     "duration": 0.025799,
     "end_time": "2025-01-05T23:32:07.769423",
     "exception": false,
     "start_time": "2025-01-05T23:32:07.743624",
     "status": "completed"
    },
    "tags": []
   },
   "outputs": [],
   "source": [
    "config = {\n",
    "    'model': 'RP3beta',\n",
    "    'metric': 'MAP',\n",
    "    'n_folds': 5,\n",
    "    'tune_parameters': True,\n",
    "    'database_path': '/kaggle/working/history_RP3beta_MAP.db',\n",
    "    'copy_prev_best_params': False,\n",
    "    'tune_best_params': True,\n",
    "    'save_github': True\n",
    "}"
   ]
  },
  {
   "cell_type": "markdown",
   "id": "2f9cf247",
   "metadata": {
    "papermill": {
     "duration": 0.01628,
     "end_time": "2025-01-05T23:32:07.801675",
     "exception": false,
     "start_time": "2025-01-05T23:32:07.785395",
     "status": "completed"
    },
    "tags": []
   },
   "source": [
    "Import the database where previous tuning trials have been saved."
   ]
  },
  {
   "cell_type": "code",
   "execution_count": 8,
   "id": "0397768e",
   "metadata": {
    "execution": {
     "iopub.execute_input": "2025-01-05T23:32:07.837287Z",
     "iopub.status.busy": "2025-01-05T23:32:07.836799Z",
     "iopub.status.idle": "2025-01-05T23:32:07.843636Z",
     "shell.execute_reply": "2025-01-05T23:32:07.842206Z"
    },
    "papermill": {
     "duration": 0.027944,
     "end_time": "2025-01-05T23:32:07.846156",
     "exception": false,
     "start_time": "2025-01-05T23:32:07.818212",
     "status": "completed"
    },
    "tags": []
   },
   "outputs": [],
   "source": [
    "try:\n",
    "    shutil.copyfile(\n",
    "        f'{K_PATH}/{GH_PATH}/{config[\"model\"]}Recommender/Optimizing{config[\"metric\"]}/history_{config[\"model\"]}_{config[\"metric\"]}.db', \n",
    "        config['database_path']\n",
    "    )\n",
    "except FileNotFoundError:\n",
    "    pass # if not present optuna will create it"
   ]
  },
  {
   "cell_type": "markdown",
   "id": "f03cb47c",
   "metadata": {
    "papermill": {
     "duration": 0.016621,
     "end_time": "2025-01-05T23:32:07.880118",
     "exception": false,
     "start_time": "2025-01-05T23:32:07.863497",
     "status": "completed"
    },
    "tags": []
   },
   "source": [
    "# Construction of URM and ICM matrices"
   ]
  },
  {
   "cell_type": "code",
   "execution_count": 9,
   "id": "5a7bbae2",
   "metadata": {
    "execution": {
     "iopub.execute_input": "2025-01-05T23:32:07.915429Z",
     "iopub.status.busy": "2025-01-05T23:32:07.914912Z",
     "iopub.status.idle": "2025-01-05T23:32:08.831382Z",
     "shell.execute_reply": "2025-01-05T23:32:08.830391Z"
    },
    "papermill": {
     "duration": 0.936603,
     "end_time": "2025-01-05T23:32:08.833302",
     "exception": false,
     "start_time": "2025-01-05T23:32:07.896699",
     "status": "completed"
    },
    "tags": []
   },
   "outputs": [
    {
     "data": {
      "text/plain": [
       "<35736x38121 sparse matrix of type '<class 'numpy.float64'>'\n",
       "\twith 1764607 stored elements in Compressed Sparse Row format>"
      ]
     },
     "execution_count": 9,
     "metadata": {},
     "output_type": "execute_result"
    }
   ],
   "source": [
    "URM_all_dataframe = pd.read_csv(\"/kaggle/input/recommender-system-2024-challenge-polimi/data_train.csv\")\n",
    "\n",
    "n_users = len(URM_all_dataframe[\"user_id\"].unique())\n",
    "n_items = len(URM_all_dataframe[\"item_id\"].unique())\n",
    "\n",
    "URM_all = sps.csr_matrix((URM_all_dataframe[\"data\"].values, \n",
    "                          (URM_all_dataframe[\"user_id\"].values, URM_all_dataframe[\"item_id\"].values)),\n",
    "                        shape = (n_users, n_items))\n",
    "\n",
    "URM_all"
   ]
  },
  {
   "cell_type": "code",
   "execution_count": 10,
   "id": "ab9b31cf",
   "metadata": {
    "execution": {
     "iopub.execute_input": "2025-01-05T23:32:08.866305Z",
     "iopub.status.busy": "2025-01-05T23:32:08.865922Z",
     "iopub.status.idle": "2025-01-05T23:32:10.152766Z",
     "shell.execute_reply": "2025-01-05T23:32:10.151394Z"
    },
    "papermill": {
     "duration": 1.30565,
     "end_time": "2025-01-05T23:32:10.154805",
     "exception": false,
     "start_time": "2025-01-05T23:32:08.849155",
     "status": "completed"
    },
    "tags": []
   },
   "outputs": [
    {
     "data": {
      "text/plain": [
       "<38121x94331 sparse matrix of type '<class 'numpy.float64'>'\n",
       "\twith 2940040 stored elements in Compressed Sparse Row format>"
      ]
     },
     "execution_count": 10,
     "metadata": {},
     "output_type": "execute_result"
    }
   ],
   "source": [
    "ICM_dataframe = pd.read_csv(\"/kaggle/input/recommender-system-2024-challenge-polimi/data_ICM_metadata.csv\")\n",
    "\n",
    "n_items = len(ICM_dataframe[\"item_id\"].unique())\n",
    "n_features = len(ICM_dataframe[\"feature_id\"].unique())\n",
    "\n",
    "ICM_all = sps.csr_matrix((ICM_dataframe[\"data\"].values, \n",
    "                          (ICM_dataframe[\"item_id\"].values, ICM_dataframe[\"feature_id\"].values)),\n",
    "                        shape = (n_items, n_features))\n",
    "\n",
    "ICM_all"
   ]
  },
  {
   "cell_type": "markdown",
   "id": "5f47d77d",
   "metadata": {
    "papermill": {
     "duration": 0.015682,
     "end_time": "2025-01-05T23:32:10.188538",
     "exception": false,
     "start_time": "2025-01-05T23:32:10.172856",
     "status": "completed"
    },
    "tags": []
   },
   "source": [
    "# Training"
   ]
  },
  {
   "cell_type": "code",
   "execution_count": 11,
   "id": "94046f16",
   "metadata": {
    "execution": {
     "iopub.execute_input": "2025-01-05T23:32:10.221926Z",
     "iopub.status.busy": "2025-01-05T23:32:10.221493Z",
     "iopub.status.idle": "2025-01-05T23:32:28.194275Z",
     "shell.execute_reply": "2025-01-05T23:32:28.193041Z"
    },
    "papermill": {
     "duration": 17.992012,
     "end_time": "2025-01-05T23:32:28.196620",
     "exception": false,
     "start_time": "2025-01-05T23:32:10.204608",
     "status": "completed"
    },
    "tags": []
   },
   "outputs": [
    {
     "name": "stdout",
     "output_type": "stream",
     "text": [
      "Warning: 141 (0.39 %) of 35736 users have no sampled items\n"
     ]
    }
   ],
   "source": [
    "from Evaluation.Evaluator import EvaluatorHoldout\n",
    "from Data_manager.split_functions.split_train_validation_random_holdout import split_train_in_two_percentage_global_sample\n",
    "from Data_manager.split_functions.split_train_k_folds import split_train_k_folds\n",
    "\n",
    "URM_train, URM_validation = split_train_in_two_percentage_global_sample(URM_all, train_percentage = 0.80)\n",
    "\n",
    "folds = split_train_k_folds(URM_all, k=config['n_folds'])"
   ]
  },
  {
   "cell_type": "code",
   "execution_count": 12,
   "id": "7572fd25",
   "metadata": {
    "execution": {
     "iopub.execute_input": "2025-01-05T23:32:28.232886Z",
     "iopub.status.busy": "2025-01-05T23:32:28.232411Z",
     "iopub.status.idle": "2025-01-05T23:32:29.390878Z",
     "shell.execute_reply": "2025-01-05T23:32:29.389746Z"
    },
    "papermill": {
     "duration": 1.179524,
     "end_time": "2025-01-05T23:32:29.392893",
     "exception": false,
     "start_time": "2025-01-05T23:32:28.213369",
     "status": "completed"
    },
    "tags": []
   },
   "outputs": [],
   "source": [
    "from Recommenders.GraphBased.RP3betaRecommender import RP3betaRecommender\n",
    "\n",
    "def objective_function_RP3beta(optuna_trial):\n",
    "    \n",
    "    recommender_instance = RP3betaRecommender(URM_train)\n",
    "    \n",
    "    full_hyperp = {\n",
    "                    \"topK\": optuna_trial.suggest_int(\"topK\", 0, 1500),\n",
    "                   \"alpha\": optuna_trial.suggest_float(\"alpha\", 0, 3, log=False),\n",
    "                   \"beta\": optuna_trial.suggest_float(\"beta\", 0, 3, log=False),\n",
    "                   \"normalize_similarity\": optuna_trial.suggest_categorical(\"normalize_similarity\", [True, False]),\n",
    "                   \"implicit\": optuna_trial.suggest_categorical(\"implicit\", [True, False]),\n",
    "                  }            \n",
    "\n",
    "    validation_results = []\n",
    "    \n",
    "    for fold_idx, (URM_train_fold, URM_validation_fold) in enumerate(folds):\n",
    "    \n",
    "        recommender_instance = RP3betaRecommender(URM_train_fold)\n",
    "        recommender_instance.fit(**full_hyperp)\n",
    "        \n",
    "        evaluator = EvaluatorHoldout(URM_validation_fold, cutoff_list=[10])\n",
    "        result_df, _ = evaluator.evaluateRecommender(recommender_instance)\n",
    "        \n",
    "        validation_results.append(result_df.loc[10][\"MAP\"])\n",
    "    \n",
    "    return np.mean(validation_results)"
   ]
  },
  {
   "cell_type": "code",
   "execution_count": 13,
   "id": "9f05796a",
   "metadata": {
    "_kg_hide-output": true,
    "execution": {
     "iopub.execute_input": "2025-01-05T23:32:29.428401Z",
     "iopub.status.busy": "2025-01-05T23:32:29.427793Z",
     "iopub.status.idle": "2025-01-06T10:16:38.261715Z",
     "shell.execute_reply": "2025-01-06T10:16:38.259898Z"
    },
    "papermill": {
     "duration": 38648.916415,
     "end_time": "2025-01-06T10:16:38.326495",
     "exception": false,
     "start_time": "2025-01-05T23:32:29.410080",
     "status": "completed"
    },
    "tags": []
   },
   "outputs": [
    {
     "name": "stderr",
     "output_type": "stream",
     "text": [
      "[I 2025-01-05 23:32:30,498] Using an existing study with name 'hyperparameters_tuning_RP3beta_MAP' instead of creating a new one.\n"
     ]
    },
    {
     "name": "stdout",
     "output_type": "stream",
     "text": [
      "RP3betaRecommender: Similarity column 38121 (100.0%), 1593.00 column/sec. Elapsed time 23.93 sec\n",
      "EvaluatorHoldout: Ignoring 173 ( 0.5%) Users that have less than 1 test interactions\n",
      "EvaluatorHoldout: Processed 35563 (100.0%) in 37.56 sec. Users per second: 947\n",
      "RP3betaRecommender: Similarity column 38121 (100.0%), 1537.12 column/sec. Elapsed time 24.80 sec\n",
      "EvaluatorHoldout: Ignoring 163 ( 0.5%) Users that have less than 1 test interactions\n",
      "EvaluatorHoldout: Processed 35573 (100.0%) in 37.14 sec. Users per second: 958\n",
      "RP3betaRecommender: Similarity column 38121 (100.0%), 1570.16 column/sec. Elapsed time 24.28 sec\n",
      "EvaluatorHoldout: Ignoring 150 ( 0.4%) Users that have less than 1 test interactions\n",
      "EvaluatorHoldout: Processed 35586 (100.0%) in 37.33 sec. Users per second: 953\n",
      "RP3betaRecommender: Similarity column 38121 (100.0%), 1574.00 column/sec. Elapsed time 24.22 sec\n",
      "EvaluatorHoldout: Ignoring 167 ( 0.5%) Users that have less than 1 test interactions\n",
      "EvaluatorHoldout: Processed 35569 (100.0%) in 37.50 sec. Users per second: 949\n",
      "RP3betaRecommender: Similarity column 38121 (100.0%), 1568.39 column/sec. Elapsed time 24.31 sec\n",
      "EvaluatorHoldout: Ignoring 172 ( 0.5%) Users that have less than 1 test interactions\n",
      "EvaluatorHoldout: Processed 35564 (100.0%) in 37.55 sec. Users per second: 947\n"
     ]
    },
    {
     "name": "stderr",
     "output_type": "stream",
     "text": [
      "[I 2025-01-05 23:38:06,335] Trial 300 finished with value: 0.04859471442157407 and parameters: {'topK': 129, 'alpha': 0.44177073735708283, 'beta': 0.17062350798647152, 'normalize_similarity': True, 'implicit': True}. Best is trial 229 with value: 0.0549701405549974.\n"
     ]
    },
    {
     "name": "stdout",
     "output_type": "stream",
     "text": [
      "RP3betaRecommender: Similarity column 38121 (100.0%), 1735.71 column/sec. Elapsed time 21.96 sec\n",
      "EvaluatorHoldout: Ignoring 173 ( 0.5%) Users that have less than 1 test interactions\n",
      "EvaluatorHoldout: Processed 35563 (100.0%) in 36.43 sec. Users per second: 976\n",
      "RP3betaRecommender: Similarity column 38121 (100.0%), 1736.10 column/sec. Elapsed time 21.96 sec\n",
      "EvaluatorHoldout: Ignoring 163 ( 0.5%) Users that have less than 1 test interactions\n",
      "EvaluatorHoldout: Processed 35573 (100.0%) in 36.93 sec. Users per second: 963\n",
      "RP3betaRecommender: Similarity column 38121 (100.0%), 1741.82 column/sec. Elapsed time 21.89 sec\n",
      "EvaluatorHoldout: Ignoring 150 ( 0.4%) Users that have less than 1 test interactions\n",
      "EvaluatorHoldout: Processed 35586 (100.0%) in 36.82 sec. Users per second: 966\n",
      "RP3betaRecommender: Similarity column 38121 (100.0%), 1739.84 column/sec. Elapsed time 21.91 sec\n",
      "EvaluatorHoldout: Ignoring 167 ( 0.5%) Users that have less than 1 test interactions\n",
      "EvaluatorHoldout: Processed 35569 (100.0%) in 36.86 sec. Users per second: 965\n",
      "RP3betaRecommender: Similarity column 38121 (100.0%), 1760.25 column/sec. Elapsed time 21.66 sec\n",
      "EvaluatorHoldout: Ignoring 172 ( 0.5%) Users that have less than 1 test interactions\n",
      "EvaluatorHoldout: Processed 35564 (100.0%) in 36.87 sec. Users per second: 965\n"
     ]
    },
    {
     "name": "stderr",
     "output_type": "stream",
     "text": [
      "[I 2025-01-05 23:43:21,603] Trial 301 finished with value: 0.0502766028088221 and parameters: {'topK': 91, 'alpha': 0.6709114327089942, 'beta': 0.2807197624213982, 'normalize_similarity': True, 'implicit': True}. Best is trial 229 with value: 0.0549701405549974.\n"
     ]
    },
    {
     "name": "stdout",
     "output_type": "stream",
     "text": [
      "RP3betaRecommender: Similarity column 38121 (100.0%), 2054.42 column/sec. Elapsed time 18.56 sec\n",
      "EvaluatorHoldout: Ignoring 173 ( 0.5%) Users that have less than 1 test interactions\n",
      "EvaluatorHoldout: Processed 35563 (100.0%) in 32.71 sec. Users per second: 1087\n",
      "RP3betaRecommender: Similarity column 38121 (100.0%), 2009.36 column/sec. Elapsed time 18.97 sec\n",
      "EvaluatorHoldout: Ignoring 163 ( 0.5%) Users that have less than 1 test interactions\n",
      "EvaluatorHoldout: Processed 35573 (100.0%) in 33.00 sec. Users per second: 1078\n",
      "RP3betaRecommender: Similarity column 38121 (100.0%), 2023.28 column/sec. Elapsed time 18.84 sec\n",
      "EvaluatorHoldout: Ignoring 150 ( 0.4%) Users that have less than 1 test interactions\n",
      "EvaluatorHoldout: Processed 35586 (100.0%) in 32.70 sec. Users per second: 1088\n",
      "RP3betaRecommender: Similarity column 38121 (100.0%), 2014.32 column/sec. Elapsed time 18.93 sec\n",
      "EvaluatorHoldout: Ignoring 167 ( 0.5%) Users that have less than 1 test interactions\n",
      "EvaluatorHoldout: Processed 35569 (100.0%) in 32.85 sec. Users per second: 1083\n",
      "RP3betaRecommender: Similarity column 38121 (100.0%), 2044.79 column/sec. Elapsed time 18.64 sec\n",
      "EvaluatorHoldout: Ignoring 172 ( 0.5%) Users that have less than 1 test interactions\n",
      "EvaluatorHoldout: Processed 35564 (100.0%) in 33.15 sec. Users per second: 1073\n"
     ]
    },
    {
     "name": "stderr",
     "output_type": "stream",
     "text": [
      "[I 2025-01-05 23:47:48,230] Trial 302 finished with value: 0.053679015523167006 and parameters: {'topK': 29, 'alpha': 0.5250959186085575, 'beta': 0.09519563628580748, 'normalize_similarity': True, 'implicit': True}. Best is trial 229 with value: 0.0549701405549974.\n"
     ]
    },
    {
     "name": "stdout",
     "output_type": "stream",
     "text": [
      "RP3betaRecommender: Similarity column 38121 (100.0%), 1873.59 column/sec. Elapsed time 20.35 sec\n",
      "EvaluatorHoldout: Ignoring 173 ( 0.5%) Users that have less than 1 test interactions\n",
      "EvaluatorHoldout: Processed 35563 (100.0%) in 34.87 sec. Users per second: 1020\n",
      "RP3betaRecommender: Similarity column 38121 (100.0%), 1874.72 column/sec. Elapsed time 20.33 sec\n",
      "EvaluatorHoldout: Ignoring 163 ( 0.5%) Users that have less than 1 test interactions\n",
      "EvaluatorHoldout: Processed 35573 (100.0%) in 35.04 sec. Users per second: 1015\n",
      "RP3betaRecommender: Similarity column 38121 (100.0%), 1851.37 column/sec. Elapsed time 20.59 sec\n",
      "EvaluatorHoldout: Ignoring 150 ( 0.4%) Users that have less than 1 test interactions\n",
      "EvaluatorHoldout: Processed 35586 (100.0%) in 35.12 sec. Users per second: 1013\n",
      "RP3betaRecommender: Similarity column 38121 (100.0%), 1887.08 column/sec. Elapsed time 20.20 sec\n",
      "EvaluatorHoldout: Ignoring 167 ( 0.5%) Users that have less than 1 test interactions\n",
      "EvaluatorHoldout: Processed 35569 (100.0%) in 34.86 sec. Users per second: 1020\n",
      "RP3betaRecommender: Similarity column 38121 (100.0%), 1872.72 column/sec. Elapsed time 20.36 sec\n",
      "EvaluatorHoldout: Ignoring 172 ( 0.5%) Users that have less than 1 test interactions\n",
      "EvaluatorHoldout: Processed 35564 (100.0%) in 34.66 sec. Users per second: 1026\n"
     ]
    },
    {
     "name": "stderr",
     "output_type": "stream",
     "text": [
      "[I 2025-01-05 23:52:38,525] Trial 303 finished with value: 0.028023182429664957 and parameters: {'topK': 60, 'alpha': 0.6160327694075588, 'beta': 1.0522834385419375, 'normalize_similarity': True, 'implicit': True}. Best is trial 229 with value: 0.0549701405549974.\n"
     ]
    },
    {
     "name": "stdout",
     "output_type": "stream",
     "text": [
      "RP3betaRecommender: Similarity column 38121 (100.0%), 2062.87 column/sec. Elapsed time 18.48 sec\n",
      "EvaluatorHoldout: Ignoring 173 ( 0.5%) Users that have less than 1 test interactions\n",
      "EvaluatorHoldout: Processed 35563 (100.0%) in 32.84 sec. Users per second: 1083\n",
      "RP3betaRecommender: Similarity column 38121 (100.0%), 2042.43 column/sec. Elapsed time 18.66 sec\n",
      "EvaluatorHoldout: Ignoring 163 ( 0.5%) Users that have less than 1 test interactions\n",
      "EvaluatorHoldout: Processed 35573 (100.0%) in 33.16 sec. Users per second: 1073\n",
      "RP3betaRecommender: Similarity column 38121 (100.0%), 2066.59 column/sec. Elapsed time 18.45 sec\n",
      "EvaluatorHoldout: Ignoring 150 ( 0.4%) Users that have less than 1 test interactions\n",
      "EvaluatorHoldout: Processed 35586 (100.0%) in 33.26 sec. Users per second: 1070\n",
      "RP3betaRecommender: Similarity column 38121 (100.0%), 2067.71 column/sec. Elapsed time 18.44 sec\n",
      "EvaluatorHoldout: Ignoring 167 ( 0.5%) Users that have less than 1 test interactions\n",
      "EvaluatorHoldout: Processed 35569 (100.0%) in 33.10 sec. Users per second: 1075\n",
      "RP3betaRecommender: Similarity column 38121 (100.0%), 2059.75 column/sec. Elapsed time 18.51 sec\n",
      "EvaluatorHoldout: Ignoring 172 ( 0.5%) Users that have less than 1 test interactions\n",
      "EvaluatorHoldout: Processed 35564 (100.0%) in 32.94 sec. Users per second: 1080\n"
     ]
    },
    {
     "name": "stderr",
     "output_type": "stream",
     "text": [
      "[I 2025-01-05 23:57:04,202] Trial 304 finished with value: 0.054752531235729616 and parameters: {'topK': 23, 'alpha': 0.3818032791404584, 'beta': 0.18192923478116124, 'normalize_similarity': True, 'implicit': True}. Best is trial 229 with value: 0.0549701405549974.\n"
     ]
    },
    {
     "name": "stdout",
     "output_type": "stream",
     "text": [
      "RP3betaRecommender: Similarity column 38121 (100.0%), 1855.15 column/sec. Elapsed time 20.55 sec\n",
      "EvaluatorHoldout: Ignoring 173 ( 0.5%) Users that have less than 1 test interactions\n",
      "EvaluatorHoldout: Processed 35563 (100.0%) in 35.37 sec. Users per second: 1006\n",
      "RP3betaRecommender: Similarity column 38121 (100.0%), 1835.08 column/sec. Elapsed time 20.77 sec\n",
      "EvaluatorHoldout: Ignoring 163 ( 0.5%) Users that have less than 1 test interactions\n",
      "EvaluatorHoldout: Processed 35573 (100.0%) in 35.38 sec. Users per second: 1006\n",
      "RP3betaRecommender: Similarity column 38121 (100.0%), 1854.11 column/sec. Elapsed time 20.56 sec\n",
      "EvaluatorHoldout: Ignoring 150 ( 0.4%) Users that have less than 1 test interactions\n",
      "EvaluatorHoldout: Processed 35586 (100.0%) in 35.45 sec. Users per second: 1004\n",
      "RP3betaRecommender: Similarity column 38121 (100.0%), 1231.33 column/sec. Elapsed time 30.96 sec\n",
      "EvaluatorHoldout: Ignoring 167 ( 0.5%) Users that have less than 1 test interactions\n",
      "EvaluatorHoldout: Processed 35569 (100.0%) in 39.94 sec. Users per second: 890\n",
      "RP3betaRecommender: Similarity column 38121 (100.0%), 1758.67 column/sec. Elapsed time 21.68 sec\n",
      "EvaluatorHoldout: Ignoring 172 ( 0.5%) Users that have less than 1 test interactions\n",
      "EvaluatorHoldout: Processed 35564 (100.0%) in 36.89 sec. Users per second: 964\n"
     ]
    },
    {
     "name": "stderr",
     "output_type": "stream",
     "text": [
      "[I 2025-01-06 00:02:18,238] Trial 305 finished with value: 0.05173878429491854 and parameters: {'topK': 67, 'alpha': 0.37679108770426784, 'beta': 0.22667785056862944, 'normalize_similarity': True, 'implicit': True}. Best is trial 229 with value: 0.0549701405549974.\n"
     ]
    },
    {
     "name": "stdout",
     "output_type": "stream",
     "text": [
      "RP3betaRecommender: Similarity column 38121 (100.0%), 2827.72 column/sec. Elapsed time 13.48 sec\n",
      "EvaluatorHoldout: Ignoring 173 ( 0.5%) Users that have less than 1 test interactions\n",
      "EvaluatorHoldout: Processed 35563 (100.0%) in 27.65 sec. Users per second: 1286\n",
      "RP3betaRecommender: Similarity column 38121 (100.0%), 2786.88 column/sec. Elapsed time 13.68 sec\n",
      "EvaluatorHoldout: Ignoring 163 ( 0.5%) Users that have less than 1 test interactions\n",
      "EvaluatorHoldout: Processed 35573 (100.0%) in 28.32 sec. Users per second: 1256\n",
      "RP3betaRecommender: Similarity column 38121 (100.0%), 2823.65 column/sec. Elapsed time 13.50 sec\n",
      "EvaluatorHoldout: Ignoring 150 ( 0.4%) Users that have less than 1 test interactions\n",
      "EvaluatorHoldout: Processed 35586 (100.0%) in 28.12 sec. Users per second: 1265\n",
      "RP3betaRecommender: Similarity column 38121 (100.0%), 2795.26 column/sec. Elapsed time 13.64 sec\n",
      "EvaluatorHoldout: Ignoring 167 ( 0.5%) Users that have less than 1 test interactions\n",
      "EvaluatorHoldout: Processed 35569 (100.0%) in 28.08 sec. Users per second: 1267\n",
      "RP3betaRecommender: Similarity column 38121 (100.0%), 2897.70 column/sec. Elapsed time 13.16 sec\n",
      "EvaluatorHoldout: Ignoring 172 ( 0.5%) Users that have less than 1 test interactions\n",
      "EvaluatorHoldout: Processed 35564 (100.0%) in 27.93 sec. Users per second: 1273\n"
     ]
    },
    {
     "name": "stderr",
     "output_type": "stream",
     "text": [
      "[I 2025-01-06 00:05:49,822] Trial 306 finished with value: 0.01887954234085104 and parameters: {'topK': 1, 'alpha': 0.45036554987331356, 'beta': 0.27871163517099085, 'normalize_similarity': True, 'implicit': True}. Best is trial 229 with value: 0.0549701405549974.\n"
     ]
    },
    {
     "name": "stdout",
     "output_type": "stream",
     "text": [
      "RP3betaRecommender: Similarity column 38121 (100.0%), 1982.03 column/sec. Elapsed time 19.23 sec\n",
      "EvaluatorHoldout: Ignoring 173 ( 0.5%) Users that have less than 1 test interactions\n",
      "EvaluatorHoldout: Processed 35563 (100.0%) in 33.98 sec. Users per second: 1047\n",
      "RP3betaRecommender: Similarity column 38121 (100.0%), 1916.49 column/sec. Elapsed time 19.89 sec\n",
      "EvaluatorHoldout: Ignoring 163 ( 0.5%) Users that have less than 1 test interactions\n",
      "EvaluatorHoldout: Processed 35573 (100.0%) in 34.13 sec. Users per second: 1042\n",
      "RP3betaRecommender: Similarity column 38121 (100.0%), 1950.70 column/sec. Elapsed time 19.54 sec\n",
      "EvaluatorHoldout: Ignoring 150 ( 0.4%) Users that have less than 1 test interactions\n",
      "EvaluatorHoldout: Processed 35586 (100.0%) in 33.93 sec. Users per second: 1049\n",
      "RP3betaRecommender: Similarity column 38121 (100.0%), 1939.75 column/sec. Elapsed time 19.65 sec\n",
      "EvaluatorHoldout: Ignoring 167 ( 0.5%) Users that have less than 1 test interactions\n",
      "EvaluatorHoldout: Processed 35569 (100.0%) in 34.49 sec. Users per second: 1031\n",
      "RP3betaRecommender: Similarity column 38121 (100.0%), 1944.31 column/sec. Elapsed time 19.61 sec\n",
      "EvaluatorHoldout: Ignoring 172 ( 0.5%) Users that have less than 1 test interactions\n",
      "EvaluatorHoldout: Processed 35564 (100.0%) in 33.96 sec. Users per second: 1047\n"
     ]
    },
    {
     "name": "stderr",
     "output_type": "stream",
     "text": [
      "[I 2025-01-06 00:10:29,720] Trial 307 finished with value: 0.052965433639624235 and parameters: {'topK': 44, 'alpha': 0.3667033534769396, 'beta': 0.18047364387359122, 'normalize_similarity': True, 'implicit': True}. Best is trial 229 with value: 0.0549701405549974.\n"
     ]
    },
    {
     "name": "stdout",
     "output_type": "stream",
     "text": [
      "RP3betaRecommender: Similarity column 38121 (100.0%), 1703.55 column/sec. Elapsed time 22.38 sec\n",
      "EvaluatorHoldout: Ignoring 173 ( 0.5%) Users that have less than 1 test interactions\n",
      "EvaluatorHoldout: Processed 35563 (100.0%) in 36.62 sec. Users per second: 971\n",
      "RP3betaRecommender: Similarity column 38121 (100.0%), 1694.71 column/sec. Elapsed time 22.49 sec\n",
      "EvaluatorHoldout: Ignoring 163 ( 0.5%) Users that have less than 1 test interactions\n",
      "EvaluatorHoldout: Processed 35573 (100.0%) in 36.39 sec. Users per second: 978\n",
      "RP3betaRecommender: Similarity column 38121 (100.0%), 1699.20 column/sec. Elapsed time 22.43 sec\n",
      "EvaluatorHoldout: Ignoring 150 ( 0.4%) Users that have less than 1 test interactions\n",
      "EvaluatorHoldout: Processed 35586 (100.0%) in 36.44 sec. Users per second: 977\n",
      "RP3betaRecommender: Similarity column 38121 (100.0%), 1719.01 column/sec. Elapsed time 22.18 sec\n",
      "EvaluatorHoldout: Ignoring 167 ( 0.5%) Users that have less than 1 test interactions\n",
      "EvaluatorHoldout: Processed 35569 (100.0%) in 36.19 sec. Users per second: 983\n",
      "RP3betaRecommender: Similarity column 38121 (100.0%), 1721.79 column/sec. Elapsed time 22.14 sec\n",
      "EvaluatorHoldout: Ignoring 172 ( 0.5%) Users that have less than 1 test interactions\n",
      "EvaluatorHoldout: Processed 35564 (100.0%) in 36.45 sec. Users per second: 976\n"
     ]
    },
    {
     "name": "stderr",
     "output_type": "stream",
     "text": [
      "[I 2025-01-06 00:15:45,671] Trial 308 finished with value: 0.05037111002087953 and parameters: {'topK': 97, 'alpha': 0.46362955037525244, 'beta': 0.2436394758989777, 'normalize_similarity': True, 'implicit': True}. Best is trial 229 with value: 0.0549701405549974.\n"
     ]
    },
    {
     "name": "stdout",
     "output_type": "stream",
     "text": [
      "RP3betaRecommender: Similarity column 38121 (100.0%), 637.57 column/sec. Elapsed time 59.79 sec\n",
      "EvaluatorHoldout: Ignoring 173 ( 0.5%) Users that have less than 1 test interactions\n",
      "EvaluatorHoldout: Processed 35563 (100.0%) in 50.12 sec. Users per second: 710\n",
      "RP3betaRecommender: Similarity column 38121 (100.0%), 630.04 column/sec. Elapsed time 1.01 min\n",
      "EvaluatorHoldout: Ignoring 163 ( 0.5%) Users that have less than 1 test interactions\n",
      "EvaluatorHoldout: Processed 35573 (100.0%) in 50.05 sec. Users per second: 711\n",
      "RP3betaRecommender: Similarity column 38121 (100.0%), 623.92 column/sec. Elapsed time 1.02 min\n",
      "EvaluatorHoldout: Ignoring 150 ( 0.4%) Users that have less than 1 test interactions\n",
      "EvaluatorHoldout: Processed 35586 (100.0%) in 49.80 sec. Users per second: 715\n",
      "RP3betaRecommender: Similarity column 38121 (100.0%), 626.80 column/sec. Elapsed time 1.01 min\n",
      "EvaluatorHoldout: Ignoring 167 ( 0.5%) Users that have less than 1 test interactions\n",
      "EvaluatorHoldout: Processed 35569 (100.0%) in 49.90 sec. Users per second: 713\n",
      "RP3betaRecommender: Similarity column 38121 (100.0%), 635.26 column/sec. Elapsed time 1.00 min\n",
      "EvaluatorHoldout: Ignoring 172 ( 0.5%) Users that have less than 1 test interactions\n",
      "EvaluatorHoldout: Processed 35564 (100.0%) in 50.15 sec. Users per second: 709\n"
     ]
    },
    {
     "name": "stderr",
     "output_type": "stream",
     "text": [
      "[I 2025-01-06 00:27:33,475] Trial 309 finished with value: 0.039067563499151706 and parameters: {'topK': 777, 'alpha': 0.5303086466775162, 'beta': 0.11126906257589503, 'normalize_similarity': True, 'implicit': True}. Best is trial 229 with value: 0.0549701405549974.\n"
     ]
    },
    {
     "name": "stdout",
     "output_type": "stream",
     "text": [
      "RP3betaRecommender: Similarity column 38121 (100.0%), 590.51 column/sec. Elapsed time 1.08 min\n",
      "EvaluatorHoldout: Ignoring 173 ( 0.5%) Users that have less than 1 test interactions\n",
      "EvaluatorHoldout: Processed 35563 (100.0%) in 52.36 sec. Users per second: 679\n",
      "RP3betaRecommender: Similarity column 38121 (100.0%), 585.75 column/sec. Elapsed time 1.08 min\n",
      "EvaluatorHoldout: Ignoring 163 ( 0.5%) Users that have less than 1 test interactions\n",
      "EvaluatorHoldout: Processed 35573 (100.0%) in 52.75 sec. Users per second: 674\n",
      "RP3betaRecommender: Similarity column 38121 (100.0%), 573.24 column/sec. Elapsed time 1.11 min\n",
      "EvaluatorHoldout: Ignoring 150 ( 0.4%) Users that have less than 1 test interactions\n",
      "EvaluatorHoldout: Processed 35586 (100.0%) in 54.00 sec. Users per second: 659\n",
      "RP3betaRecommender: Similarity column 38121 (100.0%), 574.81 column/sec. Elapsed time 1.11 min\n",
      "EvaluatorHoldout: Ignoring 167 ( 0.5%) Users that have less than 1 test interactions\n",
      "EvaluatorHoldout: Processed 35569 (100.0%) in 54.66 sec. Users per second: 651\n",
      "RP3betaRecommender: Similarity column 38121 (100.0%), 573.20 column/sec. Elapsed time 1.11 min\n",
      "EvaluatorHoldout: Ignoring 172 ( 0.5%) Users that have less than 1 test interactions\n",
      "EvaluatorHoldout: Processed 35564 (100.0%) in 53.27 sec. Users per second: 668\n"
     ]
    },
    {
     "name": "stderr",
     "output_type": "stream",
     "text": [
      "[I 2025-01-06 00:40:29,772] Trial 310 finished with value: 0.04163133064007455 and parameters: {'topK': 874, 'alpha': 0.7195566999075446, 'beta': 0.20184392123832315, 'normalize_similarity': True, 'implicit': True}. Best is trial 229 with value: 0.0549701405549974.\n"
     ]
    },
    {
     "name": "stdout",
     "output_type": "stream",
     "text": [
      "RP3betaRecommender: Similarity column 38121 (100.0%), 2047.88 column/sec. Elapsed time 18.61 sec\n",
      "EvaluatorHoldout: Ignoring 173 ( 0.5%) Users that have less than 1 test interactions\n",
      "EvaluatorHoldout: Processed 35563 (100.0%) in 33.10 sec. Users per second: 1074\n",
      "RP3betaRecommender: Similarity column 38121 (100.0%), 2033.29 column/sec. Elapsed time 18.75 sec\n",
      "EvaluatorHoldout: Ignoring 163 ( 0.5%) Users that have less than 1 test interactions\n",
      "EvaluatorHoldout: Processed 35573 (100.0%) in 34.26 sec. Users per second: 1038\n",
      "RP3betaRecommender: Similarity column 38121 (100.0%), 2045.67 column/sec. Elapsed time 18.63 sec\n",
      "EvaluatorHoldout: Ignoring 150 ( 0.4%) Users that have less than 1 test interactions\n",
      "EvaluatorHoldout: Processed 35586 (100.0%) in 33.04 sec. Users per second: 1077\n",
      "RP3betaRecommender: Similarity column 38121 (100.0%), 2033.15 column/sec. Elapsed time 18.75 sec\n",
      "EvaluatorHoldout: Ignoring 167 ( 0.5%) Users that have less than 1 test interactions\n",
      "EvaluatorHoldout: Processed 35569 (100.0%) in 33.60 sec. Users per second: 1059\n",
      "RP3betaRecommender: Similarity column 38121 (100.0%), 2067.95 column/sec. Elapsed time 18.43 sec\n",
      "EvaluatorHoldout: Ignoring 172 ( 0.5%) Users that have less than 1 test interactions\n",
      "EvaluatorHoldout: Processed 35564 (100.0%) in 33.20 sec. Users per second: 1071\n"
     ]
    },
    {
     "name": "stderr",
     "output_type": "stream",
     "text": [
      "[I 2025-01-06 00:44:57,730] Trial 311 finished with value: 0.05340537365794444 and parameters: {'topK': 25, 'alpha': 0.6230864357256313, 'beta': 0.04171074740039574, 'normalize_similarity': True, 'implicit': True}. Best is trial 229 with value: 0.0549701405549974.\n"
     ]
    },
    {
     "name": "stdout",
     "output_type": "stream",
     "text": [
      "RP3betaRecommender: Similarity column 38121 (100.0%), 1800.09 column/sec. Elapsed time 21.18 sec\n",
      "EvaluatorHoldout: Ignoring 173 ( 0.5%) Users that have less than 1 test interactions\n",
      "EvaluatorHoldout: Processed 35563 (100.0%) in 35.84 sec. Users per second: 992\n",
      "RP3betaRecommender: Similarity column 38121 (100.0%), 1852.96 column/sec. Elapsed time 20.57 sec\n",
      "EvaluatorHoldout: Ignoring 163 ( 0.5%) Users that have less than 1 test interactions\n",
      "EvaluatorHoldout: Processed 35573 (100.0%) in 36.33 sec. Users per second: 979\n",
      "RP3betaRecommender: Similarity column 38121 (100.0%), 1836.64 column/sec. Elapsed time 20.76 sec\n",
      "EvaluatorHoldout: Ignoring 150 ( 0.4%) Users that have less than 1 test interactions\n",
      "EvaluatorHoldout: Processed 35586 (100.0%) in 36.39 sec. Users per second: 978\n",
      "RP3betaRecommender: Similarity column 38121 (100.0%), 1770.39 column/sec. Elapsed time 21.53 sec\n",
      "EvaluatorHoldout: Ignoring 167 ( 0.5%) Users that have less than 1 test interactions\n",
      "EvaluatorHoldout: Processed 35569 (100.0%) in 35.67 sec. Users per second: 997\n",
      "RP3betaRecommender: Similarity column 38121 (100.0%), 1854.11 column/sec. Elapsed time 20.56 sec\n",
      "EvaluatorHoldout: Ignoring 172 ( 0.5%) Users that have less than 1 test interactions\n",
      "EvaluatorHoldout: Processed 35564 (100.0%) in 36.86 sec. Users per second: 965\n"
     ]
    },
    {
     "name": "stderr",
     "output_type": "stream",
     "text": [
      "[I 2025-01-06 00:49:58,288] Trial 312 finished with value: 0.052464743244902655 and parameters: {'topK': 55, 'alpha': 0.3875085444223509, 'beta': 0.29540756786350797, 'normalize_similarity': True, 'implicit': True}. Best is trial 229 with value: 0.0549701405549974.\n"
     ]
    },
    {
     "name": "stdout",
     "output_type": "stream",
     "text": [
      "RP3betaRecommender: Similarity column 38121 (100.0%), 1967.48 column/sec. Elapsed time 19.38 sec\n",
      "EvaluatorHoldout: Ignoring 173 ( 0.5%) Users that have less than 1 test interactions\n",
      "EvaluatorHoldout: Processed 35563 (100.0%) in 32.74 sec. Users per second: 1086\n",
      "RP3betaRecommender: Similarity column 38121 (100.0%), 2047.23 column/sec. Elapsed time 18.62 sec\n",
      "EvaluatorHoldout: Ignoring 163 ( 0.5%) Users that have less than 1 test interactions\n",
      "EvaluatorHoldout: Processed 35573 (100.0%) in 32.74 sec. Users per second: 1086\n",
      "RP3betaRecommender: Similarity column 38121 (100.0%), 1997.91 column/sec. Elapsed time 19.08 sec\n",
      "EvaluatorHoldout: Ignoring 150 ( 0.4%) Users that have less than 1 test interactions\n",
      "EvaluatorHoldout: Processed 35586 (100.0%) in 32.49 sec. Users per second: 1095\n",
      "RP3betaRecommender: Similarity column 38121 (100.0%), 2062.98 column/sec. Elapsed time 18.48 sec\n",
      "EvaluatorHoldout: Ignoring 167 ( 0.5%) Users that have less than 1 test interactions\n",
      "EvaluatorHoldout: Processed 35569 (100.0%) in 32.19 sec. Users per second: 1105\n",
      "RP3betaRecommender: Similarity column 38121 (100.0%), 2105.86 column/sec. Elapsed time 18.10 sec\n",
      "EvaluatorHoldout: Ignoring 172 ( 0.5%) Users that have less than 1 test interactions\n",
      "EvaluatorHoldout: Processed 35564 (100.0%) in 31.93 sec. Users per second: 1114\n"
     ]
    },
    {
     "name": "stderr",
     "output_type": "stream",
     "text": [
      "[I 2025-01-06 00:54:21,357] Trial 313 finished with value: 0.05307754686109965 and parameters: {'topK': 26, 'alpha': 0.5027789388885795, 'beta': 3.345558261586001e-05, 'normalize_similarity': True, 'implicit': True}. Best is trial 229 with value: 0.0549701405549974.\n"
     ]
    },
    {
     "name": "stdout",
     "output_type": "stream",
     "text": [
      "RP3betaRecommender: Similarity column 38121 (100.0%), 1807.41 column/sec. Elapsed time 21.09 sec\n",
      "EvaluatorHoldout: Ignoring 173 ( 0.5%) Users that have less than 1 test interactions\n",
      "EvaluatorHoldout: Processed 35563 (100.0%) in 35.42 sec. Users per second: 1004\n",
      "RP3betaRecommender: Similarity column 38121 (100.0%), 1763.79 column/sec. Elapsed time 21.61 sec\n",
      "EvaluatorHoldout: Ignoring 163 ( 0.5%) Users that have less than 1 test interactions\n",
      "EvaluatorHoldout: Processed 35573 (100.0%) in 36.32 sec. Users per second: 979\n",
      "RP3betaRecommender: Similarity column 38121 (100.0%), 1754.59 column/sec. Elapsed time 21.73 sec\n",
      "EvaluatorHoldout: Ignoring 150 ( 0.4%) Users that have less than 1 test interactions\n",
      "EvaluatorHoldout: Processed 35586 (100.0%) in 35.69 sec. Users per second: 997\n",
      "RP3betaRecommender: Similarity column 38121 (100.0%), 1798.59 column/sec. Elapsed time 21.19 sec\n",
      "EvaluatorHoldout: Ignoring 167 ( 0.5%) Users that have less than 1 test interactions\n",
      "EvaluatorHoldout: Processed 35569 (100.0%) in 35.41 sec. Users per second: 1005\n",
      "RP3betaRecommender: Similarity column 38121 (100.0%), 1827.05 column/sec. Elapsed time 20.86 sec\n",
      "EvaluatorHoldout: Ignoring 172 ( 0.5%) Users that have less than 1 test interactions\n",
      "EvaluatorHoldout: Processed 35564 (100.0%) in 35.29 sec. Users per second: 1008\n"
     ]
    },
    {
     "name": "stderr",
     "output_type": "stream",
     "text": [
      "[I 2025-01-06 00:59:23,497] Trial 314 finished with value: 0.050636830550296205 and parameters: {'topK': 76, 'alpha': 0.6022365982122192, 'beta': 0.15529272931662352, 'normalize_similarity': True, 'implicit': True}. Best is trial 229 with value: 0.0549701405549974.\n"
     ]
    },
    {
     "name": "stdout",
     "output_type": "stream",
     "text": [
      "RP3betaRecommender: Similarity column 38121 (100.0%), 2090.76 column/sec. Elapsed time 18.23 sec\n",
      "EvaluatorHoldout: Ignoring 173 ( 0.5%) Users that have less than 1 test interactions\n",
      "EvaluatorHoldout: Processed 35563 (100.0%) in 32.58 sec. Users per second: 1091\n",
      "RP3betaRecommender: Similarity column 38121 (100.0%), 2098.51 column/sec. Elapsed time 18.17 sec\n",
      "EvaluatorHoldout: Ignoring 163 ( 0.5%) Users that have less than 1 test interactions\n",
      "EvaluatorHoldout: Processed 35573 (100.0%) in 32.77 sec. Users per second: 1086\n",
      "RP3betaRecommender: Similarity column 38121 (100.0%), 2040.92 column/sec. Elapsed time 18.68 sec\n",
      "EvaluatorHoldout: Ignoring 150 ( 0.4%) Users that have less than 1 test interactions\n",
      "EvaluatorHoldout: Processed 35586 (100.0%) in 33.54 sec. Users per second: 1061\n",
      "RP3betaRecommender: Similarity column 38121 (100.0%), 2104.89 column/sec. Elapsed time 18.11 sec\n",
      "EvaluatorHoldout: Ignoring 167 ( 0.5%) Users that have less than 1 test interactions\n",
      "EvaluatorHoldout: Processed 35569 (100.0%) in 32.59 sec. Users per second: 1091\n",
      "RP3betaRecommender: Similarity column 38121 (100.0%), 2100.68 column/sec. Elapsed time 18.15 sec\n",
      "EvaluatorHoldout: Ignoring 172 ( 0.5%) Users that have less than 1 test interactions\n",
      "EvaluatorHoldout: Processed 35564 (100.0%) in 32.32 sec. Users per second: 1100\n"
     ]
    },
    {
     "name": "stderr",
     "output_type": "stream",
     "text": [
      "[I 2025-01-06 01:03:46,413] Trial 315 finished with value: 0.054778205015114746 and parameters: {'topK': 22, 'alpha': 0.42783732879664005, 'beta': 0.24510456662394758, 'normalize_similarity': True, 'implicit': True}. Best is trial 229 with value: 0.0549701405549974.\n"
     ]
    },
    {
     "name": "stdout",
     "output_type": "stream",
     "text": [
      "RP3betaRecommender: Similarity column 38121 (100.0%), 2160.79 column/sec. Elapsed time 17.64 sec\n",
      "EvaluatorHoldout: Ignoring 173 ( 0.5%) Users that have less than 1 test interactions\n",
      "EvaluatorHoldout: Processed 35563 (100.0%) in 27.88 sec. Users per second: 1276\n",
      "RP3betaRecommender: Similarity column 38121 (100.0%), 2175.37 column/sec. Elapsed time 17.52 sec\n",
      "EvaluatorHoldout: Ignoring 163 ( 0.5%) Users that have less than 1 test interactions\n",
      "EvaluatorHoldout: Processed 35573 (100.0%) in 28.26 sec. Users per second: 1259\n",
      "RP3betaRecommender: Similarity column 38121 (100.0%), 2157.26 column/sec. Elapsed time 17.67 sec\n",
      "EvaluatorHoldout: Ignoring 150 ( 0.4%) Users that have less than 1 test interactions\n",
      "EvaluatorHoldout: Processed 35586 (100.0%) in 28.28 sec. Users per second: 1258\n",
      "RP3betaRecommender: Similarity column 38121 (100.0%), 2189.08 column/sec. Elapsed time 17.41 sec\n",
      "EvaluatorHoldout: Ignoring 167 ( 0.5%) Users that have less than 1 test interactions\n",
      "EvaluatorHoldout: Processed 35569 (100.0%) in 28.17 sec. Users per second: 1263\n",
      "RP3betaRecommender: Similarity column 38121 (100.0%), 2170.62 column/sec. Elapsed time 17.56 sec\n",
      "EvaluatorHoldout: Ignoring 172 ( 0.5%) Users that have less than 1 test interactions\n",
      "EvaluatorHoldout: Processed 35564 (100.0%) in 28.30 sec. Users per second: 1257\n"
     ]
    },
    {
     "name": "stderr",
     "output_type": "stream",
     "text": [
      "[I 2025-01-06 01:07:39,370] Trial 316 finished with value: 0.03713773858672683 and parameters: {'topK': 2, 'alpha': 0.4405867332028017, 'beta': 0.2416592418620957, 'normalize_similarity': True, 'implicit': True}. Best is trial 229 with value: 0.0549701405549974.\n"
     ]
    },
    {
     "name": "stdout",
     "output_type": "stream",
     "text": [
      "RP3betaRecommender: Similarity column 38121 (100.0%), 2861.48 column/sec. Elapsed time 13.32 sec\n",
      "EvaluatorHoldout: Ignoring 173 ( 0.5%) Users that have less than 1 test interactions\n",
      "EvaluatorHoldout: Processed 35563 (100.0%) in 25.13 sec. Users per second: 1415\n",
      "RP3betaRecommender: Similarity column 38121 (100.0%), 2894.38 column/sec. Elapsed time 13.17 sec\n",
      "EvaluatorHoldout: Ignoring 163 ( 0.5%) Users that have less than 1 test interactions\n",
      "EvaluatorHoldout: Processed 35573 (100.0%) in 25.12 sec. Users per second: 1416\n",
      "RP3betaRecommender: Similarity column 38121 (100.0%), 2967.50 column/sec. Elapsed time 12.85 sec\n",
      "EvaluatorHoldout: Ignoring 150 ( 0.4%) Users that have less than 1 test interactions\n",
      "EvaluatorHoldout: Processed 35586 (100.0%) in 25.10 sec. Users per second: 1418\n",
      "RP3betaRecommender: Similarity column 38121 (100.0%), 2921.60 column/sec. Elapsed time 13.05 sec\n",
      "EvaluatorHoldout: Ignoring 167 ( 0.5%) Users that have less than 1 test interactions\n",
      "EvaluatorHoldout: Processed 35569 (100.0%) in 24.90 sec. Users per second: 1429\n",
      "RP3betaRecommender: Similarity column 38121 (100.0%), 2910.31 column/sec. Elapsed time 13.10 sec\n",
      "EvaluatorHoldout: Ignoring 172 ( 0.5%) Users that have less than 1 test interactions\n",
      "EvaluatorHoldout: Processed 35564 (100.0%) in 25.02 sec. Users per second: 1421\n"
     ]
    },
    {
     "name": "stderr",
     "output_type": "stream",
     "text": [
      "[I 2025-01-06 01:10:51,181] Trial 317 finished with value: 0.0002664826418719655 and parameters: {'topK': 0, 'alpha': 0.6714707132755028, 'beta': 0.11927979001376786, 'normalize_similarity': True, 'implicit': True}. Best is trial 229 with value: 0.0549701405549974.\n"
     ]
    },
    {
     "name": "stdout",
     "output_type": "stream",
     "text": [
      "RP3betaRecommender: Similarity column 38121 (100.0%), 1940.90 column/sec. Elapsed time 19.64 sec\n",
      "EvaluatorHoldout: Ignoring 173 ( 0.5%) Users that have less than 1 test interactions\n",
      "EvaluatorHoldout: Processed 35563 (100.0%) in 34.90 sec. Users per second: 1019\n",
      "RP3betaRecommender: Similarity column 38121 (100.0%), 1916.96 column/sec. Elapsed time 19.89 sec\n",
      "EvaluatorHoldout: Ignoring 163 ( 0.5%) Users that have less than 1 test interactions\n",
      "EvaluatorHoldout: Processed 35573 (100.0%) in 34.79 sec. Users per second: 1022\n",
      "RP3betaRecommender: Similarity column 38121 (100.0%), 1921.86 column/sec. Elapsed time 19.84 sec\n",
      "EvaluatorHoldout: Ignoring 150 ( 0.4%) Users that have less than 1 test interactions\n",
      "EvaluatorHoldout: Processed 35586 (100.0%) in 35.31 sec. Users per second: 1008\n",
      "RP3betaRecommender: Similarity column 38121 (100.0%), 1939.96 column/sec. Elapsed time 19.65 sec\n",
      "EvaluatorHoldout: Ignoring 167 ( 0.5%) Users that have less than 1 test interactions\n",
      "EvaluatorHoldout: Processed 35569 (100.0%) in 35.38 sec. Users per second: 1005\n",
      "RP3betaRecommender: Similarity column 38121 (100.0%), 1924.96 column/sec. Elapsed time 19.80 sec\n",
      "EvaluatorHoldout: Ignoring 172 ( 0.5%) Users that have less than 1 test interactions\n",
      "EvaluatorHoldout: Processed 35564 (100.0%) in 35.37 sec. Users per second: 1006\n"
     ]
    },
    {
     "name": "stderr",
     "output_type": "stream",
     "text": [
      "[I 2025-01-06 01:15:39,807] Trial 318 finished with value: 0.04138880135204787 and parameters: {'topK': 54, 'alpha': 2.338008788146772, 'beta': 0.18463590279109715, 'normalize_similarity': True, 'implicit': True}. Best is trial 229 with value: 0.0549701405549974.\n"
     ]
    },
    {
     "name": "stdout",
     "output_type": "stream",
     "text": [
      "RP3betaRecommender: Similarity column 38121 (100.0%), 1668.61 column/sec. Elapsed time 22.85 sec\n",
      "EvaluatorHoldout: Ignoring 173 ( 0.5%) Users that have less than 1 test interactions\n",
      "EvaluatorHoldout: Processed 35563 (100.0%) in 36.47 sec. Users per second: 975\n",
      "RP3betaRecommender: Similarity column 38121 (100.0%), 1641.39 column/sec. Elapsed time 23.22 sec\n",
      "EvaluatorHoldout: Ignoring 163 ( 0.5%) Users that have less than 1 test interactions\n",
      "EvaluatorHoldout: Processed 35573 (100.0%) in 36.97 sec. Users per second: 962\n",
      "RP3betaRecommender: Similarity column 38121 (100.0%), 1725.66 column/sec. Elapsed time 22.09 sec\n",
      "EvaluatorHoldout: Ignoring 150 ( 0.4%) Users that have less than 1 test interactions\n",
      "EvaluatorHoldout: Processed 35586 (100.0%) in 37.39 sec. Users per second: 952\n",
      "RP3betaRecommender: Similarity column 38121 (100.0%), 1721.52 column/sec. Elapsed time 22.14 sec\n",
      "EvaluatorHoldout: Ignoring 167 ( 0.5%) Users that have less than 1 test interactions\n",
      "EvaluatorHoldout: Processed 35569 (100.0%) in 36.61 sec. Users per second: 972\n",
      "RP3betaRecommender: Similarity column 38121 (100.0%), 1715.90 column/sec. Elapsed time 22.22 sec\n",
      "EvaluatorHoldout: Ignoring 172 ( 0.5%) Users that have less than 1 test interactions\n",
      "EvaluatorHoldout: Processed 35564 (100.0%) in 36.67 sec. Users per second: 970\n"
     ]
    },
    {
     "name": "stderr",
     "output_type": "stream",
     "text": [
      "[I 2025-01-06 01:20:59,616] Trial 319 finished with value: 0.05019541067552363 and parameters: {'topK': 100, 'alpha': 0.5509471890989204, 'beta': 0.2502671961392829, 'normalize_similarity': True, 'implicit': True}. Best is trial 229 with value: 0.0549701405549974.\n"
     ]
    },
    {
     "name": "stdout",
     "output_type": "stream",
     "text": [
      "RP3betaRecommender: Similarity column 38121 (100.0%), 1905.97 column/sec. Elapsed time 20.00 sec\n",
      "EvaluatorHoldout: Ignoring 173 ( 0.5%) Users that have less than 1 test interactions\n",
      "EvaluatorHoldout: Processed 35563 (100.0%) in 34.97 sec. Users per second: 1017\n",
      "RP3betaRecommender: Similarity column 38121 (100.0%), 1952.10 column/sec. Elapsed time 19.53 sec\n",
      "EvaluatorHoldout: Ignoring 163 ( 0.5%) Users that have less than 1 test interactions\n",
      "EvaluatorHoldout: Processed 35573 (100.0%) in 33.87 sec. Users per second: 1050\n",
      "RP3betaRecommender: Similarity column 38121 (100.0%), 1977.07 column/sec. Elapsed time 19.28 sec\n",
      "EvaluatorHoldout: Ignoring 150 ( 0.4%) Users that have less than 1 test interactions\n",
      "EvaluatorHoldout: Processed 35586 (100.0%) in 34.15 sec. Users per second: 1042\n",
      "RP3betaRecommender: Similarity column 38121 (100.0%), 1978.35 column/sec. Elapsed time 19.27 sec\n",
      "EvaluatorHoldout: Ignoring 167 ( 0.5%) Users that have less than 1 test interactions\n",
      "EvaluatorHoldout: Processed 35569 (100.0%) in 33.51 sec. Users per second: 1061\n",
      "RP3betaRecommender: Similarity column 38121 (100.0%), 2016.16 column/sec. Elapsed time 18.91 sec\n",
      "EvaluatorHoldout: Ignoring 172 ( 0.5%) Users that have less than 1 test interactions\n",
      "EvaluatorHoldout: Processed 35564 (100.0%) in 33.28 sec. Users per second: 1069\n"
     ]
    },
    {
     "name": "stderr",
     "output_type": "stream",
     "text": [
      "[I 2025-01-06 01:25:37,706] Trial 320 finished with value: 0.053068018109177495 and parameters: {'topK': 43, 'alpha': 0.4130901307356679, 'beta': 0.18257008349438325, 'normalize_similarity': True, 'implicit': True}. Best is trial 229 with value: 0.0549701405549974.\n"
     ]
    },
    {
     "name": "stdout",
     "output_type": "stream",
     "text": [
      "RP3betaRecommender: Similarity column 38121 (100.0%), 2083.92 column/sec. Elapsed time 18.29 sec\n",
      "EvaluatorHoldout: Ignoring 173 ( 0.5%) Users that have less than 1 test interactions\n",
      "EvaluatorHoldout: Processed 35563 (100.0%) in 32.05 sec. Users per second: 1110\n",
      "RP3betaRecommender: Similarity column 38121 (100.0%), 2110.19 column/sec. Elapsed time 18.07 sec\n",
      "EvaluatorHoldout: Ignoring 163 ( 0.5%) Users that have less than 1 test interactions\n",
      "EvaluatorHoldout: Processed 35573 (100.0%) in 32.28 sec. Users per second: 1102\n",
      "RP3betaRecommender: Similarity column 38121 (100.0%), 2098.78 column/sec. Elapsed time 18.16 sec\n",
      "EvaluatorHoldout: Ignoring 150 ( 0.4%) Users that have less than 1 test interactions\n",
      "EvaluatorHoldout: Processed 35586 (100.0%) in 32.06 sec. Users per second: 1110\n",
      "RP3betaRecommender: Similarity column 38121 (100.0%), 2106.53 column/sec. Elapsed time 18.10 sec\n",
      "EvaluatorHoldout: Ignoring 167 ( 0.5%) Users that have less than 1 test interactions\n",
      "EvaluatorHoldout: Processed 35569 (100.0%) in 32.35 sec. Users per second: 1099\n",
      "RP3betaRecommender: Similarity column 38121 (100.0%), 2077.55 column/sec. Elapsed time 18.35 sec\n",
      "EvaluatorHoldout: Ignoring 172 ( 0.5%) Users that have less than 1 test interactions\n",
      "EvaluatorHoldout: Processed 35564 (100.0%) in 32.47 sec. Users per second: 1095\n"
     ]
    },
    {
     "name": "stderr",
     "output_type": "stream",
     "text": [
      "[I 2025-01-06 01:29:57,456] Trial 321 finished with value: 0.053829979870698375 and parameters: {'topK': 25, 'alpha': 0.5637872969222304, 'beta': 0.07871019086645865, 'normalize_similarity': True, 'implicit': True}. Best is trial 229 with value: 0.0549701405549974.\n"
     ]
    },
    {
     "name": "stdout",
     "output_type": "stream",
     "text": [
      "RP3betaRecommender: Similarity column 38121 (100.0%), 1793.28 column/sec. Elapsed time 21.26 sec\n",
      "EvaluatorHoldout: Ignoring 173 ( 0.5%) Users that have less than 1 test interactions\n",
      "EvaluatorHoldout: Processed 35563 (100.0%) in 35.82 sec. Users per second: 993\n",
      "RP3betaRecommender: Similarity column 38121 (100.0%), 1798.89 column/sec. Elapsed time 21.19 sec\n",
      "EvaluatorHoldout: Ignoring 163 ( 0.5%) Users that have less than 1 test interactions\n",
      "EvaluatorHoldout: Processed 35573 (100.0%) in 35.94 sec. Users per second: 990\n",
      "RP3betaRecommender: Similarity column 38121 (100.0%), 1828.23 column/sec. Elapsed time 20.85 sec\n",
      "EvaluatorHoldout: Ignoring 150 ( 0.4%) Users that have less than 1 test interactions\n",
      "EvaluatorHoldout: Processed 35586 (100.0%) in 35.50 sec. Users per second: 1002\n",
      "RP3betaRecommender: Similarity column 38121 (100.0%), 1836.68 column/sec. Elapsed time 20.76 sec\n",
      "EvaluatorHoldout: Ignoring 167 ( 0.5%) Users that have less than 1 test interactions\n",
      "EvaluatorHoldout: Processed 35569 (100.0%) in 35.55 sec. Users per second: 1001\n",
      "RP3betaRecommender: Similarity column 38121 (100.0%), 1827.45 column/sec. Elapsed time 20.86 sec\n",
      "EvaluatorHoldout: Ignoring 172 ( 0.5%) Users that have less than 1 test interactions\n",
      "EvaluatorHoldout: Processed 35564 (100.0%) in 35.84 sec. Users per second: 992\n"
     ]
    },
    {
     "name": "stderr",
     "output_type": "stream",
     "text": [
      "[I 2025-01-06 01:34:59,090] Trial 322 finished with value: 0.05155291837445743 and parameters: {'topK': 73, 'alpha': 0.5104341329745604, 'beta': 0.28456698275599646, 'normalize_similarity': True, 'implicit': True}. Best is trial 229 with value: 0.0549701405549974.\n"
     ]
    },
    {
     "name": "stdout",
     "output_type": "stream",
     "text": [
      "RP3betaRecommender: Similarity column 38121 (100.0%), 1941.71 column/sec. Elapsed time 19.63 sec\n",
      "EvaluatorHoldout: Ignoring 173 ( 0.5%) Users that have less than 1 test interactions\n",
      "EvaluatorHoldout: Processed 35563 (100.0%) in 34.49 sec. Users per second: 1031\n",
      "RP3betaRecommender: Similarity column 38121 (100.0%), 1944.92 column/sec. Elapsed time 19.60 sec\n",
      "EvaluatorHoldout: Ignoring 163 ( 0.5%) Users that have less than 1 test interactions\n",
      "EvaluatorHoldout: Processed 35573 (100.0%) in 33.88 sec. Users per second: 1050\n",
      "RP3betaRecommender: Similarity column 38121 (100.0%), 1979.94 column/sec. Elapsed time 19.25 sec\n",
      "EvaluatorHoldout: Ignoring 150 ( 0.4%) Users that have less than 1 test interactions\n",
      "EvaluatorHoldout: Processed 35586 (100.0%) in 34.42 sec. Users per second: 1034\n",
      "RP3betaRecommender: Similarity column 38121 (100.0%), 1948.81 column/sec. Elapsed time 19.56 sec\n",
      "EvaluatorHoldout: Ignoring 167 ( 0.5%) Users that have less than 1 test interactions\n",
      "EvaluatorHoldout: Processed 35569 (100.0%) in 33.82 sec. Users per second: 1052\n",
      "RP3betaRecommender: Similarity column 38121 (100.0%), 1934.09 column/sec. Elapsed time 19.71 sec\n",
      "EvaluatorHoldout: Ignoring 172 ( 0.5%) Users that have less than 1 test interactions\n",
      "EvaluatorHoldout: Processed 35564 (100.0%) in 34.09 sec. Users per second: 1043\n"
     ]
    },
    {
     "name": "stderr",
     "output_type": "stream",
     "text": [
      "[I 2025-01-06 01:39:39,265] Trial 323 finished with value: 0.05195973357738074 and parameters: {'topK': 45, 'alpha': 0.717401576414266, 'beta': 0.12305105436267086, 'normalize_similarity': True, 'implicit': True}. Best is trial 229 with value: 0.0549701405549974.\n"
     ]
    },
    {
     "name": "stdout",
     "output_type": "stream",
     "text": [
      "RP3betaRecommender: Similarity column 38121 (100.0%), 463.21 column/sec. Elapsed time 1.37 min\n",
      "EvaluatorHoldout: Ignoring 173 ( 0.5%) Users that have less than 1 test interactions\n",
      "EvaluatorHoldout: Processed 35563 (100.0%) in 58.85 sec. Users per second: 604\n",
      "RP3betaRecommender: Similarity column 38121 (100.0%), 462.93 column/sec. Elapsed time 1.37 min\n",
      "EvaluatorHoldout: Ignoring 163 ( 0.5%) Users that have less than 1 test interactions\n",
      "EvaluatorHoldout: Processed 35573 (100.0%) in 58.53 sec. Users per second: 608\n",
      "RP3betaRecommender: Similarity column 38121 (100.0%), 460.92 column/sec. Elapsed time 1.38 min\n",
      "EvaluatorHoldout: Ignoring 150 ( 0.4%) Users that have less than 1 test interactions\n",
      "EvaluatorHoldout: Processed 35586 (100.0%) in 58.05 sec. Users per second: 613\n",
      "RP3betaRecommender: Similarity column 38121 (100.0%), 464.18 column/sec. Elapsed time 1.37 min\n",
      "EvaluatorHoldout: Ignoring 167 ( 0.5%) Users that have less than 1 test interactions\n",
      "EvaluatorHoldout: Processed 35569 (100.0%) in 58.00 sec. Users per second: 613\n",
      "RP3betaRecommender: Similarity column 38121 (100.0%), 467.68 column/sec. Elapsed time 1.36 min\n",
      "EvaluatorHoldout: Ignoring 172 ( 0.5%) Users that have less than 1 test interactions\n",
      "EvaluatorHoldout: Processed 35564 (100.0%) in 57.62 sec. Users per second: 617\n"
     ]
    },
    {
     "name": "stderr",
     "output_type": "stream",
     "text": [
      "[I 2025-01-06 01:55:31,958] Trial 324 finished with value: 0.04089425315445553 and parameters: {'topK': 1268, 'alpha': 0.6051530180023716, 'beta': 0.2134894497728685, 'normalize_similarity': True, 'implicit': True}. Best is trial 229 with value: 0.0549701405549974.\n"
     ]
    },
    {
     "name": "stdout",
     "output_type": "stream",
     "text": [
      "RP3betaRecommender: Similarity column 38121 (100.0%), 746.09 column/sec. Elapsed time 51.09 sec\n",
      "EvaluatorHoldout: Ignoring 173 ( 0.5%) Users that have less than 1 test interactions\n",
      "EvaluatorHoldout: Processed 35563 (100.0%) in 49.01 sec. Users per second: 726\n",
      "RP3betaRecommender: Similarity column 38121 (100.0%), 730.37 column/sec. Elapsed time 52.19 sec\n",
      "EvaluatorHoldout: Ignoring 163 ( 0.5%) Users that have less than 1 test interactions\n",
      "EvaluatorHoldout: Processed 35573 (100.0%) in 48.50 sec. Users per second: 733\n",
      "RP3betaRecommender: Similarity column 38121 (100.0%), 739.11 column/sec. Elapsed time 51.58 sec\n",
      "EvaluatorHoldout: Ignoring 150 ( 0.4%) Users that have less than 1 test interactions\n",
      "EvaluatorHoldout: Processed 35586 (100.0%) in 49.23 sec. Users per second: 723\n",
      "RP3betaRecommender: Similarity column 38121 (100.0%), 737.43 column/sec. Elapsed time 51.69 sec\n",
      "EvaluatorHoldout: Ignoring 167 ( 0.5%) Users that have less than 1 test interactions\n",
      "EvaluatorHoldout: Processed 35569 (100.0%) in 48.94 sec. Users per second: 727\n",
      "RP3betaRecommender: Similarity column 38121 (100.0%), 738.47 column/sec. Elapsed time 51.62 sec\n",
      "EvaluatorHoldout: Ignoring 172 ( 0.5%) Users that have less than 1 test interactions\n",
      "EvaluatorHoldout: Processed 35564 (100.0%) in 49.66 sec. Users per second: 716\n"
     ]
    },
    {
     "name": "stderr",
     "output_type": "stream",
     "text": [
      "[I 2025-01-06 02:06:10,190] Trial 325 finished with value: 0.020133742411846643 and parameters: {'topK': 587, 'alpha': 0.4766912609165376, 'beta': 1.2372572087504692, 'normalize_similarity': True, 'implicit': True}. Best is trial 229 with value: 0.0549701405549974.\n"
     ]
    },
    {
     "name": "stdout",
     "output_type": "stream",
     "text": [
      "RP3betaRecommender: Similarity column 38121 (100.0%), 1544.97 column/sec. Elapsed time 24.67 sec\n",
      "EvaluatorHoldout: Ignoring 173 ( 0.5%) Users that have less than 1 test interactions\n",
      "EvaluatorHoldout: Processed 35563 (100.0%) in 38.57 sec. Users per second: 922\n",
      "RP3betaRecommender: Similarity column 38121 (100.0%), 1512.54 column/sec. Elapsed time 25.20 sec\n",
      "EvaluatorHoldout: Ignoring 163 ( 0.5%) Users that have less than 1 test interactions\n",
      "EvaluatorHoldout: Processed 35573 (100.0%) in 38.04 sec. Users per second: 935\n",
      "RP3betaRecommender: Similarity column 38121 (100.0%), 1561.23 column/sec. Elapsed time 24.42 sec\n",
      "EvaluatorHoldout: Ignoring 150 ( 0.4%) Users that have less than 1 test interactions\n",
      "EvaluatorHoldout: Processed 35586 (100.0%) in 37.96 sec. Users per second: 937\n",
      "RP3betaRecommender: Similarity column 38121 (100.0%), 1556.54 column/sec. Elapsed time 24.49 sec\n",
      "EvaluatorHoldout: Ignoring 167 ( 0.5%) Users that have less than 1 test interactions\n",
      "EvaluatorHoldout: Processed 35569 (100.0%) in 37.56 sec. Users per second: 947\n",
      "RP3betaRecommender: Similarity column 38121 (100.0%), 1558.40 column/sec. Elapsed time 24.46 sec\n",
      "EvaluatorHoldout: Ignoring 172 ( 0.5%) Users that have less than 1 test interactions\n",
      "EvaluatorHoldout: Processed 35564 (100.0%) in 37.58 sec. Users per second: 946\n"
     ]
    },
    {
     "name": "stderr",
     "output_type": "stream",
     "text": [
      "[I 2025-01-06 02:11:51,344] Trial 326 finished with value: 0.04815177072737455 and parameters: {'topK': 137, 'alpha': 0.35404182681511803, 'beta': 0.16609090374187618, 'normalize_similarity': True, 'implicit': True}. Best is trial 229 with value: 0.0549701405549974.\n"
     ]
    },
    {
     "name": "stdout",
     "output_type": "stream",
     "text": [
      "RP3betaRecommender: Similarity column 38121 (100.0%), 2790.53 column/sec. Elapsed time 13.66 sec\n",
      "EvaluatorHoldout: Ignoring 173 ( 0.5%) Users that have less than 1 test interactions\n",
      "EvaluatorHoldout: Processed 35563 (100.0%) in 25.70 sec. Users per second: 1384\n",
      "RP3betaRecommender: Similarity column 38121 (100.0%), 2791.32 column/sec. Elapsed time 13.66 sec\n",
      "EvaluatorHoldout: Ignoring 163 ( 0.5%) Users that have less than 1 test interactions\n",
      "EvaluatorHoldout: Processed 35573 (100.0%) in 25.59 sec. Users per second: 1390\n",
      "RP3betaRecommender: Similarity column 38121 (100.0%), 2814.23 column/sec. Elapsed time 13.55 sec\n",
      "EvaluatorHoldout: Ignoring 150 ( 0.4%) Users that have less than 1 test interactions\n",
      "EvaluatorHoldout: Processed 35586 (100.0%) in 25.60 sec. Users per second: 1390\n",
      "RP3betaRecommender: Similarity column 38121 (100.0%), 2794.97 column/sec. Elapsed time 13.64 sec\n",
      "EvaluatorHoldout: Ignoring 167 ( 0.5%) Users that have less than 1 test interactions\n",
      "EvaluatorHoldout: Processed 35569 (100.0%) in 25.42 sec. Users per second: 1399\n",
      "RP3betaRecommender: Similarity column 38121 (100.0%), 2894.60 column/sec. Elapsed time 13.17 sec\n",
      "EvaluatorHoldout: Ignoring 172 ( 0.5%) Users that have less than 1 test interactions\n",
      "EvaluatorHoldout: Processed 35564 (100.0%) in 25.83 sec. Users per second: 1377\n"
     ]
    },
    {
     "name": "stderr",
     "output_type": "stream",
     "text": [
      "[I 2025-01-06 02:15:08,249] Trial 327 finished with value: 0.0002664826418719655 and parameters: {'topK': 0, 'alpha': 0.6407699570197685, 'beta': 0.2789545294851336, 'normalize_similarity': True, 'implicit': True}. Best is trial 229 with value: 0.0549701405549974.\n"
     ]
    },
    {
     "name": "stdout",
     "output_type": "stream",
     "text": [
      "RP3betaRecommender: Similarity column 38121 (100.0%), 1777.62 column/sec. Elapsed time 21.44 sec\n",
      "EvaluatorHoldout: Ignoring 173 ( 0.5%) Users that have less than 1 test interactions\n",
      "EvaluatorHoldout: Processed 35563 (100.0%) in 36.26 sec. Users per second: 981\n",
      "RP3betaRecommender: Similarity column 38121 (100.0%), 1773.73 column/sec. Elapsed time 21.49 sec\n",
      "EvaluatorHoldout: Ignoring 163 ( 0.5%) Users that have less than 1 test interactions\n",
      "EvaluatorHoldout: Processed 35573 (100.0%) in 36.31 sec. Users per second: 980\n",
      "RP3betaRecommender: Similarity column 38121 (100.0%), 1751.20 column/sec. Elapsed time 21.77 sec\n",
      "EvaluatorHoldout: Ignoring 150 ( 0.4%) Users that have less than 1 test interactions\n",
      "EvaluatorHoldout: Processed 35586 (100.0%) in 37.24 sec. Users per second: 955\n",
      "RP3betaRecommender: Similarity column 38121 (100.0%), 1760.04 column/sec. Elapsed time 21.66 sec\n",
      "EvaluatorHoldout: Ignoring 167 ( 0.5%) Users that have less than 1 test interactions\n",
      "EvaluatorHoldout: Processed 35569 (100.0%) in 36.27 sec. Users per second: 981\n",
      "RP3betaRecommender: Similarity column 38121 (100.0%), 1769.64 column/sec. Elapsed time 21.54 sec\n",
      "EvaluatorHoldout: Ignoring 172 ( 0.5%) Users that have less than 1 test interactions\n",
      "EvaluatorHoldout: Processed 35564 (100.0%) in 37.75 sec. Users per second: 942\n"
     ]
    },
    {
     "name": "stderr",
     "output_type": "stream",
     "text": [
      "[I 2025-01-06 02:20:18,488] Trial 328 finished with value: 0.05100730261717721 and parameters: {'topK': 79, 'alpha': 0.5552462618241247, 'beta': 0.22011468832812903, 'normalize_similarity': True, 'implicit': True}. Best is trial 229 with value: 0.0549701405549974.\n"
     ]
    },
    {
     "name": "stdout",
     "output_type": "stream",
     "text": [
      "RP3betaRecommender: Similarity column 38121 (100.0%), 2034.49 column/sec. Elapsed time 18.74 sec\n",
      "EvaluatorHoldout: Ignoring 173 ( 0.5%) Users that have less than 1 test interactions\n",
      "EvaluatorHoldout: Processed 35563 (100.0%) in 32.89 sec. Users per second: 1081\n",
      "RP3betaRecommender: Similarity column 38121 (100.0%), 2021.00 column/sec. Elapsed time 18.86 sec\n",
      "EvaluatorHoldout: Ignoring 163 ( 0.5%) Users that have less than 1 test interactions\n",
      "EvaluatorHoldout: Processed 35573 (100.0%) in 32.88 sec. Users per second: 1082\n",
      "RP3betaRecommender: Similarity column 38121 (100.0%), 2032.08 column/sec. Elapsed time 18.76 sec\n",
      "EvaluatorHoldout: Ignoring 150 ( 0.4%) Users that have less than 1 test interactions\n",
      "EvaluatorHoldout: Processed 35586 (100.0%) in 33.25 sec. Users per second: 1070\n",
      "RP3betaRecommender: Similarity column 38121 (100.0%), 1971.96 column/sec. Elapsed time 19.33 sec\n",
      "EvaluatorHoldout: Ignoring 167 ( 0.5%) Users that have less than 1 test interactions\n",
      "EvaluatorHoldout: Processed 35569 (100.0%) in 32.89 sec. Users per second: 1081\n",
      "RP3betaRecommender: Similarity column 38121 (100.0%), 2032.66 column/sec. Elapsed time 18.75 sec\n",
      "EvaluatorHoldout: Ignoring 172 ( 0.5%) Users that have less than 1 test interactions\n",
      "EvaluatorHoldout: Processed 35564 (100.0%) in 32.79 sec. Users per second: 1085\n"
     ]
    },
    {
     "name": "stderr",
     "output_type": "stream",
     "text": [
      "[I 2025-01-06 02:24:45,301] Trial 329 finished with value: 0.05372552844304235 and parameters: {'topK': 26, 'alpha': 0.4407413955742406, 'beta': 0.05995299545515985, 'normalize_similarity': True, 'implicit': True}. Best is trial 229 with value: 0.0549701405549974.\n"
     ]
    },
    {
     "name": "stdout",
     "output_type": "stream",
     "text": [
      "RP3betaRecommender: Similarity column 38121 (100.0%), 1922.88 column/sec. Elapsed time 19.82 sec\n",
      "EvaluatorHoldout: Ignoring 173 ( 0.5%) Users that have less than 1 test interactions\n",
      "EvaluatorHoldout: Processed 35563 (100.0%) in 34.34 sec. Users per second: 1036\n",
      "RP3betaRecommender: Similarity column 38121 (100.0%), 1902.66 column/sec. Elapsed time 20.04 sec\n",
      "EvaluatorHoldout: Ignoring 163 ( 0.5%) Users that have less than 1 test interactions\n",
      "EvaluatorHoldout: Processed 35573 (100.0%) in 34.53 sec. Users per second: 1030\n",
      "RP3betaRecommender: Similarity column 38121 (100.0%), 1934.51 column/sec. Elapsed time 19.71 sec\n",
      "EvaluatorHoldout: Ignoring 150 ( 0.4%) Users that have less than 1 test interactions\n",
      "EvaluatorHoldout: Processed 35586 (100.0%) in 35.07 sec. Users per second: 1015\n",
      "RP3betaRecommender: Similarity column 38121 (100.0%), 1923.80 column/sec. Elapsed time 19.82 sec\n",
      "EvaluatorHoldout: Ignoring 167 ( 0.5%) Users that have less than 1 test interactions\n",
      "EvaluatorHoldout: Processed 35569 (100.0%) in 34.65 sec. Users per second: 1027\n",
      "RP3betaRecommender: Similarity column 38121 (100.0%), 1918.44 column/sec. Elapsed time 19.87 sec\n",
      "EvaluatorHoldout: Ignoring 172 ( 0.5%) Users that have less than 1 test interactions\n",
      "EvaluatorHoldout: Processed 35564 (100.0%) in 34.30 sec. Users per second: 1037\n"
     ]
    },
    {
     "name": "stderr",
     "output_type": "stream",
     "text": [
      "[I 2025-01-06 02:29:29,210] Trial 330 finished with value: 0.05236300139310024 and parameters: {'topK': 48, 'alpha': 0.493867465840776, 'beta': 0.1278896653378187, 'normalize_similarity': True, 'implicit': True}. Best is trial 229 with value: 0.0549701405549974.\n"
     ]
    },
    {
     "name": "stdout",
     "output_type": "stream",
     "text": [
      "RP3betaRecommender: Similarity column 38121 (100.0%), 1679.22 column/sec. Elapsed time 22.70 sec\n",
      "EvaluatorHoldout: Ignoring 173 ( 0.5%) Users that have less than 1 test interactions\n",
      "EvaluatorHoldout: Processed 35563 (100.0%) in 37.85 sec. Users per second: 939\n",
      "RP3betaRecommender: Similarity column 38121 (100.0%), 1655.56 column/sec. Elapsed time 23.03 sec\n",
      "EvaluatorHoldout: Ignoring 163 ( 0.5%) Users that have less than 1 test interactions\n",
      "EvaluatorHoldout: Processed 35573 (100.0%) in 37.77 sec. Users per second: 942\n",
      "RP3betaRecommender: Similarity column 38121 (100.0%), 1651.86 column/sec. Elapsed time 23.08 sec\n",
      "EvaluatorHoldout: Ignoring 150 ( 0.4%) Users that have less than 1 test interactions\n",
      "EvaluatorHoldout: Processed 35586 (100.0%) in 40.05 sec. Users per second: 889\n",
      "RP3betaRecommender: Similarity column 38121 (100.0%), 1653.52 column/sec. Elapsed time 23.05 sec\n",
      "EvaluatorHoldout: Ignoring 167 ( 0.5%) Users that have less than 1 test interactions\n",
      "EvaluatorHoldout: Processed 35569 (100.0%) in 38.82 sec. Users per second: 916\n",
      "RP3betaRecommender: Similarity column 38121 (100.0%), 1642.93 column/sec. Elapsed time 23.20 sec\n",
      "EvaluatorHoldout: Ignoring 172 ( 0.5%) Users that have less than 1 test interactions\n",
      "EvaluatorHoldout: Processed 35564 (100.0%) in 38.01 sec. Users per second: 936\n"
     ]
    },
    {
     "name": "stderr",
     "output_type": "stream",
     "text": [
      "[I 2025-01-06 02:35:00,901] Trial 331 finished with value: 0.050387190781800664 and parameters: {'topK': 102, 'alpha': 0.388417857299027, 'beta': 0.30265926634013657, 'normalize_similarity': True, 'implicit': True}. Best is trial 229 with value: 0.0549701405549974.\n"
     ]
    },
    {
     "name": "stdout",
     "output_type": "stream",
     "text": [
      "RP3betaRecommender: Similarity column 38121 (100.0%), 1935.56 column/sec. Elapsed time 19.70 sec\n",
      "EvaluatorHoldout: Ignoring 173 ( 0.5%) Users that have less than 1 test interactions\n",
      "EvaluatorHoldout: Processed 35563 (100.0%) in 34.02 sec. Users per second: 1045\n",
      "RP3betaRecommender: Similarity column 38121 (100.0%), 2025.14 column/sec. Elapsed time 18.82 sec\n",
      "EvaluatorHoldout: Ignoring 163 ( 0.5%) Users that have less than 1 test interactions\n",
      "EvaluatorHoldout: Processed 35573 (100.0%) in 34.02 sec. Users per second: 1046\n",
      "RP3betaRecommender: Similarity column 38121 (100.0%), 2006.59 column/sec. Elapsed time 19.00 sec\n",
      "EvaluatorHoldout: Ignoring 150 ( 0.4%) Users that have less than 1 test interactions\n",
      "EvaluatorHoldout: Processed 35586 (100.0%) in 33.52 sec. Users per second: 1062\n",
      "RP3betaRecommender: Similarity column 38121 (100.0%), 2038.65 column/sec. Elapsed time 18.70 sec\n",
      "EvaluatorHoldout: Ignoring 167 ( 0.5%) Users that have less than 1 test interactions\n",
      "EvaluatorHoldout: Processed 35569 (100.0%) in 33.28 sec. Users per second: 1069\n",
      "RP3betaRecommender: Similarity column 38121 (100.0%), 2041.22 column/sec. Elapsed time 18.68 sec\n",
      "EvaluatorHoldout: Ignoring 172 ( 0.5%) Users that have less than 1 test interactions\n",
      "EvaluatorHoldout: Processed 35564 (100.0%) in 33.74 sec. Users per second: 1054\n"
     ]
    },
    {
     "name": "stderr",
     "output_type": "stream",
     "text": [
      "[I 2025-01-06 02:39:32,978] Trial 332 finished with value: 0.05424188420423648 and parameters: {'topK': 27, 'alpha': 0.5704027550707521, 'beta': 0.19505156107915206, 'normalize_similarity': True, 'implicit': True}. Best is trial 229 with value: 0.0549701405549974.\n"
     ]
    },
    {
     "name": "stdout",
     "output_type": "stream",
     "text": [
      "RP3betaRecommender: Similarity column 38121 (100.0%), 1839.94 column/sec. Elapsed time 20.72 sec\n",
      "EvaluatorHoldout: Ignoring 173 ( 0.5%) Users that have less than 1 test interactions\n",
      "EvaluatorHoldout: Processed 35563 (100.0%) in 36.12 sec. Users per second: 985\n",
      "RP3betaRecommender: Similarity column 38121 (100.0%), 1839.07 column/sec. Elapsed time 20.73 sec\n",
      "EvaluatorHoldout: Ignoring 163 ( 0.5%) Users that have less than 1 test interactions\n",
      "EvaluatorHoldout: Processed 35573 (100.0%) in 36.30 sec. Users per second: 980\n",
      "RP3betaRecommender: Similarity column 38121 (100.0%), 1805.57 column/sec. Elapsed time 21.11 sec\n",
      "EvaluatorHoldout: Ignoring 150 ( 0.4%) Users that have less than 1 test interactions\n",
      "EvaluatorHoldout: Processed 35586 (100.0%) in 36.45 sec. Users per second: 976\n",
      "RP3betaRecommender: Similarity column 38121 (100.0%), 1833.10 column/sec. Elapsed time 20.80 sec\n",
      "EvaluatorHoldout: Ignoring 167 ( 0.5%) Users that have less than 1 test interactions\n",
      "EvaluatorHoldout: Processed 35569 (100.0%) in 35.90 sec. Users per second: 991\n",
      "RP3betaRecommender: Similarity column 38121 (100.0%), 1770.09 column/sec. Elapsed time 21.54 sec\n",
      "EvaluatorHoldout: Ignoring 172 ( 0.5%) Users that have less than 1 test interactions\n",
      "EvaluatorHoldout: Processed 35564 (100.0%) in 36.14 sec. Users per second: 984\n"
     ]
    },
    {
     "name": "stderr",
     "output_type": "stream",
     "text": [
      "[I 2025-01-06 02:44:35,183] Trial 333 finished with value: 0.051322106704148586 and parameters: {'topK': 67, 'alpha': 0.6699031964034403, 'beta': 0.24003264977481964, 'normalize_similarity': True, 'implicit': True}. Best is trial 229 with value: 0.0549701405549974.\n"
     ]
    },
    {
     "name": "stdout",
     "output_type": "stream",
     "text": [
      "RP3betaRecommender: Similarity column 38121 (100.0%), 2034.95 column/sec. Elapsed time 18.73 sec\n",
      "EvaluatorHoldout: Ignoring 173 ( 0.5%) Users that have less than 1 test interactions\n",
      "EvaluatorHoldout: Processed 35563 (100.0%) in 34.02 sec. Users per second: 1045\n",
      "RP3betaRecommender: Similarity column 38121 (100.0%), 2041.80 column/sec. Elapsed time 18.67 sec\n",
      "EvaluatorHoldout: Ignoring 163 ( 0.5%) Users that have less than 1 test interactions\n",
      "EvaluatorHoldout: Processed 35573 (100.0%) in 33.98 sec. Users per second: 1047\n",
      "RP3betaRecommender: Similarity column 38121 (100.0%), 1996.92 column/sec. Elapsed time 19.09 sec\n",
      "EvaluatorHoldout: Ignoring 150 ( 0.4%) Users that have less than 1 test interactions\n",
      "EvaluatorHoldout: Processed 35586 (100.0%) in 33.85 sec. Users per second: 1051\n",
      "RP3betaRecommender: Similarity column 38121 (100.0%), 2014.33 column/sec. Elapsed time 18.92 sec\n",
      "EvaluatorHoldout: Ignoring 167 ( 0.5%) Users that have less than 1 test interactions\n",
      "EvaluatorHoldout: Processed 35569 (100.0%) in 34.04 sec. Users per second: 1045\n",
      "RP3betaRecommender: Similarity column 38121 (100.0%), 2042.49 column/sec. Elapsed time 18.66 sec\n",
      "EvaluatorHoldout: Ignoring 172 ( 0.5%) Users that have less than 1 test interactions\n",
      "EvaluatorHoldout: Processed 35564 (100.0%) in 33.68 sec. Users per second: 1056\n"
     ]
    },
    {
     "name": "stderr",
     "output_type": "stream",
     "text": [
      "[I 2025-01-06 02:49:08,220] Trial 334 finished with value: 0.05378206904846614 and parameters: {'topK': 29, 'alpha': 0.5919818241000422, 'beta': 0.29953873508246515, 'normalize_similarity': True, 'implicit': True}. Best is trial 229 with value: 0.0549701405549974.\n"
     ]
    },
    {
     "name": "stdout",
     "output_type": "stream",
     "text": [
      "RP3betaRecommender: Similarity column 38121 (100.0%), 2806.42 column/sec. Elapsed time 13.58 sec\n",
      "EvaluatorHoldout: Ignoring 173 ( 0.5%) Users that have less than 1 test interactions\n",
      "EvaluatorHoldout: Processed 35563 (100.0%) in 26.28 sec. Users per second: 1353\n",
      "RP3betaRecommender: Similarity column 38121 (100.0%), 2737.71 column/sec. Elapsed time 13.92 sec\n",
      "EvaluatorHoldout: Ignoring 163 ( 0.5%) Users that have less than 1 test interactions\n",
      "EvaluatorHoldout: Processed 35573 (100.0%) in 26.07 sec. Users per second: 1365\n",
      "RP3betaRecommender: Similarity column 38121 (100.0%), 2813.70 column/sec. Elapsed time 13.55 sec\n",
      "EvaluatorHoldout: Ignoring 150 ( 0.4%) Users that have less than 1 test interactions\n",
      "EvaluatorHoldout: Processed 35586 (100.0%) in 26.56 sec. Users per second: 1340\n",
      "RP3betaRecommender: Similarity column 38121 (100.0%), 2706.80 column/sec. Elapsed time 14.08 sec\n",
      "EvaluatorHoldout: Ignoring 167 ( 0.5%) Users that have less than 1 test interactions\n",
      "EvaluatorHoldout: Processed 35569 (100.0%) in 26.96 sec. Users per second: 1320\n",
      "RP3betaRecommender: Similarity column 38121 (100.0%), 2797.65 column/sec. Elapsed time 13.63 sec\n",
      "EvaluatorHoldout: Ignoring 172 ( 0.5%) Users that have less than 1 test interactions\n",
      "EvaluatorHoldout: Processed 35564 (100.0%) in 26.29 sec. Users per second: 1353\n"
     ]
    },
    {
     "name": "stderr",
     "output_type": "stream",
     "text": [
      "[I 2025-01-06 02:52:30,312] Trial 335 finished with value: 0.0002664826418719655 and parameters: {'topK': 0, 'alpha': 0.4963280792106678, 'beta': 0.1859482849612105, 'normalize_similarity': True, 'implicit': True}. Best is trial 229 with value: 0.0549701405549974.\n"
     ]
    },
    {
     "name": "stdout",
     "output_type": "stream",
     "text": [
      "RP3betaRecommender: Similarity column 38121 (100.0%), 1852.66 column/sec. Elapsed time 20.58 sec\n",
      "EvaluatorHoldout: Ignoring 173 ( 0.5%) Users that have less than 1 test interactions\n",
      "EvaluatorHoldout: Processed 35563 (100.0%) in 36.68 sec. Users per second: 970\n",
      "RP3betaRecommender: Similarity column 38121 (100.0%), 1839.88 column/sec. Elapsed time 20.72 sec\n",
      "EvaluatorHoldout: Ignoring 163 ( 0.5%) Users that have less than 1 test interactions\n",
      "EvaluatorHoldout: Processed 35573 (100.0%) in 36.53 sec. Users per second: 974\n",
      "RP3betaRecommender: Similarity column 38121 (100.0%), 1855.80 column/sec. Elapsed time 20.54 sec\n",
      "EvaluatorHoldout: Ignoring 150 ( 0.4%) Users that have less than 1 test interactions\n",
      "EvaluatorHoldout: Processed 35586 (100.0%) in 36.62 sec. Users per second: 972\n",
      "RP3betaRecommender: Similarity column 38121 (100.0%), 1850.41 column/sec. Elapsed time 20.60 sec\n",
      "EvaluatorHoldout: Ignoring 167 ( 0.5%) Users that have less than 1 test interactions\n",
      "EvaluatorHoldout: Processed 35569 (100.0%) in 35.94 sec. Users per second: 990\n",
      "RP3betaRecommender: Similarity column 38121 (100.0%), 1836.80 column/sec. Elapsed time 20.75 sec\n",
      "EvaluatorHoldout: Ignoring 172 ( 0.5%) Users that have less than 1 test interactions\n",
      "EvaluatorHoldout: Processed 35564 (100.0%) in 36.39 sec. Users per second: 977\n"
     ]
    },
    {
     "name": "stderr",
     "output_type": "stream",
     "text": [
      "[I 2025-01-06 02:57:31,008] Trial 336 finished with value: 0.05231481425063942 and parameters: {'topK': 58, 'alpha': 0.41881026300184765, 'beta': 0.24105554281861058, 'normalize_similarity': True, 'implicit': True}. Best is trial 229 with value: 0.0549701405549974.\n"
     ]
    },
    {
     "name": "stdout",
     "output_type": "stream",
     "text": [
      "RP3betaRecommender: Similarity column 38121 (100.0%), 2002.23 column/sec. Elapsed time 19.04 sec\n",
      "EvaluatorHoldout: Ignoring 173 ( 0.5%) Users that have less than 1 test interactions\n",
      "EvaluatorHoldout: Processed 35563 (100.0%) in 33.89 sec. Users per second: 1049\n",
      "RP3betaRecommender: Similarity column 38121 (100.0%), 2018.32 column/sec. Elapsed time 18.89 sec\n",
      "EvaluatorHoldout: Ignoring 163 ( 0.5%) Users that have less than 1 test interactions\n",
      "EvaluatorHoldout: Processed 35573 (100.0%) in 33.97 sec. Users per second: 1047\n",
      "RP3betaRecommender: Similarity column 38121 (100.0%), 2011.67 column/sec. Elapsed time 18.95 sec\n",
      "EvaluatorHoldout: Ignoring 150 ( 0.4%) Users that have less than 1 test interactions\n",
      "EvaluatorHoldout: Processed 35586 (100.0%) in 34.48 sec. Users per second: 1032\n",
      "RP3betaRecommender: Similarity column 38121 (100.0%), 1917.32 column/sec. Elapsed time 19.88 sec\n",
      "EvaluatorHoldout: Ignoring 167 ( 0.5%) Users that have less than 1 test interactions\n",
      "EvaluatorHoldout: Processed 35569 (100.0%) in 34.50 sec. Users per second: 1031\n",
      "RP3betaRecommender: Similarity column 38121 (100.0%), 2024.96 column/sec. Elapsed time 18.83 sec\n",
      "EvaluatorHoldout: Ignoring 172 ( 0.5%) Users that have less than 1 test interactions\n",
      "EvaluatorHoldout: Processed 35564 (100.0%) in 34.43 sec. Users per second: 1033\n"
     ]
    },
    {
     "name": "stderr",
     "output_type": "stream",
     "text": [
      "[I 2025-01-06 03:02:06,300] Trial 337 finished with value: 0.05363743402660661 and parameters: {'topK': 27, 'alpha': 0.6476357203209192, 'beta': 0.108125501205664, 'normalize_similarity': True, 'implicit': True}. Best is trial 229 with value: 0.0549701405549974.\n"
     ]
    },
    {
     "name": "stdout",
     "output_type": "stream",
     "text": [
      "RP3betaRecommender: Similarity column 38121 (100.0%), 1576.04 column/sec. Elapsed time 24.19 sec\n",
      "EvaluatorHoldout: Ignoring 173 ( 0.5%) Users that have less than 1 test interactions\n",
      "EvaluatorHoldout: Processed 35563 (100.0%) in 39.17 sec. Users per second: 908\n",
      "RP3betaRecommender: Similarity column 38121 (100.0%), 1586.92 column/sec. Elapsed time 24.02 sec\n",
      "EvaluatorHoldout: Ignoring 163 ( 0.5%) Users that have less than 1 test interactions\n",
      "EvaluatorHoldout: Processed 35573 (100.0%) in 38.78 sec. Users per second: 917\n",
      "RP3betaRecommender: Similarity column 38121 (100.0%), 1606.38 column/sec. Elapsed time 23.73 sec\n",
      "EvaluatorHoldout: Ignoring 150 ( 0.4%) Users that have less than 1 test interactions\n",
      "EvaluatorHoldout: Processed 35586 (100.0%) in 38.90 sec. Users per second: 915\n",
      "RP3betaRecommender: Similarity column 38121 (100.0%), 1546.74 column/sec. Elapsed time 24.65 sec\n",
      "EvaluatorHoldout: Ignoring 167 ( 0.5%) Users that have less than 1 test interactions\n",
      "EvaluatorHoldout: Processed 35569 (100.0%) in 39.97 sec. Users per second: 890\n",
      "RP3betaRecommender: Similarity column 38121 (100.0%), 1582.79 column/sec. Elapsed time 24.08 sec\n",
      "EvaluatorHoldout: Ignoring 172 ( 0.5%) Users that have less than 1 test interactions\n",
      "EvaluatorHoldout: Processed 35564 (100.0%) in 38.64 sec. Users per second: 920\n"
     ]
    },
    {
     "name": "stderr",
     "output_type": "stream",
     "text": [
      "[I 2025-01-06 03:07:52,941] Trial 338 finished with value: 0.0496183920018823 and parameters: {'topK': 125, 'alpha': 0.5752876381478582, 'beta': 0.33031532665064356, 'normalize_similarity': True, 'implicit': True}. Best is trial 229 with value: 0.0549701405549974.\n"
     ]
    },
    {
     "name": "stdout",
     "output_type": "stream",
     "text": [
      "RP3betaRecommender: Similarity column 38121 (100.0%), 2833.15 column/sec. Elapsed time 13.46 sec\n",
      "EvaluatorHoldout: Ignoring 173 ( 0.5%) Users that have less than 1 test interactions\n",
      "EvaluatorHoldout: Processed 35563 (100.0%) in 25.50 sec. Users per second: 1395\n",
      "RP3betaRecommender: Similarity column 38121 (100.0%), 2796.01 column/sec. Elapsed time 13.63 sec\n",
      "EvaluatorHoldout: Ignoring 163 ( 0.5%) Users that have less than 1 test interactions\n",
      "EvaluatorHoldout: Processed 35573 (100.0%) in 25.44 sec. Users per second: 1398\n",
      "RP3betaRecommender: Similarity column 38121 (100.0%), 2783.31 column/sec. Elapsed time 13.70 sec\n",
      "EvaluatorHoldout: Ignoring 150 ( 0.4%) Users that have less than 1 test interactions\n",
      "EvaluatorHoldout: Processed 35586 (100.0%) in 25.62 sec. Users per second: 1389\n",
      "RP3betaRecommender: Similarity column 38121 (100.0%), 2842.11 column/sec. Elapsed time 13.41 sec\n",
      "EvaluatorHoldout: Ignoring 167 ( 0.5%) Users that have less than 1 test interactions\n",
      "EvaluatorHoldout: Processed 35569 (100.0%) in 25.28 sec. Users per second: 1407\n",
      "RP3betaRecommender: Similarity column 38121 (100.0%), 2881.78 column/sec. Elapsed time 13.23 sec\n",
      "EvaluatorHoldout: Ignoring 172 ( 0.5%) Users that have less than 1 test interactions\n",
      "EvaluatorHoldout: Processed 35564 (100.0%) in 25.43 sec. Users per second: 1398\n"
     ]
    },
    {
     "name": "stderr",
     "output_type": "stream",
     "text": [
      "[I 2025-01-06 03:11:08,741] Trial 339 finished with value: 0.0002664826418719655 and parameters: {'topK': 0, 'alpha': 0.5250768085971109, 'beta': 0.1974600332825855, 'normalize_similarity': True, 'implicit': True}. Best is trial 229 with value: 0.0549701405549974.\n"
     ]
    },
    {
     "name": "stdout",
     "output_type": "stream",
     "text": [
      "RP3betaRecommender: Similarity column 38121 (100.0%), 1787.65 column/sec. Elapsed time 21.32 sec\n",
      "EvaluatorHoldout: Ignoring 173 ( 0.5%) Users that have less than 1 test interactions\n",
      "EvaluatorHoldout: Processed 35563 (100.0%) in 35.85 sec. Users per second: 992\n",
      "RP3betaRecommender: Similarity column 38121 (100.0%), 1751.49 column/sec. Elapsed time 21.76 sec\n",
      "EvaluatorHoldout: Ignoring 163 ( 0.5%) Users that have less than 1 test interactions\n",
      "EvaluatorHoldout: Processed 35573 (100.0%) in 36.15 sec. Users per second: 984\n",
      "RP3betaRecommender: Similarity column 38121 (100.0%), 1757.22 column/sec. Elapsed time 21.69 sec\n",
      "EvaluatorHoldout: Ignoring 150 ( 0.4%) Users that have less than 1 test interactions\n",
      "EvaluatorHoldout: Processed 35586 (100.0%) in 36.10 sec. Users per second: 986\n",
      "RP3betaRecommender: Similarity column 38121 (100.0%), 1777.36 column/sec. Elapsed time 21.45 sec\n",
      "EvaluatorHoldout: Ignoring 167 ( 0.5%) Users that have less than 1 test interactions\n",
      "EvaluatorHoldout: Processed 35569 (100.0%) in 36.04 sec. Users per second: 987\n",
      "RP3betaRecommender: Similarity column 38121 (100.0%), 1761.74 column/sec. Elapsed time 21.64 sec\n",
      "EvaluatorHoldout: Ignoring 172 ( 0.5%) Users that have less than 1 test interactions\n",
      "EvaluatorHoldout: Processed 35564 (100.0%) in 35.93 sec. Users per second: 990\n"
     ]
    },
    {
     "name": "stderr",
     "output_type": "stream",
     "text": [
      "[I 2025-01-06 03:16:15,065] Trial 340 finished with value: 0.04974076839253654 and parameters: {'topK': 82, 'alpha': 0.7231106934845688, 'beta': 0.1374980704221589, 'normalize_similarity': True, 'implicit': True}. Best is trial 229 with value: 0.0549701405549974.\n"
     ]
    },
    {
     "name": "stdout",
     "output_type": "stream",
     "text": [
      "RP3betaRecommender: Similarity column 38121 (100.0%), 1098.26 column/sec. Elapsed time 34.71 sec\n",
      "EvaluatorHoldout: Ignoring 173 ( 0.5%) Users that have less than 1 test interactions\n",
      "EvaluatorHoldout: Processed 35563 (100.0%) in 41.73 sec. Users per second: 852\n",
      "RP3betaRecommender: Similarity column 38121 (100.0%), 1084.85 column/sec. Elapsed time 35.14 sec\n",
      "EvaluatorHoldout: Ignoring 163 ( 0.5%) Users that have less than 1 test interactions\n",
      "EvaluatorHoldout: Processed 35573 (100.0%) in 41.39 sec. Users per second: 859\n",
      "RP3betaRecommender: Similarity column 38121 (100.0%), 1070.69 column/sec. Elapsed time 35.60 sec\n",
      "EvaluatorHoldout: Ignoring 150 ( 0.4%) Users that have less than 1 test interactions\n",
      "EvaluatorHoldout: Processed 35586 (100.0%) in 42.17 sec. Users per second: 844\n",
      "RP3betaRecommender: Similarity column 38121 (100.0%), 1065.53 column/sec. Elapsed time 35.78 sec\n",
      "EvaluatorHoldout: Ignoring 167 ( 0.5%) Users that have less than 1 test interactions\n",
      "EvaluatorHoldout: Processed 35569 (100.0%) in 42.43 sec. Users per second: 838\n",
      "RP3betaRecommender: Similarity column 38121 (100.0%), 1093.69 column/sec. Elapsed time 34.86 sec\n",
      "EvaluatorHoldout: Ignoring 172 ( 0.5%) Users that have less than 1 test interactions\n",
      "EvaluatorHoldout: Processed 35564 (100.0%) in 41.29 sec. Users per second: 861\n"
     ]
    },
    {
     "name": "stderr",
     "output_type": "stream",
     "text": [
      "[I 2025-01-06 03:23:34,737] Trial 341 finished with value: 0.01237919615907396 and parameters: {'topK': 316, 'alpha': 0.35319177457462725, 'beta': 2.0168834346569504, 'normalize_similarity': True, 'implicit': True}. Best is trial 229 with value: 0.0549701405549974.\n"
     ]
    },
    {
     "name": "stdout",
     "output_type": "stream",
     "text": [
      "RP3betaRecommender: Similarity column 38121 (100.0%), 1924.34 column/sec. Elapsed time 19.81 sec\n",
      "EvaluatorHoldout: Ignoring 173 ( 0.5%) Users that have less than 1 test interactions\n",
      "EvaluatorHoldout: Processed 35563 (100.0%) in 34.06 sec. Users per second: 1044\n",
      "RP3betaRecommender: Similarity column 38121 (100.0%), 1915.93 column/sec. Elapsed time 19.90 sec\n",
      "EvaluatorHoldout: Ignoring 163 ( 0.5%) Users that have less than 1 test interactions\n",
      "EvaluatorHoldout: Processed 35573 (100.0%) in 34.51 sec. Users per second: 1031\n",
      "RP3betaRecommender: Similarity column 38121 (100.0%), 1885.79 column/sec. Elapsed time 20.21 sec\n",
      "EvaluatorHoldout: Ignoring 150 ( 0.4%) Users that have less than 1 test interactions\n",
      "EvaluatorHoldout: Processed 35586 (100.0%) in 34.21 sec. Users per second: 1040\n",
      "RP3betaRecommender: Similarity column 38121 (100.0%), 1926.38 column/sec. Elapsed time 19.79 sec\n",
      "EvaluatorHoldout: Ignoring 167 ( 0.5%) Users that have less than 1 test interactions\n",
      "EvaluatorHoldout: Processed 35569 (100.0%) in 33.96 sec. Users per second: 1047\n",
      "RP3betaRecommender: Similarity column 38121 (100.0%), 1901.48 column/sec. Elapsed time 20.05 sec\n",
      "EvaluatorHoldout: Ignoring 172 ( 0.5%) Users that have less than 1 test interactions\n",
      "EvaluatorHoldout: Processed 35564 (100.0%) in 34.26 sec. Users per second: 1038\n"
     ]
    },
    {
     "name": "stderr",
     "output_type": "stream",
     "text": [
      "[I 2025-01-06 03:28:15,556] Trial 342 finished with value: 0.017304647456378504 and parameters: {'topK': 51, 'alpha': 0.46021571956658913, 'beta': 1.7176835200585039, 'normalize_similarity': True, 'implicit': True}. Best is trial 229 with value: 0.0549701405549974.\n"
     ]
    },
    {
     "name": "stdout",
     "output_type": "stream",
     "text": [
      "RP3betaRecommender: Similarity column 38121 (100.0%), 2048.05 column/sec. Elapsed time 18.61 sec\n",
      "EvaluatorHoldout: Ignoring 173 ( 0.5%) Users that have less than 1 test interactions\n",
      "EvaluatorHoldout: Processed 35563 (100.0%) in 33.87 sec. Users per second: 1050\n",
      "RP3betaRecommender: Similarity column 38121 (100.0%), 2017.48 column/sec. Elapsed time 18.90 sec\n",
      "EvaluatorHoldout: Ignoring 163 ( 0.5%) Users that have less than 1 test interactions\n",
      "EvaluatorHoldout: Processed 35573 (100.0%) in 34.07 sec. Users per second: 1044\n",
      "RP3betaRecommender: Similarity column 38121 (100.0%), 1986.16 column/sec. Elapsed time 19.19 sec\n",
      "EvaluatorHoldout: Ignoring 150 ( 0.4%) Users that have less than 1 test interactions\n",
      "EvaluatorHoldout: Processed 35586 (100.0%) in 34.40 sec. Users per second: 1034\n",
      "RP3betaRecommender: Similarity column 38121 (100.0%), 1969.99 column/sec. Elapsed time 19.35 sec\n",
      "EvaluatorHoldout: Ignoring 167 ( 0.5%) Users that have less than 1 test interactions\n",
      "EvaluatorHoldout: Processed 35569 (100.0%) in 35.67 sec. Users per second: 997\n",
      "RP3betaRecommender: Similarity column 38121 (100.0%), 1990.00 column/sec. Elapsed time 19.16 sec\n",
      "EvaluatorHoldout: Ignoring 172 ( 0.5%) Users that have less than 1 test interactions\n",
      "EvaluatorHoldout: Processed 35564 (100.0%) in 34.93 sec. Users per second: 1018\n"
     ]
    },
    {
     "name": "stderr",
     "output_type": "stream",
     "text": [
      "[I 2025-01-06 03:32:53,041] Trial 343 finished with value: 0.05404672422712283 and parameters: {'topK': 27, 'alpha': 0.6079074059993086, 'beta': 0.26697715261945765, 'normalize_similarity': True, 'implicit': True}. Best is trial 229 with value: 0.0549701405549974.\n"
     ]
    },
    {
     "name": "stdout",
     "output_type": "stream",
     "text": [
      "RP3betaRecommender: Similarity column 38121 (100.0%), 1663.32 column/sec. Elapsed time 22.92 sec\n",
      "EvaluatorHoldout: Ignoring 173 ( 0.5%) Users that have less than 1 test interactions\n",
      "EvaluatorHoldout: Processed 35563 (100.0%) in 32.82 sec. Users per second: 1084\n",
      "RP3betaRecommender: Similarity column 38121 (100.0%), 1679.93 column/sec. Elapsed time 22.69 sec\n",
      "EvaluatorHoldout: Ignoring 163 ( 0.5%) Users that have less than 1 test interactions\n",
      "EvaluatorHoldout: Processed 35573 (100.0%) in 34.43 sec. Users per second: 1033\n",
      "RP3betaRecommender: Similarity column 38121 (100.0%), 1657.35 column/sec. Elapsed time 23.00 sec\n",
      "EvaluatorHoldout: Ignoring 150 ( 0.4%) Users that have less than 1 test interactions\n",
      "EvaluatorHoldout: Processed 35586 (100.0%) in 32.83 sec. Users per second: 1084\n",
      "RP3betaRecommender: Similarity column 38121 (100.0%), 1703.09 column/sec. Elapsed time 22.38 sec\n",
      "EvaluatorHoldout: Ignoring 167 ( 0.5%) Users that have less than 1 test interactions\n",
      "EvaluatorHoldout: Processed 35569 (100.0%) in 31.81 sec. Users per second: 1118\n",
      "RP3betaRecommender: Similarity column 38121 (100.0%), 1714.91 column/sec. Elapsed time 22.23 sec\n",
      "EvaluatorHoldout: Ignoring 172 ( 0.5%) Users that have less than 1 test interactions\n",
      "EvaluatorHoldout: Processed 35564 (100.0%) in 32.27 sec. Users per second: 1102\n"
     ]
    },
    {
     "name": "stderr",
     "output_type": "stream",
     "text": [
      "[I 2025-01-06 03:37:50,137] Trial 344 finished with value: 0.04878509177094852 and parameters: {'topK': 96, 'alpha': 0.5223302912245804, 'beta': 0.06701595266544948, 'normalize_similarity': True, 'implicit': True}. Best is trial 229 with value: 0.0549701405549974.\n"
     ]
    },
    {
     "name": "stdout",
     "output_type": "stream",
     "text": [
      "RP3betaRecommender: Similarity column 38121 (100.0%), 1922.10 column/sec. Elapsed time 19.83 sec\n",
      "EvaluatorHoldout: Ignoring 173 ( 0.5%) Users that have less than 1 test interactions\n",
      "EvaluatorHoldout: Processed 35563 (100.0%) in 34.44 sec. Users per second: 1033\n",
      "RP3betaRecommender: Similarity column 38121 (100.0%), 1904.93 column/sec. Elapsed time 20.01 sec\n",
      "EvaluatorHoldout: Ignoring 163 ( 0.5%) Users that have less than 1 test interactions\n",
      "EvaluatorHoldout: Processed 35573 (100.0%) in 34.90 sec. Users per second: 1019\n",
      "RP3betaRecommender: Similarity column 38121 (100.0%), 1912.99 column/sec. Elapsed time 19.93 sec\n",
      "EvaluatorHoldout: Ignoring 150 ( 0.4%) Users that have less than 1 test interactions\n",
      "EvaluatorHoldout: Processed 35586 (100.0%) in 34.35 sec. Users per second: 1036\n",
      "RP3betaRecommender: Similarity column 38121 (100.0%), 1910.17 column/sec. Elapsed time 19.96 sec\n",
      "EvaluatorHoldout: Ignoring 167 ( 0.5%) Users that have less than 1 test interactions\n",
      "EvaluatorHoldout: Processed 35569 (100.0%) in 34.36 sec. Users per second: 1035\n",
      "RP3betaRecommender: Similarity column 38121 (100.0%), 1927.28 column/sec. Elapsed time 19.78 sec\n",
      "EvaluatorHoldout: Ignoring 172 ( 0.5%) Users that have less than 1 test interactions\n",
      "EvaluatorHoldout: Processed 35564 (100.0%) in 34.55 sec. Users per second: 1029\n"
     ]
    },
    {
     "name": "stderr",
     "output_type": "stream",
     "text": [
      "[I 2025-01-06 03:42:34,872] Trial 345 finished with value: 0.05270604502709993 and parameters: {'topK': 50, 'alpha': 0.4281568415450417, 'beta': 0.2115570256231693, 'normalize_similarity': True, 'implicit': True}. Best is trial 229 with value: 0.0549701405549974.\n"
     ]
    },
    {
     "name": "stdout",
     "output_type": "stream",
     "text": [
      "RP3betaRecommender: Similarity column 38121 (100.0%), 1841.85 column/sec. Elapsed time 20.70 sec\n",
      "EvaluatorHoldout: Ignoring 173 ( 0.5%) Users that have less than 1 test interactions\n",
      "EvaluatorHoldout: Processed 35563 (100.0%) in 35.83 sec. Users per second: 993\n",
      "RP3betaRecommender: Similarity column 38121 (100.0%), 1819.85 column/sec. Elapsed time 20.95 sec\n",
      "EvaluatorHoldout: Ignoring 163 ( 0.5%) Users that have less than 1 test interactions\n",
      "EvaluatorHoldout: Processed 35573 (100.0%) in 35.94 sec. Users per second: 990\n",
      "RP3betaRecommender: Similarity column 38121 (100.0%), 1820.23 column/sec. Elapsed time 20.94 sec\n",
      "EvaluatorHoldout: Ignoring 150 ( 0.4%) Users that have less than 1 test interactions\n",
      "EvaluatorHoldout: Processed 35586 (100.0%) in 36.04 sec. Users per second: 987\n",
      "RP3betaRecommender: Similarity column 38121 (100.0%), 1818.39 column/sec. Elapsed time 20.96 sec\n",
      "EvaluatorHoldout: Ignoring 167 ( 0.5%) Users that have less than 1 test interactions\n",
      "EvaluatorHoldout: Processed 35569 (100.0%) in 35.86 sec. Users per second: 992\n",
      "RP3betaRecommender: Similarity column 38121 (100.0%), 1758.53 column/sec. Elapsed time 21.68 sec\n",
      "EvaluatorHoldout: Ignoring 172 ( 0.5%) Users that have less than 1 test interactions\n",
      "EvaluatorHoldout: Processed 35564 (100.0%) in 36.31 sec. Users per second: 979\n"
     ]
    },
    {
     "name": "stderr",
     "output_type": "stream",
     "text": [
      "[I 2025-01-06 03:47:37,433] Trial 346 finished with value: 0.05140789716359186 and parameters: {'topK': 70, 'alpha': 0.27103540857044617, 'beta': 0.3333704906426158, 'normalize_similarity': True, 'implicit': True}. Best is trial 229 with value: 0.0549701405549974.\n"
     ]
    },
    {
     "name": "stdout",
     "output_type": "stream",
     "text": [
      "RP3betaRecommender: Similarity column 38121 (100.0%), 1993.36 column/sec. Elapsed time 19.12 sec\n",
      "EvaluatorHoldout: Ignoring 173 ( 0.5%) Users that have less than 1 test interactions\n",
      "EvaluatorHoldout: Processed 35563 (100.0%) in 32.84 sec. Users per second: 1083\n",
      "RP3betaRecommender: Similarity column 38121 (100.0%), 2024.12 column/sec. Elapsed time 18.83 sec\n",
      "EvaluatorHoldout: Ignoring 163 ( 0.5%) Users that have less than 1 test interactions\n",
      "EvaluatorHoldout: Processed 35573 (100.0%) in 33.03 sec. Users per second: 1077\n",
      "RP3betaRecommender: Similarity column 38121 (100.0%), 2103.64 column/sec. Elapsed time 18.12 sec\n",
      "EvaluatorHoldout: Ignoring 150 ( 0.4%) Users that have less than 1 test interactions\n",
      "EvaluatorHoldout: Processed 35586 (100.0%) in 32.87 sec. Users per second: 1083\n",
      "RP3betaRecommender: Similarity column 38121 (100.0%), 2122.75 column/sec. Elapsed time 17.96 sec\n",
      "EvaluatorHoldout: Ignoring 167 ( 0.5%) Users that have less than 1 test interactions\n",
      "EvaluatorHoldout: Processed 35569 (100.0%) in 32.77 sec. Users per second: 1086\n",
      "RP3betaRecommender: Similarity column 38121 (100.0%), 2118.79 column/sec. Elapsed time 17.99 sec\n",
      "EvaluatorHoldout: Ignoring 172 ( 0.5%) Users that have less than 1 test interactions\n",
      "EvaluatorHoldout: Processed 35564 (100.0%) in 32.65 sec. Users per second: 1089\n"
     ]
    },
    {
     "name": "stderr",
     "output_type": "stream",
     "text": [
      "[I 2025-01-06 03:52:01,100] Trial 347 finished with value: 0.05459058936401172 and parameters: {'topK': 22, 'alpha': 0.558589661895446, 'beta': 0.1670017827975364, 'normalize_similarity': True, 'implicit': True}. Best is trial 229 with value: 0.0549701405549974.\n"
     ]
    },
    {
     "name": "stdout",
     "output_type": "stream",
     "text": [
      "RP3betaRecommender: Similarity column 38121 (100.0%), 2811.17 column/sec. Elapsed time 13.56 sec\n",
      "EvaluatorHoldout: Ignoring 173 ( 0.5%) Users that have less than 1 test interactions\n",
      "EvaluatorHoldout: Processed 35563 (100.0%) in 27.48 sec. Users per second: 1294\n",
      "RP3betaRecommender: Similarity column 38121 (100.0%), 2832.46 column/sec. Elapsed time 13.46 sec\n",
      "EvaluatorHoldout: Ignoring 163 ( 0.5%) Users that have less than 1 test interactions\n",
      "EvaluatorHoldout: Processed 35573 (100.0%) in 27.66 sec. Users per second: 1286\n",
      "RP3betaRecommender: Similarity column 38121 (100.0%), 2838.11 column/sec. Elapsed time 13.43 sec\n",
      "EvaluatorHoldout: Ignoring 150 ( 0.4%) Users that have less than 1 test interactions\n",
      "EvaluatorHoldout: Processed 35586 (100.0%) in 27.64 sec. Users per second: 1287\n",
      "RP3betaRecommender: Similarity column 38121 (100.0%), 2850.50 column/sec. Elapsed time 13.37 sec\n",
      "EvaluatorHoldout: Ignoring 167 ( 0.5%) Users that have less than 1 test interactions\n",
      "EvaluatorHoldout: Processed 35569 (100.0%) in 27.55 sec. Users per second: 1291\n",
      "RP3betaRecommender: Similarity column 38121 (100.0%), 2842.92 column/sec. Elapsed time 13.41 sec\n",
      "EvaluatorHoldout: Ignoring 172 ( 0.5%) Users that have less than 1 test interactions\n",
      "EvaluatorHoldout: Processed 35564 (100.0%) in 27.48 sec. Users per second: 1294\n"
     ]
    },
    {
     "name": "stderr",
     "output_type": "stream",
     "text": [
      "[I 2025-01-06 03:55:30,046] Trial 348 finished with value: 0.01936535468689161 and parameters: {'topK': 1, 'alpha': 0.4858665612107172, 'beta': 0.15532021619946895, 'normalize_similarity': True, 'implicit': True}. Best is trial 229 with value: 0.0549701405549974.\n"
     ]
    },
    {
     "name": "stdout",
     "output_type": "stream",
     "text": [
      "RP3betaRecommender: Similarity column 38121 (100.0%), 2087.80 column/sec. Elapsed time 18.26 sec\n",
      "EvaluatorHoldout: Ignoring 173 ( 0.5%) Users that have less than 1 test interactions\n",
      "EvaluatorHoldout: Processed 35563 (100.0%) in 32.84 sec. Users per second: 1083\n",
      "RP3betaRecommender: Similarity column 38121 (100.0%), 2052.57 column/sec. Elapsed time 18.57 sec\n",
      "EvaluatorHoldout: Ignoring 163 ( 0.5%) Users that have less than 1 test interactions\n",
      "EvaluatorHoldout: Processed 35573 (100.0%) in 33.10 sec. Users per second: 1075\n",
      "RP3betaRecommender: Similarity column 38121 (100.0%), 2073.04 column/sec. Elapsed time 18.39 sec\n",
      "EvaluatorHoldout: Ignoring 150 ( 0.4%) Users that have less than 1 test interactions\n",
      "EvaluatorHoldout: Processed 35586 (100.0%) in 33.13 sec. Users per second: 1074\n",
      "RP3betaRecommender: Similarity column 38121 (100.0%), 2082.99 column/sec. Elapsed time 18.30 sec\n",
      "EvaluatorHoldout: Ignoring 167 ( 0.5%) Users that have less than 1 test interactions\n",
      "EvaluatorHoldout: Processed 35569 (100.0%) in 32.77 sec. Users per second: 1085\n",
      "RP3betaRecommender: Similarity column 38121 (100.0%), 2040.97 column/sec. Elapsed time 18.68 sec\n",
      "EvaluatorHoldout: Ignoring 172 ( 0.5%) Users that have less than 1 test interactions\n",
      "EvaluatorHoldout: Processed 35564 (100.0%) in 32.89 sec. Users per second: 1081\n"
     ]
    },
    {
     "name": "stderr",
     "output_type": "stream",
     "text": [
      "[I 2025-01-06 03:59:54,785] Trial 349 finished with value: 0.05372113902243399 and parameters: {'topK': 25, 'alpha': 0.6601103040428374, 'beta': 0.09988389194449665, 'normalize_similarity': True, 'implicit': True}. Best is trial 229 with value: 0.0549701405549974.\n"
     ]
    },
    {
     "name": "stdout",
     "output_type": "stream",
     "text": [
      "RP3betaRecommender: Similarity column 38121 (100.0%), 1882.96 column/sec. Elapsed time 20.25 sec\n",
      "EvaluatorHoldout: Ignoring 173 ( 0.5%) Users that have less than 1 test interactions\n",
      "EvaluatorHoldout: Processed 35563 (100.0%) in 35.04 sec. Users per second: 1015\n",
      "RP3betaRecommender: Similarity column 38121 (100.0%), 1888.81 column/sec. Elapsed time 20.18 sec\n",
      "EvaluatorHoldout: Ignoring 163 ( 0.5%) Users that have less than 1 test interactions\n",
      "EvaluatorHoldout: Processed 35573 (100.0%) in 34.25 sec. Users per second: 1039\n",
      "RP3betaRecommender: Similarity column 38121 (100.0%), 1935.84 column/sec. Elapsed time 19.69 sec\n",
      "EvaluatorHoldout: Ignoring 150 ( 0.4%) Users that have less than 1 test interactions\n",
      "EvaluatorHoldout: Processed 35586 (100.0%) in 34.18 sec. Users per second: 1041\n",
      "RP3betaRecommender: Similarity column 38121 (100.0%), 1921.18 column/sec. Elapsed time 19.84 sec\n",
      "EvaluatorHoldout: Ignoring 167 ( 0.5%) Users that have less than 1 test interactions\n",
      "EvaluatorHoldout: Processed 35569 (100.0%) in 34.27 sec. Users per second: 1038\n",
      "RP3betaRecommender: Similarity column 38121 (100.0%), 1915.39 column/sec. Elapsed time 19.90 sec\n",
      "EvaluatorHoldout: Ignoring 172 ( 0.5%) Users that have less than 1 test interactions\n",
      "EvaluatorHoldout: Processed 35564 (100.0%) in 34.02 sec. Users per second: 1045\n"
     ]
    },
    {
     "name": "stderr",
     "output_type": "stream",
     "text": [
      "[I 2025-01-06 04:04:37,743] Trial 350 finished with value: 0.05133610674006137 and parameters: {'topK': 50, 'alpha': 0.5448515119770854, 'beta': 0.04129791405226749, 'normalize_similarity': True, 'implicit': True}. Best is trial 229 with value: 0.0549701405549974.\n"
     ]
    },
    {
     "name": "stdout",
     "output_type": "stream",
     "text": [
      "RP3betaRecommender: Similarity column 38121 (100.0%), 1668.60 column/sec. Elapsed time 22.85 sec\n",
      "EvaluatorHoldout: Ignoring 173 ( 0.5%) Users that have less than 1 test interactions\n",
      "EvaluatorHoldout: Processed 35563 (100.0%) in 36.89 sec. Users per second: 964\n",
      "RP3betaRecommender: Similarity column 38121 (100.0%), 1570.38 column/sec. Elapsed time 24.28 sec\n",
      "EvaluatorHoldout: Ignoring 163 ( 0.5%) Users that have less than 1 test interactions\n",
      "EvaluatorHoldout: Processed 35573 (100.0%) in 36.89 sec. Users per second: 964\n",
      "RP3betaRecommender: Similarity column 38121 (100.0%), 1667.30 column/sec. Elapsed time 22.86 sec\n",
      "EvaluatorHoldout: Ignoring 150 ( 0.4%) Users that have less than 1 test interactions\n",
      "EvaluatorHoldout: Processed 35586 (100.0%) in 37.00 sec. Users per second: 962\n",
      "RP3betaRecommender: Similarity column 38121 (100.0%), 1647.74 column/sec. Elapsed time 23.14 sec\n",
      "EvaluatorHoldout: Ignoring 167 ( 0.5%) Users that have less than 1 test interactions\n",
      "EvaluatorHoldout: Processed 35569 (100.0%) in 37.85 sec. Users per second: 940\n",
      "RP3betaRecommender: Similarity column 38121 (100.0%), 1582.16 column/sec. Elapsed time 24.09 sec\n",
      "EvaluatorHoldout: Ignoring 172 ( 0.5%) Users that have less than 1 test interactions\n",
      "EvaluatorHoldout: Processed 35564 (100.0%) in 39.04 sec. Users per second: 911\n"
     ]
    },
    {
     "name": "stderr",
     "output_type": "stream",
     "text": [
      "[I 2025-01-06 04:10:05,625] Trial 351 finished with value: 0.04953534708708972 and parameters: {'topK': 107, 'alpha': 0.38575617636144655, 'beta': 0.17866160229523992, 'normalize_similarity': True, 'implicit': True}. Best is trial 229 with value: 0.0549701405549974.\n"
     ]
    },
    {
     "name": "stdout",
     "output_type": "stream",
     "text": [
      "RP3betaRecommender: Similarity column 38121 (100.0%), 1719.90 column/sec. Elapsed time 22.16 sec\n",
      "EvaluatorHoldout: Ignoring 173 ( 0.5%) Users that have less than 1 test interactions\n",
      "EvaluatorHoldout: Processed 35563 (100.0%) in 38.24 sec. Users per second: 930\n",
      "RP3betaRecommender: Similarity column 38121 (100.0%), 1787.52 column/sec. Elapsed time 21.33 sec\n",
      "EvaluatorHoldout: Ignoring 163 ( 0.5%) Users that have less than 1 test interactions\n",
      "EvaluatorHoldout: Processed 35573 (100.0%) in 37.34 sec. Users per second: 953\n",
      "RP3betaRecommender: Similarity column 38121 (100.0%), 1740.75 column/sec. Elapsed time 21.90 sec\n",
      "EvaluatorHoldout: Ignoring 150 ( 0.4%) Users that have less than 1 test interactions\n",
      "EvaluatorHoldout: Processed 35586 (100.0%) in 37.12 sec. Users per second: 959\n",
      "RP3betaRecommender: Similarity column 38121 (100.0%), 1754.94 column/sec. Elapsed time 21.72 sec\n",
      "EvaluatorHoldout: Ignoring 167 ( 0.5%) Users that have less than 1 test interactions\n",
      "EvaluatorHoldout: Processed 35569 (100.0%) in 37.04 sec. Users per second: 960\n",
      "RP3betaRecommender: Similarity column 38121 (100.0%), 1684.45 column/sec. Elapsed time 22.63 sec\n",
      "EvaluatorHoldout: Ignoring 172 ( 0.5%) Users that have less than 1 test interactions\n",
      "EvaluatorHoldout: Processed 35564 (100.0%) in 37.13 sec. Users per second: 958\n"
     ]
    },
    {
     "name": "stderr",
     "output_type": "stream",
     "text": [
      "[I 2025-01-06 04:15:20,822] Trial 352 finished with value: 0.051387833069787746 and parameters: {'topK': 76, 'alpha': 0.47016875144228276, 'beta': 0.2517302497716414, 'normalize_similarity': True, 'implicit': True}. Best is trial 229 with value: 0.0549701405549974.\n"
     ]
    },
    {
     "name": "stdout",
     "output_type": "stream",
     "text": [
      "RP3betaRecommender: Similarity column 38121 (100.0%), 1428.73 column/sec. Elapsed time 26.68 sec\n",
      "EvaluatorHoldout: Ignoring 173 ( 0.5%) Users that have less than 1 test interactions\n",
      "EvaluatorHoldout: Processed 35563 (100.0%) in 39.11 sec. Users per second: 909\n",
      "RP3betaRecommender: Similarity column 38121 (100.0%), 1431.38 column/sec. Elapsed time 26.63 sec\n",
      "EvaluatorHoldout: Ignoring 163 ( 0.5%) Users that have less than 1 test interactions\n",
      "EvaluatorHoldout: Processed 35573 (100.0%) in 39.25 sec. Users per second: 906\n",
      "RP3betaRecommender: Similarity column 38121 (100.0%), 1422.05 column/sec. Elapsed time 26.81 sec\n",
      "EvaluatorHoldout: Ignoring 150 ( 0.4%) Users that have less than 1 test interactions\n",
      "EvaluatorHoldout: Processed 35586 (100.0%) in 39.18 sec. Users per second: 908\n",
      "RP3betaRecommender: Similarity column 38121 (100.0%), 1454.25 column/sec. Elapsed time 26.21 sec\n",
      "EvaluatorHoldout: Ignoring 167 ( 0.5%) Users that have less than 1 test interactions\n",
      "EvaluatorHoldout: Processed 35569 (100.0%) in 39.30 sec. Users per second: 905\n",
      "RP3betaRecommender: Similarity column 38121 (100.0%), 1452.31 column/sec. Elapsed time 26.25 sec\n",
      "EvaluatorHoldout: Ignoring 172 ( 0.5%) Users that have less than 1 test interactions\n",
      "EvaluatorHoldout: Processed 35564 (100.0%) in 39.21 sec. Users per second: 907\n"
     ]
    },
    {
     "name": "stderr",
     "output_type": "stream",
     "text": [
      "[I 2025-01-06 04:21:23,673] Trial 353 finished with value: 0.04685575478768903 and parameters: {'topK': 163, 'alpha': 0.5958859877862255, 'beta': 0.14621790640816099, 'normalize_similarity': True, 'implicit': True}. Best is trial 229 with value: 0.0549701405549974.\n"
     ]
    },
    {
     "name": "stdout",
     "output_type": "stream",
     "text": [
      "RP3betaRecommender: Similarity column 38121 (100.0%), 2834.15 column/sec. Elapsed time 13.45 sec\n",
      "EvaluatorHoldout: Ignoring 173 ( 0.5%) Users that have less than 1 test interactions\n",
      "EvaluatorHoldout: Processed 35563 (100.0%) in 25.60 sec. Users per second: 1389\n",
      "RP3betaRecommender: Similarity column 38121 (100.0%), 2783.70 column/sec. Elapsed time 13.69 sec\n",
      "EvaluatorHoldout: Ignoring 163 ( 0.5%) Users that have less than 1 test interactions\n",
      "EvaluatorHoldout: Processed 35573 (100.0%) in 25.44 sec. Users per second: 1398\n",
      "RP3betaRecommender: Similarity column 38121 (100.0%), 2825.35 column/sec. Elapsed time 13.49 sec\n",
      "EvaluatorHoldout: Ignoring 150 ( 0.4%) Users that have less than 1 test interactions\n",
      "EvaluatorHoldout: Processed 35586 (100.0%) in 25.77 sec. Users per second: 1381\n",
      "RP3betaRecommender: Similarity column 38121 (100.0%), 2816.63 column/sec. Elapsed time 13.53 sec\n",
      "EvaluatorHoldout: Ignoring 167 ( 0.5%) Users that have less than 1 test interactions\n",
      "EvaluatorHoldout: Processed 35569 (100.0%) in 25.76 sec. Users per second: 1381\n",
      "RP3betaRecommender: Similarity column 38121 (100.0%), 2851.29 column/sec. Elapsed time 13.37 sec\n",
      "EvaluatorHoldout: Ignoring 172 ( 0.5%) Users that have less than 1 test interactions\n",
      "EvaluatorHoldout: Processed 35564 (100.0%) in 26.08 sec. Users per second: 1363\n"
     ]
    },
    {
     "name": "stderr",
     "output_type": "stream",
     "text": [
      "[I 2025-01-06 04:24:41,024] Trial 354 finished with value: 0.0002664826418719655 and parameters: {'topK': 0, 'alpha': 0.7210993853425492, 'beta': 0.22028622167901923, 'normalize_similarity': True, 'implicit': True}. Best is trial 229 with value: 0.0549701405549974.\n"
     ]
    },
    {
     "name": "stdout",
     "output_type": "stream",
     "text": [
      "RP3betaRecommender: Similarity column 38121 (100.0%), 2049.08 column/sec. Elapsed time 18.60 sec\n",
      "EvaluatorHoldout: Ignoring 173 ( 0.5%) Users that have less than 1 test interactions\n",
      "EvaluatorHoldout: Processed 35563 (100.0%) in 33.04 sec. Users per second: 1076\n",
      "RP3betaRecommender: Similarity column 38121 (100.0%), 2045.38 column/sec. Elapsed time 18.64 sec\n",
      "EvaluatorHoldout: Ignoring 163 ( 0.5%) Users that have less than 1 test interactions\n",
      "EvaluatorHoldout: Processed 35573 (100.0%) in 33.36 sec. Users per second: 1066\n",
      "RP3betaRecommender: Similarity column 38121 (100.0%), 2027.91 column/sec. Elapsed time 18.80 sec\n",
      "EvaluatorHoldout: Ignoring 150 ( 0.4%) Users that have less than 1 test interactions\n",
      "EvaluatorHoldout: Processed 35586 (100.0%) in 33.12 sec. Users per second: 1075\n",
      "RP3betaRecommender: Similarity column 38121 (100.0%), 2041.60 column/sec. Elapsed time 18.67 sec\n",
      "EvaluatorHoldout: Ignoring 167 ( 0.5%) Users that have less than 1 test interactions\n",
      "EvaluatorHoldout: Processed 35569 (100.0%) in 33.03 sec. Users per second: 1077\n",
      "RP3betaRecommender: Similarity column 38121 (100.0%), 2029.18 column/sec. Elapsed time 18.79 sec\n",
      "EvaluatorHoldout: Ignoring 172 ( 0.5%) Users that have less than 1 test interactions\n",
      "EvaluatorHoldout: Processed 35564 (100.0%) in 32.78 sec. Users per second: 1085\n"
     ]
    },
    {
     "name": "stderr",
     "output_type": "stream",
     "text": [
      "[I 2025-01-06 04:29:08,053] Trial 355 finished with value: 0.05363329867170955 and parameters: {'topK': 30, 'alpha': 0.326121265909096, 'beta': 0.09829288154429855, 'normalize_similarity': True, 'implicit': True}. Best is trial 229 with value: 0.0549701405549974.\n"
     ]
    },
    {
     "name": "stdout",
     "output_type": "stream",
     "text": [
      "RP3betaRecommender: Similarity column 38121 (100.0%), 1943.00 column/sec. Elapsed time 19.62 sec\n",
      "EvaluatorHoldout: Ignoring 173 ( 0.5%) Users that have less than 1 test interactions\n",
      "EvaluatorHoldout: Processed 35563 (100.0%) in 33.27 sec. Users per second: 1069\n",
      "RP3betaRecommender: Similarity column 38121 (100.0%), 1940.27 column/sec. Elapsed time 19.65 sec\n",
      "EvaluatorHoldout: Ignoring 163 ( 0.5%) Users that have less than 1 test interactions\n",
      "EvaluatorHoldout: Processed 35573 (100.0%) in 33.01 sec. Users per second: 1078\n",
      "RP3betaRecommender: Similarity column 38121 (100.0%), 1915.97 column/sec. Elapsed time 19.90 sec\n",
      "EvaluatorHoldout: Ignoring 150 ( 0.4%) Users that have less than 1 test interactions\n",
      "EvaluatorHoldout: Processed 35586 (100.0%) in 33.35 sec. Users per second: 1067\n",
      "RP3betaRecommender: Similarity column 38121 (100.0%), 1928.34 column/sec. Elapsed time 19.77 sec\n",
      "EvaluatorHoldout: Ignoring 167 ( 0.5%) Users that have less than 1 test interactions\n",
      "EvaluatorHoldout: Processed 35569 (100.0%) in 32.94 sec. Users per second: 1080\n",
      "RP3betaRecommender: Similarity column 38121 (100.0%), 1905.04 column/sec. Elapsed time 20.01 sec\n",
      "EvaluatorHoldout: Ignoring 172 ( 0.5%) Users that have less than 1 test interactions\n",
      "EvaluatorHoldout: Processed 35564 (100.0%) in 33.99 sec. Users per second: 1046\n"
     ]
    },
    {
     "name": "stderr",
     "output_type": "stream",
     "text": [
      "[I 2025-01-06 04:33:42,040] Trial 356 finished with value: 0.011954838874177686 and parameters: {'topK': 47, 'alpha': 0.5406634013438806, 'beta': 2.5810641685538798, 'normalize_similarity': True, 'implicit': True}. Best is trial 229 with value: 0.0549701405549974.\n"
     ]
    },
    {
     "name": "stdout",
     "output_type": "stream",
     "text": [
      "RP3betaRecommender: Similarity column 38121 (100.0%), 1735.71 column/sec. Elapsed time 21.96 sec\n",
      "EvaluatorHoldout: Ignoring 173 ( 0.5%) Users that have less than 1 test interactions\n",
      "EvaluatorHoldout: Processed 35563 (100.0%) in 36.78 sec. Users per second: 967\n",
      "RP3betaRecommender: Similarity column 38121 (100.0%), 1759.97 column/sec. Elapsed time 21.66 sec\n",
      "EvaluatorHoldout: Ignoring 163 ( 0.5%) Users that have less than 1 test interactions\n",
      "EvaluatorHoldout: Processed 35573 (100.0%) in 36.75 sec. Users per second: 968\n",
      "RP3betaRecommender: Similarity column 38121 (100.0%), 1765.31 column/sec. Elapsed time 21.59 sec\n",
      "EvaluatorHoldout: Ignoring 150 ( 0.4%) Users that have less than 1 test interactions\n",
      "EvaluatorHoldout: Processed 35586 (100.0%) in 36.59 sec. Users per second: 972\n",
      "RP3betaRecommender: Similarity column 38121 (100.0%), 1759.58 column/sec. Elapsed time 21.66 sec\n",
      "EvaluatorHoldout: Ignoring 167 ( 0.5%) Users that have less than 1 test interactions\n",
      "EvaluatorHoldout: Processed 35569 (100.0%) in 36.38 sec. Users per second: 978\n",
      "RP3betaRecommender: Similarity column 38121 (100.0%), 1785.98 column/sec. Elapsed time 21.34 sec\n",
      "EvaluatorHoldout: Ignoring 172 ( 0.5%) Users that have less than 1 test interactions\n",
      "EvaluatorHoldout: Processed 35564 (100.0%) in 36.15 sec. Users per second: 984\n"
     ]
    },
    {
     "name": "stderr",
     "output_type": "stream",
     "text": [
      "[I 2025-01-06 04:38:51,512] Trial 357 finished with value: 0.0513866756555618 and parameters: {'topK': 77, 'alpha': 0.4198498824187626, 'beta': 0.265523863426447, 'normalize_similarity': True, 'implicit': True}. Best is trial 229 with value: 0.0549701405549974.\n"
     ]
    },
    {
     "name": "stdout",
     "output_type": "stream",
     "text": [
      "RP3betaRecommender: Similarity column 38121 (100.0%), 2047.53 column/sec. Elapsed time 18.62 sec\n",
      "EvaluatorHoldout: Ignoring 173 ( 0.5%) Users that have less than 1 test interactions\n",
      "EvaluatorHoldout: Processed 35563 (100.0%) in 32.90 sec. Users per second: 1081\n",
      "RP3betaRecommender: Similarity column 38121 (100.0%), 1984.72 column/sec. Elapsed time 19.21 sec\n",
      "EvaluatorHoldout: Ignoring 163 ( 0.5%) Users that have less than 1 test interactions\n",
      "EvaluatorHoldout: Processed 35573 (100.0%) in 33.04 sec. Users per second: 1077\n",
      "RP3betaRecommender: Similarity column 38121 (100.0%), 1979.81 column/sec. Elapsed time 19.25 sec\n",
      "EvaluatorHoldout: Ignoring 150 ( 0.4%) Users that have less than 1 test interactions\n",
      "EvaluatorHoldout: Processed 35586 (100.0%) in 33.28 sec. Users per second: 1069\n",
      "RP3betaRecommender: Similarity column 38121 (100.0%), 1994.65 column/sec. Elapsed time 19.11 sec\n",
      "EvaluatorHoldout: Ignoring 167 ( 0.5%) Users that have less than 1 test interactions\n",
      "EvaluatorHoldout: Processed 35569 (100.0%) in 33.48 sec. Users per second: 1062\n",
      "RP3betaRecommender: Similarity column 38121 (100.0%), 2067.51 column/sec. Elapsed time 18.44 sec\n",
      "EvaluatorHoldout: Ignoring 172 ( 0.5%) Users that have less than 1 test interactions\n",
      "EvaluatorHoldout: Processed 35564 (100.0%) in 33.11 sec. Users per second: 1074\n"
     ]
    },
    {
     "name": "stderr",
     "output_type": "stream",
     "text": [
      "[I 2025-01-06 04:43:19,658] Trial 358 finished with value: 0.052849114496456094 and parameters: {'topK': 27, 'alpha': 0.6548465339841957, 'beta': 0.008133331894102619, 'normalize_similarity': True, 'implicit': True}. Best is trial 229 with value: 0.0549701405549974.\n"
     ]
    },
    {
     "name": "stdout",
     "output_type": "stream",
     "text": [
      "RP3betaRecommender: Similarity column 38121 (100.0%), 1921.60 column/sec. Elapsed time 19.84 sec\n",
      "EvaluatorHoldout: Ignoring 173 ( 0.5%) Users that have less than 1 test interactions\n",
      "EvaluatorHoldout: Processed 35563 (100.0%) in 35.01 sec. Users per second: 1016\n",
      "RP3betaRecommender: Similarity column 38121 (100.0%), 1898.65 column/sec. Elapsed time 20.08 sec\n",
      "EvaluatorHoldout: Ignoring 163 ( 0.5%) Users that have less than 1 test interactions\n",
      "EvaluatorHoldout: Processed 35573 (100.0%) in 35.50 sec. Users per second: 1002\n",
      "RP3betaRecommender: Similarity column 38121 (100.0%), 1857.14 column/sec. Elapsed time 20.53 sec\n",
      "EvaluatorHoldout: Ignoring 150 ( 0.4%) Users that have less than 1 test interactions\n",
      "EvaluatorHoldout: Processed 35586 (100.0%) in 35.27 sec. Users per second: 1009\n",
      "RP3betaRecommender: Similarity column 38121 (100.0%), 1864.27 column/sec. Elapsed time 20.45 sec\n",
      "EvaluatorHoldout: Ignoring 167 ( 0.5%) Users that have less than 1 test interactions\n",
      "EvaluatorHoldout: Processed 35569 (100.0%) in 35.46 sec. Users per second: 1003\n",
      "RP3betaRecommender: Similarity column 38121 (100.0%), 1782.87 column/sec. Elapsed time 21.38 sec\n",
      "EvaluatorHoldout: Ignoring 172 ( 0.5%) Users that have less than 1 test interactions\n",
      "EvaluatorHoldout: Processed 35564 (100.0%) in 36.08 sec. Users per second: 986\n"
     ]
    },
    {
     "name": "stderr",
     "output_type": "stream",
     "text": [
      "[I 2025-01-06 04:48:12,347] Trial 359 finished with value: 0.05253234167497152 and parameters: {'topK': 51, 'alpha': 0.4978417513752772, 'beta': 0.19408214830355885, 'normalize_similarity': True, 'implicit': True}. Best is trial 229 with value: 0.0549701405549974.\n"
     ]
    },
    {
     "name": "stdout",
     "output_type": "stream",
     "text": [
      "RP3betaRecommender: Similarity column 38121 (100.0%), 2027.19 column/sec. Elapsed time 18.80 sec\n",
      "EvaluatorHoldout: Ignoring 173 ( 0.5%) Users that have less than 1 test interactions\n",
      "EvaluatorHoldout: Processed 35563 (100.0%) in 33.81 sec. Users per second: 1052\n",
      "RP3betaRecommender: Similarity column 38121 (100.0%), 2034.52 column/sec. Elapsed time 18.74 sec\n",
      "EvaluatorHoldout: Ignoring 163 ( 0.5%) Users that have less than 1 test interactions\n",
      "EvaluatorHoldout: Processed 35573 (100.0%) in 33.62 sec. Users per second: 1058\n",
      "RP3betaRecommender: Similarity column 38121 (100.0%), 1990.29 column/sec. Elapsed time 19.15 sec\n",
      "EvaluatorHoldout: Ignoring 150 ( 0.4%) Users that have less than 1 test interactions\n",
      "EvaluatorHoldout: Processed 35586 (100.0%) in 33.70 sec. Users per second: 1056\n",
      "RP3betaRecommender: Similarity column 38121 (100.0%), 2015.14 column/sec. Elapsed time 18.92 sec\n",
      "EvaluatorHoldout: Ignoring 167 ( 0.5%) Users that have less than 1 test interactions\n",
      "EvaluatorHoldout: Processed 35569 (100.0%) in 34.52 sec. Users per second: 1030\n",
      "RP3betaRecommender: Similarity column 38121 (100.0%), 2010.70 column/sec. Elapsed time 18.96 sec\n",
      "EvaluatorHoldout: Ignoring 172 ( 0.5%) Users that have less than 1 test interactions\n",
      "EvaluatorHoldout: Processed 35564 (100.0%) in 33.35 sec. Users per second: 1066\n"
     ]
    },
    {
     "name": "stderr",
     "output_type": "stream",
     "text": [
      "[I 2025-01-06 04:52:43,992] Trial 360 finished with value: 0.05423972785102097 and parameters: {'topK': 24, 'alpha': 0.5846055488949324, 'beta': 0.13608429059039, 'normalize_similarity': True, 'implicit': True}. Best is trial 229 with value: 0.0549701405549974.\n"
     ]
    },
    {
     "name": "stdout",
     "output_type": "stream",
     "text": [
      "RP3betaRecommender: Similarity column 38121 (100.0%), 2772.50 column/sec. Elapsed time 13.75 sec\n",
      "EvaluatorHoldout: Ignoring 173 ( 0.5%) Users that have less than 1 test interactions\n",
      "EvaluatorHoldout: Processed 35563 (100.0%) in 26.34 sec. Users per second: 1350\n",
      "RP3betaRecommender: Similarity column 38121 (100.0%), 2782.20 column/sec. Elapsed time 13.70 sec\n",
      "EvaluatorHoldout: Ignoring 163 ( 0.5%) Users that have less than 1 test interactions\n",
      "EvaluatorHoldout: Processed 35573 (100.0%) in 25.75 sec. Users per second: 1381\n",
      "RP3betaRecommender: Similarity column 38121 (100.0%), 2879.53 column/sec. Elapsed time 13.24 sec\n",
      "EvaluatorHoldout: Ignoring 150 ( 0.4%) Users that have less than 1 test interactions\n",
      "EvaluatorHoldout: Processed 35586 (100.0%) in 25.80 sec. Users per second: 1379\n",
      "RP3betaRecommender: Similarity column 38121 (100.0%), 2795.70 column/sec. Elapsed time 13.64 sec\n",
      "EvaluatorHoldout: Ignoring 167 ( 0.5%) Users that have less than 1 test interactions\n",
      "EvaluatorHoldout: Processed 35569 (100.0%) in 26.45 sec. Users per second: 1345\n",
      "RP3betaRecommender: Similarity column 38121 (100.0%), 2855.99 column/sec. Elapsed time 13.35 sec\n",
      "EvaluatorHoldout: Ignoring 172 ( 0.5%) Users that have less than 1 test interactions\n",
      "EvaluatorHoldout: Processed 35564 (100.0%) in 25.97 sec. Users per second: 1370\n"
     ]
    },
    {
     "name": "stderr",
     "output_type": "stream",
     "text": [
      "[I 2025-01-06 04:56:03,112] Trial 361 finished with value: 0.0002664826418719655 and parameters: {'topK': 0, 'alpha': 0.5718866271086457, 'beta': 0.13449677288291553, 'normalize_similarity': True, 'implicit': True}. Best is trial 229 with value: 0.0549701405549974.\n"
     ]
    },
    {
     "name": "stdout",
     "output_type": "stream",
     "text": [
      "RP3betaRecommender: Similarity column 38121 (100.0%), 1657.05 column/sec. Elapsed time 23.01 sec\n",
      "EvaluatorHoldout: Ignoring 173 ( 0.5%) Users that have less than 1 test interactions\n",
      "EvaluatorHoldout: Processed 35563 (100.0%) in 33.18 sec. Users per second: 1072\n",
      "RP3betaRecommender: Similarity column 38121 (100.0%), 1637.99 column/sec. Elapsed time 23.27 sec\n",
      "EvaluatorHoldout: Ignoring 163 ( 0.5%) Users that have less than 1 test interactions\n",
      "EvaluatorHoldout: Processed 35573 (100.0%) in 32.82 sec. Users per second: 1084\n",
      "RP3betaRecommender: Similarity column 38121 (100.0%), 1635.31 column/sec. Elapsed time 23.31 sec\n",
      "EvaluatorHoldout: Ignoring 150 ( 0.4%) Users that have less than 1 test interactions\n",
      "EvaluatorHoldout: Processed 35586 (100.0%) in 37.25 sec. Users per second: 955\n",
      "RP3betaRecommender: Similarity column 38121 (100.0%), 1654.30 column/sec. Elapsed time 23.04 sec\n",
      "EvaluatorHoldout: Ignoring 167 ( 0.5%) Users that have less than 1 test interactions\n",
      "EvaluatorHoldout: Processed 35569 (100.0%) in 37.03 sec. Users per second: 960\n",
      "RP3betaRecommender: Similarity column 38121 (100.0%), 1643.98 column/sec. Elapsed time 23.19 sec\n",
      "EvaluatorHoldout: Ignoring 172 ( 0.5%) Users that have less than 1 test interactions\n",
      "EvaluatorHoldout: Processed 35564 (100.0%) in 32.92 sec. Users per second: 1080\n"
     ]
    },
    {
     "name": "stderr",
     "output_type": "stream",
     "text": [
      "[I 2025-01-06 05:01:14,084] Trial 362 finished with value: 0.04817247529233756 and parameters: {'topK': 112, 'alpha': 0.442031446816453, 'beta': 0.07752809835241041, 'normalize_similarity': True, 'implicit': True}. Best is trial 229 with value: 0.0549701405549974.\n"
     ]
    },
    {
     "name": "stdout",
     "output_type": "stream",
     "text": [
      "RP3betaRecommender: Similarity column 38121 (100.0%), 1848.23 column/sec. Elapsed time 20.63 sec\n",
      "EvaluatorHoldout: Ignoring 173 ( 0.5%) Users that have less than 1 test interactions\n",
      "EvaluatorHoldout: Processed 35563 (100.0%) in 34.64 sec. Users per second: 1027\n",
      "RP3betaRecommender: Similarity column 38121 (100.0%), 1876.43 column/sec. Elapsed time 20.32 sec\n",
      "EvaluatorHoldout: Ignoring 163 ( 0.5%) Users that have less than 1 test interactions\n",
      "EvaluatorHoldout: Processed 35573 (100.0%) in 34.54 sec. Users per second: 1030\n",
      "RP3betaRecommender: Similarity column 38121 (100.0%), 1897.31 column/sec. Elapsed time 20.09 sec\n",
      "EvaluatorHoldout: Ignoring 150 ( 0.4%) Users that have less than 1 test interactions\n",
      "EvaluatorHoldout: Processed 35586 (100.0%) in 34.88 sec. Users per second: 1020\n",
      "RP3betaRecommender: Similarity column 38121 (100.0%), 1891.14 column/sec. Elapsed time 20.16 sec\n",
      "EvaluatorHoldout: Ignoring 167 ( 0.5%) Users that have less than 1 test interactions\n",
      "EvaluatorHoldout: Processed 35569 (100.0%) in 34.31 sec. Users per second: 1037\n",
      "RP3betaRecommender: Similarity column 38121 (100.0%), 1918.65 column/sec. Elapsed time 19.87 sec\n",
      "EvaluatorHoldout: Ignoring 172 ( 0.5%) Users that have less than 1 test interactions\n",
      "EvaluatorHoldout: Processed 35564 (100.0%) in 34.05 sec. Users per second: 1044\n"
     ]
    },
    {
     "name": "stderr",
     "output_type": "stream",
     "text": [
      "[I 2025-01-06 05:05:58,932] Trial 363 finished with value: 0.021249178493101335 and parameters: {'topK': 53, 'alpha': 0.5148920426995789, 'beta': 1.4176566157051558, 'normalize_similarity': False, 'implicit': True}. Best is trial 229 with value: 0.0549701405549974.\n"
     ]
    },
    {
     "name": "stdout",
     "output_type": "stream",
     "text": [
      "RP3betaRecommender: Similarity column 38121 (100.0%), 1790.57 column/sec. Elapsed time 21.29 sec\n",
      "EvaluatorHoldout: Ignoring 173 ( 0.5%) Users that have less than 1 test interactions\n",
      "EvaluatorHoldout: Processed 35563 (100.0%) in 35.51 sec. Users per second: 1001\n",
      "RP3betaRecommender: Similarity column 38121 (100.0%), 1783.65 column/sec. Elapsed time 21.37 sec\n",
      "EvaluatorHoldout: Ignoring 163 ( 0.5%) Users that have less than 1 test interactions\n",
      "EvaluatorHoldout: Processed 35573 (100.0%) in 35.62 sec. Users per second: 999\n",
      "RP3betaRecommender: Similarity column 38121 (100.0%), 1784.78 column/sec. Elapsed time 21.36 sec\n",
      "EvaluatorHoldout: Ignoring 150 ( 0.4%) Users that have less than 1 test interactions\n",
      "EvaluatorHoldout: Processed 35586 (100.0%) in 35.54 sec. Users per second: 1001\n",
      "RP3betaRecommender: Similarity column 38121 (100.0%), 1782.20 column/sec. Elapsed time 21.39 sec\n",
      "EvaluatorHoldout: Ignoring 167 ( 0.5%) Users that have less than 1 test interactions\n",
      "EvaluatorHoldout: Processed 35569 (100.0%) in 35.53 sec. Users per second: 1001\n",
      "RP3betaRecommender: Similarity column 38121 (100.0%), 1776.61 column/sec. Elapsed time 21.46 sec\n",
      "EvaluatorHoldout: Ignoring 172 ( 0.5%) Users that have less than 1 test interactions\n",
      "EvaluatorHoldout: Processed 35564 (100.0%) in 35.91 sec. Users per second: 990\n"
     ]
    },
    {
     "name": "stderr",
     "output_type": "stream",
     "text": [
      "[I 2025-01-06 05:11:00,592] Trial 364 finished with value: 0.0507531016545121 and parameters: {'topK': 76, 'alpha': 0.35897501915783175, 'beta': 0.15305398648055538, 'normalize_similarity': True, 'implicit': True}. Best is trial 229 with value: 0.0549701405549974.\n"
     ]
    },
    {
     "name": "stdout",
     "output_type": "stream",
     "text": [
      "RP3betaRecommender: Similarity column 38121 (100.0%), 554.67 column/sec. Elapsed time 1.15 min\n",
      "EvaluatorHoldout: Ignoring 173 ( 0.5%) Users that have less than 1 test interactions\n",
      "EvaluatorHoldout: Processed 35563 (100.0%) in 54.00 sec. Users per second: 659\n",
      "RP3betaRecommender: Similarity column 38121 (100.0%), 548.00 column/sec. Elapsed time 1.16 min\n",
      "EvaluatorHoldout: Ignoring 163 ( 0.5%) Users that have less than 1 test interactions\n",
      "EvaluatorHoldout: Processed 35573 (100.0%) in 53.57 sec. Users per second: 664\n",
      "RP3betaRecommender: Similarity column 38121 (100.0%), 554.75 column/sec. Elapsed time 1.15 min\n",
      "EvaluatorHoldout: Ignoring 150 ( 0.4%) Users that have less than 1 test interactions\n",
      "EvaluatorHoldout: Processed 35586 (100.0%) in 55.31 sec. Users per second: 643\n",
      "RP3betaRecommender: Similarity column 38121 (100.0%), 546.43 column/sec. Elapsed time 1.16 min\n",
      "EvaluatorHoldout: Ignoring 167 ( 0.5%) Users that have less than 1 test interactions\n",
      "EvaluatorHoldout: Processed 35569 (100.0%) in 53.67 sec. Users per second: 663\n",
      "RP3betaRecommender: Similarity column 38121 (100.0%), 559.28 column/sec. Elapsed time 1.14 min\n",
      "EvaluatorHoldout: Ignoring 172 ( 0.5%) Users that have less than 1 test interactions\n",
      "EvaluatorHoldout: Processed 35564 (100.0%) in 53.27 sec. Users per second: 668\n"
     ]
    },
    {
     "name": "stderr",
     "output_type": "stream",
     "text": [
      "[I 2025-01-06 05:24:25,118] Trial 365 finished with value: 0.037528362519400935 and parameters: {'topK': 937, 'alpha': 0.5898126565817173, 'beta': 0.07423160310895087, 'normalize_similarity': True, 'implicit': True}. Best is trial 229 with value: 0.0549701405549974.\n"
     ]
    },
    {
     "name": "stdout",
     "output_type": "stream",
     "text": [
      "RP3betaRecommender: Similarity column 38121 (100.0%), 2060.32 column/sec. Elapsed time 18.50 sec\n",
      "EvaluatorHoldout: Ignoring 173 ( 0.5%) Users that have less than 1 test interactions\n",
      "EvaluatorHoldout: Processed 35563 (100.0%) in 33.73 sec. Users per second: 1054\n",
      "RP3betaRecommender: Similarity column 38121 (100.0%), 2068.46 column/sec. Elapsed time 18.43 sec\n",
      "EvaluatorHoldout: Ignoring 163 ( 0.5%) Users that have less than 1 test interactions\n",
      "EvaluatorHoldout: Processed 35573 (100.0%) in 33.50 sec. Users per second: 1062\n",
      "RP3betaRecommender: Similarity column 38121 (100.0%), 2095.45 column/sec. Elapsed time 18.19 sec\n",
      "EvaluatorHoldout: Ignoring 150 ( 0.4%) Users that have less than 1 test interactions\n",
      "EvaluatorHoldout: Processed 35586 (100.0%) in 33.63 sec. Users per second: 1058\n",
      "RP3betaRecommender: Similarity column 38121 (100.0%), 2075.23 column/sec. Elapsed time 18.37 sec\n",
      "EvaluatorHoldout: Ignoring 167 ( 0.5%) Users that have less than 1 test interactions\n",
      "EvaluatorHoldout: Processed 35569 (100.0%) in 33.52 sec. Users per second: 1061\n",
      "RP3betaRecommender: Similarity column 38121 (100.0%), 2043.14 column/sec. Elapsed time 18.66 sec\n",
      "EvaluatorHoldout: Ignoring 172 ( 0.5%) Users that have less than 1 test interactions\n",
      "EvaluatorHoldout: Processed 35564 (100.0%) in 33.17 sec. Users per second: 1072\n"
     ]
    },
    {
     "name": "stderr",
     "output_type": "stream",
     "text": [
      "[I 2025-01-06 05:28:53,131] Trial 366 finished with value: 0.054530025879832744 and parameters: {'topK': 23, 'alpha': 0.48103865590426254, 'beta': 0.2901879039228562, 'normalize_similarity': True, 'implicit': True}. Best is trial 229 with value: 0.0549701405549974.\n"
     ]
    },
    {
     "name": "stdout",
     "output_type": "stream",
     "text": [
      "RP3betaRecommender: Similarity column 38121 (100.0%), 2833.37 column/sec. Elapsed time 13.45 sec\n",
      "EvaluatorHoldout: Ignoring 173 ( 0.5%) Users that have less than 1 test interactions\n",
      "EvaluatorHoldout: Processed 35563 (100.0%) in 25.82 sec. Users per second: 1377\n",
      "RP3betaRecommender: Similarity column 38121 (100.0%), 2819.92 column/sec. Elapsed time 13.52 sec\n",
      "EvaluatorHoldout: Ignoring 163 ( 0.5%) Users that have less than 1 test interactions\n",
      "EvaluatorHoldout: Processed 35573 (100.0%) in 26.05 sec. Users per second: 1365\n",
      "RP3betaRecommender: Similarity column 38121 (100.0%), 2784.32 column/sec. Elapsed time 13.69 sec\n",
      "EvaluatorHoldout: Ignoring 150 ( 0.4%) Users that have less than 1 test interactions\n",
      "EvaluatorHoldout: Processed 35586 (100.0%) in 25.75 sec. Users per second: 1382\n",
      "RP3betaRecommender: Similarity column 38121 (100.0%), 2772.49 column/sec. Elapsed time 13.75 sec\n",
      "EvaluatorHoldout: Ignoring 167 ( 0.5%) Users that have less than 1 test interactions\n",
      "EvaluatorHoldout: Processed 35569 (100.0%) in 25.91 sec. Users per second: 1373\n",
      "RP3betaRecommender: Similarity column 38121 (100.0%), 2864.52 column/sec. Elapsed time 13.31 sec\n",
      "EvaluatorHoldout: Ignoring 172 ( 0.5%) Users that have less than 1 test interactions\n",
      "EvaluatorHoldout: Processed 35564 (100.0%) in 25.70 sec. Users per second: 1384\n"
     ]
    },
    {
     "name": "stderr",
     "output_type": "stream",
     "text": [
      "[I 2025-01-06 05:32:11,255] Trial 367 finished with value: 0.0002664826418719655 and parameters: {'topK': 0, 'alpha': 0.44032217172609595, 'beta': 0.2993573652249558, 'normalize_similarity': True, 'implicit': True}. Best is trial 229 with value: 0.0549701405549974.\n"
     ]
    },
    {
     "name": "stdout",
     "output_type": "stream",
     "text": [
      "RP3betaRecommender: Similarity column 38121 (100.0%), 2063.26 column/sec. Elapsed time 18.48 sec\n",
      "EvaluatorHoldout: Ignoring 173 ( 0.5%) Users that have less than 1 test interactions\n",
      "EvaluatorHoldout: Processed 35563 (100.0%) in 33.74 sec. Users per second: 1054\n",
      "RP3betaRecommender: Similarity column 38121 (100.0%), 2039.44 column/sec. Elapsed time 18.69 sec\n",
      "EvaluatorHoldout: Ignoring 163 ( 0.5%) Users that have less than 1 test interactions\n",
      "EvaluatorHoldout: Processed 35573 (100.0%) in 34.32 sec. Users per second: 1036\n",
      "RP3betaRecommender: Similarity column 38121 (100.0%), 1999.35 column/sec. Elapsed time 19.07 sec\n",
      "EvaluatorHoldout: Ignoring 150 ( 0.4%) Users that have less than 1 test interactions\n",
      "EvaluatorHoldout: Processed 35586 (100.0%) in 33.64 sec. Users per second: 1058\n",
      "RP3betaRecommender: Similarity column 38121 (100.0%), 2022.68 column/sec. Elapsed time 18.85 sec\n",
      "EvaluatorHoldout: Ignoring 167 ( 0.5%) Users that have less than 1 test interactions\n",
      "EvaluatorHoldout: Processed 35569 (100.0%) in 33.70 sec. Users per second: 1056\n",
      "RP3betaRecommender: Similarity column 38121 (100.0%), 2014.97 column/sec. Elapsed time 18.92 sec\n",
      "EvaluatorHoldout: Ignoring 172 ( 0.5%) Users that have less than 1 test interactions\n",
      "EvaluatorHoldout: Processed 35564 (100.0%) in 33.92 sec. Users per second: 1048\n"
     ]
    },
    {
     "name": "stderr",
     "output_type": "stream",
     "text": [
      "[I 2025-01-06 05:36:43,610] Trial 368 finished with value: 0.054359227079406755 and parameters: {'topK': 28, 'alpha': 0.39232888230841434, 'beta': 0.26748721194027386, 'normalize_similarity': True, 'implicit': True}. Best is trial 229 with value: 0.0549701405549974.\n"
     ]
    },
    {
     "name": "stdout",
     "output_type": "stream",
     "text": [
      "RP3betaRecommender: Similarity column 38121 (100.0%), 1759.13 column/sec. Elapsed time 21.67 sec\n",
      "EvaluatorHoldout: Ignoring 173 ( 0.5%) Users that have less than 1 test interactions\n",
      "EvaluatorHoldout: Processed 35563 (100.0%) in 37.07 sec. Users per second: 959\n",
      "RP3betaRecommender: Similarity column 38121 (100.0%), 1743.62 column/sec. Elapsed time 21.86 sec\n",
      "EvaluatorHoldout: Ignoring 163 ( 0.5%) Users that have less than 1 test interactions\n",
      "EvaluatorHoldout: Processed 35573 (100.0%) in 37.08 sec. Users per second: 959\n",
      "RP3betaRecommender: Similarity column 38121 (100.0%), 1738.62 column/sec. Elapsed time 21.93 sec\n",
      "EvaluatorHoldout: Ignoring 150 ( 0.4%) Users that have less than 1 test interactions\n",
      "EvaluatorHoldout: Processed 35586 (100.0%) in 37.22 sec. Users per second: 956\n",
      "RP3betaRecommender: Similarity column 38121 (100.0%), 1725.69 column/sec. Elapsed time 22.09 sec\n",
      "EvaluatorHoldout: Ignoring 167 ( 0.5%) Users that have less than 1 test interactions\n",
      "EvaluatorHoldout: Processed 35569 (100.0%) in 37.32 sec. Users per second: 953\n",
      "RP3betaRecommender: Similarity column 38121 (100.0%), 1733.55 column/sec. Elapsed time 21.99 sec\n",
      "EvaluatorHoldout: Ignoring 172 ( 0.5%) Users that have less than 1 test interactions\n",
      "EvaluatorHoldout: Processed 35564 (100.0%) in 37.43 sec. Users per second: 950\n"
     ]
    },
    {
     "name": "stderr",
     "output_type": "stream",
     "text": [
      "[I 2025-01-06 05:42:00,033] Trial 369 finished with value: 0.05068838822632908 and parameters: {'topK': 86, 'alpha': 0.287124463448722, 'beta': 0.3554940019247479, 'normalize_similarity': True, 'implicit': True}. Best is trial 229 with value: 0.0549701405549974.\n"
     ]
    },
    {
     "name": "stdout",
     "output_type": "stream",
     "text": [
      "RP3betaRecommender: Similarity column 38121 (100.0%), 1892.08 column/sec. Elapsed time 20.15 sec\n",
      "EvaluatorHoldout: Ignoring 173 ( 0.5%) Users that have less than 1 test interactions\n",
      "EvaluatorHoldout: Processed 35563 (100.0%) in 35.80 sec. Users per second: 993\n",
      "RP3betaRecommender: Similarity column 38121 (100.0%), 1858.51 column/sec. Elapsed time 20.51 sec\n",
      "EvaluatorHoldout: Ignoring 163 ( 0.5%) Users that have less than 1 test interactions\n",
      "EvaluatorHoldout: Processed 35573 (100.0%) in 35.65 sec. Users per second: 998\n",
      "RP3betaRecommender: Similarity column 38121 (100.0%), 1890.40 column/sec. Elapsed time 20.17 sec\n",
      "EvaluatorHoldout: Ignoring 150 ( 0.4%) Users that have less than 1 test interactions\n",
      "EvaluatorHoldout: Processed 35586 (100.0%) in 35.40 sec. Users per second: 1005\n",
      "RP3betaRecommender: Similarity column 38121 (100.0%), 1925.69 column/sec. Elapsed time 19.80 sec\n",
      "EvaluatorHoldout: Ignoring 167 ( 0.5%) Users that have less than 1 test interactions\n",
      "EvaluatorHoldout: Processed 35569 (100.0%) in 35.33 sec. Users per second: 1007\n",
      "RP3betaRecommender: Similarity column 38121 (100.0%), 1928.49 column/sec. Elapsed time 19.77 sec\n",
      "EvaluatorHoldout: Ignoring 172 ( 0.5%) Users that have less than 1 test interactions\n",
      "EvaluatorHoldout: Processed 35564 (100.0%) in 35.41 sec. Users per second: 1004\n"
     ]
    },
    {
     "name": "stderr",
     "output_type": "stream",
     "text": [
      "[I 2025-01-06 05:46:51,844] Trial 370 finished with value: 0.05255857550520954 and parameters: {'topK': 53, 'alpha': 0.3311512273458237, 'beta': 0.2849838054035508, 'normalize_similarity': True, 'implicit': True}. Best is trial 229 with value: 0.0549701405549974.\n"
     ]
    },
    {
     "name": "stdout",
     "output_type": "stream",
     "text": [
      "RP3betaRecommender: Similarity column 38121 (100.0%), 2064.08 column/sec. Elapsed time 18.47 sec\n",
      "EvaluatorHoldout: Ignoring 173 ( 0.5%) Users that have less than 1 test interactions\n",
      "EvaluatorHoldout: Processed 35563 (100.0%) in 33.86 sec. Users per second: 1050\n",
      "RP3betaRecommender: Similarity column 38121 (100.0%), 2047.01 column/sec. Elapsed time 18.62 sec\n",
      "EvaluatorHoldout: Ignoring 163 ( 0.5%) Users that have less than 1 test interactions\n",
      "EvaluatorHoldout: Processed 35573 (100.0%) in 32.96 sec. Users per second: 1079\n",
      "RP3betaRecommender: Similarity column 38121 (100.0%), 2095.87 column/sec. Elapsed time 18.19 sec\n",
      "EvaluatorHoldout: Ignoring 150 ( 0.4%) Users that have less than 1 test interactions\n",
      "EvaluatorHoldout: Processed 35586 (100.0%) in 32.85 sec. Users per second: 1083\n",
      "RP3betaRecommender: Similarity column 38121 (100.0%), 2111.03 column/sec. Elapsed time 18.06 sec\n",
      "EvaluatorHoldout: Ignoring 167 ( 0.5%) Users that have less than 1 test interactions\n",
      "EvaluatorHoldout: Processed 35569 (100.0%) in 33.07 sec. Users per second: 1076\n",
      "RP3betaRecommender: Similarity column 38121 (100.0%), 2110.99 column/sec. Elapsed time 18.06 sec\n",
      "EvaluatorHoldout: Ignoring 172 ( 0.5%) Users that have less than 1 test interactions\n",
      "EvaluatorHoldout: Processed 35564 (100.0%) in 33.52 sec. Users per second: 1061\n"
     ]
    },
    {
     "name": "stderr",
     "output_type": "stream",
     "text": [
      "[I 2025-01-06 05:51:17,260] Trial 371 finished with value: 0.05485015525013119 and parameters: {'topK': 21, 'alpha': 0.4044700777458538, 'beta': 0.2529455678774207, 'normalize_similarity': True, 'implicit': True}. Best is trial 229 with value: 0.0549701405549974.\n"
     ]
    },
    {
     "name": "stdout",
     "output_type": "stream",
     "text": [
      "RP3betaRecommender: Similarity column 38121 (100.0%), 802.33 column/sec. Elapsed time 47.51 sec\n",
      "EvaluatorHoldout: Ignoring 173 ( 0.5%) Users that have less than 1 test interactions\n",
      "EvaluatorHoldout: Processed 35563 (100.0%) in 48.49 sec. Users per second: 733\n",
      "RP3betaRecommender: Similarity column 38121 (100.0%), 798.28 column/sec. Elapsed time 47.75 sec\n",
      "EvaluatorHoldout: Ignoring 163 ( 0.5%) Users that have less than 1 test interactions\n",
      "EvaluatorHoldout: Processed 35573 (100.0%) in 48.83 sec. Users per second: 728\n",
      "RP3betaRecommender: Similarity column 38121 (100.0%), 802.98 column/sec. Elapsed time 47.47 sec\n",
      "EvaluatorHoldout: Ignoring 150 ( 0.4%) Users that have less than 1 test interactions\n",
      "EvaluatorHoldout: Processed 35586 (100.0%) in 48.16 sec. Users per second: 739\n",
      "RP3betaRecommender: Similarity column 38121 (100.0%), 807.57 column/sec. Elapsed time 47.20 sec\n",
      "EvaluatorHoldout: Ignoring 167 ( 0.5%) Users that have less than 1 test interactions\n",
      "EvaluatorHoldout: Processed 35569 (100.0%) in 47.98 sec. Users per second: 741\n",
      "RP3betaRecommender: Similarity column 38121 (100.0%), 804.38 column/sec. Elapsed time 47.39 sec\n",
      "EvaluatorHoldout: Ignoring 172 ( 0.5%) Users that have less than 1 test interactions\n",
      "EvaluatorHoldout: Processed 35564 (100.0%) in 49.04 sec. Users per second: 725\n"
     ]
    },
    {
     "name": "stderr",
     "output_type": "stream",
     "text": [
      "[I 2025-01-06 06:01:17,570] Trial 372 finished with value: 0.045510381276771456 and parameters: {'topK': 520, 'alpha': 0.3502110946747714, 'beta': 0.35191013552325434, 'normalize_similarity': True, 'implicit': True}. Best is trial 229 with value: 0.0549701405549974.\n"
     ]
    },
    {
     "name": "stdout",
     "output_type": "stream",
     "text": [
      "RP3betaRecommender: Similarity column 38121 (100.0%), 1899.36 column/sec. Elapsed time 20.07 sec\n",
      "EvaluatorHoldout: Ignoring 173 ( 0.5%) Users that have less than 1 test interactions\n",
      "EvaluatorHoldout: Processed 35563 (100.0%) in 35.65 sec. Users per second: 997\n",
      "RP3betaRecommender: Similarity column 38121 (100.0%), 1881.76 column/sec. Elapsed time 20.26 sec\n",
      "EvaluatorHoldout: Ignoring 163 ( 0.5%) Users that have less than 1 test interactions\n",
      "EvaluatorHoldout: Processed 35573 (100.0%) in 36.58 sec. Users per second: 972\n",
      "RP3betaRecommender: Similarity column 38121 (100.0%), 1915.70 column/sec. Elapsed time 19.90 sec\n",
      "EvaluatorHoldout: Ignoring 150 ( 0.4%) Users that have less than 1 test interactions\n",
      "EvaluatorHoldout: Processed 35586 (100.0%) in 36.09 sec. Users per second: 986\n",
      "RP3betaRecommender: Similarity column 38121 (100.0%), 1921.45 column/sec. Elapsed time 19.84 sec\n",
      "EvaluatorHoldout: Ignoring 167 ( 0.5%) Users that have less than 1 test interactions\n",
      "EvaluatorHoldout: Processed 35569 (100.0%) in 35.77 sec. Users per second: 994\n",
      "RP3betaRecommender: Similarity column 38121 (100.0%), 1840.92 column/sec. Elapsed time 20.71 sec\n",
      "EvaluatorHoldout: Ignoring 172 ( 0.5%) Users that have less than 1 test interactions\n",
      "EvaluatorHoldout: Processed 35564 (100.0%) in 35.63 sec. Users per second: 998\n"
     ]
    },
    {
     "name": "stderr",
     "output_type": "stream",
     "text": [
      "[I 2025-01-06 06:06:12,084] Trial 373 finished with value: 0.052677038529487005 and parameters: {'topK': 52, 'alpha': 0.3896027300665077, 'beta': 0.26482595880667115, 'normalize_similarity': True, 'implicit': True}. Best is trial 229 with value: 0.0549701405549974.\n"
     ]
    },
    {
     "name": "stdout",
     "output_type": "stream",
     "text": [
      "RP3betaRecommender: Similarity column 38121 (100.0%), 2750.45 column/sec. Elapsed time 13.86 sec\n",
      "EvaluatorHoldout: Ignoring 173 ( 0.5%) Users that have less than 1 test interactions\n",
      "EvaluatorHoldout: Processed 35563 (100.0%) in 25.76 sec. Users per second: 1381\n",
      "RP3betaRecommender: Similarity column 38121 (100.0%), 2786.62 column/sec. Elapsed time 13.68 sec\n",
      "EvaluatorHoldout: Ignoring 163 ( 0.5%) Users that have less than 1 test interactions\n",
      "EvaluatorHoldout: Processed 35573 (100.0%) in 26.66 sec. Users per second: 1334\n",
      "RP3betaRecommender: Similarity column 38121 (100.0%), 2840.80 column/sec. Elapsed time 13.42 sec\n",
      "EvaluatorHoldout: Ignoring 150 ( 0.4%) Users that have less than 1 test interactions\n",
      "EvaluatorHoldout: Processed 35586 (100.0%) in 26.14 sec. Users per second: 1361\n",
      "RP3betaRecommender: Similarity column 38121 (100.0%), 2774.24 column/sec. Elapsed time 13.74 sec\n",
      "EvaluatorHoldout: Ignoring 167 ( 0.5%) Users that have less than 1 test interactions\n",
      "EvaluatorHoldout: Processed 35569 (100.0%) in 25.54 sec. Users per second: 1393\n",
      "RP3betaRecommender: Similarity column 38121 (100.0%), 2832.99 column/sec. Elapsed time 13.46 sec\n",
      "EvaluatorHoldout: Ignoring 172 ( 0.5%) Users that have less than 1 test interactions\n",
      "EvaluatorHoldout: Processed 35564 (100.0%) in 25.67 sec. Users per second: 1386\n"
     ]
    },
    {
     "name": "stderr",
     "output_type": "stream",
     "text": [
      "[I 2025-01-06 06:09:31,170] Trial 374 finished with value: 0.0002664826418719655 and parameters: {'topK': 0, 'alpha': 0.2681805320760628, 'beta': 0.3197042984528814, 'normalize_similarity': True, 'implicit': True}. Best is trial 229 with value: 0.0549701405549974.\n"
     ]
    },
    {
     "name": "stdout",
     "output_type": "stream",
     "text": [
      "RP3betaRecommender: Similarity column 38121 (100.0%), 1701.94 column/sec. Elapsed time 22.40 sec\n",
      "EvaluatorHoldout: Ignoring 173 ( 0.5%) Users that have less than 1 test interactions\n",
      "EvaluatorHoldout: Processed 35563 (100.0%) in 37.45 sec. Users per second: 950\n",
      "RP3betaRecommender: Similarity column 38121 (100.0%), 1663.91 column/sec. Elapsed time 22.91 sec\n",
      "EvaluatorHoldout: Ignoring 163 ( 0.5%) Users that have less than 1 test interactions\n",
      "EvaluatorHoldout: Processed 35573 (100.0%) in 37.67 sec. Users per second: 944\n",
      "RP3betaRecommender: Similarity column 38121 (100.0%), 1650.98 column/sec. Elapsed time 23.09 sec\n",
      "EvaluatorHoldout: Ignoring 150 ( 0.4%) Users that have less than 1 test interactions\n",
      "EvaluatorHoldout: Processed 35586 (100.0%) in 37.44 sec. Users per second: 950\n",
      "RP3betaRecommender: Similarity column 38121 (100.0%), 1664.80 column/sec. Elapsed time 22.90 sec\n",
      "EvaluatorHoldout: Ignoring 167 ( 0.5%) Users that have less than 1 test interactions\n",
      "EvaluatorHoldout: Processed 35569 (100.0%) in 37.99 sec. Users per second: 936\n",
      "RP3betaRecommender: Similarity column 38121 (100.0%), 1690.71 column/sec. Elapsed time 22.55 sec\n",
      "EvaluatorHoldout: Ignoring 172 ( 0.5%) Users that have less than 1 test interactions\n",
      "EvaluatorHoldout: Processed 35564 (100.0%) in 37.08 sec. Users per second: 959\n"
     ]
    },
    {
     "name": "stderr",
     "output_type": "stream",
     "text": [
      "[I 2025-01-06 06:14:55,470] Trial 375 finished with value: 0.05041077984875649 and parameters: {'topK': 98, 'alpha': 0.4051903633459655, 'beta': 0.2553083739597958, 'normalize_similarity': True, 'implicit': True}. Best is trial 229 with value: 0.0549701405549974.\n"
     ]
    },
    {
     "name": "stdout",
     "output_type": "stream",
     "text": [
      "RP3betaRecommender: Similarity column 38121 (100.0%), 1986.45 column/sec. Elapsed time 19.19 sec\n",
      "EvaluatorHoldout: Ignoring 173 ( 0.5%) Users that have less than 1 test interactions\n",
      "EvaluatorHoldout: Processed 35563 (100.0%) in 34.18 sec. Users per second: 1041\n",
      "RP3betaRecommender: Similarity column 38121 (100.0%), 2009.34 column/sec. Elapsed time 18.97 sec\n",
      "EvaluatorHoldout: Ignoring 163 ( 0.5%) Users that have less than 1 test interactions\n",
      "EvaluatorHoldout: Processed 35573 (100.0%) in 35.11 sec. Users per second: 1013\n",
      "RP3betaRecommender: Similarity column 38121 (100.0%), 1937.19 column/sec. Elapsed time 19.68 sec\n",
      "EvaluatorHoldout: Ignoring 150 ( 0.4%) Users that have less than 1 test interactions\n",
      "EvaluatorHoldout: Processed 35586 (100.0%) in 34.51 sec. Users per second: 1031\n",
      "RP3betaRecommender: Similarity column 38121 (100.0%), 2003.91 column/sec. Elapsed time 19.02 sec\n",
      "EvaluatorHoldout: Ignoring 167 ( 0.5%) Users that have less than 1 test interactions\n",
      "EvaluatorHoldout: Processed 35569 (100.0%) in 35.45 sec. Users per second: 1003\n",
      "RP3betaRecommender: Similarity column 38121 (100.0%), 1942.51 column/sec. Elapsed time 19.62 sec\n",
      "EvaluatorHoldout: Ignoring 172 ( 0.5%) Users that have less than 1 test interactions\n",
      "EvaluatorHoldout: Processed 35564 (100.0%) in 33.60 sec. Users per second: 1059\n"
     ]
    },
    {
     "name": "stderr",
     "output_type": "stream",
     "text": [
      "[I 2025-01-06 06:19:34,133] Trial 376 finished with value: 0.054247567087592444 and parameters: {'topK': 29, 'alpha': 0.4584505783214878, 'beta': 0.24066030376500683, 'normalize_similarity': True, 'implicit': True}. Best is trial 229 with value: 0.0549701405549974.\n"
     ]
    },
    {
     "name": "stdout",
     "output_type": "stream",
     "text": [
      "RP3betaRecommender: Similarity column 38121 (100.0%), 1826.43 column/sec. Elapsed time 20.87 sec\n",
      "EvaluatorHoldout: Ignoring 173 ( 0.5%) Users that have less than 1 test interactions\n",
      "EvaluatorHoldout: Processed 35563 (100.0%) in 36.76 sec. Users per second: 967\n",
      "RP3betaRecommender: Similarity column 38121 (100.0%), 1823.39 column/sec. Elapsed time 20.91 sec\n",
      "EvaluatorHoldout: Ignoring 163 ( 0.5%) Users that have less than 1 test interactions\n",
      "EvaluatorHoldout: Processed 35573 (100.0%) in 36.98 sec. Users per second: 962\n",
      "RP3betaRecommender: Similarity column 38121 (100.0%), 1798.77 column/sec. Elapsed time 21.19 sec\n",
      "EvaluatorHoldout: Ignoring 150 ( 0.4%) Users that have less than 1 test interactions\n",
      "EvaluatorHoldout: Processed 35586 (100.0%) in 36.62 sec. Users per second: 972\n",
      "RP3betaRecommender: Similarity column 38121 (100.0%), 1838.20 column/sec. Elapsed time 20.74 sec\n",
      "EvaluatorHoldout: Ignoring 167 ( 0.5%) Users that have less than 1 test interactions\n",
      "EvaluatorHoldout: Processed 35569 (100.0%) in 36.49 sec. Users per second: 975\n",
      "RP3betaRecommender: Similarity column 38121 (100.0%), 1819.13 column/sec. Elapsed time 20.96 sec\n",
      "EvaluatorHoldout: Ignoring 172 ( 0.5%) Users that have less than 1 test interactions\n",
      "EvaluatorHoldout: Processed 35564 (100.0%) in 36.41 sec. Users per second: 977\n"
     ]
    },
    {
     "name": "stderr",
     "output_type": "stream",
     "text": [
      "[I 2025-01-06 06:24:39,944] Trial 377 finished with value: 0.051631569657435296 and parameters: {'topK': 71, 'alpha': 0.4515952950180736, 'beta': 0.31446125220065974, 'normalize_similarity': True, 'implicit': True}. Best is trial 229 with value: 0.0549701405549974.\n"
     ]
    },
    {
     "name": "stdout",
     "output_type": "stream",
     "text": [
      "RP3betaRecommender: Similarity column 38121 (100.0%), 1533.41 column/sec. Elapsed time 24.86 sec\n",
      "EvaluatorHoldout: Ignoring 173 ( 0.5%) Users that have less than 1 test interactions\n",
      "EvaluatorHoldout: Processed 35563 (100.0%) in 32.83 sec. Users per second: 1083\n",
      "RP3betaRecommender: Similarity column 38121 (100.0%), 1573.79 column/sec. Elapsed time 24.22 sec\n",
      "EvaluatorHoldout: Ignoring 163 ( 0.5%) Users that have less than 1 test interactions\n",
      "EvaluatorHoldout: Processed 35573 (100.0%) in 32.57 sec. Users per second: 1092\n",
      "RP3betaRecommender: Similarity column 38121 (100.0%), 1591.39 column/sec. Elapsed time 23.95 sec\n",
      "EvaluatorHoldout: Ignoring 150 ( 0.4%) Users that have less than 1 test interactions\n",
      "EvaluatorHoldout: Processed 35586 (100.0%) in 37.20 sec. Users per second: 957\n",
      "RP3betaRecommender: Similarity column 38121 (100.0%), 1582.46 column/sec. Elapsed time 24.09 sec\n",
      "EvaluatorHoldout: Ignoring 167 ( 0.5%) Users that have less than 1 test interactions\n",
      "EvaluatorHoldout: Processed 35569 (100.0%) in 36.86 sec. Users per second: 965\n",
      "RP3betaRecommender: Similarity column 38121 (100.0%), 1572.47 column/sec. Elapsed time 24.24 sec\n",
      "EvaluatorHoldout: Ignoring 172 ( 0.5%) Users that have less than 1 test interactions\n",
      "EvaluatorHoldout: Processed 35564 (100.0%) in 32.85 sec. Users per second: 1083\n"
     ]
    },
    {
     "name": "stderr",
     "output_type": "stream",
     "text": [
      "[I 2025-01-06 06:29:55,359] Trial 378 finished with value: 0.017258995059359895 and parameters: {'topK': 130, 'alpha': 0.3814242460403821, 'beta': 1.5648259297304357, 'normalize_similarity': True, 'implicit': True}. Best is trial 229 with value: 0.0549701405549974.\n"
     ]
    },
    {
     "name": "stdout",
     "output_type": "stream",
     "text": [
      "RP3betaRecommender: Similarity column 38121 (100.0%), 1899.21 column/sec. Elapsed time 20.07 sec\n",
      "EvaluatorHoldout: Ignoring 173 ( 0.5%) Users that have less than 1 test interactions\n",
      "EvaluatorHoldout: Processed 35563 (100.0%) in 35.03 sec. Users per second: 1015\n",
      "RP3betaRecommender: Similarity column 38121 (100.0%), 1911.16 column/sec. Elapsed time 19.95 sec\n",
      "EvaluatorHoldout: Ignoring 163 ( 0.5%) Users that have less than 1 test interactions\n",
      "EvaluatorHoldout: Processed 35573 (100.0%) in 35.32 sec. Users per second: 1007\n",
      "RP3betaRecommender: Similarity column 38121 (100.0%), 1917.68 column/sec. Elapsed time 19.88 sec\n",
      "EvaluatorHoldout: Ignoring 150 ( 0.4%) Users that have less than 1 test interactions\n",
      "EvaluatorHoldout: Processed 35586 (100.0%) in 35.27 sec. Users per second: 1009\n",
      "RP3betaRecommender: Similarity column 38121 (100.0%), 1914.92 column/sec. Elapsed time 19.91 sec\n",
      "EvaluatorHoldout: Ignoring 167 ( 0.5%) Users that have less than 1 test interactions\n",
      "EvaluatorHoldout: Processed 35569 (100.0%) in 35.93 sec. Users per second: 990\n",
      "RP3betaRecommender: Similarity column 38121 (100.0%), 1897.84 column/sec. Elapsed time 20.09 sec\n",
      "EvaluatorHoldout: Ignoring 172 ( 0.5%) Users that have less than 1 test interactions\n",
      "EvaluatorHoldout: Processed 35564 (100.0%) in 35.17 sec. Users per second: 1011\n"
     ]
    },
    {
     "name": "stderr",
     "output_type": "stream",
     "text": [
      "[I 2025-01-06 06:34:45,106] Trial 379 finished with value: 0.05272827430354554 and parameters: {'topK': 50, 'alpha': 0.48117628467508566, 'beta': 0.24961530438397955, 'normalize_similarity': True, 'implicit': True}. Best is trial 229 with value: 0.0549701405549974.\n"
     ]
    },
    {
     "name": "stdout",
     "output_type": "stream",
     "text": [
      "RP3betaRecommender: Similarity column 38121 (100.0%), 2006.00 column/sec. Elapsed time 19.00 sec\n",
      "EvaluatorHoldout: Ignoring 173 ( 0.5%) Users that have less than 1 test interactions\n",
      "EvaluatorHoldout: Processed 35563 (100.0%) in 34.38 sec. Users per second: 1035\n",
      "RP3betaRecommender: Similarity column 38121 (100.0%), 1980.90 column/sec. Elapsed time 19.24 sec\n",
      "EvaluatorHoldout: Ignoring 163 ( 0.5%) Users that have less than 1 test interactions\n",
      "EvaluatorHoldout: Processed 35573 (100.0%) in 34.25 sec. Users per second: 1039\n",
      "RP3betaRecommender: Similarity column 38121 (100.0%), 1978.55 column/sec. Elapsed time 19.27 sec\n",
      "EvaluatorHoldout: Ignoring 150 ( 0.4%) Users that have less than 1 test interactions\n",
      "EvaluatorHoldout: Processed 35586 (100.0%) in 33.95 sec. Users per second: 1048\n",
      "RP3betaRecommender: Similarity column 38121 (100.0%), 1991.54 column/sec. Elapsed time 19.14 sec\n",
      "EvaluatorHoldout: Ignoring 167 ( 0.5%) Users that have less than 1 test interactions\n",
      "EvaluatorHoldout: Processed 35569 (100.0%) in 34.20 sec. Users per second: 1040\n",
      "RP3betaRecommender: Similarity column 38121 (100.0%), 2045.44 column/sec. Elapsed time 18.64 sec\n",
      "EvaluatorHoldout: Ignoring 172 ( 0.5%) Users that have less than 1 test interactions\n",
      "EvaluatorHoldout: Processed 35564 (100.0%) in 34.18 sec. Users per second: 1041\n"
     ]
    },
    {
     "name": "stderr",
     "output_type": "stream",
     "text": [
      "[I 2025-01-06 06:39:20,521] Trial 380 finished with value: 0.05400536641997814 and parameters: {'topK': 27, 'alpha': 0.41081998502512496, 'beta': 0.3498007924858045, 'normalize_similarity': True, 'implicit': True}. Best is trial 229 with value: 0.0549701405549974.\n"
     ]
    },
    {
     "name": "stdout",
     "output_type": "stream",
     "text": [
      "RP3betaRecommender: Similarity column 38121 (100.0%), 1823.60 column/sec. Elapsed time 20.90 sec\n",
      "EvaluatorHoldout: Ignoring 173 ( 0.5%) Users that have less than 1 test interactions\n",
      "EvaluatorHoldout: Processed 35563 (100.0%) in 36.20 sec. Users per second: 982\n",
      "RP3betaRecommender: Similarity column 38121 (100.0%), 1799.66 column/sec. Elapsed time 21.18 sec\n",
      "EvaluatorHoldout: Ignoring 163 ( 0.5%) Users that have less than 1 test interactions\n",
      "EvaluatorHoldout: Processed 35573 (100.0%) in 36.30 sec. Users per second: 980\n",
      "RP3betaRecommender: Similarity column 38121 (100.0%), 1820.08 column/sec. Elapsed time 20.94 sec\n",
      "EvaluatorHoldout: Ignoring 150 ( 0.4%) Users that have less than 1 test interactions\n",
      "EvaluatorHoldout: Processed 35586 (100.0%) in 36.41 sec. Users per second: 977\n",
      "RP3betaRecommender: Similarity column 38121 (100.0%), 1820.96 column/sec. Elapsed time 20.93 sec\n",
      "EvaluatorHoldout: Ignoring 167 ( 0.5%) Users that have less than 1 test interactions\n",
      "EvaluatorHoldout: Processed 35569 (100.0%) in 35.44 sec. Users per second: 1004\n",
      "RP3betaRecommender: Similarity column 38121 (100.0%), 1824.76 column/sec. Elapsed time 20.89 sec\n",
      "EvaluatorHoldout: Ignoring 172 ( 0.5%) Users that have less than 1 test interactions\n",
      "EvaluatorHoldout: Processed 35564 (100.0%) in 36.23 sec. Users per second: 982\n"
     ]
    },
    {
     "name": "stderr",
     "output_type": "stream",
     "text": [
      "[I 2025-01-06 06:44:22,401] Trial 381 finished with value: 0.04329493924093543 and parameters: {'topK': 70, 'alpha': 0.34142531598887316, 'beta': 0.22682462338269532, 'normalize_similarity': False, 'implicit': True}. Best is trial 229 with value: 0.0549701405549974.\n"
     ]
    },
    {
     "name": "stdout",
     "output_type": "stream",
     "text": [
      "RP3betaRecommender: Similarity column 38121 (100.0%), 2067.37 column/sec. Elapsed time 18.44 sec\n",
      "EvaluatorHoldout: Ignoring 173 ( 0.5%) Users that have less than 1 test interactions\n",
      "EvaluatorHoldout: Processed 35563 (100.0%) in 34.15 sec. Users per second: 1041\n",
      "RP3betaRecommender: Similarity column 38121 (100.0%), 2047.97 column/sec. Elapsed time 18.61 sec\n",
      "EvaluatorHoldout: Ignoring 163 ( 0.5%) Users that have less than 1 test interactions\n",
      "EvaluatorHoldout: Processed 35573 (100.0%) in 34.24 sec. Users per second: 1039\n",
      "RP3betaRecommender: Similarity column 38121 (100.0%), 2019.39 column/sec. Elapsed time 18.88 sec\n",
      "EvaluatorHoldout: Ignoring 150 ( 0.4%) Users that have less than 1 test interactions\n",
      "EvaluatorHoldout: Processed 35586 (100.0%) in 33.79 sec. Users per second: 1053\n",
      "RP3betaRecommender: Similarity column 38121 (100.0%), 2021.97 column/sec. Elapsed time 18.85 sec\n",
      "EvaluatorHoldout: Ignoring 167 ( 0.5%) Users that have less than 1 test interactions\n",
      "EvaluatorHoldout: Processed 35569 (100.0%) in 34.08 sec. Users per second: 1044\n",
      "RP3betaRecommender: Similarity column 38121 (100.0%), 2040.80 column/sec. Elapsed time 18.68 sec\n",
      "EvaluatorHoldout: Ignoring 172 ( 0.5%) Users that have less than 1 test interactions\n",
      "EvaluatorHoldout: Processed 35564 (100.0%) in 34.29 sec. Users per second: 1037\n"
     ]
    },
    {
     "name": "stderr",
     "output_type": "stream",
     "text": [
      "[I 2025-01-06 06:48:55,653] Trial 382 finished with value: 0.05422291294121813 and parameters: {'topK': 28, 'alpha': 0.4645072879678434, 'beta': 0.29090612007441097, 'normalize_similarity': True, 'implicit': True}. Best is trial 229 with value: 0.0549701405549974.\n"
     ]
    },
    {
     "name": "stdout",
     "output_type": "stream",
     "text": [
      "RP3betaRecommender: Similarity column 38121 (100.0%), 2798.56 column/sec. Elapsed time 13.62 sec\n",
      "EvaluatorHoldout: Ignoring 173 ( 0.5%) Users that have less than 1 test interactions\n",
      "EvaluatorHoldout: Processed 35563 (100.0%) in 28.08 sec. Users per second: 1266\n",
      "RP3betaRecommender: Similarity column 38121 (100.0%), 2682.14 column/sec. Elapsed time 14.21 sec\n",
      "EvaluatorHoldout: Ignoring 163 ( 0.5%) Users that have less than 1 test interactions\n",
      "EvaluatorHoldout: Processed 35573 (100.0%) in 28.19 sec. Users per second: 1262\n",
      "RP3betaRecommender: Similarity column 38121 (100.0%), 2805.65 column/sec. Elapsed time 13.59 sec\n",
      "EvaluatorHoldout: Ignoring 150 ( 0.4%) Users that have less than 1 test interactions\n",
      "EvaluatorHoldout: Processed 35586 (100.0%) in 28.08 sec. Users per second: 1267\n",
      "RP3betaRecommender: Similarity column 38121 (100.0%), 2756.25 column/sec. Elapsed time 13.83 sec\n",
      "EvaluatorHoldout: Ignoring 167 ( 0.5%) Users that have less than 1 test interactions\n",
      "EvaluatorHoldout: Processed 35569 (100.0%) in 27.77 sec. Users per second: 1281\n",
      "RP3betaRecommender: Similarity column 38121 (100.0%), 2799.16 column/sec. Elapsed time 13.62 sec\n",
      "EvaluatorHoldout: Ignoring 172 ( 0.5%) Users that have less than 1 test interactions\n",
      "EvaluatorHoldout: Processed 35564 (100.0%) in 27.78 sec. Users per second: 1280\n"
     ]
    },
    {
     "name": "stderr",
     "output_type": "stream",
     "text": [
      "[I 2025-01-06 06:52:28,358] Trial 383 finished with value: 0.019350838210454517 and parameters: {'topK': 1, 'alpha': 0.29791457522808457, 'beta': 0.227854453010845, 'normalize_similarity': True, 'implicit': True}. Best is trial 229 with value: 0.0549701405549974.\n"
     ]
    },
    {
     "name": "stdout",
     "output_type": "stream",
     "text": [
      "RP3betaRecommender: Similarity column 38121 (100.0%), 1713.37 column/sec. Elapsed time 22.25 sec\n",
      "EvaluatorHoldout: Ignoring 173 ( 0.5%) Users that have less than 1 test interactions\n",
      "EvaluatorHoldout: Processed 35563 (100.0%) in 37.34 sec. Users per second: 952\n",
      "RP3betaRecommender: Similarity column 38121 (100.0%), 1690.44 column/sec. Elapsed time 22.55 sec\n",
      "EvaluatorHoldout: Ignoring 163 ( 0.5%) Users that have less than 1 test interactions\n",
      "EvaluatorHoldout: Processed 35573 (100.0%) in 37.45 sec. Users per second: 950\n",
      "RP3betaRecommender: Similarity column 38121 (100.0%), 1693.46 column/sec. Elapsed time 22.51 sec\n",
      "EvaluatorHoldout: Ignoring 150 ( 0.4%) Users that have less than 1 test interactions\n",
      "EvaluatorHoldout: Processed 35586 (100.0%) in 37.31 sec. Users per second: 954\n",
      "RP3betaRecommender: Similarity column 38121 (100.0%), 1709.99 column/sec. Elapsed time 22.29 sec\n",
      "EvaluatorHoldout: Ignoring 167 ( 0.5%) Users that have less than 1 test interactions\n",
      "EvaluatorHoldout: Processed 35569 (100.0%) in 37.35 sec. Users per second: 952\n",
      "RP3betaRecommender: Similarity column 38121 (100.0%), 1675.75 column/sec. Elapsed time 22.75 sec\n",
      "EvaluatorHoldout: Ignoring 172 ( 0.5%) Users that have less than 1 test interactions\n",
      "EvaluatorHoldout: Processed 35564 (100.0%) in 37.88 sec. Users per second: 939\n"
     ]
    },
    {
     "name": "stderr",
     "output_type": "stream",
     "text": [
      "[I 2025-01-06 06:57:51,183] Trial 384 finished with value: 0.05054715511410603 and parameters: {'topK': 97, 'alpha': 0.4983724770408853, 'beta': 0.2910832500645423, 'normalize_similarity': True, 'implicit': True}. Best is trial 229 with value: 0.0549701405549974.\n"
     ]
    },
    {
     "name": "stdout",
     "output_type": "stream",
     "text": [
      "RP3betaRecommender: Similarity column 38121 (100.0%), 1923.45 column/sec. Elapsed time 19.82 sec\n",
      "EvaluatorHoldout: Ignoring 173 ( 0.5%) Users that have less than 1 test interactions\n",
      "EvaluatorHoldout: Processed 35563 (100.0%) in 34.34 sec. Users per second: 1035\n",
      "RP3betaRecommender: Similarity column 38121 (100.0%), 1906.09 column/sec. Elapsed time 20.00 sec\n",
      "EvaluatorHoldout: Ignoring 163 ( 0.5%) Users that have less than 1 test interactions\n",
      "EvaluatorHoldout: Processed 35573 (100.0%) in 34.93 sec. Users per second: 1018\n",
      "RP3betaRecommender: Similarity column 38121 (100.0%), 1899.49 column/sec. Elapsed time 20.07 sec\n",
      "EvaluatorHoldout: Ignoring 150 ( 0.4%) Users that have less than 1 test interactions\n",
      "EvaluatorHoldout: Processed 35586 (100.0%) in 34.55 sec. Users per second: 1030\n",
      "RP3betaRecommender: Similarity column 38121 (100.0%), 1916.00 column/sec. Elapsed time 19.90 sec\n",
      "EvaluatorHoldout: Ignoring 167 ( 0.5%) Users that have less than 1 test interactions\n",
      "EvaluatorHoldout: Processed 35569 (100.0%) in 34.45 sec. Users per second: 1032\n",
      "RP3betaRecommender: Similarity column 38121 (100.0%), 1904.22 column/sec. Elapsed time 20.02 sec\n",
      "EvaluatorHoldout: Ignoring 172 ( 0.5%) Users that have less than 1 test interactions\n",
      "EvaluatorHoldout: Processed 35564 (100.0%) in 34.48 sec. Users per second: 1031\n"
     ]
    },
    {
     "name": "stderr",
     "output_type": "stream",
     "text": [
      "[I 2025-01-06 07:02:35,926] Trial 385 finished with value: 0.05245363494339297 and parameters: {'topK': 48, 'alpha': 0.21145400375178725, 'beta': 0.20734154837505456, 'normalize_similarity': True, 'implicit': True}. Best is trial 229 with value: 0.0549701405549974.\n"
     ]
    },
    {
     "name": "stdout",
     "output_type": "stream",
     "text": [
      "RP3betaRecommender: Similarity column 38121 (100.0%), 2044.22 column/sec. Elapsed time 18.65 sec\n",
      "EvaluatorHoldout: Ignoring 173 ( 0.5%) Users that have less than 1 test interactions\n",
      "EvaluatorHoldout: Processed 35563 (100.0%) in 34.87 sec. Users per second: 1020\n",
      "RP3betaRecommender: Similarity column 38121 (100.0%), 2041.97 column/sec. Elapsed time 18.67 sec\n",
      "EvaluatorHoldout: Ignoring 163 ( 0.5%) Users that have less than 1 test interactions\n",
      "EvaluatorHoldout: Processed 35573 (100.0%) in 33.39 sec. Users per second: 1065\n",
      "RP3betaRecommender: Similarity column 38121 (100.0%), 2009.53 column/sec. Elapsed time 18.97 sec\n",
      "EvaluatorHoldout: Ignoring 150 ( 0.4%) Users that have less than 1 test interactions\n",
      "EvaluatorHoldout: Processed 35586 (100.0%) in 33.41 sec. Users per second: 1065\n",
      "RP3betaRecommender: Similarity column 38121 (100.0%), 2034.23 column/sec. Elapsed time 18.74 sec\n",
      "EvaluatorHoldout: Ignoring 167 ( 0.5%) Users that have less than 1 test interactions\n",
      "EvaluatorHoldout: Processed 35569 (100.0%) in 33.02 sec. Users per second: 1077\n",
      "RP3betaRecommender: Similarity column 38121 (100.0%), 2048.18 column/sec. Elapsed time 18.61 sec\n",
      "EvaluatorHoldout: Ignoring 172 ( 0.5%) Users that have less than 1 test interactions\n",
      "EvaluatorHoldout: Processed 35564 (100.0%) in 33.32 sec. Users per second: 1067\n"
     ]
    },
    {
     "name": "stderr",
     "output_type": "stream",
     "text": [
      "[I 2025-01-06 07:07:06,020] Trial 386 finished with value: 0.05449061114642639 and parameters: {'topK': 26, 'alpha': 0.4334698444963122, 'beta': 0.20190034312217342, 'normalize_similarity': True, 'implicit': True}. Best is trial 229 with value: 0.0549701405549974.\n"
     ]
    },
    {
     "name": "stdout",
     "output_type": "stream",
     "text": [
      "RP3betaRecommender: Similarity column 38121 (100.0%), 2803.99 column/sec. Elapsed time 13.60 sec\n",
      "EvaluatorHoldout: Ignoring 173 ( 0.5%) Users that have less than 1 test interactions\n",
      "EvaluatorHoldout: Processed 35563 (100.0%) in 26.00 sec. Users per second: 1368\n",
      "RP3betaRecommender: Similarity column 38121 (100.0%), 2789.84 column/sec. Elapsed time 13.66 sec\n",
      "EvaluatorHoldout: Ignoring 163 ( 0.5%) Users that have less than 1 test interactions\n",
      "EvaluatorHoldout: Processed 35573 (100.0%) in 25.91 sec. Users per second: 1373\n",
      "RP3betaRecommender: Similarity column 38121 (100.0%), 2810.63 column/sec. Elapsed time 13.56 sec\n",
      "EvaluatorHoldout: Ignoring 150 ( 0.4%) Users that have less than 1 test interactions\n",
      "EvaluatorHoldout: Processed 35586 (100.0%) in 25.58 sec. Users per second: 1391\n",
      "RP3betaRecommender: Similarity column 38121 (100.0%), 2792.73 column/sec. Elapsed time 13.65 sec\n",
      "EvaluatorHoldout: Ignoring 167 ( 0.5%) Users that have less than 1 test interactions\n",
      "EvaluatorHoldout: Processed 35569 (100.0%) in 25.91 sec. Users per second: 1373\n",
      "RP3betaRecommender: Similarity column 38121 (100.0%), 2825.06 column/sec. Elapsed time 13.49 sec\n",
      "EvaluatorHoldout: Ignoring 172 ( 0.5%) Users that have less than 1 test interactions\n",
      "EvaluatorHoldout: Processed 35564 (100.0%) in 26.24 sec. Users per second: 1356\n"
     ]
    },
    {
     "name": "stderr",
     "output_type": "stream",
     "text": [
      "[I 2025-01-06 07:10:24,764] Trial 387 finished with value: 0.0002664826418719655 and parameters: {'topK': 0, 'alpha': 0.39689061343174337, 'beta': 0.18219295663548363, 'normalize_similarity': True, 'implicit': True}. Best is trial 229 with value: 0.0549701405549974.\n"
     ]
    },
    {
     "name": "stdout",
     "output_type": "stream",
     "text": [
      "RP3betaRecommender: Similarity column 38121 (100.0%), 1825.47 column/sec. Elapsed time 20.88 sec\n",
      "EvaluatorHoldout: Ignoring 173 ( 0.5%) Users that have less than 1 test interactions\n",
      "EvaluatorHoldout: Processed 35563 (100.0%) in 36.79 sec. Users per second: 967\n",
      "RP3betaRecommender: Similarity column 38121 (100.0%), 1822.51 column/sec. Elapsed time 20.92 sec\n",
      "EvaluatorHoldout: Ignoring 163 ( 0.5%) Users that have less than 1 test interactions\n",
      "EvaluatorHoldout: Processed 35573 (100.0%) in 36.88 sec. Users per second: 964\n",
      "RP3betaRecommender: Similarity column 38121 (100.0%), 1806.21 column/sec. Elapsed time 21.11 sec\n",
      "EvaluatorHoldout: Ignoring 150 ( 0.4%) Users that have less than 1 test interactions\n",
      "EvaluatorHoldout: Processed 35586 (100.0%) in 37.25 sec. Users per second: 955\n",
      "RP3betaRecommender: Similarity column 38121 (100.0%), 1805.23 column/sec. Elapsed time 21.12 sec\n",
      "EvaluatorHoldout: Ignoring 167 ( 0.5%) Users that have less than 1 test interactions\n",
      "EvaluatorHoldout: Processed 35569 (100.0%) in 36.14 sec. Users per second: 984\n",
      "RP3betaRecommender: Similarity column 38121 (100.0%), 1817.71 column/sec. Elapsed time 20.97 sec\n",
      "EvaluatorHoldout: Ignoring 172 ( 0.5%) Users that have less than 1 test interactions\n",
      "EvaluatorHoldout: Processed 35564 (100.0%) in 36.67 sec. Users per second: 970\n"
     ]
    },
    {
     "name": "stderr",
     "output_type": "stream",
     "text": [
      "[I 2025-01-06 07:15:31,812] Trial 388 finished with value: 0.05150012702290474 and parameters: {'topK': 70, 'alpha': 0.3363424309791507, 'beta': 0.35073139922412244, 'normalize_similarity': True, 'implicit': True}. Best is trial 229 with value: 0.0549701405549974.\n"
     ]
    },
    {
     "name": "stdout",
     "output_type": "stream",
     "text": [
      "RP3betaRecommender: Similarity column 38121 (100.0%), 1972.49 column/sec. Elapsed time 19.33 sec\n",
      "EvaluatorHoldout: Ignoring 173 ( 0.5%) Users that have less than 1 test interactions\n",
      "EvaluatorHoldout: Processed 35563 (100.0%) in 33.86 sec. Users per second: 1050\n",
      "RP3betaRecommender: Similarity column 38121 (100.0%), 1944.00 column/sec. Elapsed time 19.61 sec\n",
      "EvaluatorHoldout: Ignoring 163 ( 0.5%) Users that have less than 1 test interactions\n",
      "EvaluatorHoldout: Processed 35573 (100.0%) in 34.08 sec. Users per second: 1044\n",
      "RP3betaRecommender: Similarity column 38121 (100.0%), 1918.16 column/sec. Elapsed time 19.87 sec\n",
      "EvaluatorHoldout: Ignoring 150 ( 0.4%) Users that have less than 1 test interactions\n",
      "EvaluatorHoldout: Processed 35586 (100.0%) in 35.03 sec. Users per second: 1016\n",
      "RP3betaRecommender: Similarity column 38121 (100.0%), 1948.88 column/sec. Elapsed time 19.56 sec\n",
      "EvaluatorHoldout: Ignoring 167 ( 0.5%) Users that have less than 1 test interactions\n",
      "EvaluatorHoldout: Processed 35569 (100.0%) in 33.95 sec. Users per second: 1048\n",
      "RP3betaRecommender: Similarity column 38121 (100.0%), 1969.36 column/sec. Elapsed time 19.36 sec\n",
      "EvaluatorHoldout: Ignoring 172 ( 0.5%) Users that have less than 1 test interactions\n",
      "EvaluatorHoldout: Processed 35564 (100.0%) in 34.14 sec. Users per second: 1042\n"
     ]
    },
    {
     "name": "stderr",
     "output_type": "stream",
     "text": [
      "[I 2025-01-06 07:20:10,979] Trial 389 finished with value: 0.05287454730137714 and parameters: {'topK': 40, 'alpha': 0.509935661557873, 'beta': 0.12246227659962952, 'normalize_similarity': True, 'implicit': True}. Best is trial 229 with value: 0.0549701405549974.\n"
     ]
    },
    {
     "name": "stdout",
     "output_type": "stream",
     "text": [
      "RP3betaRecommender: Similarity column 38121 (100.0%), 1800.65 column/sec. Elapsed time 21.17 sec\n",
      "EvaluatorHoldout: Ignoring 173 ( 0.5%) Users that have less than 1 test interactions\n",
      "EvaluatorHoldout: Processed 35563 (100.0%) in 35.44 sec. Users per second: 1003\n",
      "RP3betaRecommender: Similarity column 38121 (100.0%), 1783.18 column/sec. Elapsed time 21.38 sec\n",
      "EvaluatorHoldout: Ignoring 163 ( 0.5%) Users that have less than 1 test interactions\n",
      "EvaluatorHoldout: Processed 35573 (100.0%) in 35.47 sec. Users per second: 1003\n",
      "RP3betaRecommender: Similarity column 38121 (100.0%), 1796.97 column/sec. Elapsed time 21.21 sec\n",
      "EvaluatorHoldout: Ignoring 150 ( 0.4%) Users that have less than 1 test interactions\n",
      "EvaluatorHoldout: Processed 35586 (100.0%) in 35.30 sec. Users per second: 1008\n",
      "RP3betaRecommender: Similarity column 38121 (100.0%), 1786.75 column/sec. Elapsed time 21.34 sec\n",
      "EvaluatorHoldout: Ignoring 167 ( 0.5%) Users that have less than 1 test interactions\n",
      "EvaluatorHoldout: Processed 35569 (100.0%) in 35.40 sec. Users per second: 1005\n",
      "RP3betaRecommender: Similarity column 38121 (100.0%), 1810.26 column/sec. Elapsed time 21.06 sec\n",
      "EvaluatorHoldout: Ignoring 172 ( 0.5%) Users that have less than 1 test interactions\n",
      "EvaluatorHoldout: Processed 35564 (100.0%) in 35.13 sec. Users per second: 1012\n"
     ]
    },
    {
     "name": "stderr",
     "output_type": "stream",
     "text": [
      "[I 2025-01-06 07:25:08,389] Trial 390 finished with value: 0.021272423457324614 and parameters: {'topK': 73, 'alpha': 0.40647807052855467, 'beta': 1.3453032112615364, 'normalize_similarity': True, 'implicit': True}. Best is trial 229 with value: 0.0549701405549974.\n"
     ]
    },
    {
     "name": "stdout",
     "output_type": "stream",
     "text": [
      "RP3betaRecommender: Similarity column 38121 (100.0%), 1921.57 column/sec. Elapsed time 19.84 sec\n",
      "EvaluatorHoldout: Ignoring 173 ( 0.5%) Users that have less than 1 test interactions\n",
      "EvaluatorHoldout: Processed 35563 (100.0%) in 33.29 sec. Users per second: 1068\n",
      "RP3betaRecommender: Similarity column 38121 (100.0%), 1885.70 column/sec. Elapsed time 20.22 sec\n",
      "EvaluatorHoldout: Ignoring 163 ( 0.5%) Users that have less than 1 test interactions\n",
      "EvaluatorHoldout: Processed 35573 (100.0%) in 33.37 sec. Users per second: 1066\n",
      "RP3betaRecommender: Similarity column 38121 (100.0%), 2037.50 column/sec. Elapsed time 18.71 sec\n",
      "EvaluatorHoldout: Ignoring 150 ( 0.4%) Users that have less than 1 test interactions\n",
      "EvaluatorHoldout: Processed 35586 (100.0%) in 33.37 sec. Users per second: 1066\n",
      "RP3betaRecommender: Similarity column 38121 (100.0%), 1934.82 column/sec. Elapsed time 19.70 sec\n",
      "EvaluatorHoldout: Ignoring 167 ( 0.5%) Users that have less than 1 test interactions\n",
      "EvaluatorHoldout: Processed 35569 (100.0%) in 33.36 sec. Users per second: 1066\n",
      "RP3betaRecommender: Similarity column 38121 (100.0%), 2041.71 column/sec. Elapsed time 18.67 sec\n",
      "EvaluatorHoldout: Ignoring 172 ( 0.5%) Users that have less than 1 test interactions\n",
      "EvaluatorHoldout: Processed 35564 (100.0%) in 33.17 sec. Users per second: 1072\n"
     ]
    },
    {
     "name": "stderr",
     "output_type": "stream",
     "text": [
      "[I 2025-01-06 07:29:40,248] Trial 391 finished with value: 0.05456350413122622 and parameters: {'topK': 25, 'alpha': 0.4452397442462894, 'beta': 0.19913083764508174, 'normalize_similarity': True, 'implicit': True}. Best is trial 229 with value: 0.0549701405549974.\n"
     ]
    },
    {
     "name": "stdout",
     "output_type": "stream",
     "text": [
      "RP3betaRecommender: Similarity column 38121 (100.0%), 1592.48 column/sec. Elapsed time 23.94 sec\n",
      "EvaluatorHoldout: Ignoring 173 ( 0.5%) Users that have less than 1 test interactions\n",
      "EvaluatorHoldout: Processed 35563 (100.0%) in 37.76 sec. Users per second: 942\n",
      "RP3betaRecommender: Similarity column 38121 (100.0%), 1598.79 column/sec. Elapsed time 23.84 sec\n",
      "EvaluatorHoldout: Ignoring 163 ( 0.5%) Users that have less than 1 test interactions\n",
      "EvaluatorHoldout: Processed 35573 (100.0%) in 38.17 sec. Users per second: 932\n",
      "RP3betaRecommender: Similarity column 38121 (100.0%), 1587.37 column/sec. Elapsed time 24.02 sec\n",
      "EvaluatorHoldout: Ignoring 150 ( 0.4%) Users that have less than 1 test interactions\n",
      "EvaluatorHoldout: Processed 35586 (100.0%) in 37.60 sec. Users per second: 946\n",
      "RP3betaRecommender: Similarity column 38121 (100.0%), 1589.43 column/sec. Elapsed time 23.98 sec\n",
      "EvaluatorHoldout: Ignoring 167 ( 0.5%) Users that have less than 1 test interactions\n",
      "EvaluatorHoldout: Processed 35569 (100.0%) in 38.06 sec. Users per second: 934\n",
      "RP3betaRecommender: Similarity column 38121 (100.0%), 1597.84 column/sec. Elapsed time 23.86 sec\n",
      "EvaluatorHoldout: Ignoring 172 ( 0.5%) Users that have less than 1 test interactions\n",
      "EvaluatorHoldout: Processed 35564 (100.0%) in 38.58 sec. Users per second: 922\n"
     ]
    },
    {
     "name": "stderr",
     "output_type": "stream",
     "text": [
      "[I 2025-01-06 07:35:17,472] Trial 392 finished with value: 0.0489333655528126 and parameters: {'topK': 126, 'alpha': 0.48431001637464755, 'beta': 0.19470750430948244, 'normalize_similarity': True, 'implicit': True}. Best is trial 229 with value: 0.0549701405549974.\n"
     ]
    },
    {
     "name": "stdout",
     "output_type": "stream",
     "text": [
      "RP3betaRecommender: Similarity column 38121 (100.0%), 2044.57 column/sec. Elapsed time 18.64 sec\n",
      "EvaluatorHoldout: Ignoring 173 ( 0.5%) Users that have less than 1 test interactions\n",
      "EvaluatorHoldout: Processed 35563 (100.0%) in 32.42 sec. Users per second: 1097\n",
      "RP3betaRecommender: Similarity column 38121 (100.0%), 2065.31 column/sec. Elapsed time 18.46 sec\n",
      "EvaluatorHoldout: Ignoring 163 ( 0.5%) Users that have less than 1 test interactions\n",
      "EvaluatorHoldout: Processed 35573 (100.0%) in 32.55 sec. Users per second: 1093\n",
      "RP3betaRecommender: Similarity column 38121 (100.0%), 2054.18 column/sec. Elapsed time 18.56 sec\n",
      "EvaluatorHoldout: Ignoring 150 ( 0.4%) Users that have less than 1 test interactions\n",
      "EvaluatorHoldout: Processed 35586 (100.0%) in 32.48 sec. Users per second: 1096\n",
      "RP3betaRecommender: Similarity column 38121 (100.0%), 2097.72 column/sec. Elapsed time 18.17 sec\n",
      "EvaluatorHoldout: Ignoring 167 ( 0.5%) Users that have less than 1 test interactions\n",
      "EvaluatorHoldout: Processed 35569 (100.0%) in 32.24 sec. Users per second: 1103\n",
      "RP3betaRecommender: Similarity column 38121 (100.0%), 2117.10 column/sec. Elapsed time 18.01 sec\n",
      "EvaluatorHoldout: Ignoring 172 ( 0.5%) Users that have less than 1 test interactions\n",
      "EvaluatorHoldout: Processed 35564 (100.0%) in 33.46 sec. Users per second: 1063\n"
     ]
    },
    {
     "name": "stderr",
     "output_type": "stream",
     "text": [
      "[I 2025-01-06 07:39:39,750] Trial 393 finished with value: 0.054373606236648796 and parameters: {'topK': 23, 'alpha': 0.44028738844141746, 'beta': 0.10431829962087244, 'normalize_similarity': True, 'implicit': True}. Best is trial 229 with value: 0.0549701405549974.\n"
     ]
    },
    {
     "name": "stdout",
     "output_type": "stream",
     "text": [
      "RP3betaRecommender: Similarity column 38121 (100.0%), 701.60 column/sec. Elapsed time 54.33 sec\n",
      "EvaluatorHoldout: Ignoring 173 ( 0.5%) Users that have less than 1 test interactions\n",
      "EvaluatorHoldout: Processed 35563 (100.0%) in 47.49 sec. Users per second: 749\n",
      "RP3betaRecommender: Similarity column 38121 (100.0%), 695.38 column/sec. Elapsed time 54.82 sec\n",
      "EvaluatorHoldout: Ignoring 163 ( 0.5%) Users that have less than 1 test interactions\n",
      "EvaluatorHoldout: Processed 35573 (100.0%) in 47.50 sec. Users per second: 749\n",
      "RP3betaRecommender: Similarity column 38121 (100.0%), 695.80 column/sec. Elapsed time 54.79 sec\n",
      "EvaluatorHoldout: Ignoring 150 ( 0.4%) Users that have less than 1 test interactions\n",
      "EvaluatorHoldout: Processed 35586 (100.0%) in 47.48 sec. Users per second: 749\n",
      "RP3betaRecommender: Similarity column 38121 (100.0%), 700.12 column/sec. Elapsed time 54.45 sec\n",
      "EvaluatorHoldout: Ignoring 167 ( 0.5%) Users that have less than 1 test interactions\n",
      "EvaluatorHoldout: Processed 35569 (100.0%) in 47.26 sec. Users per second: 753\n",
      "RP3betaRecommender: Similarity column 38121 (100.0%), 695.85 column/sec. Elapsed time 54.78 sec\n",
      "EvaluatorHoldout: Ignoring 172 ( 0.5%) Users that have less than 1 test interactions\n",
      "EvaluatorHoldout: Processed 35564 (100.0%) in 47.48 sec. Users per second: 749\n"
     ]
    },
    {
     "name": "stderr",
     "output_type": "stream",
     "text": [
      "[I 2025-01-06 07:50:17,021] Trial 394 finished with value: 0.036207264694276334 and parameters: {'topK': 654, 'alpha': 0.3598127078436755, 'beta': 0.003611683431814061, 'normalize_similarity': True, 'implicit': True}. Best is trial 229 with value: 0.0549701405549974.\n"
     ]
    },
    {
     "name": "stdout",
     "output_type": "stream",
     "text": [
      "RP3betaRecommender: Similarity column 38121 (100.0%), 2887.95 column/sec. Elapsed time 13.20 sec\n",
      "EvaluatorHoldout: Ignoring 173 ( 0.5%) Users that have less than 1 test interactions\n",
      "EvaluatorHoldout: Processed 35563 (100.0%) in 27.52 sec. Users per second: 1292\n",
      "RP3betaRecommender: Similarity column 38121 (100.0%), 2928.90 column/sec. Elapsed time 13.02 sec\n",
      "EvaluatorHoldout: Ignoring 163 ( 0.5%) Users that have less than 1 test interactions\n",
      "EvaluatorHoldout: Processed 35573 (100.0%) in 27.74 sec. Users per second: 1282\n",
      "RP3betaRecommender: Similarity column 38121 (100.0%), 2846.74 column/sec. Elapsed time 13.39 sec\n",
      "EvaluatorHoldout: Ignoring 150 ( 0.4%) Users that have less than 1 test interactions\n",
      "EvaluatorHoldout: Processed 35586 (100.0%) in 27.74 sec. Users per second: 1283\n",
      "RP3betaRecommender: Similarity column 38121 (100.0%), 2925.57 column/sec. Elapsed time 13.03 sec\n",
      "EvaluatorHoldout: Ignoring 167 ( 0.5%) Users that have less than 1 test interactions\n",
      "EvaluatorHoldout: Processed 35569 (100.0%) in 27.59 sec. Users per second: 1289\n",
      "RP3betaRecommender: Similarity column 38121 (100.0%), 2877.59 column/sec. Elapsed time 13.25 sec\n",
      "EvaluatorHoldout: Ignoring 172 ( 0.5%) Users that have less than 1 test interactions\n",
      "EvaluatorHoldout: Processed 35564 (100.0%) in 27.64 sec. Users per second: 1287\n"
     ]
    },
    {
     "name": "stderr",
     "output_type": "stream",
     "text": [
      "[I 2025-01-06 07:53:45,053] Trial 395 finished with value: 0.019901541905074305 and parameters: {'topK': 1, 'alpha': 0.4158888821939648, 'beta': 0.08203518756185312, 'normalize_similarity': True, 'implicit': True}. Best is trial 229 with value: 0.0549701405549974.\n"
     ]
    },
    {
     "name": "stdout",
     "output_type": "stream",
     "text": [
      "RP3betaRecommender: Similarity column 38121 (100.0%), 1977.98 column/sec. Elapsed time 19.27 sec\n",
      "EvaluatorHoldout: Ignoring 173 ( 0.5%) Users that have less than 1 test interactions\n",
      "EvaluatorHoldout: Processed 35563 (100.0%) in 33.93 sec. Users per second: 1048\n",
      "RP3betaRecommender: Similarity column 38121 (100.0%), 1791.80 column/sec. Elapsed time 21.28 sec\n",
      "EvaluatorHoldout: Ignoring 163 ( 0.5%) Users that have less than 1 test interactions\n",
      "EvaluatorHoldout: Processed 35573 (100.0%) in 34.41 sec. Users per second: 1034\n",
      "RP3betaRecommender: Similarity column 38121 (100.0%), 1937.72 column/sec. Elapsed time 19.67 sec\n",
      "EvaluatorHoldout: Ignoring 150 ( 0.4%) Users that have less than 1 test interactions\n",
      "EvaluatorHoldout: Processed 35586 (100.0%) in 34.01 sec. Users per second: 1046\n",
      "RP3betaRecommender: Similarity column 38121 (100.0%), 1939.04 column/sec. Elapsed time 19.66 sec\n",
      "EvaluatorHoldout: Ignoring 167 ( 0.5%) Users that have less than 1 test interactions\n",
      "EvaluatorHoldout: Processed 35569 (100.0%) in 34.21 sec. Users per second: 1040\n",
      "RP3betaRecommender: Similarity column 38121 (100.0%), 1913.24 column/sec. Elapsed time 19.92 sec\n",
      "EvaluatorHoldout: Ignoring 172 ( 0.5%) Users that have less than 1 test interactions\n",
      "EvaluatorHoldout: Processed 35564 (100.0%) in 34.85 sec. Users per second: 1020\n"
     ]
    },
    {
     "name": "stderr",
     "output_type": "stream",
     "text": [
      "[I 2025-01-06 07:58:27,426] Trial 396 finished with value: 0.0524088680514076 and parameters: {'topK': 46, 'alpha': 0.30095662366156656, 'beta': 0.12459247614216828, 'normalize_similarity': True, 'implicit': True}. Best is trial 229 with value: 0.0549701405549974.\n"
     ]
    },
    {
     "name": "stdout",
     "output_type": "stream",
     "text": [
      "RP3betaRecommender: Similarity column 38121 (100.0%), 607.22 column/sec. Elapsed time 1.05 min\n",
      "EvaluatorHoldout: Ignoring 173 ( 0.5%) Users that have less than 1 test interactions\n",
      "EvaluatorHoldout: Processed 35563 (100.0%) in 54.34 sec. Users per second: 654\n",
      "RP3betaRecommender: Similarity column 38121 (100.0%), 584.90 column/sec. Elapsed time 1.09 min\n",
      "EvaluatorHoldout: Ignoring 163 ( 0.5%) Users that have less than 1 test interactions\n",
      "EvaluatorHoldout: Processed 35573 (100.0%) in 51.46 sec. Users per second: 691\n",
      "RP3betaRecommender: Similarity column 38121 (100.0%), 606.55 column/sec. Elapsed time 1.05 min\n",
      "EvaluatorHoldout: Ignoring 150 ( 0.4%) Users that have less than 1 test interactions\n",
      "EvaluatorHoldout: Processed 35586 (100.0%) in 52.07 sec. Users per second: 683\n",
      "RP3betaRecommender: Similarity column 38121 (100.0%), 614.00 column/sec. Elapsed time 1.03 min\n",
      "EvaluatorHoldout: Ignoring 167 ( 0.5%) Users that have less than 1 test interactions\n",
      "EvaluatorHoldout: Processed 35569 (100.0%) in 51.93 sec. Users per second: 685\n",
      "RP3betaRecommender: Similarity column 38121 (100.0%), 609.35 column/sec. Elapsed time 1.04 min\n",
      "EvaluatorHoldout: Ignoring 172 ( 0.5%) Users that have less than 1 test interactions\n",
      "EvaluatorHoldout: Processed 35564 (100.0%) in 51.52 sec. Users per second: 690\n"
     ]
    },
    {
     "name": "stderr",
     "output_type": "stream",
     "text": [
      "[I 2025-01-06 08:10:47,486] Trial 397 finished with value: 0.03744689164613541 and parameters: {'topK': 823, 'alpha': 0.5299070010084546, 'beta': 0.06263394198463378, 'normalize_similarity': True, 'implicit': True}. Best is trial 229 with value: 0.0549701405549974.\n"
     ]
    },
    {
     "name": "stdout",
     "output_type": "stream",
     "text": [
      "RP3betaRecommender: Similarity column 38121 (100.0%), 1791.83 column/sec. Elapsed time 21.27 sec\n",
      "EvaluatorHoldout: Ignoring 173 ( 0.5%) Users that have less than 1 test interactions\n",
      "EvaluatorHoldout: Processed 35563 (100.0%) in 37.14 sec. Users per second: 958\n",
      "RP3betaRecommender: Similarity column 38121 (100.0%), 1759.49 column/sec. Elapsed time 21.67 sec\n",
      "EvaluatorHoldout: Ignoring 163 ( 0.5%) Users that have less than 1 test interactions\n",
      "EvaluatorHoldout: Processed 35573 (100.0%) in 37.18 sec. Users per second: 957\n",
      "RP3betaRecommender: Similarity column 38121 (100.0%), 1746.80 column/sec. Elapsed time 21.82 sec\n",
      "EvaluatorHoldout: Ignoring 150 ( 0.4%) Users that have less than 1 test interactions\n",
      "EvaluatorHoldout: Processed 35586 (100.0%) in 37.14 sec. Users per second: 958\n",
      "RP3betaRecommender: Similarity column 38121 (100.0%), 1745.00 column/sec. Elapsed time 21.85 sec\n",
      "EvaluatorHoldout: Ignoring 167 ( 0.5%) Users that have less than 1 test interactions\n",
      "EvaluatorHoldout: Processed 35569 (100.0%) in 36.74 sec. Users per second: 968\n",
      "RP3betaRecommender: Similarity column 38121 (100.0%), 1759.20 column/sec. Elapsed time 21.67 sec\n",
      "EvaluatorHoldout: Ignoring 172 ( 0.5%) Users that have less than 1 test interactions\n",
      "EvaluatorHoldout: Processed 35564 (100.0%) in 37.29 sec. Users per second: 954\n"
     ]
    },
    {
     "name": "stderr",
     "output_type": "stream",
     "text": [
      "[I 2025-01-06 08:16:01,194] Trial 398 finished with value: 0.04280752912529077 and parameters: {'topK': 81, 'alpha': 1.9856227535599462, 'beta': 0.15269422831175983, 'normalize_similarity': True, 'implicit': True}. Best is trial 229 with value: 0.0549701405549974.\n"
     ]
    },
    {
     "name": "stdout",
     "output_type": "stream",
     "text": [
      "RP3betaRecommender: Similarity column 38121 (100.0%), 2052.54 column/sec. Elapsed time 18.57 sec\n",
      "EvaluatorHoldout: Ignoring 173 ( 0.5%) Users that have less than 1 test interactions\n",
      "EvaluatorHoldout: Processed 35563 (100.0%) in 32.88 sec. Users per second: 1082\n",
      "RP3betaRecommender: Similarity column 38121 (100.0%), 2056.65 column/sec. Elapsed time 18.54 sec\n",
      "EvaluatorHoldout: Ignoring 163 ( 0.5%) Users that have less than 1 test interactions\n",
      "EvaluatorHoldout: Processed 35573 (100.0%) in 33.10 sec. Users per second: 1075\n",
      "RP3betaRecommender: Similarity column 38121 (100.0%), 2052.49 column/sec. Elapsed time 18.57 sec\n",
      "EvaluatorHoldout: Ignoring 150 ( 0.4%) Users that have less than 1 test interactions\n",
      "EvaluatorHoldout: Processed 35586 (100.0%) in 33.04 sec. Users per second: 1077\n",
      "RP3betaRecommender: Similarity column 38121 (100.0%), 2071.46 column/sec. Elapsed time 18.40 sec\n",
      "EvaluatorHoldout: Ignoring 167 ( 0.5%) Users that have less than 1 test interactions\n",
      "EvaluatorHoldout: Processed 35569 (100.0%) in 32.90 sec. Users per second: 1081\n",
      "RP3betaRecommender: Similarity column 38121 (100.0%), 2101.64 column/sec. Elapsed time 18.14 sec\n",
      "EvaluatorHoldout: Ignoring 172 ( 0.5%) Users that have less than 1 test interactions\n",
      "EvaluatorHoldout: Processed 35564 (100.0%) in 32.94 sec. Users per second: 1080\n"
     ]
    },
    {
     "name": "stderr",
     "output_type": "stream",
     "text": [
      "[I 2025-01-06 08:20:25,413] Trial 399 finished with value: 0.054491010939430505 and parameters: {'topK': 22, 'alpha': 0.4557098800538642, 'beta': 0.11157925739139235, 'normalize_similarity': True, 'implicit': True}. Best is trial 229 with value: 0.0549701405549974.\n"
     ]
    },
    {
     "name": "stdout",
     "output_type": "stream",
     "text": [
      "RP3betaRecommender: Similarity column 38121 (100.0%), 1904.77 column/sec. Elapsed time 20.01 sec\n",
      "EvaluatorHoldout: Ignoring 173 ( 0.5%) Users that have less than 1 test interactions\n",
      "EvaluatorHoldout: Processed 35563 (100.0%) in 34.88 sec. Users per second: 1020\n",
      "RP3betaRecommender: Similarity column 38121 (100.0%), 1894.04 column/sec. Elapsed time 20.13 sec\n",
      "EvaluatorHoldout: Ignoring 163 ( 0.5%) Users that have less than 1 test interactions\n",
      "EvaluatorHoldout: Processed 35573 (100.0%) in 35.00 sec. Users per second: 1016\n",
      "RP3betaRecommender: Similarity column 38121 (100.0%), 1860.05 column/sec. Elapsed time 20.49 sec\n",
      "EvaluatorHoldout: Ignoring 150 ( 0.4%) Users that have less than 1 test interactions\n",
      "EvaluatorHoldout: Processed 35586 (100.0%) in 35.44 sec. Users per second: 1004\n",
      "RP3betaRecommender: Similarity column 38121 (100.0%), 1903.33 column/sec. Elapsed time 20.03 sec\n",
      "EvaluatorHoldout: Ignoring 167 ( 0.5%) Users that have less than 1 test interactions\n",
      "EvaluatorHoldout: Processed 35569 (100.0%) in 35.05 sec. Users per second: 1015\n",
      "RP3betaRecommender: Similarity column 38121 (100.0%), 1911.42 column/sec. Elapsed time 19.94 sec\n",
      "EvaluatorHoldout: Ignoring 172 ( 0.5%) Users that have less than 1 test interactions\n",
      "EvaluatorHoldout: Processed 35564 (100.0%) in 34.29 sec. Users per second: 1037\n"
     ]
    },
    {
     "name": "stderr",
     "output_type": "stream",
     "text": [
      "[I 2025-01-06 08:25:12,280] Trial 400 finished with value: 0.04198662517258296 and parameters: {'topK': 51, 'alpha': 0.4261623687322452, 'beta': 0.06497018044715482, 'normalize_similarity': False, 'implicit': True}. Best is trial 229 with value: 0.0549701405549974.\n"
     ]
    },
    {
     "name": "stdout",
     "output_type": "stream",
     "text": [
      "RP3betaRecommender: Similarity column 38121 (100.0%), 1692.98 column/sec. Elapsed time 22.52 sec\n",
      "EvaluatorHoldout: Ignoring 173 ( 0.5%) Users that have less than 1 test interactions\n",
      "EvaluatorHoldout: Processed 35563 (100.0%) in 33.34 sec. Users per second: 1067\n",
      "RP3betaRecommender: Similarity column 38121 (100.0%), 1684.74 column/sec. Elapsed time 22.63 sec\n",
      "EvaluatorHoldout: Ignoring 163 ( 0.5%) Users that have less than 1 test interactions\n",
      "EvaluatorHoldout: Processed 35573 (100.0%) in 32.28 sec. Users per second: 1102\n",
      "RP3betaRecommender: Similarity column 38121 (100.0%), 1643.10 column/sec. Elapsed time 23.20 sec\n",
      "EvaluatorHoldout: Ignoring 150 ( 0.4%) Users that have less than 1 test interactions\n",
      "EvaluatorHoldout: Processed 35586 (100.0%) in 36.43 sec. Users per second: 977\n",
      "RP3betaRecommender: Similarity column 38121 (100.0%), 1699.73 column/sec. Elapsed time 22.43 sec\n",
      "EvaluatorHoldout: Ignoring 167 ( 0.5%) Users that have less than 1 test interactions\n",
      "EvaluatorHoldout: Processed 35569 (100.0%) in 36.04 sec. Users per second: 987\n",
      "RP3betaRecommender: Similarity column 38121 (100.0%), 1690.50 column/sec. Elapsed time 22.55 sec\n",
      "EvaluatorHoldout: Ignoring 172 ( 0.5%) Users that have less than 1 test interactions\n",
      "EvaluatorHoldout: Processed 35564 (100.0%) in 32.11 sec. Users per second: 1107\n"
     ]
    },
    {
     "name": "stderr",
     "output_type": "stream",
     "text": [
      "[I 2025-01-06 08:30:15,641] Trial 401 finished with value: 0.04883911893977798 and parameters: {'topK': 101, 'alpha': 0.23267605238981093, 'beta': 0.11654230590799172, 'normalize_similarity': True, 'implicit': True}. Best is trial 229 with value: 0.0549701405549974.\n"
     ]
    },
    {
     "name": "stdout",
     "output_type": "stream",
     "text": [
      "RP3betaRecommender: Similarity column 38121 (100.0%), 2816.85 column/sec. Elapsed time 13.53 sec\n",
      "EvaluatorHoldout: Ignoring 173 ( 0.5%) Users that have less than 1 test interactions\n",
      "EvaluatorHoldout: Processed 35563 (100.0%) in 27.59 sec. Users per second: 1289\n",
      "RP3betaRecommender: Similarity column 38121 (100.0%), 2797.43 column/sec. Elapsed time 13.63 sec\n",
      "EvaluatorHoldout: Ignoring 163 ( 0.5%) Users that have less than 1 test interactions\n",
      "EvaluatorHoldout: Processed 35573 (100.0%) in 28.37 sec. Users per second: 1254\n",
      "RP3betaRecommender: Similarity column 38121 (100.0%), 2792.66 column/sec. Elapsed time 13.65 sec\n",
      "EvaluatorHoldout: Ignoring 150 ( 0.4%) Users that have less than 1 test interactions\n",
      "EvaluatorHoldout: Processed 35586 (100.0%) in 27.93 sec. Users per second: 1274\n",
      "RP3betaRecommender: Similarity column 38121 (100.0%), 2795.90 column/sec. Elapsed time 13.63 sec\n",
      "EvaluatorHoldout: Ignoring 167 ( 0.5%) Users that have less than 1 test interactions\n",
      "EvaluatorHoldout: Processed 35569 (100.0%) in 27.87 sec. Users per second: 1276\n",
      "RP3betaRecommender: Similarity column 38121 (100.0%), 2781.99 column/sec. Elapsed time 13.70 sec\n",
      "EvaluatorHoldout: Ignoring 172 ( 0.5%) Users that have less than 1 test interactions\n",
      "EvaluatorHoldout: Processed 35564 (100.0%) in 27.89 sec. Users per second: 1275\n"
     ]
    },
    {
     "name": "stderr",
     "output_type": "stream",
     "text": [
      "[I 2025-01-06 08:33:47,363] Trial 402 finished with value: 0.019584515095539996 and parameters: {'topK': 1, 'alpha': 0.3737570152367327, 'beta': 0.17602617201885115, 'normalize_similarity': True, 'implicit': True}. Best is trial 229 with value: 0.0549701405549974.\n"
     ]
    },
    {
     "name": "stdout",
     "output_type": "stream",
     "text": [
      "RP3betaRecommender: Similarity column 38121 (100.0%), 2089.78 column/sec. Elapsed time 18.24 sec\n",
      "EvaluatorHoldout: Ignoring 173 ( 0.5%) Users that have less than 1 test interactions\n",
      "EvaluatorHoldout: Processed 35563 (100.0%) in 33.20 sec. Users per second: 1071\n",
      "RP3betaRecommender: Similarity column 38121 (100.0%), 1906.67 column/sec. Elapsed time 19.99 sec\n",
      "EvaluatorHoldout: Ignoring 163 ( 0.5%) Users that have less than 1 test interactions\n",
      "EvaluatorHoldout: Processed 35573 (100.0%) in 34.39 sec. Users per second: 1035\n",
      "RP3betaRecommender: Similarity column 38121 (100.0%), 2028.00 column/sec. Elapsed time 18.80 sec\n",
      "EvaluatorHoldout: Ignoring 150 ( 0.4%) Users that have less than 1 test interactions\n",
      "EvaluatorHoldout: Processed 35586 (100.0%) in 33.37 sec. Users per second: 1066\n",
      "RP3betaRecommender: Similarity column 38121 (100.0%), 2046.62 column/sec. Elapsed time 18.63 sec\n",
      "EvaluatorHoldout: Ignoring 167 ( 0.5%) Users that have less than 1 test interactions\n",
      "EvaluatorHoldout: Processed 35569 (100.0%) in 33.23 sec. Users per second: 1070\n",
      "RP3betaRecommender: Similarity column 38121 (100.0%), 2061.85 column/sec. Elapsed time 18.49 sec\n",
      "EvaluatorHoldout: Ignoring 172 ( 0.5%) Users that have less than 1 test interactions\n",
      "EvaluatorHoldout: Processed 35564 (100.0%) in 33.90 sec. Users per second: 1049\n"
     ]
    },
    {
     "name": "stderr",
     "output_type": "stream",
     "text": [
      "[I 2025-01-06 08:38:17,966] Trial 403 finished with value: 0.05452862685960928 and parameters: {'topK': 25, 'alpha': 0.4647937450610608, 'beta': 0.24151759979010046, 'normalize_similarity': True, 'implicit': True}. Best is trial 229 with value: 0.0549701405549974.\n"
     ]
    },
    {
     "name": "stdout",
     "output_type": "stream",
     "text": [
      "RP3betaRecommender: Similarity column 38121 (100.0%), 1870.14 column/sec. Elapsed time 20.38 sec\n",
      "EvaluatorHoldout: Ignoring 173 ( 0.5%) Users that have less than 1 test interactions\n",
      "EvaluatorHoldout: Processed 35563 (100.0%) in 35.35 sec. Users per second: 1006\n",
      "RP3betaRecommender: Similarity column 38121 (100.0%), 1860.97 column/sec. Elapsed time 20.48 sec\n",
      "EvaluatorHoldout: Ignoring 163 ( 0.5%) Users that have less than 1 test interactions\n",
      "EvaluatorHoldout: Processed 35573 (100.0%) in 35.22 sec. Users per second: 1010\n",
      "RP3betaRecommender: Similarity column 38121 (100.0%), 1854.64 column/sec. Elapsed time 20.55 sec\n",
      "EvaluatorHoldout: Ignoring 150 ( 0.4%) Users that have less than 1 test interactions\n",
      "EvaluatorHoldout: Processed 35586 (100.0%) in 35.75 sec. Users per second: 996\n",
      "RP3betaRecommender: Similarity column 38121 (100.0%), 1883.29 column/sec. Elapsed time 20.24 sec\n",
      "EvaluatorHoldout: Ignoring 167 ( 0.5%) Users that have less than 1 test interactions\n",
      "EvaluatorHoldout: Processed 35569 (100.0%) in 35.22 sec. Users per second: 1010\n",
      "RP3betaRecommender: Similarity column 38121 (100.0%), 1842.58 column/sec. Elapsed time 20.69 sec\n",
      "EvaluatorHoldout: Ignoring 172 ( 0.5%) Users that have less than 1 test interactions\n",
      "EvaluatorHoldout: Processed 35564 (100.0%) in 34.63 sec. Users per second: 1027\n"
     ]
    },
    {
     "name": "stderr",
     "output_type": "stream",
     "text": [
      "[I 2025-01-06 08:43:09,166] Trial 404 finished with value: 0.051821451383942715 and parameters: {'topK': 54, 'alpha': 0.4568582707370257, 'beta': 0.10948320917384471, 'normalize_similarity': True, 'implicit': True}. Best is trial 229 with value: 0.0549701405549974.\n"
     ]
    },
    {
     "name": "stdout",
     "output_type": "stream",
     "text": [
      "RP3betaRecommender: Similarity column 38121 (100.0%), 2002.62 column/sec. Elapsed time 19.04 sec\n",
      "EvaluatorHoldout: Ignoring 173 ( 0.5%) Users that have less than 1 test interactions\n",
      "EvaluatorHoldout: Processed 35563 (100.0%) in 34.25 sec. Users per second: 1038\n",
      "RP3betaRecommender: Similarity column 38121 (100.0%), 2034.59 column/sec. Elapsed time 18.74 sec\n",
      "EvaluatorHoldout: Ignoring 163 ( 0.5%) Users that have less than 1 test interactions\n",
      "EvaluatorHoldout: Processed 35573 (100.0%) in 33.81 sec. Users per second: 1052\n",
      "RP3betaRecommender: Similarity column 38121 (100.0%), 1990.51 column/sec. Elapsed time 19.15 sec\n",
      "EvaluatorHoldout: Ignoring 150 ( 0.4%) Users that have less than 1 test interactions\n",
      "EvaluatorHoldout: Processed 35586 (100.0%) in 34.00 sec. Users per second: 1047\n",
      "RP3betaRecommender: Similarity column 38121 (100.0%), 2027.38 column/sec. Elapsed time 18.80 sec\n",
      "EvaluatorHoldout: Ignoring 167 ( 0.5%) Users that have less than 1 test interactions\n",
      "EvaluatorHoldout: Processed 35569 (100.0%) in 33.70 sec. Users per second: 1055\n",
      "RP3betaRecommender: Similarity column 38121 (100.0%), 2000.01 column/sec. Elapsed time 19.06 sec\n",
      "EvaluatorHoldout: Ignoring 172 ( 0.5%) Users that have less than 1 test interactions\n",
      "EvaluatorHoldout: Processed 35564 (100.0%) in 34.35 sec. Users per second: 1035\n"
     ]
    },
    {
     "name": "stderr",
     "output_type": "stream",
     "text": [
      "[I 2025-01-06 08:47:43,393] Trial 405 finished with value: 0.05422185689411909 and parameters: {'topK': 29, 'alpha': 0.36547024443590664, 'beta': 0.2915545988504188, 'normalize_similarity': True, 'implicit': True}. Best is trial 229 with value: 0.0549701405549974.\n"
     ]
    },
    {
     "name": "stdout",
     "output_type": "stream",
     "text": [
      "RP3betaRecommender: Similarity column 38121 (100.0%), 2789.64 column/sec. Elapsed time 13.67 sec\n",
      "EvaluatorHoldout: Ignoring 173 ( 0.5%) Users that have less than 1 test interactions\n",
      "EvaluatorHoldout: Processed 35563 (100.0%) in 25.70 sec. Users per second: 1384\n",
      "RP3betaRecommender: Similarity column 38121 (100.0%), 2785.59 column/sec. Elapsed time 13.69 sec\n",
      "EvaluatorHoldout: Ignoring 163 ( 0.5%) Users that have less than 1 test interactions\n",
      "EvaluatorHoldout: Processed 35573 (100.0%) in 25.79 sec. Users per second: 1379\n",
      "RP3betaRecommender: Similarity column 38121 (100.0%), 2861.84 column/sec. Elapsed time 13.32 sec\n",
      "EvaluatorHoldout: Ignoring 150 ( 0.4%) Users that have less than 1 test interactions\n",
      "EvaluatorHoldout: Processed 35586 (100.0%) in 25.52 sec. Users per second: 1395\n",
      "RP3betaRecommender: Similarity column 38121 (100.0%), 2831.91 column/sec. Elapsed time 13.46 sec\n",
      "EvaluatorHoldout: Ignoring 167 ( 0.5%) Users that have less than 1 test interactions\n",
      "EvaluatorHoldout: Processed 35569 (100.0%) in 25.86 sec. Users per second: 1375\n",
      "RP3betaRecommender: Similarity column 38121 (100.0%), 2879.30 column/sec. Elapsed time 13.24 sec\n",
      "EvaluatorHoldout: Ignoring 172 ( 0.5%) Users that have less than 1 test interactions\n",
      "EvaluatorHoldout: Processed 35564 (100.0%) in 25.49 sec. Users per second: 1395\n"
     ]
    },
    {
     "name": "stderr",
     "output_type": "stream",
     "text": [
      "[I 2025-01-06 08:51:00,220] Trial 406 finished with value: 0.0002664826418719655 and parameters: {'topK': 0, 'alpha': 0.03972569265695042, 'beta': 0.04165478674259393, 'normalize_similarity': True, 'implicit': True}. Best is trial 229 with value: 0.0549701405549974.\n"
     ]
    },
    {
     "name": "stdout",
     "output_type": "stream",
     "text": [
      "RP3betaRecommender: Similarity column 38121 (100.0%), 1794.53 column/sec. Elapsed time 21.24 sec\n",
      "EvaluatorHoldout: Ignoring 173 ( 0.5%) Users that have less than 1 test interactions\n",
      "EvaluatorHoldout: Processed 35563 (100.0%) in 35.59 sec. Users per second: 999\n",
      "RP3betaRecommender: Similarity column 38121 (100.0%), 1847.38 column/sec. Elapsed time 20.64 sec\n",
      "EvaluatorHoldout: Ignoring 163 ( 0.5%) Users that have less than 1 test interactions\n",
      "EvaluatorHoldout: Processed 35573 (100.0%) in 35.80 sec. Users per second: 994\n",
      "RP3betaRecommender: Similarity column 38121 (100.0%), 1835.68 column/sec. Elapsed time 20.77 sec\n",
      "EvaluatorHoldout: Ignoring 150 ( 0.4%) Users that have less than 1 test interactions\n",
      "EvaluatorHoldout: Processed 35586 (100.0%) in 35.52 sec. Users per second: 1002\n",
      "RP3betaRecommender: Similarity column 38121 (100.0%), 1828.13 column/sec. Elapsed time 20.85 sec\n",
      "EvaluatorHoldout: Ignoring 167 ( 0.5%) Users that have less than 1 test interactions\n",
      "EvaluatorHoldout: Processed 35569 (100.0%) in 35.20 sec. Users per second: 1011\n",
      "RP3betaRecommender: Similarity column 38121 (100.0%), 1823.07 column/sec. Elapsed time 20.91 sec\n",
      "EvaluatorHoldout: Ignoring 172 ( 0.5%) Users that have less than 1 test interactions\n",
      "EvaluatorHoldout: Processed 35564 (100.0%) in 35.46 sec. Users per second: 1003\n"
     ]
    },
    {
     "name": "stderr",
     "output_type": "stream",
     "text": [
      "[I 2025-01-06 08:55:57,762] Trial 407 finished with value: 0.051571220817366294 and parameters: {'topK': 66, 'alpha': 0.4437662512162189, 'beta': 0.1806814731901318, 'normalize_similarity': True, 'implicit': True}. Best is trial 229 with value: 0.0549701405549974.\n"
     ]
    },
    {
     "name": "stdout",
     "output_type": "stream",
     "text": [
      "RP3betaRecommender: Similarity column 38121 (100.0%), 1945.62 column/sec. Elapsed time 19.59 sec\n",
      "EvaluatorHoldout: Ignoring 173 ( 0.5%) Users that have less than 1 test interactions\n",
      "EvaluatorHoldout: Processed 35563 (100.0%) in 34.35 sec. Users per second: 1035\n",
      "RP3betaRecommender: Similarity column 38121 (100.0%), 1925.89 column/sec. Elapsed time 19.79 sec\n",
      "EvaluatorHoldout: Ignoring 163 ( 0.5%) Users that have less than 1 test interactions\n",
      "EvaluatorHoldout: Processed 35573 (100.0%) in 34.51 sec. Users per second: 1031\n",
      "RP3betaRecommender: Similarity column 38121 (100.0%), 1935.01 column/sec. Elapsed time 19.70 sec\n",
      "EvaluatorHoldout: Ignoring 150 ( 0.4%) Users that have less than 1 test interactions\n",
      "EvaluatorHoldout: Processed 35586 (100.0%) in 34.78 sec. Users per second: 1023\n",
      "RP3betaRecommender: Similarity column 38121 (100.0%), 1864.41 column/sec. Elapsed time 20.45 sec\n",
      "EvaluatorHoldout: Ignoring 167 ( 0.5%) Users that have less than 1 test interactions\n",
      "EvaluatorHoldout: Processed 35569 (100.0%) in 34.63 sec. Users per second: 1027\n",
      "RP3betaRecommender: Similarity column 38121 (100.0%), 1909.07 column/sec. Elapsed time 19.97 sec\n",
      "EvaluatorHoldout: Ignoring 172 ( 0.5%) Users that have less than 1 test interactions\n",
      "EvaluatorHoldout: Processed 35564 (100.0%) in 34.71 sec. Users per second: 1025\n"
     ]
    },
    {
     "name": "stderr",
     "output_type": "stream",
     "text": [
      "[I 2025-01-06 09:00:42,533] Trial 408 finished with value: 0.052960442137944166 and parameters: {'topK': 46, 'alpha': 0.3237877223562095, 'beta': 0.2456944392817315, 'normalize_similarity': True, 'implicit': True}. Best is trial 229 with value: 0.0549701405549974.\n"
     ]
    },
    {
     "name": "stdout",
     "output_type": "stream",
     "text": [
      "RP3betaRecommender: Similarity column 38121 (100.0%), 1639.83 column/sec. Elapsed time 23.25 sec\n",
      "EvaluatorHoldout: Ignoring 173 ( 0.5%) Users that have less than 1 test interactions\n",
      "EvaluatorHoldout: Processed 35563 (100.0%) in 37.69 sec. Users per second: 943\n",
      "RP3betaRecommender: Similarity column 38121 (100.0%), 1639.40 column/sec. Elapsed time 23.25 sec\n",
      "EvaluatorHoldout: Ignoring 163 ( 0.5%) Users that have less than 1 test interactions\n",
      "EvaluatorHoldout: Processed 35573 (100.0%) in 37.24 sec. Users per second: 955\n",
      "RP3betaRecommender: Similarity column 38121 (100.0%), 1650.78 column/sec. Elapsed time 23.09 sec\n",
      "EvaluatorHoldout: Ignoring 150 ( 0.4%) Users that have less than 1 test interactions\n",
      "EvaluatorHoldout: Processed 35586 (100.0%) in 37.28 sec. Users per second: 955\n",
      "RP3betaRecommender: Similarity column 38121 (100.0%), 1652.95 column/sec. Elapsed time 23.06 sec\n",
      "EvaluatorHoldout: Ignoring 167 ( 0.5%) Users that have less than 1 test interactions\n",
      "EvaluatorHoldout: Processed 35569 (100.0%) in 37.16 sec. Users per second: 957\n",
      "RP3betaRecommender: Similarity column 38121 (100.0%), 1642.61 column/sec. Elapsed time 23.21 sec\n",
      "EvaluatorHoldout: Ignoring 172 ( 0.5%) Users that have less than 1 test interactions\n",
      "EvaluatorHoldout: Processed 35564 (100.0%) in 37.62 sec. Users per second: 945\n"
     ]
    },
    {
     "name": "stderr",
     "output_type": "stream",
     "text": [
      "[I 2025-01-06 09:06:09,416] Trial 409 finished with value: 0.04972051149971205 and parameters: {'topK': 108, 'alpha': 0.49872572238839447, 'beta': 0.21038861993931413, 'normalize_similarity': True, 'implicit': True}. Best is trial 229 with value: 0.0549701405549974.\n"
     ]
    },
    {
     "name": "stdout",
     "output_type": "stream",
     "text": [
      "RP3betaRecommender: Similarity column 38121 (100.0%), 2049.73 column/sec. Elapsed time 18.60 sec\n",
      "EvaluatorHoldout: Ignoring 173 ( 0.5%) Users that have less than 1 test interactions\n",
      "EvaluatorHoldout: Processed 35563 (100.0%) in 32.75 sec. Users per second: 1086\n",
      "RP3betaRecommender: Similarity column 38121 (100.0%), 2023.06 column/sec. Elapsed time 18.84 sec\n",
      "EvaluatorHoldout: Ignoring 163 ( 0.5%) Users that have less than 1 test interactions\n",
      "EvaluatorHoldout: Processed 35573 (100.0%) in 33.14 sec. Users per second: 1073\n",
      "RP3betaRecommender: Similarity column 38121 (100.0%), 2039.85 column/sec. Elapsed time 18.69 sec\n",
      "EvaluatorHoldout: Ignoring 150 ( 0.4%) Users that have less than 1 test interactions\n",
      "EvaluatorHoldout: Processed 35586 (100.0%) in 32.78 sec. Users per second: 1085\n",
      "RP3betaRecommender: Similarity column 38121 (100.0%), 1975.53 column/sec. Elapsed time 19.30 sec\n",
      "EvaluatorHoldout: Ignoring 167 ( 0.5%) Users that have less than 1 test interactions\n",
      "EvaluatorHoldout: Processed 35569 (100.0%) in 33.04 sec. Users per second: 1076\n",
      "RP3betaRecommender: Similarity column 38121 (100.0%), 2008.50 column/sec. Elapsed time 18.98 sec\n",
      "EvaluatorHoldout: Ignoring 172 ( 0.5%) Users that have less than 1 test interactions\n",
      "EvaluatorHoldout: Processed 35564 (100.0%) in 33.22 sec. Users per second: 1071\n"
     ]
    },
    {
     "name": "stderr",
     "output_type": "stream",
     "text": [
      "[I 2025-01-06 09:10:36,853] Trial 410 finished with value: 0.05429320006558552 and parameters: {'topK': 26, 'alpha': 0.3997827186151578, 'beta': 0.13360437904952777, 'normalize_similarity': True, 'implicit': True}. Best is trial 229 with value: 0.0549701405549974.\n"
     ]
    },
    {
     "name": "stdout",
     "output_type": "stream",
     "text": [
      "RP3betaRecommender: Similarity column 38121 (100.0%), 1803.04 column/sec. Elapsed time 21.14 sec\n",
      "EvaluatorHoldout: Ignoring 173 ( 0.5%) Users that have less than 1 test interactions\n",
      "EvaluatorHoldout: Processed 35563 (100.0%) in 37.54 sec. Users per second: 947\n",
      "RP3betaRecommender: Similarity column 38121 (100.0%), 1812.29 column/sec. Elapsed time 21.03 sec\n",
      "EvaluatorHoldout: Ignoring 163 ( 0.5%) Users that have less than 1 test interactions\n",
      "EvaluatorHoldout: Processed 35573 (100.0%) in 36.59 sec. Users per second: 972\n",
      "RP3betaRecommender: Similarity column 38121 (100.0%), 1762.22 column/sec. Elapsed time 21.63 sec\n",
      "EvaluatorHoldout: Ignoring 150 ( 0.4%) Users that have less than 1 test interactions\n",
      "EvaluatorHoldout: Processed 35586 (100.0%) in 36.82 sec. Users per second: 967\n",
      "RP3betaRecommender: Similarity column 38121 (100.0%), 1792.63 column/sec. Elapsed time 21.27 sec\n",
      "EvaluatorHoldout: Ignoring 167 ( 0.5%) Users that have less than 1 test interactions\n",
      "EvaluatorHoldout: Processed 35569 (100.0%) in 35.84 sec. Users per second: 992\n",
      "RP3betaRecommender: Similarity column 38121 (100.0%), 1813.18 column/sec. Elapsed time 21.02 sec\n",
      "EvaluatorHoldout: Ignoring 172 ( 0.5%) Users that have less than 1 test interactions\n",
      "EvaluatorHoldout: Processed 35564 (100.0%) in 36.29 sec. Users per second: 980\n"
     ]
    },
    {
     "name": "stderr",
     "output_type": "stream",
     "text": [
      "[I 2025-01-06 09:15:43,805] Trial 411 finished with value: 0.05136668148280946 and parameters: {'topK': 71, 'alpha': 0.28652016518339335, 'beta': 0.3376078032629213, 'normalize_similarity': True, 'implicit': True}. Best is trial 229 with value: 0.0549701405549974.\n"
     ]
    },
    {
     "name": "stdout",
     "output_type": "stream",
     "text": [
      "RP3betaRecommender: Similarity column 38121 (100.0%), 1910.04 column/sec. Elapsed time 19.96 sec\n",
      "EvaluatorHoldout: Ignoring 173 ( 0.5%) Users that have less than 1 test interactions\n",
      "EvaluatorHoldout: Processed 35563 (100.0%) in 33.12 sec. Users per second: 1074\n",
      "RP3betaRecommender: Similarity column 38121 (100.0%), 2052.50 column/sec. Elapsed time 18.57 sec\n",
      "EvaluatorHoldout: Ignoring 163 ( 0.5%) Users that have less than 1 test interactions\n",
      "EvaluatorHoldout: Processed 35573 (100.0%) in 33.48 sec. Users per second: 1062\n",
      "RP3betaRecommender: Similarity column 38121 (100.0%), 2084.53 column/sec. Elapsed time 18.29 sec\n",
      "EvaluatorHoldout: Ignoring 150 ( 0.4%) Users that have less than 1 test interactions\n",
      "EvaluatorHoldout: Processed 35586 (100.0%) in 33.68 sec. Users per second: 1056\n",
      "RP3betaRecommender: Similarity column 38121 (100.0%), 2054.67 column/sec. Elapsed time 18.55 sec\n",
      "EvaluatorHoldout: Ignoring 167 ( 0.5%) Users that have less than 1 test interactions\n",
      "EvaluatorHoldout: Processed 35569 (100.0%) in 33.37 sec. Users per second: 1066\n",
      "RP3betaRecommender: Similarity column 38121 (100.0%), 2068.50 column/sec. Elapsed time 18.43 sec\n",
      "EvaluatorHoldout: Ignoring 172 ( 0.5%) Users that have less than 1 test interactions\n",
      "EvaluatorHoldout: Processed 35564 (100.0%) in 33.63 sec. Users per second: 1057\n"
     ]
    },
    {
     "name": "stderr",
     "output_type": "stream",
     "text": [
      "[I 2025-01-06 09:20:13,077] Trial 412 finished with value: 0.05456698129893446 and parameters: {'topK': 24, 'alpha': 0.4846653083568613, 'beta': 0.25212310423295087, 'normalize_similarity': True, 'implicit': True}. Best is trial 229 with value: 0.0549701405549974.\n"
     ]
    },
    {
     "name": "stdout",
     "output_type": "stream",
     "text": [
      "RP3betaRecommender: Similarity column 38121 (100.0%), 1496.32 column/sec. Elapsed time 25.48 sec\n",
      "EvaluatorHoldout: Ignoring 173 ( 0.5%) Users that have less than 1 test interactions\n",
      "EvaluatorHoldout: Processed 35563 (100.0%) in 39.40 sec. Users per second: 903\n",
      "RP3betaRecommender: Similarity column 38121 (100.0%), 1472.76 column/sec. Elapsed time 25.88 sec\n",
      "EvaluatorHoldout: Ignoring 163 ( 0.5%) Users that have less than 1 test interactions\n",
      "EvaluatorHoldout: Processed 35573 (100.0%) in 39.44 sec. Users per second: 902\n",
      "RP3betaRecommender: Similarity column 38121 (100.0%), 1473.68 column/sec. Elapsed time 25.87 sec\n",
      "EvaluatorHoldout: Ignoring 150 ( 0.4%) Users that have less than 1 test interactions\n",
      "EvaluatorHoldout: Processed 35586 (100.0%) in 39.31 sec. Users per second: 905\n",
      "RP3betaRecommender: Similarity column 38121 (100.0%), 1459.71 column/sec. Elapsed time 26.12 sec\n",
      "EvaluatorHoldout: Ignoring 167 ( 0.5%) Users that have less than 1 test interactions\n",
      "EvaluatorHoldout: Processed 35569 (100.0%) in 39.28 sec. Users per second: 906\n",
      "RP3betaRecommender: Similarity column 38121 (100.0%), 1481.65 column/sec. Elapsed time 25.73 sec\n",
      "EvaluatorHoldout: Ignoring 172 ( 0.5%) Users that have less than 1 test interactions\n",
      "EvaluatorHoldout: Processed 35564 (100.0%) in 39.59 sec. Users per second: 898\n"
     ]
    },
    {
     "name": "stderr",
     "output_type": "stream",
     "text": [
      "[I 2025-01-06 09:26:15,286] Trial 413 finished with value: 0.04878355564701278 and parameters: {'topK': 159, 'alpha': 0.4511645217167037, 'beta': 0.29880633897487274, 'normalize_similarity': True, 'implicit': True}. Best is trial 229 with value: 0.0549701405549974.\n"
     ]
    },
    {
     "name": "stdout",
     "output_type": "stream",
     "text": [
      "RP3betaRecommender: Similarity column 38121 (100.0%), 1711.44 column/sec. Elapsed time 22.27 sec\n",
      "EvaluatorHoldout: Ignoring 173 ( 0.5%) Users that have less than 1 test interactions\n",
      "EvaluatorHoldout: Processed 35563 (100.0%) in 37.63 sec. Users per second: 945\n",
      "RP3betaRecommender: Similarity column 38121 (100.0%), 1719.26 column/sec. Elapsed time 22.17 sec\n",
      "EvaluatorHoldout: Ignoring 163 ( 0.5%) Users that have less than 1 test interactions\n",
      "EvaluatorHoldout: Processed 35573 (100.0%) in 37.62 sec. Users per second: 946\n",
      "RP3betaRecommender: Similarity column 38121 (100.0%), 1710.58 column/sec. Elapsed time 22.29 sec\n",
      "EvaluatorHoldout: Ignoring 150 ( 0.4%) Users that have less than 1 test interactions\n",
      "EvaluatorHoldout: Processed 35586 (100.0%) in 37.52 sec. Users per second: 948\n",
      "RP3betaRecommender: Similarity column 38121 (100.0%), 1696.66 column/sec. Elapsed time 22.47 sec\n",
      "EvaluatorHoldout: Ignoring 167 ( 0.5%) Users that have less than 1 test interactions\n",
      "EvaluatorHoldout: Processed 35569 (100.0%) in 37.69 sec. Users per second: 944\n",
      "RP3betaRecommender: Similarity column 38121 (100.0%), 1701.64 column/sec. Elapsed time 22.40 sec\n",
      "EvaluatorHoldout: Ignoring 172 ( 0.5%) Users that have less than 1 test interactions\n",
      "EvaluatorHoldout: Processed 35564 (100.0%) in 37.66 sec. Users per second: 944\n"
     ]
    },
    {
     "name": "stderr",
     "output_type": "stream",
     "text": [
      "[I 2025-01-06 09:31:38,462] Trial 414 finished with value: 0.05056495826490104 and parameters: {'topK': 94, 'alpha': 0.5038401545997431, 'beta': 0.3622731591271479, 'normalize_similarity': True, 'implicit': True}. Best is trial 229 with value: 0.0549701405549974.\n"
     ]
    },
    {
     "name": "stdout",
     "output_type": "stream",
     "text": [
      "RP3betaRecommender: Similarity column 38121 (100.0%), 2015.38 column/sec. Elapsed time 18.92 sec\n",
      "EvaluatorHoldout: Ignoring 173 ( 0.5%) Users that have less than 1 test interactions\n",
      "EvaluatorHoldout: Processed 35563 (100.0%) in 33.06 sec. Users per second: 1076\n",
      "RP3betaRecommender: Similarity column 38121 (100.0%), 2001.85 column/sec. Elapsed time 19.04 sec\n",
      "EvaluatorHoldout: Ignoring 163 ( 0.5%) Users that have less than 1 test interactions\n",
      "EvaluatorHoldout: Processed 35573 (100.0%) in 33.37 sec. Users per second: 1066\n",
      "RP3betaRecommender: Similarity column 38121 (100.0%), 2057.93 column/sec. Elapsed time 18.52 sec\n",
      "EvaluatorHoldout: Ignoring 150 ( 0.4%) Users that have less than 1 test interactions\n",
      "EvaluatorHoldout: Processed 35586 (100.0%) in 33.32 sec. Users per second: 1068\n",
      "RP3betaRecommender: Similarity column 38121 (100.0%), 2045.56 column/sec. Elapsed time 18.64 sec\n",
      "EvaluatorHoldout: Ignoring 167 ( 0.5%) Users that have less than 1 test interactions\n",
      "EvaluatorHoldout: Processed 35569 (100.0%) in 33.37 sec. Users per second: 1066\n",
      "RP3betaRecommender: Similarity column 38121 (100.0%), 2085.08 column/sec. Elapsed time 18.28 sec\n",
      "EvaluatorHoldout: Ignoring 172 ( 0.5%) Users that have less than 1 test interactions\n",
      "EvaluatorHoldout: Processed 35564 (100.0%) in 33.25 sec. Users per second: 1070\n"
     ]
    },
    {
     "name": "stderr",
     "output_type": "stream",
     "text": [
      "[I 2025-01-06 09:36:06,516] Trial 415 finished with value: 0.05467231106559067 and parameters: {'topK': 23, 'alpha': 0.39262069958413154, 'beta': 0.26455558865624246, 'normalize_similarity': True, 'implicit': True}. Best is trial 229 with value: 0.0549701405549974.\n"
     ]
    },
    {
     "name": "stdout",
     "output_type": "stream",
     "text": [
      "RP3betaRecommender: Similarity column 38121 (100.0%), 2800.06 column/sec. Elapsed time 13.61 sec\n",
      "EvaluatorHoldout: Ignoring 173 ( 0.5%) Users that have less than 1 test interactions\n",
      "EvaluatorHoldout: Processed 35563 (100.0%) in 27.80 sec. Users per second: 1279\n",
      "RP3betaRecommender: Similarity column 38121 (100.0%), 2836.73 column/sec. Elapsed time 13.44 sec\n",
      "EvaluatorHoldout: Ignoring 163 ( 0.5%) Users that have less than 1 test interactions\n",
      "EvaluatorHoldout: Processed 35573 (100.0%) in 28.04 sec. Users per second: 1269\n",
      "RP3betaRecommender: Similarity column 38121 (100.0%), 2810.38 column/sec. Elapsed time 13.56 sec\n",
      "EvaluatorHoldout: Ignoring 150 ( 0.4%) Users that have less than 1 test interactions\n",
      "EvaluatorHoldout: Processed 35586 (100.0%) in 28.28 sec. Users per second: 1259\n",
      "RP3betaRecommender: Similarity column 38121 (100.0%), 2730.72 column/sec. Elapsed time 13.96 sec\n",
      "EvaluatorHoldout: Ignoring 167 ( 0.5%) Users that have less than 1 test interactions\n",
      "EvaluatorHoldout: Processed 35569 (100.0%) in 28.40 sec. Users per second: 1253\n",
      "RP3betaRecommender: Similarity column 38121 (100.0%), 2783.63 column/sec. Elapsed time 13.69 sec\n",
      "EvaluatorHoldout: Ignoring 172 ( 0.5%) Users that have less than 1 test interactions\n",
      "EvaluatorHoldout: Processed 35564 (100.0%) in 28.74 sec. Users per second: 1237\n"
     ]
    },
    {
     "name": "stderr",
     "output_type": "stream",
     "text": [
      "[I 2025-01-06 09:39:40,045] Trial 416 finished with value: 0.019200658012976865 and parameters: {'topK': 1, 'alpha': 0.36513515119227313, 'beta': 0.2690463996312539, 'normalize_similarity': True, 'implicit': True}. Best is trial 229 with value: 0.0549701405549974.\n"
     ]
    },
    {
     "name": "stdout",
     "output_type": "stream",
     "text": [
      "RP3betaRecommender: Similarity column 38121 (100.0%), 1919.98 column/sec. Elapsed time 19.85 sec\n",
      "EvaluatorHoldout: Ignoring 173 ( 0.5%) Users that have less than 1 test interactions\n",
      "EvaluatorHoldout: Processed 35563 (100.0%) in 35.20 sec. Users per second: 1010\n",
      "RP3betaRecommender: Similarity column 38121 (100.0%), 1909.40 column/sec. Elapsed time 19.96 sec\n",
      "EvaluatorHoldout: Ignoring 163 ( 0.5%) Users that have less than 1 test interactions\n",
      "EvaluatorHoldout: Processed 35573 (100.0%) in 35.62 sec. Users per second: 999\n",
      "RP3betaRecommender: Similarity column 38121 (100.0%), 1918.93 column/sec. Elapsed time 19.87 sec\n",
      "EvaluatorHoldout: Ignoring 150 ( 0.4%) Users that have less than 1 test interactions\n",
      "EvaluatorHoldout: Processed 35586 (100.0%) in 35.37 sec. Users per second: 1006\n",
      "RP3betaRecommender: Similarity column 38121 (100.0%), 1910.74 column/sec. Elapsed time 19.95 sec\n",
      "EvaluatorHoldout: Ignoring 167 ( 0.5%) Users that have less than 1 test interactions\n",
      "EvaluatorHoldout: Processed 35569 (100.0%) in 35.03 sec. Users per second: 1015\n",
      "RP3betaRecommender: Similarity column 38121 (100.0%), 1923.64 column/sec. Elapsed time 19.82 sec\n",
      "EvaluatorHoldout: Ignoring 172 ( 0.5%) Users that have less than 1 test interactions\n",
      "EvaluatorHoldout: Processed 35564 (100.0%) in 35.28 sec. Users per second: 1008\n"
     ]
    },
    {
     "name": "stderr",
     "output_type": "stream",
     "text": [
      "[I 2025-01-06 09:44:29,061] Trial 417 finished with value: 0.03833832518023366 and parameters: {'topK': 50, 'alpha': 0.24934722543879495, 'beta': 0.7982328445224854, 'normalize_similarity': True, 'implicit': True}. Best is trial 229 with value: 0.0549701405549974.\n"
     ]
    },
    {
     "name": "stdout",
     "output_type": "stream",
     "text": [
      "RP3betaRecommender: Similarity column 38121 (100.0%), 1850.58 column/sec. Elapsed time 20.60 sec\n",
      "EvaluatorHoldout: Ignoring 173 ( 0.5%) Users that have less than 1 test interactions\n",
      "EvaluatorHoldout: Processed 35563 (100.0%) in 36.44 sec. Users per second: 976\n",
      "RP3betaRecommender: Similarity column 38121 (100.0%), 1819.63 column/sec. Elapsed time 20.95 sec\n",
      "EvaluatorHoldout: Ignoring 163 ( 0.5%) Users that have less than 1 test interactions\n",
      "EvaluatorHoldout: Processed 35573 (100.0%) in 35.90 sec. Users per second: 991\n",
      "RP3betaRecommender: Similarity column 38121 (100.0%), 1882.53 column/sec. Elapsed time 20.25 sec\n",
      "EvaluatorHoldout: Ignoring 150 ( 0.4%) Users that have less than 1 test interactions\n",
      "EvaluatorHoldout: Processed 35586 (100.0%) in 36.67 sec. Users per second: 970\n",
      "RP3betaRecommender: Similarity column 38121 (100.0%), 1779.65 column/sec. Elapsed time 21.42 sec\n",
      "EvaluatorHoldout: Ignoring 167 ( 0.5%) Users that have less than 1 test interactions\n",
      "EvaluatorHoldout: Processed 35569 (100.0%) in 36.40 sec. Users per second: 977\n",
      "RP3betaRecommender: Similarity column 38121 (100.0%), 1837.14 column/sec. Elapsed time 20.75 sec\n",
      "EvaluatorHoldout: Ignoring 172 ( 0.5%) Users that have less than 1 test interactions\n",
      "EvaluatorHoldout: Processed 35564 (100.0%) in 36.32 sec. Users per second: 979\n"
     ]
    },
    {
     "name": "stderr",
     "output_type": "stream",
     "text": [
      "[I 2025-01-06 09:49:32,229] Trial 418 finished with value: 0.05156753545888163 and parameters: {'topK': 66, 'alpha': 0.34554179993309997, 'beta': 0.369300900568355, 'normalize_similarity': True, 'implicit': True}. Best is trial 229 with value: 0.0549701405549974.\n"
     ]
    },
    {
     "name": "stdout",
     "output_type": "stream",
     "text": [
      "RP3betaRecommender: Similarity column 38121 (100.0%), 2064.99 column/sec. Elapsed time 18.46 sec\n",
      "EvaluatorHoldout: Ignoring 173 ( 0.5%) Users that have less than 1 test interactions\n",
      "EvaluatorHoldout: Processed 35563 (100.0%) in 33.56 sec. Users per second: 1060\n",
      "RP3betaRecommender: Similarity column 38121 (100.0%), 2089.69 column/sec. Elapsed time 18.24 sec\n",
      "EvaluatorHoldout: Ignoring 163 ( 0.5%) Users that have less than 1 test interactions\n",
      "EvaluatorHoldout: Processed 35573 (100.0%) in 33.04 sec. Users per second: 1077\n",
      "RP3betaRecommender: Similarity column 38121 (100.0%), 2085.75 column/sec. Elapsed time 18.28 sec\n",
      "EvaluatorHoldout: Ignoring 150 ( 0.4%) Users that have less than 1 test interactions\n",
      "EvaluatorHoldout: Processed 35586 (100.0%) in 33.17 sec. Users per second: 1073\n",
      "RP3betaRecommender: Similarity column 38121 (100.0%), 2081.13 column/sec. Elapsed time 18.32 sec\n",
      "EvaluatorHoldout: Ignoring 167 ( 0.5%) Users that have less than 1 test interactions\n",
      "EvaluatorHoldout: Processed 35569 (100.0%) in 33.14 sec. Users per second: 1073\n",
      "RP3betaRecommender: Similarity column 38121 (100.0%), 2064.81 column/sec. Elapsed time 18.46 sec\n",
      "EvaluatorHoldout: Ignoring 172 ( 0.5%) Users that have less than 1 test interactions\n",
      "EvaluatorHoldout: Processed 35564 (100.0%) in 33.23 sec. Users per second: 1070\n"
     ]
    },
    {
     "name": "stderr",
     "output_type": "stream",
     "text": [
      "[I 2025-01-06 09:53:57,988] Trial 419 finished with value: 0.05475199437869978 and parameters: {'topK': 22, 'alpha': 0.41285011263930693, 'beta': 0.2600543542877157, 'normalize_similarity': True, 'implicit': True}. Best is trial 229 with value: 0.0549701405549974.\n"
     ]
    },
    {
     "name": "stdout",
     "output_type": "stream",
     "text": [
      "RP3betaRecommender: Similarity column 38121 (100.0%), 2067.03 column/sec. Elapsed time 18.44 sec\n",
      "EvaluatorHoldout: Ignoring 173 ( 0.5%) Users that have less than 1 test interactions\n",
      "EvaluatorHoldout: Processed 35563 (100.0%) in 32.98 sec. Users per second: 1078\n",
      "RP3betaRecommender: Similarity column 38121 (100.0%), 2029.58 column/sec. Elapsed time 18.78 sec\n",
      "EvaluatorHoldout: Ignoring 163 ( 0.5%) Users that have less than 1 test interactions\n",
      "EvaluatorHoldout: Processed 35573 (100.0%) in 33.56 sec. Users per second: 1060\n",
      "RP3betaRecommender: Similarity column 38121 (100.0%), 2008.28 column/sec. Elapsed time 18.98 sec\n",
      "EvaluatorHoldout: Ignoring 150 ( 0.4%) Users that have less than 1 test interactions\n",
      "EvaluatorHoldout: Processed 35586 (100.0%) in 33.30 sec. Users per second: 1069\n",
      "RP3betaRecommender: Similarity column 38121 (100.0%), 2052.86 column/sec. Elapsed time 18.57 sec\n",
      "EvaluatorHoldout: Ignoring 167 ( 0.5%) Users that have less than 1 test interactions\n",
      "EvaluatorHoldout: Processed 35569 (100.0%) in 33.22 sec. Users per second: 1071\n",
      "RP3betaRecommender: Similarity column 38121 (100.0%), 2067.11 column/sec. Elapsed time 18.44 sec\n",
      "EvaluatorHoldout: Ignoring 172 ( 0.5%) Users that have less than 1 test interactions\n",
      "EvaluatorHoldout: Processed 35564 (100.0%) in 33.89 sec. Users per second: 1049\n"
     ]
    },
    {
     "name": "stderr",
     "output_type": "stream",
     "text": [
      "[I 2025-01-06 09:58:26,275] Trial 420 finished with value: 0.04650707514791973 and parameters: {'topK': 25, 'alpha': 0.42814449293403206, 'beta': 0.19862943291435126, 'normalize_similarity': False, 'implicit': True}. Best is trial 229 with value: 0.0549701405549974.\n"
     ]
    },
    {
     "name": "stdout",
     "output_type": "stream",
     "text": [
      "RP3betaRecommender: Similarity column 38121 (100.0%), 2750.51 column/sec. Elapsed time 13.86 sec\n",
      "EvaluatorHoldout: Ignoring 173 ( 0.5%) Users that have less than 1 test interactions\n",
      "EvaluatorHoldout: Processed 35563 (100.0%) in 26.76 sec. Users per second: 1329\n",
      "RP3betaRecommender: Similarity column 38121 (100.0%), 2722.93 column/sec. Elapsed time 14.00 sec\n",
      "EvaluatorHoldout: Ignoring 163 ( 0.5%) Users that have less than 1 test interactions\n",
      "EvaluatorHoldout: Processed 35573 (100.0%) in 26.45 sec. Users per second: 1345\n",
      "RP3betaRecommender: Similarity column 38121 (100.0%), 2705.81 column/sec. Elapsed time 14.09 sec\n",
      "EvaluatorHoldout: Ignoring 150 ( 0.4%) Users that have less than 1 test interactions\n",
      "EvaluatorHoldout: Processed 35586 (100.0%) in 27.06 sec. Users per second: 1315\n",
      "RP3betaRecommender: Similarity column 38121 (100.0%), 2785.74 column/sec. Elapsed time 13.68 sec\n",
      "EvaluatorHoldout: Ignoring 167 ( 0.5%) Users that have less than 1 test interactions\n",
      "EvaluatorHoldout: Processed 35569 (100.0%) in 26.32 sec. Users per second: 1351\n",
      "RP3betaRecommender: Similarity column 38121 (100.0%), 2812.95 column/sec. Elapsed time 13.55 sec\n",
      "EvaluatorHoldout: Ignoring 172 ( 0.5%) Users that have less than 1 test interactions\n",
      "EvaluatorHoldout: Processed 35564 (100.0%) in 27.15 sec. Users per second: 1310\n"
     ]
    },
    {
     "name": "stderr",
     "output_type": "stream",
     "text": [
      "[I 2025-01-06 10:01:50,345] Trial 421 finished with value: 0.0002664826418719655 and parameters: {'topK': 0, 'alpha': 0.4705158980183636, 'beta': 0.27448944088888966, 'normalize_similarity': True, 'implicit': True}. Best is trial 229 with value: 0.0549701405549974.\n"
     ]
    },
    {
     "name": "stdout",
     "output_type": "stream",
     "text": [
      "RP3betaRecommender: Similarity column 38121 (100.0%), 1723.46 column/sec. Elapsed time 22.12 sec\n",
      "EvaluatorHoldout: Ignoring 173 ( 0.5%) Users that have less than 1 test interactions\n",
      "EvaluatorHoldout: Processed 35563 (100.0%) in 35.57 sec. Users per second: 1000\n",
      "RP3betaRecommender: Similarity column 38121 (100.0%), 1697.80 column/sec. Elapsed time 22.45 sec\n",
      "EvaluatorHoldout: Ignoring 163 ( 0.5%) Users that have less than 1 test interactions\n",
      "EvaluatorHoldout: Processed 35573 (100.0%) in 35.88 sec. Users per second: 991\n",
      "RP3betaRecommender: Similarity column 38121 (100.0%), 1648.38 column/sec. Elapsed time 23.13 sec\n",
      "EvaluatorHoldout: Ignoring 150 ( 0.4%) Users that have less than 1 test interactions\n",
      "EvaluatorHoldout: Processed 35586 (100.0%) in 35.87 sec. Users per second: 992\n",
      "RP3betaRecommender: Similarity column 38121 (100.0%), 1695.01 column/sec. Elapsed time 22.49 sec\n",
      "EvaluatorHoldout: Ignoring 167 ( 0.5%) Users that have less than 1 test interactions\n",
      "EvaluatorHoldout: Processed 35569 (100.0%) in 35.45 sec. Users per second: 1003\n",
      "RP3betaRecommender: Similarity column 38121 (100.0%), 1682.50 column/sec. Elapsed time 22.66 sec\n",
      "EvaluatorHoldout: Ignoring 172 ( 0.5%) Users that have less than 1 test interactions\n",
      "EvaluatorHoldout: Processed 35564 (100.0%) in 35.27 sec. Users per second: 1008\n"
     ]
    },
    {
     "name": "stderr",
     "output_type": "stream",
     "text": [
      "[I 2025-01-06 10:06:54,383] Trial 422 finished with value: 0.012513718730213142 and parameters: {'topK': 82, 'alpha': 0.3086300056575462, 'beta': 2.3227658815986953, 'normalize_similarity': True, 'implicit': True}. Best is trial 229 with value: 0.0549701405549974.\n"
     ]
    },
    {
     "name": "stdout",
     "output_type": "stream",
     "text": [
      "RP3betaRecommender: Similarity column 38121 (100.0%), 1859.73 column/sec. Elapsed time 20.50 sec\n",
      "EvaluatorHoldout: Ignoring 173 ( 0.5%) Users that have less than 1 test interactions\n",
      "EvaluatorHoldout: Processed 35563 (100.0%) in 35.28 sec. Users per second: 1008\n",
      "RP3betaRecommender: Similarity column 38121 (100.0%), 1868.86 column/sec. Elapsed time 20.40 sec\n",
      "EvaluatorHoldout: Ignoring 163 ( 0.5%) Users that have less than 1 test interactions\n",
      "EvaluatorHoldout: Processed 35573 (100.0%) in 35.24 sec. Users per second: 1009\n",
      "RP3betaRecommender: Similarity column 38121 (100.0%), 1842.18 column/sec. Elapsed time 20.69 sec\n",
      "EvaluatorHoldout: Ignoring 150 ( 0.4%) Users that have less than 1 test interactions\n",
      "EvaluatorHoldout: Processed 35586 (100.0%) in 36.33 sec. Users per second: 980\n",
      "RP3betaRecommender: Similarity column 38121 (100.0%), 1848.62 column/sec. Elapsed time 20.62 sec\n",
      "EvaluatorHoldout: Ignoring 167 ( 0.5%) Users that have less than 1 test interactions\n",
      "EvaluatorHoldout: Processed 35569 (100.0%) in 34.93 sec. Users per second: 1018\n",
      "RP3betaRecommender: Similarity column 38121 (100.0%), 1908.15 column/sec. Elapsed time 19.98 sec\n",
      "EvaluatorHoldout: Ignoring 172 ( 0.5%) Users that have less than 1 test interactions\n",
      "EvaluatorHoldout: Processed 35564 (100.0%) in 34.62 sec. Users per second: 1027\n"
     ]
    },
    {
     "name": "stderr",
     "output_type": "stream",
     "text": [
      "[I 2025-01-06 10:11:45,331] Trial 423 finished with value: 0.05214010678664288 and parameters: {'topK': 49, 'alpha': 0.4159693021763706, 'beta': 0.10410271272608551, 'normalize_similarity': True, 'implicit': True}. Best is trial 229 with value: 0.0549701405549974.\n"
     ]
    },
    {
     "name": "stdout",
     "output_type": "stream",
     "text": [
      "RP3betaRecommender: Similarity column 38121 (100.0%), 1899.35 column/sec. Elapsed time 20.07 sec\n",
      "EvaluatorHoldout: Ignoring 173 ( 0.5%) Users that have less than 1 test interactions\n",
      "EvaluatorHoldout: Processed 35563 (100.0%) in 35.63 sec. Users per second: 998\n",
      "RP3betaRecommender: Similarity column 38121 (100.0%), 1927.74 column/sec. Elapsed time 19.77 sec\n",
      "EvaluatorHoldout: Ignoring 163 ( 0.5%) Users that have less than 1 test interactions\n",
      "EvaluatorHoldout: Processed 35573 (100.0%) in 35.71 sec. Users per second: 996\n",
      "RP3betaRecommender: Similarity column 38121 (100.0%), 1876.09 column/sec. Elapsed time 20.32 sec\n",
      "EvaluatorHoldout: Ignoring 150 ( 0.4%) Users that have less than 1 test interactions\n",
      "EvaluatorHoldout: Processed 35586 (100.0%) in 35.69 sec. Users per second: 997\n",
      "RP3betaRecommender: Similarity column 38121 (100.0%), 1894.54 column/sec. Elapsed time 20.12 sec\n",
      "EvaluatorHoldout: Ignoring 167 ( 0.5%) Users that have less than 1 test interactions\n",
      "EvaluatorHoldout: Processed 35569 (100.0%) in 35.71 sec. Users per second: 996\n",
      "RP3betaRecommender: Similarity column 38121 (100.0%), 1907.54 column/sec. Elapsed time 19.98 sec\n",
      "EvaluatorHoldout: Ignoring 172 ( 0.5%) Users that have less than 1 test interactions\n",
      "EvaluatorHoldout: Processed 35564 (100.0%) in 35.72 sec. Users per second: 996\n"
     ]
    },
    {
     "name": "stderr",
     "output_type": "stream",
     "text": [
      "[I 2025-01-06 10:16:38,255] Trial 424 finished with value: 0.0526479407265556 and parameters: {'topK': 49, 'alpha': 0.5132145253600349, 'beta': 0.3203683029574118, 'normalize_similarity': True, 'implicit': True}. Best is trial 229 with value: 0.0549701405549974.\n"
     ]
    }
   ],
   "source": [
    "if config['tune_parameters']:\n",
    "    \n",
    "    optuna_study = optuna.create_study(direction='maximize', study_name=f'hyperparameters_tuning_{config[\"model\"]}_{config[\"metric\"]}',\n",
    "                                storage=f'sqlite:///{config[\"database_path\"]}', load_if_exists=True)\n",
    "\n",
    "    optuna_study.optimize(objective_function_RP3beta, n_trials=125)"
   ]
  },
  {
   "cell_type": "markdown",
   "id": "9966350d",
   "metadata": {
    "papermill": {
     "duration": 0.130068,
     "end_time": "2025-01-06T10:16:38.588879",
     "exception": false,
     "start_time": "2025-01-06T10:16:38.458811",
     "status": "completed"
    },
    "tags": []
   },
   "source": [
    "## Some optuna visualizations on recommender parameters"
   ]
  },
  {
   "cell_type": "code",
   "execution_count": 14,
   "id": "177954d5",
   "metadata": {
    "execution": {
     "iopub.execute_input": "2025-01-06T10:16:38.863065Z",
     "iopub.status.busy": "2025-01-06T10:16:38.862379Z",
     "iopub.status.idle": "2025-01-06T10:16:40.465724Z",
     "shell.execute_reply": "2025-01-06T10:16:40.464429Z"
    },
    "papermill": {
     "duration": 1.742022,
     "end_time": "2025-01-06T10:16:40.467537",
     "exception": false,
     "start_time": "2025-01-06T10:16:38.725515",
     "status": "completed"
    },
    "tags": []
   },
   "outputs": [
    {
     "data": {
      "text/html": [
       "<html>\n",
       "<head><meta charset=\"utf-8\" /></head>\n",
       "<body>\n",
       "    <div>            <script src=\"https://cdnjs.cloudflare.com/ajax/libs/mathjax/2.7.5/MathJax.js?config=TeX-AMS-MML_SVG\"></script><script type=\"text/javascript\">if (window.MathJax && window.MathJax.Hub && window.MathJax.Hub.Config) {window.MathJax.Hub.Config({SVG: {font: \"STIX-Web\"}});}</script>                <script type=\"text/javascript\">window.PlotlyConfig = {MathJaxConfig: 'local'};</script>\n",
       "        <script charset=\"utf-8\" src=\"https://cdn.plot.ly/plotly-2.35.2.min.js\"></script>                <div id=\"c9c420e6-0451-4fc6-9215-8908a07b7c3e\" class=\"plotly-graph-div\" style=\"height:525px; width:1500px;\"></div>            <script type=\"text/javascript\">                                    window.PLOTLYENV=window.PLOTLYENV || {};                                    if (document.getElementById(\"c9c420e6-0451-4fc6-9215-8908a07b7c3e\")) {                    Plotly.newPlot(                        \"c9c420e6-0451-4fc6-9215-8908a07b7c3e\",                        [{\"marker\":{\"color\":[0,1,2,3,4,5,6,7,8,9,10,11,12,13,14,15,16,17,18,19,20,21,22,23,24,25,26,27,28,29,30,31,32,33,34,35,36,37,38,39,40,41,42,43,44,45,46,47,48,49,50,51,52,53,54,55,56,57,58,59,60,61,62,63,64,65,66,67,68,69,70,71,72,73,74,75,76,77,78,79,80,81,82,83,84,85,86,87,88,89,90,91,92,93,94,95,96,97,98,99,100,101,102,103,104,105,106,107,108,109,110,111,112,113,114,115,116,117,118,119,120,121,122,123,124,125,126,127,128,129,130,131,132,133,134,135,136,137,138,139,140,141,142,143,144,145,146,147,148,149,150,151,152,153,154,155,156,157,158,159,160,161,162,163,164,165,166,167,168,169,170,171,172,173,174,175,176,177,178,179,180,181,182,183,184,185,186,187,188,189,190,191,192,193,194,195,196,197,198,199,200,201,202,203,204,205,206,207,208,209,210,211,212,213,214,215,216,217,218,219,220,221,222,223,224,225,226,227,228,229,230,231,232,233,234,235,236,237,238,239,240,241,242,243,244,245,246,247,248,249,250,251,252,253,254,255,256,257,258,259,260,261,262,263,264,265,266,267,268,269,270,271,272,273,274,275,276,277,278,279,280,281,282,283,284,285,286,287,288,289,290,291,292,293,294,295,296,297,298,299,300,301,302,303,304,305,306,307,308,309,310,311,312,313,314,315,316,317,318,319,320,321,322,323,324,325,326,327,328,329,330,331,332,333,334,335,336,337,338,339,340,341,342,343,344,345,346,347,348,349,350,351,352,353,354,355,356,357,358,359,360,361,362,363,364,365,366,367,368,369,370,371,372,373,374,375,376,377,378,379,380,381,382,383,384,385,386,387,388,389,390,391,392,393,394,395,396,397,398,399,400,401,402,403,404,405,406,407,408,409,410,411,412,413,414,415,416,417,418,419,420,421,422,423,424],\"colorbar\":{\"title\":{\"text\":\"Trial\"},\"x\":1.0,\"xpad\":40},\"colorscale\":[[0.0,\"rgb(247,251,255)\"],[0.125,\"rgb(222,235,247)\"],[0.25,\"rgb(198,219,239)\"],[0.375,\"rgb(158,202,225)\"],[0.5,\"rgb(107,174,214)\"],[0.625,\"rgb(66,146,198)\"],[0.75,\"rgb(33,113,181)\"],[0.875,\"rgb(8,81,156)\"],[1.0,\"rgb(8,48,107)\"]],\"line\":{\"color\":\"Grey\",\"width\":0.5},\"showscale\":true},\"mode\":\"markers\",\"name\":\"Feasible Trial\",\"showlegend\":false,\"x\":[2.6539524252310716,1.9925093883184783,2.9449557416260523,2.099808171409718,1.8406969835655418,0.24580184807344585,1.327062699395486,2.05898712578912,2.492175039731623,2.3020357541202863,1.065674747582564,1.0764350740487363,0.9364862471610758,0.8037906305352522,1.3359214821739167,0.49084844265031435,0.9780368378275541,1.592232953335472,0.5167316364480214,0.10838088374653387,1.133751163435286,0.11317645354478123,0.6450775847053759,0.598148783373131,0.27214917852229925,0.011496915069809169,0.27635951510270085,0.37496682545790294,0.751289123141518,0.760844757297373,0.7326670999151627,0.7302415367380609,0.6190833855735367,0.4014870023757094,0.3379275223269776,0.46237194854247476,0.1982760124127261,1.568555924691718,1.2662617398388176,2.8538956780567517,0.9064638710719504,0.6527977812408142,0.3868369101069583,0.6181467209992013,1.8186584803121941,0.015866126071959807,0.24660399742040068,0.8571282304669788,0.6244503352407023,1.1574277246639686,0.5291044833856134,0.7153586978069757,0.9974231653138245,0.4637045380041755,0.7198756807053021,1.422298797263105,0.17534612106410755,0.37106287534011634,0.8223712217982457,0.5608695011427207,0.6841276653441972,0.42173875085369267,0.9856171099689341,0.30481234061445195,0.8338500898814338,0.8295537917468964,0.8683107077231133,1.2688351381909961,1.0822170262325286,0.8583967141355163,0.9585351474846822,0.8015751061319295,1.1653760783293703,0.7858633701763146,0.9083727257413348,0.8991904777726899,1.064530780820247,0.8937084451217673,0.9195323313155312,1.228787323075013,1.2393729812122565,1.2069582252803772,1.4099645731324346,1.4387394012264563,1.4489946534478153,1.6821580309282427,1.3867053015814337,1.532921625257246,1.315113144387723,1.2359265648224387,1.7154211385690037,1.213773044783078,1.4743348566235137,1.3711396224381742,1.3530259879667361,1.234814037495421,1.6224840421084297,1.1850975915022128,1.2010179804368708,1.0320576301481128,1.0855831831439073,1.343822798705343,1.1411656139053739,1.292018612242478,1.0367153214759957,1.378227471491186,2.2003603884148224,1.5246556415460626,1.1847336952367653,1.4107319333533521,1.01222480426733,1.510846111627536,1.6285259124346787,1.8320895783783229,1.115541076844302,1.5710479821426682,1.4804070114795032,1.2949192600032957,1.219805363509433,1.4420078881778906,1.722185090633146,1.1221594139177293,1.1245495871239424,1.1495949340157643,1.1099843124620392,1.2657427888767618,1.0379167923764574,1.2348508233799724,1.286265986060528,1.1840558538749377,0.965016456143565,1.3496689496254555,1.085726625160672,1.0853074448801079,1.0592247367056318,1.040955829920755,2.5435540550844378,1.092402102421629,0.977633771270326,0.9623341123844271,1.0038534975125057,1.131782763151877,1.1327899859723805,0.9479324780197174,0.909355878159658,0.953550169033716,0.9223905407664437,0.872660124489173,0.761440633105708,0.8702497340698803,0.6823074008110379,0.6725459901347471,0.6860467206343056,0.6383029533984134,0.57910589149787,0.7083719689787188,0.5603619202531085,0.7283999022109922,0.6955646301074352,0.47155761709684274,0.4383215719712628,0.46699092331738495,0.5354664735832482,0.47486404810132893,0.464027494346815,0.42379031140698536,0.5821942764456018,0.49671498615664667,0.644411712312813,0.37192656101895305,0.3338260881717141,0.43642950374810086,0.5083112026766367,0.21885218789109623,0.36904941865311547,0.510691238742825,0.599918910913124,0.6790560309614054,0.6731780511568708,0.5545301914960046,0.7730851569863643,0.7900294291621445,0.7580740943066329,0.6925606909253614,0.793317698677917,0.6210855255720164,0.6200565834480365,0.8215783042291049,0.6064642924395545,0.3926059436829134,0.3036759244096558,0.7016572291852755,0.7591367389453603,0.7826232098195475,0.7859080570670215,0.510264403201911,0.5252302030438171,0.4663165738674606,0.5038870242323845,0.3804042608582197,0.3659450195566235,0.42917739971377455,0.284931653558129,0.42258135915784495,0.2706263090407052,0.18400198174233617,0.4157192500917663,0.41730098117911935,0.32771543419696286,0.0859812923447886,0.2660431062822961,0.3326940023942172,0.3237444813219214,0.4488650408116729,0.357246354586743,0.4755470904776614,0.3230519128033917,0.31908543891954744,0.22813597046952427,0.39821000306640464,0.14477785063460652,0.22134126411274668,0.2993907997968942,0.42459911785882154,0.5485787634177728,0.5523594789581755,0.5348614695860829,0.5509164085463776,0.5540099963584321,0.5504798322241172,0.5624195763902128,0.5387835960162581,0.5422082907473422,0.4997663497191607,0.5309081647750772,0.49459147899531586,0.5616467713529151,0.571030531900664,0.5558872999859127,0.4876437356895226,0.4952826243210278,0.48052257500296436,0.47807604142839955,0.5664980666881864,0.5757269814704932,0.5777113146233006,0.5826180067345667,0.5724097023743501,0.598427396397135,0.5841476261828616,0.6161727240164101,0.6202963781136068,0.6234394917575907,0.6225192728157597,0.5682940879653183,0.5826728441131084,0.6415021719808724,0.5583753800094828,0.5320255397654564,0.5286908217090674,0.5856108335554265,0.5084485394919211,0.6280229901299917,0.5276320204497528,0.5929695841433997,0.46857644024008505,0.5392541876166178,2.947372225693114,0.6311878233952105,0.49811942092934536,0.5705119653447356,0.6513257156309674,0.46404485112230587,0.5832368417547618,0.5081530392907805,0.5873017133700739,2.8381975772757966,0.6435558976514056,0.6592805896505446,0.45796130475930263,0.524599737655804,0.6418306007569957,1.9689509567792687,0.44934714698030687,0.5358095367044837,0.6929920180818969,0.5630456661728112,0.6172633960155035,0.48644634209332704,0.41591436585981456,0.42003145563127015,0.3995162343869574,0.4838108805511018,0.5271803145068572,0.4259572838294401,0.5264915988685467,0.4740032507851273,0.39736020892577345,0.46526631006859753,0.5007927412514458,0.44177073735708283,0.6709114327089942,0.5250959186085575,0.6160327694075588,0.3818032791404584,0.37679108770426784,0.45036554987331356,0.3667033534769396,0.46362955037525244,0.5303086466775162,0.7195566999075446,0.6230864357256313,0.3875085444223509,0.5027789388885795,0.6022365982122192,0.42783732879664005,0.4405867332028017,0.6714707132755028,2.338008788146772,0.5509471890989204,0.4130901307356679,0.5637872969222304,0.5104341329745604,0.717401576414266,0.6051530180023716,0.4766912609165376,0.35404182681511803,0.6407699570197685,0.5552462618241247,0.4407413955742406,0.493867465840776,0.388417857299027,0.5704027550707521,0.6699031964034403,0.5919818241000422,0.4963280792106678,0.41881026300184765,0.6476357203209192,0.5752876381478582,0.5250768085971109,0.7231106934845688,0.35319177457462725,0.46021571956658913,0.6079074059993086,0.5223302912245804,0.4281568415450417,0.27103540857044617,0.558589661895446,0.4858665612107172,0.6601103040428374,0.5448515119770854,0.38575617636144655,0.47016875144228276,0.5958859877862255,0.7210993853425492,0.326121265909096,0.5406634013438806,0.4198498824187626,0.6548465339841957,0.4978417513752772,0.5846055488949324,0.5718866271086457,0.442031446816453,0.5148920426995789,0.35897501915783175,0.5898126565817173,0.48103865590426254,0.44032217172609595,0.39232888230841434,0.287124463448722,0.3311512273458237,0.4044700777458538,0.3502110946747714,0.3896027300665077,0.2681805320760628,0.4051903633459655,0.4584505783214878,0.4515952950180736,0.3814242460403821,0.48117628467508566,0.41081998502512496,0.34142531598887316,0.4645072879678434,0.29791457522808457,0.4983724770408853,0.21145400375178725,0.4334698444963122,0.39689061343174337,0.3363424309791507,0.509935661557873,0.40647807052855467,0.4452397442462894,0.48431001637464755,0.44028738844141746,0.3598127078436755,0.4158888821939648,0.30095662366156656,0.5299070010084546,1.9856227535599462,0.4557098800538642,0.4261623687322452,0.23267605238981093,0.3737570152367327,0.4647937450610608,0.4568582707370257,0.36547024443590664,0.03972569265695042,0.4437662512162189,0.3237877223562095,0.49872572238839447,0.3997827186151578,0.28652016518339335,0.4846653083568613,0.4511645217167037,0.5038401545997431,0.39262069958413154,0.36513515119227313,0.24934722543879495,0.34554179993309997,0.41285011263930693,0.42814449293403206,0.4705158980183636,0.3086300056575462,0.4159693021763706,0.5132145253600349],\"y\":[0.013648343453049036,0.008384584519268986,0.004741483399092485,0.012784064084681922,0.026819035227025324,0.009410444154774735,0.02062199963574402,0.01682310303155234,0.005711660615447563,0.006703857417611235,0.04266537755480833,0.04257067091100205,0.03944496196817556,0.04008216794732056,0.012855842310700777,0.03896757179961609,0.03253999972558858,0.007460447290049374,0.03909674476085554,0.04036915729990097,0.02553971997205203,0.04366229516124508,0.049721961540470545,0.021058867746825312,0.04582461086738894,0.038815239534900715,0.018916341062246243,0.037401202509192044,0.04584552308072724,0.04505482789680527,0.03894936548019741,0.045209916841122674,0.04540775632301788,0.04545757050322327,0.04517725930369896,0.028301513022553175,0.040866544306860784,0.012169010164218192,0.04081573309743054,0.008040071025711467,0.011895844641772726,0.04543117459388309,0.044806940719727975,0.043138421100413694,0.025261718891092837,0.017113500602103822,0.03890231913916076,0.019784541040120236,0.04490918414474553,0.03922441395901547,0.03368732378597614,0.046050062124436145,0.04259659999027671,0.04402044376217355,0.04209625245849248,0.031141732411799638,0.029220747412093136,0.03853347797358172,0.04470920711266495,0.015140031885854516,0.04520030293882436,0.040330150760652994,0.043649562517788995,0.04334195223209881,0.04711909208606287,0.04588815080256583,0.04711696546721259,0.03868531455570373,0.04405396892349624,0.010226651669573147,0.040186848723246765,0.04576912612771526,0.03743044080677681,0.04813638912344948,0.04767804453865597,0.04787016660595077,0.0442269989692434,0.05160502896971771,0.044706490732268185,0.048810434499082116,0.050207529240706095,0.0500876608974669,0.048830779175895525,0.04938398938189813,0.0002664826418719655,0.04335672504840828,0.04713475786522338,0.044682142054042716,0.044540783077325924,0.04144877753232106,0.039211874420238886,0.04953492649127113,0.0002664826418719655,0.04838689583620827,0.04595258182181265,0.045718961326748256,0.04393301185061045,0.05009038041081472,0.01003838528523222,0.05166397175387265,0.04294062892536711,0.0002664826418719655,0.047693406513411404,0.0464403559932962,0.046505409298773795,0.04640022018597044,0.039604112244308036,0.048216477841797487,0.04162827461324521,0.04224127516192849,0.0468960571634295,0.021876554105444933,0.043829503343798856,0.0465711776073618,0.047713126902449665,0.04390056335826291,0.01604289616875863,0.04473949832920504,0.0416112371927709,0.04555280926318378,0.04463359623785629,0.049549990063309304,0.05127658646001674,0.04798015182270694,0.04628214007351365,0.048628887586552004,0.015429645566858736,0.01883425070481159,0.033329044263837405,0.04580812761342867,0.04783519907203161,0.04933165519408496,0.05142714857553258,0.05178247624607196,0.051950284177614804,0.045441949112205296,0.039496823821545554,0.04706210437636923,0.05250245698729975,0.03648634213317066,0.04767874166332025,0.05165795847222806,0.03465909740885862,0.04956062491649639,0.049582487653871646,0.04916005427399729,0.046628712030432715,0.05055754574280693,0.048445277085689555,0.03962024312437635,0.052310492825314726,0.053722151204414016,0.05211979333066661,0.036416744678689585,0.05406959471293592,0.05155781254992042,0.04806323004205436,0.017457979580316803,0.04709039829527204,0.054052932562779085,0.05275693643762428,0.051510439820175155,0.04968480764611222,0.053152822848982276,0.0002664826418719655,0.05043519073146373,0.042515204478707665,0.04043828245593929,0.049817711294313935,0.05188000046965213,0.045724571764805745,0.0512398085215944,0.05280344662585394,0.05005022713387406,0.01853376714322689,0.04590426180835168,0.05082808163244969,0.052454046443967575,0.049189334981901596,0.045444726522056146,0.051799059791093185,0.05171712247652656,0.05020594119922482,0.045591840591921784,0.05120762828417066,0.0516128587227111,0.04980816458339052,0.04312051544352265,0.051270860422436594,0.05098926311358872,0.04861208975177027,0.0002664826418719655,0.051633463763765305,0.05230422105309929,0.05020244846485474,0.05320402172213732,0.0002664826418719655,0.0531839874364747,0.05035256977958515,0.05233818727741195,0.051329600467651816,0.05428822463060982,0.05265390464058417,0.05229516995545428,0.05161448631039798,0.04932165895248399,0.05261767872645897,0.010935478205515726,0.05217322192784685,0.047810297104907785,0.04964158107739683,0.05209968837328636,0.04530254122462034,0.0002664826418719655,0.05223217167649983,0.05060823511584637,0.05262114427326301,0.0516983799374373,0.05204006095910527,0.050091573324523166,0.051471457305094934,0.05173023796537907,0.052023319725004735,0.05088535235085474,0.05284120347937071,0.053798529862966495,0.05465215247762488,0.05433076884479106,0.054759280329488624,0.0549701405549974,0.05215600861152127,0.0545181059043373,0.05460502255559648,0.05494524965373336,0.04420683469338494,0.01948693703402646,0.05386208800052622,0.053995445903854966,0.041705090073447956,0.054303993486850374,0.054498838469172084,0.0543713920547223,0.0002664826418719655,0.05434869070847054,0.053810943150142135,0.05447433453306981,0.054319470783548575,0.036904562559433474,0.05395554901516657,0.0002664826418719655,0.05412555218955969,0.0543421536693508,0.049844244712719546,0.0002664826418719655,0.053538748184996786,0.05248184229295355,0.049418190080879845,0.054066956351331075,0.054047112581907655,0.050596323567847754,0.0002664826418719655,0.05368207135026594,0.04092898789480566,0.05120288603337164,0.05363302918819535,0.053637614917703094,0.0002664826418719655,0.03615806838791785,0.05279182917855617,0.0483607244486305,0.05398885147877438,0.05116466376145386,0.0002664826418719655,0.051417795275824484,0.018767897653119175,0.05384508518413256,0.03812166338017797,0.05410971467903987,0.01858539727778784,0.013388713136420382,0.05244815070052429,0.049193244339524676,0.04525658040387958,0.043434114239143104,0.05286234198795873,0.0002664826418719655,0.05423729225137055,0.04919674880363255,0.052087629512171586,0.0543720500592089,0.04174896430626927,0.031085633144068824,0.052460182433159974,0.05440985757964252,0.050894473179814236,0.04475813103510859,0.05488205545188194,0.03731133744387903,0.05154973558146274,0.0002664826418719655,0.04859471442157407,0.0502766028088221,0.053679015523167006,0.028023182429664957,0.054752531235729616,0.05173878429491854,0.01887954234085104,0.052965433639624235,0.05037111002087953,0.039067563499151706,0.04163133064007455,0.05340537365794444,0.052464743244902655,0.05307754686109965,0.050636830550296205,0.054778205015114746,0.03713773858672683,0.0002664826418719655,0.04138880135204787,0.05019541067552363,0.053068018109177495,0.053829979870698375,0.05155291837445743,0.05195973357738074,0.04089425315445553,0.020133742411846643,0.04815177072737455,0.0002664826418719655,0.05100730261717721,0.05372552844304235,0.05236300139310024,0.050387190781800664,0.05424188420423648,0.051322106704148586,0.05378206904846614,0.0002664826418719655,0.05231481425063942,0.05363743402660661,0.0496183920018823,0.0002664826418719655,0.04974076839253654,0.01237919615907396,0.017304647456378504,0.05404672422712283,0.04878509177094852,0.05270604502709993,0.05140789716359186,0.05459058936401172,0.01936535468689161,0.05372113902243399,0.05133610674006137,0.04953534708708972,0.051387833069787746,0.04685575478768903,0.0002664826418719655,0.05363329867170955,0.011954838874177686,0.0513866756555618,0.052849114496456094,0.05253234167497152,0.05423972785102097,0.0002664826418719655,0.04817247529233756,0.021249178493101335,0.0507531016545121,0.037528362519400935,0.054530025879832744,0.0002664826418719655,0.054359227079406755,0.05068838822632908,0.05255857550520954,0.05485015525013119,0.045510381276771456,0.052677038529487005,0.0002664826418719655,0.05041077984875649,0.054247567087592444,0.051631569657435296,0.017258995059359895,0.05272827430354554,0.05400536641997814,0.04329493924093543,0.05422291294121813,0.019350838210454517,0.05054715511410603,0.05245363494339297,0.05449061114642639,0.0002664826418719655,0.05150012702290474,0.05287454730137714,0.021272423457324614,0.05456350413122622,0.0489333655528126,0.054373606236648796,0.036207264694276334,0.019901541905074305,0.0524088680514076,0.03744689164613541,0.04280752912529077,0.054491010939430505,0.04198662517258296,0.04883911893977798,0.019584515095539996,0.05452862685960928,0.051821451383942715,0.05422185689411909,0.0002664826418719655,0.051571220817366294,0.052960442137944166,0.04972051149971205,0.05429320006558552,0.05136668148280946,0.05456698129893446,0.04878355564701278,0.05056495826490104,0.05467231106559067,0.019200658012976865,0.03833832518023366,0.05156753545888163,0.05475199437869978,0.04650707514791973,0.0002664826418719655,0.012513718730213142,0.05214010678664288,0.0526479407265556],\"type\":\"scatter\",\"xaxis\":\"x\",\"yaxis\":\"y\"},{\"marker\":{\"color\":[0,1,2,3,4,5,6,7,8,9,10,11,12,13,14,15,16,17,18,19,20,21,22,23,24,25,26,27,28,29,30,31,32,33,34,35,36,37,38,39,40,41,42,43,44,45,46,47,48,49,50,51,52,53,54,55,56,57,58,59,60,61,62,63,64,65,66,67,68,69,70,71,72,73,74,75,76,77,78,79,80,81,82,83,84,85,86,87,88,89,90,91,92,93,94,95,96,97,98,99,100,101,102,103,104,105,106,107,108,109,110,111,112,113,114,115,116,117,118,119,120,121,122,123,124,125,126,127,128,129,130,131,132,133,134,135,136,137,138,139,140,141,142,143,144,145,146,147,148,149,150,151,152,153,154,155,156,157,158,159,160,161,162,163,164,165,166,167,168,169,170,171,172,173,174,175,176,177,178,179,180,181,182,183,184,185,186,187,188,189,190,191,192,193,194,195,196,197,198,199,200,201,202,203,204,205,206,207,208,209,210,211,212,213,214,215,216,217,218,219,220,221,222,223,224,225,226,227,228,229,230,231,232,233,234,235,236,237,238,239,240,241,242,243,244,245,246,247,248,249,250,251,252,253,254,255,256,257,258,259,260,261,262,263,264,265,266,267,268,269,270,271,272,273,274,275,276,277,278,279,280,281,282,283,284,285,286,287,288,289,290,291,292,293,294,295,296,297,298,299,300,301,302,303,304,305,306,307,308,309,310,311,312,313,314,315,316,317,318,319,320,321,322,323,324,325,326,327,328,329,330,331,332,333,334,335,336,337,338,339,340,341,342,343,344,345,346,347,348,349,350,351,352,353,354,355,356,357,358,359,360,361,362,363,364,365,366,367,368,369,370,371,372,373,374,375,376,377,378,379,380,381,382,383,384,385,386,387,388,389,390,391,392,393,394,395,396,397,398,399,400,401,402,403,404,405,406,407,408,409,410,411,412,413,414,415,416,417,418,419,420,421,422,423,424],\"colorbar\":{\"title\":{\"text\":\"Trial\"},\"x\":1.0,\"xpad\":40},\"colorscale\":[[0.0,\"rgb(247,251,255)\"],[0.125,\"rgb(222,235,247)\"],[0.25,\"rgb(198,219,239)\"],[0.375,\"rgb(158,202,225)\"],[0.5,\"rgb(107,174,214)\"],[0.625,\"rgb(66,146,198)\"],[0.75,\"rgb(33,113,181)\"],[0.875,\"rgb(8,81,156)\"],[1.0,\"rgb(8,48,107)\"]],\"line\":{\"color\":\"Grey\",\"width\":0.5},\"showscale\":false},\"mode\":\"markers\",\"name\":\"Feasible Trial\",\"showlegend\":false,\"x\":[0.3236693215792482,1.9112533102107916,2.544104283274634,0.9875963489786372,0.09102598200962542,2.421637727238273,1.1694617285940976,1.1267388444072473,2.4968776749856247,2.4500491848410717,0.056222934419918325,0.036958298680905166,0.5367051328078066,0.6137123340236923,1.771122892060712,0.06604049894015991,0.7354768149892228,2.9105075933919133,0.010103756259216577,0.4210315122971404,0.866046414946186,0.38229697035450116,0.2836793311976491,1.4427451988376128,0.3306154057472931,0.3523807758744694,1.3835639688275319,0.7925296448867103,0.29412633080207806,0.226678562216673,0.6591539548063472,0.23569379706048021,0.25057183967170193,0.49043971355938865,0.47997241926335354,0.98354499578159,0.5839349894380602,1.6311765500874909,0.21043627151928015,0.9616730793454235,2.1502096995533444,0.24198979792503578,0.44276694971805697,0.15665465500253167,0.3701233724553787,1.1509638704786442,0.6643959118511095,1.2997182752995837,0.5253034876710628,0.12466336906092387,0.8511778719038872,0.3073426850196836,0.3524816300564596,0.2781001700010517,0.12485155102990353,0.526858848344672,0.005162930876590782,0.715196018950313,0.29241977352052884,1.950577728623431,0.44501503076635845,0.13506613201849604,0.27893481820150623,0.5598122300197796,0.18962699346552186,0.005800857829966755,0.07666639454982094,0.003558819492124175,0.09553561039624747,2.784789613505423,0.1550362309091654,0.36859233743106,0.336638768647292,0.19195066286536971,0.06486836040952032,0.07385212093541704,0.058094805491147955,0.19379272867272057,0.17983229822753044,0.2035154514507427,0.196447138897436,0.19010431579224585,0.21854999881840165,0.21545449769090053,0.43264750565957505,0.22434081165756586,0.41566969637601603,0.21198982311156017,0.1416541582507851,0.6336208651422952,0.47324406617726794,0.07646890562157797,0.07640870048448994,0.2669155340642294,0.33023035717565014,0.23791064680455565,0.3929336824060611,0.28610394140829787,2.3441141188915737,0.28454967717217683,0.5849199880006811,0.26556267412959994,0.29109784955146806,0.4841458187549108,0.1551162718115018,0.4083593381839446,0.3375785894387549,0.13178934448321056,0.22945391875631682,0.5384953644422741,0.30367755448106987,1.0728664546826323,0.11692025956922317,0.17194722242450838,0.0022751764156944965,0.11221643790355426,0.25768187546280563,0.39301863227785927,0.18373672813447228,0.049521970188964926,0.34449229589984043,0.21513491383135555,0.25823232926948286,0.2601261546596351,0.2024140888640818,0.2926260945739552,1.660496974163675,1.2543794348645736,0.46124529671477854,0.3622008197772802,0.09580526603193215,0.25944018135128916,0.31521552309036327,0.20057585307801304,0.15569424675068416,0.05101531672181753,0.16311520040808367,0.32895890184349297,0.11358203060586863,0.05764525502916261,0.1232939296151589,0.23371509546579194,0.1756598484101931,0.3904672432626223,0.4127309306299787,0.4043048099677646,0.5053965076005176,0.34826233173810384,0.3891860569949809,0.7127541340722493,0.4459575691721869,0.3179990262937314,0.452466076555731,0.31420675505734463,0.32238373870682785,0.466354412181895,0.6163716311995413,0.47217662493939944,0.5649175793112783,0.3239242378761791,0.4588155247531303,0.5194937064028364,0.5107916138827959,0.43708451157572803,0.4624725999408949,0.5605890821632925,0.6864632917288706,0.7978302687643815,0.4463898061304625,0.5131541721733915,0.6456076926967359,0.5372955163884178,0.4469138509215948,0.49539076677052657,0.4415806496640944,0.6009470818039537,0.3443696538960075,0.41062460634363707,0.5263559835683131,0.4335489570538917,0.39214515699335556,0.39016247919972713,0.37751819946992154,0.3919980939706517,0.3165446315892086,0.45325731946267633,0.37462986247083885,0.2932942395420673,0.4401487901244372,0.24377386143418983,0.5782589147368088,0.4788780486580581,0.42612305272919015,0.35200275079797844,0.36043272936405046,0.40681244405191663,1.866556966533782,0.4023669147119195,0.3283804273599995,0.28223990966715107,0.387955097433834,0.28803459854596214,0.27976457151446743,0.32851279414955886,0.3055646915272241,0.328483154323167,0.2725265256393147,2.684819427986554,0.3521982544147497,0.271097864330202,0.5103756352841347,0.4090304278271839,0.3518068137135659,0.4343267830842701,0.2973383062793079,0.30388967336395906,0.2539899113132706,0.258727927970004,0.31846237804607436,0.3636571826035437,0.2378026101666032,0.3288100734435963,0.4122722016172414,0.3054751968069375,0.2665911259415832,0.26842488219684424,0.24972698533530385,0.23348864517700096,0.23165527953964749,0.20844178237791977,0.1496988326686769,0.22815187123000297,0.23549527236551931,0.18886286516290227,0.20709838664175595,0.13180201642263803,0.20105825365628058,0.21311431345459675,0.18949576797673578,0.2228991588991321,0.22922251028738827,0.21863071201811485,0.20661856615885266,0.22354215475522093,0.16092451264145083,0.17383488643599548,0.15837841327750485,0.14515494524773498,0.1179279564123352,0.09215455324782836,0.17213405669001422,0.1694713149576092,0.12472793451186212,0.1744367641535158,0.07461035628825524,0.02744193248544366,0.08946022851060922,0.16585472447863778,0.15558922316192245,0.1615659004081757,0.18454475770085343,0.1329893145232529,0.2038736286861665,0.20989518579003755,0.14852578926501142,0.11609009446256505,0.042747506751237896,0.2092111173926901,0.22224541805282227,0.08996615840461242,0.15248785795479566,0.15488653995383453,2.9935412155328835,0.011647640020011923,1.4948031604128786,0.10097485265718459,0.08859091687751917,0.22495282548636678,0.22717940459040042,2.2115546723229143,0.21677695656820545,0.15945892148844912,0.2241872977593964,0.1739372774792342,0.23945991615257028,0.11506178055651976,0.16614294628014192,0.04911196760969633,0.12875223853132672,0.24639845640342012,0.24819869766951924,0.9234278171768884,0.23935801638683124,0.17640077008352137,0.19432607032648555,0.26229152077066276,0.17325974545835957,0.16927393627267356,0.06576237916093805,0.24854580394739084,0.17062350798647152,0.2807197624213982,0.09519563628580748,1.0522834385419375,0.18192923478116124,0.22667785056862944,0.27871163517099085,0.18047364387359122,0.2436394758989777,0.11126906257589503,0.20184392123832315,0.04171074740039574,0.29540756786350797,3.345558261586001e-05,0.15529272931662352,0.24510456662394758,0.2416592418620957,0.11927979001376786,0.18463590279109715,0.2502671961392829,0.18257008349438325,0.07871019086645865,0.28456698275599646,0.12305105436267086,0.2134894497728685,1.2372572087504692,0.16609090374187618,0.2789545294851336,0.22011468832812903,0.05995299545515985,0.1278896653378187,0.30265926634013657,0.19505156107915206,0.24003264977481964,0.29953873508246515,0.1859482849612105,0.24105554281861058,0.108125501205664,0.33031532665064356,0.1974600332825855,0.1374980704221589,2.0168834346569504,1.7176835200585039,0.26697715261945765,0.06701595266544948,0.2115570256231693,0.3333704906426158,0.1670017827975364,0.15532021619946895,0.09988389194449665,0.04129791405226749,0.17866160229523992,0.2517302497716414,0.14621790640816099,0.22028622167901923,0.09829288154429855,2.5810641685538798,0.265523863426447,0.008133331894102619,0.19408214830355885,0.13608429059039,0.13449677288291553,0.07752809835241041,1.4176566157051558,0.15305398648055538,0.07423160310895087,0.2901879039228562,0.2993573652249558,0.26748721194027386,0.3554940019247479,0.2849838054035508,0.2529455678774207,0.35191013552325434,0.26482595880667115,0.3197042984528814,0.2553083739597958,0.24066030376500683,0.31446125220065974,1.5648259297304357,0.24961530438397955,0.3498007924858045,0.22682462338269532,0.29090612007441097,0.227854453010845,0.2910832500645423,0.20734154837505456,0.20190034312217342,0.18219295663548363,0.35073139922412244,0.12246227659962952,1.3453032112615364,0.19913083764508174,0.19470750430948244,0.10431829962087244,0.003611683431814061,0.08203518756185312,0.12459247614216828,0.06263394198463378,0.15269422831175983,0.11157925739139235,0.06497018044715482,0.11654230590799172,0.17602617201885115,0.24151759979010046,0.10948320917384471,0.2915545988504188,0.04165478674259393,0.1806814731901318,0.2456944392817315,0.21038861993931413,0.13360437904952777,0.3376078032629213,0.25212310423295087,0.29880633897487274,0.3622731591271479,0.26455558865624246,0.2690463996312539,0.7982328445224854,0.369300900568355,0.2600543542877157,0.19862943291435126,0.27448944088888966,2.3227658815986953,0.10410271272608551,0.3203683029574118],\"y\":[0.013648343453049036,0.008384584519268986,0.004741483399092485,0.012784064084681922,0.026819035227025324,0.009410444154774735,0.02062199963574402,0.01682310303155234,0.005711660615447563,0.006703857417611235,0.04266537755480833,0.04257067091100205,0.03944496196817556,0.04008216794732056,0.012855842310700777,0.03896757179961609,0.03253999972558858,0.007460447290049374,0.03909674476085554,0.04036915729990097,0.02553971997205203,0.04366229516124508,0.049721961540470545,0.021058867746825312,0.04582461086738894,0.038815239534900715,0.018916341062246243,0.037401202509192044,0.04584552308072724,0.04505482789680527,0.03894936548019741,0.045209916841122674,0.04540775632301788,0.04545757050322327,0.04517725930369896,0.028301513022553175,0.040866544306860784,0.012169010164218192,0.04081573309743054,0.008040071025711467,0.011895844641772726,0.04543117459388309,0.044806940719727975,0.043138421100413694,0.025261718891092837,0.017113500602103822,0.03890231913916076,0.019784541040120236,0.04490918414474553,0.03922441395901547,0.03368732378597614,0.046050062124436145,0.04259659999027671,0.04402044376217355,0.04209625245849248,0.031141732411799638,0.029220747412093136,0.03853347797358172,0.04470920711266495,0.015140031885854516,0.04520030293882436,0.040330150760652994,0.043649562517788995,0.04334195223209881,0.04711909208606287,0.04588815080256583,0.04711696546721259,0.03868531455570373,0.04405396892349624,0.010226651669573147,0.040186848723246765,0.04576912612771526,0.03743044080677681,0.04813638912344948,0.04767804453865597,0.04787016660595077,0.0442269989692434,0.05160502896971771,0.044706490732268185,0.048810434499082116,0.050207529240706095,0.0500876608974669,0.048830779175895525,0.04938398938189813,0.0002664826418719655,0.04335672504840828,0.04713475786522338,0.044682142054042716,0.044540783077325924,0.04144877753232106,0.039211874420238886,0.04953492649127113,0.0002664826418719655,0.04838689583620827,0.04595258182181265,0.045718961326748256,0.04393301185061045,0.05009038041081472,0.01003838528523222,0.05166397175387265,0.04294062892536711,0.0002664826418719655,0.047693406513411404,0.0464403559932962,0.046505409298773795,0.04640022018597044,0.039604112244308036,0.048216477841797487,0.04162827461324521,0.04224127516192849,0.0468960571634295,0.021876554105444933,0.043829503343798856,0.0465711776073618,0.047713126902449665,0.04390056335826291,0.01604289616875863,0.04473949832920504,0.0416112371927709,0.04555280926318378,0.04463359623785629,0.049549990063309304,0.05127658646001674,0.04798015182270694,0.04628214007351365,0.048628887586552004,0.015429645566858736,0.01883425070481159,0.033329044263837405,0.04580812761342867,0.04783519907203161,0.04933165519408496,0.05142714857553258,0.05178247624607196,0.051950284177614804,0.045441949112205296,0.039496823821545554,0.04706210437636923,0.05250245698729975,0.03648634213317066,0.04767874166332025,0.05165795847222806,0.03465909740885862,0.04956062491649639,0.049582487653871646,0.04916005427399729,0.046628712030432715,0.05055754574280693,0.048445277085689555,0.03962024312437635,0.052310492825314726,0.053722151204414016,0.05211979333066661,0.036416744678689585,0.05406959471293592,0.05155781254992042,0.04806323004205436,0.017457979580316803,0.04709039829527204,0.054052932562779085,0.05275693643762428,0.051510439820175155,0.04968480764611222,0.053152822848982276,0.0002664826418719655,0.05043519073146373,0.042515204478707665,0.04043828245593929,0.049817711294313935,0.05188000046965213,0.045724571764805745,0.0512398085215944,0.05280344662585394,0.05005022713387406,0.01853376714322689,0.04590426180835168,0.05082808163244969,0.052454046443967575,0.049189334981901596,0.045444726522056146,0.051799059791093185,0.05171712247652656,0.05020594119922482,0.045591840591921784,0.05120762828417066,0.0516128587227111,0.04980816458339052,0.04312051544352265,0.051270860422436594,0.05098926311358872,0.04861208975177027,0.0002664826418719655,0.051633463763765305,0.05230422105309929,0.05020244846485474,0.05320402172213732,0.0002664826418719655,0.0531839874364747,0.05035256977958515,0.05233818727741195,0.051329600467651816,0.05428822463060982,0.05265390464058417,0.05229516995545428,0.05161448631039798,0.04932165895248399,0.05261767872645897,0.010935478205515726,0.05217322192784685,0.047810297104907785,0.04964158107739683,0.05209968837328636,0.04530254122462034,0.0002664826418719655,0.05223217167649983,0.05060823511584637,0.05262114427326301,0.0516983799374373,0.05204006095910527,0.050091573324523166,0.051471457305094934,0.05173023796537907,0.052023319725004735,0.05088535235085474,0.05284120347937071,0.053798529862966495,0.05465215247762488,0.05433076884479106,0.054759280329488624,0.0549701405549974,0.05215600861152127,0.0545181059043373,0.05460502255559648,0.05494524965373336,0.04420683469338494,0.01948693703402646,0.05386208800052622,0.053995445903854966,0.041705090073447956,0.054303993486850374,0.054498838469172084,0.0543713920547223,0.0002664826418719655,0.05434869070847054,0.053810943150142135,0.05447433453306981,0.054319470783548575,0.036904562559433474,0.05395554901516657,0.0002664826418719655,0.05412555218955969,0.0543421536693508,0.049844244712719546,0.0002664826418719655,0.053538748184996786,0.05248184229295355,0.049418190080879845,0.054066956351331075,0.054047112581907655,0.050596323567847754,0.0002664826418719655,0.05368207135026594,0.04092898789480566,0.05120288603337164,0.05363302918819535,0.053637614917703094,0.0002664826418719655,0.03615806838791785,0.05279182917855617,0.0483607244486305,0.05398885147877438,0.05116466376145386,0.0002664826418719655,0.051417795275824484,0.018767897653119175,0.05384508518413256,0.03812166338017797,0.05410971467903987,0.01858539727778784,0.013388713136420382,0.05244815070052429,0.049193244339524676,0.04525658040387958,0.043434114239143104,0.05286234198795873,0.0002664826418719655,0.05423729225137055,0.04919674880363255,0.052087629512171586,0.0543720500592089,0.04174896430626927,0.031085633144068824,0.052460182433159974,0.05440985757964252,0.050894473179814236,0.04475813103510859,0.05488205545188194,0.03731133744387903,0.05154973558146274,0.0002664826418719655,0.04859471442157407,0.0502766028088221,0.053679015523167006,0.028023182429664957,0.054752531235729616,0.05173878429491854,0.01887954234085104,0.052965433639624235,0.05037111002087953,0.039067563499151706,0.04163133064007455,0.05340537365794444,0.052464743244902655,0.05307754686109965,0.050636830550296205,0.054778205015114746,0.03713773858672683,0.0002664826418719655,0.04138880135204787,0.05019541067552363,0.053068018109177495,0.053829979870698375,0.05155291837445743,0.05195973357738074,0.04089425315445553,0.020133742411846643,0.04815177072737455,0.0002664826418719655,0.05100730261717721,0.05372552844304235,0.05236300139310024,0.050387190781800664,0.05424188420423648,0.051322106704148586,0.05378206904846614,0.0002664826418719655,0.05231481425063942,0.05363743402660661,0.0496183920018823,0.0002664826418719655,0.04974076839253654,0.01237919615907396,0.017304647456378504,0.05404672422712283,0.04878509177094852,0.05270604502709993,0.05140789716359186,0.05459058936401172,0.01936535468689161,0.05372113902243399,0.05133610674006137,0.04953534708708972,0.051387833069787746,0.04685575478768903,0.0002664826418719655,0.05363329867170955,0.011954838874177686,0.0513866756555618,0.052849114496456094,0.05253234167497152,0.05423972785102097,0.0002664826418719655,0.04817247529233756,0.021249178493101335,0.0507531016545121,0.037528362519400935,0.054530025879832744,0.0002664826418719655,0.054359227079406755,0.05068838822632908,0.05255857550520954,0.05485015525013119,0.045510381276771456,0.052677038529487005,0.0002664826418719655,0.05041077984875649,0.054247567087592444,0.051631569657435296,0.017258995059359895,0.05272827430354554,0.05400536641997814,0.04329493924093543,0.05422291294121813,0.019350838210454517,0.05054715511410603,0.05245363494339297,0.05449061114642639,0.0002664826418719655,0.05150012702290474,0.05287454730137714,0.021272423457324614,0.05456350413122622,0.0489333655528126,0.054373606236648796,0.036207264694276334,0.019901541905074305,0.0524088680514076,0.03744689164613541,0.04280752912529077,0.054491010939430505,0.04198662517258296,0.04883911893977798,0.019584515095539996,0.05452862685960928,0.051821451383942715,0.05422185689411909,0.0002664826418719655,0.051571220817366294,0.052960442137944166,0.04972051149971205,0.05429320006558552,0.05136668148280946,0.05456698129893446,0.04878355564701278,0.05056495826490104,0.05467231106559067,0.019200658012976865,0.03833832518023366,0.05156753545888163,0.05475199437869978,0.04650707514791973,0.0002664826418719655,0.012513718730213142,0.05214010678664288,0.0526479407265556],\"type\":\"scatter\",\"xaxis\":\"x2\",\"yaxis\":\"y2\"},{\"marker\":{\"color\":[0,1,2,3,4,5,6,7,8,9,10,11,12,13,14,15,16,17,18,19,20,21,22,23,24,25,26,27,28,29,30,31,32,33,34,35,36,37,38,39,40,41,42,43,44,45,46,47,48,49,50,51,52,53,54,55,56,57,58,59,60,61,62,63,64,65,66,67,68,69,70,71,72,73,74,75,76,77,78,79,80,81,82,83,84,85,86,87,88,89,90,91,92,93,94,95,96,97,98,99,100,101,102,103,104,105,106,107,108,109,110,111,112,113,114,115,116,117,118,119,120,121,122,123,124,125,126,127,128,129,130,131,132,133,134,135,136,137,138,139,140,141,142,143,144,145,146,147,148,149,150,151,152,153,154,155,156,157,158,159,160,161,162,163,164,165,166,167,168,169,170,171,172,173,174,175,176,177,178,179,180,181,182,183,184,185,186,187,188,189,190,191,192,193,194,195,196,197,198,199,200,201,202,203,204,205,206,207,208,209,210,211,212,213,214,215,216,217,218,219,220,221,222,223,224,225,226,227,228,229,230,231,232,233,234,235,236,237,238,239,240,241,242,243,244,245,246,247,248,249,250,251,252,253,254,255,256,257,258,259,260,261,262,263,264,265,266,267,268,269,270,271,272,273,274,275,276,277,278,279,280,281,282,283,284,285,286,287,288,289,290,291,292,293,294,295,296,297,298,299,300,301,302,303,304,305,306,307,308,309,310,311,312,313,314,315,316,317,318,319,320,321,322,323,324,325,326,327,328,329,330,331,332,333,334,335,336,337,338,339,340,341,342,343,344,345,346,347,348,349,350,351,352,353,354,355,356,357,358,359,360,361,362,363,364,365,366,367,368,369,370,371,372,373,374,375,376,377,378,379,380,381,382,383,384,385,386,387,388,389,390,391,392,393,394,395,396,397,398,399,400,401,402,403,404,405,406,407,408,409,410,411,412,413,414,415,416,417,418,419,420,421,422,423,424],\"colorbar\":{\"title\":{\"text\":\"Trial\"},\"x\":1.0,\"xpad\":40},\"colorscale\":[[0.0,\"rgb(247,251,255)\"],[0.125,\"rgb(222,235,247)\"],[0.25,\"rgb(198,219,239)\"],[0.375,\"rgb(158,202,225)\"],[0.5,\"rgb(107,174,214)\"],[0.625,\"rgb(66,146,198)\"],[0.75,\"rgb(33,113,181)\"],[0.875,\"rgb(8,81,156)\"],[1.0,\"rgb(8,48,107)\"]],\"line\":{\"color\":\"Grey\",\"width\":0.5},\"showscale\":false},\"mode\":\"markers\",\"name\":\"Feasible Trial\",\"showlegend\":false,\"x\":[false,true,true,true,false,false,true,false,true,false,false,false,false,false,false,false,false,false,false,false,false,false,false,false,false,false,true,false,false,false,false,false,false,false,true,false,true,false,false,true,false,false,false,false,false,false,false,true,false,false,false,false,false,false,false,false,false,false,false,true,false,false,false,false,false,false,false,false,false,false,false,false,false,false,false,false,false,false,true,false,false,false,false,false,false,false,false,false,false,true,false,false,false,false,false,false,false,false,false,false,false,false,false,false,false,false,false,false,true,false,false,false,false,false,false,false,false,false,false,false,false,false,false,false,false,false,false,false,false,false,true,false,false,false,false,false,false,false,false,false,false,false,false,false,false,false,false,false,false,false,false,false,false,false,false,false,false,false,true,false,false,false,false,false,false,false,false,false,false,false,false,false,false,false,false,false,false,false,false,false,false,false,false,false,false,false,false,false,true,false,false,false,false,false,false,false,false,false,false,false,false,false,false,false,false,false,false,false,false,false,false,false,false,false,false,false,false,false,false,false,false,false,false,false,false,false,false,true,true,true,true,true,true,true,true,true,true,true,true,true,true,true,true,true,true,true,true,true,true,true,true,true,true,true,true,true,true,true,true,true,true,true,true,true,true,true,true,true,true,true,true,true,true,true,true,true,true,true,true,true,true,true,true,true,true,true,true,true,true,true,true,true,true,true,true,true,true,true,true,true,true,true,true,true,true,true,true,true,true,true,true,true,true,true,true,true,true,true,true,true,true,true,true,true,true,true,true,true,true,true,true,true,true,true,true,true,true,true,true,true,true,true,true,true,true,true,true,true,true,true,true,true,true,true,true,true,true,true,true,true,true,true,true,true,true,true,true,true,true,true,true,true,true,true,true,true,true,true,true,true,true,true,true,true,true,true,true,true,true,true,true,true,true,true,true,true,true,true,true,true,true,true,true,true,true,true,true,true,true,true,true,true,true,true,true,true,true,true,true,true,true,true,true,true,true],\"y\":[0.013648343453049036,0.008384584519268986,0.004741483399092485,0.012784064084681922,0.026819035227025324,0.009410444154774735,0.02062199963574402,0.01682310303155234,0.005711660615447563,0.006703857417611235,0.04266537755480833,0.04257067091100205,0.03944496196817556,0.04008216794732056,0.012855842310700777,0.03896757179961609,0.03253999972558858,0.007460447290049374,0.03909674476085554,0.04036915729990097,0.02553971997205203,0.04366229516124508,0.049721961540470545,0.021058867746825312,0.04582461086738894,0.038815239534900715,0.018916341062246243,0.037401202509192044,0.04584552308072724,0.04505482789680527,0.03894936548019741,0.045209916841122674,0.04540775632301788,0.04545757050322327,0.04517725930369896,0.028301513022553175,0.040866544306860784,0.012169010164218192,0.04081573309743054,0.008040071025711467,0.011895844641772726,0.04543117459388309,0.044806940719727975,0.043138421100413694,0.025261718891092837,0.017113500602103822,0.03890231913916076,0.019784541040120236,0.04490918414474553,0.03922441395901547,0.03368732378597614,0.046050062124436145,0.04259659999027671,0.04402044376217355,0.04209625245849248,0.031141732411799638,0.029220747412093136,0.03853347797358172,0.04470920711266495,0.015140031885854516,0.04520030293882436,0.040330150760652994,0.043649562517788995,0.04334195223209881,0.04711909208606287,0.04588815080256583,0.04711696546721259,0.03868531455570373,0.04405396892349624,0.010226651669573147,0.040186848723246765,0.04576912612771526,0.03743044080677681,0.04813638912344948,0.04767804453865597,0.04787016660595077,0.0442269989692434,0.05160502896971771,0.044706490732268185,0.048810434499082116,0.050207529240706095,0.0500876608974669,0.048830779175895525,0.04938398938189813,0.0002664826418719655,0.04335672504840828,0.04713475786522338,0.044682142054042716,0.044540783077325924,0.04144877753232106,0.039211874420238886,0.04953492649127113,0.0002664826418719655,0.04838689583620827,0.04595258182181265,0.045718961326748256,0.04393301185061045,0.05009038041081472,0.01003838528523222,0.05166397175387265,0.04294062892536711,0.0002664826418719655,0.047693406513411404,0.0464403559932962,0.046505409298773795,0.04640022018597044,0.039604112244308036,0.048216477841797487,0.04162827461324521,0.04224127516192849,0.0468960571634295,0.021876554105444933,0.043829503343798856,0.0465711776073618,0.047713126902449665,0.04390056335826291,0.01604289616875863,0.04473949832920504,0.0416112371927709,0.04555280926318378,0.04463359623785629,0.049549990063309304,0.05127658646001674,0.04798015182270694,0.04628214007351365,0.048628887586552004,0.015429645566858736,0.01883425070481159,0.033329044263837405,0.04580812761342867,0.04783519907203161,0.04933165519408496,0.05142714857553258,0.05178247624607196,0.051950284177614804,0.045441949112205296,0.039496823821545554,0.04706210437636923,0.05250245698729975,0.03648634213317066,0.04767874166332025,0.05165795847222806,0.03465909740885862,0.04956062491649639,0.049582487653871646,0.04916005427399729,0.046628712030432715,0.05055754574280693,0.048445277085689555,0.03962024312437635,0.052310492825314726,0.053722151204414016,0.05211979333066661,0.036416744678689585,0.05406959471293592,0.05155781254992042,0.04806323004205436,0.017457979580316803,0.04709039829527204,0.054052932562779085,0.05275693643762428,0.051510439820175155,0.04968480764611222,0.053152822848982276,0.0002664826418719655,0.05043519073146373,0.042515204478707665,0.04043828245593929,0.049817711294313935,0.05188000046965213,0.045724571764805745,0.0512398085215944,0.05280344662585394,0.05005022713387406,0.01853376714322689,0.04590426180835168,0.05082808163244969,0.052454046443967575,0.049189334981901596,0.045444726522056146,0.051799059791093185,0.05171712247652656,0.05020594119922482,0.045591840591921784,0.05120762828417066,0.0516128587227111,0.04980816458339052,0.04312051544352265,0.051270860422436594,0.05098926311358872,0.04861208975177027,0.0002664826418719655,0.051633463763765305,0.05230422105309929,0.05020244846485474,0.05320402172213732,0.0002664826418719655,0.0531839874364747,0.05035256977958515,0.05233818727741195,0.051329600467651816,0.05428822463060982,0.05265390464058417,0.05229516995545428,0.05161448631039798,0.04932165895248399,0.05261767872645897,0.010935478205515726,0.05217322192784685,0.047810297104907785,0.04964158107739683,0.05209968837328636,0.04530254122462034,0.0002664826418719655,0.05223217167649983,0.05060823511584637,0.05262114427326301,0.0516983799374373,0.05204006095910527,0.050091573324523166,0.051471457305094934,0.05173023796537907,0.052023319725004735,0.05088535235085474,0.05284120347937071,0.053798529862966495,0.05465215247762488,0.05433076884479106,0.054759280329488624,0.0549701405549974,0.05215600861152127,0.0545181059043373,0.05460502255559648,0.05494524965373336,0.04420683469338494,0.01948693703402646,0.05386208800052622,0.053995445903854966,0.041705090073447956,0.054303993486850374,0.054498838469172084,0.0543713920547223,0.0002664826418719655,0.05434869070847054,0.053810943150142135,0.05447433453306981,0.054319470783548575,0.036904562559433474,0.05395554901516657,0.0002664826418719655,0.05412555218955969,0.0543421536693508,0.049844244712719546,0.0002664826418719655,0.053538748184996786,0.05248184229295355,0.049418190080879845,0.054066956351331075,0.054047112581907655,0.050596323567847754,0.0002664826418719655,0.05368207135026594,0.04092898789480566,0.05120288603337164,0.05363302918819535,0.053637614917703094,0.0002664826418719655,0.03615806838791785,0.05279182917855617,0.0483607244486305,0.05398885147877438,0.05116466376145386,0.0002664826418719655,0.051417795275824484,0.018767897653119175,0.05384508518413256,0.03812166338017797,0.05410971467903987,0.01858539727778784,0.013388713136420382,0.05244815070052429,0.049193244339524676,0.04525658040387958,0.043434114239143104,0.05286234198795873,0.0002664826418719655,0.05423729225137055,0.04919674880363255,0.052087629512171586,0.0543720500592089,0.04174896430626927,0.031085633144068824,0.052460182433159974,0.05440985757964252,0.050894473179814236,0.04475813103510859,0.05488205545188194,0.03731133744387903,0.05154973558146274,0.0002664826418719655,0.04859471442157407,0.0502766028088221,0.053679015523167006,0.028023182429664957,0.054752531235729616,0.05173878429491854,0.01887954234085104,0.052965433639624235,0.05037111002087953,0.039067563499151706,0.04163133064007455,0.05340537365794444,0.052464743244902655,0.05307754686109965,0.050636830550296205,0.054778205015114746,0.03713773858672683,0.0002664826418719655,0.04138880135204787,0.05019541067552363,0.053068018109177495,0.053829979870698375,0.05155291837445743,0.05195973357738074,0.04089425315445553,0.020133742411846643,0.04815177072737455,0.0002664826418719655,0.05100730261717721,0.05372552844304235,0.05236300139310024,0.050387190781800664,0.05424188420423648,0.051322106704148586,0.05378206904846614,0.0002664826418719655,0.05231481425063942,0.05363743402660661,0.0496183920018823,0.0002664826418719655,0.04974076839253654,0.01237919615907396,0.017304647456378504,0.05404672422712283,0.04878509177094852,0.05270604502709993,0.05140789716359186,0.05459058936401172,0.01936535468689161,0.05372113902243399,0.05133610674006137,0.04953534708708972,0.051387833069787746,0.04685575478768903,0.0002664826418719655,0.05363329867170955,0.011954838874177686,0.0513866756555618,0.052849114496456094,0.05253234167497152,0.05423972785102097,0.0002664826418719655,0.04817247529233756,0.021249178493101335,0.0507531016545121,0.037528362519400935,0.054530025879832744,0.0002664826418719655,0.054359227079406755,0.05068838822632908,0.05255857550520954,0.05485015525013119,0.045510381276771456,0.052677038529487005,0.0002664826418719655,0.05041077984875649,0.054247567087592444,0.051631569657435296,0.017258995059359895,0.05272827430354554,0.05400536641997814,0.04329493924093543,0.05422291294121813,0.019350838210454517,0.05054715511410603,0.05245363494339297,0.05449061114642639,0.0002664826418719655,0.05150012702290474,0.05287454730137714,0.021272423457324614,0.05456350413122622,0.0489333655528126,0.054373606236648796,0.036207264694276334,0.019901541905074305,0.0524088680514076,0.03744689164613541,0.04280752912529077,0.054491010939430505,0.04198662517258296,0.04883911893977798,0.019584515095539996,0.05452862685960928,0.051821451383942715,0.05422185689411909,0.0002664826418719655,0.051571220817366294,0.052960442137944166,0.04972051149971205,0.05429320006558552,0.05136668148280946,0.05456698129893446,0.04878355564701278,0.05056495826490104,0.05467231106559067,0.019200658012976865,0.03833832518023366,0.05156753545888163,0.05475199437869978,0.04650707514791973,0.0002664826418719655,0.012513718730213142,0.05214010678664288,0.0526479407265556],\"type\":\"scatter\",\"xaxis\":\"x3\",\"yaxis\":\"y3\"},{\"marker\":{\"color\":[0,1,2,3,4,5,6,7,8,9,10,11,12,13,14,15,16,17,18,19,20,21,22,23,24,25,26,27,28,29,30,31,32,33,34,35,36,37,38,39,40,41,42,43,44,45,46,47,48,49,50,51,52,53,54,55,56,57,58,59,60,61,62,63,64,65,66,67,68,69,70,71,72,73,74,75,76,77,78,79,80,81,82,83,84,85,86,87,88,89,90,91,92,93,94,95,96,97,98,99,100,101,102,103,104,105,106,107,108,109,110,111,112,113,114,115,116,117,118,119,120,121,122,123,124,125,126,127,128,129,130,131,132,133,134,135,136,137,138,139,140,141,142,143,144,145,146,147,148,149,150,151,152,153,154,155,156,157,158,159,160,161,162,163,164,165,166,167,168,169,170,171,172,173,174,175,176,177,178,179,180,181,182,183,184,185,186,187,188,189,190,191,192,193,194,195,196,197,198,199,200,201,202,203,204,205,206,207,208,209,210,211,212,213,214,215,216,217,218,219,220,221,222,223,224,225,226,227,228,229,230,231,232,233,234,235,236,237,238,239,240,241,242,243,244,245,246,247,248,249,250,251,252,253,254,255,256,257,258,259,260,261,262,263,264,265,266,267,268,269,270,271,272,273,274,275,276,277,278,279,280,281,282,283,284,285,286,287,288,289,290,291,292,293,294,295,296,297,298,299,300,301,302,303,304,305,306,307,308,309,310,311,312,313,314,315,316,317,318,319,320,321,322,323,324,325,326,327,328,329,330,331,332,333,334,335,336,337,338,339,340,341,342,343,344,345,346,347,348,349,350,351,352,353,354,355,356,357,358,359,360,361,362,363,364,365,366,367,368,369,370,371,372,373,374,375,376,377,378,379,380,381,382,383,384,385,386,387,388,389,390,391,392,393,394,395,396,397,398,399,400,401,402,403,404,405,406,407,408,409,410,411,412,413,414,415,416,417,418,419,420,421,422,423,424],\"colorbar\":{\"title\":{\"text\":\"Trial\"},\"x\":1.0,\"xpad\":40},\"colorscale\":[[0.0,\"rgb(247,251,255)\"],[0.125,\"rgb(222,235,247)\"],[0.25,\"rgb(198,219,239)\"],[0.375,\"rgb(158,202,225)\"],[0.5,\"rgb(107,174,214)\"],[0.625,\"rgb(66,146,198)\"],[0.75,\"rgb(33,113,181)\"],[0.875,\"rgb(8,81,156)\"],[1.0,\"rgb(8,48,107)\"]],\"line\":{\"color\":\"Grey\",\"width\":0.5},\"showscale\":false},\"mode\":\"markers\",\"name\":\"Feasible Trial\",\"showlegend\":false,\"x\":[false,false,false,false,false,true,true,true,false,true,false,false,false,false,false,false,false,false,true,false,false,false,false,false,false,false,true,false,false,false,false,false,false,false,false,false,false,false,true,false,true,false,false,false,false,false,false,false,false,true,false,false,false,false,false,false,false,false,false,true,false,false,false,false,false,false,false,false,false,false,false,false,false,false,false,false,false,true,true,true,true,true,true,true,true,true,true,true,true,true,true,true,true,true,true,true,true,true,true,true,true,true,true,true,true,true,true,true,true,true,true,true,true,true,true,true,true,true,true,true,true,true,true,true,true,true,true,true,true,true,true,true,true,true,true,true,true,true,true,true,true,true,true,true,true,true,true,true,true,true,true,true,true,true,true,true,true,true,true,true,true,true,true,true,true,true,true,true,true,true,true,true,true,true,true,true,true,true,true,true,true,true,true,true,true,true,true,true,true,true,true,true,true,true,true,true,true,true,true,true,true,true,true,true,true,true,true,true,true,true,true,true,true,true,true,true,true,true,true,true,true,true,true,true,true,true,true,true,true,true,true,true,true,true,true,true,true,true,true,true,true,true,true,true,true,true,true,true,true,true,true,true,true,true,true,true,true,true,true,true,true,true,true,true,true,true,true,true,true,true,true,true,true,true,true,true,true,true,true,true,true,true,true,true,true,true,true,true,true,true,true,true,true,true,true,true,true,true,true,true,true,true,true,true,true,true,true,true,true,true,true,true,true,true,true,true,true,true,true,true,true,true,true,true,true,true,true,true,true,true,true,true,true,true,true,true,true,true,true,true,true,true,true,true,true,true,true,true,true,true,true,true,true,true,true,true,true,true,true,true,true,true,true,false,true,true,true,true,true,true,true,true,true,true,true,true,true,true,true,true,true,false,true,true,true,true,true,true,true,true,true,true,true,true,true,true,true,true,true,true,false,true,true,true,true,true,true,true,true,true,true,true,true,true,true,true,true,true,true,true,false,true,true,true,true],\"y\":[0.013648343453049036,0.008384584519268986,0.004741483399092485,0.012784064084681922,0.026819035227025324,0.009410444154774735,0.02062199963574402,0.01682310303155234,0.005711660615447563,0.006703857417611235,0.04266537755480833,0.04257067091100205,0.03944496196817556,0.04008216794732056,0.012855842310700777,0.03896757179961609,0.03253999972558858,0.007460447290049374,0.03909674476085554,0.04036915729990097,0.02553971997205203,0.04366229516124508,0.049721961540470545,0.021058867746825312,0.04582461086738894,0.038815239534900715,0.018916341062246243,0.037401202509192044,0.04584552308072724,0.04505482789680527,0.03894936548019741,0.045209916841122674,0.04540775632301788,0.04545757050322327,0.04517725930369896,0.028301513022553175,0.040866544306860784,0.012169010164218192,0.04081573309743054,0.008040071025711467,0.011895844641772726,0.04543117459388309,0.044806940719727975,0.043138421100413694,0.025261718891092837,0.017113500602103822,0.03890231913916076,0.019784541040120236,0.04490918414474553,0.03922441395901547,0.03368732378597614,0.046050062124436145,0.04259659999027671,0.04402044376217355,0.04209625245849248,0.031141732411799638,0.029220747412093136,0.03853347797358172,0.04470920711266495,0.015140031885854516,0.04520030293882436,0.040330150760652994,0.043649562517788995,0.04334195223209881,0.04711909208606287,0.04588815080256583,0.04711696546721259,0.03868531455570373,0.04405396892349624,0.010226651669573147,0.040186848723246765,0.04576912612771526,0.03743044080677681,0.04813638912344948,0.04767804453865597,0.04787016660595077,0.0442269989692434,0.05160502896971771,0.044706490732268185,0.048810434499082116,0.050207529240706095,0.0500876608974669,0.048830779175895525,0.04938398938189813,0.0002664826418719655,0.04335672504840828,0.04713475786522338,0.044682142054042716,0.044540783077325924,0.04144877753232106,0.039211874420238886,0.04953492649127113,0.0002664826418719655,0.04838689583620827,0.04595258182181265,0.045718961326748256,0.04393301185061045,0.05009038041081472,0.01003838528523222,0.05166397175387265,0.04294062892536711,0.0002664826418719655,0.047693406513411404,0.0464403559932962,0.046505409298773795,0.04640022018597044,0.039604112244308036,0.048216477841797487,0.04162827461324521,0.04224127516192849,0.0468960571634295,0.021876554105444933,0.043829503343798856,0.0465711776073618,0.047713126902449665,0.04390056335826291,0.01604289616875863,0.04473949832920504,0.0416112371927709,0.04555280926318378,0.04463359623785629,0.049549990063309304,0.05127658646001674,0.04798015182270694,0.04628214007351365,0.048628887586552004,0.015429645566858736,0.01883425070481159,0.033329044263837405,0.04580812761342867,0.04783519907203161,0.04933165519408496,0.05142714857553258,0.05178247624607196,0.051950284177614804,0.045441949112205296,0.039496823821545554,0.04706210437636923,0.05250245698729975,0.03648634213317066,0.04767874166332025,0.05165795847222806,0.03465909740885862,0.04956062491649639,0.049582487653871646,0.04916005427399729,0.046628712030432715,0.05055754574280693,0.048445277085689555,0.03962024312437635,0.052310492825314726,0.053722151204414016,0.05211979333066661,0.036416744678689585,0.05406959471293592,0.05155781254992042,0.04806323004205436,0.017457979580316803,0.04709039829527204,0.054052932562779085,0.05275693643762428,0.051510439820175155,0.04968480764611222,0.053152822848982276,0.0002664826418719655,0.05043519073146373,0.042515204478707665,0.04043828245593929,0.049817711294313935,0.05188000046965213,0.045724571764805745,0.0512398085215944,0.05280344662585394,0.05005022713387406,0.01853376714322689,0.04590426180835168,0.05082808163244969,0.052454046443967575,0.049189334981901596,0.045444726522056146,0.051799059791093185,0.05171712247652656,0.05020594119922482,0.045591840591921784,0.05120762828417066,0.0516128587227111,0.04980816458339052,0.04312051544352265,0.051270860422436594,0.05098926311358872,0.04861208975177027,0.0002664826418719655,0.051633463763765305,0.05230422105309929,0.05020244846485474,0.05320402172213732,0.0002664826418719655,0.0531839874364747,0.05035256977958515,0.05233818727741195,0.051329600467651816,0.05428822463060982,0.05265390464058417,0.05229516995545428,0.05161448631039798,0.04932165895248399,0.05261767872645897,0.010935478205515726,0.05217322192784685,0.047810297104907785,0.04964158107739683,0.05209968837328636,0.04530254122462034,0.0002664826418719655,0.05223217167649983,0.05060823511584637,0.05262114427326301,0.0516983799374373,0.05204006095910527,0.050091573324523166,0.051471457305094934,0.05173023796537907,0.052023319725004735,0.05088535235085474,0.05284120347937071,0.053798529862966495,0.05465215247762488,0.05433076884479106,0.054759280329488624,0.0549701405549974,0.05215600861152127,0.0545181059043373,0.05460502255559648,0.05494524965373336,0.04420683469338494,0.01948693703402646,0.05386208800052622,0.053995445903854966,0.041705090073447956,0.054303993486850374,0.054498838469172084,0.0543713920547223,0.0002664826418719655,0.05434869070847054,0.053810943150142135,0.05447433453306981,0.054319470783548575,0.036904562559433474,0.05395554901516657,0.0002664826418719655,0.05412555218955969,0.0543421536693508,0.049844244712719546,0.0002664826418719655,0.053538748184996786,0.05248184229295355,0.049418190080879845,0.054066956351331075,0.054047112581907655,0.050596323567847754,0.0002664826418719655,0.05368207135026594,0.04092898789480566,0.05120288603337164,0.05363302918819535,0.053637614917703094,0.0002664826418719655,0.03615806838791785,0.05279182917855617,0.0483607244486305,0.05398885147877438,0.05116466376145386,0.0002664826418719655,0.051417795275824484,0.018767897653119175,0.05384508518413256,0.03812166338017797,0.05410971467903987,0.01858539727778784,0.013388713136420382,0.05244815070052429,0.049193244339524676,0.04525658040387958,0.043434114239143104,0.05286234198795873,0.0002664826418719655,0.05423729225137055,0.04919674880363255,0.052087629512171586,0.0543720500592089,0.04174896430626927,0.031085633144068824,0.052460182433159974,0.05440985757964252,0.050894473179814236,0.04475813103510859,0.05488205545188194,0.03731133744387903,0.05154973558146274,0.0002664826418719655,0.04859471442157407,0.0502766028088221,0.053679015523167006,0.028023182429664957,0.054752531235729616,0.05173878429491854,0.01887954234085104,0.052965433639624235,0.05037111002087953,0.039067563499151706,0.04163133064007455,0.05340537365794444,0.052464743244902655,0.05307754686109965,0.050636830550296205,0.054778205015114746,0.03713773858672683,0.0002664826418719655,0.04138880135204787,0.05019541067552363,0.053068018109177495,0.053829979870698375,0.05155291837445743,0.05195973357738074,0.04089425315445553,0.020133742411846643,0.04815177072737455,0.0002664826418719655,0.05100730261717721,0.05372552844304235,0.05236300139310024,0.050387190781800664,0.05424188420423648,0.051322106704148586,0.05378206904846614,0.0002664826418719655,0.05231481425063942,0.05363743402660661,0.0496183920018823,0.0002664826418719655,0.04974076839253654,0.01237919615907396,0.017304647456378504,0.05404672422712283,0.04878509177094852,0.05270604502709993,0.05140789716359186,0.05459058936401172,0.01936535468689161,0.05372113902243399,0.05133610674006137,0.04953534708708972,0.051387833069787746,0.04685575478768903,0.0002664826418719655,0.05363329867170955,0.011954838874177686,0.0513866756555618,0.052849114496456094,0.05253234167497152,0.05423972785102097,0.0002664826418719655,0.04817247529233756,0.021249178493101335,0.0507531016545121,0.037528362519400935,0.054530025879832744,0.0002664826418719655,0.054359227079406755,0.05068838822632908,0.05255857550520954,0.05485015525013119,0.045510381276771456,0.052677038529487005,0.0002664826418719655,0.05041077984875649,0.054247567087592444,0.051631569657435296,0.017258995059359895,0.05272827430354554,0.05400536641997814,0.04329493924093543,0.05422291294121813,0.019350838210454517,0.05054715511410603,0.05245363494339297,0.05449061114642639,0.0002664826418719655,0.05150012702290474,0.05287454730137714,0.021272423457324614,0.05456350413122622,0.0489333655528126,0.054373606236648796,0.036207264694276334,0.019901541905074305,0.0524088680514076,0.03744689164613541,0.04280752912529077,0.054491010939430505,0.04198662517258296,0.04883911893977798,0.019584515095539996,0.05452862685960928,0.051821451383942715,0.05422185689411909,0.0002664826418719655,0.051571220817366294,0.052960442137944166,0.04972051149971205,0.05429320006558552,0.05136668148280946,0.05456698129893446,0.04878355564701278,0.05056495826490104,0.05467231106559067,0.019200658012976865,0.03833832518023366,0.05156753545888163,0.05475199437869978,0.04650707514791973,0.0002664826418719655,0.012513718730213142,0.05214010678664288,0.0526479407265556],\"type\":\"scatter\",\"xaxis\":\"x4\",\"yaxis\":\"y4\"},{\"marker\":{\"color\":[0,1,2,3,4,5,6,7,8,9,10,11,12,13,14,15,16,17,18,19,20,21,22,23,24,25,26,27,28,29,30,31,32,33,34,35,36,37,38,39,40,41,42,43,44,45,46,47,48,49,50,51,52,53,54,55,56,57,58,59,60,61,62,63,64,65,66,67,68,69,70,71,72,73,74,75,76,77,78,79,80,81,82,83,84,85,86,87,88,89,90,91,92,93,94,95,96,97,98,99,100,101,102,103,104,105,106,107,108,109,110,111,112,113,114,115,116,117,118,119,120,121,122,123,124,125,126,127,128,129,130,131,132,133,134,135,136,137,138,139,140,141,142,143,144,145,146,147,148,149,150,151,152,153,154,155,156,157,158,159,160,161,162,163,164,165,166,167,168,169,170,171,172,173,174,175,176,177,178,179,180,181,182,183,184,185,186,187,188,189,190,191,192,193,194,195,196,197,198,199,200,201,202,203,204,205,206,207,208,209,210,211,212,213,214,215,216,217,218,219,220,221,222,223,224,225,226,227,228,229,230,231,232,233,234,235,236,237,238,239,240,241,242,243,244,245,246,247,248,249,250,251,252,253,254,255,256,257,258,259,260,261,262,263,264,265,266,267,268,269,270,271,272,273,274,275,276,277,278,279,280,281,282,283,284,285,286,287,288,289,290,291,292,293,294,295,296,297,298,299,300,301,302,303,304,305,306,307,308,309,310,311,312,313,314,315,316,317,318,319,320,321,322,323,324,325,326,327,328,329,330,331,332,333,334,335,336,337,338,339,340,341,342,343,344,345,346,347,348,349,350,351,352,353,354,355,356,357,358,359,360,361,362,363,364,365,366,367,368,369,370,371,372,373,374,375,376,377,378,379,380,381,382,383,384,385,386,387,388,389,390,391,392,393,394,395,396,397,398,399,400,401,402,403,404,405,406,407,408,409,410,411,412,413,414,415,416,417,418,419,420,421,422,423,424],\"colorbar\":{\"title\":{\"text\":\"Trial\"},\"x\":1.0,\"xpad\":40},\"colorscale\":[[0.0,\"rgb(247,251,255)\"],[0.125,\"rgb(222,235,247)\"],[0.25,\"rgb(198,219,239)\"],[0.375,\"rgb(158,202,225)\"],[0.5,\"rgb(107,174,214)\"],[0.625,\"rgb(66,146,198)\"],[0.75,\"rgb(33,113,181)\"],[0.875,\"rgb(8,81,156)\"],[1.0,\"rgb(8,48,107)\"]],\"line\":{\"color\":\"Grey\",\"width\":0.5},\"showscale\":false},\"mode\":\"markers\",\"name\":\"Feasible Trial\",\"showlegend\":false,\"x\":[306,84,1218,1184,232,555,885,614,802,54,356,329,404,489,946,220,638,1444,424,165,345,11,23,49,3,34,147,2,211,251,127,234,183,153,112,111,282,488,1186,103,943,190,276,216,717,83,425,315,175,1086,62,194,6,211,351,1448,559,142,390,57,473,182,295,183,81,78,67,66,10,89,1341,109,123,52,40,37,43,42,252,52,32,36,34,24,0,137,29,109,148,34,797,39,0,40,100,145,70,34,255,28,157,0,93,27,128,49,91,33,1069,70,165,29,109,26,63,115,1,209,644,78,45,52,26,83,137,48,63,111,2,182,90,30,22,25,26,4,75,129,24,1493,94,21,2,61,61,67,125,57,154,99,22,23,23,2,23,27,28,1,85,28,26,25,64,23,0,26,98,27,86,23,54,23,25,56,1,120,84,29,54,1351,37,37,77,874,57,39,110,3,50,83,46,0,32,34,76,29,0,31,102,58,70,27,50,56,68,116,53,89,55,138,63,47,537,0,59,96,52,68,56,112,60,61,47,88,47,32,22,26,20,16,6,24,23,19,3,1,31,30,694,28,25,27,0,26,30,23,24,2,25,0,26,23,84,0,28,34,85,28,28,80,0,32,1115,76,31,32,0,77,44,110,28,64,0,44,89,26,70,26,1,70,53,104,26,376,47,0,26,81,52,28,1008,111,55,25,80,446,20,2,53,0,129,91,29,60,23,67,1,44,97,777,874,25,55,26,76,22,2,0,54,100,43,25,73,45,1268,587,137,0,79,26,48,102,27,67,29,0,58,27,125,0,82,316,51,27,96,50,70,22,1,25,50,107,76,163,0,30,47,77,27,51,24,0,112,53,76,937,23,0,28,86,53,21,520,52,0,98,29,71,130,50,27,70,28,1,97,48,26,0,70,40,73,25,126,23,654,1,46,823,81,22,51,101,1,25,54,29,0,66,46,108,26,71,24,159,94,23,1,50,66,22,25,0,82,49,49],\"y\":[0.013648343453049036,0.008384584519268986,0.004741483399092485,0.012784064084681922,0.026819035227025324,0.009410444154774735,0.02062199963574402,0.01682310303155234,0.005711660615447563,0.006703857417611235,0.04266537755480833,0.04257067091100205,0.03944496196817556,0.04008216794732056,0.012855842310700777,0.03896757179961609,0.03253999972558858,0.007460447290049374,0.03909674476085554,0.04036915729990097,0.02553971997205203,0.04366229516124508,0.049721961540470545,0.021058867746825312,0.04582461086738894,0.038815239534900715,0.018916341062246243,0.037401202509192044,0.04584552308072724,0.04505482789680527,0.03894936548019741,0.045209916841122674,0.04540775632301788,0.04545757050322327,0.04517725930369896,0.028301513022553175,0.040866544306860784,0.012169010164218192,0.04081573309743054,0.008040071025711467,0.011895844641772726,0.04543117459388309,0.044806940719727975,0.043138421100413694,0.025261718891092837,0.017113500602103822,0.03890231913916076,0.019784541040120236,0.04490918414474553,0.03922441395901547,0.03368732378597614,0.046050062124436145,0.04259659999027671,0.04402044376217355,0.04209625245849248,0.031141732411799638,0.029220747412093136,0.03853347797358172,0.04470920711266495,0.015140031885854516,0.04520030293882436,0.040330150760652994,0.043649562517788995,0.04334195223209881,0.04711909208606287,0.04588815080256583,0.04711696546721259,0.03868531455570373,0.04405396892349624,0.010226651669573147,0.040186848723246765,0.04576912612771526,0.03743044080677681,0.04813638912344948,0.04767804453865597,0.04787016660595077,0.0442269989692434,0.05160502896971771,0.044706490732268185,0.048810434499082116,0.050207529240706095,0.0500876608974669,0.048830779175895525,0.04938398938189813,0.0002664826418719655,0.04335672504840828,0.04713475786522338,0.044682142054042716,0.044540783077325924,0.04144877753232106,0.039211874420238886,0.04953492649127113,0.0002664826418719655,0.04838689583620827,0.04595258182181265,0.045718961326748256,0.04393301185061045,0.05009038041081472,0.01003838528523222,0.05166397175387265,0.04294062892536711,0.0002664826418719655,0.047693406513411404,0.0464403559932962,0.046505409298773795,0.04640022018597044,0.039604112244308036,0.048216477841797487,0.04162827461324521,0.04224127516192849,0.0468960571634295,0.021876554105444933,0.043829503343798856,0.0465711776073618,0.047713126902449665,0.04390056335826291,0.01604289616875863,0.04473949832920504,0.0416112371927709,0.04555280926318378,0.04463359623785629,0.049549990063309304,0.05127658646001674,0.04798015182270694,0.04628214007351365,0.048628887586552004,0.015429645566858736,0.01883425070481159,0.033329044263837405,0.04580812761342867,0.04783519907203161,0.04933165519408496,0.05142714857553258,0.05178247624607196,0.051950284177614804,0.045441949112205296,0.039496823821545554,0.04706210437636923,0.05250245698729975,0.03648634213317066,0.04767874166332025,0.05165795847222806,0.03465909740885862,0.04956062491649639,0.049582487653871646,0.04916005427399729,0.046628712030432715,0.05055754574280693,0.048445277085689555,0.03962024312437635,0.052310492825314726,0.053722151204414016,0.05211979333066661,0.036416744678689585,0.05406959471293592,0.05155781254992042,0.04806323004205436,0.017457979580316803,0.04709039829527204,0.054052932562779085,0.05275693643762428,0.051510439820175155,0.04968480764611222,0.053152822848982276,0.0002664826418719655,0.05043519073146373,0.042515204478707665,0.04043828245593929,0.049817711294313935,0.05188000046965213,0.045724571764805745,0.0512398085215944,0.05280344662585394,0.05005022713387406,0.01853376714322689,0.04590426180835168,0.05082808163244969,0.052454046443967575,0.049189334981901596,0.045444726522056146,0.051799059791093185,0.05171712247652656,0.05020594119922482,0.045591840591921784,0.05120762828417066,0.0516128587227111,0.04980816458339052,0.04312051544352265,0.051270860422436594,0.05098926311358872,0.04861208975177027,0.0002664826418719655,0.051633463763765305,0.05230422105309929,0.05020244846485474,0.05320402172213732,0.0002664826418719655,0.0531839874364747,0.05035256977958515,0.05233818727741195,0.051329600467651816,0.05428822463060982,0.05265390464058417,0.05229516995545428,0.05161448631039798,0.04932165895248399,0.05261767872645897,0.010935478205515726,0.05217322192784685,0.047810297104907785,0.04964158107739683,0.05209968837328636,0.04530254122462034,0.0002664826418719655,0.05223217167649983,0.05060823511584637,0.05262114427326301,0.0516983799374373,0.05204006095910527,0.050091573324523166,0.051471457305094934,0.05173023796537907,0.052023319725004735,0.05088535235085474,0.05284120347937071,0.053798529862966495,0.05465215247762488,0.05433076884479106,0.054759280329488624,0.0549701405549974,0.05215600861152127,0.0545181059043373,0.05460502255559648,0.05494524965373336,0.04420683469338494,0.01948693703402646,0.05386208800052622,0.053995445903854966,0.041705090073447956,0.054303993486850374,0.054498838469172084,0.0543713920547223,0.0002664826418719655,0.05434869070847054,0.053810943150142135,0.05447433453306981,0.054319470783548575,0.036904562559433474,0.05395554901516657,0.0002664826418719655,0.05412555218955969,0.0543421536693508,0.049844244712719546,0.0002664826418719655,0.053538748184996786,0.05248184229295355,0.049418190080879845,0.054066956351331075,0.054047112581907655,0.050596323567847754,0.0002664826418719655,0.05368207135026594,0.04092898789480566,0.05120288603337164,0.05363302918819535,0.053637614917703094,0.0002664826418719655,0.03615806838791785,0.05279182917855617,0.0483607244486305,0.05398885147877438,0.05116466376145386,0.0002664826418719655,0.051417795275824484,0.018767897653119175,0.05384508518413256,0.03812166338017797,0.05410971467903987,0.01858539727778784,0.013388713136420382,0.05244815070052429,0.049193244339524676,0.04525658040387958,0.043434114239143104,0.05286234198795873,0.0002664826418719655,0.05423729225137055,0.04919674880363255,0.052087629512171586,0.0543720500592089,0.04174896430626927,0.031085633144068824,0.052460182433159974,0.05440985757964252,0.050894473179814236,0.04475813103510859,0.05488205545188194,0.03731133744387903,0.05154973558146274,0.0002664826418719655,0.04859471442157407,0.0502766028088221,0.053679015523167006,0.028023182429664957,0.054752531235729616,0.05173878429491854,0.01887954234085104,0.052965433639624235,0.05037111002087953,0.039067563499151706,0.04163133064007455,0.05340537365794444,0.052464743244902655,0.05307754686109965,0.050636830550296205,0.054778205015114746,0.03713773858672683,0.0002664826418719655,0.04138880135204787,0.05019541067552363,0.053068018109177495,0.053829979870698375,0.05155291837445743,0.05195973357738074,0.04089425315445553,0.020133742411846643,0.04815177072737455,0.0002664826418719655,0.05100730261717721,0.05372552844304235,0.05236300139310024,0.050387190781800664,0.05424188420423648,0.051322106704148586,0.05378206904846614,0.0002664826418719655,0.05231481425063942,0.05363743402660661,0.0496183920018823,0.0002664826418719655,0.04974076839253654,0.01237919615907396,0.017304647456378504,0.05404672422712283,0.04878509177094852,0.05270604502709993,0.05140789716359186,0.05459058936401172,0.01936535468689161,0.05372113902243399,0.05133610674006137,0.04953534708708972,0.051387833069787746,0.04685575478768903,0.0002664826418719655,0.05363329867170955,0.011954838874177686,0.0513866756555618,0.052849114496456094,0.05253234167497152,0.05423972785102097,0.0002664826418719655,0.04817247529233756,0.021249178493101335,0.0507531016545121,0.037528362519400935,0.054530025879832744,0.0002664826418719655,0.054359227079406755,0.05068838822632908,0.05255857550520954,0.05485015525013119,0.045510381276771456,0.052677038529487005,0.0002664826418719655,0.05041077984875649,0.054247567087592444,0.051631569657435296,0.017258995059359895,0.05272827430354554,0.05400536641997814,0.04329493924093543,0.05422291294121813,0.019350838210454517,0.05054715511410603,0.05245363494339297,0.05449061114642639,0.0002664826418719655,0.05150012702290474,0.05287454730137714,0.021272423457324614,0.05456350413122622,0.0489333655528126,0.054373606236648796,0.036207264694276334,0.019901541905074305,0.0524088680514076,0.03744689164613541,0.04280752912529077,0.054491010939430505,0.04198662517258296,0.04883911893977798,0.019584515095539996,0.05452862685960928,0.051821451383942715,0.05422185689411909,0.0002664826418719655,0.051571220817366294,0.052960442137944166,0.04972051149971205,0.05429320006558552,0.05136668148280946,0.05456698129893446,0.04878355564701278,0.05056495826490104,0.05467231106559067,0.019200658012976865,0.03833832518023366,0.05156753545888163,0.05475199437869978,0.04650707514791973,0.0002664826418719655,0.012513718730213142,0.05214010678664288,0.0526479407265556],\"type\":\"scatter\",\"xaxis\":\"x5\",\"yaxis\":\"y5\"}],                        {\"template\":{\"data\":{\"histogram2dcontour\":[{\"type\":\"histogram2dcontour\",\"colorbar\":{\"outlinewidth\":0,\"ticks\":\"\"},\"colorscale\":[[0.0,\"#0d0887\"],[0.1111111111111111,\"#46039f\"],[0.2222222222222222,\"#7201a8\"],[0.3333333333333333,\"#9c179e\"],[0.4444444444444444,\"#bd3786\"],[0.5555555555555556,\"#d8576b\"],[0.6666666666666666,\"#ed7953\"],[0.7777777777777778,\"#fb9f3a\"],[0.8888888888888888,\"#fdca26\"],[1.0,\"#f0f921\"]]}],\"choropleth\":[{\"type\":\"choropleth\",\"colorbar\":{\"outlinewidth\":0,\"ticks\":\"\"}}],\"histogram2d\":[{\"type\":\"histogram2d\",\"colorbar\":{\"outlinewidth\":0,\"ticks\":\"\"},\"colorscale\":[[0.0,\"#0d0887\"],[0.1111111111111111,\"#46039f\"],[0.2222222222222222,\"#7201a8\"],[0.3333333333333333,\"#9c179e\"],[0.4444444444444444,\"#bd3786\"],[0.5555555555555556,\"#d8576b\"],[0.6666666666666666,\"#ed7953\"],[0.7777777777777778,\"#fb9f3a\"],[0.8888888888888888,\"#fdca26\"],[1.0,\"#f0f921\"]]}],\"heatmap\":[{\"type\":\"heatmap\",\"colorbar\":{\"outlinewidth\":0,\"ticks\":\"\"},\"colorscale\":[[0.0,\"#0d0887\"],[0.1111111111111111,\"#46039f\"],[0.2222222222222222,\"#7201a8\"],[0.3333333333333333,\"#9c179e\"],[0.4444444444444444,\"#bd3786\"],[0.5555555555555556,\"#d8576b\"],[0.6666666666666666,\"#ed7953\"],[0.7777777777777778,\"#fb9f3a\"],[0.8888888888888888,\"#fdca26\"],[1.0,\"#f0f921\"]]}],\"heatmapgl\":[{\"type\":\"heatmapgl\",\"colorbar\":{\"outlinewidth\":0,\"ticks\":\"\"},\"colorscale\":[[0.0,\"#0d0887\"],[0.1111111111111111,\"#46039f\"],[0.2222222222222222,\"#7201a8\"],[0.3333333333333333,\"#9c179e\"],[0.4444444444444444,\"#bd3786\"],[0.5555555555555556,\"#d8576b\"],[0.6666666666666666,\"#ed7953\"],[0.7777777777777778,\"#fb9f3a\"],[0.8888888888888888,\"#fdca26\"],[1.0,\"#f0f921\"]]}],\"contourcarpet\":[{\"type\":\"contourcarpet\",\"colorbar\":{\"outlinewidth\":0,\"ticks\":\"\"}}],\"contour\":[{\"type\":\"contour\",\"colorbar\":{\"outlinewidth\":0,\"ticks\":\"\"},\"colorscale\":[[0.0,\"#0d0887\"],[0.1111111111111111,\"#46039f\"],[0.2222222222222222,\"#7201a8\"],[0.3333333333333333,\"#9c179e\"],[0.4444444444444444,\"#bd3786\"],[0.5555555555555556,\"#d8576b\"],[0.6666666666666666,\"#ed7953\"],[0.7777777777777778,\"#fb9f3a\"],[0.8888888888888888,\"#fdca26\"],[1.0,\"#f0f921\"]]}],\"surface\":[{\"type\":\"surface\",\"colorbar\":{\"outlinewidth\":0,\"ticks\":\"\"},\"colorscale\":[[0.0,\"#0d0887\"],[0.1111111111111111,\"#46039f\"],[0.2222222222222222,\"#7201a8\"],[0.3333333333333333,\"#9c179e\"],[0.4444444444444444,\"#bd3786\"],[0.5555555555555556,\"#d8576b\"],[0.6666666666666666,\"#ed7953\"],[0.7777777777777778,\"#fb9f3a\"],[0.8888888888888888,\"#fdca26\"],[1.0,\"#f0f921\"]]}],\"mesh3d\":[{\"type\":\"mesh3d\",\"colorbar\":{\"outlinewidth\":0,\"ticks\":\"\"}}],\"scatter\":[{\"fillpattern\":{\"fillmode\":\"overlay\",\"size\":10,\"solidity\":0.2},\"type\":\"scatter\"}],\"parcoords\":[{\"type\":\"parcoords\",\"line\":{\"colorbar\":{\"outlinewidth\":0,\"ticks\":\"\"}}}],\"scatterpolargl\":[{\"type\":\"scatterpolargl\",\"marker\":{\"colorbar\":{\"outlinewidth\":0,\"ticks\":\"\"}}}],\"bar\":[{\"error_x\":{\"color\":\"#2a3f5f\"},\"error_y\":{\"color\":\"#2a3f5f\"},\"marker\":{\"line\":{\"color\":\"#E5ECF6\",\"width\":0.5},\"pattern\":{\"fillmode\":\"overlay\",\"size\":10,\"solidity\":0.2}},\"type\":\"bar\"}],\"scattergeo\":[{\"type\":\"scattergeo\",\"marker\":{\"colorbar\":{\"outlinewidth\":0,\"ticks\":\"\"}}}],\"scatterpolar\":[{\"type\":\"scatterpolar\",\"marker\":{\"colorbar\":{\"outlinewidth\":0,\"ticks\":\"\"}}}],\"histogram\":[{\"marker\":{\"pattern\":{\"fillmode\":\"overlay\",\"size\":10,\"solidity\":0.2}},\"type\":\"histogram\"}],\"scattergl\":[{\"type\":\"scattergl\",\"marker\":{\"colorbar\":{\"outlinewidth\":0,\"ticks\":\"\"}}}],\"scatter3d\":[{\"type\":\"scatter3d\",\"line\":{\"colorbar\":{\"outlinewidth\":0,\"ticks\":\"\"}},\"marker\":{\"colorbar\":{\"outlinewidth\":0,\"ticks\":\"\"}}}],\"scattermapbox\":[{\"type\":\"scattermapbox\",\"marker\":{\"colorbar\":{\"outlinewidth\":0,\"ticks\":\"\"}}}],\"scatterternary\":[{\"type\":\"scatterternary\",\"marker\":{\"colorbar\":{\"outlinewidth\":0,\"ticks\":\"\"}}}],\"scattercarpet\":[{\"type\":\"scattercarpet\",\"marker\":{\"colorbar\":{\"outlinewidth\":0,\"ticks\":\"\"}}}],\"carpet\":[{\"aaxis\":{\"endlinecolor\":\"#2a3f5f\",\"gridcolor\":\"white\",\"linecolor\":\"white\",\"minorgridcolor\":\"white\",\"startlinecolor\":\"#2a3f5f\"},\"baxis\":{\"endlinecolor\":\"#2a3f5f\",\"gridcolor\":\"white\",\"linecolor\":\"white\",\"minorgridcolor\":\"white\",\"startlinecolor\":\"#2a3f5f\"},\"type\":\"carpet\"}],\"table\":[{\"cells\":{\"fill\":{\"color\":\"#EBF0F8\"},\"line\":{\"color\":\"white\"}},\"header\":{\"fill\":{\"color\":\"#C8D4E3\"},\"line\":{\"color\":\"white\"}},\"type\":\"table\"}],\"barpolar\":[{\"marker\":{\"line\":{\"color\":\"#E5ECF6\",\"width\":0.5},\"pattern\":{\"fillmode\":\"overlay\",\"size\":10,\"solidity\":0.2}},\"type\":\"barpolar\"}],\"pie\":[{\"automargin\":true,\"type\":\"pie\"}]},\"layout\":{\"autotypenumbers\":\"strict\",\"colorway\":[\"#636efa\",\"#EF553B\",\"#00cc96\",\"#ab63fa\",\"#FFA15A\",\"#19d3f3\",\"#FF6692\",\"#B6E880\",\"#FF97FF\",\"#FECB52\"],\"font\":{\"color\":\"#2a3f5f\"},\"hovermode\":\"closest\",\"hoverlabel\":{\"align\":\"left\"},\"paper_bgcolor\":\"white\",\"plot_bgcolor\":\"#E5ECF6\",\"polar\":{\"bgcolor\":\"#E5ECF6\",\"angularaxis\":{\"gridcolor\":\"white\",\"linecolor\":\"white\",\"ticks\":\"\"},\"radialaxis\":{\"gridcolor\":\"white\",\"linecolor\":\"white\",\"ticks\":\"\"}},\"ternary\":{\"bgcolor\":\"#E5ECF6\",\"aaxis\":{\"gridcolor\":\"white\",\"linecolor\":\"white\",\"ticks\":\"\"},\"baxis\":{\"gridcolor\":\"white\",\"linecolor\":\"white\",\"ticks\":\"\"},\"caxis\":{\"gridcolor\":\"white\",\"linecolor\":\"white\",\"ticks\":\"\"}},\"coloraxis\":{\"colorbar\":{\"outlinewidth\":0,\"ticks\":\"\"}},\"colorscale\":{\"sequential\":[[0.0,\"#0d0887\"],[0.1111111111111111,\"#46039f\"],[0.2222222222222222,\"#7201a8\"],[0.3333333333333333,\"#9c179e\"],[0.4444444444444444,\"#bd3786\"],[0.5555555555555556,\"#d8576b\"],[0.6666666666666666,\"#ed7953\"],[0.7777777777777778,\"#fb9f3a\"],[0.8888888888888888,\"#fdca26\"],[1.0,\"#f0f921\"]],\"sequentialminus\":[[0.0,\"#0d0887\"],[0.1111111111111111,\"#46039f\"],[0.2222222222222222,\"#7201a8\"],[0.3333333333333333,\"#9c179e\"],[0.4444444444444444,\"#bd3786\"],[0.5555555555555556,\"#d8576b\"],[0.6666666666666666,\"#ed7953\"],[0.7777777777777778,\"#fb9f3a\"],[0.8888888888888888,\"#fdca26\"],[1.0,\"#f0f921\"]],\"diverging\":[[0,\"#8e0152\"],[0.1,\"#c51b7d\"],[0.2,\"#de77ae\"],[0.3,\"#f1b6da\"],[0.4,\"#fde0ef\"],[0.5,\"#f7f7f7\"],[0.6,\"#e6f5d0\"],[0.7,\"#b8e186\"],[0.8,\"#7fbc41\"],[0.9,\"#4d9221\"],[1,\"#276419\"]]},\"xaxis\":{\"gridcolor\":\"white\",\"linecolor\":\"white\",\"ticks\":\"\",\"title\":{\"standoff\":15},\"zerolinecolor\":\"white\",\"automargin\":true,\"zerolinewidth\":2},\"yaxis\":{\"gridcolor\":\"white\",\"linecolor\":\"white\",\"ticks\":\"\",\"title\":{\"standoff\":15},\"zerolinecolor\":\"white\",\"automargin\":true,\"zerolinewidth\":2},\"scene\":{\"xaxis\":{\"backgroundcolor\":\"#E5ECF6\",\"gridcolor\":\"white\",\"linecolor\":\"white\",\"showbackground\":true,\"ticks\":\"\",\"zerolinecolor\":\"white\",\"gridwidth\":2},\"yaxis\":{\"backgroundcolor\":\"#E5ECF6\",\"gridcolor\":\"white\",\"linecolor\":\"white\",\"showbackground\":true,\"ticks\":\"\",\"zerolinecolor\":\"white\",\"gridwidth\":2},\"zaxis\":{\"backgroundcolor\":\"#E5ECF6\",\"gridcolor\":\"white\",\"linecolor\":\"white\",\"showbackground\":true,\"ticks\":\"\",\"zerolinecolor\":\"white\",\"gridwidth\":2}},\"shapedefaults\":{\"line\":{\"color\":\"#2a3f5f\"}},\"annotationdefaults\":{\"arrowcolor\":\"#2a3f5f\",\"arrowhead\":0,\"arrowwidth\":1},\"geo\":{\"bgcolor\":\"white\",\"landcolor\":\"#E5ECF6\",\"subunitcolor\":\"white\",\"showland\":true,\"showlakes\":true,\"lakecolor\":\"white\"},\"title\":{\"x\":0.05},\"mapbox\":{\"style\":\"light\"}}},\"xaxis\":{\"anchor\":\"y\",\"domain\":[0.0,0.16799999999999998],\"title\":{\"text\":\"alpha\"}},\"yaxis\":{\"anchor\":\"x\",\"domain\":[0.0,1.0],\"title\":{\"text\":\"Objective Value\"}},\"xaxis2\":{\"anchor\":\"y2\",\"domain\":[0.208,0.376],\"title\":{\"text\":\"beta\"}},\"yaxis2\":{\"anchor\":\"x2\",\"domain\":[0.0,1.0],\"matches\":\"y\",\"showticklabels\":false},\"xaxis3\":{\"anchor\":\"y3\",\"domain\":[0.416,0.584],\"title\":{\"text\":\"implicit\"},\"type\":\"category\",\"categoryorder\":\"array\",\"categoryarray\":[true,false]},\"yaxis3\":{\"anchor\":\"x3\",\"domain\":[0.0,1.0],\"matches\":\"y\",\"showticklabels\":false},\"xaxis4\":{\"anchor\":\"y4\",\"domain\":[0.624,0.792],\"title\":{\"text\":\"normalize_similarity\"},\"type\":\"category\",\"categoryorder\":\"array\",\"categoryarray\":[true,false]},\"yaxis4\":{\"anchor\":\"x4\",\"domain\":[0.0,1.0],\"matches\":\"y\",\"showticklabels\":false},\"xaxis5\":{\"anchor\":\"y5\",\"domain\":[0.832,1.0],\"title\":{\"text\":\"topK\"}},\"yaxis5\":{\"anchor\":\"x5\",\"domain\":[0.0,1.0],\"matches\":\"y\",\"showticklabels\":false},\"title\":{\"text\":\"Slice Plot\"},\"width\":1500},                        {\"responsive\": true}                    ).then(function(){\n",
       "                            \n",
       "var gd = document.getElementById('c9c420e6-0451-4fc6-9215-8908a07b7c3e');\n",
       "var x = new MutationObserver(function (mutations, observer) {{\n",
       "        var display = window.getComputedStyle(gd).display;\n",
       "        if (!display || display === 'none') {{\n",
       "            console.log([gd, 'removed!']);\n",
       "            Plotly.purge(gd);\n",
       "            observer.disconnect();\n",
       "        }}\n",
       "}});\n",
       "\n",
       "// Listen for the removal of the full notebook cells\n",
       "var notebookContainer = gd.closest('#notebook-container');\n",
       "if (notebookContainer) {{\n",
       "    x.observe(notebookContainer, {childList: true});\n",
       "}}\n",
       "\n",
       "// Listen for the clearing of the current output cell\n",
       "var outputEl = gd.closest('.output');\n",
       "if (outputEl) {{\n",
       "    x.observe(outputEl, {childList: true});\n",
       "}}\n",
       "\n",
       "                        })                };                            </script>        </div>\n",
       "</body>\n",
       "</html>"
      ]
     },
     "metadata": {},
     "output_type": "display_data"
    }
   ],
   "source": [
    "if not config['tune_parameters']:\n",
    "    optuna_study = optuna.load_study(study_name=f'hyperparameters_tuning_{config[\"model\"]}_{config[\"metric\"]}', storage=f'sqlite:///{config[\"database_path\"]}')\n",
    "    \n",
    "fig = optuna.visualization.plot_slice(optuna_study)\n",
    "fig.show()"
   ]
  },
  {
   "cell_type": "code",
   "execution_count": 15,
   "id": "33e3bf6c",
   "metadata": {
    "execution": {
     "iopub.execute_input": "2025-01-06T10:16:40.737129Z",
     "iopub.status.busy": "2025-01-06T10:16:40.736609Z",
     "iopub.status.idle": "2025-01-06T10:16:49.982896Z",
     "shell.execute_reply": "2025-01-06T10:16:49.981778Z"
    },
    "papermill": {
     "duration": 9.382859,
     "end_time": "2025-01-06T10:16:49.984599",
     "exception": false,
     "start_time": "2025-01-06T10:16:40.601740",
     "status": "completed"
    },
    "tags": []
   },
   "outputs": [
    {
     "data": {
      "text/html": [
       "<html>\n",
       "<head><meta charset=\"utf-8\" /></head>\n",
       "<body>\n",
       "    <div>            <script src=\"https://cdnjs.cloudflare.com/ajax/libs/mathjax/2.7.5/MathJax.js?config=TeX-AMS-MML_SVG\"></script><script type=\"text/javascript\">if (window.MathJax && window.MathJax.Hub && window.MathJax.Hub.Config) {window.MathJax.Hub.Config({SVG: {font: \"STIX-Web\"}});}</script>                <script type=\"text/javascript\">window.PlotlyConfig = {MathJaxConfig: 'local'};</script>\n",
       "        <script charset=\"utf-8\" src=\"https://cdn.plot.ly/plotly-2.35.2.min.js\"></script>                <div id=\"378d8cbb-c6b4-4553-a9a3-62e038abf1e0\" class=\"plotly-graph-div\" style=\"height:525px; width:100%;\"></div>            <script type=\"text/javascript\">                                    window.PLOTLYENV=window.PLOTLYENV || {};                                    if (document.getElementById(\"378d8cbb-c6b4-4553-a9a3-62e038abf1e0\")) {                    Plotly.newPlot(                        \"378d8cbb-c6b4-4553-a9a3-62e038abf1e0\",                        [{\"cliponaxis\":false,\"hovertemplate\":[\"implicit (CategoricalDistribution): 0.0001652431203932647\\u003cextra\\u003e\\u003c\\u002fextra\\u003e\",\"normalize_similarity (CategoricalDistribution): 0.0022361712794452004\\u003cextra\\u003e\\u003c\\u002fextra\\u003e\",\"topK (IntDistribution): 0.011682157744816268\\u003cextra\\u003e\\u003c\\u002fextra\\u003e\",\"alpha (FloatDistribution): 0.1296712975765424\\u003cextra\\u003e\\u003c\\u002fextra\\u003e\",\"beta (FloatDistribution): 0.856245130278803\\u003cextra\\u003e\\u003c\\u002fextra\\u003e\"],\"name\":\"Objective Value\",\"orientation\":\"h\",\"text\":[\"\\u003c0.01\",\"\\u003c0.01\",\"0.01\",\"0.13\",\"0.86\"],\"textposition\":\"outside\",\"x\":[0.0001652431203932647,0.0022361712794452004,0.011682157744816268,0.1296712975765424,0.856245130278803],\"y\":[\"implicit\",\"normalize_similarity\",\"topK\",\"alpha\",\"beta\"],\"type\":\"bar\"}],                        {\"title\":{\"text\":\"Hyperparameter Importances\"},\"xaxis\":{\"title\":{\"text\":\"Hyperparameter Importance\"}},\"yaxis\":{\"title\":{\"text\":\"Hyperparameter\"}},\"template\":{\"data\":{\"histogram2dcontour\":[{\"type\":\"histogram2dcontour\",\"colorbar\":{\"outlinewidth\":0,\"ticks\":\"\"},\"colorscale\":[[0.0,\"#0d0887\"],[0.1111111111111111,\"#46039f\"],[0.2222222222222222,\"#7201a8\"],[0.3333333333333333,\"#9c179e\"],[0.4444444444444444,\"#bd3786\"],[0.5555555555555556,\"#d8576b\"],[0.6666666666666666,\"#ed7953\"],[0.7777777777777778,\"#fb9f3a\"],[0.8888888888888888,\"#fdca26\"],[1.0,\"#f0f921\"]]}],\"choropleth\":[{\"type\":\"choropleth\",\"colorbar\":{\"outlinewidth\":0,\"ticks\":\"\"}}],\"histogram2d\":[{\"type\":\"histogram2d\",\"colorbar\":{\"outlinewidth\":0,\"ticks\":\"\"},\"colorscale\":[[0.0,\"#0d0887\"],[0.1111111111111111,\"#46039f\"],[0.2222222222222222,\"#7201a8\"],[0.3333333333333333,\"#9c179e\"],[0.4444444444444444,\"#bd3786\"],[0.5555555555555556,\"#d8576b\"],[0.6666666666666666,\"#ed7953\"],[0.7777777777777778,\"#fb9f3a\"],[0.8888888888888888,\"#fdca26\"],[1.0,\"#f0f921\"]]}],\"heatmap\":[{\"type\":\"heatmap\",\"colorbar\":{\"outlinewidth\":0,\"ticks\":\"\"},\"colorscale\":[[0.0,\"#0d0887\"],[0.1111111111111111,\"#46039f\"],[0.2222222222222222,\"#7201a8\"],[0.3333333333333333,\"#9c179e\"],[0.4444444444444444,\"#bd3786\"],[0.5555555555555556,\"#d8576b\"],[0.6666666666666666,\"#ed7953\"],[0.7777777777777778,\"#fb9f3a\"],[0.8888888888888888,\"#fdca26\"],[1.0,\"#f0f921\"]]}],\"heatmapgl\":[{\"type\":\"heatmapgl\",\"colorbar\":{\"outlinewidth\":0,\"ticks\":\"\"},\"colorscale\":[[0.0,\"#0d0887\"],[0.1111111111111111,\"#46039f\"],[0.2222222222222222,\"#7201a8\"],[0.3333333333333333,\"#9c179e\"],[0.4444444444444444,\"#bd3786\"],[0.5555555555555556,\"#d8576b\"],[0.6666666666666666,\"#ed7953\"],[0.7777777777777778,\"#fb9f3a\"],[0.8888888888888888,\"#fdca26\"],[1.0,\"#f0f921\"]]}],\"contourcarpet\":[{\"type\":\"contourcarpet\",\"colorbar\":{\"outlinewidth\":0,\"ticks\":\"\"}}],\"contour\":[{\"type\":\"contour\",\"colorbar\":{\"outlinewidth\":0,\"ticks\":\"\"},\"colorscale\":[[0.0,\"#0d0887\"],[0.1111111111111111,\"#46039f\"],[0.2222222222222222,\"#7201a8\"],[0.3333333333333333,\"#9c179e\"],[0.4444444444444444,\"#bd3786\"],[0.5555555555555556,\"#d8576b\"],[0.6666666666666666,\"#ed7953\"],[0.7777777777777778,\"#fb9f3a\"],[0.8888888888888888,\"#fdca26\"],[1.0,\"#f0f921\"]]}],\"surface\":[{\"type\":\"surface\",\"colorbar\":{\"outlinewidth\":0,\"ticks\":\"\"},\"colorscale\":[[0.0,\"#0d0887\"],[0.1111111111111111,\"#46039f\"],[0.2222222222222222,\"#7201a8\"],[0.3333333333333333,\"#9c179e\"],[0.4444444444444444,\"#bd3786\"],[0.5555555555555556,\"#d8576b\"],[0.6666666666666666,\"#ed7953\"],[0.7777777777777778,\"#fb9f3a\"],[0.8888888888888888,\"#fdca26\"],[1.0,\"#f0f921\"]]}],\"mesh3d\":[{\"type\":\"mesh3d\",\"colorbar\":{\"outlinewidth\":0,\"ticks\":\"\"}}],\"scatter\":[{\"fillpattern\":{\"fillmode\":\"overlay\",\"size\":10,\"solidity\":0.2},\"type\":\"scatter\"}],\"parcoords\":[{\"type\":\"parcoords\",\"line\":{\"colorbar\":{\"outlinewidth\":0,\"ticks\":\"\"}}}],\"scatterpolargl\":[{\"type\":\"scatterpolargl\",\"marker\":{\"colorbar\":{\"outlinewidth\":0,\"ticks\":\"\"}}}],\"bar\":[{\"error_x\":{\"color\":\"#2a3f5f\"},\"error_y\":{\"color\":\"#2a3f5f\"},\"marker\":{\"line\":{\"color\":\"#E5ECF6\",\"width\":0.5},\"pattern\":{\"fillmode\":\"overlay\",\"size\":10,\"solidity\":0.2}},\"type\":\"bar\"}],\"scattergeo\":[{\"type\":\"scattergeo\",\"marker\":{\"colorbar\":{\"outlinewidth\":0,\"ticks\":\"\"}}}],\"scatterpolar\":[{\"type\":\"scatterpolar\",\"marker\":{\"colorbar\":{\"outlinewidth\":0,\"ticks\":\"\"}}}],\"histogram\":[{\"marker\":{\"pattern\":{\"fillmode\":\"overlay\",\"size\":10,\"solidity\":0.2}},\"type\":\"histogram\"}],\"scattergl\":[{\"type\":\"scattergl\",\"marker\":{\"colorbar\":{\"outlinewidth\":0,\"ticks\":\"\"}}}],\"scatter3d\":[{\"type\":\"scatter3d\",\"line\":{\"colorbar\":{\"outlinewidth\":0,\"ticks\":\"\"}},\"marker\":{\"colorbar\":{\"outlinewidth\":0,\"ticks\":\"\"}}}],\"scattermapbox\":[{\"type\":\"scattermapbox\",\"marker\":{\"colorbar\":{\"outlinewidth\":0,\"ticks\":\"\"}}}],\"scatterternary\":[{\"type\":\"scatterternary\",\"marker\":{\"colorbar\":{\"outlinewidth\":0,\"ticks\":\"\"}}}],\"scattercarpet\":[{\"type\":\"scattercarpet\",\"marker\":{\"colorbar\":{\"outlinewidth\":0,\"ticks\":\"\"}}}],\"carpet\":[{\"aaxis\":{\"endlinecolor\":\"#2a3f5f\",\"gridcolor\":\"white\",\"linecolor\":\"white\",\"minorgridcolor\":\"white\",\"startlinecolor\":\"#2a3f5f\"},\"baxis\":{\"endlinecolor\":\"#2a3f5f\",\"gridcolor\":\"white\",\"linecolor\":\"white\",\"minorgridcolor\":\"white\",\"startlinecolor\":\"#2a3f5f\"},\"type\":\"carpet\"}],\"table\":[{\"cells\":{\"fill\":{\"color\":\"#EBF0F8\"},\"line\":{\"color\":\"white\"}},\"header\":{\"fill\":{\"color\":\"#C8D4E3\"},\"line\":{\"color\":\"white\"}},\"type\":\"table\"}],\"barpolar\":[{\"marker\":{\"line\":{\"color\":\"#E5ECF6\",\"width\":0.5},\"pattern\":{\"fillmode\":\"overlay\",\"size\":10,\"solidity\":0.2}},\"type\":\"barpolar\"}],\"pie\":[{\"automargin\":true,\"type\":\"pie\"}]},\"layout\":{\"autotypenumbers\":\"strict\",\"colorway\":[\"#636efa\",\"#EF553B\",\"#00cc96\",\"#ab63fa\",\"#FFA15A\",\"#19d3f3\",\"#FF6692\",\"#B6E880\",\"#FF97FF\",\"#FECB52\"],\"font\":{\"color\":\"#2a3f5f\"},\"hovermode\":\"closest\",\"hoverlabel\":{\"align\":\"left\"},\"paper_bgcolor\":\"white\",\"plot_bgcolor\":\"#E5ECF6\",\"polar\":{\"bgcolor\":\"#E5ECF6\",\"angularaxis\":{\"gridcolor\":\"white\",\"linecolor\":\"white\",\"ticks\":\"\"},\"radialaxis\":{\"gridcolor\":\"white\",\"linecolor\":\"white\",\"ticks\":\"\"}},\"ternary\":{\"bgcolor\":\"#E5ECF6\",\"aaxis\":{\"gridcolor\":\"white\",\"linecolor\":\"white\",\"ticks\":\"\"},\"baxis\":{\"gridcolor\":\"white\",\"linecolor\":\"white\",\"ticks\":\"\"},\"caxis\":{\"gridcolor\":\"white\",\"linecolor\":\"white\",\"ticks\":\"\"}},\"coloraxis\":{\"colorbar\":{\"outlinewidth\":0,\"ticks\":\"\"}},\"colorscale\":{\"sequential\":[[0.0,\"#0d0887\"],[0.1111111111111111,\"#46039f\"],[0.2222222222222222,\"#7201a8\"],[0.3333333333333333,\"#9c179e\"],[0.4444444444444444,\"#bd3786\"],[0.5555555555555556,\"#d8576b\"],[0.6666666666666666,\"#ed7953\"],[0.7777777777777778,\"#fb9f3a\"],[0.8888888888888888,\"#fdca26\"],[1.0,\"#f0f921\"]],\"sequentialminus\":[[0.0,\"#0d0887\"],[0.1111111111111111,\"#46039f\"],[0.2222222222222222,\"#7201a8\"],[0.3333333333333333,\"#9c179e\"],[0.4444444444444444,\"#bd3786\"],[0.5555555555555556,\"#d8576b\"],[0.6666666666666666,\"#ed7953\"],[0.7777777777777778,\"#fb9f3a\"],[0.8888888888888888,\"#fdca26\"],[1.0,\"#f0f921\"]],\"diverging\":[[0,\"#8e0152\"],[0.1,\"#c51b7d\"],[0.2,\"#de77ae\"],[0.3,\"#f1b6da\"],[0.4,\"#fde0ef\"],[0.5,\"#f7f7f7\"],[0.6,\"#e6f5d0\"],[0.7,\"#b8e186\"],[0.8,\"#7fbc41\"],[0.9,\"#4d9221\"],[1,\"#276419\"]]},\"xaxis\":{\"gridcolor\":\"white\",\"linecolor\":\"white\",\"ticks\":\"\",\"title\":{\"standoff\":15},\"zerolinecolor\":\"white\",\"automargin\":true,\"zerolinewidth\":2},\"yaxis\":{\"gridcolor\":\"white\",\"linecolor\":\"white\",\"ticks\":\"\",\"title\":{\"standoff\":15},\"zerolinecolor\":\"white\",\"automargin\":true,\"zerolinewidth\":2},\"scene\":{\"xaxis\":{\"backgroundcolor\":\"#E5ECF6\",\"gridcolor\":\"white\",\"linecolor\":\"white\",\"showbackground\":true,\"ticks\":\"\",\"zerolinecolor\":\"white\",\"gridwidth\":2},\"yaxis\":{\"backgroundcolor\":\"#E5ECF6\",\"gridcolor\":\"white\",\"linecolor\":\"white\",\"showbackground\":true,\"ticks\":\"\",\"zerolinecolor\":\"white\",\"gridwidth\":2},\"zaxis\":{\"backgroundcolor\":\"#E5ECF6\",\"gridcolor\":\"white\",\"linecolor\":\"white\",\"showbackground\":true,\"ticks\":\"\",\"zerolinecolor\":\"white\",\"gridwidth\":2}},\"shapedefaults\":{\"line\":{\"color\":\"#2a3f5f\"}},\"annotationdefaults\":{\"arrowcolor\":\"#2a3f5f\",\"arrowhead\":0,\"arrowwidth\":1},\"geo\":{\"bgcolor\":\"white\",\"landcolor\":\"#E5ECF6\",\"subunitcolor\":\"white\",\"showland\":true,\"showlakes\":true,\"lakecolor\":\"white\"},\"title\":{\"x\":0.05},\"mapbox\":{\"style\":\"light\"}}}},                        {\"responsive\": true}                    ).then(function(){\n",
       "                            \n",
       "var gd = document.getElementById('378d8cbb-c6b4-4553-a9a3-62e038abf1e0');\n",
       "var x = new MutationObserver(function (mutations, observer) {{\n",
       "        var display = window.getComputedStyle(gd).display;\n",
       "        if (!display || display === 'none') {{\n",
       "            console.log([gd, 'removed!']);\n",
       "            Plotly.purge(gd);\n",
       "            observer.disconnect();\n",
       "        }}\n",
       "}});\n",
       "\n",
       "// Listen for the removal of the full notebook cells\n",
       "var notebookContainer = gd.closest('#notebook-container');\n",
       "if (notebookContainer) {{\n",
       "    x.observe(notebookContainer, {childList: true});\n",
       "}}\n",
       "\n",
       "// Listen for the clearing of the current output cell\n",
       "var outputEl = gd.closest('.output');\n",
       "if (outputEl) {{\n",
       "    x.observe(outputEl, {childList: true});\n",
       "}}\n",
       "\n",
       "                        })                };                            </script>        </div>\n",
       "</body>\n",
       "</html>"
      ]
     },
     "metadata": {},
     "output_type": "display_data"
    }
   ],
   "source": [
    "if not config['tune_parameters']:\n",
    "    optuna_study = optuna.load_study(study_name=f'hyperparameters_tuning_{config[\"model\"]}_{config[\"metric\"]}', storage=f'sqlite:///{config[\"database_path\"]}')\n",
    "    \n",
    "fig = optuna.visualization.plot_param_importances(optuna_study)\n",
    "fig.show()"
   ]
  },
  {
   "cell_type": "markdown",
   "id": "dd62b13c",
   "metadata": {
    "papermill": {
     "duration": 0.131341,
     "end_time": "2025-01-06T10:16:50.246325",
     "exception": false,
     "start_time": "2025-01-06T10:16:50.114984",
     "status": "completed"
    },
    "tags": []
   },
   "source": [
    "## Let's train the recommender with best parameter values"
   ]
  },
  {
   "cell_type": "code",
   "execution_count": 16,
   "id": "18abdfa4",
   "metadata": {
    "execution": {
     "iopub.execute_input": "2025-01-06T10:16:50.508562Z",
     "iopub.status.busy": "2025-01-06T10:16:50.508159Z",
     "iopub.status.idle": "2025-01-06T10:17:12.114551Z",
     "shell.execute_reply": "2025-01-06T10:17:12.113414Z"
    },
    "papermill": {
     "duration": 21.740668,
     "end_time": "2025-01-06T10:17:12.116743",
     "exception": false,
     "start_time": "2025-01-06T10:16:50.376075",
     "status": "completed"
    },
    "tags": []
   },
   "outputs": [
    {
     "name": "stdout",
     "output_type": "stream",
     "text": [
      "RP3betaRecommender: Similarity column 38121 (100.0%), 1876.43 column/sec. Elapsed time 20.32 sec\n"
     ]
    }
   ],
   "source": [
    "if config['tune_best_params']:\n",
    "\n",
    "    if config['tune_parameters']:\n",
    "        best_params = optuna_study.best_trial.params\n",
    "    else: \n",
    "        with open(f'{K_PATH}/{GH_PATH}/{config[\"model\"]}Recommender/Optimizing{config[\"metric\"]}/best_params_{config[\"model\"]}_{config[\"metric\"]}.json', 'r') as best_params_json:\n",
    "            best_params = json.load(best_params_json)\n",
    "\n",
    "    recommender_instance = RP3betaRecommender(URM_train + URM_validation)\n",
    "    recommender_instance.fit(**best_params)"
   ]
  },
  {
   "cell_type": "markdown",
   "id": "f470dab6",
   "metadata": {
    "papermill": {
     "duration": 0.135037,
     "end_time": "2025-01-06T10:17:12.387323",
     "exception": false,
     "start_time": "2025-01-06T10:17:12.252286",
     "status": "completed"
    },
    "tags": []
   },
   "source": [
    "# Testing"
   ]
  },
  {
   "cell_type": "markdown",
   "id": "cb23a3f9",
   "metadata": {
    "papermill": {
     "duration": 0.140134,
     "end_time": "2025-01-06T10:17:12.667415",
     "exception": false,
     "start_time": "2025-01-06T10:17:12.527281",
     "status": "completed"
    },
    "tags": []
   },
   "source": [
    "Create the recommendations for the submission. "
   ]
  },
  {
   "cell_type": "code",
   "execution_count": 17,
   "id": "0913c757",
   "metadata": {
    "execution": {
     "iopub.execute_input": "2025-01-06T10:17:12.961476Z",
     "iopub.status.busy": "2025-01-06T10:17:12.961055Z",
     "iopub.status.idle": "2025-01-06T10:17:37.335959Z",
     "shell.execute_reply": "2025-01-06T10:17:37.334559Z"
    },
    "papermill": {
     "duration": 24.508311,
     "end_time": "2025-01-06T10:17:37.337850",
     "exception": false,
     "start_time": "2025-01-06T10:17:12.829539",
     "status": "completed"
    },
    "tags": []
   },
   "outputs": [
    {
     "name": "stdout",
     "output_type": "stream",
     "text": [
      "Submission file saved as /kaggle/working/submission_RP3beta_MAP.csv\n"
     ]
    }
   ],
   "source": [
    "if config['tune_best_params']:\n",
    "\n",
    "    data_target_users_test = pd.read_csv('/kaggle/input/recommender-system-2024-challenge-polimi/data_target_users_test.csv')\n",
    "    create_submission(data_target_users_test, recommender_instance, f'/kaggle/working/submission_{config[\"model\"]}_{config[\"metric\"]}.csv')"
   ]
  },
  {
   "cell_type": "markdown",
   "id": "e89b5b28",
   "metadata": {
    "execution": {
     "iopub.execute_input": "2024-11-14T00:04:16.877791Z",
     "iopub.status.busy": "2024-11-14T00:04:16.877275Z",
     "iopub.status.idle": "2024-11-14T00:04:16.883170Z",
     "shell.execute_reply": "2024-11-14T00:04:16.881889Z",
     "shell.execute_reply.started": "2024-11-14T00:04:16.877743Z"
    },
    "papermill": {
     "duration": 0.135545,
     "end_time": "2025-01-06T10:17:37.607019",
     "exception": false,
     "start_time": "2025-01-06T10:17:37.471474",
     "status": "completed"
    },
    "tags": []
   },
   "source": [
    "# Save Version on GitHub "
   ]
  },
  {
   "cell_type": "markdown",
   "id": "5ad2e740",
   "metadata": {
    "papermill": {
     "duration": 0.138266,
     "end_time": "2025-01-06T10:17:38.026111",
     "exception": false,
     "start_time": "2025-01-06T10:17:37.887845",
     "status": "completed"
    },
    "tags": []
   },
   "source": [
    "Write or import a json file where best hyperparameters are saved. "
   ]
  },
  {
   "cell_type": "code",
   "execution_count": 18,
   "id": "d4e79683",
   "metadata": {
    "execution": {
     "iopub.execute_input": "2025-01-06T10:17:38.293889Z",
     "iopub.status.busy": "2025-01-06T10:17:38.293489Z",
     "iopub.status.idle": "2025-01-06T10:17:39.261489Z",
     "shell.execute_reply": "2025-01-06T10:17:39.260060Z"
    },
    "papermill": {
     "duration": 1.103007,
     "end_time": "2025-01-06T10:17:39.263498",
     "exception": false,
     "start_time": "2025-01-06T10:17:38.160491",
     "status": "completed"
    },
    "tags": []
   },
   "outputs": [
    {
     "name": "stdout",
     "output_type": "stream",
     "text": [
      "File 'TrainedModels/WithKFCV/GraphBased/RP3betaRecommender/OptimizingMAP/best_params_RP3beta_MAP.json' updated successfully.\n"
     ]
    }
   ],
   "source": [
    "if config['tune_parameters']:\n",
    "    with open(f'/kaggle/working/best_params_{config[\"model\"]}_{config[\"metric\"]}.json', 'w') as params_file:\n",
    "        json.dump(optuna_study.best_params, params_file)\n",
    "        \n",
    "    if config['save_github']:\n",
    "        upload_file(\n",
    "            f'/kaggle/working/best_params_{config[\"model\"]}_{config[\"metric\"]}.json', \n",
    "            f'{GH_PATH}/{config[\"model\"]}Recommender/Optimizing{config[\"metric\"]}/best_params_{config[\"model\"]}_{config[\"metric\"]}.json', \n",
    "            f'{config[\"model\"]}_{config[\"metric\"]} tuning results (from kaggle notebook)',\n",
    "            repo\n",
    "        )\n",
    "elif config['copy_prev_best_params']:\n",
    "    shutil.copyfile(\n",
    "        f'{K_PATH}/{GH_PATH}/{config[\"model\"]}Recommender/Optimizing{config[\"metric\"]}/'\\\n",
    "        f'best_params_{config[\"model\"]}_{config[\"metric\"]}.json', \n",
    "        f'/kaggle/working/best_params_{config[\"model\"]}_{config[\"metric\"]}.json'\n",
    "    )"
   ]
  },
  {
   "cell_type": "markdown",
   "id": "705a9b92",
   "metadata": {
    "execution": {
     "iopub.execute_input": "2024-11-14T00:41:34.294243Z",
     "iopub.status.busy": "2024-11-14T00:41:34.293739Z",
     "iopub.status.idle": "2024-11-14T00:41:34.301478Z",
     "shell.execute_reply": "2024-11-14T00:41:34.299869Z",
     "shell.execute_reply.started": "2024-11-14T00:41:34.294186Z"
    },
    "papermill": {
     "duration": 0.131074,
     "end_time": "2025-01-06T10:17:39.526536",
     "exception": false,
     "start_time": "2025-01-06T10:17:39.395462",
     "status": "completed"
    },
    "tags": []
   },
   "source": [
    "Save the history of the tuned model."
   ]
  },
  {
   "cell_type": "code",
   "execution_count": 19,
   "id": "61fc4290",
   "metadata": {
    "execution": {
     "iopub.execute_input": "2025-01-06T10:17:39.786228Z",
     "iopub.status.busy": "2025-01-06T10:17:39.785866Z",
     "iopub.status.idle": "2025-01-06T10:17:40.860078Z",
     "shell.execute_reply": "2025-01-06T10:17:40.858509Z"
    },
    "papermill": {
     "duration": 1.20658,
     "end_time": "2025-01-06T10:17:40.861896",
     "exception": false,
     "start_time": "2025-01-06T10:17:39.655316",
     "status": "completed"
    },
    "tags": []
   },
   "outputs": [
    {
     "name": "stdout",
     "output_type": "stream",
     "text": [
      "File 'TrainedModels/WithKFCV/GraphBased/RP3betaRecommender/OptimizingMAP/history_RP3beta_MAP.db' updated successfully.\n"
     ]
    }
   ],
   "source": [
    "if config['save_github'] and config['tune_parameters']:\n",
    "    upload_file(\n",
    "        config['database_path'], \n",
    "        f'{GH_PATH}/{config[\"model\"]}Recommender/Optimizing{config[\"metric\"]}/history_{config[\"model\"]}_{config[\"metric\"]}.db',\n",
    "        f'Tuning {config[\"model\"]}_{config[\"metric\"]} db updated results (from kaggle notebook)',\n",
    "        repo\n",
    "    )"
   ]
  },
  {
   "cell_type": "markdown",
   "id": "d6f95e66",
   "metadata": {
    "papermill": {
     "duration": 0.130889,
     "end_time": "2025-01-06T10:17:41.123751",
     "exception": false,
     "start_time": "2025-01-06T10:17:40.992862",
     "status": "completed"
    },
    "tags": []
   },
   "source": [
    "Save the best trained model and its submission."
   ]
  },
  {
   "cell_type": "code",
   "execution_count": 20,
   "id": "0f5b7607",
   "metadata": {
    "execution": {
     "iopub.execute_input": "2025-01-06T10:17:41.387040Z",
     "iopub.status.busy": "2025-01-06T10:17:41.386666Z",
     "iopub.status.idle": "2025-01-06T10:17:42.542519Z",
     "shell.execute_reply": "2025-01-06T10:17:42.541078Z"
    },
    "papermill": {
     "duration": 1.290441,
     "end_time": "2025-01-06T10:17:42.545343",
     "exception": false,
     "start_time": "2025-01-06T10:17:41.254902",
     "status": "completed"
    },
    "tags": []
   },
   "outputs": [
    {
     "name": "stdout",
     "output_type": "stream",
     "text": [
      "File 'TrainedModels/WithKFCV/GraphBased/RP3betaRecommender/OptimizingMAP/Submission/submission_RP3beta_MAP.csv' updated successfully.\n"
     ]
    }
   ],
   "source": [
    "if config['save_github'] and config['tune_best_params']: \n",
    "    upload_file(\n",
    "                f'/kaggle/working/submission_{config[\"model\"]}_{config[\"metric\"]}.csv', \n",
    "                f'{GH_PATH}/{config[\"model\"]}Recommender/Optimizing{config[\"metric\"]}/Submission/submission_{config[\"model\"]}_{config[\"metric\"]}.csv', \n",
    "                f'New {config[\"model\"]}_{config[\"metric\"]} submission (from kaggle notebook)',\n",
    "                repo\n",
    "            )"
   ]
  }
 ],
 "metadata": {
  "kaggle": {
   "accelerator": "none",
   "dataSources": [
    {
     "databundleVersionId": 9982103,
     "sourceId": 87439,
     "sourceType": "competition"
    }
   ],
   "dockerImageVersionId": 30822,
   "isGpuEnabled": false,
   "isInternetEnabled": true,
   "language": "python",
   "sourceType": "notebook"
  },
  "kernelspec": {
   "display_name": "Python 3",
   "language": "python",
   "name": "python3"
  },
  "language_info": {
   "codemirror_mode": {
    "name": "ipython",
    "version": 3
   },
   "file_extension": ".py",
   "mimetype": "text/x-python",
   "name": "python",
   "nbconvert_exporter": "python",
   "pygments_lexer": "ipython3",
   "version": "3.10.12"
  },
  "papermill": {
   "default_parameters": {},
   "duration": 38939.416405,
   "end_time": "2025-01-06T10:17:43.981493",
   "environment_variables": {},
   "exception": null,
   "input_path": "__notebook__.ipynb",
   "output_path": "__notebook__.ipynb",
   "parameters": {},
   "start_time": "2025-01-05T23:28:44.565088",
   "version": "2.6.0"
  }
 },
 "nbformat": 4,
 "nbformat_minor": 5
}
