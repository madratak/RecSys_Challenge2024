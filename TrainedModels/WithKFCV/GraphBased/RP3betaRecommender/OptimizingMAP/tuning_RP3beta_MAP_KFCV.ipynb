{
 "cells": [
  {
   "cell_type": "markdown",
   "id": "d5321ae9",
   "metadata": {
    "papermill": {
     "duration": 0.006791,
     "end_time": "2025-01-05T18:55:33.643706",
     "exception": false,
     "start_time": "2025-01-05T18:55:33.636915",
     "status": "completed"
    },
    "tags": []
   },
   "source": [
    "# Set connection with GitHub"
   ]
  },
  {
   "cell_type": "code",
   "execution_count": 1,
   "id": "6241f6ec",
   "metadata": {
    "execution": {
     "iopub.execute_input": "2025-01-05T18:55:33.658438Z",
     "iopub.status.busy": "2025-01-05T18:55:33.658024Z",
     "iopub.status.idle": "2025-01-05T18:55:33.663755Z",
     "shell.execute_reply": "2025-01-05T18:55:33.662733Z"
    },
    "papermill": {
     "duration": 0.014922,
     "end_time": "2025-01-05T18:55:33.665721",
     "exception": false,
     "start_time": "2025-01-05T18:55:33.650799",
     "status": "completed"
    },
    "tags": []
   },
   "outputs": [],
   "source": [
    "# ! cd /kaggle/working && rm -rf RECsys_Challenge2024"
   ]
  },
  {
   "cell_type": "code",
   "execution_count": 2,
   "id": "fd1f5c50",
   "metadata": {
    "_cell_guid": "b1076dfc-b9ad-4769-8c92-a6c4dae69d19",
    "_uuid": "8f2839f25d086af736a60e9eeb907d3b93b6e0e5",
    "execution": {
     "iopub.execute_input": "2025-01-05T18:55:33.680093Z",
     "iopub.status.busy": "2025-01-05T18:55:33.679757Z",
     "iopub.status.idle": "2025-01-05T18:55:50.498470Z",
     "shell.execute_reply": "2025-01-05T18:55:50.496614Z"
    },
    "papermill": {
     "duration": 16.829025,
     "end_time": "2025-01-05T18:55:50.501420",
     "exception": false,
     "start_time": "2025-01-05T18:55:33.672395",
     "status": "completed"
    },
    "tags": []
   },
   "outputs": [
    {
     "name": "stdout",
     "output_type": "stream",
     "text": [
      "Cloning into 'RECsys_Challenge2024'...\r\n",
      "remote: Enumerating objects: 6363, done.\u001b[K\r\n",
      "remote: Counting objects: 100% (274/274), done.\u001b[K\r\n",
      "remote: Compressing objects: 100% (237/237), done.\u001b[K\r\n",
      "remote: Total 6363 (delta 109), reused 25 (delta 10), pack-reused 6089 (from 4)\u001b[K\r\n",
      "Receiving objects: 100% (6363/6363), 402.57 MiB | 35.47 MiB/s, done.\r\n",
      "Resolving deltas: 100% (3489/3489), done.\r\n",
      "Updating files: 100% (490/490), done.\r\n"
     ]
    }
   ],
   "source": [
    "from kaggle_secrets import UserSecretsClient\n",
    "\n",
    "token = UserSecretsClient().get_secret(\"Token\")\n",
    "\n",
    "! git clone https://{token}@github.com/madratak/RECsys_Challenge2024.git"
   ]
  },
  {
   "cell_type": "code",
   "execution_count": 3,
   "id": "98e54ed8",
   "metadata": {
    "execution": {
     "iopub.execute_input": "2025-01-05T18:55:50.527754Z",
     "iopub.status.busy": "2025-01-05T18:55:50.527232Z",
     "iopub.status.idle": "2025-01-05T18:55:57.698206Z",
     "shell.execute_reply": "2025-01-05T18:55:57.696637Z"
    },
    "papermill": {
     "duration": 7.186757,
     "end_time": "2025-01-05T18:55:57.700731",
     "exception": false,
     "start_time": "2025-01-05T18:55:50.513974",
     "status": "completed"
    },
    "tags": []
   },
   "outputs": [
    {
     "name": "stdout",
     "output_type": "stream",
     "text": [
      "Collecting PyGithub\r\n",
      "  Downloading PyGithub-2.5.0-py3-none-any.whl.metadata (3.9 kB)\r\n",
      "Requirement already satisfied: requests in /usr/local/lib/python3.10/dist-packages (2.32.3)\r\n",
      "Collecting pynacl>=1.4.0 (from PyGithub)\r\n",
      "  Downloading PyNaCl-1.5.0-cp36-abi3-manylinux_2_17_x86_64.manylinux2014_x86_64.manylinux_2_24_x86_64.whl.metadata (8.6 kB)\r\n",
      "Requirement already satisfied: pyjwt>=2.4.0 in /usr/local/lib/python3.10/dist-packages (from pyjwt[crypto]>=2.4.0->PyGithub) (2.9.0)\r\n",
      "Requirement already satisfied: typing-extensions>=4.0.0 in /usr/local/lib/python3.10/dist-packages (from PyGithub) (4.12.2)\r\n",
      "Requirement already satisfied: urllib3>=1.26.0 in /usr/local/lib/python3.10/dist-packages (from PyGithub) (2.2.3)\r\n",
      "Requirement already satisfied: Deprecated in /usr/local/lib/python3.10/dist-packages (from PyGithub) (1.2.15)\r\n",
      "Requirement already satisfied: charset-normalizer<4,>=2 in /usr/local/lib/python3.10/dist-packages (from requests) (3.3.2)\r\n",
      "Requirement already satisfied: idna<4,>=2.5 in /usr/local/lib/python3.10/dist-packages (from requests) (3.10)\r\n",
      "Requirement already satisfied: certifi>=2017.4.17 in /usr/local/lib/python3.10/dist-packages (from requests) (2024.8.30)\r\n",
      "Requirement already satisfied: cryptography>=3.4.0 in /usr/local/lib/python3.10/dist-packages (from pyjwt[crypto]>=2.4.0->PyGithub) (43.0.1)\r\n",
      "Requirement already satisfied: cffi>=1.4.1 in /usr/local/lib/python3.10/dist-packages (from pynacl>=1.4.0->PyGithub) (1.17.1)\r\n",
      "Requirement already satisfied: wrapt<2,>=1.10 in /usr/local/lib/python3.10/dist-packages (from Deprecated->PyGithub) (1.16.0)\r\n",
      "Requirement already satisfied: pycparser in /usr/local/lib/python3.10/dist-packages (from cffi>=1.4.1->pynacl>=1.4.0->PyGithub) (2.22)\r\n",
      "Downloading PyGithub-2.5.0-py3-none-any.whl (375 kB)\r\n",
      "\u001b[2K   \u001b[90m━━━━━━━━━━━━━━━━━━━━━━━━━━━━━━━━━━━━━━━━\u001b[0m \u001b[32m375.9/375.9 kB\u001b[0m \u001b[31m8.0 MB/s\u001b[0m eta \u001b[36m0:00:00\u001b[0m\r\n",
      "\u001b[?25hDownloading PyNaCl-1.5.0-cp36-abi3-manylinux_2_17_x86_64.manylinux2014_x86_64.manylinux_2_24_x86_64.whl (856 kB)\r\n",
      "\u001b[2K   \u001b[90m━━━━━━━━━━━━━━━━━━━━━━━━━━━━━━━━━━━━━━━━\u001b[0m \u001b[32m856.7/856.7 kB\u001b[0m \u001b[31m27.8 MB/s\u001b[0m eta \u001b[36m0:00:00\u001b[0m\r\n",
      "\u001b[?25hInstalling collected packages: pynacl, PyGithub\r\n",
      "Successfully installed PyGithub-2.5.0 pynacl-1.5.0\r\n"
     ]
    }
   ],
   "source": [
    "! pip install PyGithub requests"
   ]
  },
  {
   "cell_type": "code",
   "execution_count": 4,
   "id": "70bd18c7",
   "metadata": {
    "_kg_hide-input": false,
    "execution": {
     "iopub.execute_input": "2025-01-05T18:55:57.730173Z",
     "iopub.status.busy": "2025-01-05T18:55:57.729698Z",
     "iopub.status.idle": "2025-01-05T18:58:49.230201Z",
     "shell.execute_reply": "2025-01-05T18:58:49.228786Z"
    },
    "papermill": {
     "duration": 171.517489,
     "end_time": "2025-01-05T18:58:49.232365",
     "exception": false,
     "start_time": "2025-01-05T18:55:57.714876",
     "status": "completed"
    },
    "tags": []
   },
   "outputs": [
    {
     "name": "stdout",
     "output_type": "stream",
     "text": [
      "/kaggle/working/RECsys_Challenge2024\n",
      "run_compile_all_cython: Found 11 Cython files in 5 folders...\r\n",
      "run_compile_all_cython: All files will be compiled using your current python environment: '/usr/bin/python3'\r\n",
      "Compiling [1/11]: MatrixFactorizationImpressions_Cython_Epoch.pyx... \r\n",
      "In file included from \u001b[01m\u001b[K/usr/local/lib/python3.10/dist-packages/numpy/core/include/numpy/ndarraytypes.h:1929\u001b[m\u001b[K,\r\n",
      "                 from \u001b[01m\u001b[K/usr/local/lib/python3.10/dist-packages/numpy/core/include/numpy/ndarrayobject.h:12\u001b[m\u001b[K,\r\n",
      "                 from \u001b[01m\u001b[K/usr/local/lib/python3.10/dist-packages/numpy/core/include/numpy/arrayobject.h:5\u001b[m\u001b[K,\r\n",
      "                 from \u001b[01m\u001b[KMatrixFactorizationImpressions_Cython_Epoch.c:1252\u001b[m\u001b[K:\r\n",
      "\u001b[01m\u001b[K/usr/local/lib/python3.10/dist-packages/numpy/core/include/numpy/npy_1_7_deprecated_api.h:17:2:\u001b[m\u001b[K \u001b[01;35m\u001b[Kwarning: \u001b[m\u001b[K#warning \"Using deprecated NumPy API, disable it with \" \"#define NPY_NO_DEPRECATED_API NPY_1_7_API_VERSION\" [\u001b[01;35m\u001b[K\u001b]8;;https://gcc.gnu.org/onlinedocs/gcc/Warning-Options.html#index-Wcpp\u0007-Wcpp\u001b]8;;\u0007\u001b[m\u001b[K]\r\n",
      "   17 | #\u001b[01;35m\u001b[Kwarning\u001b[m\u001b[K \"Using deprecated NumPy API, disable it with \" \\\r\n",
      "      |  \u001b[01;35m\u001b[K^~~~~~~\u001b[m\u001b[K\r\n",
      "\u001b[01m\u001b[KMatrixFactorizationImpressions_Cython_Epoch.c:\u001b[m\u001b[K In function ‘\u001b[01m\u001b[K__pyx_f_43MatrixFactorizationImpressions_Cython_Epoch_32MatrixFactorization_Cython_Epoch_sampleBPR_Cython\u001b[m\u001b[K’:\r\n",
      "\u001b[01m\u001b[KMatrixFactorizationImpressions_Cython_Epoch.c:30353:17:\u001b[m\u001b[K \u001b[01;35m\u001b[Kwarning: \u001b[m\u001b[K‘\u001b[01m\u001b[K__pyx_v_start_pos_impression_items\u001b[m\u001b[K’ may be used uninitialized in this function [\u001b[01;35m\u001b[K\u001b]8;;https://gcc.gnu.org/onlinedocs/gcc/Warning-Options.html#index-Wmaybe-uninitialized\u0007-Wmaybe-uninitialized\u001b]8;;\u0007\u001b[m\u001b[K]\r\n",
      "30353 |       \u001b[01;35m\u001b[K__pyx_t_4 = (__pyx_v_start_pos_impression_items + __pyx_v_index)\u001b[m\u001b[K;\r\n",
      "      |       \u001b[01;35m\u001b[K~~~~~~~~~~^~~~~~~~~~~~~~~~~~~~~~~~~~~~~~~~~~~~~~~~~~~~~~~~~~~~~~\u001b[m\u001b[K\r\n",
      "\u001b[01m\u001b[KMatrixFactorizationImpressions_Cython_Epoch.c:\u001b[m\u001b[K In function ‘\u001b[01m\u001b[K__pyx_pf_43MatrixFactorizationImpressions_Cython_Epoch_32MatrixFactorization_Cython_Epoch_10epochIteration_Cython_ASY_SVD_SGD\u001b[m\u001b[K’:\r\n",
      "\u001b[01m\u001b[KMatrixFactorizationImpressions_Cython_Epoch.c:26112:66:\u001b[m\u001b[K \u001b[01;35m\u001b[Kwarning: \u001b[m\u001b[K‘\u001b[01m\u001b[K__pyx_v_end_pos_seen_items\u001b[m\u001b[K’ may be used uninitialized in this function [\u001b[01;35m\u001b[K\u001b]8;;https://gcc.gnu.org/onlinedocs/gcc/Warning-Options.html#index-Wmaybe-uninitialized\u0007-Wmaybe-uninitialized\u001b]8;;\u0007\u001b[m\u001b[K]\r\n",
      "26112 |       for (__pyx_t_22 = __pyx_v_start_pos_seen_items; \u001b[01;35m\u001b[K__pyx_t_22 < __pyx_t_21\u001b[m\u001b[K; __pyx_t_22+=1) {\r\n",
      "      |                                                       \u001b[01;35m\u001b[K~~~~~~~~~~~^~~~~~~~~~~~\u001b[m\u001b[K\r\n",
      "\u001b[01m\u001b[KMatrixFactorizationImpressions_Cython_Epoch.c:26112:66:\u001b[m\u001b[K \u001b[01;35m\u001b[Kwarning: \u001b[m\u001b[K‘\u001b[01m\u001b[K__pyx_v_start_pos_seen_items\u001b[m\u001b[K’ may be used uninitialized in this function [\u001b[01;35m\u001b[K\u001b]8;;https://gcc.gnu.org/onlinedocs/gcc/Warning-Options.html#index-Wmaybe-uninitialized\u0007-Wmaybe-uninitialized\u001b]8;;\u0007\u001b[m\u001b[K]\r\n",
      "/usr/local/lib/python3.10/dist-packages/Cython/Compiler/Main.py:381: FutureWarning: Cython directive 'language_level' not set, using '3str' for now (Py3). This has changed from earlier releases! File: /kaggle/working/RECsys_Challenge2024/Recommenders/MatrixFactorization/Cython/MatrixFactorizationImpressions_Cython_Epoch.pyx\r\n",
      "  tree = Parsing.p_module(s, pxd, full_module_name)\r\n",
      "Compiling [1/11]: MatrixFactorizationImpressions_Cython_Epoch.pyx... PASS\r\n",
      "\r\n",
      "Compiling [2/11]: MatrixFactorization_Cython_Epoch.pyx... \r\n",
      "In file included from \u001b[01m\u001b[K/usr/local/lib/python3.10/dist-packages/numpy/core/include/numpy/ndarraytypes.h:1929\u001b[m\u001b[K,\r\n",
      "                 from \u001b[01m\u001b[K/usr/local/lib/python3.10/dist-packages/numpy/core/include/numpy/ndarrayobject.h:12\u001b[m\u001b[K,\r\n",
      "                 from \u001b[01m\u001b[K/usr/local/lib/python3.10/dist-packages/numpy/core/include/numpy/arrayobject.h:5\u001b[m\u001b[K,\r\n",
      "                 from \u001b[01m\u001b[KMatrixFactorization_Cython_Epoch.c:1252\u001b[m\u001b[K:\r\n",
      "\u001b[01m\u001b[K/usr/local/lib/python3.10/dist-packages/numpy/core/include/numpy/npy_1_7_deprecated_api.h:17:2:\u001b[m\u001b[K \u001b[01;35m\u001b[Kwarning: \u001b[m\u001b[K#warning \"Using deprecated NumPy API, disable it with \" \"#define NPY_NO_DEPRECATED_API NPY_1_7_API_VERSION\" [\u001b[01;35m\u001b[K\u001b]8;;https://gcc.gnu.org/onlinedocs/gcc/Warning-Options.html#index-Wcpp\u0007-Wcpp\u001b]8;;\u0007\u001b[m\u001b[K]\r\n",
      "   17 | #\u001b[01;35m\u001b[Kwarning\u001b[m\u001b[K \"Using deprecated NumPy API, disable it with \" \\\r\n",
      "      |  \u001b[01;35m\u001b[K^~~~~~~\u001b[m\u001b[K\r\n",
      "\u001b[01m\u001b[KMatrixFactorization_Cython_Epoch.c:\u001b[m\u001b[K In function ‘\u001b[01m\u001b[K__pyx_pf_32MatrixFactorization_Cython_Epoch_32MatrixFactorization_Cython_Epoch_10epochIteration_Cython_ASY_SVD_SGD\u001b[m\u001b[K’:\r\n",
      "\u001b[01m\u001b[KMatrixFactorization_Cython_Epoch.c:26256:68:\u001b[m\u001b[K \u001b[01;35m\u001b[Kwarning: \u001b[m\u001b[K‘\u001b[01m\u001b[K__pyx_v_end_pos_seen_items\u001b[m\u001b[K’ may be used uninitialized in this function [\u001b[01;35m\u001b[K\u001b]8;;https://gcc.gnu.org/onlinedocs/gcc/Warning-Options.html#index-Wmaybe-uninitialized\u0007-Wmaybe-uninitialized\u001b]8;;\u0007\u001b[m\u001b[K]\r\n",
      "26256 |         for (__pyx_t_22 = __pyx_v_start_pos_seen_items; \u001b[01;35m\u001b[K__pyx_t_22 < __pyx_t_21\u001b[m\u001b[K; __pyx_t_22+=1) {\r\n",
      "      |                                                         \u001b[01;35m\u001b[K~~~~~~~~~~~^~~~~~~~~~~~\u001b[m\u001b[K\r\n",
      "\u001b[01m\u001b[KMatrixFactorization_Cython_Epoch.c:26256:68:\u001b[m\u001b[K \u001b[01;35m\u001b[Kwarning: \u001b[m\u001b[K‘\u001b[01m\u001b[K__pyx_v_start_pos_seen_items\u001b[m\u001b[K’ may be used uninitialized in this function [\u001b[01;35m\u001b[K\u001b]8;;https://gcc.gnu.org/onlinedocs/gcc/Warning-Options.html#index-Wmaybe-uninitialized\u0007-Wmaybe-uninitialized\u001b]8;;\u0007\u001b[m\u001b[K]\r\n",
      "/usr/local/lib/python3.10/dist-packages/Cython/Compiler/Main.py:381: FutureWarning: Cython directive 'language_level' not set, using '3str' for now (Py3). This has changed from earlier releases! File: /kaggle/working/RECsys_Challenge2024/Recommenders/MatrixFactorization/Cython/MatrixFactorization_Cython_Epoch.pyx\r\n",
      "  tree = Parsing.p_module(s, pxd, full_module_name)\r\n",
      "Compiling [2/11]: MatrixFactorization_Cython_Epoch.pyx... PASS\r\n",
      "\r\n",
      "Compiling [3/11]: Compute_Similarity_Cython.pyx... \r\n",
      "warning: Compute_Similarity_Cython.pyx:21:0: The 'IF' statement is deprecated and will be removed in a future Cython version. Consider using runtime conditions or C macros instead. See https://github.com/cython/cython/issues/4310\r\n",
      "In file included from \u001b[01m\u001b[K/usr/local/lib/python3.10/dist-packages/numpy/core/include/numpy/ndarraytypes.h:1929\u001b[m\u001b[K,\r\n",
      "                 from \u001b[01m\u001b[K/usr/local/lib/python3.10/dist-packages/numpy/core/include/numpy/ndarrayobject.h:12\u001b[m\u001b[K,\r\n",
      "                 from \u001b[01m\u001b[K/usr/local/lib/python3.10/dist-packages/numpy/core/include/numpy/arrayobject.h:5\u001b[m\u001b[K,\r\n",
      "                 from \u001b[01m\u001b[KCompute_Similarity_Cython.c:1252\u001b[m\u001b[K:\r\n",
      "\u001b[01m\u001b[K/usr/local/lib/python3.10/dist-packages/numpy/core/include/numpy/npy_1_7_deprecated_api.h:17:2:\u001b[m\u001b[K \u001b[01;35m\u001b[Kwarning: \u001b[m\u001b[K#warning \"Using deprecated NumPy API, disable it with \" \"#define NPY_NO_DEPRECATED_API NPY_1_7_API_VERSION\" [\u001b[01;35m\u001b[K\u001b]8;;https://gcc.gnu.org/onlinedocs/gcc/Warning-Options.html#index-Wcpp\u0007-Wcpp\u001b]8;;\u0007\u001b[m\u001b[K]\r\n",
      "   17 | #\u001b[01;35m\u001b[Kwarning\u001b[m\u001b[K \"Using deprecated NumPy API, disable it with \" \\\r\n",
      "      |  \u001b[01;35m\u001b[K^~~~~~~\u001b[m\u001b[K\r\n",
      "/usr/local/lib/python3.10/dist-packages/Cython/Compiler/Main.py:381: FutureWarning: Cython directive 'language_level' not set, using '3str' for now (Py3). This has changed from earlier releases! File: /kaggle/working/RECsys_Challenge2024/Recommenders/Similarity/Cython/Compute_Similarity_Cython.pyx\r\n",
      "  tree = Parsing.p_module(s, pxd, full_module_name)\r\n",
      "warning: Compute_Similarity_Cython.pyx:21:0: The 'IF' statement is deprecated and will be removed in a future Cython version. Consider using runtime conditions or C macros instead. See https://github.com/cython/cython/issues/4310\r\n",
      "Compiling [3/11]: Compute_Similarity_Cython.pyx... PASS\r\n",
      "\r\n",
      "Compiling [4/11]: SLIM_BPR_Cython_Epoch.pyx... \r\n",
      "warning: SLIM_BPR_Cython_Epoch.pyx:24:0: The 'IF' statement is deprecated and will be removed in a future Cython version. Consider using runtime conditions or C macros instead. See https://github.com/cython/cython/issues/4310\r\n",
      "warning: SLIM_BPR_Cython_Epoch.pyx:632:34: Non-trivial type declarators in shared declaration (e.g. mix of pointers and values). Each pointer declaration should be on its own line.\r\n",
      "warning: SLIM_BPR_Cython_Epoch.pyx:632:66: Non-trivial type declarators in shared declaration (e.g. mix of pointers and values). Each pointer declaration should be on its own line.\r\n",
      "warning: SLIM_BPR_Cython_Epoch.pyx:817:35: Non-trivial type declarators in shared declaration (e.g. mix of pointers and values). Each pointer declaration should be on its own line.\r\n",
      "warning: SLIM_BPR_Cython_Epoch.pyx:817:52: Non-trivial type declarators in shared declaration (e.g. mix of pointers and values). Each pointer declaration should be on its own line.\r\n",
      "warning: SLIM_BPR_Cython_Epoch.pyx:916:35: Non-trivial type declarators in shared declaration (e.g. mix of pointers and values). Each pointer declaration should be on its own line.\r\n",
      "warning: SLIM_BPR_Cython_Epoch.pyx:916:53: Non-trivial type declarators in shared declaration (e.g. mix of pointers and values). Each pointer declaration should be on its own line.\r\n",
      "warning: SLIM_BPR_Cython_Epoch.pyx:916:69: Non-trivial type declarators in shared declaration (e.g. mix of pointers and values). Each pointer declaration should be on its own line.\r\n",
      "warning: SLIM_BPR_Cython_Epoch.pyx:1051:35: Non-trivial type declarators in shared declaration (e.g. mix of pointers and values). Each pointer declaration should be on its own line.\r\n",
      "warning: SLIM_BPR_Cython_Epoch.pyx:1051:42: Non-trivial type declarators in shared declaration (e.g. mix of pointers and values). Each pointer declaration should be on its own line.\r\n",
      "warning: SLIM_BPR_Cython_Epoch.pyx:1052:35: Non-trivial type declarators in shared declaration (e.g. mix of pointers and values). Each pointer declaration should be on its own line.\r\n",
      "warning: SLIM_BPR_Cython_Epoch.pyx:1052:53: Non-trivial type declarators in shared declaration (e.g. mix of pointers and values). Each pointer declaration should be on its own line.\r\n",
      "\r\n",
      "Error compiling Cython file:\r\n",
      "------------------------------------------------------------\r\n",
      "...\r\n",
      "            vector_pointer_to_list_elements[index].head = current_element\r\n",
      "            current_element = current_element.higher\r\n",
      "\r\n",
      "\r\n",
      "        # Sort array elements on their data field\r\n",
      "        qsort(vector_pointer_to_list_elements, list_length, sizeof(head_pointer_tree_s), compare_struct_on_data)\r\n",
      "                                                                                         ^\r\n",
      "------------------------------------------------------------\r\n",
      "\r\n",
      "SLIM_BPR_Cython_Epoch.pyx:990:89: Cannot assign type 'int (const void *, const void *) except? -1' to 'int (*)(const_void *, const_void *) noexcept'. Exception values are incompatible. Suggest adding 'noexcept' to the type of 'compare_struct_on_data'.\r\n",
      "\r\n",
      "Error compiling Cython file:\r\n",
      "------------------------------------------------------------\r\n",
      "...\r\n",
      "        # Sort array elements on their data field\r\n",
      "        qsort(vector_pointer_to_list_elements, list_length, sizeof(head_pointer_tree_s), compare_struct_on_data)\r\n",
      "\r\n",
      "        # Sort only the TopK according to their column field\r\n",
      "        # Sort is from lower to higher, therefore the elements to be considered are from len-topK to len\r\n",
      "        qsort(&vector_pointer_to_list_elements[list_length-TopK], TopK, sizeof(head_pointer_tree_s), compare_struct_on_column)\r\n",
      "                                                                                                     ^\r\n",
      "------------------------------------------------------------\r\n",
      "\r\n",
      "SLIM_BPR_Cython_Epoch.pyx:994:101: Cannot assign type 'int (const void *, const void *) except? -1' to 'int (*)(const_void *, const_void *) noexcept'. Exception values are incompatible. Suggest adding 'noexcept' to the type of 'compare_struct_on_column'.\r\n",
      "Traceback (most recent call last):\r\n",
      "  File \"/kaggle/working/RECsys_Challenge2024/CythonCompiler/compile_script.py\", line 48, in <module>\r\n",
      "    setup(\r\n",
      "  File \"/usr/local/lib/python3.10/dist-packages/setuptools/__init__.py\", line 108, in setup\r\n",
      "    return distutils.core.setup(**attrs)\r\n",
      "  File \"/usr/local/lib/python3.10/dist-packages/setuptools/_distutils/core.py\", line 184, in setup\r\n",
      "    return run_commands(dist)\r\n",
      "  File \"/usr/local/lib/python3.10/dist-packages/setuptools/_distutils/core.py\", line 200, in run_commands\r\n",
      "    dist.run_commands()\r\n",
      "  File \"/usr/local/lib/python3.10/dist-packages/setuptools/_distutils/dist.py\", line 970, in run_commands\r\n",
      "    self.run_command(cmd)\r\n",
      "  File \"/usr/local/lib/python3.10/dist-packages/setuptools/dist.py\", line 956, in run_command\r\n",
      "    super().run_command(command)\r\n",
      "  File \"/usr/local/lib/python3.10/dist-packages/setuptools/_distutils/dist.py\", line 989, in run_command\r\n",
      "    cmd_obj.run()\r\n",
      "  File \"/usr/local/lib/python3.10/dist-packages/setuptools/_distutils/command/build_ext.py\", line 359, in run\r\n",
      "    self.build_extensions()\r\n",
      "  File \"/usr/local/lib/python3.10/dist-packages/setuptools/_distutils/command/build_ext.py\", line 479, in build_extensions\r\n",
      "    self._build_extensions_serial()\r\n",
      "  File \"/usr/local/lib/python3.10/dist-packages/setuptools/_distutils/command/build_ext.py\", line 505, in _build_extensions_serial\r\n",
      "    self.build_extension(ext)\r\n",
      "  File \"/usr/local/lib/python3.10/dist-packages/Cython/Distutils/build_ext.py\", line 130, in build_extension\r\n",
      "    new_ext = cythonize(\r\n",
      "  File \"/usr/local/lib/python3.10/dist-packages/Cython/Build/Dependencies.py\", line 1154, in cythonize\r\n",
      "    cythonize_one(*args)\r\n",
      "  File \"/usr/local/lib/python3.10/dist-packages/Cython/Build/Dependencies.py\", line 1321, in cythonize_one\r\n",
      "    raise CompileError(None, pyx_file)\r\n",
      "Cython.Compiler.Errors.CompileError: SLIM_BPR_Cython_Epoch.pyx\r\n",
      "Traceback (most recent call last):\r\n",
      "  File \"/kaggle/working/RECsys_Challenge2024/run_compile_all_cython.py\", line 60, in <module>\r\n",
      "    run_compile_subprocess(file_path, [file_name])\r\n",
      "  File \"/kaggle/working/RECsys_Challenge2024/CythonCompiler/run_compile_subprocess.py\", line 51, in run_compile_subprocess\r\n",
      "    raise exc\r\n",
      "  File \"/kaggle/working/RECsys_Challenge2024/CythonCompiler/run_compile_subprocess.py\", line 32, in run_compile_subprocess\r\n",
      "    output = subprocess.check_output(' '.join(command),\r\n",
      "  File \"/usr/lib/python3.10/subprocess.py\", line 421, in check_output\r\n",
      "    return run(*popenargs, stdout=PIPE, timeout=timeout, check=True,\r\n",
      "  File \"/usr/lib/python3.10/subprocess.py\", line 526, in run\r\n",
      "    raise CalledProcessError(retcode, process.args,\r\n",
      "subprocess.CalledProcessError: Command '/usr/bin/python3 /kaggle/working/RECsys_Challenge2024/CythonCompiler/compile_script.py SLIM_BPR_Cython_Epoch.pyx build_ext --inplace' returned non-zero exit status 1.\r\n",
      "Compiling [4/11]: SLIM_BPR_Cython_Epoch.pyx... FAIL: Command '/usr/bin/python3 /kaggle/working/RECsys_Challenge2024/CythonCompiler/compile_script.py SLIM_BPR_Cython_Epoch.pyx build_ext --inplace' returned non-zero exit status 1.\r\n",
      "\r\n",
      "Compiling [5/11]: Sparse_Matrix_Tree_CSR.pyx... \r\n",
      "warning: Sparse_Matrix_Tree_CSR.pyx:132:34: Non-trivial type declarators in shared declaration (e.g. mix of pointers and values). Each pointer declaration should be on its own line.\r\n",
      "warning: Sparse_Matrix_Tree_CSR.pyx:132:66: Non-trivial type declarators in shared declaration (e.g. mix of pointers and values). Each pointer declaration should be on its own line.\r\n",
      "warning: Sparse_Matrix_Tree_CSR.pyx:343:35: Non-trivial type declarators in shared declaration (e.g. mix of pointers and values). Each pointer declaration should be on its own line.\r\n",
      "warning: Sparse_Matrix_Tree_CSR.pyx:343:52: Non-trivial type declarators in shared declaration (e.g. mix of pointers and values). Each pointer declaration should be on its own line.\r\n",
      "warning: Sparse_Matrix_Tree_CSR.pyx:442:35: Non-trivial type declarators in shared declaration (e.g. mix of pointers and values). Each pointer declaration should be on its own line.\r\n",
      "warning: Sparse_Matrix_Tree_CSR.pyx:442:53: Non-trivial type declarators in shared declaration (e.g. mix of pointers and values). Each pointer declaration should be on its own line.\r\n",
      "warning: Sparse_Matrix_Tree_CSR.pyx:442:69: Non-trivial type declarators in shared declaration (e.g. mix of pointers and values). Each pointer declaration should be on its own line.\r\n",
      "warning: Sparse_Matrix_Tree_CSR.pyx:577:35: Non-trivial type declarators in shared declaration (e.g. mix of pointers and values). Each pointer declaration should be on its own line.\r\n",
      "warning: Sparse_Matrix_Tree_CSR.pyx:577:42: Non-trivial type declarators in shared declaration (e.g. mix of pointers and values). Each pointer declaration should be on its own line.\r\n",
      "warning: Sparse_Matrix_Tree_CSR.pyx:578:35: Non-trivial type declarators in shared declaration (e.g. mix of pointers and values). Each pointer declaration should be on its own line.\r\n",
      "warning: Sparse_Matrix_Tree_CSR.pyx:578:53: Non-trivial type declarators in shared declaration (e.g. mix of pointers and values). Each pointer declaration should be on its own line.\r\n",
      "\r\n",
      "Error compiling Cython file:\r\n",
      "------------------------------------------------------------\r\n",
      "...\r\n",
      "            vector_pointer_to_list_elements[index].head = current_element\r\n",
      "            current_element = current_element.higher\r\n",
      "\r\n",
      "\r\n",
      "        # Sort array elements on their data field\r\n",
      "        qsort(vector_pointer_to_list_elements, list_length, sizeof(head_pointer_tree_s), compare_struct_on_data)\r\n",
      "                                                                                         ^\r\n",
      "------------------------------------------------------------\r\n",
      "\r\n",
      "Sparse_Matrix_Tree_CSR.pyx:516:89: Cannot assign type 'int (const void *, const void *) except? -1' to 'int (*)(const_void *, const_void *) noexcept'. Exception values are incompatible. Suggest adding 'noexcept' to the type of 'compare_struct_on_data'.\r\n",
      "\r\n",
      "Error compiling Cython file:\r\n",
      "------------------------------------------------------------\r\n",
      "...\r\n",
      "        # Sort array elements on their data field\r\n",
      "        qsort(vector_pointer_to_list_elements, list_length, sizeof(head_pointer_tree_s), compare_struct_on_data)\r\n",
      "\r\n",
      "        # Sort only the TopK according to their column field\r\n",
      "        # Sort is from lower to higher, therefore the elements to be considered are from len-topK to len\r\n",
      "        qsort(&vector_pointer_to_list_elements[list_length-TopK], TopK, sizeof(head_pointer_tree_s), compare_struct_on_column)\r\n",
      "                                                                                                     ^\r\n",
      "------------------------------------------------------------\r\n",
      "\r\n",
      "Sparse_Matrix_Tree_CSR.pyx:520:101: Cannot assign type 'int (const void *, const void *) except? -1' to 'int (*)(const_void *, const_void *) noexcept'. Exception values are incompatible. Suggest adding 'noexcept' to the type of 'compare_struct_on_column'.\r\n",
      "Traceback (most recent call last):\r\n",
      "  File \"/kaggle/working/RECsys_Challenge2024/CythonCompiler/compile_script.py\", line 48, in <module>\r\n",
      "    setup(\r\n",
      "  File \"/usr/local/lib/python3.10/dist-packages/setuptools/__init__.py\", line 108, in setup\r\n",
      "    return distutils.core.setup(**attrs)\r\n",
      "  File \"/usr/local/lib/python3.10/dist-packages/setuptools/_distutils/core.py\", line 184, in setup\r\n",
      "    return run_commands(dist)\r\n",
      "  File \"/usr/local/lib/python3.10/dist-packages/setuptools/_distutils/core.py\", line 200, in run_commands\r\n",
      "    dist.run_commands()\r\n",
      "  File \"/usr/local/lib/python3.10/dist-packages/setuptools/_distutils/dist.py\", line 970, in run_commands\r\n",
      "    self.run_command(cmd)\r\n",
      "  File \"/usr/local/lib/python3.10/dist-packages/setuptools/dist.py\", line 956, in run_command\r\n",
      "    super().run_command(command)\r\n",
      "  File \"/usr/local/lib/python3.10/dist-packages/setuptools/_distutils/dist.py\", line 989, in run_command\r\n",
      "    cmd_obj.run()\r\n",
      "  File \"/usr/local/lib/python3.10/dist-packages/setuptools/_distutils/command/build_ext.py\", line 359, in run\r\n",
      "    self.build_extensions()\r\n",
      "  File \"/usr/local/lib/python3.10/dist-packages/setuptools/_distutils/command/build_ext.py\", line 479, in build_extensions\r\n",
      "    self._build_extensions_serial()\r\n",
      "  File \"/usr/local/lib/python3.10/dist-packages/setuptools/_distutils/command/build_ext.py\", line 505, in _build_extensions_serial\r\n",
      "    self.build_extension(ext)\r\n",
      "  File \"/usr/local/lib/python3.10/dist-packages/Cython/Distutils/build_ext.py\", line 130, in build_extension\r\n",
      "    new_ext = cythonize(\r\n",
      "  File \"/usr/local/lib/python3.10/dist-packages/Cython/Build/Dependencies.py\", line 1154, in cythonize\r\n",
      "    cythonize_one(*args)\r\n",
      "  File \"/usr/local/lib/python3.10/dist-packages/Cython/Build/Dependencies.py\", line 1321, in cythonize_one\r\n",
      "    raise CompileError(None, pyx_file)\r\n",
      "Cython.Compiler.Errors.CompileError: Sparse_Matrix_Tree_CSR.pyx\r\n",
      "Traceback (most recent call last):\r\n",
      "  File \"/kaggle/working/RECsys_Challenge2024/run_compile_all_cython.py\", line 60, in <module>\r\n",
      "    run_compile_subprocess(file_path, [file_name])\r\n",
      "  File \"/kaggle/working/RECsys_Challenge2024/CythonCompiler/run_compile_subprocess.py\", line 51, in run_compile_subprocess\r\n",
      "    raise exc\r\n",
      "  File \"/kaggle/working/RECsys_Challenge2024/CythonCompiler/run_compile_subprocess.py\", line 32, in run_compile_subprocess\r\n",
      "    output = subprocess.check_output(' '.join(command),\r\n",
      "  File \"/usr/lib/python3.10/subprocess.py\", line 421, in check_output\r\n",
      "    return run(*popenargs, stdout=PIPE, timeout=timeout, check=True,\r\n",
      "  File \"/usr/lib/python3.10/subprocess.py\", line 526, in run\r\n",
      "    raise CalledProcessError(retcode, process.args,\r\n",
      "subprocess.CalledProcessError: Command '/usr/bin/python3 /kaggle/working/RECsys_Challenge2024/CythonCompiler/compile_script.py Sparse_Matrix_Tree_CSR.pyx build_ext --inplace' returned non-zero exit status 1.\r\n",
      "Compiling [5/11]: Sparse_Matrix_Tree_CSR.pyx... FAIL: Command '/usr/bin/python3 /kaggle/working/RECsys_Challenge2024/CythonCompiler/compile_script.py Sparse_Matrix_Tree_CSR.pyx build_ext --inplace' returned non-zero exit status 1.\r\n",
      "\r\n",
      "Compiling [6/11]: Triangular_Matrix.pyx... \r\n",
      "warning: Triangular_Matrix.pyx:22:0: The 'IF' statement is deprecated and will be removed in a future Cython version. Consider using runtime conditions or C macros instead. See https://github.com/cython/cython/issues/4310\r\n",
      "In file included from \u001b[01m\u001b[K/usr/local/lib/python3.10/dist-packages/numpy/core/include/numpy/ndarraytypes.h:1929\u001b[m\u001b[K,\r\n",
      "                 from \u001b[01m\u001b[K/usr/local/lib/python3.10/dist-packages/numpy/core/include/numpy/ndarrayobject.h:12\u001b[m\u001b[K,\r\n",
      "                 from \u001b[01m\u001b[K/usr/local/lib/python3.10/dist-packages/numpy/core/include/numpy/arrayobject.h:5\u001b[m\u001b[K,\r\n",
      "                 from \u001b[01m\u001b[KTriangular_Matrix.c:1252\u001b[m\u001b[K:\r\n",
      "\u001b[01m\u001b[K/usr/local/lib/python3.10/dist-packages/numpy/core/include/numpy/npy_1_7_deprecated_api.h:17:2:\u001b[m\u001b[K \u001b[01;35m\u001b[Kwarning: \u001b[m\u001b[K#warning \"Using deprecated NumPy API, disable it with \" \"#define NPY_NO_DEPRECATED_API NPY_1_7_API_VERSION\" [\u001b[01;35m\u001b[K\u001b]8;;https://gcc.gnu.org/onlinedocs/gcc/Warning-Options.html#index-Wcpp\u0007-Wcpp\u001b]8;;\u0007\u001b[m\u001b[K]\r\n",
      "   17 | #\u001b[01;35m\u001b[Kwarning\u001b[m\u001b[K \"Using deprecated NumPy API, disable it with \" \\\r\n",
      "      |  \u001b[01;35m\u001b[K^~~~~~~\u001b[m\u001b[K\r\n",
      "In function ‘\u001b[01m\u001b[K__pyx_pf_17Triangular_Matrix_17Triangular_Matrix___init__\u001b[m\u001b[K’,\r\n",
      "    inlined from ‘\u001b[01m\u001b[K__pyx_pw_17Triangular_Matrix_17Triangular_Matrix_1__init__\u001b[m\u001b[K’ at \u001b[01m\u001b[KTriangular_Matrix.c:5541:13\u001b[m\u001b[K:\r\n",
      "\u001b[01m\u001b[KTriangular_Matrix.c:5599:43:\u001b[m\u001b[K \u001b[01;35m\u001b[Kwarning: \u001b[m\u001b[Kargument 1 value ‘\u001b[01m\u001b[K18446744073709551608\u001b[m\u001b[K’ exceeds maximum object size 9223372036854775807 [\u001b[01;35m\u001b[K\u001b]8;;https://gcc.gnu.org/onlinedocs/gcc/Warning-Options.html#index-Walloc-size-larger-than=\u0007-Walloc-size-larger-than=\u001b]8;;\u0007\u001b[m\u001b[K]\r\n",
      " 5599 |   __pyx_v_self->row_pointer = ((double **)\u001b[01;35m\u001b[Kmalloc((__pyx_v_self->num_rows * (sizeof(double *))))\u001b[m\u001b[K);\r\n",
      "      |                                           \u001b[01;35m\u001b[K^~~~~~~~~~~~~~~~~~~~~~~~~~~~~~~~~~~~~~~~~~~~~~~~~~~~~\u001b[m\u001b[K\r\n",
      "In file included from \u001b[01m\u001b[K/usr/include/python3.10/Python.h:34\u001b[m\u001b[K,\r\n",
      "                 from \u001b[01m\u001b[KTriangular_Matrix.c:41\u001b[m\u001b[K:\r\n",
      "\u001b[01m\u001b[KTriangular_Matrix.c:\u001b[m\u001b[K In function ‘\u001b[01m\u001b[K__pyx_pw_17Triangular_Matrix_17Triangular_Matrix_1__init__\u001b[m\u001b[K’:\r\n",
      "\u001b[01m\u001b[K/usr/include/stdlib.h:540:14:\u001b[m\u001b[K \u001b[01;36m\u001b[Knote: \u001b[m\u001b[Kin a call to allocation function ‘\u001b[01m\u001b[Kmalloc\u001b[m\u001b[K’ declared here\r\n",
      "  540 | extern void *\u001b[01;36m\u001b[Kmalloc\u001b[m\u001b[K (size_t __size) __THROW __attribute_malloc__\r\n",
      "      |              \u001b[01;36m\u001b[K^~~~~~\u001b[m\u001b[K\r\n",
      "/usr/local/lib/python3.10/dist-packages/Cython/Compiler/Main.py:381: FutureWarning: Cython directive 'language_level' not set, using '3str' for now (Py3). This has changed from earlier releases! File: /kaggle/working/RECsys_Challenge2024/Recommenders/SLIM/Cython/Triangular_Matrix.pyx\r\n",
      "  tree = Parsing.p_module(s, pxd, full_module_name)\r\n",
      "warning: Triangular_Matrix.pyx:22:0: The 'IF' statement is deprecated and will be removed in a future Cython version. Consider using runtime conditions or C macros instead. See https://github.com/cython/cython/issues/4310\r\n",
      "Compiling [6/11]: Triangular_Matrix.pyx... PASS\r\n",
      "\r\n",
      "Compiling [7/11]: CFW_DVV_Similarity_Cython_SGD.pyx... \r\n",
      "In file included from \u001b[01m\u001b[K/usr/local/lib/python3.10/dist-packages/numpy/core/include/numpy/ndarraytypes.h:1929\u001b[m\u001b[K,\r\n",
      "                 from \u001b[01m\u001b[K/usr/local/lib/python3.10/dist-packages/numpy/core/include/numpy/ndarrayobject.h:12\u001b[m\u001b[K,\r\n",
      "                 from \u001b[01m\u001b[K/usr/local/lib/python3.10/dist-packages/numpy/core/include/numpy/arrayobject.h:5\u001b[m\u001b[K,\r\n",
      "                 from \u001b[01m\u001b[KCFW_DVV_Similarity_Cython_SGD.c:1252\u001b[m\u001b[K:\r\n",
      "\u001b[01m\u001b[K/usr/local/lib/python3.10/dist-packages/numpy/core/include/numpy/npy_1_7_deprecated_api.h:17:2:\u001b[m\u001b[K \u001b[01;35m\u001b[Kwarning: \u001b[m\u001b[K#warning \"Using deprecated NumPy API, disable it with \" \"#define NPY_NO_DEPRECATED_API NPY_1_7_API_VERSION\" [\u001b[01;35m\u001b[K\u001b]8;;https://gcc.gnu.org/onlinedocs/gcc/Warning-Options.html#index-Wcpp\u0007-Wcpp\u001b]8;;\u0007\u001b[m\u001b[K]\r\n",
      "   17 | #\u001b[01;35m\u001b[Kwarning\u001b[m\u001b[K \"Using deprecated NumPy API, disable it with \" \\\r\n",
      "      |  \u001b[01;35m\u001b[K^~~~~~~\u001b[m\u001b[K\r\n",
      "/usr/local/lib/python3.10/dist-packages/Cython/Compiler/Main.py:381: FutureWarning: Cython directive 'language_level' not set, using '3str' for now (Py3). This has changed from earlier releases! File: /kaggle/working/RECsys_Challenge2024/Recommenders/FeatureWeighting/Cython/CFW_DVV_Similarity_Cython_SGD.pyx\r\n",
      "  tree = Parsing.p_module(s, pxd, full_module_name)\r\n",
      "Compiling [7/11]: CFW_DVV_Similarity_Cython_SGD.pyx... PASS\r\n",
      "\r\n",
      "Compiling [8/11]: CFW_D_Similarity_Cython_SGD.pyx... \r\n",
      "In file included from \u001b[01m\u001b[K/usr/local/lib/python3.10/dist-packages/numpy/core/include/numpy/ndarraytypes.h:1929\u001b[m\u001b[K,\r\n",
      "                 from \u001b[01m\u001b[K/usr/local/lib/python3.10/dist-packages/numpy/core/include/numpy/ndarrayobject.h:12\u001b[m\u001b[K,\r\n",
      "                 from \u001b[01m\u001b[K/usr/local/lib/python3.10/dist-packages/numpy/core/include/numpy/arrayobject.h:5\u001b[m\u001b[K,\r\n",
      "                 from \u001b[01m\u001b[KCFW_D_Similarity_Cython_SGD.c:1252\u001b[m\u001b[K:\r\n",
      "\u001b[01m\u001b[K/usr/local/lib/python3.10/dist-packages/numpy/core/include/numpy/npy_1_7_deprecated_api.h:17:2:\u001b[m\u001b[K \u001b[01;35m\u001b[Kwarning: \u001b[m\u001b[K#warning \"Using deprecated NumPy API, disable it with \" \"#define NPY_NO_DEPRECATED_API NPY_1_7_API_VERSION\" [\u001b[01;35m\u001b[K\u001b]8;;https://gcc.gnu.org/onlinedocs/gcc/Warning-Options.html#index-Wcpp\u0007-Wcpp\u001b]8;;\u0007\u001b[m\u001b[K]\r\n",
      "   17 | #\u001b[01;35m\u001b[Kwarning\u001b[m\u001b[K \"Using deprecated NumPy API, disable it with \" \\\r\n",
      "      |  \u001b[01;35m\u001b[K^~~~~~~\u001b[m\u001b[K\r\n",
      "\u001b[01m\u001b[KCFW_D_Similarity_Cython_SGD.c:\u001b[m\u001b[K In function ‘\u001b[01m\u001b[K__pyx_pf_27CFW_D_Similarity_Cython_SGD_27CFW_D_Similarity_Cython_SGD_6fit\u001b[m\u001b[K’:\r\n",
      "\u001b[01m\u001b[KCFW_D_Similarity_Cython_SGD.c:23373:55:\u001b[m\u001b[K \u001b[01;35m\u001b[Kwarning: \u001b[m\u001b[K‘\u001b[01m\u001b[K__pyx_v_sample_num\u001b[m\u001b[K’ may be used uninitialized in this function [\u001b[01;35m\u001b[K\u001b]8;;https://gcc.gnu.org/onlinedocs/gcc/Warning-Options.html#index-Wmaybe-uninitialized\u0007-Wmaybe-uninitialized\u001b]8;;\u0007\u001b[m\u001b[K]\r\n",
      "23373 |   __pyx_t_3 = PyFloat_FromDouble((__pyx_v_cum_loss / \u001b[01;35m\u001b[K((double)__pyx_v_sample_num)\u001b[m\u001b[K)); if (unlikely(!__pyx_t_3)) __PYX_ERR(0, 290, __pyx_L1_error)\r\n",
      "      |                                                      \u001b[01;35m\u001b[K~^~~~~~~~~~~~~~~~~~~~~~~~~~~\u001b[m\u001b[K\r\n",
      "/usr/local/lib/python3.10/dist-packages/Cython/Compiler/Main.py:381: FutureWarning: Cython directive 'language_level' not set, using '3str' for now (Py3). This has changed from earlier releases! File: /kaggle/working/RECsys_Challenge2024/Recommenders/FeatureWeighting/Cython/CFW_D_Similarity_Cython_SGD.pyx\r\n",
      "  tree = Parsing.p_module(s, pxd, full_module_name)\r\n",
      "Compiling [8/11]: CFW_D_Similarity_Cython_SGD.pyx... PASS\r\n",
      "\r\n",
      "Compiling [9/11]: HP3_Similarity_Cython_SGD.pyx... \r\n",
      "performance hint: HP3_Similarity_Cython_SGD.pyx:113:40: Index should be typed for more efficient access\r\n",
      "performance hint: HP3_Similarity_Cython_SGD.pyx:114:40: Index should be typed for more efficient access\r\n",
      "In file included from \u001b[01m\u001b[K/usr/local/lib/python3.10/dist-packages/numpy/core/include/numpy/ndarraytypes.h:1929\u001b[m\u001b[K,\r\n",
      "                 from \u001b[01m\u001b[K/usr/local/lib/python3.10/dist-packages/numpy/core/include/numpy/ndarrayobject.h:12\u001b[m\u001b[K,\r\n",
      "                 from \u001b[01m\u001b[K/usr/local/lib/python3.10/dist-packages/numpy/core/include/numpy/arrayobject.h:5\u001b[m\u001b[K,\r\n",
      "                 from \u001b[01m\u001b[KHP3_Similarity_Cython_SGD.c:1252\u001b[m\u001b[K:\r\n",
      "\u001b[01m\u001b[K/usr/local/lib/python3.10/dist-packages/numpy/core/include/numpy/npy_1_7_deprecated_api.h:17:2:\u001b[m\u001b[K \u001b[01;35m\u001b[Kwarning: \u001b[m\u001b[K#warning \"Using deprecated NumPy API, disable it with \" \"#define NPY_NO_DEPRECATED_API NPY_1_7_API_VERSION\" [\u001b[01;35m\u001b[K\u001b]8;;https://gcc.gnu.org/onlinedocs/gcc/Warning-Options.html#index-Wcpp\u0007-Wcpp\u001b]8;;\u0007\u001b[m\u001b[K]\r\n",
      "   17 | #\u001b[01;35m\u001b[Kwarning\u001b[m\u001b[K \"Using deprecated NumPy API, disable it with \" \\\r\n",
      "      |  \u001b[01;35m\u001b[K^~~~~~~\u001b[m\u001b[K\r\n",
      "\u001b[01m\u001b[KHP3_Similarity_Cython_SGD.c:\u001b[m\u001b[K In function ‘\u001b[01m\u001b[K__pyx_pf_25HP3_Similarity_Cython_SGD_25HP3_Similarity_Cython_SGD_4fit\u001b[m\u001b[K’:\r\n",
      "\u001b[01m\u001b[KHP3_Similarity_Cython_SGD.c:23631:55:\u001b[m\u001b[K \u001b[01;35m\u001b[Kwarning: \u001b[m\u001b[K‘\u001b[01m\u001b[K__pyx_v_sample_num\u001b[m\u001b[K’ may be used uninitialized in this function [\u001b[01;35m\u001b[K\u001b]8;;https://gcc.gnu.org/onlinedocs/gcc/Warning-Options.html#index-Wmaybe-uninitialized\u0007-Wmaybe-uninitialized\u001b]8;;\u0007\u001b[m\u001b[K]\r\n",
      "23631 |   __pyx_t_1 = PyFloat_FromDouble((__pyx_v_cum_loss / \u001b[01;35m\u001b[K((double)__pyx_v_sample_num)\u001b[m\u001b[K)); if (unlikely(!__pyx_t_1)) __PYX_ERR(0, 291, __pyx_L1_error)\r\n",
      "      |                                                      \u001b[01;35m\u001b[K~^~~~~~~~~~~~~~~~~~~~~~~~~~~\u001b[m\u001b[K\r\n",
      "/usr/local/lib/python3.10/dist-packages/Cython/Compiler/Main.py:381: FutureWarning: Cython directive 'language_level' not set, using '3str' for now (Py3). This has changed from earlier releases! File: /kaggle/working/RECsys_Challenge2024/Recommenders/FeatureWeighting/Cython/HP3_Similarity_Cython_SGD.pyx\r\n",
      "  tree = Parsing.p_module(s, pxd, full_module_name)\r\n",
      "performance hint: HP3_Similarity_Cython_SGD.pyx:113:40: Index should be typed for more efficient access\r\n",
      "performance hint: HP3_Similarity_Cython_SGD.pyx:114:40: Index should be typed for more efficient access\r\n",
      "Compiling [9/11]: HP3_Similarity_Cython_SGD.pyx... PASS\r\n",
      "\r\n",
      "Compiling [10/11]: FBSM_Rating_Cython_SGD.pyx... \r\n",
      "In file included from \u001b[01m\u001b[K/usr/local/lib/python3.10/dist-packages/numpy/core/include/numpy/ndarraytypes.h:1929\u001b[m\u001b[K,\r\n",
      "                 from \u001b[01m\u001b[K/usr/local/lib/python3.10/dist-packages/numpy/core/include/numpy/ndarrayobject.h:12\u001b[m\u001b[K,\r\n",
      "                 from \u001b[01m\u001b[K/usr/local/lib/python3.10/dist-packages/numpy/core/include/numpy/arrayobject.h:5\u001b[m\u001b[K,\r\n",
      "                 from \u001b[01m\u001b[KFBSM_Rating_Cython_SGD.c:1252\u001b[m\u001b[K:\r\n",
      "\u001b[01m\u001b[K/usr/local/lib/python3.10/dist-packages/numpy/core/include/numpy/npy_1_7_deprecated_api.h:17:2:\u001b[m\u001b[K \u001b[01;35m\u001b[Kwarning: \u001b[m\u001b[K#warning \"Using deprecated NumPy API, disable it with \" \"#define NPY_NO_DEPRECATED_API NPY_1_7_API_VERSION\" [\u001b[01;35m\u001b[K\u001b]8;;https://gcc.gnu.org/onlinedocs/gcc/Warning-Options.html#index-Wcpp\u0007-Wcpp\u001b]8;;\u0007\u001b[m\u001b[K]\r\n",
      "   17 | #\u001b[01;35m\u001b[Kwarning\u001b[m\u001b[K \"Using deprecated NumPy API, disable it with \" \\\r\n",
      "      |  \u001b[01;35m\u001b[K^~~~~~~\u001b[m\u001b[K\r\n",
      "\u001b[01m\u001b[KFBSM_Rating_Cython_SGD.c:\u001b[m\u001b[K In function ‘\u001b[01m\u001b[K__pyx_pf_22FBSM_Rating_Cython_SGD_22FBSM_Rating_Cython_SGD_2fit\u001b[m\u001b[K’:\r\n",
      "\u001b[01m\u001b[KFBSM_Rating_Cython_SGD.c:26607:55:\u001b[m\u001b[K \u001b[01;35m\u001b[Kwarning: \u001b[m\u001b[K‘\u001b[01m\u001b[K__pyx_v_num_sample\u001b[m\u001b[K’ may be used uninitialized in this function [\u001b[01;35m\u001b[K\u001b]8;;https://gcc.gnu.org/onlinedocs/gcc/Warning-Options.html#index-Wmaybe-uninitialized\u0007-Wmaybe-uninitialized\u001b]8;;\u0007\u001b[m\u001b[K]\r\n",
      "26607 |   __pyx_t_5 = PyFloat_FromDouble((__pyx_v_cum_loss / \u001b[01;35m\u001b[K((double)__pyx_v_num_sample)\u001b[m\u001b[K)); if (unlikely(!__pyx_t_5)) __PYX_ERR(0, 551, __pyx_L1_error)\r\n",
      "      |                                                      \u001b[01;35m\u001b[K~^~~~~~~~~~~~~~~~~~~~~~~~~~~\u001b[m\u001b[K\r\n",
      "/usr/local/lib/python3.10/dist-packages/Cython/Compiler/Main.py:381: FutureWarning: Cython directive 'language_level' not set, using '3str' for now (Py3). This has changed from earlier releases! File: /kaggle/working/RECsys_Challenge2024/Recommenders/FeatureWeighting/Cython/FBSM_Rating_Cython_SGD.pyx\r\n",
      "  tree = Parsing.p_module(s, pxd, full_module_name)\r\n",
      "Compiling [10/11]: FBSM_Rating_Cython_SGD.pyx... PASS\r\n",
      "\r\n",
      "Compiling [11/11]: DataIterator.pyx... \r\n",
      "In file included from \u001b[01m\u001b[K/usr/local/lib/python3.10/dist-packages/numpy/core/include/numpy/ndarraytypes.h:1929\u001b[m\u001b[K,\r\n",
      "                 from \u001b[01m\u001b[K/usr/local/lib/python3.10/dist-packages/numpy/core/include/numpy/ndarrayobject.h:12\u001b[m\u001b[K,\r\n",
      "                 from \u001b[01m\u001b[K/usr/local/lib/python3.10/dist-packages/numpy/core/include/numpy/arrayobject.h:5\u001b[m\u001b[K,\r\n",
      "                 from \u001b[01m\u001b[KDataIterator.c:1252\u001b[m\u001b[K:\r\n",
      "\u001b[01m\u001b[K/usr/local/lib/python3.10/dist-packages/numpy/core/include/numpy/npy_1_7_deprecated_api.h:17:2:\u001b[m\u001b[K \u001b[01;35m\u001b[Kwarning: \u001b[m\u001b[K#warning \"Using deprecated NumPy API, disable it with \" \"#define NPY_NO_DEPRECATED_API NPY_1_7_API_VERSION\" [\u001b[01;35m\u001b[K\u001b]8;;https://gcc.gnu.org/onlinedocs/gcc/Warning-Options.html#index-Wcpp\u0007-Wcpp\u001b]8;;\u0007\u001b[m\u001b[K]\r\n",
      "   17 | #\u001b[01;35m\u001b[Kwarning\u001b[m\u001b[K \"Using deprecated NumPy API, disable it with \" \\\r\n",
      "      |  \u001b[01;35m\u001b[K^~~~~~~\u001b[m\u001b[K\r\n",
      "\u001b[01m\u001b[KDataIterator.c:\u001b[m\u001b[K In function ‘\u001b[01m\u001b[K__pyx_pf_12DataIterator_19InteractionIterator_6__next__\u001b[m\u001b[K’:\r\n",
      "\u001b[01m\u001b[KDataIterator.c:20937:22:\u001b[m\u001b[K \u001b[01;35m\u001b[Kwarning: \u001b[m\u001b[K‘\u001b[01m\u001b[K__pyx_v_i_batch\u001b[m\u001b[K’ may be used uninitialized in this function [\u001b[01;35m\u001b[K\u001b]8;;https://gcc.gnu.org/onlinedocs/gcc/Warning-Options.html#index-Wmaybe-uninitialized\u0007-Wmaybe-uninitialized\u001b]8;;\u0007\u001b[m\u001b[K]\r\n",
      "20937 |     (__pyx_v_i_batch \u001b[01;35m\u001b[K+\u001b[m\u001b[K 1),\r\n",
      "      |                      \u001b[01;35m\u001b[K^\u001b[m\u001b[K\r\n",
      "\u001b[01m\u001b[KDataIterator.c:\u001b[m\u001b[K In function ‘\u001b[01m\u001b[K__pyx_pf_12DataIterator_30InteractionAndNegativeIterator_6__next__\u001b[m\u001b[K’:\r\n",
      "\u001b[01m\u001b[KDataIterator.c:25499:22:\u001b[m\u001b[K \u001b[01;35m\u001b[Kwarning: \u001b[m\u001b[K‘\u001b[01m\u001b[K__pyx_v_i_batch\u001b[m\u001b[K’ may be used uninitialized in this function [\u001b[01;35m\u001b[K\u001b]8;;https://gcc.gnu.org/onlinedocs/gcc/Warning-Options.html#index-Wmaybe-uninitialized\u0007-Wmaybe-uninitialized\u001b]8;;\u0007\u001b[m\u001b[K]\r\n",
      "25499 |     (__pyx_v_i_batch \u001b[01;35m\u001b[K+\u001b[m\u001b[K 1),\r\n",
      "      |                      \u001b[01;35m\u001b[K^\u001b[m\u001b[K\r\n",
      "\u001b[01m\u001b[KDataIterator.c:\u001b[m\u001b[K In function ‘\u001b[01m\u001b[K__pyx_pf_12DataIterator_11BPRIterator_6__next__\u001b[m\u001b[K’:\r\n",
      "\u001b[01m\u001b[KDataIterator.c:23056:22:\u001b[m\u001b[K \u001b[01;35m\u001b[Kwarning: \u001b[m\u001b[K‘\u001b[01m\u001b[K__pyx_v_i_batch\u001b[m\u001b[K’ may be used uninitialized in this function [\u001b[01;35m\u001b[K\u001b]8;;https://gcc.gnu.org/onlinedocs/gcc/Warning-Options.html#index-Wmaybe-uninitialized\u0007-Wmaybe-uninitialized\u001b]8;;\u0007\u001b[m\u001b[K]\r\n",
      "23056 |     (__pyx_v_i_batch \u001b[01;35m\u001b[K+\u001b[m\u001b[K 1),\r\n",
      "      |                      \u001b[01;35m\u001b[K^\u001b[m\u001b[K\r\n",
      "/usr/local/lib/python3.10/dist-packages/Cython/Compiler/Main.py:381: FutureWarning: Cython directive 'language_level' not set, using '3str' for now (Py3). This has changed from earlier releases! File: /kaggle/working/RECsys_Challenge2024/Utils/PyTorch/Cython/DataIterator.pyx\r\n",
      "  tree = Parsing.p_module(s, pxd, full_module_name)\r\n",
      "Compiling [11/11]: DataIterator.pyx... PASS\r\n",
      "\r\n",
      "run_compile_all_cython: Compilation finished. FAILS 2/11.\r\n",
      "Compilation log can be found here: './result_experiments/run_compile_all_cython.txt'\r\n"
     ]
    }
   ],
   "source": [
    "%cd /kaggle/working/RECsys_Challenge2024 \n",
    "! python run_compile_all_cython.py"
   ]
  },
  {
   "cell_type": "code",
   "execution_count": 5,
   "id": "d5e0c67c",
   "metadata": {
    "execution": {
     "iopub.execute_input": "2025-01-05T18:58:49.264840Z",
     "iopub.status.busy": "2025-01-05T18:58:49.264428Z",
     "iopub.status.idle": "2025-01-05T18:58:50.716033Z",
     "shell.execute_reply": "2025-01-05T18:58:50.715061Z"
    },
    "papermill": {
     "duration": 1.470307,
     "end_time": "2025-01-05T18:58:50.718076",
     "exception": false,
     "start_time": "2025-01-05T18:58:49.247769",
     "status": "completed"
    },
    "tags": []
   },
   "outputs": [],
   "source": [
    "from Utils.notebookFunctions import *\n",
    "import numpy as np\n",
    "import pandas as pd\n",
    "import scipy.sparse as sps\n",
    "import time\n",
    "import shutil\n",
    "import optuna\n",
    "import json\n",
    "import os\n",
    "from Utils.seconds_to_biggest_unit import seconds_to_biggest_unit\n",
    "\n",
    "\n",
    "K_PATH = '/kaggle/working/RECsys_Challenge2024'\n",
    "GH_PATH = 'TrainedModels/WithKFCV/GraphBased'\n",
    "\n",
    "np.random.seed(42)"
   ]
  },
  {
   "cell_type": "markdown",
   "id": "54d94416",
   "metadata": {
    "papermill": {
     "duration": 0.016789,
     "end_time": "2025-01-05T18:58:50.750956",
     "exception": false,
     "start_time": "2025-01-05T18:58:50.734167",
     "status": "completed"
    },
    "tags": []
   },
   "source": [
    "## Import the repository"
   ]
  },
  {
   "cell_type": "code",
   "execution_count": 6,
   "id": "9e01f8c2",
   "metadata": {
    "execution": {
     "iopub.execute_input": "2025-01-05T18:58:50.785736Z",
     "iopub.status.busy": "2025-01-05T18:58:50.785073Z",
     "iopub.status.idle": "2025-01-05T18:58:51.132769Z",
     "shell.execute_reply": "2025-01-05T18:58:51.131239Z"
    },
    "papermill": {
     "duration": 0.367487,
     "end_time": "2025-01-05T18:58:51.135033",
     "exception": false,
     "start_time": "2025-01-05T18:58:50.767546",
     "status": "completed"
    },
    "tags": []
   },
   "outputs": [
    {
     "name": "stdout",
     "output_type": "stream",
     "text": [
      "Repository 'RECsys_Challenge2024' found.\n"
     ]
    }
   ],
   "source": [
    "repo = get_repo_from_github(token)"
   ]
  },
  {
   "cell_type": "code",
   "execution_count": 7,
   "id": "881d3de0",
   "metadata": {
    "execution": {
     "iopub.execute_input": "2025-01-05T18:58:51.169823Z",
     "iopub.status.busy": "2025-01-05T18:58:51.169369Z",
     "iopub.status.idle": "2025-01-05T18:58:51.175068Z",
     "shell.execute_reply": "2025-01-05T18:58:51.173619Z"
    },
    "papermill": {
     "duration": 0.0251,
     "end_time": "2025-01-05T18:58:51.176953",
     "exception": false,
     "start_time": "2025-01-05T18:58:51.151853",
     "status": "completed"
    },
    "tags": []
   },
   "outputs": [],
   "source": [
    "config = {\n",
    "    'model': 'RP3beta',\n",
    "    'metric': 'MAP',\n",
    "    'n_folds': 5,\n",
    "    'tune_parameters': True,\n",
    "    'database_path': '/kaggle/working/history_RP3beta_MAP.db',\n",
    "    'copy_prev_best_params': False,\n",
    "    'tune_best_params': True,\n",
    "    'save_github': True\n",
    "}"
   ]
  },
  {
   "cell_type": "markdown",
   "id": "c613f217",
   "metadata": {
    "papermill": {
     "duration": 0.016001,
     "end_time": "2025-01-05T18:58:51.209314",
     "exception": false,
     "start_time": "2025-01-05T18:58:51.193313",
     "status": "completed"
    },
    "tags": []
   },
   "source": [
    "Import the database where previous tuning trials have been saved."
   ]
  },
  {
   "cell_type": "code",
   "execution_count": 8,
   "id": "33d548a2",
   "metadata": {
    "execution": {
     "iopub.execute_input": "2025-01-05T18:58:51.245117Z",
     "iopub.status.busy": "2025-01-05T18:58:51.244658Z",
     "iopub.status.idle": "2025-01-05T18:58:51.251357Z",
     "shell.execute_reply": "2025-01-05T18:58:51.250153Z"
    },
    "papermill": {
     "duration": 0.027955,
     "end_time": "2025-01-05T18:58:51.253736",
     "exception": false,
     "start_time": "2025-01-05T18:58:51.225781",
     "status": "completed"
    },
    "tags": []
   },
   "outputs": [],
   "source": [
    "try:\n",
    "    shutil.copyfile(\n",
    "        f'{K_PATH}/{GH_PATH}/{config[\"model\"]}Recommender/Optimizing{config[\"metric\"]}/history_{config[\"model\"]}_{config[\"metric\"]}.db', \n",
    "        config['database_path']\n",
    "    )\n",
    "except FileNotFoundError:\n",
    "    pass # if not present optuna will create it"
   ]
  },
  {
   "cell_type": "markdown",
   "id": "438eb407",
   "metadata": {
    "papermill": {
     "duration": 0.015984,
     "end_time": "2025-01-05T18:58:51.286859",
     "exception": false,
     "start_time": "2025-01-05T18:58:51.270875",
     "status": "completed"
    },
    "tags": []
   },
   "source": [
    "# Construction of URM and ICM matrices"
   ]
  },
  {
   "cell_type": "code",
   "execution_count": 9,
   "id": "2f956732",
   "metadata": {
    "execution": {
     "iopub.execute_input": "2025-01-05T18:58:51.320892Z",
     "iopub.status.busy": "2025-01-05T18:58:51.320431Z",
     "iopub.status.idle": "2025-01-05T18:58:52.180514Z",
     "shell.execute_reply": "2025-01-05T18:58:52.179371Z"
    },
    "papermill": {
     "duration": 0.879833,
     "end_time": "2025-01-05T18:58:52.182571",
     "exception": false,
     "start_time": "2025-01-05T18:58:51.302738",
     "status": "completed"
    },
    "tags": []
   },
   "outputs": [
    {
     "data": {
      "text/plain": [
       "<35736x38121 sparse matrix of type '<class 'numpy.float64'>'\n",
       "\twith 1764607 stored elements in Compressed Sparse Row format>"
      ]
     },
     "execution_count": 9,
     "metadata": {},
     "output_type": "execute_result"
    }
   ],
   "source": [
    "URM_all_dataframe = pd.read_csv(\"/kaggle/input/recommender-system-2024-challenge-polimi/data_train.csv\")\n",
    "\n",
    "n_users = len(URM_all_dataframe[\"user_id\"].unique())\n",
    "n_items = len(URM_all_dataframe[\"item_id\"].unique())\n",
    "\n",
    "URM_all = sps.csr_matrix((URM_all_dataframe[\"data\"].values, \n",
    "                          (URM_all_dataframe[\"user_id\"].values, URM_all_dataframe[\"item_id\"].values)),\n",
    "                        shape = (n_users, n_items))\n",
    "\n",
    "URM_all"
   ]
  },
  {
   "cell_type": "code",
   "execution_count": 10,
   "id": "d8c67087",
   "metadata": {
    "execution": {
     "iopub.execute_input": "2025-01-05T18:58:52.215073Z",
     "iopub.status.busy": "2025-01-05T18:58:52.214727Z",
     "iopub.status.idle": "2025-01-05T18:58:53.492835Z",
     "shell.execute_reply": "2025-01-05T18:58:53.491387Z"
    },
    "papermill": {
     "duration": 1.296583,
     "end_time": "2025-01-05T18:58:53.494887",
     "exception": false,
     "start_time": "2025-01-05T18:58:52.198304",
     "status": "completed"
    },
    "tags": []
   },
   "outputs": [
    {
     "data": {
      "text/plain": [
       "<38121x94331 sparse matrix of type '<class 'numpy.float64'>'\n",
       "\twith 2940040 stored elements in Compressed Sparse Row format>"
      ]
     },
     "execution_count": 10,
     "metadata": {},
     "output_type": "execute_result"
    }
   ],
   "source": [
    "ICM_dataframe = pd.read_csv(\"/kaggle/input/recommender-system-2024-challenge-polimi/data_ICM_metadata.csv\")\n",
    "\n",
    "n_items = len(ICM_dataframe[\"item_id\"].unique())\n",
    "n_features = len(ICM_dataframe[\"feature_id\"].unique())\n",
    "\n",
    "ICM_all = sps.csr_matrix((ICM_dataframe[\"data\"].values, \n",
    "                          (ICM_dataframe[\"item_id\"].values, ICM_dataframe[\"feature_id\"].values)),\n",
    "                        shape = (n_items, n_features))\n",
    "\n",
    "ICM_all"
   ]
  },
  {
   "cell_type": "markdown",
   "id": "b516096a",
   "metadata": {
    "papermill": {
     "duration": 0.01549,
     "end_time": "2025-01-05T18:58:53.526333",
     "exception": false,
     "start_time": "2025-01-05T18:58:53.510843",
     "status": "completed"
    },
    "tags": []
   },
   "source": [
    "# Training"
   ]
  },
  {
   "cell_type": "code",
   "execution_count": 11,
   "id": "4d13486f",
   "metadata": {
    "execution": {
     "iopub.execute_input": "2025-01-05T18:58:53.559600Z",
     "iopub.status.busy": "2025-01-05T18:58:53.559168Z",
     "iopub.status.idle": "2025-01-05T18:59:11.822594Z",
     "shell.execute_reply": "2025-01-05T18:59:11.821384Z"
    },
    "papermill": {
     "duration": 18.282384,
     "end_time": "2025-01-05T18:59:11.824730",
     "exception": false,
     "start_time": "2025-01-05T18:58:53.542346",
     "status": "completed"
    },
    "tags": []
   },
   "outputs": [
    {
     "name": "stdout",
     "output_type": "stream",
     "text": [
      "Warning: 141 (0.39 %) of 35736 users have no sampled items\n"
     ]
    }
   ],
   "source": [
    "from Evaluation.Evaluator import EvaluatorHoldout\n",
    "from Data_manager.split_functions.split_train_validation_random_holdout import split_train_in_two_percentage_global_sample\n",
    "from Data_manager.split_functions.split_train_k_folds import split_train_k_folds\n",
    "\n",
    "URM_train, URM_validation = split_train_in_two_percentage_global_sample(URM_all, train_percentage = 0.80)\n",
    "\n",
    "folds = split_train_k_folds(URM_all, k=config['n_folds'])"
   ]
  },
  {
   "cell_type": "code",
   "execution_count": 12,
   "id": "5d95e0e9",
   "metadata": {
    "execution": {
     "iopub.execute_input": "2025-01-05T18:59:11.859267Z",
     "iopub.status.busy": "2025-01-05T18:59:11.858849Z",
     "iopub.status.idle": "2025-01-05T18:59:12.926347Z",
     "shell.execute_reply": "2025-01-05T18:59:12.925337Z"
    },
    "papermill": {
     "duration": 1.087296,
     "end_time": "2025-01-05T18:59:12.928205",
     "exception": false,
     "start_time": "2025-01-05T18:59:11.840909",
     "status": "completed"
    },
    "tags": []
   },
   "outputs": [],
   "source": [
    "from Recommenders.GraphBased.RP3betaRecommender import RP3betaRecommender\n",
    "\n",
    "def objective_function_RP3beta(optuna_trial):\n",
    "    \n",
    "    recommender_instance = RP3betaRecommender(URM_train)\n",
    "    \n",
    "    full_hyperp = {\n",
    "                    \"topK\": optuna_trial.suggest_int(\"topK\", 0, 1500),\n",
    "                   \"alpha\": optuna_trial.suggest_float(\"alpha\", 0, 3, log=False),\n",
    "                   \"beta\": optuna_trial.suggest_float(\"beta\", 0, 3, log=False),\n",
    "                   \"normalize_similarity\": optuna_trial.suggest_categorical(\"normalize_similarity\", [True, False]),\n",
    "                   \"implicit\": optuna_trial.suggest_categorical(\"implicit\", [True, False]),\n",
    "                  }            \n",
    "\n",
    "    validation_results = []\n",
    "    \n",
    "    for fold_idx, (URM_train_fold, URM_validation_fold) in enumerate(folds):\n",
    "    \n",
    "        recommender_instance = RP3betaRecommender(URM_train_fold)\n",
    "        recommender_instance.fit(**full_hyperp)\n",
    "        \n",
    "        evaluator = EvaluatorHoldout(URM_validation_fold, cutoff_list=[10])\n",
    "        result_df, _ = evaluator.evaluateRecommender(recommender_instance)\n",
    "        \n",
    "        validation_results.append(result_df.loc[10][\"MAP\"])\n",
    "    \n",
    "    return np.mean(validation_results)"
   ]
  },
  {
   "cell_type": "code",
   "execution_count": 13,
   "id": "dfa3e0af",
   "metadata": {
    "_kg_hide-output": true,
    "execution": {
     "iopub.execute_input": "2025-01-05T18:59:12.961149Z",
     "iopub.status.busy": "2025-01-05T18:59:12.960598Z",
     "iopub.status.idle": "2025-01-05T23:23:16.319896Z",
     "shell.execute_reply": "2025-01-05T23:23:16.318280Z"
    },
    "papermill": {
     "duration": 15843.389197,
     "end_time": "2025-01-05T23:23:16.333118",
     "exception": false,
     "start_time": "2025-01-05T18:59:12.943921",
     "status": "completed"
    },
    "tags": []
   },
   "outputs": [
    {
     "name": "stderr",
     "output_type": "stream",
     "text": [
      "[I 2025-01-05 18:59:14,120] Using an existing study with name 'hyperparameters_tuning_RP3beta_MAP' instead of creating a new one.\n"
     ]
    },
    {
     "name": "stdout",
     "output_type": "stream",
     "text": [
      "RP3betaRecommender: Similarity column 38121 (100.0%), 2070.82 column/sec. Elapsed time 18.41 sec\n",
      "EvaluatorHoldout: Ignoring 173 ( 0.5%) Users that have less than 1 test interactions\n",
      "EvaluatorHoldout: Processed 35563 (100.0%) in 33.52 sec. Users per second: 1061\n",
      "RP3betaRecommender: Similarity column 38121 (100.0%), 2051.04 column/sec. Elapsed time 18.59 sec\n",
      "EvaluatorHoldout: Ignoring 163 ( 0.5%) Users that have less than 1 test interactions\n",
      "EvaluatorHoldout: Processed 35573 (100.0%) in 33.25 sec. Users per second: 1070\n",
      "RP3betaRecommender: Similarity column 38121 (100.0%), 2098.12 column/sec. Elapsed time 18.17 sec\n",
      "EvaluatorHoldout: Ignoring 150 ( 0.4%) Users that have less than 1 test interactions\n",
      "EvaluatorHoldout: Processed 35586 (100.0%) in 34.18 sec. Users per second: 1041\n",
      "RP3betaRecommender: Similarity column 38121 (100.0%), 2052.93 column/sec. Elapsed time 18.57 sec\n",
      "EvaluatorHoldout: Ignoring 167 ( 0.5%) Users that have less than 1 test interactions\n",
      "EvaluatorHoldout: Processed 35569 (100.0%) in 33.64 sec. Users per second: 1057\n",
      "RP3betaRecommender: Similarity column 38121 (100.0%), 2050.42 column/sec. Elapsed time 18.59 sec\n",
      "EvaluatorHoldout: Ignoring 172 ( 0.5%) Users that have less than 1 test interactions\n",
      "EvaluatorHoldout: Processed 35564 (100.0%) in 33.56 sec. Users per second: 1060\n"
     ]
    },
    {
     "name": "stderr",
     "output_type": "stream",
     "text": [
      "[I 2025-01-05 19:03:43,202] Trial 250 finished with value: 0.05412555218955969 and parameters: {'topK': 26, 'alpha': 0.6161727240164101, 'beta': 0.17213405669001422, 'normalize_similarity': True, 'implicit': True}. Best is trial 229 with value: 0.0549701405549974.\n"
     ]
    },
    {
     "name": "stdout",
     "output_type": "stream",
     "text": [
      "RP3betaRecommender: Similarity column 38121 (100.0%), 2054.45 column/sec. Elapsed time 18.56 sec\n",
      "EvaluatorHoldout: Ignoring 173 ( 0.5%) Users that have less than 1 test interactions\n",
      "EvaluatorHoldout: Processed 35563 (100.0%) in 32.67 sec. Users per second: 1089\n",
      "RP3betaRecommender: Similarity column 38121 (100.0%), 2061.88 column/sec. Elapsed time 18.49 sec\n",
      "EvaluatorHoldout: Ignoring 163 ( 0.5%) Users that have less than 1 test interactions\n",
      "EvaluatorHoldout: Processed 35573 (100.0%) in 33.27 sec. Users per second: 1069\n",
      "RP3betaRecommender: Similarity column 38121 (100.0%), 2048.14 column/sec. Elapsed time 18.61 sec\n",
      "EvaluatorHoldout: Ignoring 150 ( 0.4%) Users that have less than 1 test interactions\n",
      "EvaluatorHoldout: Processed 35586 (100.0%) in 32.92 sec. Users per second: 1081\n",
      "RP3betaRecommender: Similarity column 38121 (100.0%), 2063.88 column/sec. Elapsed time 18.47 sec\n",
      "EvaluatorHoldout: Ignoring 167 ( 0.5%) Users that have less than 1 test interactions\n",
      "EvaluatorHoldout: Processed 35569 (100.0%) in 33.77 sec. Users per second: 1053\n",
      "RP3betaRecommender: Similarity column 38121 (100.0%), 2012.92 column/sec. Elapsed time 18.94 sec\n",
      "EvaluatorHoldout: Ignoring 172 ( 0.5%) Users that have less than 1 test interactions\n",
      "EvaluatorHoldout: Processed 35564 (100.0%) in 33.00 sec. Users per second: 1078\n"
     ]
    },
    {
     "name": "stderr",
     "output_type": "stream",
     "text": [
      "[I 2025-01-05 19:08:09,783] Trial 251 finished with value: 0.0543421536693508 and parameters: {'topK': 23, 'alpha': 0.6202963781136068, 'beta': 0.1694713149576092, 'normalize_similarity': True, 'implicit': True}. Best is trial 229 with value: 0.0549701405549974.\n"
     ]
    },
    {
     "name": "stdout",
     "output_type": "stream",
     "text": [
      "RP3betaRecommender: Similarity column 38121 (100.0%), 1716.96 column/sec. Elapsed time 22.20 sec\n",
      "EvaluatorHoldout: Ignoring 173 ( 0.5%) Users that have less than 1 test interactions\n",
      "EvaluatorHoldout: Processed 35563 (100.0%) in 38.82 sec. Users per second: 916\n",
      "RP3betaRecommender: Similarity column 38121 (100.0%), 1743.78 column/sec. Elapsed time 21.86 sec\n",
      "EvaluatorHoldout: Ignoring 163 ( 0.5%) Users that have less than 1 test interactions\n",
      "EvaluatorHoldout: Processed 35573 (100.0%) in 37.21 sec. Users per second: 956\n",
      "RP3betaRecommender: Similarity column 38121 (100.0%), 1715.31 column/sec. Elapsed time 22.22 sec\n",
      "EvaluatorHoldout: Ignoring 150 ( 0.4%) Users that have less than 1 test interactions\n",
      "EvaluatorHoldout: Processed 35586 (100.0%) in 36.81 sec. Users per second: 967\n",
      "RP3betaRecommender: Similarity column 38121 (100.0%), 1714.45 column/sec. Elapsed time 22.24 sec\n",
      "EvaluatorHoldout: Ignoring 167 ( 0.5%) Users that have less than 1 test interactions\n",
      "EvaluatorHoldout: Processed 35569 (100.0%) in 36.53 sec. Users per second: 974\n",
      "RP3betaRecommender: Similarity column 38121 (100.0%), 1702.44 column/sec. Elapsed time 22.39 sec\n",
      "EvaluatorHoldout: Ignoring 172 ( 0.5%) Users that have less than 1 test interactions\n",
      "EvaluatorHoldout: Processed 35564 (100.0%) in 36.48 sec. Users per second: 975\n"
     ]
    },
    {
     "name": "stderr",
     "output_type": "stream",
     "text": [
      "[I 2025-01-05 19:13:25,169] Trial 252 finished with value: 0.049844244712719546 and parameters: {'topK': 84, 'alpha': 0.6234394917575907, 'beta': 0.12472793451186212, 'normalize_similarity': True, 'implicit': True}. Best is trial 229 with value: 0.0549701405549974.\n"
     ]
    },
    {
     "name": "stdout",
     "output_type": "stream",
     "text": [
      "RP3betaRecommender: Similarity column 38121 (100.0%), 2766.38 column/sec. Elapsed time 13.78 sec\n",
      "EvaluatorHoldout: Ignoring 173 ( 0.5%) Users that have less than 1 test interactions\n",
      "EvaluatorHoldout: Processed 35563 (100.0%) in 25.47 sec. Users per second: 1396\n",
      "RP3betaRecommender: Similarity column 38121 (100.0%), 2728.80 column/sec. Elapsed time 13.97 sec\n",
      "EvaluatorHoldout: Ignoring 163 ( 0.5%) Users that have less than 1 test interactions\n",
      "EvaluatorHoldout: Processed 35573 (100.0%) in 25.95 sec. Users per second: 1371\n",
      "RP3betaRecommender: Similarity column 38121 (100.0%), 2859.16 column/sec. Elapsed time 13.33 sec\n",
      "EvaluatorHoldout: Ignoring 150 ( 0.4%) Users that have less than 1 test interactions\n",
      "EvaluatorHoldout: Processed 35586 (100.0%) in 26.29 sec. Users per second: 1354\n",
      "RP3betaRecommender: Similarity column 38121 (100.0%), 2679.60 column/sec. Elapsed time 14.23 sec\n",
      "EvaluatorHoldout: Ignoring 167 ( 0.5%) Users that have less than 1 test interactions\n",
      "EvaluatorHoldout: Processed 35569 (100.0%) in 25.98 sec. Users per second: 1369\n",
      "RP3betaRecommender: Similarity column 38121 (100.0%), 2785.38 column/sec. Elapsed time 13.69 sec\n",
      "EvaluatorHoldout: Ignoring 172 ( 0.5%) Users that have less than 1 test interactions\n",
      "EvaluatorHoldout: Processed 35564 (100.0%) in 26.75 sec. Users per second: 1329\n"
     ]
    },
    {
     "name": "stderr",
     "output_type": "stream",
     "text": [
      "[I 2025-01-05 19:16:45,699] Trial 253 finished with value: 0.0002664826418719655 and parameters: {'topK': 0, 'alpha': 0.6225192728157597, 'beta': 0.1744367641535158, 'normalize_similarity': True, 'implicit': True}. Best is trial 229 with value: 0.0549701405549974.\n"
     ]
    },
    {
     "name": "stdout",
     "output_type": "stream",
     "text": [
      "RP3betaRecommender: Similarity column 38121 (100.0%), 1991.89 column/sec. Elapsed time 19.14 sec\n",
      "EvaluatorHoldout: Ignoring 173 ( 0.5%) Users that have less than 1 test interactions\n",
      "EvaluatorHoldout: Processed 35563 (100.0%) in 33.12 sec. Users per second: 1074\n",
      "RP3betaRecommender: Similarity column 38121 (100.0%), 2040.86 column/sec. Elapsed time 18.68 sec\n",
      "EvaluatorHoldout: Ignoring 163 ( 0.5%) Users that have less than 1 test interactions\n",
      "EvaluatorHoldout: Processed 35573 (100.0%) in 33.18 sec. Users per second: 1072\n",
      "RP3betaRecommender: Similarity column 38121 (100.0%), 2056.93 column/sec. Elapsed time 18.53 sec\n",
      "EvaluatorHoldout: Ignoring 150 ( 0.4%) Users that have less than 1 test interactions\n",
      "EvaluatorHoldout: Processed 35586 (100.0%) in 32.73 sec. Users per second: 1087\n",
      "RP3betaRecommender: Similarity column 38121 (100.0%), 2051.66 column/sec. Elapsed time 18.58 sec\n",
      "EvaluatorHoldout: Ignoring 167 ( 0.5%) Users that have less than 1 test interactions\n",
      "EvaluatorHoldout: Processed 35569 (100.0%) in 33.01 sec. Users per second: 1078\n",
      "RP3betaRecommender: Similarity column 38121 (100.0%), 2011.89 column/sec. Elapsed time 18.95 sec\n",
      "EvaluatorHoldout: Ignoring 172 ( 0.5%) Users that have less than 1 test interactions\n",
      "EvaluatorHoldout: Processed 35564 (100.0%) in 33.38 sec. Users per second: 1065\n"
     ]
    },
    {
     "name": "stderr",
     "output_type": "stream",
     "text": [
      "[I 2025-01-05 19:21:13,295] Trial 254 finished with value: 0.053538748184996786 and parameters: {'topK': 28, 'alpha': 0.5682940879653183, 'beta': 0.07461035628825524, 'normalize_similarity': True, 'implicit': True}. Best is trial 229 with value: 0.0549701405549974.\n"
     ]
    },
    {
     "name": "stdout",
     "output_type": "stream",
     "text": [
      "RP3betaRecommender: Similarity column 38121 (100.0%), 1968.61 column/sec. Elapsed time 19.36 sec\n",
      "EvaluatorHoldout: Ignoring 173 ( 0.5%) Users that have less than 1 test interactions\n",
      "EvaluatorHoldout: Processed 35563 (100.0%) in 33.30 sec. Users per second: 1068\n",
      "RP3betaRecommender: Similarity column 38121 (100.0%), 2012.74 column/sec. Elapsed time 18.94 sec\n",
      "EvaluatorHoldout: Ignoring 163 ( 0.5%) Users that have less than 1 test interactions\n",
      "EvaluatorHoldout: Processed 35573 (100.0%) in 33.53 sec. Users per second: 1061\n",
      "RP3betaRecommender: Similarity column 38121 (100.0%), 1922.67 column/sec. Elapsed time 19.83 sec\n",
      "EvaluatorHoldout: Ignoring 150 ( 0.4%) Users that have less than 1 test interactions\n",
      "EvaluatorHoldout: Processed 35586 (100.0%) in 34.16 sec. Users per second: 1042\n",
      "RP3betaRecommender: Similarity column 38121 (100.0%), 1977.22 column/sec. Elapsed time 19.28 sec\n",
      "EvaluatorHoldout: Ignoring 167 ( 0.5%) Users that have less than 1 test interactions\n",
      "EvaluatorHoldout: Processed 35569 (100.0%) in 33.22 sec. Users per second: 1071\n",
      "RP3betaRecommender: Similarity column 38121 (100.0%), 1959.39 column/sec. Elapsed time 19.46 sec\n",
      "EvaluatorHoldout: Ignoring 172 ( 0.5%) Users that have less than 1 test interactions\n",
      "EvaluatorHoldout: Processed 35564 (100.0%) in 34.15 sec. Users per second: 1041\n"
     ]
    },
    {
     "name": "stderr",
     "output_type": "stream",
     "text": [
      "[I 2025-01-05 19:25:47,441] Trial 255 finished with value: 0.05248184229295355 and parameters: {'topK': 34, 'alpha': 0.5826728441131084, 'beta': 0.02744193248544366, 'normalize_similarity': True, 'implicit': True}. Best is trial 229 with value: 0.0549701405549974.\n"
     ]
    },
    {
     "name": "stdout",
     "output_type": "stream",
     "text": [
      "RP3betaRecommender: Similarity column 38121 (100.0%), 1705.90 column/sec. Elapsed time 22.35 sec\n",
      "EvaluatorHoldout: Ignoring 173 ( 0.5%) Users that have less than 1 test interactions\n",
      "EvaluatorHoldout: Processed 35563 (100.0%) in 37.15 sec. Users per second: 957\n",
      "RP3betaRecommender: Similarity column 38121 (100.0%), 1722.64 column/sec. Elapsed time 22.13 sec\n",
      "EvaluatorHoldout: Ignoring 163 ( 0.5%) Users that have less than 1 test interactions\n",
      "EvaluatorHoldout: Processed 35573 (100.0%) in 36.32 sec. Users per second: 979\n",
      "RP3betaRecommender: Similarity column 38121 (100.0%), 1728.06 column/sec. Elapsed time 22.06 sec\n",
      "EvaluatorHoldout: Ignoring 150 ( 0.4%) Users that have less than 1 test interactions\n",
      "EvaluatorHoldout: Processed 35586 (100.0%) in 36.18 sec. Users per second: 983\n",
      "RP3betaRecommender: Similarity column 38121 (100.0%), 1713.88 column/sec. Elapsed time 22.24 sec\n",
      "EvaluatorHoldout: Ignoring 167 ( 0.5%) Users that have less than 1 test interactions\n",
      "EvaluatorHoldout: Processed 35569 (100.0%) in 35.66 sec. Users per second: 997\n",
      "RP3betaRecommender: Similarity column 38121 (100.0%), 1704.84 column/sec. Elapsed time 22.36 sec\n",
      "EvaluatorHoldout: Ignoring 172 ( 0.5%) Users that have less than 1 test interactions\n",
      "EvaluatorHoldout: Processed 35564 (100.0%) in 36.51 sec. Users per second: 974\n"
     ]
    },
    {
     "name": "stderr",
     "output_type": "stream",
     "text": [
      "[I 2025-01-05 19:30:58,732] Trial 256 finished with value: 0.049418190080879845 and parameters: {'topK': 85, 'alpha': 0.6415021719808724, 'beta': 0.08946022851060922, 'normalize_similarity': True, 'implicit': True}. Best is trial 229 with value: 0.0549701405549974.\n"
     ]
    },
    {
     "name": "stdout",
     "output_type": "stream",
     "text": [
      "RP3betaRecommender: Similarity column 38121 (100.0%), 2000.10 column/sec. Elapsed time 19.06 sec\n",
      "EvaluatorHoldout: Ignoring 173 ( 0.5%) Users that have less than 1 test interactions\n",
      "EvaluatorHoldout: Processed 35563 (100.0%) in 33.51 sec. Users per second: 1061\n",
      "RP3betaRecommender: Similarity column 38121 (100.0%), 2047.42 column/sec. Elapsed time 18.62 sec\n",
      "EvaluatorHoldout: Ignoring 163 ( 0.5%) Users that have less than 1 test interactions\n",
      "EvaluatorHoldout: Processed 35573 (100.0%) in 34.17 sec. Users per second: 1041\n",
      "RP3betaRecommender: Similarity column 38121 (100.0%), 1999.80 column/sec. Elapsed time 19.06 sec\n",
      "EvaluatorHoldout: Ignoring 150 ( 0.4%) Users that have less than 1 test interactions\n",
      "EvaluatorHoldout: Processed 35586 (100.0%) in 33.09 sec. Users per second: 1076\n",
      "RP3betaRecommender: Similarity column 38121 (100.0%), 2017.43 column/sec. Elapsed time 18.90 sec\n",
      "EvaluatorHoldout: Ignoring 167 ( 0.5%) Users that have less than 1 test interactions\n",
      "EvaluatorHoldout: Processed 35569 (100.0%) in 33.95 sec. Users per second: 1048\n",
      "RP3betaRecommender: Similarity column 38121 (100.0%), 2040.23 column/sec. Elapsed time 18.68 sec\n",
      "EvaluatorHoldout: Ignoring 172 ( 0.5%) Users that have less than 1 test interactions\n",
      "EvaluatorHoldout: Processed 35564 (100.0%) in 34.19 sec. Users per second: 1040\n"
     ]
    },
    {
     "name": "stderr",
     "output_type": "stream",
     "text": [
      "[I 2025-01-05 19:35:30,693] Trial 257 finished with value: 0.054066956351331075 and parameters: {'topK': 28, 'alpha': 0.5583753800094828, 'beta': 0.16585472447863778, 'normalize_similarity': True, 'implicit': True}. Best is trial 229 with value: 0.0549701405549974.\n"
     ]
    },
    {
     "name": "stdout",
     "output_type": "stream",
     "text": [
      "RP3betaRecommender: Similarity column 38121 (100.0%), 2023.92 column/sec. Elapsed time 18.84 sec\n",
      "EvaluatorHoldout: Ignoring 173 ( 0.5%) Users that have less than 1 test interactions\n",
      "EvaluatorHoldout: Processed 35563 (100.0%) in 33.41 sec. Users per second: 1064\n",
      "RP3betaRecommender: Similarity column 38121 (100.0%), 1983.56 column/sec. Elapsed time 19.22 sec\n",
      "EvaluatorHoldout: Ignoring 163 ( 0.5%) Users that have less than 1 test interactions\n",
      "EvaluatorHoldout: Processed 35573 (100.0%) in 33.79 sec. Users per second: 1053\n",
      "RP3betaRecommender: Similarity column 38121 (100.0%), 2075.06 column/sec. Elapsed time 18.37 sec\n",
      "EvaluatorHoldout: Ignoring 150 ( 0.4%) Users that have less than 1 test interactions\n",
      "EvaluatorHoldout: Processed 35586 (100.0%) in 33.18 sec. Users per second: 1073\n",
      "RP3betaRecommender: Similarity column 38121 (100.0%), 2021.73 column/sec. Elapsed time 18.86 sec\n",
      "EvaluatorHoldout: Ignoring 167 ( 0.5%) Users that have less than 1 test interactions\n",
      "EvaluatorHoldout: Processed 35569 (100.0%) in 33.08 sec. Users per second: 1075\n",
      "RP3betaRecommender: Similarity column 38121 (100.0%), 1956.56 column/sec. Elapsed time 19.48 sec\n",
      "EvaluatorHoldout: Ignoring 172 ( 0.5%) Users that have less than 1 test interactions\n",
      "EvaluatorHoldout: Processed 35564 (100.0%) in 33.21 sec. Users per second: 1071\n"
     ]
    },
    {
     "name": "stderr",
     "output_type": "stream",
     "text": [
      "[I 2025-01-05 19:40:00,602] Trial 258 finished with value: 0.054047112581907655 and parameters: {'topK': 28, 'alpha': 0.5320255397654564, 'beta': 0.15558922316192245, 'normalize_similarity': True, 'implicit': True}. Best is trial 229 with value: 0.0549701405549974.\n"
     ]
    },
    {
     "name": "stdout",
     "output_type": "stream",
     "text": [
      "RP3betaRecommender: Similarity column 38121 (100.0%), 1771.03 column/sec. Elapsed time 21.52 sec\n",
      "EvaluatorHoldout: Ignoring 173 ( 0.5%) Users that have less than 1 test interactions\n",
      "EvaluatorHoldout: Processed 35563 (100.0%) in 35.76 sec. Users per second: 995\n",
      "RP3betaRecommender: Similarity column 38121 (100.0%), 1771.85 column/sec. Elapsed time 21.51 sec\n",
      "EvaluatorHoldout: Ignoring 163 ( 0.5%) Users that have less than 1 test interactions\n",
      "EvaluatorHoldout: Processed 35573 (100.0%) in 35.86 sec. Users per second: 992\n",
      "RP3betaRecommender: Similarity column 38121 (100.0%), 1749.34 column/sec. Elapsed time 21.79 sec\n",
      "EvaluatorHoldout: Ignoring 150 ( 0.4%) Users that have less than 1 test interactions\n",
      "EvaluatorHoldout: Processed 35586 (100.0%) in 35.82 sec. Users per second: 994\n",
      "RP3betaRecommender: Similarity column 38121 (100.0%), 1763.66 column/sec. Elapsed time 21.61 sec\n",
      "EvaluatorHoldout: Ignoring 167 ( 0.5%) Users that have less than 1 test interactions\n",
      "EvaluatorHoldout: Processed 35569 (100.0%) in 36.14 sec. Users per second: 984\n",
      "RP3betaRecommender: Similarity column 38121 (100.0%), 1734.06 column/sec. Elapsed time 21.98 sec\n",
      "EvaluatorHoldout: Ignoring 172 ( 0.5%) Users that have less than 1 test interactions\n",
      "EvaluatorHoldout: Processed 35564 (100.0%) in 35.80 sec. Users per second: 993\n"
     ]
    },
    {
     "name": "stderr",
     "output_type": "stream",
     "text": [
      "[I 2025-01-05 19:45:06,466] Trial 259 finished with value: 0.050596323567847754 and parameters: {'topK': 80, 'alpha': 0.5286908217090674, 'beta': 0.1615659004081757, 'normalize_similarity': True, 'implicit': True}. Best is trial 229 with value: 0.0549701405549974.\n"
     ]
    },
    {
     "name": "stdout",
     "output_type": "stream",
     "text": [
      "RP3betaRecommender: Similarity column 38121 (100.0%), 2698.86 column/sec. Elapsed time 14.12 sec\n",
      "EvaluatorHoldout: Ignoring 173 ( 0.5%) Users that have less than 1 test interactions\n",
      "EvaluatorHoldout: Processed 35563 (100.0%) in 26.39 sec. Users per second: 1348\n",
      "RP3betaRecommender: Similarity column 38121 (100.0%), 2642.91 column/sec. Elapsed time 14.42 sec\n",
      "EvaluatorHoldout: Ignoring 163 ( 0.5%) Users that have less than 1 test interactions\n",
      "EvaluatorHoldout: Processed 35573 (100.0%) in 26.72 sec. Users per second: 1331\n",
      "RP3betaRecommender: Similarity column 38121 (100.0%), 2696.78 column/sec. Elapsed time 14.14 sec\n",
      "EvaluatorHoldout: Ignoring 150 ( 0.4%) Users that have less than 1 test interactions\n",
      "EvaluatorHoldout: Processed 35586 (100.0%) in 26.12 sec. Users per second: 1363\n",
      "RP3betaRecommender: Similarity column 38121 (100.0%), 2698.46 column/sec. Elapsed time 14.13 sec\n",
      "EvaluatorHoldout: Ignoring 167 ( 0.5%) Users that have less than 1 test interactions\n",
      "EvaluatorHoldout: Processed 35569 (100.0%) in 26.69 sec. Users per second: 1333\n",
      "RP3betaRecommender: Similarity column 38121 (100.0%), 2708.28 column/sec. Elapsed time 14.08 sec\n",
      "EvaluatorHoldout: Ignoring 172 ( 0.5%) Users that have less than 1 test interactions\n",
      "EvaluatorHoldout: Processed 35564 (100.0%) in 25.51 sec. Users per second: 1394\n"
     ]
    },
    {
     "name": "stderr",
     "output_type": "stream",
     "text": [
      "[I 2025-01-05 19:48:29,948] Trial 260 finished with value: 0.0002664826418719655 and parameters: {'topK': 0, 'alpha': 0.5856108335554265, 'beta': 0.18454475770085343, 'normalize_similarity': True, 'implicit': True}. Best is trial 229 with value: 0.0549701405549974.\n"
     ]
    },
    {
     "name": "stdout",
     "output_type": "stream",
     "text": [
      "RP3betaRecommender: Similarity column 38121 (100.0%), 1993.37 column/sec. Elapsed time 19.12 sec\n",
      "EvaluatorHoldout: Ignoring 173 ( 0.5%) Users that have less than 1 test interactions\n",
      "EvaluatorHoldout: Processed 35563 (100.0%) in 32.97 sec. Users per second: 1079\n",
      "RP3betaRecommender: Similarity column 38121 (100.0%), 2025.52 column/sec. Elapsed time 18.82 sec\n",
      "EvaluatorHoldout: Ignoring 163 ( 0.5%) Users that have less than 1 test interactions\n",
      "EvaluatorHoldout: Processed 35573 (100.0%) in 34.75 sec. Users per second: 1024\n",
      "RP3betaRecommender: Similarity column 38121 (100.0%), 1951.19 column/sec. Elapsed time 19.54 sec\n",
      "EvaluatorHoldout: Ignoring 150 ( 0.4%) Users that have less than 1 test interactions\n",
      "EvaluatorHoldout: Processed 35586 (100.0%) in 34.07 sec. Users per second: 1045\n",
      "RP3betaRecommender: Similarity column 38121 (100.0%), 2034.01 column/sec. Elapsed time 18.74 sec\n",
      "EvaluatorHoldout: Ignoring 167 ( 0.5%) Users that have less than 1 test interactions\n",
      "EvaluatorHoldout: Processed 35569 (100.0%) in 33.18 sec. Users per second: 1072\n",
      "RP3betaRecommender: Similarity column 38121 (100.0%), 1970.04 column/sec. Elapsed time 19.35 sec\n",
      "EvaluatorHoldout: Ignoring 172 ( 0.5%) Users that have less than 1 test interactions\n",
      "EvaluatorHoldout: Processed 35564 (100.0%) in 33.77 sec. Users per second: 1053\n"
     ]
    },
    {
     "name": "stderr",
     "output_type": "stream",
     "text": [
      "[I 2025-01-05 19:53:03,572] Trial 261 finished with value: 0.05368207135026594 and parameters: {'topK': 32, 'alpha': 0.5084485394919211, 'beta': 0.1329893145232529, 'normalize_similarity': True, 'implicit': True}. Best is trial 229 with value: 0.0549701405549974.\n"
     ]
    },
    {
     "name": "stdout",
     "output_type": "stream",
     "text": [
      "RP3betaRecommender: Similarity column 38121 (100.0%), 489.08 column/sec. Elapsed time 1.30 min\n",
      "EvaluatorHoldout: Ignoring 173 ( 0.5%) Users that have less than 1 test interactions\n",
      "EvaluatorHoldout: Processed 35563 (100.0%) in 59.11 sec. Users per second: 602\n",
      "RP3betaRecommender: Similarity column 38121 (100.0%), 486.63 column/sec. Elapsed time 1.31 min\n",
      "EvaluatorHoldout: Ignoring 163 ( 0.5%) Users that have less than 1 test interactions\n",
      "EvaluatorHoldout: Processed 35573 (100.0%) in 56.86 sec. Users per second: 626\n",
      "RP3betaRecommender: Similarity column 38121 (100.0%), 484.63 column/sec. Elapsed time 1.31 min\n",
      "EvaluatorHoldout: Ignoring 150 ( 0.4%) Users that have less than 1 test interactions\n",
      "EvaluatorHoldout: Processed 35586 (100.0%) in 57.65 sec. Users per second: 617\n",
      "RP3betaRecommender: Similarity column 38121 (100.0%), 493.49 column/sec. Elapsed time 1.29 min\n",
      "EvaluatorHoldout: Ignoring 167 ( 0.5%) Users that have less than 1 test interactions\n",
      "EvaluatorHoldout: Processed 35569 (100.0%) in 57.09 sec. Users per second: 623\n",
      "RP3betaRecommender: Similarity column 38121 (100.0%), 499.17 column/sec. Elapsed time 1.27 min\n",
      "EvaluatorHoldout: Ignoring 172 ( 0.5%) Users that have less than 1 test interactions\n",
      "EvaluatorHoldout: Processed 35564 (100.0%) in 56.49 sec. Users per second: 630\n"
     ]
    },
    {
     "name": "stderr",
     "output_type": "stream",
     "text": [
      "[I 2025-01-05 20:08:09,918] Trial 262 finished with value: 0.04092898789480566 and parameters: {'topK': 1115, 'alpha': 0.6280229901299917, 'beta': 0.2038736286861665, 'normalize_similarity': True, 'implicit': True}. Best is trial 229 with value: 0.0549701405549974.\n"
     ]
    },
    {
     "name": "stdout",
     "output_type": "stream",
     "text": [
      "RP3betaRecommender: Similarity column 38121 (100.0%), 1804.99 column/sec. Elapsed time 21.12 sec\n",
      "EvaluatorHoldout: Ignoring 173 ( 0.5%) Users that have less than 1 test interactions\n",
      "EvaluatorHoldout: Processed 35563 (100.0%) in 36.72 sec. Users per second: 968\n",
      "RP3betaRecommender: Similarity column 38121 (100.0%), 1793.89 column/sec. Elapsed time 21.25 sec\n",
      "EvaluatorHoldout: Ignoring 163 ( 0.5%) Users that have less than 1 test interactions\n",
      "EvaluatorHoldout: Processed 35573 (100.0%) in 36.25 sec. Users per second: 981\n",
      "RP3betaRecommender: Similarity column 38121 (100.0%), 1783.27 column/sec. Elapsed time 21.38 sec\n",
      "EvaluatorHoldout: Ignoring 150 ( 0.4%) Users that have less than 1 test interactions\n",
      "EvaluatorHoldout: Processed 35586 (100.0%) in 37.05 sec. Users per second: 961\n",
      "RP3betaRecommender: Similarity column 38121 (100.0%), 1760.99 column/sec. Elapsed time 21.65 sec\n",
      "EvaluatorHoldout: Ignoring 167 ( 0.5%) Users that have less than 1 test interactions\n",
      "EvaluatorHoldout: Processed 35569 (100.0%) in 36.04 sec. Users per second: 987\n",
      "RP3betaRecommender: Similarity column 38121 (100.0%), 1776.16 column/sec. Elapsed time 21.46 sec\n",
      "EvaluatorHoldout: Ignoring 172 ( 0.5%) Users that have less than 1 test interactions\n",
      "EvaluatorHoldout: Processed 35564 (100.0%) in 36.16 sec. Users per second: 984\n"
     ]
    },
    {
     "name": "stderr",
     "output_type": "stream",
     "text": [
      "[I 2025-01-05 20:13:16,996] Trial 263 finished with value: 0.05120288603337164 and parameters: {'topK': 76, 'alpha': 0.5276320204497528, 'beta': 0.20989518579003755, 'normalize_similarity': True, 'implicit': True}. Best is trial 229 with value: 0.0549701405549974.\n"
     ]
    },
    {
     "name": "stdout",
     "output_type": "stream",
     "text": [
      "RP3betaRecommender: Similarity column 38121 (100.0%), 2021.35 column/sec. Elapsed time 18.86 sec\n",
      "EvaluatorHoldout: Ignoring 173 ( 0.5%) Users that have less than 1 test interactions\n",
      "EvaluatorHoldout: Processed 35563 (100.0%) in 33.37 sec. Users per second: 1066\n",
      "RP3betaRecommender: Similarity column 38121 (100.0%), 1972.59 column/sec. Elapsed time 19.33 sec\n",
      "EvaluatorHoldout: Ignoring 163 ( 0.5%) Users that have less than 1 test interactions\n",
      "EvaluatorHoldout: Processed 35573 (100.0%) in 35.31 sec. Users per second: 1007\n",
      "RP3betaRecommender: Similarity column 38121 (100.0%), 1963.43 column/sec. Elapsed time 19.42 sec\n",
      "EvaluatorHoldout: Ignoring 150 ( 0.4%) Users that have less than 1 test interactions\n",
      "EvaluatorHoldout: Processed 35586 (100.0%) in 33.81 sec. Users per second: 1052\n",
      "RP3betaRecommender: Similarity column 38121 (100.0%), 1987.30 column/sec. Elapsed time 19.18 sec\n",
      "EvaluatorHoldout: Ignoring 167 ( 0.5%) Users that have less than 1 test interactions\n",
      "EvaluatorHoldout: Processed 35569 (100.0%) in 33.66 sec. Users per second: 1057\n",
      "RP3betaRecommender: Similarity column 38121 (100.0%), 2001.46 column/sec. Elapsed time 19.05 sec\n",
      "EvaluatorHoldout: Ignoring 172 ( 0.5%) Users that have less than 1 test interactions\n",
      "EvaluatorHoldout: Processed 35564 (100.0%) in 33.35 sec. Users per second: 1066\n"
     ]
    },
    {
     "name": "stderr",
     "output_type": "stream",
     "text": [
      "[I 2025-01-05 20:17:51,372] Trial 264 finished with value: 0.05363302918819535 and parameters: {'topK': 31, 'alpha': 0.5929695841433997, 'beta': 0.14852578926501142, 'normalize_similarity': True, 'implicit': True}. Best is trial 229 with value: 0.0549701405549974.\n"
     ]
    },
    {
     "name": "stdout",
     "output_type": "stream",
     "text": [
      "RP3betaRecommender: Similarity column 38121 (100.0%), 1996.53 column/sec. Elapsed time 19.09 sec\n",
      "EvaluatorHoldout: Ignoring 173 ( 0.5%) Users that have less than 1 test interactions\n",
      "EvaluatorHoldout: Processed 35563 (100.0%) in 40.48 sec. Users per second: 879\n",
      "RP3betaRecommender: Similarity column 38121 (100.0%), 1972.54 column/sec. Elapsed time 19.33 sec\n",
      "EvaluatorHoldout: Ignoring 163 ( 0.5%) Users that have less than 1 test interactions\n",
      "EvaluatorHoldout: Processed 35573 (100.0%) in 34.69 sec. Users per second: 1026\n",
      "RP3betaRecommender: Similarity column 38121 (100.0%), 1909.68 column/sec. Elapsed time 19.96 sec\n",
      "EvaluatorHoldout: Ignoring 150 ( 0.4%) Users that have less than 1 test interactions\n",
      "EvaluatorHoldout: Processed 35586 (100.0%) in 34.89 sec. Users per second: 1020\n",
      "RP3betaRecommender: Similarity column 38121 (100.0%), 1993.51 column/sec. Elapsed time 19.12 sec\n",
      "EvaluatorHoldout: Ignoring 167 ( 0.5%) Users that have less than 1 test interactions\n",
      "EvaluatorHoldout: Processed 35569 (100.0%) in 34.88 sec. Users per second: 1020\n",
      "RP3betaRecommender: Similarity column 38121 (100.0%), 1989.39 column/sec. Elapsed time 19.16 sec\n",
      "EvaluatorHoldout: Ignoring 172 ( 0.5%) Users that have less than 1 test interactions\n",
      "EvaluatorHoldout: Processed 35564 (100.0%) in 34.84 sec. Users per second: 1021\n"
     ]
    },
    {
     "name": "stderr",
     "output_type": "stream",
     "text": [
      "[I 2025-01-05 20:22:37,568] Trial 265 finished with value: 0.053637614917703094 and parameters: {'topK': 32, 'alpha': 0.46857644024008505, 'beta': 0.11609009446256505, 'normalize_similarity': True, 'implicit': True}. Best is trial 229 with value: 0.0549701405549974.\n"
     ]
    },
    {
     "name": "stdout",
     "output_type": "stream",
     "text": [
      "RP3betaRecommender: Similarity column 38121 (100.0%), 2636.80 column/sec. Elapsed time 14.46 sec\n",
      "EvaluatorHoldout: Ignoring 173 ( 0.5%) Users that have less than 1 test interactions\n",
      "EvaluatorHoldout: Processed 35563 (100.0%) in 26.58 sec. Users per second: 1338\n",
      "RP3betaRecommender: Similarity column 38121 (100.0%), 2679.07 column/sec. Elapsed time 14.23 sec\n",
      "EvaluatorHoldout: Ignoring 163 ( 0.5%) Users that have less than 1 test interactions\n",
      "EvaluatorHoldout: Processed 35573 (100.0%) in 26.08 sec. Users per second: 1364\n",
      "RP3betaRecommender: Similarity column 38121 (100.0%), 2723.23 column/sec. Elapsed time 14.00 sec\n",
      "EvaluatorHoldout: Ignoring 150 ( 0.4%) Users that have less than 1 test interactions\n",
      "EvaluatorHoldout: Processed 35586 (100.0%) in 26.46 sec. Users per second: 1345\n",
      "RP3betaRecommender: Similarity column 38121 (100.0%), 2651.76 column/sec. Elapsed time 14.38 sec\n",
      "EvaluatorHoldout: Ignoring 167 ( 0.5%) Users that have less than 1 test interactions\n",
      "EvaluatorHoldout: Processed 35569 (100.0%) in 26.92 sec. Users per second: 1321\n",
      "RP3betaRecommender: Similarity column 38121 (100.0%), 2771.10 column/sec. Elapsed time 13.76 sec\n",
      "EvaluatorHoldout: Ignoring 172 ( 0.5%) Users that have less than 1 test interactions\n",
      "EvaluatorHoldout: Processed 35564 (100.0%) in 25.69 sec. Users per second: 1385\n"
     ]
    },
    {
     "name": "stderr",
     "output_type": "stream",
     "text": [
      "[I 2025-01-05 20:26:01,288] Trial 266 finished with value: 0.0002664826418719655 and parameters: {'topK': 0, 'alpha': 0.5392541876166178, 'beta': 0.042747506751237896, 'normalize_similarity': True, 'implicit': True}. Best is trial 229 with value: 0.0549701405549974.\n"
     ]
    },
    {
     "name": "stdout",
     "output_type": "stream",
     "text": [
      "RP3betaRecommender: Similarity column 38121 (100.0%), 1729.50 column/sec. Elapsed time 22.04 sec\n",
      "EvaluatorHoldout: Ignoring 173 ( 0.5%) Users that have less than 1 test interactions\n",
      "EvaluatorHoldout: Processed 35563 (100.0%) in 38.30 sec. Users per second: 928\n",
      "RP3betaRecommender: Similarity column 38121 (100.0%), 1714.23 column/sec. Elapsed time 22.24 sec\n",
      "EvaluatorHoldout: Ignoring 163 ( 0.5%) Users that have less than 1 test interactions\n",
      "EvaluatorHoldout: Processed 35573 (100.0%) in 38.52 sec. Users per second: 923\n",
      "RP3betaRecommender: Similarity column 38121 (100.0%), 1720.04 column/sec. Elapsed time 22.16 sec\n",
      "EvaluatorHoldout: Ignoring 150 ( 0.4%) Users that have less than 1 test interactions\n",
      "EvaluatorHoldout: Processed 35586 (100.0%) in 38.39 sec. Users per second: 927\n",
      "RP3betaRecommender: Similarity column 38121 (100.0%), 1749.98 column/sec. Elapsed time 21.78 sec\n",
      "EvaluatorHoldout: Ignoring 167 ( 0.5%) Users that have less than 1 test interactions\n",
      "EvaluatorHoldout: Processed 35569 (100.0%) in 37.86 sec. Users per second: 940\n",
      "RP3betaRecommender: Similarity column 38121 (100.0%), 1750.89 column/sec. Elapsed time 21.77 sec\n",
      "EvaluatorHoldout: Ignoring 172 ( 0.5%) Users that have less than 1 test interactions\n",
      "EvaluatorHoldout: Processed 35564 (100.0%) in 38.11 sec. Users per second: 933\n"
     ]
    },
    {
     "name": "stderr",
     "output_type": "stream",
     "text": [
      "[I 2025-01-05 20:31:21,632] Trial 267 finished with value: 0.03615806838791785 and parameters: {'topK': 77, 'alpha': 2.947372225693114, 'beta': 0.2092111173926901, 'normalize_similarity': True, 'implicit': True}. Best is trial 229 with value: 0.0549701405549974.\n"
     ]
    },
    {
     "name": "stdout",
     "output_type": "stream",
     "text": [
      "RP3betaRecommender: Similarity column 38121 (100.0%), 1877.13 column/sec. Elapsed time 20.31 sec\n",
      "EvaluatorHoldout: Ignoring 173 ( 0.5%) Users that have less than 1 test interactions\n",
      "EvaluatorHoldout: Processed 35563 (100.0%) in 35.44 sec. Users per second: 1004\n",
      "RP3betaRecommender: Similarity column 38121 (100.0%), 1910.02 column/sec. Elapsed time 19.96 sec\n",
      "EvaluatorHoldout: Ignoring 163 ( 0.5%) Users that have less than 1 test interactions\n",
      "EvaluatorHoldout: Processed 35573 (100.0%) in 35.52 sec. Users per second: 1001\n",
      "RP3betaRecommender: Similarity column 38121 (100.0%), 1939.78 column/sec. Elapsed time 19.65 sec\n",
      "EvaluatorHoldout: Ignoring 150 ( 0.4%) Users that have less than 1 test interactions\n",
      "EvaluatorHoldout: Processed 35586 (100.0%) in 34.97 sec. Users per second: 1017\n",
      "RP3betaRecommender: Similarity column 38121 (100.0%), 1922.93 column/sec. Elapsed time 19.82 sec\n",
      "EvaluatorHoldout: Ignoring 167 ( 0.5%) Users that have less than 1 test interactions\n",
      "EvaluatorHoldout: Processed 35569 (100.0%) in 34.95 sec. Users per second: 1018\n",
      "RP3betaRecommender: Similarity column 38121 (100.0%), 1953.07 column/sec. Elapsed time 19.52 sec\n",
      "EvaluatorHoldout: Ignoring 172 ( 0.5%) Users that have less than 1 test interactions\n",
      "EvaluatorHoldout: Processed 35564 (100.0%) in 34.64 sec. Users per second: 1027\n"
     ]
    },
    {
     "name": "stderr",
     "output_type": "stream",
     "text": [
      "[I 2025-01-05 20:36:08,608] Trial 268 finished with value: 0.05279182917855617 and parameters: {'topK': 44, 'alpha': 0.6311878233952105, 'beta': 0.22224541805282227, 'normalize_similarity': True, 'implicit': True}. Best is trial 229 with value: 0.0549701405549974.\n"
     ]
    },
    {
     "name": "stdout",
     "output_type": "stream",
     "text": [
      "RP3betaRecommender: Similarity column 38121 (100.0%), 1646.66 column/sec. Elapsed time 23.15 sec\n",
      "EvaluatorHoldout: Ignoring 173 ( 0.5%) Users that have less than 1 test interactions\n",
      "EvaluatorHoldout: Processed 35563 (100.0%) in 36.47 sec. Users per second: 975\n",
      "RP3betaRecommender: Similarity column 38121 (100.0%), 1639.83 column/sec. Elapsed time 23.25 sec\n",
      "EvaluatorHoldout: Ignoring 163 ( 0.5%) Users that have less than 1 test interactions\n",
      "EvaluatorHoldout: Processed 35573 (100.0%) in 36.73 sec. Users per second: 969\n",
      "RP3betaRecommender: Similarity column 38121 (100.0%), 1646.61 column/sec. Elapsed time 23.15 sec\n",
      "EvaluatorHoldout: Ignoring 150 ( 0.4%) Users that have less than 1 test interactions\n",
      "EvaluatorHoldout: Processed 35586 (100.0%) in 36.95 sec. Users per second: 963\n",
      "RP3betaRecommender: Similarity column 38121 (100.0%), 1621.45 column/sec. Elapsed time 23.51 sec\n",
      "EvaluatorHoldout: Ignoring 167 ( 0.5%) Users that have less than 1 test interactions\n",
      "EvaluatorHoldout: Processed 35569 (100.0%) in 32.30 sec. Users per second: 1101\n",
      "RP3betaRecommender: Similarity column 38121 (100.0%), 1648.10 column/sec. Elapsed time 23.13 sec\n",
      "EvaluatorHoldout: Ignoring 172 ( 0.5%) Users that have less than 1 test interactions\n",
      "EvaluatorHoldout: Processed 35564 (100.0%) in 38.12 sec. Users per second: 933\n"
     ]
    },
    {
     "name": "stderr",
     "output_type": "stream",
     "text": [
      "[I 2025-01-05 20:41:27,322] Trial 269 finished with value: 0.0483607244486305 and parameters: {'topK': 110, 'alpha': 0.49811942092934536, 'beta': 0.08996615840461242, 'normalize_similarity': True, 'implicit': True}. Best is trial 229 with value: 0.0549701405549974.\n"
     ]
    },
    {
     "name": "stdout",
     "output_type": "stream",
     "text": [
      "RP3betaRecommender: Similarity column 38121 (100.0%), 1978.79 column/sec. Elapsed time 19.26 sec\n",
      "EvaluatorHoldout: Ignoring 173 ( 0.5%) Users that have less than 1 test interactions\n",
      "EvaluatorHoldout: Processed 35563 (100.0%) in 33.27 sec. Users per second: 1069\n",
      "RP3betaRecommender: Similarity column 38121 (100.0%), 1977.64 column/sec. Elapsed time 19.28 sec\n",
      "EvaluatorHoldout: Ignoring 163 ( 0.5%) Users that have less than 1 test interactions\n",
      "EvaluatorHoldout: Processed 35573 (100.0%) in 34.18 sec. Users per second: 1041\n",
      "RP3betaRecommender: Similarity column 38121 (100.0%), 2008.74 column/sec. Elapsed time 18.98 sec\n",
      "EvaluatorHoldout: Ignoring 150 ( 0.4%) Users that have less than 1 test interactions\n",
      "EvaluatorHoldout: Processed 35586 (100.0%) in 33.55 sec. Users per second: 1061\n",
      "RP3betaRecommender: Similarity column 38121 (100.0%), 2031.95 column/sec. Elapsed time 18.76 sec\n",
      "EvaluatorHoldout: Ignoring 167 ( 0.5%) Users that have less than 1 test interactions\n",
      "EvaluatorHoldout: Processed 35569 (100.0%) in 33.42 sec. Users per second: 1064\n",
      "RP3betaRecommender: Similarity column 38121 (100.0%), 2030.34 column/sec. Elapsed time 18.78 sec\n",
      "EvaluatorHoldout: Ignoring 172 ( 0.5%) Users that have less than 1 test interactions\n",
      "EvaluatorHoldout: Processed 35564 (100.0%) in 33.67 sec. Users per second: 1056\n"
     ]
    },
    {
     "name": "stderr",
     "output_type": "stream",
     "text": [
      "[I 2025-01-05 20:45:58,986] Trial 270 finished with value: 0.05398885147877438 and parameters: {'topK': 28, 'alpha': 0.5705119653447356, 'beta': 0.15248785795479566, 'normalize_similarity': True, 'implicit': True}. Best is trial 229 with value: 0.0549701405549974.\n"
     ]
    },
    {
     "name": "stdout",
     "output_type": "stream",
     "text": [
      "RP3betaRecommender: Similarity column 38121 (100.0%), 1856.42 column/sec. Elapsed time 20.53 sec\n",
      "EvaluatorHoldout: Ignoring 173 ( 0.5%) Users that have less than 1 test interactions\n",
      "EvaluatorHoldout: Processed 35563 (100.0%) in 36.01 sec. Users per second: 988\n",
      "RP3betaRecommender: Similarity column 38121 (100.0%), 1869.22 column/sec. Elapsed time 20.39 sec\n",
      "EvaluatorHoldout: Ignoring 163 ( 0.5%) Users that have less than 1 test interactions\n",
      "EvaluatorHoldout: Processed 35573 (100.0%) in 35.44 sec. Users per second: 1004\n",
      "RP3betaRecommender: Similarity column 38121 (100.0%), 1840.29 column/sec. Elapsed time 20.71 sec\n",
      "EvaluatorHoldout: Ignoring 150 ( 0.4%) Users that have less than 1 test interactions\n",
      "EvaluatorHoldout: Processed 35586 (100.0%) in 35.35 sec. Users per second: 1007\n",
      "RP3betaRecommender: Similarity column 38121 (100.0%), 1816.46 column/sec. Elapsed time 20.99 sec\n",
      "EvaluatorHoldout: Ignoring 167 ( 0.5%) Users that have less than 1 test interactions\n",
      "EvaluatorHoldout: Processed 35569 (100.0%) in 36.08 sec. Users per second: 986\n",
      "RP3betaRecommender: Similarity column 38121 (100.0%), 1826.71 column/sec. Elapsed time 20.87 sec\n",
      "EvaluatorHoldout: Ignoring 172 ( 0.5%) Users that have less than 1 test interactions\n",
      "EvaluatorHoldout: Processed 35564 (100.0%) in 34.84 sec. Users per second: 1021\n"
     ]
    },
    {
     "name": "stderr",
     "output_type": "stream",
     "text": [
      "[I 2025-01-05 20:50:55,580] Trial 271 finished with value: 0.05116466376145386 and parameters: {'topK': 64, 'alpha': 0.6513257156309674, 'beta': 0.15488653995383453, 'normalize_similarity': True, 'implicit': True}. Best is trial 229 with value: 0.0549701405549974.\n"
     ]
    },
    {
     "name": "stdout",
     "output_type": "stream",
     "text": [
      "RP3betaRecommender: Similarity column 38121 (100.0%), 2773.78 column/sec. Elapsed time 13.74 sec\n",
      "EvaluatorHoldout: Ignoring 173 ( 0.5%) Users that have less than 1 test interactions\n",
      "EvaluatorHoldout: Processed 35563 (100.0%) in 26.31 sec. Users per second: 1352\n",
      "RP3betaRecommender: Similarity column 38121 (100.0%), 2794.31 column/sec. Elapsed time 13.64 sec\n",
      "EvaluatorHoldout: Ignoring 163 ( 0.5%) Users that have less than 1 test interactions\n",
      "EvaluatorHoldout: Processed 35573 (100.0%) in 25.59 sec. Users per second: 1390\n",
      "RP3betaRecommender: Similarity column 38121 (100.0%), 2842.08 column/sec. Elapsed time 13.41 sec\n",
      "EvaluatorHoldout: Ignoring 150 ( 0.4%) Users that have less than 1 test interactions\n",
      "EvaluatorHoldout: Processed 35586 (100.0%) in 26.07 sec. Users per second: 1365\n",
      "RP3betaRecommender: Similarity column 38121 (100.0%), 2866.97 column/sec. Elapsed time 13.30 sec\n",
      "EvaluatorHoldout: Ignoring 167 ( 0.5%) Users that have less than 1 test interactions\n",
      "EvaluatorHoldout: Processed 35569 (100.0%) in 25.89 sec. Users per second: 1374\n",
      "RP3betaRecommender: Similarity column 38121 (100.0%), 2857.91 column/sec. Elapsed time 13.34 sec\n",
      "EvaluatorHoldout: Ignoring 172 ( 0.5%) Users that have less than 1 test interactions\n",
      "EvaluatorHoldout: Processed 35564 (100.0%) in 25.72 sec. Users per second: 1383\n"
     ]
    },
    {
     "name": "stderr",
     "output_type": "stream",
     "text": [
      "[I 2025-01-05 20:54:13,655] Trial 272 finished with value: 0.0002664826418719655 and parameters: {'topK': 0, 'alpha': 0.46404485112230587, 'beta': 2.9935412155328835, 'normalize_similarity': True, 'implicit': True}. Best is trial 229 with value: 0.0549701405549974.\n"
     ]
    },
    {
     "name": "stdout",
     "output_type": "stream",
     "text": [
      "RP3betaRecommender: Similarity column 38121 (100.0%), 1949.93 column/sec. Elapsed time 19.55 sec\n",
      "EvaluatorHoldout: Ignoring 173 ( 0.5%) Users that have less than 1 test interactions\n",
      "EvaluatorHoldout: Processed 35563 (100.0%) in 33.90 sec. Users per second: 1049\n",
      "RP3betaRecommender: Similarity column 38121 (100.0%), 1929.09 column/sec. Elapsed time 19.76 sec\n",
      "EvaluatorHoldout: Ignoring 163 ( 0.5%) Users that have less than 1 test interactions\n",
      "EvaluatorHoldout: Processed 35573 (100.0%) in 33.65 sec. Users per second: 1057\n",
      "RP3betaRecommender: Similarity column 38121 (100.0%), 1951.30 column/sec. Elapsed time 19.54 sec\n",
      "EvaluatorHoldout: Ignoring 150 ( 0.4%) Users that have less than 1 test interactions\n",
      "EvaluatorHoldout: Processed 35586 (100.0%) in 34.28 sec. Users per second: 1038\n",
      "RP3betaRecommender: Similarity column 38121 (100.0%), 1960.96 column/sec. Elapsed time 19.44 sec\n",
      "EvaluatorHoldout: Ignoring 167 ( 0.5%) Users that have less than 1 test interactions\n",
      "EvaluatorHoldout: Processed 35569 (100.0%) in 33.38 sec. Users per second: 1066\n",
      "RP3betaRecommender: Similarity column 38121 (100.0%), 1924.32 column/sec. Elapsed time 19.81 sec\n",
      "EvaluatorHoldout: Ignoring 172 ( 0.5%) Users that have less than 1 test interactions\n",
      "EvaluatorHoldout: Processed 35564 (100.0%) in 33.58 sec. Users per second: 1059\n"
     ]
    },
    {
     "name": "stderr",
     "output_type": "stream",
     "text": [
      "[I 2025-01-05 20:58:50,604] Trial 273 finished with value: 0.051417795275824484 and parameters: {'topK': 44, 'alpha': 0.5832368417547618, 'beta': 0.011647640020011923, 'normalize_similarity': True, 'implicit': True}. Best is trial 229 with value: 0.0549701405549974.\n"
     ]
    },
    {
     "name": "stdout",
     "output_type": "stream",
     "text": [
      "RP3betaRecommender: Similarity column 38121 (100.0%), 1736.37 column/sec. Elapsed time 21.95 sec\n",
      "EvaluatorHoldout: Ignoring 173 ( 0.5%) Users that have less than 1 test interactions\n",
      "EvaluatorHoldout: Processed 35563 (100.0%) in 36.07 sec. Users per second: 986\n",
      "RP3betaRecommender: Similarity column 38121 (100.0%), 1711.67 column/sec. Elapsed time 22.27 sec\n",
      "EvaluatorHoldout: Ignoring 163 ( 0.5%) Users that have less than 1 test interactions\n",
      "EvaluatorHoldout: Processed 35573 (100.0%) in 36.00 sec. Users per second: 988\n",
      "RP3betaRecommender: Similarity column 38121 (100.0%), 1725.84 column/sec. Elapsed time 22.09 sec\n",
      "EvaluatorHoldout: Ignoring 150 ( 0.4%) Users that have less than 1 test interactions\n",
      "EvaluatorHoldout: Processed 35586 (100.0%) in 31.96 sec. Users per second: 1113\n",
      "RP3betaRecommender: Similarity column 38121 (100.0%), 1745.14 column/sec. Elapsed time 21.84 sec\n",
      "EvaluatorHoldout: Ignoring 167 ( 0.5%) Users that have less than 1 test interactions\n",
      "EvaluatorHoldout: Processed 35569 (100.0%) in 36.27 sec. Users per second: 981\n",
      "RP3betaRecommender: Similarity column 38121 (100.0%), 1752.40 column/sec. Elapsed time 21.75 sec\n",
      "EvaluatorHoldout: Ignoring 172 ( 0.5%) Users that have less than 1 test interactions\n",
      "EvaluatorHoldout: Processed 35564 (100.0%) in 31.50 sec. Users per second: 1129\n"
     ]
    },
    {
     "name": "stderr",
     "output_type": "stream",
     "text": [
      "[I 2025-01-05 21:03:48,780] Trial 274 finished with value: 0.018767897653119175 and parameters: {'topK': 89, 'alpha': 0.5081530392907805, 'beta': 1.4948031604128786, 'normalize_similarity': True, 'implicit': True}. Best is trial 229 with value: 0.0549701405549974.\n"
     ]
    },
    {
     "name": "stdout",
     "output_type": "stream",
     "text": [
      "RP3betaRecommender: Similarity column 38121 (100.0%), 2074.97 column/sec. Elapsed time 18.37 sec\n",
      "EvaluatorHoldout: Ignoring 173 ( 0.5%) Users that have less than 1 test interactions\n",
      "EvaluatorHoldout: Processed 35563 (100.0%) in 32.84 sec. Users per second: 1083\n",
      "RP3betaRecommender: Similarity column 38121 (100.0%), 2058.53 column/sec. Elapsed time 18.52 sec\n",
      "EvaluatorHoldout: Ignoring 163 ( 0.5%) Users that have less than 1 test interactions\n",
      "EvaluatorHoldout: Processed 35573 (100.0%) in 33.09 sec. Users per second: 1075\n",
      "RP3betaRecommender: Similarity column 38121 (100.0%), 2089.74 column/sec. Elapsed time 18.24 sec\n",
      "EvaluatorHoldout: Ignoring 150 ( 0.4%) Users that have less than 1 test interactions\n",
      "EvaluatorHoldout: Processed 35586 (100.0%) in 33.08 sec. Users per second: 1076\n",
      "RP3betaRecommender: Similarity column 38121 (100.0%), 1984.01 column/sec. Elapsed time 19.21 sec\n",
      "EvaluatorHoldout: Ignoring 167 ( 0.5%) Users that have less than 1 test interactions\n",
      "EvaluatorHoldout: Processed 35569 (100.0%) in 33.20 sec. Users per second: 1071\n",
      "RP3betaRecommender: Similarity column 38121 (100.0%), 1999.97 column/sec. Elapsed time 19.06 sec\n",
      "EvaluatorHoldout: Ignoring 172 ( 0.5%) Users that have less than 1 test interactions\n",
      "EvaluatorHoldout: Processed 35564 (100.0%) in 32.48 sec. Users per second: 1095\n"
     ]
    },
    {
     "name": "stderr",
     "output_type": "stream",
     "text": [
      "[I 2025-01-05 21:08:14,671] Trial 275 finished with value: 0.05384508518413256 and parameters: {'topK': 26, 'alpha': 0.5873017133700739, 'beta': 0.10097485265718459, 'normalize_similarity': True, 'implicit': True}. Best is trial 229 with value: 0.0549701405549974.\n"
     ]
    },
    {
     "name": "stdout",
     "output_type": "stream",
     "text": [
      "RP3betaRecommender: Similarity column 38121 (100.0%), 1799.38 column/sec. Elapsed time 21.19 sec\n",
      "EvaluatorHoldout: Ignoring 173 ( 0.5%) Users that have less than 1 test interactions\n",
      "EvaluatorHoldout: Processed 35563 (100.0%) in 36.91 sec. Users per second: 964\n",
      "RP3betaRecommender: Similarity column 38121 (100.0%), 1840.31 column/sec. Elapsed time 20.71 sec\n",
      "EvaluatorHoldout: Ignoring 163 ( 0.5%) Users that have less than 1 test interactions\n",
      "EvaluatorHoldout: Processed 35573 (100.0%) in 36.33 sec. Users per second: 979\n",
      "RP3betaRecommender: Similarity column 38121 (100.0%), 1793.25 column/sec. Elapsed time 21.26 sec\n",
      "EvaluatorHoldout: Ignoring 150 ( 0.4%) Users that have less than 1 test interactions\n",
      "EvaluatorHoldout: Processed 35586 (100.0%) in 36.28 sec. Users per second: 981\n",
      "RP3betaRecommender: Similarity column 38121 (100.0%), 1816.86 column/sec. Elapsed time 20.98 sec\n",
      "EvaluatorHoldout: Ignoring 167 ( 0.5%) Users that have less than 1 test interactions\n",
      "EvaluatorHoldout: Processed 35569 (100.0%) in 37.29 sec. Users per second: 954\n",
      "RP3betaRecommender: Similarity column 38121 (100.0%), 1807.87 column/sec. Elapsed time 21.09 sec\n",
      "EvaluatorHoldout: Ignoring 172 ( 0.5%) Users that have less than 1 test interactions\n",
      "EvaluatorHoldout: Processed 35564 (100.0%) in 52.12 sec. Users per second: 682\n"
     ]
    },
    {
     "name": "stderr",
     "output_type": "stream",
     "text": [
      "[I 2025-01-05 21:13:35,659] Trial 276 finished with value: 0.03812166338017797 and parameters: {'topK': 70, 'alpha': 2.8381975772757966, 'beta': 0.08859091687751917, 'normalize_similarity': True, 'implicit': True}. Best is trial 229 with value: 0.0549701405549974.\n"
     ]
    },
    {
     "name": "stdout",
     "output_type": "stream",
     "text": [
      "RP3betaRecommender: Similarity column 38121 (100.0%), 2052.69 column/sec. Elapsed time 18.57 sec\n",
      "EvaluatorHoldout: Ignoring 173 ( 0.5%) Users that have less than 1 test interactions\n",
      "EvaluatorHoldout: Processed 35563 (100.0%) in 36.11 sec. Users per second: 985\n",
      "RP3betaRecommender: Similarity column 38121 (100.0%), 2026.43 column/sec. Elapsed time 18.81 sec\n",
      "EvaluatorHoldout: Ignoring 163 ( 0.5%) Users that have less than 1 test interactions\n",
      "EvaluatorHoldout: Processed 35573 (100.0%) in 33.76 sec. Users per second: 1054\n",
      "RP3betaRecommender: Similarity column 38121 (100.0%), 2028.48 column/sec. Elapsed time 18.79 sec\n",
      "EvaluatorHoldout: Ignoring 150 ( 0.4%) Users that have less than 1 test interactions\n",
      "EvaluatorHoldout: Processed 35586 (100.0%) in 34.29 sec. Users per second: 1038\n",
      "RP3betaRecommender: Similarity column 38121 (100.0%), 2001.26 column/sec. Elapsed time 19.05 sec\n",
      "EvaluatorHoldout: Ignoring 167 ( 0.5%) Users that have less than 1 test interactions\n",
      "EvaluatorHoldout: Processed 35569 (100.0%) in 34.08 sec. Users per second: 1044\n",
      "RP3betaRecommender: Similarity column 38121 (100.0%), 2004.78 column/sec. Elapsed time 19.02 sec\n",
      "EvaluatorHoldout: Ignoring 172 ( 0.5%) Users that have less than 1 test interactions\n",
      "EvaluatorHoldout: Processed 35564 (100.0%) in 37.17 sec. Users per second: 957\n"
     ]
    },
    {
     "name": "stderr",
     "output_type": "stream",
     "text": [
      "[I 2025-01-05 21:18:14,054] Trial 277 finished with value: 0.05410971467903987 and parameters: {'topK': 26, 'alpha': 0.6435558976514056, 'beta': 0.22495282548636678, 'normalize_similarity': True, 'implicit': True}. Best is trial 229 with value: 0.0549701405549974.\n"
     ]
    },
    {
     "name": "stdout",
     "output_type": "stream",
     "text": [
      "RP3betaRecommender: Similarity column 38121 (100.0%), 2601.28 column/sec. Elapsed time 14.65 sec\n",
      "EvaluatorHoldout: Ignoring 173 ( 0.5%) Users that have less than 1 test interactions\n",
      "EvaluatorHoldout: Processed 35563 (100.0%) in 29.28 sec. Users per second: 1215\n",
      "RP3betaRecommender: Similarity column 38121 (100.0%), 2570.99 column/sec. Elapsed time 14.83 sec\n",
      "EvaluatorHoldout: Ignoring 163 ( 0.5%) Users that have less than 1 test interactions\n",
      "EvaluatorHoldout: Processed 35573 (100.0%) in 29.02 sec. Users per second: 1226\n",
      "RP3betaRecommender: Similarity column 38121 (100.0%), 2630.81 column/sec. Elapsed time 14.49 sec\n",
      "EvaluatorHoldout: Ignoring 150 ( 0.4%) Users that have less than 1 test interactions\n",
      "EvaluatorHoldout: Processed 35586 (100.0%) in 31.05 sec. Users per second: 1146\n",
      "RP3betaRecommender: Similarity column 38121 (100.0%), 2725.28 column/sec. Elapsed time 13.99 sec\n",
      "EvaluatorHoldout: Ignoring 167 ( 0.5%) Users that have less than 1 test interactions\n",
      "EvaluatorHoldout: Processed 35569 (100.0%) in 29.50 sec. Users per second: 1206\n",
      "RP3betaRecommender: Similarity column 38121 (100.0%), 2796.67 column/sec. Elapsed time 13.63 sec\n",
      "EvaluatorHoldout: Ignoring 172 ( 0.5%) Users that have less than 1 test interactions\n",
      "EvaluatorHoldout: Processed 35564 (100.0%) in 28.82 sec. Users per second: 1234\n"
     ]
    },
    {
     "name": "stderr",
     "output_type": "stream",
     "text": [
      "[I 2025-01-05 21:21:57,544] Trial 278 finished with value: 0.01858539727778784 and parameters: {'topK': 1, 'alpha': 0.6592805896505446, 'beta': 0.22717940459040042, 'normalize_similarity': True, 'implicit': True}. Best is trial 229 with value: 0.0549701405549974.\n"
     ]
    },
    {
     "name": "stdout",
     "output_type": "stream",
     "text": [
      "RP3betaRecommender: Similarity column 38121 (100.0%), 1824.11 column/sec. Elapsed time 20.90 sec\n",
      "EvaluatorHoldout: Ignoring 173 ( 0.5%) Users that have less than 1 test interactions\n",
      "EvaluatorHoldout: Processed 35563 (100.0%) in 35.12 sec. Users per second: 1013\n",
      "RP3betaRecommender: Similarity column 38121 (100.0%), 1764.75 column/sec. Elapsed time 21.60 sec\n",
      "EvaluatorHoldout: Ignoring 163 ( 0.5%) Users that have less than 1 test interactions\n",
      "EvaluatorHoldout: Processed 35573 (100.0%) in 53.71 sec. Users per second: 662\n",
      "RP3betaRecommender: Similarity column 38121 (100.0%), 1778.14 column/sec. Elapsed time 21.44 sec\n",
      "EvaluatorHoldout: Ignoring 150 ( 0.4%) Users that have less than 1 test interactions\n",
      "EvaluatorHoldout: Processed 35586 (100.0%) in 35.60 sec. Users per second: 1000\n",
      "RP3betaRecommender: Similarity column 38121 (100.0%), 1789.25 column/sec. Elapsed time 21.31 sec\n",
      "EvaluatorHoldout: Ignoring 167 ( 0.5%) Users that have less than 1 test interactions\n",
      "EvaluatorHoldout: Processed 35569 (100.0%) in 34.75 sec. Users per second: 1024\n",
      "RP3betaRecommender: Similarity column 38121 (100.0%), 1805.99 column/sec. Elapsed time 21.11 sec\n",
      "EvaluatorHoldout: Ignoring 172 ( 0.5%) Users that have less than 1 test interactions\n",
      "EvaluatorHoldout: Processed 35564 (100.0%) in 35.15 sec. Users per second: 1012\n"
     ]
    },
    {
     "name": "stderr",
     "output_type": "stream",
     "text": [
      "[I 2025-01-05 21:27:10,010] Trial 279 finished with value: 0.013388713136420382 and parameters: {'topK': 70, 'alpha': 0.45796130475930263, 'beta': 2.2115546723229143, 'normalize_similarity': True, 'implicit': True}. Best is trial 229 with value: 0.0549701405549974.\n"
     ]
    },
    {
     "name": "stdout",
     "output_type": "stream",
     "text": [
      "RP3betaRecommender: Similarity column 38121 (100.0%), 1881.06 column/sec. Elapsed time 20.27 sec\n",
      "EvaluatorHoldout: Ignoring 173 ( 0.5%) Users that have less than 1 test interactions\n",
      "EvaluatorHoldout: Processed 35563 (100.0%) in 35.73 sec. Users per second: 995\n",
      "RP3betaRecommender: Similarity column 38121 (100.0%), 1887.83 column/sec. Elapsed time 20.19 sec\n",
      "EvaluatorHoldout: Ignoring 163 ( 0.5%) Users that have less than 1 test interactions\n",
      "EvaluatorHoldout: Processed 35573 (100.0%) in 35.77 sec. Users per second: 994\n",
      "RP3betaRecommender: Similarity column 38121 (100.0%), 1878.66 column/sec. Elapsed time 20.29 sec\n",
      "EvaluatorHoldout: Ignoring 150 ( 0.4%) Users that have less than 1 test interactions\n",
      "EvaluatorHoldout: Processed 35586 (100.0%) in 36.29 sec. Users per second: 981\n",
      "RP3betaRecommender: Similarity column 38121 (100.0%), 1880.47 column/sec. Elapsed time 20.27 sec\n",
      "EvaluatorHoldout: Ignoring 167 ( 0.5%) Users that have less than 1 test interactions\n",
      "EvaluatorHoldout: Processed 35569 (100.0%) in 35.83 sec. Users per second: 993\n",
      "RP3betaRecommender: Similarity column 38121 (100.0%), 1908.31 column/sec. Elapsed time 19.98 sec\n",
      "EvaluatorHoldout: Ignoring 172 ( 0.5%) Users that have less than 1 test interactions\n",
      "EvaluatorHoldout: Processed 35564 (100.0%) in 36.76 sec. Users per second: 967\n"
     ]
    },
    {
     "name": "stderr",
     "output_type": "stream",
     "text": [
      "[I 2025-01-05 21:32:05,442] Trial 280 finished with value: 0.05244815070052429 and parameters: {'topK': 53, 'alpha': 0.524599737655804, 'beta': 0.21677695656820545, 'normalize_similarity': True, 'implicit': True}. Best is trial 229 with value: 0.0549701405549974.\n"
     ]
    },
    {
     "name": "stdout",
     "output_type": "stream",
     "text": [
      "RP3betaRecommender: Similarity column 38121 (100.0%), 1687.20 column/sec. Elapsed time 22.59 sec\n",
      "EvaluatorHoldout: Ignoring 173 ( 0.5%) Users that have less than 1 test interactions\n",
      "EvaluatorHoldout: Processed 35563 (100.0%) in 38.44 sec. Users per second: 925\n",
      "RP3betaRecommender: Similarity column 38121 (100.0%), 1627.33 column/sec. Elapsed time 23.43 sec\n",
      "EvaluatorHoldout: Ignoring 163 ( 0.5%) Users that have less than 1 test interactions\n",
      "EvaluatorHoldout: Processed 35573 (100.0%) in 49.00 sec. Users per second: 726\n",
      "RP3betaRecommender: Similarity column 38121 (100.0%), 1556.20 column/sec. Elapsed time 24.50 sec\n",
      "EvaluatorHoldout: Ignoring 150 ( 0.4%) Users that have less than 1 test interactions\n",
      "EvaluatorHoldout: Processed 35586 (100.0%) in 38.29 sec. Users per second: 929\n",
      "RP3betaRecommender: Similarity column 38121 (100.0%), 1672.74 column/sec. Elapsed time 22.79 sec\n",
      "EvaluatorHoldout: Ignoring 167 ( 0.5%) Users that have less than 1 test interactions\n",
      "EvaluatorHoldout: Processed 35569 (100.0%) in 38.15 sec. Users per second: 932\n",
      "RP3betaRecommender: Similarity column 38121 (100.0%), 1644.88 column/sec. Elapsed time 23.18 sec\n",
      "EvaluatorHoldout: Ignoring 172 ( 0.5%) Users that have less than 1 test interactions\n",
      "EvaluatorHoldout: Processed 35564 (100.0%) in 39.06 sec. Users per second: 911\n"
     ]
    },
    {
     "name": "stderr",
     "output_type": "stream",
     "text": [
      "[I 2025-01-05 21:37:48,329] Trial 281 finished with value: 0.049193244339524676 and parameters: {'topK': 104, 'alpha': 0.6418306007569957, 'beta': 0.15945892148844912, 'normalize_similarity': True, 'implicit': True}. Best is trial 229 with value: 0.0549701405549974.\n"
     ]
    },
    {
     "name": "stdout",
     "output_type": "stream",
     "text": [
      "RP3betaRecommender: Similarity column 38121 (100.0%), 2046.35 column/sec. Elapsed time 18.63 sec\n",
      "EvaluatorHoldout: Ignoring 173 ( 0.5%) Users that have less than 1 test interactions\n",
      "EvaluatorHoldout: Processed 35563 (100.0%) in 35.20 sec. Users per second: 1010\n",
      "RP3betaRecommender: Similarity column 38121 (100.0%), 1983.03 column/sec. Elapsed time 19.22 sec\n",
      "EvaluatorHoldout: Ignoring 163 ( 0.5%) Users that have less than 1 test interactions\n",
      "EvaluatorHoldout: Processed 35573 (100.0%) in 35.99 sec. Users per second: 989\n",
      "RP3betaRecommender: Similarity column 38121 (100.0%), 2034.33 column/sec. Elapsed time 18.74 sec\n",
      "EvaluatorHoldout: Ignoring 150 ( 0.4%) Users that have less than 1 test interactions\n",
      "EvaluatorHoldout: Processed 35586 (100.0%) in 35.28 sec. Users per second: 1009\n",
      "RP3betaRecommender: Similarity column 38121 (100.0%), 2048.44 column/sec. Elapsed time 18.61 sec\n",
      "EvaluatorHoldout: Ignoring 167 ( 0.5%) Users that have less than 1 test interactions\n",
      "EvaluatorHoldout: Processed 35569 (100.0%) in 34.71 sec. Users per second: 1025\n",
      "RP3betaRecommender: Similarity column 38121 (100.0%), 2011.27 column/sec. Elapsed time 18.95 sec\n",
      "EvaluatorHoldout: Ignoring 172 ( 0.5%) Users that have less than 1 test interactions\n",
      "EvaluatorHoldout: Processed 35564 (100.0%) in 34.94 sec. Users per second: 1018\n"
     ]
    },
    {
     "name": "stderr",
     "output_type": "stream",
     "text": [
      "[I 2025-01-05 21:42:27,940] Trial 282 finished with value: 0.04525658040387958 and parameters: {'topK': 26, 'alpha': 1.9689509567792687, 'beta': 0.2241872977593964, 'normalize_similarity': True, 'implicit': True}. Best is trial 229 with value: 0.0549701405549974.\n"
     ]
    },
    {
     "name": "stdout",
     "output_type": "stream",
     "text": [
      "RP3betaRecommender: Similarity column 38121 (100.0%), 970.36 column/sec. Elapsed time 39.29 sec\n",
      "EvaluatorHoldout: Ignoring 173 ( 0.5%) Users that have less than 1 test interactions\n",
      "EvaluatorHoldout: Processed 35563 (100.0%) in 45.59 sec. Users per second: 780\n",
      "RP3betaRecommender: Similarity column 38121 (100.0%), 941.66 column/sec. Elapsed time 40.48 sec\n",
      "EvaluatorHoldout: Ignoring 163 ( 0.5%) Users that have less than 1 test interactions\n",
      "EvaluatorHoldout: Processed 35573 (100.0%) in 46.33 sec. Users per second: 768\n",
      "RP3betaRecommender: Similarity column 38121 (100.0%), 978.70 column/sec. Elapsed time 38.95 sec\n",
      "EvaluatorHoldout: Ignoring 150 ( 0.4%) Users that have less than 1 test interactions\n",
      "EvaluatorHoldout: Processed 35586 (100.0%) in 45.88 sec. Users per second: 776\n",
      "RP3betaRecommender: Similarity column 38121 (100.0%), 959.71 column/sec. Elapsed time 39.72 sec\n",
      "EvaluatorHoldout: Ignoring 167 ( 0.5%) Users that have less than 1 test interactions\n",
      "EvaluatorHoldout: Processed 35569 (100.0%) in 45.14 sec. Users per second: 788\n",
      "RP3betaRecommender: Similarity column 38121 (100.0%), 996.87 column/sec. Elapsed time 38.24 sec\n",
      "EvaluatorHoldout: Ignoring 172 ( 0.5%) Users that have less than 1 test interactions\n",
      "EvaluatorHoldout: Processed 35564 (100.0%) in 45.34 sec. Users per second: 784\n"
     ]
    },
    {
     "name": "stderr",
     "output_type": "stream",
     "text": [
      "[I 2025-01-05 21:50:55,202] Trial 283 finished with value: 0.043434114239143104 and parameters: {'topK': 376, 'alpha': 0.44934714698030687, 'beta': 0.1739372774792342, 'normalize_similarity': True, 'implicit': True}. Best is trial 229 with value: 0.0549701405549974.\n"
     ]
    },
    {
     "name": "stdout",
     "output_type": "stream",
     "text": [
      "RP3betaRecommender: Similarity column 38121 (100.0%), 1918.34 column/sec. Elapsed time 19.87 sec\n",
      "EvaluatorHoldout: Ignoring 173 ( 0.5%) Users that have less than 1 test interactions\n",
      "EvaluatorHoldout: Processed 35563 (100.0%) in 35.12 sec. Users per second: 1013\n",
      "RP3betaRecommender: Similarity column 38121 (100.0%), 1893.75 column/sec. Elapsed time 20.13 sec\n",
      "EvaluatorHoldout: Ignoring 163 ( 0.5%) Users that have less than 1 test interactions\n",
      "EvaluatorHoldout: Processed 35573 (100.0%) in 36.08 sec. Users per second: 986\n",
      "RP3betaRecommender: Similarity column 38121 (100.0%), 1850.90 column/sec. Elapsed time 20.60 sec\n",
      "EvaluatorHoldout: Ignoring 150 ( 0.4%) Users that have less than 1 test interactions\n",
      "EvaluatorHoldout: Processed 35586 (100.0%) in 36.88 sec. Users per second: 965\n",
      "RP3betaRecommender: Similarity column 38121 (100.0%), 1930.78 column/sec. Elapsed time 19.74 sec\n",
      "EvaluatorHoldout: Ignoring 167 ( 0.5%) Users that have less than 1 test interactions\n",
      "EvaluatorHoldout: Processed 35569 (100.0%) in 35.14 sec. Users per second: 1012\n",
      "RP3betaRecommender: Similarity column 38121 (100.0%), 1930.12 column/sec. Elapsed time 19.75 sec\n",
      "EvaluatorHoldout: Ignoring 172 ( 0.5%) Users that have less than 1 test interactions\n",
      "EvaluatorHoldout: Processed 35564 (100.0%) in 35.62 sec. Users per second: 998\n"
     ]
    },
    {
     "name": "stderr",
     "output_type": "stream",
     "text": [
      "[I 2025-01-05 21:55:47,033] Trial 284 finished with value: 0.05286234198795873 and parameters: {'topK': 47, 'alpha': 0.5358095367044837, 'beta': 0.23945991615257028, 'normalize_similarity': True, 'implicit': True}. Best is trial 229 with value: 0.0549701405549974.\n"
     ]
    },
    {
     "name": "stdout",
     "output_type": "stream",
     "text": [
      "RP3betaRecommender: Similarity column 38121 (100.0%), 2763.44 column/sec. Elapsed time 13.79 sec\n",
      "EvaluatorHoldout: Ignoring 173 ( 0.5%) Users that have less than 1 test interactions\n",
      "EvaluatorHoldout: Processed 35563 (100.0%) in 25.60 sec. Users per second: 1389\n",
      "RP3betaRecommender: Similarity column 38121 (100.0%), 2704.70 column/sec. Elapsed time 14.09 sec\n",
      "EvaluatorHoldout: Ignoring 163 ( 0.5%) Users that have less than 1 test interactions\n",
      "EvaluatorHoldout: Processed 35573 (100.0%) in 25.71 sec. Users per second: 1384\n",
      "RP3betaRecommender: Similarity column 38121 (100.0%), 2791.50 column/sec. Elapsed time 13.66 sec\n",
      "EvaluatorHoldout: Ignoring 150 ( 0.4%) Users that have less than 1 test interactions\n",
      "EvaluatorHoldout: Processed 35586 (100.0%) in 26.10 sec. Users per second: 1363\n",
      "RP3betaRecommender: Similarity column 38121 (100.0%), 2775.99 column/sec. Elapsed time 13.73 sec\n",
      "EvaluatorHoldout: Ignoring 167 ( 0.5%) Users that have less than 1 test interactions\n",
      "EvaluatorHoldout: Processed 35569 (100.0%) in 25.96 sec. Users per second: 1370\n",
      "RP3betaRecommender: Similarity column 38121 (100.0%), 2725.68 column/sec. Elapsed time 13.99 sec\n",
      "EvaluatorHoldout: Ignoring 172 ( 0.5%) Users that have less than 1 test interactions\n",
      "EvaluatorHoldout: Processed 35564 (100.0%) in 26.29 sec. Users per second: 1353\n"
     ]
    },
    {
     "name": "stderr",
     "output_type": "stream",
     "text": [
      "[I 2025-01-05 21:59:07,076] Trial 285 finished with value: 0.0002664826418719655 and parameters: {'topK': 0, 'alpha': 0.6929920180818969, 'beta': 0.11506178055651976, 'normalize_similarity': True, 'implicit': True}. Best is trial 229 with value: 0.0549701405549974.\n"
     ]
    },
    {
     "name": "stdout",
     "output_type": "stream",
     "text": [
      "RP3betaRecommender: Similarity column 38121 (100.0%), 1981.93 column/sec. Elapsed time 19.23 sec\n",
      "EvaluatorHoldout: Ignoring 173 ( 0.5%) Users that have less than 1 test interactions\n",
      "EvaluatorHoldout: Processed 35563 (100.0%) in 34.35 sec. Users per second: 1035\n",
      "RP3betaRecommender: Similarity column 38121 (100.0%), 2032.68 column/sec. Elapsed time 18.75 sec\n",
      "EvaluatorHoldout: Ignoring 163 ( 0.5%) Users that have less than 1 test interactions\n",
      "EvaluatorHoldout: Processed 35573 (100.0%) in 37.11 sec. Users per second: 958\n",
      "RP3betaRecommender: Similarity column 38121 (100.0%), 1893.88 column/sec. Elapsed time 20.13 sec\n",
      "EvaluatorHoldout: Ignoring 150 ( 0.4%) Users that have less than 1 test interactions\n",
      "EvaluatorHoldout: Processed 35586 (100.0%) in 34.50 sec. Users per second: 1032\n",
      "RP3betaRecommender: Similarity column 38121 (100.0%), 1975.86 column/sec. Elapsed time 19.29 sec\n",
      "EvaluatorHoldout: Ignoring 167 ( 0.5%) Users that have less than 1 test interactions\n",
      "EvaluatorHoldout: Processed 35569 (100.0%) in 38.45 sec. Users per second: 925\n",
      "RP3betaRecommender: Similarity column 38121 (100.0%), 1876.96 column/sec. Elapsed time 20.31 sec\n",
      "EvaluatorHoldout: Ignoring 172 ( 0.5%) Users that have less than 1 test interactions\n",
      "EvaluatorHoldout: Processed 35564 (100.0%) in 34.87 sec. Users per second: 1020\n"
     ]
    },
    {
     "name": "stderr",
     "output_type": "stream",
     "text": [
      "[I 2025-01-05 22:03:52,405] Trial 286 finished with value: 0.05423729225137055 and parameters: {'topK': 26, 'alpha': 0.5630456661728112, 'beta': 0.16614294628014192, 'normalize_similarity': True, 'implicit': True}. Best is trial 229 with value: 0.0549701405549974.\n"
     ]
    },
    {
     "name": "stdout",
     "output_type": "stream",
     "text": [
      "RP3betaRecommender: Similarity column 38121 (100.0%), 1686.46 column/sec. Elapsed time 22.60 sec\n",
      "EvaluatorHoldout: Ignoring 173 ( 0.5%) Users that have less than 1 test interactions\n",
      "EvaluatorHoldout: Processed 35563 (100.0%) in 36.52 sec. Users per second: 974\n",
      "RP3betaRecommender: Similarity column 38121 (100.0%), 1736.43 column/sec. Elapsed time 21.95 sec\n",
      "EvaluatorHoldout: Ignoring 163 ( 0.5%) Users that have less than 1 test interactions\n",
      "EvaluatorHoldout: Processed 35573 (100.0%) in 36.26 sec. Users per second: 981\n",
      "RP3betaRecommender: Similarity column 38121 (100.0%), 1737.97 column/sec. Elapsed time 21.93 sec\n",
      "EvaluatorHoldout: Ignoring 150 ( 0.4%) Users that have less than 1 test interactions\n",
      "EvaluatorHoldout: Processed 35586 (100.0%) in 32.21 sec. Users per second: 1105\n",
      "RP3betaRecommender: Similarity column 38121 (100.0%), 1751.75 column/sec. Elapsed time 21.76 sec\n",
      "EvaluatorHoldout: Ignoring 167 ( 0.5%) Users that have less than 1 test interactions\n",
      "EvaluatorHoldout: Processed 35569 (100.0%) in 35.78 sec. Users per second: 994\n",
      "RP3betaRecommender: Similarity column 38121 (100.0%), 1721.68 column/sec. Elapsed time 22.14 sec\n",
      "EvaluatorHoldout: Ignoring 172 ( 0.5%) Users that have less than 1 test interactions\n",
      "EvaluatorHoldout: Processed 35564 (100.0%) in 31.93 sec. Users per second: 1114\n"
     ]
    },
    {
     "name": "stderr",
     "output_type": "stream",
     "text": [
      "[I 2025-01-05 22:08:52,434] Trial 287 finished with value: 0.04919674880363255 and parameters: {'topK': 81, 'alpha': 0.6172633960155035, 'beta': 0.04911196760969633, 'normalize_similarity': True, 'implicit': True}. Best is trial 229 with value: 0.0549701405549974.\n"
     ]
    },
    {
     "name": "stdout",
     "output_type": "stream",
     "text": [
      "RP3betaRecommender: Similarity column 38121 (100.0%), 1888.69 column/sec. Elapsed time 20.18 sec\n",
      "EvaluatorHoldout: Ignoring 173 ( 0.5%) Users that have less than 1 test interactions\n",
      "EvaluatorHoldout: Processed 35563 (100.0%) in 35.97 sec. Users per second: 989\n",
      "RP3betaRecommender: Similarity column 38121 (100.0%), 1869.00 column/sec. Elapsed time 20.40 sec\n",
      "EvaluatorHoldout: Ignoring 163 ( 0.5%) Users that have less than 1 test interactions\n",
      "EvaluatorHoldout: Processed 35573 (100.0%) in 35.25 sec. Users per second: 1009\n",
      "RP3betaRecommender: Similarity column 38121 (100.0%), 1917.40 column/sec. Elapsed time 19.88 sec\n",
      "EvaluatorHoldout: Ignoring 150 ( 0.4%) Users that have less than 1 test interactions\n",
      "EvaluatorHoldout: Processed 35586 (100.0%) in 34.79 sec. Users per second: 1023\n",
      "RP3betaRecommender: Similarity column 38121 (100.0%), 1918.28 column/sec. Elapsed time 19.87 sec\n",
      "EvaluatorHoldout: Ignoring 167 ( 0.5%) Users that have less than 1 test interactions\n",
      "EvaluatorHoldout: Processed 35569 (100.0%) in 35.14 sec. Users per second: 1012\n",
      "RP3betaRecommender: Similarity column 38121 (100.0%), 1922.96 column/sec. Elapsed time 19.82 sec\n",
      "EvaluatorHoldout: Ignoring 172 ( 0.5%) Users that have less than 1 test interactions\n",
      "EvaluatorHoldout: Processed 35564 (100.0%) in 34.69 sec. Users per second: 1025\n"
     ]
    },
    {
     "name": "stderr",
     "output_type": "stream",
     "text": [
      "[I 2025-01-05 22:13:40,845] Trial 288 finished with value: 0.052087629512171586 and parameters: {'topK': 52, 'alpha': 0.48644634209332704, 'beta': 0.12875223853132672, 'normalize_similarity': True, 'implicit': True}. Best is trial 229 with value: 0.0549701405549974.\n"
     ]
    },
    {
     "name": "stdout",
     "output_type": "stream",
     "text": [
      "RP3betaRecommender: Similarity column 38121 (100.0%), 2012.80 column/sec. Elapsed time 18.94 sec\n",
      "EvaluatorHoldout: Ignoring 173 ( 0.5%) Users that have less than 1 test interactions\n",
      "EvaluatorHoldout: Processed 35563 (100.0%) in 33.75 sec. Users per second: 1054\n",
      "RP3betaRecommender: Similarity column 38121 (100.0%), 2017.75 column/sec. Elapsed time 18.89 sec\n",
      "EvaluatorHoldout: Ignoring 163 ( 0.5%) Users that have less than 1 test interactions\n",
      "EvaluatorHoldout: Processed 35573 (100.0%) in 33.74 sec. Users per second: 1054\n",
      "RP3betaRecommender: Similarity column 38121 (100.0%), 2052.21 column/sec. Elapsed time 18.58 sec\n",
      "EvaluatorHoldout: Ignoring 150 ( 0.4%) Users that have less than 1 test interactions\n",
      "EvaluatorHoldout: Processed 35586 (100.0%) in 33.91 sec. Users per second: 1050\n",
      "RP3betaRecommender: Similarity column 38121 (100.0%), 2005.95 column/sec. Elapsed time 19.00 sec\n",
      "EvaluatorHoldout: Ignoring 167 ( 0.5%) Users that have less than 1 test interactions\n",
      "EvaluatorHoldout: Processed 35569 (100.0%) in 34.00 sec. Users per second: 1046\n",
      "RP3betaRecommender: Similarity column 38121 (100.0%), 2036.86 column/sec. Elapsed time 18.72 sec\n",
      "EvaluatorHoldout: Ignoring 172 ( 0.5%) Users that have less than 1 test interactions\n",
      "EvaluatorHoldout: Processed 35564 (100.0%) in 34.33 sec. Users per second: 1036\n"
     ]
    },
    {
     "name": "stderr",
     "output_type": "stream",
     "text": [
      "[I 2025-01-05 22:18:13,596] Trial 289 finished with value: 0.0543720500592089 and parameters: {'topK': 28, 'alpha': 0.41591436585981456, 'beta': 0.24639845640342012, 'normalize_similarity': True, 'implicit': True}. Best is trial 229 with value: 0.0549701405549974.\n"
     ]
    },
    {
     "name": "stdout",
     "output_type": "stream",
     "text": [
      "RP3betaRecommender: Similarity column 38121 (100.0%), 537.18 column/sec. Elapsed time 1.18 min\n",
      "EvaluatorHoldout: Ignoring 173 ( 0.5%) Users that have less than 1 test interactions\n",
      "EvaluatorHoldout: Processed 35563 (100.0%) in 55.97 sec. Users per second: 635\n",
      "RP3betaRecommender: Similarity column 38121 (100.0%), 530.26 column/sec. Elapsed time 1.20 min\n",
      "EvaluatorHoldout: Ignoring 163 ( 0.5%) Users that have less than 1 test interactions\n",
      "EvaluatorHoldout: Processed 35573 (100.0%) in 55.53 sec. Users per second: 641\n",
      "RP3betaRecommender: Similarity column 38121 (100.0%), 544.80 column/sec. Elapsed time 1.17 min\n",
      "EvaluatorHoldout: Ignoring 150 ( 0.4%) Users that have less than 1 test interactions\n",
      "EvaluatorHoldout: Processed 35586 (100.0%) in 56.88 sec. Users per second: 626\n",
      "RP3betaRecommender: Similarity column 38121 (100.0%), 532.61 column/sec. Elapsed time 1.19 min\n",
      "EvaluatorHoldout: Ignoring 167 ( 0.5%) Users that have less than 1 test interactions\n",
      "EvaluatorHoldout: Processed 35569 (100.0%) in 59.42 sec. Users per second: 599\n",
      "RP3betaRecommender: Similarity column 38121 (100.0%), 513.01 column/sec. Elapsed time 1.24 min\n",
      "EvaluatorHoldout: Ignoring 172 ( 0.5%) Users that have less than 1 test interactions\n",
      "EvaluatorHoldout: Processed 35564 (100.0%) in 1.03 min. Users per second: 576\n"
     ]
    },
    {
     "name": "stderr",
     "output_type": "stream",
     "text": [
      "[I 2025-01-05 22:32:42,893] Trial 290 finished with value: 0.04174896430626927 and parameters: {'topK': 1008, 'alpha': 0.42003145563127015, 'beta': 0.24819869766951924, 'normalize_similarity': True, 'implicit': True}. Best is trial 229 with value: 0.0549701405549974.\n"
     ]
    },
    {
     "name": "stdout",
     "output_type": "stream",
     "text": [
      "RP3betaRecommender: Similarity column 38121 (100.0%), 1527.93 column/sec. Elapsed time 24.95 sec\n",
      "EvaluatorHoldout: Ignoring 173 ( 0.5%) Users that have less than 1 test interactions\n",
      "EvaluatorHoldout: Processed 35563 (100.0%) in 42.94 sec. Users per second: 828\n",
      "RP3betaRecommender: Similarity column 38121 (100.0%), 1523.15 column/sec. Elapsed time 25.03 sec\n",
      "EvaluatorHoldout: Ignoring 163 ( 0.5%) Users that have less than 1 test interactions\n",
      "EvaluatorHoldout: Processed 35573 (100.0%) in 43.12 sec. Users per second: 825\n",
      "RP3betaRecommender: Similarity column 38121 (100.0%), 1526.37 column/sec. Elapsed time 24.97 sec\n",
      "EvaluatorHoldout: Ignoring 150 ( 0.4%) Users that have less than 1 test interactions\n",
      "EvaluatorHoldout: Processed 35586 (100.0%) in 43.43 sec. Users per second: 819\n",
      "RP3betaRecommender: Similarity column 38121 (100.0%), 1494.87 column/sec. Elapsed time 25.50 sec\n",
      "EvaluatorHoldout: Ignoring 167 ( 0.5%) Users that have less than 1 test interactions\n",
      "EvaluatorHoldout: Processed 35569 (100.0%) in 43.12 sec. Users per second: 825\n",
      "RP3betaRecommender: Similarity column 38121 (100.0%), 1522.96 column/sec. Elapsed time 25.03 sec\n",
      "EvaluatorHoldout: Ignoring 172 ( 0.5%) Users that have less than 1 test interactions\n",
      "EvaluatorHoldout: Processed 35564 (100.0%) in 42.99 sec. Users per second: 827\n"
     ]
    },
    {
     "name": "stderr",
     "output_type": "stream",
     "text": [
      "[I 2025-01-05 22:38:48,915] Trial 291 finished with value: 0.031085633144068824 and parameters: {'topK': 111, 'alpha': 0.3995162343869574, 'beta': 0.9234278171768884, 'normalize_similarity': True, 'implicit': True}. Best is trial 229 with value: 0.0549701405549974.\n"
     ]
    },
    {
     "name": "stdout",
     "output_type": "stream",
     "text": [
      "RP3betaRecommender: Similarity column 38121 (100.0%), 1717.27 column/sec. Elapsed time 22.20 sec\n",
      "EvaluatorHoldout: Ignoring 173 ( 0.5%) Users that have less than 1 test interactions\n",
      "EvaluatorHoldout: Processed 35563 (100.0%) in 40.05 sec. Users per second: 888\n",
      "RP3betaRecommender: Similarity column 38121 (100.0%), 1740.95 column/sec. Elapsed time 21.90 sec\n",
      "EvaluatorHoldout: Ignoring 163 ( 0.5%) Users that have less than 1 test interactions\n",
      "EvaluatorHoldout: Processed 35573 (100.0%) in 40.10 sec. Users per second: 887\n",
      "RP3betaRecommender: Similarity column 38121 (100.0%), 1743.52 column/sec. Elapsed time 21.86 sec\n",
      "EvaluatorHoldout: Ignoring 150 ( 0.4%) Users that have less than 1 test interactions\n",
      "EvaluatorHoldout: Processed 35586 (100.0%) in 40.32 sec. Users per second: 883\n",
      "RP3betaRecommender: Similarity column 38121 (100.0%), 1751.88 column/sec. Elapsed time 21.76 sec\n",
      "EvaluatorHoldout: Ignoring 167 ( 0.5%) Users that have less than 1 test interactions\n",
      "EvaluatorHoldout: Processed 35569 (100.0%) in 39.76 sec. Users per second: 895\n",
      "RP3betaRecommender: Similarity column 38121 (100.0%), 1765.55 column/sec. Elapsed time 21.59 sec\n",
      "EvaluatorHoldout: Ignoring 172 ( 0.5%) Users that have less than 1 test interactions\n",
      "EvaluatorHoldout: Processed 35564 (100.0%) in 39.92 sec. Users per second: 891\n"
     ]
    },
    {
     "name": "stderr",
     "output_type": "stream",
     "text": [
      "[I 2025-01-05 22:44:13,219] Trial 292 finished with value: 0.052460182433159974 and parameters: {'topK': 55, 'alpha': 0.4838108805511018, 'beta': 0.23935801638683124, 'normalize_similarity': True, 'implicit': True}. Best is trial 229 with value: 0.0549701405549974.\n"
     ]
    },
    {
     "name": "stdout",
     "output_type": "stream",
     "text": [
      "RP3betaRecommender: Similarity column 38121 (100.0%), 1883.45 column/sec. Elapsed time 20.24 sec\n",
      "EvaluatorHoldout: Ignoring 173 ( 0.5%) Users that have less than 1 test interactions\n",
      "EvaluatorHoldout: Processed 35563 (100.0%) in 37.54 sec. Users per second: 947\n",
      "RP3betaRecommender: Similarity column 38121 (100.0%), 1874.51 column/sec. Elapsed time 20.34 sec\n",
      "EvaluatorHoldout: Ignoring 163 ( 0.5%) Users that have less than 1 test interactions\n",
      "EvaluatorHoldout: Processed 35573 (100.0%) in 37.29 sec. Users per second: 954\n",
      "RP3betaRecommender: Similarity column 38121 (100.0%), 1892.33 column/sec. Elapsed time 20.14 sec\n",
      "EvaluatorHoldout: Ignoring 150 ( 0.4%) Users that have less than 1 test interactions\n",
      "EvaluatorHoldout: Processed 35586 (100.0%) in 37.72 sec. Users per second: 944\n",
      "RP3betaRecommender: Similarity column 38121 (100.0%), 1908.23 column/sec. Elapsed time 19.98 sec\n",
      "EvaluatorHoldout: Ignoring 167 ( 0.5%) Users that have less than 1 test interactions\n",
      "EvaluatorHoldout: Processed 35569 (100.0%) in 37.38 sec. Users per second: 952\n",
      "RP3betaRecommender: Similarity column 38121 (100.0%), 1899.32 column/sec. Elapsed time 20.07 sec\n",
      "EvaluatorHoldout: Ignoring 172 ( 0.5%) Users that have less than 1 test interactions\n",
      "EvaluatorHoldout: Processed 35564 (100.0%) in 37.51 sec. Users per second: 948\n"
     ]
    },
    {
     "name": "stderr",
     "output_type": "stream",
     "text": [
      "[I 2025-01-05 22:49:09,877] Trial 293 finished with value: 0.05440985757964252 and parameters: {'topK': 25, 'alpha': 0.5271803145068572, 'beta': 0.17640077008352137, 'normalize_similarity': True, 'implicit': True}. Best is trial 229 with value: 0.0549701405549974.\n"
     ]
    },
    {
     "name": "stdout",
     "output_type": "stream",
     "text": [
      "RP3betaRecommender: Similarity column 38121 (100.0%), 1658.95 column/sec. Elapsed time 22.98 sec\n",
      "EvaluatorHoldout: Ignoring 173 ( 0.5%) Users that have less than 1 test interactions\n",
      "EvaluatorHoldout: Processed 35563 (100.0%) in 40.91 sec. Users per second: 869\n",
      "RP3betaRecommender: Similarity column 38121 (100.0%), 1631.67 column/sec. Elapsed time 23.36 sec\n",
      "EvaluatorHoldout: Ignoring 163 ( 0.5%) Users that have less than 1 test interactions\n",
      "EvaluatorHoldout: Processed 35573 (100.0%) in 40.77 sec. Users per second: 873\n",
      "RP3betaRecommender: Similarity column 38121 (100.0%), 1643.25 column/sec. Elapsed time 23.20 sec\n",
      "EvaluatorHoldout: Ignoring 150 ( 0.4%) Users that have less than 1 test interactions\n",
      "EvaluatorHoldout: Processed 35586 (100.0%) in 40.78 sec. Users per second: 873\n",
      "RP3betaRecommender: Similarity column 38121 (100.0%), 1638.31 column/sec. Elapsed time 23.27 sec\n",
      "EvaluatorHoldout: Ignoring 167 ( 0.5%) Users that have less than 1 test interactions\n",
      "EvaluatorHoldout: Processed 35569 (100.0%) in 40.39 sec. Users per second: 881\n",
      "RP3betaRecommender: Similarity column 38121 (100.0%), 1646.65 column/sec. Elapsed time 23.15 sec\n",
      "EvaluatorHoldout: Ignoring 172 ( 0.5%) Users that have less than 1 test interactions\n",
      "EvaluatorHoldout: Processed 35564 (100.0%) in 40.93 sec. Users per second: 869\n"
     ]
    },
    {
     "name": "stderr",
     "output_type": "stream",
     "text": [
      "[I 2025-01-05 22:54:48,430] Trial 294 finished with value: 0.050894473179814236 and parameters: {'topK': 80, 'alpha': 0.4259572838294401, 'beta': 0.19432607032648555, 'normalize_similarity': True, 'implicit': True}. Best is trial 229 with value: 0.0549701405549974.\n"
     ]
    },
    {
     "name": "stdout",
     "output_type": "stream",
     "text": [
      "RP3betaRecommender: Similarity column 38121 (100.0%), 844.69 column/sec. Elapsed time 45.13 sec\n",
      "EvaluatorHoldout: Ignoring 173 ( 0.5%) Users that have less than 1 test interactions\n",
      "EvaluatorHoldout: Processed 35563 (100.0%) in 51.32 sec. Users per second: 693\n",
      "RP3betaRecommender: Similarity column 38121 (100.0%), 857.10 column/sec. Elapsed time 44.48 sec\n",
      "EvaluatorHoldout: Ignoring 163 ( 0.5%) Users that have less than 1 test interactions\n",
      "EvaluatorHoldout: Processed 35573 (100.0%) in 51.36 sec. Users per second: 693\n",
      "RP3betaRecommender: Similarity column 38121 (100.0%), 844.90 column/sec. Elapsed time 45.12 sec\n",
      "EvaluatorHoldout: Ignoring 150 ( 0.4%) Users that have less than 1 test interactions\n",
      "EvaluatorHoldout: Processed 35586 (100.0%) in 51.77 sec. Users per second: 687\n",
      "RP3betaRecommender: Similarity column 38121 (100.0%), 842.65 column/sec. Elapsed time 45.24 sec\n",
      "EvaluatorHoldout: Ignoring 167 ( 0.5%) Users that have less than 1 test interactions\n",
      "EvaluatorHoldout: Processed 35569 (100.0%) in 51.35 sec. Users per second: 693\n",
      "RP3betaRecommender: Similarity column 38121 (100.0%), 844.24 column/sec. Elapsed time 45.15 sec\n",
      "EvaluatorHoldout: Ignoring 172 ( 0.5%) Users that have less than 1 test interactions\n",
      "EvaluatorHoldout: Processed 35564 (100.0%) in 51.17 sec. Users per second: 695\n"
     ]
    },
    {
     "name": "stderr",
     "output_type": "stream",
     "text": [
      "[I 2025-01-05 23:04:35,458] Trial 295 finished with value: 0.04475813103510859 and parameters: {'topK': 446, 'alpha': 0.5264915988685467, 'beta': 0.26229152077066276, 'normalize_similarity': True, 'implicit': True}. Best is trial 229 with value: 0.0549701405549974.\n"
     ]
    },
    {
     "name": "stdout",
     "output_type": "stream",
     "text": [
      "RP3betaRecommender: Similarity column 38121 (100.0%), 1930.35 column/sec. Elapsed time 19.75 sec\n",
      "EvaluatorHoldout: Ignoring 173 ( 0.5%) Users that have less than 1 test interactions\n",
      "EvaluatorHoldout: Processed 35563 (100.0%) in 36.82 sec. Users per second: 966\n",
      "RP3betaRecommender: Similarity column 38121 (100.0%), 1894.08 column/sec. Elapsed time 20.13 sec\n",
      "EvaluatorHoldout: Ignoring 163 ( 0.5%) Users that have less than 1 test interactions\n",
      "EvaluatorHoldout: Processed 35573 (100.0%) in 37.19 sec. Users per second: 957\n",
      "RP3betaRecommender: Similarity column 38121 (100.0%), 1903.88 column/sec. Elapsed time 20.02 sec\n",
      "EvaluatorHoldout: Ignoring 150 ( 0.4%) Users that have less than 1 test interactions\n",
      "EvaluatorHoldout: Processed 35586 (100.0%) in 38.59 sec. Users per second: 922\n",
      "RP3betaRecommender: Similarity column 38121 (100.0%), 1461.93 column/sec. Elapsed time 26.08 sec\n",
      "EvaluatorHoldout: Ignoring 167 ( 0.5%) Users that have less than 1 test interactions\n",
      "EvaluatorHoldout: Processed 35569 (100.0%) in 53.67 sec. Users per second: 663\n",
      "RP3betaRecommender: Similarity column 38121 (100.0%), 1827.83 column/sec. Elapsed time 20.86 sec\n",
      "EvaluatorHoldout: Ignoring 172 ( 0.5%) Users that have less than 1 test interactions\n",
      "EvaluatorHoldout: Processed 35564 (100.0%) in 38.64 sec. Users per second: 920\n"
     ]
    },
    {
     "name": "stderr",
     "output_type": "stream",
     "text": [
      "[I 2025-01-05 23:09:55,647] Trial 296 finished with value: 0.05488205545188194 and parameters: {'topK': 20, 'alpha': 0.4740032507851273, 'beta': 0.17325974545835957, 'normalize_similarity': True, 'implicit': True}. Best is trial 229 with value: 0.0549701405549974.\n"
     ]
    },
    {
     "name": "stdout",
     "output_type": "stream",
     "text": [
      "RP3betaRecommender: Similarity column 38121 (100.0%), 1951.31 column/sec. Elapsed time 19.54 sec\n",
      "EvaluatorHoldout: Ignoring 173 ( 0.5%) Users that have less than 1 test interactions\n",
      "EvaluatorHoldout: Processed 35563 (100.0%) in 32.91 sec. Users per second: 1081\n",
      "RP3betaRecommender: Similarity column 38121 (100.0%), 1964.70 column/sec. Elapsed time 19.40 sec\n",
      "EvaluatorHoldout: Ignoring 163 ( 0.5%) Users that have less than 1 test interactions\n",
      "EvaluatorHoldout: Processed 35573 (100.0%) in 32.66 sec. Users per second: 1089\n",
      "RP3betaRecommender: Similarity column 38121 (100.0%), 2005.10 column/sec. Elapsed time 19.01 sec\n",
      "EvaluatorHoldout: Ignoring 150 ( 0.4%) Users that have less than 1 test interactions\n",
      "EvaluatorHoldout: Processed 35586 (100.0%) in 33.05 sec. Users per second: 1077\n",
      "RP3betaRecommender: Similarity column 38121 (100.0%), 1993.34 column/sec. Elapsed time 19.12 sec\n",
      "EvaluatorHoldout: Ignoring 167 ( 0.5%) Users that have less than 1 test interactions\n",
      "EvaluatorHoldout: Processed 35569 (100.0%) in 32.61 sec. Users per second: 1091\n",
      "RP3betaRecommender: Similarity column 38121 (100.0%), 1962.49 column/sec. Elapsed time 19.42 sec\n",
      "EvaluatorHoldout: Ignoring 172 ( 0.5%) Users that have less than 1 test interactions\n",
      "EvaluatorHoldout: Processed 35564 (100.0%) in 32.59 sec. Users per second: 1091\n"
     ]
    },
    {
     "name": "stderr",
     "output_type": "stream",
     "text": [
      "[I 2025-01-05 23:14:20,474] Trial 297 finished with value: 0.03731133744387903 and parameters: {'topK': 2, 'alpha': 0.39736020892577345, 'beta': 0.16927393627267356, 'normalize_similarity': True, 'implicit': True}. Best is trial 229 with value: 0.0549701405549974.\n"
     ]
    },
    {
     "name": "stdout",
     "output_type": "stream",
     "text": [
      "RP3betaRecommender: Similarity column 38121 (100.0%), 1791.09 column/sec. Elapsed time 21.28 sec\n",
      "EvaluatorHoldout: Ignoring 173 ( 0.5%) Users that have less than 1 test interactions\n",
      "EvaluatorHoldout: Processed 35563 (100.0%) in 38.57 sec. Users per second: 922\n",
      "RP3betaRecommender: Similarity column 38121 (100.0%), 1743.70 column/sec. Elapsed time 21.86 sec\n",
      "EvaluatorHoldout: Ignoring 163 ( 0.5%) Users that have less than 1 test interactions\n",
      "EvaluatorHoldout: Processed 35573 (100.0%) in 38.68 sec. Users per second: 920\n",
      "RP3betaRecommender: Similarity column 38121 (100.0%), 1783.13 column/sec. Elapsed time 21.38 sec\n",
      "EvaluatorHoldout: Ignoring 150 ( 0.4%) Users that have less than 1 test interactions\n",
      "EvaluatorHoldout: Processed 35586 (100.0%) in 38.61 sec. Users per second: 922\n",
      "RP3betaRecommender: Similarity column 38121 (100.0%), 1776.41 column/sec. Elapsed time 21.46 sec\n",
      "EvaluatorHoldout: Ignoring 167 ( 0.5%) Users that have less than 1 test interactions\n",
      "EvaluatorHoldout: Processed 35569 (100.0%) in 38.43 sec. Users per second: 925\n",
      "RP3betaRecommender: Similarity column 38121 (100.0%), 1777.03 column/sec. Elapsed time 21.45 sec\n",
      "EvaluatorHoldout: Ignoring 172 ( 0.5%) Users that have less than 1 test interactions\n",
      "EvaluatorHoldout: Processed 35564 (100.0%) in 38.82 sec. Users per second: 916\n"
     ]
    },
    {
     "name": "stderr",
     "output_type": "stream",
     "text": [
      "[I 2025-01-05 23:19:33,459] Trial 298 finished with value: 0.05154973558146274 and parameters: {'topK': 53, 'alpha': 0.46526631006859753, 'beta': 0.06576237916093805, 'normalize_similarity': True, 'implicit': True}. Best is trial 229 with value: 0.0549701405549974.\n"
     ]
    },
    {
     "name": "stdout",
     "output_type": "stream",
     "text": [
      "RP3betaRecommender: Similarity column 38121 (100.0%), 2546.77 column/sec. Elapsed time 14.97 sec\n",
      "EvaluatorHoldout: Ignoring 173 ( 0.5%) Users that have less than 1 test interactions\n",
      "EvaluatorHoldout: Processed 35563 (100.0%) in 29.60 sec. Users per second: 1201\n",
      "RP3betaRecommender: Similarity column 38121 (100.0%), 2552.77 column/sec. Elapsed time 14.93 sec\n",
      "EvaluatorHoldout: Ignoring 163 ( 0.5%) Users that have less than 1 test interactions\n",
      "EvaluatorHoldout: Processed 35573 (100.0%) in 29.50 sec. Users per second: 1206\n",
      "RP3betaRecommender: Similarity column 38121 (100.0%), 2562.53 column/sec. Elapsed time 14.88 sec\n",
      "EvaluatorHoldout: Ignoring 150 ( 0.4%) Users that have less than 1 test interactions\n",
      "EvaluatorHoldout: Processed 35586 (100.0%) in 29.28 sec. Users per second: 1215\n",
      "RP3betaRecommender: Similarity column 38121 (100.0%), 2574.93 column/sec. Elapsed time 14.80 sec\n",
      "EvaluatorHoldout: Ignoring 167 ( 0.5%) Users that have less than 1 test interactions\n",
      "EvaluatorHoldout: Processed 35569 (100.0%) in 29.26 sec. Users per second: 1216\n",
      "RP3betaRecommender: Similarity column 38121 (100.0%), 2557.10 column/sec. Elapsed time 14.91 sec\n",
      "EvaluatorHoldout: Ignoring 172 ( 0.5%) Users that have less than 1 test interactions\n",
      "EvaluatorHoldout: Processed 35564 (100.0%) in 29.45 sec. Users per second: 1208\n"
     ]
    },
    {
     "name": "stderr",
     "output_type": "stream",
     "text": [
      "[I 2025-01-05 23:23:16,313] Trial 299 finished with value: 0.0002664826418719655 and parameters: {'topK': 0, 'alpha': 0.5007927412514458, 'beta': 0.24854580394739084, 'normalize_similarity': True, 'implicit': True}. Best is trial 229 with value: 0.0549701405549974.\n"
     ]
    }
   ],
   "source": [
    "if config['tune_parameters']:\n",
    "    \n",
    "    optuna_study = optuna.create_study(direction='maximize', study_name=f'hyperparameters_tuning_{config[\"model\"]}_{config[\"metric\"]}',\n",
    "                                storage=f'sqlite:///{config[\"database_path\"]}', load_if_exists=True)\n",
    "\n",
    "    optuna_study.optimize(objective_function_RP3beta, n_trials=50)"
   ]
  },
  {
   "cell_type": "markdown",
   "id": "3d743426",
   "metadata": {
    "papermill": {
     "duration": 0.06592,
     "end_time": "2025-01-05T23:23:16.463128",
     "exception": false,
     "start_time": "2025-01-05T23:23:16.397208",
     "status": "completed"
    },
    "tags": []
   },
   "source": [
    "## Some optuna visualizations on recommender parameters"
   ]
  },
  {
   "cell_type": "code",
   "execution_count": 14,
   "id": "b06a2c4c",
   "metadata": {
    "execution": {
     "iopub.execute_input": "2025-01-05T23:23:16.597507Z",
     "iopub.status.busy": "2025-01-05T23:23:16.596926Z",
     "iopub.status.idle": "2025-01-05T23:23:18.149334Z",
     "shell.execute_reply": "2025-01-05T23:23:18.147903Z"
    },
    "papermill": {
     "duration": 1.622956,
     "end_time": "2025-01-05T23:23:18.151292",
     "exception": false,
     "start_time": "2025-01-05T23:23:16.528336",
     "status": "completed"
    },
    "tags": []
   },
   "outputs": [
    {
     "data": {
      "text/html": [
       "<html>\n",
       "<head><meta charset=\"utf-8\" /></head>\n",
       "<body>\n",
       "    <div>            <script src=\"https://cdnjs.cloudflare.com/ajax/libs/mathjax/2.7.5/MathJax.js?config=TeX-AMS-MML_SVG\"></script><script type=\"text/javascript\">if (window.MathJax && window.MathJax.Hub && window.MathJax.Hub.Config) {window.MathJax.Hub.Config({SVG: {font: \"STIX-Web\"}});}</script>                <script type=\"text/javascript\">window.PlotlyConfig = {MathJaxConfig: 'local'};</script>\n",
       "        <script charset=\"utf-8\" src=\"https://cdn.plot.ly/plotly-2.35.2.min.js\"></script>                <div id=\"87377107-eec4-4027-b512-427583a958d8\" class=\"plotly-graph-div\" style=\"height:525px; width:1500px;\"></div>            <script type=\"text/javascript\">                                    window.PLOTLYENV=window.PLOTLYENV || {};                                    if (document.getElementById(\"87377107-eec4-4027-b512-427583a958d8\")) {                    Plotly.newPlot(                        \"87377107-eec4-4027-b512-427583a958d8\",                        [{\"marker\":{\"color\":[0,1,2,3,4,5,6,7,8,9,10,11,12,13,14,15,16,17,18,19,20,21,22,23,24,25,26,27,28,29,30,31,32,33,34,35,36,37,38,39,40,41,42,43,44,45,46,47,48,49,50,51,52,53,54,55,56,57,58,59,60,61,62,63,64,65,66,67,68,69,70,71,72,73,74,75,76,77,78,79,80,81,82,83,84,85,86,87,88,89,90,91,92,93,94,95,96,97,98,99,100,101,102,103,104,105,106,107,108,109,110,111,112,113,114,115,116,117,118,119,120,121,122,123,124,125,126,127,128,129,130,131,132,133,134,135,136,137,138,139,140,141,142,143,144,145,146,147,148,149,150,151,152,153,154,155,156,157,158,159,160,161,162,163,164,165,166,167,168,169,170,171,172,173,174,175,176,177,178,179,180,181,182,183,184,185,186,187,188,189,190,191,192,193,194,195,196,197,198,199,200,201,202,203,204,205,206,207,208,209,210,211,212,213,214,215,216,217,218,219,220,221,222,223,224,225,226,227,228,229,230,231,232,233,234,235,236,237,238,239,240,241,242,243,244,245,246,247,248,249,250,251,252,253,254,255,256,257,258,259,260,261,262,263,264,265,266,267,268,269,270,271,272,273,274,275,276,277,278,279,280,281,282,283,284,285,286,287,288,289,290,291,292,293,294,295,296,297,298,299],\"colorbar\":{\"title\":{\"text\":\"Trial\"},\"x\":1.0,\"xpad\":40},\"colorscale\":[[0.0,\"rgb(247,251,255)\"],[0.125,\"rgb(222,235,247)\"],[0.25,\"rgb(198,219,239)\"],[0.375,\"rgb(158,202,225)\"],[0.5,\"rgb(107,174,214)\"],[0.625,\"rgb(66,146,198)\"],[0.75,\"rgb(33,113,181)\"],[0.875,\"rgb(8,81,156)\"],[1.0,\"rgb(8,48,107)\"]],\"line\":{\"color\":\"Grey\",\"width\":0.5},\"showscale\":true},\"mode\":\"markers\",\"name\":\"Feasible Trial\",\"showlegend\":false,\"x\":[2.6539524252310716,1.9925093883184783,2.9449557416260523,2.099808171409718,1.8406969835655418,0.24580184807344585,1.327062699395486,2.05898712578912,2.492175039731623,2.3020357541202863,1.065674747582564,1.0764350740487363,0.9364862471610758,0.8037906305352522,1.3359214821739167,0.49084844265031435,0.9780368378275541,1.592232953335472,0.5167316364480214,0.10838088374653387,1.133751163435286,0.11317645354478123,0.6450775847053759,0.598148783373131,0.27214917852229925,0.011496915069809169,0.27635951510270085,0.37496682545790294,0.751289123141518,0.760844757297373,0.7326670999151627,0.7302415367380609,0.6190833855735367,0.4014870023757094,0.3379275223269776,0.46237194854247476,0.1982760124127261,1.568555924691718,1.2662617398388176,2.8538956780567517,0.9064638710719504,0.6527977812408142,0.3868369101069583,0.6181467209992013,1.8186584803121941,0.015866126071959807,0.24660399742040068,0.8571282304669788,0.6244503352407023,1.1574277246639686,0.5291044833856134,0.7153586978069757,0.9974231653138245,0.4637045380041755,0.7198756807053021,1.422298797263105,0.17534612106410755,0.37106287534011634,0.8223712217982457,0.5608695011427207,0.6841276653441972,0.42173875085369267,0.9856171099689341,0.30481234061445195,0.8338500898814338,0.8295537917468964,0.8683107077231133,1.2688351381909961,1.0822170262325286,0.8583967141355163,0.9585351474846822,0.8015751061319295,1.1653760783293703,0.7858633701763146,0.9083727257413348,0.8991904777726899,1.064530780820247,0.8937084451217673,0.9195323313155312,1.228787323075013,1.2393729812122565,1.2069582252803772,1.4099645731324346,1.4387394012264563,1.4489946534478153,1.6821580309282427,1.3867053015814337,1.532921625257246,1.315113144387723,1.2359265648224387,1.7154211385690037,1.213773044783078,1.4743348566235137,1.3711396224381742,1.3530259879667361,1.234814037495421,1.6224840421084297,1.1850975915022128,1.2010179804368708,1.0320576301481128,1.0855831831439073,1.343822798705343,1.1411656139053739,1.292018612242478,1.0367153214759957,1.378227471491186,2.2003603884148224,1.5246556415460626,1.1847336952367653,1.4107319333533521,1.01222480426733,1.510846111627536,1.6285259124346787,1.8320895783783229,1.115541076844302,1.5710479821426682,1.4804070114795032,1.2949192600032957,1.219805363509433,1.4420078881778906,1.722185090633146,1.1221594139177293,1.1245495871239424,1.1495949340157643,1.1099843124620392,1.2657427888767618,1.0379167923764574,1.2348508233799724,1.286265986060528,1.1840558538749377,0.965016456143565,1.3496689496254555,1.085726625160672,1.0853074448801079,1.0592247367056318,1.040955829920755,2.5435540550844378,1.092402102421629,0.977633771270326,0.9623341123844271,1.0038534975125057,1.131782763151877,1.1327899859723805,0.9479324780197174,0.909355878159658,0.953550169033716,0.9223905407664437,0.872660124489173,0.761440633105708,0.8702497340698803,0.6823074008110379,0.6725459901347471,0.6860467206343056,0.6383029533984134,0.57910589149787,0.7083719689787188,0.5603619202531085,0.7283999022109922,0.6955646301074352,0.47155761709684274,0.4383215719712628,0.46699092331738495,0.5354664735832482,0.47486404810132893,0.464027494346815,0.42379031140698536,0.5821942764456018,0.49671498615664667,0.644411712312813,0.37192656101895305,0.3338260881717141,0.43642950374810086,0.5083112026766367,0.21885218789109623,0.36904941865311547,0.510691238742825,0.599918910913124,0.6790560309614054,0.6731780511568708,0.5545301914960046,0.7730851569863643,0.7900294291621445,0.7580740943066329,0.6925606909253614,0.793317698677917,0.6210855255720164,0.6200565834480365,0.8215783042291049,0.6064642924395545,0.3926059436829134,0.3036759244096558,0.7016572291852755,0.7591367389453603,0.7826232098195475,0.7859080570670215,0.510264403201911,0.5252302030438171,0.4663165738674606,0.5038870242323845,0.3804042608582197,0.3659450195566235,0.42917739971377455,0.284931653558129,0.42258135915784495,0.2706263090407052,0.18400198174233617,0.4157192500917663,0.41730098117911935,0.32771543419696286,0.0859812923447886,0.2660431062822961,0.3326940023942172,0.3237444813219214,0.4488650408116729,0.357246354586743,0.4755470904776614,0.3230519128033917,0.31908543891954744,0.22813597046952427,0.39821000306640464,0.14477785063460652,0.22134126411274668,0.2993907997968942,0.42459911785882154,0.5485787634177728,0.5523594789581755,0.5348614695860829,0.5509164085463776,0.5540099963584321,0.5504798322241172,0.5624195763902128,0.5387835960162581,0.5422082907473422,0.4997663497191607,0.5309081647750772,0.49459147899531586,0.5616467713529151,0.571030531900664,0.5558872999859127,0.4876437356895226,0.4952826243210278,0.48052257500296436,0.47807604142839955,0.5664980666881864,0.5757269814704932,0.5777113146233006,0.5826180067345667,0.5724097023743501,0.598427396397135,0.5841476261828616,0.6161727240164101,0.6202963781136068,0.6234394917575907,0.6225192728157597,0.5682940879653183,0.5826728441131084,0.6415021719808724,0.5583753800094828,0.5320255397654564,0.5286908217090674,0.5856108335554265,0.5084485394919211,0.6280229901299917,0.5276320204497528,0.5929695841433997,0.46857644024008505,0.5392541876166178,2.947372225693114,0.6311878233952105,0.49811942092934536,0.5705119653447356,0.6513257156309674,0.46404485112230587,0.5832368417547618,0.5081530392907805,0.5873017133700739,2.8381975772757966,0.6435558976514056,0.6592805896505446,0.45796130475930263,0.524599737655804,0.6418306007569957,1.9689509567792687,0.44934714698030687,0.5358095367044837,0.6929920180818969,0.5630456661728112,0.6172633960155035,0.48644634209332704,0.41591436585981456,0.42003145563127015,0.3995162343869574,0.4838108805511018,0.5271803145068572,0.4259572838294401,0.5264915988685467,0.4740032507851273,0.39736020892577345,0.46526631006859753,0.5007927412514458],\"y\":[0.013648343453049036,0.008384584519268986,0.004741483399092485,0.012784064084681922,0.026819035227025324,0.009410444154774735,0.02062199963574402,0.01682310303155234,0.005711660615447563,0.006703857417611235,0.04266537755480833,0.04257067091100205,0.03944496196817556,0.04008216794732056,0.012855842310700777,0.03896757179961609,0.03253999972558858,0.007460447290049374,0.03909674476085554,0.04036915729990097,0.02553971997205203,0.04366229516124508,0.049721961540470545,0.021058867746825312,0.04582461086738894,0.038815239534900715,0.018916341062246243,0.037401202509192044,0.04584552308072724,0.04505482789680527,0.03894936548019741,0.045209916841122674,0.04540775632301788,0.04545757050322327,0.04517725930369896,0.028301513022553175,0.040866544306860784,0.012169010164218192,0.04081573309743054,0.008040071025711467,0.011895844641772726,0.04543117459388309,0.044806940719727975,0.043138421100413694,0.025261718891092837,0.017113500602103822,0.03890231913916076,0.019784541040120236,0.04490918414474553,0.03922441395901547,0.03368732378597614,0.046050062124436145,0.04259659999027671,0.04402044376217355,0.04209625245849248,0.031141732411799638,0.029220747412093136,0.03853347797358172,0.04470920711266495,0.015140031885854516,0.04520030293882436,0.040330150760652994,0.043649562517788995,0.04334195223209881,0.04711909208606287,0.04588815080256583,0.04711696546721259,0.03868531455570373,0.04405396892349624,0.010226651669573147,0.040186848723246765,0.04576912612771526,0.03743044080677681,0.04813638912344948,0.04767804453865597,0.04787016660595077,0.0442269989692434,0.05160502896971771,0.044706490732268185,0.048810434499082116,0.050207529240706095,0.0500876608974669,0.048830779175895525,0.04938398938189813,0.0002664826418719655,0.04335672504840828,0.04713475786522338,0.044682142054042716,0.044540783077325924,0.04144877753232106,0.039211874420238886,0.04953492649127113,0.0002664826418719655,0.04838689583620827,0.04595258182181265,0.045718961326748256,0.04393301185061045,0.05009038041081472,0.01003838528523222,0.05166397175387265,0.04294062892536711,0.0002664826418719655,0.047693406513411404,0.0464403559932962,0.046505409298773795,0.04640022018597044,0.039604112244308036,0.048216477841797487,0.04162827461324521,0.04224127516192849,0.0468960571634295,0.021876554105444933,0.043829503343798856,0.0465711776073618,0.047713126902449665,0.04390056335826291,0.01604289616875863,0.04473949832920504,0.0416112371927709,0.04555280926318378,0.04463359623785629,0.049549990063309304,0.05127658646001674,0.04798015182270694,0.04628214007351365,0.048628887586552004,0.015429645566858736,0.01883425070481159,0.033329044263837405,0.04580812761342867,0.04783519907203161,0.04933165519408496,0.05142714857553258,0.05178247624607196,0.051950284177614804,0.045441949112205296,0.039496823821545554,0.04706210437636923,0.05250245698729975,0.03648634213317066,0.04767874166332025,0.05165795847222806,0.03465909740885862,0.04956062491649639,0.049582487653871646,0.04916005427399729,0.046628712030432715,0.05055754574280693,0.048445277085689555,0.03962024312437635,0.052310492825314726,0.053722151204414016,0.05211979333066661,0.036416744678689585,0.05406959471293592,0.05155781254992042,0.04806323004205436,0.017457979580316803,0.04709039829527204,0.054052932562779085,0.05275693643762428,0.051510439820175155,0.04968480764611222,0.053152822848982276,0.0002664826418719655,0.05043519073146373,0.042515204478707665,0.04043828245593929,0.049817711294313935,0.05188000046965213,0.045724571764805745,0.0512398085215944,0.05280344662585394,0.05005022713387406,0.01853376714322689,0.04590426180835168,0.05082808163244969,0.052454046443967575,0.049189334981901596,0.045444726522056146,0.051799059791093185,0.05171712247652656,0.05020594119922482,0.045591840591921784,0.05120762828417066,0.0516128587227111,0.04980816458339052,0.04312051544352265,0.051270860422436594,0.05098926311358872,0.04861208975177027,0.0002664826418719655,0.051633463763765305,0.05230422105309929,0.05020244846485474,0.05320402172213732,0.0002664826418719655,0.0531839874364747,0.05035256977958515,0.05233818727741195,0.051329600467651816,0.05428822463060982,0.05265390464058417,0.05229516995545428,0.05161448631039798,0.04932165895248399,0.05261767872645897,0.010935478205515726,0.05217322192784685,0.047810297104907785,0.04964158107739683,0.05209968837328636,0.04530254122462034,0.0002664826418719655,0.05223217167649983,0.05060823511584637,0.05262114427326301,0.0516983799374373,0.05204006095910527,0.050091573324523166,0.051471457305094934,0.05173023796537907,0.052023319725004735,0.05088535235085474,0.05284120347937071,0.053798529862966495,0.05465215247762488,0.05433076884479106,0.054759280329488624,0.0549701405549974,0.05215600861152127,0.0545181059043373,0.05460502255559648,0.05494524965373336,0.04420683469338494,0.01948693703402646,0.05386208800052622,0.053995445903854966,0.041705090073447956,0.054303993486850374,0.054498838469172084,0.0543713920547223,0.0002664826418719655,0.05434869070847054,0.053810943150142135,0.05447433453306981,0.054319470783548575,0.036904562559433474,0.05395554901516657,0.0002664826418719655,0.05412555218955969,0.0543421536693508,0.049844244712719546,0.0002664826418719655,0.053538748184996786,0.05248184229295355,0.049418190080879845,0.054066956351331075,0.054047112581907655,0.050596323567847754,0.0002664826418719655,0.05368207135026594,0.04092898789480566,0.05120288603337164,0.05363302918819535,0.053637614917703094,0.0002664826418719655,0.03615806838791785,0.05279182917855617,0.0483607244486305,0.05398885147877438,0.05116466376145386,0.0002664826418719655,0.051417795275824484,0.018767897653119175,0.05384508518413256,0.03812166338017797,0.05410971467903987,0.01858539727778784,0.013388713136420382,0.05244815070052429,0.049193244339524676,0.04525658040387958,0.043434114239143104,0.05286234198795873,0.0002664826418719655,0.05423729225137055,0.04919674880363255,0.052087629512171586,0.0543720500592089,0.04174896430626927,0.031085633144068824,0.052460182433159974,0.05440985757964252,0.050894473179814236,0.04475813103510859,0.05488205545188194,0.03731133744387903,0.05154973558146274,0.0002664826418719655],\"type\":\"scatter\",\"xaxis\":\"x\",\"yaxis\":\"y\"},{\"marker\":{\"color\":[0,1,2,3,4,5,6,7,8,9,10,11,12,13,14,15,16,17,18,19,20,21,22,23,24,25,26,27,28,29,30,31,32,33,34,35,36,37,38,39,40,41,42,43,44,45,46,47,48,49,50,51,52,53,54,55,56,57,58,59,60,61,62,63,64,65,66,67,68,69,70,71,72,73,74,75,76,77,78,79,80,81,82,83,84,85,86,87,88,89,90,91,92,93,94,95,96,97,98,99,100,101,102,103,104,105,106,107,108,109,110,111,112,113,114,115,116,117,118,119,120,121,122,123,124,125,126,127,128,129,130,131,132,133,134,135,136,137,138,139,140,141,142,143,144,145,146,147,148,149,150,151,152,153,154,155,156,157,158,159,160,161,162,163,164,165,166,167,168,169,170,171,172,173,174,175,176,177,178,179,180,181,182,183,184,185,186,187,188,189,190,191,192,193,194,195,196,197,198,199,200,201,202,203,204,205,206,207,208,209,210,211,212,213,214,215,216,217,218,219,220,221,222,223,224,225,226,227,228,229,230,231,232,233,234,235,236,237,238,239,240,241,242,243,244,245,246,247,248,249,250,251,252,253,254,255,256,257,258,259,260,261,262,263,264,265,266,267,268,269,270,271,272,273,274,275,276,277,278,279,280,281,282,283,284,285,286,287,288,289,290,291,292,293,294,295,296,297,298,299],\"colorbar\":{\"title\":{\"text\":\"Trial\"},\"x\":1.0,\"xpad\":40},\"colorscale\":[[0.0,\"rgb(247,251,255)\"],[0.125,\"rgb(222,235,247)\"],[0.25,\"rgb(198,219,239)\"],[0.375,\"rgb(158,202,225)\"],[0.5,\"rgb(107,174,214)\"],[0.625,\"rgb(66,146,198)\"],[0.75,\"rgb(33,113,181)\"],[0.875,\"rgb(8,81,156)\"],[1.0,\"rgb(8,48,107)\"]],\"line\":{\"color\":\"Grey\",\"width\":0.5},\"showscale\":false},\"mode\":\"markers\",\"name\":\"Feasible Trial\",\"showlegend\":false,\"x\":[0.3236693215792482,1.9112533102107916,2.544104283274634,0.9875963489786372,0.09102598200962542,2.421637727238273,1.1694617285940976,1.1267388444072473,2.4968776749856247,2.4500491848410717,0.056222934419918325,0.036958298680905166,0.5367051328078066,0.6137123340236923,1.771122892060712,0.06604049894015991,0.7354768149892228,2.9105075933919133,0.010103756259216577,0.4210315122971404,0.866046414946186,0.38229697035450116,0.2836793311976491,1.4427451988376128,0.3306154057472931,0.3523807758744694,1.3835639688275319,0.7925296448867103,0.29412633080207806,0.226678562216673,0.6591539548063472,0.23569379706048021,0.25057183967170193,0.49043971355938865,0.47997241926335354,0.98354499578159,0.5839349894380602,1.6311765500874909,0.21043627151928015,0.9616730793454235,2.1502096995533444,0.24198979792503578,0.44276694971805697,0.15665465500253167,0.3701233724553787,1.1509638704786442,0.6643959118511095,1.2997182752995837,0.5253034876710628,0.12466336906092387,0.8511778719038872,0.3073426850196836,0.3524816300564596,0.2781001700010517,0.12485155102990353,0.526858848344672,0.005162930876590782,0.715196018950313,0.29241977352052884,1.950577728623431,0.44501503076635845,0.13506613201849604,0.27893481820150623,0.5598122300197796,0.18962699346552186,0.005800857829966755,0.07666639454982094,0.003558819492124175,0.09553561039624747,2.784789613505423,0.1550362309091654,0.36859233743106,0.336638768647292,0.19195066286536971,0.06486836040952032,0.07385212093541704,0.058094805491147955,0.19379272867272057,0.17983229822753044,0.2035154514507427,0.196447138897436,0.19010431579224585,0.21854999881840165,0.21545449769090053,0.43264750565957505,0.22434081165756586,0.41566969637601603,0.21198982311156017,0.1416541582507851,0.6336208651422952,0.47324406617726794,0.07646890562157797,0.07640870048448994,0.2669155340642294,0.33023035717565014,0.23791064680455565,0.3929336824060611,0.28610394140829787,2.3441141188915737,0.28454967717217683,0.5849199880006811,0.26556267412959994,0.29109784955146806,0.4841458187549108,0.1551162718115018,0.4083593381839446,0.3375785894387549,0.13178934448321056,0.22945391875631682,0.5384953644422741,0.30367755448106987,1.0728664546826323,0.11692025956922317,0.17194722242450838,0.0022751764156944965,0.11221643790355426,0.25768187546280563,0.39301863227785927,0.18373672813447228,0.049521970188964926,0.34449229589984043,0.21513491383135555,0.25823232926948286,0.2601261546596351,0.2024140888640818,0.2926260945739552,1.660496974163675,1.2543794348645736,0.46124529671477854,0.3622008197772802,0.09580526603193215,0.25944018135128916,0.31521552309036327,0.20057585307801304,0.15569424675068416,0.05101531672181753,0.16311520040808367,0.32895890184349297,0.11358203060586863,0.05764525502916261,0.1232939296151589,0.23371509546579194,0.1756598484101931,0.3904672432626223,0.4127309306299787,0.4043048099677646,0.5053965076005176,0.34826233173810384,0.3891860569949809,0.7127541340722493,0.4459575691721869,0.3179990262937314,0.452466076555731,0.31420675505734463,0.32238373870682785,0.466354412181895,0.6163716311995413,0.47217662493939944,0.5649175793112783,0.3239242378761791,0.4588155247531303,0.5194937064028364,0.5107916138827959,0.43708451157572803,0.4624725999408949,0.5605890821632925,0.6864632917288706,0.7978302687643815,0.4463898061304625,0.5131541721733915,0.6456076926967359,0.5372955163884178,0.4469138509215948,0.49539076677052657,0.4415806496640944,0.6009470818039537,0.3443696538960075,0.41062460634363707,0.5263559835683131,0.4335489570538917,0.39214515699335556,0.39016247919972713,0.37751819946992154,0.3919980939706517,0.3165446315892086,0.45325731946267633,0.37462986247083885,0.2932942395420673,0.4401487901244372,0.24377386143418983,0.5782589147368088,0.4788780486580581,0.42612305272919015,0.35200275079797844,0.36043272936405046,0.40681244405191663,1.866556966533782,0.4023669147119195,0.3283804273599995,0.28223990966715107,0.387955097433834,0.28803459854596214,0.27976457151446743,0.32851279414955886,0.3055646915272241,0.328483154323167,0.2725265256393147,2.684819427986554,0.3521982544147497,0.271097864330202,0.5103756352841347,0.4090304278271839,0.3518068137135659,0.4343267830842701,0.2973383062793079,0.30388967336395906,0.2539899113132706,0.258727927970004,0.31846237804607436,0.3636571826035437,0.2378026101666032,0.3288100734435963,0.4122722016172414,0.3054751968069375,0.2665911259415832,0.26842488219684424,0.24972698533530385,0.23348864517700096,0.23165527953964749,0.20844178237791977,0.1496988326686769,0.22815187123000297,0.23549527236551931,0.18886286516290227,0.20709838664175595,0.13180201642263803,0.20105825365628058,0.21311431345459675,0.18949576797673578,0.2228991588991321,0.22922251028738827,0.21863071201811485,0.20661856615885266,0.22354215475522093,0.16092451264145083,0.17383488643599548,0.15837841327750485,0.14515494524773498,0.1179279564123352,0.09215455324782836,0.17213405669001422,0.1694713149576092,0.12472793451186212,0.1744367641535158,0.07461035628825524,0.02744193248544366,0.08946022851060922,0.16585472447863778,0.15558922316192245,0.1615659004081757,0.18454475770085343,0.1329893145232529,0.2038736286861665,0.20989518579003755,0.14852578926501142,0.11609009446256505,0.042747506751237896,0.2092111173926901,0.22224541805282227,0.08996615840461242,0.15248785795479566,0.15488653995383453,2.9935412155328835,0.011647640020011923,1.4948031604128786,0.10097485265718459,0.08859091687751917,0.22495282548636678,0.22717940459040042,2.2115546723229143,0.21677695656820545,0.15945892148844912,0.2241872977593964,0.1739372774792342,0.23945991615257028,0.11506178055651976,0.16614294628014192,0.04911196760969633,0.12875223853132672,0.24639845640342012,0.24819869766951924,0.9234278171768884,0.23935801638683124,0.17640077008352137,0.19432607032648555,0.26229152077066276,0.17325974545835957,0.16927393627267356,0.06576237916093805,0.24854580394739084],\"y\":[0.013648343453049036,0.008384584519268986,0.004741483399092485,0.012784064084681922,0.026819035227025324,0.009410444154774735,0.02062199963574402,0.01682310303155234,0.005711660615447563,0.006703857417611235,0.04266537755480833,0.04257067091100205,0.03944496196817556,0.04008216794732056,0.012855842310700777,0.03896757179961609,0.03253999972558858,0.007460447290049374,0.03909674476085554,0.04036915729990097,0.02553971997205203,0.04366229516124508,0.049721961540470545,0.021058867746825312,0.04582461086738894,0.038815239534900715,0.018916341062246243,0.037401202509192044,0.04584552308072724,0.04505482789680527,0.03894936548019741,0.045209916841122674,0.04540775632301788,0.04545757050322327,0.04517725930369896,0.028301513022553175,0.040866544306860784,0.012169010164218192,0.04081573309743054,0.008040071025711467,0.011895844641772726,0.04543117459388309,0.044806940719727975,0.043138421100413694,0.025261718891092837,0.017113500602103822,0.03890231913916076,0.019784541040120236,0.04490918414474553,0.03922441395901547,0.03368732378597614,0.046050062124436145,0.04259659999027671,0.04402044376217355,0.04209625245849248,0.031141732411799638,0.029220747412093136,0.03853347797358172,0.04470920711266495,0.015140031885854516,0.04520030293882436,0.040330150760652994,0.043649562517788995,0.04334195223209881,0.04711909208606287,0.04588815080256583,0.04711696546721259,0.03868531455570373,0.04405396892349624,0.010226651669573147,0.040186848723246765,0.04576912612771526,0.03743044080677681,0.04813638912344948,0.04767804453865597,0.04787016660595077,0.0442269989692434,0.05160502896971771,0.044706490732268185,0.048810434499082116,0.050207529240706095,0.0500876608974669,0.048830779175895525,0.04938398938189813,0.0002664826418719655,0.04335672504840828,0.04713475786522338,0.044682142054042716,0.044540783077325924,0.04144877753232106,0.039211874420238886,0.04953492649127113,0.0002664826418719655,0.04838689583620827,0.04595258182181265,0.045718961326748256,0.04393301185061045,0.05009038041081472,0.01003838528523222,0.05166397175387265,0.04294062892536711,0.0002664826418719655,0.047693406513411404,0.0464403559932962,0.046505409298773795,0.04640022018597044,0.039604112244308036,0.048216477841797487,0.04162827461324521,0.04224127516192849,0.0468960571634295,0.021876554105444933,0.043829503343798856,0.0465711776073618,0.047713126902449665,0.04390056335826291,0.01604289616875863,0.04473949832920504,0.0416112371927709,0.04555280926318378,0.04463359623785629,0.049549990063309304,0.05127658646001674,0.04798015182270694,0.04628214007351365,0.048628887586552004,0.015429645566858736,0.01883425070481159,0.033329044263837405,0.04580812761342867,0.04783519907203161,0.04933165519408496,0.05142714857553258,0.05178247624607196,0.051950284177614804,0.045441949112205296,0.039496823821545554,0.04706210437636923,0.05250245698729975,0.03648634213317066,0.04767874166332025,0.05165795847222806,0.03465909740885862,0.04956062491649639,0.049582487653871646,0.04916005427399729,0.046628712030432715,0.05055754574280693,0.048445277085689555,0.03962024312437635,0.052310492825314726,0.053722151204414016,0.05211979333066661,0.036416744678689585,0.05406959471293592,0.05155781254992042,0.04806323004205436,0.017457979580316803,0.04709039829527204,0.054052932562779085,0.05275693643762428,0.051510439820175155,0.04968480764611222,0.053152822848982276,0.0002664826418719655,0.05043519073146373,0.042515204478707665,0.04043828245593929,0.049817711294313935,0.05188000046965213,0.045724571764805745,0.0512398085215944,0.05280344662585394,0.05005022713387406,0.01853376714322689,0.04590426180835168,0.05082808163244969,0.052454046443967575,0.049189334981901596,0.045444726522056146,0.051799059791093185,0.05171712247652656,0.05020594119922482,0.045591840591921784,0.05120762828417066,0.0516128587227111,0.04980816458339052,0.04312051544352265,0.051270860422436594,0.05098926311358872,0.04861208975177027,0.0002664826418719655,0.051633463763765305,0.05230422105309929,0.05020244846485474,0.05320402172213732,0.0002664826418719655,0.0531839874364747,0.05035256977958515,0.05233818727741195,0.051329600467651816,0.05428822463060982,0.05265390464058417,0.05229516995545428,0.05161448631039798,0.04932165895248399,0.05261767872645897,0.010935478205515726,0.05217322192784685,0.047810297104907785,0.04964158107739683,0.05209968837328636,0.04530254122462034,0.0002664826418719655,0.05223217167649983,0.05060823511584637,0.05262114427326301,0.0516983799374373,0.05204006095910527,0.050091573324523166,0.051471457305094934,0.05173023796537907,0.052023319725004735,0.05088535235085474,0.05284120347937071,0.053798529862966495,0.05465215247762488,0.05433076884479106,0.054759280329488624,0.0549701405549974,0.05215600861152127,0.0545181059043373,0.05460502255559648,0.05494524965373336,0.04420683469338494,0.01948693703402646,0.05386208800052622,0.053995445903854966,0.041705090073447956,0.054303993486850374,0.054498838469172084,0.0543713920547223,0.0002664826418719655,0.05434869070847054,0.053810943150142135,0.05447433453306981,0.054319470783548575,0.036904562559433474,0.05395554901516657,0.0002664826418719655,0.05412555218955969,0.0543421536693508,0.049844244712719546,0.0002664826418719655,0.053538748184996786,0.05248184229295355,0.049418190080879845,0.054066956351331075,0.054047112581907655,0.050596323567847754,0.0002664826418719655,0.05368207135026594,0.04092898789480566,0.05120288603337164,0.05363302918819535,0.053637614917703094,0.0002664826418719655,0.03615806838791785,0.05279182917855617,0.0483607244486305,0.05398885147877438,0.05116466376145386,0.0002664826418719655,0.051417795275824484,0.018767897653119175,0.05384508518413256,0.03812166338017797,0.05410971467903987,0.01858539727778784,0.013388713136420382,0.05244815070052429,0.049193244339524676,0.04525658040387958,0.043434114239143104,0.05286234198795873,0.0002664826418719655,0.05423729225137055,0.04919674880363255,0.052087629512171586,0.0543720500592089,0.04174896430626927,0.031085633144068824,0.052460182433159974,0.05440985757964252,0.050894473179814236,0.04475813103510859,0.05488205545188194,0.03731133744387903,0.05154973558146274,0.0002664826418719655],\"type\":\"scatter\",\"xaxis\":\"x2\",\"yaxis\":\"y2\"},{\"marker\":{\"color\":[0,1,2,3,4,5,6,7,8,9,10,11,12,13,14,15,16,17,18,19,20,21,22,23,24,25,26,27,28,29,30,31,32,33,34,35,36,37,38,39,40,41,42,43,44,45,46,47,48,49,50,51,52,53,54,55,56,57,58,59,60,61,62,63,64,65,66,67,68,69,70,71,72,73,74,75,76,77,78,79,80,81,82,83,84,85,86,87,88,89,90,91,92,93,94,95,96,97,98,99,100,101,102,103,104,105,106,107,108,109,110,111,112,113,114,115,116,117,118,119,120,121,122,123,124,125,126,127,128,129,130,131,132,133,134,135,136,137,138,139,140,141,142,143,144,145,146,147,148,149,150,151,152,153,154,155,156,157,158,159,160,161,162,163,164,165,166,167,168,169,170,171,172,173,174,175,176,177,178,179,180,181,182,183,184,185,186,187,188,189,190,191,192,193,194,195,196,197,198,199,200,201,202,203,204,205,206,207,208,209,210,211,212,213,214,215,216,217,218,219,220,221,222,223,224,225,226,227,228,229,230,231,232,233,234,235,236,237,238,239,240,241,242,243,244,245,246,247,248,249,250,251,252,253,254,255,256,257,258,259,260,261,262,263,264,265,266,267,268,269,270,271,272,273,274,275,276,277,278,279,280,281,282,283,284,285,286,287,288,289,290,291,292,293,294,295,296,297,298,299],\"colorbar\":{\"title\":{\"text\":\"Trial\"},\"x\":1.0,\"xpad\":40},\"colorscale\":[[0.0,\"rgb(247,251,255)\"],[0.125,\"rgb(222,235,247)\"],[0.25,\"rgb(198,219,239)\"],[0.375,\"rgb(158,202,225)\"],[0.5,\"rgb(107,174,214)\"],[0.625,\"rgb(66,146,198)\"],[0.75,\"rgb(33,113,181)\"],[0.875,\"rgb(8,81,156)\"],[1.0,\"rgb(8,48,107)\"]],\"line\":{\"color\":\"Grey\",\"width\":0.5},\"showscale\":false},\"mode\":\"markers\",\"name\":\"Feasible Trial\",\"showlegend\":false,\"x\":[false,true,true,true,false,false,true,false,true,false,false,false,false,false,false,false,false,false,false,false,false,false,false,false,false,false,true,false,false,false,false,false,false,false,true,false,true,false,false,true,false,false,false,false,false,false,false,true,false,false,false,false,false,false,false,false,false,false,false,true,false,false,false,false,false,false,false,false,false,false,false,false,false,false,false,false,false,false,true,false,false,false,false,false,false,false,false,false,false,true,false,false,false,false,false,false,false,false,false,false,false,false,false,false,false,false,false,false,true,false,false,false,false,false,false,false,false,false,false,false,false,false,false,false,false,false,false,false,false,false,true,false,false,false,false,false,false,false,false,false,false,false,false,false,false,false,false,false,false,false,false,false,false,false,false,false,false,false,true,false,false,false,false,false,false,false,false,false,false,false,false,false,false,false,false,false,false,false,false,false,false,false,false,false,false,false,false,false,true,false,false,false,false,false,false,false,false,false,false,false,false,false,false,false,false,false,false,false,false,false,false,false,false,false,false,false,false,false,false,false,false,false,false,false,false,false,false,true,true,true,true,true,true,true,true,true,true,true,true,true,true,true,true,true,true,true,true,true,true,true,true,true,true,true,true,true,true,true,true,true,true,true,true,true,true,true,true,true,true,true,true,true,true,true,true,true,true,true,true,true,true,true,true,true,true,true,true,true,true,true,true,true,true,true,true,true,true,true,true,true],\"y\":[0.013648343453049036,0.008384584519268986,0.004741483399092485,0.012784064084681922,0.026819035227025324,0.009410444154774735,0.02062199963574402,0.01682310303155234,0.005711660615447563,0.006703857417611235,0.04266537755480833,0.04257067091100205,0.03944496196817556,0.04008216794732056,0.012855842310700777,0.03896757179961609,0.03253999972558858,0.007460447290049374,0.03909674476085554,0.04036915729990097,0.02553971997205203,0.04366229516124508,0.049721961540470545,0.021058867746825312,0.04582461086738894,0.038815239534900715,0.018916341062246243,0.037401202509192044,0.04584552308072724,0.04505482789680527,0.03894936548019741,0.045209916841122674,0.04540775632301788,0.04545757050322327,0.04517725930369896,0.028301513022553175,0.040866544306860784,0.012169010164218192,0.04081573309743054,0.008040071025711467,0.011895844641772726,0.04543117459388309,0.044806940719727975,0.043138421100413694,0.025261718891092837,0.017113500602103822,0.03890231913916076,0.019784541040120236,0.04490918414474553,0.03922441395901547,0.03368732378597614,0.046050062124436145,0.04259659999027671,0.04402044376217355,0.04209625245849248,0.031141732411799638,0.029220747412093136,0.03853347797358172,0.04470920711266495,0.015140031885854516,0.04520030293882436,0.040330150760652994,0.043649562517788995,0.04334195223209881,0.04711909208606287,0.04588815080256583,0.04711696546721259,0.03868531455570373,0.04405396892349624,0.010226651669573147,0.040186848723246765,0.04576912612771526,0.03743044080677681,0.04813638912344948,0.04767804453865597,0.04787016660595077,0.0442269989692434,0.05160502896971771,0.044706490732268185,0.048810434499082116,0.050207529240706095,0.0500876608974669,0.048830779175895525,0.04938398938189813,0.0002664826418719655,0.04335672504840828,0.04713475786522338,0.044682142054042716,0.044540783077325924,0.04144877753232106,0.039211874420238886,0.04953492649127113,0.0002664826418719655,0.04838689583620827,0.04595258182181265,0.045718961326748256,0.04393301185061045,0.05009038041081472,0.01003838528523222,0.05166397175387265,0.04294062892536711,0.0002664826418719655,0.047693406513411404,0.0464403559932962,0.046505409298773795,0.04640022018597044,0.039604112244308036,0.048216477841797487,0.04162827461324521,0.04224127516192849,0.0468960571634295,0.021876554105444933,0.043829503343798856,0.0465711776073618,0.047713126902449665,0.04390056335826291,0.01604289616875863,0.04473949832920504,0.0416112371927709,0.04555280926318378,0.04463359623785629,0.049549990063309304,0.05127658646001674,0.04798015182270694,0.04628214007351365,0.048628887586552004,0.015429645566858736,0.01883425070481159,0.033329044263837405,0.04580812761342867,0.04783519907203161,0.04933165519408496,0.05142714857553258,0.05178247624607196,0.051950284177614804,0.045441949112205296,0.039496823821545554,0.04706210437636923,0.05250245698729975,0.03648634213317066,0.04767874166332025,0.05165795847222806,0.03465909740885862,0.04956062491649639,0.049582487653871646,0.04916005427399729,0.046628712030432715,0.05055754574280693,0.048445277085689555,0.03962024312437635,0.052310492825314726,0.053722151204414016,0.05211979333066661,0.036416744678689585,0.05406959471293592,0.05155781254992042,0.04806323004205436,0.017457979580316803,0.04709039829527204,0.054052932562779085,0.05275693643762428,0.051510439820175155,0.04968480764611222,0.053152822848982276,0.0002664826418719655,0.05043519073146373,0.042515204478707665,0.04043828245593929,0.049817711294313935,0.05188000046965213,0.045724571764805745,0.0512398085215944,0.05280344662585394,0.05005022713387406,0.01853376714322689,0.04590426180835168,0.05082808163244969,0.052454046443967575,0.049189334981901596,0.045444726522056146,0.051799059791093185,0.05171712247652656,0.05020594119922482,0.045591840591921784,0.05120762828417066,0.0516128587227111,0.04980816458339052,0.04312051544352265,0.051270860422436594,0.05098926311358872,0.04861208975177027,0.0002664826418719655,0.051633463763765305,0.05230422105309929,0.05020244846485474,0.05320402172213732,0.0002664826418719655,0.0531839874364747,0.05035256977958515,0.05233818727741195,0.051329600467651816,0.05428822463060982,0.05265390464058417,0.05229516995545428,0.05161448631039798,0.04932165895248399,0.05261767872645897,0.010935478205515726,0.05217322192784685,0.047810297104907785,0.04964158107739683,0.05209968837328636,0.04530254122462034,0.0002664826418719655,0.05223217167649983,0.05060823511584637,0.05262114427326301,0.0516983799374373,0.05204006095910527,0.050091573324523166,0.051471457305094934,0.05173023796537907,0.052023319725004735,0.05088535235085474,0.05284120347937071,0.053798529862966495,0.05465215247762488,0.05433076884479106,0.054759280329488624,0.0549701405549974,0.05215600861152127,0.0545181059043373,0.05460502255559648,0.05494524965373336,0.04420683469338494,0.01948693703402646,0.05386208800052622,0.053995445903854966,0.041705090073447956,0.054303993486850374,0.054498838469172084,0.0543713920547223,0.0002664826418719655,0.05434869070847054,0.053810943150142135,0.05447433453306981,0.054319470783548575,0.036904562559433474,0.05395554901516657,0.0002664826418719655,0.05412555218955969,0.0543421536693508,0.049844244712719546,0.0002664826418719655,0.053538748184996786,0.05248184229295355,0.049418190080879845,0.054066956351331075,0.054047112581907655,0.050596323567847754,0.0002664826418719655,0.05368207135026594,0.04092898789480566,0.05120288603337164,0.05363302918819535,0.053637614917703094,0.0002664826418719655,0.03615806838791785,0.05279182917855617,0.0483607244486305,0.05398885147877438,0.05116466376145386,0.0002664826418719655,0.051417795275824484,0.018767897653119175,0.05384508518413256,0.03812166338017797,0.05410971467903987,0.01858539727778784,0.013388713136420382,0.05244815070052429,0.049193244339524676,0.04525658040387958,0.043434114239143104,0.05286234198795873,0.0002664826418719655,0.05423729225137055,0.04919674880363255,0.052087629512171586,0.0543720500592089,0.04174896430626927,0.031085633144068824,0.052460182433159974,0.05440985757964252,0.050894473179814236,0.04475813103510859,0.05488205545188194,0.03731133744387903,0.05154973558146274,0.0002664826418719655],\"type\":\"scatter\",\"xaxis\":\"x3\",\"yaxis\":\"y3\"},{\"marker\":{\"color\":[0,1,2,3,4,5,6,7,8,9,10,11,12,13,14,15,16,17,18,19,20,21,22,23,24,25,26,27,28,29,30,31,32,33,34,35,36,37,38,39,40,41,42,43,44,45,46,47,48,49,50,51,52,53,54,55,56,57,58,59,60,61,62,63,64,65,66,67,68,69,70,71,72,73,74,75,76,77,78,79,80,81,82,83,84,85,86,87,88,89,90,91,92,93,94,95,96,97,98,99,100,101,102,103,104,105,106,107,108,109,110,111,112,113,114,115,116,117,118,119,120,121,122,123,124,125,126,127,128,129,130,131,132,133,134,135,136,137,138,139,140,141,142,143,144,145,146,147,148,149,150,151,152,153,154,155,156,157,158,159,160,161,162,163,164,165,166,167,168,169,170,171,172,173,174,175,176,177,178,179,180,181,182,183,184,185,186,187,188,189,190,191,192,193,194,195,196,197,198,199,200,201,202,203,204,205,206,207,208,209,210,211,212,213,214,215,216,217,218,219,220,221,222,223,224,225,226,227,228,229,230,231,232,233,234,235,236,237,238,239,240,241,242,243,244,245,246,247,248,249,250,251,252,253,254,255,256,257,258,259,260,261,262,263,264,265,266,267,268,269,270,271,272,273,274,275,276,277,278,279,280,281,282,283,284,285,286,287,288,289,290,291,292,293,294,295,296,297,298,299],\"colorbar\":{\"title\":{\"text\":\"Trial\"},\"x\":1.0,\"xpad\":40},\"colorscale\":[[0.0,\"rgb(247,251,255)\"],[0.125,\"rgb(222,235,247)\"],[0.25,\"rgb(198,219,239)\"],[0.375,\"rgb(158,202,225)\"],[0.5,\"rgb(107,174,214)\"],[0.625,\"rgb(66,146,198)\"],[0.75,\"rgb(33,113,181)\"],[0.875,\"rgb(8,81,156)\"],[1.0,\"rgb(8,48,107)\"]],\"line\":{\"color\":\"Grey\",\"width\":0.5},\"showscale\":false},\"mode\":\"markers\",\"name\":\"Feasible Trial\",\"showlegend\":false,\"x\":[false,false,false,false,false,true,true,true,false,true,false,false,false,false,false,false,false,false,true,false,false,false,false,false,false,false,true,false,false,false,false,false,false,false,false,false,false,false,true,false,true,false,false,false,false,false,false,false,false,true,false,false,false,false,false,false,false,false,false,true,false,false,false,false,false,false,false,false,false,false,false,false,false,false,false,false,false,true,true,true,true,true,true,true,true,true,true,true,true,true,true,true,true,true,true,true,true,true,true,true,true,true,true,true,true,true,true,true,true,true,true,true,true,true,true,true,true,true,true,true,true,true,true,true,true,true,true,true,true,true,true,true,true,true,true,true,true,true,true,true,true,true,true,true,true,true,true,true,true,true,true,true,true,true,true,true,true,true,true,true,true,true,true,true,true,true,true,true,true,true,true,true,true,true,true,true,true,true,true,true,true,true,true,true,true,true,true,true,true,true,true,true,true,true,true,true,true,true,true,true,true,true,true,true,true,true,true,true,true,true,true,true,true,true,true,true,true,true,true,true,true,true,true,true,true,true,true,true,true,true,true,true,true,true,true,true,true,true,true,true,true,true,true,true,true,true,true,true,true,true,true,true,true,true,true,true,true,true,true,true,true,true,true,true,true,true,true,true,true,true,true,true,true,true,true,true,true,true,true,true,true,true,true,true,true,true,true,true,true,true,true,true,true,true,true,true,true,true,true,true],\"y\":[0.013648343453049036,0.008384584519268986,0.004741483399092485,0.012784064084681922,0.026819035227025324,0.009410444154774735,0.02062199963574402,0.01682310303155234,0.005711660615447563,0.006703857417611235,0.04266537755480833,0.04257067091100205,0.03944496196817556,0.04008216794732056,0.012855842310700777,0.03896757179961609,0.03253999972558858,0.007460447290049374,0.03909674476085554,0.04036915729990097,0.02553971997205203,0.04366229516124508,0.049721961540470545,0.021058867746825312,0.04582461086738894,0.038815239534900715,0.018916341062246243,0.037401202509192044,0.04584552308072724,0.04505482789680527,0.03894936548019741,0.045209916841122674,0.04540775632301788,0.04545757050322327,0.04517725930369896,0.028301513022553175,0.040866544306860784,0.012169010164218192,0.04081573309743054,0.008040071025711467,0.011895844641772726,0.04543117459388309,0.044806940719727975,0.043138421100413694,0.025261718891092837,0.017113500602103822,0.03890231913916076,0.019784541040120236,0.04490918414474553,0.03922441395901547,0.03368732378597614,0.046050062124436145,0.04259659999027671,0.04402044376217355,0.04209625245849248,0.031141732411799638,0.029220747412093136,0.03853347797358172,0.04470920711266495,0.015140031885854516,0.04520030293882436,0.040330150760652994,0.043649562517788995,0.04334195223209881,0.04711909208606287,0.04588815080256583,0.04711696546721259,0.03868531455570373,0.04405396892349624,0.010226651669573147,0.040186848723246765,0.04576912612771526,0.03743044080677681,0.04813638912344948,0.04767804453865597,0.04787016660595077,0.0442269989692434,0.05160502896971771,0.044706490732268185,0.048810434499082116,0.050207529240706095,0.0500876608974669,0.048830779175895525,0.04938398938189813,0.0002664826418719655,0.04335672504840828,0.04713475786522338,0.044682142054042716,0.044540783077325924,0.04144877753232106,0.039211874420238886,0.04953492649127113,0.0002664826418719655,0.04838689583620827,0.04595258182181265,0.045718961326748256,0.04393301185061045,0.05009038041081472,0.01003838528523222,0.05166397175387265,0.04294062892536711,0.0002664826418719655,0.047693406513411404,0.0464403559932962,0.046505409298773795,0.04640022018597044,0.039604112244308036,0.048216477841797487,0.04162827461324521,0.04224127516192849,0.0468960571634295,0.021876554105444933,0.043829503343798856,0.0465711776073618,0.047713126902449665,0.04390056335826291,0.01604289616875863,0.04473949832920504,0.0416112371927709,0.04555280926318378,0.04463359623785629,0.049549990063309304,0.05127658646001674,0.04798015182270694,0.04628214007351365,0.048628887586552004,0.015429645566858736,0.01883425070481159,0.033329044263837405,0.04580812761342867,0.04783519907203161,0.04933165519408496,0.05142714857553258,0.05178247624607196,0.051950284177614804,0.045441949112205296,0.039496823821545554,0.04706210437636923,0.05250245698729975,0.03648634213317066,0.04767874166332025,0.05165795847222806,0.03465909740885862,0.04956062491649639,0.049582487653871646,0.04916005427399729,0.046628712030432715,0.05055754574280693,0.048445277085689555,0.03962024312437635,0.052310492825314726,0.053722151204414016,0.05211979333066661,0.036416744678689585,0.05406959471293592,0.05155781254992042,0.04806323004205436,0.017457979580316803,0.04709039829527204,0.054052932562779085,0.05275693643762428,0.051510439820175155,0.04968480764611222,0.053152822848982276,0.0002664826418719655,0.05043519073146373,0.042515204478707665,0.04043828245593929,0.049817711294313935,0.05188000046965213,0.045724571764805745,0.0512398085215944,0.05280344662585394,0.05005022713387406,0.01853376714322689,0.04590426180835168,0.05082808163244969,0.052454046443967575,0.049189334981901596,0.045444726522056146,0.051799059791093185,0.05171712247652656,0.05020594119922482,0.045591840591921784,0.05120762828417066,0.0516128587227111,0.04980816458339052,0.04312051544352265,0.051270860422436594,0.05098926311358872,0.04861208975177027,0.0002664826418719655,0.051633463763765305,0.05230422105309929,0.05020244846485474,0.05320402172213732,0.0002664826418719655,0.0531839874364747,0.05035256977958515,0.05233818727741195,0.051329600467651816,0.05428822463060982,0.05265390464058417,0.05229516995545428,0.05161448631039798,0.04932165895248399,0.05261767872645897,0.010935478205515726,0.05217322192784685,0.047810297104907785,0.04964158107739683,0.05209968837328636,0.04530254122462034,0.0002664826418719655,0.05223217167649983,0.05060823511584637,0.05262114427326301,0.0516983799374373,0.05204006095910527,0.050091573324523166,0.051471457305094934,0.05173023796537907,0.052023319725004735,0.05088535235085474,0.05284120347937071,0.053798529862966495,0.05465215247762488,0.05433076884479106,0.054759280329488624,0.0549701405549974,0.05215600861152127,0.0545181059043373,0.05460502255559648,0.05494524965373336,0.04420683469338494,0.01948693703402646,0.05386208800052622,0.053995445903854966,0.041705090073447956,0.054303993486850374,0.054498838469172084,0.0543713920547223,0.0002664826418719655,0.05434869070847054,0.053810943150142135,0.05447433453306981,0.054319470783548575,0.036904562559433474,0.05395554901516657,0.0002664826418719655,0.05412555218955969,0.0543421536693508,0.049844244712719546,0.0002664826418719655,0.053538748184996786,0.05248184229295355,0.049418190080879845,0.054066956351331075,0.054047112581907655,0.050596323567847754,0.0002664826418719655,0.05368207135026594,0.04092898789480566,0.05120288603337164,0.05363302918819535,0.053637614917703094,0.0002664826418719655,0.03615806838791785,0.05279182917855617,0.0483607244486305,0.05398885147877438,0.05116466376145386,0.0002664826418719655,0.051417795275824484,0.018767897653119175,0.05384508518413256,0.03812166338017797,0.05410971467903987,0.01858539727778784,0.013388713136420382,0.05244815070052429,0.049193244339524676,0.04525658040387958,0.043434114239143104,0.05286234198795873,0.0002664826418719655,0.05423729225137055,0.04919674880363255,0.052087629512171586,0.0543720500592089,0.04174896430626927,0.031085633144068824,0.052460182433159974,0.05440985757964252,0.050894473179814236,0.04475813103510859,0.05488205545188194,0.03731133744387903,0.05154973558146274,0.0002664826418719655],\"type\":\"scatter\",\"xaxis\":\"x4\",\"yaxis\":\"y4\"},{\"marker\":{\"color\":[0,1,2,3,4,5,6,7,8,9,10,11,12,13,14,15,16,17,18,19,20,21,22,23,24,25,26,27,28,29,30,31,32,33,34,35,36,37,38,39,40,41,42,43,44,45,46,47,48,49,50,51,52,53,54,55,56,57,58,59,60,61,62,63,64,65,66,67,68,69,70,71,72,73,74,75,76,77,78,79,80,81,82,83,84,85,86,87,88,89,90,91,92,93,94,95,96,97,98,99,100,101,102,103,104,105,106,107,108,109,110,111,112,113,114,115,116,117,118,119,120,121,122,123,124,125,126,127,128,129,130,131,132,133,134,135,136,137,138,139,140,141,142,143,144,145,146,147,148,149,150,151,152,153,154,155,156,157,158,159,160,161,162,163,164,165,166,167,168,169,170,171,172,173,174,175,176,177,178,179,180,181,182,183,184,185,186,187,188,189,190,191,192,193,194,195,196,197,198,199,200,201,202,203,204,205,206,207,208,209,210,211,212,213,214,215,216,217,218,219,220,221,222,223,224,225,226,227,228,229,230,231,232,233,234,235,236,237,238,239,240,241,242,243,244,245,246,247,248,249,250,251,252,253,254,255,256,257,258,259,260,261,262,263,264,265,266,267,268,269,270,271,272,273,274,275,276,277,278,279,280,281,282,283,284,285,286,287,288,289,290,291,292,293,294,295,296,297,298,299],\"colorbar\":{\"title\":{\"text\":\"Trial\"},\"x\":1.0,\"xpad\":40},\"colorscale\":[[0.0,\"rgb(247,251,255)\"],[0.125,\"rgb(222,235,247)\"],[0.25,\"rgb(198,219,239)\"],[0.375,\"rgb(158,202,225)\"],[0.5,\"rgb(107,174,214)\"],[0.625,\"rgb(66,146,198)\"],[0.75,\"rgb(33,113,181)\"],[0.875,\"rgb(8,81,156)\"],[1.0,\"rgb(8,48,107)\"]],\"line\":{\"color\":\"Grey\",\"width\":0.5},\"showscale\":false},\"mode\":\"markers\",\"name\":\"Feasible Trial\",\"showlegend\":false,\"x\":[306,84,1218,1184,232,555,885,614,802,54,356,329,404,489,946,220,638,1444,424,165,345,11,23,49,3,34,147,2,211,251,127,234,183,153,112,111,282,488,1186,103,943,190,276,216,717,83,425,315,175,1086,62,194,6,211,351,1448,559,142,390,57,473,182,295,183,81,78,67,66,10,89,1341,109,123,52,40,37,43,42,252,52,32,36,34,24,0,137,29,109,148,34,797,39,0,40,100,145,70,34,255,28,157,0,93,27,128,49,91,33,1069,70,165,29,109,26,63,115,1,209,644,78,45,52,26,83,137,48,63,111,2,182,90,30,22,25,26,4,75,129,24,1493,94,21,2,61,61,67,125,57,154,99,22,23,23,2,23,27,28,1,85,28,26,25,64,23,0,26,98,27,86,23,54,23,25,56,1,120,84,29,54,1351,37,37,77,874,57,39,110,3,50,83,46,0,32,34,76,29,0,31,102,58,70,27,50,56,68,116,53,89,55,138,63,47,537,0,59,96,52,68,56,112,60,61,47,88,47,32,22,26,20,16,6,24,23,19,3,1,31,30,694,28,25,27,0,26,30,23,24,2,25,0,26,23,84,0,28,34,85,28,28,80,0,32,1115,76,31,32,0,77,44,110,28,64,0,44,89,26,70,26,1,70,53,104,26,376,47,0,26,81,52,28,1008,111,55,25,80,446,20,2,53,0],\"y\":[0.013648343453049036,0.008384584519268986,0.004741483399092485,0.012784064084681922,0.026819035227025324,0.009410444154774735,0.02062199963574402,0.01682310303155234,0.005711660615447563,0.006703857417611235,0.04266537755480833,0.04257067091100205,0.03944496196817556,0.04008216794732056,0.012855842310700777,0.03896757179961609,0.03253999972558858,0.007460447290049374,0.03909674476085554,0.04036915729990097,0.02553971997205203,0.04366229516124508,0.049721961540470545,0.021058867746825312,0.04582461086738894,0.038815239534900715,0.018916341062246243,0.037401202509192044,0.04584552308072724,0.04505482789680527,0.03894936548019741,0.045209916841122674,0.04540775632301788,0.04545757050322327,0.04517725930369896,0.028301513022553175,0.040866544306860784,0.012169010164218192,0.04081573309743054,0.008040071025711467,0.011895844641772726,0.04543117459388309,0.044806940719727975,0.043138421100413694,0.025261718891092837,0.017113500602103822,0.03890231913916076,0.019784541040120236,0.04490918414474553,0.03922441395901547,0.03368732378597614,0.046050062124436145,0.04259659999027671,0.04402044376217355,0.04209625245849248,0.031141732411799638,0.029220747412093136,0.03853347797358172,0.04470920711266495,0.015140031885854516,0.04520030293882436,0.040330150760652994,0.043649562517788995,0.04334195223209881,0.04711909208606287,0.04588815080256583,0.04711696546721259,0.03868531455570373,0.04405396892349624,0.010226651669573147,0.040186848723246765,0.04576912612771526,0.03743044080677681,0.04813638912344948,0.04767804453865597,0.04787016660595077,0.0442269989692434,0.05160502896971771,0.044706490732268185,0.048810434499082116,0.050207529240706095,0.0500876608974669,0.048830779175895525,0.04938398938189813,0.0002664826418719655,0.04335672504840828,0.04713475786522338,0.044682142054042716,0.044540783077325924,0.04144877753232106,0.039211874420238886,0.04953492649127113,0.0002664826418719655,0.04838689583620827,0.04595258182181265,0.045718961326748256,0.04393301185061045,0.05009038041081472,0.01003838528523222,0.05166397175387265,0.04294062892536711,0.0002664826418719655,0.047693406513411404,0.0464403559932962,0.046505409298773795,0.04640022018597044,0.039604112244308036,0.048216477841797487,0.04162827461324521,0.04224127516192849,0.0468960571634295,0.021876554105444933,0.043829503343798856,0.0465711776073618,0.047713126902449665,0.04390056335826291,0.01604289616875863,0.04473949832920504,0.0416112371927709,0.04555280926318378,0.04463359623785629,0.049549990063309304,0.05127658646001674,0.04798015182270694,0.04628214007351365,0.048628887586552004,0.015429645566858736,0.01883425070481159,0.033329044263837405,0.04580812761342867,0.04783519907203161,0.04933165519408496,0.05142714857553258,0.05178247624607196,0.051950284177614804,0.045441949112205296,0.039496823821545554,0.04706210437636923,0.05250245698729975,0.03648634213317066,0.04767874166332025,0.05165795847222806,0.03465909740885862,0.04956062491649639,0.049582487653871646,0.04916005427399729,0.046628712030432715,0.05055754574280693,0.048445277085689555,0.03962024312437635,0.052310492825314726,0.053722151204414016,0.05211979333066661,0.036416744678689585,0.05406959471293592,0.05155781254992042,0.04806323004205436,0.017457979580316803,0.04709039829527204,0.054052932562779085,0.05275693643762428,0.051510439820175155,0.04968480764611222,0.053152822848982276,0.0002664826418719655,0.05043519073146373,0.042515204478707665,0.04043828245593929,0.049817711294313935,0.05188000046965213,0.045724571764805745,0.0512398085215944,0.05280344662585394,0.05005022713387406,0.01853376714322689,0.04590426180835168,0.05082808163244969,0.052454046443967575,0.049189334981901596,0.045444726522056146,0.051799059791093185,0.05171712247652656,0.05020594119922482,0.045591840591921784,0.05120762828417066,0.0516128587227111,0.04980816458339052,0.04312051544352265,0.051270860422436594,0.05098926311358872,0.04861208975177027,0.0002664826418719655,0.051633463763765305,0.05230422105309929,0.05020244846485474,0.05320402172213732,0.0002664826418719655,0.0531839874364747,0.05035256977958515,0.05233818727741195,0.051329600467651816,0.05428822463060982,0.05265390464058417,0.05229516995545428,0.05161448631039798,0.04932165895248399,0.05261767872645897,0.010935478205515726,0.05217322192784685,0.047810297104907785,0.04964158107739683,0.05209968837328636,0.04530254122462034,0.0002664826418719655,0.05223217167649983,0.05060823511584637,0.05262114427326301,0.0516983799374373,0.05204006095910527,0.050091573324523166,0.051471457305094934,0.05173023796537907,0.052023319725004735,0.05088535235085474,0.05284120347937071,0.053798529862966495,0.05465215247762488,0.05433076884479106,0.054759280329488624,0.0549701405549974,0.05215600861152127,0.0545181059043373,0.05460502255559648,0.05494524965373336,0.04420683469338494,0.01948693703402646,0.05386208800052622,0.053995445903854966,0.041705090073447956,0.054303993486850374,0.054498838469172084,0.0543713920547223,0.0002664826418719655,0.05434869070847054,0.053810943150142135,0.05447433453306981,0.054319470783548575,0.036904562559433474,0.05395554901516657,0.0002664826418719655,0.05412555218955969,0.0543421536693508,0.049844244712719546,0.0002664826418719655,0.053538748184996786,0.05248184229295355,0.049418190080879845,0.054066956351331075,0.054047112581907655,0.050596323567847754,0.0002664826418719655,0.05368207135026594,0.04092898789480566,0.05120288603337164,0.05363302918819535,0.053637614917703094,0.0002664826418719655,0.03615806838791785,0.05279182917855617,0.0483607244486305,0.05398885147877438,0.05116466376145386,0.0002664826418719655,0.051417795275824484,0.018767897653119175,0.05384508518413256,0.03812166338017797,0.05410971467903987,0.01858539727778784,0.013388713136420382,0.05244815070052429,0.049193244339524676,0.04525658040387958,0.043434114239143104,0.05286234198795873,0.0002664826418719655,0.05423729225137055,0.04919674880363255,0.052087629512171586,0.0543720500592089,0.04174896430626927,0.031085633144068824,0.052460182433159974,0.05440985757964252,0.050894473179814236,0.04475813103510859,0.05488205545188194,0.03731133744387903,0.05154973558146274,0.0002664826418719655],\"type\":\"scatter\",\"xaxis\":\"x5\",\"yaxis\":\"y5\"}],                        {\"template\":{\"data\":{\"histogram2dcontour\":[{\"type\":\"histogram2dcontour\",\"colorbar\":{\"outlinewidth\":0,\"ticks\":\"\"},\"colorscale\":[[0.0,\"#0d0887\"],[0.1111111111111111,\"#46039f\"],[0.2222222222222222,\"#7201a8\"],[0.3333333333333333,\"#9c179e\"],[0.4444444444444444,\"#bd3786\"],[0.5555555555555556,\"#d8576b\"],[0.6666666666666666,\"#ed7953\"],[0.7777777777777778,\"#fb9f3a\"],[0.8888888888888888,\"#fdca26\"],[1.0,\"#f0f921\"]]}],\"choropleth\":[{\"type\":\"choropleth\",\"colorbar\":{\"outlinewidth\":0,\"ticks\":\"\"}}],\"histogram2d\":[{\"type\":\"histogram2d\",\"colorbar\":{\"outlinewidth\":0,\"ticks\":\"\"},\"colorscale\":[[0.0,\"#0d0887\"],[0.1111111111111111,\"#46039f\"],[0.2222222222222222,\"#7201a8\"],[0.3333333333333333,\"#9c179e\"],[0.4444444444444444,\"#bd3786\"],[0.5555555555555556,\"#d8576b\"],[0.6666666666666666,\"#ed7953\"],[0.7777777777777778,\"#fb9f3a\"],[0.8888888888888888,\"#fdca26\"],[1.0,\"#f0f921\"]]}],\"heatmap\":[{\"type\":\"heatmap\",\"colorbar\":{\"outlinewidth\":0,\"ticks\":\"\"},\"colorscale\":[[0.0,\"#0d0887\"],[0.1111111111111111,\"#46039f\"],[0.2222222222222222,\"#7201a8\"],[0.3333333333333333,\"#9c179e\"],[0.4444444444444444,\"#bd3786\"],[0.5555555555555556,\"#d8576b\"],[0.6666666666666666,\"#ed7953\"],[0.7777777777777778,\"#fb9f3a\"],[0.8888888888888888,\"#fdca26\"],[1.0,\"#f0f921\"]]}],\"heatmapgl\":[{\"type\":\"heatmapgl\",\"colorbar\":{\"outlinewidth\":0,\"ticks\":\"\"},\"colorscale\":[[0.0,\"#0d0887\"],[0.1111111111111111,\"#46039f\"],[0.2222222222222222,\"#7201a8\"],[0.3333333333333333,\"#9c179e\"],[0.4444444444444444,\"#bd3786\"],[0.5555555555555556,\"#d8576b\"],[0.6666666666666666,\"#ed7953\"],[0.7777777777777778,\"#fb9f3a\"],[0.8888888888888888,\"#fdca26\"],[1.0,\"#f0f921\"]]}],\"contourcarpet\":[{\"type\":\"contourcarpet\",\"colorbar\":{\"outlinewidth\":0,\"ticks\":\"\"}}],\"contour\":[{\"type\":\"contour\",\"colorbar\":{\"outlinewidth\":0,\"ticks\":\"\"},\"colorscale\":[[0.0,\"#0d0887\"],[0.1111111111111111,\"#46039f\"],[0.2222222222222222,\"#7201a8\"],[0.3333333333333333,\"#9c179e\"],[0.4444444444444444,\"#bd3786\"],[0.5555555555555556,\"#d8576b\"],[0.6666666666666666,\"#ed7953\"],[0.7777777777777778,\"#fb9f3a\"],[0.8888888888888888,\"#fdca26\"],[1.0,\"#f0f921\"]]}],\"surface\":[{\"type\":\"surface\",\"colorbar\":{\"outlinewidth\":0,\"ticks\":\"\"},\"colorscale\":[[0.0,\"#0d0887\"],[0.1111111111111111,\"#46039f\"],[0.2222222222222222,\"#7201a8\"],[0.3333333333333333,\"#9c179e\"],[0.4444444444444444,\"#bd3786\"],[0.5555555555555556,\"#d8576b\"],[0.6666666666666666,\"#ed7953\"],[0.7777777777777778,\"#fb9f3a\"],[0.8888888888888888,\"#fdca26\"],[1.0,\"#f0f921\"]]}],\"mesh3d\":[{\"type\":\"mesh3d\",\"colorbar\":{\"outlinewidth\":0,\"ticks\":\"\"}}],\"scatter\":[{\"fillpattern\":{\"fillmode\":\"overlay\",\"size\":10,\"solidity\":0.2},\"type\":\"scatter\"}],\"parcoords\":[{\"type\":\"parcoords\",\"line\":{\"colorbar\":{\"outlinewidth\":0,\"ticks\":\"\"}}}],\"scatterpolargl\":[{\"type\":\"scatterpolargl\",\"marker\":{\"colorbar\":{\"outlinewidth\":0,\"ticks\":\"\"}}}],\"bar\":[{\"error_x\":{\"color\":\"#2a3f5f\"},\"error_y\":{\"color\":\"#2a3f5f\"},\"marker\":{\"line\":{\"color\":\"#E5ECF6\",\"width\":0.5},\"pattern\":{\"fillmode\":\"overlay\",\"size\":10,\"solidity\":0.2}},\"type\":\"bar\"}],\"scattergeo\":[{\"type\":\"scattergeo\",\"marker\":{\"colorbar\":{\"outlinewidth\":0,\"ticks\":\"\"}}}],\"scatterpolar\":[{\"type\":\"scatterpolar\",\"marker\":{\"colorbar\":{\"outlinewidth\":0,\"ticks\":\"\"}}}],\"histogram\":[{\"marker\":{\"pattern\":{\"fillmode\":\"overlay\",\"size\":10,\"solidity\":0.2}},\"type\":\"histogram\"}],\"scattergl\":[{\"type\":\"scattergl\",\"marker\":{\"colorbar\":{\"outlinewidth\":0,\"ticks\":\"\"}}}],\"scatter3d\":[{\"type\":\"scatter3d\",\"line\":{\"colorbar\":{\"outlinewidth\":0,\"ticks\":\"\"}},\"marker\":{\"colorbar\":{\"outlinewidth\":0,\"ticks\":\"\"}}}],\"scattermapbox\":[{\"type\":\"scattermapbox\",\"marker\":{\"colorbar\":{\"outlinewidth\":0,\"ticks\":\"\"}}}],\"scatterternary\":[{\"type\":\"scatterternary\",\"marker\":{\"colorbar\":{\"outlinewidth\":0,\"ticks\":\"\"}}}],\"scattercarpet\":[{\"type\":\"scattercarpet\",\"marker\":{\"colorbar\":{\"outlinewidth\":0,\"ticks\":\"\"}}}],\"carpet\":[{\"aaxis\":{\"endlinecolor\":\"#2a3f5f\",\"gridcolor\":\"white\",\"linecolor\":\"white\",\"minorgridcolor\":\"white\",\"startlinecolor\":\"#2a3f5f\"},\"baxis\":{\"endlinecolor\":\"#2a3f5f\",\"gridcolor\":\"white\",\"linecolor\":\"white\",\"minorgridcolor\":\"white\",\"startlinecolor\":\"#2a3f5f\"},\"type\":\"carpet\"}],\"table\":[{\"cells\":{\"fill\":{\"color\":\"#EBF0F8\"},\"line\":{\"color\":\"white\"}},\"header\":{\"fill\":{\"color\":\"#C8D4E3\"},\"line\":{\"color\":\"white\"}},\"type\":\"table\"}],\"barpolar\":[{\"marker\":{\"line\":{\"color\":\"#E5ECF6\",\"width\":0.5},\"pattern\":{\"fillmode\":\"overlay\",\"size\":10,\"solidity\":0.2}},\"type\":\"barpolar\"}],\"pie\":[{\"automargin\":true,\"type\":\"pie\"}]},\"layout\":{\"autotypenumbers\":\"strict\",\"colorway\":[\"#636efa\",\"#EF553B\",\"#00cc96\",\"#ab63fa\",\"#FFA15A\",\"#19d3f3\",\"#FF6692\",\"#B6E880\",\"#FF97FF\",\"#FECB52\"],\"font\":{\"color\":\"#2a3f5f\"},\"hovermode\":\"closest\",\"hoverlabel\":{\"align\":\"left\"},\"paper_bgcolor\":\"white\",\"plot_bgcolor\":\"#E5ECF6\",\"polar\":{\"bgcolor\":\"#E5ECF6\",\"angularaxis\":{\"gridcolor\":\"white\",\"linecolor\":\"white\",\"ticks\":\"\"},\"radialaxis\":{\"gridcolor\":\"white\",\"linecolor\":\"white\",\"ticks\":\"\"}},\"ternary\":{\"bgcolor\":\"#E5ECF6\",\"aaxis\":{\"gridcolor\":\"white\",\"linecolor\":\"white\",\"ticks\":\"\"},\"baxis\":{\"gridcolor\":\"white\",\"linecolor\":\"white\",\"ticks\":\"\"},\"caxis\":{\"gridcolor\":\"white\",\"linecolor\":\"white\",\"ticks\":\"\"}},\"coloraxis\":{\"colorbar\":{\"outlinewidth\":0,\"ticks\":\"\"}},\"colorscale\":{\"sequential\":[[0.0,\"#0d0887\"],[0.1111111111111111,\"#46039f\"],[0.2222222222222222,\"#7201a8\"],[0.3333333333333333,\"#9c179e\"],[0.4444444444444444,\"#bd3786\"],[0.5555555555555556,\"#d8576b\"],[0.6666666666666666,\"#ed7953\"],[0.7777777777777778,\"#fb9f3a\"],[0.8888888888888888,\"#fdca26\"],[1.0,\"#f0f921\"]],\"sequentialminus\":[[0.0,\"#0d0887\"],[0.1111111111111111,\"#46039f\"],[0.2222222222222222,\"#7201a8\"],[0.3333333333333333,\"#9c179e\"],[0.4444444444444444,\"#bd3786\"],[0.5555555555555556,\"#d8576b\"],[0.6666666666666666,\"#ed7953\"],[0.7777777777777778,\"#fb9f3a\"],[0.8888888888888888,\"#fdca26\"],[1.0,\"#f0f921\"]],\"diverging\":[[0,\"#8e0152\"],[0.1,\"#c51b7d\"],[0.2,\"#de77ae\"],[0.3,\"#f1b6da\"],[0.4,\"#fde0ef\"],[0.5,\"#f7f7f7\"],[0.6,\"#e6f5d0\"],[0.7,\"#b8e186\"],[0.8,\"#7fbc41\"],[0.9,\"#4d9221\"],[1,\"#276419\"]]},\"xaxis\":{\"gridcolor\":\"white\",\"linecolor\":\"white\",\"ticks\":\"\",\"title\":{\"standoff\":15},\"zerolinecolor\":\"white\",\"automargin\":true,\"zerolinewidth\":2},\"yaxis\":{\"gridcolor\":\"white\",\"linecolor\":\"white\",\"ticks\":\"\",\"title\":{\"standoff\":15},\"zerolinecolor\":\"white\",\"automargin\":true,\"zerolinewidth\":2},\"scene\":{\"xaxis\":{\"backgroundcolor\":\"#E5ECF6\",\"gridcolor\":\"white\",\"linecolor\":\"white\",\"showbackground\":true,\"ticks\":\"\",\"zerolinecolor\":\"white\",\"gridwidth\":2},\"yaxis\":{\"backgroundcolor\":\"#E5ECF6\",\"gridcolor\":\"white\",\"linecolor\":\"white\",\"showbackground\":true,\"ticks\":\"\",\"zerolinecolor\":\"white\",\"gridwidth\":2},\"zaxis\":{\"backgroundcolor\":\"#E5ECF6\",\"gridcolor\":\"white\",\"linecolor\":\"white\",\"showbackground\":true,\"ticks\":\"\",\"zerolinecolor\":\"white\",\"gridwidth\":2}},\"shapedefaults\":{\"line\":{\"color\":\"#2a3f5f\"}},\"annotationdefaults\":{\"arrowcolor\":\"#2a3f5f\",\"arrowhead\":0,\"arrowwidth\":1},\"geo\":{\"bgcolor\":\"white\",\"landcolor\":\"#E5ECF6\",\"subunitcolor\":\"white\",\"showland\":true,\"showlakes\":true,\"lakecolor\":\"white\"},\"title\":{\"x\":0.05},\"mapbox\":{\"style\":\"light\"}}},\"xaxis\":{\"anchor\":\"y\",\"domain\":[0.0,0.16799999999999998],\"title\":{\"text\":\"alpha\"}},\"yaxis\":{\"anchor\":\"x\",\"domain\":[0.0,1.0],\"title\":{\"text\":\"Objective Value\"}},\"xaxis2\":{\"anchor\":\"y2\",\"domain\":[0.208,0.376],\"title\":{\"text\":\"beta\"}},\"yaxis2\":{\"anchor\":\"x2\",\"domain\":[0.0,1.0],\"matches\":\"y\",\"showticklabels\":false},\"xaxis3\":{\"anchor\":\"y3\",\"domain\":[0.416,0.584],\"title\":{\"text\":\"implicit\"},\"type\":\"category\",\"categoryorder\":\"array\",\"categoryarray\":[true,false]},\"yaxis3\":{\"anchor\":\"x3\",\"domain\":[0.0,1.0],\"matches\":\"y\",\"showticklabels\":false},\"xaxis4\":{\"anchor\":\"y4\",\"domain\":[0.624,0.792],\"title\":{\"text\":\"normalize_similarity\"},\"type\":\"category\",\"categoryorder\":\"array\",\"categoryarray\":[true,false]},\"yaxis4\":{\"anchor\":\"x4\",\"domain\":[0.0,1.0],\"matches\":\"y\",\"showticklabels\":false},\"xaxis5\":{\"anchor\":\"y5\",\"domain\":[0.832,1.0],\"title\":{\"text\":\"topK\"}},\"yaxis5\":{\"anchor\":\"x5\",\"domain\":[0.0,1.0],\"matches\":\"y\",\"showticklabels\":false},\"title\":{\"text\":\"Slice Plot\"},\"width\":1500},                        {\"responsive\": true}                    ).then(function(){\n",
       "                            \n",
       "var gd = document.getElementById('87377107-eec4-4027-b512-427583a958d8');\n",
       "var x = new MutationObserver(function (mutations, observer) {{\n",
       "        var display = window.getComputedStyle(gd).display;\n",
       "        if (!display || display === 'none') {{\n",
       "            console.log([gd, 'removed!']);\n",
       "            Plotly.purge(gd);\n",
       "            observer.disconnect();\n",
       "        }}\n",
       "}});\n",
       "\n",
       "// Listen for the removal of the full notebook cells\n",
       "var notebookContainer = gd.closest('#notebook-container');\n",
       "if (notebookContainer) {{\n",
       "    x.observe(notebookContainer, {childList: true});\n",
       "}}\n",
       "\n",
       "// Listen for the clearing of the current output cell\n",
       "var outputEl = gd.closest('.output');\n",
       "if (outputEl) {{\n",
       "    x.observe(outputEl, {childList: true});\n",
       "}}\n",
       "\n",
       "                        })                };                            </script>        </div>\n",
       "</body>\n",
       "</html>"
      ]
     },
     "metadata": {},
     "output_type": "display_data"
    }
   ],
   "source": [
    "if not config['tune_parameters']:\n",
    "    optuna_study = optuna.load_study(study_name=f'hyperparameters_tuning_{config[\"model\"]}_{config[\"metric\"]}', storage=f'sqlite:///{config[\"database_path\"]}')\n",
    "    \n",
    "fig = optuna.visualization.plot_slice(optuna_study)\n",
    "fig.show()"
   ]
  },
  {
   "cell_type": "code",
   "execution_count": 15,
   "id": "5c76c4e0",
   "metadata": {
    "execution": {
     "iopub.execute_input": "2025-01-05T23:23:18.285360Z",
     "iopub.status.busy": "2025-01-05T23:23:18.284849Z",
     "iopub.status.idle": "2025-01-05T23:23:23.523700Z",
     "shell.execute_reply": "2025-01-05T23:23:23.522311Z"
    },
    "papermill": {
     "duration": 5.308923,
     "end_time": "2025-01-05T23:23:23.525767",
     "exception": false,
     "start_time": "2025-01-05T23:23:18.216844",
     "status": "completed"
    },
    "tags": []
   },
   "outputs": [
    {
     "data": {
      "text/html": [
       "<html>\n",
       "<head><meta charset=\"utf-8\" /></head>\n",
       "<body>\n",
       "    <div>            <script src=\"https://cdnjs.cloudflare.com/ajax/libs/mathjax/2.7.5/MathJax.js?config=TeX-AMS-MML_SVG\"></script><script type=\"text/javascript\">if (window.MathJax && window.MathJax.Hub && window.MathJax.Hub.Config) {window.MathJax.Hub.Config({SVG: {font: \"STIX-Web\"}});}</script>                <script type=\"text/javascript\">window.PlotlyConfig = {MathJaxConfig: 'local'};</script>\n",
       "        <script charset=\"utf-8\" src=\"https://cdn.plot.ly/plotly-2.35.2.min.js\"></script>                <div id=\"9279c32f-f575-4239-b5f9-94251a415e34\" class=\"plotly-graph-div\" style=\"height:525px; width:100%;\"></div>            <script type=\"text/javascript\">                                    window.PLOTLYENV=window.PLOTLYENV || {};                                    if (document.getElementById(\"9279c32f-f575-4239-b5f9-94251a415e34\")) {                    Plotly.newPlot(                        \"9279c32f-f575-4239-b5f9-94251a415e34\",                        [{\"cliponaxis\":false,\"hovertemplate\":[\"implicit (CategoricalDistribution): 0.0005558643247050033\\u003cextra\\u003e\\u003c\\u002fextra\\u003e\",\"normalize_similarity (CategoricalDistribution): 0.0035551251059808974\\u003cextra\\u003e\\u003c\\u002fextra\\u003e\",\"topK (IntDistribution): 0.008756721974716662\\u003cextra\\u003e\\u003c\\u002fextra\\u003e\",\"alpha (FloatDistribution): 0.10838375123113331\\u003cextra\\u003e\\u003c\\u002fextra\\u003e\",\"beta (FloatDistribution): 0.878748537363464\\u003cextra\\u003e\\u003c\\u002fextra\\u003e\"],\"name\":\"Objective Value\",\"orientation\":\"h\",\"text\":[\"\\u003c0.01\",\"\\u003c0.01\",\"\\u003c0.01\",\"0.11\",\"0.88\"],\"textposition\":\"outside\",\"x\":[0.0005558643247050033,0.0035551251059808974,0.008756721974716662,0.10838375123113331,0.878748537363464],\"y\":[\"implicit\",\"normalize_similarity\",\"topK\",\"alpha\",\"beta\"],\"type\":\"bar\"}],                        {\"title\":{\"text\":\"Hyperparameter Importances\"},\"xaxis\":{\"title\":{\"text\":\"Hyperparameter Importance\"}},\"yaxis\":{\"title\":{\"text\":\"Hyperparameter\"}},\"template\":{\"data\":{\"histogram2dcontour\":[{\"type\":\"histogram2dcontour\",\"colorbar\":{\"outlinewidth\":0,\"ticks\":\"\"},\"colorscale\":[[0.0,\"#0d0887\"],[0.1111111111111111,\"#46039f\"],[0.2222222222222222,\"#7201a8\"],[0.3333333333333333,\"#9c179e\"],[0.4444444444444444,\"#bd3786\"],[0.5555555555555556,\"#d8576b\"],[0.6666666666666666,\"#ed7953\"],[0.7777777777777778,\"#fb9f3a\"],[0.8888888888888888,\"#fdca26\"],[1.0,\"#f0f921\"]]}],\"choropleth\":[{\"type\":\"choropleth\",\"colorbar\":{\"outlinewidth\":0,\"ticks\":\"\"}}],\"histogram2d\":[{\"type\":\"histogram2d\",\"colorbar\":{\"outlinewidth\":0,\"ticks\":\"\"},\"colorscale\":[[0.0,\"#0d0887\"],[0.1111111111111111,\"#46039f\"],[0.2222222222222222,\"#7201a8\"],[0.3333333333333333,\"#9c179e\"],[0.4444444444444444,\"#bd3786\"],[0.5555555555555556,\"#d8576b\"],[0.6666666666666666,\"#ed7953\"],[0.7777777777777778,\"#fb9f3a\"],[0.8888888888888888,\"#fdca26\"],[1.0,\"#f0f921\"]]}],\"heatmap\":[{\"type\":\"heatmap\",\"colorbar\":{\"outlinewidth\":0,\"ticks\":\"\"},\"colorscale\":[[0.0,\"#0d0887\"],[0.1111111111111111,\"#46039f\"],[0.2222222222222222,\"#7201a8\"],[0.3333333333333333,\"#9c179e\"],[0.4444444444444444,\"#bd3786\"],[0.5555555555555556,\"#d8576b\"],[0.6666666666666666,\"#ed7953\"],[0.7777777777777778,\"#fb9f3a\"],[0.8888888888888888,\"#fdca26\"],[1.0,\"#f0f921\"]]}],\"heatmapgl\":[{\"type\":\"heatmapgl\",\"colorbar\":{\"outlinewidth\":0,\"ticks\":\"\"},\"colorscale\":[[0.0,\"#0d0887\"],[0.1111111111111111,\"#46039f\"],[0.2222222222222222,\"#7201a8\"],[0.3333333333333333,\"#9c179e\"],[0.4444444444444444,\"#bd3786\"],[0.5555555555555556,\"#d8576b\"],[0.6666666666666666,\"#ed7953\"],[0.7777777777777778,\"#fb9f3a\"],[0.8888888888888888,\"#fdca26\"],[1.0,\"#f0f921\"]]}],\"contourcarpet\":[{\"type\":\"contourcarpet\",\"colorbar\":{\"outlinewidth\":0,\"ticks\":\"\"}}],\"contour\":[{\"type\":\"contour\",\"colorbar\":{\"outlinewidth\":0,\"ticks\":\"\"},\"colorscale\":[[0.0,\"#0d0887\"],[0.1111111111111111,\"#46039f\"],[0.2222222222222222,\"#7201a8\"],[0.3333333333333333,\"#9c179e\"],[0.4444444444444444,\"#bd3786\"],[0.5555555555555556,\"#d8576b\"],[0.6666666666666666,\"#ed7953\"],[0.7777777777777778,\"#fb9f3a\"],[0.8888888888888888,\"#fdca26\"],[1.0,\"#f0f921\"]]}],\"surface\":[{\"type\":\"surface\",\"colorbar\":{\"outlinewidth\":0,\"ticks\":\"\"},\"colorscale\":[[0.0,\"#0d0887\"],[0.1111111111111111,\"#46039f\"],[0.2222222222222222,\"#7201a8\"],[0.3333333333333333,\"#9c179e\"],[0.4444444444444444,\"#bd3786\"],[0.5555555555555556,\"#d8576b\"],[0.6666666666666666,\"#ed7953\"],[0.7777777777777778,\"#fb9f3a\"],[0.8888888888888888,\"#fdca26\"],[1.0,\"#f0f921\"]]}],\"mesh3d\":[{\"type\":\"mesh3d\",\"colorbar\":{\"outlinewidth\":0,\"ticks\":\"\"}}],\"scatter\":[{\"fillpattern\":{\"fillmode\":\"overlay\",\"size\":10,\"solidity\":0.2},\"type\":\"scatter\"}],\"parcoords\":[{\"type\":\"parcoords\",\"line\":{\"colorbar\":{\"outlinewidth\":0,\"ticks\":\"\"}}}],\"scatterpolargl\":[{\"type\":\"scatterpolargl\",\"marker\":{\"colorbar\":{\"outlinewidth\":0,\"ticks\":\"\"}}}],\"bar\":[{\"error_x\":{\"color\":\"#2a3f5f\"},\"error_y\":{\"color\":\"#2a3f5f\"},\"marker\":{\"line\":{\"color\":\"#E5ECF6\",\"width\":0.5},\"pattern\":{\"fillmode\":\"overlay\",\"size\":10,\"solidity\":0.2}},\"type\":\"bar\"}],\"scattergeo\":[{\"type\":\"scattergeo\",\"marker\":{\"colorbar\":{\"outlinewidth\":0,\"ticks\":\"\"}}}],\"scatterpolar\":[{\"type\":\"scatterpolar\",\"marker\":{\"colorbar\":{\"outlinewidth\":0,\"ticks\":\"\"}}}],\"histogram\":[{\"marker\":{\"pattern\":{\"fillmode\":\"overlay\",\"size\":10,\"solidity\":0.2}},\"type\":\"histogram\"}],\"scattergl\":[{\"type\":\"scattergl\",\"marker\":{\"colorbar\":{\"outlinewidth\":0,\"ticks\":\"\"}}}],\"scatter3d\":[{\"type\":\"scatter3d\",\"line\":{\"colorbar\":{\"outlinewidth\":0,\"ticks\":\"\"}},\"marker\":{\"colorbar\":{\"outlinewidth\":0,\"ticks\":\"\"}}}],\"scattermapbox\":[{\"type\":\"scattermapbox\",\"marker\":{\"colorbar\":{\"outlinewidth\":0,\"ticks\":\"\"}}}],\"scatterternary\":[{\"type\":\"scatterternary\",\"marker\":{\"colorbar\":{\"outlinewidth\":0,\"ticks\":\"\"}}}],\"scattercarpet\":[{\"type\":\"scattercarpet\",\"marker\":{\"colorbar\":{\"outlinewidth\":0,\"ticks\":\"\"}}}],\"carpet\":[{\"aaxis\":{\"endlinecolor\":\"#2a3f5f\",\"gridcolor\":\"white\",\"linecolor\":\"white\",\"minorgridcolor\":\"white\",\"startlinecolor\":\"#2a3f5f\"},\"baxis\":{\"endlinecolor\":\"#2a3f5f\",\"gridcolor\":\"white\",\"linecolor\":\"white\",\"minorgridcolor\":\"white\",\"startlinecolor\":\"#2a3f5f\"},\"type\":\"carpet\"}],\"table\":[{\"cells\":{\"fill\":{\"color\":\"#EBF0F8\"},\"line\":{\"color\":\"white\"}},\"header\":{\"fill\":{\"color\":\"#C8D4E3\"},\"line\":{\"color\":\"white\"}},\"type\":\"table\"}],\"barpolar\":[{\"marker\":{\"line\":{\"color\":\"#E5ECF6\",\"width\":0.5},\"pattern\":{\"fillmode\":\"overlay\",\"size\":10,\"solidity\":0.2}},\"type\":\"barpolar\"}],\"pie\":[{\"automargin\":true,\"type\":\"pie\"}]},\"layout\":{\"autotypenumbers\":\"strict\",\"colorway\":[\"#636efa\",\"#EF553B\",\"#00cc96\",\"#ab63fa\",\"#FFA15A\",\"#19d3f3\",\"#FF6692\",\"#B6E880\",\"#FF97FF\",\"#FECB52\"],\"font\":{\"color\":\"#2a3f5f\"},\"hovermode\":\"closest\",\"hoverlabel\":{\"align\":\"left\"},\"paper_bgcolor\":\"white\",\"plot_bgcolor\":\"#E5ECF6\",\"polar\":{\"bgcolor\":\"#E5ECF6\",\"angularaxis\":{\"gridcolor\":\"white\",\"linecolor\":\"white\",\"ticks\":\"\"},\"radialaxis\":{\"gridcolor\":\"white\",\"linecolor\":\"white\",\"ticks\":\"\"}},\"ternary\":{\"bgcolor\":\"#E5ECF6\",\"aaxis\":{\"gridcolor\":\"white\",\"linecolor\":\"white\",\"ticks\":\"\"},\"baxis\":{\"gridcolor\":\"white\",\"linecolor\":\"white\",\"ticks\":\"\"},\"caxis\":{\"gridcolor\":\"white\",\"linecolor\":\"white\",\"ticks\":\"\"}},\"coloraxis\":{\"colorbar\":{\"outlinewidth\":0,\"ticks\":\"\"}},\"colorscale\":{\"sequential\":[[0.0,\"#0d0887\"],[0.1111111111111111,\"#46039f\"],[0.2222222222222222,\"#7201a8\"],[0.3333333333333333,\"#9c179e\"],[0.4444444444444444,\"#bd3786\"],[0.5555555555555556,\"#d8576b\"],[0.6666666666666666,\"#ed7953\"],[0.7777777777777778,\"#fb9f3a\"],[0.8888888888888888,\"#fdca26\"],[1.0,\"#f0f921\"]],\"sequentialminus\":[[0.0,\"#0d0887\"],[0.1111111111111111,\"#46039f\"],[0.2222222222222222,\"#7201a8\"],[0.3333333333333333,\"#9c179e\"],[0.4444444444444444,\"#bd3786\"],[0.5555555555555556,\"#d8576b\"],[0.6666666666666666,\"#ed7953\"],[0.7777777777777778,\"#fb9f3a\"],[0.8888888888888888,\"#fdca26\"],[1.0,\"#f0f921\"]],\"diverging\":[[0,\"#8e0152\"],[0.1,\"#c51b7d\"],[0.2,\"#de77ae\"],[0.3,\"#f1b6da\"],[0.4,\"#fde0ef\"],[0.5,\"#f7f7f7\"],[0.6,\"#e6f5d0\"],[0.7,\"#b8e186\"],[0.8,\"#7fbc41\"],[0.9,\"#4d9221\"],[1,\"#276419\"]]},\"xaxis\":{\"gridcolor\":\"white\",\"linecolor\":\"white\",\"ticks\":\"\",\"title\":{\"standoff\":15},\"zerolinecolor\":\"white\",\"automargin\":true,\"zerolinewidth\":2},\"yaxis\":{\"gridcolor\":\"white\",\"linecolor\":\"white\",\"ticks\":\"\",\"title\":{\"standoff\":15},\"zerolinecolor\":\"white\",\"automargin\":true,\"zerolinewidth\":2},\"scene\":{\"xaxis\":{\"backgroundcolor\":\"#E5ECF6\",\"gridcolor\":\"white\",\"linecolor\":\"white\",\"showbackground\":true,\"ticks\":\"\",\"zerolinecolor\":\"white\",\"gridwidth\":2},\"yaxis\":{\"backgroundcolor\":\"#E5ECF6\",\"gridcolor\":\"white\",\"linecolor\":\"white\",\"showbackground\":true,\"ticks\":\"\",\"zerolinecolor\":\"white\",\"gridwidth\":2},\"zaxis\":{\"backgroundcolor\":\"#E5ECF6\",\"gridcolor\":\"white\",\"linecolor\":\"white\",\"showbackground\":true,\"ticks\":\"\",\"zerolinecolor\":\"white\",\"gridwidth\":2}},\"shapedefaults\":{\"line\":{\"color\":\"#2a3f5f\"}},\"annotationdefaults\":{\"arrowcolor\":\"#2a3f5f\",\"arrowhead\":0,\"arrowwidth\":1},\"geo\":{\"bgcolor\":\"white\",\"landcolor\":\"#E5ECF6\",\"subunitcolor\":\"white\",\"showland\":true,\"showlakes\":true,\"lakecolor\":\"white\"},\"title\":{\"x\":0.05},\"mapbox\":{\"style\":\"light\"}}}},                        {\"responsive\": true}                    ).then(function(){\n",
       "                            \n",
       "var gd = document.getElementById('9279c32f-f575-4239-b5f9-94251a415e34');\n",
       "var x = new MutationObserver(function (mutations, observer) {{\n",
       "        var display = window.getComputedStyle(gd).display;\n",
       "        if (!display || display === 'none') {{\n",
       "            console.log([gd, 'removed!']);\n",
       "            Plotly.purge(gd);\n",
       "            observer.disconnect();\n",
       "        }}\n",
       "}});\n",
       "\n",
       "// Listen for the removal of the full notebook cells\n",
       "var notebookContainer = gd.closest('#notebook-container');\n",
       "if (notebookContainer) {{\n",
       "    x.observe(notebookContainer, {childList: true});\n",
       "}}\n",
       "\n",
       "// Listen for the clearing of the current output cell\n",
       "var outputEl = gd.closest('.output');\n",
       "if (outputEl) {{\n",
       "    x.observe(outputEl, {childList: true});\n",
       "}}\n",
       "\n",
       "                        })                };                            </script>        </div>\n",
       "</body>\n",
       "</html>"
      ]
     },
     "metadata": {},
     "output_type": "display_data"
    }
   ],
   "source": [
    "if not config['tune_parameters']:\n",
    "    optuna_study = optuna.load_study(study_name=f'hyperparameters_tuning_{config[\"model\"]}_{config[\"metric\"]}', storage=f'sqlite:///{config[\"database_path\"]}')\n",
    "    \n",
    "fig = optuna.visualization.plot_param_importances(optuna_study)\n",
    "fig.show()"
   ]
  },
  {
   "cell_type": "markdown",
   "id": "da5cb3c6",
   "metadata": {
    "papermill": {
     "duration": 0.064216,
     "end_time": "2025-01-05T23:23:23.655605",
     "exception": false,
     "start_time": "2025-01-05T23:23:23.591389",
     "status": "completed"
    },
    "tags": []
   },
   "source": [
    "## Let's train the recommender with best parameter values"
   ]
  },
  {
   "cell_type": "code",
   "execution_count": 16,
   "id": "0a5c72a4",
   "metadata": {
    "execution": {
     "iopub.execute_input": "2025-01-05T23:23:23.787439Z",
     "iopub.status.busy": "2025-01-05T23:23:23.786897Z",
     "iopub.status.idle": "2025-01-05T23:23:46.755989Z",
     "shell.execute_reply": "2025-01-05T23:23:46.754772Z"
    },
    "papermill": {
     "duration": 23.037957,
     "end_time": "2025-01-05T23:23:46.758358",
     "exception": false,
     "start_time": "2025-01-05T23:23:23.720401",
     "status": "completed"
    },
    "tags": []
   },
   "outputs": [
    {
     "name": "stdout",
     "output_type": "stream",
     "text": [
      "RP3betaRecommender: Similarity column 38121 (100.0%), 1758.43 column/sec. Elapsed time 21.68 sec\n"
     ]
    }
   ],
   "source": [
    "if config['tune_best_params']:\n",
    "\n",
    "    if config['tune_parameters']:\n",
    "        best_params = optuna_study.best_trial.params\n",
    "    else: \n",
    "        with open(f'{K_PATH}/{GH_PATH}/{config[\"model\"]}Recommender/Optimizing{config[\"metric\"]}/best_params_{config[\"model\"]}_{config[\"metric\"]}.json', 'r') as best_params_json:\n",
    "            best_params = json.load(best_params_json)\n",
    "\n",
    "    recommender_instance = RP3betaRecommender(URM_train + URM_validation)\n",
    "    recommender_instance.fit(**best_params)"
   ]
  },
  {
   "cell_type": "markdown",
   "id": "deae147a",
   "metadata": {
    "papermill": {
     "duration": 0.06466,
     "end_time": "2025-01-05T23:23:46.888262",
     "exception": false,
     "start_time": "2025-01-05T23:23:46.823602",
     "status": "completed"
    },
    "tags": []
   },
   "source": [
    "# Testing"
   ]
  },
  {
   "cell_type": "markdown",
   "id": "7768bdb9",
   "metadata": {
    "papermill": {
     "duration": 0.070841,
     "end_time": "2025-01-05T23:23:47.023706",
     "exception": false,
     "start_time": "2025-01-05T23:23:46.952865",
     "status": "completed"
    },
    "tags": []
   },
   "source": [
    "Create the recommendations for the submission. "
   ]
  },
  {
   "cell_type": "code",
   "execution_count": 17,
   "id": "f1bc18c9",
   "metadata": {
    "execution": {
     "iopub.execute_input": "2025-01-05T23:23:47.157859Z",
     "iopub.status.busy": "2025-01-05T23:23:47.157363Z",
     "iopub.status.idle": "2025-01-05T23:24:17.325849Z",
     "shell.execute_reply": "2025-01-05T23:24:17.324375Z"
    },
    "papermill": {
     "duration": 30.303685,
     "end_time": "2025-01-05T23:24:17.394829",
     "exception": false,
     "start_time": "2025-01-05T23:23:47.091144",
     "status": "completed"
    },
    "tags": []
   },
   "outputs": [
    {
     "name": "stdout",
     "output_type": "stream",
     "text": [
      "Submission file saved as /kaggle/working/submission_RP3beta_MAP.csv\n"
     ]
    }
   ],
   "source": [
    "if config['tune_best_params']:\n",
    "\n",
    "    data_target_users_test = pd.read_csv('/kaggle/input/recommender-system-2024-challenge-polimi/data_target_users_test.csv')\n",
    "    create_submission(data_target_users_test, recommender_instance, f'/kaggle/working/submission_{config[\"model\"]}_{config[\"metric\"]}.csv')"
   ]
  },
  {
   "cell_type": "markdown",
   "id": "d02cea51",
   "metadata": {
    "execution": {
     "iopub.execute_input": "2024-11-14T00:04:16.877791Z",
     "iopub.status.busy": "2024-11-14T00:04:16.877275Z",
     "iopub.status.idle": "2024-11-14T00:04:16.883170Z",
     "shell.execute_reply": "2024-11-14T00:04:16.881889Z",
     "shell.execute_reply.started": "2024-11-14T00:04:16.877743Z"
    },
    "papermill": {
     "duration": 0.065981,
     "end_time": "2025-01-05T23:24:17.526535",
     "exception": false,
     "start_time": "2025-01-05T23:24:17.460554",
     "status": "completed"
    },
    "tags": []
   },
   "source": [
    "# Save Version on GitHub "
   ]
  },
  {
   "cell_type": "markdown",
   "id": "93a0cb86",
   "metadata": {
    "papermill": {
     "duration": 0.066031,
     "end_time": "2025-01-05T23:24:17.660356",
     "exception": false,
     "start_time": "2025-01-05T23:24:17.594325",
     "status": "completed"
    },
    "tags": []
   },
   "source": [
    "Write or import a json file where best hyperparameters are saved. "
   ]
  },
  {
   "cell_type": "code",
   "execution_count": 18,
   "id": "62fe8273",
   "metadata": {
    "execution": {
     "iopub.execute_input": "2025-01-05T23:24:17.793719Z",
     "iopub.status.busy": "2025-01-05T23:24:17.793194Z",
     "iopub.status.idle": "2025-01-05T23:24:18.711475Z",
     "shell.execute_reply": "2025-01-05T23:24:18.709882Z"
    },
    "papermill": {
     "duration": 0.988433,
     "end_time": "2025-01-05T23:24:18.713558",
     "exception": false,
     "start_time": "2025-01-05T23:24:17.725125",
     "status": "completed"
    },
    "tags": []
   },
   "outputs": [
    {
     "name": "stdout",
     "output_type": "stream",
     "text": [
      "File 'TrainedModels/WithKFCV/GraphBased/RP3betaRecommender/OptimizingMAP/best_params_RP3beta_MAP.json' updated successfully.\n"
     ]
    }
   ],
   "source": [
    "if config['tune_parameters']:\n",
    "    with open(f'/kaggle/working/best_params_{config[\"model\"]}_{config[\"metric\"]}.json', 'w') as params_file:\n",
    "        json.dump(optuna_study.best_params, params_file)\n",
    "        \n",
    "    if config['save_github']:\n",
    "        upload_file(\n",
    "            f'/kaggle/working/best_params_{config[\"model\"]}_{config[\"metric\"]}.json', \n",
    "            f'{GH_PATH}/{config[\"model\"]}Recommender/Optimizing{config[\"metric\"]}/best_params_{config[\"model\"]}_{config[\"metric\"]}.json', \n",
    "            f'{config[\"model\"]}_{config[\"metric\"]} tuning results (from kaggle notebook)',\n",
    "            repo\n",
    "        )\n",
    "elif config['copy_prev_best_params']:\n",
    "    shutil.copyfile(\n",
    "        f'{K_PATH}/{GH_PATH}/{config[\"model\"]}Recommender/Optimizing{config[\"metric\"]}/'\\\n",
    "        f'best_params_{config[\"model\"]}_{config[\"metric\"]}.json', \n",
    "        f'/kaggle/working/best_params_{config[\"model\"]}_{config[\"metric\"]}.json'\n",
    "    )"
   ]
  },
  {
   "cell_type": "markdown",
   "id": "ddae276f",
   "metadata": {
    "execution": {
     "iopub.execute_input": "2024-11-14T00:41:34.294243Z",
     "iopub.status.busy": "2024-11-14T00:41:34.293739Z",
     "iopub.status.idle": "2024-11-14T00:41:34.301478Z",
     "shell.execute_reply": "2024-11-14T00:41:34.299869Z",
     "shell.execute_reply.started": "2024-11-14T00:41:34.294186Z"
    },
    "papermill": {
     "duration": 0.065772,
     "end_time": "2025-01-05T23:24:18.863104",
     "exception": false,
     "start_time": "2025-01-05T23:24:18.797332",
     "status": "completed"
    },
    "tags": []
   },
   "source": [
    "Save the history of the tuned model."
   ]
  },
  {
   "cell_type": "code",
   "execution_count": 19,
   "id": "580eeaf4",
   "metadata": {
    "execution": {
     "iopub.execute_input": "2025-01-05T23:24:18.996689Z",
     "iopub.status.busy": "2025-01-05T23:24:18.996071Z",
     "iopub.status.idle": "2025-01-05T23:24:20.352883Z",
     "shell.execute_reply": "2025-01-05T23:24:20.351420Z"
    },
    "papermill": {
     "duration": 1.425736,
     "end_time": "2025-01-05T23:24:20.355174",
     "exception": false,
     "start_time": "2025-01-05T23:24:18.929438",
     "status": "completed"
    },
    "tags": []
   },
   "outputs": [
    {
     "name": "stdout",
     "output_type": "stream",
     "text": [
      "File 'TrainedModels/WithKFCV/GraphBased/RP3betaRecommender/OptimizingMAP/history_RP3beta_MAP.db' updated successfully.\n"
     ]
    }
   ],
   "source": [
    "if config['save_github'] and config['tune_parameters']:\n",
    "    upload_file(\n",
    "        config['database_path'], \n",
    "        f'{GH_PATH}/{config[\"model\"]}Recommender/Optimizing{config[\"metric\"]}/history_{config[\"model\"]}_{config[\"metric\"]}.db',\n",
    "        f'Tuning {config[\"model\"]}_{config[\"metric\"]} db updated results (from kaggle notebook)',\n",
    "        repo\n",
    "    )"
   ]
  },
  {
   "cell_type": "markdown",
   "id": "cf4de49c",
   "metadata": {
    "papermill": {
     "duration": 0.064719,
     "end_time": "2025-01-05T23:24:20.486742",
     "exception": false,
     "start_time": "2025-01-05T23:24:20.422023",
     "status": "completed"
    },
    "tags": []
   },
   "source": [
    "Save the best trained model and its submission."
   ]
  },
  {
   "cell_type": "code",
   "execution_count": 20,
   "id": "31a4aef6",
   "metadata": {
    "execution": {
     "iopub.execute_input": "2025-01-05T23:24:20.622181Z",
     "iopub.status.busy": "2025-01-05T23:24:20.621726Z",
     "iopub.status.idle": "2025-01-05T23:24:22.393870Z",
     "shell.execute_reply": "2025-01-05T23:24:22.392496Z"
    },
    "papermill": {
     "duration": 1.841324,
     "end_time": "2025-01-05T23:24:22.396325",
     "exception": false,
     "start_time": "2025-01-05T23:24:20.555001",
     "status": "completed"
    },
    "tags": []
   },
   "outputs": [
    {
     "name": "stdout",
     "output_type": "stream",
     "text": [
      "File 'TrainedModels/WithKFCV/GraphBased/RP3betaRecommender/OptimizingMAP/Submission/submission_RP3beta_MAP.csv' updated successfully.\n"
     ]
    }
   ],
   "source": [
    "if config['save_github'] and config['tune_best_params']: \n",
    "    upload_file(\n",
    "                f'/kaggle/working/submission_{config[\"model\"]}_{config[\"metric\"]}.csv', \n",
    "                f'{GH_PATH}/{config[\"model\"]}Recommender/Optimizing{config[\"metric\"]}/Submission/submission_{config[\"model\"]}_{config[\"metric\"]}.csv', \n",
    "                f'New {config[\"model\"]}_{config[\"metric\"]} submission (from kaggle notebook)',\n",
    "                repo\n",
    "            )"
   ]
  }
 ],
 "metadata": {
  "kaggle": {
   "accelerator": "none",
   "dataSources": [
    {
     "databundleVersionId": 9982103,
     "sourceId": 87439,
     "sourceType": "competition"
    }
   ],
   "dockerImageVersionId": 30822,
   "isGpuEnabled": false,
   "isInternetEnabled": true,
   "language": "python",
   "sourceType": "notebook"
  },
  "kernelspec": {
   "display_name": "Python 3",
   "language": "python",
   "name": "python3"
  },
  "language_info": {
   "codemirror_mode": {
    "name": "ipython",
    "version": 3
   },
   "file_extension": ".py",
   "mimetype": "text/x-python",
   "name": "python",
   "nbconvert_exporter": "python",
   "pygments_lexer": "ipython3",
   "version": "3.10.12"
  },
  "papermill": {
   "default_parameters": {},
   "duration": 16132.765951,
   "end_time": "2025-01-05T23:24:24.121343",
   "environment_variables": {},
   "exception": null,
   "input_path": "__notebook__.ipynb",
   "output_path": "__notebook__.ipynb",
   "parameters": {},
   "start_time": "2025-01-05T18:55:31.355392",
   "version": "2.6.0"
  }
 },
 "nbformat": 4,
 "nbformat_minor": 5
}
