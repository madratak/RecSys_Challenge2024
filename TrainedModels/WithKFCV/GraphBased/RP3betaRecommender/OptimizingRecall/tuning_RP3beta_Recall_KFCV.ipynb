{
 "cells": [
  {
   "cell_type": "markdown",
   "id": "afe76478",
   "metadata": {
    "papermill": {
     "duration": 0.007384,
     "end_time": "2025-01-06T23:11:02.194289",
     "exception": false,
     "start_time": "2025-01-06T23:11:02.186905",
     "status": "completed"
    },
    "tags": []
   },
   "source": [
    "# Set connection with GitHub"
   ]
  },
  {
   "cell_type": "code",
   "execution_count": 1,
   "id": "b4eeb553",
   "metadata": {
    "execution": {
     "iopub.execute_input": "2025-01-06T23:11:02.209828Z",
     "iopub.status.busy": "2025-01-06T23:11:02.209236Z",
     "iopub.status.idle": "2025-01-06T23:11:02.215692Z",
     "shell.execute_reply": "2025-01-06T23:11:02.214435Z"
    },
    "papermill": {
     "duration": 0.016434,
     "end_time": "2025-01-06T23:11:02.217801",
     "exception": false,
     "start_time": "2025-01-06T23:11:02.201367",
     "status": "completed"
    },
    "tags": []
   },
   "outputs": [],
   "source": [
    "# ! cd /kaggle/working && rm -rf RECsys_Challenge2024"
   ]
  },
  {
   "cell_type": "code",
   "execution_count": 2,
   "id": "9f3008b8",
   "metadata": {
    "_cell_guid": "b1076dfc-b9ad-4769-8c92-a6c4dae69d19",
    "_uuid": "8f2839f25d086af736a60e9eeb907d3b93b6e0e5",
    "execution": {
     "iopub.execute_input": "2025-01-06T23:11:02.231644Z",
     "iopub.status.busy": "2025-01-06T23:11:02.231231Z",
     "iopub.status.idle": "2025-01-06T23:11:20.334389Z",
     "shell.execute_reply": "2025-01-06T23:11:20.332864Z"
    },
    "papermill": {
     "duration": 18.112839,
     "end_time": "2025-01-06T23:11:20.336919",
     "exception": false,
     "start_time": "2025-01-06T23:11:02.224080",
     "status": "completed"
    },
    "tags": []
   },
   "outputs": [
    {
     "name": "stdout",
     "output_type": "stream",
     "text": [
      "Cloning into 'RECsys_Challenge2024'...\r\n",
      "remote: Enumerating objects: 7094, done.\u001b[K\r\n",
      "remote: Counting objects: 100% (272/272), done.\u001b[K\r\n",
      "remote: Compressing objects: 100% (236/236), done.\u001b[K\r\n",
      "remote: Total 7094 (delta 118), reused 7 (delta 2), pack-reused 6822 (from 3)\u001b[K\r\n",
      "Receiving objects: 100% (7094/7094), 415.78 MiB | 32.21 MiB/s, done.\r\n",
      "Resolving deltas: 100% (3849/3849), done.\r\n",
      "Updating files: 100% (506/506), done.\r\n"
     ]
    }
   ],
   "source": [
    "from kaggle_secrets import UserSecretsClient\n",
    "\n",
    "token = UserSecretsClient().get_secret(\"Token\")\n",
    "\n",
    "! git clone https://{token}@github.com/madratak/RECsys_Challenge2024.git"
   ]
  },
  {
   "cell_type": "code",
   "execution_count": 3,
   "id": "54a7bb7e",
   "metadata": {
    "execution": {
     "iopub.execute_input": "2025-01-06T23:11:20.362846Z",
     "iopub.status.busy": "2025-01-06T23:11:20.362402Z",
     "iopub.status.idle": "2025-01-06T23:11:26.966388Z",
     "shell.execute_reply": "2025-01-06T23:11:26.964956Z"
    },
    "papermill": {
     "duration": 6.619303,
     "end_time": "2025-01-06T23:11:26.968739",
     "exception": false,
     "start_time": "2025-01-06T23:11:20.349436",
     "status": "completed"
    },
    "tags": []
   },
   "outputs": [
    {
     "name": "stdout",
     "output_type": "stream",
     "text": [
      "Collecting PyGithub\r\n",
      "  Downloading PyGithub-2.5.0-py3-none-any.whl.metadata (3.9 kB)\r\n",
      "Requirement already satisfied: requests in /usr/local/lib/python3.10/dist-packages (2.32.3)\r\n",
      "Collecting pynacl>=1.4.0 (from PyGithub)\r\n",
      "  Downloading PyNaCl-1.5.0-cp36-abi3-manylinux_2_17_x86_64.manylinux2014_x86_64.manylinux_2_24_x86_64.whl.metadata (8.6 kB)\r\n",
      "Requirement already satisfied: pyjwt>=2.4.0 in /usr/local/lib/python3.10/dist-packages (from pyjwt[crypto]>=2.4.0->PyGithub) (2.9.0)\r\n",
      "Requirement already satisfied: typing-extensions>=4.0.0 in /usr/local/lib/python3.10/dist-packages (from PyGithub) (4.12.2)\r\n",
      "Requirement already satisfied: urllib3>=1.26.0 in /usr/local/lib/python3.10/dist-packages (from PyGithub) (2.2.3)\r\n",
      "Requirement already satisfied: Deprecated in /usr/local/lib/python3.10/dist-packages (from PyGithub) (1.2.15)\r\n",
      "Requirement already satisfied: charset-normalizer<4,>=2 in /usr/local/lib/python3.10/dist-packages (from requests) (3.3.2)\r\n",
      "Requirement already satisfied: idna<4,>=2.5 in /usr/local/lib/python3.10/dist-packages (from requests) (3.10)\r\n",
      "Requirement already satisfied: certifi>=2017.4.17 in /usr/local/lib/python3.10/dist-packages (from requests) (2024.8.30)\r\n",
      "Requirement already satisfied: cryptography>=3.4.0 in /usr/local/lib/python3.10/dist-packages (from pyjwt[crypto]>=2.4.0->PyGithub) (43.0.1)\r\n",
      "Requirement already satisfied: cffi>=1.4.1 in /usr/local/lib/python3.10/dist-packages (from pynacl>=1.4.0->PyGithub) (1.17.1)\r\n",
      "Requirement already satisfied: wrapt<2,>=1.10 in /usr/local/lib/python3.10/dist-packages (from Deprecated->PyGithub) (1.16.0)\r\n",
      "Requirement already satisfied: pycparser in /usr/local/lib/python3.10/dist-packages (from cffi>=1.4.1->pynacl>=1.4.0->PyGithub) (2.22)\r\n",
      "Downloading PyGithub-2.5.0-py3-none-any.whl (375 kB)\r\n",
      "\u001b[2K   \u001b[90m━━━━━━━━━━━━━━━━━━━━━━━━━━━━━━━━━━━━━━━━\u001b[0m \u001b[32m375.9/375.9 kB\u001b[0m \u001b[31m8.1 MB/s\u001b[0m eta \u001b[36m0:00:00\u001b[0m\r\n",
      "\u001b[?25hDownloading PyNaCl-1.5.0-cp36-abi3-manylinux_2_17_x86_64.manylinux2014_x86_64.manylinux_2_24_x86_64.whl (856 kB)\r\n",
      "\u001b[2K   \u001b[90m━━━━━━━━━━━━━━━━━━━━━━━━━━━━━━━━━━━━━━━━\u001b[0m \u001b[32m856.7/856.7 kB\u001b[0m \u001b[31m21.2 MB/s\u001b[0m eta \u001b[36m0:00:00\u001b[0m\r\n",
      "\u001b[?25hInstalling collected packages: pynacl, PyGithub\r\n",
      "Successfully installed PyGithub-2.5.0 pynacl-1.5.0\r\n"
     ]
    }
   ],
   "source": [
    "! pip install PyGithub requests"
   ]
  },
  {
   "cell_type": "code",
   "execution_count": 4,
   "id": "8c119e7a",
   "metadata": {
    "_kg_hide-input": false,
    "execution": {
     "iopub.execute_input": "2025-01-06T23:11:26.996282Z",
     "iopub.status.busy": "2025-01-06T23:11:26.995828Z",
     "iopub.status.idle": "2025-01-06T23:14:08.662360Z",
     "shell.execute_reply": "2025-01-06T23:14:08.660981Z"
    },
    "papermill": {
     "duration": 161.682368,
     "end_time": "2025-01-06T23:14:08.664668",
     "exception": false,
     "start_time": "2025-01-06T23:11:26.982300",
     "status": "completed"
    },
    "tags": []
   },
   "outputs": [
    {
     "name": "stdout",
     "output_type": "stream",
     "text": [
      "/kaggle/working/RECsys_Challenge2024\n",
      "run_compile_all_cython: Found 11 Cython files in 5 folders...\r\n",
      "run_compile_all_cython: All files will be compiled using your current python environment: '/usr/bin/python3'\r\n",
      "Compiling [1/11]: MatrixFactorization_Cython_Epoch.pyx... \r\n",
      "In file included from \u001b[01m\u001b[K/usr/local/lib/python3.10/dist-packages/numpy/core/include/numpy/ndarraytypes.h:1929\u001b[m\u001b[K,\r\n",
      "                 from \u001b[01m\u001b[K/usr/local/lib/python3.10/dist-packages/numpy/core/include/numpy/ndarrayobject.h:12\u001b[m\u001b[K,\r\n",
      "                 from \u001b[01m\u001b[K/usr/local/lib/python3.10/dist-packages/numpy/core/include/numpy/arrayobject.h:5\u001b[m\u001b[K,\r\n",
      "                 from \u001b[01m\u001b[KMatrixFactorization_Cython_Epoch.c:1252\u001b[m\u001b[K:\r\n",
      "\u001b[01m\u001b[K/usr/local/lib/python3.10/dist-packages/numpy/core/include/numpy/npy_1_7_deprecated_api.h:17:2:\u001b[m\u001b[K \u001b[01;35m\u001b[Kwarning: \u001b[m\u001b[K#warning \"Using deprecated NumPy API, disable it with \" \"#define NPY_NO_DEPRECATED_API NPY_1_7_API_VERSION\" [\u001b[01;35m\u001b[K\u001b]8;;https://gcc.gnu.org/onlinedocs/gcc/Warning-Options.html#index-Wcpp\u0007-Wcpp\u001b]8;;\u0007\u001b[m\u001b[K]\r\n",
      "   17 | #\u001b[01;35m\u001b[Kwarning\u001b[m\u001b[K \"Using deprecated NumPy API, disable it with \" \\\r\n",
      "      |  \u001b[01;35m\u001b[K^~~~~~~\u001b[m\u001b[K\r\n",
      "\u001b[01m\u001b[KMatrixFactorization_Cython_Epoch.c:\u001b[m\u001b[K In function ‘\u001b[01m\u001b[K__pyx_pf_32MatrixFactorization_Cython_Epoch_32MatrixFactorization_Cython_Epoch_10epochIteration_Cython_ASY_SVD_SGD\u001b[m\u001b[K’:\r\n",
      "\u001b[01m\u001b[KMatrixFactorization_Cython_Epoch.c:26256:68:\u001b[m\u001b[K \u001b[01;35m\u001b[Kwarning: \u001b[m\u001b[K‘\u001b[01m\u001b[K__pyx_v_end_pos_seen_items\u001b[m\u001b[K’ may be used uninitialized in this function [\u001b[01;35m\u001b[K\u001b]8;;https://gcc.gnu.org/onlinedocs/gcc/Warning-Options.html#index-Wmaybe-uninitialized\u0007-Wmaybe-uninitialized\u001b]8;;\u0007\u001b[m\u001b[K]\r\n",
      "26256 |         for (__pyx_t_22 = __pyx_v_start_pos_seen_items; \u001b[01;35m\u001b[K__pyx_t_22 < __pyx_t_21\u001b[m\u001b[K; __pyx_t_22+=1) {\r\n",
      "      |                                                         \u001b[01;35m\u001b[K~~~~~~~~~~~^~~~~~~~~~~~\u001b[m\u001b[K\r\n",
      "\u001b[01m\u001b[KMatrixFactorization_Cython_Epoch.c:26256:68:\u001b[m\u001b[K \u001b[01;35m\u001b[Kwarning: \u001b[m\u001b[K‘\u001b[01m\u001b[K__pyx_v_start_pos_seen_items\u001b[m\u001b[K’ may be used uninitialized in this function [\u001b[01;35m\u001b[K\u001b]8;;https://gcc.gnu.org/onlinedocs/gcc/Warning-Options.html#index-Wmaybe-uninitialized\u0007-Wmaybe-uninitialized\u001b]8;;\u0007\u001b[m\u001b[K]\r\n",
      "/usr/local/lib/python3.10/dist-packages/Cython/Compiler/Main.py:381: FutureWarning: Cython directive 'language_level' not set, using '3str' for now (Py3). This has changed from earlier releases! File: /kaggle/working/RECsys_Challenge2024/Recommenders/MatrixFactorization/Cython/MatrixFactorization_Cython_Epoch.pyx\r\n",
      "  tree = Parsing.p_module(s, pxd, full_module_name)\r\n",
      "Compiling [1/11]: MatrixFactorization_Cython_Epoch.pyx... PASS\r\n",
      "\r\n",
      "Compiling [2/11]: MatrixFactorizationImpressions_Cython_Epoch.pyx... \r\n",
      "In file included from \u001b[01m\u001b[K/usr/local/lib/python3.10/dist-packages/numpy/core/include/numpy/ndarraytypes.h:1929\u001b[m\u001b[K,\r\n",
      "                 from \u001b[01m\u001b[K/usr/local/lib/python3.10/dist-packages/numpy/core/include/numpy/ndarrayobject.h:12\u001b[m\u001b[K,\r\n",
      "                 from \u001b[01m\u001b[K/usr/local/lib/python3.10/dist-packages/numpy/core/include/numpy/arrayobject.h:5\u001b[m\u001b[K,\r\n",
      "                 from \u001b[01m\u001b[KMatrixFactorizationImpressions_Cython_Epoch.c:1252\u001b[m\u001b[K:\r\n",
      "\u001b[01m\u001b[K/usr/local/lib/python3.10/dist-packages/numpy/core/include/numpy/npy_1_7_deprecated_api.h:17:2:\u001b[m\u001b[K \u001b[01;35m\u001b[Kwarning: \u001b[m\u001b[K#warning \"Using deprecated NumPy API, disable it with \" \"#define NPY_NO_DEPRECATED_API NPY_1_7_API_VERSION\" [\u001b[01;35m\u001b[K\u001b]8;;https://gcc.gnu.org/onlinedocs/gcc/Warning-Options.html#index-Wcpp\u0007-Wcpp\u001b]8;;\u0007\u001b[m\u001b[K]\r\n",
      "   17 | #\u001b[01;35m\u001b[Kwarning\u001b[m\u001b[K \"Using deprecated NumPy API, disable it with \" \\\r\n",
      "      |  \u001b[01;35m\u001b[K^~~~~~~\u001b[m\u001b[K\r\n",
      "\u001b[01m\u001b[KMatrixFactorizationImpressions_Cython_Epoch.c:\u001b[m\u001b[K In function ‘\u001b[01m\u001b[K__pyx_f_43MatrixFactorizationImpressions_Cython_Epoch_32MatrixFactorization_Cython_Epoch_sampleBPR_Cython\u001b[m\u001b[K’:\r\n",
      "\u001b[01m\u001b[KMatrixFactorizationImpressions_Cython_Epoch.c:30353:17:\u001b[m\u001b[K \u001b[01;35m\u001b[Kwarning: \u001b[m\u001b[K‘\u001b[01m\u001b[K__pyx_v_start_pos_impression_items\u001b[m\u001b[K’ may be used uninitialized in this function [\u001b[01;35m\u001b[K\u001b]8;;https://gcc.gnu.org/onlinedocs/gcc/Warning-Options.html#index-Wmaybe-uninitialized\u0007-Wmaybe-uninitialized\u001b]8;;\u0007\u001b[m\u001b[K]\r\n",
      "30353 |       \u001b[01;35m\u001b[K__pyx_t_4 = (__pyx_v_start_pos_impression_items + __pyx_v_index)\u001b[m\u001b[K;\r\n",
      "      |       \u001b[01;35m\u001b[K~~~~~~~~~~^~~~~~~~~~~~~~~~~~~~~~~~~~~~~~~~~~~~~~~~~~~~~~~~~~~~~~\u001b[m\u001b[K\r\n",
      "\u001b[01m\u001b[KMatrixFactorizationImpressions_Cython_Epoch.c:\u001b[m\u001b[K In function ‘\u001b[01m\u001b[K__pyx_pf_43MatrixFactorizationImpressions_Cython_Epoch_32MatrixFactorization_Cython_Epoch_10epochIteration_Cython_ASY_SVD_SGD\u001b[m\u001b[K’:\r\n",
      "\u001b[01m\u001b[KMatrixFactorizationImpressions_Cython_Epoch.c:26112:66:\u001b[m\u001b[K \u001b[01;35m\u001b[Kwarning: \u001b[m\u001b[K‘\u001b[01m\u001b[K__pyx_v_end_pos_seen_items\u001b[m\u001b[K’ may be used uninitialized in this function [\u001b[01;35m\u001b[K\u001b]8;;https://gcc.gnu.org/onlinedocs/gcc/Warning-Options.html#index-Wmaybe-uninitialized\u0007-Wmaybe-uninitialized\u001b]8;;\u0007\u001b[m\u001b[K]\r\n",
      "26112 |       for (__pyx_t_22 = __pyx_v_start_pos_seen_items; \u001b[01;35m\u001b[K__pyx_t_22 < __pyx_t_21\u001b[m\u001b[K; __pyx_t_22+=1) {\r\n",
      "      |                                                       \u001b[01;35m\u001b[K~~~~~~~~~~~^~~~~~~~~~~~\u001b[m\u001b[K\r\n",
      "\u001b[01m\u001b[KMatrixFactorizationImpressions_Cython_Epoch.c:26112:66:\u001b[m\u001b[K \u001b[01;35m\u001b[Kwarning: \u001b[m\u001b[K‘\u001b[01m\u001b[K__pyx_v_start_pos_seen_items\u001b[m\u001b[K’ may be used uninitialized in this function [\u001b[01;35m\u001b[K\u001b]8;;https://gcc.gnu.org/onlinedocs/gcc/Warning-Options.html#index-Wmaybe-uninitialized\u0007-Wmaybe-uninitialized\u001b]8;;\u0007\u001b[m\u001b[K]\r\n",
      "/usr/local/lib/python3.10/dist-packages/Cython/Compiler/Main.py:381: FutureWarning: Cython directive 'language_level' not set, using '3str' for now (Py3). This has changed from earlier releases! File: /kaggle/working/RECsys_Challenge2024/Recommenders/MatrixFactorization/Cython/MatrixFactorizationImpressions_Cython_Epoch.pyx\r\n",
      "  tree = Parsing.p_module(s, pxd, full_module_name)\r\n",
      "Compiling [2/11]: MatrixFactorizationImpressions_Cython_Epoch.pyx... PASS\r\n",
      "\r\n",
      "Compiling [3/11]: Compute_Similarity_Cython.pyx... \r\n",
      "warning: Compute_Similarity_Cython.pyx:21:0: The 'IF' statement is deprecated and will be removed in a future Cython version. Consider using runtime conditions or C macros instead. See https://github.com/cython/cython/issues/4310\r\n",
      "In file included from \u001b[01m\u001b[K/usr/local/lib/python3.10/dist-packages/numpy/core/include/numpy/ndarraytypes.h:1929\u001b[m\u001b[K,\r\n",
      "                 from \u001b[01m\u001b[K/usr/local/lib/python3.10/dist-packages/numpy/core/include/numpy/ndarrayobject.h:12\u001b[m\u001b[K,\r\n",
      "                 from \u001b[01m\u001b[K/usr/local/lib/python3.10/dist-packages/numpy/core/include/numpy/arrayobject.h:5\u001b[m\u001b[K,\r\n",
      "                 from \u001b[01m\u001b[KCompute_Similarity_Cython.c:1252\u001b[m\u001b[K:\r\n",
      "\u001b[01m\u001b[K/usr/local/lib/python3.10/dist-packages/numpy/core/include/numpy/npy_1_7_deprecated_api.h:17:2:\u001b[m\u001b[K \u001b[01;35m\u001b[Kwarning: \u001b[m\u001b[K#warning \"Using deprecated NumPy API, disable it with \" \"#define NPY_NO_DEPRECATED_API NPY_1_7_API_VERSION\" [\u001b[01;35m\u001b[K\u001b]8;;https://gcc.gnu.org/onlinedocs/gcc/Warning-Options.html#index-Wcpp\u0007-Wcpp\u001b]8;;\u0007\u001b[m\u001b[K]\r\n",
      "   17 | #\u001b[01;35m\u001b[Kwarning\u001b[m\u001b[K \"Using deprecated NumPy API, disable it with \" \\\r\n",
      "      |  \u001b[01;35m\u001b[K^~~~~~~\u001b[m\u001b[K\r\n",
      "/usr/local/lib/python3.10/dist-packages/Cython/Compiler/Main.py:381: FutureWarning: Cython directive 'language_level' not set, using '3str' for now (Py3). This has changed from earlier releases! File: /kaggle/working/RECsys_Challenge2024/Recommenders/Similarity/Cython/Compute_Similarity_Cython.pyx\r\n",
      "  tree = Parsing.p_module(s, pxd, full_module_name)\r\n",
      "warning: Compute_Similarity_Cython.pyx:21:0: The 'IF' statement is deprecated and will be removed in a future Cython version. Consider using runtime conditions or C macros instead. See https://github.com/cython/cython/issues/4310\r\n",
      "Compiling [3/11]: Compute_Similarity_Cython.pyx... PASS\r\n",
      "\r\n",
      "Compiling [4/11]: SLIM_BPR_Cython_Epoch.pyx... \r\n",
      "warning: SLIM_BPR_Cython_Epoch.pyx:24:0: The 'IF' statement is deprecated and will be removed in a future Cython version. Consider using runtime conditions or C macros instead. See https://github.com/cython/cython/issues/4310\r\n",
      "warning: SLIM_BPR_Cython_Epoch.pyx:632:34: Non-trivial type declarators in shared declaration (e.g. mix of pointers and values). Each pointer declaration should be on its own line.\r\n",
      "warning: SLIM_BPR_Cython_Epoch.pyx:632:66: Non-trivial type declarators in shared declaration (e.g. mix of pointers and values). Each pointer declaration should be on its own line.\r\n",
      "warning: SLIM_BPR_Cython_Epoch.pyx:817:35: Non-trivial type declarators in shared declaration (e.g. mix of pointers and values). Each pointer declaration should be on its own line.\r\n",
      "warning: SLIM_BPR_Cython_Epoch.pyx:817:52: Non-trivial type declarators in shared declaration (e.g. mix of pointers and values). Each pointer declaration should be on its own line.\r\n",
      "warning: SLIM_BPR_Cython_Epoch.pyx:916:35: Non-trivial type declarators in shared declaration (e.g. mix of pointers and values). Each pointer declaration should be on its own line.\r\n",
      "warning: SLIM_BPR_Cython_Epoch.pyx:916:53: Non-trivial type declarators in shared declaration (e.g. mix of pointers and values). Each pointer declaration should be on its own line.\r\n",
      "warning: SLIM_BPR_Cython_Epoch.pyx:916:69: Non-trivial type declarators in shared declaration (e.g. mix of pointers and values). Each pointer declaration should be on its own line.\r\n",
      "warning: SLIM_BPR_Cython_Epoch.pyx:1051:35: Non-trivial type declarators in shared declaration (e.g. mix of pointers and values). Each pointer declaration should be on its own line.\r\n",
      "warning: SLIM_BPR_Cython_Epoch.pyx:1051:42: Non-trivial type declarators in shared declaration (e.g. mix of pointers and values). Each pointer declaration should be on its own line.\r\n",
      "warning: SLIM_BPR_Cython_Epoch.pyx:1052:35: Non-trivial type declarators in shared declaration (e.g. mix of pointers and values). Each pointer declaration should be on its own line.\r\n",
      "warning: SLIM_BPR_Cython_Epoch.pyx:1052:53: Non-trivial type declarators in shared declaration (e.g. mix of pointers and values). Each pointer declaration should be on its own line.\r\n",
      "\r\n",
      "Error compiling Cython file:\r\n",
      "------------------------------------------------------------\r\n",
      "...\r\n",
      "            vector_pointer_to_list_elements[index].head = current_element\r\n",
      "            current_element = current_element.higher\r\n",
      "\r\n",
      "\r\n",
      "        # Sort array elements on their data field\r\n",
      "        qsort(vector_pointer_to_list_elements, list_length, sizeof(head_pointer_tree_s), compare_struct_on_data)\r\n",
      "                                                                                         ^\r\n",
      "------------------------------------------------------------\r\n",
      "\r\n",
      "SLIM_BPR_Cython_Epoch.pyx:990:89: Cannot assign type 'int (const void *, const void *) except? -1' to 'int (*)(const_void *, const_void *) noexcept'. Exception values are incompatible. Suggest adding 'noexcept' to the type of 'compare_struct_on_data'.\r\n",
      "\r\n",
      "Error compiling Cython file:\r\n",
      "------------------------------------------------------------\r\n",
      "...\r\n",
      "        # Sort array elements on their data field\r\n",
      "        qsort(vector_pointer_to_list_elements, list_length, sizeof(head_pointer_tree_s), compare_struct_on_data)\r\n",
      "\r\n",
      "        # Sort only the TopK according to their column field\r\n",
      "        # Sort is from lower to higher, therefore the elements to be considered are from len-topK to len\r\n",
      "        qsort(&vector_pointer_to_list_elements[list_length-TopK], TopK, sizeof(head_pointer_tree_s), compare_struct_on_column)\r\n",
      "                                                                                                     ^\r\n",
      "------------------------------------------------------------\r\n",
      "\r\n",
      "SLIM_BPR_Cython_Epoch.pyx:994:101: Cannot assign type 'int (const void *, const void *) except? -1' to 'int (*)(const_void *, const_void *) noexcept'. Exception values are incompatible. Suggest adding 'noexcept' to the type of 'compare_struct_on_column'.\r\n",
      "Traceback (most recent call last):\r\n",
      "  File \"/kaggle/working/RECsys_Challenge2024/CythonCompiler/compile_script.py\", line 48, in <module>\r\n",
      "    setup(\r\n",
      "  File \"/usr/local/lib/python3.10/dist-packages/setuptools/__init__.py\", line 108, in setup\r\n",
      "    return distutils.core.setup(**attrs)\r\n",
      "  File \"/usr/local/lib/python3.10/dist-packages/setuptools/_distutils/core.py\", line 184, in setup\r\n",
      "    return run_commands(dist)\r\n",
      "  File \"/usr/local/lib/python3.10/dist-packages/setuptools/_distutils/core.py\", line 200, in run_commands\r\n",
      "    dist.run_commands()\r\n",
      "  File \"/usr/local/lib/python3.10/dist-packages/setuptools/_distutils/dist.py\", line 970, in run_commands\r\n",
      "    self.run_command(cmd)\r\n",
      "  File \"/usr/local/lib/python3.10/dist-packages/setuptools/dist.py\", line 956, in run_command\r\n",
      "    super().run_command(command)\r\n",
      "  File \"/usr/local/lib/python3.10/dist-packages/setuptools/_distutils/dist.py\", line 989, in run_command\r\n",
      "    cmd_obj.run()\r\n",
      "  File \"/usr/local/lib/python3.10/dist-packages/setuptools/_distutils/command/build_ext.py\", line 359, in run\r\n",
      "    self.build_extensions()\r\n",
      "  File \"/usr/local/lib/python3.10/dist-packages/setuptools/_distutils/command/build_ext.py\", line 479, in build_extensions\r\n",
      "    self._build_extensions_serial()\r\n",
      "  File \"/usr/local/lib/python3.10/dist-packages/setuptools/_distutils/command/build_ext.py\", line 505, in _build_extensions_serial\r\n",
      "    self.build_extension(ext)\r\n",
      "  File \"/usr/local/lib/python3.10/dist-packages/Cython/Distutils/build_ext.py\", line 130, in build_extension\r\n",
      "    new_ext = cythonize(\r\n",
      "  File \"/usr/local/lib/python3.10/dist-packages/Cython/Build/Dependencies.py\", line 1154, in cythonize\r\n",
      "    cythonize_one(*args)\r\n",
      "  File \"/usr/local/lib/python3.10/dist-packages/Cython/Build/Dependencies.py\", line 1321, in cythonize_one\r\n",
      "    raise CompileError(None, pyx_file)\r\n",
      "Cython.Compiler.Errors.CompileError: SLIM_BPR_Cython_Epoch.pyx\r\n",
      "Traceback (most recent call last):\r\n",
      "  File \"/kaggle/working/RECsys_Challenge2024/run_compile_all_cython.py\", line 60, in <module>\r\n",
      "    run_compile_subprocess(file_path, [file_name])\r\n",
      "  File \"/kaggle/working/RECsys_Challenge2024/CythonCompiler/run_compile_subprocess.py\", line 51, in run_compile_subprocess\r\n",
      "    raise exc\r\n",
      "  File \"/kaggle/working/RECsys_Challenge2024/CythonCompiler/run_compile_subprocess.py\", line 32, in run_compile_subprocess\r\n",
      "    output = subprocess.check_output(' '.join(command),\r\n",
      "  File \"/usr/lib/python3.10/subprocess.py\", line 421, in check_output\r\n",
      "    return run(*popenargs, stdout=PIPE, timeout=timeout, check=True,\r\n",
      "  File \"/usr/lib/python3.10/subprocess.py\", line 526, in run\r\n",
      "    raise CalledProcessError(retcode, process.args,\r\n",
      "subprocess.CalledProcessError: Command '/usr/bin/python3 /kaggle/working/RECsys_Challenge2024/CythonCompiler/compile_script.py SLIM_BPR_Cython_Epoch.pyx build_ext --inplace' returned non-zero exit status 1.\r\n",
      "Compiling [4/11]: SLIM_BPR_Cython_Epoch.pyx... FAIL: Command '/usr/bin/python3 /kaggle/working/RECsys_Challenge2024/CythonCompiler/compile_script.py SLIM_BPR_Cython_Epoch.pyx build_ext --inplace' returned non-zero exit status 1.\r\n",
      "\r\n",
      "Compiling [5/11]: Sparse_Matrix_Tree_CSR.pyx... \r\n",
      "warning: Sparse_Matrix_Tree_CSR.pyx:132:34: Non-trivial type declarators in shared declaration (e.g. mix of pointers and values). Each pointer declaration should be on its own line.\r\n",
      "warning: Sparse_Matrix_Tree_CSR.pyx:132:66: Non-trivial type declarators in shared declaration (e.g. mix of pointers and values). Each pointer declaration should be on its own line.\r\n",
      "warning: Sparse_Matrix_Tree_CSR.pyx:343:35: Non-trivial type declarators in shared declaration (e.g. mix of pointers and values). Each pointer declaration should be on its own line.\r\n",
      "warning: Sparse_Matrix_Tree_CSR.pyx:343:52: Non-trivial type declarators in shared declaration (e.g. mix of pointers and values). Each pointer declaration should be on its own line.\r\n",
      "warning: Sparse_Matrix_Tree_CSR.pyx:442:35: Non-trivial type declarators in shared declaration (e.g. mix of pointers and values). Each pointer declaration should be on its own line.\r\n",
      "warning: Sparse_Matrix_Tree_CSR.pyx:442:53: Non-trivial type declarators in shared declaration (e.g. mix of pointers and values). Each pointer declaration should be on its own line.\r\n",
      "warning: Sparse_Matrix_Tree_CSR.pyx:442:69: Non-trivial type declarators in shared declaration (e.g. mix of pointers and values). Each pointer declaration should be on its own line.\r\n",
      "warning: Sparse_Matrix_Tree_CSR.pyx:577:35: Non-trivial type declarators in shared declaration (e.g. mix of pointers and values). Each pointer declaration should be on its own line.\r\n",
      "warning: Sparse_Matrix_Tree_CSR.pyx:577:42: Non-trivial type declarators in shared declaration (e.g. mix of pointers and values). Each pointer declaration should be on its own line.\r\n",
      "warning: Sparse_Matrix_Tree_CSR.pyx:578:35: Non-trivial type declarators in shared declaration (e.g. mix of pointers and values). Each pointer declaration should be on its own line.\r\n",
      "warning: Sparse_Matrix_Tree_CSR.pyx:578:53: Non-trivial type declarators in shared declaration (e.g. mix of pointers and values). Each pointer declaration should be on its own line.\r\n",
      "\r\n",
      "Error compiling Cython file:\r\n",
      "------------------------------------------------------------\r\n",
      "...\r\n",
      "            vector_pointer_to_list_elements[index].head = current_element\r\n",
      "            current_element = current_element.higher\r\n",
      "\r\n",
      "\r\n",
      "        # Sort array elements on their data field\r\n",
      "        qsort(vector_pointer_to_list_elements, list_length, sizeof(head_pointer_tree_s), compare_struct_on_data)\r\n",
      "                                                                                         ^\r\n",
      "------------------------------------------------------------\r\n",
      "\r\n",
      "Sparse_Matrix_Tree_CSR.pyx:516:89: Cannot assign type 'int (const void *, const void *) except? -1' to 'int (*)(const_void *, const_void *) noexcept'. Exception values are incompatible. Suggest adding 'noexcept' to the type of 'compare_struct_on_data'.\r\n",
      "\r\n",
      "Error compiling Cython file:\r\n",
      "------------------------------------------------------------\r\n",
      "...\r\n",
      "        # Sort array elements on their data field\r\n",
      "        qsort(vector_pointer_to_list_elements, list_length, sizeof(head_pointer_tree_s), compare_struct_on_data)\r\n",
      "\r\n",
      "        # Sort only the TopK according to their column field\r\n",
      "        # Sort is from lower to higher, therefore the elements to be considered are from len-topK to len\r\n",
      "        qsort(&vector_pointer_to_list_elements[list_length-TopK], TopK, sizeof(head_pointer_tree_s), compare_struct_on_column)\r\n",
      "                                                                                                     ^\r\n",
      "------------------------------------------------------------\r\n",
      "\r\n",
      "Sparse_Matrix_Tree_CSR.pyx:520:101: Cannot assign type 'int (const void *, const void *) except? -1' to 'int (*)(const_void *, const_void *) noexcept'. Exception values are incompatible. Suggest adding 'noexcept' to the type of 'compare_struct_on_column'.\r\n",
      "Traceback (most recent call last):\r\n",
      "  File \"/kaggle/working/RECsys_Challenge2024/CythonCompiler/compile_script.py\", line 48, in <module>\r\n",
      "    setup(\r\n",
      "  File \"/usr/local/lib/python3.10/dist-packages/setuptools/__init__.py\", line 108, in setup\r\n",
      "    return distutils.core.setup(**attrs)\r\n",
      "  File \"/usr/local/lib/python3.10/dist-packages/setuptools/_distutils/core.py\", line 184, in setup\r\n",
      "    return run_commands(dist)\r\n",
      "  File \"/usr/local/lib/python3.10/dist-packages/setuptools/_distutils/core.py\", line 200, in run_commands\r\n",
      "    dist.run_commands()\r\n",
      "  File \"/usr/local/lib/python3.10/dist-packages/setuptools/_distutils/dist.py\", line 970, in run_commands\r\n",
      "    self.run_command(cmd)\r\n",
      "  File \"/usr/local/lib/python3.10/dist-packages/setuptools/dist.py\", line 956, in run_command\r\n",
      "    super().run_command(command)\r\n",
      "  File \"/usr/local/lib/python3.10/dist-packages/setuptools/_distutils/dist.py\", line 989, in run_command\r\n",
      "    cmd_obj.run()\r\n",
      "  File \"/usr/local/lib/python3.10/dist-packages/setuptools/_distutils/command/build_ext.py\", line 359, in run\r\n",
      "    self.build_extensions()\r\n",
      "  File \"/usr/local/lib/python3.10/dist-packages/setuptools/_distutils/command/build_ext.py\", line 479, in build_extensions\r\n",
      "    self._build_extensions_serial()\r\n",
      "  File \"/usr/local/lib/python3.10/dist-packages/setuptools/_distutils/command/build_ext.py\", line 505, in _build_extensions_serial\r\n",
      "    self.build_extension(ext)\r\n",
      "  File \"/usr/local/lib/python3.10/dist-packages/Cython/Distutils/build_ext.py\", line 130, in build_extension\r\n",
      "    new_ext = cythonize(\r\n",
      "  File \"/usr/local/lib/python3.10/dist-packages/Cython/Build/Dependencies.py\", line 1154, in cythonize\r\n",
      "    cythonize_one(*args)\r\n",
      "  File \"/usr/local/lib/python3.10/dist-packages/Cython/Build/Dependencies.py\", line 1321, in cythonize_one\r\n",
      "    raise CompileError(None, pyx_file)\r\n",
      "Cython.Compiler.Errors.CompileError: Sparse_Matrix_Tree_CSR.pyx\r\n",
      "Traceback (most recent call last):\r\n",
      "  File \"/kaggle/working/RECsys_Challenge2024/run_compile_all_cython.py\", line 60, in <module>\r\n",
      "    run_compile_subprocess(file_path, [file_name])\r\n",
      "  File \"/kaggle/working/RECsys_Challenge2024/CythonCompiler/run_compile_subprocess.py\", line 51, in run_compile_subprocess\r\n",
      "    raise exc\r\n",
      "  File \"/kaggle/working/RECsys_Challenge2024/CythonCompiler/run_compile_subprocess.py\", line 32, in run_compile_subprocess\r\n",
      "    output = subprocess.check_output(' '.join(command),\r\n",
      "  File \"/usr/lib/python3.10/subprocess.py\", line 421, in check_output\r\n",
      "    return run(*popenargs, stdout=PIPE, timeout=timeout, check=True,\r\n",
      "  File \"/usr/lib/python3.10/subprocess.py\", line 526, in run\r\n",
      "    raise CalledProcessError(retcode, process.args,\r\n",
      "subprocess.CalledProcessError: Command '/usr/bin/python3 /kaggle/working/RECsys_Challenge2024/CythonCompiler/compile_script.py Sparse_Matrix_Tree_CSR.pyx build_ext --inplace' returned non-zero exit status 1.\r\n",
      "Compiling [5/11]: Sparse_Matrix_Tree_CSR.pyx... FAIL: Command '/usr/bin/python3 /kaggle/working/RECsys_Challenge2024/CythonCompiler/compile_script.py Sparse_Matrix_Tree_CSR.pyx build_ext --inplace' returned non-zero exit status 1.\r\n",
      "\r\n",
      "Compiling [6/11]: Triangular_Matrix.pyx... \r\n",
      "warning: Triangular_Matrix.pyx:22:0: The 'IF' statement is deprecated and will be removed in a future Cython version. Consider using runtime conditions or C macros instead. See https://github.com/cython/cython/issues/4310\r\n",
      "In file included from \u001b[01m\u001b[K/usr/local/lib/python3.10/dist-packages/numpy/core/include/numpy/ndarraytypes.h:1929\u001b[m\u001b[K,\r\n",
      "                 from \u001b[01m\u001b[K/usr/local/lib/python3.10/dist-packages/numpy/core/include/numpy/ndarrayobject.h:12\u001b[m\u001b[K,\r\n",
      "                 from \u001b[01m\u001b[K/usr/local/lib/python3.10/dist-packages/numpy/core/include/numpy/arrayobject.h:5\u001b[m\u001b[K,\r\n",
      "                 from \u001b[01m\u001b[KTriangular_Matrix.c:1252\u001b[m\u001b[K:\r\n",
      "\u001b[01m\u001b[K/usr/local/lib/python3.10/dist-packages/numpy/core/include/numpy/npy_1_7_deprecated_api.h:17:2:\u001b[m\u001b[K \u001b[01;35m\u001b[Kwarning: \u001b[m\u001b[K#warning \"Using deprecated NumPy API, disable it with \" \"#define NPY_NO_DEPRECATED_API NPY_1_7_API_VERSION\" [\u001b[01;35m\u001b[K\u001b]8;;https://gcc.gnu.org/onlinedocs/gcc/Warning-Options.html#index-Wcpp\u0007-Wcpp\u001b]8;;\u0007\u001b[m\u001b[K]\r\n",
      "   17 | #\u001b[01;35m\u001b[Kwarning\u001b[m\u001b[K \"Using deprecated NumPy API, disable it with \" \\\r\n",
      "      |  \u001b[01;35m\u001b[K^~~~~~~\u001b[m\u001b[K\r\n",
      "In function ‘\u001b[01m\u001b[K__pyx_pf_17Triangular_Matrix_17Triangular_Matrix___init__\u001b[m\u001b[K’,\r\n",
      "    inlined from ‘\u001b[01m\u001b[K__pyx_pw_17Triangular_Matrix_17Triangular_Matrix_1__init__\u001b[m\u001b[K’ at \u001b[01m\u001b[KTriangular_Matrix.c:5541:13\u001b[m\u001b[K:\r\n",
      "\u001b[01m\u001b[KTriangular_Matrix.c:5599:43:\u001b[m\u001b[K \u001b[01;35m\u001b[Kwarning: \u001b[m\u001b[Kargument 1 value ‘\u001b[01m\u001b[K18446744073709551608\u001b[m\u001b[K’ exceeds maximum object size 9223372036854775807 [\u001b[01;35m\u001b[K\u001b]8;;https://gcc.gnu.org/onlinedocs/gcc/Warning-Options.html#index-Walloc-size-larger-than=\u0007-Walloc-size-larger-than=\u001b]8;;\u0007\u001b[m\u001b[K]\r\n",
      " 5599 |   __pyx_v_self->row_pointer = ((double **)\u001b[01;35m\u001b[Kmalloc((__pyx_v_self->num_rows * (sizeof(double *))))\u001b[m\u001b[K);\r\n",
      "      |                                           \u001b[01;35m\u001b[K^~~~~~~~~~~~~~~~~~~~~~~~~~~~~~~~~~~~~~~~~~~~~~~~~~~~~\u001b[m\u001b[K\r\n",
      "In file included from \u001b[01m\u001b[K/usr/include/python3.10/Python.h:34\u001b[m\u001b[K,\r\n",
      "                 from \u001b[01m\u001b[KTriangular_Matrix.c:41\u001b[m\u001b[K:\r\n",
      "\u001b[01m\u001b[KTriangular_Matrix.c:\u001b[m\u001b[K In function ‘\u001b[01m\u001b[K__pyx_pw_17Triangular_Matrix_17Triangular_Matrix_1__init__\u001b[m\u001b[K’:\r\n",
      "\u001b[01m\u001b[K/usr/include/stdlib.h:540:14:\u001b[m\u001b[K \u001b[01;36m\u001b[Knote: \u001b[m\u001b[Kin a call to allocation function ‘\u001b[01m\u001b[Kmalloc\u001b[m\u001b[K’ declared here\r\n",
      "  540 | extern void *\u001b[01;36m\u001b[Kmalloc\u001b[m\u001b[K (size_t __size) __THROW __attribute_malloc__\r\n",
      "      |              \u001b[01;36m\u001b[K^~~~~~\u001b[m\u001b[K\r\n",
      "/usr/local/lib/python3.10/dist-packages/Cython/Compiler/Main.py:381: FutureWarning: Cython directive 'language_level' not set, using '3str' for now (Py3). This has changed from earlier releases! File: /kaggle/working/RECsys_Challenge2024/Recommenders/SLIM/Cython/Triangular_Matrix.pyx\r\n",
      "  tree = Parsing.p_module(s, pxd, full_module_name)\r\n",
      "warning: Triangular_Matrix.pyx:22:0: The 'IF' statement is deprecated and will be removed in a future Cython version. Consider using runtime conditions or C macros instead. See https://github.com/cython/cython/issues/4310\r\n",
      "Compiling [6/11]: Triangular_Matrix.pyx... PASS\r\n",
      "\r\n",
      "Compiling [7/11]: CFW_DVV_Similarity_Cython_SGD.pyx... \r\n",
      "In file included from \u001b[01m\u001b[K/usr/local/lib/python3.10/dist-packages/numpy/core/include/numpy/ndarraytypes.h:1929\u001b[m\u001b[K,\r\n",
      "                 from \u001b[01m\u001b[K/usr/local/lib/python3.10/dist-packages/numpy/core/include/numpy/ndarrayobject.h:12\u001b[m\u001b[K,\r\n",
      "                 from \u001b[01m\u001b[K/usr/local/lib/python3.10/dist-packages/numpy/core/include/numpy/arrayobject.h:5\u001b[m\u001b[K,\r\n",
      "                 from \u001b[01m\u001b[KCFW_DVV_Similarity_Cython_SGD.c:1252\u001b[m\u001b[K:\r\n",
      "\u001b[01m\u001b[K/usr/local/lib/python3.10/dist-packages/numpy/core/include/numpy/npy_1_7_deprecated_api.h:17:2:\u001b[m\u001b[K \u001b[01;35m\u001b[Kwarning: \u001b[m\u001b[K#warning \"Using deprecated NumPy API, disable it with \" \"#define NPY_NO_DEPRECATED_API NPY_1_7_API_VERSION\" [\u001b[01;35m\u001b[K\u001b]8;;https://gcc.gnu.org/onlinedocs/gcc/Warning-Options.html#index-Wcpp\u0007-Wcpp\u001b]8;;\u0007\u001b[m\u001b[K]\r\n",
      "   17 | #\u001b[01;35m\u001b[Kwarning\u001b[m\u001b[K \"Using deprecated NumPy API, disable it with \" \\\r\n",
      "      |  \u001b[01;35m\u001b[K^~~~~~~\u001b[m\u001b[K\r\n",
      "/usr/local/lib/python3.10/dist-packages/Cython/Compiler/Main.py:381: FutureWarning: Cython directive 'language_level' not set, using '3str' for now (Py3). This has changed from earlier releases! File: /kaggle/working/RECsys_Challenge2024/Recommenders/FeatureWeighting/Cython/CFW_DVV_Similarity_Cython_SGD.pyx\r\n",
      "  tree = Parsing.p_module(s, pxd, full_module_name)\r\n",
      "Compiling [7/11]: CFW_DVV_Similarity_Cython_SGD.pyx... PASS\r\n",
      "\r\n",
      "Compiling [8/11]: HP3_Similarity_Cython_SGD.pyx... \r\n",
      "performance hint: HP3_Similarity_Cython_SGD.pyx:113:40: Index should be typed for more efficient access\r\n",
      "performance hint: HP3_Similarity_Cython_SGD.pyx:114:40: Index should be typed for more efficient access\r\n",
      "In file included from \u001b[01m\u001b[K/usr/local/lib/python3.10/dist-packages/numpy/core/include/numpy/ndarraytypes.h:1929\u001b[m\u001b[K,\r\n",
      "                 from \u001b[01m\u001b[K/usr/local/lib/python3.10/dist-packages/numpy/core/include/numpy/ndarrayobject.h:12\u001b[m\u001b[K,\r\n",
      "                 from \u001b[01m\u001b[K/usr/local/lib/python3.10/dist-packages/numpy/core/include/numpy/arrayobject.h:5\u001b[m\u001b[K,\r\n",
      "                 from \u001b[01m\u001b[KHP3_Similarity_Cython_SGD.c:1252\u001b[m\u001b[K:\r\n",
      "\u001b[01m\u001b[K/usr/local/lib/python3.10/dist-packages/numpy/core/include/numpy/npy_1_7_deprecated_api.h:17:2:\u001b[m\u001b[K \u001b[01;35m\u001b[Kwarning: \u001b[m\u001b[K#warning \"Using deprecated NumPy API, disable it with \" \"#define NPY_NO_DEPRECATED_API NPY_1_7_API_VERSION\" [\u001b[01;35m\u001b[K\u001b]8;;https://gcc.gnu.org/onlinedocs/gcc/Warning-Options.html#index-Wcpp\u0007-Wcpp\u001b]8;;\u0007\u001b[m\u001b[K]\r\n",
      "   17 | #\u001b[01;35m\u001b[Kwarning\u001b[m\u001b[K \"Using deprecated NumPy API, disable it with \" \\\r\n",
      "      |  \u001b[01;35m\u001b[K^~~~~~~\u001b[m\u001b[K\r\n",
      "\u001b[01m\u001b[KHP3_Similarity_Cython_SGD.c:\u001b[m\u001b[K In function ‘\u001b[01m\u001b[K__pyx_pf_25HP3_Similarity_Cython_SGD_25HP3_Similarity_Cython_SGD_4fit\u001b[m\u001b[K’:\r\n",
      "\u001b[01m\u001b[KHP3_Similarity_Cython_SGD.c:23631:55:\u001b[m\u001b[K \u001b[01;35m\u001b[Kwarning: \u001b[m\u001b[K‘\u001b[01m\u001b[K__pyx_v_sample_num\u001b[m\u001b[K’ may be used uninitialized in this function [\u001b[01;35m\u001b[K\u001b]8;;https://gcc.gnu.org/onlinedocs/gcc/Warning-Options.html#index-Wmaybe-uninitialized\u0007-Wmaybe-uninitialized\u001b]8;;\u0007\u001b[m\u001b[K]\r\n",
      "23631 |   __pyx_t_1 = PyFloat_FromDouble((__pyx_v_cum_loss / \u001b[01;35m\u001b[K((double)__pyx_v_sample_num)\u001b[m\u001b[K)); if (unlikely(!__pyx_t_1)) __PYX_ERR(0, 291, __pyx_L1_error)\r\n",
      "      |                                                      \u001b[01;35m\u001b[K~^~~~~~~~~~~~~~~~~~~~~~~~~~~\u001b[m\u001b[K\r\n",
      "/usr/local/lib/python3.10/dist-packages/Cython/Compiler/Main.py:381: FutureWarning: Cython directive 'language_level' not set, using '3str' for now (Py3). This has changed from earlier releases! File: /kaggle/working/RECsys_Challenge2024/Recommenders/FeatureWeighting/Cython/HP3_Similarity_Cython_SGD.pyx\r\n",
      "  tree = Parsing.p_module(s, pxd, full_module_name)\r\n",
      "performance hint: HP3_Similarity_Cython_SGD.pyx:113:40: Index should be typed for more efficient access\r\n",
      "performance hint: HP3_Similarity_Cython_SGD.pyx:114:40: Index should be typed for more efficient access\r\n",
      "Compiling [8/11]: HP3_Similarity_Cython_SGD.pyx... PASS\r\n",
      "\r\n",
      "Compiling [9/11]: CFW_D_Similarity_Cython_SGD.pyx... \r\n",
      "In file included from \u001b[01m\u001b[K/usr/local/lib/python3.10/dist-packages/numpy/core/include/numpy/ndarraytypes.h:1929\u001b[m\u001b[K,\r\n",
      "                 from \u001b[01m\u001b[K/usr/local/lib/python3.10/dist-packages/numpy/core/include/numpy/ndarrayobject.h:12\u001b[m\u001b[K,\r\n",
      "                 from \u001b[01m\u001b[K/usr/local/lib/python3.10/dist-packages/numpy/core/include/numpy/arrayobject.h:5\u001b[m\u001b[K,\r\n",
      "                 from \u001b[01m\u001b[KCFW_D_Similarity_Cython_SGD.c:1252\u001b[m\u001b[K:\r\n",
      "\u001b[01m\u001b[K/usr/local/lib/python3.10/dist-packages/numpy/core/include/numpy/npy_1_7_deprecated_api.h:17:2:\u001b[m\u001b[K \u001b[01;35m\u001b[Kwarning: \u001b[m\u001b[K#warning \"Using deprecated NumPy API, disable it with \" \"#define NPY_NO_DEPRECATED_API NPY_1_7_API_VERSION\" [\u001b[01;35m\u001b[K\u001b]8;;https://gcc.gnu.org/onlinedocs/gcc/Warning-Options.html#index-Wcpp\u0007-Wcpp\u001b]8;;\u0007\u001b[m\u001b[K]\r\n",
      "   17 | #\u001b[01;35m\u001b[Kwarning\u001b[m\u001b[K \"Using deprecated NumPy API, disable it with \" \\\r\n",
      "      |  \u001b[01;35m\u001b[K^~~~~~~\u001b[m\u001b[K\r\n",
      "\u001b[01m\u001b[KCFW_D_Similarity_Cython_SGD.c:\u001b[m\u001b[K In function ‘\u001b[01m\u001b[K__pyx_pf_27CFW_D_Similarity_Cython_SGD_27CFW_D_Similarity_Cython_SGD_6fit\u001b[m\u001b[K’:\r\n",
      "\u001b[01m\u001b[KCFW_D_Similarity_Cython_SGD.c:23373:55:\u001b[m\u001b[K \u001b[01;35m\u001b[Kwarning: \u001b[m\u001b[K‘\u001b[01m\u001b[K__pyx_v_sample_num\u001b[m\u001b[K’ may be used uninitialized in this function [\u001b[01;35m\u001b[K\u001b]8;;https://gcc.gnu.org/onlinedocs/gcc/Warning-Options.html#index-Wmaybe-uninitialized\u0007-Wmaybe-uninitialized\u001b]8;;\u0007\u001b[m\u001b[K]\r\n",
      "23373 |   __pyx_t_3 = PyFloat_FromDouble((__pyx_v_cum_loss / \u001b[01;35m\u001b[K((double)__pyx_v_sample_num)\u001b[m\u001b[K)); if (unlikely(!__pyx_t_3)) __PYX_ERR(0, 290, __pyx_L1_error)\r\n",
      "      |                                                      \u001b[01;35m\u001b[K~^~~~~~~~~~~~~~~~~~~~~~~~~~~\u001b[m\u001b[K\r\n",
      "/usr/local/lib/python3.10/dist-packages/Cython/Compiler/Main.py:381: FutureWarning: Cython directive 'language_level' not set, using '3str' for now (Py3). This has changed from earlier releases! File: /kaggle/working/RECsys_Challenge2024/Recommenders/FeatureWeighting/Cython/CFW_D_Similarity_Cython_SGD.pyx\r\n",
      "  tree = Parsing.p_module(s, pxd, full_module_name)\r\n",
      "Compiling [9/11]: CFW_D_Similarity_Cython_SGD.pyx... PASS\r\n",
      "\r\n",
      "Compiling [10/11]: FBSM_Rating_Cython_SGD.pyx... \r\n",
      "In file included from \u001b[01m\u001b[K/usr/local/lib/python3.10/dist-packages/numpy/core/include/numpy/ndarraytypes.h:1929\u001b[m\u001b[K,\r\n",
      "                 from \u001b[01m\u001b[K/usr/local/lib/python3.10/dist-packages/numpy/core/include/numpy/ndarrayobject.h:12\u001b[m\u001b[K,\r\n",
      "                 from \u001b[01m\u001b[K/usr/local/lib/python3.10/dist-packages/numpy/core/include/numpy/arrayobject.h:5\u001b[m\u001b[K,\r\n",
      "                 from \u001b[01m\u001b[KFBSM_Rating_Cython_SGD.c:1252\u001b[m\u001b[K:\r\n",
      "\u001b[01m\u001b[K/usr/local/lib/python3.10/dist-packages/numpy/core/include/numpy/npy_1_7_deprecated_api.h:17:2:\u001b[m\u001b[K \u001b[01;35m\u001b[Kwarning: \u001b[m\u001b[K#warning \"Using deprecated NumPy API, disable it with \" \"#define NPY_NO_DEPRECATED_API NPY_1_7_API_VERSION\" [\u001b[01;35m\u001b[K\u001b]8;;https://gcc.gnu.org/onlinedocs/gcc/Warning-Options.html#index-Wcpp\u0007-Wcpp\u001b]8;;\u0007\u001b[m\u001b[K]\r\n",
      "   17 | #\u001b[01;35m\u001b[Kwarning\u001b[m\u001b[K \"Using deprecated NumPy API, disable it with \" \\\r\n",
      "      |  \u001b[01;35m\u001b[K^~~~~~~\u001b[m\u001b[K\r\n",
      "\u001b[01m\u001b[KFBSM_Rating_Cython_SGD.c:\u001b[m\u001b[K In function ‘\u001b[01m\u001b[K__pyx_pf_22FBSM_Rating_Cython_SGD_22FBSM_Rating_Cython_SGD_2fit\u001b[m\u001b[K’:\r\n",
      "\u001b[01m\u001b[KFBSM_Rating_Cython_SGD.c:26607:55:\u001b[m\u001b[K \u001b[01;35m\u001b[Kwarning: \u001b[m\u001b[K‘\u001b[01m\u001b[K__pyx_v_num_sample\u001b[m\u001b[K’ may be used uninitialized in this function [\u001b[01;35m\u001b[K\u001b]8;;https://gcc.gnu.org/onlinedocs/gcc/Warning-Options.html#index-Wmaybe-uninitialized\u0007-Wmaybe-uninitialized\u001b]8;;\u0007\u001b[m\u001b[K]\r\n",
      "26607 |   __pyx_t_5 = PyFloat_FromDouble((__pyx_v_cum_loss / \u001b[01;35m\u001b[K((double)__pyx_v_num_sample)\u001b[m\u001b[K)); if (unlikely(!__pyx_t_5)) __PYX_ERR(0, 551, __pyx_L1_error)\r\n",
      "      |                                                      \u001b[01;35m\u001b[K~^~~~~~~~~~~~~~~~~~~~~~~~~~~\u001b[m\u001b[K\r\n",
      "/usr/local/lib/python3.10/dist-packages/Cython/Compiler/Main.py:381: FutureWarning: Cython directive 'language_level' not set, using '3str' for now (Py3). This has changed from earlier releases! File: /kaggle/working/RECsys_Challenge2024/Recommenders/FeatureWeighting/Cython/FBSM_Rating_Cython_SGD.pyx\r\n",
      "  tree = Parsing.p_module(s, pxd, full_module_name)\r\n",
      "Compiling [10/11]: FBSM_Rating_Cython_SGD.pyx... PASS\r\n",
      "\r\n",
      "Compiling [11/11]: DataIterator.pyx... \r\n",
      "In file included from \u001b[01m\u001b[K/usr/local/lib/python3.10/dist-packages/numpy/core/include/numpy/ndarraytypes.h:1929\u001b[m\u001b[K,\r\n",
      "                 from \u001b[01m\u001b[K/usr/local/lib/python3.10/dist-packages/numpy/core/include/numpy/ndarrayobject.h:12\u001b[m\u001b[K,\r\n",
      "                 from \u001b[01m\u001b[K/usr/local/lib/python3.10/dist-packages/numpy/core/include/numpy/arrayobject.h:5\u001b[m\u001b[K,\r\n",
      "                 from \u001b[01m\u001b[KDataIterator.c:1252\u001b[m\u001b[K:\r\n",
      "\u001b[01m\u001b[K/usr/local/lib/python3.10/dist-packages/numpy/core/include/numpy/npy_1_7_deprecated_api.h:17:2:\u001b[m\u001b[K \u001b[01;35m\u001b[Kwarning: \u001b[m\u001b[K#warning \"Using deprecated NumPy API, disable it with \" \"#define NPY_NO_DEPRECATED_API NPY_1_7_API_VERSION\" [\u001b[01;35m\u001b[K\u001b]8;;https://gcc.gnu.org/onlinedocs/gcc/Warning-Options.html#index-Wcpp\u0007-Wcpp\u001b]8;;\u0007\u001b[m\u001b[K]\r\n",
      "   17 | #\u001b[01;35m\u001b[Kwarning\u001b[m\u001b[K \"Using deprecated NumPy API, disable it with \" \\\r\n",
      "      |  \u001b[01;35m\u001b[K^~~~~~~\u001b[m\u001b[K\r\n",
      "\u001b[01m\u001b[KDataIterator.c:\u001b[m\u001b[K In function ‘\u001b[01m\u001b[K__pyx_pf_12DataIterator_19InteractionIterator_6__next__\u001b[m\u001b[K’:\r\n",
      "\u001b[01m\u001b[KDataIterator.c:20937:22:\u001b[m\u001b[K \u001b[01;35m\u001b[Kwarning: \u001b[m\u001b[K‘\u001b[01m\u001b[K__pyx_v_i_batch\u001b[m\u001b[K’ may be used uninitialized in this function [\u001b[01;35m\u001b[K\u001b]8;;https://gcc.gnu.org/onlinedocs/gcc/Warning-Options.html#index-Wmaybe-uninitialized\u0007-Wmaybe-uninitialized\u001b]8;;\u0007\u001b[m\u001b[K]\r\n",
      "20937 |     (__pyx_v_i_batch \u001b[01;35m\u001b[K+\u001b[m\u001b[K 1),\r\n",
      "      |                      \u001b[01;35m\u001b[K^\u001b[m\u001b[K\r\n",
      "\u001b[01m\u001b[KDataIterator.c:\u001b[m\u001b[K In function ‘\u001b[01m\u001b[K__pyx_pf_12DataIterator_30InteractionAndNegativeIterator_6__next__\u001b[m\u001b[K’:\r\n",
      "\u001b[01m\u001b[KDataIterator.c:25499:22:\u001b[m\u001b[K \u001b[01;35m\u001b[Kwarning: \u001b[m\u001b[K‘\u001b[01m\u001b[K__pyx_v_i_batch\u001b[m\u001b[K’ may be used uninitialized in this function [\u001b[01;35m\u001b[K\u001b]8;;https://gcc.gnu.org/onlinedocs/gcc/Warning-Options.html#index-Wmaybe-uninitialized\u0007-Wmaybe-uninitialized\u001b]8;;\u0007\u001b[m\u001b[K]\r\n",
      "25499 |     (__pyx_v_i_batch \u001b[01;35m\u001b[K+\u001b[m\u001b[K 1),\r\n",
      "      |                      \u001b[01;35m\u001b[K^\u001b[m\u001b[K\r\n",
      "\u001b[01m\u001b[KDataIterator.c:\u001b[m\u001b[K In function ‘\u001b[01m\u001b[K__pyx_pf_12DataIterator_11BPRIterator_6__next__\u001b[m\u001b[K’:\r\n",
      "\u001b[01m\u001b[KDataIterator.c:23056:22:\u001b[m\u001b[K \u001b[01;35m\u001b[Kwarning: \u001b[m\u001b[K‘\u001b[01m\u001b[K__pyx_v_i_batch\u001b[m\u001b[K’ may be used uninitialized in this function [\u001b[01;35m\u001b[K\u001b]8;;https://gcc.gnu.org/onlinedocs/gcc/Warning-Options.html#index-Wmaybe-uninitialized\u0007-Wmaybe-uninitialized\u001b]8;;\u0007\u001b[m\u001b[K]\r\n",
      "23056 |     (__pyx_v_i_batch \u001b[01;35m\u001b[K+\u001b[m\u001b[K 1),\r\n",
      "      |                      \u001b[01;35m\u001b[K^\u001b[m\u001b[K\r\n",
      "/usr/local/lib/python3.10/dist-packages/Cython/Compiler/Main.py:381: FutureWarning: Cython directive 'language_level' not set, using '3str' for now (Py3). This has changed from earlier releases! File: /kaggle/working/RECsys_Challenge2024/Utils/PyTorch/Cython/DataIterator.pyx\r\n",
      "  tree = Parsing.p_module(s, pxd, full_module_name)\r\n",
      "Compiling [11/11]: DataIterator.pyx... PASS\r\n",
      "\r\n",
      "run_compile_all_cython: Compilation finished. FAILS 2/11.\r\n",
      "Compilation log can be found here: './result_experiments/run_compile_all_cython.txt'\r\n"
     ]
    }
   ],
   "source": [
    "%cd /kaggle/working/RECsys_Challenge2024 \n",
    "! python run_compile_all_cython.py"
   ]
  },
  {
   "cell_type": "code",
   "execution_count": 5,
   "id": "43d7b6de",
   "metadata": {
    "execution": {
     "iopub.execute_input": "2025-01-06T23:14:08.696733Z",
     "iopub.status.busy": "2025-01-06T23:14:08.696360Z",
     "iopub.status.idle": "2025-01-06T23:14:10.139089Z",
     "shell.execute_reply": "2025-01-06T23:14:10.138010Z"
    },
    "papermill": {
     "duration": 1.461232,
     "end_time": "2025-01-06T23:14:10.141335",
     "exception": false,
     "start_time": "2025-01-06T23:14:08.680103",
     "status": "completed"
    },
    "tags": []
   },
   "outputs": [],
   "source": [
    "from Utils.notebookFunctions import *\n",
    "import numpy as np\n",
    "import pandas as pd\n",
    "import scipy.sparse as sps\n",
    "import time\n",
    "import shutil\n",
    "import optuna\n",
    "import json\n",
    "import os\n",
    "from Utils.seconds_to_biggest_unit import seconds_to_biggest_unit\n",
    "\n",
    "\n",
    "K_PATH = '/kaggle/working/RECsys_Challenge2024'\n",
    "GH_PATH = 'TrainedModels/WithKFCV/GraphBased'\n",
    "\n",
    "np.random.seed(42)"
   ]
  },
  {
   "cell_type": "markdown",
   "id": "8c496899",
   "metadata": {
    "papermill": {
     "duration": 0.015864,
     "end_time": "2025-01-06T23:14:10.172793",
     "exception": false,
     "start_time": "2025-01-06T23:14:10.156929",
     "status": "completed"
    },
    "tags": []
   },
   "source": [
    "## Import the repository"
   ]
  },
  {
   "cell_type": "code",
   "execution_count": 6,
   "id": "32ab8c15",
   "metadata": {
    "execution": {
     "iopub.execute_input": "2025-01-06T23:14:10.207366Z",
     "iopub.status.busy": "2025-01-06T23:14:10.206831Z",
     "iopub.status.idle": "2025-01-06T23:14:10.505101Z",
     "shell.execute_reply": "2025-01-06T23:14:10.503584Z"
    },
    "papermill": {
     "duration": 0.316949,
     "end_time": "2025-01-06T23:14:10.507312",
     "exception": false,
     "start_time": "2025-01-06T23:14:10.190363",
     "status": "completed"
    },
    "tags": []
   },
   "outputs": [
    {
     "name": "stdout",
     "output_type": "stream",
     "text": [
      "Repository 'RECsys_Challenge2024' found.\n"
     ]
    }
   ],
   "source": [
    "repo = get_repo_from_github(token)"
   ]
  },
  {
   "cell_type": "code",
   "execution_count": 7,
   "id": "e0d05c3e",
   "metadata": {
    "execution": {
     "iopub.execute_input": "2025-01-06T23:14:10.541675Z",
     "iopub.status.busy": "2025-01-06T23:14:10.541260Z",
     "iopub.status.idle": "2025-01-06T23:14:10.546114Z",
     "shell.execute_reply": "2025-01-06T23:14:10.544925Z"
    },
    "papermill": {
     "duration": 0.025117,
     "end_time": "2025-01-06T23:14:10.548316",
     "exception": false,
     "start_time": "2025-01-06T23:14:10.523199",
     "status": "completed"
    },
    "tags": []
   },
   "outputs": [],
   "source": [
    "config = {\n",
    "    'model': 'RP3beta',\n",
    "    'metric': 'Recall',\n",
    "    'n_folds': 5,\n",
    "    'tune_parameters': True,\n",
    "    'database_path': '/kaggle/working/history_RP3beta_Recall.db',\n",
    "    'copy_prev_best_params': False,\n",
    "    'tune_best_params': True,\n",
    "    'save_github': True\n",
    "}"
   ]
  },
  {
   "cell_type": "markdown",
   "id": "3a3aa6ff",
   "metadata": {
    "papermill": {
     "duration": 0.01491,
     "end_time": "2025-01-06T23:14:10.579037",
     "exception": false,
     "start_time": "2025-01-06T23:14:10.564127",
     "status": "completed"
    },
    "tags": []
   },
   "source": [
    "Import the database where previous tuning trials have been saved."
   ]
  },
  {
   "cell_type": "code",
   "execution_count": 8,
   "id": "e69a3b23",
   "metadata": {
    "execution": {
     "iopub.execute_input": "2025-01-06T23:14:10.610821Z",
     "iopub.status.busy": "2025-01-06T23:14:10.610372Z",
     "iopub.status.idle": "2025-01-06T23:14:10.616765Z",
     "shell.execute_reply": "2025-01-06T23:14:10.615588Z"
    },
    "papermill": {
     "duration": 0.024813,
     "end_time": "2025-01-06T23:14:10.618760",
     "exception": false,
     "start_time": "2025-01-06T23:14:10.593947",
     "status": "completed"
    },
    "tags": []
   },
   "outputs": [],
   "source": [
    "try:\n",
    "    shutil.copyfile(\n",
    "        f'{K_PATH}/{GH_PATH}/{config[\"model\"]}Recommender/Optimizing{config[\"metric\"]}/history_{config[\"model\"]}_{config[\"metric\"]}.db', \n",
    "        config['database_path']\n",
    "    )\n",
    "except FileNotFoundError:\n",
    "    pass # if not present optuna will create it"
   ]
  },
  {
   "cell_type": "markdown",
   "id": "ea3dcabd",
   "metadata": {
    "papermill": {
     "duration": 0.01461,
     "end_time": "2025-01-06T23:14:10.648735",
     "exception": false,
     "start_time": "2025-01-06T23:14:10.634125",
     "status": "completed"
    },
    "tags": []
   },
   "source": [
    "# Construction of URM and ICM matrices"
   ]
  },
  {
   "cell_type": "code",
   "execution_count": 9,
   "id": "ca48532c",
   "metadata": {
    "execution": {
     "iopub.execute_input": "2025-01-06T23:14:10.680175Z",
     "iopub.status.busy": "2025-01-06T23:14:10.679760Z",
     "iopub.status.idle": "2025-01-06T23:14:11.592626Z",
     "shell.execute_reply": "2025-01-06T23:14:11.591434Z"
    },
    "papermill": {
     "duration": 0.930565,
     "end_time": "2025-01-06T23:14:11.594370",
     "exception": false,
     "start_time": "2025-01-06T23:14:10.663805",
     "status": "completed"
    },
    "tags": []
   },
   "outputs": [
    {
     "data": {
      "text/plain": [
       "<35736x38121 sparse matrix of type '<class 'numpy.float64'>'\n",
       "\twith 1764607 stored elements in Compressed Sparse Row format>"
      ]
     },
     "execution_count": 9,
     "metadata": {},
     "output_type": "execute_result"
    }
   ],
   "source": [
    "URM_all_dataframe = pd.read_csv(\"/kaggle/input/recommender-system-2024-challenge-polimi/data_train.csv\")\n",
    "\n",
    "n_users = len(URM_all_dataframe[\"user_id\"].unique())\n",
    "n_items = len(URM_all_dataframe[\"item_id\"].unique())\n",
    "\n",
    "URM_all = sps.csr_matrix((URM_all_dataframe[\"data\"].values, \n",
    "                          (URM_all_dataframe[\"user_id\"].values, URM_all_dataframe[\"item_id\"].values)),\n",
    "                        shape = (n_users, n_items))\n",
    "\n",
    "URM_all"
   ]
  },
  {
   "cell_type": "code",
   "execution_count": 10,
   "id": "bc9bcc3a",
   "metadata": {
    "execution": {
     "iopub.execute_input": "2025-01-06T23:14:11.627494Z",
     "iopub.status.busy": "2025-01-06T23:14:11.627119Z",
     "iopub.status.idle": "2025-01-06T23:14:12.945466Z",
     "shell.execute_reply": "2025-01-06T23:14:12.944305Z"
    },
    "papermill": {
     "duration": 1.337672,
     "end_time": "2025-01-06T23:14:12.947522",
     "exception": false,
     "start_time": "2025-01-06T23:14:11.609850",
     "status": "completed"
    },
    "tags": []
   },
   "outputs": [
    {
     "data": {
      "text/plain": [
       "<38121x94331 sparse matrix of type '<class 'numpy.float64'>'\n",
       "\twith 2940040 stored elements in Compressed Sparse Row format>"
      ]
     },
     "execution_count": 10,
     "metadata": {},
     "output_type": "execute_result"
    }
   ],
   "source": [
    "ICM_dataframe = pd.read_csv(\"/kaggle/input/recommender-system-2024-challenge-polimi/data_ICM_metadata.csv\")\n",
    "\n",
    "n_items = len(ICM_dataframe[\"item_id\"].unique())\n",
    "n_features = len(ICM_dataframe[\"feature_id\"].unique())\n",
    "\n",
    "ICM_all = sps.csr_matrix((ICM_dataframe[\"data\"].values, \n",
    "                          (ICM_dataframe[\"item_id\"].values, ICM_dataframe[\"feature_id\"].values)),\n",
    "                        shape = (n_items, n_features))\n",
    "\n",
    "ICM_all"
   ]
  },
  {
   "cell_type": "markdown",
   "id": "1a2e5ef4",
   "metadata": {
    "papermill": {
     "duration": 0.015035,
     "end_time": "2025-01-06T23:14:12.978218",
     "exception": false,
     "start_time": "2025-01-06T23:14:12.963183",
     "status": "completed"
    },
    "tags": []
   },
   "source": [
    "# Training"
   ]
  },
  {
   "cell_type": "code",
   "execution_count": 11,
   "id": "ae04fb83",
   "metadata": {
    "execution": {
     "iopub.execute_input": "2025-01-06T23:14:13.010821Z",
     "iopub.status.busy": "2025-01-06T23:14:13.010340Z",
     "iopub.status.idle": "2025-01-06T23:14:31.297461Z",
     "shell.execute_reply": "2025-01-06T23:14:31.295927Z"
    },
    "papermill": {
     "duration": 18.306482,
     "end_time": "2025-01-06T23:14:31.299964",
     "exception": false,
     "start_time": "2025-01-06T23:14:12.993482",
     "status": "completed"
    },
    "tags": []
   },
   "outputs": [
    {
     "name": "stdout",
     "output_type": "stream",
     "text": [
      "Warning: 141 (0.39 %) of 35736 users have no sampled items\n"
     ]
    }
   ],
   "source": [
    "from Evaluation.Evaluator import EvaluatorHoldout\n",
    "from Data_manager.split_functions.split_train_validation_random_holdout import split_train_in_two_percentage_global_sample\n",
    "from Data_manager.split_functions.split_train_k_folds import split_train_k_folds\n",
    "\n",
    "URM_train, URM_validation = split_train_in_two_percentage_global_sample(URM_all, train_percentage = 0.80)\n",
    "\n",
    "folds = split_train_k_folds(URM_all, k=config['n_folds'])"
   ]
  },
  {
   "cell_type": "code",
   "execution_count": 12,
   "id": "4e871ff2",
   "metadata": {
    "execution": {
     "iopub.execute_input": "2025-01-06T23:14:31.333967Z",
     "iopub.status.busy": "2025-01-06T23:14:31.333487Z",
     "iopub.status.idle": "2025-01-06T23:14:32.430067Z",
     "shell.execute_reply": "2025-01-06T23:14:32.428696Z"
    },
    "papermill": {
     "duration": 1.115845,
     "end_time": "2025-01-06T23:14:32.432489",
     "exception": false,
     "start_time": "2025-01-06T23:14:31.316644",
     "status": "completed"
    },
    "tags": []
   },
   "outputs": [],
   "source": [
    "from Recommenders.GraphBased.RP3betaRecommender import RP3betaRecommender\n",
    "\n",
    "def objective_function_RP3beta(optuna_trial):\n",
    "    \n",
    "    full_hyperp = {\n",
    "                    \"topK\": optuna_trial.suggest_int(\"topK\", 0, 1500),\n",
    "                   \"alpha\": optuna_trial.suggest_float(\"alpha\", 0, 3, log=False),\n",
    "                   \"beta\": optuna_trial.suggest_float(\"beta\", 0, 3, log=False),\n",
    "                   \"normalize_similarity\": optuna_trial.suggest_categorical(\"normalize_similarity\", [True, False]),\n",
    "                   \"implicit\": optuna_trial.suggest_categorical(\"implicit\", [True, False]),\n",
    "                  }            \n",
    "\n",
    "    validation_results = []\n",
    "    \n",
    "    for fold_idx, (URM_train_fold, URM_validation_fold) in enumerate(folds):\n",
    "    \n",
    "        recommender_instance = RP3betaRecommender(URM_train_fold)\n",
    "        recommender_instance.fit(**full_hyperp)\n",
    "        \n",
    "        evaluator = EvaluatorHoldout(URM_validation_fold, cutoff_list=[50])\n",
    "        result_df, _ = evaluator.evaluateRecommender(recommender_instance)\n",
    "        \n",
    "        validation_results.append(result_df.loc[50][\"RECALL\"])\n",
    "    \n",
    "    return np.mean(validation_results)"
   ]
  },
  {
   "cell_type": "code",
   "execution_count": 13,
   "id": "9c9e69d9",
   "metadata": {
    "_kg_hide-output": true,
    "execution": {
     "iopub.execute_input": "2025-01-06T23:14:32.466887Z",
     "iopub.status.busy": "2025-01-06T23:14:32.466221Z",
     "iopub.status.idle": "2025-01-07T11:00:41.320575Z",
     "shell.execute_reply": "2025-01-07T11:00:41.318768Z"
    },
    "papermill": {
     "duration": 42368.954854,
     "end_time": "2025-01-07T11:00:41.403782",
     "exception": false,
     "start_time": "2025-01-06T23:14:32.448928",
     "status": "completed"
    },
    "tags": []
   },
   "outputs": [
    {
     "name": "stderr",
     "output_type": "stream",
     "text": [
      "[I 2025-01-06 23:14:33,481] Using an existing study with name 'hyperparameters_tuning_RP3beta_Recall' instead of creating a new one.\n"
     ]
    },
    {
     "name": "stdout",
     "output_type": "stream",
     "text": [
      "RP3betaRecommender: Similarity column 38121 (100.0%), 1979.98 column/sec. Elapsed time 19.25 sec\n",
      "EvaluatorHoldout: Ignoring 173 ( 0.5%) Users that have less than 1 test interactions\n",
      "EvaluatorHoldout: Processed 35563 (100.0%) in 35.55 sec. Users per second: 1000\n",
      "RP3betaRecommender: Similarity column 38121 (100.0%), 1979.86 column/sec. Elapsed time 19.25 sec\n",
      "EvaluatorHoldout: Ignoring 163 ( 0.5%) Users that have less than 1 test interactions\n",
      "EvaluatorHoldout: Processed 35573 (100.0%) in 35.59 sec. Users per second: 999\n",
      "RP3betaRecommender: Similarity column 38121 (100.0%), 1984.18 column/sec. Elapsed time 19.21 sec\n",
      "EvaluatorHoldout: Ignoring 150 ( 0.4%) Users that have less than 1 test interactions\n",
      "EvaluatorHoldout: Processed 35586 (100.0%) in 35.55 sec. Users per second: 1001\n",
      "RP3betaRecommender: Similarity column 38121 (100.0%), 2001.91 column/sec. Elapsed time 19.04 sec\n",
      "EvaluatorHoldout: Ignoring 167 ( 0.5%) Users that have less than 1 test interactions\n",
      "EvaluatorHoldout: Processed 35569 (100.0%) in 35.63 sec. Users per second: 998\n",
      "RP3betaRecommender: Similarity column 38121 (100.0%), 2004.99 column/sec. Elapsed time 19.01 sec\n",
      "EvaluatorHoldout: Ignoring 172 ( 0.5%) Users that have less than 1 test interactions\n",
      "EvaluatorHoldout: Processed 35564 (100.0%) in 35.49 sec. Users per second: 1002\n"
     ]
    },
    {
     "name": "stderr",
     "output_type": "stream",
     "text": [
      "[I 2025-01-06 23:19:18,161] Trial 114 finished with value: 0.2677164551857524 and parameters: {'topK': 48, 'alpha': 0.0014754410470579626, 'beta': 0.14341828299866666, 'normalize_similarity': True, 'implicit': True}. Best is trial 113 with value: 0.27138823403642065.\n"
     ]
    },
    {
     "name": "stdout",
     "output_type": "stream",
     "text": [
      "RP3betaRecommender: Similarity column 38121 (100.0%), 2003.93 column/sec. Elapsed time 19.02 sec\n",
      "EvaluatorHoldout: Ignoring 173 ( 0.5%) Users that have less than 1 test interactions\n",
      "EvaluatorHoldout: Processed 35563 (100.0%) in 35.64 sec. Users per second: 998\n",
      "RP3betaRecommender: Similarity column 38121 (100.0%), 1988.42 column/sec. Elapsed time 19.17 sec\n",
      "EvaluatorHoldout: Ignoring 163 ( 0.5%) Users that have less than 1 test interactions\n",
      "EvaluatorHoldout: Processed 35573 (100.0%) in 35.58 sec. Users per second: 1000\n",
      "RP3betaRecommender: Similarity column 38121 (100.0%), 1997.24 column/sec. Elapsed time 19.09 sec\n",
      "EvaluatorHoldout: Ignoring 150 ( 0.4%) Users that have less than 1 test interactions\n",
      "EvaluatorHoldout: Processed 35586 (100.0%) in 35.98 sec. Users per second: 989\n",
      "RP3betaRecommender: Similarity column 38121 (100.0%), 1976.85 column/sec. Elapsed time 19.28 sec\n",
      "EvaluatorHoldout: Ignoring 167 ( 0.5%) Users that have less than 1 test interactions\n",
      "EvaluatorHoldout: Processed 35569 (100.0%) in 35.83 sec. Users per second: 993\n",
      "RP3betaRecommender: Similarity column 38121 (100.0%), 1956.38 column/sec. Elapsed time 19.49 sec\n",
      "EvaluatorHoldout: Ignoring 172 ( 0.5%) Users that have less than 1 test interactions\n",
      "EvaluatorHoldout: Processed 35564 (100.0%) in 35.80 sec. Users per second: 993\n"
     ]
    },
    {
     "name": "stderr",
     "output_type": "stream",
     "text": [
      "[I 2025-01-06 23:24:04,321] Trial 115 finished with value: 0.27188525731966995 and parameters: {'topK': 50, 'alpha': 0.21737143036346682, 'beta': 0.13596677858103967, 'normalize_similarity': True, 'implicit': True}. Best is trial 115 with value: 0.27188525731966995.\n"
     ]
    },
    {
     "name": "stdout",
     "output_type": "stream",
     "text": [
      "RP3betaRecommender: Similarity column 38121 (100.0%), 1962.02 column/sec. Elapsed time 19.43 sec\n",
      "EvaluatorHoldout: Ignoring 173 ( 0.5%) Users that have less than 1 test interactions\n",
      "EvaluatorHoldout: Processed 35563 (100.0%) in 35.68 sec. Users per second: 997\n",
      "RP3betaRecommender: Similarity column 38121 (100.0%), 1962.09 column/sec. Elapsed time 19.43 sec\n",
      "EvaluatorHoldout: Ignoring 163 ( 0.5%) Users that have less than 1 test interactions\n",
      "EvaluatorHoldout: Processed 35573 (100.0%) in 35.92 sec. Users per second: 990\n",
      "RP3betaRecommender: Similarity column 38121 (100.0%), 1956.33 column/sec. Elapsed time 19.49 sec\n",
      "EvaluatorHoldout: Ignoring 150 ( 0.4%) Users that have less than 1 test interactions\n",
      "EvaluatorHoldout: Processed 35586 (100.0%) in 35.87 sec. Users per second: 992\n",
      "RP3betaRecommender: Similarity column 38121 (100.0%), 1955.36 column/sec. Elapsed time 19.50 sec\n",
      "EvaluatorHoldout: Ignoring 167 ( 0.5%) Users that have less than 1 test interactions\n",
      "EvaluatorHoldout: Processed 35569 (100.0%) in 35.69 sec. Users per second: 997\n",
      "RP3betaRecommender: Similarity column 38121 (100.0%), 1985.35 column/sec. Elapsed time 19.20 sec\n",
      "EvaluatorHoldout: Ignoring 172 ( 0.5%) Users that have less than 1 test interactions\n",
      "EvaluatorHoldout: Processed 35564 (100.0%) in 35.67 sec. Users per second: 997\n"
     ]
    },
    {
     "name": "stderr",
     "output_type": "stream",
     "text": [
      "[I 2025-01-06 23:28:51,565] Trial 116 finished with value: 0.2718533501189715 and parameters: {'topK': 52, 'alpha': 0.22327975333508107, 'beta': 0.12393662088389909, 'normalize_similarity': True, 'implicit': True}. Best is trial 115 with value: 0.27188525731966995.\n"
     ]
    },
    {
     "name": "stdout",
     "output_type": "stream",
     "text": [
      "RP3betaRecommender: Similarity column 38121 (100.0%), 2001.77 column/sec. Elapsed time 19.04 sec\n",
      "EvaluatorHoldout: Ignoring 173 ( 0.5%) Users that have less than 1 test interactions\n",
      "EvaluatorHoldout: Processed 35563 (100.0%) in 35.49 sec. Users per second: 1002\n",
      "RP3betaRecommender: Similarity column 38121 (100.0%), 2005.47 column/sec. Elapsed time 19.01 sec\n",
      "EvaluatorHoldout: Ignoring 163 ( 0.5%) Users that have less than 1 test interactions\n",
      "EvaluatorHoldout: Processed 35573 (100.0%) in 35.91 sec. Users per second: 991\n",
      "RP3betaRecommender: Similarity column 38121 (100.0%), 1982.61 column/sec. Elapsed time 19.23 sec\n",
      "EvaluatorHoldout: Ignoring 150 ( 0.4%) Users that have less than 1 test interactions\n",
      "EvaluatorHoldout: Processed 35586 (100.0%) in 35.74 sec. Users per second: 996\n",
      "RP3betaRecommender: Similarity column 38121 (100.0%), 1996.32 column/sec. Elapsed time 19.10 sec\n",
      "EvaluatorHoldout: Ignoring 167 ( 0.5%) Users that have less than 1 test interactions\n",
      "EvaluatorHoldout: Processed 35569 (100.0%) in 35.72 sec. Users per second: 996\n",
      "RP3betaRecommender: Similarity column 38121 (100.0%), 1978.38 column/sec. Elapsed time 19.27 sec\n",
      "EvaluatorHoldout: Ignoring 172 ( 0.5%) Users that have less than 1 test interactions\n",
      "EvaluatorHoldout: Processed 35564 (100.0%) in 35.91 sec. Users per second: 990\n"
     ]
    },
    {
     "name": "stderr",
     "output_type": "stream",
     "text": [
      "[I 2025-01-06 23:33:36,829] Trial 117 finished with value: 0.2718312689908628 and parameters: {'topK': 47, 'alpha': 0.22173991690453917, 'beta': 0.14525053654784514, 'normalize_similarity': True, 'implicit': True}. Best is trial 115 with value: 0.27188525731966995.\n"
     ]
    },
    {
     "name": "stdout",
     "output_type": "stream",
     "text": [
      "RP3betaRecommender: Similarity column 38121 (100.0%), 2009.07 column/sec. Elapsed time 18.97 sec\n",
      "EvaluatorHoldout: Ignoring 173 ( 0.5%) Users that have less than 1 test interactions\n",
      "EvaluatorHoldout: Processed 35563 (100.0%) in 35.94 sec. Users per second: 989\n",
      "RP3betaRecommender: Similarity column 38121 (100.0%), 2004.05 column/sec. Elapsed time 19.02 sec\n",
      "EvaluatorHoldout: Ignoring 163 ( 0.5%) Users that have less than 1 test interactions\n",
      "EvaluatorHoldout: Processed 35573 (100.0%) in 35.67 sec. Users per second: 997\n",
      "RP3betaRecommender: Similarity column 38121 (100.0%), 1988.06 column/sec. Elapsed time 19.17 sec\n",
      "EvaluatorHoldout: Ignoring 150 ( 0.4%) Users that have less than 1 test interactions\n",
      "EvaluatorHoldout: Processed 35586 (100.0%) in 35.89 sec. Users per second: 991\n",
      "RP3betaRecommender: Similarity column 38121 (100.0%), 2005.27 column/sec. Elapsed time 19.01 sec\n",
      "EvaluatorHoldout: Ignoring 167 ( 0.5%) Users that have less than 1 test interactions\n",
      "EvaluatorHoldout: Processed 35569 (100.0%) in 35.80 sec. Users per second: 994\n",
      "RP3betaRecommender: Similarity column 38121 (100.0%), 1967.35 column/sec. Elapsed time 19.38 sec\n",
      "EvaluatorHoldout: Ignoring 172 ( 0.5%) Users that have less than 1 test interactions\n",
      "EvaluatorHoldout: Processed 35564 (100.0%) in 35.56 sec. Users per second: 1000\n"
     ]
    },
    {
     "name": "stderr",
     "output_type": "stream",
     "text": [
      "[I 2025-01-06 23:38:21,992] Trial 118 finished with value: 0.26790289261723665 and parameters: {'topK': 46, 'alpha': 0.008703354667973062, 'beta': 0.1421409320701682, 'normalize_similarity': True, 'implicit': True}. Best is trial 115 with value: 0.27188525731966995.\n"
     ]
    },
    {
     "name": "stdout",
     "output_type": "stream",
     "text": [
      "RP3betaRecommender: Similarity column 38121 (100.0%), 1991.42 column/sec. Elapsed time 19.14 sec\n",
      "EvaluatorHoldout: Ignoring 173 ( 0.5%) Users that have less than 1 test interactions\n",
      "EvaluatorHoldout: Processed 35563 (100.0%) in 36.12 sec. Users per second: 985\n",
      "RP3betaRecommender: Similarity column 38121 (100.0%), 1983.52 column/sec. Elapsed time 19.22 sec\n",
      "EvaluatorHoldout: Ignoring 163 ( 0.5%) Users that have less than 1 test interactions\n",
      "EvaluatorHoldout: Processed 35573 (100.0%) in 36.16 sec. Users per second: 984\n",
      "RP3betaRecommender: Similarity column 38121 (100.0%), 1965.99 column/sec. Elapsed time 19.39 sec\n",
      "EvaluatorHoldout: Ignoring 150 ( 0.4%) Users that have less than 1 test interactions\n",
      "EvaluatorHoldout: Processed 35586 (100.0%) in 36.21 sec. Users per second: 983\n",
      "RP3betaRecommender: Similarity column 38121 (100.0%), 1953.14 column/sec. Elapsed time 19.52 sec\n",
      "EvaluatorHoldout: Ignoring 167 ( 0.5%) Users that have less than 1 test interactions\n",
      "EvaluatorHoldout: Processed 35569 (100.0%) in 36.25 sec. Users per second: 981\n",
      "RP3betaRecommender: Similarity column 38121 (100.0%), 1971.03 column/sec. Elapsed time 19.34 sec\n",
      "EvaluatorHoldout: Ignoring 172 ( 0.5%) Users that have less than 1 test interactions\n",
      "EvaluatorHoldout: Processed 35564 (100.0%) in 36.23 sec. Users per second: 981\n"
     ]
    },
    {
     "name": "stderr",
     "output_type": "stream",
     "text": [
      "[I 2025-01-06 23:43:10,662] Trial 119 finished with value: 0.20537685084660667 and parameters: {'topK': 49, 'alpha': 0.005967856720112408, 'beta': 0.14546365135336128, 'normalize_similarity': False, 'implicit': True}. Best is trial 115 with value: 0.27188525731966995.\n"
     ]
    },
    {
     "name": "stdout",
     "output_type": "stream",
     "text": [
      "RP3betaRecommender: Similarity column 38121 (100.0%), 2061.43 column/sec. Elapsed time 18.49 sec\n",
      "EvaluatorHoldout: Ignoring 173 ( 0.5%) Users that have less than 1 test interactions\n",
      "EvaluatorHoldout: Processed 35563 (100.0%) in 35.63 sec. Users per second: 998\n",
      "RP3betaRecommender: Similarity column 38121 (100.0%), 2046.07 column/sec. Elapsed time 18.63 sec\n",
      "EvaluatorHoldout: Ignoring 163 ( 0.5%) Users that have less than 1 test interactions\n",
      "EvaluatorHoldout: Processed 35573 (100.0%) in 35.65 sec. Users per second: 998\n",
      "RP3betaRecommender: Similarity column 38121 (100.0%), 2039.40 column/sec. Elapsed time 18.69 sec\n",
      "EvaluatorHoldout: Ignoring 150 ( 0.4%) Users that have less than 1 test interactions\n",
      "EvaluatorHoldout: Processed 35586 (100.0%) in 35.46 sec. Users per second: 1003\n",
      "RP3betaRecommender: Similarity column 38121 (100.0%), 2035.10 column/sec. Elapsed time 18.73 sec\n",
      "EvaluatorHoldout: Ignoring 167 ( 0.5%) Users that have less than 1 test interactions\n",
      "EvaluatorHoldout: Processed 35569 (100.0%) in 35.61 sec. Users per second: 999\n",
      "RP3betaRecommender: Similarity column 38121 (100.0%), 2022.94 column/sec. Elapsed time 18.84 sec\n",
      "EvaluatorHoldout: Ignoring 172 ( 0.5%) Users that have less than 1 test interactions\n",
      "EvaluatorHoldout: Processed 35564 (100.0%) in 35.36 sec. Users per second: 1006\n"
     ]
    },
    {
     "name": "stderr",
     "output_type": "stream",
     "text": [
      "[I 2025-01-06 23:47:51,312] Trial 120 finished with value: 0.27132057497870404 and parameters: {'topK': 35, 'alpha': 0.2349586128829164, 'beta': 0.20105940531115948, 'normalize_similarity': True, 'implicit': True}. Best is trial 115 with value: 0.27188525731966995.\n"
     ]
    },
    {
     "name": "stdout",
     "output_type": "stream",
     "text": [
      "RP3betaRecommender: Similarity column 38121 (100.0%), 2000.82 column/sec. Elapsed time 19.05 sec\n",
      "EvaluatorHoldout: Ignoring 173 ( 0.5%) Users that have less than 1 test interactions\n",
      "EvaluatorHoldout: Processed 35563 (100.0%) in 36.30 sec. Users per second: 980\n",
      "RP3betaRecommender: Similarity column 38121 (100.0%), 2007.85 column/sec. Elapsed time 18.99 sec\n",
      "EvaluatorHoldout: Ignoring 163 ( 0.5%) Users that have less than 1 test interactions\n",
      "EvaluatorHoldout: Processed 35573 (100.0%) in 35.74 sec. Users per second: 995\n",
      "RP3betaRecommender: Similarity column 38121 (100.0%), 1955.52 column/sec. Elapsed time 19.49 sec\n",
      "EvaluatorHoldout: Ignoring 150 ( 0.4%) Users that have less than 1 test interactions\n",
      "EvaluatorHoldout: Processed 35586 (100.0%) in 36.18 sec. Users per second: 984\n",
      "RP3betaRecommender: Similarity column 38121 (100.0%), 2016.65 column/sec. Elapsed time 18.90 sec\n",
      "EvaluatorHoldout: Ignoring 167 ( 0.5%) Users that have less than 1 test interactions\n",
      "EvaluatorHoldout: Processed 35569 (100.0%) in 35.99 sec. Users per second: 988\n",
      "RP3betaRecommender: Similarity column 38121 (100.0%), 1991.04 column/sec. Elapsed time 19.15 sec\n",
      "EvaluatorHoldout: Ignoring 172 ( 0.5%) Users that have less than 1 test interactions\n",
      "EvaluatorHoldout: Processed 35564 (100.0%) in 35.77 sec. Users per second: 994\n"
     ]
    },
    {
     "name": "stderr",
     "output_type": "stream",
     "text": [
      "[I 2025-01-06 23:52:37,525] Trial 121 finished with value: 0.2724582734531121 and parameters: {'topK': 42, 'alpha': 0.20673595119324567, 'beta': 0.20323642898951874, 'normalize_similarity': True, 'implicit': True}. Best is trial 121 with value: 0.2724582734531121.\n"
     ]
    },
    {
     "name": "stdout",
     "output_type": "stream",
     "text": [
      "RP3betaRecommender: Similarity column 38121 (100.0%), 2019.92 column/sec. Elapsed time 18.87 sec\n",
      "EvaluatorHoldout: Ignoring 173 ( 0.5%) Users that have less than 1 test interactions\n",
      "EvaluatorHoldout: Processed 35563 (100.0%) in 36.28 sec. Users per second: 980\n",
      "RP3betaRecommender: Similarity column 38121 (100.0%), 2038.01 column/sec. Elapsed time 18.71 sec\n",
      "EvaluatorHoldout: Ignoring 163 ( 0.5%) Users that have less than 1 test interactions\n",
      "EvaluatorHoldout: Processed 35573 (100.0%) in 35.81 sec. Users per second: 993\n",
      "RP3betaRecommender: Similarity column 38121 (100.0%), 2018.16 column/sec. Elapsed time 18.89 sec\n",
      "EvaluatorHoldout: Ignoring 150 ( 0.4%) Users that have less than 1 test interactions\n",
      "EvaluatorHoldout: Processed 35586 (100.0%) in 35.70 sec. Users per second: 997\n",
      "RP3betaRecommender: Similarity column 38121 (100.0%), 2022.50 column/sec. Elapsed time 18.85 sec\n",
      "EvaluatorHoldout: Ignoring 167 ( 0.5%) Users that have less than 1 test interactions\n",
      "EvaluatorHoldout: Processed 35569 (100.0%) in 35.85 sec. Users per second: 992\n",
      "RP3betaRecommender: Similarity column 38121 (100.0%), 2001.74 column/sec. Elapsed time 19.04 sec\n",
      "EvaluatorHoldout: Ignoring 172 ( 0.5%) Users that have less than 1 test interactions\n",
      "EvaluatorHoldout: Processed 35564 (100.0%) in 35.84 sec. Users per second: 992\n"
     ]
    },
    {
     "name": "stderr",
     "output_type": "stream",
     "text": [
      "[I 2025-01-06 23:57:21,801] Trial 122 finished with value: 0.27224701766333076 and parameters: {'topK': 39, 'alpha': 0.2274576241331156, 'beta': 0.21203580885946333, 'normalize_similarity': True, 'implicit': True}. Best is trial 121 with value: 0.2724582734531121.\n"
     ]
    },
    {
     "name": "stdout",
     "output_type": "stream",
     "text": [
      "RP3betaRecommender: Similarity column 38121 (100.0%), 2071.37 column/sec. Elapsed time 18.40 sec\n",
      "EvaluatorHoldout: Ignoring 173 ( 0.5%) Users that have less than 1 test interactions\n",
      "EvaluatorHoldout: Processed 35563 (100.0%) in 35.43 sec. Users per second: 1004\n",
      "RP3betaRecommender: Similarity column 38121 (100.0%), 2075.58 column/sec. Elapsed time 18.37 sec\n",
      "EvaluatorHoldout: Ignoring 163 ( 0.5%) Users that have less than 1 test interactions\n",
      "EvaluatorHoldout: Processed 35573 (100.0%) in 35.35 sec. Users per second: 1006\n",
      "RP3betaRecommender: Similarity column 38121 (100.0%), 2030.60 column/sec. Elapsed time 18.77 sec\n",
      "EvaluatorHoldout: Ignoring 150 ( 0.4%) Users that have less than 1 test interactions\n",
      "EvaluatorHoldout: Processed 35586 (100.0%) in 35.39 sec. Users per second: 1005\n",
      "RP3betaRecommender: Similarity column 38121 (100.0%), 2050.70 column/sec. Elapsed time 18.59 sec\n",
      "EvaluatorHoldout: Ignoring 167 ( 0.5%) Users that have less than 1 test interactions\n",
      "EvaluatorHoldout: Processed 35569 (100.0%) in 35.27 sec. Users per second: 1008\n",
      "RP3betaRecommender: Similarity column 38121 (100.0%), 2061.00 column/sec. Elapsed time 18.50 sec\n",
      "EvaluatorHoldout: Ignoring 172 ( 0.5%) Users that have less than 1 test interactions\n",
      "EvaluatorHoldout: Processed 35564 (100.0%) in 35.38 sec. Users per second: 1005\n"
     ]
    },
    {
     "name": "stderr",
     "output_type": "stream",
     "text": [
      "[I 2025-01-07 00:02:00,651] Trial 123 finished with value: 0.27119340214206755 and parameters: {'topK': 33, 'alpha': 0.23906626286917063, 'beta': 0.210327283356379, 'normalize_similarity': True, 'implicit': True}. Best is trial 121 with value: 0.2724582734531121.\n"
     ]
    },
    {
     "name": "stdout",
     "output_type": "stream",
     "text": [
      "RP3betaRecommender: Similarity column 38121 (100.0%), 1992.14 column/sec. Elapsed time 19.14 sec\n",
      "EvaluatorHoldout: Ignoring 173 ( 0.5%) Users that have less than 1 test interactions\n",
      "EvaluatorHoldout: Processed 35563 (100.0%) in 36.10 sec. Users per second: 985\n",
      "RP3betaRecommender: Similarity column 38121 (100.0%), 1985.29 column/sec. Elapsed time 19.20 sec\n",
      "EvaluatorHoldout: Ignoring 163 ( 0.5%) Users that have less than 1 test interactions\n",
      "EvaluatorHoldout: Processed 35573 (100.0%) in 35.99 sec. Users per second: 989\n",
      "RP3betaRecommender: Similarity column 38121 (100.0%), 1996.51 column/sec. Elapsed time 19.09 sec\n",
      "EvaluatorHoldout: Ignoring 150 ( 0.4%) Users that have less than 1 test interactions\n",
      "EvaluatorHoldout: Processed 35586 (100.0%) in 36.11 sec. Users per second: 986\n",
      "RP3betaRecommender: Similarity column 38121 (100.0%), 2000.60 column/sec. Elapsed time 19.05 sec\n",
      "EvaluatorHoldout: Ignoring 167 ( 0.5%) Users that have less than 1 test interactions\n",
      "EvaluatorHoldout: Processed 35569 (100.0%) in 35.96 sec. Users per second: 989\n",
      "RP3betaRecommender: Similarity column 38121 (100.0%), 1991.78 column/sec. Elapsed time 19.14 sec\n",
      "EvaluatorHoldout: Ignoring 172 ( 0.5%) Users that have less than 1 test interactions\n",
      "EvaluatorHoldout: Processed 35564 (100.0%) in 36.03 sec. Users per second: 987\n"
     ]
    },
    {
     "name": "stderr",
     "output_type": "stream",
     "text": [
      "[I 2025-01-07 00:06:47,772] Trial 124 finished with value: 0.2730729651320056 and parameters: {'topK': 46, 'alpha': 0.23187489873725164, 'beta': 0.2036985298652056, 'normalize_similarity': True, 'implicit': True}. Best is trial 124 with value: 0.2730729651320056.\n"
     ]
    },
    {
     "name": "stdout",
     "output_type": "stream",
     "text": [
      "RP3betaRecommender: Similarity column 38121 (100.0%), 2171.47 column/sec. Elapsed time 17.56 sec\n",
      "EvaluatorHoldout: Ignoring 173 ( 0.5%) Users that have less than 1 test interactions\n",
      "EvaluatorHoldout: Processed 35563 (100.0%) in 34.56 sec. Users per second: 1029\n",
      "RP3betaRecommender: Similarity column 38121 (100.0%), 2159.40 column/sec. Elapsed time 17.65 sec\n",
      "EvaluatorHoldout: Ignoring 163 ( 0.5%) Users that have less than 1 test interactions\n",
      "EvaluatorHoldout: Processed 35573 (100.0%) in 34.31 sec. Users per second: 1037\n",
      "RP3betaRecommender: Similarity column 38121 (100.0%), 2155.39 column/sec. Elapsed time 17.69 sec\n",
      "EvaluatorHoldout: Ignoring 150 ( 0.4%) Users that have less than 1 test interactions\n",
      "EvaluatorHoldout: Processed 35586 (100.0%) in 34.41 sec. Users per second: 1034\n",
      "RP3betaRecommender: Similarity column 38121 (100.0%), 2174.61 column/sec. Elapsed time 17.53 sec\n",
      "EvaluatorHoldout: Ignoring 167 ( 0.5%) Users that have less than 1 test interactions\n",
      "EvaluatorHoldout: Processed 35569 (100.0%) in 34.51 sec. Users per second: 1031\n",
      "RP3betaRecommender: Similarity column 38121 (100.0%), 2170.11 column/sec. Elapsed time 17.57 sec\n",
      "EvaluatorHoldout: Ignoring 172 ( 0.5%) Users that have less than 1 test interactions\n",
      "EvaluatorHoldout: Processed 35564 (100.0%) in 34.43 sec. Users per second: 1033\n"
     ]
    },
    {
     "name": "stderr",
     "output_type": "stream",
     "text": [
      "[I 2025-01-07 00:11:14,583] Trial 125 finished with value: 0.2636100196647523 and parameters: {'topK': 18, 'alpha': 0.2214857712266538, 'beta': 0.2133515467056503, 'normalize_similarity': True, 'implicit': True}. Best is trial 124 with value: 0.2730729651320056.\n"
     ]
    },
    {
     "name": "stdout",
     "output_type": "stream",
     "text": [
      "RP3betaRecommender: Similarity column 38121 (100.0%), 2076.17 column/sec. Elapsed time 18.36 sec\n",
      "EvaluatorHoldout: Ignoring 173 ( 0.5%) Users that have less than 1 test interactions\n",
      "EvaluatorHoldout: Processed 35563 (100.0%) in 35.43 sec. Users per second: 1004\n",
      "RP3betaRecommender: Similarity column 38121 (100.0%), 2072.21 column/sec. Elapsed time 18.40 sec\n",
      "EvaluatorHoldout: Ignoring 163 ( 0.5%) Users that have less than 1 test interactions\n",
      "EvaluatorHoldout: Processed 35573 (100.0%) in 35.37 sec. Users per second: 1006\n",
      "RP3betaRecommender: Similarity column 38121 (100.0%), 2061.44 column/sec. Elapsed time 18.49 sec\n",
      "EvaluatorHoldout: Ignoring 150 ( 0.4%) Users that have less than 1 test interactions\n",
      "EvaluatorHoldout: Processed 35586 (100.0%) in 35.41 sec. Users per second: 1005\n",
      "RP3betaRecommender: Similarity column 38121 (100.0%), 2077.71 column/sec. Elapsed time 18.35 sec\n",
      "EvaluatorHoldout: Ignoring 167 ( 0.5%) Users that have less than 1 test interactions\n",
      "EvaluatorHoldout: Processed 35569 (100.0%) in 35.53 sec. Users per second: 1001\n",
      "RP3betaRecommender: Similarity column 38121 (100.0%), 2053.46 column/sec. Elapsed time 18.56 sec\n",
      "EvaluatorHoldout: Ignoring 172 ( 0.5%) Users that have less than 1 test interactions\n",
      "EvaluatorHoldout: Processed 35564 (100.0%) in 35.36 sec. Users per second: 1006\n"
     ]
    },
    {
     "name": "stderr",
     "output_type": "stream",
     "text": [
      "[I 2025-01-07 00:15:52,588] Trial 126 finished with value: 0.2700135462740574 and parameters: {'topK': 30, 'alpha': 0.23325178685407366, 'beta': 0.2056460828923438, 'normalize_similarity': True, 'implicit': True}. Best is trial 124 with value: 0.2730729651320056.\n"
     ]
    },
    {
     "name": "stdout",
     "output_type": "stream",
     "text": [
      "RP3betaRecommender: Similarity column 38121 (100.0%), 1468.98 column/sec. Elapsed time 25.95 sec\n",
      "EvaluatorHoldout: Ignoring 173 ( 0.5%) Users that have less than 1 test interactions\n",
      "EvaluatorHoldout: Processed 35563 (100.0%) in 40.44 sec. Users per second: 879\n",
      "RP3betaRecommender: Similarity column 38121 (100.0%), 1478.30 column/sec. Elapsed time 25.79 sec\n",
      "EvaluatorHoldout: Ignoring 163 ( 0.5%) Users that have less than 1 test interactions\n",
      "EvaluatorHoldout: Processed 35573 (100.0%) in 40.63 sec. Users per second: 875\n",
      "RP3betaRecommender: Similarity column 38121 (100.0%), 1464.51 column/sec. Elapsed time 26.03 sec\n",
      "EvaluatorHoldout: Ignoring 150 ( 0.4%) Users that have less than 1 test interactions\n",
      "EvaluatorHoldout: Processed 35586 (100.0%) in 40.41 sec. Users per second: 881\n",
      "RP3betaRecommender: Similarity column 38121 (100.0%), 1476.46 column/sec. Elapsed time 25.82 sec\n",
      "EvaluatorHoldout: Ignoring 167 ( 0.5%) Users that have less than 1 test interactions\n",
      "EvaluatorHoldout: Processed 35569 (100.0%) in 40.52 sec. Users per second: 878\n",
      "RP3betaRecommender: Similarity column 38121 (100.0%), 1475.03 column/sec. Elapsed time 25.84 sec\n",
      "EvaluatorHoldout: Ignoring 172 ( 0.5%) Users that have less than 1 test interactions\n",
      "EvaluatorHoldout: Processed 35564 (100.0%) in 40.58 sec. Users per second: 876\n"
     ]
    },
    {
     "name": "stderr",
     "output_type": "stream",
     "text": [
      "[I 2025-01-07 00:21:59,118] Trial 127 finished with value: 0.26857504519221986 and parameters: {'topK': 172, 'alpha': 0.23912679212181043, 'beta': 0.21573991203113863, 'normalize_similarity': True, 'implicit': True}. Best is trial 124 with value: 0.2730729651320056.\n"
     ]
    },
    {
     "name": "stdout",
     "output_type": "stream",
     "text": [
      "RP3betaRecommender: Similarity column 38121 (100.0%), 1364.47 column/sec. Elapsed time 27.94 sec\n",
      "EvaluatorHoldout: Ignoring 173 ( 0.5%) Users that have less than 1 test interactions\n",
      "EvaluatorHoldout: Processed 35563 (100.0%) in 41.64 sec. Users per second: 854\n",
      "RP3betaRecommender: Similarity column 38121 (100.0%), 1364.42 column/sec. Elapsed time 27.94 sec\n",
      "EvaluatorHoldout: Ignoring 163 ( 0.5%) Users that have less than 1 test interactions\n",
      "EvaluatorHoldout: Processed 35573 (100.0%) in 41.47 sec. Users per second: 858\n",
      "RP3betaRecommender: Similarity column 38121 (100.0%), 1348.91 column/sec. Elapsed time 28.26 sec\n",
      "EvaluatorHoldout: Ignoring 150 ( 0.4%) Users that have less than 1 test interactions\n",
      "EvaluatorHoldout: Processed 35586 (100.0%) in 41.31 sec. Users per second: 862\n",
      "RP3betaRecommender: Similarity column 38121 (100.0%), 1362.05 column/sec. Elapsed time 27.99 sec\n",
      "EvaluatorHoldout: Ignoring 167 ( 0.5%) Users that have less than 1 test interactions\n",
      "EvaluatorHoldout: Processed 35569 (100.0%) in 41.70 sec. Users per second: 853\n",
      "RP3betaRecommender: Similarity column 38121 (100.0%), 1356.67 column/sec. Elapsed time 28.10 sec\n",
      "EvaluatorHoldout: Ignoring 172 ( 0.5%) Users that have less than 1 test interactions\n",
      "EvaluatorHoldout: Processed 35564 (100.0%) in 42.05 sec. Users per second: 846\n"
     ]
    },
    {
     "name": "stderr",
     "output_type": "stream",
     "text": [
      "[I 2025-01-07 00:28:31,027] Trial 128 finished with value: 0.2674352232684075 and parameters: {'topK': 212, 'alpha': 0.34798674471190016, 'beta': 0.19431741206076053, 'normalize_similarity': True, 'implicit': True}. Best is trial 124 with value: 0.2730729651320056.\n"
     ]
    },
    {
     "name": "stdout",
     "output_type": "stream",
     "text": [
      "RP3betaRecommender: Similarity column 38121 (100.0%), 2090.33 column/sec. Elapsed time 18.24 sec\n",
      "EvaluatorHoldout: Ignoring 173 ( 0.5%) Users that have less than 1 test interactions\n",
      "EvaluatorHoldout: Processed 35563 (100.0%) in 35.19 sec. Users per second: 1011\n",
      "RP3betaRecommender: Similarity column 38121 (100.0%), 2134.57 column/sec. Elapsed time 17.86 sec\n",
      "EvaluatorHoldout: Ignoring 163 ( 0.5%) Users that have less than 1 test interactions\n",
      "EvaluatorHoldout: Processed 35573 (100.0%) in 35.56 sec. Users per second: 1000\n",
      "RP3betaRecommender: Similarity column 38121 (100.0%), 2075.00 column/sec. Elapsed time 18.37 sec\n",
      "EvaluatorHoldout: Ignoring 150 ( 0.4%) Users that have less than 1 test interactions\n",
      "EvaluatorHoldout: Processed 35586 (100.0%) in 35.34 sec. Users per second: 1007\n",
      "RP3betaRecommender: Similarity column 38121 (100.0%), 2061.32 column/sec. Elapsed time 18.49 sec\n",
      "EvaluatorHoldout: Ignoring 167 ( 0.5%) Users that have less than 1 test interactions\n",
      "EvaluatorHoldout: Processed 35569 (100.0%) in 34.89 sec. Users per second: 1019\n",
      "RP3betaRecommender: Similarity column 38121 (100.0%), 2113.90 column/sec. Elapsed time 18.03 sec\n",
      "EvaluatorHoldout: Ignoring 172 ( 0.5%) Users that have less than 1 test interactions\n",
      "EvaluatorHoldout: Processed 35564 (100.0%) in 34.92 sec. Users per second: 1018\n"
     ]
    },
    {
     "name": "stderr",
     "output_type": "stream",
     "text": [
      "[I 2025-01-07 00:33:06,275] Trial 129 finished with value: 0.269090192682378 and parameters: {'topK': 25, 'alpha': 0.22776717668108312, 'beta': 0.2713035630695714, 'normalize_similarity': True, 'implicit': True}. Best is trial 124 with value: 0.2730729651320056.\n"
     ]
    },
    {
     "name": "stdout",
     "output_type": "stream",
     "text": [
      "RP3betaRecommender: Similarity column 38121 (100.0%), 2148.07 column/sec. Elapsed time 17.75 sec\n",
      "EvaluatorHoldout: Ignoring 173 ( 0.5%) Users that have less than 1 test interactions\n",
      "EvaluatorHoldout: Processed 35563 (100.0%) in 34.60 sec. Users per second: 1028\n",
      "RP3betaRecommender: Similarity column 38121 (100.0%), 2146.66 column/sec. Elapsed time 17.76 sec\n",
      "EvaluatorHoldout: Ignoring 163 ( 0.5%) Users that have less than 1 test interactions\n",
      "EvaluatorHoldout: Processed 35573 (100.0%) in 34.70 sec. Users per second: 1025\n",
      "RP3betaRecommender: Similarity column 38121 (100.0%), 2096.71 column/sec. Elapsed time 18.18 sec\n",
      "EvaluatorHoldout: Ignoring 150 ( 0.4%) Users that have less than 1 test interactions\n",
      "EvaluatorHoldout: Processed 35586 (100.0%) in 34.64 sec. Users per second: 1027\n",
      "RP3betaRecommender: Similarity column 38121 (100.0%), 2140.12 column/sec. Elapsed time 17.81 sec\n",
      "EvaluatorHoldout: Ignoring 167 ( 0.5%) Users that have less than 1 test interactions\n",
      "EvaluatorHoldout: Processed 35569 (100.0%) in 34.77 sec. Users per second: 1023\n",
      "RP3betaRecommender: Similarity column 38121 (100.0%), 2090.28 column/sec. Elapsed time 18.24 sec\n",
      "EvaluatorHoldout: Ignoring 172 ( 0.5%) Users that have less than 1 test interactions\n",
      "EvaluatorHoldout: Processed 35564 (100.0%) in 34.55 sec. Users per second: 1029\n"
     ]
    },
    {
     "name": "stderr",
     "output_type": "stream",
     "text": [
      "[I 2025-01-07 00:37:37,066] Trial 130 finished with value: 0.26865093457692557 and parameters: {'topK': 24, 'alpha': 0.24415020267172377, 'beta': 0.25629931203960454, 'normalize_similarity': True, 'implicit': True}. Best is trial 124 with value: 0.2730729651320056.\n"
     ]
    },
    {
     "name": "stdout",
     "output_type": "stream",
     "text": [
      "RP3betaRecommender: Similarity column 38121 (100.0%), 1902.67 column/sec. Elapsed time 20.04 sec\n",
      "EvaluatorHoldout: Ignoring 173 ( 0.5%) Users that have less than 1 test interactions\n",
      "EvaluatorHoldout: Processed 35563 (100.0%) in 37.48 sec. Users per second: 949\n",
      "RP3betaRecommender: Similarity column 38121 (100.0%), 1901.42 column/sec. Elapsed time 20.05 sec\n",
      "EvaluatorHoldout: Ignoring 163 ( 0.5%) Users that have less than 1 test interactions\n",
      "EvaluatorHoldout: Processed 35573 (100.0%) in 37.28 sec. Users per second: 954\n",
      "RP3betaRecommender: Similarity column 38121 (100.0%), 1884.87 column/sec. Elapsed time 20.22 sec\n",
      "EvaluatorHoldout: Ignoring 150 ( 0.4%) Users that have less than 1 test interactions\n",
      "EvaluatorHoldout: Processed 35586 (100.0%) in 37.39 sec. Users per second: 952\n",
      "RP3betaRecommender: Similarity column 38121 (100.0%), 1900.51 column/sec. Elapsed time 20.06 sec\n",
      "EvaluatorHoldout: Ignoring 167 ( 0.5%) Users that have less than 1 test interactions\n",
      "EvaluatorHoldout: Processed 35569 (100.0%) in 37.16 sec. Users per second: 957\n",
      "RP3betaRecommender: Similarity column 38121 (100.0%), 1914.36 column/sec. Elapsed time 19.91 sec\n",
      "EvaluatorHoldout: Ignoring 172 ( 0.5%) Users that have less than 1 test interactions\n",
      "EvaluatorHoldout: Processed 35564 (100.0%) in 37.12 sec. Users per second: 958\n"
     ]
    },
    {
     "name": "stderr",
     "output_type": "stream",
     "text": [
      "[I 2025-01-07 00:42:39,882] Trial 131 finished with value: 0.274466502035252 and parameters: {'topK': 65, 'alpha': 0.3332169091177499, 'beta': 0.3302896650024042, 'normalize_similarity': True, 'implicit': True}. Best is trial 131 with value: 0.274466502035252.\n"
     ]
    },
    {
     "name": "stdout",
     "output_type": "stream",
     "text": [
      "RP3betaRecommender: Similarity column 38121 (100.0%), 1919.78 column/sec. Elapsed time 19.86 sec\n",
      "EvaluatorHoldout: Ignoring 173 ( 0.5%) Users that have less than 1 test interactions\n",
      "EvaluatorHoldout: Processed 35563 (100.0%) in 37.58 sec. Users per second: 946\n",
      "RP3betaRecommender: Similarity column 38121 (100.0%), 1920.51 column/sec. Elapsed time 19.85 sec\n",
      "EvaluatorHoldout: Ignoring 163 ( 0.5%) Users that have less than 1 test interactions\n",
      "EvaluatorHoldout: Processed 35573 (100.0%) in 37.49 sec. Users per second: 949\n",
      "RP3betaRecommender: Similarity column 38121 (100.0%), 1903.17 column/sec. Elapsed time 20.03 sec\n",
      "EvaluatorHoldout: Ignoring 150 ( 0.4%) Users that have less than 1 test interactions\n",
      "EvaluatorHoldout: Processed 35586 (100.0%) in 37.83 sec. Users per second: 941\n",
      "RP3betaRecommender: Similarity column 38121 (100.0%), 1866.41 column/sec. Elapsed time 20.42 sec\n",
      "EvaluatorHoldout: Ignoring 167 ( 0.5%) Users that have less than 1 test interactions\n",
      "EvaluatorHoldout: Processed 35569 (100.0%) in 37.68 sec. Users per second: 944\n",
      "RP3betaRecommender: Similarity column 38121 (100.0%), 1867.15 column/sec. Elapsed time 20.42 sec\n",
      "EvaluatorHoldout: Ignoring 172 ( 0.5%) Users that have less than 1 test interactions\n",
      "EvaluatorHoldout: Processed 35564 (100.0%) in 37.54 sec. Users per second: 947\n"
     ]
    },
    {
     "name": "stderr",
     "output_type": "stream",
     "text": [
      "[I 2025-01-07 00:47:44,814] Trial 132 finished with value: 0.2746343609220171 and parameters: {'topK': 65, 'alpha': 0.32966058212904803, 'beta': 0.3123315238736174, 'normalize_similarity': True, 'implicit': True}. Best is trial 132 with value: 0.2746343609220171.\n"
     ]
    },
    {
     "name": "stdout",
     "output_type": "stream",
     "text": [
      "RP3betaRecommender: Similarity column 38121 (100.0%), 1896.81 column/sec. Elapsed time 20.10 sec\n",
      "EvaluatorHoldout: Ignoring 173 ( 0.5%) Users that have less than 1 test interactions\n",
      "EvaluatorHoldout: Processed 35563 (100.0%) in 37.35 sec. Users per second: 952\n",
      "RP3betaRecommender: Similarity column 38121 (100.0%), 1896.77 column/sec. Elapsed time 20.10 sec\n",
      "EvaluatorHoldout: Ignoring 163 ( 0.5%) Users that have less than 1 test interactions\n",
      "EvaluatorHoldout: Processed 35573 (100.0%) in 37.24 sec. Users per second: 955\n",
      "RP3betaRecommender: Similarity column 38121 (100.0%), 1898.59 column/sec. Elapsed time 20.08 sec\n",
      "EvaluatorHoldout: Ignoring 150 ( 0.4%) Users that have less than 1 test interactions\n",
      "EvaluatorHoldout: Processed 35586 (100.0%) in 37.21 sec. Users per second: 956\n",
      "RP3betaRecommender: Similarity column 38121 (100.0%), 1903.72 column/sec. Elapsed time 20.02 sec\n",
      "EvaluatorHoldout: Ignoring 167 ( 0.5%) Users that have less than 1 test interactions\n",
      "EvaluatorHoldout: Processed 35569 (100.0%) in 37.35 sec. Users per second: 952\n",
      "RP3betaRecommender: Similarity column 38121 (100.0%), 1909.42 column/sec. Elapsed time 19.96 sec\n",
      "EvaluatorHoldout: Ignoring 172 ( 0.5%) Users that have less than 1 test interactions\n",
      "EvaluatorHoldout: Processed 35564 (100.0%) in 37.08 sec. Users per second: 959\n"
     ]
    },
    {
     "name": "stderr",
     "output_type": "stream",
     "text": [
      "[I 2025-01-07 00:52:46,233] Trial 133 finished with value: 0.27408906890590296 and parameters: {'topK': 58, 'alpha': 0.33915837815636773, 'beta': 0.3423541146225434, 'normalize_similarity': True, 'implicit': True}. Best is trial 132 with value: 0.2746343609220171.\n"
     ]
    },
    {
     "name": "stdout",
     "output_type": "stream",
     "text": [
      "RP3betaRecommender: Similarity column 38121 (100.0%), 1874.41 column/sec. Elapsed time 20.34 sec\n",
      "EvaluatorHoldout: Ignoring 173 ( 0.5%) Users that have less than 1 test interactions\n",
      "EvaluatorHoldout: Processed 35563 (100.0%) in 36.51 sec. Users per second: 974\n",
      "RP3betaRecommender: Similarity column 38121 (100.0%), 1863.78 column/sec. Elapsed time 20.45 sec\n",
      "EvaluatorHoldout: Ignoring 163 ( 0.5%) Users that have less than 1 test interactions\n",
      "EvaluatorHoldout: Processed 35573 (100.0%) in 36.70 sec. Users per second: 969\n",
      "RP3betaRecommender: Similarity column 38121 (100.0%), 1858.96 column/sec. Elapsed time 20.51 sec\n",
      "EvaluatorHoldout: Ignoring 150 ( 0.4%) Users that have less than 1 test interactions\n",
      "EvaluatorHoldout: Processed 35586 (100.0%) in 36.91 sec. Users per second: 964\n",
      "RP3betaRecommender: Similarity column 38121 (100.0%), 1859.10 column/sec. Elapsed time 20.51 sec\n",
      "EvaluatorHoldout: Ignoring 167 ( 0.5%) Users that have less than 1 test interactions\n",
      "EvaluatorHoldout: Processed 35569 (100.0%) in 36.59 sec. Users per second: 972\n",
      "RP3betaRecommender: Similarity column 38121 (100.0%), 1850.62 column/sec. Elapsed time 20.60 sec\n",
      "EvaluatorHoldout: Ignoring 172 ( 0.5%) Users that have less than 1 test interactions\n",
      "EvaluatorHoldout: Processed 35564 (100.0%) in 36.67 sec. Users per second: 970\n"
     ]
    },
    {
     "name": "stderr",
     "output_type": "stream",
     "text": [
      "[I 2025-01-07 00:57:47,358] Trial 134 finished with value: 0.2728339438111362 and parameters: {'topK': 73, 'alpha': 0.31027198001066586, 'beta': 0.12688064752605363, 'normalize_similarity': True, 'implicit': True}. Best is trial 132 with value: 0.2746343609220171.\n"
     ]
    },
    {
     "name": "stdout",
     "output_type": "stream",
     "text": [
      "RP3betaRecommender: Similarity column 38121 (100.0%), 1898.42 column/sec. Elapsed time 20.08 sec\n",
      "EvaluatorHoldout: Ignoring 173 ( 0.5%) Users that have less than 1 test interactions\n",
      "EvaluatorHoldout: Processed 35563 (100.0%) in 36.72 sec. Users per second: 969\n",
      "RP3betaRecommender: Similarity column 38121 (100.0%), 1849.39 column/sec. Elapsed time 20.61 sec\n",
      "EvaluatorHoldout: Ignoring 163 ( 0.5%) Users that have less than 1 test interactions\n",
      "EvaluatorHoldout: Processed 35573 (100.0%) in 36.33 sec. Users per second: 979\n",
      "RP3betaRecommender: Similarity column 38121 (100.0%), 1878.06 column/sec. Elapsed time 20.30 sec\n",
      "EvaluatorHoldout: Ignoring 150 ( 0.4%) Users that have less than 1 test interactions\n",
      "EvaluatorHoldout: Processed 35586 (100.0%) in 36.33 sec. Users per second: 979\n",
      "RP3betaRecommender: Similarity column 38121 (100.0%), 1874.43 column/sec. Elapsed time 20.34 sec\n",
      "EvaluatorHoldout: Ignoring 167 ( 0.5%) Users that have less than 1 test interactions\n",
      "EvaluatorHoldout: Processed 35569 (100.0%) in 36.71 sec. Users per second: 969\n",
      "RP3betaRecommender: Similarity column 38121 (100.0%), 1875.51 column/sec. Elapsed time 20.33 sec\n",
      "EvaluatorHoldout: Ignoring 172 ( 0.5%) Users that have less than 1 test interactions\n",
      "EvaluatorHoldout: Processed 35564 (100.0%) in 36.58 sec. Users per second: 972\n"
     ]
    },
    {
     "name": "stderr",
     "output_type": "stream",
     "text": [
      "[I 2025-01-07 01:02:46,111] Trial 135 finished with value: 0.27326357779686716 and parameters: {'topK': 67, 'alpha': 0.32223825938159056, 'beta': 0.13941524359756824, 'normalize_similarity': True, 'implicit': True}. Best is trial 132 with value: 0.2746343609220171.\n"
     ]
    },
    {
     "name": "stdout",
     "output_type": "stream",
     "text": [
      "RP3betaRecommender: Similarity column 38121 (100.0%), 1872.59 column/sec. Elapsed time 20.36 sec\n",
      "EvaluatorHoldout: Ignoring 173 ( 0.5%) Users that have less than 1 test interactions\n",
      "EvaluatorHoldout: Processed 35563 (100.0%) in 38.01 sec. Users per second: 936\n",
      "RP3betaRecommender: Similarity column 38121 (100.0%), 1860.27 column/sec. Elapsed time 20.49 sec\n",
      "EvaluatorHoldout: Ignoring 163 ( 0.5%) Users that have less than 1 test interactions\n",
      "EvaluatorHoldout: Processed 35573 (100.0%) in 37.82 sec. Users per second: 941\n",
      "RP3betaRecommender: Similarity column 38121 (100.0%), 1870.36 column/sec. Elapsed time 20.38 sec\n",
      "EvaluatorHoldout: Ignoring 150 ( 0.4%) Users that have less than 1 test interactions\n",
      "EvaluatorHoldout: Processed 35586 (100.0%) in 37.73 sec. Users per second: 943\n",
      "RP3betaRecommender: Similarity column 38121 (100.0%), 1892.47 column/sec. Elapsed time 20.14 sec\n",
      "EvaluatorHoldout: Ignoring 167 ( 0.5%) Users that have less than 1 test interactions\n",
      "EvaluatorHoldout: Processed 35569 (100.0%) in 37.92 sec. Users per second: 938\n",
      "RP3betaRecommender: Similarity column 38121 (100.0%), 1871.46 column/sec. Elapsed time 20.37 sec\n",
      "EvaluatorHoldout: Ignoring 172 ( 0.5%) Users that have less than 1 test interactions\n",
      "EvaluatorHoldout: Processed 35564 (100.0%) in 38.03 sec. Users per second: 935\n"
     ]
    },
    {
     "name": "stderr",
     "output_type": "stream",
     "text": [
      "[I 2025-01-07 01:07:55,142] Trial 136 finished with value: 0.27418791873796133 and parameters: {'topK': 70, 'alpha': 0.4399501413388889, 'beta': 0.3462189077351412, 'normalize_similarity': True, 'implicit': True}. Best is trial 132 with value: 0.2746343609220171.\n"
     ]
    },
    {
     "name": "stdout",
     "output_type": "stream",
     "text": [
      "RP3betaRecommender: Similarity column 38121 (100.0%), 1905.45 column/sec. Elapsed time 20.01 sec\n",
      "EvaluatorHoldout: Ignoring 173 ( 0.5%) Users that have less than 1 test interactions\n",
      "EvaluatorHoldout: Processed 35563 (100.0%) in 37.73 sec. Users per second: 943\n",
      "RP3betaRecommender: Similarity column 38121 (100.0%), 1887.73 column/sec. Elapsed time 20.19 sec\n",
      "EvaluatorHoldout: Ignoring 163 ( 0.5%) Users that have less than 1 test interactions\n",
      "EvaluatorHoldout: Processed 35573 (100.0%) in 37.76 sec. Users per second: 942\n",
      "RP3betaRecommender: Similarity column 38121 (100.0%), 1907.34 column/sec. Elapsed time 19.99 sec\n",
      "EvaluatorHoldout: Ignoring 150 ( 0.4%) Users that have less than 1 test interactions\n",
      "EvaluatorHoldout: Processed 35586 (100.0%) in 38.00 sec. Users per second: 936\n",
      "RP3betaRecommender: Similarity column 38121 (100.0%), 1889.36 column/sec. Elapsed time 20.18 sec\n",
      "EvaluatorHoldout: Ignoring 167 ( 0.5%) Users that have less than 1 test interactions\n",
      "EvaluatorHoldout: Processed 35569 (100.0%) in 37.80 sec. Users per second: 941\n",
      "RP3betaRecommender: Similarity column 38121 (100.0%), 1890.12 column/sec. Elapsed time 20.17 sec\n",
      "EvaluatorHoldout: Ignoring 172 ( 0.5%) Users that have less than 1 test interactions\n",
      "EvaluatorHoldout: Processed 35564 (100.0%) in 37.71 sec. Users per second: 943\n"
     ]
    },
    {
     "name": "stderr",
     "output_type": "stream",
     "text": [
      "[I 2025-01-07 01:13:01,215] Trial 137 finished with value: 0.2741989861707087 and parameters: {'topK': 65, 'alpha': 0.35893592145720077, 'beta': 0.3462021505268129, 'normalize_similarity': True, 'implicit': True}. Best is trial 132 with value: 0.2746343609220171.\n"
     ]
    },
    {
     "name": "stdout",
     "output_type": "stream",
     "text": [
      "RP3betaRecommender: Similarity column 38121 (100.0%), 1918.83 column/sec. Elapsed time 19.87 sec\n",
      "EvaluatorHoldout: Ignoring 173 ( 0.5%) Users that have less than 1 test interactions\n",
      "EvaluatorHoldout: Processed 35563 (100.0%) in 37.40 sec. Users per second: 951\n",
      "RP3betaRecommender: Similarity column 38121 (100.0%), 1896.00 column/sec. Elapsed time 20.11 sec\n",
      "EvaluatorHoldout: Ignoring 163 ( 0.5%) Users that have less than 1 test interactions\n",
      "EvaluatorHoldout: Processed 35573 (100.0%) in 37.58 sec. Users per second: 947\n",
      "RP3betaRecommender: Similarity column 38121 (100.0%), 1905.11 column/sec. Elapsed time 20.01 sec\n",
      "EvaluatorHoldout: Ignoring 150 ( 0.4%) Users that have less than 1 test interactions\n",
      "EvaluatorHoldout: Processed 35586 (100.0%) in 37.53 sec. Users per second: 948\n",
      "RP3betaRecommender: Similarity column 38121 (100.0%), 1906.55 column/sec. Elapsed time 19.99 sec\n",
      "EvaluatorHoldout: Ignoring 167 ( 0.5%) Users that have less than 1 test interactions\n",
      "EvaluatorHoldout: Processed 35569 (100.0%) in 37.54 sec. Users per second: 948\n",
      "RP3betaRecommender: Similarity column 38121 (100.0%), 1901.17 column/sec. Elapsed time 20.05 sec\n",
      "EvaluatorHoldout: Ignoring 172 ( 0.5%) Users that have less than 1 test interactions\n",
      "EvaluatorHoldout: Processed 35564 (100.0%) in 37.64 sec. Users per second: 945\n"
     ]
    },
    {
     "name": "stderr",
     "output_type": "stream",
     "text": [
      "[I 2025-01-07 01:18:04,883] Trial 138 finished with value: 0.2731660517284643 and parameters: {'topK': 62, 'alpha': 0.3441915559380407, 'beta': 0.38646137054928864, 'normalize_similarity': True, 'implicit': True}. Best is trial 132 with value: 0.2746343609220171.\n"
     ]
    },
    {
     "name": "stdout",
     "output_type": "stream",
     "text": [
      "RP3betaRecommender: Similarity column 38121 (100.0%), 1841.25 column/sec. Elapsed time 20.70 sec\n",
      "EvaluatorHoldout: Ignoring 173 ( 0.5%) Users that have less than 1 test interactions\n",
      "EvaluatorHoldout: Processed 35563 (100.0%) in 38.32 sec. Users per second: 928\n",
      "RP3betaRecommender: Similarity column 38121 (100.0%), 1844.32 column/sec. Elapsed time 20.67 sec\n",
      "EvaluatorHoldout: Ignoring 163 ( 0.5%) Users that have less than 1 test interactions\n",
      "EvaluatorHoldout: Processed 35573 (100.0%) in 38.24 sec. Users per second: 930\n",
      "RP3betaRecommender: Similarity column 38121 (100.0%), 1839.04 column/sec. Elapsed time 20.73 sec\n",
      "EvaluatorHoldout: Ignoring 150 ( 0.4%) Users that have less than 1 test interactions\n",
      "EvaluatorHoldout: Processed 35586 (100.0%) in 38.15 sec. Users per second: 933\n",
      "RP3betaRecommender: Similarity column 38121 (100.0%), 1844.36 column/sec. Elapsed time 20.67 sec\n",
      "EvaluatorHoldout: Ignoring 167 ( 0.5%) Users that have less than 1 test interactions\n",
      "EvaluatorHoldout: Processed 35569 (100.0%) in 38.55 sec. Users per second: 923\n",
      "RP3betaRecommender: Similarity column 38121 (100.0%), 1837.64 column/sec. Elapsed time 20.74 sec\n",
      "EvaluatorHoldout: Ignoring 172 ( 0.5%) Users that have less than 1 test interactions\n",
      "EvaluatorHoldout: Processed 35564 (100.0%) in 38.25 sec. Users per second: 930\n"
     ]
    },
    {
     "name": "stderr",
     "output_type": "stream",
     "text": [
      "[I 2025-01-07 01:23:18,541] Trial 139 finished with value: 0.25177978719762967 and parameters: {'topK': 75, 'alpha': 0.3526127469074982, 'beta': 0.3733496832157543, 'normalize_similarity': False, 'implicit': True}. Best is trial 132 with value: 0.2746343609220171.\n"
     ]
    },
    {
     "name": "stdout",
     "output_type": "stream",
     "text": [
      "RP3betaRecommender: Similarity column 38121 (100.0%), 1899.69 column/sec. Elapsed time 20.07 sec\n",
      "EvaluatorHoldout: Ignoring 173 ( 0.5%) Users that have less than 1 test interactions\n",
      "EvaluatorHoldout: Processed 35563 (100.0%) in 37.67 sec. Users per second: 944\n",
      "RP3betaRecommender: Similarity column 38121 (100.0%), 1851.74 column/sec. Elapsed time 20.59 sec\n",
      "EvaluatorHoldout: Ignoring 163 ( 0.5%) Users that have less than 1 test interactions\n",
      "EvaluatorHoldout: Processed 35573 (100.0%) in 38.09 sec. Users per second: 934\n",
      "RP3betaRecommender: Similarity column 38121 (100.0%), 1900.32 column/sec. Elapsed time 20.06 sec\n",
      "EvaluatorHoldout: Ignoring 150 ( 0.4%) Users that have less than 1 test interactions\n",
      "EvaluatorHoldout: Processed 35586 (100.0%) in 37.90 sec. Users per second: 939\n",
      "RP3betaRecommender: Similarity column 38121 (100.0%), 1906.91 column/sec. Elapsed time 19.99 sec\n",
      "EvaluatorHoldout: Ignoring 167 ( 0.5%) Users that have less than 1 test interactions\n",
      "EvaluatorHoldout: Processed 35569 (100.0%) in 37.66 sec. Users per second: 945\n",
      "RP3betaRecommender: Similarity column 38121 (100.0%), 1903.03 column/sec. Elapsed time 20.03 sec\n",
      "EvaluatorHoldout: Ignoring 172 ( 0.5%) Users that have less than 1 test interactions\n",
      "EvaluatorHoldout: Processed 35564 (100.0%) in 37.80 sec. Users per second: 941\n"
     ]
    },
    {
     "name": "stderr",
     "output_type": "stream",
     "text": [
      "[I 2025-01-07 01:28:24,521] Trial 140 finished with value: 0.2741470703787712 and parameters: {'topK': 63, 'alpha': 0.4460176990197343, 'beta': 0.3376974209155975, 'normalize_similarity': True, 'implicit': True}. Best is trial 132 with value: 0.2746343609220171.\n"
     ]
    },
    {
     "name": "stdout",
     "output_type": "stream",
     "text": [
      "RP3betaRecommender: Similarity column 38121 (100.0%), 1899.72 column/sec. Elapsed time 20.07 sec\n",
      "EvaluatorHoldout: Ignoring 173 ( 0.5%) Users that have less than 1 test interactions\n",
      "EvaluatorHoldout: Processed 35563 (100.0%) in 37.58 sec. Users per second: 946\n",
      "RP3betaRecommender: Similarity column 38121 (100.0%), 1895.03 column/sec. Elapsed time 20.12 sec\n",
      "EvaluatorHoldout: Ignoring 163 ( 0.5%) Users that have less than 1 test interactions\n",
      "EvaluatorHoldout: Processed 35573 (100.0%) in 37.84 sec. Users per second: 940\n",
      "RP3betaRecommender: Similarity column 38121 (100.0%), 1921.37 column/sec. Elapsed time 19.84 sec\n",
      "EvaluatorHoldout: Ignoring 150 ( 0.4%) Users that have less than 1 test interactions\n",
      "EvaluatorHoldout: Processed 35586 (100.0%) in 37.94 sec. Users per second: 938\n",
      "RP3betaRecommender: Similarity column 38121 (100.0%), 1881.44 column/sec. Elapsed time 20.26 sec\n",
      "EvaluatorHoldout: Ignoring 167 ( 0.5%) Users that have less than 1 test interactions\n",
      "EvaluatorHoldout: Processed 35569 (100.0%) in 37.40 sec. Users per second: 951\n",
      "RP3betaRecommender: Similarity column 38121 (100.0%), 1892.68 column/sec. Elapsed time 20.14 sec\n",
      "EvaluatorHoldout: Ignoring 172 ( 0.5%) Users that have less than 1 test interactions\n",
      "EvaluatorHoldout: Processed 35564 (100.0%) in 37.90 sec. Users per second: 938\n"
     ]
    },
    {
     "name": "stderr",
     "output_type": "stream",
     "text": [
      "[I 2025-01-07 01:33:29,876] Trial 141 finished with value: 0.27437062163935894 and parameters: {'topK': 64, 'alpha': 0.4330901422585578, 'beta': 0.33306519869624, 'normalize_similarity': True, 'implicit': True}. Best is trial 132 with value: 0.2746343609220171.\n"
     ]
    },
    {
     "name": "stdout",
     "output_type": "stream",
     "text": [
      "RP3betaRecommender: Similarity column 38121 (100.0%), 1759.72 column/sec. Elapsed time 21.66 sec\n",
      "EvaluatorHoldout: Ignoring 173 ( 0.5%) Users that have less than 1 test interactions\n",
      "EvaluatorHoldout: Processed 35563 (100.0%) in 31.39 sec. Users per second: 1133\n",
      "RP3betaRecommender: Similarity column 38121 (100.0%), 1761.02 column/sec. Elapsed time 21.65 sec\n",
      "EvaluatorHoldout: Ignoring 163 ( 0.5%) Users that have less than 1 test interactions\n",
      "EvaluatorHoldout: Processed 35573 (100.0%) in 31.58 sec. Users per second: 1127\n",
      "RP3betaRecommender: Similarity column 38121 (100.0%), 1759.69 column/sec. Elapsed time 21.66 sec\n",
      "EvaluatorHoldout: Ignoring 150 ( 0.4%) Users that have less than 1 test interactions\n",
      "EvaluatorHoldout: Processed 35586 (100.0%) in 31.38 sec. Users per second: 1134\n",
      "RP3betaRecommender: Similarity column 38121 (100.0%), 1756.03 column/sec. Elapsed time 21.71 sec\n",
      "EvaluatorHoldout: Ignoring 167 ( 0.5%) Users that have less than 1 test interactions\n",
      "EvaluatorHoldout: Processed 35569 (100.0%) in 31.64 sec. Users per second: 1124\n",
      "RP3betaRecommender: Similarity column 38121 (100.0%), 1749.06 column/sec. Elapsed time 21.80 sec\n",
      "EvaluatorHoldout: Ignoring 172 ( 0.5%) Users that have less than 1 test interactions\n",
      "EvaluatorHoldout: Processed 35564 (100.0%) in 31.34 sec. Users per second: 1135\n"
     ]
    },
    {
     "name": "stderr",
     "output_type": "stream",
     "text": [
      "[I 2025-01-07 01:38:00,073] Trial 142 finished with value: 0.1935768474585204 and parameters: {'topK': 3, 'alpha': 0.4371399666943234, 'beta': 0.33617191782255745, 'normalize_similarity': True, 'implicit': True}. Best is trial 132 with value: 0.2746343609220171.\n"
     ]
    },
    {
     "name": "stdout",
     "output_type": "stream",
     "text": [
      "RP3betaRecommender: Similarity column 38121 (100.0%), 1869.88 column/sec. Elapsed time 20.39 sec\n",
      "EvaluatorHoldout: Ignoring 173 ( 0.5%) Users that have less than 1 test interactions\n",
      "EvaluatorHoldout: Processed 35563 (100.0%) in 37.66 sec. Users per second: 944\n",
      "RP3betaRecommender: Similarity column 38121 (100.0%), 1858.74 column/sec. Elapsed time 20.51 sec\n",
      "EvaluatorHoldout: Ignoring 163 ( 0.5%) Users that have less than 1 test interactions\n",
      "EvaluatorHoldout: Processed 35573 (100.0%) in 37.82 sec. Users per second: 941\n",
      "RP3betaRecommender: Similarity column 38121 (100.0%), 1871.95 column/sec. Elapsed time 20.36 sec\n",
      "EvaluatorHoldout: Ignoring 150 ( 0.4%) Users that have less than 1 test interactions\n",
      "EvaluatorHoldout: Processed 35586 (100.0%) in 38.10 sec. Users per second: 934\n",
      "RP3betaRecommender: Similarity column 38121 (100.0%), 1865.66 column/sec. Elapsed time 20.43 sec\n",
      "EvaluatorHoldout: Ignoring 167 ( 0.5%) Users that have less than 1 test interactions\n",
      "EvaluatorHoldout: Processed 35569 (100.0%) in 37.85 sec. Users per second: 940\n",
      "RP3betaRecommender: Similarity column 38121 (100.0%), 1861.41 column/sec. Elapsed time 20.48 sec\n",
      "EvaluatorHoldout: Ignoring 172 ( 0.5%) Users that have less than 1 test interactions\n",
      "EvaluatorHoldout: Processed 35564 (100.0%) in 37.97 sec. Users per second: 937\n"
     ]
    },
    {
     "name": "stderr",
     "output_type": "stream",
     "text": [
      "[I 2025-01-07 01:43:09,501] Trial 143 finished with value: 0.27444782531414974 and parameters: {'topK': 72, 'alpha': 0.3304719075400612, 'beta': 0.330364058053902, 'normalize_similarity': True, 'implicit': True}. Best is trial 132 with value: 0.2746343609220171.\n"
     ]
    },
    {
     "name": "stdout",
     "output_type": "stream",
     "text": [
      "RP3betaRecommender: Similarity column 38121 (100.0%), 1872.32 column/sec. Elapsed time 20.36 sec\n",
      "EvaluatorHoldout: Ignoring 173 ( 0.5%) Users that have less than 1 test interactions\n",
      "EvaluatorHoldout: Processed 35563 (100.0%) in 37.84 sec. Users per second: 940\n",
      "RP3betaRecommender: Similarity column 38121 (100.0%), 1875.22 column/sec. Elapsed time 20.33 sec\n",
      "EvaluatorHoldout: Ignoring 163 ( 0.5%) Users that have less than 1 test interactions\n",
      "EvaluatorHoldout: Processed 35573 (100.0%) in 38.38 sec. Users per second: 927\n",
      "RP3betaRecommender: Similarity column 38121 (100.0%), 1889.77 column/sec. Elapsed time 20.17 sec\n",
      "EvaluatorHoldout: Ignoring 150 ( 0.4%) Users that have less than 1 test interactions\n",
      "EvaluatorHoldout: Processed 35586 (100.0%) in 38.27 sec. Users per second: 930\n",
      "RP3betaRecommender: Similarity column 38121 (100.0%), 1864.74 column/sec. Elapsed time 20.44 sec\n",
      "EvaluatorHoldout: Ignoring 167 ( 0.5%) Users that have less than 1 test interactions\n",
      "EvaluatorHoldout: Processed 35569 (100.0%) in 38.08 sec. Users per second: 934\n",
      "RP3betaRecommender: Similarity column 38121 (100.0%), 1877.82 column/sec. Elapsed time 20.30 sec\n",
      "EvaluatorHoldout: Ignoring 172 ( 0.5%) Users that have less than 1 test interactions\n",
      "EvaluatorHoldout: Processed 35564 (100.0%) in 38.46 sec. Users per second: 925\n"
     ]
    },
    {
     "name": "stderr",
     "output_type": "stream",
     "text": [
      "[I 2025-01-07 01:48:20,238] Trial 144 finished with value: 0.2719997006994213 and parameters: {'topK': 71, 'alpha': 0.32203618641592063, 'beta': 0.4169346574428836, 'normalize_similarity': True, 'implicit': True}. Best is trial 132 with value: 0.2746343609220171.\n"
     ]
    },
    {
     "name": "stdout",
     "output_type": "stream",
     "text": [
      "RP3betaRecommender: Similarity column 38121 (100.0%), 1853.54 column/sec. Elapsed time 20.57 sec\n",
      "EvaluatorHoldout: Ignoring 173 ( 0.5%) Users that have less than 1 test interactions\n",
      "EvaluatorHoldout: Processed 35563 (100.0%) in 38.45 sec. Users per second: 925\n",
      "RP3betaRecommender: Similarity column 38121 (100.0%), 1861.25 column/sec. Elapsed time 20.48 sec\n",
      "EvaluatorHoldout: Ignoring 163 ( 0.5%) Users that have less than 1 test interactions\n",
      "EvaluatorHoldout: Processed 35573 (100.0%) in 38.21 sec. Users per second: 931\n",
      "RP3betaRecommender: Similarity column 38121 (100.0%), 1866.25 column/sec. Elapsed time 20.43 sec\n",
      "EvaluatorHoldout: Ignoring 150 ( 0.4%) Users that have less than 1 test interactions\n",
      "EvaluatorHoldout: Processed 35586 (100.0%) in 38.28 sec. Users per second: 930\n",
      "RP3betaRecommender: Similarity column 38121 (100.0%), 1842.71 column/sec. Elapsed time 20.69 sec\n",
      "EvaluatorHoldout: Ignoring 167 ( 0.5%) Users that have less than 1 test interactions\n",
      "EvaluatorHoldout: Processed 35569 (100.0%) in 38.29 sec. Users per second: 929\n",
      "RP3betaRecommender: Similarity column 38121 (100.0%), 1853.36 column/sec. Elapsed time 20.57 sec\n",
      "EvaluatorHoldout: Ignoring 172 ( 0.5%) Users that have less than 1 test interactions\n",
      "EvaluatorHoldout: Processed 35564 (100.0%) in 38.47 sec. Users per second: 925\n"
     ]
    },
    {
     "name": "stderr",
     "output_type": "stream",
     "text": [
      "[I 2025-01-07 01:53:33,774] Trial 145 finished with value: 0.27262867556918563 and parameters: {'topK': 75, 'alpha': 0.4378348602872351, 'beta': 0.4036591779831616, 'normalize_similarity': True, 'implicit': True}. Best is trial 132 with value: 0.2746343609220171.\n"
     ]
    },
    {
     "name": "stdout",
     "output_type": "stream",
     "text": [
      "RP3betaRecommender: Similarity column 38121 (100.0%), 1488.94 column/sec. Elapsed time 25.60 sec\n",
      "EvaluatorHoldout: Ignoring 173 ( 0.5%) Users that have less than 1 test interactions\n",
      "EvaluatorHoldout: Processed 35563 (100.0%) in 41.84 sec. Users per second: 850\n",
      "RP3betaRecommender: Similarity column 38121 (100.0%), 1483.61 column/sec. Elapsed time 25.69 sec\n",
      "EvaluatorHoldout: Ignoring 163 ( 0.5%) Users that have less than 1 test interactions\n",
      "EvaluatorHoldout: Processed 35573 (100.0%) in 41.42 sec. Users per second: 859\n",
      "RP3betaRecommender: Similarity column 38121 (100.0%), 1480.17 column/sec. Elapsed time 25.75 sec\n",
      "EvaluatorHoldout: Ignoring 150 ( 0.4%) Users that have less than 1 test interactions\n",
      "EvaluatorHoldout: Processed 35586 (100.0%) in 41.75 sec. Users per second: 852\n",
      "RP3betaRecommender: Similarity column 38121 (100.0%), 1483.54 column/sec. Elapsed time 25.70 sec\n",
      "EvaluatorHoldout: Ignoring 167 ( 0.5%) Users that have less than 1 test interactions\n",
      "EvaluatorHoldout: Processed 35569 (100.0%) in 41.46 sec. Users per second: 858\n",
      "RP3betaRecommender: Similarity column 38121 (100.0%), 1484.49 column/sec. Elapsed time 25.68 sec\n",
      "EvaluatorHoldout: Ignoring 172 ( 0.5%) Users that have less than 1 test interactions\n",
      "EvaluatorHoldout: Processed 35564 (100.0%) in 41.72 sec. Users per second: 852\n"
     ]
    },
    {
     "name": "stderr",
     "output_type": "stream",
     "text": [
      "[I 2025-01-07 01:59:51,372] Trial 146 finished with value: 0.26931587095318293 and parameters: {'topK': 173, 'alpha': 0.44611794485505774, 'beta': 0.3860632020481599, 'normalize_similarity': True, 'implicit': True}. Best is trial 132 with value: 0.2746343609220171.\n"
     ]
    },
    {
     "name": "stdout",
     "output_type": "stream",
     "text": [
      "RP3betaRecommender: Similarity column 38121 (100.0%), 1515.86 column/sec. Elapsed time 25.15 sec\n",
      "EvaluatorHoldout: Ignoring 173 ( 0.5%) Users that have less than 1 test interactions\n",
      "EvaluatorHoldout: Processed 35563 (100.0%) in 41.32 sec. Users per second: 861\n",
      "RP3betaRecommender: Similarity column 38121 (100.0%), 1508.07 column/sec. Elapsed time 25.28 sec\n",
      "EvaluatorHoldout: Ignoring 163 ( 0.5%) Users that have less than 1 test interactions\n",
      "EvaluatorHoldout: Processed 35573 (100.0%) in 40.87 sec. Users per second: 870\n",
      "RP3betaRecommender: Similarity column 38121 (100.0%), 1529.46 column/sec. Elapsed time 24.92 sec\n",
      "EvaluatorHoldout: Ignoring 150 ( 0.4%) Users that have less than 1 test interactions\n",
      "EvaluatorHoldout: Processed 35586 (100.0%) in 40.83 sec. Users per second: 872\n",
      "RP3betaRecommender: Similarity column 38121 (100.0%), 1514.57 column/sec. Elapsed time 25.17 sec\n",
      "EvaluatorHoldout: Ignoring 167 ( 0.5%) Users that have less than 1 test interactions\n",
      "EvaluatorHoldout: Processed 35569 (100.0%) in 41.19 sec. Users per second: 864\n",
      "RP3betaRecommender: Similarity column 38121 (100.0%), 1522.37 column/sec. Elapsed time 25.04 sec\n",
      "EvaluatorHoldout: Ignoring 172 ( 0.5%) Users that have less than 1 test interactions\n",
      "EvaluatorHoldout: Processed 35564 (100.0%) in 41.23 sec. Users per second: 863\n"
     ]
    },
    {
     "name": "stderr",
     "output_type": "stream",
     "text": [
      "[I 2025-01-07 02:05:58,849] Trial 147 finished with value: 0.27081040905367926 and parameters: {'topK': 163, 'alpha': 0.43172500365646166, 'beta': 0.33315871642803874, 'normalize_similarity': True, 'implicit': True}. Best is trial 132 with value: 0.2746343609220171.\n"
     ]
    },
    {
     "name": "stdout",
     "output_type": "stream",
     "text": [
      "RP3betaRecommender: Similarity column 38121 (100.0%), 1877.10 column/sec. Elapsed time 20.31 sec\n",
      "EvaluatorHoldout: Ignoring 173 ( 0.5%) Users that have less than 1 test interactions\n",
      "EvaluatorHoldout: Processed 35563 (100.0%) in 38.69 sec. Users per second: 919\n",
      "RP3betaRecommender: Similarity column 38121 (100.0%), 1861.71 column/sec. Elapsed time 20.48 sec\n",
      "EvaluatorHoldout: Ignoring 163 ( 0.5%) Users that have less than 1 test interactions\n",
      "EvaluatorHoldout: Processed 35573 (100.0%) in 38.42 sec. Users per second: 926\n",
      "RP3betaRecommender: Similarity column 38121 (100.0%), 1885.28 column/sec. Elapsed time 20.22 sec\n",
      "EvaluatorHoldout: Ignoring 150 ( 0.4%) Users that have less than 1 test interactions\n",
      "EvaluatorHoldout: Processed 35586 (100.0%) in 38.22 sec. Users per second: 931\n",
      "RP3betaRecommender: Similarity column 38121 (100.0%), 1857.69 column/sec. Elapsed time 20.52 sec\n",
      "EvaluatorHoldout: Ignoring 167 ( 0.5%) Users that have less than 1 test interactions\n",
      "EvaluatorHoldout: Processed 35569 (100.0%) in 38.24 sec. Users per second: 930\n",
      "RP3betaRecommender: Similarity column 38121 (100.0%), 1872.80 column/sec. Elapsed time 20.36 sec\n",
      "EvaluatorHoldout: Ignoring 172 ( 0.5%) Users that have less than 1 test interactions\n",
      "EvaluatorHoldout: Processed 35564 (100.0%) in 38.25 sec. Users per second: 930\n"
     ]
    },
    {
     "name": "stderr",
     "output_type": "stream",
     "text": [
      "[I 2025-01-07 02:11:09,962] Trial 148 finished with value: 0.2094527545627201 and parameters: {'topK': 70, 'alpha': 2.0529662847838805, 'beta': 0.43199246788971374, 'normalize_similarity': True, 'implicit': True}. Best is trial 132 with value: 0.2746343609220171.\n"
     ]
    },
    {
     "name": "stdout",
     "output_type": "stream",
     "text": [
      "RP3betaRecommender: Similarity column 38121 (100.0%), 2904.63 column/sec. Elapsed time 13.12 sec\n",
      "EvaluatorHoldout: Ignoring 173 ( 0.5%) Users that have less than 1 test interactions\n",
      "EvaluatorHoldout: Processed 35563 (100.0%) in 26.64 sec. Users per second: 1335\n",
      "RP3betaRecommender: Similarity column 38121 (100.0%), 2883.92 column/sec. Elapsed time 13.22 sec\n",
      "EvaluatorHoldout: Ignoring 163 ( 0.5%) Users that have less than 1 test interactions\n",
      "EvaluatorHoldout: Processed 35573 (100.0%) in 26.67 sec. Users per second: 1334\n",
      "RP3betaRecommender: Similarity column 38121 (100.0%), 2931.30 column/sec. Elapsed time 13.00 sec\n",
      "EvaluatorHoldout: Ignoring 150 ( 0.4%) Users that have less than 1 test interactions\n",
      "EvaluatorHoldout: Processed 35586 (100.0%) in 26.90 sec. Users per second: 1323\n",
      "RP3betaRecommender: Similarity column 38121 (100.0%), 2894.03 column/sec. Elapsed time 13.17 sec\n",
      "EvaluatorHoldout: Ignoring 167 ( 0.5%) Users that have less than 1 test interactions\n",
      "EvaluatorHoldout: Processed 35569 (100.0%) in 26.90 sec. Users per second: 1322\n",
      "RP3betaRecommender: Similarity column 38121 (100.0%), 2940.59 column/sec. Elapsed time 12.96 sec\n",
      "EvaluatorHoldout: Ignoring 172 ( 0.5%) Users that have less than 1 test interactions\n",
      "EvaluatorHoldout: Processed 35564 (100.0%) in 26.85 sec. Users per second: 1325\n"
     ]
    },
    {
     "name": "stderr",
     "output_type": "stream",
     "text": [
      "[I 2025-01-07 02:14:30,383] Trial 149 finished with value: 0.0055265346604531345 and parameters: {'topK': 0, 'alpha': 0.3868514277791429, 'beta': 0.2863937742890921, 'normalize_similarity': True, 'implicit': True}. Best is trial 132 with value: 0.2746343609220171.\n"
     ]
    },
    {
     "name": "stdout",
     "output_type": "stream",
     "text": [
      "RP3betaRecommender: Similarity column 38121 (100.0%), 1844.43 column/sec. Elapsed time 20.67 sec\n",
      "EvaluatorHoldout: Ignoring 173 ( 0.5%) Users that have less than 1 test interactions\n",
      "EvaluatorHoldout: Processed 35563 (100.0%) in 37.64 sec. Users per second: 945\n",
      "RP3betaRecommender: Similarity column 38121 (100.0%), 1844.96 column/sec. Elapsed time 20.66 sec\n",
      "EvaluatorHoldout: Ignoring 163 ( 0.5%) Users that have less than 1 test interactions\n",
      "EvaluatorHoldout: Processed 35573 (100.0%) in 37.87 sec. Users per second: 939\n",
      "RP3betaRecommender: Similarity column 38121 (100.0%), 1859.12 column/sec. Elapsed time 20.50 sec\n",
      "EvaluatorHoldout: Ignoring 150 ( 0.4%) Users that have less than 1 test interactions\n",
      "EvaluatorHoldout: Processed 35586 (100.0%) in 37.72 sec. Users per second: 943\n",
      "RP3betaRecommender: Similarity column 38121 (100.0%), 1845.93 column/sec. Elapsed time 20.65 sec\n",
      "EvaluatorHoldout: Ignoring 167 ( 0.5%) Users that have less than 1 test interactions\n",
      "EvaluatorHoldout: Processed 35569 (100.0%) in 37.56 sec. Users per second: 947\n",
      "RP3betaRecommender: Similarity column 38121 (100.0%), 1846.53 column/sec. Elapsed time 20.64 sec\n",
      "EvaluatorHoldout: Ignoring 172 ( 0.5%) Users that have less than 1 test interactions\n",
      "EvaluatorHoldout: Processed 35564 (100.0%) in 37.77 sec. Users per second: 942\n"
     ]
    },
    {
     "name": "stderr",
     "output_type": "stream",
     "text": [
      "[I 2025-01-07 02:19:40,031] Trial 150 finished with value: 0.27425134840714155 and parameters: {'topK': 75, 'alpha': 0.3240893093884364, 'beta': 0.33293655151559737, 'normalize_similarity': True, 'implicit': True}. Best is trial 132 with value: 0.2746343609220171.\n"
     ]
    },
    {
     "name": "stdout",
     "output_type": "stream",
     "text": [
      "RP3betaRecommender: Similarity column 38121 (100.0%), 1831.29 column/sec. Elapsed time 20.82 sec\n",
      "EvaluatorHoldout: Ignoring 173 ( 0.5%) Users that have less than 1 test interactions\n",
      "EvaluatorHoldout: Processed 35563 (100.0%) in 38.07 sec. Users per second: 934\n",
      "RP3betaRecommender: Similarity column 38121 (100.0%), 1831.51 column/sec. Elapsed time 20.81 sec\n",
      "EvaluatorHoldout: Ignoring 163 ( 0.5%) Users that have less than 1 test interactions\n",
      "EvaluatorHoldout: Processed 35573 (100.0%) in 38.04 sec. Users per second: 935\n",
      "RP3betaRecommender: Similarity column 38121 (100.0%), 1823.80 column/sec. Elapsed time 20.90 sec\n",
      "EvaluatorHoldout: Ignoring 150 ( 0.4%) Users that have less than 1 test interactions\n",
      "EvaluatorHoldout: Processed 35586 (100.0%) in 38.02 sec. Users per second: 936\n",
      "RP3betaRecommender: Similarity column 38121 (100.0%), 1805.41 column/sec. Elapsed time 21.11 sec\n",
      "EvaluatorHoldout: Ignoring 167 ( 0.5%) Users that have less than 1 test interactions\n",
      "EvaluatorHoldout: Processed 35569 (100.0%) in 38.24 sec. Users per second: 930\n",
      "RP3betaRecommender: Similarity column 38121 (100.0%), 1802.77 column/sec. Elapsed time 21.15 sec\n",
      "EvaluatorHoldout: Ignoring 172 ( 0.5%) Users that have less than 1 test interactions\n",
      "EvaluatorHoldout: Processed 35564 (100.0%) in 38.23 sec. Users per second: 930\n"
     ]
    },
    {
     "name": "stderr",
     "output_type": "stream",
     "text": [
      "[I 2025-01-07 02:24:54,511] Trial 151 finished with value: 0.27393464532311373 and parameters: {'topK': 79, 'alpha': 0.3165730836794529, 'beta': 0.34602601901738816, 'normalize_similarity': True, 'implicit': True}. Best is trial 132 with value: 0.2746343609220171.\n"
     ]
    },
    {
     "name": "stdout",
     "output_type": "stream",
     "text": [
      "RP3betaRecommender: Similarity column 38121 (100.0%), 1827.77 column/sec. Elapsed time 20.86 sec\n",
      "EvaluatorHoldout: Ignoring 173 ( 0.5%) Users that have less than 1 test interactions\n",
      "EvaluatorHoldout: Processed 35563 (100.0%) in 38.03 sec. Users per second: 935\n",
      "RP3betaRecommender: Similarity column 38121 (100.0%), 1810.40 column/sec. Elapsed time 21.06 sec\n",
      "EvaluatorHoldout: Ignoring 163 ( 0.5%) Users that have less than 1 test interactions\n",
      "EvaluatorHoldout: Processed 35573 (100.0%) in 38.26 sec. Users per second: 930\n",
      "RP3betaRecommender: Similarity column 38121 (100.0%), 1817.25 column/sec. Elapsed time 20.98 sec\n",
      "EvaluatorHoldout: Ignoring 150 ( 0.4%) Users that have less than 1 test interactions\n",
      "EvaluatorHoldout: Processed 35586 (100.0%) in 38.28 sec. Users per second: 930\n",
      "RP3betaRecommender: Similarity column 38121 (100.0%), 1835.58 column/sec. Elapsed time 20.77 sec\n",
      "EvaluatorHoldout: Ignoring 167 ( 0.5%) Users that have less than 1 test interactions\n",
      "EvaluatorHoldout: Processed 35569 (100.0%) in 38.13 sec. Users per second: 933\n",
      "RP3betaRecommender: Similarity column 38121 (100.0%), 1830.06 column/sec. Elapsed time 20.83 sec\n",
      "EvaluatorHoldout: Ignoring 172 ( 0.5%) Users that have less than 1 test interactions\n",
      "EvaluatorHoldout: Processed 35564 (100.0%) in 38.44 sec. Users per second: 925\n"
     ]
    },
    {
     "name": "stderr",
     "output_type": "stream",
     "text": [
      "[I 2025-01-07 02:30:09,078] Trial 152 finished with value: 0.27276180434050684 and parameters: {'topK': 78, 'alpha': 0.3178451643716313, 'beta': 0.38740155965366546, 'normalize_similarity': True, 'implicit': True}. Best is trial 132 with value: 0.2746343609220171.\n"
     ]
    },
    {
     "name": "stdout",
     "output_type": "stream",
     "text": [
      "RP3betaRecommender: Similarity column 38121 (100.0%), 1842.89 column/sec. Elapsed time 20.69 sec\n",
      "EvaluatorHoldout: Ignoring 173 ( 0.5%) Users that have less than 1 test interactions\n",
      "EvaluatorHoldout: Processed 35563 (100.0%) in 38.22 sec. Users per second: 930\n",
      "RP3betaRecommender: Similarity column 38121 (100.0%), 1840.21 column/sec. Elapsed time 20.72 sec\n",
      "EvaluatorHoldout: Ignoring 163 ( 0.5%) Users that have less than 1 test interactions\n",
      "EvaluatorHoldout: Processed 35573 (100.0%) in 37.83 sec. Users per second: 940\n",
      "RP3betaRecommender: Similarity column 38121 (100.0%), 1857.59 column/sec. Elapsed time 20.52 sec\n",
      "EvaluatorHoldout: Ignoring 150 ( 0.4%) Users that have less than 1 test interactions\n",
      "EvaluatorHoldout: Processed 35586 (100.0%) in 38.30 sec. Users per second: 929\n",
      "RP3betaRecommender: Similarity column 38121 (100.0%), 1842.73 column/sec. Elapsed time 20.69 sec\n",
      "EvaluatorHoldout: Ignoring 167 ( 0.5%) Users that have less than 1 test interactions\n",
      "EvaluatorHoldout: Processed 35569 (100.0%) in 38.08 sec. Users per second: 934\n",
      "RP3betaRecommender: Similarity column 38121 (100.0%), 1843.97 column/sec. Elapsed time 20.67 sec\n",
      "EvaluatorHoldout: Ignoring 172 ( 0.5%) Users that have less than 1 test interactions\n",
      "EvaluatorHoldout: Processed 35564 (100.0%) in 38.03 sec. Users per second: 935\n"
     ]
    },
    {
     "name": "stderr",
     "output_type": "stream",
     "text": [
      "[I 2025-01-07 02:35:21,262] Trial 153 finished with value: 0.2728582181385085 and parameters: {'topK': 75, 'alpha': 0.32122639581952317, 'beta': 0.38791519369330224, 'normalize_similarity': True, 'implicit': True}. Best is trial 132 with value: 0.2746343609220171.\n"
     ]
    },
    {
     "name": "stdout",
     "output_type": "stream",
     "text": [
      "RP3betaRecommender: Similarity column 38121 (100.0%), 1380.86 column/sec. Elapsed time 27.61 sec\n",
      "EvaluatorHoldout: Ignoring 173 ( 0.5%) Users that have less than 1 test interactions\n",
      "EvaluatorHoldout: Processed 35563 (100.0%) in 42.20 sec. Users per second: 843\n",
      "RP3betaRecommender: Similarity column 38121 (100.0%), 1376.64 column/sec. Elapsed time 27.69 sec\n",
      "EvaluatorHoldout: Ignoring 163 ( 0.5%) Users that have less than 1 test interactions\n",
      "EvaluatorHoldout: Processed 35573 (100.0%) in 42.47 sec. Users per second: 838\n",
      "RP3betaRecommender: Similarity column 38121 (100.0%), 1381.80 column/sec. Elapsed time 27.59 sec\n",
      "EvaluatorHoldout: Ignoring 150 ( 0.4%) Users that have less than 1 test interactions\n",
      "EvaluatorHoldout: Processed 35586 (100.0%) in 42.27 sec. Users per second: 842\n",
      "RP3betaRecommender: Similarity column 38121 (100.0%), 1375.85 column/sec. Elapsed time 27.71 sec\n",
      "EvaluatorHoldout: Ignoring 167 ( 0.5%) Users that have less than 1 test interactions\n",
      "EvaluatorHoldout: Processed 35569 (100.0%) in 42.20 sec. Users per second: 843\n",
      "RP3betaRecommender: Similarity column 38121 (100.0%), 1385.95 column/sec. Elapsed time 27.51 sec\n",
      "EvaluatorHoldout: Ignoring 172 ( 0.5%) Users that have less than 1 test interactions\n",
      "EvaluatorHoldout: Processed 35564 (100.0%) in 42.15 sec. Users per second: 844\n"
     ]
    },
    {
     "name": "stderr",
     "output_type": "stream",
     "text": [
      "[I 2025-01-07 02:41:57,432] Trial 154 finished with value: 0.2670973874156276 and parameters: {'topK': 207, 'alpha': 0.3082207013497241, 'beta': 0.3519657313288697, 'normalize_similarity': True, 'implicit': True}. Best is trial 132 with value: 0.2746343609220171.\n"
     ]
    },
    {
     "name": "stdout",
     "output_type": "stream",
     "text": [
      "RP3betaRecommender: Similarity column 38121 (100.0%), 1820.21 column/sec. Elapsed time 20.94 sec\n",
      "EvaluatorHoldout: Ignoring 173 ( 0.5%) Users that have less than 1 test interactions\n",
      "EvaluatorHoldout: Processed 35563 (100.0%) in 38.18 sec. Users per second: 931\n",
      "RP3betaRecommender: Similarity column 38121 (100.0%), 1814.97 column/sec. Elapsed time 21.00 sec\n",
      "EvaluatorHoldout: Ignoring 163 ( 0.5%) Users that have less than 1 test interactions\n",
      "EvaluatorHoldout: Processed 35573 (100.0%) in 37.92 sec. Users per second: 938\n",
      "RP3betaRecommender: Similarity column 38121 (100.0%), 1826.00 column/sec. Elapsed time 20.88 sec\n",
      "EvaluatorHoldout: Ignoring 150 ( 0.4%) Users that have less than 1 test interactions\n",
      "EvaluatorHoldout: Processed 35586 (100.0%) in 37.96 sec. Users per second: 938\n",
      "RP3betaRecommender: Similarity column 38121 (100.0%), 1812.94 column/sec. Elapsed time 21.03 sec\n",
      "EvaluatorHoldout: Ignoring 167 ( 0.5%) Users that have less than 1 test interactions\n",
      "EvaluatorHoldout: Processed 35569 (100.0%) in 38.10 sec. Users per second: 933\n",
      "RP3betaRecommender: Similarity column 38121 (100.0%), 1824.44 column/sec. Elapsed time 20.89 sec\n",
      "EvaluatorHoldout: Ignoring 172 ( 0.5%) Users that have less than 1 test interactions\n",
      "EvaluatorHoldout: Processed 35564 (100.0%) in 38.20 sec. Users per second: 931\n"
     ]
    },
    {
     "name": "stderr",
     "output_type": "stream",
     "text": [
      "[I 2025-01-07 02:47:11,466] Trial 155 finished with value: 0.27462879640357285 and parameters: {'topK': 80, 'alpha': 0.34256790548437455, 'beta': 0.3142434246331335, 'normalize_similarity': True, 'implicit': True}. Best is trial 132 with value: 0.2746343609220171.\n"
     ]
    },
    {
     "name": "stdout",
     "output_type": "stream",
     "text": [
      "RP3betaRecommender: Similarity column 38121 (100.0%), 1221.87 column/sec. Elapsed time 31.20 sec\n",
      "EvaluatorHoldout: Ignoring 173 ( 0.5%) Users that have less than 1 test interactions\n",
      "EvaluatorHoldout: Processed 35563 (100.0%) in 43.60 sec. Users per second: 816\n",
      "RP3betaRecommender: Similarity column 38121 (100.0%), 1253.19 column/sec. Elapsed time 30.42 sec\n",
      "EvaluatorHoldout: Ignoring 163 ( 0.5%) Users that have less than 1 test interactions\n",
      "EvaluatorHoldout: Processed 35573 (100.0%) in 43.82 sec. Users per second: 812\n",
      "RP3betaRecommender: Similarity column 38121 (100.0%), 1245.88 column/sec. Elapsed time 30.60 sec\n",
      "EvaluatorHoldout: Ignoring 150 ( 0.4%) Users that have less than 1 test interactions\n",
      "EvaluatorHoldout: Processed 35586 (100.0%) in 43.68 sec. Users per second: 815\n",
      "RP3betaRecommender: Similarity column 38121 (100.0%), 1236.41 column/sec. Elapsed time 30.83 sec\n",
      "EvaluatorHoldout: Ignoring 167 ( 0.5%) Users that have less than 1 test interactions\n",
      "EvaluatorHoldout: Processed 35569 (100.0%) in 43.36 sec. Users per second: 820\n",
      "RP3betaRecommender: Similarity column 38121 (100.0%), 1235.99 column/sec. Elapsed time 30.84 sec\n",
      "EvaluatorHoldout: Ignoring 172 ( 0.5%) Users that have less than 1 test interactions\n",
      "EvaluatorHoldout: Processed 35564 (100.0%) in 43.47 sec. Users per second: 818\n"
     ]
    },
    {
     "name": "stderr",
     "output_type": "stream",
     "text": [
      "[I 2025-01-07 02:54:22,204] Trial 156 finished with value: 0.26601328496779125 and parameters: {'topK': 264, 'alpha': 0.3468808845859127, 'beta': 0.2950995486926906, 'normalize_similarity': True, 'implicit': True}. Best is trial 132 with value: 0.2746343609220171.\n"
     ]
    },
    {
     "name": "stdout",
     "output_type": "stream",
     "text": [
      "RP3betaRecommender: Similarity column 38121 (100.0%), 1552.17 column/sec. Elapsed time 24.56 sec\n",
      "EvaluatorHoldout: Ignoring 173 ( 0.5%) Users that have less than 1 test interactions\n",
      "EvaluatorHoldout: Processed 35563 (100.0%) in 41.31 sec. Users per second: 861\n",
      "RP3betaRecommender: Similarity column 38121 (100.0%), 1552.98 column/sec. Elapsed time 24.55 sec\n",
      "EvaluatorHoldout: Ignoring 163 ( 0.5%) Users that have less than 1 test interactions\n",
      "EvaluatorHoldout: Processed 35573 (100.0%) in 41.40 sec. Users per second: 859\n",
      "RP3betaRecommender: Similarity column 38121 (100.0%), 1570.13 column/sec. Elapsed time 24.28 sec\n",
      "EvaluatorHoldout: Ignoring 150 ( 0.4%) Users that have less than 1 test interactions\n",
      "EvaluatorHoldout: Processed 35586 (100.0%) in 41.01 sec. Users per second: 868\n",
      "RP3betaRecommender: Similarity column 38121 (100.0%), 1561.12 column/sec. Elapsed time 24.42 sec\n",
      "EvaluatorHoldout: Ignoring 167 ( 0.5%) Users that have less than 1 test interactions\n",
      "EvaluatorHoldout: Processed 35569 (100.0%) in 41.21 sec. Users per second: 863\n",
      "RP3betaRecommender: Similarity column 38121 (100.0%), 1564.87 column/sec. Elapsed time 24.36 sec\n",
      "EvaluatorHoldout: Ignoring 172 ( 0.5%) Users that have less than 1 test interactions\n",
      "EvaluatorHoldout: Processed 35564 (100.0%) in 41.01 sec. Users per second: 867\n"
     ]
    },
    {
     "name": "stderr",
     "output_type": "stream",
     "text": [
      "[I 2025-01-07 03:00:25,579] Trial 157 finished with value: 0.2675869833971017 and parameters: {'topK': 149, 'alpha': 0.477323659365557, 'beta': 0.44811428475055487, 'normalize_similarity': True, 'implicit': True}. Best is trial 132 with value: 0.2746343609220171.\n"
     ]
    },
    {
     "name": "stdout",
     "output_type": "stream",
     "text": [
      "RP3betaRecommender: Similarity column 38121 (100.0%), 1811.87 column/sec. Elapsed time 21.04 sec\n",
      "EvaluatorHoldout: Ignoring 173 ( 0.5%) Users that have less than 1 test interactions\n",
      "EvaluatorHoldout: Processed 35563 (100.0%) in 37.77 sec. Users per second: 942\n",
      "RP3betaRecommender: Similarity column 38121 (100.0%), 1811.84 column/sec. Elapsed time 21.04 sec\n",
      "EvaluatorHoldout: Ignoring 163 ( 0.5%) Users that have less than 1 test interactions\n",
      "EvaluatorHoldout: Processed 35573 (100.0%) in 38.23 sec. Users per second: 931\n",
      "RP3betaRecommender: Similarity column 38121 (100.0%), 1816.67 column/sec. Elapsed time 20.98 sec\n",
      "EvaluatorHoldout: Ignoring 150 ( 0.4%) Users that have less than 1 test interactions\n",
      "EvaluatorHoldout: Processed 35586 (100.0%) in 37.89 sec. Users per second: 939\n",
      "RP3betaRecommender: Similarity column 38121 (100.0%), 1799.62 column/sec. Elapsed time 21.18 sec\n",
      "EvaluatorHoldout: Ignoring 167 ( 0.5%) Users that have less than 1 test interactions\n",
      "EvaluatorHoldout: Processed 35569 (100.0%) in 38.03 sec. Users per second: 935\n",
      "RP3betaRecommender: Similarity column 38121 (100.0%), 1790.86 column/sec. Elapsed time 21.29 sec\n",
      "EvaluatorHoldout: Ignoring 172 ( 0.5%) Users that have less than 1 test interactions\n",
      "EvaluatorHoldout: Processed 35564 (100.0%) in 38.01 sec. Users per second: 936\n"
     ]
    },
    {
     "name": "stderr",
     "output_type": "stream",
     "text": [
      "[I 2025-01-07 03:05:39,809] Trial 158 finished with value: 0.27482516620598896 and parameters: {'topK': 82, 'alpha': 0.3989327034040363, 'beta': 0.26010953597098857, 'normalize_similarity': True, 'implicit': True}. Best is trial 158 with value: 0.27482516620598896.\n"
     ]
    },
    {
     "name": "stdout",
     "output_type": "stream",
     "text": [
      "RP3betaRecommender: Similarity column 38121 (100.0%), 1577.70 column/sec. Elapsed time 24.16 sec\n",
      "EvaluatorHoldout: Ignoring 173 ( 0.5%) Users that have less than 1 test interactions\n",
      "EvaluatorHoldout: Processed 35563 (100.0%) in 37.30 sec. Users per second: 953\n",
      "RP3betaRecommender: Similarity column 38121 (100.0%), 1579.67 column/sec. Elapsed time 24.13 sec\n",
      "EvaluatorHoldout: Ignoring 163 ( 0.5%) Users that have less than 1 test interactions\n",
      "EvaluatorHoldout: Processed 35573 (100.0%) in 37.72 sec. Users per second: 943\n",
      "RP3betaRecommender: Similarity column 38121 (100.0%), 1603.52 column/sec. Elapsed time 23.77 sec\n",
      "EvaluatorHoldout: Ignoring 150 ( 0.4%) Users that have less than 1 test interactions\n",
      "EvaluatorHoldout: Processed 35586 (100.0%) in 37.51 sec. Users per second: 949\n",
      "RP3betaRecommender: Similarity column 38121 (100.0%), 1602.61 column/sec. Elapsed time 23.79 sec\n",
      "EvaluatorHoldout: Ignoring 167 ( 0.5%) Users that have less than 1 test interactions\n",
      "EvaluatorHoldout: Processed 35569 (100.0%) in 37.50 sec. Users per second: 949\n",
      "RP3betaRecommender: Similarity column 38121 (100.0%), 1603.30 column/sec. Elapsed time 23.78 sec\n",
      "EvaluatorHoldout: Ignoring 172 ( 0.5%) Users that have less than 1 test interactions\n",
      "EvaluatorHoldout: Processed 35564 (100.0%) in 37.39 sec. Users per second: 951\n"
     ]
    },
    {
     "name": "stderr",
     "output_type": "stream",
     "text": [
      "[I 2025-01-07 03:11:05,882] Trial 159 finished with value: 0.06883935030932009 and parameters: {'topK': 140, 'alpha': 0.3893435729545611, 'beta': 2.627134465158406, 'normalize_similarity': True, 'implicit': True}. Best is trial 158 with value: 0.27482516620598896.\n"
     ]
    },
    {
     "name": "stdout",
     "output_type": "stream",
     "text": [
      "RP3betaRecommender: Similarity column 38121 (100.0%), 1786.33 column/sec. Elapsed time 21.34 sec\n",
      "EvaluatorHoldout: Ignoring 173 ( 0.5%) Users that have less than 1 test interactions\n",
      "EvaluatorHoldout: Processed 35563 (100.0%) in 38.42 sec. Users per second: 926\n",
      "RP3betaRecommender: Similarity column 38121 (100.0%), 1778.73 column/sec. Elapsed time 21.43 sec\n",
      "EvaluatorHoldout: Ignoring 163 ( 0.5%) Users that have less than 1 test interactions\n",
      "EvaluatorHoldout: Processed 35573 (100.0%) in 38.69 sec. Users per second: 919\n",
      "RP3betaRecommender: Similarity column 38121 (100.0%), 1785.07 column/sec. Elapsed time 21.36 sec\n",
      "EvaluatorHoldout: Ignoring 150 ( 0.4%) Users that have less than 1 test interactions\n",
      "EvaluatorHoldout: Processed 35586 (100.0%) in 38.53 sec. Users per second: 924\n",
      "RP3betaRecommender: Similarity column 38121 (100.0%), 1785.78 column/sec. Elapsed time 21.35 sec\n",
      "EvaluatorHoldout: Ignoring 167 ( 0.5%) Users that have less than 1 test interactions\n",
      "EvaluatorHoldout: Processed 35569 (100.0%) in 38.45 sec. Users per second: 925\n",
      "RP3betaRecommender: Similarity column 38121 (100.0%), 1771.18 column/sec. Elapsed time 21.52 sec\n",
      "EvaluatorHoldout: Ignoring 172 ( 0.5%) Users that have less than 1 test interactions\n",
      "EvaluatorHoldout: Processed 35564 (100.0%) in 38.19 sec. Users per second: 931\n"
     ]
    },
    {
     "name": "stderr",
     "output_type": "stream",
     "text": [
      "[I 2025-01-07 03:16:26,077] Trial 160 finished with value: 0.274743700331999 and parameters: {'topK': 89, 'alpha': 0.3842036561012722, 'beta': 0.26762041091527855, 'normalize_similarity': True, 'implicit': True}. Best is trial 158 with value: 0.27482516620598896.\n"
     ]
    },
    {
     "name": "stdout",
     "output_type": "stream",
     "text": [
      "RP3betaRecommender: Similarity column 38121 (100.0%), 1782.15 column/sec. Elapsed time 21.39 sec\n",
      "EvaluatorHoldout: Ignoring 173 ( 0.5%) Users that have less than 1 test interactions\n",
      "EvaluatorHoldout: Processed 35563 (100.0%) in 38.48 sec. Users per second: 924\n",
      "RP3betaRecommender: Similarity column 38121 (100.0%), 1798.53 column/sec. Elapsed time 21.20 sec\n",
      "EvaluatorHoldout: Ignoring 163 ( 0.5%) Users that have less than 1 test interactions\n",
      "EvaluatorHoldout: Processed 35573 (100.0%) in 38.41 sec. Users per second: 926\n",
      "RP3betaRecommender: Similarity column 38121 (100.0%), 1800.03 column/sec. Elapsed time 21.18 sec\n",
      "EvaluatorHoldout: Ignoring 150 ( 0.4%) Users that have less than 1 test interactions\n",
      "EvaluatorHoldout: Processed 35586 (100.0%) in 38.36 sec. Users per second: 928\n",
      "RP3betaRecommender: Similarity column 38121 (100.0%), 1785.00 column/sec. Elapsed time 21.36 sec\n",
      "EvaluatorHoldout: Ignoring 167 ( 0.5%) Users that have less than 1 test interactions\n",
      "EvaluatorHoldout: Processed 35569 (100.0%) in 38.49 sec. Users per second: 924\n",
      "RP3betaRecommender: Similarity column 38121 (100.0%), 1769.50 column/sec. Elapsed time 21.54 sec\n",
      "EvaluatorHoldout: Ignoring 172 ( 0.5%) Users that have less than 1 test interactions\n",
      "EvaluatorHoldout: Processed 35564 (100.0%) in 38.46 sec. Users per second: 925\n"
     ]
    },
    {
     "name": "stderr",
     "output_type": "stream",
     "text": [
      "[I 2025-01-07 03:21:45,681] Trial 161 finished with value: 0.2742470200754231 and parameters: {'topK': 87, 'alpha': 0.3922312163116681, 'beta': 0.31739835229569224, 'normalize_similarity': True, 'implicit': True}. Best is trial 158 with value: 0.27482516620598896.\n"
     ]
    },
    {
     "name": "stdout",
     "output_type": "stream",
     "text": [
      "RP3betaRecommender: Similarity column 38121 (100.0%), 1780.37 column/sec. Elapsed time 21.41 sec\n",
      "EvaluatorHoldout: Ignoring 173 ( 0.5%) Users that have less than 1 test interactions\n",
      "EvaluatorHoldout: Processed 35563 (100.0%) in 38.31 sec. Users per second: 928\n",
      "RP3betaRecommender: Similarity column 38121 (100.0%), 1780.20 column/sec. Elapsed time 21.41 sec\n",
      "EvaluatorHoldout: Ignoring 163 ( 0.5%) Users that have less than 1 test interactions\n",
      "EvaluatorHoldout: Processed 35573 (100.0%) in 38.78 sec. Users per second: 917\n",
      "RP3betaRecommender: Similarity column 38121 (100.0%), 1778.01 column/sec. Elapsed time 21.44 sec\n",
      "EvaluatorHoldout: Ignoring 150 ( 0.4%) Users that have less than 1 test interactions\n",
      "EvaluatorHoldout: Processed 35586 (100.0%) in 38.66 sec. Users per second: 920\n",
      "RP3betaRecommender: Similarity column 38121 (100.0%), 1748.25 column/sec. Elapsed time 21.81 sec\n",
      "EvaluatorHoldout: Ignoring 167 ( 0.5%) Users that have less than 1 test interactions\n",
      "EvaluatorHoldout: Processed 35569 (100.0%) in 38.74 sec. Users per second: 918\n",
      "RP3betaRecommender: Similarity column 38121 (100.0%), 1778.42 column/sec. Elapsed time 21.44 sec\n",
      "EvaluatorHoldout: Ignoring 172 ( 0.5%) Users that have less than 1 test interactions\n",
      "EvaluatorHoldout: Processed 35564 (100.0%) in 38.38 sec. Users per second: 927\n"
     ]
    },
    {
     "name": "stderr",
     "output_type": "stream",
     "text": [
      "[I 2025-01-07 03:27:06,928] Trial 162 finished with value: 0.274469789477771 and parameters: {'topK': 90, 'alpha': 0.47119801665236366, 'beta': 0.28515060696930056, 'normalize_similarity': True, 'implicit': True}. Best is trial 158 with value: 0.27482516620598896.\n"
     ]
    },
    {
     "name": "stdout",
     "output_type": "stream",
     "text": [
      "RP3betaRecommender: Similarity column 38121 (100.0%), 1752.27 column/sec. Elapsed time 21.76 sec\n",
      "EvaluatorHoldout: Ignoring 173 ( 0.5%) Users that have less than 1 test interactions\n",
      "EvaluatorHoldout: Processed 35563 (100.0%) in 38.78 sec. Users per second: 917\n",
      "RP3betaRecommender: Similarity column 38121 (100.0%), 1761.64 column/sec. Elapsed time 21.64 sec\n",
      "EvaluatorHoldout: Ignoring 163 ( 0.5%) Users that have less than 1 test interactions\n",
      "EvaluatorHoldout: Processed 35573 (100.0%) in 38.74 sec. Users per second: 918\n",
      "RP3betaRecommender: Similarity column 38121 (100.0%), 1768.95 column/sec. Elapsed time 21.55 sec\n",
      "EvaluatorHoldout: Ignoring 150 ( 0.4%) Users that have less than 1 test interactions\n",
      "EvaluatorHoldout: Processed 35586 (100.0%) in 38.93 sec. Users per second: 914\n",
      "RP3betaRecommender: Similarity column 38121 (100.0%), 1752.44 column/sec. Elapsed time 21.75 sec\n",
      "EvaluatorHoldout: Ignoring 167 ( 0.5%) Users that have less than 1 test interactions\n",
      "EvaluatorHoldout: Processed 35569 (100.0%) in 38.85 sec. Users per second: 916\n",
      "RP3betaRecommender: Similarity column 38121 (100.0%), 1763.24 column/sec. Elapsed time 21.62 sec\n",
      "EvaluatorHoldout: Ignoring 172 ( 0.5%) Users that have less than 1 test interactions\n",
      "EvaluatorHoldout: Processed 35564 (100.0%) in 38.62 sec. Users per second: 921\n"
     ]
    },
    {
     "name": "stderr",
     "output_type": "stream",
     "text": [
      "[I 2025-01-07 03:32:31,274] Trial 163 finished with value: 0.274196293445024 and parameters: {'topK': 93, 'alpha': 0.47553193390733733, 'beta': 0.3135667676728947, 'normalize_similarity': True, 'implicit': True}. Best is trial 158 with value: 0.27482516620598896.\n"
     ]
    },
    {
     "name": "stdout",
     "output_type": "stream",
     "text": [
      "RP3betaRecommender: Similarity column 38121 (100.0%), 1766.12 column/sec. Elapsed time 21.58 sec\n",
      "EvaluatorHoldout: Ignoring 173 ( 0.5%) Users that have less than 1 test interactions\n",
      "EvaluatorHoldout: Processed 35563 (100.0%) in 38.56 sec. Users per second: 922\n",
      "RP3betaRecommender: Similarity column 38121 (100.0%), 1761.51 column/sec. Elapsed time 21.64 sec\n",
      "EvaluatorHoldout: Ignoring 163 ( 0.5%) Users that have less than 1 test interactions\n",
      "EvaluatorHoldout: Processed 35573 (100.0%) in 38.87 sec. Users per second: 915\n",
      "RP3betaRecommender: Similarity column 38121 (100.0%), 1781.49 column/sec. Elapsed time 21.40 sec\n",
      "EvaluatorHoldout: Ignoring 150 ( 0.4%) Users that have less than 1 test interactions\n",
      "EvaluatorHoldout: Processed 35586 (100.0%) in 38.74 sec. Users per second: 919\n",
      "RP3betaRecommender: Similarity column 38121 (100.0%), 1770.75 column/sec. Elapsed time 21.53 sec\n",
      "EvaluatorHoldout: Ignoring 167 ( 0.5%) Users that have less than 1 test interactions\n",
      "EvaluatorHoldout: Processed 35569 (100.0%) in 38.80 sec. Users per second: 917\n",
      "RP3betaRecommender: Similarity column 38121 (100.0%), 1768.64 column/sec. Elapsed time 21.55 sec\n",
      "EvaluatorHoldout: Ignoring 172 ( 0.5%) Users that have less than 1 test interactions\n",
      "EvaluatorHoldout: Processed 35564 (100.0%) in 38.81 sec. Users per second: 916\n"
     ]
    },
    {
     "name": "stderr",
     "output_type": "stream",
     "text": [
      "[I 2025-01-07 03:37:54,372] Trial 164 finished with value: 0.2743832120748431 and parameters: {'topK': 93, 'alpha': 0.48534716561902513, 'beta': 0.2895812485307754, 'normalize_similarity': True, 'implicit': True}. Best is trial 158 with value: 0.27482516620598896.\n"
     ]
    },
    {
     "name": "stdout",
     "output_type": "stream",
     "text": [
      "RP3betaRecommender: Similarity column 38121 (100.0%), 1437.22 column/sec. Elapsed time 26.52 sec\n",
      "EvaluatorHoldout: Ignoring 173 ( 0.5%) Users that have less than 1 test interactions\n",
      "EvaluatorHoldout: Processed 35563 (100.0%) in 41.66 sec. Users per second: 854\n",
      "RP3betaRecommender: Similarity column 38121 (100.0%), 1423.66 column/sec. Elapsed time 26.78 sec\n",
      "EvaluatorHoldout: Ignoring 163 ( 0.5%) Users that have less than 1 test interactions\n",
      "EvaluatorHoldout: Processed 35573 (100.0%) in 41.72 sec. Users per second: 853\n",
      "RP3betaRecommender: Similarity column 38121 (100.0%), 1433.26 column/sec. Elapsed time 26.60 sec\n",
      "EvaluatorHoldout: Ignoring 150 ( 0.4%) Users that have less than 1 test interactions\n",
      "EvaluatorHoldout: Processed 35586 (100.0%) in 41.46 sec. Users per second: 858\n",
      "RP3betaRecommender: Similarity column 38121 (100.0%), 1430.81 column/sec. Elapsed time 26.64 sec\n",
      "EvaluatorHoldout: Ignoring 167 ( 0.5%) Users that have less than 1 test interactions\n",
      "EvaluatorHoldout: Processed 35569 (100.0%) in 41.64 sec. Users per second: 854\n",
      "RP3betaRecommender: Similarity column 38121 (100.0%), 1434.88 column/sec. Elapsed time 26.57 sec\n",
      "EvaluatorHoldout: Ignoring 172 ( 0.5%) Users that have less than 1 test interactions\n",
      "EvaluatorHoldout: Processed 35564 (100.0%) in 41.70 sec. Users per second: 853\n"
     ]
    },
    {
     "name": "stderr",
     "output_type": "stream",
     "text": [
      "[I 2025-01-07 03:44:18,369] Trial 165 finished with value: 0.2697522975571881 and parameters: {'topK': 190, 'alpha': 0.49578720458258463, 'beta': 0.3136423994999688, 'normalize_similarity': True, 'implicit': True}. Best is trial 158 with value: 0.27482516620598896.\n"
     ]
    },
    {
     "name": "stdout",
     "output_type": "stream",
     "text": [
      "RP3betaRecommender: Similarity column 38121 (100.0%), 1594.55 column/sec. Elapsed time 23.91 sec\n",
      "EvaluatorHoldout: Ignoring 173 ( 0.5%) Users that have less than 1 test interactions\n",
      "EvaluatorHoldout: Processed 35563 (100.0%) in 37.95 sec. Users per second: 937\n",
      "RP3betaRecommender: Similarity column 38121 (100.0%), 1596.34 column/sec. Elapsed time 23.88 sec\n",
      "EvaluatorHoldout: Ignoring 163 ( 0.5%) Users that have less than 1 test interactions\n",
      "EvaluatorHoldout: Processed 35573 (100.0%) in 37.86 sec. Users per second: 940\n",
      "RP3betaRecommender: Similarity column 38121 (100.0%), 1593.45 column/sec. Elapsed time 23.92 sec\n",
      "EvaluatorHoldout: Ignoring 150 ( 0.4%) Users that have less than 1 test interactions\n",
      "EvaluatorHoldout: Processed 35586 (100.0%) in 37.91 sec. Users per second: 939\n",
      "RP3betaRecommender: Similarity column 38121 (100.0%), 1599.91 column/sec. Elapsed time 23.83 sec\n",
      "EvaluatorHoldout: Ignoring 167 ( 0.5%) Users that have less than 1 test interactions\n",
      "EvaluatorHoldout: Processed 35569 (100.0%) in 37.73 sec. Users per second: 943\n",
      "RP3betaRecommender: Similarity column 38121 (100.0%), 1608.33 column/sec. Elapsed time 23.70 sec\n",
      "EvaluatorHoldout: Ignoring 172 ( 0.5%) Users that have less than 1 test interactions\n",
      "EvaluatorHoldout: Processed 35564 (100.0%) in 38.05 sec. Users per second: 935\n"
     ]
    },
    {
     "name": "stderr",
     "output_type": "stream",
     "text": [
      "[I 2025-01-07 03:49:47,915] Trial 166 finished with value: 0.08624865775505883 and parameters: {'topK': 139, 'alpha': 0.40893596349333056, 'beta': 2.0297040158042305, 'normalize_similarity': True, 'implicit': True}. Best is trial 158 with value: 0.27482516620598896.\n"
     ]
    },
    {
     "name": "stdout",
     "output_type": "stream",
     "text": [
      "RP3betaRecommender: Similarity column 38121 (100.0%), 1741.75 column/sec. Elapsed time 21.89 sec\n",
      "EvaluatorHoldout: Ignoring 173 ( 0.5%) Users that have less than 1 test interactions\n",
      "EvaluatorHoldout: Processed 35563 (100.0%) in 38.90 sec. Users per second: 914\n",
      "RP3betaRecommender: Similarity column 38121 (100.0%), 1762.49 column/sec. Elapsed time 21.63 sec\n",
      "EvaluatorHoldout: Ignoring 163 ( 0.5%) Users that have less than 1 test interactions\n",
      "EvaluatorHoldout: Processed 35573 (100.0%) in 38.72 sec. Users per second: 919\n",
      "RP3betaRecommender: Similarity column 38121 (100.0%), 1762.39 column/sec. Elapsed time 21.63 sec\n",
      "EvaluatorHoldout: Ignoring 150 ( 0.4%) Users that have less than 1 test interactions\n",
      "EvaluatorHoldout: Processed 35586 (100.0%) in 38.71 sec. Users per second: 919\n",
      "RP3betaRecommender: Similarity column 38121 (100.0%), 1764.69 column/sec. Elapsed time 21.60 sec\n",
      "EvaluatorHoldout: Ignoring 167 ( 0.5%) Users that have less than 1 test interactions\n",
      "EvaluatorHoldout: Processed 35569 (100.0%) in 38.91 sec. Users per second: 914\n",
      "RP3betaRecommender: Similarity column 38121 (100.0%), 1758.74 column/sec. Elapsed time 21.68 sec\n",
      "EvaluatorHoldout: Ignoring 172 ( 0.5%) Users that have less than 1 test interactions\n",
      "EvaluatorHoldout: Processed 35564 (100.0%) in 38.80 sec. Users per second: 917\n"
     ]
    },
    {
     "name": "stderr",
     "output_type": "stream",
     "text": [
      "[I 2025-01-07 03:55:12,825] Trial 167 finished with value: 0.27374836924428136 and parameters: {'topK': 97, 'alpha': 0.5480989713765878, 'beta': 0.2747315118945971, 'normalize_similarity': True, 'implicit': True}. Best is trial 158 with value: 0.27482516620598896.\n"
     ]
    },
    {
     "name": "stdout",
     "output_type": "stream",
     "text": [
      "RP3betaRecommender: Similarity column 38121 (100.0%), 1526.88 column/sec. Elapsed time 24.97 sec\n",
      "EvaluatorHoldout: Ignoring 173 ( 0.5%) Users that have less than 1 test interactions\n",
      "EvaluatorHoldout: Processed 35563 (100.0%) in 40.64 sec. Users per second: 875\n",
      "RP3betaRecommender: Similarity column 38121 (100.0%), 1514.47 column/sec. Elapsed time 25.17 sec\n",
      "EvaluatorHoldout: Ignoring 163 ( 0.5%) Users that have less than 1 test interactions\n",
      "EvaluatorHoldout: Processed 35573 (100.0%) in 40.26 sec. Users per second: 883\n",
      "RP3betaRecommender: Similarity column 38121 (100.0%), 1518.77 column/sec. Elapsed time 25.10 sec\n",
      "EvaluatorHoldout: Ignoring 150 ( 0.4%) Users that have less than 1 test interactions\n",
      "EvaluatorHoldout: Processed 35586 (100.0%) in 40.53 sec. Users per second: 878\n",
      "RP3betaRecommender: Similarity column 38121 (100.0%), 1520.46 column/sec. Elapsed time 25.07 sec\n",
      "EvaluatorHoldout: Ignoring 167 ( 0.5%) Users that have less than 1 test interactions\n",
      "EvaluatorHoldout: Processed 35569 (100.0%) in 40.53 sec. Users per second: 878\n",
      "RP3betaRecommender: Similarity column 38121 (100.0%), 1517.56 column/sec. Elapsed time 25.12 sec\n",
      "EvaluatorHoldout: Ignoring 172 ( 0.5%) Users that have less than 1 test interactions\n",
      "EvaluatorHoldout: Processed 35564 (100.0%) in 40.45 sec. Users per second: 879\n"
     ]
    },
    {
     "name": "stderr",
     "output_type": "stream",
     "text": [
      "[I 2025-01-07 04:01:15,299] Trial 168 finished with value: 0.27144195215986267 and parameters: {'topK': 162, 'alpha': 0.46165684316857236, 'beta': 0.2644723416511638, 'normalize_similarity': True, 'implicit': True}. Best is trial 158 with value: 0.27482516620598896.\n"
     ]
    },
    {
     "name": "stdout",
     "output_type": "stream",
     "text": [
      "RP3betaRecommender: Similarity column 38121 (100.0%), 1767.51 column/sec. Elapsed time 21.57 sec\n",
      "EvaluatorHoldout: Ignoring 173 ( 0.5%) Users that have less than 1 test interactions\n",
      "EvaluatorHoldout: Processed 35563 (100.0%) in 38.75 sec. Users per second: 918\n",
      "RP3betaRecommender: Similarity column 38121 (100.0%), 1772.28 column/sec. Elapsed time 21.51 sec\n",
      "EvaluatorHoldout: Ignoring 163 ( 0.5%) Users that have less than 1 test interactions\n",
      "EvaluatorHoldout: Processed 35573 (100.0%) in 38.69 sec. Users per second: 919\n",
      "RP3betaRecommender: Similarity column 38121 (100.0%), 1752.91 column/sec. Elapsed time 21.75 sec\n",
      "EvaluatorHoldout: Ignoring 150 ( 0.4%) Users that have less than 1 test interactions\n",
      "EvaluatorHoldout: Processed 35586 (100.0%) in 39.21 sec. Users per second: 908\n",
      "RP3betaRecommender: Similarity column 38121 (100.0%), 1744.63 column/sec. Elapsed time 21.85 sec\n",
      "EvaluatorHoldout: Ignoring 167 ( 0.5%) Users that have less than 1 test interactions\n",
      "EvaluatorHoldout: Processed 35569 (100.0%) in 38.87 sec. Users per second: 915\n",
      "RP3betaRecommender: Similarity column 38121 (100.0%), 1751.09 column/sec. Elapsed time 21.77 sec\n",
      "EvaluatorHoldout: Ignoring 172 ( 0.5%) Users that have less than 1 test interactions\n",
      "EvaluatorHoldout: Processed 35564 (100.0%) in 39.16 sec. Users per second: 908\n"
     ]
    },
    {
     "name": "stderr",
     "output_type": "stream",
     "text": [
      "[I 2025-01-07 04:06:40,952] Trial 169 finished with value: 0.27284929905645666 and parameters: {'topK': 95, 'alpha': 0.585694034997585, 'beta': 0.3247371658445636, 'normalize_similarity': True, 'implicit': True}. Best is trial 158 with value: 0.27482516620598896.\n"
     ]
    },
    {
     "name": "stdout",
     "output_type": "stream",
     "text": [
      "RP3betaRecommender: Similarity column 38121 (100.0%), 2881.88 column/sec. Elapsed time 13.23 sec\n",
      "EvaluatorHoldout: Ignoring 173 ( 0.5%) Users that have less than 1 test interactions\n",
      "EvaluatorHoldout: Processed 35563 (100.0%) in 29.68 sec. Users per second: 1198\n",
      "RP3betaRecommender: Similarity column 38121 (100.0%), 2899.97 column/sec. Elapsed time 13.15 sec\n",
      "EvaluatorHoldout: Ignoring 163 ( 0.5%) Users that have less than 1 test interactions\n",
      "EvaluatorHoldout: Processed 35573 (100.0%) in 29.53 sec. Users per second: 1205\n",
      "RP3betaRecommender: Similarity column 38121 (100.0%), 2956.45 column/sec. Elapsed time 12.89 sec\n",
      "EvaluatorHoldout: Ignoring 150 ( 0.4%) Users that have less than 1 test interactions\n",
      "EvaluatorHoldout: Processed 35586 (100.0%) in 29.51 sec. Users per second: 1206\n",
      "RP3betaRecommender: Similarity column 38121 (100.0%), 2951.55 column/sec. Elapsed time 12.92 sec\n",
      "EvaluatorHoldout: Ignoring 167 ( 0.5%) Users that have less than 1 test interactions\n",
      "EvaluatorHoldout: Processed 35569 (100.0%) in 29.53 sec. Users per second: 1205\n",
      "RP3betaRecommender: Similarity column 38121 (100.0%), 2983.87 column/sec. Elapsed time 12.78 sec\n",
      "EvaluatorHoldout: Ignoring 172 ( 0.5%) Users that have less than 1 test interactions\n",
      "EvaluatorHoldout: Processed 35564 (100.0%) in 29.38 sec. Users per second: 1210\n"
     ]
    },
    {
     "name": "stderr",
     "output_type": "stream",
     "text": [
      "[I 2025-01-07 04:10:17,448] Trial 170 finished with value: 0.10858816358970087 and parameters: {'topK': 1, 'alpha': 0.398845332298145, 'beta': 0.4361089418087129, 'normalize_similarity': False, 'implicit': True}. Best is trial 158 with value: 0.27482516620598896.\n"
     ]
    },
    {
     "name": "stdout",
     "output_type": "stream",
     "text": [
      "RP3betaRecommender: Similarity column 38121 (100.0%), 1696.37 column/sec. Elapsed time 22.47 sec\n",
      "EvaluatorHoldout: Ignoring 173 ( 0.5%) Users that have less than 1 test interactions\n",
      "EvaluatorHoldout: Processed 35563 (100.0%) in 39.35 sec. Users per second: 904\n",
      "RP3betaRecommender: Similarity column 38121 (100.0%), 1689.63 column/sec. Elapsed time 22.56 sec\n",
      "EvaluatorHoldout: Ignoring 163 ( 0.5%) Users that have less than 1 test interactions\n",
      "EvaluatorHoldout: Processed 35573 (100.0%) in 39.39 sec. Users per second: 903\n",
      "RP3betaRecommender: Similarity column 38121 (100.0%), 1694.07 column/sec. Elapsed time 22.50 sec\n",
      "EvaluatorHoldout: Ignoring 150 ( 0.4%) Users that have less than 1 test interactions\n",
      "EvaluatorHoldout: Processed 35586 (100.0%) in 39.36 sec. Users per second: 904\n",
      "RP3betaRecommender: Similarity column 38121 (100.0%), 1680.46 column/sec. Elapsed time 22.68 sec\n",
      "EvaluatorHoldout: Ignoring 167 ( 0.5%) Users that have less than 1 test interactions\n",
      "EvaluatorHoldout: Processed 35569 (100.0%) in 39.39 sec. Users per second: 903\n",
      "RP3betaRecommender: Similarity column 38121 (100.0%), 1698.67 column/sec. Elapsed time 22.44 sec\n",
      "EvaluatorHoldout: Ignoring 172 ( 0.5%) Users that have less than 1 test interactions\n",
      "EvaluatorHoldout: Processed 35564 (100.0%) in 39.49 sec. Users per second: 901\n"
     ]
    },
    {
     "name": "stderr",
     "output_type": "stream",
     "text": [
      "[I 2025-01-07 04:15:52,461] Trial 171 finished with value: 0.27292186518335326 and parameters: {'topK': 113, 'alpha': 0.5568860992420746, 'beta': 0.28355877332910195, 'normalize_similarity': True, 'implicit': True}. Best is trial 158 with value: 0.27482516620598896.\n"
     ]
    },
    {
     "name": "stdout",
     "output_type": "stream",
     "text": [
      "RP3betaRecommender: Similarity column 38121 (100.0%), 1778.50 column/sec. Elapsed time 21.43 sec\n",
      "EvaluatorHoldout: Ignoring 173 ( 0.5%) Users that have less than 1 test interactions\n",
      "EvaluatorHoldout: Processed 35563 (100.0%) in 39.08 sec. Users per second: 910\n",
      "RP3betaRecommender: Similarity column 38121 (100.0%), 1783.43 column/sec. Elapsed time 21.38 sec\n",
      "EvaluatorHoldout: Ignoring 163 ( 0.5%) Users that have less than 1 test interactions\n",
      "EvaluatorHoldout: Processed 35573 (100.0%) in 38.75 sec. Users per second: 918\n",
      "RP3betaRecommender: Similarity column 38121 (100.0%), 1773.86 column/sec. Elapsed time 21.49 sec\n",
      "EvaluatorHoldout: Ignoring 150 ( 0.4%) Users that have less than 1 test interactions\n",
      "EvaluatorHoldout: Processed 35586 (100.0%) in 38.80 sec. Users per second: 917\n",
      "RP3betaRecommender: Similarity column 38121 (100.0%), 1771.10 column/sec. Elapsed time 21.52 sec\n",
      "EvaluatorHoldout: Ignoring 167 ( 0.5%) Users that have less than 1 test interactions\n",
      "EvaluatorHoldout: Processed 35569 (100.0%) in 38.86 sec. Users per second: 915\n",
      "RP3betaRecommender: Similarity column 38121 (100.0%), 1786.11 column/sec. Elapsed time 21.34 sec\n",
      "EvaluatorHoldout: Ignoring 172 ( 0.5%) Users that have less than 1 test interactions\n",
      "EvaluatorHoldout: Processed 35564 (100.0%) in 38.96 sec. Users per second: 913\n"
     ]
    },
    {
     "name": "stderr",
     "output_type": "stream",
     "text": [
      "[I 2025-01-07 04:21:16,254] Trial 172 finished with value: 0.2738706836907917 and parameters: {'topK': 92, 'alpha': 0.4892577390914412, 'beta': 0.3331817789284777, 'normalize_similarity': True, 'implicit': True}. Best is trial 158 with value: 0.27482516620598896.\n"
     ]
    },
    {
     "name": "stdout",
     "output_type": "stream",
     "text": [
      "RP3betaRecommender: Similarity column 38121 (100.0%), 1612.87 column/sec. Elapsed time 23.64 sec\n",
      "EvaluatorHoldout: Ignoring 173 ( 0.5%) Users that have less than 1 test interactions\n",
      "EvaluatorHoldout: Processed 35563 (100.0%) in 40.76 sec. Users per second: 872\n",
      "RP3betaRecommender: Similarity column 38121 (100.0%), 1617.06 column/sec. Elapsed time 23.57 sec\n",
      "EvaluatorHoldout: Ignoring 163 ( 0.5%) Users that have less than 1 test interactions\n",
      "EvaluatorHoldout: Processed 35573 (100.0%) in 40.33 sec. Users per second: 882\n",
      "RP3betaRecommender: Similarity column 38121 (100.0%), 1630.50 column/sec. Elapsed time 23.38 sec\n",
      "EvaluatorHoldout: Ignoring 150 ( 0.4%) Users that have less than 1 test interactions\n",
      "EvaluatorHoldout: Processed 35586 (100.0%) in 41.07 sec. Users per second: 867\n",
      "RP3betaRecommender: Similarity column 38121 (100.0%), 1625.14 column/sec. Elapsed time 23.46 sec\n",
      "EvaluatorHoldout: Ignoring 167 ( 0.5%) Users that have less than 1 test interactions\n",
      "EvaluatorHoldout: Processed 35569 (100.0%) in 40.75 sec. Users per second: 873\n",
      "RP3betaRecommender: Similarity column 38121 (100.0%), 1624.59 column/sec. Elapsed time 23.47 sec\n",
      "EvaluatorHoldout: Ignoring 172 ( 0.5%) Users that have less than 1 test interactions\n",
      "EvaluatorHoldout: Processed 35564 (100.0%) in 40.63 sec. Users per second: 875\n"
     ]
    },
    {
     "name": "stderr",
     "output_type": "stream",
     "text": [
      "[I 2025-01-07 04:27:06,600] Trial 173 finished with value: 0.23661115508745545 and parameters: {'topK': 134, 'alpha': 1.6400719203901655, 'beta': 0.345360359546883, 'normalize_similarity': True, 'implicit': True}. Best is trial 158 with value: 0.27482516620598896.\n"
     ]
    },
    {
     "name": "stdout",
     "output_type": "stream",
     "text": [
      "RP3betaRecommender: Similarity column 38121 (100.0%), 1320.69 column/sec. Elapsed time 28.86 sec\n",
      "EvaluatorHoldout: Ignoring 173 ( 0.5%) Users that have less than 1 test interactions\n",
      "EvaluatorHoldout: Processed 35563 (100.0%) in 44.10 sec. Users per second: 806\n",
      "RP3betaRecommender: Similarity column 38121 (100.0%), 1307.60 column/sec. Elapsed time 29.15 sec\n",
      "EvaluatorHoldout: Ignoring 163 ( 0.5%) Users that have less than 1 test interactions\n",
      "EvaluatorHoldout: Processed 35573 (100.0%) in 43.68 sec. Users per second: 814\n",
      "RP3betaRecommender: Similarity column 38121 (100.0%), 1317.07 column/sec. Elapsed time 28.94 sec\n",
      "EvaluatorHoldout: Ignoring 150 ( 0.4%) Users that have less than 1 test interactions\n",
      "EvaluatorHoldout: Processed 35586 (100.0%) in 44.08 sec. Users per second: 807\n",
      "RP3betaRecommender: Similarity column 38121 (100.0%), 1315.78 column/sec. Elapsed time 28.97 sec\n",
      "EvaluatorHoldout: Ignoring 167 ( 0.5%) Users that have less than 1 test interactions\n",
      "EvaluatorHoldout: Processed 35569 (100.0%) in 43.77 sec. Users per second: 813\n",
      "RP3betaRecommender: Similarity column 38121 (100.0%), 1323.24 column/sec. Elapsed time 28.81 sec\n",
      "EvaluatorHoldout: Ignoring 172 ( 0.5%) Users that have less than 1 test interactions\n",
      "EvaluatorHoldout: Processed 35564 (100.0%) in 44.50 sec. Users per second: 799\n"
     ]
    },
    {
     "name": "stderr",
     "output_type": "stream",
     "text": [
      "[I 2025-01-07 04:34:09,299] Trial 174 finished with value: 0.26434001449912764 and parameters: {'topK': 237, 'alpha': 0.47404366498430206, 'beta': 0.46364940500616614, 'normalize_similarity': True, 'implicit': True}. Best is trial 158 with value: 0.27482516620598896.\n"
     ]
    },
    {
     "name": "stdout",
     "output_type": "stream",
     "text": [
      "RP3betaRecommender: Similarity column 38121 (100.0%), 1748.42 column/sec. Elapsed time 21.80 sec\n",
      "EvaluatorHoldout: Ignoring 173 ( 0.5%) Users that have less than 1 test interactions\n",
      "EvaluatorHoldout: Processed 35563 (100.0%) in 39.48 sec. Users per second: 901\n",
      "RP3betaRecommender: Similarity column 38121 (100.0%), 1779.53 column/sec. Elapsed time 21.42 sec\n",
      "EvaluatorHoldout: Ignoring 163 ( 0.5%) Users that have less than 1 test interactions\n",
      "EvaluatorHoldout: Processed 35573 (100.0%) in 38.83 sec. Users per second: 916\n",
      "RP3betaRecommender: Similarity column 38121 (100.0%), 1790.91 column/sec. Elapsed time 21.29 sec\n",
      "EvaluatorHoldout: Ignoring 150 ( 0.4%) Users that have less than 1 test interactions\n",
      "EvaluatorHoldout: Processed 35586 (100.0%) in 38.89 sec. Users per second: 915\n",
      "RP3betaRecommender: Similarity column 38121 (100.0%), 1777.53 column/sec. Elapsed time 21.45 sec\n",
      "EvaluatorHoldout: Ignoring 167 ( 0.5%) Users that have less than 1 test interactions\n",
      "EvaluatorHoldout: Processed 35569 (100.0%) in 38.86 sec. Users per second: 915\n",
      "RP3betaRecommender: Similarity column 38121 (100.0%), 1800.60 column/sec. Elapsed time 21.17 sec\n",
      "EvaluatorHoldout: Ignoring 172 ( 0.5%) Users that have less than 1 test interactions\n",
      "EvaluatorHoldout: Processed 35564 (100.0%) in 38.71 sec. Users per second: 919\n"
     ]
    },
    {
     "name": "stderr",
     "output_type": "stream",
     "text": [
      "[I 2025-01-07 04:39:33,322] Trial 175 finished with value: 0.27374328938388065 and parameters: {'topK': 94, 'alpha': 0.39116131971494356, 'beta': 0.34171890799330606, 'normalize_similarity': True, 'implicit': True}. Best is trial 158 with value: 0.27482516620598896.\n"
     ]
    },
    {
     "name": "stdout",
     "output_type": "stream",
     "text": [
      "RP3betaRecommender: Similarity column 38121 (100.0%), 1540.88 column/sec. Elapsed time 24.74 sec\n",
      "EvaluatorHoldout: Ignoring 173 ( 0.5%) Users that have less than 1 test interactions\n",
      "EvaluatorHoldout: Processed 35563 (100.0%) in 40.32 sec. Users per second: 882\n",
      "RP3betaRecommender: Similarity column 38121 (100.0%), 1525.83 column/sec. Elapsed time 24.98 sec\n",
      "EvaluatorHoldout: Ignoring 163 ( 0.5%) Users that have less than 1 test interactions\n",
      "EvaluatorHoldout: Processed 35573 (100.0%) in 40.12 sec. Users per second: 887\n",
      "RP3betaRecommender: Similarity column 38121 (100.0%), 1550.73 column/sec. Elapsed time 24.58 sec\n",
      "EvaluatorHoldout: Ignoring 150 ( 0.4%) Users that have less than 1 test interactions\n",
      "EvaluatorHoldout: Processed 35586 (100.0%) in 40.95 sec. Users per second: 869\n",
      "RP3betaRecommender: Similarity column 38121 (100.0%), 1546.69 column/sec. Elapsed time 24.65 sec\n",
      "EvaluatorHoldout: Ignoring 167 ( 0.5%) Users that have less than 1 test interactions\n",
      "EvaluatorHoldout: Processed 35569 (100.0%) in 40.60 sec. Users per second: 876\n",
      "RP3betaRecommender: Similarity column 38121 (100.0%), 1552.07 column/sec. Elapsed time 24.56 sec\n",
      "EvaluatorHoldout: Ignoring 172 ( 0.5%) Users that have less than 1 test interactions\n",
      "EvaluatorHoldout: Processed 35564 (100.0%) in 40.31 sec. Users per second: 882\n"
     ]
    },
    {
     "name": "stderr",
     "output_type": "stream",
     "text": [
      "[I 2025-01-07 04:45:32,352] Trial 176 finished with value: 0.2717611247559212 and parameters: {'topK': 154, 'alpha': 0.49156583755624395, 'beta': 0.2712415066016478, 'normalize_similarity': True, 'implicit': True}. Best is trial 158 with value: 0.27482516620598896.\n"
     ]
    },
    {
     "name": "stdout",
     "output_type": "stream",
     "text": [
      "RP3betaRecommender: Similarity column 38121 (100.0%), 1783.11 column/sec. Elapsed time 21.38 sec\n",
      "EvaluatorHoldout: Ignoring 173 ( 0.5%) Users that have less than 1 test interactions\n",
      "EvaluatorHoldout: Processed 35563 (100.0%) in 39.14 sec. Users per second: 909\n",
      "RP3betaRecommender: Similarity column 38121 (100.0%), 1770.39 column/sec. Elapsed time 21.53 sec\n",
      "EvaluatorHoldout: Ignoring 163 ( 0.5%) Users that have less than 1 test interactions\n",
      "EvaluatorHoldout: Processed 35573 (100.0%) in 38.66 sec. Users per second: 920\n",
      "RP3betaRecommender: Similarity column 38121 (100.0%), 1788.63 column/sec. Elapsed time 21.31 sec\n",
      "EvaluatorHoldout: Ignoring 150 ( 0.4%) Users that have less than 1 test interactions\n",
      "EvaluatorHoldout: Processed 35586 (100.0%) in 38.87 sec. Users per second: 915\n",
      "RP3betaRecommender: Similarity column 38121 (100.0%), 1774.78 column/sec. Elapsed time 21.48 sec\n",
      "EvaluatorHoldout: Ignoring 167 ( 0.5%) Users that have less than 1 test interactions\n",
      "EvaluatorHoldout: Processed 35569 (100.0%) in 38.81 sec. Users per second: 917\n",
      "RP3betaRecommender: Similarity column 38121 (100.0%), 1789.40 column/sec. Elapsed time 21.30 sec\n",
      "EvaluatorHoldout: Ignoring 172 ( 0.5%) Users that have less than 1 test interactions\n",
      "EvaluatorHoldout: Processed 35564 (100.0%) in 38.73 sec. Users per second: 918\n"
     ]
    },
    {
     "name": "stderr",
     "output_type": "stream",
     "text": [
      "[I 2025-01-07 04:50:55,187] Trial 177 finished with value: 0.07962612844363695 and parameters: {'topK': 92, 'alpha': 2.7466054371969366, 'beta': 1.3554293759402785, 'normalize_similarity': True, 'implicit': True}. Best is trial 158 with value: 0.27482516620598896.\n"
     ]
    },
    {
     "name": "stdout",
     "output_type": "stream",
     "text": [
      "RP3betaRecommender: Similarity column 38121 (100.0%), 1646.35 column/sec. Elapsed time 23.15 sec\n",
      "EvaluatorHoldout: Ignoring 173 ( 0.5%) Users that have less than 1 test interactions\n",
      "EvaluatorHoldout: Processed 35563 (100.0%) in 39.16 sec. Users per second: 908\n",
      "RP3betaRecommender: Similarity column 38121 (100.0%), 1644.03 column/sec. Elapsed time 23.19 sec\n",
      "EvaluatorHoldout: Ignoring 163 ( 0.5%) Users that have less than 1 test interactions\n",
      "EvaluatorHoldout: Processed 35573 (100.0%) in 39.18 sec. Users per second: 908\n",
      "RP3betaRecommender: Similarity column 38121 (100.0%), 1650.66 column/sec. Elapsed time 23.09 sec\n",
      "EvaluatorHoldout: Ignoring 150 ( 0.4%) Users that have less than 1 test interactions\n",
      "EvaluatorHoldout: Processed 35586 (100.0%) in 39.47 sec. Users per second: 902\n",
      "RP3betaRecommender: Similarity column 38121 (100.0%), 1652.19 column/sec. Elapsed time 23.07 sec\n",
      "EvaluatorHoldout: Ignoring 167 ( 0.5%) Users that have less than 1 test interactions\n",
      "EvaluatorHoldout: Processed 35569 (100.0%) in 39.17 sec. Users per second: 908\n",
      "RP3betaRecommender: Similarity column 38121 (100.0%), 1646.89 column/sec. Elapsed time 23.15 sec\n",
      "EvaluatorHoldout: Ignoring 172 ( 0.5%) Users that have less than 1 test interactions\n",
      "EvaluatorHoldout: Processed 35564 (100.0%) in 38.96 sec. Users per second: 913\n"
     ]
    },
    {
     "name": "stderr",
     "output_type": "stream",
     "text": [
      "[I 2025-01-07 04:56:33,414] Trial 178 finished with value: 0.27298797123386304 and parameters: {'topK': 126, 'alpha': 0.37597019268376475, 'beta': 0.24899854905205332, 'normalize_similarity': True, 'implicit': True}. Best is trial 158 with value: 0.27482516620598896.\n"
     ]
    },
    {
     "name": "stdout",
     "output_type": "stream",
     "text": [
      "RP3betaRecommender: Similarity column 38121 (100.0%), 1925.05 column/sec. Elapsed time 19.80 sec\n",
      "EvaluatorHoldout: Ignoring 173 ( 0.5%) Users that have less than 1 test interactions\n",
      "EvaluatorHoldout: Processed 35563 (100.0%) in 37.43 sec. Users per second: 950\n",
      "RP3betaRecommender: Similarity column 38121 (100.0%), 1936.25 column/sec. Elapsed time 19.69 sec\n",
      "EvaluatorHoldout: Ignoring 163 ( 0.5%) Users that have less than 1 test interactions\n",
      "EvaluatorHoldout: Processed 35573 (100.0%) in 37.49 sec. Users per second: 949\n",
      "RP3betaRecommender: Similarity column 38121 (100.0%), 1955.27 column/sec. Elapsed time 19.50 sec\n",
      "EvaluatorHoldout: Ignoring 150 ( 0.4%) Users that have less than 1 test interactions\n",
      "EvaluatorHoldout: Processed 35586 (100.0%) in 37.41 sec. Users per second: 951\n",
      "RP3betaRecommender: Similarity column 38121 (100.0%), 1946.66 column/sec. Elapsed time 19.58 sec\n",
      "EvaluatorHoldout: Ignoring 167 ( 0.5%) Users that have less than 1 test interactions\n",
      "EvaluatorHoldout: Processed 35569 (100.0%) in 37.52 sec. Users per second: 948\n",
      "RP3betaRecommender: Similarity column 38121 (100.0%), 1958.54 column/sec. Elapsed time 19.46 sec\n",
      "EvaluatorHoldout: Ignoring 172 ( 0.5%) Users that have less than 1 test interactions\n",
      "EvaluatorHoldout: Processed 35564 (100.0%) in 37.76 sec. Users per second: 942\n"
     ]
    },
    {
     "name": "stderr",
     "output_type": "stream",
     "text": [
      "[I 2025-01-07 05:01:34,724] Trial 179 finished with value: 0.26980861472786366 and parameters: {'topK': 58, 'alpha': 0.4325074996250769, 'beta': 0.4605958072327633, 'normalize_similarity': True, 'implicit': True}. Best is trial 158 with value: 0.27482516620598896.\n"
     ]
    },
    {
     "name": "stdout",
     "output_type": "stream",
     "text": [
      "RP3betaRecommender: Similarity column 38121 (100.0%), 2145.82 column/sec. Elapsed time 17.77 sec\n",
      "EvaluatorHoldout: Ignoring 173 ( 0.5%) Users that have less than 1 test interactions\n",
      "EvaluatorHoldout: Processed 35563 (100.0%) in 34.89 sec. Users per second: 1019\n",
      "RP3betaRecommender: Similarity column 38121 (100.0%), 2135.40 column/sec. Elapsed time 17.85 sec\n",
      "EvaluatorHoldout: Ignoring 163 ( 0.5%) Users that have less than 1 test interactions\n",
      "EvaluatorHoldout: Processed 35573 (100.0%) in 35.02 sec. Users per second: 1016\n",
      "RP3betaRecommender: Similarity column 38121 (100.0%), 2146.12 column/sec. Elapsed time 17.76 sec\n",
      "EvaluatorHoldout: Ignoring 150 ( 0.4%) Users that have less than 1 test interactions\n",
      "EvaluatorHoldout: Processed 35586 (100.0%) in 34.93 sec. Users per second: 1019\n",
      "RP3betaRecommender: Similarity column 38121 (100.0%), 2152.15 column/sec. Elapsed time 17.71 sec\n",
      "EvaluatorHoldout: Ignoring 167 ( 0.5%) Users that have less than 1 test interactions\n",
      "EvaluatorHoldout: Processed 35569 (100.0%) in 35.10 sec. Users per second: 1013\n",
      "RP3betaRecommender: Similarity column 38121 (100.0%), 2157.13 column/sec. Elapsed time 17.67 sec\n",
      "EvaluatorHoldout: Ignoring 172 ( 0.5%) Users that have less than 1 test interactions\n",
      "EvaluatorHoldout: Processed 35564 (100.0%) in 35.02 sec. Users per second: 1015\n"
     ]
    },
    {
     "name": "stderr",
     "output_type": "stream",
     "text": [
      "[I 2025-01-07 05:06:06,767] Trial 180 finished with value: 0.26636772329040614 and parameters: {'topK': 23, 'alpha': 0.4947384098098259, 'beta': 0.3381532794544751, 'normalize_similarity': True, 'implicit': True}. Best is trial 158 with value: 0.27482516620598896.\n"
     ]
    },
    {
     "name": "stdout",
     "output_type": "stream",
     "text": [
      "RP3betaRecommender: Similarity column 38121 (100.0%), 1797.01 column/sec. Elapsed time 21.21 sec\n",
      "EvaluatorHoldout: Ignoring 173 ( 0.5%) Users that have less than 1 test interactions\n",
      "EvaluatorHoldout: Processed 35563 (100.0%) in 38.47 sec. Users per second: 924\n",
      "RP3betaRecommender: Similarity column 38121 (100.0%), 1766.55 column/sec. Elapsed time 21.58 sec\n",
      "EvaluatorHoldout: Ignoring 163 ( 0.5%) Users that have less than 1 test interactions\n",
      "EvaluatorHoldout: Processed 35573 (100.0%) in 38.40 sec. Users per second: 926\n",
      "RP3betaRecommender: Similarity column 38121 (100.0%), 1790.21 column/sec. Elapsed time 21.29 sec\n",
      "EvaluatorHoldout: Ignoring 150 ( 0.4%) Users that have less than 1 test interactions\n",
      "EvaluatorHoldout: Processed 35586 (100.0%) in 38.58 sec. Users per second: 922\n",
      "RP3betaRecommender: Similarity column 38121 (100.0%), 1786.53 column/sec. Elapsed time 21.34 sec\n",
      "EvaluatorHoldout: Ignoring 167 ( 0.5%) Users that have less than 1 test interactions\n",
      "EvaluatorHoldout: Processed 35569 (100.0%) in 38.39 sec. Users per second: 926\n",
      "RP3betaRecommender: Similarity column 38121 (100.0%), 1776.90 column/sec. Elapsed time 21.45 sec\n",
      "EvaluatorHoldout: Ignoring 172 ( 0.5%) Users that have less than 1 test interactions\n",
      "EvaluatorHoldout: Processed 35564 (100.0%) in 38.68 sec. Users per second: 920\n"
     ]
    },
    {
     "name": "stderr",
     "output_type": "stream",
     "text": [
      "[I 2025-01-07 05:11:27,076] Trial 181 finished with value: 0.27360938988831285 and parameters: {'topK': 91, 'alpha': 0.568169843813149, 'beta': 0.2750314107594869, 'normalize_similarity': True, 'implicit': True}. Best is trial 158 with value: 0.27482516620598896.\n"
     ]
    },
    {
     "name": "stdout",
     "output_type": "stream",
     "text": [
      "RP3betaRecommender: Similarity column 38121 (100.0%), 1762.84 column/sec. Elapsed time 21.62 sec\n",
      "EvaluatorHoldout: Ignoring 173 ( 0.5%) Users that have less than 1 test interactions\n",
      "EvaluatorHoldout: Processed 35563 (100.0%) in 39.08 sec. Users per second: 910\n",
      "RP3betaRecommender: Similarity column 38121 (100.0%), 1756.17 column/sec. Elapsed time 21.71 sec\n",
      "EvaluatorHoldout: Ignoring 163 ( 0.5%) Users that have less than 1 test interactions\n",
      "EvaluatorHoldout: Processed 35573 (100.0%) in 39.00 sec. Users per second: 912\n",
      "RP3betaRecommender: Similarity column 38121 (100.0%), 1781.88 column/sec. Elapsed time 21.39 sec\n",
      "EvaluatorHoldout: Ignoring 150 ( 0.4%) Users that have less than 1 test interactions\n",
      "EvaluatorHoldout: Processed 35586 (100.0%) in 39.05 sec. Users per second: 911\n",
      "RP3betaRecommender: Similarity column 38121 (100.0%), 1763.97 column/sec. Elapsed time 21.61 sec\n",
      "EvaluatorHoldout: Ignoring 167 ( 0.5%) Users that have less than 1 test interactions\n",
      "EvaluatorHoldout: Processed 35569 (100.0%) in 39.31 sec. Users per second: 905\n",
      "RP3betaRecommender: Similarity column 38121 (100.0%), 1771.78 column/sec. Elapsed time 21.52 sec\n",
      "EvaluatorHoldout: Ignoring 172 ( 0.5%) Users that have less than 1 test interactions\n",
      "EvaluatorHoldout: Processed 35564 (100.0%) in 39.15 sec. Users per second: 908\n"
     ]
    },
    {
     "name": "stderr",
     "output_type": "stream",
     "text": [
      "[I 2025-01-07 05:16:53,906] Trial 182 finished with value: 0.27144607313984337 and parameters: {'topK': 96, 'alpha': 0.5254830279636589, 'beta': 0.40173676381797296, 'normalize_similarity': True, 'implicit': True}. Best is trial 158 with value: 0.27482516620598896.\n"
     ]
    },
    {
     "name": "stdout",
     "output_type": "stream",
     "text": [
      "RP3betaRecommender: Similarity column 38121 (100.0%), 1675.40 column/sec. Elapsed time 22.75 sec\n",
      "EvaluatorHoldout: Ignoring 173 ( 0.5%) Users that have less than 1 test interactions\n",
      "EvaluatorHoldout: Processed 35563 (100.0%) in 39.04 sec. Users per second: 911\n",
      "RP3betaRecommender: Similarity column 38121 (100.0%), 1676.92 column/sec. Elapsed time 22.73 sec\n",
      "EvaluatorHoldout: Ignoring 163 ( 0.5%) Users that have less than 1 test interactions\n",
      "EvaluatorHoldout: Processed 35573 (100.0%) in 39.26 sec. Users per second: 906\n",
      "RP3betaRecommender: Similarity column 38121 (100.0%), 1687.00 column/sec. Elapsed time 22.60 sec\n",
      "EvaluatorHoldout: Ignoring 150 ( 0.4%) Users that have less than 1 test interactions\n",
      "EvaluatorHoldout: Processed 35586 (100.0%) in 39.24 sec. Users per second: 907\n",
      "RP3betaRecommender: Similarity column 38121 (100.0%), 1665.29 column/sec. Elapsed time 22.89 sec\n",
      "EvaluatorHoldout: Ignoring 167 ( 0.5%) Users that have less than 1 test interactions\n",
      "EvaluatorHoldout: Processed 35569 (100.0%) in 39.20 sec. Users per second: 907\n",
      "RP3betaRecommender: Similarity column 38121 (100.0%), 1687.55 column/sec. Elapsed time 22.59 sec\n",
      "EvaluatorHoldout: Ignoring 172 ( 0.5%) Users that have less than 1 test interactions\n",
      "EvaluatorHoldout: Processed 35564 (100.0%) in 38.97 sec. Users per second: 913\n"
     ]
    },
    {
     "name": "stderr",
     "output_type": "stream",
     "text": [
      "[I 2025-01-07 05:22:28,502] Trial 183 finished with value: 0.27330466678768806 and parameters: {'topK': 119, 'alpha': 0.3696406922013337, 'beta': 0.24888230100007905, 'normalize_similarity': True, 'implicit': True}. Best is trial 158 with value: 0.27482516620598896.\n"
     ]
    },
    {
     "name": "stdout",
     "output_type": "stream",
     "text": [
      "RP3betaRecommender: Similarity column 38121 (100.0%), 1876.05 column/sec. Elapsed time 20.32 sec\n",
      "EvaluatorHoldout: Ignoring 173 ( 0.5%) Users that have less than 1 test interactions\n",
      "EvaluatorHoldout: Processed 35563 (100.0%) in 37.54 sec. Users per second: 947\n",
      "RP3betaRecommender: Similarity column 38121 (100.0%), 1864.72 column/sec. Elapsed time 20.44 sec\n",
      "EvaluatorHoldout: Ignoring 163 ( 0.5%) Users that have less than 1 test interactions\n",
      "EvaluatorHoldout: Processed 35573 (100.0%) in 37.56 sec. Users per second: 947\n",
      "RP3betaRecommender: Similarity column 38121 (100.0%), 1886.37 column/sec. Elapsed time 20.21 sec\n",
      "EvaluatorHoldout: Ignoring 150 ( 0.4%) Users that have less than 1 test interactions\n",
      "EvaluatorHoldout: Processed 35586 (100.0%) in 37.61 sec. Users per second: 946\n",
      "RP3betaRecommender: Similarity column 38121 (100.0%), 1880.86 column/sec. Elapsed time 20.27 sec\n",
      "EvaluatorHoldout: Ignoring 167 ( 0.5%) Users that have less than 1 test interactions\n",
      "EvaluatorHoldout: Processed 35569 (100.0%) in 37.26 sec. Users per second: 955\n",
      "RP3betaRecommender: Similarity column 38121 (100.0%), 1895.83 column/sec. Elapsed time 20.11 sec\n",
      "EvaluatorHoldout: Ignoring 172 ( 0.5%) Users that have less than 1 test interactions\n",
      "EvaluatorHoldout: Processed 35564 (100.0%) in 37.56 sec. Users per second: 947\n"
     ]
    },
    {
     "name": "stderr",
     "output_type": "stream",
     "text": [
      "[I 2025-01-07 05:27:34,233] Trial 184 finished with value: 0.27398712505138906 and parameters: {'topK': 70, 'alpha': 0.28335601635336416, 'beta': 0.33169543329179296, 'normalize_similarity': True, 'implicit': True}. Best is trial 158 with value: 0.27482516620598896.\n"
     ]
    },
    {
     "name": "stdout",
     "output_type": "stream",
     "text": [
      "RP3betaRecommender: Similarity column 38121 (100.0%), 1946.84 column/sec. Elapsed time 19.58 sec\n",
      "EvaluatorHoldout: Ignoring 173 ( 0.5%) Users that have less than 1 test interactions\n",
      "EvaluatorHoldout: Processed 35563 (100.0%) in 37.52 sec. Users per second: 948\n",
      "RP3betaRecommender: Similarity column 38121 (100.0%), 1959.60 column/sec. Elapsed time 19.45 sec\n",
      "EvaluatorHoldout: Ignoring 163 ( 0.5%) Users that have less than 1 test interactions\n",
      "EvaluatorHoldout: Processed 35573 (100.0%) in 37.42 sec. Users per second: 951\n",
      "RP3betaRecommender: Similarity column 38121 (100.0%), 1962.60 column/sec. Elapsed time 19.42 sec\n",
      "EvaluatorHoldout: Ignoring 150 ( 0.4%) Users that have less than 1 test interactions\n",
      "EvaluatorHoldout: Processed 35586 (100.0%) in 37.77 sec. Users per second: 942\n",
      "RP3betaRecommender: Similarity column 38121 (100.0%), 1959.39 column/sec. Elapsed time 19.46 sec\n",
      "EvaluatorHoldout: Ignoring 167 ( 0.5%) Users that have less than 1 test interactions\n",
      "EvaluatorHoldout: Processed 35569 (100.0%) in 37.43 sec. Users per second: 950\n",
      "RP3betaRecommender: Similarity column 38121 (100.0%), 1961.67 column/sec. Elapsed time 19.43 sec\n",
      "EvaluatorHoldout: Ignoring 172 ( 0.5%) Users that have less than 1 test interactions\n",
      "EvaluatorHoldout: Processed 35564 (100.0%) in 37.44 sec. Users per second: 950\n"
     ]
    },
    {
     "name": "stderr",
     "output_type": "stream",
     "text": [
      "[I 2025-01-07 05:32:34,188] Trial 185 finished with value: 0.26673122054748155 and parameters: {'topK': 55, 'alpha': 0.43961345429497434, 'beta': 0.50756968844318, 'normalize_similarity': True, 'implicit': True}. Best is trial 158 with value: 0.27482516620598896.\n"
     ]
    },
    {
     "name": "stdout",
     "output_type": "stream",
     "text": [
      "RP3betaRecommender: Similarity column 38121 (100.0%), 2107.69 column/sec. Elapsed time 18.09 sec\n",
      "EvaluatorHoldout: Ignoring 173 ( 0.5%) Users that have less than 1 test interactions\n",
      "EvaluatorHoldout: Processed 35563 (100.0%) in 34.83 sec. Users per second: 1021\n",
      "RP3betaRecommender: Similarity column 38121 (100.0%), 2113.04 column/sec. Elapsed time 18.04 sec\n",
      "EvaluatorHoldout: Ignoring 163 ( 0.5%) Users that have less than 1 test interactions\n",
      "EvaluatorHoldout: Processed 35573 (100.0%) in 35.51 sec. Users per second: 1002\n",
      "RP3betaRecommender: Similarity column 38121 (100.0%), 2168.44 column/sec. Elapsed time 17.58 sec\n",
      "EvaluatorHoldout: Ignoring 150 ( 0.4%) Users that have less than 1 test interactions\n",
      "EvaluatorHoldout: Processed 35586 (100.0%) in 35.17 sec. Users per second: 1012\n",
      "RP3betaRecommender: Similarity column 38121 (100.0%), 2165.82 column/sec. Elapsed time 17.60 sec\n",
      "EvaluatorHoldout: Ignoring 167 ( 0.5%) Users that have less than 1 test interactions\n",
      "EvaluatorHoldout: Processed 35569 (100.0%) in 34.94 sec. Users per second: 1018\n",
      "RP3betaRecommender: Similarity column 38121 (100.0%), 2150.81 column/sec. Elapsed time 17.72 sec\n",
      "EvaluatorHoldout: Ignoring 172 ( 0.5%) Users that have less than 1 test interactions\n",
      "EvaluatorHoldout: Processed 35564 (100.0%) in 35.24 sec. Users per second: 1009\n"
     ]
    },
    {
     "name": "stderr",
     "output_type": "stream",
     "text": [
      "[I 2025-01-07 05:37:07,277] Trial 186 finished with value: 0.26817552689357765 and parameters: {'topK': 23, 'alpha': 0.28530867137455107, 'beta': 0.32846390564715044, 'normalize_similarity': True, 'implicit': True}. Best is trial 158 with value: 0.27482516620598896.\n"
     ]
    },
    {
     "name": "stdout",
     "output_type": "stream",
     "text": [
      "RP3betaRecommender: Similarity column 38121 (100.0%), 1882.74 column/sec. Elapsed time 20.25 sec\n",
      "EvaluatorHoldout: Ignoring 173 ( 0.5%) Users that have less than 1 test interactions\n",
      "EvaluatorHoldout: Processed 35563 (100.0%) in 38.06 sec. Users per second: 934\n",
      "RP3betaRecommender: Similarity column 38121 (100.0%), 1857.18 column/sec. Elapsed time 20.53 sec\n",
      "EvaluatorHoldout: Ignoring 163 ( 0.5%) Users that have less than 1 test interactions\n",
      "EvaluatorHoldout: Processed 35573 (100.0%) in 37.87 sec. Users per second: 939\n",
      "RP3betaRecommender: Similarity column 38121 (100.0%), 1879.27 column/sec. Elapsed time 20.28 sec\n",
      "EvaluatorHoldout: Ignoring 150 ( 0.4%) Users that have less than 1 test interactions\n",
      "EvaluatorHoldout: Processed 35586 (100.0%) in 37.91 sec. Users per second: 939\n",
      "RP3betaRecommender: Similarity column 38121 (100.0%), 1867.34 column/sec. Elapsed time 20.41 sec\n",
      "EvaluatorHoldout: Ignoring 167 ( 0.5%) Users that have less than 1 test interactions\n",
      "EvaluatorHoldout: Processed 35569 (100.0%) in 37.80 sec. Users per second: 941\n",
      "RP3betaRecommender: Similarity column 38121 (100.0%), 1843.03 column/sec. Elapsed time 20.68 sec\n",
      "EvaluatorHoldout: Ignoring 172 ( 0.5%) Users that have less than 1 test interactions\n",
      "EvaluatorHoldout: Processed 35564 (100.0%) in 38.37 sec. Users per second: 927\n"
     ]
    },
    {
     "name": "stderr",
     "output_type": "stream",
     "text": [
      "[I 2025-01-07 05:42:17,544] Trial 187 finished with value: 0.27110400153127723 and parameters: {'topK': 71, 'alpha': 0.29614165552425065, 'beta': 0.4301413342521887, 'normalize_similarity': True, 'implicit': True}. Best is trial 158 with value: 0.27482516620598896.\n"
     ]
    },
    {
     "name": "stdout",
     "output_type": "stream",
     "text": [
      "RP3betaRecommender: Similarity column 38121 (100.0%), 562.42 column/sec. Elapsed time 1.13 min\n",
      "EvaluatorHoldout: Ignoring 173 ( 0.5%) Users that have less than 1 test interactions\n",
      "EvaluatorHoldout: Processed 35563 (100.0%) in 57.09 sec. Users per second: 623\n",
      "RP3betaRecommender: Similarity column 38121 (100.0%), 558.47 column/sec. Elapsed time 1.14 min\n",
      "EvaluatorHoldout: Ignoring 163 ( 0.5%) Users that have less than 1 test interactions\n",
      "EvaluatorHoldout: Processed 35573 (100.0%) in 56.81 sec. Users per second: 626\n",
      "RP3betaRecommender: Similarity column 38121 (100.0%), 564.10 column/sec. Elapsed time 1.13 min\n",
      "EvaluatorHoldout: Ignoring 150 ( 0.4%) Users that have less than 1 test interactions\n",
      "EvaluatorHoldout: Processed 35586 (100.0%) in 56.70 sec. Users per second: 628\n",
      "RP3betaRecommender: Similarity column 38121 (100.0%), 566.01 column/sec. Elapsed time 1.12 min\n",
      "EvaluatorHoldout: Ignoring 167 ( 0.5%) Users that have less than 1 test interactions\n",
      "EvaluatorHoldout: Processed 35569 (100.0%) in 56.86 sec. Users per second: 626\n",
      "RP3betaRecommender: Similarity column 38121 (100.0%), 567.23 column/sec. Elapsed time 1.12 min\n",
      "EvaluatorHoldout: Ignoring 172 ( 0.5%) Users that have less than 1 test interactions\n",
      "EvaluatorHoldout: Processed 35564 (100.0%) in 56.49 sec. Users per second: 630\n"
     ]
    },
    {
     "name": "stderr",
     "output_type": "stream",
     "text": [
      "[I 2025-01-07 05:56:04,266] Trial 188 finished with value: 0.25558576934444843 and parameters: {'topK': 973, 'alpha': 0.37472096115637843, 'beta': 0.3592878145694721, 'normalize_similarity': True, 'implicit': True}. Best is trial 158 with value: 0.27482516620598896.\n"
     ]
    },
    {
     "name": "stdout",
     "output_type": "stream",
     "text": [
      "RP3betaRecommender: Similarity column 38121 (100.0%), 1471.54 column/sec. Elapsed time 25.91 sec\n",
      "EvaluatorHoldout: Ignoring 173 ( 0.5%) Users that have less than 1 test interactions\n",
      "EvaluatorHoldout: Processed 35563 (100.0%) in 40.91 sec. Users per second: 869\n",
      "RP3betaRecommender: Similarity column 38121 (100.0%), 1469.14 column/sec. Elapsed time 25.95 sec\n",
      "EvaluatorHoldout: Ignoring 163 ( 0.5%) Users that have less than 1 test interactions\n",
      "EvaluatorHoldout: Processed 35573 (100.0%) in 40.65 sec. Users per second: 875\n",
      "RP3betaRecommender: Similarity column 38121 (100.0%), 1482.42 column/sec. Elapsed time 25.72 sec\n",
      "EvaluatorHoldout: Ignoring 150 ( 0.4%) Users that have less than 1 test interactions\n",
      "EvaluatorHoldout: Processed 35586 (100.0%) in 40.70 sec. Users per second: 874\n",
      "RP3betaRecommender: Similarity column 38121 (100.0%), 1475.06 column/sec. Elapsed time 25.84 sec\n",
      "EvaluatorHoldout: Ignoring 167 ( 0.5%) Users that have less than 1 test interactions\n",
      "EvaluatorHoldout: Processed 35569 (100.0%) in 41.15 sec. Users per second: 864\n",
      "RP3betaRecommender: Similarity column 38121 (100.0%), 1456.35 column/sec. Elapsed time 26.18 sec\n",
      "EvaluatorHoldout: Ignoring 172 ( 0.5%) Users that have less than 1 test interactions\n",
      "EvaluatorHoldout: Processed 35564 (100.0%) in 42.03 sec. Users per second: 846\n"
     ]
    },
    {
     "name": "stderr",
     "output_type": "stream",
     "text": [
      "[I 2025-01-07 06:02:16,433] Trial 189 finished with value: 0.2704313077667611 and parameters: {'topK': 178, 'alpha': 0.45265116088713997, 'beta': 0.23782754618807844, 'normalize_similarity': True, 'implicit': True}. Best is trial 158 with value: 0.27482516620598896.\n"
     ]
    },
    {
     "name": "stdout",
     "output_type": "stream",
     "text": [
      "RP3betaRecommender: Similarity column 38121 (100.0%), 1702.96 column/sec. Elapsed time 22.39 sec\n",
      "EvaluatorHoldout: Ignoring 173 ( 0.5%) Users that have less than 1 test interactions\n",
      "EvaluatorHoldout: Processed 35563 (100.0%) in 31.55 sec. Users per second: 1127\n",
      "RP3betaRecommender: Similarity column 38121 (100.0%), 1760.27 column/sec. Elapsed time 21.66 sec\n",
      "EvaluatorHoldout: Ignoring 163 ( 0.5%) Users that have less than 1 test interactions\n",
      "EvaluatorHoldout: Processed 35573 (100.0%) in 31.54 sec. Users per second: 1128\n",
      "RP3betaRecommender: Similarity column 38121 (100.0%), 1776.08 column/sec. Elapsed time 21.46 sec\n",
      "EvaluatorHoldout: Ignoring 150 ( 0.4%) Users that have less than 1 test interactions\n",
      "EvaluatorHoldout: Processed 35586 (100.0%) in 31.67 sec. Users per second: 1124\n",
      "RP3betaRecommender: Similarity column 38121 (100.0%), 1762.32 column/sec. Elapsed time 21.63 sec\n",
      "EvaluatorHoldout: Ignoring 167 ( 0.5%) Users that have less than 1 test interactions\n",
      "EvaluatorHoldout: Processed 35569 (100.0%) in 31.39 sec. Users per second: 1133\n",
      "RP3betaRecommender: Similarity column 38121 (100.0%), 1750.03 column/sec. Elapsed time 21.78 sec\n",
      "EvaluatorHoldout: Ignoring 172 ( 0.5%) Users that have less than 1 test interactions\n",
      "EvaluatorHoldout: Processed 35564 (100.0%) in 43.49 sec. Users per second: 818\n"
     ]
    },
    {
     "name": "stderr",
     "output_type": "stream",
     "text": [
      "[I 2025-01-07 06:06:59,392] Trial 190 finished with value: 0.19436244702553057 and parameters: {'topK': 3, 'alpha': 0.29660577902503227, 'beta': 0.5850003402680322, 'normalize_similarity': True, 'implicit': True}. Best is trial 158 with value: 0.27482516620598896.\n"
     ]
    },
    {
     "name": "stdout",
     "output_type": "stream",
     "text": [
      "RP3betaRecommender: Similarity column 38121 (100.0%), 1776.61 column/sec. Elapsed time 21.46 sec\n",
      "EvaluatorHoldout: Ignoring 173 ( 0.5%) Users that have less than 1 test interactions\n",
      "EvaluatorHoldout: Processed 35563 (100.0%) in 39.70 sec. Users per second: 896\n",
      "RP3betaRecommender: Similarity column 38121 (100.0%), 1760.64 column/sec. Elapsed time 21.65 sec\n",
      "EvaluatorHoldout: Ignoring 163 ( 0.5%) Users that have less than 1 test interactions\n",
      "EvaluatorHoldout: Processed 35573 (100.0%) in 39.62 sec. Users per second: 898\n",
      "RP3betaRecommender: Similarity column 38121 (100.0%), 1762.82 column/sec. Elapsed time 21.63 sec\n",
      "EvaluatorHoldout: Ignoring 150 ( 0.4%) Users that have less than 1 test interactions\n",
      "EvaluatorHoldout: Processed 35586 (100.0%) in 39.74 sec. Users per second: 895\n",
      "RP3betaRecommender: Similarity column 38121 (100.0%), 1762.86 column/sec. Elapsed time 21.62 sec\n",
      "EvaluatorHoldout: Ignoring 167 ( 0.5%) Users that have less than 1 test interactions\n",
      "EvaluatorHoldout: Processed 35569 (100.0%) in 39.22 sec. Users per second: 907\n",
      "RP3betaRecommender: Similarity column 38121 (100.0%), 1763.09 column/sec. Elapsed time 21.62 sec\n",
      "EvaluatorHoldout: Ignoring 172 ( 0.5%) Users that have less than 1 test interactions\n",
      "EvaluatorHoldout: Processed 35564 (100.0%) in 39.25 sec. Users per second: 906\n"
     ]
    },
    {
     "name": "stderr",
     "output_type": "stream",
     "text": [
      "[I 2025-01-07 06:12:26,377] Trial 191 finished with value: 0.2741287543654195 and parameters: {'topK': 92, 'alpha': 0.5059279735313754, 'beta': 0.2962092197418736, 'normalize_similarity': True, 'implicit': True}. Best is trial 158 with value: 0.27482516620598896.\n"
     ]
    },
    {
     "name": "stdout",
     "output_type": "stream",
     "text": [
      "RP3betaRecommender: Similarity column 38121 (100.0%), 1641.88 column/sec. Elapsed time 23.22 sec\n",
      "EvaluatorHoldout: Ignoring 173 ( 0.5%) Users that have less than 1 test interactions\n",
      "EvaluatorHoldout: Processed 35563 (100.0%) in 40.28 sec. Users per second: 883\n",
      "RP3betaRecommender: Similarity column 38121 (100.0%), 1623.74 column/sec. Elapsed time 23.48 sec\n",
      "EvaluatorHoldout: Ignoring 163 ( 0.5%) Users that have less than 1 test interactions\n",
      "EvaluatorHoldout: Processed 35573 (100.0%) in 40.63 sec. Users per second: 876\n",
      "RP3betaRecommender: Similarity column 38121 (100.0%), 1636.91 column/sec. Elapsed time 23.29 sec\n",
      "EvaluatorHoldout: Ignoring 150 ( 0.4%) Users that have less than 1 test interactions\n",
      "EvaluatorHoldout: Processed 35586 (100.0%) in 40.74 sec. Users per second: 873\n",
      "RP3betaRecommender: Similarity column 38121 (100.0%), 1634.59 column/sec. Elapsed time 23.32 sec\n",
      "EvaluatorHoldout: Ignoring 167 ( 0.5%) Users that have less than 1 test interactions\n",
      "EvaluatorHoldout: Processed 35569 (100.0%) in 54.96 sec. Users per second: 647\n",
      "RP3betaRecommender: Similarity column 38121 (100.0%), 1635.43 column/sec. Elapsed time 23.31 sec\n",
      "EvaluatorHoldout: Ignoring 172 ( 0.5%) Users that have less than 1 test interactions\n",
      "EvaluatorHoldout: Processed 35564 (100.0%) in 40.68 sec. Users per second: 874\n"
     ]
    },
    {
     "name": "stderr",
     "output_type": "stream",
     "text": [
      "[I 2025-01-07 06:18:27,784] Trial 192 finished with value: 0.27263566891809504 and parameters: {'topK': 123, 'alpha': 0.37464545605924504, 'beta': 0.30433471723454913, 'normalize_similarity': True, 'implicit': True}. Best is trial 158 with value: 0.27482516620598896.\n"
     ]
    },
    {
     "name": "stdout",
     "output_type": "stream",
     "text": [
      "RP3betaRecommender: Similarity column 38121 (100.0%), 1922.98 column/sec. Elapsed time 19.82 sec\n",
      "EvaluatorHoldout: Ignoring 173 ( 0.5%) Users that have less than 1 test interactions\n",
      "EvaluatorHoldout: Processed 35563 (100.0%) in 37.93 sec. Users per second: 938\n",
      "RP3betaRecommender: Similarity column 38121 (100.0%), 1926.79 column/sec. Elapsed time 19.78 sec\n",
      "EvaluatorHoldout: Ignoring 163 ( 0.5%) Users that have less than 1 test interactions\n",
      "EvaluatorHoldout: Processed 35573 (100.0%) in 37.91 sec. Users per second: 938\n",
      "RP3betaRecommender: Similarity column 38121 (100.0%), 1921.64 column/sec. Elapsed time 19.84 sec\n",
      "EvaluatorHoldout: Ignoring 150 ( 0.4%) Users that have less than 1 test interactions\n",
      "EvaluatorHoldout: Processed 35586 (100.0%) in 37.98 sec. Users per second: 937\n",
      "RP3betaRecommender: Similarity column 38121 (100.0%), 1919.65 column/sec. Elapsed time 19.86 sec\n",
      "EvaluatorHoldout: Ignoring 167 ( 0.5%) Users that have less than 1 test interactions\n",
      "EvaluatorHoldout: Processed 35569 (100.0%) in 38.13 sec. Users per second: 933\n",
      "RP3betaRecommender: Similarity column 38121 (100.0%), 1923.25 column/sec. Elapsed time 19.82 sec\n",
      "EvaluatorHoldout: Ignoring 172 ( 0.5%) Users that have less than 1 test interactions\n",
      "EvaluatorHoldout: Processed 35564 (100.0%) in 37.97 sec. Users per second: 937\n"
     ]
    },
    {
     "name": "stderr",
     "output_type": "stream",
     "text": [
      "[I 2025-01-07 06:23:31,475] Trial 193 finished with value: 0.2720335810663956 and parameters: {'topK': 54, 'alpha': 0.5040050290167393, 'beta': 0.3898130813738546, 'normalize_similarity': True, 'implicit': True}. Best is trial 158 with value: 0.27482516620598896.\n"
     ]
    },
    {
     "name": "stdout",
     "output_type": "stream",
     "text": [
      "RP3betaRecommender: Similarity column 38121 (100.0%), 1771.26 column/sec. Elapsed time 21.52 sec\n",
      "EvaluatorHoldout: Ignoring 173 ( 0.5%) Users that have less than 1 test interactions\n",
      "EvaluatorHoldout: Processed 35563 (100.0%) in 39.00 sec. Users per second: 912\n",
      "RP3betaRecommender: Similarity column 38121 (100.0%), 1780.25 column/sec. Elapsed time 21.41 sec\n",
      "EvaluatorHoldout: Ignoring 163 ( 0.5%) Users that have less than 1 test interactions\n",
      "EvaluatorHoldout: Processed 35573 (100.0%) in 39.01 sec. Users per second: 912\n",
      "RP3betaRecommender: Similarity column 38121 (100.0%), 1765.66 column/sec. Elapsed time 21.59 sec\n",
      "EvaluatorHoldout: Ignoring 150 ( 0.4%) Users that have less than 1 test interactions\n",
      "EvaluatorHoldout: Processed 35586 (100.0%) in 39.04 sec. Users per second: 911\n",
      "RP3betaRecommender: Similarity column 38121 (100.0%), 1787.14 column/sec. Elapsed time 21.33 sec\n",
      "EvaluatorHoldout: Ignoring 167 ( 0.5%) Users that have less than 1 test interactions\n",
      "EvaluatorHoldout: Processed 35569 (100.0%) in 56.06 sec. Users per second: 634\n",
      "RP3betaRecommender: Similarity column 38121 (100.0%), 1799.10 column/sec. Elapsed time 21.19 sec\n",
      "EvaluatorHoldout: Ignoring 172 ( 0.5%) Users that have less than 1 test interactions\n",
      "EvaluatorHoldout: Processed 35564 (100.0%) in 39.19 sec. Users per second: 907\n"
     ]
    },
    {
     "name": "stderr",
     "output_type": "stream",
     "text": [
      "[I 2025-01-07 06:29:10,840] Trial 194 finished with value: 0.27444047350946715 and parameters: {'topK': 83, 'alpha': 0.43390439113036616, 'beta': 0.3228109425571514, 'normalize_similarity': True, 'implicit': True}. Best is trial 158 with value: 0.27482516620598896.\n"
     ]
    },
    {
     "name": "stdout",
     "output_type": "stream",
     "text": [
      "RP3betaRecommender: Similarity column 38121 (100.0%), 2035.68 column/sec. Elapsed time 18.73 sec\n",
      "EvaluatorHoldout: Ignoring 173 ( 0.5%) Users that have less than 1 test interactions\n",
      "EvaluatorHoldout: Processed 35563 (100.0%) in 36.43 sec. Users per second: 976\n",
      "RP3betaRecommender: Similarity column 38121 (100.0%), 2045.61 column/sec. Elapsed time 18.64 sec\n",
      "EvaluatorHoldout: Ignoring 163 ( 0.5%) Users that have less than 1 test interactions\n",
      "EvaluatorHoldout: Processed 35573 (100.0%) in 36.41 sec. Users per second: 977\n",
      "RP3betaRecommender: Similarity column 38121 (100.0%), 2026.18 column/sec. Elapsed time 18.81 sec\n",
      "EvaluatorHoldout: Ignoring 150 ( 0.4%) Users that have less than 1 test interactions\n",
      "EvaluatorHoldout: Processed 35586 (100.0%) in 36.28 sec. Users per second: 981\n",
      "RP3betaRecommender: Similarity column 38121 (100.0%), 2048.56 column/sec. Elapsed time 18.61 sec\n",
      "EvaluatorHoldout: Ignoring 167 ( 0.5%) Users that have less than 1 test interactions\n",
      "EvaluatorHoldout: Processed 35569 (100.0%) in 36.65 sec. Users per second: 971\n",
      "RP3betaRecommender: Similarity column 38121 (100.0%), 2009.14 column/sec. Elapsed time 18.97 sec\n",
      "EvaluatorHoldout: Ignoring 172 ( 0.5%) Users that have less than 1 test interactions\n",
      "EvaluatorHoldout: Processed 35564 (100.0%) in 36.36 sec. Users per second: 978\n"
     ]
    },
    {
     "name": "stderr",
     "output_type": "stream",
     "text": [
      "[I 2025-01-07 06:33:56,503] Trial 195 finished with value: 0.272017474951081 and parameters: {'topK': 35, 'alpha': 0.36840925091041316, 'beta': 0.23950758010156806, 'normalize_similarity': True, 'implicit': True}. Best is trial 158 with value: 0.27482516620598896.\n"
     ]
    },
    {
     "name": "stdout",
     "output_type": "stream",
     "text": [
      "RP3betaRecommender: Similarity column 38121 (100.0%), 1851.64 column/sec. Elapsed time 20.59 sec\n",
      "EvaluatorHoldout: Ignoring 173 ( 0.5%) Users that have less than 1 test interactions\n",
      "EvaluatorHoldout: Processed 35563 (100.0%) in 38.64 sec. Users per second: 920\n",
      "RP3betaRecommender: Similarity column 38121 (100.0%), 1846.43 column/sec. Elapsed time 20.65 sec\n",
      "EvaluatorHoldout: Ignoring 163 ( 0.5%) Users that have less than 1 test interactions\n",
      "EvaluatorHoldout: Processed 35573 (100.0%) in 38.69 sec. Users per second: 919\n",
      "RP3betaRecommender: Similarity column 38121 (100.0%), 1861.45 column/sec. Elapsed time 20.48 sec\n",
      "EvaluatorHoldout: Ignoring 150 ( 0.4%) Users that have less than 1 test interactions\n",
      "EvaluatorHoldout: Processed 35586 (100.0%) in 38.79 sec. Users per second: 917\n",
      "RP3betaRecommender: Similarity column 38121 (100.0%), 1858.70 column/sec. Elapsed time 20.51 sec\n",
      "EvaluatorHoldout: Ignoring 167 ( 0.5%) Users that have less than 1 test interactions\n",
      "EvaluatorHoldout: Processed 35569 (100.0%) in 55.30 sec. Users per second: 643\n",
      "RP3betaRecommender: Similarity column 38121 (100.0%), 1849.27 column/sec. Elapsed time 20.61 sec\n",
      "EvaluatorHoldout: Ignoring 172 ( 0.5%) Users that have less than 1 test interactions\n",
      "EvaluatorHoldout: Processed 35564 (100.0%) in 38.74 sec. Users per second: 918\n"
     ]
    },
    {
     "name": "stderr",
     "output_type": "stream",
     "text": [
      "[I 2025-01-07 06:39:27,034] Trial 196 finished with value: 0.2733581210096298 and parameters: {'topK': 68, 'alpha': 0.41335971796142473, 'beta': 0.3823036576751499, 'normalize_similarity': True, 'implicit': True}. Best is trial 158 with value: 0.27482516620598896.\n"
     ]
    },
    {
     "name": "stdout",
     "output_type": "stream",
     "text": [
      "RP3betaRecommender: Similarity column 38121 (100.0%), 1562.83 column/sec. Elapsed time 24.39 sec\n",
      "EvaluatorHoldout: Ignoring 173 ( 0.5%) Users that have less than 1 test interactions\n",
      "EvaluatorHoldout: Processed 35563 (100.0%) in 41.99 sec. Users per second: 847\n",
      "RP3betaRecommender: Similarity column 38121 (100.0%), 1569.70 column/sec. Elapsed time 24.29 sec\n",
      "EvaluatorHoldout: Ignoring 163 ( 0.5%) Users that have less than 1 test interactions\n",
      "EvaluatorHoldout: Processed 35573 (100.0%) in 41.43 sec. Users per second: 859\n",
      "RP3betaRecommender: Similarity column 38121 (100.0%), 1574.58 column/sec. Elapsed time 24.21 sec\n",
      "EvaluatorHoldout: Ignoring 150 ( 0.4%) Users that have less than 1 test interactions\n",
      "EvaluatorHoldout: Processed 35586 (100.0%) in 42.01 sec. Users per second: 847\n",
      "RP3betaRecommender: Similarity column 38121 (100.0%), 1555.68 column/sec. Elapsed time 24.50 sec\n",
      "EvaluatorHoldout: Ignoring 167 ( 0.5%) Users that have less than 1 test interactions\n",
      "EvaluatorHoldout: Processed 35569 (100.0%) in 42.11 sec. Users per second: 845\n",
      "RP3betaRecommender: Similarity column 38121 (100.0%), 1576.03 column/sec. Elapsed time 24.19 sec\n",
      "EvaluatorHoldout: Ignoring 172 ( 0.5%) Users that have less than 1 test interactions\n",
      "EvaluatorHoldout: Processed 35564 (100.0%) in 41.73 sec. Users per second: 852\n"
     ]
    },
    {
     "name": "stderr",
     "output_type": "stream",
     "text": [
      "[I 2025-01-07 06:45:31,424] Trial 197 finished with value: 0.2632330505604079 and parameters: {'topK': 144, 'alpha': 0.28741950057512533, 'beta': 0.4939477982018148, 'normalize_similarity': True, 'implicit': True}. Best is trial 158 with value: 0.27482516620598896.\n"
     ]
    },
    {
     "name": "stdout",
     "output_type": "stream",
     "text": [
      "RP3betaRecommender: Similarity column 38121 (100.0%), 1771.66 column/sec. Elapsed time 21.52 sec\n",
      "EvaluatorHoldout: Ignoring 173 ( 0.5%) Users that have less than 1 test interactions\n",
      "EvaluatorHoldout: Processed 35563 (100.0%) in 39.09 sec. Users per second: 910\n",
      "RP3betaRecommender: Similarity column 38121 (100.0%), 1770.36 column/sec. Elapsed time 21.53 sec\n",
      "EvaluatorHoldout: Ignoring 163 ( 0.5%) Users that have less than 1 test interactions\n",
      "EvaluatorHoldout: Processed 35573 (100.0%) in 39.22 sec. Users per second: 907\n",
      "RP3betaRecommender: Similarity column 38121 (100.0%), 1787.01 column/sec. Elapsed time 21.33 sec\n",
      "EvaluatorHoldout: Ignoring 150 ( 0.4%) Users that have less than 1 test interactions\n",
      "EvaluatorHoldout: Processed 35586 (100.0%) in 57.97 sec. Users per second: 614\n",
      "RP3betaRecommender: Similarity column 38121 (100.0%), 1777.26 column/sec. Elapsed time 21.45 sec\n",
      "EvaluatorHoldout: Ignoring 167 ( 0.5%) Users that have less than 1 test interactions\n",
      "EvaluatorHoldout: Processed 35569 (100.0%) in 39.46 sec. Users per second: 901\n",
      "RP3betaRecommender: Similarity column 38121 (100.0%), 1787.93 column/sec. Elapsed time 21.32 sec\n",
      "EvaluatorHoldout: Ignoring 172 ( 0.5%) Users that have less than 1 test interactions\n",
      "EvaluatorHoldout: Processed 35564 (100.0%) in 39.17 sec. Users per second: 908\n"
     ]
    },
    {
     "name": "stderr",
     "output_type": "stream",
     "text": [
      "[I 2025-01-07 06:51:14,304] Trial 198 finished with value: 0.2745224606591807 and parameters: {'topK': 87, 'alpha': 0.4369329700743234, 'beta': 0.30871196294194164, 'normalize_similarity': True, 'implicit': True}. Best is trial 158 with value: 0.27482516620598896.\n"
     ]
    },
    {
     "name": "stdout",
     "output_type": "stream",
     "text": [
      "RP3betaRecommender: Similarity column 38121 (100.0%), 1651.71 column/sec. Elapsed time 23.08 sec\n",
      "EvaluatorHoldout: Ignoring 173 ( 0.5%) Users that have less than 1 test interactions\n",
      "EvaluatorHoldout: Processed 35563 (100.0%) in 40.36 sec. Users per second: 881\n",
      "RP3betaRecommender: Similarity column 38121 (100.0%), 1627.79 column/sec. Elapsed time 23.42 sec\n",
      "EvaluatorHoldout: Ignoring 163 ( 0.5%) Users that have less than 1 test interactions\n",
      "EvaluatorHoldout: Processed 35573 (100.0%) in 40.35 sec. Users per second: 882\n",
      "RP3betaRecommender: Similarity column 38121 (100.0%), 1653.18 column/sec. Elapsed time 23.06 sec\n",
      "EvaluatorHoldout: Ignoring 150 ( 0.4%) Users that have less than 1 test interactions\n",
      "EvaluatorHoldout: Processed 35586 (100.0%) in 40.65 sec. Users per second: 875\n",
      "RP3betaRecommender: Similarity column 38121 (100.0%), 1628.57 column/sec. Elapsed time 23.41 sec\n",
      "EvaluatorHoldout: Ignoring 167 ( 0.5%) Users that have less than 1 test interactions\n",
      "EvaluatorHoldout: Processed 35569 (100.0%) in 40.77 sec. Users per second: 872\n",
      "RP3betaRecommender: Similarity column 38121 (100.0%), 1642.85 column/sec. Elapsed time 23.20 sec\n",
      "EvaluatorHoldout: Ignoring 172 ( 0.5%) Users that have less than 1 test interactions\n",
      "EvaluatorHoldout: Processed 35564 (100.0%) in 40.52 sec. Users per second: 878\n"
     ]
    },
    {
     "name": "stderr",
     "output_type": "stream",
     "text": [
      "[I 2025-01-07 06:56:59,897] Trial 199 finished with value: 0.25075553842626624 and parameters: {'topK': 120, 'alpha': 0.41575903585032653, 'beta': 0.29176404842960074, 'normalize_similarity': False, 'implicit': True}. Best is trial 158 with value: 0.27482516620598896.\n"
     ]
    },
    {
     "name": "stdout",
     "output_type": "stream",
     "text": [
      "RP3betaRecommender: Similarity column 38121 (100.0%), 2048.31 column/sec. Elapsed time 18.61 sec\n",
      "EvaluatorHoldout: Ignoring 173 ( 0.5%) Users that have less than 1 test interactions\n",
      "EvaluatorHoldout: Processed 35563 (100.0%) in 36.73 sec. Users per second: 968\n",
      "RP3betaRecommender: Similarity column 38121 (100.0%), 2041.39 column/sec. Elapsed time 18.67 sec\n",
      "EvaluatorHoldout: Ignoring 163 ( 0.5%) Users that have less than 1 test interactions\n",
      "EvaluatorHoldout: Processed 35573 (100.0%) in 45.22 sec. Users per second: 787\n",
      "RP3betaRecommender: Similarity column 38121 (100.0%), 2017.65 column/sec. Elapsed time 18.89 sec\n",
      "EvaluatorHoldout: Ignoring 150 ( 0.4%) Users that have less than 1 test interactions\n",
      "EvaluatorHoldout: Processed 35586 (100.0%) in 37.07 sec. Users per second: 960\n",
      "RP3betaRecommender: Similarity column 38121 (100.0%), 2059.22 column/sec. Elapsed time 18.51 sec\n",
      "EvaluatorHoldout: Ignoring 167 ( 0.5%) Users that have less than 1 test interactions\n",
      "EvaluatorHoldout: Processed 35569 (100.0%) in 36.24 sec. Users per second: 981\n",
      "RP3betaRecommender: Similarity column 38121 (100.0%), 1997.19 column/sec. Elapsed time 19.09 sec\n",
      "EvaluatorHoldout: Ignoring 172 ( 0.5%) Users that have less than 1 test interactions\n",
      "EvaluatorHoldout: Processed 35564 (100.0%) in 36.29 sec. Users per second: 980\n"
     ]
    },
    {
     "name": "stderr",
     "output_type": "stream",
     "text": [
      "[I 2025-01-07 07:01:55,193] Trial 200 finished with value: 0.2697609237866902 and parameters: {'topK': 35, 'alpha': 0.5800641921574343, 'beta': 0.1939595709175036, 'normalize_similarity': True, 'implicit': True}. Best is trial 158 with value: 0.27482516620598896.\n"
     ]
    },
    {
     "name": "stdout",
     "output_type": "stream",
     "text": [
      "RP3betaRecommender: Similarity column 38121 (100.0%), 1802.51 column/sec. Elapsed time 21.15 sec\n",
      "EvaluatorHoldout: Ignoring 173 ( 0.5%) Users that have less than 1 test interactions\n",
      "EvaluatorHoldout: Processed 35563 (100.0%) in 39.25 sec. Users per second: 906\n",
      "RP3betaRecommender: Similarity column 38121 (100.0%), 1803.91 column/sec. Elapsed time 21.13 sec\n",
      "EvaluatorHoldout: Ignoring 163 ( 0.5%) Users that have less than 1 test interactions\n",
      "EvaluatorHoldout: Processed 35573 (100.0%) in 39.05 sec. Users per second: 911\n",
      "RP3betaRecommender: Similarity column 38121 (100.0%), 1805.52 column/sec. Elapsed time 21.11 sec\n",
      "EvaluatorHoldout: Ignoring 150 ( 0.4%) Users that have less than 1 test interactions\n",
      "EvaluatorHoldout: Processed 35586 (100.0%) in 39.31 sec. Users per second: 905\n",
      "RP3betaRecommender: Similarity column 38121 (100.0%), 1794.66 column/sec. Elapsed time 21.24 sec\n",
      "EvaluatorHoldout: Ignoring 167 ( 0.5%) Users that have less than 1 test interactions\n",
      "EvaluatorHoldout: Processed 35569 (100.0%) in 39.04 sec. Users per second: 911\n",
      "RP3betaRecommender: Similarity column 38121 (100.0%), 1812.22 column/sec. Elapsed time 21.04 sec\n",
      "EvaluatorHoldout: Ignoring 172 ( 0.5%) Users that have less than 1 test interactions\n",
      "EvaluatorHoldout: Processed 35564 (100.0%) in 39.29 sec. Users per second: 905\n"
     ]
    },
    {
     "name": "stderr",
     "output_type": "stream",
     "text": [
      "[I 2025-01-07 07:07:16,956] Trial 201 finished with value: 0.27231998425934234 and parameters: {'topK': 81, 'alpha': 0.33811896951721454, 'beta': 0.4055235904007426, 'normalize_similarity': True, 'implicit': True}. Best is trial 158 with value: 0.27482516620598896.\n"
     ]
    },
    {
     "name": "stdout",
     "output_type": "stream",
     "text": [
      "RP3betaRecommender: Similarity column 38121 (100.0%), 1789.62 column/sec. Elapsed time 21.30 sec\n",
      "EvaluatorHoldout: Ignoring 173 ( 0.5%) Users that have less than 1 test interactions\n",
      "EvaluatorHoldout: Processed 35563 (100.0%) in 39.11 sec. Users per second: 909\n",
      "RP3betaRecommender: Similarity column 38121 (100.0%), 1794.03 column/sec. Elapsed time 21.25 sec\n",
      "EvaluatorHoldout: Ignoring 163 ( 0.5%) Users that have less than 1 test interactions\n",
      "EvaluatorHoldout: Processed 35573 (100.0%) in 39.00 sec. Users per second: 912\n",
      "RP3betaRecommender: Similarity column 38121 (100.0%), 1790.48 column/sec. Elapsed time 21.29 sec\n",
      "EvaluatorHoldout: Ignoring 150 ( 0.4%) Users that have less than 1 test interactions\n",
      "EvaluatorHoldout: Processed 35586 (100.0%) in 39.20 sec. Users per second: 908\n",
      "RP3betaRecommender: Similarity column 38121 (100.0%), 1771.20 column/sec. Elapsed time 21.52 sec\n",
      "EvaluatorHoldout: Ignoring 167 ( 0.5%) Users that have less than 1 test interactions\n",
      "EvaluatorHoldout: Processed 35569 (100.0%) in 39.00 sec. Users per second: 912\n",
      "RP3betaRecommender: Similarity column 38121 (100.0%), 1794.48 column/sec. Elapsed time 21.24 sec\n",
      "EvaluatorHoldout: Ignoring 172 ( 0.5%) Users that have less than 1 test interactions\n",
      "EvaluatorHoldout: Processed 35564 (100.0%) in 38.97 sec. Users per second: 913\n"
     ]
    },
    {
     "name": "stderr",
     "output_type": "stream",
     "text": [
      "[I 2025-01-07 07:12:39,037] Trial 202 finished with value: 0.2745412293755888 and parameters: {'topK': 83, 'alpha': 0.45640899013680786, 'beta': 0.31437362691173387, 'normalize_similarity': True, 'implicit': True}. Best is trial 158 with value: 0.27482516620598896.\n"
     ]
    },
    {
     "name": "stdout",
     "output_type": "stream",
     "text": [
      "RP3betaRecommender: Similarity column 38121 (100.0%), 1926.57 column/sec. Elapsed time 19.79 sec\n",
      "EvaluatorHoldout: Ignoring 173 ( 0.5%) Users that have less than 1 test interactions\n",
      "EvaluatorHoldout: Processed 35563 (100.0%) in 37.36 sec. Users per second: 952\n",
      "RP3betaRecommender: Similarity column 38121 (100.0%), 1901.75 column/sec. Elapsed time 20.05 sec\n",
      "EvaluatorHoldout: Ignoring 163 ( 0.5%) Users that have less than 1 test interactions\n",
      "EvaluatorHoldout: Processed 35573 (100.0%) in 37.74 sec. Users per second: 943\n",
      "RP3betaRecommender: Similarity column 38121 (100.0%), 1875.77 column/sec. Elapsed time 20.32 sec\n",
      "EvaluatorHoldout: Ignoring 150 ( 0.4%) Users that have less than 1 test interactions\n",
      "EvaluatorHoldout: Processed 35586 (100.0%) in 38.33 sec. Users per second: 928\n",
      "RP3betaRecommender: Similarity column 38121 (100.0%), 1897.24 column/sec. Elapsed time 20.09 sec\n",
      "EvaluatorHoldout: Ignoring 167 ( 0.5%) Users that have less than 1 test interactions\n",
      "EvaluatorHoldout: Processed 35569 (100.0%) in 37.90 sec. Users per second: 939\n",
      "RP3betaRecommender: Similarity column 38121 (100.0%), 1735.42 column/sec. Elapsed time 21.97 sec\n",
      "EvaluatorHoldout: Ignoring 172 ( 0.5%) Users that have less than 1 test interactions\n",
      "EvaluatorHoldout: Processed 35564 (100.0%) in 38.50 sec. Users per second: 924\n"
     ]
    },
    {
     "name": "stderr",
     "output_type": "stream",
     "text": [
      "[I 2025-01-07 07:17:44,880] Trial 203 finished with value: 0.2743436262107919 and parameters: {'topK': 55, 'alpha': 0.4510554997250445, 'beta': 0.238716586767897, 'normalize_similarity': True, 'implicit': True}. Best is trial 158 with value: 0.27482516620598896.\n"
     ]
    },
    {
     "name": "stdout",
     "output_type": "stream",
     "text": [
      "RP3betaRecommender: Similarity column 38121 (100.0%), 1667.54 column/sec. Elapsed time 22.86 sec\n",
      "EvaluatorHoldout: Ignoring 173 ( 0.5%) Users that have less than 1 test interactions\n",
      "EvaluatorHoldout: Processed 35563 (100.0%) in 39.98 sec. Users per second: 890\n",
      "RP3betaRecommender: Similarity column 38121 (100.0%), 1641.87 column/sec. Elapsed time 23.22 sec\n",
      "EvaluatorHoldout: Ignoring 163 ( 0.5%) Users that have less than 1 test interactions\n",
      "EvaluatorHoldout: Processed 35573 (100.0%) in 40.31 sec. Users per second: 882\n",
      "RP3betaRecommender: Similarity column 38121 (100.0%), 1664.06 column/sec. Elapsed time 22.91 sec\n",
      "EvaluatorHoldout: Ignoring 150 ( 0.4%) Users that have less than 1 test interactions\n",
      "EvaluatorHoldout: Processed 35586 (100.0%) in 40.36 sec. Users per second: 882\n",
      "RP3betaRecommender: Similarity column 38121 (100.0%), 1665.38 column/sec. Elapsed time 22.89 sec\n",
      "EvaluatorHoldout: Ignoring 167 ( 0.5%) Users that have less than 1 test interactions\n",
      "EvaluatorHoldout: Processed 35569 (100.0%) in 40.63 sec. Users per second: 876\n",
      "RP3betaRecommender: Similarity column 38121 (100.0%), 1664.05 column/sec. Elapsed time 22.91 sec\n",
      "EvaluatorHoldout: Ignoring 172 ( 0.5%) Users that have less than 1 test interactions\n",
      "EvaluatorHoldout: Processed 35564 (100.0%) in 40.18 sec. Users per second: 885\n"
     ]
    },
    {
     "name": "stderr",
     "output_type": "stream",
     "text": [
      "[I 2025-01-07 07:23:25,986] Trial 204 finished with value: 0.2734945289107281 and parameters: {'topK': 112, 'alpha': 0.5170183830881556, 'beta': 0.2338418311909396, 'normalize_similarity': True, 'implicit': True}. Best is trial 158 with value: 0.27482516620598896.\n"
     ]
    },
    {
     "name": "stdout",
     "output_type": "stream",
     "text": [
      "RP3betaRecommender: Similarity column 38121 (100.0%), 1975.38 column/sec. Elapsed time 19.30 sec\n",
      "EvaluatorHoldout: Ignoring 173 ( 0.5%) Users that have less than 1 test interactions\n",
      "EvaluatorHoldout: Processed 35563 (100.0%) in 37.79 sec. Users per second: 941\n",
      "RP3betaRecommender: Similarity column 38121 (100.0%), 1939.97 column/sec. Elapsed time 19.65 sec\n",
      "EvaluatorHoldout: Ignoring 163 ( 0.5%) Users that have less than 1 test interactions\n",
      "EvaluatorHoldout: Processed 35573 (100.0%) in 37.46 sec. Users per second: 950\n",
      "RP3betaRecommender: Similarity column 38121 (100.0%), 1993.72 column/sec. Elapsed time 19.12 sec\n",
      "EvaluatorHoldout: Ignoring 150 ( 0.4%) Users that have less than 1 test interactions\n",
      "EvaluatorHoldout: Processed 35586 (100.0%) in 37.76 sec. Users per second: 942\n",
      "RP3betaRecommender: Similarity column 38121 (100.0%), 1998.73 column/sec. Elapsed time 19.07 sec\n",
      "EvaluatorHoldout: Ignoring 167 ( 0.5%) Users that have less than 1 test interactions\n",
      "EvaluatorHoldout: Processed 35569 (100.0%) in 38.29 sec. Users per second: 929\n",
      "RP3betaRecommender: Similarity column 38121 (100.0%), 1944.98 column/sec. Elapsed time 19.60 sec\n",
      "EvaluatorHoldout: Ignoring 172 ( 0.5%) Users that have less than 1 test interactions\n",
      "EvaluatorHoldout: Processed 35564 (100.0%) in 37.71 sec. Users per second: 943\n"
     ]
    },
    {
     "name": "stderr",
     "output_type": "stream",
     "text": [
      "[I 2025-01-07 07:28:23,458] Trial 205 finished with value: 0.2728481718908086 and parameters: {'topK': 41, 'alpha': 0.4644029876699326, 'beta': 0.2897868376344232, 'normalize_similarity': True, 'implicit': True}. Best is trial 158 with value: 0.27482516620598896.\n"
     ]
    },
    {
     "name": "stdout",
     "output_type": "stream",
     "text": [
      "RP3betaRecommender: Similarity column 38121 (100.0%), 1481.68 column/sec. Elapsed time 25.73 sec\n",
      "EvaluatorHoldout: Ignoring 173 ( 0.5%) Users that have less than 1 test interactions\n",
      "EvaluatorHoldout: Processed 35563 (100.0%) in 36.76 sec. Users per second: 967\n",
      "RP3betaRecommender: Similarity column 38121 (100.0%), 1492.01 column/sec. Elapsed time 25.55 sec\n",
      "EvaluatorHoldout: Ignoring 163 ( 0.5%) Users that have less than 1 test interactions\n",
      "EvaluatorHoldout: Processed 35573 (100.0%) in 36.56 sec. Users per second: 973\n",
      "RP3betaRecommender: Similarity column 38121 (100.0%), 1511.76 column/sec. Elapsed time 25.22 sec\n",
      "EvaluatorHoldout: Ignoring 150 ( 0.4%) Users that have less than 1 test interactions\n",
      "EvaluatorHoldout: Processed 35586 (100.0%) in 35.98 sec. Users per second: 989\n",
      "RP3betaRecommender: Similarity column 38121 (100.0%), 1500.23 column/sec. Elapsed time 25.41 sec\n",
      "EvaluatorHoldout: Ignoring 167 ( 0.5%) Users that have less than 1 test interactions\n",
      "EvaluatorHoldout: Processed 35569 (100.0%) in 36.73 sec. Users per second: 968\n",
      "RP3betaRecommender: Similarity column 38121 (100.0%), 1503.55 column/sec. Elapsed time 25.35 sec\n",
      "EvaluatorHoldout: Ignoring 172 ( 0.5%) Users that have less than 1 test interactions\n",
      "EvaluatorHoldout: Processed 35564 (100.0%) in 35.77 sec. Users per second: 994\n"
     ]
    },
    {
     "name": "stderr",
     "output_type": "stream",
     "text": [
      "[I 2025-01-07 07:33:59,806] Trial 206 finished with value: 0.10459123248791899 and parameters: {'topK': 159, 'alpha': 0.44597010110068336, 'beta': 1.6580370613578512, 'normalize_similarity': True, 'implicit': True}. Best is trial 158 with value: 0.27482516620598896.\n"
     ]
    },
    {
     "name": "stdout",
     "output_type": "stream",
     "text": [
      "RP3betaRecommender: Similarity column 38121 (100.0%), 2104.74 column/sec. Elapsed time 18.11 sec\n",
      "EvaluatorHoldout: Ignoring 173 ( 0.5%) Users that have less than 1 test interactions\n",
      "EvaluatorHoldout: Processed 35563 (100.0%) in 36.54 sec. Users per second: 973\n",
      "RP3betaRecommender: Similarity column 38121 (100.0%), 2100.35 column/sec. Elapsed time 18.15 sec\n",
      "EvaluatorHoldout: Ignoring 163 ( 0.5%) Users that have less than 1 test interactions\n",
      "EvaluatorHoldout: Processed 35573 (100.0%) in 35.71 sec. Users per second: 996\n",
      "RP3betaRecommender: Similarity column 38121 (100.0%), 2121.62 column/sec. Elapsed time 17.97 sec\n",
      "EvaluatorHoldout: Ignoring 150 ( 0.4%) Users that have less than 1 test interactions\n",
      "EvaluatorHoldout: Processed 35586 (100.0%) in 35.78 sec. Users per second: 995\n",
      "RP3betaRecommender: Similarity column 38121 (100.0%), 2100.67 column/sec. Elapsed time 18.15 sec\n",
      "EvaluatorHoldout: Ignoring 167 ( 0.5%) Users that have less than 1 test interactions\n",
      "EvaluatorHoldout: Processed 35569 (100.0%) in 35.84 sec. Users per second: 992\n",
      "RP3betaRecommender: Similarity column 38121 (100.0%), 2072.52 column/sec. Elapsed time 18.39 sec\n",
      "EvaluatorHoldout: Ignoring 172 ( 0.5%) Users that have less than 1 test interactions\n",
      "EvaluatorHoldout: Processed 35564 (100.0%) in 35.60 sec. Users per second: 999\n"
     ]
    },
    {
     "name": "stderr",
     "output_type": "stream",
     "text": [
      "[I 2025-01-07 07:38:37,945] Trial 207 finished with value: 0.2650363402899342 and parameters: {'topK': 23, 'alpha': 0.5826225101244916, 'beta': 0.23582052601888054, 'normalize_similarity': True, 'implicit': True}. Best is trial 158 with value: 0.27482516620598896.\n"
     ]
    },
    {
     "name": "stdout",
     "output_type": "stream",
     "text": [
      "RP3betaRecommender: Similarity column 38121 (100.0%), 1719.73 column/sec. Elapsed time 22.17 sec\n",
      "EvaluatorHoldout: Ignoring 173 ( 0.5%) Users that have less than 1 test interactions\n",
      "EvaluatorHoldout: Processed 35563 (100.0%) in 40.43 sec. Users per second: 880\n",
      "RP3betaRecommender: Similarity column 38121 (100.0%), 1677.75 column/sec. Elapsed time 22.72 sec\n",
      "EvaluatorHoldout: Ignoring 163 ( 0.5%) Users that have less than 1 test interactions\n",
      "EvaluatorHoldout: Processed 35573 (100.0%) in 40.43 sec. Users per second: 880\n",
      "RP3betaRecommender: Similarity column 38121 (100.0%), 1689.22 column/sec. Elapsed time 22.57 sec\n",
      "EvaluatorHoldout: Ignoring 150 ( 0.4%) Users that have less than 1 test interactions\n",
      "EvaluatorHoldout: Processed 35586 (100.0%) in 40.81 sec. Users per second: 872\n",
      "RP3betaRecommender: Similarity column 38121 (100.0%), 1687.50 column/sec. Elapsed time 22.59 sec\n",
      "EvaluatorHoldout: Ignoring 167 ( 0.5%) Users that have less than 1 test interactions\n",
      "EvaluatorHoldout: Processed 35569 (100.0%) in 40.77 sec. Users per second: 872\n",
      "RP3betaRecommender: Similarity column 38121 (100.0%), 1702.59 column/sec. Elapsed time 22.39 sec\n",
      "EvaluatorHoldout: Ignoring 172 ( 0.5%) Users that have less than 1 test interactions\n",
      "EvaluatorHoldout: Processed 35564 (100.0%) in 40.96 sec. Users per second: 868\n"
     ]
    },
    {
     "name": "stderr",
     "output_type": "stream",
     "text": [
      "[I 2025-01-07 07:44:19,438] Trial 208 finished with value: 0.27019982283260535 and parameters: {'topK': 104, 'alpha': 0.41565572443148124, 'beta': 0.4368985090190147, 'normalize_similarity': True, 'implicit': True}. Best is trial 158 with value: 0.27482516620598896.\n"
     ]
    },
    {
     "name": "stdout",
     "output_type": "stream",
     "text": [
      "RP3betaRecommender: Similarity column 38121 (100.0%), 1883.37 column/sec. Elapsed time 20.24 sec\n",
      "EvaluatorHoldout: Ignoring 173 ( 0.5%) Users that have less than 1 test interactions\n",
      "EvaluatorHoldout: Processed 35563 (100.0%) in 38.20 sec. Users per second: 931\n",
      "RP3betaRecommender: Similarity column 38121 (100.0%), 1872.23 column/sec. Elapsed time 20.36 sec\n",
      "EvaluatorHoldout: Ignoring 163 ( 0.5%) Users that have less than 1 test interactions\n",
      "EvaluatorHoldout: Processed 35573 (100.0%) in 38.06 sec. Users per second: 935\n",
      "RP3betaRecommender: Similarity column 38121 (100.0%), 1871.94 column/sec. Elapsed time 20.36 sec\n",
      "EvaluatorHoldout: Ignoring 150 ( 0.4%) Users that have less than 1 test interactions\n",
      "EvaluatorHoldout: Processed 35586 (100.0%) in 38.35 sec. Users per second: 928\n",
      "RP3betaRecommender: Similarity column 38121 (100.0%), 1844.29 column/sec. Elapsed time 20.67 sec\n",
      "EvaluatorHoldout: Ignoring 167 ( 0.5%) Users that have less than 1 test interactions\n",
      "EvaluatorHoldout: Processed 35569 (100.0%) in 38.34 sec. Users per second: 928\n",
      "RP3betaRecommender: Similarity column 38121 (100.0%), 1865.30 column/sec. Elapsed time 20.44 sec\n",
      "EvaluatorHoldout: Ignoring 172 ( 0.5%) Users that have less than 1 test interactions\n",
      "EvaluatorHoldout: Processed 35564 (100.0%) in 38.65 sec. Users per second: 920\n"
     ]
    },
    {
     "name": "stderr",
     "output_type": "stream",
     "text": [
      "[I 2025-01-07 07:49:27,944] Trial 209 finished with value: 0.27367310255794364 and parameters: {'topK': 63, 'alpha': 0.5323067459568374, 'beta': 0.1930864122932751, 'normalize_similarity': True, 'implicit': True}. Best is trial 158 with value: 0.27482516620598896.\n"
     ]
    },
    {
     "name": "stdout",
     "output_type": "stream",
     "text": [
      "RP3betaRecommender: Similarity column 38121 (100.0%), 1576.63 column/sec. Elapsed time 24.18 sec\n",
      "EvaluatorHoldout: Ignoring 173 ( 0.5%) Users that have less than 1 test interactions\n",
      "EvaluatorHoldout: Processed 35563 (100.0%) in 41.75 sec. Users per second: 852\n",
      "RP3betaRecommender: Similarity column 38121 (100.0%), 1569.48 column/sec. Elapsed time 24.29 sec\n",
      "EvaluatorHoldout: Ignoring 163 ( 0.5%) Users that have less than 1 test interactions\n",
      "EvaluatorHoldout: Processed 35573 (100.0%) in 41.60 sec. Users per second: 855\n",
      "RP3betaRecommender: Similarity column 38121 (100.0%), 1579.58 column/sec. Elapsed time 24.13 sec\n",
      "EvaluatorHoldout: Ignoring 150 ( 0.4%) Users that have less than 1 test interactions\n",
      "EvaluatorHoldout: Processed 35586 (100.0%) in 41.76 sec. Users per second: 852\n",
      "RP3betaRecommender: Similarity column 38121 (100.0%), 1559.51 column/sec. Elapsed time 24.44 sec\n",
      "EvaluatorHoldout: Ignoring 167 ( 0.5%) Users that have less than 1 test interactions\n",
      "EvaluatorHoldout: Processed 35569 (100.0%) in 41.45 sec. Users per second: 858\n",
      "RP3betaRecommender: Similarity column 38121 (100.0%), 1571.50 column/sec. Elapsed time 24.26 sec\n",
      "EvaluatorHoldout: Ignoring 172 ( 0.5%) Users that have less than 1 test interactions\n",
      "EvaluatorHoldout: Processed 35564 (100.0%) in 41.68 sec. Users per second: 853\n"
     ]
    },
    {
     "name": "stderr",
     "output_type": "stream",
     "text": [
      "[I 2025-01-07 07:55:28,732] Trial 210 finished with value: 0.26969149786073554 and parameters: {'topK': 138, 'alpha': 0.6870714392682402, 'beta': 0.31449655609406624, 'normalize_similarity': True, 'implicit': True}. Best is trial 158 with value: 0.27482516620598896.\n"
     ]
    },
    {
     "name": "stdout",
     "output_type": "stream",
     "text": [
      "RP3betaRecommender: Similarity column 38121 (100.0%), 1802.48 column/sec. Elapsed time 21.15 sec\n",
      "EvaluatorHoldout: Ignoring 173 ( 0.5%) Users that have less than 1 test interactions\n",
      "EvaluatorHoldout: Processed 35563 (100.0%) in 40.37 sec. Users per second: 881\n",
      "RP3betaRecommender: Similarity column 38121 (100.0%), 1785.65 column/sec. Elapsed time 21.35 sec\n",
      "EvaluatorHoldout: Ignoring 163 ( 0.5%) Users that have less than 1 test interactions\n",
      "EvaluatorHoldout: Processed 35573 (100.0%) in 40.04 sec. Users per second: 888\n",
      "RP3betaRecommender: Similarity column 38121 (100.0%), 1777.86 column/sec. Elapsed time 21.44 sec\n",
      "EvaluatorHoldout: Ignoring 150 ( 0.4%) Users that have less than 1 test interactions\n",
      "EvaluatorHoldout: Processed 35586 (100.0%) in 39.91 sec. Users per second: 892\n",
      "RP3betaRecommender: Similarity column 38121 (100.0%), 1780.20 column/sec. Elapsed time 21.41 sec\n",
      "EvaluatorHoldout: Ignoring 167 ( 0.5%) Users that have less than 1 test interactions\n",
      "EvaluatorHoldout: Processed 35569 (100.0%) in 39.69 sec. Users per second: 896\n",
      "RP3betaRecommender: Similarity column 38121 (100.0%), 1769.36 column/sec. Elapsed time 21.55 sec\n",
      "EvaluatorHoldout: Ignoring 172 ( 0.5%) Users that have less than 1 test interactions\n",
      "EvaluatorHoldout: Processed 35564 (100.0%) in 40.21 sec. Users per second: 885\n"
     ]
    },
    {
     "name": "stderr",
     "output_type": "stream",
     "text": [
      "[I 2025-01-07 08:00:55,603] Trial 211 finished with value: 0.20189710298963287 and parameters: {'topK': 82, 'alpha': 2.3880353470323055, 'beta': 0.35766921350670833, 'normalize_similarity': True, 'implicit': True}. Best is trial 158 with value: 0.27482516620598896.\n"
     ]
    },
    {
     "name": "stdout",
     "output_type": "stream",
     "text": [
      "RP3betaRecommender: Similarity column 38121 (100.0%), 1905.59 column/sec. Elapsed time 20.00 sec\n",
      "EvaluatorHoldout: Ignoring 173 ( 0.5%) Users that have less than 1 test interactions\n",
      "EvaluatorHoldout: Processed 35563 (100.0%) in 37.83 sec. Users per second: 940\n",
      "RP3betaRecommender: Similarity column 38121 (100.0%), 1893.45 column/sec. Elapsed time 20.13 sec\n",
      "EvaluatorHoldout: Ignoring 163 ( 0.5%) Users that have less than 1 test interactions\n",
      "EvaluatorHoldout: Processed 35573 (100.0%) in 37.96 sec. Users per second: 937\n",
      "RP3betaRecommender: Similarity column 38121 (100.0%), 1897.89 column/sec. Elapsed time 20.09 sec\n",
      "EvaluatorHoldout: Ignoring 150 ( 0.4%) Users that have less than 1 test interactions\n",
      "EvaluatorHoldout: Processed 35586 (100.0%) in 38.30 sec. Users per second: 929\n",
      "RP3betaRecommender: Similarity column 38121 (100.0%), 1890.35 column/sec. Elapsed time 20.17 sec\n",
      "EvaluatorHoldout: Ignoring 167 ( 0.5%) Users that have less than 1 test interactions\n",
      "EvaluatorHoldout: Processed 35569 (100.0%) in 38.37 sec. Users per second: 927\n",
      "RP3betaRecommender: Similarity column 38121 (100.0%), 1895.45 column/sec. Elapsed time 20.11 sec\n",
      "EvaluatorHoldout: Ignoring 172 ( 0.5%) Users that have less than 1 test interactions\n",
      "EvaluatorHoldout: Processed 35564 (100.0%) in 38.49 sec. Users per second: 924\n"
     ]
    },
    {
     "name": "stderr",
     "output_type": "stream",
     "text": [
      "[I 2025-01-07 08:06:02,028] Trial 212 finished with value: 0.27480190824187223 and parameters: {'topK': 57, 'alpha': 0.3687927174035428, 'beta': 0.2846030854144206, 'normalize_similarity': True, 'implicit': True}. Best is trial 158 with value: 0.27482516620598896.\n"
     ]
    },
    {
     "name": "stdout",
     "output_type": "stream",
     "text": [
      "RP3betaRecommender: Similarity column 38121 (100.0%), 1899.83 column/sec. Elapsed time 20.07 sec\n",
      "EvaluatorHoldout: Ignoring 173 ( 0.5%) Users that have less than 1 test interactions\n",
      "EvaluatorHoldout: Processed 35563 (100.0%) in 38.35 sec. Users per second: 927\n",
      "RP3betaRecommender: Similarity column 38121 (100.0%), 1901.12 column/sec. Elapsed time 20.05 sec\n",
      "EvaluatorHoldout: Ignoring 163 ( 0.5%) Users that have less than 1 test interactions\n",
      "EvaluatorHoldout: Processed 35573 (100.0%) in 37.74 sec. Users per second: 943\n",
      "RP3betaRecommender: Similarity column 38121 (100.0%), 1906.09 column/sec. Elapsed time 20.00 sec\n",
      "EvaluatorHoldout: Ignoring 150 ( 0.4%) Users that have less than 1 test interactions\n",
      "EvaluatorHoldout: Processed 35586 (100.0%) in 37.86 sec. Users per second: 940\n",
      "RP3betaRecommender: Similarity column 38121 (100.0%), 1887.59 column/sec. Elapsed time 20.20 sec\n",
      "EvaluatorHoldout: Ignoring 167 ( 0.5%) Users that have less than 1 test interactions\n",
      "EvaluatorHoldout: Processed 35569 (100.0%) in 37.98 sec. Users per second: 937\n",
      "RP3betaRecommender: Similarity column 38121 (100.0%), 1900.98 column/sec. Elapsed time 20.05 sec\n",
      "EvaluatorHoldout: Ignoring 172 ( 0.5%) Users that have less than 1 test interactions\n",
      "EvaluatorHoldout: Processed 35564 (100.0%) in 37.93 sec. Users per second: 938\n"
     ]
    },
    {
     "name": "stderr",
     "output_type": "stream",
     "text": [
      "[I 2025-01-07 08:11:06,133] Trial 213 finished with value: 0.274895885765578 and parameters: {'topK': 56, 'alpha': 0.35509009371955624, 'beta': 0.26006837402977817, 'normalize_similarity': True, 'implicit': True}. Best is trial 213 with value: 0.274895885765578.\n"
     ]
    },
    {
     "name": "stdout",
     "output_type": "stream",
     "text": [
      "RP3betaRecommender: Similarity column 38121 (100.0%), 2195.25 column/sec. Elapsed time 17.37 sec\n",
      "EvaluatorHoldout: Ignoring 173 ( 0.5%) Users that have less than 1 test interactions\n",
      "EvaluatorHoldout: Processed 35563 (100.0%) in 33.07 sec. Users per second: 1075\n",
      "RP3betaRecommender: Similarity column 38121 (100.0%), 2198.21 column/sec. Elapsed time 17.34 sec\n",
      "EvaluatorHoldout: Ignoring 163 ( 0.5%) Users that have less than 1 test interactions\n",
      "EvaluatorHoldout: Processed 35573 (100.0%) in 32.85 sec. Users per second: 1083\n",
      "RP3betaRecommender: Similarity column 38121 (100.0%), 2232.26 column/sec. Elapsed time 17.08 sec\n",
      "EvaluatorHoldout: Ignoring 150 ( 0.4%) Users that have less than 1 test interactions\n",
      "EvaluatorHoldout: Processed 35586 (100.0%) in 33.03 sec. Users per second: 1077\n",
      "RP3betaRecommender: Similarity column 38121 (100.0%), 2162.88 column/sec. Elapsed time 17.63 sec\n",
      "EvaluatorHoldout: Ignoring 167 ( 0.5%) Users that have less than 1 test interactions\n",
      "EvaluatorHoldout: Processed 35569 (100.0%) in 32.66 sec. Users per second: 1089\n",
      "RP3betaRecommender: Similarity column 38121 (100.0%), 2200.88 column/sec. Elapsed time 17.32 sec\n",
      "EvaluatorHoldout: Ignoring 172 ( 0.5%) Users that have less than 1 test interactions\n",
      "EvaluatorHoldout: Processed 35564 (100.0%) in 32.75 sec. Users per second: 1086\n"
     ]
    },
    {
     "name": "stderr",
     "output_type": "stream",
     "text": [
      "[I 2025-01-07 08:15:21,958] Trial 214 finished with value: 0.22414272998112866 and parameters: {'topK': 5, 'alpha': 0.38803025327896634, 'beta': 0.25643790176722436, 'normalize_similarity': True, 'implicit': True}. Best is trial 213 with value: 0.274895885765578.\n"
     ]
    },
    {
     "name": "stdout",
     "output_type": "stream",
     "text": [
      "RP3betaRecommender: Similarity column 38121 (100.0%), 1744.94 column/sec. Elapsed time 21.85 sec\n",
      "EvaluatorHoldout: Ignoring 173 ( 0.5%) Users that have less than 1 test interactions\n",
      "EvaluatorHoldout: Processed 35563 (100.0%) in 39.56 sec. Users per second: 899\n",
      "RP3betaRecommender: Similarity column 38121 (100.0%), 1749.70 column/sec. Elapsed time 21.79 sec\n",
      "EvaluatorHoldout: Ignoring 163 ( 0.5%) Users that have less than 1 test interactions\n",
      "EvaluatorHoldout: Processed 35573 (100.0%) in 39.76 sec. Users per second: 895\n",
      "RP3betaRecommender: Similarity column 38121 (100.0%), 1750.89 column/sec. Elapsed time 21.77 sec\n",
      "EvaluatorHoldout: Ignoring 150 ( 0.4%) Users that have less than 1 test interactions\n",
      "EvaluatorHoldout: Processed 35586 (100.0%) in 39.56 sec. Users per second: 900\n",
      "RP3betaRecommender: Similarity column 38121 (100.0%), 1741.98 column/sec. Elapsed time 21.88 sec\n",
      "EvaluatorHoldout: Ignoring 167 ( 0.5%) Users that have less than 1 test interactions\n",
      "EvaluatorHoldout: Processed 35569 (100.0%) in 39.39 sec. Users per second: 903\n",
      "RP3betaRecommender: Similarity column 38121 (100.0%), 1750.59 column/sec. Elapsed time 21.78 sec\n",
      "EvaluatorHoldout: Ignoring 172 ( 0.5%) Users that have less than 1 test interactions\n",
      "EvaluatorHoldout: Processed 35564 (100.0%) in 39.30 sec. Users per second: 905\n"
     ]
    },
    {
     "name": "stderr",
     "output_type": "stream",
     "text": [
      "[I 2025-01-07 08:20:49,876] Trial 215 finished with value: 0.27458161669968306 and parameters: {'topK': 91, 'alpha': 0.4481012016675714, 'beta': 0.2800105946496581, 'normalize_similarity': True, 'implicit': True}. Best is trial 213 with value: 0.274895885765578.\n"
     ]
    },
    {
     "name": "stdout",
     "output_type": "stream",
     "text": [
      "RP3betaRecommender: Similarity column 38121 (100.0%), 1948.55 column/sec. Elapsed time 19.56 sec\n",
      "EvaluatorHoldout: Ignoring 173 ( 0.5%) Users that have less than 1 test interactions\n",
      "EvaluatorHoldout: Processed 35563 (100.0%) in 37.24 sec. Users per second: 955\n",
      "RP3betaRecommender: Similarity column 38121 (100.0%), 1953.35 column/sec. Elapsed time 19.52 sec\n",
      "EvaluatorHoldout: Ignoring 163 ( 0.5%) Users that have less than 1 test interactions\n",
      "EvaluatorHoldout: Processed 35573 (100.0%) in 37.63 sec. Users per second: 945\n",
      "RP3betaRecommender: Similarity column 38121 (100.0%), 1936.64 column/sec. Elapsed time 19.68 sec\n",
      "EvaluatorHoldout: Ignoring 150 ( 0.4%) Users that have less than 1 test interactions\n",
      "EvaluatorHoldout: Processed 35586 (100.0%) in 37.24 sec. Users per second: 956\n",
      "RP3betaRecommender: Similarity column 38121 (100.0%), 1923.80 column/sec. Elapsed time 19.82 sec\n",
      "EvaluatorHoldout: Ignoring 167 ( 0.5%) Users that have less than 1 test interactions\n",
      "EvaluatorHoldout: Processed 35569 (100.0%) in 37.45 sec. Users per second: 950\n",
      "RP3betaRecommender: Similarity column 38121 (100.0%), 1922.70 column/sec. Elapsed time 19.83 sec\n",
      "EvaluatorHoldout: Ignoring 172 ( 0.5%) Users that have less than 1 test interactions\n",
      "EvaluatorHoldout: Processed 35564 (100.0%) in 37.11 sec. Users per second: 958\n"
     ]
    },
    {
     "name": "stderr",
     "output_type": "stream",
     "text": [
      "[I 2025-01-07 08:25:47,318] Trial 216 finished with value: 0.273532782375857 and parameters: {'topK': 48, 'alpha': 0.4495072892615451, 'beta': 0.2104954237384254, 'normalize_similarity': True, 'implicit': True}. Best is trial 213 with value: 0.274895885765578.\n"
     ]
    },
    {
     "name": "stdout",
     "output_type": "stream",
     "text": [
      "RP3betaRecommender: Similarity column 38121 (100.0%), 1690.54 column/sec. Elapsed time 22.55 sec\n",
      "EvaluatorHoldout: Ignoring 173 ( 0.5%) Users that have less than 1 test interactions\n",
      "EvaluatorHoldout: Processed 35563 (100.0%) in 39.16 sec. Users per second: 908\n",
      "RP3betaRecommender: Similarity column 38121 (100.0%), 1702.28 column/sec. Elapsed time 22.39 sec\n",
      "EvaluatorHoldout: Ignoring 163 ( 0.5%) Users that have less than 1 test interactions\n",
      "EvaluatorHoldout: Processed 35573 (100.0%) in 39.01 sec. Users per second: 912\n",
      "RP3betaRecommender: Similarity column 38121 (100.0%), 1696.34 column/sec. Elapsed time 22.47 sec\n",
      "EvaluatorHoldout: Ignoring 150 ( 0.4%) Users that have less than 1 test interactions\n",
      "EvaluatorHoldout: Processed 35586 (100.0%) in 39.69 sec. Users per second: 897\n",
      "RP3betaRecommender: Similarity column 38121 (100.0%), 1675.48 column/sec. Elapsed time 22.75 sec\n",
      "EvaluatorHoldout: Ignoring 167 ( 0.5%) Users that have less than 1 test interactions\n",
      "EvaluatorHoldout: Processed 35569 (100.0%) in 39.67 sec. Users per second: 897\n",
      "RP3betaRecommender: Similarity column 38121 (100.0%), 1699.51 column/sec. Elapsed time 22.43 sec\n",
      "EvaluatorHoldout: Ignoring 172 ( 0.5%) Users that have less than 1 test interactions\n",
      "EvaluatorHoldout: Processed 35564 (100.0%) in 39.15 sec. Users per second: 908\n"
     ]
    },
    {
     "name": "stderr",
     "output_type": "stream",
     "text": [
      "[I 2025-01-07 08:31:18,201] Trial 217 finished with value: 0.27363947994544124 and parameters: {'topK': 103, 'alpha': 0.34891135234508575, 'beta': 0.18878807539631162, 'normalize_similarity': True, 'implicit': True}. Best is trial 213 with value: 0.274895885765578.\n"
     ]
    },
    {
     "name": "stdout",
     "output_type": "stream",
     "text": [
      "RP3betaRecommender: Similarity column 38121 (100.0%), 2001.35 column/sec. Elapsed time 19.05 sec\n",
      "EvaluatorHoldout: Ignoring 173 ( 0.5%) Users that have less than 1 test interactions\n",
      "EvaluatorHoldout: Processed 35563 (100.0%) in 37.18 sec. Users per second: 957\n",
      "RP3betaRecommender: Similarity column 38121 (100.0%), 2010.35 column/sec. Elapsed time 18.96 sec\n",
      "EvaluatorHoldout: Ignoring 163 ( 0.5%) Users that have less than 1 test interactions\n",
      "EvaluatorHoldout: Processed 35573 (100.0%) in 37.03 sec. Users per second: 961\n",
      "RP3betaRecommender: Similarity column 38121 (100.0%), 2011.05 column/sec. Elapsed time 18.96 sec\n",
      "EvaluatorHoldout: Ignoring 150 ( 0.4%) Users that have less than 1 test interactions\n",
      "EvaluatorHoldout: Processed 35586 (100.0%) in 37.36 sec. Users per second: 952\n",
      "RP3betaRecommender: Similarity column 38121 (100.0%), 2013.78 column/sec. Elapsed time 18.93 sec\n",
      "EvaluatorHoldout: Ignoring 167 ( 0.5%) Users that have less than 1 test interactions\n",
      "EvaluatorHoldout: Processed 35569 (100.0%) in 36.88 sec. Users per second: 964\n",
      "RP3betaRecommender: Similarity column 38121 (100.0%), 2004.74 column/sec. Elapsed time 19.02 sec\n",
      "EvaluatorHoldout: Ignoring 172 ( 0.5%) Users that have less than 1 test interactions\n",
      "EvaluatorHoldout: Processed 35564 (100.0%) in 37.30 sec. Users per second: 954\n"
     ]
    },
    {
     "name": "stderr",
     "output_type": "stream",
     "text": [
      "[I 2025-01-07 08:36:10,591] Trial 218 finished with value: 0.2709906301520028 and parameters: {'topK': 39, 'alpha': 0.4250093828737653, 'beta': 0.4097127737441175, 'normalize_similarity': True, 'implicit': True}. Best is trial 213 with value: 0.274895885765578.\n"
     ]
    },
    {
     "name": "stdout",
     "output_type": "stream",
     "text": [
      "RP3betaRecommender: Similarity column 38121 (100.0%), 1658.88 column/sec. Elapsed time 22.98 sec\n",
      "EvaluatorHoldout: Ignoring 173 ( 0.5%) Users that have less than 1 test interactions\n",
      "EvaluatorHoldout: Processed 35563 (100.0%) in 40.36 sec. Users per second: 881\n",
      "RP3betaRecommender: Similarity column 38121 (100.0%), 1656.68 column/sec. Elapsed time 23.01 sec\n",
      "EvaluatorHoldout: Ignoring 163 ( 0.5%) Users that have less than 1 test interactions\n",
      "EvaluatorHoldout: Processed 35573 (100.0%) in 39.96 sec. Users per second: 890\n",
      "RP3betaRecommender: Similarity column 38121 (100.0%), 1659.75 column/sec. Elapsed time 22.97 sec\n",
      "EvaluatorHoldout: Ignoring 150 ( 0.4%) Users that have less than 1 test interactions\n",
      "EvaluatorHoldout: Processed 35586 (100.0%) in 40.05 sec. Users per second: 888\n",
      "RP3betaRecommender: Similarity column 38121 (100.0%), 1673.27 column/sec. Elapsed time 22.78 sec\n",
      "EvaluatorHoldout: Ignoring 167 ( 0.5%) Users that have less than 1 test interactions\n",
      "EvaluatorHoldout: Processed 35569 (100.0%) in 40.14 sec. Users per second: 886\n",
      "RP3betaRecommender: Similarity column 38121 (100.0%), 1667.88 column/sec. Elapsed time 22.86 sec\n",
      "EvaluatorHoldout: Ignoring 172 ( 0.5%) Users that have less than 1 test interactions\n",
      "EvaluatorHoldout: Processed 35564 (100.0%) in 40.04 sec. Users per second: 888\n"
     ]
    },
    {
     "name": "stderr",
     "output_type": "stream",
     "text": [
      "[I 2025-01-07 08:41:50,811] Trial 219 finished with value: 0.2737504573614376 and parameters: {'topK': 112, 'alpha': 0.47278904306988195, 'beta': 0.25972530772887215, 'normalize_similarity': True, 'implicit': True}. Best is trial 213 with value: 0.274895885765578.\n"
     ]
    },
    {
     "name": "stdout",
     "output_type": "stream",
     "text": [
      "RP3betaRecommender: Similarity column 38121 (100.0%), 1884.71 column/sec. Elapsed time 20.23 sec\n",
      "EvaluatorHoldout: Ignoring 173 ( 0.5%) Users that have less than 1 test interactions\n",
      "EvaluatorHoldout: Processed 35563 (100.0%) in 38.33 sec. Users per second: 928\n",
      "RP3betaRecommender: Similarity column 38121 (100.0%), 1863.19 column/sec. Elapsed time 20.46 sec\n",
      "EvaluatorHoldout: Ignoring 163 ( 0.5%) Users that have less than 1 test interactions\n",
      "EvaluatorHoldout: Processed 35573 (100.0%) in 39.19 sec. Users per second: 908\n",
      "RP3betaRecommender: Similarity column 38121 (100.0%), 1859.51 column/sec. Elapsed time 20.50 sec\n",
      "EvaluatorHoldout: Ignoring 150 ( 0.4%) Users that have less than 1 test interactions\n",
      "EvaluatorHoldout: Processed 35586 (100.0%) in 38.48 sec. Users per second: 925\n",
      "RP3betaRecommender: Similarity column 38121 (100.0%), 1883.63 column/sec. Elapsed time 20.24 sec\n",
      "EvaluatorHoldout: Ignoring 167 ( 0.5%) Users that have less than 1 test interactions\n",
      "EvaluatorHoldout: Processed 35569 (100.0%) in 38.25 sec. Users per second: 930\n",
      "RP3betaRecommender: Similarity column 38121 (100.0%), 1867.07 column/sec. Elapsed time 20.42 sec\n",
      "EvaluatorHoldout: Ignoring 172 ( 0.5%) Users that have less than 1 test interactions\n",
      "EvaluatorHoldout: Processed 35564 (100.0%) in 38.29 sec. Users per second: 929\n"
     ]
    },
    {
     "name": "stderr",
     "output_type": "stream",
     "text": [
      "[I 2025-01-07 08:47:01,064] Trial 220 finished with value: 0.27493124419538123 and parameters: {'topK': 63, 'alpha': 0.38556900669315736, 'beta': 0.2979309262387038, 'normalize_similarity': True, 'implicit': True}. Best is trial 220 with value: 0.27493124419538123.\n"
     ]
    },
    {
     "name": "stdout",
     "output_type": "stream",
     "text": [
      "RP3betaRecommender: Similarity column 38121 (100.0%), 1884.21 column/sec. Elapsed time 20.23 sec\n",
      "EvaluatorHoldout: Ignoring 173 ( 0.5%) Users that have less than 1 test interactions\n",
      "EvaluatorHoldout: Processed 35563 (100.0%) in 38.15 sec. Users per second: 932\n",
      "RP3betaRecommender: Similarity column 38121 (100.0%), 1870.04 column/sec. Elapsed time 20.39 sec\n",
      "EvaluatorHoldout: Ignoring 163 ( 0.5%) Users that have less than 1 test interactions\n",
      "EvaluatorHoldout: Processed 35573 (100.0%) in 37.97 sec. Users per second: 937\n",
      "RP3betaRecommender: Similarity column 38121 (100.0%), 1882.51 column/sec. Elapsed time 20.25 sec\n",
      "EvaluatorHoldout: Ignoring 150 ( 0.4%) Users that have less than 1 test interactions\n",
      "EvaluatorHoldout: Processed 35586 (100.0%) in 37.86 sec. Users per second: 940\n",
      "RP3betaRecommender: Similarity column 38121 (100.0%), 1877.27 column/sec. Elapsed time 20.31 sec\n",
      "EvaluatorHoldout: Ignoring 167 ( 0.5%) Users that have less than 1 test interactions\n",
      "EvaluatorHoldout: Processed 35569 (100.0%) in 38.03 sec. Users per second: 935\n",
      "RP3betaRecommender: Similarity column 38121 (100.0%), 1875.63 column/sec. Elapsed time 20.32 sec\n",
      "EvaluatorHoldout: Ignoring 172 ( 0.5%) Users that have less than 1 test interactions\n",
      "EvaluatorHoldout: Processed 35564 (100.0%) in 38.08 sec. Users per second: 934\n"
     ]
    },
    {
     "name": "stderr",
     "output_type": "stream",
     "text": [
      "[I 2025-01-07 08:52:08,491] Trial 221 finished with value: 0.27486187569646325 and parameters: {'topK': 65, 'alpha': 0.35433956261025346, 'beta': 0.3031710289386356, 'normalize_similarity': True, 'implicit': True}. Best is trial 220 with value: 0.27493124419538123.\n"
     ]
    },
    {
     "name": "stdout",
     "output_type": "stream",
     "text": [
      "RP3betaRecommender: Similarity column 38121 (100.0%), 1803.45 column/sec. Elapsed time 21.14 sec\n",
      "EvaluatorHoldout: Ignoring 173 ( 0.5%) Users that have less than 1 test interactions\n",
      "EvaluatorHoldout: Processed 35563 (100.0%) in 38.62 sec. Users per second: 921\n",
      "RP3betaRecommender: Similarity column 38121 (100.0%), 1799.42 column/sec. Elapsed time 21.19 sec\n",
      "EvaluatorHoldout: Ignoring 163 ( 0.5%) Users that have less than 1 test interactions\n",
      "EvaluatorHoldout: Processed 35573 (100.0%) in 38.55 sec. Users per second: 923\n",
      "RP3betaRecommender: Similarity column 38121 (100.0%), 1810.52 column/sec. Elapsed time 21.06 sec\n",
      "EvaluatorHoldout: Ignoring 150 ( 0.4%) Users that have less than 1 test interactions\n",
      "EvaluatorHoldout: Processed 35586 (100.0%) in 38.36 sec. Users per second: 928\n",
      "RP3betaRecommender: Similarity column 38121 (100.0%), 1797.71 column/sec. Elapsed time 21.21 sec\n",
      "EvaluatorHoldout: Ignoring 167 ( 0.5%) Users that have less than 1 test interactions\n",
      "EvaluatorHoldout: Processed 35569 (100.0%) in 38.64 sec. Users per second: 920\n",
      "RP3betaRecommender: Similarity column 38121 (100.0%), 1797.78 column/sec. Elapsed time 21.20 sec\n",
      "EvaluatorHoldout: Ignoring 172 ( 0.5%) Users that have less than 1 test interactions\n",
      "EvaluatorHoldout: Processed 35564 (100.0%) in 38.34 sec. Users per second: 928\n"
     ]
    },
    {
     "name": "stderr",
     "output_type": "stream",
     "text": [
      "[I 2025-01-07 08:57:25,147] Trial 222 finished with value: 0.274939235807098 and parameters: {'topK': 79, 'alpha': 0.38532935911044996, 'beta': 0.2749203274927497, 'normalize_similarity': True, 'implicit': True}. Best is trial 222 with value: 0.274939235807098.\n"
     ]
    },
    {
     "name": "stdout",
     "output_type": "stream",
     "text": [
      "RP3betaRecommender: Similarity column 38121 (100.0%), 1772.14 column/sec. Elapsed time 21.51 sec\n",
      "EvaluatorHoldout: Ignoring 173 ( 0.5%) Users that have less than 1 test interactions\n",
      "EvaluatorHoldout: Processed 35563 (100.0%) in 38.85 sec. Users per second: 915\n",
      "RP3betaRecommender: Similarity column 38121 (100.0%), 1764.11 column/sec. Elapsed time 21.61 sec\n",
      "EvaluatorHoldout: Ignoring 163 ( 0.5%) Users that have less than 1 test interactions\n",
      "EvaluatorHoldout: Processed 35573 (100.0%) in 38.73 sec. Users per second: 919\n",
      "RP3betaRecommender: Similarity column 38121 (100.0%), 1772.50 column/sec. Elapsed time 21.51 sec\n",
      "EvaluatorHoldout: Ignoring 150 ( 0.4%) Users that have less than 1 test interactions\n",
      "EvaluatorHoldout: Processed 35586 (100.0%) in 38.87 sec. Users per second: 915\n",
      "RP3betaRecommender: Similarity column 38121 (100.0%), 1760.20 column/sec. Elapsed time 21.66 sec\n",
      "EvaluatorHoldout: Ignoring 167 ( 0.5%) Users that have less than 1 test interactions\n",
      "EvaluatorHoldout: Processed 35569 (100.0%) in 38.94 sec. Users per second: 914\n",
      "RP3betaRecommender: Similarity column 38121 (100.0%), 1772.75 column/sec. Elapsed time 21.50 sec\n",
      "EvaluatorHoldout: Ignoring 172 ( 0.5%) Users that have less than 1 test interactions\n",
      "EvaluatorHoldout: Processed 35564 (100.0%) in 38.87 sec. Users per second: 915\n"
     ]
    },
    {
     "name": "stderr",
     "output_type": "stream",
     "text": [
      "[I 2025-01-07 09:02:47,282] Trial 223 finished with value: 0.274732622118252 and parameters: {'topK': 88, 'alpha': 0.36446885251192296, 'beta': 0.2704567332320949, 'normalize_similarity': True, 'implicit': True}. Best is trial 222 with value: 0.274939235807098.\n"
     ]
    },
    {
     "name": "stdout",
     "output_type": "stream",
     "text": [
      "RP3betaRecommender: Similarity column 38121 (100.0%), 2089.27 column/sec. Elapsed time 18.25 sec\n",
      "EvaluatorHoldout: Ignoring 173 ( 0.5%) Users that have less than 1 test interactions\n",
      "EvaluatorHoldout: Processed 35563 (100.0%) in 35.25 sec. Users per second: 1009\n",
      "RP3betaRecommender: Similarity column 38121 (100.0%), 2101.00 column/sec. Elapsed time 18.14 sec\n",
      "EvaluatorHoldout: Ignoring 163 ( 0.5%) Users that have less than 1 test interactions\n",
      "EvaluatorHoldout: Processed 35573 (100.0%) in 35.11 sec. Users per second: 1013\n",
      "RP3betaRecommender: Similarity column 38121 (100.0%), 2073.43 column/sec. Elapsed time 18.39 sec\n",
      "EvaluatorHoldout: Ignoring 150 ( 0.4%) Users that have less than 1 test interactions\n",
      "EvaluatorHoldout: Processed 35586 (100.0%) in 35.58 sec. Users per second: 1000\n",
      "RP3betaRecommender: Similarity column 38121 (100.0%), 2107.03 column/sec. Elapsed time 18.09 sec\n",
      "EvaluatorHoldout: Ignoring 167 ( 0.5%) Users that have less than 1 test interactions\n",
      "EvaluatorHoldout: Processed 35569 (100.0%) in 35.23 sec. Users per second: 1010\n",
      "RP3betaRecommender: Similarity column 38121 (100.0%), 2083.21 column/sec. Elapsed time 18.30 sec\n",
      "EvaluatorHoldout: Ignoring 172 ( 0.5%) Users that have less than 1 test interactions\n",
      "EvaluatorHoldout: Processed 35564 (100.0%) in 35.03 sec. Users per second: 1015\n"
     ]
    },
    {
     "name": "stderr",
     "output_type": "stream",
     "text": [
      "[I 2025-01-07 09:07:22,154] Trial 224 finished with value: 0.26707194026189934 and parameters: {'topK': 25, 'alpha': 0.360115365320358, 'beta': 0.15558783495494563, 'normalize_similarity': True, 'implicit': True}. Best is trial 222 with value: 0.274939235807098.\n"
     ]
    },
    {
     "name": "stdout",
     "output_type": "stream",
     "text": [
      "RP3betaRecommender: Similarity column 38121 (100.0%), 1629.46 column/sec. Elapsed time 23.39 sec\n",
      "EvaluatorHoldout: Ignoring 173 ( 0.5%) Users that have less than 1 test interactions\n",
      "EvaluatorHoldout: Processed 35563 (100.0%) in 39.86 sec. Users per second: 892\n",
      "RP3betaRecommender: Similarity column 38121 (100.0%), 1621.60 column/sec. Elapsed time 23.51 sec\n",
      "EvaluatorHoldout: Ignoring 163 ( 0.5%) Users that have less than 1 test interactions\n",
      "EvaluatorHoldout: Processed 35573 (100.0%) in 40.21 sec. Users per second: 885\n",
      "RP3betaRecommender: Similarity column 38121 (100.0%), 1621.32 column/sec. Elapsed time 23.51 sec\n",
      "EvaluatorHoldout: Ignoring 150 ( 0.4%) Users that have less than 1 test interactions\n",
      "EvaluatorHoldout: Processed 35586 (100.0%) in 40.08 sec. Users per second: 888\n",
      "RP3betaRecommender: Similarity column 38121 (100.0%), 1627.80 column/sec. Elapsed time 23.42 sec\n",
      "EvaluatorHoldout: Ignoring 167 ( 0.5%) Users that have less than 1 test interactions\n",
      "EvaluatorHoldout: Processed 35569 (100.0%) in 40.16 sec. Users per second: 886\n",
      "RP3betaRecommender: Similarity column 38121 (100.0%), 1617.55 column/sec. Elapsed time 23.57 sec\n",
      "EvaluatorHoldout: Ignoring 172 ( 0.5%) Users that have less than 1 test interactions\n",
      "EvaluatorHoldout: Processed 35564 (100.0%) in 40.02 sec. Users per second: 889\n"
     ]
    },
    {
     "name": "stderr",
     "output_type": "stream",
     "text": [
      "[I 2025-01-07 09:13:07,102] Trial 225 finished with value: 0.272121105821455 and parameters: {'topK': 128, 'alpha': 0.30024533359582567, 'beta': 0.2577441466989046, 'normalize_similarity': True, 'implicit': True}. Best is trial 222 with value: 0.274939235807098.\n"
     ]
    },
    {
     "name": "stdout",
     "output_type": "stream",
     "text": [
      "RP3betaRecommender: Similarity column 38121 (100.0%), 1940.49 column/sec. Elapsed time 19.65 sec\n",
      "EvaluatorHoldout: Ignoring 173 ( 0.5%) Users that have less than 1 test interactions\n",
      "EvaluatorHoldout: Processed 35563 (100.0%) in 36.79 sec. Users per second: 967\n",
      "RP3betaRecommender: Similarity column 38121 (100.0%), 1958.59 column/sec. Elapsed time 19.46 sec\n",
      "EvaluatorHoldout: Ignoring 163 ( 0.5%) Users that have less than 1 test interactions\n",
      "EvaluatorHoldout: Processed 35573 (100.0%) in 36.95 sec. Users per second: 963\n",
      "RP3betaRecommender: Similarity column 38121 (100.0%), 1954.95 column/sec. Elapsed time 19.50 sec\n",
      "EvaluatorHoldout: Ignoring 150 ( 0.4%) Users that have less than 1 test interactions\n",
      "EvaluatorHoldout: Processed 35586 (100.0%) in 37.11 sec. Users per second: 959\n",
      "RP3betaRecommender: Similarity column 38121 (100.0%), 1945.98 column/sec. Elapsed time 19.59 sec\n",
      "EvaluatorHoldout: Ignoring 167 ( 0.5%) Users that have less than 1 test interactions\n",
      "EvaluatorHoldout: Processed 35569 (100.0%) in 37.44 sec. Users per second: 950\n",
      "RP3betaRecommender: Similarity column 38121 (100.0%), 1943.03 column/sec. Elapsed time 19.62 sec\n",
      "EvaluatorHoldout: Ignoring 172 ( 0.5%) Users that have less than 1 test interactions\n",
      "EvaluatorHoldout: Processed 35564 (100.0%) in 37.38 sec. Users per second: 952\n"
     ]
    },
    {
     "name": "stderr",
     "output_type": "stream",
     "text": [
      "[I 2025-01-07 09:18:03,391] Trial 226 finished with value: 0.2740547329643394 and parameters: {'topK': 52, 'alpha': 0.36652082430166777, 'beta': 0.2063569184372454, 'normalize_similarity': True, 'implicit': True}. Best is trial 222 with value: 0.274939235807098.\n"
     ]
    },
    {
     "name": "stdout",
     "output_type": "stream",
     "text": [
      "RP3betaRecommender: Similarity column 38121 (100.0%), 1794.66 column/sec. Elapsed time 21.24 sec\n",
      "EvaluatorHoldout: Ignoring 173 ( 0.5%) Users that have less than 1 test interactions\n",
      "EvaluatorHoldout: Processed 35563 (100.0%) in 38.69 sec. Users per second: 919\n",
      "RP3betaRecommender: Similarity column 38121 (100.0%), 1795.18 column/sec. Elapsed time 21.24 sec\n",
      "EvaluatorHoldout: Ignoring 163 ( 0.5%) Users that have less than 1 test interactions\n",
      "EvaluatorHoldout: Processed 35573 (100.0%) in 38.81 sec. Users per second: 917\n",
      "RP3betaRecommender: Similarity column 38121 (100.0%), 1792.56 column/sec. Elapsed time 21.27 sec\n",
      "EvaluatorHoldout: Ignoring 150 ( 0.4%) Users that have less than 1 test interactions\n",
      "EvaluatorHoldout: Processed 35586 (100.0%) in 38.92 sec. Users per second: 914\n",
      "RP3betaRecommender: Similarity column 38121 (100.0%), 1798.57 column/sec. Elapsed time 21.20 sec\n",
      "EvaluatorHoldout: Ignoring 167 ( 0.5%) Users that have less than 1 test interactions\n",
      "EvaluatorHoldout: Processed 35569 (100.0%) in 38.92 sec. Users per second: 914\n",
      "RP3betaRecommender: Similarity column 38121 (100.0%), 1794.15 column/sec. Elapsed time 21.25 sec\n",
      "EvaluatorHoldout: Ignoring 172 ( 0.5%) Users that have less than 1 test interactions\n",
      "EvaluatorHoldout: Processed 35564 (100.0%) in 38.65 sec. Users per second: 920\n"
     ]
    },
    {
     "name": "stderr",
     "output_type": "stream",
     "text": [
      "[I 2025-01-07 09:23:22,550] Trial 227 finished with value: 0.2741546148354948 and parameters: {'topK': 83, 'alpha': 0.275988838902446, 'beta': 0.27873769743536203, 'normalize_similarity': True, 'implicit': True}. Best is trial 222 with value: 0.274939235807098.\n"
     ]
    },
    {
     "name": "stdout",
     "output_type": "stream",
     "text": [
      "RP3betaRecommender: Similarity column 38121 (100.0%), 598.39 column/sec. Elapsed time 1.06 min\n",
      "EvaluatorHoldout: Ignoring 173 ( 0.5%) Users that have less than 1 test interactions\n",
      "EvaluatorHoldout: Processed 35563 (100.0%) in 55.18 sec. Users per second: 645\n",
      "RP3betaRecommender: Similarity column 38121 (100.0%), 602.26 column/sec. Elapsed time 1.05 min\n",
      "EvaluatorHoldout: Ignoring 163 ( 0.5%) Users that have less than 1 test interactions\n",
      "EvaluatorHoldout: Processed 35573 (100.0%) in 54.73 sec. Users per second: 650\n",
      "RP3betaRecommender: Similarity column 38121 (100.0%), 596.15 column/sec. Elapsed time 1.07 min\n",
      "EvaluatorHoldout: Ignoring 150 ( 0.4%) Users that have less than 1 test interactions\n",
      "EvaluatorHoldout: Processed 35586 (100.0%) in 55.30 sec. Users per second: 644\n",
      "RP3betaRecommender: Similarity column 38121 (100.0%), 601.96 column/sec. Elapsed time 1.06 min\n",
      "EvaluatorHoldout: Ignoring 167 ( 0.5%) Users that have less than 1 test interactions\n",
      "EvaluatorHoldout: Processed 35569 (100.0%) in 55.30 sec. Users per second: 643\n",
      "RP3betaRecommender: Similarity column 38121 (100.0%), 595.74 column/sec. Elapsed time 1.07 min\n",
      "EvaluatorHoldout: Ignoring 172 ( 0.5%) Users that have less than 1 test interactions\n",
      "EvaluatorHoldout: Processed 35564 (100.0%) in 54.83 sec. Users per second: 649\n"
     ]
    },
    {
     "name": "stderr",
     "output_type": "stream",
     "text": [
      "[I 2025-01-07 09:36:19,041] Trial 228 finished with value: 0.24629578349102005 and parameters: {'topK': 882, 'alpha': 0.3835723243443511, 'beta': 0.16393894558277972, 'normalize_similarity': True, 'implicit': True}. Best is trial 222 with value: 0.274939235807098.\n"
     ]
    },
    {
     "name": "stdout",
     "output_type": "stream",
     "text": [
      "RP3betaRecommender: Similarity column 38121 (100.0%), 2092.57 column/sec. Elapsed time 18.22 sec\n",
      "EvaluatorHoldout: Ignoring 173 ( 0.5%) Users that have less than 1 test interactions\n",
      "EvaluatorHoldout: Processed 35563 (100.0%) in 36.48 sec. Users per second: 975\n",
      "RP3betaRecommender: Similarity column 38121 (100.0%), 2086.04 column/sec. Elapsed time 18.27 sec\n",
      "EvaluatorHoldout: Ignoring 163 ( 0.5%) Users that have less than 1 test interactions\n",
      "EvaluatorHoldout: Processed 35573 (100.0%) in 36.58 sec. Users per second: 972\n",
      "RP3betaRecommender: Similarity column 38121 (100.0%), 2107.19 column/sec. Elapsed time 18.09 sec\n",
      "EvaluatorHoldout: Ignoring 150 ( 0.4%) Users that have less than 1 test interactions\n",
      "EvaluatorHoldout: Processed 35586 (100.0%) in 37.04 sec. Users per second: 961\n",
      "RP3betaRecommender: Similarity column 38121 (100.0%), 2048.82 column/sec. Elapsed time 18.61 sec\n",
      "EvaluatorHoldout: Ignoring 167 ( 0.5%) Users that have less than 1 test interactions\n",
      "EvaluatorHoldout: Processed 35569 (100.0%) in 36.73 sec. Users per second: 968\n",
      "RP3betaRecommender: Similarity column 38121 (100.0%), 2020.31 column/sec. Elapsed time 18.87 sec\n",
      "EvaluatorHoldout: Ignoring 172 ( 0.5%) Users that have less than 1 test interactions\n",
      "EvaluatorHoldout: Processed 35564 (100.0%) in 36.67 sec. Users per second: 970\n"
     ]
    },
    {
     "name": "stderr",
     "output_type": "stream",
     "text": [
      "[I 2025-01-07 09:41:04,211] Trial 229 finished with value: 0.2697935348630741 and parameters: {'topK': 28, 'alpha': 0.35080418332779956, 'beta': 0.3695958072619327, 'normalize_similarity': True, 'implicit': True}. Best is trial 222 with value: 0.274939235807098.\n"
     ]
    },
    {
     "name": "stdout",
     "output_type": "stream",
     "text": [
      "RP3betaRecommender: Similarity column 38121 (100.0%), 1583.49 column/sec. Elapsed time 24.07 sec\n",
      "EvaluatorHoldout: Ignoring 173 ( 0.5%) Users that have less than 1 test interactions\n",
      "EvaluatorHoldout: Processed 35563 (100.0%) in 35.42 sec. Users per second: 1004\n",
      "RP3betaRecommender: Similarity column 38121 (100.0%), 1563.57 column/sec. Elapsed time 24.38 sec\n",
      "EvaluatorHoldout: Ignoring 163 ( 0.5%) Users that have less than 1 test interactions\n",
      "EvaluatorHoldout: Processed 35573 (100.0%) in 35.71 sec. Users per second: 996\n",
      "RP3betaRecommender: Similarity column 38121 (100.0%), 1577.82 column/sec. Elapsed time 24.16 sec\n",
      "EvaluatorHoldout: Ignoring 150 ( 0.4%) Users that have less than 1 test interactions\n",
      "EvaluatorHoldout: Processed 35586 (100.0%) in 35.83 sec. Users per second: 993\n",
      "RP3betaRecommender: Similarity column 38121 (100.0%), 1553.79 column/sec. Elapsed time 24.53 sec\n",
      "EvaluatorHoldout: Ignoring 167 ( 0.5%) Users that have less than 1 test interactions\n",
      "EvaluatorHoldout: Processed 35569 (100.0%) in 35.74 sec. Users per second: 995\n",
      "RP3betaRecommender: Similarity column 38121 (100.0%), 1575.42 column/sec. Elapsed time 24.20 sec\n",
      "EvaluatorHoldout: Ignoring 172 ( 0.5%) Users that have less than 1 test interactions\n",
      "EvaluatorHoldout: Processed 35564 (100.0%) in 35.64 sec. Users per second: 998\n"
     ]
    },
    {
     "name": "stderr",
     "output_type": "stream",
     "text": [
      "[I 2025-01-07 09:46:28,743] Trial 230 finished with value: 0.26988879901572344 and parameters: {'topK': 131, 'alpha': 0.28632033316409233, 'beta': 0.10603506150808978, 'normalize_similarity': True, 'implicit': True}. Best is trial 222 with value: 0.274939235807098.\n"
     ]
    },
    {
     "name": "stdout",
     "output_type": "stream",
     "text": [
      "RP3betaRecommender: Similarity column 38121 (100.0%), 1756.36 column/sec. Elapsed time 21.70 sec\n",
      "EvaluatorHoldout: Ignoring 173 ( 0.5%) Users that have less than 1 test interactions\n",
      "EvaluatorHoldout: Processed 35563 (100.0%) in 39.33 sec. Users per second: 904\n",
      "RP3betaRecommender: Similarity column 38121 (100.0%), 1743.32 column/sec. Elapsed time 21.87 sec\n",
      "EvaluatorHoldout: Ignoring 163 ( 0.5%) Users that have less than 1 test interactions\n",
      "EvaluatorHoldout: Processed 35573 (100.0%) in 39.51 sec. Users per second: 900\n",
      "RP3betaRecommender: Similarity column 38121 (100.0%), 1764.02 column/sec. Elapsed time 21.61 sec\n",
      "EvaluatorHoldout: Ignoring 150 ( 0.4%) Users that have less than 1 test interactions\n",
      "EvaluatorHoldout: Processed 35586 (100.0%) in 40.01 sec. Users per second: 889\n",
      "RP3betaRecommender: Similarity column 38121 (100.0%), 1750.23 column/sec. Elapsed time 21.78 sec\n",
      "EvaluatorHoldout: Ignoring 167 ( 0.5%) Users that have less than 1 test interactions\n",
      "EvaluatorHoldout: Processed 35569 (100.0%) in 39.64 sec. Users per second: 897\n",
      "RP3betaRecommender: Similarity column 38121 (100.0%), 1754.41 column/sec. Elapsed time 21.73 sec\n",
      "EvaluatorHoldout: Ignoring 172 ( 0.5%) Users that have less than 1 test interactions\n",
      "EvaluatorHoldout: Processed 35564 (100.0%) in 39.52 sec. Users per second: 900\n"
     ]
    },
    {
     "name": "stderr",
     "output_type": "stream",
     "text": [
      "[I 2025-01-07 09:51:56,023] Trial 231 finished with value: 0.2745890065699089 and parameters: {'topK': 87, 'alpha': 0.3993895014441001, 'beta': 0.29400614019321364, 'normalize_similarity': True, 'implicit': True}. Best is trial 222 with value: 0.274939235807098.\n"
     ]
    },
    {
     "name": "stdout",
     "output_type": "stream",
     "text": [
      "RP3betaRecommender: Similarity column 38121 (100.0%), 1895.22 column/sec. Elapsed time 20.11 sec\n",
      "EvaluatorHoldout: Ignoring 173 ( 0.5%) Users that have less than 1 test interactions\n",
      "EvaluatorHoldout: Processed 35563 (100.0%) in 38.43 sec. Users per second: 925\n",
      "RP3betaRecommender: Similarity column 38121 (100.0%), 1877.26 column/sec. Elapsed time 20.31 sec\n",
      "EvaluatorHoldout: Ignoring 163 ( 0.5%) Users that have less than 1 test interactions\n",
      "EvaluatorHoldout: Processed 35573 (100.0%) in 38.20 sec. Users per second: 931\n",
      "RP3betaRecommender: Similarity column 38121 (100.0%), 1858.41 column/sec. Elapsed time 20.51 sec\n",
      "EvaluatorHoldout: Ignoring 150 ( 0.4%) Users that have less than 1 test interactions\n",
      "EvaluatorHoldout: Processed 35586 (100.0%) in 38.74 sec. Users per second: 919\n",
      "RP3betaRecommender: Similarity column 38121 (100.0%), 1885.06 column/sec. Elapsed time 20.22 sec\n",
      "EvaluatorHoldout: Ignoring 167 ( 0.5%) Users that have less than 1 test interactions\n",
      "EvaluatorHoldout: Processed 35569 (100.0%) in 38.51 sec. Users per second: 924\n",
      "RP3betaRecommender: Similarity column 38121 (100.0%), 1884.11 column/sec. Elapsed time 20.23 sec\n",
      "EvaluatorHoldout: Ignoring 172 ( 0.5%) Users that have less than 1 test interactions\n",
      "EvaluatorHoldout: Processed 35564 (100.0%) in 38.21 sec. Users per second: 931\n"
     ]
    },
    {
     "name": "stderr",
     "output_type": "stream",
     "text": [
      "[I 2025-01-07 09:57:04,637] Trial 232 finished with value: 0.2749445658438939 and parameters: {'topK': 59, 'alpha': 0.40620926566615306, 'beta': 0.2907447015245879, 'normalize_similarity': True, 'implicit': True}. Best is trial 232 with value: 0.2749445658438939.\n"
     ]
    },
    {
     "name": "stdout",
     "output_type": "stream",
     "text": [
      "RP3betaRecommender: Similarity column 38121 (100.0%), 1731.07 column/sec. Elapsed time 22.02 sec\n",
      "EvaluatorHoldout: Ignoring 173 ( 0.5%) Users that have less than 1 test interactions\n",
      "EvaluatorHoldout: Processed 35563 (100.0%) in 39.54 sec. Users per second: 899\n",
      "RP3betaRecommender: Similarity column 38121 (100.0%), 1730.13 column/sec. Elapsed time 22.03 sec\n",
      "EvaluatorHoldout: Ignoring 163 ( 0.5%) Users that have less than 1 test interactions\n",
      "EvaluatorHoldout: Processed 35573 (100.0%) in 39.64 sec. Users per second: 897\n",
      "RP3betaRecommender: Similarity column 38121 (100.0%), 1742.90 column/sec. Elapsed time 21.87 sec\n",
      "EvaluatorHoldout: Ignoring 150 ( 0.4%) Users that have less than 1 test interactions\n",
      "EvaluatorHoldout: Processed 35586 (100.0%) in 39.20 sec. Users per second: 908\n",
      "RP3betaRecommender: Similarity column 38121 (100.0%), 1683.58 column/sec. Elapsed time 22.64 sec\n",
      "EvaluatorHoldout: Ignoring 167 ( 0.5%) Users that have less than 1 test interactions\n",
      "EvaluatorHoldout: Processed 35569 (100.0%) in 39.61 sec. Users per second: 898\n",
      "RP3betaRecommender: Similarity column 38121 (100.0%), 1709.68 column/sec. Elapsed time 22.30 sec\n",
      "EvaluatorHoldout: Ignoring 172 ( 0.5%) Users that have less than 1 test interactions\n",
      "EvaluatorHoldout: Processed 35564 (100.0%) in 39.79 sec. Users per second: 894\n"
     ]
    },
    {
     "name": "stderr",
     "output_type": "stream",
     "text": [
      "[I 2025-01-07 10:02:34,744] Trial 233 finished with value: 0.27461574045388615 and parameters: {'topK': 94, 'alpha': 0.4018578820139517, 'beta': 0.24310946599415917, 'normalize_similarity': True, 'implicit': True}. Best is trial 232 with value: 0.2749445658438939.\n"
     ]
    },
    {
     "name": "stdout",
     "output_type": "stream",
     "text": [
      "RP3betaRecommender: Similarity column 38121 (100.0%), 1907.71 column/sec. Elapsed time 19.98 sec\n",
      "EvaluatorHoldout: Ignoring 173 ( 0.5%) Users that have less than 1 test interactions\n",
      "EvaluatorHoldout: Processed 35563 (100.0%) in 37.77 sec. Users per second: 942\n",
      "RP3betaRecommender: Similarity column 38121 (100.0%), 1890.25 column/sec. Elapsed time 20.17 sec\n",
      "EvaluatorHoldout: Ignoring 163 ( 0.5%) Users that have less than 1 test interactions\n",
      "EvaluatorHoldout: Processed 35573 (100.0%) in 38.09 sec. Users per second: 934\n",
      "RP3betaRecommender: Similarity column 38121 (100.0%), 1925.88 column/sec. Elapsed time 19.79 sec\n",
      "EvaluatorHoldout: Ignoring 150 ( 0.4%) Users that have less than 1 test interactions\n",
      "EvaluatorHoldout: Processed 35586 (100.0%) in 38.15 sec. Users per second: 933\n",
      "RP3betaRecommender: Similarity column 38121 (100.0%), 1953.69 column/sec. Elapsed time 19.51 sec\n",
      "EvaluatorHoldout: Ignoring 167 ( 0.5%) Users that have less than 1 test interactions\n",
      "EvaluatorHoldout: Processed 35569 (100.0%) in 37.50 sec. Users per second: 949\n",
      "RP3betaRecommender: Similarity column 38121 (100.0%), 1958.84 column/sec. Elapsed time 19.46 sec\n",
      "EvaluatorHoldout: Ignoring 172 ( 0.5%) Users that have less than 1 test interactions\n",
      "EvaluatorHoldout: Processed 35564 (100.0%) in 37.79 sec. Users per second: 941\n"
     ]
    },
    {
     "name": "stderr",
     "output_type": "stream",
     "text": [
      "[I 2025-01-07 10:07:36,830] Trial 234 finished with value: 0.2744431848032991 and parameters: {'topK': 53, 'alpha': 0.4261120426194824, 'beta': 0.2681702495785287, 'normalize_similarity': True, 'implicit': True}. Best is trial 232 with value: 0.2749445658438939.\n"
     ]
    },
    {
     "name": "stdout",
     "output_type": "stream",
     "text": [
      "RP3betaRecommender: Similarity column 38121 (100.0%), 1970.37 column/sec. Elapsed time 19.35 sec\n",
      "EvaluatorHoldout: Ignoring 173 ( 0.5%) Users that have less than 1 test interactions\n",
      "EvaluatorHoldout: Processed 35563 (100.0%) in 37.34 sec. Users per second: 952\n",
      "RP3betaRecommender: Similarity column 38121 (100.0%), 1957.32 column/sec. Elapsed time 19.48 sec\n",
      "EvaluatorHoldout: Ignoring 163 ( 0.5%) Users that have less than 1 test interactions\n",
      "EvaluatorHoldout: Processed 35573 (100.0%) in 37.58 sec. Users per second: 947\n",
      "RP3betaRecommender: Similarity column 38121 (100.0%), 1954.20 column/sec. Elapsed time 19.51 sec\n",
      "EvaluatorHoldout: Ignoring 150 ( 0.4%) Users that have less than 1 test interactions\n",
      "EvaluatorHoldout: Processed 35586 (100.0%) in 37.32 sec. Users per second: 954\n",
      "RP3betaRecommender: Similarity column 38121 (100.0%), 1967.69 column/sec. Elapsed time 19.37 sec\n",
      "EvaluatorHoldout: Ignoring 167 ( 0.5%) Users that have less than 1 test interactions\n",
      "EvaluatorHoldout: Processed 35569 (100.0%) in 37.39 sec. Users per second: 951\n",
      "RP3betaRecommender: Similarity column 38121 (100.0%), 1949.85 column/sec. Elapsed time 19.55 sec\n",
      "EvaluatorHoldout: Ignoring 172 ( 0.5%) Users that have less than 1 test interactions\n",
      "EvaluatorHoldout: Processed 35564 (100.0%) in 37.41 sec. Users per second: 951\n"
     ]
    },
    {
     "name": "stderr",
     "output_type": "stream",
     "text": [
      "[I 2025-01-07 10:12:34,143] Trial 235 finished with value: 0.27426357517791555 and parameters: {'topK': 51, 'alpha': 0.4213817544182969, 'beta': 0.24999244249236793, 'normalize_similarity': True, 'implicit': True}. Best is trial 232 with value: 0.2749445658438939.\n"
     ]
    },
    {
     "name": "stdout",
     "output_type": "stream",
     "text": [
      "RP3betaRecommender: Similarity column 38121 (100.0%), 1701.85 column/sec. Elapsed time 22.40 sec\n",
      "EvaluatorHoldout: Ignoring 173 ( 0.5%) Users that have less than 1 test interactions\n",
      "EvaluatorHoldout: Processed 35563 (100.0%) in 39.16 sec. Users per second: 908\n",
      "RP3betaRecommender: Similarity column 38121 (100.0%), 1703.87 column/sec. Elapsed time 22.37 sec\n",
      "EvaluatorHoldout: Ignoring 163 ( 0.5%) Users that have less than 1 test interactions\n",
      "EvaluatorHoldout: Processed 35573 (100.0%) in 39.82 sec. Users per second: 893\n",
      "RP3betaRecommender: Similarity column 38121 (100.0%), 1693.52 column/sec. Elapsed time 22.51 sec\n",
      "EvaluatorHoldout: Ignoring 150 ( 0.4%) Users that have less than 1 test interactions\n",
      "EvaluatorHoldout: Processed 35586 (100.0%) in 39.32 sec. Users per second: 905\n",
      "RP3betaRecommender: Similarity column 38121 (100.0%), 1700.67 column/sec. Elapsed time 22.42 sec\n",
      "EvaluatorHoldout: Ignoring 167 ( 0.5%) Users that have less than 1 test interactions\n",
      "EvaluatorHoldout: Processed 35569 (100.0%) in 39.26 sec. Users per second: 906\n",
      "RP3betaRecommender: Similarity column 38121 (100.0%), 1692.55 column/sec. Elapsed time 22.52 sec\n",
      "EvaluatorHoldout: Ignoring 172 ( 0.5%) Users that have less than 1 test interactions\n",
      "EvaluatorHoldout: Processed 35564 (100.0%) in 39.63 sec. Users per second: 897\n"
     ]
    },
    {
     "name": "stderr",
     "output_type": "stream",
     "text": [
      "[I 2025-01-07 10:18:06,020] Trial 236 finished with value: 0.2740802577133483 and parameters: {'topK': 104, 'alpha': 0.41711368488719336, 'beta': 0.21891687528353698, 'normalize_similarity': True, 'implicit': True}. Best is trial 232 with value: 0.2749445658438939.\n"
     ]
    },
    {
     "name": "stdout",
     "output_type": "stream",
     "text": [
      "RP3betaRecommender: Similarity column 38121 (100.0%), 2131.60 column/sec. Elapsed time 17.88 sec\n",
      "EvaluatorHoldout: Ignoring 173 ( 0.5%) Users that have less than 1 test interactions\n",
      "EvaluatorHoldout: Processed 35563 (100.0%) in 31.16 sec. Users per second: 1141\n",
      "RP3betaRecommender: Similarity column 38121 (100.0%), 2137.46 column/sec. Elapsed time 17.83 sec\n",
      "EvaluatorHoldout: Ignoring 163 ( 0.5%) Users that have less than 1 test interactions\n",
      "EvaluatorHoldout: Processed 35573 (100.0%) in 31.32 sec. Users per second: 1136\n",
      "RP3betaRecommender: Similarity column 38121 (100.0%), 2120.14 column/sec. Elapsed time 17.98 sec\n",
      "EvaluatorHoldout: Ignoring 150 ( 0.4%) Users that have less than 1 test interactions\n",
      "EvaluatorHoldout: Processed 35586 (100.0%) in 31.14 sec. Users per second: 1143\n",
      "RP3betaRecommender: Similarity column 38121 (100.0%), 2126.03 column/sec. Elapsed time 17.93 sec\n",
      "EvaluatorHoldout: Ignoring 167 ( 0.5%) Users that have less than 1 test interactions\n",
      "EvaluatorHoldout: Processed 35569 (100.0%) in 31.34 sec. Users per second: 1135\n",
      "RP3betaRecommender: Similarity column 38121 (100.0%), 2145.07 column/sec. Elapsed time 17.77 sec\n",
      "EvaluatorHoldout: Ignoring 172 ( 0.5%) Users that have less than 1 test interactions\n",
      "EvaluatorHoldout: Processed 35564 (100.0%) in 31.30 sec. Users per second: 1136\n"
     ]
    },
    {
     "name": "stderr",
     "output_type": "stream",
     "text": [
      "[I 2025-01-07 10:22:15,914] Trial 237 finished with value: 0.14458560254398423 and parameters: {'topK': 2, 'alpha': 0.5122957733643176, 'beta': 0.17482190383724885, 'normalize_similarity': True, 'implicit': True}. Best is trial 232 with value: 0.2749445658438939.\n"
     ]
    },
    {
     "name": "stdout",
     "output_type": "stream",
     "text": [
      "RP3betaRecommender: Similarity column 38121 (100.0%), 1950.12 column/sec. Elapsed time 19.55 sec\n",
      "EvaluatorHoldout: Ignoring 173 ( 0.5%) Users that have less than 1 test interactions\n",
      "EvaluatorHoldout: Processed 35563 (100.0%) in 37.40 sec. Users per second: 951\n",
      "RP3betaRecommender: Similarity column 38121 (100.0%), 1869.11 column/sec. Elapsed time 20.40 sec\n",
      "EvaluatorHoldout: Ignoring 163 ( 0.5%) Users that have less than 1 test interactions\n",
      "EvaluatorHoldout: Processed 35573 (100.0%) in 37.31 sec. Users per second: 954\n",
      "RP3betaRecommender: Similarity column 38121 (100.0%), 1960.39 column/sec. Elapsed time 19.45 sec\n",
      "EvaluatorHoldout: Ignoring 150 ( 0.4%) Users that have less than 1 test interactions\n",
      "EvaluatorHoldout: Processed 35586 (100.0%) in 37.28 sec. Users per second: 954\n",
      "RP3betaRecommender: Similarity column 38121 (100.0%), 1969.57 column/sec. Elapsed time 19.35 sec\n",
      "EvaluatorHoldout: Ignoring 167 ( 0.5%) Users that have less than 1 test interactions\n",
      "EvaluatorHoldout: Processed 35569 (100.0%) in 37.13 sec. Users per second: 958\n",
      "RP3betaRecommender: Similarity column 38121 (100.0%), 1964.46 column/sec. Elapsed time 19.41 sec\n",
      "EvaluatorHoldout: Ignoring 172 ( 0.5%) Users that have less than 1 test interactions\n",
      "EvaluatorHoldout: Processed 35564 (100.0%) in 37.33 sec. Users per second: 953\n"
     ]
    },
    {
     "name": "stderr",
     "output_type": "stream",
     "text": [
      "[I 2025-01-07 10:27:13,435] Trial 238 finished with value: 0.2737675582637068 and parameters: {'topK': 49, 'alpha': 0.4699001660162345, 'beta': 0.27854780254700084, 'normalize_similarity': True, 'implicit': True}. Best is trial 232 with value: 0.2749445658438939.\n"
     ]
    },
    {
     "name": "stdout",
     "output_type": "stream",
     "text": [
      "RP3betaRecommender: Similarity column 38121 (100.0%), 1790.88 column/sec. Elapsed time 21.29 sec\n",
      "EvaluatorHoldout: Ignoring 173 ( 0.5%) Users that have less than 1 test interactions\n",
      "EvaluatorHoldout: Processed 35563 (100.0%) in 38.78 sec. Users per second: 917\n",
      "RP3betaRecommender: Similarity column 38121 (100.0%), 1769.10 column/sec. Elapsed time 21.55 sec\n",
      "EvaluatorHoldout: Ignoring 163 ( 0.5%) Users that have less than 1 test interactions\n",
      "EvaluatorHoldout: Processed 35573 (100.0%) in 39.21 sec. Users per second: 907\n",
      "RP3betaRecommender: Similarity column 38121 (100.0%), 1756.91 column/sec. Elapsed time 21.70 sec\n",
      "EvaluatorHoldout: Ignoring 150 ( 0.4%) Users that have less than 1 test interactions\n",
      "EvaluatorHoldout: Processed 35586 (100.0%) in 39.39 sec. Users per second: 903\n",
      "RP3betaRecommender: Similarity column 38121 (100.0%), 1743.22 column/sec. Elapsed time 21.87 sec\n",
      "EvaluatorHoldout: Ignoring 167 ( 0.5%) Users that have less than 1 test interactions\n",
      "EvaluatorHoldout: Processed 35569 (100.0%) in 39.02 sec. Users per second: 912\n",
      "RP3betaRecommender: Similarity column 38121 (100.0%), 1768.75 column/sec. Elapsed time 21.55 sec\n",
      "EvaluatorHoldout: Ignoring 172 ( 0.5%) Users that have less than 1 test interactions\n",
      "EvaluatorHoldout: Processed 35564 (100.0%) in 38.82 sec. Users per second: 916\n"
     ]
    },
    {
     "name": "stderr",
     "output_type": "stream",
     "text": [
      "[I 2025-01-07 10:32:37,057] Trial 239 finished with value: 0.27475458707648936 and parameters: {'topK': 89, 'alpha': 0.3960124469371147, 'beta': 0.24741962584570232, 'normalize_similarity': True, 'implicit': True}. Best is trial 232 with value: 0.2749445658438939.\n"
     ]
    },
    {
     "name": "stdout",
     "output_type": "stream",
     "text": [
      "RP3betaRecommender: Similarity column 38121 (100.0%), 1529.34 column/sec. Elapsed time 24.93 sec\n",
      "EvaluatorHoldout: Ignoring 173 ( 0.5%) Users that have less than 1 test interactions\n",
      "EvaluatorHoldout: Processed 35563 (100.0%) in 41.11 sec. Users per second: 865\n",
      "RP3betaRecommender: Similarity column 38121 (100.0%), 1508.32 column/sec. Elapsed time 25.27 sec\n",
      "EvaluatorHoldout: Ignoring 163 ( 0.5%) Users that have less than 1 test interactions\n",
      "EvaluatorHoldout: Processed 35573 (100.0%) in 41.84 sec. Users per second: 850\n",
      "RP3betaRecommender: Similarity column 38121 (100.0%), 1526.76 column/sec. Elapsed time 24.97 sec\n",
      "EvaluatorHoldout: Ignoring 150 ( 0.4%) Users that have less than 1 test interactions\n",
      "EvaluatorHoldout: Processed 35586 (100.0%) in 41.61 sec. Users per second: 855\n",
      "RP3betaRecommender: Similarity column 38121 (100.0%), 1514.10 column/sec. Elapsed time 25.18 sec\n",
      "EvaluatorHoldout: Ignoring 167 ( 0.5%) Users that have less than 1 test interactions\n",
      "EvaluatorHoldout: Processed 35569 (100.0%) in 41.31 sec. Users per second: 861\n",
      "RP3betaRecommender: Similarity column 38121 (100.0%), 1529.88 column/sec. Elapsed time 24.92 sec\n",
      "EvaluatorHoldout: Ignoring 172 ( 0.5%) Users that have less than 1 test interactions\n",
      "EvaluatorHoldout: Processed 35564 (100.0%) in 41.39 sec. Users per second: 859\n"
     ]
    },
    {
     "name": "stderr",
     "output_type": "stream",
     "text": [
      "[I 2025-01-07 10:38:42,724] Trial 240 finished with value: 0.2430345610103722 and parameters: {'topK': 152, 'alpha': 0.33796399223148255, 'beta': 0.2875158834047642, 'normalize_similarity': False, 'implicit': True}. Best is trial 232 with value: 0.2749445658438939.\n"
     ]
    },
    {
     "name": "stdout",
     "output_type": "stream",
     "text": [
      "RP3betaRecommender: Similarity column 38121 (100.0%), 1779.77 column/sec. Elapsed time 21.42 sec\n",
      "EvaluatorHoldout: Ignoring 173 ( 0.5%) Users that have less than 1 test interactions\n",
      "EvaluatorHoldout: Processed 35563 (100.0%) in 38.92 sec. Users per second: 914\n",
      "RP3betaRecommender: Similarity column 38121 (100.0%), 1755.14 column/sec. Elapsed time 21.72 sec\n",
      "EvaluatorHoldout: Ignoring 163 ( 0.5%) Users that have less than 1 test interactions\n",
      "EvaluatorHoldout: Processed 35573 (100.0%) in 39.00 sec. Users per second: 912\n",
      "RP3betaRecommender: Similarity column 38121 (100.0%), 1787.66 column/sec. Elapsed time 21.32 sec\n",
      "EvaluatorHoldout: Ignoring 150 ( 0.4%) Users that have less than 1 test interactions\n",
      "EvaluatorHoldout: Processed 35586 (100.0%) in 39.21 sec. Users per second: 908\n",
      "RP3betaRecommender: Similarity column 38121 (100.0%), 1778.32 column/sec. Elapsed time 21.44 sec\n",
      "EvaluatorHoldout: Ignoring 167 ( 0.5%) Users that have less than 1 test interactions\n",
      "EvaluatorHoldout: Processed 35569 (100.0%) in 39.39 sec. Users per second: 903\n",
      "RP3betaRecommender: Similarity column 38121 (100.0%), 1751.62 column/sec. Elapsed time 21.76 sec\n",
      "EvaluatorHoldout: Ignoring 172 ( 0.5%) Users that have less than 1 test interactions\n",
      "EvaluatorHoldout: Processed 35564 (100.0%) in 39.25 sec. Users per second: 906\n"
     ]
    },
    {
     "name": "stderr",
     "output_type": "stream",
     "text": [
      "[I 2025-01-07 10:44:05,506] Trial 241 finished with value: 0.27474071666070615 and parameters: {'topK': 85, 'alpha': 0.4159229303329523, 'beta': 0.22850961956783675, 'normalize_similarity': True, 'implicit': True}. Best is trial 232 with value: 0.2749445658438939.\n"
     ]
    },
    {
     "name": "stdout",
     "output_type": "stream",
     "text": [
      "RP3betaRecommender: Similarity column 38121 (100.0%), 1694.66 column/sec. Elapsed time 22.49 sec\n",
      "EvaluatorHoldout: Ignoring 173 ( 0.5%) Users that have less than 1 test interactions\n",
      "EvaluatorHoldout: Processed 35563 (100.0%) in 39.50 sec. Users per second: 900\n",
      "RP3betaRecommender: Similarity column 38121 (100.0%), 1707.45 column/sec. Elapsed time 22.33 sec\n",
      "EvaluatorHoldout: Ignoring 163 ( 0.5%) Users that have less than 1 test interactions\n",
      "EvaluatorHoldout: Processed 35573 (100.0%) in 39.22 sec. Users per second: 907\n",
      "RP3betaRecommender: Similarity column 38121 (100.0%), 1703.77 column/sec. Elapsed time 22.37 sec\n",
      "EvaluatorHoldout: Ignoring 150 ( 0.4%) Users that have less than 1 test interactions\n",
      "EvaluatorHoldout: Processed 35586 (100.0%) in 39.06 sec. Users per second: 911\n",
      "RP3betaRecommender: Similarity column 38121 (100.0%), 1713.04 column/sec. Elapsed time 22.25 sec\n",
      "EvaluatorHoldout: Ignoring 167 ( 0.5%) Users that have less than 1 test interactions\n",
      "EvaluatorHoldout: Processed 35569 (100.0%) in 39.37 sec. Users per second: 903\n",
      "RP3betaRecommender: Similarity column 38121 (100.0%), 1720.37 column/sec. Elapsed time 22.16 sec\n",
      "EvaluatorHoldout: Ignoring 172 ( 0.5%) Users that have less than 1 test interactions\n",
      "EvaluatorHoldout: Processed 35564 (100.0%) in 39.12 sec. Users per second: 909\n"
     ]
    },
    {
     "name": "stderr",
     "output_type": "stream",
     "text": [
      "[I 2025-01-07 10:49:34,527] Trial 242 finished with value: 0.27389496443877126 and parameters: {'topK': 99, 'alpha': 0.40910490419516277, 'beta': 0.17210861467929514, 'normalize_similarity': True, 'implicit': True}. Best is trial 232 with value: 0.2749445658438939.\n"
     ]
    },
    {
     "name": "stdout",
     "output_type": "stream",
     "text": [
      "RP3betaRecommender: Similarity column 38121 (100.0%), 1640.15 column/sec. Elapsed time 23.24 sec\n",
      "EvaluatorHoldout: Ignoring 173 ( 0.5%) Users that have less than 1 test interactions\n",
      "EvaluatorHoldout: Processed 35563 (100.0%) in 40.74 sec. Users per second: 873\n",
      "RP3betaRecommender: Similarity column 38121 (100.0%), 1607.03 column/sec. Elapsed time 23.72 sec\n",
      "EvaluatorHoldout: Ignoring 163 ( 0.5%) Users that have less than 1 test interactions\n",
      "EvaluatorHoldout: Processed 35573 (100.0%) in 40.55 sec. Users per second: 877\n",
      "RP3betaRecommender: Similarity column 38121 (100.0%), 1639.86 column/sec. Elapsed time 23.25 sec\n",
      "EvaluatorHoldout: Ignoring 150 ( 0.4%) Users that have less than 1 test interactions\n",
      "EvaluatorHoldout: Processed 35586 (100.0%) in 40.79 sec. Users per second: 872\n",
      "RP3betaRecommender: Similarity column 38121 (100.0%), 1634.41 column/sec. Elapsed time 23.32 sec\n",
      "EvaluatorHoldout: Ignoring 167 ( 0.5%) Users that have less than 1 test interactions\n",
      "EvaluatorHoldout: Processed 35569 (100.0%) in 40.23 sec. Users per second: 884\n",
      "RP3betaRecommender: Similarity column 38121 (100.0%), 1627.13 column/sec. Elapsed time 23.43 sec\n",
      "EvaluatorHoldout: Ignoring 172 ( 0.5%) Users that have less than 1 test interactions\n",
      "EvaluatorHoldout: Processed 35564 (100.0%) in 40.29 sec. Users per second: 883\n"
     ]
    },
    {
     "name": "stderr",
     "output_type": "stream",
     "text": [
      "[I 2025-01-07 10:55:20,840] Trial 243 finished with value: 0.2729666129420351 and parameters: {'topK': 120, 'alpha': 0.37856065223759766, 'beta': 0.29135874615645324, 'normalize_similarity': True, 'implicit': True}. Best is trial 232 with value: 0.2749445658438939.\n"
     ]
    },
    {
     "name": "stdout",
     "output_type": "stream",
     "text": [
      "RP3betaRecommender: Similarity column 38121 (100.0%), 1778.52 column/sec. Elapsed time 21.43 sec\n",
      "EvaluatorHoldout: Ignoring 173 ( 0.5%) Users that have less than 1 test interactions\n",
      "EvaluatorHoldout: Processed 35563 (100.0%) in 38.83 sec. Users per second: 916\n",
      "RP3betaRecommender: Similarity column 38121 (100.0%), 1761.76 column/sec. Elapsed time 21.64 sec\n",
      "EvaluatorHoldout: Ignoring 163 ( 0.5%) Users that have less than 1 test interactions\n",
      "EvaluatorHoldout: Processed 35573 (100.0%) in 38.56 sec. Users per second: 923\n",
      "RP3betaRecommender: Similarity column 38121 (100.0%), 1777.47 column/sec. Elapsed time 21.45 sec\n",
      "EvaluatorHoldout: Ignoring 150 ( 0.4%) Users that have less than 1 test interactions\n",
      "EvaluatorHoldout: Processed 35586 (100.0%) in 39.10 sec. Users per second: 910\n",
      "RP3betaRecommender: Similarity column 38121 (100.0%), 1776.39 column/sec. Elapsed time 21.46 sec\n",
      "EvaluatorHoldout: Ignoring 167 ( 0.5%) Users that have less than 1 test interactions\n",
      "EvaluatorHoldout: Processed 35569 (100.0%) in 38.55 sec. Users per second: 923\n",
      "RP3betaRecommender: Similarity column 38121 (100.0%), 1759.83 column/sec. Elapsed time 21.66 sec\n",
      "EvaluatorHoldout: Ignoring 172 ( 0.5%) Users that have less than 1 test interactions\n",
      "EvaluatorHoldout: Processed 35564 (100.0%) in 39.25 sec. Users per second: 906\n"
     ]
    },
    {
     "name": "stderr",
     "output_type": "stream",
     "text": [
      "[I 2025-01-07 11:00:41,314] Trial 244 finished with value: 0.2740637121052659 and parameters: {'topK': 85, 'alpha': 0.28323595456659134, 'beta': 0.22380755688676962, 'normalize_similarity': True, 'implicit': True}. Best is trial 232 with value: 0.2749445658438939.\n"
     ]
    }
   ],
   "source": [
    "if config['tune_parameters']:\n",
    "    \n",
    "    optuna_study = optuna.create_study(direction='maximize', study_name=f'hyperparameters_tuning_{config[\"model\"]}_{config[\"metric\"]}',\n",
    "                                storage=f'sqlite:///{config[\"database_path\"]}', load_if_exists=True)\n",
    "\n",
    "    optuna_study.optimize(objective_function_RP3beta, timeout=3600 * 11 + 60 * 45)"
   ]
  },
  {
   "cell_type": "markdown",
   "id": "7dc8b1ef",
   "metadata": {
    "papermill": {
     "duration": 0.141433,
     "end_time": "2025-01-07T11:00:41.689078",
     "exception": false,
     "start_time": "2025-01-07T11:00:41.547645",
     "status": "completed"
    },
    "tags": []
   },
   "source": [
    "## Some optuna visualizations on recommender parameters"
   ]
  },
  {
   "cell_type": "code",
   "execution_count": 14,
   "id": "c4b74b21",
   "metadata": {
    "execution": {
     "iopub.execute_input": "2025-01-07T11:00:41.961880Z",
     "iopub.status.busy": "2025-01-07T11:00:41.961241Z",
     "iopub.status.idle": "2025-01-07T11:00:43.413273Z",
     "shell.execute_reply": "2025-01-07T11:00:43.411847Z"
    },
    "papermill": {
     "duration": 1.590663,
     "end_time": "2025-01-07T11:00:43.415407",
     "exception": false,
     "start_time": "2025-01-07T11:00:41.824744",
     "status": "completed"
    },
    "tags": []
   },
   "outputs": [
    {
     "data": {
      "text/html": [
       "<html>\n",
       "<head><meta charset=\"utf-8\" /></head>\n",
       "<body>\n",
       "    <div>            <script src=\"https://cdnjs.cloudflare.com/ajax/libs/mathjax/2.7.5/MathJax.js?config=TeX-AMS-MML_SVG\"></script><script type=\"text/javascript\">if (window.MathJax && window.MathJax.Hub && window.MathJax.Hub.Config) {window.MathJax.Hub.Config({SVG: {font: \"STIX-Web\"}});}</script>                <script type=\"text/javascript\">window.PlotlyConfig = {MathJaxConfig: 'local'};</script>\n",
       "        <script charset=\"utf-8\" src=\"https://cdn.plot.ly/plotly-2.35.2.min.js\"></script>                <div id=\"ab535c3f-ac5f-47be-8967-1bc8e5c24d3d\" class=\"plotly-graph-div\" style=\"height:525px; width:1500px;\"></div>            <script type=\"text/javascript\">                                    window.PLOTLYENV=window.PLOTLYENV || {};                                    if (document.getElementById(\"ab535c3f-ac5f-47be-8967-1bc8e5c24d3d\")) {                    Plotly.newPlot(                        \"ab535c3f-ac5f-47be-8967-1bc8e5c24d3d\",                        [{\"marker\":{\"color\":[0,1,2,3,4,5,6,7,8,9,10,11,12,13,14,15,16,17,18,19,20,21,22,23,24,25,26,27,28,29,30,31,32,33,34,35,36,37,38,39,40,41,42,43,44,45,46,47,48,49,50,51,52,53,54,55,56,57,58,59,60,61,62,63,64,65,66,67,68,69,70,71,72,73,74,75,76,77,78,79,80,81,82,83,84,85,86,87,88,89,90,91,92,93,94,95,96,97,98,99,100,101,102,103,104,105,106,107,108,109,110,111,112,113,114,115,116,117,118,119,120,121,122,123,124,125,126,127,128,129,130,131,132,133,134,135,136,137,138,139,140,141,142,143,144,145,146,147,148,149,150,151,152,153,154,155,156,157,158,159,160,161,162,163,164,165,166,167,168,169,170,171,172,173,174,175,176,177,178,179,180,181,182,183,184,185,186,187,188,189,190,191,192,193,194,195,196,197,198,199,200,201,202,203,204,205,206,207,208,209,210,211,212,213,214,215,216,217,218,219,220,221,222,223,224,225,226,227,228,229,230,231,232,233,234,235,236,237,238,239,240,241,242,243,244],\"colorbar\":{\"title\":{\"text\":\"Trial\"},\"x\":1.0,\"xpad\":40},\"colorscale\":[[0.0,\"rgb(247,251,255)\"],[0.125,\"rgb(222,235,247)\"],[0.25,\"rgb(198,219,239)\"],[0.375,\"rgb(158,202,225)\"],[0.5,\"rgb(107,174,214)\"],[0.625,\"rgb(66,146,198)\"],[0.75,\"rgb(33,113,181)\"],[0.875,\"rgb(8,81,156)\"],[1.0,\"rgb(8,48,107)\"]],\"line\":{\"color\":\"Grey\",\"width\":0.5},\"showscale\":true},\"mode\":\"markers\",\"name\":\"Feasible Trial\",\"showlegend\":false,\"x\":[0.7872248425679264,1.1755618354661312,1.1163282637041108,2.483855331512362,1.8750827915170507,2.8875196996829917,0.16406539371838424,1.0686873403840846,0.6695906502551549,2.7082033418197886,0.048969518920117694,2.050708935361088,1.7825580424497636,1.6758217369416242,0.5510642864465204,2.213702604419429,1.4695260047873941,1.3762439811918932,0.44971409729831285,0.6864725748780408,1.4654351611410696,1.436621158938125,0.9420034332250317,1.021800195033113,0.9245801256325707,0.9622601759616628,0.40167478623879616,0.8817503863405146,0.3285817357393349,1.235236212061744,0.9143594857335409,0.32447188358543516,0.7722074280624172,0.7762438165539307,1.1620724305606407,1.2555856246686878,1.013091402677313,0.5504867849687161,0.8071612691907473,1.6593118549113253,1.077340703633102,0.7390866306356115,0.6232765168203701,0.19182407313590555,0.5867066832633003,0.5986061153866342,0.19622594947104632,0.693919248830864,0.49084486093607693,1.3074862613720277,1.1360743349598772,0.7724725946659237,0.6384127374188945,0.011334134798649309,0.6824903970357978,0.3433886930741611,0.7145983551048152,0.8013495754579187,0.481241214202978,2.9529416944982954,0.5970346271542373,0.472095249040418,0.22408239312859418,1.0261524338790096,0.8742511795732935,0.6634888955263277,0.41613470250093576,2.4708529190417696,0.6937541099609542,0.6353382502758587,0.07393123396582368,0.6226139910447026,0.28127997551838335,0.5135677746151648,0.8407942671470163,0.5336700562660341,0.632778255170745,0.5185804877411504,0.36744683628581454,0.10454225931544558,0.5499395641040229,0.6261687334054726,0.41976336900687505,0.6393847735566666,0.9517288886569706,0.7657834679531135,0.27999637059795823,0.5249919886682413,0.49939520906218937,0.4076642418661145,0.3848396850925943,0.6273101122120969,0.5516573304727697,0.28592324866693275,0.13629605938614986,0.26607036842925946,0.31110622998249055,0.12699020224878152,0.0944869108967602,0.11935022996958089,0.14582486480723655,0.13932562143130642,0.15299166572645617,0.1323169353590305,0.16379536223248403,0.1501578166226175,0.14010593278352787,0.1489398350359908,0.14106170445164823,0.023084049897382747,0.14992006339506947,0.1691042865636652,0.2305440992128362,0.23215725154025924,0.0014754410470579626,0.21737143036346682,0.22327975333508107,0.22173991690453917,0.008703354667973062,0.005967856720112408,0.2349586128829164,0.20673595119324567,0.2274576241331156,0.23906626286917063,0.23187489873725164,0.2214857712266538,0.23325178685407366,0.23912679212181043,0.34798674471190016,0.22776717668108312,0.24415020267172377,0.3332169091177499,0.32966058212904803,0.33915837815636773,0.31027198001066586,0.32223825938159056,0.4399501413388889,0.35893592145720077,0.3441915559380407,0.3526127469074982,0.4460176990197343,0.4330901422585578,0.4371399666943234,0.3304719075400612,0.32203618641592063,0.4378348602872351,0.44611794485505774,0.43172500365646166,2.0529662847838805,0.3868514277791429,0.3240893093884364,0.3165730836794529,0.3178451643716313,0.32122639581952317,0.3082207013497241,0.34256790548437455,0.3468808845859127,0.477323659365557,0.3989327034040363,0.3893435729545611,0.3842036561012722,0.3922312163116681,0.47119801665236366,0.47553193390733733,0.48534716561902513,0.49578720458258463,0.40893596349333056,0.5480989713765878,0.46165684316857236,0.585694034997585,0.398845332298145,0.5568860992420746,0.4892577390914412,1.6400719203901655,0.47404366498430206,0.39116131971494356,0.49156583755624395,2.7466054371969366,0.37597019268376475,0.4325074996250769,0.4947384098098259,0.568169843813149,0.5254830279636589,0.3696406922013337,0.28335601635336416,0.43961345429497434,0.28530867137455107,0.29614165552425065,0.37472096115637843,0.45265116088713997,0.29660577902503227,0.5059279735313754,0.37464545605924504,0.5040050290167393,0.43390439113036616,0.36840925091041316,0.41335971796142473,0.28741950057512533,0.4369329700743234,0.41575903585032653,0.5800641921574343,0.33811896951721454,0.45640899013680786,0.4510554997250445,0.5170183830881556,0.4644029876699326,0.44597010110068336,0.5826225101244916,0.41565572443148124,0.5323067459568374,0.6870714392682402,2.3880353470323055,0.3687927174035428,0.35509009371955624,0.38803025327896634,0.4481012016675714,0.4495072892615451,0.34891135234508575,0.4250093828737653,0.47278904306988195,0.38556900669315736,0.35433956261025346,0.38532935911044996,0.36446885251192296,0.360115365320358,0.30024533359582567,0.36652082430166777,0.275988838902446,0.3835723243443511,0.35080418332779956,0.28632033316409233,0.3993895014441001,0.40620926566615306,0.4018578820139517,0.4261120426194824,0.4213817544182969,0.41711368488719336,0.5122957733643176,0.4699001660162345,0.3960124469371147,0.33796399223148255,0.4159229303329523,0.40910490419516277,0.37856065223759766,0.28323595456659134],\"y\":[0.17881519376268692,0.07049783718854735,0.15015339954653534,0.05164833713622284,0.22774372575215143,0.19850813446465515,0.20930764973429455,0.10710652770386053,0.24495279257735167,0.0720485490024785,0.039675506488837685,0.22403984904166205,0.23158865052648753,0.22497086394432309,0.11017174970731809,0.2140059018073172,0.23948019953628957,0.23706304954441734,0.12431414585322025,0.09203791651329986,0.2216763594838938,0.24604740066272907,0.2568078292746356,0.2570420795673928,0.2559197250148196,0.0055265346604531345,0.2305459884646643,0.171074471770536,0.24622497184535116,0.19194071938150972,0.12497649975422127,0.24541309552940227,0.25238394185118757,0.2562353495088586,0.23583728184822586,0.2488446503193545,0.059577977624616626,0.08863984101253644,0.06614963183525802,0.24146526939621832,0.1572851347775057,0.2574196837696373,0.25843371022881273,0.21810690395405025,0.2564993091259435,0.24037186358222304,0.1755520180670244,0.2491499731300315,0.25615269327370244,0.2445166691279245,0.21708881819076406,0.2581406319442995,0.2578177442780386,0.22452264731762006,0.2572125593844393,0.2250646354079108,0.2566159310175874,0.24126441348305963,0.257017365052029,0.19290510710621595,0.1402246271483521,0.25730551884324837,0.2484075400793111,0.2472394054385214,0.21912343024659076,0.2603907342916768,0.25080453675496367,0.12439665411202383,0.24311265823842998,0.2597111131657079,0.2482078441997996,0.260274141750743,0.2546961481696551,0.2610588766069556,0.24710463323018156,0.2597401052332221,0.2594764890180551,0.0895357227607468,0.2572440131569412,0.07828240413086164,0.07411785307166423,0.2577642548591495,0.2548987341465431,0.2598086154091841,0.24837579721530173,0.23941590564284893,0.2521952469012256,0.2623028727705525,0.2134468368000107,0.2633331171076826,0.20137743759548227,0.25992950015242017,0.24990282239030265,0.26262477403304146,0.2697004580068999,0.24581669657576682,0.25843809616949814,0.2690007949382341,0.20685486064347103,0.26622231473874064,0.26624193081289904,0.2676315519636901,0.2665315385704655,0.26672264906848075,0.26735603622511317,0.2660921809187792,0.26670839198260315,0.2643850484135111,0.2640418116749116,0.2573911809943833,0.07702061890691074,0.26671294965799897,0.27071976090625416,0.27138823403642065,0.2677164551857524,0.27188525731966995,0.2718533501189715,0.2718312689908628,0.26790289261723665,0.20537685084660667,0.27132057497870404,0.2724582734531121,0.27224701766333076,0.27119340214206755,0.2730729651320056,0.2636100196647523,0.2700135462740574,0.26857504519221986,0.2674352232684075,0.269090192682378,0.26865093457692557,0.274466502035252,0.2746343609220171,0.27408906890590296,0.2728339438111362,0.27326357779686716,0.27418791873796133,0.2741989861707087,0.2731660517284643,0.25177978719762967,0.2741470703787712,0.27437062163935894,0.1935768474585204,0.27444782531414974,0.2719997006994213,0.27262867556918563,0.26931587095318293,0.27081040905367926,0.2094527545627201,0.0055265346604531345,0.27425134840714155,0.27393464532311373,0.27276180434050684,0.2728582181385085,0.2670973874156276,0.27462879640357285,0.26601328496779125,0.2675869833971017,0.27482516620598896,0.06883935030932009,0.274743700331999,0.2742470200754231,0.274469789477771,0.274196293445024,0.2743832120748431,0.2697522975571881,0.08624865775505883,0.27374836924428136,0.27144195215986267,0.27284929905645666,0.10858816358970087,0.27292186518335326,0.2738706836907917,0.23661115508745545,0.26434001449912764,0.27374328938388065,0.2717611247559212,0.07962612844363695,0.27298797123386304,0.26980861472786366,0.26636772329040614,0.27360938988831285,0.27144607313984337,0.27330466678768806,0.27398712505138906,0.26673122054748155,0.26817552689357765,0.27110400153127723,0.25558576934444843,0.2704313077667611,0.19436244702553057,0.2741287543654195,0.27263566891809504,0.2720335810663956,0.27444047350946715,0.272017474951081,0.2733581210096298,0.2632330505604079,0.2745224606591807,0.25075553842626624,0.2697609237866902,0.27231998425934234,0.2745412293755888,0.2743436262107919,0.2734945289107281,0.2728481718908086,0.10459123248791899,0.2650363402899342,0.27019982283260535,0.27367310255794364,0.26969149786073554,0.20189710298963287,0.27480190824187223,0.274895885765578,0.22414272998112866,0.27458161669968306,0.273532782375857,0.27363947994544124,0.2709906301520028,0.2737504573614376,0.27493124419538123,0.27486187569646325,0.274939235807098,0.274732622118252,0.26707194026189934,0.272121105821455,0.2740547329643394,0.2741546148354948,0.24629578349102005,0.2697935348630741,0.26988879901572344,0.2745890065699089,0.2749445658438939,0.27461574045388615,0.2744431848032991,0.27426357517791555,0.2740802577133483,0.14458560254398423,0.2737675582637068,0.27475458707648936,0.2430345610103722,0.27474071666070615,0.27389496443877126,0.2729666129420351,0.2740637121052659],\"type\":\"scatter\",\"xaxis\":\"x\",\"yaxis\":\"y\"},{\"marker\":{\"color\":[0,1,2,3,4,5,6,7,8,9,10,11,12,13,14,15,16,17,18,19,20,21,22,23,24,25,26,27,28,29,30,31,32,33,34,35,36,37,38,39,40,41,42,43,44,45,46,47,48,49,50,51,52,53,54,55,56,57,58,59,60,61,62,63,64,65,66,67,68,69,70,71,72,73,74,75,76,77,78,79,80,81,82,83,84,85,86,87,88,89,90,91,92,93,94,95,96,97,98,99,100,101,102,103,104,105,106,107,108,109,110,111,112,113,114,115,116,117,118,119,120,121,122,123,124,125,126,127,128,129,130,131,132,133,134,135,136,137,138,139,140,141,142,143,144,145,146,147,148,149,150,151,152,153,154,155,156,157,158,159,160,161,162,163,164,165,166,167,168,169,170,171,172,173,174,175,176,177,178,179,180,181,182,183,184,185,186,187,188,189,190,191,192,193,194,195,196,197,198,199,200,201,202,203,204,205,206,207,208,209,210,211,212,213,214,215,216,217,218,219,220,221,222,223,224,225,226,227,228,229,230,231,232,233,234,235,236,237,238,239,240,241,242,243,244],\"colorbar\":{\"title\":{\"text\":\"Trial\"},\"x\":1.0,\"xpad\":40},\"colorscale\":[[0.0,\"rgb(247,251,255)\"],[0.125,\"rgb(222,235,247)\"],[0.25,\"rgb(198,219,239)\"],[0.375,\"rgb(158,202,225)\"],[0.5,\"rgb(107,174,214)\"],[0.625,\"rgb(66,146,198)\"],[0.75,\"rgb(33,113,181)\"],[0.875,\"rgb(8,81,156)\"],[1.0,\"rgb(8,48,107)\"]],\"line\":{\"color\":\"Grey\",\"width\":0.5},\"showscale\":false},\"mode\":\"markers\",\"name\":\"Feasible Trial\",\"showlegend\":false,\"x\":[0.9319407549297373,2.3266995300863638,1.0873327756296318,2.1878486922503257,0.36997841083765837,0.05048912427567598,0.7729643585861036,1.5195379393708535,0.004738302038190256,0.8422553986382529,2.9941293644121303,0.13138531513216567,0.35937332044020237,0.5213053232014122,1.472083378875662,0.009040387456045842,0.45949261168052347,0.5434021959870575,1.2703469084983272,1.8104015445421477,0.634288584749784,0.28917011865645975,0.27331474679825113,0.3600178409484427,0.3095349605432491,1.1113847808909836,0.713547845024147,0.9900273005680644,0.22988964174778231,0.8559327989093117,1.3233508195792136,0.22531834304835008,0.24135199464441248,0.5211171804167264,0.6290756060172908,0.4288603845350034,2.8636514704896316,1.8759194628369964,2.559171280129761,0.15679249698045072,1.0228335529757997,0.352036071077502,0.43562561397413896,0.7067067746061293,0.5293307262826673,0.1081607179355294,0.8698095921664408,0.5953655557361855,0.3561006575048732,0.4686364711876747,0.7578068569217337,0.4437004064973783,0.3753627556999712,0.12191510024113483,0.3524359322941919,0.006237051919884329,0.40815855357077835,0.6771266634534896,0.3880081272967884,0.17707484083231811,1.1687366137047008,0.4111357979975982,0.35515907016435794,0.57595206983686,0.7890104234202606,0.4794867867105732,0.4778810140793973,0.9475617647362355,0.0993451580352388,0.2723247630731207,0.2508126893960675,0.3081424443783267,0.26941544670837353,0.45267345202175546,0.618096813937741,0.49891088294326175,0.5076366795671151,1.8209984481725778,0.48642734416071054,1.6366430780450094,2.2263050155563047,0.20545061504486503,0.5567407852846205,0.3055085148340889,0.07252883125769854,0.6861050212367599,0.29898252512562956,0.473901651369993,0.7924150304689161,0.5445060325931179,0.8791909228521939,0.5230695399372476,0.6182426655282539,0.5293833613967177,0.314149706260762,0.6613565713085199,0.5525913338493675,0.17788910146802878,0.17338583728990464,0.05208102552424443,0.0788615794316535,0.044696870552054346,0.056472638373946796,0.03837037751128808,0.04669181223151664,0.0020961463860626334,0.03603108432130191,0.038955962152516094,0.03928541759951828,0.0035619582053418516,0.06851503759510771,0.049030077436904296,0.13493436612525023,0.14491843369835902,0.14341828299866666,0.13596677858103967,0.12393662088389909,0.14525053654784514,0.1421409320701682,0.14546365135336128,0.20105940531115948,0.20323642898951874,0.21203580885946333,0.210327283356379,0.2036985298652056,0.2133515467056503,0.2056460828923438,0.21573991203113863,0.19431741206076053,0.2713035630695714,0.25629931203960454,0.3302896650024042,0.3123315238736174,0.3423541146225434,0.12688064752605363,0.13941524359756824,0.3462189077351412,0.3462021505268129,0.38646137054928864,0.3733496832157543,0.3376974209155975,0.33306519869624,0.33617191782255745,0.330364058053902,0.4169346574428836,0.4036591779831616,0.3860632020481599,0.33315871642803874,0.43199246788971374,0.2863937742890921,0.33293655151559737,0.34602601901738816,0.38740155965366546,0.38791519369330224,0.3519657313288697,0.3142434246331335,0.2950995486926906,0.44811428475055487,0.26010953597098857,2.627134465158406,0.26762041091527855,0.31739835229569224,0.28515060696930056,0.3135667676728947,0.2895812485307754,0.3136423994999688,2.0297040158042305,0.2747315118945971,0.2644723416511638,0.3247371658445636,0.4361089418087129,0.28355877332910195,0.3331817789284777,0.345360359546883,0.46364940500616614,0.34171890799330606,0.2712415066016478,1.3554293759402785,0.24899854905205332,0.4605958072327633,0.3381532794544751,0.2750314107594869,0.40173676381797296,0.24888230100007905,0.33169543329179296,0.50756968844318,0.32846390564715044,0.4301413342521887,0.3592878145694721,0.23782754618807844,0.5850003402680322,0.2962092197418736,0.30433471723454913,0.3898130813738546,0.3228109425571514,0.23950758010156806,0.3823036576751499,0.4939477982018148,0.30871196294194164,0.29176404842960074,0.1939595709175036,0.4055235904007426,0.31437362691173387,0.238716586767897,0.2338418311909396,0.2897868376344232,1.6580370613578512,0.23582052601888054,0.4368985090190147,0.1930864122932751,0.31449655609406624,0.35766921350670833,0.2846030854144206,0.26006837402977817,0.25643790176722436,0.2800105946496581,0.2104954237384254,0.18878807539631162,0.4097127737441175,0.25972530772887215,0.2979309262387038,0.3031710289386356,0.2749203274927497,0.2704567332320949,0.15558783495494563,0.2577441466989046,0.2063569184372454,0.27873769743536203,0.16393894558277972,0.3695958072619327,0.10603506150808978,0.29400614019321364,0.2907447015245879,0.24310946599415917,0.2681702495785287,0.24999244249236793,0.21891687528353698,0.17482190383724885,0.27854780254700084,0.24741962584570232,0.2875158834047642,0.22850961956783675,0.17210861467929514,0.29135874615645324,0.22380755688676962],\"y\":[0.17881519376268692,0.07049783718854735,0.15015339954653534,0.05164833713622284,0.22774372575215143,0.19850813446465515,0.20930764973429455,0.10710652770386053,0.24495279257735167,0.0720485490024785,0.039675506488837685,0.22403984904166205,0.23158865052648753,0.22497086394432309,0.11017174970731809,0.2140059018073172,0.23948019953628957,0.23706304954441734,0.12431414585322025,0.09203791651329986,0.2216763594838938,0.24604740066272907,0.2568078292746356,0.2570420795673928,0.2559197250148196,0.0055265346604531345,0.2305459884646643,0.171074471770536,0.24622497184535116,0.19194071938150972,0.12497649975422127,0.24541309552940227,0.25238394185118757,0.2562353495088586,0.23583728184822586,0.2488446503193545,0.059577977624616626,0.08863984101253644,0.06614963183525802,0.24146526939621832,0.1572851347775057,0.2574196837696373,0.25843371022881273,0.21810690395405025,0.2564993091259435,0.24037186358222304,0.1755520180670244,0.2491499731300315,0.25615269327370244,0.2445166691279245,0.21708881819076406,0.2581406319442995,0.2578177442780386,0.22452264731762006,0.2572125593844393,0.2250646354079108,0.2566159310175874,0.24126441348305963,0.257017365052029,0.19290510710621595,0.1402246271483521,0.25730551884324837,0.2484075400793111,0.2472394054385214,0.21912343024659076,0.2603907342916768,0.25080453675496367,0.12439665411202383,0.24311265823842998,0.2597111131657079,0.2482078441997996,0.260274141750743,0.2546961481696551,0.2610588766069556,0.24710463323018156,0.2597401052332221,0.2594764890180551,0.0895357227607468,0.2572440131569412,0.07828240413086164,0.07411785307166423,0.2577642548591495,0.2548987341465431,0.2598086154091841,0.24837579721530173,0.23941590564284893,0.2521952469012256,0.2623028727705525,0.2134468368000107,0.2633331171076826,0.20137743759548227,0.25992950015242017,0.24990282239030265,0.26262477403304146,0.2697004580068999,0.24581669657576682,0.25843809616949814,0.2690007949382341,0.20685486064347103,0.26622231473874064,0.26624193081289904,0.2676315519636901,0.2665315385704655,0.26672264906848075,0.26735603622511317,0.2660921809187792,0.26670839198260315,0.2643850484135111,0.2640418116749116,0.2573911809943833,0.07702061890691074,0.26671294965799897,0.27071976090625416,0.27138823403642065,0.2677164551857524,0.27188525731966995,0.2718533501189715,0.2718312689908628,0.26790289261723665,0.20537685084660667,0.27132057497870404,0.2724582734531121,0.27224701766333076,0.27119340214206755,0.2730729651320056,0.2636100196647523,0.2700135462740574,0.26857504519221986,0.2674352232684075,0.269090192682378,0.26865093457692557,0.274466502035252,0.2746343609220171,0.27408906890590296,0.2728339438111362,0.27326357779686716,0.27418791873796133,0.2741989861707087,0.2731660517284643,0.25177978719762967,0.2741470703787712,0.27437062163935894,0.1935768474585204,0.27444782531414974,0.2719997006994213,0.27262867556918563,0.26931587095318293,0.27081040905367926,0.2094527545627201,0.0055265346604531345,0.27425134840714155,0.27393464532311373,0.27276180434050684,0.2728582181385085,0.2670973874156276,0.27462879640357285,0.26601328496779125,0.2675869833971017,0.27482516620598896,0.06883935030932009,0.274743700331999,0.2742470200754231,0.274469789477771,0.274196293445024,0.2743832120748431,0.2697522975571881,0.08624865775505883,0.27374836924428136,0.27144195215986267,0.27284929905645666,0.10858816358970087,0.27292186518335326,0.2738706836907917,0.23661115508745545,0.26434001449912764,0.27374328938388065,0.2717611247559212,0.07962612844363695,0.27298797123386304,0.26980861472786366,0.26636772329040614,0.27360938988831285,0.27144607313984337,0.27330466678768806,0.27398712505138906,0.26673122054748155,0.26817552689357765,0.27110400153127723,0.25558576934444843,0.2704313077667611,0.19436244702553057,0.2741287543654195,0.27263566891809504,0.2720335810663956,0.27444047350946715,0.272017474951081,0.2733581210096298,0.2632330505604079,0.2745224606591807,0.25075553842626624,0.2697609237866902,0.27231998425934234,0.2745412293755888,0.2743436262107919,0.2734945289107281,0.2728481718908086,0.10459123248791899,0.2650363402899342,0.27019982283260535,0.27367310255794364,0.26969149786073554,0.20189710298963287,0.27480190824187223,0.274895885765578,0.22414272998112866,0.27458161669968306,0.273532782375857,0.27363947994544124,0.2709906301520028,0.2737504573614376,0.27493124419538123,0.27486187569646325,0.274939235807098,0.274732622118252,0.26707194026189934,0.272121105821455,0.2740547329643394,0.2741546148354948,0.24629578349102005,0.2697935348630741,0.26988879901572344,0.2745890065699089,0.2749445658438939,0.27461574045388615,0.2744431848032991,0.27426357517791555,0.2740802577133483,0.14458560254398423,0.2737675582637068,0.27475458707648936,0.2430345610103722,0.27474071666070615,0.27389496443877126,0.2729666129420351,0.2740637121052659],\"type\":\"scatter\",\"xaxis\":\"x2\",\"yaxis\":\"y2\"},{\"marker\":{\"color\":[0,1,2,3,4,5,6,7,8,9,10,11,12,13,14,15,16,17,18,19,20,21,22,23,24,25,26,27,28,29,30,31,32,33,34,35,36,37,38,39,40,41,42,43,44,45,46,47,48,49,50,51,52,53,54,55,56,57,58,59,60,61,62,63,64,65,66,67,68,69,70,71,72,73,74,75,76,77,78,79,80,81,82,83,84,85,86,87,88,89,90,91,92,93,94,95,96,97,98,99,100,101,102,103,104,105,106,107,108,109,110,111,112,113,114,115,116,117,118,119,120,121,122,123,124,125,126,127,128,129,130,131,132,133,134,135,136,137,138,139,140,141,142,143,144,145,146,147,148,149,150,151,152,153,154,155,156,157,158,159,160,161,162,163,164,165,166,167,168,169,170,171,172,173,174,175,176,177,178,179,180,181,182,183,184,185,186,187,188,189,190,191,192,193,194,195,196,197,198,199,200,201,202,203,204,205,206,207,208,209,210,211,212,213,214,215,216,217,218,219,220,221,222,223,224,225,226,227,228,229,230,231,232,233,234,235,236,237,238,239,240,241,242,243,244],\"colorbar\":{\"title\":{\"text\":\"Trial\"},\"x\":1.0,\"xpad\":40},\"colorscale\":[[0.0,\"rgb(247,251,255)\"],[0.125,\"rgb(222,235,247)\"],[0.25,\"rgb(198,219,239)\"],[0.375,\"rgb(158,202,225)\"],[0.5,\"rgb(107,174,214)\"],[0.625,\"rgb(66,146,198)\"],[0.75,\"rgb(33,113,181)\"],[0.875,\"rgb(8,81,156)\"],[1.0,\"rgb(8,48,107)\"]],\"line\":{\"color\":\"Grey\",\"width\":0.5},\"showscale\":false},\"mode\":\"markers\",\"name\":\"Feasible Trial\",\"showlegend\":false,\"x\":[false,true,false,false,false,true,true,false,false,true,false,false,false,false,false,false,false,false,true,false,false,false,false,false,false,false,true,false,false,false,false,false,false,false,false,false,true,false,true,false,false,false,false,false,false,false,false,true,false,false,false,false,false,false,false,false,false,false,true,false,false,true,true,true,true,true,true,true,true,true,true,true,true,true,true,true,true,true,true,true,true,true,true,true,true,true,true,true,true,true,true,true,true,true,true,true,true,true,true,true,true,true,true,true,true,true,true,true,true,true,true,true,true,true,true,true,true,true,true,true,true,true,true,true,true,true,true,true,true,true,true,true,true,true,true,true,true,true,true,true,true,true,true,true,true,true,true,true,true,true,true,true,true,true,true,true,true,true,true,true,true,true,true,true,true,true,true,true,true,true,true,true,true,true,true,true,true,true,true,true,true,true,true,true,true,true,true,true,true,true,true,true,true,true,true,true,true,true,true,true,true,true,true,true,true,true,true,true,true,true,true,true,true,true,true,true,true,true,true,true,true,true,true,true,true,true,true,true,true,true,true,true,true,true,true,true,true,true,true,true,true,true,true,true,true],\"y\":[0.17881519376268692,0.07049783718854735,0.15015339954653534,0.05164833713622284,0.22774372575215143,0.19850813446465515,0.20930764973429455,0.10710652770386053,0.24495279257735167,0.0720485490024785,0.039675506488837685,0.22403984904166205,0.23158865052648753,0.22497086394432309,0.11017174970731809,0.2140059018073172,0.23948019953628957,0.23706304954441734,0.12431414585322025,0.09203791651329986,0.2216763594838938,0.24604740066272907,0.2568078292746356,0.2570420795673928,0.2559197250148196,0.0055265346604531345,0.2305459884646643,0.171074471770536,0.24622497184535116,0.19194071938150972,0.12497649975422127,0.24541309552940227,0.25238394185118757,0.2562353495088586,0.23583728184822586,0.2488446503193545,0.059577977624616626,0.08863984101253644,0.06614963183525802,0.24146526939621832,0.1572851347775057,0.2574196837696373,0.25843371022881273,0.21810690395405025,0.2564993091259435,0.24037186358222304,0.1755520180670244,0.2491499731300315,0.25615269327370244,0.2445166691279245,0.21708881819076406,0.2581406319442995,0.2578177442780386,0.22452264731762006,0.2572125593844393,0.2250646354079108,0.2566159310175874,0.24126441348305963,0.257017365052029,0.19290510710621595,0.1402246271483521,0.25730551884324837,0.2484075400793111,0.2472394054385214,0.21912343024659076,0.2603907342916768,0.25080453675496367,0.12439665411202383,0.24311265823842998,0.2597111131657079,0.2482078441997996,0.260274141750743,0.2546961481696551,0.2610588766069556,0.24710463323018156,0.2597401052332221,0.2594764890180551,0.0895357227607468,0.2572440131569412,0.07828240413086164,0.07411785307166423,0.2577642548591495,0.2548987341465431,0.2598086154091841,0.24837579721530173,0.23941590564284893,0.2521952469012256,0.2623028727705525,0.2134468368000107,0.2633331171076826,0.20137743759548227,0.25992950015242017,0.24990282239030265,0.26262477403304146,0.2697004580068999,0.24581669657576682,0.25843809616949814,0.2690007949382341,0.20685486064347103,0.26622231473874064,0.26624193081289904,0.2676315519636901,0.2665315385704655,0.26672264906848075,0.26735603622511317,0.2660921809187792,0.26670839198260315,0.2643850484135111,0.2640418116749116,0.2573911809943833,0.07702061890691074,0.26671294965799897,0.27071976090625416,0.27138823403642065,0.2677164551857524,0.27188525731966995,0.2718533501189715,0.2718312689908628,0.26790289261723665,0.20537685084660667,0.27132057497870404,0.2724582734531121,0.27224701766333076,0.27119340214206755,0.2730729651320056,0.2636100196647523,0.2700135462740574,0.26857504519221986,0.2674352232684075,0.269090192682378,0.26865093457692557,0.274466502035252,0.2746343609220171,0.27408906890590296,0.2728339438111362,0.27326357779686716,0.27418791873796133,0.2741989861707087,0.2731660517284643,0.25177978719762967,0.2741470703787712,0.27437062163935894,0.1935768474585204,0.27444782531414974,0.2719997006994213,0.27262867556918563,0.26931587095318293,0.27081040905367926,0.2094527545627201,0.0055265346604531345,0.27425134840714155,0.27393464532311373,0.27276180434050684,0.2728582181385085,0.2670973874156276,0.27462879640357285,0.26601328496779125,0.2675869833971017,0.27482516620598896,0.06883935030932009,0.274743700331999,0.2742470200754231,0.274469789477771,0.274196293445024,0.2743832120748431,0.2697522975571881,0.08624865775505883,0.27374836924428136,0.27144195215986267,0.27284929905645666,0.10858816358970087,0.27292186518335326,0.2738706836907917,0.23661115508745545,0.26434001449912764,0.27374328938388065,0.2717611247559212,0.07962612844363695,0.27298797123386304,0.26980861472786366,0.26636772329040614,0.27360938988831285,0.27144607313984337,0.27330466678768806,0.27398712505138906,0.26673122054748155,0.26817552689357765,0.27110400153127723,0.25558576934444843,0.2704313077667611,0.19436244702553057,0.2741287543654195,0.27263566891809504,0.2720335810663956,0.27444047350946715,0.272017474951081,0.2733581210096298,0.2632330505604079,0.2745224606591807,0.25075553842626624,0.2697609237866902,0.27231998425934234,0.2745412293755888,0.2743436262107919,0.2734945289107281,0.2728481718908086,0.10459123248791899,0.2650363402899342,0.27019982283260535,0.27367310255794364,0.26969149786073554,0.20189710298963287,0.27480190824187223,0.274895885765578,0.22414272998112866,0.27458161669968306,0.273532782375857,0.27363947994544124,0.2709906301520028,0.2737504573614376,0.27493124419538123,0.27486187569646325,0.274939235807098,0.274732622118252,0.26707194026189934,0.272121105821455,0.2740547329643394,0.2741546148354948,0.24629578349102005,0.2697935348630741,0.26988879901572344,0.2745890065699089,0.2749445658438939,0.27461574045388615,0.2744431848032991,0.27426357517791555,0.2740802577133483,0.14458560254398423,0.2737675582637068,0.27475458707648936,0.2430345610103722,0.27474071666070615,0.27389496443877126,0.2729666129420351,0.2740637121052659],\"type\":\"scatter\",\"xaxis\":\"x3\",\"yaxis\":\"y3\"},{\"marker\":{\"color\":[0,1,2,3,4,5,6,7,8,9,10,11,12,13,14,15,16,17,18,19,20,21,22,23,24,25,26,27,28,29,30,31,32,33,34,35,36,37,38,39,40,41,42,43,44,45,46,47,48,49,50,51,52,53,54,55,56,57,58,59,60,61,62,63,64,65,66,67,68,69,70,71,72,73,74,75,76,77,78,79,80,81,82,83,84,85,86,87,88,89,90,91,92,93,94,95,96,97,98,99,100,101,102,103,104,105,106,107,108,109,110,111,112,113,114,115,116,117,118,119,120,121,122,123,124,125,126,127,128,129,130,131,132,133,134,135,136,137,138,139,140,141,142,143,144,145,146,147,148,149,150,151,152,153,154,155,156,157,158,159,160,161,162,163,164,165,166,167,168,169,170,171,172,173,174,175,176,177,178,179,180,181,182,183,184,185,186,187,188,189,190,191,192,193,194,195,196,197,198,199,200,201,202,203,204,205,206,207,208,209,210,211,212,213,214,215,216,217,218,219,220,221,222,223,224,225,226,227,228,229,230,231,232,233,234,235,236,237,238,239,240,241,242,243,244],\"colorbar\":{\"title\":{\"text\":\"Trial\"},\"x\":1.0,\"xpad\":40},\"colorscale\":[[0.0,\"rgb(247,251,255)\"],[0.125,\"rgb(222,235,247)\"],[0.25,\"rgb(198,219,239)\"],[0.375,\"rgb(158,202,225)\"],[0.5,\"rgb(107,174,214)\"],[0.625,\"rgb(66,146,198)\"],[0.75,\"rgb(33,113,181)\"],[0.875,\"rgb(8,81,156)\"],[1.0,\"rgb(8,48,107)\"]],\"line\":{\"color\":\"Grey\",\"width\":0.5},\"showscale\":false},\"mode\":\"markers\",\"name\":\"Feasible Trial\",\"showlegend\":false,\"x\":[true,true,true,false,true,true,true,true,true,false,false,true,true,true,false,true,true,true,false,true,true,true,true,true,true,true,false,true,true,true,true,true,true,true,true,true,true,false,true,true,true,true,true,true,true,true,true,false,true,true,true,true,true,true,true,true,false,true,true,true,true,true,true,true,true,true,false,true,true,true,true,true,true,true,true,true,true,true,true,false,true,true,true,true,true,true,true,true,true,true,true,true,true,true,true,true,true,true,false,true,true,true,true,true,true,true,true,true,true,true,true,true,true,true,true,true,true,true,true,false,true,true,true,true,true,true,true,true,true,true,true,true,true,true,true,true,true,true,true,false,true,true,true,true,true,true,true,true,true,true,true,true,true,true,true,true,true,true,true,true,true,true,true,true,true,true,true,true,true,true,false,true,true,true,true,true,true,true,true,true,true,true,true,true,true,true,true,true,true,true,true,true,true,true,true,true,true,true,true,false,true,true,true,true,true,true,true,true,true,true,true,true,true,true,true,true,true,true,true,true,true,true,true,true,true,true,true,true,true,true,true,true,true,true,true,true,true,true,true,true,false,true,true,true,true],\"y\":[0.17881519376268692,0.07049783718854735,0.15015339954653534,0.05164833713622284,0.22774372575215143,0.19850813446465515,0.20930764973429455,0.10710652770386053,0.24495279257735167,0.0720485490024785,0.039675506488837685,0.22403984904166205,0.23158865052648753,0.22497086394432309,0.11017174970731809,0.2140059018073172,0.23948019953628957,0.23706304954441734,0.12431414585322025,0.09203791651329986,0.2216763594838938,0.24604740066272907,0.2568078292746356,0.2570420795673928,0.2559197250148196,0.0055265346604531345,0.2305459884646643,0.171074471770536,0.24622497184535116,0.19194071938150972,0.12497649975422127,0.24541309552940227,0.25238394185118757,0.2562353495088586,0.23583728184822586,0.2488446503193545,0.059577977624616626,0.08863984101253644,0.06614963183525802,0.24146526939621832,0.1572851347775057,0.2574196837696373,0.25843371022881273,0.21810690395405025,0.2564993091259435,0.24037186358222304,0.1755520180670244,0.2491499731300315,0.25615269327370244,0.2445166691279245,0.21708881819076406,0.2581406319442995,0.2578177442780386,0.22452264731762006,0.2572125593844393,0.2250646354079108,0.2566159310175874,0.24126441348305963,0.257017365052029,0.19290510710621595,0.1402246271483521,0.25730551884324837,0.2484075400793111,0.2472394054385214,0.21912343024659076,0.2603907342916768,0.25080453675496367,0.12439665411202383,0.24311265823842998,0.2597111131657079,0.2482078441997996,0.260274141750743,0.2546961481696551,0.2610588766069556,0.24710463323018156,0.2597401052332221,0.2594764890180551,0.0895357227607468,0.2572440131569412,0.07828240413086164,0.07411785307166423,0.2577642548591495,0.2548987341465431,0.2598086154091841,0.24837579721530173,0.23941590564284893,0.2521952469012256,0.2623028727705525,0.2134468368000107,0.2633331171076826,0.20137743759548227,0.25992950015242017,0.24990282239030265,0.26262477403304146,0.2697004580068999,0.24581669657576682,0.25843809616949814,0.2690007949382341,0.20685486064347103,0.26622231473874064,0.26624193081289904,0.2676315519636901,0.2665315385704655,0.26672264906848075,0.26735603622511317,0.2660921809187792,0.26670839198260315,0.2643850484135111,0.2640418116749116,0.2573911809943833,0.07702061890691074,0.26671294965799897,0.27071976090625416,0.27138823403642065,0.2677164551857524,0.27188525731966995,0.2718533501189715,0.2718312689908628,0.26790289261723665,0.20537685084660667,0.27132057497870404,0.2724582734531121,0.27224701766333076,0.27119340214206755,0.2730729651320056,0.2636100196647523,0.2700135462740574,0.26857504519221986,0.2674352232684075,0.269090192682378,0.26865093457692557,0.274466502035252,0.2746343609220171,0.27408906890590296,0.2728339438111362,0.27326357779686716,0.27418791873796133,0.2741989861707087,0.2731660517284643,0.25177978719762967,0.2741470703787712,0.27437062163935894,0.1935768474585204,0.27444782531414974,0.2719997006994213,0.27262867556918563,0.26931587095318293,0.27081040905367926,0.2094527545627201,0.0055265346604531345,0.27425134840714155,0.27393464532311373,0.27276180434050684,0.2728582181385085,0.2670973874156276,0.27462879640357285,0.26601328496779125,0.2675869833971017,0.27482516620598896,0.06883935030932009,0.274743700331999,0.2742470200754231,0.274469789477771,0.274196293445024,0.2743832120748431,0.2697522975571881,0.08624865775505883,0.27374836924428136,0.27144195215986267,0.27284929905645666,0.10858816358970087,0.27292186518335326,0.2738706836907917,0.23661115508745545,0.26434001449912764,0.27374328938388065,0.2717611247559212,0.07962612844363695,0.27298797123386304,0.26980861472786366,0.26636772329040614,0.27360938988831285,0.27144607313984337,0.27330466678768806,0.27398712505138906,0.26673122054748155,0.26817552689357765,0.27110400153127723,0.25558576934444843,0.2704313077667611,0.19436244702553057,0.2741287543654195,0.27263566891809504,0.2720335810663956,0.27444047350946715,0.272017474951081,0.2733581210096298,0.2632330505604079,0.2745224606591807,0.25075553842626624,0.2697609237866902,0.27231998425934234,0.2745412293755888,0.2743436262107919,0.2734945289107281,0.2728481718908086,0.10459123248791899,0.2650363402899342,0.27019982283260535,0.27367310255794364,0.26969149786073554,0.20189710298963287,0.27480190824187223,0.274895885765578,0.22414272998112866,0.27458161669968306,0.273532782375857,0.27363947994544124,0.2709906301520028,0.2737504573614376,0.27493124419538123,0.27486187569646325,0.274939235807098,0.274732622118252,0.26707194026189934,0.272121105821455,0.2740547329643394,0.2741546148354948,0.24629578349102005,0.2697935348630741,0.26988879901572344,0.2745890065699089,0.2749445658438939,0.27461574045388615,0.2744431848032991,0.27426357517791555,0.2740802577133483,0.14458560254398423,0.2737675582637068,0.27475458707648936,0.2430345610103722,0.27474071666070615,0.27389496443877126,0.2729666129420351,0.2740637121052659],\"type\":\"scatter\",\"xaxis\":\"x4\",\"yaxis\":\"y4\"},{\"marker\":{\"color\":[0,1,2,3,4,5,6,7,8,9,10,11,12,13,14,15,16,17,18,19,20,21,22,23,24,25,26,27,28,29,30,31,32,33,34,35,36,37,38,39,40,41,42,43,44,45,46,47,48,49,50,51,52,53,54,55,56,57,58,59,60,61,62,63,64,65,66,67,68,69,70,71,72,73,74,75,76,77,78,79,80,81,82,83,84,85,86,87,88,89,90,91,92,93,94,95,96,97,98,99,100,101,102,103,104,105,106,107,108,109,110,111,112,113,114,115,116,117,118,119,120,121,122,123,124,125,126,127,128,129,130,131,132,133,134,135,136,137,138,139,140,141,142,143,144,145,146,147,148,149,150,151,152,153,154,155,156,157,158,159,160,161,162,163,164,165,166,167,168,169,170,171,172,173,174,175,176,177,178,179,180,181,182,183,184,185,186,187,188,189,190,191,192,193,194,195,196,197,198,199,200,201,202,203,204,205,206,207,208,209,210,211,212,213,214,215,216,217,218,219,220,221,222,223,224,225,226,227,228,229,230,231,232,233,234,235,236,237,238,239,240,241,242,243,244],\"colorbar\":{\"title\":{\"text\":\"Trial\"},\"x\":1.0,\"xpad\":40},\"colorscale\":[[0.0,\"rgb(247,251,255)\"],[0.125,\"rgb(222,235,247)\"],[0.25,\"rgb(198,219,239)\"],[0.375,\"rgb(158,202,225)\"],[0.5,\"rgb(107,174,214)\"],[0.625,\"rgb(66,146,198)\"],[0.75,\"rgb(33,113,181)\"],[0.875,\"rgb(8,81,156)\"],[1.0,\"rgb(8,48,107)\"]],\"line\":{\"color\":\"Grey\",\"width\":0.5},\"showscale\":false},\"mode\":\"markers\",\"name\":\"Feasible Trial\",\"showlegend\":false,\"x\":[155,631,1023,635,414,397,181,559,606,229,1452,934,937,926,1267,1154,759,793,788,413,559,763,727,646,1099,0,1120,1371,1186,1011,862,1222,1328,1487,1464,1040,663,506,694,281,472,1359,1499,1360,1496,1393,1301,1423,1246,1488,835,1500,1405,1299,1419,1407,1439,1354,1289,1432,1196,1281,1378,1341,1259,615,351,1437,1157,573,530,600,593,579,448,606,608,583,683,618,727,538,482,640,644,569,802,354,359,77,66,222,186,101,106,27,135,118,263,114,137,91,125,103,109,90,105,145,148,185,1,121,117,107,48,50,52,47,46,49,35,42,39,33,46,18,30,172,212,25,24,65,65,58,73,67,70,65,62,75,63,64,3,72,71,75,173,163,70,0,75,79,78,75,207,80,264,149,82,140,89,87,90,93,93,190,139,97,162,95,1,113,92,134,237,94,154,92,126,58,23,91,96,119,70,55,23,71,973,178,3,92,123,54,83,35,68,144,87,120,35,81,83,55,112,41,159,23,104,63,138,82,57,56,5,91,48,103,39,112,63,65,79,88,25,128,52,83,882,28,131,87,59,94,53,51,104,2,49,89,152,85,99,120,85],\"y\":[0.17881519376268692,0.07049783718854735,0.15015339954653534,0.05164833713622284,0.22774372575215143,0.19850813446465515,0.20930764973429455,0.10710652770386053,0.24495279257735167,0.0720485490024785,0.039675506488837685,0.22403984904166205,0.23158865052648753,0.22497086394432309,0.11017174970731809,0.2140059018073172,0.23948019953628957,0.23706304954441734,0.12431414585322025,0.09203791651329986,0.2216763594838938,0.24604740066272907,0.2568078292746356,0.2570420795673928,0.2559197250148196,0.0055265346604531345,0.2305459884646643,0.171074471770536,0.24622497184535116,0.19194071938150972,0.12497649975422127,0.24541309552940227,0.25238394185118757,0.2562353495088586,0.23583728184822586,0.2488446503193545,0.059577977624616626,0.08863984101253644,0.06614963183525802,0.24146526939621832,0.1572851347775057,0.2574196837696373,0.25843371022881273,0.21810690395405025,0.2564993091259435,0.24037186358222304,0.1755520180670244,0.2491499731300315,0.25615269327370244,0.2445166691279245,0.21708881819076406,0.2581406319442995,0.2578177442780386,0.22452264731762006,0.2572125593844393,0.2250646354079108,0.2566159310175874,0.24126441348305963,0.257017365052029,0.19290510710621595,0.1402246271483521,0.25730551884324837,0.2484075400793111,0.2472394054385214,0.21912343024659076,0.2603907342916768,0.25080453675496367,0.12439665411202383,0.24311265823842998,0.2597111131657079,0.2482078441997996,0.260274141750743,0.2546961481696551,0.2610588766069556,0.24710463323018156,0.2597401052332221,0.2594764890180551,0.0895357227607468,0.2572440131569412,0.07828240413086164,0.07411785307166423,0.2577642548591495,0.2548987341465431,0.2598086154091841,0.24837579721530173,0.23941590564284893,0.2521952469012256,0.2623028727705525,0.2134468368000107,0.2633331171076826,0.20137743759548227,0.25992950015242017,0.24990282239030265,0.26262477403304146,0.2697004580068999,0.24581669657576682,0.25843809616949814,0.2690007949382341,0.20685486064347103,0.26622231473874064,0.26624193081289904,0.2676315519636901,0.2665315385704655,0.26672264906848075,0.26735603622511317,0.2660921809187792,0.26670839198260315,0.2643850484135111,0.2640418116749116,0.2573911809943833,0.07702061890691074,0.26671294965799897,0.27071976090625416,0.27138823403642065,0.2677164551857524,0.27188525731966995,0.2718533501189715,0.2718312689908628,0.26790289261723665,0.20537685084660667,0.27132057497870404,0.2724582734531121,0.27224701766333076,0.27119340214206755,0.2730729651320056,0.2636100196647523,0.2700135462740574,0.26857504519221986,0.2674352232684075,0.269090192682378,0.26865093457692557,0.274466502035252,0.2746343609220171,0.27408906890590296,0.2728339438111362,0.27326357779686716,0.27418791873796133,0.2741989861707087,0.2731660517284643,0.25177978719762967,0.2741470703787712,0.27437062163935894,0.1935768474585204,0.27444782531414974,0.2719997006994213,0.27262867556918563,0.26931587095318293,0.27081040905367926,0.2094527545627201,0.0055265346604531345,0.27425134840714155,0.27393464532311373,0.27276180434050684,0.2728582181385085,0.2670973874156276,0.27462879640357285,0.26601328496779125,0.2675869833971017,0.27482516620598896,0.06883935030932009,0.274743700331999,0.2742470200754231,0.274469789477771,0.274196293445024,0.2743832120748431,0.2697522975571881,0.08624865775505883,0.27374836924428136,0.27144195215986267,0.27284929905645666,0.10858816358970087,0.27292186518335326,0.2738706836907917,0.23661115508745545,0.26434001449912764,0.27374328938388065,0.2717611247559212,0.07962612844363695,0.27298797123386304,0.26980861472786366,0.26636772329040614,0.27360938988831285,0.27144607313984337,0.27330466678768806,0.27398712505138906,0.26673122054748155,0.26817552689357765,0.27110400153127723,0.25558576934444843,0.2704313077667611,0.19436244702553057,0.2741287543654195,0.27263566891809504,0.2720335810663956,0.27444047350946715,0.272017474951081,0.2733581210096298,0.2632330505604079,0.2745224606591807,0.25075553842626624,0.2697609237866902,0.27231998425934234,0.2745412293755888,0.2743436262107919,0.2734945289107281,0.2728481718908086,0.10459123248791899,0.2650363402899342,0.27019982283260535,0.27367310255794364,0.26969149786073554,0.20189710298963287,0.27480190824187223,0.274895885765578,0.22414272998112866,0.27458161669968306,0.273532782375857,0.27363947994544124,0.2709906301520028,0.2737504573614376,0.27493124419538123,0.27486187569646325,0.274939235807098,0.274732622118252,0.26707194026189934,0.272121105821455,0.2740547329643394,0.2741546148354948,0.24629578349102005,0.2697935348630741,0.26988879901572344,0.2745890065699089,0.2749445658438939,0.27461574045388615,0.2744431848032991,0.27426357517791555,0.2740802577133483,0.14458560254398423,0.2737675582637068,0.27475458707648936,0.2430345610103722,0.27474071666070615,0.27389496443877126,0.2729666129420351,0.2740637121052659],\"type\":\"scatter\",\"xaxis\":\"x5\",\"yaxis\":\"y5\"}],                        {\"template\":{\"data\":{\"histogram2dcontour\":[{\"type\":\"histogram2dcontour\",\"colorbar\":{\"outlinewidth\":0,\"ticks\":\"\"},\"colorscale\":[[0.0,\"#0d0887\"],[0.1111111111111111,\"#46039f\"],[0.2222222222222222,\"#7201a8\"],[0.3333333333333333,\"#9c179e\"],[0.4444444444444444,\"#bd3786\"],[0.5555555555555556,\"#d8576b\"],[0.6666666666666666,\"#ed7953\"],[0.7777777777777778,\"#fb9f3a\"],[0.8888888888888888,\"#fdca26\"],[1.0,\"#f0f921\"]]}],\"choropleth\":[{\"type\":\"choropleth\",\"colorbar\":{\"outlinewidth\":0,\"ticks\":\"\"}}],\"histogram2d\":[{\"type\":\"histogram2d\",\"colorbar\":{\"outlinewidth\":0,\"ticks\":\"\"},\"colorscale\":[[0.0,\"#0d0887\"],[0.1111111111111111,\"#46039f\"],[0.2222222222222222,\"#7201a8\"],[0.3333333333333333,\"#9c179e\"],[0.4444444444444444,\"#bd3786\"],[0.5555555555555556,\"#d8576b\"],[0.6666666666666666,\"#ed7953\"],[0.7777777777777778,\"#fb9f3a\"],[0.8888888888888888,\"#fdca26\"],[1.0,\"#f0f921\"]]}],\"heatmap\":[{\"type\":\"heatmap\",\"colorbar\":{\"outlinewidth\":0,\"ticks\":\"\"},\"colorscale\":[[0.0,\"#0d0887\"],[0.1111111111111111,\"#46039f\"],[0.2222222222222222,\"#7201a8\"],[0.3333333333333333,\"#9c179e\"],[0.4444444444444444,\"#bd3786\"],[0.5555555555555556,\"#d8576b\"],[0.6666666666666666,\"#ed7953\"],[0.7777777777777778,\"#fb9f3a\"],[0.8888888888888888,\"#fdca26\"],[1.0,\"#f0f921\"]]}],\"heatmapgl\":[{\"type\":\"heatmapgl\",\"colorbar\":{\"outlinewidth\":0,\"ticks\":\"\"},\"colorscale\":[[0.0,\"#0d0887\"],[0.1111111111111111,\"#46039f\"],[0.2222222222222222,\"#7201a8\"],[0.3333333333333333,\"#9c179e\"],[0.4444444444444444,\"#bd3786\"],[0.5555555555555556,\"#d8576b\"],[0.6666666666666666,\"#ed7953\"],[0.7777777777777778,\"#fb9f3a\"],[0.8888888888888888,\"#fdca26\"],[1.0,\"#f0f921\"]]}],\"contourcarpet\":[{\"type\":\"contourcarpet\",\"colorbar\":{\"outlinewidth\":0,\"ticks\":\"\"}}],\"contour\":[{\"type\":\"contour\",\"colorbar\":{\"outlinewidth\":0,\"ticks\":\"\"},\"colorscale\":[[0.0,\"#0d0887\"],[0.1111111111111111,\"#46039f\"],[0.2222222222222222,\"#7201a8\"],[0.3333333333333333,\"#9c179e\"],[0.4444444444444444,\"#bd3786\"],[0.5555555555555556,\"#d8576b\"],[0.6666666666666666,\"#ed7953\"],[0.7777777777777778,\"#fb9f3a\"],[0.8888888888888888,\"#fdca26\"],[1.0,\"#f0f921\"]]}],\"surface\":[{\"type\":\"surface\",\"colorbar\":{\"outlinewidth\":0,\"ticks\":\"\"},\"colorscale\":[[0.0,\"#0d0887\"],[0.1111111111111111,\"#46039f\"],[0.2222222222222222,\"#7201a8\"],[0.3333333333333333,\"#9c179e\"],[0.4444444444444444,\"#bd3786\"],[0.5555555555555556,\"#d8576b\"],[0.6666666666666666,\"#ed7953\"],[0.7777777777777778,\"#fb9f3a\"],[0.8888888888888888,\"#fdca26\"],[1.0,\"#f0f921\"]]}],\"mesh3d\":[{\"type\":\"mesh3d\",\"colorbar\":{\"outlinewidth\":0,\"ticks\":\"\"}}],\"scatter\":[{\"fillpattern\":{\"fillmode\":\"overlay\",\"size\":10,\"solidity\":0.2},\"type\":\"scatter\"}],\"parcoords\":[{\"type\":\"parcoords\",\"line\":{\"colorbar\":{\"outlinewidth\":0,\"ticks\":\"\"}}}],\"scatterpolargl\":[{\"type\":\"scatterpolargl\",\"marker\":{\"colorbar\":{\"outlinewidth\":0,\"ticks\":\"\"}}}],\"bar\":[{\"error_x\":{\"color\":\"#2a3f5f\"},\"error_y\":{\"color\":\"#2a3f5f\"},\"marker\":{\"line\":{\"color\":\"#E5ECF6\",\"width\":0.5},\"pattern\":{\"fillmode\":\"overlay\",\"size\":10,\"solidity\":0.2}},\"type\":\"bar\"}],\"scattergeo\":[{\"type\":\"scattergeo\",\"marker\":{\"colorbar\":{\"outlinewidth\":0,\"ticks\":\"\"}}}],\"scatterpolar\":[{\"type\":\"scatterpolar\",\"marker\":{\"colorbar\":{\"outlinewidth\":0,\"ticks\":\"\"}}}],\"histogram\":[{\"marker\":{\"pattern\":{\"fillmode\":\"overlay\",\"size\":10,\"solidity\":0.2}},\"type\":\"histogram\"}],\"scattergl\":[{\"type\":\"scattergl\",\"marker\":{\"colorbar\":{\"outlinewidth\":0,\"ticks\":\"\"}}}],\"scatter3d\":[{\"type\":\"scatter3d\",\"line\":{\"colorbar\":{\"outlinewidth\":0,\"ticks\":\"\"}},\"marker\":{\"colorbar\":{\"outlinewidth\":0,\"ticks\":\"\"}}}],\"scattermapbox\":[{\"type\":\"scattermapbox\",\"marker\":{\"colorbar\":{\"outlinewidth\":0,\"ticks\":\"\"}}}],\"scatterternary\":[{\"type\":\"scatterternary\",\"marker\":{\"colorbar\":{\"outlinewidth\":0,\"ticks\":\"\"}}}],\"scattercarpet\":[{\"type\":\"scattercarpet\",\"marker\":{\"colorbar\":{\"outlinewidth\":0,\"ticks\":\"\"}}}],\"carpet\":[{\"aaxis\":{\"endlinecolor\":\"#2a3f5f\",\"gridcolor\":\"white\",\"linecolor\":\"white\",\"minorgridcolor\":\"white\",\"startlinecolor\":\"#2a3f5f\"},\"baxis\":{\"endlinecolor\":\"#2a3f5f\",\"gridcolor\":\"white\",\"linecolor\":\"white\",\"minorgridcolor\":\"white\",\"startlinecolor\":\"#2a3f5f\"},\"type\":\"carpet\"}],\"table\":[{\"cells\":{\"fill\":{\"color\":\"#EBF0F8\"},\"line\":{\"color\":\"white\"}},\"header\":{\"fill\":{\"color\":\"#C8D4E3\"},\"line\":{\"color\":\"white\"}},\"type\":\"table\"}],\"barpolar\":[{\"marker\":{\"line\":{\"color\":\"#E5ECF6\",\"width\":0.5},\"pattern\":{\"fillmode\":\"overlay\",\"size\":10,\"solidity\":0.2}},\"type\":\"barpolar\"}],\"pie\":[{\"automargin\":true,\"type\":\"pie\"}]},\"layout\":{\"autotypenumbers\":\"strict\",\"colorway\":[\"#636efa\",\"#EF553B\",\"#00cc96\",\"#ab63fa\",\"#FFA15A\",\"#19d3f3\",\"#FF6692\",\"#B6E880\",\"#FF97FF\",\"#FECB52\"],\"font\":{\"color\":\"#2a3f5f\"},\"hovermode\":\"closest\",\"hoverlabel\":{\"align\":\"left\"},\"paper_bgcolor\":\"white\",\"plot_bgcolor\":\"#E5ECF6\",\"polar\":{\"bgcolor\":\"#E5ECF6\",\"angularaxis\":{\"gridcolor\":\"white\",\"linecolor\":\"white\",\"ticks\":\"\"},\"radialaxis\":{\"gridcolor\":\"white\",\"linecolor\":\"white\",\"ticks\":\"\"}},\"ternary\":{\"bgcolor\":\"#E5ECF6\",\"aaxis\":{\"gridcolor\":\"white\",\"linecolor\":\"white\",\"ticks\":\"\"},\"baxis\":{\"gridcolor\":\"white\",\"linecolor\":\"white\",\"ticks\":\"\"},\"caxis\":{\"gridcolor\":\"white\",\"linecolor\":\"white\",\"ticks\":\"\"}},\"coloraxis\":{\"colorbar\":{\"outlinewidth\":0,\"ticks\":\"\"}},\"colorscale\":{\"sequential\":[[0.0,\"#0d0887\"],[0.1111111111111111,\"#46039f\"],[0.2222222222222222,\"#7201a8\"],[0.3333333333333333,\"#9c179e\"],[0.4444444444444444,\"#bd3786\"],[0.5555555555555556,\"#d8576b\"],[0.6666666666666666,\"#ed7953\"],[0.7777777777777778,\"#fb9f3a\"],[0.8888888888888888,\"#fdca26\"],[1.0,\"#f0f921\"]],\"sequentialminus\":[[0.0,\"#0d0887\"],[0.1111111111111111,\"#46039f\"],[0.2222222222222222,\"#7201a8\"],[0.3333333333333333,\"#9c179e\"],[0.4444444444444444,\"#bd3786\"],[0.5555555555555556,\"#d8576b\"],[0.6666666666666666,\"#ed7953\"],[0.7777777777777778,\"#fb9f3a\"],[0.8888888888888888,\"#fdca26\"],[1.0,\"#f0f921\"]],\"diverging\":[[0,\"#8e0152\"],[0.1,\"#c51b7d\"],[0.2,\"#de77ae\"],[0.3,\"#f1b6da\"],[0.4,\"#fde0ef\"],[0.5,\"#f7f7f7\"],[0.6,\"#e6f5d0\"],[0.7,\"#b8e186\"],[0.8,\"#7fbc41\"],[0.9,\"#4d9221\"],[1,\"#276419\"]]},\"xaxis\":{\"gridcolor\":\"white\",\"linecolor\":\"white\",\"ticks\":\"\",\"title\":{\"standoff\":15},\"zerolinecolor\":\"white\",\"automargin\":true,\"zerolinewidth\":2},\"yaxis\":{\"gridcolor\":\"white\",\"linecolor\":\"white\",\"ticks\":\"\",\"title\":{\"standoff\":15},\"zerolinecolor\":\"white\",\"automargin\":true,\"zerolinewidth\":2},\"scene\":{\"xaxis\":{\"backgroundcolor\":\"#E5ECF6\",\"gridcolor\":\"white\",\"linecolor\":\"white\",\"showbackground\":true,\"ticks\":\"\",\"zerolinecolor\":\"white\",\"gridwidth\":2},\"yaxis\":{\"backgroundcolor\":\"#E5ECF6\",\"gridcolor\":\"white\",\"linecolor\":\"white\",\"showbackground\":true,\"ticks\":\"\",\"zerolinecolor\":\"white\",\"gridwidth\":2},\"zaxis\":{\"backgroundcolor\":\"#E5ECF6\",\"gridcolor\":\"white\",\"linecolor\":\"white\",\"showbackground\":true,\"ticks\":\"\",\"zerolinecolor\":\"white\",\"gridwidth\":2}},\"shapedefaults\":{\"line\":{\"color\":\"#2a3f5f\"}},\"annotationdefaults\":{\"arrowcolor\":\"#2a3f5f\",\"arrowhead\":0,\"arrowwidth\":1},\"geo\":{\"bgcolor\":\"white\",\"landcolor\":\"#E5ECF6\",\"subunitcolor\":\"white\",\"showland\":true,\"showlakes\":true,\"lakecolor\":\"white\"},\"title\":{\"x\":0.05},\"mapbox\":{\"style\":\"light\"}}},\"xaxis\":{\"anchor\":\"y\",\"domain\":[0.0,0.16799999999999998],\"title\":{\"text\":\"alpha\"}},\"yaxis\":{\"anchor\":\"x\",\"domain\":[0.0,1.0],\"title\":{\"text\":\"Objective Value\"}},\"xaxis2\":{\"anchor\":\"y2\",\"domain\":[0.208,0.376],\"title\":{\"text\":\"beta\"}},\"yaxis2\":{\"anchor\":\"x2\",\"domain\":[0.0,1.0],\"matches\":\"y\",\"showticklabels\":false},\"xaxis3\":{\"anchor\":\"y3\",\"domain\":[0.416,0.584],\"title\":{\"text\":\"implicit\"},\"type\":\"category\",\"categoryorder\":\"array\",\"categoryarray\":[true,false]},\"yaxis3\":{\"anchor\":\"x3\",\"domain\":[0.0,1.0],\"matches\":\"y\",\"showticklabels\":false},\"xaxis4\":{\"anchor\":\"y4\",\"domain\":[0.624,0.792],\"title\":{\"text\":\"normalize_similarity\"},\"type\":\"category\",\"categoryorder\":\"array\",\"categoryarray\":[true,false]},\"yaxis4\":{\"anchor\":\"x4\",\"domain\":[0.0,1.0],\"matches\":\"y\",\"showticklabels\":false},\"xaxis5\":{\"anchor\":\"y5\",\"domain\":[0.832,1.0],\"title\":{\"text\":\"topK\"}},\"yaxis5\":{\"anchor\":\"x5\",\"domain\":[0.0,1.0],\"matches\":\"y\",\"showticklabels\":false},\"title\":{\"text\":\"Slice Plot\"},\"width\":1500},                        {\"responsive\": true}                    ).then(function(){\n",
       "                            \n",
       "var gd = document.getElementById('ab535c3f-ac5f-47be-8967-1bc8e5c24d3d');\n",
       "var x = new MutationObserver(function (mutations, observer) {{\n",
       "        var display = window.getComputedStyle(gd).display;\n",
       "        if (!display || display === 'none') {{\n",
       "            console.log([gd, 'removed!']);\n",
       "            Plotly.purge(gd);\n",
       "            observer.disconnect();\n",
       "        }}\n",
       "}});\n",
       "\n",
       "// Listen for the removal of the full notebook cells\n",
       "var notebookContainer = gd.closest('#notebook-container');\n",
       "if (notebookContainer) {{\n",
       "    x.observe(notebookContainer, {childList: true});\n",
       "}}\n",
       "\n",
       "// Listen for the clearing of the current output cell\n",
       "var outputEl = gd.closest('.output');\n",
       "if (outputEl) {{\n",
       "    x.observe(outputEl, {childList: true});\n",
       "}}\n",
       "\n",
       "                        })                };                            </script>        </div>\n",
       "</body>\n",
       "</html>"
      ]
     },
     "metadata": {},
     "output_type": "display_data"
    }
   ],
   "source": [
    "if not config['tune_parameters']:\n",
    "    optuna_study = optuna.load_study(study_name=f'hyperparameters_tuning_{config[\"model\"]}_{config[\"metric\"]}', storage=f'sqlite:///{config[\"database_path\"]}')\n",
    "    \n",
    "fig = optuna.visualization.plot_slice(optuna_study)\n",
    "fig.show()"
   ]
  },
  {
   "cell_type": "code",
   "execution_count": 15,
   "id": "ccd01735",
   "metadata": {
    "execution": {
     "iopub.execute_input": "2025-01-07T11:00:43.684134Z",
     "iopub.status.busy": "2025-01-07T11:00:43.683728Z",
     "iopub.status.idle": "2025-01-07T11:00:47.872965Z",
     "shell.execute_reply": "2025-01-07T11:00:47.871442Z"
    },
    "papermill": {
     "duration": 4.32587,
     "end_time": "2025-01-07T11:00:47.875397",
     "exception": false,
     "start_time": "2025-01-07T11:00:43.549527",
     "status": "completed"
    },
    "tags": []
   },
   "outputs": [
    {
     "data": {
      "text/html": [
       "<html>\n",
       "<head><meta charset=\"utf-8\" /></head>\n",
       "<body>\n",
       "    <div>            <script src=\"https://cdnjs.cloudflare.com/ajax/libs/mathjax/2.7.5/MathJax.js?config=TeX-AMS-MML_SVG\"></script><script type=\"text/javascript\">if (window.MathJax && window.MathJax.Hub && window.MathJax.Hub.Config) {window.MathJax.Hub.Config({SVG: {font: \"STIX-Web\"}});}</script>                <script type=\"text/javascript\">window.PlotlyConfig = {MathJaxConfig: 'local'};</script>\n",
       "        <script charset=\"utf-8\" src=\"https://cdn.plot.ly/plotly-2.35.2.min.js\"></script>                <div id=\"c1afdcea-1988-4676-80b0-300a487f8767\" class=\"plotly-graph-div\" style=\"height:525px; width:100%;\"></div>            <script type=\"text/javascript\">                                    window.PLOTLYENV=window.PLOTLYENV || {};                                    if (document.getElementById(\"c1afdcea-1988-4676-80b0-300a487f8767\")) {                    Plotly.newPlot(                        \"c1afdcea-1988-4676-80b0-300a487f8767\",                        [{\"cliponaxis\":false,\"hovertemplate\":[\"implicit (CategoricalDistribution): 0.0015962971825985606\\u003cextra\\u003e\\u003c\\u002fextra\\u003e\",\"normalize_similarity (CategoricalDistribution): 0.0023485098797859116\\u003cextra\\u003e\\u003c\\u002fextra\\u003e\",\"alpha (FloatDistribution): 0.0086336086019143\\u003cextra\\u003e\\u003c\\u002fextra\\u003e\",\"topK (IntDistribution): 0.024502657780155288\\u003cextra\\u003e\\u003c\\u002fextra\\u003e\",\"beta (FloatDistribution): 0.962918926555546\\u003cextra\\u003e\\u003c\\u002fextra\\u003e\"],\"name\":\"Objective Value\",\"orientation\":\"h\",\"text\":[\"\\u003c0.01\",\"\\u003c0.01\",\"\\u003c0.01\",\"0.02\",\"0.96\"],\"textposition\":\"outside\",\"x\":[0.0015962971825985606,0.0023485098797859116,0.0086336086019143,0.024502657780155288,0.962918926555546],\"y\":[\"implicit\",\"normalize_similarity\",\"alpha\",\"topK\",\"beta\"],\"type\":\"bar\"}],                        {\"title\":{\"text\":\"Hyperparameter Importances\"},\"xaxis\":{\"title\":{\"text\":\"Hyperparameter Importance\"}},\"yaxis\":{\"title\":{\"text\":\"Hyperparameter\"}},\"template\":{\"data\":{\"histogram2dcontour\":[{\"type\":\"histogram2dcontour\",\"colorbar\":{\"outlinewidth\":0,\"ticks\":\"\"},\"colorscale\":[[0.0,\"#0d0887\"],[0.1111111111111111,\"#46039f\"],[0.2222222222222222,\"#7201a8\"],[0.3333333333333333,\"#9c179e\"],[0.4444444444444444,\"#bd3786\"],[0.5555555555555556,\"#d8576b\"],[0.6666666666666666,\"#ed7953\"],[0.7777777777777778,\"#fb9f3a\"],[0.8888888888888888,\"#fdca26\"],[1.0,\"#f0f921\"]]}],\"choropleth\":[{\"type\":\"choropleth\",\"colorbar\":{\"outlinewidth\":0,\"ticks\":\"\"}}],\"histogram2d\":[{\"type\":\"histogram2d\",\"colorbar\":{\"outlinewidth\":0,\"ticks\":\"\"},\"colorscale\":[[0.0,\"#0d0887\"],[0.1111111111111111,\"#46039f\"],[0.2222222222222222,\"#7201a8\"],[0.3333333333333333,\"#9c179e\"],[0.4444444444444444,\"#bd3786\"],[0.5555555555555556,\"#d8576b\"],[0.6666666666666666,\"#ed7953\"],[0.7777777777777778,\"#fb9f3a\"],[0.8888888888888888,\"#fdca26\"],[1.0,\"#f0f921\"]]}],\"heatmap\":[{\"type\":\"heatmap\",\"colorbar\":{\"outlinewidth\":0,\"ticks\":\"\"},\"colorscale\":[[0.0,\"#0d0887\"],[0.1111111111111111,\"#46039f\"],[0.2222222222222222,\"#7201a8\"],[0.3333333333333333,\"#9c179e\"],[0.4444444444444444,\"#bd3786\"],[0.5555555555555556,\"#d8576b\"],[0.6666666666666666,\"#ed7953\"],[0.7777777777777778,\"#fb9f3a\"],[0.8888888888888888,\"#fdca26\"],[1.0,\"#f0f921\"]]}],\"heatmapgl\":[{\"type\":\"heatmapgl\",\"colorbar\":{\"outlinewidth\":0,\"ticks\":\"\"},\"colorscale\":[[0.0,\"#0d0887\"],[0.1111111111111111,\"#46039f\"],[0.2222222222222222,\"#7201a8\"],[0.3333333333333333,\"#9c179e\"],[0.4444444444444444,\"#bd3786\"],[0.5555555555555556,\"#d8576b\"],[0.6666666666666666,\"#ed7953\"],[0.7777777777777778,\"#fb9f3a\"],[0.8888888888888888,\"#fdca26\"],[1.0,\"#f0f921\"]]}],\"contourcarpet\":[{\"type\":\"contourcarpet\",\"colorbar\":{\"outlinewidth\":0,\"ticks\":\"\"}}],\"contour\":[{\"type\":\"contour\",\"colorbar\":{\"outlinewidth\":0,\"ticks\":\"\"},\"colorscale\":[[0.0,\"#0d0887\"],[0.1111111111111111,\"#46039f\"],[0.2222222222222222,\"#7201a8\"],[0.3333333333333333,\"#9c179e\"],[0.4444444444444444,\"#bd3786\"],[0.5555555555555556,\"#d8576b\"],[0.6666666666666666,\"#ed7953\"],[0.7777777777777778,\"#fb9f3a\"],[0.8888888888888888,\"#fdca26\"],[1.0,\"#f0f921\"]]}],\"surface\":[{\"type\":\"surface\",\"colorbar\":{\"outlinewidth\":0,\"ticks\":\"\"},\"colorscale\":[[0.0,\"#0d0887\"],[0.1111111111111111,\"#46039f\"],[0.2222222222222222,\"#7201a8\"],[0.3333333333333333,\"#9c179e\"],[0.4444444444444444,\"#bd3786\"],[0.5555555555555556,\"#d8576b\"],[0.6666666666666666,\"#ed7953\"],[0.7777777777777778,\"#fb9f3a\"],[0.8888888888888888,\"#fdca26\"],[1.0,\"#f0f921\"]]}],\"mesh3d\":[{\"type\":\"mesh3d\",\"colorbar\":{\"outlinewidth\":0,\"ticks\":\"\"}}],\"scatter\":[{\"fillpattern\":{\"fillmode\":\"overlay\",\"size\":10,\"solidity\":0.2},\"type\":\"scatter\"}],\"parcoords\":[{\"type\":\"parcoords\",\"line\":{\"colorbar\":{\"outlinewidth\":0,\"ticks\":\"\"}}}],\"scatterpolargl\":[{\"type\":\"scatterpolargl\",\"marker\":{\"colorbar\":{\"outlinewidth\":0,\"ticks\":\"\"}}}],\"bar\":[{\"error_x\":{\"color\":\"#2a3f5f\"},\"error_y\":{\"color\":\"#2a3f5f\"},\"marker\":{\"line\":{\"color\":\"#E5ECF6\",\"width\":0.5},\"pattern\":{\"fillmode\":\"overlay\",\"size\":10,\"solidity\":0.2}},\"type\":\"bar\"}],\"scattergeo\":[{\"type\":\"scattergeo\",\"marker\":{\"colorbar\":{\"outlinewidth\":0,\"ticks\":\"\"}}}],\"scatterpolar\":[{\"type\":\"scatterpolar\",\"marker\":{\"colorbar\":{\"outlinewidth\":0,\"ticks\":\"\"}}}],\"histogram\":[{\"marker\":{\"pattern\":{\"fillmode\":\"overlay\",\"size\":10,\"solidity\":0.2}},\"type\":\"histogram\"}],\"scattergl\":[{\"type\":\"scattergl\",\"marker\":{\"colorbar\":{\"outlinewidth\":0,\"ticks\":\"\"}}}],\"scatter3d\":[{\"type\":\"scatter3d\",\"line\":{\"colorbar\":{\"outlinewidth\":0,\"ticks\":\"\"}},\"marker\":{\"colorbar\":{\"outlinewidth\":0,\"ticks\":\"\"}}}],\"scattermapbox\":[{\"type\":\"scattermapbox\",\"marker\":{\"colorbar\":{\"outlinewidth\":0,\"ticks\":\"\"}}}],\"scatterternary\":[{\"type\":\"scatterternary\",\"marker\":{\"colorbar\":{\"outlinewidth\":0,\"ticks\":\"\"}}}],\"scattercarpet\":[{\"type\":\"scattercarpet\",\"marker\":{\"colorbar\":{\"outlinewidth\":0,\"ticks\":\"\"}}}],\"carpet\":[{\"aaxis\":{\"endlinecolor\":\"#2a3f5f\",\"gridcolor\":\"white\",\"linecolor\":\"white\",\"minorgridcolor\":\"white\",\"startlinecolor\":\"#2a3f5f\"},\"baxis\":{\"endlinecolor\":\"#2a3f5f\",\"gridcolor\":\"white\",\"linecolor\":\"white\",\"minorgridcolor\":\"white\",\"startlinecolor\":\"#2a3f5f\"},\"type\":\"carpet\"}],\"table\":[{\"cells\":{\"fill\":{\"color\":\"#EBF0F8\"},\"line\":{\"color\":\"white\"}},\"header\":{\"fill\":{\"color\":\"#C8D4E3\"},\"line\":{\"color\":\"white\"}},\"type\":\"table\"}],\"barpolar\":[{\"marker\":{\"line\":{\"color\":\"#E5ECF6\",\"width\":0.5},\"pattern\":{\"fillmode\":\"overlay\",\"size\":10,\"solidity\":0.2}},\"type\":\"barpolar\"}],\"pie\":[{\"automargin\":true,\"type\":\"pie\"}]},\"layout\":{\"autotypenumbers\":\"strict\",\"colorway\":[\"#636efa\",\"#EF553B\",\"#00cc96\",\"#ab63fa\",\"#FFA15A\",\"#19d3f3\",\"#FF6692\",\"#B6E880\",\"#FF97FF\",\"#FECB52\"],\"font\":{\"color\":\"#2a3f5f\"},\"hovermode\":\"closest\",\"hoverlabel\":{\"align\":\"left\"},\"paper_bgcolor\":\"white\",\"plot_bgcolor\":\"#E5ECF6\",\"polar\":{\"bgcolor\":\"#E5ECF6\",\"angularaxis\":{\"gridcolor\":\"white\",\"linecolor\":\"white\",\"ticks\":\"\"},\"radialaxis\":{\"gridcolor\":\"white\",\"linecolor\":\"white\",\"ticks\":\"\"}},\"ternary\":{\"bgcolor\":\"#E5ECF6\",\"aaxis\":{\"gridcolor\":\"white\",\"linecolor\":\"white\",\"ticks\":\"\"},\"baxis\":{\"gridcolor\":\"white\",\"linecolor\":\"white\",\"ticks\":\"\"},\"caxis\":{\"gridcolor\":\"white\",\"linecolor\":\"white\",\"ticks\":\"\"}},\"coloraxis\":{\"colorbar\":{\"outlinewidth\":0,\"ticks\":\"\"}},\"colorscale\":{\"sequential\":[[0.0,\"#0d0887\"],[0.1111111111111111,\"#46039f\"],[0.2222222222222222,\"#7201a8\"],[0.3333333333333333,\"#9c179e\"],[0.4444444444444444,\"#bd3786\"],[0.5555555555555556,\"#d8576b\"],[0.6666666666666666,\"#ed7953\"],[0.7777777777777778,\"#fb9f3a\"],[0.8888888888888888,\"#fdca26\"],[1.0,\"#f0f921\"]],\"sequentialminus\":[[0.0,\"#0d0887\"],[0.1111111111111111,\"#46039f\"],[0.2222222222222222,\"#7201a8\"],[0.3333333333333333,\"#9c179e\"],[0.4444444444444444,\"#bd3786\"],[0.5555555555555556,\"#d8576b\"],[0.6666666666666666,\"#ed7953\"],[0.7777777777777778,\"#fb9f3a\"],[0.8888888888888888,\"#fdca26\"],[1.0,\"#f0f921\"]],\"diverging\":[[0,\"#8e0152\"],[0.1,\"#c51b7d\"],[0.2,\"#de77ae\"],[0.3,\"#f1b6da\"],[0.4,\"#fde0ef\"],[0.5,\"#f7f7f7\"],[0.6,\"#e6f5d0\"],[0.7,\"#b8e186\"],[0.8,\"#7fbc41\"],[0.9,\"#4d9221\"],[1,\"#276419\"]]},\"xaxis\":{\"gridcolor\":\"white\",\"linecolor\":\"white\",\"ticks\":\"\",\"title\":{\"standoff\":15},\"zerolinecolor\":\"white\",\"automargin\":true,\"zerolinewidth\":2},\"yaxis\":{\"gridcolor\":\"white\",\"linecolor\":\"white\",\"ticks\":\"\",\"title\":{\"standoff\":15},\"zerolinecolor\":\"white\",\"automargin\":true,\"zerolinewidth\":2},\"scene\":{\"xaxis\":{\"backgroundcolor\":\"#E5ECF6\",\"gridcolor\":\"white\",\"linecolor\":\"white\",\"showbackground\":true,\"ticks\":\"\",\"zerolinecolor\":\"white\",\"gridwidth\":2},\"yaxis\":{\"backgroundcolor\":\"#E5ECF6\",\"gridcolor\":\"white\",\"linecolor\":\"white\",\"showbackground\":true,\"ticks\":\"\",\"zerolinecolor\":\"white\",\"gridwidth\":2},\"zaxis\":{\"backgroundcolor\":\"#E5ECF6\",\"gridcolor\":\"white\",\"linecolor\":\"white\",\"showbackground\":true,\"ticks\":\"\",\"zerolinecolor\":\"white\",\"gridwidth\":2}},\"shapedefaults\":{\"line\":{\"color\":\"#2a3f5f\"}},\"annotationdefaults\":{\"arrowcolor\":\"#2a3f5f\",\"arrowhead\":0,\"arrowwidth\":1},\"geo\":{\"bgcolor\":\"white\",\"landcolor\":\"#E5ECF6\",\"subunitcolor\":\"white\",\"showland\":true,\"showlakes\":true,\"lakecolor\":\"white\"},\"title\":{\"x\":0.05},\"mapbox\":{\"style\":\"light\"}}}},                        {\"responsive\": true}                    ).then(function(){\n",
       "                            \n",
       "var gd = document.getElementById('c1afdcea-1988-4676-80b0-300a487f8767');\n",
       "var x = new MutationObserver(function (mutations, observer) {{\n",
       "        var display = window.getComputedStyle(gd).display;\n",
       "        if (!display || display === 'none') {{\n",
       "            console.log([gd, 'removed!']);\n",
       "            Plotly.purge(gd);\n",
       "            observer.disconnect();\n",
       "        }}\n",
       "}});\n",
       "\n",
       "// Listen for the removal of the full notebook cells\n",
       "var notebookContainer = gd.closest('#notebook-container');\n",
       "if (notebookContainer) {{\n",
       "    x.observe(notebookContainer, {childList: true});\n",
       "}}\n",
       "\n",
       "// Listen for the clearing of the current output cell\n",
       "var outputEl = gd.closest('.output');\n",
       "if (outputEl) {{\n",
       "    x.observe(outputEl, {childList: true});\n",
       "}}\n",
       "\n",
       "                        })                };                            </script>        </div>\n",
       "</body>\n",
       "</html>"
      ]
     },
     "metadata": {},
     "output_type": "display_data"
    }
   ],
   "source": [
    "if not config['tune_parameters']:\n",
    "    optuna_study = optuna.load_study(study_name=f'hyperparameters_tuning_{config[\"model\"]}_{config[\"metric\"]}', storage=f'sqlite:///{config[\"database_path\"]}')\n",
    "    \n",
    "fig = optuna.visualization.plot_param_importances(optuna_study)\n",
    "fig.show()"
   ]
  },
  {
   "cell_type": "markdown",
   "id": "085003cb",
   "metadata": {
    "papermill": {
     "duration": 0.145411,
     "end_time": "2025-01-07T11:00:48.170131",
     "exception": false,
     "start_time": "2025-01-07T11:00:48.024720",
     "status": "completed"
    },
    "tags": []
   },
   "source": [
    "## Let's train the recommender with best parameter values"
   ]
  },
  {
   "cell_type": "code",
   "execution_count": 16,
   "id": "66f342cb",
   "metadata": {
    "execution": {
     "iopub.execute_input": "2025-01-07T11:00:48.469602Z",
     "iopub.status.busy": "2025-01-07T11:00:48.469186Z",
     "iopub.status.idle": "2025-01-07T11:01:13.872450Z",
     "shell.execute_reply": "2025-01-07T11:01:13.871248Z"
    },
    "papermill": {
     "duration": 25.551191,
     "end_time": "2025-01-07T11:01:13.875134",
     "exception": false,
     "start_time": "2025-01-07T11:00:48.323943",
     "status": "completed"
    },
    "tags": []
   },
   "outputs": [
    {
     "name": "stdout",
     "output_type": "stream",
     "text": [
      "RP3betaRecommender: Similarity column 38121 (100.0%), 1689.29 column/sec. Elapsed time 22.57 sec\n"
     ]
    }
   ],
   "source": [
    "if config['tune_best_params']:\n",
    "\n",
    "    if config['tune_parameters']:\n",
    "        best_params = optuna_study.best_trial.params\n",
    "    else: \n",
    "        with open(f'{K_PATH}/{GH_PATH}/{config[\"model\"]}Recommender/Optimizing{config[\"metric\"]}/best_params_{config[\"model\"]}_{config[\"metric\"]}.json', 'r') as best_params_json:\n",
    "            best_params = json.load(best_params_json)\n",
    "\n",
    "    recommender_instance = RP3betaRecommender(URM_train + URM_validation)\n",
    "    recommender_instance.fit(**best_params)"
   ]
  },
  {
   "cell_type": "markdown",
   "id": "ac488745",
   "metadata": {
    "papermill": {
     "duration": 0.146024,
     "end_time": "2025-01-07T11:01:14.168479",
     "exception": false,
     "start_time": "2025-01-07T11:01:14.022455",
     "status": "completed"
    },
    "tags": []
   },
   "source": [
    "# Testing"
   ]
  },
  {
   "cell_type": "markdown",
   "id": "21aadd58",
   "metadata": {
    "papermill": {
     "duration": 0.304899,
     "end_time": "2025-01-07T11:01:14.621571",
     "exception": false,
     "start_time": "2025-01-07T11:01:14.316672",
     "status": "completed"
    },
    "tags": []
   },
   "source": [
    "Create the recommendations for the submission. "
   ]
  },
  {
   "cell_type": "code",
   "execution_count": 17,
   "id": "7a525a19",
   "metadata": {
    "execution": {
     "iopub.execute_input": "2025-01-07T11:01:14.903024Z",
     "iopub.status.busy": "2025-01-07T11:01:14.902515Z",
     "iopub.status.idle": "2025-01-07T11:01:44.816065Z",
     "shell.execute_reply": "2025-01-07T11:01:44.814895Z"
    },
    "papermill": {
     "duration": 30.061144,
     "end_time": "2025-01-07T11:01:44.818305",
     "exception": false,
     "start_time": "2025-01-07T11:01:14.757161",
     "status": "completed"
    },
    "tags": []
   },
   "outputs": [
    {
     "name": "stdout",
     "output_type": "stream",
     "text": [
      "Submission file saved as /kaggle/working/submission_RP3beta_Recall.csv\n"
     ]
    }
   ],
   "source": [
    "if config['tune_best_params']:\n",
    "\n",
    "    data_target_users_test = pd.read_csv('/kaggle/input/recommender-system-2024-challenge-polimi/data_target_users_test.csv')\n",
    "    create_submission(data_target_users_test, recommender_instance, f'/kaggle/working/submission_{config[\"model\"]}_{config[\"metric\"]}.csv')"
   ]
  },
  {
   "cell_type": "markdown",
   "id": "4f7ac2a2",
   "metadata": {
    "execution": {
     "iopub.execute_input": "2024-11-14T00:04:16.877791Z",
     "iopub.status.busy": "2024-11-14T00:04:16.877275Z",
     "iopub.status.idle": "2024-11-14T00:04:16.883170Z",
     "shell.execute_reply": "2024-11-14T00:04:16.881889Z",
     "shell.execute_reply.started": "2024-11-14T00:04:16.877743Z"
    },
    "papermill": {
     "duration": 0.134545,
     "end_time": "2025-01-07T11:01:45.095253",
     "exception": false,
     "start_time": "2025-01-07T11:01:44.960708",
     "status": "completed"
    },
    "tags": []
   },
   "source": [
    "# Save Version on GitHub "
   ]
  },
  {
   "cell_type": "markdown",
   "id": "d221cd50",
   "metadata": {
    "papermill": {
     "duration": 0.13197,
     "end_time": "2025-01-07T11:01:45.359912",
     "exception": false,
     "start_time": "2025-01-07T11:01:45.227942",
     "status": "completed"
    },
    "tags": []
   },
   "source": [
    "Write or import a json file where best hyperparameters are saved. "
   ]
  },
  {
   "cell_type": "code",
   "execution_count": 18,
   "id": "8d719eb5",
   "metadata": {
    "execution": {
     "iopub.execute_input": "2025-01-07T11:01:45.640740Z",
     "iopub.status.busy": "2025-01-07T11:01:45.640277Z",
     "iopub.status.idle": "2025-01-07T11:01:46.705395Z",
     "shell.execute_reply": "2025-01-07T11:01:46.703885Z"
    },
    "papermill": {
     "duration": 1.213756,
     "end_time": "2025-01-07T11:01:46.707359",
     "exception": false,
     "start_time": "2025-01-07T11:01:45.493603",
     "status": "completed"
    },
    "tags": []
   },
   "outputs": [
    {
     "name": "stdout",
     "output_type": "stream",
     "text": [
      "File 'TrainedModels/WithKFCV/GraphBased/RP3betaRecommender/OptimizingRecall/best_params_RP3beta_Recall.json' updated successfully.\n"
     ]
    }
   ],
   "source": [
    "if config['tune_parameters']:\n",
    "    with open(f'/kaggle/working/best_params_{config[\"model\"]}_{config[\"metric\"]}.json', 'w') as params_file:\n",
    "        json.dump(optuna_study.best_params, params_file)\n",
    "        \n",
    "    if config['save_github']:\n",
    "        upload_file(\n",
    "            f'/kaggle/working/best_params_{config[\"model\"]}_{config[\"metric\"]}.json', \n",
    "            f'{GH_PATH}/{config[\"model\"]}Recommender/Optimizing{config[\"metric\"]}/best_params_{config[\"model\"]}_{config[\"metric\"]}.json', \n",
    "            f'{config[\"model\"]}_{config[\"metric\"]} tuning results (from kaggle notebook)',\n",
    "            repo\n",
    "        )\n",
    "elif config['copy_prev_best_params']:\n",
    "    shutil.copyfile(\n",
    "        f'{K_PATH}/{GH_PATH}/{config[\"model\"]}Recommender/Optimizing{config[\"metric\"]}/'\\\n",
    "        f'best_params_{config[\"model\"]}_{config[\"metric\"]}.json', \n",
    "        f'/kaggle/working/best_params_{config[\"model\"]}_{config[\"metric\"]}.json'\n",
    "    )"
   ]
  },
  {
   "cell_type": "markdown",
   "id": "53cca3e9",
   "metadata": {
    "execution": {
     "iopub.execute_input": "2024-11-14T00:41:34.294243Z",
     "iopub.status.busy": "2024-11-14T00:41:34.293739Z",
     "iopub.status.idle": "2024-11-14T00:41:34.301478Z",
     "shell.execute_reply": "2024-11-14T00:41:34.299869Z",
     "shell.execute_reply.started": "2024-11-14T00:41:34.294186Z"
    },
    "papermill": {
     "duration": 0.134525,
     "end_time": "2025-01-07T11:01:46.978545",
     "exception": false,
     "start_time": "2025-01-07T11:01:46.844020",
     "status": "completed"
    },
    "tags": []
   },
   "source": [
    "Save the history of the tuned model."
   ]
  },
  {
   "cell_type": "code",
   "execution_count": 19,
   "id": "fbff222f",
   "metadata": {
    "execution": {
     "iopub.execute_input": "2025-01-07T11:01:47.246176Z",
     "iopub.status.busy": "2025-01-07T11:01:47.245780Z",
     "iopub.status.idle": "2025-01-07T11:01:48.440124Z",
     "shell.execute_reply": "2025-01-07T11:01:48.438447Z"
    },
    "papermill": {
     "duration": 1.329312,
     "end_time": "2025-01-07T11:01:48.442176",
     "exception": false,
     "start_time": "2025-01-07T11:01:47.112864",
     "status": "completed"
    },
    "tags": []
   },
   "outputs": [
    {
     "name": "stdout",
     "output_type": "stream",
     "text": [
      "File 'TrainedModels/WithKFCV/GraphBased/RP3betaRecommender/OptimizingRecall/history_RP3beta_Recall.db' updated successfully.\n"
     ]
    }
   ],
   "source": [
    "if config['save_github'] and config['tune_parameters']:\n",
    "    upload_file(\n",
    "        config['database_path'], \n",
    "        f'{GH_PATH}/{config[\"model\"]}Recommender/Optimizing{config[\"metric\"]}/history_{config[\"model\"]}_{config[\"metric\"]}.db',\n",
    "        f'Tuning {config[\"model\"]}_{config[\"metric\"]} db updated results (from kaggle notebook)',\n",
    "        repo\n",
    "    )"
   ]
  },
  {
   "cell_type": "markdown",
   "id": "9e462ceb",
   "metadata": {
    "papermill": {
     "duration": 0.141082,
     "end_time": "2025-01-07T11:01:48.728596",
     "exception": false,
     "start_time": "2025-01-07T11:01:48.587514",
     "status": "completed"
    },
    "tags": []
   },
   "source": [
    "Save the best trained model and its submission."
   ]
  },
  {
   "cell_type": "code",
   "execution_count": 20,
   "id": "e087a8a0",
   "metadata": {
    "execution": {
     "iopub.execute_input": "2025-01-07T11:01:49.023721Z",
     "iopub.status.busy": "2025-01-07T11:01:49.023313Z",
     "iopub.status.idle": "2025-01-07T11:01:50.402873Z",
     "shell.execute_reply": "2025-01-07T11:01:50.401147Z"
    },
    "papermill": {
     "duration": 1.531303,
     "end_time": "2025-01-07T11:01:50.405682",
     "exception": false,
     "start_time": "2025-01-07T11:01:48.874379",
     "status": "completed"
    },
    "tags": []
   },
   "outputs": [
    {
     "name": "stdout",
     "output_type": "stream",
     "text": [
      "File 'TrainedModels/WithKFCV/GraphBased/RP3betaRecommender/OptimizingRecall/Submission/submission_RP3beta_Recall.csv' updated successfully.\n"
     ]
    }
   ],
   "source": [
    "if config['save_github'] and config['tune_best_params']: \n",
    "    upload_file(\n",
    "                f'/kaggle/working/submission_{config[\"model\"]}_{config[\"metric\"]}.csv', \n",
    "                f'{GH_PATH}/{config[\"model\"]}Recommender/Optimizing{config[\"metric\"]}/Submission/submission_{config[\"model\"]}_{config[\"metric\"]}.csv', \n",
    "                f'New {config[\"model\"]}_{config[\"metric\"]} submission (from kaggle notebook)',\n",
    "                repo\n",
    "            )"
   ]
  }
 ],
 "metadata": {
  "kaggle": {
   "accelerator": "none",
   "dataSources": [
    {
     "databundleVersionId": 9982103,
     "sourceId": 87439,
     "sourceType": "competition"
    }
   ],
   "dockerImageVersionId": 30822,
   "isGpuEnabled": false,
   "isInternetEnabled": true,
   "language": "python",
   "sourceType": "notebook"
  },
  "kernelspec": {
   "display_name": "Python 3",
   "language": "python",
   "name": "python3"
  },
  "language_info": {
   "codemirror_mode": {
    "name": "ipython",
    "version": 3
   },
   "file_extension": ".py",
   "mimetype": "text/x-python",
   "name": "python",
   "nbconvert_exporter": "python",
   "pygments_lexer": "ipython3",
   "version": "3.10.12"
  },
  "papermill": {
   "default_parameters": {},
   "duration": 42652.538042,
   "end_time": "2025-01-07T11:01:52.369909",
   "environment_variables": {},
   "exception": null,
   "input_path": "__notebook__.ipynb",
   "output_path": "__notebook__.ipynb",
   "parameters": {},
   "start_time": "2025-01-06T23:10:59.831867",
   "version": "2.6.0"
  }
 },
 "nbformat": 4,
 "nbformat_minor": 5
}
