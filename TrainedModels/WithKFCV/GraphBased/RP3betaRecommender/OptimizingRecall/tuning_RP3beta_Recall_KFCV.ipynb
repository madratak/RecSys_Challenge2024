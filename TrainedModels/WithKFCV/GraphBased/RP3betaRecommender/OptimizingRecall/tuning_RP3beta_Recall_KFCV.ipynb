{
 "cells": [
  {
   "cell_type": "markdown",
   "id": "1b486b26",
   "metadata": {
    "papermill": {
     "duration": 0.006608,
     "end_time": "2025-01-07T11:11:26.736140",
     "exception": false,
     "start_time": "2025-01-07T11:11:26.729532",
     "status": "completed"
    },
    "tags": []
   },
   "source": [
    "# Set connection with GitHub"
   ]
  },
  {
   "cell_type": "code",
   "execution_count": 1,
   "id": "ed2559ce",
   "metadata": {
    "execution": {
     "iopub.execute_input": "2025-01-07T11:11:26.749156Z",
     "iopub.status.busy": "2025-01-07T11:11:26.748743Z",
     "iopub.status.idle": "2025-01-07T11:11:26.754609Z",
     "shell.execute_reply": "2025-01-07T11:11:26.753619Z"
    },
    "papermill": {
     "duration": 0.014165,
     "end_time": "2025-01-07T11:11:26.756248",
     "exception": false,
     "start_time": "2025-01-07T11:11:26.742083",
     "status": "completed"
    },
    "tags": []
   },
   "outputs": [],
   "source": [
    "# ! cd /kaggle/working && rm -rf RECsys_Challenge2024"
   ]
  },
  {
   "cell_type": "code",
   "execution_count": 2,
   "id": "74686ff3",
   "metadata": {
    "_cell_guid": "b1076dfc-b9ad-4769-8c92-a6c4dae69d19",
    "_uuid": "8f2839f25d086af736a60e9eeb907d3b93b6e0e5",
    "execution": {
     "iopub.execute_input": "2025-01-07T11:11:26.769365Z",
     "iopub.status.busy": "2025-01-07T11:11:26.769016Z",
     "iopub.status.idle": "2025-01-07T11:11:43.506986Z",
     "shell.execute_reply": "2025-01-07T11:11:43.505785Z"
    },
    "papermill": {
     "duration": 16.746911,
     "end_time": "2025-01-07T11:11:43.509078",
     "exception": false,
     "start_time": "2025-01-07T11:11:26.762167",
     "status": "completed"
    },
    "tags": []
   },
   "outputs": [
    {
     "name": "stdout",
     "output_type": "stream",
     "text": [
      "Cloning into 'RECsys_Challenge2024'...\r\n",
      "remote: Enumerating objects: 7506, done.\u001b[K\r\n",
      "remote: Counting objects: 100% (1/1), done.\u001b[K\r\n",
      "remote: Total 7506 (delta 0), reused 0 (delta 0), pack-reused 7505 (from 3)\u001b[K\r\n",
      "Receiving objects: 100% (7506/7506), 424.99 MiB | 35.30 MiB/s, done.\r\n",
      "Resolving deltas: 100% (4104/4104), done.\r\n",
      "Updating files: 100% (506/506), done.\r\n"
     ]
    }
   ],
   "source": [
    "from kaggle_secrets import UserSecretsClient\n",
    "\n",
    "token = UserSecretsClient().get_secret(\"Token\")\n",
    "\n",
    "! git clone https://{token}@github.com/madratak/RECsys_Challenge2024.git"
   ]
  },
  {
   "cell_type": "code",
   "execution_count": 3,
   "id": "58fb94f0",
   "metadata": {
    "execution": {
     "iopub.execute_input": "2025-01-07T11:11:43.533038Z",
     "iopub.status.busy": "2025-01-07T11:11:43.532591Z",
     "iopub.status.idle": "2025-01-07T11:11:50.268054Z",
     "shell.execute_reply": "2025-01-07T11:11:50.266730Z"
    },
    "papermill": {
     "duration": 6.749638,
     "end_time": "2025-01-07T11:11:50.270171",
     "exception": false,
     "start_time": "2025-01-07T11:11:43.520533",
     "status": "completed"
    },
    "tags": []
   },
   "outputs": [
    {
     "name": "stdout",
     "output_type": "stream",
     "text": [
      "Collecting PyGithub\r\n",
      "  Downloading PyGithub-2.5.0-py3-none-any.whl.metadata (3.9 kB)\r\n",
      "Requirement already satisfied: requests in /usr/local/lib/python3.10/dist-packages (2.32.3)\r\n",
      "Collecting pynacl>=1.4.0 (from PyGithub)\r\n",
      "  Downloading PyNaCl-1.5.0-cp36-abi3-manylinux_2_17_x86_64.manylinux2014_x86_64.manylinux_2_24_x86_64.whl.metadata (8.6 kB)\r\n",
      "Requirement already satisfied: pyjwt>=2.4.0 in /usr/local/lib/python3.10/dist-packages (from pyjwt[crypto]>=2.4.0->PyGithub) (2.9.0)\r\n",
      "Requirement already satisfied: typing-extensions>=4.0.0 in /usr/local/lib/python3.10/dist-packages (from PyGithub) (4.12.2)\r\n",
      "Requirement already satisfied: urllib3>=1.26.0 in /usr/local/lib/python3.10/dist-packages (from PyGithub) (2.2.3)\r\n",
      "Requirement already satisfied: Deprecated in /usr/local/lib/python3.10/dist-packages (from PyGithub) (1.2.15)\r\n",
      "Requirement already satisfied: charset-normalizer<4,>=2 in /usr/local/lib/python3.10/dist-packages (from requests) (3.3.2)\r\n",
      "Requirement already satisfied: idna<4,>=2.5 in /usr/local/lib/python3.10/dist-packages (from requests) (3.10)\r\n",
      "Requirement already satisfied: certifi>=2017.4.17 in /usr/local/lib/python3.10/dist-packages (from requests) (2024.8.30)\r\n",
      "Requirement already satisfied: cryptography>=3.4.0 in /usr/local/lib/python3.10/dist-packages (from pyjwt[crypto]>=2.4.0->PyGithub) (43.0.1)\r\n",
      "Requirement already satisfied: cffi>=1.4.1 in /usr/local/lib/python3.10/dist-packages (from pynacl>=1.4.0->PyGithub) (1.17.1)\r\n",
      "Requirement already satisfied: wrapt<2,>=1.10 in /usr/local/lib/python3.10/dist-packages (from Deprecated->PyGithub) (1.16.0)\r\n",
      "Requirement already satisfied: pycparser in /usr/local/lib/python3.10/dist-packages (from cffi>=1.4.1->pynacl>=1.4.0->PyGithub) (2.22)\r\n",
      "Downloading PyGithub-2.5.0-py3-none-any.whl (375 kB)\r\n",
      "\u001b[2K   \u001b[90m━━━━━━━━━━━━━━━━━━━━━━━━━━━━━━━━━━━━━━━━\u001b[0m \u001b[32m375.9/375.9 kB\u001b[0m \u001b[31m6.3 MB/s\u001b[0m eta \u001b[36m0:00:00\u001b[0m\r\n",
      "\u001b[?25hDownloading PyNaCl-1.5.0-cp36-abi3-manylinux_2_17_x86_64.manylinux2014_x86_64.manylinux_2_24_x86_64.whl (856 kB)\r\n",
      "\u001b[2K   \u001b[90m━━━━━━━━━━━━━━━━━━━━━━━━━━━━━━━━━━━━━━━━\u001b[0m \u001b[32m856.7/856.7 kB\u001b[0m \u001b[31m27.7 MB/s\u001b[0m eta \u001b[36m0:00:00\u001b[0m\r\n",
      "\u001b[?25hInstalling collected packages: pynacl, PyGithub\r\n",
      "Successfully installed PyGithub-2.5.0 pynacl-1.5.0\r\n"
     ]
    }
   ],
   "source": [
    "! pip install PyGithub requests"
   ]
  },
  {
   "cell_type": "code",
   "execution_count": 4,
   "id": "3cb93667",
   "metadata": {
    "_kg_hide-input": false,
    "execution": {
     "iopub.execute_input": "2025-01-07T11:11:50.295317Z",
     "iopub.status.busy": "2025-01-07T11:11:50.294965Z",
     "iopub.status.idle": "2025-01-07T11:14:31.854984Z",
     "shell.execute_reply": "2025-01-07T11:14:31.853537Z"
    },
    "papermill": {
     "duration": 161.575381,
     "end_time": "2025-01-07T11:14:31.857459",
     "exception": false,
     "start_time": "2025-01-07T11:11:50.282078",
     "status": "completed"
    },
    "tags": []
   },
   "outputs": [
    {
     "name": "stdout",
     "output_type": "stream",
     "text": [
      "/kaggle/working/RECsys_Challenge2024\n",
      "run_compile_all_cython: Found 11 Cython files in 5 folders...\r\n",
      "run_compile_all_cython: All files will be compiled using your current python environment: '/usr/bin/python3'\r\n",
      "Compiling [1/11]: MatrixFactorization_Cython_Epoch.pyx... \r\n",
      "In file included from \u001b[01m\u001b[K/usr/local/lib/python3.10/dist-packages/numpy/core/include/numpy/ndarraytypes.h:1929\u001b[m\u001b[K,\r\n",
      "                 from \u001b[01m\u001b[K/usr/local/lib/python3.10/dist-packages/numpy/core/include/numpy/ndarrayobject.h:12\u001b[m\u001b[K,\r\n",
      "                 from \u001b[01m\u001b[K/usr/local/lib/python3.10/dist-packages/numpy/core/include/numpy/arrayobject.h:5\u001b[m\u001b[K,\r\n",
      "                 from \u001b[01m\u001b[KMatrixFactorization_Cython_Epoch.c:1252\u001b[m\u001b[K:\r\n",
      "\u001b[01m\u001b[K/usr/local/lib/python3.10/dist-packages/numpy/core/include/numpy/npy_1_7_deprecated_api.h:17:2:\u001b[m\u001b[K \u001b[01;35m\u001b[Kwarning: \u001b[m\u001b[K#warning \"Using deprecated NumPy API, disable it with \" \"#define NPY_NO_DEPRECATED_API NPY_1_7_API_VERSION\" [\u001b[01;35m\u001b[K\u001b]8;;https://gcc.gnu.org/onlinedocs/gcc/Warning-Options.html#index-Wcpp\u0007-Wcpp\u001b]8;;\u0007\u001b[m\u001b[K]\r\n",
      "   17 | #\u001b[01;35m\u001b[Kwarning\u001b[m\u001b[K \"Using deprecated NumPy API, disable it with \" \\\r\n",
      "      |  \u001b[01;35m\u001b[K^~~~~~~\u001b[m\u001b[K\r\n",
      "\u001b[01m\u001b[KMatrixFactorization_Cython_Epoch.c:\u001b[m\u001b[K In function ‘\u001b[01m\u001b[K__pyx_pf_32MatrixFactorization_Cython_Epoch_32MatrixFactorization_Cython_Epoch_10epochIteration_Cython_ASY_SVD_SGD\u001b[m\u001b[K’:\r\n",
      "\u001b[01m\u001b[KMatrixFactorization_Cython_Epoch.c:26256:68:\u001b[m\u001b[K \u001b[01;35m\u001b[Kwarning: \u001b[m\u001b[K‘\u001b[01m\u001b[K__pyx_v_end_pos_seen_items\u001b[m\u001b[K’ may be used uninitialized in this function [\u001b[01;35m\u001b[K\u001b]8;;https://gcc.gnu.org/onlinedocs/gcc/Warning-Options.html#index-Wmaybe-uninitialized\u0007-Wmaybe-uninitialized\u001b]8;;\u0007\u001b[m\u001b[K]\r\n",
      "26256 |         for (__pyx_t_22 = __pyx_v_start_pos_seen_items; \u001b[01;35m\u001b[K__pyx_t_22 < __pyx_t_21\u001b[m\u001b[K; __pyx_t_22+=1) {\r\n",
      "      |                                                         \u001b[01;35m\u001b[K~~~~~~~~~~~^~~~~~~~~~~~\u001b[m\u001b[K\r\n",
      "\u001b[01m\u001b[KMatrixFactorization_Cython_Epoch.c:26256:68:\u001b[m\u001b[K \u001b[01;35m\u001b[Kwarning: \u001b[m\u001b[K‘\u001b[01m\u001b[K__pyx_v_start_pos_seen_items\u001b[m\u001b[K’ may be used uninitialized in this function [\u001b[01;35m\u001b[K\u001b]8;;https://gcc.gnu.org/onlinedocs/gcc/Warning-Options.html#index-Wmaybe-uninitialized\u0007-Wmaybe-uninitialized\u001b]8;;\u0007\u001b[m\u001b[K]\r\n",
      "/usr/local/lib/python3.10/dist-packages/Cython/Compiler/Main.py:381: FutureWarning: Cython directive 'language_level' not set, using '3str' for now (Py3). This has changed from earlier releases! File: /kaggle/working/RECsys_Challenge2024/Recommenders/MatrixFactorization/Cython/MatrixFactorization_Cython_Epoch.pyx\r\n",
      "  tree = Parsing.p_module(s, pxd, full_module_name)\r\n",
      "Compiling [1/11]: MatrixFactorization_Cython_Epoch.pyx... PASS\r\n",
      "\r\n",
      "Compiling [2/11]: MatrixFactorizationImpressions_Cython_Epoch.pyx... \r\n",
      "In file included from \u001b[01m\u001b[K/usr/local/lib/python3.10/dist-packages/numpy/core/include/numpy/ndarraytypes.h:1929\u001b[m\u001b[K,\r\n",
      "                 from \u001b[01m\u001b[K/usr/local/lib/python3.10/dist-packages/numpy/core/include/numpy/ndarrayobject.h:12\u001b[m\u001b[K,\r\n",
      "                 from \u001b[01m\u001b[K/usr/local/lib/python3.10/dist-packages/numpy/core/include/numpy/arrayobject.h:5\u001b[m\u001b[K,\r\n",
      "                 from \u001b[01m\u001b[KMatrixFactorizationImpressions_Cython_Epoch.c:1252\u001b[m\u001b[K:\r\n",
      "\u001b[01m\u001b[K/usr/local/lib/python3.10/dist-packages/numpy/core/include/numpy/npy_1_7_deprecated_api.h:17:2:\u001b[m\u001b[K \u001b[01;35m\u001b[Kwarning: \u001b[m\u001b[K#warning \"Using deprecated NumPy API, disable it with \" \"#define NPY_NO_DEPRECATED_API NPY_1_7_API_VERSION\" [\u001b[01;35m\u001b[K\u001b]8;;https://gcc.gnu.org/onlinedocs/gcc/Warning-Options.html#index-Wcpp\u0007-Wcpp\u001b]8;;\u0007\u001b[m\u001b[K]\r\n",
      "   17 | #\u001b[01;35m\u001b[Kwarning\u001b[m\u001b[K \"Using deprecated NumPy API, disable it with \" \\\r\n",
      "      |  \u001b[01;35m\u001b[K^~~~~~~\u001b[m\u001b[K\r\n",
      "\u001b[01m\u001b[KMatrixFactorizationImpressions_Cython_Epoch.c:\u001b[m\u001b[K In function ‘\u001b[01m\u001b[K__pyx_f_43MatrixFactorizationImpressions_Cython_Epoch_32MatrixFactorization_Cython_Epoch_sampleBPR_Cython\u001b[m\u001b[K’:\r\n",
      "\u001b[01m\u001b[KMatrixFactorizationImpressions_Cython_Epoch.c:30353:17:\u001b[m\u001b[K \u001b[01;35m\u001b[Kwarning: \u001b[m\u001b[K‘\u001b[01m\u001b[K__pyx_v_start_pos_impression_items\u001b[m\u001b[K’ may be used uninitialized in this function [\u001b[01;35m\u001b[K\u001b]8;;https://gcc.gnu.org/onlinedocs/gcc/Warning-Options.html#index-Wmaybe-uninitialized\u0007-Wmaybe-uninitialized\u001b]8;;\u0007\u001b[m\u001b[K]\r\n",
      "30353 |       \u001b[01;35m\u001b[K__pyx_t_4 = (__pyx_v_start_pos_impression_items + __pyx_v_index)\u001b[m\u001b[K;\r\n",
      "      |       \u001b[01;35m\u001b[K~~~~~~~~~~^~~~~~~~~~~~~~~~~~~~~~~~~~~~~~~~~~~~~~~~~~~~~~~~~~~~~~\u001b[m\u001b[K\r\n",
      "\u001b[01m\u001b[KMatrixFactorizationImpressions_Cython_Epoch.c:\u001b[m\u001b[K In function ‘\u001b[01m\u001b[K__pyx_pf_43MatrixFactorizationImpressions_Cython_Epoch_32MatrixFactorization_Cython_Epoch_10epochIteration_Cython_ASY_SVD_SGD\u001b[m\u001b[K’:\r\n",
      "\u001b[01m\u001b[KMatrixFactorizationImpressions_Cython_Epoch.c:26112:66:\u001b[m\u001b[K \u001b[01;35m\u001b[Kwarning: \u001b[m\u001b[K‘\u001b[01m\u001b[K__pyx_v_end_pos_seen_items\u001b[m\u001b[K’ may be used uninitialized in this function [\u001b[01;35m\u001b[K\u001b]8;;https://gcc.gnu.org/onlinedocs/gcc/Warning-Options.html#index-Wmaybe-uninitialized\u0007-Wmaybe-uninitialized\u001b]8;;\u0007\u001b[m\u001b[K]\r\n",
      "26112 |       for (__pyx_t_22 = __pyx_v_start_pos_seen_items; \u001b[01;35m\u001b[K__pyx_t_22 < __pyx_t_21\u001b[m\u001b[K; __pyx_t_22+=1) {\r\n",
      "      |                                                       \u001b[01;35m\u001b[K~~~~~~~~~~~^~~~~~~~~~~~\u001b[m\u001b[K\r\n",
      "\u001b[01m\u001b[KMatrixFactorizationImpressions_Cython_Epoch.c:26112:66:\u001b[m\u001b[K \u001b[01;35m\u001b[Kwarning: \u001b[m\u001b[K‘\u001b[01m\u001b[K__pyx_v_start_pos_seen_items\u001b[m\u001b[K’ may be used uninitialized in this function [\u001b[01;35m\u001b[K\u001b]8;;https://gcc.gnu.org/onlinedocs/gcc/Warning-Options.html#index-Wmaybe-uninitialized\u0007-Wmaybe-uninitialized\u001b]8;;\u0007\u001b[m\u001b[K]\r\n",
      "/usr/local/lib/python3.10/dist-packages/Cython/Compiler/Main.py:381: FutureWarning: Cython directive 'language_level' not set, using '3str' for now (Py3). This has changed from earlier releases! File: /kaggle/working/RECsys_Challenge2024/Recommenders/MatrixFactorization/Cython/MatrixFactorizationImpressions_Cython_Epoch.pyx\r\n",
      "  tree = Parsing.p_module(s, pxd, full_module_name)\r\n",
      "Compiling [2/11]: MatrixFactorizationImpressions_Cython_Epoch.pyx... PASS\r\n",
      "\r\n",
      "Compiling [3/11]: Compute_Similarity_Cython.pyx... \r\n",
      "warning: Compute_Similarity_Cython.pyx:21:0: The 'IF' statement is deprecated and will be removed in a future Cython version. Consider using runtime conditions or C macros instead. See https://github.com/cython/cython/issues/4310\r\n",
      "In file included from \u001b[01m\u001b[K/usr/local/lib/python3.10/dist-packages/numpy/core/include/numpy/ndarraytypes.h:1929\u001b[m\u001b[K,\r\n",
      "                 from \u001b[01m\u001b[K/usr/local/lib/python3.10/dist-packages/numpy/core/include/numpy/ndarrayobject.h:12\u001b[m\u001b[K,\r\n",
      "                 from \u001b[01m\u001b[K/usr/local/lib/python3.10/dist-packages/numpy/core/include/numpy/arrayobject.h:5\u001b[m\u001b[K,\r\n",
      "                 from \u001b[01m\u001b[KCompute_Similarity_Cython.c:1252\u001b[m\u001b[K:\r\n",
      "\u001b[01m\u001b[K/usr/local/lib/python3.10/dist-packages/numpy/core/include/numpy/npy_1_7_deprecated_api.h:17:2:\u001b[m\u001b[K \u001b[01;35m\u001b[Kwarning: \u001b[m\u001b[K#warning \"Using deprecated NumPy API, disable it with \" \"#define NPY_NO_DEPRECATED_API NPY_1_7_API_VERSION\" [\u001b[01;35m\u001b[K\u001b]8;;https://gcc.gnu.org/onlinedocs/gcc/Warning-Options.html#index-Wcpp\u0007-Wcpp\u001b]8;;\u0007\u001b[m\u001b[K]\r\n",
      "   17 | #\u001b[01;35m\u001b[Kwarning\u001b[m\u001b[K \"Using deprecated NumPy API, disable it with \" \\\r\n",
      "      |  \u001b[01;35m\u001b[K^~~~~~~\u001b[m\u001b[K\r\n",
      "/usr/local/lib/python3.10/dist-packages/Cython/Compiler/Main.py:381: FutureWarning: Cython directive 'language_level' not set, using '3str' for now (Py3). This has changed from earlier releases! File: /kaggle/working/RECsys_Challenge2024/Recommenders/Similarity/Cython/Compute_Similarity_Cython.pyx\r\n",
      "  tree = Parsing.p_module(s, pxd, full_module_name)\r\n",
      "warning: Compute_Similarity_Cython.pyx:21:0: The 'IF' statement is deprecated and will be removed in a future Cython version. Consider using runtime conditions or C macros instead. See https://github.com/cython/cython/issues/4310\r\n",
      "Compiling [3/11]: Compute_Similarity_Cython.pyx... PASS\r\n",
      "\r\n",
      "Compiling [4/11]: SLIM_BPR_Cython_Epoch.pyx... \r\n",
      "warning: SLIM_BPR_Cython_Epoch.pyx:24:0: The 'IF' statement is deprecated and will be removed in a future Cython version. Consider using runtime conditions or C macros instead. See https://github.com/cython/cython/issues/4310\r\n",
      "warning: SLIM_BPR_Cython_Epoch.pyx:632:34: Non-trivial type declarators in shared declaration (e.g. mix of pointers and values). Each pointer declaration should be on its own line.\r\n",
      "warning: SLIM_BPR_Cython_Epoch.pyx:632:66: Non-trivial type declarators in shared declaration (e.g. mix of pointers and values). Each pointer declaration should be on its own line.\r\n",
      "warning: SLIM_BPR_Cython_Epoch.pyx:817:35: Non-trivial type declarators in shared declaration (e.g. mix of pointers and values). Each pointer declaration should be on its own line.\r\n",
      "warning: SLIM_BPR_Cython_Epoch.pyx:817:52: Non-trivial type declarators in shared declaration (e.g. mix of pointers and values). Each pointer declaration should be on its own line.\r\n",
      "warning: SLIM_BPR_Cython_Epoch.pyx:916:35: Non-trivial type declarators in shared declaration (e.g. mix of pointers and values). Each pointer declaration should be on its own line.\r\n",
      "warning: SLIM_BPR_Cython_Epoch.pyx:916:53: Non-trivial type declarators in shared declaration (e.g. mix of pointers and values). Each pointer declaration should be on its own line.\r\n",
      "warning: SLIM_BPR_Cython_Epoch.pyx:916:69: Non-trivial type declarators in shared declaration (e.g. mix of pointers and values). Each pointer declaration should be on its own line.\r\n",
      "warning: SLIM_BPR_Cython_Epoch.pyx:1051:35: Non-trivial type declarators in shared declaration (e.g. mix of pointers and values). Each pointer declaration should be on its own line.\r\n",
      "warning: SLIM_BPR_Cython_Epoch.pyx:1051:42: Non-trivial type declarators in shared declaration (e.g. mix of pointers and values). Each pointer declaration should be on its own line.\r\n",
      "warning: SLIM_BPR_Cython_Epoch.pyx:1052:35: Non-trivial type declarators in shared declaration (e.g. mix of pointers and values). Each pointer declaration should be on its own line.\r\n",
      "warning: SLIM_BPR_Cython_Epoch.pyx:1052:53: Non-trivial type declarators in shared declaration (e.g. mix of pointers and values). Each pointer declaration should be on its own line.\r\n",
      "\r\n",
      "Error compiling Cython file:\r\n",
      "------------------------------------------------------------\r\n",
      "...\r\n",
      "            vector_pointer_to_list_elements[index].head = current_element\r\n",
      "            current_element = current_element.higher\r\n",
      "\r\n",
      "\r\n",
      "        # Sort array elements on their data field\r\n",
      "        qsort(vector_pointer_to_list_elements, list_length, sizeof(head_pointer_tree_s), compare_struct_on_data)\r\n",
      "                                                                                         ^\r\n",
      "------------------------------------------------------------\r\n",
      "\r\n",
      "SLIM_BPR_Cython_Epoch.pyx:990:89: Cannot assign type 'int (const void *, const void *) except? -1' to 'int (*)(const_void *, const_void *) noexcept'. Exception values are incompatible. Suggest adding 'noexcept' to the type of 'compare_struct_on_data'.\r\n",
      "\r\n",
      "Error compiling Cython file:\r\n",
      "------------------------------------------------------------\r\n",
      "...\r\n",
      "        # Sort array elements on their data field\r\n",
      "        qsort(vector_pointer_to_list_elements, list_length, sizeof(head_pointer_tree_s), compare_struct_on_data)\r\n",
      "\r\n",
      "        # Sort only the TopK according to their column field\r\n",
      "        # Sort is from lower to higher, therefore the elements to be considered are from len-topK to len\r\n",
      "        qsort(&vector_pointer_to_list_elements[list_length-TopK], TopK, sizeof(head_pointer_tree_s), compare_struct_on_column)\r\n",
      "                                                                                                     ^\r\n",
      "------------------------------------------------------------\r\n",
      "\r\n",
      "SLIM_BPR_Cython_Epoch.pyx:994:101: Cannot assign type 'int (const void *, const void *) except? -1' to 'int (*)(const_void *, const_void *) noexcept'. Exception values are incompatible. Suggest adding 'noexcept' to the type of 'compare_struct_on_column'.\r\n",
      "Traceback (most recent call last):\r\n",
      "  File \"/kaggle/working/RECsys_Challenge2024/CythonCompiler/compile_script.py\", line 48, in <module>\r\n",
      "    setup(\r\n",
      "  File \"/usr/local/lib/python3.10/dist-packages/setuptools/__init__.py\", line 108, in setup\r\n",
      "    return distutils.core.setup(**attrs)\r\n",
      "  File \"/usr/local/lib/python3.10/dist-packages/setuptools/_distutils/core.py\", line 184, in setup\r\n",
      "    return run_commands(dist)\r\n",
      "  File \"/usr/local/lib/python3.10/dist-packages/setuptools/_distutils/core.py\", line 200, in run_commands\r\n",
      "    dist.run_commands()\r\n",
      "  File \"/usr/local/lib/python3.10/dist-packages/setuptools/_distutils/dist.py\", line 970, in run_commands\r\n",
      "    self.run_command(cmd)\r\n",
      "  File \"/usr/local/lib/python3.10/dist-packages/setuptools/dist.py\", line 956, in run_command\r\n",
      "    super().run_command(command)\r\n",
      "  File \"/usr/local/lib/python3.10/dist-packages/setuptools/_distutils/dist.py\", line 989, in run_command\r\n",
      "    cmd_obj.run()\r\n",
      "  File \"/usr/local/lib/python3.10/dist-packages/setuptools/_distutils/command/build_ext.py\", line 359, in run\r\n",
      "    self.build_extensions()\r\n",
      "  File \"/usr/local/lib/python3.10/dist-packages/setuptools/_distutils/command/build_ext.py\", line 479, in build_extensions\r\n",
      "    self._build_extensions_serial()\r\n",
      "  File \"/usr/local/lib/python3.10/dist-packages/setuptools/_distutils/command/build_ext.py\", line 505, in _build_extensions_serial\r\n",
      "    self.build_extension(ext)\r\n",
      "  File \"/usr/local/lib/python3.10/dist-packages/Cython/Distutils/build_ext.py\", line 130, in build_extension\r\n",
      "    new_ext = cythonize(\r\n",
      "  File \"/usr/local/lib/python3.10/dist-packages/Cython/Build/Dependencies.py\", line 1154, in cythonize\r\n",
      "    cythonize_one(*args)\r\n",
      "  File \"/usr/local/lib/python3.10/dist-packages/Cython/Build/Dependencies.py\", line 1321, in cythonize_one\r\n",
      "    raise CompileError(None, pyx_file)\r\n",
      "Cython.Compiler.Errors.CompileError: SLIM_BPR_Cython_Epoch.pyx\r\n",
      "Traceback (most recent call last):\r\n",
      "  File \"/kaggle/working/RECsys_Challenge2024/run_compile_all_cython.py\", line 60, in <module>\r\n",
      "    run_compile_subprocess(file_path, [file_name])\r\n",
      "  File \"/kaggle/working/RECsys_Challenge2024/CythonCompiler/run_compile_subprocess.py\", line 51, in run_compile_subprocess\r\n",
      "    raise exc\r\n",
      "  File \"/kaggle/working/RECsys_Challenge2024/CythonCompiler/run_compile_subprocess.py\", line 32, in run_compile_subprocess\r\n",
      "    output = subprocess.check_output(' '.join(command),\r\n",
      "  File \"/usr/lib/python3.10/subprocess.py\", line 421, in check_output\r\n",
      "    return run(*popenargs, stdout=PIPE, timeout=timeout, check=True,\r\n",
      "  File \"/usr/lib/python3.10/subprocess.py\", line 526, in run\r\n",
      "    raise CalledProcessError(retcode, process.args,\r\n",
      "subprocess.CalledProcessError: Command '/usr/bin/python3 /kaggle/working/RECsys_Challenge2024/CythonCompiler/compile_script.py SLIM_BPR_Cython_Epoch.pyx build_ext --inplace' returned non-zero exit status 1.\r\n",
      "Compiling [4/11]: SLIM_BPR_Cython_Epoch.pyx... FAIL: Command '/usr/bin/python3 /kaggle/working/RECsys_Challenge2024/CythonCompiler/compile_script.py SLIM_BPR_Cython_Epoch.pyx build_ext --inplace' returned non-zero exit status 1.\r\n",
      "\r\n",
      "Compiling [5/11]: Triangular_Matrix.pyx... \r\n",
      "warning: Triangular_Matrix.pyx:22:0: The 'IF' statement is deprecated and will be removed in a future Cython version. Consider using runtime conditions or C macros instead. See https://github.com/cython/cython/issues/4310\r\n",
      "In file included from \u001b[01m\u001b[K/usr/local/lib/python3.10/dist-packages/numpy/core/include/numpy/ndarraytypes.h:1929\u001b[m\u001b[K,\r\n",
      "                 from \u001b[01m\u001b[K/usr/local/lib/python3.10/dist-packages/numpy/core/include/numpy/ndarrayobject.h:12\u001b[m\u001b[K,\r\n",
      "                 from \u001b[01m\u001b[K/usr/local/lib/python3.10/dist-packages/numpy/core/include/numpy/arrayobject.h:5\u001b[m\u001b[K,\r\n",
      "                 from \u001b[01m\u001b[KTriangular_Matrix.c:1252\u001b[m\u001b[K:\r\n",
      "\u001b[01m\u001b[K/usr/local/lib/python3.10/dist-packages/numpy/core/include/numpy/npy_1_7_deprecated_api.h:17:2:\u001b[m\u001b[K \u001b[01;35m\u001b[Kwarning: \u001b[m\u001b[K#warning \"Using deprecated NumPy API, disable it with \" \"#define NPY_NO_DEPRECATED_API NPY_1_7_API_VERSION\" [\u001b[01;35m\u001b[K\u001b]8;;https://gcc.gnu.org/onlinedocs/gcc/Warning-Options.html#index-Wcpp\u0007-Wcpp\u001b]8;;\u0007\u001b[m\u001b[K]\r\n",
      "   17 | #\u001b[01;35m\u001b[Kwarning\u001b[m\u001b[K \"Using deprecated NumPy API, disable it with \" \\\r\n",
      "      |  \u001b[01;35m\u001b[K^~~~~~~\u001b[m\u001b[K\r\n",
      "In function ‘\u001b[01m\u001b[K__pyx_pf_17Triangular_Matrix_17Triangular_Matrix___init__\u001b[m\u001b[K’,\r\n",
      "    inlined from ‘\u001b[01m\u001b[K__pyx_pw_17Triangular_Matrix_17Triangular_Matrix_1__init__\u001b[m\u001b[K’ at \u001b[01m\u001b[KTriangular_Matrix.c:5541:13\u001b[m\u001b[K:\r\n",
      "\u001b[01m\u001b[KTriangular_Matrix.c:5599:43:\u001b[m\u001b[K \u001b[01;35m\u001b[Kwarning: \u001b[m\u001b[Kargument 1 value ‘\u001b[01m\u001b[K18446744073709551608\u001b[m\u001b[K’ exceeds maximum object size 9223372036854775807 [\u001b[01;35m\u001b[K\u001b]8;;https://gcc.gnu.org/onlinedocs/gcc/Warning-Options.html#index-Walloc-size-larger-than=\u0007-Walloc-size-larger-than=\u001b]8;;\u0007\u001b[m\u001b[K]\r\n",
      " 5599 |   __pyx_v_self->row_pointer = ((double **)\u001b[01;35m\u001b[Kmalloc((__pyx_v_self->num_rows * (sizeof(double *))))\u001b[m\u001b[K);\r\n",
      "      |                                           \u001b[01;35m\u001b[K^~~~~~~~~~~~~~~~~~~~~~~~~~~~~~~~~~~~~~~~~~~~~~~~~~~~~\u001b[m\u001b[K\r\n",
      "In file included from \u001b[01m\u001b[K/usr/include/python3.10/Python.h:34\u001b[m\u001b[K,\r\n",
      "                 from \u001b[01m\u001b[KTriangular_Matrix.c:41\u001b[m\u001b[K:\r\n",
      "\u001b[01m\u001b[KTriangular_Matrix.c:\u001b[m\u001b[K In function ‘\u001b[01m\u001b[K__pyx_pw_17Triangular_Matrix_17Triangular_Matrix_1__init__\u001b[m\u001b[K’:\r\n",
      "\u001b[01m\u001b[K/usr/include/stdlib.h:540:14:\u001b[m\u001b[K \u001b[01;36m\u001b[Knote: \u001b[m\u001b[Kin a call to allocation function ‘\u001b[01m\u001b[Kmalloc\u001b[m\u001b[K’ declared here\r\n",
      "  540 | extern void *\u001b[01;36m\u001b[Kmalloc\u001b[m\u001b[K (size_t __size) __THROW __attribute_malloc__\r\n",
      "      |              \u001b[01;36m\u001b[K^~~~~~\u001b[m\u001b[K\r\n",
      "/usr/local/lib/python3.10/dist-packages/Cython/Compiler/Main.py:381: FutureWarning: Cython directive 'language_level' not set, using '3str' for now (Py3). This has changed from earlier releases! File: /kaggle/working/RECsys_Challenge2024/Recommenders/SLIM/Cython/Triangular_Matrix.pyx\r\n",
      "  tree = Parsing.p_module(s, pxd, full_module_name)\r\n",
      "warning: Triangular_Matrix.pyx:22:0: The 'IF' statement is deprecated and will be removed in a future Cython version. Consider using runtime conditions or C macros instead. See https://github.com/cython/cython/issues/4310\r\n",
      "Compiling [5/11]: Triangular_Matrix.pyx... PASS\r\n",
      "\r\n",
      "Compiling [6/11]: Sparse_Matrix_Tree_CSR.pyx... \r\n",
      "warning: Sparse_Matrix_Tree_CSR.pyx:132:34: Non-trivial type declarators in shared declaration (e.g. mix of pointers and values). Each pointer declaration should be on its own line.\r\n",
      "warning: Sparse_Matrix_Tree_CSR.pyx:132:66: Non-trivial type declarators in shared declaration (e.g. mix of pointers and values). Each pointer declaration should be on its own line.\r\n",
      "warning: Sparse_Matrix_Tree_CSR.pyx:343:35: Non-trivial type declarators in shared declaration (e.g. mix of pointers and values). Each pointer declaration should be on its own line.\r\n",
      "warning: Sparse_Matrix_Tree_CSR.pyx:343:52: Non-trivial type declarators in shared declaration (e.g. mix of pointers and values). Each pointer declaration should be on its own line.\r\n",
      "warning: Sparse_Matrix_Tree_CSR.pyx:442:35: Non-trivial type declarators in shared declaration (e.g. mix of pointers and values). Each pointer declaration should be on its own line.\r\n",
      "warning: Sparse_Matrix_Tree_CSR.pyx:442:53: Non-trivial type declarators in shared declaration (e.g. mix of pointers and values). Each pointer declaration should be on its own line.\r\n",
      "warning: Sparse_Matrix_Tree_CSR.pyx:442:69: Non-trivial type declarators in shared declaration (e.g. mix of pointers and values). Each pointer declaration should be on its own line.\r\n",
      "warning: Sparse_Matrix_Tree_CSR.pyx:577:35: Non-trivial type declarators in shared declaration (e.g. mix of pointers and values). Each pointer declaration should be on its own line.\r\n",
      "warning: Sparse_Matrix_Tree_CSR.pyx:577:42: Non-trivial type declarators in shared declaration (e.g. mix of pointers and values). Each pointer declaration should be on its own line.\r\n",
      "warning: Sparse_Matrix_Tree_CSR.pyx:578:35: Non-trivial type declarators in shared declaration (e.g. mix of pointers and values). Each pointer declaration should be on its own line.\r\n",
      "warning: Sparse_Matrix_Tree_CSR.pyx:578:53: Non-trivial type declarators in shared declaration (e.g. mix of pointers and values). Each pointer declaration should be on its own line.\r\n",
      "\r\n",
      "Error compiling Cython file:\r\n",
      "------------------------------------------------------------\r\n",
      "...\r\n",
      "            vector_pointer_to_list_elements[index].head = current_element\r\n",
      "            current_element = current_element.higher\r\n",
      "\r\n",
      "\r\n",
      "        # Sort array elements on their data field\r\n",
      "        qsort(vector_pointer_to_list_elements, list_length, sizeof(head_pointer_tree_s), compare_struct_on_data)\r\n",
      "                                                                                         ^\r\n",
      "------------------------------------------------------------\r\n",
      "\r\n",
      "Sparse_Matrix_Tree_CSR.pyx:516:89: Cannot assign type 'int (const void *, const void *) except? -1' to 'int (*)(const_void *, const_void *) noexcept'. Exception values are incompatible. Suggest adding 'noexcept' to the type of 'compare_struct_on_data'.\r\n",
      "\r\n",
      "Error compiling Cython file:\r\n",
      "------------------------------------------------------------\r\n",
      "...\r\n",
      "        # Sort array elements on their data field\r\n",
      "        qsort(vector_pointer_to_list_elements, list_length, sizeof(head_pointer_tree_s), compare_struct_on_data)\r\n",
      "\r\n",
      "        # Sort only the TopK according to their column field\r\n",
      "        # Sort is from lower to higher, therefore the elements to be considered are from len-topK to len\r\n",
      "        qsort(&vector_pointer_to_list_elements[list_length-TopK], TopK, sizeof(head_pointer_tree_s), compare_struct_on_column)\r\n",
      "                                                                                                     ^\r\n",
      "------------------------------------------------------------\r\n",
      "\r\n",
      "Sparse_Matrix_Tree_CSR.pyx:520:101: Cannot assign type 'int (const void *, const void *) except? -1' to 'int (*)(const_void *, const_void *) noexcept'. Exception values are incompatible. Suggest adding 'noexcept' to the type of 'compare_struct_on_column'.\r\n",
      "Traceback (most recent call last):\r\n",
      "  File \"/kaggle/working/RECsys_Challenge2024/CythonCompiler/compile_script.py\", line 48, in <module>\r\n",
      "    setup(\r\n",
      "  File \"/usr/local/lib/python3.10/dist-packages/setuptools/__init__.py\", line 108, in setup\r\n",
      "    return distutils.core.setup(**attrs)\r\n",
      "  File \"/usr/local/lib/python3.10/dist-packages/setuptools/_distutils/core.py\", line 184, in setup\r\n",
      "    return run_commands(dist)\r\n",
      "  File \"/usr/local/lib/python3.10/dist-packages/setuptools/_distutils/core.py\", line 200, in run_commands\r\n",
      "    dist.run_commands()\r\n",
      "  File \"/usr/local/lib/python3.10/dist-packages/setuptools/_distutils/dist.py\", line 970, in run_commands\r\n",
      "    self.run_command(cmd)\r\n",
      "  File \"/usr/local/lib/python3.10/dist-packages/setuptools/dist.py\", line 956, in run_command\r\n",
      "    super().run_command(command)\r\n",
      "  File \"/usr/local/lib/python3.10/dist-packages/setuptools/_distutils/dist.py\", line 989, in run_command\r\n",
      "    cmd_obj.run()\r\n",
      "  File \"/usr/local/lib/python3.10/dist-packages/setuptools/_distutils/command/build_ext.py\", line 359, in run\r\n",
      "    self.build_extensions()\r\n",
      "  File \"/usr/local/lib/python3.10/dist-packages/setuptools/_distutils/command/build_ext.py\", line 479, in build_extensions\r\n",
      "    self._build_extensions_serial()\r\n",
      "  File \"/usr/local/lib/python3.10/dist-packages/setuptools/_distutils/command/build_ext.py\", line 505, in _build_extensions_serial\r\n",
      "    self.build_extension(ext)\r\n",
      "  File \"/usr/local/lib/python3.10/dist-packages/Cython/Distutils/build_ext.py\", line 130, in build_extension\r\n",
      "    new_ext = cythonize(\r\n",
      "  File \"/usr/local/lib/python3.10/dist-packages/Cython/Build/Dependencies.py\", line 1154, in cythonize\r\n",
      "    cythonize_one(*args)\r\n",
      "  File \"/usr/local/lib/python3.10/dist-packages/Cython/Build/Dependencies.py\", line 1321, in cythonize_one\r\n",
      "    raise CompileError(None, pyx_file)\r\n",
      "Cython.Compiler.Errors.CompileError: Sparse_Matrix_Tree_CSR.pyx\r\n",
      "Traceback (most recent call last):\r\n",
      "  File \"/kaggle/working/RECsys_Challenge2024/run_compile_all_cython.py\", line 60, in <module>\r\n",
      "    run_compile_subprocess(file_path, [file_name])\r\n",
      "  File \"/kaggle/working/RECsys_Challenge2024/CythonCompiler/run_compile_subprocess.py\", line 51, in run_compile_subprocess\r\n",
      "    raise exc\r\n",
      "  File \"/kaggle/working/RECsys_Challenge2024/CythonCompiler/run_compile_subprocess.py\", line 32, in run_compile_subprocess\r\n",
      "    output = subprocess.check_output(' '.join(command),\r\n",
      "  File \"/usr/lib/python3.10/subprocess.py\", line 421, in check_output\r\n",
      "    return run(*popenargs, stdout=PIPE, timeout=timeout, check=True,\r\n",
      "  File \"/usr/lib/python3.10/subprocess.py\", line 526, in run\r\n",
      "    raise CalledProcessError(retcode, process.args,\r\n",
      "subprocess.CalledProcessError: Command '/usr/bin/python3 /kaggle/working/RECsys_Challenge2024/CythonCompiler/compile_script.py Sparse_Matrix_Tree_CSR.pyx build_ext --inplace' returned non-zero exit status 1.\r\n",
      "Compiling [6/11]: Sparse_Matrix_Tree_CSR.pyx... FAIL: Command '/usr/bin/python3 /kaggle/working/RECsys_Challenge2024/CythonCompiler/compile_script.py Sparse_Matrix_Tree_CSR.pyx build_ext --inplace' returned non-zero exit status 1.\r\n",
      "\r\n",
      "Compiling [7/11]: FBSM_Rating_Cython_SGD.pyx... \r\n",
      "In file included from \u001b[01m\u001b[K/usr/local/lib/python3.10/dist-packages/numpy/core/include/numpy/ndarraytypes.h:1929\u001b[m\u001b[K,\r\n",
      "                 from \u001b[01m\u001b[K/usr/local/lib/python3.10/dist-packages/numpy/core/include/numpy/ndarrayobject.h:12\u001b[m\u001b[K,\r\n",
      "                 from \u001b[01m\u001b[K/usr/local/lib/python3.10/dist-packages/numpy/core/include/numpy/arrayobject.h:5\u001b[m\u001b[K,\r\n",
      "                 from \u001b[01m\u001b[KFBSM_Rating_Cython_SGD.c:1252\u001b[m\u001b[K:\r\n",
      "\u001b[01m\u001b[K/usr/local/lib/python3.10/dist-packages/numpy/core/include/numpy/npy_1_7_deprecated_api.h:17:2:\u001b[m\u001b[K \u001b[01;35m\u001b[Kwarning: \u001b[m\u001b[K#warning \"Using deprecated NumPy API, disable it with \" \"#define NPY_NO_DEPRECATED_API NPY_1_7_API_VERSION\" [\u001b[01;35m\u001b[K\u001b]8;;https://gcc.gnu.org/onlinedocs/gcc/Warning-Options.html#index-Wcpp\u0007-Wcpp\u001b]8;;\u0007\u001b[m\u001b[K]\r\n",
      "   17 | #\u001b[01;35m\u001b[Kwarning\u001b[m\u001b[K \"Using deprecated NumPy API, disable it with \" \\\r\n",
      "      |  \u001b[01;35m\u001b[K^~~~~~~\u001b[m\u001b[K\r\n",
      "\u001b[01m\u001b[KFBSM_Rating_Cython_SGD.c:\u001b[m\u001b[K In function ‘\u001b[01m\u001b[K__pyx_pf_22FBSM_Rating_Cython_SGD_22FBSM_Rating_Cython_SGD_2fit\u001b[m\u001b[K’:\r\n",
      "\u001b[01m\u001b[KFBSM_Rating_Cython_SGD.c:26607:55:\u001b[m\u001b[K \u001b[01;35m\u001b[Kwarning: \u001b[m\u001b[K‘\u001b[01m\u001b[K__pyx_v_num_sample\u001b[m\u001b[K’ may be used uninitialized in this function [\u001b[01;35m\u001b[K\u001b]8;;https://gcc.gnu.org/onlinedocs/gcc/Warning-Options.html#index-Wmaybe-uninitialized\u0007-Wmaybe-uninitialized\u001b]8;;\u0007\u001b[m\u001b[K]\r\n",
      "26607 |   __pyx_t_5 = PyFloat_FromDouble((__pyx_v_cum_loss / \u001b[01;35m\u001b[K((double)__pyx_v_num_sample)\u001b[m\u001b[K)); if (unlikely(!__pyx_t_5)) __PYX_ERR(0, 551, __pyx_L1_error)\r\n",
      "      |                                                      \u001b[01;35m\u001b[K~^~~~~~~~~~~~~~~~~~~~~~~~~~~\u001b[m\u001b[K\r\n",
      "/usr/local/lib/python3.10/dist-packages/Cython/Compiler/Main.py:381: FutureWarning: Cython directive 'language_level' not set, using '3str' for now (Py3). This has changed from earlier releases! File: /kaggle/working/RECsys_Challenge2024/Recommenders/FeatureWeighting/Cython/FBSM_Rating_Cython_SGD.pyx\r\n",
      "  tree = Parsing.p_module(s, pxd, full_module_name)\r\n",
      "Compiling [7/11]: FBSM_Rating_Cython_SGD.pyx... PASS\r\n",
      "\r\n",
      "Compiling [8/11]: HP3_Similarity_Cython_SGD.pyx... \r\n",
      "performance hint: HP3_Similarity_Cython_SGD.pyx:113:40: Index should be typed for more efficient access\r\n",
      "performance hint: HP3_Similarity_Cython_SGD.pyx:114:40: Index should be typed for more efficient access\r\n",
      "In file included from \u001b[01m\u001b[K/usr/local/lib/python3.10/dist-packages/numpy/core/include/numpy/ndarraytypes.h:1929\u001b[m\u001b[K,\r\n",
      "                 from \u001b[01m\u001b[K/usr/local/lib/python3.10/dist-packages/numpy/core/include/numpy/ndarrayobject.h:12\u001b[m\u001b[K,\r\n",
      "                 from \u001b[01m\u001b[K/usr/local/lib/python3.10/dist-packages/numpy/core/include/numpy/arrayobject.h:5\u001b[m\u001b[K,\r\n",
      "                 from \u001b[01m\u001b[KHP3_Similarity_Cython_SGD.c:1252\u001b[m\u001b[K:\r\n",
      "\u001b[01m\u001b[K/usr/local/lib/python3.10/dist-packages/numpy/core/include/numpy/npy_1_7_deprecated_api.h:17:2:\u001b[m\u001b[K \u001b[01;35m\u001b[Kwarning: \u001b[m\u001b[K#warning \"Using deprecated NumPy API, disable it with \" \"#define NPY_NO_DEPRECATED_API NPY_1_7_API_VERSION\" [\u001b[01;35m\u001b[K\u001b]8;;https://gcc.gnu.org/onlinedocs/gcc/Warning-Options.html#index-Wcpp\u0007-Wcpp\u001b]8;;\u0007\u001b[m\u001b[K]\r\n",
      "   17 | #\u001b[01;35m\u001b[Kwarning\u001b[m\u001b[K \"Using deprecated NumPy API, disable it with \" \\\r\n",
      "      |  \u001b[01;35m\u001b[K^~~~~~~\u001b[m\u001b[K\r\n",
      "\u001b[01m\u001b[KHP3_Similarity_Cython_SGD.c:\u001b[m\u001b[K In function ‘\u001b[01m\u001b[K__pyx_pf_25HP3_Similarity_Cython_SGD_25HP3_Similarity_Cython_SGD_4fit\u001b[m\u001b[K’:\r\n",
      "\u001b[01m\u001b[KHP3_Similarity_Cython_SGD.c:23631:55:\u001b[m\u001b[K \u001b[01;35m\u001b[Kwarning: \u001b[m\u001b[K‘\u001b[01m\u001b[K__pyx_v_sample_num\u001b[m\u001b[K’ may be used uninitialized in this function [\u001b[01;35m\u001b[K\u001b]8;;https://gcc.gnu.org/onlinedocs/gcc/Warning-Options.html#index-Wmaybe-uninitialized\u0007-Wmaybe-uninitialized\u001b]8;;\u0007\u001b[m\u001b[K]\r\n",
      "23631 |   __pyx_t_1 = PyFloat_FromDouble((__pyx_v_cum_loss / \u001b[01;35m\u001b[K((double)__pyx_v_sample_num)\u001b[m\u001b[K)); if (unlikely(!__pyx_t_1)) __PYX_ERR(0, 291, __pyx_L1_error)\r\n",
      "      |                                                      \u001b[01;35m\u001b[K~^~~~~~~~~~~~~~~~~~~~~~~~~~~\u001b[m\u001b[K\r\n",
      "/usr/local/lib/python3.10/dist-packages/Cython/Compiler/Main.py:381: FutureWarning: Cython directive 'language_level' not set, using '3str' for now (Py3). This has changed from earlier releases! File: /kaggle/working/RECsys_Challenge2024/Recommenders/FeatureWeighting/Cython/HP3_Similarity_Cython_SGD.pyx\r\n",
      "  tree = Parsing.p_module(s, pxd, full_module_name)\r\n",
      "performance hint: HP3_Similarity_Cython_SGD.pyx:113:40: Index should be typed for more efficient access\r\n",
      "performance hint: HP3_Similarity_Cython_SGD.pyx:114:40: Index should be typed for more efficient access\r\n",
      "Compiling [8/11]: HP3_Similarity_Cython_SGD.pyx... PASS\r\n",
      "\r\n",
      "Compiling [9/11]: CFW_D_Similarity_Cython_SGD.pyx... \r\n",
      "In file included from \u001b[01m\u001b[K/usr/local/lib/python3.10/dist-packages/numpy/core/include/numpy/ndarraytypes.h:1929\u001b[m\u001b[K,\r\n",
      "                 from \u001b[01m\u001b[K/usr/local/lib/python3.10/dist-packages/numpy/core/include/numpy/ndarrayobject.h:12\u001b[m\u001b[K,\r\n",
      "                 from \u001b[01m\u001b[K/usr/local/lib/python3.10/dist-packages/numpy/core/include/numpy/arrayobject.h:5\u001b[m\u001b[K,\r\n",
      "                 from \u001b[01m\u001b[KCFW_D_Similarity_Cython_SGD.c:1252\u001b[m\u001b[K:\r\n",
      "\u001b[01m\u001b[K/usr/local/lib/python3.10/dist-packages/numpy/core/include/numpy/npy_1_7_deprecated_api.h:17:2:\u001b[m\u001b[K \u001b[01;35m\u001b[Kwarning: \u001b[m\u001b[K#warning \"Using deprecated NumPy API, disable it with \" \"#define NPY_NO_DEPRECATED_API NPY_1_7_API_VERSION\" [\u001b[01;35m\u001b[K\u001b]8;;https://gcc.gnu.org/onlinedocs/gcc/Warning-Options.html#index-Wcpp\u0007-Wcpp\u001b]8;;\u0007\u001b[m\u001b[K]\r\n",
      "   17 | #\u001b[01;35m\u001b[Kwarning\u001b[m\u001b[K \"Using deprecated NumPy API, disable it with \" \\\r\n",
      "      |  \u001b[01;35m\u001b[K^~~~~~~\u001b[m\u001b[K\r\n",
      "\u001b[01m\u001b[KCFW_D_Similarity_Cython_SGD.c:\u001b[m\u001b[K In function ‘\u001b[01m\u001b[K__pyx_pf_27CFW_D_Similarity_Cython_SGD_27CFW_D_Similarity_Cython_SGD_6fit\u001b[m\u001b[K’:\r\n",
      "\u001b[01m\u001b[KCFW_D_Similarity_Cython_SGD.c:23373:55:\u001b[m\u001b[K \u001b[01;35m\u001b[Kwarning: \u001b[m\u001b[K‘\u001b[01m\u001b[K__pyx_v_sample_num\u001b[m\u001b[K’ may be used uninitialized in this function [\u001b[01;35m\u001b[K\u001b]8;;https://gcc.gnu.org/onlinedocs/gcc/Warning-Options.html#index-Wmaybe-uninitialized\u0007-Wmaybe-uninitialized\u001b]8;;\u0007\u001b[m\u001b[K]\r\n",
      "23373 |   __pyx_t_3 = PyFloat_FromDouble((__pyx_v_cum_loss / \u001b[01;35m\u001b[K((double)__pyx_v_sample_num)\u001b[m\u001b[K)); if (unlikely(!__pyx_t_3)) __PYX_ERR(0, 290, __pyx_L1_error)\r\n",
      "      |                                                      \u001b[01;35m\u001b[K~^~~~~~~~~~~~~~~~~~~~~~~~~~~\u001b[m\u001b[K\r\n",
      "/usr/local/lib/python3.10/dist-packages/Cython/Compiler/Main.py:381: FutureWarning: Cython directive 'language_level' not set, using '3str' for now (Py3). This has changed from earlier releases! File: /kaggle/working/RECsys_Challenge2024/Recommenders/FeatureWeighting/Cython/CFW_D_Similarity_Cython_SGD.pyx\r\n",
      "  tree = Parsing.p_module(s, pxd, full_module_name)\r\n",
      "Compiling [9/11]: CFW_D_Similarity_Cython_SGD.pyx... PASS\r\n",
      "\r\n",
      "Compiling [10/11]: CFW_DVV_Similarity_Cython_SGD.pyx... \r\n",
      "In file included from \u001b[01m\u001b[K/usr/local/lib/python3.10/dist-packages/numpy/core/include/numpy/ndarraytypes.h:1929\u001b[m\u001b[K,\r\n",
      "                 from \u001b[01m\u001b[K/usr/local/lib/python3.10/dist-packages/numpy/core/include/numpy/ndarrayobject.h:12\u001b[m\u001b[K,\r\n",
      "                 from \u001b[01m\u001b[K/usr/local/lib/python3.10/dist-packages/numpy/core/include/numpy/arrayobject.h:5\u001b[m\u001b[K,\r\n",
      "                 from \u001b[01m\u001b[KCFW_DVV_Similarity_Cython_SGD.c:1252\u001b[m\u001b[K:\r\n",
      "\u001b[01m\u001b[K/usr/local/lib/python3.10/dist-packages/numpy/core/include/numpy/npy_1_7_deprecated_api.h:17:2:\u001b[m\u001b[K \u001b[01;35m\u001b[Kwarning: \u001b[m\u001b[K#warning \"Using deprecated NumPy API, disable it with \" \"#define NPY_NO_DEPRECATED_API NPY_1_7_API_VERSION\" [\u001b[01;35m\u001b[K\u001b]8;;https://gcc.gnu.org/onlinedocs/gcc/Warning-Options.html#index-Wcpp\u0007-Wcpp\u001b]8;;\u0007\u001b[m\u001b[K]\r\n",
      "   17 | #\u001b[01;35m\u001b[Kwarning\u001b[m\u001b[K \"Using deprecated NumPy API, disable it with \" \\\r\n",
      "      |  \u001b[01;35m\u001b[K^~~~~~~\u001b[m\u001b[K\r\n",
      "/usr/local/lib/python3.10/dist-packages/Cython/Compiler/Main.py:381: FutureWarning: Cython directive 'language_level' not set, using '3str' for now (Py3). This has changed from earlier releases! File: /kaggle/working/RECsys_Challenge2024/Recommenders/FeatureWeighting/Cython/CFW_DVV_Similarity_Cython_SGD.pyx\r\n",
      "  tree = Parsing.p_module(s, pxd, full_module_name)\r\n",
      "Compiling [10/11]: CFW_DVV_Similarity_Cython_SGD.pyx... PASS\r\n",
      "\r\n",
      "Compiling [11/11]: DataIterator.pyx... \r\n",
      "In file included from \u001b[01m\u001b[K/usr/local/lib/python3.10/dist-packages/numpy/core/include/numpy/ndarraytypes.h:1929\u001b[m\u001b[K,\r\n",
      "                 from \u001b[01m\u001b[K/usr/local/lib/python3.10/dist-packages/numpy/core/include/numpy/ndarrayobject.h:12\u001b[m\u001b[K,\r\n",
      "                 from \u001b[01m\u001b[K/usr/local/lib/python3.10/dist-packages/numpy/core/include/numpy/arrayobject.h:5\u001b[m\u001b[K,\r\n",
      "                 from \u001b[01m\u001b[KDataIterator.c:1252\u001b[m\u001b[K:\r\n",
      "\u001b[01m\u001b[K/usr/local/lib/python3.10/dist-packages/numpy/core/include/numpy/npy_1_7_deprecated_api.h:17:2:\u001b[m\u001b[K \u001b[01;35m\u001b[Kwarning: \u001b[m\u001b[K#warning \"Using deprecated NumPy API, disable it with \" \"#define NPY_NO_DEPRECATED_API NPY_1_7_API_VERSION\" [\u001b[01;35m\u001b[K\u001b]8;;https://gcc.gnu.org/onlinedocs/gcc/Warning-Options.html#index-Wcpp\u0007-Wcpp\u001b]8;;\u0007\u001b[m\u001b[K]\r\n",
      "   17 | #\u001b[01;35m\u001b[Kwarning\u001b[m\u001b[K \"Using deprecated NumPy API, disable it with \" \\\r\n",
      "      |  \u001b[01;35m\u001b[K^~~~~~~\u001b[m\u001b[K\r\n",
      "\u001b[01m\u001b[KDataIterator.c:\u001b[m\u001b[K In function ‘\u001b[01m\u001b[K__pyx_pf_12DataIterator_19InteractionIterator_6__next__\u001b[m\u001b[K’:\r\n",
      "\u001b[01m\u001b[KDataIterator.c:20937:22:\u001b[m\u001b[K \u001b[01;35m\u001b[Kwarning: \u001b[m\u001b[K‘\u001b[01m\u001b[K__pyx_v_i_batch\u001b[m\u001b[K’ may be used uninitialized in this function [\u001b[01;35m\u001b[K\u001b]8;;https://gcc.gnu.org/onlinedocs/gcc/Warning-Options.html#index-Wmaybe-uninitialized\u0007-Wmaybe-uninitialized\u001b]8;;\u0007\u001b[m\u001b[K]\r\n",
      "20937 |     (__pyx_v_i_batch \u001b[01;35m\u001b[K+\u001b[m\u001b[K 1),\r\n",
      "      |                      \u001b[01;35m\u001b[K^\u001b[m\u001b[K\r\n",
      "\u001b[01m\u001b[KDataIterator.c:\u001b[m\u001b[K In function ‘\u001b[01m\u001b[K__pyx_pf_12DataIterator_30InteractionAndNegativeIterator_6__next__\u001b[m\u001b[K’:\r\n",
      "\u001b[01m\u001b[KDataIterator.c:25499:22:\u001b[m\u001b[K \u001b[01;35m\u001b[Kwarning: \u001b[m\u001b[K‘\u001b[01m\u001b[K__pyx_v_i_batch\u001b[m\u001b[K’ may be used uninitialized in this function [\u001b[01;35m\u001b[K\u001b]8;;https://gcc.gnu.org/onlinedocs/gcc/Warning-Options.html#index-Wmaybe-uninitialized\u0007-Wmaybe-uninitialized\u001b]8;;\u0007\u001b[m\u001b[K]\r\n",
      "25499 |     (__pyx_v_i_batch \u001b[01;35m\u001b[K+\u001b[m\u001b[K 1),\r\n",
      "      |                      \u001b[01;35m\u001b[K^\u001b[m\u001b[K\r\n",
      "\u001b[01m\u001b[KDataIterator.c:\u001b[m\u001b[K In function ‘\u001b[01m\u001b[K__pyx_pf_12DataIterator_11BPRIterator_6__next__\u001b[m\u001b[K’:\r\n",
      "\u001b[01m\u001b[KDataIterator.c:23056:22:\u001b[m\u001b[K \u001b[01;35m\u001b[Kwarning: \u001b[m\u001b[K‘\u001b[01m\u001b[K__pyx_v_i_batch\u001b[m\u001b[K’ may be used uninitialized in this function [\u001b[01;35m\u001b[K\u001b]8;;https://gcc.gnu.org/onlinedocs/gcc/Warning-Options.html#index-Wmaybe-uninitialized\u0007-Wmaybe-uninitialized\u001b]8;;\u0007\u001b[m\u001b[K]\r\n",
      "23056 |     (__pyx_v_i_batch \u001b[01;35m\u001b[K+\u001b[m\u001b[K 1),\r\n",
      "      |                      \u001b[01;35m\u001b[K^\u001b[m\u001b[K\r\n",
      "/usr/local/lib/python3.10/dist-packages/Cython/Compiler/Main.py:381: FutureWarning: Cython directive 'language_level' not set, using '3str' for now (Py3). This has changed from earlier releases! File: /kaggle/working/RECsys_Challenge2024/Utils/PyTorch/Cython/DataIterator.pyx\r\n",
      "  tree = Parsing.p_module(s, pxd, full_module_name)\r\n",
      "Compiling [11/11]: DataIterator.pyx... PASS\r\n",
      "\r\n",
      "run_compile_all_cython: Compilation finished. FAILS 2/11.\r\n",
      "Compilation log can be found here: './result_experiments/run_compile_all_cython.txt'\r\n"
     ]
    }
   ],
   "source": [
    "%cd /kaggle/working/RECsys_Challenge2024 \n",
    "! python run_compile_all_cython.py"
   ]
  },
  {
   "cell_type": "code",
   "execution_count": 5,
   "id": "5ba35536",
   "metadata": {
    "execution": {
     "iopub.execute_input": "2025-01-07T11:14:31.890261Z",
     "iopub.status.busy": "2025-01-07T11:14:31.889861Z",
     "iopub.status.idle": "2025-01-07T11:14:33.291261Z",
     "shell.execute_reply": "2025-01-07T11:14:33.290130Z"
    },
    "papermill": {
     "duration": 1.419956,
     "end_time": "2025-01-07T11:14:33.293175",
     "exception": false,
     "start_time": "2025-01-07T11:14:31.873219",
     "status": "completed"
    },
    "tags": []
   },
   "outputs": [],
   "source": [
    "from Utils.notebookFunctions import *\n",
    "import numpy as np\n",
    "import pandas as pd\n",
    "import scipy.sparse as sps\n",
    "import time\n",
    "import shutil\n",
    "import optuna\n",
    "import json\n",
    "import os\n",
    "from Utils.seconds_to_biggest_unit import seconds_to_biggest_unit\n",
    "\n",
    "\n",
    "K_PATH = '/kaggle/working/RECsys_Challenge2024'\n",
    "GH_PATH = 'TrainedModels/WithKFCV/GraphBased'\n",
    "\n",
    "np.random.seed(42)"
   ]
  },
  {
   "cell_type": "markdown",
   "id": "9e9fe523",
   "metadata": {
    "papermill": {
     "duration": 0.015203,
     "end_time": "2025-01-07T11:14:33.323603",
     "exception": false,
     "start_time": "2025-01-07T11:14:33.308400",
     "status": "completed"
    },
    "tags": []
   },
   "source": [
    "## Import the repository"
   ]
  },
  {
   "cell_type": "code",
   "execution_count": 6,
   "id": "ac12ec86",
   "metadata": {
    "execution": {
     "iopub.execute_input": "2025-01-07T11:14:33.355102Z",
     "iopub.status.busy": "2025-01-07T11:14:33.354537Z",
     "iopub.status.idle": "2025-01-07T11:14:33.774101Z",
     "shell.execute_reply": "2025-01-07T11:14:33.772905Z"
    },
    "papermill": {
     "duration": 0.437255,
     "end_time": "2025-01-07T11:14:33.775973",
     "exception": false,
     "start_time": "2025-01-07T11:14:33.338718",
     "status": "completed"
    },
    "tags": []
   },
   "outputs": [
    {
     "name": "stdout",
     "output_type": "stream",
     "text": [
      "Repository 'RECsys_Challenge2024' found.\n"
     ]
    }
   ],
   "source": [
    "repo = get_repo_from_github(token)"
   ]
  },
  {
   "cell_type": "code",
   "execution_count": 7,
   "id": "8efcf7cf",
   "metadata": {
    "execution": {
     "iopub.execute_input": "2025-01-07T11:14:33.807665Z",
     "iopub.status.busy": "2025-01-07T11:14:33.807266Z",
     "iopub.status.idle": "2025-01-07T11:14:33.812019Z",
     "shell.execute_reply": "2025-01-07T11:14:33.810974Z"
    },
    "papermill": {
     "duration": 0.02249,
     "end_time": "2025-01-07T11:14:33.813602",
     "exception": false,
     "start_time": "2025-01-07T11:14:33.791112",
     "status": "completed"
    },
    "tags": []
   },
   "outputs": [],
   "source": [
    "config = {\n",
    "    'model': 'RP3beta',\n",
    "    'metric': 'Recall',\n",
    "    'n_folds': 5,\n",
    "    'tune_parameters': True,\n",
    "    'database_path': '/kaggle/working/history_RP3beta_Recall.db',\n",
    "    'copy_prev_best_params': False,\n",
    "    'tune_best_params': True,\n",
    "    'save_github': True\n",
    "}"
   ]
  },
  {
   "cell_type": "markdown",
   "id": "0895c9f3",
   "metadata": {
    "papermill": {
     "duration": 0.015669,
     "end_time": "2025-01-07T11:14:33.844852",
     "exception": false,
     "start_time": "2025-01-07T11:14:33.829183",
     "status": "completed"
    },
    "tags": []
   },
   "source": [
    "Import the database where previous tuning trials have been saved."
   ]
  },
  {
   "cell_type": "code",
   "execution_count": 8,
   "id": "160f8d55",
   "metadata": {
    "execution": {
     "iopub.execute_input": "2025-01-07T11:14:33.876539Z",
     "iopub.status.busy": "2025-01-07T11:14:33.876200Z",
     "iopub.status.idle": "2025-01-07T11:14:33.881289Z",
     "shell.execute_reply": "2025-01-07T11:14:33.880330Z"
    },
    "papermill": {
     "duration": 0.023053,
     "end_time": "2025-01-07T11:14:33.883109",
     "exception": false,
     "start_time": "2025-01-07T11:14:33.860056",
     "status": "completed"
    },
    "tags": []
   },
   "outputs": [],
   "source": [
    "try:\n",
    "    shutil.copyfile(\n",
    "        f'{K_PATH}/{GH_PATH}/{config[\"model\"]}Recommender/Optimizing{config[\"metric\"]}/history_{config[\"model\"]}_{config[\"metric\"]}.db', \n",
    "        config['database_path']\n",
    "    )\n",
    "except FileNotFoundError:\n",
    "    pass # if not present optuna will create it"
   ]
  },
  {
   "cell_type": "markdown",
   "id": "62b69944",
   "metadata": {
    "papermill": {
     "duration": 0.015296,
     "end_time": "2025-01-07T11:14:33.913981",
     "exception": false,
     "start_time": "2025-01-07T11:14:33.898685",
     "status": "completed"
    },
    "tags": []
   },
   "source": [
    "# Construction of URM and ICM matrices"
   ]
  },
  {
   "cell_type": "code",
   "execution_count": 9,
   "id": "2a8439bf",
   "metadata": {
    "execution": {
     "iopub.execute_input": "2025-01-07T11:14:33.945331Z",
     "iopub.status.busy": "2025-01-07T11:14:33.944980Z",
     "iopub.status.idle": "2025-01-07T11:14:34.885368Z",
     "shell.execute_reply": "2025-01-07T11:14:34.884212Z"
    },
    "papermill": {
     "duration": 0.958237,
     "end_time": "2025-01-07T11:14:34.887221",
     "exception": false,
     "start_time": "2025-01-07T11:14:33.928984",
     "status": "completed"
    },
    "tags": []
   },
   "outputs": [
    {
     "data": {
      "text/plain": [
       "<35736x38121 sparse matrix of type '<class 'numpy.float64'>'\n",
       "\twith 1764607 stored elements in Compressed Sparse Row format>"
      ]
     },
     "execution_count": 9,
     "metadata": {},
     "output_type": "execute_result"
    }
   ],
   "source": [
    "URM_all_dataframe = pd.read_csv(\"/kaggle/input/recommender-system-2024-challenge-polimi/data_train.csv\")\n",
    "\n",
    "n_users = len(URM_all_dataframe[\"user_id\"].unique())\n",
    "n_items = len(URM_all_dataframe[\"item_id\"].unique())\n",
    "\n",
    "URM_all = sps.csr_matrix((URM_all_dataframe[\"data\"].values, \n",
    "                          (URM_all_dataframe[\"user_id\"].values, URM_all_dataframe[\"item_id\"].values)),\n",
    "                        shape = (n_users, n_items))\n",
    "\n",
    "URM_all"
   ]
  },
  {
   "cell_type": "code",
   "execution_count": 10,
   "id": "fcd104b0",
   "metadata": {
    "execution": {
     "iopub.execute_input": "2025-01-07T11:14:34.919475Z",
     "iopub.status.busy": "2025-01-07T11:14:34.919142Z",
     "iopub.status.idle": "2025-01-07T11:14:36.191272Z",
     "shell.execute_reply": "2025-01-07T11:14:36.190264Z"
    },
    "papermill": {
     "duration": 1.290341,
     "end_time": "2025-01-07T11:14:36.193140",
     "exception": false,
     "start_time": "2025-01-07T11:14:34.902799",
     "status": "completed"
    },
    "tags": []
   },
   "outputs": [
    {
     "data": {
      "text/plain": [
       "<38121x94331 sparse matrix of type '<class 'numpy.float64'>'\n",
       "\twith 2940040 stored elements in Compressed Sparse Row format>"
      ]
     },
     "execution_count": 10,
     "metadata": {},
     "output_type": "execute_result"
    }
   ],
   "source": [
    "ICM_dataframe = pd.read_csv(\"/kaggle/input/recommender-system-2024-challenge-polimi/data_ICM_metadata.csv\")\n",
    "\n",
    "n_items = len(ICM_dataframe[\"item_id\"].unique())\n",
    "n_features = len(ICM_dataframe[\"feature_id\"].unique())\n",
    "\n",
    "ICM_all = sps.csr_matrix((ICM_dataframe[\"data\"].values, \n",
    "                          (ICM_dataframe[\"item_id\"].values, ICM_dataframe[\"feature_id\"].values)),\n",
    "                        shape = (n_items, n_features))\n",
    "\n",
    "ICM_all"
   ]
  },
  {
   "cell_type": "markdown",
   "id": "fd044f41",
   "metadata": {
    "papermill": {
     "duration": 0.015195,
     "end_time": "2025-01-07T11:14:36.224351",
     "exception": false,
     "start_time": "2025-01-07T11:14:36.209156",
     "status": "completed"
    },
    "tags": []
   },
   "source": [
    "# Training"
   ]
  },
  {
   "cell_type": "code",
   "execution_count": 11,
   "id": "413226c6",
   "metadata": {
    "execution": {
     "iopub.execute_input": "2025-01-07T11:14:36.256451Z",
     "iopub.status.busy": "2025-01-07T11:14:36.256053Z",
     "iopub.status.idle": "2025-01-07T11:14:53.980302Z",
     "shell.execute_reply": "2025-01-07T11:14:53.979286Z"
    },
    "papermill": {
     "duration": 17.742418,
     "end_time": "2025-01-07T11:14:53.982278",
     "exception": false,
     "start_time": "2025-01-07T11:14:36.239860",
     "status": "completed"
    },
    "tags": []
   },
   "outputs": [
    {
     "name": "stdout",
     "output_type": "stream",
     "text": [
      "Warning: 141 (0.39 %) of 35736 users have no sampled items\n"
     ]
    }
   ],
   "source": [
    "from Evaluation.Evaluator import EvaluatorHoldout\n",
    "from Data_manager.split_functions.split_train_validation_random_holdout import split_train_in_two_percentage_global_sample\n",
    "from Data_manager.split_functions.split_train_k_folds import split_train_k_folds\n",
    "\n",
    "URM_train, URM_validation = split_train_in_two_percentage_global_sample(URM_all, train_percentage = 0.80)\n",
    "\n",
    "folds = split_train_k_folds(URM_all, k=config['n_folds'])"
   ]
  },
  {
   "cell_type": "code",
   "execution_count": 12,
   "id": "83466627",
   "metadata": {
    "execution": {
     "iopub.execute_input": "2025-01-07T11:14:54.014951Z",
     "iopub.status.busy": "2025-01-07T11:14:54.014558Z",
     "iopub.status.idle": "2025-01-07T11:14:55.082692Z",
     "shell.execute_reply": "2025-01-07T11:14:55.081705Z"
    },
    "papermill": {
     "duration": 1.086976,
     "end_time": "2025-01-07T11:14:55.085064",
     "exception": false,
     "start_time": "2025-01-07T11:14:53.998088",
     "status": "completed"
    },
    "tags": []
   },
   "outputs": [],
   "source": [
    "from Recommenders.GraphBased.RP3betaRecommender import RP3betaRecommender\n",
    "\n",
    "def objective_function_RP3beta(optuna_trial):\n",
    "    \n",
    "    full_hyperp = {\n",
    "                    \"topK\": optuna_trial.suggest_int(\"topK\", 0, 1500),\n",
    "                   \"alpha\": optuna_trial.suggest_float(\"alpha\", 0, 3, log=False),\n",
    "                   \"beta\": optuna_trial.suggest_float(\"beta\", 0, 3, log=False),\n",
    "                   \"normalize_similarity\": optuna_trial.suggest_categorical(\"normalize_similarity\", [True, False]),\n",
    "                   \"implicit\": optuna_trial.suggest_categorical(\"implicit\", [True, False]),\n",
    "                  }            \n",
    "\n",
    "    validation_results = []\n",
    "    \n",
    "    for fold_idx, (URM_train_fold, URM_validation_fold) in enumerate(folds):\n",
    "    \n",
    "        recommender_instance = RP3betaRecommender(URM_train_fold)\n",
    "        recommender_instance.fit(**full_hyperp)\n",
    "        \n",
    "        evaluator = EvaluatorHoldout(URM_validation_fold, cutoff_list=[50])\n",
    "        result_df, _ = evaluator.evaluateRecommender(recommender_instance)\n",
    "        \n",
    "        validation_results.append(result_df.loc[50][\"RECALL\"])\n",
    "    \n",
    "    return np.mean(validation_results)"
   ]
  },
  {
   "cell_type": "code",
   "execution_count": 13,
   "id": "b038ed0a",
   "metadata": {
    "_kg_hide-output": true,
    "execution": {
     "iopub.execute_input": "2025-01-07T11:14:55.123630Z",
     "iopub.status.busy": "2025-01-07T11:14:55.123114Z",
     "iopub.status.idle": "2025-01-07T11:46:07.082076Z",
     "shell.execute_reply": "2025-01-07T11:46:07.080839Z"
    },
    "papermill": {
     "duration": 1871.977049,
     "end_time": "2025-01-07T11:46:07.083771",
     "exception": false,
     "start_time": "2025-01-07T11:14:55.106722",
     "status": "completed"
    },
    "tags": []
   },
   "outputs": [
    {
     "name": "stderr",
     "output_type": "stream",
     "text": [
      "[I 2025-01-07 11:14:56,143] Using an existing study with name 'hyperparameters_tuning_RP3beta_Recall' instead of creating a new one.\n"
     ]
    },
    {
     "name": "stdout",
     "output_type": "stream",
     "text": [
      "RP3betaRecommender: Similarity column 38121 (100.0%), 1845.39 column/sec. Elapsed time 20.66 sec\n",
      "EvaluatorHoldout: Ignoring 173 ( 0.5%) Users that have less than 1 test interactions\n",
      "EvaluatorHoldout: Processed 35563 (100.0%) in 38.68 sec. Users per second: 919\n",
      "RP3betaRecommender: Similarity column 38121 (100.0%), 1850.68 column/sec. Elapsed time 20.60 sec\n",
      "EvaluatorHoldout: Ignoring 163 ( 0.5%) Users that have less than 1 test interactions\n",
      "EvaluatorHoldout: Processed 35573 (100.0%) in 38.42 sec. Users per second: 926\n",
      "RP3betaRecommender: Similarity column 38121 (100.0%), 1869.32 column/sec. Elapsed time 20.39 sec\n",
      "EvaluatorHoldout: Ignoring 150 ( 0.4%) Users that have less than 1 test interactions\n",
      "EvaluatorHoldout: Processed 35586 (100.0%) in 38.15 sec. Users per second: 933\n",
      "RP3betaRecommender: Similarity column 38121 (100.0%), 1852.92 column/sec. Elapsed time 20.57 sec\n",
      "EvaluatorHoldout: Ignoring 167 ( 0.5%) Users that have less than 1 test interactions\n",
      "EvaluatorHoldout: Processed 35569 (100.0%) in 38.26 sec. Users per second: 930\n",
      "RP3betaRecommender: Similarity column 38121 (100.0%), 1855.62 column/sec. Elapsed time 20.54 sec\n",
      "EvaluatorHoldout: Ignoring 172 ( 0.5%) Users that have less than 1 test interactions\n",
      "EvaluatorHoldout: Processed 35564 (100.0%) in 38.28 sec. Users per second: 929\n"
     ]
    },
    {
     "name": "stderr",
     "output_type": "stream",
     "text": [
      "[I 2025-01-07 11:20:09,763] Trial 245 finished with value: 0.2720360575406392 and parameters: {'topK': 76, 'alpha': 0.5286361545455723, 'beta': 0.3956358838372332, 'normalize_similarity': True, 'implicit': True}. Best is trial 232 with value: 0.2749445658438939.\n"
     ]
    },
    {
     "name": "stdout",
     "output_type": "stream",
     "text": [
      "RP3betaRecommender: Similarity column 38121 (100.0%), 1678.34 column/sec. Elapsed time 22.71 sec\n",
      "EvaluatorHoldout: Ignoring 173 ( 0.5%) Users that have less than 1 test interactions\n",
      "EvaluatorHoldout: Processed 35563 (100.0%) in 39.17 sec. Users per second: 908\n",
      "RP3betaRecommender: Similarity column 38121 (100.0%), 1676.56 column/sec. Elapsed time 22.74 sec\n",
      "EvaluatorHoldout: Ignoring 163 ( 0.5%) Users that have less than 1 test interactions\n",
      "EvaluatorHoldout: Processed 35573 (100.0%) in 39.08 sec. Users per second: 910\n",
      "RP3betaRecommender: Similarity column 38121 (100.0%), 1691.30 column/sec. Elapsed time 22.54 sec\n",
      "EvaluatorHoldout: Ignoring 150 ( 0.4%) Users that have less than 1 test interactions\n",
      "EvaluatorHoldout: Processed 35586 (100.0%) in 39.10 sec. Users per second: 910\n",
      "RP3betaRecommender: Similarity column 38121 (100.0%), 1689.51 column/sec. Elapsed time 22.56 sec\n",
      "EvaluatorHoldout: Ignoring 167 ( 0.5%) Users that have less than 1 test interactions\n",
      "EvaluatorHoldout: Processed 35569 (100.0%) in 39.06 sec. Users per second: 911\n",
      "RP3betaRecommender: Similarity column 38121 (100.0%), 1676.11 column/sec. Elapsed time 22.74 sec\n",
      "EvaluatorHoldout: Ignoring 172 ( 0.5%) Users that have less than 1 test interactions\n",
      "EvaluatorHoldout: Processed 35564 (100.0%) in 39.09 sec. Users per second: 910\n"
     ]
    },
    {
     "name": "stderr",
     "output_type": "stream",
     "text": [
      "[I 2025-01-07 11:25:43,736] Trial 246 finished with value: 0.2728667038040494 and parameters: {'topK': 115, 'alpha': 0.33732094202801227, 'beta': 0.29603530105825576, 'normalize_similarity': True, 'implicit': True}. Best is trial 232 with value: 0.2749445658438939.\n"
     ]
    },
    {
     "name": "stdout",
     "output_type": "stream",
     "text": [
      "RP3betaRecommender: Similarity column 38121 (100.0%), 2063.17 column/sec. Elapsed time 18.48 sec\n",
      "EvaluatorHoldout: Ignoring 173 ( 0.5%) Users that have less than 1 test interactions\n",
      "EvaluatorHoldout: Processed 35563 (100.0%) in 34.66 sec. Users per second: 1026\n",
      "RP3betaRecommender: Similarity column 38121 (100.0%), 1983.33 column/sec. Elapsed time 19.22 sec\n",
      "EvaluatorHoldout: Ignoring 163 ( 0.5%) Users that have less than 1 test interactions\n",
      "EvaluatorHoldout: Processed 35573 (100.0%) in 34.81 sec. Users per second: 1022\n",
      "RP3betaRecommender: Similarity column 38121 (100.0%), 2079.76 column/sec. Elapsed time 18.33 sec\n",
      "EvaluatorHoldout: Ignoring 150 ( 0.4%) Users that have less than 1 test interactions\n",
      "EvaluatorHoldout: Processed 35586 (100.0%) in 34.83 sec. Users per second: 1022\n",
      "RP3betaRecommender: Similarity column 38121 (100.0%), 2081.85 column/sec. Elapsed time 18.31 sec\n",
      "EvaluatorHoldout: Ignoring 167 ( 0.5%) Users that have less than 1 test interactions\n",
      "EvaluatorHoldout: Processed 35569 (100.0%) in 34.89 sec. Users per second: 1019\n",
      "RP3betaRecommender: Similarity column 38121 (100.0%), 2075.11 column/sec. Elapsed time 18.37 sec\n",
      "EvaluatorHoldout: Ignoring 172 ( 0.5%) Users that have less than 1 test interactions\n",
      "EvaluatorHoldout: Processed 35564 (100.0%) in 34.61 sec. Users per second: 1027\n"
     ]
    },
    {
     "name": "stderr",
     "output_type": "stream",
     "text": [
      "[I 2025-01-07 11:30:18,674] Trial 247 finished with value: 0.2682280673825122 and parameters: {'topK': 32, 'alpha': 0.4246112914709624, 'beta': 0.10342698361089953, 'normalize_similarity': True, 'implicit': True}. Best is trial 232 with value: 0.2749445658438939.\n"
     ]
    },
    {
     "name": "stdout",
     "output_type": "stream",
     "text": [
      "RP3betaRecommender: Similarity column 38121 (100.0%), 1839.82 column/sec. Elapsed time 20.72 sec\n",
      "EvaluatorHoldout: Ignoring 173 ( 0.5%) Users that have less than 1 test interactions\n",
      "EvaluatorHoldout: Processed 35563 (100.0%) in 38.16 sec. Users per second: 932\n",
      "RP3betaRecommender: Similarity column 38121 (100.0%), 1842.61 column/sec. Elapsed time 20.69 sec\n",
      "EvaluatorHoldout: Ignoring 163 ( 0.5%) Users that have less than 1 test interactions\n",
      "EvaluatorHoldout: Processed 35573 (100.0%) in 38.29 sec. Users per second: 929\n",
      "RP3betaRecommender: Similarity column 38121 (100.0%), 1833.18 column/sec. Elapsed time 20.79 sec\n",
      "EvaluatorHoldout: Ignoring 150 ( 0.4%) Users that have less than 1 test interactions\n",
      "EvaluatorHoldout: Processed 35586 (100.0%) in 38.40 sec. Users per second: 927\n",
      "RP3betaRecommender: Similarity column 38121 (100.0%), 1863.68 column/sec. Elapsed time 20.45 sec\n",
      "EvaluatorHoldout: Ignoring 167 ( 0.5%) Users that have less than 1 test interactions\n",
      "EvaluatorHoldout: Processed 35569 (100.0%) in 38.37 sec. Users per second: 927\n",
      "RP3betaRecommender: Similarity column 38121 (100.0%), 1849.51 column/sec. Elapsed time 20.61 sec\n",
      "EvaluatorHoldout: Ignoring 172 ( 0.5%) Users that have less than 1 test interactions\n",
      "EvaluatorHoldout: Processed 35564 (100.0%) in 38.38 sec. Users per second: 927\n"
     ]
    },
    {
     "name": "stderr",
     "output_type": "stream",
     "text": [
      "[I 2025-01-07 11:35:31,788] Trial 248 finished with value: 0.22981821460494642 and parameters: {'topK': 77, 'alpha': 1.88675032722099, 'beta': 0.22693394127653044, 'normalize_similarity': True, 'implicit': True}. Best is trial 232 with value: 0.2749445658438939.\n"
     ]
    },
    {
     "name": "stdout",
     "output_type": "stream",
     "text": [
      "RP3betaRecommender: Similarity column 38121 (100.0%), 1605.80 column/sec. Elapsed time 23.74 sec\n",
      "EvaluatorHoldout: Ignoring 173 ( 0.5%) Users that have less than 1 test interactions\n",
      "EvaluatorHoldout: Processed 35563 (100.0%) in 38.90 sec. Users per second: 914\n",
      "RP3betaRecommender: Similarity column 38121 (100.0%), 1613.47 column/sec. Elapsed time 23.63 sec\n",
      "EvaluatorHoldout: Ignoring 163 ( 0.5%) Users that have less than 1 test interactions\n",
      "EvaluatorHoldout: Processed 35573 (100.0%) in 39.13 sec. Users per second: 909\n",
      "RP3betaRecommender: Similarity column 38121 (100.0%), 1608.69 column/sec. Elapsed time 23.70 sec\n",
      "EvaluatorHoldout: Ignoring 150 ( 0.4%) Users that have less than 1 test interactions\n",
      "EvaluatorHoldout: Processed 35586 (100.0%) in 39.08 sec. Users per second: 911\n",
      "RP3betaRecommender: Similarity column 38121 (100.0%), 1620.44 column/sec. Elapsed time 23.53 sec\n",
      "EvaluatorHoldout: Ignoring 167 ( 0.5%) Users that have less than 1 test interactions\n",
      "EvaluatorHoldout: Processed 35569 (100.0%) in 39.17 sec. Users per second: 908\n",
      "RP3betaRecommender: Similarity column 38121 (100.0%), 1600.87 column/sec. Elapsed time 23.81 sec\n",
      "EvaluatorHoldout: Ignoring 172 ( 0.5%) Users that have less than 1 test interactions\n",
      "EvaluatorHoldout: Processed 35564 (100.0%) in 39.15 sec. Users per second: 908\n"
     ]
    },
    {
     "name": "stderr",
     "output_type": "stream",
     "text": [
      "[I 2025-01-07 11:41:12,912] Trial 249 finished with value: 0.2717516938621068 and parameters: {'topK': 139, 'alpha': 0.38990373802975026, 'beta': 0.16473302431239506, 'normalize_similarity': True, 'implicit': True}. Best is trial 232 with value: 0.2749445658438939.\n"
     ]
    },
    {
     "name": "stdout",
     "output_type": "stream",
     "text": [
      "RP3betaRecommender: Similarity column 38121 (100.0%), 1969.72 column/sec. Elapsed time 19.35 sec\n",
      "EvaluatorHoldout: Ignoring 173 ( 0.5%) Users that have less than 1 test interactions\n",
      "EvaluatorHoldout: Processed 35563 (100.0%) in 36.68 sec. Users per second: 970\n",
      "RP3betaRecommender: Similarity column 38121 (100.0%), 1984.71 column/sec. Elapsed time 19.21 sec\n",
      "EvaluatorHoldout: Ignoring 163 ( 0.5%) Users that have less than 1 test interactions\n",
      "EvaluatorHoldout: Processed 35573 (100.0%) in 36.84 sec. Users per second: 965\n",
      "RP3betaRecommender: Similarity column 38121 (100.0%), 1948.36 column/sec. Elapsed time 19.57 sec\n",
      "EvaluatorHoldout: Ignoring 150 ( 0.4%) Users that have less than 1 test interactions\n",
      "EvaluatorHoldout: Processed 35586 (100.0%) in 36.78 sec. Users per second: 968\n",
      "RP3betaRecommender: Similarity column 38121 (100.0%), 1979.45 column/sec. Elapsed time 19.26 sec\n",
      "EvaluatorHoldout: Ignoring 167 ( 0.5%) Users that have less than 1 test interactions\n",
      "EvaluatorHoldout: Processed 35569 (100.0%) in 36.78 sec. Users per second: 967\n",
      "RP3betaRecommender: Similarity column 38121 (100.0%), 1947.51 column/sec. Elapsed time 19.57 sec\n",
      "EvaluatorHoldout: Ignoring 172 ( 0.5%) Users that have less than 1 test interactions\n",
      "EvaluatorHoldout: Processed 35564 (100.0%) in 36.61 sec. Users per second: 972\n"
     ]
    },
    {
     "name": "stderr",
     "output_type": "stream",
     "text": [
      "[I 2025-01-07 11:46:07,077] Trial 250 finished with value: 0.273592745541289 and parameters: {'topK': 52, 'alpha': 0.2810839999135424, 'beta': 0.3569572045678829, 'normalize_similarity': True, 'implicit': True}. Best is trial 232 with value: 0.2749445658438939.\n"
     ]
    }
   ],
   "source": [
    "if config['tune_parameters']:\n",
    "    \n",
    "    optuna_study = optuna.create_study(direction='maximize', study_name=f'hyperparameters_tuning_{config[\"model\"]}_{config[\"metric\"]}',\n",
    "                                storage=f'sqlite:///{config[\"database_path\"]}', load_if_exists=True)\n",
    "\n",
    "    optuna_study.optimize(objective_function_RP3beta, n_trials=6)"
   ]
  },
  {
   "cell_type": "markdown",
   "id": "5fafa134",
   "metadata": {
    "papermill": {
     "duration": 0.021002,
     "end_time": "2025-01-07T11:46:07.126012",
     "exception": false,
     "start_time": "2025-01-07T11:46:07.105010",
     "status": "completed"
    },
    "tags": []
   },
   "source": [
    "## Some optuna visualizations on recommender parameters"
   ]
  },
  {
   "cell_type": "code",
   "execution_count": 14,
   "id": "6846ef3b",
   "metadata": {
    "execution": {
     "iopub.execute_input": "2025-01-07T11:46:07.168492Z",
     "iopub.status.busy": "2025-01-07T11:46:07.168072Z",
     "iopub.status.idle": "2025-01-07T11:46:08.339847Z",
     "shell.execute_reply": "2025-01-07T11:46:08.338723Z"
    },
    "papermill": {
     "duration": 1.195147,
     "end_time": "2025-01-07T11:46:08.341556",
     "exception": false,
     "start_time": "2025-01-07T11:46:07.146409",
     "status": "completed"
    },
    "tags": []
   },
   "outputs": [
    {
     "data": {
      "text/html": [
       "<html>\n",
       "<head><meta charset=\"utf-8\" /></head>\n",
       "<body>\n",
       "    <div>            <script src=\"https://cdnjs.cloudflare.com/ajax/libs/mathjax/2.7.5/MathJax.js?config=TeX-AMS-MML_SVG\"></script><script type=\"text/javascript\">if (window.MathJax && window.MathJax.Hub && window.MathJax.Hub.Config) {window.MathJax.Hub.Config({SVG: {font: \"STIX-Web\"}});}</script>                <script type=\"text/javascript\">window.PlotlyConfig = {MathJaxConfig: 'local'};</script>\n",
       "        <script charset=\"utf-8\" src=\"https://cdn.plot.ly/plotly-2.35.2.min.js\"></script>                <div id=\"5fd9b6ce-6b44-44ce-8cc3-5e112447f1bc\" class=\"plotly-graph-div\" style=\"height:525px; width:1500px;\"></div>            <script type=\"text/javascript\">                                    window.PLOTLYENV=window.PLOTLYENV || {};                                    if (document.getElementById(\"5fd9b6ce-6b44-44ce-8cc3-5e112447f1bc\")) {                    Plotly.newPlot(                        \"5fd9b6ce-6b44-44ce-8cc3-5e112447f1bc\",                        [{\"marker\":{\"color\":[0,1,2,3,4,5,6,7,8,9,10,11,12,13,14,15,16,17,18,19,20,21,22,23,24,25,26,27,28,29,30,31,32,33,34,35,36,37,38,39,40,41,42,43,44,45,46,47,48,49,50,51,52,53,54,55,56,57,58,59,60,61,62,63,64,65,66,67,68,69,70,71,72,73,74,75,76,77,78,79,80,81,82,83,84,85,86,87,88,89,90,91,92,93,94,95,96,97,98,99,100,101,102,103,104,105,106,107,108,109,110,111,112,113,114,115,116,117,118,119,120,121,122,123,124,125,126,127,128,129,130,131,132,133,134,135,136,137,138,139,140,141,142,143,144,145,146,147,148,149,150,151,152,153,154,155,156,157,158,159,160,161,162,163,164,165,166,167,168,169,170,171,172,173,174,175,176,177,178,179,180,181,182,183,184,185,186,187,188,189,190,191,192,193,194,195,196,197,198,199,200,201,202,203,204,205,206,207,208,209,210,211,212,213,214,215,216,217,218,219,220,221,222,223,224,225,226,227,228,229,230,231,232,233,234,235,236,237,238,239,240,241,242,243,244,245,246,247,248,249,250],\"colorbar\":{\"title\":{\"text\":\"Trial\"},\"x\":1.0,\"xpad\":40},\"colorscale\":[[0.0,\"rgb(247,251,255)\"],[0.125,\"rgb(222,235,247)\"],[0.25,\"rgb(198,219,239)\"],[0.375,\"rgb(158,202,225)\"],[0.5,\"rgb(107,174,214)\"],[0.625,\"rgb(66,146,198)\"],[0.75,\"rgb(33,113,181)\"],[0.875,\"rgb(8,81,156)\"],[1.0,\"rgb(8,48,107)\"]],\"line\":{\"color\":\"Grey\",\"width\":0.5},\"showscale\":true},\"mode\":\"markers\",\"name\":\"Feasible Trial\",\"showlegend\":false,\"x\":[0.7872248425679264,1.1755618354661312,1.1163282637041108,2.483855331512362,1.8750827915170507,2.8875196996829917,0.16406539371838424,1.0686873403840846,0.6695906502551549,2.7082033418197886,0.048969518920117694,2.050708935361088,1.7825580424497636,1.6758217369416242,0.5510642864465204,2.213702604419429,1.4695260047873941,1.3762439811918932,0.44971409729831285,0.6864725748780408,1.4654351611410696,1.436621158938125,0.9420034332250317,1.021800195033113,0.9245801256325707,0.9622601759616628,0.40167478623879616,0.8817503863405146,0.3285817357393349,1.235236212061744,0.9143594857335409,0.32447188358543516,0.7722074280624172,0.7762438165539307,1.1620724305606407,1.2555856246686878,1.013091402677313,0.5504867849687161,0.8071612691907473,1.6593118549113253,1.077340703633102,0.7390866306356115,0.6232765168203701,0.19182407313590555,0.5867066832633003,0.5986061153866342,0.19622594947104632,0.693919248830864,0.49084486093607693,1.3074862613720277,1.1360743349598772,0.7724725946659237,0.6384127374188945,0.011334134798649309,0.6824903970357978,0.3433886930741611,0.7145983551048152,0.8013495754579187,0.481241214202978,2.9529416944982954,0.5970346271542373,0.472095249040418,0.22408239312859418,1.0261524338790096,0.8742511795732935,0.6634888955263277,0.41613470250093576,2.4708529190417696,0.6937541099609542,0.6353382502758587,0.07393123396582368,0.6226139910447026,0.28127997551838335,0.5135677746151648,0.8407942671470163,0.5336700562660341,0.632778255170745,0.5185804877411504,0.36744683628581454,0.10454225931544558,0.5499395641040229,0.6261687334054726,0.41976336900687505,0.6393847735566666,0.9517288886569706,0.7657834679531135,0.27999637059795823,0.5249919886682413,0.49939520906218937,0.4076642418661145,0.3848396850925943,0.6273101122120969,0.5516573304727697,0.28592324866693275,0.13629605938614986,0.26607036842925946,0.31110622998249055,0.12699020224878152,0.0944869108967602,0.11935022996958089,0.14582486480723655,0.13932562143130642,0.15299166572645617,0.1323169353590305,0.16379536223248403,0.1501578166226175,0.14010593278352787,0.1489398350359908,0.14106170445164823,0.023084049897382747,0.14992006339506947,0.1691042865636652,0.2305440992128362,0.23215725154025924,0.0014754410470579626,0.21737143036346682,0.22327975333508107,0.22173991690453917,0.008703354667973062,0.005967856720112408,0.2349586128829164,0.20673595119324567,0.2274576241331156,0.23906626286917063,0.23187489873725164,0.2214857712266538,0.23325178685407366,0.23912679212181043,0.34798674471190016,0.22776717668108312,0.24415020267172377,0.3332169091177499,0.32966058212904803,0.33915837815636773,0.31027198001066586,0.32223825938159056,0.4399501413388889,0.35893592145720077,0.3441915559380407,0.3526127469074982,0.4460176990197343,0.4330901422585578,0.4371399666943234,0.3304719075400612,0.32203618641592063,0.4378348602872351,0.44611794485505774,0.43172500365646166,2.0529662847838805,0.3868514277791429,0.3240893093884364,0.3165730836794529,0.3178451643716313,0.32122639581952317,0.3082207013497241,0.34256790548437455,0.3468808845859127,0.477323659365557,0.3989327034040363,0.3893435729545611,0.3842036561012722,0.3922312163116681,0.47119801665236366,0.47553193390733733,0.48534716561902513,0.49578720458258463,0.40893596349333056,0.5480989713765878,0.46165684316857236,0.585694034997585,0.398845332298145,0.5568860992420746,0.4892577390914412,1.6400719203901655,0.47404366498430206,0.39116131971494356,0.49156583755624395,2.7466054371969366,0.37597019268376475,0.4325074996250769,0.4947384098098259,0.568169843813149,0.5254830279636589,0.3696406922013337,0.28335601635336416,0.43961345429497434,0.28530867137455107,0.29614165552425065,0.37472096115637843,0.45265116088713997,0.29660577902503227,0.5059279735313754,0.37464545605924504,0.5040050290167393,0.43390439113036616,0.36840925091041316,0.41335971796142473,0.28741950057512533,0.4369329700743234,0.41575903585032653,0.5800641921574343,0.33811896951721454,0.45640899013680786,0.4510554997250445,0.5170183830881556,0.4644029876699326,0.44597010110068336,0.5826225101244916,0.41565572443148124,0.5323067459568374,0.6870714392682402,2.3880353470323055,0.3687927174035428,0.35509009371955624,0.38803025327896634,0.4481012016675714,0.4495072892615451,0.34891135234508575,0.4250093828737653,0.47278904306988195,0.38556900669315736,0.35433956261025346,0.38532935911044996,0.36446885251192296,0.360115365320358,0.30024533359582567,0.36652082430166777,0.275988838902446,0.3835723243443511,0.35080418332779956,0.28632033316409233,0.3993895014441001,0.40620926566615306,0.4018578820139517,0.4261120426194824,0.4213817544182969,0.41711368488719336,0.5122957733643176,0.4699001660162345,0.3960124469371147,0.33796399223148255,0.4159229303329523,0.40910490419516277,0.37856065223759766,0.28323595456659134,0.5286361545455723,0.33732094202801227,0.4246112914709624,1.88675032722099,0.38990373802975026,0.2810839999135424],\"y\":[0.17881519376268692,0.07049783718854735,0.15015339954653534,0.05164833713622284,0.22774372575215143,0.19850813446465515,0.20930764973429455,0.10710652770386053,0.24495279257735167,0.0720485490024785,0.039675506488837685,0.22403984904166205,0.23158865052648753,0.22497086394432309,0.11017174970731809,0.2140059018073172,0.23948019953628957,0.23706304954441734,0.12431414585322025,0.09203791651329986,0.2216763594838938,0.24604740066272907,0.2568078292746356,0.2570420795673928,0.2559197250148196,0.0055265346604531345,0.2305459884646643,0.171074471770536,0.24622497184535116,0.19194071938150972,0.12497649975422127,0.24541309552940227,0.25238394185118757,0.2562353495088586,0.23583728184822586,0.2488446503193545,0.059577977624616626,0.08863984101253644,0.06614963183525802,0.24146526939621832,0.1572851347775057,0.2574196837696373,0.25843371022881273,0.21810690395405025,0.2564993091259435,0.24037186358222304,0.1755520180670244,0.2491499731300315,0.25615269327370244,0.2445166691279245,0.21708881819076406,0.2581406319442995,0.2578177442780386,0.22452264731762006,0.2572125593844393,0.2250646354079108,0.2566159310175874,0.24126441348305963,0.257017365052029,0.19290510710621595,0.1402246271483521,0.25730551884324837,0.2484075400793111,0.2472394054385214,0.21912343024659076,0.2603907342916768,0.25080453675496367,0.12439665411202383,0.24311265823842998,0.2597111131657079,0.2482078441997996,0.260274141750743,0.2546961481696551,0.2610588766069556,0.24710463323018156,0.2597401052332221,0.2594764890180551,0.0895357227607468,0.2572440131569412,0.07828240413086164,0.07411785307166423,0.2577642548591495,0.2548987341465431,0.2598086154091841,0.24837579721530173,0.23941590564284893,0.2521952469012256,0.2623028727705525,0.2134468368000107,0.2633331171076826,0.20137743759548227,0.25992950015242017,0.24990282239030265,0.26262477403304146,0.2697004580068999,0.24581669657576682,0.25843809616949814,0.2690007949382341,0.20685486064347103,0.26622231473874064,0.26624193081289904,0.2676315519636901,0.2665315385704655,0.26672264906848075,0.26735603622511317,0.2660921809187792,0.26670839198260315,0.2643850484135111,0.2640418116749116,0.2573911809943833,0.07702061890691074,0.26671294965799897,0.27071976090625416,0.27138823403642065,0.2677164551857524,0.27188525731966995,0.2718533501189715,0.2718312689908628,0.26790289261723665,0.20537685084660667,0.27132057497870404,0.2724582734531121,0.27224701766333076,0.27119340214206755,0.2730729651320056,0.2636100196647523,0.2700135462740574,0.26857504519221986,0.2674352232684075,0.269090192682378,0.26865093457692557,0.274466502035252,0.2746343609220171,0.27408906890590296,0.2728339438111362,0.27326357779686716,0.27418791873796133,0.2741989861707087,0.2731660517284643,0.25177978719762967,0.2741470703787712,0.27437062163935894,0.1935768474585204,0.27444782531414974,0.2719997006994213,0.27262867556918563,0.26931587095318293,0.27081040905367926,0.2094527545627201,0.0055265346604531345,0.27425134840714155,0.27393464532311373,0.27276180434050684,0.2728582181385085,0.2670973874156276,0.27462879640357285,0.26601328496779125,0.2675869833971017,0.27482516620598896,0.06883935030932009,0.274743700331999,0.2742470200754231,0.274469789477771,0.274196293445024,0.2743832120748431,0.2697522975571881,0.08624865775505883,0.27374836924428136,0.27144195215986267,0.27284929905645666,0.10858816358970087,0.27292186518335326,0.2738706836907917,0.23661115508745545,0.26434001449912764,0.27374328938388065,0.2717611247559212,0.07962612844363695,0.27298797123386304,0.26980861472786366,0.26636772329040614,0.27360938988831285,0.27144607313984337,0.27330466678768806,0.27398712505138906,0.26673122054748155,0.26817552689357765,0.27110400153127723,0.25558576934444843,0.2704313077667611,0.19436244702553057,0.2741287543654195,0.27263566891809504,0.2720335810663956,0.27444047350946715,0.272017474951081,0.2733581210096298,0.2632330505604079,0.2745224606591807,0.25075553842626624,0.2697609237866902,0.27231998425934234,0.2745412293755888,0.2743436262107919,0.2734945289107281,0.2728481718908086,0.10459123248791899,0.2650363402899342,0.27019982283260535,0.27367310255794364,0.26969149786073554,0.20189710298963287,0.27480190824187223,0.274895885765578,0.22414272998112866,0.27458161669968306,0.273532782375857,0.27363947994544124,0.2709906301520028,0.2737504573614376,0.27493124419538123,0.27486187569646325,0.274939235807098,0.274732622118252,0.26707194026189934,0.272121105821455,0.2740547329643394,0.2741546148354948,0.24629578349102005,0.2697935348630741,0.26988879901572344,0.2745890065699089,0.2749445658438939,0.27461574045388615,0.2744431848032991,0.27426357517791555,0.2740802577133483,0.14458560254398423,0.2737675582637068,0.27475458707648936,0.2430345610103722,0.27474071666070615,0.27389496443877126,0.2729666129420351,0.2740637121052659,0.2720360575406392,0.2728667038040494,0.2682280673825122,0.22981821460494642,0.2717516938621068,0.273592745541289],\"type\":\"scatter\",\"xaxis\":\"x\",\"yaxis\":\"y\"},{\"marker\":{\"color\":[0,1,2,3,4,5,6,7,8,9,10,11,12,13,14,15,16,17,18,19,20,21,22,23,24,25,26,27,28,29,30,31,32,33,34,35,36,37,38,39,40,41,42,43,44,45,46,47,48,49,50,51,52,53,54,55,56,57,58,59,60,61,62,63,64,65,66,67,68,69,70,71,72,73,74,75,76,77,78,79,80,81,82,83,84,85,86,87,88,89,90,91,92,93,94,95,96,97,98,99,100,101,102,103,104,105,106,107,108,109,110,111,112,113,114,115,116,117,118,119,120,121,122,123,124,125,126,127,128,129,130,131,132,133,134,135,136,137,138,139,140,141,142,143,144,145,146,147,148,149,150,151,152,153,154,155,156,157,158,159,160,161,162,163,164,165,166,167,168,169,170,171,172,173,174,175,176,177,178,179,180,181,182,183,184,185,186,187,188,189,190,191,192,193,194,195,196,197,198,199,200,201,202,203,204,205,206,207,208,209,210,211,212,213,214,215,216,217,218,219,220,221,222,223,224,225,226,227,228,229,230,231,232,233,234,235,236,237,238,239,240,241,242,243,244,245,246,247,248,249,250],\"colorbar\":{\"title\":{\"text\":\"Trial\"},\"x\":1.0,\"xpad\":40},\"colorscale\":[[0.0,\"rgb(247,251,255)\"],[0.125,\"rgb(222,235,247)\"],[0.25,\"rgb(198,219,239)\"],[0.375,\"rgb(158,202,225)\"],[0.5,\"rgb(107,174,214)\"],[0.625,\"rgb(66,146,198)\"],[0.75,\"rgb(33,113,181)\"],[0.875,\"rgb(8,81,156)\"],[1.0,\"rgb(8,48,107)\"]],\"line\":{\"color\":\"Grey\",\"width\":0.5},\"showscale\":false},\"mode\":\"markers\",\"name\":\"Feasible Trial\",\"showlegend\":false,\"x\":[0.9319407549297373,2.3266995300863638,1.0873327756296318,2.1878486922503257,0.36997841083765837,0.05048912427567598,0.7729643585861036,1.5195379393708535,0.004738302038190256,0.8422553986382529,2.9941293644121303,0.13138531513216567,0.35937332044020237,0.5213053232014122,1.472083378875662,0.009040387456045842,0.45949261168052347,0.5434021959870575,1.2703469084983272,1.8104015445421477,0.634288584749784,0.28917011865645975,0.27331474679825113,0.3600178409484427,0.3095349605432491,1.1113847808909836,0.713547845024147,0.9900273005680644,0.22988964174778231,0.8559327989093117,1.3233508195792136,0.22531834304835008,0.24135199464441248,0.5211171804167264,0.6290756060172908,0.4288603845350034,2.8636514704896316,1.8759194628369964,2.559171280129761,0.15679249698045072,1.0228335529757997,0.352036071077502,0.43562561397413896,0.7067067746061293,0.5293307262826673,0.1081607179355294,0.8698095921664408,0.5953655557361855,0.3561006575048732,0.4686364711876747,0.7578068569217337,0.4437004064973783,0.3753627556999712,0.12191510024113483,0.3524359322941919,0.006237051919884329,0.40815855357077835,0.6771266634534896,0.3880081272967884,0.17707484083231811,1.1687366137047008,0.4111357979975982,0.35515907016435794,0.57595206983686,0.7890104234202606,0.4794867867105732,0.4778810140793973,0.9475617647362355,0.0993451580352388,0.2723247630731207,0.2508126893960675,0.3081424443783267,0.26941544670837353,0.45267345202175546,0.618096813937741,0.49891088294326175,0.5076366795671151,1.8209984481725778,0.48642734416071054,1.6366430780450094,2.2263050155563047,0.20545061504486503,0.5567407852846205,0.3055085148340889,0.07252883125769854,0.6861050212367599,0.29898252512562956,0.473901651369993,0.7924150304689161,0.5445060325931179,0.8791909228521939,0.5230695399372476,0.6182426655282539,0.5293833613967177,0.314149706260762,0.6613565713085199,0.5525913338493675,0.17788910146802878,0.17338583728990464,0.05208102552424443,0.0788615794316535,0.044696870552054346,0.056472638373946796,0.03837037751128808,0.04669181223151664,0.0020961463860626334,0.03603108432130191,0.038955962152516094,0.03928541759951828,0.0035619582053418516,0.06851503759510771,0.049030077436904296,0.13493436612525023,0.14491843369835902,0.14341828299866666,0.13596677858103967,0.12393662088389909,0.14525053654784514,0.1421409320701682,0.14546365135336128,0.20105940531115948,0.20323642898951874,0.21203580885946333,0.210327283356379,0.2036985298652056,0.2133515467056503,0.2056460828923438,0.21573991203113863,0.19431741206076053,0.2713035630695714,0.25629931203960454,0.3302896650024042,0.3123315238736174,0.3423541146225434,0.12688064752605363,0.13941524359756824,0.3462189077351412,0.3462021505268129,0.38646137054928864,0.3733496832157543,0.3376974209155975,0.33306519869624,0.33617191782255745,0.330364058053902,0.4169346574428836,0.4036591779831616,0.3860632020481599,0.33315871642803874,0.43199246788971374,0.2863937742890921,0.33293655151559737,0.34602601901738816,0.38740155965366546,0.38791519369330224,0.3519657313288697,0.3142434246331335,0.2950995486926906,0.44811428475055487,0.26010953597098857,2.627134465158406,0.26762041091527855,0.31739835229569224,0.28515060696930056,0.3135667676728947,0.2895812485307754,0.3136423994999688,2.0297040158042305,0.2747315118945971,0.2644723416511638,0.3247371658445636,0.4361089418087129,0.28355877332910195,0.3331817789284777,0.345360359546883,0.46364940500616614,0.34171890799330606,0.2712415066016478,1.3554293759402785,0.24899854905205332,0.4605958072327633,0.3381532794544751,0.2750314107594869,0.40173676381797296,0.24888230100007905,0.33169543329179296,0.50756968844318,0.32846390564715044,0.4301413342521887,0.3592878145694721,0.23782754618807844,0.5850003402680322,0.2962092197418736,0.30433471723454913,0.3898130813738546,0.3228109425571514,0.23950758010156806,0.3823036576751499,0.4939477982018148,0.30871196294194164,0.29176404842960074,0.1939595709175036,0.4055235904007426,0.31437362691173387,0.238716586767897,0.2338418311909396,0.2897868376344232,1.6580370613578512,0.23582052601888054,0.4368985090190147,0.1930864122932751,0.31449655609406624,0.35766921350670833,0.2846030854144206,0.26006837402977817,0.25643790176722436,0.2800105946496581,0.2104954237384254,0.18878807539631162,0.4097127737441175,0.25972530772887215,0.2979309262387038,0.3031710289386356,0.2749203274927497,0.2704567332320949,0.15558783495494563,0.2577441466989046,0.2063569184372454,0.27873769743536203,0.16393894558277972,0.3695958072619327,0.10603506150808978,0.29400614019321364,0.2907447015245879,0.24310946599415917,0.2681702495785287,0.24999244249236793,0.21891687528353698,0.17482190383724885,0.27854780254700084,0.24741962584570232,0.2875158834047642,0.22850961956783675,0.17210861467929514,0.29135874615645324,0.22380755688676962,0.3956358838372332,0.29603530105825576,0.10342698361089953,0.22693394127653044,0.16473302431239506,0.3569572045678829],\"y\":[0.17881519376268692,0.07049783718854735,0.15015339954653534,0.05164833713622284,0.22774372575215143,0.19850813446465515,0.20930764973429455,0.10710652770386053,0.24495279257735167,0.0720485490024785,0.039675506488837685,0.22403984904166205,0.23158865052648753,0.22497086394432309,0.11017174970731809,0.2140059018073172,0.23948019953628957,0.23706304954441734,0.12431414585322025,0.09203791651329986,0.2216763594838938,0.24604740066272907,0.2568078292746356,0.2570420795673928,0.2559197250148196,0.0055265346604531345,0.2305459884646643,0.171074471770536,0.24622497184535116,0.19194071938150972,0.12497649975422127,0.24541309552940227,0.25238394185118757,0.2562353495088586,0.23583728184822586,0.2488446503193545,0.059577977624616626,0.08863984101253644,0.06614963183525802,0.24146526939621832,0.1572851347775057,0.2574196837696373,0.25843371022881273,0.21810690395405025,0.2564993091259435,0.24037186358222304,0.1755520180670244,0.2491499731300315,0.25615269327370244,0.2445166691279245,0.21708881819076406,0.2581406319442995,0.2578177442780386,0.22452264731762006,0.2572125593844393,0.2250646354079108,0.2566159310175874,0.24126441348305963,0.257017365052029,0.19290510710621595,0.1402246271483521,0.25730551884324837,0.2484075400793111,0.2472394054385214,0.21912343024659076,0.2603907342916768,0.25080453675496367,0.12439665411202383,0.24311265823842998,0.2597111131657079,0.2482078441997996,0.260274141750743,0.2546961481696551,0.2610588766069556,0.24710463323018156,0.2597401052332221,0.2594764890180551,0.0895357227607468,0.2572440131569412,0.07828240413086164,0.07411785307166423,0.2577642548591495,0.2548987341465431,0.2598086154091841,0.24837579721530173,0.23941590564284893,0.2521952469012256,0.2623028727705525,0.2134468368000107,0.2633331171076826,0.20137743759548227,0.25992950015242017,0.24990282239030265,0.26262477403304146,0.2697004580068999,0.24581669657576682,0.25843809616949814,0.2690007949382341,0.20685486064347103,0.26622231473874064,0.26624193081289904,0.2676315519636901,0.2665315385704655,0.26672264906848075,0.26735603622511317,0.2660921809187792,0.26670839198260315,0.2643850484135111,0.2640418116749116,0.2573911809943833,0.07702061890691074,0.26671294965799897,0.27071976090625416,0.27138823403642065,0.2677164551857524,0.27188525731966995,0.2718533501189715,0.2718312689908628,0.26790289261723665,0.20537685084660667,0.27132057497870404,0.2724582734531121,0.27224701766333076,0.27119340214206755,0.2730729651320056,0.2636100196647523,0.2700135462740574,0.26857504519221986,0.2674352232684075,0.269090192682378,0.26865093457692557,0.274466502035252,0.2746343609220171,0.27408906890590296,0.2728339438111362,0.27326357779686716,0.27418791873796133,0.2741989861707087,0.2731660517284643,0.25177978719762967,0.2741470703787712,0.27437062163935894,0.1935768474585204,0.27444782531414974,0.2719997006994213,0.27262867556918563,0.26931587095318293,0.27081040905367926,0.2094527545627201,0.0055265346604531345,0.27425134840714155,0.27393464532311373,0.27276180434050684,0.2728582181385085,0.2670973874156276,0.27462879640357285,0.26601328496779125,0.2675869833971017,0.27482516620598896,0.06883935030932009,0.274743700331999,0.2742470200754231,0.274469789477771,0.274196293445024,0.2743832120748431,0.2697522975571881,0.08624865775505883,0.27374836924428136,0.27144195215986267,0.27284929905645666,0.10858816358970087,0.27292186518335326,0.2738706836907917,0.23661115508745545,0.26434001449912764,0.27374328938388065,0.2717611247559212,0.07962612844363695,0.27298797123386304,0.26980861472786366,0.26636772329040614,0.27360938988831285,0.27144607313984337,0.27330466678768806,0.27398712505138906,0.26673122054748155,0.26817552689357765,0.27110400153127723,0.25558576934444843,0.2704313077667611,0.19436244702553057,0.2741287543654195,0.27263566891809504,0.2720335810663956,0.27444047350946715,0.272017474951081,0.2733581210096298,0.2632330505604079,0.2745224606591807,0.25075553842626624,0.2697609237866902,0.27231998425934234,0.2745412293755888,0.2743436262107919,0.2734945289107281,0.2728481718908086,0.10459123248791899,0.2650363402899342,0.27019982283260535,0.27367310255794364,0.26969149786073554,0.20189710298963287,0.27480190824187223,0.274895885765578,0.22414272998112866,0.27458161669968306,0.273532782375857,0.27363947994544124,0.2709906301520028,0.2737504573614376,0.27493124419538123,0.27486187569646325,0.274939235807098,0.274732622118252,0.26707194026189934,0.272121105821455,0.2740547329643394,0.2741546148354948,0.24629578349102005,0.2697935348630741,0.26988879901572344,0.2745890065699089,0.2749445658438939,0.27461574045388615,0.2744431848032991,0.27426357517791555,0.2740802577133483,0.14458560254398423,0.2737675582637068,0.27475458707648936,0.2430345610103722,0.27474071666070615,0.27389496443877126,0.2729666129420351,0.2740637121052659,0.2720360575406392,0.2728667038040494,0.2682280673825122,0.22981821460494642,0.2717516938621068,0.273592745541289],\"type\":\"scatter\",\"xaxis\":\"x2\",\"yaxis\":\"y2\"},{\"marker\":{\"color\":[0,1,2,3,4,5,6,7,8,9,10,11,12,13,14,15,16,17,18,19,20,21,22,23,24,25,26,27,28,29,30,31,32,33,34,35,36,37,38,39,40,41,42,43,44,45,46,47,48,49,50,51,52,53,54,55,56,57,58,59,60,61,62,63,64,65,66,67,68,69,70,71,72,73,74,75,76,77,78,79,80,81,82,83,84,85,86,87,88,89,90,91,92,93,94,95,96,97,98,99,100,101,102,103,104,105,106,107,108,109,110,111,112,113,114,115,116,117,118,119,120,121,122,123,124,125,126,127,128,129,130,131,132,133,134,135,136,137,138,139,140,141,142,143,144,145,146,147,148,149,150,151,152,153,154,155,156,157,158,159,160,161,162,163,164,165,166,167,168,169,170,171,172,173,174,175,176,177,178,179,180,181,182,183,184,185,186,187,188,189,190,191,192,193,194,195,196,197,198,199,200,201,202,203,204,205,206,207,208,209,210,211,212,213,214,215,216,217,218,219,220,221,222,223,224,225,226,227,228,229,230,231,232,233,234,235,236,237,238,239,240,241,242,243,244,245,246,247,248,249,250],\"colorbar\":{\"title\":{\"text\":\"Trial\"},\"x\":1.0,\"xpad\":40},\"colorscale\":[[0.0,\"rgb(247,251,255)\"],[0.125,\"rgb(222,235,247)\"],[0.25,\"rgb(198,219,239)\"],[0.375,\"rgb(158,202,225)\"],[0.5,\"rgb(107,174,214)\"],[0.625,\"rgb(66,146,198)\"],[0.75,\"rgb(33,113,181)\"],[0.875,\"rgb(8,81,156)\"],[1.0,\"rgb(8,48,107)\"]],\"line\":{\"color\":\"Grey\",\"width\":0.5},\"showscale\":false},\"mode\":\"markers\",\"name\":\"Feasible Trial\",\"showlegend\":false,\"x\":[false,true,false,false,false,true,true,false,false,true,false,false,false,false,false,false,false,false,true,false,false,false,false,false,false,false,true,false,false,false,false,false,false,false,false,false,true,false,true,false,false,false,false,false,false,false,false,true,false,false,false,false,false,false,false,false,false,false,true,false,false,true,true,true,true,true,true,true,true,true,true,true,true,true,true,true,true,true,true,true,true,true,true,true,true,true,true,true,true,true,true,true,true,true,true,true,true,true,true,true,true,true,true,true,true,true,true,true,true,true,true,true,true,true,true,true,true,true,true,true,true,true,true,true,true,true,true,true,true,true,true,true,true,true,true,true,true,true,true,true,true,true,true,true,true,true,true,true,true,true,true,true,true,true,true,true,true,true,true,true,true,true,true,true,true,true,true,true,true,true,true,true,true,true,true,true,true,true,true,true,true,true,true,true,true,true,true,true,true,true,true,true,true,true,true,true,true,true,true,true,true,true,true,true,true,true,true,true,true,true,true,true,true,true,true,true,true,true,true,true,true,true,true,true,true,true,true,true,true,true,true,true,true,true,true,true,true,true,true,true,true,true,true,true,true,true,true,true,true,true,true],\"y\":[0.17881519376268692,0.07049783718854735,0.15015339954653534,0.05164833713622284,0.22774372575215143,0.19850813446465515,0.20930764973429455,0.10710652770386053,0.24495279257735167,0.0720485490024785,0.039675506488837685,0.22403984904166205,0.23158865052648753,0.22497086394432309,0.11017174970731809,0.2140059018073172,0.23948019953628957,0.23706304954441734,0.12431414585322025,0.09203791651329986,0.2216763594838938,0.24604740066272907,0.2568078292746356,0.2570420795673928,0.2559197250148196,0.0055265346604531345,0.2305459884646643,0.171074471770536,0.24622497184535116,0.19194071938150972,0.12497649975422127,0.24541309552940227,0.25238394185118757,0.2562353495088586,0.23583728184822586,0.2488446503193545,0.059577977624616626,0.08863984101253644,0.06614963183525802,0.24146526939621832,0.1572851347775057,0.2574196837696373,0.25843371022881273,0.21810690395405025,0.2564993091259435,0.24037186358222304,0.1755520180670244,0.2491499731300315,0.25615269327370244,0.2445166691279245,0.21708881819076406,0.2581406319442995,0.2578177442780386,0.22452264731762006,0.2572125593844393,0.2250646354079108,0.2566159310175874,0.24126441348305963,0.257017365052029,0.19290510710621595,0.1402246271483521,0.25730551884324837,0.2484075400793111,0.2472394054385214,0.21912343024659076,0.2603907342916768,0.25080453675496367,0.12439665411202383,0.24311265823842998,0.2597111131657079,0.2482078441997996,0.260274141750743,0.2546961481696551,0.2610588766069556,0.24710463323018156,0.2597401052332221,0.2594764890180551,0.0895357227607468,0.2572440131569412,0.07828240413086164,0.07411785307166423,0.2577642548591495,0.2548987341465431,0.2598086154091841,0.24837579721530173,0.23941590564284893,0.2521952469012256,0.2623028727705525,0.2134468368000107,0.2633331171076826,0.20137743759548227,0.25992950015242017,0.24990282239030265,0.26262477403304146,0.2697004580068999,0.24581669657576682,0.25843809616949814,0.2690007949382341,0.20685486064347103,0.26622231473874064,0.26624193081289904,0.2676315519636901,0.2665315385704655,0.26672264906848075,0.26735603622511317,0.2660921809187792,0.26670839198260315,0.2643850484135111,0.2640418116749116,0.2573911809943833,0.07702061890691074,0.26671294965799897,0.27071976090625416,0.27138823403642065,0.2677164551857524,0.27188525731966995,0.2718533501189715,0.2718312689908628,0.26790289261723665,0.20537685084660667,0.27132057497870404,0.2724582734531121,0.27224701766333076,0.27119340214206755,0.2730729651320056,0.2636100196647523,0.2700135462740574,0.26857504519221986,0.2674352232684075,0.269090192682378,0.26865093457692557,0.274466502035252,0.2746343609220171,0.27408906890590296,0.2728339438111362,0.27326357779686716,0.27418791873796133,0.2741989861707087,0.2731660517284643,0.25177978719762967,0.2741470703787712,0.27437062163935894,0.1935768474585204,0.27444782531414974,0.2719997006994213,0.27262867556918563,0.26931587095318293,0.27081040905367926,0.2094527545627201,0.0055265346604531345,0.27425134840714155,0.27393464532311373,0.27276180434050684,0.2728582181385085,0.2670973874156276,0.27462879640357285,0.26601328496779125,0.2675869833971017,0.27482516620598896,0.06883935030932009,0.274743700331999,0.2742470200754231,0.274469789477771,0.274196293445024,0.2743832120748431,0.2697522975571881,0.08624865775505883,0.27374836924428136,0.27144195215986267,0.27284929905645666,0.10858816358970087,0.27292186518335326,0.2738706836907917,0.23661115508745545,0.26434001449912764,0.27374328938388065,0.2717611247559212,0.07962612844363695,0.27298797123386304,0.26980861472786366,0.26636772329040614,0.27360938988831285,0.27144607313984337,0.27330466678768806,0.27398712505138906,0.26673122054748155,0.26817552689357765,0.27110400153127723,0.25558576934444843,0.2704313077667611,0.19436244702553057,0.2741287543654195,0.27263566891809504,0.2720335810663956,0.27444047350946715,0.272017474951081,0.2733581210096298,0.2632330505604079,0.2745224606591807,0.25075553842626624,0.2697609237866902,0.27231998425934234,0.2745412293755888,0.2743436262107919,0.2734945289107281,0.2728481718908086,0.10459123248791899,0.2650363402899342,0.27019982283260535,0.27367310255794364,0.26969149786073554,0.20189710298963287,0.27480190824187223,0.274895885765578,0.22414272998112866,0.27458161669968306,0.273532782375857,0.27363947994544124,0.2709906301520028,0.2737504573614376,0.27493124419538123,0.27486187569646325,0.274939235807098,0.274732622118252,0.26707194026189934,0.272121105821455,0.2740547329643394,0.2741546148354948,0.24629578349102005,0.2697935348630741,0.26988879901572344,0.2745890065699089,0.2749445658438939,0.27461574045388615,0.2744431848032991,0.27426357517791555,0.2740802577133483,0.14458560254398423,0.2737675582637068,0.27475458707648936,0.2430345610103722,0.27474071666070615,0.27389496443877126,0.2729666129420351,0.2740637121052659,0.2720360575406392,0.2728667038040494,0.2682280673825122,0.22981821460494642,0.2717516938621068,0.273592745541289],\"type\":\"scatter\",\"xaxis\":\"x3\",\"yaxis\":\"y3\"},{\"marker\":{\"color\":[0,1,2,3,4,5,6,7,8,9,10,11,12,13,14,15,16,17,18,19,20,21,22,23,24,25,26,27,28,29,30,31,32,33,34,35,36,37,38,39,40,41,42,43,44,45,46,47,48,49,50,51,52,53,54,55,56,57,58,59,60,61,62,63,64,65,66,67,68,69,70,71,72,73,74,75,76,77,78,79,80,81,82,83,84,85,86,87,88,89,90,91,92,93,94,95,96,97,98,99,100,101,102,103,104,105,106,107,108,109,110,111,112,113,114,115,116,117,118,119,120,121,122,123,124,125,126,127,128,129,130,131,132,133,134,135,136,137,138,139,140,141,142,143,144,145,146,147,148,149,150,151,152,153,154,155,156,157,158,159,160,161,162,163,164,165,166,167,168,169,170,171,172,173,174,175,176,177,178,179,180,181,182,183,184,185,186,187,188,189,190,191,192,193,194,195,196,197,198,199,200,201,202,203,204,205,206,207,208,209,210,211,212,213,214,215,216,217,218,219,220,221,222,223,224,225,226,227,228,229,230,231,232,233,234,235,236,237,238,239,240,241,242,243,244,245,246,247,248,249,250],\"colorbar\":{\"title\":{\"text\":\"Trial\"},\"x\":1.0,\"xpad\":40},\"colorscale\":[[0.0,\"rgb(247,251,255)\"],[0.125,\"rgb(222,235,247)\"],[0.25,\"rgb(198,219,239)\"],[0.375,\"rgb(158,202,225)\"],[0.5,\"rgb(107,174,214)\"],[0.625,\"rgb(66,146,198)\"],[0.75,\"rgb(33,113,181)\"],[0.875,\"rgb(8,81,156)\"],[1.0,\"rgb(8,48,107)\"]],\"line\":{\"color\":\"Grey\",\"width\":0.5},\"showscale\":false},\"mode\":\"markers\",\"name\":\"Feasible Trial\",\"showlegend\":false,\"x\":[true,true,true,false,true,true,true,true,true,false,false,true,true,true,false,true,true,true,false,true,true,true,true,true,true,true,false,true,true,true,true,true,true,true,true,true,true,false,true,true,true,true,true,true,true,true,true,false,true,true,true,true,true,true,true,true,false,true,true,true,true,true,true,true,true,true,false,true,true,true,true,true,true,true,true,true,true,true,true,false,true,true,true,true,true,true,true,true,true,true,true,true,true,true,true,true,true,true,false,true,true,true,true,true,true,true,true,true,true,true,true,true,true,true,true,true,true,true,true,false,true,true,true,true,true,true,true,true,true,true,true,true,true,true,true,true,true,true,true,false,true,true,true,true,true,true,true,true,true,true,true,true,true,true,true,true,true,true,true,true,true,true,true,true,true,true,true,true,true,true,false,true,true,true,true,true,true,true,true,true,true,true,true,true,true,true,true,true,true,true,true,true,true,true,true,true,true,true,true,false,true,true,true,true,true,true,true,true,true,true,true,true,true,true,true,true,true,true,true,true,true,true,true,true,true,true,true,true,true,true,true,true,true,true,true,true,true,true,true,true,false,true,true,true,true,true,true,true,true,true,true],\"y\":[0.17881519376268692,0.07049783718854735,0.15015339954653534,0.05164833713622284,0.22774372575215143,0.19850813446465515,0.20930764973429455,0.10710652770386053,0.24495279257735167,0.0720485490024785,0.039675506488837685,0.22403984904166205,0.23158865052648753,0.22497086394432309,0.11017174970731809,0.2140059018073172,0.23948019953628957,0.23706304954441734,0.12431414585322025,0.09203791651329986,0.2216763594838938,0.24604740066272907,0.2568078292746356,0.2570420795673928,0.2559197250148196,0.0055265346604531345,0.2305459884646643,0.171074471770536,0.24622497184535116,0.19194071938150972,0.12497649975422127,0.24541309552940227,0.25238394185118757,0.2562353495088586,0.23583728184822586,0.2488446503193545,0.059577977624616626,0.08863984101253644,0.06614963183525802,0.24146526939621832,0.1572851347775057,0.2574196837696373,0.25843371022881273,0.21810690395405025,0.2564993091259435,0.24037186358222304,0.1755520180670244,0.2491499731300315,0.25615269327370244,0.2445166691279245,0.21708881819076406,0.2581406319442995,0.2578177442780386,0.22452264731762006,0.2572125593844393,0.2250646354079108,0.2566159310175874,0.24126441348305963,0.257017365052029,0.19290510710621595,0.1402246271483521,0.25730551884324837,0.2484075400793111,0.2472394054385214,0.21912343024659076,0.2603907342916768,0.25080453675496367,0.12439665411202383,0.24311265823842998,0.2597111131657079,0.2482078441997996,0.260274141750743,0.2546961481696551,0.2610588766069556,0.24710463323018156,0.2597401052332221,0.2594764890180551,0.0895357227607468,0.2572440131569412,0.07828240413086164,0.07411785307166423,0.2577642548591495,0.2548987341465431,0.2598086154091841,0.24837579721530173,0.23941590564284893,0.2521952469012256,0.2623028727705525,0.2134468368000107,0.2633331171076826,0.20137743759548227,0.25992950015242017,0.24990282239030265,0.26262477403304146,0.2697004580068999,0.24581669657576682,0.25843809616949814,0.2690007949382341,0.20685486064347103,0.26622231473874064,0.26624193081289904,0.2676315519636901,0.2665315385704655,0.26672264906848075,0.26735603622511317,0.2660921809187792,0.26670839198260315,0.2643850484135111,0.2640418116749116,0.2573911809943833,0.07702061890691074,0.26671294965799897,0.27071976090625416,0.27138823403642065,0.2677164551857524,0.27188525731966995,0.2718533501189715,0.2718312689908628,0.26790289261723665,0.20537685084660667,0.27132057497870404,0.2724582734531121,0.27224701766333076,0.27119340214206755,0.2730729651320056,0.2636100196647523,0.2700135462740574,0.26857504519221986,0.2674352232684075,0.269090192682378,0.26865093457692557,0.274466502035252,0.2746343609220171,0.27408906890590296,0.2728339438111362,0.27326357779686716,0.27418791873796133,0.2741989861707087,0.2731660517284643,0.25177978719762967,0.2741470703787712,0.27437062163935894,0.1935768474585204,0.27444782531414974,0.2719997006994213,0.27262867556918563,0.26931587095318293,0.27081040905367926,0.2094527545627201,0.0055265346604531345,0.27425134840714155,0.27393464532311373,0.27276180434050684,0.2728582181385085,0.2670973874156276,0.27462879640357285,0.26601328496779125,0.2675869833971017,0.27482516620598896,0.06883935030932009,0.274743700331999,0.2742470200754231,0.274469789477771,0.274196293445024,0.2743832120748431,0.2697522975571881,0.08624865775505883,0.27374836924428136,0.27144195215986267,0.27284929905645666,0.10858816358970087,0.27292186518335326,0.2738706836907917,0.23661115508745545,0.26434001449912764,0.27374328938388065,0.2717611247559212,0.07962612844363695,0.27298797123386304,0.26980861472786366,0.26636772329040614,0.27360938988831285,0.27144607313984337,0.27330466678768806,0.27398712505138906,0.26673122054748155,0.26817552689357765,0.27110400153127723,0.25558576934444843,0.2704313077667611,0.19436244702553057,0.2741287543654195,0.27263566891809504,0.2720335810663956,0.27444047350946715,0.272017474951081,0.2733581210096298,0.2632330505604079,0.2745224606591807,0.25075553842626624,0.2697609237866902,0.27231998425934234,0.2745412293755888,0.2743436262107919,0.2734945289107281,0.2728481718908086,0.10459123248791899,0.2650363402899342,0.27019982283260535,0.27367310255794364,0.26969149786073554,0.20189710298963287,0.27480190824187223,0.274895885765578,0.22414272998112866,0.27458161669968306,0.273532782375857,0.27363947994544124,0.2709906301520028,0.2737504573614376,0.27493124419538123,0.27486187569646325,0.274939235807098,0.274732622118252,0.26707194026189934,0.272121105821455,0.2740547329643394,0.2741546148354948,0.24629578349102005,0.2697935348630741,0.26988879901572344,0.2745890065699089,0.2749445658438939,0.27461574045388615,0.2744431848032991,0.27426357517791555,0.2740802577133483,0.14458560254398423,0.2737675582637068,0.27475458707648936,0.2430345610103722,0.27474071666070615,0.27389496443877126,0.2729666129420351,0.2740637121052659,0.2720360575406392,0.2728667038040494,0.2682280673825122,0.22981821460494642,0.2717516938621068,0.273592745541289],\"type\":\"scatter\",\"xaxis\":\"x4\",\"yaxis\":\"y4\"},{\"marker\":{\"color\":[0,1,2,3,4,5,6,7,8,9,10,11,12,13,14,15,16,17,18,19,20,21,22,23,24,25,26,27,28,29,30,31,32,33,34,35,36,37,38,39,40,41,42,43,44,45,46,47,48,49,50,51,52,53,54,55,56,57,58,59,60,61,62,63,64,65,66,67,68,69,70,71,72,73,74,75,76,77,78,79,80,81,82,83,84,85,86,87,88,89,90,91,92,93,94,95,96,97,98,99,100,101,102,103,104,105,106,107,108,109,110,111,112,113,114,115,116,117,118,119,120,121,122,123,124,125,126,127,128,129,130,131,132,133,134,135,136,137,138,139,140,141,142,143,144,145,146,147,148,149,150,151,152,153,154,155,156,157,158,159,160,161,162,163,164,165,166,167,168,169,170,171,172,173,174,175,176,177,178,179,180,181,182,183,184,185,186,187,188,189,190,191,192,193,194,195,196,197,198,199,200,201,202,203,204,205,206,207,208,209,210,211,212,213,214,215,216,217,218,219,220,221,222,223,224,225,226,227,228,229,230,231,232,233,234,235,236,237,238,239,240,241,242,243,244,245,246,247,248,249,250],\"colorbar\":{\"title\":{\"text\":\"Trial\"},\"x\":1.0,\"xpad\":40},\"colorscale\":[[0.0,\"rgb(247,251,255)\"],[0.125,\"rgb(222,235,247)\"],[0.25,\"rgb(198,219,239)\"],[0.375,\"rgb(158,202,225)\"],[0.5,\"rgb(107,174,214)\"],[0.625,\"rgb(66,146,198)\"],[0.75,\"rgb(33,113,181)\"],[0.875,\"rgb(8,81,156)\"],[1.0,\"rgb(8,48,107)\"]],\"line\":{\"color\":\"Grey\",\"width\":0.5},\"showscale\":false},\"mode\":\"markers\",\"name\":\"Feasible Trial\",\"showlegend\":false,\"x\":[155,631,1023,635,414,397,181,559,606,229,1452,934,937,926,1267,1154,759,793,788,413,559,763,727,646,1099,0,1120,1371,1186,1011,862,1222,1328,1487,1464,1040,663,506,694,281,472,1359,1499,1360,1496,1393,1301,1423,1246,1488,835,1500,1405,1299,1419,1407,1439,1354,1289,1432,1196,1281,1378,1341,1259,615,351,1437,1157,573,530,600,593,579,448,606,608,583,683,618,727,538,482,640,644,569,802,354,359,77,66,222,186,101,106,27,135,118,263,114,137,91,125,103,109,90,105,145,148,185,1,121,117,107,48,50,52,47,46,49,35,42,39,33,46,18,30,172,212,25,24,65,65,58,73,67,70,65,62,75,63,64,3,72,71,75,173,163,70,0,75,79,78,75,207,80,264,149,82,140,89,87,90,93,93,190,139,97,162,95,1,113,92,134,237,94,154,92,126,58,23,91,96,119,70,55,23,71,973,178,3,92,123,54,83,35,68,144,87,120,35,81,83,55,112,41,159,23,104,63,138,82,57,56,5,91,48,103,39,112,63,65,79,88,25,128,52,83,882,28,131,87,59,94,53,51,104,2,49,89,152,85,99,120,85,76,115,32,77,139,52],\"y\":[0.17881519376268692,0.07049783718854735,0.15015339954653534,0.05164833713622284,0.22774372575215143,0.19850813446465515,0.20930764973429455,0.10710652770386053,0.24495279257735167,0.0720485490024785,0.039675506488837685,0.22403984904166205,0.23158865052648753,0.22497086394432309,0.11017174970731809,0.2140059018073172,0.23948019953628957,0.23706304954441734,0.12431414585322025,0.09203791651329986,0.2216763594838938,0.24604740066272907,0.2568078292746356,0.2570420795673928,0.2559197250148196,0.0055265346604531345,0.2305459884646643,0.171074471770536,0.24622497184535116,0.19194071938150972,0.12497649975422127,0.24541309552940227,0.25238394185118757,0.2562353495088586,0.23583728184822586,0.2488446503193545,0.059577977624616626,0.08863984101253644,0.06614963183525802,0.24146526939621832,0.1572851347775057,0.2574196837696373,0.25843371022881273,0.21810690395405025,0.2564993091259435,0.24037186358222304,0.1755520180670244,0.2491499731300315,0.25615269327370244,0.2445166691279245,0.21708881819076406,0.2581406319442995,0.2578177442780386,0.22452264731762006,0.2572125593844393,0.2250646354079108,0.2566159310175874,0.24126441348305963,0.257017365052029,0.19290510710621595,0.1402246271483521,0.25730551884324837,0.2484075400793111,0.2472394054385214,0.21912343024659076,0.2603907342916768,0.25080453675496367,0.12439665411202383,0.24311265823842998,0.2597111131657079,0.2482078441997996,0.260274141750743,0.2546961481696551,0.2610588766069556,0.24710463323018156,0.2597401052332221,0.2594764890180551,0.0895357227607468,0.2572440131569412,0.07828240413086164,0.07411785307166423,0.2577642548591495,0.2548987341465431,0.2598086154091841,0.24837579721530173,0.23941590564284893,0.2521952469012256,0.2623028727705525,0.2134468368000107,0.2633331171076826,0.20137743759548227,0.25992950015242017,0.24990282239030265,0.26262477403304146,0.2697004580068999,0.24581669657576682,0.25843809616949814,0.2690007949382341,0.20685486064347103,0.26622231473874064,0.26624193081289904,0.2676315519636901,0.2665315385704655,0.26672264906848075,0.26735603622511317,0.2660921809187792,0.26670839198260315,0.2643850484135111,0.2640418116749116,0.2573911809943833,0.07702061890691074,0.26671294965799897,0.27071976090625416,0.27138823403642065,0.2677164551857524,0.27188525731966995,0.2718533501189715,0.2718312689908628,0.26790289261723665,0.20537685084660667,0.27132057497870404,0.2724582734531121,0.27224701766333076,0.27119340214206755,0.2730729651320056,0.2636100196647523,0.2700135462740574,0.26857504519221986,0.2674352232684075,0.269090192682378,0.26865093457692557,0.274466502035252,0.2746343609220171,0.27408906890590296,0.2728339438111362,0.27326357779686716,0.27418791873796133,0.2741989861707087,0.2731660517284643,0.25177978719762967,0.2741470703787712,0.27437062163935894,0.1935768474585204,0.27444782531414974,0.2719997006994213,0.27262867556918563,0.26931587095318293,0.27081040905367926,0.2094527545627201,0.0055265346604531345,0.27425134840714155,0.27393464532311373,0.27276180434050684,0.2728582181385085,0.2670973874156276,0.27462879640357285,0.26601328496779125,0.2675869833971017,0.27482516620598896,0.06883935030932009,0.274743700331999,0.2742470200754231,0.274469789477771,0.274196293445024,0.2743832120748431,0.2697522975571881,0.08624865775505883,0.27374836924428136,0.27144195215986267,0.27284929905645666,0.10858816358970087,0.27292186518335326,0.2738706836907917,0.23661115508745545,0.26434001449912764,0.27374328938388065,0.2717611247559212,0.07962612844363695,0.27298797123386304,0.26980861472786366,0.26636772329040614,0.27360938988831285,0.27144607313984337,0.27330466678768806,0.27398712505138906,0.26673122054748155,0.26817552689357765,0.27110400153127723,0.25558576934444843,0.2704313077667611,0.19436244702553057,0.2741287543654195,0.27263566891809504,0.2720335810663956,0.27444047350946715,0.272017474951081,0.2733581210096298,0.2632330505604079,0.2745224606591807,0.25075553842626624,0.2697609237866902,0.27231998425934234,0.2745412293755888,0.2743436262107919,0.2734945289107281,0.2728481718908086,0.10459123248791899,0.2650363402899342,0.27019982283260535,0.27367310255794364,0.26969149786073554,0.20189710298963287,0.27480190824187223,0.274895885765578,0.22414272998112866,0.27458161669968306,0.273532782375857,0.27363947994544124,0.2709906301520028,0.2737504573614376,0.27493124419538123,0.27486187569646325,0.274939235807098,0.274732622118252,0.26707194026189934,0.272121105821455,0.2740547329643394,0.2741546148354948,0.24629578349102005,0.2697935348630741,0.26988879901572344,0.2745890065699089,0.2749445658438939,0.27461574045388615,0.2744431848032991,0.27426357517791555,0.2740802577133483,0.14458560254398423,0.2737675582637068,0.27475458707648936,0.2430345610103722,0.27474071666070615,0.27389496443877126,0.2729666129420351,0.2740637121052659,0.2720360575406392,0.2728667038040494,0.2682280673825122,0.22981821460494642,0.2717516938621068,0.273592745541289],\"type\":\"scatter\",\"xaxis\":\"x5\",\"yaxis\":\"y5\"}],                        {\"template\":{\"data\":{\"histogram2dcontour\":[{\"type\":\"histogram2dcontour\",\"colorbar\":{\"outlinewidth\":0,\"ticks\":\"\"},\"colorscale\":[[0.0,\"#0d0887\"],[0.1111111111111111,\"#46039f\"],[0.2222222222222222,\"#7201a8\"],[0.3333333333333333,\"#9c179e\"],[0.4444444444444444,\"#bd3786\"],[0.5555555555555556,\"#d8576b\"],[0.6666666666666666,\"#ed7953\"],[0.7777777777777778,\"#fb9f3a\"],[0.8888888888888888,\"#fdca26\"],[1.0,\"#f0f921\"]]}],\"choropleth\":[{\"type\":\"choropleth\",\"colorbar\":{\"outlinewidth\":0,\"ticks\":\"\"}}],\"histogram2d\":[{\"type\":\"histogram2d\",\"colorbar\":{\"outlinewidth\":0,\"ticks\":\"\"},\"colorscale\":[[0.0,\"#0d0887\"],[0.1111111111111111,\"#46039f\"],[0.2222222222222222,\"#7201a8\"],[0.3333333333333333,\"#9c179e\"],[0.4444444444444444,\"#bd3786\"],[0.5555555555555556,\"#d8576b\"],[0.6666666666666666,\"#ed7953\"],[0.7777777777777778,\"#fb9f3a\"],[0.8888888888888888,\"#fdca26\"],[1.0,\"#f0f921\"]]}],\"heatmap\":[{\"type\":\"heatmap\",\"colorbar\":{\"outlinewidth\":0,\"ticks\":\"\"},\"colorscale\":[[0.0,\"#0d0887\"],[0.1111111111111111,\"#46039f\"],[0.2222222222222222,\"#7201a8\"],[0.3333333333333333,\"#9c179e\"],[0.4444444444444444,\"#bd3786\"],[0.5555555555555556,\"#d8576b\"],[0.6666666666666666,\"#ed7953\"],[0.7777777777777778,\"#fb9f3a\"],[0.8888888888888888,\"#fdca26\"],[1.0,\"#f0f921\"]]}],\"heatmapgl\":[{\"type\":\"heatmapgl\",\"colorbar\":{\"outlinewidth\":0,\"ticks\":\"\"},\"colorscale\":[[0.0,\"#0d0887\"],[0.1111111111111111,\"#46039f\"],[0.2222222222222222,\"#7201a8\"],[0.3333333333333333,\"#9c179e\"],[0.4444444444444444,\"#bd3786\"],[0.5555555555555556,\"#d8576b\"],[0.6666666666666666,\"#ed7953\"],[0.7777777777777778,\"#fb9f3a\"],[0.8888888888888888,\"#fdca26\"],[1.0,\"#f0f921\"]]}],\"contourcarpet\":[{\"type\":\"contourcarpet\",\"colorbar\":{\"outlinewidth\":0,\"ticks\":\"\"}}],\"contour\":[{\"type\":\"contour\",\"colorbar\":{\"outlinewidth\":0,\"ticks\":\"\"},\"colorscale\":[[0.0,\"#0d0887\"],[0.1111111111111111,\"#46039f\"],[0.2222222222222222,\"#7201a8\"],[0.3333333333333333,\"#9c179e\"],[0.4444444444444444,\"#bd3786\"],[0.5555555555555556,\"#d8576b\"],[0.6666666666666666,\"#ed7953\"],[0.7777777777777778,\"#fb9f3a\"],[0.8888888888888888,\"#fdca26\"],[1.0,\"#f0f921\"]]}],\"surface\":[{\"type\":\"surface\",\"colorbar\":{\"outlinewidth\":0,\"ticks\":\"\"},\"colorscale\":[[0.0,\"#0d0887\"],[0.1111111111111111,\"#46039f\"],[0.2222222222222222,\"#7201a8\"],[0.3333333333333333,\"#9c179e\"],[0.4444444444444444,\"#bd3786\"],[0.5555555555555556,\"#d8576b\"],[0.6666666666666666,\"#ed7953\"],[0.7777777777777778,\"#fb9f3a\"],[0.8888888888888888,\"#fdca26\"],[1.0,\"#f0f921\"]]}],\"mesh3d\":[{\"type\":\"mesh3d\",\"colorbar\":{\"outlinewidth\":0,\"ticks\":\"\"}}],\"scatter\":[{\"fillpattern\":{\"fillmode\":\"overlay\",\"size\":10,\"solidity\":0.2},\"type\":\"scatter\"}],\"parcoords\":[{\"type\":\"parcoords\",\"line\":{\"colorbar\":{\"outlinewidth\":0,\"ticks\":\"\"}}}],\"scatterpolargl\":[{\"type\":\"scatterpolargl\",\"marker\":{\"colorbar\":{\"outlinewidth\":0,\"ticks\":\"\"}}}],\"bar\":[{\"error_x\":{\"color\":\"#2a3f5f\"},\"error_y\":{\"color\":\"#2a3f5f\"},\"marker\":{\"line\":{\"color\":\"#E5ECF6\",\"width\":0.5},\"pattern\":{\"fillmode\":\"overlay\",\"size\":10,\"solidity\":0.2}},\"type\":\"bar\"}],\"scattergeo\":[{\"type\":\"scattergeo\",\"marker\":{\"colorbar\":{\"outlinewidth\":0,\"ticks\":\"\"}}}],\"scatterpolar\":[{\"type\":\"scatterpolar\",\"marker\":{\"colorbar\":{\"outlinewidth\":0,\"ticks\":\"\"}}}],\"histogram\":[{\"marker\":{\"pattern\":{\"fillmode\":\"overlay\",\"size\":10,\"solidity\":0.2}},\"type\":\"histogram\"}],\"scattergl\":[{\"type\":\"scattergl\",\"marker\":{\"colorbar\":{\"outlinewidth\":0,\"ticks\":\"\"}}}],\"scatter3d\":[{\"type\":\"scatter3d\",\"line\":{\"colorbar\":{\"outlinewidth\":0,\"ticks\":\"\"}},\"marker\":{\"colorbar\":{\"outlinewidth\":0,\"ticks\":\"\"}}}],\"scattermapbox\":[{\"type\":\"scattermapbox\",\"marker\":{\"colorbar\":{\"outlinewidth\":0,\"ticks\":\"\"}}}],\"scatterternary\":[{\"type\":\"scatterternary\",\"marker\":{\"colorbar\":{\"outlinewidth\":0,\"ticks\":\"\"}}}],\"scattercarpet\":[{\"type\":\"scattercarpet\",\"marker\":{\"colorbar\":{\"outlinewidth\":0,\"ticks\":\"\"}}}],\"carpet\":[{\"aaxis\":{\"endlinecolor\":\"#2a3f5f\",\"gridcolor\":\"white\",\"linecolor\":\"white\",\"minorgridcolor\":\"white\",\"startlinecolor\":\"#2a3f5f\"},\"baxis\":{\"endlinecolor\":\"#2a3f5f\",\"gridcolor\":\"white\",\"linecolor\":\"white\",\"minorgridcolor\":\"white\",\"startlinecolor\":\"#2a3f5f\"},\"type\":\"carpet\"}],\"table\":[{\"cells\":{\"fill\":{\"color\":\"#EBF0F8\"},\"line\":{\"color\":\"white\"}},\"header\":{\"fill\":{\"color\":\"#C8D4E3\"},\"line\":{\"color\":\"white\"}},\"type\":\"table\"}],\"barpolar\":[{\"marker\":{\"line\":{\"color\":\"#E5ECF6\",\"width\":0.5},\"pattern\":{\"fillmode\":\"overlay\",\"size\":10,\"solidity\":0.2}},\"type\":\"barpolar\"}],\"pie\":[{\"automargin\":true,\"type\":\"pie\"}]},\"layout\":{\"autotypenumbers\":\"strict\",\"colorway\":[\"#636efa\",\"#EF553B\",\"#00cc96\",\"#ab63fa\",\"#FFA15A\",\"#19d3f3\",\"#FF6692\",\"#B6E880\",\"#FF97FF\",\"#FECB52\"],\"font\":{\"color\":\"#2a3f5f\"},\"hovermode\":\"closest\",\"hoverlabel\":{\"align\":\"left\"},\"paper_bgcolor\":\"white\",\"plot_bgcolor\":\"#E5ECF6\",\"polar\":{\"bgcolor\":\"#E5ECF6\",\"angularaxis\":{\"gridcolor\":\"white\",\"linecolor\":\"white\",\"ticks\":\"\"},\"radialaxis\":{\"gridcolor\":\"white\",\"linecolor\":\"white\",\"ticks\":\"\"}},\"ternary\":{\"bgcolor\":\"#E5ECF6\",\"aaxis\":{\"gridcolor\":\"white\",\"linecolor\":\"white\",\"ticks\":\"\"},\"baxis\":{\"gridcolor\":\"white\",\"linecolor\":\"white\",\"ticks\":\"\"},\"caxis\":{\"gridcolor\":\"white\",\"linecolor\":\"white\",\"ticks\":\"\"}},\"coloraxis\":{\"colorbar\":{\"outlinewidth\":0,\"ticks\":\"\"}},\"colorscale\":{\"sequential\":[[0.0,\"#0d0887\"],[0.1111111111111111,\"#46039f\"],[0.2222222222222222,\"#7201a8\"],[0.3333333333333333,\"#9c179e\"],[0.4444444444444444,\"#bd3786\"],[0.5555555555555556,\"#d8576b\"],[0.6666666666666666,\"#ed7953\"],[0.7777777777777778,\"#fb9f3a\"],[0.8888888888888888,\"#fdca26\"],[1.0,\"#f0f921\"]],\"sequentialminus\":[[0.0,\"#0d0887\"],[0.1111111111111111,\"#46039f\"],[0.2222222222222222,\"#7201a8\"],[0.3333333333333333,\"#9c179e\"],[0.4444444444444444,\"#bd3786\"],[0.5555555555555556,\"#d8576b\"],[0.6666666666666666,\"#ed7953\"],[0.7777777777777778,\"#fb9f3a\"],[0.8888888888888888,\"#fdca26\"],[1.0,\"#f0f921\"]],\"diverging\":[[0,\"#8e0152\"],[0.1,\"#c51b7d\"],[0.2,\"#de77ae\"],[0.3,\"#f1b6da\"],[0.4,\"#fde0ef\"],[0.5,\"#f7f7f7\"],[0.6,\"#e6f5d0\"],[0.7,\"#b8e186\"],[0.8,\"#7fbc41\"],[0.9,\"#4d9221\"],[1,\"#276419\"]]},\"xaxis\":{\"gridcolor\":\"white\",\"linecolor\":\"white\",\"ticks\":\"\",\"title\":{\"standoff\":15},\"zerolinecolor\":\"white\",\"automargin\":true,\"zerolinewidth\":2},\"yaxis\":{\"gridcolor\":\"white\",\"linecolor\":\"white\",\"ticks\":\"\",\"title\":{\"standoff\":15},\"zerolinecolor\":\"white\",\"automargin\":true,\"zerolinewidth\":2},\"scene\":{\"xaxis\":{\"backgroundcolor\":\"#E5ECF6\",\"gridcolor\":\"white\",\"linecolor\":\"white\",\"showbackground\":true,\"ticks\":\"\",\"zerolinecolor\":\"white\",\"gridwidth\":2},\"yaxis\":{\"backgroundcolor\":\"#E5ECF6\",\"gridcolor\":\"white\",\"linecolor\":\"white\",\"showbackground\":true,\"ticks\":\"\",\"zerolinecolor\":\"white\",\"gridwidth\":2},\"zaxis\":{\"backgroundcolor\":\"#E5ECF6\",\"gridcolor\":\"white\",\"linecolor\":\"white\",\"showbackground\":true,\"ticks\":\"\",\"zerolinecolor\":\"white\",\"gridwidth\":2}},\"shapedefaults\":{\"line\":{\"color\":\"#2a3f5f\"}},\"annotationdefaults\":{\"arrowcolor\":\"#2a3f5f\",\"arrowhead\":0,\"arrowwidth\":1},\"geo\":{\"bgcolor\":\"white\",\"landcolor\":\"#E5ECF6\",\"subunitcolor\":\"white\",\"showland\":true,\"showlakes\":true,\"lakecolor\":\"white\"},\"title\":{\"x\":0.05},\"mapbox\":{\"style\":\"light\"}}},\"xaxis\":{\"anchor\":\"y\",\"domain\":[0.0,0.16799999999999998],\"title\":{\"text\":\"alpha\"}},\"yaxis\":{\"anchor\":\"x\",\"domain\":[0.0,1.0],\"title\":{\"text\":\"Objective Value\"}},\"xaxis2\":{\"anchor\":\"y2\",\"domain\":[0.208,0.376],\"title\":{\"text\":\"beta\"}},\"yaxis2\":{\"anchor\":\"x2\",\"domain\":[0.0,1.0],\"matches\":\"y\",\"showticklabels\":false},\"xaxis3\":{\"anchor\":\"y3\",\"domain\":[0.416,0.584],\"title\":{\"text\":\"implicit\"},\"type\":\"category\",\"categoryorder\":\"array\",\"categoryarray\":[true,false]},\"yaxis3\":{\"anchor\":\"x3\",\"domain\":[0.0,1.0],\"matches\":\"y\",\"showticklabels\":false},\"xaxis4\":{\"anchor\":\"y4\",\"domain\":[0.624,0.792],\"title\":{\"text\":\"normalize_similarity\"},\"type\":\"category\",\"categoryorder\":\"array\",\"categoryarray\":[true,false]},\"yaxis4\":{\"anchor\":\"x4\",\"domain\":[0.0,1.0],\"matches\":\"y\",\"showticklabels\":false},\"xaxis5\":{\"anchor\":\"y5\",\"domain\":[0.832,1.0],\"title\":{\"text\":\"topK\"}},\"yaxis5\":{\"anchor\":\"x5\",\"domain\":[0.0,1.0],\"matches\":\"y\",\"showticklabels\":false},\"title\":{\"text\":\"Slice Plot\"},\"width\":1500},                        {\"responsive\": true}                    ).then(function(){\n",
       "                            \n",
       "var gd = document.getElementById('5fd9b6ce-6b44-44ce-8cc3-5e112447f1bc');\n",
       "var x = new MutationObserver(function (mutations, observer) {{\n",
       "        var display = window.getComputedStyle(gd).display;\n",
       "        if (!display || display === 'none') {{\n",
       "            console.log([gd, 'removed!']);\n",
       "            Plotly.purge(gd);\n",
       "            observer.disconnect();\n",
       "        }}\n",
       "}});\n",
       "\n",
       "// Listen for the removal of the full notebook cells\n",
       "var notebookContainer = gd.closest('#notebook-container');\n",
       "if (notebookContainer) {{\n",
       "    x.observe(notebookContainer, {childList: true});\n",
       "}}\n",
       "\n",
       "// Listen for the clearing of the current output cell\n",
       "var outputEl = gd.closest('.output');\n",
       "if (outputEl) {{\n",
       "    x.observe(outputEl, {childList: true});\n",
       "}}\n",
       "\n",
       "                        })                };                            </script>        </div>\n",
       "</body>\n",
       "</html>"
      ]
     },
     "metadata": {},
     "output_type": "display_data"
    }
   ],
   "source": [
    "if not config['tune_parameters']:\n",
    "    optuna_study = optuna.load_study(study_name=f'hyperparameters_tuning_{config[\"model\"]}_{config[\"metric\"]}', storage=f'sqlite:///{config[\"database_path\"]}')\n",
    "    \n",
    "fig = optuna.visualization.plot_slice(optuna_study)\n",
    "fig.show()"
   ]
  },
  {
   "cell_type": "code",
   "execution_count": 15,
   "id": "6ad7b9d3",
   "metadata": {
    "execution": {
     "iopub.execute_input": "2025-01-07T11:46:08.385659Z",
     "iopub.status.busy": "2025-01-07T11:46:08.385290Z",
     "iopub.status.idle": "2025-01-07T11:46:12.676135Z",
     "shell.execute_reply": "2025-01-07T11:46:12.674488Z"
    },
    "papermill": {
     "duration": 4.314756,
     "end_time": "2025-01-07T11:46:12.678056",
     "exception": false,
     "start_time": "2025-01-07T11:46:08.363300",
     "status": "completed"
    },
    "tags": []
   },
   "outputs": [
    {
     "data": {
      "text/html": [
       "<html>\n",
       "<head><meta charset=\"utf-8\" /></head>\n",
       "<body>\n",
       "    <div>            <script src=\"https://cdnjs.cloudflare.com/ajax/libs/mathjax/2.7.5/MathJax.js?config=TeX-AMS-MML_SVG\"></script><script type=\"text/javascript\">if (window.MathJax && window.MathJax.Hub && window.MathJax.Hub.Config) {window.MathJax.Hub.Config({SVG: {font: \"STIX-Web\"}});}</script>                <script type=\"text/javascript\">window.PlotlyConfig = {MathJaxConfig: 'local'};</script>\n",
       "        <script charset=\"utf-8\" src=\"https://cdn.plot.ly/plotly-2.35.2.min.js\"></script>                <div id=\"98cd9d4f-26f9-4bc5-a0d8-6ac4115ae181\" class=\"plotly-graph-div\" style=\"height:525px; width:100%;\"></div>            <script type=\"text/javascript\">                                    window.PLOTLYENV=window.PLOTLYENV || {};                                    if (document.getElementById(\"98cd9d4f-26f9-4bc5-a0d8-6ac4115ae181\")) {                    Plotly.newPlot(                        \"98cd9d4f-26f9-4bc5-a0d8-6ac4115ae181\",                        [{\"cliponaxis\":false,\"hovertemplate\":[\"implicit (CategoricalDistribution): 0.0012967990712428456\\u003cextra\\u003e\\u003c\\u002fextra\\u003e\",\"normalize_similarity (CategoricalDistribution): 0.001597161412738168\\u003cextra\\u003e\\u003c\\u002fextra\\u003e\",\"alpha (FloatDistribution): 0.007937224707980098\\u003cextra\\u003e\\u003c\\u002fextra\\u003e\",\"topK (IntDistribution): 0.025894466421100503\\u003cextra\\u003e\\u003c\\u002fextra\\u003e\",\"beta (FloatDistribution): 0.9632743483869384\\u003cextra\\u003e\\u003c\\u002fextra\\u003e\"],\"name\":\"Objective Value\",\"orientation\":\"h\",\"text\":[\"\\u003c0.01\",\"\\u003c0.01\",\"\\u003c0.01\",\"0.03\",\"0.96\"],\"textposition\":\"outside\",\"x\":[0.0012967990712428456,0.001597161412738168,0.007937224707980098,0.025894466421100503,0.9632743483869384],\"y\":[\"implicit\",\"normalize_similarity\",\"alpha\",\"topK\",\"beta\"],\"type\":\"bar\"}],                        {\"title\":{\"text\":\"Hyperparameter Importances\"},\"xaxis\":{\"title\":{\"text\":\"Hyperparameter Importance\"}},\"yaxis\":{\"title\":{\"text\":\"Hyperparameter\"}},\"template\":{\"data\":{\"histogram2dcontour\":[{\"type\":\"histogram2dcontour\",\"colorbar\":{\"outlinewidth\":0,\"ticks\":\"\"},\"colorscale\":[[0.0,\"#0d0887\"],[0.1111111111111111,\"#46039f\"],[0.2222222222222222,\"#7201a8\"],[0.3333333333333333,\"#9c179e\"],[0.4444444444444444,\"#bd3786\"],[0.5555555555555556,\"#d8576b\"],[0.6666666666666666,\"#ed7953\"],[0.7777777777777778,\"#fb9f3a\"],[0.8888888888888888,\"#fdca26\"],[1.0,\"#f0f921\"]]}],\"choropleth\":[{\"type\":\"choropleth\",\"colorbar\":{\"outlinewidth\":0,\"ticks\":\"\"}}],\"histogram2d\":[{\"type\":\"histogram2d\",\"colorbar\":{\"outlinewidth\":0,\"ticks\":\"\"},\"colorscale\":[[0.0,\"#0d0887\"],[0.1111111111111111,\"#46039f\"],[0.2222222222222222,\"#7201a8\"],[0.3333333333333333,\"#9c179e\"],[0.4444444444444444,\"#bd3786\"],[0.5555555555555556,\"#d8576b\"],[0.6666666666666666,\"#ed7953\"],[0.7777777777777778,\"#fb9f3a\"],[0.8888888888888888,\"#fdca26\"],[1.0,\"#f0f921\"]]}],\"heatmap\":[{\"type\":\"heatmap\",\"colorbar\":{\"outlinewidth\":0,\"ticks\":\"\"},\"colorscale\":[[0.0,\"#0d0887\"],[0.1111111111111111,\"#46039f\"],[0.2222222222222222,\"#7201a8\"],[0.3333333333333333,\"#9c179e\"],[0.4444444444444444,\"#bd3786\"],[0.5555555555555556,\"#d8576b\"],[0.6666666666666666,\"#ed7953\"],[0.7777777777777778,\"#fb9f3a\"],[0.8888888888888888,\"#fdca26\"],[1.0,\"#f0f921\"]]}],\"heatmapgl\":[{\"type\":\"heatmapgl\",\"colorbar\":{\"outlinewidth\":0,\"ticks\":\"\"},\"colorscale\":[[0.0,\"#0d0887\"],[0.1111111111111111,\"#46039f\"],[0.2222222222222222,\"#7201a8\"],[0.3333333333333333,\"#9c179e\"],[0.4444444444444444,\"#bd3786\"],[0.5555555555555556,\"#d8576b\"],[0.6666666666666666,\"#ed7953\"],[0.7777777777777778,\"#fb9f3a\"],[0.8888888888888888,\"#fdca26\"],[1.0,\"#f0f921\"]]}],\"contourcarpet\":[{\"type\":\"contourcarpet\",\"colorbar\":{\"outlinewidth\":0,\"ticks\":\"\"}}],\"contour\":[{\"type\":\"contour\",\"colorbar\":{\"outlinewidth\":0,\"ticks\":\"\"},\"colorscale\":[[0.0,\"#0d0887\"],[0.1111111111111111,\"#46039f\"],[0.2222222222222222,\"#7201a8\"],[0.3333333333333333,\"#9c179e\"],[0.4444444444444444,\"#bd3786\"],[0.5555555555555556,\"#d8576b\"],[0.6666666666666666,\"#ed7953\"],[0.7777777777777778,\"#fb9f3a\"],[0.8888888888888888,\"#fdca26\"],[1.0,\"#f0f921\"]]}],\"surface\":[{\"type\":\"surface\",\"colorbar\":{\"outlinewidth\":0,\"ticks\":\"\"},\"colorscale\":[[0.0,\"#0d0887\"],[0.1111111111111111,\"#46039f\"],[0.2222222222222222,\"#7201a8\"],[0.3333333333333333,\"#9c179e\"],[0.4444444444444444,\"#bd3786\"],[0.5555555555555556,\"#d8576b\"],[0.6666666666666666,\"#ed7953\"],[0.7777777777777778,\"#fb9f3a\"],[0.8888888888888888,\"#fdca26\"],[1.0,\"#f0f921\"]]}],\"mesh3d\":[{\"type\":\"mesh3d\",\"colorbar\":{\"outlinewidth\":0,\"ticks\":\"\"}}],\"scatter\":[{\"fillpattern\":{\"fillmode\":\"overlay\",\"size\":10,\"solidity\":0.2},\"type\":\"scatter\"}],\"parcoords\":[{\"type\":\"parcoords\",\"line\":{\"colorbar\":{\"outlinewidth\":0,\"ticks\":\"\"}}}],\"scatterpolargl\":[{\"type\":\"scatterpolargl\",\"marker\":{\"colorbar\":{\"outlinewidth\":0,\"ticks\":\"\"}}}],\"bar\":[{\"error_x\":{\"color\":\"#2a3f5f\"},\"error_y\":{\"color\":\"#2a3f5f\"},\"marker\":{\"line\":{\"color\":\"#E5ECF6\",\"width\":0.5},\"pattern\":{\"fillmode\":\"overlay\",\"size\":10,\"solidity\":0.2}},\"type\":\"bar\"}],\"scattergeo\":[{\"type\":\"scattergeo\",\"marker\":{\"colorbar\":{\"outlinewidth\":0,\"ticks\":\"\"}}}],\"scatterpolar\":[{\"type\":\"scatterpolar\",\"marker\":{\"colorbar\":{\"outlinewidth\":0,\"ticks\":\"\"}}}],\"histogram\":[{\"marker\":{\"pattern\":{\"fillmode\":\"overlay\",\"size\":10,\"solidity\":0.2}},\"type\":\"histogram\"}],\"scattergl\":[{\"type\":\"scattergl\",\"marker\":{\"colorbar\":{\"outlinewidth\":0,\"ticks\":\"\"}}}],\"scatter3d\":[{\"type\":\"scatter3d\",\"line\":{\"colorbar\":{\"outlinewidth\":0,\"ticks\":\"\"}},\"marker\":{\"colorbar\":{\"outlinewidth\":0,\"ticks\":\"\"}}}],\"scattermapbox\":[{\"type\":\"scattermapbox\",\"marker\":{\"colorbar\":{\"outlinewidth\":0,\"ticks\":\"\"}}}],\"scatterternary\":[{\"type\":\"scatterternary\",\"marker\":{\"colorbar\":{\"outlinewidth\":0,\"ticks\":\"\"}}}],\"scattercarpet\":[{\"type\":\"scattercarpet\",\"marker\":{\"colorbar\":{\"outlinewidth\":0,\"ticks\":\"\"}}}],\"carpet\":[{\"aaxis\":{\"endlinecolor\":\"#2a3f5f\",\"gridcolor\":\"white\",\"linecolor\":\"white\",\"minorgridcolor\":\"white\",\"startlinecolor\":\"#2a3f5f\"},\"baxis\":{\"endlinecolor\":\"#2a3f5f\",\"gridcolor\":\"white\",\"linecolor\":\"white\",\"minorgridcolor\":\"white\",\"startlinecolor\":\"#2a3f5f\"},\"type\":\"carpet\"}],\"table\":[{\"cells\":{\"fill\":{\"color\":\"#EBF0F8\"},\"line\":{\"color\":\"white\"}},\"header\":{\"fill\":{\"color\":\"#C8D4E3\"},\"line\":{\"color\":\"white\"}},\"type\":\"table\"}],\"barpolar\":[{\"marker\":{\"line\":{\"color\":\"#E5ECF6\",\"width\":0.5},\"pattern\":{\"fillmode\":\"overlay\",\"size\":10,\"solidity\":0.2}},\"type\":\"barpolar\"}],\"pie\":[{\"automargin\":true,\"type\":\"pie\"}]},\"layout\":{\"autotypenumbers\":\"strict\",\"colorway\":[\"#636efa\",\"#EF553B\",\"#00cc96\",\"#ab63fa\",\"#FFA15A\",\"#19d3f3\",\"#FF6692\",\"#B6E880\",\"#FF97FF\",\"#FECB52\"],\"font\":{\"color\":\"#2a3f5f\"},\"hovermode\":\"closest\",\"hoverlabel\":{\"align\":\"left\"},\"paper_bgcolor\":\"white\",\"plot_bgcolor\":\"#E5ECF6\",\"polar\":{\"bgcolor\":\"#E5ECF6\",\"angularaxis\":{\"gridcolor\":\"white\",\"linecolor\":\"white\",\"ticks\":\"\"},\"radialaxis\":{\"gridcolor\":\"white\",\"linecolor\":\"white\",\"ticks\":\"\"}},\"ternary\":{\"bgcolor\":\"#E5ECF6\",\"aaxis\":{\"gridcolor\":\"white\",\"linecolor\":\"white\",\"ticks\":\"\"},\"baxis\":{\"gridcolor\":\"white\",\"linecolor\":\"white\",\"ticks\":\"\"},\"caxis\":{\"gridcolor\":\"white\",\"linecolor\":\"white\",\"ticks\":\"\"}},\"coloraxis\":{\"colorbar\":{\"outlinewidth\":0,\"ticks\":\"\"}},\"colorscale\":{\"sequential\":[[0.0,\"#0d0887\"],[0.1111111111111111,\"#46039f\"],[0.2222222222222222,\"#7201a8\"],[0.3333333333333333,\"#9c179e\"],[0.4444444444444444,\"#bd3786\"],[0.5555555555555556,\"#d8576b\"],[0.6666666666666666,\"#ed7953\"],[0.7777777777777778,\"#fb9f3a\"],[0.8888888888888888,\"#fdca26\"],[1.0,\"#f0f921\"]],\"sequentialminus\":[[0.0,\"#0d0887\"],[0.1111111111111111,\"#46039f\"],[0.2222222222222222,\"#7201a8\"],[0.3333333333333333,\"#9c179e\"],[0.4444444444444444,\"#bd3786\"],[0.5555555555555556,\"#d8576b\"],[0.6666666666666666,\"#ed7953\"],[0.7777777777777778,\"#fb9f3a\"],[0.8888888888888888,\"#fdca26\"],[1.0,\"#f0f921\"]],\"diverging\":[[0,\"#8e0152\"],[0.1,\"#c51b7d\"],[0.2,\"#de77ae\"],[0.3,\"#f1b6da\"],[0.4,\"#fde0ef\"],[0.5,\"#f7f7f7\"],[0.6,\"#e6f5d0\"],[0.7,\"#b8e186\"],[0.8,\"#7fbc41\"],[0.9,\"#4d9221\"],[1,\"#276419\"]]},\"xaxis\":{\"gridcolor\":\"white\",\"linecolor\":\"white\",\"ticks\":\"\",\"title\":{\"standoff\":15},\"zerolinecolor\":\"white\",\"automargin\":true,\"zerolinewidth\":2},\"yaxis\":{\"gridcolor\":\"white\",\"linecolor\":\"white\",\"ticks\":\"\",\"title\":{\"standoff\":15},\"zerolinecolor\":\"white\",\"automargin\":true,\"zerolinewidth\":2},\"scene\":{\"xaxis\":{\"backgroundcolor\":\"#E5ECF6\",\"gridcolor\":\"white\",\"linecolor\":\"white\",\"showbackground\":true,\"ticks\":\"\",\"zerolinecolor\":\"white\",\"gridwidth\":2},\"yaxis\":{\"backgroundcolor\":\"#E5ECF6\",\"gridcolor\":\"white\",\"linecolor\":\"white\",\"showbackground\":true,\"ticks\":\"\",\"zerolinecolor\":\"white\",\"gridwidth\":2},\"zaxis\":{\"backgroundcolor\":\"#E5ECF6\",\"gridcolor\":\"white\",\"linecolor\":\"white\",\"showbackground\":true,\"ticks\":\"\",\"zerolinecolor\":\"white\",\"gridwidth\":2}},\"shapedefaults\":{\"line\":{\"color\":\"#2a3f5f\"}},\"annotationdefaults\":{\"arrowcolor\":\"#2a3f5f\",\"arrowhead\":0,\"arrowwidth\":1},\"geo\":{\"bgcolor\":\"white\",\"landcolor\":\"#E5ECF6\",\"subunitcolor\":\"white\",\"showland\":true,\"showlakes\":true,\"lakecolor\":\"white\"},\"title\":{\"x\":0.05},\"mapbox\":{\"style\":\"light\"}}}},                        {\"responsive\": true}                    ).then(function(){\n",
       "                            \n",
       "var gd = document.getElementById('98cd9d4f-26f9-4bc5-a0d8-6ac4115ae181');\n",
       "var x = new MutationObserver(function (mutations, observer) {{\n",
       "        var display = window.getComputedStyle(gd).display;\n",
       "        if (!display || display === 'none') {{\n",
       "            console.log([gd, 'removed!']);\n",
       "            Plotly.purge(gd);\n",
       "            observer.disconnect();\n",
       "        }}\n",
       "}});\n",
       "\n",
       "// Listen for the removal of the full notebook cells\n",
       "var notebookContainer = gd.closest('#notebook-container');\n",
       "if (notebookContainer) {{\n",
       "    x.observe(notebookContainer, {childList: true});\n",
       "}}\n",
       "\n",
       "// Listen for the clearing of the current output cell\n",
       "var outputEl = gd.closest('.output');\n",
       "if (outputEl) {{\n",
       "    x.observe(outputEl, {childList: true});\n",
       "}}\n",
       "\n",
       "                        })                };                            </script>        </div>\n",
       "</body>\n",
       "</html>"
      ]
     },
     "metadata": {},
     "output_type": "display_data"
    }
   ],
   "source": [
    "if not config['tune_parameters']:\n",
    "    optuna_study = optuna.load_study(study_name=f'hyperparameters_tuning_{config[\"model\"]}_{config[\"metric\"]}', storage=f'sqlite:///{config[\"database_path\"]}')\n",
    "    \n",
    "fig = optuna.visualization.plot_param_importances(optuna_study)\n",
    "fig.show()"
   ]
  },
  {
   "cell_type": "markdown",
   "id": "ecafacec",
   "metadata": {
    "papermill": {
     "duration": 0.021845,
     "end_time": "2025-01-07T11:46:12.724937",
     "exception": false,
     "start_time": "2025-01-07T11:46:12.703092",
     "status": "completed"
    },
    "tags": []
   },
   "source": [
    "## Let's train the recommender with best parameter values"
   ]
  },
  {
   "cell_type": "code",
   "execution_count": 16,
   "id": "e30672f7",
   "metadata": {
    "execution": {
     "iopub.execute_input": "2025-01-07T11:46:12.770079Z",
     "iopub.status.busy": "2025-01-07T11:46:12.769692Z",
     "iopub.status.idle": "2025-01-07T11:46:37.609282Z",
     "shell.execute_reply": "2025-01-07T11:46:37.608390Z"
    },
    "papermill": {
     "duration": 24.864342,
     "end_time": "2025-01-07T11:46:37.611192",
     "exception": false,
     "start_time": "2025-01-07T11:46:12.746850",
     "status": "completed"
    },
    "tags": []
   },
   "outputs": [
    {
     "name": "stdout",
     "output_type": "stream",
     "text": [
      "RP3betaRecommender: Similarity column 38121 (100.0%), 1722.47 column/sec. Elapsed time 22.13 sec\n"
     ]
    }
   ],
   "source": [
    "if config['tune_best_params']:\n",
    "\n",
    "    if config['tune_parameters']:\n",
    "        best_params = optuna_study.best_trial.params\n",
    "    else: \n",
    "        with open(f'{K_PATH}/{GH_PATH}/{config[\"model\"]}Recommender/Optimizing{config[\"metric\"]}/best_params_{config[\"model\"]}_{config[\"metric\"]}.json', 'r') as best_params_json:\n",
    "            best_params = json.load(best_params_json)\n",
    "\n",
    "    recommender_instance = RP3betaRecommender(URM_train + URM_validation)\n",
    "    recommender_instance.fit(**best_params)"
   ]
  },
  {
   "cell_type": "markdown",
   "id": "4630019c",
   "metadata": {
    "papermill": {
     "duration": 0.021465,
     "end_time": "2025-01-07T11:46:37.654759",
     "exception": false,
     "start_time": "2025-01-07T11:46:37.633294",
     "status": "completed"
    },
    "tags": []
   },
   "source": [
    "# Testing"
   ]
  },
  {
   "cell_type": "markdown",
   "id": "51e585c5",
   "metadata": {
    "papermill": {
     "duration": 0.021418,
     "end_time": "2025-01-07T11:46:37.697886",
     "exception": false,
     "start_time": "2025-01-07T11:46:37.676468",
     "status": "completed"
    },
    "tags": []
   },
   "source": [
    "Create the recommendations for the submission. "
   ]
  },
  {
   "cell_type": "code",
   "execution_count": 17,
   "id": "625032f9",
   "metadata": {
    "execution": {
     "iopub.execute_input": "2025-01-07T11:46:37.742392Z",
     "iopub.status.busy": "2025-01-07T11:46:37.742048Z",
     "iopub.status.idle": "2025-01-07T11:46:59.096019Z",
     "shell.execute_reply": "2025-01-07T11:46:59.094919Z"
    },
    "papermill": {
     "duration": 21.378121,
     "end_time": "2025-01-07T11:46:59.097664",
     "exception": false,
     "start_time": "2025-01-07T11:46:37.719543",
     "status": "completed"
    },
    "tags": []
   },
   "outputs": [
    {
     "name": "stdout",
     "output_type": "stream",
     "text": [
      "Submission file saved as /kaggle/working/submission_RP3beta_Recall.csv\n"
     ]
    }
   ],
   "source": [
    "if config['tune_best_params']:\n",
    "\n",
    "    data_target_users_test = pd.read_csv('/kaggle/input/recommender-system-2024-challenge-polimi/data_target_users_test.csv')\n",
    "    create_submission(data_target_users_test, recommender_instance, f'/kaggle/working/submission_{config[\"model\"]}_{config[\"metric\"]}.csv')"
   ]
  },
  {
   "cell_type": "markdown",
   "id": "f0397e47",
   "metadata": {
    "execution": {
     "iopub.execute_input": "2024-11-14T00:04:16.877791Z",
     "iopub.status.busy": "2024-11-14T00:04:16.877275Z",
     "iopub.status.idle": "2024-11-14T00:04:16.883170Z",
     "shell.execute_reply": "2024-11-14T00:04:16.881889Z",
     "shell.execute_reply.started": "2024-11-14T00:04:16.877743Z"
    },
    "papermill": {
     "duration": 0.022016,
     "end_time": "2025-01-07T11:46:59.142570",
     "exception": false,
     "start_time": "2025-01-07T11:46:59.120554",
     "status": "completed"
    },
    "tags": []
   },
   "source": [
    "# Save Version on GitHub "
   ]
  },
  {
   "cell_type": "markdown",
   "id": "c3e009e8",
   "metadata": {
    "papermill": {
     "duration": 0.021438,
     "end_time": "2025-01-07T11:46:59.187032",
     "exception": false,
     "start_time": "2025-01-07T11:46:59.165594",
     "status": "completed"
    },
    "tags": []
   },
   "source": [
    "Write or import a json file where best hyperparameters are saved. "
   ]
  },
  {
   "cell_type": "code",
   "execution_count": 18,
   "id": "3b896985",
   "metadata": {
    "execution": {
     "iopub.execute_input": "2025-01-07T11:46:59.232423Z",
     "iopub.status.busy": "2025-01-07T11:46:59.232078Z",
     "iopub.status.idle": "2025-01-07T11:47:00.024200Z",
     "shell.execute_reply": "2025-01-07T11:47:00.022949Z"
    },
    "papermill": {
     "duration": 0.81657,
     "end_time": "2025-01-07T11:47:00.025972",
     "exception": false,
     "start_time": "2025-01-07T11:46:59.209402",
     "status": "completed"
    },
    "tags": []
   },
   "outputs": [
    {
     "name": "stdout",
     "output_type": "stream",
     "text": [
      "File 'TrainedModels/WithKFCV/GraphBased/RP3betaRecommender/OptimizingRecall/best_params_RP3beta_Recall.json' updated successfully.\n"
     ]
    }
   ],
   "source": [
    "if config['tune_parameters']:\n",
    "    with open(f'/kaggle/working/best_params_{config[\"model\"]}_{config[\"metric\"]}.json', 'w') as params_file:\n",
    "        json.dump(optuna_study.best_params, params_file)\n",
    "        \n",
    "    if config['save_github']:\n",
    "        upload_file(\n",
    "            f'/kaggle/working/best_params_{config[\"model\"]}_{config[\"metric\"]}.json', \n",
    "            f'{GH_PATH}/{config[\"model\"]}Recommender/Optimizing{config[\"metric\"]}/best_params_{config[\"model\"]}_{config[\"metric\"]}.json', \n",
    "            f'{config[\"model\"]}_{config[\"metric\"]} tuning results (from kaggle notebook)',\n",
    "            repo\n",
    "        )\n",
    "elif config['copy_prev_best_params']:\n",
    "    shutil.copyfile(\n",
    "        f'{K_PATH}/{GH_PATH}/{config[\"model\"]}Recommender/Optimizing{config[\"metric\"]}/'\\\n",
    "        f'best_params_{config[\"model\"]}_{config[\"metric\"]}.json', \n",
    "        f'/kaggle/working/best_params_{config[\"model\"]}_{config[\"metric\"]}.json'\n",
    "    )"
   ]
  },
  {
   "cell_type": "markdown",
   "id": "0b4e037c",
   "metadata": {
    "execution": {
     "iopub.execute_input": "2024-11-14T00:41:34.294243Z",
     "iopub.status.busy": "2024-11-14T00:41:34.293739Z",
     "iopub.status.idle": "2024-11-14T00:41:34.301478Z",
     "shell.execute_reply": "2024-11-14T00:41:34.299869Z",
     "shell.execute_reply.started": "2024-11-14T00:41:34.294186Z"
    },
    "papermill": {
     "duration": 0.021699,
     "end_time": "2025-01-07T11:47:00.070046",
     "exception": false,
     "start_time": "2025-01-07T11:47:00.048347",
     "status": "completed"
    },
    "tags": []
   },
   "source": [
    "Save the history of the tuned model."
   ]
  },
  {
   "cell_type": "code",
   "execution_count": 19,
   "id": "1963b9d3",
   "metadata": {
    "execution": {
     "iopub.execute_input": "2025-01-07T11:47:00.115013Z",
     "iopub.status.busy": "2025-01-07T11:47:00.114599Z",
     "iopub.status.idle": "2025-01-07T11:47:01.611518Z",
     "shell.execute_reply": "2025-01-07T11:47:01.610402Z"
    },
    "papermill": {
     "duration": 1.521346,
     "end_time": "2025-01-07T11:47:01.613346",
     "exception": false,
     "start_time": "2025-01-07T11:47:00.092000",
     "status": "completed"
    },
    "tags": []
   },
   "outputs": [
    {
     "name": "stdout",
     "output_type": "stream",
     "text": [
      "File 'TrainedModels/WithKFCV/GraphBased/RP3betaRecommender/OptimizingRecall/history_RP3beta_Recall.db' updated successfully.\n"
     ]
    }
   ],
   "source": [
    "if config['save_github'] and config['tune_parameters']:\n",
    "    upload_file(\n",
    "        config['database_path'], \n",
    "        f'{GH_PATH}/{config[\"model\"]}Recommender/Optimizing{config[\"metric\"]}/history_{config[\"model\"]}_{config[\"metric\"]}.db',\n",
    "        f'Tuning {config[\"model\"]}_{config[\"metric\"]} db updated results (from kaggle notebook)',\n",
    "        repo\n",
    "    )"
   ]
  },
  {
   "cell_type": "markdown",
   "id": "3f2ce88b",
   "metadata": {
    "papermill": {
     "duration": 0.02164,
     "end_time": "2025-01-07T11:47:01.657451",
     "exception": false,
     "start_time": "2025-01-07T11:47:01.635811",
     "status": "completed"
    },
    "tags": []
   },
   "source": [
    "Save the best trained model and its submission."
   ]
  },
  {
   "cell_type": "code",
   "execution_count": 20,
   "id": "7dfc8341",
   "metadata": {
    "execution": {
     "iopub.execute_input": "2025-01-07T11:47:01.702281Z",
     "iopub.status.busy": "2025-01-07T11:47:01.701933Z",
     "iopub.status.idle": "2025-01-07T11:47:03.257014Z",
     "shell.execute_reply": "2025-01-07T11:47:03.255442Z"
    },
    "papermill": {
     "duration": 1.579773,
     "end_time": "2025-01-07T11:47:03.259010",
     "exception": false,
     "start_time": "2025-01-07T11:47:01.679237",
     "status": "completed"
    },
    "tags": []
   },
   "outputs": [
    {
     "name": "stdout",
     "output_type": "stream",
     "text": [
      "File 'TrainedModels/WithKFCV/GraphBased/RP3betaRecommender/OptimizingRecall/Submission/submission_RP3beta_Recall.csv' updated successfully.\n"
     ]
    }
   ],
   "source": [
    "if config['save_github'] and config['tune_best_params']: \n",
    "    upload_file(\n",
    "                f'/kaggle/working/submission_{config[\"model\"]}_{config[\"metric\"]}.csv', \n",
    "                f'{GH_PATH}/{config[\"model\"]}Recommender/Optimizing{config[\"metric\"]}/Submission/submission_{config[\"model\"]}_{config[\"metric\"]}.csv', \n",
    "                f'New {config[\"model\"]}_{config[\"metric\"]} submission (from kaggle notebook)',\n",
    "                repo\n",
    "            )"
   ]
  }
 ],
 "metadata": {
  "kaggle": {
   "accelerator": "none",
   "dataSources": [
    {
     "databundleVersionId": 9982103,
     "sourceId": 87439,
     "sourceType": "competition"
    }
   ],
   "dockerImageVersionId": 30822,
   "isGpuEnabled": false,
   "isInternetEnabled": true,
   "language": "python",
   "sourceType": "notebook"
  },
  "kernelspec": {
   "display_name": "Python 3",
   "language": "python",
   "name": "python3"
  },
  "language_info": {
   "codemirror_mode": {
    "name": "ipython",
    "version": 3
   },
   "file_extension": ".py",
   "mimetype": "text/x-python",
   "name": "python",
   "nbconvert_exporter": "python",
   "pygments_lexer": "ipython3",
   "version": "3.10.12"
  },
  "papermill": {
   "default_parameters": {},
   "duration": 2139.952963,
   "end_time": "2025-01-07T11:47:04.406027",
   "environment_variables": {},
   "exception": null,
   "input_path": "__notebook__.ipynb",
   "output_path": "__notebook__.ipynb",
   "parameters": {},
   "start_time": "2025-01-07T11:11:24.453064",
   "version": "2.6.0"
  }
 },
 "nbformat": 4,
 "nbformat_minor": 5
}
