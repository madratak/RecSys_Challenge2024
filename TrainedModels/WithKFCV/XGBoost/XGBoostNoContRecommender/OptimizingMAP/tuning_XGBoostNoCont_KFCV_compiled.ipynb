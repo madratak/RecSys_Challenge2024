{
 "cells": [
  {
   "cell_type": "markdown",
   "id": "2ed8a798",
   "metadata": {
    "papermill": {
     "duration": 0.00966,
     "end_time": "2025-01-07T14:11:45.583874",
     "exception": false,
     "start_time": "2025-01-07T14:11:45.574214",
     "status": "completed"
    },
    "tags": []
   },
   "source": [
    "# Set connection with GitHub"
   ]
  },
  {
   "cell_type": "code",
   "execution_count": 1,
   "id": "96c0ca40",
   "metadata": {
    "execution": {
     "iopub.execute_input": "2025-01-07T14:11:45.603593Z",
     "iopub.status.busy": "2025-01-07T14:11:45.603204Z",
     "iopub.status.idle": "2025-01-07T14:11:45.608347Z",
     "shell.execute_reply": "2025-01-07T14:11:45.607303Z"
    },
    "papermill": {
     "duration": 0.016992,
     "end_time": "2025-01-07T14:11:45.609982",
     "exception": false,
     "start_time": "2025-01-07T14:11:45.592990",
     "status": "completed"
    },
    "tags": []
   },
   "outputs": [],
   "source": [
    "# ! cd /kaggle/working && rm -rf RECsys_Challenge2024"
   ]
  },
  {
   "cell_type": "code",
   "execution_count": 2,
   "id": "5fba1456",
   "metadata": {
    "_cell_guid": "b1076dfc-b9ad-4769-8c92-a6c4dae69d19",
    "_uuid": "8f2839f25d086af736a60e9eeb907d3b93b6e0e5",
    "execution": {
     "iopub.execute_input": "2025-01-07T14:11:45.629538Z",
     "iopub.status.busy": "2025-01-07T14:11:45.629150Z",
     "iopub.status.idle": "2025-01-07T14:12:01.917990Z",
     "shell.execute_reply": "2025-01-07T14:12:01.916734Z"
    },
    "papermill": {
     "duration": 16.300902,
     "end_time": "2025-01-07T14:12:01.920113",
     "exception": false,
     "start_time": "2025-01-07T14:11:45.619211",
     "status": "completed"
    },
    "tags": []
   },
   "outputs": [
    {
     "name": "stdout",
     "output_type": "stream",
     "text": [
      "Cloning into 'RECsys_Challenge2024'...\r\n",
      "remote: Enumerating objects: 7608, done.\u001b[K\r\n",
      "remote: Counting objects: 100% (103/103), done.\u001b[K\r\n",
      "remote: Compressing objects: 100% (90/90), done.\u001b[K\r\n",
      "remote: Total 7608 (delta 37), reused 2 (delta 1), pack-reused 7505 (from 3)\u001b[K\r\n",
      "Receiving objects: 100% (7608/7608), 426.89 MiB | 37.43 MiB/s, done.\r\n",
      "Resolving deltas: 100% (4141/4141), done.\r\n",
      "Updating files: 100% (506/506), done.\r\n"
     ]
    }
   ],
   "source": [
    "from kaggle_secrets import UserSecretsClient\n",
    "\n",
    "token = UserSecretsClient().get_secret(\"Token\")\n",
    "\n",
    "! git clone https://{token}@github.com/madratak/RECsys_Challenge2024.git"
   ]
  },
  {
   "cell_type": "code",
   "execution_count": 3,
   "id": "3bc7fe33",
   "metadata": {
    "execution": {
     "iopub.execute_input": "2025-01-07T14:12:01.951161Z",
     "iopub.status.busy": "2025-01-07T14:12:01.950802Z",
     "iopub.status.idle": "2025-01-07T14:12:08.697797Z",
     "shell.execute_reply": "2025-01-07T14:12:08.696195Z"
    },
    "papermill": {
     "duration": 6.765117,
     "end_time": "2025-01-07T14:12:08.700257",
     "exception": false,
     "start_time": "2025-01-07T14:12:01.935140",
     "status": "completed"
    },
    "tags": []
   },
   "outputs": [
    {
     "name": "stdout",
     "output_type": "stream",
     "text": [
      "Collecting PyGithub\r\n",
      "  Downloading PyGithub-2.5.0-py3-none-any.whl.metadata (3.9 kB)\r\n",
      "Requirement already satisfied: requests in /usr/local/lib/python3.10/dist-packages (2.32.3)\r\n",
      "Collecting pynacl>=1.4.0 (from PyGithub)\r\n",
      "  Downloading PyNaCl-1.5.0-cp36-abi3-manylinux_2_17_x86_64.manylinux2014_x86_64.manylinux_2_24_x86_64.whl.metadata (8.6 kB)\r\n",
      "Requirement already satisfied: pyjwt>=2.4.0 in /usr/local/lib/python3.10/dist-packages (from pyjwt[crypto]>=2.4.0->PyGithub) (2.9.0)\r\n",
      "Requirement already satisfied: typing-extensions>=4.0.0 in /usr/local/lib/python3.10/dist-packages (from PyGithub) (4.12.2)\r\n",
      "Requirement already satisfied: urllib3>=1.26.0 in /usr/local/lib/python3.10/dist-packages (from PyGithub) (2.2.3)\r\n",
      "Requirement already satisfied: Deprecated in /usr/local/lib/python3.10/dist-packages (from PyGithub) (1.2.15)\r\n",
      "Requirement already satisfied: charset-normalizer<4,>=2 in /usr/local/lib/python3.10/dist-packages (from requests) (3.3.2)\r\n",
      "Requirement already satisfied: idna<4,>=2.5 in /usr/local/lib/python3.10/dist-packages (from requests) (3.10)\r\n",
      "Requirement already satisfied: certifi>=2017.4.17 in /usr/local/lib/python3.10/dist-packages (from requests) (2024.8.30)\r\n",
      "Requirement already satisfied: cryptography>=3.4.0 in /usr/local/lib/python3.10/dist-packages (from pyjwt[crypto]>=2.4.0->PyGithub) (43.0.1)\r\n",
      "Requirement already satisfied: cffi>=1.4.1 in /usr/local/lib/python3.10/dist-packages (from pynacl>=1.4.0->PyGithub) (1.17.1)\r\n",
      "Requirement already satisfied: wrapt<2,>=1.10 in /usr/local/lib/python3.10/dist-packages (from Deprecated->PyGithub) (1.16.0)\r\n",
      "Requirement already satisfied: pycparser in /usr/local/lib/python3.10/dist-packages (from cffi>=1.4.1->pynacl>=1.4.0->PyGithub) (2.22)\r\n",
      "Downloading PyGithub-2.5.0-py3-none-any.whl (375 kB)\r\n",
      "\u001b[2K   \u001b[90m━━━━━━━━━━━━━━━━━━━━━━━━━━━━━━━━━━━━━━━━\u001b[0m \u001b[32m375.9/375.9 kB\u001b[0m \u001b[31m6.5 MB/s\u001b[0m eta \u001b[36m0:00:00\u001b[0m\r\n",
      "\u001b[?25hDownloading PyNaCl-1.5.0-cp36-abi3-manylinux_2_17_x86_64.manylinux2014_x86_64.manylinux_2_24_x86_64.whl (856 kB)\r\n",
      "\u001b[2K   \u001b[90m━━━━━━━━━━━━━━━━━━━━━━━━━━━━━━━━━━━━━━━━\u001b[0m \u001b[32m856.7/856.7 kB\u001b[0m \u001b[31m23.2 MB/s\u001b[0m eta \u001b[36m0:00:00\u001b[0m\r\n",
      "\u001b[?25hInstalling collected packages: pynacl, PyGithub\r\n",
      "Successfully installed PyGithub-2.5.0 pynacl-1.5.0\r\n"
     ]
    }
   ],
   "source": [
    "! pip install PyGithub requests"
   ]
  },
  {
   "cell_type": "code",
   "execution_count": 4,
   "id": "97a1f7bf",
   "metadata": {
    "execution": {
     "iopub.execute_input": "2025-01-07T14:12:08.732197Z",
     "iopub.status.busy": "2025-01-07T14:12:08.731800Z",
     "iopub.status.idle": "2025-01-07T14:12:13.716486Z",
     "shell.execute_reply": "2025-01-07T14:12:13.715158Z"
    },
    "papermill": {
     "duration": 5.002895,
     "end_time": "2025-01-07T14:12:13.718515",
     "exception": false,
     "start_time": "2025-01-07T14:12:08.715620",
     "status": "completed"
    },
    "tags": []
   },
   "outputs": [
    {
     "name": "stdout",
     "output_type": "stream",
     "text": [
      "Collecting implicit\r\n",
      "  Downloading implicit-0.7.2-cp310-cp310-manylinux2014_x86_64.whl.metadata (6.1 kB)\r\n",
      "Requirement already satisfied: numpy>=1.17.0 in /usr/local/lib/python3.10/dist-packages (from implicit) (1.26.4)\r\n",
      "Requirement already satisfied: scipy>=0.16 in /usr/local/lib/python3.10/dist-packages (from implicit) (1.13.1)\r\n",
      "Requirement already satisfied: tqdm>=4.27 in /usr/local/lib/python3.10/dist-packages (from implicit) (4.66.5)\r\n",
      "Requirement already satisfied: threadpoolctl in /usr/local/lib/python3.10/dist-packages (from implicit) (3.5.0)\r\n",
      "Downloading implicit-0.7.2-cp310-cp310-manylinux2014_x86_64.whl (8.9 MB)\r\n",
      "\u001b[2K   \u001b[90m━━━━━━━━━━━━━━━━━━━━━━━━━━━━━━━━━━━━━━━━\u001b[0m \u001b[32m8.9/8.9 MB\u001b[0m \u001b[31m53.7 MB/s\u001b[0m eta \u001b[36m0:00:00\u001b[0m\r\n",
      "\u001b[?25hInstalling collected packages: implicit\r\n",
      "Successfully installed implicit-0.7.2\r\n"
     ]
    }
   ],
   "source": [
    "! pip install implicit"
   ]
  },
  {
   "cell_type": "code",
   "execution_count": 5,
   "id": "bb65fac3",
   "metadata": {
    "execution": {
     "iopub.execute_input": "2025-01-07T14:12:13.753431Z",
     "iopub.status.busy": "2025-01-07T14:12:13.753062Z",
     "iopub.status.idle": "2025-01-07T14:12:20.097278Z",
     "shell.execute_reply": "2025-01-07T14:12:20.095976Z"
    },
    "papermill": {
     "duration": 6.364113,
     "end_time": "2025-01-07T14:12:20.099482",
     "exception": false,
     "start_time": "2025-01-07T14:12:13.735369",
     "status": "completed"
    },
    "tags": []
   },
   "outputs": [
    {
     "name": "stdout",
     "output_type": "stream",
     "text": [
      "Collecting timeout-decorator\r\n",
      "  Downloading timeout-decorator-0.5.0.tar.gz (4.8 kB)\r\n",
      "  Preparing metadata (setup.py) ... \u001b[?25l\u001b[?25hdone\r\n",
      "Building wheels for collected packages: timeout-decorator\r\n",
      "  Building wheel for timeout-decorator (setup.py) ... \u001b[?25l\u001b[?25hdone\r\n",
      "  Created wheel for timeout-decorator: filename=timeout_decorator-0.5.0-py3-none-any.whl size=5005 sha256=a4809d844ab5a77127c8fba11a75ec3c700e1b0adc57883083498d03e1eb4fdc\r\n",
      "  Stored in directory: /root/.cache/pip/wheels/68/2f/bc/76f1192d474666d41ae6f09813fccbd00fe3f07e8261c4cff5\r\n",
      "Successfully built timeout-decorator\r\n",
      "Installing collected packages: timeout-decorator\r\n",
      "Successfully installed timeout-decorator-0.5.0\r\n"
     ]
    }
   ],
   "source": [
    "!pip install timeout-decorator"
   ]
  },
  {
   "cell_type": "code",
   "execution_count": 6,
   "id": "00896d45",
   "metadata": {
    "_kg_hide-input": false,
    "execution": {
     "iopub.execute_input": "2025-01-07T14:12:20.133222Z",
     "iopub.status.busy": "2025-01-07T14:12:20.132871Z",
     "iopub.status.idle": "2025-01-07T14:15:05.073637Z",
     "shell.execute_reply": "2025-01-07T14:15:05.072216Z"
    },
    "papermill": {
     "duration": 164.960513,
     "end_time": "2025-01-07T14:15:05.075999",
     "exception": false,
     "start_time": "2025-01-07T14:12:20.115486",
     "status": "completed"
    },
    "tags": []
   },
   "outputs": [
    {
     "name": "stdout",
     "output_type": "stream",
     "text": [
      "/kaggle/working/RECsys_Challenge2024\n",
      "run_compile_all_cython: Found 11 Cython files in 5 folders...\r\n",
      "run_compile_all_cython: All files will be compiled using your current python environment: '/usr/bin/python3'\r\n",
      "Compiling [1/11]: MatrixFactorization_Cython_Epoch.pyx... \r\n",
      "In file included from \u001b[01m\u001b[K/usr/local/lib/python3.10/dist-packages/numpy/core/include/numpy/ndarraytypes.h:1929\u001b[m\u001b[K,\r\n",
      "                 from \u001b[01m\u001b[K/usr/local/lib/python3.10/dist-packages/numpy/core/include/numpy/ndarrayobject.h:12\u001b[m\u001b[K,\r\n",
      "                 from \u001b[01m\u001b[K/usr/local/lib/python3.10/dist-packages/numpy/core/include/numpy/arrayobject.h:5\u001b[m\u001b[K,\r\n",
      "                 from \u001b[01m\u001b[KMatrixFactorization_Cython_Epoch.c:1252\u001b[m\u001b[K:\r\n",
      "\u001b[01m\u001b[K/usr/local/lib/python3.10/dist-packages/numpy/core/include/numpy/npy_1_7_deprecated_api.h:17:2:\u001b[m\u001b[K \u001b[01;35m\u001b[Kwarning: \u001b[m\u001b[K#warning \"Using deprecated NumPy API, disable it with \" \"#define NPY_NO_DEPRECATED_API NPY_1_7_API_VERSION\" [\u001b[01;35m\u001b[K\u001b]8;;https://gcc.gnu.org/onlinedocs/gcc/Warning-Options.html#index-Wcpp\u0007-Wcpp\u001b]8;;\u0007\u001b[m\u001b[K]\r\n",
      "   17 | #\u001b[01;35m\u001b[Kwarning\u001b[m\u001b[K \"Using deprecated NumPy API, disable it with \" \\\r\n",
      "      |  \u001b[01;35m\u001b[K^~~~~~~\u001b[m\u001b[K\r\n",
      "\u001b[01m\u001b[KMatrixFactorization_Cython_Epoch.c:\u001b[m\u001b[K In function ‘\u001b[01m\u001b[K__pyx_pf_32MatrixFactorization_Cython_Epoch_32MatrixFactorization_Cython_Epoch_10epochIteration_Cython_ASY_SVD_SGD\u001b[m\u001b[K’:\r\n",
      "\u001b[01m\u001b[KMatrixFactorization_Cython_Epoch.c:26256:68:\u001b[m\u001b[K \u001b[01;35m\u001b[Kwarning: \u001b[m\u001b[K‘\u001b[01m\u001b[K__pyx_v_end_pos_seen_items\u001b[m\u001b[K’ may be used uninitialized in this function [\u001b[01;35m\u001b[K\u001b]8;;https://gcc.gnu.org/onlinedocs/gcc/Warning-Options.html#index-Wmaybe-uninitialized\u0007-Wmaybe-uninitialized\u001b]8;;\u0007\u001b[m\u001b[K]\r\n",
      "26256 |         for (__pyx_t_22 = __pyx_v_start_pos_seen_items; \u001b[01;35m\u001b[K__pyx_t_22 < __pyx_t_21\u001b[m\u001b[K; __pyx_t_22+=1) {\r\n",
      "      |                                                         \u001b[01;35m\u001b[K~~~~~~~~~~~^~~~~~~~~~~~\u001b[m\u001b[K\r\n",
      "\u001b[01m\u001b[KMatrixFactorization_Cython_Epoch.c:26256:68:\u001b[m\u001b[K \u001b[01;35m\u001b[Kwarning: \u001b[m\u001b[K‘\u001b[01m\u001b[K__pyx_v_start_pos_seen_items\u001b[m\u001b[K’ may be used uninitialized in this function [\u001b[01;35m\u001b[K\u001b]8;;https://gcc.gnu.org/onlinedocs/gcc/Warning-Options.html#index-Wmaybe-uninitialized\u0007-Wmaybe-uninitialized\u001b]8;;\u0007\u001b[m\u001b[K]\r\n",
      "/usr/local/lib/python3.10/dist-packages/Cython/Compiler/Main.py:381: FutureWarning: Cython directive 'language_level' not set, using '3str' for now (Py3). This has changed from earlier releases! File: /kaggle/working/RECsys_Challenge2024/Recommenders/MatrixFactorization/Cython/MatrixFactorization_Cython_Epoch.pyx\r\n",
      "  tree = Parsing.p_module(s, pxd, full_module_name)\r\n",
      "Compiling [1/11]: MatrixFactorization_Cython_Epoch.pyx... PASS\r\n",
      "\r\n",
      "Compiling [2/11]: MatrixFactorizationImpressions_Cython_Epoch.pyx... \r\n",
      "In file included from \u001b[01m\u001b[K/usr/local/lib/python3.10/dist-packages/numpy/core/include/numpy/ndarraytypes.h:1929\u001b[m\u001b[K,\r\n",
      "                 from \u001b[01m\u001b[K/usr/local/lib/python3.10/dist-packages/numpy/core/include/numpy/ndarrayobject.h:12\u001b[m\u001b[K,\r\n",
      "                 from \u001b[01m\u001b[K/usr/local/lib/python3.10/dist-packages/numpy/core/include/numpy/arrayobject.h:5\u001b[m\u001b[K,\r\n",
      "                 from \u001b[01m\u001b[KMatrixFactorizationImpressions_Cython_Epoch.c:1252\u001b[m\u001b[K:\r\n",
      "\u001b[01m\u001b[K/usr/local/lib/python3.10/dist-packages/numpy/core/include/numpy/npy_1_7_deprecated_api.h:17:2:\u001b[m\u001b[K \u001b[01;35m\u001b[Kwarning: \u001b[m\u001b[K#warning \"Using deprecated NumPy API, disable it with \" \"#define NPY_NO_DEPRECATED_API NPY_1_7_API_VERSION\" [\u001b[01;35m\u001b[K\u001b]8;;https://gcc.gnu.org/onlinedocs/gcc/Warning-Options.html#index-Wcpp\u0007-Wcpp\u001b]8;;\u0007\u001b[m\u001b[K]\r\n",
      "   17 | #\u001b[01;35m\u001b[Kwarning\u001b[m\u001b[K \"Using deprecated NumPy API, disable it with \" \\\r\n",
      "      |  \u001b[01;35m\u001b[K^~~~~~~\u001b[m\u001b[K\r\n",
      "\u001b[01m\u001b[KMatrixFactorizationImpressions_Cython_Epoch.c:\u001b[m\u001b[K In function ‘\u001b[01m\u001b[K__pyx_f_43MatrixFactorizationImpressions_Cython_Epoch_32MatrixFactorization_Cython_Epoch_sampleBPR_Cython\u001b[m\u001b[K’:\r\n",
      "\u001b[01m\u001b[KMatrixFactorizationImpressions_Cython_Epoch.c:30353:17:\u001b[m\u001b[K \u001b[01;35m\u001b[Kwarning: \u001b[m\u001b[K‘\u001b[01m\u001b[K__pyx_v_start_pos_impression_items\u001b[m\u001b[K’ may be used uninitialized in this function [\u001b[01;35m\u001b[K\u001b]8;;https://gcc.gnu.org/onlinedocs/gcc/Warning-Options.html#index-Wmaybe-uninitialized\u0007-Wmaybe-uninitialized\u001b]8;;\u0007\u001b[m\u001b[K]\r\n",
      "30353 |       \u001b[01;35m\u001b[K__pyx_t_4 = (__pyx_v_start_pos_impression_items + __pyx_v_index)\u001b[m\u001b[K;\r\n",
      "      |       \u001b[01;35m\u001b[K~~~~~~~~~~^~~~~~~~~~~~~~~~~~~~~~~~~~~~~~~~~~~~~~~~~~~~~~~~~~~~~~\u001b[m\u001b[K\r\n",
      "\u001b[01m\u001b[KMatrixFactorizationImpressions_Cython_Epoch.c:\u001b[m\u001b[K In function ‘\u001b[01m\u001b[K__pyx_pf_43MatrixFactorizationImpressions_Cython_Epoch_32MatrixFactorization_Cython_Epoch_10epochIteration_Cython_ASY_SVD_SGD\u001b[m\u001b[K’:\r\n",
      "\u001b[01m\u001b[KMatrixFactorizationImpressions_Cython_Epoch.c:26112:66:\u001b[m\u001b[K \u001b[01;35m\u001b[Kwarning: \u001b[m\u001b[K‘\u001b[01m\u001b[K__pyx_v_end_pos_seen_items\u001b[m\u001b[K’ may be used uninitialized in this function [\u001b[01;35m\u001b[K\u001b]8;;https://gcc.gnu.org/onlinedocs/gcc/Warning-Options.html#index-Wmaybe-uninitialized\u0007-Wmaybe-uninitialized\u001b]8;;\u0007\u001b[m\u001b[K]\r\n",
      "26112 |       for (__pyx_t_22 = __pyx_v_start_pos_seen_items; \u001b[01;35m\u001b[K__pyx_t_22 < __pyx_t_21\u001b[m\u001b[K; __pyx_t_22+=1) {\r\n",
      "      |                                                       \u001b[01;35m\u001b[K~~~~~~~~~~~^~~~~~~~~~~~\u001b[m\u001b[K\r\n",
      "\u001b[01m\u001b[KMatrixFactorizationImpressions_Cython_Epoch.c:26112:66:\u001b[m\u001b[K \u001b[01;35m\u001b[Kwarning: \u001b[m\u001b[K‘\u001b[01m\u001b[K__pyx_v_start_pos_seen_items\u001b[m\u001b[K’ may be used uninitialized in this function [\u001b[01;35m\u001b[K\u001b]8;;https://gcc.gnu.org/onlinedocs/gcc/Warning-Options.html#index-Wmaybe-uninitialized\u0007-Wmaybe-uninitialized\u001b]8;;\u0007\u001b[m\u001b[K]\r\n",
      "/usr/local/lib/python3.10/dist-packages/Cython/Compiler/Main.py:381: FutureWarning: Cython directive 'language_level' not set, using '3str' for now (Py3). This has changed from earlier releases! File: /kaggle/working/RECsys_Challenge2024/Recommenders/MatrixFactorization/Cython/MatrixFactorizationImpressions_Cython_Epoch.pyx\r\n",
      "  tree = Parsing.p_module(s, pxd, full_module_name)\r\n",
      "Compiling [2/11]: MatrixFactorizationImpressions_Cython_Epoch.pyx... PASS\r\n",
      "\r\n",
      "Compiling [3/11]: Compute_Similarity_Cython.pyx... \r\n",
      "warning: Compute_Similarity_Cython.pyx:21:0: The 'IF' statement is deprecated and will be removed in a future Cython version. Consider using runtime conditions or C macros instead. See https://github.com/cython/cython/issues/4310\r\n",
      "In file included from \u001b[01m\u001b[K/usr/local/lib/python3.10/dist-packages/numpy/core/include/numpy/ndarraytypes.h:1929\u001b[m\u001b[K,\r\n",
      "                 from \u001b[01m\u001b[K/usr/local/lib/python3.10/dist-packages/numpy/core/include/numpy/ndarrayobject.h:12\u001b[m\u001b[K,\r\n",
      "                 from \u001b[01m\u001b[K/usr/local/lib/python3.10/dist-packages/numpy/core/include/numpy/arrayobject.h:5\u001b[m\u001b[K,\r\n",
      "                 from \u001b[01m\u001b[KCompute_Similarity_Cython.c:1252\u001b[m\u001b[K:\r\n",
      "\u001b[01m\u001b[K/usr/local/lib/python3.10/dist-packages/numpy/core/include/numpy/npy_1_7_deprecated_api.h:17:2:\u001b[m\u001b[K \u001b[01;35m\u001b[Kwarning: \u001b[m\u001b[K#warning \"Using deprecated NumPy API, disable it with \" \"#define NPY_NO_DEPRECATED_API NPY_1_7_API_VERSION\" [\u001b[01;35m\u001b[K\u001b]8;;https://gcc.gnu.org/onlinedocs/gcc/Warning-Options.html#index-Wcpp\u0007-Wcpp\u001b]8;;\u0007\u001b[m\u001b[K]\r\n",
      "   17 | #\u001b[01;35m\u001b[Kwarning\u001b[m\u001b[K \"Using deprecated NumPy API, disable it with \" \\\r\n",
      "      |  \u001b[01;35m\u001b[K^~~~~~~\u001b[m\u001b[K\r\n",
      "/usr/local/lib/python3.10/dist-packages/Cython/Compiler/Main.py:381: FutureWarning: Cython directive 'language_level' not set, using '3str' for now (Py3). This has changed from earlier releases! File: /kaggle/working/RECsys_Challenge2024/Recommenders/Similarity/Cython/Compute_Similarity_Cython.pyx\r\n",
      "  tree = Parsing.p_module(s, pxd, full_module_name)\r\n",
      "warning: Compute_Similarity_Cython.pyx:21:0: The 'IF' statement is deprecated and will be removed in a future Cython version. Consider using runtime conditions or C macros instead. See https://github.com/cython/cython/issues/4310\r\n",
      "Compiling [3/11]: Compute_Similarity_Cython.pyx... PASS\r\n",
      "\r\n",
      "Compiling [4/11]: Triangular_Matrix.pyx... \r\n",
      "warning: Triangular_Matrix.pyx:22:0: The 'IF' statement is deprecated and will be removed in a future Cython version. Consider using runtime conditions or C macros instead. See https://github.com/cython/cython/issues/4310\r\n",
      "In file included from \u001b[01m\u001b[K/usr/local/lib/python3.10/dist-packages/numpy/core/include/numpy/ndarraytypes.h:1929\u001b[m\u001b[K,\r\n",
      "                 from \u001b[01m\u001b[K/usr/local/lib/python3.10/dist-packages/numpy/core/include/numpy/ndarrayobject.h:12\u001b[m\u001b[K,\r\n",
      "                 from \u001b[01m\u001b[K/usr/local/lib/python3.10/dist-packages/numpy/core/include/numpy/arrayobject.h:5\u001b[m\u001b[K,\r\n",
      "                 from \u001b[01m\u001b[KTriangular_Matrix.c:1252\u001b[m\u001b[K:\r\n",
      "\u001b[01m\u001b[K/usr/local/lib/python3.10/dist-packages/numpy/core/include/numpy/npy_1_7_deprecated_api.h:17:2:\u001b[m\u001b[K \u001b[01;35m\u001b[Kwarning: \u001b[m\u001b[K#warning \"Using deprecated NumPy API, disable it with \" \"#define NPY_NO_DEPRECATED_API NPY_1_7_API_VERSION\" [\u001b[01;35m\u001b[K\u001b]8;;https://gcc.gnu.org/onlinedocs/gcc/Warning-Options.html#index-Wcpp\u0007-Wcpp\u001b]8;;\u0007\u001b[m\u001b[K]\r\n",
      "   17 | #\u001b[01;35m\u001b[Kwarning\u001b[m\u001b[K \"Using deprecated NumPy API, disable it with \" \\\r\n",
      "      |  \u001b[01;35m\u001b[K^~~~~~~\u001b[m\u001b[K\r\n",
      "In function ‘\u001b[01m\u001b[K__pyx_pf_17Triangular_Matrix_17Triangular_Matrix___init__\u001b[m\u001b[K’,\r\n",
      "    inlined from ‘\u001b[01m\u001b[K__pyx_pw_17Triangular_Matrix_17Triangular_Matrix_1__init__\u001b[m\u001b[K’ at \u001b[01m\u001b[KTriangular_Matrix.c:5541:13\u001b[m\u001b[K:\r\n",
      "\u001b[01m\u001b[KTriangular_Matrix.c:5599:43:\u001b[m\u001b[K \u001b[01;35m\u001b[Kwarning: \u001b[m\u001b[Kargument 1 value ‘\u001b[01m\u001b[K18446744073709551608\u001b[m\u001b[K’ exceeds maximum object size 9223372036854775807 [\u001b[01;35m\u001b[K\u001b]8;;https://gcc.gnu.org/onlinedocs/gcc/Warning-Options.html#index-Walloc-size-larger-than=\u0007-Walloc-size-larger-than=\u001b]8;;\u0007\u001b[m\u001b[K]\r\n",
      " 5599 |   __pyx_v_self->row_pointer = ((double **)\u001b[01;35m\u001b[Kmalloc((__pyx_v_self->num_rows * (sizeof(double *))))\u001b[m\u001b[K);\r\n",
      "      |                                           \u001b[01;35m\u001b[K^~~~~~~~~~~~~~~~~~~~~~~~~~~~~~~~~~~~~~~~~~~~~~~~~~~~~\u001b[m\u001b[K\r\n",
      "In file included from \u001b[01m\u001b[K/usr/include/python3.10/Python.h:34\u001b[m\u001b[K,\r\n",
      "                 from \u001b[01m\u001b[KTriangular_Matrix.c:41\u001b[m\u001b[K:\r\n",
      "\u001b[01m\u001b[KTriangular_Matrix.c:\u001b[m\u001b[K In function ‘\u001b[01m\u001b[K__pyx_pw_17Triangular_Matrix_17Triangular_Matrix_1__init__\u001b[m\u001b[K’:\r\n",
      "\u001b[01m\u001b[K/usr/include/stdlib.h:540:14:\u001b[m\u001b[K \u001b[01;36m\u001b[Knote: \u001b[m\u001b[Kin a call to allocation function ‘\u001b[01m\u001b[Kmalloc\u001b[m\u001b[K’ declared here\r\n",
      "  540 | extern void *\u001b[01;36m\u001b[Kmalloc\u001b[m\u001b[K (size_t __size) __THROW __attribute_malloc__\r\n",
      "      |              \u001b[01;36m\u001b[K^~~~~~\u001b[m\u001b[K\r\n",
      "/usr/local/lib/python3.10/dist-packages/Cython/Compiler/Main.py:381: FutureWarning: Cython directive 'language_level' not set, using '3str' for now (Py3). This has changed from earlier releases! File: /kaggle/working/RECsys_Challenge2024/Recommenders/SLIM/Cython/Triangular_Matrix.pyx\r\n",
      "  tree = Parsing.p_module(s, pxd, full_module_name)\r\n",
      "warning: Triangular_Matrix.pyx:22:0: The 'IF' statement is deprecated and will be removed in a future Cython version. Consider using runtime conditions or C macros instead. See https://github.com/cython/cython/issues/4310\r\n",
      "Compiling [4/11]: Triangular_Matrix.pyx... PASS\r\n",
      "\r\n",
      "Compiling [5/11]: SLIM_BPR_Cython_Epoch.pyx... \r\n",
      "warning: SLIM_BPR_Cython_Epoch.pyx:24:0: The 'IF' statement is deprecated and will be removed in a future Cython version. Consider using runtime conditions or C macros instead. See https://github.com/cython/cython/issues/4310\r\n",
      "warning: SLIM_BPR_Cython_Epoch.pyx:632:34: Non-trivial type declarators in shared declaration (e.g. mix of pointers and values). Each pointer declaration should be on its own line.\r\n",
      "warning: SLIM_BPR_Cython_Epoch.pyx:632:66: Non-trivial type declarators in shared declaration (e.g. mix of pointers and values). Each pointer declaration should be on its own line.\r\n",
      "warning: SLIM_BPR_Cython_Epoch.pyx:817:35: Non-trivial type declarators in shared declaration (e.g. mix of pointers and values). Each pointer declaration should be on its own line.\r\n",
      "warning: SLIM_BPR_Cython_Epoch.pyx:817:52: Non-trivial type declarators in shared declaration (e.g. mix of pointers and values). Each pointer declaration should be on its own line.\r\n",
      "warning: SLIM_BPR_Cython_Epoch.pyx:916:35: Non-trivial type declarators in shared declaration (e.g. mix of pointers and values). Each pointer declaration should be on its own line.\r\n",
      "warning: SLIM_BPR_Cython_Epoch.pyx:916:53: Non-trivial type declarators in shared declaration (e.g. mix of pointers and values). Each pointer declaration should be on its own line.\r\n",
      "warning: SLIM_BPR_Cython_Epoch.pyx:916:69: Non-trivial type declarators in shared declaration (e.g. mix of pointers and values). Each pointer declaration should be on its own line.\r\n",
      "warning: SLIM_BPR_Cython_Epoch.pyx:1051:35: Non-trivial type declarators in shared declaration (e.g. mix of pointers and values). Each pointer declaration should be on its own line.\r\n",
      "warning: SLIM_BPR_Cython_Epoch.pyx:1051:42: Non-trivial type declarators in shared declaration (e.g. mix of pointers and values). Each pointer declaration should be on its own line.\r\n",
      "warning: SLIM_BPR_Cython_Epoch.pyx:1052:35: Non-trivial type declarators in shared declaration (e.g. mix of pointers and values). Each pointer declaration should be on its own line.\r\n",
      "warning: SLIM_BPR_Cython_Epoch.pyx:1052:53: Non-trivial type declarators in shared declaration (e.g. mix of pointers and values). Each pointer declaration should be on its own line.\r\n",
      "\r\n",
      "Error compiling Cython file:\r\n",
      "------------------------------------------------------------\r\n",
      "...\r\n",
      "            vector_pointer_to_list_elements[index].head = current_element\r\n",
      "            current_element = current_element.higher\r\n",
      "\r\n",
      "\r\n",
      "        # Sort array elements on their data field\r\n",
      "        qsort(vector_pointer_to_list_elements, list_length, sizeof(head_pointer_tree_s), compare_struct_on_data)\r\n",
      "                                                                                         ^\r\n",
      "------------------------------------------------------------\r\n",
      "\r\n",
      "SLIM_BPR_Cython_Epoch.pyx:990:89: Cannot assign type 'int (const void *, const void *) except? -1' to 'int (*)(const_void *, const_void *) noexcept'. Exception values are incompatible. Suggest adding 'noexcept' to the type of 'compare_struct_on_data'.\r\n",
      "\r\n",
      "Error compiling Cython file:\r\n",
      "------------------------------------------------------------\r\n",
      "...\r\n",
      "        # Sort array elements on their data field\r\n",
      "        qsort(vector_pointer_to_list_elements, list_length, sizeof(head_pointer_tree_s), compare_struct_on_data)\r\n",
      "\r\n",
      "        # Sort only the TopK according to their column field\r\n",
      "        # Sort is from lower to higher, therefore the elements to be considered are from len-topK to len\r\n",
      "        qsort(&vector_pointer_to_list_elements[list_length-TopK], TopK, sizeof(head_pointer_tree_s), compare_struct_on_column)\r\n",
      "                                                                                                     ^\r\n",
      "------------------------------------------------------------\r\n",
      "\r\n",
      "SLIM_BPR_Cython_Epoch.pyx:994:101: Cannot assign type 'int (const void *, const void *) except? -1' to 'int (*)(const_void *, const_void *) noexcept'. Exception values are incompatible. Suggest adding 'noexcept' to the type of 'compare_struct_on_column'.\r\n",
      "Traceback (most recent call last):\r\n",
      "  File \"/kaggle/working/RECsys_Challenge2024/CythonCompiler/compile_script.py\", line 48, in <module>\r\n",
      "    setup(\r\n",
      "  File \"/usr/local/lib/python3.10/dist-packages/setuptools/__init__.py\", line 108, in setup\r\n",
      "    return distutils.core.setup(**attrs)\r\n",
      "  File \"/usr/local/lib/python3.10/dist-packages/setuptools/_distutils/core.py\", line 184, in setup\r\n",
      "    return run_commands(dist)\r\n",
      "  File \"/usr/local/lib/python3.10/dist-packages/setuptools/_distutils/core.py\", line 200, in run_commands\r\n",
      "    dist.run_commands()\r\n",
      "  File \"/usr/local/lib/python3.10/dist-packages/setuptools/_distutils/dist.py\", line 970, in run_commands\r\n",
      "    self.run_command(cmd)\r\n",
      "  File \"/usr/local/lib/python3.10/dist-packages/setuptools/dist.py\", line 956, in run_command\r\n",
      "    super().run_command(command)\r\n",
      "  File \"/usr/local/lib/python3.10/dist-packages/setuptools/_distutils/dist.py\", line 989, in run_command\r\n",
      "    cmd_obj.run()\r\n",
      "  File \"/usr/local/lib/python3.10/dist-packages/setuptools/_distutils/command/build_ext.py\", line 359, in run\r\n",
      "    self.build_extensions()\r\n",
      "  File \"/usr/local/lib/python3.10/dist-packages/setuptools/_distutils/command/build_ext.py\", line 479, in build_extensions\r\n",
      "    self._build_extensions_serial()\r\n",
      "  File \"/usr/local/lib/python3.10/dist-packages/setuptools/_distutils/command/build_ext.py\", line 505, in _build_extensions_serial\r\n",
      "    self.build_extension(ext)\r\n",
      "  File \"/usr/local/lib/python3.10/dist-packages/Cython/Distutils/build_ext.py\", line 130, in build_extension\r\n",
      "    new_ext = cythonize(\r\n",
      "  File \"/usr/local/lib/python3.10/dist-packages/Cython/Build/Dependencies.py\", line 1154, in cythonize\r\n",
      "    cythonize_one(*args)\r\n",
      "  File \"/usr/local/lib/python3.10/dist-packages/Cython/Build/Dependencies.py\", line 1321, in cythonize_one\r\n",
      "    raise CompileError(None, pyx_file)\r\n",
      "Cython.Compiler.Errors.CompileError: SLIM_BPR_Cython_Epoch.pyx\r\n",
      "Traceback (most recent call last):\r\n",
      "  File \"/kaggle/working/RECsys_Challenge2024/run_compile_all_cython.py\", line 60, in <module>\r\n",
      "    run_compile_subprocess(file_path, [file_name])\r\n",
      "  File \"/kaggle/working/RECsys_Challenge2024/CythonCompiler/run_compile_subprocess.py\", line 51, in run_compile_subprocess\r\n",
      "    raise exc\r\n",
      "  File \"/kaggle/working/RECsys_Challenge2024/CythonCompiler/run_compile_subprocess.py\", line 32, in run_compile_subprocess\r\n",
      "    output = subprocess.check_output(' '.join(command),\r\n",
      "  File \"/usr/lib/python3.10/subprocess.py\", line 421, in check_output\r\n",
      "    return run(*popenargs, stdout=PIPE, timeout=timeout, check=True,\r\n",
      "  File \"/usr/lib/python3.10/subprocess.py\", line 526, in run\r\n",
      "    raise CalledProcessError(retcode, process.args,\r\n",
      "subprocess.CalledProcessError: Command '/usr/bin/python3 /kaggle/working/RECsys_Challenge2024/CythonCompiler/compile_script.py SLIM_BPR_Cython_Epoch.pyx build_ext --inplace' returned non-zero exit status 1.\r\n",
      "Compiling [5/11]: SLIM_BPR_Cython_Epoch.pyx... FAIL: Command '/usr/bin/python3 /kaggle/working/RECsys_Challenge2024/CythonCompiler/compile_script.py SLIM_BPR_Cython_Epoch.pyx build_ext --inplace' returned non-zero exit status 1.\r\n",
      "\r\n",
      "Compiling [6/11]: Sparse_Matrix_Tree_CSR.pyx... \r\n",
      "warning: Sparse_Matrix_Tree_CSR.pyx:132:34: Non-trivial type declarators in shared declaration (e.g. mix of pointers and values). Each pointer declaration should be on its own line.\r\n",
      "warning: Sparse_Matrix_Tree_CSR.pyx:132:66: Non-trivial type declarators in shared declaration (e.g. mix of pointers and values). Each pointer declaration should be on its own line.\r\n",
      "warning: Sparse_Matrix_Tree_CSR.pyx:343:35: Non-trivial type declarators in shared declaration (e.g. mix of pointers and values). Each pointer declaration should be on its own line.\r\n",
      "warning: Sparse_Matrix_Tree_CSR.pyx:343:52: Non-trivial type declarators in shared declaration (e.g. mix of pointers and values). Each pointer declaration should be on its own line.\r\n",
      "warning: Sparse_Matrix_Tree_CSR.pyx:442:35: Non-trivial type declarators in shared declaration (e.g. mix of pointers and values). Each pointer declaration should be on its own line.\r\n",
      "warning: Sparse_Matrix_Tree_CSR.pyx:442:53: Non-trivial type declarators in shared declaration (e.g. mix of pointers and values). Each pointer declaration should be on its own line.\r\n",
      "warning: Sparse_Matrix_Tree_CSR.pyx:442:69: Non-trivial type declarators in shared declaration (e.g. mix of pointers and values). Each pointer declaration should be on its own line.\r\n",
      "warning: Sparse_Matrix_Tree_CSR.pyx:577:35: Non-trivial type declarators in shared declaration (e.g. mix of pointers and values). Each pointer declaration should be on its own line.\r\n",
      "warning: Sparse_Matrix_Tree_CSR.pyx:577:42: Non-trivial type declarators in shared declaration (e.g. mix of pointers and values). Each pointer declaration should be on its own line.\r\n",
      "warning: Sparse_Matrix_Tree_CSR.pyx:578:35: Non-trivial type declarators in shared declaration (e.g. mix of pointers and values). Each pointer declaration should be on its own line.\r\n",
      "warning: Sparse_Matrix_Tree_CSR.pyx:578:53: Non-trivial type declarators in shared declaration (e.g. mix of pointers and values). Each pointer declaration should be on its own line.\r\n",
      "\r\n",
      "Error compiling Cython file:\r\n",
      "------------------------------------------------------------\r\n",
      "...\r\n",
      "            vector_pointer_to_list_elements[index].head = current_element\r\n",
      "            current_element = current_element.higher\r\n",
      "\r\n",
      "\r\n",
      "        # Sort array elements on their data field\r\n",
      "        qsort(vector_pointer_to_list_elements, list_length, sizeof(head_pointer_tree_s), compare_struct_on_data)\r\n",
      "                                                                                         ^\r\n",
      "------------------------------------------------------------\r\n",
      "\r\n",
      "Sparse_Matrix_Tree_CSR.pyx:516:89: Cannot assign type 'int (const void *, const void *) except? -1' to 'int (*)(const_void *, const_void *) noexcept'. Exception values are incompatible. Suggest adding 'noexcept' to the type of 'compare_struct_on_data'.\r\n",
      "\r\n",
      "Error compiling Cython file:\r\n",
      "------------------------------------------------------------\r\n",
      "...\r\n",
      "        # Sort array elements on their data field\r\n",
      "        qsort(vector_pointer_to_list_elements, list_length, sizeof(head_pointer_tree_s), compare_struct_on_data)\r\n",
      "\r\n",
      "        # Sort only the TopK according to their column field\r\n",
      "        # Sort is from lower to higher, therefore the elements to be considered are from len-topK to len\r\n",
      "        qsort(&vector_pointer_to_list_elements[list_length-TopK], TopK, sizeof(head_pointer_tree_s), compare_struct_on_column)\r\n",
      "                                                                                                     ^\r\n",
      "------------------------------------------------------------\r\n",
      "\r\n",
      "Sparse_Matrix_Tree_CSR.pyx:520:101: Cannot assign type 'int (const void *, const void *) except? -1' to 'int (*)(const_void *, const_void *) noexcept'. Exception values are incompatible. Suggest adding 'noexcept' to the type of 'compare_struct_on_column'.\r\n",
      "Traceback (most recent call last):\r\n",
      "  File \"/kaggle/working/RECsys_Challenge2024/CythonCompiler/compile_script.py\", line 48, in <module>\r\n",
      "    setup(\r\n",
      "  File \"/usr/local/lib/python3.10/dist-packages/setuptools/__init__.py\", line 108, in setup\r\n",
      "    return distutils.core.setup(**attrs)\r\n",
      "  File \"/usr/local/lib/python3.10/dist-packages/setuptools/_distutils/core.py\", line 184, in setup\r\n",
      "    return run_commands(dist)\r\n",
      "  File \"/usr/local/lib/python3.10/dist-packages/setuptools/_distutils/core.py\", line 200, in run_commands\r\n",
      "    dist.run_commands()\r\n",
      "  File \"/usr/local/lib/python3.10/dist-packages/setuptools/_distutils/dist.py\", line 970, in run_commands\r\n",
      "    self.run_command(cmd)\r\n",
      "  File \"/usr/local/lib/python3.10/dist-packages/setuptools/dist.py\", line 956, in run_command\r\n",
      "    super().run_command(command)\r\n",
      "  File \"/usr/local/lib/python3.10/dist-packages/setuptools/_distutils/dist.py\", line 989, in run_command\r\n",
      "    cmd_obj.run()\r\n",
      "  File \"/usr/local/lib/python3.10/dist-packages/setuptools/_distutils/command/build_ext.py\", line 359, in run\r\n",
      "    self.build_extensions()\r\n",
      "  File \"/usr/local/lib/python3.10/dist-packages/setuptools/_distutils/command/build_ext.py\", line 479, in build_extensions\r\n",
      "    self._build_extensions_serial()\r\n",
      "  File \"/usr/local/lib/python3.10/dist-packages/setuptools/_distutils/command/build_ext.py\", line 505, in _build_extensions_serial\r\n",
      "    self.build_extension(ext)\r\n",
      "  File \"/usr/local/lib/python3.10/dist-packages/Cython/Distutils/build_ext.py\", line 130, in build_extension\r\n",
      "    new_ext = cythonize(\r\n",
      "  File \"/usr/local/lib/python3.10/dist-packages/Cython/Build/Dependencies.py\", line 1154, in cythonize\r\n",
      "    cythonize_one(*args)\r\n",
      "  File \"/usr/local/lib/python3.10/dist-packages/Cython/Build/Dependencies.py\", line 1321, in cythonize_one\r\n",
      "    raise CompileError(None, pyx_file)\r\n",
      "Cython.Compiler.Errors.CompileError: Sparse_Matrix_Tree_CSR.pyx\r\n",
      "Traceback (most recent call last):\r\n",
      "  File \"/kaggle/working/RECsys_Challenge2024/run_compile_all_cython.py\", line 60, in <module>\r\n",
      "    run_compile_subprocess(file_path, [file_name])\r\n",
      "  File \"/kaggle/working/RECsys_Challenge2024/CythonCompiler/run_compile_subprocess.py\", line 51, in run_compile_subprocess\r\n",
      "    raise exc\r\n",
      "  File \"/kaggle/working/RECsys_Challenge2024/CythonCompiler/run_compile_subprocess.py\", line 32, in run_compile_subprocess\r\n",
      "    output = subprocess.check_output(' '.join(command),\r\n",
      "  File \"/usr/lib/python3.10/subprocess.py\", line 421, in check_output\r\n",
      "    return run(*popenargs, stdout=PIPE, timeout=timeout, check=True,\r\n",
      "  File \"/usr/lib/python3.10/subprocess.py\", line 526, in run\r\n",
      "    raise CalledProcessError(retcode, process.args,\r\n",
      "subprocess.CalledProcessError: Command '/usr/bin/python3 /kaggle/working/RECsys_Challenge2024/CythonCompiler/compile_script.py Sparse_Matrix_Tree_CSR.pyx build_ext --inplace' returned non-zero exit status 1.\r\n",
      "Compiling [6/11]: Sparse_Matrix_Tree_CSR.pyx... FAIL: Command '/usr/bin/python3 /kaggle/working/RECsys_Challenge2024/CythonCompiler/compile_script.py Sparse_Matrix_Tree_CSR.pyx build_ext --inplace' returned non-zero exit status 1.\r\n",
      "\r\n",
      "Compiling [7/11]: HP3_Similarity_Cython_SGD.pyx... \r\n",
      "performance hint: HP3_Similarity_Cython_SGD.pyx:113:40: Index should be typed for more efficient access\r\n",
      "performance hint: HP3_Similarity_Cython_SGD.pyx:114:40: Index should be typed for more efficient access\r\n",
      "In file included from \u001b[01m\u001b[K/usr/local/lib/python3.10/dist-packages/numpy/core/include/numpy/ndarraytypes.h:1929\u001b[m\u001b[K,\r\n",
      "                 from \u001b[01m\u001b[K/usr/local/lib/python3.10/dist-packages/numpy/core/include/numpy/ndarrayobject.h:12\u001b[m\u001b[K,\r\n",
      "                 from \u001b[01m\u001b[K/usr/local/lib/python3.10/dist-packages/numpy/core/include/numpy/arrayobject.h:5\u001b[m\u001b[K,\r\n",
      "                 from \u001b[01m\u001b[KHP3_Similarity_Cython_SGD.c:1252\u001b[m\u001b[K:\r\n",
      "\u001b[01m\u001b[K/usr/local/lib/python3.10/dist-packages/numpy/core/include/numpy/npy_1_7_deprecated_api.h:17:2:\u001b[m\u001b[K \u001b[01;35m\u001b[Kwarning: \u001b[m\u001b[K#warning \"Using deprecated NumPy API, disable it with \" \"#define NPY_NO_DEPRECATED_API NPY_1_7_API_VERSION\" [\u001b[01;35m\u001b[K\u001b]8;;https://gcc.gnu.org/onlinedocs/gcc/Warning-Options.html#index-Wcpp\u0007-Wcpp\u001b]8;;\u0007\u001b[m\u001b[K]\r\n",
      "   17 | #\u001b[01;35m\u001b[Kwarning\u001b[m\u001b[K \"Using deprecated NumPy API, disable it with \" \\\r\n",
      "      |  \u001b[01;35m\u001b[K^~~~~~~\u001b[m\u001b[K\r\n",
      "\u001b[01m\u001b[KHP3_Similarity_Cython_SGD.c:\u001b[m\u001b[K In function ‘\u001b[01m\u001b[K__pyx_pf_25HP3_Similarity_Cython_SGD_25HP3_Similarity_Cython_SGD_4fit\u001b[m\u001b[K’:\r\n",
      "\u001b[01m\u001b[KHP3_Similarity_Cython_SGD.c:23631:55:\u001b[m\u001b[K \u001b[01;35m\u001b[Kwarning: \u001b[m\u001b[K‘\u001b[01m\u001b[K__pyx_v_sample_num\u001b[m\u001b[K’ may be used uninitialized in this function [\u001b[01;35m\u001b[K\u001b]8;;https://gcc.gnu.org/onlinedocs/gcc/Warning-Options.html#index-Wmaybe-uninitialized\u0007-Wmaybe-uninitialized\u001b]8;;\u0007\u001b[m\u001b[K]\r\n",
      "23631 |   __pyx_t_1 = PyFloat_FromDouble((__pyx_v_cum_loss / \u001b[01;35m\u001b[K((double)__pyx_v_sample_num)\u001b[m\u001b[K)); if (unlikely(!__pyx_t_1)) __PYX_ERR(0, 291, __pyx_L1_error)\r\n",
      "      |                                                      \u001b[01;35m\u001b[K~^~~~~~~~~~~~~~~~~~~~~~~~~~~\u001b[m\u001b[K\r\n",
      "/usr/local/lib/python3.10/dist-packages/Cython/Compiler/Main.py:381: FutureWarning: Cython directive 'language_level' not set, using '3str' for now (Py3). This has changed from earlier releases! File: /kaggle/working/RECsys_Challenge2024/Recommenders/FeatureWeighting/Cython/HP3_Similarity_Cython_SGD.pyx\r\n",
      "  tree = Parsing.p_module(s, pxd, full_module_name)\r\n",
      "performance hint: HP3_Similarity_Cython_SGD.pyx:113:40: Index should be typed for more efficient access\r\n",
      "performance hint: HP3_Similarity_Cython_SGD.pyx:114:40: Index should be typed for more efficient access\r\n",
      "Compiling [7/11]: HP3_Similarity_Cython_SGD.pyx... PASS\r\n",
      "\r\n",
      "Compiling [8/11]: CFW_D_Similarity_Cython_SGD.pyx... \r\n",
      "In file included from \u001b[01m\u001b[K/usr/local/lib/python3.10/dist-packages/numpy/core/include/numpy/ndarraytypes.h:1929\u001b[m\u001b[K,\r\n",
      "                 from \u001b[01m\u001b[K/usr/local/lib/python3.10/dist-packages/numpy/core/include/numpy/ndarrayobject.h:12\u001b[m\u001b[K,\r\n",
      "                 from \u001b[01m\u001b[K/usr/local/lib/python3.10/dist-packages/numpy/core/include/numpy/arrayobject.h:5\u001b[m\u001b[K,\r\n",
      "                 from \u001b[01m\u001b[KCFW_D_Similarity_Cython_SGD.c:1252\u001b[m\u001b[K:\r\n",
      "\u001b[01m\u001b[K/usr/local/lib/python3.10/dist-packages/numpy/core/include/numpy/npy_1_7_deprecated_api.h:17:2:\u001b[m\u001b[K \u001b[01;35m\u001b[Kwarning: \u001b[m\u001b[K#warning \"Using deprecated NumPy API, disable it with \" \"#define NPY_NO_DEPRECATED_API NPY_1_7_API_VERSION\" [\u001b[01;35m\u001b[K\u001b]8;;https://gcc.gnu.org/onlinedocs/gcc/Warning-Options.html#index-Wcpp\u0007-Wcpp\u001b]8;;\u0007\u001b[m\u001b[K]\r\n",
      "   17 | #\u001b[01;35m\u001b[Kwarning\u001b[m\u001b[K \"Using deprecated NumPy API, disable it with \" \\\r\n",
      "      |  \u001b[01;35m\u001b[K^~~~~~~\u001b[m\u001b[K\r\n",
      "\u001b[01m\u001b[KCFW_D_Similarity_Cython_SGD.c:\u001b[m\u001b[K In function ‘\u001b[01m\u001b[K__pyx_pf_27CFW_D_Similarity_Cython_SGD_27CFW_D_Similarity_Cython_SGD_6fit\u001b[m\u001b[K’:\r\n",
      "\u001b[01m\u001b[KCFW_D_Similarity_Cython_SGD.c:23373:55:\u001b[m\u001b[K \u001b[01;35m\u001b[Kwarning: \u001b[m\u001b[K‘\u001b[01m\u001b[K__pyx_v_sample_num\u001b[m\u001b[K’ may be used uninitialized in this function [\u001b[01;35m\u001b[K\u001b]8;;https://gcc.gnu.org/onlinedocs/gcc/Warning-Options.html#index-Wmaybe-uninitialized\u0007-Wmaybe-uninitialized\u001b]8;;\u0007\u001b[m\u001b[K]\r\n",
      "23373 |   __pyx_t_3 = PyFloat_FromDouble((__pyx_v_cum_loss / \u001b[01;35m\u001b[K((double)__pyx_v_sample_num)\u001b[m\u001b[K)); if (unlikely(!__pyx_t_3)) __PYX_ERR(0, 290, __pyx_L1_error)\r\n",
      "      |                                                      \u001b[01;35m\u001b[K~^~~~~~~~~~~~~~~~~~~~~~~~~~~\u001b[m\u001b[K\r\n",
      "/usr/local/lib/python3.10/dist-packages/Cython/Compiler/Main.py:381: FutureWarning: Cython directive 'language_level' not set, using '3str' for now (Py3). This has changed from earlier releases! File: /kaggle/working/RECsys_Challenge2024/Recommenders/FeatureWeighting/Cython/CFW_D_Similarity_Cython_SGD.pyx\r\n",
      "  tree = Parsing.p_module(s, pxd, full_module_name)\r\n",
      "Compiling [8/11]: CFW_D_Similarity_Cython_SGD.pyx... PASS\r\n",
      "\r\n",
      "Compiling [9/11]: FBSM_Rating_Cython_SGD.pyx... \r\n",
      "In file included from \u001b[01m\u001b[K/usr/local/lib/python3.10/dist-packages/numpy/core/include/numpy/ndarraytypes.h:1929\u001b[m\u001b[K,\r\n",
      "                 from \u001b[01m\u001b[K/usr/local/lib/python3.10/dist-packages/numpy/core/include/numpy/ndarrayobject.h:12\u001b[m\u001b[K,\r\n",
      "                 from \u001b[01m\u001b[K/usr/local/lib/python3.10/dist-packages/numpy/core/include/numpy/arrayobject.h:5\u001b[m\u001b[K,\r\n",
      "                 from \u001b[01m\u001b[KFBSM_Rating_Cython_SGD.c:1252\u001b[m\u001b[K:\r\n",
      "\u001b[01m\u001b[K/usr/local/lib/python3.10/dist-packages/numpy/core/include/numpy/npy_1_7_deprecated_api.h:17:2:\u001b[m\u001b[K \u001b[01;35m\u001b[Kwarning: \u001b[m\u001b[K#warning \"Using deprecated NumPy API, disable it with \" \"#define NPY_NO_DEPRECATED_API NPY_1_7_API_VERSION\" [\u001b[01;35m\u001b[K\u001b]8;;https://gcc.gnu.org/onlinedocs/gcc/Warning-Options.html#index-Wcpp\u0007-Wcpp\u001b]8;;\u0007\u001b[m\u001b[K]\r\n",
      "   17 | #\u001b[01;35m\u001b[Kwarning\u001b[m\u001b[K \"Using deprecated NumPy API, disable it with \" \\\r\n",
      "      |  \u001b[01;35m\u001b[K^~~~~~~\u001b[m\u001b[K\r\n",
      "\u001b[01m\u001b[KFBSM_Rating_Cython_SGD.c:\u001b[m\u001b[K In function ‘\u001b[01m\u001b[K__pyx_pf_22FBSM_Rating_Cython_SGD_22FBSM_Rating_Cython_SGD_2fit\u001b[m\u001b[K’:\r\n",
      "\u001b[01m\u001b[KFBSM_Rating_Cython_SGD.c:26607:55:\u001b[m\u001b[K \u001b[01;35m\u001b[Kwarning: \u001b[m\u001b[K‘\u001b[01m\u001b[K__pyx_v_num_sample\u001b[m\u001b[K’ may be used uninitialized in this function [\u001b[01;35m\u001b[K\u001b]8;;https://gcc.gnu.org/onlinedocs/gcc/Warning-Options.html#index-Wmaybe-uninitialized\u0007-Wmaybe-uninitialized\u001b]8;;\u0007\u001b[m\u001b[K]\r\n",
      "26607 |   __pyx_t_5 = PyFloat_FromDouble((__pyx_v_cum_loss / \u001b[01;35m\u001b[K((double)__pyx_v_num_sample)\u001b[m\u001b[K)); if (unlikely(!__pyx_t_5)) __PYX_ERR(0, 551, __pyx_L1_error)\r\n",
      "      |                                                      \u001b[01;35m\u001b[K~^~~~~~~~~~~~~~~~~~~~~~~~~~~\u001b[m\u001b[K\r\n",
      "/usr/local/lib/python3.10/dist-packages/Cython/Compiler/Main.py:381: FutureWarning: Cython directive 'language_level' not set, using '3str' for now (Py3). This has changed from earlier releases! File: /kaggle/working/RECsys_Challenge2024/Recommenders/FeatureWeighting/Cython/FBSM_Rating_Cython_SGD.pyx\r\n",
      "  tree = Parsing.p_module(s, pxd, full_module_name)\r\n",
      "Compiling [9/11]: FBSM_Rating_Cython_SGD.pyx... PASS\r\n",
      "\r\n",
      "Compiling [10/11]: CFW_DVV_Similarity_Cython_SGD.pyx... \r\n",
      "In file included from \u001b[01m\u001b[K/usr/local/lib/python3.10/dist-packages/numpy/core/include/numpy/ndarraytypes.h:1929\u001b[m\u001b[K,\r\n",
      "                 from \u001b[01m\u001b[K/usr/local/lib/python3.10/dist-packages/numpy/core/include/numpy/ndarrayobject.h:12\u001b[m\u001b[K,\r\n",
      "                 from \u001b[01m\u001b[K/usr/local/lib/python3.10/dist-packages/numpy/core/include/numpy/arrayobject.h:5\u001b[m\u001b[K,\r\n",
      "                 from \u001b[01m\u001b[KCFW_DVV_Similarity_Cython_SGD.c:1252\u001b[m\u001b[K:\r\n",
      "\u001b[01m\u001b[K/usr/local/lib/python3.10/dist-packages/numpy/core/include/numpy/npy_1_7_deprecated_api.h:17:2:\u001b[m\u001b[K \u001b[01;35m\u001b[Kwarning: \u001b[m\u001b[K#warning \"Using deprecated NumPy API, disable it with \" \"#define NPY_NO_DEPRECATED_API NPY_1_7_API_VERSION\" [\u001b[01;35m\u001b[K\u001b]8;;https://gcc.gnu.org/onlinedocs/gcc/Warning-Options.html#index-Wcpp\u0007-Wcpp\u001b]8;;\u0007\u001b[m\u001b[K]\r\n",
      "   17 | #\u001b[01;35m\u001b[Kwarning\u001b[m\u001b[K \"Using deprecated NumPy API, disable it with \" \\\r\n",
      "      |  \u001b[01;35m\u001b[K^~~~~~~\u001b[m\u001b[K\r\n",
      "/usr/local/lib/python3.10/dist-packages/Cython/Compiler/Main.py:381: FutureWarning: Cython directive 'language_level' not set, using '3str' for now (Py3). This has changed from earlier releases! File: /kaggle/working/RECsys_Challenge2024/Recommenders/FeatureWeighting/Cython/CFW_DVV_Similarity_Cython_SGD.pyx\r\n",
      "  tree = Parsing.p_module(s, pxd, full_module_name)\r\n",
      "Compiling [10/11]: CFW_DVV_Similarity_Cython_SGD.pyx... PASS\r\n",
      "\r\n",
      "Compiling [11/11]: DataIterator.pyx... \r\n",
      "In file included from \u001b[01m\u001b[K/usr/local/lib/python3.10/dist-packages/numpy/core/include/numpy/ndarraytypes.h:1929\u001b[m\u001b[K,\r\n",
      "                 from \u001b[01m\u001b[K/usr/local/lib/python3.10/dist-packages/numpy/core/include/numpy/ndarrayobject.h:12\u001b[m\u001b[K,\r\n",
      "                 from \u001b[01m\u001b[K/usr/local/lib/python3.10/dist-packages/numpy/core/include/numpy/arrayobject.h:5\u001b[m\u001b[K,\r\n",
      "                 from \u001b[01m\u001b[KDataIterator.c:1252\u001b[m\u001b[K:\r\n",
      "\u001b[01m\u001b[K/usr/local/lib/python3.10/dist-packages/numpy/core/include/numpy/npy_1_7_deprecated_api.h:17:2:\u001b[m\u001b[K \u001b[01;35m\u001b[Kwarning: \u001b[m\u001b[K#warning \"Using deprecated NumPy API, disable it with \" \"#define NPY_NO_DEPRECATED_API NPY_1_7_API_VERSION\" [\u001b[01;35m\u001b[K\u001b]8;;https://gcc.gnu.org/onlinedocs/gcc/Warning-Options.html#index-Wcpp\u0007-Wcpp\u001b]8;;\u0007\u001b[m\u001b[K]\r\n",
      "   17 | #\u001b[01;35m\u001b[Kwarning\u001b[m\u001b[K \"Using deprecated NumPy API, disable it with \" \\\r\n",
      "      |  \u001b[01;35m\u001b[K^~~~~~~\u001b[m\u001b[K\r\n",
      "\u001b[01m\u001b[KDataIterator.c:\u001b[m\u001b[K In function ‘\u001b[01m\u001b[K__pyx_pf_12DataIterator_19InteractionIterator_6__next__\u001b[m\u001b[K’:\r\n",
      "\u001b[01m\u001b[KDataIterator.c:20937:22:\u001b[m\u001b[K \u001b[01;35m\u001b[Kwarning: \u001b[m\u001b[K‘\u001b[01m\u001b[K__pyx_v_i_batch\u001b[m\u001b[K’ may be used uninitialized in this function [\u001b[01;35m\u001b[K\u001b]8;;https://gcc.gnu.org/onlinedocs/gcc/Warning-Options.html#index-Wmaybe-uninitialized\u0007-Wmaybe-uninitialized\u001b]8;;\u0007\u001b[m\u001b[K]\r\n",
      "20937 |     (__pyx_v_i_batch \u001b[01;35m\u001b[K+\u001b[m\u001b[K 1),\r\n",
      "      |                      \u001b[01;35m\u001b[K^\u001b[m\u001b[K\r\n",
      "\u001b[01m\u001b[KDataIterator.c:\u001b[m\u001b[K In function ‘\u001b[01m\u001b[K__pyx_pf_12DataIterator_30InteractionAndNegativeIterator_6__next__\u001b[m\u001b[K’:\r\n",
      "\u001b[01m\u001b[KDataIterator.c:25499:22:\u001b[m\u001b[K \u001b[01;35m\u001b[Kwarning: \u001b[m\u001b[K‘\u001b[01m\u001b[K__pyx_v_i_batch\u001b[m\u001b[K’ may be used uninitialized in this function [\u001b[01;35m\u001b[K\u001b]8;;https://gcc.gnu.org/onlinedocs/gcc/Warning-Options.html#index-Wmaybe-uninitialized\u0007-Wmaybe-uninitialized\u001b]8;;\u0007\u001b[m\u001b[K]\r\n",
      "25499 |     (__pyx_v_i_batch \u001b[01;35m\u001b[K+\u001b[m\u001b[K 1),\r\n",
      "      |                      \u001b[01;35m\u001b[K^\u001b[m\u001b[K\r\n",
      "\u001b[01m\u001b[KDataIterator.c:\u001b[m\u001b[K In function ‘\u001b[01m\u001b[K__pyx_pf_12DataIterator_11BPRIterator_6__next__\u001b[m\u001b[K’:\r\n",
      "\u001b[01m\u001b[KDataIterator.c:23056:22:\u001b[m\u001b[K \u001b[01;35m\u001b[Kwarning: \u001b[m\u001b[K‘\u001b[01m\u001b[K__pyx_v_i_batch\u001b[m\u001b[K’ may be used uninitialized in this function [\u001b[01;35m\u001b[K\u001b]8;;https://gcc.gnu.org/onlinedocs/gcc/Warning-Options.html#index-Wmaybe-uninitialized\u0007-Wmaybe-uninitialized\u001b]8;;\u0007\u001b[m\u001b[K]\r\n",
      "23056 |     (__pyx_v_i_batch \u001b[01;35m\u001b[K+\u001b[m\u001b[K 1),\r\n",
      "      |                      \u001b[01;35m\u001b[K^\u001b[m\u001b[K\r\n",
      "/usr/local/lib/python3.10/dist-packages/Cython/Compiler/Main.py:381: FutureWarning: Cython directive 'language_level' not set, using '3str' for now (Py3). This has changed from earlier releases! File: /kaggle/working/RECsys_Challenge2024/Utils/PyTorch/Cython/DataIterator.pyx\r\n",
      "  tree = Parsing.p_module(s, pxd, full_module_name)\r\n",
      "Compiling [11/11]: DataIterator.pyx... PASS\r\n",
      "\r\n",
      "run_compile_all_cython: Compilation finished. FAILS 2/11.\r\n",
      "Compilation log can be found here: './result_experiments/run_compile_all_cython.txt'\r\n"
     ]
    }
   ],
   "source": [
    "%cd /kaggle/working/RECsys_Challenge2024\n",
    "! python run_compile_all_cython.py"
   ]
  },
  {
   "cell_type": "code",
   "execution_count": 7,
   "id": "35e491b1",
   "metadata": {
    "execution": {
     "iopub.execute_input": "2025-01-07T14:15:05.119556Z",
     "iopub.status.busy": "2025-01-07T14:15:05.118935Z",
     "iopub.status.idle": "2025-01-07T14:15:08.017298Z",
     "shell.execute_reply": "2025-01-07T14:15:08.016381Z"
    },
    "papermill": {
     "duration": 2.921703,
     "end_time": "2025-01-07T14:15:08.019321",
     "exception": false,
     "start_time": "2025-01-07T14:15:05.097618",
     "status": "completed"
    },
    "tags": []
   },
   "outputs": [],
   "source": [
    "from Utils.notebookFunctions import *\n",
    "from Utils.xgboost_functions import *\n",
    "import numpy as np\n",
    "import pandas as pd\n",
    "import scipy.sparse as sps\n",
    "import time\n",
    "import shutil\n",
    "import optuna\n",
    "import json\n",
    "import os\n",
    "import gc\n",
    "from Utils.seconds_to_biggest_unit import seconds_to_biggest_unit\n",
    "from tqdm import tqdm\n",
    "from xgboost import XGBRanker\n",
    "\n",
    "import warnings\n",
    "import string\n",
    "from scipy.stats import skew, kurtosis\n",
    "from numpy import linalg as LA\n",
    "\n",
    "import timeout_decorator\n",
    "\n",
    "%matplotlib inline\n",
    "from xgboost import plot_importance\n",
    "\n",
    "K_PATH = '/kaggle/working/RECsys_Challenge2024'\n",
    "GH_PATH = 'TrainedModels/WithKFCV'\n",
    "GH_PATH_1 = 'TrainedModels/WithoutKFCV'\n",
    "D_PATH = 'XGBoost'\n",
    "\n",
    "np.random.seed(42)"
   ]
  },
  {
   "cell_type": "code",
   "execution_count": 8,
   "id": "316a92dd",
   "metadata": {
    "execution": {
     "iopub.execute_input": "2025-01-07T14:15:08.059461Z",
     "iopub.status.busy": "2025-01-07T14:15:08.058944Z",
     "iopub.status.idle": "2025-01-07T14:15:12.653677Z",
     "shell.execute_reply": "2025-01-07T14:15:12.652406Z"
    },
    "papermill": {
     "duration": 4.616999,
     "end_time": "2025-01-07T14:15:12.655662",
     "exception": false,
     "start_time": "2025-01-07T14:15:08.038663",
     "status": "completed"
    },
    "tags": []
   },
   "outputs": [],
   "source": [
    "from Recommenders.GraphBased.RP3betaRecommender import RP3betaRecommender\n",
    "from Recommenders.GraphBased.P3alphaRecommender import P3alphaRecommender\n",
    "from Recommenders.Hybrid.LinearCombinationRecommender import LinearCombinationRecommender\n",
    "from Recommenders.KNN.ItemKNNCFRecommender import ItemKNNCFRecommender\n",
    "from Recommenders.KNN.ItemKNNCBFRecommender import ItemKNNCBFRecommender\n",
    "from Recommenders.KNN.UserKNNCFRecommender import UserKNNCFRecommender\n",
    "from Recommenders.MatrixFactorization.FasterIALSRecommender import FasterIALSRecommender\n",
    "from Recommenders.MatrixFactorization.NMFRecommender import NMFRecommender\n",
    "from Recommenders.MatrixFactorization.PureSVDRecommender import PureSVDItemRecommender\n",
    "from Recommenders.MatrixFactorization.PureSVDRecommender import ScaledPureSVDRecommender\n",
    "from Recommenders.Neural.MultVAE_PyTorch_Recommender import MultVAERecommender_PyTorch_OptimizerMask \n",
    "from Recommenders.SLIM.SLIMElasticNetRecommender import SLIMElasticNetRecommender\n",
    "from Recommenders.SLIM.SLIM_BPR_Python import SLIM_BPR_Python"
   ]
  },
  {
   "cell_type": "markdown",
   "id": "90a50857",
   "metadata": {
    "papermill": {
     "duration": 0.01877,
     "end_time": "2025-01-07T14:15:12.694173",
     "exception": false,
     "start_time": "2025-01-07T14:15:12.675403",
     "status": "completed"
    },
    "tags": []
   },
   "source": [
    "## Import the repository"
   ]
  },
  {
   "cell_type": "code",
   "execution_count": 9,
   "id": "154df716",
   "metadata": {
    "execution": {
     "iopub.execute_input": "2025-01-07T14:15:12.733761Z",
     "iopub.status.busy": "2025-01-07T14:15:12.733165Z",
     "iopub.status.idle": "2025-01-07T14:15:12.956343Z",
     "shell.execute_reply": "2025-01-07T14:15:12.955154Z"
    },
    "papermill": {
     "duration": 0.244713,
     "end_time": "2025-01-07T14:15:12.957982",
     "exception": false,
     "start_time": "2025-01-07T14:15:12.713269",
     "status": "completed"
    },
    "tags": []
   },
   "outputs": [
    {
     "name": "stdout",
     "output_type": "stream",
     "text": [
      "Repository 'RECsys_Challenge2024' found.\n"
     ]
    }
   ],
   "source": [
    "repo = get_repo_from_github(token)"
   ]
  },
  {
   "cell_type": "code",
   "execution_count": 10,
   "id": "4f90d203",
   "metadata": {
    "execution": {
     "iopub.execute_input": "2025-01-07T14:15:12.998044Z",
     "iopub.status.busy": "2025-01-07T14:15:12.997591Z",
     "iopub.status.idle": "2025-01-07T14:15:13.002432Z",
     "shell.execute_reply": "2025-01-07T14:15:13.001238Z"
    },
    "papermill": {
     "duration": 0.026805,
     "end_time": "2025-01-07T14:15:13.004364",
     "exception": false,
     "start_time": "2025-01-07T14:15:12.977559",
     "status": "completed"
    },
    "tags": []
   },
   "outputs": [],
   "source": [
    "config = {\n",
    "    'model': 'XGBoostNoCont',\n",
    "    'metric': 'MAP',\n",
    "    'categorical': True,\n",
    "    'contents': False,\n",
    "    'tune_parameters': True,\n",
    "    'database_path': '/kaggle/working/history_XGBoostNoCont_MAP.db',\n",
    "    'copy_prev_best_params': False,\n",
    "    'tune_best_params': True,\n",
    "    'save_github': False\n",
    "}"
   ]
  },
  {
   "cell_type": "markdown",
   "id": "75f4b272",
   "metadata": {
    "papermill": {
     "duration": 0.018974,
     "end_time": "2025-01-07T14:15:13.044276",
     "exception": false,
     "start_time": "2025-01-07T14:15:13.025302",
     "status": "completed"
    },
    "tags": []
   },
   "source": [
    "Import the database where previous tuning trials have been saved."
   ]
  },
  {
   "cell_type": "code",
   "execution_count": 11,
   "id": "25e41bb0",
   "metadata": {
    "execution": {
     "iopub.execute_input": "2025-01-07T14:15:13.083791Z",
     "iopub.status.busy": "2025-01-07T14:15:13.083372Z",
     "iopub.status.idle": "2025-01-07T14:15:13.088314Z",
     "shell.execute_reply": "2025-01-07T14:15:13.087284Z"
    },
    "papermill": {
     "duration": 0.026542,
     "end_time": "2025-01-07T14:15:13.090007",
     "exception": false,
     "start_time": "2025-01-07T14:15:13.063465",
     "status": "completed"
    },
    "tags": []
   },
   "outputs": [],
   "source": [
    "try:\n",
    "    shutil.copyfile(\n",
    "        f'{K_PATH}/{GH_PATH}/{D_PATH}/{config[\"model\"]}Recommender/Optimizing{config[\"metric\"]}/history_{config[\"model\"]}_{config[\"metric\"]}.db', \n",
    "        config['database_path']\n",
    "    )\n",
    "except FileNotFoundError:\n",
    "    pass # if not present optuna will create it"
   ]
  },
  {
   "cell_type": "markdown",
   "id": "50292f6b",
   "metadata": {
    "papermill": {
     "duration": 0.018693,
     "end_time": "2025-01-07T14:15:13.129701",
     "exception": false,
     "start_time": "2025-01-07T14:15:13.111008",
     "status": "completed"
    },
    "tags": []
   },
   "source": [
    "Save the best trial value saved in the imported db from optuna."
   ]
  },
  {
   "cell_type": "code",
   "execution_count": 12,
   "id": "14361305",
   "metadata": {
    "execution": {
     "iopub.execute_input": "2025-01-07T14:15:13.170007Z",
     "iopub.status.busy": "2025-01-07T14:15:13.169440Z",
     "iopub.status.idle": "2025-01-07T14:15:14.532437Z",
     "shell.execute_reply": "2025-01-07T14:15:14.531353Z"
    },
    "papermill": {
     "duration": 1.385136,
     "end_time": "2025-01-07T14:15:14.534341",
     "exception": false,
     "start_time": "2025-01-07T14:15:13.149205",
     "status": "completed"
    },
    "tags": []
   },
   "outputs": [
    {
     "name": "stdout",
     "output_type": "stream",
     "text": [
      "Best value: 0\n"
     ]
    }
   ],
   "source": [
    "try:\n",
    "    optuna_study = optuna.load_study(study_name=f'hyperparameters_tuning_{config[\"model\"]}_{config[\"metric\"]}',\n",
    "                                storage=f'sqlite:///{config[\"database_path\"]}')\n",
    "\n",
    "    # Access the best trial\n",
    "    best_saved_value = study.best_trial.value\n",
    "except:\n",
    "    best_saved_value = 0\n",
    "\n",
    "print(\"Best value:\", best_saved_value)"
   ]
  },
  {
   "cell_type": "markdown",
   "id": "8bbd0436",
   "metadata": {
    "papermill": {
     "duration": 0.01938,
     "end_time": "2025-01-07T14:15:14.573801",
     "exception": false,
     "start_time": "2025-01-07T14:15:14.554421",
     "status": "completed"
    },
    "tags": []
   },
   "source": [
    "# Construction of URM and ICM matrices"
   ]
  },
  {
   "cell_type": "code",
   "execution_count": 13,
   "id": "da952cbf",
   "metadata": {
    "execution": {
     "iopub.execute_input": "2025-01-07T14:15:14.614647Z",
     "iopub.status.busy": "2025-01-07T14:15:14.614245Z",
     "iopub.status.idle": "2025-01-07T14:15:15.440838Z",
     "shell.execute_reply": "2025-01-07T14:15:15.439575Z"
    },
    "papermill": {
     "duration": 0.849269,
     "end_time": "2025-01-07T14:15:15.442514",
     "exception": false,
     "start_time": "2025-01-07T14:15:14.593245",
     "status": "completed"
    },
    "tags": []
   },
   "outputs": [
    {
     "data": {
      "text/plain": [
       "<35736x38121 sparse matrix of type '<class 'numpy.float64'>'\n",
       "\twith 1764607 stored elements in Compressed Sparse Row format>"
      ]
     },
     "execution_count": 13,
     "metadata": {},
     "output_type": "execute_result"
    }
   ],
   "source": [
    "URM_all_dataframe = pd.read_csv(\"/kaggle/input/recommender-system-2024-challenge-polimi/data_train.csv\")\n",
    "\n",
    "n_users = len(URM_all_dataframe[\"user_id\"].unique())\n",
    "n_items = len(URM_all_dataframe[\"item_id\"].unique())\n",
    "\n",
    "URM_all = sps.csr_matrix((URM_all_dataframe[\"data\"].values, \n",
    "                          (URM_all_dataframe[\"user_id\"].values, URM_all_dataframe[\"item_id\"].values)),\n",
    "                        shape = (n_users, n_items))\n",
    "\n",
    "URM_all"
   ]
  },
  {
   "cell_type": "code",
   "execution_count": 14,
   "id": "7a1c7315",
   "metadata": {
    "execution": {
     "iopub.execute_input": "2025-01-07T14:15:15.483292Z",
     "iopub.status.busy": "2025-01-07T14:15:15.482931Z",
     "iopub.status.idle": "2025-01-07T14:15:16.802582Z",
     "shell.execute_reply": "2025-01-07T14:15:16.801517Z"
    },
    "papermill": {
     "duration": 1.341631,
     "end_time": "2025-01-07T14:15:16.804300",
     "exception": false,
     "start_time": "2025-01-07T14:15:15.462669",
     "status": "completed"
    },
    "tags": []
   },
   "outputs": [
    {
     "data": {
      "text/plain": [
       "<38121x94331 sparse matrix of type '<class 'numpy.float64'>'\n",
       "\twith 2940040 stored elements in Compressed Sparse Row format>"
      ]
     },
     "execution_count": 14,
     "metadata": {},
     "output_type": "execute_result"
    }
   ],
   "source": [
    "ICM_dataframe = pd.read_csv(\"/kaggle/input/recommender-system-2024-challenge-polimi/data_ICM_metadata.csv\")\n",
    "\n",
    "n_items = len(ICM_dataframe[\"item_id\"].unique())\n",
    "n_features = len(ICM_dataframe[\"feature_id\"].unique())\n",
    "\n",
    "ICM_all = sps.csr_matrix((ICM_dataframe[\"data\"].values, \n",
    "                          (ICM_dataframe[\"item_id\"].values, ICM_dataframe[\"feature_id\"].values)),\n",
    "                        shape = (n_items, n_features))\n",
    "\n",
    "ICM_all"
   ]
  },
  {
   "cell_type": "markdown",
   "id": "cc5cb2d3",
   "metadata": {
    "papermill": {
     "duration": 0.019496,
     "end_time": "2025-01-07T14:15:16.844424",
     "exception": false,
     "start_time": "2025-01-07T14:15:16.824928",
     "status": "completed"
    },
    "tags": []
   },
   "source": [
    "## Import dataframes"
   ]
  },
  {
   "cell_type": "code",
   "execution_count": 15,
   "id": "5ec511ab",
   "metadata": {
    "execution": {
     "iopub.execute_input": "2025-01-07T14:15:16.884855Z",
     "iopub.status.busy": "2025-01-07T14:15:16.884448Z",
     "iopub.status.idle": "2025-01-07T14:15:16.890597Z",
     "shell.execute_reply": "2025-01-07T14:15:16.889572Z"
    },
    "papermill": {
     "duration": 0.02835,
     "end_time": "2025-01-07T14:15:16.892360",
     "exception": false,
     "start_time": "2025-01-07T14:15:16.864010",
     "status": "completed"
    },
    "tags": []
   },
   "outputs": [
    {
     "name": "stdout",
     "output_type": "stream",
     "text": [
      "Dataframe directory is ready to be used.\n"
     ]
    }
   ],
   "source": [
    "dataframes_path = f'/kaggle/input/dataframes-{config[\"model\"].lower()}-kfcv'\n",
    "\n",
    "if os.path.exists(dataframes_path):\n",
    "    print(\"Dataframe directory is ready to be used.\")\n",
    "else:\n",
    "    print(\"No dataframes directory is present.\")"
   ]
  },
  {
   "cell_type": "markdown",
   "id": "374779bc",
   "metadata": {
    "papermill": {
     "duration": 0.01979,
     "end_time": "2025-01-07T14:15:16.932246",
     "exception": false,
     "start_time": "2025-01-07T14:15:16.912456",
     "status": "completed"
    },
    "tags": []
   },
   "source": [
    "# Training\n",
    "Split the dataset in train, validation and test set."
   ]
  },
  {
   "cell_type": "code",
   "execution_count": 16,
   "id": "8c1bfc35",
   "metadata": {
    "execution": {
     "iopub.execute_input": "2025-01-07T14:15:16.972931Z",
     "iopub.status.busy": "2025-01-07T14:15:16.972562Z",
     "iopub.status.idle": "2025-01-07T14:15:22.603298Z",
     "shell.execute_reply": "2025-01-07T14:15:22.602063Z"
    },
    "papermill": {
     "duration": 5.653291,
     "end_time": "2025-01-07T14:15:22.605283",
     "exception": false,
     "start_time": "2025-01-07T14:15:16.951992",
     "status": "completed"
    },
    "tags": []
   },
   "outputs": [
    {
     "name": "stdout",
     "output_type": "stream",
     "text": [
      "Warning: 141 (0.39 %) of 35736 users have no sampled items\n",
      "Warning: 391 (1.09 %) of 35736 users have no sampled items\n",
      "EvaluatorHoldout: Ignoring 141 ( 0.4%) Users that have less than 1 test interactions\n"
     ]
    }
   ],
   "source": [
    "from Evaluation.Evaluator import EvaluatorHoldout\n",
    "from Data_manager.split_functions.split_train_validation_random_holdout import split_train_in_two_percentage_global_sample\n",
    "\n",
    "URM_train, URM_test = split_train_in_two_percentage_global_sample(URM_all, train_percentage = 0.80)\n",
    "URM_train, URM_validation = split_train_in_two_percentage_global_sample(URM_train, train_percentage = 0.80)\n",
    "\n",
    "evaluator_test = EvaluatorHoldout(URM_test, cutoff_list=[10])"
   ]
  },
  {
   "cell_type": "markdown",
   "id": "2fc0edcb",
   "metadata": {
    "papermill": {
     "duration": 0.019502,
     "end_time": "2025-01-07T14:15:22.645920",
     "exception": false,
     "start_time": "2025-01-07T14:15:22.626418",
     "status": "completed"
    },
    "tags": []
   },
   "source": [
    "Function to fit the hybrid recommender that is going to be used as candidate generator."
   ]
  },
  {
   "cell_type": "markdown",
   "id": "5613a6d2",
   "metadata": {
    "papermill": {
     "duration": 0.019634,
     "end_time": "2025-01-07T14:15:22.685181",
     "exception": false,
     "start_time": "2025-01-07T14:15:22.665547",
     "status": "completed"
    },
    "tags": []
   },
   "source": [
    "## Candidate Generators\n",
    "\n",
    "Select the best previously trained recommenders to use inside the hybrid recommender (candidate generator)."
   ]
  },
  {
   "cell_type": "code",
   "execution_count": 17,
   "id": "ea08c5af",
   "metadata": {
    "execution": {
     "iopub.execute_input": "2025-01-07T14:15:22.726632Z",
     "iopub.status.busy": "2025-01-07T14:15:22.726228Z",
     "iopub.status.idle": "2025-01-07T14:15:22.731147Z",
     "shell.execute_reply": "2025-01-07T14:15:22.729923Z"
    },
    "papermill": {
     "duration": 0.027918,
     "end_time": "2025-01-07T14:15:22.732897",
     "exception": false,
     "start_time": "2025-01-07T14:15:22.704979",
     "status": "completed"
    },
    "tags": []
   },
   "outputs": [],
   "source": [
    "cg_recommenders = {\n",
    "    \"ItemKNNCF\": ItemKNNCFRecommender,\n",
    "    \"SLIMElasticNet\": SLIMElasticNetRecommender,\n",
    "    \"RP3beta\": RP3betaRecommender,\n",
    "}"
   ]
  },
  {
   "cell_type": "markdown",
   "id": "dd2a2970",
   "metadata": {
    "papermill": {
     "duration": 0.021287,
     "end_time": "2025-01-07T14:15:22.774527",
     "exception": false,
     "start_time": "2025-01-07T14:15:22.753240",
     "status": "completed"
    },
    "tags": []
   },
   "source": [
    "## Features\n",
    "Select the other previously trained recommenders to use them as features."
   ]
  },
  {
   "cell_type": "code",
   "execution_count": 18,
   "id": "4c4fb996",
   "metadata": {
    "execution": {
     "iopub.execute_input": "2025-01-07T14:15:22.816970Z",
     "iopub.status.busy": "2025-01-07T14:15:22.816614Z",
     "iopub.status.idle": "2025-01-07T14:15:22.821360Z",
     "shell.execute_reply": "2025-01-07T14:15:22.820452Z"
    },
    "papermill": {
     "duration": 0.027769,
     "end_time": "2025-01-07T14:15:22.823077",
     "exception": false,
     "start_time": "2025-01-07T14:15:22.795308",
     "status": "completed"
    },
    "tags": []
   },
   "outputs": [],
   "source": [
    "f_recommenders = {\n",
    "    \"RP3beta\": RP3betaRecommender,\n",
    "    \"P3alpha\": P3alphaRecommender,\n",
    "    \"ItemKNNCF\": ItemKNNCFRecommender,\n",
    "    \"ItemKNNCBF\": ItemKNNCBFRecommender,\n",
    "    \"UserKNNCF\": UserKNNCFRecommender,\n",
    "    \"FasterIALS\": FasterIALSRecommender,\n",
    "    \"NMF\": NMFRecommender,\n",
    "    \"PureSVDItem\": PureSVDItemRecommender,\n",
    "    \"ScaledPureSVD\": ScaledPureSVDRecommender,\n",
    "    \"MultVAE\": MultVAERecommender_PyTorch_OptimizerMask,\n",
    "    \"SLIMElasticNet\": SLIMElasticNetRecommender,\n",
    "    \"SLIM_BPR\": SLIM_BPR_Python,\n",
    "}"
   ]
  },
  {
   "cell_type": "markdown",
   "id": "989b0b3d",
   "metadata": {
    "papermill": {
     "duration": 0.019542,
     "end_time": "2025-01-07T14:15:22.863558",
     "exception": false,
     "start_time": "2025-01-07T14:15:22.844016",
     "status": "completed"
    },
    "tags": []
   },
   "source": [
    "## Training dataframe building\n",
    "Build the dataframe with the predictions, the popularity of the item, the user activity, the profile length, item features and others.\n",
    "\n",
    "Then, set features and target to use for the training."
   ]
  },
  {
   "cell_type": "code",
   "execution_count": 19,
   "id": "d6ad9dfe",
   "metadata": {
    "execution": {
     "iopub.execute_input": "2025-01-07T14:15:22.905161Z",
     "iopub.status.busy": "2025-01-07T14:15:22.904763Z",
     "iopub.status.idle": "2025-01-07T14:15:26.293372Z",
     "shell.execute_reply": "2025-01-07T14:15:26.291815Z"
    },
    "papermill": {
     "duration": 3.411773,
     "end_time": "2025-01-07T14:15:26.295367",
     "exception": false,
     "start_time": "2025-01-07T14:15:22.883594",
     "status": "completed"
    },
    "tags": []
   },
   "outputs": [
    {
     "name": "stdout",
     "output_type": "stream",
     "text": [
      "training_dataframe and groups_train loaded.\n"
     ]
    },
    {
     "data": {
      "text/html": [
       "<div>\n",
       "<style scoped>\n",
       "    .dataframe tbody tr th:only-of-type {\n",
       "        vertical-align: middle;\n",
       "    }\n",
       "\n",
       "    .dataframe tbody tr th {\n",
       "        vertical-align: top;\n",
       "    }\n",
       "\n",
       "    .dataframe thead th {\n",
       "        text-align: right;\n",
       "    }\n",
       "</style>\n",
       "<table border=\"1\" class=\"dataframe\">\n",
       "  <thead>\n",
       "    <tr style=\"text-align: right;\">\n",
       "      <th></th>\n",
       "      <th>UserID</th>\n",
       "      <th>ItemID</th>\n",
       "      <th>Label</th>\n",
       "      <th>feature_recommender_count</th>\n",
       "      <th>RP3beta_score</th>\n",
       "      <th>RP3beta_position</th>\n",
       "      <th>P3alpha_score</th>\n",
       "      <th>P3alpha_position</th>\n",
       "      <th>ItemKNNCF_score</th>\n",
       "      <th>ItemKNNCF_position</th>\n",
       "      <th>...</th>\n",
       "      <th>SLIM_BPR_position</th>\n",
       "      <th>Mean_Position</th>\n",
       "      <th>Std_Position</th>\n",
       "      <th>Min_Position</th>\n",
       "      <th>Max_Position</th>\n",
       "      <th>Median_Position</th>\n",
       "      <th>Skew_Position</th>\n",
       "      <th>Kurtosis_Position</th>\n",
       "      <th>item_popularity</th>\n",
       "      <th>user_profile_len</th>\n",
       "    </tr>\n",
       "  </thead>\n",
       "  <tbody>\n",
       "    <tr>\n",
       "      <th>0</th>\n",
       "      <td>0</td>\n",
       "      <td>399.0</td>\n",
       "      <td>False</td>\n",
       "      <td>8</td>\n",
       "      <td>0.581178</td>\n",
       "      <td>7.0</td>\n",
       "      <td>0.778370</td>\n",
       "      <td>8.0</td>\n",
       "      <td>0.755311</td>\n",
       "      <td>3.0</td>\n",
       "      <td>...</td>\n",
       "      <td>1.0</td>\n",
       "      <td>17.416667</td>\n",
       "      <td>23.608390</td>\n",
       "      <td>1.0</td>\n",
       "      <td>68.0</td>\n",
       "      <td>5.0</td>\n",
       "      <td>1.275059</td>\n",
       "      <td>0.097566</td>\n",
       "      <td>0.146779</td>\n",
       "      <td>0.017751</td>\n",
       "    </tr>\n",
       "    <tr>\n",
       "      <th>1</th>\n",
       "      <td>0</td>\n",
       "      <td>11919.0</td>\n",
       "      <td>False</td>\n",
       "      <td>3</td>\n",
       "      <td>0.542788</td>\n",
       "      <td>9.0</td>\n",
       "      <td>0.646533</td>\n",
       "      <td>12.0</td>\n",
       "      <td>0.589193</td>\n",
       "      <td>5.0</td>\n",
       "      <td>...</td>\n",
       "      <td>33.0</td>\n",
       "      <td>26.666667</td>\n",
       "      <td>16.255535</td>\n",
       "      <td>5.0</td>\n",
       "      <td>55.0</td>\n",
       "      <td>31.5</td>\n",
       "      <td>0.143488</td>\n",
       "      <td>-1.172743</td>\n",
       "      <td>0.022175</td>\n",
       "      <td>0.017751</td>\n",
       "    </tr>\n",
       "    <tr>\n",
       "      <th>2</th>\n",
       "      <td>0</td>\n",
       "      <td>11580.0</td>\n",
       "      <td>False</td>\n",
       "      <td>0</td>\n",
       "      <td>0.178666</td>\n",
       "      <td>53.0</td>\n",
       "      <td>0.462638</td>\n",
       "      <td>31.0</td>\n",
       "      <td>0.255366</td>\n",
       "      <td>36.0</td>\n",
       "      <td>...</td>\n",
       "      <td>61.0</td>\n",
       "      <td>39.166667</td>\n",
       "      <td>11.937971</td>\n",
       "      <td>19.0</td>\n",
       "      <td>61.0</td>\n",
       "      <td>37.5</td>\n",
       "      <td>0.226594</td>\n",
       "      <td>-0.589764</td>\n",
       "      <td>0.032735</td>\n",
       "      <td>0.017751</td>\n",
       "    </tr>\n",
       "    <tr>\n",
       "      <th>3</th>\n",
       "      <td>0</td>\n",
       "      <td>11548.0</td>\n",
       "      <td>False</td>\n",
       "      <td>1</td>\n",
       "      <td>0.340908</td>\n",
       "      <td>29.0</td>\n",
       "      <td>0.420580</td>\n",
       "      <td>36.0</td>\n",
       "      <td>0.503183</td>\n",
       "      <td>10.0</td>\n",
       "      <td>...</td>\n",
       "      <td>76.0</td>\n",
       "      <td>40.416667</td>\n",
       "      <td>22.423439</td>\n",
       "      <td>10.0</td>\n",
       "      <td>76.0</td>\n",
       "      <td>36.0</td>\n",
       "      <td>0.230537</td>\n",
       "      <td>-1.154957</td>\n",
       "      <td>0.026399</td>\n",
       "      <td>0.017751</td>\n",
       "    </tr>\n",
       "    <tr>\n",
       "      <th>4</th>\n",
       "      <td>0</td>\n",
       "      <td>11542.0</td>\n",
       "      <td>False</td>\n",
       "      <td>3</td>\n",
       "      <td>0.161270</td>\n",
       "      <td>60.0</td>\n",
       "      <td>0.225839</td>\n",
       "      <td>57.0</td>\n",
       "      <td>0.188274</td>\n",
       "      <td>47.0</td>\n",
       "      <td>...</td>\n",
       "      <td>75.0</td>\n",
       "      <td>39.083333</td>\n",
       "      <td>26.603002</td>\n",
       "      <td>2.0</td>\n",
       "      <td>75.0</td>\n",
       "      <td>52.0</td>\n",
       "      <td>-0.343663</td>\n",
       "      <td>-1.476842</td>\n",
       "      <td>0.038015</td>\n",
       "      <td>0.017751</td>\n",
       "    </tr>\n",
       "    <tr>\n",
       "      <th>...</th>\n",
       "      <td>...</td>\n",
       "      <td>...</td>\n",
       "      <td>...</td>\n",
       "      <td>...</td>\n",
       "      <td>...</td>\n",
       "      <td>...</td>\n",
       "      <td>...</td>\n",
       "      <td>...</td>\n",
       "      <td>...</td>\n",
       "      <td>...</td>\n",
       "      <td>...</td>\n",
       "      <td>...</td>\n",
       "      <td>...</td>\n",
       "      <td>...</td>\n",
       "      <td>...</td>\n",
       "      <td>...</td>\n",
       "      <td>...</td>\n",
       "      <td>...</td>\n",
       "      <td>...</td>\n",
       "      <td>...</td>\n",
       "      <td>...</td>\n",
       "    </tr>\n",
       "    <tr>\n",
       "      <th>2766958</th>\n",
       "      <td>35735</td>\n",
       "      <td>36034.0</td>\n",
       "      <td>False</td>\n",
       "      <td>12</td>\n",
       "      <td>0.999998</td>\n",
       "      <td>1.0</td>\n",
       "      <td>0.999998</td>\n",
       "      <td>1.0</td>\n",
       "      <td>0.917946</td>\n",
       "      <td>3.0</td>\n",
       "      <td>...</td>\n",
       "      <td>1.0</td>\n",
       "      <td>1.750000</td>\n",
       "      <td>0.965307</td>\n",
       "      <td>1.0</td>\n",
       "      <td>4.0</td>\n",
       "      <td>1.5</td>\n",
       "      <td>1.147979</td>\n",
       "      <td>0.424747</td>\n",
       "      <td>0.055966</td>\n",
       "      <td>0.006455</td>\n",
       "    </tr>\n",
       "    <tr>\n",
       "      <th>2766959</th>\n",
       "      <td>35735</td>\n",
       "      <td>36035.0</td>\n",
       "      <td>False</td>\n",
       "      <td>3</td>\n",
       "      <td>0.251446</td>\n",
       "      <td>24.0</td>\n",
       "      <td>0.242228</td>\n",
       "      <td>19.0</td>\n",
       "      <td>0.117250</td>\n",
       "      <td>51.0</td>\n",
       "      <td>...</td>\n",
       "      <td>37.0</td>\n",
       "      <td>22.666667</td>\n",
       "      <td>13.438975</td>\n",
       "      <td>7.0</td>\n",
       "      <td>51.0</td>\n",
       "      <td>21.5</td>\n",
       "      <td>0.648425</td>\n",
       "      <td>-0.399909</td>\n",
       "      <td>0.040127</td>\n",
       "      <td>0.006455</td>\n",
       "    </tr>\n",
       "    <tr>\n",
       "      <th>2766960</th>\n",
       "      <td>35735</td>\n",
       "      <td>36087.0</td>\n",
       "      <td>False</td>\n",
       "      <td>3</td>\n",
       "      <td>0.325917</td>\n",
       "      <td>16.0</td>\n",
       "      <td>0.414023</td>\n",
       "      <td>11.0</td>\n",
       "      <td>0.610776</td>\n",
       "      <td>10.0</td>\n",
       "      <td>...</td>\n",
       "      <td>13.0</td>\n",
       "      <td>19.000000</td>\n",
       "      <td>12.314072</td>\n",
       "      <td>3.0</td>\n",
       "      <td>44.0</td>\n",
       "      <td>15.5</td>\n",
       "      <td>0.960162</td>\n",
       "      <td>-0.101703</td>\n",
       "      <td>0.052798</td>\n",
       "      <td>0.006455</td>\n",
       "    </tr>\n",
       "    <tr>\n",
       "      <th>2766961</th>\n",
       "      <td>35735</td>\n",
       "      <td>34998.0</td>\n",
       "      <td>False</td>\n",
       "      <td>3</td>\n",
       "      <td>0.184845</td>\n",
       "      <td>31.0</td>\n",
       "      <td>0.176172</td>\n",
       "      <td>29.0</td>\n",
       "      <td>0.382324</td>\n",
       "      <td>19.0</td>\n",
       "      <td>...</td>\n",
       "      <td>25.0</td>\n",
       "      <td>18.083333</td>\n",
       "      <td>9.586528</td>\n",
       "      <td>3.0</td>\n",
       "      <td>31.0</td>\n",
       "      <td>19.0</td>\n",
       "      <td>-0.217246</td>\n",
       "      <td>-1.178536</td>\n",
       "      <td>0.040127</td>\n",
       "      <td>0.006455</td>\n",
       "    </tr>\n",
       "    <tr>\n",
       "      <th>2766962</th>\n",
       "      <td>35735</td>\n",
       "      <td>38033.0</td>\n",
       "      <td>False</td>\n",
       "      <td>0</td>\n",
       "      <td>0.000000</td>\n",
       "      <td>65.0</td>\n",
       "      <td>0.109935</td>\n",
       "      <td>43.0</td>\n",
       "      <td>0.108454</td>\n",
       "      <td>54.0</td>\n",
       "      <td>...</td>\n",
       "      <td>65.0</td>\n",
       "      <td>41.916667</td>\n",
       "      <td>15.663846</td>\n",
       "      <td>14.0</td>\n",
       "      <td>65.0</td>\n",
       "      <td>44.0</td>\n",
       "      <td>-0.059697</td>\n",
       "      <td>-0.839068</td>\n",
       "      <td>0.025343</td>\n",
       "      <td>0.006455</td>\n",
       "    </tr>\n",
       "  </tbody>\n",
       "</table>\n",
       "<p>2766963 rows × 37 columns</p>\n",
       "</div>"
      ],
      "text/plain": [
       "         UserID   ItemID  Label  feature_recommender_count  RP3beta_score  \\\n",
       "0             0    399.0  False                          8       0.581178   \n",
       "1             0  11919.0  False                          3       0.542788   \n",
       "2             0  11580.0  False                          0       0.178666   \n",
       "3             0  11548.0  False                          1       0.340908   \n",
       "4             0  11542.0  False                          3       0.161270   \n",
       "...         ...      ...    ...                        ...            ...   \n",
       "2766958   35735  36034.0  False                         12       0.999998   \n",
       "2766959   35735  36035.0  False                          3       0.251446   \n",
       "2766960   35735  36087.0  False                          3       0.325917   \n",
       "2766961   35735  34998.0  False                          3       0.184845   \n",
       "2766962   35735  38033.0  False                          0       0.000000   \n",
       "\n",
       "         RP3beta_position  P3alpha_score  P3alpha_position  ItemKNNCF_score  \\\n",
       "0                     7.0       0.778370               8.0         0.755311   \n",
       "1                     9.0       0.646533              12.0         0.589193   \n",
       "2                    53.0       0.462638              31.0         0.255366   \n",
       "3                    29.0       0.420580              36.0         0.503183   \n",
       "4                    60.0       0.225839              57.0         0.188274   \n",
       "...                   ...            ...               ...              ...   \n",
       "2766958               1.0       0.999998               1.0         0.917946   \n",
       "2766959              24.0       0.242228              19.0         0.117250   \n",
       "2766960              16.0       0.414023              11.0         0.610776   \n",
       "2766961              31.0       0.176172              29.0         0.382324   \n",
       "2766962              65.0       0.109935              43.0         0.108454   \n",
       "\n",
       "         ItemKNNCF_position  ...  SLIM_BPR_position  Mean_Position  \\\n",
       "0                       3.0  ...                1.0      17.416667   \n",
       "1                       5.0  ...               33.0      26.666667   \n",
       "2                      36.0  ...               61.0      39.166667   \n",
       "3                      10.0  ...               76.0      40.416667   \n",
       "4                      47.0  ...               75.0      39.083333   \n",
       "...                     ...  ...                ...            ...   \n",
       "2766958                 3.0  ...                1.0       1.750000   \n",
       "2766959                51.0  ...               37.0      22.666667   \n",
       "2766960                10.0  ...               13.0      19.000000   \n",
       "2766961                19.0  ...               25.0      18.083333   \n",
       "2766962                54.0  ...               65.0      41.916667   \n",
       "\n",
       "         Std_Position  Min_Position  Max_Position  Median_Position  \\\n",
       "0           23.608390           1.0          68.0              5.0   \n",
       "1           16.255535           5.0          55.0             31.5   \n",
       "2           11.937971          19.0          61.0             37.5   \n",
       "3           22.423439          10.0          76.0             36.0   \n",
       "4           26.603002           2.0          75.0             52.0   \n",
       "...               ...           ...           ...              ...   \n",
       "2766958      0.965307           1.0           4.0              1.5   \n",
       "2766959     13.438975           7.0          51.0             21.5   \n",
       "2766960     12.314072           3.0          44.0             15.5   \n",
       "2766961      9.586528           3.0          31.0             19.0   \n",
       "2766962     15.663846          14.0          65.0             44.0   \n",
       "\n",
       "         Skew_Position  Kurtosis_Position  item_popularity  user_profile_len  \n",
       "0             1.275059           0.097566         0.146779          0.017751  \n",
       "1             0.143488          -1.172743         0.022175          0.017751  \n",
       "2             0.226594          -0.589764         0.032735          0.017751  \n",
       "3             0.230537          -1.154957         0.026399          0.017751  \n",
       "4            -0.343663          -1.476842         0.038015          0.017751  \n",
       "...                ...                ...              ...               ...  \n",
       "2766958       1.147979           0.424747         0.055966          0.006455  \n",
       "2766959       0.648425          -0.399909         0.040127          0.006455  \n",
       "2766960       0.960162          -0.101703         0.052798          0.006455  \n",
       "2766961      -0.217246          -1.178536         0.040127          0.006455  \n",
       "2766962      -0.059697          -0.839068         0.025343          0.006455  \n",
       "\n",
       "[2766963 rows x 37 columns]"
      ]
     },
     "metadata": {},
     "output_type": "display_data"
    }
   ],
   "source": [
    "if config[\"tune_parameters\"]:\n",
    "    \n",
    "    if os.path.exists(dataframes_path + f'/training_dataframe_{config[\"model\"]}.parquet'):\n",
    "        training_dataframe = pd.read_parquet(dataframes_path + f'/training_dataframe_{config[\"model\"]}.parquet')\n",
    "        groups_train = training_dataframe.groupby(\"UserID\").size().values\n",
    "        print(\"training_dataframe and groups_train loaded.\")\n",
    "    \n",
    "    else:\n",
    "        print(\"***TRAINING CONTENT GENERATION RECOMMENDERS***\\n\")\n",
    "        candidate_generator_recommenders = fit_recommenders(\"Recall\", \"Train\", URM_train, ICM_all, cg_recommenders, GH_PATH_1, \"cg\", repo, take_kfcv_models=True)\n",
    "    \n",
    "        print(\"***TRAINING FEATURE RECOMMENDERS***\\n\")\n",
    "        features_recommenders = fit_recommenders(\"MAP\", \"Train\", URM_train, ICM_all, f_recommenders, GH_PATH_1, \"f\", repo, take_kfcv_models=True)\n",
    "\n",
    "        print()\n",
    "        training_dataframe, groups_train = create_XGBoost_dataframe(URM_train, candidate_generator_recommenders, features_recommenders, ICM_all, URM_validation, cutoff=50, categorical=config[\"categorical\"], contents=config[\"contents\"])\n",
    "        training_dataframe.to_parquet(f'/kaggle/working/training_dataframe_{config[\"model\"]}.parquet')\n",
    "\n",
    "        del candidate_generator_recommenders, features_recommenders\n",
    "        \n",
    "    display(training_dataframe)\n",
    "\n",
    "    y_train = training_dataframe[\"Label\"]\n",
    "    X_train = training_dataframe.drop(columns=[\"Label\"])\n",
    "\n",
    "    del training_dataframe"
   ]
  },
  {
   "cell_type": "markdown",
   "id": "f6d5a8c5",
   "metadata": {
    "papermill": {
     "duration": 0.02043,
     "end_time": "2025-01-07T14:15:26.336770",
     "exception": false,
     "start_time": "2025-01-07T14:15:26.316340",
     "status": "completed"
    },
    "tags": []
   },
   "source": [
    "## Validation and Testing dataframe building\n",
    "\n",
    "The first dataset excludes the label column since it is used to evaluate the performance of the model with the hyperparameters chosen by Optuna. In contrast, the second dataset includes the label column and is used to train the final model selected by Optuna."
   ]
  },
  {
   "cell_type": "code",
   "execution_count": 20,
   "id": "dcc4226b",
   "metadata": {
    "execution": {
     "iopub.execute_input": "2025-01-07T14:15:26.379408Z",
     "iopub.status.busy": "2025-01-07T14:15:26.379058Z",
     "iopub.status.idle": "2025-01-07T14:15:29.022063Z",
     "shell.execute_reply": "2025-01-07T14:15:29.020662Z"
    },
    "papermill": {
     "duration": 2.666703,
     "end_time": "2025-01-07T14:15:29.024135",
     "exception": false,
     "start_time": "2025-01-07T14:15:26.357432",
     "status": "completed"
    },
    "tags": []
   },
   "outputs": [
    {
     "name": "stdout",
     "output_type": "stream",
     "text": [
      "testing_dataframe and groups_test loaded.\n"
     ]
    },
    {
     "data": {
      "text/html": [
       "<div>\n",
       "<style scoped>\n",
       "    .dataframe tbody tr th:only-of-type {\n",
       "        vertical-align: middle;\n",
       "    }\n",
       "\n",
       "    .dataframe tbody tr th {\n",
       "        vertical-align: top;\n",
       "    }\n",
       "\n",
       "    .dataframe thead th {\n",
       "        text-align: right;\n",
       "    }\n",
       "</style>\n",
       "<table border=\"1\" class=\"dataframe\">\n",
       "  <thead>\n",
       "    <tr style=\"text-align: right;\">\n",
       "      <th></th>\n",
       "      <th>UserID</th>\n",
       "      <th>ItemID</th>\n",
       "      <th>feature_recommender_count</th>\n",
       "      <th>RP3beta_score</th>\n",
       "      <th>RP3beta_position</th>\n",
       "      <th>P3alpha_score</th>\n",
       "      <th>P3alpha_position</th>\n",
       "      <th>ItemKNNCF_score</th>\n",
       "      <th>ItemKNNCF_position</th>\n",
       "      <th>ItemKNNCBF_score</th>\n",
       "      <th>...</th>\n",
       "      <th>SLIM_BPR_position</th>\n",
       "      <th>Mean_Position</th>\n",
       "      <th>Std_Position</th>\n",
       "      <th>Min_Position</th>\n",
       "      <th>Max_Position</th>\n",
       "      <th>Median_Position</th>\n",
       "      <th>Skew_Position</th>\n",
       "      <th>Kurtosis_Position</th>\n",
       "      <th>item_popularity</th>\n",
       "      <th>user_profile_len</th>\n",
       "    </tr>\n",
       "  </thead>\n",
       "  <tbody>\n",
       "    <tr>\n",
       "      <th>0</th>\n",
       "      <td>0</td>\n",
       "      <td>51.0</td>\n",
       "      <td>0</td>\n",
       "      <td>0.434087</td>\n",
       "      <td>29.0</td>\n",
       "      <td>0.559818</td>\n",
       "      <td>12.0</td>\n",
       "      <td>0.477179</td>\n",
       "      <td>19.0</td>\n",
       "      <td>0.000000</td>\n",
       "      <td>...</td>\n",
       "      <td>34.0</td>\n",
       "      <td>47.166667</td>\n",
       "      <td>27.185669</td>\n",
       "      <td>12.0</td>\n",
       "      <td>78.0</td>\n",
       "      <td>41.0</td>\n",
       "      <td>0.011792</td>\n",
       "      <td>-1.686444</td>\n",
       "      <td>0.109336</td>\n",
       "      <td>0.020373</td>\n",
       "    </tr>\n",
       "    <tr>\n",
       "      <th>1</th>\n",
       "      <td>0</td>\n",
       "      <td>11966.0</td>\n",
       "      <td>4</td>\n",
       "      <td>0.622486</td>\n",
       "      <td>12.0</td>\n",
       "      <td>0.509835</td>\n",
       "      <td>19.0</td>\n",
       "      <td>0.800669</td>\n",
       "      <td>4.0</td>\n",
       "      <td>0.000000</td>\n",
       "      <td>...</td>\n",
       "      <td>33.0</td>\n",
       "      <td>18.333333</td>\n",
       "      <td>13.377956</td>\n",
       "      <td>4.0</td>\n",
       "      <td>42.0</td>\n",
       "      <td>14.0</td>\n",
       "      <td>0.650429</td>\n",
       "      <td>-0.957383</td>\n",
       "      <td>0.032801</td>\n",
       "      <td>0.020373</td>\n",
       "    </tr>\n",
       "    <tr>\n",
       "      <th>2</th>\n",
       "      <td>0</td>\n",
       "      <td>11875.0</td>\n",
       "      <td>0</td>\n",
       "      <td>0.178390</td>\n",
       "      <td>63.0</td>\n",
       "      <td>0.134542</td>\n",
       "      <td>62.0</td>\n",
       "      <td>0.261223</td>\n",
       "      <td>44.0</td>\n",
       "      <td>0.000000</td>\n",
       "      <td>...</td>\n",
       "      <td>13.0</td>\n",
       "      <td>45.750000</td>\n",
       "      <td>19.386617</td>\n",
       "      <td>13.0</td>\n",
       "      <td>79.0</td>\n",
       "      <td>43.5</td>\n",
       "      <td>0.057103</td>\n",
       "      <td>-0.792077</td>\n",
       "      <td>0.021026</td>\n",
       "      <td>0.020373</td>\n",
       "    </tr>\n",
       "    <tr>\n",
       "      <th>3</th>\n",
       "      <td>0</td>\n",
       "      <td>11699.0</td>\n",
       "      <td>2</td>\n",
       "      <td>0.000000</td>\n",
       "      <td>80.0</td>\n",
       "      <td>0.211021</td>\n",
       "      <td>52.0</td>\n",
       "      <td>0.285873</td>\n",
       "      <td>42.0</td>\n",
       "      <td>0.312227</td>\n",
       "      <td>...</td>\n",
       "      <td>74.0</td>\n",
       "      <td>40.750000</td>\n",
       "      <td>29.652916</td>\n",
       "      <td>2.0</td>\n",
       "      <td>82.0</td>\n",
       "      <td>41.5</td>\n",
       "      <td>0.114113</td>\n",
       "      <td>-1.486611</td>\n",
       "      <td>0.086627</td>\n",
       "      <td>0.020373</td>\n",
       "    </tr>\n",
       "    <tr>\n",
       "      <th>4</th>\n",
       "      <td>0</td>\n",
       "      <td>11580.0</td>\n",
       "      <td>0</td>\n",
       "      <td>0.000000</td>\n",
       "      <td>79.0</td>\n",
       "      <td>0.360840</td>\n",
       "      <td>27.0</td>\n",
       "      <td>0.000000</td>\n",
       "      <td>70.0</td>\n",
       "      <td>0.000000</td>\n",
       "      <td>...</td>\n",
       "      <td>75.0</td>\n",
       "      <td>51.500000</td>\n",
       "      <td>17.202008</td>\n",
       "      <td>27.0</td>\n",
       "      <td>79.0</td>\n",
       "      <td>46.0</td>\n",
       "      <td>0.386355</td>\n",
       "      <td>-1.248334</td>\n",
       "      <td>0.032801</td>\n",
       "      <td>0.020373</td>\n",
       "    </tr>\n",
       "    <tr>\n",
       "      <th>...</th>\n",
       "      <td>...</td>\n",
       "      <td>...</td>\n",
       "      <td>...</td>\n",
       "      <td>...</td>\n",
       "      <td>...</td>\n",
       "      <td>...</td>\n",
       "      <td>...</td>\n",
       "      <td>...</td>\n",
       "      <td>...</td>\n",
       "      <td>...</td>\n",
       "      <td>...</td>\n",
       "      <td>...</td>\n",
       "      <td>...</td>\n",
       "      <td>...</td>\n",
       "      <td>...</td>\n",
       "      <td>...</td>\n",
       "      <td>...</td>\n",
       "      <td>...</td>\n",
       "      <td>...</td>\n",
       "      <td>...</td>\n",
       "      <td>...</td>\n",
       "    </tr>\n",
       "    <tr>\n",
       "      <th>2730498</th>\n",
       "      <td>35735</td>\n",
       "      <td>36092.0</td>\n",
       "      <td>0</td>\n",
       "      <td>0.258139</td>\n",
       "      <td>25.0</td>\n",
       "      <td>0.159147</td>\n",
       "      <td>33.0</td>\n",
       "      <td>0.114284</td>\n",
       "      <td>44.0</td>\n",
       "      <td>0.000000</td>\n",
       "      <td>...</td>\n",
       "      <td>17.0</td>\n",
       "      <td>31.916667</td>\n",
       "      <td>13.104186</td>\n",
       "      <td>11.0</td>\n",
       "      <td>56.0</td>\n",
       "      <td>33.0</td>\n",
       "      <td>0.190019</td>\n",
       "      <td>-0.726759</td>\n",
       "      <td>0.017662</td>\n",
       "      <td>0.005576</td>\n",
       "    </tr>\n",
       "    <tr>\n",
       "      <th>2730499</th>\n",
       "      <td>35735</td>\n",
       "      <td>36093.0</td>\n",
       "      <td>0</td>\n",
       "      <td>0.119858</td>\n",
       "      <td>43.0</td>\n",
       "      <td>0.092655</td>\n",
       "      <td>45.0</td>\n",
       "      <td>0.191788</td>\n",
       "      <td>30.0</td>\n",
       "      <td>0.271070</td>\n",
       "      <td>...</td>\n",
       "      <td>15.0</td>\n",
       "      <td>35.666667</td>\n",
       "      <td>11.672293</td>\n",
       "      <td>15.0</td>\n",
       "      <td>49.0</td>\n",
       "      <td>40.5</td>\n",
       "      <td>-0.757271</td>\n",
       "      <td>-0.711292</td>\n",
       "      <td>0.038688</td>\n",
       "      <td>0.005576</td>\n",
       "    </tr>\n",
       "    <tr>\n",
       "      <th>2730500</th>\n",
       "      <td>35735</td>\n",
       "      <td>36097.0</td>\n",
       "      <td>0</td>\n",
       "      <td>0.000000</td>\n",
       "      <td>60.0</td>\n",
       "      <td>0.000000</td>\n",
       "      <td>52.0</td>\n",
       "      <td>0.000000</td>\n",
       "      <td>59.0</td>\n",
       "      <td>0.000000</td>\n",
       "      <td>...</td>\n",
       "      <td>55.0</td>\n",
       "      <td>56.166667</td>\n",
       "      <td>5.556869</td>\n",
       "      <td>46.0</td>\n",
       "      <td>63.0</td>\n",
       "      <td>57.0</td>\n",
       "      <td>-0.481366</td>\n",
       "      <td>-0.844568</td>\n",
       "      <td>0.031119</td>\n",
       "      <td>0.005576</td>\n",
       "    </tr>\n",
       "    <tr>\n",
       "      <th>2730501</th>\n",
       "      <td>35735</td>\n",
       "      <td>36321.0</td>\n",
       "      <td>1</td>\n",
       "      <td>0.000000</td>\n",
       "      <td>61.0</td>\n",
       "      <td>0.108260</td>\n",
       "      <td>39.0</td>\n",
       "      <td>0.164294</td>\n",
       "      <td>36.0</td>\n",
       "      <td>0.182125</td>\n",
       "      <td>...</td>\n",
       "      <td>24.0</td>\n",
       "      <td>34.083333</td>\n",
       "      <td>16.228249</td>\n",
       "      <td>7.0</td>\n",
       "      <td>61.0</td>\n",
       "      <td>36.0</td>\n",
       "      <td>0.016858</td>\n",
       "      <td>-0.766570</td>\n",
       "      <td>0.114382</td>\n",
       "      <td>0.005576</td>\n",
       "    </tr>\n",
       "    <tr>\n",
       "      <th>2730502</th>\n",
       "      <td>35735</td>\n",
       "      <td>38033.0</td>\n",
       "      <td>0</td>\n",
       "      <td>0.000000</td>\n",
       "      <td>64.0</td>\n",
       "      <td>0.000000</td>\n",
       "      <td>64.0</td>\n",
       "      <td>0.077983</td>\n",
       "      <td>50.0</td>\n",
       "      <td>0.254875</td>\n",
       "      <td>...</td>\n",
       "      <td>64.0</td>\n",
       "      <td>39.833333</td>\n",
       "      <td>17.377275</td>\n",
       "      <td>16.0</td>\n",
       "      <td>64.0</td>\n",
       "      <td>34.0</td>\n",
       "      <td>0.330212</td>\n",
       "      <td>-1.326921</td>\n",
       "      <td>0.024390</td>\n",
       "      <td>0.005576</td>\n",
       "    </tr>\n",
       "  </tbody>\n",
       "</table>\n",
       "<p>2730503 rows × 36 columns</p>\n",
       "</div>"
      ],
      "text/plain": [
       "         UserID   ItemID  feature_recommender_count  RP3beta_score  \\\n",
       "0             0     51.0                          0       0.434087   \n",
       "1             0  11966.0                          4       0.622486   \n",
       "2             0  11875.0                          0       0.178390   \n",
       "3             0  11699.0                          2       0.000000   \n",
       "4             0  11580.0                          0       0.000000   \n",
       "...         ...      ...                        ...            ...   \n",
       "2730498   35735  36092.0                          0       0.258139   \n",
       "2730499   35735  36093.0                          0       0.119858   \n",
       "2730500   35735  36097.0                          0       0.000000   \n",
       "2730501   35735  36321.0                          1       0.000000   \n",
       "2730502   35735  38033.0                          0       0.000000   \n",
       "\n",
       "         RP3beta_position  P3alpha_score  P3alpha_position  ItemKNNCF_score  \\\n",
       "0                    29.0       0.559818              12.0         0.477179   \n",
       "1                    12.0       0.509835              19.0         0.800669   \n",
       "2                    63.0       0.134542              62.0         0.261223   \n",
       "3                    80.0       0.211021              52.0         0.285873   \n",
       "4                    79.0       0.360840              27.0         0.000000   \n",
       "...                   ...            ...               ...              ...   \n",
       "2730498              25.0       0.159147              33.0         0.114284   \n",
       "2730499              43.0       0.092655              45.0         0.191788   \n",
       "2730500              60.0       0.000000              52.0         0.000000   \n",
       "2730501              61.0       0.108260              39.0         0.164294   \n",
       "2730502              64.0       0.000000              64.0         0.077983   \n",
       "\n",
       "         ItemKNNCF_position  ItemKNNCBF_score  ...  SLIM_BPR_position  \\\n",
       "0                      19.0          0.000000  ...               34.0   \n",
       "1                       4.0          0.000000  ...               33.0   \n",
       "2                      44.0          0.000000  ...               13.0   \n",
       "3                      42.0          0.312227  ...               74.0   \n",
       "4                      70.0          0.000000  ...               75.0   \n",
       "...                     ...               ...  ...                ...   \n",
       "2730498                44.0          0.000000  ...               17.0   \n",
       "2730499                30.0          0.271070  ...               15.0   \n",
       "2730500                59.0          0.000000  ...               55.0   \n",
       "2730501                36.0          0.182125  ...               24.0   \n",
       "2730502                50.0          0.254875  ...               64.0   \n",
       "\n",
       "         Mean_Position  Std_Position  Min_Position  Max_Position  \\\n",
       "0            47.166667     27.185669          12.0          78.0   \n",
       "1            18.333333     13.377956           4.0          42.0   \n",
       "2            45.750000     19.386617          13.0          79.0   \n",
       "3            40.750000     29.652916           2.0          82.0   \n",
       "4            51.500000     17.202008          27.0          79.0   \n",
       "...                ...           ...           ...           ...   \n",
       "2730498      31.916667     13.104186          11.0          56.0   \n",
       "2730499      35.666667     11.672293          15.0          49.0   \n",
       "2730500      56.166667      5.556869          46.0          63.0   \n",
       "2730501      34.083333     16.228249           7.0          61.0   \n",
       "2730502      39.833333     17.377275          16.0          64.0   \n",
       "\n",
       "         Median_Position  Skew_Position  Kurtosis_Position  item_popularity  \\\n",
       "0                   41.0       0.011792          -1.686444         0.109336   \n",
       "1                   14.0       0.650429          -0.957383         0.032801   \n",
       "2                   43.5       0.057103          -0.792077         0.021026   \n",
       "3                   41.5       0.114113          -1.486611         0.086627   \n",
       "4                   46.0       0.386355          -1.248334         0.032801   \n",
       "...                  ...            ...                ...              ...   \n",
       "2730498             33.0       0.190019          -0.726759         0.017662   \n",
       "2730499             40.5      -0.757271          -0.711292         0.038688   \n",
       "2730500             57.0      -0.481366          -0.844568         0.031119   \n",
       "2730501             36.0       0.016858          -0.766570         0.114382   \n",
       "2730502             34.0       0.330212          -1.326921         0.024390   \n",
       "\n",
       "         user_profile_len  \n",
       "0                0.020373  \n",
       "1                0.020373  \n",
       "2                0.020373  \n",
       "3                0.020373  \n",
       "4                0.020373  \n",
       "...                   ...  \n",
       "2730498          0.005576  \n",
       "2730499          0.005576  \n",
       "2730500          0.005576  \n",
       "2730501          0.005576  \n",
       "2730502          0.005576  \n",
       "\n",
       "[2730503 rows x 36 columns]"
      ]
     },
     "metadata": {},
     "output_type": "display_data"
    }
   ],
   "source": [
    "if config[\"tune_parameters\"] or config[\"tune_best_params\"]:\n",
    "    \n",
    "    if os.path.exists(dataframes_path + f'/testing_dataframe_{config[\"model\"]}.parquet' ):\n",
    "        testing_dataframe = pd.read_parquet(dataframes_path + f'/testing_dataframe_{config[\"model\"]}.parquet')\n",
    "        groups_test = testing_dataframe.groupby(\"UserID\").size().values\n",
    "        print(\"testing_dataframe and groups_test loaded.\")\n",
    "    \n",
    "    else:\n",
    "\n",
    "        print(\"***TRAINING CONTENT GENERATION RECOMMENDERS***\\n\")\n",
    "        candidate_generator_recommenders = fit_recommenders(\"Recall\", \"TrainVal\", URM_train + URM_validation, ICM_all, cg_recommenders, GH_PATH_1, \"cg\", repo, take_kfcv_models=True)\n",
    "\n",
    "        print(\"***TRAINING FEATURE RECOMMENDERS***\\n\")\n",
    "        features_recommenders = fit_recommenders(\"MAP\", \"TrainVal\", URM_train + URM_validation, ICM_all, f_recommenders, GH_PATH_1, \"f\", repo, take_kfcv_models=True)\n",
    "\n",
    "        print()\n",
    "        testing_dataframe, groups_test = create_XGBoost_dataframe(URM_train + URM_validation, candidate_generator_recommenders, features_recommenders, ICM_all, URM_test, cutoff=50, categorical=config[\"categorical\"], contents=config[\"contents\"])\n",
    "        testing_dataframe.to_parquet(f'/kaggle/working/testing_dataframe_{config[\"model\"]}.parquet')\n",
    "\n",
    "        del candidate_generator_recommenders, features_recommenders\n",
    "\n",
    "    if config[\"tune_parameters\"]:\n",
    "        validation_dataframe = testing_dataframe.drop(columns=[\"Label\"])\n",
    "        display(validation_dataframe)"
   ]
  },
  {
   "cell_type": "markdown",
   "id": "67232e40",
   "metadata": {
    "papermill": {
     "duration": 0.021457,
     "end_time": "2025-01-07T14:15:29.068776",
     "exception": false,
     "start_time": "2025-01-07T14:15:29.047319",
     "status": "completed"
    },
    "tags": []
   },
   "source": [
    "## XGBoost training\n",
    "Let's train XGBoost to rerank those prediction using as lable whether they should be recommended or not."
   ]
  },
  {
   "cell_type": "code",
   "execution_count": 21,
   "id": "b0fba8fd",
   "metadata": {
    "execution": {
     "iopub.execute_input": "2025-01-07T14:15:29.113405Z",
     "iopub.status.busy": "2025-01-07T14:15:29.113068Z",
     "iopub.status.idle": "2025-01-07T14:15:29.122995Z",
     "shell.execute_reply": "2025-01-07T14:15:29.121840Z"
    },
    "papermill": {
     "duration": 0.034751,
     "end_time": "2025-01-07T14:15:29.124953",
     "exception": false,
     "start_time": "2025-01-07T14:15:29.090202",
     "status": "completed"
    },
    "tags": []
   },
   "outputs": [],
   "source": [
    "from Recommenders.XGBoost.XGBoostRankerRecommender import XGBoostRankerRecommender\n",
    "from timeout_decorator.timeout_decorator import TimeoutError\n",
    "\n",
    "@timeout_decorator.timeout(1800, timeout_exception=optuna.TrialPruned, use_signals=False)\n",
    "def objective_function_XGBoostRanker(optuna_trial):\n",
    "    \n",
    "    recommender_instance = XGBoostRankerRecommender(URM_train + URM_validation, X_train, y_train, validation_dataframe)\n",
    "\n",
    "    full_hyperp = {\n",
    "            \"n_estimators\": optuna_trial.suggest_int(\"n_estimators\", 50, 500),\n",
    "            \"learning_rate\": optuna_trial.suggest_float(\"learning_rate\", 1e-4, 0.3, log=True),\n",
    "            \"reg_alpha\": optuna_trial.suggest_float(\"reg_alpha\", 1e-4, 1.0, log=True),\n",
    "            \"reg_lambda\": optuna_trial.suggest_float(\"reg_lambda\", 1e-4, 1.0, log=True),\n",
    "            \"max_depth\": optuna_trial.suggest_int(\"max_depth\", 3, 7),\n",
    "            \"max_leaves\": optuna_trial.suggest_int(\"max_leaves\", 2, 128),\n",
    "            \"grow_policy\": optuna_trial.suggest_categorical(\"grow_policy\", [\"depthwise\", \"lossguide\"]),\n",
    "            \"booster\": optuna_trial.suggest_categorical(\"booster\", [\"gbtree\", \"dart\"]),\n",
    "            # \"tree_method\": optuna_trial.suggest_categorical(\"tree_method\", [\"hist\", \"gpu_hist\", \"approx\"]),\n",
    "            \"tree_method\": \"hist\",\n",
    "            \"objective\": optuna_trial.suggest_categorical(\"objective\", [\"map\", \"pairwise\", \"ndcg\"])\n",
    "        }\n",
    "\n",
    "    recommender_instance.fit(\n",
    "        groups_train,\n",
    "        **full_hyperp\n",
    "    )\n",
    "\n",
    "    result_df, _ = evaluator_test.evaluateRecommender(recommender_instance)\n",
    "    \n",
    "    return result_df.loc[10][\"MAP\"]"
   ]
  },
  {
   "cell_type": "code",
   "execution_count": 22,
   "id": "0a20a9ed",
   "metadata": {
    "execution": {
     "iopub.execute_input": "2025-01-07T14:15:29.171219Z",
     "iopub.status.busy": "2025-01-07T14:15:29.170821Z",
     "iopub.status.idle": "2025-01-07T19:19:12.838130Z",
     "shell.execute_reply": "2025-01-07T19:19:12.836299Z"
    },
    "papermill": {
     "duration": 18223.695147,
     "end_time": "2025-01-07T19:19:12.841678",
     "exception": false,
     "start_time": "2025-01-07T14:15:29.146531",
     "status": "completed"
    },
    "tags": []
   },
   "outputs": [
    {
     "name": "stderr",
     "output_type": "stream",
     "text": [
      "[I 2025-01-07 14:15:29,231] A new study created in RDB with name: hyperparameters_tuning_XGBoostNoCont_MAP\n"
     ]
    },
    {
     "name": "stdout",
     "output_type": "stream",
     "text": [
      "EvaluatorHoldout: Processed 26000 (73.0%) in 5.05 min. Users per second: 86\n",
      "EvaluatorHoldout: Processed 35595 (100.0%) in 6.89 min. Users per second: 86\n"
     ]
    },
    {
     "name": "stderr",
     "output_type": "stream",
     "text": [
      "[I 2025-01-07 14:25:05,292] Trial 0 finished with value: 0.060591021790556567 and parameters: {'n_estimators': 273, 'learning_rate': 0.001275119127397485, 'reg_alpha': 0.00048298652901912107, 'reg_lambda': 0.046240862938055946, 'max_depth': 6, 'max_leaves': 21, 'grow_policy': 'lossguide', 'booster': 'gbtree', 'objective': 'pairwise'}. Best is trial 0 with value: 0.060591021790556567.\n",
      "[I 2025-01-07 14:55:05,387] Trial 1 pruned. \n"
     ]
    },
    {
     "name": "stdout",
     "output_type": "stream",
     "text": [
      "EvaluatorHoldout: Processed 27000 (75.9%) in 5.17 min. Users per second: 87\n",
      "EvaluatorHoldout: Processed 35595 (100.0%) in 6.82 min. Users per second: 87\n"
     ]
    },
    {
     "name": "stderr",
     "output_type": "stream",
     "text": [
      "[I 2025-01-07 15:03:42,452] Trial 2 finished with value: 0.06165651386742634 and parameters: {'n_estimators': 137, 'learning_rate': 0.01701323174655159, 'reg_alpha': 0.01311671005485114, 'reg_lambda': 0.0003834872201383148, 'max_depth': 7, 'max_leaves': 73, 'grow_policy': 'lossguide', 'booster': 'gbtree', 'objective': 'map'}. Best is trial 2 with value: 0.06165651386742634.\n"
     ]
    },
    {
     "name": "stdout",
     "output_type": "stream",
     "text": [
      "EvaluatorHoldout: Processed 27000 (75.9%) in 5.04 min. Users per second: 89\n",
      "EvaluatorHoldout: Processed 35595 (100.0%) in 6.65 min. Users per second: 89\n"
     ]
    },
    {
     "name": "stderr",
     "output_type": "stream",
     "text": [
      "[I 2025-01-07 15:11:40,081] Trial 3 finished with value: 0.06004405715088243 and parameters: {'n_estimators': 134, 'learning_rate': 0.003318784946660437, 'reg_alpha': 0.00013753713837507994, 'reg_lambda': 0.2902944268546526, 'max_depth': 7, 'max_leaves': 10, 'grow_policy': 'lossguide', 'booster': 'gbtree', 'objective': 'pairwise'}. Best is trial 2 with value: 0.06165651386742634.\n"
     ]
    },
    {
     "name": "stdout",
     "output_type": "stream",
     "text": [
      "EvaluatorHoldout: Processed 27000 (75.9%) in 5.15 min. Users per second: 87\n",
      "EvaluatorHoldout: Processed 35595 (100.0%) in 6.79 min. Users per second: 87\n"
     ]
    },
    {
     "name": "stderr",
     "output_type": "stream",
     "text": [
      "[I 2025-01-07 15:21:33,154] Trial 4 finished with value: 0.060991628706544655 and parameters: {'n_estimators': 335, 'learning_rate': 0.0011603753713954022, 'reg_alpha': 0.007644453189287747, 'reg_lambda': 0.07295879690855014, 'max_depth': 4, 'max_leaves': 90, 'grow_policy': 'depthwise', 'booster': 'gbtree', 'objective': 'map'}. Best is trial 2 with value: 0.06165651386742634.\n"
     ]
    },
    {
     "name": "stdout",
     "output_type": "stream",
     "text": [
      "EvaluatorHoldout: Processed 27000 (75.9%) in 5.13 min. Users per second: 88\n",
      "EvaluatorHoldout: Processed 35595 (100.0%) in 6.80 min. Users per second: 87\n"
     ]
    },
    {
     "name": "stderr",
     "output_type": "stream",
     "text": [
      "[I 2025-01-07 15:30:05,917] Trial 5 finished with value: 0.06231455171383333 and parameters: {'n_estimators': 195, 'learning_rate': 0.13661573476869773, 'reg_alpha': 0.008907954373423215, 'reg_lambda': 0.3111683511606811, 'max_depth': 7, 'max_leaves': 32, 'grow_policy': 'lossguide', 'booster': 'gbtree', 'objective': 'pairwise'}. Best is trial 5 with value: 0.06231455171383333.\n",
      "[I 2025-01-07 16:00:06,020] Trial 6 pruned. \n"
     ]
    },
    {
     "name": "stdout",
     "output_type": "stream",
     "text": [
      "EvaluatorHoldout: Processed 28000 (78.7%) in 5.15 min. Users per second: 91\n",
      "EvaluatorHoldout: Processed 35595 (100.0%) in 6.56 min. Users per second: 90\n"
     ]
    },
    {
     "name": "stderr",
     "output_type": "stream",
     "text": [
      "[I 2025-01-07 16:08:11,973] Trial 7 finished with value: 0.06077453918309178 and parameters: {'n_estimators': 136, 'learning_rate': 0.000421405146722748, 'reg_alpha': 0.001843886986867516, 'reg_lambda': 0.005941401899475446, 'max_depth': 5, 'max_leaves': 58, 'grow_policy': 'depthwise', 'booster': 'gbtree', 'objective': 'map'}. Best is trial 5 with value: 0.06231455171383333.\n",
      "[I 2025-01-07 16:38:12,069] Trial 8 pruned. \n"
     ]
    },
    {
     "name": "stdout",
     "output_type": "stream",
     "text": [
      "EvaluatorHoldout: Processed 28000 (78.7%) in 5.18 min. Users per second: 90\n",
      "EvaluatorHoldout: Processed 35595 (100.0%) in 6.57 min. Users per second: 90\n"
     ]
    },
    {
     "name": "stderr",
     "output_type": "stream",
     "text": [
      "[I 2025-01-07 16:45:26,395] Trial 9 finished with value: 0.05694773989569415 and parameters: {'n_estimators': 59, 'learning_rate': 0.00014975882523066963, 'reg_alpha': 0.00905256095516463, 'reg_lambda': 0.5873434404125271, 'max_depth': 3, 'max_leaves': 6, 'grow_policy': 'depthwise', 'booster': 'gbtree', 'objective': 'ndcg'}. Best is trial 5 with value: 0.06231455171383333.\n",
      "[I 2025-01-07 17:15:26,495] Trial 10 pruned. \n"
     ]
    },
    {
     "name": "stdout",
     "output_type": "stream",
     "text": [
      "EvaluatorHoldout: Processed 26000 (73.0%) in 5.12 min. Users per second: 85\n",
      "EvaluatorHoldout: Processed 35595 (100.0%) in 6.96 min. Users per second: 85\n"
     ]
    },
    {
     "name": "stderr",
     "output_type": "stream",
     "text": [
      "[I 2025-01-07 17:25:14,087] Trial 11 finished with value: 0.062134672026789656 and parameters: {'n_estimators': 255, 'learning_rate': 0.03893712815266032, 'reg_alpha': 0.031483145595850755, 'reg_lambda': 0.0008360431161851846, 'max_depth': 7, 'max_leaves': 49, 'grow_policy': 'lossguide', 'booster': 'gbtree', 'objective': 'map'}. Best is trial 5 with value: 0.06231455171383333.\n"
     ]
    },
    {
     "name": "stdout",
     "output_type": "stream",
     "text": [
      "EvaluatorHoldout: Processed 27000 (75.9%) in 5.17 min. Users per second: 87\n",
      "EvaluatorHoldout: Processed 35595 (100.0%) in 6.81 min. Users per second: 87\n"
     ]
    },
    {
     "name": "stderr",
     "output_type": "stream",
     "text": [
      "[I 2025-01-07 17:34:11,801] Trial 12 finished with value: 0.060655015529644814 and parameters: {'n_estimators': 247, 'learning_rate': 0.1756370804940665, 'reg_alpha': 0.046235371461279914, 'reg_lambda': 0.0011964401957687719, 'max_depth': 7, 'max_leaves': 37, 'grow_policy': 'lossguide', 'booster': 'gbtree', 'objective': 'map'}. Best is trial 5 with value: 0.06231455171383333.\n"
     ]
    },
    {
     "name": "stdout",
     "output_type": "stream",
     "text": [
      "EvaluatorHoldout: Processed 25000 (70.2%) in 5.04 min. Users per second: 83\n",
      "EvaluatorHoldout: Processed 35595 (100.0%) in 7.16 min. Users per second: 83\n"
     ]
    },
    {
     "name": "stderr",
     "output_type": "stream",
     "text": [
      "[I 2025-01-07 17:44:44,452] Trial 13 finished with value: 0.061875011427053456 and parameters: {'n_estimators': 347, 'learning_rate': 0.06035601948620443, 'reg_alpha': 0.04693699599464876, 'reg_lambda': 0.000990165178292234, 'max_depth': 7, 'max_leaves': 46, 'grow_policy': 'lossguide', 'booster': 'gbtree', 'objective': 'map'}. Best is trial 5 with value: 0.06231455171383333.\n"
     ]
    },
    {
     "name": "stdout",
     "output_type": "stream",
     "text": [
      "EvaluatorHoldout: Processed 27000 (75.9%) in 5.17 min. Users per second: 87\n",
      "EvaluatorHoldout: Processed 35595 (100.0%) in 6.82 min. Users per second: 87\n"
     ]
    },
    {
     "name": "stderr",
     "output_type": "stream",
     "text": [
      "[I 2025-01-07 17:53:46,936] Trial 14 finished with value: 0.06235234237909971 and parameters: {'n_estimators': 220, 'learning_rate': 0.06549526488113767, 'reg_alpha': 0.23813740302747033, 'reg_lambda': 0.1314026737638433, 'max_depth': 6, 'max_leaves': 29, 'grow_policy': 'lossguide', 'booster': 'gbtree', 'objective': 'ndcg'}. Best is trial 14 with value: 0.06235234237909971.\n"
     ]
    },
    {
     "name": "stdout",
     "output_type": "stream",
     "text": [
      "EvaluatorHoldout: Processed 27000 (75.9%) in 5.07 min. Users per second: 89\n",
      "EvaluatorHoldout: Processed 35595 (100.0%) in 6.66 min. Users per second: 89\n"
     ]
    },
    {
     "name": "stderr",
     "output_type": "stream",
     "text": [
      "[I 2025-01-07 18:01:15,379] Trial 15 finished with value: 0.06208293477994094 and parameters: {'n_estimators': 61, 'learning_rate': 0.08348670532768288, 'reg_alpha': 0.5461255777286406, 'reg_lambda': 0.17164266502694428, 'max_depth': 6, 'max_leaves': 27, 'grow_policy': 'lossguide', 'booster': 'gbtree', 'objective': 'ndcg'}. Best is trial 14 with value: 0.06235234237909971.\n"
     ]
    },
    {
     "name": "stdout",
     "output_type": "stream",
     "text": [
      "EvaluatorHoldout: Processed 26000 (73.0%) in 5.01 min. Users per second: 86\n",
      "EvaluatorHoldout: Processed 35595 (100.0%) in 6.86 min. Users per second: 87\n"
     ]
    },
    {
     "name": "stderr",
     "output_type": "stream",
     "text": [
      "[I 2025-01-07 18:10:33,298] Trial 16 finished with value: 0.061930520159553304 and parameters: {'n_estimators': 219, 'learning_rate': 0.01599205749678421, 'reg_alpha': 0.1707149542991216, 'reg_lambda': 0.8331084638773835, 'max_depth': 6, 'max_leaves': 28, 'grow_policy': 'lossguide', 'booster': 'gbtree', 'objective': 'ndcg'}. Best is trial 14 with value: 0.06235234237909971.\n"
     ]
    },
    {
     "name": "stdout",
     "output_type": "stream",
     "text": [
      "EvaluatorHoldout: Processed 26000 (73.0%) in 5.03 min. Users per second: 86\n",
      "EvaluatorHoldout: Processed 35595 (100.0%) in 6.87 min. Users per second: 86\n"
     ]
    },
    {
     "name": "stderr",
     "output_type": "stream",
     "text": [
      "[I 2025-01-07 18:20:09,698] Trial 17 finished with value: 0.062195350247602844 and parameters: {'n_estimators': 320, 'learning_rate': 0.12671081010104268, 'reg_alpha': 0.0024554874738869303, 'reg_lambda': 0.08853873987802395, 'max_depth': 5, 'max_leaves': 60, 'grow_policy': 'lossguide', 'booster': 'gbtree', 'objective': 'ndcg'}. Best is trial 14 with value: 0.06235234237909971.\n",
      "[I 2025-01-07 18:50:09,792] Trial 18 pruned. \n"
     ]
    },
    {
     "name": "stdout",
     "output_type": "stream",
     "text": [
      "EvaluatorHoldout: Processed 27000 (75.9%) in 5.18 min. Users per second: 87\n",
      "EvaluatorHoldout: Processed 35595 (100.0%) in 6.83 min. Users per second: 87\n"
     ]
    },
    {
     "name": "stderr",
     "output_type": "stream",
     "text": [
      "[I 2025-01-07 19:00:14,456] Trial 19 finished with value: 0.060564165423623945 and parameters: {'n_estimators': 431, 'learning_rate': 0.289684059142053, 'reg_alpha': 0.003794132902879148, 'reg_lambda': 0.2947055714573999, 'max_depth': 6, 'max_leaves': 21, 'grow_policy': 'lossguide', 'booster': 'gbtree', 'objective': 'ndcg'}. Best is trial 14 with value: 0.06235234237909971.\n"
     ]
    },
    {
     "name": "stdout",
     "output_type": "stream",
     "text": [
      "EvaluatorHoldout: Processed 27000 (75.9%) in 5.13 min. Users per second: 88\n",
      "EvaluatorHoldout: Processed 35595 (100.0%) in 6.76 min. Users per second: 88\n"
     ]
    },
    {
     "name": "stderr",
     "output_type": "stream",
     "text": [
      "[I 2025-01-07 19:09:43,806] Trial 20 finished with value: 0.060865402667128525 and parameters: {'n_estimators': 293, 'learning_rate': 0.006362028400443667, 'reg_alpha': 0.9590110506717574, 'reg_lambda': 0.03515168433147676, 'max_depth': 4, 'max_leaves': 37, 'grow_policy': 'lossguide', 'booster': 'gbtree', 'objective': 'ndcg'}. Best is trial 14 with value: 0.06235234237909971.\n"
     ]
    },
    {
     "name": "stdout",
     "output_type": "stream",
     "text": [
      "EvaluatorHoldout: Processed 27000 (75.9%) in 5.17 min. Users per second: 87\n",
      "EvaluatorHoldout: Processed 35595 (100.0%) in 6.83 min. Users per second: 87\n"
     ]
    },
    {
     "name": "stderr",
     "output_type": "stream",
     "text": [
      "[I 2025-01-07 19:19:12,828] Trial 21 finished with value: 0.06243823035605397 and parameters: {'n_estimators': 300, 'learning_rate': 0.08755207370190422, 'reg_alpha': 0.0007986102264876907, 'reg_lambda': 0.12459053271910413, 'max_depth': 5, 'max_leaves': 60, 'grow_policy': 'lossguide', 'booster': 'gbtree', 'objective': 'ndcg'}. Best is trial 21 with value: 0.06243823035605397.\n"
     ]
    }
   ],
   "source": [
    "if config['tune_parameters']:\n",
    "    \n",
    "    optuna_study = optuna.create_study(direction='maximize', study_name=f'hyperparameters_tuning_{config[\"model\"]}_{config[\"metric\"]}',\n",
    "                                storage=f'sqlite:///{config[\"database_path\"]}', load_if_exists=True)\n",
    "\n",
    "    optuna_study.optimize(objective_function_XGBoostRanker, timeout=3600 * 5)"
   ]
  },
  {
   "cell_type": "markdown",
   "id": "9c034bce",
   "metadata": {
    "papermill": {
     "duration": 0.028124,
     "end_time": "2025-01-07T19:19:12.899549",
     "exception": false,
     "start_time": "2025-01-07T19:19:12.871425",
     "status": "completed"
    },
    "tags": []
   },
   "source": [
    "Check whether a better value was found in the new tuning performed to avoid repetitive tuning."
   ]
  },
  {
   "cell_type": "code",
   "execution_count": 23,
   "id": "1cbf984f",
   "metadata": {
    "execution": {
     "iopub.execute_input": "2025-01-07T19:19:12.959484Z",
     "iopub.status.busy": "2025-01-07T19:19:12.959064Z",
     "iopub.status.idle": "2025-01-07T19:19:12.974161Z",
     "shell.execute_reply": "2025-01-07T19:19:12.973002Z"
    },
    "papermill": {
     "duration": 0.049916,
     "end_time": "2025-01-07T19:19:12.976382",
     "exception": false,
     "start_time": "2025-01-07T19:19:12.926466",
     "status": "completed"
    },
    "tags": []
   },
   "outputs": [],
   "source": [
    "if config[\"tune_parameters\"] and optuna_study.best_trial.value <= best_saved_value:\n",
    "    config[\"tune_best_params\"] = False\n",
    "    print(\"Best trial value didn't improve during last new training.\")"
   ]
  },
  {
   "cell_type": "markdown",
   "id": "f7471621",
   "metadata": {
    "papermill": {
     "duration": 0.026601,
     "end_time": "2025-01-07T19:19:13.030486",
     "exception": false,
     "start_time": "2025-01-07T19:19:13.003885",
     "status": "completed"
    },
    "tags": []
   },
   "source": [
    "### Some optuna visualizations on recommender parameters"
   ]
  },
  {
   "cell_type": "code",
   "execution_count": 24,
   "id": "5e42d26b",
   "metadata": {
    "execution": {
     "iopub.execute_input": "2025-01-07T19:19:13.087606Z",
     "iopub.status.busy": "2025-01-07T19:19:13.087189Z",
     "iopub.status.idle": "2025-01-07T19:19:14.356195Z",
     "shell.execute_reply": "2025-01-07T19:19:14.354817Z"
    },
    "papermill": {
     "duration": 1.299514,
     "end_time": "2025-01-07T19:19:14.358319",
     "exception": false,
     "start_time": "2025-01-07T19:19:13.058805",
     "status": "completed"
    },
    "tags": []
   },
   "outputs": [
    {
     "data": {
      "text/html": [
       "<html>\n",
       "<head><meta charset=\"utf-8\" /></head>\n",
       "<body>\n",
       "    <div>            <script src=\"https://cdnjs.cloudflare.com/ajax/libs/mathjax/2.7.5/MathJax.js?config=TeX-AMS-MML_SVG\"></script><script type=\"text/javascript\">if (window.MathJax && window.MathJax.Hub && window.MathJax.Hub.Config) {window.MathJax.Hub.Config({SVG: {font: \"STIX-Web\"}});}</script>                <script type=\"text/javascript\">window.PlotlyConfig = {MathJaxConfig: 'local'};</script>\n",
       "        <script charset=\"utf-8\" src=\"https://cdn.plot.ly/plotly-2.35.2.min.js\"></script>                <div id=\"74741d75-f8ed-477d-acbc-8c3f6e4c8452\" class=\"plotly-graph-div\" style=\"height:525px; width:2700px;\"></div>            <script type=\"text/javascript\">                                    window.PLOTLYENV=window.PLOTLYENV || {};                                    if (document.getElementById(\"74741d75-f8ed-477d-acbc-8c3f6e4c8452\")) {                    Plotly.newPlot(                        \"74741d75-f8ed-477d-acbc-8c3f6e4c8452\",                        [{\"marker\":{\"color\":[0,2,3,4,5,7,9,11,12,13,14,15,16,17,19,20,21],\"colorbar\":{\"title\":{\"text\":\"Trial\"},\"x\":1.0,\"xpad\":40},\"colorscale\":[[0.0,\"rgb(247,251,255)\"],[0.125,\"rgb(222,235,247)\"],[0.25,\"rgb(198,219,239)\"],[0.375,\"rgb(158,202,225)\"],[0.5,\"rgb(107,174,214)\"],[0.625,\"rgb(66,146,198)\"],[0.75,\"rgb(33,113,181)\"],[0.875,\"rgb(8,81,156)\"],[1.0,\"rgb(8,48,107)\"]],\"line\":{\"color\":\"Grey\",\"width\":0.5},\"showscale\":true},\"mode\":\"markers\",\"name\":\"Feasible Trial\",\"showlegend\":false,\"x\":[\"gbtree\",\"gbtree\",\"gbtree\",\"gbtree\",\"gbtree\",\"gbtree\",\"gbtree\",\"gbtree\",\"gbtree\",\"gbtree\",\"gbtree\",\"gbtree\",\"gbtree\",\"gbtree\",\"gbtree\",\"gbtree\",\"gbtree\"],\"y\":[0.060591021790556567,0.06165651386742634,0.06004405715088243,0.060991628706544655,0.06231455171383333,0.06077453918309178,0.05694773989569415,0.062134672026789656,0.060655015529644814,0.061875011427053456,0.06235234237909971,0.06208293477994094,0.061930520159553304,0.062195350247602844,0.060564165423623945,0.060865402667128525,0.06243823035605397],\"type\":\"scatter\",\"xaxis\":\"x\",\"yaxis\":\"y\"},{\"marker\":{\"color\":[0,2,3,4,5,7,9,11,12,13,14,15,16,17,19,20,21],\"colorbar\":{\"title\":{\"text\":\"Trial\"},\"x\":1.0,\"xpad\":40},\"colorscale\":[[0.0,\"rgb(247,251,255)\"],[0.125,\"rgb(222,235,247)\"],[0.25,\"rgb(198,219,239)\"],[0.375,\"rgb(158,202,225)\"],[0.5,\"rgb(107,174,214)\"],[0.625,\"rgb(66,146,198)\"],[0.75,\"rgb(33,113,181)\"],[0.875,\"rgb(8,81,156)\"],[1.0,\"rgb(8,48,107)\"]],\"line\":{\"color\":\"Grey\",\"width\":0.5},\"showscale\":false},\"mode\":\"markers\",\"name\":\"Feasible Trial\",\"showlegend\":false,\"x\":[\"lossguide\",\"lossguide\",\"lossguide\",\"depthwise\",\"lossguide\",\"depthwise\",\"depthwise\",\"lossguide\",\"lossguide\",\"lossguide\",\"lossguide\",\"lossguide\",\"lossguide\",\"lossguide\",\"lossguide\",\"lossguide\",\"lossguide\"],\"y\":[0.060591021790556567,0.06165651386742634,0.06004405715088243,0.060991628706544655,0.06231455171383333,0.06077453918309178,0.05694773989569415,0.062134672026789656,0.060655015529644814,0.061875011427053456,0.06235234237909971,0.06208293477994094,0.061930520159553304,0.062195350247602844,0.060564165423623945,0.060865402667128525,0.06243823035605397],\"type\":\"scatter\",\"xaxis\":\"x2\",\"yaxis\":\"y2\"},{\"marker\":{\"color\":[0,2,3,4,5,7,9,11,12,13,14,15,16,17,19,20,21],\"colorbar\":{\"title\":{\"text\":\"Trial\"},\"x\":1.0,\"xpad\":40},\"colorscale\":[[0.0,\"rgb(247,251,255)\"],[0.125,\"rgb(222,235,247)\"],[0.25,\"rgb(198,219,239)\"],[0.375,\"rgb(158,202,225)\"],[0.5,\"rgb(107,174,214)\"],[0.625,\"rgb(66,146,198)\"],[0.75,\"rgb(33,113,181)\"],[0.875,\"rgb(8,81,156)\"],[1.0,\"rgb(8,48,107)\"]],\"line\":{\"color\":\"Grey\",\"width\":0.5},\"showscale\":false},\"mode\":\"markers\",\"name\":\"Feasible Trial\",\"showlegend\":false,\"x\":[0.001275119127397485,0.01701323174655159,0.003318784946660437,0.0011603753713954022,0.13661573476869773,0.000421405146722748,0.00014975882523066963,0.03893712815266032,0.1756370804940665,0.06035601948620443,0.06549526488113767,0.08348670532768288,0.01599205749678421,0.12671081010104268,0.289684059142053,0.006362028400443667,0.08755207370190422],\"y\":[0.060591021790556567,0.06165651386742634,0.06004405715088243,0.060991628706544655,0.06231455171383333,0.06077453918309178,0.05694773989569415,0.062134672026789656,0.060655015529644814,0.061875011427053456,0.06235234237909971,0.06208293477994094,0.061930520159553304,0.062195350247602844,0.060564165423623945,0.060865402667128525,0.06243823035605397],\"type\":\"scatter\",\"xaxis\":\"x3\",\"yaxis\":\"y3\"},{\"marker\":{\"color\":[0,2,3,4,5,7,9,11,12,13,14,15,16,17,19,20,21],\"colorbar\":{\"title\":{\"text\":\"Trial\"},\"x\":1.0,\"xpad\":40},\"colorscale\":[[0.0,\"rgb(247,251,255)\"],[0.125,\"rgb(222,235,247)\"],[0.25,\"rgb(198,219,239)\"],[0.375,\"rgb(158,202,225)\"],[0.5,\"rgb(107,174,214)\"],[0.625,\"rgb(66,146,198)\"],[0.75,\"rgb(33,113,181)\"],[0.875,\"rgb(8,81,156)\"],[1.0,\"rgb(8,48,107)\"]],\"line\":{\"color\":\"Grey\",\"width\":0.5},\"showscale\":false},\"mode\":\"markers\",\"name\":\"Feasible Trial\",\"showlegend\":false,\"x\":[6,7,7,4,7,5,3,7,7,7,6,6,6,5,6,4,5],\"y\":[0.060591021790556567,0.06165651386742634,0.06004405715088243,0.060991628706544655,0.06231455171383333,0.06077453918309178,0.05694773989569415,0.062134672026789656,0.060655015529644814,0.061875011427053456,0.06235234237909971,0.06208293477994094,0.061930520159553304,0.062195350247602844,0.060564165423623945,0.060865402667128525,0.06243823035605397],\"type\":\"scatter\",\"xaxis\":\"x4\",\"yaxis\":\"y4\"},{\"marker\":{\"color\":[0,2,3,4,5,7,9,11,12,13,14,15,16,17,19,20,21],\"colorbar\":{\"title\":{\"text\":\"Trial\"},\"x\":1.0,\"xpad\":40},\"colorscale\":[[0.0,\"rgb(247,251,255)\"],[0.125,\"rgb(222,235,247)\"],[0.25,\"rgb(198,219,239)\"],[0.375,\"rgb(158,202,225)\"],[0.5,\"rgb(107,174,214)\"],[0.625,\"rgb(66,146,198)\"],[0.75,\"rgb(33,113,181)\"],[0.875,\"rgb(8,81,156)\"],[1.0,\"rgb(8,48,107)\"]],\"line\":{\"color\":\"Grey\",\"width\":0.5},\"showscale\":false},\"mode\":\"markers\",\"name\":\"Feasible Trial\",\"showlegend\":false,\"x\":[21,73,10,90,32,58,6,49,37,46,29,27,28,60,21,37,60],\"y\":[0.060591021790556567,0.06165651386742634,0.06004405715088243,0.060991628706544655,0.06231455171383333,0.06077453918309178,0.05694773989569415,0.062134672026789656,0.060655015529644814,0.061875011427053456,0.06235234237909971,0.06208293477994094,0.061930520159553304,0.062195350247602844,0.060564165423623945,0.060865402667128525,0.06243823035605397],\"type\":\"scatter\",\"xaxis\":\"x5\",\"yaxis\":\"y5\"},{\"marker\":{\"color\":[0,2,3,4,5,7,9,11,12,13,14,15,16,17,19,20,21],\"colorbar\":{\"title\":{\"text\":\"Trial\"},\"x\":1.0,\"xpad\":40},\"colorscale\":[[0.0,\"rgb(247,251,255)\"],[0.125,\"rgb(222,235,247)\"],[0.25,\"rgb(198,219,239)\"],[0.375,\"rgb(158,202,225)\"],[0.5,\"rgb(107,174,214)\"],[0.625,\"rgb(66,146,198)\"],[0.75,\"rgb(33,113,181)\"],[0.875,\"rgb(8,81,156)\"],[1.0,\"rgb(8,48,107)\"]],\"line\":{\"color\":\"Grey\",\"width\":0.5},\"showscale\":false},\"mode\":\"markers\",\"name\":\"Feasible Trial\",\"showlegend\":false,\"x\":[273,137,134,335,195,136,59,255,247,347,220,61,219,320,431,293,300],\"y\":[0.060591021790556567,0.06165651386742634,0.06004405715088243,0.060991628706544655,0.06231455171383333,0.06077453918309178,0.05694773989569415,0.062134672026789656,0.060655015529644814,0.061875011427053456,0.06235234237909971,0.06208293477994094,0.061930520159553304,0.062195350247602844,0.060564165423623945,0.060865402667128525,0.06243823035605397],\"type\":\"scatter\",\"xaxis\":\"x6\",\"yaxis\":\"y6\"},{\"marker\":{\"color\":[0,2,3,4,5,7,9,11,12,13,14,15,16,17,19,20,21],\"colorbar\":{\"title\":{\"text\":\"Trial\"},\"x\":1.0,\"xpad\":40},\"colorscale\":[[0.0,\"rgb(247,251,255)\"],[0.125,\"rgb(222,235,247)\"],[0.25,\"rgb(198,219,239)\"],[0.375,\"rgb(158,202,225)\"],[0.5,\"rgb(107,174,214)\"],[0.625,\"rgb(66,146,198)\"],[0.75,\"rgb(33,113,181)\"],[0.875,\"rgb(8,81,156)\"],[1.0,\"rgb(8,48,107)\"]],\"line\":{\"color\":\"Grey\",\"width\":0.5},\"showscale\":false},\"mode\":\"markers\",\"name\":\"Feasible Trial\",\"showlegend\":false,\"x\":[\"pairwise\",\"map\",\"pairwise\",\"map\",\"pairwise\",\"map\",\"ndcg\",\"map\",\"map\",\"map\",\"ndcg\",\"ndcg\",\"ndcg\",\"ndcg\",\"ndcg\",\"ndcg\",\"ndcg\"],\"y\":[0.060591021790556567,0.06165651386742634,0.06004405715088243,0.060991628706544655,0.06231455171383333,0.06077453918309178,0.05694773989569415,0.062134672026789656,0.060655015529644814,0.061875011427053456,0.06235234237909971,0.06208293477994094,0.061930520159553304,0.062195350247602844,0.060564165423623945,0.060865402667128525,0.06243823035605397],\"type\":\"scatter\",\"xaxis\":\"x7\",\"yaxis\":\"y7\"},{\"marker\":{\"color\":[0,2,3,4,5,7,9,11,12,13,14,15,16,17,19,20,21],\"colorbar\":{\"title\":{\"text\":\"Trial\"},\"x\":1.0,\"xpad\":40},\"colorscale\":[[0.0,\"rgb(247,251,255)\"],[0.125,\"rgb(222,235,247)\"],[0.25,\"rgb(198,219,239)\"],[0.375,\"rgb(158,202,225)\"],[0.5,\"rgb(107,174,214)\"],[0.625,\"rgb(66,146,198)\"],[0.75,\"rgb(33,113,181)\"],[0.875,\"rgb(8,81,156)\"],[1.0,\"rgb(8,48,107)\"]],\"line\":{\"color\":\"Grey\",\"width\":0.5},\"showscale\":false},\"mode\":\"markers\",\"name\":\"Feasible Trial\",\"showlegend\":false,\"x\":[0.00048298652901912107,0.01311671005485114,0.00013753713837507994,0.007644453189287747,0.008907954373423215,0.001843886986867516,0.00905256095516463,0.031483145595850755,0.046235371461279914,0.04693699599464876,0.23813740302747033,0.5461255777286406,0.1707149542991216,0.0024554874738869303,0.003794132902879148,0.9590110506717574,0.0007986102264876907],\"y\":[0.060591021790556567,0.06165651386742634,0.06004405715088243,0.060991628706544655,0.06231455171383333,0.06077453918309178,0.05694773989569415,0.062134672026789656,0.060655015529644814,0.061875011427053456,0.06235234237909971,0.06208293477994094,0.061930520159553304,0.062195350247602844,0.060564165423623945,0.060865402667128525,0.06243823035605397],\"type\":\"scatter\",\"xaxis\":\"x8\",\"yaxis\":\"y8\"},{\"marker\":{\"color\":[0,2,3,4,5,7,9,11,12,13,14,15,16,17,19,20,21],\"colorbar\":{\"title\":{\"text\":\"Trial\"},\"x\":1.0,\"xpad\":40},\"colorscale\":[[0.0,\"rgb(247,251,255)\"],[0.125,\"rgb(222,235,247)\"],[0.25,\"rgb(198,219,239)\"],[0.375,\"rgb(158,202,225)\"],[0.5,\"rgb(107,174,214)\"],[0.625,\"rgb(66,146,198)\"],[0.75,\"rgb(33,113,181)\"],[0.875,\"rgb(8,81,156)\"],[1.0,\"rgb(8,48,107)\"]],\"line\":{\"color\":\"Grey\",\"width\":0.5},\"showscale\":false},\"mode\":\"markers\",\"name\":\"Feasible Trial\",\"showlegend\":false,\"x\":[0.046240862938055946,0.0003834872201383148,0.2902944268546526,0.07295879690855014,0.3111683511606811,0.005941401899475446,0.5873434404125271,0.0008360431161851846,0.0011964401957687719,0.000990165178292234,0.1314026737638433,0.17164266502694428,0.8331084638773835,0.08853873987802395,0.2947055714573999,0.03515168433147676,0.12459053271910413],\"y\":[0.060591021790556567,0.06165651386742634,0.06004405715088243,0.060991628706544655,0.06231455171383333,0.06077453918309178,0.05694773989569415,0.062134672026789656,0.060655015529644814,0.061875011427053456,0.06235234237909971,0.06208293477994094,0.061930520159553304,0.062195350247602844,0.060564165423623945,0.060865402667128525,0.06243823035605397],\"type\":\"scatter\",\"xaxis\":\"x9\",\"yaxis\":\"y9\"}],                        {\"template\":{\"data\":{\"histogram2dcontour\":[{\"type\":\"histogram2dcontour\",\"colorbar\":{\"outlinewidth\":0,\"ticks\":\"\"},\"colorscale\":[[0.0,\"#0d0887\"],[0.1111111111111111,\"#46039f\"],[0.2222222222222222,\"#7201a8\"],[0.3333333333333333,\"#9c179e\"],[0.4444444444444444,\"#bd3786\"],[0.5555555555555556,\"#d8576b\"],[0.6666666666666666,\"#ed7953\"],[0.7777777777777778,\"#fb9f3a\"],[0.8888888888888888,\"#fdca26\"],[1.0,\"#f0f921\"]]}],\"choropleth\":[{\"type\":\"choropleth\",\"colorbar\":{\"outlinewidth\":0,\"ticks\":\"\"}}],\"histogram2d\":[{\"type\":\"histogram2d\",\"colorbar\":{\"outlinewidth\":0,\"ticks\":\"\"},\"colorscale\":[[0.0,\"#0d0887\"],[0.1111111111111111,\"#46039f\"],[0.2222222222222222,\"#7201a8\"],[0.3333333333333333,\"#9c179e\"],[0.4444444444444444,\"#bd3786\"],[0.5555555555555556,\"#d8576b\"],[0.6666666666666666,\"#ed7953\"],[0.7777777777777778,\"#fb9f3a\"],[0.8888888888888888,\"#fdca26\"],[1.0,\"#f0f921\"]]}],\"heatmap\":[{\"type\":\"heatmap\",\"colorbar\":{\"outlinewidth\":0,\"ticks\":\"\"},\"colorscale\":[[0.0,\"#0d0887\"],[0.1111111111111111,\"#46039f\"],[0.2222222222222222,\"#7201a8\"],[0.3333333333333333,\"#9c179e\"],[0.4444444444444444,\"#bd3786\"],[0.5555555555555556,\"#d8576b\"],[0.6666666666666666,\"#ed7953\"],[0.7777777777777778,\"#fb9f3a\"],[0.8888888888888888,\"#fdca26\"],[1.0,\"#f0f921\"]]}],\"heatmapgl\":[{\"type\":\"heatmapgl\",\"colorbar\":{\"outlinewidth\":0,\"ticks\":\"\"},\"colorscale\":[[0.0,\"#0d0887\"],[0.1111111111111111,\"#46039f\"],[0.2222222222222222,\"#7201a8\"],[0.3333333333333333,\"#9c179e\"],[0.4444444444444444,\"#bd3786\"],[0.5555555555555556,\"#d8576b\"],[0.6666666666666666,\"#ed7953\"],[0.7777777777777778,\"#fb9f3a\"],[0.8888888888888888,\"#fdca26\"],[1.0,\"#f0f921\"]]}],\"contourcarpet\":[{\"type\":\"contourcarpet\",\"colorbar\":{\"outlinewidth\":0,\"ticks\":\"\"}}],\"contour\":[{\"type\":\"contour\",\"colorbar\":{\"outlinewidth\":0,\"ticks\":\"\"},\"colorscale\":[[0.0,\"#0d0887\"],[0.1111111111111111,\"#46039f\"],[0.2222222222222222,\"#7201a8\"],[0.3333333333333333,\"#9c179e\"],[0.4444444444444444,\"#bd3786\"],[0.5555555555555556,\"#d8576b\"],[0.6666666666666666,\"#ed7953\"],[0.7777777777777778,\"#fb9f3a\"],[0.8888888888888888,\"#fdca26\"],[1.0,\"#f0f921\"]]}],\"surface\":[{\"type\":\"surface\",\"colorbar\":{\"outlinewidth\":0,\"ticks\":\"\"},\"colorscale\":[[0.0,\"#0d0887\"],[0.1111111111111111,\"#46039f\"],[0.2222222222222222,\"#7201a8\"],[0.3333333333333333,\"#9c179e\"],[0.4444444444444444,\"#bd3786\"],[0.5555555555555556,\"#d8576b\"],[0.6666666666666666,\"#ed7953\"],[0.7777777777777778,\"#fb9f3a\"],[0.8888888888888888,\"#fdca26\"],[1.0,\"#f0f921\"]]}],\"mesh3d\":[{\"type\":\"mesh3d\",\"colorbar\":{\"outlinewidth\":0,\"ticks\":\"\"}}],\"scatter\":[{\"fillpattern\":{\"fillmode\":\"overlay\",\"size\":10,\"solidity\":0.2},\"type\":\"scatter\"}],\"parcoords\":[{\"type\":\"parcoords\",\"line\":{\"colorbar\":{\"outlinewidth\":0,\"ticks\":\"\"}}}],\"scatterpolargl\":[{\"type\":\"scatterpolargl\",\"marker\":{\"colorbar\":{\"outlinewidth\":0,\"ticks\":\"\"}}}],\"bar\":[{\"error_x\":{\"color\":\"#2a3f5f\"},\"error_y\":{\"color\":\"#2a3f5f\"},\"marker\":{\"line\":{\"color\":\"#E5ECF6\",\"width\":0.5},\"pattern\":{\"fillmode\":\"overlay\",\"size\":10,\"solidity\":0.2}},\"type\":\"bar\"}],\"scattergeo\":[{\"type\":\"scattergeo\",\"marker\":{\"colorbar\":{\"outlinewidth\":0,\"ticks\":\"\"}}}],\"scatterpolar\":[{\"type\":\"scatterpolar\",\"marker\":{\"colorbar\":{\"outlinewidth\":0,\"ticks\":\"\"}}}],\"histogram\":[{\"marker\":{\"pattern\":{\"fillmode\":\"overlay\",\"size\":10,\"solidity\":0.2}},\"type\":\"histogram\"}],\"scattergl\":[{\"type\":\"scattergl\",\"marker\":{\"colorbar\":{\"outlinewidth\":0,\"ticks\":\"\"}}}],\"scatter3d\":[{\"type\":\"scatter3d\",\"line\":{\"colorbar\":{\"outlinewidth\":0,\"ticks\":\"\"}},\"marker\":{\"colorbar\":{\"outlinewidth\":0,\"ticks\":\"\"}}}],\"scattermapbox\":[{\"type\":\"scattermapbox\",\"marker\":{\"colorbar\":{\"outlinewidth\":0,\"ticks\":\"\"}}}],\"scatterternary\":[{\"type\":\"scatterternary\",\"marker\":{\"colorbar\":{\"outlinewidth\":0,\"ticks\":\"\"}}}],\"scattercarpet\":[{\"type\":\"scattercarpet\",\"marker\":{\"colorbar\":{\"outlinewidth\":0,\"ticks\":\"\"}}}],\"carpet\":[{\"aaxis\":{\"endlinecolor\":\"#2a3f5f\",\"gridcolor\":\"white\",\"linecolor\":\"white\",\"minorgridcolor\":\"white\",\"startlinecolor\":\"#2a3f5f\"},\"baxis\":{\"endlinecolor\":\"#2a3f5f\",\"gridcolor\":\"white\",\"linecolor\":\"white\",\"minorgridcolor\":\"white\",\"startlinecolor\":\"#2a3f5f\"},\"type\":\"carpet\"}],\"table\":[{\"cells\":{\"fill\":{\"color\":\"#EBF0F8\"},\"line\":{\"color\":\"white\"}},\"header\":{\"fill\":{\"color\":\"#C8D4E3\"},\"line\":{\"color\":\"white\"}},\"type\":\"table\"}],\"barpolar\":[{\"marker\":{\"line\":{\"color\":\"#E5ECF6\",\"width\":0.5},\"pattern\":{\"fillmode\":\"overlay\",\"size\":10,\"solidity\":0.2}},\"type\":\"barpolar\"}],\"pie\":[{\"automargin\":true,\"type\":\"pie\"}]},\"layout\":{\"autotypenumbers\":\"strict\",\"colorway\":[\"#636efa\",\"#EF553B\",\"#00cc96\",\"#ab63fa\",\"#FFA15A\",\"#19d3f3\",\"#FF6692\",\"#B6E880\",\"#FF97FF\",\"#FECB52\"],\"font\":{\"color\":\"#2a3f5f\"},\"hovermode\":\"closest\",\"hoverlabel\":{\"align\":\"left\"},\"paper_bgcolor\":\"white\",\"plot_bgcolor\":\"#E5ECF6\",\"polar\":{\"bgcolor\":\"#E5ECF6\",\"angularaxis\":{\"gridcolor\":\"white\",\"linecolor\":\"white\",\"ticks\":\"\"},\"radialaxis\":{\"gridcolor\":\"white\",\"linecolor\":\"white\",\"ticks\":\"\"}},\"ternary\":{\"bgcolor\":\"#E5ECF6\",\"aaxis\":{\"gridcolor\":\"white\",\"linecolor\":\"white\",\"ticks\":\"\"},\"baxis\":{\"gridcolor\":\"white\",\"linecolor\":\"white\",\"ticks\":\"\"},\"caxis\":{\"gridcolor\":\"white\",\"linecolor\":\"white\",\"ticks\":\"\"}},\"coloraxis\":{\"colorbar\":{\"outlinewidth\":0,\"ticks\":\"\"}},\"colorscale\":{\"sequential\":[[0.0,\"#0d0887\"],[0.1111111111111111,\"#46039f\"],[0.2222222222222222,\"#7201a8\"],[0.3333333333333333,\"#9c179e\"],[0.4444444444444444,\"#bd3786\"],[0.5555555555555556,\"#d8576b\"],[0.6666666666666666,\"#ed7953\"],[0.7777777777777778,\"#fb9f3a\"],[0.8888888888888888,\"#fdca26\"],[1.0,\"#f0f921\"]],\"sequentialminus\":[[0.0,\"#0d0887\"],[0.1111111111111111,\"#46039f\"],[0.2222222222222222,\"#7201a8\"],[0.3333333333333333,\"#9c179e\"],[0.4444444444444444,\"#bd3786\"],[0.5555555555555556,\"#d8576b\"],[0.6666666666666666,\"#ed7953\"],[0.7777777777777778,\"#fb9f3a\"],[0.8888888888888888,\"#fdca26\"],[1.0,\"#f0f921\"]],\"diverging\":[[0,\"#8e0152\"],[0.1,\"#c51b7d\"],[0.2,\"#de77ae\"],[0.3,\"#f1b6da\"],[0.4,\"#fde0ef\"],[0.5,\"#f7f7f7\"],[0.6,\"#e6f5d0\"],[0.7,\"#b8e186\"],[0.8,\"#7fbc41\"],[0.9,\"#4d9221\"],[1,\"#276419\"]]},\"xaxis\":{\"gridcolor\":\"white\",\"linecolor\":\"white\",\"ticks\":\"\",\"title\":{\"standoff\":15},\"zerolinecolor\":\"white\",\"automargin\":true,\"zerolinewidth\":2},\"yaxis\":{\"gridcolor\":\"white\",\"linecolor\":\"white\",\"ticks\":\"\",\"title\":{\"standoff\":15},\"zerolinecolor\":\"white\",\"automargin\":true,\"zerolinewidth\":2},\"scene\":{\"xaxis\":{\"backgroundcolor\":\"#E5ECF6\",\"gridcolor\":\"white\",\"linecolor\":\"white\",\"showbackground\":true,\"ticks\":\"\",\"zerolinecolor\":\"white\",\"gridwidth\":2},\"yaxis\":{\"backgroundcolor\":\"#E5ECF6\",\"gridcolor\":\"white\",\"linecolor\":\"white\",\"showbackground\":true,\"ticks\":\"\",\"zerolinecolor\":\"white\",\"gridwidth\":2},\"zaxis\":{\"backgroundcolor\":\"#E5ECF6\",\"gridcolor\":\"white\",\"linecolor\":\"white\",\"showbackground\":true,\"ticks\":\"\",\"zerolinecolor\":\"white\",\"gridwidth\":2}},\"shapedefaults\":{\"line\":{\"color\":\"#2a3f5f\"}},\"annotationdefaults\":{\"arrowcolor\":\"#2a3f5f\",\"arrowhead\":0,\"arrowwidth\":1},\"geo\":{\"bgcolor\":\"white\",\"landcolor\":\"#E5ECF6\",\"subunitcolor\":\"white\",\"showland\":true,\"showlakes\":true,\"lakecolor\":\"white\"},\"title\":{\"x\":0.05},\"mapbox\":{\"style\":\"light\"}}},\"xaxis\":{\"anchor\":\"y\",\"domain\":[0.0,0.09135802469135802],\"title\":{\"text\":\"booster\"},\"type\":\"category\",\"categoryorder\":\"array\",\"categoryarray\":[\"gbtree\",\"dart\"]},\"yaxis\":{\"anchor\":\"x\",\"domain\":[0.0,1.0],\"title\":{\"text\":\"Objective Value\"}},\"xaxis2\":{\"anchor\":\"y2\",\"domain\":[0.11358024691358025,0.20493827160493827],\"title\":{\"text\":\"grow_policy\"},\"type\":\"category\",\"categoryorder\":\"array\",\"categoryarray\":[\"depthwise\",\"lossguide\"]},\"yaxis2\":{\"anchor\":\"x2\",\"domain\":[0.0,1.0],\"matches\":\"y\",\"showticklabels\":false},\"xaxis3\":{\"anchor\":\"y3\",\"domain\":[0.2271604938271605,0.31851851851851853],\"title\":{\"text\":\"learning_rate\"},\"type\":\"log\"},\"yaxis3\":{\"anchor\":\"x3\",\"domain\":[0.0,1.0],\"matches\":\"y\",\"showticklabels\":false},\"xaxis4\":{\"anchor\":\"y4\",\"domain\":[0.34074074074074073,0.43209876543209874],\"title\":{\"text\":\"max_depth\"}},\"yaxis4\":{\"anchor\":\"x4\",\"domain\":[0.0,1.0],\"matches\":\"y\",\"showticklabels\":false},\"xaxis5\":{\"anchor\":\"y5\",\"domain\":[0.454320987654321,0.5456790123456791],\"title\":{\"text\":\"max_leaves\"}},\"yaxis5\":{\"anchor\":\"x5\",\"domain\":[0.0,1.0],\"matches\":\"y\",\"showticklabels\":false},\"xaxis6\":{\"anchor\":\"y6\",\"domain\":[0.5679012345679012,0.6592592592592592],\"title\":{\"text\":\"n_estimators\"}},\"yaxis6\":{\"anchor\":\"x6\",\"domain\":[0.0,1.0],\"matches\":\"y\",\"showticklabels\":false},\"xaxis7\":{\"anchor\":\"y7\",\"domain\":[0.6814814814814815,0.7728395061728395],\"title\":{\"text\":\"objective\"},\"type\":\"category\",\"categoryorder\":\"array\",\"categoryarray\":[\"map\",\"pairwise\",\"ndcg\"]},\"yaxis7\":{\"anchor\":\"x7\",\"domain\":[0.0,1.0],\"matches\":\"y\",\"showticklabels\":false},\"xaxis8\":{\"anchor\":\"y8\",\"domain\":[0.7950617283950617,0.8864197530864197],\"title\":{\"text\":\"reg_alpha\"},\"type\":\"log\"},\"yaxis8\":{\"anchor\":\"x8\",\"domain\":[0.0,1.0],\"matches\":\"y\",\"showticklabels\":false},\"xaxis9\":{\"anchor\":\"y9\",\"domain\":[0.908641975308642,1.0],\"title\":{\"text\":\"reg_lambda\"},\"type\":\"log\"},\"yaxis9\":{\"anchor\":\"x9\",\"domain\":[0.0,1.0],\"matches\":\"y\",\"showticklabels\":false},\"title\":{\"text\":\"Slice Plot\"},\"width\":2700},                        {\"responsive\": true}                    ).then(function(){\n",
       "                            \n",
       "var gd = document.getElementById('74741d75-f8ed-477d-acbc-8c3f6e4c8452');\n",
       "var x = new MutationObserver(function (mutations, observer) {{\n",
       "        var display = window.getComputedStyle(gd).display;\n",
       "        if (!display || display === 'none') {{\n",
       "            console.log([gd, 'removed!']);\n",
       "            Plotly.purge(gd);\n",
       "            observer.disconnect();\n",
       "        }}\n",
       "}});\n",
       "\n",
       "// Listen for the removal of the full notebook cells\n",
       "var notebookContainer = gd.closest('#notebook-container');\n",
       "if (notebookContainer) {{\n",
       "    x.observe(notebookContainer, {childList: true});\n",
       "}}\n",
       "\n",
       "// Listen for the clearing of the current output cell\n",
       "var outputEl = gd.closest('.output');\n",
       "if (outputEl) {{\n",
       "    x.observe(outputEl, {childList: true});\n",
       "}}\n",
       "\n",
       "                        })                };                            </script>        </div>\n",
       "</body>\n",
       "</html>"
      ]
     },
     "metadata": {},
     "output_type": "display_data"
    }
   ],
   "source": [
    "if not config['tune_parameters']:\n",
    "    optuna_study = optuna.load_study(study_name=f'hyperparameters_tuning_{config[\"model\"]}_{config[\"metric\"]}', storage=f'sqlite:///{config[\"database_path\"]}')\n",
    "    \n",
    "fig = optuna.visualization.plot_slice(optuna_study)\n",
    "fig.show()"
   ]
  },
  {
   "cell_type": "code",
   "execution_count": 25,
   "id": "fdc79d06",
   "metadata": {
    "execution": {
     "iopub.execute_input": "2025-01-07T19:19:14.416932Z",
     "iopub.status.busy": "2025-01-07T19:19:14.416465Z",
     "iopub.status.idle": "2025-01-07T19:19:14.808986Z",
     "shell.execute_reply": "2025-01-07T19:19:14.807773Z"
    },
    "papermill": {
     "duration": 0.423765,
     "end_time": "2025-01-07T19:19:14.810906",
     "exception": false,
     "start_time": "2025-01-07T19:19:14.387141",
     "status": "completed"
    },
    "tags": []
   },
   "outputs": [
    {
     "data": {
      "text/html": [
       "<html>\n",
       "<head><meta charset=\"utf-8\" /></head>\n",
       "<body>\n",
       "    <div>            <script src=\"https://cdnjs.cloudflare.com/ajax/libs/mathjax/2.7.5/MathJax.js?config=TeX-AMS-MML_SVG\"></script><script type=\"text/javascript\">if (window.MathJax && window.MathJax.Hub && window.MathJax.Hub.Config) {window.MathJax.Hub.Config({SVG: {font: \"STIX-Web\"}});}</script>                <script type=\"text/javascript\">window.PlotlyConfig = {MathJaxConfig: 'local'};</script>\n",
       "        <script charset=\"utf-8\" src=\"https://cdn.plot.ly/plotly-2.35.2.min.js\"></script>                <div id=\"3f3c400d-b576-4053-8c3d-8adeac78df34\" class=\"plotly-graph-div\" style=\"height:525px; width:100%;\"></div>            <script type=\"text/javascript\">                                    window.PLOTLYENV=window.PLOTLYENV || {};                                    if (document.getElementById(\"3f3c400d-b576-4053-8c3d-8adeac78df34\")) {                    Plotly.newPlot(                        \"3f3c400d-b576-4053-8c3d-8adeac78df34\",                        [{\"cliponaxis\":false,\"hovertemplate\":[\"booster (CategoricalDistribution): 0.0\\u003cextra\\u003e\\u003c\\u002fextra\\u003e\",\"objective (CategoricalDistribution): 0.000941292014955152\\u003cextra\\u003e\\u003c\\u002fextra\\u003e\",\"reg_alpha (FloatDistribution): 0.014151670081549352\\u003cextra\\u003e\\u003c\\u002fextra\\u003e\",\"grow_policy (CategoricalDistribution): 0.019555219820666433\\u003cextra\\u003e\\u003c\\u002fextra\\u003e\",\"reg_lambda (FloatDistribution): 0.06015457274088881\\u003cextra\\u003e\\u003c\\u002fextra\\u003e\",\"n_estimators (IntDistribution): 0.12006734711549606\\u003cextra\\u003e\\u003c\\u002fextra\\u003e\",\"max_depth (IntDistribution): 0.2002822228703246\\u003cextra\\u003e\\u003c\\u002fextra\\u003e\",\"max_leaves (IntDistribution): 0.275116806519786\\u003cextra\\u003e\\u003c\\u002fextra\\u003e\",\"learning_rate (FloatDistribution): 0.3097308688363335\\u003cextra\\u003e\\u003c\\u002fextra\\u003e\"],\"name\":\"Objective Value\",\"orientation\":\"h\",\"text\":[\"\\u003c0.01\",\"\\u003c0.01\",\"0.01\",\"0.02\",\"0.06\",\"0.12\",\"0.20\",\"0.28\",\"0.31\"],\"textposition\":\"outside\",\"x\":[0.0,0.000941292014955152,0.014151670081549352,0.019555219820666433,0.06015457274088881,0.12006734711549606,0.2002822228703246,0.275116806519786,0.3097308688363335],\"y\":[\"booster\",\"objective\",\"reg_alpha\",\"grow_policy\",\"reg_lambda\",\"n_estimators\",\"max_depth\",\"max_leaves\",\"learning_rate\"],\"type\":\"bar\"}],                        {\"title\":{\"text\":\"Hyperparameter Importances\"},\"xaxis\":{\"title\":{\"text\":\"Hyperparameter Importance\"}},\"yaxis\":{\"title\":{\"text\":\"Hyperparameter\"}},\"template\":{\"data\":{\"histogram2dcontour\":[{\"type\":\"histogram2dcontour\",\"colorbar\":{\"outlinewidth\":0,\"ticks\":\"\"},\"colorscale\":[[0.0,\"#0d0887\"],[0.1111111111111111,\"#46039f\"],[0.2222222222222222,\"#7201a8\"],[0.3333333333333333,\"#9c179e\"],[0.4444444444444444,\"#bd3786\"],[0.5555555555555556,\"#d8576b\"],[0.6666666666666666,\"#ed7953\"],[0.7777777777777778,\"#fb9f3a\"],[0.8888888888888888,\"#fdca26\"],[1.0,\"#f0f921\"]]}],\"choropleth\":[{\"type\":\"choropleth\",\"colorbar\":{\"outlinewidth\":0,\"ticks\":\"\"}}],\"histogram2d\":[{\"type\":\"histogram2d\",\"colorbar\":{\"outlinewidth\":0,\"ticks\":\"\"},\"colorscale\":[[0.0,\"#0d0887\"],[0.1111111111111111,\"#46039f\"],[0.2222222222222222,\"#7201a8\"],[0.3333333333333333,\"#9c179e\"],[0.4444444444444444,\"#bd3786\"],[0.5555555555555556,\"#d8576b\"],[0.6666666666666666,\"#ed7953\"],[0.7777777777777778,\"#fb9f3a\"],[0.8888888888888888,\"#fdca26\"],[1.0,\"#f0f921\"]]}],\"heatmap\":[{\"type\":\"heatmap\",\"colorbar\":{\"outlinewidth\":0,\"ticks\":\"\"},\"colorscale\":[[0.0,\"#0d0887\"],[0.1111111111111111,\"#46039f\"],[0.2222222222222222,\"#7201a8\"],[0.3333333333333333,\"#9c179e\"],[0.4444444444444444,\"#bd3786\"],[0.5555555555555556,\"#d8576b\"],[0.6666666666666666,\"#ed7953\"],[0.7777777777777778,\"#fb9f3a\"],[0.8888888888888888,\"#fdca26\"],[1.0,\"#f0f921\"]]}],\"heatmapgl\":[{\"type\":\"heatmapgl\",\"colorbar\":{\"outlinewidth\":0,\"ticks\":\"\"},\"colorscale\":[[0.0,\"#0d0887\"],[0.1111111111111111,\"#46039f\"],[0.2222222222222222,\"#7201a8\"],[0.3333333333333333,\"#9c179e\"],[0.4444444444444444,\"#bd3786\"],[0.5555555555555556,\"#d8576b\"],[0.6666666666666666,\"#ed7953\"],[0.7777777777777778,\"#fb9f3a\"],[0.8888888888888888,\"#fdca26\"],[1.0,\"#f0f921\"]]}],\"contourcarpet\":[{\"type\":\"contourcarpet\",\"colorbar\":{\"outlinewidth\":0,\"ticks\":\"\"}}],\"contour\":[{\"type\":\"contour\",\"colorbar\":{\"outlinewidth\":0,\"ticks\":\"\"},\"colorscale\":[[0.0,\"#0d0887\"],[0.1111111111111111,\"#46039f\"],[0.2222222222222222,\"#7201a8\"],[0.3333333333333333,\"#9c179e\"],[0.4444444444444444,\"#bd3786\"],[0.5555555555555556,\"#d8576b\"],[0.6666666666666666,\"#ed7953\"],[0.7777777777777778,\"#fb9f3a\"],[0.8888888888888888,\"#fdca26\"],[1.0,\"#f0f921\"]]}],\"surface\":[{\"type\":\"surface\",\"colorbar\":{\"outlinewidth\":0,\"ticks\":\"\"},\"colorscale\":[[0.0,\"#0d0887\"],[0.1111111111111111,\"#46039f\"],[0.2222222222222222,\"#7201a8\"],[0.3333333333333333,\"#9c179e\"],[0.4444444444444444,\"#bd3786\"],[0.5555555555555556,\"#d8576b\"],[0.6666666666666666,\"#ed7953\"],[0.7777777777777778,\"#fb9f3a\"],[0.8888888888888888,\"#fdca26\"],[1.0,\"#f0f921\"]]}],\"mesh3d\":[{\"type\":\"mesh3d\",\"colorbar\":{\"outlinewidth\":0,\"ticks\":\"\"}}],\"scatter\":[{\"fillpattern\":{\"fillmode\":\"overlay\",\"size\":10,\"solidity\":0.2},\"type\":\"scatter\"}],\"parcoords\":[{\"type\":\"parcoords\",\"line\":{\"colorbar\":{\"outlinewidth\":0,\"ticks\":\"\"}}}],\"scatterpolargl\":[{\"type\":\"scatterpolargl\",\"marker\":{\"colorbar\":{\"outlinewidth\":0,\"ticks\":\"\"}}}],\"bar\":[{\"error_x\":{\"color\":\"#2a3f5f\"},\"error_y\":{\"color\":\"#2a3f5f\"},\"marker\":{\"line\":{\"color\":\"#E5ECF6\",\"width\":0.5},\"pattern\":{\"fillmode\":\"overlay\",\"size\":10,\"solidity\":0.2}},\"type\":\"bar\"}],\"scattergeo\":[{\"type\":\"scattergeo\",\"marker\":{\"colorbar\":{\"outlinewidth\":0,\"ticks\":\"\"}}}],\"scatterpolar\":[{\"type\":\"scatterpolar\",\"marker\":{\"colorbar\":{\"outlinewidth\":0,\"ticks\":\"\"}}}],\"histogram\":[{\"marker\":{\"pattern\":{\"fillmode\":\"overlay\",\"size\":10,\"solidity\":0.2}},\"type\":\"histogram\"}],\"scattergl\":[{\"type\":\"scattergl\",\"marker\":{\"colorbar\":{\"outlinewidth\":0,\"ticks\":\"\"}}}],\"scatter3d\":[{\"type\":\"scatter3d\",\"line\":{\"colorbar\":{\"outlinewidth\":0,\"ticks\":\"\"}},\"marker\":{\"colorbar\":{\"outlinewidth\":0,\"ticks\":\"\"}}}],\"scattermapbox\":[{\"type\":\"scattermapbox\",\"marker\":{\"colorbar\":{\"outlinewidth\":0,\"ticks\":\"\"}}}],\"scatterternary\":[{\"type\":\"scatterternary\",\"marker\":{\"colorbar\":{\"outlinewidth\":0,\"ticks\":\"\"}}}],\"scattercarpet\":[{\"type\":\"scattercarpet\",\"marker\":{\"colorbar\":{\"outlinewidth\":0,\"ticks\":\"\"}}}],\"carpet\":[{\"aaxis\":{\"endlinecolor\":\"#2a3f5f\",\"gridcolor\":\"white\",\"linecolor\":\"white\",\"minorgridcolor\":\"white\",\"startlinecolor\":\"#2a3f5f\"},\"baxis\":{\"endlinecolor\":\"#2a3f5f\",\"gridcolor\":\"white\",\"linecolor\":\"white\",\"minorgridcolor\":\"white\",\"startlinecolor\":\"#2a3f5f\"},\"type\":\"carpet\"}],\"table\":[{\"cells\":{\"fill\":{\"color\":\"#EBF0F8\"},\"line\":{\"color\":\"white\"}},\"header\":{\"fill\":{\"color\":\"#C8D4E3\"},\"line\":{\"color\":\"white\"}},\"type\":\"table\"}],\"barpolar\":[{\"marker\":{\"line\":{\"color\":\"#E5ECF6\",\"width\":0.5},\"pattern\":{\"fillmode\":\"overlay\",\"size\":10,\"solidity\":0.2}},\"type\":\"barpolar\"}],\"pie\":[{\"automargin\":true,\"type\":\"pie\"}]},\"layout\":{\"autotypenumbers\":\"strict\",\"colorway\":[\"#636efa\",\"#EF553B\",\"#00cc96\",\"#ab63fa\",\"#FFA15A\",\"#19d3f3\",\"#FF6692\",\"#B6E880\",\"#FF97FF\",\"#FECB52\"],\"font\":{\"color\":\"#2a3f5f\"},\"hovermode\":\"closest\",\"hoverlabel\":{\"align\":\"left\"},\"paper_bgcolor\":\"white\",\"plot_bgcolor\":\"#E5ECF6\",\"polar\":{\"bgcolor\":\"#E5ECF6\",\"angularaxis\":{\"gridcolor\":\"white\",\"linecolor\":\"white\",\"ticks\":\"\"},\"radialaxis\":{\"gridcolor\":\"white\",\"linecolor\":\"white\",\"ticks\":\"\"}},\"ternary\":{\"bgcolor\":\"#E5ECF6\",\"aaxis\":{\"gridcolor\":\"white\",\"linecolor\":\"white\",\"ticks\":\"\"},\"baxis\":{\"gridcolor\":\"white\",\"linecolor\":\"white\",\"ticks\":\"\"},\"caxis\":{\"gridcolor\":\"white\",\"linecolor\":\"white\",\"ticks\":\"\"}},\"coloraxis\":{\"colorbar\":{\"outlinewidth\":0,\"ticks\":\"\"}},\"colorscale\":{\"sequential\":[[0.0,\"#0d0887\"],[0.1111111111111111,\"#46039f\"],[0.2222222222222222,\"#7201a8\"],[0.3333333333333333,\"#9c179e\"],[0.4444444444444444,\"#bd3786\"],[0.5555555555555556,\"#d8576b\"],[0.6666666666666666,\"#ed7953\"],[0.7777777777777778,\"#fb9f3a\"],[0.8888888888888888,\"#fdca26\"],[1.0,\"#f0f921\"]],\"sequentialminus\":[[0.0,\"#0d0887\"],[0.1111111111111111,\"#46039f\"],[0.2222222222222222,\"#7201a8\"],[0.3333333333333333,\"#9c179e\"],[0.4444444444444444,\"#bd3786\"],[0.5555555555555556,\"#d8576b\"],[0.6666666666666666,\"#ed7953\"],[0.7777777777777778,\"#fb9f3a\"],[0.8888888888888888,\"#fdca26\"],[1.0,\"#f0f921\"]],\"diverging\":[[0,\"#8e0152\"],[0.1,\"#c51b7d\"],[0.2,\"#de77ae\"],[0.3,\"#f1b6da\"],[0.4,\"#fde0ef\"],[0.5,\"#f7f7f7\"],[0.6,\"#e6f5d0\"],[0.7,\"#b8e186\"],[0.8,\"#7fbc41\"],[0.9,\"#4d9221\"],[1,\"#276419\"]]},\"xaxis\":{\"gridcolor\":\"white\",\"linecolor\":\"white\",\"ticks\":\"\",\"title\":{\"standoff\":15},\"zerolinecolor\":\"white\",\"automargin\":true,\"zerolinewidth\":2},\"yaxis\":{\"gridcolor\":\"white\",\"linecolor\":\"white\",\"ticks\":\"\",\"title\":{\"standoff\":15},\"zerolinecolor\":\"white\",\"automargin\":true,\"zerolinewidth\":2},\"scene\":{\"xaxis\":{\"backgroundcolor\":\"#E5ECF6\",\"gridcolor\":\"white\",\"linecolor\":\"white\",\"showbackground\":true,\"ticks\":\"\",\"zerolinecolor\":\"white\",\"gridwidth\":2},\"yaxis\":{\"backgroundcolor\":\"#E5ECF6\",\"gridcolor\":\"white\",\"linecolor\":\"white\",\"showbackground\":true,\"ticks\":\"\",\"zerolinecolor\":\"white\",\"gridwidth\":2},\"zaxis\":{\"backgroundcolor\":\"#E5ECF6\",\"gridcolor\":\"white\",\"linecolor\":\"white\",\"showbackground\":true,\"ticks\":\"\",\"zerolinecolor\":\"white\",\"gridwidth\":2}},\"shapedefaults\":{\"line\":{\"color\":\"#2a3f5f\"}},\"annotationdefaults\":{\"arrowcolor\":\"#2a3f5f\",\"arrowhead\":0,\"arrowwidth\":1},\"geo\":{\"bgcolor\":\"white\",\"landcolor\":\"#E5ECF6\",\"subunitcolor\":\"white\",\"showland\":true,\"showlakes\":true,\"lakecolor\":\"white\"},\"title\":{\"x\":0.05},\"mapbox\":{\"style\":\"light\"}}}},                        {\"responsive\": true}                    ).then(function(){\n",
       "                            \n",
       "var gd = document.getElementById('3f3c400d-b576-4053-8c3d-8adeac78df34');\n",
       "var x = new MutationObserver(function (mutations, observer) {{\n",
       "        var display = window.getComputedStyle(gd).display;\n",
       "        if (!display || display === 'none') {{\n",
       "            console.log([gd, 'removed!']);\n",
       "            Plotly.purge(gd);\n",
       "            observer.disconnect();\n",
       "        }}\n",
       "}});\n",
       "\n",
       "// Listen for the removal of the full notebook cells\n",
       "var notebookContainer = gd.closest('#notebook-container');\n",
       "if (notebookContainer) {{\n",
       "    x.observe(notebookContainer, {childList: true});\n",
       "}}\n",
       "\n",
       "// Listen for the clearing of the current output cell\n",
       "var outputEl = gd.closest('.output');\n",
       "if (outputEl) {{\n",
       "    x.observe(outputEl, {childList: true});\n",
       "}}\n",
       "\n",
       "                        })                };                            </script>        </div>\n",
       "</body>\n",
       "</html>"
      ]
     },
     "metadata": {},
     "output_type": "display_data"
    }
   ],
   "source": [
    "if not config['tune_parameters']:\n",
    "    optuna_study = optuna.load_study(study_name=f'hyperparameters_tuning_{config[\"model\"]}_{config[\"metric\"]}', storage=f'sqlite:///{config[\"database_path\"]}')\n",
    "    \n",
    "fig = optuna.visualization.plot_param_importances(optuna_study)\n",
    "fig.show()"
   ]
  },
  {
   "cell_type": "markdown",
   "id": "7c0386d2",
   "metadata": {
    "papermill": {
     "duration": 0.027174,
     "end_time": "2025-01-07T19:19:14.865896",
     "exception": false,
     "start_time": "2025-01-07T19:19:14.838722",
     "status": "completed"
    },
    "tags": []
   },
   "source": [
    "# Testing\n",
    "## Prediction dataframe building"
   ]
  },
  {
   "cell_type": "code",
   "execution_count": 26,
   "id": "7f35fe7d",
   "metadata": {
    "execution": {
     "iopub.execute_input": "2025-01-07T19:19:14.924326Z",
     "iopub.status.busy": "2025-01-07T19:19:14.923939Z",
     "iopub.status.idle": "2025-01-07T19:19:15.805149Z",
     "shell.execute_reply": "2025-01-07T19:19:15.804006Z"
    },
    "papermill": {
     "duration": 0.913315,
     "end_time": "2025-01-07T19:19:15.807133",
     "exception": false,
     "start_time": "2025-01-07T19:19:14.893818",
     "status": "completed"
    },
    "tags": []
   },
   "outputs": [
    {
     "data": {
      "text/html": [
       "<div>\n",
       "<style scoped>\n",
       "    .dataframe tbody tr th:only-of-type {\n",
       "        vertical-align: middle;\n",
       "    }\n",
       "\n",
       "    .dataframe tbody tr th {\n",
       "        vertical-align: top;\n",
       "    }\n",
       "\n",
       "    .dataframe thead th {\n",
       "        text-align: right;\n",
       "    }\n",
       "</style>\n",
       "<table border=\"1\" class=\"dataframe\">\n",
       "  <thead>\n",
       "    <tr style=\"text-align: right;\">\n",
       "      <th></th>\n",
       "      <th>UserID</th>\n",
       "      <th>ItemID</th>\n",
       "      <th>Label</th>\n",
       "      <th>feature_recommender_count</th>\n",
       "      <th>RP3beta_score</th>\n",
       "      <th>RP3beta_position</th>\n",
       "      <th>P3alpha_score</th>\n",
       "      <th>P3alpha_position</th>\n",
       "      <th>ItemKNNCF_score</th>\n",
       "      <th>ItemKNNCF_position</th>\n",
       "      <th>...</th>\n",
       "      <th>SLIM_BPR_position</th>\n",
       "      <th>Mean_Position</th>\n",
       "      <th>Std_Position</th>\n",
       "      <th>Min_Position</th>\n",
       "      <th>Max_Position</th>\n",
       "      <th>Median_Position</th>\n",
       "      <th>Skew_Position</th>\n",
       "      <th>Kurtosis_Position</th>\n",
       "      <th>item_popularity</th>\n",
       "      <th>user_profile_len</th>\n",
       "    </tr>\n",
       "  </thead>\n",
       "  <tbody>\n",
       "    <tr>\n",
       "      <th>0</th>\n",
       "      <td>0</td>\n",
       "      <td>51.0</td>\n",
       "      <td>False</td>\n",
       "      <td>0</td>\n",
       "      <td>0.434087</td>\n",
       "      <td>29.0</td>\n",
       "      <td>0.559818</td>\n",
       "      <td>12.0</td>\n",
       "      <td>0.477179</td>\n",
       "      <td>19.0</td>\n",
       "      <td>...</td>\n",
       "      <td>34.0</td>\n",
       "      <td>47.166667</td>\n",
       "      <td>27.185669</td>\n",
       "      <td>12.0</td>\n",
       "      <td>78.0</td>\n",
       "      <td>41.0</td>\n",
       "      <td>0.011792</td>\n",
       "      <td>-1.686444</td>\n",
       "      <td>0.109336</td>\n",
       "      <td>0.020373</td>\n",
       "    </tr>\n",
       "    <tr>\n",
       "      <th>1</th>\n",
       "      <td>0</td>\n",
       "      <td>11966.0</td>\n",
       "      <td>False</td>\n",
       "      <td>4</td>\n",
       "      <td>0.622486</td>\n",
       "      <td>12.0</td>\n",
       "      <td>0.509835</td>\n",
       "      <td>19.0</td>\n",
       "      <td>0.800669</td>\n",
       "      <td>4.0</td>\n",
       "      <td>...</td>\n",
       "      <td>33.0</td>\n",
       "      <td>18.333333</td>\n",
       "      <td>13.377956</td>\n",
       "      <td>4.0</td>\n",
       "      <td>42.0</td>\n",
       "      <td>14.0</td>\n",
       "      <td>0.650429</td>\n",
       "      <td>-0.957383</td>\n",
       "      <td>0.032801</td>\n",
       "      <td>0.020373</td>\n",
       "    </tr>\n",
       "    <tr>\n",
       "      <th>2</th>\n",
       "      <td>0</td>\n",
       "      <td>11875.0</td>\n",
       "      <td>False</td>\n",
       "      <td>0</td>\n",
       "      <td>0.178390</td>\n",
       "      <td>63.0</td>\n",
       "      <td>0.134542</td>\n",
       "      <td>62.0</td>\n",
       "      <td>0.261223</td>\n",
       "      <td>44.0</td>\n",
       "      <td>...</td>\n",
       "      <td>13.0</td>\n",
       "      <td>45.750000</td>\n",
       "      <td>19.386617</td>\n",
       "      <td>13.0</td>\n",
       "      <td>79.0</td>\n",
       "      <td>43.5</td>\n",
       "      <td>0.057103</td>\n",
       "      <td>-0.792077</td>\n",
       "      <td>0.021026</td>\n",
       "      <td>0.020373</td>\n",
       "    </tr>\n",
       "    <tr>\n",
       "      <th>3</th>\n",
       "      <td>0</td>\n",
       "      <td>11699.0</td>\n",
       "      <td>False</td>\n",
       "      <td>2</td>\n",
       "      <td>0.000000</td>\n",
       "      <td>80.0</td>\n",
       "      <td>0.211021</td>\n",
       "      <td>52.0</td>\n",
       "      <td>0.285873</td>\n",
       "      <td>42.0</td>\n",
       "      <td>...</td>\n",
       "      <td>74.0</td>\n",
       "      <td>40.750000</td>\n",
       "      <td>29.652916</td>\n",
       "      <td>2.0</td>\n",
       "      <td>82.0</td>\n",
       "      <td>41.5</td>\n",
       "      <td>0.114113</td>\n",
       "      <td>-1.486611</td>\n",
       "      <td>0.086627</td>\n",
       "      <td>0.020373</td>\n",
       "    </tr>\n",
       "    <tr>\n",
       "      <th>4</th>\n",
       "      <td>0</td>\n",
       "      <td>11580.0</td>\n",
       "      <td>False</td>\n",
       "      <td>0</td>\n",
       "      <td>0.000000</td>\n",
       "      <td>79.0</td>\n",
       "      <td>0.360840</td>\n",
       "      <td>27.0</td>\n",
       "      <td>0.000000</td>\n",
       "      <td>70.0</td>\n",
       "      <td>...</td>\n",
       "      <td>75.0</td>\n",
       "      <td>51.500000</td>\n",
       "      <td>17.202008</td>\n",
       "      <td>27.0</td>\n",
       "      <td>79.0</td>\n",
       "      <td>46.0</td>\n",
       "      <td>0.386355</td>\n",
       "      <td>-1.248334</td>\n",
       "      <td>0.032801</td>\n",
       "      <td>0.020373</td>\n",
       "    </tr>\n",
       "    <tr>\n",
       "      <th>...</th>\n",
       "      <td>...</td>\n",
       "      <td>...</td>\n",
       "      <td>...</td>\n",
       "      <td>...</td>\n",
       "      <td>...</td>\n",
       "      <td>...</td>\n",
       "      <td>...</td>\n",
       "      <td>...</td>\n",
       "      <td>...</td>\n",
       "      <td>...</td>\n",
       "      <td>...</td>\n",
       "      <td>...</td>\n",
       "      <td>...</td>\n",
       "      <td>...</td>\n",
       "      <td>...</td>\n",
       "      <td>...</td>\n",
       "      <td>...</td>\n",
       "      <td>...</td>\n",
       "      <td>...</td>\n",
       "      <td>...</td>\n",
       "      <td>...</td>\n",
       "    </tr>\n",
       "    <tr>\n",
       "      <th>2730498</th>\n",
       "      <td>35735</td>\n",
       "      <td>36092.0</td>\n",
       "      <td>False</td>\n",
       "      <td>0</td>\n",
       "      <td>0.258139</td>\n",
       "      <td>25.0</td>\n",
       "      <td>0.159147</td>\n",
       "      <td>33.0</td>\n",
       "      <td>0.114284</td>\n",
       "      <td>44.0</td>\n",
       "      <td>...</td>\n",
       "      <td>17.0</td>\n",
       "      <td>31.916667</td>\n",
       "      <td>13.104186</td>\n",
       "      <td>11.0</td>\n",
       "      <td>56.0</td>\n",
       "      <td>33.0</td>\n",
       "      <td>0.190019</td>\n",
       "      <td>-0.726759</td>\n",
       "      <td>0.017662</td>\n",
       "      <td>0.005576</td>\n",
       "    </tr>\n",
       "    <tr>\n",
       "      <th>2730499</th>\n",
       "      <td>35735</td>\n",
       "      <td>36093.0</td>\n",
       "      <td>False</td>\n",
       "      <td>0</td>\n",
       "      <td>0.119858</td>\n",
       "      <td>43.0</td>\n",
       "      <td>0.092655</td>\n",
       "      <td>45.0</td>\n",
       "      <td>0.191788</td>\n",
       "      <td>30.0</td>\n",
       "      <td>...</td>\n",
       "      <td>15.0</td>\n",
       "      <td>35.666667</td>\n",
       "      <td>11.672293</td>\n",
       "      <td>15.0</td>\n",
       "      <td>49.0</td>\n",
       "      <td>40.5</td>\n",
       "      <td>-0.757271</td>\n",
       "      <td>-0.711292</td>\n",
       "      <td>0.038688</td>\n",
       "      <td>0.005576</td>\n",
       "    </tr>\n",
       "    <tr>\n",
       "      <th>2730500</th>\n",
       "      <td>35735</td>\n",
       "      <td>36097.0</td>\n",
       "      <td>False</td>\n",
       "      <td>0</td>\n",
       "      <td>0.000000</td>\n",
       "      <td>60.0</td>\n",
       "      <td>0.000000</td>\n",
       "      <td>52.0</td>\n",
       "      <td>0.000000</td>\n",
       "      <td>59.0</td>\n",
       "      <td>...</td>\n",
       "      <td>55.0</td>\n",
       "      <td>56.166667</td>\n",
       "      <td>5.556869</td>\n",
       "      <td>46.0</td>\n",
       "      <td>63.0</td>\n",
       "      <td>57.0</td>\n",
       "      <td>-0.481366</td>\n",
       "      <td>-0.844568</td>\n",
       "      <td>0.031119</td>\n",
       "      <td>0.005576</td>\n",
       "    </tr>\n",
       "    <tr>\n",
       "      <th>2730501</th>\n",
       "      <td>35735</td>\n",
       "      <td>36321.0</td>\n",
       "      <td>False</td>\n",
       "      <td>1</td>\n",
       "      <td>0.000000</td>\n",
       "      <td>61.0</td>\n",
       "      <td>0.108260</td>\n",
       "      <td>39.0</td>\n",
       "      <td>0.164294</td>\n",
       "      <td>36.0</td>\n",
       "      <td>...</td>\n",
       "      <td>24.0</td>\n",
       "      <td>34.083333</td>\n",
       "      <td>16.228249</td>\n",
       "      <td>7.0</td>\n",
       "      <td>61.0</td>\n",
       "      <td>36.0</td>\n",
       "      <td>0.016858</td>\n",
       "      <td>-0.766570</td>\n",
       "      <td>0.114382</td>\n",
       "      <td>0.005576</td>\n",
       "    </tr>\n",
       "    <tr>\n",
       "      <th>2730502</th>\n",
       "      <td>35735</td>\n",
       "      <td>38033.0</td>\n",
       "      <td>False</td>\n",
       "      <td>0</td>\n",
       "      <td>0.000000</td>\n",
       "      <td>64.0</td>\n",
       "      <td>0.000000</td>\n",
       "      <td>64.0</td>\n",
       "      <td>0.077983</td>\n",
       "      <td>50.0</td>\n",
       "      <td>...</td>\n",
       "      <td>64.0</td>\n",
       "      <td>39.833333</td>\n",
       "      <td>17.377275</td>\n",
       "      <td>16.0</td>\n",
       "      <td>64.0</td>\n",
       "      <td>34.0</td>\n",
       "      <td>0.330212</td>\n",
       "      <td>-1.326921</td>\n",
       "      <td>0.024390</td>\n",
       "      <td>0.005576</td>\n",
       "    </tr>\n",
       "  </tbody>\n",
       "</table>\n",
       "<p>2730503 rows × 37 columns</p>\n",
       "</div>"
      ],
      "text/plain": [
       "         UserID   ItemID  Label  feature_recommender_count  RP3beta_score  \\\n",
       "0             0     51.0  False                          0       0.434087   \n",
       "1             0  11966.0  False                          4       0.622486   \n",
       "2             0  11875.0  False                          0       0.178390   \n",
       "3             0  11699.0  False                          2       0.000000   \n",
       "4             0  11580.0  False                          0       0.000000   \n",
       "...         ...      ...    ...                        ...            ...   \n",
       "2730498   35735  36092.0  False                          0       0.258139   \n",
       "2730499   35735  36093.0  False                          0       0.119858   \n",
       "2730500   35735  36097.0  False                          0       0.000000   \n",
       "2730501   35735  36321.0  False                          1       0.000000   \n",
       "2730502   35735  38033.0  False                          0       0.000000   \n",
       "\n",
       "         RP3beta_position  P3alpha_score  P3alpha_position  ItemKNNCF_score  \\\n",
       "0                    29.0       0.559818              12.0         0.477179   \n",
       "1                    12.0       0.509835              19.0         0.800669   \n",
       "2                    63.0       0.134542              62.0         0.261223   \n",
       "3                    80.0       0.211021              52.0         0.285873   \n",
       "4                    79.0       0.360840              27.0         0.000000   \n",
       "...                   ...            ...               ...              ...   \n",
       "2730498              25.0       0.159147              33.0         0.114284   \n",
       "2730499              43.0       0.092655              45.0         0.191788   \n",
       "2730500              60.0       0.000000              52.0         0.000000   \n",
       "2730501              61.0       0.108260              39.0         0.164294   \n",
       "2730502              64.0       0.000000              64.0         0.077983   \n",
       "\n",
       "         ItemKNNCF_position  ...  SLIM_BPR_position  Mean_Position  \\\n",
       "0                      19.0  ...               34.0      47.166667   \n",
       "1                       4.0  ...               33.0      18.333333   \n",
       "2                      44.0  ...               13.0      45.750000   \n",
       "3                      42.0  ...               74.0      40.750000   \n",
       "4                      70.0  ...               75.0      51.500000   \n",
       "...                     ...  ...                ...            ...   \n",
       "2730498                44.0  ...               17.0      31.916667   \n",
       "2730499                30.0  ...               15.0      35.666667   \n",
       "2730500                59.0  ...               55.0      56.166667   \n",
       "2730501                36.0  ...               24.0      34.083333   \n",
       "2730502                50.0  ...               64.0      39.833333   \n",
       "\n",
       "         Std_Position  Min_Position  Max_Position  Median_Position  \\\n",
       "0           27.185669          12.0          78.0             41.0   \n",
       "1           13.377956           4.0          42.0             14.0   \n",
       "2           19.386617          13.0          79.0             43.5   \n",
       "3           29.652916           2.0          82.0             41.5   \n",
       "4           17.202008          27.0          79.0             46.0   \n",
       "...               ...           ...           ...              ...   \n",
       "2730498     13.104186          11.0          56.0             33.0   \n",
       "2730499     11.672293          15.0          49.0             40.5   \n",
       "2730500      5.556869          46.0          63.0             57.0   \n",
       "2730501     16.228249           7.0          61.0             36.0   \n",
       "2730502     17.377275          16.0          64.0             34.0   \n",
       "\n",
       "         Skew_Position  Kurtosis_Position  item_popularity  user_profile_len  \n",
       "0             0.011792          -1.686444         0.109336          0.020373  \n",
       "1             0.650429          -0.957383         0.032801          0.020373  \n",
       "2             0.057103          -0.792077         0.021026          0.020373  \n",
       "3             0.114113          -1.486611         0.086627          0.020373  \n",
       "4             0.386355          -1.248334         0.032801          0.020373  \n",
       "...                ...                ...              ...               ...  \n",
       "2730498       0.190019          -0.726759         0.017662          0.005576  \n",
       "2730499      -0.757271          -0.711292         0.038688          0.005576  \n",
       "2730500      -0.481366          -0.844568         0.031119          0.005576  \n",
       "2730501       0.016858          -0.766570         0.114382          0.005576  \n",
       "2730502       0.330212          -1.326921         0.024390          0.005576  \n",
       "\n",
       "[2730503 rows x 37 columns]"
      ]
     },
     "metadata": {},
     "output_type": "display_data"
    }
   ],
   "source": [
    "if config[\"tune_best_params\"]:\n",
    "    display(testing_dataframe)"
   ]
  },
  {
   "cell_type": "code",
   "execution_count": 27,
   "id": "495d3b35",
   "metadata": {
    "execution": {
     "iopub.execute_input": "2025-01-07T19:19:16.137172Z",
     "iopub.status.busy": "2025-01-07T19:19:16.136662Z",
     "iopub.status.idle": "2025-01-07T19:19:20.604171Z",
     "shell.execute_reply": "2025-01-07T19:19:20.602908Z"
    },
    "papermill": {
     "duration": 4.499267,
     "end_time": "2025-01-07T19:19:20.606294",
     "exception": false,
     "start_time": "2025-01-07T19:19:16.107027",
     "status": "completed"
    },
    "tags": []
   },
   "outputs": [
    {
     "name": "stdout",
     "output_type": "stream",
     "text": [
      "prediction_dataframe loaded.\n"
     ]
    },
    {
     "data": {
      "text/html": [
       "<div>\n",
       "<style scoped>\n",
       "    .dataframe tbody tr th:only-of-type {\n",
       "        vertical-align: middle;\n",
       "    }\n",
       "\n",
       "    .dataframe tbody tr th {\n",
       "        vertical-align: top;\n",
       "    }\n",
       "\n",
       "    .dataframe thead th {\n",
       "        text-align: right;\n",
       "    }\n",
       "</style>\n",
       "<table border=\"1\" class=\"dataframe\">\n",
       "  <thead>\n",
       "    <tr style=\"text-align: right;\">\n",
       "      <th></th>\n",
       "      <th>UserID</th>\n",
       "      <th>ItemID</th>\n",
       "      <th>feature_recommender_count</th>\n",
       "      <th>RP3beta_score</th>\n",
       "      <th>RP3beta_position</th>\n",
       "      <th>P3alpha_score</th>\n",
       "      <th>P3alpha_position</th>\n",
       "      <th>ItemKNNCF_score</th>\n",
       "      <th>ItemKNNCF_position</th>\n",
       "      <th>ItemKNNCBF_score</th>\n",
       "      <th>...</th>\n",
       "      <th>SLIM_BPR_position</th>\n",
       "      <th>Mean_Position</th>\n",
       "      <th>Std_Position</th>\n",
       "      <th>Min_Position</th>\n",
       "      <th>Max_Position</th>\n",
       "      <th>Median_Position</th>\n",
       "      <th>Skew_Position</th>\n",
       "      <th>Kurtosis_Position</th>\n",
       "      <th>item_popularity</th>\n",
       "      <th>user_profile_len</th>\n",
       "    </tr>\n",
       "  </thead>\n",
       "  <tbody>\n",
       "    <tr>\n",
       "      <th>0</th>\n",
       "      <td>0</td>\n",
       "      <td>39.0</td>\n",
       "      <td>0</td>\n",
       "      <td>0.206258</td>\n",
       "      <td>61.0</td>\n",
       "      <td>0.207786</td>\n",
       "      <td>59.0</td>\n",
       "      <td>0.000000</td>\n",
       "      <td>77.0</td>\n",
       "      <td>0.000000</td>\n",
       "      <td>...</td>\n",
       "      <td>23.0</td>\n",
       "      <td>57.166667</td>\n",
       "      <td>16.303002</td>\n",
       "      <td>23.0</td>\n",
       "      <td>77.0</td>\n",
       "      <td>61.0</td>\n",
       "      <td>-0.784565</td>\n",
       "      <td>-0.300162</td>\n",
       "      <td>0.214286</td>\n",
       "      <td>0.019338</td>\n",
       "    </tr>\n",
       "    <tr>\n",
       "      <th>1</th>\n",
       "      <td>0</td>\n",
       "      <td>11966.0</td>\n",
       "      <td>7</td>\n",
       "      <td>0.953207</td>\n",
       "      <td>2.0</td>\n",
       "      <td>0.684547</td>\n",
       "      <td>4.0</td>\n",
       "      <td>0.402443</td>\n",
       "      <td>31.0</td>\n",
       "      <td>0.000000</td>\n",
       "      <td>...</td>\n",
       "      <td>45.0</td>\n",
       "      <td>16.916667</td>\n",
       "      <td>16.323203</td>\n",
       "      <td>2.0</td>\n",
       "      <td>45.0</td>\n",
       "      <td>6.5</td>\n",
       "      <td>0.591674</td>\n",
       "      <td>-1.314870</td>\n",
       "      <td>0.035374</td>\n",
       "      <td>0.019338</td>\n",
       "    </tr>\n",
       "    <tr>\n",
       "      <th>2</th>\n",
       "      <td>0</td>\n",
       "      <td>11875.0</td>\n",
       "      <td>0</td>\n",
       "      <td>0.146607</td>\n",
       "      <td>69.0</td>\n",
       "      <td>0.000000</td>\n",
       "      <td>76.0</td>\n",
       "      <td>0.151048</td>\n",
       "      <td>62.0</td>\n",
       "      <td>0.000000</td>\n",
       "      <td>...</td>\n",
       "      <td>51.0</td>\n",
       "      <td>52.500000</td>\n",
       "      <td>17.212575</td>\n",
       "      <td>22.0</td>\n",
       "      <td>77.0</td>\n",
       "      <td>49.0</td>\n",
       "      <td>-0.063678</td>\n",
       "      <td>-0.994721</td>\n",
       "      <td>0.017007</td>\n",
       "      <td>0.019338</td>\n",
       "    </tr>\n",
       "    <tr>\n",
       "      <th>3</th>\n",
       "      <td>0</td>\n",
       "      <td>11699.0</td>\n",
       "      <td>7</td>\n",
       "      <td>0.220013</td>\n",
       "      <td>57.0</td>\n",
       "      <td>0.557208</td>\n",
       "      <td>8.0</td>\n",
       "      <td>0.460461</td>\n",
       "      <td>24.0</td>\n",
       "      <td>0.264413</td>\n",
       "      <td>...</td>\n",
       "      <td>10.0</td>\n",
       "      <td>18.916667</td>\n",
       "      <td>20.999820</td>\n",
       "      <td>1.0</td>\n",
       "      <td>65.0</td>\n",
       "      <td>9.5</td>\n",
       "      <td>1.397884</td>\n",
       "      <td>0.500086</td>\n",
       "      <td>0.089796</td>\n",
       "      <td>0.019338</td>\n",
       "    </tr>\n",
       "    <tr>\n",
       "      <th>4</th>\n",
       "      <td>0</td>\n",
       "      <td>11580.0</td>\n",
       "      <td>0</td>\n",
       "      <td>0.315870</td>\n",
       "      <td>48.0</td>\n",
       "      <td>0.239785</td>\n",
       "      <td>50.0</td>\n",
       "      <td>0.337058</td>\n",
       "      <td>35.0</td>\n",
       "      <td>0.000000</td>\n",
       "      <td>...</td>\n",
       "      <td>36.0</td>\n",
       "      <td>36.833333</td>\n",
       "      <td>12.861736</td>\n",
       "      <td>19.0</td>\n",
       "      <td>64.0</td>\n",
       "      <td>36.0</td>\n",
       "      <td>0.510445</td>\n",
       "      <td>-0.096555</td>\n",
       "      <td>0.031973</td>\n",
       "      <td>0.019338</td>\n",
       "    </tr>\n",
       "    <tr>\n",
       "      <th>...</th>\n",
       "      <td>...</td>\n",
       "      <td>...</td>\n",
       "      <td>...</td>\n",
       "      <td>...</td>\n",
       "      <td>...</td>\n",
       "      <td>...</td>\n",
       "      <td>...</td>\n",
       "      <td>...</td>\n",
       "      <td>...</td>\n",
       "      <td>...</td>\n",
       "      <td>...</td>\n",
       "      <td>...</td>\n",
       "      <td>...</td>\n",
       "      <td>...</td>\n",
       "      <td>...</td>\n",
       "      <td>...</td>\n",
       "      <td>...</td>\n",
       "      <td>...</td>\n",
       "      <td>...</td>\n",
       "      <td>...</td>\n",
       "      <td>...</td>\n",
       "    </tr>\n",
       "    <tr>\n",
       "      <th>2741148</th>\n",
       "      <td>35735</td>\n",
       "      <td>36087.0</td>\n",
       "      <td>2</td>\n",
       "      <td>0.192971</td>\n",
       "      <td>25.0</td>\n",
       "      <td>0.336049</td>\n",
       "      <td>15.0</td>\n",
       "      <td>0.415526</td>\n",
       "      <td>13.0</td>\n",
       "      <td>0.557786</td>\n",
       "      <td>...</td>\n",
       "      <td>16.0</td>\n",
       "      <td>20.166667</td>\n",
       "      <td>11.215520</td>\n",
       "      <td>5.0</td>\n",
       "      <td>43.0</td>\n",
       "      <td>17.5</td>\n",
       "      <td>0.816948</td>\n",
       "      <td>-0.206112</td>\n",
       "      <td>0.058503</td>\n",
       "      <td>0.006277</td>\n",
       "    </tr>\n",
       "    <tr>\n",
       "      <th>2741149</th>\n",
       "      <td>35735</td>\n",
       "      <td>36092.0</td>\n",
       "      <td>0</td>\n",
       "      <td>0.176088</td>\n",
       "      <td>27.0</td>\n",
       "      <td>0.060121</td>\n",
       "      <td>48.0</td>\n",
       "      <td>0.199304</td>\n",
       "      <td>30.0</td>\n",
       "      <td>0.000000</td>\n",
       "      <td>...</td>\n",
       "      <td>29.0</td>\n",
       "      <td>34.083333</td>\n",
       "      <td>8.425700</td>\n",
       "      <td>26.0</td>\n",
       "      <td>53.0</td>\n",
       "      <td>31.0</td>\n",
       "      <td>1.318766</td>\n",
       "      <td>0.438210</td>\n",
       "      <td>0.017007</td>\n",
       "      <td>0.006277</td>\n",
       "    </tr>\n",
       "    <tr>\n",
       "      <th>2741150</th>\n",
       "      <td>35735</td>\n",
       "      <td>36093.0</td>\n",
       "      <td>0</td>\n",
       "      <td>0.169507</td>\n",
       "      <td>30.0</td>\n",
       "      <td>0.155438</td>\n",
       "      <td>31.0</td>\n",
       "      <td>0.296087</td>\n",
       "      <td>20.0</td>\n",
       "      <td>0.446229</td>\n",
       "      <td>...</td>\n",
       "      <td>24.0</td>\n",
       "      <td>26.750000</td>\n",
       "      <td>9.343204</td>\n",
       "      <td>12.0</td>\n",
       "      <td>42.0</td>\n",
       "      <td>27.0</td>\n",
       "      <td>-0.053391</td>\n",
       "      <td>-1.130060</td>\n",
       "      <td>0.044898</td>\n",
       "      <td>0.006277</td>\n",
       "    </tr>\n",
       "    <tr>\n",
       "      <th>2741151</th>\n",
       "      <td>35735</td>\n",
       "      <td>36164.0</td>\n",
       "      <td>0</td>\n",
       "      <td>0.204443</td>\n",
       "      <td>23.0</td>\n",
       "      <td>0.173084</td>\n",
       "      <td>28.0</td>\n",
       "      <td>0.141923</td>\n",
       "      <td>43.0</td>\n",
       "      <td>0.000000</td>\n",
       "      <td>...</td>\n",
       "      <td>20.0</td>\n",
       "      <td>31.000000</td>\n",
       "      <td>10.795622</td>\n",
       "      <td>18.0</td>\n",
       "      <td>47.0</td>\n",
       "      <td>27.5</td>\n",
       "      <td>0.452351</td>\n",
       "      <td>-1.359306</td>\n",
       "      <td>0.016327</td>\n",
       "      <td>0.006277</td>\n",
       "    </tr>\n",
       "    <tr>\n",
       "      <th>2741152</th>\n",
       "      <td>35735</td>\n",
       "      <td>38033.0</td>\n",
       "      <td>2</td>\n",
       "      <td>0.284504</td>\n",
       "      <td>18.0</td>\n",
       "      <td>0.254186</td>\n",
       "      <td>21.0</td>\n",
       "      <td>0.235036</td>\n",
       "      <td>27.0</td>\n",
       "      <td>0.999997</td>\n",
       "      <td>...</td>\n",
       "      <td>15.0</td>\n",
       "      <td>21.250000</td>\n",
       "      <td>11.879126</td>\n",
       "      <td>1.0</td>\n",
       "      <td>45.0</td>\n",
       "      <td>19.5</td>\n",
       "      <td>0.573492</td>\n",
       "      <td>0.131641</td>\n",
       "      <td>0.026531</td>\n",
       "      <td>0.006277</td>\n",
       "    </tr>\n",
       "  </tbody>\n",
       "</table>\n",
       "<p>2741153 rows × 36 columns</p>\n",
       "</div>"
      ],
      "text/plain": [
       "         UserID   ItemID  feature_recommender_count  RP3beta_score  \\\n",
       "0             0     39.0                          0       0.206258   \n",
       "1             0  11966.0                          7       0.953207   \n",
       "2             0  11875.0                          0       0.146607   \n",
       "3             0  11699.0                          7       0.220013   \n",
       "4             0  11580.0                          0       0.315870   \n",
       "...         ...      ...                        ...            ...   \n",
       "2741148   35735  36087.0                          2       0.192971   \n",
       "2741149   35735  36092.0                          0       0.176088   \n",
       "2741150   35735  36093.0                          0       0.169507   \n",
       "2741151   35735  36164.0                          0       0.204443   \n",
       "2741152   35735  38033.0                          2       0.284504   \n",
       "\n",
       "         RP3beta_position  P3alpha_score  P3alpha_position  ItemKNNCF_score  \\\n",
       "0                    61.0       0.207786              59.0         0.000000   \n",
       "1                     2.0       0.684547               4.0         0.402443   \n",
       "2                    69.0       0.000000              76.0         0.151048   \n",
       "3                    57.0       0.557208               8.0         0.460461   \n",
       "4                    48.0       0.239785              50.0         0.337058   \n",
       "...                   ...            ...               ...              ...   \n",
       "2741148              25.0       0.336049              15.0         0.415526   \n",
       "2741149              27.0       0.060121              48.0         0.199304   \n",
       "2741150              30.0       0.155438              31.0         0.296087   \n",
       "2741151              23.0       0.173084              28.0         0.141923   \n",
       "2741152              18.0       0.254186              21.0         0.235036   \n",
       "\n",
       "         ItemKNNCF_position  ItemKNNCBF_score  ...  SLIM_BPR_position  \\\n",
       "0                      77.0          0.000000  ...               23.0   \n",
       "1                      31.0          0.000000  ...               45.0   \n",
       "2                      62.0          0.000000  ...               51.0   \n",
       "3                      24.0          0.264413  ...               10.0   \n",
       "4                      35.0          0.000000  ...               36.0   \n",
       "...                     ...               ...  ...                ...   \n",
       "2741148                13.0          0.557786  ...               16.0   \n",
       "2741149                30.0          0.000000  ...               29.0   \n",
       "2741150                20.0          0.446229  ...               24.0   \n",
       "2741151                43.0          0.000000  ...               20.0   \n",
       "2741152                27.0          0.999997  ...               15.0   \n",
       "\n",
       "         Mean_Position  Std_Position  Min_Position  Max_Position  \\\n",
       "0            57.166667     16.303002          23.0          77.0   \n",
       "1            16.916667     16.323203           2.0          45.0   \n",
       "2            52.500000     17.212575          22.0          77.0   \n",
       "3            18.916667     20.999820           1.0          65.0   \n",
       "4            36.833333     12.861736          19.0          64.0   \n",
       "...                ...           ...           ...           ...   \n",
       "2741148      20.166667     11.215520           5.0          43.0   \n",
       "2741149      34.083333      8.425700          26.0          53.0   \n",
       "2741150      26.750000      9.343204          12.0          42.0   \n",
       "2741151      31.000000     10.795622          18.0          47.0   \n",
       "2741152      21.250000     11.879126           1.0          45.0   \n",
       "\n",
       "         Median_Position  Skew_Position  Kurtosis_Position  item_popularity  \\\n",
       "0                   61.0      -0.784565          -0.300162         0.214286   \n",
       "1                    6.5       0.591674          -1.314870         0.035374   \n",
       "2                   49.0      -0.063678          -0.994721         0.017007   \n",
       "3                    9.5       1.397884           0.500086         0.089796   \n",
       "4                   36.0       0.510445          -0.096555         0.031973   \n",
       "...                  ...            ...                ...              ...   \n",
       "2741148             17.5       0.816948          -0.206112         0.058503   \n",
       "2741149             31.0       1.318766           0.438210         0.017007   \n",
       "2741150             27.0      -0.053391          -1.130060         0.044898   \n",
       "2741151             27.5       0.452351          -1.359306         0.016327   \n",
       "2741152             19.5       0.573492           0.131641         0.026531   \n",
       "\n",
       "         user_profile_len  \n",
       "0                0.019338  \n",
       "1                0.019338  \n",
       "2                0.019338  \n",
       "3                0.019338  \n",
       "4                0.019338  \n",
       "...                   ...  \n",
       "2741148          0.006277  \n",
       "2741149          0.006277  \n",
       "2741150          0.006277  \n",
       "2741151          0.006277  \n",
       "2741152          0.006277  \n",
       "\n",
       "[2741153 rows x 36 columns]"
      ]
     },
     "metadata": {},
     "output_type": "display_data"
    }
   ],
   "source": [
    "if config[\"tune_best_params\"]:\n",
    "    \n",
    "    if os.path.exists(dataframes_path + f'/prediction_dataframe_{config[\"model\"]}.parquet'):\n",
    "        prediction_dataframe = pd.read_parquet(dataframes_path + f'/prediction_dataframe_{config[\"model\"]}.parquet')\n",
    "        print(\"prediction_dataframe loaded.\")\n",
    "    \n",
    "    else:\n",
    "\n",
    "        print(\"***TRAINING CONTENT GENERATION RECOMMENDERS***\\n\")\n",
    "        candidate_generator_recommenders = fit_recommenders(\"Recall\", \"TrainValTest\", URM_all, ICM_all, cg_recommenders, GH_PATH_1, \"cg\", repo, take_kfcv_models=True)\n",
    "\n",
    "        print(\"***TRAINING FEATURE RECOMMENDERS***\\n\")\n",
    "        features_recommenders = fit_recommenders(\"MAP\", \"TrainValTest\", URM_all, ICM_all, f_recommenders, GH_PATH_1, \"f\", repo, take_kfcv_models=True)\n",
    "\n",
    "        print()\n",
    "        prediction_dataframe = create_XGBoost_dataframe(URM_all, candidate_generator_recommenders, features_recommenders, ICM_all, cutoff=50, categorical=config[\"categorical\"], contents=config[\"contents\"])\n",
    "        prediction_dataframe.to_parquet(f'/kaggle/working/prediction_dataframe_{config[\"model\"]}.parquet')\n",
    "\n",
    "        del candidate_generator_recommenders, features_recommenders\n",
    "    \n",
    "    display(prediction_dataframe)\n",
    "\n",
    "    y_test = testing_dataframe[\"Label\"]\n",
    "    X_test = testing_dataframe.drop(columns=[\"Label\"])\n",
    "\n",
    "    del testing_dataframe"
   ]
  },
  {
   "cell_type": "markdown",
   "id": "ef1c0542",
   "metadata": {
    "papermill": {
     "duration": 0.028878,
     "end_time": "2025-01-07T19:19:20.664859",
     "exception": false,
     "start_time": "2025-01-07T19:19:20.635981",
     "status": "completed"
    },
    "tags": []
   },
   "source": [
    "### Train best XGBoost model"
   ]
  },
  {
   "cell_type": "code",
   "execution_count": 28,
   "id": "5137e6ac",
   "metadata": {
    "execution": {
     "iopub.execute_input": "2025-01-07T19:19:20.725414Z",
     "iopub.status.busy": "2025-01-07T19:19:20.725013Z",
     "iopub.status.idle": "2025-01-07T19:22:10.471865Z",
     "shell.execute_reply": "2025-01-07T19:22:10.470527Z"
    },
    "papermill": {
     "duration": 169.778795,
     "end_time": "2025-01-07T19:22:10.473977",
     "exception": false,
     "start_time": "2025-01-07T19:19:20.695182",
     "status": "completed"
    },
    "tags": []
   },
   "outputs": [],
   "source": [
    "if config['tune_best_params']:\n",
    "\n",
    "    if config['tune_parameters']:\n",
    "        best_params = optuna_study.best_trial.params\n",
    "    else: \n",
    "        with open(f'{K_PATH}/{GH_PATH}/{D_PATH}/{config[\"model\"]}Recommender/Optimizing{config[\"metric\"]}/best_params_{config[\"model\"]}_{config[\"metric\"]}.json', 'r') as best_params_json:\n",
    "            best_params = json.load(best_params_json)\n",
    "\n",
    "    recommender_instance = XGBoostRankerRecommender(URM_all, X_test, y_test, prediction_dataframe)\n",
    "    recommender_instance.fit(\n",
    "        groups_test,\n",
    "        **best_params\n",
    "    )"
   ]
  },
  {
   "cell_type": "markdown",
   "id": "9283d827",
   "metadata": {
    "papermill": {
     "duration": 0.028825,
     "end_time": "2025-01-07T19:22:10.534406",
     "exception": false,
     "start_time": "2025-01-07T19:22:10.505581",
     "status": "completed"
    },
    "tags": []
   },
   "source": [
    "## Feature importance"
   ]
  },
  {
   "cell_type": "code",
   "execution_count": 29,
   "id": "d5f334e4",
   "metadata": {
    "execution": {
     "iopub.execute_input": "2025-01-07T19:22:10.595135Z",
     "iopub.status.busy": "2025-01-07T19:22:10.594714Z",
     "iopub.status.idle": "2025-01-07T19:22:11.406808Z",
     "shell.execute_reply": "2025-01-07T19:22:11.405466Z"
    },
    "papermill": {
     "duration": 0.846393,
     "end_time": "2025-01-07T19:22:11.410908",
     "exception": false,
     "start_time": "2025-01-07T19:22:10.564515",
     "status": "completed"
    },
    "tags": []
   },
   "outputs": [
    {
     "data": {
      "image/png": "[encoded data removed]",
      "text/plain": [
       "<Figure size 640x480 with 1 Axes>"
      ]
     },
     "metadata": {},
     "output_type": "display_data"
    }
   ],
   "source": [
    "if config['tune_best_params']:\n",
    "    plot_importance(recommender_instance.model, importance_type='gain', title='Gain')"
   ]
  },
  {
   "cell_type": "code",
   "execution_count": 30,
   "id": "809a38bc",
   "metadata": {
    "execution": {
     "iopub.execute_input": "2025-01-07T19:22:11.480453Z",
     "iopub.status.busy": "2025-01-07T19:22:11.480096Z",
     "iopub.status.idle": "2025-01-07T19:22:12.195189Z",
     "shell.execute_reply": "2025-01-07T19:22:12.193950Z"
    },
    "papermill": {
     "duration": 0.752754,
     "end_time": "2025-01-07T19:22:12.197861",
     "exception": false,
     "start_time": "2025-01-07T19:22:11.445107",
     "status": "completed"
    },
    "tags": []
   },
   "outputs": [
    {
     "data": {
      "image/png": "[encoded data removed]",
      "text/plain": [
       "<Figure size 640x480 with 1 Axes>"
      ]
     },
     "metadata": {},
     "output_type": "display_data"
    }
   ],
   "source": [
    "if config['tune_best_params']:\n",
    "    plot_importance(recommender_instance.model, importance_type='cover', title='Cover')"
   ]
  },
  {
   "cell_type": "code",
   "execution_count": 31,
   "id": "87c75001",
   "metadata": {
    "_kg_hide-output": true,
    "execution": {
     "iopub.execute_input": "2025-01-07T19:22:12.277054Z",
     "iopub.status.busy": "2025-01-07T19:22:12.276575Z",
     "iopub.status.idle": "2025-01-07T19:22:12.963082Z",
     "shell.execute_reply": "2025-01-07T19:22:12.961908Z"
    },
    "papermill": {
     "duration": 0.727783,
     "end_time": "2025-01-07T19:22:12.965163",
     "exception": false,
     "start_time": "2025-01-07T19:22:12.237380",
     "status": "completed"
    },
    "tags": []
   },
   "outputs": [
    {
     "data": {
      "image/png": "[encoded data removed]",
      "text/plain": [
       "<Figure size 640x480 with 1 Axes>"
      ]
     },
     "metadata": {},
     "output_type": "display_data"
    }
   ],
   "source": [
    "if config['tune_best_params']:\n",
    "    plot_importance(recommender_instance.model, importance_type='weight', title='Weight (Frequence)')"
   ]
  },
  {
   "attachments": {},
   "cell_type": "markdown",
   "id": "b77f01aa",
   "metadata": {
    "papermill": {
     "duration": 0.044354,
     "end_time": "2025-01-07T19:22:13.050838",
     "exception": false,
     "start_time": "2025-01-07T19:22:13.006484",
     "status": "completed"
    },
    "tags": []
   },
   "source": [
    "# Submission\n",
    "\n",
    "Create the recommendations for the submission."
   ]
  },
  {
   "cell_type": "code",
   "execution_count": 32,
   "id": "944fb2ca",
   "metadata": {
    "execution": {
     "iopub.execute_input": "2025-01-07T19:22:13.133001Z",
     "iopub.status.busy": "2025-01-07T19:22:13.132550Z",
     "iopub.status.idle": "2025-01-07T19:28:41.473378Z",
     "shell.execute_reply": "2025-01-07T19:28:41.472192Z"
    },
    "papermill": {
     "duration": 388.425565,
     "end_time": "2025-01-07T19:28:41.516427",
     "exception": false,
     "start_time": "2025-01-07T19:22:13.090862",
     "status": "completed"
    },
    "tags": []
   },
   "outputs": [
    {
     "name": "stdout",
     "output_type": "stream",
     "text": [
      "Submission file saved as /kaggle/working/submission_XGBoostNoCont_MAP.csv\n"
     ]
    }
   ],
   "source": [
    "if config['tune_best_params']:\n",
    "\n",
    "    data_target_users_test = pd.read_csv('/kaggle/input/recommender-system-2024-challenge-polimi/data_target_users_test.csv')\n",
    "    create_submission(data_target_users_test, recommender_instance, f'/kaggle/working/submission_{config[\"model\"]}_{config[\"metric\"]}.csv')"
   ]
  },
  {
   "attachments": {},
   "cell_type": "markdown",
   "id": "82c2a198",
   "metadata": {
    "papermill": {
     "duration": 0.039341,
     "end_time": "2025-01-07T19:28:41.596053",
     "exception": false,
     "start_time": "2025-01-07T19:28:41.556712",
     "status": "completed"
    },
    "tags": []
   },
   "source": [
    "# Save Version on GitHub \n",
    "\n",
    "Write or import a json file where best hyperparameters are saved. "
   ]
  },
  {
   "cell_type": "code",
   "execution_count": 33,
   "id": "4f020fa2",
   "metadata": {
    "execution": {
     "iopub.execute_input": "2025-01-07T19:28:41.680033Z",
     "iopub.status.busy": "2025-01-07T19:28:41.679551Z",
     "iopub.status.idle": "2025-01-07T19:28:41.697093Z",
     "shell.execute_reply": "2025-01-07T19:28:41.696089Z"
    },
    "papermill": {
     "duration": 0.061136,
     "end_time": "2025-01-07T19:28:41.699083",
     "exception": false,
     "start_time": "2025-01-07T19:28:41.637947",
     "status": "completed"
    },
    "tags": []
   },
   "outputs": [],
   "source": [
    "if config['tune_parameters']:\n",
    "    with open(f'/kaggle/working/best_params_{config[\"model\"]}_{config[\"metric\"]}.json', 'w') as params_file:\n",
    "        json.dump(optuna_study.best_params, params_file)\n",
    "        \n",
    "    if config['save_github']:\n",
    "        upload_file(\n",
    "            f'/kaggle/working/best_params_{config[\"model\"]}_{config[\"metric\"]}.json', \n",
    "            f'{GH_PATH}/{D_PATH}/{config[\"model\"]}Recommender/Optimizing{config[\"metric\"]}/best_params_{config[\"model\"]}_{config[\"metric\"]}.json', \n",
    "            f'{config[\"model\"]}_{config[\"metric\"]} tuning results (from kaggle notebook)',\n",
    "            repo\n",
    "        )\n",
    "elif config['copy_prev_best_params']:\n",
    "    shutil.copyfile(\n",
    "        f'{K_PATH}/{GH_PATH}/{D_PATH}/{config[\"model\"]}Recommender/Optimizing{config[\"metric\"]}/'\\\n",
    "        f'best_params_{config[\"model\"]}_{config[\"metric\"]}.json', \n",
    "        f'/kaggle/working/best_params_{config[\"model\"]}_{config[\"metric\"]}.json'\n",
    "    )"
   ]
  },
  {
   "cell_type": "markdown",
   "id": "cd9bd4df",
   "metadata": {
    "execution": {
     "iopub.execute_input": "2024-11-14T00:41:34.294243Z",
     "iopub.status.busy": "2024-11-14T00:41:34.293739Z",
     "iopub.status.idle": "2024-11-14T00:41:34.301478Z",
     "shell.execute_reply": "2024-11-14T00:41:34.299869Z",
     "shell.execute_reply.started": "2024-11-14T00:41:34.294186Z"
    },
    "papermill": {
     "duration": 0.039849,
     "end_time": "2025-01-07T19:28:41.779587",
     "exception": false,
     "start_time": "2025-01-07T19:28:41.739738",
     "status": "completed"
    },
    "tags": []
   },
   "source": [
    "Save the history of the tuned model."
   ]
  },
  {
   "cell_type": "code",
   "execution_count": 34,
   "id": "eb03d3a0",
   "metadata": {
    "execution": {
     "iopub.execute_input": "2025-01-07T19:28:41.861478Z",
     "iopub.status.busy": "2025-01-07T19:28:41.861122Z",
     "iopub.status.idle": "2025-01-07T19:28:41.866166Z",
     "shell.execute_reply": "2025-01-07T19:28:41.865034Z"
    },
    "papermill": {
     "duration": 0.048266,
     "end_time": "2025-01-07T19:28:41.867961",
     "exception": false,
     "start_time": "2025-01-07T19:28:41.819695",
     "status": "completed"
    },
    "tags": []
   },
   "outputs": [],
   "source": [
    "if config['save_github'] and config['tune_parameters']:\n",
    "    upload_file(\n",
    "        config['database_path'], \n",
    "        f'{GH_PATH}/{D_PATH}/{config[\"model\"]}Recommender/Optimizing{config[\"metric\"]}/history_{config[\"model\"]}_{config[\"metric\"]}.db',\n",
    "        f'Tuning {config[\"model\"]}_{config[\"metric\"]} db updated results (from kaggle notebook)',\n",
    "        repo\n",
    "    )"
   ]
  },
  {
   "cell_type": "markdown",
   "id": "b6e72f59",
   "metadata": {
    "papermill": {
     "duration": 0.039926,
     "end_time": "2025-01-07T19:28:41.948711",
     "exception": false,
     "start_time": "2025-01-07T19:28:41.908785",
     "status": "completed"
    },
    "tags": []
   },
   "source": [
    "Save the best trained model and its submission."
   ]
  },
  {
   "cell_type": "code",
   "execution_count": 35,
   "id": "33cf634c",
   "metadata": {
    "execution": {
     "iopub.execute_input": "2025-01-07T19:28:42.033757Z",
     "iopub.status.busy": "2025-01-07T19:28:42.033299Z",
     "iopub.status.idle": "2025-01-07T19:28:42.038443Z",
     "shell.execute_reply": "2025-01-07T19:28:42.037280Z"
    },
    "papermill": {
     "duration": 0.051539,
     "end_time": "2025-01-07T19:28:42.040411",
     "exception": false,
     "start_time": "2025-01-07T19:28:41.988872",
     "status": "completed"
    },
    "tags": []
   },
   "outputs": [],
   "source": [
    "if config['save_github'] and config['tune_best_params']: \n",
    "    upload_file(\n",
    "                f'/kaggle/working/submission_{config[\"model\"]}_{config[\"metric\"]}.csv', \n",
    "                f'{GH_PATH}/{D_PATH}/{config[\"model\"]}Recommender/Optimizing{config[\"metric\"]}/Submission/submission_{config[\"model\"]}_{config[\"metric\"]}.csv', \n",
    "                f'New {config[\"model\"]}_{config[\"metric\"]} submission (from kaggle notebook)',\n",
    "                repo\n",
    "            )"
   ]
  }
 ],
 "metadata": {
  "kaggle": {
   "accelerator": "none",
   "dataSources": [
    {
     "databundleVersionId": 9982103,
     "sourceId": 87439,
     "sourceType": "competition"
    },
    {
     "datasetId": 6390368,
     "sourceId": 10321338,
     "sourceType": "datasetVersion"
    },
    {
     "datasetId": 6390688,
     "sourceId": 10321786,
     "sourceType": "datasetVersion"
    },
    {
     "datasetId": 6390755,
     "sourceId": 10321877,
     "sourceType": "datasetVersion"
    },
    {
     "datasetId": 6391122,
     "sourceId": 10322447,
     "sourceType": "datasetVersion"
    },
    {
     "datasetId": 6392420,
     "sourceId": 10324491,
     "sourceType": "datasetVersion"
    },
    {
     "datasetId": 6392432,
     "sourceId": 10324507,
     "sourceType": "datasetVersion"
    },
    {
     "datasetId": 6392448,
     "sourceId": 10324524,
     "sourceType": "datasetVersion"
    },
    {
     "datasetId": 6392454,
     "sourceId": 10324531,
     "sourceType": "datasetVersion"
    },
    {
     "datasetId": 6392495,
     "sourceId": 10324583,
     "sourceType": "datasetVersion"
    },
    {
     "datasetId": 6392508,
     "sourceId": 10324599,
     "sourceType": "datasetVersion"
    },
    {
     "datasetId": 6392523,
     "sourceId": 10324620,
     "sourceType": "datasetVersion"
    },
    {
     "datasetId": 6392689,
     "sourceId": 10324848,
     "sourceType": "datasetVersion"
    },
    {
     "datasetId": 6392704,
     "sourceId": 10324867,
     "sourceType": "datasetVersion"
    },
    {
     "datasetId": 6392721,
     "sourceId": 10324888,
     "sourceType": "datasetVersion"
    },
    {
     "datasetId": 6392739,
     "sourceId": 10324912,
     "sourceType": "datasetVersion"
    },
    {
     "datasetId": 6440657,
     "sourceId": 10395107,
     "sourceType": "datasetVersion"
    }
   ],
   "isGpuEnabled": false,
   "isInternetEnabled": true,
   "language": "python",
   "sourceType": "notebook"
  },
  "kernelspec": {
   "display_name": "Python 3",
   "language": "python",
   "name": "python3"
  },
  "language_info": {
   "codemirror_mode": {
    "name": "ipython",
    "version": 3
   },
   "file_extension": ".py",
   "mimetype": "text/x-python",
   "name": "python",
   "nbconvert_exporter": "python",
   "pygments_lexer": "ipython3",
   "version": "3.10.12"
  },
  "papermill": {
   "default_parameters": {},
   "duration": 19021.707211,
   "end_time": "2025-01-07T19:28:45.010779",
   "environment_variables": {},
   "exception": null,
   "input_path": "__notebook__.ipynb",
   "output_path": "__notebook__.ipynb",
   "parameters": {},
   "start_time": "2025-01-07T14:11:43.303568",
   "version": "2.6.0"
  }
 },
 "nbformat": 4,
 "nbformat_minor": 5
}
