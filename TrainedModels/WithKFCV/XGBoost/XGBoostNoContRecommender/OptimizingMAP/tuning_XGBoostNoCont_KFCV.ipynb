{
 "cells": [
  {
   "cell_type": "markdown",
   "id": "52c7da3a",
   "metadata": {
    "papermill": {
     "duration": 0.009568,
     "end_time": "2025-01-07T13:31:04.057378",
     "exception": false,
     "start_time": "2025-01-07T13:31:04.047810",
     "status": "completed"
    },
    "tags": []
   },
   "source": [
    "# Set connection with GitHub"
   ]
  },
  {
   "cell_type": "code",
   "execution_count": 1,
   "id": "705ea335",
   "metadata": {
    "execution": {
     "iopub.execute_input": "2025-01-07T13:31:04.076567Z",
     "iopub.status.busy": "2025-01-07T13:31:04.076247Z",
     "iopub.status.idle": "2025-01-07T13:31:04.081042Z",
     "shell.execute_reply": "2025-01-07T13:31:04.080165Z"
    },
    "papermill": {
     "duration": 0.016183,
     "end_time": "2025-01-07T13:31:04.082653",
     "exception": false,
     "start_time": "2025-01-07T13:31:04.066470",
     "status": "completed"
    },
    "tags": []
   },
   "outputs": [],
   "source": [
    "# ! cd /kaggle/working && rm -rf RECsys_Challenge2024"
   ]
  },
  {
   "cell_type": "code",
   "execution_count": 2,
   "id": "30b55e98",
   "metadata": {
    "_cell_guid": "b1076dfc-b9ad-4769-8c92-a6c4dae69d19",
    "_uuid": "8f2839f25d086af736a60e9eeb907d3b93b6e0e5",
    "execution": {
     "iopub.execute_input": "2025-01-07T13:31:04.101795Z",
     "iopub.status.busy": "2025-01-07T13:31:04.101393Z",
     "iopub.status.idle": "2025-01-07T13:31:28.561918Z",
     "shell.execute_reply": "2025-01-07T13:31:28.560820Z"
    },
    "papermill": {
     "duration": 24.472392,
     "end_time": "2025-01-07T13:31:28.564107",
     "exception": false,
     "start_time": "2025-01-07T13:31:04.091715",
     "status": "completed"
    },
    "tags": []
   },
   "outputs": [
    {
     "name": "stdout",
     "output_type": "stream",
     "text": [
      "Cloning into 'RECsys_Challenge2024'...\r\n",
      "remote: Enumerating objects: 7608, done.\u001b[K\r\n",
      "remote: Counting objects: 100% (103/103), done.\u001b[K\r\n",
      "remote: Compressing objects: 100% (90/90), done.\u001b[K\r\n",
      "remote: Total 7608 (delta 37), reused 2 (delta 1), pack-reused 7505 (from 3)\u001b[K\r\n",
      "Receiving objects: 100% (7608/7608), 426.89 MiB | 22.41 MiB/s, done.\r\n",
      "Resolving deltas: 100% (4141/4141), done.\r\n",
      "Updating files: 100% (506/506), done.\r\n"
     ]
    }
   ],
   "source": [
    "from kaggle_secrets import UserSecretsClient\n",
    "\n",
    "token = UserSecretsClient().get_secret(\"Token\")\n",
    "\n",
    "! git clone https://{token}@github.com/madratak/RECsys_Challenge2024.git"
   ]
  },
  {
   "cell_type": "code",
   "execution_count": 3,
   "id": "333f35d6",
   "metadata": {
    "execution": {
     "iopub.execute_input": "2025-01-07T13:31:28.597362Z",
     "iopub.status.busy": "2025-01-07T13:31:28.596977Z",
     "iopub.status.idle": "2025-01-07T13:31:35.230118Z",
     "shell.execute_reply": "2025-01-07T13:31:35.228893Z"
    },
    "papermill": {
     "duration": 6.652052,
     "end_time": "2025-01-07T13:31:35.232235",
     "exception": false,
     "start_time": "2025-01-07T13:31:28.580183",
     "status": "completed"
    },
    "tags": []
   },
   "outputs": [
    {
     "name": "stdout",
     "output_type": "stream",
     "text": [
      "Collecting PyGithub\r\n",
      "  Downloading PyGithub-2.5.0-py3-none-any.whl.metadata (3.9 kB)\r\n",
      "Requirement already satisfied: requests in /usr/local/lib/python3.10/dist-packages (2.32.3)\r\n",
      "Collecting pynacl>=1.4.0 (from PyGithub)\r\n",
      "  Downloading PyNaCl-1.5.0-cp36-abi3-manylinux_2_17_x86_64.manylinux2014_x86_64.manylinux_2_24_x86_64.whl.metadata (8.6 kB)\r\n",
      "Requirement already satisfied: pyjwt>=2.4.0 in /usr/local/lib/python3.10/dist-packages (from pyjwt[crypto]>=2.4.0->PyGithub) (2.9.0)\r\n",
      "Requirement already satisfied: typing-extensions>=4.0.0 in /usr/local/lib/python3.10/dist-packages (from PyGithub) (4.12.2)\r\n",
      "Requirement already satisfied: urllib3>=1.26.0 in /usr/local/lib/python3.10/dist-packages (from PyGithub) (2.2.3)\r\n",
      "Requirement already satisfied: Deprecated in /usr/local/lib/python3.10/dist-packages (from PyGithub) (1.2.15)\r\n",
      "Requirement already satisfied: charset-normalizer<4,>=2 in /usr/local/lib/python3.10/dist-packages (from requests) (3.3.2)\r\n",
      "Requirement already satisfied: idna<4,>=2.5 in /usr/local/lib/python3.10/dist-packages (from requests) (3.10)\r\n",
      "Requirement already satisfied: certifi>=2017.4.17 in /usr/local/lib/python3.10/dist-packages (from requests) (2024.8.30)\r\n",
      "Requirement already satisfied: cryptography>=3.4.0 in /usr/local/lib/python3.10/dist-packages (from pyjwt[crypto]>=2.4.0->PyGithub) (43.0.1)\r\n",
      "Requirement already satisfied: cffi>=1.4.1 in /usr/local/lib/python3.10/dist-packages (from pynacl>=1.4.0->PyGithub) (1.17.1)\r\n",
      "Requirement already satisfied: wrapt<2,>=1.10 in /usr/local/lib/python3.10/dist-packages (from Deprecated->PyGithub) (1.16.0)\r\n",
      "Requirement already satisfied: pycparser in /usr/local/lib/python3.10/dist-packages (from cffi>=1.4.1->pynacl>=1.4.0->PyGithub) (2.22)\r\n",
      "Downloading PyGithub-2.5.0-py3-none-any.whl (375 kB)\r\n",
      "\u001b[2K   \u001b[90m━━━━━━━━━━━━━━━━━━━━━━━━━━━━━━━━━━━━━━━━\u001b[0m \u001b[32m375.9/375.9 kB\u001b[0m \u001b[31m6.4 MB/s\u001b[0m eta \u001b[36m0:00:00\u001b[0m\r\n",
      "\u001b[?25hDownloading PyNaCl-1.5.0-cp36-abi3-manylinux_2_17_x86_64.manylinux2014_x86_64.manylinux_2_24_x86_64.whl (856 kB)\r\n",
      "\u001b[2K   \u001b[90m━━━━━━━━━━━━━━━━━━━━━━━━━━━━━━━━━━━━━━━━\u001b[0m \u001b[32m856.7/856.7 kB\u001b[0m \u001b[31m26.1 MB/s\u001b[0m eta \u001b[36m0:00:00\u001b[0m\r\n",
      "\u001b[?25hInstalling collected packages: pynacl, PyGithub\r\n",
      "Successfully installed PyGithub-2.5.0 pynacl-1.5.0\r\n"
     ]
    }
   ],
   "source": [
    "! pip install PyGithub requests"
   ]
  },
  {
   "cell_type": "code",
   "execution_count": 4,
   "id": "b4c35bbc",
   "metadata": {
    "execution": {
     "iopub.execute_input": "2025-01-07T13:31:35.265582Z",
     "iopub.status.busy": "2025-01-07T13:31:35.265220Z",
     "iopub.status.idle": "2025-01-07T13:31:39.958239Z",
     "shell.execute_reply": "2025-01-07T13:31:39.956996Z"
    },
    "papermill": {
     "duration": 4.712308,
     "end_time": "2025-01-07T13:31:39.960525",
     "exception": false,
     "start_time": "2025-01-07T13:31:35.248217",
     "status": "completed"
    },
    "tags": []
   },
   "outputs": [
    {
     "name": "stdout",
     "output_type": "stream",
     "text": [
      "Collecting implicit\r\n",
      "  Downloading implicit-0.7.2-cp310-cp310-manylinux2014_x86_64.whl.metadata (6.1 kB)\r\n",
      "Requirement already satisfied: numpy>=1.17.0 in /usr/local/lib/python3.10/dist-packages (from implicit) (1.26.4)\r\n",
      "Requirement already satisfied: scipy>=0.16 in /usr/local/lib/python3.10/dist-packages (from implicit) (1.13.1)\r\n",
      "Requirement already satisfied: tqdm>=4.27 in /usr/local/lib/python3.10/dist-packages (from implicit) (4.66.5)\r\n",
      "Requirement already satisfied: threadpoolctl in /usr/local/lib/python3.10/dist-packages (from implicit) (3.5.0)\r\n",
      "Downloading implicit-0.7.2-cp310-cp310-manylinux2014_x86_64.whl (8.9 MB)\r\n",
      "\u001b[2K   \u001b[90m━━━━━━━━━━━━━━━━━━━━━━━━━━━━━━━━━━━━━━━━\u001b[0m \u001b[32m8.9/8.9 MB\u001b[0m \u001b[31m56.1 MB/s\u001b[0m eta \u001b[36m0:00:00\u001b[0m\r\n",
      "\u001b[?25hInstalling collected packages: implicit\r\n",
      "Successfully installed implicit-0.7.2\r\n"
     ]
    }
   ],
   "source": [
    "! pip install implicit"
   ]
  },
  {
   "cell_type": "code",
   "execution_count": 5,
   "id": "deea2a34",
   "metadata": {
    "execution": {
     "iopub.execute_input": "2025-01-07T13:31:39.994999Z",
     "iopub.status.busy": "2025-01-07T13:31:39.994560Z",
     "iopub.status.idle": "2025-01-07T13:31:46.661061Z",
     "shell.execute_reply": "2025-01-07T13:31:46.659839Z"
    },
    "papermill": {
     "duration": 6.685834,
     "end_time": "2025-01-07T13:31:46.663149",
     "exception": false,
     "start_time": "2025-01-07T13:31:39.977315",
     "status": "completed"
    },
    "tags": []
   },
   "outputs": [
    {
     "name": "stdout",
     "output_type": "stream",
     "text": [
      "Collecting timeout-decorator\r\n",
      "  Downloading timeout-decorator-0.5.0.tar.gz (4.8 kB)\r\n",
      "  Preparing metadata (setup.py) ... \u001b[?25l\u001b[?25hdone\r\n",
      "Building wheels for collected packages: timeout-decorator\r\n",
      "  Building wheel for timeout-decorator (setup.py) ... \u001b[?25l\u001b[?25hdone\r\n",
      "  Created wheel for timeout-decorator: filename=timeout_decorator-0.5.0-py3-none-any.whl size=5005 sha256=b6ec6cb802b0d1c43c5b0b48cb7c716123561884c41cb4e8036a6f956092ebbd\r\n",
      "  Stored in directory: /root/.cache/pip/wheels/68/2f/bc/76f1192d474666d41ae6f09813fccbd00fe3f07e8261c4cff5\r\n",
      "Successfully built timeout-decorator\r\n",
      "Installing collected packages: timeout-decorator\r\n",
      "Successfully installed timeout-decorator-0.5.0\r\n"
     ]
    }
   ],
   "source": [
    "!pip install timeout-decorator"
   ]
  },
  {
   "cell_type": "code",
   "execution_count": 6,
   "id": "54b0d5bd",
   "metadata": {
    "_kg_hide-input": false,
    "execution": {
     "iopub.execute_input": "2025-01-07T13:31:46.699500Z",
     "iopub.status.busy": "2025-01-07T13:31:46.699153Z",
     "iopub.status.idle": "2025-01-07T13:34:27.909132Z",
     "shell.execute_reply": "2025-01-07T13:34:27.908008Z"
    },
    "papermill": {
     "duration": 161.229563,
     "end_time": "2025-01-07T13:34:27.911161",
     "exception": false,
     "start_time": "2025-01-07T13:31:46.681598",
     "status": "completed"
    },
    "tags": []
   },
   "outputs": [
    {
     "name": "stdout",
     "output_type": "stream",
     "text": [
      "/kaggle/working/RECsys_Challenge2024\n",
      "run_compile_all_cython: Found 11 Cython files in 5 folders...\r\n",
      "run_compile_all_cython: All files will be compiled using your current python environment: '/usr/bin/python3'\r\n",
      "Compiling [1/11]: MatrixFactorization_Cython_Epoch.pyx... \r\n",
      "In file included from \u001b[01m\u001b[K/usr/local/lib/python3.10/dist-packages/numpy/core/include/numpy/ndarraytypes.h:1929\u001b[m\u001b[K,\r\n",
      "                 from \u001b[01m\u001b[K/usr/local/lib/python3.10/dist-packages/numpy/core/include/numpy/ndarrayobject.h:12\u001b[m\u001b[K,\r\n",
      "                 from \u001b[01m\u001b[K/usr/local/lib/python3.10/dist-packages/numpy/core/include/numpy/arrayobject.h:5\u001b[m\u001b[K,\r\n",
      "                 from \u001b[01m\u001b[KMatrixFactorization_Cython_Epoch.c:1252\u001b[m\u001b[K:\r\n",
      "\u001b[01m\u001b[K/usr/local/lib/python3.10/dist-packages/numpy/core/include/numpy/npy_1_7_deprecated_api.h:17:2:\u001b[m\u001b[K \u001b[01;35m\u001b[Kwarning: \u001b[m\u001b[K#warning \"Using deprecated NumPy API, disable it with \" \"#define NPY_NO_DEPRECATED_API NPY_1_7_API_VERSION\" [\u001b[01;35m\u001b[K\u001b]8;;https://gcc.gnu.org/onlinedocs/gcc/Warning-Options.html#index-Wcpp\u0007-Wcpp\u001b]8;;\u0007\u001b[m\u001b[K]\r\n",
      "   17 | #\u001b[01;35m\u001b[Kwarning\u001b[m\u001b[K \"Using deprecated NumPy API, disable it with \" \\\r\n",
      "      |  \u001b[01;35m\u001b[K^~~~~~~\u001b[m\u001b[K\r\n",
      "\u001b[01m\u001b[KMatrixFactorization_Cython_Epoch.c:\u001b[m\u001b[K In function ‘\u001b[01m\u001b[K__pyx_pf_32MatrixFactorization_Cython_Epoch_32MatrixFactorization_Cython_Epoch_10epochIteration_Cython_ASY_SVD_SGD\u001b[m\u001b[K’:\r\n",
      "\u001b[01m\u001b[KMatrixFactorization_Cython_Epoch.c:26256:68:\u001b[m\u001b[K \u001b[01;35m\u001b[Kwarning: \u001b[m\u001b[K‘\u001b[01m\u001b[K__pyx_v_end_pos_seen_items\u001b[m\u001b[K’ may be used uninitialized in this function [\u001b[01;35m\u001b[K\u001b]8;;https://gcc.gnu.org/onlinedocs/gcc/Warning-Options.html#index-Wmaybe-uninitialized\u0007-Wmaybe-uninitialized\u001b]8;;\u0007\u001b[m\u001b[K]\r\n",
      "26256 |         for (__pyx_t_22 = __pyx_v_start_pos_seen_items; \u001b[01;35m\u001b[K__pyx_t_22 < __pyx_t_21\u001b[m\u001b[K; __pyx_t_22+=1) {\r\n",
      "      |                                                         \u001b[01;35m\u001b[K~~~~~~~~~~~^~~~~~~~~~~~\u001b[m\u001b[K\r\n",
      "\u001b[01m\u001b[KMatrixFactorization_Cython_Epoch.c:26256:68:\u001b[m\u001b[K \u001b[01;35m\u001b[Kwarning: \u001b[m\u001b[K‘\u001b[01m\u001b[K__pyx_v_start_pos_seen_items\u001b[m\u001b[K’ may be used uninitialized in this function [\u001b[01;35m\u001b[K\u001b]8;;https://gcc.gnu.org/onlinedocs/gcc/Warning-Options.html#index-Wmaybe-uninitialized\u0007-Wmaybe-uninitialized\u001b]8;;\u0007\u001b[m\u001b[K]\r\n",
      "/usr/local/lib/python3.10/dist-packages/Cython/Compiler/Main.py:381: FutureWarning: Cython directive 'language_level' not set, using '3str' for now (Py3). This has changed from earlier releases! File: /kaggle/working/RECsys_Challenge2024/Recommenders/MatrixFactorization/Cython/MatrixFactorization_Cython_Epoch.pyx\r\n",
      "  tree = Parsing.p_module(s, pxd, full_module_name)\r\n",
      "Compiling [1/11]: MatrixFactorization_Cython_Epoch.pyx... PASS\r\n",
      "\r\n",
      "Compiling [2/11]: MatrixFactorizationImpressions_Cython_Epoch.pyx... \r\n",
      "In file included from \u001b[01m\u001b[K/usr/local/lib/python3.10/dist-packages/numpy/core/include/numpy/ndarraytypes.h:1929\u001b[m\u001b[K,\r\n",
      "                 from \u001b[01m\u001b[K/usr/local/lib/python3.10/dist-packages/numpy/core/include/numpy/ndarrayobject.h:12\u001b[m\u001b[K,\r\n",
      "                 from \u001b[01m\u001b[K/usr/local/lib/python3.10/dist-packages/numpy/core/include/numpy/arrayobject.h:5\u001b[m\u001b[K,\r\n",
      "                 from \u001b[01m\u001b[KMatrixFactorizationImpressions_Cython_Epoch.c:1252\u001b[m\u001b[K:\r\n",
      "\u001b[01m\u001b[K/usr/local/lib/python3.10/dist-packages/numpy/core/include/numpy/npy_1_7_deprecated_api.h:17:2:\u001b[m\u001b[K \u001b[01;35m\u001b[Kwarning: \u001b[m\u001b[K#warning \"Using deprecated NumPy API, disable it with \" \"#define NPY_NO_DEPRECATED_API NPY_1_7_API_VERSION\" [\u001b[01;35m\u001b[K\u001b]8;;https://gcc.gnu.org/onlinedocs/gcc/Warning-Options.html#index-Wcpp\u0007-Wcpp\u001b]8;;\u0007\u001b[m\u001b[K]\r\n",
      "   17 | #\u001b[01;35m\u001b[Kwarning\u001b[m\u001b[K \"Using deprecated NumPy API, disable it with \" \\\r\n",
      "      |  \u001b[01;35m\u001b[K^~~~~~~\u001b[m\u001b[K\r\n",
      "\u001b[01m\u001b[KMatrixFactorizationImpressions_Cython_Epoch.c:\u001b[m\u001b[K In function ‘\u001b[01m\u001b[K__pyx_f_43MatrixFactorizationImpressions_Cython_Epoch_32MatrixFactorization_Cython_Epoch_sampleBPR_Cython\u001b[m\u001b[K’:\r\n",
      "\u001b[01m\u001b[KMatrixFactorizationImpressions_Cython_Epoch.c:30353:17:\u001b[m\u001b[K \u001b[01;35m\u001b[Kwarning: \u001b[m\u001b[K‘\u001b[01m\u001b[K__pyx_v_start_pos_impression_items\u001b[m\u001b[K’ may be used uninitialized in this function [\u001b[01;35m\u001b[K\u001b]8;;https://gcc.gnu.org/onlinedocs/gcc/Warning-Options.html#index-Wmaybe-uninitialized\u0007-Wmaybe-uninitialized\u001b]8;;\u0007\u001b[m\u001b[K]\r\n",
      "30353 |       \u001b[01;35m\u001b[K__pyx_t_4 = (__pyx_v_start_pos_impression_items + __pyx_v_index)\u001b[m\u001b[K;\r\n",
      "      |       \u001b[01;35m\u001b[K~~~~~~~~~~^~~~~~~~~~~~~~~~~~~~~~~~~~~~~~~~~~~~~~~~~~~~~~~~~~~~~~\u001b[m\u001b[K\r\n",
      "\u001b[01m\u001b[KMatrixFactorizationImpressions_Cython_Epoch.c:\u001b[m\u001b[K In function ‘\u001b[01m\u001b[K__pyx_pf_43MatrixFactorizationImpressions_Cython_Epoch_32MatrixFactorization_Cython_Epoch_10epochIteration_Cython_ASY_SVD_SGD\u001b[m\u001b[K’:\r\n",
      "\u001b[01m\u001b[KMatrixFactorizationImpressions_Cython_Epoch.c:26112:66:\u001b[m\u001b[K \u001b[01;35m\u001b[Kwarning: \u001b[m\u001b[K‘\u001b[01m\u001b[K__pyx_v_end_pos_seen_items\u001b[m\u001b[K’ may be used uninitialized in this function [\u001b[01;35m\u001b[K\u001b]8;;https://gcc.gnu.org/onlinedocs/gcc/Warning-Options.html#index-Wmaybe-uninitialized\u0007-Wmaybe-uninitialized\u001b]8;;\u0007\u001b[m\u001b[K]\r\n",
      "26112 |       for (__pyx_t_22 = __pyx_v_start_pos_seen_items; \u001b[01;35m\u001b[K__pyx_t_22 < __pyx_t_21\u001b[m\u001b[K; __pyx_t_22+=1) {\r\n",
      "      |                                                       \u001b[01;35m\u001b[K~~~~~~~~~~~^~~~~~~~~~~~\u001b[m\u001b[K\r\n",
      "\u001b[01m\u001b[KMatrixFactorizationImpressions_Cython_Epoch.c:26112:66:\u001b[m\u001b[K \u001b[01;35m\u001b[Kwarning: \u001b[m\u001b[K‘\u001b[01m\u001b[K__pyx_v_start_pos_seen_items\u001b[m\u001b[K’ may be used uninitialized in this function [\u001b[01;35m\u001b[K\u001b]8;;https://gcc.gnu.org/onlinedocs/gcc/Warning-Options.html#index-Wmaybe-uninitialized\u0007-Wmaybe-uninitialized\u001b]8;;\u0007\u001b[m\u001b[K]\r\n",
      "/usr/local/lib/python3.10/dist-packages/Cython/Compiler/Main.py:381: FutureWarning: Cython directive 'language_level' not set, using '3str' for now (Py3). This has changed from earlier releases! File: /kaggle/working/RECsys_Challenge2024/Recommenders/MatrixFactorization/Cython/MatrixFactorizationImpressions_Cython_Epoch.pyx\r\n",
      "  tree = Parsing.p_module(s, pxd, full_module_name)\r\n",
      "Compiling [2/11]: MatrixFactorizationImpressions_Cython_Epoch.pyx... PASS\r\n",
      "\r\n",
      "Compiling [3/11]: Compute_Similarity_Cython.pyx... \r\n",
      "warning: Compute_Similarity_Cython.pyx:21:0: The 'IF' statement is deprecated and will be removed in a future Cython version. Consider using runtime conditions or C macros instead. See https://github.com/cython/cython/issues/4310\r\n",
      "In file included from \u001b[01m\u001b[K/usr/local/lib/python3.10/dist-packages/numpy/core/include/numpy/ndarraytypes.h:1929\u001b[m\u001b[K,\r\n",
      "                 from \u001b[01m\u001b[K/usr/local/lib/python3.10/dist-packages/numpy/core/include/numpy/ndarrayobject.h:12\u001b[m\u001b[K,\r\n",
      "                 from \u001b[01m\u001b[K/usr/local/lib/python3.10/dist-packages/numpy/core/include/numpy/arrayobject.h:5\u001b[m\u001b[K,\r\n",
      "                 from \u001b[01m\u001b[KCompute_Similarity_Cython.c:1252\u001b[m\u001b[K:\r\n",
      "\u001b[01m\u001b[K/usr/local/lib/python3.10/dist-packages/numpy/core/include/numpy/npy_1_7_deprecated_api.h:17:2:\u001b[m\u001b[K \u001b[01;35m\u001b[Kwarning: \u001b[m\u001b[K#warning \"Using deprecated NumPy API, disable it with \" \"#define NPY_NO_DEPRECATED_API NPY_1_7_API_VERSION\" [\u001b[01;35m\u001b[K\u001b]8;;https://gcc.gnu.org/onlinedocs/gcc/Warning-Options.html#index-Wcpp\u0007-Wcpp\u001b]8;;\u0007\u001b[m\u001b[K]\r\n",
      "   17 | #\u001b[01;35m\u001b[Kwarning\u001b[m\u001b[K \"Using deprecated NumPy API, disable it with \" \\\r\n",
      "      |  \u001b[01;35m\u001b[K^~~~~~~\u001b[m\u001b[K\r\n",
      "/usr/local/lib/python3.10/dist-packages/Cython/Compiler/Main.py:381: FutureWarning: Cython directive 'language_level' not set, using '3str' for now (Py3). This has changed from earlier releases! File: /kaggle/working/RECsys_Challenge2024/Recommenders/Similarity/Cython/Compute_Similarity_Cython.pyx\r\n",
      "  tree = Parsing.p_module(s, pxd, full_module_name)\r\n",
      "warning: Compute_Similarity_Cython.pyx:21:0: The 'IF' statement is deprecated and will be removed in a future Cython version. Consider using runtime conditions or C macros instead. See https://github.com/cython/cython/issues/4310\r\n",
      "Compiling [3/11]: Compute_Similarity_Cython.pyx... PASS\r\n",
      "\r\n",
      "Compiling [4/11]: Sparse_Matrix_Tree_CSR.pyx... \r\n",
      "warning: Sparse_Matrix_Tree_CSR.pyx:132:34: Non-trivial type declarators in shared declaration (e.g. mix of pointers and values). Each pointer declaration should be on its own line.\r\n",
      "warning: Sparse_Matrix_Tree_CSR.pyx:132:66: Non-trivial type declarators in shared declaration (e.g. mix of pointers and values). Each pointer declaration should be on its own line.\r\n",
      "warning: Sparse_Matrix_Tree_CSR.pyx:343:35: Non-trivial type declarators in shared declaration (e.g. mix of pointers and values). Each pointer declaration should be on its own line.\r\n",
      "warning: Sparse_Matrix_Tree_CSR.pyx:343:52: Non-trivial type declarators in shared declaration (e.g. mix of pointers and values). Each pointer declaration should be on its own line.\r\n",
      "warning: Sparse_Matrix_Tree_CSR.pyx:442:35: Non-trivial type declarators in shared declaration (e.g. mix of pointers and values). Each pointer declaration should be on its own line.\r\n",
      "warning: Sparse_Matrix_Tree_CSR.pyx:442:53: Non-trivial type declarators in shared declaration (e.g. mix of pointers and values). Each pointer declaration should be on its own line.\r\n",
      "warning: Sparse_Matrix_Tree_CSR.pyx:442:69: Non-trivial type declarators in shared declaration (e.g. mix of pointers and values). Each pointer declaration should be on its own line.\r\n",
      "warning: Sparse_Matrix_Tree_CSR.pyx:577:35: Non-trivial type declarators in shared declaration (e.g. mix of pointers and values). Each pointer declaration should be on its own line.\r\n",
      "warning: Sparse_Matrix_Tree_CSR.pyx:577:42: Non-trivial type declarators in shared declaration (e.g. mix of pointers and values). Each pointer declaration should be on its own line.\r\n",
      "warning: Sparse_Matrix_Tree_CSR.pyx:578:35: Non-trivial type declarators in shared declaration (e.g. mix of pointers and values). Each pointer declaration should be on its own line.\r\n",
      "warning: Sparse_Matrix_Tree_CSR.pyx:578:53: Non-trivial type declarators in shared declaration (e.g. mix of pointers and values). Each pointer declaration should be on its own line.\r\n",
      "\r\n",
      "Error compiling Cython file:\r\n",
      "------------------------------------------------------------\r\n",
      "...\r\n",
      "            vector_pointer_to_list_elements[index].head = current_element\r\n",
      "            current_element = current_element.higher\r\n",
      "\r\n",
      "\r\n",
      "        # Sort array elements on their data field\r\n",
      "        qsort(vector_pointer_to_list_elements, list_length, sizeof(head_pointer_tree_s), compare_struct_on_data)\r\n",
      "                                                                                         ^\r\n",
      "------------------------------------------------------------\r\n",
      "\r\n",
      "Sparse_Matrix_Tree_CSR.pyx:516:89: Cannot assign type 'int (const void *, const void *) except? -1' to 'int (*)(const_void *, const_void *) noexcept'. Exception values are incompatible. Suggest adding 'noexcept' to the type of 'compare_struct_on_data'.\r\n",
      "\r\n",
      "Error compiling Cython file:\r\n",
      "------------------------------------------------------------\r\n",
      "...\r\n",
      "        # Sort array elements on their data field\r\n",
      "        qsort(vector_pointer_to_list_elements, list_length, sizeof(head_pointer_tree_s), compare_struct_on_data)\r\n",
      "\r\n",
      "        # Sort only the TopK according to their column field\r\n",
      "        # Sort is from lower to higher, therefore the elements to be considered are from len-topK to len\r\n",
      "        qsort(&vector_pointer_to_list_elements[list_length-TopK], TopK, sizeof(head_pointer_tree_s), compare_struct_on_column)\r\n",
      "                                                                                                     ^\r\n",
      "------------------------------------------------------------\r\n",
      "\r\n",
      "Sparse_Matrix_Tree_CSR.pyx:520:101: Cannot assign type 'int (const void *, const void *) except? -1' to 'int (*)(const_void *, const_void *) noexcept'. Exception values are incompatible. Suggest adding 'noexcept' to the type of 'compare_struct_on_column'.\r\n",
      "Traceback (most recent call last):\r\n",
      "  File \"/kaggle/working/RECsys_Challenge2024/CythonCompiler/compile_script.py\", line 48, in <module>\r\n",
      "    setup(\r\n",
      "  File \"/usr/local/lib/python3.10/dist-packages/setuptools/__init__.py\", line 108, in setup\r\n",
      "    return distutils.core.setup(**attrs)\r\n",
      "  File \"/usr/local/lib/python3.10/dist-packages/setuptools/_distutils/core.py\", line 184, in setup\r\n",
      "    return run_commands(dist)\r\n",
      "  File \"/usr/local/lib/python3.10/dist-packages/setuptools/_distutils/core.py\", line 200, in run_commands\r\n",
      "    dist.run_commands()\r\n",
      "  File \"/usr/local/lib/python3.10/dist-packages/setuptools/_distutils/dist.py\", line 970, in run_commands\r\n",
      "    self.run_command(cmd)\r\n",
      "  File \"/usr/local/lib/python3.10/dist-packages/setuptools/dist.py\", line 956, in run_command\r\n",
      "    super().run_command(command)\r\n",
      "  File \"/usr/local/lib/python3.10/dist-packages/setuptools/_distutils/dist.py\", line 989, in run_command\r\n",
      "    cmd_obj.run()\r\n",
      "  File \"/usr/local/lib/python3.10/dist-packages/setuptools/_distutils/command/build_ext.py\", line 359, in run\r\n",
      "    self.build_extensions()\r\n",
      "  File \"/usr/local/lib/python3.10/dist-packages/setuptools/_distutils/command/build_ext.py\", line 479, in build_extensions\r\n",
      "    self._build_extensions_serial()\r\n",
      "  File \"/usr/local/lib/python3.10/dist-packages/setuptools/_distutils/command/build_ext.py\", line 505, in _build_extensions_serial\r\n",
      "    self.build_extension(ext)\r\n",
      "  File \"/usr/local/lib/python3.10/dist-packages/Cython/Distutils/build_ext.py\", line 130, in build_extension\r\n",
      "    new_ext = cythonize(\r\n",
      "  File \"/usr/local/lib/python3.10/dist-packages/Cython/Build/Dependencies.py\", line 1154, in cythonize\r\n",
      "    cythonize_one(*args)\r\n",
      "  File \"/usr/local/lib/python3.10/dist-packages/Cython/Build/Dependencies.py\", line 1321, in cythonize_one\r\n",
      "    raise CompileError(None, pyx_file)\r\n",
      "Cython.Compiler.Errors.CompileError: Sparse_Matrix_Tree_CSR.pyx\r\n",
      "Traceback (most recent call last):\r\n",
      "  File \"/kaggle/working/RECsys_Challenge2024/run_compile_all_cython.py\", line 60, in <module>\r\n",
      "    run_compile_subprocess(file_path, [file_name])\r\n",
      "  File \"/kaggle/working/RECsys_Challenge2024/CythonCompiler/run_compile_subprocess.py\", line 51, in run_compile_subprocess\r\n",
      "    raise exc\r\n",
      "  File \"/kaggle/working/RECsys_Challenge2024/CythonCompiler/run_compile_subprocess.py\", line 32, in run_compile_subprocess\r\n",
      "    output = subprocess.check_output(' '.join(command),\r\n",
      "  File \"/usr/lib/python3.10/subprocess.py\", line 421, in check_output\r\n",
      "    return run(*popenargs, stdout=PIPE, timeout=timeout, check=True,\r\n",
      "  File \"/usr/lib/python3.10/subprocess.py\", line 526, in run\r\n",
      "    raise CalledProcessError(retcode, process.args,\r\n",
      "subprocess.CalledProcessError: Command '/usr/bin/python3 /kaggle/working/RECsys_Challenge2024/CythonCompiler/compile_script.py Sparse_Matrix_Tree_CSR.pyx build_ext --inplace' returned non-zero exit status 1.\r\n",
      "Compiling [4/11]: Sparse_Matrix_Tree_CSR.pyx... FAIL: Command '/usr/bin/python3 /kaggle/working/RECsys_Challenge2024/CythonCompiler/compile_script.py Sparse_Matrix_Tree_CSR.pyx build_ext --inplace' returned non-zero exit status 1.\r\n",
      "\r\n",
      "Compiling [5/11]: SLIM_BPR_Cython_Epoch.pyx... \r\n",
      "warning: SLIM_BPR_Cython_Epoch.pyx:24:0: The 'IF' statement is deprecated and will be removed in a future Cython version. Consider using runtime conditions or C macros instead. See https://github.com/cython/cython/issues/4310\r\n",
      "warning: SLIM_BPR_Cython_Epoch.pyx:632:34: Non-trivial type declarators in shared declaration (e.g. mix of pointers and values). Each pointer declaration should be on its own line.\r\n",
      "warning: SLIM_BPR_Cython_Epoch.pyx:632:66: Non-trivial type declarators in shared declaration (e.g. mix of pointers and values). Each pointer declaration should be on its own line.\r\n",
      "warning: SLIM_BPR_Cython_Epoch.pyx:817:35: Non-trivial type declarators in shared declaration (e.g. mix of pointers and values). Each pointer declaration should be on its own line.\r\n",
      "warning: SLIM_BPR_Cython_Epoch.pyx:817:52: Non-trivial type declarators in shared declaration (e.g. mix of pointers and values). Each pointer declaration should be on its own line.\r\n",
      "warning: SLIM_BPR_Cython_Epoch.pyx:916:35: Non-trivial type declarators in shared declaration (e.g. mix of pointers and values). Each pointer declaration should be on its own line.\r\n",
      "warning: SLIM_BPR_Cython_Epoch.pyx:916:53: Non-trivial type declarators in shared declaration (e.g. mix of pointers and values). Each pointer declaration should be on its own line.\r\n",
      "warning: SLIM_BPR_Cython_Epoch.pyx:916:69: Non-trivial type declarators in shared declaration (e.g. mix of pointers and values). Each pointer declaration should be on its own line.\r\n",
      "warning: SLIM_BPR_Cython_Epoch.pyx:1051:35: Non-trivial type declarators in shared declaration (e.g. mix of pointers and values). Each pointer declaration should be on its own line.\r\n",
      "warning: SLIM_BPR_Cython_Epoch.pyx:1051:42: Non-trivial type declarators in shared declaration (e.g. mix of pointers and values). Each pointer declaration should be on its own line.\r\n",
      "warning: SLIM_BPR_Cython_Epoch.pyx:1052:35: Non-trivial type declarators in shared declaration (e.g. mix of pointers and values). Each pointer declaration should be on its own line.\r\n",
      "warning: SLIM_BPR_Cython_Epoch.pyx:1052:53: Non-trivial type declarators in shared declaration (e.g. mix of pointers and values). Each pointer declaration should be on its own line.\r\n",
      "\r\n",
      "Error compiling Cython file:\r\n",
      "------------------------------------------------------------\r\n",
      "...\r\n",
      "            vector_pointer_to_list_elements[index].head = current_element\r\n",
      "            current_element = current_element.higher\r\n",
      "\r\n",
      "\r\n",
      "        # Sort array elements on their data field\r\n",
      "        qsort(vector_pointer_to_list_elements, list_length, sizeof(head_pointer_tree_s), compare_struct_on_data)\r\n",
      "                                                                                         ^\r\n",
      "------------------------------------------------------------\r\n",
      "\r\n",
      "SLIM_BPR_Cython_Epoch.pyx:990:89: Cannot assign type 'int (const void *, const void *) except? -1' to 'int (*)(const_void *, const_void *) noexcept'. Exception values are incompatible. Suggest adding 'noexcept' to the type of 'compare_struct_on_data'.\r\n",
      "\r\n",
      "Error compiling Cython file:\r\n",
      "------------------------------------------------------------\r\n",
      "...\r\n",
      "        # Sort array elements on their data field\r\n",
      "        qsort(vector_pointer_to_list_elements, list_length, sizeof(head_pointer_tree_s), compare_struct_on_data)\r\n",
      "\r\n",
      "        # Sort only the TopK according to their column field\r\n",
      "        # Sort is from lower to higher, therefore the elements to be considered are from len-topK to len\r\n",
      "        qsort(&vector_pointer_to_list_elements[list_length-TopK], TopK, sizeof(head_pointer_tree_s), compare_struct_on_column)\r\n",
      "                                                                                                     ^\r\n",
      "------------------------------------------------------------\r\n",
      "\r\n",
      "SLIM_BPR_Cython_Epoch.pyx:994:101: Cannot assign type 'int (const void *, const void *) except? -1' to 'int (*)(const_void *, const_void *) noexcept'. Exception values are incompatible. Suggest adding 'noexcept' to the type of 'compare_struct_on_column'.\r\n",
      "Traceback (most recent call last):\r\n",
      "  File \"/kaggle/working/RECsys_Challenge2024/CythonCompiler/compile_script.py\", line 48, in <module>\r\n",
      "    setup(\r\n",
      "  File \"/usr/local/lib/python3.10/dist-packages/setuptools/__init__.py\", line 108, in setup\r\n",
      "    return distutils.core.setup(**attrs)\r\n",
      "  File \"/usr/local/lib/python3.10/dist-packages/setuptools/_distutils/core.py\", line 184, in setup\r\n",
      "    return run_commands(dist)\r\n",
      "  File \"/usr/local/lib/python3.10/dist-packages/setuptools/_distutils/core.py\", line 200, in run_commands\r\n",
      "    dist.run_commands()\r\n",
      "  File \"/usr/local/lib/python3.10/dist-packages/setuptools/_distutils/dist.py\", line 970, in run_commands\r\n",
      "    self.run_command(cmd)\r\n",
      "  File \"/usr/local/lib/python3.10/dist-packages/setuptools/dist.py\", line 956, in run_command\r\n",
      "    super().run_command(command)\r\n",
      "  File \"/usr/local/lib/python3.10/dist-packages/setuptools/_distutils/dist.py\", line 989, in run_command\r\n",
      "    cmd_obj.run()\r\n",
      "  File \"/usr/local/lib/python3.10/dist-packages/setuptools/_distutils/command/build_ext.py\", line 359, in run\r\n",
      "    self.build_extensions()\r\n",
      "  File \"/usr/local/lib/python3.10/dist-packages/setuptools/_distutils/command/build_ext.py\", line 479, in build_extensions\r\n",
      "    self._build_extensions_serial()\r\n",
      "  File \"/usr/local/lib/python3.10/dist-packages/setuptools/_distutils/command/build_ext.py\", line 505, in _build_extensions_serial\r\n",
      "    self.build_extension(ext)\r\n",
      "  File \"/usr/local/lib/python3.10/dist-packages/Cython/Distutils/build_ext.py\", line 130, in build_extension\r\n",
      "    new_ext = cythonize(\r\n",
      "  File \"/usr/local/lib/python3.10/dist-packages/Cython/Build/Dependencies.py\", line 1154, in cythonize\r\n",
      "    cythonize_one(*args)\r\n",
      "  File \"/usr/local/lib/python3.10/dist-packages/Cython/Build/Dependencies.py\", line 1321, in cythonize_one\r\n",
      "    raise CompileError(None, pyx_file)\r\n",
      "Cython.Compiler.Errors.CompileError: SLIM_BPR_Cython_Epoch.pyx\r\n",
      "Traceback (most recent call last):\r\n",
      "  File \"/kaggle/working/RECsys_Challenge2024/run_compile_all_cython.py\", line 60, in <module>\r\n",
      "    run_compile_subprocess(file_path, [file_name])\r\n",
      "  File \"/kaggle/working/RECsys_Challenge2024/CythonCompiler/run_compile_subprocess.py\", line 51, in run_compile_subprocess\r\n",
      "    raise exc\r\n",
      "  File \"/kaggle/working/RECsys_Challenge2024/CythonCompiler/run_compile_subprocess.py\", line 32, in run_compile_subprocess\r\n",
      "    output = subprocess.check_output(' '.join(command),\r\n",
      "  File \"/usr/lib/python3.10/subprocess.py\", line 421, in check_output\r\n",
      "    return run(*popenargs, stdout=PIPE, timeout=timeout, check=True,\r\n",
      "  File \"/usr/lib/python3.10/subprocess.py\", line 526, in run\r\n",
      "    raise CalledProcessError(retcode, process.args,\r\n",
      "subprocess.CalledProcessError: Command '/usr/bin/python3 /kaggle/working/RECsys_Challenge2024/CythonCompiler/compile_script.py SLIM_BPR_Cython_Epoch.pyx build_ext --inplace' returned non-zero exit status 1.\r\n",
      "Compiling [5/11]: SLIM_BPR_Cython_Epoch.pyx... FAIL: Command '/usr/bin/python3 /kaggle/working/RECsys_Challenge2024/CythonCompiler/compile_script.py SLIM_BPR_Cython_Epoch.pyx build_ext --inplace' returned non-zero exit status 1.\r\n",
      "\r\n",
      "Compiling [6/11]: Triangular_Matrix.pyx... \r\n",
      "warning: Triangular_Matrix.pyx:22:0: The 'IF' statement is deprecated and will be removed in a future Cython version. Consider using runtime conditions or C macros instead. See https://github.com/cython/cython/issues/4310\r\n",
      "In file included from \u001b[01m\u001b[K/usr/local/lib/python3.10/dist-packages/numpy/core/include/numpy/ndarraytypes.h:1929\u001b[m\u001b[K,\r\n",
      "                 from \u001b[01m\u001b[K/usr/local/lib/python3.10/dist-packages/numpy/core/include/numpy/ndarrayobject.h:12\u001b[m\u001b[K,\r\n",
      "                 from \u001b[01m\u001b[K/usr/local/lib/python3.10/dist-packages/numpy/core/include/numpy/arrayobject.h:5\u001b[m\u001b[K,\r\n",
      "                 from \u001b[01m\u001b[KTriangular_Matrix.c:1252\u001b[m\u001b[K:\r\n",
      "\u001b[01m\u001b[K/usr/local/lib/python3.10/dist-packages/numpy/core/include/numpy/npy_1_7_deprecated_api.h:17:2:\u001b[m\u001b[K \u001b[01;35m\u001b[Kwarning: \u001b[m\u001b[K#warning \"Using deprecated NumPy API, disable it with \" \"#define NPY_NO_DEPRECATED_API NPY_1_7_API_VERSION\" [\u001b[01;35m\u001b[K\u001b]8;;https://gcc.gnu.org/onlinedocs/gcc/Warning-Options.html#index-Wcpp\u0007-Wcpp\u001b]8;;\u0007\u001b[m\u001b[K]\r\n",
      "   17 | #\u001b[01;35m\u001b[Kwarning\u001b[m\u001b[K \"Using deprecated NumPy API, disable it with \" \\\r\n",
      "      |  \u001b[01;35m\u001b[K^~~~~~~\u001b[m\u001b[K\r\n",
      "In function ‘\u001b[01m\u001b[K__pyx_pf_17Triangular_Matrix_17Triangular_Matrix___init__\u001b[m\u001b[K’,\r\n",
      "    inlined from ‘\u001b[01m\u001b[K__pyx_pw_17Triangular_Matrix_17Triangular_Matrix_1__init__\u001b[m\u001b[K’ at \u001b[01m\u001b[KTriangular_Matrix.c:5541:13\u001b[m\u001b[K:\r\n",
      "\u001b[01m\u001b[KTriangular_Matrix.c:5599:43:\u001b[m\u001b[K \u001b[01;35m\u001b[Kwarning: \u001b[m\u001b[Kargument 1 value ‘\u001b[01m\u001b[K18446744073709551608\u001b[m\u001b[K’ exceeds maximum object size 9223372036854775807 [\u001b[01;35m\u001b[K\u001b]8;;https://gcc.gnu.org/onlinedocs/gcc/Warning-Options.html#index-Walloc-size-larger-than=\u0007-Walloc-size-larger-than=\u001b]8;;\u0007\u001b[m\u001b[K]\r\n",
      " 5599 |   __pyx_v_self->row_pointer = ((double **)\u001b[01;35m\u001b[Kmalloc((__pyx_v_self->num_rows * (sizeof(double *))))\u001b[m\u001b[K);\r\n",
      "      |                                           \u001b[01;35m\u001b[K^~~~~~~~~~~~~~~~~~~~~~~~~~~~~~~~~~~~~~~~~~~~~~~~~~~~~\u001b[m\u001b[K\r\n",
      "In file included from \u001b[01m\u001b[K/usr/include/python3.10/Python.h:34\u001b[m\u001b[K,\r\n",
      "                 from \u001b[01m\u001b[KTriangular_Matrix.c:41\u001b[m\u001b[K:\r\n",
      "\u001b[01m\u001b[KTriangular_Matrix.c:\u001b[m\u001b[K In function ‘\u001b[01m\u001b[K__pyx_pw_17Triangular_Matrix_17Triangular_Matrix_1__init__\u001b[m\u001b[K’:\r\n",
      "\u001b[01m\u001b[K/usr/include/stdlib.h:540:14:\u001b[m\u001b[K \u001b[01;36m\u001b[Knote: \u001b[m\u001b[Kin a call to allocation function ‘\u001b[01m\u001b[Kmalloc\u001b[m\u001b[K’ declared here\r\n",
      "  540 | extern void *\u001b[01;36m\u001b[Kmalloc\u001b[m\u001b[K (size_t __size) __THROW __attribute_malloc__\r\n",
      "      |              \u001b[01;36m\u001b[K^~~~~~\u001b[m\u001b[K\r\n",
      "/usr/local/lib/python3.10/dist-packages/Cython/Compiler/Main.py:381: FutureWarning: Cython directive 'language_level' not set, using '3str' for now (Py3). This has changed from earlier releases! File: /kaggle/working/RECsys_Challenge2024/Recommenders/SLIM/Cython/Triangular_Matrix.pyx\r\n",
      "  tree = Parsing.p_module(s, pxd, full_module_name)\r\n",
      "warning: Triangular_Matrix.pyx:22:0: The 'IF' statement is deprecated and will be removed in a future Cython version. Consider using runtime conditions or C macros instead. See https://github.com/cython/cython/issues/4310\r\n",
      "Compiling [6/11]: Triangular_Matrix.pyx... PASS\r\n",
      "\r\n",
      "Compiling [7/11]: CFW_DVV_Similarity_Cython_SGD.pyx... \r\n",
      "In file included from \u001b[01m\u001b[K/usr/local/lib/python3.10/dist-packages/numpy/core/include/numpy/ndarraytypes.h:1929\u001b[m\u001b[K,\r\n",
      "                 from \u001b[01m\u001b[K/usr/local/lib/python3.10/dist-packages/numpy/core/include/numpy/ndarrayobject.h:12\u001b[m\u001b[K,\r\n",
      "                 from \u001b[01m\u001b[K/usr/local/lib/python3.10/dist-packages/numpy/core/include/numpy/arrayobject.h:5\u001b[m\u001b[K,\r\n",
      "                 from \u001b[01m\u001b[KCFW_DVV_Similarity_Cython_SGD.c:1252\u001b[m\u001b[K:\r\n",
      "\u001b[01m\u001b[K/usr/local/lib/python3.10/dist-packages/numpy/core/include/numpy/npy_1_7_deprecated_api.h:17:2:\u001b[m\u001b[K \u001b[01;35m\u001b[Kwarning: \u001b[m\u001b[K#warning \"Using deprecated NumPy API, disable it with \" \"#define NPY_NO_DEPRECATED_API NPY_1_7_API_VERSION\" [\u001b[01;35m\u001b[K\u001b]8;;https://gcc.gnu.org/onlinedocs/gcc/Warning-Options.html#index-Wcpp\u0007-Wcpp\u001b]8;;\u0007\u001b[m\u001b[K]\r\n",
      "   17 | #\u001b[01;35m\u001b[Kwarning\u001b[m\u001b[K \"Using deprecated NumPy API, disable it with \" \\\r\n",
      "      |  \u001b[01;35m\u001b[K^~~~~~~\u001b[m\u001b[K\r\n",
      "/usr/local/lib/python3.10/dist-packages/Cython/Compiler/Main.py:381: FutureWarning: Cython directive 'language_level' not set, using '3str' for now (Py3). This has changed from earlier releases! File: /kaggle/working/RECsys_Challenge2024/Recommenders/FeatureWeighting/Cython/CFW_DVV_Similarity_Cython_SGD.pyx\r\n",
      "  tree = Parsing.p_module(s, pxd, full_module_name)\r\n",
      "Compiling [7/11]: CFW_DVV_Similarity_Cython_SGD.pyx... PASS\r\n",
      "\r\n",
      "Compiling [8/11]: HP3_Similarity_Cython_SGD.pyx... \r\n",
      "performance hint: HP3_Similarity_Cython_SGD.pyx:113:40: Index should be typed for more efficient access\r\n",
      "performance hint: HP3_Similarity_Cython_SGD.pyx:114:40: Index should be typed for more efficient access\r\n",
      "In file included from \u001b[01m\u001b[K/usr/local/lib/python3.10/dist-packages/numpy/core/include/numpy/ndarraytypes.h:1929\u001b[m\u001b[K,\r\n",
      "                 from \u001b[01m\u001b[K/usr/local/lib/python3.10/dist-packages/numpy/core/include/numpy/ndarrayobject.h:12\u001b[m\u001b[K,\r\n",
      "                 from \u001b[01m\u001b[K/usr/local/lib/python3.10/dist-packages/numpy/core/include/numpy/arrayobject.h:5\u001b[m\u001b[K,\r\n",
      "                 from \u001b[01m\u001b[KHP3_Similarity_Cython_SGD.c:1252\u001b[m\u001b[K:\r\n",
      "\u001b[01m\u001b[K/usr/local/lib/python3.10/dist-packages/numpy/core/include/numpy/npy_1_7_deprecated_api.h:17:2:\u001b[m\u001b[K \u001b[01;35m\u001b[Kwarning: \u001b[m\u001b[K#warning \"Using deprecated NumPy API, disable it with \" \"#define NPY_NO_DEPRECATED_API NPY_1_7_API_VERSION\" [\u001b[01;35m\u001b[K\u001b]8;;https://gcc.gnu.org/onlinedocs/gcc/Warning-Options.html#index-Wcpp\u0007-Wcpp\u001b]8;;\u0007\u001b[m\u001b[K]\r\n",
      "   17 | #\u001b[01;35m\u001b[Kwarning\u001b[m\u001b[K \"Using deprecated NumPy API, disable it with \" \\\r\n",
      "      |  \u001b[01;35m\u001b[K^~~~~~~\u001b[m\u001b[K\r\n",
      "\u001b[01m\u001b[KHP3_Similarity_Cython_SGD.c:\u001b[m\u001b[K In function ‘\u001b[01m\u001b[K__pyx_pf_25HP3_Similarity_Cython_SGD_25HP3_Similarity_Cython_SGD_4fit\u001b[m\u001b[K’:\r\n",
      "\u001b[01m\u001b[KHP3_Similarity_Cython_SGD.c:23631:55:\u001b[m\u001b[K \u001b[01;35m\u001b[Kwarning: \u001b[m\u001b[K‘\u001b[01m\u001b[K__pyx_v_sample_num\u001b[m\u001b[K’ may be used uninitialized in this function [\u001b[01;35m\u001b[K\u001b]8;;https://gcc.gnu.org/onlinedocs/gcc/Warning-Options.html#index-Wmaybe-uninitialized\u0007-Wmaybe-uninitialized\u001b]8;;\u0007\u001b[m\u001b[K]\r\n",
      "23631 |   __pyx_t_1 = PyFloat_FromDouble((__pyx_v_cum_loss / \u001b[01;35m\u001b[K((double)__pyx_v_sample_num)\u001b[m\u001b[K)); if (unlikely(!__pyx_t_1)) __PYX_ERR(0, 291, __pyx_L1_error)\r\n",
      "      |                                                      \u001b[01;35m\u001b[K~^~~~~~~~~~~~~~~~~~~~~~~~~~~\u001b[m\u001b[K\r\n",
      "/usr/local/lib/python3.10/dist-packages/Cython/Compiler/Main.py:381: FutureWarning: Cython directive 'language_level' not set, using '3str' for now (Py3). This has changed from earlier releases! File: /kaggle/working/RECsys_Challenge2024/Recommenders/FeatureWeighting/Cython/HP3_Similarity_Cython_SGD.pyx\r\n",
      "  tree = Parsing.p_module(s, pxd, full_module_name)\r\n",
      "performance hint: HP3_Similarity_Cython_SGD.pyx:113:40: Index should be typed for more efficient access\r\n",
      "performance hint: HP3_Similarity_Cython_SGD.pyx:114:40: Index should be typed for more efficient access\r\n",
      "Compiling [8/11]: HP3_Similarity_Cython_SGD.pyx... PASS\r\n",
      "\r\n",
      "Compiling [9/11]: CFW_D_Similarity_Cython_SGD.pyx... \r\n",
      "In file included from \u001b[01m\u001b[K/usr/local/lib/python3.10/dist-packages/numpy/core/include/numpy/ndarraytypes.h:1929\u001b[m\u001b[K,\r\n",
      "                 from \u001b[01m\u001b[K/usr/local/lib/python3.10/dist-packages/numpy/core/include/numpy/ndarrayobject.h:12\u001b[m\u001b[K,\r\n",
      "                 from \u001b[01m\u001b[K/usr/local/lib/python3.10/dist-packages/numpy/core/include/numpy/arrayobject.h:5\u001b[m\u001b[K,\r\n",
      "                 from \u001b[01m\u001b[KCFW_D_Similarity_Cython_SGD.c:1252\u001b[m\u001b[K:\r\n",
      "\u001b[01m\u001b[K/usr/local/lib/python3.10/dist-packages/numpy/core/include/numpy/npy_1_7_deprecated_api.h:17:2:\u001b[m\u001b[K \u001b[01;35m\u001b[Kwarning: \u001b[m\u001b[K#warning \"Using deprecated NumPy API, disable it with \" \"#define NPY_NO_DEPRECATED_API NPY_1_7_API_VERSION\" [\u001b[01;35m\u001b[K\u001b]8;;https://gcc.gnu.org/onlinedocs/gcc/Warning-Options.html#index-Wcpp\u0007-Wcpp\u001b]8;;\u0007\u001b[m\u001b[K]\r\n",
      "   17 | #\u001b[01;35m\u001b[Kwarning\u001b[m\u001b[K \"Using deprecated NumPy API, disable it with \" \\\r\n",
      "      |  \u001b[01;35m\u001b[K^~~~~~~\u001b[m\u001b[K\r\n",
      "\u001b[01m\u001b[KCFW_D_Similarity_Cython_SGD.c:\u001b[m\u001b[K In function ‘\u001b[01m\u001b[K__pyx_pf_27CFW_D_Similarity_Cython_SGD_27CFW_D_Similarity_Cython_SGD_6fit\u001b[m\u001b[K’:\r\n",
      "\u001b[01m\u001b[KCFW_D_Similarity_Cython_SGD.c:23373:55:\u001b[m\u001b[K \u001b[01;35m\u001b[Kwarning: \u001b[m\u001b[K‘\u001b[01m\u001b[K__pyx_v_sample_num\u001b[m\u001b[K’ may be used uninitialized in this function [\u001b[01;35m\u001b[K\u001b]8;;https://gcc.gnu.org/onlinedocs/gcc/Warning-Options.html#index-Wmaybe-uninitialized\u0007-Wmaybe-uninitialized\u001b]8;;\u0007\u001b[m\u001b[K]\r\n",
      "23373 |   __pyx_t_3 = PyFloat_FromDouble((__pyx_v_cum_loss / \u001b[01;35m\u001b[K((double)__pyx_v_sample_num)\u001b[m\u001b[K)); if (unlikely(!__pyx_t_3)) __PYX_ERR(0, 290, __pyx_L1_error)\r\n",
      "      |                                                      \u001b[01;35m\u001b[K~^~~~~~~~~~~~~~~~~~~~~~~~~~~\u001b[m\u001b[K\r\n",
      "/usr/local/lib/python3.10/dist-packages/Cython/Compiler/Main.py:381: FutureWarning: Cython directive 'language_level' not set, using '3str' for now (Py3). This has changed from earlier releases! File: /kaggle/working/RECsys_Challenge2024/Recommenders/FeatureWeighting/Cython/CFW_D_Similarity_Cython_SGD.pyx\r\n",
      "  tree = Parsing.p_module(s, pxd, full_module_name)\r\n",
      "Compiling [9/11]: CFW_D_Similarity_Cython_SGD.pyx... PASS\r\n",
      "\r\n",
      "Compiling [10/11]: FBSM_Rating_Cython_SGD.pyx... \r\n",
      "In file included from \u001b[01m\u001b[K/usr/local/lib/python3.10/dist-packages/numpy/core/include/numpy/ndarraytypes.h:1929\u001b[m\u001b[K,\r\n",
      "                 from \u001b[01m\u001b[K/usr/local/lib/python3.10/dist-packages/numpy/core/include/numpy/ndarrayobject.h:12\u001b[m\u001b[K,\r\n",
      "                 from \u001b[01m\u001b[K/usr/local/lib/python3.10/dist-packages/numpy/core/include/numpy/arrayobject.h:5\u001b[m\u001b[K,\r\n",
      "                 from \u001b[01m\u001b[KFBSM_Rating_Cython_SGD.c:1252\u001b[m\u001b[K:\r\n",
      "\u001b[01m\u001b[K/usr/local/lib/python3.10/dist-packages/numpy/core/include/numpy/npy_1_7_deprecated_api.h:17:2:\u001b[m\u001b[K \u001b[01;35m\u001b[Kwarning: \u001b[m\u001b[K#warning \"Using deprecated NumPy API, disable it with \" \"#define NPY_NO_DEPRECATED_API NPY_1_7_API_VERSION\" [\u001b[01;35m\u001b[K\u001b]8;;https://gcc.gnu.org/onlinedocs/gcc/Warning-Options.html#index-Wcpp\u0007-Wcpp\u001b]8;;\u0007\u001b[m\u001b[K]\r\n",
      "   17 | #\u001b[01;35m\u001b[Kwarning\u001b[m\u001b[K \"Using deprecated NumPy API, disable it with \" \\\r\n",
      "      |  \u001b[01;35m\u001b[K^~~~~~~\u001b[m\u001b[K\r\n",
      "\u001b[01m\u001b[KFBSM_Rating_Cython_SGD.c:\u001b[m\u001b[K In function ‘\u001b[01m\u001b[K__pyx_pf_22FBSM_Rating_Cython_SGD_22FBSM_Rating_Cython_SGD_2fit\u001b[m\u001b[K’:\r\n",
      "\u001b[01m\u001b[KFBSM_Rating_Cython_SGD.c:26607:55:\u001b[m\u001b[K \u001b[01;35m\u001b[Kwarning: \u001b[m\u001b[K‘\u001b[01m\u001b[K__pyx_v_num_sample\u001b[m\u001b[K’ may be used uninitialized in this function [\u001b[01;35m\u001b[K\u001b]8;;https://gcc.gnu.org/onlinedocs/gcc/Warning-Options.html#index-Wmaybe-uninitialized\u0007-Wmaybe-uninitialized\u001b]8;;\u0007\u001b[m\u001b[K]\r\n",
      "26607 |   __pyx_t_5 = PyFloat_FromDouble((__pyx_v_cum_loss / \u001b[01;35m\u001b[K((double)__pyx_v_num_sample)\u001b[m\u001b[K)); if (unlikely(!__pyx_t_5)) __PYX_ERR(0, 551, __pyx_L1_error)\r\n",
      "      |                                                      \u001b[01;35m\u001b[K~^~~~~~~~~~~~~~~~~~~~~~~~~~~\u001b[m\u001b[K\r\n",
      "/usr/local/lib/python3.10/dist-packages/Cython/Compiler/Main.py:381: FutureWarning: Cython directive 'language_level' not set, using '3str' for now (Py3). This has changed from earlier releases! File: /kaggle/working/RECsys_Challenge2024/Recommenders/FeatureWeighting/Cython/FBSM_Rating_Cython_SGD.pyx\r\n",
      "  tree = Parsing.p_module(s, pxd, full_module_name)\r\n",
      "Compiling [10/11]: FBSM_Rating_Cython_SGD.pyx... PASS\r\n",
      "\r\n",
      "Compiling [11/11]: DataIterator.pyx... \r\n",
      "In file included from \u001b[01m\u001b[K/usr/local/lib/python3.10/dist-packages/numpy/core/include/numpy/ndarraytypes.h:1929\u001b[m\u001b[K,\r\n",
      "                 from \u001b[01m\u001b[K/usr/local/lib/python3.10/dist-packages/numpy/core/include/numpy/ndarrayobject.h:12\u001b[m\u001b[K,\r\n",
      "                 from \u001b[01m\u001b[K/usr/local/lib/python3.10/dist-packages/numpy/core/include/numpy/arrayobject.h:5\u001b[m\u001b[K,\r\n",
      "                 from \u001b[01m\u001b[KDataIterator.c:1252\u001b[m\u001b[K:\r\n",
      "\u001b[01m\u001b[K/usr/local/lib/python3.10/dist-packages/numpy/core/include/numpy/npy_1_7_deprecated_api.h:17:2:\u001b[m\u001b[K \u001b[01;35m\u001b[Kwarning: \u001b[m\u001b[K#warning \"Using deprecated NumPy API, disable it with \" \"#define NPY_NO_DEPRECATED_API NPY_1_7_API_VERSION\" [\u001b[01;35m\u001b[K\u001b]8;;https://gcc.gnu.org/onlinedocs/gcc/Warning-Options.html#index-Wcpp\u0007-Wcpp\u001b]8;;\u0007\u001b[m\u001b[K]\r\n",
      "   17 | #\u001b[01;35m\u001b[Kwarning\u001b[m\u001b[K \"Using deprecated NumPy API, disable it with \" \\\r\n",
      "      |  \u001b[01;35m\u001b[K^~~~~~~\u001b[m\u001b[K\r\n",
      "\u001b[01m\u001b[KDataIterator.c:\u001b[m\u001b[K In function ‘\u001b[01m\u001b[K__pyx_pf_12DataIterator_19InteractionIterator_6__next__\u001b[m\u001b[K’:\r\n",
      "\u001b[01m\u001b[KDataIterator.c:20937:22:\u001b[m\u001b[K \u001b[01;35m\u001b[Kwarning: \u001b[m\u001b[K‘\u001b[01m\u001b[K__pyx_v_i_batch\u001b[m\u001b[K’ may be used uninitialized in this function [\u001b[01;35m\u001b[K\u001b]8;;https://gcc.gnu.org/onlinedocs/gcc/Warning-Options.html#index-Wmaybe-uninitialized\u0007-Wmaybe-uninitialized\u001b]8;;\u0007\u001b[m\u001b[K]\r\n",
      "20937 |     (__pyx_v_i_batch \u001b[01;35m\u001b[K+\u001b[m\u001b[K 1),\r\n",
      "      |                      \u001b[01;35m\u001b[K^\u001b[m\u001b[K\r\n",
      "\u001b[01m\u001b[KDataIterator.c:\u001b[m\u001b[K In function ‘\u001b[01m\u001b[K__pyx_pf_12DataIterator_30InteractionAndNegativeIterator_6__next__\u001b[m\u001b[K’:\r\n",
      "\u001b[01m\u001b[KDataIterator.c:25499:22:\u001b[m\u001b[K \u001b[01;35m\u001b[Kwarning: \u001b[m\u001b[K‘\u001b[01m\u001b[K__pyx_v_i_batch\u001b[m\u001b[K’ may be used uninitialized in this function [\u001b[01;35m\u001b[K\u001b]8;;https://gcc.gnu.org/onlinedocs/gcc/Warning-Options.html#index-Wmaybe-uninitialized\u0007-Wmaybe-uninitialized\u001b]8;;\u0007\u001b[m\u001b[K]\r\n",
      "25499 |     (__pyx_v_i_batch \u001b[01;35m\u001b[K+\u001b[m\u001b[K 1),\r\n",
      "      |                      \u001b[01;35m\u001b[K^\u001b[m\u001b[K\r\n",
      "\u001b[01m\u001b[KDataIterator.c:\u001b[m\u001b[K In function ‘\u001b[01m\u001b[K__pyx_pf_12DataIterator_11BPRIterator_6__next__\u001b[m\u001b[K’:\r\n",
      "\u001b[01m\u001b[KDataIterator.c:23056:22:\u001b[m\u001b[K \u001b[01;35m\u001b[Kwarning: \u001b[m\u001b[K‘\u001b[01m\u001b[K__pyx_v_i_batch\u001b[m\u001b[K’ may be used uninitialized in this function [\u001b[01;35m\u001b[K\u001b]8;;https://gcc.gnu.org/onlinedocs/gcc/Warning-Options.html#index-Wmaybe-uninitialized\u0007-Wmaybe-uninitialized\u001b]8;;\u0007\u001b[m\u001b[K]\r\n",
      "23056 |     (__pyx_v_i_batch \u001b[01;35m\u001b[K+\u001b[m\u001b[K 1),\r\n",
      "      |                      \u001b[01;35m\u001b[K^\u001b[m\u001b[K\r\n",
      "/usr/local/lib/python3.10/dist-packages/Cython/Compiler/Main.py:381: FutureWarning: Cython directive 'language_level' not set, using '3str' for now (Py3). This has changed from earlier releases! File: /kaggle/working/RECsys_Challenge2024/Utils/PyTorch/Cython/DataIterator.pyx\r\n",
      "  tree = Parsing.p_module(s, pxd, full_module_name)\r\n",
      "Compiling [11/11]: DataIterator.pyx... PASS\r\n",
      "\r\n",
      "run_compile_all_cython: Compilation finished. FAILS 2/11.\r\n",
      "Compilation log can be found here: './result_experiments/run_compile_all_cython.txt'\r\n"
     ]
    }
   ],
   "source": [
    "%cd /kaggle/working/RECsys_Challenge2024\n",
    "! python run_compile_all_cython.py"
   ]
  },
  {
   "cell_type": "code",
   "execution_count": 7,
   "id": "41a1a2aa",
   "metadata": {
    "execution": {
     "iopub.execute_input": "2025-01-07T13:34:27.952483Z",
     "iopub.status.busy": "2025-01-07T13:34:27.952162Z",
     "iopub.status.idle": "2025-01-07T13:34:30.595393Z",
     "shell.execute_reply": "2025-01-07T13:34:30.594432Z"
    },
    "papermill": {
     "duration": 2.66611,
     "end_time": "2025-01-07T13:34:30.597368",
     "exception": false,
     "start_time": "2025-01-07T13:34:27.931258",
     "status": "completed"
    },
    "tags": []
   },
   "outputs": [],
   "source": [
    "from Utils.notebookFunctions import *\n",
    "from Utils.xgboost_functions import *\n",
    "import numpy as np\n",
    "import pandas as pd\n",
    "import scipy.sparse as sps\n",
    "import time\n",
    "import shutil\n",
    "import optuna\n",
    "import json\n",
    "import os\n",
    "import gc\n",
    "from Utils.seconds_to_biggest_unit import seconds_to_biggest_unit\n",
    "from tqdm import tqdm\n",
    "from xgboost import XGBRanker\n",
    "\n",
    "import warnings\n",
    "import string\n",
    "from scipy.stats import skew, kurtosis\n",
    "from numpy import linalg as LA\n",
    "\n",
    "import timeout_decorator\n",
    "\n",
    "%matplotlib inline\n",
    "from xgboost import plot_importance\n",
    "\n",
    "K_PATH = '/kaggle/working/RECsys_Challenge2024'\n",
    "GH_PATH = 'TrainedModels/WithKFCV'\n",
    "GH_PATH_1 = 'TrainedModels/WithoutKFCV'\n",
    "D_PATH = 'XGBoost'\n",
    "\n",
    "np.random.seed(42)"
   ]
  },
  {
   "cell_type": "code",
   "execution_count": 8,
   "id": "9e07c4e1",
   "metadata": {
    "execution": {
     "iopub.execute_input": "2025-01-07T13:34:30.639079Z",
     "iopub.status.busy": "2025-01-07T13:34:30.638489Z",
     "iopub.status.idle": "2025-01-07T13:34:34.920681Z",
     "shell.execute_reply": "2025-01-07T13:34:34.919545Z"
    },
    "papermill": {
     "duration": 4.304846,
     "end_time": "2025-01-07T13:34:34.922726",
     "exception": false,
     "start_time": "2025-01-07T13:34:30.617880",
     "status": "completed"
    },
    "tags": []
   },
   "outputs": [],
   "source": [
    "from Recommenders.GraphBased.RP3betaRecommender import RP3betaRecommender\n",
    "from Recommenders.GraphBased.P3alphaRecommender import P3alphaRecommender\n",
    "from Recommenders.Hybrid.LinearCombinationRecommender import LinearCombinationRecommender\n",
    "from Recommenders.KNN.ItemKNNCFRecommender import ItemKNNCFRecommender\n",
    "from Recommenders.KNN.ItemKNNCBFRecommender import ItemKNNCBFRecommender\n",
    "from Recommenders.KNN.UserKNNCFRecommender import UserKNNCFRecommender\n",
    "from Recommenders.MatrixFactorization.FasterIALSRecommender import FasterIALSRecommender\n",
    "from Recommenders.MatrixFactorization.NMFRecommender import NMFRecommender\n",
    "from Recommenders.MatrixFactorization.PureSVDRecommender import PureSVDItemRecommender\n",
    "from Recommenders.MatrixFactorization.PureSVDRecommender import ScaledPureSVDRecommender\n",
    "from Recommenders.Neural.MultVAE_PyTorch_Recommender import MultVAERecommender_PyTorch_OptimizerMask \n",
    "from Recommenders.SLIM.SLIMElasticNetRecommender import SLIMElasticNetRecommender\n",
    "from Recommenders.SLIM.SLIM_BPR_Python import SLIM_BPR_Python"
   ]
  },
  {
   "cell_type": "markdown",
   "id": "f2aa230b",
   "metadata": {
    "papermill": {
     "duration": 0.01957,
     "end_time": "2025-01-07T13:34:34.962424",
     "exception": false,
     "start_time": "2025-01-07T13:34:34.942854",
     "status": "completed"
    },
    "tags": []
   },
   "source": [
    "## Import the repository"
   ]
  },
  {
   "cell_type": "code",
   "execution_count": 9,
   "id": "70a9d182",
   "metadata": {
    "execution": {
     "iopub.execute_input": "2025-01-07T13:34:35.003379Z",
     "iopub.status.busy": "2025-01-07T13:34:35.002864Z",
     "iopub.status.idle": "2025-01-07T13:34:35.484947Z",
     "shell.execute_reply": "2025-01-07T13:34:35.483718Z"
    },
    "papermill": {
     "duration": 0.504657,
     "end_time": "2025-01-07T13:34:35.486822",
     "exception": false,
     "start_time": "2025-01-07T13:34:34.982165",
     "status": "completed"
    },
    "tags": []
   },
   "outputs": [
    {
     "name": "stdout",
     "output_type": "stream",
     "text": [
      "Repository 'RECsys_Challenge2024' found.\n"
     ]
    }
   ],
   "source": [
    "repo = get_repo_from_github(token)"
   ]
  },
  {
   "cell_type": "code",
   "execution_count": 10,
   "id": "1c61dc74",
   "metadata": {
    "execution": {
     "iopub.execute_input": "2025-01-07T13:34:35.529715Z",
     "iopub.status.busy": "2025-01-07T13:34:35.529323Z",
     "iopub.status.idle": "2025-01-07T13:34:35.533993Z",
     "shell.execute_reply": "2025-01-07T13:34:35.532831Z"
    },
    "papermill": {
     "duration": 0.028484,
     "end_time": "2025-01-07T13:34:35.535602",
     "exception": false,
     "start_time": "2025-01-07T13:34:35.507118",
     "status": "completed"
    },
    "tags": []
   },
   "outputs": [],
   "source": [
    "config = {\n",
    "    'model': 'XGBoostNoCont',\n",
    "    'metric': 'MAP',\n",
    "    'categorical': True,\n",
    "    'contents': False,\n",
    "    'tune_parameters': True,\n",
    "    'database_path': '/kaggle/working/history_XGBoostNoCont_MAP.db',\n",
    "    'copy_prev_best_params': False,\n",
    "    'tune_best_params': True,\n",
    "    'save_github': True\n",
    "}"
   ]
  },
  {
   "cell_type": "markdown",
   "id": "f6e1df5c",
   "metadata": {
    "papermill": {
     "duration": 0.019982,
     "end_time": "2025-01-07T13:34:35.576157",
     "exception": false,
     "start_time": "2025-01-07T13:34:35.556175",
     "status": "completed"
    },
    "tags": []
   },
   "source": [
    "Import the database where previous tuning trials have been saved."
   ]
  },
  {
   "cell_type": "code",
   "execution_count": 11,
   "id": "ce5dcfec",
   "metadata": {
    "execution": {
     "iopub.execute_input": "2025-01-07T13:34:35.616439Z",
     "iopub.status.busy": "2025-01-07T13:34:35.616105Z",
     "iopub.status.idle": "2025-01-07T13:34:35.620961Z",
     "shell.execute_reply": "2025-01-07T13:34:35.619870Z"
    },
    "papermill": {
     "duration": 0.027174,
     "end_time": "2025-01-07T13:34:35.622776",
     "exception": false,
     "start_time": "2025-01-07T13:34:35.595602",
     "status": "completed"
    },
    "tags": []
   },
   "outputs": [],
   "source": [
    "try:\n",
    "    shutil.copyfile(\n",
    "        f'{K_PATH}/{GH_PATH}/{D_PATH}/{config[\"model\"]}Recommender/Optimizing{config[\"metric\"]}/history_{config[\"model\"]}_{config[\"metric\"]}.db', \n",
    "        config['database_path']\n",
    "    )\n",
    "except FileNotFoundError:\n",
    "    pass # if not present optuna will create it"
   ]
  },
  {
   "cell_type": "markdown",
   "id": "96b9d4c3",
   "metadata": {
    "papermill": {
     "duration": 0.019363,
     "end_time": "2025-01-07T13:34:35.662658",
     "exception": false,
     "start_time": "2025-01-07T13:34:35.643295",
     "status": "completed"
    },
    "tags": []
   },
   "source": [
    "Save the best trial value saved in the imported db from optuna."
   ]
  },
  {
   "cell_type": "code",
   "execution_count": 12,
   "id": "da7beb60",
   "metadata": {
    "execution": {
     "iopub.execute_input": "2025-01-07T13:34:35.703321Z",
     "iopub.status.busy": "2025-01-07T13:34:35.702992Z",
     "iopub.status.idle": "2025-01-07T13:34:36.997079Z",
     "shell.execute_reply": "2025-01-07T13:34:36.995871Z"
    },
    "papermill": {
     "duration": 1.316463,
     "end_time": "2025-01-07T13:34:36.998703",
     "exception": false,
     "start_time": "2025-01-07T13:34:35.682240",
     "status": "completed"
    },
    "tags": []
   },
   "outputs": [
    {
     "name": "stdout",
     "output_type": "stream",
     "text": [
      "Best value: 0\n"
     ]
    }
   ],
   "source": [
    "try:\n",
    "    optuna_study = optuna.load_study(study_name=f'hyperparameters_tuning_{config[\"model\"]}_{config[\"metric\"]}',\n",
    "                                storage=f'sqlite:///{config[\"database_path\"]}')\n",
    "\n",
    "    # Access the best trial\n",
    "    best_saved_value = study.best_trial.value\n",
    "except:\n",
    "    best_saved_value = 0\n",
    "\n",
    "print(\"Best value:\", best_saved_value)"
   ]
  },
  {
   "cell_type": "markdown",
   "id": "25027692",
   "metadata": {
    "papermill": {
     "duration": 0.019093,
     "end_time": "2025-01-07T13:34:37.037802",
     "exception": false,
     "start_time": "2025-01-07T13:34:37.018709",
     "status": "completed"
    },
    "tags": []
   },
   "source": [
    "# Construction of URM and ICM matrices"
   ]
  },
  {
   "cell_type": "code",
   "execution_count": 13,
   "id": "2952e4d7",
   "metadata": {
    "execution": {
     "iopub.execute_input": "2025-01-07T13:34:37.078136Z",
     "iopub.status.busy": "2025-01-07T13:34:37.077778Z",
     "iopub.status.idle": "2025-01-07T13:34:37.997239Z",
     "shell.execute_reply": "2025-01-07T13:34:37.996226Z"
    },
    "papermill": {
     "duration": 0.941636,
     "end_time": "2025-01-07T13:34:37.998985",
     "exception": false,
     "start_time": "2025-01-07T13:34:37.057349",
     "status": "completed"
    },
    "tags": []
   },
   "outputs": [
    {
     "data": {
      "text/plain": [
       "<35736x38121 sparse matrix of type '<class 'numpy.float64'>'\n",
       "\twith 1764607 stored elements in Compressed Sparse Row format>"
      ]
     },
     "execution_count": 13,
     "metadata": {},
     "output_type": "execute_result"
    }
   ],
   "source": [
    "URM_all_dataframe = pd.read_csv(\"/kaggle/input/recommender-system-2024-challenge-polimi/data_train.csv\")\n",
    "\n",
    "n_users = len(URM_all_dataframe[\"user_id\"].unique())\n",
    "n_items = len(URM_all_dataframe[\"item_id\"].unique())\n",
    "\n",
    "URM_all = sps.csr_matrix((URM_all_dataframe[\"data\"].values, \n",
    "                          (URM_all_dataframe[\"user_id\"].values, URM_all_dataframe[\"item_id\"].values)),\n",
    "                        shape = (n_users, n_items))\n",
    "\n",
    "URM_all"
   ]
  },
  {
   "cell_type": "code",
   "execution_count": 14,
   "id": "cb2176ee",
   "metadata": {
    "execution": {
     "iopub.execute_input": "2025-01-07T13:34:38.040262Z",
     "iopub.status.busy": "2025-01-07T13:34:38.039912Z",
     "iopub.status.idle": "2025-01-07T13:34:39.363773Z",
     "shell.execute_reply": "2025-01-07T13:34:39.362722Z"
    },
    "papermill": {
     "duration": 1.346335,
     "end_time": "2025-01-07T13:34:39.365408",
     "exception": false,
     "start_time": "2025-01-07T13:34:38.019073",
     "status": "completed"
    },
    "tags": []
   },
   "outputs": [
    {
     "data": {
      "text/plain": [
       "<38121x94331 sparse matrix of type '<class 'numpy.float64'>'\n",
       "\twith 2940040 stored elements in Compressed Sparse Row format>"
      ]
     },
     "execution_count": 14,
     "metadata": {},
     "output_type": "execute_result"
    }
   ],
   "source": [
    "ICM_dataframe = pd.read_csv(\"/kaggle/input/recommender-system-2024-challenge-polimi/data_ICM_metadata.csv\")\n",
    "\n",
    "n_items = len(ICM_dataframe[\"item_id\"].unique())\n",
    "n_features = len(ICM_dataframe[\"feature_id\"].unique())\n",
    "\n",
    "ICM_all = sps.csr_matrix((ICM_dataframe[\"data\"].values, \n",
    "                          (ICM_dataframe[\"item_id\"].values, ICM_dataframe[\"feature_id\"].values)),\n",
    "                        shape = (n_items, n_features))\n",
    "\n",
    "ICM_all"
   ]
  },
  {
   "cell_type": "markdown",
   "id": "4f738d9f",
   "metadata": {
    "papermill": {
     "duration": 0.019504,
     "end_time": "2025-01-07T13:34:39.405040",
     "exception": false,
     "start_time": "2025-01-07T13:34:39.385536",
     "status": "completed"
    },
    "tags": []
   },
   "source": [
    "## Import dataframes"
   ]
  },
  {
   "cell_type": "code",
   "execution_count": 15,
   "id": "d7b8152a",
   "metadata": {
    "execution": {
     "iopub.execute_input": "2025-01-07T13:34:39.446539Z",
     "iopub.status.busy": "2025-01-07T13:34:39.446205Z",
     "iopub.status.idle": "2025-01-07T13:34:39.452472Z",
     "shell.execute_reply": "2025-01-07T13:34:39.451381Z"
    },
    "papermill": {
     "duration": 0.029086,
     "end_time": "2025-01-07T13:34:39.454230",
     "exception": false,
     "start_time": "2025-01-07T13:34:39.425144",
     "status": "completed"
    },
    "tags": []
   },
   "outputs": [
    {
     "name": "stdout",
     "output_type": "stream",
     "text": [
      "Dataframe directory is ready to be used.\n"
     ]
    }
   ],
   "source": [
    "dataframes_path = f'/kaggle/input/dataframes-{config[\"model\"].lower()}-kfcv'\n",
    "\n",
    "if os.path.exists(dataframes_path):\n",
    "    print(\"Dataframe directory is ready to be used.\")\n",
    "else:\n",
    "    print(\"No dataframes directory is present.\")"
   ]
  },
  {
   "cell_type": "markdown",
   "id": "e5675cd8",
   "metadata": {
    "papermill": {
     "duration": 0.019899,
     "end_time": "2025-01-07T13:34:39.494573",
     "exception": false,
     "start_time": "2025-01-07T13:34:39.474674",
     "status": "completed"
    },
    "tags": []
   },
   "source": [
    "# Training\n",
    "Split the dataset in train, validation and test set."
   ]
  },
  {
   "cell_type": "code",
   "execution_count": 16,
   "id": "37565afc",
   "metadata": {
    "execution": {
     "iopub.execute_input": "2025-01-07T13:34:39.536365Z",
     "iopub.status.busy": "2025-01-07T13:34:39.536034Z",
     "iopub.status.idle": "2025-01-07T13:34:44.944880Z",
     "shell.execute_reply": "2025-01-07T13:34:44.943455Z"
    },
    "papermill": {
     "duration": 5.432127,
     "end_time": "2025-01-07T13:34:44.946736",
     "exception": false,
     "start_time": "2025-01-07T13:34:39.514609",
     "status": "completed"
    },
    "tags": []
   },
   "outputs": [
    {
     "name": "stdout",
     "output_type": "stream",
     "text": [
      "Warning: 141 (0.39 %) of 35736 users have no sampled items\n",
      "Warning: 391 (1.09 %) of 35736 users have no sampled items\n",
      "EvaluatorHoldout: Ignoring 141 ( 0.4%) Users that have less than 1 test interactions\n"
     ]
    }
   ],
   "source": [
    "from Evaluation.Evaluator import EvaluatorHoldout\n",
    "from Data_manager.split_functions.split_train_validation_random_holdout import split_train_in_two_percentage_global_sample\n",
    "\n",
    "URM_train, URM_test = split_train_in_two_percentage_global_sample(URM_all, train_percentage = 0.80)\n",
    "URM_train, URM_validation = split_train_in_two_percentage_global_sample(URM_train, train_percentage = 0.80)\n",
    "\n",
    "evaluator_test = EvaluatorHoldout(URM_test, cutoff_list=[10])"
   ]
  },
  {
   "cell_type": "markdown",
   "id": "8b9f4728",
   "metadata": {
    "papermill": {
     "duration": 0.020122,
     "end_time": "2025-01-07T13:34:44.987445",
     "exception": false,
     "start_time": "2025-01-07T13:34:44.967323",
     "status": "completed"
    },
    "tags": []
   },
   "source": [
    "Function to fit the hybrid recommender that is going to be used as candidate generator."
   ]
  },
  {
   "cell_type": "markdown",
   "id": "6289dd8f",
   "metadata": {
    "papermill": {
     "duration": 0.020239,
     "end_time": "2025-01-07T13:34:45.029115",
     "exception": false,
     "start_time": "2025-01-07T13:34:45.008876",
     "status": "completed"
    },
    "tags": []
   },
   "source": [
    "## Candidate Generators\n",
    "\n",
    "Select the best previously trained recommenders to use inside the hybrid recommender (candidate generator)."
   ]
  },
  {
   "cell_type": "code",
   "execution_count": 17,
   "id": "39e0e09c",
   "metadata": {
    "execution": {
     "iopub.execute_input": "2025-01-07T13:34:45.070920Z",
     "iopub.status.busy": "2025-01-07T13:34:45.070487Z",
     "iopub.status.idle": "2025-01-07T13:34:45.074669Z",
     "shell.execute_reply": "2025-01-07T13:34:45.073763Z"
    },
    "papermill": {
     "duration": 0.026914,
     "end_time": "2025-01-07T13:34:45.076354",
     "exception": false,
     "start_time": "2025-01-07T13:34:45.049440",
     "status": "completed"
    },
    "tags": []
   },
   "outputs": [],
   "source": [
    "cg_recommenders = {\n",
    "    \"ItemKNNCF\": ItemKNNCFRecommender,\n",
    "    \"SLIMElasticNet\": SLIMElasticNetRecommender,\n",
    "    \"RP3beta\": RP3betaRecommender,\n",
    "}"
   ]
  },
  {
   "cell_type": "markdown",
   "id": "9c9fd66c",
   "metadata": {
    "papermill": {
     "duration": 0.019937,
     "end_time": "2025-01-07T13:34:45.116815",
     "exception": false,
     "start_time": "2025-01-07T13:34:45.096878",
     "status": "completed"
    },
    "tags": []
   },
   "source": [
    "## Features\n",
    "Select the other previously trained recommenders to use them as features."
   ]
  },
  {
   "cell_type": "code",
   "execution_count": 18,
   "id": "866b2f97",
   "metadata": {
    "execution": {
     "iopub.execute_input": "2025-01-07T13:34:45.159202Z",
     "iopub.status.busy": "2025-01-07T13:34:45.158802Z",
     "iopub.status.idle": "2025-01-07T13:34:45.163454Z",
     "shell.execute_reply": "2025-01-07T13:34:45.162492Z"
    },
    "papermill": {
     "duration": 0.027622,
     "end_time": "2025-01-07T13:34:45.164928",
     "exception": false,
     "start_time": "2025-01-07T13:34:45.137306",
     "status": "completed"
    },
    "tags": []
   },
   "outputs": [],
   "source": [
    "f_recommenders = {\n",
    "    \"RP3beta\": RP3betaRecommender,\n",
    "    \"P3alpha\": P3alphaRecommender,\n",
    "    \"ItemKNNCF\": ItemKNNCFRecommender,\n",
    "    \"ItemKNNCBF\": ItemKNNCBFRecommender,\n",
    "    \"UserKNNCF\": UserKNNCFRecommender,\n",
    "    \"FasterIALS\": FasterIALSRecommender,\n",
    "    \"NMF\": NMFRecommender,\n",
    "    \"PureSVDItem\": PureSVDItemRecommender,\n",
    "    \"ScaledPureSVD\": ScaledPureSVDRecommender,\n",
    "    \"MultVAE\": MultVAERecommender_PyTorch_OptimizerMask,\n",
    "    \"SLIMElasticNet\": SLIMElasticNetRecommender,\n",
    "    \"SLIM_BPR\": SLIM_BPR_Python,\n",
    "}"
   ]
  },
  {
   "cell_type": "markdown",
   "id": "087e8614",
   "metadata": {
    "papermill": {
     "duration": 0.022,
     "end_time": "2025-01-07T13:34:45.207325",
     "exception": false,
     "start_time": "2025-01-07T13:34:45.185325",
     "status": "completed"
    },
    "tags": []
   },
   "source": [
    "## Training dataframe building\n",
    "Build the dataframe with the predictions, the popularity of the item, the user activity, the profile length, item features and others.\n",
    "\n",
    "Then, set features and target to use for the training."
   ]
  },
  {
   "cell_type": "code",
   "execution_count": 19,
   "id": "8e372f8f",
   "metadata": {
    "execution": {
     "iopub.execute_input": "2025-01-07T13:34:45.250000Z",
     "iopub.status.busy": "2025-01-07T13:34:45.249585Z",
     "iopub.status.idle": "2025-01-07T13:34:49.008235Z",
     "shell.execute_reply": "2025-01-07T13:34:49.007301Z"
    },
    "papermill": {
     "duration": 3.781992,
     "end_time": "2025-01-07T13:34:49.010276",
     "exception": false,
     "start_time": "2025-01-07T13:34:45.228284",
     "status": "completed"
    },
    "tags": []
   },
   "outputs": [
    {
     "name": "stdout",
     "output_type": "stream",
     "text": [
      "training_dataframe and groups_train loaded.\n"
     ]
    },
    {
     "data": {
      "text/html": [
       "<div>\n",
       "<style scoped>\n",
       "    .dataframe tbody tr th:only-of-type {\n",
       "        vertical-align: middle;\n",
       "    }\n",
       "\n",
       "    .dataframe tbody tr th {\n",
       "        vertical-align: top;\n",
       "    }\n",
       "\n",
       "    .dataframe thead th {\n",
       "        text-align: right;\n",
       "    }\n",
       "</style>\n",
       "<table border=\"1\" class=\"dataframe\">\n",
       "  <thead>\n",
       "    <tr style=\"text-align: right;\">\n",
       "      <th></th>\n",
       "      <th>UserID</th>\n",
       "      <th>ItemID</th>\n",
       "      <th>Label</th>\n",
       "      <th>feature_recommender_count</th>\n",
       "      <th>RP3beta_score</th>\n",
       "      <th>RP3beta_position</th>\n",
       "      <th>P3alpha_score</th>\n",
       "      <th>P3alpha_position</th>\n",
       "      <th>ItemKNNCF_score</th>\n",
       "      <th>ItemKNNCF_position</th>\n",
       "      <th>...</th>\n",
       "      <th>SLIM_BPR_position</th>\n",
       "      <th>Mean_Position</th>\n",
       "      <th>Std_Position</th>\n",
       "      <th>Min_Position</th>\n",
       "      <th>Max_Position</th>\n",
       "      <th>Median_Position</th>\n",
       "      <th>Skew_Position</th>\n",
       "      <th>Kurtosis_Position</th>\n",
       "      <th>item_popularity</th>\n",
       "      <th>user_profile_len</th>\n",
       "    </tr>\n",
       "  </thead>\n",
       "  <tbody>\n",
       "    <tr>\n",
       "      <th>0</th>\n",
       "      <td>0</td>\n",
       "      <td>399.0</td>\n",
       "      <td>False</td>\n",
       "      <td>8</td>\n",
       "      <td>0.581178</td>\n",
       "      <td>7.0</td>\n",
       "      <td>0.778370</td>\n",
       "      <td>8.0</td>\n",
       "      <td>0.755311</td>\n",
       "      <td>3.0</td>\n",
       "      <td>...</td>\n",
       "      <td>1.0</td>\n",
       "      <td>17.416667</td>\n",
       "      <td>23.608390</td>\n",
       "      <td>1.0</td>\n",
       "      <td>68.0</td>\n",
       "      <td>5.0</td>\n",
       "      <td>1.275059</td>\n",
       "      <td>0.097566</td>\n",
       "      <td>0.146779</td>\n",
       "      <td>0.017751</td>\n",
       "    </tr>\n",
       "    <tr>\n",
       "      <th>1</th>\n",
       "      <td>0</td>\n",
       "      <td>11919.0</td>\n",
       "      <td>False</td>\n",
       "      <td>3</td>\n",
       "      <td>0.542788</td>\n",
       "      <td>9.0</td>\n",
       "      <td>0.646533</td>\n",
       "      <td>12.0</td>\n",
       "      <td>0.589193</td>\n",
       "      <td>5.0</td>\n",
       "      <td>...</td>\n",
       "      <td>33.0</td>\n",
       "      <td>26.666667</td>\n",
       "      <td>16.255535</td>\n",
       "      <td>5.0</td>\n",
       "      <td>55.0</td>\n",
       "      <td>31.5</td>\n",
       "      <td>0.143488</td>\n",
       "      <td>-1.172743</td>\n",
       "      <td>0.022175</td>\n",
       "      <td>0.017751</td>\n",
       "    </tr>\n",
       "    <tr>\n",
       "      <th>2</th>\n",
       "      <td>0</td>\n",
       "      <td>11580.0</td>\n",
       "      <td>False</td>\n",
       "      <td>0</td>\n",
       "      <td>0.178666</td>\n",
       "      <td>53.0</td>\n",
       "      <td>0.462638</td>\n",
       "      <td>31.0</td>\n",
       "      <td>0.255366</td>\n",
       "      <td>36.0</td>\n",
       "      <td>...</td>\n",
       "      <td>61.0</td>\n",
       "      <td>39.166667</td>\n",
       "      <td>11.937971</td>\n",
       "      <td>19.0</td>\n",
       "      <td>61.0</td>\n",
       "      <td>37.5</td>\n",
       "      <td>0.226594</td>\n",
       "      <td>-0.589764</td>\n",
       "      <td>0.032735</td>\n",
       "      <td>0.017751</td>\n",
       "    </tr>\n",
       "    <tr>\n",
       "      <th>3</th>\n",
       "      <td>0</td>\n",
       "      <td>11548.0</td>\n",
       "      <td>False</td>\n",
       "      <td>1</td>\n",
       "      <td>0.340908</td>\n",
       "      <td>29.0</td>\n",
       "      <td>0.420580</td>\n",
       "      <td>36.0</td>\n",
       "      <td>0.503183</td>\n",
       "      <td>10.0</td>\n",
       "      <td>...</td>\n",
       "      <td>76.0</td>\n",
       "      <td>40.416667</td>\n",
       "      <td>22.423439</td>\n",
       "      <td>10.0</td>\n",
       "      <td>76.0</td>\n",
       "      <td>36.0</td>\n",
       "      <td>0.230537</td>\n",
       "      <td>-1.154957</td>\n",
       "      <td>0.026399</td>\n",
       "      <td>0.017751</td>\n",
       "    </tr>\n",
       "    <tr>\n",
       "      <th>4</th>\n",
       "      <td>0</td>\n",
       "      <td>11542.0</td>\n",
       "      <td>False</td>\n",
       "      <td>3</td>\n",
       "      <td>0.161270</td>\n",
       "      <td>60.0</td>\n",
       "      <td>0.225839</td>\n",
       "      <td>57.0</td>\n",
       "      <td>0.188274</td>\n",
       "      <td>47.0</td>\n",
       "      <td>...</td>\n",
       "      <td>75.0</td>\n",
       "      <td>39.083333</td>\n",
       "      <td>26.603002</td>\n",
       "      <td>2.0</td>\n",
       "      <td>75.0</td>\n",
       "      <td>52.0</td>\n",
       "      <td>-0.343663</td>\n",
       "      <td>-1.476842</td>\n",
       "      <td>0.038015</td>\n",
       "      <td>0.017751</td>\n",
       "    </tr>\n",
       "    <tr>\n",
       "      <th>...</th>\n",
       "      <td>...</td>\n",
       "      <td>...</td>\n",
       "      <td>...</td>\n",
       "      <td>...</td>\n",
       "      <td>...</td>\n",
       "      <td>...</td>\n",
       "      <td>...</td>\n",
       "      <td>...</td>\n",
       "      <td>...</td>\n",
       "      <td>...</td>\n",
       "      <td>...</td>\n",
       "      <td>...</td>\n",
       "      <td>...</td>\n",
       "      <td>...</td>\n",
       "      <td>...</td>\n",
       "      <td>...</td>\n",
       "      <td>...</td>\n",
       "      <td>...</td>\n",
       "      <td>...</td>\n",
       "      <td>...</td>\n",
       "      <td>...</td>\n",
       "    </tr>\n",
       "    <tr>\n",
       "      <th>2766958</th>\n",
       "      <td>35735</td>\n",
       "      <td>36034.0</td>\n",
       "      <td>False</td>\n",
       "      <td>12</td>\n",
       "      <td>0.999998</td>\n",
       "      <td>1.0</td>\n",
       "      <td>0.999998</td>\n",
       "      <td>1.0</td>\n",
       "      <td>0.917946</td>\n",
       "      <td>3.0</td>\n",
       "      <td>...</td>\n",
       "      <td>1.0</td>\n",
       "      <td>1.750000</td>\n",
       "      <td>0.965307</td>\n",
       "      <td>1.0</td>\n",
       "      <td>4.0</td>\n",
       "      <td>1.5</td>\n",
       "      <td>1.147979</td>\n",
       "      <td>0.424747</td>\n",
       "      <td>0.055966</td>\n",
       "      <td>0.006455</td>\n",
       "    </tr>\n",
       "    <tr>\n",
       "      <th>2766959</th>\n",
       "      <td>35735</td>\n",
       "      <td>36035.0</td>\n",
       "      <td>False</td>\n",
       "      <td>3</td>\n",
       "      <td>0.251446</td>\n",
       "      <td>24.0</td>\n",
       "      <td>0.242228</td>\n",
       "      <td>19.0</td>\n",
       "      <td>0.117250</td>\n",
       "      <td>51.0</td>\n",
       "      <td>...</td>\n",
       "      <td>37.0</td>\n",
       "      <td>22.666667</td>\n",
       "      <td>13.438975</td>\n",
       "      <td>7.0</td>\n",
       "      <td>51.0</td>\n",
       "      <td>21.5</td>\n",
       "      <td>0.648425</td>\n",
       "      <td>-0.399909</td>\n",
       "      <td>0.040127</td>\n",
       "      <td>0.006455</td>\n",
       "    </tr>\n",
       "    <tr>\n",
       "      <th>2766960</th>\n",
       "      <td>35735</td>\n",
       "      <td>36087.0</td>\n",
       "      <td>False</td>\n",
       "      <td>3</td>\n",
       "      <td>0.325917</td>\n",
       "      <td>16.0</td>\n",
       "      <td>0.414023</td>\n",
       "      <td>11.0</td>\n",
       "      <td>0.610776</td>\n",
       "      <td>10.0</td>\n",
       "      <td>...</td>\n",
       "      <td>13.0</td>\n",
       "      <td>19.000000</td>\n",
       "      <td>12.314072</td>\n",
       "      <td>3.0</td>\n",
       "      <td>44.0</td>\n",
       "      <td>15.5</td>\n",
       "      <td>0.960162</td>\n",
       "      <td>-0.101703</td>\n",
       "      <td>0.052798</td>\n",
       "      <td>0.006455</td>\n",
       "    </tr>\n",
       "    <tr>\n",
       "      <th>2766961</th>\n",
       "      <td>35735</td>\n",
       "      <td>34998.0</td>\n",
       "      <td>False</td>\n",
       "      <td>3</td>\n",
       "      <td>0.184845</td>\n",
       "      <td>31.0</td>\n",
       "      <td>0.176172</td>\n",
       "      <td>29.0</td>\n",
       "      <td>0.382324</td>\n",
       "      <td>19.0</td>\n",
       "      <td>...</td>\n",
       "      <td>25.0</td>\n",
       "      <td>18.083333</td>\n",
       "      <td>9.586528</td>\n",
       "      <td>3.0</td>\n",
       "      <td>31.0</td>\n",
       "      <td>19.0</td>\n",
       "      <td>-0.217246</td>\n",
       "      <td>-1.178536</td>\n",
       "      <td>0.040127</td>\n",
       "      <td>0.006455</td>\n",
       "    </tr>\n",
       "    <tr>\n",
       "      <th>2766962</th>\n",
       "      <td>35735</td>\n",
       "      <td>38033.0</td>\n",
       "      <td>False</td>\n",
       "      <td>0</td>\n",
       "      <td>0.000000</td>\n",
       "      <td>65.0</td>\n",
       "      <td>0.109935</td>\n",
       "      <td>43.0</td>\n",
       "      <td>0.108454</td>\n",
       "      <td>54.0</td>\n",
       "      <td>...</td>\n",
       "      <td>65.0</td>\n",
       "      <td>41.916667</td>\n",
       "      <td>15.663846</td>\n",
       "      <td>14.0</td>\n",
       "      <td>65.0</td>\n",
       "      <td>44.0</td>\n",
       "      <td>-0.059697</td>\n",
       "      <td>-0.839068</td>\n",
       "      <td>0.025343</td>\n",
       "      <td>0.006455</td>\n",
       "    </tr>\n",
       "  </tbody>\n",
       "</table>\n",
       "<p>2766963 rows × 37 columns</p>\n",
       "</div>"
      ],
      "text/plain": [
       "         UserID   ItemID  Label  feature_recommender_count  RP3beta_score  \\\n",
       "0             0    399.0  False                          8       0.581178   \n",
       "1             0  11919.0  False                          3       0.542788   \n",
       "2             0  11580.0  False                          0       0.178666   \n",
       "3             0  11548.0  False                          1       0.340908   \n",
       "4             0  11542.0  False                          3       0.161270   \n",
       "...         ...      ...    ...                        ...            ...   \n",
       "2766958   35735  36034.0  False                         12       0.999998   \n",
       "2766959   35735  36035.0  False                          3       0.251446   \n",
       "2766960   35735  36087.0  False                          3       0.325917   \n",
       "2766961   35735  34998.0  False                          3       0.184845   \n",
       "2766962   35735  38033.0  False                          0       0.000000   \n",
       "\n",
       "         RP3beta_position  P3alpha_score  P3alpha_position  ItemKNNCF_score  \\\n",
       "0                     7.0       0.778370               8.0         0.755311   \n",
       "1                     9.0       0.646533              12.0         0.589193   \n",
       "2                    53.0       0.462638              31.0         0.255366   \n",
       "3                    29.0       0.420580              36.0         0.503183   \n",
       "4                    60.0       0.225839              57.0         0.188274   \n",
       "...                   ...            ...               ...              ...   \n",
       "2766958               1.0       0.999998               1.0         0.917946   \n",
       "2766959              24.0       0.242228              19.0         0.117250   \n",
       "2766960              16.0       0.414023              11.0         0.610776   \n",
       "2766961              31.0       0.176172              29.0         0.382324   \n",
       "2766962              65.0       0.109935              43.0         0.108454   \n",
       "\n",
       "         ItemKNNCF_position  ...  SLIM_BPR_position  Mean_Position  \\\n",
       "0                       3.0  ...                1.0      17.416667   \n",
       "1                       5.0  ...               33.0      26.666667   \n",
       "2                      36.0  ...               61.0      39.166667   \n",
       "3                      10.0  ...               76.0      40.416667   \n",
       "4                      47.0  ...               75.0      39.083333   \n",
       "...                     ...  ...                ...            ...   \n",
       "2766958                 3.0  ...                1.0       1.750000   \n",
       "2766959                51.0  ...               37.0      22.666667   \n",
       "2766960                10.0  ...               13.0      19.000000   \n",
       "2766961                19.0  ...               25.0      18.083333   \n",
       "2766962                54.0  ...               65.0      41.916667   \n",
       "\n",
       "         Std_Position  Min_Position  Max_Position  Median_Position  \\\n",
       "0           23.608390           1.0          68.0              5.0   \n",
       "1           16.255535           5.0          55.0             31.5   \n",
       "2           11.937971          19.0          61.0             37.5   \n",
       "3           22.423439          10.0          76.0             36.0   \n",
       "4           26.603002           2.0          75.0             52.0   \n",
       "...               ...           ...           ...              ...   \n",
       "2766958      0.965307           1.0           4.0              1.5   \n",
       "2766959     13.438975           7.0          51.0             21.5   \n",
       "2766960     12.314072           3.0          44.0             15.5   \n",
       "2766961      9.586528           3.0          31.0             19.0   \n",
       "2766962     15.663846          14.0          65.0             44.0   \n",
       "\n",
       "         Skew_Position  Kurtosis_Position  item_popularity  user_profile_len  \n",
       "0             1.275059           0.097566         0.146779          0.017751  \n",
       "1             0.143488          -1.172743         0.022175          0.017751  \n",
       "2             0.226594          -0.589764         0.032735          0.017751  \n",
       "3             0.230537          -1.154957         0.026399          0.017751  \n",
       "4            -0.343663          -1.476842         0.038015          0.017751  \n",
       "...                ...                ...              ...               ...  \n",
       "2766958       1.147979           0.424747         0.055966          0.006455  \n",
       "2766959       0.648425          -0.399909         0.040127          0.006455  \n",
       "2766960       0.960162          -0.101703         0.052798          0.006455  \n",
       "2766961      -0.217246          -1.178536         0.040127          0.006455  \n",
       "2766962      -0.059697          -0.839068         0.025343          0.006455  \n",
       "\n",
       "[2766963 rows x 37 columns]"
      ]
     },
     "metadata": {},
     "output_type": "display_data"
    }
   ],
   "source": [
    "if config[\"tune_parameters\"]:\n",
    "    \n",
    "    if os.path.exists(dataframes_path + f'/training_dataframe_{config[\"model\"]}.parquet'):\n",
    "        training_dataframe = pd.read_parquet(dataframes_path + f'/training_dataframe_{config[\"model\"]}.parquet')\n",
    "        groups_train = training_dataframe.groupby(\"UserID\").size().values\n",
    "        print(\"training_dataframe and groups_train loaded.\")\n",
    "    \n",
    "    else:\n",
    "        print(\"***TRAINING CONTENT GENERATION RECOMMENDERS***\\n\")\n",
    "        candidate_generator_recommenders = fit_recommenders(\"Recall\", \"Train\", URM_train, ICM_all, cg_recommenders, GH_PATH_1, \"cg\", repo, take_kfcv_models=True)\n",
    "    \n",
    "        print(\"***TRAINING FEATURE RECOMMENDERS***\\n\")\n",
    "        features_recommenders = fit_recommenders(\"MAP\", \"Train\", URM_train, ICM_all, f_recommenders, GH_PATH_1, \"f\", repo, take_kfcv_models=True)\n",
    "\n",
    "        print()\n",
    "        training_dataframe, groups_train = create_XGBoost_dataframe(URM_train, candidate_generator_recommenders, features_recommenders, ICM_all, URM_validation, cutoff=50, categorical=config[\"categorical\"], contents=config[\"contents\"])\n",
    "        training_dataframe.to_parquet(f'/kaggle/working/training_dataframe_{config[\"model\"]}.parquet')\n",
    "\n",
    "        del candidate_generator_recommenders, features_recommenders\n",
    "        \n",
    "    display(training_dataframe)\n",
    "\n",
    "    y_train = training_dataframe[\"Label\"]\n",
    "    X_train = training_dataframe.drop(columns=[\"Label\"])\n",
    "\n",
    "    del training_dataframe"
   ]
  },
  {
   "cell_type": "markdown",
   "id": "9f11c32a",
   "metadata": {
    "papermill": {
     "duration": 0.02078,
     "end_time": "2025-01-07T13:34:49.052820",
     "exception": false,
     "start_time": "2025-01-07T13:34:49.032040",
     "status": "completed"
    },
    "tags": []
   },
   "source": [
    "## Validation and Testing dataframe building\n",
    "\n",
    "The first dataset excludes the label column since it is used to evaluate the performance of the model with the hyperparameters chosen by Optuna. In contrast, the second dataset includes the label column and is used to train the final model selected by Optuna."
   ]
  },
  {
   "cell_type": "code",
   "execution_count": 20,
   "id": "9a1d3b7d",
   "metadata": {
    "execution": {
     "iopub.execute_input": "2025-01-07T13:34:49.095855Z",
     "iopub.status.busy": "2025-01-07T13:34:49.095443Z",
     "iopub.status.idle": "2025-01-07T13:34:52.091154Z",
     "shell.execute_reply": "2025-01-07T13:34:52.089970Z"
    },
    "papermill": {
     "duration": 3.019305,
     "end_time": "2025-01-07T13:34:52.093103",
     "exception": false,
     "start_time": "2025-01-07T13:34:49.073798",
     "status": "completed"
    },
    "tags": []
   },
   "outputs": [
    {
     "name": "stdout",
     "output_type": "stream",
     "text": [
      "testing_dataframe and groups_test loaded.\n"
     ]
    },
    {
     "data": {
      "text/html": [
       "<div>\n",
       "<style scoped>\n",
       "    .dataframe tbody tr th:only-of-type {\n",
       "        vertical-align: middle;\n",
       "    }\n",
       "\n",
       "    .dataframe tbody tr th {\n",
       "        vertical-align: top;\n",
       "    }\n",
       "\n",
       "    .dataframe thead th {\n",
       "        text-align: right;\n",
       "    }\n",
       "</style>\n",
       "<table border=\"1\" class=\"dataframe\">\n",
       "  <thead>\n",
       "    <tr style=\"text-align: right;\">\n",
       "      <th></th>\n",
       "      <th>UserID</th>\n",
       "      <th>ItemID</th>\n",
       "      <th>feature_recommender_count</th>\n",
       "      <th>RP3beta_score</th>\n",
       "      <th>RP3beta_position</th>\n",
       "      <th>P3alpha_score</th>\n",
       "      <th>P3alpha_position</th>\n",
       "      <th>ItemKNNCF_score</th>\n",
       "      <th>ItemKNNCF_position</th>\n",
       "      <th>ItemKNNCBF_score</th>\n",
       "      <th>...</th>\n",
       "      <th>SLIM_BPR_position</th>\n",
       "      <th>Mean_Position</th>\n",
       "      <th>Std_Position</th>\n",
       "      <th>Min_Position</th>\n",
       "      <th>Max_Position</th>\n",
       "      <th>Median_Position</th>\n",
       "      <th>Skew_Position</th>\n",
       "      <th>Kurtosis_Position</th>\n",
       "      <th>item_popularity</th>\n",
       "      <th>user_profile_len</th>\n",
       "    </tr>\n",
       "  </thead>\n",
       "  <tbody>\n",
       "    <tr>\n",
       "      <th>0</th>\n",
       "      <td>0</td>\n",
       "      <td>51.0</td>\n",
       "      <td>0</td>\n",
       "      <td>0.434087</td>\n",
       "      <td>29.0</td>\n",
       "      <td>0.559818</td>\n",
       "      <td>12.0</td>\n",
       "      <td>0.477179</td>\n",
       "      <td>19.0</td>\n",
       "      <td>0.000000</td>\n",
       "      <td>...</td>\n",
       "      <td>34.0</td>\n",
       "      <td>47.166667</td>\n",
       "      <td>27.185669</td>\n",
       "      <td>12.0</td>\n",
       "      <td>78.0</td>\n",
       "      <td>41.0</td>\n",
       "      <td>0.011792</td>\n",
       "      <td>-1.686444</td>\n",
       "      <td>0.109336</td>\n",
       "      <td>0.020373</td>\n",
       "    </tr>\n",
       "    <tr>\n",
       "      <th>1</th>\n",
       "      <td>0</td>\n",
       "      <td>11966.0</td>\n",
       "      <td>4</td>\n",
       "      <td>0.622486</td>\n",
       "      <td>12.0</td>\n",
       "      <td>0.509835</td>\n",
       "      <td>19.0</td>\n",
       "      <td>0.800669</td>\n",
       "      <td>4.0</td>\n",
       "      <td>0.000000</td>\n",
       "      <td>...</td>\n",
       "      <td>33.0</td>\n",
       "      <td>18.333333</td>\n",
       "      <td>13.377956</td>\n",
       "      <td>4.0</td>\n",
       "      <td>42.0</td>\n",
       "      <td>14.0</td>\n",
       "      <td>0.650429</td>\n",
       "      <td>-0.957383</td>\n",
       "      <td>0.032801</td>\n",
       "      <td>0.020373</td>\n",
       "    </tr>\n",
       "    <tr>\n",
       "      <th>2</th>\n",
       "      <td>0</td>\n",
       "      <td>11875.0</td>\n",
       "      <td>0</td>\n",
       "      <td>0.178390</td>\n",
       "      <td>63.0</td>\n",
       "      <td>0.134542</td>\n",
       "      <td>62.0</td>\n",
       "      <td>0.261223</td>\n",
       "      <td>44.0</td>\n",
       "      <td>0.000000</td>\n",
       "      <td>...</td>\n",
       "      <td>13.0</td>\n",
       "      <td>45.750000</td>\n",
       "      <td>19.386617</td>\n",
       "      <td>13.0</td>\n",
       "      <td>79.0</td>\n",
       "      <td>43.5</td>\n",
       "      <td>0.057103</td>\n",
       "      <td>-0.792077</td>\n",
       "      <td>0.021026</td>\n",
       "      <td>0.020373</td>\n",
       "    </tr>\n",
       "    <tr>\n",
       "      <th>3</th>\n",
       "      <td>0</td>\n",
       "      <td>11699.0</td>\n",
       "      <td>2</td>\n",
       "      <td>0.000000</td>\n",
       "      <td>80.0</td>\n",
       "      <td>0.211021</td>\n",
       "      <td>52.0</td>\n",
       "      <td>0.285873</td>\n",
       "      <td>42.0</td>\n",
       "      <td>0.312227</td>\n",
       "      <td>...</td>\n",
       "      <td>74.0</td>\n",
       "      <td>40.750000</td>\n",
       "      <td>29.652916</td>\n",
       "      <td>2.0</td>\n",
       "      <td>82.0</td>\n",
       "      <td>41.5</td>\n",
       "      <td>0.114113</td>\n",
       "      <td>-1.486611</td>\n",
       "      <td>0.086627</td>\n",
       "      <td>0.020373</td>\n",
       "    </tr>\n",
       "    <tr>\n",
       "      <th>4</th>\n",
       "      <td>0</td>\n",
       "      <td>11580.0</td>\n",
       "      <td>0</td>\n",
       "      <td>0.000000</td>\n",
       "      <td>79.0</td>\n",
       "      <td>0.360840</td>\n",
       "      <td>27.0</td>\n",
       "      <td>0.000000</td>\n",
       "      <td>70.0</td>\n",
       "      <td>0.000000</td>\n",
       "      <td>...</td>\n",
       "      <td>75.0</td>\n",
       "      <td>51.500000</td>\n",
       "      <td>17.202008</td>\n",
       "      <td>27.0</td>\n",
       "      <td>79.0</td>\n",
       "      <td>46.0</td>\n",
       "      <td>0.386355</td>\n",
       "      <td>-1.248334</td>\n",
       "      <td>0.032801</td>\n",
       "      <td>0.020373</td>\n",
       "    </tr>\n",
       "    <tr>\n",
       "      <th>...</th>\n",
       "      <td>...</td>\n",
       "      <td>...</td>\n",
       "      <td>...</td>\n",
       "      <td>...</td>\n",
       "      <td>...</td>\n",
       "      <td>...</td>\n",
       "      <td>...</td>\n",
       "      <td>...</td>\n",
       "      <td>...</td>\n",
       "      <td>...</td>\n",
       "      <td>...</td>\n",
       "      <td>...</td>\n",
       "      <td>...</td>\n",
       "      <td>...</td>\n",
       "      <td>...</td>\n",
       "      <td>...</td>\n",
       "      <td>...</td>\n",
       "      <td>...</td>\n",
       "      <td>...</td>\n",
       "      <td>...</td>\n",
       "      <td>...</td>\n",
       "    </tr>\n",
       "    <tr>\n",
       "      <th>2730498</th>\n",
       "      <td>35735</td>\n",
       "      <td>36092.0</td>\n",
       "      <td>0</td>\n",
       "      <td>0.258139</td>\n",
       "      <td>25.0</td>\n",
       "      <td>0.159147</td>\n",
       "      <td>33.0</td>\n",
       "      <td>0.114284</td>\n",
       "      <td>44.0</td>\n",
       "      <td>0.000000</td>\n",
       "      <td>...</td>\n",
       "      <td>17.0</td>\n",
       "      <td>31.916667</td>\n",
       "      <td>13.104186</td>\n",
       "      <td>11.0</td>\n",
       "      <td>56.0</td>\n",
       "      <td>33.0</td>\n",
       "      <td>0.190019</td>\n",
       "      <td>-0.726759</td>\n",
       "      <td>0.017662</td>\n",
       "      <td>0.005576</td>\n",
       "    </tr>\n",
       "    <tr>\n",
       "      <th>2730499</th>\n",
       "      <td>35735</td>\n",
       "      <td>36093.0</td>\n",
       "      <td>0</td>\n",
       "      <td>0.119858</td>\n",
       "      <td>43.0</td>\n",
       "      <td>0.092655</td>\n",
       "      <td>45.0</td>\n",
       "      <td>0.191788</td>\n",
       "      <td>30.0</td>\n",
       "      <td>0.271070</td>\n",
       "      <td>...</td>\n",
       "      <td>15.0</td>\n",
       "      <td>35.666667</td>\n",
       "      <td>11.672293</td>\n",
       "      <td>15.0</td>\n",
       "      <td>49.0</td>\n",
       "      <td>40.5</td>\n",
       "      <td>-0.757271</td>\n",
       "      <td>-0.711292</td>\n",
       "      <td>0.038688</td>\n",
       "      <td>0.005576</td>\n",
       "    </tr>\n",
       "    <tr>\n",
       "      <th>2730500</th>\n",
       "      <td>35735</td>\n",
       "      <td>36097.0</td>\n",
       "      <td>0</td>\n",
       "      <td>0.000000</td>\n",
       "      <td>60.0</td>\n",
       "      <td>0.000000</td>\n",
       "      <td>52.0</td>\n",
       "      <td>0.000000</td>\n",
       "      <td>59.0</td>\n",
       "      <td>0.000000</td>\n",
       "      <td>...</td>\n",
       "      <td>55.0</td>\n",
       "      <td>56.166667</td>\n",
       "      <td>5.556869</td>\n",
       "      <td>46.0</td>\n",
       "      <td>63.0</td>\n",
       "      <td>57.0</td>\n",
       "      <td>-0.481366</td>\n",
       "      <td>-0.844568</td>\n",
       "      <td>0.031119</td>\n",
       "      <td>0.005576</td>\n",
       "    </tr>\n",
       "    <tr>\n",
       "      <th>2730501</th>\n",
       "      <td>35735</td>\n",
       "      <td>36321.0</td>\n",
       "      <td>1</td>\n",
       "      <td>0.000000</td>\n",
       "      <td>61.0</td>\n",
       "      <td>0.108260</td>\n",
       "      <td>39.0</td>\n",
       "      <td>0.164294</td>\n",
       "      <td>36.0</td>\n",
       "      <td>0.182125</td>\n",
       "      <td>...</td>\n",
       "      <td>24.0</td>\n",
       "      <td>34.083333</td>\n",
       "      <td>16.228249</td>\n",
       "      <td>7.0</td>\n",
       "      <td>61.0</td>\n",
       "      <td>36.0</td>\n",
       "      <td>0.016858</td>\n",
       "      <td>-0.766570</td>\n",
       "      <td>0.114382</td>\n",
       "      <td>0.005576</td>\n",
       "    </tr>\n",
       "    <tr>\n",
       "      <th>2730502</th>\n",
       "      <td>35735</td>\n",
       "      <td>38033.0</td>\n",
       "      <td>0</td>\n",
       "      <td>0.000000</td>\n",
       "      <td>64.0</td>\n",
       "      <td>0.000000</td>\n",
       "      <td>64.0</td>\n",
       "      <td>0.077983</td>\n",
       "      <td>50.0</td>\n",
       "      <td>0.254875</td>\n",
       "      <td>...</td>\n",
       "      <td>64.0</td>\n",
       "      <td>39.833333</td>\n",
       "      <td>17.377275</td>\n",
       "      <td>16.0</td>\n",
       "      <td>64.0</td>\n",
       "      <td>34.0</td>\n",
       "      <td>0.330212</td>\n",
       "      <td>-1.326921</td>\n",
       "      <td>0.024390</td>\n",
       "      <td>0.005576</td>\n",
       "    </tr>\n",
       "  </tbody>\n",
       "</table>\n",
       "<p>2730503 rows × 36 columns</p>\n",
       "</div>"
      ],
      "text/plain": [
       "         UserID   ItemID  feature_recommender_count  RP3beta_score  \\\n",
       "0             0     51.0                          0       0.434087   \n",
       "1             0  11966.0                          4       0.622486   \n",
       "2             0  11875.0                          0       0.178390   \n",
       "3             0  11699.0                          2       0.000000   \n",
       "4             0  11580.0                          0       0.000000   \n",
       "...         ...      ...                        ...            ...   \n",
       "2730498   35735  36092.0                          0       0.258139   \n",
       "2730499   35735  36093.0                          0       0.119858   \n",
       "2730500   35735  36097.0                          0       0.000000   \n",
       "2730501   35735  36321.0                          1       0.000000   \n",
       "2730502   35735  38033.0                          0       0.000000   \n",
       "\n",
       "         RP3beta_position  P3alpha_score  P3alpha_position  ItemKNNCF_score  \\\n",
       "0                    29.0       0.559818              12.0         0.477179   \n",
       "1                    12.0       0.509835              19.0         0.800669   \n",
       "2                    63.0       0.134542              62.0         0.261223   \n",
       "3                    80.0       0.211021              52.0         0.285873   \n",
       "4                    79.0       0.360840              27.0         0.000000   \n",
       "...                   ...            ...               ...              ...   \n",
       "2730498              25.0       0.159147              33.0         0.114284   \n",
       "2730499              43.0       0.092655              45.0         0.191788   \n",
       "2730500              60.0       0.000000              52.0         0.000000   \n",
       "2730501              61.0       0.108260              39.0         0.164294   \n",
       "2730502              64.0       0.000000              64.0         0.077983   \n",
       "\n",
       "         ItemKNNCF_position  ItemKNNCBF_score  ...  SLIM_BPR_position  \\\n",
       "0                      19.0          0.000000  ...               34.0   \n",
       "1                       4.0          0.000000  ...               33.0   \n",
       "2                      44.0          0.000000  ...               13.0   \n",
       "3                      42.0          0.312227  ...               74.0   \n",
       "4                      70.0          0.000000  ...               75.0   \n",
       "...                     ...               ...  ...                ...   \n",
       "2730498                44.0          0.000000  ...               17.0   \n",
       "2730499                30.0          0.271070  ...               15.0   \n",
       "2730500                59.0          0.000000  ...               55.0   \n",
       "2730501                36.0          0.182125  ...               24.0   \n",
       "2730502                50.0          0.254875  ...               64.0   \n",
       "\n",
       "         Mean_Position  Std_Position  Min_Position  Max_Position  \\\n",
       "0            47.166667     27.185669          12.0          78.0   \n",
       "1            18.333333     13.377956           4.0          42.0   \n",
       "2            45.750000     19.386617          13.0          79.0   \n",
       "3            40.750000     29.652916           2.0          82.0   \n",
       "4            51.500000     17.202008          27.0          79.0   \n",
       "...                ...           ...           ...           ...   \n",
       "2730498      31.916667     13.104186          11.0          56.0   \n",
       "2730499      35.666667     11.672293          15.0          49.0   \n",
       "2730500      56.166667      5.556869          46.0          63.0   \n",
       "2730501      34.083333     16.228249           7.0          61.0   \n",
       "2730502      39.833333     17.377275          16.0          64.0   \n",
       "\n",
       "         Median_Position  Skew_Position  Kurtosis_Position  item_popularity  \\\n",
       "0                   41.0       0.011792          -1.686444         0.109336   \n",
       "1                   14.0       0.650429          -0.957383         0.032801   \n",
       "2                   43.5       0.057103          -0.792077         0.021026   \n",
       "3                   41.5       0.114113          -1.486611         0.086627   \n",
       "4                   46.0       0.386355          -1.248334         0.032801   \n",
       "...                  ...            ...                ...              ...   \n",
       "2730498             33.0       0.190019          -0.726759         0.017662   \n",
       "2730499             40.5      -0.757271          -0.711292         0.038688   \n",
       "2730500             57.0      -0.481366          -0.844568         0.031119   \n",
       "2730501             36.0       0.016858          -0.766570         0.114382   \n",
       "2730502             34.0       0.330212          -1.326921         0.024390   \n",
       "\n",
       "         user_profile_len  \n",
       "0                0.020373  \n",
       "1                0.020373  \n",
       "2                0.020373  \n",
       "3                0.020373  \n",
       "4                0.020373  \n",
       "...                   ...  \n",
       "2730498          0.005576  \n",
       "2730499          0.005576  \n",
       "2730500          0.005576  \n",
       "2730501          0.005576  \n",
       "2730502          0.005576  \n",
       "\n",
       "[2730503 rows x 36 columns]"
      ]
     },
     "metadata": {},
     "output_type": "display_data"
    }
   ],
   "source": [
    "if config[\"tune_parameters\"] or config[\"tune_best_params\"]:\n",
    "    \n",
    "    if os.path.exists(dataframes_path + f'/testing_dataframe_{config[\"model\"]}.parquet' ):\n",
    "        testing_dataframe = pd.read_parquet(dataframes_path + f'/testing_dataframe_{config[\"model\"]}.parquet')\n",
    "        groups_test = testing_dataframe.groupby(\"UserID\").size().values\n",
    "        print(\"testing_dataframe and groups_test loaded.\")\n",
    "    \n",
    "    else:\n",
    "\n",
    "        print(\"***TRAINING CONTENT GENERATION RECOMMENDERS***\\n\")\n",
    "        candidate_generator_recommenders = fit_recommenders(\"Recall\", \"TrainVal\", URM_train + URM_validation, ICM_all, cg_recommenders, GH_PATH_1, \"cg\", repo, take_kfcv_models=True)\n",
    "\n",
    "        print(\"***TRAINING FEATURE RECOMMENDERS***\\n\")\n",
    "        features_recommenders = fit_recommenders(\"MAP\", \"TrainVal\", URM_train + URM_validation, ICM_all, f_recommenders, GH_PATH_1, \"f\", repo, take_kfcv_models=True)\n",
    "\n",
    "        print()\n",
    "        testing_dataframe, groups_test = create_XGBoost_dataframe(URM_train + URM_validation, candidate_generator_recommenders, features_recommenders, ICM_all, URM_test, cutoff=50, categorical=config[\"categorical\"], contents=config[\"contents\"])\n",
    "        testing_dataframe.to_parquet(f'/kaggle/working/testing_dataframe_{config[\"model\"]}.parquet')\n",
    "\n",
    "        del candidate_generator_recommenders, features_recommenders\n",
    "\n",
    "    if config[\"tune_parameters\"]:\n",
    "        validation_dataframe = testing_dataframe.drop(columns=[\"Label\"])\n",
    "        display(validation_dataframe)"
   ]
  },
  {
   "cell_type": "markdown",
   "id": "7f56f12d",
   "metadata": {
    "papermill": {
     "duration": 0.02129,
     "end_time": "2025-01-07T13:34:52.136489",
     "exception": false,
     "start_time": "2025-01-07T13:34:52.115199",
     "status": "completed"
    },
    "tags": []
   },
   "source": [
    "## XGBoost training\n",
    "Let's train XGBoost to rerank those prediction using as lable whether they should be recommended or not."
   ]
  },
  {
   "cell_type": "code",
   "execution_count": 21,
   "id": "a54e0289",
   "metadata": {
    "execution": {
     "iopub.execute_input": "2025-01-07T13:34:52.181118Z",
     "iopub.status.busy": "2025-01-07T13:34:52.180707Z",
     "iopub.status.idle": "2025-01-07T13:34:52.190198Z",
     "shell.execute_reply": "2025-01-07T13:34:52.189333Z"
    },
    "papermill": {
     "duration": 0.033885,
     "end_time": "2025-01-07T13:34:52.191997",
     "exception": false,
     "start_time": "2025-01-07T13:34:52.158112",
     "status": "completed"
    },
    "tags": []
   },
   "outputs": [],
   "source": [
    "from Recommenders.XGBoost.XGBoostRankerRecommender import XGBoostRankerRecommender\n",
    "from timeout_decorator.timeout_decorator import TimeoutError\n",
    "\n",
    "@timeout_decorator.timeout(1800, timeout_exception=optuna.TrialPruned, use_signals=False)\n",
    "def objective_function_XGBoostRanker(optuna_trial):\n",
    "    \n",
    "    recommender_instance = XGBoostRankerRecommender(URM_train + URM_validation, X_train, y_train, validation_dataframe)\n",
    "\n",
    "    full_hyperp = {\n",
    "            \"n_estimators\": optuna_trial.suggest_int(\"n_estimators\", 50, 500),\n",
    "            \"learning_rate\": optuna_trial.suggest_float(\"learning_rate\", 1e-4, 0.3, log=True),\n",
    "            \"reg_alpha\": optuna_trial.suggest_float(\"reg_alpha\", 1e-4, 1.0, log=True),\n",
    "            \"reg_lambda\": optuna_trial.suggest_float(\"reg_lambda\", 1e-4, 1.0, log=True),\n",
    "            \"max_depth\": optuna_trial.suggest_int(\"max_depth\", 3, 7),\n",
    "            \"max_leaves\": optuna_trial.suggest_int(\"max_leaves\", 2, 128),\n",
    "            \"grow_policy\": optuna_trial.suggest_categorical(\"grow_policy\", [\"depthwise\", \"lossguide\"]),\n",
    "            \"booster\": optuna_trial.suggest_categorical(\"booster\", [\"gbtree\", \"dart\"]),\n",
    "            # \"tree_method\": optuna_trial.suggest_categorical(\"tree_method\", [\"hist\", \"gpu_hist\", \"approx\"]),\n",
    "            \"tree_method\": \"hist\",\n",
    "            \"objective\": optuna_trial.suggest_categorical(\"objective\", [\"map\", \"pairwise\", \"ndcg\"])\n",
    "        }\n",
    "\n",
    "    recommender_instance.fit(\n",
    "        groups_train,\n",
    "        **full_hyperp\n",
    "    )\n",
    "\n",
    "    result_df, _ = evaluator_test.evaluateRecommender(recommender_instance)\n",
    "    \n",
    "    return result_df.loc[10][\"MAP\"]"
   ]
  },
  {
   "cell_type": "code",
   "execution_count": 22,
   "id": "39e76409",
   "metadata": {
    "execution": {
     "iopub.execute_input": "2025-01-07T13:34:52.238427Z",
     "iopub.status.busy": "2025-01-07T13:34:52.238031Z",
     "iopub.status.idle": "2025-01-07T18:39:58.748161Z",
     "shell.execute_reply": "2025-01-07T18:39:58.746167Z"
    },
    "papermill": {
     "duration": 18306.537713,
     "end_time": "2025-01-07T18:39:58.752876",
     "exception": false,
     "start_time": "2025-01-07T13:34:52.215163",
     "status": "completed"
    },
    "tags": []
   },
   "outputs": [
    {
     "name": "stderr",
     "output_type": "stream",
     "text": [
      "[I 2025-01-07 13:34:52,294] A new study created in RDB with name: hyperparameters_tuning_XGBoostNoCont_MAP\n"
     ]
    },
    {
     "name": "stdout",
     "output_type": "stream",
     "text": [
      "EvaluatorHoldout: Processed 25000 (70.2%) in 5.16 min. Users per second: 81\n",
      "EvaluatorHoldout: Processed 35595 (100.0%) in 7.32 min. Users per second: 81\n"
     ]
    },
    {
     "name": "stderr",
     "output_type": "stream",
     "text": [
      "[I 2025-01-07 13:45:39,142] Trial 0 finished with value: 0.06065597763195557 and parameters: {'n_estimators': 336, 'learning_rate': 0.0006050839322853558, 'reg_alpha': 0.7910714608392406, 'reg_lambda': 0.010319859931845702, 'max_depth': 5, 'max_leaves': 55, 'grow_policy': 'lossguide', 'booster': 'gbtree', 'objective': 'ndcg'}. Best is trial 0 with value: 0.06065597763195557.\n"
     ]
    },
    {
     "name": "stdout",
     "output_type": "stream",
     "text": [
      "EvaluatorHoldout: Processed 25000 (70.2%) in 5.18 min. Users per second: 80\n",
      "EvaluatorHoldout: Processed 35595 (100.0%) in 7.38 min. Users per second: 80\n"
     ]
    },
    {
     "name": "stderr",
     "output_type": "stream",
     "text": [
      "[I 2025-01-07 13:56:57,070] Trial 1 finished with value: 0.06208811876110433 and parameters: {'n_estimators': 397, 'learning_rate': 0.017380904782069412, 'reg_alpha': 0.3038005533937369, 'reg_lambda': 0.05862146909129511, 'max_depth': 5, 'max_leaves': 106, 'grow_policy': 'lossguide', 'booster': 'gbtree', 'objective': 'map'}. Best is trial 1 with value: 0.06208811876110433.\n",
      "[I 2025-01-07 14:26:57,168] Trial 2 pruned. \n"
     ]
    },
    {
     "name": "stdout",
     "output_type": "stream",
     "text": [
      "EvaluatorHoldout: Processed 26000 (73.0%) in 5.16 min. Users per second: 84\n",
      "EvaluatorHoldout: Processed 35595 (100.0%) in 7.03 min. Users per second: 84\n"
     ]
    },
    {
     "name": "stderr",
     "output_type": "stream",
     "text": [
      "[I 2025-01-07 14:35:25,697] Trial 3 finished with value: 0.06006872398254435 and parameters: {'n_estimators': 140, 'learning_rate': 0.00020599513928537406, 'reg_alpha': 0.3916492073361975, 'reg_lambda': 0.04161237448184852, 'max_depth': 4, 'max_leaves': 121, 'grow_policy': 'depthwise', 'booster': 'gbtree', 'objective': 'ndcg'}. Best is trial 1 with value: 0.06208811876110433.\n",
      "[I 2025-01-07 15:05:25,792] Trial 4 pruned. \n"
     ]
    },
    {
     "name": "stdout",
     "output_type": "stream",
     "text": [
      "EvaluatorHoldout: Processed 24000 (67.4%) in 5.17 min. Users per second: 77\n",
      "EvaluatorHoldout: Processed 35595 (100.0%) in 7.66 min. Users per second: 77\n"
     ]
    },
    {
     "name": "stderr",
     "output_type": "stream",
     "text": [
      "[I 2025-01-07 15:17:23,594] Trial 5 finished with value: 0.061423345083688456 and parameters: {'n_estimators': 383, 'learning_rate': 0.0033694295441894792, 'reg_alpha': 0.764140560994839, 'reg_lambda': 0.14812283840961318, 'max_depth': 6, 'max_leaves': 55, 'grow_policy': 'lossguide', 'booster': 'gbtree', 'objective': 'ndcg'}. Best is trial 1 with value: 0.06208811876110433.\n"
     ]
    },
    {
     "name": "stdout",
     "output_type": "stream",
     "text": [
      "EvaluatorHoldout: Processed 26000 (73.0%) in 5.15 min. Users per second: 84\n",
      "EvaluatorHoldout: Processed 35595 (100.0%) in 7.05 min. Users per second: 84\n"
     ]
    },
    {
     "name": "stderr",
     "output_type": "stream",
     "text": [
      "[I 2025-01-07 15:25:43,873] Trial 6 finished with value: 0.06034937691890719 and parameters: {'n_estimators': 98, 'learning_rate': 0.00023039664981989216, 'reg_alpha': 0.00013327020550942258, 'reg_lambda': 0.040475039596704294, 'max_depth': 6, 'max_leaves': 81, 'grow_policy': 'depthwise', 'booster': 'gbtree', 'objective': 'map'}. Best is trial 1 with value: 0.06208811876110433.\n"
     ]
    },
    {
     "name": "stdout",
     "output_type": "stream",
     "text": [
      "EvaluatorHoldout: Processed 25000 (70.2%) in 5.06 min. Users per second: 82\n",
      "EvaluatorHoldout: Processed 35595 (100.0%) in 7.19 min. Users per second: 83\n"
     ]
    },
    {
     "name": "stderr",
     "output_type": "stream",
     "text": [
      "[I 2025-01-07 15:34:21,291] Trial 7 finished with value: 0.061223689344631876 and parameters: {'n_estimators': 102, 'learning_rate': 0.0016765412729014112, 'reg_alpha': 0.012281522889248083, 'reg_lambda': 0.9949640797192425, 'max_depth': 7, 'max_leaves': 67, 'grow_policy': 'lossguide', 'booster': 'gbtree', 'objective': 'map'}. Best is trial 1 with value: 0.06208811876110433.\n",
      "[I 2025-01-07 16:04:21,397] Trial 8 pruned. \n",
      "[I 2025-01-07 16:34:21,529] Trial 9 pruned. \n"
     ]
    },
    {
     "name": "stdout",
     "output_type": "stream",
     "text": [
      "EvaluatorHoldout: Processed 25000 (70.2%) in 5.06 min. Users per second: 82\n",
      "EvaluatorHoldout: Processed 35595 (100.0%) in 7.18 min. Users per second: 83\n"
     ]
    },
    {
     "name": "stderr",
     "output_type": "stream",
     "text": [
      "[I 2025-01-07 16:43:39,234] Trial 10 finished with value: 0.061712973553890514 and parameters: {'n_estimators': 252, 'learning_rate': 0.22432603367606643, 'reg_alpha': 0.06661730244310114, 'reg_lambda': 0.0023994831180512545, 'max_depth': 5, 'max_leaves': 15, 'grow_policy': 'lossguide', 'booster': 'gbtree', 'objective': 'map'}. Best is trial 1 with value: 0.06208811876110433.\n"
     ]
    },
    {
     "name": "stdout",
     "output_type": "stream",
     "text": [
      "EvaluatorHoldout: Processed 26000 (73.0%) in 5.20 min. Users per second: 83\n",
      "EvaluatorHoldout: Processed 35595 (100.0%) in 7.12 min. Users per second: 83\n"
     ]
    },
    {
     "name": "stderr",
     "output_type": "stream",
     "text": [
      "[I 2025-01-07 16:52:43,988] Trial 11 finished with value: 0.06200681609910228 and parameters: {'n_estimators': 229, 'learning_rate': 0.11483973979163764, 'reg_alpha': 0.1031788461310641, 'reg_lambda': 0.001625050873974712, 'max_depth': 5, 'max_leaves': 9, 'grow_policy': 'lossguide', 'booster': 'gbtree', 'objective': 'map'}. Best is trial 1 with value: 0.06208811876110433.\n"
     ]
    },
    {
     "name": "stdout",
     "output_type": "stream",
     "text": [
      "EvaluatorHoldout: Processed 26000 (73.0%) in 5.16 min. Users per second: 84\n",
      "EvaluatorHoldout: Processed 35595 (100.0%) in 7.06 min. Users per second: 84\n"
     ]
    },
    {
     "name": "stderr",
     "output_type": "stream",
     "text": [
      "[I 2025-01-07 17:01:45,823] Trial 12 finished with value: 0.061964189281085914 and parameters: {'n_estimators': 210, 'learning_rate': 0.04450282441629885, 'reg_alpha': 0.08212795774631354, 'reg_lambda': 0.003226424754093069, 'max_depth': 4, 'max_leaves': 33, 'grow_policy': 'lossguide', 'booster': 'gbtree', 'objective': 'map'}. Best is trial 1 with value: 0.06208811876110433.\n"
     ]
    },
    {
     "name": "stdout",
     "output_type": "stream",
     "text": [
      "EvaluatorHoldout: Processed 26000 (73.0%) in 5.13 min. Users per second: 84\n",
      "EvaluatorHoldout: Processed 35595 (100.0%) in 7.02 min. Users per second: 85\n"
     ]
    },
    {
     "name": "stderr",
     "output_type": "stream",
     "text": [
      "[I 2025-01-07 17:11:11,672] Trial 13 finished with value: 0.061592745324938934 and parameters: {'n_estimators': 318, 'learning_rate': 0.08070628011506352, 'reg_alpha': 0.11338566231478119, 'reg_lambda': 0.0017019098649353672, 'max_depth': 4, 'max_leaves': 3, 'grow_policy': 'lossguide', 'booster': 'gbtree', 'objective': 'map'}. Best is trial 1 with value: 0.06208811876110433.\n"
     ]
    },
    {
     "name": "stdout",
     "output_type": "stream",
     "text": [
      "EvaluatorHoldout: Processed 25000 (70.2%) in 5.07 min. Users per second: 82\n",
      "EvaluatorHoldout: Processed 35595 (100.0%) in 7.24 min. Users per second: 82\n"
     ]
    },
    {
     "name": "stderr",
     "output_type": "stream",
     "text": [
      "[I 2025-01-07 17:20:29,673] Trial 14 finished with value: 0.06156173508406779 and parameters: {'n_estimators': 172, 'learning_rate': 0.016691727315189937, 'reg_alpha': 0.0241158454769752, 'reg_lambda': 0.01516846849264042, 'max_depth': 6, 'max_leaves': 100, 'grow_policy': 'lossguide', 'booster': 'gbtree', 'objective': 'map'}. Best is trial 1 with value: 0.06208811876110433.\n"
     ]
    },
    {
     "name": "stdout",
     "output_type": "stream",
     "text": [
      "EvaluatorHoldout: Processed 25000 (70.2%) in 5.18 min. Users per second: 81\n",
      "EvaluatorHoldout: Processed 35595 (100.0%) in 7.36 min. Users per second: 81\n"
     ]
    },
    {
     "name": "stderr",
     "output_type": "stream",
     "text": [
      "[I 2025-01-07 17:31:18,279] Trial 15 finished with value: 0.05962434196884094 and parameters: {'n_estimators': 411, 'learning_rate': 0.2568030387769279, 'reg_alpha': 0.2941002261102901, 'reg_lambda': 0.000544766123692497, 'max_depth': 5, 'max_leaves': 34, 'grow_policy': 'lossguide', 'booster': 'gbtree', 'objective': 'map'}. Best is trial 1 with value: 0.06208811876110433.\n"
     ]
    },
    {
     "name": "stdout",
     "output_type": "stream",
     "text": [
      "EvaluatorHoldout: Processed 26000 (73.0%) in 5.20 min. Users per second: 83\n",
      "EvaluatorHoldout: Processed 35595 (100.0%) in 7.13 min. Users per second: 83\n"
     ]
    },
    {
     "name": "stderr",
     "output_type": "stream",
     "text": [
      "[I 2025-01-07 17:41:10,591] Trial 16 finished with value: 0.06158207747208826 and parameters: {'n_estimators': 294, 'learning_rate': 0.012326796897975065, 'reg_alpha': 0.033145237213345044, 'reg_lambda': 0.04313285827852787, 'max_depth': 4, 'max_leaves': 88, 'grow_policy': 'lossguide', 'booster': 'gbtree', 'objective': 'map'}. Best is trial 1 with value: 0.06208811876110433.\n"
     ]
    },
    {
     "name": "stdout",
     "output_type": "stream",
     "text": [
      "EvaluatorHoldout: Processed 24000 (67.4%) in 5.09 min. Users per second: 79\n",
      "EvaluatorHoldout: Processed 35595 (100.0%) in 7.50 min. Users per second: 79\n"
     ]
    },
    {
     "name": "stderr",
     "output_type": "stream",
     "text": [
      "[I 2025-01-07 17:52:00,167] Trial 17 finished with value: 0.06185022307841323 and parameters: {'n_estimators': 359, 'learning_rate': 0.07545817376826267, 'reg_alpha': 0.18188395571077925, 'reg_lambda': 0.0007589208657115408, 'max_depth': 6, 'max_leaves': 64, 'grow_policy': 'lossguide', 'booster': 'gbtree', 'objective': 'map'}. Best is trial 1 with value: 0.06208811876110433.\n",
      "[I 2025-01-07 18:22:00,262] Trial 18 pruned. \n"
     ]
    },
    {
     "name": "stdout",
     "output_type": "stream",
     "text": [
      "EvaluatorHoldout: Processed 26000 (73.0%) in 5.06 min. Users per second: 86\n",
      "EvaluatorHoldout: Processed 35595 (100.0%) in 6.93 min. Users per second: 86\n"
     ]
    },
    {
     "name": "stderr",
     "output_type": "stream",
     "text": [
      "[I 2025-01-07 18:29:30,668] Trial 19 finished with value: 0.06101409485459026 and parameters: {'n_estimators': 55, 'learning_rate': 0.11732780601154023, 'reg_alpha': 0.2678587211048814, 'reg_lambda': 0.00011803197042771339, 'max_depth': 4, 'max_leaves': 3, 'grow_policy': 'lossguide', 'booster': 'gbtree', 'objective': 'ndcg'}. Best is trial 1 with value: 0.06208811876110433.\n"
     ]
    },
    {
     "name": "stdout",
     "output_type": "stream",
     "text": [
      "EvaluatorHoldout: Processed 24000 (67.4%) in 5.00 min. Users per second: 80\n",
      "EvaluatorHoldout: Processed 35595 (100.0%) in 7.40 min. Users per second: 80\n"
     ]
    },
    {
     "name": "stderr",
     "output_type": "stream",
     "text": [
      "[I 2025-01-07 18:39:58,737] Trial 20 finished with value: 0.061916700669121555 and parameters: {'n_estimators': 278, 'learning_rate': 0.026686467146227612, 'reg_alpha': 0.010525914051671083, 'reg_lambda': 0.01652218425008152, 'max_depth': 6, 'max_leaves': 101, 'grow_policy': 'lossguide', 'booster': 'gbtree', 'objective': 'map'}. Best is trial 1 with value: 0.06208811876110433.\n"
     ]
    }
   ],
   "source": [
    "if config['tune_parameters']:\n",
    "    \n",
    "    optuna_study = optuna.create_study(direction='maximize', study_name=f'hyperparameters_tuning_{config[\"model\"]}_{config[\"metric\"]}',\n",
    "                                storage=f'sqlite:///{config[\"database_path\"]}', load_if_exists=True)\n",
    "\n",
    "    optuna_study.optimize(objective_function_XGBoostRanker, timeout=3600 * 5)"
   ]
  },
  {
   "cell_type": "markdown",
   "id": "89e51ef1",
   "metadata": {
    "papermill": {
     "duration": 0.028154,
     "end_time": "2025-01-07T18:39:58.810179",
     "exception": false,
     "start_time": "2025-01-07T18:39:58.782025",
     "status": "completed"
    },
    "tags": []
   },
   "source": [
    "Check whether a better value was found in the new tuning performed to avoid repetitive tuning."
   ]
  },
  {
   "cell_type": "code",
   "execution_count": 23,
   "id": "dbbd2a08",
   "metadata": {
    "execution": {
     "iopub.execute_input": "2025-01-07T18:39:58.867537Z",
     "iopub.status.busy": "2025-01-07T18:39:58.867085Z",
     "iopub.status.idle": "2025-01-07T18:39:58.883026Z",
     "shell.execute_reply": "2025-01-07T18:39:58.881778Z"
    },
    "papermill": {
     "duration": 0.048676,
     "end_time": "2025-01-07T18:39:58.885265",
     "exception": false,
     "start_time": "2025-01-07T18:39:58.836589",
     "status": "completed"
    },
    "tags": []
   },
   "outputs": [],
   "source": [
    "if config[\"tune_parameters\"] and optuna_study.best_trial.value <= best_saved_value:\n",
    "    config[\"tune_best_params\"] = False\n",
    "    print(\"Best trial value didn't improve during last new training.\")"
   ]
  },
  {
   "cell_type": "markdown",
   "id": "efb5580d",
   "metadata": {
    "papermill": {
     "duration": 0.026287,
     "end_time": "2025-01-07T18:39:58.938246",
     "exception": false,
     "start_time": "2025-01-07T18:39:58.911959",
     "status": "completed"
    },
    "tags": []
   },
   "source": [
    "### Some optuna visualizations on recommender parameters"
   ]
  },
  {
   "cell_type": "code",
   "execution_count": 24,
   "id": "d4e9a017",
   "metadata": {
    "execution": {
     "iopub.execute_input": "2025-01-07T18:39:58.993453Z",
     "iopub.status.busy": "2025-01-07T18:39:58.993092Z",
     "iopub.status.idle": "2025-01-07T18:40:00.094213Z",
     "shell.execute_reply": "2025-01-07T18:40:00.093119Z"
    },
    "papermill": {
     "duration": 1.131548,
     "end_time": "2025-01-07T18:40:00.096064",
     "exception": false,
     "start_time": "2025-01-07T18:39:58.964516",
     "status": "completed"
    },
    "tags": []
   },
   "outputs": [
    {
     "data": {
      "text/html": [
       "<html>\n",
       "<head><meta charset=\"utf-8\" /></head>\n",
       "<body>\n",
       "    <div>            <script src=\"https://cdnjs.cloudflare.com/ajax/libs/mathjax/2.7.5/MathJax.js?config=TeX-AMS-MML_SVG\"></script><script type=\"text/javascript\">if (window.MathJax && window.MathJax.Hub && window.MathJax.Hub.Config) {window.MathJax.Hub.Config({SVG: {font: \"STIX-Web\"}});}</script>                <script type=\"text/javascript\">window.PlotlyConfig = {MathJaxConfig: 'local'};</script>\n",
       "        <script charset=\"utf-8\" src=\"https://cdn.plot.ly/plotly-2.35.2.min.js\"></script>                <div id=\"67b14b4b-adad-4ce3-92bd-e5a7b2716866\" class=\"plotly-graph-div\" style=\"height:525px; width:2700px;\"></div>            <script type=\"text/javascript\">                                    window.PLOTLYENV=window.PLOTLYENV || {};                                    if (document.getElementById(\"67b14b4b-adad-4ce3-92bd-e5a7b2716866\")) {                    Plotly.newPlot(                        \"67b14b4b-adad-4ce3-92bd-e5a7b2716866\",                        [{\"marker\":{\"color\":[0,1,3,5,6,7,10,11,12,13,14,15,16,17,19,20],\"colorbar\":{\"title\":{\"text\":\"Trial\"},\"x\":1.0,\"xpad\":40},\"colorscale\":[[0.0,\"rgb(247,251,255)\"],[0.125,\"rgb(222,235,247)\"],[0.25,\"rgb(198,219,239)\"],[0.375,\"rgb(158,202,225)\"],[0.5,\"rgb(107,174,214)\"],[0.625,\"rgb(66,146,198)\"],[0.75,\"rgb(33,113,181)\"],[0.875,\"rgb(8,81,156)\"],[1.0,\"rgb(8,48,107)\"]],\"line\":{\"color\":\"Grey\",\"width\":0.5},\"showscale\":true},\"mode\":\"markers\",\"name\":\"Feasible Trial\",\"showlegend\":false,\"x\":[\"gbtree\",\"gbtree\",\"gbtree\",\"gbtree\",\"gbtree\",\"gbtree\",\"gbtree\",\"gbtree\",\"gbtree\",\"gbtree\",\"gbtree\",\"gbtree\",\"gbtree\",\"gbtree\",\"gbtree\",\"gbtree\"],\"y\":[0.06065597763195557,0.06208811876110433,0.06006872398254435,0.061423345083688456,0.06034937691890719,0.061223689344631876,0.061712973553890514,0.06200681609910228,0.061964189281085914,0.061592745324938934,0.06156173508406779,0.05962434196884094,0.06158207747208826,0.06185022307841323,0.06101409485459026,0.061916700669121555],\"type\":\"scatter\",\"xaxis\":\"x\",\"yaxis\":\"y\"},{\"marker\":{\"color\":[0,1,3,5,6,7,10,11,12,13,14,15,16,17,19,20],\"colorbar\":{\"title\":{\"text\":\"Trial\"},\"x\":1.0,\"xpad\":40},\"colorscale\":[[0.0,\"rgb(247,251,255)\"],[0.125,\"rgb(222,235,247)\"],[0.25,\"rgb(198,219,239)\"],[0.375,\"rgb(158,202,225)\"],[0.5,\"rgb(107,174,214)\"],[0.625,\"rgb(66,146,198)\"],[0.75,\"rgb(33,113,181)\"],[0.875,\"rgb(8,81,156)\"],[1.0,\"rgb(8,48,107)\"]],\"line\":{\"color\":\"Grey\",\"width\":0.5},\"showscale\":false},\"mode\":\"markers\",\"name\":\"Feasible Trial\",\"showlegend\":false,\"x\":[\"lossguide\",\"lossguide\",\"depthwise\",\"lossguide\",\"depthwise\",\"lossguide\",\"lossguide\",\"lossguide\",\"lossguide\",\"lossguide\",\"lossguide\",\"lossguide\",\"lossguide\",\"lossguide\",\"lossguide\",\"lossguide\"],\"y\":[0.06065597763195557,0.06208811876110433,0.06006872398254435,0.061423345083688456,0.06034937691890719,0.061223689344631876,0.061712973553890514,0.06200681609910228,0.061964189281085914,0.061592745324938934,0.06156173508406779,0.05962434196884094,0.06158207747208826,0.06185022307841323,0.06101409485459026,0.061916700669121555],\"type\":\"scatter\",\"xaxis\":\"x2\",\"yaxis\":\"y2\"},{\"marker\":{\"color\":[0,1,3,5,6,7,10,11,12,13,14,15,16,17,19,20],\"colorbar\":{\"title\":{\"text\":\"Trial\"},\"x\":1.0,\"xpad\":40},\"colorscale\":[[0.0,\"rgb(247,251,255)\"],[0.125,\"rgb(222,235,247)\"],[0.25,\"rgb(198,219,239)\"],[0.375,\"rgb(158,202,225)\"],[0.5,\"rgb(107,174,214)\"],[0.625,\"rgb(66,146,198)\"],[0.75,\"rgb(33,113,181)\"],[0.875,\"rgb(8,81,156)\"],[1.0,\"rgb(8,48,107)\"]],\"line\":{\"color\":\"Grey\",\"width\":0.5},\"showscale\":false},\"mode\":\"markers\",\"name\":\"Feasible Trial\",\"showlegend\":false,\"x\":[0.0006050839322853558,0.017380904782069412,0.00020599513928537406,0.0033694295441894792,0.00023039664981989216,0.0016765412729014112,0.22432603367606643,0.11483973979163764,0.04450282441629885,0.08070628011506352,0.016691727315189937,0.2568030387769279,0.012326796897975065,0.07545817376826267,0.11732780601154023,0.026686467146227612],\"y\":[0.06065597763195557,0.06208811876110433,0.06006872398254435,0.061423345083688456,0.06034937691890719,0.061223689344631876,0.061712973553890514,0.06200681609910228,0.061964189281085914,0.061592745324938934,0.06156173508406779,0.05962434196884094,0.06158207747208826,0.06185022307841323,0.06101409485459026,0.061916700669121555],\"type\":\"scatter\",\"xaxis\":\"x3\",\"yaxis\":\"y3\"},{\"marker\":{\"color\":[0,1,3,5,6,7,10,11,12,13,14,15,16,17,19,20],\"colorbar\":{\"title\":{\"text\":\"Trial\"},\"x\":1.0,\"xpad\":40},\"colorscale\":[[0.0,\"rgb(247,251,255)\"],[0.125,\"rgb(222,235,247)\"],[0.25,\"rgb(198,219,239)\"],[0.375,\"rgb(158,202,225)\"],[0.5,\"rgb(107,174,214)\"],[0.625,\"rgb(66,146,198)\"],[0.75,\"rgb(33,113,181)\"],[0.875,\"rgb(8,81,156)\"],[1.0,\"rgb(8,48,107)\"]],\"line\":{\"color\":\"Grey\",\"width\":0.5},\"showscale\":false},\"mode\":\"markers\",\"name\":\"Feasible Trial\",\"showlegend\":false,\"x\":[5,5,4,6,6,7,5,5,4,4,6,5,4,6,4,6],\"y\":[0.06065597763195557,0.06208811876110433,0.06006872398254435,0.061423345083688456,0.06034937691890719,0.061223689344631876,0.061712973553890514,0.06200681609910228,0.061964189281085914,0.061592745324938934,0.06156173508406779,0.05962434196884094,0.06158207747208826,0.06185022307841323,0.06101409485459026,0.061916700669121555],\"type\":\"scatter\",\"xaxis\":\"x4\",\"yaxis\":\"y4\"},{\"marker\":{\"color\":[0,1,3,5,6,7,10,11,12,13,14,15,16,17,19,20],\"colorbar\":{\"title\":{\"text\":\"Trial\"},\"x\":1.0,\"xpad\":40},\"colorscale\":[[0.0,\"rgb(247,251,255)\"],[0.125,\"rgb(222,235,247)\"],[0.25,\"rgb(198,219,239)\"],[0.375,\"rgb(158,202,225)\"],[0.5,\"rgb(107,174,214)\"],[0.625,\"rgb(66,146,198)\"],[0.75,\"rgb(33,113,181)\"],[0.875,\"rgb(8,81,156)\"],[1.0,\"rgb(8,48,107)\"]],\"line\":{\"color\":\"Grey\",\"width\":0.5},\"showscale\":false},\"mode\":\"markers\",\"name\":\"Feasible Trial\",\"showlegend\":false,\"x\":[55,106,121,55,81,67,15,9,33,3,100,34,88,64,3,101],\"y\":[0.06065597763195557,0.06208811876110433,0.06006872398254435,0.061423345083688456,0.06034937691890719,0.061223689344631876,0.061712973553890514,0.06200681609910228,0.061964189281085914,0.061592745324938934,0.06156173508406779,0.05962434196884094,0.06158207747208826,0.06185022307841323,0.06101409485459026,0.061916700669121555],\"type\":\"scatter\",\"xaxis\":\"x5\",\"yaxis\":\"y5\"},{\"marker\":{\"color\":[0,1,3,5,6,7,10,11,12,13,14,15,16,17,19,20],\"colorbar\":{\"title\":{\"text\":\"Trial\"},\"x\":1.0,\"xpad\":40},\"colorscale\":[[0.0,\"rgb(247,251,255)\"],[0.125,\"rgb(222,235,247)\"],[0.25,\"rgb(198,219,239)\"],[0.375,\"rgb(158,202,225)\"],[0.5,\"rgb(107,174,214)\"],[0.625,\"rgb(66,146,198)\"],[0.75,\"rgb(33,113,181)\"],[0.875,\"rgb(8,81,156)\"],[1.0,\"rgb(8,48,107)\"]],\"line\":{\"color\":\"Grey\",\"width\":0.5},\"showscale\":false},\"mode\":\"markers\",\"name\":\"Feasible Trial\",\"showlegend\":false,\"x\":[336,397,140,383,98,102,252,229,210,318,172,411,294,359,55,278],\"y\":[0.06065597763195557,0.06208811876110433,0.06006872398254435,0.061423345083688456,0.06034937691890719,0.061223689344631876,0.061712973553890514,0.06200681609910228,0.061964189281085914,0.061592745324938934,0.06156173508406779,0.05962434196884094,0.06158207747208826,0.06185022307841323,0.06101409485459026,0.061916700669121555],\"type\":\"scatter\",\"xaxis\":\"x6\",\"yaxis\":\"y6\"},{\"marker\":{\"color\":[0,1,3,5,6,7,10,11,12,13,14,15,16,17,19,20],\"colorbar\":{\"title\":{\"text\":\"Trial\"},\"x\":1.0,\"xpad\":40},\"colorscale\":[[0.0,\"rgb(247,251,255)\"],[0.125,\"rgb(222,235,247)\"],[0.25,\"rgb(198,219,239)\"],[0.375,\"rgb(158,202,225)\"],[0.5,\"rgb(107,174,214)\"],[0.625,\"rgb(66,146,198)\"],[0.75,\"rgb(33,113,181)\"],[0.875,\"rgb(8,81,156)\"],[1.0,\"rgb(8,48,107)\"]],\"line\":{\"color\":\"Grey\",\"width\":0.5},\"showscale\":false},\"mode\":\"markers\",\"name\":\"Feasible Trial\",\"showlegend\":false,\"x\":[\"ndcg\",\"map\",\"ndcg\",\"ndcg\",\"map\",\"map\",\"map\",\"map\",\"map\",\"map\",\"map\",\"map\",\"map\",\"map\",\"ndcg\",\"map\"],\"y\":[0.06065597763195557,0.06208811876110433,0.06006872398254435,0.061423345083688456,0.06034937691890719,0.061223689344631876,0.061712973553890514,0.06200681609910228,0.061964189281085914,0.061592745324938934,0.06156173508406779,0.05962434196884094,0.06158207747208826,0.06185022307841323,0.06101409485459026,0.061916700669121555],\"type\":\"scatter\",\"xaxis\":\"x7\",\"yaxis\":\"y7\"},{\"marker\":{\"color\":[0,1,3,5,6,7,10,11,12,13,14,15,16,17,19,20],\"colorbar\":{\"title\":{\"text\":\"Trial\"},\"x\":1.0,\"xpad\":40},\"colorscale\":[[0.0,\"rgb(247,251,255)\"],[0.125,\"rgb(222,235,247)\"],[0.25,\"rgb(198,219,239)\"],[0.375,\"rgb(158,202,225)\"],[0.5,\"rgb(107,174,214)\"],[0.625,\"rgb(66,146,198)\"],[0.75,\"rgb(33,113,181)\"],[0.875,\"rgb(8,81,156)\"],[1.0,\"rgb(8,48,107)\"]],\"line\":{\"color\":\"Grey\",\"width\":0.5},\"showscale\":false},\"mode\":\"markers\",\"name\":\"Feasible Trial\",\"showlegend\":false,\"x\":[0.7910714608392406,0.3038005533937369,0.3916492073361975,0.764140560994839,0.00013327020550942258,0.012281522889248083,0.06661730244310114,0.1031788461310641,0.08212795774631354,0.11338566231478119,0.0241158454769752,0.2941002261102901,0.033145237213345044,0.18188395571077925,0.2678587211048814,0.010525914051671083],\"y\":[0.06065597763195557,0.06208811876110433,0.06006872398254435,0.061423345083688456,0.06034937691890719,0.061223689344631876,0.061712973553890514,0.06200681609910228,0.061964189281085914,0.061592745324938934,0.06156173508406779,0.05962434196884094,0.06158207747208826,0.06185022307841323,0.06101409485459026,0.061916700669121555],\"type\":\"scatter\",\"xaxis\":\"x8\",\"yaxis\":\"y8\"},{\"marker\":{\"color\":[0,1,3,5,6,7,10,11,12,13,14,15,16,17,19,20],\"colorbar\":{\"title\":{\"text\":\"Trial\"},\"x\":1.0,\"xpad\":40},\"colorscale\":[[0.0,\"rgb(247,251,255)\"],[0.125,\"rgb(222,235,247)\"],[0.25,\"rgb(198,219,239)\"],[0.375,\"rgb(158,202,225)\"],[0.5,\"rgb(107,174,214)\"],[0.625,\"rgb(66,146,198)\"],[0.75,\"rgb(33,113,181)\"],[0.875,\"rgb(8,81,156)\"],[1.0,\"rgb(8,48,107)\"]],\"line\":{\"color\":\"Grey\",\"width\":0.5},\"showscale\":false},\"mode\":\"markers\",\"name\":\"Feasible Trial\",\"showlegend\":false,\"x\":[0.010319859931845702,0.05862146909129511,0.04161237448184852,0.14812283840961318,0.040475039596704294,0.9949640797192425,0.0023994831180512545,0.001625050873974712,0.003226424754093069,0.0017019098649353672,0.01516846849264042,0.000544766123692497,0.04313285827852787,0.0007589208657115408,0.00011803197042771339,0.01652218425008152],\"y\":[0.06065597763195557,0.06208811876110433,0.06006872398254435,0.061423345083688456,0.06034937691890719,0.061223689344631876,0.061712973553890514,0.06200681609910228,0.061964189281085914,0.061592745324938934,0.06156173508406779,0.05962434196884094,0.06158207747208826,0.06185022307841323,0.06101409485459026,0.061916700669121555],\"type\":\"scatter\",\"xaxis\":\"x9\",\"yaxis\":\"y9\"}],                        {\"template\":{\"data\":{\"histogram2dcontour\":[{\"type\":\"histogram2dcontour\",\"colorbar\":{\"outlinewidth\":0,\"ticks\":\"\"},\"colorscale\":[[0.0,\"#0d0887\"],[0.1111111111111111,\"#46039f\"],[0.2222222222222222,\"#7201a8\"],[0.3333333333333333,\"#9c179e\"],[0.4444444444444444,\"#bd3786\"],[0.5555555555555556,\"#d8576b\"],[0.6666666666666666,\"#ed7953\"],[0.7777777777777778,\"#fb9f3a\"],[0.8888888888888888,\"#fdca26\"],[1.0,\"#f0f921\"]]}],\"choropleth\":[{\"type\":\"choropleth\",\"colorbar\":{\"outlinewidth\":0,\"ticks\":\"\"}}],\"histogram2d\":[{\"type\":\"histogram2d\",\"colorbar\":{\"outlinewidth\":0,\"ticks\":\"\"},\"colorscale\":[[0.0,\"#0d0887\"],[0.1111111111111111,\"#46039f\"],[0.2222222222222222,\"#7201a8\"],[0.3333333333333333,\"#9c179e\"],[0.4444444444444444,\"#bd3786\"],[0.5555555555555556,\"#d8576b\"],[0.6666666666666666,\"#ed7953\"],[0.7777777777777778,\"#fb9f3a\"],[0.8888888888888888,\"#fdca26\"],[1.0,\"#f0f921\"]]}],\"heatmap\":[{\"type\":\"heatmap\",\"colorbar\":{\"outlinewidth\":0,\"ticks\":\"\"},\"colorscale\":[[0.0,\"#0d0887\"],[0.1111111111111111,\"#46039f\"],[0.2222222222222222,\"#7201a8\"],[0.3333333333333333,\"#9c179e\"],[0.4444444444444444,\"#bd3786\"],[0.5555555555555556,\"#d8576b\"],[0.6666666666666666,\"#ed7953\"],[0.7777777777777778,\"#fb9f3a\"],[0.8888888888888888,\"#fdca26\"],[1.0,\"#f0f921\"]]}],\"heatmapgl\":[{\"type\":\"heatmapgl\",\"colorbar\":{\"outlinewidth\":0,\"ticks\":\"\"},\"colorscale\":[[0.0,\"#0d0887\"],[0.1111111111111111,\"#46039f\"],[0.2222222222222222,\"#7201a8\"],[0.3333333333333333,\"#9c179e\"],[0.4444444444444444,\"#bd3786\"],[0.5555555555555556,\"#d8576b\"],[0.6666666666666666,\"#ed7953\"],[0.7777777777777778,\"#fb9f3a\"],[0.8888888888888888,\"#fdca26\"],[1.0,\"#f0f921\"]]}],\"contourcarpet\":[{\"type\":\"contourcarpet\",\"colorbar\":{\"outlinewidth\":0,\"ticks\":\"\"}}],\"contour\":[{\"type\":\"contour\",\"colorbar\":{\"outlinewidth\":0,\"ticks\":\"\"},\"colorscale\":[[0.0,\"#0d0887\"],[0.1111111111111111,\"#46039f\"],[0.2222222222222222,\"#7201a8\"],[0.3333333333333333,\"#9c179e\"],[0.4444444444444444,\"#bd3786\"],[0.5555555555555556,\"#d8576b\"],[0.6666666666666666,\"#ed7953\"],[0.7777777777777778,\"#fb9f3a\"],[0.8888888888888888,\"#fdca26\"],[1.0,\"#f0f921\"]]}],\"surface\":[{\"type\":\"surface\",\"colorbar\":{\"outlinewidth\":0,\"ticks\":\"\"},\"colorscale\":[[0.0,\"#0d0887\"],[0.1111111111111111,\"#46039f\"],[0.2222222222222222,\"#7201a8\"],[0.3333333333333333,\"#9c179e\"],[0.4444444444444444,\"#bd3786\"],[0.5555555555555556,\"#d8576b\"],[0.6666666666666666,\"#ed7953\"],[0.7777777777777778,\"#fb9f3a\"],[0.8888888888888888,\"#fdca26\"],[1.0,\"#f0f921\"]]}],\"mesh3d\":[{\"type\":\"mesh3d\",\"colorbar\":{\"outlinewidth\":0,\"ticks\":\"\"}}],\"scatter\":[{\"fillpattern\":{\"fillmode\":\"overlay\",\"size\":10,\"solidity\":0.2},\"type\":\"scatter\"}],\"parcoords\":[{\"type\":\"parcoords\",\"line\":{\"colorbar\":{\"outlinewidth\":0,\"ticks\":\"\"}}}],\"scatterpolargl\":[{\"type\":\"scatterpolargl\",\"marker\":{\"colorbar\":{\"outlinewidth\":0,\"ticks\":\"\"}}}],\"bar\":[{\"error_x\":{\"color\":\"#2a3f5f\"},\"error_y\":{\"color\":\"#2a3f5f\"},\"marker\":{\"line\":{\"color\":\"#E5ECF6\",\"width\":0.5},\"pattern\":{\"fillmode\":\"overlay\",\"size\":10,\"solidity\":0.2}},\"type\":\"bar\"}],\"scattergeo\":[{\"type\":\"scattergeo\",\"marker\":{\"colorbar\":{\"outlinewidth\":0,\"ticks\":\"\"}}}],\"scatterpolar\":[{\"type\":\"scatterpolar\",\"marker\":{\"colorbar\":{\"outlinewidth\":0,\"ticks\":\"\"}}}],\"histogram\":[{\"marker\":{\"pattern\":{\"fillmode\":\"overlay\",\"size\":10,\"solidity\":0.2}},\"type\":\"histogram\"}],\"scattergl\":[{\"type\":\"scattergl\",\"marker\":{\"colorbar\":{\"outlinewidth\":0,\"ticks\":\"\"}}}],\"scatter3d\":[{\"type\":\"scatter3d\",\"line\":{\"colorbar\":{\"outlinewidth\":0,\"ticks\":\"\"}},\"marker\":{\"colorbar\":{\"outlinewidth\":0,\"ticks\":\"\"}}}],\"scattermapbox\":[{\"type\":\"scattermapbox\",\"marker\":{\"colorbar\":{\"outlinewidth\":0,\"ticks\":\"\"}}}],\"scatterternary\":[{\"type\":\"scatterternary\",\"marker\":{\"colorbar\":{\"outlinewidth\":0,\"ticks\":\"\"}}}],\"scattercarpet\":[{\"type\":\"scattercarpet\",\"marker\":{\"colorbar\":{\"outlinewidth\":0,\"ticks\":\"\"}}}],\"carpet\":[{\"aaxis\":{\"endlinecolor\":\"#2a3f5f\",\"gridcolor\":\"white\",\"linecolor\":\"white\",\"minorgridcolor\":\"white\",\"startlinecolor\":\"#2a3f5f\"},\"baxis\":{\"endlinecolor\":\"#2a3f5f\",\"gridcolor\":\"white\",\"linecolor\":\"white\",\"minorgridcolor\":\"white\",\"startlinecolor\":\"#2a3f5f\"},\"type\":\"carpet\"}],\"table\":[{\"cells\":{\"fill\":{\"color\":\"#EBF0F8\"},\"line\":{\"color\":\"white\"}},\"header\":{\"fill\":{\"color\":\"#C8D4E3\"},\"line\":{\"color\":\"white\"}},\"type\":\"table\"}],\"barpolar\":[{\"marker\":{\"line\":{\"color\":\"#E5ECF6\",\"width\":0.5},\"pattern\":{\"fillmode\":\"overlay\",\"size\":10,\"solidity\":0.2}},\"type\":\"barpolar\"}],\"pie\":[{\"automargin\":true,\"type\":\"pie\"}]},\"layout\":{\"autotypenumbers\":\"strict\",\"colorway\":[\"#636efa\",\"#EF553B\",\"#00cc96\",\"#ab63fa\",\"#FFA15A\",\"#19d3f3\",\"#FF6692\",\"#B6E880\",\"#FF97FF\",\"#FECB52\"],\"font\":{\"color\":\"#2a3f5f\"},\"hovermode\":\"closest\",\"hoverlabel\":{\"align\":\"left\"},\"paper_bgcolor\":\"white\",\"plot_bgcolor\":\"#E5ECF6\",\"polar\":{\"bgcolor\":\"#E5ECF6\",\"angularaxis\":{\"gridcolor\":\"white\",\"linecolor\":\"white\",\"ticks\":\"\"},\"radialaxis\":{\"gridcolor\":\"white\",\"linecolor\":\"white\",\"ticks\":\"\"}},\"ternary\":{\"bgcolor\":\"#E5ECF6\",\"aaxis\":{\"gridcolor\":\"white\",\"linecolor\":\"white\",\"ticks\":\"\"},\"baxis\":{\"gridcolor\":\"white\",\"linecolor\":\"white\",\"ticks\":\"\"},\"caxis\":{\"gridcolor\":\"white\",\"linecolor\":\"white\",\"ticks\":\"\"}},\"coloraxis\":{\"colorbar\":{\"outlinewidth\":0,\"ticks\":\"\"}},\"colorscale\":{\"sequential\":[[0.0,\"#0d0887\"],[0.1111111111111111,\"#46039f\"],[0.2222222222222222,\"#7201a8\"],[0.3333333333333333,\"#9c179e\"],[0.4444444444444444,\"#bd3786\"],[0.5555555555555556,\"#d8576b\"],[0.6666666666666666,\"#ed7953\"],[0.7777777777777778,\"#fb9f3a\"],[0.8888888888888888,\"#fdca26\"],[1.0,\"#f0f921\"]],\"sequentialminus\":[[0.0,\"#0d0887\"],[0.1111111111111111,\"#46039f\"],[0.2222222222222222,\"#7201a8\"],[0.3333333333333333,\"#9c179e\"],[0.4444444444444444,\"#bd3786\"],[0.5555555555555556,\"#d8576b\"],[0.6666666666666666,\"#ed7953\"],[0.7777777777777778,\"#fb9f3a\"],[0.8888888888888888,\"#fdca26\"],[1.0,\"#f0f921\"]],\"diverging\":[[0,\"#8e0152\"],[0.1,\"#c51b7d\"],[0.2,\"#de77ae\"],[0.3,\"#f1b6da\"],[0.4,\"#fde0ef\"],[0.5,\"#f7f7f7\"],[0.6,\"#e6f5d0\"],[0.7,\"#b8e186\"],[0.8,\"#7fbc41\"],[0.9,\"#4d9221\"],[1,\"#276419\"]]},\"xaxis\":{\"gridcolor\":\"white\",\"linecolor\":\"white\",\"ticks\":\"\",\"title\":{\"standoff\":15},\"zerolinecolor\":\"white\",\"automargin\":true,\"zerolinewidth\":2},\"yaxis\":{\"gridcolor\":\"white\",\"linecolor\":\"white\",\"ticks\":\"\",\"title\":{\"standoff\":15},\"zerolinecolor\":\"white\",\"automargin\":true,\"zerolinewidth\":2},\"scene\":{\"xaxis\":{\"backgroundcolor\":\"#E5ECF6\",\"gridcolor\":\"white\",\"linecolor\":\"white\",\"showbackground\":true,\"ticks\":\"\",\"zerolinecolor\":\"white\",\"gridwidth\":2},\"yaxis\":{\"backgroundcolor\":\"#E5ECF6\",\"gridcolor\":\"white\",\"linecolor\":\"white\",\"showbackground\":true,\"ticks\":\"\",\"zerolinecolor\":\"white\",\"gridwidth\":2},\"zaxis\":{\"backgroundcolor\":\"#E5ECF6\",\"gridcolor\":\"white\",\"linecolor\":\"white\",\"showbackground\":true,\"ticks\":\"\",\"zerolinecolor\":\"white\",\"gridwidth\":2}},\"shapedefaults\":{\"line\":{\"color\":\"#2a3f5f\"}},\"annotationdefaults\":{\"arrowcolor\":\"#2a3f5f\",\"arrowhead\":0,\"arrowwidth\":1},\"geo\":{\"bgcolor\":\"white\",\"landcolor\":\"#E5ECF6\",\"subunitcolor\":\"white\",\"showland\":true,\"showlakes\":true,\"lakecolor\":\"white\"},\"title\":{\"x\":0.05},\"mapbox\":{\"style\":\"light\"}}},\"xaxis\":{\"anchor\":\"y\",\"domain\":[0.0,0.09135802469135802],\"title\":{\"text\":\"booster\"},\"type\":\"category\",\"categoryorder\":\"array\",\"categoryarray\":[\"gbtree\",\"dart\"]},\"yaxis\":{\"anchor\":\"x\",\"domain\":[0.0,1.0],\"title\":{\"text\":\"Objective Value\"}},\"xaxis2\":{\"anchor\":\"y2\",\"domain\":[0.11358024691358025,0.20493827160493827],\"title\":{\"text\":\"grow_policy\"},\"type\":\"category\",\"categoryorder\":\"array\",\"categoryarray\":[\"depthwise\",\"lossguide\"]},\"yaxis2\":{\"anchor\":\"x2\",\"domain\":[0.0,1.0],\"matches\":\"y\",\"showticklabels\":false},\"xaxis3\":{\"anchor\":\"y3\",\"domain\":[0.2271604938271605,0.31851851851851853],\"title\":{\"text\":\"learning_rate\"},\"type\":\"log\"},\"yaxis3\":{\"anchor\":\"x3\",\"domain\":[0.0,1.0],\"matches\":\"y\",\"showticklabels\":false},\"xaxis4\":{\"anchor\":\"y4\",\"domain\":[0.34074074074074073,0.43209876543209874],\"title\":{\"text\":\"max_depth\"}},\"yaxis4\":{\"anchor\":\"x4\",\"domain\":[0.0,1.0],\"matches\":\"y\",\"showticklabels\":false},\"xaxis5\":{\"anchor\":\"y5\",\"domain\":[0.454320987654321,0.5456790123456791],\"title\":{\"text\":\"max_leaves\"}},\"yaxis5\":{\"anchor\":\"x5\",\"domain\":[0.0,1.0],\"matches\":\"y\",\"showticklabels\":false},\"xaxis6\":{\"anchor\":\"y6\",\"domain\":[0.5679012345679012,0.6592592592592592],\"title\":{\"text\":\"n_estimators\"}},\"yaxis6\":{\"anchor\":\"x6\",\"domain\":[0.0,1.0],\"matches\":\"y\",\"showticklabels\":false},\"xaxis7\":{\"anchor\":\"y7\",\"domain\":[0.6814814814814815,0.7728395061728395],\"title\":{\"text\":\"objective\"},\"type\":\"category\",\"categoryorder\":\"array\",\"categoryarray\":[\"map\",\"pairwise\",\"ndcg\"]},\"yaxis7\":{\"anchor\":\"x7\",\"domain\":[0.0,1.0],\"matches\":\"y\",\"showticklabels\":false},\"xaxis8\":{\"anchor\":\"y8\",\"domain\":[0.7950617283950617,0.8864197530864197],\"title\":{\"text\":\"reg_alpha\"},\"type\":\"log\"},\"yaxis8\":{\"anchor\":\"x8\",\"domain\":[0.0,1.0],\"matches\":\"y\",\"showticklabels\":false},\"xaxis9\":{\"anchor\":\"y9\",\"domain\":[0.908641975308642,1.0],\"title\":{\"text\":\"reg_lambda\"},\"type\":\"log\"},\"yaxis9\":{\"anchor\":\"x9\",\"domain\":[0.0,1.0],\"matches\":\"y\",\"showticklabels\":false},\"title\":{\"text\":\"Slice Plot\"},\"width\":2700},                        {\"responsive\": true}                    ).then(function(){\n",
       "                            \n",
       "var gd = document.getElementById('67b14b4b-adad-4ce3-92bd-e5a7b2716866');\n",
       "var x = new MutationObserver(function (mutations, observer) {{\n",
       "        var display = window.getComputedStyle(gd).display;\n",
       "        if (!display || display === 'none') {{\n",
       "            console.log([gd, 'removed!']);\n",
       "            Plotly.purge(gd);\n",
       "            observer.disconnect();\n",
       "        }}\n",
       "}});\n",
       "\n",
       "// Listen for the removal of the full notebook cells\n",
       "var notebookContainer = gd.closest('#notebook-container');\n",
       "if (notebookContainer) {{\n",
       "    x.observe(notebookContainer, {childList: true});\n",
       "}}\n",
       "\n",
       "// Listen for the clearing of the current output cell\n",
       "var outputEl = gd.closest('.output');\n",
       "if (outputEl) {{\n",
       "    x.observe(outputEl, {childList: true});\n",
       "}}\n",
       "\n",
       "                        })                };                            </script>        </div>\n",
       "</body>\n",
       "</html>"
      ]
     },
     "metadata": {},
     "output_type": "display_data"
    }
   ],
   "source": [
    "if not config['tune_parameters']:\n",
    "    optuna_study = optuna.load_study(study_name=f'hyperparameters_tuning_{config[\"model\"]}_{config[\"metric\"]}', storage=f'sqlite:///{config[\"database_path\"]}')\n",
    "    \n",
    "fig = optuna.visualization.plot_slice(optuna_study)\n",
    "fig.show()"
   ]
  },
  {
   "cell_type": "code",
   "execution_count": 25,
   "id": "3ee6b179",
   "metadata": {
    "execution": {
     "iopub.execute_input": "2025-01-07T18:40:00.151841Z",
     "iopub.status.busy": "2025-01-07T18:40:00.151429Z",
     "iopub.status.idle": "2025-01-07T18:40:00.512255Z",
     "shell.execute_reply": "2025-01-07T18:40:00.511158Z"
    },
    "papermill": {
     "duration": 0.390162,
     "end_time": "2025-01-07T18:40:00.513972",
     "exception": false,
     "start_time": "2025-01-07T18:40:00.123810",
     "status": "completed"
    },
    "tags": []
   },
   "outputs": [
    {
     "data": {
      "text/html": [
       "<html>\n",
       "<head><meta charset=\"utf-8\" /></head>\n",
       "<body>\n",
       "    <div>            <script src=\"https://cdnjs.cloudflare.com/ajax/libs/mathjax/2.7.5/MathJax.js?config=TeX-AMS-MML_SVG\"></script><script type=\"text/javascript\">if (window.MathJax && window.MathJax.Hub && window.MathJax.Hub.Config) {window.MathJax.Hub.Config({SVG: {font: \"STIX-Web\"}});}</script>                <script type=\"text/javascript\">window.PlotlyConfig = {MathJaxConfig: 'local'};</script>\n",
       "        <script charset=\"utf-8\" src=\"https://cdn.plot.ly/plotly-2.35.2.min.js\"></script>                <div id=\"ce85f8d3-ed20-4f8a-8783-b5b2ad834665\" class=\"plotly-graph-div\" style=\"height:525px; width:100%;\"></div>            <script type=\"text/javascript\">                                    window.PLOTLYENV=window.PLOTLYENV || {};                                    if (document.getElementById(\"ce85f8d3-ed20-4f8a-8783-b5b2ad834665\")) {                    Plotly.newPlot(                        \"ce85f8d3-ed20-4f8a-8783-b5b2ad834665\",                        [{\"cliponaxis\":false,\"hovertemplate\":[\"booster (CategoricalDistribution): 0.0\\u003cextra\\u003e\\u003c\\u002fextra\\u003e\",\"max_depth (IntDistribution): 0.0351809800025578\\u003cextra\\u003e\\u003c\\u002fextra\\u003e\",\"max_leaves (IntDistribution): 0.03823996026885839\\u003cextra\\u003e\\u003c\\u002fextra\\u003e\",\"reg_lambda (FloatDistribution): 0.03962948574677089\\u003cextra\\u003e\\u003c\\u002fextra\\u003e\",\"grow_policy (CategoricalDistribution): 0.05948724205047861\\u003cextra\\u003e\\u003c\\u002fextra\\u003e\",\"objective (CategoricalDistribution): 0.06319835312151112\\u003cextra\\u003e\\u003c\\u002fextra\\u003e\",\"reg_alpha (FloatDistribution): 0.16177239224949092\\u003cextra\\u003e\\u003c\\u002fextra\\u003e\",\"n_estimators (IntDistribution): 0.29281618629952\\u003cextra\\u003e\\u003c\\u002fextra\\u003e\",\"learning_rate (FloatDistribution): 0.30967540026081214\\u003cextra\\u003e\\u003c\\u002fextra\\u003e\"],\"name\":\"Objective Value\",\"orientation\":\"h\",\"text\":[\"\\u003c0.01\",\"0.04\",\"0.04\",\"0.04\",\"0.06\",\"0.06\",\"0.16\",\"0.29\",\"0.31\"],\"textposition\":\"outside\",\"x\":[0.0,0.0351809800025578,0.03823996026885839,0.03962948574677089,0.05948724205047861,0.06319835312151112,0.16177239224949092,0.29281618629952,0.30967540026081214],\"y\":[\"booster\",\"max_depth\",\"max_leaves\",\"reg_lambda\",\"grow_policy\",\"objective\",\"reg_alpha\",\"n_estimators\",\"learning_rate\"],\"type\":\"bar\"}],                        {\"title\":{\"text\":\"Hyperparameter Importances\"},\"xaxis\":{\"title\":{\"text\":\"Hyperparameter Importance\"}},\"yaxis\":{\"title\":{\"text\":\"Hyperparameter\"}},\"template\":{\"data\":{\"histogram2dcontour\":[{\"type\":\"histogram2dcontour\",\"colorbar\":{\"outlinewidth\":0,\"ticks\":\"\"},\"colorscale\":[[0.0,\"#0d0887\"],[0.1111111111111111,\"#46039f\"],[0.2222222222222222,\"#7201a8\"],[0.3333333333333333,\"#9c179e\"],[0.4444444444444444,\"#bd3786\"],[0.5555555555555556,\"#d8576b\"],[0.6666666666666666,\"#ed7953\"],[0.7777777777777778,\"#fb9f3a\"],[0.8888888888888888,\"#fdca26\"],[1.0,\"#f0f921\"]]}],\"choropleth\":[{\"type\":\"choropleth\",\"colorbar\":{\"outlinewidth\":0,\"ticks\":\"\"}}],\"histogram2d\":[{\"type\":\"histogram2d\",\"colorbar\":{\"outlinewidth\":0,\"ticks\":\"\"},\"colorscale\":[[0.0,\"#0d0887\"],[0.1111111111111111,\"#46039f\"],[0.2222222222222222,\"#7201a8\"],[0.3333333333333333,\"#9c179e\"],[0.4444444444444444,\"#bd3786\"],[0.5555555555555556,\"#d8576b\"],[0.6666666666666666,\"#ed7953\"],[0.7777777777777778,\"#fb9f3a\"],[0.8888888888888888,\"#fdca26\"],[1.0,\"#f0f921\"]]}],\"heatmap\":[{\"type\":\"heatmap\",\"colorbar\":{\"outlinewidth\":0,\"ticks\":\"\"},\"colorscale\":[[0.0,\"#0d0887\"],[0.1111111111111111,\"#46039f\"],[0.2222222222222222,\"#7201a8\"],[0.3333333333333333,\"#9c179e\"],[0.4444444444444444,\"#bd3786\"],[0.5555555555555556,\"#d8576b\"],[0.6666666666666666,\"#ed7953\"],[0.7777777777777778,\"#fb9f3a\"],[0.8888888888888888,\"#fdca26\"],[1.0,\"#f0f921\"]]}],\"heatmapgl\":[{\"type\":\"heatmapgl\",\"colorbar\":{\"outlinewidth\":0,\"ticks\":\"\"},\"colorscale\":[[0.0,\"#0d0887\"],[0.1111111111111111,\"#46039f\"],[0.2222222222222222,\"#7201a8\"],[0.3333333333333333,\"#9c179e\"],[0.4444444444444444,\"#bd3786\"],[0.5555555555555556,\"#d8576b\"],[0.6666666666666666,\"#ed7953\"],[0.7777777777777778,\"#fb9f3a\"],[0.8888888888888888,\"#fdca26\"],[1.0,\"#f0f921\"]]}],\"contourcarpet\":[{\"type\":\"contourcarpet\",\"colorbar\":{\"outlinewidth\":0,\"ticks\":\"\"}}],\"contour\":[{\"type\":\"contour\",\"colorbar\":{\"outlinewidth\":0,\"ticks\":\"\"},\"colorscale\":[[0.0,\"#0d0887\"],[0.1111111111111111,\"#46039f\"],[0.2222222222222222,\"#7201a8\"],[0.3333333333333333,\"#9c179e\"],[0.4444444444444444,\"#bd3786\"],[0.5555555555555556,\"#d8576b\"],[0.6666666666666666,\"#ed7953\"],[0.7777777777777778,\"#fb9f3a\"],[0.8888888888888888,\"#fdca26\"],[1.0,\"#f0f921\"]]}],\"surface\":[{\"type\":\"surface\",\"colorbar\":{\"outlinewidth\":0,\"ticks\":\"\"},\"colorscale\":[[0.0,\"#0d0887\"],[0.1111111111111111,\"#46039f\"],[0.2222222222222222,\"#7201a8\"],[0.3333333333333333,\"#9c179e\"],[0.4444444444444444,\"#bd3786\"],[0.5555555555555556,\"#d8576b\"],[0.6666666666666666,\"#ed7953\"],[0.7777777777777778,\"#fb9f3a\"],[0.8888888888888888,\"#fdca26\"],[1.0,\"#f0f921\"]]}],\"mesh3d\":[{\"type\":\"mesh3d\",\"colorbar\":{\"outlinewidth\":0,\"ticks\":\"\"}}],\"scatter\":[{\"fillpattern\":{\"fillmode\":\"overlay\",\"size\":10,\"solidity\":0.2},\"type\":\"scatter\"}],\"parcoords\":[{\"type\":\"parcoords\",\"line\":{\"colorbar\":{\"outlinewidth\":0,\"ticks\":\"\"}}}],\"scatterpolargl\":[{\"type\":\"scatterpolargl\",\"marker\":{\"colorbar\":{\"outlinewidth\":0,\"ticks\":\"\"}}}],\"bar\":[{\"error_x\":{\"color\":\"#2a3f5f\"},\"error_y\":{\"color\":\"#2a3f5f\"},\"marker\":{\"line\":{\"color\":\"#E5ECF6\",\"width\":0.5},\"pattern\":{\"fillmode\":\"overlay\",\"size\":10,\"solidity\":0.2}},\"type\":\"bar\"}],\"scattergeo\":[{\"type\":\"scattergeo\",\"marker\":{\"colorbar\":{\"outlinewidth\":0,\"ticks\":\"\"}}}],\"scatterpolar\":[{\"type\":\"scatterpolar\",\"marker\":{\"colorbar\":{\"outlinewidth\":0,\"ticks\":\"\"}}}],\"histogram\":[{\"marker\":{\"pattern\":{\"fillmode\":\"overlay\",\"size\":10,\"solidity\":0.2}},\"type\":\"histogram\"}],\"scattergl\":[{\"type\":\"scattergl\",\"marker\":{\"colorbar\":{\"outlinewidth\":0,\"ticks\":\"\"}}}],\"scatter3d\":[{\"type\":\"scatter3d\",\"line\":{\"colorbar\":{\"outlinewidth\":0,\"ticks\":\"\"}},\"marker\":{\"colorbar\":{\"outlinewidth\":0,\"ticks\":\"\"}}}],\"scattermapbox\":[{\"type\":\"scattermapbox\",\"marker\":{\"colorbar\":{\"outlinewidth\":0,\"ticks\":\"\"}}}],\"scatterternary\":[{\"type\":\"scatterternary\",\"marker\":{\"colorbar\":{\"outlinewidth\":0,\"ticks\":\"\"}}}],\"scattercarpet\":[{\"type\":\"scattercarpet\",\"marker\":{\"colorbar\":{\"outlinewidth\":0,\"ticks\":\"\"}}}],\"carpet\":[{\"aaxis\":{\"endlinecolor\":\"#2a3f5f\",\"gridcolor\":\"white\",\"linecolor\":\"white\",\"minorgridcolor\":\"white\",\"startlinecolor\":\"#2a3f5f\"},\"baxis\":{\"endlinecolor\":\"#2a3f5f\",\"gridcolor\":\"white\",\"linecolor\":\"white\",\"minorgridcolor\":\"white\",\"startlinecolor\":\"#2a3f5f\"},\"type\":\"carpet\"}],\"table\":[{\"cells\":{\"fill\":{\"color\":\"#EBF0F8\"},\"line\":{\"color\":\"white\"}},\"header\":{\"fill\":{\"color\":\"#C8D4E3\"},\"line\":{\"color\":\"white\"}},\"type\":\"table\"}],\"barpolar\":[{\"marker\":{\"line\":{\"color\":\"#E5ECF6\",\"width\":0.5},\"pattern\":{\"fillmode\":\"overlay\",\"size\":10,\"solidity\":0.2}},\"type\":\"barpolar\"}],\"pie\":[{\"automargin\":true,\"type\":\"pie\"}]},\"layout\":{\"autotypenumbers\":\"strict\",\"colorway\":[\"#636efa\",\"#EF553B\",\"#00cc96\",\"#ab63fa\",\"#FFA15A\",\"#19d3f3\",\"#FF6692\",\"#B6E880\",\"#FF97FF\",\"#FECB52\"],\"font\":{\"color\":\"#2a3f5f\"},\"hovermode\":\"closest\",\"hoverlabel\":{\"align\":\"left\"},\"paper_bgcolor\":\"white\",\"plot_bgcolor\":\"#E5ECF6\",\"polar\":{\"bgcolor\":\"#E5ECF6\",\"angularaxis\":{\"gridcolor\":\"white\",\"linecolor\":\"white\",\"ticks\":\"\"},\"radialaxis\":{\"gridcolor\":\"white\",\"linecolor\":\"white\",\"ticks\":\"\"}},\"ternary\":{\"bgcolor\":\"#E5ECF6\",\"aaxis\":{\"gridcolor\":\"white\",\"linecolor\":\"white\",\"ticks\":\"\"},\"baxis\":{\"gridcolor\":\"white\",\"linecolor\":\"white\",\"ticks\":\"\"},\"caxis\":{\"gridcolor\":\"white\",\"linecolor\":\"white\",\"ticks\":\"\"}},\"coloraxis\":{\"colorbar\":{\"outlinewidth\":0,\"ticks\":\"\"}},\"colorscale\":{\"sequential\":[[0.0,\"#0d0887\"],[0.1111111111111111,\"#46039f\"],[0.2222222222222222,\"#7201a8\"],[0.3333333333333333,\"#9c179e\"],[0.4444444444444444,\"#bd3786\"],[0.5555555555555556,\"#d8576b\"],[0.6666666666666666,\"#ed7953\"],[0.7777777777777778,\"#fb9f3a\"],[0.8888888888888888,\"#fdca26\"],[1.0,\"#f0f921\"]],\"sequentialminus\":[[0.0,\"#0d0887\"],[0.1111111111111111,\"#46039f\"],[0.2222222222222222,\"#7201a8\"],[0.3333333333333333,\"#9c179e\"],[0.4444444444444444,\"#bd3786\"],[0.5555555555555556,\"#d8576b\"],[0.6666666666666666,\"#ed7953\"],[0.7777777777777778,\"#fb9f3a\"],[0.8888888888888888,\"#fdca26\"],[1.0,\"#f0f921\"]],\"diverging\":[[0,\"#8e0152\"],[0.1,\"#c51b7d\"],[0.2,\"#de77ae\"],[0.3,\"#f1b6da\"],[0.4,\"#fde0ef\"],[0.5,\"#f7f7f7\"],[0.6,\"#e6f5d0\"],[0.7,\"#b8e186\"],[0.8,\"#7fbc41\"],[0.9,\"#4d9221\"],[1,\"#276419\"]]},\"xaxis\":{\"gridcolor\":\"white\",\"linecolor\":\"white\",\"ticks\":\"\",\"title\":{\"standoff\":15},\"zerolinecolor\":\"white\",\"automargin\":true,\"zerolinewidth\":2},\"yaxis\":{\"gridcolor\":\"white\",\"linecolor\":\"white\",\"ticks\":\"\",\"title\":{\"standoff\":15},\"zerolinecolor\":\"white\",\"automargin\":true,\"zerolinewidth\":2},\"scene\":{\"xaxis\":{\"backgroundcolor\":\"#E5ECF6\",\"gridcolor\":\"white\",\"linecolor\":\"white\",\"showbackground\":true,\"ticks\":\"\",\"zerolinecolor\":\"white\",\"gridwidth\":2},\"yaxis\":{\"backgroundcolor\":\"#E5ECF6\",\"gridcolor\":\"white\",\"linecolor\":\"white\",\"showbackground\":true,\"ticks\":\"\",\"zerolinecolor\":\"white\",\"gridwidth\":2},\"zaxis\":{\"backgroundcolor\":\"#E5ECF6\",\"gridcolor\":\"white\",\"linecolor\":\"white\",\"showbackground\":true,\"ticks\":\"\",\"zerolinecolor\":\"white\",\"gridwidth\":2}},\"shapedefaults\":{\"line\":{\"color\":\"#2a3f5f\"}},\"annotationdefaults\":{\"arrowcolor\":\"#2a3f5f\",\"arrowhead\":0,\"arrowwidth\":1},\"geo\":{\"bgcolor\":\"white\",\"landcolor\":\"#E5ECF6\",\"subunitcolor\":\"white\",\"showland\":true,\"showlakes\":true,\"lakecolor\":\"white\"},\"title\":{\"x\":0.05},\"mapbox\":{\"style\":\"light\"}}}},                        {\"responsive\": true}                    ).then(function(){\n",
       "                            \n",
       "var gd = document.getElementById('ce85f8d3-ed20-4f8a-8783-b5b2ad834665');\n",
       "var x = new MutationObserver(function (mutations, observer) {{\n",
       "        var display = window.getComputedStyle(gd).display;\n",
       "        if (!display || display === 'none') {{\n",
       "            console.log([gd, 'removed!']);\n",
       "            Plotly.purge(gd);\n",
       "            observer.disconnect();\n",
       "        }}\n",
       "}});\n",
       "\n",
       "// Listen for the removal of the full notebook cells\n",
       "var notebookContainer = gd.closest('#notebook-container');\n",
       "if (notebookContainer) {{\n",
       "    x.observe(notebookContainer, {childList: true});\n",
       "}}\n",
       "\n",
       "// Listen for the clearing of the current output cell\n",
       "var outputEl = gd.closest('.output');\n",
       "if (outputEl) {{\n",
       "    x.observe(outputEl, {childList: true});\n",
       "}}\n",
       "\n",
       "                        })                };                            </script>        </div>\n",
       "</body>\n",
       "</html>"
      ]
     },
     "metadata": {},
     "output_type": "display_data"
    }
   ],
   "source": [
    "if not config['tune_parameters']:\n",
    "    optuna_study = optuna.load_study(study_name=f'hyperparameters_tuning_{config[\"model\"]}_{config[\"metric\"]}', storage=f'sqlite:///{config[\"database_path\"]}')\n",
    "    \n",
    "fig = optuna.visualization.plot_param_importances(optuna_study)\n",
    "fig.show()"
   ]
  },
  {
   "cell_type": "markdown",
   "id": "8301b3ae",
   "metadata": {
    "papermill": {
     "duration": 0.026923,
     "end_time": "2025-01-07T18:40:00.571048",
     "exception": false,
     "start_time": "2025-01-07T18:40:00.544125",
     "status": "completed"
    },
    "tags": []
   },
   "source": [
    "# Testing\n",
    "## Prediction dataframe building"
   ]
  },
  {
   "cell_type": "code",
   "execution_count": 26,
   "id": "f8ed4084",
   "metadata": {
    "execution": {
     "iopub.execute_input": "2025-01-07T18:40:00.888314Z",
     "iopub.status.busy": "2025-01-07T18:40:00.887936Z",
     "iopub.status.idle": "2025-01-07T18:40:01.545280Z",
     "shell.execute_reply": "2025-01-07T18:40:01.544086Z"
    },
    "papermill": {
     "duration": 0.948655,
     "end_time": "2025-01-07T18:40:01.547068",
     "exception": false,
     "start_time": "2025-01-07T18:40:00.598413",
     "status": "completed"
    },
    "tags": []
   },
   "outputs": [
    {
     "data": {
      "text/html": [
       "<div>\n",
       "<style scoped>\n",
       "    .dataframe tbody tr th:only-of-type {\n",
       "        vertical-align: middle;\n",
       "    }\n",
       "\n",
       "    .dataframe tbody tr th {\n",
       "        vertical-align: top;\n",
       "    }\n",
       "\n",
       "    .dataframe thead th {\n",
       "        text-align: right;\n",
       "    }\n",
       "</style>\n",
       "<table border=\"1\" class=\"dataframe\">\n",
       "  <thead>\n",
       "    <tr style=\"text-align: right;\">\n",
       "      <th></th>\n",
       "      <th>UserID</th>\n",
       "      <th>ItemID</th>\n",
       "      <th>Label</th>\n",
       "      <th>feature_recommender_count</th>\n",
       "      <th>RP3beta_score</th>\n",
       "      <th>RP3beta_position</th>\n",
       "      <th>P3alpha_score</th>\n",
       "      <th>P3alpha_position</th>\n",
       "      <th>ItemKNNCF_score</th>\n",
       "      <th>ItemKNNCF_position</th>\n",
       "      <th>...</th>\n",
       "      <th>SLIM_BPR_position</th>\n",
       "      <th>Mean_Position</th>\n",
       "      <th>Std_Position</th>\n",
       "      <th>Min_Position</th>\n",
       "      <th>Max_Position</th>\n",
       "      <th>Median_Position</th>\n",
       "      <th>Skew_Position</th>\n",
       "      <th>Kurtosis_Position</th>\n",
       "      <th>item_popularity</th>\n",
       "      <th>user_profile_len</th>\n",
       "    </tr>\n",
       "  </thead>\n",
       "  <tbody>\n",
       "    <tr>\n",
       "      <th>0</th>\n",
       "      <td>0</td>\n",
       "      <td>51.0</td>\n",
       "      <td>False</td>\n",
       "      <td>0</td>\n",
       "      <td>0.434087</td>\n",
       "      <td>29.0</td>\n",
       "      <td>0.559818</td>\n",
       "      <td>12.0</td>\n",
       "      <td>0.477179</td>\n",
       "      <td>19.0</td>\n",
       "      <td>...</td>\n",
       "      <td>34.0</td>\n",
       "      <td>47.166667</td>\n",
       "      <td>27.185669</td>\n",
       "      <td>12.0</td>\n",
       "      <td>78.0</td>\n",
       "      <td>41.0</td>\n",
       "      <td>0.011792</td>\n",
       "      <td>-1.686444</td>\n",
       "      <td>0.109336</td>\n",
       "      <td>0.020373</td>\n",
       "    </tr>\n",
       "    <tr>\n",
       "      <th>1</th>\n",
       "      <td>0</td>\n",
       "      <td>11966.0</td>\n",
       "      <td>False</td>\n",
       "      <td>4</td>\n",
       "      <td>0.622486</td>\n",
       "      <td>12.0</td>\n",
       "      <td>0.509835</td>\n",
       "      <td>19.0</td>\n",
       "      <td>0.800669</td>\n",
       "      <td>4.0</td>\n",
       "      <td>...</td>\n",
       "      <td>33.0</td>\n",
       "      <td>18.333333</td>\n",
       "      <td>13.377956</td>\n",
       "      <td>4.0</td>\n",
       "      <td>42.0</td>\n",
       "      <td>14.0</td>\n",
       "      <td>0.650429</td>\n",
       "      <td>-0.957383</td>\n",
       "      <td>0.032801</td>\n",
       "      <td>0.020373</td>\n",
       "    </tr>\n",
       "    <tr>\n",
       "      <th>2</th>\n",
       "      <td>0</td>\n",
       "      <td>11875.0</td>\n",
       "      <td>False</td>\n",
       "      <td>0</td>\n",
       "      <td>0.178390</td>\n",
       "      <td>63.0</td>\n",
       "      <td>0.134542</td>\n",
       "      <td>62.0</td>\n",
       "      <td>0.261223</td>\n",
       "      <td>44.0</td>\n",
       "      <td>...</td>\n",
       "      <td>13.0</td>\n",
       "      <td>45.750000</td>\n",
       "      <td>19.386617</td>\n",
       "      <td>13.0</td>\n",
       "      <td>79.0</td>\n",
       "      <td>43.5</td>\n",
       "      <td>0.057103</td>\n",
       "      <td>-0.792077</td>\n",
       "      <td>0.021026</td>\n",
       "      <td>0.020373</td>\n",
       "    </tr>\n",
       "    <tr>\n",
       "      <th>3</th>\n",
       "      <td>0</td>\n",
       "      <td>11699.0</td>\n",
       "      <td>False</td>\n",
       "      <td>2</td>\n",
       "      <td>0.000000</td>\n",
       "      <td>80.0</td>\n",
       "      <td>0.211021</td>\n",
       "      <td>52.0</td>\n",
       "      <td>0.285873</td>\n",
       "      <td>42.0</td>\n",
       "      <td>...</td>\n",
       "      <td>74.0</td>\n",
       "      <td>40.750000</td>\n",
       "      <td>29.652916</td>\n",
       "      <td>2.0</td>\n",
       "      <td>82.0</td>\n",
       "      <td>41.5</td>\n",
       "      <td>0.114113</td>\n",
       "      <td>-1.486611</td>\n",
       "      <td>0.086627</td>\n",
       "      <td>0.020373</td>\n",
       "    </tr>\n",
       "    <tr>\n",
       "      <th>4</th>\n",
       "      <td>0</td>\n",
       "      <td>11580.0</td>\n",
       "      <td>False</td>\n",
       "      <td>0</td>\n",
       "      <td>0.000000</td>\n",
       "      <td>79.0</td>\n",
       "      <td>0.360840</td>\n",
       "      <td>27.0</td>\n",
       "      <td>0.000000</td>\n",
       "      <td>70.0</td>\n",
       "      <td>...</td>\n",
       "      <td>75.0</td>\n",
       "      <td>51.500000</td>\n",
       "      <td>17.202008</td>\n",
       "      <td>27.0</td>\n",
       "      <td>79.0</td>\n",
       "      <td>46.0</td>\n",
       "      <td>0.386355</td>\n",
       "      <td>-1.248334</td>\n",
       "      <td>0.032801</td>\n",
       "      <td>0.020373</td>\n",
       "    </tr>\n",
       "    <tr>\n",
       "      <th>...</th>\n",
       "      <td>...</td>\n",
       "      <td>...</td>\n",
       "      <td>...</td>\n",
       "      <td>...</td>\n",
       "      <td>...</td>\n",
       "      <td>...</td>\n",
       "      <td>...</td>\n",
       "      <td>...</td>\n",
       "      <td>...</td>\n",
       "      <td>...</td>\n",
       "      <td>...</td>\n",
       "      <td>...</td>\n",
       "      <td>...</td>\n",
       "      <td>...</td>\n",
       "      <td>...</td>\n",
       "      <td>...</td>\n",
       "      <td>...</td>\n",
       "      <td>...</td>\n",
       "      <td>...</td>\n",
       "      <td>...</td>\n",
       "      <td>...</td>\n",
       "    </tr>\n",
       "    <tr>\n",
       "      <th>2730498</th>\n",
       "      <td>35735</td>\n",
       "      <td>36092.0</td>\n",
       "      <td>False</td>\n",
       "      <td>0</td>\n",
       "      <td>0.258139</td>\n",
       "      <td>25.0</td>\n",
       "      <td>0.159147</td>\n",
       "      <td>33.0</td>\n",
       "      <td>0.114284</td>\n",
       "      <td>44.0</td>\n",
       "      <td>...</td>\n",
       "      <td>17.0</td>\n",
       "      <td>31.916667</td>\n",
       "      <td>13.104186</td>\n",
       "      <td>11.0</td>\n",
       "      <td>56.0</td>\n",
       "      <td>33.0</td>\n",
       "      <td>0.190019</td>\n",
       "      <td>-0.726759</td>\n",
       "      <td>0.017662</td>\n",
       "      <td>0.005576</td>\n",
       "    </tr>\n",
       "    <tr>\n",
       "      <th>2730499</th>\n",
       "      <td>35735</td>\n",
       "      <td>36093.0</td>\n",
       "      <td>False</td>\n",
       "      <td>0</td>\n",
       "      <td>0.119858</td>\n",
       "      <td>43.0</td>\n",
       "      <td>0.092655</td>\n",
       "      <td>45.0</td>\n",
       "      <td>0.191788</td>\n",
       "      <td>30.0</td>\n",
       "      <td>...</td>\n",
       "      <td>15.0</td>\n",
       "      <td>35.666667</td>\n",
       "      <td>11.672293</td>\n",
       "      <td>15.0</td>\n",
       "      <td>49.0</td>\n",
       "      <td>40.5</td>\n",
       "      <td>-0.757271</td>\n",
       "      <td>-0.711292</td>\n",
       "      <td>0.038688</td>\n",
       "      <td>0.005576</td>\n",
       "    </tr>\n",
       "    <tr>\n",
       "      <th>2730500</th>\n",
       "      <td>35735</td>\n",
       "      <td>36097.0</td>\n",
       "      <td>False</td>\n",
       "      <td>0</td>\n",
       "      <td>0.000000</td>\n",
       "      <td>60.0</td>\n",
       "      <td>0.000000</td>\n",
       "      <td>52.0</td>\n",
       "      <td>0.000000</td>\n",
       "      <td>59.0</td>\n",
       "      <td>...</td>\n",
       "      <td>55.0</td>\n",
       "      <td>56.166667</td>\n",
       "      <td>5.556869</td>\n",
       "      <td>46.0</td>\n",
       "      <td>63.0</td>\n",
       "      <td>57.0</td>\n",
       "      <td>-0.481366</td>\n",
       "      <td>-0.844568</td>\n",
       "      <td>0.031119</td>\n",
       "      <td>0.005576</td>\n",
       "    </tr>\n",
       "    <tr>\n",
       "      <th>2730501</th>\n",
       "      <td>35735</td>\n",
       "      <td>36321.0</td>\n",
       "      <td>False</td>\n",
       "      <td>1</td>\n",
       "      <td>0.000000</td>\n",
       "      <td>61.0</td>\n",
       "      <td>0.108260</td>\n",
       "      <td>39.0</td>\n",
       "      <td>0.164294</td>\n",
       "      <td>36.0</td>\n",
       "      <td>...</td>\n",
       "      <td>24.0</td>\n",
       "      <td>34.083333</td>\n",
       "      <td>16.228249</td>\n",
       "      <td>7.0</td>\n",
       "      <td>61.0</td>\n",
       "      <td>36.0</td>\n",
       "      <td>0.016858</td>\n",
       "      <td>-0.766570</td>\n",
       "      <td>0.114382</td>\n",
       "      <td>0.005576</td>\n",
       "    </tr>\n",
       "    <tr>\n",
       "      <th>2730502</th>\n",
       "      <td>35735</td>\n",
       "      <td>38033.0</td>\n",
       "      <td>False</td>\n",
       "      <td>0</td>\n",
       "      <td>0.000000</td>\n",
       "      <td>64.0</td>\n",
       "      <td>0.000000</td>\n",
       "      <td>64.0</td>\n",
       "      <td>0.077983</td>\n",
       "      <td>50.0</td>\n",
       "      <td>...</td>\n",
       "      <td>64.0</td>\n",
       "      <td>39.833333</td>\n",
       "      <td>17.377275</td>\n",
       "      <td>16.0</td>\n",
       "      <td>64.0</td>\n",
       "      <td>34.0</td>\n",
       "      <td>0.330212</td>\n",
       "      <td>-1.326921</td>\n",
       "      <td>0.024390</td>\n",
       "      <td>0.005576</td>\n",
       "    </tr>\n",
       "  </tbody>\n",
       "</table>\n",
       "<p>2730503 rows × 37 columns</p>\n",
       "</div>"
      ],
      "text/plain": [
       "         UserID   ItemID  Label  feature_recommender_count  RP3beta_score  \\\n",
       "0             0     51.0  False                          0       0.434087   \n",
       "1             0  11966.0  False                          4       0.622486   \n",
       "2             0  11875.0  False                          0       0.178390   \n",
       "3             0  11699.0  False                          2       0.000000   \n",
       "4             0  11580.0  False                          0       0.000000   \n",
       "...         ...      ...    ...                        ...            ...   \n",
       "2730498   35735  36092.0  False                          0       0.258139   \n",
       "2730499   35735  36093.0  False                          0       0.119858   \n",
       "2730500   35735  36097.0  False                          0       0.000000   \n",
       "2730501   35735  36321.0  False                          1       0.000000   \n",
       "2730502   35735  38033.0  False                          0       0.000000   \n",
       "\n",
       "         RP3beta_position  P3alpha_score  P3alpha_position  ItemKNNCF_score  \\\n",
       "0                    29.0       0.559818              12.0         0.477179   \n",
       "1                    12.0       0.509835              19.0         0.800669   \n",
       "2                    63.0       0.134542              62.0         0.261223   \n",
       "3                    80.0       0.211021              52.0         0.285873   \n",
       "4                    79.0       0.360840              27.0         0.000000   \n",
       "...                   ...            ...               ...              ...   \n",
       "2730498              25.0       0.159147              33.0         0.114284   \n",
       "2730499              43.0       0.092655              45.0         0.191788   \n",
       "2730500              60.0       0.000000              52.0         0.000000   \n",
       "2730501              61.0       0.108260              39.0         0.164294   \n",
       "2730502              64.0       0.000000              64.0         0.077983   \n",
       "\n",
       "         ItemKNNCF_position  ...  SLIM_BPR_position  Mean_Position  \\\n",
       "0                      19.0  ...               34.0      47.166667   \n",
       "1                       4.0  ...               33.0      18.333333   \n",
       "2                      44.0  ...               13.0      45.750000   \n",
       "3                      42.0  ...               74.0      40.750000   \n",
       "4                      70.0  ...               75.0      51.500000   \n",
       "...                     ...  ...                ...            ...   \n",
       "2730498                44.0  ...               17.0      31.916667   \n",
       "2730499                30.0  ...               15.0      35.666667   \n",
       "2730500                59.0  ...               55.0      56.166667   \n",
       "2730501                36.0  ...               24.0      34.083333   \n",
       "2730502                50.0  ...               64.0      39.833333   \n",
       "\n",
       "         Std_Position  Min_Position  Max_Position  Median_Position  \\\n",
       "0           27.185669          12.0          78.0             41.0   \n",
       "1           13.377956           4.0          42.0             14.0   \n",
       "2           19.386617          13.0          79.0             43.5   \n",
       "3           29.652916           2.0          82.0             41.5   \n",
       "4           17.202008          27.0          79.0             46.0   \n",
       "...               ...           ...           ...              ...   \n",
       "2730498     13.104186          11.0          56.0             33.0   \n",
       "2730499     11.672293          15.0          49.0             40.5   \n",
       "2730500      5.556869          46.0          63.0             57.0   \n",
       "2730501     16.228249           7.0          61.0             36.0   \n",
       "2730502     17.377275          16.0          64.0             34.0   \n",
       "\n",
       "         Skew_Position  Kurtosis_Position  item_popularity  user_profile_len  \n",
       "0             0.011792          -1.686444         0.109336          0.020373  \n",
       "1             0.650429          -0.957383         0.032801          0.020373  \n",
       "2             0.057103          -0.792077         0.021026          0.020373  \n",
       "3             0.114113          -1.486611         0.086627          0.020373  \n",
       "4             0.386355          -1.248334         0.032801          0.020373  \n",
       "...                ...                ...              ...               ...  \n",
       "2730498       0.190019          -0.726759         0.017662          0.005576  \n",
       "2730499      -0.757271          -0.711292         0.038688          0.005576  \n",
       "2730500      -0.481366          -0.844568         0.031119          0.005576  \n",
       "2730501       0.016858          -0.766570         0.114382          0.005576  \n",
       "2730502       0.330212          -1.326921         0.024390          0.005576  \n",
       "\n",
       "[2730503 rows x 37 columns]"
      ]
     },
     "metadata": {},
     "output_type": "display_data"
    }
   ],
   "source": [
    "if config[\"tune_best_params\"]:\n",
    "    display(testing_dataframe)"
   ]
  },
  {
   "cell_type": "code",
   "execution_count": 27,
   "id": "8bfb926a",
   "metadata": {
    "execution": {
     "iopub.execute_input": "2025-01-07T18:40:01.604023Z",
     "iopub.status.busy": "2025-01-07T18:40:01.603574Z",
     "iopub.status.idle": "2025-01-07T18:40:06.272637Z",
     "shell.execute_reply": "2025-01-07T18:40:06.271676Z"
    },
    "papermill": {
     "duration": 4.699813,
     "end_time": "2025-01-07T18:40:06.274727",
     "exception": false,
     "start_time": "2025-01-07T18:40:01.574914",
     "status": "completed"
    },
    "tags": []
   },
   "outputs": [
    {
     "name": "stdout",
     "output_type": "stream",
     "text": [
      "prediction_dataframe loaded.\n"
     ]
    },
    {
     "data": {
      "text/html": [
       "<div>\n",
       "<style scoped>\n",
       "    .dataframe tbody tr th:only-of-type {\n",
       "        vertical-align: middle;\n",
       "    }\n",
       "\n",
       "    .dataframe tbody tr th {\n",
       "        vertical-align: top;\n",
       "    }\n",
       "\n",
       "    .dataframe thead th {\n",
       "        text-align: right;\n",
       "    }\n",
       "</style>\n",
       "<table border=\"1\" class=\"dataframe\">\n",
       "  <thead>\n",
       "    <tr style=\"text-align: right;\">\n",
       "      <th></th>\n",
       "      <th>UserID</th>\n",
       "      <th>ItemID</th>\n",
       "      <th>feature_recommender_count</th>\n",
       "      <th>RP3beta_score</th>\n",
       "      <th>RP3beta_position</th>\n",
       "      <th>P3alpha_score</th>\n",
       "      <th>P3alpha_position</th>\n",
       "      <th>ItemKNNCF_score</th>\n",
       "      <th>ItemKNNCF_position</th>\n",
       "      <th>ItemKNNCBF_score</th>\n",
       "      <th>...</th>\n",
       "      <th>SLIM_BPR_position</th>\n",
       "      <th>Mean_Position</th>\n",
       "      <th>Std_Position</th>\n",
       "      <th>Min_Position</th>\n",
       "      <th>Max_Position</th>\n",
       "      <th>Median_Position</th>\n",
       "      <th>Skew_Position</th>\n",
       "      <th>Kurtosis_Position</th>\n",
       "      <th>item_popularity</th>\n",
       "      <th>user_profile_len</th>\n",
       "    </tr>\n",
       "  </thead>\n",
       "  <tbody>\n",
       "    <tr>\n",
       "      <th>0</th>\n",
       "      <td>0</td>\n",
       "      <td>39.0</td>\n",
       "      <td>0</td>\n",
       "      <td>0.206258</td>\n",
       "      <td>61.0</td>\n",
       "      <td>0.207786</td>\n",
       "      <td>59.0</td>\n",
       "      <td>0.000000</td>\n",
       "      <td>77.0</td>\n",
       "      <td>0.000000</td>\n",
       "      <td>...</td>\n",
       "      <td>23.0</td>\n",
       "      <td>57.166667</td>\n",
       "      <td>16.303002</td>\n",
       "      <td>23.0</td>\n",
       "      <td>77.0</td>\n",
       "      <td>61.0</td>\n",
       "      <td>-0.784565</td>\n",
       "      <td>-0.300162</td>\n",
       "      <td>0.214286</td>\n",
       "      <td>0.019338</td>\n",
       "    </tr>\n",
       "    <tr>\n",
       "      <th>1</th>\n",
       "      <td>0</td>\n",
       "      <td>11966.0</td>\n",
       "      <td>7</td>\n",
       "      <td>0.953207</td>\n",
       "      <td>2.0</td>\n",
       "      <td>0.684547</td>\n",
       "      <td>4.0</td>\n",
       "      <td>0.402443</td>\n",
       "      <td>31.0</td>\n",
       "      <td>0.000000</td>\n",
       "      <td>...</td>\n",
       "      <td>45.0</td>\n",
       "      <td>16.916667</td>\n",
       "      <td>16.323203</td>\n",
       "      <td>2.0</td>\n",
       "      <td>45.0</td>\n",
       "      <td>6.5</td>\n",
       "      <td>0.591674</td>\n",
       "      <td>-1.314870</td>\n",
       "      <td>0.035374</td>\n",
       "      <td>0.019338</td>\n",
       "    </tr>\n",
       "    <tr>\n",
       "      <th>2</th>\n",
       "      <td>0</td>\n",
       "      <td>11875.0</td>\n",
       "      <td>0</td>\n",
       "      <td>0.146607</td>\n",
       "      <td>69.0</td>\n",
       "      <td>0.000000</td>\n",
       "      <td>76.0</td>\n",
       "      <td>0.151048</td>\n",
       "      <td>62.0</td>\n",
       "      <td>0.000000</td>\n",
       "      <td>...</td>\n",
       "      <td>51.0</td>\n",
       "      <td>52.500000</td>\n",
       "      <td>17.212575</td>\n",
       "      <td>22.0</td>\n",
       "      <td>77.0</td>\n",
       "      <td>49.0</td>\n",
       "      <td>-0.063678</td>\n",
       "      <td>-0.994721</td>\n",
       "      <td>0.017007</td>\n",
       "      <td>0.019338</td>\n",
       "    </tr>\n",
       "    <tr>\n",
       "      <th>3</th>\n",
       "      <td>0</td>\n",
       "      <td>11699.0</td>\n",
       "      <td>7</td>\n",
       "      <td>0.220013</td>\n",
       "      <td>57.0</td>\n",
       "      <td>0.557208</td>\n",
       "      <td>8.0</td>\n",
       "      <td>0.460461</td>\n",
       "      <td>24.0</td>\n",
       "      <td>0.264413</td>\n",
       "      <td>...</td>\n",
       "      <td>10.0</td>\n",
       "      <td>18.916667</td>\n",
       "      <td>20.999820</td>\n",
       "      <td>1.0</td>\n",
       "      <td>65.0</td>\n",
       "      <td>9.5</td>\n",
       "      <td>1.397884</td>\n",
       "      <td>0.500086</td>\n",
       "      <td>0.089796</td>\n",
       "      <td>0.019338</td>\n",
       "    </tr>\n",
       "    <tr>\n",
       "      <th>4</th>\n",
       "      <td>0</td>\n",
       "      <td>11580.0</td>\n",
       "      <td>0</td>\n",
       "      <td>0.315870</td>\n",
       "      <td>48.0</td>\n",
       "      <td>0.239785</td>\n",
       "      <td>50.0</td>\n",
       "      <td>0.337058</td>\n",
       "      <td>35.0</td>\n",
       "      <td>0.000000</td>\n",
       "      <td>...</td>\n",
       "      <td>36.0</td>\n",
       "      <td>36.833333</td>\n",
       "      <td>12.861736</td>\n",
       "      <td>19.0</td>\n",
       "      <td>64.0</td>\n",
       "      <td>36.0</td>\n",
       "      <td>0.510445</td>\n",
       "      <td>-0.096555</td>\n",
       "      <td>0.031973</td>\n",
       "      <td>0.019338</td>\n",
       "    </tr>\n",
       "    <tr>\n",
       "      <th>...</th>\n",
       "      <td>...</td>\n",
       "      <td>...</td>\n",
       "      <td>...</td>\n",
       "      <td>...</td>\n",
       "      <td>...</td>\n",
       "      <td>...</td>\n",
       "      <td>...</td>\n",
       "      <td>...</td>\n",
       "      <td>...</td>\n",
       "      <td>...</td>\n",
       "      <td>...</td>\n",
       "      <td>...</td>\n",
       "      <td>...</td>\n",
       "      <td>...</td>\n",
       "      <td>...</td>\n",
       "      <td>...</td>\n",
       "      <td>...</td>\n",
       "      <td>...</td>\n",
       "      <td>...</td>\n",
       "      <td>...</td>\n",
       "      <td>...</td>\n",
       "    </tr>\n",
       "    <tr>\n",
       "      <th>2741148</th>\n",
       "      <td>35735</td>\n",
       "      <td>36087.0</td>\n",
       "      <td>2</td>\n",
       "      <td>0.192971</td>\n",
       "      <td>25.0</td>\n",
       "      <td>0.336049</td>\n",
       "      <td>15.0</td>\n",
       "      <td>0.415526</td>\n",
       "      <td>13.0</td>\n",
       "      <td>0.557786</td>\n",
       "      <td>...</td>\n",
       "      <td>16.0</td>\n",
       "      <td>20.166667</td>\n",
       "      <td>11.215520</td>\n",
       "      <td>5.0</td>\n",
       "      <td>43.0</td>\n",
       "      <td>17.5</td>\n",
       "      <td>0.816948</td>\n",
       "      <td>-0.206112</td>\n",
       "      <td>0.058503</td>\n",
       "      <td>0.006277</td>\n",
       "    </tr>\n",
       "    <tr>\n",
       "      <th>2741149</th>\n",
       "      <td>35735</td>\n",
       "      <td>36092.0</td>\n",
       "      <td>0</td>\n",
       "      <td>0.176088</td>\n",
       "      <td>27.0</td>\n",
       "      <td>0.060121</td>\n",
       "      <td>48.0</td>\n",
       "      <td>0.199304</td>\n",
       "      <td>30.0</td>\n",
       "      <td>0.000000</td>\n",
       "      <td>...</td>\n",
       "      <td>29.0</td>\n",
       "      <td>34.083333</td>\n",
       "      <td>8.425700</td>\n",
       "      <td>26.0</td>\n",
       "      <td>53.0</td>\n",
       "      <td>31.0</td>\n",
       "      <td>1.318766</td>\n",
       "      <td>0.438210</td>\n",
       "      <td>0.017007</td>\n",
       "      <td>0.006277</td>\n",
       "    </tr>\n",
       "    <tr>\n",
       "      <th>2741150</th>\n",
       "      <td>35735</td>\n",
       "      <td>36093.0</td>\n",
       "      <td>0</td>\n",
       "      <td>0.169507</td>\n",
       "      <td>30.0</td>\n",
       "      <td>0.155438</td>\n",
       "      <td>31.0</td>\n",
       "      <td>0.296087</td>\n",
       "      <td>20.0</td>\n",
       "      <td>0.446229</td>\n",
       "      <td>...</td>\n",
       "      <td>24.0</td>\n",
       "      <td>26.750000</td>\n",
       "      <td>9.343204</td>\n",
       "      <td>12.0</td>\n",
       "      <td>42.0</td>\n",
       "      <td>27.0</td>\n",
       "      <td>-0.053391</td>\n",
       "      <td>-1.130060</td>\n",
       "      <td>0.044898</td>\n",
       "      <td>0.006277</td>\n",
       "    </tr>\n",
       "    <tr>\n",
       "      <th>2741151</th>\n",
       "      <td>35735</td>\n",
       "      <td>36164.0</td>\n",
       "      <td>0</td>\n",
       "      <td>0.204443</td>\n",
       "      <td>23.0</td>\n",
       "      <td>0.173084</td>\n",
       "      <td>28.0</td>\n",
       "      <td>0.141923</td>\n",
       "      <td>43.0</td>\n",
       "      <td>0.000000</td>\n",
       "      <td>...</td>\n",
       "      <td>20.0</td>\n",
       "      <td>31.000000</td>\n",
       "      <td>10.795622</td>\n",
       "      <td>18.0</td>\n",
       "      <td>47.0</td>\n",
       "      <td>27.5</td>\n",
       "      <td>0.452351</td>\n",
       "      <td>-1.359306</td>\n",
       "      <td>0.016327</td>\n",
       "      <td>0.006277</td>\n",
       "    </tr>\n",
       "    <tr>\n",
       "      <th>2741152</th>\n",
       "      <td>35735</td>\n",
       "      <td>38033.0</td>\n",
       "      <td>2</td>\n",
       "      <td>0.284504</td>\n",
       "      <td>18.0</td>\n",
       "      <td>0.254186</td>\n",
       "      <td>21.0</td>\n",
       "      <td>0.235036</td>\n",
       "      <td>27.0</td>\n",
       "      <td>0.999997</td>\n",
       "      <td>...</td>\n",
       "      <td>15.0</td>\n",
       "      <td>21.250000</td>\n",
       "      <td>11.879126</td>\n",
       "      <td>1.0</td>\n",
       "      <td>45.0</td>\n",
       "      <td>19.5</td>\n",
       "      <td>0.573492</td>\n",
       "      <td>0.131641</td>\n",
       "      <td>0.026531</td>\n",
       "      <td>0.006277</td>\n",
       "    </tr>\n",
       "  </tbody>\n",
       "</table>\n",
       "<p>2741153 rows × 36 columns</p>\n",
       "</div>"
      ],
      "text/plain": [
       "         UserID   ItemID  feature_recommender_count  RP3beta_score  \\\n",
       "0             0     39.0                          0       0.206258   \n",
       "1             0  11966.0                          7       0.953207   \n",
       "2             0  11875.0                          0       0.146607   \n",
       "3             0  11699.0                          7       0.220013   \n",
       "4             0  11580.0                          0       0.315870   \n",
       "...         ...      ...                        ...            ...   \n",
       "2741148   35735  36087.0                          2       0.192971   \n",
       "2741149   35735  36092.0                          0       0.176088   \n",
       "2741150   35735  36093.0                          0       0.169507   \n",
       "2741151   35735  36164.0                          0       0.204443   \n",
       "2741152   35735  38033.0                          2       0.284504   \n",
       "\n",
       "         RP3beta_position  P3alpha_score  P3alpha_position  ItemKNNCF_score  \\\n",
       "0                    61.0       0.207786              59.0         0.000000   \n",
       "1                     2.0       0.684547               4.0         0.402443   \n",
       "2                    69.0       0.000000              76.0         0.151048   \n",
       "3                    57.0       0.557208               8.0         0.460461   \n",
       "4                    48.0       0.239785              50.0         0.337058   \n",
       "...                   ...            ...               ...              ...   \n",
       "2741148              25.0       0.336049              15.0         0.415526   \n",
       "2741149              27.0       0.060121              48.0         0.199304   \n",
       "2741150              30.0       0.155438              31.0         0.296087   \n",
       "2741151              23.0       0.173084              28.0         0.141923   \n",
       "2741152              18.0       0.254186              21.0         0.235036   \n",
       "\n",
       "         ItemKNNCF_position  ItemKNNCBF_score  ...  SLIM_BPR_position  \\\n",
       "0                      77.0          0.000000  ...               23.0   \n",
       "1                      31.0          0.000000  ...               45.0   \n",
       "2                      62.0          0.000000  ...               51.0   \n",
       "3                      24.0          0.264413  ...               10.0   \n",
       "4                      35.0          0.000000  ...               36.0   \n",
       "...                     ...               ...  ...                ...   \n",
       "2741148                13.0          0.557786  ...               16.0   \n",
       "2741149                30.0          0.000000  ...               29.0   \n",
       "2741150                20.0          0.446229  ...               24.0   \n",
       "2741151                43.0          0.000000  ...               20.0   \n",
       "2741152                27.0          0.999997  ...               15.0   \n",
       "\n",
       "         Mean_Position  Std_Position  Min_Position  Max_Position  \\\n",
       "0            57.166667     16.303002          23.0          77.0   \n",
       "1            16.916667     16.323203           2.0          45.0   \n",
       "2            52.500000     17.212575          22.0          77.0   \n",
       "3            18.916667     20.999820           1.0          65.0   \n",
       "4            36.833333     12.861736          19.0          64.0   \n",
       "...                ...           ...           ...           ...   \n",
       "2741148      20.166667     11.215520           5.0          43.0   \n",
       "2741149      34.083333      8.425700          26.0          53.0   \n",
       "2741150      26.750000      9.343204          12.0          42.0   \n",
       "2741151      31.000000     10.795622          18.0          47.0   \n",
       "2741152      21.250000     11.879126           1.0          45.0   \n",
       "\n",
       "         Median_Position  Skew_Position  Kurtosis_Position  item_popularity  \\\n",
       "0                   61.0      -0.784565          -0.300162         0.214286   \n",
       "1                    6.5       0.591674          -1.314870         0.035374   \n",
       "2                   49.0      -0.063678          -0.994721         0.017007   \n",
       "3                    9.5       1.397884           0.500086         0.089796   \n",
       "4                   36.0       0.510445          -0.096555         0.031973   \n",
       "...                  ...            ...                ...              ...   \n",
       "2741148             17.5       0.816948          -0.206112         0.058503   \n",
       "2741149             31.0       1.318766           0.438210         0.017007   \n",
       "2741150             27.0      -0.053391          -1.130060         0.044898   \n",
       "2741151             27.5       0.452351          -1.359306         0.016327   \n",
       "2741152             19.5       0.573492           0.131641         0.026531   \n",
       "\n",
       "         user_profile_len  \n",
       "0                0.019338  \n",
       "1                0.019338  \n",
       "2                0.019338  \n",
       "3                0.019338  \n",
       "4                0.019338  \n",
       "...                   ...  \n",
       "2741148          0.006277  \n",
       "2741149          0.006277  \n",
       "2741150          0.006277  \n",
       "2741151          0.006277  \n",
       "2741152          0.006277  \n",
       "\n",
       "[2741153 rows x 36 columns]"
      ]
     },
     "metadata": {},
     "output_type": "display_data"
    }
   ],
   "source": [
    "if config[\"tune_best_params\"]:\n",
    "    \n",
    "    if os.path.exists(dataframes_path + f'/prediction_dataframe_{config[\"model\"]}.parquet'):\n",
    "        prediction_dataframe = pd.read_parquet(dataframes_path + f'/prediction_dataframe_{config[\"model\"]}.parquet')\n",
    "        print(\"prediction_dataframe loaded.\")\n",
    "    \n",
    "    else:\n",
    "\n",
    "        print(\"***TRAINING CONTENT GENERATION RECOMMENDERS***\\n\")\n",
    "        candidate_generator_recommenders = fit_recommenders(\"Recall\", \"TrainValTest\", URM_all, ICM_all, cg_recommenders, GH_PATH_1, \"cg\", repo, take_kfcv_models=True)\n",
    "\n",
    "        print(\"***TRAINING FEATURE RECOMMENDERS***\\n\")\n",
    "        features_recommenders = fit_recommenders(\"MAP\", \"TrainValTest\", URM_all, ICM_all, f_recommenders, GH_PATH_1, \"f\", repo, take_kfcv_models=True)\n",
    "\n",
    "        print()\n",
    "        prediction_dataframe = create_XGBoost_dataframe(URM_all, candidate_generator_recommenders, features_recommenders, ICM_all, cutoff=50, categorical=config[\"categorical\"], contents=config[\"contents\"])\n",
    "        prediction_dataframe.to_parquet(f'/kaggle/working/prediction_dataframe_{config[\"model\"]}.parquet')\n",
    "\n",
    "        del candidate_generator_recommenders, features_recommenders\n",
    "    \n",
    "    display(prediction_dataframe)\n",
    "\n",
    "    y_test = testing_dataframe[\"Label\"]\n",
    "    X_test = testing_dataframe.drop(columns=[\"Label\"])\n",
    "\n",
    "    del testing_dataframe"
   ]
  },
  {
   "cell_type": "markdown",
   "id": "c0b6ca9d",
   "metadata": {
    "papermill": {
     "duration": 0.028392,
     "end_time": "2025-01-07T18:40:06.332256",
     "exception": false,
     "start_time": "2025-01-07T18:40:06.303864",
     "status": "completed"
    },
    "tags": []
   },
   "source": [
    "### Train best XGBoost model"
   ]
  },
  {
   "cell_type": "code",
   "execution_count": 28,
   "id": "57ac464d",
   "metadata": {
    "execution": {
     "iopub.execute_input": "2025-01-07T18:40:06.390462Z",
     "iopub.status.busy": "2025-01-07T18:40:06.390076Z",
     "iopub.status.idle": "2025-01-07T18:44:11.685896Z",
     "shell.execute_reply": "2025-01-07T18:44:11.684581Z"
    },
    "papermill": {
     "duration": 245.32775,
     "end_time": "2025-01-07T18:44:11.688394",
     "exception": false,
     "start_time": "2025-01-07T18:40:06.360644",
     "status": "completed"
    },
    "tags": []
   },
   "outputs": [],
   "source": [
    "if config['tune_best_params']:\n",
    "\n",
    "    if config['tune_parameters']:\n",
    "        best_params = optuna_study.best_trial.params\n",
    "    else: \n",
    "        with open(f'{K_PATH}/{GH_PATH}/{D_PATH}/{config[\"model\"]}Recommender/Optimizing{config[\"metric\"]}/best_params_{config[\"model\"]}_{config[\"metric\"]}.json', 'r') as best_params_json:\n",
    "            best_params = json.load(best_params_json)\n",
    "\n",
    "    recommender_instance = XGBoostRankerRecommender(URM_all, X_test, y_test, prediction_dataframe)\n",
    "    recommender_instance.fit(\n",
    "        groups_test,\n",
    "        **best_params\n",
    "    )"
   ]
  },
  {
   "cell_type": "markdown",
   "id": "55261627",
   "metadata": {
    "papermill": {
     "duration": 0.035834,
     "end_time": "2025-01-07T18:44:11.768364",
     "exception": false,
     "start_time": "2025-01-07T18:44:11.732530",
     "status": "completed"
    },
    "tags": []
   },
   "source": [
    "## Feature importance"
   ]
  },
  {
   "cell_type": "code",
   "execution_count": 29,
   "id": "5d70f2d6",
   "metadata": {
    "execution": {
     "iopub.execute_input": "2025-01-07T18:44:11.827535Z",
     "iopub.status.busy": "2025-01-07T18:44:11.827168Z",
     "iopub.status.idle": "2025-01-07T18:44:12.612833Z",
     "shell.execute_reply": "2025-01-07T18:44:12.611561Z"
    },
    "papermill": {
     "duration": 0.819605,
     "end_time": "2025-01-07T18:44:12.616995",
     "exception": false,
     "start_time": "2025-01-07T18:44:11.797390",
     "status": "completed"
    },
    "tags": []
   },
   "outputs": [
    {
     "data": {
      "image/png": "[encoded data removed]",
      "text/plain": [
       "<Figure size 640x480 with 1 Axes>"
      ]
     },
     "metadata": {},
     "output_type": "display_data"
    }
   ],
   "source": [
    "if config['tune_best_params']:\n",
    "    plot_importance(recommender_instance.model, importance_type='gain', title='Gain')"
   ]
  },
  {
   "cell_type": "code",
   "execution_count": 30,
   "id": "ab39cd1e",
   "metadata": {
    "execution": {
     "iopub.execute_input": "2025-01-07T18:44:12.688671Z",
     "iopub.status.busy": "2025-01-07T18:44:12.688205Z",
     "iopub.status.idle": "2025-01-07T18:44:13.421048Z",
     "shell.execute_reply": "2025-01-07T18:44:13.419790Z"
    },
    "papermill": {
     "duration": 0.770949,
     "end_time": "2025-01-07T18:44:13.424272",
     "exception": false,
     "start_time": "2025-01-07T18:44:12.653323",
     "status": "completed"
    },
    "tags": []
   },
   "outputs": [
    {
     "data": {
      "image/png": "[encoded data removed]",
      "text/plain": [
       "<Figure size 640x480 with 1 Axes>"
      ]
     },
     "metadata": {},
     "output_type": "display_data"
    }
   ],
   "source": [
    "if config['tune_best_params']:\n",
    "    plot_importance(recommender_instance.model, importance_type='cover', title='Cover')"
   ]
  },
  {
   "cell_type": "code",
   "execution_count": 31,
   "id": "4b3ca592",
   "metadata": {
    "_kg_hide-output": true,
    "execution": {
     "iopub.execute_input": "2025-01-07T18:44:13.503134Z",
     "iopub.status.busy": "2025-01-07T18:44:13.502745Z",
     "iopub.status.idle": "2025-01-07T18:44:14.179841Z",
     "shell.execute_reply": "2025-01-07T18:44:14.178703Z"
    },
    "papermill": {
     "duration": 0.718856,
     "end_time": "2025-01-07T18:44:14.182014",
     "exception": false,
     "start_time": "2025-01-07T18:44:13.463158",
     "status": "completed"
    },
    "tags": []
   },
   "outputs": [
    {
     "data": {
      "image/png": "[encoded data removed]",
      "text/plain": [
       "<Figure size 640x480 with 1 Axes>"
      ]
     },
     "metadata": {},
     "output_type": "display_data"
    }
   ],
   "source": [
    "if config['tune_best_params']:\n",
    "    plot_importance(recommender_instance.model, importance_type='weight', title='Weight (Frequence)')"
   ]
  },
  {
   "attachments": {},
   "cell_type": "markdown",
   "id": "1ce942bb",
   "metadata": {
    "papermill": {
     "duration": 0.039052,
     "end_time": "2025-01-07T18:44:14.262364",
     "exception": false,
     "start_time": "2025-01-07T18:44:14.223312",
     "status": "completed"
    },
    "tags": []
   },
   "source": [
    "# Submission\n",
    "\n",
    "Create the recommendations for the submission."
   ]
  },
  {
   "cell_type": "code",
   "execution_count": 32,
   "id": "4775dc3d",
   "metadata": {
    "execution": {
     "iopub.execute_input": "2025-01-07T18:44:14.342381Z",
     "iopub.status.busy": "2025-01-07T18:44:14.341976Z",
     "iopub.status.idle": "2025-01-07T18:51:08.900705Z",
     "shell.execute_reply": "2025-01-07T18:51:08.899503Z"
    },
    "papermill": {
     "duration": 414.643349,
     "end_time": "2025-01-07T18:51:08.944742",
     "exception": false,
     "start_time": "2025-01-07T18:44:14.301393",
     "status": "completed"
    },
    "tags": []
   },
   "outputs": [
    {
     "name": "stdout",
     "output_type": "stream",
     "text": [
      "Submission file saved as /kaggle/working/submission_XGBoostNoCont_MAP.csv\n"
     ]
    }
   ],
   "source": [
    "if config['tune_best_params']:\n",
    "\n",
    "    data_target_users_test = pd.read_csv('/kaggle/input/recommender-system-2024-challenge-polimi/data_target_users_test.csv')\n",
    "    create_submission(data_target_users_test, recommender_instance, f'/kaggle/working/submission_{config[\"model\"]}_{config[\"metric\"]}.csv')"
   ]
  },
  {
   "attachments": {},
   "cell_type": "markdown",
   "id": "02def87f",
   "metadata": {
    "papermill": {
     "duration": 0.039512,
     "end_time": "2025-01-07T18:51:09.023948",
     "exception": false,
     "start_time": "2025-01-07T18:51:08.984436",
     "status": "completed"
    },
    "tags": []
   },
   "source": [
    "# Save Version on GitHub \n",
    "\n",
    "Write or import a json file where best hyperparameters are saved. "
   ]
  },
  {
   "cell_type": "code",
   "execution_count": 33,
   "id": "92f3134b",
   "metadata": {
    "execution": {
     "iopub.execute_input": "2025-01-07T18:51:09.107431Z",
     "iopub.status.busy": "2025-01-07T18:51:09.107038Z",
     "iopub.status.idle": "2025-01-07T18:51:10.742490Z",
     "shell.execute_reply": "2025-01-07T18:51:10.741325Z"
    },
    "papermill": {
     "duration": 1.678398,
     "end_time": "2025-01-07T18:51:10.744254",
     "exception": false,
     "start_time": "2025-01-07T18:51:09.065856",
     "status": "completed"
    },
    "tags": []
   },
   "outputs": [
    {
     "name": "stdout",
     "output_type": "stream",
     "text": [
      "File 'TrainedModels/WithKFCV/XGBoost/XGBoostNoContRecommender/OptimizingMAP/best_params_XGBoostNoCont_MAP.json' created successfully.\n"
     ]
    }
   ],
   "source": [
    "if config['tune_parameters']:\n",
    "    with open(f'/kaggle/working/best_params_{config[\"model\"]}_{config[\"metric\"]}.json', 'w') as params_file:\n",
    "        json.dump(optuna_study.best_params, params_file)\n",
    "        \n",
    "    if config['save_github']:\n",
    "        upload_file(\n",
    "            f'/kaggle/working/best_params_{config[\"model\"]}_{config[\"metric\"]}.json', \n",
    "            f'{GH_PATH}/{D_PATH}/{config[\"model\"]}Recommender/Optimizing{config[\"metric\"]}/best_params_{config[\"model\"]}_{config[\"metric\"]}.json', \n",
    "            f'{config[\"model\"]}_{config[\"metric\"]} tuning results (from kaggle notebook)',\n",
    "            repo\n",
    "        )\n",
    "elif config['copy_prev_best_params']:\n",
    "    shutil.copyfile(\n",
    "        f'{K_PATH}/{GH_PATH}/{D_PATH}/{config[\"model\"]}Recommender/Optimizing{config[\"metric\"]}/'\\\n",
    "        f'best_params_{config[\"model\"]}_{config[\"metric\"]}.json', \n",
    "        f'/kaggle/working/best_params_{config[\"model\"]}_{config[\"metric\"]}.json'\n",
    "    )"
   ]
  },
  {
   "cell_type": "markdown",
   "id": "a7e9f838",
   "metadata": {
    "execution": {
     "iopub.execute_input": "2024-11-14T00:41:34.294243Z",
     "iopub.status.busy": "2024-11-14T00:41:34.293739Z",
     "iopub.status.idle": "2024-11-14T00:41:34.301478Z",
     "shell.execute_reply": "2024-11-14T00:41:34.299869Z",
     "shell.execute_reply.started": "2024-11-14T00:41:34.294186Z"
    },
    "papermill": {
     "duration": 0.040147,
     "end_time": "2025-01-07T18:51:10.824641",
     "exception": false,
     "start_time": "2025-01-07T18:51:10.784494",
     "status": "completed"
    },
    "tags": []
   },
   "source": [
    "Save the history of the tuned model."
   ]
  },
  {
   "cell_type": "code",
   "execution_count": 34,
   "id": "a37d33e6",
   "metadata": {
    "execution": {
     "iopub.execute_input": "2025-01-07T18:51:10.906221Z",
     "iopub.status.busy": "2025-01-07T18:51:10.905840Z",
     "iopub.status.idle": "2025-01-07T18:51:12.947898Z",
     "shell.execute_reply": "2025-01-07T18:51:12.946590Z"
    },
    "papermill": {
     "duration": 2.084954,
     "end_time": "2025-01-07T18:51:12.949661",
     "exception": false,
     "start_time": "2025-01-07T18:51:10.864707",
     "status": "completed"
    },
    "tags": []
   },
   "outputs": [
    {
     "name": "stdout",
     "output_type": "stream",
     "text": [
      "File 'TrainedModels/WithKFCV/XGBoost/XGBoostNoContRecommender/OptimizingMAP/history_XGBoostNoCont_MAP.db' created successfully.\n"
     ]
    }
   ],
   "source": [
    "if config['save_github'] and config['tune_parameters']:\n",
    "    upload_file(\n",
    "        config['database_path'], \n",
    "        f'{GH_PATH}/{D_PATH}/{config[\"model\"]}Recommender/Optimizing{config[\"metric\"]}/history_{config[\"model\"]}_{config[\"metric\"]}.db',\n",
    "        f'Tuning {config[\"model\"]}_{config[\"metric\"]} db updated results (from kaggle notebook)',\n",
    "        repo\n",
    "    )"
   ]
  },
  {
   "cell_type": "markdown",
   "id": "b73b6a94",
   "metadata": {
    "papermill": {
     "duration": 0.039305,
     "end_time": "2025-01-07T18:51:13.029271",
     "exception": false,
     "start_time": "2025-01-07T18:51:12.989966",
     "status": "completed"
    },
    "tags": []
   },
   "source": [
    "Save the best trained model and its submission."
   ]
  },
  {
   "cell_type": "code",
   "execution_count": 35,
   "id": "52a032fb",
   "metadata": {
    "execution": {
     "iopub.execute_input": "2025-01-07T18:51:13.111820Z",
     "iopub.status.busy": "2025-01-07T18:51:13.111400Z",
     "iopub.status.idle": "2025-01-07T18:51:15.950721Z",
     "shell.execute_reply": "2025-01-07T18:51:15.949527Z"
    },
    "papermill": {
     "duration": 2.881552,
     "end_time": "2025-01-07T18:51:15.952514",
     "exception": false,
     "start_time": "2025-01-07T18:51:13.070962",
     "status": "completed"
    },
    "tags": []
   },
   "outputs": [
    {
     "name": "stdout",
     "output_type": "stream",
     "text": [
      "File 'TrainedModels/WithKFCV/XGBoost/XGBoostNoContRecommender/OptimizingMAP/Submission/submission_XGBoostNoCont_MAP.csv' created successfully.\n"
     ]
    }
   ],
   "source": [
    "if config['save_github'] and config['tune_best_params']: \n",
    "    upload_file(\n",
    "                f'/kaggle/working/submission_{config[\"model\"]}_{config[\"metric\"]}.csv', \n",
    "                f'{GH_PATH}/{D_PATH}/{config[\"model\"]}Recommender/Optimizing{config[\"metric\"]}/Submission/submission_{config[\"model\"]}_{config[\"metric\"]}.csv', \n",
    "                f'New {config[\"model\"]}_{config[\"metric\"]} submission (from kaggle notebook)',\n",
    "                repo\n",
    "            )"
   ]
  }
 ],
 "metadata": {
  "kaggle": {
   "accelerator": "none",
   "dataSources": [
    {
     "databundleVersionId": 9982103,
     "sourceId": 87439,
     "sourceType": "competition"
    },
    {
     "datasetId": 6390368,
     "sourceId": 10321338,
     "sourceType": "datasetVersion"
    },
    {
     "datasetId": 6390688,
     "sourceId": 10321786,
     "sourceType": "datasetVersion"
    },
    {
     "datasetId": 6390755,
     "sourceId": 10321877,
     "sourceType": "datasetVersion"
    },
    {
     "datasetId": 6391122,
     "sourceId": 10322447,
     "sourceType": "datasetVersion"
    },
    {
     "datasetId": 6392420,
     "sourceId": 10324491,
     "sourceType": "datasetVersion"
    },
    {
     "datasetId": 6392432,
     "sourceId": 10324507,
     "sourceType": "datasetVersion"
    },
    {
     "datasetId": 6392448,
     "sourceId": 10324524,
     "sourceType": "datasetVersion"
    },
    {
     "datasetId": 6392454,
     "sourceId": 10324531,
     "sourceType": "datasetVersion"
    },
    {
     "datasetId": 6392495,
     "sourceId": 10324583,
     "sourceType": "datasetVersion"
    },
    {
     "datasetId": 6392508,
     "sourceId": 10324599,
     "sourceType": "datasetVersion"
    },
    {
     "datasetId": 6392523,
     "sourceId": 10324620,
     "sourceType": "datasetVersion"
    },
    {
     "datasetId": 6392689,
     "sourceId": 10324848,
     "sourceType": "datasetVersion"
    },
    {
     "datasetId": 6392704,
     "sourceId": 10324867,
     "sourceType": "datasetVersion"
    },
    {
     "datasetId": 6392721,
     "sourceId": 10324888,
     "sourceType": "datasetVersion"
    },
    {
     "datasetId": 6392739,
     "sourceId": 10324912,
     "sourceType": "datasetVersion"
    },
    {
     "datasetId": 6440657,
     "sourceId": 10395107,
     "sourceType": "datasetVersion"
    }
   ],
   "dockerImageVersionId": 30822,
   "isGpuEnabled": false,
   "isInternetEnabled": true,
   "language": "python",
   "sourceType": "notebook"
  },
  "kernelspec": {
   "display_name": "Python 3",
   "language": "python",
   "name": "python3"
  },
  "language_info": {
   "codemirror_mode": {
    "name": "ipython",
    "version": 3
   },
   "file_extension": ".py",
   "mimetype": "text/x-python",
   "name": "python",
   "nbconvert_exporter": "python",
   "pygments_lexer": "ipython3",
   "version": "3.10.12"
  },
  "papermill": {
   "default_parameters": {},
   "duration": 19216.976817,
   "end_time": "2025-01-07T18:51:18.827154",
   "environment_variables": {},
   "exception": null,
   "input_path": "__notebook__.ipynb",
   "output_path": "__notebook__.ipynb",
   "parameters": {},
   "start_time": "2025-01-07T13:31:01.850337",
   "version": "2.6.0"
  }
 },
 "nbformat": 4,
 "nbformat_minor": 5
}
