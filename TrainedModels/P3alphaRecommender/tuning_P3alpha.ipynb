{
 "cells": [
  {
   "cell_type": "markdown",
   "id": "fd38406f",
   "metadata": {
    "papermill": {
     "duration": 0.006791,
     "end_time": "2024-11-18T16:55:11.646034",
     "exception": false,
     "start_time": "2024-11-18T16:55:11.639243",
     "status": "completed"
    },
    "tags": []
   },
   "source": [
    "# Set connection with GitHub"
   ]
  },
  {
   "cell_type": "code",
   "execution_count": 1,
   "id": "425972d0",
   "metadata": {
    "execution": {
     "iopub.execute_input": "2024-11-18T16:55:11.659787Z",
     "iopub.status.busy": "2024-11-18T16:55:11.659362Z",
     "iopub.status.idle": "2024-11-18T16:55:11.664864Z",
     "shell.execute_reply": "2024-11-18T16:55:11.663879Z"
    },
    "papermill": {
     "duration": 0.014812,
     "end_time": "2024-11-18T16:55:11.667034",
     "exception": false,
     "start_time": "2024-11-18T16:55:11.652222",
     "status": "completed"
    },
    "tags": []
   },
   "outputs": [],
   "source": [
    "# ! cd /kaggle/working && rm -rf RECsys_Challenge2024"
   ]
  },
  {
   "cell_type": "code",
   "execution_count": 2,
   "id": "fd4b68d2",
   "metadata": {
    "_cell_guid": "b1076dfc-b9ad-4769-8c92-a6c4dae69d19",
    "_uuid": "8f2839f25d086af736a60e9eeb907d3b93b6e0e5",
    "execution": {
     "iopub.execute_input": "2024-11-18T16:55:11.686483Z",
     "iopub.status.busy": "2024-11-18T16:55:11.686124Z",
     "iopub.status.idle": "2024-11-18T16:55:24.041335Z",
     "shell.execute_reply": "2024-11-18T16:55:24.040069Z"
    },
    "papermill": {
     "duration": 12.365235,
     "end_time": "2024-11-18T16:55:24.043835",
     "exception": false,
     "start_time": "2024-11-18T16:55:11.678600",
     "status": "completed"
    },
    "tags": []
   },
   "outputs": [
    {
     "name": "stdout",
     "output_type": "stream",
     "text": [
      "Cloning into 'RECsys_Challenge2024'...\r\n",
      "remote: Enumerating objects: 1943, done.\u001b[K\r\n",
      "remote: Counting objects: 100% (325/325), done.\u001b[K\r\n",
      "remote: Compressing objects: 100% (137/137), done.\u001b[K\r\n",
      "remote: Total 1943 (delta 193), reused 311 (delta 180), pack-reused 1618 (from 1)\u001b[K\r\n",
      "Receiving objects: 100% (1943/1943), 128.18 MiB | 18.95 MiB/s, done.\r\n",
      "Resolving deltas: 100% (1138/1138), done.\r\n",
      "Updating files: 100% (227/227), done.\r\n"
     ]
    }
   ],
   "source": [
    "from kaggle_secrets import UserSecretsClient\n",
    "\n",
    "token = UserSecretsClient().get_secret(\"Token\")\n",
    "\n",
    "! git clone https://{token}@github.com/madratak/RECsys_Challenge2024.git"
   ]
  },
  {
   "cell_type": "code",
   "execution_count": 3,
   "id": "d6f12b5b",
   "metadata": {
    "execution": {
     "iopub.execute_input": "2024-11-18T16:55:24.064228Z",
     "iopub.status.busy": "2024-11-18T16:55:24.063485Z",
     "iopub.status.idle": "2024-11-18T16:55:36.288229Z",
     "shell.execute_reply": "2024-11-18T16:55:36.287065Z"
    },
    "papermill": {
     "duration": 12.237757,
     "end_time": "2024-11-18T16:55:36.290559",
     "exception": false,
     "start_time": "2024-11-18T16:55:24.052802",
     "status": "completed"
    },
    "tags": []
   },
   "outputs": [
    {
     "name": "stdout",
     "output_type": "stream",
     "text": [
      "Collecting PyGithub\r\n",
      "  Downloading PyGithub-2.5.0-py3-none-any.whl.metadata (3.9 kB)\r\n",
      "Requirement already satisfied: requests in /opt/conda/lib/python3.10/site-packages (2.32.3)\r\n",
      "Collecting pynacl>=1.4.0 (from PyGithub)\r\n",
      "  Downloading PyNaCl-1.5.0-cp36-abi3-manylinux_2_17_x86_64.manylinux2014_x86_64.manylinux_2_24_x86_64.whl.metadata (8.6 kB)\r\n",
      "Requirement already satisfied: pyjwt>=2.4.0 in /opt/conda/lib/python3.10/site-packages (from pyjwt[crypto]>=2.4.0->PyGithub) (2.8.0)\r\n",
      "Requirement already satisfied: typing-extensions>=4.0.0 in /opt/conda/lib/python3.10/site-packages (from PyGithub) (4.12.2)\r\n",
      "Requirement already satisfied: urllib3>=1.26.0 in /opt/conda/lib/python3.10/site-packages (from PyGithub) (1.26.18)\r\n",
      "Requirement already satisfied: Deprecated in /opt/conda/lib/python3.10/site-packages (from PyGithub) (1.2.14)\r\n",
      "Requirement already satisfied: charset-normalizer<4,>=2 in /opt/conda/lib/python3.10/site-packages (from requests) (3.3.2)\r\n",
      "Requirement already satisfied: idna<4,>=2.5 in /opt/conda/lib/python3.10/site-packages (from requests) (3.7)\r\n",
      "Requirement already satisfied: certifi>=2017.4.17 in /opt/conda/lib/python3.10/site-packages (from requests) (2024.8.30)\r\n",
      "Requirement already satisfied: cryptography>=3.4.0 in /opt/conda/lib/python3.10/site-packages (from pyjwt[crypto]>=2.4.0->PyGithub) (42.0.8)\r\n",
      "Requirement already satisfied: cffi>=1.4.1 in /opt/conda/lib/python3.10/site-packages (from pynacl>=1.4.0->PyGithub) (1.16.0)\r\n",
      "Requirement already satisfied: wrapt<2,>=1.10 in /opt/conda/lib/python3.10/site-packages (from Deprecated->PyGithub) (1.16.0)\r\n",
      "Requirement already satisfied: pycparser in /opt/conda/lib/python3.10/site-packages (from cffi>=1.4.1->pynacl>=1.4.0->PyGithub) (2.22)\r\n",
      "Downloading PyGithub-2.5.0-py3-none-any.whl (375 kB)\r\n",
      "\u001b[2K   \u001b[90m━━━━━━━━━━━━━━━━━━━━━━━━━━━━━━━━━━━━━━━━\u001b[0m \u001b[32m375.9/375.9 kB\u001b[0m \u001b[31m6.7 MB/s\u001b[0m eta \u001b[36m0:00:00\u001b[0m\r\n",
      "\u001b[?25hDownloading PyNaCl-1.5.0-cp36-abi3-manylinux_2_17_x86_64.manylinux2014_x86_64.manylinux_2_24_x86_64.whl (856 kB)\r\n",
      "\u001b[2K   \u001b[90m━━━━━━━━━━━━━━━━━━━━━━━━━━━━━━━━━━━━━━━━\u001b[0m \u001b[32m856.7/856.7 kB\u001b[0m \u001b[31m24.4 MB/s\u001b[0m eta \u001b[36m0:00:00\u001b[0m\r\n",
      "\u001b[?25hInstalling collected packages: pynacl, PyGithub\r\n",
      "Successfully installed PyGithub-2.5.0 pynacl-1.5.0\r\n"
     ]
    }
   ],
   "source": [
    "! pip install PyGithub requests"
   ]
  },
  {
   "cell_type": "code",
   "execution_count": 4,
   "id": "3151735e",
   "metadata": {
    "_kg_hide-input": false,
    "execution": {
     "iopub.execute_input": "2024-11-18T16:55:36.311237Z",
     "iopub.status.busy": "2024-11-18T16:55:36.310830Z",
     "iopub.status.idle": "2024-11-18T16:58:03.291321Z",
     "shell.execute_reply": "2024-11-18T16:58:03.290054Z"
    },
    "papermill": {
     "duration": 146.994035,
     "end_time": "2024-11-18T16:58:03.294198",
     "exception": false,
     "start_time": "2024-11-18T16:55:36.300163",
     "status": "completed"
    },
    "tags": []
   },
   "outputs": [
    {
     "name": "stdout",
     "output_type": "stream",
     "text": [
      "run_compile_all_cython: Found 11 Cython files in 5 folders...\r\n",
      "run_compile_all_cython: All files will be compiled using your current python environment: '/opt/conda/bin/python'\r\n",
      "Compiling [1/11]: MatrixFactorization_Cython_Epoch.pyx... \r\n",
      "In file included from \u001b[01m\u001b[K/opt/conda/lib/python3.10/site-packages/numpy/core/include/numpy/ndarraytypes.h:1929\u001b[m\u001b[K,\r\n",
      "                 from \u001b[01m\u001b[K/opt/conda/lib/python3.10/site-packages/numpy/core/include/numpy/ndarrayobject.h:12\u001b[m\u001b[K,\r\n",
      "                 from \u001b[01m\u001b[K/opt/conda/lib/python3.10/site-packages/numpy/core/include/numpy/arrayobject.h:5\u001b[m\u001b[K,\r\n",
      "                 from \u001b[01m\u001b[KMatrixFactorization_Cython_Epoch.c:1252\u001b[m\u001b[K:\r\n",
      "\u001b[01m\u001b[K/opt/conda/lib/python3.10/site-packages/numpy/core/include/numpy/npy_1_7_deprecated_api.h:17:2:\u001b[m\u001b[K \u001b[01;35m\u001b[Kwarning: \u001b[m\u001b[K#warning \"Using deprecated NumPy API, disable it with \" \"#define NPY_NO_DEPRECATED_API NPY_1_7_API_VERSION\" [\u001b[01;35m\u001b[K-Wcpp\u001b[m\u001b[K]\r\n",
      "   17 | #\u001b[01;35m\u001b[Kwarning\u001b[m\u001b[K \"Using deprecated NumPy API, disable it with \" \\\r\n",
      "      |  \u001b[01;35m\u001b[K^~~~~~~\u001b[m\u001b[K\r\n",
      "\u001b[01m\u001b[KMatrixFactorization_Cython_Epoch.c:\u001b[m\u001b[K In function '\u001b[01m\u001b[K__pyx_pf_32MatrixFactorization_Cython_Epoch_32MatrixFactorization_Cython_Epoch_10epochIteration_Cython_ASY_SVD_SGD\u001b[m\u001b[K':\r\n",
      "\u001b[01m\u001b[KMatrixFactorization_Cython_Epoch.c:26255:9:\u001b[m\u001b[K \u001b[01;35m\u001b[Kwarning: \u001b[m\u001b[K'\u001b[01m\u001b[K__pyx_v_end_pos_seen_items\u001b[m\u001b[K' may be used uninitialized in this function [\u001b[01;35m\u001b[K-Wmaybe-uninitialized\u001b[m\u001b[K]\r\n",
      "26255 |         \u001b[01;35m\u001b[Kfor\u001b[m\u001b[K (__pyx_t_21 = __pyx_v_start_pos_seen_items; __pyx_t_21 < __pyx_t_20; __pyx_t_21+=1) {\r\n",
      "      |         \u001b[01;35m\u001b[K^~~\u001b[m\u001b[K\r\n",
      "\u001b[01m\u001b[KMatrixFactorization_Cython_Epoch.c:26255:9:\u001b[m\u001b[K \u001b[01;35m\u001b[Kwarning: \u001b[m\u001b[K'\u001b[01m\u001b[K__pyx_v_start_pos_seen_items\u001b[m\u001b[K' may be used uninitialized in this function [\u001b[01;35m\u001b[K-Wmaybe-uninitialized\u001b[m\u001b[K]\r\n",
      "/opt/conda/lib/python3.10/site-packages/Cython/Compiler/Main.py:381: FutureWarning: Cython directive 'language_level' not set, using '3str' for now (Py3). This has changed from earlier releases! File: /kaggle/working/RECsys_Challenge2024/Recommenders/MatrixFactorization/Cython/MatrixFactorization_Cython_Epoch.pyx\r\n",
      "  tree = Parsing.p_module(s, pxd, full_module_name)\r\n",
      "Compiling [1/11]: MatrixFactorization_Cython_Epoch.pyx... PASS\r\n",
      "\r\n",
      "Compiling [2/11]: MatrixFactorizationImpressions_Cython_Epoch.pyx... \r\n",
      "In file included from \u001b[01m\u001b[K/opt/conda/lib/python3.10/site-packages/numpy/core/include/numpy/ndarraytypes.h:1929\u001b[m\u001b[K,\r\n",
      "                 from \u001b[01m\u001b[K/opt/conda/lib/python3.10/site-packages/numpy/core/include/numpy/ndarrayobject.h:12\u001b[m\u001b[K,\r\n",
      "                 from \u001b[01m\u001b[K/opt/conda/lib/python3.10/site-packages/numpy/core/include/numpy/arrayobject.h:5\u001b[m\u001b[K,\r\n",
      "                 from \u001b[01m\u001b[KMatrixFactorizationImpressions_Cython_Epoch.c:1252\u001b[m\u001b[K:\r\n",
      "\u001b[01m\u001b[K/opt/conda/lib/python3.10/site-packages/numpy/core/include/numpy/npy_1_7_deprecated_api.h:17:2:\u001b[m\u001b[K \u001b[01;35m\u001b[Kwarning: \u001b[m\u001b[K#warning \"Using deprecated NumPy API, disable it with \" \"#define NPY_NO_DEPRECATED_API NPY_1_7_API_VERSION\" [\u001b[01;35m\u001b[K-Wcpp\u001b[m\u001b[K]\r\n",
      "   17 | #\u001b[01;35m\u001b[Kwarning\u001b[m\u001b[K \"Using deprecated NumPy API, disable it with \" \\\r\n",
      "      |  \u001b[01;35m\u001b[K^~~~~~~\u001b[m\u001b[K\r\n",
      "\u001b[01m\u001b[KMatrixFactorizationImpressions_Cython_Epoch.c:\u001b[m\u001b[K In function '\u001b[01m\u001b[K__pyx_f_43MatrixFactorizationImpressions_Cython_Epoch_32MatrixFactorization_Cython_Epoch_sampleBPR_Cython\u001b[m\u001b[K':\r\n",
      "\u001b[01m\u001b[KMatrixFactorizationImpressions_Cython_Epoch.c:30351:17:\u001b[m\u001b[K \u001b[01;35m\u001b[Kwarning: \u001b[m\u001b[K'\u001b[01m\u001b[K__pyx_v_start_pos_impression_items\u001b[m\u001b[K' may be used uninitialized in this function [\u001b[01;35m\u001b[K-Wmaybe-uninitialized\u001b[m\u001b[K]\r\n",
      "30351 |       \u001b[01;35m\u001b[K__pyx_t_4 = (__pyx_v_start_pos_impression_items + __pyx_v_index)\u001b[m\u001b[K;\r\n",
      "      |       \u001b[01;35m\u001b[K~~~~~~~~~~^~~~~~~~~~~~~~~~~~~~~~~~~~~~~~~~~~~~~~~~~~~~~~~~~~~~~~\u001b[m\u001b[K\r\n",
      "\u001b[01m\u001b[KMatrixFactorizationImpressions_Cython_Epoch.c:\u001b[m\u001b[K In function '\u001b[01m\u001b[K__pyx_pf_43MatrixFactorizationImpressions_Cython_Epoch_32MatrixFactorization_Cython_Epoch_10epochIteration_Cython_ASY_SVD_SGD\u001b[m\u001b[K':\r\n",
      "\u001b[01m\u001b[KMatrixFactorizationImpressions_Cython_Epoch.c:26111:7:\u001b[m\u001b[K \u001b[01;35m\u001b[Kwarning: \u001b[m\u001b[K'\u001b[01m\u001b[K__pyx_v_end_pos_seen_items\u001b[m\u001b[K' may be used uninitialized in this function [\u001b[01;35m\u001b[K-Wmaybe-uninitialized\u001b[m\u001b[K]\r\n",
      "26111 |       \u001b[01;35m\u001b[Kfor\u001b[m\u001b[K (__pyx_t_21 = __pyx_v_start_pos_seen_items; __pyx_t_21 < __pyx_t_20; __pyx_t_21+=1) {\r\n",
      "      |       \u001b[01;35m\u001b[K^~~\u001b[m\u001b[K\r\n",
      "\u001b[01m\u001b[KMatrixFactorizationImpressions_Cython_Epoch.c:26111:7:\u001b[m\u001b[K \u001b[01;35m\u001b[Kwarning: \u001b[m\u001b[K'\u001b[01m\u001b[K__pyx_v_start_pos_seen_items\u001b[m\u001b[K' may be used uninitialized in this function [\u001b[01;35m\u001b[K-Wmaybe-uninitialized\u001b[m\u001b[K]\r\n",
      "/opt/conda/lib/python3.10/site-packages/Cython/Compiler/Main.py:381: FutureWarning: Cython directive 'language_level' not set, using '3str' for now (Py3). This has changed from earlier releases! File: /kaggle/working/RECsys_Challenge2024/Recommenders/MatrixFactorization/Cython/MatrixFactorizationImpressions_Cython_Epoch.pyx\r\n",
      "  tree = Parsing.p_module(s, pxd, full_module_name)\r\n",
      "Compiling [2/11]: MatrixFactorizationImpressions_Cython_Epoch.pyx... PASS\r\n",
      "\r\n",
      "Compiling [3/11]: Compute_Similarity_Cython.pyx... \r\n",
      "warning: Compute_Similarity_Cython.pyx:21:0: The 'IF' statement is deprecated and will be removed in a future Cython version. Consider using runtime conditions or C macros instead. See https://github.com/cython/cython/issues/4310\r\n",
      "In file included from \u001b[01m\u001b[K/opt/conda/lib/python3.10/site-packages/numpy/core/include/numpy/ndarraytypes.h:1929\u001b[m\u001b[K,\r\n",
      "                 from \u001b[01m\u001b[K/opt/conda/lib/python3.10/site-packages/numpy/core/include/numpy/ndarrayobject.h:12\u001b[m\u001b[K,\r\n",
      "                 from \u001b[01m\u001b[K/opt/conda/lib/python3.10/site-packages/numpy/core/include/numpy/arrayobject.h:5\u001b[m\u001b[K,\r\n",
      "                 from \u001b[01m\u001b[KCompute_Similarity_Cython.c:1252\u001b[m\u001b[K:\r\n",
      "\u001b[01m\u001b[K/opt/conda/lib/python3.10/site-packages/numpy/core/include/numpy/npy_1_7_deprecated_api.h:17:2:\u001b[m\u001b[K \u001b[01;35m\u001b[Kwarning: \u001b[m\u001b[K#warning \"Using deprecated NumPy API, disable it with \" \"#define NPY_NO_DEPRECATED_API NPY_1_7_API_VERSION\" [\u001b[01;35m\u001b[K-Wcpp\u001b[m\u001b[K]\r\n",
      "   17 | #\u001b[01;35m\u001b[Kwarning\u001b[m\u001b[K \"Using deprecated NumPy API, disable it with \" \\\r\n",
      "      |  \u001b[01;35m\u001b[K^~~~~~~\u001b[m\u001b[K\r\n",
      "/opt/conda/lib/python3.10/site-packages/Cython/Compiler/Main.py:381: FutureWarning: Cython directive 'language_level' not set, using '3str' for now (Py3). This has changed from earlier releases! File: /kaggle/working/RECsys_Challenge2024/Recommenders/Similarity/Cython/Compute_Similarity_Cython.pyx\r\n",
      "  tree = Parsing.p_module(s, pxd, full_module_name)\r\n",
      "warning: Compute_Similarity_Cython.pyx:21:0: The 'IF' statement is deprecated and will be removed in a future Cython version. Consider using runtime conditions or C macros instead. See https://github.com/cython/cython/issues/4310\r\n",
      "Compiling [3/11]: Compute_Similarity_Cython.pyx... PASS\r\n",
      "\r\n",
      "Compiling [4/11]: Sparse_Matrix_Tree_CSR.pyx... \r\n",
      "warning: Sparse_Matrix_Tree_CSR.pyx:132:34: Non-trivial type declarators in shared declaration (e.g. mix of pointers and values). Each pointer declaration should be on its own line.\r\n",
      "warning: Sparse_Matrix_Tree_CSR.pyx:132:66: Non-trivial type declarators in shared declaration (e.g. mix of pointers and values). Each pointer declaration should be on its own line.\r\n",
      "warning: Sparse_Matrix_Tree_CSR.pyx:343:35: Non-trivial type declarators in shared declaration (e.g. mix of pointers and values). Each pointer declaration should be on its own line.\r\n",
      "warning: Sparse_Matrix_Tree_CSR.pyx:343:52: Non-trivial type declarators in shared declaration (e.g. mix of pointers and values). Each pointer declaration should be on its own line.\r\n",
      "warning: Sparse_Matrix_Tree_CSR.pyx:442:35: Non-trivial type declarators in shared declaration (e.g. mix of pointers and values). Each pointer declaration should be on its own line.\r\n",
      "warning: Sparse_Matrix_Tree_CSR.pyx:442:53: Non-trivial type declarators in shared declaration (e.g. mix of pointers and values). Each pointer declaration should be on its own line.\r\n",
      "warning: Sparse_Matrix_Tree_CSR.pyx:442:69: Non-trivial type declarators in shared declaration (e.g. mix of pointers and values). Each pointer declaration should be on its own line.\r\n",
      "warning: Sparse_Matrix_Tree_CSR.pyx:577:35: Non-trivial type declarators in shared declaration (e.g. mix of pointers and values). Each pointer declaration should be on its own line.\r\n",
      "warning: Sparse_Matrix_Tree_CSR.pyx:577:42: Non-trivial type declarators in shared declaration (e.g. mix of pointers and values). Each pointer declaration should be on its own line.\r\n",
      "warning: Sparse_Matrix_Tree_CSR.pyx:578:35: Non-trivial type declarators in shared declaration (e.g. mix of pointers and values). Each pointer declaration should be on its own line.\r\n",
      "warning: Sparse_Matrix_Tree_CSR.pyx:578:53: Non-trivial type declarators in shared declaration (e.g. mix of pointers and values). Each pointer declaration should be on its own line.\r\n",
      "\r\n",
      "Error compiling Cython file:\r\n",
      "------------------------------------------------------------\r\n",
      "...\r\n",
      "            vector_pointer_to_list_elements[index].head = current_element\r\n",
      "            current_element = current_element.higher\r\n",
      "\r\n",
      "\r\n",
      "        # Sort array elements on their data field\r\n",
      "        qsort(vector_pointer_to_list_elements, list_length, sizeof(head_pointer_tree_s), compare_struct_on_data)\r\n",
      "                                                                                         ^\r\n",
      "------------------------------------------------------------\r\n",
      "\r\n",
      "Sparse_Matrix_Tree_CSR.pyx:516:89: Cannot assign type 'int (const void *, const void *) except? -1' to 'int (*)(const_void *, const_void *) noexcept'. Exception values are incompatible. Suggest adding 'noexcept' to the type of 'compare_struct_on_data'.\r\n",
      "\r\n",
      "Error compiling Cython file:\r\n",
      "------------------------------------------------------------\r\n",
      "...\r\n",
      "        # Sort array elements on their data field\r\n",
      "        qsort(vector_pointer_to_list_elements, list_length, sizeof(head_pointer_tree_s), compare_struct_on_data)\r\n",
      "\r\n",
      "        # Sort only the TopK according to their column field\r\n",
      "        # Sort is from lower to higher, therefore the elements to be considered are from len-topK to len\r\n",
      "        qsort(&vector_pointer_to_list_elements[list_length-TopK], TopK, sizeof(head_pointer_tree_s), compare_struct_on_column)\r\n",
      "                                                                                                     ^\r\n",
      "------------------------------------------------------------\r\n",
      "\r\n",
      "Sparse_Matrix_Tree_CSR.pyx:520:101: Cannot assign type 'int (const void *, const void *) except? -1' to 'int (*)(const_void *, const_void *) noexcept'. Exception values are incompatible. Suggest adding 'noexcept' to the type of 'compare_struct_on_column'.\r\n",
      "Traceback (most recent call last):\r\n",
      "  File \"/kaggle/working/RECsys_Challenge2024/CythonCompiler/compile_script.py\", line 48, in <module>\r\n",
      "    setup(\r\n",
      "  File \"/opt/conda/lib/python3.10/site-packages/setuptools/__init__.py\", line 103, in setup\r\n",
      "    return distutils.core.setup(**attrs)\r\n",
      "  File \"/opt/conda/lib/python3.10/site-packages/setuptools/_distutils/core.py\", line 184, in setup\r\n",
      "    return run_commands(dist)\r\n",
      "  File \"/opt/conda/lib/python3.10/site-packages/setuptools/_distutils/core.py\", line 200, in run_commands\r\n",
      "    dist.run_commands()\r\n",
      "  File \"/opt/conda/lib/python3.10/site-packages/setuptools/_distutils/dist.py\", line 969, in run_commands\r\n",
      "    self.run_command(cmd)\r\n",
      "  File \"/opt/conda/lib/python3.10/site-packages/setuptools/dist.py\", line 968, in run_command\r\n",
      "    super().run_command(command)\r\n",
      "  File \"/opt/conda/lib/python3.10/site-packages/setuptools/_distutils/dist.py\", line 988, in run_command\r\n",
      "    cmd_obj.run()\r\n",
      "  File \"/opt/conda/lib/python3.10/site-packages/setuptools/_distutils/command/build_ext.py\", line 359, in run\r\n",
      "    self.build_extensions()\r\n",
      "  File \"/opt/conda/lib/python3.10/site-packages/setuptools/_distutils/command/build_ext.py\", line 479, in build_extensions\r\n",
      "    self._build_extensions_serial()\r\n",
      "  File \"/opt/conda/lib/python3.10/site-packages/setuptools/_distutils/command/build_ext.py\", line 505, in _build_extensions_serial\r\n",
      "    self.build_extension(ext)\r\n",
      "  File \"/opt/conda/lib/python3.10/site-packages/Cython/Distutils/build_ext.py\", line 130, in build_extension\r\n",
      "    new_ext = cythonize(\r\n",
      "  File \"/opt/conda/lib/python3.10/site-packages/Cython/Build/Dependencies.py\", line 1154, in cythonize\r\n",
      "    cythonize_one(*args)\r\n",
      "  File \"/opt/conda/lib/python3.10/site-packages/Cython/Build/Dependencies.py\", line 1321, in cythonize_one\r\n",
      "    raise CompileError(None, pyx_file)\r\n",
      "Cython.Compiler.Errors.CompileError: Sparse_Matrix_Tree_CSR.pyx\r\n",
      "Traceback (most recent call last):\r\n",
      "  File \"/kaggle/working/RECsys_Challenge2024/run_compile_all_cython.py\", line 60, in <module>\r\n",
      "    run_compile_subprocess(file_path, [file_name])\r\n",
      "  File \"/kaggle/working/RECsys_Challenge2024/CythonCompiler/run_compile_subprocess.py\", line 51, in run_compile_subprocess\r\n",
      "    raise exc\r\n",
      "  File \"/kaggle/working/RECsys_Challenge2024/CythonCompiler/run_compile_subprocess.py\", line 32, in run_compile_subprocess\r\n",
      "    output = subprocess.check_output(' '.join(command),\r\n",
      "  File \"/opt/conda/lib/python3.10/subprocess.py\", line 421, in check_output\r\n",
      "    return run(*popenargs, stdout=PIPE, timeout=timeout, check=True,\r\n",
      "  File \"/opt/conda/lib/python3.10/subprocess.py\", line 526, in run\r\n",
      "    raise CalledProcessError(retcode, process.args,\r\n",
      "subprocess.CalledProcessError: Command '/opt/conda/bin/python /kaggle/working/RECsys_Challenge2024/CythonCompiler/compile_script.py Sparse_Matrix_Tree_CSR.pyx build_ext --inplace' returned non-zero exit status 1.\r\n",
      "Compiling [4/11]: Sparse_Matrix_Tree_CSR.pyx... FAIL: Command '/opt/conda/bin/python /kaggle/working/RECsys_Challenge2024/CythonCompiler/compile_script.py Sparse_Matrix_Tree_CSR.pyx build_ext --inplace' returned non-zero exit status 1.\r\n",
      "\r\n",
      "Compiling [5/11]: SLIM_BPR_Cython_Epoch.pyx... \r\n",
      "warning: SLIM_BPR_Cython_Epoch.pyx:24:0: The 'IF' statement is deprecated and will be removed in a future Cython version. Consider using runtime conditions or C macros instead. See https://github.com/cython/cython/issues/4310\r\n",
      "warning: SLIM_BPR_Cython_Epoch.pyx:632:34: Non-trivial type declarators in shared declaration (e.g. mix of pointers and values). Each pointer declaration should be on its own line.\r\n",
      "warning: SLIM_BPR_Cython_Epoch.pyx:632:66: Non-trivial type declarators in shared declaration (e.g. mix of pointers and values). Each pointer declaration should be on its own line.\r\n",
      "warning: SLIM_BPR_Cython_Epoch.pyx:817:35: Non-trivial type declarators in shared declaration (e.g. mix of pointers and values). Each pointer declaration should be on its own line.\r\n",
      "warning: SLIM_BPR_Cython_Epoch.pyx:817:52: Non-trivial type declarators in shared declaration (e.g. mix of pointers and values). Each pointer declaration should be on its own line.\r\n",
      "warning: SLIM_BPR_Cython_Epoch.pyx:916:35: Non-trivial type declarators in shared declaration (e.g. mix of pointers and values). Each pointer declaration should be on its own line.\r\n",
      "warning: SLIM_BPR_Cython_Epoch.pyx:916:53: Non-trivial type declarators in shared declaration (e.g. mix of pointers and values). Each pointer declaration should be on its own line.\r\n",
      "warning: SLIM_BPR_Cython_Epoch.pyx:916:69: Non-trivial type declarators in shared declaration (e.g. mix of pointers and values). Each pointer declaration should be on its own line.\r\n",
      "warning: SLIM_BPR_Cython_Epoch.pyx:1051:35: Non-trivial type declarators in shared declaration (e.g. mix of pointers and values). Each pointer declaration should be on its own line.\r\n",
      "warning: SLIM_BPR_Cython_Epoch.pyx:1051:42: Non-trivial type declarators in shared declaration (e.g. mix of pointers and values). Each pointer declaration should be on its own line.\r\n",
      "warning: SLIM_BPR_Cython_Epoch.pyx:1052:35: Non-trivial type declarators in shared declaration (e.g. mix of pointers and values). Each pointer declaration should be on its own line.\r\n",
      "warning: SLIM_BPR_Cython_Epoch.pyx:1052:53: Non-trivial type declarators in shared declaration (e.g. mix of pointers and values). Each pointer declaration should be on its own line.\r\n",
      "\r\n",
      "Error compiling Cython file:\r\n",
      "------------------------------------------------------------\r\n",
      "...\r\n",
      "            vector_pointer_to_list_elements[index].head = current_element\r\n",
      "            current_element = current_element.higher\r\n",
      "\r\n",
      "\r\n",
      "        # Sort array elements on their data field\r\n",
      "        qsort(vector_pointer_to_list_elements, list_length, sizeof(head_pointer_tree_s), compare_struct_on_data)\r\n",
      "                                                                                         ^\r\n",
      "------------------------------------------------------------\r\n",
      "\r\n",
      "SLIM_BPR_Cython_Epoch.pyx:990:89: Cannot assign type 'int (const void *, const void *) except? -1' to 'int (*)(const_void *, const_void *) noexcept'. Exception values are incompatible. Suggest adding 'noexcept' to the type of 'compare_struct_on_data'.\r\n",
      "\r\n",
      "Error compiling Cython file:\r\n",
      "------------------------------------------------------------\r\n",
      "...\r\n",
      "        # Sort array elements on their data field\r\n",
      "        qsort(vector_pointer_to_list_elements, list_length, sizeof(head_pointer_tree_s), compare_struct_on_data)\r\n",
      "\r\n",
      "        # Sort only the TopK according to their column field\r\n",
      "        # Sort is from lower to higher, therefore the elements to be considered are from len-topK to len\r\n",
      "        qsort(&vector_pointer_to_list_elements[list_length-TopK], TopK, sizeof(head_pointer_tree_s), compare_struct_on_column)\r\n",
      "                                                                                                     ^\r\n",
      "------------------------------------------------------------\r\n",
      "\r\n",
      "SLIM_BPR_Cython_Epoch.pyx:994:101: Cannot assign type 'int (const void *, const void *) except? -1' to 'int (*)(const_void *, const_void *) noexcept'. Exception values are incompatible. Suggest adding 'noexcept' to the type of 'compare_struct_on_column'.\r\n",
      "Traceback (most recent call last):\r\n",
      "  File \"/kaggle/working/RECsys_Challenge2024/CythonCompiler/compile_script.py\", line 48, in <module>\r\n",
      "    setup(\r\n",
      "  File \"/opt/conda/lib/python3.10/site-packages/setuptools/__init__.py\", line 103, in setup\r\n",
      "    return distutils.core.setup(**attrs)\r\n",
      "  File \"/opt/conda/lib/python3.10/site-packages/setuptools/_distutils/core.py\", line 184, in setup\r\n",
      "    return run_commands(dist)\r\n",
      "  File \"/opt/conda/lib/python3.10/site-packages/setuptools/_distutils/core.py\", line 200, in run_commands\r\n",
      "    dist.run_commands()\r\n",
      "  File \"/opt/conda/lib/python3.10/site-packages/setuptools/_distutils/dist.py\", line 969, in run_commands\r\n",
      "    self.run_command(cmd)\r\n",
      "  File \"/opt/conda/lib/python3.10/site-packages/setuptools/dist.py\", line 968, in run_command\r\n",
      "    super().run_command(command)\r\n",
      "  File \"/opt/conda/lib/python3.10/site-packages/setuptools/_distutils/dist.py\", line 988, in run_command\r\n",
      "    cmd_obj.run()\r\n",
      "  File \"/opt/conda/lib/python3.10/site-packages/setuptools/_distutils/command/build_ext.py\", line 359, in run\r\n",
      "    self.build_extensions()\r\n",
      "  File \"/opt/conda/lib/python3.10/site-packages/setuptools/_distutils/command/build_ext.py\", line 479, in build_extensions\r\n",
      "    self._build_extensions_serial()\r\n",
      "  File \"/opt/conda/lib/python3.10/site-packages/setuptools/_distutils/command/build_ext.py\", line 505, in _build_extensions_serial\r\n",
      "    self.build_extension(ext)\r\n",
      "  File \"/opt/conda/lib/python3.10/site-packages/Cython/Distutils/build_ext.py\", line 130, in build_extension\r\n",
      "    new_ext = cythonize(\r\n",
      "  File \"/opt/conda/lib/python3.10/site-packages/Cython/Build/Dependencies.py\", line 1154, in cythonize\r\n",
      "    cythonize_one(*args)\r\n",
      "  File \"/opt/conda/lib/python3.10/site-packages/Cython/Build/Dependencies.py\", line 1321, in cythonize_one\r\n",
      "    raise CompileError(None, pyx_file)\r\n",
      "Cython.Compiler.Errors.CompileError: SLIM_BPR_Cython_Epoch.pyx\r\n",
      "Traceback (most recent call last):\r\n",
      "  File \"/kaggle/working/RECsys_Challenge2024/run_compile_all_cython.py\", line 60, in <module>\r\n",
      "    run_compile_subprocess(file_path, [file_name])\r\n",
      "  File \"/kaggle/working/RECsys_Challenge2024/CythonCompiler/run_compile_subprocess.py\", line 51, in run_compile_subprocess\r\n",
      "    raise exc\r\n",
      "  File \"/kaggle/working/RECsys_Challenge2024/CythonCompiler/run_compile_subprocess.py\", line 32, in run_compile_subprocess\r\n",
      "    output = subprocess.check_output(' '.join(command),\r\n",
      "  File \"/opt/conda/lib/python3.10/subprocess.py\", line 421, in check_output\r\n",
      "    return run(*popenargs, stdout=PIPE, timeout=timeout, check=True,\r\n",
      "  File \"/opt/conda/lib/python3.10/subprocess.py\", line 526, in run\r\n",
      "    raise CalledProcessError(retcode, process.args,\r\n",
      "subprocess.CalledProcessError: Command '/opt/conda/bin/python /kaggle/working/RECsys_Challenge2024/CythonCompiler/compile_script.py SLIM_BPR_Cython_Epoch.pyx build_ext --inplace' returned non-zero exit status 1.\r\n",
      "Compiling [5/11]: SLIM_BPR_Cython_Epoch.pyx... FAIL: Command '/opt/conda/bin/python /kaggle/working/RECsys_Challenge2024/CythonCompiler/compile_script.py SLIM_BPR_Cython_Epoch.pyx build_ext --inplace' returned non-zero exit status 1.\r\n",
      "\r\n",
      "Compiling [6/11]: Triangular_Matrix.pyx... \r\n",
      "warning: Triangular_Matrix.pyx:22:0: The 'IF' statement is deprecated and will be removed in a future Cython version. Consider using runtime conditions or C macros instead. See https://github.com/cython/cython/issues/4310\r\n",
      "In file included from \u001b[01m\u001b[K/opt/conda/lib/python3.10/site-packages/numpy/core/include/numpy/ndarraytypes.h:1929\u001b[m\u001b[K,\r\n",
      "                 from \u001b[01m\u001b[K/opt/conda/lib/python3.10/site-packages/numpy/core/include/numpy/ndarrayobject.h:12\u001b[m\u001b[K,\r\n",
      "                 from \u001b[01m\u001b[K/opt/conda/lib/python3.10/site-packages/numpy/core/include/numpy/arrayobject.h:5\u001b[m\u001b[K,\r\n",
      "                 from \u001b[01m\u001b[KTriangular_Matrix.c:1252\u001b[m\u001b[K:\r\n",
      "\u001b[01m\u001b[K/opt/conda/lib/python3.10/site-packages/numpy/core/include/numpy/npy_1_7_deprecated_api.h:17:2:\u001b[m\u001b[K \u001b[01;35m\u001b[Kwarning: \u001b[m\u001b[K#warning \"Using deprecated NumPy API, disable it with \" \"#define NPY_NO_DEPRECATED_API NPY_1_7_API_VERSION\" [\u001b[01;35m\u001b[K-Wcpp\u001b[m\u001b[K]\r\n",
      "   17 | #\u001b[01;35m\u001b[Kwarning\u001b[m\u001b[K \"Using deprecated NumPy API, disable it with \" \\\r\n",
      "      |  \u001b[01;35m\u001b[K^~~~~~~\u001b[m\u001b[K\r\n",
      "/opt/conda/lib/python3.10/site-packages/Cython/Compiler/Main.py:381: FutureWarning: Cython directive 'language_level' not set, using '3str' for now (Py3). This has changed from earlier releases! File: /kaggle/working/RECsys_Challenge2024/Recommenders/SLIM/Cython/Triangular_Matrix.pyx\r\n",
      "  tree = Parsing.p_module(s, pxd, full_module_name)\r\n",
      "warning: Triangular_Matrix.pyx:22:0: The 'IF' statement is deprecated and will be removed in a future Cython version. Consider using runtime conditions or C macros instead. See https://github.com/cython/cython/issues/4310\r\n",
      "Compiling [6/11]: Triangular_Matrix.pyx... PASS\r\n",
      "\r\n",
      "Compiling [7/11]: HP3_Similarity_Cython_SGD.pyx... \r\n",
      "performance hint: HP3_Similarity_Cython_SGD.pyx:113:40: Index should be typed for more efficient access\r\n",
      "performance hint: HP3_Similarity_Cython_SGD.pyx:114:40: Index should be typed for more efficient access\r\n",
      "In file included from \u001b[01m\u001b[K/opt/conda/lib/python3.10/site-packages/numpy/core/include/numpy/ndarraytypes.h:1929\u001b[m\u001b[K,\r\n",
      "                 from \u001b[01m\u001b[K/opt/conda/lib/python3.10/site-packages/numpy/core/include/numpy/ndarrayobject.h:12\u001b[m\u001b[K,\r\n",
      "                 from \u001b[01m\u001b[K/opt/conda/lib/python3.10/site-packages/numpy/core/include/numpy/arrayobject.h:5\u001b[m\u001b[K,\r\n",
      "                 from \u001b[01m\u001b[KHP3_Similarity_Cython_SGD.c:1252\u001b[m\u001b[K:\r\n",
      "\u001b[01m\u001b[K/opt/conda/lib/python3.10/site-packages/numpy/core/include/numpy/npy_1_7_deprecated_api.h:17:2:\u001b[m\u001b[K \u001b[01;35m\u001b[Kwarning: \u001b[m\u001b[K#warning \"Using deprecated NumPy API, disable it with \" \"#define NPY_NO_DEPRECATED_API NPY_1_7_API_VERSION\" [\u001b[01;35m\u001b[K-Wcpp\u001b[m\u001b[K]\r\n",
      "   17 | #\u001b[01;35m\u001b[Kwarning\u001b[m\u001b[K \"Using deprecated NumPy API, disable it with \" \\\r\n",
      "      |  \u001b[01;35m\u001b[K^~~~~~~\u001b[m\u001b[K\r\n",
      "\u001b[01m\u001b[KHP3_Similarity_Cython_SGD.c:\u001b[m\u001b[K In function '\u001b[01m\u001b[K__pyx_pf_25HP3_Similarity_Cython_SGD_25HP3_Similarity_Cython_SGD_4fit\u001b[m\u001b[K':\r\n",
      "\u001b[01m\u001b[KHP3_Similarity_Cython_SGD.c:23631:55:\u001b[m\u001b[K \u001b[01;35m\u001b[Kwarning: \u001b[m\u001b[K'\u001b[01m\u001b[K__pyx_v_sample_num\u001b[m\u001b[K' may be used uninitialized in this function [\u001b[01;35m\u001b[K-Wmaybe-uninitialized\u001b[m\u001b[K]\r\n",
      "23631 |   __pyx_t_1 = PyFloat_FromDouble((__pyx_v_cum_loss / \u001b[01;35m\u001b[K((double)__pyx_v_sample_num)\u001b[m\u001b[K)); if (unlikely(!__pyx_t_1)) __PYX_ERR(0, 291, __pyx_L1_error)\r\n",
      "      |                                                      \u001b[01;35m\u001b[K~^~~~~~~~~~~~~~~~~~~~~~~~~~~\u001b[m\u001b[K\r\n",
      "/opt/conda/lib/python3.10/site-packages/Cython/Compiler/Main.py:381: FutureWarning: Cython directive 'language_level' not set, using '3str' for now (Py3). This has changed from earlier releases! File: /kaggle/working/RECsys_Challenge2024/Recommenders/FeatureWeighting/Cython/HP3_Similarity_Cython_SGD.pyx\r\n",
      "  tree = Parsing.p_module(s, pxd, full_module_name)\r\n",
      "performance hint: HP3_Similarity_Cython_SGD.pyx:113:40: Index should be typed for more efficient access\r\n",
      "performance hint: HP3_Similarity_Cython_SGD.pyx:114:40: Index should be typed for more efficient access\r\n",
      "Compiling [7/11]: HP3_Similarity_Cython_SGD.pyx... PASS\r\n",
      "\r\n",
      "Compiling [8/11]: CFW_D_Similarity_Cython_SGD.pyx... \r\n",
      "In file included from \u001b[01m\u001b[K/opt/conda/lib/python3.10/site-packages/numpy/core/include/numpy/ndarraytypes.h:1929\u001b[m\u001b[K,\r\n",
      "                 from \u001b[01m\u001b[K/opt/conda/lib/python3.10/site-packages/numpy/core/include/numpy/ndarrayobject.h:12\u001b[m\u001b[K,\r\n",
      "                 from \u001b[01m\u001b[K/opt/conda/lib/python3.10/site-packages/numpy/core/include/numpy/arrayobject.h:5\u001b[m\u001b[K,\r\n",
      "                 from \u001b[01m\u001b[KCFW_D_Similarity_Cython_SGD.c:1252\u001b[m\u001b[K:\r\n",
      "\u001b[01m\u001b[K/opt/conda/lib/python3.10/site-packages/numpy/core/include/numpy/npy_1_7_deprecated_api.h:17:2:\u001b[m\u001b[K \u001b[01;35m\u001b[Kwarning: \u001b[m\u001b[K#warning \"Using deprecated NumPy API, disable it with \" \"#define NPY_NO_DEPRECATED_API NPY_1_7_API_VERSION\" [\u001b[01;35m\u001b[K-Wcpp\u001b[m\u001b[K]\r\n",
      "   17 | #\u001b[01;35m\u001b[Kwarning\u001b[m\u001b[K \"Using deprecated NumPy API, disable it with \" \\\r\n",
      "      |  \u001b[01;35m\u001b[K^~~~~~~\u001b[m\u001b[K\r\n",
      "\u001b[01m\u001b[KCFW_D_Similarity_Cython_SGD.c:\u001b[m\u001b[K In function '\u001b[01m\u001b[K__pyx_pf_27CFW_D_Similarity_Cython_SGD_27CFW_D_Similarity_Cython_SGD_6fit\u001b[m\u001b[K':\r\n",
      "\u001b[01m\u001b[KCFW_D_Similarity_Cython_SGD.c:23373:55:\u001b[m\u001b[K \u001b[01;35m\u001b[Kwarning: \u001b[m\u001b[K'\u001b[01m\u001b[K__pyx_v_sample_num\u001b[m\u001b[K' may be used uninitialized in this function [\u001b[01;35m\u001b[K-Wmaybe-uninitialized\u001b[m\u001b[K]\r\n",
      "23373 |   __pyx_t_3 = PyFloat_FromDouble((__pyx_v_cum_loss / \u001b[01;35m\u001b[K((double)__pyx_v_sample_num)\u001b[m\u001b[K)); if (unlikely(!__pyx_t_3)) __PYX_ERR(0, 290, __pyx_L1_error)\r\n",
      "      |                                                      \u001b[01;35m\u001b[K~^~~~~~~~~~~~~~~~~~~~~~~~~~~\u001b[m\u001b[K\r\n",
      "/opt/conda/lib/python3.10/site-packages/Cython/Compiler/Main.py:381: FutureWarning: Cython directive 'language_level' not set, using '3str' for now (Py3). This has changed from earlier releases! File: /kaggle/working/RECsys_Challenge2024/Recommenders/FeatureWeighting/Cython/CFW_D_Similarity_Cython_SGD.pyx\r\n",
      "  tree = Parsing.p_module(s, pxd, full_module_name)\r\n",
      "Compiling [8/11]: CFW_D_Similarity_Cython_SGD.pyx... PASS\r\n",
      "\r\n",
      "Compiling [9/11]: FBSM_Rating_Cython_SGD.pyx... \r\n",
      "In file included from \u001b[01m\u001b[K/opt/conda/lib/python3.10/site-packages/numpy/core/include/numpy/ndarraytypes.h:1929\u001b[m\u001b[K,\r\n",
      "                 from \u001b[01m\u001b[K/opt/conda/lib/python3.10/site-packages/numpy/core/include/numpy/ndarrayobject.h:12\u001b[m\u001b[K,\r\n",
      "                 from \u001b[01m\u001b[K/opt/conda/lib/python3.10/site-packages/numpy/core/include/numpy/arrayobject.h:5\u001b[m\u001b[K,\r\n",
      "                 from \u001b[01m\u001b[KFBSM_Rating_Cython_SGD.c:1252\u001b[m\u001b[K:\r\n",
      "\u001b[01m\u001b[K/opt/conda/lib/python3.10/site-packages/numpy/core/include/numpy/npy_1_7_deprecated_api.h:17:2:\u001b[m\u001b[K \u001b[01;35m\u001b[Kwarning: \u001b[m\u001b[K#warning \"Using deprecated NumPy API, disable it with \" \"#define NPY_NO_DEPRECATED_API NPY_1_7_API_VERSION\" [\u001b[01;35m\u001b[K-Wcpp\u001b[m\u001b[K]\r\n",
      "   17 | #\u001b[01;35m\u001b[Kwarning\u001b[m\u001b[K \"Using deprecated NumPy API, disable it with \" \\\r\n",
      "      |  \u001b[01;35m\u001b[K^~~~~~~\u001b[m\u001b[K\r\n",
      "\u001b[01m\u001b[KFBSM_Rating_Cython_SGD.c:\u001b[m\u001b[K In function '\u001b[01m\u001b[K__pyx_pf_22FBSM_Rating_Cython_SGD_22FBSM_Rating_Cython_SGD_2fit\u001b[m\u001b[K':\r\n",
      "\u001b[01m\u001b[KFBSM_Rating_Cython_SGD.c:26607:55:\u001b[m\u001b[K \u001b[01;35m\u001b[Kwarning: \u001b[m\u001b[K'\u001b[01m\u001b[K__pyx_v_num_sample\u001b[m\u001b[K' may be used uninitialized in this function [\u001b[01;35m\u001b[K-Wmaybe-uninitialized\u001b[m\u001b[K]\r\n",
      "26607 |   __pyx_t_5 = PyFloat_FromDouble((__pyx_v_cum_loss / \u001b[01;35m\u001b[K((double)__pyx_v_num_sample)\u001b[m\u001b[K)); if (unlikely(!__pyx_t_5)) __PYX_ERR(0, 551, __pyx_L1_error)\r\n",
      "      |                                                      \u001b[01;35m\u001b[K~^~~~~~~~~~~~~~~~~~~~~~~~~~~\u001b[m\u001b[K\r\n",
      "/opt/conda/lib/python3.10/site-packages/Cython/Compiler/Main.py:381: FutureWarning: Cython directive 'language_level' not set, using '3str' for now (Py3). This has changed from earlier releases! File: /kaggle/working/RECsys_Challenge2024/Recommenders/FeatureWeighting/Cython/FBSM_Rating_Cython_SGD.pyx\r\n",
      "  tree = Parsing.p_module(s, pxd, full_module_name)\r\n",
      "Compiling [9/11]: FBSM_Rating_Cython_SGD.pyx... PASS\r\n",
      "\r\n",
      "Compiling [10/11]: CFW_DVV_Similarity_Cython_SGD.pyx... \r\n",
      "In file included from \u001b[01m\u001b[K/opt/conda/lib/python3.10/site-packages/numpy/core/include/numpy/ndarraytypes.h:1929\u001b[m\u001b[K,\r\n",
      "                 from \u001b[01m\u001b[K/opt/conda/lib/python3.10/site-packages/numpy/core/include/numpy/ndarrayobject.h:12\u001b[m\u001b[K,\r\n",
      "                 from \u001b[01m\u001b[K/opt/conda/lib/python3.10/site-packages/numpy/core/include/numpy/arrayobject.h:5\u001b[m\u001b[K,\r\n",
      "                 from \u001b[01m\u001b[KCFW_DVV_Similarity_Cython_SGD.c:1252\u001b[m\u001b[K:\r\n",
      "\u001b[01m\u001b[K/opt/conda/lib/python3.10/site-packages/numpy/core/include/numpy/npy_1_7_deprecated_api.h:17:2:\u001b[m\u001b[K \u001b[01;35m\u001b[Kwarning: \u001b[m\u001b[K#warning \"Using deprecated NumPy API, disable it with \" \"#define NPY_NO_DEPRECATED_API NPY_1_7_API_VERSION\" [\u001b[01;35m\u001b[K-Wcpp\u001b[m\u001b[K]\r\n",
      "   17 | #\u001b[01;35m\u001b[Kwarning\u001b[m\u001b[K \"Using deprecated NumPy API, disable it with \" \\\r\n",
      "      |  \u001b[01;35m\u001b[K^~~~~~~\u001b[m\u001b[K\r\n",
      "/opt/conda/lib/python3.10/site-packages/Cython/Compiler/Main.py:381: FutureWarning: Cython directive 'language_level' not set, using '3str' for now (Py3). This has changed from earlier releases! File: /kaggle/working/RECsys_Challenge2024/Recommenders/FeatureWeighting/Cython/CFW_DVV_Similarity_Cython_SGD.pyx\r\n",
      "  tree = Parsing.p_module(s, pxd, full_module_name)\r\n",
      "Compiling [10/11]: CFW_DVV_Similarity_Cython_SGD.pyx... PASS\r\n",
      "\r\n",
      "Compiling [11/11]: DataIterator.pyx... \r\n",
      "In file included from \u001b[01m\u001b[K/opt/conda/lib/python3.10/site-packages/numpy/core/include/numpy/ndarraytypes.h:1929\u001b[m\u001b[K,\r\n",
      "                 from \u001b[01m\u001b[K/opt/conda/lib/python3.10/site-packages/numpy/core/include/numpy/ndarrayobject.h:12\u001b[m\u001b[K,\r\n",
      "                 from \u001b[01m\u001b[K/opt/conda/lib/python3.10/site-packages/numpy/core/include/numpy/arrayobject.h:5\u001b[m\u001b[K,\r\n",
      "                 from \u001b[01m\u001b[KDataIterator.c:1252\u001b[m\u001b[K:\r\n",
      "\u001b[01m\u001b[K/opt/conda/lib/python3.10/site-packages/numpy/core/include/numpy/npy_1_7_deprecated_api.h:17:2:\u001b[m\u001b[K \u001b[01;35m\u001b[Kwarning: \u001b[m\u001b[K#warning \"Using deprecated NumPy API, disable it with \" \"#define NPY_NO_DEPRECATED_API NPY_1_7_API_VERSION\" [\u001b[01;35m\u001b[K-Wcpp\u001b[m\u001b[K]\r\n",
      "   17 | #\u001b[01;35m\u001b[Kwarning\u001b[m\u001b[K \"Using deprecated NumPy API, disable it with \" \\\r\n",
      "      |  \u001b[01;35m\u001b[K^~~~~~~\u001b[m\u001b[K\r\n",
      "\u001b[01m\u001b[KDataIterator.c:\u001b[m\u001b[K In function '\u001b[01m\u001b[K__pyx_pf_12DataIterator_30InteractionAndNegativeIterator_6__next__\u001b[m\u001b[K':\r\n",
      "\u001b[01m\u001b[KDataIterator.c:25495:22:\u001b[m\u001b[K \u001b[01;35m\u001b[Kwarning: \u001b[m\u001b[K'\u001b[01m\u001b[K__pyx_v_i_batch\u001b[m\u001b[K' may be used uninitialized in this function [\u001b[01;35m\u001b[K-Wmaybe-uninitialized\u001b[m\u001b[K]\r\n",
      "25495 |     (__pyx_v_i_batch \u001b[01;35m\u001b[K+\u001b[m\u001b[K 1),\r\n",
      "      |                      \u001b[01;35m\u001b[K^\u001b[m\u001b[K\r\n",
      "\u001b[01m\u001b[KDataIterator.c:\u001b[m\u001b[K In function '\u001b[01m\u001b[K__pyx_pf_12DataIterator_11BPRIterator_6__next__\u001b[m\u001b[K':\r\n",
      "\u001b[01m\u001b[KDataIterator.c:23054:22:\u001b[m\u001b[K \u001b[01;35m\u001b[Kwarning: \u001b[m\u001b[K'\u001b[01m\u001b[K__pyx_v_i_batch\u001b[m\u001b[K' may be used uninitialized in this function [\u001b[01;35m\u001b[K-Wmaybe-uninitialized\u001b[m\u001b[K]\r\n",
      "23054 |     (__pyx_v_i_batch \u001b[01;35m\u001b[K+\u001b[m\u001b[K 1),\r\n",
      "      |                      \u001b[01;35m\u001b[K^\u001b[m\u001b[K\r\n",
      "\u001b[01m\u001b[KDataIterator.c:\u001b[m\u001b[K In function '\u001b[01m\u001b[K__pyx_pf_12DataIterator_19InteractionIterator_6__next__\u001b[m\u001b[K':\r\n",
      "\u001b[01m\u001b[KDataIterator.c:20937:22:\u001b[m\u001b[K \u001b[01;35m\u001b[Kwarning: \u001b[m\u001b[K'\u001b[01m\u001b[K__pyx_v_i_batch\u001b[m\u001b[K' may be used uninitialized in this function [\u001b[01;35m\u001b[K-Wmaybe-uninitialized\u001b[m\u001b[K]\r\n",
      "20937 |     (__pyx_v_i_batch \u001b[01;35m\u001b[K+\u001b[m\u001b[K 1),\r\n",
      "      |                      \u001b[01;35m\u001b[K^\u001b[m\u001b[K\r\n",
      "/opt/conda/lib/python3.10/site-packages/Cython/Compiler/Main.py:381: FutureWarning: Cython directive 'language_level' not set, using '3str' for now (Py3). This has changed from earlier releases! File: /kaggle/working/RECsys_Challenge2024/Utils/PyTorch/Cython/DataIterator.pyx\r\n",
      "  tree = Parsing.p_module(s, pxd, full_module_name)\r\n",
      "Compiling [11/11]: DataIterator.pyx... PASS\r\n",
      "\r\n",
      "run_compile_all_cython: Compilation finished. FAILS 2/11.\r\n",
      "Compilation log can be found here: './result_experiments/run_compile_all_cython.txt'\r\n"
     ]
    }
   ],
   "source": [
    "! cd /kaggle/working/RECsys_Challenge2024 && python run_compile_all_cython.py"
   ]
  },
  {
   "cell_type": "code",
   "execution_count": 5,
   "id": "d591b413",
   "metadata": {
    "execution": {
     "iopub.execute_input": "2024-11-18T16:58:03.321872Z",
     "iopub.status.busy": "2024-11-18T16:58:03.321398Z",
     "iopub.status.idle": "2024-11-18T16:58:04.946073Z",
     "shell.execute_reply": "2024-11-18T16:58:04.945079Z"
    },
    "papermill": {
     "duration": 1.641277,
     "end_time": "2024-11-18T16:58:04.948265",
     "exception": false,
     "start_time": "2024-11-18T16:58:03.306988",
     "status": "completed"
    },
    "tags": []
   },
   "outputs": [],
   "source": [
    "import numpy as np\n",
    "import pandas as pd\n",
    "import scipy.sparse as sps\n",
    "import time\n",
    "import shutil\n",
    "import optuna\n",
    "import json\n",
    "import os\n",
    "\n",
    "np.random.seed(42)"
   ]
  },
  {
   "cell_type": "markdown",
   "id": "8fe90173",
   "metadata": {
    "papermill": {
     "duration": 0.013432,
     "end_time": "2024-11-18T16:58:04.975542",
     "exception": false,
     "start_time": "2024-11-18T16:58:04.962110",
     "status": "completed"
    },
    "tags": []
   },
   "source": [
    "## Import the repository **RECsys_Challenge2024**"
   ]
  },
  {
   "cell_type": "code",
   "execution_count": 6,
   "id": "ee428907",
   "metadata": {
    "execution": {
     "iopub.execute_input": "2024-11-18T16:58:05.003864Z",
     "iopub.status.busy": "2024-11-18T16:58:05.002659Z",
     "iopub.status.idle": "2024-11-18T16:58:05.651197Z",
     "shell.execute_reply": "2024-11-18T16:58:05.650017Z"
    },
    "papermill": {
     "duration": 0.665346,
     "end_time": "2024-11-18T16:58:05.653429",
     "exception": false,
     "start_time": "2024-11-18T16:58:04.988083",
     "status": "completed"
    },
    "tags": []
   },
   "outputs": [
    {
     "name": "stdout",
     "output_type": "stream",
     "text": [
      "Repository 'RECsys_Challenge2024' found.\n"
     ]
    }
   ],
   "source": [
    "from github import Github, Auth\n",
    "\n",
    "# Authenticate using a personal access token\n",
    "auth_token = Auth.Token(token)\n",
    "github_client = Github(auth=auth_token)\n",
    "\n",
    "# Define the repository name you want to find\n",
    "target_repo_name = 'RECsys_Challenge2024'\n",
    "repo = None\n",
    "\n",
    "# Search for the repository in the user's repositories\n",
    "try:\n",
    "    for repository in github_client.get_user().get_repos():\n",
    "        if repository.name == target_repo_name:\n",
    "            repo = repository\n",
    "            print(f\"Repository '{target_repo_name}' found.\")\n",
    "            break\n",
    "    if repo is None:\n",
    "        print(f\"Repository '{target_repo_name}' not found.\")\n",
    "except Exception as e:\n",
    "    print(\"An error occurred while accessing the repositories:\", e)"
   ]
  },
  {
   "cell_type": "code",
   "execution_count": 7,
   "id": "bd0b87e3",
   "metadata": {
    "execution": {
     "iopub.execute_input": "2024-11-18T16:58:05.680388Z",
     "iopub.status.busy": "2024-11-18T16:58:05.679861Z",
     "iopub.status.idle": "2024-11-18T16:58:05.687124Z",
     "shell.execute_reply": "2024-11-18T16:58:05.686116Z"
    },
    "papermill": {
     "duration": 0.022723,
     "end_time": "2024-11-18T16:58:05.688988",
     "exception": false,
     "start_time": "2024-11-18T16:58:05.666265",
     "status": "completed"
    },
    "tags": []
   },
   "outputs": [],
   "source": [
    "def upload_file(filepath_kaggle, filepath_github, commit_message):\n",
    "    \"\"\"\n",
    "    Uploads a file from Kaggle to GitHub, updating it if it already exists in the repository,\n",
    "    or creating it if it does not.\n",
    "\n",
    "    Parameters:\n",
    "    - filepath_kaggle: Path to the file in the Kaggle environment.\n",
    "    - filepath_github: Target path in the GitHub repository where the file should be uploaded.\n",
    "    - commit_message: Message for the commit on GitHub.\n",
    "    \"\"\"\n",
    "    try:\n",
    "        \n",
    "        # Check if the file already exists in the GitHub repository\n",
    "        contents = repo.get_contents(filepath_github)\n",
    "        \n",
    "        # If it exists, update the file\n",
    "        with open(filepath_kaggle, \"rb\") as file:\n",
    "            repo.update_file(\n",
    "                contents.path, commit_message, file.read(), contents.sha\n",
    "            )\n",
    "        print(f\"File '{filepath_github}' updated successfully.\")\n",
    "    \n",
    "    except Exception as e:\n",
    "        \n",
    "        # If the file does not exist, create it\n",
    "        with open(filepath_kaggle, \"rb\") as file:\n",
    "            repo.create_file(\n",
    "                filepath_github, commit_message, file.read()\n",
    "            )\n",
    "        print(f\"File '{filepath_github}' created successfully.\")"
   ]
  },
  {
   "cell_type": "code",
   "execution_count": 8,
   "id": "22578ce2",
   "metadata": {
    "execution": {
     "iopub.execute_input": "2024-11-18T16:58:05.715870Z",
     "iopub.status.busy": "2024-11-18T16:58:05.715463Z",
     "iopub.status.idle": "2024-11-18T16:58:05.720487Z",
     "shell.execute_reply": "2024-11-18T16:58:05.719510Z"
    },
    "papermill": {
     "duration": 0.021008,
     "end_time": "2024-11-18T16:58:05.722494",
     "exception": false,
     "start_time": "2024-11-18T16:58:05.701486",
     "status": "completed"
    },
    "tags": []
   },
   "outputs": [],
   "source": [
    "config = {\n",
    "    'model': 'P3alpha',\n",
    "    'tune_parameters': True,\n",
    "    'database_path': '/kaggle/working/history_P3alpha.db',\n",
    "    'copy_prev_best_params': False,\n",
    "    'tune_best_params': True,\n",
    "    'save_github': True\n",
    "}"
   ]
  },
  {
   "cell_type": "markdown",
   "id": "d35056bc",
   "metadata": {
    "papermill": {
     "duration": 0.012088,
     "end_time": "2024-11-18T16:58:05.806379",
     "exception": false,
     "start_time": "2024-11-18T16:58:05.794291",
     "status": "completed"
    },
    "tags": []
   },
   "source": [
    "Import the database where previous tuning trials have been saved."
   ]
  },
  {
   "cell_type": "code",
   "execution_count": 10,
   "id": "61e06ea6",
   "metadata": {
    "execution": {
     "iopub.execute_input": "2024-11-18T16:58:05.833243Z",
     "iopub.status.busy": "2024-11-18T16:58:05.832860Z",
     "iopub.status.idle": "2024-11-18T16:58:05.838209Z",
     "shell.execute_reply": "2024-11-18T16:58:05.837213Z"
    },
    "papermill": {
     "duration": 0.021407,
     "end_time": "2024-11-18T16:58:05.840279",
     "exception": false,
     "start_time": "2024-11-18T16:58:05.818872",
     "status": "completed"
    },
    "tags": []
   },
   "outputs": [],
   "source": [
    "try:\n",
    "    shutil.copyfile(\n",
    "        f'/kaggle/working/RECsys_Challenge2024/TrainedModels/' \\\n",
    "        f'{config[\"model\"]}Recommender/history_{config[\"model\"]}.db', \n",
    "        config['database_path']\n",
    "    )\n",
    "except FileNotFoundError:\n",
    "    pass # If not present optuna will create it"
   ]
  },
  {
   "cell_type": "markdown",
   "id": "8145223d",
   "metadata": {
    "papermill": {
     "duration": 0.012235,
     "end_time": "2024-11-18T16:58:05.866199",
     "exception": false,
     "start_time": "2024-11-18T16:58:05.853964",
     "status": "completed"
    },
    "tags": []
   },
   "source": [
    "# Construction of URM and ICM matrices"
   ]
  },
  {
   "cell_type": "code",
   "execution_count": 11,
   "id": "0edca957",
   "metadata": {
    "execution": {
     "iopub.execute_input": "2024-11-18T16:58:05.892931Z",
     "iopub.status.busy": "2024-11-18T16:58:05.892397Z",
     "iopub.status.idle": "2024-11-18T16:58:06.723754Z",
     "shell.execute_reply": "2024-11-18T16:58:06.722611Z"
    },
    "papermill": {
     "duration": 0.847088,
     "end_time": "2024-11-18T16:58:06.725953",
     "exception": false,
     "start_time": "2024-11-18T16:58:05.878865",
     "status": "completed"
    },
    "tags": []
   },
   "outputs": [
    {
     "data": {
      "text/plain": [
       "<Compressed Sparse Row sparse matrix of dtype 'float64'\n",
       "\twith 1764607 stored elements and shape (35736, 38121)>"
      ]
     },
     "execution_count": 11,
     "metadata": {},
     "output_type": "execute_result"
    }
   ],
   "source": [
    "URM_all_dataframe = pd.read_csv(\"/kaggle/input/recommender-system-2024-challenge-polimi/data_train.csv\")\n",
    "\n",
    "n_users = len(URM_all_dataframe[\"user_id\"].unique())\n",
    "n_items = len(URM_all_dataframe[\"item_id\"].unique())\n",
    "\n",
    "URM_all = sps.csr_matrix((URM_all_dataframe[\"data\"].values, \n",
    "                          (URM_all_dataframe[\"user_id\"].values, URM_all_dataframe[\"item_id\"].values)),\n",
    "                        shape = (n_users, n_items))\n",
    "\n",
    "URM_all"
   ]
  },
  {
   "cell_type": "code",
   "execution_count": 12,
   "id": "3901e248",
   "metadata": {
    "execution": {
     "iopub.execute_input": "2024-11-18T16:58:06.753767Z",
     "iopub.status.busy": "2024-11-18T16:58:06.752711Z",
     "iopub.status.idle": "2024-11-18T16:58:07.977002Z",
     "shell.execute_reply": "2024-11-18T16:58:07.975954Z"
    },
    "papermill": {
     "duration": 1.240406,
     "end_time": "2024-11-18T16:58:07.979255",
     "exception": false,
     "start_time": "2024-11-18T16:58:06.738849",
     "status": "completed"
    },
    "tags": []
   },
   "outputs": [
    {
     "data": {
      "text/plain": [
       "<Compressed Sparse Row sparse matrix of dtype 'float64'\n",
       "\twith 2940040 stored elements and shape (38121, 94331)>"
      ]
     },
     "execution_count": 12,
     "metadata": {},
     "output_type": "execute_result"
    }
   ],
   "source": [
    "ICM_dataframe = pd.read_csv(\"/kaggle/input/recommender-system-2024-challenge-polimi/data_ICM_metadata.csv\")\n",
    "\n",
    "n_items = len(ICM_dataframe[\"item_id\"].unique())\n",
    "n_features = len(ICM_dataframe[\"feature_id\"].unique())\n",
    "\n",
    "ICM_all = sps.csr_matrix((ICM_dataframe[\"data\"].values, \n",
    "                          (ICM_dataframe[\"item_id\"].values, ICM_dataframe[\"feature_id\"].values)),\n",
    "                        shape = (n_items, n_features))\n",
    "\n",
    "ICM_all"
   ]
  },
  {
   "cell_type": "markdown",
   "id": "94691efd",
   "metadata": {
    "papermill": {
     "duration": 0.014319,
     "end_time": "2024-11-18T16:58:08.006846",
     "exception": false,
     "start_time": "2024-11-18T16:58:07.992527",
     "status": "completed"
    },
    "tags": []
   },
   "source": [
    "# Training"
   ]
  },
  {
   "cell_type": "code",
   "execution_count": 13,
   "id": "204862de",
   "metadata": {
    "execution": {
     "iopub.execute_input": "2024-11-18T16:58:08.034178Z",
     "iopub.status.busy": "2024-11-18T16:58:08.033818Z",
     "iopub.status.idle": "2024-11-18T16:58:08.040529Z",
     "shell.execute_reply": "2024-11-18T16:58:08.039521Z"
    },
    "papermill": {
     "duration": 0.022875,
     "end_time": "2024-11-18T16:58:08.042681",
     "exception": false,
     "start_time": "2024-11-18T16:58:08.019806",
     "status": "completed"
    },
    "tags": []
   },
   "outputs": [
    {
     "name": "stdout",
     "output_type": "stream",
     "text": [
      "/kaggle/working/RECsys_Challenge2024\n"
     ]
    }
   ],
   "source": [
    "%cd /kaggle/working/RECsys_Challenge2024/"
   ]
  },
  {
   "cell_type": "code",
   "execution_count": 14,
   "id": "301baf7e",
   "metadata": {
    "execution": {
     "iopub.execute_input": "2024-11-18T16:58:08.071015Z",
     "iopub.status.busy": "2024-11-18T16:58:08.070521Z",
     "iopub.status.idle": "2024-11-18T16:58:11.149183Z",
     "shell.execute_reply": "2024-11-18T16:58:11.148150Z"
    },
    "papermill": {
     "duration": 3.094899,
     "end_time": "2024-11-18T16:58:11.151118",
     "exception": false,
     "start_time": "2024-11-18T16:58:08.056219",
     "status": "completed"
    },
    "tags": []
   },
   "outputs": [
    {
     "name": "stdout",
     "output_type": "stream",
     "text": [
      "Warning: 141 (0.39 %) of 35736 users have no sampled items\n",
      "EvaluatorHoldout: Ignoring 141 ( 0.4%) Users that have less than 1 test interactions\n"
     ]
    }
   ],
   "source": [
    "from Evaluation.Evaluator import EvaluatorHoldout\n",
    "from Data_manager.split_functions.split_train_validation_random_holdout import split_train_in_two_percentage_global_sample\n",
    "\n",
    "URM_train, URM_validation = split_train_in_two_percentage_global_sample(URM_all, train_percentage = 0.80)\n",
    "\n",
    "evaluator_validation = EvaluatorHoldout(URM_validation, cutoff_list=[10])"
   ]
  },
  {
   "cell_type": "code",
   "execution_count": 15,
   "id": "11c2eed5",
   "metadata": {
    "execution": {
     "iopub.execute_input": "2024-11-18T16:58:11.178229Z",
     "iopub.status.busy": "2024-11-18T16:58:11.177869Z",
     "iopub.status.idle": "2024-11-18T16:58:12.198574Z",
     "shell.execute_reply": "2024-11-18T16:58:12.197641Z"
    },
    "papermill": {
     "duration": 1.037142,
     "end_time": "2024-11-18T16:58:12.201034",
     "exception": false,
     "start_time": "2024-11-18T16:58:11.163892",
     "status": "completed"
    },
    "tags": []
   },
   "outputs": [],
   "source": [
    "from Recommenders.GraphBased.P3alphaRecommender import P3alphaRecommender\n",
    "\n",
    "def objective_function_P3alphaRecommender(optuna_trial):\n",
    "    \n",
    "    recommender_instance = P3alphaRecommender(URM_train)\n",
    "    \n",
    "    full_hyperp = {\n",
    "                   \"topK\": optuna_trial.suggest_int(\"topK\", 0, 1500),\n",
    "                   \"alpha\": optuna_trial.suggest_float(\"alpha\", 0, 2, log=False),\n",
    "                   \"normalize_similarity\": optuna_trial.suggest_categorical(\"normalize_similarity\", [True, False]),\n",
    "                   \"implicit\": optuna_trial.suggest_categorical(\"implicit\", [True, False]),\n",
    "\n",
    "    }\n",
    "\n",
    "    recommender_instance.fit(**full_hyperp)\n",
    "    \n",
    "    result_df, _ = evaluator_validation.evaluateRecommender(recommender_instance)\n",
    "    \n",
    "    return result_df.loc[10][\"MAP\"]"
   ]
  },
  {
   "cell_type": "code",
   "execution_count": 16,
   "id": "54457ec0",
   "metadata": {
    "_kg_hide-output": true,
    "execution": {
     "iopub.execute_input": "2024-11-18T16:58:12.229182Z",
     "iopub.status.busy": "2024-11-18T16:58:12.228577Z",
     "iopub.status.idle": "2024-11-18T20:36:01.106427Z",
     "shell.execute_reply": "2024-11-18T20:36:01.105487Z"
    },
    "papermill": {
     "duration": 13068.894551,
     "end_time": "2024-11-18T20:36:01.108742",
     "exception": false,
     "start_time": "2024-11-18T16:58:12.214191",
     "status": "completed"
    },
    "tags": []
   },
   "outputs": [
    {
     "name": "stderr",
     "output_type": "stream",
     "text": [
      "[I 2024-11-18 16:58:14,022] A new study created in RDB with name: hyperparameters_tuning_P3alpha\n"
     ]
    },
    {
     "name": "stdout",
     "output_type": "stream",
     "text": [
      "P3alphaRecommender: Similarity column 38121 (100.0%), 565.19 column/sec. Elapsed time 1.12 min\n",
      "EvaluatorHoldout: Processed 35595 (100.0%) in 54.81 sec. Users per second: 649\n"
     ]
    },
    {
     "name": "stderr",
     "output_type": "stream",
     "text": [
      "[I 2024-11-18 17:00:58,971] Trial 0 finished with value: 0.026439897033870327 and parameters: {'topK': 1240, 'alpha': 0.13970224044516044, 'normalize_similarity': False, 'implicit': False}. Best is trial 0 with value: 0.026439897033870327.\n"
     ]
    },
    {
     "name": "stdout",
     "output_type": "stream",
     "text": [
      "P3alphaRecommender: Similarity column 38121 (100.0%), 560.39 column/sec. Elapsed time 1.13 min\n",
      "EvaluatorHoldout: Processed 35595 (100.0%) in 55.38 sec. Users per second: 643\n"
     ]
    },
    {
     "name": "stderr",
     "output_type": "stream",
     "text": [
      "[I 2024-11-18 17:03:47,761] Trial 1 finished with value: 0.03487950309589463 and parameters: {'topK': 1268, 'alpha': 0.900420696436468, 'normalize_similarity': True, 'implicit': False}. Best is trial 1 with value: 0.03487950309589463.\n"
     ]
    },
    {
     "name": "stdout",
     "output_type": "stream",
     "text": [
      "P3alphaRecommender: Similarity column 38121 (100.0%), 706.90 column/sec. Elapsed time 53.93 sec\n",
      "EvaluatorHoldout: Processed 35595 (100.0%) in 48.58 sec. Users per second: 733\n"
     ]
    },
    {
     "name": "stderr",
     "output_type": "stream",
     "text": [
      "[I 2024-11-18 17:06:01,118] Trial 2 finished with value: 0.03404955105608191 and parameters: {'topK': 870, 'alpha': 0.2746459090128892, 'normalize_similarity': True, 'implicit': True}. Best is trial 1 with value: 0.03487950309589463.\n"
     ]
    },
    {
     "name": "stdout",
     "output_type": "stream",
     "text": [
      "P3alphaRecommender: Similarity column 38121 (100.0%), 629.42 column/sec. Elapsed time 1.01 min\n",
      "EvaluatorHoldout: Processed 35595 (100.0%) in 53.31 sec. Users per second: 668\n"
     ]
    },
    {
     "name": "stderr",
     "output_type": "stream",
     "text": [
      "[I 2024-11-18 17:08:34,620] Trial 3 finished with value: 0.03575589803276156 and parameters: {'topK': 1054, 'alpha': 1.0803031892164712, 'normalize_similarity': True, 'implicit': False}. Best is trial 3 with value: 0.03575589803276156.\n"
     ]
    },
    {
     "name": "stdout",
     "output_type": "stream",
     "text": [
      "P3alphaRecommender: Similarity column 38121 (100.0%), 535.07 column/sec. Elapsed time 1.19 min\n",
      "EvaluatorHoldout: Processed 35595 (100.0%) in 56.92 sec. Users per second: 625\n"
     ]
    },
    {
     "name": "stderr",
     "output_type": "stream",
     "text": [
      "[I 2024-11-18 17:11:30,826] Trial 4 finished with value: 0.03482190627807867 and parameters: {'topK': 1371, 'alpha': 1.125702136698511, 'normalize_similarity': True, 'implicit': True}. Best is trial 3 with value: 0.03575589803276156.\n"
     ]
    },
    {
     "name": "stdout",
     "output_type": "stream",
     "text": [
      "P3alphaRecommender: Similarity column 38121 (100.0%), 1335.03 column/sec. Elapsed time 28.55 sec\n",
      "EvaluatorHoldout: Processed 35595 (100.0%) in 39.44 sec. Users per second: 902\n"
     ]
    },
    {
     "name": "stderr",
     "output_type": "stream",
     "text": [
      "[I 2024-11-18 17:12:49,029] Trial 5 finished with value: 0.029905137604041183 and parameters: {'topK': 305, 'alpha': 0.12131348126886277, 'normalize_similarity': False, 'implicit': False}. Best is trial 3 with value: 0.03575589803276156.\n"
     ]
    },
    {
     "name": "stdout",
     "output_type": "stream",
     "text": [
      "P3alphaRecommender: Similarity column 38121 (100.0%), 1399.47 column/sec. Elapsed time 27.24 sec\n",
      "EvaluatorHoldout: Processed 35595 (100.0%) in 39.31 sec. Users per second: 905\n"
     ]
    },
    {
     "name": "stderr",
     "output_type": "stream",
     "text": [
      "[I 2024-11-18 17:14:06,205] Trial 6 finished with value: 0.02620527227606833 and parameters: {'topK': 284, 'alpha': 1.9035941649883537, 'normalize_similarity': False, 'implicit': False}. Best is trial 3 with value: 0.03575589803276156.\n"
     ]
    },
    {
     "name": "stdout",
     "output_type": "stream",
     "text": [
      "P3alphaRecommender: Similarity column 38121 (100.0%), 910.04 column/sec. Elapsed time 41.89 sec\n",
      "EvaluatorHoldout: Processed 35595 (100.0%) in 44.86 sec. Users per second: 793\n"
     ]
    },
    {
     "name": "stderr",
     "output_type": "stream",
     "text": [
      "[I 2024-11-18 17:15:54,745] Trial 7 finished with value: 0.02992433617170172 and parameters: {'topK': 582, 'alpha': 1.7318890381484007, 'normalize_similarity': False, 'implicit': True}. Best is trial 3 with value: 0.03575589803276156.\n"
     ]
    },
    {
     "name": "stdout",
     "output_type": "stream",
     "text": [
      "P3alphaRecommender: Similarity column 38121 (100.0%), 593.15 column/sec. Elapsed time 1.07 min\n",
      "EvaluatorHoldout: Processed 35595 (100.0%) in 53.62 sec. Users per second: 664\n"
     ]
    },
    {
     "name": "stderr",
     "output_type": "stream",
     "text": [
      "[I 2024-11-18 17:18:33,707] Trial 8 finished with value: 0.03461959165836014 and parameters: {'topK': 1160, 'alpha': 0.6865170641798204, 'normalize_similarity': True, 'implicit': True}. Best is trial 3 with value: 0.03575589803276156.\n"
     ]
    },
    {
     "name": "stdout",
     "output_type": "stream",
     "text": [
      "P3alphaRecommender: Similarity column 38121 (100.0%), 541.98 column/sec. Elapsed time 1.17 min\n",
      "EvaluatorHoldout: Processed 35595 (100.0%) in 54.40 sec. Users per second: 654\n"
     ]
    },
    {
     "name": "stderr",
     "output_type": "stream",
     "text": [
      "[I 2024-11-18 17:21:24,401] Trial 9 finished with value: 0.03265141349886284 and parameters: {'topK': 1333, 'alpha': 0.32815198170941917, 'normalize_similarity': True, 'implicit': True}. Best is trial 3 with value: 0.03575589803276156.\n"
     ]
    },
    {
     "name": "stdout",
     "output_type": "stream",
     "text": [
      "P3alphaRecommender: Similarity column 38121 (100.0%), 677.40 column/sec. Elapsed time 56.28 sec\n",
      "EvaluatorHoldout: Processed 35595 (100.0%) in 51.35 sec. Users per second: 693\n"
     ]
    },
    {
     "name": "stderr",
     "output_type": "stream",
     "text": [
      "[I 2024-11-18 17:23:45,405] Trial 10 finished with value: 0.03626605417650371 and parameters: {'topK': 909, 'alpha': 1.3911804182033483, 'normalize_similarity': True, 'implicit': False}. Best is trial 10 with value: 0.03626605417650371.\n"
     ]
    },
    {
     "name": "stdout",
     "output_type": "stream",
     "text": [
      "P3alphaRecommender: Similarity column 38121 (100.0%), 692.90 column/sec. Elapsed time 55.02 sec\n",
      "EvaluatorHoldout: Processed 35595 (100.0%) in 51.32 sec. Users per second: 694\n"
     ]
    },
    {
     "name": "stderr",
     "output_type": "stream",
     "text": [
      "[I 2024-11-18 17:26:04,917] Trial 11 finished with value: 0.036314046693733414 and parameters: {'topK': 893, 'alpha': 1.3934114203042636, 'normalize_similarity': True, 'implicit': False}. Best is trial 11 with value: 0.036314046693733414.\n"
     ]
    },
    {
     "name": "stdout",
     "output_type": "stream",
     "text": [
      "P3alphaRecommender: Similarity column 38121 (100.0%), 794.08 column/sec. Elapsed time 48.01 sec\n",
      "EvaluatorHoldout: Processed 35595 (100.0%) in 48.24 sec. Users per second: 738\n"
     ]
    },
    {
     "name": "stderr",
     "output_type": "stream",
     "text": [
      "[I 2024-11-18 17:28:07,592] Trial 12 finished with value: 0.03705292566059388 and parameters: {'topK': 705, 'alpha': 1.4721210096831958, 'normalize_similarity': True, 'implicit': False}. Best is trial 12 with value: 0.03705292566059388.\n"
     ]
    },
    {
     "name": "stdout",
     "output_type": "stream",
     "text": [
      "P3alphaRecommender: Similarity column 38121 (100.0%), 900.79 column/sec. Elapsed time 42.32 sec\n",
      "EvaluatorHoldout: Processed 35595 (100.0%) in 46.03 sec. Users per second: 773\n"
     ]
    },
    {
     "name": "stderr",
     "output_type": "stream",
     "text": [
      "[I 2024-11-18 17:29:57,824] Trial 13 finished with value: 0.037721862130625984 and parameters: {'topK': 582, 'alpha': 1.4238255760167111, 'normalize_similarity': True, 'implicit': False}. Best is trial 13 with value: 0.037721862130625984.\n"
     ]
    },
    {
     "name": "stdout",
     "output_type": "stream",
     "text": [
      "P3alphaRecommender: Similarity column 38121 (100.0%), 912.52 column/sec. Elapsed time 41.78 sec\n",
      "EvaluatorHoldout: Processed 35595 (100.0%) in 45.99 sec. Users per second: 774\n"
     ]
    },
    {
     "name": "stderr",
     "output_type": "stream",
     "text": [
      "[I 2024-11-18 17:31:46,766] Trial 14 finished with value: 0.03766818841597467 and parameters: {'topK': 561, 'alpha': 1.5503111835605372, 'normalize_similarity': True, 'implicit': False}. Best is trial 13 with value: 0.037721862130625984.\n"
     ]
    },
    {
     "name": "stdout",
     "output_type": "stream",
     "text": [
      "P3alphaRecommender: Similarity column 38121 (100.0%), 986.18 column/sec. Elapsed time 38.66 sec\n",
      "EvaluatorHoldout: Processed 35595 (100.0%) in 45.14 sec. Users per second: 789\n"
     ]
    },
    {
     "name": "stderr",
     "output_type": "stream",
     "text": [
      "[I 2024-11-18 17:33:30,205] Trial 15 finished with value: 0.03767605691899699 and parameters: {'topK': 515, 'alpha': 1.6505962869840984, 'normalize_similarity': True, 'implicit': False}. Best is trial 13 with value: 0.037721862130625984.\n"
     ]
    },
    {
     "name": "stdout",
     "output_type": "stream",
     "text": [
      "P3alphaRecommender: Similarity column 38121 (100.0%), 2144.14 column/sec. Elapsed time 17.78 sec\n",
      "EvaluatorHoldout: Processed 35595 (100.0%) in 34.37 sec. Users per second: 1036\n"
     ]
    },
    {
     "name": "stderr",
     "output_type": "stream",
     "text": [
      "[I 2024-11-18 17:34:25,485] Trial 16 finished with value: 0.042706138502596996 and parameters: {'topK': 71, 'alpha': 1.9183829033405395, 'normalize_similarity': True, 'implicit': False}. Best is trial 16 with value: 0.042706138502596996.\n"
     ]
    },
    {
     "name": "stdout",
     "output_type": "stream",
     "text": [
      "P3alphaRecommender: Similarity column 38121 (100.0%), 2455.55 column/sec. Elapsed time 15.52 sec\n",
      "EvaluatorHoldout: Processed 35595 (100.0%) in 30.26 sec. Users per second: 1176\n"
     ]
    },
    {
     "name": "stderr",
     "output_type": "stream",
     "text": [
      "[I 2024-11-18 17:35:12,415] Trial 17 finished with value: 0.04548248371783819 and parameters: {'topK': 12, 'alpha': 1.9772848588113183, 'normalize_similarity': True, 'implicit': False}. Best is trial 17 with value: 0.04548248371783819.\n"
     ]
    },
    {
     "name": "stdout",
     "output_type": "stream",
     "text": [
      "P3alphaRecommender: Similarity column 38121 (100.0%), 2342.01 column/sec. Elapsed time 16.28 sec\n",
      "EvaluatorHoldout: Processed 35595 (100.0%) in 31.49 sec. Users per second: 1130\n"
     ]
    },
    {
     "name": "stderr",
     "output_type": "stream",
     "text": [
      "[I 2024-11-18 17:36:01,842] Trial 18 finished with value: 0.02057877421699597 and parameters: {'topK': 29, 'alpha': 1.9928332605386654, 'normalize_similarity': False, 'implicit': False}. Best is trial 17 with value: 0.04548248371783819.\n"
     ]
    },
    {
     "name": "stdout",
     "output_type": "stream",
     "text": [
      "P3alphaRecommender: Similarity column 38121 (100.0%), 2427.67 column/sec. Elapsed time 15.70 sec\n",
      "EvaluatorHoldout: Processed 35595 (100.0%) in 30.80 sec. Users per second: 1156\n"
     ]
    },
    {
     "name": "stderr",
     "output_type": "stream",
     "text": [
      "[I 2024-11-18 17:36:49,674] Trial 19 finished with value: 0.04642285790094288 and parameters: {'topK': 17, 'alpha': 1.8320734944006234, 'normalize_similarity': True, 'implicit': False}. Best is trial 19 with value: 0.04642285790094288.\n"
     ]
    },
    {
     "name": "stdout",
     "output_type": "stream",
     "text": [
      "P3alphaRecommender: Similarity column 38121 (100.0%), 1589.86 column/sec. Elapsed time 23.98 sec\n",
      "EvaluatorHoldout: Processed 35595 (100.0%) in 37.95 sec. Users per second: 938\n"
     ]
    },
    {
     "name": "stderr",
     "output_type": "stream",
     "text": [
      "[I 2024-11-18 17:37:59,075] Trial 20 finished with value: 0.0402747119824642 and parameters: {'topK': 199, 'alpha': 1.7174920849306676, 'normalize_similarity': True, 'implicit': False}. Best is trial 19 with value: 0.04642285790094288.\n"
     ]
    },
    {
     "name": "stdout",
     "output_type": "stream",
     "text": [
      "P3alphaRecommender: Similarity column 38121 (100.0%), 2411.64 column/sec. Elapsed time 15.81 sec\n",
      "EvaluatorHoldout: Processed 35595 (100.0%) in 31.23 sec. Users per second: 1140\n"
     ]
    },
    {
     "name": "stderr",
     "output_type": "stream",
     "text": [
      "[I 2024-11-18 17:38:47,503] Trial 21 finished with value: 0.045810624151330345 and parameters: {'topK': 20, 'alpha': 1.8841252318750703, 'normalize_similarity': True, 'implicit': False}. Best is trial 19 with value: 0.04642285790094288.\n"
     ]
    },
    {
     "name": "stdout",
     "output_type": "stream",
     "text": [
      "P3alphaRecommender: Similarity column 38121 (100.0%), 1698.09 column/sec. Elapsed time 22.45 sec\n",
      "EvaluatorHoldout: Processed 35595 (100.0%) in 37.18 sec. Users per second: 957\n"
     ]
    },
    {
     "name": "stderr",
     "output_type": "stream",
     "text": [
      "[I 2024-11-18 17:39:53,134] Trial 22 finished with value: 0.04071581192293221 and parameters: {'topK': 163, 'alpha': 1.798195608304144, 'normalize_similarity': True, 'implicit': False}. Best is trial 19 with value: 0.04642285790094288.\n"
     ]
    },
    {
     "name": "stdout",
     "output_type": "stream",
     "text": [
      "P3alphaRecommender: Similarity column 38121 (100.0%), 1231.66 column/sec. Elapsed time 30.95 sec\n",
      "EvaluatorHoldout: Processed 35595 (100.0%) in 41.14 sec. Users per second: 865\n"
     ]
    },
    {
     "name": "stderr",
     "output_type": "stream",
     "text": [
      "[I 2024-11-18 17:41:18,170] Trial 23 finished with value: 0.039803561673766766 and parameters: {'topK': 342, 'alpha': 1.2069573377768994, 'normalize_similarity': True, 'implicit': False}. Best is trial 19 with value: 0.04642285790094288.\n"
     ]
    },
    {
     "name": "stdout",
     "output_type": "stream",
     "text": [
      "P3alphaRecommender: Similarity column 38121 (100.0%), 2438.55 column/sec. Elapsed time 15.63 sec\n",
      "EvaluatorHoldout: Processed 35595 (100.0%) in 31.00 sec. Users per second: 1148\n"
     ]
    },
    {
     "name": "stderr",
     "output_type": "stream",
     "text": [
      "[I 2024-11-18 17:42:06,060] Trial 24 finished with value: 0.04564818716735939 and parameters: {'topK': 16, 'alpha': 1.9814339198236601, 'normalize_similarity': True, 'implicit': False}. Best is trial 19 with value: 0.04642285790094288.\n"
     ]
    },
    {
     "name": "stdout",
     "output_type": "stream",
     "text": [
      "P3alphaRecommender: Similarity column 38121 (100.0%), 1118.08 column/sec. Elapsed time 34.10 sec\n",
      "EvaluatorHoldout: Processed 35595 (100.0%) in 43.04 sec. Users per second: 827\n"
     ]
    },
    {
     "name": "stderr",
     "output_type": "stream",
     "text": [
      "[I 2024-11-18 17:43:39,081] Trial 25 finished with value: 0.03836943836859406 and parameters: {'topK': 419, 'alpha': 1.6135570933843837, 'normalize_similarity': True, 'implicit': False}. Best is trial 19 with value: 0.04642285790094288.\n"
     ]
    },
    {
     "name": "stdout",
     "output_type": "stream",
     "text": [
      "P3alphaRecommender: Similarity column 38121 (100.0%), 1776.98 column/sec. Elapsed time 21.45 sec\n",
      "EvaluatorHoldout: Processed 35595 (100.0%) in 35.96 sec. Users per second: 990\n"
     ]
    },
    {
     "name": "stderr",
     "output_type": "stream",
     "text": [
      "[I 2024-11-18 17:44:42,079] Trial 26 finished with value: 0.02691884226650314 and parameters: {'topK': 151, 'alpha': 1.8139512015739636, 'normalize_similarity': False, 'implicit': True}. Best is trial 19 with value: 0.04642285790094288.\n"
     ]
    },
    {
     "name": "stdout",
     "output_type": "stream",
     "text": [
      "P3alphaRecommender: Similarity column 38121 (100.0%), 1845.57 column/sec. Elapsed time 20.66 sec\n",
      "EvaluatorHoldout: Processed 35595 (100.0%) in 31.50 sec. Users per second: 1130\n"
     ]
    },
    {
     "name": "stderr",
     "output_type": "stream",
     "text": [
      "[I 2024-11-18 17:45:38,953] Trial 27 finished with value: 0.045038471829241505 and parameters: {'topK': 131, 'alpha': 0.8208335498096523, 'normalize_similarity': True, 'implicit': False}. Best is trial 19 with value: 0.04642285790094288.\n"
     ]
    },
    {
     "name": "stdout",
     "output_type": "stream",
     "text": [
      "P3alphaRecommender: Similarity column 38121 (100.0%), 509.11 column/sec. Elapsed time 1.25 min\n",
      "EvaluatorHoldout: Processed 35595 (100.0%) in 58.72 sec. Users per second: 606\n"
     ]
    },
    {
     "name": "stderr",
     "output_type": "stream",
     "text": [
      "[I 2024-11-18 17:48:43,848] Trial 28 finished with value: 0.03457277752136456 and parameters: {'topK': 1478, 'alpha': 1.2674078153858062, 'normalize_similarity': True, 'implicit': False}. Best is trial 19 with value: 0.04642285790094288.\n"
     ]
    },
    {
     "name": "stdout",
     "output_type": "stream",
     "text": [
      "P3alphaRecommender: Similarity column 38121 (100.0%), 3517.46 column/sec. Elapsed time 10.84 sec\n",
      "EvaluatorHoldout: Processed 35595 (100.0%) in 24.32 sec. Users per second: 1463\n"
     ]
    },
    {
     "name": "stderr",
     "output_type": "stream",
     "text": [
      "[I 2024-11-18 17:49:19,279] Trial 29 finished with value: 0.00028209999175022335 and parameters: {'topK': 0, 'alpha': 1.8454264478406797, 'normalize_similarity': False, 'implicit': False}. Best is trial 19 with value: 0.04642285790094288.\n"
     ]
    },
    {
     "name": "stdout",
     "output_type": "stream",
     "text": [
      "P3alphaRecommender: Similarity column 38121 (100.0%), 1568.17 column/sec. Elapsed time 24.31 sec\n",
      "EvaluatorHoldout: Processed 35595 (100.0%) in 37.69 sec. Users per second: 944\n"
     ]
    },
    {
     "name": "stderr",
     "output_type": "stream",
     "text": [
      "[I 2024-11-18 17:50:29,204] Trial 30 finished with value: 0.042466717726092736 and parameters: {'topK': 221, 'alpha': 0.5745028317856684, 'normalize_similarity': True, 'implicit': False}. Best is trial 19 with value: 0.04642285790094288.\n"
     ]
    },
    {
     "name": "stdout",
     "output_type": "stream",
     "text": [
      "P3alphaRecommender: Similarity column 38121 (100.0%), 2082.13 column/sec. Elapsed time 18.31 sec\n",
      "EvaluatorHoldout: Processed 35595 (100.0%) in 34.42 sec. Users per second: 1034\n"
     ]
    },
    {
     "name": "stderr",
     "output_type": "stream",
     "text": [
      "[I 2024-11-18 17:51:25,221] Trial 31 finished with value: 0.04216377144105594 and parameters: {'topK': 76, 'alpha': 1.9958392052631937, 'normalize_similarity': True, 'implicit': False}. Best is trial 19 with value: 0.04642285790094288.\n"
     ]
    },
    {
     "name": "stdout",
     "output_type": "stream",
     "text": [
      "P3alphaRecommender: Similarity column 38121 (100.0%), 2521.30 column/sec. Elapsed time 15.12 sec\n",
      "EvaluatorHoldout: Processed 35595 (100.0%) in 28.51 sec. Users per second: 1248\n"
     ]
    },
    {
     "name": "stderr",
     "output_type": "stream",
     "text": [
      "[I 2024-11-18 17:52:09,788] Trial 32 finished with value: 0.04339842184005504 and parameters: {'topK': 5, 'alpha': 1.5996801945276657, 'normalize_similarity': True, 'implicit': False}. Best is trial 19 with value: 0.04642285790094288.\n"
     ]
    },
    {
     "name": "stdout",
     "output_type": "stream",
     "text": [
      "P3alphaRecommender: Similarity column 38121 (100.0%), 1093.93 column/sec. Elapsed time 34.85 sec\n",
      "EvaluatorHoldout: Processed 35595 (100.0%) in 43.23 sec. Users per second: 823\n"
     ]
    },
    {
     "name": "stderr",
     "output_type": "stream",
     "text": [
      "[I 2024-11-18 17:53:44,033] Trial 33 finished with value: 0.037996609787800846 and parameters: {'topK': 423, 'alpha': 1.736510395820371, 'normalize_similarity': True, 'implicit': False}. Best is trial 19 with value: 0.04642285790094288.\n"
     ]
    },
    {
     "name": "stdout",
     "output_type": "stream",
     "text": [
      "P3alphaRecommender: Similarity column 38121 (100.0%), 1464.27 column/sec. Elapsed time 26.03 sec\n",
      "EvaluatorHoldout: Processed 35595 (100.0%) in 39.45 sec. Users per second: 902\n"
     ]
    },
    {
     "name": "stderr",
     "output_type": "stream",
     "text": [
      "[I 2024-11-18 17:54:58,939] Trial 34 finished with value: 0.039102759884680094 and parameters: {'topK': 247, 'alpha': 1.8940087670634707, 'normalize_similarity': True, 'implicit': False}. Best is trial 19 with value: 0.04642285790094288.\n"
     ]
    },
    {
     "name": "stdout",
     "output_type": "stream",
     "text": [
      "P3alphaRecommender: Similarity column 38121 (100.0%), 1924.62 column/sec. Elapsed time 19.81 sec\n",
      "EvaluatorHoldout: Processed 35595 (100.0%) in 35.70 sec. Users per second: 997\n"
     ]
    },
    {
     "name": "stderr",
     "output_type": "stream",
     "text": [
      "[I 2024-11-18 17:55:58,713] Trial 35 finished with value: 0.04111136417857713 and parameters: {'topK': 110, 'alpha': 1.994365686268915, 'normalize_similarity': True, 'implicit': False}. Best is trial 19 with value: 0.04642285790094288.\n"
     ]
    },
    {
     "name": "stdout",
     "output_type": "stream",
     "text": [
      "P3alphaRecommender: Similarity column 38121 (100.0%), 1192.78 column/sec. Elapsed time 31.96 sec\n",
      "EvaluatorHoldout: Processed 35595 (100.0%) in 41.79 sec. Users per second: 852\n"
     ]
    },
    {
     "name": "stderr",
     "output_type": "stream",
     "text": [
      "[I 2024-11-18 17:57:26,571] Trial 36 finished with value: 0.03894964626296129 and parameters: {'topK': 373, 'alpha': 1.5150602384848373, 'normalize_similarity': True, 'implicit': True}. Best is trial 19 with value: 0.04642285790094288.\n"
     ]
    },
    {
     "name": "stdout",
     "output_type": "stream",
     "text": [
      "P3alphaRecommender: Similarity column 38121 (100.0%), 2055.99 column/sec. Elapsed time 18.54 sec\n",
      "EvaluatorHoldout: Processed 35595 (100.0%) in 34.74 sec. Users per second: 1025\n"
     ]
    },
    {
     "name": "stderr",
     "output_type": "stream",
     "text": [
      "[I 2024-11-18 17:58:23,438] Trial 37 finished with value: 0.04310886806377577 and parameters: {'topK': 88, 'alpha': 1.7016029345384138, 'normalize_similarity': True, 'implicit': False}. Best is trial 19 with value: 0.04642285790094288.\n"
     ]
    },
    {
     "name": "stdout",
     "output_type": "stream",
     "text": [
      "P3alphaRecommender: Similarity column 38121 (100.0%), 1458.73 column/sec. Elapsed time 26.13 sec\n",
      "EvaluatorHoldout: Processed 35595 (100.0%) in 38.20 sec. Users per second: 932\n"
     ]
    },
    {
     "name": "stderr",
     "output_type": "stream",
     "text": [
      "[I 2024-11-18 17:59:36,329] Trial 38 finished with value: 0.028588602599347927 and parameters: {'topK': 255, 'alpha': 0.002603046543897536, 'normalize_similarity': False, 'implicit': False}. Best is trial 19 with value: 0.04642285790094288.\n"
     ]
    },
    {
     "name": "stdout",
     "output_type": "stream",
     "text": [
      "P3alphaRecommender: Similarity column 38121 (100.0%), 811.34 column/sec. Elapsed time 46.99 sec\n",
      "EvaluatorHoldout: Processed 35595 (100.0%) in 47.33 sec. Users per second: 752\n"
     ]
    },
    {
     "name": "stderr",
     "output_type": "stream",
     "text": [
      "[I 2024-11-18 18:01:36,531] Trial 39 finished with value: 0.03711739431924718 and parameters: {'topK': 684, 'alpha': 0.9736489007196081, 'normalize_similarity': True, 'implicit': True}. Best is trial 19 with value: 0.04642285790094288.\n"
     ]
    },
    {
     "name": "stdout",
     "output_type": "stream",
     "text": [
      "P3alphaRecommender: Similarity column 38121 (100.0%), 1688.73 column/sec. Elapsed time 22.57 sec\n",
      "EvaluatorHoldout: Processed 35595 (100.0%) in 37.54 sec. Users per second: 948\n"
     ]
    },
    {
     "name": "stderr",
     "output_type": "stream",
     "text": [
      "[I 2024-11-18 18:02:43,165] Trial 40 finished with value: 0.04044177887477345 and parameters: {'topK': 173, 'alpha': 1.8131323156896184, 'normalize_similarity': True, 'implicit': False}. Best is trial 19 with value: 0.04642285790094288.\n"
     ]
    },
    {
     "name": "stdout",
     "output_type": "stream",
     "text": [
      "P3alphaRecommender: Similarity column 38121 (100.0%), 2013.64 column/sec. Elapsed time 18.93 sec\n",
      "EvaluatorHoldout: Processed 35595 (100.0%) in 30.25 sec. Users per second: 1177\n"
     ]
    },
    {
     "name": "stderr",
     "output_type": "stream",
     "text": [
      "[I 2024-11-18 18:03:35,945] Trial 41 finished with value: 0.04671227455255944 and parameters: {'topK': 92, 'alpha': 0.8797215936108498, 'normalize_similarity': True, 'implicit': False}. Best is trial 41 with value: 0.04671227455255944.\n"
     ]
    },
    {
     "name": "stdout",
     "output_type": "stream",
     "text": [
      "P3alphaRecommender: Similarity column 38121 (100.0%), 2240.52 column/sec. Elapsed time 17.01 sec\n",
      "EvaluatorHoldout: Processed 35595 (100.0%) in 32.40 sec. Users per second: 1099\n"
     ]
    },
    {
     "name": "stderr",
     "output_type": "stream",
     "text": [
      "[I 2024-11-18 18:04:27,411] Trial 42 finished with value: 0.0499208054903359 and parameters: {'topK': 46, 'alpha': 0.7751751442383075, 'normalize_similarity': True, 'implicit': False}. Best is trial 42 with value: 0.0499208054903359.\n"
     ]
    },
    {
     "name": "stdout",
     "output_type": "stream",
     "text": [
      "P3alphaRecommender: Similarity column 38121 (100.0%), 2089.44 column/sec. Elapsed time 18.24 sec\n",
      "EvaluatorHoldout: Processed 35595 (100.0%) in 33.62 sec. Users per second: 1059\n"
     ]
    },
    {
     "name": "stderr",
     "output_type": "stream",
     "text": [
      "[I 2024-11-18 18:05:22,235] Trial 43 finished with value: 0.047704401590198786 and parameters: {'topK': 76, 'alpha': 0.8062809227326186, 'normalize_similarity': True, 'implicit': False}. Best is trial 42 with value: 0.0499208054903359.\n"
     ]
    },
    {
     "name": "stdout",
     "output_type": "stream",
     "text": [
      "P3alphaRecommender: Similarity column 38121 (100.0%), 1379.47 column/sec. Elapsed time 27.63 sec\n",
      "EvaluatorHoldout: Processed 35595 (100.0%) in 39.09 sec. Users per second: 911\n"
     ]
    },
    {
     "name": "stderr",
     "output_type": "stream",
     "text": [
      "[I 2024-11-18 18:06:38,869] Trial 44 finished with value: 0.04110919248066151 and parameters: {'topK': 274, 'alpha': 0.8168793406409641, 'normalize_similarity': True, 'implicit': False}. Best is trial 42 with value: 0.0499208054903359.\n"
     ]
    },
    {
     "name": "stdout",
     "output_type": "stream",
     "text": [
      "P3alphaRecommender: Similarity column 38121 (100.0%), 1893.22 column/sec. Elapsed time 20.14 sec\n",
      "EvaluatorHoldout: Processed 35595 (100.0%) in 30.77 sec. Users per second: 1157\n"
     ]
    },
    {
     "name": "stderr",
     "output_type": "stream",
     "text": [
      "[I 2024-11-18 18:07:34,021] Trial 45 finished with value: 0.04614070551196392 and parameters: {'topK': 123, 'alpha': 0.5385571967030147, 'normalize_similarity': True, 'implicit': True}. Best is trial 42 with value: 0.0499208054903359.\n"
     ]
    },
    {
     "name": "stdout",
     "output_type": "stream",
     "text": [
      "P3alphaRecommender: Similarity column 38121 (100.0%), 1304.42 column/sec. Elapsed time 29.22 sec\n",
      "EvaluatorHoldout: Processed 35595 (100.0%) in 39.74 sec. Users per second: 896\n"
     ]
    },
    {
     "name": "stderr",
     "output_type": "stream",
     "text": [
      "[I 2024-11-18 18:08:54,105] Trial 46 finished with value: 0.03614812919595787 and parameters: {'topK': 317, 'alpha': 0.5231074314724962, 'normalize_similarity': False, 'implicit': True}. Best is trial 42 with value: 0.0499208054903359.\n"
     ]
    },
    {
     "name": "stdout",
     "output_type": "stream",
     "text": [
      "P3alphaRecommender: Similarity column 38121 (100.0%), 587.49 column/sec. Elapsed time 1.08 min\n",
      "EvaluatorHoldout: Processed 35595 (100.0%) in 52.56 sec. Users per second: 677\n"
     ]
    },
    {
     "name": "stderr",
     "output_type": "stream",
     "text": [
      "[I 2024-11-18 18:11:32,768] Trial 47 finished with value: 0.033104359672415914 and parameters: {'topK': 1174, 'alpha': 0.3320066326612452, 'normalize_similarity': True, 'implicit': True}. Best is trial 42 with value: 0.0499208054903359.\n"
     ]
    },
    {
     "name": "stdout",
     "output_type": "stream",
     "text": [
      "P3alphaRecommender: Similarity column 38121 (100.0%), 1617.92 column/sec. Elapsed time 23.56 sec\n",
      "EvaluatorHoldout: Processed 35595 (100.0%) in 30.08 sec. Users per second: 1183\n"
     ]
    },
    {
     "name": "stderr",
     "output_type": "stream",
     "text": [
      "[I 2024-11-18 18:12:33,458] Trial 48 finished with value: 0.043058429599304775 and parameters: {'topK': 196, 'alpha': 0.7221957450866141, 'normalize_similarity': True, 'implicit': True}. Best is trial 42 with value: 0.0499208054903359.\n"
     ]
    },
    {
     "name": "stdout",
     "output_type": "stream",
     "text": [
      "P3alphaRecommender: Similarity column 38121 (100.0%), 638.94 column/sec. Elapsed time 59.66 sec\n",
      "EvaluatorHoldout: Processed 35595 (100.0%) in 52.50 sec. Users per second: 678\n"
     ]
    },
    {
     "name": "stderr",
     "output_type": "stream",
     "text": [
      "[I 2024-11-18 18:15:02,882] Trial 49 finished with value: 0.03572003157211605 and parameters: {'topK': 1018, 'alpha': 1.0120178076093256, 'normalize_similarity': True, 'implicit': True}. Best is trial 42 with value: 0.0499208054903359.\n"
     ]
    },
    {
     "name": "stdout",
     "output_type": "stream",
     "text": [
      "P3alphaRecommender: Similarity column 38121 (100.0%), 2018.65 column/sec. Elapsed time 18.88 sec\n",
      "EvaluatorHoldout: Processed 35595 (100.0%) in 29.94 sec. Users per second: 1189\n"
     ]
    },
    {
     "name": "stderr",
     "output_type": "stream",
     "text": [
      "[I 2024-11-18 18:15:55,109] Trial 50 finished with value: 0.04747547698200718 and parameters: {'topK': 96, 'alpha': 0.4796642242844803, 'normalize_similarity': True, 'implicit': True}. Best is trial 42 with value: 0.0499208054903359.\n"
     ]
    },
    {
     "name": "stdout",
     "output_type": "stream",
     "text": [
      "P3alphaRecommender: Similarity column 38121 (100.0%), 1881.88 column/sec. Elapsed time 20.26 sec\n",
      "EvaluatorHoldout: Processed 35595 (100.0%) in 30.66 sec. Users per second: 1161\n"
     ]
    },
    {
     "name": "stderr",
     "output_type": "stream",
     "text": [
      "[I 2024-11-18 18:16:50,325] Trial 51 finished with value: 0.04593376209874155 and parameters: {'topK': 126, 'alpha': 0.4045700260964513, 'normalize_similarity': True, 'implicit': True}. Best is trial 42 with value: 0.0499208054903359.\n"
     ]
    },
    {
     "name": "stdout",
     "output_type": "stream",
     "text": [
      "P3alphaRecommender: Similarity column 38121 (100.0%), 2156.92 column/sec. Elapsed time 17.67 sec\n",
      "EvaluatorHoldout: Processed 35595 (100.0%) in 33.08 sec. Users per second: 1076\n"
     ]
    },
    {
     "name": "stderr",
     "output_type": "stream",
     "text": [
      "[I 2024-11-18 18:17:43,641] Trial 52 finished with value: 0.04913950483503634 and parameters: {'topK': 64, 'alpha': 0.6040727091466473, 'normalize_similarity': True, 'implicit': True}. Best is trial 42 with value: 0.0499208054903359.\n"
     ]
    },
    {
     "name": "stdout",
     "output_type": "stream",
     "text": [
      "P3alphaRecommender: Similarity column 38121 (100.0%), 2179.35 column/sec. Elapsed time 17.49 sec\n",
      "EvaluatorHoldout: Processed 35595 (100.0%) in 33.11 sec. Users per second: 1075\n"
     ]
    },
    {
     "name": "stderr",
     "output_type": "stream",
     "text": [
      "[I 2024-11-18 18:18:36,707] Trial 53 finished with value: 0.04922186101579093 and parameters: {'topK': 61, 'alpha': 0.6639698355244541, 'normalize_similarity': True, 'implicit': True}. Best is trial 42 with value: 0.0499208054903359.\n"
     ]
    },
    {
     "name": "stdout",
     "output_type": "stream",
     "text": [
      "P3alphaRecommender: Similarity column 38121 (100.0%), 2146.85 column/sec. Elapsed time 17.76 sec\n",
      "EvaluatorHoldout: Processed 35595 (100.0%) in 32.94 sec. Users per second: 1080\n"
     ]
    },
    {
     "name": "stderr",
     "output_type": "stream",
     "text": [
      "[I 2024-11-18 18:19:30,058] Trial 54 finished with value: 0.04875024247653658 and parameters: {'topK': 68, 'alpha': 0.6718778178824124, 'normalize_similarity': True, 'implicit': True}. Best is trial 42 with value: 0.0499208054903359.\n"
     ]
    },
    {
     "name": "stdout",
     "output_type": "stream",
     "text": [
      "P3alphaRecommender: Similarity column 38121 (100.0%), 736.72 column/sec. Elapsed time 51.74 sec\n",
      "EvaluatorHoldout: Processed 35595 (100.0%) in 48.90 sec. Users per second: 728\n"
     ]
    },
    {
     "name": "stderr",
     "output_type": "stream",
     "text": [
      "[I 2024-11-18 18:21:40,205] Trial 55 finished with value: 0.03572891457467824 and parameters: {'topK': 821, 'alpha': 0.6632266127513817, 'normalize_similarity': True, 'implicit': True}. Best is trial 42 with value: 0.0499208054903359.\n"
     ]
    },
    {
     "name": "stdout",
     "output_type": "stream",
     "text": [
      "P3alphaRecommender: Similarity column 38121 (100.0%), 2104.41 column/sec. Elapsed time 18.11 sec\n",
      "EvaluatorHoldout: Processed 35595 (100.0%) in 33.43 sec. Users per second: 1065\n"
     ]
    },
    {
     "name": "stderr",
     "output_type": "stream",
     "text": [
      "[I 2024-11-18 18:22:34,774] Trial 56 finished with value: 0.048114301767902996 and parameters: {'topK': 80, 'alpha': 0.6261525879372072, 'normalize_similarity': True, 'implicit': True}. Best is trial 42 with value: 0.0499208054903359.\n"
     ]
    },
    {
     "name": "stdout",
     "output_type": "stream",
     "text": [
      "P3alphaRecommender: Similarity column 38121 (100.0%), 1529.24 column/sec. Elapsed time 24.93 sec\n",
      "EvaluatorHoldout: Processed 35595 (100.0%) in 37.72 sec. Users per second: 944\n"
     ]
    },
    {
     "name": "stderr",
     "output_type": "stream",
     "text": [
      "[I 2024-11-18 18:23:45,198] Trial 57 finished with value: 0.039221662575222 and parameters: {'topK': 222, 'alpha': 0.6367022402639457, 'normalize_similarity': False, 'implicit': True}. Best is trial 42 with value: 0.0499208054903359.\n"
     ]
    },
    {
     "name": "stdout",
     "output_type": "stream",
     "text": [
      "P3alphaRecommender: Similarity column 38121 (100.0%), 2129.14 column/sec. Elapsed time 17.90 sec\n",
      "EvaluatorHoldout: Processed 35595 (100.0%) in 33.21 sec. Users per second: 1072\n"
     ]
    },
    {
     "name": "stderr",
     "output_type": "stream",
     "text": [
      "[I 2024-11-18 18:24:38,945] Trial 58 finished with value: 0.04861177778223528 and parameters: {'topK': 66, 'alpha': 0.7487700552448928, 'normalize_similarity': True, 'implicit': True}. Best is trial 42 with value: 0.0499208054903359.\n"
     ]
    },
    {
     "name": "stdout",
     "output_type": "stream",
     "text": [
      "P3alphaRecommender: Similarity column 38121 (100.0%), 1678.39 column/sec. Elapsed time 22.71 sec\n",
      "EvaluatorHoldout: Processed 35595 (100.0%) in 32.47 sec. Users per second: 1096\n"
     ]
    },
    {
     "name": "stderr",
     "output_type": "stream",
     "text": [
      "[I 2024-11-18 18:25:40,506] Trial 59 finished with value: 0.04343702076044954 and parameters: {'topK': 180, 'alpha': 0.7249077968561344, 'normalize_similarity': True, 'implicit': True}. Best is trial 42 with value: 0.0499208054903359.\n"
     ]
    },
    {
     "name": "stdout",
     "output_type": "stream",
     "text": [
      "P3alphaRecommender: Similarity column 38121 (100.0%), 2217.02 column/sec. Elapsed time 17.19 sec\n",
      "EvaluatorHoldout: Processed 35595 (100.0%) in 32.36 sec. Users per second: 1100\n"
     ]
    },
    {
     "name": "stderr",
     "output_type": "stream",
     "text": [
      "[I 2024-11-18 18:26:32,256] Trial 60 finished with value: 0.05003946514692218 and parameters: {'topK': 52, 'alpha': 0.43503766551925976, 'normalize_similarity': True, 'implicit': True}. Best is trial 60 with value: 0.05003946514692218.\n"
     ]
    },
    {
     "name": "stdout",
     "output_type": "stream",
     "text": [
      "P3alphaRecommender: Similarity column 38121 (100.0%), 2179.83 column/sec. Elapsed time 17.49 sec\n",
      "EvaluatorHoldout: Processed 35595 (100.0%) in 32.38 sec. Users per second: 1099\n"
     ]
    },
    {
     "name": "stderr",
     "output_type": "stream",
     "text": [
      "[I 2024-11-18 18:27:24,429] Trial 61 finished with value: 0.049170351195212555 and parameters: {'topK': 61, 'alpha': 0.2429927467600869, 'normalize_similarity': True, 'implicit': True}. Best is trial 60 with value: 0.05003946514692218.\n"
     ]
    },
    {
     "name": "stdout",
     "output_type": "stream",
     "text": [
      "P3alphaRecommender: Similarity column 38121 (100.0%), 2168.27 column/sec. Elapsed time 17.58 sec\n",
      "EvaluatorHoldout: Processed 35595 (100.0%) in 32.59 sec. Users per second: 1092\n"
     ]
    },
    {
     "name": "stderr",
     "output_type": "stream",
     "text": [
      "[I 2024-11-18 18:28:16,875] Trial 62 finished with value: 0.04921896244567789 and parameters: {'topK': 60, 'alpha': 0.21843651588137336, 'normalize_similarity': True, 'implicit': True}. Best is trial 60 with value: 0.05003946514692218.\n"
     ]
    },
    {
     "name": "stdout",
     "output_type": "stream",
     "text": [
      "P3alphaRecommender: Similarity column 38121 (100.0%), 2249.70 column/sec. Elapsed time 16.94 sec\n",
      "EvaluatorHoldout: Processed 35595 (100.0%) in 31.86 sec. Users per second: 1117\n"
     ]
    },
    {
     "name": "stderr",
     "output_type": "stream",
     "text": [
      "[I 2024-11-18 18:29:07,652] Trial 63 finished with value: 0.049978608552564 and parameters: {'topK': 49, 'alpha': 0.20654362434819667, 'normalize_similarity': True, 'implicit': True}. Best is trial 60 with value: 0.05003946514692218.\n"
     ]
    },
    {
     "name": "stdout",
     "output_type": "stream",
     "text": [
      "P3alphaRecommender: Similarity column 38121 (100.0%), 1675.37 column/sec. Elapsed time 22.75 sec\n",
      "EvaluatorHoldout: Processed 35595 (100.0%) in 31.71 sec. Users per second: 1123\n"
     ]
    },
    {
     "name": "stderr",
     "output_type": "stream",
     "text": [
      "[I 2024-11-18 18:30:07,925] Trial 64 finished with value: 0.04332941580434042 and parameters: {'topK': 178, 'alpha': 0.21384084450039043, 'normalize_similarity': True, 'implicit': True}. Best is trial 60 with value: 0.05003946514692218.\n"
     ]
    },
    {
     "name": "stdout",
     "output_type": "stream",
     "text": [
      "P3alphaRecommender: Similarity column 38121 (100.0%), 1757.92 column/sec. Elapsed time 21.69 sec\n",
      "EvaluatorHoldout: Processed 35595 (100.0%) in 31.17 sec. Users per second: 1142\n"
     ]
    },
    {
     "name": "stderr",
     "output_type": "stream",
     "text": [
      "[I 2024-11-18 18:31:05,693] Trial 65 finished with value: 0.04397519046949989 and parameters: {'topK': 151, 'alpha': 0.13779150779361493, 'normalize_similarity': True, 'implicit': True}. Best is trial 60 with value: 0.05003946514692218.\n"
     ]
    },
    {
     "name": "stdout",
     "output_type": "stream",
     "text": [
      "P3alphaRecommender: Similarity column 38121 (100.0%), 2261.66 column/sec. Elapsed time 16.86 sec\n",
      "EvaluatorHoldout: Processed 35595 (100.0%) in 31.69 sec. Users per second: 1123\n"
     ]
    },
    {
     "name": "stderr",
     "output_type": "stream",
     "text": [
      "[I 2024-11-18 18:31:56,089] Trial 66 finished with value: 0.05044443998510413 and parameters: {'topK': 43, 'alpha': 0.24942194438947612, 'normalize_similarity': True, 'implicit': True}. Best is trial 66 with value: 0.05044443998510413.\n"
     ]
    },
    {
     "name": "stdout",
     "output_type": "stream",
     "text": [
      "P3alphaRecommender: Similarity column 38121 (100.0%), 1318.55 column/sec. Elapsed time 28.91 sec\n",
      "EvaluatorHoldout: Processed 35595 (100.0%) in 38.83 sec. Users per second: 917\n"
     ]
    },
    {
     "name": "stderr",
     "output_type": "stream",
     "text": [
      "[I 2024-11-18 18:33:14,530] Trial 67 finished with value: 0.039884795216020064 and parameters: {'topK': 309, 'alpha': 0.2341722924691252, 'normalize_similarity': True, 'implicit': True}. Best is trial 66 with value: 0.05044443998510413.\n"
     ]
    },
    {
     "name": "stdout",
     "output_type": "stream",
     "text": [
      "P3alphaRecommender: Similarity column 38121 (100.0%), 2298.13 column/sec. Elapsed time 16.59 sec\n",
      "EvaluatorHoldout: Processed 35595 (100.0%) in 31.38 sec. Users per second: 1134\n"
     ]
    },
    {
     "name": "stderr",
     "output_type": "stream",
     "text": [
      "[I 2024-11-18 18:34:04,171] Trial 68 finished with value: 0.0504332604231449 and parameters: {'topK': 37, 'alpha': 0.06444237937622799, 'normalize_similarity': True, 'implicit': True}. Best is trial 66 with value: 0.05044443998510413.\n"
     ]
    },
    {
     "name": "stdout",
     "output_type": "stream",
     "text": [
      "P3alphaRecommender: Similarity column 38121 (100.0%), 2517.44 column/sec. Elapsed time 15.14 sec\n",
      "EvaluatorHoldout: Processed 35595 (100.0%) in 28.28 sec. Users per second: 1259\n"
     ]
    },
    {
     "name": "stderr",
     "output_type": "stream",
     "text": [
      "[I 2024-11-18 18:34:48,497] Trial 69 finished with value: 0.043211142995380994 and parameters: {'topK': 5, 'alpha': 0.3802911700441819, 'normalize_similarity': False, 'implicit': True}. Best is trial 66 with value: 0.05044443998510413.\n"
     ]
    },
    {
     "name": "stdout",
     "output_type": "stream",
     "text": [
      "P3alphaRecommender: Similarity column 38121 (100.0%), 1161.45 column/sec. Elapsed time 32.82 sec\n",
      "EvaluatorHoldout: Processed 35595 (100.0%) in 40.13 sec. Users per second: 887\n"
     ]
    },
    {
     "name": "stderr",
     "output_type": "stream",
     "text": [
      "[I 2024-11-18 18:36:14,831] Trial 70 finished with value: 0.037823326577433994 and parameters: {'topK': 386, 'alpha': 0.06876653309774669, 'normalize_similarity': True, 'implicit': True}. Best is trial 66 with value: 0.05044443998510413.\n"
     ]
    },
    {
     "name": "stdout",
     "output_type": "stream",
     "text": [
      "P3alphaRecommender: Similarity column 38121 (100.0%), 2237.29 column/sec. Elapsed time 17.04 sec\n",
      "EvaluatorHoldout: Processed 35595 (100.0%) in 31.99 sec. Users per second: 1113\n"
     ]
    },
    {
     "name": "stderr",
     "output_type": "stream",
     "text": [
      "[I 2024-11-18 18:37:05,789] Trial 71 finished with value: 0.050115996316584664 and parameters: {'topK': 47, 'alpha': 0.2266274759516383, 'normalize_similarity': True, 'implicit': True}. Best is trial 66 with value: 0.05044443998510413.\n"
     ]
    },
    {
     "name": "stdout",
     "output_type": "stream",
     "text": [
      "P3alphaRecommender: Similarity column 38121 (100.0%), 1853.20 column/sec. Elapsed time 20.57 sec\n",
      "EvaluatorHoldout: Processed 35595 (100.0%) in 30.66 sec. Users per second: 1161\n"
     ]
    },
    {
     "name": "stderr",
     "output_type": "stream",
     "text": [
      "[I 2024-11-18 18:38:01,398] Trial 72 finished with value: 0.04484037685870659 and parameters: {'topK': 133, 'alpha': 0.18592583128363024, 'normalize_similarity': True, 'implicit': True}. Best is trial 66 with value: 0.05044443998510413.\n"
     ]
    },
    {
     "name": "stdout",
     "output_type": "stream",
     "text": [
      "P3alphaRecommender: Similarity column 38121 (100.0%), 2351.48 column/sec. Elapsed time 16.21 sec\n",
      "EvaluatorHoldout: Processed 35595 (100.0%) in 31.13 sec. Users per second: 1143\n"
     ]
    },
    {
     "name": "stderr",
     "output_type": "stream",
     "text": [
      "[I 2024-11-18 18:38:50,280] Trial 73 finished with value: 0.05168747505557268 and parameters: {'topK': 29, 'alpha': 0.32601635587033406, 'normalize_similarity': True, 'implicit': True}. Best is trial 73 with value: 0.05168747505557268.\n"
     ]
    },
    {
     "name": "stdout",
     "output_type": "stream",
     "text": [
      "P3alphaRecommender: Similarity column 38121 (100.0%), 2317.73 column/sec. Elapsed time 16.45 sec\n",
      "EvaluatorHoldout: Processed 35595 (100.0%) in 31.36 sec. Users per second: 1135\n"
     ]
    },
    {
     "name": "stderr",
     "output_type": "stream",
     "text": [
      "[I 2024-11-18 18:39:39,699] Trial 74 finished with value: 0.05131877359268681 and parameters: {'topK': 34, 'alpha': 0.2967764768583923, 'normalize_similarity': True, 'implicit': True}. Best is trial 73 with value: 0.05168747505557268.\n"
     ]
    },
    {
     "name": "stdout",
     "output_type": "stream",
     "text": [
      "P3alphaRecommender: Similarity column 38121 (100.0%), 2000.45 column/sec. Elapsed time 19.06 sec\n",
      "EvaluatorHoldout: Processed 35595 (100.0%) in 27.50 sec. Users per second: 1294\n"
     ]
    },
    {
     "name": "stderr",
     "output_type": "stream",
     "text": [
      "[I 2024-11-18 18:40:27,106] Trial 75 finished with value: 0.04392043870973329 and parameters: {'topK': 3, 'alpha': 0.31915314872364947, 'normalize_similarity': True, 'implicit': True}. Best is trial 73 with value: 0.05168747505557268.\n"
     ]
    },
    {
     "name": "stdout",
     "output_type": "stream",
     "text": [
      "P3alphaRecommender: Similarity column 38121 (100.0%), 1515.82 column/sec. Elapsed time 25.15 sec\n",
      "EvaluatorHoldout: Processed 35595 (100.0%) in 36.73 sec. Users per second: 969\n"
     ]
    },
    {
     "name": "stderr",
     "output_type": "stream",
     "text": [
      "[I 2024-11-18 18:41:36,545] Trial 76 finished with value: 0.041284447833540454 and parameters: {'topK': 225, 'alpha': 0.09476162345242153, 'normalize_similarity': True, 'implicit': True}. Best is trial 73 with value: 0.05168747505557268.\n"
     ]
    },
    {
     "name": "stdout",
     "output_type": "stream",
     "text": [
      "P3alphaRecommender: Similarity column 38121 (100.0%), 2328.21 column/sec. Elapsed time 16.37 sec\n",
      "EvaluatorHoldout: Processed 35595 (100.0%) in 31.39 sec. Users per second: 1134\n"
     ]
    },
    {
     "name": "stderr",
     "output_type": "stream",
     "text": [
      "[I 2024-11-18 18:42:25,935] Trial 77 finished with value: 0.05148157066825263 and parameters: {'topK': 34, 'alpha': 0.4432372927829938, 'normalize_similarity': True, 'implicit': True}. Best is trial 73 with value: 0.05168747505557268.\n"
     ]
    },
    {
     "name": "stdout",
     "output_type": "stream",
     "text": [
      "P3alphaRecommender: Similarity column 38121 (100.0%), 1885.65 column/sec. Elapsed time 20.22 sec\n",
      "EvaluatorHoldout: Processed 35595 (100.0%) in 30.93 sec. Users per second: 1151\n"
     ]
    },
    {
     "name": "stderr",
     "output_type": "stream",
     "text": [
      "[I 2024-11-18 18:43:21,355] Trial 78 finished with value: 0.04603171147186994 and parameters: {'topK': 124, 'alpha': 0.4317328176933879, 'normalize_similarity': True, 'implicit': True}. Best is trial 73 with value: 0.05168747505557268.\n"
     ]
    },
    {
     "name": "stdout",
     "output_type": "stream",
     "text": [
      "P3alphaRecommender: Similarity column 38121 (100.0%), 2272.13 column/sec. Elapsed time 16.78 sec\n",
      "EvaluatorHoldout: Processed 35595 (100.0%) in 31.67 sec. Users per second: 1124\n"
     ]
    },
    {
     "name": "stderr",
     "output_type": "stream",
     "text": [
      "[I 2024-11-18 18:44:11,617] Trial 79 finished with value: 0.0500308296376547 and parameters: {'topK': 40, 'alpha': 0.018119534563767248, 'normalize_similarity': True, 'implicit': True}. Best is trial 73 with value: 0.05168747505557268.\n"
     ]
    },
    {
     "name": "stdout",
     "output_type": "stream",
     "text": [
      "P3alphaRecommender: Similarity column 38121 (100.0%), 988.67 column/sec. Elapsed time 38.56 sec\n",
      "EvaluatorHoldout: Processed 35595 (100.0%) in 42.61 sec. Users per second: 835\n"
     ]
    },
    {
     "name": "stderr",
     "output_type": "stream",
     "text": [
      "[I 2024-11-18 18:45:50,757] Trial 80 finished with value: 0.035836500578597955 and parameters: {'topK': 513, 'alpha': 0.03158471425211695, 'normalize_similarity': True, 'implicit': True}. Best is trial 73 with value: 0.05168747505557268.\n"
     ]
    },
    {
     "name": "stdout",
     "output_type": "stream",
     "text": [
      "P3alphaRecommender: Similarity column 38121 (100.0%), 2379.92 column/sec. Elapsed time 16.02 sec\n",
      "EvaluatorHoldout: Processed 35595 (100.0%) in 31.17 sec. Users per second: 1142\n"
     ]
    },
    {
     "name": "stderr",
     "output_type": "stream",
     "text": [
      "[I 2024-11-18 18:46:39,442] Trial 81 finished with value: 0.051655929694065315 and parameters: {'topK': 29, 'alpha': 0.30774035819385653, 'normalize_similarity': True, 'implicit': True}. Best is trial 73 with value: 0.05168747505557268.\n"
     ]
    },
    {
     "name": "stdout",
     "output_type": "stream",
     "text": [
      "P3alphaRecommender: Similarity column 38121 (100.0%), 1766.71 column/sec. Elapsed time 21.58 sec\n",
      "EvaluatorHoldout: Processed 35595 (100.0%) in 31.28 sec. Users per second: 1138\n"
     ]
    },
    {
     "name": "stderr",
     "output_type": "stream",
     "text": [
      "[I 2024-11-18 18:47:37,309] Trial 82 finished with value: 0.04450834788192402 and parameters: {'topK': 153, 'alpha': 0.2944790097122115, 'normalize_similarity': True, 'implicit': True}. Best is trial 73 with value: 0.05168747505557268.\n"
     ]
    },
    {
     "name": "stdout",
     "output_type": "stream",
     "text": [
      "P3alphaRecommender: Similarity column 38121 (100.0%), 2299.27 column/sec. Elapsed time 16.58 sec\n",
      "EvaluatorHoldout: Processed 35595 (100.0%) in 31.45 sec. Users per second: 1132\n"
     ]
    },
    {
     "name": "stderr",
     "output_type": "stream",
     "text": [
      "[I 2024-11-18 18:48:27,028] Trial 83 finished with value: 0.050827995504984694 and parameters: {'topK': 36, 'alpha': 0.1550416563153536, 'normalize_similarity': True, 'implicit': True}. Best is trial 73 with value: 0.05168747505557268.\n"
     ]
    },
    {
     "name": "stdout",
     "output_type": "stream",
     "text": [
      "P3alphaRecommender: Similarity column 38121 (100.0%), 1955.73 column/sec. Elapsed time 19.49 sec\n",
      "EvaluatorHoldout: Processed 35595 (100.0%) in 30.35 sec. Users per second: 1173\n"
     ]
    },
    {
     "name": "stderr",
     "output_type": "stream",
     "text": [
      "[I 2024-11-18 18:49:20,594] Trial 84 finished with value: 0.04672582759750734 and parameters: {'topK': 108, 'alpha': 0.3592454346016715, 'normalize_similarity': True, 'implicit': True}. Best is trial 73 with value: 0.05168747505557268.\n"
     ]
    },
    {
     "name": "stdout",
     "output_type": "stream",
     "text": [
      "P3alphaRecommender: Similarity column 38121 (100.0%), 2497.95 column/sec. Elapsed time 15.26 sec\n",
      "EvaluatorHoldout: Processed 35595 (100.0%) in 28.22 sec. Users per second: 1261\n"
     ]
    },
    {
     "name": "stderr",
     "output_type": "stream",
     "text": [
      "[I 2024-11-18 18:50:04,977] Trial 85 finished with value: 0.0499938193566497 and parameters: {'topK': 5, 'alpha': 0.16192244487075158, 'normalize_similarity': True, 'implicit': True}. Best is trial 73 with value: 0.05168747505557268.\n"
     ]
    },
    {
     "name": "stdout",
     "output_type": "stream",
     "text": [
      "P3alphaRecommender: Similarity column 38121 (100.0%), 2299.29 column/sec. Elapsed time 16.58 sec\n",
      "EvaluatorHoldout: Processed 35595 (100.0%) in 31.86 sec. Users per second: 1117\n"
     ]
    },
    {
     "name": "stderr",
     "output_type": "stream",
     "text": [
      "[I 2024-11-18 18:50:55,127] Trial 86 finished with value: 0.04123215428419645 and parameters: {'topK': 37, 'alpha': 0.4386892652187496, 'normalize_similarity': False, 'implicit': True}. Best is trial 73 with value: 0.05168747505557268.\n"
     ]
    },
    {
     "name": "stdout",
     "output_type": "stream",
     "text": [
      "P3alphaRecommender: Similarity column 38121 (100.0%), 1600.78 column/sec. Elapsed time 23.81 sec\n",
      "EvaluatorHoldout: Processed 35595 (100.0%) in 29.49 sec. Users per second: 1207\n"
     ]
    },
    {
     "name": "stderr",
     "output_type": "stream",
     "text": [
      "[I 2024-11-18 18:51:54,915] Trial 87 finished with value: 0.04281005558565462 and parameters: {'topK': 197, 'alpha': 0.27913192887283794, 'normalize_similarity': True, 'implicit': True}. Best is trial 73 with value: 0.05168747505557268.\n"
     ]
    },
    {
     "name": "stdout",
     "output_type": "stream",
     "text": [
      "P3alphaRecommender: Similarity column 38121 (100.0%), 1944.43 column/sec. Elapsed time 19.61 sec\n",
      "EvaluatorHoldout: Processed 35595 (100.0%) in 30.20 sec. Users per second: 1179\n"
     ]
    },
    {
     "name": "stderr",
     "output_type": "stream",
     "text": [
      "[I 2024-11-18 18:52:48,301] Trial 88 finished with value: 0.04586056985888287 and parameters: {'topK': 106, 'alpha': 0.09930026998158548, 'normalize_similarity': True, 'implicit': True}. Best is trial 73 with value: 0.05168747505557268.\n"
     ]
    },
    {
     "name": "stdout",
     "output_type": "stream",
     "text": [
      "P3alphaRecommender: Similarity column 38121 (100.0%), 1434.77 column/sec. Elapsed time 26.57 sec\n",
      "EvaluatorHoldout: Processed 35595 (100.0%) in 38.17 sec. Users per second: 932\n"
     ]
    },
    {
     "name": "stderr",
     "output_type": "stream",
     "text": [
      "[I 2024-11-18 18:54:02,119] Trial 89 finished with value: 0.04151407590240134 and parameters: {'topK': 259, 'alpha': 0.4792311919665272, 'normalize_similarity': True, 'implicit': True}. Best is trial 73 with value: 0.05168747505557268.\n"
     ]
    },
    {
     "name": "stdout",
     "output_type": "stream",
     "text": [
      "P3alphaRecommender: Similarity column 38121 (100.0%), 1756.11 column/sec. Elapsed time 21.71 sec\n",
      "EvaluatorHoldout: Processed 35595 (100.0%) in 31.47 sec. Users per second: 1131\n"
     ]
    },
    {
     "name": "stderr",
     "output_type": "stream",
     "text": [
      "[I 2024-11-18 18:55:00,423] Trial 90 finished with value: 0.044669806041064436 and parameters: {'topK': 154, 'alpha': 0.3586705652631851, 'normalize_similarity': True, 'implicit': True}. Best is trial 73 with value: 0.05168747505557268.\n"
     ]
    },
    {
     "name": "stdout",
     "output_type": "stream",
     "text": [
      "P3alphaRecommender: Similarity column 38121 (100.0%), 2357.32 column/sec. Elapsed time 16.17 sec\n",
      "EvaluatorHoldout: Processed 35595 (100.0%) in 30.91 sec. Users per second: 1152\n"
     ]
    },
    {
     "name": "stderr",
     "output_type": "stream",
     "text": [
      "[I 2024-11-18 18:55:48,947] Trial 91 finished with value: 0.05114726296942715 and parameters: {'topK': 28, 'alpha': 0.032440420110027346, 'normalize_similarity': True, 'implicit': True}. Best is trial 73 with value: 0.05168747505557268.\n"
     ]
    },
    {
     "name": "stdout",
     "output_type": "stream",
     "text": [
      "P3alphaRecommender: Similarity column 38121 (100.0%), 2381.30 column/sec. Elapsed time 16.01 sec\n",
      "EvaluatorHoldout: Processed 35595 (100.0%) in 30.56 sec. Users per second: 1165\n"
     ]
    },
    {
     "name": "stderr",
     "output_type": "stream",
     "text": [
      "[I 2024-11-18 18:56:36,849] Trial 92 finished with value: 0.052149027752692236 and parameters: {'topK': 23, 'alpha': 0.15118039543070538, 'normalize_similarity': True, 'implicit': True}. Best is trial 92 with value: 0.052149027752692236.\n"
     ]
    },
    {
     "name": "stdout",
     "output_type": "stream",
     "text": [
      "P3alphaRecommender: Similarity column 38121 (100.0%), 2369.26 column/sec. Elapsed time 16.09 sec\n",
      "EvaluatorHoldout: Processed 35595 (100.0%) in 30.79 sec. Users per second: 1156\n"
     ]
    },
    {
     "name": "stderr",
     "output_type": "stream",
     "text": [
      "[I 2024-11-18 18:57:25,118] Trial 93 finished with value: 0.05167098553613323 and parameters: {'topK': 26, 'alpha': 0.15164364464860913, 'normalize_similarity': True, 'implicit': True}. Best is trial 92 with value: 0.052149027752692236.\n"
     ]
    },
    {
     "name": "stdout",
     "output_type": "stream",
     "text": [
      "P3alphaRecommender: Similarity column 38121 (100.0%), 3650.08 column/sec. Elapsed time 10.44 sec\n",
      "EvaluatorHoldout: Processed 35595 (100.0%) in 26.16 sec. Users per second: 1361\n"
     ]
    },
    {
     "name": "stderr",
     "output_type": "stream",
     "text": [
      "[I 2024-11-18 18:58:02,499] Trial 94 finished with value: 0.02086482072343813 and parameters: {'topK': 1, 'alpha': 0.13979437698155728, 'normalize_similarity': True, 'implicit': True}. Best is trial 92 with value: 0.052149027752692236.\n"
     ]
    },
    {
     "name": "stdout",
     "output_type": "stream",
     "text": [
      "P3alphaRecommender: Similarity column 38121 (100.0%), 1975.36 column/sec. Elapsed time 19.30 sec\n",
      "EvaluatorHoldout: Processed 35595 (100.0%) in 29.82 sec. Users per second: 1194\n"
     ]
    },
    {
     "name": "stderr",
     "output_type": "stream",
     "text": [
      "[I 2024-11-18 18:58:55,121] Trial 95 finished with value: 0.04595166745819788 and parameters: {'topK': 104, 'alpha': 0.08883540869678166, 'normalize_similarity': True, 'implicit': True}. Best is trial 92 with value: 0.052149027752692236.\n"
     ]
    },
    {
     "name": "stdout",
     "output_type": "stream",
     "text": [
      "P3alphaRecommender: Similarity column 38121 (100.0%), 2311.48 column/sec. Elapsed time 16.49 sec\n",
      "EvaluatorHoldout: Processed 35595 (100.0%) in 31.26 sec. Users per second: 1139\n"
     ]
    },
    {
     "name": "stderr",
     "output_type": "stream",
     "text": [
      "[I 2024-11-18 18:59:44,534] Trial 96 finished with value: 0.050476618572697717 and parameters: {'topK': 36, 'alpha': 0.05511414789607254, 'normalize_similarity': True, 'implicit': True}. Best is trial 92 with value: 0.052149027752692236.\n"
     ]
    },
    {
     "name": "stdout",
     "output_type": "stream",
     "text": [
      "P3alphaRecommender: Similarity column 38121 (100.0%), 2013.77 column/sec. Elapsed time 18.93 sec\n",
      "EvaluatorHoldout: Processed 35595 (100.0%) in 29.50 sec. Users per second: 1207\n"
     ]
    },
    {
     "name": "stderr",
     "output_type": "stream",
     "text": [
      "[I 2024-11-18 19:00:36,071] Trial 97 finished with value: 0.046980434651735174 and parameters: {'topK': 90, 'alpha': 0.16116607169574937, 'normalize_similarity': True, 'implicit': True}. Best is trial 92 with value: 0.052149027752692236.\n"
     ]
    },
    {
     "name": "stdout",
     "output_type": "stream",
     "text": [
      "P3alphaRecommender: Similarity column 38121 (100.0%), 548.09 column/sec. Elapsed time 1.16 min\n",
      "EvaluatorHoldout: Processed 35595 (100.0%) in 54.48 sec. Users per second: 653\n"
     ]
    },
    {
     "name": "stderr",
     "output_type": "stream",
     "text": [
      "[I 2024-11-18 19:03:25,456] Trial 98 finished with value: 0.032528770538040486 and parameters: {'topK': 1323, 'alpha': 0.28912391215840266, 'normalize_similarity': True, 'implicit': True}. Best is trial 92 with value: 0.052149027752692236.\n"
     ]
    },
    {
     "name": "stdout",
     "output_type": "stream",
     "text": [
      "P3alphaRecommender: Similarity column 38121 (100.0%), 1821.51 column/sec. Elapsed time 20.93 sec\n",
      "EvaluatorHoldout: Processed 35595 (100.0%) in 30.85 sec. Users per second: 1154\n"
     ]
    },
    {
     "name": "stderr",
     "output_type": "stream",
     "text": [
      "[I 2024-11-18 19:04:21,925] Trial 99 finished with value: 0.04397427073090628 and parameters: {'topK': 141, 'alpha': 0.052029492276303074, 'normalize_similarity': True, 'implicit': True}. Best is trial 92 with value: 0.052149027752692236.\n"
     ]
    },
    {
     "name": "stdout",
     "output_type": "stream",
     "text": [
      "P3alphaRecommender: Similarity column 38121 (100.0%), 2371.13 column/sec. Elapsed time 16.08 sec\n",
      "EvaluatorHoldout: Processed 35595 (100.0%) in 31.06 sec. Users per second: 1146\n"
     ]
    },
    {
     "name": "stderr",
     "output_type": "stream",
     "text": [
      "[I 2024-11-18 19:05:10,538] Trial 100 finished with value: 0.03785599457744277 and parameters: {'topK': 27, 'alpha': 0.26039504739208863, 'normalize_similarity': False, 'implicit': True}. Best is trial 92 with value: 0.052149027752692236.\n"
     ]
    },
    {
     "name": "stdout",
     "output_type": "stream",
     "text": [
      "P3alphaRecommender: Similarity column 38121 (100.0%), 1991.26 column/sec. Elapsed time 19.14 sec\n",
      "EvaluatorHoldout: Processed 35595 (100.0%) in 29.79 sec. Users per second: 1195\n"
     ]
    },
    {
     "name": "stderr",
     "output_type": "stream",
     "text": [
      "[I 2024-11-18 19:06:02,709] Trial 101 finished with value: 0.046099980601875395 and parameters: {'topK': 94, 'alpha': 0.007342520616717224, 'normalize_similarity': True, 'implicit': True}. Best is trial 92 with value: 0.052149027752692236.\n"
     ]
    },
    {
     "name": "stdout",
     "output_type": "stream",
     "text": [
      "P3alphaRecommender: Similarity column 38121 (100.0%), 2231.56 column/sec. Elapsed time 17.08 sec\n",
      "EvaluatorHoldout: Processed 35595 (100.0%) in 31.93 sec. Users per second: 1115\n"
     ]
    },
    {
     "name": "stderr",
     "output_type": "stream",
     "text": [
      "[I 2024-11-18 19:06:53,715] Trial 102 finished with value: 0.04994096727514188 and parameters: {'topK': 49, 'alpha': 0.1781818363982699, 'normalize_similarity': True, 'implicit': True}. Best is trial 92 with value: 0.052149027752692236.\n"
     ]
    },
    {
     "name": "stdout",
     "output_type": "stream",
     "text": [
      "P3alphaRecommender: Similarity column 38121 (100.0%), 2321.13 column/sec. Elapsed time 16.42 sec\n",
      "EvaluatorHoldout: Processed 35595 (100.0%) in 31.27 sec. Users per second: 1138\n"
     ]
    },
    {
     "name": "stderr",
     "output_type": "stream",
     "text": [
      "[I 2024-11-18 19:07:42,979] Trial 103 finished with value: 0.05086017743708228 and parameters: {'topK': 33, 'alpha': 0.12634980295465773, 'normalize_similarity': True, 'implicit': True}. Best is trial 92 with value: 0.052149027752692236.\n"
     ]
    },
    {
     "name": "stdout",
     "output_type": "stream",
     "text": [
      "P3alphaRecommender: Similarity column 38121 (100.0%), 2349.67 column/sec. Elapsed time 16.22 sec\n",
      "EvaluatorHoldout: Processed 35595 (100.0%) in 30.74 sec. Users per second: 1158\n"
     ]
    },
    {
     "name": "stderr",
     "output_type": "stream",
     "text": [
      "[I 2024-11-18 19:08:31,471] Trial 104 finished with value: 0.05142499949832274 and parameters: {'topK': 29, 'alpha': 0.12034697000886488, 'normalize_similarity': True, 'implicit': True}. Best is trial 92 with value: 0.052149027752692236.\n"
     ]
    },
    {
     "name": "stdout",
     "output_type": "stream",
     "text": [
      "P3alphaRecommender: Similarity column 38121 (100.0%), 666.58 column/sec. Elapsed time 57.19 sec\n",
      "EvaluatorHoldout: Processed 35595 (100.0%) in 49.33 sec. Users per second: 722\n"
     ]
    },
    {
     "name": "stderr",
     "output_type": "stream",
     "text": [
      "[I 2024-11-18 19:10:52,140] Trial 105 finished with value: 0.0327620095563615 and parameters: {'topK': 956, 'alpha': 0.0937917023846361, 'normalize_similarity': True, 'implicit': True}. Best is trial 92 with value: 0.052149027752692236.\n"
     ]
    },
    {
     "name": "stdout",
     "output_type": "stream",
     "text": [
      "P3alphaRecommender: Similarity column 38121 (100.0%), 3463.93 column/sec. Elapsed time 11.01 sec\n",
      "EvaluatorHoldout: Processed 35595 (100.0%) in 24.30 sec. Users per second: 1465\n"
     ]
    },
    {
     "name": "stderr",
     "output_type": "stream",
     "text": [
      "[I 2024-11-18 19:11:27,721] Trial 106 finished with value: 0.00028209999175022335 and parameters: {'topK': 0, 'alpha': 0.12146659341309754, 'normalize_similarity': True, 'implicit': True}. Best is trial 92 with value: 0.052149027752692236.\n"
     ]
    },
    {
     "name": "stdout",
     "output_type": "stream",
     "text": [
      "P3alphaRecommender: Similarity column 38121 (100.0%), 1678.36 column/sec. Elapsed time 22.71 sec\n",
      "EvaluatorHoldout: Processed 35595 (100.0%) in 31.57 sec. Users per second: 1127\n"
     ]
    },
    {
     "name": "stderr",
     "output_type": "stream",
     "text": [
      "[I 2024-11-18 19:12:27,841] Trial 107 finished with value: 0.04371660457037457 and parameters: {'topK': 175, 'alpha': 0.31649949862950966, 'normalize_similarity': True, 'implicit': True}. Best is trial 92 with value: 0.052149027752692236.\n"
     ]
    },
    {
     "name": "stdout",
     "output_type": "stream",
     "text": [
      "P3alphaRecommender: Similarity column 38121 (100.0%), 1881.73 column/sec. Elapsed time 20.26 sec\n",
      "EvaluatorHoldout: Processed 35595 (100.0%) in 30.43 sec. Users per second: 1170\n"
     ]
    },
    {
     "name": "stderr",
     "output_type": "stream",
     "text": [
      "[I 2024-11-18 19:13:22,687] Trial 108 finished with value: 0.044906735162106505 and parameters: {'topK': 126, 'alpha': 0.12789776035431857, 'normalize_similarity': True, 'implicit': True}. Best is trial 92 with value: 0.052149027752692236.\n"
     ]
    },
    {
     "name": "stdout",
     "output_type": "stream",
     "text": [
      "P3alphaRecommender: Similarity column 38121 (100.0%), 2372.12 column/sec. Elapsed time 16.07 sec\n",
      "EvaluatorHoldout: Processed 35595 (100.0%) in 30.70 sec. Users per second: 1159\n"
     ]
    },
    {
     "name": "stderr",
     "output_type": "stream",
     "text": [
      "[I 2024-11-18 19:14:10,913] Trial 109 finished with value: 0.05155876739420579 and parameters: {'topK': 28, 'alpha': 0.17418282457443152, 'normalize_similarity': True, 'implicit': True}. Best is trial 92 with value: 0.052149027752692236.\n"
     ]
    },
    {
     "name": "stdout",
     "output_type": "stream",
     "text": [
      "P3alphaRecommender: Similarity column 38121 (100.0%), 819.59 column/sec. Elapsed time 46.51 sec\n",
      "EvaluatorHoldout: Processed 35595 (100.0%) in 45.06 sec. Users per second: 790\n"
     ]
    },
    {
     "name": "stderr",
     "output_type": "stream",
     "text": [
      "[I 2024-11-18 19:16:06,465] Trial 110 finished with value: 0.03477129947357398 and parameters: {'topK': 680, 'alpha': 0.15908361253905012, 'normalize_similarity': True, 'implicit': True}. Best is trial 92 with value: 0.052149027752692236.\n"
     ]
    },
    {
     "name": "stdout",
     "output_type": "stream",
     "text": [
      "P3alphaRecommender: Similarity column 38121 (100.0%), 2373.60 column/sec. Elapsed time 16.06 sec\n",
      "EvaluatorHoldout: Processed 35595 (100.0%) in 30.61 sec. Users per second: 1163\n"
     ]
    },
    {
     "name": "stderr",
     "output_type": "stream",
     "text": [
      "[I 2024-11-18 19:16:54,548] Trial 111 finished with value: 0.05127247450930369 and parameters: {'topK': 27, 'alpha': 0.04671329051148687, 'normalize_similarity': True, 'implicit': True}. Best is trial 92 with value: 0.052149027752692236.\n"
     ]
    },
    {
     "name": "stdout",
     "output_type": "stream",
     "text": [
      "P3alphaRecommender: Similarity column 38121 (100.0%), 2086.85 column/sec. Elapsed time 18.27 sec\n",
      "EvaluatorHoldout: Processed 35595 (100.0%) in 32.82 sec. Users per second: 1085\n"
     ]
    },
    {
     "name": "stderr",
     "output_type": "stream",
     "text": [
      "[I 2024-11-18 19:17:48,350] Trial 112 finished with value: 0.04786368136241557 and parameters: {'topK': 76, 'alpha': 0.17854003755561154, 'normalize_similarity': True, 'implicit': True}. Best is trial 92 with value: 0.052149027752692236.\n"
     ]
    },
    {
     "name": "stdout",
     "output_type": "stream",
     "text": [
      "P3alphaRecommender: Similarity column 38121 (100.0%), 2408.56 column/sec. Elapsed time 15.83 sec\n",
      "EvaluatorHoldout: Processed 35595 (100.0%) in 30.36 sec. Users per second: 1172\n"
     ]
    },
    {
     "name": "stderr",
     "output_type": "stream",
     "text": [
      "[I 2024-11-18 19:18:35,814] Trial 113 finished with value: 0.05233988967596006 and parameters: {'topK': 21, 'alpha': 0.19424313319702063, 'normalize_similarity': True, 'implicit': True}. Best is trial 113 with value: 0.05233988967596006.\n"
     ]
    },
    {
     "name": "stdout",
     "output_type": "stream",
     "text": [
      "P3alphaRecommender: Similarity column 38121 (100.0%), 2040.00 column/sec. Elapsed time 18.69 sec\n",
      "EvaluatorHoldout: Processed 35595 (100.0%) in 33.24 sec. Users per second: 1071\n"
     ]
    },
    {
     "name": "stderr",
     "output_type": "stream",
     "text": [
      "[I 2024-11-18 19:19:30,780] Trial 114 finished with value: 0.04735089755338207 and parameters: {'topK': 87, 'alpha': 0.2086900884643583, 'normalize_similarity': True, 'implicit': True}. Best is trial 113 with value: 0.05233988967596006.\n"
     ]
    },
    {
     "name": "stdout",
     "output_type": "stream",
     "text": [
      "P3alphaRecommender: Similarity column 38121 (100.0%), 2386.95 column/sec. Elapsed time 15.97 sec\n",
      "EvaluatorHoldout: Processed 35595 (100.0%) in 30.47 sec. Users per second: 1168\n"
     ]
    },
    {
     "name": "stderr",
     "output_type": "stream",
     "text": [
      "[I 2024-11-18 19:20:18,579] Trial 115 finished with value: 0.05228674104843317 and parameters: {'topK': 24, 'alpha': 0.3322832572552486, 'normalize_similarity': True, 'implicit': True}. Best is trial 113 with value: 0.05233988967596006.\n"
     ]
    },
    {
     "name": "stdout",
     "output_type": "stream",
     "text": [
      "P3alphaRecommender: Similarity column 38121 (100.0%), 1901.25 column/sec. Elapsed time 20.05 sec\n",
      "EvaluatorHoldout: Processed 35595 (100.0%) in 30.51 sec. Users per second: 1166\n"
     ]
    },
    {
     "name": "stderr",
     "output_type": "stream",
     "text": [
      "[I 2024-11-18 19:21:13,248] Trial 116 finished with value: 0.046021992343313924 and parameters: {'topK': 122, 'alpha': 0.34713532018009263, 'normalize_similarity': True, 'implicit': True}. Best is trial 113 with value: 0.05233988967596006.\n"
     ]
    },
    {
     "name": "stdout",
     "output_type": "stream",
     "text": [
      "P3alphaRecommender: Similarity column 38121 (100.0%), 2110.47 column/sec. Elapsed time 18.06 sec\n",
      "EvaluatorHoldout: Processed 35595 (100.0%) in 32.82 sec. Users per second: 1085\n"
     ]
    },
    {
     "name": "stderr",
     "output_type": "stream",
     "text": [
      "[I 2024-11-18 19:22:06,745] Trial 117 finished with value: 0.04874247319379883 and parameters: {'topK': 71, 'alpha': 0.39072288098673325, 'normalize_similarity': True, 'implicit': True}. Best is trial 113 with value: 0.05233988967596006.\n"
     ]
    },
    {
     "name": "stdout",
     "output_type": "stream",
     "text": [
      "P3alphaRecommender: Similarity column 38121 (100.0%), 2401.80 column/sec. Elapsed time 15.87 sec\n",
      "EvaluatorHoldout: Processed 35595 (100.0%) in 30.14 sec. Users per second: 1181\n"
     ]
    },
    {
     "name": "stderr",
     "output_type": "stream",
     "text": [
      "[I 2024-11-18 19:22:54,042] Trial 118 finished with value: 0.05253145840440208 and parameters: {'topK': 21, 'alpha': 0.2613202720173038, 'normalize_similarity': True, 'implicit': True}. Best is trial 118 with value: 0.05253145840440208.\n"
     ]
    },
    {
     "name": "stdout",
     "output_type": "stream",
     "text": [
      "P3alphaRecommender: Similarity column 38121 (100.0%), 1581.63 column/sec. Elapsed time 24.10 sec\n",
      "EvaluatorHoldout: Processed 35595 (100.0%) in 28.48 sec. Users per second: 1250\n"
     ]
    },
    {
     "name": "stderr",
     "output_type": "stream",
     "text": [
      "[I 2024-11-18 19:23:53,768] Trial 119 finished with value: 0.04232615937230202 and parameters: {'topK': 212, 'alpha': 0.2835294400746661, 'normalize_similarity': True, 'implicit': True}. Best is trial 118 with value: 0.05253145840440208.\n"
     ]
    },
    {
     "name": "stdout",
     "output_type": "stream",
     "text": [
      "P3alphaRecommender: Similarity column 38121 (100.0%), 2078.19 column/sec. Elapsed time 18.34 sec\n",
      "EvaluatorHoldout: Processed 35595 (100.0%) in 33.21 sec. Users per second: 1072\n"
     ]
    },
    {
     "name": "stderr",
     "output_type": "stream",
     "text": [
      "[I 2024-11-18 19:24:48,064] Trial 120 finished with value: 0.035773921564691516 and parameters: {'topK': 78, 'alpha': 0.2578375037252607, 'normalize_similarity': False, 'implicit': True}. Best is trial 118 with value: 0.05253145840440208.\n"
     ]
    },
    {
     "name": "stdout",
     "output_type": "stream",
     "text": [
      "P3alphaRecommender: Similarity column 38121 (100.0%), 2445.70 column/sec. Elapsed time 15.59 sec\n",
      "EvaluatorHoldout: Processed 35595 (100.0%) in 29.74 sec. Users per second: 1197\n"
     ]
    },
    {
     "name": "stderr",
     "output_type": "stream",
     "text": [
      "[I 2024-11-18 19:25:34,570] Trial 121 finished with value: 0.053025623359797304 and parameters: {'topK': 16, 'alpha': 0.3231546840798435, 'normalize_similarity': True, 'implicit': True}. Best is trial 121 with value: 0.053025623359797304.\n"
     ]
    },
    {
     "name": "stdout",
     "output_type": "stream",
     "text": [
      "P3alphaRecommender: Similarity column 38121 (100.0%), 3485.16 column/sec. Elapsed time 10.94 sec\n",
      "EvaluatorHoldout: Processed 35595 (100.0%) in 24.24 sec. Users per second: 1469\n"
     ]
    },
    {
     "name": "stderr",
     "output_type": "stream",
     "text": [
      "[I 2024-11-18 19:26:10,009] Trial 122 finished with value: 0.00028209999175022335 and parameters: {'topK': 0, 'alpha': 0.4934465684970684, 'normalize_similarity': True, 'implicit': True}. Best is trial 121 with value: 0.053025623359797304.\n"
     ]
    },
    {
     "name": "stdout",
     "output_type": "stream",
     "text": [
      "P3alphaRecommender: Similarity column 38121 (100.0%), 2006.31 column/sec. Elapsed time 19.00 sec\n",
      "EvaluatorHoldout: Processed 35595 (100.0%) in 29.87 sec. Users per second: 1192\n"
     ]
    },
    {
     "name": "stderr",
     "output_type": "stream",
     "text": [
      "[I 2024-11-18 19:27:02,286] Trial 123 finished with value: 0.04702923430925792 and parameters: {'topK': 99, 'alpha': 0.3181701809234449, 'normalize_similarity': True, 'implicit': True}. Best is trial 121 with value: 0.053025623359797304.\n"
     ]
    },
    {
     "name": "stdout",
     "output_type": "stream",
     "text": [
      "P3alphaRecommender: Similarity column 38121 (100.0%), 2369.14 column/sec. Elapsed time 16.09 sec\n",
      "EvaluatorHoldout: Processed 35595 (100.0%) in 30.56 sec. Users per second: 1165\n"
     ]
    },
    {
     "name": "stderr",
     "output_type": "stream",
     "text": [
      "[I 2024-11-18 19:27:50,377] Trial 124 finished with value: 0.05231757737509755 and parameters: {'topK': 25, 'alpha': 0.3871748971021878, 'normalize_similarity': True, 'implicit': True}. Best is trial 121 with value: 0.053025623359797304.\n"
     ]
    },
    {
     "name": "stdout",
     "output_type": "stream",
     "text": [
      "P3alphaRecommender: Similarity column 38121 (100.0%), 512.62 column/sec. Elapsed time 1.24 min\n",
      "EvaluatorHoldout: Processed 35595 (100.0%) in 56.47 sec. Users per second: 630\n"
     ]
    },
    {
     "name": "stderr",
     "output_type": "stream",
     "text": [
      "[I 2024-11-18 19:30:52,313] Trial 125 finished with value: 0.032771015190735955 and parameters: {'topK': 1485, 'alpha': 0.42816824160639316, 'normalize_similarity': True, 'implicit': True}. Best is trial 121 with value: 0.053025623359797304.\n"
     ]
    },
    {
     "name": "stdout",
     "output_type": "stream",
     "text": [
      "P3alphaRecommender: Similarity column 38121 (100.0%), 2197.18 column/sec. Elapsed time 17.35 sec\n",
      "EvaluatorHoldout: Processed 35595 (100.0%) in 32.63 sec. Users per second: 1091\n"
     ]
    },
    {
     "name": "stderr",
     "output_type": "stream",
     "text": [
      "[I 2024-11-18 19:31:44,687] Trial 126 finished with value: 0.04937572715090423 and parameters: {'topK': 62, 'alpha': 0.3817001823658266, 'normalize_similarity': True, 'implicit': True}. Best is trial 121 with value: 0.053025623359797304.\n"
     ]
    },
    {
     "name": "stdout",
     "output_type": "stream",
     "text": [
      "P3alphaRecommender: Similarity column 38121 (100.0%), 1844.77 column/sec. Elapsed time 20.66 sec\n",
      "EvaluatorHoldout: Processed 35595 (100.0%) in 31.05 sec. Users per second: 1146\n"
     ]
    },
    {
     "name": "stderr",
     "output_type": "stream",
     "text": [
      "[I 2024-11-18 19:32:41,191] Trial 127 finished with value: 0.04540628922824291 and parameters: {'topK': 137, 'alpha': 0.5292410223596432, 'normalize_similarity': True, 'implicit': True}. Best is trial 121 with value: 0.053025623359797304.\n"
     ]
    },
    {
     "name": "stdout",
     "output_type": "stream",
     "text": [
      "P3alphaRecommender: Similarity column 38121 (100.0%), 2461.79 column/sec. Elapsed time 15.49 sec\n",
      "EvaluatorHoldout: Processed 35595 (100.0%) in 29.43 sec. Users per second: 1210\n"
     ]
    },
    {
     "name": "stderr",
     "output_type": "stream",
     "text": [
      "[I 2024-11-18 19:33:27,201] Trial 128 finished with value: 0.05332611477891539 and parameters: {'topK': 14, 'alpha': 0.2412806492363928, 'normalize_similarity': True, 'implicit': True}. Best is trial 128 with value: 0.05332611477891539.\n"
     ]
    },
    {
     "name": "stdout",
     "output_type": "stream",
     "text": [
      "P3alphaRecommender: Similarity column 38121 (100.0%), 3688.99 column/sec. Elapsed time 10.33 sec\n",
      "EvaluatorHoldout: Processed 35595 (100.0%) in 26.02 sec. Users per second: 1368\n"
     ]
    },
    {
     "name": "stderr",
     "output_type": "stream",
     "text": [
      "[I 2024-11-18 19:34:04,337] Trial 129 finished with value: 0.01669097786607284 and parameters: {'topK': 1, 'alpha': 1.3204181245593927, 'normalize_similarity': True, 'implicit': True}. Best is trial 128 with value: 0.05332611477891539.\n"
     ]
    },
    {
     "name": "stdout",
     "output_type": "stream",
     "text": [
      "P3alphaRecommender: Similarity column 38121 (100.0%), 2136.62 column/sec. Elapsed time 17.84 sec\n",
      "EvaluatorHoldout: Processed 35595 (100.0%) in 32.77 sec. Users per second: 1086\n"
     ]
    },
    {
     "name": "stderr",
     "output_type": "stream",
     "text": [
      "[I 2024-11-18 19:34:57,472] Trial 130 finished with value: 0.048561217800786476 and parameters: {'topK': 69, 'alpha': 0.23498874255076382, 'normalize_similarity': True, 'implicit': True}. Best is trial 128 with value: 0.05332611477891539.\n"
     ]
    },
    {
     "name": "stdout",
     "output_type": "stream",
     "text": [
      "P3alphaRecommender: Similarity column 38121 (100.0%), 2347.17 column/sec. Elapsed time 16.24 sec\n",
      "EvaluatorHoldout: Processed 35595 (100.0%) in 31.11 sec. Users per second: 1144\n"
     ]
    },
    {
     "name": "stderr",
     "output_type": "stream",
     "text": [
      "[I 2024-11-18 19:35:46,356] Trial 131 finished with value: 0.051494290931710145 and parameters: {'topK': 31, 'alpha': 0.32633840542128184, 'normalize_similarity': True, 'implicit': True}. Best is trial 128 with value: 0.05332611477891539.\n"
     ]
    },
    {
     "name": "stdout",
     "output_type": "stream",
     "text": [
      "P3alphaRecommender: Similarity column 38121 (100.0%), 2381.46 column/sec. Elapsed time 16.01 sec\n",
      "EvaluatorHoldout: Processed 35595 (100.0%) in 30.69 sec. Users per second: 1160\n"
     ]
    },
    {
     "name": "stderr",
     "output_type": "stream",
     "text": [
      "[I 2024-11-18 19:36:34,493] Trial 132 finished with value: 0.05222898034992236 and parameters: {'topK': 25, 'alpha': 0.34341937301314857, 'normalize_similarity': True, 'implicit': True}. Best is trial 128 with value: 0.05332611477891539.\n"
     ]
    },
    {
     "name": "stdout",
     "output_type": "stream",
     "text": [
      "P3alphaRecommender: Similarity column 38121 (100.0%), 1954.20 column/sec. Elapsed time 19.51 sec\n",
      "EvaluatorHoldout: Processed 35595 (100.0%) in 30.24 sec. Users per second: 1177\n"
     ]
    },
    {
     "name": "stderr",
     "output_type": "stream",
     "text": [
      "[I 2024-11-18 19:37:28,113] Trial 133 finished with value: 0.046597545802980346 and parameters: {'topK': 110, 'alpha': 0.3498365282165739, 'normalize_similarity': True, 'implicit': True}. Best is trial 128 with value: 0.05332611477891539.\n"
     ]
    },
    {
     "name": "stdout",
     "output_type": "stream",
     "text": [
      "P3alphaRecommender: Similarity column 38121 (100.0%), 2601.35 column/sec. Elapsed time 14.65 sec\n",
      "EvaluatorHoldout: Processed 35595 (100.0%) in 26.85 sec. Users per second: 1325\n"
     ]
    },
    {
     "name": "stderr",
     "output_type": "stream",
     "text": [
      "[I 2024-11-18 19:38:10,452] Trial 134 finished with value: 0.036639159236292275 and parameters: {'topK': 2, 'alpha': 0.45803042784324743, 'normalize_similarity': True, 'implicit': True}. Best is trial 128 with value: 0.05332611477891539.\n"
     ]
    },
    {
     "name": "stdout",
     "output_type": "stream",
     "text": [
      "P3alphaRecommender: Similarity column 38121 (100.0%), 2196.24 column/sec. Elapsed time 17.36 sec\n",
      "EvaluatorHoldout: Processed 35595 (100.0%) in 32.59 sec. Users per second: 1092\n"
     ]
    },
    {
     "name": "stderr",
     "output_type": "stream",
     "text": [
      "[I 2024-11-18 19:39:02,824] Trial 135 finished with value: 0.049484717846494414 and parameters: {'topK': 59, 'alpha': 0.573919698964462, 'normalize_similarity': True, 'implicit': True}. Best is trial 128 with value: 0.05332611477891539.\n"
     ]
    },
    {
     "name": "stdout",
     "output_type": "stream",
     "text": [
      "P3alphaRecommender: Similarity column 38121 (100.0%), 1980.54 column/sec. Elapsed time 19.25 sec\n",
      "EvaluatorHoldout: Processed 35595 (100.0%) in 29.97 sec. Users per second: 1188\n"
     ]
    },
    {
     "name": "stderr",
     "output_type": "stream",
     "text": [
      "[I 2024-11-18 19:39:55,625] Trial 136 finished with value: 0.046736198904338944 and parameters: {'topK': 104, 'alpha': 0.32107525325803893, 'normalize_similarity': True, 'implicit': True}. Best is trial 128 with value: 0.05332611477891539.\n"
     ]
    },
    {
     "name": "stdout",
     "output_type": "stream",
     "text": [
      "P3alphaRecommender: Similarity column 38121 (100.0%), 2344.65 column/sec. Elapsed time 16.26 sec\n",
      "EvaluatorHoldout: Processed 35595 (100.0%) in 31.92 sec. Users per second: 1115\n"
     ]
    },
    {
     "name": "stderr",
     "output_type": "stream",
     "text": [
      "[I 2024-11-18 19:40:45,526] Trial 137 finished with value: 0.04908996381246523 and parameters: {'topK': 33, 'alpha': 1.1454864644946072, 'normalize_similarity': True, 'implicit': True}. Best is trial 128 with value: 0.05332611477891539.\n"
     ]
    },
    {
     "name": "stdout",
     "output_type": "stream",
     "text": [
      "P3alphaRecommender: Similarity column 38121 (100.0%), 1774.51 column/sec. Elapsed time 21.48 sec\n",
      "EvaluatorHoldout: Processed 35595 (100.0%) in 31.33 sec. Users per second: 1136\n"
     ]
    },
    {
     "name": "stderr",
     "output_type": "stream",
     "text": [
      "[I 2024-11-18 19:41:43,508] Trial 138 finished with value: 0.04488187211954436 and parameters: {'topK': 150, 'alpha': 0.41023646665652713, 'normalize_similarity': True, 'implicit': True}. Best is trial 128 with value: 0.05332611477891539.\n"
     ]
    },
    {
     "name": "stdout",
     "output_type": "stream",
     "text": [
      "P3alphaRecommender: Similarity column 38121 (100.0%), 2080.99 column/sec. Elapsed time 18.32 sec\n",
      "EvaluatorHoldout: Processed 35595 (100.0%) in 32.92 sec. Users per second: 1081\n"
     ]
    },
    {
     "name": "stderr",
     "output_type": "stream",
     "text": [
      "[I 2024-11-18 19:42:37,600] Trial 139 finished with value: 0.04803806379975599 and parameters: {'topK': 80, 'alpha': 0.2663050001300709, 'normalize_similarity': True, 'implicit': True}. Best is trial 128 with value: 0.05332611477891539.\n"
     ]
    },
    {
     "name": "stdout",
     "output_type": "stream",
     "text": [
      "P3alphaRecommender: Similarity column 38121 (100.0%), 2396.34 column/sec. Elapsed time 15.91 sec\n",
      "EvaluatorHoldout: Processed 35595 (100.0%) in 30.68 sec. Users per second: 1160\n"
     ]
    },
    {
     "name": "stderr",
     "output_type": "stream",
     "text": [
      "[I 2024-11-18 19:43:25,585] Trial 140 finished with value: 0.052315226188801994 and parameters: {'topK': 25, 'alpha': 0.38708524268393574, 'normalize_similarity': True, 'implicit': True}. Best is trial 128 with value: 0.05332611477891539.\n"
     ]
    },
    {
     "name": "stdout",
     "output_type": "stream",
     "text": [
      "P3alphaRecommender: Similarity column 38121 (100.0%), 2416.75 column/sec. Elapsed time 15.77 sec\n",
      "EvaluatorHoldout: Processed 35595 (100.0%) in 30.58 sec. Users per second: 1164\n"
     ]
    },
    {
     "name": "stderr",
     "output_type": "stream",
     "text": [
      "[I 2024-11-18 19:44:13,247] Trial 141 finished with value: 0.05256229027172812 and parameters: {'topK': 22, 'alpha': 0.3780363147595567, 'normalize_similarity': True, 'implicit': True}. Best is trial 128 with value: 0.05332611477891539.\n"
     ]
    },
    {
     "name": "stdout",
     "output_type": "stream",
     "text": [
      "P3alphaRecommender: Similarity column 38121 (100.0%), 3498.04 column/sec. Elapsed time 10.90 sec\n",
      "EvaluatorHoldout: Processed 35595 (100.0%) in 24.37 sec. Users per second: 1461\n"
     ]
    },
    {
     "name": "stderr",
     "output_type": "stream",
     "text": [
      "[I 2024-11-18 19:44:48,783] Trial 142 finished with value: 0.00028209999175022335 and parameters: {'topK': 0, 'alpha': 0.3823629419537749, 'normalize_similarity': True, 'implicit': True}. Best is trial 128 with value: 0.05332611477891539.\n"
     ]
    },
    {
     "name": "stdout",
     "output_type": "stream",
     "text": [
      "P3alphaRecommender: Similarity column 38121 (100.0%), 2250.34 column/sec. Elapsed time 16.94 sec\n",
      "EvaluatorHoldout: Processed 35595 (100.0%) in 32.07 sec. Users per second: 1110\n"
     ]
    },
    {
     "name": "stderr",
     "output_type": "stream",
     "text": [
      "[I 2024-11-18 19:45:39,850] Trial 143 finished with value: 0.049812029957835305 and parameters: {'topK': 52, 'alpha': 0.20613712417945856, 'normalize_similarity': True, 'implicit': True}. Best is trial 128 with value: 0.05332611477891539.\n"
     ]
    },
    {
     "name": "stdout",
     "output_type": "stream",
     "text": [
      "P3alphaRecommender: Similarity column 38121 (100.0%), 596.99 column/sec. Elapsed time 1.06 min\n",
      "EvaluatorHoldout: Processed 35595 (100.0%) in 52.47 sec. Users per second: 678\n"
     ]
    },
    {
     "name": "stderr",
     "output_type": "stream",
     "text": [
      "[I 2024-11-18 19:48:17,719] Trial 144 finished with value: 0.03319853644505884 and parameters: {'topK': 1152, 'alpha': 0.3420983957139295, 'normalize_similarity': True, 'implicit': True}. Best is trial 128 with value: 0.05332611477891539.\n"
     ]
    },
    {
     "name": "stdout",
     "output_type": "stream",
     "text": [
      "P3alphaRecommender: Similarity column 38121 (100.0%), 2403.55 column/sec. Elapsed time 15.86 sec\n",
      "EvaluatorHoldout: Processed 35595 (100.0%) in 31.08 sec. Users per second: 1145\n"
     ]
    },
    {
     "name": "stderr",
     "output_type": "stream",
     "text": [
      "[I 2024-11-18 19:49:06,047] Trial 145 finished with value: 0.052038343623255164 and parameters: {'topK': 26, 'alpha': 0.27603360076454786, 'normalize_similarity': True, 'implicit': True}. Best is trial 128 with value: 0.05332611477891539.\n"
     ]
    },
    {
     "name": "stdout",
     "output_type": "stream",
     "text": [
      "P3alphaRecommender: Similarity column 38121 (100.0%), 2072.09 column/sec. Elapsed time 18.40 sec\n",
      "EvaluatorHoldout: Processed 35595 (100.0%) in 33.38 sec. Users per second: 1066\n"
     ]
    },
    {
     "name": "stderr",
     "output_type": "stream",
     "text": [
      "[I 2024-11-18 19:50:00,800] Trial 146 finished with value: 0.04766083385172987 and parameters: {'topK': 85, 'alpha': 0.2767845315249703, 'normalize_similarity': True, 'implicit': True}. Best is trial 128 with value: 0.05332611477891539.\n"
     ]
    },
    {
     "name": "stdout",
     "output_type": "stream",
     "text": [
      "P3alphaRecommender: Similarity column 38121 (100.0%), 2189.54 column/sec. Elapsed time 17.41 sec\n",
      "EvaluatorHoldout: Processed 35595 (100.0%) in 32.56 sec. Users per second: 1093\n"
     ]
    },
    {
     "name": "stderr",
     "output_type": "stream",
     "text": [
      "[I 2024-11-18 19:50:53,082] Trial 147 finished with value: 0.049239788671940427 and parameters: {'topK': 60, 'alpha': 0.23374993213027792, 'normalize_similarity': True, 'implicit': True}. Best is trial 128 with value: 0.05332611477891539.\n"
     ]
    },
    {
     "name": "stdout",
     "output_type": "stream",
     "text": [
      "P3alphaRecommender: Similarity column 38121 (100.0%), 2423.94 column/sec. Elapsed time 15.73 sec\n",
      "EvaluatorHoldout: Processed 35595 (100.0%) in 30.74 sec. Users per second: 1158\n"
     ]
    },
    {
     "name": "stderr",
     "output_type": "stream",
     "text": [
      "[I 2024-11-18 19:51:40,813] Trial 148 finished with value: 0.036573858910983484 and parameters: {'topK': 21, 'alpha': 0.19364545191153126, 'normalize_similarity': False, 'implicit': True}. Best is trial 128 with value: 0.05332611477891539.\n"
     ]
    },
    {
     "name": "stdout",
     "output_type": "stream",
     "text": [
      "P3alphaRecommender: Similarity column 38121 (100.0%), 1971.70 column/sec. Elapsed time 19.33 sec\n",
      "EvaluatorHoldout: Processed 35595 (100.0%) in 30.36 sec. Users per second: 1173\n"
     ]
    },
    {
     "name": "stderr",
     "output_type": "stream",
     "text": [
      "[I 2024-11-18 19:52:34,200] Trial 149 finished with value: 0.046756748651605944 and parameters: {'topK': 108, 'alpha': 0.40130000394938925, 'normalize_similarity': True, 'implicit': True}. Best is trial 128 with value: 0.05332611477891539.\n"
     ]
    },
    {
     "name": "stdout",
     "output_type": "stream",
     "text": [
      "P3alphaRecommender: Similarity column 38121 (100.0%), 1733.94 column/sec. Elapsed time 21.99 sec\n",
      "EvaluatorHoldout: Processed 35595 (100.0%) in 31.49 sec. Users per second: 1130\n"
     ]
    },
    {
     "name": "stderr",
     "output_type": "stream",
     "text": [
      "[I 2024-11-18 19:53:33,071] Trial 150 finished with value: 0.0442050381607888 and parameters: {'topK': 161, 'alpha': 0.30049095904524864, 'normalize_similarity': True, 'implicit': True}. Best is trial 128 with value: 0.05332611477891539.\n"
     ]
    },
    {
     "name": "stdout",
     "output_type": "stream",
     "text": [
      "P3alphaRecommender: Similarity column 38121 (100.0%), 2372.48 column/sec. Elapsed time 16.07 sec\n",
      "EvaluatorHoldout: Processed 35595 (100.0%) in 30.71 sec. Users per second: 1159\n"
     ]
    },
    {
     "name": "stderr",
     "output_type": "stream",
     "text": [
      "[I 2024-11-18 19:54:21,283] Trial 151 finished with value: 0.052134081164420525 and parameters: {'topK': 26, 'alpha': 0.3552525728863243, 'normalize_similarity': True, 'implicit': True}. Best is trial 128 with value: 0.05332611477891539.\n"
     ]
    },
    {
     "name": "stdout",
     "output_type": "stream",
     "text": [
      "P3alphaRecommender: Similarity column 38121 (100.0%), 3519.65 column/sec. Elapsed time 10.83 sec\n",
      "EvaluatorHoldout: Processed 35595 (100.0%) in 24.14 sec. Users per second: 1474\n"
     ]
    },
    {
     "name": "stderr",
     "output_type": "stream",
     "text": [
      "[I 2024-11-18 19:54:56,527] Trial 152 finished with value: 0.00028209999175022335 and parameters: {'topK': 0, 'alpha': 0.37407459945200194, 'normalize_similarity': True, 'implicit': True}. Best is trial 128 with value: 0.05332611477891539.\n"
     ]
    },
    {
     "name": "stdout",
     "output_type": "stream",
     "text": [
      "P3alphaRecommender: Similarity column 38121 (100.0%), 2213.01 column/sec. Elapsed time 17.23 sec\n",
      "EvaluatorHoldout: Processed 35595 (100.0%) in 32.48 sec. Users per second: 1096\n"
     ]
    },
    {
     "name": "stderr",
     "output_type": "stream",
     "text": [
      "[I 2024-11-18 19:55:48,502] Trial 153 finished with value: 0.04966144478112261 and parameters: {'topK': 57, 'alpha': 0.48286950625578223, 'normalize_similarity': True, 'implicit': True}. Best is trial 128 with value: 0.05332611477891539.\n"
     ]
    },
    {
     "name": "stdout",
     "output_type": "stream",
     "text": [
      "P3alphaRecommender: Similarity column 38121 (100.0%), 2377.60 column/sec. Elapsed time 16.03 sec\n",
      "EvaluatorHoldout: Processed 35595 (100.0%) in 30.80 sec. Users per second: 1156\n"
     ]
    },
    {
     "name": "stderr",
     "output_type": "stream",
     "text": [
      "[I 2024-11-18 19:56:36,785] Trial 154 finished with value: 0.05178529845238455 and parameters: {'topK': 28, 'alpha': 0.2537735747831653, 'normalize_similarity': True, 'implicit': True}. Best is trial 128 with value: 0.05332611477891539.\n"
     ]
    },
    {
     "name": "stdout",
     "output_type": "stream",
     "text": [
      "P3alphaRecommender: Similarity column 38121 (100.0%), 2096.80 column/sec. Elapsed time 18.18 sec\n",
      "EvaluatorHoldout: Processed 35595 (100.0%) in 32.90 sec. Users per second: 1082\n"
     ]
    },
    {
     "name": "stderr",
     "output_type": "stream",
     "text": [
      "[I 2024-11-18 19:57:30,573] Trial 155 finished with value: 0.04813619377609944 and parameters: {'topK': 76, 'alpha': 0.2415494776691889, 'normalize_similarity': True, 'implicit': True}. Best is trial 128 with value: 0.05332611477891539.\n"
     ]
    },
    {
     "name": "stdout",
     "output_type": "stream",
     "text": [
      "P3alphaRecommender: Similarity column 38121 (100.0%), 2273.77 column/sec. Elapsed time 16.77 sec\n",
      "EvaluatorHoldout: Processed 35595 (100.0%) in 31.96 sec. Users per second: 1114\n"
     ]
    },
    {
     "name": "stderr",
     "output_type": "stream",
     "text": [
      "[I 2024-11-18 19:58:21,309] Trial 156 finished with value: 0.05024351221970106 and parameters: {'topK': 48, 'alpha': 0.2762526423483673, 'normalize_similarity': True, 'implicit': True}. Best is trial 128 with value: 0.05332611477891539.\n"
     ]
    },
    {
     "name": "stdout",
     "output_type": "stream",
     "text": [
      "P3alphaRecommender: Similarity column 38121 (100.0%), 1888.82 column/sec. Elapsed time 20.18 sec\n",
      "EvaluatorHoldout: Processed 35595 (100.0%) in 30.59 sec. Users per second: 1164\n"
     ]
    },
    {
     "name": "stderr",
     "output_type": "stream",
     "text": [
      "[I 2024-11-18 19:59:16,314] Trial 157 finished with value: 0.04592216335895071 and parameters: {'topK': 124, 'alpha': 0.3441723005409292, 'normalize_similarity': True, 'implicit': True}. Best is trial 128 with value: 0.05332611477891539.\n"
     ]
    },
    {
     "name": "stdout",
     "output_type": "stream",
     "text": [
      "P3alphaRecommender: Similarity column 38121 (100.0%), 2391.11 column/sec. Elapsed time 15.94 sec\n",
      "EvaluatorHoldout: Processed 35595 (100.0%) in 30.62 sec. Users per second: 1162\n"
     ]
    },
    {
     "name": "stderr",
     "output_type": "stream",
     "text": [
      "[I 2024-11-18 20:00:04,272] Trial 158 finished with value: 0.052293871530911286 and parameters: {'topK': 25, 'alpha': 0.41604837373107034, 'normalize_similarity': True, 'implicit': True}. Best is trial 128 with value: 0.05332611477891539.\n"
     ]
    },
    {
     "name": "stdout",
     "output_type": "stream",
     "text": [
      "P3alphaRecommender: Similarity column 38121 (100.0%), 2079.47 column/sec. Elapsed time 18.33 sec\n",
      "EvaluatorHoldout: Processed 35595 (100.0%) in 33.28 sec. Users per second: 1070\n"
     ]
    },
    {
     "name": "stderr",
     "output_type": "stream",
     "text": [
      "[I 2024-11-18 20:00:58,821] Trial 159 finished with value: 0.04804499026749167 and parameters: {'topK': 83, 'alpha': 0.4078569560244515, 'normalize_similarity': True, 'implicit': True}. Best is trial 128 with value: 0.05332611477891539.\n"
     ]
    },
    {
     "name": "stdout",
     "output_type": "stream",
     "text": [
      "P3alphaRecommender: Similarity column 38121 (100.0%), 734.94 column/sec. Elapsed time 51.87 sec\n",
      "EvaluatorHoldout: Processed 35595 (100.0%) in 48.20 sec. Users per second: 738\n"
     ]
    },
    {
     "name": "stderr",
     "output_type": "stream",
     "text": [
      "[I 2024-11-18 20:03:08,783] Trial 160 finished with value: 0.035274473407847645 and parameters: {'topK': 822, 'alpha': 0.5121165811176089, 'normalize_similarity': True, 'implicit': True}. Best is trial 128 with value: 0.05332611477891539.\n"
     ]
    },
    {
     "name": "stdout",
     "output_type": "stream",
     "text": [
      "P3alphaRecommender: Similarity column 38121 (100.0%), 2384.47 column/sec. Elapsed time 15.99 sec\n",
      "EvaluatorHoldout: Processed 35595 (100.0%) in 30.98 sec. Users per second: 1149\n"
     ]
    },
    {
     "name": "stderr",
     "output_type": "stream",
     "text": [
      "[I 2024-11-18 20:03:57,225] Trial 161 finished with value: 0.051658988800369274 and parameters: {'topK': 29, 'alpha': 0.3125196744644095, 'normalize_similarity': True, 'implicit': True}. Best is trial 128 with value: 0.05332611477891539.\n"
     ]
    },
    {
     "name": "stdout",
     "output_type": "stream",
     "text": [
      "P3alphaRecommender: Similarity column 38121 (100.0%), 2403.12 column/sec. Elapsed time 15.86 sec\n",
      "EvaluatorHoldout: Processed 35595 (100.0%) in 30.53 sec. Users per second: 1166\n"
     ]
    },
    {
     "name": "stderr",
     "output_type": "stream",
     "text": [
      "[I 2024-11-18 20:04:44,941] Trial 162 finished with value: 0.05251371692564101 and parameters: {'topK': 22, 'alpha': 0.4549155623367528, 'normalize_similarity': True, 'implicit': True}. Best is trial 128 with value: 0.05332611477891539.\n"
     ]
    },
    {
     "name": "stdout",
     "output_type": "stream",
     "text": [
      "P3alphaRecommender: Similarity column 38121 (100.0%), 3680.88 column/sec. Elapsed time 10.36 sec\n",
      "EvaluatorHoldout: Processed 35595 (100.0%) in 26.03 sec. Users per second: 1368\n"
     ]
    },
    {
     "name": "stderr",
     "output_type": "stream",
     "text": [
      "[I 2024-11-18 20:05:22,100] Trial 163 finished with value: 0.02018643380000288 and parameters: {'topK': 1, 'alpha': 0.4439427546651896, 'normalize_similarity': True, 'implicit': True}. Best is trial 128 with value: 0.05332611477891539.\n"
     ]
    },
    {
     "name": "stdout",
     "output_type": "stream",
     "text": [
      "P3alphaRecommender: Similarity column 38121 (100.0%), 2204.84 column/sec. Elapsed time 17.29 sec\n",
      "EvaluatorHoldout: Processed 35595 (100.0%) in 32.52 sec. Users per second: 1094\n"
     ]
    },
    {
     "name": "stderr",
     "output_type": "stream",
     "text": [
      "[I 2024-11-18 20:06:14,202] Trial 164 finished with value: 0.04956132816941717 and parameters: {'topK': 59, 'alpha': 0.3844294604673984, 'normalize_similarity': True, 'implicit': True}. Best is trial 128 with value: 0.05332611477891539.\n"
     ]
    },
    {
     "name": "stdout",
     "output_type": "stream",
     "text": [
      "P3alphaRecommender: Similarity column 38121 (100.0%), 2395.00 column/sec. Elapsed time 15.92 sec\n",
      "EvaluatorHoldout: Processed 35595 (100.0%) in 31.02 sec. Users per second: 1148\n"
     ]
    },
    {
     "name": "stderr",
     "output_type": "stream",
     "text": [
      "[I 2024-11-18 20:07:02,542] Trial 165 finished with value: 0.05220080178908453 and parameters: {'topK': 25, 'alpha': 0.5659010449512127, 'normalize_similarity': True, 'implicit': True}. Best is trial 128 with value: 0.05332611477891539.\n"
     ]
    },
    {
     "name": "stdout",
     "output_type": "stream",
     "text": [
      "P3alphaRecommender: Similarity column 38121 (100.0%), 3513.65 column/sec. Elapsed time 10.85 sec\n",
      "EvaluatorHoldout: Processed 35595 (100.0%) in 24.35 sec. Users per second: 1462\n"
     ]
    },
    {
     "name": "stderr",
     "output_type": "stream",
     "text": [
      "[I 2024-11-18 20:07:38,011] Trial 166 finished with value: 0.00028209999175022335 and parameters: {'topK': 0, 'alpha': 0.44994558385132066, 'normalize_similarity': True, 'implicit': True}. Best is trial 128 with value: 0.05332611477891539.\n"
     ]
    },
    {
     "name": "stdout",
     "output_type": "stream",
     "text": [
      "P3alphaRecommender: Similarity column 38121 (100.0%), 2053.57 column/sec. Elapsed time 18.56 sec\n",
      "EvaluatorHoldout: Processed 35595 (100.0%) in 29.84 sec. Users per second: 1193\n"
     ]
    },
    {
     "name": "stderr",
     "output_type": "stream",
     "text": [
      "[I 2024-11-18 20:08:29,617] Trial 167 finished with value: 0.04760971422328194 and parameters: {'topK': 90, 'alpha': 0.35447109659858117, 'normalize_similarity': True, 'implicit': True}. Best is trial 128 with value: 0.05332611477891539.\n"
     ]
    },
    {
     "name": "stdout",
     "output_type": "stream",
     "text": [
      "P3alphaRecommender: Similarity column 38121 (100.0%), 2246.56 column/sec. Elapsed time 16.97 sec\n",
      "EvaluatorHoldout: Processed 35595 (100.0%) in 32.41 sec. Users per second: 1098\n"
     ]
    },
    {
     "name": "stderr",
     "output_type": "stream",
     "text": [
      "[I 2024-11-18 20:09:21,080] Trial 168 finished with value: 0.05031411692831666 and parameters: {'topK': 49, 'alpha': 0.5316355467892911, 'normalize_similarity': True, 'implicit': True}. Best is trial 128 with value: 0.05332611477891539.\n"
     ]
    },
    {
     "name": "stdout",
     "output_type": "stream",
     "text": [
      "P3alphaRecommender: Similarity column 38121 (100.0%), 872.47 column/sec. Elapsed time 43.69 sec\n",
      "EvaluatorHoldout: Processed 35595 (100.0%) in 45.03 sec. Users per second: 790\n"
     ]
    },
    {
     "name": "stderr",
     "output_type": "stream",
     "text": [
      "[I 2024-11-18 20:11:12,657] Trial 169 finished with value: 0.03644101744270177 and parameters: {'topK': 624, 'alpha': 0.4734069856346528, 'normalize_similarity': True, 'implicit': True}. Best is trial 128 with value: 0.05332611477891539.\n"
     ]
    },
    {
     "name": "stdout",
     "output_type": "stream",
     "text": [
      "P3alphaRecommender: Similarity column 38121 (100.0%), 1970.41 column/sec. Elapsed time 19.35 sec\n",
      "EvaluatorHoldout: Processed 35595 (100.0%) in 30.53 sec. Users per second: 1166\n"
     ]
    },
    {
     "name": "stderr",
     "output_type": "stream",
     "text": [
      "[I 2024-11-18 20:12:06,366] Trial 170 finished with value: 0.04075972303047583 and parameters: {'topK': 109, 'alpha': 0.5789551406336793, 'normalize_similarity': False, 'implicit': True}. Best is trial 128 with value: 0.05332611477891539.\n"
     ]
    },
    {
     "name": "stdout",
     "output_type": "stream",
     "text": [
      "P3alphaRecommender: Similarity column 38121 (100.0%), 2373.67 column/sec. Elapsed time 16.06 sec\n",
      "EvaluatorHoldout: Processed 35595 (100.0%) in 30.60 sec. Users per second: 1163\n"
     ]
    },
    {
     "name": "stderr",
     "output_type": "stream",
     "text": [
      "[I 2024-11-18 20:12:54,442] Trial 171 finished with value: 0.05192472970833517 and parameters: {'topK': 27, 'alpha': 0.25797718166129036, 'normalize_similarity': True, 'implicit': True}. Best is trial 128 with value: 0.05332611477891539.\n"
     ]
    },
    {
     "name": "stdout",
     "output_type": "stream",
     "text": [
      "P3alphaRecommender: Similarity column 38121 (100.0%), 2390.94 column/sec. Elapsed time 15.94 sec\n",
      "EvaluatorHoldout: Processed 35595 (100.0%) in 30.65 sec. Users per second: 1161\n"
     ]
    },
    {
     "name": "stderr",
     "output_type": "stream",
     "text": [
      "[I 2024-11-18 20:13:42,459] Trial 172 finished with value: 0.0520298184826187 and parameters: {'topK': 26, 'alpha': 0.2605288838374385, 'normalize_similarity': True, 'implicit': True}. Best is trial 128 with value: 0.05332611477891539.\n"
     ]
    },
    {
     "name": "stdout",
     "output_type": "stream",
     "text": [
      "P3alphaRecommender: Similarity column 38121 (100.0%), 2213.62 column/sec. Elapsed time 17.22 sec\n",
      "EvaluatorHoldout: Processed 35595 (100.0%) in 32.13 sec. Users per second: 1108\n"
     ]
    },
    {
     "name": "stderr",
     "output_type": "stream",
     "text": [
      "[I 2024-11-18 20:14:33,957] Trial 173 finished with value: 0.049673079195622756 and parameters: {'topK': 55, 'alpha': 0.2672926887649198, 'normalize_similarity': True, 'implicit': True}. Best is trial 128 with value: 0.05332611477891539.\n"
     ]
    },
    {
     "name": "stdout",
     "output_type": "stream",
     "text": [
      "P3alphaRecommender: Similarity column 38121 (100.0%), 1054.99 column/sec. Elapsed time 36.13 sec\n",
      "EvaluatorHoldout: Processed 35595 (100.0%) in 42.00 sec. Users per second: 847\n"
     ]
    },
    {
     "name": "stderr",
     "output_type": "stream",
     "text": [
      "[I 2024-11-18 20:16:08,786] Trial 174 finished with value: 0.03707560362722458 and parameters: {'topK': 477, 'alpha': 0.21470669232571982, 'normalize_similarity': True, 'implicit': True}. Best is trial 128 with value: 0.05332611477891539.\n"
     ]
    },
    {
     "name": "stdout",
     "output_type": "stream",
     "text": [
      "P3alphaRecommender: Similarity column 38121 (100.0%), 2413.40 column/sec. Elapsed time 15.80 sec\n",
      "EvaluatorHoldout: Processed 35595 (100.0%) in 30.91 sec. Users per second: 1151\n"
     ]
    },
    {
     "name": "stderr",
     "output_type": "stream",
     "text": [
      "[I 2024-11-18 20:16:56,848] Trial 175 finished with value: 0.05238286878172927 and parameters: {'topK': 24, 'alpha': 0.4038026846934145, 'normalize_similarity': True, 'implicit': True}. Best is trial 128 with value: 0.05332611477891539.\n"
     ]
    },
    {
     "name": "stdout",
     "output_type": "stream",
     "text": [
      "P3alphaRecommender: Similarity column 38121 (100.0%), 2383.61 column/sec. Elapsed time 15.99 sec\n",
      "EvaluatorHoldout: Processed 35595 (100.0%) in 30.67 sec. Users per second: 1161\n"
     ]
    },
    {
     "name": "stderr",
     "output_type": "stream",
     "text": [
      "[I 2024-11-18 20:17:44,870] Trial 176 finished with value: 0.05234707924467548 and parameters: {'topK': 24, 'alpha': 0.39480335020003055, 'normalize_similarity': True, 'implicit': True}. Best is trial 128 with value: 0.05332611477891539.\n"
     ]
    },
    {
     "name": "stdout",
     "output_type": "stream",
     "text": [
      "P3alphaRecommender: Similarity column 38121 (100.0%), 2146.60 column/sec. Elapsed time 17.76 sec\n",
      "EvaluatorHoldout: Processed 35595 (100.0%) in 32.80 sec. Users per second: 1085\n"
     ]
    },
    {
     "name": "stderr",
     "output_type": "stream",
     "text": [
      "[I 2024-11-18 20:18:38,151] Trial 177 finished with value: 0.04862709784011752 and parameters: {'topK': 74, 'alpha': 0.4169630674592603, 'normalize_similarity': True, 'implicit': True}. Best is trial 128 with value: 0.05332611477891539.\n"
     ]
    },
    {
     "name": "stdout",
     "output_type": "stream",
     "text": [
      "P3alphaRecommender: Similarity column 38121 (100.0%), 2210.02 column/sec. Elapsed time 17.25 sec\n",
      "EvaluatorHoldout: Processed 35595 (100.0%) in 32.17 sec. Users per second: 1106\n"
     ]
    },
    {
     "name": "stderr",
     "output_type": "stream",
     "text": [
      "[I 2024-11-18 20:19:29,744] Trial 178 finished with value: 0.049861594391933765 and parameters: {'topK': 55, 'alpha': 0.3638993669870958, 'normalize_similarity': True, 'implicit': True}. Best is trial 128 with value: 0.05332611477891539.\n"
     ]
    },
    {
     "name": "stdout",
     "output_type": "stream",
     "text": [
      "P3alphaRecommender: Similarity column 38121 (100.0%), 2449.10 column/sec. Elapsed time 15.57 sec\n",
      "EvaluatorHoldout: Processed 35595 (100.0%) in 30.11 sec. Users per second: 1182\n"
     ]
    },
    {
     "name": "stderr",
     "output_type": "stream",
     "text": [
      "[I 2024-11-18 20:20:16,653] Trial 179 finished with value: 0.05279444344109127 and parameters: {'topK': 19, 'alpha': 0.38609280803442564, 'normalize_similarity': True, 'implicit': True}. Best is trial 128 with value: 0.05332611477891539.\n"
     ]
    },
    {
     "name": "stdout",
     "output_type": "stream",
     "text": [
      "P3alphaRecommender: Similarity column 38121 (100.0%), 2064.54 column/sec. Elapsed time 18.46 sec\n",
      "EvaluatorHoldout: Processed 35595 (100.0%) in 29.63 sec. Users per second: 1201\n"
     ]
    },
    {
     "name": "stderr",
     "output_type": "stream",
     "text": [
      "[I 2024-11-18 20:21:07,898] Trial 180 finished with value: 0.04778316465884765 and parameters: {'topK': 88, 'alpha': 0.41034731712344497, 'normalize_similarity': True, 'implicit': True}. Best is trial 128 with value: 0.05332611477891539.\n"
     ]
    },
    {
     "name": "stdout",
     "output_type": "stream",
     "text": [
      "P3alphaRecommender: Similarity column 38121 (100.0%), 2436.50 column/sec. Elapsed time 15.65 sec\n",
      "EvaluatorHoldout: Processed 35595 (100.0%) in 29.97 sec. Users per second: 1188\n"
     ]
    },
    {
     "name": "stderr",
     "output_type": "stream",
     "text": [
      "[I 2024-11-18 20:21:54,725] Trial 181 finished with value: 0.05281176239751699 and parameters: {'topK': 18, 'alpha': 0.4635016215716624, 'normalize_similarity': True, 'implicit': True}. Best is trial 128 with value: 0.05332611477891539.\n"
     ]
    },
    {
     "name": "stdout",
     "output_type": "stream",
     "text": [
      "P3alphaRecommender: Similarity column 38121 (100.0%), 3525.05 column/sec. Elapsed time 10.81 sec\n",
      "EvaluatorHoldout: Processed 35595 (100.0%) in 24.17 sec. Users per second: 1472\n"
     ]
    },
    {
     "name": "stderr",
     "output_type": "stream",
     "text": [
      "[I 2024-11-18 20:22:29,989] Trial 182 finished with value: 0.00028209999175022335 and parameters: {'topK': 0, 'alpha': 0.4961217728402752, 'normalize_similarity': True, 'implicit': True}. Best is trial 128 with value: 0.05332611477891539.\n"
     ]
    },
    {
     "name": "stdout",
     "output_type": "stream",
     "text": [
      "P3alphaRecommender: Similarity column 38121 (100.0%), 2285.62 column/sec. Elapsed time 16.68 sec\n",
      "EvaluatorHoldout: Processed 35595 (100.0%) in 32.05 sec. Users per second: 1111\n"
     ]
    },
    {
     "name": "stderr",
     "output_type": "stream",
     "text": [
      "[I 2024-11-18 20:23:20,705] Trial 183 finished with value: 0.050282106680756423 and parameters: {'topK': 48, 'alpha': 0.4419552278478031, 'normalize_similarity': True, 'implicit': True}. Best is trial 128 with value: 0.05332611477891539.\n"
     ]
    },
    {
     "name": "stdout",
     "output_type": "stream",
     "text": [
      "P3alphaRecommender: Similarity column 38121 (100.0%), 2383.79 column/sec. Elapsed time 15.99 sec\n",
      "EvaluatorHoldout: Processed 35595 (100.0%) in 30.49 sec. Users per second: 1167\n"
     ]
    },
    {
     "name": "stderr",
     "output_type": "stream",
     "text": [
      "[I 2024-11-18 20:24:08,576] Trial 184 finished with value: 0.052288947306223084 and parameters: {'topK': 25, 'alpha': 0.3767058732394614, 'normalize_similarity': True, 'implicit': True}. Best is trial 128 with value: 0.05332611477891539.\n"
     ]
    },
    {
     "name": "stdout",
     "output_type": "stream",
     "text": [
      "P3alphaRecommender: Similarity column 38121 (100.0%), 3517.55 column/sec. Elapsed time 10.84 sec\n",
      "EvaluatorHoldout: Processed 35595 (100.0%) in 24.22 sec. Users per second: 1470\n"
     ]
    },
    {
     "name": "stderr",
     "output_type": "stream",
     "text": [
      "[I 2024-11-18 20:24:43,911] Trial 185 finished with value: 0.00028209999175022335 and parameters: {'topK': 0, 'alpha': 0.5493164188154647, 'normalize_similarity': True, 'implicit': True}. Best is trial 128 with value: 0.05332611477891539.\n"
     ]
    },
    {
     "name": "stdout",
     "output_type": "stream",
     "text": [
      "P3alphaRecommender: Similarity column 38121 (100.0%), 2144.67 column/sec. Elapsed time 17.77 sec\n",
      "EvaluatorHoldout: Processed 35595 (100.0%) in 32.69 sec. Users per second: 1089\n"
     ]
    },
    {
     "name": "stderr",
     "output_type": "stream",
     "text": [
      "[I 2024-11-18 20:25:36,941] Trial 186 finished with value: 0.04890837508388954 and parameters: {'topK': 69, 'alpha': 0.3867687413193176, 'normalize_similarity': True, 'implicit': True}. Best is trial 128 with value: 0.05332611477891539.\n"
     ]
    },
    {
     "name": "stdout",
     "output_type": "stream",
     "text": [
      "P3alphaRecommender: Similarity column 38121 (100.0%), 2278.08 column/sec. Elapsed time 16.73 sec\n",
      "EvaluatorHoldout: Processed 35595 (100.0%) in 32.07 sec. Users per second: 1110\n"
     ]
    },
    {
     "name": "stderr",
     "output_type": "stream",
     "text": [
      "[I 2024-11-18 20:26:27,692] Trial 187 finished with value: 0.05056842409202113 and parameters: {'topK': 45, 'alpha': 0.4540456172891898, 'normalize_similarity': True, 'implicit': True}. Best is trial 128 with value: 0.05332611477891539.\n"
     ]
    },
    {
     "name": "stdout",
     "output_type": "stream",
     "text": [
      "P3alphaRecommender: Similarity column 38121 (100.0%), 1992.15 column/sec. Elapsed time 19.14 sec\n",
      "EvaluatorHoldout: Processed 35595 (100.0%) in 29.94 sec. Users per second: 1189\n"
     ]
    },
    {
     "name": "stderr",
     "output_type": "stream",
     "text": [
      "[I 2024-11-18 20:27:20,298] Trial 188 finished with value: 0.04693830839448045 and parameters: {'topK': 101, 'alpha': 0.3566132842205112, 'normalize_similarity': True, 'implicit': True}. Best is trial 128 with value: 0.05332611477891539.\n"
     ]
    },
    {
     "name": "stdout",
     "output_type": "stream",
     "text": [
      "P3alphaRecommender: Similarity column 38121 (100.0%), 2375.42 column/sec. Elapsed time 16.05 sec\n",
      "EvaluatorHoldout: Processed 35595 (100.0%) in 30.97 sec. Users per second: 1149\n"
     ]
    },
    {
     "name": "stderr",
     "output_type": "stream",
     "text": [
      "[I 2024-11-18 20:28:08,797] Trial 189 finished with value: 0.051908302619636304 and parameters: {'topK': 28, 'alpha': 0.4152813447820159, 'normalize_similarity': True, 'implicit': True}. Best is trial 128 with value: 0.05332611477891539.\n"
     ]
    },
    {
     "name": "stdout",
     "output_type": "stream",
     "text": [
      "P3alphaRecommender: Similarity column 38121 (100.0%), 2150.81 column/sec. Elapsed time 17.72 sec\n",
      "EvaluatorHoldout: Processed 35595 (100.0%) in 32.85 sec. Users per second: 1083\n"
     ]
    },
    {
     "name": "stderr",
     "output_type": "stream",
     "text": [
      "[I 2024-11-18 20:29:01,957] Trial 190 finished with value: 0.04916577814344171 and parameters: {'topK': 66, 'alpha': 0.49862770261594136, 'normalize_similarity': True, 'implicit': True}. Best is trial 128 with value: 0.05332611477891539.\n"
     ]
    },
    {
     "name": "stdout",
     "output_type": "stream",
     "text": [
      "P3alphaRecommender: Similarity column 38121 (100.0%), 3531.64 column/sec. Elapsed time 10.79 sec\n",
      "EvaluatorHoldout: Processed 35595 (100.0%) in 24.14 sec. Users per second: 1475\n"
     ]
    },
    {
     "name": "stderr",
     "output_type": "stream",
     "text": [
      "[I 2024-11-18 20:29:37,165] Trial 191 finished with value: 0.00028209999175022335 and parameters: {'topK': 0, 'alpha': 0.3212229953435077, 'normalize_similarity': True, 'implicit': True}. Best is trial 128 with value: 0.05332611477891539.\n"
     ]
    },
    {
     "name": "stdout",
     "output_type": "stream",
     "text": [
      "P3alphaRecommender: Similarity column 38121 (100.0%), 2393.98 column/sec. Elapsed time 15.92 sec\n",
      "EvaluatorHoldout: Processed 35595 (100.0%) in 30.55 sec. Users per second: 1165\n"
     ]
    },
    {
     "name": "stderr",
     "output_type": "stream",
     "text": [
      "[I 2024-11-18 20:30:24,985] Trial 192 finished with value: 0.05242786239372675 and parameters: {'topK': 23, 'alpha': 0.3795947960136025, 'normalize_similarity': True, 'implicit': True}. Best is trial 128 with value: 0.05332611477891539.\n"
     ]
    },
    {
     "name": "stdout",
     "output_type": "stream",
     "text": [
      "P3alphaRecommender: Similarity column 38121 (100.0%), 2434.06 column/sec. Elapsed time 15.66 sec\n",
      "EvaluatorHoldout: Processed 35595 (100.0%) in 30.52 sec. Users per second: 1166\n"
     ]
    },
    {
     "name": "stderr",
     "output_type": "stream",
     "text": [
      "[I 2024-11-18 20:31:12,507] Trial 193 finished with value: 0.05245785813505832 and parameters: {'topK': 23, 'alpha': 0.3912551363503272, 'normalize_similarity': True, 'implicit': True}. Best is trial 128 with value: 0.05332611477891539.\n"
     ]
    },
    {
     "name": "stdout",
     "output_type": "stream",
     "text": [
      "P3alphaRecommender: Similarity column 38121 (100.0%), 2254.10 column/sec. Elapsed time 16.91 sec\n",
      "EvaluatorHoldout: Processed 35595 (100.0%) in 32.00 sec. Users per second: 1113\n"
     ]
    },
    {
     "name": "stderr",
     "output_type": "stream",
     "text": [
      "[I 2024-11-18 20:32:03,461] Trial 194 finished with value: 0.05013604104375097 and parameters: {'topK': 50, 'alpha': 0.3954271241088314, 'normalize_similarity': True, 'implicit': True}. Best is trial 128 with value: 0.05332611477891539.\n"
     ]
    },
    {
     "name": "stdout",
     "output_type": "stream",
     "text": [
      "P3alphaRecommender: Similarity column 38121 (100.0%), 3467.29 column/sec. Elapsed time 10.99 sec\n",
      "EvaluatorHoldout: Processed 35595 (100.0%) in 24.27 sec. Users per second: 1466\n"
     ]
    },
    {
     "name": "stderr",
     "output_type": "stream",
     "text": [
      "[I 2024-11-18 20:32:39,008] Trial 195 finished with value: 0.00028209999175022335 and parameters: {'topK': 0, 'alpha': 0.4532212993799947, 'normalize_similarity': True, 'implicit': True}. Best is trial 128 with value: 0.05332611477891539.\n"
     ]
    },
    {
     "name": "stdout",
     "output_type": "stream",
     "text": [
      "P3alphaRecommender: Similarity column 38121 (100.0%), 2069.51 column/sec. Elapsed time 18.42 sec\n",
      "EvaluatorHoldout: Processed 35595 (100.0%) in 33.32 sec. Users per second: 1068\n"
     ]
    },
    {
     "name": "stderr",
     "output_type": "stream",
     "text": [
      "[I 2024-11-18 20:33:33,882] Trial 196 finished with value: 0.047897727298062624 and parameters: {'topK': 86, 'alpha': 0.4255436643319266, 'normalize_similarity': True, 'implicit': True}. Best is trial 128 with value: 0.05332611477891539.\n"
     ]
    },
    {
     "name": "stdout",
     "output_type": "stream",
     "text": [
      "P3alphaRecommender: Similarity column 38121 (100.0%), 2377.50 column/sec. Elapsed time 16.03 sec\n",
      "EvaluatorHoldout: Processed 35595 (100.0%) in 30.77 sec. Users per second: 1157\n"
     ]
    },
    {
     "name": "stderr",
     "output_type": "stream",
     "text": [
      "[I 2024-11-18 20:34:22,108] Trial 197 finished with value: 0.05215019832908386 and parameters: {'topK': 26, 'alpha': 0.37892421323128406, 'normalize_similarity': True, 'implicit': True}. Best is trial 128 with value: 0.05332611477891539.\n"
     ]
    },
    {
     "name": "stdout",
     "output_type": "stream",
     "text": [
      "P3alphaRecommender: Similarity column 38121 (100.0%), 2241.76 column/sec. Elapsed time 17.00 sec\n",
      "EvaluatorHoldout: Processed 35595 (100.0%) in 31.96 sec. Users per second: 1114\n"
     ]
    },
    {
     "name": "stderr",
     "output_type": "stream",
     "text": [
      "[I 2024-11-18 20:35:13,106] Trial 198 finished with value: 0.050257209078319785 and parameters: {'topK': 49, 'alpha': 0.37379799702603816, 'normalize_similarity': True, 'implicit': True}. Best is trial 128 with value: 0.05332611477891539.\n"
     ]
    },
    {
     "name": "stdout",
     "output_type": "stream",
     "text": [
      "P3alphaRecommender: Similarity column 38121 (100.0%), 2398.99 column/sec. Elapsed time 15.89 sec\n",
      "EvaluatorHoldout: Processed 35595 (100.0%) in 30.72 sec. Users per second: 1159\n"
     ]
    },
    {
     "name": "stderr",
     "output_type": "stream",
     "text": [
      "[I 2024-11-18 20:36:01,102] Trial 199 finished with value: 0.052175580884597075 and parameters: {'topK': 25, 'alpha': 0.3194297552844457, 'normalize_similarity': True, 'implicit': True}. Best is trial 128 with value: 0.05332611477891539.\n"
     ]
    }
   ],
   "source": [
    "if config['tune_parameters']:\n",
    "    \n",
    "    optuna_study = optuna.create_study(direction='maximize', study_name=f'hyperparameters_tuning_{config[\"model\"]}',\n",
    "                                storage=f'sqlite:///{config[\"database_path\"]}', load_if_exists=True)\n",
    "\n",
    "    optuna_study.optimize(objective_function_P3alphaRecommender, n_trials=200)"
   ]
  },
  {
   "cell_type": "markdown",
   "id": "2996b832",
   "metadata": {
    "papermill": {
     "duration": 0.042962,
     "end_time": "2024-11-18T20:36:01.196147",
     "exception": false,
     "start_time": "2024-11-18T20:36:01.153185",
     "status": "completed"
    },
    "tags": []
   },
   "source": [
    "## Some optuna visualizations on recommender parameters"
   ]
  },
  {
   "cell_type": "code",
   "execution_count": 17,
   "id": "caf924b1",
   "metadata": {
    "execution": {
     "iopub.execute_input": "2024-11-18T20:36:01.336083Z",
     "iopub.status.busy": "2024-11-18T20:36:01.335668Z",
     "iopub.status.idle": "2024-11-18T20:36:02.759508Z",
     "shell.execute_reply": "2024-11-18T20:36:02.758490Z"
    },
    "papermill": {
     "duration": 1.521074,
     "end_time": "2024-11-18T20:36:02.761619",
     "exception": false,
     "start_time": "2024-11-18T20:36:01.240545",
     "status": "completed"
    },
    "tags": []
   },
   "outputs": [
    {
     "data": {
      "text/html": [
       "        <script type=\"text/javascript\">\n",
       "        window.PlotlyConfig = {MathJaxConfig: 'local'};\n",
       "        if (window.MathJax && window.MathJax.Hub && window.MathJax.Hub.Config) {window.MathJax.Hub.Config({SVG: {font: \"STIX-Web\"}});}\n",
       "        if (typeof require !== 'undefined') {\n",
       "        require.undef(\"plotly\");\n",
       "        requirejs.config({\n",
       "            paths: {\n",
       "                'plotly': ['https://cdn.plot.ly/plotly-2.32.0.min']\n",
       "            }\n",
       "        });\n",
       "        require(['plotly'], function(Plotly) {\n",
       "            window._Plotly = Plotly;\n",
       "        });\n",
       "        }\n",
       "        </script>\n",
       "        "
      ]
     },
     "metadata": {},
     "output_type": "display_data"
    },
    {
     "data": {
      "text/html": [
       "<div>                            <div id=\"b2ec0245-41d4-41ab-900d-69adebf0c91b\" class=\"plotly-graph-div\" style=\"height:525px; width:1200px;\"></div>            <script type=\"text/javascript\">                require([\"plotly\"], function(Plotly) {                    window.PLOTLYENV=window.PLOTLYENV || {};                                    if (document.getElementById(\"b2ec0245-41d4-41ab-900d-69adebf0c91b\")) {                    Plotly.newPlot(                        \"b2ec0245-41d4-41ab-900d-69adebf0c91b\",                        [{\"marker\":{\"color\":[0,1,2,3,4,5,6,7,8,9,10,11,12,13,14,15,16,17,18,19,20,21,22,23,24,25,26,27,28,29,30,31,32,33,34,35,36,37,38,39,40,41,42,43,44,45,46,47,48,49,50,51,52,53,54,55,56,57,58,59,60,61,62,63,64,65,66,67,68,69,70,71,72,73,74,75,76,77,78,79,80,81,82,83,84,85,86,87,88,89,90,91,92,93,94,95,96,97,98,99,100,101,102,103,104,105,106,107,108,109,110,111,112,113,114,115,116,117,118,119,120,121,122,123,124,125,126,127,128,129,130,131,132,133,134,135,136,137,138,139,140,141,142,143,144,145,146,147,148,149,150,151,152,153,154,155,156,157,158,159,160,161,162,163,164,165,166,167,168,169,170,171,172,173,174,175,176,177,178,179,180,181,182,183,184,185,186,187,188,189,190,191,192,193,194,195,196,197,198,199],\"colorbar\":{\"title\":{\"text\":\"Trial\"},\"x\":1.0,\"xpad\":40},\"colorscale\":[[0.0,\"rgb(247,251,255)\"],[0.125,\"rgb(222,235,247)\"],[0.25,\"rgb(198,219,239)\"],[0.375,\"rgb(158,202,225)\"],[0.5,\"rgb(107,174,214)\"],[0.625,\"rgb(66,146,198)\"],[0.75,\"rgb(33,113,181)\"],[0.875,\"rgb(8,81,156)\"],[1.0,\"rgb(8,48,107)\"]],\"line\":{\"color\":\"Grey\",\"width\":0.5},\"showscale\":true},\"mode\":\"markers\",\"name\":\"Feasible Trial\",\"showlegend\":false,\"x\":[0.13970224044516044,0.900420696436468,0.2746459090128892,1.0803031892164712,1.125702136698511,0.12131348126886277,1.9035941649883537,1.7318890381484007,0.6865170641798204,0.32815198170941917,1.3911804182033483,1.3934114203042636,1.4721210096831958,1.4238255760167111,1.5503111835605372,1.6505962869840984,1.9183829033405395,1.9772848588113183,1.9928332605386654,1.8320734944006234,1.7174920849306676,1.8841252318750703,1.798195608304144,1.2069573377768994,1.9814339198236601,1.6135570933843837,1.8139512015739636,0.8208335498096523,1.2674078153858062,1.8454264478406797,0.5745028317856684,1.9958392052631937,1.5996801945276657,1.736510395820371,1.8940087670634707,1.994365686268915,1.5150602384848373,1.7016029345384138,0.002603046543897536,0.9736489007196081,1.8131323156896184,0.8797215936108498,0.7751751442383075,0.8062809227326186,0.8168793406409641,0.5385571967030147,0.5231074314724962,0.3320066326612452,0.7221957450866141,1.0120178076093256,0.4796642242844803,0.4045700260964513,0.6040727091466473,0.6639698355244541,0.6718778178824124,0.6632266127513817,0.6261525879372072,0.6367022402639457,0.7487700552448928,0.7249077968561344,0.43503766551925976,0.2429927467600869,0.21843651588137336,0.20654362434819667,0.21384084450039043,0.13779150779361493,0.24942194438947612,0.2341722924691252,0.06444237937622799,0.3802911700441819,0.06876653309774669,0.2266274759516383,0.18592583128363024,0.32601635587033406,0.2967764768583923,0.31915314872364947,0.09476162345242153,0.4432372927829938,0.4317328176933879,0.018119534563767248,0.03158471425211695,0.30774035819385653,0.2944790097122115,0.1550416563153536,0.3592454346016715,0.16192244487075158,0.4386892652187496,0.27913192887283794,0.09930026998158548,0.4792311919665272,0.3586705652631851,0.032440420110027346,0.15118039543070538,0.15164364464860913,0.13979437698155728,0.08883540869678166,0.05511414789607254,0.16116607169574937,0.28912391215840266,0.052029492276303074,0.26039504739208863,0.007342520616717224,0.1781818363982699,0.12634980295465773,0.12034697000886488,0.0937917023846361,0.12146659341309754,0.31649949862950966,0.12789776035431857,0.17418282457443152,0.15908361253905012,0.04671329051148687,0.17854003755561154,0.19424313319702063,0.2086900884643583,0.3322832572552486,0.34713532018009263,0.39072288098673325,0.2613202720173038,0.2835294400746661,0.2578375037252607,0.3231546840798435,0.4934465684970684,0.3181701809234449,0.3871748971021878,0.42816824160639316,0.3817001823658266,0.5292410223596432,0.2412806492363928,1.3204181245593927,0.23498874255076382,0.32633840542128184,0.34341937301314857,0.3498365282165739,0.45803042784324743,0.573919698964462,0.32107525325803893,1.1454864644946072,0.41023646665652713,0.2663050001300709,0.38708524268393574,0.3780363147595567,0.3823629419537749,0.20613712417945856,0.3420983957139295,0.27603360076454786,0.2767845315249703,0.23374993213027792,0.19364545191153126,0.40130000394938925,0.30049095904524864,0.3552525728863243,0.37407459945200194,0.48286950625578223,0.2537735747831653,0.2415494776691889,0.2762526423483673,0.3441723005409292,0.41604837373107034,0.4078569560244515,0.5121165811176089,0.3125196744644095,0.4549155623367528,0.4439427546651896,0.3844294604673984,0.5659010449512127,0.44994558385132066,0.35447109659858117,0.5316355467892911,0.4734069856346528,0.5789551406336793,0.25797718166129036,0.2605288838374385,0.2672926887649198,0.21470669232571982,0.4038026846934145,0.39480335020003055,0.4169630674592603,0.3638993669870958,0.38609280803442564,0.41034731712344497,0.4635016215716624,0.4961217728402752,0.4419552278478031,0.3767058732394614,0.5493164188154647,0.3867687413193176,0.4540456172891898,0.3566132842205112,0.4152813447820159,0.49862770261594136,0.3212229953435077,0.3795947960136025,0.3912551363503272,0.3954271241088314,0.4532212993799947,0.4255436643319266,0.37892421323128406,0.37379799702603816,0.3194297552844457],\"y\":[0.026439897033870327,0.03487950309589463,0.03404955105608191,0.03575589803276156,0.03482190627807867,0.029905137604041183,0.02620527227606833,0.02992433617170172,0.03461959165836014,0.03265141349886284,0.03626605417650371,0.036314046693733414,0.03705292566059388,0.037721862130625984,0.03766818841597467,0.03767605691899699,0.042706138502596996,0.04548248371783819,0.02057877421699597,0.04642285790094288,0.0402747119824642,0.045810624151330345,0.04071581192293221,0.039803561673766766,0.04564818716735939,0.03836943836859406,0.02691884226650314,0.045038471829241505,0.03457277752136456,0.00028209999175022335,0.042466717726092736,0.04216377144105594,0.04339842184005504,0.037996609787800846,0.039102759884680094,0.04111136417857713,0.03894964626296129,0.04310886806377577,0.028588602599347927,0.03711739431924718,0.04044177887477345,0.04671227455255944,0.0499208054903359,0.047704401590198786,0.04110919248066151,0.04614070551196392,0.03614812919595787,0.033104359672415914,0.043058429599304775,0.03572003157211605,0.04747547698200718,0.04593376209874155,0.04913950483503634,0.04922186101579093,0.04875024247653658,0.03572891457467824,0.048114301767902996,0.039221662575222,0.04861177778223528,0.04343702076044954,0.05003946514692218,0.049170351195212555,0.04921896244567789,0.049978608552564,0.04332941580434042,0.04397519046949989,0.05044443998510413,0.039884795216020064,0.0504332604231449,0.043211142995380994,0.037823326577433994,0.050115996316584664,0.04484037685870659,0.05168747505557268,0.05131877359268681,0.04392043870973329,0.041284447833540454,0.05148157066825263,0.04603171147186994,0.0500308296376547,0.035836500578597955,0.051655929694065315,0.04450834788192402,0.050827995504984694,0.04672582759750734,0.0499938193566497,0.04123215428419645,0.04281005558565462,0.04586056985888287,0.04151407590240134,0.044669806041064436,0.05114726296942715,0.052149027752692236,0.05167098553613323,0.02086482072343813,0.04595166745819788,0.050476618572697717,0.046980434651735174,0.032528770538040486,0.04397427073090628,0.03785599457744277,0.046099980601875395,0.04994096727514188,0.05086017743708228,0.05142499949832274,0.0327620095563615,0.00028209999175022335,0.04371660457037457,0.044906735162106505,0.05155876739420579,0.03477129947357398,0.05127247450930369,0.04786368136241557,0.05233988967596006,0.04735089755338207,0.05228674104843317,0.046021992343313924,0.04874247319379883,0.05253145840440208,0.04232615937230202,0.035773921564691516,0.053025623359797304,0.00028209999175022335,0.04702923430925792,0.05231757737509755,0.032771015190735955,0.04937572715090423,0.04540628922824291,0.05332611477891539,0.01669097786607284,0.048561217800786476,0.051494290931710145,0.05222898034992236,0.046597545802980346,0.036639159236292275,0.049484717846494414,0.046736198904338944,0.04908996381246523,0.04488187211954436,0.04803806379975599,0.052315226188801994,0.05256229027172812,0.00028209999175022335,0.049812029957835305,0.03319853644505884,0.052038343623255164,0.04766083385172987,0.049239788671940427,0.036573858910983484,0.046756748651605944,0.0442050381607888,0.052134081164420525,0.00028209999175022335,0.04966144478112261,0.05178529845238455,0.04813619377609944,0.05024351221970106,0.04592216335895071,0.052293871530911286,0.04804499026749167,0.035274473407847645,0.051658988800369274,0.05251371692564101,0.02018643380000288,0.04956132816941717,0.05220080178908453,0.00028209999175022335,0.04760971422328194,0.05031411692831666,0.03644101744270177,0.04075972303047583,0.05192472970833517,0.0520298184826187,0.049673079195622756,0.03707560362722458,0.05238286878172927,0.05234707924467548,0.04862709784011752,0.049861594391933765,0.05279444344109127,0.04778316465884765,0.05281176239751699,0.00028209999175022335,0.050282106680756423,0.052288947306223084,0.00028209999175022335,0.04890837508388954,0.05056842409202113,0.04693830839448045,0.051908302619636304,0.04916577814344171,0.00028209999175022335,0.05242786239372675,0.05245785813505832,0.05013604104375097,0.00028209999175022335,0.047897727298062624,0.05215019832908386,0.050257209078319785,0.052175580884597075],\"type\":\"scatter\",\"xaxis\":\"x\",\"yaxis\":\"y\"},{\"marker\":{\"color\":[0,1,2,3,4,5,6,7,8,9,10,11,12,13,14,15,16,17,18,19,20,21,22,23,24,25,26,27,28,29,30,31,32,33,34,35,36,37,38,39,40,41,42,43,44,45,46,47,48,49,50,51,52,53,54,55,56,57,58,59,60,61,62,63,64,65,66,67,68,69,70,71,72,73,74,75,76,77,78,79,80,81,82,83,84,85,86,87,88,89,90,91,92,93,94,95,96,97,98,99,100,101,102,103,104,105,106,107,108,109,110,111,112,113,114,115,116,117,118,119,120,121,122,123,124,125,126,127,128,129,130,131,132,133,134,135,136,137,138,139,140,141,142,143,144,145,146,147,148,149,150,151,152,153,154,155,156,157,158,159,160,161,162,163,164,165,166,167,168,169,170,171,172,173,174,175,176,177,178,179,180,181,182,183,184,185,186,187,188,189,190,191,192,193,194,195,196,197,198,199],\"colorbar\":{\"title\":{\"text\":\"Trial\"},\"x\":1.0,\"xpad\":40},\"colorscale\":[[0.0,\"rgb(247,251,255)\"],[0.125,\"rgb(222,235,247)\"],[0.25,\"rgb(198,219,239)\"],[0.375,\"rgb(158,202,225)\"],[0.5,\"rgb(107,174,214)\"],[0.625,\"rgb(66,146,198)\"],[0.75,\"rgb(33,113,181)\"],[0.875,\"rgb(8,81,156)\"],[1.0,\"rgb(8,48,107)\"]],\"line\":{\"color\":\"Grey\",\"width\":0.5},\"showscale\":false},\"mode\":\"markers\",\"name\":\"Feasible Trial\",\"showlegend\":false,\"x\":[false,false,true,false,true,false,false,true,true,true,false,false,false,false,false,false,false,false,false,false,false,false,false,false,false,false,true,false,false,false,false,false,false,false,false,false,true,false,false,true,false,false,false,false,false,true,true,true,true,true,true,true,true,true,true,true,true,true,true,true,true,true,true,true,true,true,true,true,true,true,true,true,true,true,true,true,true,true,true,true,true,true,true,true,true,true,true,true,true,true,true,true,true,true,true,true,true,true,true,true,true,true,true,true,true,true,true,true,true,true,true,true,true,true,true,true,true,true,true,true,true,true,true,true,true,true,true,true,true,true,true,true,true,true,true,true,true,true,true,true,true,true,true,true,true,true,true,true,true,true,true,true,true,true,true,true,true,true,true,true,true,true,true,true,true,true,true,true,true,true,true,true,true,true,true,true,true,true,true,true,true,true,true,true,true,true,true,true,true,true,true,true,true,true,true,true,true,true,true,true],\"y\":[0.026439897033870327,0.03487950309589463,0.03404955105608191,0.03575589803276156,0.03482190627807867,0.029905137604041183,0.02620527227606833,0.02992433617170172,0.03461959165836014,0.03265141349886284,0.03626605417650371,0.036314046693733414,0.03705292566059388,0.037721862130625984,0.03766818841597467,0.03767605691899699,0.042706138502596996,0.04548248371783819,0.02057877421699597,0.04642285790094288,0.0402747119824642,0.045810624151330345,0.04071581192293221,0.039803561673766766,0.04564818716735939,0.03836943836859406,0.02691884226650314,0.045038471829241505,0.03457277752136456,0.00028209999175022335,0.042466717726092736,0.04216377144105594,0.04339842184005504,0.037996609787800846,0.039102759884680094,0.04111136417857713,0.03894964626296129,0.04310886806377577,0.028588602599347927,0.03711739431924718,0.04044177887477345,0.04671227455255944,0.0499208054903359,0.047704401590198786,0.04110919248066151,0.04614070551196392,0.03614812919595787,0.033104359672415914,0.043058429599304775,0.03572003157211605,0.04747547698200718,0.04593376209874155,0.04913950483503634,0.04922186101579093,0.04875024247653658,0.03572891457467824,0.048114301767902996,0.039221662575222,0.04861177778223528,0.04343702076044954,0.05003946514692218,0.049170351195212555,0.04921896244567789,0.049978608552564,0.04332941580434042,0.04397519046949989,0.05044443998510413,0.039884795216020064,0.0504332604231449,0.043211142995380994,0.037823326577433994,0.050115996316584664,0.04484037685870659,0.05168747505557268,0.05131877359268681,0.04392043870973329,0.041284447833540454,0.05148157066825263,0.04603171147186994,0.0500308296376547,0.035836500578597955,0.051655929694065315,0.04450834788192402,0.050827995504984694,0.04672582759750734,0.0499938193566497,0.04123215428419645,0.04281005558565462,0.04586056985888287,0.04151407590240134,0.044669806041064436,0.05114726296942715,0.052149027752692236,0.05167098553613323,0.02086482072343813,0.04595166745819788,0.050476618572697717,0.046980434651735174,0.032528770538040486,0.04397427073090628,0.03785599457744277,0.046099980601875395,0.04994096727514188,0.05086017743708228,0.05142499949832274,0.0327620095563615,0.00028209999175022335,0.04371660457037457,0.044906735162106505,0.05155876739420579,0.03477129947357398,0.05127247450930369,0.04786368136241557,0.05233988967596006,0.04735089755338207,0.05228674104843317,0.046021992343313924,0.04874247319379883,0.05253145840440208,0.04232615937230202,0.035773921564691516,0.053025623359797304,0.00028209999175022335,0.04702923430925792,0.05231757737509755,0.032771015190735955,0.04937572715090423,0.04540628922824291,0.05332611477891539,0.01669097786607284,0.048561217800786476,0.051494290931710145,0.05222898034992236,0.046597545802980346,0.036639159236292275,0.049484717846494414,0.046736198904338944,0.04908996381246523,0.04488187211954436,0.04803806379975599,0.052315226188801994,0.05256229027172812,0.00028209999175022335,0.049812029957835305,0.03319853644505884,0.052038343623255164,0.04766083385172987,0.049239788671940427,0.036573858910983484,0.046756748651605944,0.0442050381607888,0.052134081164420525,0.00028209999175022335,0.04966144478112261,0.05178529845238455,0.04813619377609944,0.05024351221970106,0.04592216335895071,0.052293871530911286,0.04804499026749167,0.035274473407847645,0.051658988800369274,0.05251371692564101,0.02018643380000288,0.04956132816941717,0.05220080178908453,0.00028209999175022335,0.04760971422328194,0.05031411692831666,0.03644101744270177,0.04075972303047583,0.05192472970833517,0.0520298184826187,0.049673079195622756,0.03707560362722458,0.05238286878172927,0.05234707924467548,0.04862709784011752,0.049861594391933765,0.05279444344109127,0.04778316465884765,0.05281176239751699,0.00028209999175022335,0.050282106680756423,0.052288947306223084,0.00028209999175022335,0.04890837508388954,0.05056842409202113,0.04693830839448045,0.051908302619636304,0.04916577814344171,0.00028209999175022335,0.05242786239372675,0.05245785813505832,0.05013604104375097,0.00028209999175022335,0.047897727298062624,0.05215019832908386,0.050257209078319785,0.052175580884597075],\"type\":\"scatter\",\"xaxis\":\"x2\",\"yaxis\":\"y2\"},{\"marker\":{\"color\":[0,1,2,3,4,5,6,7,8,9,10,11,12,13,14,15,16,17,18,19,20,21,22,23,24,25,26,27,28,29,30,31,32,33,34,35,36,37,38,39,40,41,42,43,44,45,46,47,48,49,50,51,52,53,54,55,56,57,58,59,60,61,62,63,64,65,66,67,68,69,70,71,72,73,74,75,76,77,78,79,80,81,82,83,84,85,86,87,88,89,90,91,92,93,94,95,96,97,98,99,100,101,102,103,104,105,106,107,108,109,110,111,112,113,114,115,116,117,118,119,120,121,122,123,124,125,126,127,128,129,130,131,132,133,134,135,136,137,138,139,140,141,142,143,144,145,146,147,148,149,150,151,152,153,154,155,156,157,158,159,160,161,162,163,164,165,166,167,168,169,170,171,172,173,174,175,176,177,178,179,180,181,182,183,184,185,186,187,188,189,190,191,192,193,194,195,196,197,198,199],\"colorbar\":{\"title\":{\"text\":\"Trial\"},\"x\":1.0,\"xpad\":40},\"colorscale\":[[0.0,\"rgb(247,251,255)\"],[0.125,\"rgb(222,235,247)\"],[0.25,\"rgb(198,219,239)\"],[0.375,\"rgb(158,202,225)\"],[0.5,\"rgb(107,174,214)\"],[0.625,\"rgb(66,146,198)\"],[0.75,\"rgb(33,113,181)\"],[0.875,\"rgb(8,81,156)\"],[1.0,\"rgb(8,48,107)\"]],\"line\":{\"color\":\"Grey\",\"width\":0.5},\"showscale\":false},\"mode\":\"markers\",\"name\":\"Feasible Trial\",\"showlegend\":false,\"x\":[false,true,true,true,true,false,false,false,true,true,true,true,true,true,true,true,true,true,false,true,true,true,true,true,true,true,false,true,true,false,true,true,true,true,true,true,true,true,false,true,true,true,true,true,true,true,false,true,true,true,true,true,true,true,true,true,true,false,true,true,true,true,true,true,true,true,true,true,true,false,true,true,true,true,true,true,true,true,true,true,true,true,true,true,true,true,false,true,true,true,true,true,true,true,true,true,true,true,true,true,false,true,true,true,true,true,true,true,true,true,true,true,true,true,true,true,true,true,true,true,false,true,true,true,true,true,true,true,true,true,true,true,true,true,true,true,true,true,true,true,true,true,true,true,true,true,true,true,false,true,true,true,true,true,true,true,true,true,true,true,true,true,true,true,true,true,true,true,true,true,false,true,true,true,true,true,true,true,true,true,true,true,true,true,true,true,true,true,true,true,true,true,true,true,true,true,true,true,true,true],\"y\":[0.026439897033870327,0.03487950309589463,0.03404955105608191,0.03575589803276156,0.03482190627807867,0.029905137604041183,0.02620527227606833,0.02992433617170172,0.03461959165836014,0.03265141349886284,0.03626605417650371,0.036314046693733414,0.03705292566059388,0.037721862130625984,0.03766818841597467,0.03767605691899699,0.042706138502596996,0.04548248371783819,0.02057877421699597,0.04642285790094288,0.0402747119824642,0.045810624151330345,0.04071581192293221,0.039803561673766766,0.04564818716735939,0.03836943836859406,0.02691884226650314,0.045038471829241505,0.03457277752136456,0.00028209999175022335,0.042466717726092736,0.04216377144105594,0.04339842184005504,0.037996609787800846,0.039102759884680094,0.04111136417857713,0.03894964626296129,0.04310886806377577,0.028588602599347927,0.03711739431924718,0.04044177887477345,0.04671227455255944,0.0499208054903359,0.047704401590198786,0.04110919248066151,0.04614070551196392,0.03614812919595787,0.033104359672415914,0.043058429599304775,0.03572003157211605,0.04747547698200718,0.04593376209874155,0.04913950483503634,0.04922186101579093,0.04875024247653658,0.03572891457467824,0.048114301767902996,0.039221662575222,0.04861177778223528,0.04343702076044954,0.05003946514692218,0.049170351195212555,0.04921896244567789,0.049978608552564,0.04332941580434042,0.04397519046949989,0.05044443998510413,0.039884795216020064,0.0504332604231449,0.043211142995380994,0.037823326577433994,0.050115996316584664,0.04484037685870659,0.05168747505557268,0.05131877359268681,0.04392043870973329,0.041284447833540454,0.05148157066825263,0.04603171147186994,0.0500308296376547,0.035836500578597955,0.051655929694065315,0.04450834788192402,0.050827995504984694,0.04672582759750734,0.0499938193566497,0.04123215428419645,0.04281005558565462,0.04586056985888287,0.04151407590240134,0.044669806041064436,0.05114726296942715,0.052149027752692236,0.05167098553613323,0.02086482072343813,0.04595166745819788,0.050476618572697717,0.046980434651735174,0.032528770538040486,0.04397427073090628,0.03785599457744277,0.046099980601875395,0.04994096727514188,0.05086017743708228,0.05142499949832274,0.0327620095563615,0.00028209999175022335,0.04371660457037457,0.044906735162106505,0.05155876739420579,0.03477129947357398,0.05127247450930369,0.04786368136241557,0.05233988967596006,0.04735089755338207,0.05228674104843317,0.046021992343313924,0.04874247319379883,0.05253145840440208,0.04232615937230202,0.035773921564691516,0.053025623359797304,0.00028209999175022335,0.04702923430925792,0.05231757737509755,0.032771015190735955,0.04937572715090423,0.04540628922824291,0.05332611477891539,0.01669097786607284,0.048561217800786476,0.051494290931710145,0.05222898034992236,0.046597545802980346,0.036639159236292275,0.049484717846494414,0.046736198904338944,0.04908996381246523,0.04488187211954436,0.04803806379975599,0.052315226188801994,0.05256229027172812,0.00028209999175022335,0.049812029957835305,0.03319853644505884,0.052038343623255164,0.04766083385172987,0.049239788671940427,0.036573858910983484,0.046756748651605944,0.0442050381607888,0.052134081164420525,0.00028209999175022335,0.04966144478112261,0.05178529845238455,0.04813619377609944,0.05024351221970106,0.04592216335895071,0.052293871530911286,0.04804499026749167,0.035274473407847645,0.051658988800369274,0.05251371692564101,0.02018643380000288,0.04956132816941717,0.05220080178908453,0.00028209999175022335,0.04760971422328194,0.05031411692831666,0.03644101744270177,0.04075972303047583,0.05192472970833517,0.0520298184826187,0.049673079195622756,0.03707560362722458,0.05238286878172927,0.05234707924467548,0.04862709784011752,0.049861594391933765,0.05279444344109127,0.04778316465884765,0.05281176239751699,0.00028209999175022335,0.050282106680756423,0.052288947306223084,0.00028209999175022335,0.04890837508388954,0.05056842409202113,0.04693830839448045,0.051908302619636304,0.04916577814344171,0.00028209999175022335,0.05242786239372675,0.05245785813505832,0.05013604104375097,0.00028209999175022335,0.047897727298062624,0.05215019832908386,0.050257209078319785,0.052175580884597075],\"type\":\"scatter\",\"xaxis\":\"x3\",\"yaxis\":\"y3\"},{\"marker\":{\"color\":[0,1,2,3,4,5,6,7,8,9,10,11,12,13,14,15,16,17,18,19,20,21,22,23,24,25,26,27,28,29,30,31,32,33,34,35,36,37,38,39,40,41,42,43,44,45,46,47,48,49,50,51,52,53,54,55,56,57,58,59,60,61,62,63,64,65,66,67,68,69,70,71,72,73,74,75,76,77,78,79,80,81,82,83,84,85,86,87,88,89,90,91,92,93,94,95,96,97,98,99,100,101,102,103,104,105,106,107,108,109,110,111,112,113,114,115,116,117,118,119,120,121,122,123,124,125,126,127,128,129,130,131,132,133,134,135,136,137,138,139,140,141,142,143,144,145,146,147,148,149,150,151,152,153,154,155,156,157,158,159,160,161,162,163,164,165,166,167,168,169,170,171,172,173,174,175,176,177,178,179,180,181,182,183,184,185,186,187,188,189,190,191,192,193,194,195,196,197,198,199],\"colorbar\":{\"title\":{\"text\":\"Trial\"},\"x\":1.0,\"xpad\":40},\"colorscale\":[[0.0,\"rgb(247,251,255)\"],[0.125,\"rgb(222,235,247)\"],[0.25,\"rgb(198,219,239)\"],[0.375,\"rgb(158,202,225)\"],[0.5,\"rgb(107,174,214)\"],[0.625,\"rgb(66,146,198)\"],[0.75,\"rgb(33,113,181)\"],[0.875,\"rgb(8,81,156)\"],[1.0,\"rgb(8,48,107)\"]],\"line\":{\"color\":\"Grey\",\"width\":0.5},\"showscale\":false},\"mode\":\"markers\",\"name\":\"Feasible Trial\",\"showlegend\":false,\"x\":[1240,1268,870,1054,1371,305,284,582,1160,1333,909,893,705,582,561,515,71,12,29,17,199,20,163,342,16,419,151,131,1478,0,221,76,5,423,247,110,373,88,255,684,173,92,46,76,274,123,317,1174,196,1018,96,126,64,61,68,821,80,222,66,180,52,61,60,49,178,151,43,309,37,5,386,47,133,29,34,3,225,34,124,40,513,29,153,36,108,5,37,197,106,259,154,28,23,26,1,104,36,90,1323,141,27,94,49,33,29,956,0,175,126,28,680,27,76,21,87,24,122,71,21,212,78,16,0,99,25,1485,62,137,14,1,69,31,25,110,2,59,104,33,150,80,25,22,0,52,1152,26,85,60,21,108,161,26,0,57,28,76,48,124,25,83,822,29,22,1,59,25,0,90,49,624,109,27,26,55,477,24,24,74,55,19,88,18,0,48,25,0,69,45,101,28,66,0,23,23,50,0,86,26,49,25],\"y\":[0.026439897033870327,0.03487950309589463,0.03404955105608191,0.03575589803276156,0.03482190627807867,0.029905137604041183,0.02620527227606833,0.02992433617170172,0.03461959165836014,0.03265141349886284,0.03626605417650371,0.036314046693733414,0.03705292566059388,0.037721862130625984,0.03766818841597467,0.03767605691899699,0.042706138502596996,0.04548248371783819,0.02057877421699597,0.04642285790094288,0.0402747119824642,0.045810624151330345,0.04071581192293221,0.039803561673766766,0.04564818716735939,0.03836943836859406,0.02691884226650314,0.045038471829241505,0.03457277752136456,0.00028209999175022335,0.042466717726092736,0.04216377144105594,0.04339842184005504,0.037996609787800846,0.039102759884680094,0.04111136417857713,0.03894964626296129,0.04310886806377577,0.028588602599347927,0.03711739431924718,0.04044177887477345,0.04671227455255944,0.0499208054903359,0.047704401590198786,0.04110919248066151,0.04614070551196392,0.03614812919595787,0.033104359672415914,0.043058429599304775,0.03572003157211605,0.04747547698200718,0.04593376209874155,0.04913950483503634,0.04922186101579093,0.04875024247653658,0.03572891457467824,0.048114301767902996,0.039221662575222,0.04861177778223528,0.04343702076044954,0.05003946514692218,0.049170351195212555,0.04921896244567789,0.049978608552564,0.04332941580434042,0.04397519046949989,0.05044443998510413,0.039884795216020064,0.0504332604231449,0.043211142995380994,0.037823326577433994,0.050115996316584664,0.04484037685870659,0.05168747505557268,0.05131877359268681,0.04392043870973329,0.041284447833540454,0.05148157066825263,0.04603171147186994,0.0500308296376547,0.035836500578597955,0.051655929694065315,0.04450834788192402,0.050827995504984694,0.04672582759750734,0.0499938193566497,0.04123215428419645,0.04281005558565462,0.04586056985888287,0.04151407590240134,0.044669806041064436,0.05114726296942715,0.052149027752692236,0.05167098553613323,0.02086482072343813,0.04595166745819788,0.050476618572697717,0.046980434651735174,0.032528770538040486,0.04397427073090628,0.03785599457744277,0.046099980601875395,0.04994096727514188,0.05086017743708228,0.05142499949832274,0.0327620095563615,0.00028209999175022335,0.04371660457037457,0.044906735162106505,0.05155876739420579,0.03477129947357398,0.05127247450930369,0.04786368136241557,0.05233988967596006,0.04735089755338207,0.05228674104843317,0.046021992343313924,0.04874247319379883,0.05253145840440208,0.04232615937230202,0.035773921564691516,0.053025623359797304,0.00028209999175022335,0.04702923430925792,0.05231757737509755,0.032771015190735955,0.04937572715090423,0.04540628922824291,0.05332611477891539,0.01669097786607284,0.048561217800786476,0.051494290931710145,0.05222898034992236,0.046597545802980346,0.036639159236292275,0.049484717846494414,0.046736198904338944,0.04908996381246523,0.04488187211954436,0.04803806379975599,0.052315226188801994,0.05256229027172812,0.00028209999175022335,0.049812029957835305,0.03319853644505884,0.052038343623255164,0.04766083385172987,0.049239788671940427,0.036573858910983484,0.046756748651605944,0.0442050381607888,0.052134081164420525,0.00028209999175022335,0.04966144478112261,0.05178529845238455,0.04813619377609944,0.05024351221970106,0.04592216335895071,0.052293871530911286,0.04804499026749167,0.035274473407847645,0.051658988800369274,0.05251371692564101,0.02018643380000288,0.04956132816941717,0.05220080178908453,0.00028209999175022335,0.04760971422328194,0.05031411692831666,0.03644101744270177,0.04075972303047583,0.05192472970833517,0.0520298184826187,0.049673079195622756,0.03707560362722458,0.05238286878172927,0.05234707924467548,0.04862709784011752,0.049861594391933765,0.05279444344109127,0.04778316465884765,0.05281176239751699,0.00028209999175022335,0.050282106680756423,0.052288947306223084,0.00028209999175022335,0.04890837508388954,0.05056842409202113,0.04693830839448045,0.051908302619636304,0.04916577814344171,0.00028209999175022335,0.05242786239372675,0.05245785813505832,0.05013604104375097,0.00028209999175022335,0.047897727298062624,0.05215019832908386,0.050257209078319785,0.052175580884597075],\"type\":\"scatter\",\"xaxis\":\"x4\",\"yaxis\":\"y4\"}],                        {\"template\":{\"data\":{\"histogram2dcontour\":[{\"type\":\"histogram2dcontour\",\"colorbar\":{\"outlinewidth\":0,\"ticks\":\"\"},\"colorscale\":[[0.0,\"#0d0887\"],[0.1111111111111111,\"#46039f\"],[0.2222222222222222,\"#7201a8\"],[0.3333333333333333,\"#9c179e\"],[0.4444444444444444,\"#bd3786\"],[0.5555555555555556,\"#d8576b\"],[0.6666666666666666,\"#ed7953\"],[0.7777777777777778,\"#fb9f3a\"],[0.8888888888888888,\"#fdca26\"],[1.0,\"#f0f921\"]]}],\"choropleth\":[{\"type\":\"choropleth\",\"colorbar\":{\"outlinewidth\":0,\"ticks\":\"\"}}],\"histogram2d\":[{\"type\":\"histogram2d\",\"colorbar\":{\"outlinewidth\":0,\"ticks\":\"\"},\"colorscale\":[[0.0,\"#0d0887\"],[0.1111111111111111,\"#46039f\"],[0.2222222222222222,\"#7201a8\"],[0.3333333333333333,\"#9c179e\"],[0.4444444444444444,\"#bd3786\"],[0.5555555555555556,\"#d8576b\"],[0.6666666666666666,\"#ed7953\"],[0.7777777777777778,\"#fb9f3a\"],[0.8888888888888888,\"#fdca26\"],[1.0,\"#f0f921\"]]}],\"heatmap\":[{\"type\":\"heatmap\",\"colorbar\":{\"outlinewidth\":0,\"ticks\":\"\"},\"colorscale\":[[0.0,\"#0d0887\"],[0.1111111111111111,\"#46039f\"],[0.2222222222222222,\"#7201a8\"],[0.3333333333333333,\"#9c179e\"],[0.4444444444444444,\"#bd3786\"],[0.5555555555555556,\"#d8576b\"],[0.6666666666666666,\"#ed7953\"],[0.7777777777777778,\"#fb9f3a\"],[0.8888888888888888,\"#fdca26\"],[1.0,\"#f0f921\"]]}],\"heatmapgl\":[{\"type\":\"heatmapgl\",\"colorbar\":{\"outlinewidth\":0,\"ticks\":\"\"},\"colorscale\":[[0.0,\"#0d0887\"],[0.1111111111111111,\"#46039f\"],[0.2222222222222222,\"#7201a8\"],[0.3333333333333333,\"#9c179e\"],[0.4444444444444444,\"#bd3786\"],[0.5555555555555556,\"#d8576b\"],[0.6666666666666666,\"#ed7953\"],[0.7777777777777778,\"#fb9f3a\"],[0.8888888888888888,\"#fdca26\"],[1.0,\"#f0f921\"]]}],\"contourcarpet\":[{\"type\":\"contourcarpet\",\"colorbar\":{\"outlinewidth\":0,\"ticks\":\"\"}}],\"contour\":[{\"type\":\"contour\",\"colorbar\":{\"outlinewidth\":0,\"ticks\":\"\"},\"colorscale\":[[0.0,\"#0d0887\"],[0.1111111111111111,\"#46039f\"],[0.2222222222222222,\"#7201a8\"],[0.3333333333333333,\"#9c179e\"],[0.4444444444444444,\"#bd3786\"],[0.5555555555555556,\"#d8576b\"],[0.6666666666666666,\"#ed7953\"],[0.7777777777777778,\"#fb9f3a\"],[0.8888888888888888,\"#fdca26\"],[1.0,\"#f0f921\"]]}],\"surface\":[{\"type\":\"surface\",\"colorbar\":{\"outlinewidth\":0,\"ticks\":\"\"},\"colorscale\":[[0.0,\"#0d0887\"],[0.1111111111111111,\"#46039f\"],[0.2222222222222222,\"#7201a8\"],[0.3333333333333333,\"#9c179e\"],[0.4444444444444444,\"#bd3786\"],[0.5555555555555556,\"#d8576b\"],[0.6666666666666666,\"#ed7953\"],[0.7777777777777778,\"#fb9f3a\"],[0.8888888888888888,\"#fdca26\"],[1.0,\"#f0f921\"]]}],\"mesh3d\":[{\"type\":\"mesh3d\",\"colorbar\":{\"outlinewidth\":0,\"ticks\":\"\"}}],\"scatter\":[{\"fillpattern\":{\"fillmode\":\"overlay\",\"size\":10,\"solidity\":0.2},\"type\":\"scatter\"}],\"parcoords\":[{\"type\":\"parcoords\",\"line\":{\"colorbar\":{\"outlinewidth\":0,\"ticks\":\"\"}}}],\"scatterpolargl\":[{\"type\":\"scatterpolargl\",\"marker\":{\"colorbar\":{\"outlinewidth\":0,\"ticks\":\"\"}}}],\"bar\":[{\"error_x\":{\"color\":\"#2a3f5f\"},\"error_y\":{\"color\":\"#2a3f5f\"},\"marker\":{\"line\":{\"color\":\"#E5ECF6\",\"width\":0.5},\"pattern\":{\"fillmode\":\"overlay\",\"size\":10,\"solidity\":0.2}},\"type\":\"bar\"}],\"scattergeo\":[{\"type\":\"scattergeo\",\"marker\":{\"colorbar\":{\"outlinewidth\":0,\"ticks\":\"\"}}}],\"scatterpolar\":[{\"type\":\"scatterpolar\",\"marker\":{\"colorbar\":{\"outlinewidth\":0,\"ticks\":\"\"}}}],\"histogram\":[{\"marker\":{\"pattern\":{\"fillmode\":\"overlay\",\"size\":10,\"solidity\":0.2}},\"type\":\"histogram\"}],\"scattergl\":[{\"type\":\"scattergl\",\"marker\":{\"colorbar\":{\"outlinewidth\":0,\"ticks\":\"\"}}}],\"scatter3d\":[{\"type\":\"scatter3d\",\"line\":{\"colorbar\":{\"outlinewidth\":0,\"ticks\":\"\"}},\"marker\":{\"colorbar\":{\"outlinewidth\":0,\"ticks\":\"\"}}}],\"scattermapbox\":[{\"type\":\"scattermapbox\",\"marker\":{\"colorbar\":{\"outlinewidth\":0,\"ticks\":\"\"}}}],\"scatterternary\":[{\"type\":\"scatterternary\",\"marker\":{\"colorbar\":{\"outlinewidth\":0,\"ticks\":\"\"}}}],\"scattercarpet\":[{\"type\":\"scattercarpet\",\"marker\":{\"colorbar\":{\"outlinewidth\":0,\"ticks\":\"\"}}}],\"carpet\":[{\"aaxis\":{\"endlinecolor\":\"#2a3f5f\",\"gridcolor\":\"white\",\"linecolor\":\"white\",\"minorgridcolor\":\"white\",\"startlinecolor\":\"#2a3f5f\"},\"baxis\":{\"endlinecolor\":\"#2a3f5f\",\"gridcolor\":\"white\",\"linecolor\":\"white\",\"minorgridcolor\":\"white\",\"startlinecolor\":\"#2a3f5f\"},\"type\":\"carpet\"}],\"table\":[{\"cells\":{\"fill\":{\"color\":\"#EBF0F8\"},\"line\":{\"color\":\"white\"}},\"header\":{\"fill\":{\"color\":\"#C8D4E3\"},\"line\":{\"color\":\"white\"}},\"type\":\"table\"}],\"barpolar\":[{\"marker\":{\"line\":{\"color\":\"#E5ECF6\",\"width\":0.5},\"pattern\":{\"fillmode\":\"overlay\",\"size\":10,\"solidity\":0.2}},\"type\":\"barpolar\"}],\"pie\":[{\"automargin\":true,\"type\":\"pie\"}]},\"layout\":{\"autotypenumbers\":\"strict\",\"colorway\":[\"#636efa\",\"#EF553B\",\"#00cc96\",\"#ab63fa\",\"#FFA15A\",\"#19d3f3\",\"#FF6692\",\"#B6E880\",\"#FF97FF\",\"#FECB52\"],\"font\":{\"color\":\"#2a3f5f\"},\"hovermode\":\"closest\",\"hoverlabel\":{\"align\":\"left\"},\"paper_bgcolor\":\"white\",\"plot_bgcolor\":\"#E5ECF6\",\"polar\":{\"bgcolor\":\"#E5ECF6\",\"angularaxis\":{\"gridcolor\":\"white\",\"linecolor\":\"white\",\"ticks\":\"\"},\"radialaxis\":{\"gridcolor\":\"white\",\"linecolor\":\"white\",\"ticks\":\"\"}},\"ternary\":{\"bgcolor\":\"#E5ECF6\",\"aaxis\":{\"gridcolor\":\"white\",\"linecolor\":\"white\",\"ticks\":\"\"},\"baxis\":{\"gridcolor\":\"white\",\"linecolor\":\"white\",\"ticks\":\"\"},\"caxis\":{\"gridcolor\":\"white\",\"linecolor\":\"white\",\"ticks\":\"\"}},\"coloraxis\":{\"colorbar\":{\"outlinewidth\":0,\"ticks\":\"\"}},\"colorscale\":{\"sequential\":[[0.0,\"#0d0887\"],[0.1111111111111111,\"#46039f\"],[0.2222222222222222,\"#7201a8\"],[0.3333333333333333,\"#9c179e\"],[0.4444444444444444,\"#bd3786\"],[0.5555555555555556,\"#d8576b\"],[0.6666666666666666,\"#ed7953\"],[0.7777777777777778,\"#fb9f3a\"],[0.8888888888888888,\"#fdca26\"],[1.0,\"#f0f921\"]],\"sequentialminus\":[[0.0,\"#0d0887\"],[0.1111111111111111,\"#46039f\"],[0.2222222222222222,\"#7201a8\"],[0.3333333333333333,\"#9c179e\"],[0.4444444444444444,\"#bd3786\"],[0.5555555555555556,\"#d8576b\"],[0.6666666666666666,\"#ed7953\"],[0.7777777777777778,\"#fb9f3a\"],[0.8888888888888888,\"#fdca26\"],[1.0,\"#f0f921\"]],\"diverging\":[[0,\"#8e0152\"],[0.1,\"#c51b7d\"],[0.2,\"#de77ae\"],[0.3,\"#f1b6da\"],[0.4,\"#fde0ef\"],[0.5,\"#f7f7f7\"],[0.6,\"#e6f5d0\"],[0.7,\"#b8e186\"],[0.8,\"#7fbc41\"],[0.9,\"#4d9221\"],[1,\"#276419\"]]},\"xaxis\":{\"gridcolor\":\"white\",\"linecolor\":\"white\",\"ticks\":\"\",\"title\":{\"standoff\":15},\"zerolinecolor\":\"white\",\"automargin\":true,\"zerolinewidth\":2},\"yaxis\":{\"gridcolor\":\"white\",\"linecolor\":\"white\",\"ticks\":\"\",\"title\":{\"standoff\":15},\"zerolinecolor\":\"white\",\"automargin\":true,\"zerolinewidth\":2},\"scene\":{\"xaxis\":{\"backgroundcolor\":\"#E5ECF6\",\"gridcolor\":\"white\",\"linecolor\":\"white\",\"showbackground\":true,\"ticks\":\"\",\"zerolinecolor\":\"white\",\"gridwidth\":2},\"yaxis\":{\"backgroundcolor\":\"#E5ECF6\",\"gridcolor\":\"white\",\"linecolor\":\"white\",\"showbackground\":true,\"ticks\":\"\",\"zerolinecolor\":\"white\",\"gridwidth\":2},\"zaxis\":{\"backgroundcolor\":\"#E5ECF6\",\"gridcolor\":\"white\",\"linecolor\":\"white\",\"showbackground\":true,\"ticks\":\"\",\"zerolinecolor\":\"white\",\"gridwidth\":2}},\"shapedefaults\":{\"line\":{\"color\":\"#2a3f5f\"}},\"annotationdefaults\":{\"arrowcolor\":\"#2a3f5f\",\"arrowhead\":0,\"arrowwidth\":1},\"geo\":{\"bgcolor\":\"white\",\"landcolor\":\"#E5ECF6\",\"subunitcolor\":\"white\",\"showland\":true,\"showlakes\":true,\"lakecolor\":\"white\"},\"title\":{\"x\":0.05},\"mapbox\":{\"style\":\"light\"}}},\"xaxis\":{\"anchor\":\"y\",\"domain\":[0.0,0.2125],\"title\":{\"text\":\"alpha\"}},\"yaxis\":{\"anchor\":\"x\",\"domain\":[0.0,1.0],\"title\":{\"text\":\"Objective Value\"}},\"xaxis2\":{\"anchor\":\"y2\",\"domain\":[0.2625,0.475],\"title\":{\"text\":\"implicit\"},\"type\":\"category\",\"categoryorder\":\"array\",\"categoryarray\":[true,false]},\"yaxis2\":{\"anchor\":\"x2\",\"domain\":[0.0,1.0],\"matches\":\"y\",\"showticklabels\":false},\"xaxis3\":{\"anchor\":\"y3\",\"domain\":[0.525,0.7375],\"title\":{\"text\":\"normalize_similarity\"},\"type\":\"category\",\"categoryorder\":\"array\",\"categoryarray\":[true,false]},\"yaxis3\":{\"anchor\":\"x3\",\"domain\":[0.0,1.0],\"matches\":\"y\",\"showticklabels\":false},\"xaxis4\":{\"anchor\":\"y4\",\"domain\":[0.7875,1.0],\"title\":{\"text\":\"topK\"}},\"yaxis4\":{\"anchor\":\"x4\",\"domain\":[0.0,1.0],\"matches\":\"y\",\"showticklabels\":false},\"title\":{\"text\":\"Slice Plot\"},\"width\":1200},                        {\"responsive\": true}                    ).then(function(){\n",
       "                            \n",
       "var gd = document.getElementById('b2ec0245-41d4-41ab-900d-69adebf0c91b');\n",
       "var x = new MutationObserver(function (mutations, observer) {{\n",
       "        var display = window.getComputedStyle(gd).display;\n",
       "        if (!display || display === 'none') {{\n",
       "            console.log([gd, 'removed!']);\n",
       "            Plotly.purge(gd);\n",
       "            observer.disconnect();\n",
       "        }}\n",
       "}});\n",
       "\n",
       "// Listen for the removal of the full notebook cells\n",
       "var notebookContainer = gd.closest('#notebook-container');\n",
       "if (notebookContainer) {{\n",
       "    x.observe(notebookContainer, {childList: true});\n",
       "}}\n",
       "\n",
       "// Listen for the clearing of the current output cell\n",
       "var outputEl = gd.closest('.output');\n",
       "if (outputEl) {{\n",
       "    x.observe(outputEl, {childList: true});\n",
       "}}\n",
       "\n",
       "                        })                };                });            </script>        </div>"
      ]
     },
     "metadata": {},
     "output_type": "display_data"
    }
   ],
   "source": [
    "if not config['tune_parameters']:\n",
    "    optuna_study = optuna.load_study(study_name=f'hyperparameters_tuning_{config[\"model\"]}', storage=f'sqlite:///{config[\"database_path\"]}')\n",
    "    \n",
    "fig = optuna.visualization.plot_slice(optuna_study)\n",
    "fig.show()"
   ]
  },
  {
   "cell_type": "code",
   "execution_count": 18,
   "id": "536d3c08",
   "metadata": {
    "execution": {
     "iopub.execute_input": "2024-11-18T20:36:02.855091Z",
     "iopub.status.busy": "2024-11-18T20:36:02.854646Z",
     "iopub.status.idle": "2024-11-18T20:36:05.662652Z",
     "shell.execute_reply": "2024-11-18T20:36:05.661556Z"
    },
    "papermill": {
     "duration": 2.857779,
     "end_time": "2024-11-18T20:36:05.664959",
     "exception": false,
     "start_time": "2024-11-18T20:36:02.807180",
     "status": "completed"
    },
    "tags": []
   },
   "outputs": [
    {
     "data": {
      "text/html": [
       "<div>                            <div id=\"ef04c0be-b421-4cd1-b0a6-db469c07b18c\" class=\"plotly-graph-div\" style=\"height:525px; width:100%;\"></div>            <script type=\"text/javascript\">                require([\"plotly\"], function(Plotly) {                    window.PLOTLYENV=window.PLOTLYENV || {};                                    if (document.getElementById(\"ef04c0be-b421-4cd1-b0a6-db469c07b18c\")) {                    Plotly.newPlot(                        \"ef04c0be-b421-4cd1-b0a6-db469c07b18c\",                        [{\"cliponaxis\":false,\"hovertemplate\":[\"implicit (CategoricalDistribution): 0.03534323240076375\\u003cextra\\u003e\\u003c\\u002fextra\\u003e\",\"alpha (FloatDistribution): 0.0539505388830573\\u003cextra\\u003e\\u003c\\u002fextra\\u003e\",\"normalize_similarity (CategoricalDistribution): 0.38902194461597595\\u003cextra\\u003e\\u003c\\u002fextra\\u003e\",\"topK (IntDistribution): 0.5216842841002031\\u003cextra\\u003e\\u003c\\u002fextra\\u003e\"],\"name\":\"Objective Value\",\"orientation\":\"h\",\"text\":[\"0.04\",\"0.05\",\"0.39\",\"0.52\"],\"textposition\":\"outside\",\"x\":[0.03534323240076375,0.0539505388830573,0.38902194461597595,0.5216842841002031],\"y\":[\"implicit\",\"alpha\",\"normalize_similarity\",\"topK\"],\"type\":\"bar\"}],                        {\"title\":{\"text\":\"Hyperparameter Importances\"},\"xaxis\":{\"title\":{\"text\":\"Hyperparameter Importance\"}},\"yaxis\":{\"title\":{\"text\":\"Hyperparameter\"}},\"template\":{\"data\":{\"histogram2dcontour\":[{\"type\":\"histogram2dcontour\",\"colorbar\":{\"outlinewidth\":0,\"ticks\":\"\"},\"colorscale\":[[0.0,\"#0d0887\"],[0.1111111111111111,\"#46039f\"],[0.2222222222222222,\"#7201a8\"],[0.3333333333333333,\"#9c179e\"],[0.4444444444444444,\"#bd3786\"],[0.5555555555555556,\"#d8576b\"],[0.6666666666666666,\"#ed7953\"],[0.7777777777777778,\"#fb9f3a\"],[0.8888888888888888,\"#fdca26\"],[1.0,\"#f0f921\"]]}],\"choropleth\":[{\"type\":\"choropleth\",\"colorbar\":{\"outlinewidth\":0,\"ticks\":\"\"}}],\"histogram2d\":[{\"type\":\"histogram2d\",\"colorbar\":{\"outlinewidth\":0,\"ticks\":\"\"},\"colorscale\":[[0.0,\"#0d0887\"],[0.1111111111111111,\"#46039f\"],[0.2222222222222222,\"#7201a8\"],[0.3333333333333333,\"#9c179e\"],[0.4444444444444444,\"#bd3786\"],[0.5555555555555556,\"#d8576b\"],[0.6666666666666666,\"#ed7953\"],[0.7777777777777778,\"#fb9f3a\"],[0.8888888888888888,\"#fdca26\"],[1.0,\"#f0f921\"]]}],\"heatmap\":[{\"type\":\"heatmap\",\"colorbar\":{\"outlinewidth\":0,\"ticks\":\"\"},\"colorscale\":[[0.0,\"#0d0887\"],[0.1111111111111111,\"#46039f\"],[0.2222222222222222,\"#7201a8\"],[0.3333333333333333,\"#9c179e\"],[0.4444444444444444,\"#bd3786\"],[0.5555555555555556,\"#d8576b\"],[0.6666666666666666,\"#ed7953\"],[0.7777777777777778,\"#fb9f3a\"],[0.8888888888888888,\"#fdca26\"],[1.0,\"#f0f921\"]]}],\"heatmapgl\":[{\"type\":\"heatmapgl\",\"colorbar\":{\"outlinewidth\":0,\"ticks\":\"\"},\"colorscale\":[[0.0,\"#0d0887\"],[0.1111111111111111,\"#46039f\"],[0.2222222222222222,\"#7201a8\"],[0.3333333333333333,\"#9c179e\"],[0.4444444444444444,\"#bd3786\"],[0.5555555555555556,\"#d8576b\"],[0.6666666666666666,\"#ed7953\"],[0.7777777777777778,\"#fb9f3a\"],[0.8888888888888888,\"#fdca26\"],[1.0,\"#f0f921\"]]}],\"contourcarpet\":[{\"type\":\"contourcarpet\",\"colorbar\":{\"outlinewidth\":0,\"ticks\":\"\"}}],\"contour\":[{\"type\":\"contour\",\"colorbar\":{\"outlinewidth\":0,\"ticks\":\"\"},\"colorscale\":[[0.0,\"#0d0887\"],[0.1111111111111111,\"#46039f\"],[0.2222222222222222,\"#7201a8\"],[0.3333333333333333,\"#9c179e\"],[0.4444444444444444,\"#bd3786\"],[0.5555555555555556,\"#d8576b\"],[0.6666666666666666,\"#ed7953\"],[0.7777777777777778,\"#fb9f3a\"],[0.8888888888888888,\"#fdca26\"],[1.0,\"#f0f921\"]]}],\"surface\":[{\"type\":\"surface\",\"colorbar\":{\"outlinewidth\":0,\"ticks\":\"\"},\"colorscale\":[[0.0,\"#0d0887\"],[0.1111111111111111,\"#46039f\"],[0.2222222222222222,\"#7201a8\"],[0.3333333333333333,\"#9c179e\"],[0.4444444444444444,\"#bd3786\"],[0.5555555555555556,\"#d8576b\"],[0.6666666666666666,\"#ed7953\"],[0.7777777777777778,\"#fb9f3a\"],[0.8888888888888888,\"#fdca26\"],[1.0,\"#f0f921\"]]}],\"mesh3d\":[{\"type\":\"mesh3d\",\"colorbar\":{\"outlinewidth\":0,\"ticks\":\"\"}}],\"scatter\":[{\"fillpattern\":{\"fillmode\":\"overlay\",\"size\":10,\"solidity\":0.2},\"type\":\"scatter\"}],\"parcoords\":[{\"type\":\"parcoords\",\"line\":{\"colorbar\":{\"outlinewidth\":0,\"ticks\":\"\"}}}],\"scatterpolargl\":[{\"type\":\"scatterpolargl\",\"marker\":{\"colorbar\":{\"outlinewidth\":0,\"ticks\":\"\"}}}],\"bar\":[{\"error_x\":{\"color\":\"#2a3f5f\"},\"error_y\":{\"color\":\"#2a3f5f\"},\"marker\":{\"line\":{\"color\":\"#E5ECF6\",\"width\":0.5},\"pattern\":{\"fillmode\":\"overlay\",\"size\":10,\"solidity\":0.2}},\"type\":\"bar\"}],\"scattergeo\":[{\"type\":\"scattergeo\",\"marker\":{\"colorbar\":{\"outlinewidth\":0,\"ticks\":\"\"}}}],\"scatterpolar\":[{\"type\":\"scatterpolar\",\"marker\":{\"colorbar\":{\"outlinewidth\":0,\"ticks\":\"\"}}}],\"histogram\":[{\"marker\":{\"pattern\":{\"fillmode\":\"overlay\",\"size\":10,\"solidity\":0.2}},\"type\":\"histogram\"}],\"scattergl\":[{\"type\":\"scattergl\",\"marker\":{\"colorbar\":{\"outlinewidth\":0,\"ticks\":\"\"}}}],\"scatter3d\":[{\"type\":\"scatter3d\",\"line\":{\"colorbar\":{\"outlinewidth\":0,\"ticks\":\"\"}},\"marker\":{\"colorbar\":{\"outlinewidth\":0,\"ticks\":\"\"}}}],\"scattermapbox\":[{\"type\":\"scattermapbox\",\"marker\":{\"colorbar\":{\"outlinewidth\":0,\"ticks\":\"\"}}}],\"scatterternary\":[{\"type\":\"scatterternary\",\"marker\":{\"colorbar\":{\"outlinewidth\":0,\"ticks\":\"\"}}}],\"scattercarpet\":[{\"type\":\"scattercarpet\",\"marker\":{\"colorbar\":{\"outlinewidth\":0,\"ticks\":\"\"}}}],\"carpet\":[{\"aaxis\":{\"endlinecolor\":\"#2a3f5f\",\"gridcolor\":\"white\",\"linecolor\":\"white\",\"minorgridcolor\":\"white\",\"startlinecolor\":\"#2a3f5f\"},\"baxis\":{\"endlinecolor\":\"#2a3f5f\",\"gridcolor\":\"white\",\"linecolor\":\"white\",\"minorgridcolor\":\"white\",\"startlinecolor\":\"#2a3f5f\"},\"type\":\"carpet\"}],\"table\":[{\"cells\":{\"fill\":{\"color\":\"#EBF0F8\"},\"line\":{\"color\":\"white\"}},\"header\":{\"fill\":{\"color\":\"#C8D4E3\"},\"line\":{\"color\":\"white\"}},\"type\":\"table\"}],\"barpolar\":[{\"marker\":{\"line\":{\"color\":\"#E5ECF6\",\"width\":0.5},\"pattern\":{\"fillmode\":\"overlay\",\"size\":10,\"solidity\":0.2}},\"type\":\"barpolar\"}],\"pie\":[{\"automargin\":true,\"type\":\"pie\"}]},\"layout\":{\"autotypenumbers\":\"strict\",\"colorway\":[\"#636efa\",\"#EF553B\",\"#00cc96\",\"#ab63fa\",\"#FFA15A\",\"#19d3f3\",\"#FF6692\",\"#B6E880\",\"#FF97FF\",\"#FECB52\"],\"font\":{\"color\":\"#2a3f5f\"},\"hovermode\":\"closest\",\"hoverlabel\":{\"align\":\"left\"},\"paper_bgcolor\":\"white\",\"plot_bgcolor\":\"#E5ECF6\",\"polar\":{\"bgcolor\":\"#E5ECF6\",\"angularaxis\":{\"gridcolor\":\"white\",\"linecolor\":\"white\",\"ticks\":\"\"},\"radialaxis\":{\"gridcolor\":\"white\",\"linecolor\":\"white\",\"ticks\":\"\"}},\"ternary\":{\"bgcolor\":\"#E5ECF6\",\"aaxis\":{\"gridcolor\":\"white\",\"linecolor\":\"white\",\"ticks\":\"\"},\"baxis\":{\"gridcolor\":\"white\",\"linecolor\":\"white\",\"ticks\":\"\"},\"caxis\":{\"gridcolor\":\"white\",\"linecolor\":\"white\",\"ticks\":\"\"}},\"coloraxis\":{\"colorbar\":{\"outlinewidth\":0,\"ticks\":\"\"}},\"colorscale\":{\"sequential\":[[0.0,\"#0d0887\"],[0.1111111111111111,\"#46039f\"],[0.2222222222222222,\"#7201a8\"],[0.3333333333333333,\"#9c179e\"],[0.4444444444444444,\"#bd3786\"],[0.5555555555555556,\"#d8576b\"],[0.6666666666666666,\"#ed7953\"],[0.7777777777777778,\"#fb9f3a\"],[0.8888888888888888,\"#fdca26\"],[1.0,\"#f0f921\"]],\"sequentialminus\":[[0.0,\"#0d0887\"],[0.1111111111111111,\"#46039f\"],[0.2222222222222222,\"#7201a8\"],[0.3333333333333333,\"#9c179e\"],[0.4444444444444444,\"#bd3786\"],[0.5555555555555556,\"#d8576b\"],[0.6666666666666666,\"#ed7953\"],[0.7777777777777778,\"#fb9f3a\"],[0.8888888888888888,\"#fdca26\"],[1.0,\"#f0f921\"]],\"diverging\":[[0,\"#8e0152\"],[0.1,\"#c51b7d\"],[0.2,\"#de77ae\"],[0.3,\"#f1b6da\"],[0.4,\"#fde0ef\"],[0.5,\"#f7f7f7\"],[0.6,\"#e6f5d0\"],[0.7,\"#b8e186\"],[0.8,\"#7fbc41\"],[0.9,\"#4d9221\"],[1,\"#276419\"]]},\"xaxis\":{\"gridcolor\":\"white\",\"linecolor\":\"white\",\"ticks\":\"\",\"title\":{\"standoff\":15},\"zerolinecolor\":\"white\",\"automargin\":true,\"zerolinewidth\":2},\"yaxis\":{\"gridcolor\":\"white\",\"linecolor\":\"white\",\"ticks\":\"\",\"title\":{\"standoff\":15},\"zerolinecolor\":\"white\",\"automargin\":true,\"zerolinewidth\":2},\"scene\":{\"xaxis\":{\"backgroundcolor\":\"#E5ECF6\",\"gridcolor\":\"white\",\"linecolor\":\"white\",\"showbackground\":true,\"ticks\":\"\",\"zerolinecolor\":\"white\",\"gridwidth\":2},\"yaxis\":{\"backgroundcolor\":\"#E5ECF6\",\"gridcolor\":\"white\",\"linecolor\":\"white\",\"showbackground\":true,\"ticks\":\"\",\"zerolinecolor\":\"white\",\"gridwidth\":2},\"zaxis\":{\"backgroundcolor\":\"#E5ECF6\",\"gridcolor\":\"white\",\"linecolor\":\"white\",\"showbackground\":true,\"ticks\":\"\",\"zerolinecolor\":\"white\",\"gridwidth\":2}},\"shapedefaults\":{\"line\":{\"color\":\"#2a3f5f\"}},\"annotationdefaults\":{\"arrowcolor\":\"#2a3f5f\",\"arrowhead\":0,\"arrowwidth\":1},\"geo\":{\"bgcolor\":\"white\",\"landcolor\":\"#E5ECF6\",\"subunitcolor\":\"white\",\"showland\":true,\"showlakes\":true,\"lakecolor\":\"white\"},\"title\":{\"x\":0.05},\"mapbox\":{\"style\":\"light\"}}}},                        {\"responsive\": true}                    ).then(function(){\n",
       "                            \n",
       "var gd = document.getElementById('ef04c0be-b421-4cd1-b0a6-db469c07b18c');\n",
       "var x = new MutationObserver(function (mutations, observer) {{\n",
       "        var display = window.getComputedStyle(gd).display;\n",
       "        if (!display || display === 'none') {{\n",
       "            console.log([gd, 'removed!']);\n",
       "            Plotly.purge(gd);\n",
       "            observer.disconnect();\n",
       "        }}\n",
       "}});\n",
       "\n",
       "// Listen for the removal of the full notebook cells\n",
       "var notebookContainer = gd.closest('#notebook-container');\n",
       "if (notebookContainer) {{\n",
       "    x.observe(notebookContainer, {childList: true});\n",
       "}}\n",
       "\n",
       "// Listen for the clearing of the current output cell\n",
       "var outputEl = gd.closest('.output');\n",
       "if (outputEl) {{\n",
       "    x.observe(outputEl, {childList: true});\n",
       "}}\n",
       "\n",
       "                        })                };                });            </script>        </div>"
      ]
     },
     "metadata": {},
     "output_type": "display_data"
    }
   ],
   "source": [
    "if not config['tune_parameters']:\n",
    "    optuna_study = optuna.load_study(study_name=f'hyperparameters_tuning_{config[\"model\"]}', storage=f'sqlite:///{config[\"database_path\"]}')\n",
    "    \n",
    "fig = optuna.visualization.plot_param_importances(optuna_study)\n",
    "fig.show()"
   ]
  },
  {
   "cell_type": "markdown",
   "id": "13309830",
   "metadata": {
    "papermill": {
     "duration": 0.044452,
     "end_time": "2024-11-18T20:36:05.754360",
     "exception": false,
     "start_time": "2024-11-18T20:36:05.709908",
     "status": "completed"
    },
    "tags": []
   },
   "source": [
    "## Let's train the recommender with best parameter values"
   ]
  },
  {
   "cell_type": "code",
   "execution_count": 19,
   "id": "fb6233f7",
   "metadata": {
    "execution": {
     "iopub.execute_input": "2024-11-18T20:36:05.846233Z",
     "iopub.status.busy": "2024-11-18T20:36:05.845829Z",
     "iopub.status.idle": "2024-11-18T20:36:24.734241Z",
     "shell.execute_reply": "2024-11-18T20:36:24.733121Z"
    },
    "papermill": {
     "duration": 18.937324,
     "end_time": "2024-11-18T20:36:24.736707",
     "exception": false,
     "start_time": "2024-11-18T20:36:05.799383",
     "status": "completed"
    },
    "tags": []
   },
   "outputs": [
    {
     "name": "stdout",
     "output_type": "stream",
     "text": [
      "P3alphaRecommender: Similarity column 38121 (100.0%), 2130.03 column/sec. Elapsed time 17.90 sec\n"
     ]
    }
   ],
   "source": [
    "if config['tune_best_params']:\n",
    "\n",
    "    if config['tune_parameters']:\n",
    "        best_params = optuna_study.best_trial.params\n",
    "    else: \n",
    "        with open(f'/kaggle/working/TrainedModels/{config[\"model\"]}Recommender/best_params_{config[\"model\"]}.json', 'r') as best_params_json:\n",
    "            best_params = json.load(best_params_json)\n",
    "\n",
    "    recommender_instance = P3alphaRecommender(URM_train + URM_validation)\n",
    "    recommender_instance.fit(**best_params)"
   ]
  },
  {
   "cell_type": "markdown",
   "id": "6353324a",
   "metadata": {
    "papermill": {
     "duration": 0.04471,
     "end_time": "2024-11-18T20:36:24.826601",
     "exception": false,
     "start_time": "2024-11-18T20:36:24.781891",
     "status": "completed"
    },
    "tags": []
   },
   "source": [
    "# Testing"
   ]
  },
  {
   "cell_type": "markdown",
   "id": "a10ed193",
   "metadata": {
    "papermill": {
     "duration": 0.044578,
     "end_time": "2024-11-18T20:36:24.916422",
     "exception": false,
     "start_time": "2024-11-18T20:36:24.871844",
     "status": "completed"
    },
    "tags": []
   },
   "source": [
    "Create the recommendations for the submission. "
   ]
  },
  {
   "cell_type": "code",
   "execution_count": 20,
   "id": "2366361f",
   "metadata": {
    "execution": {
     "iopub.execute_input": "2024-11-18T20:36:25.009380Z",
     "iopub.status.busy": "2024-11-18T20:36:25.008975Z",
     "iopub.status.idle": "2024-11-18T20:36:25.015592Z",
     "shell.execute_reply": "2024-11-18T20:36:25.014539Z"
    },
    "papermill": {
     "duration": 0.05539,
     "end_time": "2024-11-18T20:36:25.017640",
     "exception": false,
     "start_time": "2024-11-18T20:36:24.962250",
     "status": "completed"
    },
    "tags": []
   },
   "outputs": [],
   "source": [
    "def create_submission(data_target_users_test, recommender_instance, cutoff=10, output_file=f\"/kaggle/working/submission_{config['model']}.csv\"):\n",
    "    \n",
    "    target_result = []\n",
    "\n",
    "    for target in data_target_users_test[\"user_id\"]:\n",
    "        target_result.append(recommender_instance.recommend(target, cutoff=cutoff, remove_seen_flag=True))\n",
    "\n",
    "    user_ids = data_target_users_test[\"user_id\"]\n",
    "    formatted_data = {\n",
    "        \"user_id\": user_ids,\n",
    "        \"item_list\": [\" \".join(map(str, items)) for items in target_result]\n",
    "    }\n",
    "\n",
    "    submission_df = pd.DataFrame(formatted_data)\n",
    "    submission_df.to_csv(output_file, index=False, header=[\"user_id\", \"item_list\"])\n",
    "\n",
    "    print(f\"Submission file saved as {output_file}\")"
   ]
  },
  {
   "cell_type": "code",
   "execution_count": 21,
   "id": "764d23ae",
   "metadata": {
    "execution": {
     "iopub.execute_input": "2024-11-18T20:36:25.113633Z",
     "iopub.status.busy": "2024-11-18T20:36:25.113252Z",
     "iopub.status.idle": "2024-11-18T20:36:43.398078Z",
     "shell.execute_reply": "2024-11-18T20:36:43.396979Z"
    },
    "papermill": {
     "duration": 18.334167,
     "end_time": "2024-11-18T20:36:43.400073",
     "exception": false,
     "start_time": "2024-11-18T20:36:25.065906",
     "status": "completed"
    },
    "tags": []
   },
   "outputs": [
    {
     "name": "stdout",
     "output_type": "stream",
     "text": [
      "Submission file saved as /kaggle/working/submission_P3alpha.csv\n"
     ]
    }
   ],
   "source": [
    "if config['tune_best_params']:\n",
    "\n",
    "    data_target_users_test = pd.read_csv('/kaggle/input/recommender-system-2024-challenge-polimi/data_target_users_test.csv')\n",
    "    create_submission(data_target_users_test, recommender_instance)"
   ]
  },
  {
   "cell_type": "markdown",
   "id": "21401149",
   "metadata": {
    "execution": {
     "iopub.execute_input": "2024-11-14T00:04:16.877791Z",
     "iopub.status.busy": "2024-11-14T00:04:16.877275Z",
     "iopub.status.idle": "2024-11-14T00:04:16.883170Z",
     "shell.execute_reply": "2024-11-14T00:04:16.881889Z",
     "shell.execute_reply.started": "2024-11-14T00:04:16.877743Z"
    },
    "papermill": {
     "duration": 0.043739,
     "end_time": "2024-11-18T20:36:43.488706",
     "exception": false,
     "start_time": "2024-11-18T20:36:43.444967",
     "status": "completed"
    },
    "tags": []
   },
   "source": [
    "# Save Version on GitHub "
   ]
  },
  {
   "cell_type": "markdown",
   "id": "eeb5a742",
   "metadata": {
    "papermill": {
     "duration": 0.044504,
     "end_time": "2024-11-18T20:36:43.578816",
     "exception": false,
     "start_time": "2024-11-18T20:36:43.534312",
     "status": "completed"
    },
    "tags": []
   },
   "source": [
    "Write or import a json file where best hyperparameters are saved. "
   ]
  },
  {
   "cell_type": "code",
   "execution_count": 22,
   "id": "38da91de",
   "metadata": {
    "execution": {
     "iopub.execute_input": "2024-11-18T20:36:43.670764Z",
     "iopub.status.busy": "2024-11-18T20:36:43.670351Z",
     "iopub.status.idle": "2024-11-18T20:36:44.856747Z",
     "shell.execute_reply": "2024-11-18T20:36:44.855776Z"
    },
    "papermill": {
     "duration": 1.234857,
     "end_time": "2024-11-18T20:36:44.858896",
     "exception": false,
     "start_time": "2024-11-18T20:36:43.624039",
     "status": "completed"
    },
    "tags": []
   },
   "outputs": [
    {
     "name": "stdout",
     "output_type": "stream",
     "text": [
      "File 'TrainedModels/P3alphaRecommender/best_params_P3alpha.json' created successfully.\n"
     ]
    }
   ],
   "source": [
    "if config['tune_parameters']:\n",
    "    with open(f'/kaggle/working/best_params_{config[\"model\"]}.json', 'w') as params_file:\n",
    "        json.dump(optuna_study.best_params, params_file)\n",
    "        \n",
    "    if config['save_github']:\n",
    "        upload_file(\n",
    "            f'/kaggle/working/best_params_{config[\"model\"]}.json', \n",
    "            f'TrainedModels/{config[\"model\"]}Recommender/best_params_{config[\"model\"]}.json', \n",
    "            f'{config[\"model\"]} tuning results (from kaggle notebook)'\n",
    "        )\n",
    "elif config['copy_prev_best_params']:\n",
    "    shutil.copyfile(\n",
    "        f'/kaggle/working/RECsys_Challenge2024/TrainedModels/{config[\"model\"]}Recommender/'\\\n",
    "        f'best_params_{config[\"model\"]}.json', \n",
    "        f'/kaggle/working/best_params_{config[\"model\"]}.json'\n",
    "    )"
   ]
  },
  {
   "cell_type": "markdown",
   "id": "cf7bee46",
   "metadata": {
    "papermill": {
     "duration": 0.04488,
     "end_time": "2024-11-18T20:36:44.948909",
     "exception": false,
     "start_time": "2024-11-18T20:36:44.904029",
     "status": "completed"
    },
    "tags": []
   },
   "source": [
    "Save the history of the tuned model."
   ]
  },
  {
   "cell_type": "code",
   "execution_count": 23,
   "id": "468cb8b0",
   "metadata": {
    "execution": {
     "iopub.execute_input": "2024-11-18T20:36:45.041104Z",
     "iopub.status.busy": "2024-11-18T20:36:45.040671Z",
     "iopub.status.idle": "2024-11-18T20:36:47.196021Z",
     "shell.execute_reply": "2024-11-18T20:36:47.195098Z"
    },
    "papermill": {
     "duration": 2.2036,
     "end_time": "2024-11-18T20:36:47.198174",
     "exception": false,
     "start_time": "2024-11-18T20:36:44.994574",
     "status": "completed"
    },
    "tags": []
   },
   "outputs": [
    {
     "name": "stdout",
     "output_type": "stream",
     "text": [
      "File 'TrainedModels/P3alphaRecommender/history_P3alpha.db' created successfully.\n"
     ]
    }
   ],
   "source": [
    "if config['save_github'] and config['tune_parameters']:\n",
    "    upload_file(\n",
    "        config['database_path'], \n",
    "        f'TrainedModels/{config[\"model\"]}Recommender/history_{config[\"model\"]}.db',\n",
    "        f'Tuning {config[\"model\"]} db updated results (from kaggle notebook)'\n",
    "    )"
   ]
  },
  {
   "cell_type": "markdown",
   "id": "3cf662c1",
   "metadata": {
    "execution": {
     "iopub.execute_input": "2024-11-14T00:41:34.294243Z",
     "iopub.status.busy": "2024-11-14T00:41:34.293739Z",
     "iopub.status.idle": "2024-11-14T00:41:34.301478Z",
     "shell.execute_reply": "2024-11-14T00:41:34.299869Z",
     "shell.execute_reply.started": "2024-11-14T00:41:34.294186Z"
    },
    "papermill": {
     "duration": 0.045141,
     "end_time": "2024-11-18T20:36:47.289489",
     "exception": false,
     "start_time": "2024-11-18T20:36:47.244348",
     "status": "completed"
    },
    "tags": []
   },
   "source": [
    "Save the best trained model and its submission."
   ]
  },
  {
   "cell_type": "code",
   "execution_count": null,
   "id": "3e0a7f6d",
   "metadata": {
    "execution": {
     "iopub.execute_input": "2024-11-18T20:36:47.381409Z",
     "iopub.status.busy": "2024-11-18T20:36:47.380981Z",
     "iopub.status.idle": "2024-11-18T20:36:52.187421Z",
     "shell.execute_reply": "2024-11-18T20:36:52.186302Z"
    },
    "papermill": {
     "duration": 4.855349,
     "end_time": "2024-11-18T20:36:52.189762",
     "exception": false,
     "start_time": "2024-11-18T20:36:47.334413",
     "status": "completed"
    },
    "tags": []
   },
   "outputs": [
    {
     "name": "stdout",
     "output_type": "stream",
     "text": [
      "File 'TrainedModels/P3alphaRecommender/Submission/submission_P3alpha.csv' created successfully.\n",
      "P3alphaRecommender: Saving model in file '/kaggle/working/best_P3alpha_tuned'\n",
      "P3alphaRecommender: Saving complete\n",
      "File 'TrainedModels/P3alphaRecommender/best_P3alpha_tuned.zip' created successfully.\n"
     ]
    }
   ],
   "source": [
    "if config['save_github'] and config['tune_best_params']:\n",
    "    \n",
    "    upload_file(\n",
    "                f'/kaggle/working/submission_{config[\"model\"]}.csv', \n",
    "                f'TrainedModels/{config[\"model\"]}Recommender/Submission/'\\\n",
    "                    f'submission_{config[\"model\"]}.csv', \n",
    "                f'New {config[\"model\"]} submission (from kaggle notebook)'\n",
    "            )\n",
    "    \n",
    "    recommender_instance.save_model(folder_path='/kaggle/working/', file_name=f'best_{config[\"model\"]}_tuned')\n",
    "\n",
    "    try:\n",
    "        upload_file(\n",
    "            f'/kaggle/working/best_{config[\"model\"]}_tuned.zip',  \n",
    "            f'TrainedModels/{config[\"model\"]}Recommender/best_{config[\"model\"]}_tuned.zip', \n",
    "            f'New {config[\"model\"]} recommender tuned with best parameters (from kaggle notebook)'\n",
    "        )\n",
    "    except Exception as e:\n",
    "        print(f\"\\nThe best recommender was not saved on GitHub because its size is more than 50 MB.\")"
   ]
  }
 ],
 "metadata": {
  "kaggle": {
   "accelerator": "none",
   "dataSources": [
    {
     "databundleVersionId": 9982103,
     "sourceId": 87439,
     "sourceType": "competition"
    }
   ],
   "dockerImageVersionId": 30786,
   "isGpuEnabled": false,
   "isInternetEnabled": true,
   "language": "python",
   "sourceType": "notebook"
  },
  "kernelspec": {
   "display_name": "Python 3",
   "language": "python",
   "name": "python3"
  },
  "language_info": {
   "codemirror_mode": {
    "name": "ipython",
    "version": 3
   },
   "file_extension": ".py",
   "mimetype": "text/x-python",
   "name": "python",
   "nbconvert_exporter": "python",
   "pygments_lexer": "ipython3",
   "version": "3.10.14"
  },
  "papermill": {
   "default_parameters": {},
   "duration": 13304.347459,
   "end_time": "2024-11-18T20:36:53.258665",
   "environment_variables": {},
   "exception": null,
   "input_path": "__notebook__.ipynb",
   "output_path": "__notebook__.ipynb",
   "parameters": {},
   "start_time": "2024-11-18T16:55:08.911206",
   "version": "2.6.0"
  }
 },
 "nbformat": 4,
 "nbformat_minor": 5
}
