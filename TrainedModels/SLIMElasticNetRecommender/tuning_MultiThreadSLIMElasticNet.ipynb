{
 "cells": [
  {
   "cell_type": "markdown",
   "metadata": {},
   "source": [
    "# Pre-processing"
   ]
  },
  {
   "cell_type": "code",
   "execution_count": 6,
   "metadata": {
    "_cell_guid": "b1076dfc-b9ad-4769-8c92-a6c4dae69d19",
    "_uuid": "8f2839f25d086af736a60e9eeb907d3b93b6e0e5",
    "execution": {
     "iopub.execute_input": "2024-11-09T19:35:45.465509Z",
     "iopub.status.busy": "2024-11-09T19:35:45.465207Z",
     "iopub.status.idle": "2024-11-09T19:35:46.699471Z",
     "shell.execute_reply": "2024-11-09T19:35:46.698542Z",
     "shell.execute_reply.started": "2024-11-09T19:35:45.465470Z"
    },
    "trusted": true
   },
   "outputs": [],
   "source": [
    "import numpy as np\n",
    "import pandas as pd\n",
    "import scipy.sparse as sps\n",
    "import time"
   ]
  },
  {
   "cell_type": "markdown",
   "metadata": {},
   "source": [
    "## URM"
   ]
  },
  {
   "cell_type": "code",
   "execution_count": 7,
   "metadata": {
    "execution": {
     "iopub.execute_input": "2024-11-09T19:35:46.701627Z",
     "iopub.status.busy": "2024-11-09T19:35:46.701212Z",
     "iopub.status.idle": "2024-11-09T19:35:47.621851Z",
     "shell.execute_reply": "2024-11-09T19:35:47.620870Z",
     "shell.execute_reply.started": "2024-11-09T19:35:46.701593Z"
    },
    "trusted": true
   },
   "outputs": [
    {
     "data": {
      "text/html": [
       "<div>\n",
       "<style scoped>\n",
       "    .dataframe tbody tr th:only-of-type {\n",
       "        vertical-align: middle;\n",
       "    }\n",
       "\n",
       "    .dataframe tbody tr th {\n",
       "        vertical-align: top;\n",
       "    }\n",
       "\n",
       "    .dataframe thead th {\n",
       "        text-align: right;\n",
       "    }\n",
       "</style>\n",
       "<table border=\"1\" class=\"dataframe\">\n",
       "  <thead>\n",
       "    <tr style=\"text-align: right;\">\n",
       "      <th></th>\n",
       "      <th>user_id</th>\n",
       "      <th>item_id</th>\n",
       "      <th>data</th>\n",
       "    </tr>\n",
       "  </thead>\n",
       "  <tbody>\n",
       "    <tr>\n",
       "      <th>0</th>\n",
       "      <td>0</td>\n",
       "      <td>0</td>\n",
       "      <td>1.0</td>\n",
       "    </tr>\n",
       "    <tr>\n",
       "      <th>1</th>\n",
       "      <td>0</td>\n",
       "      <td>2</td>\n",
       "      <td>1.0</td>\n",
       "    </tr>\n",
       "    <tr>\n",
       "      <th>2</th>\n",
       "      <td>0</td>\n",
       "      <td>120</td>\n",
       "      <td>1.0</td>\n",
       "    </tr>\n",
       "    <tr>\n",
       "      <th>3</th>\n",
       "      <td>0</td>\n",
       "      <td>128</td>\n",
       "      <td>1.0</td>\n",
       "    </tr>\n",
       "    <tr>\n",
       "      <th>4</th>\n",
       "      <td>0</td>\n",
       "      <td>211</td>\n",
       "      <td>1.0</td>\n",
       "    </tr>\n",
       "    <tr>\n",
       "      <th>5</th>\n",
       "      <td>0</td>\n",
       "      <td>232</td>\n",
       "      <td>1.0</td>\n",
       "    </tr>\n",
       "    <tr>\n",
       "      <th>6</th>\n",
       "      <td>0</td>\n",
       "      <td>282</td>\n",
       "      <td>1.0</td>\n",
       "    </tr>\n",
       "    <tr>\n",
       "      <th>7</th>\n",
       "      <td>0</td>\n",
       "      <td>453</td>\n",
       "      <td>1.0</td>\n",
       "    </tr>\n",
       "    <tr>\n",
       "      <th>8</th>\n",
       "      <td>0</td>\n",
       "      <td>458</td>\n",
       "      <td>1.0</td>\n",
       "    </tr>\n",
       "    <tr>\n",
       "      <th>9</th>\n",
       "      <td>0</td>\n",
       "      <td>491</td>\n",
       "      <td>1.0</td>\n",
       "    </tr>\n",
       "  </tbody>\n",
       "</table>\n",
       "</div>"
      ],
      "text/plain": [
       "   user_id  item_id  data\n",
       "0        0        0   1.0\n",
       "1        0        2   1.0\n",
       "2        0      120   1.0\n",
       "3        0      128   1.0\n",
       "4        0      211   1.0\n",
       "5        0      232   1.0\n",
       "6        0      282   1.0\n",
       "7        0      453   1.0\n",
       "8        0      458   1.0\n",
       "9        0      491   1.0"
      ]
     },
     "execution_count": 7,
     "metadata": {},
     "output_type": "execute_result"
    }
   ],
   "source": [
    "URM_all_dataframe = pd.read_csv(\"C:/Users/mauro/Downloads/Recommender System/Input/data_train.csv\")\n",
    "URM_all_dataframe.head(10)"
   ]
  },
  {
   "cell_type": "code",
   "execution_count": 8,
   "metadata": {
    "execution": {
     "iopub.execute_input": "2024-11-09T19:35:47.623639Z",
     "iopub.status.busy": "2024-11-09T19:35:47.623222Z",
     "iopub.status.idle": "2024-11-09T19:35:47.676275Z",
     "shell.execute_reply": "2024-11-09T19:35:47.675346Z",
     "shell.execute_reply.started": "2024-11-09T19:35:47.623592Z"
    },
    "trusted": true
   },
   "outputs": [
    {
     "name": "stdout",
     "output_type": "stream",
     "text": [
      "Number of items\t 38121, Number of users\t 35736\n",
      "Max ID items\t 38120, Max Id users\t 35735\n",
      "\n",
      "The number of interactions is 1764607\n"
     ]
    }
   ],
   "source": [
    "userID_unique = URM_all_dataframe[\"user_id\"].unique()\n",
    "itemID_unique = URM_all_dataframe[\"item_id\"].unique()\n",
    "\n",
    "n_users = len(userID_unique)\n",
    "n_items = len(itemID_unique)\n",
    "n_interactions = len(URM_all_dataframe)\n",
    "\n",
    "print (\"Number of items\\t {}, Number of users\\t {}\".format(n_items, n_users))\n",
    "print (\"Max ID items\\t {}, Max Id users\\t {}\\n\".format(max(itemID_unique), max(userID_unique)))\n",
    "print (\"The number of interactions is {}\".format(n_interactions))"
   ]
  },
  {
   "cell_type": "markdown",
   "metadata": {},
   "source": [
    "## ICM"
   ]
  },
  {
   "cell_type": "code",
   "execution_count": 9,
   "metadata": {
    "execution": {
     "iopub.execute_input": "2024-11-09T19:35:47.679201Z",
     "iopub.status.busy": "2024-11-09T19:35:47.678744Z",
     "iopub.status.idle": "2024-11-09T19:35:49.085938Z",
     "shell.execute_reply": "2024-11-09T19:35:49.084884Z",
     "shell.execute_reply.started": "2024-11-09T19:35:47.679158Z"
    },
    "trusted": true
   },
   "outputs": [
    {
     "data": {
      "text/html": [
       "<div>\n",
       "<style scoped>\n",
       "    .dataframe tbody tr th:only-of-type {\n",
       "        vertical-align: middle;\n",
       "    }\n",
       "\n",
       "    .dataframe tbody tr th {\n",
       "        vertical-align: top;\n",
       "    }\n",
       "\n",
       "    .dataframe thead th {\n",
       "        text-align: right;\n",
       "    }\n",
       "</style>\n",
       "<table border=\"1\" class=\"dataframe\">\n",
       "  <thead>\n",
       "    <tr style=\"text-align: right;\">\n",
       "      <th></th>\n",
       "      <th>item_id</th>\n",
       "      <th>feature_id</th>\n",
       "      <th>data</th>\n",
       "    </tr>\n",
       "  </thead>\n",
       "  <tbody>\n",
       "    <tr>\n",
       "      <th>0</th>\n",
       "      <td>2519</td>\n",
       "      <td>0</td>\n",
       "      <td>1.0</td>\n",
       "    </tr>\n",
       "    <tr>\n",
       "      <th>1</th>\n",
       "      <td>2642</td>\n",
       "      <td>0</td>\n",
       "      <td>1.0</td>\n",
       "    </tr>\n",
       "    <tr>\n",
       "      <th>2</th>\n",
       "      <td>3316</td>\n",
       "      <td>0</td>\n",
       "      <td>1.0</td>\n",
       "    </tr>\n",
       "    <tr>\n",
       "      <th>3</th>\n",
       "      <td>3400</td>\n",
       "      <td>0</td>\n",
       "      <td>1.0</td>\n",
       "    </tr>\n",
       "    <tr>\n",
       "      <th>4</th>\n",
       "      <td>3472</td>\n",
       "      <td>0</td>\n",
       "      <td>1.0</td>\n",
       "    </tr>\n",
       "    <tr>\n",
       "      <th>5</th>\n",
       "      <td>4361</td>\n",
       "      <td>0</td>\n",
       "      <td>1.0</td>\n",
       "    </tr>\n",
       "    <tr>\n",
       "      <th>6</th>\n",
       "      <td>4661</td>\n",
       "      <td>0</td>\n",
       "      <td>1.0</td>\n",
       "    </tr>\n",
       "    <tr>\n",
       "      <th>7</th>\n",
       "      <td>8697</td>\n",
       "      <td>0</td>\n",
       "      <td>1.0</td>\n",
       "    </tr>\n",
       "    <tr>\n",
       "      <th>8</th>\n",
       "      <td>9692</td>\n",
       "      <td>0</td>\n",
       "      <td>1.0</td>\n",
       "    </tr>\n",
       "    <tr>\n",
       "      <th>9</th>\n",
       "      <td>9693</td>\n",
       "      <td>0</td>\n",
       "      <td>1.0</td>\n",
       "    </tr>\n",
       "  </tbody>\n",
       "</table>\n",
       "</div>"
      ],
      "text/plain": [
       "   item_id  feature_id  data\n",
       "0     2519           0   1.0\n",
       "1     2642           0   1.0\n",
       "2     3316           0   1.0\n",
       "3     3400           0   1.0\n",
       "4     3472           0   1.0\n",
       "5     4361           0   1.0\n",
       "6     4661           0   1.0\n",
       "7     8697           0   1.0\n",
       "8     9692           0   1.0\n",
       "9     9693           0   1.0"
      ]
     },
     "execution_count": 9,
     "metadata": {},
     "output_type": "execute_result"
    }
   ],
   "source": [
    "ICM_dataframe = pd.read_csv(\"C:/Users/mauro/Downloads/Recommender System/Input/data_ICM_metadata.csv\")\n",
    "ICM_dataframe.head(10)"
   ]
  },
  {
   "cell_type": "code",
   "execution_count": 10,
   "metadata": {
    "execution": {
     "iopub.execute_input": "2024-11-09T19:35:49.087524Z",
     "iopub.status.busy": "2024-11-09T19:35:49.087126Z",
     "iopub.status.idle": "2024-11-09T19:35:49.153189Z",
     "shell.execute_reply": "2024-11-09T19:35:49.152268Z",
     "shell.execute_reply.started": "2024-11-09T19:35:49.087481Z"
    },
    "trusted": true
   },
   "outputs": [
    {
     "name": "stdout",
     "output_type": "stream",
     "text": [
      "Number of items\t 38121, Number of features\t 94331\n",
      "Max ID items\t 38120, Max Id features\t 94330\n",
      "\n",
      "The number of combinations is 2940040\n"
     ]
    }
   ],
   "source": [
    "featureID_unique = ICM_dataframe[\"feature_id\"].unique()\n",
    "itemID_unique = ICM_dataframe[\"item_id\"].unique()\n",
    "\n",
    "n_items = len(itemID_unique)\n",
    "n_features = len(featureID_unique)\n",
    "n_interactions = len(ICM_dataframe)\n",
    "\n",
    "print (\"Number of items\\t {}, Number of features\\t {}\".format(n_items, n_features))\n",
    "print (\"Max ID items\\t {}, Max Id features\\t {}\\n\".format(max(itemID_unique), max(featureID_unique)))\n",
    "print (\"The number of combinations is {}\".format(n_interactions))"
   ]
  },
  {
   "cell_type": "markdown",
   "metadata": {},
   "source": [
    "## Construction of URM and ICM matrices"
   ]
  },
  {
   "cell_type": "code",
   "execution_count": 11,
   "metadata": {
    "execution": {
     "iopub.execute_input": "2024-11-09T19:35:49.517183Z",
     "iopub.status.busy": "2024-11-09T19:35:49.516847Z",
     "iopub.status.idle": "2024-11-09T19:35:49.614039Z",
     "shell.execute_reply": "2024-11-09T19:35:49.612996Z",
     "shell.execute_reply.started": "2024-11-09T19:35:49.517143Z"
    },
    "trusted": true
   },
   "outputs": [
    {
     "data": {
      "text/plain": [
       "<35736x38121 sparse matrix of type '<class 'numpy.float64'>'\n",
       "\twith 1764607 stored elements in Compressed Sparse Row format>"
      ]
     },
     "execution_count": 11,
     "metadata": {},
     "output_type": "execute_result"
    }
   ],
   "source": [
    "URM_all = sps.csr_matrix((URM_all_dataframe[\"data\"].values, \n",
    "                          (URM_all_dataframe[\"user_id\"].values, URM_all_dataframe[\"item_id\"].values)),\n",
    "                        shape = (n_users, n_items))\n",
    "\n",
    "URM_all"
   ]
  },
  {
   "cell_type": "code",
   "execution_count": 12,
   "metadata": {
    "execution": {
     "iopub.execute_input": "2024-11-09T19:35:49.615476Z",
     "iopub.status.busy": "2024-11-09T19:35:49.615128Z",
     "iopub.status.idle": "2024-11-09T19:35:49.700841Z",
     "shell.execute_reply": "2024-11-09T19:35:49.699829Z",
     "shell.execute_reply.started": "2024-11-09T19:35:49.615442Z"
    },
    "trusted": true
   },
   "outputs": [
    {
     "data": {
      "text/plain": [
       "<38121x94331 sparse matrix of type '<class 'numpy.float64'>'\n",
       "\twith 2940040 stored elements in Compressed Sparse Row format>"
      ]
     },
     "execution_count": 12,
     "metadata": {},
     "output_type": "execute_result"
    }
   ],
   "source": [
    "ICM_all = sps.csr_matrix((ICM_dataframe[\"data\"].values, \n",
    "                          (ICM_dataframe[\"item_id\"].values, ICM_dataframe[\"feature_id\"].values)),\n",
    "                        shape = (n_items, n_features))\n",
    "\n",
    "ICM_all"
   ]
  },
  {
   "cell_type": "markdown",
   "metadata": {},
   "source": [
    "# Training"
   ]
  },
  {
   "cell_type": "code",
   "execution_count": 13,
   "metadata": {
    "execution": {
     "iopub.execute_input": "2024-11-09T19:35:49.702631Z",
     "iopub.status.busy": "2024-11-09T19:35:49.702229Z",
     "iopub.status.idle": "2024-11-09T19:35:54.630146Z",
     "shell.execute_reply": "2024-11-09T19:35:54.629001Z",
     "shell.execute_reply.started": "2024-11-09T19:35:49.702585Z"
    },
    "trusted": true
   },
   "outputs": [
    {
     "name": "stdout",
     "output_type": "stream",
     "text": [
      "c:\\Users\\mauro\\Downloads\\Recommender System\\RecSys_Course_AT_PoliMi\n"
     ]
    },
    {
     "name": "stderr",
     "output_type": "stream",
     "text": [
      "fatal: destination path 'RecSys_Course_AT_PoliMi' already exists and is not an empty directory.\n"
     ]
    }
   ],
   "source": [
    "!git clone https://github.com/recsyspolimi/RecSys_Course_AT_PoliMi.git\n",
    "%cd RecSys_Course_AT_PoliMi"
   ]
  },
  {
   "cell_type": "code",
   "execution_count": 15,
   "metadata": {
    "execution": {
     "iopub.execute_input": "2024-11-09T19:35:54.631925Z",
     "iopub.status.busy": "2024-11-09T19:35:54.631574Z",
     "iopub.status.idle": "2024-11-09T19:35:58.955067Z",
     "shell.execute_reply": "2024-11-09T19:35:58.954052Z",
     "shell.execute_reply.started": "2024-11-09T19:35:54.631892Z"
    },
    "trusted": true
   },
   "outputs": [
    {
     "name": "stdout",
     "output_type": "stream",
     "text": [
      "Warning: 186 (0.52 %) of 35736 users have no sampled items\n",
      "EvaluatorHoldout: Ignoring 186 ( 0.5%) Users that have less than 1 test interactions\n"
     ]
    }
   ],
   "source": [
    "from Evaluation.Evaluator import EvaluatorHoldout\n",
    "from Data_manager.split_functions.split_train_validation_random_holdout import split_train_in_two_percentage_global_sample\n",
    "\n",
    "# URM_train, URM_test = split_train_in_two_percentage_global_sample(URM_all, train_percentage = 0.80)\n",
    "# URM_train, URM_validation = split_train_in_two_percentage_global_sample(URM_train, train_percentage = 0.80)\n",
    "\n",
    "URM_train, URM_validation = split_train_in_two_percentage_global_sample(URM_all, train_percentage = 0.80)\n",
    "\n",
    "evaluator_validation = EvaluatorHoldout(URM_validation, cutoff_list=[10])\n",
    "# evaluator_test = EvaluatorHoldout(URM_test, cutoff_list=[10])"
   ]
  },
  {
   "cell_type": "code",
   "execution_count": 16,
   "metadata": {
    "execution": {
     "iopub.execute_input": "2024-11-09T19:35:58.956586Z",
     "iopub.status.busy": "2024-11-09T19:35:58.956248Z",
     "iopub.status.idle": "2024-11-09T19:35:59.143694Z",
     "shell.execute_reply": "2024-11-09T19:35:59.142726Z",
     "shell.execute_reply.started": "2024-11-09T19:35:58.956541Z"
    },
    "trusted": true
   },
   "outputs": [],
   "source": [
    "import optuna\n",
    "import pandas as pd\n",
    "from Recommenders.SLIM.SLIMElasticNetRecommender import MultiThreadSLIM_SLIMElasticNetRecommender\n",
    "\n",
    "def objective_function_MultiThreadSLIMElasticNet(optuna_trial):\n",
    "    \n",
    "    recommender_instance = MultiThreadSLIM_SLIMElasticNetRecommender(URM_train)\n",
    "    \n",
    "    full_hyperp = {\n",
    "                   \"topK\": optuna_trial.suggest_int(\"topK\", 0, 1500),\n",
    "                   \"l1_ratio\": optuna_trial.suggest_float(\"l1_ratio\", 0.01, 1.0, log=True),\n",
    "                    \"alpha\": optuna_trial.suggest_float(\"alpha\", 1e-4, 1e-1, log=True)\n",
    "                  }        \n",
    "    \n",
    "    recommender_instance.fit(**full_hyperp)\n",
    "    \n",
    "    result_df, _ = evaluator_validation.evaluateRecommender(recommender_instance)\n",
    "    \n",
    "    return result_df.loc[10][\"MAP\"]"
   ]
  },
  {
   "cell_type": "code",
   "execution_count": 17,
   "metadata": {
    "execution": {
     "iopub.execute_input": "2024-11-09T19:39:53.118526Z",
     "iopub.status.busy": "2024-11-09T19:39:53.118150Z",
     "iopub.status.idle": "2024-11-09T19:39:53.125021Z",
     "shell.execute_reply": "2024-11-09T19:39:53.124096Z",
     "shell.execute_reply.started": "2024-11-09T19:39:53.118489Z"
    },
    "trusted": true
   },
   "outputs": [],
   "source": [
    "class SaveResults(object):\n",
    "    \n",
    "    def __init__(self):\n",
    "        self.results_df = pd.DataFrame(columns=[\"result\"])\n",
    "    \n",
    "    def __call__(self, optuna_study, optuna_trial):\n",
    "        hyperparam_dict = optuna_trial.params.copy()\n",
    "        hyperparam_dict[\"result\"] = optuna_trial.values[0]\n",
    "        \n",
    "        new_row = pd.DataFrame([hyperparam_dict])\n",
    "        \n",
    "        if not new_row.empty:\n",
    "            self.results_df = pd.concat([self.results_df, new_row], ignore_index=True)"
   ]
  },
  {
   "cell_type": "code",
   "execution_count": null,
   "metadata": {
    "execution": {
     "iopub.execute_input": "2024-11-09T19:35:59.152715Z",
     "iopub.status.busy": "2024-11-09T19:35:59.152408Z",
     "iopub.status.idle": "2024-11-09T19:39:36.984532Z",
     "shell.execute_reply": "2024-11-09T19:39:36.983070Z",
     "shell.execute_reply.started": "2024-11-09T19:35:59.152653Z"
    },
    "trusted": true
   },
   "outputs": [],
   "source": [
    "# Start measuring time\n",
    "start_time = time.time()\n",
    "\n",
    "# Create study and optimize\n",
    "optuna_study = optuna.create_study(direction=\"maximize\")\n",
    "save_results = SaveResults()\n",
    "optuna_study.optimize(objective_function_MultiThreadSLIMElasticNet,\n",
    "                      callbacks=[save_results],\n",
    "                      n_trials=1)\n",
    "\n",
    "# Calculate elapsed time\n",
    "end_time = time.time()\n",
    "elapsed_time = end_time - start_time\n",
    "\n",
    "# Convert the time to minutes or hours\n",
    "hours = elapsed_time // 3600\n",
    "minutes = (elapsed_time % 3600) // 60\n",
    "seconds = elapsed_time % 60\n",
    "\n",
    "print('\\n')\n",
    "# Display the time in a more readable format\n",
    "if hours > 0:\n",
    "    print(f\"Training loop of 50 trials took {int(hours)} hours, {int(minutes)} minutes, and {int(seconds)} seconds.\")\n",
    "elif minutes > 0:\n",
    "    print(f\"Training loop of 50 trials took {int(minutes)} minutes and {int(seconds)} seconds.\")\n",
    "else:\n",
    "    print(f\"Training loop of 50 trials took {int(seconds)} seconds.\")"
   ]
  },
  {
   "cell_type": "code",
   "execution_count": 13,
   "metadata": {},
   "outputs": [
    {
     "name": "stdout",
     "output_type": "stream",
     "text": [
      "Study statistics: \n",
      "  Number of finished trials:  1\n",
      "  Number of pruned trials:  0\n",
      "  Number of complete trials:  1\n",
      "Best trial:\n",
      "  Value Validation:  0.02666457385043492\n"
     ]
    }
   ],
   "source": [
    "pruned_trials = [t for t in optuna_study.trials if t.state == optuna.trial.TrialState.PRUNED]\n",
    "complete_trials = [t for t in optuna_study.trials if t.state == optuna.trial.TrialState.COMPLETE]\n",
    "\n",
    "print(\"Study statistics: \")\n",
    "print(\"  Number of finished trials: \", len(optuna_study.trials))\n",
    "print(\"  Number of pruned trials: \", len(pruned_trials))\n",
    "print(\"  Number of complete trials: \", len(complete_trials))\n",
    "\n",
    "print(\"Best trial:\")\n",
    "print(\"  Value Validation: \", optuna_study.best_trial.value)"
   ]
  },
  {
   "cell_type": "code",
   "execution_count": 14,
   "metadata": {},
   "outputs": [
    {
     "data": {
      "text/plain": [
       "FrozenTrial(number=0, state=TrialState.COMPLETE, values=[0.02666457385043492], datetime_start=datetime.datetime(2024, 11, 11, 1, 5, 42, 833853), datetime_complete=datetime.datetime(2024, 11, 11, 1, 22, 18, 542864), params={'topK': 1012, 'l1_ratio': 0.3646567004959359, 'alpha': 0.0005365840686464791}, user_attrs={}, system_attrs={}, intermediate_values={}, distributions={'topK': IntDistribution(high=1500, log=False, low=0, step=1), 'l1_ratio': FloatDistribution(high=1.0, log=True, low=0.01, step=None), 'alpha': FloatDistribution(high=0.1, log=True, low=0.0001, step=None)}, trial_id=0, value=None)"
      ]
     },
     "execution_count": 14,
     "metadata": {},
     "output_type": "execute_result"
    }
   ],
   "source": [
    "optuna_study.best_trial"
   ]
  },
  {
   "cell_type": "code",
   "execution_count": 15,
   "metadata": {},
   "outputs": [
    {
     "data": {
      "text/plain": [
       "{'topK': 1012, 'l1_ratio': 0.3646567004959359, 'alpha': 0.0005365840686464791}"
      ]
     },
     "execution_count": 15,
     "metadata": {},
     "output_type": "execute_result"
    }
   ],
   "source": [
    "optuna_study.best_trial.params"
   ]
  },
  {
   "cell_type": "code",
   "execution_count": 16,
   "metadata": {},
   "outputs": [
    {
     "data": {
      "text/html": [
       "<div>\n",
       "<style scoped>\n",
       "    .dataframe tbody tr th:only-of-type {\n",
       "        vertical-align: middle;\n",
       "    }\n",
       "\n",
       "    .dataframe tbody tr th {\n",
       "        vertical-align: top;\n",
       "    }\n",
       "\n",
       "    .dataframe thead th {\n",
       "        text-align: right;\n",
       "    }\n",
       "</style>\n",
       "<table border=\"1\" class=\"dataframe\">\n",
       "  <thead>\n",
       "    <tr style=\"text-align: right;\">\n",
       "      <th></th>\n",
       "      <th>result</th>\n",
       "      <th>topK</th>\n",
       "      <th>l1_ratio</th>\n",
       "      <th>alpha</th>\n",
       "    </tr>\n",
       "  </thead>\n",
       "  <tbody>\n",
       "    <tr>\n",
       "      <th>0</th>\n",
       "      <td>0.026665</td>\n",
       "      <td>1012.0</td>\n",
       "      <td>0.364657</td>\n",
       "      <td>0.000537</td>\n",
       "    </tr>\n",
       "  </tbody>\n",
       "</table>\n",
       "</div>"
      ],
      "text/plain": [
       "     result    topK  l1_ratio     alpha\n",
       "0  0.026665  1012.0  0.364657  0.000537"
      ]
     },
     "execution_count": 16,
     "metadata": {},
     "output_type": "execute_result"
    }
   ],
   "source": [
    "save_results.results_df"
   ]
  },
  {
   "cell_type": "code",
   "execution_count": null,
   "metadata": {},
   "outputs": [
    {
     "name": "stderr",
     "output_type": "stream",
     "text": [
      "  1%|          | 288/38121 [00:29<20:00, 31.52it/s]"
     ]
    }
   ],
   "source": [
    "recommender_instance = MultiThreadSLIM_SLIMElasticNetRecommender(URM_train + URM_validation)\n",
    "recommender_instance.fit(**optuna_study.best_trial.params)\n",
    "\n",
    "result_df, _ = evaluator_test.evaluateRecommender(recommender_instance)"
   ]
  },
  {
   "cell_type": "code",
   "execution_count": null,
   "metadata": {},
   "outputs": [
    {
     "name": "stderr",
     "output_type": "stream",
     "text": []
    }
   ],
   "source": [
    "recommender_instance = MultiThreadSLIM_SLIMElasticNetRecommender(URM_train + URM_validation)\n",
    "\n",
    "recommender_instance.fit(\n",
    "    topK=1012,\n",
    "    l1_ratio=0.3646567004959359,\n",
    "    alpha=0.0005365840686464791,\n",
    ")"
   ]
  },
  {
   "cell_type": "code",
   "execution_count": 34,
   "metadata": {},
   "outputs": [
    {
     "data": {
      "text/html": [
       "<div>\n",
       "<style scoped>\n",
       "    .dataframe tbody tr th:only-of-type {\n",
       "        vertical-align: middle;\n",
       "    }\n",
       "\n",
       "    .dataframe tbody tr th {\n",
       "        vertical-align: top;\n",
       "    }\n",
       "\n",
       "    .dataframe thead th {\n",
       "        text-align: right;\n",
       "    }\n",
       "</style>\n",
       "<table border=\"1\" class=\"dataframe\">\n",
       "  <thead>\n",
       "    <tr style=\"text-align: right;\">\n",
       "      <th></th>\n",
       "      <th>PRECISION</th>\n",
       "      <th>PRECISION_RECALL_MIN_DEN</th>\n",
       "      <th>RECALL</th>\n",
       "      <th>MAP</th>\n",
       "      <th>MAP_MIN_DEN</th>\n",
       "      <th>MRR</th>\n",
       "      <th>NDCG</th>\n",
       "      <th>F1</th>\n",
       "      <th>HIT_RATE</th>\n",
       "      <th>ARHR_ALL_HITS</th>\n",
       "      <th>...</th>\n",
       "      <th>COVERAGE_USER</th>\n",
       "      <th>COVERAGE_USER_HIT</th>\n",
       "      <th>USERS_IN_GT</th>\n",
       "      <th>DIVERSITY_GINI</th>\n",
       "      <th>SHANNON_ENTROPY</th>\n",
       "      <th>RATIO_DIVERSITY_HERFINDAHL</th>\n",
       "      <th>RATIO_DIVERSITY_GINI</th>\n",
       "      <th>RATIO_SHANNON_ENTROPY</th>\n",
       "      <th>RATIO_AVERAGE_POPULARITY</th>\n",
       "      <th>RATIO_NOVELTY</th>\n",
       "    </tr>\n",
       "    <tr>\n",
       "      <th>cutoff</th>\n",
       "      <th></th>\n",
       "      <th></th>\n",
       "      <th></th>\n",
       "      <th></th>\n",
       "      <th></th>\n",
       "      <th></th>\n",
       "      <th></th>\n",
       "      <th></th>\n",
       "      <th></th>\n",
       "      <th></th>\n",
       "      <th></th>\n",
       "      <th></th>\n",
       "      <th></th>\n",
       "      <th></th>\n",
       "      <th></th>\n",
       "      <th></th>\n",
       "      <th></th>\n",
       "      <th></th>\n",
       "      <th></th>\n",
       "      <th></th>\n",
       "      <th></th>\n",
       "    </tr>\n",
       "  </thead>\n",
       "  <tbody>\n",
       "    <tr>\n",
       "      <th>10</th>\n",
       "      <td>0.103773</td>\n",
       "      <td>0.155308</td>\n",
       "      <td>0.13191</td>\n",
       "      <td>0.055224</td>\n",
       "      <td>0.080721</td>\n",
       "      <td>0.290493</td>\n",
       "      <td>0.151447</td>\n",
       "      <td>0.116162</td>\n",
       "      <td>0.549827</td>\n",
       "      <td>0.393182</td>\n",
       "      <td>...</td>\n",
       "      <td>0.995998</td>\n",
       "      <td>0.547627</td>\n",
       "      <td>0.995998</td>\n",
       "      <td>0.135993</td>\n",
       "      <td>12.603534</td>\n",
       "      <td>0.999696</td>\n",
       "      <td>0.22358</td>\n",
       "      <td>0.853794</td>\n",
       "      <td>1.780028</td>\n",
       "      <td>0.236129</td>\n",
       "    </tr>\n",
       "  </tbody>\n",
       "</table>\n",
       "<p>1 rows × 27 columns</p>\n",
       "</div>"
      ],
      "text/plain": [
       "       PRECISION PRECISION_RECALL_MIN_DEN   RECALL       MAP MAP_MIN_DEN  \\\n",
       "cutoff                                                                     \n",
       "10      0.103773                 0.155308  0.13191  0.055224    0.080721   \n",
       "\n",
       "             MRR      NDCG        F1  HIT_RATE ARHR_ALL_HITS  ...  \\\n",
       "cutoff                                                        ...   \n",
       "10      0.290493  0.151447  0.116162  0.549827      0.393182  ...   \n",
       "\n",
       "       COVERAGE_USER COVERAGE_USER_HIT USERS_IN_GT DIVERSITY_GINI  \\\n",
       "cutoff                                                              \n",
       "10          0.995998          0.547627    0.995998       0.135993   \n",
       "\n",
       "       SHANNON_ENTROPY RATIO_DIVERSITY_HERFINDAHL RATIO_DIVERSITY_GINI  \\\n",
       "cutoff                                                                   \n",
       "10           12.603534                   0.999696              0.22358   \n",
       "\n",
       "       RATIO_SHANNON_ENTROPY RATIO_AVERAGE_POPULARITY RATIO_NOVELTY  \n",
       "cutoff                                                               \n",
       "10                  0.853794                 1.780028      0.236129  \n",
       "\n",
       "[1 rows x 27 columns]"
      ]
     },
     "execution_count": 34,
     "metadata": {},
     "output_type": "execute_result"
    }
   ],
   "source": [
    "result_df"
   ]
  },
  {
   "cell_type": "markdown",
   "metadata": {},
   "source": [
    "# Testing"
   ]
  },
  {
   "cell_type": "code",
   "execution_count": 28,
   "metadata": {},
   "outputs": [
    {
     "data": {
      "text/html": [
       "<div>\n",
       "<style scoped>\n",
       "    .dataframe tbody tr th:only-of-type {\n",
       "        vertical-align: middle;\n",
       "    }\n",
       "\n",
       "    .dataframe tbody tr th {\n",
       "        vertical-align: top;\n",
       "    }\n",
       "\n",
       "    .dataframe thead th {\n",
       "        text-align: right;\n",
       "    }\n",
       "</style>\n",
       "<table border=\"1\" class=\"dataframe\">\n",
       "  <thead>\n",
       "    <tr style=\"text-align: right;\">\n",
       "      <th></th>\n",
       "      <th>user_id</th>\n",
       "    </tr>\n",
       "  </thead>\n",
       "  <tbody>\n",
       "    <tr>\n",
       "      <th>0</th>\n",
       "      <td>0</td>\n",
       "    </tr>\n",
       "    <tr>\n",
       "      <th>1</th>\n",
       "      <td>1</td>\n",
       "    </tr>\n",
       "    <tr>\n",
       "      <th>2</th>\n",
       "      <td>2</td>\n",
       "    </tr>\n",
       "    <tr>\n",
       "      <th>3</th>\n",
       "      <td>3</td>\n",
       "    </tr>\n",
       "    <tr>\n",
       "      <th>4</th>\n",
       "      <td>4</td>\n",
       "    </tr>\n",
       "    <tr>\n",
       "      <th>5</th>\n",
       "      <td>5</td>\n",
       "    </tr>\n",
       "    <tr>\n",
       "      <th>6</th>\n",
       "      <td>6</td>\n",
       "    </tr>\n",
       "    <tr>\n",
       "      <th>7</th>\n",
       "      <td>7</td>\n",
       "    </tr>\n",
       "    <tr>\n",
       "      <th>8</th>\n",
       "      <td>8</td>\n",
       "    </tr>\n",
       "    <tr>\n",
       "      <th>9</th>\n",
       "      <td>9</td>\n",
       "    </tr>\n",
       "  </tbody>\n",
       "</table>\n",
       "</div>"
      ],
      "text/plain": [
       "   user_id\n",
       "0        0\n",
       "1        1\n",
       "2        2\n",
       "3        3\n",
       "4        4\n",
       "5        5\n",
       "6        6\n",
       "7        7\n",
       "8        8\n",
       "9        9"
      ]
     },
     "execution_count": 28,
     "metadata": {},
     "output_type": "execute_result"
    }
   ],
   "source": [
    "data_target_users_test = pd.read_csv(\"C:/Users/mauro/Downloads/Recommender System/Input/data_target_users_test.csv\")\n",
    "data_target_users_test.head(10)"
   ]
  },
  {
   "cell_type": "code",
   "execution_count": 29,
   "metadata": {},
   "outputs": [],
   "source": [
    "target_result = []\n",
    "for target in data_target_users_test[\"user_id\"]:\n",
    "    target_result.append(recommender_instance.recommend(target, cutoff = 10, remove_seen_flag=True))"
   ]
  },
  {
   "cell_type": "code",
   "execution_count": 30,
   "metadata": {},
   "outputs": [],
   "source": [
    "user_ids = data_target_users_test[\"user_id\"]\n",
    "\n",
    "# Convert `target_result` to the required format for each user\n",
    "formatted_data = {\n",
    "    \"user_id\": user_ids,\n",
    "    \"item_list\": [\" \".join(map(str, items)) for items in target_result]\n",
    "}\n",
    "\n",
    "# Create the DataFrame\n",
    "submission_df = pd.DataFrame(formatted_data)\n",
    "\n",
    "submission_df.to_csv(\"C:/Users/mauro/Downloads/Recommender System/Submissions/submission_optuna_SLIMElasticNetRecommender.csv\", index=False, header=[\"user_id\", \"item_list\"])"
   ]
  }
 ],
 "metadata": {
  "kaggle": {
   "accelerator": "none",
   "dataSources": [
    {
     "databundleVersionId": 9982103,
     "sourceId": 87439,
     "sourceType": "competition"
    }
   ],
   "dockerImageVersionId": 30786,
   "isGpuEnabled": false,
   "isInternetEnabled": true,
   "language": "python",
   "sourceType": "notebook"
  },
  "kernelspec": {
   "display_name": "Python 3",
   "language": "python",
   "name": "python3"
  },
  "language_info": {
   "codemirror_mode": {
    "name": "ipython",
    "version": 3
   },
   "file_extension": ".py",
   "mimetype": "text/x-python",
   "name": "python",
   "nbconvert_exporter": "python",
   "pygments_lexer": "ipython3",
   "version": "3.10.11"
  }
 },
 "nbformat": 4,
 "nbformat_minor": 4
}
