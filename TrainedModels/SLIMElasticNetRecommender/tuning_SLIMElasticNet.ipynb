{
 "cells": [
  {
   "cell_type": "markdown",
   "id": "086eed87",
   "metadata": {
    "papermill": {
     "duration": 0.009453,
     "end_time": "2024-11-15T16:28:10.320224",
     "exception": false,
     "start_time": "2024-11-15T16:28:10.310771",
     "status": "completed"
    },
    "tags": []
   },
   "source": [
    "# Set connection with GitHub"
   ]
  },
  {
   "cell_type": "code",
   "execution_count": 1,
   "id": "c7eee900",
   "metadata": {
    "execution": {
     "iopub.execute_input": "2024-11-15T16:28:10.340993Z",
     "iopub.status.busy": "2024-11-15T16:28:10.340333Z",
     "iopub.status.idle": "2024-11-15T16:28:10.346412Z",
     "shell.execute_reply": "2024-11-15T16:28:10.345382Z"
    },
    "papermill": {
     "duration": 0.018827,
     "end_time": "2024-11-15T16:28:10.348722",
     "exception": false,
     "start_time": "2024-11-15T16:28:10.329895",
     "status": "completed"
    },
    "tags": []
   },
   "outputs": [],
   "source": [
    "# ! cd /kaggle/working && rm -rf RECsys_Challenge2024"
   ]
  },
  {
   "cell_type": "code",
   "execution_count": 2,
   "id": "ad53e82a",
   "metadata": {
    "_cell_guid": "b1076dfc-b9ad-4769-8c92-a6c4dae69d19",
    "_uuid": "8f2839f25d086af736a60e9eeb907d3b93b6e0e5",
    "execution": {
     "iopub.execute_input": "2024-11-15T16:28:10.370404Z",
     "iopub.status.busy": "2024-11-15T16:28:10.369429Z",
     "iopub.status.idle": "2024-11-15T16:28:19.038788Z",
     "shell.execute_reply": "2024-11-15T16:28:19.037671Z"
    },
    "papermill": {
     "duration": 8.683693,
     "end_time": "2024-11-15T16:28:19.041669",
     "exception": false,
     "start_time": "2024-11-15T16:28:10.357976",
     "status": "completed"
    },
    "tags": []
   },
   "outputs": [
    {
     "name": "stdout",
     "output_type": "stream",
     "text": [
      "Cloning into 'RECsys_Challenge2024'...\r\n"
     ]
    },
    {
     "name": "stdout",
     "output_type": "stream",
     "text": [
      "remote: Enumerating objects: 1774, done.\u001b[K\r\n",
      "remote: Counting objects:   0% (1/156)\u001b[K\r\n",
      "remote: Counting objects:   1% (2/156)\u001b[K\r\n",
      "remote: Counting objects:   2% (4/156)\u001b[K\r\n",
      "remote: Counting objects:   3% (5/156)\u001b[K\r\n",
      "remote: Counting objects:   4% (7/156)\u001b[K\r\n",
      "remote: Counting objects:   5% (8/156)\u001b[K\r\n",
      "remote: Counting objects:   6% (10/156)\u001b[K\r\n",
      "remote: Counting objects:   7% (11/156)\u001b[K\r\n",
      "remote: Counting objects:   8% (13/156)\u001b[K\r\n",
      "remote: Counting objects:   9% (15/156)\u001b[K\r\n",
      "remote: Counting objects:  10% (16/156)\u001b[K\r\n",
      "remote: Counting objects:  11% (18/156)\u001b[K\r\n",
      "remote: Counting objects:  12% (19/156)\u001b[K\r\n",
      "remote: Counting objects:  13% (21/156)\u001b[K\r\n",
      "remote: Counting objects:  14% (22/156)\u001b[K\r\n",
      "remote: Counting objects:  15% (24/156)\u001b[K\r\n",
      "remote: Counting objects:  16% (25/156)\u001b[K\r\n",
      "remote: Counting objects:  17% (27/156)\u001b[K\r\n",
      "remote: Counting objects:  18% (29/156)\u001b[K\r\n",
      "remote: Counting objects:  19% (30/156)\u001b[K\r\n",
      "remote: Counting objects:  20% (32/156)\u001b[K\r\n",
      "remote: Counting objects:  21% (33/156)\u001b[K\r\n",
      "remote: Counting objects:  22% (35/156)\u001b[K\r\n",
      "remote: Counting objects:  23% (36/156)\u001b[K\r\n",
      "remote: Counting objects:  24% (38/156)\u001b[K\r\n",
      "remote: Counting objects:  25% (39/156)\u001b[K\r\n",
      "remote: Counting objects:  26% (41/156)\u001b[K\r\n",
      "remote: Counting objects:  27% (43/156)\u001b[K\r\n",
      "remote: Counting objects:  28% (44/156)\u001b[K\r\n",
      "remote: Counting objects:  29% (46/156)\u001b[K\r\n",
      "remote: Counting objects:  30% (47/156)\u001b[K\r\n",
      "remote: Counting objects:  31% (49/156)\u001b[K\r\n",
      "remote: Counting objects:  32% (50/156)\u001b[K\r\n",
      "remote: Counting objects:  33% (52/156)\u001b[K\r\n",
      "remote: Counting objects:  34% (54/156)\u001b[K\r\n",
      "remote: Counting objects:  35% (55/156)\u001b[K\r\n",
      "remote: Counting objects:  36% (57/156)\u001b[K\r\n",
      "remote: Counting objects:  37% (58/156)\u001b[K\r\n",
      "remote: Counting objects:  38% (60/156)\u001b[K\r\n",
      "remote: Counting objects:  39% (61/156)\u001b[K\r\n",
      "remote: Counting objects:  40% (63/156)\u001b[K\r\n",
      "remote: Counting objects:  41% (64/156)\u001b[K\r\n",
      "remote: Counting objects:  42% (66/156)\u001b[K\r\n",
      "remote: Counting objects:  43% (68/156)\u001b[K\r\n",
      "remote: Counting objects:  44% (69/156)\u001b[K\r\n",
      "remote: Counting objects:  45% (71/156)\u001b[K\r\n",
      "remote: Counting objects:  46% (72/156)\u001b[K\r\n",
      "remote: Counting objects:  47% (74/156)\u001b[K\r\n",
      "remote: Counting objects:  48% (75/156)\u001b[K\r\n",
      "remote: Counting objects:  49% (77/156)\u001b[K\r\n",
      "remote: Counting objects:  50% (78/156)\u001b[K\r\n",
      "remote: Counting objects:  51% (80/156)\u001b[K\r\n",
      "remote: Counting objects:  52% (82/156)\u001b[K\r\n",
      "remote: Counting objects:  53% (83/156)\u001b[K\r\n",
      "remote: Counting objects:  54% (85/156)\u001b[K\r\n",
      "remote: Counting objects:  55% (86/156)\u001b[K\r\n",
      "remote: Counting objects:  56% (88/156)\u001b[K\r\n",
      "remote: Counting objects:  57% (89/156)\u001b[K\r\n",
      "remote: Counting objects:  58% (91/156)\u001b[K\r\n",
      "remote: Counting objects:  59% (93/156)\u001b[K\r\n",
      "remote: Counting objects:  60% (94/156)\u001b[K\r\n",
      "remote: Counting objects:  61% (96/156)\u001b[K\r\n",
      "remote: Counting objects:  62% (97/156)\u001b[K\r\n",
      "remote: Counting objects:  63% (99/156)\u001b[K\r\n",
      "remote: Counting objects:  64% (100/156)\u001b[K\r\n",
      "remote: Counting objects:  65% (102/156)\u001b[K\r\n",
      "remote: Counting objects:  66% (103/156)\u001b[K\r\n",
      "remote: Counting objects:  67% (105/156)\u001b[K\r\n",
      "remote: Counting objects:  68% (107/156)\u001b[K\r\n",
      "remote: Counting objects:  69% (108/156)\u001b[K\r\n",
      "remote: Counting objects:  70% (110/156)\u001b[K\r\n",
      "remote: Counting objects:  71% (111/156)\u001b[K\r\n",
      "remote: Counting objects:  72% (113/156)\u001b[K\r\n",
      "remote: Counting objects:  73% (114/156)\u001b[K\r\n",
      "remote: Counting objects:  74% (116/156)\u001b[K\r\n",
      "remote: Counting objects:  75% (117/156)\u001b[K\r\n",
      "remote: Counting objects:  76% (119/156)\u001b[K\r\n",
      "remote: Counting objects:  77% (121/156)\u001b[K\r\n",
      "remote: Counting objects:  78% (122/156)\u001b[K\r\n",
      "remote: Counting objects:  79% (124/156)\u001b[K\r\n",
      "remote: Counting objects:  80% (125/156)\u001b[K\r\n",
      "remote: Counting objects:  81% (127/156)\u001b[K\r\n",
      "remote: Counting objects:  82% (128/156)\u001b[K\r\n",
      "remote: Counting objects:  83% (130/156)\u001b[K\r\n",
      "remote: Counting objects:  84% (132/156)\u001b[K\r\n",
      "remote: Counting objects:  85% (133/156)\u001b[K\r\n",
      "remote: Counting objects:  86% (135/156)\u001b[K\r\n",
      "remote: Counting objects:  87% (136/156)\u001b[K\r\n",
      "remote: Counting objects:  88% (138/156)\u001b[K\r\n",
      "remote: Counting objects:  89% (139/156)\u001b[K\r\n",
      "remote: Counting objects:  90% (141/156)\u001b[K\r\n",
      "remote: Counting objects:  91% (142/156)\u001b[K\r\n",
      "remote: Counting objects:  92% (144/156)\u001b[K\r\n",
      "remote: Counting objects:  93% (146/156)\u001b[K\r"
     ]
    },
    {
     "name": "stdout",
     "output_type": "stream",
     "text": [
      "remote: Counting objects:  94% (147/156)\u001b[K\r\n",
      "remote: Counting objects:  95% (149/156)\u001b[K\r\n",
      "remote: Counting objects:  96% (150/156)\u001b[K\r\n",
      "remote: Counting objects:  97% (152/156)\u001b[K\r\n",
      "remote: Counting objects:  98% (153/156)\u001b[K\r\n",
      "remote: Counting objects:  99% (155/156)\u001b[K\r\n",
      "remote: Counting objects: 100% (156/156)\u001b[K\r\n",
      "remote: Counting objects: 100% (156/156), done.\u001b[K\r\n",
      "remote: Compressing objects:   0% (1/122)\u001b[K\r\n",
      "remote: Compressing objects:   1% (2/122)\u001b[K\r\n",
      "remote: Compressing objects:   2% (3/122)\u001b[K\r"
     ]
    },
    {
     "name": "stdout",
     "output_type": "stream",
     "text": [
      "remote: Compressing objects:   3% (4/122)\u001b[K\r\n",
      "remote: Compressing objects:   4% (5/122)\u001b[K\r\n",
      "remote: Compressing objects:   5% (7/122)\u001b[K\r\n",
      "remote: Compressing objects:   6% (8/122)\u001b[K\r\n",
      "remote: Compressing objects:   7% (9/122)\u001b[K\r\n",
      "remote: Compressing objects:   8% (10/122)\u001b[K\r\n",
      "remote: Compressing objects:   9% (11/122)\u001b[K\r\n",
      "remote: Compressing objects:  10% (13/122)\u001b[K\r\n",
      "remote: Compressing objects:  11% (14/122)\u001b[K\r\n",
      "remote: Compressing objects:  12% (15/122)\u001b[K\r\n",
      "remote: Compressing objects:  13% (16/122)\u001b[K\r\n",
      "remote: Compressing objects:  14% (18/122)\u001b[K\r\n",
      "remote: Compressing objects:  15% (19/122)\u001b[K\r\n",
      "remote: Compressing objects:  16% (20/122)\u001b[K\r\n",
      "remote: Compressing objects:  17% (21/122)\u001b[K\r\n",
      "remote: Compressing objects:  18% (22/122)\u001b[K\r\n",
      "remote: Compressing objects:  19% (24/122)\u001b[K\r\n",
      "remote: Compressing objects:  20% (25/122)\u001b[K\r\n",
      "remote: Compressing objects:  21% (26/122)\u001b[K\r\n",
      "remote: Compressing objects:  22% (27/122)\u001b[K\r\n",
      "remote: Compressing objects:  23% (29/122)\u001b[K\r\n",
      "remote: Compressing objects:  24% (30/122)\u001b[K\r\n",
      "remote: Compressing objects:  25% (31/122)\u001b[K\r\n",
      "remote: Compressing objects:  26% (32/122)\u001b[K\r\n",
      "remote: Compressing objects:  27% (33/122)\u001b[K\r\n",
      "remote: Compressing objects:  28% (35/122)\u001b[K\r\n",
      "remote: Compressing objects:  29% (36/122)\u001b[K\r\n",
      "remote: Compressing objects:  30% (37/122)\u001b[K\r\n",
      "remote: Compressing objects:  31% (38/122)\u001b[K\r\n",
      "remote: Compressing objects:  32% (40/122)\u001b[K\r\n",
      "remote: Compressing objects:  33% (41/122)\u001b[K\r\n",
      "remote: Compressing objects:  34% (42/122)\u001b[K\r\n",
      "remote: Compressing objects:  35% (43/122)\u001b[K\r\n",
      "remote: Compressing objects:  36% (44/122)\u001b[K\r\n",
      "remote: Compressing objects:  37% (46/122)\u001b[K\r\n",
      "remote: Compressing objects:  38% (47/122)\u001b[K\r\n",
      "remote: Compressing objects:  39% (48/122)\u001b[K\r\n",
      "remote: Compressing objects:  40% (49/122)\u001b[K\r\n",
      "remote: Compressing objects:  41% (51/122)\u001b[K\r\n",
      "remote: Compressing objects:  42% (52/122)\u001b[K\r\n",
      "remote: Compressing objects:  43% (53/122)\u001b[K\r\n",
      "remote: Compressing objects:  44% (54/122)\u001b[K\r\n",
      "remote: Compressing objects:  45% (55/122)\u001b[K\r\n",
      "remote: Compressing objects:  46% (57/122)\u001b[K\r\n",
      "remote: Compressing objects:  47% (58/122)\u001b[K\r\n",
      "remote: Compressing objects:  48% (59/122)\u001b[K\r\n",
      "remote: Compressing objects:  49% (60/122)\u001b[K\r\n",
      "remote: Compressing objects:  50% (61/122)\u001b[K\r\n",
      "remote: Compressing objects:  51% (63/122)\u001b[K\r\n",
      "remote: Compressing objects:  52% (64/122)\u001b[K\r\n",
      "remote: Compressing objects:  53% (65/122)\u001b[K\r\n",
      "remote: Compressing objects:  54% (66/122)\u001b[K\r\n",
      "remote: Compressing objects:  55% (68/122)\u001b[K\r\n",
      "remote: Compressing objects:  56% (69/122)\u001b[K\r\n",
      "remote: Compressing objects:  57% (70/122)\u001b[K\r\n",
      "remote: Compressing objects:  58% (71/122)\u001b[K\r\n",
      "remote: Compressing objects:  59% (72/122)\u001b[K\r\n",
      "remote: Compressing objects:  60% (74/122)\u001b[K\r\n",
      "remote: Compressing objects:  61% (75/122)\u001b[K\r\n",
      "remote: Compressing objects:  62% (76/122)\u001b[K\r\n",
      "remote: Compressing objects:  63% (77/122)\u001b[K\r\n",
      "remote: Compressing objects:  64% (79/122)\u001b[K\r\n",
      "remote: Compressing objects:  65% (80/122)\u001b[K\r\n",
      "remote: Compressing objects:  66% (81/122)\u001b[K\r\n",
      "remote: Compressing objects:  67% (82/122)\u001b[K\r\n",
      "remote: Compressing objects:  68% (83/122)\u001b[K\r\n",
      "remote: Compressing objects:  69% (85/122)\u001b[K\r\n",
      "remote: Compressing objects:  70% (86/122)\u001b[K\r\n",
      "remote: Compressing objects:  71% (87/122)\u001b[K\r\n",
      "remote: Compressing objects:  72% (88/122)\u001b[K\r\n",
      "remote: Compressing objects:  73% (90/122)\u001b[K\r\n",
      "remote: Compressing objects:  74% (91/122)\u001b[K\r\n",
      "remote: Compressing objects:  75% (92/122)\u001b[K\r\n",
      "remote: Compressing objects:  76% (93/122)\u001b[K\r\n",
      "remote: Compressing objects:  77% (94/122)\u001b[K\r\n",
      "remote: Compressing objects:  78% (96/122)\u001b[K\r\n",
      "remote: Compressing objects:  79% (97/122)\u001b[K\r\n",
      "remote: Compressing objects:  80% (98/122)\u001b[K\r\n",
      "remote: Compressing objects:  81% (99/122)\u001b[K\r\n",
      "remote: Compressing objects:  82% (101/122)\u001b[K\r\n",
      "remote: Compressing objects:  83% (102/122)\u001b[K\r\n",
      "remote: Compressing objects:  84% (103/122)\u001b[K\r\n",
      "remote: Compressing objects:  85% (104/122)\u001b[K\r\n",
      "remote: Compressing objects:  86% (105/122)\u001b[K\r\n",
      "remote: Compressing objects:  87% (107/122)\u001b[K\r\n",
      "remote: Compressing objects:  88% (108/122)\u001b[K\r\n",
      "remote: Compressing objects:  89% (109/122)\u001b[K\r\n",
      "remote: Compressing objects:  90% (110/122)\u001b[K\r\n",
      "remote: Compressing objects:  91% (112/122)\u001b[K\r\n",
      "remote: Compressing objects:  92% (113/122)\u001b[K\r\n",
      "remote: Compressing objects:  93% (114/122)\u001b[K\r\n",
      "remote: Compressing objects:  94% (115/122)\u001b[K\r\n",
      "remote: Compressing objects:  95% (116/122)\u001b[K\r\n",
      "remote: Compressing objects:  96% (118/122)\u001b[K\r\n",
      "remote: Compressing objects:  97% (119/122)\u001b[K\r\n",
      "remote: Compressing objects:  98% (120/122)\u001b[K\r\n",
      "remote: Compressing objects:  99% (121/122)\u001b[K\r\n",
      "remote: Compressing objects: 100% (122/122)\u001b[K\r\n",
      "remote: Compressing objects: 100% (122/122), done.\u001b[K\r\n",
      "Receiving objects:   0% (1/1774)\r\n",
      "Receiving objects:   1% (18/1774)\r\n",
      "Receiving objects:   2% (36/1774)\r\n",
      "Receiving objects:   3% (54/1774)\r\n",
      "Receiving objects:   4% (71/1774)\r\n",
      "Receiving objects:   5% (89/1774)\r\n",
      "Receiving objects:   6% (107/1774)\r\n",
      "Receiving objects:   7% (125/1774)\r\n",
      "Receiving objects:   8% (142/1774)\r\n",
      "Receiving objects:   9% (160/1774)\r\n",
      "Receiving objects:  10% (178/1774)\r\n",
      "Receiving objects:  11% (196/1774)\r\n",
      "Receiving objects:  12% (213/1774)\r\n",
      "Receiving objects:  13% (231/1774)\r\n",
      "Receiving objects:  14% (249/1774)\r\n",
      "Receiving objects:  15% (267/1774)\r\n",
      "Receiving objects:  16% (284/1774)\r"
     ]
    },
    {
     "name": "stdout",
     "output_type": "stream",
     "text": [
      "Receiving objects:  16% (293/1774), 13.62 MiB | 13.55 MiB/s\r\n",
      "Receiving objects:  17% (302/1774), 13.62 MiB | 13.55 MiB/s\r"
     ]
    },
    {
     "name": "stdout",
     "output_type": "stream",
     "text": [
      "Receiving objects:  18% (320/1774), 13.62 MiB | 13.55 MiB/s\r"
     ]
    },
    {
     "name": "stdout",
     "output_type": "stream",
     "text": [
      "Receiving objects:  19% (338/1774), 13.62 MiB | 13.55 MiB/s\r"
     ]
    },
    {
     "name": "stdout",
     "output_type": "stream",
     "text": [
      "Receiving objects:  20% (355/1774), 13.62 MiB | 13.55 MiB/s\r"
     ]
    },
    {
     "name": "stdout",
     "output_type": "stream",
     "text": [
      "Receiving objects:  21% (373/1774), 13.62 MiB | 13.55 MiB/s\r"
     ]
    },
    {
     "name": "stdout",
     "output_type": "stream",
     "text": [
      "Receiving objects:  22% (391/1774), 13.62 MiB | 13.55 MiB/s\r"
     ]
    },
    {
     "name": "stdout",
     "output_type": "stream",
     "text": [
      "Receiving objects:  23% (409/1774), 13.62 MiB | 13.55 MiB/s\r\n",
      "Receiving objects:  24% (426/1774), 13.62 MiB | 13.55 MiB/s\r"
     ]
    },
    {
     "name": "stdout",
     "output_type": "stream",
     "text": [
      "Receiving objects:  25% (444/1774), 20.88 MiB | 13.83 MiB/s\r\n",
      "Receiving objects:  26% (462/1774), 20.88 MiB | 13.83 MiB/s\r"
     ]
    },
    {
     "name": "stdout",
     "output_type": "stream",
     "text": [
      "Receiving objects:  27% (479/1774), 20.88 MiB | 13.83 MiB/s\r"
     ]
    },
    {
     "name": "stdout",
     "output_type": "stream",
     "text": [
      "Receiving objects:  28% (497/1774), 20.88 MiB | 13.83 MiB/s\r"
     ]
    },
    {
     "name": "stdout",
     "output_type": "stream",
     "text": [
      "Receiving objects:  29% (515/1774), 20.88 MiB | 13.83 MiB/s\r"
     ]
    },
    {
     "name": "stdout",
     "output_type": "stream",
     "text": [
      "Receiving objects:  29% (532/1774), 28.43 MiB | 14.11 MiB/s\r\n",
      "Receiving objects:  30% (533/1774), 28.43 MiB | 14.11 MiB/s\r"
     ]
    },
    {
     "name": "stdout",
     "output_type": "stream",
     "text": [
      "Receiving objects:  31% (550/1774), 36.22 MiB | 14.37 MiB/s\r\n",
      "Receiving objects:  32% (568/1774), 36.22 MiB | 14.37 MiB/s\r\n",
      "Receiving objects:  33% (586/1774), 36.22 MiB | 14.37 MiB/s\r\n",
      "Receiving objects:  34% (604/1774), 36.22 MiB | 14.37 MiB/s\r\n",
      "Receiving objects:  35% (621/1774), 36.22 MiB | 14.37 MiB/s\r\n",
      "Receiving objects:  36% (639/1774), 36.22 MiB | 14.37 MiB/s\r"
     ]
    },
    {
     "name": "stdout",
     "output_type": "stream",
     "text": [
      "Receiving objects:  37% (657/1774), 36.22 MiB | 14.37 MiB/s\r\n",
      "Receiving objects:  38% (675/1774), 36.22 MiB | 14.37 MiB/s\r"
     ]
    },
    {
     "name": "stdout",
     "output_type": "stream",
     "text": [
      "Receiving objects:  39% (692/1774), 36.22 MiB | 14.37 MiB/s\r\n",
      "Receiving objects:  40% (710/1774), 36.22 MiB | 14.37 MiB/s\r\n",
      "Receiving objects:  41% (728/1774), 36.22 MiB | 14.37 MiB/s\r\n",
      "Receiving objects:  42% (746/1774), 36.22 MiB | 14.37 MiB/s\r\n",
      "Receiving objects:  43% (763/1774), 36.22 MiB | 14.37 MiB/s\r\n",
      "Receiving objects:  44% (781/1774), 36.22 MiB | 14.37 MiB/s\r\n",
      "Receiving objects:  45% (799/1774), 36.22 MiB | 14.37 MiB/s\r\n",
      "Receiving objects:  46% (817/1774), 36.22 MiB | 14.37 MiB/s\r\n",
      "Receiving objects:  47% (834/1774), 36.22 MiB | 14.37 MiB/s\r\n",
      "Receiving objects:  48% (852/1774), 36.22 MiB | 14.37 MiB/s\r\n",
      "Receiving objects:  49% (870/1774), 36.22 MiB | 14.37 MiB/s\r"
     ]
    },
    {
     "name": "stdout",
     "output_type": "stream",
     "text": [
      "Receiving objects:  50% (887/1774), 36.22 MiB | 14.37 MiB/s\r\n",
      "Receiving objects:  51% (905/1774), 36.22 MiB | 14.37 MiB/s\r"
     ]
    },
    {
     "name": "stdout",
     "output_type": "stream",
     "text": [
      "Receiving objects:  52% (923/1774), 36.22 MiB | 14.37 MiB/s\r\n",
      "Receiving objects:  53% (941/1774), 36.22 MiB | 14.37 MiB/s\r\n",
      "Receiving objects:  54% (958/1774), 36.22 MiB | 14.37 MiB/s\r\n",
      "Receiving objects:  55% (976/1774), 36.22 MiB | 14.37 MiB/s\r\n",
      "Receiving objects:  56% (994/1774), 36.22 MiB | 14.37 MiB/s\r\n",
      "Receiving objects:  57% (1012/1774), 36.22 MiB | 14.37 MiB/s\r\n",
      "Receiving objects:  58% (1029/1774), 36.22 MiB | 14.37 MiB/s\r\n",
      "Receiving objects:  59% (1047/1774), 36.22 MiB | 14.37 MiB/s\r\n",
      "Receiving objects:  60% (1065/1774), 36.22 MiB | 14.37 MiB/s\r\n",
      "Receiving objects:  61% (1083/1774), 36.22 MiB | 14.37 MiB/s\r\n",
      "Receiving objects:  62% (1100/1774), 36.22 MiB | 14.37 MiB/s\r\n",
      "Receiving objects:  63% (1118/1774), 36.22 MiB | 14.37 MiB/s\r\n",
      "Receiving objects:  64% (1136/1774), 36.22 MiB | 14.37 MiB/s\r\n",
      "Receiving objects:  65% (1154/1774), 36.22 MiB | 14.37 MiB/s\r"
     ]
    },
    {
     "name": "stdout",
     "output_type": "stream",
     "text": [
      "Receiving objects:  66% (1171/1774), 36.22 MiB | 14.37 MiB/s\r\n",
      "Receiving objects:  67% (1189/1774), 36.22 MiB | 14.37 MiB/s\r\n",
      "Receiving objects:  68% (1207/1774), 36.22 MiB | 14.37 MiB/s\r\n",
      "Receiving objects:  69% (1225/1774), 36.22 MiB | 14.37 MiB/s\r\n",
      "Receiving objects:  70% (1242/1774), 36.22 MiB | 14.37 MiB/s\r\n",
      "Receiving objects:  71% (1260/1774), 36.22 MiB | 14.37 MiB/s\r\n",
      "Receiving objects:  72% (1278/1774), 36.22 MiB | 14.37 MiB/s\r\n",
      "Receiving objects:  73% (1296/1774), 36.22 MiB | 14.37 MiB/s\r\n",
      "Receiving objects:  74% (1313/1774), 36.22 MiB | 14.37 MiB/s\r\n",
      "Receiving objects:  75% (1331/1774), 36.22 MiB | 14.37 MiB/s\r"
     ]
    },
    {
     "name": "stdout",
     "output_type": "stream",
     "text": [
      "Receiving objects:  76% (1349/1774), 36.22 MiB | 14.37 MiB/s\r"
     ]
    },
    {
     "name": "stdout",
     "output_type": "stream",
     "text": [
      "Receiving objects:  76% (1365/1774), 44.21 MiB | 14.60 MiB/s\r"
     ]
    },
    {
     "name": "stdout",
     "output_type": "stream",
     "text": [
      "Receiving objects:  77% (1366/1774), 44.21 MiB | 14.60 MiB/s\r\n",
      "Receiving objects:  78% (1384/1774), 44.21 MiB | 14.60 MiB/s\r"
     ]
    },
    {
     "name": "stdout",
     "output_type": "stream",
     "text": [
      "Receiving objects:  79% (1402/1774), 44.21 MiB | 14.60 MiB/s\r\n",
      "Receiving objects:  80% (1420/1774), 44.21 MiB | 14.60 MiB/s\r\n",
      "Receiving objects:  81% (1437/1774), 44.21 MiB | 14.60 MiB/s\r\n",
      "Receiving objects:  82% (1455/1774), 44.21 MiB | 14.60 MiB/s\r"
     ]
    },
    {
     "name": "stdout",
     "output_type": "stream",
     "text": [
      "Receiving objects:  83% (1473/1774), 44.21 MiB | 14.60 MiB/s\r\n",
      "Receiving objects:  84% (1491/1774), 44.21 MiB | 14.60 MiB/s\r\n",
      "Receiving objects:  85% (1508/1774), 44.21 MiB | 14.60 MiB/s\r\n",
      "Receiving objects:  86% (1526/1774), 44.21 MiB | 14.60 MiB/s\r"
     ]
    },
    {
     "name": "stdout",
     "output_type": "stream",
     "text": [
      "Receiving objects:  86% (1526/1774), 56.28 MiB | 13.97 MiB/s\r"
     ]
    },
    {
     "name": "stdout",
     "output_type": "stream",
     "text": [
      "Receiving objects:  87% (1544/1774), 62.34 MiB | 13.76 MiB/s\r"
     ]
    },
    {
     "name": "stdout",
     "output_type": "stream",
     "text": [
      "Receiving objects:  88% (1562/1774), 62.34 MiB | 13.76 MiB/s\r\n",
      "Receiving objects:  89% (1579/1774), 62.34 MiB | 13.76 MiB/s\r"
     ]
    },
    {
     "name": "stdout",
     "output_type": "stream",
     "text": [
      "Receiving objects:  90% (1597/1774), 62.34 MiB | 13.76 MiB/s\r"
     ]
    },
    {
     "name": "stdout",
     "output_type": "stream",
     "text": [
      "Receiving objects:  91% (1615/1774), 62.34 MiB | 13.76 MiB/s\r\n",
      "Receiving objects:  92% (1633/1774), 62.34 MiB | 13.76 MiB/s\r\n",
      "Receiving objects:  93% (1650/1774), 62.34 MiB | 13.76 MiB/s\r"
     ]
    },
    {
     "name": "stdout",
     "output_type": "stream",
     "text": [
      "Receiving objects:  94% (1668/1774), 62.34 MiB | 13.76 MiB/s\r"
     ]
    },
    {
     "name": "stdout",
     "output_type": "stream",
     "text": [
      "Receiving objects:  94% (1674/1774), 68.64 MiB | 13.67 MiB/s\r"
     ]
    },
    {
     "name": "stdout",
     "output_type": "stream",
     "text": [
      "Receiving objects:  95% (1686/1774), 68.64 MiB | 13.67 MiB/s\r\n",
      "remote: Total 1774 (delta 91), reused 62 (delta 29), pack-reused 1618 (from 1)\u001b[K\r\n",
      "Receiving objects:  96% (1704/1774), 68.64 MiB | 13.67 MiB/s\r\n",
      "Receiving objects:  97% (1721/1774), 68.64 MiB | 13.67 MiB/s\r\n",
      "Receiving objects:  98% (1739/1774), 68.64 MiB | 13.67 MiB/s\r\n",
      "Receiving objects:  99% (1757/1774), 68.64 MiB | 13.67 MiB/s\r\n",
      "Receiving objects: 100% (1774/1774), 68.64 MiB | 13.67 MiB/s\r\n",
      "Receiving objects: 100% (1774/1774), 69.70 MiB | 13.63 MiB/s, done.\r\n",
      "Resolving deltas:   0% (0/1036)\r\n",
      "Resolving deltas:   1% (11/1036)\r\n",
      "Resolving deltas:   2% (21/1036)\r\n",
      "Resolving deltas:   3% (32/1036)\r\n",
      "Resolving deltas:   4% (42/1036)\r\n",
      "Resolving deltas:   5% (52/1036)\r\n",
      "Resolving deltas:   6% (63/1036)\r\n",
      "Resolving deltas:   7% (73/1036)\r\n",
      "Resolving deltas:   8% (83/1036)\r\n",
      "Resolving deltas:   9% (94/1036)\r\n",
      "Resolving deltas:  10% (104/1036)\r\n",
      "Resolving deltas:  11% (114/1036)\r\n",
      "Resolving deltas:  12% (125/1036)\r\n",
      "Resolving deltas:  13% (135/1036)\r\n",
      "Resolving deltas:  14% (146/1036)\r\n",
      "Resolving deltas:  15% (156/1036)\r"
     ]
    },
    {
     "name": "stdout",
     "output_type": "stream",
     "text": [
      "Resolving deltas:  16% (166/1036)\r\n",
      "Resolving deltas:  17% (177/1036)\r\n",
      "Resolving deltas:  18% (187/1036)\r\n",
      "Resolving deltas:  19% (197/1036)\r\n",
      "Resolving deltas:  20% (208/1036)\r"
     ]
    },
    {
     "name": "stdout",
     "output_type": "stream",
     "text": [
      "Resolving deltas:  21% (218/1036)\r\n",
      "Resolving deltas:  22% (228/1036)\r\n",
      "Resolving deltas:  23% (239/1036)\r\n",
      "Resolving deltas:  24% (249/1036)\r\n",
      "Resolving deltas:  25% (259/1036)\r\n",
      "Resolving deltas:  26% (270/1036)\r\n",
      "Resolving deltas:  27% (280/1036)\r\n",
      "Resolving deltas:  28% (291/1036)\r\n",
      "Resolving deltas:  29% (301/1036)\r\n",
      "Resolving deltas:  30% (311/1036)\r\n",
      "Resolving deltas:  31% (322/1036)\r\n",
      "Resolving deltas:  32% (332/1036)\r\n",
      "Resolving deltas:  33% (342/1036)\r\n",
      "Resolving deltas:  34% (353/1036)\r\n",
      "Resolving deltas:  35% (363/1036)\r\n",
      "Resolving deltas:  36% (373/1036)\r\n",
      "Resolving deltas:  37% (384/1036)\r\n",
      "Resolving deltas:  38% (394/1036)\r\n",
      "Resolving deltas:  39% (405/1036)\r\n",
      "Resolving deltas:  40% (415/1036)\r\n",
      "Resolving deltas:  41% (425/1036)\r\n",
      "Resolving deltas:  42% (436/1036)\r\n",
      "Resolving deltas:  43% (446/1036)\r\n",
      "Resolving deltas:  44% (456/1036)\r\n",
      "Resolving deltas:  45% (467/1036)\r\n",
      "Resolving deltas:  46% (477/1036)\r\n",
      "Resolving deltas:  47% (487/1036)\r\n",
      "Resolving deltas:  48% (498/1036)\r\n",
      "Resolving deltas:  49% (508/1036)\r\n",
      "Resolving deltas:  50% (518/1036)\r\n",
      "Resolving deltas:  51% (529/1036)\r\n",
      "Resolving deltas:  52% (539/1036)\r\n",
      "Resolving deltas:  53% (550/1036)\r\n",
      "Resolving deltas:  54% (560/1036)\r\n",
      "Resolving deltas:  55% (570/1036)\r\n",
      "Resolving deltas:  56% (581/1036)\r\n",
      "Resolving deltas:  57% (591/1036)\r\n",
      "Resolving deltas:  58% (601/1036)\r\n",
      "Resolving deltas:  59% (612/1036)\r\n",
      "Resolving deltas:  60% (622/1036)\r\n",
      "Resolving deltas:  61% (632/1036)\r\n",
      "Resolving deltas:  62% (643/1036)\r\n",
      "Resolving deltas:  63% (653/1036)\r\n",
      "Resolving deltas:  64% (664/1036)\r\n",
      "Resolving deltas:  65% (674/1036)\r\n",
      "Resolving deltas:  66% (684/1036)\r\n",
      "Resolving deltas:  67% (695/1036)\r\n",
      "Resolving deltas:  68% (705/1036)\r\n",
      "Resolving deltas:  69% (715/1036)\r\n",
      "Resolving deltas:  70% (726/1036)\r\n",
      "Resolving deltas:  71% (736/1036)\r"
     ]
    },
    {
     "name": "stdout",
     "output_type": "stream",
     "text": [
      "Resolving deltas:  72% (746/1036)\r\n",
      "Resolving deltas:  73% (757/1036)\r\n",
      "Resolving deltas:  74% (767/1036)\r\n",
      "Resolving deltas:  75% (777/1036)\r\n",
      "Resolving deltas:  76% (788/1036)\r\n",
      "Resolving deltas:  77% (798/1036)\r\n",
      "Resolving deltas:  78% (809/1036)\r\n",
      "Resolving deltas:  79% (819/1036)\r\n",
      "Resolving deltas:  80% (829/1036)\r\n",
      "Resolving deltas:  81% (840/1036)\r\n",
      "Resolving deltas:  82% (850/1036)\r\n",
      "Resolving deltas:  83% (860/1036)\r\n",
      "Resolving deltas:  84% (871/1036)\r\n",
      "Resolving deltas:  85% (881/1036)\r\n",
      "Resolving deltas:  86% (891/1036)\r\n",
      "Resolving deltas:  87% (902/1036)\r\n",
      "Resolving deltas:  88% (912/1036)\r\n",
      "Resolving deltas:  89% (923/1036)\r\n",
      "Resolving deltas:  90% (933/1036)\r\n",
      "Resolving deltas:  91% (943/1036)\r\n",
      "Resolving deltas:  92% (954/1036)\r\n",
      "Resolving deltas:  93% (964/1036)\r\n",
      "Resolving deltas:  94% (974/1036)\r\n",
      "Resolving deltas:  95% (985/1036)\r\n",
      "Resolving deltas:  96% (995/1036)\r\n",
      "Resolving deltas:  97% (1005/1036)\r\n",
      "Resolving deltas:  98% (1016/1036)\r\n",
      "Resolving deltas:  99% (1026/1036)\r\n",
      "Resolving deltas: 100% (1036/1036)\r\n",
      "Resolving deltas: 100% (1036/1036), done.\r\n"
     ]
    }
   ],
   "source": [
    "from kaggle_secrets import UserSecretsClient\n",
    "\n",
    "token = UserSecretsClient().get_secret(\"Token\")\n",
    "\n",
    "! git clone https://{token}@github.com/madratak/RECsys_Challenge2024.git"
   ]
  },
  {
   "cell_type": "code",
   "execution_count": 3,
   "id": "eebce806",
   "metadata": {
    "execution": {
     "iopub.execute_input": "2024-11-15T16:28:19.073874Z",
     "iopub.status.busy": "2024-11-15T16:28:19.073048Z",
     "iopub.status.idle": "2024-11-15T16:28:34.475479Z",
     "shell.execute_reply": "2024-11-15T16:28:34.474524Z"
    },
    "papermill": {
     "duration": 15.419976,
     "end_time": "2024-11-15T16:28:34.478242",
     "exception": false,
     "start_time": "2024-11-15T16:28:19.058266",
     "status": "completed"
    },
    "tags": []
   },
   "outputs": [
    {
     "name": "stdout",
     "output_type": "stream",
     "text": [
      "Collecting PyGithub\r\n",
      "  Downloading PyGithub-2.5.0-py3-none-any.whl.metadata (3.9 kB)\r\n",
      "Requirement already satisfied: requests in /opt/conda/lib/python3.10/site-packages (2.32.3)\r\n"
     ]
    },
    {
     "name": "stdout",
     "output_type": "stream",
     "text": [
      "Collecting pynacl>=1.4.0 (from PyGithub)\r\n",
      "  Downloading PyNaCl-1.5.0-cp36-abi3-manylinux_2_17_x86_64.manylinux2014_x86_64.manylinux_2_24_x86_64.whl.metadata (8.6 kB)\r\n",
      "Requirement already satisfied: pyjwt>=2.4.0 in /opt/conda/lib/python3.10/site-packages (from pyjwt[crypto]>=2.4.0->PyGithub) (2.8.0)\r\n",
      "Requirement already satisfied: typing-extensions>=4.0.0 in /opt/conda/lib/python3.10/site-packages (from PyGithub) (4.12.2)\r\n",
      "Requirement already satisfied: urllib3>=1.26.0 in /opt/conda/lib/python3.10/site-packages (from PyGithub) (1.26.18)\r\n",
      "Requirement already satisfied: Deprecated in /opt/conda/lib/python3.10/site-packages (from PyGithub) (1.2.14)\r\n"
     ]
    },
    {
     "name": "stdout",
     "output_type": "stream",
     "text": [
      "Requirement already satisfied: charset-normalizer<4,>=2 in /opt/conda/lib/python3.10/site-packages (from requests) (3.3.2)\r\n",
      "Requirement already satisfied: idna<4,>=2.5 in /opt/conda/lib/python3.10/site-packages (from requests) (3.7)\r\n",
      "Requirement already satisfied: certifi>=2017.4.17 in /opt/conda/lib/python3.10/site-packages (from requests) (2024.8.30)\r\n",
      "Requirement already satisfied: cryptography>=3.4.0 in /opt/conda/lib/python3.10/site-packages (from pyjwt[crypto]>=2.4.0->PyGithub) (42.0.8)\r\n",
      "Requirement already satisfied: cffi>=1.4.1 in /opt/conda/lib/python3.10/site-packages (from pynacl>=1.4.0->PyGithub) (1.16.0)\r\n"
     ]
    },
    {
     "name": "stdout",
     "output_type": "stream",
     "text": [
      "Requirement already satisfied: wrapt<2,>=1.10 in /opt/conda/lib/python3.10/site-packages (from Deprecated->PyGithub) (1.16.0)\r\n",
      "Requirement already satisfied: pycparser in /opt/conda/lib/python3.10/site-packages (from cffi>=1.4.1->pynacl>=1.4.0->PyGithub) (2.22)\r\n"
     ]
    },
    {
     "name": "stdout",
     "output_type": "stream",
     "text": [
      "Downloading PyGithub-2.5.0-py3-none-any.whl (375 kB)\r\n",
      "\u001b[?25l   \u001b[90m━━━━━━━━━━━━━━━━━━━━━━━━━━━━━━━━━━━━━━━━\u001b[0m \u001b[32m0.0/375.9 kB\u001b[0m \u001b[31m?\u001b[0m eta \u001b[36m-:--:--\u001b[0m"
     ]
    },
    {
     "name": "stdout",
     "output_type": "stream",
     "text": [
      "\r\n",
      "\u001b[2K   \u001b[90m━━━━━━━━━━━━━━━━━━━━━━━━━━━━━━━━━━━━━━━━\u001b[0m \u001b[32m375.9/375.9 kB\u001b[0m \u001b[31m11.5 MB/s\u001b[0m eta \u001b[36m0:00:00\u001b[0m\r\n",
      "\u001b[?25hDownloading PyNaCl-1.5.0-cp36-abi3-manylinux_2_17_x86_64.manylinux2014_x86_64.manylinux_2_24_x86_64.whl (856 kB)\r\n",
      "\u001b[?25l   \u001b[90m━━━━━━━━━━━━━━━━━━━━━━━━━━━━━━━━━━━━━━━━\u001b[0m \u001b[32m0.0/856.7 kB\u001b[0m \u001b[31m?\u001b[0m eta \u001b[36m-:--:--\u001b[0m"
     ]
    },
    {
     "name": "stdout",
     "output_type": "stream",
     "text": [
      "\r\n",
      "\u001b[2K   \u001b[90m━━━━━━━━━━━━━━━━━━━━━━━━━━━━━━━━━━━━━━━━\u001b[0m \u001b[32m856.7/856.7 kB\u001b[0m \u001b[31m38.1 MB/s\u001b[0m eta \u001b[36m0:00:00\u001b[0m\r\n",
      "\u001b[?25h"
     ]
    },
    {
     "name": "stdout",
     "output_type": "stream",
     "text": [
      "Installing collected packages: pynacl, PyGithub\r\n"
     ]
    },
    {
     "name": "stdout",
     "output_type": "stream",
     "text": [
      "Successfully installed PyGithub-2.5.0 pynacl-1.5.0\r\n"
     ]
    }
   ],
   "source": [
    "! pip install PyGithub requests"
   ]
  },
  {
   "cell_type": "code",
   "execution_count": 4,
   "id": "e8ea14b4",
   "metadata": {
    "_kg_hide-input": false,
    "execution": {
     "iopub.execute_input": "2024-11-15T16:28:34.508229Z",
     "iopub.status.busy": "2024-11-15T16:28:34.507455Z",
     "iopub.status.idle": "2024-11-15T16:31:05.772157Z",
     "shell.execute_reply": "2024-11-15T16:31:05.770939Z"
    },
    "papermill": {
     "duration": 151.282588,
     "end_time": "2024-11-15T16:31:05.774675",
     "exception": false,
     "start_time": "2024-11-15T16:28:34.492087",
     "status": "completed"
    },
    "tags": []
   },
   "outputs": [
    {
     "name": "stdout",
     "output_type": "stream",
     "text": [
      "run_compile_all_cython: Found 11 Cython files in 5 folders...\r\n",
      "run_compile_all_cython: All files will be compiled using your current python environment: '/opt/conda/bin/python'\r\n",
      "Compiling [1/11]: MatrixFactorizationImpressions_Cython_Epoch.pyx... \r\n"
     ]
    },
    {
     "name": "stdout",
     "output_type": "stream",
     "text": [
      "In file included from \u001b[01m\u001b[K/opt/conda/lib/python3.10/site-packages/numpy/core/include/numpy/ndarraytypes.h:1929\u001b[m\u001b[K,\r\n",
      "                 from \u001b[01m\u001b[K/opt/conda/lib/python3.10/site-packages/numpy/core/include/numpy/ndarrayobject.h:12\u001b[m\u001b[K,\r\n",
      "                 from \u001b[01m\u001b[K/opt/conda/lib/python3.10/site-packages/numpy/core/include/numpy/arrayobject.h:5\u001b[m\u001b[K,\r\n",
      "                 from \u001b[01m\u001b[KMatrixFactorizationImpressions_Cython_Epoch.c:1252\u001b[m\u001b[K:\r\n",
      "\u001b[01m\u001b[K/opt/conda/lib/python3.10/site-packages/numpy/core/include/numpy/npy_1_7_deprecated_api.h:17:2:\u001b[m\u001b[K \u001b[01;35m\u001b[Kwarning: \u001b[m\u001b[K#warning \"Using deprecated NumPy API, disable it with \" \"#define NPY_NO_DEPRECATED_API NPY_1_7_API_VERSION\" [\u001b[01;35m\u001b[K\u001b]8;;https://gcc.gnu.org/onlinedocs/gcc/Warning-Options.html#index-Wcpp\u0007-Wcpp\u001b]8;;\u0007\u001b[m\u001b[K]\r\n",
      "   17 | #\u001b[01;35m\u001b[Kwarning\u001b[m\u001b[K \"Using deprecated NumPy API, disable it with \" \\\r\n",
      "      |  \u001b[01;35m\u001b[K^~~~~~~\u001b[m\u001b[K\r\n"
     ]
    },
    {
     "name": "stdout",
     "output_type": "stream",
     "text": [
      "\u001b[01m\u001b[KMatrixFactorizationImpressions_Cython_Epoch.c:\u001b[m\u001b[K In function '\u001b[01m\u001b[K__pyx_f_43MatrixFactorizationImpressions_Cython_Epoch_32MatrixFactorization_Cython_Epoch_sampleBPR_Cython\u001b[m\u001b[K':\r\n",
      "\u001b[01m\u001b[KMatrixFactorizationImpressions_Cython_Epoch.c:30351:17:\u001b[m\u001b[K \u001b[01;35m\u001b[Kwarning: \u001b[m\u001b[K'\u001b[01m\u001b[K__pyx_v_start_pos_impression_items\u001b[m\u001b[K' may be used uninitialized in this function [\u001b[01;35m\u001b[K\u001b]8;;https://gcc.gnu.org/onlinedocs/gcc/Warning-Options.html#index-Wmaybe-uninitialized\u0007-Wmaybe-uninitialized\u001b]8;;\u0007\u001b[m\u001b[K]\r\n",
      "30351 |       \u001b[01;35m\u001b[K__pyx_t_4 = (__pyx_v_start_pos_impression_items + __pyx_v_index)\u001b[m\u001b[K;\r\n",
      "      |       \u001b[01;35m\u001b[K~~~~~~~~~~^~~~~~~~~~~~~~~~~~~~~~~~~~~~~~~~~~~~~~~~~~~~~~~~~~~~~~\u001b[m\u001b[K\r\n"
     ]
    },
    {
     "name": "stdout",
     "output_type": "stream",
     "text": [
      "\u001b[01m\u001b[KMatrixFactorizationImpressions_Cython_Epoch.c:\u001b[m\u001b[K In function '\u001b[01m\u001b[K__pyx_pf_43MatrixFactorizationImpressions_Cython_Epoch_32MatrixFactorization_Cython_Epoch_10epochIteration_Cython_ASY_SVD_SGD\u001b[m\u001b[K':\r\n",
      "\u001b[01m\u001b[KMatrixFactorizationImpressions_Cython_Epoch.c:26111:66:\u001b[m\u001b[K \u001b[01;35m\u001b[Kwarning: \u001b[m\u001b[K'\u001b[01m\u001b[K__pyx_v_end_pos_seen_items\u001b[m\u001b[K' may be used uninitialized in this function [\u001b[01;35m\u001b[K\u001b]8;;https://gcc.gnu.org/onlinedocs/gcc/Warning-Options.html#index-Wmaybe-uninitialized\u0007-Wmaybe-uninitialized\u001b]8;;\u0007\u001b[m\u001b[K]\r\n",
      "26111 |  for (__pyx_t_21 = __pyx_v_start_pos_seen_items; \u001b[01;35m\u001b[K__pyx_t_21 < __pyx_t_20\u001b[m\u001b[K; __pyx_t_21+=1) {\r\n",
      "      |                                                  \u001b[01;35m\u001b[K~~~~~~~~~~~^~~~~~~~~~~~\u001b[m\u001b[K\r\n",
      "\r\n",
      "\u001b[01m\u001b[KMatrixFactorizationImpressions_Cython_Epoch.c:26111:66:\u001b[m\u001b[K \u001b[01;35m\u001b[Kwarning: \u001b[m\u001b[K'\u001b[01m\u001b[K__pyx_v_start_pos_seen_items\u001b[m\u001b[K' may be used uninitialized in this function [\u001b[01;35m\u001b[K\u001b]8;;https://gcc.gnu.org/onlinedocs/gcc/Warning-Options.html#index-Wmaybe-uninitialized\u0007-Wmaybe-uninitialized\u001b]8;;\u0007\u001b[m\u001b[K]\r\n"
     ]
    },
    {
     "name": "stdout",
     "output_type": "stream",
     "text": [
      "/opt/conda/lib/python3.10/site-packages/Cython/Compiler/Main.py:381: FutureWarning: Cython directive 'language_level' not set, using '3str' for now (Py3). This has changed from earlier releases! File: /kaggle/working/RECsys_Challenge2024/Recommenders/MatrixFactorization/Cython/MatrixFactorizationImpressions_Cython_Epoch.pyx\r\n",
      "  tree = Parsing.p_module(s, pxd, full_module_name)\r\n"
     ]
    },
    {
     "name": "stdout",
     "output_type": "stream",
     "text": [
      "Compiling [1/11]: MatrixFactorizationImpressions_Cython_Epoch.pyx... PASS\r\n",
      "\r\n",
      "Compiling [2/11]: MatrixFactorization_Cython_Epoch.pyx... \r\n"
     ]
    },
    {
     "name": "stdout",
     "output_type": "stream",
     "text": [
      "In file included from \u001b[01m\u001b[K/opt/conda/lib/python3.10/site-packages/numpy/core/include/numpy/ndarraytypes.h:1929\u001b[m\u001b[K,\r\n",
      "                 from \u001b[01m\u001b[K/opt/conda/lib/python3.10/site-packages/numpy/core/include/numpy/ndarrayobject.h:12\u001b[m\u001b[K,\r\n",
      "                 from \u001b[01m\u001b[K/opt/conda/lib/python3.10/site-packages/numpy/core/include/numpy/arrayobject.h:5\u001b[m\u001b[K,\r\n",
      "                 from \u001b[01m\u001b[KMatrixFactorization_Cython_Epoch.c:1252\u001b[m\u001b[K:\r\n",
      "\u001b[01m\u001b[K/opt/conda/lib/python3.10/site-packages/numpy/core/include/numpy/npy_1_7_deprecated_api.h:17:2:\u001b[m\u001b[K \u001b[01;35m\u001b[Kwarning: \u001b[m\u001b[K#warning \"Using deprecated NumPy API, disable it with \" \"#define NPY_NO_DEPRECATED_API NPY_1_7_API_VERSION\" [\u001b[01;35m\u001b[K\u001b]8;;https://gcc.gnu.org/onlinedocs/gcc/Warning-Options.html#index-Wcpp\u0007-Wcpp\u001b]8;;\u0007\u001b[m\u001b[K]\r\n",
      "   17 | #\u001b[01;35m\u001b[Kwarning\u001b[m\u001b[K \"Using deprecated NumPy API, disable it with \" \\\r\n",
      "      |  \u001b[01;35m\u001b[K^~~~~~~\u001b[m\u001b[K\r\n"
     ]
    },
    {
     "name": "stdout",
     "output_type": "stream",
     "text": [
      "\u001b[01m\u001b[KMatrixFactorization_Cython_Epoch.c:\u001b[m\u001b[K In function '\u001b[01m\u001b[K__pyx_pf_32MatrixFactorization_Cython_Epoch_32MatrixFactorization_Cython_Epoch_10epochIteration_Cython_ASY_SVD_SGD\u001b[m\u001b[K':\r\n",
      "\u001b[01m\u001b[KMatrixFactorization_Cython_Epoch.c:26255:68:\u001b[m\u001b[K \u001b[01;35m\u001b[Kwarning: \u001b[m\u001b[K'\u001b[01m\u001b[K__pyx_v_end_pos_seen_items\u001b[m\u001b[K' may be used uninitialized in this function [\u001b[01;35m\u001b[K\u001b]8;;https://gcc.gnu.org/onlinedocs/gcc/Warning-Options.html#index-Wmaybe-uninitialized\u0007-Wmaybe-uninitialized\u001b]8;;\u0007\u001b[m\u001b[K]\r\n",
      "26255 |  for (__pyx_t_21 = __pyx_v_start_pos_seen_items; \u001b[01;35m\u001b[K__pyx_t_21 < __pyx_t_20\u001b[m\u001b[K; __pyx_t_21+=1) {\r\n",
      "      |                                                  \u001b[01;35m\u001b[K~~~~~~~~~~~^~~~~~~~~~~~\u001b[m\u001b[K\r\n",
      "\r\n",
      "\u001b[01m\u001b[KMatrixFactorization_Cython_Epoch.c:26255:68:\u001b[m\u001b[K \u001b[01;35m\u001b[Kwarning: \u001b[m\u001b[K'\u001b[01m\u001b[K__pyx_v_start_pos_seen_items\u001b[m\u001b[K' may be used uninitialized in this function [\u001b[01;35m\u001b[K\u001b]8;;https://gcc.gnu.org/onlinedocs/gcc/Warning-Options.html#index-Wmaybe-uninitialized\u0007-Wmaybe-uninitialized\u001b]8;;\u0007\u001b[m\u001b[K]\r\n"
     ]
    },
    {
     "name": "stdout",
     "output_type": "stream",
     "text": [
      "/opt/conda/lib/python3.10/site-packages/Cython/Compiler/Main.py:381: FutureWarning: Cython directive 'language_level' not set, using '3str' for now (Py3). This has changed from earlier releases! File: /kaggle/working/RECsys_Challenge2024/Recommenders/MatrixFactorization/Cython/MatrixFactorization_Cython_Epoch.pyx\r\n",
      "  tree = Parsing.p_module(s, pxd, full_module_name)\r\n"
     ]
    },
    {
     "name": "stdout",
     "output_type": "stream",
     "text": [
      "Compiling [2/11]: MatrixFactorization_Cython_Epoch.pyx... PASS\r\n",
      "\r\n",
      "Compiling [3/11]: Compute_Similarity_Cython.pyx... \r\n"
     ]
    },
    {
     "name": "stdout",
     "output_type": "stream",
     "text": [
      "warning: Compute_Similarity_Cython.pyx:21:0: The 'IF' statement is deprecated and will be removed in a future Cython version. Consider using runtime conditions or C macros instead. See https://github.com/cython/cython/issues/4310\r\n"
     ]
    },
    {
     "name": "stdout",
     "output_type": "stream",
     "text": [
      "In file included from \u001b[01m\u001b[K/opt/conda/lib/python3.10/site-packages/numpy/core/include/numpy/ndarraytypes.h:1929\u001b[m\u001b[K,\r\n",
      "                 from \u001b[01m\u001b[K/opt/conda/lib/python3.10/site-packages/numpy/core/include/numpy/ndarrayobject.h:12\u001b[m\u001b[K,\r\n",
      "                 from \u001b[01m\u001b[K/opt/conda/lib/python3.10/site-packages/numpy/core/include/numpy/arrayobject.h:5\u001b[m\u001b[K,\r\n",
      "                 from \u001b[01m\u001b[KCompute_Similarity_Cython.c:1252\u001b[m\u001b[K:\r\n",
      "\u001b[01m\u001b[K/opt/conda/lib/python3.10/site-packages/numpy/core/include/numpy/npy_1_7_deprecated_api.h:17:2:\u001b[m\u001b[K \u001b[01;35m\u001b[Kwarning: \u001b[m\u001b[K#warning \"Using deprecated NumPy API, disable it with \" \"#define NPY_NO_DEPRECATED_API NPY_1_7_API_VERSION\" [\u001b[01;35m\u001b[K\u001b]8;;https://gcc.gnu.org/onlinedocs/gcc/Warning-Options.html#index-Wcpp\u0007-Wcpp\u001b]8;;\u0007\u001b[m\u001b[K]\r\n",
      "   17 | #\u001b[01;35m\u001b[Kwarning\u001b[m\u001b[K \"Using deprecated NumPy API, disable it with \" \\\r\n",
      "      |  \u001b[01;35m\u001b[K^~~~~~~\u001b[m\u001b[K\r\n"
     ]
    },
    {
     "name": "stdout",
     "output_type": "stream",
     "text": [
      "/opt/conda/lib/python3.10/site-packages/Cython/Compiler/Main.py:381: FutureWarning: Cython directive 'language_level' not set, using '3str' for now (Py3). This has changed from earlier releases! File: /kaggle/working/RECsys_Challenge2024/Recommenders/Similarity/Cython/Compute_Similarity_Cython.pyx\r\n",
      "  tree = Parsing.p_module(s, pxd, full_module_name)\r\n",
      "warning: Compute_Similarity_Cython.pyx:21:0: The 'IF' statement is deprecated and will be removed in a future Cython version. Consider using runtime conditions or C macros instead. See https://github.com/cython/cython/issues/4310\r\n"
     ]
    },
    {
     "name": "stdout",
     "output_type": "stream",
     "text": [
      "Compiling [3/11]: Compute_Similarity_Cython.pyx... PASS\r\n",
      "\r\n",
      "Compiling [4/11]: SLIM_BPR_Cython_Epoch.pyx... \r\n"
     ]
    },
    {
     "name": "stdout",
     "output_type": "stream",
     "text": [
      "warning: SLIM_BPR_Cython_Epoch.pyx:24:0: The 'IF' statement is deprecated and will be removed in a future Cython version. Consider using runtime conditions or C macros instead. See https://github.com/cython/cython/issues/4310\r\n"
     ]
    },
    {
     "name": "stdout",
     "output_type": "stream",
     "text": [
      "warning: SLIM_BPR_Cython_Epoch.pyx:632:34: Non-trivial type declarators in shared declaration (e.g. mix of pointers and values). Each pointer declaration should be on its own line.\r\n",
      "warning: SLIM_BPR_Cython_Epoch.pyx:632:66: Non-trivial type declarators in shared declaration (e.g. mix of pointers and values). Each pointer declaration should be on its own line.\r\n",
      "warning: SLIM_BPR_Cython_Epoch.pyx:817:35: Non-trivial type declarators in shared declaration (e.g. mix of pointers and values). Each pointer declaration should be on its own line.\r\n",
      "warning: SLIM_BPR_Cython_Epoch.pyx:817:52: Non-trivial type declarators in shared declaration (e.g. mix of pointers and values). Each pointer declaration should be on its own line.\r\n",
      "warning: SLIM_BPR_Cython_Epoch.pyx:916:35: Non-trivial type declarators in shared declaration (e.g. mix of pointers and values). Each pointer declaration should be on its own line.\r\n",
      "warning: SLIM_BPR_Cython_Epoch.pyx:916:53: Non-trivial type declarators in shared declaration (e.g. mix of pointers and values). Each pointer declaration should be on its own line.\r\n",
      "warning: SLIM_BPR_Cython_Epoch.pyx:916:69: Non-trivial type declarators in shared declaration (e.g. mix of pointers and values). Each pointer declaration should be on its own line.\r\n",
      "warning: SLIM_BPR_Cython_Epoch.pyx:1051:35: Non-trivial type declarators in shared declaration (e.g. mix of pointers and values). Each pointer declaration should be on its own line.\r\n",
      "warning: SLIM_BPR_Cython_Epoch.pyx:1051:42: Non-trivial type declarators in shared declaration (e.g. mix of pointers and values). Each pointer declaration should be on its own line.\r\n",
      "warning: SLIM_BPR_Cython_Epoch.pyx:1052:35: Non-trivial type declarators in shared declaration (e.g. mix of pointers and values). Each pointer declaration should be on its own line.\r\n",
      "warning: SLIM_BPR_Cython_Epoch.pyx:1052:53: Non-trivial type declarators in shared declaration (e.g. mix of pointers and values). Each pointer declaration should be on its own line.\r\n"
     ]
    },
    {
     "name": "stdout",
     "output_type": "stream",
     "text": [
      "\r\n",
      "Error compiling Cython file:\r\n",
      "------------------------------------------------------------\r\n",
      "...\r\n",
      "            vector_pointer_to_list_elements[index].head = current_element\r\n",
      "            current_element = current_element.higher\r\n",
      "\r\n",
      "\r\n",
      "        # Sort array elements on their data field\r\n",
      "        qsort(vector_pointer_to_list_elements, list_length, sizeof(head_pointer_tree_s), compare_struct_on_data)\r\n",
      "                                                                                         ^\r\n",
      "------------------------------------------------------------\r\n",
      "\r\n",
      "SLIM_BPR_Cython_Epoch.pyx:990:89: Cannot assign type 'int (const void *, const void *) except? -1' to 'int (*)(const_void *, const_void *) noexcept'. Exception values are incompatible. Suggest adding 'noexcept' to the type of 'compare_struct_on_data'.\r\n",
      "\r\n",
      "Error compiling Cython file:\r\n",
      "------------------------------------------------------------\r\n",
      "...\r\n",
      "        # Sort array elements on their data field\r\n",
      "        qsort(vector_pointer_to_list_elements, list_length, sizeof(head_pointer_tree_s), compare_struct_on_data)\r\n",
      "\r\n",
      "        # Sort only the TopK according to their column field\r\n",
      "        # Sort is from lower to higher, therefore the elements to be considered are from len-topK to len\r\n",
      "        qsort(&vector_pointer_to_list_elements[list_length-TopK], TopK, sizeof(head_pointer_tree_s), compare_struct_on_column)\r\n",
      "                                                                                                     ^\r\n",
      "------------------------------------------------------------\r\n",
      "\r\n",
      "SLIM_BPR_Cython_Epoch.pyx:994:101: Cannot assign type 'int (const void *, const void *) except? -1' to 'int (*)(const_void *, const_void *) noexcept'. Exception values are incompatible. Suggest adding 'noexcept' to the type of 'compare_struct_on_column'.\r\n"
     ]
    },
    {
     "name": "stdout",
     "output_type": "stream",
     "text": [
      "Traceback (most recent call last):\r\n",
      "  File \"/kaggle/working/RECsys_Challenge2024/CythonCompiler/compile_script.py\", line 48, in <module>\r\n",
      "    setup(\r\n",
      "  File \"/opt/conda/lib/python3.10/site-packages/setuptools/__init__.py\", line 103, in setup\r\n",
      "    return distutils.core.setup(**attrs)\r\n",
      "  File \"/opt/conda/lib/python3.10/site-packages/setuptools/_distutils/core.py\", line 184, in setup\r\n",
      "    return run_commands(dist)\r\n",
      "  File \"/opt/conda/lib/python3.10/site-packages/setuptools/_distutils/core.py\", line 200, in run_commands\r\n",
      "    dist.run_commands()\r\n",
      "  File \"/opt/conda/lib/python3.10/site-packages/setuptools/_distutils/dist.py\", line 969, in run_commands\r\n",
      "    self.run_command(cmd)\r\n",
      "  File \"/opt/conda/lib/python3.10/site-packages/setuptools/dist.py\", line 968, in run_command\r\n",
      "    super().run_command(command)\r\n",
      "  File \"/opt/conda/lib/python3.10/site-packages/setuptools/_distutils/dist.py\", line 988, in run_command\r\n",
      "    cmd_obj.run()\r\n",
      "  File \"/opt/conda/lib/python3.10/site-packages/setuptools/_distutils/command/build_ext.py\", line 359, in run\r\n",
      "    self.build_extensions()\r\n",
      "  File \"/opt/conda/lib/python3.10/site-packages/setuptools/_distutils/command/build_ext.py\", line 479, in build_extensions\r\n",
      "    self._build_extensions_serial()\r\n",
      "  File \"/opt/conda/lib/python3.10/site-packages/setuptools/_distutils/command/build_ext.py\", line 505, in _build_extensions_serial\r\n",
      "    self.build_extension(ext)\r\n",
      "  File \"/opt/conda/lib/python3.10/site-packages/Cython/Distutils/build_ext.py\", line 130, in build_extension\r\n",
      "    new_ext = cythonize(\r\n",
      "  File \"/opt/conda/lib/python3.10/site-packages/Cython/Build/Dependencies.py\", line 1154, in cythonize\r\n",
      "    cythonize_one(*args)\r\n",
      "  File \"/opt/conda/lib/python3.10/site-packages/Cython/Build/Dependencies.py\", line 1321, in cythonize_one\r\n",
      "    raise CompileError(None, pyx_file)\r\n",
      "Cython.Compiler.Errors.CompileError: SLIM_BPR_Cython_Epoch.pyx\r\n"
     ]
    },
    {
     "name": "stdout",
     "output_type": "stream",
     "text": [
      "Traceback (most recent call last):\r\n",
      "  File \"/kaggle/working/RECsys_Challenge2024/run_compile_all_cython.py\", line 60, in <module>\r\n",
      "    run_compile_subprocess(file_path, [file_name])\r\n",
      "  File \"/kaggle/working/RECsys_Challenge2024/CythonCompiler/run_compile_subprocess.py\", line 51, in run_compile_subprocess\r\n",
      "    raise exc\r\n",
      "  File \"/kaggle/working/RECsys_Challenge2024/CythonCompiler/run_compile_subprocess.py\", line 32, in run_compile_subprocess\r\n",
      "    output = subprocess.check_output(' '.join(command),\r\n",
      "  File \"/opt/conda/lib/python3.10/subprocess.py\", line 421, in check_output\r\n",
      "    return run(*popenargs, stdout=PIPE, timeout=timeout, check=True,\r\n",
      "  File \"/opt/conda/lib/python3.10/subprocess.py\", line 526, in run\r\n",
      "    raise CalledProcessError(retcode, process.args,\r\n",
      "subprocess.CalledProcessError: Command '/opt/conda/bin/python /kaggle/working/RECsys_Challenge2024/CythonCompiler/compile_script.py SLIM_BPR_Cython_Epoch.pyx build_ext --inplace' returned non-zero exit status 1.\r\n",
      "Compiling [4/11]: SLIM_BPR_Cython_Epoch.pyx... FAIL: Command '/opt/conda/bin/python /kaggle/working/RECsys_Challenge2024/CythonCompiler/compile_script.py SLIM_BPR_Cython_Epoch.pyx build_ext --inplace' returned non-zero exit status 1.\r\n",
      "\r\n",
      "Compiling [5/11]: Triangular_Matrix.pyx... \r\n"
     ]
    },
    {
     "name": "stdout",
     "output_type": "stream",
     "text": [
      "warning: Triangular_Matrix.pyx:22:0: The 'IF' statement is deprecated and will be removed in a future Cython version. Consider using runtime conditions or C macros instead. See https://github.com/cython/cython/issues/4310\r\n"
     ]
    },
    {
     "name": "stdout",
     "output_type": "stream",
     "text": [
      "In file included from \u001b[01m\u001b[K/opt/conda/lib/python3.10/site-packages/numpy/core/include/numpy/ndarraytypes.h:1929\u001b[m\u001b[K,\r\n",
      "                 from \u001b[01m\u001b[K/opt/conda/lib/python3.10/site-packages/numpy/core/include/numpy/ndarrayobject.h:12\u001b[m\u001b[K,\r\n",
      "                 from \u001b[01m\u001b[K/opt/conda/lib/python3.10/site-packages/numpy/core/include/numpy/arrayobject.h:5\u001b[m\u001b[K,\r\n",
      "                 from \u001b[01m\u001b[KTriangular_Matrix.c:1252\u001b[m\u001b[K:\r\n",
      "\u001b[01m\u001b[K/opt/conda/lib/python3.10/site-packages/numpy/core/include/numpy/npy_1_7_deprecated_api.h:17:2:\u001b[m\u001b[K \u001b[01;35m\u001b[Kwarning: \u001b[m\u001b[K#warning \"Using deprecated NumPy API, disable it with \" \"#define NPY_NO_DEPRECATED_API NPY_1_7_API_VERSION\" [\u001b[01;35m\u001b[K\u001b]8;;https://gcc.gnu.org/onlinedocs/gcc/Warning-Options.html#index-Wcpp\u0007-Wcpp\u001b]8;;\u0007\u001b[m\u001b[K]\r\n",
      "   17 | #\u001b[01;35m\u001b[Kwarning\u001b[m\u001b[K \"Using deprecated NumPy API, disable it with \" \\\r\n",
      "      |  \u001b[01;35m\u001b[K^~~~~~~\u001b[m\u001b[K\r\n"
     ]
    },
    {
     "name": "stdout",
     "output_type": "stream",
     "text": [
      "In function '\u001b[01m\u001b[K__pyx_pf_17Triangular_Matrix_17Triangular_Matrix___init__\u001b[m\u001b[K',\r\n",
      "    inlined from '\u001b[01m\u001b[K__pyx_pw_17Triangular_Matrix_17Triangular_Matrix_1__init__\u001b[m\u001b[K' at \u001b[01m\u001b[KTriangular_Matrix.c:5541:13\u001b[m\u001b[K:\r\n",
      "\u001b[01m\u001b[KTriangular_Matrix.c:5599:43:\u001b[m\u001b[K \u001b[01;35m\u001b[Kwarning: \u001b[m\u001b[Kargument 1 value '\u001b[01m\u001b[K18446744073709551608\u001b[m\u001b[K' exceeds maximum object size 9223372036854775807 [\u001b[01;35m\u001b[K\u001b]8;;https://gcc.gnu.org/onlinedocs/gcc/Warning-Options.html#index-Walloc-size-larger-than=\u0007-Walloc-size-larger-than=\u001b]8;;\u0007\u001b[m\u001b[K]\r\n",
      " 5599 |   __pyx_v_self->row_pointer = ((double **)\u001b[01;35m\u001b[Kmalloc((__pyx_v_self->num_rows * (sizeof(double *))))\u001b[m\u001b[K);\r\n",
      "      |                                           \u001b[01;35m\u001b[K^~~~~~~~~~~~~~~~~~~~~~~~~~~~~~~~~~~~~~~~~~~~~~~~~~~~~\u001b[m\u001b[K\r\n",
      "In file included from \u001b[01m\u001b[K/opt/conda/include/python3.10/Python.h:34\u001b[m\u001b[K,\r\n",
      "                 from \u001b[01m\u001b[KTriangular_Matrix.c:41\u001b[m\u001b[K:\r\n",
      "\u001b[01m\u001b[KTriangular_Matrix.c:\u001b[m\u001b[K In function '\u001b[01m\u001b[K__pyx_pw_17Triangular_Matrix_17Triangular_Matrix_1__init__\u001b[m\u001b[K':\r\n",
      "\u001b[01m\u001b[K/usr/include/stdlib.h:540:14:\u001b[m\u001b[K \u001b[01;36m\u001b[Knote: \u001b[m\u001b[Kin a call to allocation function '\u001b[01m\u001b[Kmalloc\u001b[m\u001b[K' declared here\r\n",
      "  540 | extern void *\u001b[01;36m\u001b[Kmalloc\u001b[m\u001b[K (size_t __size) __THROW __attribute_malloc__\r\n",
      "      |              \u001b[01;36m\u001b[K^~~~~~\u001b[m\u001b[K\r\n"
     ]
    },
    {
     "name": "stdout",
     "output_type": "stream",
     "text": [
      "/opt/conda/lib/python3.10/site-packages/Cython/Compiler/Main.py:381: FutureWarning: Cython directive 'language_level' not set, using '3str' for now (Py3). This has changed from earlier releases! File: /kaggle/working/RECsys_Challenge2024/Recommenders/SLIM/Cython/Triangular_Matrix.pyx\r\n",
      "  tree = Parsing.p_module(s, pxd, full_module_name)\r\n",
      "warning: Triangular_Matrix.pyx:22:0: The 'IF' statement is deprecated and will be removed in a future Cython version. Consider using runtime conditions or C macros instead. See https://github.com/cython/cython/issues/4310\r\n"
     ]
    },
    {
     "name": "stdout",
     "output_type": "stream",
     "text": [
      "Compiling [5/11]: Triangular_Matrix.pyx... PASS\r\n",
      "\r\n",
      "Compiling [6/11]: Sparse_Matrix_Tree_CSR.pyx... \r\n"
     ]
    },
    {
     "name": "stdout",
     "output_type": "stream",
     "text": [
      "warning: Sparse_Matrix_Tree_CSR.pyx:132:34: Non-trivial type declarators in shared declaration (e.g. mix of pointers and values). Each pointer declaration should be on its own line.\r\n",
      "warning: Sparse_Matrix_Tree_CSR.pyx:132:66: Non-trivial type declarators in shared declaration (e.g. mix of pointers and values). Each pointer declaration should be on its own line.\r\n",
      "warning: Sparse_Matrix_Tree_CSR.pyx:343:35: Non-trivial type declarators in shared declaration (e.g. mix of pointers and values). Each pointer declaration should be on its own line.\r\n",
      "warning: Sparse_Matrix_Tree_CSR.pyx:343:52: Non-trivial type declarators in shared declaration (e.g. mix of pointers and values). Each pointer declaration should be on its own line.\r\n",
      "warning: Sparse_Matrix_Tree_CSR.pyx:442:35: Non-trivial type declarators in shared declaration (e.g. mix of pointers and values). Each pointer declaration should be on its own line.\r\n",
      "warning: Sparse_Matrix_Tree_CSR.pyx:442:53: Non-trivial type declarators in shared declaration (e.g. mix of pointers and values). Each pointer declaration should be on its own line.\r\n",
      "warning: Sparse_Matrix_Tree_CSR.pyx:442:69: Non-trivial type declarators in shared declaration (e.g. mix of pointers and values). Each pointer declaration should be on its own line.\r\n",
      "warning: Sparse_Matrix_Tree_CSR.pyx:577:35: Non-trivial type declarators in shared declaration (e.g. mix of pointers and values). Each pointer declaration should be on its own line.\r\n",
      "warning: Sparse_Matrix_Tree_CSR.pyx:577:42: Non-trivial type declarators in shared declaration (e.g. mix of pointers and values). Each pointer declaration should be on its own line.\r\n",
      "warning: Sparse_Matrix_Tree_CSR.pyx:578:35: Non-trivial type declarators in shared declaration (e.g. mix of pointers and values). Each pointer declaration should be on its own line.\r\n",
      "warning: Sparse_Matrix_Tree_CSR.pyx:578:53: Non-trivial type declarators in shared declaration (e.g. mix of pointers and values). Each pointer declaration should be on its own line.\r\n"
     ]
    },
    {
     "name": "stdout",
     "output_type": "stream",
     "text": [
      "\r\n",
      "Error compiling Cython file:\r\n",
      "------------------------------------------------------------\r\n",
      "...\r\n",
      "            vector_pointer_to_list_elements[index].head = current_element\r\n",
      "            current_element = current_element.higher\r\n",
      "\r\n",
      "\r\n",
      "        # Sort array elements on their data field\r\n",
      "        qsort(vector_pointer_to_list_elements, list_length, sizeof(head_pointer_tree_s), compare_struct_on_data)\r\n",
      "                                                                                         ^\r\n",
      "------------------------------------------------------------\r\n",
      "\r\n",
      "Sparse_Matrix_Tree_CSR.pyx:516:89: Cannot assign type 'int (const void *, const void *) except? -1' to 'int (*)(const_void *, const_void *) noexcept'. Exception values are incompatible. Suggest adding 'noexcept' to the type of 'compare_struct_on_data'.\r\n",
      "\r\n",
      "Error compiling Cython file:\r\n",
      "------------------------------------------------------------\r\n",
      "...\r\n",
      "        # Sort array elements on their data field\r\n",
      "        qsort(vector_pointer_to_list_elements, list_length, sizeof(head_pointer_tree_s), compare_struct_on_data)\r\n",
      "\r\n",
      "        # Sort only the TopK according to their column field\r\n",
      "        # Sort is from lower to higher, therefore the elements to be considered are from len-topK to len\r\n",
      "        qsort(&vector_pointer_to_list_elements[list_length-TopK], TopK, sizeof(head_pointer_tree_s), compare_struct_on_column)\r\n",
      "                                                                                                     ^\r\n",
      "------------------------------------------------------------\r\n",
      "\r\n",
      "Sparse_Matrix_Tree_CSR.pyx:520:101: Cannot assign type 'int (const void *, const void *) except? -1' to 'int (*)(const_void *, const_void *) noexcept'. Exception values are incompatible. Suggest adding 'noexcept' to the type of 'compare_struct_on_column'.\r\n"
     ]
    },
    {
     "name": "stdout",
     "output_type": "stream",
     "text": [
      "Traceback (most recent call last):\r\n",
      "  File \"/kaggle/working/RECsys_Challenge2024/CythonCompiler/compile_script.py\", line 48, in <module>\r\n",
      "    setup(\r\n",
      "  File \"/opt/conda/lib/python3.10/site-packages/setuptools/__init__.py\", line 103, in setup\r\n",
      "    return distutils.core.setup(**attrs)\r\n",
      "  File \"/opt/conda/lib/python3.10/site-packages/setuptools/_distutils/core.py\", line 184, in setup\r\n",
      "    return run_commands(dist)\r\n",
      "  File \"/opt/conda/lib/python3.10/site-packages/setuptools/_distutils/core.py\", line 200, in run_commands\r\n",
      "    dist.run_commands()\r\n",
      "  File \"/opt/conda/lib/python3.10/site-packages/setuptools/_distutils/dist.py\", line 969, in run_commands\r\n",
      "    self.run_command(cmd)\r\n",
      "  File \"/opt/conda/lib/python3.10/site-packages/setuptools/dist.py\", line 968, in run_command\r\n",
      "    super().run_command(command)\r\n",
      "  File \"/opt/conda/lib/python3.10/site-packages/setuptools/_distutils/dist.py\", line 988, in run_command\r\n",
      "    cmd_obj.run()\r\n",
      "  File \"/opt/conda/lib/python3.10/site-packages/setuptools/_distutils/command/build_ext.py\", line 359, in run\r\n",
      "    self.build_extensions()\r\n",
      "  File \"/opt/conda/lib/python3.10/site-packages/setuptools/_distutils/command/build_ext.py\", line 479, in build_extensions\r\n",
      "    self._build_extensions_serial()\r\n",
      "  File \"/opt/conda/lib/python3.10/site-packages/setuptools/_distutils/command/build_ext.py\", line 505, in _build_extensions_serial\r\n",
      "    self.build_extension(ext)\r\n",
      "  File \"/opt/conda/lib/python3.10/site-packages/Cython/Distutils/build_ext.py\", line 130, in build_extension\r\n",
      "    new_ext = cythonize(\r\n",
      "  File \"/opt/conda/lib/python3.10/site-packages/Cython/Build/Dependencies.py\", line 1154, in cythonize\r\n",
      "    cythonize_one(*args)\r\n",
      "  File \"/opt/conda/lib/python3.10/site-packages/Cython/Build/Dependencies.py\", line 1321, in cythonize_one\r\n",
      "    raise CompileError(None, pyx_file)\r\n",
      "Cython.Compiler.Errors.CompileError: Sparse_Matrix_Tree_CSR.pyx\r\n"
     ]
    },
    {
     "name": "stdout",
     "output_type": "stream",
     "text": [
      "Traceback (most recent call last):\r\n",
      "  File \"/kaggle/working/RECsys_Challenge2024/run_compile_all_cython.py\", line 60, in <module>\r\n",
      "    run_compile_subprocess(file_path, [file_name])\r\n",
      "  File \"/kaggle/working/RECsys_Challenge2024/CythonCompiler/run_compile_subprocess.py\", line 51, in run_compile_subprocess\r\n",
      "    raise exc\r\n",
      "  File \"/kaggle/working/RECsys_Challenge2024/CythonCompiler/run_compile_subprocess.py\", line 32, in run_compile_subprocess\r\n",
      "    output = subprocess.check_output(' '.join(command),\r\n",
      "  File \"/opt/conda/lib/python3.10/subprocess.py\", line 421, in check_output\r\n",
      "    return run(*popenargs, stdout=PIPE, timeout=timeout, check=True,\r\n",
      "  File \"/opt/conda/lib/python3.10/subprocess.py\", line 526, in run\r\n",
      "    raise CalledProcessError(retcode, process.args,\r\n",
      "subprocess.CalledProcessError: Command '/opt/conda/bin/python /kaggle/working/RECsys_Challenge2024/CythonCompiler/compile_script.py Sparse_Matrix_Tree_CSR.pyx build_ext --inplace' returned non-zero exit status 1.\r\n",
      "Compiling [6/11]: Sparse_Matrix_Tree_CSR.pyx... FAIL: Command '/opt/conda/bin/python /kaggle/working/RECsys_Challenge2024/CythonCompiler/compile_script.py Sparse_Matrix_Tree_CSR.pyx build_ext --inplace' returned non-zero exit status 1.\r\n",
      "\r\n",
      "Compiling [7/11]: FBSM_Rating_Cython_SGD.pyx... \r\n"
     ]
    },
    {
     "name": "stdout",
     "output_type": "stream",
     "text": [
      "In file included from \u001b[01m\u001b[K/opt/conda/lib/python3.10/site-packages/numpy/core/include/numpy/ndarraytypes.h:1929\u001b[m\u001b[K,\r\n",
      "                 from \u001b[01m\u001b[K/opt/conda/lib/python3.10/site-packages/numpy/core/include/numpy/ndarrayobject.h:12\u001b[m\u001b[K,\r\n",
      "                 from \u001b[01m\u001b[K/opt/conda/lib/python3.10/site-packages/numpy/core/include/numpy/arrayobject.h:5\u001b[m\u001b[K,\r\n",
      "                 from \u001b[01m\u001b[KFBSM_Rating_Cython_SGD.c:1252\u001b[m\u001b[K:\r\n",
      "\u001b[01m\u001b[K/opt/conda/lib/python3.10/site-packages/numpy/core/include/numpy/npy_1_7_deprecated_api.h:17:2:\u001b[m\u001b[K \u001b[01;35m\u001b[Kwarning: \u001b[m\u001b[K#warning \"Using deprecated NumPy API, disable it with \" \"#define NPY_NO_DEPRECATED_API NPY_1_7_API_VERSION\" [\u001b[01;35m\u001b[K\u001b]8;;https://gcc.gnu.org/onlinedocs/gcc/Warning-Options.html#index-Wcpp\u0007-Wcpp\u001b]8;;\u0007\u001b[m\u001b[K]\r\n",
      "   17 | #\u001b[01;35m\u001b[Kwarning\u001b[m\u001b[K \"Using deprecated NumPy API, disable it with \" \\\r\n",
      "      |  \u001b[01;35m\u001b[K^~~~~~~\u001b[m\u001b[K\r\n"
     ]
    },
    {
     "name": "stdout",
     "output_type": "stream",
     "text": [
      "\u001b[01m\u001b[KFBSM_Rating_Cython_SGD.c:\u001b[m\u001b[K In function '\u001b[01m\u001b[K__pyx_pf_22FBSM_Rating_Cython_SGD_22FBSM_Rating_Cython_SGD_2fit\u001b[m\u001b[K':\r\n",
      "\u001b[01m\u001b[KFBSM_Rating_Cython_SGD.c:26607:55:\u001b[m\u001b[K \u001b[01;35m\u001b[Kwarning: \u001b[m\u001b[K'\u001b[01m\u001b[K__pyx_v_num_sample\u001b[m\u001b[K' may be used uninitialized in this function [\u001b[01;35m\u001b[K\u001b]8;;https://gcc.gnu.org/onlinedocs/gcc/Warning-Options.html#index-Wmaybe-uninitialized\u0007-Wmaybe-uninitialized\u001b]8;;\u0007\u001b[m\u001b[K]\r\n",
      "26607 |   __pyx_t_5 = PyFloat_FromDouble((__pyx_v_cum_loss / \u001b[01;35m\u001b[K((double)__pyx_v_num_sample)\u001b[m\u001b[K)); if (unlikely(!__pyx_t_5)) __PYX_ERR(0, 551, __pyx_L1_error)\r\n",
      "      |                                                      \u001b[01;35m\u001b[K~^~~~~~~~~~~~~~~~~~~~~~~~~~~\u001b[m\u001b[K\r\n"
     ]
    },
    {
     "name": "stdout",
     "output_type": "stream",
     "text": [
      "/opt/conda/lib/python3.10/site-packages/Cython/Compiler/Main.py:381: FutureWarning: Cython directive 'language_level' not set, using '3str' for now (Py3). This has changed from earlier releases! File: /kaggle/working/RECsys_Challenge2024/Recommenders/FeatureWeighting/Cython/FBSM_Rating_Cython_SGD.pyx\r\n",
      "  tree = Parsing.p_module(s, pxd, full_module_name)\r\n"
     ]
    },
    {
     "name": "stdout",
     "output_type": "stream",
     "text": [
      "Compiling [7/11]: FBSM_Rating_Cython_SGD.pyx... PASS\r\n",
      "\r\n",
      "Compiling [8/11]: CFW_D_Similarity_Cython_SGD.pyx... \r\n"
     ]
    },
    {
     "name": "stdout",
     "output_type": "stream",
     "text": [
      "In file included from \u001b[01m\u001b[K/opt/conda/lib/python3.10/site-packages/numpy/core/include/numpy/ndarraytypes.h:1929\u001b[m\u001b[K,\r\n",
      "                 from \u001b[01m\u001b[K/opt/conda/lib/python3.10/site-packages/numpy/core/include/numpy/ndarrayobject.h:12\u001b[m\u001b[K,\r\n",
      "                 from \u001b[01m\u001b[K/opt/conda/lib/python3.10/site-packages/numpy/core/include/numpy/arrayobject.h:5\u001b[m\u001b[K,\r\n",
      "                 from \u001b[01m\u001b[KCFW_D_Similarity_Cython_SGD.c:1252\u001b[m\u001b[K:\r\n",
      "\u001b[01m\u001b[K/opt/conda/lib/python3.10/site-packages/numpy/core/include/numpy/npy_1_7_deprecated_api.h:17:2:\u001b[m\u001b[K \u001b[01;35m\u001b[Kwarning: \u001b[m\u001b[K#warning \"Using deprecated NumPy API, disable it with \" \"#define NPY_NO_DEPRECATED_API NPY_1_7_API_VERSION\" [\u001b[01;35m\u001b[K\u001b]8;;https://gcc.gnu.org/onlinedocs/gcc/Warning-Options.html#index-Wcpp\u0007-Wcpp\u001b]8;;\u0007\u001b[m\u001b[K]\r\n",
      "   17 | #\u001b[01;35m\u001b[Kwarning\u001b[m\u001b[K \"Using deprecated NumPy API, disable it with \" \\\r\n",
      "      |  \u001b[01;35m\u001b[K^~~~~~~\u001b[m\u001b[K\r\n"
     ]
    },
    {
     "name": "stdout",
     "output_type": "stream",
     "text": [
      "\u001b[01m\u001b[KCFW_D_Similarity_Cython_SGD.c:\u001b[m\u001b[K In function '\u001b[01m\u001b[K__pyx_pf_27CFW_D_Similarity_Cython_SGD_27CFW_D_Similarity_Cython_SGD_6fit\u001b[m\u001b[K':\r\n",
      "\u001b[01m\u001b[KCFW_D_Similarity_Cython_SGD.c:23373:55:\u001b[m\u001b[K \u001b[01;35m\u001b[Kwarning: \u001b[m\u001b[K'\u001b[01m\u001b[K__pyx_v_sample_num\u001b[m\u001b[K' may be used uninitialized in this function [\u001b[01;35m\u001b[K\u001b]8;;https://gcc.gnu.org/onlinedocs/gcc/Warning-Options.html#index-Wmaybe-uninitialized\u0007-Wmaybe-uninitialized\u001b]8;;\u0007\u001b[m\u001b[K]\r\n",
      "23373 |   __pyx_t_3 = PyFloat_FromDouble((__pyx_v_cum_loss / \u001b[01;35m\u001b[K((double)__pyx_v_sample_num)\u001b[m\u001b[K)); if (unlikely(!__pyx_t_3)) __PYX_ERR(0, 290, __pyx_L1_error)\r\n",
      "      |                                                      \u001b[01;35m\u001b[K~^~~~~~~~~~~~~~~~~~~~~~~~~~~\u001b[m\u001b[K\r\n"
     ]
    },
    {
     "name": "stdout",
     "output_type": "stream",
     "text": [
      "/opt/conda/lib/python3.10/site-packages/Cython/Compiler/Main.py:381: FutureWarning: Cython directive 'language_level' not set, using '3str' for now (Py3). This has changed from earlier releases! File: /kaggle/working/RECsys_Challenge2024/Recommenders/FeatureWeighting/Cython/CFW_D_Similarity_Cython_SGD.pyx\r\n",
      "  tree = Parsing.p_module(s, pxd, full_module_name)\r\n"
     ]
    },
    {
     "name": "stdout",
     "output_type": "stream",
     "text": [
      "Compiling [8/11]: CFW_D_Similarity_Cython_SGD.pyx... PASS\r\n",
      "\r\n",
      "Compiling [9/11]: HP3_Similarity_Cython_SGD.pyx... \r\n"
     ]
    },
    {
     "name": "stdout",
     "output_type": "stream",
     "text": [
      "performance hint: HP3_Similarity_Cython_SGD.pyx:113:40: Index should be typed for more efficient access\r\n",
      "performance hint: HP3_Similarity_Cython_SGD.pyx:114:40: Index should be typed for more efficient access\r\n"
     ]
    },
    {
     "name": "stdout",
     "output_type": "stream",
     "text": [
      "In file included from \u001b[01m\u001b[K/opt/conda/lib/python3.10/site-packages/numpy/core/include/numpy/ndarraytypes.h:1929\u001b[m\u001b[K,\r\n",
      "                 from \u001b[01m\u001b[K/opt/conda/lib/python3.10/site-packages/numpy/core/include/numpy/ndarrayobject.h:12\u001b[m\u001b[K,\r\n",
      "                 from \u001b[01m\u001b[K/opt/conda/lib/python3.10/site-packages/numpy/core/include/numpy/arrayobject.h:5\u001b[m\u001b[K,\r\n",
      "                 from \u001b[01m\u001b[KHP3_Similarity_Cython_SGD.c:1252\u001b[m\u001b[K:\r\n",
      "\u001b[01m\u001b[K/opt/conda/lib/python3.10/site-packages/numpy/core/include/numpy/npy_1_7_deprecated_api.h:17:2:\u001b[m\u001b[K \u001b[01;35m\u001b[Kwarning: \u001b[m\u001b[K#warning \"Using deprecated NumPy API, disable it with \" \"#define NPY_NO_DEPRECATED_API NPY_1_7_API_VERSION\" [\u001b[01;35m\u001b[K\u001b]8;;https://gcc.gnu.org/onlinedocs/gcc/Warning-Options.html#index-Wcpp\u0007-Wcpp\u001b]8;;\u0007\u001b[m\u001b[K]\r\n",
      "   17 | #\u001b[01;35m\u001b[Kwarning\u001b[m\u001b[K \"Using deprecated NumPy API, disable it with \" \\\r\n",
      "      |  \u001b[01;35m\u001b[K^~~~~~~\u001b[m\u001b[K\r\n"
     ]
    },
    {
     "name": "stdout",
     "output_type": "stream",
     "text": [
      "\u001b[01m\u001b[KHP3_Similarity_Cython_SGD.c:\u001b[m\u001b[K In function '\u001b[01m\u001b[K__pyx_pf_25HP3_Similarity_Cython_SGD_25HP3_Similarity_Cython_SGD_4fit\u001b[m\u001b[K':\r\n",
      "\u001b[01m\u001b[KHP3_Similarity_Cython_SGD.c:23631:55:\u001b[m\u001b[K \u001b[01;35m\u001b[Kwarning: \u001b[m\u001b[K'\u001b[01m\u001b[K__pyx_v_sample_num\u001b[m\u001b[K' may be used uninitialized in this function [\u001b[01;35m\u001b[K\u001b]8;;https://gcc.gnu.org/onlinedocs/gcc/Warning-Options.html#index-Wmaybe-uninitialized\u0007-Wmaybe-uninitialized\u001b]8;;\u0007\u001b[m\u001b[K]\r\n",
      "23631 |   __pyx_t_1 = PyFloat_FromDouble((__pyx_v_cum_loss / \u001b[01;35m\u001b[K((double)__pyx_v_sample_num)\u001b[m\u001b[K)); if (unlikely(!__pyx_t_1)) __PYX_ERR(0, 291, __pyx_L1_error)\r\n",
      "      |                                                      \u001b[01;35m\u001b[K~^~~~~~~~~~~~~~~~~~~~~~~~~~~\u001b[m\u001b[K\r\n"
     ]
    },
    {
     "name": "stdout",
     "output_type": "stream",
     "text": [
      "/opt/conda/lib/python3.10/site-packages/Cython/Compiler/Main.py:381: FutureWarning: Cython directive 'language_level' not set, using '3str' for now (Py3). This has changed from earlier releases! File: /kaggle/working/RECsys_Challenge2024/Recommenders/FeatureWeighting/Cython/HP3_Similarity_Cython_SGD.pyx\r\n",
      "  tree = Parsing.p_module(s, pxd, full_module_name)\r\n"
     ]
    },
    {
     "name": "stdout",
     "output_type": "stream",
     "text": [
      "performance hint: HP3_Similarity_Cython_SGD.pyx:113:40: Index should be typed for more efficient access\r\n",
      "performance hint: HP3_Similarity_Cython_SGD.pyx:114:40: Index should be typed for more efficient access\r\n"
     ]
    },
    {
     "name": "stdout",
     "output_type": "stream",
     "text": [
      "Compiling [9/11]: HP3_Similarity_Cython_SGD.pyx... PASS\r\n",
      "\r\n",
      "Compiling [10/11]: CFW_DVV_Similarity_Cython_SGD.pyx... \r\n"
     ]
    },
    {
     "name": "stdout",
     "output_type": "stream",
     "text": [
      "In file included from \u001b[01m\u001b[K/opt/conda/lib/python3.10/site-packages/numpy/core/include/numpy/ndarraytypes.h:1929\u001b[m\u001b[K,\r\n",
      "                 from \u001b[01m\u001b[K/opt/conda/lib/python3.10/site-packages/numpy/core/include/numpy/ndarrayobject.h:12\u001b[m\u001b[K,\r\n",
      "                 from \u001b[01m\u001b[K/opt/conda/lib/python3.10/site-packages/numpy/core/include/numpy/arrayobject.h:5\u001b[m\u001b[K,\r\n",
      "                 from \u001b[01m\u001b[KCFW_DVV_Similarity_Cython_SGD.c:1252\u001b[m\u001b[K:\r\n",
      "\u001b[01m\u001b[K/opt/conda/lib/python3.10/site-packages/numpy/core/include/numpy/npy_1_7_deprecated_api.h:17:2:\u001b[m\u001b[K \u001b[01;35m\u001b[Kwarning: \u001b[m\u001b[K#warning \"Using deprecated NumPy API, disable it with \" \"#define NPY_NO_DEPRECATED_API NPY_1_7_API_VERSION\" [\u001b[01;35m\u001b[K\u001b]8;;https://gcc.gnu.org/onlinedocs/gcc/Warning-Options.html#index-Wcpp\u0007-Wcpp\u001b]8;;\u0007\u001b[m\u001b[K]\r\n",
      "   17 | #\u001b[01;35m\u001b[Kwarning\u001b[m\u001b[K \"Using deprecated NumPy API, disable it with \" \\\r\n",
      "      |  \u001b[01;35m\u001b[K^~~~~~~\u001b[m\u001b[K\r\n"
     ]
    },
    {
     "name": "stdout",
     "output_type": "stream",
     "text": [
      "/opt/conda/lib/python3.10/site-packages/Cython/Compiler/Main.py:381: FutureWarning: Cython directive 'language_level' not set, using '3str' for now (Py3). This has changed from earlier releases! File: /kaggle/working/RECsys_Challenge2024/Recommenders/FeatureWeighting/Cython/CFW_DVV_Similarity_Cython_SGD.pyx\r\n",
      "  tree = Parsing.p_module(s, pxd, full_module_name)\r\n"
     ]
    },
    {
     "name": "stdout",
     "output_type": "stream",
     "text": [
      "Compiling [10/11]: CFW_DVV_Similarity_Cython_SGD.pyx... PASS\r\n",
      "\r\n"
     ]
    },
    {
     "name": "stdout",
     "output_type": "stream",
     "text": [
      "Compiling [11/11]: DataIterator.pyx... \r\n"
     ]
    },
    {
     "name": "stdout",
     "output_type": "stream",
     "text": [
      "In file included from \u001b[01m\u001b[K/opt/conda/lib/python3.10/site-packages/numpy/core/include/numpy/ndarraytypes.h:1929\u001b[m\u001b[K,\r\n",
      "                 from \u001b[01m\u001b[K/opt/conda/lib/python3.10/site-packages/numpy/core/include/numpy/ndarrayobject.h:12\u001b[m\u001b[K,\r\n",
      "                 from \u001b[01m\u001b[K/opt/conda/lib/python3.10/site-packages/numpy/core/include/numpy/arrayobject.h:5\u001b[m\u001b[K,\r\n",
      "                 from \u001b[01m\u001b[KDataIterator.c:1252\u001b[m\u001b[K:\r\n",
      "\u001b[01m\u001b[K/opt/conda/lib/python3.10/site-packages/numpy/core/include/numpy/npy_1_7_deprecated_api.h:17:2:\u001b[m\u001b[K \u001b[01;35m\u001b[Kwarning: \u001b[m\u001b[K#warning \"Using deprecated NumPy API, disable it with \" \"#define NPY_NO_DEPRECATED_API NPY_1_7_API_VERSION\" [\u001b[01;35m\u001b[K\u001b]8;;https://gcc.gnu.org/onlinedocs/gcc/Warning-Options.html#index-Wcpp\u0007-Wcpp\u001b]8;;\u0007\u001b[m\u001b[K]\r\n",
      "   17 | #\u001b[01;35m\u001b[Kwarning\u001b[m\u001b[K \"Using deprecated NumPy API, disable it with \" \\\r\n",
      "      |  \u001b[01;35m\u001b[K^~~~~~~\u001b[m\u001b[K\r\n"
     ]
    },
    {
     "name": "stdout",
     "output_type": "stream",
     "text": [
      "\u001b[01m\u001b[KDataIterator.c:\u001b[m\u001b[K In function '\u001b[01m\u001b[K__pyx_pf_12DataIterator_19InteractionIterator_6__next__\u001b[m\u001b[K':\r\n",
      "\u001b[01m\u001b[KDataIterator.c:20937:22:\u001b[m\u001b[K \u001b[01;35m\u001b[Kwarning: \u001b[m\u001b[K'\u001b[01m\u001b[K__pyx_v_i_batch\u001b[m\u001b[K' may be used uninitialized in this function [\u001b[01;35m\u001b[K\u001b]8;;https://gcc.gnu.org/onlinedocs/gcc/Warning-Options.html#index-Wmaybe-uninitialized\u0007-Wmaybe-uninitialized\u001b]8;;\u0007\u001b[m\u001b[K]\r\n",
      "20937 |     (__pyx_v_i_batch \u001b[01;35m\u001b[K+\u001b[m\u001b[K 1),\r\n",
      "      |                      \u001b[01;35m\u001b[K^\u001b[m\u001b[K\r\n"
     ]
    },
    {
     "name": "stdout",
     "output_type": "stream",
     "text": [
      "\u001b[01m\u001b[KDataIterator.c:\u001b[m\u001b[K In function '\u001b[01m\u001b[K__pyx_pf_12DataIterator_30InteractionAndNegativeIterator_6__next__\u001b[m\u001b[K':\r\n"
     ]
    },
    {
     "name": "stdout",
     "output_type": "stream",
     "text": [
      "\u001b[01m\u001b[KDataIterator.c:25495:22:\u001b[m\u001b[K \u001b[01;35m\u001b[Kwarning: \u001b[m\u001b[K'\u001b[01m\u001b[K__pyx_v_i_batch\u001b[m\u001b[K' may be used uninitialized in this function [\u001b[01;35m\u001b[K\u001b]8;;https://gcc.gnu.org/onlinedocs/gcc/Warning-Options.html#index-Wmaybe-uninitialized\u0007-Wmaybe-uninitialized\u001b]8;;\u0007\u001b[m\u001b[K]\r\n",
      "25495 |     (__pyx_v_i_batch \u001b[01;35m\u001b[K+\u001b[m\u001b[K 1),\r\n",
      "      |                      \u001b[01;35m\u001b[K^\u001b[m\u001b[K\r\n"
     ]
    },
    {
     "name": "stdout",
     "output_type": "stream",
     "text": [
      "\u001b[01m\u001b[KDataIterator.c:\u001b[m\u001b[K In function '\u001b[01m\u001b[K__pyx_pf_12DataIterator_11BPRIterator_6__next__\u001b[m\u001b[K':\r\n",
      "\u001b[01m\u001b[KDataIterator.c:23054:22:\u001b[m\u001b[K \u001b[01;35m\u001b[Kwarning: \u001b[m\u001b[K'\u001b[01m\u001b[K__pyx_v_i_batch\u001b[m\u001b[K' may be used uninitialized in this function [\u001b[01;35m\u001b[K\u001b]8;;https://gcc.gnu.org/onlinedocs/gcc/Warning-Options.html#index-Wmaybe-uninitialized\u0007-Wmaybe-uninitialized\u001b]8;;\u0007\u001b[m\u001b[K]\r\n",
      "23054 |     (__pyx_v_i_batch \u001b[01;35m\u001b[K+\u001b[m\u001b[K 1),\r\n",
      "      |                      \u001b[01;35m\u001b[K^\u001b[m\u001b[K\r\n"
     ]
    },
    {
     "name": "stdout",
     "output_type": "stream",
     "text": [
      "/opt/conda/lib/python3.10/site-packages/Cython/Compiler/Main.py:381: FutureWarning: Cython directive 'language_level' not set, using '3str' for now (Py3). This has changed from earlier releases! File: /kaggle/working/RECsys_Challenge2024/Utils/PyTorch/Cython/DataIterator.pyx\r\n",
      "  tree = Parsing.p_module(s, pxd, full_module_name)\r\n"
     ]
    },
    {
     "name": "stdout",
     "output_type": "stream",
     "text": [
      "Compiling [11/11]: DataIterator.pyx... PASS\r\n",
      "\r\n",
      "run_compile_all_cython: Compilation finished. FAILS 2/11.\r\n",
      "Compilation log can be found here: './result_experiments/run_compile_all_cython.txt'\r\n"
     ]
    }
   ],
   "source": [
    "! cd /kaggle/working/RECsys_Challenge2024 && python run_compile_all_cython.py"
   ]
  },
  {
   "cell_type": "code",
   "execution_count": null,
   "id": "08e9ad00",
   "metadata": {
    "execution": {
     "iopub.execute_input": "2024-11-15T16:31:05.815627Z",
     "iopub.status.busy": "2024-11-15T16:31:05.815167Z",
     "iopub.status.idle": "2024-11-15T16:31:06.948219Z",
     "shell.execute_reply": "2024-11-15T16:31:06.947341Z"
    },
    "papermill": {
     "duration": 1.156868,
     "end_time": "2024-11-15T16:31:06.950782",
     "exception": false,
     "start_time": "2024-11-15T16:31:05.793914",
     "status": "completed"
    },
    "tags": []
   },
   "outputs": [],
   "source": [
    "import numpy as np\n",
    "import pandas as pd\n",
    "import scipy.sparse as sps\n",
    "import shutil\n",
    "import json\n",
    "\n",
    "np.random.seed(42)"
   ]
  },
  {
   "cell_type": "markdown",
   "id": "f1412399",
   "metadata": {
    "papermill": {
     "duration": 0.018894,
     "end_time": "2024-11-15T16:31:06.988999",
     "exception": false,
     "start_time": "2024-11-15T16:31:06.970105",
     "status": "completed"
    },
    "tags": []
   },
   "source": [
    "## Import the repository"
   ]
  },
  {
   "cell_type": "code",
   "execution_count": 6,
   "id": "d24ed8a9",
   "metadata": {
    "execution": {
     "iopub.execute_input": "2024-11-15T16:31:07.028180Z",
     "iopub.status.busy": "2024-11-15T16:31:07.026995Z",
     "iopub.status.idle": "2024-11-15T16:31:07.498772Z",
     "shell.execute_reply": "2024-11-15T16:31:07.497325Z"
    },
    "papermill": {
     "duration": 0.493369,
     "end_time": "2024-11-15T16:31:07.501166",
     "exception": false,
     "start_time": "2024-11-15T16:31:07.007797",
     "status": "completed"
    },
    "tags": []
   },
   "outputs": [
    {
     "name": "stdout",
     "output_type": "stream",
     "text": [
      "Repository 'RECsys_Challenge2024' found.\n"
     ]
    }
   ],
   "source": [
    "from github import Github, Auth\n",
    "\n",
    "# Authenticate using a personal access token\n",
    "auth_token = Auth.Token(token)\n",
    "github_client = Github(auth=auth_token)\n",
    "\n",
    "# Define the repository name you want to find\n",
    "target_repo_name = 'RECsys_Challenge2024'\n",
    "repo = None\n",
    "\n",
    "# Search for the repository in the user's repositories\n",
    "try:\n",
    "    for repository in github_client.get_user().get_repos():\n",
    "        if repository.name == target_repo_name:\n",
    "            repo = repository\n",
    "            print(f\"Repository '{target_repo_name}' found.\")\n",
    "            break\n",
    "    if repo is None:\n",
    "        print(f\"Repository '{target_repo_name}' not found.\")\n",
    "except Exception as e:\n",
    "    print(\"An error occurred while accessing the repositories:\", e)"
   ]
  },
  {
   "cell_type": "code",
   "execution_count": 7,
   "id": "f16a3e50",
   "metadata": {
    "execution": {
     "iopub.execute_input": "2024-11-15T16:31:07.542477Z",
     "iopub.status.busy": "2024-11-15T16:31:07.541410Z",
     "iopub.status.idle": "2024-11-15T16:31:07.550162Z",
     "shell.execute_reply": "2024-11-15T16:31:07.549046Z"
    },
    "papermill": {
     "duration": 0.0316,
     "end_time": "2024-11-15T16:31:07.552269",
     "exception": false,
     "start_time": "2024-11-15T16:31:07.520669",
     "status": "completed"
    },
    "tags": []
   },
   "outputs": [],
   "source": [
    "def upload_file(filepath_kaggle, filepath_github, commit_message):\n",
    "    \"\"\"\n",
    "    Uploads a file from Kaggle to GitHub, updating it if it already exists in the repository,\n",
    "    or creating it if it does not.\n",
    "\n",
    "    Parameters:\n",
    "    - filepath_kaggle: Path to the file in the Kaggle environment.\n",
    "    - filepath_github: Target path in the GitHub repository where the file should be uploaded.\n",
    "    - commit_message: Message for the commit on GitHub.\n",
    "    \"\"\"\n",
    "    try:\n",
    "        \n",
    "        # Check if the file already exists in the GitHub repository\n",
    "        contents = repo.get_contents(filepath_github)\n",
    "        \n",
    "        # If it exists, update the file\n",
    "        with open(filepath_kaggle, \"rb\") as file:\n",
    "            repo.update_file(\n",
    "                contents.path, commit_message, file.read(), contents.sha\n",
    "            )\n",
    "        print(f\"File '{filepath_github}' updated successfully.\")\n",
    "    \n",
    "    except Exception as e:\n",
    "        \n",
    "        # If the file does not exist, create it\n",
    "        with open(filepath_kaggle, \"rb\") as file:\n",
    "            repo.create_file(\n",
    "                filepath_github, commit_message, file.read()\n",
    "            )\n",
    "        print(f\"File '{filepath_github}' created successfully.\")"
   ]
  },
  {
   "cell_type": "code",
   "execution_count": null,
   "id": "ae604672",
   "metadata": {
    "execution": {
     "iopub.execute_input": "2024-11-15T16:31:07.591834Z",
     "iopub.status.busy": "2024-11-15T16:31:07.591063Z",
     "iopub.status.idle": "2024-11-15T16:31:07.595958Z",
     "shell.execute_reply": "2024-11-15T16:31:07.594955Z"
    },
    "papermill": {
     "duration": 0.027625,
     "end_time": "2024-11-15T16:31:07.598251",
     "exception": false,
     "start_time": "2024-11-15T16:31:07.570626",
     "status": "completed"
    },
    "tags": []
   },
   "outputs": [],
   "source": [
    "config = {\n",
    "    'model': 'SLIMElasticNet',\n",
    "    'tune_parameters': True,\n",
    "    'database_path': '/kaggle/working/history_SLIMElasticNet.db',\n",
    "    'copy_prev_best_params': False,\n",
    "    'tune_best_params': False,\n",
    "    'save_github': True\n",
    "}"
   ]
  },
  {
   "cell_type": "markdown",
   "id": "d117e162",
   "metadata": {
    "papermill": {
     "duration": 0.018054,
     "end_time": "2024-11-15T16:31:07.636831",
     "exception": false,
     "start_time": "2024-11-15T16:31:07.618777",
     "status": "completed"
    },
    "tags": []
   },
   "source": [
    "Import the database where previous tuning trials have been saved."
   ]
  },
  {
   "cell_type": "code",
   "execution_count": 9,
   "id": "16df2fbe",
   "metadata": {
    "execution": {
     "iopub.execute_input": "2024-11-15T16:31:07.676026Z",
     "iopub.status.busy": "2024-11-15T16:31:07.674945Z",
     "iopub.status.idle": "2024-11-15T16:31:07.681326Z",
     "shell.execute_reply": "2024-11-15T16:31:07.680253Z"
    },
    "papermill": {
     "duration": 0.027687,
     "end_time": "2024-11-15T16:31:07.683854",
     "exception": false,
     "start_time": "2024-11-15T16:31:07.656167",
     "status": "completed"
    },
    "tags": []
   },
   "outputs": [],
   "source": [
    "try:\n",
    "    shutil.copyfile(\n",
    "        f'/kaggle/working/RECsys_Challenge2024/TrainedModels/' \\\n",
    "        f'{config[\"model\"]}Recommender/history_{config[\"model\"]}.db', \n",
    "        config['database_path']\n",
    "    )\n",
    "except FileNotFoundError:\n",
    "    pass # if not present optuna will create it"
   ]
  },
  {
   "cell_type": "markdown",
   "id": "845956c6",
   "metadata": {
    "papermill": {
     "duration": 0.01822,
     "end_time": "2024-11-15T16:31:07.721221",
     "exception": false,
     "start_time": "2024-11-15T16:31:07.703001",
     "status": "completed"
    },
    "tags": []
   },
   "source": [
    "# Construction of URM and ICM matrices"
   ]
  },
  {
   "cell_type": "code",
   "execution_count": 10,
   "id": "f2580fdb",
   "metadata": {
    "execution": {
     "iopub.execute_input": "2024-11-15T16:31:07.760660Z",
     "iopub.status.busy": "2024-11-15T16:31:07.759824Z",
     "iopub.status.idle": "2024-11-15T16:31:08.790189Z",
     "shell.execute_reply": "2024-11-15T16:31:08.789069Z"
    },
    "papermill": {
     "duration": 1.052271,
     "end_time": "2024-11-15T16:31:08.792537",
     "exception": false,
     "start_time": "2024-11-15T16:31:07.740266",
     "status": "completed"
    },
    "tags": []
   },
   "outputs": [
    {
     "data": {
      "text/plain": [
       "<Compressed Sparse Row sparse matrix of dtype 'float64'\n",
       "\twith 1764607 stored elements and shape (35736, 38121)>"
      ]
     },
     "execution_count": 10,
     "metadata": {},
     "output_type": "execute_result"
    }
   ],
   "source": [
    "URM_all_dataframe = pd.read_csv(\"/kaggle/input/recommender-system-2024-challenge-polimi/data_train.csv\")\n",
    "\n",
    "n_users = len(URM_all_dataframe[\"user_id\"].unique())\n",
    "n_items = len(URM_all_dataframe[\"item_id\"].unique())\n",
    "\n",
    "URM_all = sps.csr_matrix((URM_all_dataframe[\"data\"].values, \n",
    "                          (URM_all_dataframe[\"user_id\"].values, URM_all_dataframe[\"item_id\"].values)),\n",
    "                        shape = (n_users, n_items))\n",
    "\n",
    "URM_all"
   ]
  },
  {
   "cell_type": "code",
   "execution_count": 11,
   "id": "a267ce55",
   "metadata": {
    "execution": {
     "iopub.execute_input": "2024-11-15T16:31:08.834141Z",
     "iopub.status.busy": "2024-11-15T16:31:08.833281Z",
     "iopub.status.idle": "2024-11-15T16:31:10.496696Z",
     "shell.execute_reply": "2024-11-15T16:31:10.495569Z"
    },
    "papermill": {
     "duration": 1.686541,
     "end_time": "2024-11-15T16:31:10.499321",
     "exception": false,
     "start_time": "2024-11-15T16:31:08.812780",
     "status": "completed"
    },
    "tags": []
   },
   "outputs": [
    {
     "data": {
      "text/plain": [
       "<Compressed Sparse Row sparse matrix of dtype 'float64'\n",
       "\twith 2940040 stored elements and shape (38121, 94331)>"
      ]
     },
     "execution_count": 11,
     "metadata": {},
     "output_type": "execute_result"
    }
   ],
   "source": [
    "ICM_dataframe = pd.read_csv(\"/kaggle/input/recommender-system-2024-challenge-polimi/data_ICM_metadata.csv\")\n",
    "\n",
    "n_items = len(ICM_dataframe[\"item_id\"].unique())\n",
    "n_features = len(ICM_dataframe[\"feature_id\"].unique())\n",
    "\n",
    "ICM_all = sps.csr_matrix((ICM_dataframe[\"data\"].values, \n",
    "                          (ICM_dataframe[\"item_id\"].values, ICM_dataframe[\"feature_id\"].values)),\n",
    "                        shape = (n_items, n_features))\n",
    "\n",
    "ICM_all"
   ]
  },
  {
   "cell_type": "markdown",
   "id": "2b1980ef",
   "metadata": {
    "papermill": {
     "duration": 0.019214,
     "end_time": "2024-11-15T16:31:10.538191",
     "exception": false,
     "start_time": "2024-11-15T16:31:10.518977",
     "status": "completed"
    },
    "tags": []
   },
   "source": [
    "# Training"
   ]
  },
  {
   "cell_type": "code",
   "execution_count": null,
   "id": "281839d8",
   "metadata": {
    "execution": {
     "iopub.execute_input": "2024-11-15T16:31:10.579107Z",
     "iopub.status.busy": "2024-11-15T16:31:10.578081Z",
     "iopub.status.idle": "2024-11-15T16:31:10.586602Z",
     "shell.execute_reply": "2024-11-15T16:31:10.585327Z"
    },
    "papermill": {
     "duration": 0.03164,
     "end_time": "2024-11-15T16:31:10.589066",
     "exception": false,
     "start_time": "2024-11-15T16:31:10.557426",
     "status": "completed"
    },
    "tags": []
   },
   "outputs": [
    {
     "name": "stdout",
     "output_type": "stream",
     "text": [
      "/kaggle/working/RECsys_Challenge2024\n"
     ]
    }
   ],
   "source": [
    "%cd /kaggle/working/RECsys_Challenge2024/"
   ]
  },
  {
   "cell_type": "code",
   "execution_count": 13,
   "id": "6cb8c6cc",
   "metadata": {
    "execution": {
     "iopub.execute_input": "2024-11-15T16:31:10.632702Z",
     "iopub.status.busy": "2024-11-15T16:31:10.631579Z",
     "iopub.status.idle": "2024-11-15T16:31:15.473329Z",
     "shell.execute_reply": "2024-11-15T16:31:15.472086Z"
    },
    "papermill": {
     "duration": 4.866981,
     "end_time": "2024-11-15T16:31:15.475925",
     "exception": false,
     "start_time": "2024-11-15T16:31:10.608944",
     "status": "completed"
    },
    "tags": []
   },
   "outputs": [
    {
     "name": "stdout",
     "output_type": "stream",
     "text": [
      "Warning: 141 (0.39 %) of 35736 users have no sampled items\n",
      "EvaluatorHoldout: Ignoring 141 ( 0.4%) Users that have less than 1 test interactions\n"
     ]
    }
   ],
   "source": [
    "from Evaluation.Evaluator import EvaluatorHoldout\n",
    "from Data_manager.split_functions.split_train_validation_random_holdout import split_train_in_two_percentage_global_sample\n",
    "\n",
    "URM_train, URM_validation = split_train_in_two_percentage_global_sample(URM_all, train_percentage = 0.80)\n",
    "\n",
    "evaluator_validation = EvaluatorHoldout(URM_validation, cutoff_list=[10])"
   ]
  },
  {
   "cell_type": "code",
   "execution_count": 14,
   "id": "d2702d3a",
   "metadata": {
    "execution": {
     "iopub.execute_input": "2024-11-15T16:31:15.517848Z",
     "iopub.status.busy": "2024-11-15T16:31:15.516859Z",
     "iopub.status.idle": "2024-11-15T16:31:16.994572Z",
     "shell.execute_reply": "2024-11-15T16:31:16.993391Z"
    },
    "papermill": {
     "duration": 1.501435,
     "end_time": "2024-11-15T16:31:16.997275",
     "exception": false,
     "start_time": "2024-11-15T16:31:15.495840",
     "status": "completed"
    },
    "tags": []
   },
   "outputs": [],
   "source": [
    "import optuna\n",
    "import pandas as pd\n",
    "from Recommenders.SLIM.SLIMElasticNetRecommender import SLIMElasticNetRecommender\n",
    "\n",
    "def objective_function_SLIMElasticNet(optuna_trial):\n",
    "    \n",
    "    recommender_instance = SLIMElasticNetRecommender(URM_train)\n",
    "    \n",
    "    full_hyperp = {\n",
    "                   \"topK\": optuna_trial.suggest_int(\"topK\", 0, 1500),\n",
    "                   \"l1_ratio\": optuna_trial.suggest_float(\"l1_ratio\", 0.01, 1.0, log=True),\n",
    "                    \"alpha\": optuna_trial.suggest_float(\"alpha\", 1e-4, 1e-1, log=True),\n",
    "                    \"positive_only\": optuna_trial.suggest_categorical(\"positive_only\", [True, False]),\n",
    "                  }        \n",
    "    \n",
    "    recommender_instance.fit(**full_hyperp)\n",
    "    \n",
    "    result_df, _ = evaluator_validation.evaluateRecommender(recommender_instance)\n",
    "    \n",
    "    return result_df.loc[10][\"MAP\"]"
   ]
  },
  {
   "cell_type": "code",
   "execution_count": null,
   "id": "e54ba18e",
   "metadata": {
    "_kg_hide-output": true,
    "execution": {
     "iopub.execute_input": "2024-11-15T16:31:17.038253Z",
     "iopub.status.busy": "2024-11-15T16:31:17.037661Z"
    },
    "papermill": {
     "duration": null,
     "end_time": null,
     "exception": false,
     "start_time": "2024-11-15T16:31:17.017169",
     "status": "running"
    },
    "tags": []
   },
   "outputs": [
    {
     "name": "stderr",
     "output_type": "stream",
     "text": [
      "[I 2024-11-15 16:31:18,593] Using an existing study with name 'hyperparameters_tuning_SLIMElasticNet' instead of creating a new one.\n"
     ]
    },
    {
     "name": "stdout",
     "output_type": "stream",
     "text": [
      "SLIMElasticNetRecommender: Processed 19257 (50.5%) in 5.00 min. Items per second: 64.19\n"
     ]
    },
    {
     "name": "stdout",
     "output_type": "stream",
     "text": [
      "SLIMElasticNetRecommender: Processed 38121 (100.0%) in 9.87 min. Items per second: 64.37\n"
     ]
    },
    {
     "name": "stdout",
     "output_type": "stream",
     "text": [
      "EvaluatorHoldout: Processed 35595 (100.0%) in 31.04 sec. Users per second: 1147\n"
     ]
    },
    {
     "name": "stderr",
     "output_type": "stream",
     "text": [
      "[I 2024-11-15 16:41:42,058] Trial 6 finished with value: 0.008429918148839444 and parameters: {'topK': 1275, 'l1_ratio': 0.16388116108230175, 'alpha': 0.01785975784925073, 'positive_only': True}. Best is trial 1 with value: 0.05982349491746694.\n"
     ]
    },
    {
     "name": "stdout",
     "output_type": "stream",
     "text": [
      "SLIMElasticNetRecommender: Processed 19536 (51.2%) in 5.00 min. Items per second: 65.11\n"
     ]
    },
    {
     "name": "stdout",
     "output_type": "stream",
     "text": [
      "SLIMElasticNetRecommender: Processed 38121 (100.0%) in 9.77 min. Items per second: 65.03\n"
     ]
    },
    {
     "name": "stdout",
     "output_type": "stream",
     "text": [
      "EvaluatorHoldout: Processed 35595 (100.0%) in 29.81 sec. Users per second: 1194\n"
     ]
    },
    {
     "name": "stderr",
     "output_type": "stream",
     "text": [
      "[I 2024-11-15 16:51:58,231] Trial 7 finished with value: 0.00480221606833485 and parameters: {'topK': 400, 'l1_ratio': 0.1502862330909502, 'alpha': 0.027227977038986297, 'positive_only': False}. Best is trial 1 with value: 0.05982349491746694.\n"
     ]
    },
    {
     "name": "stdout",
     "output_type": "stream",
     "text": [
      "SLIMElasticNetRecommender: Processed 3290 ( 8.6%) in 5.00 min. Items per second: 10.96\n"
     ]
    },
    {
     "name": "stdout",
     "output_type": "stream",
     "text": [
      "SLIMElasticNetRecommender: Processed 7075 (18.6%) in 10.00 min. Items per second: 11.79\n"
     ]
    },
    {
     "name": "stdout",
     "output_type": "stream",
     "text": [
      "SLIMElasticNetRecommender: Processed 10931 (28.7%) in 15.00 min. Items per second: 12.14\n"
     ]
    },
    {
     "name": "stdout",
     "output_type": "stream",
     "text": [
      "SLIMElasticNetRecommender: Processed 14132 (37.1%) in 20.00 min. Items per second: 11.77\n"
     ]
    },
    {
     "name": "stdout",
     "output_type": "stream",
     "text": [
      "SLIMElasticNetRecommender: Processed 17327 (45.5%) in 25.00 min. Items per second: 11.55\n"
     ]
    },
    {
     "name": "stdout",
     "output_type": "stream",
     "text": [
      "SLIMElasticNetRecommender: Processed 20561 (53.9%) in 30.01 min. Items per second: 11.42\n"
     ]
    },
    {
     "name": "stdout",
     "output_type": "stream",
     "text": [
      "SLIMElasticNetRecommender: Processed 23828 (62.5%) in 35.01 min. Items per second: 11.34\n"
     ]
    },
    {
     "name": "stdout",
     "output_type": "stream",
     "text": [
      "SLIMElasticNetRecommender: Processed 27205 (71.4%) in 40.01 min. Items per second: 11.33\n"
     ]
    },
    {
     "name": "stdout",
     "output_type": "stream",
     "text": [
      "SLIMElasticNetRecommender: Processed 30429 (79.8%) in 45.01 min. Items per second: 11.27\n"
     ]
    },
    {
     "name": "stdout",
     "output_type": "stream",
     "text": [
      "SLIMElasticNetRecommender: Processed 33755 (88.5%) in 50.01 min. Items per second: 11.25\n"
     ]
    },
    {
     "name": "stdout",
     "output_type": "stream",
     "text": [
      "SLIMElasticNetRecommender: Processed 37051 (97.2%) in 55.01 min. Items per second: 11.23\n"
     ]
    },
    {
     "name": "stdout",
     "output_type": "stream",
     "text": [
      "SLIMElasticNetRecommender: Processed 38121 (100.0%) in 56.68 min. Items per second: 11.21\n"
     ]
    },
    {
     "name": "stdout",
     "output_type": "stream",
     "text": [
      "EvaluatorHoldout: Processed 35595 (100.0%) in 38.80 sec. Users per second: 917\n"
     ]
    },
    {
     "name": "stderr",
     "output_type": "stream",
     "text": [
      "[I 2024-11-15 17:49:17,767] Trial 8 finished with value: 0.05922349201889698 and parameters: {'topK': 26, 'l1_ratio': 0.10240498852703395, 'alpha': 0.0003137411987950738, 'positive_only': True}. Best is trial 1 with value: 0.05982349491746694.\n"
     ]
    },
    {
     "name": "stdout",
     "output_type": "stream",
     "text": [
      "SLIMElasticNetRecommender: Processed 16944 (44.4%) in 5.00 min. Items per second: 56.47\n"
     ]
    },
    {
     "name": "stdout",
     "output_type": "stream",
     "text": [
      "SLIMElasticNetRecommender: Processed 33689 (88.4%) in 10.00 min. Items per second: 56.15\n"
     ]
    },
    {
     "name": "stdout",
     "output_type": "stream",
     "text": [
      "SLIMElasticNetRecommender: Processed 38121 (100.0%) in 11.26 min. Items per second: 56.44\n"
     ]
    },
    {
     "name": "stdout",
     "output_type": "stream",
     "text": [
      "EvaluatorHoldout: Processed 35595 (100.0%) in 32.96 sec. Users per second: 1080\n"
     ]
    },
    {
     "name": "stderr",
     "output_type": "stream",
     "text": [
      "[I 2024-11-15 18:01:06,323] Trial 9 finished with value: 0.030180781588282003 and parameters: {'topK': 544, 'l1_ratio': 0.26456495730801044, 'alpha': 0.0024893836664349324, 'positive_only': False}. Best is trial 1 with value: 0.05982349491746694.\n"
     ]
    },
    {
     "name": "stdout",
     "output_type": "stream",
     "text": [
      "SLIMElasticNetRecommender: Processed 3141 ( 8.2%) in 5.00 min. Items per second: 10.47\n"
     ]
    },
    {
     "name": "stdout",
     "output_type": "stream",
     "text": [
      "SLIMElasticNetRecommender: Processed 6284 (16.5%) in 10.00 min. Items per second: 10.47\n"
     ]
    },
    {
     "name": "stdout",
     "output_type": "stream",
     "text": [
      "SLIMElasticNetRecommender: Processed 9414 (24.7%) in 15.00 min. Items per second: 10.46\n"
     ]
    },
    {
     "name": "stdout",
     "output_type": "stream",
     "text": [
      "SLIMElasticNetRecommender: Processed 12557 (32.9%) in 20.00 min. Items per second: 10.46\n"
     ]
    },
    {
     "name": "stdout",
     "output_type": "stream",
     "text": [
      "SLIMElasticNetRecommender: Processed 15732 (41.3%) in 25.00 min. Items per second: 10.49\n"
     ]
    },
    {
     "name": "stdout",
     "output_type": "stream",
     "text": [
      "SLIMElasticNetRecommender: Processed 18866 (49.5%) in 30.00 min. Items per second: 10.48\n"
     ]
    },
    {
     "name": "stdout",
     "output_type": "stream",
     "text": [
      "SLIMElasticNetRecommender: Processed 22061 (57.9%) in 35.00 min. Items per second: 10.50\n"
     ]
    },
    {
     "name": "stdout",
     "output_type": "stream",
     "text": [
      "SLIMElasticNetRecommender: Processed 25240 (66.2%) in 40.01 min. Items per second: 10.51\n"
     ]
    },
    {
     "name": "stdout",
     "output_type": "stream",
     "text": [
      "SLIMElasticNetRecommender: Processed 28443 (74.6%) in 45.01 min. Items per second: 10.53\n"
     ]
    },
    {
     "name": "stdout",
     "output_type": "stream",
     "text": [
      "SLIMElasticNetRecommender: Processed 31596 (82.9%) in 50.01 min. Items per second: 10.53\n"
     ]
    },
    {
     "name": "stdout",
     "output_type": "stream",
     "text": [
      "SLIMElasticNetRecommender: Processed 34858 (91.4%) in 55.01 min. Items per second: 10.56\n"
     ]
    },
    {
     "name": "stdout",
     "output_type": "stream",
     "text": [
      "SLIMElasticNetRecommender: Processed 38120 (100.0%) in 1.00 hour. Items per second: 10.59\n"
     ]
    },
    {
     "name": "stdout",
     "output_type": "stream",
     "text": [
      "SLIMElasticNetRecommender: Processed 38121 (100.0%) in 1.00 hour. Items per second: 10.59\n"
     ]
    },
    {
     "name": "stdout",
     "output_type": "stream",
     "text": [
      "EvaluatorHoldout: Processed 35595 (100.0%) in 56.87 sec. Users per second: 626\n"
     ]
    },
    {
     "name": "stderr",
     "output_type": "stream",
     "text": [
      "[I 2024-11-15 19:02:04,460] Trial 10 finished with value: 0.05770032129534664 and parameters: {'topK': 524, 'l1_ratio': 0.01000115141918395, 'alpha': 0.0013377097680306017, 'positive_only': True}. Best is trial 1 with value: 0.05982349491746694.\n"
     ]
    },
    {
     "name": "stdout",
     "output_type": "stream",
     "text": [
      "SLIMElasticNetRecommender: Processed 3280 ( 8.6%) in 5.00 min. Items per second: 10.93\n"
     ]
    },
    {
     "name": "stdout",
     "output_type": "stream",
     "text": [
      "SLIMElasticNetRecommender: Processed 6564 (17.2%) in 10.00 min. Items per second: 10.94\n"
     ]
    },
    {
     "name": "stdout",
     "output_type": "stream",
     "text": [
      "SLIMElasticNetRecommender: Processed 9865 (25.9%) in 15.00 min. Items per second: 10.96\n"
     ]
    },
    {
     "name": "stdout",
     "output_type": "stream",
     "text": [
      "SLIMElasticNetRecommender: Processed 13196 (34.6%) in 20.00 min. Items per second: 10.99\n"
     ]
    },
    {
     "name": "stdout",
     "output_type": "stream",
     "text": [
      "SLIMElasticNetRecommender: Processed 16675 (43.7%) in 25.00 min. Items per second: 11.11\n"
     ]
    },
    {
     "name": "stdout",
     "output_type": "stream",
     "text": [
      "SLIMElasticNetRecommender: Processed 20820 (54.6%) in 30.00 min. Items per second: 11.56\n"
     ]
    },
    {
     "name": "stdout",
     "output_type": "stream",
     "text": [
      "SLIMElasticNetRecommender: Processed 24921 (65.4%) in 35.00 min. Items per second: 11.87\n"
     ]
    },
    {
     "name": "stdout",
     "output_type": "stream",
     "text": [
      "SLIMElasticNetRecommender: Processed 29110 (76.4%) in 40.00 min. Items per second: 12.13\n"
     ]
    },
    {
     "name": "stdout",
     "output_type": "stream",
     "text": [
      "SLIMElasticNetRecommender: Processed 33288 (87.3%) in 45.01 min. Items per second: 12.33\n"
     ]
    },
    {
     "name": "stdout",
     "output_type": "stream",
     "text": [
      "SLIMElasticNetRecommender: Processed 36689 (96.2%) in 50.01 min. Items per second: 12.23\n"
     ]
    },
    {
     "name": "stdout",
     "output_type": "stream",
     "text": [
      "SLIMElasticNetRecommender: Processed 38121 (100.0%) in 52.18 min. Items per second: 12.18\n"
     ]
    },
    {
     "name": "stdout",
     "output_type": "stream",
     "text": [
      "EvaluatorHoldout: Processed 35595 (100.0%) in 48.85 sec. Users per second: 729\n"
     ]
    },
    {
     "name": "stderr",
     "output_type": "stream",
     "text": [
      "[I 2024-11-15 19:55:04,529] Trial 11 finished with value: 0.05930517372468341 and parameters: {'topK': 830, 'l1_ratio': 0.03966171969167191, 'alpha': 0.0006914605895569773, 'positive_only': True}. Best is trial 1 with value: 0.05982349491746694.\n"
     ]
    },
    {
     "name": "stdout",
     "output_type": "stream",
     "text": [
      "SLIMElasticNetRecommender: Processed 2667 ( 7.0%) in 5.00 min. Items per second: 8.89\n"
     ]
    },
    {
     "name": "stdout",
     "output_type": "stream",
     "text": [
      "SLIMElasticNetRecommender: Processed 5336 (14.0%) in 10.00 min. Items per second: 8.89\n"
     ]
    },
    {
     "name": "stdout",
     "output_type": "stream",
     "text": [
      "SLIMElasticNetRecommender: Processed 8161 (21.4%) in 15.00 min. Items per second: 9.07\n"
     ]
    },
    {
     "name": "stdout",
     "output_type": "stream",
     "text": [
      "SLIMElasticNetRecommender: Processed 10902 (28.6%) in 20.00 min. Items per second: 9.08\n"
     ]
    },
    {
     "name": "stdout",
     "output_type": "stream",
     "text": [
      "SLIMElasticNetRecommender: Processed 13641 (35.8%) in 25.00 min. Items per second: 9.09\n"
     ]
    },
    {
     "name": "stdout",
     "output_type": "stream",
     "text": [
      "SLIMElasticNetRecommender: Processed 16385 (43.0%) in 30.00 min. Items per second: 9.10\n"
     ]
    },
    {
     "name": "stdout",
     "output_type": "stream",
     "text": [
      "SLIMElasticNetRecommender: Processed 19105 (50.1%) in 35.01 min. Items per second: 9.10\n"
     ]
    },
    {
     "name": "stdout",
     "output_type": "stream",
     "text": [
      "SLIMElasticNetRecommender: Processed 21862 (57.3%) in 40.01 min. Items per second: 9.11\n"
     ]
    },
    {
     "name": "stdout",
     "output_type": "stream",
     "text": [
      "SLIMElasticNetRecommender: Processed 24629 (64.6%) in 45.01 min. Items per second: 9.12\n"
     ]
    },
    {
     "name": "stdout",
     "output_type": "stream",
     "text": [
      "SLIMElasticNetRecommender: Processed 27418 (71.9%) in 50.01 min. Items per second: 9.14\n"
     ]
    },
    {
     "name": "stdout",
     "output_type": "stream",
     "text": [
      "SLIMElasticNetRecommender: Processed 30220 (79.3%) in 55.01 min. Items per second: 9.16\n"
     ]
    },
    {
     "name": "stdout",
     "output_type": "stream",
     "text": [
      "SLIMElasticNetRecommender: Processed 33028 (86.6%) in 1.00 hour. Items per second: 9.17\n"
     ]
    },
    {
     "name": "stdout",
     "output_type": "stream",
     "text": [
      "SLIMElasticNetRecommender: Processed 35822 (94.0%) in 1.08 hour. Items per second: 9.18\n"
     ]
    },
    {
     "name": "stdout",
     "output_type": "stream",
     "text": [
      "SLIMElasticNetRecommender: Processed 38121 (100.0%) in 1.14 hour. Items per second: 9.29\n"
     ]
    },
    {
     "name": "stdout",
     "output_type": "stream",
     "text": [
      "EvaluatorHoldout: Processed 35595 (100.0%) in 51.21 sec. Users per second: 695\n"
     ]
    },
    {
     "name": "stderr",
     "output_type": "stream",
     "text": [
      "[I 2024-11-15 21:04:19,207] Trial 12 finished with value: 0.058892616895986336 and parameters: {'topK': 755, 'l1_ratio': 0.03384761764429321, 'alpha': 0.00011352018528272082, 'positive_only': True}. Best is trial 1 with value: 0.05982349491746694.\n"
     ]
    },
    {
     "name": "stdout",
     "output_type": "stream",
     "text": [
      "SLIMElasticNetRecommender: Processed 3919 (10.3%) in 5.00 min. Items per second: 13.06\n"
     ]
    },
    {
     "name": "stdout",
     "output_type": "stream",
     "text": [
      "SLIMElasticNetRecommender: Processed 7174 (18.8%) in 10.00 min. Items per second: 11.95\n"
     ]
    },
    {
     "name": "stdout",
     "output_type": "stream",
     "text": [
      "SLIMElasticNetRecommender: Processed 10462 (27.4%) in 15.00 min. Items per second: 11.62\n"
     ]
    },
    {
     "name": "stdout",
     "output_type": "stream",
     "text": [
      "SLIMElasticNetRecommender: Processed 13786 (36.2%) in 20.01 min. Items per second: 11.48\n"
     ]
    },
    {
     "name": "stdout",
     "output_type": "stream",
     "text": [
      "SLIMElasticNetRecommender: Processed 17248 (45.2%) in 25.01 min. Items per second: 11.50\n"
     ]
    },
    {
     "name": "stdout",
     "output_type": "stream",
     "text": [
      "SLIMElasticNetRecommender: Processed 20686 (54.3%) in 30.01 min. Items per second: 11.49\n"
     ]
    },
    {
     "name": "stdout",
     "output_type": "stream",
     "text": [
      "SLIMElasticNetRecommender: Processed 23999 (63.0%) in 35.01 min. Items per second: 11.43\n"
     ]
    },
    {
     "name": "stdout",
     "output_type": "stream",
     "text": [
      "SLIMElasticNetRecommender: Processed 27509 (72.2%) in 40.01 min. Items per second: 11.46\n"
     ]
    },
    {
     "name": "stdout",
     "output_type": "stream",
     "text": [
      "SLIMElasticNetRecommender: Processed 30930 (81.1%) in 45.01 min. Items per second: 11.45\n"
     ]
    },
    {
     "name": "stdout",
     "output_type": "stream",
     "text": [
      "SLIMElasticNetRecommender: Processed 34521 (90.6%) in 50.01 min. Items per second: 11.50\n"
     ]
    },
    {
     "name": "stdout",
     "output_type": "stream",
     "text": [
      "SLIMElasticNetRecommender: Processed 37974 (99.6%) in 55.01 min. Items per second: 11.50\n"
     ]
    },
    {
     "name": "stdout",
     "output_type": "stream",
     "text": [
      "SLIMElasticNetRecommender: Processed 38121 (100.0%) in 55.23 min. Items per second: 11.50\n"
     ]
    },
    {
     "name": "stdout",
     "output_type": "stream",
     "text": [
      "EvaluatorHoldout: Processed 35595 (100.0%) in 47.48 sec. Users per second: 750\n"
     ]
    },
    {
     "name": "stderr",
     "output_type": "stream",
     "text": [
      "[I 2024-11-15 22:00:20,897] Trial 13 finished with value: 0.05952013948811076 and parameters: {'topK': 1042, 'l1_ratio': 0.05586109260375262, 'alpha': 0.0005955148198662961, 'positive_only': True}. Best is trial 1 with value: 0.05982349491746694.\n"
     ]
    },
    {
     "name": "stdout",
     "output_type": "stream",
     "text": [
      "SLIMElasticNetRecommender: Processed 1567 ( 4.1%) in 5.00 min. Items per second: 5.22\n"
     ]
    },
    {
     "name": "stdout",
     "output_type": "stream",
     "text": [
      "SLIMElasticNetRecommender: Processed 3070 ( 8.1%) in 10.00 min. Items per second: 5.11\n"
     ]
    },
    {
     "name": "stdout",
     "output_type": "stream",
     "text": [
      "SLIMElasticNetRecommender: Processed 4580 (12.0%) in 15.00 min. Items per second: 5.09\n"
     ]
    },
    {
     "name": "stdout",
     "output_type": "stream",
     "text": [
      "SLIMElasticNetRecommender: Processed 6092 (16.0%) in 20.00 min. Items per second: 5.07\n"
     ]
    },
    {
     "name": "stdout",
     "output_type": "stream",
     "text": [
      "SLIMElasticNetRecommender: Processed 7654 (20.1%) in 25.01 min. Items per second: 5.10\n"
     ]
    },
    {
     "name": "stdout",
     "output_type": "stream",
     "text": [
      "SLIMElasticNetRecommender: Processed 9179 (24.1%) in 30.01 min. Items per second: 5.10\n"
     ]
    },
    {
     "name": "stdout",
     "output_type": "stream",
     "text": [
      "SLIMElasticNetRecommender: Processed 10757 (28.2%) in 35.01 min. Items per second: 5.12\n"
     ]
    },
    {
     "name": "stdout",
     "output_type": "stream",
     "text": [
      "SLIMElasticNetRecommender: Processed 12332 (32.3%) in 40.01 min. Items per second: 5.14\n"
     ]
    },
    {
     "name": "stdout",
     "output_type": "stream",
     "text": [
      "SLIMElasticNetRecommender: Processed 13948 (36.6%) in 45.01 min. Items per second: 5.16\n"
     ]
    },
    {
     "name": "stdout",
     "output_type": "stream",
     "text": [
      "SLIMElasticNetRecommender: Processed 15547 (40.8%) in 50.01 min. Items per second: 5.18\n"
     ]
    },
    {
     "name": "stdout",
     "output_type": "stream",
     "text": [
      "SLIMElasticNetRecommender: Processed 17161 (45.0%) in 55.02 min. Items per second: 5.20\n"
     ]
    },
    {
     "name": "stdout",
     "output_type": "stream",
     "text": [
      "SLIMElasticNetRecommender: Processed 18736 (49.1%) in 1.00 hour. Items per second: 5.20\n"
     ]
    },
    {
     "name": "stdout",
     "output_type": "stream",
     "text": [
      "SLIMElasticNetRecommender: Processed 20383 (53.5%) in 1.08 hour. Items per second: 5.22\n"
     ]
    },
    {
     "name": "stdout",
     "output_type": "stream",
     "text": [
      "SLIMElasticNetRecommender: Processed 21935 (57.5%) in 1.17 hour. Items per second: 5.22\n"
     ]
    },
    {
     "name": "stdout",
     "output_type": "stream",
     "text": [
      "SLIMElasticNetRecommender: Processed 23889 (62.7%) in 1.25 hour. Items per second: 5.31\n"
     ]
    },
    {
     "name": "stdout",
     "output_type": "stream",
     "text": [
      "SLIMElasticNetRecommender: Processed 25823 (67.7%) in 1.33 hour. Items per second: 5.38\n"
     ]
    },
    {
     "name": "stdout",
     "output_type": "stream",
     "text": [
      "SLIMElasticNetRecommender: Processed 27723 (72.7%) in 1.42 hour. Items per second: 5.43\n"
     ]
    },
    {
     "name": "stdout",
     "output_type": "stream",
     "text": [
      "SLIMElasticNetRecommender: Processed 29683 (77.9%) in 1.50 hour. Items per second: 5.49\n"
     ]
    },
    {
     "name": "stdout",
     "output_type": "stream",
     "text": [
      "SLIMElasticNetRecommender: Processed 31723 (83.2%) in 1.58 hour. Items per second: 5.56\n"
     ]
    },
    {
     "name": "stdout",
     "output_type": "stream",
     "text": [
      "SLIMElasticNetRecommender: Processed 33840 (88.8%) in 1.67 hour. Items per second: 5.64\n"
     ]
    },
    {
     "name": "stdout",
     "output_type": "stream",
     "text": [
      "SLIMElasticNetRecommender: Processed 35901 (94.2%) in 1.75 hour. Items per second: 5.70\n"
     ]
    },
    {
     "name": "stdout",
     "output_type": "stream",
     "text": [
      "SLIMElasticNetRecommender: Processed 37951 (99.6%) in 1.83 hour. Items per second: 5.75\n"
     ]
    },
    {
     "name": "stdout",
     "output_type": "stream",
     "text": [
      "SLIMElasticNetRecommender: Processed 38121 (100.0%) in 1.84 hour. Items per second: 5.75\n"
     ]
    },
    {
     "name": "stdout",
     "output_type": "stream",
     "text": [
      "EvaluatorHoldout: Processed 35595 (100.0%) in 50.24 sec. Users per second: 709\n"
     ]
    },
    {
     "name": "stderr",
     "output_type": "stream",
     "text": [
      "[I 2024-11-15 23:51:39,355] Trial 14 finished with value: 0.0529985473704375 and parameters: {'topK': 614, 'l1_ratio': 0.018762948676179697, 'alpha': 0.00031083297393997195, 'positive_only': False}. Best is trial 1 with value: 0.05982349491746694.\n"
     ]
    },
    {
     "name": "stdout",
     "output_type": "stream",
     "text": [
      "SLIMElasticNetRecommender: Processed 14424 (37.8%) in 5.00 min. Items per second: 48.08\n"
     ]
    },
    {
     "name": "stdout",
     "output_type": "stream",
     "text": [
      "SLIMElasticNetRecommender: Processed 28646 (75.1%) in 10.00 min. Items per second: 47.74\n"
     ]
    },
    {
     "name": "stdout",
     "output_type": "stream",
     "text": [
      "SLIMElasticNetRecommender: Processed 38121 (100.0%) in 12.94 min. Items per second: 49.09\n"
     ]
    },
    {
     "name": "stdout",
     "output_type": "stream",
     "text": [
      "EvaluatorHoldout: Processed 35595 (100.0%) in 29.84 sec. Users per second: 1193\n"
     ]
    },
    {
     "name": "stderr",
     "output_type": "stream",
     "text": [
      "[I 2024-11-16 00:05:05,967] Trial 15 finished with value: 0.04538147746807508 and parameters: {'topK': 332, 'l1_ratio': 0.3076699371603463, 'alpha': 0.0009111719680756274, 'positive_only': True}. Best is trial 1 with value: 0.05982349491746694.\n"
     ]
    },
    {
     "name": "stdout",
     "output_type": "stream",
     "text": [
      "SLIMElasticNetRecommender: Processed 3991 (10.5%) in 5.00 min. Items per second: 13.30\n"
     ]
    },
    {
     "name": "stdout",
     "output_type": "stream",
     "text": [
      "SLIMElasticNetRecommender: Processed 7941 (20.8%) in 10.00 min. Items per second: 13.23\n"
     ]
    },
    {
     "name": "stdout",
     "output_type": "stream",
     "text": [
      "SLIMElasticNetRecommender: Processed 11944 (31.3%) in 15.00 min. Items per second: 13.27\n"
     ]
    },
    {
     "name": "stdout",
     "output_type": "stream",
     "text": [
      "SLIMElasticNetRecommender: Processed 16007 (42.0%) in 20.00 min. Items per second: 13.34\n"
     ]
    },
    {
     "name": "stdout",
     "output_type": "stream",
     "text": [
      "SLIMElasticNetRecommender: Processed 20042 (52.6%) in 25.00 min. Items per second: 13.36\n"
     ]
    },
    {
     "name": "stdout",
     "output_type": "stream",
     "text": [
      "SLIMElasticNetRecommender: Processed 24097 (63.2%) in 30.00 min. Items per second: 13.39\n"
     ]
    },
    {
     "name": "stdout",
     "output_type": "stream",
     "text": [
      "SLIMElasticNetRecommender: Processed 28194 (74.0%) in 35.00 min. Items per second: 13.42\n"
     ]
    },
    {
     "name": "stdout",
     "output_type": "stream",
     "text": [
      "SLIMElasticNetRecommender: Processed 32311 (84.8%) in 40.00 min. Items per second: 13.46\n"
     ]
    },
    {
     "name": "stdout",
     "output_type": "stream",
     "text": [
      "SLIMElasticNetRecommender: Processed 36463 (95.7%) in 45.00 min. Items per second: 13.50\n"
     ]
    },
    {
     "name": "stdout",
     "output_type": "stream",
     "text": [
      "SLIMElasticNetRecommender: Processed 38121 (100.0%) in 47.03 min. Items per second: 13.51\n"
     ]
    },
    {
     "name": "stdout",
     "output_type": "stream",
     "text": [
      "EvaluatorHoldout: Processed 35595 (100.0%) in 44.15 sec. Users per second: 806\n"
     ]
    },
    {
     "name": "stderr",
     "output_type": "stream",
     "text": [
      "[I 2024-11-16 00:52:52,394] Trial 16 finished with value: 0.060174874079423415 and parameters: {'topK': 868, 'l1_ratio': 0.08140613164437686, 'alpha': 0.00026303487244196274, 'positive_only': True}. Best is trial 16 with value: 0.060174874079423415.\n"
     ]
    },
    {
     "name": "stdout",
     "output_type": "stream",
     "text": [
      "SLIMElasticNetRecommender: Processed 25125 (65.9%) in 5.00 min. Items per second: 83.75\n"
     ]
    },
    {
     "name": "stdout",
     "output_type": "stream",
     "text": [
      "SLIMElasticNetRecommender: Processed 38121 (100.0%) in 7.59 min. Items per second: 83.68\n"
     ]
    },
    {
     "name": "stdout",
     "output_type": "stream",
     "text": [
      "EvaluatorHoldout: Processed 35595 (100.0%) in 26.42 sec. Users per second: 1347\n"
     ]
    },
    {
     "name": "stderr",
     "output_type": "stream",
     "text": [
      "[I 2024-11-16 01:00:54,528] Trial 17 finished with value: 0.011159177207428605 and parameters: {'topK': 1008, 'l1_ratio': 0.023812462321199785, 'alpha': 0.08974041366927253, 'positive_only': True}. Best is trial 16 with value: 0.060174874079423415.\n"
     ]
    },
    {
     "name": "stdout",
     "output_type": "stream",
     "text": [
      "SLIMElasticNetRecommender: Processed 6691 (17.6%) in 5.00 min. Items per second: 22.30\n"
     ]
    },
    {
     "name": "stdout",
     "output_type": "stream",
     "text": [
      "SLIMElasticNetRecommender: Processed 13583 (35.6%) in 10.00 min. Items per second: 22.64\n"
     ]
    },
    {
     "name": "stdout",
     "output_type": "stream",
     "text": [
      "SLIMElasticNetRecommender: Processed 21109 (55.4%) in 15.00 min. Items per second: 23.45\n"
     ]
    },
    {
     "name": "stdout",
     "output_type": "stream",
     "text": [
      "SLIMElasticNetRecommender: Processed 28555 (74.9%) in 20.00 min. Items per second: 23.79\n"
     ]
    },
    {
     "name": "stdout",
     "output_type": "stream",
     "text": [
      "SLIMElasticNetRecommender: Processed 36736 (96.4%) in 25.00 min. Items per second: 24.49\n"
     ]
    },
    {
     "name": "stdout",
     "output_type": "stream",
     "text": [
      "SLIMElasticNetRecommender: Processed 38121 (100.0%) in 25.99 min. Items per second: 24.45\n"
     ]
    },
    {
     "name": "stdout",
     "output_type": "stream",
     "text": [
      "EvaluatorHoldout: Processed 35595 (100.0%) in 33.44 sec. Users per second: 1064\n"
     ]
    },
    {
     "name": "stderr",
     "output_type": "stream",
     "text": [
      "[I 2024-11-16 01:27:27,425] Trial 18 finished with value: 0.052251848953280146 and parameters: {'topK': 623, 'l1_ratio': 0.05782959095174365, 'alpha': 0.0019354890434831774, 'positive_only': True}. Best is trial 16 with value: 0.060174874079423415.\n"
     ]
    },
    {
     "name": "stdout",
     "output_type": "stream",
     "text": [
      "SLIMElasticNetRecommender: Processed 6398 (16.8%) in 5.00 min. Items per second: 21.32\n"
     ]
    },
    {
     "name": "stdout",
     "output_type": "stream",
     "text": [
      "SLIMElasticNetRecommender: Processed 12815 (33.6%) in 10.00 min. Items per second: 21.36\n"
     ]
    },
    {
     "name": "stdout",
     "output_type": "stream",
     "text": [
      "SLIMElasticNetRecommender: Processed 19768 (51.9%) in 15.00 min. Items per second: 21.96\n"
     ]
    },
    {
     "name": "stdout",
     "output_type": "stream",
     "text": [
      "SLIMElasticNetRecommender: Processed 26889 (70.5%) in 20.00 min. Items per second: 22.41\n"
     ]
    },
    {
     "name": "stdout",
     "output_type": "stream",
     "text": [
      "SLIMElasticNetRecommender: Processed 34245 (89.8%) in 25.00 min. Items per second: 22.83\n"
     ]
    },
    {
     "name": "stdout",
     "output_type": "stream",
     "text": [
      "SLIMElasticNetRecommender: Processed 38121 (100.0%) in 27.83 min. Items per second: 22.83\n"
     ]
    },
    {
     "name": "stdout",
     "output_type": "stream",
     "text": [
      "EvaluatorHoldout: Processed 35595 (100.0%) in 36.35 sec. Users per second: 979\n"
     ]
    },
    {
     "name": "stderr",
     "output_type": "stream",
     "text": [
      "[I 2024-11-16 01:55:53,685] Trial 19 finished with value: 0.04653442497942948 and parameters: {'topK': 319, 'l1_ratio': 0.011744547074173555, 'alpha': 0.007597100685247834, 'positive_only': True}. Best is trial 16 with value: 0.060174874079423415.\n"
     ]
    },
    {
     "name": "stdout",
     "output_type": "stream",
     "text": [
      "SLIMElasticNetRecommender: Processed 3722 ( 9.8%) in 5.00 min. Items per second: 12.40\n"
     ]
    },
    {
     "name": "stdout",
     "output_type": "stream",
     "text": [
      "SLIMElasticNetRecommender: Processed 7450 (19.5%) in 10.00 min. Items per second: 12.41\n"
     ]
    },
    {
     "name": "stdout",
     "output_type": "stream",
     "text": [
      "SLIMElasticNetRecommender: Processed 11190 (29.4%) in 15.00 min. Items per second: 12.43\n"
     ]
    },
    {
     "name": "stdout",
     "output_type": "stream",
     "text": [
      "SLIMElasticNetRecommender: Processed 14959 (39.2%) in 20.00 min. Items per second: 12.46\n"
     ]
    },
    {
     "name": "stdout",
     "output_type": "stream",
     "text": [
      "SLIMElasticNetRecommender: Processed 18699 (49.1%) in 25.00 min. Items per second: 12.46\n"
     ]
    },
    {
     "name": "stdout",
     "output_type": "stream",
     "text": [
      "SLIMElasticNetRecommender: Processed 22486 (59.0%) in 30.00 min. Items per second: 12.49\n"
     ]
    },
    {
     "name": "stdout",
     "output_type": "stream",
     "text": [
      "SLIMElasticNetRecommender: Processed 26263 (68.9%) in 35.00 min. Items per second: 12.50\n"
     ]
    },
    {
     "name": "stdout",
     "output_type": "stream",
     "text": [
      "SLIMElasticNetRecommender: Processed 30049 (78.8%) in 40.00 min. Items per second: 12.52\n"
     ]
    },
    {
     "name": "stdout",
     "output_type": "stream",
     "text": [
      "SLIMElasticNetRecommender: Processed 33878 (88.9%) in 45.00 min. Items per second: 12.55\n"
     ]
    },
    {
     "name": "stdout",
     "output_type": "stream",
     "text": [
      "SLIMElasticNetRecommender: Processed 37710 (98.9%) in 50.01 min. Items per second: 12.57\n"
     ]
    },
    {
     "name": "stdout",
     "output_type": "stream",
     "text": [
      "SLIMElasticNetRecommender: Processed 38121 (100.0%) in 50.55 min. Items per second: 12.57\n"
     ]
    },
    {
     "name": "stdout",
     "output_type": "stream",
     "text": [
      "EvaluatorHoldout: Processed 35595 (100.0%) in 48.74 sec. Users per second: 730\n"
     ]
    },
    {
     "name": "stderr",
     "output_type": "stream",
     "text": [
      "[I 2024-11-16 02:47:15,867] Trial 20 finished with value: 0.05945255375175125 and parameters: {'topK': 1221, 'l1_ratio': 0.037705036401860466, 'alpha': 0.00018139297075410934, 'positive_only': True}. Best is trial 16 with value: 0.060174874079423415.\n"
     ]
    },
    {
     "name": "stdout",
     "output_type": "stream",
     "text": [
      "SLIMElasticNetRecommender: Processed 3896 (10.2%) in 5.00 min. Items per second: 12.98\n"
     ]
    },
    {
     "name": "stdout",
     "output_type": "stream",
     "text": [
      "SLIMElasticNetRecommender: Processed 7776 (20.4%) in 10.00 min. Items per second: 12.96\n"
     ]
    },
    {
     "name": "stdout",
     "output_type": "stream",
     "text": [
      "SLIMElasticNetRecommender: Processed 11700 (30.7%) in 15.00 min. Items per second: 13.00\n"
     ]
    },
    {
     "name": "stdout",
     "output_type": "stream",
     "text": [
      "SLIMElasticNetRecommender: Processed 15764 (41.4%) in 20.00 min. Items per second: 13.13\n"
     ]
    },
    {
     "name": "stdout",
     "output_type": "stream",
     "text": [
      "SLIMElasticNetRecommender: Processed 19770 (51.9%) in 25.00 min. Items per second: 13.18\n"
     ]
    },
    {
     "name": "stdout",
     "output_type": "stream",
     "text": [
      "SLIMElasticNetRecommender: Processed 23767 (62.3%) in 30.00 min. Items per second: 13.20\n"
     ]
    },
    {
     "name": "stdout",
     "output_type": "stream",
     "text": [
      "SLIMElasticNetRecommender: Processed 27769 (72.8%) in 35.00 min. Items per second: 13.22\n"
     ]
    },
    {
     "name": "stdout",
     "output_type": "stream",
     "text": [
      "SLIMElasticNetRecommender: Processed 31788 (83.4%) in 40.01 min. Items per second: 13.24\n"
     ]
    },
    {
     "name": "stdout",
     "output_type": "stream",
     "text": [
      "SLIMElasticNetRecommender: Processed 36012 (94.5%) in 45.01 min. Items per second: 13.34\n"
     ]
    },
    {
     "name": "stdout",
     "output_type": "stream",
     "text": [
      "SLIMElasticNetRecommender: Processed 38121 (100.0%) in 47.67 min. Items per second: 13.33\n"
     ]
    },
    {
     "name": "stdout",
     "output_type": "stream",
     "text": [
      "EvaluatorHoldout: Processed 35595 (100.0%) in 45.42 sec. Users per second: 784\n"
     ]
    },
    {
     "name": "stderr",
     "output_type": "stream",
     "text": [
      "[I 2024-11-16 03:35:42,011] Trial 21 finished with value: 0.059771462239433276 and parameters: {'topK': 834, 'l1_ratio': 0.08991844154616845, 'alpha': 0.0003520498910309756, 'positive_only': False}. Best is trial 16 with value: 0.060174874079423415.\n"
     ]
    },
    {
     "name": "stdout",
     "output_type": "stream",
     "text": [
      "SLIMElasticNetRecommender: Processed 4680 (12.3%) in 5.00 min. Items per second: 15.60\n"
     ]
    },
    {
     "name": "stdout",
     "output_type": "stream",
     "text": [
      "SLIMElasticNetRecommender: Processed 9343 (24.5%) in 10.00 min. Items per second: 15.57\n"
     ]
    },
    {
     "name": "stdout",
     "output_type": "stream",
     "text": [
      "SLIMElasticNetRecommender: Processed 14058 (36.9%) in 15.00 min. Items per second: 15.62\n"
     ]
    },
    {
     "name": "stdout",
     "output_type": "stream",
     "text": [
      "SLIMElasticNetRecommender: Processed 18784 (49.3%) in 20.00 min. Items per second: 15.65\n"
     ]
    },
    {
     "name": "stdout",
     "output_type": "stream",
     "text": [
      "SLIMElasticNetRecommender: Processed 23643 (62.0%) in 25.00 min. Items per second: 15.76\n"
     ]
    },
    {
     "name": "stdout",
     "output_type": "stream",
     "text": [
      "SLIMElasticNetRecommender: Processed 28508 (74.8%) in 30.00 min. Items per second: 15.84\n"
     ]
    },
    {
     "name": "stdout",
     "output_type": "stream",
     "text": [
      "SLIMElasticNetRecommender: Processed 33450 (87.7%) in 35.00 min. Items per second: 15.93\n"
     ]
    },
    {
     "name": "stdout",
     "output_type": "stream",
     "text": [
      "SLIMElasticNetRecommender: Processed 38121 (100.0%) in 39.77 min. Items per second: 15.97\n"
     ]
    },
    {
     "name": "stdout",
     "output_type": "stream",
     "text": [
      "EvaluatorHoldout: Processed 35595 (100.0%) in 37.46 sec. Users per second: 950\n"
     ]
    },
    {
     "name": "stderr",
     "output_type": "stream",
     "text": [
      "[I 2024-11-16 04:16:05,948] Trial 22 finished with value: 0.05931539118433178 and parameters: {'topK': 685, 'l1_ratio': 0.09557057036879102, 'alpha': 0.0005258771507394309, 'positive_only': True}. Best is trial 16 with value: 0.060174874079423415.\n"
     ]
    },
    {
     "name": "stdout",
     "output_type": "stream",
     "text": [
      "SLIMElasticNetRecommender: Processed 4012 (10.5%) in 5.00 min. Items per second: 13.37\n"
     ]
    },
    {
     "name": "stdout",
     "output_type": "stream",
     "text": [
      "SLIMElasticNetRecommender: Processed 7978 (20.9%) in 10.00 min. Items per second: 13.29\n"
     ]
    }
   ],
   "source": [
    "if config['tune_parameters']:\n",
    "    \n",
    "    optuna_study = optuna.create_study(direction='maximize', study_name=f'hyperparameters_tuning_{config[\"model\"]}',\n",
    "                                storage=f'sqlite:///{config[\"database_path\"]}', load_if_exists=True)\n",
    "\n",
    "    optuna_study.optimize(objective_function_SLIMElasticNet, n_trials=6)"
   ]
  },
  {
   "cell_type": "code",
   "execution_count": null,
   "id": "021d4ce4",
   "metadata": {
    "execution": {
     "iopub.execute_input": "2024-11-15T15:01:45.411469Z",
     "iopub.status.busy": "2024-11-15T15:01:45.410558Z",
     "iopub.status.idle": "2024-11-15T15:02:08.839959Z",
     "shell.execute_reply": "2024-11-15T15:02:08.838549Z",
     "shell.execute_reply.started": "2024-11-15T15:01:45.411418Z"
    },
    "papermill": {
     "duration": null,
     "end_time": null,
     "exception": null,
     "start_time": null,
     "status": "pending"
    },
    "tags": []
   },
   "outputs": [],
   "source": [
    "if config['tune_best_params']:\n",
    "\n",
    "    if config['tune_parameters']:\n",
    "        best_params = optuna_study.best_trial.params\n",
    "    else: \n",
    "        json_file_path = '/path/to/best_params.json'\n",
    "\n",
    "        with open(f'/kaggle/working/TrainedModels/{config[\"model\"]}Recommender/best_params_{config[\"model\"]}.json', 'r') as best_params_json:\n",
    "            best_params = json.load(best_params_json)\n",
    "\n",
    "    recommender_instance = SLIMElasticNetRecommender(URM_train + URM_validation)\n",
    "    recommender_instance.fit(**best_params)"
   ]
  },
  {
   "cell_type": "markdown",
   "id": "9d9fbfe9",
   "metadata": {
    "papermill": {
     "duration": null,
     "end_time": null,
     "exception": null,
     "start_time": null,
     "status": "pending"
    },
    "tags": []
   },
   "source": [
    "# Testing"
   ]
  },
  {
   "cell_type": "markdown",
   "id": "ffb7a2e5",
   "metadata": {
    "papermill": {
     "duration": null,
     "end_time": null,
     "exception": null,
     "start_time": null,
     "status": "pending"
    },
    "tags": []
   },
   "source": [
    "Create the recommendations for the submission. "
   ]
  },
  {
   "cell_type": "code",
   "execution_count": null,
   "id": "7ca5a07b",
   "metadata": {
    "execution": {
     "iopub.execute_input": "2024-11-15T15:03:39.968778Z",
     "iopub.status.busy": "2024-11-15T15:03:39.968276Z",
     "iopub.status.idle": "2024-11-15T15:03:39.977147Z",
     "shell.execute_reply": "2024-11-15T15:03:39.975790Z",
     "shell.execute_reply.started": "2024-11-15T15:03:39.968735Z"
    },
    "papermill": {
     "duration": null,
     "end_time": null,
     "exception": null,
     "start_time": null,
     "status": "pending"
    },
    "tags": []
   },
   "outputs": [],
   "source": [
    "def create_submission(data_target_users_test, recommender_instance, cutoff=10, output_file=f\"/kaggle/working/submission_{config['model']}.csv\"):\n",
    "    \n",
    "    target_result = []\n",
    "\n",
    "    for target in data_target_users_test[\"user_id\"]:\n",
    "        target_result.append(recommender_instance.recommend(target, cutoff=cutoff, remove_seen_flag=True))\n",
    "\n",
    "    user_ids = data_target_users_test[\"user_id\"]\n",
    "    formatted_data = {\n",
    "        \"user_id\": user_ids,\n",
    "        \"item_list\": [\" \".join(map(str, items)) for items in target_result]\n",
    "    }\n",
    "\n",
    "    submission_df = pd.DataFrame(formatted_data)\n",
    "    submission_df.to_csv(output_file, index=False, header=[\"user_id\", \"item_list\"])\n",
    "\n",
    "    print(f\"Submission file saved as {output_file}\")"
   ]
  },
  {
   "cell_type": "code",
   "execution_count": null,
   "id": "47805277",
   "metadata": {
    "execution": {
     "iopub.execute_input": "2024-11-15T15:03:41.914940Z",
     "iopub.status.busy": "2024-11-15T15:03:41.914516Z",
     "iopub.status.idle": "2024-11-15T15:04:02.353580Z",
     "shell.execute_reply": "2024-11-15T15:04:02.352375Z",
     "shell.execute_reply.started": "2024-11-15T15:03:41.914900Z"
    },
    "papermill": {
     "duration": null,
     "end_time": null,
     "exception": null,
     "start_time": null,
     "status": "pending"
    },
    "tags": []
   },
   "outputs": [],
   "source": [
    "if config['tune_best_params']:\n",
    "\n",
    "    data_target_users_test = pd.read_csv('/kaggle/input/recommender-system-2024-challenge-polimi/data_target_users_test.csv')\n",
    "    create_submission(data_target_users_test, recommender_instance)"
   ]
  },
  {
   "cell_type": "markdown",
   "id": "5e52bc86",
   "metadata": {
    "execution": {
     "iopub.execute_input": "2024-11-14T00:04:16.877791Z",
     "iopub.status.busy": "2024-11-14T00:04:16.877275Z",
     "iopub.status.idle": "2024-11-14T00:04:16.883170Z",
     "shell.execute_reply": "2024-11-14T00:04:16.881889Z",
     "shell.execute_reply.started": "2024-11-14T00:04:16.877743Z"
    },
    "papermill": {
     "duration": null,
     "end_time": null,
     "exception": null,
     "start_time": null,
     "status": "pending"
    },
    "tags": []
   },
   "source": [
    "# Save Version on GitHub "
   ]
  },
  {
   "cell_type": "markdown",
   "id": "7d13251c",
   "metadata": {
    "papermill": {
     "duration": null,
     "end_time": null,
     "exception": null,
     "start_time": null,
     "status": "pending"
    },
    "tags": []
   },
   "source": [
    "Write or import a json file where best hyperparameters are saved. "
   ]
  },
  {
   "cell_type": "code",
   "execution_count": null,
   "id": "1d5dc341",
   "metadata": {
    "execution": {
     "iopub.execute_input": "2024-11-15T15:04:13.208223Z",
     "iopub.status.busy": "2024-11-15T15:04:13.207103Z",
     "iopub.status.idle": "2024-11-15T15:04:14.121694Z",
     "shell.execute_reply": "2024-11-15T15:04:14.120383Z",
     "shell.execute_reply.started": "2024-11-15T15:04:13.208176Z"
    },
    "papermill": {
     "duration": null,
     "end_time": null,
     "exception": null,
     "start_time": null,
     "status": "pending"
    },
    "tags": []
   },
   "outputs": [],
   "source": [
    "if config['tune_parameters']:\n",
    "    with open(f'/kaggle/working/best_params_{config[\"model\"]}.json', 'w') as params_file:\n",
    "        json.dump(optuna_study.best_params, params_file)\n",
    "        \n",
    "    if config['save_github']:\n",
    "        upload_file(\n",
    "            f'/kaggle/working/best_params_{config[\"model\"]}.json', \n",
    "            f'TrainedModels/{config[\"model\"]}Recommender/best_params_{config[\"model\"]}.json', \n",
    "            f'{config[\"model\"]} tuning results (from kaggle notebook)'\n",
    "        )\n",
    "elif config['copy_prev_best_params']:\n",
    "    shutil.copyfile(\n",
    "        f'/kaggle/working/RECsys_Challenge2024/TrainedModels/{config[\"model\"]}Recommender/'\\\n",
    "        f'best_params_{config[\"model\"]}.json', \n",
    "        f'/kaggle/working/best_params_{config[\"model\"]}.json'\n",
    "    )"
   ]
  },
  {
   "cell_type": "code",
   "execution_count": null,
   "id": "1f2eefff",
   "metadata": {
    "execution": {
     "iopub.execute_input": "2024-11-15T15:06:00.474769Z",
     "iopub.status.busy": "2024-11-15T15:06:00.474261Z",
     "iopub.status.idle": "2024-11-15T15:06:02.399337Z",
     "shell.execute_reply": "2024-11-15T15:06:02.397955Z",
     "shell.execute_reply.started": "2024-11-15T15:06:00.474726Z"
    },
    "papermill": {
     "duration": null,
     "end_time": null,
     "exception": null,
     "start_time": null,
     "status": "pending"
    },
    "tags": []
   },
   "outputs": [],
   "source": [
    "if config['save_github'] and config['tune_best_params']:\n",
    "    upload_file(\n",
    "                f'/kaggle/working/submission_{config[\"model\"]}.csv', \n",
    "                f'TrainedModels/{config[\"model\"]}Recommender/Submission/'\\\n",
    "                    f'submission_{config[\"model\"]}.csv', \n",
    "                f'New {config[\"model\"]} submission (from kaggle notebook)'\n",
    "            )\n",
    "    \n",
    "    recommender_instance.save_model(folder_path='/kaggle/working/', file_name=f'best_{config[\"model\"]}_tuned')\n",
    "    upload_file(\n",
    "        f'/kaggle/working/best_{config[\"model\"]}_tuned.zip',  \n",
    "        f'TrainedModels/{config[\"model\"]}Recommender/best_{config[\"model\"]}_tuned.zip', \n",
    "        f'New {config[\"model\"]} recommender tuned with best parameters (from kaggle notebook)'\n",
    "    )\n"
   ]
  },
  {
   "cell_type": "markdown",
   "id": "f71f69d3",
   "metadata": {
    "execution": {
     "iopub.execute_input": "2024-11-14T00:41:34.294243Z",
     "iopub.status.busy": "2024-11-14T00:41:34.293739Z",
     "iopub.status.idle": "2024-11-14T00:41:34.301478Z",
     "shell.execute_reply": "2024-11-14T00:41:34.299869Z",
     "shell.execute_reply.started": "2024-11-14T00:41:34.294186Z"
    },
    "papermill": {
     "duration": null,
     "end_time": null,
     "exception": null,
     "start_time": null,
     "status": "pending"
    },
    "tags": []
   },
   "source": [
    "Save the history of the tuned model."
   ]
  },
  {
   "cell_type": "code",
   "execution_count": null,
   "id": "3543718b",
   "metadata": {
    "execution": {
     "iopub.execute_input": "2024-11-15T15:07:44.781348Z",
     "iopub.status.busy": "2024-11-15T15:07:44.780905Z",
     "iopub.status.idle": "2024-11-15T15:07:45.728086Z",
     "shell.execute_reply": "2024-11-15T15:07:45.726881Z",
     "shell.execute_reply.started": "2024-11-15T15:07:44.781309Z"
    },
    "papermill": {
     "duration": null,
     "end_time": null,
     "exception": null,
     "start_time": null,
     "status": "pending"
    },
    "tags": []
   },
   "outputs": [],
   "source": [
    "if config['save_github'] and config['tune_parameters']:\n",
    "    upload_file(\n",
    "        config['database_path'], \n",
    "        f'TrainedModels/{config[\"model\"]}Recommender/history_{config[\"model\"]}.db',\n",
    "        f'Tuning {config[\"model\"]} db updated results (from kaggle notebook)'\n",
    "    )"
   ]
  }
 ],
 "metadata": {
  "kaggle": {
   "accelerator": "gpu",
   "dataSources": [
    {
     "databundleVersionId": 9982103,
     "sourceId": 87439,
     "sourceType": "competition"
    },
    {
     "datasetId": 6086661,
     "sourceId": 9907007,
     "sourceType": "datasetVersion"
    }
   ],
   "dockerImageVersionId": 30786,
   "isGpuEnabled": true,
   "isInternetEnabled": true,
   "language": "python",
   "sourceType": "notebook"
  },
  "kernelspec": {
   "display_name": "Python 3",
   "language": "python",
   "name": "python3"
  },
  "language_info": {
   "codemirror_mode": {
    "name": "ipython",
    "version": 3
   },
   "file_extension": ".py",
   "mimetype": "text/x-python",
   "name": "python",
   "nbconvert_exporter": "python",
   "pygments_lexer": "ipython3",
   "version": "3.10.11"
  },
  "papermill": {
   "default_parameters": {},
   "duration": null,
   "end_time": null,
   "environment_variables": {},
   "exception": null,
   "input_path": "__notebook__.ipynb",
   "output_path": "__notebook__.ipynb",
   "parameters": {},
   "start_time": "2024-11-15T16:28:07.232478",
   "version": "2.6.0"
  }
 },
 "nbformat": 4,
 "nbformat_minor": 5
}
