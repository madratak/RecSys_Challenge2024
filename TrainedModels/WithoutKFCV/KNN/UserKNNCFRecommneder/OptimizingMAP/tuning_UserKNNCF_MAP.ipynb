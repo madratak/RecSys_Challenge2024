{
 "cells": [
  {
   "cell_type": "markdown",
   "id": "0a2b44b6",
   "metadata": {
    "papermill": {
     "duration": 0.007152,
     "end_time": "2024-12-15T20:33:42.855970",
     "exception": false,
     "start_time": "2024-12-15T20:33:42.848818",
     "status": "completed"
    },
    "tags": []
   },
   "source": [
    "# Set connection with GitHub"
   ]
  },
  {
   "cell_type": "code",
   "execution_count": 1,
   "id": "49d3b6f5",
   "metadata": {
    "execution": {
     "iopub.execute_input": "2024-12-15T20:33:42.872123Z",
     "iopub.status.busy": "2024-12-15T20:33:42.871695Z",
     "iopub.status.idle": "2024-12-15T20:33:42.878464Z",
     "shell.execute_reply": "2024-12-15T20:33:42.877377Z"
    },
    "papermill": {
     "duration": 0.017757,
     "end_time": "2024-12-15T20:33:42.880776",
     "exception": false,
     "start_time": "2024-12-15T20:33:42.863019",
     "status": "completed"
    },
    "tags": []
   },
   "outputs": [],
   "source": [
    "# ! cd /kaggle/working && rm -rf RECsys_Challenge2024"
   ]
  },
  {
   "cell_type": "code",
   "execution_count": 2,
   "id": "0935b92d",
   "metadata": {
    "_cell_guid": "b1076dfc-b9ad-4769-8c92-a6c4dae69d19",
    "_uuid": "8f2839f25d086af736a60e9eeb907d3b93b6e0e5",
    "execution": {
     "iopub.execute_input": "2024-12-15T20:33:42.894509Z",
     "iopub.status.busy": "2024-12-15T20:33:42.894087Z",
     "iopub.status.idle": "2024-12-15T20:33:53.071697Z",
     "shell.execute_reply": "2024-12-15T20:33:53.070237Z"
    },
    "papermill": {
     "duration": 10.188198,
     "end_time": "2024-12-15T20:33:53.074503",
     "exception": false,
     "start_time": "2024-12-15T20:33:42.886305",
     "status": "completed"
    },
    "tags": []
   },
   "outputs": [
    {
     "name": "stdout",
     "output_type": "stream",
     "text": [
      "Cloning into 'RECsys_Challenge2024'...\r\n",
      "remote: Enumerating objects: 3980, done.\u001b[K\r\n",
      "remote: Counting objects: 100% (1453/1453), done.\u001b[K\r\n",
      "remote: Compressing objects: 100% (445/445), done.\u001b[K\r\n",
      "remote: Total 3980 (delta 808), reused 1452 (delta 808), pack-reused 2527 (from 1)\u001b[K\r\n",
      "Receiving objects: 100% (3980/3980), 167.84 MiB | 29.30 MiB/s, done.\r\n",
      "Resolving deltas: 100% (2327/2327), done.\r\n",
      "Updating files: 100% (374/374), done.\r\n"
     ]
    }
   ],
   "source": [
    "from kaggle_secrets import UserSecretsClient\n",
    "\n",
    "token = UserSecretsClient().get_secret(\"Token\")\n",
    "\n",
    "! git clone https://{token}@github.com/madratak/RECsys_Challenge2024.git"
   ]
  },
  {
   "cell_type": "code",
   "execution_count": 3,
   "id": "52a3d27f",
   "metadata": {
    "execution": {
     "iopub.execute_input": "2024-12-15T20:33:53.093419Z",
     "iopub.status.busy": "2024-12-15T20:33:53.092980Z",
     "iopub.status.idle": "2024-12-15T20:34:05.754685Z",
     "shell.execute_reply": "2024-12-15T20:34:05.753421Z"
    },
    "papermill": {
     "duration": 12.673999,
     "end_time": "2024-12-15T20:34:05.757038",
     "exception": false,
     "start_time": "2024-12-15T20:33:53.083039",
     "status": "completed"
    },
    "tags": []
   },
   "outputs": [
    {
     "name": "stdout",
     "output_type": "stream",
     "text": [
      "Collecting PyGithub\r\n",
      "  Downloading PyGithub-2.5.0-py3-none-any.whl.metadata (3.9 kB)\r\n",
      "Requirement already satisfied: requests in /opt/conda/lib/python3.10/site-packages (2.32.3)\r\n",
      "Collecting pynacl>=1.4.0 (from PyGithub)\r\n",
      "  Downloading PyNaCl-1.5.0-cp36-abi3-manylinux_2_17_x86_64.manylinux2014_x86_64.manylinux_2_24_x86_64.whl.metadata (8.6 kB)\r\n",
      "Requirement already satisfied: pyjwt>=2.4.0 in /opt/conda/lib/python3.10/site-packages (from pyjwt[crypto]>=2.4.0->PyGithub) (2.8.0)\r\n",
      "Requirement already satisfied: typing-extensions>=4.0.0 in /opt/conda/lib/python3.10/site-packages (from PyGithub) (4.12.2)\r\n",
      "Requirement already satisfied: urllib3>=1.26.0 in /opt/conda/lib/python3.10/site-packages (from PyGithub) (1.26.18)\r\n",
      "Requirement already satisfied: Deprecated in /opt/conda/lib/python3.10/site-packages (from PyGithub) (1.2.14)\r\n",
      "Requirement already satisfied: charset-normalizer<4,>=2 in /opt/conda/lib/python3.10/site-packages (from requests) (3.3.2)\r\n",
      "Requirement already satisfied: idna<4,>=2.5 in /opt/conda/lib/python3.10/site-packages (from requests) (3.7)\r\n",
      "Requirement already satisfied: certifi>=2017.4.17 in /opt/conda/lib/python3.10/site-packages (from requests) (2024.6.2)\r\n",
      "Requirement already satisfied: cryptography>=3.4.0 in /opt/conda/lib/python3.10/site-packages (from pyjwt[crypto]>=2.4.0->PyGithub) (42.0.8)\r\n",
      "Requirement already satisfied: cffi>=1.4.1 in /opt/conda/lib/python3.10/site-packages (from pynacl>=1.4.0->PyGithub) (1.16.0)\r\n",
      "Requirement already satisfied: wrapt<2,>=1.10 in /opt/conda/lib/python3.10/site-packages (from Deprecated->PyGithub) (1.16.0)\r\n",
      "Requirement already satisfied: pycparser in /opt/conda/lib/python3.10/site-packages (from cffi>=1.4.1->pynacl>=1.4.0->PyGithub) (2.22)\r\n",
      "Downloading PyGithub-2.5.0-py3-none-any.whl (375 kB)\r\n",
      "\u001b[2K   \u001b[90m━━━━━━━━━━━━━━━━━━━━━━━━━━━━━━━━━━━━━━━━\u001b[0m \u001b[32m375.9/375.9 kB\u001b[0m \u001b[31m9.3 MB/s\u001b[0m eta \u001b[36m0:00:00\u001b[0m\r\n",
      "\u001b[?25hDownloading PyNaCl-1.5.0-cp36-abi3-manylinux_2_17_x86_64.manylinux2014_x86_64.manylinux_2_24_x86_64.whl (856 kB)\r\n",
      "\u001b[2K   \u001b[90m━━━━━━━━━━━━━━━━━━━━━━━━━━━━━━━━━━━━━━━━\u001b[0m \u001b[32m856.7/856.7 kB\u001b[0m \u001b[31m30.6 MB/s\u001b[0m eta \u001b[36m0:00:00\u001b[0m\r\n",
      "\u001b[?25hInstalling collected packages: pynacl, PyGithub\r\n",
      "Successfully installed PyGithub-2.5.0 pynacl-1.5.0\r\n"
     ]
    }
   ],
   "source": [
    "! pip install PyGithub requests"
   ]
  },
  {
   "cell_type": "code",
   "execution_count": 4,
   "id": "d4820281",
   "metadata": {
    "_kg_hide-input": false,
    "execution": {
     "iopub.execute_input": "2024-12-15T20:34:05.776769Z",
     "iopub.status.busy": "2024-12-15T20:34:05.776363Z",
     "iopub.status.idle": "2024-12-15T20:36:37.531879Z",
     "shell.execute_reply": "2024-12-15T20:36:37.530599Z"
    },
    "papermill": {
     "duration": 151.76863,
     "end_time": "2024-12-15T20:36:37.534594",
     "exception": false,
     "start_time": "2024-12-15T20:34:05.765964",
     "status": "completed"
    },
    "tags": []
   },
   "outputs": [
    {
     "name": "stdout",
     "output_type": "stream",
     "text": [
      "/kaggle/working/RECsys_Challenge2024\n",
      "run_compile_all_cython: Found 11 Cython files in 5 folders...\r\n",
      "run_compile_all_cython: All files will be compiled using your current python environment: '/opt/conda/bin/python'\r\n",
      "Compiling [1/11]: MatrixFactorization_Cython_Epoch.pyx... \r\n",
      "In file included from \u001b[01m\u001b[K/opt/conda/lib/python3.10/site-packages/numpy/core/include/numpy/ndarraytypes.h:1929\u001b[m\u001b[K,\r\n",
      "                 from \u001b[01m\u001b[K/opt/conda/lib/python3.10/site-packages/numpy/core/include/numpy/ndarrayobject.h:12\u001b[m\u001b[K,\r\n",
      "                 from \u001b[01m\u001b[K/opt/conda/lib/python3.10/site-packages/numpy/core/include/numpy/arrayobject.h:5\u001b[m\u001b[K,\r\n",
      "                 from \u001b[01m\u001b[KMatrixFactorization_Cython_Epoch.c:1252\u001b[m\u001b[K:\r\n",
      "\u001b[01m\u001b[K/opt/conda/lib/python3.10/site-packages/numpy/core/include/numpy/npy_1_7_deprecated_api.h:17:2:\u001b[m\u001b[K \u001b[01;35m\u001b[Kwarning: \u001b[m\u001b[K#warning \"Using deprecated NumPy API, disable it with \" \"#define NPY_NO_DEPRECATED_API NPY_1_7_API_VERSION\" [\u001b[01;35m\u001b[K-Wcpp\u001b[m\u001b[K]\r\n",
      "   17 | #\u001b[01;35m\u001b[Kwarning\u001b[m\u001b[K \"Using deprecated NumPy API, disable it with \" \\\r\n",
      "      |  \u001b[01;35m\u001b[K^~~~~~~\u001b[m\u001b[K\r\n",
      "\u001b[01m\u001b[KMatrixFactorization_Cython_Epoch.c:\u001b[m\u001b[K In function '\u001b[01m\u001b[K__pyx_pf_32MatrixFactorization_Cython_Epoch_32MatrixFactorization_Cython_Epoch_10epochIteration_Cython_ASY_SVD_SGD\u001b[m\u001b[K':\r\n",
      "\u001b[01m\u001b[KMatrixFactorization_Cython_Epoch.c:26255:9:\u001b[m\u001b[K \u001b[01;35m\u001b[Kwarning: \u001b[m\u001b[K'\u001b[01m\u001b[K__pyx_v_end_pos_seen_items\u001b[m\u001b[K' may be used uninitialized in this function [\u001b[01;35m\u001b[K-Wmaybe-uninitialized\u001b[m\u001b[K]\r\n",
      "26255 |         \u001b[01;35m\u001b[Kfor\u001b[m\u001b[K (__pyx_t_21 = __pyx_v_start_pos_seen_items; __pyx_t_21 < __pyx_t_20; __pyx_t_21+=1) {\r\n",
      "      |         \u001b[01;35m\u001b[K^~~\u001b[m\u001b[K\r\n",
      "\u001b[01m\u001b[KMatrixFactorization_Cython_Epoch.c:26255:9:\u001b[m\u001b[K \u001b[01;35m\u001b[Kwarning: \u001b[m\u001b[K'\u001b[01m\u001b[K__pyx_v_start_pos_seen_items\u001b[m\u001b[K' may be used uninitialized in this function [\u001b[01;35m\u001b[K-Wmaybe-uninitialized\u001b[m\u001b[K]\r\n",
      "/opt/conda/lib/python3.10/site-packages/Cython/Compiler/Main.py:381: FutureWarning: Cython directive 'language_level' not set, using '3str' for now (Py3). This has changed from earlier releases! File: /kaggle/working/RECsys_Challenge2024/Recommenders/MatrixFactorization/Cython/MatrixFactorization_Cython_Epoch.pyx\r\n",
      "  tree = Parsing.p_module(s, pxd, full_module_name)\r\n",
      "Compiling [1/11]: MatrixFactorization_Cython_Epoch.pyx... PASS\r\n",
      "\r\n",
      "Compiling [2/11]: MatrixFactorizationImpressions_Cython_Epoch.pyx... \r\n",
      "In file included from \u001b[01m\u001b[K/opt/conda/lib/python3.10/site-packages/numpy/core/include/numpy/ndarraytypes.h:1929\u001b[m\u001b[K,\r\n",
      "                 from \u001b[01m\u001b[K/opt/conda/lib/python3.10/site-packages/numpy/core/include/numpy/ndarrayobject.h:12\u001b[m\u001b[K,\r\n",
      "                 from \u001b[01m\u001b[K/opt/conda/lib/python3.10/site-packages/numpy/core/include/numpy/arrayobject.h:5\u001b[m\u001b[K,\r\n",
      "                 from \u001b[01m\u001b[KMatrixFactorizationImpressions_Cython_Epoch.c:1252\u001b[m\u001b[K:\r\n",
      "\u001b[01m\u001b[K/opt/conda/lib/python3.10/site-packages/numpy/core/include/numpy/npy_1_7_deprecated_api.h:17:2:\u001b[m\u001b[K \u001b[01;35m\u001b[Kwarning: \u001b[m\u001b[K#warning \"Using deprecated NumPy API, disable it with \" \"#define NPY_NO_DEPRECATED_API NPY_1_7_API_VERSION\" [\u001b[01;35m\u001b[K-Wcpp\u001b[m\u001b[K]\r\n",
      "   17 | #\u001b[01;35m\u001b[Kwarning\u001b[m\u001b[K \"Using deprecated NumPy API, disable it with \" \\\r\n",
      "      |  \u001b[01;35m\u001b[K^~~~~~~\u001b[m\u001b[K\r\n",
      "\u001b[01m\u001b[KMatrixFactorizationImpressions_Cython_Epoch.c:\u001b[m\u001b[K In function '\u001b[01m\u001b[K__pyx_f_43MatrixFactorizationImpressions_Cython_Epoch_32MatrixFactorization_Cython_Epoch_sampleBPR_Cython\u001b[m\u001b[K':\r\n",
      "\u001b[01m\u001b[KMatrixFactorizationImpressions_Cython_Epoch.c:30351:17:\u001b[m\u001b[K \u001b[01;35m\u001b[Kwarning: \u001b[m\u001b[K'\u001b[01m\u001b[K__pyx_v_start_pos_impression_items\u001b[m\u001b[K' may be used uninitialized in this function [\u001b[01;35m\u001b[K-Wmaybe-uninitialized\u001b[m\u001b[K]\r\n",
      "30351 |       \u001b[01;35m\u001b[K__pyx_t_4 = (__pyx_v_start_pos_impression_items + __pyx_v_index)\u001b[m\u001b[K;\r\n",
      "      |       \u001b[01;35m\u001b[K~~~~~~~~~~^~~~~~~~~~~~~~~~~~~~~~~~~~~~~~~~~~~~~~~~~~~~~~~~~~~~~~\u001b[m\u001b[K\r\n",
      "\u001b[01m\u001b[KMatrixFactorizationImpressions_Cython_Epoch.c:\u001b[m\u001b[K In function '\u001b[01m\u001b[K__pyx_pf_43MatrixFactorizationImpressions_Cython_Epoch_32MatrixFactorization_Cython_Epoch_10epochIteration_Cython_ASY_SVD_SGD\u001b[m\u001b[K':\r\n",
      "\u001b[01m\u001b[KMatrixFactorizationImpressions_Cython_Epoch.c:26111:7:\u001b[m\u001b[K \u001b[01;35m\u001b[Kwarning: \u001b[m\u001b[K'\u001b[01m\u001b[K__pyx_v_end_pos_seen_items\u001b[m\u001b[K' may be used uninitialized in this function [\u001b[01;35m\u001b[K-Wmaybe-uninitialized\u001b[m\u001b[K]\r\n",
      "26111 |       \u001b[01;35m\u001b[Kfor\u001b[m\u001b[K (__pyx_t_21 = __pyx_v_start_pos_seen_items; __pyx_t_21 < __pyx_t_20; __pyx_t_21+=1) {\r\n",
      "      |       \u001b[01;35m\u001b[K^~~\u001b[m\u001b[K\r\n",
      "\u001b[01m\u001b[KMatrixFactorizationImpressions_Cython_Epoch.c:26111:7:\u001b[m\u001b[K \u001b[01;35m\u001b[Kwarning: \u001b[m\u001b[K'\u001b[01m\u001b[K__pyx_v_start_pos_seen_items\u001b[m\u001b[K' may be used uninitialized in this function [\u001b[01;35m\u001b[K-Wmaybe-uninitialized\u001b[m\u001b[K]\r\n",
      "/opt/conda/lib/python3.10/site-packages/Cython/Compiler/Main.py:381: FutureWarning: Cython directive 'language_level' not set, using '3str' for now (Py3). This has changed from earlier releases! File: /kaggle/working/RECsys_Challenge2024/Recommenders/MatrixFactorization/Cython/MatrixFactorizationImpressions_Cython_Epoch.pyx\r\n",
      "  tree = Parsing.p_module(s, pxd, full_module_name)\r\n",
      "Compiling [2/11]: MatrixFactorizationImpressions_Cython_Epoch.pyx... PASS\r\n",
      "\r\n",
      "Compiling [3/11]: Compute_Similarity_Cython.pyx... \r\n",
      "warning: Compute_Similarity_Cython.pyx:21:0: The 'IF' statement is deprecated and will be removed in a future Cython version. Consider using runtime conditions or C macros instead. See https://github.com/cython/cython/issues/4310\r\n",
      "In file included from \u001b[01m\u001b[K/opt/conda/lib/python3.10/site-packages/numpy/core/include/numpy/ndarraytypes.h:1929\u001b[m\u001b[K,\r\n",
      "                 from \u001b[01m\u001b[K/opt/conda/lib/python3.10/site-packages/numpy/core/include/numpy/ndarrayobject.h:12\u001b[m\u001b[K,\r\n",
      "                 from \u001b[01m\u001b[K/opt/conda/lib/python3.10/site-packages/numpy/core/include/numpy/arrayobject.h:5\u001b[m\u001b[K,\r\n",
      "                 from \u001b[01m\u001b[KCompute_Similarity_Cython.c:1252\u001b[m\u001b[K:\r\n",
      "\u001b[01m\u001b[K/opt/conda/lib/python3.10/site-packages/numpy/core/include/numpy/npy_1_7_deprecated_api.h:17:2:\u001b[m\u001b[K \u001b[01;35m\u001b[Kwarning: \u001b[m\u001b[K#warning \"Using deprecated NumPy API, disable it with \" \"#define NPY_NO_DEPRECATED_API NPY_1_7_API_VERSION\" [\u001b[01;35m\u001b[K-Wcpp\u001b[m\u001b[K]\r\n",
      "   17 | #\u001b[01;35m\u001b[Kwarning\u001b[m\u001b[K \"Using deprecated NumPy API, disable it with \" \\\r\n",
      "      |  \u001b[01;35m\u001b[K^~~~~~~\u001b[m\u001b[K\r\n",
      "/opt/conda/lib/python3.10/site-packages/Cython/Compiler/Main.py:381: FutureWarning: Cython directive 'language_level' not set, using '3str' for now (Py3). This has changed from earlier releases! File: /kaggle/working/RECsys_Challenge2024/Recommenders/Similarity/Cython/Compute_Similarity_Cython.pyx\r\n",
      "  tree = Parsing.p_module(s, pxd, full_module_name)\r\n",
      "warning: Compute_Similarity_Cython.pyx:21:0: The 'IF' statement is deprecated and will be removed in a future Cython version. Consider using runtime conditions or C macros instead. See https://github.com/cython/cython/issues/4310\r\n",
      "Compiling [3/11]: Compute_Similarity_Cython.pyx... PASS\r\n",
      "\r\n",
      "Compiling [4/11]: Triangular_Matrix.pyx... \r\n",
      "warning: Triangular_Matrix.pyx:22:0: The 'IF' statement is deprecated and will be removed in a future Cython version. Consider using runtime conditions or C macros instead. See https://github.com/cython/cython/issues/4310\r\n",
      "In file included from \u001b[01m\u001b[K/opt/conda/lib/python3.10/site-packages/numpy/core/include/numpy/ndarraytypes.h:1929\u001b[m\u001b[K,\r\n",
      "                 from \u001b[01m\u001b[K/opt/conda/lib/python3.10/site-packages/numpy/core/include/numpy/ndarrayobject.h:12\u001b[m\u001b[K,\r\n",
      "                 from \u001b[01m\u001b[K/opt/conda/lib/python3.10/site-packages/numpy/core/include/numpy/arrayobject.h:5\u001b[m\u001b[K,\r\n",
      "                 from \u001b[01m\u001b[KTriangular_Matrix.c:1252\u001b[m\u001b[K:\r\n",
      "\u001b[01m\u001b[K/opt/conda/lib/python3.10/site-packages/numpy/core/include/numpy/npy_1_7_deprecated_api.h:17:2:\u001b[m\u001b[K \u001b[01;35m\u001b[Kwarning: \u001b[m\u001b[K#warning \"Using deprecated NumPy API, disable it with \" \"#define NPY_NO_DEPRECATED_API NPY_1_7_API_VERSION\" [\u001b[01;35m\u001b[K-Wcpp\u001b[m\u001b[K]\r\n",
      "   17 | #\u001b[01;35m\u001b[Kwarning\u001b[m\u001b[K \"Using deprecated NumPy API, disable it with \" \\\r\n",
      "      |  \u001b[01;35m\u001b[K^~~~~~~\u001b[m\u001b[K\r\n",
      "/opt/conda/lib/python3.10/site-packages/Cython/Compiler/Main.py:381: FutureWarning: Cython directive 'language_level' not set, using '3str' for now (Py3). This has changed from earlier releases! File: /kaggle/working/RECsys_Challenge2024/Recommenders/SLIM/Cython/Triangular_Matrix.pyx\r\n",
      "  tree = Parsing.p_module(s, pxd, full_module_name)\r\n",
      "warning: Triangular_Matrix.pyx:22:0: The 'IF' statement is deprecated and will be removed in a future Cython version. Consider using runtime conditions or C macros instead. See https://github.com/cython/cython/issues/4310\r\n",
      "Compiling [4/11]: Triangular_Matrix.pyx... PASS\r\n",
      "\r\n",
      "Compiling [5/11]: Sparse_Matrix_Tree_CSR.pyx... \r\n",
      "warning: Sparse_Matrix_Tree_CSR.pyx:132:34: Non-trivial type declarators in shared declaration (e.g. mix of pointers and values). Each pointer declaration should be on its own line.\r\n",
      "warning: Sparse_Matrix_Tree_CSR.pyx:132:66: Non-trivial type declarators in shared declaration (e.g. mix of pointers and values). Each pointer declaration should be on its own line.\r\n",
      "warning: Sparse_Matrix_Tree_CSR.pyx:343:35: Non-trivial type declarators in shared declaration (e.g. mix of pointers and values). Each pointer declaration should be on its own line.\r\n",
      "warning: Sparse_Matrix_Tree_CSR.pyx:343:52: Non-trivial type declarators in shared declaration (e.g. mix of pointers and values). Each pointer declaration should be on its own line.\r\n",
      "warning: Sparse_Matrix_Tree_CSR.pyx:442:35: Non-trivial type declarators in shared declaration (e.g. mix of pointers and values). Each pointer declaration should be on its own line.\r\n",
      "warning: Sparse_Matrix_Tree_CSR.pyx:442:53: Non-trivial type declarators in shared declaration (e.g. mix of pointers and values). Each pointer declaration should be on its own line.\r\n",
      "warning: Sparse_Matrix_Tree_CSR.pyx:442:69: Non-trivial type declarators in shared declaration (e.g. mix of pointers and values). Each pointer declaration should be on its own line.\r\n",
      "warning: Sparse_Matrix_Tree_CSR.pyx:577:35: Non-trivial type declarators in shared declaration (e.g. mix of pointers and values). Each pointer declaration should be on its own line.\r\n",
      "warning: Sparse_Matrix_Tree_CSR.pyx:577:42: Non-trivial type declarators in shared declaration (e.g. mix of pointers and values). Each pointer declaration should be on its own line.\r\n",
      "warning: Sparse_Matrix_Tree_CSR.pyx:578:35: Non-trivial type declarators in shared declaration (e.g. mix of pointers and values). Each pointer declaration should be on its own line.\r\n",
      "warning: Sparse_Matrix_Tree_CSR.pyx:578:53: Non-trivial type declarators in shared declaration (e.g. mix of pointers and values). Each pointer declaration should be on its own line.\r\n",
      "\r\n",
      "Error compiling Cython file:\r\n",
      "------------------------------------------------------------\r\n",
      "...\r\n",
      "            vector_pointer_to_list_elements[index].head = current_element\r\n",
      "            current_element = current_element.higher\r\n",
      "\r\n",
      "\r\n",
      "        # Sort array elements on their data field\r\n",
      "        qsort(vector_pointer_to_list_elements, list_length, sizeof(head_pointer_tree_s), compare_struct_on_data)\r\n",
      "                                                                                         ^\r\n",
      "------------------------------------------------------------\r\n",
      "\r\n",
      "Sparse_Matrix_Tree_CSR.pyx:516:89: Cannot assign type 'int (const void *, const void *) except? -1' to 'int (*)(const_void *, const_void *) noexcept'. Exception values are incompatible. Suggest adding 'noexcept' to the type of 'compare_struct_on_data'.\r\n",
      "\r\n",
      "Error compiling Cython file:\r\n",
      "------------------------------------------------------------\r\n",
      "...\r\n",
      "        # Sort array elements on their data field\r\n",
      "        qsort(vector_pointer_to_list_elements, list_length, sizeof(head_pointer_tree_s), compare_struct_on_data)\r\n",
      "\r\n",
      "        # Sort only the TopK according to their column field\r\n",
      "        # Sort is from lower to higher, therefore the elements to be considered are from len-topK to len\r\n",
      "        qsort(&vector_pointer_to_list_elements[list_length-TopK], TopK, sizeof(head_pointer_tree_s), compare_struct_on_column)\r\n",
      "                                                                                                     ^\r\n",
      "------------------------------------------------------------\r\n",
      "\r\n",
      "Sparse_Matrix_Tree_CSR.pyx:520:101: Cannot assign type 'int (const void *, const void *) except? -1' to 'int (*)(const_void *, const_void *) noexcept'. Exception values are incompatible. Suggest adding 'noexcept' to the type of 'compare_struct_on_column'.\r\n",
      "Traceback (most recent call last):\r\n",
      "  File \"/kaggle/working/RECsys_Challenge2024/CythonCompiler/compile_script.py\", line 48, in <module>\r\n",
      "    setup(\r\n",
      "  File \"/opt/conda/lib/python3.10/site-packages/setuptools/__init__.py\", line 103, in setup\r\n",
      "    return distutils.core.setup(**attrs)\r\n",
      "  File \"/opt/conda/lib/python3.10/site-packages/setuptools/_distutils/core.py\", line 184, in setup\r\n",
      "    return run_commands(dist)\r\n",
      "  File \"/opt/conda/lib/python3.10/site-packages/setuptools/_distutils/core.py\", line 200, in run_commands\r\n",
      "    dist.run_commands()\r\n",
      "  File \"/opt/conda/lib/python3.10/site-packages/setuptools/_distutils/dist.py\", line 969, in run_commands\r\n",
      "    self.run_command(cmd)\r\n",
      "  File \"/opt/conda/lib/python3.10/site-packages/setuptools/dist.py\", line 968, in run_command\r\n",
      "    super().run_command(command)\r\n",
      "  File \"/opt/conda/lib/python3.10/site-packages/setuptools/_distutils/dist.py\", line 988, in run_command\r\n",
      "    cmd_obj.run()\r\n",
      "  File \"/opt/conda/lib/python3.10/site-packages/setuptools/_distutils/command/build_ext.py\", line 359, in run\r\n",
      "    self.build_extensions()\r\n",
      "  File \"/opt/conda/lib/python3.10/site-packages/setuptools/_distutils/command/build_ext.py\", line 479, in build_extensions\r\n",
      "    self._build_extensions_serial()\r\n",
      "  File \"/opt/conda/lib/python3.10/site-packages/setuptools/_distutils/command/build_ext.py\", line 505, in _build_extensions_serial\r\n",
      "    self.build_extension(ext)\r\n",
      "  File \"/opt/conda/lib/python3.10/site-packages/Cython/Distutils/build_ext.py\", line 130, in build_extension\r\n",
      "    new_ext = cythonize(\r\n",
      "  File \"/opt/conda/lib/python3.10/site-packages/Cython/Build/Dependencies.py\", line 1154, in cythonize\r\n",
      "    cythonize_one(*args)\r\n",
      "  File \"/opt/conda/lib/python3.10/site-packages/Cython/Build/Dependencies.py\", line 1321, in cythonize_one\r\n",
      "    raise CompileError(None, pyx_file)\r\n",
      "Cython.Compiler.Errors.CompileError: Sparse_Matrix_Tree_CSR.pyx\r\n",
      "Traceback (most recent call last):\r\n",
      "  File \"/kaggle/working/RECsys_Challenge2024/run_compile_all_cython.py\", line 60, in <module>\r\n",
      "    run_compile_subprocess(file_path, [file_name])\r\n",
      "  File \"/kaggle/working/RECsys_Challenge2024/CythonCompiler/run_compile_subprocess.py\", line 51, in run_compile_subprocess\r\n",
      "    raise exc\r\n",
      "  File \"/kaggle/working/RECsys_Challenge2024/CythonCompiler/run_compile_subprocess.py\", line 32, in run_compile_subprocess\r\n",
      "    output = subprocess.check_output(' '.join(command),\r\n",
      "  File \"/opt/conda/lib/python3.10/subprocess.py\", line 421, in check_output\r\n",
      "    return run(*popenargs, stdout=PIPE, timeout=timeout, check=True,\r\n",
      "  File \"/opt/conda/lib/python3.10/subprocess.py\", line 526, in run\r\n",
      "    raise CalledProcessError(retcode, process.args,\r\n",
      "subprocess.CalledProcessError: Command '/opt/conda/bin/python /kaggle/working/RECsys_Challenge2024/CythonCompiler/compile_script.py Sparse_Matrix_Tree_CSR.pyx build_ext --inplace' returned non-zero exit status 1.\r\n",
      "Compiling [5/11]: Sparse_Matrix_Tree_CSR.pyx... FAIL: Command '/opt/conda/bin/python /kaggle/working/RECsys_Challenge2024/CythonCompiler/compile_script.py Sparse_Matrix_Tree_CSR.pyx build_ext --inplace' returned non-zero exit status 1.\r\n",
      "\r\n",
      "Compiling [6/11]: SLIM_BPR_Cython_Epoch.pyx... \r\n",
      "warning: SLIM_BPR_Cython_Epoch.pyx:24:0: The 'IF' statement is deprecated and will be removed in a future Cython version. Consider using runtime conditions or C macros instead. See https://github.com/cython/cython/issues/4310\r\n",
      "warning: SLIM_BPR_Cython_Epoch.pyx:632:34: Non-trivial type declarators in shared declaration (e.g. mix of pointers and values). Each pointer declaration should be on its own line.\r\n",
      "warning: SLIM_BPR_Cython_Epoch.pyx:632:66: Non-trivial type declarators in shared declaration (e.g. mix of pointers and values). Each pointer declaration should be on its own line.\r\n",
      "warning: SLIM_BPR_Cython_Epoch.pyx:817:35: Non-trivial type declarators in shared declaration (e.g. mix of pointers and values). Each pointer declaration should be on its own line.\r\n",
      "warning: SLIM_BPR_Cython_Epoch.pyx:817:52: Non-trivial type declarators in shared declaration (e.g. mix of pointers and values). Each pointer declaration should be on its own line.\r\n",
      "warning: SLIM_BPR_Cython_Epoch.pyx:916:35: Non-trivial type declarators in shared declaration (e.g. mix of pointers and values). Each pointer declaration should be on its own line.\r\n",
      "warning: SLIM_BPR_Cython_Epoch.pyx:916:53: Non-trivial type declarators in shared declaration (e.g. mix of pointers and values). Each pointer declaration should be on its own line.\r\n",
      "warning: SLIM_BPR_Cython_Epoch.pyx:916:69: Non-trivial type declarators in shared declaration (e.g. mix of pointers and values). Each pointer declaration should be on its own line.\r\n",
      "warning: SLIM_BPR_Cython_Epoch.pyx:1051:35: Non-trivial type declarators in shared declaration (e.g. mix of pointers and values). Each pointer declaration should be on its own line.\r\n",
      "warning: SLIM_BPR_Cython_Epoch.pyx:1051:42: Non-trivial type declarators in shared declaration (e.g. mix of pointers and values). Each pointer declaration should be on its own line.\r\n",
      "warning: SLIM_BPR_Cython_Epoch.pyx:1052:35: Non-trivial type declarators in shared declaration (e.g. mix of pointers and values). Each pointer declaration should be on its own line.\r\n",
      "warning: SLIM_BPR_Cython_Epoch.pyx:1052:53: Non-trivial type declarators in shared declaration (e.g. mix of pointers and values). Each pointer declaration should be on its own line.\r\n",
      "\r\n",
      "Error compiling Cython file:\r\n",
      "------------------------------------------------------------\r\n",
      "...\r\n",
      "            vector_pointer_to_list_elements[index].head = current_element\r\n",
      "            current_element = current_element.higher\r\n",
      "\r\n",
      "\r\n",
      "        # Sort array elements on their data field\r\n",
      "        qsort(vector_pointer_to_list_elements, list_length, sizeof(head_pointer_tree_s), compare_struct_on_data)\r\n",
      "                                                                                         ^\r\n",
      "------------------------------------------------------------\r\n",
      "\r\n",
      "SLIM_BPR_Cython_Epoch.pyx:990:89: Cannot assign type 'int (const void *, const void *) except? -1' to 'int (*)(const_void *, const_void *) noexcept'. Exception values are incompatible. Suggest adding 'noexcept' to the type of 'compare_struct_on_data'.\r\n",
      "\r\n",
      "Error compiling Cython file:\r\n",
      "------------------------------------------------------------\r\n",
      "...\r\n",
      "        # Sort array elements on their data field\r\n",
      "        qsort(vector_pointer_to_list_elements, list_length, sizeof(head_pointer_tree_s), compare_struct_on_data)\r\n",
      "\r\n",
      "        # Sort only the TopK according to their column field\r\n",
      "        # Sort is from lower to higher, therefore the elements to be considered are from len-topK to len\r\n",
      "        qsort(&vector_pointer_to_list_elements[list_length-TopK], TopK, sizeof(head_pointer_tree_s), compare_struct_on_column)\r\n",
      "                                                                                                     ^\r\n",
      "------------------------------------------------------------\r\n",
      "\r\n",
      "SLIM_BPR_Cython_Epoch.pyx:994:101: Cannot assign type 'int (const void *, const void *) except? -1' to 'int (*)(const_void *, const_void *) noexcept'. Exception values are incompatible. Suggest adding 'noexcept' to the type of 'compare_struct_on_column'.\r\n",
      "Traceback (most recent call last):\r\n",
      "  File \"/kaggle/working/RECsys_Challenge2024/CythonCompiler/compile_script.py\", line 48, in <module>\r\n",
      "    setup(\r\n",
      "  File \"/opt/conda/lib/python3.10/site-packages/setuptools/__init__.py\", line 103, in setup\r\n",
      "    return distutils.core.setup(**attrs)\r\n",
      "  File \"/opt/conda/lib/python3.10/site-packages/setuptools/_distutils/core.py\", line 184, in setup\r\n",
      "    return run_commands(dist)\r\n",
      "  File \"/opt/conda/lib/python3.10/site-packages/setuptools/_distutils/core.py\", line 200, in run_commands\r\n",
      "    dist.run_commands()\r\n",
      "  File \"/opt/conda/lib/python3.10/site-packages/setuptools/_distutils/dist.py\", line 969, in run_commands\r\n",
      "    self.run_command(cmd)\r\n",
      "  File \"/opt/conda/lib/python3.10/site-packages/setuptools/dist.py\", line 968, in run_command\r\n",
      "    super().run_command(command)\r\n",
      "  File \"/opt/conda/lib/python3.10/site-packages/setuptools/_distutils/dist.py\", line 988, in run_command\r\n",
      "    cmd_obj.run()\r\n",
      "  File \"/opt/conda/lib/python3.10/site-packages/setuptools/_distutils/command/build_ext.py\", line 359, in run\r\n",
      "    self.build_extensions()\r\n",
      "  File \"/opt/conda/lib/python3.10/site-packages/setuptools/_distutils/command/build_ext.py\", line 479, in build_extensions\r\n",
      "    self._build_extensions_serial()\r\n",
      "  File \"/opt/conda/lib/python3.10/site-packages/setuptools/_distutils/command/build_ext.py\", line 505, in _build_extensions_serial\r\n",
      "    self.build_extension(ext)\r\n",
      "  File \"/opt/conda/lib/python3.10/site-packages/Cython/Distutils/build_ext.py\", line 130, in build_extension\r\n",
      "    new_ext = cythonize(\r\n",
      "  File \"/opt/conda/lib/python3.10/site-packages/Cython/Build/Dependencies.py\", line 1154, in cythonize\r\n",
      "    cythonize_one(*args)\r\n",
      "  File \"/opt/conda/lib/python3.10/site-packages/Cython/Build/Dependencies.py\", line 1321, in cythonize_one\r\n",
      "    raise CompileError(None, pyx_file)\r\n",
      "Cython.Compiler.Errors.CompileError: SLIM_BPR_Cython_Epoch.pyx\r\n",
      "Traceback (most recent call last):\r\n",
      "  File \"/kaggle/working/RECsys_Challenge2024/run_compile_all_cython.py\", line 60, in <module>\r\n",
      "    run_compile_subprocess(file_path, [file_name])\r\n",
      "  File \"/kaggle/working/RECsys_Challenge2024/CythonCompiler/run_compile_subprocess.py\", line 51, in run_compile_subprocess\r\n",
      "    raise exc\r\n",
      "  File \"/kaggle/working/RECsys_Challenge2024/CythonCompiler/run_compile_subprocess.py\", line 32, in run_compile_subprocess\r\n",
      "    output = subprocess.check_output(' '.join(command),\r\n",
      "  File \"/opt/conda/lib/python3.10/subprocess.py\", line 421, in check_output\r\n",
      "    return run(*popenargs, stdout=PIPE, timeout=timeout, check=True,\r\n",
      "  File \"/opt/conda/lib/python3.10/subprocess.py\", line 526, in run\r\n",
      "    raise CalledProcessError(retcode, process.args,\r\n",
      "subprocess.CalledProcessError: Command '/opt/conda/bin/python /kaggle/working/RECsys_Challenge2024/CythonCompiler/compile_script.py SLIM_BPR_Cython_Epoch.pyx build_ext --inplace' returned non-zero exit status 1.\r\n",
      "Compiling [6/11]: SLIM_BPR_Cython_Epoch.pyx... FAIL: Command '/opt/conda/bin/python /kaggle/working/RECsys_Challenge2024/CythonCompiler/compile_script.py SLIM_BPR_Cython_Epoch.pyx build_ext --inplace' returned non-zero exit status 1.\r\n",
      "\r\n",
      "Compiling [7/11]: CFW_DVV_Similarity_Cython_SGD.pyx... \r\n",
      "In file included from \u001b[01m\u001b[K/opt/conda/lib/python3.10/site-packages/numpy/core/include/numpy/ndarraytypes.h:1929\u001b[m\u001b[K,\r\n",
      "                 from \u001b[01m\u001b[K/opt/conda/lib/python3.10/site-packages/numpy/core/include/numpy/ndarrayobject.h:12\u001b[m\u001b[K,\r\n",
      "                 from \u001b[01m\u001b[K/opt/conda/lib/python3.10/site-packages/numpy/core/include/numpy/arrayobject.h:5\u001b[m\u001b[K,\r\n",
      "                 from \u001b[01m\u001b[KCFW_DVV_Similarity_Cython_SGD.c:1252\u001b[m\u001b[K:\r\n",
      "\u001b[01m\u001b[K/opt/conda/lib/python3.10/site-packages/numpy/core/include/numpy/npy_1_7_deprecated_api.h:17:2:\u001b[m\u001b[K \u001b[01;35m\u001b[Kwarning: \u001b[m\u001b[K#warning \"Using deprecated NumPy API, disable it with \" \"#define NPY_NO_DEPRECATED_API NPY_1_7_API_VERSION\" [\u001b[01;35m\u001b[K-Wcpp\u001b[m\u001b[K]\r\n",
      "   17 | #\u001b[01;35m\u001b[Kwarning\u001b[m\u001b[K \"Using deprecated NumPy API, disable it with \" \\\r\n",
      "      |  \u001b[01;35m\u001b[K^~~~~~~\u001b[m\u001b[K\r\n",
      "/opt/conda/lib/python3.10/site-packages/Cython/Compiler/Main.py:381: FutureWarning: Cython directive 'language_level' not set, using '3str' for now (Py3). This has changed from earlier releases! File: /kaggle/working/RECsys_Challenge2024/Recommenders/FeatureWeighting/Cython/CFW_DVV_Similarity_Cython_SGD.pyx\r\n",
      "  tree = Parsing.p_module(s, pxd, full_module_name)\r\n",
      "Compiling [7/11]: CFW_DVV_Similarity_Cython_SGD.pyx... PASS\r\n",
      "\r\n",
      "Compiling [8/11]: CFW_D_Similarity_Cython_SGD.pyx... \r\n",
      "In file included from \u001b[01m\u001b[K/opt/conda/lib/python3.10/site-packages/numpy/core/include/numpy/ndarraytypes.h:1929\u001b[m\u001b[K,\r\n",
      "                 from \u001b[01m\u001b[K/opt/conda/lib/python3.10/site-packages/numpy/core/include/numpy/ndarrayobject.h:12\u001b[m\u001b[K,\r\n",
      "                 from \u001b[01m\u001b[K/opt/conda/lib/python3.10/site-packages/numpy/core/include/numpy/arrayobject.h:5\u001b[m\u001b[K,\r\n",
      "                 from \u001b[01m\u001b[KCFW_D_Similarity_Cython_SGD.c:1252\u001b[m\u001b[K:\r\n",
      "\u001b[01m\u001b[K/opt/conda/lib/python3.10/site-packages/numpy/core/include/numpy/npy_1_7_deprecated_api.h:17:2:\u001b[m\u001b[K \u001b[01;35m\u001b[Kwarning: \u001b[m\u001b[K#warning \"Using deprecated NumPy API, disable it with \" \"#define NPY_NO_DEPRECATED_API NPY_1_7_API_VERSION\" [\u001b[01;35m\u001b[K-Wcpp\u001b[m\u001b[K]\r\n",
      "   17 | #\u001b[01;35m\u001b[Kwarning\u001b[m\u001b[K \"Using deprecated NumPy API, disable it with \" \\\r\n",
      "      |  \u001b[01;35m\u001b[K^~~~~~~\u001b[m\u001b[K\r\n",
      "\u001b[01m\u001b[KCFW_D_Similarity_Cython_SGD.c:\u001b[m\u001b[K In function '\u001b[01m\u001b[K__pyx_pf_27CFW_D_Similarity_Cython_SGD_27CFW_D_Similarity_Cython_SGD_6fit\u001b[m\u001b[K':\r\n",
      "\u001b[01m\u001b[KCFW_D_Similarity_Cython_SGD.c:23373:55:\u001b[m\u001b[K \u001b[01;35m\u001b[Kwarning: \u001b[m\u001b[K'\u001b[01m\u001b[K__pyx_v_sample_num\u001b[m\u001b[K' may be used uninitialized in this function [\u001b[01;35m\u001b[K-Wmaybe-uninitialized\u001b[m\u001b[K]\r\n",
      "23373 |   __pyx_t_3 = PyFloat_FromDouble((__pyx_v_cum_loss / \u001b[01;35m\u001b[K((double)__pyx_v_sample_num)\u001b[m\u001b[K)); if (unlikely(!__pyx_t_3)) __PYX_ERR(0, 290, __pyx_L1_error)\r\n",
      "      |                                                      \u001b[01;35m\u001b[K~^~~~~~~~~~~~~~~~~~~~~~~~~~~\u001b[m\u001b[K\r\n",
      "/opt/conda/lib/python3.10/site-packages/Cython/Compiler/Main.py:381: FutureWarning: Cython directive 'language_level' not set, using '3str' for now (Py3). This has changed from earlier releases! File: /kaggle/working/RECsys_Challenge2024/Recommenders/FeatureWeighting/Cython/CFW_D_Similarity_Cython_SGD.pyx\r\n",
      "  tree = Parsing.p_module(s, pxd, full_module_name)\r\n",
      "Compiling [8/11]: CFW_D_Similarity_Cython_SGD.pyx... PASS\r\n",
      "\r\n",
      "Compiling [9/11]: FBSM_Rating_Cython_SGD.pyx... \r\n",
      "In file included from \u001b[01m\u001b[K/opt/conda/lib/python3.10/site-packages/numpy/core/include/numpy/ndarraytypes.h:1929\u001b[m\u001b[K,\r\n",
      "                 from \u001b[01m\u001b[K/opt/conda/lib/python3.10/site-packages/numpy/core/include/numpy/ndarrayobject.h:12\u001b[m\u001b[K,\r\n",
      "                 from \u001b[01m\u001b[K/opt/conda/lib/python3.10/site-packages/numpy/core/include/numpy/arrayobject.h:5\u001b[m\u001b[K,\r\n",
      "                 from \u001b[01m\u001b[KFBSM_Rating_Cython_SGD.c:1252\u001b[m\u001b[K:\r\n",
      "\u001b[01m\u001b[K/opt/conda/lib/python3.10/site-packages/numpy/core/include/numpy/npy_1_7_deprecated_api.h:17:2:\u001b[m\u001b[K \u001b[01;35m\u001b[Kwarning: \u001b[m\u001b[K#warning \"Using deprecated NumPy API, disable it with \" \"#define NPY_NO_DEPRECATED_API NPY_1_7_API_VERSION\" [\u001b[01;35m\u001b[K-Wcpp\u001b[m\u001b[K]\r\n",
      "   17 | #\u001b[01;35m\u001b[Kwarning\u001b[m\u001b[K \"Using deprecated NumPy API, disable it with \" \\\r\n",
      "      |  \u001b[01;35m\u001b[K^~~~~~~\u001b[m\u001b[K\r\n",
      "\u001b[01m\u001b[KFBSM_Rating_Cython_SGD.c:\u001b[m\u001b[K In function '\u001b[01m\u001b[K__pyx_pf_22FBSM_Rating_Cython_SGD_22FBSM_Rating_Cython_SGD_2fit\u001b[m\u001b[K':\r\n",
      "\u001b[01m\u001b[KFBSM_Rating_Cython_SGD.c:26607:55:\u001b[m\u001b[K \u001b[01;35m\u001b[Kwarning: \u001b[m\u001b[K'\u001b[01m\u001b[K__pyx_v_num_sample\u001b[m\u001b[K' may be used uninitialized in this function [\u001b[01;35m\u001b[K-Wmaybe-uninitialized\u001b[m\u001b[K]\r\n",
      "26607 |   __pyx_t_5 = PyFloat_FromDouble((__pyx_v_cum_loss / \u001b[01;35m\u001b[K((double)__pyx_v_num_sample)\u001b[m\u001b[K)); if (unlikely(!__pyx_t_5)) __PYX_ERR(0, 551, __pyx_L1_error)\r\n",
      "      |                                                      \u001b[01;35m\u001b[K~^~~~~~~~~~~~~~~~~~~~~~~~~~~\u001b[m\u001b[K\r\n",
      "/opt/conda/lib/python3.10/site-packages/Cython/Compiler/Main.py:381: FutureWarning: Cython directive 'language_level' not set, using '3str' for now (Py3). This has changed from earlier releases! File: /kaggle/working/RECsys_Challenge2024/Recommenders/FeatureWeighting/Cython/FBSM_Rating_Cython_SGD.pyx\r\n",
      "  tree = Parsing.p_module(s, pxd, full_module_name)\r\n",
      "Compiling [9/11]: FBSM_Rating_Cython_SGD.pyx... PASS\r\n",
      "\r\n",
      "Compiling [10/11]: HP3_Similarity_Cython_SGD.pyx... \r\n",
      "performance hint: HP3_Similarity_Cython_SGD.pyx:113:40: Index should be typed for more efficient access\r\n",
      "performance hint: HP3_Similarity_Cython_SGD.pyx:114:40: Index should be typed for more efficient access\r\n",
      "In file included from \u001b[01m\u001b[K/opt/conda/lib/python3.10/site-packages/numpy/core/include/numpy/ndarraytypes.h:1929\u001b[m\u001b[K,\r\n",
      "                 from \u001b[01m\u001b[K/opt/conda/lib/python3.10/site-packages/numpy/core/include/numpy/ndarrayobject.h:12\u001b[m\u001b[K,\r\n",
      "                 from \u001b[01m\u001b[K/opt/conda/lib/python3.10/site-packages/numpy/core/include/numpy/arrayobject.h:5\u001b[m\u001b[K,\r\n",
      "                 from \u001b[01m\u001b[KHP3_Similarity_Cython_SGD.c:1252\u001b[m\u001b[K:\r\n",
      "\u001b[01m\u001b[K/opt/conda/lib/python3.10/site-packages/numpy/core/include/numpy/npy_1_7_deprecated_api.h:17:2:\u001b[m\u001b[K \u001b[01;35m\u001b[Kwarning: \u001b[m\u001b[K#warning \"Using deprecated NumPy API, disable it with \" \"#define NPY_NO_DEPRECATED_API NPY_1_7_API_VERSION\" [\u001b[01;35m\u001b[K-Wcpp\u001b[m\u001b[K]\r\n",
      "   17 | #\u001b[01;35m\u001b[Kwarning\u001b[m\u001b[K \"Using deprecated NumPy API, disable it with \" \\\r\n",
      "      |  \u001b[01;35m\u001b[K^~~~~~~\u001b[m\u001b[K\r\n",
      "\u001b[01m\u001b[KHP3_Similarity_Cython_SGD.c:\u001b[m\u001b[K In function '\u001b[01m\u001b[K__pyx_pf_25HP3_Similarity_Cython_SGD_25HP3_Similarity_Cython_SGD_4fit\u001b[m\u001b[K':\r\n",
      "\u001b[01m\u001b[KHP3_Similarity_Cython_SGD.c:23631:55:\u001b[m\u001b[K \u001b[01;35m\u001b[Kwarning: \u001b[m\u001b[K'\u001b[01m\u001b[K__pyx_v_sample_num\u001b[m\u001b[K' may be used uninitialized in this function [\u001b[01;35m\u001b[K-Wmaybe-uninitialized\u001b[m\u001b[K]\r\n",
      "23631 |   __pyx_t_1 = PyFloat_FromDouble((__pyx_v_cum_loss / \u001b[01;35m\u001b[K((double)__pyx_v_sample_num)\u001b[m\u001b[K)); if (unlikely(!__pyx_t_1)) __PYX_ERR(0, 291, __pyx_L1_error)\r\n",
      "      |                                                      \u001b[01;35m\u001b[K~^~~~~~~~~~~~~~~~~~~~~~~~~~~\u001b[m\u001b[K\r\n",
      "/opt/conda/lib/python3.10/site-packages/Cython/Compiler/Main.py:381: FutureWarning: Cython directive 'language_level' not set, using '3str' for now (Py3). This has changed from earlier releases! File: /kaggle/working/RECsys_Challenge2024/Recommenders/FeatureWeighting/Cython/HP3_Similarity_Cython_SGD.pyx\r\n",
      "  tree = Parsing.p_module(s, pxd, full_module_name)\r\n",
      "performance hint: HP3_Similarity_Cython_SGD.pyx:113:40: Index should be typed for more efficient access\r\n",
      "performance hint: HP3_Similarity_Cython_SGD.pyx:114:40: Index should be typed for more efficient access\r\n",
      "Compiling [10/11]: HP3_Similarity_Cython_SGD.pyx... PASS\r\n",
      "\r\n",
      "Compiling [11/11]: DataIterator.pyx... \r\n",
      "In file included from \u001b[01m\u001b[K/opt/conda/lib/python3.10/site-packages/numpy/core/include/numpy/ndarraytypes.h:1929\u001b[m\u001b[K,\r\n",
      "                 from \u001b[01m\u001b[K/opt/conda/lib/python3.10/site-packages/numpy/core/include/numpy/ndarrayobject.h:12\u001b[m\u001b[K,\r\n",
      "                 from \u001b[01m\u001b[K/opt/conda/lib/python3.10/site-packages/numpy/core/include/numpy/arrayobject.h:5\u001b[m\u001b[K,\r\n",
      "                 from \u001b[01m\u001b[KDataIterator.c:1252\u001b[m\u001b[K:\r\n",
      "\u001b[01m\u001b[K/opt/conda/lib/python3.10/site-packages/numpy/core/include/numpy/npy_1_7_deprecated_api.h:17:2:\u001b[m\u001b[K \u001b[01;35m\u001b[Kwarning: \u001b[m\u001b[K#warning \"Using deprecated NumPy API, disable it with \" \"#define NPY_NO_DEPRECATED_API NPY_1_7_API_VERSION\" [\u001b[01;35m\u001b[K-Wcpp\u001b[m\u001b[K]\r\n",
      "   17 | #\u001b[01;35m\u001b[Kwarning\u001b[m\u001b[K \"Using deprecated NumPy API, disable it with \" \\\r\n",
      "      |  \u001b[01;35m\u001b[K^~~~~~~\u001b[m\u001b[K\r\n",
      "\u001b[01m\u001b[KDataIterator.c:\u001b[m\u001b[K In function '\u001b[01m\u001b[K__pyx_pf_12DataIterator_30InteractionAndNegativeIterator_6__next__\u001b[m\u001b[K':\r\n",
      "\u001b[01m\u001b[KDataIterator.c:25495:22:\u001b[m\u001b[K \u001b[01;35m\u001b[Kwarning: \u001b[m\u001b[K'\u001b[01m\u001b[K__pyx_v_i_batch\u001b[m\u001b[K' may be used uninitialized in this function [\u001b[01;35m\u001b[K-Wmaybe-uninitialized\u001b[m\u001b[K]\r\n",
      "25495 |     (__pyx_v_i_batch \u001b[01;35m\u001b[K+\u001b[m\u001b[K 1),\r\n",
      "      |                      \u001b[01;35m\u001b[K^\u001b[m\u001b[K\r\n",
      "\u001b[01m\u001b[KDataIterator.c:\u001b[m\u001b[K In function '\u001b[01m\u001b[K__pyx_pf_12DataIterator_11BPRIterator_6__next__\u001b[m\u001b[K':\r\n",
      "\u001b[01m\u001b[KDataIterator.c:23054:22:\u001b[m\u001b[K \u001b[01;35m\u001b[Kwarning: \u001b[m\u001b[K'\u001b[01m\u001b[K__pyx_v_i_batch\u001b[m\u001b[K' may be used uninitialized in this function [\u001b[01;35m\u001b[K-Wmaybe-uninitialized\u001b[m\u001b[K]\r\n",
      "23054 |     (__pyx_v_i_batch \u001b[01;35m\u001b[K+\u001b[m\u001b[K 1),\r\n",
      "      |                      \u001b[01;35m\u001b[K^\u001b[m\u001b[K\r\n",
      "\u001b[01m\u001b[KDataIterator.c:\u001b[m\u001b[K In function '\u001b[01m\u001b[K__pyx_pf_12DataIterator_19InteractionIterator_6__next__\u001b[m\u001b[K':\r\n",
      "\u001b[01m\u001b[KDataIterator.c:20937:22:\u001b[m\u001b[K \u001b[01;35m\u001b[Kwarning: \u001b[m\u001b[K'\u001b[01m\u001b[K__pyx_v_i_batch\u001b[m\u001b[K' may be used uninitialized in this function [\u001b[01;35m\u001b[K-Wmaybe-uninitialized\u001b[m\u001b[K]\r\n",
      "20937 |     (__pyx_v_i_batch \u001b[01;35m\u001b[K+\u001b[m\u001b[K 1),\r\n",
      "      |                      \u001b[01;35m\u001b[K^\u001b[m\u001b[K\r\n",
      "/opt/conda/lib/python3.10/site-packages/Cython/Compiler/Main.py:381: FutureWarning: Cython directive 'language_level' not set, using '3str' for now (Py3). This has changed from earlier releases! File: /kaggle/working/RECsys_Challenge2024/Utils/PyTorch/Cython/DataIterator.pyx\r\n",
      "  tree = Parsing.p_module(s, pxd, full_module_name)\r\n",
      "Compiling [11/11]: DataIterator.pyx... PASS\r\n",
      "\r\n",
      "run_compile_all_cython: Compilation finished. FAILS 2/11.\r\n",
      "Compilation log can be found here: './result_experiments/run_compile_all_cython.txt'\r\n"
     ]
    }
   ],
   "source": [
    "%cd /kaggle/working/RECsys_Challenge2024 \n",
    "! python run_compile_all_cython.py"
   ]
  },
  {
   "cell_type": "code",
   "execution_count": 5,
   "id": "8ba91104",
   "metadata": {
    "execution": {
     "iopub.execute_input": "2024-12-15T20:36:37.561777Z",
     "iopub.status.busy": "2024-12-15T20:36:37.561385Z",
     "iopub.status.idle": "2024-12-15T20:36:39.378399Z",
     "shell.execute_reply": "2024-12-15T20:36:39.377211Z"
    },
    "papermill": {
     "duration": 1.833157,
     "end_time": "2024-12-15T20:36:39.380973",
     "exception": false,
     "start_time": "2024-12-15T20:36:37.547816",
     "status": "completed"
    },
    "tags": []
   },
   "outputs": [],
   "source": [
    "from Utils.notebookFunctions import *\n",
    "import numpy as np\n",
    "import pandas as pd\n",
    "import scipy.sparse as sps\n",
    "import time\n",
    "import shutil\n",
    "import optuna\n",
    "import json\n",
    "import os\n",
    "from Utils.seconds_to_biggest_unit import seconds_to_biggest_unit\n",
    "\n",
    "\n",
    "K_PATH = '/kaggle/working/RECsys_Challenge2024'\n",
    "GH_PATH = 'TrainedModels/WithoutKFCV/SingleRecommenders'\n",
    "\n",
    "np.random.seed(42)"
   ]
  },
  {
   "cell_type": "markdown",
   "id": "f9988de0",
   "metadata": {
    "papermill": {
     "duration": 0.011849,
     "end_time": "2024-12-15T20:36:39.405667",
     "exception": false,
     "start_time": "2024-12-15T20:36:39.393818",
     "status": "completed"
    },
    "tags": []
   },
   "source": [
    "## Import the repository **RECsys_Challenge2024**"
   ]
  },
  {
   "cell_type": "code",
   "execution_count": 6,
   "id": "7aa38be5",
   "metadata": {
    "execution": {
     "iopub.execute_input": "2024-12-15T20:36:39.431572Z",
     "iopub.status.busy": "2024-12-15T20:36:39.431028Z",
     "iopub.status.idle": "2024-12-15T20:36:39.680146Z",
     "shell.execute_reply": "2024-12-15T20:36:39.678976Z"
    },
    "papermill": {
     "duration": 0.264786,
     "end_time": "2024-12-15T20:36:39.682538",
     "exception": false,
     "start_time": "2024-12-15T20:36:39.417752",
     "status": "completed"
    },
    "tags": []
   },
   "outputs": [
    {
     "name": "stdout",
     "output_type": "stream",
     "text": [
      "Repository 'RECsys_Challenge2024' found.\n"
     ]
    }
   ],
   "source": [
    "repo = get_repo_from_github(token)"
   ]
  },
  {
   "cell_type": "code",
   "execution_count": 7,
   "id": "38136a39",
   "metadata": {
    "execution": {
     "iopub.execute_input": "2024-12-15T20:36:39.708755Z",
     "iopub.status.busy": "2024-12-15T20:36:39.707943Z",
     "iopub.status.idle": "2024-12-15T20:36:39.712901Z",
     "shell.execute_reply": "2024-12-15T20:36:39.711925Z"
    },
    "papermill": {
     "duration": 0.020038,
     "end_time": "2024-12-15T20:36:39.714717",
     "exception": false,
     "start_time": "2024-12-15T20:36:39.694679",
     "status": "completed"
    },
    "tags": []
   },
   "outputs": [],
   "source": [
    "config = {\n",
    "    'model': 'UserKNNCF',\n",
    "    'tune_parameters': True,\n",
    "    'database_path': '/kaggle/working/history_UserKNNCF.db',\n",
    "    'copy_prev_best_params': False,\n",
    "    'tune_best_params': True,\n",
    "    'save_github': True\n",
    "}"
   ]
  },
  {
   "cell_type": "markdown",
   "id": "70db7588",
   "metadata": {
    "papermill": {
     "duration": 0.011596,
     "end_time": "2024-12-15T20:36:39.738555",
     "exception": false,
     "start_time": "2024-12-15T20:36:39.726959",
     "status": "completed"
    },
    "tags": []
   },
   "source": [
    "Import the database where previous tuning trials have been saved."
   ]
  },
  {
   "cell_type": "code",
   "execution_count": 8,
   "id": "1797b966",
   "metadata": {
    "execution": {
     "iopub.execute_input": "2024-12-15T20:36:39.764790Z",
     "iopub.status.busy": "2024-12-15T20:36:39.763906Z",
     "iopub.status.idle": "2024-12-15T20:36:39.769367Z",
     "shell.execute_reply": "2024-12-15T20:36:39.768429Z"
    },
    "papermill": {
     "duration": 0.020703,
     "end_time": "2024-12-15T20:36:39.771409",
     "exception": false,
     "start_time": "2024-12-15T20:36:39.750706",
     "status": "completed"
    },
    "tags": []
   },
   "outputs": [],
   "source": [
    "try:\n",
    "    shutil.copyfile(\n",
    "        f'{K_PATH}/{GH_PATH}/{config[\"model\"]}Recommender/history_{config[\"model\"]}.db', \n",
    "        config['database_path']\n",
    "    )\n",
    "except FileNotFoundError:\n",
    "    pass # if not present optuna will create it"
   ]
  },
  {
   "cell_type": "markdown",
   "id": "c0b00b96",
   "metadata": {
    "papermill": {
     "duration": 0.011621,
     "end_time": "2024-12-15T20:36:39.795239",
     "exception": false,
     "start_time": "2024-12-15T20:36:39.783618",
     "status": "completed"
    },
    "tags": []
   },
   "source": [
    "# Construction of URM and ICM matrices"
   ]
  },
  {
   "cell_type": "code",
   "execution_count": 9,
   "id": "696dee6c",
   "metadata": {
    "execution": {
     "iopub.execute_input": "2024-12-15T20:36:39.821724Z",
     "iopub.status.busy": "2024-12-15T20:36:39.821367Z",
     "iopub.status.idle": "2024-12-15T20:36:40.814559Z",
     "shell.execute_reply": "2024-12-15T20:36:40.813496Z"
    },
    "papermill": {
     "duration": 1.009309,
     "end_time": "2024-12-15T20:36:40.816748",
     "exception": false,
     "start_time": "2024-12-15T20:36:39.807439",
     "status": "completed"
    },
    "tags": []
   },
   "outputs": [
    {
     "data": {
      "text/plain": [
       "<Compressed Sparse Row sparse matrix of dtype 'float64'\n",
       "\twith 1764607 stored elements and shape (35736, 38121)>"
      ]
     },
     "execution_count": 9,
     "metadata": {},
     "output_type": "execute_result"
    }
   ],
   "source": [
    "URM_all_dataframe = pd.read_csv(\"/kaggle/input/recommender-system-2024-challenge-polimi/data_train.csv\")\n",
    "\n",
    "n_users = len(URM_all_dataframe[\"user_id\"].unique())\n",
    "n_items = len(URM_all_dataframe[\"item_id\"].unique())\n",
    "\n",
    "URM_all = sps.csr_matrix((URM_all_dataframe[\"data\"].values, \n",
    "                          (URM_all_dataframe[\"user_id\"].values, URM_all_dataframe[\"item_id\"].values)),\n",
    "                        shape = (n_users, n_items))\n",
    "\n",
    "URM_all"
   ]
  },
  {
   "cell_type": "code",
   "execution_count": 10,
   "id": "825ba047",
   "metadata": {
    "execution": {
     "iopub.execute_input": "2024-12-15T20:36:40.843898Z",
     "iopub.status.busy": "2024-12-15T20:36:40.843486Z",
     "iopub.status.idle": "2024-12-15T20:36:42.326367Z",
     "shell.execute_reply": "2024-12-15T20:36:42.325330Z"
    },
    "papermill": {
     "duration": 1.499451,
     "end_time": "2024-12-15T20:36:42.328787",
     "exception": false,
     "start_time": "2024-12-15T20:36:40.829336",
     "status": "completed"
    },
    "tags": []
   },
   "outputs": [
    {
     "data": {
      "text/plain": [
       "<Compressed Sparse Row sparse matrix of dtype 'float64'\n",
       "\twith 2940040 stored elements and shape (38121, 94331)>"
      ]
     },
     "execution_count": 10,
     "metadata": {},
     "output_type": "execute_result"
    }
   ],
   "source": [
    "ICM_dataframe = pd.read_csv(\"/kaggle/input/recommender-system-2024-challenge-polimi/data_ICM_metadata.csv\")\n",
    "\n",
    "n_items = len(ICM_dataframe[\"item_id\"].unique())\n",
    "n_features = len(ICM_dataframe[\"feature_id\"].unique())\n",
    "\n",
    "ICM_all = sps.csr_matrix((ICM_dataframe[\"data\"].values, \n",
    "                          (ICM_dataframe[\"item_id\"].values, ICM_dataframe[\"feature_id\"].values)),\n",
    "                        shape = (n_items, n_features))\n",
    "\n",
    "ICM_all"
   ]
  },
  {
   "cell_type": "markdown",
   "id": "c31a2069",
   "metadata": {
    "papermill": {
     "duration": 0.012085,
     "end_time": "2024-12-15T20:36:42.353380",
     "exception": false,
     "start_time": "2024-12-15T20:36:42.341295",
     "status": "completed"
    },
    "tags": []
   },
   "source": [
    "# Training"
   ]
  },
  {
   "cell_type": "code",
   "execution_count": 11,
   "id": "d15c7204",
   "metadata": {
    "execution": {
     "iopub.execute_input": "2024-12-15T20:36:42.379834Z",
     "iopub.status.busy": "2024-12-15T20:36:42.379466Z",
     "iopub.status.idle": "2024-12-15T20:36:45.334078Z",
     "shell.execute_reply": "2024-12-15T20:36:45.332927Z"
    },
    "papermill": {
     "duration": 2.970441,
     "end_time": "2024-12-15T20:36:45.336198",
     "exception": false,
     "start_time": "2024-12-15T20:36:42.365757",
     "status": "completed"
    },
    "tags": []
   },
   "outputs": [
    {
     "name": "stdout",
     "output_type": "stream",
     "text": [
      "Warning: 141 (0.39 %) of 35736 users have no sampled items\n",
      "EvaluatorHoldout: Ignoring 141 ( 0.4%) Users that have less than 1 test interactions\n"
     ]
    }
   ],
   "source": [
    "from Evaluation.Evaluator import EvaluatorHoldout\n",
    "from Data_manager.split_functions.split_train_validation_random_holdout import split_train_in_two_percentage_global_sample\n",
    "\n",
    "URM_train, URM_validation = split_train_in_two_percentage_global_sample(URM_all, train_percentage = 0.80)\n",
    "\n",
    "evaluator_validation = EvaluatorHoldout(URM_validation, cutoff_list=[10])"
   ]
  },
  {
   "cell_type": "code",
   "execution_count": 12,
   "id": "0ae050b7",
   "metadata": {
    "execution": {
     "iopub.execute_input": "2024-12-15T20:36:45.363982Z",
     "iopub.status.busy": "2024-12-15T20:36:45.362748Z",
     "iopub.status.idle": "2024-12-15T20:36:45.382786Z",
     "shell.execute_reply": "2024-12-15T20:36:45.381393Z"
    },
    "papermill": {
     "duration": 0.036661,
     "end_time": "2024-12-15T20:36:45.385418",
     "exception": false,
     "start_time": "2024-12-15T20:36:45.348757",
     "status": "completed"
    },
    "tags": []
   },
   "outputs": [],
   "source": [
    "from Recommenders.KNN.UserKNNCFRecommender import UserKNNCFRecommender\n",
    "\n",
    "def objective_function_UserKNNCF(optuna_trial):\n",
    "    \n",
    "    recommender_instance = UserKNNCFRecommender(URM_train)\n",
    "    similarity = optuna_trial.suggest_categorical(\"similarity\", ['cosine', 'dice', 'jaccard', 'asymmetric', 'tversky', 'euclidean'])\n",
    "    \n",
    "    full_hyperp = {\"similarity\": similarity,\n",
    "                   \"topK\": optuna_trial.suggest_int(\"topK\", 0, 750),\n",
    "                   \"shrink\": optuna_trial.suggest_int(\"shrink\", 0, 1000),\n",
    "                   'feature_weighting': optuna_trial.suggest_categorical('feature_weighting', [\"BM25\", \"TF-IDF\", \"none\"])\n",
    "                  }\n",
    "    \n",
    "    if similarity == \"asymmetric\":\n",
    "        full_hyperp[\"asymmetric_alpha\"] = optuna_trial.suggest_float(\"asymmetric_alpha\", 0, 2, log=False)\n",
    "        full_hyperp[\"normalize\"] = True     \n",
    "\n",
    "    elif similarity == \"tversky\":\n",
    "        full_hyperp[\"tversky_alpha\"] = optuna_trial.suggest_float(\"tversky_alpha\", 0, 2, log=False)\n",
    "        full_hyperp[\"tversky_beta\"] = optuna_trial.suggest_float(\"tversky_beta\", 0, 2, log=False)\n",
    "        full_hyperp[\"normalize\"] = True \n",
    "\n",
    "    elif similarity == \"euclidean\":\n",
    "        full_hyperp[\"normalize_avg_row\"] = optuna_trial.suggest_categorical(\"normalize_avg_row\", [True, False])\n",
    "        full_hyperp[\"similarity_from_distance_mode\"] = optuna_trial.suggest_categorical(\"similarity_from_distance_mode\", [\"lin\", \"log\", \"exp\"])\n",
    "        full_hyperp[\"normalize\"] = optuna_trial.suggest_categorical(\"normalize\", [True, False])\n",
    "        \n",
    "    \n",
    "    recommender_instance.fit(**full_hyperp)\n",
    "    \n",
    "    result_df, _ = evaluator_validation.evaluateRecommender(recommender_instance)\n",
    "    \n",
    "    return result_df.loc[10][\"MAP\"]"
   ]
  },
  {
   "cell_type": "code",
   "execution_count": 13,
   "id": "0a65ef15",
   "metadata": {
    "_kg_hide-output": true,
    "execution": {
     "iopub.execute_input": "2024-12-15T20:36:45.412351Z",
     "iopub.status.busy": "2024-12-15T20:36:45.411947Z",
     "iopub.status.idle": "2024-12-16T02:45:36.403816Z",
     "shell.execute_reply": "2024-12-16T02:45:36.402654Z"
    },
    "papermill": {
     "duration": 22131.019753,
     "end_time": "2024-12-16T02:45:36.417876",
     "exception": false,
     "start_time": "2024-12-15T20:36:45.398123",
     "status": "completed"
    },
    "tags": []
   },
   "outputs": [
    {
     "name": "stderr",
     "output_type": "stream",
     "text": [
      "[I 2024-12-15 20:36:47,423] A new study created in RDB with name: hyperparameters_tuning_UserKNNCF\n"
     ]
    },
    {
     "name": "stdout",
     "output_type": "stream",
     "text": [
      "Similarity column 35736 (100.0%), 2949.33 column/sec. Elapsed time 12.12 sec\n",
      "EvaluatorHoldout: Processed 35595 (100.0%) in 42.47 sec. Users per second: 838\n"
     ]
    },
    {
     "name": "stderr",
     "output_type": "stream",
     "text": [
      "[I 2024-12-15 20:37:43,002] Trial 0 finished with value: 0.03254622104495577 and parameters: {'similarity': 'asymmetric', 'topK': 344, 'shrink': 594, 'feature_weighting': 'TF-IDF', 'asymmetric_alpha': 1.955307917347002}. Best is trial 0 with value: 0.03254622104495577.\n"
     ]
    },
    {
     "name": "stdout",
     "output_type": "stream",
     "text": [
      "Similarity column 35736 (100.0%), 3070.76 column/sec. Elapsed time 11.64 sec\n",
      "EvaluatorHoldout: Processed 35595 (100.0%) in 57.93 sec. Users per second: 614\n"
     ]
    },
    {
     "name": "stderr",
     "output_type": "stream",
     "text": [
      "[I 2024-12-15 20:38:54,059] Trial 1 finished with value: 0.03874528034747028 and parameters: {'similarity': 'dice', 'topK': 749, 'shrink': 459, 'feature_weighting': 'BM25'}. Best is trial 1 with value: 0.03874528034747028.\n"
     ]
    },
    {
     "name": "stdout",
     "output_type": "stream",
     "text": [
      "Similarity column 35736 (100.0%), 3233.08 column/sec. Elapsed time 11.05 sec\n",
      "EvaluatorHoldout: Processed 35595 (100.0%) in 37.88 sec. Users per second: 940\n"
     ]
    },
    {
     "name": "stderr",
     "output_type": "stream",
     "text": [
      "[I 2024-12-15 20:39:43,647] Trial 2 finished with value: 0.034677297729972564 and parameters: {'similarity': 'dice', 'topK': 101, 'shrink': 579, 'feature_weighting': 'TF-IDF'}. Best is trial 1 with value: 0.03874528034747028.\n"
     ]
    },
    {
     "name": "stdout",
     "output_type": "stream",
     "text": [
      "Similarity column 35736 (100.0%), 325.96 column/sec. Elapsed time 1.83 min\n",
      "EvaluatorHoldout: Processed 35595 (100.0%) in 56.39 sec. Users per second: 631\n"
     ]
    },
    {
     "name": "stderr",
     "output_type": "stream",
     "text": [
      "[I 2024-12-15 20:42:30,760] Trial 3 finished with value: 0.03159333953181333 and parameters: {'similarity': 'euclidean', 'topK': 606, 'shrink': 150, 'feature_weighting': 'BM25', 'normalize_avg_row': True, 'similarity_from_distance_mode': 'log', 'normalize': True}. Best is trial 1 with value: 0.03874528034747028.\n"
     ]
    },
    {
     "name": "stdout",
     "output_type": "stream",
     "text": [
      "Similarity column 35736 (100.0%), 2933.92 column/sec. Elapsed time 12.18 sec\n",
      "EvaluatorHoldout: Processed 35595 (100.0%) in 36.35 sec. Users per second: 979\n"
     ]
    },
    {
     "name": "stderr",
     "output_type": "stream",
     "text": [
      "[I 2024-12-15 20:43:19,925] Trial 4 finished with value: 0.026739999375692214 and parameters: {'similarity': 'tversky', 'topK': 71, 'shrink': 634, 'feature_weighting': 'BM25', 'tversky_alpha': 0.8064456336953887, 'tversky_beta': 1.4381799873210923}. Best is trial 1 with value: 0.03874528034747028.\n"
     ]
    },
    {
     "name": "stdout",
     "output_type": "stream",
     "text": [
      "Similarity column 35736 (100.0%), 2978.99 column/sec. Elapsed time 12.00 sec\n",
      "EvaluatorHoldout: Processed 35595 (100.0%) in 59.32 sec. Users per second: 600\n"
     ]
    },
    {
     "name": "stderr",
     "output_type": "stream",
     "text": [
      "[I 2024-12-15 20:44:32,604] Trial 5 finished with value: 0.041902430785488554 and parameters: {'similarity': 'cosine', 'topK': 741, 'shrink': 96, 'feature_weighting': 'BM25'}. Best is trial 5 with value: 0.041902430785488554.\n"
     ]
    },
    {
     "name": "stdout",
     "output_type": "stream",
     "text": [
      "Similarity column 35736 (100.0%), 2981.96 column/sec. Elapsed time 11.98 sec\n",
      "EvaluatorHoldout: Processed 35595 (100.0%) in 54.15 sec. Users per second: 657\n"
     ]
    },
    {
     "name": "stderr",
     "output_type": "stream",
     "text": [
      "[I 2024-12-15 20:45:40,170] Trial 6 finished with value: 0.03409058923470939 and parameters: {'similarity': 'cosine', 'topK': 617, 'shrink': 176, 'feature_weighting': 'none'}. Best is trial 5 with value: 0.041902430785488554.\n"
     ]
    },
    {
     "name": "stdout",
     "output_type": "stream",
     "text": [
      "Similarity column 35736 (100.0%), 3131.05 column/sec. Elapsed time 11.41 sec\n",
      "EvaluatorHoldout: Processed 35595 (100.0%) in 49.73 sec. Users per second: 716\n"
     ]
    },
    {
     "name": "stderr",
     "output_type": "stream",
     "text": [
      "[I 2024-12-15 20:46:42,531] Trial 7 finished with value: 0.036222733931329354 and parameters: {'similarity': 'dice', 'topK': 400, 'shrink': 22, 'feature_weighting': 'none'}. Best is trial 5 with value: 0.041902430785488554.\n"
     ]
    },
    {
     "name": "stdout",
     "output_type": "stream",
     "text": [
      "Similarity column 35736 (100.0%), 3060.90 column/sec. Elapsed time 11.68 sec\n",
      "EvaluatorHoldout: Processed 35595 (100.0%) in 38.40 sec. Users per second: 927\n"
     ]
    },
    {
     "name": "stderr",
     "output_type": "stream",
     "text": [
      "[I 2024-12-15 20:47:33,076] Trial 8 finished with value: 0.03211180899760663 and parameters: {'similarity': 'asymmetric', 'topK': 177, 'shrink': 603, 'feature_weighting': 'none', 'asymmetric_alpha': 1.5642583450214778}. Best is trial 5 with value: 0.041902430785488554.\n"
     ]
    },
    {
     "name": "stdout",
     "output_type": "stream",
     "text": [
      "Similarity column 35736 (100.0%), 3048.60 column/sec. Elapsed time 11.72 sec\n",
      "EvaluatorHoldout: Processed 35595 (100.0%) in 52.10 sec. Users per second: 683\n"
     ]
    },
    {
     "name": "stderr",
     "output_type": "stream",
     "text": [
      "[I 2024-12-15 20:48:37,880] Trial 9 finished with value: 0.04030194850801526 and parameters: {'similarity': 'cosine', 'topK': 466, 'shrink': 372, 'feature_weighting': 'BM25'}. Best is trial 5 with value: 0.041902430785488554.\n"
     ]
    },
    {
     "name": "stdout",
     "output_type": "stream",
     "text": [
      "Similarity column 35736 (100.0%), 2998.27 column/sec. Elapsed time 11.92 sec\n",
      "EvaluatorHoldout: Processed 35595 (100.0%) in 57.03 sec. Users per second: 624\n"
     ]
    },
    {
     "name": "stderr",
     "output_type": "stream",
     "text": [
      "[I 2024-12-15 20:49:48,329] Trial 10 finished with value: 0.03809273863593141 and parameters: {'similarity': 'jaccard', 'topK': 738, 'shrink': 912, 'feature_weighting': 'BM25'}. Best is trial 5 with value: 0.041902430785488554.\n"
     ]
    },
    {
     "name": "stdout",
     "output_type": "stream",
     "text": [
      "Similarity column 35736 (100.0%), 3063.10 column/sec. Elapsed time 11.67 sec\n",
      "EvaluatorHoldout: Processed 35595 (100.0%) in 52.49 sec. Users per second: 678\n"
     ]
    },
    {
     "name": "stderr",
     "output_type": "stream",
     "text": [
      "[I 2024-12-15 20:50:53,511] Trial 11 finished with value: 0.04031498204001211 and parameters: {'similarity': 'cosine', 'topK': 460, 'shrink': 328, 'feature_weighting': 'BM25'}. Best is trial 5 with value: 0.041902430785488554.\n"
     ]
    },
    {
     "name": "stdout",
     "output_type": "stream",
     "text": [
      "Similarity column 35736 (100.0%), 3122.51 column/sec. Elapsed time 11.44 sec\n",
      "EvaluatorHoldout: Processed 35595 (100.0%) in 46.00 sec. Users per second: 774\n"
     ]
    },
    {
     "name": "stderr",
     "output_type": "stream",
     "text": [
      "[I 2024-12-15 20:51:51,689] Trial 12 finished with value: 0.03823967384397087 and parameters: {'similarity': 'cosine', 'topK': 258, 'shrink': 308, 'feature_weighting': 'BM25'}. Best is trial 5 with value: 0.041902430785488554.\n"
     ]
    },
    {
     "name": "stdout",
     "output_type": "stream",
     "text": [
      "Similarity column 35736 (100.0%), 2990.71 column/sec. Elapsed time 11.95 sec\n",
      "EvaluatorHoldout: Processed 35595 (100.0%) in 54.69 sec. Users per second: 651\n"
     ]
    },
    {
     "name": "stderr",
     "output_type": "stream",
     "text": [
      "[I 2024-12-15 20:52:59,469] Trial 13 finished with value: 0.04108670738042685 and parameters: {'similarity': 'cosine', 'topK': 537, 'shrink': 13, 'feature_weighting': 'BM25'}. Best is trial 5 with value: 0.041902430785488554.\n"
     ]
    },
    {
     "name": "stdout",
     "output_type": "stream",
     "text": [
      "Similarity column 35736 (100.0%), 3034.63 column/sec. Elapsed time 11.78 sec\n",
      "EvaluatorHoldout: Processed 35595 (100.0%) in 55.59 sec. Users per second: 640\n"
     ]
    },
    {
     "name": "stderr",
     "output_type": "stream",
     "text": [
      "[I 2024-12-15 20:54:07,997] Trial 14 finished with value: 0.04126561381681331 and parameters: {'similarity': 'cosine', 'topK': 582, 'shrink': 9, 'feature_weighting': 'BM25'}. Best is trial 5 with value: 0.041902430785488554.\n"
     ]
    },
    {
     "name": "stdout",
     "output_type": "stream",
     "text": [
      "Similarity column 35736 (100.0%), 2793.60 column/sec. Elapsed time 12.79 sec\n",
      "EvaluatorHoldout: Processed 35595 (100.0%) in 54.77 sec. Users per second: 650\n"
     ]
    },
    {
     "name": "stderr",
     "output_type": "stream",
     "text": [
      "[I 2024-12-15 20:55:17,010] Trial 15 finished with value: 0.034692973420111066 and parameters: {'similarity': 'tversky', 'topK': 638, 'shrink': 151, 'feature_weighting': 'TF-IDF', 'tversky_alpha': 1.9795735221337971, 'tversky_beta': 0.009711645458283513}. Best is trial 5 with value: 0.041902430785488554.\n"
     ]
    },
    {
     "name": "stdout",
     "output_type": "stream",
     "text": [
      "Similarity column 35736 (100.0%), 3035.94 column/sec. Elapsed time 11.77 sec\n",
      "EvaluatorHoldout: Processed 35595 (100.0%) in 55.52 sec. Users per second: 641\n"
     ]
    },
    {
     "name": "stderr",
     "output_type": "stream",
     "text": [
      "[I 2024-12-15 20:56:25,711] Trial 16 finished with value: 0.037906156562918715 and parameters: {'similarity': 'jaccard', 'topK': 668, 'shrink': 863, 'feature_weighting': 'BM25'}. Best is trial 5 with value: 0.041902430785488554.\n",
      "/kaggle/working/RECsys_Challenge2024/Recommenders/Similarity/Compute_Similarity_Euclidean.py:167: RuntimeWarning: overflow encountered in exp\n",
      "  item_similarity = 1/(np.exp(item_distance) + self.shrink + 1e-9)\n"
     ]
    },
    {
     "name": "stdout",
     "output_type": "stream",
     "text": [
      "Similarity column 35736 (100.0%), 353.25 column/sec. Elapsed time 1.69 min\n",
      "EvaluatorHoldout: Processed 35595 (100.0%) in 30.85 sec. Users per second: 1154\n"
     ]
    },
    {
     "name": "stderr",
     "output_type": "stream",
     "text": [
      "[I 2024-12-15 20:58:38,552] Trial 17 finished with value: 0.0020531865319054557 and parameters: {'similarity': 'euclidean', 'topK': 535, 'shrink': 232, 'feature_weighting': 'BM25', 'normalize_avg_row': False, 'similarity_from_distance_mode': 'exp', 'normalize': False}. Best is trial 5 with value: 0.041902430785488554.\n"
     ]
    },
    {
     "name": "stdout",
     "output_type": "stream",
     "text": [
      "Similarity column 35736 (100.0%), 2964.99 column/sec. Elapsed time 12.05 sec\n",
      "EvaluatorHoldout: Processed 35595 (100.0%) in 57.94 sec. Users per second: 614\n"
     ]
    },
    {
     "name": "stderr",
     "output_type": "stream",
     "text": [
      "[I 2024-12-15 20:59:49,856] Trial 18 finished with value: 0.034977604086536745 and parameters: {'similarity': 'cosine', 'topK': 698, 'shrink': 66, 'feature_weighting': 'TF-IDF'}. Best is trial 5 with value: 0.041902430785488554.\n"
     ]
    },
    {
     "name": "stdout",
     "output_type": "stream",
     "text": [
      "Similarity column 35736 (100.0%), 2876.37 column/sec. Elapsed time 12.42 sec\n",
      "EvaluatorHoldout: Processed 35595 (100.0%) in 53.18 sec. Users per second: 669\n"
     ]
    },
    {
     "name": "stderr",
     "output_type": "stream",
     "text": [
      "[I 2024-12-15 21:00:56,561] Trial 19 finished with value: 0.03422973509298715 and parameters: {'similarity': 'cosine', 'topK': 556, 'shrink': 444, 'feature_weighting': 'none'}. Best is trial 5 with value: 0.041902430785488554.\n"
     ]
    },
    {
     "name": "stdout",
     "output_type": "stream",
     "text": [
      "Similarity column 35736 (100.0%), 3084.23 column/sec. Elapsed time 11.59 sec\n",
      "EvaluatorHoldout: Processed 35595 (100.0%) in 48.10 sec. Users per second: 740\n"
     ]
    },
    {
     "name": "stderr",
     "output_type": "stream",
     "text": [
      "[I 2024-12-15 21:01:57,099] Trial 20 finished with value: 0.0388622075509967 and parameters: {'similarity': 'cosine', 'topK': 328, 'shrink': 798, 'feature_weighting': 'BM25'}. Best is trial 5 with value: 0.041902430785488554.\n"
     ]
    },
    {
     "name": "stdout",
     "output_type": "stream",
     "text": [
      "Similarity column 35736 (100.0%), 3015.40 column/sec. Elapsed time 11.85 sec\n",
      "EvaluatorHoldout: Processed 35595 (100.0%) in 54.66 sec. Users per second: 651\n"
     ]
    },
    {
     "name": "stderr",
     "output_type": "stream",
     "text": [
      "[I 2024-12-15 21:03:04,741] Trial 21 finished with value: 0.041084880166421006 and parameters: {'similarity': 'cosine', 'topK': 535, 'shrink': 4, 'feature_weighting': 'BM25'}. Best is trial 5 with value: 0.041902430785488554.\n"
     ]
    },
    {
     "name": "stdout",
     "output_type": "stream",
     "text": [
      "Similarity column 35736 (100.0%), 3066.33 column/sec. Elapsed time 11.65 sec\n",
      "EvaluatorHoldout: Processed 35595 (100.0%) in 52.80 sec. Users per second: 674\n"
     ]
    },
    {
     "name": "stderr",
     "output_type": "stream",
     "text": [
      "[I 2024-12-15 21:04:10,212] Trial 22 finished with value: 0.040662538433923395 and parameters: {'similarity': 'cosine', 'topK': 474, 'shrink': 98, 'feature_weighting': 'BM25'}. Best is trial 5 with value: 0.041902430785488554.\n"
     ]
    },
    {
     "name": "stdout",
     "output_type": "stream",
     "text": [
      "Similarity column 35736 (100.0%), 3041.30 column/sec. Elapsed time 11.75 sec\n",
      "EvaluatorHoldout: Processed 35595 (100.0%) in 55.35 sec. Users per second: 643\n"
     ]
    },
    {
     "name": "stderr",
     "output_type": "stream",
     "text": [
      "[I 2024-12-15 21:05:18,469] Trial 23 finished with value: 0.04108749891303472 and parameters: {'similarity': 'cosine', 'topK': 579, 'shrink': 243, 'feature_weighting': 'BM25'}. Best is trial 5 with value: 0.041902430785488554.\n"
     ]
    },
    {
     "name": "stdout",
     "output_type": "stream",
     "text": [
      "Similarity column 35736 (100.0%), 3014.51 column/sec. Elapsed time 11.85 sec\n",
      "EvaluatorHoldout: Processed 35595 (100.0%) in 57.41 sec. Users per second: 620\n"
     ]
    },
    {
     "name": "stderr",
     "output_type": "stream",
     "text": [
      "[I 2024-12-15 21:06:28,999] Trial 24 finished with value: 0.04149844926498809 and parameters: {'similarity': 'cosine', 'topK': 670, 'shrink': 247, 'feature_weighting': 'BM25'}. Best is trial 5 with value: 0.041902430785488554.\n"
     ]
    },
    {
     "name": "stdout",
     "output_type": "stream",
     "text": [
      "Similarity column 35736 (100.0%), 3027.67 column/sec. Elapsed time 11.80 sec\n",
      "EvaluatorHoldout: Processed 35595 (100.0%) in 55.80 sec. Users per second: 638\n"
     ]
    },
    {
     "name": "stderr",
     "output_type": "stream",
     "text": [
      "[I 2024-12-15 21:07:38,040] Trial 25 finished with value: 0.03911652586304754 and parameters: {'similarity': 'jaccard', 'topK': 683, 'shrink': 226, 'feature_weighting': 'BM25'}. Best is trial 5 with value: 0.041902430785488554.\n"
     ]
    },
    {
     "name": "stdout",
     "output_type": "stream",
     "text": [
      "Similarity column 35736 (100.0%), 2769.26 column/sec. Elapsed time 12.90 sec\n",
      "EvaluatorHoldout: Processed 35595 (100.0%) in 57.34 sec. Users per second: 621\n"
     ]
    },
    {
     "name": "stderr",
     "output_type": "stream",
     "text": [
      "[I 2024-12-15 21:08:49,789] Trial 26 finished with value: 0.03771604603821067 and parameters: {'similarity': 'tversky', 'topK': 690, 'shrink': 96, 'feature_weighting': 'BM25', 'tversky_alpha': 0.16341507169380898, 'tversky_beta': 1.9502033371328986}. Best is trial 5 with value: 0.041902430785488554.\n"
     ]
    },
    {
     "name": "stdout",
     "output_type": "stream",
     "text": [
      "Similarity column 35736 (100.0%), 2966.06 column/sec. Elapsed time 12.05 sec\n",
      "EvaluatorHoldout: Processed 35595 (100.0%) in 59.27 sec. Users per second: 601\n"
     ]
    },
    {
     "name": "stderr",
     "output_type": "stream",
     "text": [
      "[I 2024-12-15 21:10:02,467] Trial 27 finished with value: 0.040205511965518706 and parameters: {'similarity': 'asymmetric', 'topK': 740, 'shrink': 372, 'feature_weighting': 'BM25', 'asymmetric_alpha': 0.17111937498840502}. Best is trial 5 with value: 0.041902430785488554.\n"
     ]
    },
    {
     "name": "stdout",
     "output_type": "stream",
     "text": [
      "Similarity column 35736 (100.0%), 340.37 column/sec. Elapsed time 1.75 min\n",
      "EvaluatorHoldout: Processed 35595 (100.0%) in 56.04 sec. Users per second: 635\n"
     ]
    },
    {
     "name": "stderr",
     "output_type": "stream",
     "text": [
      "[I 2024-12-15 21:12:44,609] Trial 28 finished with value: 0.026166886289093992 and parameters: {'similarity': 'euclidean', 'topK': 624, 'shrink': 102, 'feature_weighting': 'TF-IDF', 'normalize_avg_row': False, 'similarity_from_distance_mode': 'lin', 'normalize': True}. Best is trial 5 with value: 0.041902430785488554.\n"
     ]
    },
    {
     "name": "stdout",
     "output_type": "stream",
     "text": [
      "Similarity column 35736 (100.0%), 2996.58 column/sec. Elapsed time 11.93 sec\n",
      "EvaluatorHoldout: Processed 35595 (100.0%) in 48.34 sec. Users per second: 736\n"
     ]
    },
    {
     "name": "stderr",
     "output_type": "stream",
     "text": [
      "[I 2024-12-15 21:13:45,705] Trial 29 finished with value: 0.03508903181069101 and parameters: {'similarity': 'asymmetric', 'topK': 386, 'shrink': 289, 'feature_weighting': 'none', 'asymmetric_alpha': 0.00956673548453657}. Best is trial 5 with value: 0.041902430785488554.\n"
     ]
    },
    {
     "name": "stdout",
     "output_type": "stream",
     "text": [
      "Similarity column 35736 (100.0%), 2945.97 column/sec. Elapsed time 12.13 sec\n",
      "EvaluatorHoldout: Processed 35595 (100.0%) in 57.29 sec. Users per second: 621\n"
     ]
    },
    {
     "name": "stderr",
     "output_type": "stream",
     "text": [
      "[I 2024-12-15 21:14:56,442] Trial 30 finished with value: 0.03526864951158956 and parameters: {'similarity': 'cosine', 'topK': 649, 'shrink': 166, 'feature_weighting': 'TF-IDF'}. Best is trial 5 with value: 0.041902430785488554.\n"
     ]
    },
    {
     "name": "stdout",
     "output_type": "stream",
     "text": [
      "Similarity column 35736 (100.0%), 3000.56 column/sec. Elapsed time 11.91 sec\n",
      "EvaluatorHoldout: Processed 35595 (100.0%) in 56.58 sec. Users per second: 629\n"
     ]
    },
    {
     "name": "stderr",
     "output_type": "stream",
     "text": [
      "[I 2024-12-15 21:16:06,181] Trial 31 finished with value: 0.041160635411160676 and parameters: {'similarity': 'cosine', 'topK': 598, 'shrink': 237, 'feature_weighting': 'BM25'}. Best is trial 5 with value: 0.041902430785488554.\n"
     ]
    },
    {
     "name": "stdout",
     "output_type": "stream",
     "text": [
      "Similarity column 35736 (100.0%), 2996.41 column/sec. Elapsed time 11.93 sec\n",
      "EvaluatorHoldout: Processed 35595 (100.0%) in 58.70 sec. Users per second: 606\n"
     ]
    },
    {
     "name": "stderr",
     "output_type": "stream",
     "text": [
      "[I 2024-12-15 21:17:18,157] Trial 32 finished with value: 0.04182318499343213 and parameters: {'similarity': 'cosine', 'topK': 718, 'shrink': 76, 'feature_weighting': 'BM25'}. Best is trial 5 with value: 0.041902430785488554.\n"
     ]
    },
    {
     "name": "stdout",
     "output_type": "stream",
     "text": [
      "Similarity column 35736 (100.0%), 3031.35 column/sec. Elapsed time 11.79 sec\n",
      "EvaluatorHoldout: Processed 35595 (100.0%) in 58.50 sec. Users per second: 609\n"
     ]
    },
    {
     "name": "stderr",
     "output_type": "stream",
     "text": [
      "[I 2024-12-15 21:18:30,017] Trial 33 finished with value: 0.04028779122268228 and parameters: {'similarity': 'dice', 'topK': 747, 'shrink': 53, 'feature_weighting': 'BM25'}. Best is trial 5 with value: 0.041902430785488554.\n"
     ]
    },
    {
     "name": "stdout",
     "output_type": "stream",
     "text": [
      "Similarity column 35736 (100.0%), 2997.66 column/sec. Elapsed time 11.92 sec\n",
      "EvaluatorHoldout: Processed 35595 (100.0%) in 58.27 sec. Users per second: 611\n"
     ]
    },
    {
     "name": "stderr",
     "output_type": "stream",
     "text": [
      "[I 2024-12-15 21:19:41,534] Trial 34 finished with value: 0.04170257660586202 and parameters: {'similarity': 'cosine', 'topK': 705, 'shrink': 139, 'feature_weighting': 'BM25'}. Best is trial 5 with value: 0.041902430785488554.\n"
     ]
    },
    {
     "name": "stdout",
     "output_type": "stream",
     "text": [
      "Similarity column 35736 (100.0%), 3606.27 column/sec. Elapsed time 9.91 sec\n",
      "EvaluatorHoldout: Processed 35595 (100.0%) in 28.05 sec. Users per second: 1269\n"
     ]
    },
    {
     "name": "stderr",
     "output_type": "stream",
     "text": [
      "[I 2024-12-15 21:20:19,889] Trial 35 finished with value: 0.0034440118885967867 and parameters: {'similarity': 'cosine', 'topK': 1, 'shrink': 138, 'feature_weighting': 'BM25'}. Best is trial 5 with value: 0.041902430785488554.\n"
     ]
    },
    {
     "name": "stdout",
     "output_type": "stream",
     "text": [
      "Similarity column 35736 (100.0%), 319.97 column/sec. Elapsed time 1.86 min\n",
      "EvaluatorHoldout: Processed 35595 (100.0%) in 32.83 sec. Users per second: 1084\n"
     ]
    },
    {
     "name": "stderr",
     "output_type": "stream",
     "text": [
      "[I 2024-12-15 21:22:45,416] Trial 36 finished with value: 0.0035519713621272667 and parameters: {'similarity': 'euclidean', 'topK': 725, 'shrink': 200, 'feature_weighting': 'BM25', 'normalize_avg_row': True, 'similarity_from_distance_mode': 'lin', 'normalize': False}. Best is trial 5 with value: 0.041902430785488554.\n"
     ]
    },
    {
     "name": "stdout",
     "output_type": "stream",
     "text": [
      "Similarity column 35736 (100.0%), 3068.41 column/sec. Elapsed time 11.65 sec\n",
      "EvaluatorHoldout: Processed 35595 (100.0%) in 56.22 sec. Users per second: 633\n"
     ]
    },
    {
     "name": "stderr",
     "output_type": "stream",
     "text": [
      "[I 2024-12-15 21:23:54,750] Trial 37 finished with value: 0.03838532141797899 and parameters: {'similarity': 'dice', 'topK': 686, 'shrink': 542, 'feature_weighting': 'BM25'}. Best is trial 5 with value: 0.041902430785488554.\n"
     ]
    },
    {
     "name": "stdout",
     "output_type": "stream",
     "text": [
      "Similarity column 35736 (100.0%), 2949.96 column/sec. Elapsed time 12.11 sec\n",
      "EvaluatorHoldout: Processed 35595 (100.0%) in 56.64 sec. Users per second: 628\n"
     ]
    },
    {
     "name": "stderr",
     "output_type": "stream",
     "text": [
      "[I 2024-12-15 21:25:04,768] Trial 38 finished with value: 0.03326002626550338 and parameters: {'similarity': 'cosine', 'topK': 711, 'shrink': 427, 'feature_weighting': 'none'}. Best is trial 5 with value: 0.041902430785488554.\n"
     ]
    },
    {
     "name": "stdout",
     "output_type": "stream",
     "text": [
      "Similarity column 35736 (100.0%), 2769.85 column/sec. Elapsed time 12.90 sec\n",
      "EvaluatorHoldout: Processed 35595 (100.0%) in 55.56 sec. Users per second: 641\n"
     ]
    },
    {
     "name": "stderr",
     "output_type": "stream",
     "text": [
      "[I 2024-12-15 21:26:14,758] Trial 39 finished with value: 0.034520176277655044 and parameters: {'similarity': 'tversky', 'topK': 661, 'shrink': 133, 'feature_weighting': 'TF-IDF', 'tversky_alpha': 1.8244739914935588, 'tversky_beta': 0.3194293869751643}. Best is trial 5 with value: 0.041902430785488554.\n"
     ]
    },
    {
     "name": "stdout",
     "output_type": "stream",
     "text": [
      "Similarity column 35736 (100.0%), 3042.27 column/sec. Elapsed time 11.75 sec\n",
      "EvaluatorHoldout: Processed 35595 (100.0%) in 53.59 sec. Users per second: 664\n"
     ]
    },
    {
     "name": "stderr",
     "output_type": "stream",
     "text": [
      "[I 2024-12-15 21:27:21,236] Trial 40 finished with value: 0.04026411101969296 and parameters: {'similarity': 'cosine', 'topK': 498, 'shrink': 679, 'feature_weighting': 'BM25'}. Best is trial 5 with value: 0.041902430785488554.\n"
     ]
    },
    {
     "name": "stdout",
     "output_type": "stream",
     "text": [
      "Similarity column 35736 (100.0%), 3022.37 column/sec. Elapsed time 11.82 sec\n",
      "EvaluatorHoldout: Processed 35595 (100.0%) in 55.82 sec. Users per second: 638\n"
     ]
    },
    {
     "name": "stderr",
     "output_type": "stream",
     "text": [
      "[I 2024-12-15 21:28:30,088] Trial 41 finished with value: 0.041274718671472296 and parameters: {'similarity': 'cosine', 'topK': 589, 'shrink': 42, 'feature_weighting': 'BM25'}. Best is trial 5 with value: 0.041902430785488554.\n"
     ]
    },
    {
     "name": "stdout",
     "output_type": "stream",
     "text": [
      "Similarity column 35736 (100.0%), 3019.23 column/sec. Elapsed time 11.84 sec\n",
      "EvaluatorHoldout: Processed 35595 (100.0%) in 56.96 sec. Users per second: 625\n"
     ]
    },
    {
     "name": "stderr",
     "output_type": "stream",
     "text": [
      "[I 2024-12-15 21:29:40,135] Trial 42 finished with value: 0.041431235883404645 and parameters: {'similarity': 'cosine', 'topK': 630, 'shrink': 53, 'feature_weighting': 'BM25'}. Best is trial 5 with value: 0.041902430785488554.\n"
     ]
    },
    {
     "name": "stdout",
     "output_type": "stream",
     "text": [
      "Similarity column 35736 (100.0%), 3019.39 column/sec. Elapsed time 11.84 sec\n",
      "EvaluatorHoldout: Processed 35595 (100.0%) in 57.26 sec. Users per second: 622\n"
     ]
    },
    {
     "name": "stderr",
     "output_type": "stream",
     "text": [
      "[I 2024-12-15 21:30:50,456] Trial 43 finished with value: 0.04145224605738573 and parameters: {'similarity': 'cosine', 'topK': 636, 'shrink': 79, 'feature_weighting': 'BM25'}. Best is trial 5 with value: 0.041902430785488554.\n"
     ]
    },
    {
     "name": "stdout",
     "output_type": "stream",
     "text": [
      "Similarity column 35736 (100.0%), 2988.80 column/sec. Elapsed time 11.96 sec\n",
      "EvaluatorHoldout: Processed 35595 (100.0%) in 58.89 sec. Users per second: 604\n"
     ]
    },
    {
     "name": "stderr",
     "output_type": "stream",
     "text": [
      "[I 2024-12-15 21:32:02,633] Trial 44 finished with value: 0.041579562405098094 and parameters: {'similarity': 'cosine', 'topK': 706, 'shrink': 281, 'feature_weighting': 'BM25'}. Best is trial 5 with value: 0.041902430785488554.\n"
     ]
    },
    {
     "name": "stdout",
     "output_type": "stream",
     "text": [
      "Similarity column 35736 (100.0%), 2929.50 column/sec. Elapsed time 12.20 sec\n",
      "EvaluatorHoldout: Processed 35595 (100.0%) in 58.53 sec. Users per second: 608\n"
     ]
    },
    {
     "name": "stderr",
     "output_type": "stream",
     "text": [
      "[I 2024-12-15 21:33:14,832] Trial 45 finished with value: 0.04189178076999254 and parameters: {'similarity': 'asymmetric', 'topK': 750, 'shrink': 269, 'feature_weighting': 'BM25', 'asymmetric_alpha': 0.8968019177554487}. Best is trial 5 with value: 0.041902430785488554.\n"
     ]
    },
    {
     "name": "stdout",
     "output_type": "stream",
     "text": [
      "Similarity column 35736 (100.0%), 2975.81 column/sec. Elapsed time 12.01 sec\n",
      "EvaluatorHoldout: Processed 35595 (100.0%) in 57.78 sec. Users per second: 616\n"
     ]
    },
    {
     "name": "stderr",
     "output_type": "stream",
     "text": [
      "[I 2024-12-15 21:34:26,011] Trial 46 finished with value: 0.041751143262941035 and parameters: {'similarity': 'asymmetric', 'topK': 718, 'shrink': 363, 'feature_weighting': 'BM25', 'asymmetric_alpha': 0.8944336321626252}. Best is trial 5 with value: 0.041902430785488554.\n"
     ]
    },
    {
     "name": "stdout",
     "output_type": "stream",
     "text": [
      "Similarity column 35736 (100.0%), 2981.88 column/sec. Elapsed time 11.98 sec\n",
      "EvaluatorHoldout: Processed 35595 (100.0%) in 41.69 sec. Users per second: 854\n"
     ]
    },
    {
     "name": "stderr",
     "output_type": "stream",
     "text": [
      "[I 2024-12-15 21:35:20,248] Trial 47 finished with value: 0.03598931988396662 and parameters: {'similarity': 'asymmetric', 'topK': 198, 'shrink': 355, 'feature_weighting': 'none', 'asymmetric_alpha': 0.8968343476598516}. Best is trial 5 with value: 0.041902430785488554.\n"
     ]
    },
    {
     "name": "stdout",
     "output_type": "stream",
     "text": [
      "Similarity column 35736 (100.0%), 2974.18 column/sec. Elapsed time 12.02 sec\n",
      "EvaluatorHoldout: Processed 35595 (100.0%) in 58.74 sec. Users per second: 606\n"
     ]
    },
    {
     "name": "stderr",
     "output_type": "stream",
     "text": [
      "[I 2024-12-15 21:36:32,367] Trial 48 finished with value: 0.041882518723646504 and parameters: {'similarity': 'asymmetric', 'topK': 741, 'shrink': 407, 'feature_weighting': 'BM25', 'asymmetric_alpha': 0.8560821185492283}. Best is trial 5 with value: 0.041902430785488554.\n"
     ]
    },
    {
     "name": "stdout",
     "output_type": "stream",
     "text": [
      "Similarity column 35736 (100.0%), 2964.91 column/sec. Elapsed time 12.05 sec\n",
      "EvaluatorHoldout: Processed 35595 (100.0%) in 58.56 sec. Users per second: 608\n"
     ]
    },
    {
     "name": "stderr",
     "output_type": "stream",
     "text": [
      "[I 2024-12-15 21:37:44,364] Trial 49 finished with value: 0.041875865390402334 and parameters: {'similarity': 'asymmetric', 'topK': 739, 'shrink': 407, 'feature_weighting': 'BM25', 'asymmetric_alpha': 0.9058912889184103}. Best is trial 5 with value: 0.041902430785488554.\n"
     ]
    },
    {
     "name": "stdout",
     "output_type": "stream",
     "text": [
      "Similarity column 35736 (100.0%), 2958.77 column/sec. Elapsed time 12.08 sec\n",
      "EvaluatorHoldout: Processed 35595 (100.0%) in 58.15 sec. Users per second: 612\n"
     ]
    },
    {
     "name": "stderr",
     "output_type": "stream",
     "text": [
      "[I 2024-12-15 21:38:55,970] Trial 50 finished with value: 0.04186220643616201 and parameters: {'similarity': 'asymmetric', 'topK': 742, 'shrink': 503, 'feature_weighting': 'BM25', 'asymmetric_alpha': 0.6996719378428027}. Best is trial 5 with value: 0.041902430785488554.\n"
     ]
    },
    {
     "name": "stdout",
     "output_type": "stream",
     "text": [
      "Similarity column 35736 (100.0%), 2985.20 column/sec. Elapsed time 11.97 sec\n",
      "EvaluatorHoldout: Processed 35595 (100.0%) in 58.62 sec. Users per second: 607\n"
     ]
    },
    {
     "name": "stderr",
     "output_type": "stream",
     "text": [
      "[I 2024-12-15 21:40:07,929] Trial 51 finished with value: 0.041900239020549415 and parameters: {'similarity': 'asymmetric', 'topK': 745, 'shrink': 502, 'feature_weighting': 'BM25', 'asymmetric_alpha': 0.6823653626740656}. Best is trial 5 with value: 0.041902430785488554.\n"
     ]
    },
    {
     "name": "stdout",
     "output_type": "stream",
     "text": [
      "Similarity column 35736 (100.0%), 2951.78 column/sec. Elapsed time 12.11 sec\n",
      "EvaluatorHoldout: Processed 35595 (100.0%) in 58.27 sec. Users per second: 611\n"
     ]
    },
    {
     "name": "stderr",
     "output_type": "stream",
     "text": [
      "[I 2024-12-15 21:41:19,690] Trial 52 finished with value: 0.04186963123499006 and parameters: {'similarity': 'asymmetric', 'topK': 737, 'shrink': 484, 'feature_weighting': 'BM25', 'asymmetric_alpha': 0.7236843963246653}. Best is trial 5 with value: 0.041902430785488554.\n"
     ]
    },
    {
     "name": "stdout",
     "output_type": "stream",
     "text": [
      "Similarity column 35736 (100.0%), 2950.36 column/sec. Elapsed time 12.11 sec\n",
      "EvaluatorHoldout: Processed 35595 (100.0%) in 59.21 sec. Users per second: 601\n"
     ]
    },
    {
     "name": "stderr",
     "output_type": "stream",
     "text": [
      "[I 2024-12-15 21:42:32,415] Trial 53 finished with value: 0.04190910084125281 and parameters: {'similarity': 'asymmetric', 'topK': 748, 'shrink': 410, 'feature_weighting': 'BM25', 'asymmetric_alpha': 0.6281634417211384}. Best is trial 53 with value: 0.04190910084125281.\n"
     ]
    },
    {
     "name": "stdout",
     "output_type": "stream",
     "text": [
      "Similarity column 35736 (100.0%), 2895.39 column/sec. Elapsed time 12.34 sec\n",
      "EvaluatorHoldout: Processed 35595 (100.0%) in 57.41 sec. Users per second: 620\n"
     ]
    },
    {
     "name": "stderr",
     "output_type": "stream",
     "text": [
      "[I 2024-12-15 21:43:43,483] Trial 54 finished with value: 0.04125977431287001 and parameters: {'similarity': 'asymmetric', 'topK': 657, 'shrink': 407, 'feature_weighting': 'BM25', 'asymmetric_alpha': 0.48401477855037245}. Best is trial 53 with value: 0.04190910084125281.\n"
     ]
    },
    {
     "name": "stdout",
     "output_type": "stream",
     "text": [
      "Similarity column 35736 (100.0%), 3001.22 column/sec. Elapsed time 11.91 sec\n",
      "EvaluatorHoldout: Processed 35595 (100.0%) in 56.56 sec. Users per second: 629\n"
     ]
    },
    {
     "name": "stderr",
     "output_type": "stream",
     "text": [
      "[I 2024-12-15 21:44:53,327] Trial 55 finished with value: 0.04128363734874357 and parameters: {'similarity': 'asymmetric', 'topK': 748, 'shrink': 554, 'feature_weighting': 'BM25', 'asymmetric_alpha': 1.2455590970955825}. Best is trial 53 with value: 0.04190910084125281.\n"
     ]
    },
    {
     "name": "stdout",
     "output_type": "stream",
     "text": [
      "Similarity column 35736 (100.0%), 3093.51 column/sec. Elapsed time 11.55 sec\n",
      "EvaluatorHoldout: Processed 35595 (100.0%) in 46.29 sec. Users per second: 769\n"
     ]
    },
    {
     "name": "stderr",
     "output_type": "stream",
     "text": [
      "[I 2024-12-15 21:45:52,001] Trial 56 finished with value: 0.038816023295583806 and parameters: {'similarity': 'asymmetric', 'topK': 338, 'shrink': 633, 'feature_weighting': 'BM25', 'asymmetric_alpha': 1.1282052413114632}. Best is trial 53 with value: 0.04190910084125281.\n"
     ]
    },
    {
     "name": "stdout",
     "output_type": "stream",
     "text": [
      "Similarity column 35736 (100.0%), 2938.65 column/sec. Elapsed time 12.16 sec\n",
      "EvaluatorHoldout: Processed 35595 (100.0%) in 57.40 sec. Users per second: 620\n"
     ]
    },
    {
     "name": "stderr",
     "output_type": "stream",
     "text": [
      "[I 2024-12-15 21:47:02,878] Trial 57 finished with value: 0.03488008058024793 and parameters: {'similarity': 'asymmetric', 'topK': 680, 'shrink': 477, 'feature_weighting': 'TF-IDF', 'asymmetric_alpha': 0.5131161298884533}. Best is trial 53 with value: 0.04190910084125281.\n"
     ]
    },
    {
     "name": "stdout",
     "output_type": "stream",
     "text": [
      "Similarity column 35736 (100.0%), 3039.22 column/sec. Elapsed time 11.76 sec\n",
      "EvaluatorHoldout: Processed 35595 (100.0%) in 50.97 sec. Users per second: 698\n"
     ]
    },
    {
     "name": "stderr",
     "output_type": "stream",
     "text": [
      "[I 2024-12-15 21:48:06,610] Trial 58 finished with value: 0.04038268817851492 and parameters: {'similarity': 'asymmetric', 'topK': 426, 'shrink': 398, 'feature_weighting': 'BM25', 'asymmetric_alpha': 0.6930133382826672}. Best is trial 53 with value: 0.04190910084125281.\n"
     ]
    },
    {
     "name": "stdout",
     "output_type": "stream",
     "text": [
      "Similarity column 35736 (100.0%), 3004.25 column/sec. Elapsed time 11.90 sec\n",
      "EvaluatorHoldout: Processed 35595 (100.0%) in 42.13 sec. Users per second: 845\n"
     ]
    },
    {
     "name": "stderr",
     "output_type": "stream",
     "text": [
      "[I 2024-12-15 21:49:01,283] Trial 59 finished with value: 0.03344375770629343 and parameters: {'similarity': 'asymmetric', 'topK': 292, 'shrink': 506, 'feature_weighting': 'none', 'asymmetric_alpha': 1.0099099523559947}. Best is trial 53 with value: 0.04190910084125281.\n"
     ]
    },
    {
     "name": "stdout",
     "output_type": "stream",
     "text": [
      "Similarity column 35736 (100.0%), 2977.73 column/sec. Elapsed time 12.00 sec\n",
      "EvaluatorHoldout: Processed 35595 (100.0%) in 56.35 sec. Users per second: 632\n"
     ]
    },
    {
     "name": "stderr",
     "output_type": "stream",
     "text": [
      "[I 2024-12-15 21:50:10,878] Trial 60 finished with value: 0.04119005812747766 and parameters: {'similarity': 'asymmetric', 'topK': 612, 'shrink': 329, 'feature_weighting': 'BM25', 'asymmetric_alpha': 0.5123467216313208}. Best is trial 53 with value: 0.04190910084125281.\n"
     ]
    },
    {
     "name": "stdout",
     "output_type": "stream",
     "text": [
      "Similarity column 35736 (100.0%), 2982.62 column/sec. Elapsed time 11.98 sec\n",
      "EvaluatorHoldout: Processed 35595 (100.0%) in 58.13 sec. Users per second: 612\n"
     ]
    },
    {
     "name": "stderr",
     "output_type": "stream",
     "text": [
      "[I 2024-12-15 21:51:22,374] Trial 61 finished with value: 0.04197485601910215 and parameters: {'similarity': 'asymmetric', 'topK': 747, 'shrink': 451, 'feature_weighting': 'BM25', 'asymmetric_alpha': 0.7542146061205252}. Best is trial 61 with value: 0.04197485601910215.\n"
     ]
    },
    {
     "name": "stdout",
     "output_type": "stream",
     "text": [
      "Similarity column 35736 (100.0%), 2994.25 column/sec. Elapsed time 11.93 sec\n",
      "EvaluatorHoldout: Processed 35595 (100.0%) in 57.22 sec. Users per second: 622\n"
     ]
    },
    {
     "name": "stderr",
     "output_type": "stream",
     "text": [
      "[I 2024-12-15 21:52:32,886] Trial 62 finished with value: 0.04169502248621356 and parameters: {'similarity': 'asymmetric', 'topK': 698, 'shrink': 452, 'feature_weighting': 'BM25', 'asymmetric_alpha': 0.8285742439330085}. Best is trial 61 with value: 0.04197485601910215.\n"
     ]
    },
    {
     "name": "stdout",
     "output_type": "stream",
     "text": [
      "Similarity column 35736 (100.0%), 2924.83 column/sec. Elapsed time 12.22 sec\n",
      "EvaluatorHoldout: Processed 35595 (100.0%) in 57.91 sec. Users per second: 615\n"
     ]
    },
    {
     "name": "stderr",
     "output_type": "stream",
     "text": [
      "[I 2024-12-15 21:53:44,384] Trial 63 finished with value: 0.041652696673554826 and parameters: {'similarity': 'asymmetric', 'topK': 715, 'shrink': 688, 'feature_weighting': 'BM25', 'asymmetric_alpha': 0.6422746205506353}. Best is trial 61 with value: 0.04197485601910215.\n"
     ]
    },
    {
     "name": "stdout",
     "output_type": "stream",
     "text": [
      "Similarity column 35736 (100.0%), 3005.73 column/sec. Elapsed time 11.89 sec\n",
      "EvaluatorHoldout: Processed 35595 (100.0%) in 56.25 sec. Users per second: 633\n"
     ]
    },
    {
     "name": "stderr",
     "output_type": "stream",
     "text": [
      "[I 2024-12-15 21:54:53,977] Trial 64 finished with value: 0.03826017899785119 and parameters: {'similarity': 'jaccard', 'topK': 667, 'shrink': 541, 'feature_weighting': 'BM25'}. Best is trial 61 with value: 0.04197485601910215.\n"
     ]
    },
    {
     "name": "stdout",
     "output_type": "stream",
     "text": [
      "Similarity column 35736 (100.0%), 2999.46 column/sec. Elapsed time 11.91 sec\n",
      "EvaluatorHoldout: Processed 35595 (100.0%) in 57.61 sec. Users per second: 618\n"
     ]
    },
    {
     "name": "stderr",
     "output_type": "stream",
     "text": [
      "[I 2024-12-15 21:56:04,876] Trial 65 finished with value: 0.041652708936736095 and parameters: {'similarity': 'asymmetric', 'topK': 750, 'shrink': 596, 'feature_weighting': 'BM25', 'asymmetric_alpha': 1.074531558706831}. Best is trial 61 with value: 0.04197485601910215.\n"
     ]
    },
    {
     "name": "stdout",
     "output_type": "stream",
     "text": [
      "Similarity column 35736 (100.0%), 2978.93 column/sec. Elapsed time 12.00 sec\n",
      "EvaluatorHoldout: Processed 35595 (100.0%) in 56.70 sec. Users per second: 628\n"
     ]
    },
    {
     "name": "stderr",
     "output_type": "stream",
     "text": [
      "[I 2024-12-15 21:57:14,897] Trial 66 finished with value: 0.041683889747310014 and parameters: {'similarity': 'asymmetric', 'topK': 685, 'shrink': 428, 'feature_weighting': 'BM25', 'asymmetric_alpha': 0.8275852816063807}. Best is trial 61 with value: 0.04197485601910215.\n"
     ]
    },
    {
     "name": "stdout",
     "output_type": "stream",
     "text": [
      "Similarity column 35736 (100.0%), 2955.18 column/sec. Elapsed time 12.09 sec\n",
      "EvaluatorHoldout: Processed 35595 (100.0%) in 58.61 sec. Users per second: 607\n"
     ]
    },
    {
     "name": "stderr",
     "output_type": "stream",
     "text": [
      "[I 2024-12-15 21:58:26,943] Trial 67 finished with value: 0.04109794045444958 and parameters: {'similarity': 'asymmetric', 'topK': 723, 'shrink': 323, 'feature_weighting': 'BM25', 'asymmetric_alpha': 0.3498641074887272}. Best is trial 61 with value: 0.04197485601910215.\n"
     ]
    },
    {
     "name": "stdout",
     "output_type": "stream",
     "text": [
      "Similarity column 35736 (100.0%), 2993.72 column/sec. Elapsed time 11.94 sec\n",
      "EvaluatorHoldout: Processed 35595 (100.0%) in 54.17 sec. Users per second: 657\n"
     ]
    },
    {
     "name": "stderr",
     "output_type": "stream",
     "text": [
      "[I 2024-12-15 21:59:34,313] Trial 68 finished with value: 0.04073745309333037 and parameters: {'similarity': 'asymmetric', 'topK': 648, 'shrink': 388, 'feature_weighting': 'BM25', 'asymmetric_alpha': 1.2544167571951532}. Best is trial 61 with value: 0.04197485601910215.\n"
     ]
    },
    {
     "name": "stdout",
     "output_type": "stream",
     "text": [
      "Similarity column 35736 (100.0%), 3074.24 column/sec. Elapsed time 11.62 sec\n",
      "EvaluatorHoldout: Processed 35595 (100.0%) in 56.88 sec. Users per second: 626\n"
     ]
    },
    {
     "name": "stderr",
     "output_type": "stream",
     "text": [
      "[I 2024-12-15 22:00:44,302] Trial 69 finished with value: 0.03365916717391531 and parameters: {'similarity': 'dice', 'topK': 730, 'shrink': 994, 'feature_weighting': 'TF-IDF'}. Best is trial 61 with value: 0.04197485601910215.\n"
     ]
    },
    {
     "name": "stdout",
     "output_type": "stream",
     "text": [
      "Similarity column 35736 (100.0%), 2790.54 column/sec. Elapsed time 12.81 sec\n",
      "EvaluatorHoldout: Processed 35595 (100.0%) in 56.40 sec. Users per second: 631\n"
     ]
    },
    {
     "name": "stderr",
     "output_type": "stream",
     "text": [
      "[I 2024-12-15 22:01:55,020] Trial 70 finished with value: 0.03921264356283158 and parameters: {'similarity': 'tversky', 'topK': 698, 'shrink': 276, 'feature_weighting': 'BM25', 'tversky_alpha': 1.2203889630955345, 'tversky_beta': 0.8245513419237942}. Best is trial 61 with value: 0.04197485601910215.\n"
     ]
    },
    {
     "name": "stdout",
     "output_type": "stream",
     "text": [
      "Similarity column 35736 (100.0%), 2979.53 column/sec. Elapsed time 11.99 sec\n",
      "EvaluatorHoldout: Processed 35595 (100.0%) in 58.70 sec. Users per second: 606\n"
     ]
    },
    {
     "name": "stderr",
     "output_type": "stream",
     "text": [
      "[I 2024-12-15 22:03:07,113] Trial 71 finished with value: 0.04190060803082148 and parameters: {'similarity': 'asymmetric', 'topK': 747, 'shrink': 477, 'feature_weighting': 'BM25', 'asymmetric_alpha': 0.7121749283904829}. Best is trial 61 with value: 0.04197485601910215.\n"
     ]
    },
    {
     "name": "stdout",
     "output_type": "stream",
     "text": [
      "Similarity column 35736 (100.0%), 2949.43 column/sec. Elapsed time 12.12 sec\n",
      "EvaluatorHoldout: Processed 35595 (100.0%) in 58.72 sec. Users per second: 606\n"
     ]
    },
    {
     "name": "stderr",
     "output_type": "stream",
     "text": [
      "[I 2024-12-15 22:04:19,378] Trial 72 finished with value: 0.041886003696790026 and parameters: {'similarity': 'asymmetric', 'topK': 750, 'shrink': 521, 'feature_weighting': 'BM25', 'asymmetric_alpha': 0.8313079887252185}. Best is trial 61 with value: 0.04197485601910215.\n"
     ]
    },
    {
     "name": "stdout",
     "output_type": "stream",
     "text": [
      "Similarity column 35736 (100.0%), 2930.45 column/sec. Elapsed time 12.19 sec\n",
      "EvaluatorHoldout: Processed 35595 (100.0%) in 57.67 sec. Users per second: 617\n"
     ]
    },
    {
     "name": "stderr",
     "output_type": "stream",
     "text": [
      "[I 2024-12-15 22:05:30,562] Trial 73 finished with value: 0.04144512003424633 and parameters: {'similarity': 'asymmetric', 'topK': 673, 'shrink': 510, 'feature_weighting': 'BM25', 'asymmetric_alpha': 0.5784204258239256}. Best is trial 61 with value: 0.04197485601910215.\n"
     ]
    },
    {
     "name": "stdout",
     "output_type": "stream",
     "text": [
      "Similarity column 35736 (100.0%), 313.41 column/sec. Elapsed time 1.90 min\n",
      "EvaluatorHoldout: Processed 35595 (100.0%) in 1.01 min. Users per second: 587\n"
     ]
    },
    {
     "name": "stderr",
     "output_type": "stream",
     "text": [
      "[I 2024-12-15 22:08:26,467] Trial 74 finished with value: 0.03100992091362841 and parameters: {'similarity': 'euclidean', 'topK': 750, 'shrink': 565, 'feature_weighting': 'BM25', 'normalize_avg_row': False, 'similarity_from_distance_mode': 'exp', 'normalize': True}. Best is trial 61 with value: 0.04197485601910215.\n"
     ]
    },
    {
     "name": "stdout",
     "output_type": "stream",
     "text": [
      "Similarity column 35736 (100.0%), 2929.46 column/sec. Elapsed time 12.20 sec\n",
      "EvaluatorHoldout: Processed 35595 (100.0%) in 57.81 sec. Users per second: 616\n"
     ]
    },
    {
     "name": "stderr",
     "output_type": "stream",
     "text": [
      "[I 2024-12-15 22:09:37,830] Trial 75 finished with value: 0.04181929645014186 and parameters: {'similarity': 'asymmetric', 'topK': 714, 'shrink': 446, 'feature_weighting': 'BM25', 'asymmetric_alpha': 0.76515673312556}. Best is trial 61 with value: 0.04197485601910215.\n"
     ]
    },
    {
     "name": "stdout",
     "output_type": "stream",
     "text": [
      "Similarity column 35736 (100.0%), 2996.09 column/sec. Elapsed time 11.93 sec\n",
      "EvaluatorHoldout: Processed 35595 (100.0%) in 56.61 sec. Users per second: 629\n"
     ]
    },
    {
     "name": "stderr",
     "output_type": "stream",
     "text": [
      "[I 2024-12-15 22:10:47,843] Trial 76 finished with value: 0.03833472687665538 and parameters: {'similarity': 'jaccard', 'topK': 687, 'shrink': 525, 'feature_weighting': 'BM25'}. Best is trial 61 with value: 0.04197485601910215.\n"
     ]
    },
    {
     "name": "stdout",
     "output_type": "stream",
     "text": [
      "Similarity column 35736 (100.0%), 2899.52 column/sec. Elapsed time 12.32 sec\n",
      "EvaluatorHoldout: Processed 35595 (100.0%) in 57.03 sec. Users per second: 624\n"
     ]
    },
    {
     "name": "stderr",
     "output_type": "stream",
     "text": [
      "[I 2024-12-15 22:11:58,472] Trial 77 finished with value: 0.033359499617610575 and parameters: {'similarity': 'asymmetric', 'topK': 724, 'shrink': 633, 'feature_weighting': 'none', 'asymmetric_alpha': 0.9826962754059764}. Best is trial 61 with value: 0.04197485601910215.\n"
     ]
    },
    {
     "name": "stdout",
     "output_type": "stream",
     "text": [
      "Similarity column 35736 (100.0%), 2977.50 column/sec. Elapsed time 12.00 sec\n",
      "EvaluatorHoldout: Processed 35595 (100.0%) in 58.14 sec. Users per second: 612\n"
     ]
    },
    {
     "name": "stderr",
     "output_type": "stream",
     "text": [
      "[I 2024-12-15 22:13:09,979] Trial 78 finished with value: 0.04110557261252417 and parameters: {'similarity': 'asymmetric', 'topK': 701, 'shrink': 471, 'feature_weighting': 'BM25', 'asymmetric_alpha': 0.389981261695447}. Best is trial 61 with value: 0.04197485601910215.\n"
     ]
    },
    {
     "name": "stdout",
     "output_type": "stream",
     "text": [
      "Similarity column 35736 (100.0%), 2994.80 column/sec. Elapsed time 11.93 sec\n",
      "EvaluatorHoldout: Processed 35595 (100.0%) in 56.69 sec. Users per second: 628\n"
     ]
    },
    {
     "name": "stderr",
     "output_type": "stream",
     "text": [
      "[I 2024-12-15 22:14:19,887] Trial 79 finished with value: 0.04139225791922664 and parameters: {'similarity': 'asymmetric', 'topK': 656, 'shrink': 584, 'feature_weighting': 'BM25', 'asymmetric_alpha': 0.6533125664670535}. Best is trial 61 with value: 0.04197485601910215.\n"
     ]
    },
    {
     "name": "stdout",
     "output_type": "stream",
     "text": [
      "Similarity column 35736 (100.0%), 3202.02 column/sec. Elapsed time 11.16 sec\n",
      "EvaluatorHoldout: Processed 35595 (100.0%) in 40.89 sec. Users per second: 871\n"
     ]
    },
    {
     "name": "stderr",
     "output_type": "stream",
     "text": [
      "[I 2024-12-15 22:15:12,693] Trial 80 finished with value: 0.03344343886358115 and parameters: {'similarity': 'dice', 'topK': 164, 'shrink': 191, 'feature_weighting': 'BM25'}. Best is trial 61 with value: 0.04197485601910215.\n"
     ]
    },
    {
     "name": "stdout",
     "output_type": "stream",
     "text": [
      "Similarity column 35736 (100.0%), 2981.00 column/sec. Elapsed time 11.99 sec\n",
      "EvaluatorHoldout: Processed 35595 (100.0%) in 57.71 sec. Users per second: 617\n"
     ]
    },
    {
     "name": "stderr",
     "output_type": "stream",
     "text": [
      "[I 2024-12-15 22:16:23,762] Trial 81 finished with value: 0.04180611241546601 and parameters: {'similarity': 'asymmetric', 'topK': 731, 'shrink': 423, 'feature_weighting': 'BM25', 'asymmetric_alpha': 0.9300421957950293}. Best is trial 61 with value: 0.04197485601910215.\n"
     ]
    },
    {
     "name": "stdout",
     "output_type": "stream",
     "text": [
      "Similarity column 35736 (100.0%), 2969.32 column/sec. Elapsed time 12.04 sec\n",
      "EvaluatorHoldout: Processed 35595 (100.0%) in 57.74 sec. Users per second: 616\n"
     ]
    },
    {
     "name": "stderr",
     "output_type": "stream",
     "text": [
      "[I 2024-12-15 22:17:34,936] Trial 82 finished with value: 0.0419706430589264 and parameters: {'similarity': 'asymmetric', 'topK': 750, 'shrink': 343, 'feature_weighting': 'BM25', 'asymmetric_alpha': 0.803386150157893}. Best is trial 61 with value: 0.04197485601910215.\n"
     ]
    },
    {
     "name": "stdout",
     "output_type": "stream",
     "text": [
      "Similarity column 35736 (100.0%), 2932.02 column/sec. Elapsed time 12.19 sec\n",
      "EvaluatorHoldout: Processed 35595 (100.0%) in 56.83 sec. Users per second: 626\n"
     ]
    },
    {
     "name": "stderr",
     "output_type": "stream",
     "text": [
      "[I 2024-12-15 22:18:45,288] Trial 83 finished with value: 0.041851376932285626 and parameters: {'similarity': 'asymmetric', 'topK': 710, 'shrink': 356, 'feature_weighting': 'BM25', 'asymmetric_alpha': 0.8099395066288557}. Best is trial 61 with value: 0.04197485601910215.\n"
     ]
    },
    {
     "name": "stdout",
     "output_type": "stream",
     "text": [
      "Similarity column 35736 (100.0%), 3007.01 column/sec. Elapsed time 11.88 sec\n",
      "EvaluatorHoldout: Processed 35595 (100.0%) in 58.20 sec. Users per second: 612\n"
     ]
    },
    {
     "name": "stderr",
     "output_type": "stream",
     "text": [
      "[I 2024-12-15 22:19:56,756] Trial 84 finished with value: 0.04206425126589312 and parameters: {'similarity': 'asymmetric', 'topK': 748, 'shrink': 300, 'feature_weighting': 'BM25', 'asymmetric_alpha': 0.7602888997917839}. Best is trial 84 with value: 0.04206425126589312.\n"
     ]
    },
    {
     "name": "stdout",
     "output_type": "stream",
     "text": [
      "Similarity column 35736 (100.0%), 2716.61 column/sec. Elapsed time 13.15 sec\n",
      "EvaluatorHoldout: Processed 35595 (100.0%) in 57.36 sec. Users per second: 621\n"
     ]
    },
    {
     "name": "stderr",
     "output_type": "stream",
     "text": [
      "[I 2024-12-15 22:21:08,849] Trial 85 finished with value: 0.037303947406558874 and parameters: {'similarity': 'tversky', 'topK': 750, 'shrink': 333, 'feature_weighting': 'BM25', 'tversky_alpha': 0.04630057892253281, 'tversky_beta': 0.9775304951078019}. Best is trial 84 with value: 0.04206425126589312.\n"
     ]
    },
    {
     "name": "stdout",
     "output_type": "stream",
     "text": [
      "Similarity column 35736 (100.0%), 315.58 column/sec. Elapsed time 1.89 min\n",
      "EvaluatorHoldout: Processed 35595 (100.0%) in 32.09 sec. Users per second: 1109\n"
     ]
    },
    {
     "name": "stderr",
     "output_type": "stream",
     "text": [
      "[I 2024-12-15 22:23:35,331] Trial 86 finished with value: 0.003558758475530478 and parameters: {'similarity': 'euclidean', 'topK': 723, 'shrink': 269, 'feature_weighting': 'BM25', 'normalize_avg_row': True, 'similarity_from_distance_mode': 'log', 'normalize': False}. Best is trial 84 with value: 0.04206425126589312.\n"
     ]
    },
    {
     "name": "stdout",
     "output_type": "stream",
     "text": [
      "Similarity column 35736 (100.0%), 2950.69 column/sec. Elapsed time 12.11 sec\n",
      "EvaluatorHoldout: Processed 35595 (100.0%) in 49.96 sec. Users per second: 712\n"
     ]
    },
    {
     "name": "stderr",
     "output_type": "stream",
     "text": [
      "[I 2024-12-15 22:24:38,717] Trial 87 finished with value: 0.03195654820433504 and parameters: {'similarity': 'asymmetric', 'topK': 675, 'shrink': 466, 'feature_weighting': 'TF-IDF', 'asymmetric_alpha': 1.9977448122263373}. Best is trial 84 with value: 0.04206425126589312.\n"
     ]
    },
    {
     "name": "stdout",
     "output_type": "stream",
     "text": [
      "Similarity column 35736 (100.0%), 2972.88 column/sec. Elapsed time 12.02 sec\n",
      "EvaluatorHoldout: Processed 35595 (100.0%) in 58.22 sec. Users per second: 611\n"
     ]
    },
    {
     "name": "stderr",
     "output_type": "stream",
     "text": [
      "[I 2024-12-15 22:25:50,312] Trial 88 finished with value: 0.04184775929381763 and parameters: {'similarity': 'asymmetric', 'topK': 700, 'shrink': 216, 'feature_weighting': 'BM25', 'asymmetric_alpha': 0.6233486184201735}. Best is trial 84 with value: 0.04206425126589312.\n"
     ]
    },
    {
     "name": "stdout",
     "output_type": "stream",
     "text": [
      "Similarity column 35736 (100.0%), 2941.80 column/sec. Elapsed time 12.15 sec\n",
      "EvaluatorHoldout: Processed 35595 (100.0%) in 56.87 sec. Users per second: 626\n"
     ]
    },
    {
     "name": "stderr",
     "output_type": "stream",
     "text": [
      "[I 2024-12-15 22:27:00,636] Trial 89 finished with value: 0.04160655924119743 and parameters: {'similarity': 'asymmetric', 'topK': 643, 'shrink': 303, 'feature_weighting': 'BM25', 'asymmetric_alpha': 0.7576869735212757}. Best is trial 84 with value: 0.04206425126589312.\n"
     ]
    },
    {
     "name": "stdout",
     "output_type": "stream",
     "text": [
      "Similarity column 35736 (100.0%), 3041.42 column/sec. Elapsed time 11.75 sec\n",
      "EvaluatorHoldout: Processed 35595 (100.0%) in 56.76 sec. Users per second: 627\n"
     ]
    },
    {
     "name": "stderr",
     "output_type": "stream",
     "text": [
      "[I 2024-12-15 22:28:10,539] Trial 90 finished with value: 0.03348936447735325 and parameters: {'similarity': 'jaccard', 'topK': 727, 'shrink': 376, 'feature_weighting': 'none'}. Best is trial 84 with value: 0.04206425126589312.\n"
     ]
    },
    {
     "name": "stdout",
     "output_type": "stream",
     "text": [
      "Similarity column 35736 (100.0%), 2994.65 column/sec. Elapsed time 11.93 sec\n",
      "EvaluatorHoldout: Processed 35595 (100.0%) in 57.83 sec. Users per second: 616\n"
     ]
    },
    {
     "name": "stderr",
     "output_type": "stream",
     "text": [
      "[I 2024-12-15 22:29:21,676] Trial 91 finished with value: 0.04193944775550179 and parameters: {'similarity': 'asymmetric', 'topK': 750, 'shrink': 426, 'feature_weighting': 'BM25', 'asymmetric_alpha': 0.8197733756301798}. Best is trial 84 with value: 0.04206425126589312.\n"
     ]
    },
    {
     "name": "stdout",
     "output_type": "stream",
     "text": [
      "Similarity column 35736 (100.0%), 2900.35 column/sec. Elapsed time 12.32 sec\n",
      "EvaluatorHoldout: Processed 35595 (100.0%) in 57.76 sec. Users per second: 616\n"
     ]
    },
    {
     "name": "stderr",
     "output_type": "stream",
     "text": [
      "[I 2024-12-15 22:30:33,143] Trial 92 finished with value: 0.041972896139771926 and parameters: {'similarity': 'asymmetric', 'topK': 735, 'shrink': 346, 'feature_weighting': 'BM25', 'asymmetric_alpha': 0.7910587971702742}. Best is trial 84 with value: 0.04206425126589312.\n"
     ]
    },
    {
     "name": "stdout",
     "output_type": "stream",
     "text": [
      "Similarity column 35736 (100.0%), 2985.94 column/sec. Elapsed time 11.97 sec\n",
      "EvaluatorHoldout: Processed 35595 (100.0%) in 53.03 sec. Users per second: 671\n"
     ]
    },
    {
     "name": "stderr",
     "output_type": "stream",
     "text": [
      "[I 2024-12-15 22:31:39,410] Trial 93 finished with value: 0.03883970126890356 and parameters: {'similarity': 'asymmetric', 'topK': 690, 'shrink': 255, 'feature_weighting': 'BM25', 'asymmetric_alpha': 1.7387861230728026}. Best is trial 84 with value: 0.04206425126589312.\n"
     ]
    },
    {
     "name": "stdout",
     "output_type": "stream",
     "text": [
      "Similarity column 35736 (100.0%), 2927.54 column/sec. Elapsed time 12.21 sec\n",
      "EvaluatorHoldout: Processed 35595 (100.0%) in 54.02 sec. Users per second: 659\n"
     ]
    },
    {
     "name": "stderr",
     "output_type": "stream",
     "text": [
      "[I 2024-12-15 22:32:46,785] Trial 94 finished with value: 0.04121414970445579 and parameters: {'similarity': 'asymmetric', 'topK': 563, 'shrink': 345, 'feature_weighting': 'BM25', 'asymmetric_alpha': 0.7405468175756519}. Best is trial 84 with value: 0.04206425126589312.\n"
     ]
    },
    {
     "name": "stdout",
     "output_type": "stream",
     "text": [
      "Similarity column 35736 (100.0%), 3001.24 column/sec. Elapsed time 11.91 sec\n",
      "EvaluatorHoldout: Processed 35595 (100.0%) in 57.26 sec. Users per second: 622\n"
     ]
    },
    {
     "name": "stderr",
     "output_type": "stream",
     "text": [
      "[I 2024-12-15 22:33:57,342] Trial 95 finished with value: 0.0417806663143772 and parameters: {'similarity': 'asymmetric', 'topK': 729, 'shrink': 425, 'feature_weighting': 'BM25', 'asymmetric_alpha': 0.9266372594773653}. Best is trial 84 with value: 0.04206425126589312.\n"
     ]
    },
    {
     "name": "stdout",
     "output_type": "stream",
     "text": [
      "Similarity column 35736 (100.0%), 2988.11 column/sec. Elapsed time 11.96 sec\n",
      "EvaluatorHoldout: Processed 35595 (100.0%) in 57.80 sec. Users per second: 616\n"
     ]
    },
    {
     "name": "stderr",
     "output_type": "stream",
     "text": [
      "[I 2024-12-15 22:35:08,438] Trial 96 finished with value: 0.04176221022659984 and parameters: {'similarity': 'asymmetric', 'topK': 709, 'shrink': 299, 'feature_weighting': 'BM25', 'asymmetric_alpha': 0.6014796279396853}. Best is trial 84 with value: 0.04206425126589312.\n"
     ]
    },
    {
     "name": "stdout",
     "output_type": "stream",
     "text": [
      "Similarity column 35736 (100.0%), 2905.31 column/sec. Elapsed time 12.30 sec\n",
      "EvaluatorHoldout: Processed 35595 (100.0%) in 57.78 sec. Users per second: 616\n"
     ]
    },
    {
     "name": "stderr",
     "output_type": "stream",
     "text": [
      "[I 2024-12-15 22:36:19,883] Trial 97 finished with value: 0.0418451104466682 and parameters: {'similarity': 'asymmetric', 'topK': 728, 'shrink': 484, 'feature_weighting': 'BM25', 'asymmetric_alpha': 0.7297151769035871}. Best is trial 84 with value: 0.04206425126589312.\n"
     ]
    },
    {
     "name": "stdout",
     "output_type": "stream",
     "text": [
      "Similarity column 35736 (100.0%), 2985.55 column/sec. Elapsed time 11.97 sec\n",
      "EvaluatorHoldout: Processed 35595 (100.0%) in 54.97 sec. Users per second: 648\n"
     ]
    },
    {
     "name": "stderr",
     "output_type": "stream",
     "text": [
      "[I 2024-12-15 22:37:28,079] Trial 98 finished with value: 0.041477078999412054 and parameters: {'similarity': 'asymmetric', 'topK': 624, 'shrink': 377, 'feature_weighting': 'BM25', 'asymmetric_alpha': 0.8531007770360697}. Best is trial 84 with value: 0.04206425126589312.\n"
     ]
    },
    {
     "name": "stdout",
     "output_type": "stream",
     "text": [
      "Similarity column 35736 (100.0%), 2978.69 column/sec. Elapsed time 12.00 sec\n",
      "EvaluatorHoldout: Processed 35595 (100.0%) in 56.86 sec. Users per second: 626\n"
     ]
    },
    {
     "name": "stderr",
     "output_type": "stream",
     "text": [
      "[I 2024-12-15 22:38:38,216] Trial 99 finished with value: 0.04150422633819027 and parameters: {'similarity': 'asymmetric', 'topK': 670, 'shrink': 388, 'feature_weighting': 'BM25', 'asymmetric_alpha': 0.5698544296305056}. Best is trial 84 with value: 0.04206425126589312.\n"
     ]
    },
    {
     "name": "stdout",
     "output_type": "stream",
     "text": [
      "Similarity column 35736 (100.0%), 3103.48 column/sec. Elapsed time 11.51 sec\n",
      "EvaluatorHoldout: Processed 35595 (100.0%) in 55.88 sec. Users per second: 637\n"
     ]
    },
    {
     "name": "stderr",
     "output_type": "stream",
     "text": [
      "[I 2024-12-15 22:39:47,092] Trial 100 finished with value: 0.03861950470125619 and parameters: {'similarity': 'dice', 'topK': 695, 'shrink': 437, 'feature_weighting': 'BM25'}. Best is trial 84 with value: 0.04206425126589312.\n"
     ]
    },
    {
     "name": "stdout",
     "output_type": "stream",
     "text": [
      "Similarity column 35736 (100.0%), 2983.35 column/sec. Elapsed time 11.98 sec\n",
      "EvaluatorHoldout: Processed 35595 (100.0%) in 58.12 sec. Users per second: 612\n"
     ]
    },
    {
     "name": "stderr",
     "output_type": "stream",
     "text": [
      "[I 2024-12-15 22:40:58,653] Trial 101 finished with value: 0.04185597896975741 and parameters: {'similarity': 'asymmetric', 'topK': 745, 'shrink': 520, 'feature_weighting': 'BM25', 'asymmetric_alpha': 0.8007465817769277}. Best is trial 84 with value: 0.04206425126589312.\n"
     ]
    },
    {
     "name": "stdout",
     "output_type": "stream",
     "text": [
      "Similarity column 35736 (100.0%), 3002.99 column/sec. Elapsed time 11.90 sec\n",
      "EvaluatorHoldout: Processed 35595 (100.0%) in 57.72 sec. Users per second: 617\n"
     ]
    },
    {
     "name": "stderr",
     "output_type": "stream",
     "text": [
      "[I 2024-12-15 22:42:09,634] Trial 102 finished with value: 0.04184394321478032 and parameters: {'similarity': 'asymmetric', 'topK': 735, 'shrink': 315, 'feature_weighting': 'BM25', 'asymmetric_alpha': 0.8896292034874294}. Best is trial 84 with value: 0.04206425126589312.\n"
     ]
    },
    {
     "name": "stdout",
     "output_type": "stream",
     "text": [
      "Similarity column 35736 (100.0%), 2965.81 column/sec. Elapsed time 12.05 sec\n",
      "EvaluatorHoldout: Processed 35595 (100.0%) in 57.68 sec. Users per second: 617\n"
     ]
    },
    {
     "name": "stderr",
     "output_type": "stream",
     "text": [
      "[I 2024-12-15 22:43:20,717] Trial 103 finished with value: 0.04180771108836697 and parameters: {'similarity': 'asymmetric', 'topK': 714, 'shrink': 493, 'feature_weighting': 'BM25', 'asymmetric_alpha': 0.7026342979119039}. Best is trial 84 with value: 0.04206425126589312.\n"
     ]
    },
    {
     "name": "stdout",
     "output_type": "stream",
     "text": [
      "Similarity column 35736 (100.0%), 3018.69 column/sec. Elapsed time 11.84 sec\n",
      "EvaluatorHoldout: Processed 35595 (100.0%) in 57.20 sec. Users per second: 622\n"
     ]
    },
    {
     "name": "stderr",
     "output_type": "stream",
     "text": [
      "[I 2024-12-15 22:44:31,143] Trial 104 finished with value: 0.041832738011623904 and parameters: {'similarity': 'asymmetric', 'topK': 748, 'shrink': 456, 'feature_weighting': 'BM25', 'asymmetric_alpha': 0.9682396756706944}. Best is trial 84 with value: 0.04206425126589312.\n"
     ]
    },
    {
     "name": "stdout",
     "output_type": "stream",
     "text": [
      "Similarity column 35736 (100.0%), 2937.11 column/sec. Elapsed time 12.17 sec\n",
      "EvaluatorHoldout: Processed 35595 (100.0%) in 55.78 sec. Users per second: 638\n"
     ]
    },
    {
     "name": "stderr",
     "output_type": "stream",
     "text": [
      "[I 2024-12-15 22:45:40,414] Trial 105 finished with value: 0.041462601756531985 and parameters: {'similarity': 'asymmetric', 'topK': 709, 'shrink': 535, 'feature_weighting': 'BM25', 'asymmetric_alpha': 1.0763316682888429}. Best is trial 84 with value: 0.04206425126589312.\n"
     ]
    },
    {
     "name": "stdout",
     "output_type": "stream",
     "text": [
      "Similarity column 35736 (100.0%), 2788.14 column/sec. Elapsed time 12.82 sec\n",
      "EvaluatorHoldout: Processed 35595 (100.0%) in 57.10 sec. Users per second: 623\n"
     ]
    },
    {
     "name": "stderr",
     "output_type": "stream",
     "text": [
      "[I 2024-12-15 22:46:51,842] Trial 106 finished with value: 0.03378305874955574 and parameters: {'similarity': 'tversky', 'topK': 730, 'shrink': 348, 'feature_weighting': 'TF-IDF', 'tversky_alpha': 0.8238177063197274, 'tversky_beta': 1.9895190898831594}. Best is trial 84 with value: 0.04206425126589312.\n"
     ]
    },
    {
     "name": "stdout",
     "output_type": "stream",
     "text": [
      "Similarity column 35736 (100.0%), 330.88 column/sec. Elapsed time 1.80 min\n",
      "EvaluatorHoldout: Processed 35595 (100.0%) in 31.83 sec. Users per second: 1118\n"
     ]
    },
    {
     "name": "stderr",
     "output_type": "stream",
     "text": [
      "[I 2024-12-15 22:49:12,669] Trial 107 finished with value: 0.003501987750196754 and parameters: {'similarity': 'euclidean', 'topK': 695, 'shrink': 410, 'feature_weighting': 'BM25', 'normalize_avg_row': True, 'similarity_from_distance_mode': 'exp', 'normalize': False}. Best is trial 84 with value: 0.04206425126589312.\n"
     ]
    },
    {
     "name": "stdout",
     "output_type": "stream",
     "text": [
      "Similarity column 35736 (100.0%), 3000.63 column/sec. Elapsed time 11.91 sec\n",
      "EvaluatorHoldout: Processed 35595 (100.0%) in 58.96 sec. Users per second: 604\n"
     ]
    },
    {
     "name": "stderr",
     "output_type": "stream",
     "text": [
      "[I 2024-12-15 22:50:24,918] Trial 108 finished with value: 0.04132586171144784 and parameters: {'similarity': 'asymmetric', 'topK': 750, 'shrink': 614, 'feature_weighting': 'BM25', 'asymmetric_alpha': 0.43155047602791796}. Best is trial 84 with value: 0.04206425126589312.\n"
     ]
    },
    {
     "name": "stdout",
     "output_type": "stream",
     "text": [
      "Similarity column 35736 (100.0%), 3003.16 column/sec. Elapsed time 11.90 sec\n",
      "EvaluatorHoldout: Processed 35595 (100.0%) in 56.47 sec. Users per second: 630\n"
     ]
    },
    {
     "name": "stderr",
     "output_type": "stream",
     "text": [
      "[I 2024-12-15 22:51:34,576] Trial 109 finished with value: 0.041605223669276256 and parameters: {'similarity': 'asymmetric', 'topK': 681, 'shrink': 564, 'feature_weighting': 'BM25', 'asymmetric_alpha': 0.6944620045787309}. Best is trial 84 with value: 0.04206425126589312.\n"
     ]
    },
    {
     "name": "stdout",
     "output_type": "stream",
     "text": [
      "Similarity column 35736 (100.0%), 2919.88 column/sec. Elapsed time 12.24 sec\n",
      "EvaluatorHoldout: Processed 35595 (100.0%) in 56.32 sec. Users per second: 632\n"
     ]
    },
    {
     "name": "stderr",
     "output_type": "stream",
     "text": [
      "[I 2024-12-15 22:52:44,374] Trial 110 finished with value: 0.03327923040733716 and parameters: {'similarity': 'asymmetric', 'topK': 721, 'shrink': 674, 'feature_weighting': 'none', 'asymmetric_alpha': 0.8053264739236811}. Best is trial 84 with value: 0.04206425126589312.\n"
     ]
    },
    {
     "name": "stdout",
     "output_type": "stream",
     "text": [
      "Similarity column 35736 (100.0%), 2901.13 column/sec. Elapsed time 12.32 sec\n",
      "EvaluatorHoldout: Processed 35595 (100.0%) in 57.36 sec. Users per second: 621\n"
     ]
    },
    {
     "name": "stderr",
     "output_type": "stream",
     "text": [
      "[I 2024-12-15 22:53:55,401] Trial 111 finished with value: 0.041854104932695806 and parameters: {'similarity': 'asymmetric', 'topK': 736, 'shrink': 405, 'feature_weighting': 'BM25', 'asymmetric_alpha': 0.8700824141220516}. Best is trial 84 with value: 0.04206425126589312.\n"
     ]
    },
    {
     "name": "stdout",
     "output_type": "stream",
     "text": [
      "Similarity column 35736 (100.0%), 2998.07 column/sec. Elapsed time 11.92 sec\n",
      "EvaluatorHoldout: Processed 35595 (100.0%) in 57.99 sec. Users per second: 614\n"
     ]
    },
    {
     "name": "stderr",
     "output_type": "stream",
     "text": [
      "[I 2024-12-15 22:55:06,659] Trial 112 finished with value: 0.041883017054738986 and parameters: {'similarity': 'asymmetric', 'topK': 736, 'shrink': 463, 'feature_weighting': 'BM25', 'asymmetric_alpha': 0.76702540684494}. Best is trial 84 with value: 0.04206425126589312.\n"
     ]
    },
    {
     "name": "stdout",
     "output_type": "stream",
     "text": [
      "Similarity column 35736 (100.0%), 2974.39 column/sec. Elapsed time 12.01 sec\n",
      "EvaluatorHoldout: Processed 35595 (100.0%) in 58.00 sec. Users per second: 614\n"
     ]
    },
    {
     "name": "stderr",
     "output_type": "stream",
     "text": [
      "[I 2024-12-15 22:56:18,009] Trial 113 finished with value: 0.04181208904407249 and parameters: {'similarity': 'asymmetric', 'topK': 712, 'shrink': 456, 'feature_weighting': 'BM25', 'asymmetric_alpha': 0.6699620062720206}. Best is trial 84 with value: 0.04206425126589312.\n"
     ]
    },
    {
     "name": "stdout",
     "output_type": "stream",
     "text": [
      "Similarity column 35736 (100.0%), 2953.65 column/sec. Elapsed time 12.10 sec\n",
      "EvaluatorHoldout: Processed 35595 (100.0%) in 52.85 sec. Users per second: 674\n"
     ]
    },
    {
     "name": "stderr",
     "output_type": "stream",
     "text": [
      "[I 2024-12-15 22:57:24,101] Trial 114 finished with value: 0.0407666071344945 and parameters: {'similarity': 'asymmetric', 'topK': 500, 'shrink': 494, 'feature_weighting': 'BM25', 'asymmetric_alpha': 0.757153977728046}. Best is trial 84 with value: 0.04206425126589312.\n"
     ]
    },
    {
     "name": "stdout",
     "output_type": "stream",
     "text": [
      "Similarity column 35736 (100.0%), 2867.55 column/sec. Elapsed time 12.46 sec\n",
      "EvaluatorHoldout: Processed 35595 (100.0%) in 58.44 sec. Users per second: 609\n"
     ]
    },
    {
     "name": "stderr",
     "output_type": "stream",
     "text": [
      "[I 2024-12-15 22:58:36,395] Trial 115 finished with value: 0.04185476268514464 and parameters: {'similarity': 'asymmetric', 'topK': 735, 'shrink': 112, 'feature_weighting': 'BM25', 'asymmetric_alpha': 0.8532767024348203}. Best is trial 84 with value: 0.04206425126589312.\n"
     ]
    },
    {
     "name": "stdout",
     "output_type": "stream",
     "text": [
      "Similarity column 35736 (100.0%), 3007.74 column/sec. Elapsed time 11.88 sec\n",
      "EvaluatorHoldout: Processed 35595 (100.0%) in 56.98 sec. Users per second: 625\n"
     ]
    },
    {
     "name": "stderr",
     "output_type": "stream",
     "text": [
      "[I 2024-12-15 22:59:46,790] Trial 116 finished with value: 0.0389694970088971 and parameters: {'similarity': 'jaccard', 'topK': 749, 'shrink': 366, 'feature_weighting': 'BM25'}. Best is trial 84 with value: 0.04206425126589312.\n"
     ]
    },
    {
     "name": "stdout",
     "output_type": "stream",
     "text": [
      "Similarity column 35736 (100.0%), 2909.80 column/sec. Elapsed time 12.28 sec\n",
      "EvaluatorHoldout: Processed 35595 (100.0%) in 57.22 sec. Users per second: 622\n"
     ]
    },
    {
     "name": "stderr",
     "output_type": "stream",
     "text": [
      "[I 2024-12-15 23:00:57,676] Trial 117 finished with value: 0.04148171671159304 and parameters: {'similarity': 'asymmetric', 'topK': 717, 'shrink': 168, 'feature_weighting': 'BM25', 'asymmetric_alpha': 1.0071809277725587}. Best is trial 84 with value: 0.04206425126589312.\n"
     ]
    },
    {
     "name": "stdout",
     "output_type": "stream",
     "text": [
      "Similarity column 35736 (100.0%), 2890.07 column/sec. Elapsed time 12.37 sec\n",
      "EvaluatorHoldout: Processed 35595 (100.0%) in 57.78 sec. Users per second: 616\n"
     ]
    },
    {
     "name": "stderr",
     "output_type": "stream",
     "text": [
      "[I 2024-12-15 23:02:09,151] Trial 118 finished with value: 0.04154852652302985 and parameters: {'similarity': 'asymmetric', 'topK': 700, 'shrink': 434, 'feature_weighting': 'BM25', 'asymmetric_alpha': 0.5406985533097384}. Best is trial 84 with value: 0.04206425126589312.\n"
     ]
    },
    {
     "name": "stdout",
     "output_type": "stream",
     "text": [
      "Similarity column 35736 (100.0%), 2881.62 column/sec. Elapsed time 12.40 sec\n",
      "EvaluatorHoldout: Processed 35595 (100.0%) in 57.00 sec. Users per second: 625\n"
     ]
    },
    {
     "name": "stderr",
     "output_type": "stream",
     "text": [
      "[I 2024-12-15 23:03:19,847] Trial 119 finished with value: 0.04190036499686585 and parameters: {'similarity': 'asymmetric', 'topK': 679, 'shrink': 30, 'feature_weighting': 'BM25', 'asymmetric_alpha': 0.66708698009062}. Best is trial 84 with value: 0.04206425126589312.\n"
     ]
    },
    {
     "name": "stdout",
     "output_type": "stream",
     "text": [
      "Similarity column 35736 (100.0%), 2894.56 column/sec. Elapsed time 12.35 sec\n",
      "EvaluatorHoldout: Processed 35595 (100.0%) in 57.30 sec. Users per second: 621\n"
     ]
    },
    {
     "name": "stderr",
     "output_type": "stream",
     "text": [
      "[I 2024-12-15 23:04:30,776] Trial 120 finished with value: 0.04196241892364789 and parameters: {'similarity': 'asymmetric', 'topK': 678, 'shrink': 15, 'feature_weighting': 'BM25', 'asymmetric_alpha': 0.6458706492761721}. Best is trial 84 with value: 0.04206425126589312.\n"
     ]
    },
    {
     "name": "stdout",
     "output_type": "stream",
     "text": [
      "Similarity column 35736 (100.0%), 2987.75 column/sec. Elapsed time 11.96 sec\n",
      "EvaluatorHoldout: Processed 35595 (100.0%) in 56.68 sec. Users per second: 628\n"
     ]
    },
    {
     "name": "stderr",
     "output_type": "stream",
     "text": [
      "[I 2024-12-15 23:05:40,700] Trial 121 finished with value: 0.04193299397766153 and parameters: {'similarity': 'asymmetric', 'topK': 663, 'shrink': 13, 'feature_weighting': 'BM25', 'asymmetric_alpha': 0.628221306312825}. Best is trial 84 with value: 0.04206425126589312.\n"
     ]
    },
    {
     "name": "stdout",
     "output_type": "stream",
     "text": [
      "Similarity column 35736 (100.0%), 3004.40 column/sec. Elapsed time 11.89 sec\n",
      "EvaluatorHoldout: Processed 35595 (100.0%) in 57.12 sec. Users per second: 623\n"
     ]
    },
    {
     "name": "stderr",
     "output_type": "stream",
     "text": [
      "[I 2024-12-15 23:06:51,006] Trial 122 finished with value: 0.04194392270182253 and parameters: {'similarity': 'asymmetric', 'topK': 673, 'shrink': 29, 'feature_weighting': 'BM25', 'asymmetric_alpha': 0.6342282399641499}. Best is trial 84 with value: 0.04206425126589312.\n"
     ]
    },
    {
     "name": "stdout",
     "output_type": "stream",
     "text": [
      "Similarity column 35736 (100.0%), 3003.41 column/sec. Elapsed time 11.90 sec\n",
      "EvaluatorHoldout: Processed 35595 (100.0%) in 55.84 sec. Users per second: 637\n"
     ]
    },
    {
     "name": "stderr",
     "output_type": "stream",
     "text": [
      "[I 2024-12-15 23:07:59,959] Trial 123 finished with value: 0.04132961535974449 and parameters: {'similarity': 'asymmetric', 'topK': 599, 'shrink': 16, 'feature_weighting': 'BM25', 'asymmetric_alpha': 0.49360012803015196}. Best is trial 84 with value: 0.04206425126589312.\n"
     ]
    },
    {
     "name": "stdout",
     "output_type": "stream",
     "text": [
      "Similarity column 35736 (100.0%), 2903.55 column/sec. Elapsed time 12.31 sec\n",
      "EvaluatorHoldout: Processed 35595 (100.0%) in 56.55 sec. Users per second: 629\n"
     ]
    },
    {
     "name": "stderr",
     "output_type": "stream",
     "text": [
      "[I 2024-12-15 23:09:10,081] Trial 124 finished with value: 0.04187314407900013 and parameters: {'similarity': 'asymmetric', 'topK': 655, 'shrink': 1, 'feature_weighting': 'BM25', 'asymmetric_alpha': 0.6388774863422123}. Best is trial 84 with value: 0.04206425126589312.\n"
     ]
    },
    {
     "name": "stdout",
     "output_type": "stream",
     "text": [
      "Similarity column 35736 (100.0%), 2912.21 column/sec. Elapsed time 12.27 sec\n",
      "EvaluatorHoldout: Processed 35595 (100.0%) in 57.24 sec. Users per second: 622\n"
     ]
    },
    {
     "name": "stderr",
     "output_type": "stream",
     "text": [
      "[I 2024-12-15 23:10:20,891] Trial 125 finished with value: 0.0418264403106359 and parameters: {'similarity': 'asymmetric', 'topK': 666, 'shrink': 37, 'feature_weighting': 'BM25', 'asymmetric_alpha': 0.5769269029743787}. Best is trial 84 with value: 0.04206425126589312.\n"
     ]
    },
    {
     "name": "stdout",
     "output_type": "stream",
     "text": [
      "Similarity column 35736 (100.0%), 3041.49 column/sec. Elapsed time 11.75 sec\n",
      "EvaluatorHoldout: Processed 35595 (100.0%) in 56.51 sec. Users per second: 630\n"
     ]
    },
    {
     "name": "stderr",
     "output_type": "stream",
     "text": [
      "[I 2024-12-15 23:11:30,390] Trial 126 finished with value: 0.041444510219687855 and parameters: {'similarity': 'cosine', 'topK': 635, 'shrink': 66, 'feature_weighting': 'BM25'}. Best is trial 84 with value: 0.04206425126589312.\n"
     ]
    },
    {
     "name": "stdout",
     "output_type": "stream",
     "text": [
      "Similarity column 35736 (100.0%), 2912.84 column/sec. Elapsed time 12.27 sec\n",
      "EvaluatorHoldout: Processed 35595 (100.0%) in 57.07 sec. Users per second: 624\n"
     ]
    },
    {
     "name": "stderr",
     "output_type": "stream",
     "text": [
      "[I 2024-12-15 23:12:41,063] Trial 127 finished with value: 0.04189626463499059 and parameters: {'similarity': 'asymmetric', 'topK': 680, 'shrink': 30, 'feature_weighting': 'BM25', 'asymmetric_alpha': 0.6782551764755331}. Best is trial 84 with value: 0.04206425126589312.\n"
     ]
    },
    {
     "name": "stdout",
     "output_type": "stream",
     "text": [
      "Similarity column 35736 (100.0%), 3104.65 column/sec. Elapsed time 11.51 sec\n",
      "EvaluatorHoldout: Processed 35595 (100.0%) in 56.22 sec. Users per second: 633\n"
     ]
    },
    {
     "name": "stderr",
     "output_type": "stream",
     "text": [
      "[I 2024-12-15 23:13:50,251] Trial 128 finished with value: 0.03434007362367977 and parameters: {'similarity': 'dice', 'topK': 688, 'shrink': 75, 'feature_weighting': 'TF-IDF'}. Best is trial 84 with value: 0.04206425126589312.\n"
     ]
    },
    {
     "name": "stdout",
     "output_type": "stream",
     "text": [
      "Similarity column 35736 (100.0%), 3014.99 column/sec. Elapsed time 11.85 sec\n",
      "EvaluatorHoldout: Processed 35595 (100.0%) in 37.63 sec. Users per second: 946\n"
     ]
    },
    {
     "name": "stderr",
     "output_type": "stream",
     "text": [
      "[I 2024-12-15 23:14:40,241] Trial 129 finished with value: 0.03062242891256731 and parameters: {'similarity': 'asymmetric', 'topK': 69, 'shrink': 111, 'feature_weighting': 'BM25', 'asymmetric_alpha': 0.4440628942578474}. Best is trial 84 with value: 0.04206425126589312.\n"
     ]
    },
    {
     "name": "stdout",
     "output_type": "stream",
     "text": [
      "Similarity column 35736 (100.0%), 2800.25 column/sec. Elapsed time 12.76 sec\n",
      "EvaluatorHoldout: Processed 35595 (100.0%) in 56.16 sec. Users per second: 634\n"
     ]
    },
    {
     "name": "stderr",
     "output_type": "stream",
     "text": [
      "[I 2024-12-15 23:15:50,630] Trial 130 finished with value: 0.03980672668936313 and parameters: {'similarity': 'tversky', 'topK': 647, 'shrink': 59, 'feature_weighting': 'BM25', 'tversky_alpha': 1.2458062848298095, 'tversky_beta': 1.4199204985700167}. Best is trial 84 with value: 0.04206425126589312.\n"
     ]
    },
    {
     "name": "stdout",
     "output_type": "stream",
     "text": [
      "Similarity column 35736 (100.0%), 2902.72 column/sec. Elapsed time 12.31 sec\n",
      "EvaluatorHoldout: Processed 35595 (100.0%) in 57.14 sec. Users per second: 623\n"
     ]
    },
    {
     "name": "stderr",
     "output_type": "stream",
     "text": [
      "[I 2024-12-15 23:17:01,465] Trial 131 finished with value: 0.04190857909863236 and parameters: {'similarity': 'asymmetric', 'topK': 683, 'shrink': 35, 'feature_weighting': 'BM25', 'asymmetric_alpha': 0.658954260469709}. Best is trial 84 with value: 0.04206425126589312.\n"
     ]
    },
    {
     "name": "stdout",
     "output_type": "stream",
     "text": [
      "Similarity column 35736 (100.0%), 2897.03 column/sec. Elapsed time 12.34 sec\n",
      "EvaluatorHoldout: Processed 35595 (100.0%) in 57.12 sec. Users per second: 623\n"
     ]
    },
    {
     "name": "stderr",
     "output_type": "stream",
     "text": [
      "[I 2024-12-15 23:18:12,192] Trial 132 finished with value: 0.04188897696082519 and parameters: {'similarity': 'asymmetric', 'topK': 665, 'shrink': 22, 'feature_weighting': 'BM25', 'asymmetric_alpha': 0.6180706737320167}. Best is trial 84 with value: 0.04206425126589312.\n"
     ]
    },
    {
     "name": "stdout",
     "output_type": "stream",
     "text": [
      "Similarity column 35736 (100.0%), 2899.42 column/sec. Elapsed time 12.33 sec\n",
      "EvaluatorHoldout: Processed 35595 (100.0%) in 58.52 sec. Users per second: 608\n"
     ]
    },
    {
     "name": "stderr",
     "output_type": "stream",
     "text": [
      "[I 2024-12-15 23:19:24,374] Trial 133 finished with value: 0.0410397984824854 and parameters: {'similarity': 'asymmetric', 'topK': 704, 'shrink': 0, 'feature_weighting': 'BM25', 'asymmetric_alpha': 0.3030435780615605}. Best is trial 84 with value: 0.04206425126589312.\n"
     ]
    },
    {
     "name": "stdout",
     "output_type": "stream",
     "text": [
      "Similarity column 35736 (100.0%), 2924.59 column/sec. Elapsed time 12.22 sec\n",
      "EvaluatorHoldout: Processed 35595 (100.0%) in 58.24 sec. Users per second: 611\n"
     ]
    },
    {
     "name": "stderr",
     "output_type": "stream",
     "text": [
      "[I 2024-12-15 23:20:36,160] Trial 134 finished with value: 0.04207710530950998 and parameters: {'similarity': 'asymmetric', 'topK': 720, 'shrink': 45, 'feature_weighting': 'BM25', 'asymmetric_alpha': 0.6295443543554831}. Best is trial 134 with value: 0.04207710530950998.\n"
     ]
    },
    {
     "name": "stdout",
     "output_type": "stream",
     "text": [
      "Similarity column 35736 (100.0%), 2894.45 column/sec. Elapsed time 12.35 sec\n",
      "EvaluatorHoldout: Processed 35595 (100.0%) in 58.23 sec. Users per second: 611\n"
     ]
    },
    {
     "name": "stderr",
     "output_type": "stream",
     "text": [
      "[I 2024-12-15 23:21:48,100] Trial 135 finished with value: 0.041886660334404247 and parameters: {'similarity': 'asymmetric', 'topK': 721, 'shrink': 96, 'feature_weighting': 'BM25', 'asymmetric_alpha': 0.5364223710745545}. Best is trial 134 with value: 0.04207710530950998.\n"
     ]
    },
    {
     "name": "stdout",
     "output_type": "stream",
     "text": [
      "Similarity column 35736 (100.0%), 3003.17 column/sec. Elapsed time 11.90 sec\n",
      "EvaluatorHoldout: Processed 35595 (100.0%) in 51.25 sec. Users per second: 695\n"
     ]
    },
    {
     "name": "stderr",
     "output_type": "stream",
     "text": [
      "[I 2024-12-15 23:22:52,252] Trial 136 finished with value: 0.04067574365045768 and parameters: {'similarity': 'asymmetric', 'topK': 437, 'shrink': 45, 'feature_weighting': 'BM25', 'asymmetric_alpha': 0.644625459807459}. Best is trial 134 with value: 0.04207710530950998.\n"
     ]
    },
    {
     "name": "stdout",
     "output_type": "stream",
     "text": [
      "Similarity column 35736 (100.0%), 376.66 column/sec. Elapsed time 1.58 min\n",
      "EvaluatorHoldout: Processed 35595 (100.0%) in 48.83 sec. Users per second: 729\n"
     ]
    },
    {
     "name": "stderr",
     "output_type": "stream",
     "text": [
      "[I 2024-12-15 23:25:16,762] Trial 137 finished with value: 0.032260801075591525 and parameters: {'similarity': 'euclidean', 'topK': 360, 'shrink': 82, 'feature_weighting': 'BM25', 'normalize_avg_row': False, 'similarity_from_distance_mode': 'log', 'normalize': True}. Best is trial 134 with value: 0.04207710530950998.\n"
     ]
    },
    {
     "name": "stdout",
     "output_type": "stream",
     "text": [
      "Similarity column 35736 (100.0%), 2948.84 column/sec. Elapsed time 12.12 sec\n",
      "EvaluatorHoldout: Processed 35595 (100.0%) in 54.29 sec. Users per second: 656\n"
     ]
    },
    {
     "name": "stderr",
     "output_type": "stream",
     "text": [
      "[I 2024-12-15 23:26:24,325] Trial 138 finished with value: 0.034811587368476254 and parameters: {'similarity': 'asymmetric', 'topK': 614, 'shrink': 32, 'feature_weighting': 'none', 'asymmetric_alpha': 0.7115593296054153}. Best is trial 134 with value: 0.04207710530950998.\n"
     ]
    },
    {
     "name": "stdout",
     "output_type": "stream",
     "text": [
      "Similarity column 35736 (100.0%), 3006.29 column/sec. Elapsed time 11.89 sec\n",
      "EvaluatorHoldout: Processed 35595 (100.0%) in 57.83 sec. Users per second: 616\n"
     ]
    },
    {
     "name": "stderr",
     "output_type": "stream",
     "text": [
      "[I 2024-12-15 23:27:35,385] Trial 139 finished with value: 0.04171263798865833 and parameters: {'similarity': 'cosine', 'topK': 685, 'shrink': 22, 'feature_weighting': 'BM25'}. Best is trial 134 with value: 0.04207710530950998.\n"
     ]
    },
    {
     "name": "stdout",
     "output_type": "stream",
     "text": [
      "Similarity column 35736 (100.0%), 2947.04 column/sec. Elapsed time 12.13 sec\n",
      "EvaluatorHoldout: Processed 35595 (100.0%) in 58.45 sec. Users per second: 609\n"
     ]
    },
    {
     "name": "stderr",
     "output_type": "stream",
     "text": [
      "[I 2024-12-15 23:28:47,363] Trial 140 finished with value: 0.04196426286017356 and parameters: {'similarity': 'asymmetric', 'topK': 703, 'shrink': 123, 'feature_weighting': 'BM25', 'asymmetric_alpha': 0.5937901964312151}. Best is trial 134 with value: 0.04207710530950998.\n"
     ]
    },
    {
     "name": "stdout",
     "output_type": "stream",
     "text": [
      "Similarity column 35736 (100.0%), 2994.34 column/sec. Elapsed time 11.93 sec\n",
      "EvaluatorHoldout: Processed 35595 (100.0%) in 57.76 sec. Users per second: 616\n"
     ]
    },
    {
     "name": "stderr",
     "output_type": "stream",
     "text": [
      "[I 2024-12-15 23:29:58,385] Trial 141 finished with value: 0.041963460179219245 and parameters: {'similarity': 'asymmetric', 'topK': 703, 'shrink': 124, 'feature_weighting': 'BM25', 'asymmetric_alpha': 0.6016243264457429}. Best is trial 134 with value: 0.04207710530950998.\n"
     ]
    },
    {
     "name": "stdout",
     "output_type": "stream",
     "text": [
      "Similarity column 35736 (100.0%), 2942.54 column/sec. Elapsed time 12.14 sec\n",
      "EvaluatorHoldout: Processed 35595 (100.0%) in 57.90 sec. Users per second: 615\n"
     ]
    },
    {
     "name": "stderr",
     "output_type": "stream",
     "text": [
      "[I 2024-12-15 23:31:09,802] Trial 142 finished with value: 0.04195499635448899 and parameters: {'similarity': 'asymmetric', 'topK': 706, 'shrink': 126, 'feature_weighting': 'BM25', 'asymmetric_alpha': 0.5854703816844059}. Best is trial 134 with value: 0.04207710530950998.\n"
     ]
    },
    {
     "name": "stdout",
     "output_type": "stream",
     "text": [
      "Similarity column 35736 (100.0%), 2965.41 column/sec. Elapsed time 12.05 sec\n",
      "EvaluatorHoldout: Processed 35595 (100.0%) in 57.91 sec. Users per second: 615\n"
     ]
    },
    {
     "name": "stderr",
     "output_type": "stream",
     "text": [
      "[I 2024-12-15 23:32:21,181] Trial 143 finished with value: 0.04191515662311958 and parameters: {'similarity': 'asymmetric', 'topK': 703, 'shrink': 142, 'feature_weighting': 'BM25', 'asymmetric_alpha': 0.5898449825601715}. Best is trial 134 with value: 0.04207710530950998.\n"
     ]
    },
    {
     "name": "stdout",
     "output_type": "stream",
     "text": [
      "Similarity column 35736 (100.0%), 2881.08 column/sec. Elapsed time 12.40 sec\n",
      "EvaluatorHoldout: Processed 35595 (100.0%) in 57.97 sec. Users per second: 614\n"
     ]
    },
    {
     "name": "stderr",
     "output_type": "stream",
     "text": [
      "[I 2024-12-15 23:33:32,880] Trial 144 finished with value: 0.04178780237102874 and parameters: {'similarity': 'asymmetric', 'topK': 702, 'shrink': 132, 'feature_weighting': 'BM25', 'asymmetric_alpha': 0.5391607622441789}. Best is trial 134 with value: 0.04207710530950998.\n"
     ]
    },
    {
     "name": "stdout",
     "output_type": "stream",
     "text": [
      "Similarity column 35736 (100.0%), 2986.49 column/sec. Elapsed time 11.97 sec\n",
      "EvaluatorHoldout: Processed 35595 (100.0%) in 57.18 sec. Users per second: 622\n"
     ]
    },
    {
     "name": "stderr",
     "output_type": "stream",
     "text": [
      "[I 2024-12-15 23:34:43,324] Trial 145 finished with value: 0.04177986251858824 and parameters: {'similarity': 'asymmetric', 'topK': 670, 'shrink': 156, 'feature_weighting': 'BM25', 'asymmetric_alpha': 0.603239416848128}. Best is trial 134 with value: 0.04207710530950998.\n"
     ]
    },
    {
     "name": "stdout",
     "output_type": "stream",
     "text": [
      "Similarity column 35736 (100.0%), 3008.04 column/sec. Elapsed time 11.88 sec\n",
      "EvaluatorHoldout: Processed 35595 (100.0%) in 57.22 sec. Users per second: 622\n"
     ]
    },
    {
     "name": "stderr",
     "output_type": "stream",
     "text": [
      "[I 2024-12-15 23:35:53,701] Trial 146 finished with value: 0.04152382067215458 and parameters: {'similarity': 'asymmetric', 'topK': 656, 'shrink': 122, 'feature_weighting': 'BM25', 'asymmetric_alpha': 0.49228154077658504}. Best is trial 134 with value: 0.04207710530950998.\n"
     ]
    },
    {
     "name": "stdout",
     "output_type": "stream",
     "text": [
      "Similarity column 35736 (100.0%), 2897.73 column/sec. Elapsed time 12.33 sec\n",
      "EvaluatorHoldout: Processed 35595 (100.0%) in 58.28 sec. Users per second: 611\n"
     ]
    },
    {
     "name": "stderr",
     "output_type": "stream",
     "text": [
      "[I 2024-12-15 23:37:05,681] Trial 147 finished with value: 0.04186484413496481 and parameters: {'similarity': 'asymmetric', 'topK': 715, 'shrink': 205, 'feature_weighting': 'BM25', 'asymmetric_alpha': 0.5764706658989979}. Best is trial 134 with value: 0.04207710530950998.\n"
     ]
    },
    {
     "name": "stdout",
     "output_type": "stream",
     "text": [
      "Similarity column 35736 (100.0%), 2978.60 column/sec. Elapsed time 12.00 sec\n",
      "EvaluatorHoldout: Processed 35595 (100.0%) in 57.55 sec. Users per second: 619\n"
     ]
    },
    {
     "name": "stderr",
     "output_type": "stream",
     "text": [
      "[I 2024-12-15 23:38:16,553] Trial 148 finished with value: 0.04194671982198149 and parameters: {'similarity': 'asymmetric', 'topK': 695, 'shrink': 85, 'feature_weighting': 'BM25', 'asymmetric_alpha': 0.6132138847390687}. Best is trial 134 with value: 0.04207710530950998.\n"
     ]
    },
    {
     "name": "stdout",
     "output_type": "stream",
     "text": [
      "Similarity column 35736 (100.0%), 2989.73 column/sec. Elapsed time 11.95 sec\n",
      "EvaluatorHoldout: Processed 35595 (100.0%) in 57.56 sec. Users per second: 618\n"
     ]
    },
    {
     "name": "stderr",
     "output_type": "stream",
     "text": [
      "[I 2024-12-15 23:39:27,394] Trial 149 finished with value: 0.04193812556159634 and parameters: {'similarity': 'asymmetric', 'topK': 696, 'shrink': 90, 'feature_weighting': 'BM25', 'asymmetric_alpha': 0.6063992651775459}. Best is trial 134 with value: 0.04207710530950998.\n"
     ]
    },
    {
     "name": "stdout",
     "output_type": "stream",
     "text": [
      "Similarity column 35736 (100.0%), 2969.72 column/sec. Elapsed time 12.03 sec\n",
      "EvaluatorHoldout: Processed 35595 (100.0%) in 58.59 sec. Users per second: 608\n"
     ]
    },
    {
     "name": "stderr",
     "output_type": "stream",
     "text": [
      "[I 2024-12-15 23:40:39,357] Trial 150 finished with value: 0.04154516306686392 and parameters: {'similarity': 'asymmetric', 'topK': 698, 'shrink': 91, 'feature_weighting': 'BM25', 'asymmetric_alpha': 0.43723431213841135}. Best is trial 134 with value: 0.04207710530950998.\n"
     ]
    },
    {
     "name": "stdout",
     "output_type": "stream",
     "text": [
      "Similarity column 35736 (100.0%), 2970.21 column/sec. Elapsed time 12.03 sec\n",
      "EvaluatorHoldout: Processed 35595 (100.0%) in 58.55 sec. Users per second: 608\n"
     ]
    },
    {
     "name": "stderr",
     "output_type": "stream",
     "text": [
      "[I 2024-12-15 23:41:51,795] Trial 151 finished with value: 0.0420391173185089 and parameters: {'similarity': 'asymmetric', 'topK': 726, 'shrink': 141, 'feature_weighting': 'BM25', 'asymmetric_alpha': 0.6205595112864251}. Best is trial 134 with value: 0.04207710530950998.\n"
     ]
    },
    {
     "name": "stdout",
     "output_type": "stream",
     "text": [
      "Similarity column 35736 (100.0%), 2950.41 column/sec. Elapsed time 12.11 sec\n",
      "EvaluatorHoldout: Processed 35595 (100.0%) in 58.51 sec. Users per second: 608\n"
     ]
    },
    {
     "name": "stderr",
     "output_type": "stream",
     "text": [
      "[I 2024-12-15 23:43:03,851] Trial 152 finished with value: 0.04196416363988893 and parameters: {'similarity': 'asymmetric', 'topK': 724, 'shrink': 151, 'feature_weighting': 'BM25', 'asymmetric_alpha': 0.5933298688682823}. Best is trial 134 with value: 0.04207710530950998.\n"
     ]
    },
    {
     "name": "stdout",
     "output_type": "stream",
     "text": [
      "Similarity column 35736 (100.0%), 2916.83 column/sec. Elapsed time 12.25 sec\n",
      "EvaluatorHoldout: Processed 35595 (100.0%) in 57.69 sec. Users per second: 617\n"
     ]
    },
    {
     "name": "stderr",
     "output_type": "stream",
     "text": [
      "[I 2024-12-15 23:44:15,153] Trial 153 finished with value: 0.04198678697962158 and parameters: {'similarity': 'asymmetric', 'topK': 729, 'shrink': 60, 'feature_weighting': 'BM25', 'asymmetric_alpha': 0.7745220408174401}. Best is trial 134 with value: 0.04207710530950998.\n"
     ]
    },
    {
     "name": "stdout",
     "output_type": "stream",
     "text": [
      "Similarity column 35736 (100.0%), 2991.80 column/sec. Elapsed time 11.94 sec\n",
      "EvaluatorHoldout: Processed 35595 (100.0%) in 57.89 sec. Users per second: 615\n"
     ]
    },
    {
     "name": "stderr",
     "output_type": "stream",
     "text": [
      "[I 2024-12-15 23:45:26,380] Trial 154 finished with value: 0.041984944157930436 and parameters: {'similarity': 'asymmetric', 'topK': 728, 'shrink': 114, 'feature_weighting': 'BM25', 'asymmetric_alpha': 0.7832304640606795}. Best is trial 134 with value: 0.04207710530950998.\n"
     ]
    },
    {
     "name": "stdout",
     "output_type": "stream",
     "text": [
      "Similarity column 35736 (100.0%), 2951.68 column/sec. Elapsed time 12.11 sec\n",
      "EvaluatorHoldout: Processed 35595 (100.0%) in 58.02 sec. Users per second: 613\n"
     ]
    },
    {
     "name": "stderr",
     "output_type": "stream",
     "text": [
      "[I 2024-12-15 23:46:37,854] Trial 155 finished with value: 0.0419744914681689 and parameters: {'similarity': 'asymmetric', 'topK': 724, 'shrink': 183, 'feature_weighting': 'BM25', 'asymmetric_alpha': 0.7834637248485518}. Best is trial 134 with value: 0.04207710530950998.\n"
     ]
    },
    {
     "name": "stdout",
     "output_type": "stream",
     "text": [
      "Similarity column 35736 (100.0%), 2952.84 column/sec. Elapsed time 12.10 sec\n",
      "EvaluatorHoldout: Processed 35595 (100.0%) in 57.74 sec. Users per second: 616\n"
     ]
    },
    {
     "name": "stderr",
     "output_type": "stream",
     "text": [
      "[I 2024-12-15 23:47:49,051] Trial 156 finished with value: 0.04195584697333395 and parameters: {'similarity': 'asymmetric', 'topK': 722, 'shrink': 177, 'feature_weighting': 'BM25', 'asymmetric_alpha': 0.7748384510899109}. Best is trial 134 with value: 0.04207710530950998.\n"
     ]
    },
    {
     "name": "stdout",
     "output_type": "stream",
     "text": [
      "Similarity column 35736 (100.0%), 3021.05 column/sec. Elapsed time 11.83 sec\n",
      "EvaluatorHoldout: Processed 35595 (100.0%) in 57.05 sec. Users per second: 624\n"
     ]
    },
    {
     "name": "stderr",
     "output_type": "stream",
     "text": [
      "[I 2024-12-15 23:48:59,502] Trial 157 finished with value: 0.03959842986686479 and parameters: {'similarity': 'jaccard', 'topK': 723, 'shrink': 165, 'feature_weighting': 'BM25'}. Best is trial 134 with value: 0.04207710530950998.\n"
     ]
    },
    {
     "name": "stdout",
     "output_type": "stream",
     "text": [
      "Similarity column 35736 (100.0%), 2958.65 column/sec. Elapsed time 12.08 sec\n",
      "EvaluatorHoldout: Processed 35595 (100.0%) in 58.05 sec. Users per second: 613\n"
     ]
    },
    {
     "name": "stderr",
     "output_type": "stream",
     "text": [
      "[I 2024-12-15 23:50:11,062] Trial 158 finished with value: 0.04199382493082307 and parameters: {'similarity': 'asymmetric', 'topK': 723, 'shrink': 173, 'feature_weighting': 'BM25', 'asymmetric_alpha': 0.7777672162568614}. Best is trial 134 with value: 0.04207710530950998.\n"
     ]
    },
    {
     "name": "stdout",
     "output_type": "stream",
     "text": [
      "Similarity column 35736 (100.0%), 2909.32 column/sec. Elapsed time 12.28 sec\n",
      "EvaluatorHoldout: Processed 35595 (100.0%) in 57.33 sec. Users per second: 621\n"
     ]
    },
    {
     "name": "stderr",
     "output_type": "stream",
     "text": [
      "[I 2024-12-15 23:51:22,071] Trial 159 finished with value: 0.034231757403058234 and parameters: {'similarity': 'asymmetric', 'topK': 730, 'shrink': 192, 'feature_weighting': 'TF-IDF', 'asymmetric_alpha': 0.7770288172001757}. Best is trial 134 with value: 0.04207710530950998.\n"
     ]
    },
    {
     "name": "stdout",
     "output_type": "stream",
     "text": [
      "Similarity column 35736 (100.0%), 2876.18 column/sec. Elapsed time 12.42 sec\n",
      "EvaluatorHoldout: Processed 35595 (100.0%) in 58.39 sec. Users per second: 610\n"
     ]
    },
    {
     "name": "stderr",
     "output_type": "stream",
     "text": [
      "[I 2024-12-15 23:52:34,320] Trial 160 finished with value: 0.04200912157717738 and parameters: {'similarity': 'asymmetric', 'topK': 728, 'shrink': 187, 'feature_weighting': 'BM25', 'asymmetric_alpha': 0.7340932106874659}. Best is trial 134 with value: 0.04207710530950998.\n"
     ]
    },
    {
     "name": "stdout",
     "output_type": "stream",
     "text": [
      "Similarity column 35736 (100.0%), 2992.09 column/sec. Elapsed time 11.94 sec\n",
      "EvaluatorHoldout: Processed 35595 (100.0%) in 57.86 sec. Users per second: 615\n"
     ]
    },
    {
     "name": "stderr",
     "output_type": "stream",
     "text": [
      "[I 2024-12-15 23:53:45,475] Trial 161 finished with value: 0.042009245323824565 and parameters: {'similarity': 'asymmetric', 'topK': 721, 'shrink': 175, 'feature_weighting': 'BM25', 'asymmetric_alpha': 0.7288672426326301}. Best is trial 134 with value: 0.04207710530950998.\n"
     ]
    },
    {
     "name": "stdout",
     "output_type": "stream",
     "text": [
      "Similarity column 35736 (100.0%), 2991.73 column/sec. Elapsed time 11.94 sec\n",
      "EvaluatorHoldout: Processed 35595 (100.0%) in 57.90 sec. Users per second: 615\n"
     ]
    },
    {
     "name": "stderr",
     "output_type": "stream",
     "text": [
      "[I 2024-12-15 23:54:56,707] Trial 162 finished with value: 0.042006961027608564 and parameters: {'similarity': 'asymmetric', 'topK': 728, 'shrink': 181, 'feature_weighting': 'BM25', 'asymmetric_alpha': 0.7419504835274034}. Best is trial 134 with value: 0.04207710530950998.\n"
     ]
    },
    {
     "name": "stdout",
     "output_type": "stream",
     "text": [
      "Similarity column 35736 (100.0%), 2866.44 column/sec. Elapsed time 12.47 sec\n",
      "EvaluatorHoldout: Processed 35595 (100.0%) in 58.20 sec. Users per second: 612\n"
     ]
    },
    {
     "name": "stderr",
     "output_type": "stream",
     "text": [
      "[I 2024-12-15 23:56:08,742] Trial 163 finished with value: 0.04202834467120022 and parameters: {'similarity': 'asymmetric', 'topK': 731, 'shrink': 224, 'feature_weighting': 'BM25', 'asymmetric_alpha': 0.7330141942554689}. Best is trial 134 with value: 0.04207710530950998.\n"
     ]
    },
    {
     "name": "stdout",
     "output_type": "stream",
     "text": [
      "Similarity column 35736 (100.0%), 2950.29 column/sec. Elapsed time 12.11 sec\n",
      "EvaluatorHoldout: Processed 35595 (100.0%) in 58.72 sec. Users per second: 606\n"
     ]
    },
    {
     "name": "stderr",
     "output_type": "stream",
     "text": [
      "[I 2024-12-15 23:57:20,992] Trial 164 finished with value: 0.04201387857666663 and parameters: {'similarity': 'asymmetric', 'topK': 730, 'shrink': 222, 'feature_weighting': 'BM25', 'asymmetric_alpha': 0.7225534931992877}. Best is trial 134 with value: 0.04207710530950998.\n"
     ]
    },
    {
     "name": "stdout",
     "output_type": "stream",
     "text": [
      "Similarity column 35736 (100.0%), 2982.63 column/sec. Elapsed time 11.98 sec\n",
      "EvaluatorHoldout: Processed 35595 (100.0%) in 58.61 sec. Users per second: 607\n"
     ]
    },
    {
     "name": "stderr",
     "output_type": "stream",
     "text": [
      "[I 2024-12-15 23:58:33,023] Trial 165 finished with value: 0.042021215303556715 and parameters: {'similarity': 'asymmetric', 'topK': 733, 'shrink': 228, 'feature_weighting': 'BM25', 'asymmetric_alpha': 0.7335468400232089}. Best is trial 134 with value: 0.04207710530950998.\n"
     ]
    },
    {
     "name": "stdout",
     "output_type": "stream",
     "text": [
      "Similarity column 35736 (100.0%), 2983.08 column/sec. Elapsed time 11.98 sec\n",
      "EvaluatorHoldout: Processed 35595 (100.0%) in 58.50 sec. Users per second: 608\n"
     ]
    },
    {
     "name": "stderr",
     "output_type": "stream",
     "text": [
      "[I 2024-12-15 23:59:44,905] Trial 166 finished with value: 0.042047012577563 and parameters: {'similarity': 'asymmetric', 'topK': 735, 'shrink': 214, 'feature_weighting': 'BM25', 'asymmetric_alpha': 0.7290788564719055}. Best is trial 134 with value: 0.04207710530950998.\n"
     ]
    },
    {
     "name": "stdout",
     "output_type": "stream",
     "text": [
      "Similarity column 35736 (100.0%), 2956.76 column/sec. Elapsed time 12.09 sec\n",
      "EvaluatorHoldout: Processed 35595 (100.0%) in 59.84 sec. Users per second: 595\n"
     ]
    },
    {
     "name": "stderr",
     "output_type": "stream",
     "text": [
      "[I 2024-12-16 00:00:58,276] Trial 167 finished with value: 0.0420524574300369 and parameters: {'similarity': 'asymmetric', 'topK': 738, 'shrink': 228, 'feature_weighting': 'BM25', 'asymmetric_alpha': 0.7311162246636977}. Best is trial 134 with value: 0.04207710530950998.\n"
     ]
    },
    {
     "name": "stdout",
     "output_type": "stream",
     "text": [
      "Similarity column 35736 (100.0%), 2961.05 column/sec. Elapsed time 12.07 sec\n",
      "EvaluatorHoldout: Processed 35595 (100.0%) in 59.16 sec. Users per second: 602\n"
     ]
    },
    {
     "name": "stderr",
     "output_type": "stream",
     "text": [
      "[I 2024-12-16 00:02:10,905] Trial 168 finished with value: 0.042053961341991755 and parameters: {'similarity': 'asymmetric', 'topK': 735, 'shrink': 214, 'feature_weighting': 'BM25', 'asymmetric_alpha': 0.7325761138134039}. Best is trial 134 with value: 0.04207710530950998.\n"
     ]
    },
    {
     "name": "stdout",
     "output_type": "stream",
     "text": [
      "Similarity column 35736 (100.0%), 2953.17 column/sec. Elapsed time 12.10 sec\n",
      "EvaluatorHoldout: Processed 35595 (100.0%) in 58.86 sec. Users per second: 605\n"
     ]
    },
    {
     "name": "stderr",
     "output_type": "stream",
     "text": [
      "[I 2024-12-16 00:03:23,308] Trial 169 finished with value: 0.042030934432112706 and parameters: {'similarity': 'asymmetric', 'topK': 735, 'shrink': 229, 'feature_weighting': 'BM25', 'asymmetric_alpha': 0.7132930891835939}. Best is trial 134 with value: 0.04207710530950998.\n"
     ]
    },
    {
     "name": "stdout",
     "output_type": "stream",
     "text": [
      "Similarity column 35736 (100.0%), 2887.04 column/sec. Elapsed time 12.38 sec\n",
      "EvaluatorHoldout: Processed 35595 (100.0%) in 57.75 sec. Users per second: 616\n"
     ]
    },
    {
     "name": "stderr",
     "output_type": "stream",
     "text": [
      "[I 2024-12-16 00:04:34,771] Trial 170 finished with value: 0.03351330778132185 and parameters: {'similarity': 'asymmetric', 'topK': 736, 'shrink': 223, 'feature_weighting': 'none', 'asymmetric_alpha': 0.7310036352149684}. Best is trial 134 with value: 0.04207710530950998.\n"
     ]
    },
    {
     "name": "stdout",
     "output_type": "stream",
     "text": [
      "Similarity column 35736 (100.0%), 2848.75 column/sec. Elapsed time 12.54 sec\n",
      "EvaluatorHoldout: Processed 35595 (100.0%) in 58.88 sec. Users per second: 605\n"
     ]
    },
    {
     "name": "stderr",
     "output_type": "stream",
     "text": [
      "[I 2024-12-16 00:05:47,624] Trial 171 finished with value: 0.042053961341991755 and parameters: {'similarity': 'asymmetric', 'topK': 735, 'shrink': 214, 'feature_weighting': 'BM25', 'asymmetric_alpha': 0.7325696132683039}. Best is trial 134 with value: 0.04207710530950998.\n"
     ]
    },
    {
     "name": "stdout",
     "output_type": "stream",
     "text": [
      "Similarity column 35736 (100.0%), 2988.40 column/sec. Elapsed time 11.96 sec\n",
      "EvaluatorHoldout: Processed 35595 (100.0%) in 59.11 sec. Users per second: 602\n"
     ]
    },
    {
     "name": "stderr",
     "output_type": "stream",
     "text": [
      "[I 2024-12-16 00:07:00,085] Trial 172 finished with value: 0.042021626677545845 and parameters: {'similarity': 'asymmetric', 'topK': 734, 'shrink': 244, 'feature_weighting': 'BM25', 'asymmetric_alpha': 0.7373351972379796}. Best is trial 134 with value: 0.04207710530950998.\n"
     ]
    },
    {
     "name": "stdout",
     "output_type": "stream",
     "text": [
      "Similarity column 35736 (100.0%), 2954.81 column/sec. Elapsed time 12.09 sec\n",
      "EvaluatorHoldout: Processed 35595 (100.0%) in 58.91 sec. Users per second: 604\n"
     ]
    },
    {
     "name": "stderr",
     "output_type": "stream",
     "text": [
      "[I 2024-12-16 00:08:12,507] Trial 173 finished with value: 0.042006812754598666 and parameters: {'similarity': 'asymmetric', 'topK': 731, 'shrink': 261, 'feature_weighting': 'BM25', 'asymmetric_alpha': 0.7224183993360969}. Best is trial 134 with value: 0.04207710530950998.\n"
     ]
    },
    {
     "name": "stdout",
     "output_type": "stream",
     "text": [
      "Similarity column 35736 (100.0%), 2961.01 column/sec. Elapsed time 12.07 sec\n",
      "EvaluatorHoldout: Processed 35595 (100.0%) in 58.67 sec. Users per second: 607\n"
     ]
    },
    {
     "name": "stderr",
     "output_type": "stream",
     "text": [
      "[I 2024-12-16 00:09:24,644] Trial 174 finished with value: 0.04202620084415115 and parameters: {'similarity': 'asymmetric', 'topK': 736, 'shrink': 250, 'feature_weighting': 'BM25', 'asymmetric_alpha': 0.7190063378547008}. Best is trial 134 with value: 0.04207710530950998.\n"
     ]
    },
    {
     "name": "stdout",
     "output_type": "stream",
     "text": [
      "Similarity column 35736 (100.0%), 2912.12 column/sec. Elapsed time 12.27 sec\n",
      "EvaluatorHoldout: Processed 35595 (100.0%) in 59.19 sec. Users per second: 601\n"
     ]
    },
    {
     "name": "stderr",
     "output_type": "stream",
     "text": [
      "[I 2024-12-16 00:10:37,580] Trial 175 finished with value: 0.04193818687750252 and parameters: {'similarity': 'asymmetric', 'topK': 714, 'shrink': 237, 'feature_weighting': 'BM25', 'asymmetric_alpha': 0.719537569168056}. Best is trial 134 with value: 0.04207710530950998.\n"
     ]
    },
    {
     "name": "stdout",
     "output_type": "stream",
     "text": [
      "Similarity column 35736 (100.0%), 3056.94 column/sec. Elapsed time 11.69 sec\n",
      "EvaluatorHoldout: Processed 35595 (100.0%) in 57.28 sec. Users per second: 621\n"
     ]
    },
    {
     "name": "stderr",
     "output_type": "stream",
     "text": [
      "[I 2024-12-16 00:11:48,098] Trial 176 finished with value: 0.03923681540790523 and parameters: {'similarity': 'dice', 'topK': 736, 'shrink': 262, 'feature_weighting': 'BM25'}. Best is trial 134 with value: 0.04207710530950998.\n"
     ]
    },
    {
     "name": "stdout",
     "output_type": "stream",
     "text": [
      "Similarity column 35736 (100.0%), 2960.66 column/sec. Elapsed time 12.07 sec\n",
      "EvaluatorHoldout: Processed 35595 (100.0%) in 59.17 sec. Users per second: 602\n"
     ]
    },
    {
     "name": "stderr",
     "output_type": "stream",
     "text": [
      "[I 2024-12-16 00:13:00,769] Trial 177 finished with value: 0.04203366243252298 and parameters: {'similarity': 'asymmetric', 'topK': 738, 'shrink': 208, 'feature_weighting': 'BM25', 'asymmetric_alpha': 0.6950205495656562}. Best is trial 134 with value: 0.04207710530950998.\n"
     ]
    },
    {
     "name": "stdout",
     "output_type": "stream",
     "text": [
      "Similarity column 35736 (100.0%), 2748.65 column/sec. Elapsed time 13.00 sec\n",
      "EvaluatorHoldout: Processed 35595 (100.0%) in 57.38 sec. Users per second: 620\n"
     ]
    },
    {
     "name": "stderr",
     "output_type": "stream",
     "text": [
      "[I 2024-12-16 00:14:12,792] Trial 178 finished with value: 0.03854816420176569 and parameters: {'similarity': 'tversky', 'topK': 737, 'shrink': 245, 'feature_weighting': 'BM25', 'tversky_alpha': 0.4644611635608089, 'tversky_beta': 0.5245506283860947}. Best is trial 134 with value: 0.04207710530950998.\n"
     ]
    },
    {
     "name": "stdout",
     "output_type": "stream",
     "text": [
      "Similarity column 35736 (100.0%), 2983.14 column/sec. Elapsed time 11.98 sec\n",
      "EvaluatorHoldout: Processed 35595 (100.0%) in 59.26 sec. Users per second: 601\n"
     ]
    },
    {
     "name": "stderr",
     "output_type": "stream",
     "text": [
      "[I 2024-12-16 00:15:25,491] Trial 179 finished with value: 0.04208528819590605 and parameters: {'similarity': 'asymmetric', 'topK': 750, 'shrink': 216, 'feature_weighting': 'BM25', 'asymmetric_alpha': 0.693259388857252}. Best is trial 179 with value: 0.04208528819590605.\n"
     ]
    },
    {
     "name": "stdout",
     "output_type": "stream",
     "text": [
      "Similarity column 35736 (100.0%), 323.66 column/sec. Elapsed time 1.84 min\n",
      "EvaluatorHoldout: Processed 35595 (100.0%) in 32.67 sec. Users per second: 1089\n"
     ]
    },
    {
     "name": "stderr",
     "output_type": "stream",
     "text": [
      "[I 2024-12-16 00:17:49,611] Trial 180 finished with value: 0.003625169176159466 and parameters: {'similarity': 'euclidean', 'topK': 717, 'shrink': 207, 'feature_weighting': 'BM25', 'normalize_avg_row': False, 'similarity_from_distance_mode': 'lin', 'normalize': False}. Best is trial 179 with value: 0.04208528819590605.\n"
     ]
    },
    {
     "name": "stdout",
     "output_type": "stream",
     "text": [
      "Similarity column 35736 (100.0%), 2860.35 column/sec. Elapsed time 12.49 sec\n",
      "EvaluatorHoldout: Processed 35595 (100.0%) in 58.93 sec. Users per second: 604\n"
     ]
    },
    {
     "name": "stderr",
     "output_type": "stream",
     "text": [
      "[I 2024-12-16 00:19:02,519] Trial 181 finished with value: 0.0420866404903472 and parameters: {'similarity': 'asymmetric', 'topK': 750, 'shrink': 215, 'feature_weighting': 'BM25', 'asymmetric_alpha': 0.6962184850057325}. Best is trial 181 with value: 0.0420866404903472.\n"
     ]
    },
    {
     "name": "stdout",
     "output_type": "stream",
     "text": [
      "Similarity column 35736 (100.0%), 2988.97 column/sec. Elapsed time 11.96 sec\n",
      "EvaluatorHoldout: Processed 35595 (100.0%) in 58.96 sec. Users per second: 604\n"
     ]
    },
    {
     "name": "stderr",
     "output_type": "stream",
     "text": [
      "[I 2024-12-16 00:20:14,874] Trial 182 finished with value: 0.04207809639752158 and parameters: {'similarity': 'asymmetric', 'topK': 750, 'shrink': 222, 'feature_weighting': 'BM25', 'asymmetric_alpha': 0.7035760338711068}. Best is trial 181 with value: 0.0420866404903472.\n"
     ]
    },
    {
     "name": "stdout",
     "output_type": "stream",
     "text": [
      "Similarity column 35736 (100.0%), 2875.36 column/sec. Elapsed time 12.43 sec\n",
      "EvaluatorHoldout: Processed 35595 (100.0%) in 59.59 sec. Users per second: 597\n"
     ]
    },
    {
     "name": "stderr",
     "output_type": "stream",
     "text": [
      "[I 2024-12-16 00:21:28,380] Trial 183 finished with value: 0.0420365710361481 and parameters: {'similarity': 'asymmetric', 'topK': 740, 'shrink': 230, 'feature_weighting': 'BM25', 'asymmetric_alpha': 0.6888528179703559}. Best is trial 181 with value: 0.0420866404903472.\n"
     ]
    },
    {
     "name": "stdout",
     "output_type": "stream",
     "text": [
      "Similarity column 35736 (100.0%), 2833.03 column/sec. Elapsed time 12.61 sec\n",
      "EvaluatorHoldout: Processed 35595 (100.0%) in 59.38 sec. Users per second: 599\n"
     ]
    },
    {
     "name": "stderr",
     "output_type": "stream",
     "text": [
      "[I 2024-12-16 00:22:41,825] Trial 184 finished with value: 0.04208557916775199 and parameters: {'similarity': 'asymmetric', 'topK': 749, 'shrink': 228, 'feature_weighting': 'BM25', 'asymmetric_alpha': 0.6883295572014032}. Best is trial 181 with value: 0.0420866404903472.\n"
     ]
    },
    {
     "name": "stdout",
     "output_type": "stream",
     "text": [
      "Similarity column 35736 (100.0%), 2963.19 column/sec. Elapsed time 12.06 sec\n",
      "EvaluatorHoldout: Processed 35595 (100.0%) in 59.23 sec. Users per second: 601\n"
     ]
    },
    {
     "name": "stderr",
     "output_type": "stream",
     "text": [
      "[I 2024-12-16 00:23:54,601] Trial 185 finished with value: 0.042076688361347495 and parameters: {'similarity': 'asymmetric', 'topK': 748, 'shrink': 228, 'feature_weighting': 'BM25', 'asymmetric_alpha': 0.6885103172404266}. Best is trial 181 with value: 0.0420866404903472.\n"
     ]
    },
    {
     "name": "stdout",
     "output_type": "stream",
     "text": [
      "Similarity column 35736 (100.0%), 2956.20 column/sec. Elapsed time 12.09 sec\n",
      "EvaluatorHoldout: Processed 35595 (100.0%) in 59.19 sec. Users per second: 601\n"
     ]
    },
    {
     "name": "stderr",
     "output_type": "stream",
     "text": [
      "[I 2024-12-16 00:25:07,333] Trial 186 finished with value: 0.04206508962155662 and parameters: {'similarity': 'asymmetric', 'topK': 748, 'shrink': 233, 'feature_weighting': 'BM25', 'asymmetric_alpha': 0.687531171518333}. Best is trial 181 with value: 0.0420866404903472.\n"
     ]
    },
    {
     "name": "stdout",
     "output_type": "stream",
     "text": [
      "Similarity column 35736 (100.0%), 2948.03 column/sec. Elapsed time 12.12 sec\n",
      "EvaluatorHoldout: Processed 35595 (100.0%) in 59.37 sec. Users per second: 600\n"
     ]
    },
    {
     "name": "stderr",
     "output_type": "stream",
     "text": [
      "[I 2024-12-16 00:26:20,286] Trial 187 finished with value: 0.042007927589257706 and parameters: {'similarity': 'asymmetric', 'topK': 750, 'shrink': 285, 'feature_weighting': 'BM25', 'asymmetric_alpha': 0.6756684027163672}. Best is trial 181 with value: 0.0420866404903472.\n"
     ]
    },
    {
     "name": "stdout",
     "output_type": "stream",
     "text": [
      "Similarity column 35736 (100.0%), 2881.85 column/sec. Elapsed time 12.40 sec\n",
      "EvaluatorHoldout: Processed 35595 (100.0%) in 59.18 sec. Users per second: 601\n"
     ]
    },
    {
     "name": "stderr",
     "output_type": "stream",
     "text": [
      "[I 2024-12-16 00:27:33,319] Trial 188 finished with value: 0.042028538652430864 and parameters: {'similarity': 'asymmetric', 'topK': 749, 'shrink': 245, 'feature_weighting': 'BM25', 'asymmetric_alpha': 0.6813407085617783}. Best is trial 181 with value: 0.0420866404903472.\n"
     ]
    },
    {
     "name": "stdout",
     "output_type": "stream",
     "text": [
      "Similarity column 35736 (100.0%), 2867.70 column/sec. Elapsed time 12.46 sec\n",
      "EvaluatorHoldout: Processed 35595 (100.0%) in 59.35 sec. Users per second: 600\n"
     ]
    },
    {
     "name": "stderr",
     "output_type": "stream",
     "text": [
      "[I 2024-12-16 00:28:46,598] Trial 189 finished with value: 0.042046231078467174 and parameters: {'similarity': 'asymmetric', 'topK': 750, 'shrink': 211, 'feature_weighting': 'BM25', 'asymmetric_alpha': 0.6788371716607537}. Best is trial 181 with value: 0.0420866404903472.\n"
     ]
    },
    {
     "name": "stdout",
     "output_type": "stream",
     "text": [
      "Similarity column 35736 (100.0%), 2860.90 column/sec. Elapsed time 12.49 sec\n",
      "EvaluatorHoldout: Processed 35595 (100.0%) in 59.21 sec. Users per second: 601\n"
     ]
    },
    {
     "name": "stderr",
     "output_type": "stream",
     "text": [
      "[I 2024-12-16 00:29:59,772] Trial 190 finished with value: 0.04207366492975273 and parameters: {'similarity': 'asymmetric', 'topK': 749, 'shrink': 200, 'feature_weighting': 'BM25', 'asymmetric_alpha': 0.6665145709300317}. Best is trial 181 with value: 0.0420866404903472.\n"
     ]
    },
    {
     "name": "stdout",
     "output_type": "stream",
     "text": [
      "Similarity column 35736 (100.0%), 2893.18 column/sec. Elapsed time 12.35 sec\n",
      "EvaluatorHoldout: Processed 35595 (100.0%) in 59.55 sec. Users per second: 598\n"
     ]
    },
    {
     "name": "stderr",
     "output_type": "stream",
     "text": [
      "[I 2024-12-16 00:31:13,129] Trial 191 finished with value: 0.042030941121120706 and parameters: {'similarity': 'asymmetric', 'topK': 748, 'shrink': 214, 'feature_weighting': 'BM25', 'asymmetric_alpha': 0.672739431232553}. Best is trial 181 with value: 0.0420866404903472.\n"
     ]
    },
    {
     "name": "stdout",
     "output_type": "stream",
     "text": [
      "Similarity column 35736 (100.0%), 2931.49 column/sec. Elapsed time 12.19 sec\n",
      "EvaluatorHoldout: Processed 35595 (100.0%) in 59.68 sec. Users per second: 596\n"
     ]
    },
    {
     "name": "stderr",
     "output_type": "stream",
     "text": [
      "[I 2024-12-16 00:32:26,465] Trial 192 finished with value: 0.04204430687384594 and parameters: {'similarity': 'asymmetric', 'topK': 747, 'shrink': 214, 'feature_weighting': 'BM25', 'asymmetric_alpha': 0.6767092556237799}. Best is trial 181 with value: 0.0420866404903472.\n"
     ]
    },
    {
     "name": "stdout",
     "output_type": "stream",
     "text": [
      "Similarity column 35736 (100.0%), 2952.80 column/sec. Elapsed time 12.10 sec\n",
      "EvaluatorHoldout: Processed 35595 (100.0%) in 59.14 sec. Users per second: 602\n"
     ]
    },
    {
     "name": "stderr",
     "output_type": "stream",
     "text": [
      "[I 2024-12-16 00:33:39,195] Trial 193 finished with value: 0.04203803369922049 and parameters: {'similarity': 'asymmetric', 'topK': 748, 'shrink': 205, 'feature_weighting': 'BM25', 'asymmetric_alpha': 0.6761000070078479}. Best is trial 181 with value: 0.0420866404903472.\n"
     ]
    },
    {
     "name": "stdout",
     "output_type": "stream",
     "text": [
      "Similarity column 35736 (100.0%), 2951.96 column/sec. Elapsed time 12.11 sec\n",
      "EvaluatorHoldout: Processed 35595 (100.0%) in 59.95 sec. Users per second: 594\n"
     ]
    },
    {
     "name": "stderr",
     "output_type": "stream",
     "text": [
      "[I 2024-12-16 00:34:52,649] Trial 194 finished with value: 0.04206293464616103 and parameters: {'similarity': 'asymmetric', 'topK': 750, 'shrink': 204, 'feature_weighting': 'BM25', 'asymmetric_alpha': 0.6793281882962036}. Best is trial 181 with value: 0.0420866404903472.\n"
     ]
    },
    {
     "name": "stdout",
     "output_type": "stream",
     "text": [
      "Similarity column 35736 (100.0%), 2967.67 column/sec. Elapsed time 12.04 sec\n",
      "EvaluatorHoldout: Processed 35595 (100.0%) in 59.30 sec. Users per second: 600\n"
     ]
    },
    {
     "name": "stderr",
     "output_type": "stream",
     "text": [
      "[I 2024-12-16 00:36:05,447] Trial 195 finished with value: 0.04205196467311778 and parameters: {'similarity': 'asymmetric', 'topK': 750, 'shrink': 204, 'feature_weighting': 'BM25', 'asymmetric_alpha': 0.6745164555336892}. Best is trial 181 with value: 0.0420866404903472.\n"
     ]
    },
    {
     "name": "stdout",
     "output_type": "stream",
     "text": [
      "Similarity column 35736 (100.0%), 2953.57 column/sec. Elapsed time 12.10 sec\n",
      "EvaluatorHoldout: Processed 35595 (100.0%) in 59.84 sec. Users per second: 595\n"
     ]
    },
    {
     "name": "stderr",
     "output_type": "stream",
     "text": [
      "[I 2024-12-16 00:37:18,880] Trial 196 finished with value: 0.042045817474808775 and parameters: {'similarity': 'asymmetric', 'topK': 749, 'shrink': 199, 'feature_weighting': 'BM25', 'asymmetric_alpha': 0.6614768255043103}. Best is trial 181 with value: 0.0420866404903472.\n"
     ]
    },
    {
     "name": "stdout",
     "output_type": "stream",
     "text": [
      "Similarity column 35736 (100.0%), 2913.14 column/sec. Elapsed time 12.27 sec\n",
      "EvaluatorHoldout: Processed 35595 (100.0%) in 59.31 sec. Users per second: 600\n"
     ]
    },
    {
     "name": "stderr",
     "output_type": "stream",
     "text": [
      "[I 2024-12-16 00:38:32,130] Trial 197 finished with value: 0.03946070430794266 and parameters: {'similarity': 'jaccard', 'topK': 748, 'shrink': 207, 'feature_weighting': 'BM25'}. Best is trial 181 with value: 0.0420866404903472.\n"
     ]
    },
    {
     "name": "stdout",
     "output_type": "stream",
     "text": [
      "Similarity column 35736 (100.0%), 2873.01 column/sec. Elapsed time 12.44 sec\n",
      "EvaluatorHoldout: Processed 35595 (100.0%) in 59.82 sec. Users per second: 595\n"
     ]
    },
    {
     "name": "stderr",
     "output_type": "stream",
     "text": [
      "[I 2024-12-16 00:39:45,853] Trial 198 finished with value: 0.042070785311828854 and parameters: {'similarity': 'asymmetric', 'topK': 748, 'shrink': 202, 'feature_weighting': 'BM25', 'asymmetric_alpha': 0.6518737728187376}. Best is trial 181 with value: 0.0420866404903472.\n"
     ]
    },
    {
     "name": "stdout",
     "output_type": "stream",
     "text": [
      "Similarity column 35736 (100.0%), 2872.30 column/sec. Elapsed time 12.44 sec\n",
      "EvaluatorHoldout: Processed 35595 (100.0%) in 58.90 sec. Users per second: 604\n"
     ]
    },
    {
     "name": "stderr",
     "output_type": "stream",
     "text": [
      "[I 2024-12-16 00:40:58,627] Trial 199 finished with value: 0.03455507617665103 and parameters: {'similarity': 'asymmetric', 'topK': 711, 'shrink': 196, 'feature_weighting': 'TF-IDF', 'asymmetric_alpha': 0.6429490557677153}. Best is trial 181 with value: 0.0420866404903472.\n"
     ]
    },
    {
     "name": "stdout",
     "output_type": "stream",
     "text": [
      "Similarity column 35736 (100.0%), 2871.34 column/sec. Elapsed time 12.45 sec\n",
      "EvaluatorHoldout: Processed 35595 (100.0%) in 58.85 sec. Users per second: 605\n"
     ]
    },
    {
     "name": "stderr",
     "output_type": "stream",
     "text": [
      "[I 2024-12-16 00:42:11,326] Trial 200 finished with value: 0.041809925149999524 and parameters: {'similarity': 'asymmetric', 'topK': 714, 'shrink': 278, 'feature_weighting': 'BM25', 'asymmetric_alpha': 0.8320406121042128}. Best is trial 181 with value: 0.0420866404903472.\n"
     ]
    },
    {
     "name": "stdout",
     "output_type": "stream",
     "text": [
      "Similarity column 35736 (100.0%), 2942.51 column/sec. Elapsed time 12.14 sec\n",
      "EvaluatorHoldout: Processed 35595 (100.0%) in 59.76 sec. Users per second: 596\n"
     ]
    },
    {
     "name": "stderr",
     "output_type": "stream",
     "text": [
      "[I 2024-12-16 00:43:24,723] Trial 201 finished with value: 0.042064271332917076 and parameters: {'similarity': 'asymmetric', 'topK': 747, 'shrink': 196, 'feature_weighting': 'BM25', 'asymmetric_alpha': 0.6483312113694707}. Best is trial 181 with value: 0.0420866404903472.\n"
     ]
    },
    {
     "name": "stdout",
     "output_type": "stream",
     "text": [
      "Similarity column 35736 (100.0%), 2926.57 column/sec. Elapsed time 12.21 sec\n",
      "EvaluatorHoldout: Processed 35595 (100.0%) in 59.34 sec. Users per second: 600\n"
     ]
    },
    {
     "name": "stderr",
     "output_type": "stream",
     "text": [
      "[I 2024-12-16 00:44:37,734] Trial 202 finished with value: 0.04207750664998715 and parameters: {'similarity': 'asymmetric', 'topK': 747, 'shrink': 199, 'feature_weighting': 'BM25', 'asymmetric_alpha': 0.6540065724398768}. Best is trial 181 with value: 0.0420866404903472.\n"
     ]
    },
    {
     "name": "stdout",
     "output_type": "stream",
     "text": [
      "Similarity column 35736 (100.0%), 2935.64 column/sec. Elapsed time 12.17 sec\n",
      "EvaluatorHoldout: Processed 35595 (100.0%) in 59.50 sec. Users per second: 598\n"
     ]
    },
    {
     "name": "stderr",
     "output_type": "stream",
     "text": [
      "[I 2024-12-16 00:45:50,859] Trial 203 finished with value: 0.04206673846201716 and parameters: {'similarity': 'asymmetric', 'topK': 749, 'shrink': 191, 'feature_weighting': 'BM25', 'asymmetric_alpha': 0.6608418992807635}. Best is trial 181 with value: 0.0420866404903472.\n"
     ]
    },
    {
     "name": "stdout",
     "output_type": "stream",
     "text": [
      "Similarity column 35736 (100.0%), 2942.65 column/sec. Elapsed time 12.14 sec\n",
      "EvaluatorHoldout: Processed 35595 (100.0%) in 59.42 sec. Users per second: 599\n"
     ]
    },
    {
     "name": "stderr",
     "output_type": "stream",
     "text": [
      "[I 2024-12-16 00:47:03,892] Trial 204 finished with value: 0.04206501827213842 and parameters: {'similarity': 'asymmetric', 'topK': 743, 'shrink': 194, 'feature_weighting': 'BM25', 'asymmetric_alpha': 0.654665541759991}. Best is trial 181 with value: 0.0420866404903472.\n"
     ]
    },
    {
     "name": "stdout",
     "output_type": "stream",
     "text": [
      "Similarity column 35736 (100.0%), 2961.96 column/sec. Elapsed time 12.06 sec\n",
      "EvaluatorHoldout: Processed 35595 (100.0%) in 1.01 min. Users per second: 589\n"
     ]
    },
    {
     "name": "stderr",
     "output_type": "stream",
     "text": [
      "[I 2024-12-16 00:48:17,864] Trial 205 finished with value: 0.041942552570026895 and parameters: {'similarity': 'asymmetric', 'topK': 750, 'shrink': 160, 'feature_weighting': 'BM25', 'asymmetric_alpha': 0.5483440912813007}. Best is trial 181 with value: 0.0420866404903472.\n"
     ]
    },
    {
     "name": "stdout",
     "output_type": "stream",
     "text": [
      "Similarity column 35736 (100.0%), 3031.15 column/sec. Elapsed time 11.79 sec\n",
      "EvaluatorHoldout: Processed 35595 (100.0%) in 47.53 sec. Users per second: 749\n"
     ]
    },
    {
     "name": "stderr",
     "output_type": "stream",
     "text": [
      "[I 2024-12-16 00:49:18,052] Trial 206 finished with value: 0.03936424992809172 and parameters: {'similarity': 'asymmetric', 'topK': 307, 'shrink': 262, 'feature_weighting': 'BM25', 'asymmetric_alpha': 0.6347830883842798}. Best is trial 181 with value: 0.0420866404903472.\n"
     ]
    },
    {
     "name": "stdout",
     "output_type": "stream",
     "text": [
      "Similarity column 35736 (100.0%), 2989.83 column/sec. Elapsed time 11.95 sec\n",
      "EvaluatorHoldout: Processed 35595 (100.0%) in 57.01 sec. Users per second: 624\n"
     ]
    },
    {
     "name": "stderr",
     "output_type": "stream",
     "text": [
      "[I 2024-12-16 00:50:28,396] Trial 207 finished with value: 0.040208486344389054 and parameters: {'similarity': 'asymmetric', 'topK': 750, 'shrink': 191, 'feature_weighting': 'BM25', 'asymmetric_alpha': 1.3980130894570353}. Best is trial 181 with value: 0.0420866404903472.\n"
     ]
    },
    {
     "name": "stdout",
     "output_type": "stream",
     "text": [
      "Similarity column 35736 (100.0%), 2934.06 column/sec. Elapsed time 12.18 sec\n",
      "EvaluatorHoldout: Processed 35595 (100.0%) in 58.61 sec. Users per second: 607\n"
     ]
    },
    {
     "name": "stderr",
     "output_type": "stream",
     "text": [
      "[I 2024-12-16 00:51:40,578] Trial 208 finished with value: 0.04194855595466478 and parameters: {'similarity': 'asymmetric', 'topK': 715, 'shrink': 238, 'feature_weighting': 'BM25', 'asymmetric_alpha': 0.6542671094230894}. Best is trial 181 with value: 0.0420866404903472.\n"
     ]
    },
    {
     "name": "stdout",
     "output_type": "stream",
     "text": [
      "Similarity column 35736 (100.0%), 2887.23 column/sec. Elapsed time 12.38 sec\n",
      "EvaluatorHoldout: Processed 35595 (100.0%) in 57.66 sec. Users per second: 617\n"
     ]
    },
    {
     "name": "stderr",
     "output_type": "stream",
     "text": [
      "[I 2024-12-16 00:52:51,900] Trial 209 finished with value: 0.03367279045344677 and parameters: {'similarity': 'asymmetric', 'topK': 736, 'shrink': 163, 'feature_weighting': 'none', 'asymmetric_alpha': 0.823456459706035}. Best is trial 181 with value: 0.0420866404903472.\n"
     ]
    },
    {
     "name": "stdout",
     "output_type": "stream",
     "text": [
      "Similarity column 35736 (100.0%), 2941.29 column/sec. Elapsed time 12.15 sec\n",
      "EvaluatorHoldout: Processed 35595 (100.0%) in 59.17 sec. Users per second: 602\n"
     ]
    },
    {
     "name": "stderr",
     "output_type": "stream",
     "text": [
      "[I 2024-12-16 00:54:04,776] Trial 210 finished with value: 0.04208858030265364 and parameters: {'similarity': 'asymmetric', 'topK': 750, 'shrink': 190, 'feature_weighting': 'BM25', 'asymmetric_alpha': 0.6872463863434256}. Best is trial 210 with value: 0.04208858030265364.\n"
     ]
    },
    {
     "name": "stdout",
     "output_type": "stream",
     "text": [
      "Similarity column 35736 (100.0%), 2969.25 column/sec. Elapsed time 12.04 sec\n",
      "EvaluatorHoldout: Processed 35595 (100.0%) in 58.96 sec. Users per second: 604\n"
     ]
    },
    {
     "name": "stderr",
     "output_type": "stream",
     "text": [
      "[I 2024-12-16 00:55:17,203] Trial 211 finished with value: 0.04209596719710334 and parameters: {'similarity': 'asymmetric', 'topK': 750, 'shrink': 195, 'feature_weighting': 'BM25', 'asymmetric_alpha': 0.6885784484537085}. Best is trial 211 with value: 0.04209596719710334.\n"
     ]
    },
    {
     "name": "stdout",
     "output_type": "stream",
     "text": [
      "Similarity column 35736 (100.0%), 2951.78 column/sec. Elapsed time 12.11 sec\n",
      "EvaluatorHoldout: Processed 35595 (100.0%) in 59.05 sec. Users per second: 603\n"
     ]
    },
    {
     "name": "stderr",
     "output_type": "stream",
     "text": [
      "[I 2024-12-16 00:56:29,773] Trial 212 finished with value: 0.042043332508354195 and parameters: {'similarity': 'asymmetric', 'topK': 737, 'shrink': 189, 'feature_weighting': 'BM25', 'asymmetric_alpha': 0.6344974125980145}. Best is trial 211 with value: 0.04209596719710334.\n"
     ]
    },
    {
     "name": "stdout",
     "output_type": "stream",
     "text": [
      "Similarity column 35736 (100.0%), 2954.45 column/sec. Elapsed time 12.10 sec\n",
      "EvaluatorHoldout: Processed 35595 (100.0%) in 58.32 sec. Users per second: 610\n"
     ]
    },
    {
     "name": "stderr",
     "output_type": "stream",
     "text": [
      "[I 2024-12-16 00:57:41,614] Trial 213 finished with value: 0.04200219733911098 and parameters: {'similarity': 'asymmetric', 'topK': 717, 'shrink': 232, 'feature_weighting': 'BM25', 'asymmetric_alpha': 0.6980469611103528}. Best is trial 211 with value: 0.04209596719710334.\n"
     ]
    },
    {
     "name": "stdout",
     "output_type": "stream",
     "text": [
      "Similarity column 35736 (100.0%), 3076.59 column/sec. Elapsed time 11.62 sec\n",
      "EvaluatorHoldout: Processed 35595 (100.0%) in 45.53 sec. Users per second: 782\n"
     ]
    },
    {
     "name": "stderr",
     "output_type": "stream",
     "text": [
      "[I 2024-12-16 00:58:39,508] Trial 214 finished with value: 0.03841783891530915 and parameters: {'similarity': 'asymmetric', 'topK': 243, 'shrink': 182, 'feature_weighting': 'BM25', 'asymmetric_alpha': 0.6492915534544086}. Best is trial 211 with value: 0.04209596719710334.\n"
     ]
    },
    {
     "name": "stdout",
     "output_type": "stream",
     "text": [
      "Similarity column 35736 (100.0%), 2962.18 column/sec. Elapsed time 12.06 sec\n",
      "EvaluatorHoldout: Processed 35595 (100.0%) in 59.56 sec. Users per second: 598\n"
     ]
    },
    {
     "name": "stderr",
     "output_type": "stream",
     "text": [
      "[I 2024-12-16 00:59:52,546] Trial 215 finished with value: 0.04191782665212779 and parameters: {'similarity': 'asymmetric', 'topK': 738, 'shrink': 197, 'feature_weighting': 'BM25', 'asymmetric_alpha': 0.5550527893346926}. Best is trial 211 with value: 0.04209596719710334.\n"
     ]
    },
    {
     "name": "stdout",
     "output_type": "stream",
     "text": [
      "Similarity column 35736 (100.0%), 3040.04 column/sec. Elapsed time 11.76 sec\n",
      "EvaluatorHoldout: Processed 35595 (100.0%) in 57.69 sec. Users per second: 617\n"
     ]
    },
    {
     "name": "stderr",
     "output_type": "stream",
     "text": [
      "[I 2024-12-16 01:01:03,623] Trial 216 finished with value: 0.03934110930507737 and parameters: {'similarity': 'dice', 'topK': 715, 'shrink': 219, 'feature_weighting': 'BM25'}. Best is trial 211 with value: 0.04209596719710334.\n"
     ]
    },
    {
     "name": "stdout",
     "output_type": "stream",
     "text": [
      "Similarity column 35736 (100.0%), 2939.42 column/sec. Elapsed time 12.16 sec\n",
      "EvaluatorHoldout: Processed 35595 (100.0%) in 58.91 sec. Users per second: 604\n"
     ]
    },
    {
     "name": "stderr",
     "output_type": "stream",
     "text": [
      "[I 2024-12-16 01:02:16,120] Trial 217 finished with value: 0.04207959696497248 and parameters: {'similarity': 'asymmetric', 'topK': 749, 'shrink': 259, 'feature_weighting': 'BM25', 'asymmetric_alpha': 0.7605009889611821}. Best is trial 211 with value: 0.04209596719710334.\n"
     ]
    },
    {
     "name": "stdout",
     "output_type": "stream",
     "text": [
      "Similarity column 35736 (100.0%), 2967.89 column/sec. Elapsed time 12.04 sec\n",
      "EvaluatorHoldout: Processed 35595 (100.0%) in 58.45 sec. Users per second: 609\n"
     ]
    },
    {
     "name": "stderr",
     "output_type": "stream",
     "text": [
      "[I 2024-12-16 01:03:28,032] Trial 218 finished with value: 0.04209729496518213 and parameters: {'similarity': 'asymmetric', 'topK': 749, 'shrink': 253, 'feature_weighting': 'BM25', 'asymmetric_alpha': 0.7693791102170373}. Best is trial 218 with value: 0.04209729496518213.\n"
     ]
    },
    {
     "name": "stdout",
     "output_type": "stream",
     "text": [
      "Similarity column 35736 (100.0%), 2751.10 column/sec. Elapsed time 12.99 sec\n",
      "EvaluatorHoldout: Processed 35595 (100.0%) in 57.98 sec. Users per second: 614\n"
     ]
    },
    {
     "name": "stderr",
     "output_type": "stream",
     "text": [
      "[I 2024-12-16 01:04:40,609] Trial 219 finished with value: 0.039375620126777505 and parameters: {'similarity': 'tversky', 'topK': 721, 'shrink': 295, 'feature_weighting': 'BM25', 'tversky_alpha': 1.515951753524085, 'tversky_beta': 1.467132654238107}. Best is trial 218 with value: 0.04209729496518213.\n"
     ]
    },
    {
     "name": "stdout",
     "output_type": "stream",
     "text": [
      "Similarity column 35736 (100.0%), 2854.69 column/sec. Elapsed time 12.52 sec\n",
      "EvaluatorHoldout: Processed 35595 (100.0%) in 59.23 sec. Users per second: 601\n"
     ]
    },
    {
     "name": "stderr",
     "output_type": "stream",
     "text": [
      "[I 2024-12-16 01:05:53,810] Trial 220 finished with value: 0.04199997324396669 and parameters: {'similarity': 'asymmetric', 'topK': 750, 'shrink': 271, 'feature_weighting': 'BM25', 'asymmetric_alpha': 0.8005330835187708}. Best is trial 218 with value: 0.04209729496518213.\n"
     ]
    },
    {
     "name": "stdout",
     "output_type": "stream",
     "text": [
      "Similarity column 35736 (100.0%), 2788.65 column/sec. Elapsed time 12.81 sec\n",
      "EvaluatorHoldout: Processed 35595 (100.0%) in 59.34 sec. Users per second: 600\n"
     ]
    },
    {
     "name": "stderr",
     "output_type": "stream",
     "text": [
      "[I 2024-12-16 01:07:07,431] Trial 221 finished with value: 0.04201757982773419 and parameters: {'similarity': 'asymmetric', 'topK': 737, 'shrink': 250, 'feature_weighting': 'BM25', 'asymmetric_alpha': 0.7612796000895135}. Best is trial 218 with value: 0.04209729496518213.\n"
     ]
    },
    {
     "name": "stdout",
     "output_type": "stream",
     "text": [
      "Similarity column 35736 (100.0%), 2970.74 column/sec. Elapsed time 12.03 sec\n",
      "EvaluatorHoldout: Processed 35595 (100.0%) in 59.44 sec. Users per second: 599\n"
     ]
    },
    {
     "name": "stderr",
     "output_type": "stream",
     "text": [
      "[I 2024-12-16 01:08:20,388] Trial 222 finished with value: 0.042059726152012776 and parameters: {'similarity': 'asymmetric', 'topK': 748, 'shrink': 241, 'feature_weighting': 'BM25', 'asymmetric_alpha': 0.6945803487874508}. Best is trial 218 with value: 0.04209729496518213.\n"
     ]
    },
    {
     "name": "stdout",
     "output_type": "stream",
     "text": [
      "Similarity column 35736 (100.0%), 2885.08 column/sec. Elapsed time 12.39 sec\n",
      "EvaluatorHoldout: Processed 35595 (100.0%) in 58.46 sec. Users per second: 609\n"
     ]
    },
    {
     "name": "stderr",
     "output_type": "stream",
     "text": [
      "[I 2024-12-16 01:09:32,661] Trial 223 finished with value: 0.042009354577621 and parameters: {'similarity': 'asymmetric', 'topK': 736, 'shrink': 252, 'feature_weighting': 'BM25', 'asymmetric_alpha': 0.7587073480459157}. Best is trial 218 with value: 0.04209729496518213.\n"
     ]
    },
    {
     "name": "stdout",
     "output_type": "stream",
     "text": [
      "Similarity column 35736 (100.0%), 2859.05 column/sec. Elapsed time 12.50 sec\n",
      "EvaluatorHoldout: Processed 35595 (100.0%) in 59.50 sec. Users per second: 598\n"
     ]
    },
    {
     "name": "stderr",
     "output_type": "stream",
     "text": [
      "[I 2024-12-16 01:10:46,042] Trial 224 finished with value: 0.041971225002618184 and parameters: {'similarity': 'asymmetric', 'topK': 722, 'shrink': 234, 'feature_weighting': 'BM25', 'asymmetric_alpha': 0.6977010000519498}. Best is trial 218 with value: 0.04209729496518213.\n"
     ]
    },
    {
     "name": "stdout",
     "output_type": "stream",
     "text": [
      "Similarity column 35736 (100.0%), 2934.95 column/sec. Elapsed time 12.18 sec\n",
      "EvaluatorHoldout: Processed 35595 (100.0%) in 1.01 min. Users per second: 589\n"
     ]
    },
    {
     "name": "stderr",
     "output_type": "stream",
     "text": [
      "[I 2024-12-16 01:12:00,145] Trial 225 finished with value: 0.04198847929863374 and parameters: {'similarity': 'asymmetric', 'topK': 750, 'shrink': 272, 'feature_weighting': 'BM25', 'asymmetric_alpha': 0.6151814761830363}. Best is trial 218 with value: 0.04209729496518213.\n"
     ]
    },
    {
     "name": "stdout",
     "output_type": "stream",
     "text": [
      "Similarity column 35736 (100.0%), 2917.96 column/sec. Elapsed time 12.25 sec\n",
      "EvaluatorHoldout: Processed 35595 (100.0%) in 59.82 sec. Users per second: 595\n"
     ]
    },
    {
     "name": "stderr",
     "output_type": "stream",
     "text": [
      "[I 2024-12-16 01:13:13,759] Trial 226 finished with value: 0.04213470993116841 and parameters: {'similarity': 'asymmetric', 'topK': 750, 'shrink': 171, 'feature_weighting': 'BM25', 'asymmetric_alpha': 0.6972116679069805}. Best is trial 226 with value: 0.04213470993116841.\n"
     ]
    },
    {
     "name": "stdout",
     "output_type": "stream",
     "text": [
      "Similarity column 35736 (100.0%), 304.00 column/sec. Elapsed time 1.96 min\n",
      "EvaluatorHoldout: Processed 35595 (100.0%) in 1.01 min. Users per second: 586\n"
     ]
    },
    {
     "name": "stderr",
     "output_type": "stream",
     "text": [
      "[I 2024-12-16 01:16:13,399] Trial 227 finished with value: 0.03110843662276363 and parameters: {'similarity': 'euclidean', 'topK': 733, 'shrink': 163, 'feature_weighting': 'BM25', 'normalize_avg_row': True, 'similarity_from_distance_mode': 'lin', 'normalize': True}. Best is trial 226 with value: 0.04213470993116841.\n"
     ]
    },
    {
     "name": "stdout",
     "output_type": "stream",
     "text": [
      "Similarity column 35736 (100.0%), 2934.28 column/sec. Elapsed time 12.18 sec\n",
      "EvaluatorHoldout: Processed 35595 (100.0%) in 59.92 sec. Users per second: 594\n"
     ]
    },
    {
     "name": "stderr",
     "output_type": "stream",
     "text": [
      "[I 2024-12-16 01:17:26,991] Trial 228 finished with value: 0.042099782161306144 and parameters: {'similarity': 'asymmetric', 'topK': 750, 'shrink': 178, 'feature_weighting': 'BM25', 'asymmetric_alpha': 0.6350767063248701}. Best is trial 226 with value: 0.04213470993116841.\n"
     ]
    },
    {
     "name": "stdout",
     "output_type": "stream",
     "text": [
      "Similarity column 35736 (100.0%), 2937.56 column/sec. Elapsed time 12.17 sec\n",
      "EvaluatorHoldout: Processed 35595 (100.0%) in 59.76 sec. Users per second: 596\n"
     ]
    },
    {
     "name": "stderr",
     "output_type": "stream",
     "text": [
      "[I 2024-12-16 01:18:40,382] Trial 229 finished with value: 0.042081143240644416 and parameters: {'similarity': 'asymmetric', 'topK': 750, 'shrink': 179, 'feature_weighting': 'BM25', 'asymmetric_alpha': 0.621333200864526}. Best is trial 226 with value: 0.04213470993116841.\n"
     ]
    },
    {
     "name": "stdout",
     "output_type": "stream",
     "text": [
      "Similarity column 35736 (100.0%), 2966.83 column/sec. Elapsed time 12.05 sec\n",
      "EvaluatorHoldout: Processed 35595 (100.0%) in 59.69 sec. Users per second: 596\n"
     ]
    },
    {
     "name": "stderr",
     "output_type": "stream",
     "text": [
      "[I 2024-12-16 01:19:53,559] Trial 230 finished with value: 0.041976466955184345 and parameters: {'similarity': 'asymmetric', 'topK': 750, 'shrink': 171, 'feature_weighting': 'BM25', 'asymmetric_alpha': 0.5598777817099081}. Best is trial 226 with value: 0.04213470993116841.\n"
     ]
    },
    {
     "name": "stdout",
     "output_type": "stream",
     "text": [
      "Similarity column 35736 (100.0%), 2936.94 column/sec. Elapsed time 12.17 sec\n",
      "EvaluatorHoldout: Processed 35595 (100.0%) in 59.64 sec. Users per second: 597\n"
     ]
    },
    {
     "name": "stderr",
     "output_type": "stream",
     "text": [
      "[I 2024-12-16 01:21:06,847] Trial 231 finished with value: 0.04209703855321064 and parameters: {'similarity': 'asymmetric', 'topK': 750, 'shrink': 185, 'feature_weighting': 'BM25', 'asymmetric_alpha': 0.6451281983974952}. Best is trial 226 with value: 0.04213470993116841.\n"
     ]
    },
    {
     "name": "stdout",
     "output_type": "stream",
     "text": [
      "Similarity column 35736 (100.0%), 2914.16 column/sec. Elapsed time 12.26 sec\n",
      "EvaluatorHoldout: Processed 35595 (100.0%) in 1.02 min. Users per second: 583\n"
     ]
    },
    {
     "name": "stderr",
     "output_type": "stream",
     "text": [
      "[I 2024-12-16 01:22:21,565] Trial 232 finished with value: 0.03943481784716368 and parameters: {'similarity': 'asymmetric', 'topK': 749, 'shrink': 147, 'feature_weighting': 'BM25', 'asymmetric_alpha': 0.06349377903638276}. Best is trial 226 with value: 0.04213470993116841.\n"
     ]
    },
    {
     "name": "stdout",
     "output_type": "stream",
     "text": [
      "Similarity column 35736 (100.0%), 2914.89 column/sec. Elapsed time 12.26 sec\n",
      "EvaluatorHoldout: Processed 35595 (100.0%) in 59.38 sec. Users per second: 599\n"
     ]
    },
    {
     "name": "stderr",
     "output_type": "stream",
     "text": [
      "[I 2024-12-16 01:23:34,743] Trial 233 finished with value: 0.042106951662997334 and parameters: {'similarity': 'asymmetric', 'topK': 750, 'shrink': 183, 'feature_weighting': 'BM25', 'asymmetric_alpha': 0.6384816827368776}. Best is trial 226 with value: 0.04213470993116841.\n"
     ]
    },
    {
     "name": "stdout",
     "output_type": "stream",
     "text": [
      "Similarity column 35736 (100.0%), 2931.86 column/sec. Elapsed time 12.19 sec\n",
      "EvaluatorHoldout: Processed 35595 (100.0%) in 58.99 sec. Users per second: 603\n"
     ]
    },
    {
     "name": "stderr",
     "output_type": "stream",
     "text": [
      "[I 2024-12-16 01:24:47,875] Trial 234 finished with value: 0.041987898469776345 and parameters: {'similarity': 'asymmetric', 'topK': 726, 'shrink': 184, 'feature_weighting': 'BM25', 'asymmetric_alpha': 0.6189063922426075}. Best is trial 226 with value: 0.04213470993116841.\n"
     ]
    },
    {
     "name": "stdout",
     "output_type": "stream",
     "text": [
      "Similarity column 35736 (100.0%), 2940.91 column/sec. Elapsed time 12.15 sec\n",
      "EvaluatorHoldout: Processed 35595 (100.0%) in 58.95 sec. Users per second: 604\n"
     ]
    },
    {
     "name": "stderr",
     "output_type": "stream",
     "text": [
      "[I 2024-12-16 01:26:00,397] Trial 235 finished with value: 0.04195662178342169 and parameters: {'similarity': 'asymmetric', 'topK': 719, 'shrink': 181, 'feature_weighting': 'BM25', 'asymmetric_alpha': 0.6381749499557328}. Best is trial 226 with value: 0.04213470993116841.\n"
     ]
    },
    {
     "name": "stdout",
     "output_type": "stream",
     "text": [
      "Similarity column 35736 (100.0%), 2940.23 column/sec. Elapsed time 12.15 sec\n",
      "EvaluatorHoldout: Processed 35595 (100.0%) in 59.39 sec. Users per second: 599\n"
     ]
    },
    {
     "name": "stderr",
     "output_type": "stream",
     "text": [
      "[I 2024-12-16 01:27:13,404] Trial 236 finished with value: 0.04198446477902696 and parameters: {'similarity': 'asymmetric', 'topK': 737, 'shrink': 155, 'feature_weighting': 'BM25', 'asymmetric_alpha': 0.5835814494412934}. Best is trial 226 with value: 0.04213470993116841.\n"
     ]
    },
    {
     "name": "stdout",
     "output_type": "stream",
     "text": [
      "Similarity column 35736 (100.0%), 2976.40 column/sec. Elapsed time 12.01 sec\n",
      "EvaluatorHoldout: Processed 35595 (100.0%) in 54.40 sec. Users per second: 654\n"
     ]
    },
    {
     "name": "stderr",
     "output_type": "stream",
     "text": [
      "[I 2024-12-16 01:28:21,183] Trial 237 finished with value: 0.0379828081347244 and parameters: {'similarity': 'asymmetric', 'topK': 725, 'shrink': 190, 'feature_weighting': 'BM25', 'asymmetric_alpha': 1.865236079075287}. Best is trial 226 with value: 0.04213470993116841.\n"
     ]
    },
    {
     "name": "stdout",
     "output_type": "stream",
     "text": [
      "Similarity column 35736 (100.0%), 2876.95 column/sec. Elapsed time 12.42 sec\n",
      "EvaluatorHoldout: Processed 35595 (100.0%) in 59.04 sec. Users per second: 603\n"
     ]
    },
    {
     "name": "stderr",
     "output_type": "stream",
     "text": [
      "[I 2024-12-16 01:29:34,127] Trial 238 finished with value: 0.042063946916031304 and parameters: {'similarity': 'asymmetric', 'topK': 736, 'shrink': 164, 'feature_weighting': 'BM25', 'asymmetric_alpha': 0.6389495189277576}. Best is trial 226 with value: 0.04213470993116841.\n"
     ]
    },
    {
     "name": "stdout",
     "output_type": "stream",
     "text": [
      "Similarity column 35736 (100.0%), 2877.84 column/sec. Elapsed time 12.42 sec\n",
      "EvaluatorHoldout: Processed 35595 (100.0%) in 58.45 sec. Users per second: 609\n"
     ]
    },
    {
     "name": "stderr",
     "output_type": "stream",
     "text": [
      "[I 2024-12-16 01:30:46,408] Trial 239 finished with value: 0.034635249511143815 and parameters: {'similarity': 'asymmetric', 'topK': 709, 'shrink': 163, 'feature_weighting': 'TF-IDF', 'asymmetric_alpha': 0.6104841705365055}. Best is trial 226 with value: 0.04213470993116841.\n"
     ]
    },
    {
     "name": "stdout",
     "output_type": "stream",
     "text": [
      "Similarity column 35736 (100.0%), 2944.89 column/sec. Elapsed time 12.13 sec\n",
      "EvaluatorHoldout: Processed 35595 (100.0%) in 59.87 sec. Users per second: 595\n"
     ]
    },
    {
     "name": "stderr",
     "output_type": "stream",
     "text": [
      "[I 2024-12-16 01:31:59,938] Trial 240 finished with value: 0.04211236084076214 and parameters: {'similarity': 'asymmetric', 'topK': 750, 'shrink': 145, 'feature_weighting': 'BM25', 'asymmetric_alpha': 0.6431378916932592}. Best is trial 226 with value: 0.04213470993116841.\n"
     ]
    },
    {
     "name": "stdout",
     "output_type": "stream",
     "text": [
      "Similarity column 35736 (100.0%), 2868.37 column/sec. Elapsed time 12.46 sec\n",
      "EvaluatorHoldout: Processed 35595 (100.0%) in 1.00 min. Users per second: 592\n"
     ]
    },
    {
     "name": "stderr",
     "output_type": "stream",
     "text": [
      "[I 2024-12-16 01:33:14,035] Trial 241 finished with value: 0.04211721260119756 and parameters: {'similarity': 'asymmetric', 'topK': 750, 'shrink': 148, 'feature_weighting': 'BM25', 'asymmetric_alpha': 0.6454843549929572}. Best is trial 226 with value: 0.04213470993116841.\n"
     ]
    },
    {
     "name": "stdout",
     "output_type": "stream",
     "text": [
      "Similarity column 35736 (100.0%), 2923.52 column/sec. Elapsed time 12.22 sec\n",
      "EvaluatorHoldout: Processed 35595 (100.0%) in 59.73 sec. Users per second: 596\n"
     ]
    },
    {
     "name": "stderr",
     "output_type": "stream",
     "text": [
      "[I 2024-12-16 01:34:27,496] Trial 242 finished with value: 0.04192527932182225 and parameters: {'similarity': 'asymmetric', 'topK': 749, 'shrink': 147, 'feature_weighting': 'BM25', 'asymmetric_alpha': 0.5226882887292951}. Best is trial 226 with value: 0.04213470993116841.\n"
     ]
    },
    {
     "name": "stdout",
     "output_type": "stream",
     "text": [
      "Similarity column 35736 (100.0%), 2862.05 column/sec. Elapsed time 12.49 sec\n",
      "EvaluatorHoldout: Processed 35595 (100.0%) in 59.07 sec. Users per second: 603\n"
     ]
    },
    {
     "name": "stderr",
     "output_type": "stream",
     "text": [
      "[I 2024-12-16 01:35:40,477] Trial 243 finished with value: 0.041962173660022875 and parameters: {'similarity': 'asymmetric', 'topK': 737, 'shrink': 184, 'feature_weighting': 'BM25', 'asymmetric_alpha': 0.5855269983018464}. Best is trial 226 with value: 0.04213470993116841.\n"
     ]
    },
    {
     "name": "stdout",
     "output_type": "stream",
     "text": [
      "Similarity column 35736 (100.0%), 2957.66 column/sec. Elapsed time 12.08 sec\n",
      "EvaluatorHoldout: Processed 35595 (100.0%) in 1.00 min. Users per second: 592\n"
     ]
    },
    {
     "name": "stderr",
     "output_type": "stream",
     "text": [
      "[I 2024-12-16 01:36:54,144] Trial 244 finished with value: 0.042089754223549554 and parameters: {'similarity': 'asymmetric', 'topK': 750, 'shrink': 194, 'feature_weighting': 'BM25', 'asymmetric_alpha': 0.647964815718796}. Best is trial 226 with value: 0.04213470993116841.\n"
     ]
    },
    {
     "name": "stdout",
     "output_type": "stream",
     "text": [
      "Similarity column 35736 (100.0%), 2728.36 column/sec. Elapsed time 13.10 sec\n",
      "EvaluatorHoldout: Processed 35595 (100.0%) in 1.00 min. Users per second: 593\n"
     ]
    },
    {
     "name": "stderr",
     "output_type": "stream",
     "text": [
      "[I 2024-12-16 01:38:09,460] Trial 245 finished with value: 0.04205420995012077 and parameters: {'similarity': 'asymmetric', 'topK': 726, 'shrink': 141, 'feature_weighting': 'BM25', 'asymmetric_alpha': 0.6641487590279253}. Best is trial 226 with value: 0.04213470993116841.\n"
     ]
    },
    {
     "name": "stdout",
     "output_type": "stream",
     "text": [
      "Similarity column 35736 (100.0%), 2917.66 column/sec. Elapsed time 12.25 sec\n",
      "EvaluatorHoldout: Processed 35595 (100.0%) in 59.92 sec. Users per second: 594\n"
     ]
    },
    {
     "name": "stderr",
     "output_type": "stream",
     "text": [
      "[I 2024-12-16 01:39:23,361] Trial 246 finished with value: 0.03949670120424293 and parameters: {'similarity': 'jaccard', 'topK': 749, 'shrink': 197, 'feature_weighting': 'BM25'}. Best is trial 226 with value: 0.04213470993116841.\n"
     ]
    },
    {
     "name": "stdout",
     "output_type": "stream",
     "text": [
      "Similarity column 35736 (100.0%), 2845.19 column/sec. Elapsed time 12.56 sec\n",
      "EvaluatorHoldout: Processed 35595 (100.0%) in 1.01 min. Users per second: 587\n"
     ]
    },
    {
     "name": "stderr",
     "output_type": "stream",
     "text": [
      "[I 2024-12-16 01:40:38,015] Trial 247 finished with value: 0.0420999605348515 and parameters: {'similarity': 'asymmetric', 'topK': 750, 'shrink': 174, 'feature_weighting': 'BM25', 'asymmetric_alpha': 0.6425580835748876}. Best is trial 226 with value: 0.04213470993116841.\n"
     ]
    },
    {
     "name": "stdout",
     "output_type": "stream",
     "text": [
      "Similarity column 35736 (100.0%), 2929.67 column/sec. Elapsed time 12.20 sec\n",
      "EvaluatorHoldout: Processed 35595 (100.0%) in 59.20 sec. Users per second: 601\n"
     ]
    },
    {
     "name": "stderr",
     "output_type": "stream",
     "text": [
      "[I 2024-12-16 01:41:51,364] Trial 248 finished with value: 0.04160826605306014 and parameters: {'similarity': 'asymmetric', 'topK': 733, 'shrink': 783, 'feature_weighting': 'BM25', 'asymmetric_alpha': 0.6102431414489817}. Best is trial 226 with value: 0.04213470993116841.\n"
     ]
    },
    {
     "name": "stdout",
     "output_type": "stream",
     "text": [
      "Similarity column 35736 (100.0%), 2935.49 column/sec. Elapsed time 12.17 sec\n",
      "EvaluatorHoldout: Processed 35595 (100.0%) in 59.13 sec. Users per second: 602\n"
     ]
    },
    {
     "name": "stderr",
     "output_type": "stream",
     "text": [
      "[I 2024-12-16 01:43:04,106] Trial 249 finished with value: 0.04210800295208054 and parameters: {'similarity': 'asymmetric', 'topK': 750, 'shrink': 175, 'feature_weighting': 'BM25', 'asymmetric_alpha': 0.692998678934323}. Best is trial 226 with value: 0.04213470993116841.\n"
     ]
    },
    {
     "name": "stdout",
     "output_type": "stream",
     "text": [
      "Similarity column 35736 (100.0%), 2881.13 column/sec. Elapsed time 12.40 sec\n",
      "EvaluatorHoldout: Processed 35595 (100.0%) in 58.52 sec. Users per second: 608\n"
     ]
    },
    {
     "name": "stderr",
     "output_type": "stream",
     "text": [
      "[I 2024-12-16 01:44:16,413] Trial 250 finished with value: 0.042027002410271 and parameters: {'similarity': 'asymmetric', 'topK': 721, 'shrink': 167, 'feature_weighting': 'BM25', 'asymmetric_alpha': 0.7034097958864914}. Best is trial 226 with value: 0.04213470993116841.\n"
     ]
    },
    {
     "name": "stdout",
     "output_type": "stream",
     "text": [
      "Similarity column 35736 (100.0%), 2857.86 column/sec. Elapsed time 12.50 sec\n",
      "EvaluatorHoldout: Processed 35595 (100.0%) in 59.22 sec. Users per second: 601\n"
     ]
    },
    {
     "name": "stderr",
     "output_type": "stream",
     "text": [
      "[I 2024-12-16 01:45:29,653] Trial 251 finished with value: 0.041955900485397504 and parameters: {'similarity': 'asymmetric', 'topK': 733, 'shrink': 139, 'feature_weighting': 'BM25', 'asymmetric_alpha': 0.5623111217921872}. Best is trial 226 with value: 0.04213470993116841.\n"
     ]
    },
    {
     "name": "stdout",
     "output_type": "stream",
     "text": [
      "Similarity column 35736 (100.0%), 2879.37 column/sec. Elapsed time 12.41 sec\n",
      "EvaluatorHoldout: Processed 35595 (100.0%) in 58.38 sec. Users per second: 610\n"
     ]
    },
    {
     "name": "stderr",
     "output_type": "stream",
     "text": [
      "[I 2024-12-16 01:46:41,802] Trial 252 finished with value: 0.033385408375082776 and parameters: {'similarity': 'asymmetric', 'topK': 749, 'shrink': 173, 'feature_weighting': 'none', 'asymmetric_alpha': 0.6709070477981066}. Best is trial 226 with value: 0.04213470993116841.\n"
     ]
    },
    {
     "name": "stdout",
     "output_type": "stream",
     "text": [
      "Similarity column 35736 (100.0%), 2808.41 column/sec. Elapsed time 12.72 sec\n",
      "EvaluatorHoldout: Processed 35595 (100.0%) in 58.61 sec. Users per second: 607\n"
     ]
    },
    {
     "name": "stderr",
     "output_type": "stream",
     "text": [
      "[I 2024-12-16 01:47:54,622] Trial 253 finished with value: 0.041893893381671016 and parameters: {'similarity': 'asymmetric', 'topK': 716, 'shrink': 223, 'feature_weighting': 'BM25', 'asymmetric_alpha': 0.6113797632792135}. Best is trial 226 with value: 0.04213470993116841.\n"
     ]
    },
    {
     "name": "stdout",
     "output_type": "stream",
     "text": [
      "Similarity column 35736 (100.0%), 2940.89 column/sec. Elapsed time 12.15 sec\n",
      "EvaluatorHoldout: Processed 35595 (100.0%) in 58.99 sec. Users per second: 603\n"
     ]
    },
    {
     "name": "stderr",
     "output_type": "stream",
     "text": [
      "[I 2024-12-16 01:49:07,250] Trial 254 finished with value: 0.042137499247484986 and parameters: {'similarity': 'asymmetric', 'topK': 750, 'shrink': 152, 'feature_weighting': 'BM25', 'asymmetric_alpha': 0.6972081686269851}. Best is trial 254 with value: 0.042137499247484986.\n"
     ]
    },
    {
     "name": "stdout",
     "output_type": "stream",
     "text": [
      "Similarity column 35736 (100.0%), 2938.81 column/sec. Elapsed time 12.16 sec\n",
      "EvaluatorHoldout: Processed 35595 (100.0%) in 59.04 sec. Users per second: 603\n"
     ]
    },
    {
     "name": "stderr",
     "output_type": "stream",
     "text": [
      "[I 2024-12-16 01:50:19,875] Trial 255 finished with value: 0.04205452767799847 and parameters: {'similarity': 'asymmetric', 'topK': 731, 'shrink': 150, 'feature_weighting': 'BM25', 'asymmetric_alpha': 0.637750809344252}. Best is trial 254 with value: 0.042137499247484986.\n"
     ]
    },
    {
     "name": "stdout",
     "output_type": "stream",
     "text": [
      "Similarity column 35736 (100.0%), 2959.32 column/sec. Elapsed time 12.08 sec\n",
      "EvaluatorHoldout: Processed 35595 (100.0%) in 58.91 sec. Users per second: 604\n"
     ]
    },
    {
     "name": "stderr",
     "output_type": "stream",
     "text": [
      "[I 2024-12-16 01:51:32,293] Trial 256 finished with value: 0.04211652028887429 and parameters: {'similarity': 'asymmetric', 'topK': 750, 'shrink': 175, 'feature_weighting': 'BM25', 'asymmetric_alpha': 0.7031997776998746}. Best is trial 254 with value: 0.042137499247484986.\n"
     ]
    },
    {
     "name": "stdout",
     "output_type": "stream",
     "text": [
      "Similarity column 35736 (100.0%), 3051.86 column/sec. Elapsed time 11.71 sec\n",
      "EvaluatorHoldout: Processed 35595 (100.0%) in 58.39 sec. Users per second: 610\n"
     ]
    },
    {
     "name": "stderr",
     "output_type": "stream",
     "text": [
      "[I 2024-12-16 01:52:44,013] Trial 257 finished with value: 0.03982545479679753 and parameters: {'similarity': 'dice', 'topK': 733, 'shrink': 133, 'feature_weighting': 'BM25'}. Best is trial 254 with value: 0.042137499247484986.\n"
     ]
    },
    {
     "name": "stdout",
     "output_type": "stream",
     "text": [
      "Similarity column 35736 (100.0%), 2822.81 column/sec. Elapsed time 12.66 sec\n",
      "EvaluatorHoldout: Processed 35595 (100.0%) in 57.96 sec. Users per second: 614\n"
     ]
    },
    {
     "name": "stderr",
     "output_type": "stream",
     "text": [
      "[I 2024-12-16 01:53:56,109] Trial 258 finished with value: 0.0419672428132168 and parameters: {'similarity': 'asymmetric', 'topK': 712, 'shrink': 173, 'feature_weighting': 'BM25', 'asymmetric_alpha': 0.6871084785946846}. Best is trial 254 with value: 0.042137499247484986.\n"
     ]
    },
    {
     "name": "stdout",
     "output_type": "stream",
     "text": [
      "Similarity column 35736 (100.0%), 2932.49 column/sec. Elapsed time 12.19 sec\n",
      "EvaluatorHoldout: Processed 35595 (100.0%) in 59.03 sec. Users per second: 603\n"
     ]
    },
    {
     "name": "stderr",
     "output_type": "stream",
     "text": [
      "[I 2024-12-16 01:55:08,754] Trial 259 finished with value: 0.042075902402913166 and parameters: {'similarity': 'asymmetric', 'topK': 750, 'shrink': 158, 'feature_weighting': 'BM25', 'asymmetric_alpha': 0.7590176571345814}. Best is trial 254 with value: 0.042137499247484986.\n"
     ]
    },
    {
     "name": "stdout",
     "output_type": "stream",
     "text": [
      "Similarity column 35736 (100.0%), 2982.77 column/sec. Elapsed time 11.98 sec\n",
      "EvaluatorHoldout: Processed 35595 (100.0%) in 58.03 sec. Users per second: 613\n"
     ]
    },
    {
     "name": "stderr",
     "output_type": "stream",
     "text": [
      "[I 2024-12-16 01:56:20,140] Trial 260 finished with value: 0.0419928550246699 and parameters: {'similarity': 'asymmetric', 'topK': 724, 'shrink': 158, 'feature_weighting': 'BM25', 'asymmetric_alpha': 0.7656865001115204}. Best is trial 254 with value: 0.042137499247484986.\n"
     ]
    },
    {
     "name": "stdout",
     "output_type": "stream",
     "text": [
      "Similarity column 35736 (100.0%), 2760.08 column/sec. Elapsed time 12.95 sec\n",
      "EvaluatorHoldout: Processed 35595 (100.0%) in 57.87 sec. Users per second: 615\n"
     ]
    },
    {
     "name": "stderr",
     "output_type": "stream",
     "text": [
      "[I 2024-12-16 01:57:32,554] Trial 261 finished with value: 0.03948126631839076 and parameters: {'similarity': 'tversky', 'topK': 750, 'shrink': 138, 'feature_weighting': 'BM25', 'tversky_alpha': 0.49573885280272223, 'tversky_beta': 0.02114765021533982}. Best is trial 254 with value: 0.042137499247484986.\n"
     ]
    },
    {
     "name": "stdout",
     "output_type": "stream",
     "text": [
      "Similarity column 35736 (100.0%), 3045.24 column/sec. Elapsed time 11.74 sec\n",
      "EvaluatorHoldout: Processed 35595 (100.0%) in 33.94 sec. Users per second: 1049\n"
     ]
    },
    {
     "name": "stderr",
     "output_type": "stream",
     "text": [
      "[I 2024-12-16 01:58:18,681] Trial 262 finished with value: 0.020232835448174717 and parameters: {'similarity': 'asymmetric', 'topK': 15, 'shrink': 116, 'feature_weighting': 'BM25', 'asymmetric_alpha': 0.7165036609683293}. Best is trial 254 with value: 0.042137499247484986.\n"
     ]
    },
    {
     "name": "stdout",
     "output_type": "stream",
     "text": [
      "Similarity column 35736 (100.0%), 291.47 column/sec. Elapsed time 2.04 min\n",
      "EvaluatorHoldout: Processed 35595 (100.0%) in 1.04 min. Users per second: 572\n"
     ]
    },
    {
     "name": "stderr",
     "output_type": "stream",
     "text": [
      "[I 2024-12-16 02:01:26,050] Trial 263 finished with value: 0.031050411708438704 and parameters: {'similarity': 'euclidean', 'topK': 734, 'shrink': 173, 'feature_weighting': 'BM25', 'normalize_avg_row': True, 'similarity_from_distance_mode': 'exp', 'normalize': True}. Best is trial 254 with value: 0.042137499247484986.\n"
     ]
    },
    {
     "name": "stdout",
     "output_type": "stream",
     "text": [
      "Similarity column 35736 (100.0%), 2917.63 column/sec. Elapsed time 12.25 sec\n",
      "EvaluatorHoldout: Processed 35595 (100.0%) in 58.31 sec. Users per second: 610\n"
     ]
    },
    {
     "name": "stderr",
     "output_type": "stream",
     "text": [
      "[I 2024-12-16 02:02:38,024] Trial 264 finished with value: 0.04190567383951148 and parameters: {'similarity': 'asymmetric', 'topK': 708, 'shrink': 157, 'feature_weighting': 'BM25', 'asymmetric_alpha': 0.7612146850516416}. Best is trial 254 with value: 0.042137499247484986.\n"
     ]
    },
    {
     "name": "stdout",
     "output_type": "stream",
     "text": [
      "Similarity column 35736 (100.0%), 2882.87 column/sec. Elapsed time 12.40 sec\n",
      "EvaluatorHoldout: Processed 35595 (100.0%) in 58.42 sec. Users per second: 609\n"
     ]
    },
    {
     "name": "stderr",
     "output_type": "stream",
     "text": [
      "[I 2024-12-16 02:03:50,256] Trial 265 finished with value: 0.04202895002641994 and parameters: {'similarity': 'asymmetric', 'topK': 732, 'shrink': 175, 'feature_weighting': 'BM25', 'asymmetric_alpha': 0.7030758923898744}. Best is trial 254 with value: 0.042137499247484986.\n"
     ]
    },
    {
     "name": "stdout",
     "output_type": "stream",
     "text": [
      "Similarity column 35736 (100.0%), 2989.05 column/sec. Elapsed time 11.96 sec\n",
      "EvaluatorHoldout: Processed 35595 (100.0%) in 54.84 sec. Users per second: 649\n"
     ]
    },
    {
     "name": "stderr",
     "output_type": "stream",
     "text": [
      "[I 2024-12-16 02:04:58,211] Trial 266 finished with value: 0.040888514304442125 and parameters: {'similarity': 'asymmetric', 'topK': 520, 'shrink': 210, 'feature_weighting': 'BM25', 'asymmetric_alpha': 0.5718500671541744}. Best is trial 254 with value: 0.042137499247484986.\n"
     ]
    },
    {
     "name": "stdout",
     "output_type": "stream",
     "text": [
      "Similarity column 35736 (100.0%), 2863.96 column/sec. Elapsed time 12.48 sec\n",
      "EvaluatorHoldout: Processed 35595 (100.0%) in 58.94 sec. Users per second: 604\n"
     ]
    },
    {
     "name": "stderr",
     "output_type": "stream",
     "text": [
      "[I 2024-12-16 02:06:11,089] Trial 267 finished with value: 0.03409400731777338 and parameters: {'similarity': 'asymmetric', 'topK': 750, 'shrink': 188, 'feature_weighting': 'TF-IDF', 'asymmetric_alpha': 0.8134259939738222}. Best is trial 254 with value: 0.042137499247484986.\n"
     ]
    },
    {
     "name": "stdout",
     "output_type": "stream",
     "text": [
      "Similarity column 35736 (100.0%), 3022.81 column/sec. Elapsed time 11.82 sec\n",
      "EvaluatorHoldout: Processed 35595 (100.0%) in 51.51 sec. Users per second: 691\n"
     ]
    },
    {
     "name": "stderr",
     "output_type": "stream",
     "text": [
      "[I 2024-12-16 02:07:15,484] Trial 268 finished with value: 0.03999549606797676 and parameters: {'similarity': 'cosine', 'topK': 394, 'shrink': 109, 'feature_weighting': 'BM25'}. Best is trial 254 with value: 0.042137499247484986.\n"
     ]
    },
    {
     "name": "stdout",
     "output_type": "stream",
     "text": [
      "Similarity column 35736 (100.0%), 2908.53 column/sec. Elapsed time 12.29 sec\n",
      "EvaluatorHoldout: Processed 35595 (100.0%) in 58.69 sec. Users per second: 606\n"
     ]
    },
    {
     "name": "stderr",
     "output_type": "stream",
     "text": [
      "[I 2024-12-16 02:08:27,926] Trial 269 finished with value: 0.042019830678910484 and parameters: {'similarity': 'asymmetric', 'topK': 722, 'shrink': 148, 'feature_weighting': 'BM25', 'asymmetric_alpha': 0.7049890110778715}. Best is trial 254 with value: 0.042137499247484986.\n"
     ]
    },
    {
     "name": "stdout",
     "output_type": "stream",
     "text": [
      "Similarity column 35736 (100.0%), 2958.61 column/sec. Elapsed time 12.08 sec\n",
      "EvaluatorHoldout: Processed 35595 (100.0%) in 59.00 sec. Users per second: 603\n"
     ]
    },
    {
     "name": "stderr",
     "output_type": "stream",
     "text": [
      "[I 2024-12-16 02:09:40,414] Trial 270 finished with value: 0.04196267087628073 and parameters: {'similarity': 'asymmetric', 'topK': 735, 'shrink': 181, 'feature_weighting': 'BM25', 'asymmetric_alpha': 0.5988138578624661}. Best is trial 254 with value: 0.042137499247484986.\n"
     ]
    },
    {
     "name": "stdout",
     "output_type": "stream",
     "text": [
      "Similarity column 35736 (100.0%), 2877.51 column/sec. Elapsed time 12.42 sec\n",
      "EvaluatorHoldout: Processed 35595 (100.0%) in 58.73 sec. Users per second: 606\n"
     ]
    },
    {
     "name": "stderr",
     "output_type": "stream",
     "text": [
      "[I 2024-12-16 02:10:52,974] Trial 271 finished with value: 0.0419361288927225 and parameters: {'similarity': 'asymmetric', 'topK': 750, 'shrink': 218, 'feature_weighting': 'BM25', 'asymmetric_alpha': 0.8732112545090832}. Best is trial 254 with value: 0.042137499247484986.\n"
     ]
    },
    {
     "name": "stdout",
     "output_type": "stream",
     "text": [
      "Similarity column 35736 (100.0%), 2931.11 column/sec. Elapsed time 12.19 sec\n",
      "EvaluatorHoldout: Processed 35595 (100.0%) in 58.24 sec. Users per second: 611\n"
     ]
    },
    {
     "name": "stderr",
     "output_type": "stream",
     "text": [
      "[I 2024-12-16 02:12:04,817] Trial 272 finished with value: 0.041988101369684554 and parameters: {'similarity': 'asymmetric', 'topK': 721, 'shrink': 155, 'feature_weighting': 'BM25', 'asymmetric_alpha': 0.756459999495309}. Best is trial 254 with value: 0.042137499247484986.\n"
     ]
    },
    {
     "name": "stdout",
     "output_type": "stream",
     "text": [
      "Similarity column 35736 (100.0%), 3069.41 column/sec. Elapsed time 11.64 sec\n",
      "EvaluatorHoldout: Processed 35595 (100.0%) in 41.96 sec. Users per second: 848\n"
     ]
    },
    {
     "name": "stderr",
     "output_type": "stream",
     "text": [
      "[I 2024-12-16 02:12:59,078] Trial 273 finished with value: 0.03603438818988642 and parameters: {'similarity': 'asymmetric', 'topK': 156, 'shrink': 202, 'feature_weighting': 'BM25', 'asymmetric_alpha': 0.5200332458491336}. Best is trial 254 with value: 0.042137499247484986.\n"
     ]
    },
    {
     "name": "stdout",
     "output_type": "stream",
     "text": [
      "Similarity column 35736 (100.0%), 3000.61 column/sec. Elapsed time 11.91 sec\n",
      "EvaluatorHoldout: Processed 35595 (100.0%) in 57.78 sec. Users per second: 616\n"
     ]
    },
    {
     "name": "stderr",
     "output_type": "stream",
     "text": [
      "[I 2024-12-16 02:14:10,210] Trial 274 finished with value: 0.03373527916574584 and parameters: {'similarity': 'jaccard', 'topK': 735, 'shrink': 132, 'feature_weighting': 'none'}. Best is trial 254 with value: 0.042137499247484986.\n"
     ]
    },
    {
     "name": "stdout",
     "output_type": "stream",
     "text": [
      "Similarity column 35736 (100.0%), 2960.05 column/sec. Elapsed time 12.07 sec\n",
      "EvaluatorHoldout: Processed 35595 (100.0%) in 58.55 sec. Users per second: 608\n"
     ]
    },
    {
     "name": "stderr",
     "output_type": "stream",
     "text": [
      "[I 2024-12-16 02:15:22,235] Trial 275 finished with value: 0.04193598507905136 and parameters: {'similarity': 'asymmetric', 'topK': 708, 'shrink': 177, 'feature_weighting': 'BM25', 'asymmetric_alpha': 0.6301636938686511}. Best is trial 254 with value: 0.042137499247484986.\n"
     ]
    },
    {
     "name": "stdout",
     "output_type": "stream",
     "text": [
      "Similarity column 35736 (100.0%), 2980.44 column/sec. Elapsed time 11.99 sec\n",
      "EvaluatorHoldout: Processed 35595 (100.0%) in 59.38 sec. Users per second: 599\n"
     ]
    },
    {
     "name": "stderr",
     "output_type": "stream",
     "text": [
      "[I 2024-12-16 02:16:35,066] Trial 276 finished with value: 0.04200617395433924 and parameters: {'similarity': 'asymmetric', 'topK': 737, 'shrink': 224, 'feature_weighting': 'BM25', 'asymmetric_alpha': 0.6763294307350822}. Best is trial 254 with value: 0.042137499247484986.\n"
     ]
    },
    {
     "name": "stdout",
     "output_type": "stream",
     "text": [
      "Similarity column 35736 (100.0%), 2858.37 column/sec. Elapsed time 12.50 sec\n",
      "EvaluatorHoldout: Processed 35595 (100.0%) in 58.76 sec. Users per second: 606\n"
     ]
    },
    {
     "name": "stderr",
     "output_type": "stream",
     "text": [
      "[I 2024-12-16 02:17:47,813] Trial 277 finished with value: 0.042095192387015416 and parameters: {'similarity': 'asymmetric', 'topK': 750, 'shrink': 190, 'feature_weighting': 'BM25', 'asymmetric_alpha': 0.7133201333092474}. Best is trial 254 with value: 0.042137499247484986.\n"
     ]
    },
    {
     "name": "stdout",
     "output_type": "stream",
     "text": [
      "Similarity column 35736 (100.0%), 2837.06 column/sec. Elapsed time 12.60 sec\n",
      "EvaluatorHoldout: Processed 35595 (100.0%) in 58.65 sec. Users per second: 607\n"
     ]
    },
    {
     "name": "stderr",
     "output_type": "stream",
     "text": [
      "[I 2024-12-16 02:19:00,582] Trial 278 finished with value: 0.04192867733786254 and parameters: {'similarity': 'asymmetric', 'topK': 721, 'shrink': 167, 'feature_weighting': 'BM25', 'asymmetric_alpha': 0.7986942244568417}. Best is trial 254 with value: 0.042137499247484986.\n"
     ]
    },
    {
     "name": "stdout",
     "output_type": "stream",
     "text": [
      "Similarity column 35736 (100.0%), 2962.84 column/sec. Elapsed time 12.06 sec\n",
      "EvaluatorHoldout: Processed 35595 (100.0%) in 59.22 sec. Users per second: 601\n"
     ]
    },
    {
     "name": "stderr",
     "output_type": "stream",
     "text": [
      "[I 2024-12-16 02:20:13,352] Trial 279 finished with value: 0.04209221577847625 and parameters: {'similarity': 'asymmetric', 'topK': 750, 'shrink': 188, 'feature_weighting': 'BM25', 'asymmetric_alpha': 0.72253078346059}. Best is trial 254 with value: 0.042137499247484986.\n"
     ]
    },
    {
     "name": "stdout",
     "output_type": "stream",
     "text": [
      "Similarity column 35736 (100.0%), 2843.83 column/sec. Elapsed time 12.57 sec\n",
      "EvaluatorHoldout: Processed 35595 (100.0%) in 59.68 sec. Users per second: 596\n"
     ]
    },
    {
     "name": "stderr",
     "output_type": "stream",
     "text": [
      "[I 2024-12-16 02:21:27,148] Trial 280 finished with value: 0.04200395989270675 and parameters: {'similarity': 'asymmetric', 'topK': 735, 'shrink': 249, 'feature_weighting': 'BM25', 'asymmetric_alpha': 0.7026066382212462}. Best is trial 254 with value: 0.042137499247484986.\n"
     ]
    },
    {
     "name": "stdout",
     "output_type": "stream",
     "text": [
      "Similarity column 35736 (100.0%), 2771.15 column/sec. Elapsed time 12.90 sec\n",
      "EvaluatorHoldout: Processed 35595 (100.0%) in 58.81 sec. Users per second: 605\n"
     ]
    },
    {
     "name": "stderr",
     "output_type": "stream",
     "text": [
      "[I 2024-12-16 02:22:40,300] Trial 281 finished with value: 0.04201786968474547 and parameters: {'similarity': 'asymmetric', 'topK': 724, 'shrink': 196, 'feature_weighting': 'BM25', 'asymmetric_alpha': 0.7169585994019748}. Best is trial 254 with value: 0.042137499247484986.\n"
     ]
    },
    {
     "name": "stdout",
     "output_type": "stream",
     "text": [
      "Similarity column 35736 (100.0%), 2964.28 column/sec. Elapsed time 12.06 sec\n",
      "EvaluatorHoldout: Processed 35595 (100.0%) in 59.13 sec. Users per second: 602\n"
     ]
    },
    {
     "name": "stderr",
     "output_type": "stream",
     "text": [
      "[I 2024-12-16 02:23:52,954] Trial 282 finished with value: 0.04204074051777226 and parameters: {'similarity': 'asymmetric', 'topK': 750, 'shrink': 222, 'feature_weighting': 'BM25', 'asymmetric_alpha': 0.6316258452543263}. Best is trial 254 with value: 0.042137499247484986.\n"
     ]
    },
    {
     "name": "stdout",
     "output_type": "stream",
     "text": [
      "Similarity column 35736 (100.0%), 2948.16 column/sec. Elapsed time 12.12 sec\n",
      "EvaluatorHoldout: Processed 35595 (100.0%) in 59.21 sec. Users per second: 601\n"
     ]
    },
    {
     "name": "stderr",
     "output_type": "stream",
     "text": [
      "[I 2024-12-16 02:25:05,729] Trial 283 finished with value: 0.041938723112973524 and parameters: {'similarity': 'asymmetric', 'topK': 735, 'shrink': 185, 'feature_weighting': 'BM25', 'asymmetric_alpha': 0.5842088548802492}. Best is trial 254 with value: 0.042137499247484986.\n"
     ]
    },
    {
     "name": "stdout",
     "output_type": "stream",
     "text": [
      "Similarity column 35736 (100.0%), 2944.41 column/sec. Elapsed time 12.14 sec\n",
      "EvaluatorHoldout: Processed 35595 (100.0%) in 58.07 sec. Users per second: 613\n"
     ]
    },
    {
     "name": "stderr",
     "output_type": "stream",
     "text": [
      "[I 2024-12-16 02:26:17,313] Trial 284 finished with value: 0.0419472103492315 and parameters: {'similarity': 'asymmetric', 'topK': 706, 'shrink': 213, 'feature_weighting': 'BM25', 'asymmetric_alpha': 0.7032099732196394}. Best is trial 254 with value: 0.042137499247484986.\n"
     ]
    },
    {
     "name": "stdout",
     "output_type": "stream",
     "text": [
      "Similarity column 35736 (100.0%), 2879.76 column/sec. Elapsed time 12.41 sec\n",
      "EvaluatorHoldout: Processed 35595 (100.0%) in 59.25 sec. Users per second: 601\n"
     ]
    },
    {
     "name": "stderr",
     "output_type": "stream",
     "text": [
      "[I 2024-12-16 02:27:30,383] Trial 285 finished with value: 0.04197578913571179 and parameters: {'similarity': 'asymmetric', 'topK': 736, 'shrink': 243, 'feature_weighting': 'BM25', 'asymmetric_alpha': 0.6384980758078482}. Best is trial 254 with value: 0.042137499247484986.\n"
     ]
    },
    {
     "name": "stdout",
     "output_type": "stream",
     "text": [
      "Similarity column 35736 (100.0%), 3068.99 column/sec. Elapsed time 11.64 sec\n",
      "EvaluatorHoldout: Processed 35595 (100.0%) in 58.58 sec. Users per second: 608\n"
     ]
    },
    {
     "name": "stderr",
     "output_type": "stream",
     "text": [
      "[I 2024-12-16 02:28:42,144] Trial 286 finished with value: 0.0397814545024812 and parameters: {'similarity': 'dice', 'topK': 721, 'shrink': 131, 'feature_weighting': 'BM25'}. Best is trial 254 with value: 0.042137499247484986.\n"
     ]
    },
    {
     "name": "stdout",
     "output_type": "stream",
     "text": [
      "Similarity column 35736 (100.0%), 2926.56 column/sec. Elapsed time 12.21 sec\n",
      "EvaluatorHoldout: Processed 35595 (100.0%) in 59.08 sec. Users per second: 603\n"
     ]
    },
    {
     "name": "stderr",
     "output_type": "stream",
     "text": [
      "[I 2024-12-16 02:29:54,890] Trial 287 finished with value: 0.04207363259954765 and parameters: {'similarity': 'asymmetric', 'topK': 750, 'shrink': 180, 'feature_weighting': 'BM25', 'asymmetric_alpha': 0.7407130748422767}. Best is trial 254 with value: 0.042137499247484986.\n"
     ]
    },
    {
     "name": "stdout",
     "output_type": "stream",
     "text": [
      "Similarity column 35736 (100.0%), 2791.17 column/sec. Elapsed time 12.80 sec\n",
      "EvaluatorHoldout: Processed 35595 (100.0%) in 59.20 sec. Users per second: 601\n"
     ]
    },
    {
     "name": "stderr",
     "output_type": "stream",
     "text": [
      "[I 2024-12-16 02:31:08,354] Trial 288 finished with value: 0.04201752743050519 and parameters: {'similarity': 'asymmetric', 'topK': 730, 'shrink': 207, 'feature_weighting': 'BM25', 'asymmetric_alpha': 0.6727941957156996}. Best is trial 254 with value: 0.042137499247484986.\n"
     ]
    },
    {
     "name": "stdout",
     "output_type": "stream",
     "text": [
      "Similarity column 35736 (100.0%), 2764.05 column/sec. Elapsed time 12.93 sec\n",
      "EvaluatorHoldout: Processed 35595 (100.0%) in 57.40 sec. Users per second: 620\n"
     ]
    },
    {
     "name": "stderr",
     "output_type": "stream",
     "text": [
      "[I 2024-12-16 02:32:20,256] Trial 289 finished with value: 0.03428345340102499 and parameters: {'similarity': 'tversky', 'topK': 708, 'shrink': 153, 'feature_weighting': 'TF-IDF', 'tversky_alpha': 1.57087022037063, 'tversky_beta': 0.571642353343263}. Best is trial 254 with value: 0.042137499247484986.\n"
     ]
    },
    {
     "name": "stdout",
     "output_type": "stream",
     "text": [
      "Similarity column 35736 (100.0%), 2942.40 column/sec. Elapsed time 12.15 sec\n",
      "EvaluatorHoldout: Processed 35595 (100.0%) in 59.82 sec. Users per second: 595\n"
     ]
    },
    {
     "name": "stderr",
     "output_type": "stream",
     "text": [
      "[I 2024-12-16 02:33:33,661] Trial 290 finished with value: 0.04170146957504566 and parameters: {'similarity': 'asymmetric', 'topK': 736, 'shrink': 231, 'feature_weighting': 'BM25', 'asymmetric_alpha': 0.4711399982289767}. Best is trial 254 with value: 0.042137499247484986.\n"
     ]
    },
    {
     "name": "stdout",
     "output_type": "stream",
     "text": [
      "Similarity column 35736 (100.0%), 2921.44 column/sec. Elapsed time 12.23 sec\n",
      "EvaluatorHoldout: Processed 35595 (100.0%) in 59.12 sec. Users per second: 602\n"
     ]
    },
    {
     "name": "stderr",
     "output_type": "stream",
     "text": [
      "[I 2024-12-16 02:34:46,451] Trial 291 finished with value: 0.04190371284534635 and parameters: {'similarity': 'asymmetric', 'topK': 720, 'shrink': 193, 'feature_weighting': 'BM25', 'asymmetric_alpha': 0.592309488325225}. Best is trial 254 with value: 0.042137499247484986.\n"
     ]
    },
    {
     "name": "stdout",
     "output_type": "stream",
     "text": [
      "Similarity column 35736 (100.0%), 310.07 column/sec. Elapsed time 1.92 min\n",
      "EvaluatorHoldout: Processed 35595 (100.0%) in 33.17 sec. Users per second: 1073\n"
     ]
    },
    {
     "name": "stderr",
     "output_type": "stream",
     "text": [
      "[I 2024-12-16 02:37:15,953] Trial 292 finished with value: 0.0036001612050916556 and parameters: {'similarity': 'euclidean', 'topK': 737, 'shrink': 265, 'feature_weighting': 'BM25', 'normalize_avg_row': False, 'similarity_from_distance_mode': 'log', 'normalize': False}. Best is trial 254 with value: 0.042137499247484986.\n"
     ]
    },
    {
     "name": "stdout",
     "output_type": "stream",
     "text": [
      "Similarity column 35736 (100.0%), 2922.59 column/sec. Elapsed time 12.23 sec\n",
      "EvaluatorHoldout: Processed 35595 (100.0%) in 59.69 sec. Users per second: 596\n"
     ]
    },
    {
     "name": "stderr",
     "output_type": "stream",
     "text": [
      "[I 2024-12-16 02:38:29,349] Trial 293 finished with value: 0.042059088466587985 and parameters: {'similarity': 'asymmetric', 'topK': 750, 'shrink': 171, 'feature_weighting': 'BM25', 'asymmetric_alpha': 0.6603872251511252}. Best is trial 254 with value: 0.042137499247484986.\n"
     ]
    },
    {
     "name": "stdout",
     "output_type": "stream",
     "text": [
      "Similarity column 35736 (100.0%), 3026.97 column/sec. Elapsed time 11.81 sec\n",
      "EvaluatorHoldout: Processed 35595 (100.0%) in 52.06 sec. Users per second: 684\n"
     ]
    },
    {
     "name": "stderr",
     "output_type": "stream",
     "text": [
      "[I 2024-12-16 02:39:34,315] Trial 294 finished with value: 0.040780133423410456 and parameters: {'similarity': 'asymmetric', 'topK': 466, 'shrink': 105, 'feature_weighting': 'BM25', 'asymmetric_alpha': 0.746122187058324}. Best is trial 254 with value: 0.042137499247484986.\n"
     ]
    },
    {
     "name": "stdout",
     "output_type": "stream",
     "text": [
      "Similarity column 35736 (100.0%), 2992.00 column/sec. Elapsed time 11.94 sec\n",
      "EvaluatorHoldout: Processed 35595 (100.0%) in 1.00 min. Users per second: 593\n"
     ]
    },
    {
     "name": "stderr",
     "output_type": "stream",
     "text": [
      "[I 2024-12-16 02:40:47,720] Trial 295 finished with value: 0.04174567165443537 and parameters: {'similarity': 'cosine', 'topK': 722, 'shrink': 201, 'feature_weighting': 'BM25'}. Best is trial 254 with value: 0.042137499247484986.\n"
     ]
    },
    {
     "name": "stdout",
     "output_type": "stream",
     "text": [
      "Similarity column 35736 (100.0%), 2983.81 column/sec. Elapsed time 11.98 sec\n",
      "EvaluatorHoldout: Processed 35595 (100.0%) in 58.79 sec. Users per second: 605\n"
     ]
    },
    {
     "name": "stderr",
     "output_type": "stream",
     "text": [
      "[I 2024-12-16 02:41:59,915] Trial 296 finished with value: 0.042000445933862034 and parameters: {'similarity': 'asymmetric', 'topK': 737, 'shrink': 223, 'feature_weighting': 'BM25', 'asymmetric_alpha': 0.7918460655259947}. Best is trial 254 with value: 0.042137499247484986.\n"
     ]
    },
    {
     "name": "stdout",
     "output_type": "stream",
     "text": [
      "Similarity column 35736 (100.0%), 2876.49 column/sec. Elapsed time 12.42 sec\n",
      "EvaluatorHoldout: Processed 35595 (100.0%) in 57.86 sec. Users per second: 615\n"
     ]
    },
    {
     "name": "stderr",
     "output_type": "stream",
     "text": [
      "[I 2024-12-16 02:43:11,523] Trial 297 finished with value: 0.03353258327257365 and parameters: {'similarity': 'asymmetric', 'topK': 736, 'shrink': 180, 'feature_weighting': 'none', 'asymmetric_alpha': 0.7149691259153524}. Best is trial 254 with value: 0.042137499247484986.\n"
     ]
    },
    {
     "name": "stdout",
     "output_type": "stream",
     "text": [
      "Similarity column 35736 (100.0%), 2973.84 column/sec. Elapsed time 12.02 sec\n",
      "EvaluatorHoldout: Processed 35595 (100.0%) in 59.26 sec. Users per second: 601\n"
     ]
    },
    {
     "name": "stderr",
     "output_type": "stream",
     "text": [
      "[I 2024-12-16 02:44:24,234] Trial 298 finished with value: 0.04210983796992909 and parameters: {'similarity': 'asymmetric', 'topK': 750, 'shrink': 148, 'feature_weighting': 'BM25', 'asymmetric_alpha': 0.6211050247333575}. Best is trial 254 with value: 0.042137499247484986.\n"
     ]
    },
    {
     "name": "stdout",
     "output_type": "stream",
     "text": [
      "Similarity column 35736 (100.0%), 2952.99 column/sec. Elapsed time 12.10 sec\n",
      "EvaluatorHoldout: Processed 35595 (100.0%) in 58.65 sec. Users per second: 607\n"
     ]
    },
    {
     "name": "stderr",
     "output_type": "stream",
     "text": [
      "[I 2024-12-16 02:45:36,399] Trial 299 finished with value: 0.04179105099922466 and parameters: {'similarity': 'asymmetric', 'topK': 699, 'shrink': 125, 'feature_weighting': 'BM25', 'asymmetric_alpha': 0.5420474175992017}. Best is trial 254 with value: 0.042137499247484986.\n"
     ]
    }
   ],
   "source": [
    "if config['tune_parameters']:\n",
    "    \n",
    "    optuna_study = optuna.create_study(direction='maximize', study_name=f'hyperparameters_tuning_{config[\"model\"]}',\n",
    "                                storage=f'sqlite:///{config[\"database_path\"]}', load_if_exists=True)\n",
    "\n",
    "    optuna_study.optimize(objective_function_UserKNNCF, n_trials=300)"
   ]
  },
  {
   "cell_type": "markdown",
   "id": "dc263b59",
   "metadata": {
    "papermill": {
     "duration": 0.068788,
     "end_time": "2024-12-16T02:45:36.558150",
     "exception": false,
     "start_time": "2024-12-16T02:45:36.489362",
     "status": "completed"
    },
    "tags": []
   },
   "source": [
    "## Some optuna visualizations on recommender parameters"
   ]
  },
  {
   "cell_type": "code",
   "execution_count": 14,
   "id": "3c5ec9ed",
   "metadata": {
    "execution": {
     "iopub.execute_input": "2024-12-16T02:45:36.680898Z",
     "iopub.status.busy": "2024-12-16T02:45:36.680292Z",
     "iopub.status.idle": "2024-12-16T02:45:39.523966Z",
     "shell.execute_reply": "2024-12-16T02:45:39.522431Z"
    },
    "papermill": {
     "duration": 2.90797,
     "end_time": "2024-12-16T02:45:39.526646",
     "exception": false,
     "start_time": "2024-12-16T02:45:36.618676",
     "status": "completed"
    },
    "tags": []
   },
   "outputs": [
    {
     "data": {
      "text/html": [
       "        <script type=\"text/javascript\">\n",
       "        window.PlotlyConfig = {MathJaxConfig: 'local'};\n",
       "        if (window.MathJax && window.MathJax.Hub && window.MathJax.Hub.Config) {window.MathJax.Hub.Config({SVG: {font: \"STIX-Web\"}});}\n",
       "        if (typeof require !== 'undefined') {\n",
       "        require.undef(\"plotly\");\n",
       "        requirejs.config({\n",
       "            paths: {\n",
       "                'plotly': ['https://cdn.plot.ly/plotly-2.32.0.min']\n",
       "            }\n",
       "        });\n",
       "        require(['plotly'], function(Plotly) {\n",
       "            window._Plotly = Plotly;\n",
       "        });\n",
       "        }\n",
       "        </script>\n",
       "        "
      ]
     },
     "metadata": {},
     "output_type": "display_data"
    },
    {
     "data": {
      "text/html": [
       "<div>                            <div id=\"3bb5e5dc-f2a2-4f1f-920f-15672f5d50c1\" class=\"plotly-graph-div\" style=\"height:525px; width:3000px;\"></div>            <script type=\"text/javascript\">                require([\"plotly\"], function(Plotly) {                    window.PLOTLYENV=window.PLOTLYENV || {};                                    if (document.getElementById(\"3bb5e5dc-f2a2-4f1f-920f-15672f5d50c1\")) {                    Plotly.newPlot(                        \"3bb5e5dc-f2a2-4f1f-920f-15672f5d50c1\",                        [{\"marker\":{\"color\":[0,8,27,29,45,46,47,48,49,50,51,52,53,54,55,56,57,58,59,60,61,62,63,65,66,67,68,71,72,73,75,77,78,79,81,82,83,84,87,88,89,91,92,93,94,95,96,97,98,99,101,102,103,104,105,108,109,110,111,112,113,114,115,117,118,119,120,121,122,123,124,125,127,129,131,132,133,134,135,136,138,140,141,142,143,144,145,146,147,148,149,150,151,152,153,154,155,156,158,159,160,161,162,163,164,165,166,167,168,169,170,171,172,173,174,175,177,179,181,182,183,184,185,186,187,188,189,190,191,192,193,194,195,196,198,199,200,201,202,203,204,205,206,207,208,209,210,211,212,213,214,215,217,218,220,221,222,223,224,225,226,228,229,230,231,232,233,234,235,236,237,238,239,240,241,242,243,244,245,247,248,249,250,251,252,253,254,255,256,258,259,260,262,264,265,266,267,269,270,271,272,273,275,276,277,278,279,280,281,282,283,284,285,287,288,290,291,293,294,296,297,298,299],\"colorbar\":{\"title\":{\"text\":\"Trial\"},\"x\":1.0,\"xpad\":40},\"colorscale\":[[0.0,\"rgb(247,251,255)\"],[0.125,\"rgb(222,235,247)\"],[0.25,\"rgb(198,219,239)\"],[0.375,\"rgb(158,202,225)\"],[0.5,\"rgb(107,174,214)\"],[0.625,\"rgb(66,146,198)\"],[0.75,\"rgb(33,113,181)\"],[0.875,\"rgb(8,81,156)\"],[1.0,\"rgb(8,48,107)\"]],\"line\":{\"color\":\"Grey\",\"width\":0.5},\"showscale\":true},\"mode\":\"markers\",\"name\":\"Feasible Trial\",\"showlegend\":false,\"x\":[1.955307917347002,1.5642583450214778,0.17111937498840502,0.00956673548453657,0.8968019177554487,0.8944336321626252,0.8968343476598516,0.8560821185492283,0.9058912889184103,0.6996719378428027,0.6823653626740656,0.7236843963246653,0.6281634417211384,0.48401477855037245,1.2455590970955825,1.1282052413114632,0.5131161298884533,0.6930133382826672,1.0099099523559947,0.5123467216313208,0.7542146061205252,0.8285742439330085,0.6422746205506353,1.074531558706831,0.8275852816063807,0.3498641074887272,1.2544167571951532,0.7121749283904829,0.8313079887252185,0.5784204258239256,0.76515673312556,0.9826962754059764,0.389981261695447,0.6533125664670535,0.9300421957950293,0.803386150157893,0.8099395066288557,0.7602888997917839,1.9977448122263373,0.6233486184201735,0.7576869735212757,0.8197733756301798,0.7910587971702742,1.7387861230728026,0.7405468175756519,0.9266372594773653,0.6014796279396853,0.7297151769035871,0.8531007770360697,0.5698544296305056,0.8007465817769277,0.8896292034874294,0.7026342979119039,0.9682396756706944,1.0763316682888429,0.43155047602791796,0.6944620045787309,0.8053264739236811,0.8700824141220516,0.76702540684494,0.6699620062720206,0.757153977728046,0.8532767024348203,1.0071809277725587,0.5406985533097384,0.66708698009062,0.6458706492761721,0.628221306312825,0.6342282399641499,0.49360012803015196,0.6388774863422123,0.5769269029743787,0.6782551764755331,0.4440628942578474,0.658954260469709,0.6180706737320167,0.3030435780615605,0.6295443543554831,0.5364223710745545,0.644625459807459,0.7115593296054153,0.5937901964312151,0.6016243264457429,0.5854703816844059,0.5898449825601715,0.5391607622441789,0.603239416848128,0.49228154077658504,0.5764706658989979,0.6132138847390687,0.6063992651775459,0.43723431213841135,0.6205595112864251,0.5933298688682823,0.7745220408174401,0.7832304640606795,0.7834637248485518,0.7748384510899109,0.7777672162568614,0.7770288172001757,0.7340932106874659,0.7288672426326301,0.7419504835274034,0.7330141942554689,0.7225534931992877,0.7335468400232089,0.7290788564719055,0.7311162246636977,0.7325761138134039,0.7132930891835939,0.7310036352149684,0.7325696132683039,0.7373351972379796,0.7224183993360969,0.7190063378547008,0.719537569168056,0.6950205495656562,0.693259388857252,0.6962184850057325,0.7035760338711068,0.6888528179703559,0.6883295572014032,0.6885103172404266,0.687531171518333,0.6756684027163672,0.6813407085617783,0.6788371716607537,0.6665145709300317,0.672739431232553,0.6767092556237799,0.6761000070078479,0.6793281882962036,0.6745164555336892,0.6614768255043103,0.6518737728187376,0.6429490557677153,0.8320406121042128,0.6483312113694707,0.6540065724398768,0.6608418992807635,0.654665541759991,0.5483440912813007,0.6347830883842798,1.3980130894570353,0.6542671094230894,0.823456459706035,0.6872463863434256,0.6885784484537085,0.6344974125980145,0.6980469611103528,0.6492915534544086,0.5550527893346926,0.7605009889611821,0.7693791102170373,0.8005330835187708,0.7612796000895135,0.6945803487874508,0.7587073480459157,0.6977010000519498,0.6151814761830363,0.6972116679069805,0.6350767063248701,0.621333200864526,0.5598777817099081,0.6451281983974952,0.06349377903638276,0.6384816827368776,0.6189063922426075,0.6381749499557328,0.5835814494412934,1.865236079075287,0.6389495189277576,0.6104841705365055,0.6431378916932592,0.6454843549929572,0.5226882887292951,0.5855269983018464,0.647964815718796,0.6641487590279253,0.6425580835748876,0.6102431414489817,0.692998678934323,0.7034097958864914,0.5623111217921872,0.6709070477981066,0.6113797632792135,0.6972081686269851,0.637750809344252,0.7031997776998746,0.6871084785946846,0.7590176571345814,0.7656865001115204,0.7165036609683293,0.7612146850516416,0.7030758923898744,0.5718500671541744,0.8134259939738222,0.7049890110778715,0.5988138578624661,0.8732112545090832,0.756459999495309,0.5200332458491336,0.6301636938686511,0.6763294307350822,0.7133201333092474,0.7986942244568417,0.72253078346059,0.7026066382212462,0.7169585994019748,0.6316258452543263,0.5842088548802492,0.7032099732196394,0.6384980758078482,0.7407130748422767,0.6727941957156996,0.4711399982289767,0.592309488325225,0.6603872251511252,0.746122187058324,0.7918460655259947,0.7149691259153524,0.6211050247333575,0.5420474175992017],\"y\":[0.03254622104495577,0.03211180899760663,0.040205511965518706,0.03508903181069101,0.04189178076999254,0.041751143262941035,0.03598931988396662,0.041882518723646504,0.041875865390402334,0.04186220643616201,0.041900239020549415,0.04186963123499006,0.04190910084125281,0.04125977431287001,0.04128363734874357,0.038816023295583806,0.03488008058024793,0.04038268817851492,0.03344375770629343,0.04119005812747766,0.04197485601910215,0.04169502248621356,0.041652696673554826,0.041652708936736095,0.041683889747310014,0.04109794045444958,0.04073745309333037,0.04190060803082148,0.041886003696790026,0.04144512003424633,0.04181929645014186,0.033359499617610575,0.04110557261252417,0.04139225791922664,0.04180611241546601,0.0419706430589264,0.041851376932285626,0.04206425126589312,0.03195654820433504,0.04184775929381763,0.04160655924119743,0.04193944775550179,0.041972896139771926,0.03883970126890356,0.04121414970445579,0.0417806663143772,0.04176221022659984,0.0418451104466682,0.041477078999412054,0.04150422633819027,0.04185597896975741,0.04184394321478032,0.04180771108836697,0.041832738011623904,0.041462601756531985,0.04132586171144784,0.041605223669276256,0.03327923040733716,0.041854104932695806,0.041883017054738986,0.04181208904407249,0.0407666071344945,0.04185476268514464,0.04148171671159304,0.04154852652302985,0.04190036499686585,0.04196241892364789,0.04193299397766153,0.04194392270182253,0.04132961535974449,0.04187314407900013,0.0418264403106359,0.04189626463499059,0.03062242891256731,0.04190857909863236,0.04188897696082519,0.0410397984824854,0.04207710530950998,0.041886660334404247,0.04067574365045768,0.034811587368476254,0.04196426286017356,0.041963460179219245,0.04195499635448899,0.04191515662311958,0.04178780237102874,0.04177986251858824,0.04152382067215458,0.04186484413496481,0.04194671982198149,0.04193812556159634,0.04154516306686392,0.0420391173185089,0.04196416363988893,0.04198678697962158,0.041984944157930436,0.0419744914681689,0.04195584697333395,0.04199382493082307,0.034231757403058234,0.04200912157717738,0.042009245323824565,0.042006961027608564,0.04202834467120022,0.04201387857666663,0.042021215303556715,0.042047012577563,0.0420524574300369,0.042053961341991755,0.042030934432112706,0.03351330778132185,0.042053961341991755,0.042021626677545845,0.042006812754598666,0.04202620084415115,0.04193818687750252,0.04203366243252298,0.04208528819590605,0.0420866404903472,0.04207809639752158,0.0420365710361481,0.04208557916775199,0.042076688361347495,0.04206508962155662,0.042007927589257706,0.042028538652430864,0.042046231078467174,0.04207366492975273,0.042030941121120706,0.04204430687384594,0.04203803369922049,0.04206293464616103,0.04205196467311778,0.042045817474808775,0.042070785311828854,0.03455507617665103,0.041809925149999524,0.042064271332917076,0.04207750664998715,0.04206673846201716,0.04206501827213842,0.041942552570026895,0.03936424992809172,0.040208486344389054,0.04194855595466478,0.03367279045344677,0.04208858030265364,0.04209596719710334,0.042043332508354195,0.04200219733911098,0.03841783891530915,0.04191782665212779,0.04207959696497248,0.04209729496518213,0.04199997324396669,0.04201757982773419,0.042059726152012776,0.042009354577621,0.041971225002618184,0.04198847929863374,0.04213470993116841,0.042099782161306144,0.042081143240644416,0.041976466955184345,0.04209703855321064,0.03943481784716368,0.042106951662997334,0.041987898469776345,0.04195662178342169,0.04198446477902696,0.0379828081347244,0.042063946916031304,0.034635249511143815,0.04211236084076214,0.04211721260119756,0.04192527932182225,0.041962173660022875,0.042089754223549554,0.04205420995012077,0.0420999605348515,0.04160826605306014,0.04210800295208054,0.042027002410271,0.041955900485397504,0.033385408375082776,0.041893893381671016,0.042137499247484986,0.04205452767799847,0.04211652028887429,0.0419672428132168,0.042075902402913166,0.0419928550246699,0.020232835448174717,0.04190567383951148,0.04202895002641994,0.040888514304442125,0.03409400731777338,0.042019830678910484,0.04196267087628073,0.0419361288927225,0.041988101369684554,0.03603438818988642,0.04193598507905136,0.04200617395433924,0.042095192387015416,0.04192867733786254,0.04209221577847625,0.04200395989270675,0.04201786968474547,0.04204074051777226,0.041938723112973524,0.0419472103492315,0.04197578913571179,0.04207363259954765,0.04201752743050519,0.04170146957504566,0.04190371284534635,0.042059088466587985,0.040780133423410456,0.042000445933862034,0.03353258327257365,0.04210983796992909,0.04179105099922466],\"type\":\"scatter\",\"xaxis\":\"x\",\"yaxis\":\"y\"},{\"marker\":{\"color\":[0,1,2,3,4,5,6,7,8,9,10,11,12,13,14,15,16,17,18,19,20,21,22,23,24,25,26,27,28,29,30,31,32,33,34,35,36,37,38,39,40,41,42,43,44,45,46,47,48,49,50,51,52,53,54,55,56,57,58,59,60,61,62,63,64,65,66,67,68,69,70,71,72,73,74,75,76,77,78,79,80,81,82,83,84,85,86,87,88,89,90,91,92,93,94,95,96,97,98,99,100,101,102,103,104,105,106,107,108,109,110,111,112,113,114,115,116,117,118,119,120,121,122,123,124,125,126,127,128,129,130,131,132,133,134,135,136,137,138,139,140,141,142,143,144,145,146,147,148,149,150,151,152,153,154,155,156,157,158,159,160,161,162,163,164,165,166,167,168,169,170,171,172,173,174,175,176,177,178,179,180,181,182,183,184,185,186,187,188,189,190,191,192,193,194,195,196,197,198,199,200,201,202,203,204,205,206,207,208,209,210,211,212,213,214,215,216,217,218,219,220,221,222,223,224,225,226,227,228,229,230,231,232,233,234,235,236,237,238,239,240,241,242,243,244,245,246,247,248,249,250,251,252,253,254,255,256,257,258,259,260,261,262,263,264,265,266,267,268,269,270,271,272,273,274,275,276,277,278,279,280,281,282,283,284,285,286,287,288,289,290,291,292,293,294,295,296,297,298,299],\"colorbar\":{\"title\":{\"text\":\"Trial\"},\"x\":1.0,\"xpad\":40},\"colorscale\":[[0.0,\"rgb(247,251,255)\"],[0.125,\"rgb(222,235,247)\"],[0.25,\"rgb(198,219,239)\"],[0.375,\"rgb(158,202,225)\"],[0.5,\"rgb(107,174,214)\"],[0.625,\"rgb(66,146,198)\"],[0.75,\"rgb(33,113,181)\"],[0.875,\"rgb(8,81,156)\"],[1.0,\"rgb(8,48,107)\"]],\"line\":{\"color\":\"Grey\",\"width\":0.5},\"showscale\":false},\"mode\":\"markers\",\"name\":\"Feasible Trial\",\"showlegend\":false,\"x\":[\"TF-IDF\",\"BM25\",\"TF-IDF\",\"BM25\",\"BM25\",\"BM25\",\"none\",\"none\",\"none\",\"BM25\",\"BM25\",\"BM25\",\"BM25\",\"BM25\",\"BM25\",\"TF-IDF\",\"BM25\",\"BM25\",\"TF-IDF\",\"none\",\"BM25\",\"BM25\",\"BM25\",\"BM25\",\"BM25\",\"BM25\",\"BM25\",\"BM25\",\"TF-IDF\",\"none\",\"TF-IDF\",\"BM25\",\"BM25\",\"BM25\",\"BM25\",\"BM25\",\"BM25\",\"BM25\",\"none\",\"TF-IDF\",\"BM25\",\"BM25\",\"BM25\",\"BM25\",\"BM25\",\"BM25\",\"BM25\",\"none\",\"BM25\",\"BM25\",\"BM25\",\"BM25\",\"BM25\",\"BM25\",\"BM25\",\"BM25\",\"BM25\",\"TF-IDF\",\"BM25\",\"none\",\"BM25\",\"BM25\",\"BM25\",\"BM25\",\"BM25\",\"BM25\",\"BM25\",\"BM25\",\"BM25\",\"TF-IDF\",\"BM25\",\"BM25\",\"BM25\",\"BM25\",\"BM25\",\"BM25\",\"BM25\",\"none\",\"BM25\",\"BM25\",\"BM25\",\"BM25\",\"BM25\",\"BM25\",\"BM25\",\"BM25\",\"BM25\",\"TF-IDF\",\"BM25\",\"BM25\",\"none\",\"BM25\",\"BM25\",\"BM25\",\"BM25\",\"BM25\",\"BM25\",\"BM25\",\"BM25\",\"BM25\",\"BM25\",\"BM25\",\"BM25\",\"BM25\",\"BM25\",\"BM25\",\"TF-IDF\",\"BM25\",\"BM25\",\"BM25\",\"none\",\"BM25\",\"BM25\",\"BM25\",\"BM25\",\"BM25\",\"BM25\",\"BM25\",\"BM25\",\"BM25\",\"BM25\",\"BM25\",\"BM25\",\"BM25\",\"BM25\",\"BM25\",\"BM25\",\"BM25\",\"TF-IDF\",\"BM25\",\"BM25\",\"BM25\",\"BM25\",\"BM25\",\"BM25\",\"BM25\",\"BM25\",\"BM25\",\"none\",\"BM25\",\"BM25\",\"BM25\",\"BM25\",\"BM25\",\"BM25\",\"BM25\",\"BM25\",\"BM25\",\"BM25\",\"BM25\",\"BM25\",\"BM25\",\"BM25\",\"BM25\",\"BM25\",\"BM25\",\"BM25\",\"BM25\",\"BM25\",\"TF-IDF\",\"BM25\",\"BM25\",\"BM25\",\"BM25\",\"BM25\",\"BM25\",\"BM25\",\"BM25\",\"BM25\",\"BM25\",\"none\",\"BM25\",\"BM25\",\"BM25\",\"BM25\",\"BM25\",\"BM25\",\"BM25\",\"BM25\",\"BM25\",\"BM25\",\"BM25\",\"BM25\",\"BM25\",\"BM25\",\"BM25\",\"BM25\",\"BM25\",\"BM25\",\"BM25\",\"BM25\",\"BM25\",\"BM25\",\"BM25\",\"BM25\",\"BM25\",\"BM25\",\"BM25\",\"BM25\",\"TF-IDF\",\"BM25\",\"BM25\",\"BM25\",\"BM25\",\"BM25\",\"BM25\",\"BM25\",\"BM25\",\"BM25\",\"none\",\"BM25\",\"BM25\",\"BM25\",\"BM25\",\"BM25\",\"BM25\",\"BM25\",\"BM25\",\"BM25\",\"BM25\",\"BM25\",\"BM25\",\"BM25\",\"BM25\",\"BM25\",\"BM25\",\"BM25\",\"BM25\",\"BM25\",\"BM25\",\"BM25\",\"BM25\",\"BM25\",\"BM25\",\"BM25\",\"BM25\",\"BM25\",\"BM25\",\"BM25\",\"TF-IDF\",\"BM25\",\"BM25\",\"BM25\",\"BM25\",\"BM25\",\"BM25\",\"BM25\",\"BM25\",\"BM25\",\"BM25\",\"BM25\",\"BM25\",\"none\",\"BM25\",\"BM25\",\"BM25\",\"BM25\",\"BM25\",\"BM25\",\"BM25\",\"BM25\",\"BM25\",\"BM25\",\"BM25\",\"BM25\",\"BM25\",\"BM25\",\"TF-IDF\",\"BM25\",\"BM25\",\"BM25\",\"BM25\",\"BM25\",\"BM25\",\"none\",\"BM25\",\"BM25\",\"BM25\",\"BM25\",\"BM25\",\"BM25\",\"BM25\",\"BM25\",\"BM25\",\"BM25\",\"BM25\",\"BM25\",\"BM25\",\"BM25\",\"TF-IDF\",\"BM25\",\"BM25\",\"BM25\",\"BM25\",\"BM25\",\"BM25\",\"BM25\",\"none\",\"BM25\",\"BM25\"],\"y\":[0.03254622104495577,0.03874528034747028,0.034677297729972564,0.03159333953181333,0.026739999375692214,0.041902430785488554,0.03409058923470939,0.036222733931329354,0.03211180899760663,0.04030194850801526,0.03809273863593141,0.04031498204001211,0.03823967384397087,0.04108670738042685,0.04126561381681331,0.034692973420111066,0.037906156562918715,0.0020531865319054557,0.034977604086536745,0.03422973509298715,0.0388622075509967,0.041084880166421006,0.040662538433923395,0.04108749891303472,0.04149844926498809,0.03911652586304754,0.03771604603821067,0.040205511965518706,0.026166886289093992,0.03508903181069101,0.03526864951158956,0.041160635411160676,0.04182318499343213,0.04028779122268228,0.04170257660586202,0.0034440118885967867,0.0035519713621272667,0.03838532141797899,0.03326002626550338,0.034520176277655044,0.04026411101969296,0.041274718671472296,0.041431235883404645,0.04145224605738573,0.041579562405098094,0.04189178076999254,0.041751143262941035,0.03598931988396662,0.041882518723646504,0.041875865390402334,0.04186220643616201,0.041900239020549415,0.04186963123499006,0.04190910084125281,0.04125977431287001,0.04128363734874357,0.038816023295583806,0.03488008058024793,0.04038268817851492,0.03344375770629343,0.04119005812747766,0.04197485601910215,0.04169502248621356,0.041652696673554826,0.03826017899785119,0.041652708936736095,0.041683889747310014,0.04109794045444958,0.04073745309333037,0.03365916717391531,0.03921264356283158,0.04190060803082148,0.041886003696790026,0.04144512003424633,0.03100992091362841,0.04181929645014186,0.03833472687665538,0.033359499617610575,0.04110557261252417,0.04139225791922664,0.03344343886358115,0.04180611241546601,0.0419706430589264,0.041851376932285626,0.04206425126589312,0.037303947406558874,0.003558758475530478,0.03195654820433504,0.04184775929381763,0.04160655924119743,0.03348936447735325,0.04193944775550179,0.041972896139771926,0.03883970126890356,0.04121414970445579,0.0417806663143772,0.04176221022659984,0.0418451104466682,0.041477078999412054,0.04150422633819027,0.03861950470125619,0.04185597896975741,0.04184394321478032,0.04180771108836697,0.041832738011623904,0.041462601756531985,0.03378305874955574,0.003501987750196754,0.04132586171144784,0.041605223669276256,0.03327923040733716,0.041854104932695806,0.041883017054738986,0.04181208904407249,0.0407666071344945,0.04185476268514464,0.0389694970088971,0.04148171671159304,0.04154852652302985,0.04190036499686585,0.04196241892364789,0.04193299397766153,0.04194392270182253,0.04132961535974449,0.04187314407900013,0.0418264403106359,0.041444510219687855,0.04189626463499059,0.03434007362367977,0.03062242891256731,0.03980672668936313,0.04190857909863236,0.04188897696082519,0.0410397984824854,0.04207710530950998,0.041886660334404247,0.04067574365045768,0.032260801075591525,0.034811587368476254,0.04171263798865833,0.04196426286017356,0.041963460179219245,0.04195499635448899,0.04191515662311958,0.04178780237102874,0.04177986251858824,0.04152382067215458,0.04186484413496481,0.04194671982198149,0.04193812556159634,0.04154516306686392,0.0420391173185089,0.04196416363988893,0.04198678697962158,0.041984944157930436,0.0419744914681689,0.04195584697333395,0.03959842986686479,0.04199382493082307,0.034231757403058234,0.04200912157717738,0.042009245323824565,0.042006961027608564,0.04202834467120022,0.04201387857666663,0.042021215303556715,0.042047012577563,0.0420524574300369,0.042053961341991755,0.042030934432112706,0.03351330778132185,0.042053961341991755,0.042021626677545845,0.042006812754598666,0.04202620084415115,0.04193818687750252,0.03923681540790523,0.04203366243252298,0.03854816420176569,0.04208528819590605,0.003625169176159466,0.0420866404903472,0.04207809639752158,0.0420365710361481,0.04208557916775199,0.042076688361347495,0.04206508962155662,0.042007927589257706,0.042028538652430864,0.042046231078467174,0.04207366492975273,0.042030941121120706,0.04204430687384594,0.04203803369922049,0.04206293464616103,0.04205196467311778,0.042045817474808775,0.03946070430794266,0.042070785311828854,0.03455507617665103,0.041809925149999524,0.042064271332917076,0.04207750664998715,0.04206673846201716,0.04206501827213842,0.041942552570026895,0.03936424992809172,0.040208486344389054,0.04194855595466478,0.03367279045344677,0.04208858030265364,0.04209596719710334,0.042043332508354195,0.04200219733911098,0.03841783891530915,0.04191782665212779,0.03934110930507737,0.04207959696497248,0.04209729496518213,0.039375620126777505,0.04199997324396669,0.04201757982773419,0.042059726152012776,0.042009354577621,0.041971225002618184,0.04198847929863374,0.04213470993116841,0.03110843662276363,0.042099782161306144,0.042081143240644416,0.041976466955184345,0.04209703855321064,0.03943481784716368,0.042106951662997334,0.041987898469776345,0.04195662178342169,0.04198446477902696,0.0379828081347244,0.042063946916031304,0.034635249511143815,0.04211236084076214,0.04211721260119756,0.04192527932182225,0.041962173660022875,0.042089754223549554,0.04205420995012077,0.03949670120424293,0.0420999605348515,0.04160826605306014,0.04210800295208054,0.042027002410271,0.041955900485397504,0.033385408375082776,0.041893893381671016,0.042137499247484986,0.04205452767799847,0.04211652028887429,0.03982545479679753,0.0419672428132168,0.042075902402913166,0.0419928550246699,0.03948126631839076,0.020232835448174717,0.031050411708438704,0.04190567383951148,0.04202895002641994,0.040888514304442125,0.03409400731777338,0.03999549606797676,0.042019830678910484,0.04196267087628073,0.0419361288927225,0.041988101369684554,0.03603438818988642,0.03373527916574584,0.04193598507905136,0.04200617395433924,0.042095192387015416,0.04192867733786254,0.04209221577847625,0.04200395989270675,0.04201786968474547,0.04204074051777226,0.041938723112973524,0.0419472103492315,0.04197578913571179,0.0397814545024812,0.04207363259954765,0.04201752743050519,0.03428345340102499,0.04170146957504566,0.04190371284534635,0.0036001612050916556,0.042059088466587985,0.040780133423410456,0.04174567165443537,0.042000445933862034,0.03353258327257365,0.04210983796992909,0.04179105099922466],\"type\":\"scatter\",\"xaxis\":\"x2\",\"yaxis\":\"y2\"},{\"marker\":{\"color\":[3,17,28,36,74,86,107,137,180,227,263,292],\"colorbar\":{\"title\":{\"text\":\"Trial\"},\"x\":1.0,\"xpad\":40},\"colorscale\":[[0.0,\"rgb(247,251,255)\"],[0.125,\"rgb(222,235,247)\"],[0.25,\"rgb(198,219,239)\"],[0.375,\"rgb(158,202,225)\"],[0.5,\"rgb(107,174,214)\"],[0.625,\"rgb(66,146,198)\"],[0.75,\"rgb(33,113,181)\"],[0.875,\"rgb(8,81,156)\"],[1.0,\"rgb(8,48,107)\"]],\"line\":{\"color\":\"Grey\",\"width\":0.5},\"showscale\":false},\"mode\":\"markers\",\"name\":\"Feasible Trial\",\"showlegend\":false,\"x\":[true,false,true,false,true,false,false,true,false,true,true,false],\"y\":[0.03159333953181333,0.0020531865319054557,0.026166886289093992,0.0035519713621272667,0.03100992091362841,0.003558758475530478,0.003501987750196754,0.032260801075591525,0.003625169176159466,0.03110843662276363,0.031050411708438704,0.0036001612050916556],\"type\":\"scatter\",\"xaxis\":\"x3\",\"yaxis\":\"y3\"},{\"marker\":{\"color\":[3,17,28,36,74,86,107,137,180,227,263,292],\"colorbar\":{\"title\":{\"text\":\"Trial\"},\"x\":1.0,\"xpad\":40},\"colorscale\":[[0.0,\"rgb(247,251,255)\"],[0.125,\"rgb(222,235,247)\"],[0.25,\"rgb(198,219,239)\"],[0.375,\"rgb(158,202,225)\"],[0.5,\"rgb(107,174,214)\"],[0.625,\"rgb(66,146,198)\"],[0.75,\"rgb(33,113,181)\"],[0.875,\"rgb(8,81,156)\"],[1.0,\"rgb(8,48,107)\"]],\"line\":{\"color\":\"Grey\",\"width\":0.5},\"showscale\":false},\"mode\":\"markers\",\"name\":\"Feasible Trial\",\"showlegend\":false,\"x\":[true,false,false,true,false,true,true,false,false,true,true,false],\"y\":[0.03159333953181333,0.0020531865319054557,0.026166886289093992,0.0035519713621272667,0.03100992091362841,0.003558758475530478,0.003501987750196754,0.032260801075591525,0.003625169176159466,0.03110843662276363,0.031050411708438704,0.0036001612050916556],\"type\":\"scatter\",\"xaxis\":\"x4\",\"yaxis\":\"y4\"},{\"marker\":{\"color\":[0,1,2,3,4,5,6,7,8,9,10,11,12,13,14,15,16,17,18,19,20,21,22,23,24,25,26,27,28,29,30,31,32,33,34,35,36,37,38,39,40,41,42,43,44,45,46,47,48,49,50,51,52,53,54,55,56,57,58,59,60,61,62,63,64,65,66,67,68,69,70,71,72,73,74,75,76,77,78,79,80,81,82,83,84,85,86,87,88,89,90,91,92,93,94,95,96,97,98,99,100,101,102,103,104,105,106,107,108,109,110,111,112,113,114,115,116,117,118,119,120,121,122,123,124,125,126,127,128,129,130,131,132,133,134,135,136,137,138,139,140,141,142,143,144,145,146,147,148,149,150,151,152,153,154,155,156,157,158,159,160,161,162,163,164,165,166,167,168,169,170,171,172,173,174,175,176,177,178,179,180,181,182,183,184,185,186,187,188,189,190,191,192,193,194,195,196,197,198,199,200,201,202,203,204,205,206,207,208,209,210,211,212,213,214,215,216,217,218,219,220,221,222,223,224,225,226,227,228,229,230,231,232,233,234,235,236,237,238,239,240,241,242,243,244,245,246,247,248,249,250,251,252,253,254,255,256,257,258,259,260,261,262,263,264,265,266,267,268,269,270,271,272,273,274,275,276,277,278,279,280,281,282,283,284,285,286,287,288,289,290,291,292,293,294,295,296,297,298,299],\"colorbar\":{\"title\":{\"text\":\"Trial\"},\"x\":1.0,\"xpad\":40},\"colorscale\":[[0.0,\"rgb(247,251,255)\"],[0.125,\"rgb(222,235,247)\"],[0.25,\"rgb(198,219,239)\"],[0.375,\"rgb(158,202,225)\"],[0.5,\"rgb(107,174,214)\"],[0.625,\"rgb(66,146,198)\"],[0.75,\"rgb(33,113,181)\"],[0.875,\"rgb(8,81,156)\"],[1.0,\"rgb(8,48,107)\"]],\"line\":{\"color\":\"Grey\",\"width\":0.5},\"showscale\":false},\"mode\":\"markers\",\"name\":\"Feasible Trial\",\"showlegend\":false,\"x\":[594,459,579,150,634,96,176,22,603,372,912,328,308,13,9,151,863,232,66,444,798,4,98,243,247,226,96,372,102,289,166,237,76,53,139,138,200,542,427,133,679,42,53,79,281,269,363,355,407,407,503,502,484,410,407,554,633,477,398,506,329,451,452,688,541,596,428,323,388,994,276,477,521,510,565,446,525,633,471,584,191,423,343,356,300,333,269,466,216,303,376,426,346,255,345,425,299,484,377,388,437,520,315,493,456,535,348,410,614,564,674,405,463,456,494,112,366,168,434,30,15,13,29,16,1,37,66,30,75,111,59,35,22,0,45,96,45,82,32,22,123,124,126,142,132,156,122,205,85,90,91,141,151,60,114,183,177,165,173,192,187,175,181,224,222,228,214,228,214,229,223,214,244,261,250,237,262,208,245,216,207,215,222,230,228,228,233,285,245,211,200,214,214,205,204,204,199,207,202,196,278,196,199,191,194,160,262,191,238,163,190,195,189,232,182,197,219,259,253,295,271,250,241,252,234,272,171,163,178,179,171,185,147,183,184,181,155,190,164,163,145,148,147,184,194,141,197,174,783,175,167,139,173,223,152,150,175,133,173,158,158,138,116,173,157,175,210,188,109,148,181,218,155,202,132,177,224,190,167,188,249,196,222,185,213,243,131,180,207,153,231,193,265,171,105,201,223,180,148,125],\"y\":[0.03254622104495577,0.03874528034747028,0.034677297729972564,0.03159333953181333,0.026739999375692214,0.041902430785488554,0.03409058923470939,0.036222733931329354,0.03211180899760663,0.04030194850801526,0.03809273863593141,0.04031498204001211,0.03823967384397087,0.04108670738042685,0.04126561381681331,0.034692973420111066,0.037906156562918715,0.0020531865319054557,0.034977604086536745,0.03422973509298715,0.0388622075509967,0.041084880166421006,0.040662538433923395,0.04108749891303472,0.04149844926498809,0.03911652586304754,0.03771604603821067,0.040205511965518706,0.026166886289093992,0.03508903181069101,0.03526864951158956,0.041160635411160676,0.04182318499343213,0.04028779122268228,0.04170257660586202,0.0034440118885967867,0.0035519713621272667,0.03838532141797899,0.03326002626550338,0.034520176277655044,0.04026411101969296,0.041274718671472296,0.041431235883404645,0.04145224605738573,0.041579562405098094,0.04189178076999254,0.041751143262941035,0.03598931988396662,0.041882518723646504,0.041875865390402334,0.04186220643616201,0.041900239020549415,0.04186963123499006,0.04190910084125281,0.04125977431287001,0.04128363734874357,0.038816023295583806,0.03488008058024793,0.04038268817851492,0.03344375770629343,0.04119005812747766,0.04197485601910215,0.04169502248621356,0.041652696673554826,0.03826017899785119,0.041652708936736095,0.041683889747310014,0.04109794045444958,0.04073745309333037,0.03365916717391531,0.03921264356283158,0.04190060803082148,0.041886003696790026,0.04144512003424633,0.03100992091362841,0.04181929645014186,0.03833472687665538,0.033359499617610575,0.04110557261252417,0.04139225791922664,0.03344343886358115,0.04180611241546601,0.0419706430589264,0.041851376932285626,0.04206425126589312,0.037303947406558874,0.003558758475530478,0.03195654820433504,0.04184775929381763,0.04160655924119743,0.03348936447735325,0.04193944775550179,0.041972896139771926,0.03883970126890356,0.04121414970445579,0.0417806663143772,0.04176221022659984,0.0418451104466682,0.041477078999412054,0.04150422633819027,0.03861950470125619,0.04185597896975741,0.04184394321478032,0.04180771108836697,0.041832738011623904,0.041462601756531985,0.03378305874955574,0.003501987750196754,0.04132586171144784,0.041605223669276256,0.03327923040733716,0.041854104932695806,0.041883017054738986,0.04181208904407249,0.0407666071344945,0.04185476268514464,0.0389694970088971,0.04148171671159304,0.04154852652302985,0.04190036499686585,0.04196241892364789,0.04193299397766153,0.04194392270182253,0.04132961535974449,0.04187314407900013,0.0418264403106359,0.041444510219687855,0.04189626463499059,0.03434007362367977,0.03062242891256731,0.03980672668936313,0.04190857909863236,0.04188897696082519,0.0410397984824854,0.04207710530950998,0.041886660334404247,0.04067574365045768,0.032260801075591525,0.034811587368476254,0.04171263798865833,0.04196426286017356,0.041963460179219245,0.04195499635448899,0.04191515662311958,0.04178780237102874,0.04177986251858824,0.04152382067215458,0.04186484413496481,0.04194671982198149,0.04193812556159634,0.04154516306686392,0.0420391173185089,0.04196416363988893,0.04198678697962158,0.041984944157930436,0.0419744914681689,0.04195584697333395,0.03959842986686479,0.04199382493082307,0.034231757403058234,0.04200912157717738,0.042009245323824565,0.042006961027608564,0.04202834467120022,0.04201387857666663,0.042021215303556715,0.042047012577563,0.0420524574300369,0.042053961341991755,0.042030934432112706,0.03351330778132185,0.042053961341991755,0.042021626677545845,0.042006812754598666,0.04202620084415115,0.04193818687750252,0.03923681540790523,0.04203366243252298,0.03854816420176569,0.04208528819590605,0.003625169176159466,0.0420866404903472,0.04207809639752158,0.0420365710361481,0.04208557916775199,0.042076688361347495,0.04206508962155662,0.042007927589257706,0.042028538652430864,0.042046231078467174,0.04207366492975273,0.042030941121120706,0.04204430687384594,0.04203803369922049,0.04206293464616103,0.04205196467311778,0.042045817474808775,0.03946070430794266,0.042070785311828854,0.03455507617665103,0.041809925149999524,0.042064271332917076,0.04207750664998715,0.04206673846201716,0.04206501827213842,0.041942552570026895,0.03936424992809172,0.040208486344389054,0.04194855595466478,0.03367279045344677,0.04208858030265364,0.04209596719710334,0.042043332508354195,0.04200219733911098,0.03841783891530915,0.04191782665212779,0.03934110930507737,0.04207959696497248,0.04209729496518213,0.039375620126777505,0.04199997324396669,0.04201757982773419,0.042059726152012776,0.042009354577621,0.041971225002618184,0.04198847929863374,0.04213470993116841,0.03110843662276363,0.042099782161306144,0.042081143240644416,0.041976466955184345,0.04209703855321064,0.03943481784716368,0.042106951662997334,0.041987898469776345,0.04195662178342169,0.04198446477902696,0.0379828081347244,0.042063946916031304,0.034635249511143815,0.04211236084076214,0.04211721260119756,0.04192527932182225,0.041962173660022875,0.042089754223549554,0.04205420995012077,0.03949670120424293,0.0420999605348515,0.04160826605306014,0.04210800295208054,0.042027002410271,0.041955900485397504,0.033385408375082776,0.041893893381671016,0.042137499247484986,0.04205452767799847,0.04211652028887429,0.03982545479679753,0.0419672428132168,0.042075902402913166,0.0419928550246699,0.03948126631839076,0.020232835448174717,0.031050411708438704,0.04190567383951148,0.04202895002641994,0.040888514304442125,0.03409400731777338,0.03999549606797676,0.042019830678910484,0.04196267087628073,0.0419361288927225,0.041988101369684554,0.03603438818988642,0.03373527916574584,0.04193598507905136,0.04200617395433924,0.042095192387015416,0.04192867733786254,0.04209221577847625,0.04200395989270675,0.04201786968474547,0.04204074051777226,0.041938723112973524,0.0419472103492315,0.04197578913571179,0.0397814545024812,0.04207363259954765,0.04201752743050519,0.03428345340102499,0.04170146957504566,0.04190371284534635,0.0036001612050916556,0.042059088466587985,0.040780133423410456,0.04174567165443537,0.042000445933862034,0.03353258327257365,0.04210983796992909,0.04179105099922466],\"type\":\"scatter\",\"xaxis\":\"x5\",\"yaxis\":\"y5\"},{\"marker\":{\"color\":[0,1,2,3,4,5,6,7,8,9,10,11,12,13,14,15,16,17,18,19,20,21,22,23,24,25,26,27,28,29,30,31,32,33,34,35,36,37,38,39,40,41,42,43,44,45,46,47,48,49,50,51,52,53,54,55,56,57,58,59,60,61,62,63,64,65,66,67,68,69,70,71,72,73,74,75,76,77,78,79,80,81,82,83,84,85,86,87,88,89,90,91,92,93,94,95,96,97,98,99,100,101,102,103,104,105,106,107,108,109,110,111,112,113,114,115,116,117,118,119,120,121,122,123,124,125,126,127,128,129,130,131,132,133,134,135,136,137,138,139,140,141,142,143,144,145,146,147,148,149,150,151,152,153,154,155,156,157,158,159,160,161,162,163,164,165,166,167,168,169,170,171,172,173,174,175,176,177,178,179,180,181,182,183,184,185,186,187,188,189,190,191,192,193,194,195,196,197,198,199,200,201,202,203,204,205,206,207,208,209,210,211,212,213,214,215,216,217,218,219,220,221,222,223,224,225,226,227,228,229,230,231,232,233,234,235,236,237,238,239,240,241,242,243,244,245,246,247,248,249,250,251,252,253,254,255,256,257,258,259,260,261,262,263,264,265,266,267,268,269,270,271,272,273,274,275,276,277,278,279,280,281,282,283,284,285,286,287,288,289,290,291,292,293,294,295,296,297,298,299],\"colorbar\":{\"title\":{\"text\":\"Trial\"},\"x\":1.0,\"xpad\":40},\"colorscale\":[[0.0,\"rgb(247,251,255)\"],[0.125,\"rgb(222,235,247)\"],[0.25,\"rgb(198,219,239)\"],[0.375,\"rgb(158,202,225)\"],[0.5,\"rgb(107,174,214)\"],[0.625,\"rgb(66,146,198)\"],[0.75,\"rgb(33,113,181)\"],[0.875,\"rgb(8,81,156)\"],[1.0,\"rgb(8,48,107)\"]],\"line\":{\"color\":\"Grey\",\"width\":0.5},\"showscale\":false},\"mode\":\"markers\",\"name\":\"Feasible Trial\",\"showlegend\":false,\"x\":[\"asymmetric\",\"dice\",\"dice\",\"euclidean\",\"tversky\",\"cosine\",\"cosine\",\"dice\",\"asymmetric\",\"cosine\",\"jaccard\",\"cosine\",\"cosine\",\"cosine\",\"cosine\",\"tversky\",\"jaccard\",\"euclidean\",\"cosine\",\"cosine\",\"cosine\",\"cosine\",\"cosine\",\"cosine\",\"cosine\",\"jaccard\",\"tversky\",\"asymmetric\",\"euclidean\",\"asymmetric\",\"cosine\",\"cosine\",\"cosine\",\"dice\",\"cosine\",\"cosine\",\"euclidean\",\"dice\",\"cosine\",\"tversky\",\"cosine\",\"cosine\",\"cosine\",\"cosine\",\"cosine\",\"asymmetric\",\"asymmetric\",\"asymmetric\",\"asymmetric\",\"asymmetric\",\"asymmetric\",\"asymmetric\",\"asymmetric\",\"asymmetric\",\"asymmetric\",\"asymmetric\",\"asymmetric\",\"asymmetric\",\"asymmetric\",\"asymmetric\",\"asymmetric\",\"asymmetric\",\"asymmetric\",\"asymmetric\",\"jaccard\",\"asymmetric\",\"asymmetric\",\"asymmetric\",\"asymmetric\",\"dice\",\"tversky\",\"asymmetric\",\"asymmetric\",\"asymmetric\",\"euclidean\",\"asymmetric\",\"jaccard\",\"asymmetric\",\"asymmetric\",\"asymmetric\",\"dice\",\"asymmetric\",\"asymmetric\",\"asymmetric\",\"asymmetric\",\"tversky\",\"euclidean\",\"asymmetric\",\"asymmetric\",\"asymmetric\",\"jaccard\",\"asymmetric\",\"asymmetric\",\"asymmetric\",\"asymmetric\",\"asymmetric\",\"asymmetric\",\"asymmetric\",\"asymmetric\",\"asymmetric\",\"dice\",\"asymmetric\",\"asymmetric\",\"asymmetric\",\"asymmetric\",\"asymmetric\",\"tversky\",\"euclidean\",\"asymmetric\",\"asymmetric\",\"asymmetric\",\"asymmetric\",\"asymmetric\",\"asymmetric\",\"asymmetric\",\"asymmetric\",\"jaccard\",\"asymmetric\",\"asymmetric\",\"asymmetric\",\"asymmetric\",\"asymmetric\",\"asymmetric\",\"asymmetric\",\"asymmetric\",\"asymmetric\",\"cosine\",\"asymmetric\",\"dice\",\"asymmetric\",\"tversky\",\"asymmetric\",\"asymmetric\",\"asymmetric\",\"asymmetric\",\"asymmetric\",\"asymmetric\",\"euclidean\",\"asymmetric\",\"cosine\",\"asymmetric\",\"asymmetric\",\"asymmetric\",\"asymmetric\",\"asymmetric\",\"asymmetric\",\"asymmetric\",\"asymmetric\",\"asymmetric\",\"asymmetric\",\"asymmetric\",\"asymmetric\",\"asymmetric\",\"asymmetric\",\"asymmetric\",\"asymmetric\",\"asymmetric\",\"jaccard\",\"asymmetric\",\"asymmetric\",\"asymmetric\",\"asymmetric\",\"asymmetric\",\"asymmetric\",\"asymmetric\",\"asymmetric\",\"asymmetric\",\"asymmetric\",\"asymmetric\",\"asymmetric\",\"asymmetric\",\"asymmetric\",\"asymmetric\",\"asymmetric\",\"asymmetric\",\"asymmetric\",\"dice\",\"asymmetric\",\"tversky\",\"asymmetric\",\"euclidean\",\"asymmetric\",\"asymmetric\",\"asymmetric\",\"asymmetric\",\"asymmetric\",\"asymmetric\",\"asymmetric\",\"asymmetric\",\"asymmetric\",\"asymmetric\",\"asymmetric\",\"asymmetric\",\"asymmetric\",\"asymmetric\",\"asymmetric\",\"asymmetric\",\"jaccard\",\"asymmetric\",\"asymmetric\",\"asymmetric\",\"asymmetric\",\"asymmetric\",\"asymmetric\",\"asymmetric\",\"asymmetric\",\"asymmetric\",\"asymmetric\",\"asymmetric\",\"asymmetric\",\"asymmetric\",\"asymmetric\",\"asymmetric\",\"asymmetric\",\"asymmetric\",\"asymmetric\",\"dice\",\"asymmetric\",\"asymmetric\",\"tversky\",\"asymmetric\",\"asymmetric\",\"asymmetric\",\"asymmetric\",\"asymmetric\",\"asymmetric\",\"asymmetric\",\"euclidean\",\"asymmetric\",\"asymmetric\",\"asymmetric\",\"asymmetric\",\"asymmetric\",\"asymmetric\",\"asymmetric\",\"asymmetric\",\"asymmetric\",\"asymmetric\",\"asymmetric\",\"asymmetric\",\"asymmetric\",\"asymmetric\",\"asymmetric\",\"asymmetric\",\"asymmetric\",\"asymmetric\",\"jaccard\",\"asymmetric\",\"asymmetric\",\"asymmetric\",\"asymmetric\",\"asymmetric\",\"asymmetric\",\"asymmetric\",\"asymmetric\",\"asymmetric\",\"asymmetric\",\"dice\",\"asymmetric\",\"asymmetric\",\"asymmetric\",\"tversky\",\"asymmetric\",\"euclidean\",\"asymmetric\",\"asymmetric\",\"asymmetric\",\"asymmetric\",\"cosine\",\"asymmetric\",\"asymmetric\",\"asymmetric\",\"asymmetric\",\"asymmetric\",\"jaccard\",\"asymmetric\",\"asymmetric\",\"asymmetric\",\"asymmetric\",\"asymmetric\",\"asymmetric\",\"asymmetric\",\"asymmetric\",\"asymmetric\",\"asymmetric\",\"asymmetric\",\"dice\",\"asymmetric\",\"asymmetric\",\"tversky\",\"asymmetric\",\"asymmetric\",\"euclidean\",\"asymmetric\",\"asymmetric\",\"cosine\",\"asymmetric\",\"asymmetric\",\"asymmetric\",\"asymmetric\"],\"y\":[0.03254622104495577,0.03874528034747028,0.034677297729972564,0.03159333953181333,0.026739999375692214,0.041902430785488554,0.03409058923470939,0.036222733931329354,0.03211180899760663,0.04030194850801526,0.03809273863593141,0.04031498204001211,0.03823967384397087,0.04108670738042685,0.04126561381681331,0.034692973420111066,0.037906156562918715,0.0020531865319054557,0.034977604086536745,0.03422973509298715,0.0388622075509967,0.041084880166421006,0.040662538433923395,0.04108749891303472,0.04149844926498809,0.03911652586304754,0.03771604603821067,0.040205511965518706,0.026166886289093992,0.03508903181069101,0.03526864951158956,0.041160635411160676,0.04182318499343213,0.04028779122268228,0.04170257660586202,0.0034440118885967867,0.0035519713621272667,0.03838532141797899,0.03326002626550338,0.034520176277655044,0.04026411101969296,0.041274718671472296,0.041431235883404645,0.04145224605738573,0.041579562405098094,0.04189178076999254,0.041751143262941035,0.03598931988396662,0.041882518723646504,0.041875865390402334,0.04186220643616201,0.041900239020549415,0.04186963123499006,0.04190910084125281,0.04125977431287001,0.04128363734874357,0.038816023295583806,0.03488008058024793,0.04038268817851492,0.03344375770629343,0.04119005812747766,0.04197485601910215,0.04169502248621356,0.041652696673554826,0.03826017899785119,0.041652708936736095,0.041683889747310014,0.04109794045444958,0.04073745309333037,0.03365916717391531,0.03921264356283158,0.04190060803082148,0.041886003696790026,0.04144512003424633,0.03100992091362841,0.04181929645014186,0.03833472687665538,0.033359499617610575,0.04110557261252417,0.04139225791922664,0.03344343886358115,0.04180611241546601,0.0419706430589264,0.041851376932285626,0.04206425126589312,0.037303947406558874,0.003558758475530478,0.03195654820433504,0.04184775929381763,0.04160655924119743,0.03348936447735325,0.04193944775550179,0.041972896139771926,0.03883970126890356,0.04121414970445579,0.0417806663143772,0.04176221022659984,0.0418451104466682,0.041477078999412054,0.04150422633819027,0.03861950470125619,0.04185597896975741,0.04184394321478032,0.04180771108836697,0.041832738011623904,0.041462601756531985,0.03378305874955574,0.003501987750196754,0.04132586171144784,0.041605223669276256,0.03327923040733716,0.041854104932695806,0.041883017054738986,0.04181208904407249,0.0407666071344945,0.04185476268514464,0.0389694970088971,0.04148171671159304,0.04154852652302985,0.04190036499686585,0.04196241892364789,0.04193299397766153,0.04194392270182253,0.04132961535974449,0.04187314407900013,0.0418264403106359,0.041444510219687855,0.04189626463499059,0.03434007362367977,0.03062242891256731,0.03980672668936313,0.04190857909863236,0.04188897696082519,0.0410397984824854,0.04207710530950998,0.041886660334404247,0.04067574365045768,0.032260801075591525,0.034811587368476254,0.04171263798865833,0.04196426286017356,0.041963460179219245,0.04195499635448899,0.04191515662311958,0.04178780237102874,0.04177986251858824,0.04152382067215458,0.04186484413496481,0.04194671982198149,0.04193812556159634,0.04154516306686392,0.0420391173185089,0.04196416363988893,0.04198678697962158,0.041984944157930436,0.0419744914681689,0.04195584697333395,0.03959842986686479,0.04199382493082307,0.034231757403058234,0.04200912157717738,0.042009245323824565,0.042006961027608564,0.04202834467120022,0.04201387857666663,0.042021215303556715,0.042047012577563,0.0420524574300369,0.042053961341991755,0.042030934432112706,0.03351330778132185,0.042053961341991755,0.042021626677545845,0.042006812754598666,0.04202620084415115,0.04193818687750252,0.03923681540790523,0.04203366243252298,0.03854816420176569,0.04208528819590605,0.003625169176159466,0.0420866404903472,0.04207809639752158,0.0420365710361481,0.04208557916775199,0.042076688361347495,0.04206508962155662,0.042007927589257706,0.042028538652430864,0.042046231078467174,0.04207366492975273,0.042030941121120706,0.04204430687384594,0.04203803369922049,0.04206293464616103,0.04205196467311778,0.042045817474808775,0.03946070430794266,0.042070785311828854,0.03455507617665103,0.041809925149999524,0.042064271332917076,0.04207750664998715,0.04206673846201716,0.04206501827213842,0.041942552570026895,0.03936424992809172,0.040208486344389054,0.04194855595466478,0.03367279045344677,0.04208858030265364,0.04209596719710334,0.042043332508354195,0.04200219733911098,0.03841783891530915,0.04191782665212779,0.03934110930507737,0.04207959696497248,0.04209729496518213,0.039375620126777505,0.04199997324396669,0.04201757982773419,0.042059726152012776,0.042009354577621,0.041971225002618184,0.04198847929863374,0.04213470993116841,0.03110843662276363,0.042099782161306144,0.042081143240644416,0.041976466955184345,0.04209703855321064,0.03943481784716368,0.042106951662997334,0.041987898469776345,0.04195662178342169,0.04198446477902696,0.0379828081347244,0.042063946916031304,0.034635249511143815,0.04211236084076214,0.04211721260119756,0.04192527932182225,0.041962173660022875,0.042089754223549554,0.04205420995012077,0.03949670120424293,0.0420999605348515,0.04160826605306014,0.04210800295208054,0.042027002410271,0.041955900485397504,0.033385408375082776,0.041893893381671016,0.042137499247484986,0.04205452767799847,0.04211652028887429,0.03982545479679753,0.0419672428132168,0.042075902402913166,0.0419928550246699,0.03948126631839076,0.020232835448174717,0.031050411708438704,0.04190567383951148,0.04202895002641994,0.040888514304442125,0.03409400731777338,0.03999549606797676,0.042019830678910484,0.04196267087628073,0.0419361288927225,0.041988101369684554,0.03603438818988642,0.03373527916574584,0.04193598507905136,0.04200617395433924,0.042095192387015416,0.04192867733786254,0.04209221577847625,0.04200395989270675,0.04201786968474547,0.04204074051777226,0.041938723112973524,0.0419472103492315,0.04197578913571179,0.0397814545024812,0.04207363259954765,0.04201752743050519,0.03428345340102499,0.04170146957504566,0.04190371284534635,0.0036001612050916556,0.042059088466587985,0.040780133423410456,0.04174567165443537,0.042000445933862034,0.03353258327257365,0.04210983796992909,0.04179105099922466],\"type\":\"scatter\",\"xaxis\":\"x6\",\"yaxis\":\"y6\"},{\"marker\":{\"color\":[3,17,28,36,74,86,107,137,180,227,263,292],\"colorbar\":{\"title\":{\"text\":\"Trial\"},\"x\":1.0,\"xpad\":40},\"colorscale\":[[0.0,\"rgb(247,251,255)\"],[0.125,\"rgb(222,235,247)\"],[0.25,\"rgb(198,219,239)\"],[0.375,\"rgb(158,202,225)\"],[0.5,\"rgb(107,174,214)\"],[0.625,\"rgb(66,146,198)\"],[0.75,\"rgb(33,113,181)\"],[0.875,\"rgb(8,81,156)\"],[1.0,\"rgb(8,48,107)\"]],\"line\":{\"color\":\"Grey\",\"width\":0.5},\"showscale\":false},\"mode\":\"markers\",\"name\":\"Feasible Trial\",\"showlegend\":false,\"x\":[\"log\",\"exp\",\"lin\",\"lin\",\"exp\",\"log\",\"exp\",\"log\",\"lin\",\"lin\",\"exp\",\"log\"],\"y\":[0.03159333953181333,0.0020531865319054557,0.026166886289093992,0.0035519713621272667,0.03100992091362841,0.003558758475530478,0.003501987750196754,0.032260801075591525,0.003625169176159466,0.03110843662276363,0.031050411708438704,0.0036001612050916556],\"type\":\"scatter\",\"xaxis\":\"x7\",\"yaxis\":\"y7\"},{\"marker\":{\"color\":[0,1,2,3,4,5,6,7,8,9,10,11,12,13,14,15,16,17,18,19,20,21,22,23,24,25,26,27,28,29,30,31,32,33,34,35,36,37,38,39,40,41,42,43,44,45,46,47,48,49,50,51,52,53,54,55,56,57,58,59,60,61,62,63,64,65,66,67,68,69,70,71,72,73,74,75,76,77,78,79,80,81,82,83,84,85,86,87,88,89,90,91,92,93,94,95,96,97,98,99,100,101,102,103,104,105,106,107,108,109,110,111,112,113,114,115,116,117,118,119,120,121,122,123,124,125,126,127,128,129,130,131,132,133,134,135,136,137,138,139,140,141,142,143,144,145,146,147,148,149,150,151,152,153,154,155,156,157,158,159,160,161,162,163,164,165,166,167,168,169,170,171,172,173,174,175,176,177,178,179,180,181,182,183,184,185,186,187,188,189,190,191,192,193,194,195,196,197,198,199,200,201,202,203,204,205,206,207,208,209,210,211,212,213,214,215,216,217,218,219,220,221,222,223,224,225,226,227,228,229,230,231,232,233,234,235,236,237,238,239,240,241,242,243,244,245,246,247,248,249,250,251,252,253,254,255,256,257,258,259,260,261,262,263,264,265,266,267,268,269,270,271,272,273,274,275,276,277,278,279,280,281,282,283,284,285,286,287,288,289,290,291,292,293,294,295,296,297,298,299],\"colorbar\":{\"title\":{\"text\":\"Trial\"},\"x\":1.0,\"xpad\":40},\"colorscale\":[[0.0,\"rgb(247,251,255)\"],[0.125,\"rgb(222,235,247)\"],[0.25,\"rgb(198,219,239)\"],[0.375,\"rgb(158,202,225)\"],[0.5,\"rgb(107,174,214)\"],[0.625,\"rgb(66,146,198)\"],[0.75,\"rgb(33,113,181)\"],[0.875,\"rgb(8,81,156)\"],[1.0,\"rgb(8,48,107)\"]],\"line\":{\"color\":\"Grey\",\"width\":0.5},\"showscale\":false},\"mode\":\"markers\",\"name\":\"Feasible Trial\",\"showlegend\":false,\"x\":[344,749,101,606,71,741,617,400,177,466,738,460,258,537,582,638,668,535,698,556,328,535,474,579,670,683,690,740,624,386,649,598,718,747,705,1,725,686,711,661,498,589,630,636,706,750,718,198,741,739,742,745,737,748,657,748,338,680,426,292,612,747,698,715,667,750,685,723,648,730,698,747,750,673,750,714,687,724,701,656,164,731,750,710,748,750,723,675,700,643,727,750,735,690,563,729,709,728,624,670,695,745,735,714,748,709,730,695,750,681,721,736,736,712,500,735,749,717,700,679,678,663,673,599,655,666,635,680,688,69,647,683,665,704,720,721,437,360,614,685,703,703,706,703,702,670,656,715,695,696,698,726,724,729,728,724,722,723,723,730,728,721,728,731,730,733,735,738,735,735,736,735,734,731,736,714,736,738,737,750,717,750,750,740,749,748,748,750,749,750,749,748,747,748,750,750,749,748,748,711,714,747,747,749,743,750,307,750,715,736,750,750,737,717,243,738,715,749,749,721,750,737,748,736,722,750,750,733,750,750,750,750,749,750,726,719,737,725,736,709,750,750,749,737,750,726,749,750,733,750,721,733,749,716,750,731,750,733,712,750,724,750,15,734,708,732,520,750,394,722,735,750,721,156,735,708,737,750,721,750,735,724,750,735,706,736,721,750,730,708,736,720,737,750,466,722,737,736,750,699],\"y\":[0.03254622104495577,0.03874528034747028,0.034677297729972564,0.03159333953181333,0.026739999375692214,0.041902430785488554,0.03409058923470939,0.036222733931329354,0.03211180899760663,0.04030194850801526,0.03809273863593141,0.04031498204001211,0.03823967384397087,0.04108670738042685,0.04126561381681331,0.034692973420111066,0.037906156562918715,0.0020531865319054557,0.034977604086536745,0.03422973509298715,0.0388622075509967,0.041084880166421006,0.040662538433923395,0.04108749891303472,0.04149844926498809,0.03911652586304754,0.03771604603821067,0.040205511965518706,0.026166886289093992,0.03508903181069101,0.03526864951158956,0.041160635411160676,0.04182318499343213,0.04028779122268228,0.04170257660586202,0.0034440118885967867,0.0035519713621272667,0.03838532141797899,0.03326002626550338,0.034520176277655044,0.04026411101969296,0.041274718671472296,0.041431235883404645,0.04145224605738573,0.041579562405098094,0.04189178076999254,0.041751143262941035,0.03598931988396662,0.041882518723646504,0.041875865390402334,0.04186220643616201,0.041900239020549415,0.04186963123499006,0.04190910084125281,0.04125977431287001,0.04128363734874357,0.038816023295583806,0.03488008058024793,0.04038268817851492,0.03344375770629343,0.04119005812747766,0.04197485601910215,0.04169502248621356,0.041652696673554826,0.03826017899785119,0.041652708936736095,0.041683889747310014,0.04109794045444958,0.04073745309333037,0.03365916717391531,0.03921264356283158,0.04190060803082148,0.041886003696790026,0.04144512003424633,0.03100992091362841,0.04181929645014186,0.03833472687665538,0.033359499617610575,0.04110557261252417,0.04139225791922664,0.03344343886358115,0.04180611241546601,0.0419706430589264,0.041851376932285626,0.04206425126589312,0.037303947406558874,0.003558758475530478,0.03195654820433504,0.04184775929381763,0.04160655924119743,0.03348936447735325,0.04193944775550179,0.041972896139771926,0.03883970126890356,0.04121414970445579,0.0417806663143772,0.04176221022659984,0.0418451104466682,0.041477078999412054,0.04150422633819027,0.03861950470125619,0.04185597896975741,0.04184394321478032,0.04180771108836697,0.041832738011623904,0.041462601756531985,0.03378305874955574,0.003501987750196754,0.04132586171144784,0.041605223669276256,0.03327923040733716,0.041854104932695806,0.041883017054738986,0.04181208904407249,0.0407666071344945,0.04185476268514464,0.0389694970088971,0.04148171671159304,0.04154852652302985,0.04190036499686585,0.04196241892364789,0.04193299397766153,0.04194392270182253,0.04132961535974449,0.04187314407900013,0.0418264403106359,0.041444510219687855,0.04189626463499059,0.03434007362367977,0.03062242891256731,0.03980672668936313,0.04190857909863236,0.04188897696082519,0.0410397984824854,0.04207710530950998,0.041886660334404247,0.04067574365045768,0.032260801075591525,0.034811587368476254,0.04171263798865833,0.04196426286017356,0.041963460179219245,0.04195499635448899,0.04191515662311958,0.04178780237102874,0.04177986251858824,0.04152382067215458,0.04186484413496481,0.04194671982198149,0.04193812556159634,0.04154516306686392,0.0420391173185089,0.04196416363988893,0.04198678697962158,0.041984944157930436,0.0419744914681689,0.04195584697333395,0.03959842986686479,0.04199382493082307,0.034231757403058234,0.04200912157717738,0.042009245323824565,0.042006961027608564,0.04202834467120022,0.04201387857666663,0.042021215303556715,0.042047012577563,0.0420524574300369,0.042053961341991755,0.042030934432112706,0.03351330778132185,0.042053961341991755,0.042021626677545845,0.042006812754598666,0.04202620084415115,0.04193818687750252,0.03923681540790523,0.04203366243252298,0.03854816420176569,0.04208528819590605,0.003625169176159466,0.0420866404903472,0.04207809639752158,0.0420365710361481,0.04208557916775199,0.042076688361347495,0.04206508962155662,0.042007927589257706,0.042028538652430864,0.042046231078467174,0.04207366492975273,0.042030941121120706,0.04204430687384594,0.04203803369922049,0.04206293464616103,0.04205196467311778,0.042045817474808775,0.03946070430794266,0.042070785311828854,0.03455507617665103,0.041809925149999524,0.042064271332917076,0.04207750664998715,0.04206673846201716,0.04206501827213842,0.041942552570026895,0.03936424992809172,0.040208486344389054,0.04194855595466478,0.03367279045344677,0.04208858030265364,0.04209596719710334,0.042043332508354195,0.04200219733911098,0.03841783891530915,0.04191782665212779,0.03934110930507737,0.04207959696497248,0.04209729496518213,0.039375620126777505,0.04199997324396669,0.04201757982773419,0.042059726152012776,0.042009354577621,0.041971225002618184,0.04198847929863374,0.04213470993116841,0.03110843662276363,0.042099782161306144,0.042081143240644416,0.041976466955184345,0.04209703855321064,0.03943481784716368,0.042106951662997334,0.041987898469776345,0.04195662178342169,0.04198446477902696,0.0379828081347244,0.042063946916031304,0.034635249511143815,0.04211236084076214,0.04211721260119756,0.04192527932182225,0.041962173660022875,0.042089754223549554,0.04205420995012077,0.03949670120424293,0.0420999605348515,0.04160826605306014,0.04210800295208054,0.042027002410271,0.041955900485397504,0.033385408375082776,0.041893893381671016,0.042137499247484986,0.04205452767799847,0.04211652028887429,0.03982545479679753,0.0419672428132168,0.042075902402913166,0.0419928550246699,0.03948126631839076,0.020232835448174717,0.031050411708438704,0.04190567383951148,0.04202895002641994,0.040888514304442125,0.03409400731777338,0.03999549606797676,0.042019830678910484,0.04196267087628073,0.0419361288927225,0.041988101369684554,0.03603438818988642,0.03373527916574584,0.04193598507905136,0.04200617395433924,0.042095192387015416,0.04192867733786254,0.04209221577847625,0.04200395989270675,0.04201786968474547,0.04204074051777226,0.041938723112973524,0.0419472103492315,0.04197578913571179,0.0397814545024812,0.04207363259954765,0.04201752743050519,0.03428345340102499,0.04170146957504566,0.04190371284534635,0.0036001612050916556,0.042059088466587985,0.040780133423410456,0.04174567165443537,0.042000445933862034,0.03353258327257365,0.04210983796992909,0.04179105099922466],\"type\":\"scatter\",\"xaxis\":\"x8\",\"yaxis\":\"y8\"},{\"marker\":{\"color\":[4,15,26,39,70,85,106,130,178,219,261,289],\"colorbar\":{\"title\":{\"text\":\"Trial\"},\"x\":1.0,\"xpad\":40},\"colorscale\":[[0.0,\"rgb(247,251,255)\"],[0.125,\"rgb(222,235,247)\"],[0.25,\"rgb(198,219,239)\"],[0.375,\"rgb(158,202,225)\"],[0.5,\"rgb(107,174,214)\"],[0.625,\"rgb(66,146,198)\"],[0.75,\"rgb(33,113,181)\"],[0.875,\"rgb(8,81,156)\"],[1.0,\"rgb(8,48,107)\"]],\"line\":{\"color\":\"Grey\",\"width\":0.5},\"showscale\":false},\"mode\":\"markers\",\"name\":\"Feasible Trial\",\"showlegend\":false,\"x\":[0.8064456336953887,1.9795735221337971,0.16341507169380898,1.8244739914935588,1.2203889630955345,0.04630057892253281,0.8238177063197274,1.2458062848298095,0.4644611635608089,1.515951753524085,0.49573885280272223,1.57087022037063],\"y\":[0.026739999375692214,0.034692973420111066,0.03771604603821067,0.034520176277655044,0.03921264356283158,0.037303947406558874,0.03378305874955574,0.03980672668936313,0.03854816420176569,0.039375620126777505,0.03948126631839076,0.03428345340102499],\"type\":\"scatter\",\"xaxis\":\"x9\",\"yaxis\":\"y9\"},{\"marker\":{\"color\":[4,15,26,39,70,85,106,130,178,219,261,289],\"colorbar\":{\"title\":{\"text\":\"Trial\"},\"x\":1.0,\"xpad\":40},\"colorscale\":[[0.0,\"rgb(247,251,255)\"],[0.125,\"rgb(222,235,247)\"],[0.25,\"rgb(198,219,239)\"],[0.375,\"rgb(158,202,225)\"],[0.5,\"rgb(107,174,214)\"],[0.625,\"rgb(66,146,198)\"],[0.75,\"rgb(33,113,181)\"],[0.875,\"rgb(8,81,156)\"],[1.0,\"rgb(8,48,107)\"]],\"line\":{\"color\":\"Grey\",\"width\":0.5},\"showscale\":false},\"mode\":\"markers\",\"name\":\"Feasible Trial\",\"showlegend\":false,\"x\":[1.4381799873210923,0.009711645458283513,1.9502033371328986,0.3194293869751643,0.8245513419237942,0.9775304951078019,1.9895190898831594,1.4199204985700167,0.5245506283860947,1.467132654238107,0.02114765021533982,0.571642353343263],\"y\":[0.026739999375692214,0.034692973420111066,0.03771604603821067,0.034520176277655044,0.03921264356283158,0.037303947406558874,0.03378305874955574,0.03980672668936313,0.03854816420176569,0.039375620126777505,0.03948126631839076,0.03428345340102499],\"type\":\"scatter\",\"xaxis\":\"x10\",\"yaxis\":\"y10\"}],                        {\"template\":{\"data\":{\"histogram2dcontour\":[{\"type\":\"histogram2dcontour\",\"colorbar\":{\"outlinewidth\":0,\"ticks\":\"\"},\"colorscale\":[[0.0,\"#0d0887\"],[0.1111111111111111,\"#46039f\"],[0.2222222222222222,\"#7201a8\"],[0.3333333333333333,\"#9c179e\"],[0.4444444444444444,\"#bd3786\"],[0.5555555555555556,\"#d8576b\"],[0.6666666666666666,\"#ed7953\"],[0.7777777777777778,\"#fb9f3a\"],[0.8888888888888888,\"#fdca26\"],[1.0,\"#f0f921\"]]}],\"choropleth\":[{\"type\":\"choropleth\",\"colorbar\":{\"outlinewidth\":0,\"ticks\":\"\"}}],\"histogram2d\":[{\"type\":\"histogram2d\",\"colorbar\":{\"outlinewidth\":0,\"ticks\":\"\"},\"colorscale\":[[0.0,\"#0d0887\"],[0.1111111111111111,\"#46039f\"],[0.2222222222222222,\"#7201a8\"],[0.3333333333333333,\"#9c179e\"],[0.4444444444444444,\"#bd3786\"],[0.5555555555555556,\"#d8576b\"],[0.6666666666666666,\"#ed7953\"],[0.7777777777777778,\"#fb9f3a\"],[0.8888888888888888,\"#fdca26\"],[1.0,\"#f0f921\"]]}],\"heatmap\":[{\"type\":\"heatmap\",\"colorbar\":{\"outlinewidth\":0,\"ticks\":\"\"},\"colorscale\":[[0.0,\"#0d0887\"],[0.1111111111111111,\"#46039f\"],[0.2222222222222222,\"#7201a8\"],[0.3333333333333333,\"#9c179e\"],[0.4444444444444444,\"#bd3786\"],[0.5555555555555556,\"#d8576b\"],[0.6666666666666666,\"#ed7953\"],[0.7777777777777778,\"#fb9f3a\"],[0.8888888888888888,\"#fdca26\"],[1.0,\"#f0f921\"]]}],\"heatmapgl\":[{\"type\":\"heatmapgl\",\"colorbar\":{\"outlinewidth\":0,\"ticks\":\"\"},\"colorscale\":[[0.0,\"#0d0887\"],[0.1111111111111111,\"#46039f\"],[0.2222222222222222,\"#7201a8\"],[0.3333333333333333,\"#9c179e\"],[0.4444444444444444,\"#bd3786\"],[0.5555555555555556,\"#d8576b\"],[0.6666666666666666,\"#ed7953\"],[0.7777777777777778,\"#fb9f3a\"],[0.8888888888888888,\"#fdca26\"],[1.0,\"#f0f921\"]]}],\"contourcarpet\":[{\"type\":\"contourcarpet\",\"colorbar\":{\"outlinewidth\":0,\"ticks\":\"\"}}],\"contour\":[{\"type\":\"contour\",\"colorbar\":{\"outlinewidth\":0,\"ticks\":\"\"},\"colorscale\":[[0.0,\"#0d0887\"],[0.1111111111111111,\"#46039f\"],[0.2222222222222222,\"#7201a8\"],[0.3333333333333333,\"#9c179e\"],[0.4444444444444444,\"#bd3786\"],[0.5555555555555556,\"#d8576b\"],[0.6666666666666666,\"#ed7953\"],[0.7777777777777778,\"#fb9f3a\"],[0.8888888888888888,\"#fdca26\"],[1.0,\"#f0f921\"]]}],\"surface\":[{\"type\":\"surface\",\"colorbar\":{\"outlinewidth\":0,\"ticks\":\"\"},\"colorscale\":[[0.0,\"#0d0887\"],[0.1111111111111111,\"#46039f\"],[0.2222222222222222,\"#7201a8\"],[0.3333333333333333,\"#9c179e\"],[0.4444444444444444,\"#bd3786\"],[0.5555555555555556,\"#d8576b\"],[0.6666666666666666,\"#ed7953\"],[0.7777777777777778,\"#fb9f3a\"],[0.8888888888888888,\"#fdca26\"],[1.0,\"#f0f921\"]]}],\"mesh3d\":[{\"type\":\"mesh3d\",\"colorbar\":{\"outlinewidth\":0,\"ticks\":\"\"}}],\"scatter\":[{\"fillpattern\":{\"fillmode\":\"overlay\",\"size\":10,\"solidity\":0.2},\"type\":\"scatter\"}],\"parcoords\":[{\"type\":\"parcoords\",\"line\":{\"colorbar\":{\"outlinewidth\":0,\"ticks\":\"\"}}}],\"scatterpolargl\":[{\"type\":\"scatterpolargl\",\"marker\":{\"colorbar\":{\"outlinewidth\":0,\"ticks\":\"\"}}}],\"bar\":[{\"error_x\":{\"color\":\"#2a3f5f\"},\"error_y\":{\"color\":\"#2a3f5f\"},\"marker\":{\"line\":{\"color\":\"#E5ECF6\",\"width\":0.5},\"pattern\":{\"fillmode\":\"overlay\",\"size\":10,\"solidity\":0.2}},\"type\":\"bar\"}],\"scattergeo\":[{\"type\":\"scattergeo\",\"marker\":{\"colorbar\":{\"outlinewidth\":0,\"ticks\":\"\"}}}],\"scatterpolar\":[{\"type\":\"scatterpolar\",\"marker\":{\"colorbar\":{\"outlinewidth\":0,\"ticks\":\"\"}}}],\"histogram\":[{\"marker\":{\"pattern\":{\"fillmode\":\"overlay\",\"size\":10,\"solidity\":0.2}},\"type\":\"histogram\"}],\"scattergl\":[{\"type\":\"scattergl\",\"marker\":{\"colorbar\":{\"outlinewidth\":0,\"ticks\":\"\"}}}],\"scatter3d\":[{\"type\":\"scatter3d\",\"line\":{\"colorbar\":{\"outlinewidth\":0,\"ticks\":\"\"}},\"marker\":{\"colorbar\":{\"outlinewidth\":0,\"ticks\":\"\"}}}],\"scattermapbox\":[{\"type\":\"scattermapbox\",\"marker\":{\"colorbar\":{\"outlinewidth\":0,\"ticks\":\"\"}}}],\"scatterternary\":[{\"type\":\"scatterternary\",\"marker\":{\"colorbar\":{\"outlinewidth\":0,\"ticks\":\"\"}}}],\"scattercarpet\":[{\"type\":\"scattercarpet\",\"marker\":{\"colorbar\":{\"outlinewidth\":0,\"ticks\":\"\"}}}],\"carpet\":[{\"aaxis\":{\"endlinecolor\":\"#2a3f5f\",\"gridcolor\":\"white\",\"linecolor\":\"white\",\"minorgridcolor\":\"white\",\"startlinecolor\":\"#2a3f5f\"},\"baxis\":{\"endlinecolor\":\"#2a3f5f\",\"gridcolor\":\"white\",\"linecolor\":\"white\",\"minorgridcolor\":\"white\",\"startlinecolor\":\"#2a3f5f\"},\"type\":\"carpet\"}],\"table\":[{\"cells\":{\"fill\":{\"color\":\"#EBF0F8\"},\"line\":{\"color\":\"white\"}},\"header\":{\"fill\":{\"color\":\"#C8D4E3\"},\"line\":{\"color\":\"white\"}},\"type\":\"table\"}],\"barpolar\":[{\"marker\":{\"line\":{\"color\":\"#E5ECF6\",\"width\":0.5},\"pattern\":{\"fillmode\":\"overlay\",\"size\":10,\"solidity\":0.2}},\"type\":\"barpolar\"}],\"pie\":[{\"automargin\":true,\"type\":\"pie\"}]},\"layout\":{\"autotypenumbers\":\"strict\",\"colorway\":[\"#636efa\",\"#EF553B\",\"#00cc96\",\"#ab63fa\",\"#FFA15A\",\"#19d3f3\",\"#FF6692\",\"#B6E880\",\"#FF97FF\",\"#FECB52\"],\"font\":{\"color\":\"#2a3f5f\"},\"hovermode\":\"closest\",\"hoverlabel\":{\"align\":\"left\"},\"paper_bgcolor\":\"white\",\"plot_bgcolor\":\"#E5ECF6\",\"polar\":{\"bgcolor\":\"#E5ECF6\",\"angularaxis\":{\"gridcolor\":\"white\",\"linecolor\":\"white\",\"ticks\":\"\"},\"radialaxis\":{\"gridcolor\":\"white\",\"linecolor\":\"white\",\"ticks\":\"\"}},\"ternary\":{\"bgcolor\":\"#E5ECF6\",\"aaxis\":{\"gridcolor\":\"white\",\"linecolor\":\"white\",\"ticks\":\"\"},\"baxis\":{\"gridcolor\":\"white\",\"linecolor\":\"white\",\"ticks\":\"\"},\"caxis\":{\"gridcolor\":\"white\",\"linecolor\":\"white\",\"ticks\":\"\"}},\"coloraxis\":{\"colorbar\":{\"outlinewidth\":0,\"ticks\":\"\"}},\"colorscale\":{\"sequential\":[[0.0,\"#0d0887\"],[0.1111111111111111,\"#46039f\"],[0.2222222222222222,\"#7201a8\"],[0.3333333333333333,\"#9c179e\"],[0.4444444444444444,\"#bd3786\"],[0.5555555555555556,\"#d8576b\"],[0.6666666666666666,\"#ed7953\"],[0.7777777777777778,\"#fb9f3a\"],[0.8888888888888888,\"#fdca26\"],[1.0,\"#f0f921\"]],\"sequentialminus\":[[0.0,\"#0d0887\"],[0.1111111111111111,\"#46039f\"],[0.2222222222222222,\"#7201a8\"],[0.3333333333333333,\"#9c179e\"],[0.4444444444444444,\"#bd3786\"],[0.5555555555555556,\"#d8576b\"],[0.6666666666666666,\"#ed7953\"],[0.7777777777777778,\"#fb9f3a\"],[0.8888888888888888,\"#fdca26\"],[1.0,\"#f0f921\"]],\"diverging\":[[0,\"#8e0152\"],[0.1,\"#c51b7d\"],[0.2,\"#de77ae\"],[0.3,\"#f1b6da\"],[0.4,\"#fde0ef\"],[0.5,\"#f7f7f7\"],[0.6,\"#e6f5d0\"],[0.7,\"#b8e186\"],[0.8,\"#7fbc41\"],[0.9,\"#4d9221\"],[1,\"#276419\"]]},\"xaxis\":{\"gridcolor\":\"white\",\"linecolor\":\"white\",\"ticks\":\"\",\"title\":{\"standoff\":15},\"zerolinecolor\":\"white\",\"automargin\":true,\"zerolinewidth\":2},\"yaxis\":{\"gridcolor\":\"white\",\"linecolor\":\"white\",\"ticks\":\"\",\"title\":{\"standoff\":15},\"zerolinecolor\":\"white\",\"automargin\":true,\"zerolinewidth\":2},\"scene\":{\"xaxis\":{\"backgroundcolor\":\"#E5ECF6\",\"gridcolor\":\"white\",\"linecolor\":\"white\",\"showbackground\":true,\"ticks\":\"\",\"zerolinecolor\":\"white\",\"gridwidth\":2},\"yaxis\":{\"backgroundcolor\":\"#E5ECF6\",\"gridcolor\":\"white\",\"linecolor\":\"white\",\"showbackground\":true,\"ticks\":\"\",\"zerolinecolor\":\"white\",\"gridwidth\":2},\"zaxis\":{\"backgroundcolor\":\"#E5ECF6\",\"gridcolor\":\"white\",\"linecolor\":\"white\",\"showbackground\":true,\"ticks\":\"\",\"zerolinecolor\":\"white\",\"gridwidth\":2}},\"shapedefaults\":{\"line\":{\"color\":\"#2a3f5f\"}},\"annotationdefaults\":{\"arrowcolor\":\"#2a3f5f\",\"arrowhead\":0,\"arrowwidth\":1},\"geo\":{\"bgcolor\":\"white\",\"landcolor\":\"#E5ECF6\",\"subunitcolor\":\"white\",\"showland\":true,\"showlakes\":true,\"lakecolor\":\"white\"},\"title\":{\"x\":0.05},\"mapbox\":{\"style\":\"light\"}}},\"xaxis\":{\"anchor\":\"y\",\"domain\":[0.0,0.082],\"title\":{\"text\":\"asymmetric_alpha\"}},\"yaxis\":{\"anchor\":\"x\",\"domain\":[0.0,1.0],\"title\":{\"text\":\"Objective Value\"}},\"xaxis2\":{\"anchor\":\"y2\",\"domain\":[0.10200000000000001,0.184],\"title\":{\"text\":\"feature_weighting\"},\"type\":\"category\",\"categoryorder\":\"array\",\"categoryarray\":[\"BM25\",\"TF-IDF\",\"none\"]},\"yaxis2\":{\"anchor\":\"x2\",\"domain\":[0.0,1.0],\"matches\":\"y\",\"showticklabels\":false},\"xaxis3\":{\"anchor\":\"y3\",\"domain\":[0.20400000000000001,0.28600000000000003],\"title\":{\"text\":\"normalize\"},\"type\":\"category\",\"categoryorder\":\"array\",\"categoryarray\":[true,false]},\"yaxis3\":{\"anchor\":\"x3\",\"domain\":[0.0,1.0],\"matches\":\"y\",\"showticklabels\":false},\"xaxis4\":{\"anchor\":\"y4\",\"domain\":[0.306,0.388],\"title\":{\"text\":\"normalize_avg_row\"},\"type\":\"category\",\"categoryorder\":\"array\",\"categoryarray\":[true,false]},\"yaxis4\":{\"anchor\":\"x4\",\"domain\":[0.0,1.0],\"matches\":\"y\",\"showticklabels\":false},\"xaxis5\":{\"anchor\":\"y5\",\"domain\":[0.40800000000000003,0.49000000000000005],\"title\":{\"text\":\"shrink\"}},\"yaxis5\":{\"anchor\":\"x5\",\"domain\":[0.0,1.0],\"matches\":\"y\",\"showticklabels\":false},\"xaxis6\":{\"anchor\":\"y6\",\"domain\":[0.51,0.592],\"title\":{\"text\":\"similarity\"},\"type\":\"category\",\"categoryorder\":\"array\",\"categoryarray\":[\"cosine\",\"dice\",\"jaccard\",\"asymmetric\",\"tversky\",\"euclidean\"]},\"yaxis6\":{\"anchor\":\"x6\",\"domain\":[0.0,1.0],\"matches\":\"y\",\"showticklabels\":false},\"xaxis7\":{\"anchor\":\"y7\",\"domain\":[0.6120000000000001,0.6940000000000001],\"title\":{\"text\":\"similarity_from_distance_mode\"},\"type\":\"category\",\"categoryorder\":\"array\",\"categoryarray\":[\"lin\",\"log\",\"exp\"]},\"yaxis7\":{\"anchor\":\"x7\",\"domain\":[0.0,1.0],\"matches\":\"y\",\"showticklabels\":false},\"xaxis8\":{\"anchor\":\"y8\",\"domain\":[0.7140000000000001,0.796],\"title\":{\"text\":\"topK\"}},\"yaxis8\":{\"anchor\":\"x8\",\"domain\":[0.0,1.0],\"matches\":\"y\",\"showticklabels\":false},\"xaxis9\":{\"anchor\":\"y9\",\"domain\":[0.8160000000000001,0.898],\"title\":{\"text\":\"tversky_alpha\"}},\"yaxis9\":{\"anchor\":\"x9\",\"domain\":[0.0,1.0],\"matches\":\"y\",\"showticklabels\":false},\"xaxis10\":{\"anchor\":\"y10\",\"domain\":[0.9179999999999999,0.9999999999999999],\"title\":{\"text\":\"tversky_beta\"}},\"yaxis10\":{\"anchor\":\"x10\",\"domain\":[0.0,1.0],\"matches\":\"y\",\"showticklabels\":false},\"title\":{\"text\":\"Slice Plot\"},\"width\":3000},                        {\"responsive\": true}                    ).then(function(){\n",
       "                            \n",
       "var gd = document.getElementById('3bb5e5dc-f2a2-4f1f-920f-15672f5d50c1');\n",
       "var x = new MutationObserver(function (mutations, observer) {{\n",
       "        var display = window.getComputedStyle(gd).display;\n",
       "        if (!display || display === 'none') {{\n",
       "            console.log([gd, 'removed!']);\n",
       "            Plotly.purge(gd);\n",
       "            observer.disconnect();\n",
       "        }}\n",
       "}});\n",
       "\n",
       "// Listen for the removal of the full notebook cells\n",
       "var notebookContainer = gd.closest('#notebook-container');\n",
       "if (notebookContainer) {{\n",
       "    x.observe(notebookContainer, {childList: true});\n",
       "}}\n",
       "\n",
       "// Listen for the clearing of the current output cell\n",
       "var outputEl = gd.closest('.output');\n",
       "if (outputEl) {{\n",
       "    x.observe(outputEl, {childList: true});\n",
       "}}\n",
       "\n",
       "                        })                };                });            </script>        </div>"
      ]
     },
     "metadata": {},
     "output_type": "display_data"
    }
   ],
   "source": [
    "if not config['tune_parameters']:\n",
    "    optuna_study = optuna.load_study(study_name=f'hyperparameters_tuning_{config[\"model\"]}', storage=f'sqlite:///{config[\"database_path\"]}')\n",
    "    \n",
    "fig = optuna.visualization.plot_slice(optuna_study)\n",
    "fig.show()"
   ]
  },
  {
   "cell_type": "code",
   "execution_count": 15,
   "id": "817080b0",
   "metadata": {
    "execution": {
     "iopub.execute_input": "2024-12-16T02:45:39.652769Z",
     "iopub.status.busy": "2024-12-16T02:45:39.652382Z",
     "iopub.status.idle": "2024-12-16T02:45:45.241184Z",
     "shell.execute_reply": "2024-12-16T02:45:45.239913Z"
    },
    "papermill": {
     "duration": 5.654403,
     "end_time": "2024-12-16T02:45:45.243482",
     "exception": false,
     "start_time": "2024-12-16T02:45:39.589079",
     "status": "completed"
    },
    "tags": []
   },
   "outputs": [
    {
     "data": {
      "text/html": [
       "<div>                            <div id=\"c59c6056-aab7-4f90-9540-86fc6e77ce37\" class=\"plotly-graph-div\" style=\"height:525px; width:100%;\"></div>            <script type=\"text/javascript\">                require([\"plotly\"], function(Plotly) {                    window.PLOTLYENV=window.PLOTLYENV || {};                                    if (document.getElementById(\"c59c6056-aab7-4f90-9540-86fc6e77ce37\")) {                    Plotly.newPlot(                        \"c59c6056-aab7-4f90-9540-86fc6e77ce37\",                        [{\"cliponaxis\":false,\"hovertemplate\":[\"feature_weighting (CategoricalDistribution): 0.010715125609956237\\u003cextra\\u003e\\u003c\\u002fextra\\u003e\",\"topK (IntDistribution): 0.060416166821773996\\u003cextra\\u003e\\u003c\\u002fextra\\u003e\",\"shrink (IntDistribution): 0.18890926074260106\\u003cextra\\u003e\\u003c\\u002fextra\\u003e\",\"similarity (CategoricalDistribution): 0.7399594468256687\\u003cextra\\u003e\\u003c\\u002fextra\\u003e\"],\"name\":\"Objective Value\",\"orientation\":\"h\",\"text\":[\"0.01\",\"0.06\",\"0.19\",\"0.74\"],\"textposition\":\"outside\",\"x\":[0.010715125609956237,0.060416166821773996,0.18890926074260106,0.7399594468256687],\"y\":[\"feature_weighting\",\"topK\",\"shrink\",\"similarity\"],\"type\":\"bar\"}],                        {\"title\":{\"text\":\"Hyperparameter Importances\"},\"xaxis\":{\"title\":{\"text\":\"Hyperparameter Importance\"}},\"yaxis\":{\"title\":{\"text\":\"Hyperparameter\"}},\"template\":{\"data\":{\"histogram2dcontour\":[{\"type\":\"histogram2dcontour\",\"colorbar\":{\"outlinewidth\":0,\"ticks\":\"\"},\"colorscale\":[[0.0,\"#0d0887\"],[0.1111111111111111,\"#46039f\"],[0.2222222222222222,\"#7201a8\"],[0.3333333333333333,\"#9c179e\"],[0.4444444444444444,\"#bd3786\"],[0.5555555555555556,\"#d8576b\"],[0.6666666666666666,\"#ed7953\"],[0.7777777777777778,\"#fb9f3a\"],[0.8888888888888888,\"#fdca26\"],[1.0,\"#f0f921\"]]}],\"choropleth\":[{\"type\":\"choropleth\",\"colorbar\":{\"outlinewidth\":0,\"ticks\":\"\"}}],\"histogram2d\":[{\"type\":\"histogram2d\",\"colorbar\":{\"outlinewidth\":0,\"ticks\":\"\"},\"colorscale\":[[0.0,\"#0d0887\"],[0.1111111111111111,\"#46039f\"],[0.2222222222222222,\"#7201a8\"],[0.3333333333333333,\"#9c179e\"],[0.4444444444444444,\"#bd3786\"],[0.5555555555555556,\"#d8576b\"],[0.6666666666666666,\"#ed7953\"],[0.7777777777777778,\"#fb9f3a\"],[0.8888888888888888,\"#fdca26\"],[1.0,\"#f0f921\"]]}],\"heatmap\":[{\"type\":\"heatmap\",\"colorbar\":{\"outlinewidth\":0,\"ticks\":\"\"},\"colorscale\":[[0.0,\"#0d0887\"],[0.1111111111111111,\"#46039f\"],[0.2222222222222222,\"#7201a8\"],[0.3333333333333333,\"#9c179e\"],[0.4444444444444444,\"#bd3786\"],[0.5555555555555556,\"#d8576b\"],[0.6666666666666666,\"#ed7953\"],[0.7777777777777778,\"#fb9f3a\"],[0.8888888888888888,\"#fdca26\"],[1.0,\"#f0f921\"]]}],\"heatmapgl\":[{\"type\":\"heatmapgl\",\"colorbar\":{\"outlinewidth\":0,\"ticks\":\"\"},\"colorscale\":[[0.0,\"#0d0887\"],[0.1111111111111111,\"#46039f\"],[0.2222222222222222,\"#7201a8\"],[0.3333333333333333,\"#9c179e\"],[0.4444444444444444,\"#bd3786\"],[0.5555555555555556,\"#d8576b\"],[0.6666666666666666,\"#ed7953\"],[0.7777777777777778,\"#fb9f3a\"],[0.8888888888888888,\"#fdca26\"],[1.0,\"#f0f921\"]]}],\"contourcarpet\":[{\"type\":\"contourcarpet\",\"colorbar\":{\"outlinewidth\":0,\"ticks\":\"\"}}],\"contour\":[{\"type\":\"contour\",\"colorbar\":{\"outlinewidth\":0,\"ticks\":\"\"},\"colorscale\":[[0.0,\"#0d0887\"],[0.1111111111111111,\"#46039f\"],[0.2222222222222222,\"#7201a8\"],[0.3333333333333333,\"#9c179e\"],[0.4444444444444444,\"#bd3786\"],[0.5555555555555556,\"#d8576b\"],[0.6666666666666666,\"#ed7953\"],[0.7777777777777778,\"#fb9f3a\"],[0.8888888888888888,\"#fdca26\"],[1.0,\"#f0f921\"]]}],\"surface\":[{\"type\":\"surface\",\"colorbar\":{\"outlinewidth\":0,\"ticks\":\"\"},\"colorscale\":[[0.0,\"#0d0887\"],[0.1111111111111111,\"#46039f\"],[0.2222222222222222,\"#7201a8\"],[0.3333333333333333,\"#9c179e\"],[0.4444444444444444,\"#bd3786\"],[0.5555555555555556,\"#d8576b\"],[0.6666666666666666,\"#ed7953\"],[0.7777777777777778,\"#fb9f3a\"],[0.8888888888888888,\"#fdca26\"],[1.0,\"#f0f921\"]]}],\"mesh3d\":[{\"type\":\"mesh3d\",\"colorbar\":{\"outlinewidth\":0,\"ticks\":\"\"}}],\"scatter\":[{\"fillpattern\":{\"fillmode\":\"overlay\",\"size\":10,\"solidity\":0.2},\"type\":\"scatter\"}],\"parcoords\":[{\"type\":\"parcoords\",\"line\":{\"colorbar\":{\"outlinewidth\":0,\"ticks\":\"\"}}}],\"scatterpolargl\":[{\"type\":\"scatterpolargl\",\"marker\":{\"colorbar\":{\"outlinewidth\":0,\"ticks\":\"\"}}}],\"bar\":[{\"error_x\":{\"color\":\"#2a3f5f\"},\"error_y\":{\"color\":\"#2a3f5f\"},\"marker\":{\"line\":{\"color\":\"#E5ECF6\",\"width\":0.5},\"pattern\":{\"fillmode\":\"overlay\",\"size\":10,\"solidity\":0.2}},\"type\":\"bar\"}],\"scattergeo\":[{\"type\":\"scattergeo\",\"marker\":{\"colorbar\":{\"outlinewidth\":0,\"ticks\":\"\"}}}],\"scatterpolar\":[{\"type\":\"scatterpolar\",\"marker\":{\"colorbar\":{\"outlinewidth\":0,\"ticks\":\"\"}}}],\"histogram\":[{\"marker\":{\"pattern\":{\"fillmode\":\"overlay\",\"size\":10,\"solidity\":0.2}},\"type\":\"histogram\"}],\"scattergl\":[{\"type\":\"scattergl\",\"marker\":{\"colorbar\":{\"outlinewidth\":0,\"ticks\":\"\"}}}],\"scatter3d\":[{\"type\":\"scatter3d\",\"line\":{\"colorbar\":{\"outlinewidth\":0,\"ticks\":\"\"}},\"marker\":{\"colorbar\":{\"outlinewidth\":0,\"ticks\":\"\"}}}],\"scattermapbox\":[{\"type\":\"scattermapbox\",\"marker\":{\"colorbar\":{\"outlinewidth\":0,\"ticks\":\"\"}}}],\"scatterternary\":[{\"type\":\"scatterternary\",\"marker\":{\"colorbar\":{\"outlinewidth\":0,\"ticks\":\"\"}}}],\"scattercarpet\":[{\"type\":\"scattercarpet\",\"marker\":{\"colorbar\":{\"outlinewidth\":0,\"ticks\":\"\"}}}],\"carpet\":[{\"aaxis\":{\"endlinecolor\":\"#2a3f5f\",\"gridcolor\":\"white\",\"linecolor\":\"white\",\"minorgridcolor\":\"white\",\"startlinecolor\":\"#2a3f5f\"},\"baxis\":{\"endlinecolor\":\"#2a3f5f\",\"gridcolor\":\"white\",\"linecolor\":\"white\",\"minorgridcolor\":\"white\",\"startlinecolor\":\"#2a3f5f\"},\"type\":\"carpet\"}],\"table\":[{\"cells\":{\"fill\":{\"color\":\"#EBF0F8\"},\"line\":{\"color\":\"white\"}},\"header\":{\"fill\":{\"color\":\"#C8D4E3\"},\"line\":{\"color\":\"white\"}},\"type\":\"table\"}],\"barpolar\":[{\"marker\":{\"line\":{\"color\":\"#E5ECF6\",\"width\":0.5},\"pattern\":{\"fillmode\":\"overlay\",\"size\":10,\"solidity\":0.2}},\"type\":\"barpolar\"}],\"pie\":[{\"automargin\":true,\"type\":\"pie\"}]},\"layout\":{\"autotypenumbers\":\"strict\",\"colorway\":[\"#636efa\",\"#EF553B\",\"#00cc96\",\"#ab63fa\",\"#FFA15A\",\"#19d3f3\",\"#FF6692\",\"#B6E880\",\"#FF97FF\",\"#FECB52\"],\"font\":{\"color\":\"#2a3f5f\"},\"hovermode\":\"closest\",\"hoverlabel\":{\"align\":\"left\"},\"paper_bgcolor\":\"white\",\"plot_bgcolor\":\"#E5ECF6\",\"polar\":{\"bgcolor\":\"#E5ECF6\",\"angularaxis\":{\"gridcolor\":\"white\",\"linecolor\":\"white\",\"ticks\":\"\"},\"radialaxis\":{\"gridcolor\":\"white\",\"linecolor\":\"white\",\"ticks\":\"\"}},\"ternary\":{\"bgcolor\":\"#E5ECF6\",\"aaxis\":{\"gridcolor\":\"white\",\"linecolor\":\"white\",\"ticks\":\"\"},\"baxis\":{\"gridcolor\":\"white\",\"linecolor\":\"white\",\"ticks\":\"\"},\"caxis\":{\"gridcolor\":\"white\",\"linecolor\":\"white\",\"ticks\":\"\"}},\"coloraxis\":{\"colorbar\":{\"outlinewidth\":0,\"ticks\":\"\"}},\"colorscale\":{\"sequential\":[[0.0,\"#0d0887\"],[0.1111111111111111,\"#46039f\"],[0.2222222222222222,\"#7201a8\"],[0.3333333333333333,\"#9c179e\"],[0.4444444444444444,\"#bd3786\"],[0.5555555555555556,\"#d8576b\"],[0.6666666666666666,\"#ed7953\"],[0.7777777777777778,\"#fb9f3a\"],[0.8888888888888888,\"#fdca26\"],[1.0,\"#f0f921\"]],\"sequentialminus\":[[0.0,\"#0d0887\"],[0.1111111111111111,\"#46039f\"],[0.2222222222222222,\"#7201a8\"],[0.3333333333333333,\"#9c179e\"],[0.4444444444444444,\"#bd3786\"],[0.5555555555555556,\"#d8576b\"],[0.6666666666666666,\"#ed7953\"],[0.7777777777777778,\"#fb9f3a\"],[0.8888888888888888,\"#fdca26\"],[1.0,\"#f0f921\"]],\"diverging\":[[0,\"#8e0152\"],[0.1,\"#c51b7d\"],[0.2,\"#de77ae\"],[0.3,\"#f1b6da\"],[0.4,\"#fde0ef\"],[0.5,\"#f7f7f7\"],[0.6,\"#e6f5d0\"],[0.7,\"#b8e186\"],[0.8,\"#7fbc41\"],[0.9,\"#4d9221\"],[1,\"#276419\"]]},\"xaxis\":{\"gridcolor\":\"white\",\"linecolor\":\"white\",\"ticks\":\"\",\"title\":{\"standoff\":15},\"zerolinecolor\":\"white\",\"automargin\":true,\"zerolinewidth\":2},\"yaxis\":{\"gridcolor\":\"white\",\"linecolor\":\"white\",\"ticks\":\"\",\"title\":{\"standoff\":15},\"zerolinecolor\":\"white\",\"automargin\":true,\"zerolinewidth\":2},\"scene\":{\"xaxis\":{\"backgroundcolor\":\"#E5ECF6\",\"gridcolor\":\"white\",\"linecolor\":\"white\",\"showbackground\":true,\"ticks\":\"\",\"zerolinecolor\":\"white\",\"gridwidth\":2},\"yaxis\":{\"backgroundcolor\":\"#E5ECF6\",\"gridcolor\":\"white\",\"linecolor\":\"white\",\"showbackground\":true,\"ticks\":\"\",\"zerolinecolor\":\"white\",\"gridwidth\":2},\"zaxis\":{\"backgroundcolor\":\"#E5ECF6\",\"gridcolor\":\"white\",\"linecolor\":\"white\",\"showbackground\":true,\"ticks\":\"\",\"zerolinecolor\":\"white\",\"gridwidth\":2}},\"shapedefaults\":{\"line\":{\"color\":\"#2a3f5f\"}},\"annotationdefaults\":{\"arrowcolor\":\"#2a3f5f\",\"arrowhead\":0,\"arrowwidth\":1},\"geo\":{\"bgcolor\":\"white\",\"landcolor\":\"#E5ECF6\",\"subunitcolor\":\"white\",\"showland\":true,\"showlakes\":true,\"lakecolor\":\"white\"},\"title\":{\"x\":0.05},\"mapbox\":{\"style\":\"light\"}}}},                        {\"responsive\": true}                    ).then(function(){\n",
       "                            \n",
       "var gd = document.getElementById('c59c6056-aab7-4f90-9540-86fc6e77ce37');\n",
       "var x = new MutationObserver(function (mutations, observer) {{\n",
       "        var display = window.getComputedStyle(gd).display;\n",
       "        if (!display || display === 'none') {{\n",
       "            console.log([gd, 'removed!']);\n",
       "            Plotly.purge(gd);\n",
       "            observer.disconnect();\n",
       "        }}\n",
       "}});\n",
       "\n",
       "// Listen for the removal of the full notebook cells\n",
       "var notebookContainer = gd.closest('#notebook-container');\n",
       "if (notebookContainer) {{\n",
       "    x.observe(notebookContainer, {childList: true});\n",
       "}}\n",
       "\n",
       "// Listen for the clearing of the current output cell\n",
       "var outputEl = gd.closest('.output');\n",
       "if (outputEl) {{\n",
       "    x.observe(outputEl, {childList: true});\n",
       "}}\n",
       "\n",
       "                        })                };                });            </script>        </div>"
      ]
     },
     "metadata": {},
     "output_type": "display_data"
    }
   ],
   "source": [
    "if not config['tune_parameters']:\n",
    "    optuna_study = optuna.load_study(study_name=f'hyperparameters_tuning_{config[\"model\"]}', storage=f'sqlite:///{config[\"database_path\"]}')\n",
    "    \n",
    "fig = optuna.visualization.plot_param_importances(optuna_study)\n",
    "fig.show()"
   ]
  },
  {
   "cell_type": "markdown",
   "id": "29b0867d",
   "metadata": {
    "papermill": {
     "duration": 0.063132,
     "end_time": "2024-12-16T02:45:45.371836",
     "exception": false,
     "start_time": "2024-12-16T02:45:45.308704",
     "status": "completed"
    },
    "tags": []
   },
   "source": [
    "## Let's train the recommender with best parameter values"
   ]
  },
  {
   "cell_type": "code",
   "execution_count": 16,
   "id": "406649b9",
   "metadata": {
    "execution": {
     "iopub.execute_input": "2024-12-16T02:45:45.502262Z",
     "iopub.status.busy": "2024-12-16T02:45:45.501771Z",
     "iopub.status.idle": "2024-12-16T02:46:01.064261Z",
     "shell.execute_reply": "2024-12-16T02:46:01.062733Z"
    },
    "papermill": {
     "duration": 15.631866,
     "end_time": "2024-12-16T02:46:01.066781",
     "exception": false,
     "start_time": "2024-12-16T02:45:45.434915",
     "status": "completed"
    },
    "tags": []
   },
   "outputs": [
    {
     "name": "stdout",
     "output_type": "stream",
     "text": [
      "Similarity column 35736 (100.0%), 2652.62 column/sec. Elapsed time 13.47 sec\n"
     ]
    }
   ],
   "source": [
    "if config['tune_best_params']:\n",
    "\n",
    "    if config['tune_parameters']:\n",
    "        best_params = optuna_study.best_trial.params\n",
    "    else: \n",
    "        with open(f'{K_PATH}/{GH_PATH}/{config[\"model\"]}Recommender/best_params_{config[\"model\"]}.json', 'r') as best_params_json:\n",
    "            best_params = json.load(best_params_json)\n",
    "\n",
    "    recommender_instance = UserKNNCFRecommender(URM_train + URM_validation)\n",
    "    recommender_instance.fit(**best_params)"
   ]
  },
  {
   "cell_type": "markdown",
   "id": "2093c00c",
   "metadata": {
    "papermill": {
     "duration": 0.063202,
     "end_time": "2024-12-16T02:46:01.194203",
     "exception": false,
     "start_time": "2024-12-16T02:46:01.131001",
     "status": "completed"
    },
    "tags": []
   },
   "source": [
    "# Testing"
   ]
  },
  {
   "cell_type": "markdown",
   "id": "6929c2c4",
   "metadata": {
    "papermill": {
     "duration": 0.061245,
     "end_time": "2024-12-16T02:46:01.321450",
     "exception": false,
     "start_time": "2024-12-16T02:46:01.260205",
     "status": "completed"
    },
    "tags": []
   },
   "source": [
    "Create the recommendations for the submission. "
   ]
  },
  {
   "cell_type": "code",
   "execution_count": 17,
   "id": "c2013c09",
   "metadata": {
    "execution": {
     "iopub.execute_input": "2024-12-16T02:46:01.449556Z",
     "iopub.status.busy": "2024-12-16T02:46:01.449177Z",
     "iopub.status.idle": "2024-12-16T02:47:01.394602Z",
     "shell.execute_reply": "2024-12-16T02:47:01.390936Z"
    },
    "papermill": {
     "duration": 60.166288,
     "end_time": "2024-12-16T02:47:01.551815",
     "exception": false,
     "start_time": "2024-12-16T02:46:01.385527",
     "status": "completed"
    },
    "tags": []
   },
   "outputs": [
    {
     "name": "stdout",
     "output_type": "stream",
     "text": [
      "Submission file saved as /kaggle/working/submission_UserKNNCF.csv\n"
     ]
    }
   ],
   "source": [
    "if config['tune_best_params']:\n",
    "\n",
    "    data_target_users_test = pd.read_csv('/kaggle/input/recommender-system-2024-challenge-polimi/data_target_users_test.csv')\n",
    "    create_submission(data_target_users_test, recommender_instance, f'/kaggle/working/submission_{config[\"model\"]}.csv')"
   ]
  },
  {
   "cell_type": "markdown",
   "id": "afffee99",
   "metadata": {
    "execution": {
     "iopub.execute_input": "2024-11-14T00:04:16.877791Z",
     "iopub.status.busy": "2024-11-14T00:04:16.877275Z",
     "iopub.status.idle": "2024-11-14T00:04:16.883170Z",
     "shell.execute_reply": "2024-11-14T00:04:16.881889Z",
     "shell.execute_reply.started": "2024-11-14T00:04:16.877743Z"
    },
    "papermill": {
     "duration": 0.134397,
     "end_time": "2024-12-16T02:47:01.843456",
     "exception": false,
     "start_time": "2024-12-16T02:47:01.709059",
     "status": "completed"
    },
    "tags": []
   },
   "source": [
    "# Save Version on GitHub "
   ]
  },
  {
   "cell_type": "markdown",
   "id": "d694aff6",
   "metadata": {
    "papermill": {
     "duration": 0.085335,
     "end_time": "2024-12-16T02:47:02.027226",
     "exception": false,
     "start_time": "2024-12-16T02:47:01.941891",
     "status": "completed"
    },
    "tags": []
   },
   "source": [
    "Write or import a json file where best hyperparameters are saved. "
   ]
  },
  {
   "cell_type": "code",
   "execution_count": 18,
   "id": "9da7a082",
   "metadata": {
    "execution": {
     "iopub.execute_input": "2024-12-16T02:47:02.206050Z",
     "iopub.status.busy": "2024-12-16T02:47:02.205359Z",
     "iopub.status.idle": "2024-12-16T02:47:03.296498Z",
     "shell.execute_reply": "2024-12-16T02:47:03.295286Z"
    },
    "papermill": {
     "duration": 1.173385,
     "end_time": "2024-12-16T02:47:03.298961",
     "exception": false,
     "start_time": "2024-12-16T02:47:02.125576",
     "status": "completed"
    },
    "tags": []
   },
   "outputs": [
    {
     "name": "stdout",
     "output_type": "stream",
     "text": [
      "File 'TrainedModels/WithoutKFCV/SingleRecommenders/UserKNNCFRecommender/best_params_UserKNNCF.json' created successfully.\n"
     ]
    }
   ],
   "source": [
    "if config['tune_parameters']:\n",
    "    with open(f'/kaggle/working/best_params_{config[\"model\"]}.json', 'w') as params_file:\n",
    "        json.dump(optuna_study.best_params, params_file)\n",
    "        \n",
    "    if config['save_github']:\n",
    "        upload_file(\n",
    "            f'/kaggle/working/best_params_{config[\"model\"]}.json', \n",
    "            f'{GH_PATH}/{config[\"model\"]}Recommender/best_params_{config[\"model\"]}.json', \n",
    "            f'{config[\"model\"]} tuning results (from kaggle notebook)',\n",
    "            repo\n",
    "        )\n",
    "elif config['copy_prev_best_params']:\n",
    "    shutil.copyfile(\n",
    "        f'{K_PATH}/{GH_PATH}/{config[\"model\"]}Recommender/'\\\n",
    "        f'best_params_{config[\"model\"]}.json', \n",
    "        f'/kaggle/working/best_params_{config[\"model\"]}.json'\n",
    "    )"
   ]
  },
  {
   "cell_type": "markdown",
   "id": "72ae5f12",
   "metadata": {
    "papermill": {
     "duration": 0.062284,
     "end_time": "2024-12-16T02:47:03.425216",
     "exception": false,
     "start_time": "2024-12-16T02:47:03.362932",
     "status": "completed"
    },
    "tags": []
   },
   "source": [
    "Save the history of the tuned model."
   ]
  },
  {
   "cell_type": "code",
   "execution_count": 19,
   "id": "62dc34a0",
   "metadata": {
    "execution": {
     "iopub.execute_input": "2024-12-16T02:47:03.555710Z",
     "iopub.status.busy": "2024-12-16T02:47:03.555286Z",
     "iopub.status.idle": "2024-12-16T02:47:04.943442Z",
     "shell.execute_reply": "2024-12-16T02:47:04.941914Z"
    },
    "papermill": {
     "duration": 1.455184,
     "end_time": "2024-12-16T02:47:04.946050",
     "exception": false,
     "start_time": "2024-12-16T02:47:03.490866",
     "status": "completed"
    },
    "tags": []
   },
   "outputs": [
    {
     "name": "stdout",
     "output_type": "stream",
     "text": [
      "File 'TrainedModels/WithoutKFCV/SingleRecommenders/UserKNNCFRecommender/history_UserKNNCF.db' created successfully.\n"
     ]
    }
   ],
   "source": [
    "if config['save_github'] and config['tune_parameters']:\n",
    "    upload_file(\n",
    "        config['database_path'], \n",
    "        f'{GH_PATH}/{config[\"model\"]}Recommender/history_{config[\"model\"]}.db',\n",
    "        f'Tuning {config[\"model\"]} db updated results (from kaggle notebook)',\n",
    "        repo\n",
    "    )"
   ]
  },
  {
   "cell_type": "markdown",
   "id": "a690de7f",
   "metadata": {
    "execution": {
     "iopub.execute_input": "2024-11-14T00:41:34.294243Z",
     "iopub.status.busy": "2024-11-14T00:41:34.293739Z",
     "iopub.status.idle": "2024-11-14T00:41:34.301478Z",
     "shell.execute_reply": "2024-11-14T00:41:34.299869Z",
     "shell.execute_reply.started": "2024-11-14T00:41:34.294186Z"
    },
    "papermill": {
     "duration": 0.067012,
     "end_time": "2024-12-16T02:47:05.080229",
     "exception": false,
     "start_time": "2024-12-16T02:47:05.013217",
     "status": "completed"
    },
    "tags": []
   },
   "source": [
    "Save the best trained model and its submission."
   ]
  },
  {
   "cell_type": "code",
   "execution_count": 20,
   "id": "8c4d9fd2",
   "metadata": {
    "execution": {
     "iopub.execute_input": "2024-12-16T02:47:05.210688Z",
     "iopub.status.busy": "2024-12-16T02:47:05.210264Z",
     "iopub.status.idle": "2024-12-16T02:47:07.135554Z",
     "shell.execute_reply": "2024-12-16T02:47:07.134162Z"
    },
    "papermill": {
     "duration": 1.993336,
     "end_time": "2024-12-16T02:47:07.138187",
     "exception": false,
     "start_time": "2024-12-16T02:47:05.144851",
     "status": "completed"
    },
    "tags": []
   },
   "outputs": [
    {
     "name": "stdout",
     "output_type": "stream",
     "text": [
      "File 'TrainedModels/WithoutKFCV/SingleRecommenders/UserKNNCFRecommender/Submission/submission_UserKNNCF.csv' created successfully.\n"
     ]
    }
   ],
   "source": [
    "if config['save_github'] and config['tune_best_params']: \n",
    "    upload_file(\n",
    "                f'/kaggle/working/submission_{config[\"model\"]}.csv', \n",
    "                f'{GH_PATH}/{config[\"model\"]}Recommender/Submission/submission_{config[\"model\"]}.csv', \n",
    "                f'New {config[\"model\"]} submission (from kaggle notebook)',\n",
    "                repo\n",
    "            )"
   ]
  }
 ],
 "metadata": {
  "kaggle": {
   "accelerator": "none",
   "dataSources": [
    {
     "databundleVersionId": 9982103,
     "sourceId": 87439,
     "sourceType": "competition"
    }
   ],
   "isGpuEnabled": false,
   "isInternetEnabled": true,
   "language": "python",
   "sourceType": "notebook"
  },
  "kernelspec": {
   "display_name": "Python 3",
   "language": "python",
   "name": "python3"
  },
  "language_info": {
   "codemirror_mode": {
    "name": "ipython",
    "version": 3
   },
   "file_extension": ".py",
   "mimetype": "text/x-python",
   "name": "python",
   "nbconvert_exporter": "python",
   "pygments_lexer": "ipython3",
   "version": "3.10.14"
  },
  "papermill": {
   "default_parameters": {},
   "duration": 22408.523921,
   "end_time": "2024-12-16T02:47:08.530770",
   "environment_variables": {},
   "exception": null,
   "input_path": "__notebook__.ipynb",
   "output_path": "__notebook__.ipynb",
   "parameters": {},
   "start_time": "2024-12-15T20:33:40.006849",
   "version": "2.6.0"
  }
 },
 "nbformat": 4,
 "nbformat_minor": 5
}
