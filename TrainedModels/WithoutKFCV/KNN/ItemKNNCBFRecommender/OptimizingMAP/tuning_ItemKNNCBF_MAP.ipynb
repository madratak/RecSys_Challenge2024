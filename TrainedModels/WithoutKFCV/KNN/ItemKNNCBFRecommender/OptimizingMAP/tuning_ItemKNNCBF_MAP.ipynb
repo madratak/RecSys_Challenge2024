{
 "cells": [
  {
   "cell_type": "markdown",
   "id": "2ff9ad28",
   "metadata": {
    "papermill": {
     "duration": 0.006043,
     "end_time": "2024-12-17T09:24:17.466947",
     "exception": false,
     "start_time": "2024-12-17T09:24:17.460904",
     "status": "completed"
    },
    "tags": []
   },
   "source": [
    "# Set connection with GitHub"
   ]
  },
  {
   "cell_type": "code",
   "execution_count": 1,
   "id": "45bad856",
   "metadata": {
    "execution": {
     "iopub.execute_input": "2024-12-17T09:24:17.480175Z",
     "iopub.status.busy": "2024-12-17T09:24:17.479106Z",
     "iopub.status.idle": "2024-12-17T09:24:17.485537Z",
     "shell.execute_reply": "2024-12-17T09:24:17.484496Z"
    },
    "papermill": {
     "duration": 0.015664,
     "end_time": "2024-12-17T09:24:17.487945",
     "exception": false,
     "start_time": "2024-12-17T09:24:17.472281",
     "status": "completed"
    },
    "tags": []
   },
   "outputs": [],
   "source": [
    "# ! cd /kaggle/working && rm -rf RECsys_Challenge2024"
   ]
  },
  {
   "cell_type": "code",
   "execution_count": 2,
   "id": "f8be12b6",
   "metadata": {
    "_cell_guid": "b1076dfc-b9ad-4769-8c92-a6c4dae69d19",
    "_uuid": "8f2839f25d086af736a60e9eeb907d3b93b6e0e5",
    "execution": {
     "iopub.execute_input": "2024-12-17T09:24:17.503328Z",
     "iopub.status.busy": "2024-12-17T09:24:17.502885Z",
     "iopub.status.idle": "2024-12-17T09:24:29.246029Z",
     "shell.execute_reply": "2024-12-17T09:24:29.244768Z"
    },
    "papermill": {
     "duration": 11.755257,
     "end_time": "2024-12-17T09:24:29.249452",
     "exception": false,
     "start_time": "2024-12-17T09:24:17.494195",
     "status": "completed"
    },
    "tags": []
   },
   "outputs": [
    {
     "name": "stdout",
     "output_type": "stream",
     "text": [
      "Cloning into 'RECsys_Challenge2024'...\r\n",
      "remote: Enumerating objects: 4353, done.\u001b[K\r\n",
      "remote: Counting objects: 100% (1826/1826), done.\u001b[K\r\n",
      "remote: Compressing objects: 100% (715/715), done.\u001b[K\r\n",
      "remote: Total 4353 (delta 976), reused 1565 (delta 845), pack-reused 2527 (from 1)\u001b[K\r\n",
      "Receiving objects: 100% (4353/4353), 173.71 MiB | 31.79 MiB/s, done.\r\n",
      "Resolving deltas: 100% (2495/2495), done.\r\n",
      "Updating files: 100% (400/400), done.\r\n"
     ]
    }
   ],
   "source": [
    "from kaggle_secrets import UserSecretsClient\n",
    "\n",
    "token = UserSecretsClient().get_secret(\"Token\")\n",
    "\n",
    "! git clone https://{token}@github.com/madratak/RECsys_Challenge2024.git"
   ]
  },
  {
   "cell_type": "code",
   "execution_count": 3,
   "id": "67f8c78c",
   "metadata": {
    "execution": {
     "iopub.execute_input": "2024-12-17T09:24:29.269536Z",
     "iopub.status.busy": "2024-12-17T09:24:29.268548Z",
     "iopub.status.idle": "2024-12-17T09:24:43.575602Z",
     "shell.execute_reply": "2024-12-17T09:24:43.574124Z"
    },
    "papermill": {
     "duration": 14.320508,
     "end_time": "2024-12-17T09:24:43.578832",
     "exception": false,
     "start_time": "2024-12-17T09:24:29.258324",
     "status": "completed"
    },
    "tags": []
   },
   "outputs": [
    {
     "name": "stdout",
     "output_type": "stream",
     "text": [
      "Collecting PyGithub\r\n",
      "  Downloading PyGithub-2.5.0-py3-none-any.whl.metadata (3.9 kB)\r\n",
      "Requirement already satisfied: requests in /opt/conda/lib/python3.10/site-packages (2.32.3)\r\n",
      "Collecting pynacl>=1.4.0 (from PyGithub)\r\n",
      "  Downloading PyNaCl-1.5.0-cp36-abi3-manylinux_2_17_x86_64.manylinux2014_x86_64.manylinux_2_24_x86_64.whl.metadata (8.6 kB)\r\n",
      "Requirement already satisfied: pyjwt>=2.4.0 in /opt/conda/lib/python3.10/site-packages (from pyjwt[crypto]>=2.4.0->PyGithub) (2.8.0)\r\n",
      "Requirement already satisfied: typing-extensions>=4.0.0 in /opt/conda/lib/python3.10/site-packages (from PyGithub) (4.12.2)\r\n",
      "Requirement already satisfied: urllib3>=1.26.0 in /opt/conda/lib/python3.10/site-packages (from PyGithub) (1.26.18)\r\n",
      "Requirement already satisfied: Deprecated in /opt/conda/lib/python3.10/site-packages (from PyGithub) (1.2.14)\r\n",
      "Requirement already satisfied: charset-normalizer<4,>=2 in /opt/conda/lib/python3.10/site-packages (from requests) (3.3.2)\r\n",
      "Requirement already satisfied: idna<4,>=2.5 in /opt/conda/lib/python3.10/site-packages (from requests) (3.7)\r\n",
      "Requirement already satisfied: certifi>=2017.4.17 in /opt/conda/lib/python3.10/site-packages (from requests) (2024.6.2)\r\n",
      "Requirement already satisfied: cryptography>=3.4.0 in /opt/conda/lib/python3.10/site-packages (from pyjwt[crypto]>=2.4.0->PyGithub) (42.0.8)\r\n",
      "Requirement already satisfied: cffi>=1.4.1 in /opt/conda/lib/python3.10/site-packages (from pynacl>=1.4.0->PyGithub) (1.16.0)\r\n",
      "Requirement already satisfied: wrapt<2,>=1.10 in /opt/conda/lib/python3.10/site-packages (from Deprecated->PyGithub) (1.16.0)\r\n",
      "Requirement already satisfied: pycparser in /opt/conda/lib/python3.10/site-packages (from cffi>=1.4.1->pynacl>=1.4.0->PyGithub) (2.22)\r\n",
      "Downloading PyGithub-2.5.0-py3-none-any.whl (375 kB)\r\n",
      "\u001b[2K   \u001b[90m━━━━━━━━━━━━━━━━━━━━━━━━━━━━━━━━━━━━━━━━\u001b[0m \u001b[32m375.9/375.9 kB\u001b[0m \u001b[31m8.0 MB/s\u001b[0m eta \u001b[36m0:00:00\u001b[0m\r\n",
      "\u001b[?25hDownloading PyNaCl-1.5.0-cp36-abi3-manylinux_2_17_x86_64.manylinux2014_x86_64.manylinux_2_24_x86_64.whl (856 kB)\r\n",
      "\u001b[2K   \u001b[90m━━━━━━━━━━━━━━━━━━━━━━━━━━━━━━━━━━━━━━━━\u001b[0m \u001b[32m856.7/856.7 kB\u001b[0m \u001b[31m23.9 MB/s\u001b[0m eta \u001b[36m0:00:00\u001b[0m\r\n",
      "\u001b[?25hInstalling collected packages: pynacl, PyGithub\r\n",
      "Successfully installed PyGithub-2.5.0 pynacl-1.5.0\r\n"
     ]
    }
   ],
   "source": [
    "! pip install PyGithub requests"
   ]
  },
  {
   "cell_type": "code",
   "execution_count": 4,
   "id": "9369db08",
   "metadata": {
    "_kg_hide-input": false,
    "execution": {
     "iopub.execute_input": "2024-12-17T09:24:43.600033Z",
     "iopub.status.busy": "2024-12-17T09:24:43.599598Z",
     "iopub.status.idle": "2024-12-17T09:27:27.366088Z",
     "shell.execute_reply": "2024-12-17T09:27:27.364235Z"
    },
    "papermill": {
     "duration": 163.781878,
     "end_time": "2024-12-17T09:27:27.370336",
     "exception": false,
     "start_time": "2024-12-17T09:24:43.588458",
     "status": "completed"
    },
    "tags": []
   },
   "outputs": [
    {
     "name": "stdout",
     "output_type": "stream",
     "text": [
      "/kaggle/working/RECsys_Challenge2024\n",
      "run_compile_all_cython: Found 11 Cython files in 5 folders...\r\n",
      "run_compile_all_cython: All files will be compiled using your current python environment: '/opt/conda/bin/python'\r\n",
      "Compiling [1/11]: MatrixFactorizationImpressions_Cython_Epoch.pyx... \r\n",
      "In file included from \u001b[01m\u001b[K/opt/conda/lib/python3.10/site-packages/numpy/core/include/numpy/ndarraytypes.h:1929\u001b[m\u001b[K,\r\n",
      "                 from \u001b[01m\u001b[K/opt/conda/lib/python3.10/site-packages/numpy/core/include/numpy/ndarrayobject.h:12\u001b[m\u001b[K,\r\n",
      "                 from \u001b[01m\u001b[K/opt/conda/lib/python3.10/site-packages/numpy/core/include/numpy/arrayobject.h:5\u001b[m\u001b[K,\r\n",
      "                 from \u001b[01m\u001b[KMatrixFactorizationImpressions_Cython_Epoch.c:1252\u001b[m\u001b[K:\r\n",
      "\u001b[01m\u001b[K/opt/conda/lib/python3.10/site-packages/numpy/core/include/numpy/npy_1_7_deprecated_api.h:17:2:\u001b[m\u001b[K \u001b[01;35m\u001b[Kwarning: \u001b[m\u001b[K#warning \"Using deprecated NumPy API, disable it with \" \"#define NPY_NO_DEPRECATED_API NPY_1_7_API_VERSION\" [\u001b[01;35m\u001b[K-Wcpp\u001b[m\u001b[K]\r\n",
      "   17 | #\u001b[01;35m\u001b[Kwarning\u001b[m\u001b[K \"Using deprecated NumPy API, disable it with \" \\\r\n",
      "      |  \u001b[01;35m\u001b[K^~~~~~~\u001b[m\u001b[K\r\n",
      "\u001b[01m\u001b[KMatrixFactorizationImpressions_Cython_Epoch.c:\u001b[m\u001b[K In function '\u001b[01m\u001b[K__pyx_f_43MatrixFactorizationImpressions_Cython_Epoch_32MatrixFactorization_Cython_Epoch_sampleBPR_Cython\u001b[m\u001b[K':\r\n",
      "\u001b[01m\u001b[KMatrixFactorizationImpressions_Cython_Epoch.c:30351:17:\u001b[m\u001b[K \u001b[01;35m\u001b[Kwarning: \u001b[m\u001b[K'\u001b[01m\u001b[K__pyx_v_start_pos_impression_items\u001b[m\u001b[K' may be used uninitialized in this function [\u001b[01;35m\u001b[K-Wmaybe-uninitialized\u001b[m\u001b[K]\r\n",
      "30351 |       \u001b[01;35m\u001b[K__pyx_t_4 = (__pyx_v_start_pos_impression_items + __pyx_v_index)\u001b[m\u001b[K;\r\n",
      "      |       \u001b[01;35m\u001b[K~~~~~~~~~~^~~~~~~~~~~~~~~~~~~~~~~~~~~~~~~~~~~~~~~~~~~~~~~~~~~~~~\u001b[m\u001b[K\r\n",
      "\u001b[01m\u001b[KMatrixFactorizationImpressions_Cython_Epoch.c:\u001b[m\u001b[K In function '\u001b[01m\u001b[K__pyx_pf_43MatrixFactorizationImpressions_Cython_Epoch_32MatrixFactorization_Cython_Epoch_10epochIteration_Cython_ASY_SVD_SGD\u001b[m\u001b[K':\r\n",
      "\u001b[01m\u001b[KMatrixFactorizationImpressions_Cython_Epoch.c:26111:7:\u001b[m\u001b[K \u001b[01;35m\u001b[Kwarning: \u001b[m\u001b[K'\u001b[01m\u001b[K__pyx_v_end_pos_seen_items\u001b[m\u001b[K' may be used uninitialized in this function [\u001b[01;35m\u001b[K-Wmaybe-uninitialized\u001b[m\u001b[K]\r\n",
      "26111 |       \u001b[01;35m\u001b[Kfor\u001b[m\u001b[K (__pyx_t_21 = __pyx_v_start_pos_seen_items; __pyx_t_21 < __pyx_t_20; __pyx_t_21+=1) {\r\n",
      "      |       \u001b[01;35m\u001b[K^~~\u001b[m\u001b[K\r\n",
      "\u001b[01m\u001b[KMatrixFactorizationImpressions_Cython_Epoch.c:26111:7:\u001b[m\u001b[K \u001b[01;35m\u001b[Kwarning: \u001b[m\u001b[K'\u001b[01m\u001b[K__pyx_v_start_pos_seen_items\u001b[m\u001b[K' may be used uninitialized in this function [\u001b[01;35m\u001b[K-Wmaybe-uninitialized\u001b[m\u001b[K]\r\n",
      "/opt/conda/lib/python3.10/site-packages/Cython/Compiler/Main.py:381: FutureWarning: Cython directive 'language_level' not set, using '3str' for now (Py3). This has changed from earlier releases! File: /kaggle/working/RECsys_Challenge2024/Recommenders/MatrixFactorization/Cython/MatrixFactorizationImpressions_Cython_Epoch.pyx\r\n",
      "  tree = Parsing.p_module(s, pxd, full_module_name)\r\n",
      "Compiling [1/11]: MatrixFactorizationImpressions_Cython_Epoch.pyx... PASS\r\n",
      "\r\n",
      "Compiling [2/11]: MatrixFactorization_Cython_Epoch.pyx... \r\n",
      "In file included from \u001b[01m\u001b[K/opt/conda/lib/python3.10/site-packages/numpy/core/include/numpy/ndarraytypes.h:1929\u001b[m\u001b[K,\r\n",
      "                 from \u001b[01m\u001b[K/opt/conda/lib/python3.10/site-packages/numpy/core/include/numpy/ndarrayobject.h:12\u001b[m\u001b[K,\r\n",
      "                 from \u001b[01m\u001b[K/opt/conda/lib/python3.10/site-packages/numpy/core/include/numpy/arrayobject.h:5\u001b[m\u001b[K,\r\n",
      "                 from \u001b[01m\u001b[KMatrixFactorization_Cython_Epoch.c:1252\u001b[m\u001b[K:\r\n",
      "\u001b[01m\u001b[K/opt/conda/lib/python3.10/site-packages/numpy/core/include/numpy/npy_1_7_deprecated_api.h:17:2:\u001b[m\u001b[K \u001b[01;35m\u001b[Kwarning: \u001b[m\u001b[K#warning \"Using deprecated NumPy API, disable it with \" \"#define NPY_NO_DEPRECATED_API NPY_1_7_API_VERSION\" [\u001b[01;35m\u001b[K-Wcpp\u001b[m\u001b[K]\r\n",
      "   17 | #\u001b[01;35m\u001b[Kwarning\u001b[m\u001b[K \"Using deprecated NumPy API, disable it with \" \\\r\n",
      "      |  \u001b[01;35m\u001b[K^~~~~~~\u001b[m\u001b[K\r\n",
      "\u001b[01m\u001b[KMatrixFactorization_Cython_Epoch.c:\u001b[m\u001b[K In function '\u001b[01m\u001b[K__pyx_pf_32MatrixFactorization_Cython_Epoch_32MatrixFactorization_Cython_Epoch_10epochIteration_Cython_ASY_SVD_SGD\u001b[m\u001b[K':\r\n",
      "\u001b[01m\u001b[KMatrixFactorization_Cython_Epoch.c:26255:9:\u001b[m\u001b[K \u001b[01;35m\u001b[Kwarning: \u001b[m\u001b[K'\u001b[01m\u001b[K__pyx_v_end_pos_seen_items\u001b[m\u001b[K' may be used uninitialized in this function [\u001b[01;35m\u001b[K-Wmaybe-uninitialized\u001b[m\u001b[K]\r\n",
      "26255 |         \u001b[01;35m\u001b[Kfor\u001b[m\u001b[K (__pyx_t_21 = __pyx_v_start_pos_seen_items; __pyx_t_21 < __pyx_t_20; __pyx_t_21+=1) {\r\n",
      "      |         \u001b[01;35m\u001b[K^~~\u001b[m\u001b[K\r\n",
      "\u001b[01m\u001b[KMatrixFactorization_Cython_Epoch.c:26255:9:\u001b[m\u001b[K \u001b[01;35m\u001b[Kwarning: \u001b[m\u001b[K'\u001b[01m\u001b[K__pyx_v_start_pos_seen_items\u001b[m\u001b[K' may be used uninitialized in this function [\u001b[01;35m\u001b[K-Wmaybe-uninitialized\u001b[m\u001b[K]\r\n",
      "/opt/conda/lib/python3.10/site-packages/Cython/Compiler/Main.py:381: FutureWarning: Cython directive 'language_level' not set, using '3str' for now (Py3). This has changed from earlier releases! File: /kaggle/working/RECsys_Challenge2024/Recommenders/MatrixFactorization/Cython/MatrixFactorization_Cython_Epoch.pyx\r\n",
      "  tree = Parsing.p_module(s, pxd, full_module_name)\r\n",
      "Compiling [2/11]: MatrixFactorization_Cython_Epoch.pyx... PASS\r\n",
      "\r\n",
      "Compiling [3/11]: Compute_Similarity_Cython.pyx... \r\n",
      "warning: Compute_Similarity_Cython.pyx:21:0: The 'IF' statement is deprecated and will be removed in a future Cython version. Consider using runtime conditions or C macros instead. See https://github.com/cython/cython/issues/4310\r\n",
      "In file included from \u001b[01m\u001b[K/opt/conda/lib/python3.10/site-packages/numpy/core/include/numpy/ndarraytypes.h:1929\u001b[m\u001b[K,\r\n",
      "                 from \u001b[01m\u001b[K/opt/conda/lib/python3.10/site-packages/numpy/core/include/numpy/ndarrayobject.h:12\u001b[m\u001b[K,\r\n",
      "                 from \u001b[01m\u001b[K/opt/conda/lib/python3.10/site-packages/numpy/core/include/numpy/arrayobject.h:5\u001b[m\u001b[K,\r\n",
      "                 from \u001b[01m\u001b[KCompute_Similarity_Cython.c:1252\u001b[m\u001b[K:\r\n",
      "\u001b[01m\u001b[K/opt/conda/lib/python3.10/site-packages/numpy/core/include/numpy/npy_1_7_deprecated_api.h:17:2:\u001b[m\u001b[K \u001b[01;35m\u001b[Kwarning: \u001b[m\u001b[K#warning \"Using deprecated NumPy API, disable it with \" \"#define NPY_NO_DEPRECATED_API NPY_1_7_API_VERSION\" [\u001b[01;35m\u001b[K-Wcpp\u001b[m\u001b[K]\r\n",
      "   17 | #\u001b[01;35m\u001b[Kwarning\u001b[m\u001b[K \"Using deprecated NumPy API, disable it with \" \\\r\n",
      "      |  \u001b[01;35m\u001b[K^~~~~~~\u001b[m\u001b[K\r\n",
      "/opt/conda/lib/python3.10/site-packages/Cython/Compiler/Main.py:381: FutureWarning: Cython directive 'language_level' not set, using '3str' for now (Py3). This has changed from earlier releases! File: /kaggle/working/RECsys_Challenge2024/Recommenders/Similarity/Cython/Compute_Similarity_Cython.pyx\r\n",
      "  tree = Parsing.p_module(s, pxd, full_module_name)\r\n",
      "warning: Compute_Similarity_Cython.pyx:21:0: The 'IF' statement is deprecated and will be removed in a future Cython version. Consider using runtime conditions or C macros instead. See https://github.com/cython/cython/issues/4310\r\n",
      "Compiling [3/11]: Compute_Similarity_Cython.pyx... PASS\r\n",
      "\r\n",
      "Compiling [4/11]: Triangular_Matrix.pyx... \r\n",
      "warning: Triangular_Matrix.pyx:22:0: The 'IF' statement is deprecated and will be removed in a future Cython version. Consider using runtime conditions or C macros instead. See https://github.com/cython/cython/issues/4310\r\n",
      "In file included from \u001b[01m\u001b[K/opt/conda/lib/python3.10/site-packages/numpy/core/include/numpy/ndarraytypes.h:1929\u001b[m\u001b[K,\r\n",
      "                 from \u001b[01m\u001b[K/opt/conda/lib/python3.10/site-packages/numpy/core/include/numpy/ndarrayobject.h:12\u001b[m\u001b[K,\r\n",
      "                 from \u001b[01m\u001b[K/opt/conda/lib/python3.10/site-packages/numpy/core/include/numpy/arrayobject.h:5\u001b[m\u001b[K,\r\n",
      "                 from \u001b[01m\u001b[KTriangular_Matrix.c:1252\u001b[m\u001b[K:\r\n",
      "\u001b[01m\u001b[K/opt/conda/lib/python3.10/site-packages/numpy/core/include/numpy/npy_1_7_deprecated_api.h:17:2:\u001b[m\u001b[K \u001b[01;35m\u001b[Kwarning: \u001b[m\u001b[K#warning \"Using deprecated NumPy API, disable it with \" \"#define NPY_NO_DEPRECATED_API NPY_1_7_API_VERSION\" [\u001b[01;35m\u001b[K-Wcpp\u001b[m\u001b[K]\r\n",
      "   17 | #\u001b[01;35m\u001b[Kwarning\u001b[m\u001b[K \"Using deprecated NumPy API, disable it with \" \\\r\n",
      "      |  \u001b[01;35m\u001b[K^~~~~~~\u001b[m\u001b[K\r\n",
      "/opt/conda/lib/python3.10/site-packages/Cython/Compiler/Main.py:381: FutureWarning: Cython directive 'language_level' not set, using '3str' for now (Py3). This has changed from earlier releases! File: /kaggle/working/RECsys_Challenge2024/Recommenders/SLIM/Cython/Triangular_Matrix.pyx\r\n",
      "  tree = Parsing.p_module(s, pxd, full_module_name)\r\n",
      "warning: Triangular_Matrix.pyx:22:0: The 'IF' statement is deprecated and will be removed in a future Cython version. Consider using runtime conditions or C macros instead. See https://github.com/cython/cython/issues/4310\r\n",
      "Compiling [4/11]: Triangular_Matrix.pyx... PASS\r\n",
      "\r\n",
      "Compiling [5/11]: SLIM_BPR_Cython_Epoch.pyx... \r\n",
      "warning: SLIM_BPR_Cython_Epoch.pyx:24:0: The 'IF' statement is deprecated and will be removed in a future Cython version. Consider using runtime conditions or C macros instead. See https://github.com/cython/cython/issues/4310\r\n",
      "warning: SLIM_BPR_Cython_Epoch.pyx:632:34: Non-trivial type declarators in shared declaration (e.g. mix of pointers and values). Each pointer declaration should be on its own line.\r\n",
      "warning: SLIM_BPR_Cython_Epoch.pyx:632:66: Non-trivial type declarators in shared declaration (e.g. mix of pointers and values). Each pointer declaration should be on its own line.\r\n",
      "warning: SLIM_BPR_Cython_Epoch.pyx:817:35: Non-trivial type declarators in shared declaration (e.g. mix of pointers and values). Each pointer declaration should be on its own line.\r\n",
      "warning: SLIM_BPR_Cython_Epoch.pyx:817:52: Non-trivial type declarators in shared declaration (e.g. mix of pointers and values). Each pointer declaration should be on its own line.\r\n",
      "warning: SLIM_BPR_Cython_Epoch.pyx:916:35: Non-trivial type declarators in shared declaration (e.g. mix of pointers and values). Each pointer declaration should be on its own line.\r\n",
      "warning: SLIM_BPR_Cython_Epoch.pyx:916:53: Non-trivial type declarators in shared declaration (e.g. mix of pointers and values). Each pointer declaration should be on its own line.\r\n",
      "warning: SLIM_BPR_Cython_Epoch.pyx:916:69: Non-trivial type declarators in shared declaration (e.g. mix of pointers and values). Each pointer declaration should be on its own line.\r\n",
      "warning: SLIM_BPR_Cython_Epoch.pyx:1051:35: Non-trivial type declarators in shared declaration (e.g. mix of pointers and values). Each pointer declaration should be on its own line.\r\n",
      "warning: SLIM_BPR_Cython_Epoch.pyx:1051:42: Non-trivial type declarators in shared declaration (e.g. mix of pointers and values). Each pointer declaration should be on its own line.\r\n",
      "warning: SLIM_BPR_Cython_Epoch.pyx:1052:35: Non-trivial type declarators in shared declaration (e.g. mix of pointers and values). Each pointer declaration should be on its own line.\r\n",
      "warning: SLIM_BPR_Cython_Epoch.pyx:1052:53: Non-trivial type declarators in shared declaration (e.g. mix of pointers and values). Each pointer declaration should be on its own line.\r\n",
      "\r\n",
      "Error compiling Cython file:\r\n",
      "------------------------------------------------------------\r\n",
      "...\r\n",
      "            vector_pointer_to_list_elements[index].head = current_element\r\n",
      "            current_element = current_element.higher\r\n",
      "\r\n",
      "\r\n",
      "        # Sort array elements on their data field\r\n",
      "        qsort(vector_pointer_to_list_elements, list_length, sizeof(head_pointer_tree_s), compare_struct_on_data)\r\n",
      "                                                                                         ^\r\n",
      "------------------------------------------------------------\r\n",
      "\r\n",
      "SLIM_BPR_Cython_Epoch.pyx:990:89: Cannot assign type 'int (const void *, const void *) except? -1' to 'int (*)(const_void *, const_void *) noexcept'. Exception values are incompatible. Suggest adding 'noexcept' to the type of 'compare_struct_on_data'.\r\n",
      "\r\n",
      "Error compiling Cython file:\r\n",
      "------------------------------------------------------------\r\n",
      "...\r\n",
      "        # Sort array elements on their data field\r\n",
      "        qsort(vector_pointer_to_list_elements, list_length, sizeof(head_pointer_tree_s), compare_struct_on_data)\r\n",
      "\r\n",
      "        # Sort only the TopK according to their column field\r\n",
      "        # Sort is from lower to higher, therefore the elements to be considered are from len-topK to len\r\n",
      "        qsort(&vector_pointer_to_list_elements[list_length-TopK], TopK, sizeof(head_pointer_tree_s), compare_struct_on_column)\r\n",
      "                                                                                                     ^\r\n",
      "------------------------------------------------------------\r\n",
      "\r\n",
      "SLIM_BPR_Cython_Epoch.pyx:994:101: Cannot assign type 'int (const void *, const void *) except? -1' to 'int (*)(const_void *, const_void *) noexcept'. Exception values are incompatible. Suggest adding 'noexcept' to the type of 'compare_struct_on_column'.\r\n",
      "Traceback (most recent call last):\r\n",
      "  File \"/kaggle/working/RECsys_Challenge2024/CythonCompiler/compile_script.py\", line 48, in <module>\r\n",
      "    setup(\r\n",
      "  File \"/opt/conda/lib/python3.10/site-packages/setuptools/__init__.py\", line 103, in setup\r\n",
      "    return distutils.core.setup(**attrs)\r\n",
      "  File \"/opt/conda/lib/python3.10/site-packages/setuptools/_distutils/core.py\", line 184, in setup\r\n",
      "    return run_commands(dist)\r\n",
      "  File \"/opt/conda/lib/python3.10/site-packages/setuptools/_distutils/core.py\", line 200, in run_commands\r\n",
      "    dist.run_commands()\r\n",
      "  File \"/opt/conda/lib/python3.10/site-packages/setuptools/_distutils/dist.py\", line 969, in run_commands\r\n",
      "    self.run_command(cmd)\r\n",
      "  File \"/opt/conda/lib/python3.10/site-packages/setuptools/dist.py\", line 968, in run_command\r\n",
      "    super().run_command(command)\r\n",
      "  File \"/opt/conda/lib/python3.10/site-packages/setuptools/_distutils/dist.py\", line 988, in run_command\r\n",
      "    cmd_obj.run()\r\n",
      "  File \"/opt/conda/lib/python3.10/site-packages/setuptools/_distutils/command/build_ext.py\", line 359, in run\r\n",
      "    self.build_extensions()\r\n",
      "  File \"/opt/conda/lib/python3.10/site-packages/setuptools/_distutils/command/build_ext.py\", line 479, in build_extensions\r\n",
      "    self._build_extensions_serial()\r\n",
      "  File \"/opt/conda/lib/python3.10/site-packages/setuptools/_distutils/command/build_ext.py\", line 505, in _build_extensions_serial\r\n",
      "    self.build_extension(ext)\r\n",
      "  File \"/opt/conda/lib/python3.10/site-packages/Cython/Distutils/build_ext.py\", line 130, in build_extension\r\n",
      "    new_ext = cythonize(\r\n",
      "  File \"/opt/conda/lib/python3.10/site-packages/Cython/Build/Dependencies.py\", line 1154, in cythonize\r\n",
      "    cythonize_one(*args)\r\n",
      "  File \"/opt/conda/lib/python3.10/site-packages/Cython/Build/Dependencies.py\", line 1321, in cythonize_one\r\n",
      "    raise CompileError(None, pyx_file)\r\n",
      "Cython.Compiler.Errors.CompileError: SLIM_BPR_Cython_Epoch.pyx\r\n",
      "Traceback (most recent call last):\r\n",
      "  File \"/kaggle/working/RECsys_Challenge2024/run_compile_all_cython.py\", line 60, in <module>\r\n",
      "    run_compile_subprocess(file_path, [file_name])\r\n",
      "  File \"/kaggle/working/RECsys_Challenge2024/CythonCompiler/run_compile_subprocess.py\", line 51, in run_compile_subprocess\r\n",
      "    raise exc\r\n",
      "  File \"/kaggle/working/RECsys_Challenge2024/CythonCompiler/run_compile_subprocess.py\", line 32, in run_compile_subprocess\r\n",
      "    output = subprocess.check_output(' '.join(command),\r\n",
      "  File \"/opt/conda/lib/python3.10/subprocess.py\", line 421, in check_output\r\n",
      "    return run(*popenargs, stdout=PIPE, timeout=timeout, check=True,\r\n",
      "  File \"/opt/conda/lib/python3.10/subprocess.py\", line 526, in run\r\n",
      "    raise CalledProcessError(retcode, process.args,\r\n",
      "subprocess.CalledProcessError: Command '/opt/conda/bin/python /kaggle/working/RECsys_Challenge2024/CythonCompiler/compile_script.py SLIM_BPR_Cython_Epoch.pyx build_ext --inplace' returned non-zero exit status 1.\r\n",
      "Compiling [5/11]: SLIM_BPR_Cython_Epoch.pyx... FAIL: Command '/opt/conda/bin/python /kaggle/working/RECsys_Challenge2024/CythonCompiler/compile_script.py SLIM_BPR_Cython_Epoch.pyx build_ext --inplace' returned non-zero exit status 1.\r\n",
      "\r\n",
      "Compiling [6/11]: Sparse_Matrix_Tree_CSR.pyx... \r\n",
      "warning: Sparse_Matrix_Tree_CSR.pyx:132:34: Non-trivial type declarators in shared declaration (e.g. mix of pointers and values). Each pointer declaration should be on its own line.\r\n",
      "warning: Sparse_Matrix_Tree_CSR.pyx:132:66: Non-trivial type declarators in shared declaration (e.g. mix of pointers and values). Each pointer declaration should be on its own line.\r\n",
      "warning: Sparse_Matrix_Tree_CSR.pyx:343:35: Non-trivial type declarators in shared declaration (e.g. mix of pointers and values). Each pointer declaration should be on its own line.\r\n",
      "warning: Sparse_Matrix_Tree_CSR.pyx:343:52: Non-trivial type declarators in shared declaration (e.g. mix of pointers and values). Each pointer declaration should be on its own line.\r\n",
      "warning: Sparse_Matrix_Tree_CSR.pyx:442:35: Non-trivial type declarators in shared declaration (e.g. mix of pointers and values). Each pointer declaration should be on its own line.\r\n",
      "warning: Sparse_Matrix_Tree_CSR.pyx:442:53: Non-trivial type declarators in shared declaration (e.g. mix of pointers and values). Each pointer declaration should be on its own line.\r\n",
      "warning: Sparse_Matrix_Tree_CSR.pyx:442:69: Non-trivial type declarators in shared declaration (e.g. mix of pointers and values). Each pointer declaration should be on its own line.\r\n",
      "warning: Sparse_Matrix_Tree_CSR.pyx:577:35: Non-trivial type declarators in shared declaration (e.g. mix of pointers and values). Each pointer declaration should be on its own line.\r\n",
      "warning: Sparse_Matrix_Tree_CSR.pyx:577:42: Non-trivial type declarators in shared declaration (e.g. mix of pointers and values). Each pointer declaration should be on its own line.\r\n",
      "warning: Sparse_Matrix_Tree_CSR.pyx:578:35: Non-trivial type declarators in shared declaration (e.g. mix of pointers and values). Each pointer declaration should be on its own line.\r\n",
      "warning: Sparse_Matrix_Tree_CSR.pyx:578:53: Non-trivial type declarators in shared declaration (e.g. mix of pointers and values). Each pointer declaration should be on its own line.\r\n",
      "\r\n",
      "Error compiling Cython file:\r\n",
      "------------------------------------------------------------\r\n",
      "...\r\n",
      "            vector_pointer_to_list_elements[index].head = current_element\r\n",
      "            current_element = current_element.higher\r\n",
      "\r\n",
      "\r\n",
      "        # Sort array elements on their data field\r\n",
      "        qsort(vector_pointer_to_list_elements, list_length, sizeof(head_pointer_tree_s), compare_struct_on_data)\r\n",
      "                                                                                         ^\r\n",
      "------------------------------------------------------------\r\n",
      "\r\n",
      "Sparse_Matrix_Tree_CSR.pyx:516:89: Cannot assign type 'int (const void *, const void *) except? -1' to 'int (*)(const_void *, const_void *) noexcept'. Exception values are incompatible. Suggest adding 'noexcept' to the type of 'compare_struct_on_data'.\r\n",
      "\r\n",
      "Error compiling Cython file:\r\n",
      "------------------------------------------------------------\r\n",
      "...\r\n",
      "        # Sort array elements on their data field\r\n",
      "        qsort(vector_pointer_to_list_elements, list_length, sizeof(head_pointer_tree_s), compare_struct_on_data)\r\n",
      "\r\n",
      "        # Sort only the TopK according to their column field\r\n",
      "        # Sort is from lower to higher, therefore the elements to be considered are from len-topK to len\r\n",
      "        qsort(&vector_pointer_to_list_elements[list_length-TopK], TopK, sizeof(head_pointer_tree_s), compare_struct_on_column)\r\n",
      "                                                                                                     ^\r\n",
      "------------------------------------------------------------\r\n",
      "\r\n",
      "Sparse_Matrix_Tree_CSR.pyx:520:101: Cannot assign type 'int (const void *, const void *) except? -1' to 'int (*)(const_void *, const_void *) noexcept'. Exception values are incompatible. Suggest adding 'noexcept' to the type of 'compare_struct_on_column'.\r\n",
      "Traceback (most recent call last):\r\n",
      "  File \"/kaggle/working/RECsys_Challenge2024/CythonCompiler/compile_script.py\", line 48, in <module>\r\n",
      "    setup(\r\n",
      "  File \"/opt/conda/lib/python3.10/site-packages/setuptools/__init__.py\", line 103, in setup\r\n",
      "    return distutils.core.setup(**attrs)\r\n",
      "  File \"/opt/conda/lib/python3.10/site-packages/setuptools/_distutils/core.py\", line 184, in setup\r\n",
      "    return run_commands(dist)\r\n",
      "  File \"/opt/conda/lib/python3.10/site-packages/setuptools/_distutils/core.py\", line 200, in run_commands\r\n",
      "    dist.run_commands()\r\n",
      "  File \"/opt/conda/lib/python3.10/site-packages/setuptools/_distutils/dist.py\", line 969, in run_commands\r\n",
      "    self.run_command(cmd)\r\n",
      "  File \"/opt/conda/lib/python3.10/site-packages/setuptools/dist.py\", line 968, in run_command\r\n",
      "    super().run_command(command)\r\n",
      "  File \"/opt/conda/lib/python3.10/site-packages/setuptools/_distutils/dist.py\", line 988, in run_command\r\n",
      "    cmd_obj.run()\r\n",
      "  File \"/opt/conda/lib/python3.10/site-packages/setuptools/_distutils/command/build_ext.py\", line 359, in run\r\n",
      "    self.build_extensions()\r\n",
      "  File \"/opt/conda/lib/python3.10/site-packages/setuptools/_distutils/command/build_ext.py\", line 479, in build_extensions\r\n",
      "    self._build_extensions_serial()\r\n",
      "  File \"/opt/conda/lib/python3.10/site-packages/setuptools/_distutils/command/build_ext.py\", line 505, in _build_extensions_serial\r\n",
      "    self.build_extension(ext)\r\n",
      "  File \"/opt/conda/lib/python3.10/site-packages/Cython/Distutils/build_ext.py\", line 130, in build_extension\r\n",
      "    new_ext = cythonize(\r\n",
      "  File \"/opt/conda/lib/python3.10/site-packages/Cython/Build/Dependencies.py\", line 1154, in cythonize\r\n",
      "    cythonize_one(*args)\r\n",
      "  File \"/opt/conda/lib/python3.10/site-packages/Cython/Build/Dependencies.py\", line 1321, in cythonize_one\r\n",
      "    raise CompileError(None, pyx_file)\r\n",
      "Cython.Compiler.Errors.CompileError: Sparse_Matrix_Tree_CSR.pyx\r\n",
      "Traceback (most recent call last):\r\n",
      "  File \"/kaggle/working/RECsys_Challenge2024/run_compile_all_cython.py\", line 60, in <module>\r\n",
      "    run_compile_subprocess(file_path, [file_name])\r\n",
      "  File \"/kaggle/working/RECsys_Challenge2024/CythonCompiler/run_compile_subprocess.py\", line 51, in run_compile_subprocess\r\n",
      "    raise exc\r\n",
      "  File \"/kaggle/working/RECsys_Challenge2024/CythonCompiler/run_compile_subprocess.py\", line 32, in run_compile_subprocess\r\n",
      "    output = subprocess.check_output(' '.join(command),\r\n",
      "  File \"/opt/conda/lib/python3.10/subprocess.py\", line 421, in check_output\r\n",
      "    return run(*popenargs, stdout=PIPE, timeout=timeout, check=True,\r\n",
      "  File \"/opt/conda/lib/python3.10/subprocess.py\", line 526, in run\r\n",
      "    raise CalledProcessError(retcode, process.args,\r\n",
      "subprocess.CalledProcessError: Command '/opt/conda/bin/python /kaggle/working/RECsys_Challenge2024/CythonCompiler/compile_script.py Sparse_Matrix_Tree_CSR.pyx build_ext --inplace' returned non-zero exit status 1.\r\n",
      "Compiling [6/11]: Sparse_Matrix_Tree_CSR.pyx... FAIL: Command '/opt/conda/bin/python /kaggle/working/RECsys_Challenge2024/CythonCompiler/compile_script.py Sparse_Matrix_Tree_CSR.pyx build_ext --inplace' returned non-zero exit status 1.\r\n",
      "\r\n",
      "Compiling [7/11]: CFW_DVV_Similarity_Cython_SGD.pyx... \r\n",
      "In file included from \u001b[01m\u001b[K/opt/conda/lib/python3.10/site-packages/numpy/core/include/numpy/ndarraytypes.h:1929\u001b[m\u001b[K,\r\n",
      "                 from \u001b[01m\u001b[K/opt/conda/lib/python3.10/site-packages/numpy/core/include/numpy/ndarrayobject.h:12\u001b[m\u001b[K,\r\n",
      "                 from \u001b[01m\u001b[K/opt/conda/lib/python3.10/site-packages/numpy/core/include/numpy/arrayobject.h:5\u001b[m\u001b[K,\r\n",
      "                 from \u001b[01m\u001b[KCFW_DVV_Similarity_Cython_SGD.c:1252\u001b[m\u001b[K:\r\n",
      "\u001b[01m\u001b[K/opt/conda/lib/python3.10/site-packages/numpy/core/include/numpy/npy_1_7_deprecated_api.h:17:2:\u001b[m\u001b[K \u001b[01;35m\u001b[Kwarning: \u001b[m\u001b[K#warning \"Using deprecated NumPy API, disable it with \" \"#define NPY_NO_DEPRECATED_API NPY_1_7_API_VERSION\" [\u001b[01;35m\u001b[K-Wcpp\u001b[m\u001b[K]\r\n",
      "   17 | #\u001b[01;35m\u001b[Kwarning\u001b[m\u001b[K \"Using deprecated NumPy API, disable it with \" \\\r\n",
      "      |  \u001b[01;35m\u001b[K^~~~~~~\u001b[m\u001b[K\r\n",
      "/opt/conda/lib/python3.10/site-packages/Cython/Compiler/Main.py:381: FutureWarning: Cython directive 'language_level' not set, using '3str' for now (Py3). This has changed from earlier releases! File: /kaggle/working/RECsys_Challenge2024/Recommenders/FeatureWeighting/Cython/CFW_DVV_Similarity_Cython_SGD.pyx\r\n",
      "  tree = Parsing.p_module(s, pxd, full_module_name)\r\n",
      "Compiling [7/11]: CFW_DVV_Similarity_Cython_SGD.pyx... PASS\r\n",
      "\r\n",
      "Compiling [8/11]: HP3_Similarity_Cython_SGD.pyx... \r\n",
      "performance hint: HP3_Similarity_Cython_SGD.pyx:113:40: Index should be typed for more efficient access\r\n",
      "performance hint: HP3_Similarity_Cython_SGD.pyx:114:40: Index should be typed for more efficient access\r\n",
      "In file included from \u001b[01m\u001b[K/opt/conda/lib/python3.10/site-packages/numpy/core/include/numpy/ndarraytypes.h:1929\u001b[m\u001b[K,\r\n",
      "                 from \u001b[01m\u001b[K/opt/conda/lib/python3.10/site-packages/numpy/core/include/numpy/ndarrayobject.h:12\u001b[m\u001b[K,\r\n",
      "                 from \u001b[01m\u001b[K/opt/conda/lib/python3.10/site-packages/numpy/core/include/numpy/arrayobject.h:5\u001b[m\u001b[K,\r\n",
      "                 from \u001b[01m\u001b[KHP3_Similarity_Cython_SGD.c:1252\u001b[m\u001b[K:\r\n",
      "\u001b[01m\u001b[K/opt/conda/lib/python3.10/site-packages/numpy/core/include/numpy/npy_1_7_deprecated_api.h:17:2:\u001b[m\u001b[K \u001b[01;35m\u001b[Kwarning: \u001b[m\u001b[K#warning \"Using deprecated NumPy API, disable it with \" \"#define NPY_NO_DEPRECATED_API NPY_1_7_API_VERSION\" [\u001b[01;35m\u001b[K-Wcpp\u001b[m\u001b[K]\r\n",
      "   17 | #\u001b[01;35m\u001b[Kwarning\u001b[m\u001b[K \"Using deprecated NumPy API, disable it with \" \\\r\n",
      "      |  \u001b[01;35m\u001b[K^~~~~~~\u001b[m\u001b[K\r\n",
      "\u001b[01m\u001b[KHP3_Similarity_Cython_SGD.c:\u001b[m\u001b[K In function '\u001b[01m\u001b[K__pyx_pf_25HP3_Similarity_Cython_SGD_25HP3_Similarity_Cython_SGD_4fit\u001b[m\u001b[K':\r\n",
      "\u001b[01m\u001b[KHP3_Similarity_Cython_SGD.c:23631:55:\u001b[m\u001b[K \u001b[01;35m\u001b[Kwarning: \u001b[m\u001b[K'\u001b[01m\u001b[K__pyx_v_sample_num\u001b[m\u001b[K' may be used uninitialized in this function [\u001b[01;35m\u001b[K-Wmaybe-uninitialized\u001b[m\u001b[K]\r\n",
      "23631 |   __pyx_t_1 = PyFloat_FromDouble((__pyx_v_cum_loss / \u001b[01;35m\u001b[K((double)__pyx_v_sample_num)\u001b[m\u001b[K)); if (unlikely(!__pyx_t_1)) __PYX_ERR(0, 291, __pyx_L1_error)\r\n",
      "      |                                                      \u001b[01;35m\u001b[K~^~~~~~~~~~~~~~~~~~~~~~~~~~~\u001b[m\u001b[K\r\n",
      "/opt/conda/lib/python3.10/site-packages/Cython/Compiler/Main.py:381: FutureWarning: Cython directive 'language_level' not set, using '3str' for now (Py3). This has changed from earlier releases! File: /kaggle/working/RECsys_Challenge2024/Recommenders/FeatureWeighting/Cython/HP3_Similarity_Cython_SGD.pyx\r\n",
      "  tree = Parsing.p_module(s, pxd, full_module_name)\r\n",
      "performance hint: HP3_Similarity_Cython_SGD.pyx:113:40: Index should be typed for more efficient access\r\n",
      "performance hint: HP3_Similarity_Cython_SGD.pyx:114:40: Index should be typed for more efficient access\r\n",
      "Compiling [8/11]: HP3_Similarity_Cython_SGD.pyx... PASS\r\n",
      "\r\n",
      "Compiling [9/11]: FBSM_Rating_Cython_SGD.pyx... \r\n",
      "In file included from \u001b[01m\u001b[K/opt/conda/lib/python3.10/site-packages/numpy/core/include/numpy/ndarraytypes.h:1929\u001b[m\u001b[K,\r\n",
      "                 from \u001b[01m\u001b[K/opt/conda/lib/python3.10/site-packages/numpy/core/include/numpy/ndarrayobject.h:12\u001b[m\u001b[K,\r\n",
      "                 from \u001b[01m\u001b[K/opt/conda/lib/python3.10/site-packages/numpy/core/include/numpy/arrayobject.h:5\u001b[m\u001b[K,\r\n",
      "                 from \u001b[01m\u001b[KFBSM_Rating_Cython_SGD.c:1252\u001b[m\u001b[K:\r\n",
      "\u001b[01m\u001b[K/opt/conda/lib/python3.10/site-packages/numpy/core/include/numpy/npy_1_7_deprecated_api.h:17:2:\u001b[m\u001b[K \u001b[01;35m\u001b[Kwarning: \u001b[m\u001b[K#warning \"Using deprecated NumPy API, disable it with \" \"#define NPY_NO_DEPRECATED_API NPY_1_7_API_VERSION\" [\u001b[01;35m\u001b[K-Wcpp\u001b[m\u001b[K]\r\n",
      "   17 | #\u001b[01;35m\u001b[Kwarning\u001b[m\u001b[K \"Using deprecated NumPy API, disable it with \" \\\r\n",
      "      |  \u001b[01;35m\u001b[K^~~~~~~\u001b[m\u001b[K\r\n",
      "\u001b[01m\u001b[KFBSM_Rating_Cython_SGD.c:\u001b[m\u001b[K In function '\u001b[01m\u001b[K__pyx_pf_22FBSM_Rating_Cython_SGD_22FBSM_Rating_Cython_SGD_2fit\u001b[m\u001b[K':\r\n",
      "\u001b[01m\u001b[KFBSM_Rating_Cython_SGD.c:26607:55:\u001b[m\u001b[K \u001b[01;35m\u001b[Kwarning: \u001b[m\u001b[K'\u001b[01m\u001b[K__pyx_v_num_sample\u001b[m\u001b[K' may be used uninitialized in this function [\u001b[01;35m\u001b[K-Wmaybe-uninitialized\u001b[m\u001b[K]\r\n",
      "26607 |   __pyx_t_5 = PyFloat_FromDouble((__pyx_v_cum_loss / \u001b[01;35m\u001b[K((double)__pyx_v_num_sample)\u001b[m\u001b[K)); if (unlikely(!__pyx_t_5)) __PYX_ERR(0, 551, __pyx_L1_error)\r\n",
      "      |                                                      \u001b[01;35m\u001b[K~^~~~~~~~~~~~~~~~~~~~~~~~~~~\u001b[m\u001b[K\r\n",
      "/opt/conda/lib/python3.10/site-packages/Cython/Compiler/Main.py:381: FutureWarning: Cython directive 'language_level' not set, using '3str' for now (Py3). This has changed from earlier releases! File: /kaggle/working/RECsys_Challenge2024/Recommenders/FeatureWeighting/Cython/FBSM_Rating_Cython_SGD.pyx\r\n",
      "  tree = Parsing.p_module(s, pxd, full_module_name)\r\n",
      "Compiling [9/11]: FBSM_Rating_Cython_SGD.pyx... PASS\r\n",
      "\r\n",
      "Compiling [10/11]: CFW_D_Similarity_Cython_SGD.pyx... \r\n",
      "In file included from \u001b[01m\u001b[K/opt/conda/lib/python3.10/site-packages/numpy/core/include/numpy/ndarraytypes.h:1929\u001b[m\u001b[K,\r\n",
      "                 from \u001b[01m\u001b[K/opt/conda/lib/python3.10/site-packages/numpy/core/include/numpy/ndarrayobject.h:12\u001b[m\u001b[K,\r\n",
      "                 from \u001b[01m\u001b[K/opt/conda/lib/python3.10/site-packages/numpy/core/include/numpy/arrayobject.h:5\u001b[m\u001b[K,\r\n",
      "                 from \u001b[01m\u001b[KCFW_D_Similarity_Cython_SGD.c:1252\u001b[m\u001b[K:\r\n",
      "\u001b[01m\u001b[K/opt/conda/lib/python3.10/site-packages/numpy/core/include/numpy/npy_1_7_deprecated_api.h:17:2:\u001b[m\u001b[K \u001b[01;35m\u001b[Kwarning: \u001b[m\u001b[K#warning \"Using deprecated NumPy API, disable it with \" \"#define NPY_NO_DEPRECATED_API NPY_1_7_API_VERSION\" [\u001b[01;35m\u001b[K-Wcpp\u001b[m\u001b[K]\r\n",
      "   17 | #\u001b[01;35m\u001b[Kwarning\u001b[m\u001b[K \"Using deprecated NumPy API, disable it with \" \\\r\n",
      "      |  \u001b[01;35m\u001b[K^~~~~~~\u001b[m\u001b[K\r\n",
      "\u001b[01m\u001b[KCFW_D_Similarity_Cython_SGD.c:\u001b[m\u001b[K In function '\u001b[01m\u001b[K__pyx_pf_27CFW_D_Similarity_Cython_SGD_27CFW_D_Similarity_Cython_SGD_6fit\u001b[m\u001b[K':\r\n",
      "\u001b[01m\u001b[KCFW_D_Similarity_Cython_SGD.c:23373:55:\u001b[m\u001b[K \u001b[01;35m\u001b[Kwarning: \u001b[m\u001b[K'\u001b[01m\u001b[K__pyx_v_sample_num\u001b[m\u001b[K' may be used uninitialized in this function [\u001b[01;35m\u001b[K-Wmaybe-uninitialized\u001b[m\u001b[K]\r\n",
      "23373 |   __pyx_t_3 = PyFloat_FromDouble((__pyx_v_cum_loss / \u001b[01;35m\u001b[K((double)__pyx_v_sample_num)\u001b[m\u001b[K)); if (unlikely(!__pyx_t_3)) __PYX_ERR(0, 290, __pyx_L1_error)\r\n",
      "      |                                                      \u001b[01;35m\u001b[K~^~~~~~~~~~~~~~~~~~~~~~~~~~~\u001b[m\u001b[K\r\n",
      "/opt/conda/lib/python3.10/site-packages/Cython/Compiler/Main.py:381: FutureWarning: Cython directive 'language_level' not set, using '3str' for now (Py3). This has changed from earlier releases! File: /kaggle/working/RECsys_Challenge2024/Recommenders/FeatureWeighting/Cython/CFW_D_Similarity_Cython_SGD.pyx\r\n",
      "  tree = Parsing.p_module(s, pxd, full_module_name)\r\n",
      "Compiling [10/11]: CFW_D_Similarity_Cython_SGD.pyx... PASS\r\n",
      "\r\n",
      "Compiling [11/11]: DataIterator.pyx... \r\n",
      "In file included from \u001b[01m\u001b[K/opt/conda/lib/python3.10/site-packages/numpy/core/include/numpy/ndarraytypes.h:1929\u001b[m\u001b[K,\r\n",
      "                 from \u001b[01m\u001b[K/opt/conda/lib/python3.10/site-packages/numpy/core/include/numpy/ndarrayobject.h:12\u001b[m\u001b[K,\r\n",
      "                 from \u001b[01m\u001b[K/opt/conda/lib/python3.10/site-packages/numpy/core/include/numpy/arrayobject.h:5\u001b[m\u001b[K,\r\n",
      "                 from \u001b[01m\u001b[KDataIterator.c:1252\u001b[m\u001b[K:\r\n",
      "\u001b[01m\u001b[K/opt/conda/lib/python3.10/site-packages/numpy/core/include/numpy/npy_1_7_deprecated_api.h:17:2:\u001b[m\u001b[K \u001b[01;35m\u001b[Kwarning: \u001b[m\u001b[K#warning \"Using deprecated NumPy API, disable it with \" \"#define NPY_NO_DEPRECATED_API NPY_1_7_API_VERSION\" [\u001b[01;35m\u001b[K-Wcpp\u001b[m\u001b[K]\r\n",
      "   17 | #\u001b[01;35m\u001b[Kwarning\u001b[m\u001b[K \"Using deprecated NumPy API, disable it with \" \\\r\n",
      "      |  \u001b[01;35m\u001b[K^~~~~~~\u001b[m\u001b[K\r\n",
      "\u001b[01m\u001b[KDataIterator.c:\u001b[m\u001b[K In function '\u001b[01m\u001b[K__pyx_pf_12DataIterator_30InteractionAndNegativeIterator_6__next__\u001b[m\u001b[K':\r\n",
      "\u001b[01m\u001b[KDataIterator.c:25495:22:\u001b[m\u001b[K \u001b[01;35m\u001b[Kwarning: \u001b[m\u001b[K'\u001b[01m\u001b[K__pyx_v_i_batch\u001b[m\u001b[K' may be used uninitialized in this function [\u001b[01;35m\u001b[K-Wmaybe-uninitialized\u001b[m\u001b[K]\r\n",
      "25495 |     (__pyx_v_i_batch \u001b[01;35m\u001b[K+\u001b[m\u001b[K 1),\r\n",
      "      |                      \u001b[01;35m\u001b[K^\u001b[m\u001b[K\r\n",
      "\u001b[01m\u001b[KDataIterator.c:\u001b[m\u001b[K In function '\u001b[01m\u001b[K__pyx_pf_12DataIterator_11BPRIterator_6__next__\u001b[m\u001b[K':\r\n",
      "\u001b[01m\u001b[KDataIterator.c:23054:22:\u001b[m\u001b[K \u001b[01;35m\u001b[Kwarning: \u001b[m\u001b[K'\u001b[01m\u001b[K__pyx_v_i_batch\u001b[m\u001b[K' may be used uninitialized in this function [\u001b[01;35m\u001b[K-Wmaybe-uninitialized\u001b[m\u001b[K]\r\n",
      "23054 |     (__pyx_v_i_batch \u001b[01;35m\u001b[K+\u001b[m\u001b[K 1),\r\n",
      "      |                      \u001b[01;35m\u001b[K^\u001b[m\u001b[K\r\n",
      "\u001b[01m\u001b[KDataIterator.c:\u001b[m\u001b[K In function '\u001b[01m\u001b[K__pyx_pf_12DataIterator_19InteractionIterator_6__next__\u001b[m\u001b[K':\r\n",
      "\u001b[01m\u001b[KDataIterator.c:20937:22:\u001b[m\u001b[K \u001b[01;35m\u001b[Kwarning: \u001b[m\u001b[K'\u001b[01m\u001b[K__pyx_v_i_batch\u001b[m\u001b[K' may be used uninitialized in this function [\u001b[01;35m\u001b[K-Wmaybe-uninitialized\u001b[m\u001b[K]\r\n",
      "20937 |     (__pyx_v_i_batch \u001b[01;35m\u001b[K+\u001b[m\u001b[K 1),\r\n",
      "      |                      \u001b[01;35m\u001b[K^\u001b[m\u001b[K\r\n",
      "/opt/conda/lib/python3.10/site-packages/Cython/Compiler/Main.py:381: FutureWarning: Cython directive 'language_level' not set, using '3str' for now (Py3). This has changed from earlier releases! File: /kaggle/working/RECsys_Challenge2024/Utils/PyTorch/Cython/DataIterator.pyx\r\n",
      "  tree = Parsing.p_module(s, pxd, full_module_name)\r\n",
      "Compiling [11/11]: DataIterator.pyx... PASS\r\n",
      "\r\n",
      "run_compile_all_cython: Compilation finished. FAILS 2/11.\r\n",
      "Compilation log can be found here: './result_experiments/run_compile_all_cython.txt'\r\n"
     ]
    }
   ],
   "source": [
    "%cd /kaggle/working/RECsys_Challenge2024 \n",
    "! python run_compile_all_cython.py"
   ]
  },
  {
   "cell_type": "code",
   "execution_count": 5,
   "id": "deca2d12",
   "metadata": {
    "execution": {
     "iopub.execute_input": "2024-12-17T09:27:27.405021Z",
     "iopub.status.busy": "2024-12-17T09:27:27.404454Z",
     "iopub.status.idle": "2024-12-17T09:27:29.354686Z",
     "shell.execute_reply": "2024-12-17T09:27:29.353352Z"
    },
    "papermill": {
     "duration": 1.968648,
     "end_time": "2024-12-17T09:27:29.357422",
     "exception": false,
     "start_time": "2024-12-17T09:27:27.388774",
     "status": "completed"
    },
    "tags": []
   },
   "outputs": [],
   "source": [
    "from Utils.notebookFunctions import *\n",
    "import numpy as np\n",
    "import pandas as pd\n",
    "import scipy.sparse as sps\n",
    "import time\n",
    "import shutil\n",
    "import optuna\n",
    "import json\n",
    "import os\n",
    "from Utils.seconds_to_biggest_unit import seconds_to_biggest_unit\n",
    "\n",
    "\n",
    "K_PATH = '/kaggle/working/RECsys_Challenge2024'\n",
    "GH_PATH = 'TrainedModels/WithoutKFCV/KNN'\n",
    "\n",
    "np.random.seed(42)"
   ]
  },
  {
   "cell_type": "markdown",
   "id": "2685a87d",
   "metadata": {
    "papermill": {
     "duration": 0.012429,
     "end_time": "2024-12-17T09:27:29.382544",
     "exception": false,
     "start_time": "2024-12-17T09:27:29.370115",
     "status": "completed"
    },
    "tags": []
   },
   "source": [
    "## Import the repository **RECsys_Challenge2024**"
   ]
  },
  {
   "cell_type": "code",
   "execution_count": 6,
   "id": "5a8fd09f",
   "metadata": {
    "execution": {
     "iopub.execute_input": "2024-12-17T09:27:29.409494Z",
     "iopub.status.busy": "2024-12-17T09:27:29.408869Z",
     "iopub.status.idle": "2024-12-17T09:27:29.733060Z",
     "shell.execute_reply": "2024-12-17T09:27:29.731361Z"
    },
    "papermill": {
     "duration": 0.340615,
     "end_time": "2024-12-17T09:27:29.735562",
     "exception": false,
     "start_time": "2024-12-17T09:27:29.394947",
     "status": "completed"
    },
    "tags": []
   },
   "outputs": [
    {
     "name": "stdout",
     "output_type": "stream",
     "text": [
      "Repository 'RECsys_Challenge2024' found.\n"
     ]
    }
   ],
   "source": [
    "repo = get_repo_from_github(token)"
   ]
  },
  {
   "cell_type": "code",
   "execution_count": 7,
   "id": "8bceccc1",
   "metadata": {
    "execution": {
     "iopub.execute_input": "2024-12-17T09:27:29.763296Z",
     "iopub.status.busy": "2024-12-17T09:27:29.762869Z",
     "iopub.status.idle": "2024-12-17T09:27:29.769351Z",
     "shell.execute_reply": "2024-12-17T09:27:29.767962Z"
    },
    "papermill": {
     "duration": 0.023083,
     "end_time": "2024-12-17T09:27:29.771774",
     "exception": false,
     "start_time": "2024-12-17T09:27:29.748691",
     "status": "completed"
    },
    "tags": []
   },
   "outputs": [],
   "source": [
    "config = {\n",
    "    'model': 'ItemKNNCBF',\n",
    "    'metric': 'MAP',\n",
    "    'tune_parameters': True,\n",
    "    'database_path': '/kaggle/working/history_ItemKNNCBF_MAP.db',\n",
    "    'copy_prev_best_params': False,\n",
    "    'tune_best_params': True,\n",
    "    'save_github': True\n",
    "}"
   ]
  },
  {
   "cell_type": "markdown",
   "id": "a83bfac9",
   "metadata": {
    "papermill": {
     "duration": 0.012287,
     "end_time": "2024-12-17T09:27:29.796658",
     "exception": false,
     "start_time": "2024-12-17T09:27:29.784371",
     "status": "completed"
    },
    "tags": []
   },
   "source": [
    "Import the database where previous tuning trials have been saved."
   ]
  },
  {
   "cell_type": "code",
   "execution_count": 8,
   "id": "27dded31",
   "metadata": {
    "execution": {
     "iopub.execute_input": "2024-12-17T09:27:29.824023Z",
     "iopub.status.busy": "2024-12-17T09:27:29.823516Z",
     "iopub.status.idle": "2024-12-17T09:27:29.831040Z",
     "shell.execute_reply": "2024-12-17T09:27:29.829895Z"
    },
    "papermill": {
     "duration": 0.02423,
     "end_time": "2024-12-17T09:27:29.833580",
     "exception": false,
     "start_time": "2024-12-17T09:27:29.809350",
     "status": "completed"
    },
    "tags": []
   },
   "outputs": [],
   "source": [
    "try:\n",
    "    shutil.copyfile(\n",
    "        f'{K_PATH}/{GH_PATH}/{config[\"model\"]}Recommender/Optimizing{config[\"metric\"]}/history_{config[\"model\"]}_{config[\"metric\"]}.db', \n",
    "        config['database_path']\n",
    "    )\n",
    "except FileNotFoundError:\n",
    "    pass # if not present optuna will create it"
   ]
  },
  {
   "cell_type": "markdown",
   "id": "a11e5f49",
   "metadata": {
    "papermill": {
     "duration": 0.012934,
     "end_time": "2024-12-17T09:27:29.859447",
     "exception": false,
     "start_time": "2024-12-17T09:27:29.846513",
     "status": "completed"
    },
    "tags": []
   },
   "source": [
    "# Construction of URM and ICM matrices"
   ]
  },
  {
   "cell_type": "code",
   "execution_count": 9,
   "id": "444b6f2a",
   "metadata": {
    "execution": {
     "iopub.execute_input": "2024-12-17T09:27:29.887630Z",
     "iopub.status.busy": "2024-12-17T09:27:29.887140Z",
     "iopub.status.idle": "2024-12-17T09:27:30.893489Z",
     "shell.execute_reply": "2024-12-17T09:27:30.892376Z"
    },
    "papermill": {
     "duration": 1.023561,
     "end_time": "2024-12-17T09:27:30.895721",
     "exception": false,
     "start_time": "2024-12-17T09:27:29.872160",
     "status": "completed"
    },
    "tags": []
   },
   "outputs": [
    {
     "data": {
      "text/plain": [
       "<Compressed Sparse Row sparse matrix of dtype 'float64'\n",
       "\twith 1764607 stored elements and shape (35736, 38121)>"
      ]
     },
     "execution_count": 9,
     "metadata": {},
     "output_type": "execute_result"
    }
   ],
   "source": [
    "URM_all_dataframe = pd.read_csv(\"/kaggle/input/recommender-system-2024-challenge-polimi/data_train.csv\")\n",
    "\n",
    "n_users = len(URM_all_dataframe[\"user_id\"].unique())\n",
    "n_items = len(URM_all_dataframe[\"item_id\"].unique())\n",
    "\n",
    "URM_all = sps.csr_matrix((URM_all_dataframe[\"data\"].values, \n",
    "                          (URM_all_dataframe[\"user_id\"].values, URM_all_dataframe[\"item_id\"].values)),\n",
    "                        shape = (n_users, n_items))\n",
    "\n",
    "URM_all"
   ]
  },
  {
   "cell_type": "code",
   "execution_count": 10,
   "id": "f908cbc6",
   "metadata": {
    "execution": {
     "iopub.execute_input": "2024-12-17T09:27:30.924267Z",
     "iopub.status.busy": "2024-12-17T09:27:30.923833Z",
     "iopub.status.idle": "2024-12-17T09:27:32.515762Z",
     "shell.execute_reply": "2024-12-17T09:27:32.514527Z"
    },
    "papermill": {
     "duration": 1.609068,
     "end_time": "2024-12-17T09:27:32.518206",
     "exception": false,
     "start_time": "2024-12-17T09:27:30.909138",
     "status": "completed"
    },
    "tags": []
   },
   "outputs": [
    {
     "data": {
      "text/plain": [
       "<Compressed Sparse Row sparse matrix of dtype 'float64'\n",
       "\twith 2940040 stored elements and shape (38121, 94331)>"
      ]
     },
     "execution_count": 10,
     "metadata": {},
     "output_type": "execute_result"
    }
   ],
   "source": [
    "ICM_dataframe = pd.read_csv(\"/kaggle/input/recommender-system-2024-challenge-polimi/data_ICM_metadata.csv\")\n",
    "\n",
    "n_items = len(ICM_dataframe[\"item_id\"].unique())\n",
    "n_features = len(ICM_dataframe[\"feature_id\"].unique())\n",
    "\n",
    "ICM_all = sps.csr_matrix((ICM_dataframe[\"data\"].values, \n",
    "                          (ICM_dataframe[\"item_id\"].values, ICM_dataframe[\"feature_id\"].values)),\n",
    "                        shape = (n_items, n_features))\n",
    "\n",
    "ICM_all"
   ]
  },
  {
   "cell_type": "markdown",
   "id": "92c78df5",
   "metadata": {
    "papermill": {
     "duration": 0.012485,
     "end_time": "2024-12-17T09:27:32.543537",
     "exception": false,
     "start_time": "2024-12-17T09:27:32.531052",
     "status": "completed"
    },
    "tags": []
   },
   "source": [
    "# Training"
   ]
  },
  {
   "cell_type": "code",
   "execution_count": 11,
   "id": "09ea5356",
   "metadata": {
    "execution": {
     "iopub.execute_input": "2024-12-17T09:27:32.571200Z",
     "iopub.status.busy": "2024-12-17T09:27:32.570692Z",
     "iopub.status.idle": "2024-12-17T09:27:35.750572Z",
     "shell.execute_reply": "2024-12-17T09:27:35.748976Z"
    },
    "papermill": {
     "duration": 3.196768,
     "end_time": "2024-12-17T09:27:35.753129",
     "exception": false,
     "start_time": "2024-12-17T09:27:32.556361",
     "status": "completed"
    },
    "tags": []
   },
   "outputs": [
    {
     "name": "stdout",
     "output_type": "stream",
     "text": [
      "Warning: 141 (0.39 %) of 35736 users have no sampled items\n",
      "EvaluatorHoldout: Ignoring 141 ( 0.4%) Users that have less than 1 test interactions\n"
     ]
    }
   ],
   "source": [
    "from Evaluation.Evaluator import EvaluatorHoldout\n",
    "from Data_manager.split_functions.split_train_validation_random_holdout import split_train_in_two_percentage_global_sample\n",
    "\n",
    "URM_train, URM_validation = split_train_in_two_percentage_global_sample(URM_all, train_percentage = 0.80)\n",
    "\n",
    "evaluator_validation = EvaluatorHoldout(URM_validation, cutoff_list=[10])"
   ]
  },
  {
   "cell_type": "code",
   "execution_count": 12,
   "id": "eae3550c",
   "metadata": {
    "execution": {
     "iopub.execute_input": "2024-12-17T09:27:35.782084Z",
     "iopub.status.busy": "2024-12-17T09:27:35.781641Z",
     "iopub.status.idle": "2024-12-17T09:27:35.804407Z",
     "shell.execute_reply": "2024-12-17T09:27:35.802892Z"
    },
    "papermill": {
     "duration": 0.040247,
     "end_time": "2024-12-17T09:27:35.807006",
     "exception": false,
     "start_time": "2024-12-17T09:27:35.766759",
     "status": "completed"
    },
    "tags": []
   },
   "outputs": [],
   "source": [
    "from Recommenders.KNN.ItemKNNCBFRecommender import ItemKNNCBFRecommender\n",
    "\n",
    "def objective_function_ItemKNNCBF(optuna_trial):\n",
    "    \n",
    "    recommender_instance = ItemKNNCBFRecommender(URM_train, ICM_all)\n",
    "    similarity = optuna_trial.suggest_categorical(\"similarity\", ['cosine', 'dice', 'jaccard', 'asymmetric', 'tversky', 'euclidean'])\n",
    "    \n",
    "    full_hyperp = {\"similarity\": similarity,\n",
    "                   \"topK\": optuna_trial.suggest_int(\"topK\", 0, 750),\n",
    "                   \"shrink\": optuna_trial.suggest_int(\"shrink\", 0, 1000),\n",
    "                   'feature_weighting': optuna_trial.suggest_categorical('feature_weighting', [\"BM25\", \"TF-IDF\", \"none\"])\n",
    "                  }\n",
    "    \n",
    "    if similarity == \"asymmetric\":\n",
    "        full_hyperp[\"asymmetric_alpha\"] = optuna_trial.suggest_float(\"asymmetric_alpha\", 0, 2, log=False)\n",
    "        full_hyperp[\"normalize\"] = True     \n",
    "\n",
    "    elif similarity == \"tversky\":\n",
    "        full_hyperp[\"tversky_alpha\"] = optuna_trial.suggest_float(\"tversky_alpha\", 0, 2, log=False)\n",
    "        full_hyperp[\"tversky_beta\"] = optuna_trial.suggest_float(\"tversky_beta\", 0, 2, log=False)\n",
    "        full_hyperp[\"normalize\"] = True \n",
    "\n",
    "    elif similarity == \"euclidean\":\n",
    "        full_hyperp[\"normalize_avg_row\"] = optuna_trial.suggest_categorical(\"normalize_avg_row\", [True, False])\n",
    "        full_hyperp[\"similarity_from_distance_mode\"] = optuna_trial.suggest_categorical(\"similarity_from_distance_mode\", [\"lin\", \"log\", \"exp\"])\n",
    "        full_hyperp[\"normalize\"] = optuna_trial.suggest_categorical(\"normalize\", [True, False])\n",
    "        \n",
    "    \n",
    "    recommender_instance.fit(**full_hyperp)\n",
    "    \n",
    "    result_df, _ = evaluator_validation.evaluateRecommender(recommender_instance)\n",
    "    \n",
    "    return result_df.loc[10][\"MAP\"]"
   ]
  },
  {
   "cell_type": "code",
   "execution_count": 13,
   "id": "9c2967f3",
   "metadata": {
    "_kg_hide-output": true,
    "execution": {
     "iopub.execute_input": "2024-12-17T09:27:35.837352Z",
     "iopub.status.busy": "2024-12-17T09:27:35.836851Z",
     "iopub.status.idle": "2024-12-17T14:52:34.041719Z",
     "shell.execute_reply": "2024-12-17T14:52:34.040220Z"
    },
    "papermill": {
     "duration": 19498.223992,
     "end_time": "2024-12-17T14:52:34.044447",
     "exception": false,
     "start_time": "2024-12-17T09:27:35.820455",
     "status": "completed"
    },
    "tags": []
   },
   "outputs": [
    {
     "name": "stderr",
     "output_type": "stream",
     "text": [
      "[I 2024-12-17 09:27:37,877] Using an existing study with name 'hyperparameters_tuning_ItemKNNCBF_MAP' instead of creating a new one.\n"
     ]
    },
    {
     "name": "stdout",
     "output_type": "stream",
     "text": [
      "Similarity column 38121 (100.0%), 912.14 column/sec. Elapsed time 41.79 sec\n",
      "EvaluatorHoldout: Processed 35595 (100.0%) in 25.10 sec. Users per second: 1418\n"
     ]
    },
    {
     "name": "stderr",
     "output_type": "stream",
     "text": [
      "[I 2024-12-17 09:28:45,626] Trial 300 finished with value: 0.00028209999175022335 and parameters: {'similarity': 'cosine', 'topK': 0, 'shrink': 983, 'feature_weighting': 'BM25'}. Best is trial 192 with value: 0.01876248782043132.\n"
     ]
    },
    {
     "name": "stdout",
     "output_type": "stream",
     "text": [
      "Similarity column 38121 (100.0%), 671.94 column/sec. Elapsed time 56.73 sec\n",
      "EvaluatorHoldout: Processed 35595 (100.0%) in 34.68 sec. Users per second: 1026\n"
     ]
    },
    {
     "name": "stderr",
     "output_type": "stream",
     "text": [
      "[I 2024-12-17 09:30:17,664] Trial 301 finished with value: 0.01856356787224888 and parameters: {'similarity': 'cosine', 'topK': 15, 'shrink': 911, 'feature_weighting': 'BM25'}. Best is trial 192 with value: 0.01876248782043132.\n"
     ]
    },
    {
     "name": "stdout",
     "output_type": "stream",
     "text": [
      "Similarity column 38121 (100.0%), 669.62 column/sec. Elapsed time 56.93 sec\n",
      "EvaluatorHoldout: Processed 35595 (100.0%) in 34.78 sec. Users per second: 1023\n"
     ]
    },
    {
     "name": "stderr",
     "output_type": "stream",
     "text": [
      "[I 2024-12-17 09:31:50,046] Trial 302 finished with value: 0.018411837760341835 and parameters: {'similarity': 'cosine', 'topK': 35, 'shrink': 950, 'feature_weighting': 'BM25'}. Best is trial 192 with value: 0.01876248782043132.\n"
     ]
    },
    {
     "name": "stdout",
     "output_type": "stream",
     "text": [
      "Similarity column 38121 (100.0%), 668.62 column/sec. Elapsed time 57.01 sec\n",
      "EvaluatorHoldout: Processed 35595 (100.0%) in 34.20 sec. Users per second: 1041\n"
     ]
    },
    {
     "name": "stderr",
     "output_type": "stream",
     "text": [
      "[I 2024-12-17 09:33:21,826] Trial 303 finished with value: 0.01852577943665178 and parameters: {'similarity': 'cosine', 'topK': 23, 'shrink': 968, 'feature_weighting': 'TF-IDF'}. Best is trial 192 with value: 0.01876248782043132.\n"
     ]
    },
    {
     "name": "stdout",
     "output_type": "stream",
     "text": [
      "Similarity column 38121 (100.0%), 671.84 column/sec. Elapsed time 56.74 sec\n",
      "EvaluatorHoldout: Processed 35595 (100.0%) in 33.17 sec. Users per second: 1073\n"
     ]
    },
    {
     "name": "stderr",
     "output_type": "stream",
     "text": [
      "[I 2024-12-17 09:34:52,417] Trial 304 finished with value: 0.0186443599399773 and parameters: {'similarity': 'cosine', 'topK': 11, 'shrink': 1000, 'feature_weighting': 'BM25'}. Best is trial 192 with value: 0.01876248782043132.\n"
     ]
    },
    {
     "name": "stdout",
     "output_type": "stream",
     "text": [
      "Similarity column 38121 (100.0%), 672.35 column/sec. Elapsed time 56.70 sec\n",
      "EvaluatorHoldout: Processed 35595 (100.0%) in 36.23 sec. Users per second: 983\n"
     ]
    },
    {
     "name": "stderr",
     "output_type": "stream",
     "text": [
      "[I 2024-12-17 09:36:25,943] Trial 305 finished with value: 0.018398826525038107 and parameters: {'similarity': 'cosine', 'topK': 51, 'shrink': 997, 'feature_weighting': 'BM25'}. Best is trial 192 with value: 0.01876248782043132.\n"
     ]
    },
    {
     "name": "stdout",
     "output_type": "stream",
     "text": [
      "Similarity column 38121 (100.0%), 216.17 column/sec. Elapsed time 2.94 min\n",
      "EvaluatorHoldout: Processed 35595 (100.0%) in 32.31 sec. Users per second: 1102\n"
     ]
    },
    {
     "name": "stderr",
     "output_type": "stream",
     "text": [
      "[I 2024-12-17 09:39:55,042] Trial 306 finished with value: 0.009852861892052986 and parameters: {'similarity': 'euclidean', 'topK': 11, 'shrink': 999, 'feature_weighting': 'BM25', 'normalize_avg_row': False, 'similarity_from_distance_mode': 'lin', 'normalize': False}. Best is trial 192 with value: 0.01876248782043132.\n"
     ]
    },
    {
     "name": "stdout",
     "output_type": "stream",
     "text": [
      "Similarity column 38121 (100.0%), 660.55 column/sec. Elapsed time 57.71 sec\n",
      "EvaluatorHoldout: Processed 35595 (100.0%) in 36.91 sec. Users per second: 964\n"
     ]
    },
    {
     "name": "stderr",
     "output_type": "stream",
     "text": [
      "[I 2024-12-17 09:41:30,368] Trial 307 finished with value: 0.018414200094984026 and parameters: {'similarity': 'cosine', 'topK': 33, 'shrink': 985, 'feature_weighting': 'BM25'}. Best is trial 192 with value: 0.01876248782043132.\n"
     ]
    },
    {
     "name": "stdout",
     "output_type": "stream",
     "text": [
      "Similarity column 38121 (100.0%), 672.02 column/sec. Elapsed time 56.73 sec\n",
      "EvaluatorHoldout: Processed 35595 (100.0%) in 35.35 sec. Users per second: 1007\n"
     ]
    },
    {
     "name": "stderr",
     "output_type": "stream",
     "text": [
      "[I 2024-12-17 09:43:03,040] Trial 308 finished with value: 0.01871702597787728 and parameters: {'similarity': 'cosine', 'topK': 23, 'shrink': 939, 'feature_weighting': 'BM25'}. Best is trial 192 with value: 0.01876248782043132.\n"
     ]
    },
    {
     "name": "stdout",
     "output_type": "stream",
     "text": [
      "Similarity column 38121 (100.0%), 894.59 column/sec. Elapsed time 42.61 sec\n",
      "EvaluatorHoldout: Processed 35595 (100.0%) in 28.22 sec. Users per second: 1261\n"
     ]
    },
    {
     "name": "stderr",
     "output_type": "stream",
     "text": [
      "[I 2024-12-17 09:44:14,361] Trial 309 finished with value: 0.00028209999175022335 and parameters: {'similarity': 'asymmetric', 'topK': 0, 'shrink': 976, 'feature_weighting': 'none', 'asymmetric_alpha': 1.7450935447857439}. Best is trial 192 with value: 0.01876248782043132.\n"
     ]
    },
    {
     "name": "stdout",
     "output_type": "stream",
     "text": [
      "Similarity column 38121 (100.0%), 650.69 column/sec. Elapsed time 58.59 sec\n",
      "EvaluatorHoldout: Processed 35595 (100.0%) in 46.91 sec. Users per second: 759\n"
     ]
    },
    {
     "name": "stderr",
     "output_type": "stream",
     "text": [
      "[I 2024-12-17 09:46:00,993] Trial 310 finished with value: 0.01701404691670196 and parameters: {'similarity': 'cosine', 'topK': 340, 'shrink': 947, 'feature_weighting': 'BM25'}. Best is trial 192 with value: 0.01876248782043132.\n"
     ]
    },
    {
     "name": "stdout",
     "output_type": "stream",
     "text": [
      "Similarity column 38121 (100.0%), 670.23 column/sec. Elapsed time 56.88 sec\n",
      "EvaluatorHoldout: Processed 35595 (100.0%) in 35.30 sec. Users per second: 1008\n"
     ]
    },
    {
     "name": "stderr",
     "output_type": "stream",
     "text": [
      "[I 2024-12-17 09:47:33,810] Trial 311 finished with value: 0.01836784304019872 and parameters: {'similarity': 'cosine', 'topK': 46, 'shrink': 964, 'feature_weighting': 'BM25'}. Best is trial 192 with value: 0.01876248782043132.\n"
     ]
    },
    {
     "name": "stdout",
     "output_type": "stream",
     "text": [
      "Similarity column 38121 (100.0%), 673.66 column/sec. Elapsed time 56.59 sec\n",
      "EvaluatorHoldout: Processed 35595 (100.0%) in 37.54 sec. Users per second: 948\n"
     ]
    },
    {
     "name": "stderr",
     "output_type": "stream",
     "text": [
      "[I 2024-12-17 09:49:08,549] Trial 312 finished with value: 0.01826781004109287 and parameters: {'similarity': 'cosine', 'topK': 66, 'shrink': 935, 'feature_weighting': 'BM25'}. Best is trial 192 with value: 0.01876248782043132.\n"
     ]
    },
    {
     "name": "stdout",
     "output_type": "stream",
     "text": [
      "Similarity column 38121 (100.0%), 672.73 column/sec. Elapsed time 56.67 sec\n",
      "EvaluatorHoldout: Processed 35595 (100.0%) in 34.01 sec. Users per second: 1047\n"
     ]
    },
    {
     "name": "stderr",
     "output_type": "stream",
     "text": [
      "[I 2024-12-17 09:50:39,789] Trial 313 finished with value: 0.018628220478620866 and parameters: {'similarity': 'cosine', 'topK': 21, 'shrink': 1000, 'feature_weighting': 'BM25'}. Best is trial 192 with value: 0.01876248782043132.\n"
     ]
    },
    {
     "name": "stdout",
     "output_type": "stream",
     "text": [
      "Similarity column 38121 (100.0%), 673.43 column/sec. Elapsed time 56.61 sec\n",
      "EvaluatorHoldout: Processed 35595 (100.0%) in 33.57 sec. Users per second: 1060\n"
     ]
    },
    {
     "name": "stderr",
     "output_type": "stream",
     "text": [
      "[I 2024-12-17 09:52:10,517] Trial 314 finished with value: 0.01859508759255921 and parameters: {'similarity': 'cosine', 'topK': 10, 'shrink': 657, 'feature_weighting': 'BM25'}. Best is trial 192 with value: 0.01876248782043132.\n"
     ]
    },
    {
     "name": "stdout",
     "output_type": "stream",
     "text": [
      "Similarity column 38121 (100.0%), 673.93 column/sec. Elapsed time 56.56 sec\n",
      "EvaluatorHoldout: Processed 35595 (100.0%) in 35.15 sec. Users per second: 1013\n"
     ]
    },
    {
     "name": "stderr",
     "output_type": "stream",
     "text": [
      "[I 2024-12-17 09:53:43,183] Trial 315 finished with value: 0.014023690236501463 and parameters: {'similarity': 'jaccard', 'topK': 27, 'shrink': 236, 'feature_weighting': 'BM25'}. Best is trial 192 with value: 0.01876248782043132.\n"
     ]
    },
    {
     "name": "stdout",
     "output_type": "stream",
     "text": [
      "Similarity column 38121 (100.0%), 938.85 column/sec. Elapsed time 40.60 sec\n",
      "EvaluatorHoldout: Processed 35595 (100.0%) in 25.59 sec. Users per second: 1391\n"
     ]
    },
    {
     "name": "stderr",
     "output_type": "stream",
     "text": [
      "[I 2024-12-17 09:54:49,897] Trial 316 finished with value: 0.00028209999175022335 and parameters: {'similarity': 'cosine', 'topK': 0, 'shrink': 980, 'feature_weighting': 'BM25'}. Best is trial 192 with value: 0.01876248782043132.\n"
     ]
    },
    {
     "name": "stdout",
     "output_type": "stream",
     "text": [
      "Similarity column 38121 (100.0%), 673.47 column/sec. Elapsed time 56.60 sec\n",
      "EvaluatorHoldout: Processed 35595 (100.0%) in 35.34 sec. Users per second: 1007\n"
     ]
    },
    {
     "name": "stderr",
     "output_type": "stream",
     "text": [
      "[I 2024-12-17 09:56:22,555] Trial 317 finished with value: 0.01841776422138837 and parameters: {'similarity': 'cosine', 'topK': 40, 'shrink': 953, 'feature_weighting': 'BM25'}. Best is trial 192 with value: 0.01876248782043132.\n"
     ]
    },
    {
     "name": "stdout",
     "output_type": "stream",
     "text": [
      "Similarity column 38121 (100.0%), 672.99 column/sec. Elapsed time 56.64 sec\n",
      "EvaluatorHoldout: Processed 35595 (100.0%) in 33.50 sec. Users per second: 1063\n"
     ]
    },
    {
     "name": "stderr",
     "output_type": "stream",
     "text": [
      "[I 2024-12-17 09:57:53,252] Trial 318 finished with value: 0.018579148801441278 and parameters: {'similarity': 'cosine', 'topK': 16, 'shrink': 982, 'feature_weighting': 'BM25'}. Best is trial 192 with value: 0.01876248782043132.\n"
     ]
    },
    {
     "name": "stdout",
     "output_type": "stream",
     "text": [
      "Similarity column 38121 (100.0%), 677.46 column/sec. Elapsed time 56.27 sec\n",
      "EvaluatorHoldout: Processed 35595 (100.0%) in 35.13 sec. Users per second: 1013\n"
     ]
    },
    {
     "name": "stderr",
     "output_type": "stream",
     "text": [
      "[I 2024-12-17 09:59:25,590] Trial 319 finished with value: 0.012600553626891942 and parameters: {'similarity': 'dice', 'topK': 31, 'shrink': 938, 'feature_weighting': 'BM25'}. Best is trial 192 with value: 0.01876248782043132.\n"
     ]
    },
    {
     "name": "stdout",
     "output_type": "stream",
     "text": [
      "Similarity column 38121 (100.0%), 661.67 column/sec. Elapsed time 57.61 sec\n",
      "EvaluatorHoldout: Processed 35595 (100.0%) in 39.70 sec. Users per second: 897\n"
     ]
    },
    {
     "name": "stderr",
     "output_type": "stream",
     "text": [
      "[I 2024-12-17 10:01:03,599] Trial 320 finished with value: 0.01811382907800952 and parameters: {'similarity': 'cosine', 'topK': 81, 'shrink': 963, 'feature_weighting': 'BM25'}. Best is trial 192 with value: 0.01876248782043132.\n"
     ]
    },
    {
     "name": "stdout",
     "output_type": "stream",
     "text": [
      "Similarity column 38121 (100.0%), 670.19 column/sec. Elapsed time 56.88 sec\n",
      "EvaluatorHoldout: Processed 35595 (100.0%) in 37.45 sec. Users per second: 950\n"
     ]
    },
    {
     "name": "stderr",
     "output_type": "stream",
     "text": [
      "[I 2024-12-17 10:02:38,557] Trial 321 finished with value: 0.01832711813011013 and parameters: {'similarity': 'cosine', 'topK': 57, 'shrink': 897, 'feature_weighting': 'BM25'}. Best is trial 192 with value: 0.01876248782043132.\n"
     ]
    },
    {
     "name": "stdout",
     "output_type": "stream",
     "text": [
      "Similarity column 38121 (100.0%), 676.36 column/sec. Elapsed time 56.36 sec\n",
      "EvaluatorHoldout: Processed 35595 (100.0%) in 33.39 sec. Users per second: 1066\n"
     ]
    },
    {
     "name": "stderr",
     "output_type": "stream",
     "text": [
      "[I 2024-12-17 10:04:08,867] Trial 322 finished with value: 0.018630752268131115 and parameters: {'similarity': 'cosine', 'topK': 13, 'shrink': 999, 'feature_weighting': 'BM25'}. Best is trial 192 with value: 0.01876248782043132.\n"
     ]
    },
    {
     "name": "stdout",
     "output_type": "stream",
     "text": [
      "Similarity column 38121 (100.0%), 673.94 column/sec. Elapsed time 56.56 sec\n",
      "EvaluatorHoldout: Processed 35595 (100.0%) in 35.89 sec. Users per second: 992\n"
     ]
    },
    {
     "name": "stderr",
     "output_type": "stream",
     "text": [
      "[I 2024-12-17 10:05:41,928] Trial 323 finished with value: 0.018403049518725914 and parameters: {'similarity': 'cosine', 'topK': 43, 'shrink': 922, 'feature_weighting': 'BM25'}. Best is trial 192 with value: 0.01876248782043132.\n"
     ]
    },
    {
     "name": "stdout",
     "output_type": "stream",
     "text": [
      "Similarity column 38121 (100.0%), 943.10 column/sec. Elapsed time 40.42 sec\n",
      "EvaluatorHoldout: Processed 35595 (100.0%) in 25.00 sec. Users per second: 1424\n"
     ]
    },
    {
     "name": "stderr",
     "output_type": "stream",
     "text": [
      "[I 2024-12-17 10:06:47,850] Trial 324 finished with value: 0.00028209999175022335 and parameters: {'similarity': 'cosine', 'topK': 0, 'shrink': 972, 'feature_weighting': 'TF-IDF'}. Best is trial 192 with value: 0.01876248782043132.\n"
     ]
    },
    {
     "name": "stdout",
     "output_type": "stream",
     "text": [
      "Similarity column 38121 (100.0%), 673.96 column/sec. Elapsed time 56.56 sec\n",
      "EvaluatorHoldout: Processed 35595 (100.0%) in 34.27 sec. Users per second: 1039\n"
     ]
    },
    {
     "name": "stderr",
     "output_type": "stream",
     "text": [
      "[I 2024-12-17 10:08:19,319] Trial 325 finished with value: 0.018416768674038082 and parameters: {'similarity': 'cosine', 'topK': 24, 'shrink': 552, 'feature_weighting': 'BM25'}. Best is trial 192 with value: 0.01876248782043132.\n"
     ]
    },
    {
     "name": "stdout",
     "output_type": "stream",
     "text": [
      "Similarity column 38121 (100.0%), 659.97 column/sec. Elapsed time 57.76 sec\n",
      "EvaluatorHoldout: Processed 35595 (100.0%) in 32.81 sec. Users per second: 1085\n"
     ]
    },
    {
     "name": "stderr",
     "output_type": "stream",
     "text": [
      "[I 2024-12-17 10:09:50,834] Trial 326 finished with value: 0.012675508420346504 and parameters: {'similarity': 'tversky', 'topK': 15, 'shrink': 955, 'feature_weighting': 'BM25', 'tversky_alpha': 1.6695292729939624, 'tversky_beta': 0.34856462553179335}. Best is trial 192 with value: 0.01876248782043132.\n"
     ]
    },
    {
     "name": "stdout",
     "output_type": "stream",
     "text": [
      "Similarity column 38121 (100.0%), 672.74 column/sec. Elapsed time 56.66 sec\n",
      "EvaluatorHoldout: Processed 35595 (100.0%) in 35.06 sec. Users per second: 1015\n"
     ]
    },
    {
     "name": "stderr",
     "output_type": "stream",
     "text": [
      "[I 2024-12-17 10:11:23,181] Trial 327 finished with value: 0.01840369612282812 and parameters: {'similarity': 'cosine', 'topK': 32, 'shrink': 984, 'feature_weighting': 'BM25'}. Best is trial 192 with value: 0.01876248782043132.\n"
     ]
    },
    {
     "name": "stdout",
     "output_type": "stream",
     "text": [
      "Similarity column 38121 (100.0%), 658.83 column/sec. Elapsed time 57.86 sec\n",
      "EvaluatorHoldout: Processed 35595 (100.0%) in 39.44 sec. Users per second: 902\n"
     ]
    },
    {
     "name": "stderr",
     "output_type": "stream",
     "text": [
      "[I 2024-12-17 10:13:01,112] Trial 328 finished with value: 0.018381840904175554 and parameters: {'similarity': 'cosine', 'topK': 46, 'shrink': 935, 'feature_weighting': 'BM25'}. Best is trial 192 with value: 0.01876248782043132.\n"
     ]
    },
    {
     "name": "stdout",
     "output_type": "stream",
     "text": [
      "Similarity column 38121 (100.0%), 642.44 column/sec. Elapsed time 59.34 sec\n",
      "EvaluatorHoldout: Processed 35595 (100.0%) in 58.46 sec. Users per second: 609\n"
     ]
    },
    {
     "name": "stderr",
     "output_type": "stream",
     "text": [
      "[I 2024-12-17 10:15:00,380] Trial 329 finished with value: 0.016397320383414158 and parameters: {'similarity': 'cosine', 'topK': 623, 'shrink': 961, 'feature_weighting': 'BM25'}. Best is trial 192 with value: 0.01876248782043132.\n"
     ]
    },
    {
     "name": "stdout",
     "output_type": "stream",
     "text": [
      "Similarity column 38121 (100.0%), 166.10 column/sec. Elapsed time 3.83 min\n",
      "EvaluatorHoldout: Processed 35595 (100.0%) in 40.27 sec. Users per second: 884\n"
     ]
    },
    {
     "name": "stderr",
     "output_type": "stream",
     "text": [
      "[I 2024-12-17 10:19:31,027] Trial 330 finished with value: 0.0068355262131073345 and parameters: {'similarity': 'euclidean', 'topK': 405, 'shrink': 873, 'feature_weighting': 'BM25', 'normalize_avg_row': True, 'similarity_from_distance_mode': 'log', 'normalize': False}. Best is trial 192 with value: 0.01876248782043132.\n"
     ]
    },
    {
     "name": "stdout",
     "output_type": "stream",
     "text": [
      "Similarity column 38121 (100.0%), 666.56 column/sec. Elapsed time 57.19 sec\n",
      "EvaluatorHoldout: Processed 35595 (100.0%) in 32.27 sec. Users per second: 1103\n"
     ]
    },
    {
     "name": "stderr",
     "output_type": "stream",
     "text": [
      "[I 2024-12-17 10:21:00,946] Trial 331 finished with value: 0.012543790705400808 and parameters: {'similarity': 'cosine', 'topK': 13, 'shrink': 983, 'feature_weighting': 'none'}. Best is trial 192 with value: 0.01876248782043132.\n"
     ]
    },
    {
     "name": "stdout",
     "output_type": "stream",
     "text": [
      "Similarity column 38121 (100.0%), 672.38 column/sec. Elapsed time 56.70 sec\n",
      "EvaluatorHoldout: Processed 35595 (100.0%) in 33.99 sec. Users per second: 1047\n"
     ]
    },
    {
     "name": "stderr",
     "output_type": "stream",
     "text": [
      "[I 2024-12-17 10:22:32,204] Trial 332 finished with value: 0.018428660615344174 and parameters: {'similarity': 'cosine', 'topK': 26, 'shrink': 611, 'feature_weighting': 'BM25'}. Best is trial 192 with value: 0.01876248782043132.\n"
     ]
    },
    {
     "name": "stdout",
     "output_type": "stream",
     "text": [
      "Similarity column 38121 (100.0%), 672.05 column/sec. Elapsed time 56.72 sec\n",
      "EvaluatorHoldout: Processed 35595 (100.0%) in 36.23 sec. Users per second: 983\n"
     ]
    },
    {
     "name": "stderr",
     "output_type": "stream",
     "text": [
      "[I 2024-12-17 10:24:05,767] Trial 333 finished with value: 0.018306732263538038 and parameters: {'similarity': 'cosine', 'topK': 59, 'shrink': 946, 'feature_weighting': 'BM25'}. Best is trial 192 with value: 0.01876248782043132.\n"
     ]
    },
    {
     "name": "stdout",
     "output_type": "stream",
     "text": [
      "Similarity column 38121 (100.0%), 672.38 column/sec. Elapsed time 56.70 sec\n",
      "EvaluatorHoldout: Processed 35595 (100.0%) in 34.87 sec. Users per second: 1021\n"
     ]
    },
    {
     "name": "stderr",
     "output_type": "stream",
     "text": [
      "[I 2024-12-17 10:25:37,917] Trial 334 finished with value: 0.018452280617261715 and parameters: {'similarity': 'cosine', 'topK': 36, 'shrink': 920, 'feature_weighting': 'BM25'}. Best is trial 192 with value: 0.01876248782043132.\n"
     ]
    },
    {
     "name": "stdout",
     "output_type": "stream",
     "text": [
      "Similarity column 38121 (100.0%), 667.43 column/sec. Elapsed time 57.12 sec\n",
      "EvaluatorHoldout: Processed 35595 (100.0%) in 42.82 sec. Users per second: 831\n"
     ]
    },
    {
     "name": "stderr",
     "output_type": "stream",
     "text": [
      "[I 2024-12-17 10:27:18,686] Trial 335 finished with value: 0.017405755222443045 and parameters: {'similarity': 'cosine', 'topK': 216, 'shrink': 970, 'feature_weighting': 'BM25'}. Best is trial 192 with value: 0.01876248782043132.\n"
     ]
    },
    {
     "name": "stdout",
     "output_type": "stream",
     "text": [
      "Similarity column 38121 (100.0%), 940.25 column/sec. Elapsed time 40.54 sec\n",
      "EvaluatorHoldout: Processed 35595 (100.0%) in 25.05 sec. Users per second: 1421\n"
     ]
    },
    {
     "name": "stderr",
     "output_type": "stream",
     "text": [
      "[I 2024-12-17 10:28:24,815] Trial 336 finished with value: 0.00028209999175022335 and parameters: {'similarity': 'cosine', 'topK': 0, 'shrink': 983, 'feature_weighting': 'BM25'}. Best is trial 192 with value: 0.01876248782043132.\n"
     ]
    },
    {
     "name": "stdout",
     "output_type": "stream",
     "text": [
      "Similarity column 38121 (100.0%), 674.42 column/sec. Elapsed time 56.52 sec\n",
      "EvaluatorHoldout: Processed 35595 (100.0%) in 33.48 sec. Users per second: 1063\n"
     ]
    },
    {
     "name": "stderr",
     "output_type": "stream",
     "text": [
      "[I 2024-12-17 10:29:55,396] Trial 337 finished with value: 0.018384717177595412 and parameters: {'similarity': 'asymmetric', 'topK': 15, 'shrink': 999, 'feature_weighting': 'BM25', 'asymmetric_alpha': 0.9659265729244032}. Best is trial 192 with value: 0.01876248782043132.\n"
     ]
    },
    {
     "name": "stdout",
     "output_type": "stream",
     "text": [
      "Similarity column 38121 (100.0%), 669.85 column/sec. Elapsed time 56.91 sec\n",
      "EvaluatorHoldout: Processed 35595 (100.0%) in 37.31 sec. Users per second: 954\n"
     ]
    },
    {
     "name": "stderr",
     "output_type": "stream",
     "text": [
      "[I 2024-12-17 10:31:30,203] Trial 338 finished with value: 0.018625500282053165 and parameters: {'similarity': 'cosine', 'topK': 24, 'shrink': 905, 'feature_weighting': 'BM25'}. Best is trial 192 with value: 0.01876248782043132.\n"
     ]
    },
    {
     "name": "stdout",
     "output_type": "stream",
     "text": [
      "Similarity column 38121 (100.0%), 925.51 column/sec. Elapsed time 41.19 sec\n",
      "EvaluatorHoldout: Processed 35595 (100.0%) in 27.64 sec. Users per second: 1288\n"
     ]
    },
    {
     "name": "stderr",
     "output_type": "stream",
     "text": [
      "[I 2024-12-17 10:32:39,695] Trial 339 finished with value: 0.00028209999175022335 and parameters: {'similarity': 'cosine', 'topK': 0, 'shrink': 948, 'feature_weighting': 'BM25'}. Best is trial 192 with value: 0.01876248782043132.\n"
     ]
    },
    {
     "name": "stdout",
     "output_type": "stream",
     "text": [
      "Similarity column 38121 (100.0%), 657.67 column/sec. Elapsed time 57.96 sec\n",
      "EvaluatorHoldout: Processed 35595 (100.0%) in 35.18 sec. Users per second: 1012\n"
     ]
    },
    {
     "name": "stderr",
     "output_type": "stream",
     "text": [
      "[I 2024-12-17 10:34:13,588] Trial 340 finished with value: 0.018397764087608227 and parameters: {'similarity': 'cosine', 'topK': 42, 'shrink': 961, 'feature_weighting': 'BM25'}. Best is trial 192 with value: 0.01876248782043132.\n"
     ]
    },
    {
     "name": "stdout",
     "output_type": "stream",
     "text": [
      "Similarity column 38121 (100.0%), 669.22 column/sec. Elapsed time 56.96 sec\n",
      "EvaluatorHoldout: Processed 35595 (100.0%) in 37.77 sec. Users per second: 942\n"
     ]
    },
    {
     "name": "stderr",
     "output_type": "stream",
     "text": [
      "[I 2024-12-17 10:35:48,998] Trial 341 finished with value: 0.01821256217990319 and parameters: {'similarity': 'cosine', 'topK': 72, 'shrink': 1000, 'feature_weighting': 'BM25'}. Best is trial 192 with value: 0.01876248782043132.\n"
     ]
    },
    {
     "name": "stdout",
     "output_type": "stream",
     "text": [
      "Similarity column 38121 (100.0%), 673.85 column/sec. Elapsed time 56.57 sec\n",
      "EvaluatorHoldout: Processed 35595 (100.0%) in 34.97 sec. Users per second: 1018\n"
     ]
    },
    {
     "name": "stderr",
     "output_type": "stream",
     "text": [
      "[I 2024-12-17 10:37:21,109] Trial 342 finished with value: 0.018637998693413784 and parameters: {'similarity': 'cosine', 'topK': 22, 'shrink': 931, 'feature_weighting': 'BM25'}. Best is trial 192 with value: 0.01876248782043132.\n"
     ]
    },
    {
     "name": "stdout",
     "output_type": "stream",
     "text": [
      "Similarity column 38121 (100.0%), 667.60 column/sec. Elapsed time 57.10 sec\n",
      "EvaluatorHoldout: Processed 35595 (100.0%) in 34.51 sec. Users per second: 1032\n"
     ]
    },
    {
     "name": "stderr",
     "output_type": "stream",
     "text": [
      "[I 2024-12-17 10:38:53,286] Trial 343 finished with value: 0.01858673302162563 and parameters: {'similarity': 'cosine', 'topK': 14, 'shrink': 969, 'feature_weighting': 'BM25'}. Best is trial 192 with value: 0.01876248782043132.\n"
     ]
    },
    {
     "name": "stdout",
     "output_type": "stream",
     "text": [
      "Similarity column 38121 (100.0%), 672.28 column/sec. Elapsed time 56.70 sec\n",
      "EvaluatorHoldout: Processed 35595 (100.0%) in 36.08 sec. Users per second: 987\n"
     ]
    },
    {
     "name": "stderr",
     "output_type": "stream",
     "text": [
      "[I 2024-12-17 10:40:27,005] Trial 344 finished with value: 0.013249184498447454 and parameters: {'similarity': 'jaccard', 'topK': 37, 'shrink': 395, 'feature_weighting': 'BM25'}. Best is trial 192 with value: 0.01876248782043132.\n"
     ]
    },
    {
     "name": "stdout",
     "output_type": "stream",
     "text": [
      "Similarity column 38121 (100.0%), 671.64 column/sec. Elapsed time 56.76 sec\n",
      "EvaluatorHoldout: Processed 35595 (100.0%) in 37.29 sec. Users per second: 954\n"
     ]
    },
    {
     "name": "stderr",
     "output_type": "stream",
     "text": [
      "[I 2024-12-17 10:42:01,768] Trial 345 finished with value: 0.01834030327962067 and parameters: {'similarity': 'cosine', 'topK': 55, 'shrink': 947, 'feature_weighting': 'BM25'}. Best is trial 192 with value: 0.01876248782043132.\n"
     ]
    },
    {
     "name": "stdout",
     "output_type": "stream",
     "text": [
      "Similarity column 38121 (100.0%), 670.37 column/sec. Elapsed time 56.87 sec\n",
      "EvaluatorHoldout: Processed 35595 (100.0%) in 32.99 sec. Users per second: 1079\n"
     ]
    },
    {
     "name": "stderr",
     "output_type": "stream",
     "text": [
      "[I 2024-12-17 10:43:32,280] Trial 346 finished with value: 0.01605746526732649 and parameters: {'similarity': 'cosine', 'topK': 12, 'shrink': 19, 'feature_weighting': 'TF-IDF'}. Best is trial 192 with value: 0.01876248782043132.\n"
     ]
    },
    {
     "name": "stdout",
     "output_type": "stream",
     "text": [
      "Similarity column 38121 (100.0%), 667.74 column/sec. Elapsed time 57.09 sec\n",
      "EvaluatorHoldout: Processed 35595 (100.0%) in 34.78 sec. Users per second: 1024\n"
     ]
    },
    {
     "name": "stderr",
     "output_type": "stream",
     "text": [
      "[I 2024-12-17 10:45:04,767] Trial 347 finished with value: 0.018481513811686685 and parameters: {'similarity': 'cosine', 'topK': 28, 'shrink': 722, 'feature_weighting': 'BM25'}. Best is trial 192 with value: 0.01876248782043132.\n"
     ]
    },
    {
     "name": "stdout",
     "output_type": "stream",
     "text": [
      "Similarity column 38121 (100.0%), 666.91 column/sec. Elapsed time 57.16 sec\n",
      "EvaluatorHoldout: Processed 35595 (100.0%) in 44.40 sec. Users per second: 802\n"
     ]
    },
    {
     "name": "stderr",
     "output_type": "stream",
     "text": [
      "[I 2024-12-17 10:46:47,577] Trial 348 finished with value: 0.010619864792852821 and parameters: {'similarity': 'dice', 'topK': 264, 'shrink': 980, 'feature_weighting': 'BM25'}. Best is trial 192 with value: 0.01876248782043132.\n"
     ]
    },
    {
     "name": "stdout",
     "output_type": "stream",
     "text": [
      "Similarity column 38121 (100.0%), 674.16 column/sec. Elapsed time 56.55 sec\n",
      "EvaluatorHoldout: Processed 35595 (100.0%) in 33.11 sec. Users per second: 1075\n"
     ]
    },
    {
     "name": "stderr",
     "output_type": "stream",
     "text": [
      "[I 2024-12-17 10:48:17,795] Trial 349 finished with value: 0.01840084660544002 and parameters: {'similarity': 'cosine', 'topK': 12, 'shrink': 458, 'feature_weighting': 'BM25'}. Best is trial 192 with value: 0.01876248782043132.\n"
     ]
    },
    {
     "name": "stdout",
     "output_type": "stream",
     "text": [
      "Similarity column 38121 (100.0%), 671.01 column/sec. Elapsed time 56.81 sec\n",
      "EvaluatorHoldout: Processed 35595 (100.0%) in 35.60 sec. Users per second: 1000\n"
     ]
    },
    {
     "name": "stderr",
     "output_type": "stream",
     "text": [
      "[I 2024-12-17 10:49:50,819] Trial 350 finished with value: 0.018407825470404524 and parameters: {'similarity': 'cosine', 'topK': 43, 'shrink': 917, 'feature_weighting': 'BM25'}. Best is trial 192 with value: 0.01876248782043132.\n"
     ]
    },
    {
     "name": "stdout",
     "output_type": "stream",
     "text": [
      "Similarity column 38121 (100.0%), 940.21 column/sec. Elapsed time 40.55 sec\n",
      "EvaluatorHoldout: Processed 35595 (100.0%) in 26.16 sec. Users per second: 1361\n"
     ]
    },
    {
     "name": "stderr",
     "output_type": "stream",
     "text": [
      "[I 2024-12-17 10:50:58,053] Trial 351 finished with value: 0.00028209999175022335 and parameters: {'similarity': 'cosine', 'topK': 0, 'shrink': 890, 'feature_weighting': 'BM25'}. Best is trial 192 with value: 0.01876248782043132.\n"
     ]
    },
    {
     "name": "stdout",
     "output_type": "stream",
     "text": [
      "Similarity column 38121 (100.0%), 672.62 column/sec. Elapsed time 56.68 sec\n",
      "EvaluatorHoldout: Processed 35595 (100.0%) in 34.65 sec. Users per second: 1027\n"
     ]
    },
    {
     "name": "stderr",
     "output_type": "stream",
     "text": [
      "[I 2024-12-17 10:52:29,972] Trial 352 finished with value: 0.018594210217682636 and parameters: {'similarity': 'cosine', 'topK': 27, 'shrink': 965, 'feature_weighting': 'BM25'}. Best is trial 192 with value: 0.01876248782043132.\n"
     ]
    },
    {
     "name": "stdout",
     "output_type": "stream",
     "text": [
      "Similarity column 38121 (100.0%), 669.45 column/sec. Elapsed time 56.94 sec\n",
      "EvaluatorHoldout: Processed 35595 (100.0%) in 34.11 sec. Users per second: 1043\n"
     ]
    },
    {
     "name": "stderr",
     "output_type": "stream",
     "text": [
      "[I 2024-12-17 10:54:01,483] Trial 353 finished with value: 0.012271270487874263 and parameters: {'similarity': 'cosine', 'topK': 25, 'shrink': 935, 'feature_weighting': 'none'}. Best is trial 192 with value: 0.01876248782043132.\n"
     ]
    },
    {
     "name": "stdout",
     "output_type": "stream",
     "text": [
      "Similarity column 38121 (100.0%), 671.36 column/sec. Elapsed time 56.78 sec\n",
      "EvaluatorHoldout: Processed 35595 (100.0%) in 35.38 sec. Users per second: 1006\n"
     ]
    },
    {
     "name": "stderr",
     "output_type": "stream",
     "text": [
      "[I 2024-12-17 10:55:34,267] Trial 354 finished with value: 0.018441043083900287 and parameters: {'similarity': 'cosine', 'topK': 51, 'shrink': 982, 'feature_weighting': 'BM25'}. Best is trial 192 with value: 0.01876248782043132.\n"
     ]
    },
    {
     "name": "stdout",
     "output_type": "stream",
     "text": [
      "Similarity column 38121 (100.0%), 672.13 column/sec. Elapsed time 56.72 sec\n",
      "EvaluatorHoldout: Processed 35595 (100.0%) in 33.75 sec. Users per second: 1055\n"
     ]
    },
    {
     "name": "stderr",
     "output_type": "stream",
     "text": [
      "[I 2024-12-17 10:57:05,303] Trial 355 finished with value: 0.01860253245841109 and parameters: {'similarity': 'cosine', 'topK': 15, 'shrink': 952, 'feature_weighting': 'BM25'}. Best is trial 192 with value: 0.01876248782043132.\n"
     ]
    },
    {
     "name": "stdout",
     "output_type": "stream",
     "text": [
      "Similarity column 38121 (100.0%), 915.56 column/sec. Elapsed time 41.64 sec\n",
      "EvaluatorHoldout: Processed 35595 (100.0%) in 25.66 sec. Users per second: 1387\n"
     ]
    },
    {
     "name": "stderr",
     "output_type": "stream",
     "text": [
      "[I 2024-12-17 10:58:13,621] Trial 356 finished with value: 0.00028209999175022335 and parameters: {'similarity': 'tversky', 'topK': 0, 'shrink': 999, 'feature_weighting': 'BM25', 'tversky_alpha': 0.9637220353466789, 'tversky_beta': 0.7531876342296511}. Best is trial 192 with value: 0.01876248782043132.\n"
     ]
    },
    {
     "name": "stdout",
     "output_type": "stream",
     "text": [
      "Similarity column 38121 (100.0%), 664.79 column/sec. Elapsed time 57.34 sec\n",
      "EvaluatorHoldout: Processed 35595 (100.0%) in 35.61 sec. Users per second: 999\n"
     ]
    },
    {
     "name": "stderr",
     "output_type": "stream",
     "text": [
      "[I 2024-12-17 10:59:47,196] Trial 357 finished with value: 0.01843972869383748 and parameters: {'similarity': 'cosine', 'topK': 37, 'shrink': 970, 'feature_weighting': 'BM25'}. Best is trial 192 with value: 0.01876248782043132.\n",
      "/kaggle/working/RECsys_Challenge2024/Recommenders/Similarity/Compute_Similarity_Euclidean.py:167: RuntimeWarning: overflow encountered in exp\n",
      "  item_similarity = 1/(np.exp(item_distance) + self.shrink + 1e-9)\n"
     ]
    },
    {
     "name": "stdout",
     "output_type": "stream",
     "text": [
      "Similarity column 38121 (100.0%), 173.38 column/sec. Elapsed time 3.66 min\n",
      "EvaluatorHoldout: Processed 35595 (100.0%) in 32.97 sec. Users per second: 1080\n"
     ]
    },
    {
     "name": "stderr",
     "output_type": "stream",
     "text": [
      "[I 2024-12-17 11:04:00,536] Trial 358 finished with value: 0.017891004845071452 and parameters: {'similarity': 'euclidean', 'topK': 13, 'shrink': 937, 'feature_weighting': 'BM25', 'normalize_avg_row': False, 'similarity_from_distance_mode': 'exp', 'normalize': True}. Best is trial 192 with value: 0.01876248782043132.\n"
     ]
    },
    {
     "name": "stdout",
     "output_type": "stream",
     "text": [
      "Similarity column 38121 (100.0%), 670.94 column/sec. Elapsed time 56.82 sec\n",
      "EvaluatorHoldout: Processed 35595 (100.0%) in 35.10 sec. Users per second: 1014\n"
     ]
    },
    {
     "name": "stderr",
     "output_type": "stream",
     "text": [
      "[I 2024-12-17 11:05:33,043] Trial 359 finished with value: 0.01832839015645598 and parameters: {'similarity': 'cosine', 'topK': 32, 'shrink': 749, 'feature_weighting': 'BM25'}. Best is trial 192 with value: 0.01876248782043132.\n"
     ]
    },
    {
     "name": "stdout",
     "output_type": "stream",
     "text": [
      "Similarity column 38121 (100.0%), 668.49 column/sec. Elapsed time 57.03 sec\n",
      "EvaluatorHoldout: Processed 35595 (100.0%) in 34.12 sec. Users per second: 1043\n"
     ]
    },
    {
     "name": "stderr",
     "output_type": "stream",
     "text": [
      "[I 2024-12-17 11:07:04,768] Trial 360 finished with value: 0.018693229832083623 and parameters: {'similarity': 'cosine', 'topK': 23, 'shrink': 908, 'feature_weighting': 'BM25'}. Best is trial 192 with value: 0.01876248782043132.\n"
     ]
    },
    {
     "name": "stdout",
     "output_type": "stream",
     "text": [
      "Similarity column 38121 (100.0%), 670.21 column/sec. Elapsed time 56.88 sec\n",
      "EvaluatorHoldout: Processed 35595 (100.0%) in 37.94 sec. Users per second: 938\n"
     ]
    },
    {
     "name": "stderr",
     "output_type": "stream",
     "text": [
      "[I 2024-12-17 11:08:40,235] Trial 361 finished with value: 0.018285048729422954 and parameters: {'similarity': 'cosine', 'topK': 60, 'shrink': 878, 'feature_weighting': 'BM25'}. Best is trial 192 with value: 0.01876248782043132.\n"
     ]
    },
    {
     "name": "stdout",
     "output_type": "stream",
     "text": [
      "Similarity column 38121 (100.0%), 670.71 column/sec. Elapsed time 56.84 sec\n",
      "EvaluatorHoldout: Processed 35595 (100.0%) in 38.38 sec. Users per second: 927\n"
     ]
    },
    {
     "name": "stderr",
     "output_type": "stream",
     "text": [
      "[I 2024-12-17 11:10:16,053] Trial 362 finished with value: 0.018359230942458976 and parameters: {'similarity': 'cosine', 'topK': 46, 'shrink': 903, 'feature_weighting': 'BM25'}. Best is trial 192 with value: 0.01876248782043132.\n"
     ]
    },
    {
     "name": "stdout",
     "output_type": "stream",
     "text": [
      "Similarity column 38121 (100.0%), 662.25 column/sec. Elapsed time 57.56 sec\n",
      "EvaluatorHoldout: Processed 35595 (100.0%) in 37.71 sec. Users per second: 944\n"
     ]
    },
    {
     "name": "stderr",
     "output_type": "stream",
     "text": [
      "[I 2024-12-17 11:11:52,014] Trial 363 finished with value: 0.018207767276035347 and parameters: {'similarity': 'cosine', 'topK': 74, 'shrink': 913, 'feature_weighting': 'BM25'}. Best is trial 192 with value: 0.01876248782043132.\n"
     ]
    },
    {
     "name": "stdout",
     "output_type": "stream",
     "text": [
      "Similarity column 38121 (100.0%), 673.09 column/sec. Elapsed time 56.64 sec\n",
      "EvaluatorHoldout: Processed 35595 (100.0%) in 34.96 sec. Users per second: 1018\n"
     ]
    },
    {
     "name": "stderr",
     "output_type": "stream",
     "text": [
      "[I 2024-12-17 11:13:24,211] Trial 364 finished with value: 0.018516868563223418 and parameters: {'similarity': 'cosine', 'topK': 28, 'shrink': 867, 'feature_weighting': 'BM25'}. Best is trial 192 with value: 0.01876248782043132.\n"
     ]
    },
    {
     "name": "stdout",
     "output_type": "stream",
     "text": [
      "Similarity column 38121 (100.0%), 672.13 column/sec. Elapsed time 56.72 sec\n",
      "EvaluatorHoldout: Processed 35595 (100.0%) in 34.27 sec. Users per second: 1039\n"
     ]
    },
    {
     "name": "stderr",
     "output_type": "stream",
     "text": [
      "[I 2024-12-17 11:14:55,766] Trial 365 finished with value: 0.018682314485938625 and parameters: {'similarity': 'cosine', 'topK': 22, 'shrink': 850, 'feature_weighting': 'BM25'}. Best is trial 192 with value: 0.01876248782043132.\n"
     ]
    },
    {
     "name": "stdout",
     "output_type": "stream",
     "text": [
      "Similarity column 38121 (100.0%), 672.52 column/sec. Elapsed time 56.68 sec\n",
      "EvaluatorHoldout: Processed 35595 (100.0%) in 35.84 sec. Users per second: 993\n"
     ]
    },
    {
     "name": "stderr",
     "output_type": "stream",
     "text": [
      "[I 2024-12-17 11:16:28,900] Trial 366 finished with value: 0.01836465684274374 and parameters: {'similarity': 'cosine', 'topK': 39, 'shrink': 894, 'feature_weighting': 'BM25'}. Best is trial 192 with value: 0.01876248782043132.\n"
     ]
    },
    {
     "name": "stdout",
     "output_type": "stream",
     "text": [
      "Similarity column 38121 (100.0%), 664.05 column/sec. Elapsed time 57.41 sec\n",
      "EvaluatorHoldout: Processed 35595 (100.0%) in 38.17 sec. Users per second: 933\n"
     ]
    },
    {
     "name": "stderr",
     "output_type": "stream",
     "text": [
      "[I 2024-12-17 11:18:05,245] Trial 367 finished with value: 0.01809317119178064 and parameters: {'similarity': 'asymmetric', 'topK': 54, 'shrink': 858, 'feature_weighting': 'BM25', 'asymmetric_alpha': 0.8583399289679953}. Best is trial 192 with value: 0.01876248782043132.\n"
     ]
    },
    {
     "name": "stdout",
     "output_type": "stream",
     "text": [
      "Similarity column 38121 (100.0%), 668.93 column/sec. Elapsed time 56.99 sec\n",
      "EvaluatorHoldout: Processed 35595 (100.0%) in 34.68 sec. Users per second: 1026\n"
     ]
    },
    {
     "name": "stderr",
     "output_type": "stream",
     "text": [
      "[I 2024-12-17 11:19:37,587] Trial 368 finished with value: 0.01870737039489673 and parameters: {'similarity': 'cosine', 'topK': 23, 'shrink': 837, 'feature_weighting': 'BM25'}. Best is trial 192 with value: 0.01876248782043132.\n"
     ]
    },
    {
     "name": "stdout",
     "output_type": "stream",
     "text": [
      "Similarity column 38121 (100.0%), 663.13 column/sec. Elapsed time 57.49 sec\n",
      "EvaluatorHoldout: Processed 35595 (100.0%) in 38.36 sec. Users per second: 928\n"
     ]
    },
    {
     "name": "stderr",
     "output_type": "stream",
     "text": [
      "[I 2024-12-17 11:21:14,023] Trial 369 finished with value: 0.018374323574070782 and parameters: {'similarity': 'cosine', 'topK': 28, 'shrink': 924, 'feature_weighting': 'TF-IDF'}. Best is trial 192 with value: 0.01876248782043132.\n"
     ]
    },
    {
     "name": "stdout",
     "output_type": "stream",
     "text": [
      "Similarity column 38121 (100.0%), 919.20 column/sec. Elapsed time 41.47 sec\n",
      "EvaluatorHoldout: Processed 35595 (100.0%) in 26.28 sec. Users per second: 1355\n"
     ]
    },
    {
     "name": "stderr",
     "output_type": "stream",
     "text": [
      "[I 2024-12-17 11:22:22,429] Trial 370 finished with value: 0.00028209999175022335 and parameters: {'similarity': 'cosine', 'topK': 0, 'shrink': 820, 'feature_weighting': 'BM25'}. Best is trial 192 with value: 0.01876248782043132.\n"
     ]
    },
    {
     "name": "stdout",
     "output_type": "stream",
     "text": [
      "Similarity column 38121 (100.0%), 671.99 column/sec. Elapsed time 56.73 sec\n",
      "EvaluatorHoldout: Processed 35595 (100.0%) in 35.32 sec. Users per second: 1008\n"
     ]
    },
    {
     "name": "stderr",
     "output_type": "stream",
     "text": [
      "[I 2024-12-17 11:23:55,186] Trial 371 finished with value: 0.018379341444870394 and parameters: {'similarity': 'cosine', 'topK': 36, 'shrink': 854, 'feature_weighting': 'BM25'}. Best is trial 192 with value: 0.01876248782043132.\n"
     ]
    },
    {
     "name": "stdout",
     "output_type": "stream",
     "text": [
      "Similarity column 38121 (100.0%), 661.39 column/sec. Elapsed time 57.64 sec\n",
      "EvaluatorHoldout: Processed 35595 (100.0%) in 37.50 sec. Users per second: 949\n"
     ]
    },
    {
     "name": "stderr",
     "output_type": "stream",
     "text": [
      "[I 2024-12-17 11:25:31,004] Trial 372 finished with value: 0.018628779010784906 and parameters: {'similarity': 'cosine', 'topK': 20, 'shrink': 775, 'feature_weighting': 'BM25'}. Best is trial 192 with value: 0.01876248782043132.\n"
     ]
    },
    {
     "name": "stdout",
     "output_type": "stream",
     "text": [
      "Similarity column 38121 (100.0%), 657.27 column/sec. Elapsed time 58.00 sec\n",
      "EvaluatorHoldout: Processed 35595 (100.0%) in 39.50 sec. Users per second: 901\n"
     ]
    },
    {
     "name": "stderr",
     "output_type": "stream",
     "text": [
      "[I 2024-12-17 11:27:09,223] Trial 373 finished with value: 0.01839026793936197 and parameters: {'similarity': 'cosine', 'topK': 50, 'shrink': 983, 'feature_weighting': 'BM25'}. Best is trial 192 with value: 0.01876248782043132.\n"
     ]
    },
    {
     "name": "stdout",
     "output_type": "stream",
     "text": [
      "Similarity column 38121 (100.0%), 658.97 column/sec. Elapsed time 57.85 sec\n",
      "EvaluatorHoldout: Processed 35595 (100.0%) in 36.57 sec. Users per second: 973\n"
     ]
    },
    {
     "name": "stderr",
     "output_type": "stream",
     "text": [
      "[I 2024-12-17 11:28:44,626] Trial 374 finished with value: 0.012936358548664014 and parameters: {'similarity': 'jaccard', 'topK': 15, 'shrink': 1000, 'feature_weighting': 'BM25'}. Best is trial 192 with value: 0.01876248782043132.\n"
     ]
    },
    {
     "name": "stdout",
     "output_type": "stream",
     "text": [
      "Similarity column 38121 (100.0%), 928.98 column/sec. Elapsed time 41.04 sec\n",
      "EvaluatorHoldout: Processed 35595 (100.0%) in 28.29 sec. Users per second: 1258\n"
     ]
    },
    {
     "name": "stderr",
     "output_type": "stream",
     "text": [
      "[I 2024-12-17 11:29:54,985] Trial 375 finished with value: 0.00028209999175022335 and parameters: {'similarity': 'dice', 'topK': 0, 'shrink': 942, 'feature_weighting': 'BM25'}. Best is trial 192 with value: 0.01876248782043132.\n"
     ]
    },
    {
     "name": "stdout",
     "output_type": "stream",
     "text": [
      "Similarity column 38121 (100.0%), 656.59 column/sec. Elapsed time 58.06 sec\n",
      "EvaluatorHoldout: Processed 35595 (100.0%) in 38.75 sec. Users per second: 919\n"
     ]
    },
    {
     "name": "stderr",
     "output_type": "stream",
     "text": [
      "[I 2024-12-17 11:31:32,553] Trial 376 finished with value: 0.01831945141216114 and parameters: {'similarity': 'cosine', 'topK': 35, 'shrink': 789, 'feature_weighting': 'BM25'}. Best is trial 192 with value: 0.01876248782043132.\n"
     ]
    },
    {
     "name": "stdout",
     "output_type": "stream",
     "text": [
      "Similarity column 38121 (100.0%), 651.87 column/sec. Elapsed time 58.48 sec\n",
      "EvaluatorHoldout: Processed 35595 (100.0%) in 37.05 sec. Users per second: 961\n"
     ]
    },
    {
     "name": "stderr",
     "output_type": "stream",
     "text": [
      "[I 2024-12-17 11:33:08,571] Trial 377 finished with value: 0.012375365944477103 and parameters: {'similarity': 'cosine', 'topK': 22, 'shrink': 846, 'feature_weighting': 'none'}. Best is trial 192 with value: 0.01876248782043132.\n"
     ]
    },
    {
     "name": "stdout",
     "output_type": "stream",
     "text": [
      "Similarity column 38121 (100.0%), 659.35 column/sec. Elapsed time 57.82 sec\n",
      "EvaluatorHoldout: Processed 35595 (100.0%) in 40.79 sec. Users per second: 873\n"
     ]
    },
    {
     "name": "stderr",
     "output_type": "stream",
     "text": [
      "[I 2024-12-17 11:34:47,867] Trial 378 finished with value: 0.01827198844139431 and parameters: {'similarity': 'cosine', 'topK': 68, 'shrink': 951, 'feature_weighting': 'BM25'}. Best is trial 192 with value: 0.01876248782043132.\n"
     ]
    },
    {
     "name": "stdout",
     "output_type": "stream",
     "text": [
      "Similarity column 38121 (100.0%), 659.29 column/sec. Elapsed time 57.82 sec\n",
      "EvaluatorHoldout: Processed 35595 (100.0%) in 36.69 sec. Users per second: 970\n"
     ]
    },
    {
     "name": "stderr",
     "output_type": "stream",
     "text": [
      "[I 2024-12-17 11:36:23,080] Trial 379 finished with value: 0.01861645785813508 and parameters: {'similarity': 'cosine', 'topK': 13, 'shrink': 840, 'feature_weighting': 'BM25'}. Best is trial 192 with value: 0.01876248782043132.\n"
     ]
    },
    {
     "name": "stdout",
     "output_type": "stream",
     "text": [
      "Similarity column 38121 (100.0%), 654.98 column/sec. Elapsed time 58.20 sec\n",
      "EvaluatorHoldout: Processed 35595 (100.0%) in 43.92 sec. Users per second: 810\n"
     ]
    },
    {
     "name": "stderr",
     "output_type": "stream",
     "text": [
      "[I 2024-12-17 11:38:06,048] Trial 380 finished with value: 0.017661944227051772 and parameters: {'similarity': 'cosine', 'topK': 138, 'shrink': 809, 'feature_weighting': 'BM25'}. Best is trial 192 with value: 0.01876248782043132.\n"
     ]
    },
    {
     "name": "stdout",
     "output_type": "stream",
     "text": [
      "Similarity column 38121 (100.0%), 657.47 column/sec. Elapsed time 57.98 sec\n",
      "EvaluatorHoldout: Processed 35595 (100.0%) in 39.54 sec. Users per second: 900\n"
     ]
    },
    {
     "name": "stderr",
     "output_type": "stream",
     "text": [
      "[I 2024-12-17 11:39:44,206] Trial 381 finished with value: 0.018403049518725914 and parameters: {'similarity': 'cosine', 'topK': 43, 'shrink': 922, 'feature_weighting': 'BM25'}. Best is trial 192 with value: 0.01876248782043132.\n"
     ]
    },
    {
     "name": "stdout",
     "output_type": "stream",
     "text": [
      "Similarity column 38121 (100.0%), 643.95 column/sec. Elapsed time 59.20 sec\n",
      "EvaluatorHoldout: Processed 35595 (100.0%) in 38.38 sec. Users per second: 927\n"
     ]
    },
    {
     "name": "stderr",
     "output_type": "stream",
     "text": [
      "[I 2024-12-17 11:41:22,896] Trial 382 finished with value: 0.012683011257600772 and parameters: {'similarity': 'tversky', 'topK': 30, 'shrink': 877, 'feature_weighting': 'BM25', 'tversky_alpha': 1.2210324499824967, 'tversky_beta': 1.1839399028132112}. Best is trial 192 with value: 0.01876248782043132.\n"
     ]
    },
    {
     "name": "stdout",
     "output_type": "stream",
     "text": [
      "Similarity column 38121 (100.0%), 644.63 column/sec. Elapsed time 59.14 sec\n",
      "EvaluatorHoldout: Processed 35595 (100.0%) in 56.10 sec. Users per second: 635\n"
     ]
    },
    {
     "name": "stderr",
     "output_type": "stream",
     "text": [
      "[I 2024-12-17 11:43:19,856] Trial 383 finished with value: 0.015249018388083306 and parameters: {'similarity': 'cosine', 'topK': 516, 'shrink': 288, 'feature_weighting': 'BM25'}. Best is trial 192 with value: 0.01876248782043132.\n"
     ]
    },
    {
     "name": "stdout",
     "output_type": "stream",
     "text": [
      "Similarity column 38121 (100.0%), 658.79 column/sec. Elapsed time 57.87 sec\n",
      "EvaluatorHoldout: Processed 35595 (100.0%) in 36.55 sec. Users per second: 974\n"
     ]
    },
    {
     "name": "stderr",
     "output_type": "stream",
     "text": [
      "[I 2024-12-17 11:44:54,982] Trial 384 finished with value: 0.018655930808901714 and parameters: {'similarity': 'cosine', 'topK': 11, 'shrink': 979, 'feature_weighting': 'BM25'}. Best is trial 192 with value: 0.01876248782043132.\n"
     ]
    },
    {
     "name": "stdout",
     "output_type": "stream",
     "text": [
      "Similarity column 38121 (100.0%), 657.17 column/sec. Elapsed time 58.01 sec\n",
      "EvaluatorHoldout: Processed 35595 (100.0%) in 36.91 sec. Users per second: 964\n"
     ]
    },
    {
     "name": "stderr",
     "output_type": "stream",
     "text": [
      "[I 2024-12-17 11:46:30,515] Trial 385 finished with value: 0.018553314737891236 and parameters: {'similarity': 'cosine', 'topK': 15, 'shrink': 982, 'feature_weighting': 'BM25'}. Best is trial 192 with value: 0.01876248782043132.\n"
     ]
    },
    {
     "name": "stdout",
     "output_type": "stream",
     "text": [
      "Similarity column 38121 (100.0%), 655.99 column/sec. Elapsed time 58.11 sec\n",
      "EvaluatorHoldout: Processed 35595 (100.0%) in 36.70 sec. Users per second: 970\n"
     ]
    },
    {
     "name": "stderr",
     "output_type": "stream",
     "text": [
      "[I 2024-12-17 11:48:06,044] Trial 386 finished with value: 0.01867696996858397 and parameters: {'similarity': 'cosine', 'topK': 11, 'shrink': 968, 'feature_weighting': 'BM25'}. Best is trial 192 with value: 0.01876248782043132.\n"
     ]
    },
    {
     "name": "stdout",
     "output_type": "stream",
     "text": [
      "Similarity column 38121 (100.0%), 657.41 column/sec. Elapsed time 57.99 sec\n",
      "EvaluatorHoldout: Processed 35595 (100.0%) in 36.46 sec. Users per second: 976\n"
     ]
    },
    {
     "name": "stderr",
     "output_type": "stream",
     "text": [
      "[I 2024-12-17 11:49:41,167] Trial 387 finished with value: 0.018663172774845728 and parameters: {'similarity': 'cosine', 'topK': 10, 'shrink': 961, 'feature_weighting': 'BM25'}. Best is trial 192 with value: 0.01876248782043132.\n"
     ]
    },
    {
     "name": "stdout",
     "output_type": "stream",
     "text": [
      "Similarity column 38121 (100.0%), 644.76 column/sec. Elapsed time 59.12 sec\n",
      "EvaluatorHoldout: Processed 35595 (100.0%) in 54.10 sec. Users per second: 658\n"
     ]
    },
    {
     "name": "stderr",
     "output_type": "stream",
     "text": [
      "[I 2024-12-17 11:51:35,716] Trial 388 finished with value: 0.016702139590677477 and parameters: {'similarity': 'cosine', 'topK': 445, 'shrink': 954, 'feature_weighting': 'BM25'}. Best is trial 192 with value: 0.01876248782043132.\n"
     ]
    },
    {
     "name": "stdout",
     "output_type": "stream",
     "text": [
      "Similarity column 38121 (100.0%), 203.55 column/sec. Elapsed time 3.12 min\n",
      "EvaluatorHoldout: Processed 35595 (100.0%) in 27.87 sec. Users per second: 1277\n"
     ]
    },
    {
     "name": "stderr",
     "output_type": "stream",
     "text": [
      "[I 2024-12-17 11:55:11,314] Trial 389 finished with value: 0.00028209999175022335 and parameters: {'similarity': 'euclidean', 'topK': 0, 'shrink': 958, 'feature_weighting': 'BM25', 'normalize_avg_row': False, 'similarity_from_distance_mode': 'lin', 'normalize': False}. Best is trial 192 with value: 0.01876248782043132.\n"
     ]
    },
    {
     "name": "stdout",
     "output_type": "stream",
     "text": [
      "Similarity column 38121 (100.0%), 659.29 column/sec. Elapsed time 57.82 sec\n",
      "EvaluatorHoldout: Processed 35595 (100.0%) in 37.23 sec. Users per second: 956\n"
     ]
    },
    {
     "name": "stderr",
     "output_type": "stream",
     "text": [
      "[I 2024-12-17 11:56:47,096] Trial 390 finished with value: 0.018645747909127625 and parameters: {'similarity': 'cosine', 'topK': 24, 'shrink': 934, 'feature_weighting': 'BM25'}. Best is trial 192 with value: 0.01876248782043132.\n"
     ]
    },
    {
     "name": "stdout",
     "output_type": "stream",
     "text": [
      "Similarity column 38121 (100.0%), 650.50 column/sec. Elapsed time 58.60 sec\n",
      "EvaluatorHoldout: Processed 35595 (100.0%) in 36.64 sec. Users per second: 971\n"
     ]
    },
    {
     "name": "stderr",
     "output_type": "stream",
     "text": [
      "[I 2024-12-17 11:58:23,059] Trial 391 finished with value: 0.018667668903024973 and parameters: {'similarity': 'cosine', 'topK': 10, 'shrink': 968, 'feature_weighting': 'BM25'}. Best is trial 192 with value: 0.01876248782043132.\n"
     ]
    },
    {
     "name": "stdout",
     "output_type": "stream",
     "text": [
      "Similarity column 38121 (100.0%), 650.69 column/sec. Elapsed time 58.59 sec\n",
      "EvaluatorHoldout: Processed 35595 (100.0%) in 39.23 sec. Users per second: 907\n"
     ]
    },
    {
     "name": "stderr",
     "output_type": "stream",
     "text": [
      "[I 2024-12-17 12:00:01,579] Trial 392 finished with value: 0.018318483735677165 and parameters: {'similarity': 'cosine', 'topK': 38, 'shrink': 946, 'feature_weighting': 'TF-IDF'}. Best is trial 192 with value: 0.01876248782043132.\n"
     ]
    },
    {
     "name": "stdout",
     "output_type": "stream",
     "text": [
      "Similarity column 38121 (100.0%), 657.45 column/sec. Elapsed time 57.98 sec\n",
      "EvaluatorHoldout: Processed 35595 (100.0%) in 36.77 sec. Users per second: 968\n"
     ]
    },
    {
     "name": "stderr",
     "output_type": "stream",
     "text": [
      "[I 2024-12-17 12:01:37,054] Trial 393 finished with value: 0.018659396829856185 and parameters: {'similarity': 'cosine', 'topK': 12, 'shrink': 961, 'feature_weighting': 'BM25'}. Best is trial 192 with value: 0.01876248782043132.\n"
     ]
    },
    {
     "name": "stdout",
     "output_type": "stream",
     "text": [
      "Similarity column 38121 (100.0%), 854.23 column/sec. Elapsed time 44.63 sec\n",
      "EvaluatorHoldout: Processed 35595 (100.0%) in 31.74 sec. Users per second: 1121\n"
     ]
    },
    {
     "name": "stderr",
     "output_type": "stream",
     "text": [
      "[I 2024-12-17 12:02:54,021] Trial 394 finished with value: 0.016152695558721824 and parameters: {'similarity': 'cosine', 'topK': 1, 'shrink': 926, 'feature_weighting': 'BM25'}. Best is trial 192 with value: 0.01876248782043132.\n"
     ]
    },
    {
     "name": "stdout",
     "output_type": "stream",
     "text": [
      "Similarity column 38121 (100.0%), 652.07 column/sec. Elapsed time 58.46 sec\n",
      "EvaluatorHoldout: Processed 35595 (100.0%) in 56.28 sec. Users per second: 632\n"
     ]
    },
    {
     "name": "stderr",
     "output_type": "stream",
     "text": [
      "[I 2024-12-17 12:04:50,338] Trial 395 finished with value: 0.0163111748796538 and parameters: {'similarity': 'cosine', 'topK': 737, 'shrink': 957, 'feature_weighting': 'BM25'}. Best is trial 192 with value: 0.01876248782043132.\n"
     ]
    },
    {
     "name": "stdout",
     "output_type": "stream",
     "text": [
      "Similarity column 38121 (100.0%), 676.02 column/sec. Elapsed time 56.39 sec\n",
      "EvaluatorHoldout: Processed 35595 (100.0%) in 36.24 sec. Users per second: 982\n"
     ]
    },
    {
     "name": "stderr",
     "output_type": "stream",
     "text": [
      "[I 2024-12-17 12:06:23,622] Trial 396 finished with value: 0.0178213499755852 and parameters: {'similarity': 'asymmetric', 'topK': 55, 'shrink': 937, 'feature_weighting': 'BM25', 'asymmetric_alpha': 1.2255035333833053}. Best is trial 192 with value: 0.01876248782043132.\n"
     ]
    },
    {
     "name": "stdout",
     "output_type": "stream",
     "text": [
      "Similarity column 38121 (100.0%), 675.79 column/sec. Elapsed time 56.41 sec\n",
      "EvaluatorHoldout: Processed 35595 (100.0%) in 34.66 sec. Users per second: 1027\n"
     ]
    },
    {
     "name": "stderr",
     "output_type": "stream",
     "text": [
      "[I 2024-12-17 12:07:55,275] Trial 397 finished with value: 0.018478446901540067 and parameters: {'similarity': 'cosine', 'topK': 28, 'shrink': 909, 'feature_weighting': 'BM25'}. Best is trial 192 with value: 0.01876248782043132.\n"
     ]
    },
    {
     "name": "stdout",
     "output_type": "stream",
     "text": [
      "Similarity column 38121 (100.0%), 926.40 column/sec. Elapsed time 41.15 sec\n",
      "EvaluatorHoldout: Processed 35595 (100.0%) in 25.54 sec. Users per second: 1394\n"
     ]
    },
    {
     "name": "stderr",
     "output_type": "stream",
     "text": [
      "[I 2024-12-17 12:09:02,494] Trial 398 finished with value: 0.00028209999175022335 and parameters: {'similarity': 'cosine', 'topK': 0, 'shrink': 966, 'feature_weighting': 'BM25'}. Best is trial 192 with value: 0.01876248782043132.\n"
     ]
    },
    {
     "name": "stdout",
     "output_type": "stream",
     "text": [
      "Similarity column 38121 (100.0%), 676.85 column/sec. Elapsed time 56.32 sec\n",
      "EvaluatorHoldout: Processed 35595 (100.0%) in 34.32 sec. Users per second: 1037\n"
     ]
    },
    {
     "name": "stderr",
     "output_type": "stream",
     "text": [
      "[I 2024-12-17 12:10:33,707] Trial 399 finished with value: 0.018717339246416418 and parameters: {'similarity': 'cosine', 'topK': 23, 'shrink': 961, 'feature_weighting': 'BM25'}. Best is trial 192 with value: 0.01876248782043132.\n"
     ]
    },
    {
     "name": "stdout",
     "output_type": "stream",
     "text": [
      "Similarity column 38121 (100.0%), 656.86 column/sec. Elapsed time 58.03 sec\n",
      "EvaluatorHoldout: Processed 35595 (100.0%) in 48.23 sec. Users per second: 738\n"
     ]
    },
    {
     "name": "stderr",
     "output_type": "stream",
     "text": [
      "[I 2024-12-17 12:12:21,047] Trial 400 finished with value: 0.017309640867163134 and parameters: {'similarity': 'cosine', 'topK': 237, 'shrink': 936, 'feature_weighting': 'BM25'}. Best is trial 192 with value: 0.01876248782043132.\n"
     ]
    },
    {
     "name": "stdout",
     "output_type": "stream",
     "text": [
      "Similarity column 38121 (100.0%), 653.05 column/sec. Elapsed time 58.37 sec\n",
      "EvaluatorHoldout: Processed 35595 (100.0%) in 42.05 sec. Users per second: 847\n"
     ]
    },
    {
     "name": "stderr",
     "output_type": "stream",
     "text": [
      "[I 2024-12-17 12:14:02,279] Trial 401 finished with value: 0.01812429068644832 and parameters: {'similarity': 'cosine', 'topK': 89, 'shrink': 917, 'feature_weighting': 'BM25'}. Best is trial 192 with value: 0.01876248782043132.\n"
     ]
    },
    {
     "name": "stdout",
     "output_type": "stream",
     "text": [
      "Similarity column 38121 (100.0%), 657.95 column/sec. Elapsed time 57.94 sec\n",
      "EvaluatorHoldout: Processed 35595 (100.0%) in 38.63 sec. Users per second: 921\n"
     ]
    },
    {
     "name": "stderr",
     "output_type": "stream",
     "text": [
      "[I 2024-12-17 12:15:39,903] Trial 402 finished with value: 0.012223166487178626 and parameters: {'similarity': 'jaccard', 'topK': 44, 'shrink': 960, 'feature_weighting': 'BM25'}. Best is trial 192 with value: 0.01876248782043132.\n"
     ]
    },
    {
     "name": "stdout",
     "output_type": "stream",
     "text": [
      "Similarity column 38121 (100.0%), 659.41 column/sec. Elapsed time 57.81 sec\n",
      "EvaluatorHoldout: Processed 35595 (100.0%) in 37.22 sec. Users per second: 956\n"
     ]
    },
    {
     "name": "stderr",
     "output_type": "stream",
     "text": [
      "[I 2024-12-17 12:17:15,490] Trial 403 finished with value: 0.012251838919770129 and parameters: {'similarity': 'cosine', 'topK': 25, 'shrink': 947, 'feature_weighting': 'none'}. Best is trial 192 with value: 0.01876248782043132.\n"
     ]
    },
    {
     "name": "stdout",
     "output_type": "stream",
     "text": [
      "Similarity column 38121 (100.0%), 656.33 column/sec. Elapsed time 58.08 sec\n",
      "EvaluatorHoldout: Processed 35595 (100.0%) in 39.97 sec. Users per second: 891\n"
     ]
    },
    {
     "name": "stderr",
     "output_type": "stream",
     "text": [
      "[I 2024-12-17 12:18:54,348] Trial 404 finished with value: 0.018296033195316867 and parameters: {'similarity': 'cosine', 'topK': 55, 'shrink': 968, 'feature_weighting': 'BM25'}. Best is trial 192 with value: 0.01876248782043132.\n"
     ]
    },
    {
     "name": "stdout",
     "output_type": "stream",
     "text": [
      "Similarity column 38121 (100.0%), 653.22 column/sec. Elapsed time 58.36 sec\n",
      "EvaluatorHoldout: Processed 35595 (100.0%) in 46.66 sec. Users per second: 763\n"
     ]
    },
    {
     "name": "stderr",
     "output_type": "stream",
     "text": [
      "[I 2024-12-17 12:20:40,380] Trial 405 finished with value: 0.017524376974650986 and parameters: {'similarity': 'cosine', 'topK': 193, 'shrink': 929, 'feature_weighting': 'BM25'}. Best is trial 192 with value: 0.01876248782043132.\n"
     ]
    },
    {
     "name": "stdout",
     "output_type": "stream",
     "text": [
      "Similarity column 38121 (100.0%), 664.26 column/sec. Elapsed time 57.39 sec\n",
      "EvaluatorHoldout: Processed 35595 (100.0%) in 38.42 sec. Users per second: 927\n"
     ]
    },
    {
     "name": "stderr",
     "output_type": "stream",
     "text": [
      "[I 2024-12-17 12:22:17,261] Trial 406 finished with value: 0.012432231430756863 and parameters: {'similarity': 'dice', 'topK': 36, 'shrink': 900, 'feature_weighting': 'BM25'}. Best is trial 192 with value: 0.01876248782043132.\n"
     ]
    },
    {
     "name": "stdout",
     "output_type": "stream",
     "text": [
      "Similarity column 38121 (100.0%), 662.38 column/sec. Elapsed time 57.55 sec\n",
      "EvaluatorHoldout: Processed 35595 (100.0%) in 37.55 sec. Users per second: 948\n"
     ]
    },
    {
     "name": "stderr",
     "output_type": "stream",
     "text": [
      "[I 2024-12-17 12:23:53,075] Trial 407 finished with value: 0.018650588521216472 and parameters: {'similarity': 'cosine', 'topK': 22, 'shrink': 969, 'feature_weighting': 'BM25'}. Best is trial 192 with value: 0.01876248782043132.\n"
     ]
    },
    {
     "name": "stdout",
     "output_type": "stream",
     "text": [
      "Similarity column 38121 (100.0%), 658.40 column/sec. Elapsed time 57.90 sec\n",
      "EvaluatorHoldout: Processed 35595 (100.0%) in 40.73 sec. Users per second: 874\n"
     ]
    },
    {
     "name": "stderr",
     "output_type": "stream",
     "text": [
      "[I 2024-12-17 12:25:32,485] Trial 408 finished with value: 0.018309268512387004 and parameters: {'similarity': 'cosine', 'topK': 65, 'shrink': 950, 'feature_weighting': 'BM25'}. Best is trial 192 with value: 0.01876248782043132.\n"
     ]
    },
    {
     "name": "stdout",
     "output_type": "stream",
     "text": [
      "Similarity column 38121 (100.0%), 660.49 column/sec. Elapsed time 57.72 sec\n",
      "EvaluatorHoldout: Processed 35595 (100.0%) in 37.43 sec. Users per second: 951\n"
     ]
    },
    {
     "name": "stderr",
     "output_type": "stream",
     "text": [
      "[I 2024-12-17 12:27:08,337] Trial 409 finished with value: 0.018704426116562662 and parameters: {'similarity': 'cosine', 'topK': 23, 'shrink': 914, 'feature_weighting': 'BM25'}. Best is trial 192 with value: 0.01876248782043132.\n"
     ]
    },
    {
     "name": "stdout",
     "output_type": "stream",
     "text": [
      "Similarity column 38121 (100.0%), 660.14 column/sec. Elapsed time 57.75 sec\n",
      "EvaluatorHoldout: Processed 35595 (100.0%) in 38.82 sec. Users per second: 917\n"
     ]
    },
    {
     "name": "stderr",
     "output_type": "stream",
     "text": [
      "[I 2024-12-17 12:28:45,561] Trial 410 finished with value: 0.018398629199303494 and parameters: {'similarity': 'cosine', 'topK': 39, 'shrink': 910, 'feature_weighting': 'BM25'}. Best is trial 192 with value: 0.01876248782043132.\n"
     ]
    },
    {
     "name": "stdout",
     "output_type": "stream",
     "text": [
      "Similarity column 38121 (100.0%), 660.34 column/sec. Elapsed time 57.73 sec\n",
      "EvaluatorHoldout: Processed 35595 (100.0%) in 38.20 sec. Users per second: 932\n"
     ]
    },
    {
     "name": "stderr",
     "output_type": "stream",
     "text": [
      "[I 2024-12-17 12:30:22,114] Trial 411 finished with value: 0.018533440580427545 and parameters: {'similarity': 'cosine', 'topK': 29, 'shrink': 875, 'feature_weighting': 'BM25'}. Best is trial 192 with value: 0.01876248782043132.\n"
     ]
    },
    {
     "name": "stdout",
     "output_type": "stream",
     "text": [
      "Similarity column 38121 (100.0%), 659.66 column/sec. Elapsed time 57.79 sec\n",
      "EvaluatorHoldout: Processed 35595 (100.0%) in 39.49 sec. Users per second: 901\n"
     ]
    },
    {
     "name": "stderr",
     "output_type": "stream",
     "text": [
      "[I 2024-12-17 12:32:00,123] Trial 412 finished with value: 0.018368441706410592 and parameters: {'similarity': 'cosine', 'topK': 46, 'shrink': 923, 'feature_weighting': 'BM25'}. Best is trial 192 with value: 0.01876248782043132.\n"
     ]
    },
    {
     "name": "stdout",
     "output_type": "stream",
     "text": [
      "Similarity column 38121 (100.0%), 656.87 column/sec. Elapsed time 58.03 sec\n",
      "EvaluatorHoldout: Processed 35595 (100.0%) in 37.53 sec. Users per second: 948\n"
     ]
    },
    {
     "name": "stderr",
     "output_type": "stream",
     "text": [
      "[I 2024-12-17 12:33:36,347] Trial 413 finished with value: 0.01859016671237492 and parameters: {'similarity': 'cosine', 'topK': 24, 'shrink': 898, 'feature_weighting': 'BM25'}. Best is trial 192 with value: 0.01876248782043132.\n"
     ]
    },
    {
     "name": "stdout",
     "output_type": "stream",
     "text": [
      "Similarity column 38121 (100.0%), 646.80 column/sec. Elapsed time 58.94 sec\n",
      "EvaluatorHoldout: Processed 35595 (100.0%) in 41.11 sec. Users per second: 866\n"
     ]
    },
    {
     "name": "stderr",
     "output_type": "stream",
     "text": [
      "[I 2024-12-17 12:35:17,446] Trial 414 finished with value: 0.0120616548159746 and parameters: {'similarity': 'tversky', 'topK': 76, 'shrink': 931, 'feature_weighting': 'BM25', 'tversky_alpha': 0.759701533686814, 'tversky_beta': 1.7520082075120018}. Best is trial 192 with value: 0.01876248782043132.\n"
     ]
    },
    {
     "name": "stdout",
     "output_type": "stream",
     "text": [
      "Similarity column 38121 (100.0%), 658.68 column/sec. Elapsed time 57.87 sec\n",
      "EvaluatorHoldout: Processed 35595 (100.0%) in 37.95 sec. Users per second: 938\n"
     ]
    },
    {
     "name": "stderr",
     "output_type": "stream",
     "text": [
      "[I 2024-12-17 12:36:53,974] Trial 415 finished with value: 0.018664924180094904 and parameters: {'similarity': 'cosine', 'topK': 21, 'shrink': 882, 'feature_weighting': 'BM25'}. Best is trial 192 with value: 0.01876248782043132.\n"
     ]
    },
    {
     "name": "stdout",
     "output_type": "stream",
     "text": [
      "Similarity column 38121 (100.0%), 654.39 column/sec. Elapsed time 58.25 sec\n",
      "EvaluatorHoldout: Processed 35595 (100.0%) in 37.37 sec. Users per second: 953\n"
     ]
    },
    {
     "name": "stderr",
     "output_type": "stream",
     "text": [
      "[I 2024-12-17 12:38:30,284] Trial 416 finished with value: 0.018240542300171504 and parameters: {'similarity': 'cosine', 'topK': 51, 'shrink': 840, 'feature_weighting': 'TF-IDF'}. Best is trial 192 with value: 0.01876248782043132.\n"
     ]
    },
    {
     "name": "stdout",
     "output_type": "stream",
     "text": [
      "Similarity column 38121 (100.0%), 672.21 column/sec. Elapsed time 56.71 sec\n",
      "EvaluatorHoldout: Processed 35595 (100.0%) in 35.83 sec. Users per second: 994\n"
     ]
    },
    {
     "name": "stderr",
     "output_type": "stream",
     "text": [
      "[I 2024-12-17 12:40:03,384] Trial 417 finished with value: 0.018561216685953327 and parameters: {'similarity': 'cosine', 'topK': 15, 'shrink': 864, 'feature_weighting': 'BM25'}. Best is trial 192 with value: 0.01876248782043132.\n"
     ]
    },
    {
     "name": "stdout",
     "output_type": "stream",
     "text": [
      "Similarity column 38121 (100.0%), 667.69 column/sec. Elapsed time 57.09 sec\n",
      "EvaluatorHoldout: Processed 35595 (100.0%) in 34.47 sec. Users per second: 1033\n"
     ]
    },
    {
     "name": "stderr",
     "output_type": "stream",
     "text": [
      "[I 2024-12-17 12:41:35,689] Trial 418 finished with value: 0.018383918955979718 and parameters: {'similarity': 'cosine', 'topK': 38, 'shrink': 890, 'feature_weighting': 'BM25'}. Best is trial 192 with value: 0.01876248782043132.\n"
     ]
    },
    {
     "name": "stdout",
     "output_type": "stream",
     "text": [
      "Similarity column 38121 (100.0%), 180.59 column/sec. Elapsed time 3.52 min\n",
      "EvaluatorHoldout: Processed 35595 (100.0%) in 33.97 sec. Users per second: 1048\n"
     ]
    },
    {
     "name": "stderr",
     "output_type": "stream",
     "text": [
      "[I 2024-12-17 12:45:41,203] Trial 419 finished with value: 0.01780178797182591 and parameters: {'similarity': 'euclidean', 'topK': 13, 'shrink': 875, 'feature_weighting': 'BM25', 'normalize_avg_row': True, 'similarity_from_distance_mode': 'log', 'normalize': True}. Best is trial 192 with value: 0.01876248782043132.\n"
     ]
    },
    {
     "name": "stdout",
     "output_type": "stream",
     "text": [
      "Similarity column 38121 (100.0%), 671.96 column/sec. Elapsed time 56.73 sec\n",
      "EvaluatorHoldout: Processed 35595 (100.0%) in 34.03 sec. Users per second: 1046\n"
     ]
    },
    {
     "name": "stderr",
     "output_type": "stream",
     "text": [
      "[I 2024-12-17 12:47:12,570] Trial 420 finished with value: 0.018552949072123112 and parameters: {'similarity': 'cosine', 'topK': 26, 'shrink': 913, 'feature_weighting': 'BM25'}. Best is trial 192 with value: 0.01876248782043132.\n"
     ]
    },
    {
     "name": "stdout",
     "output_type": "stream",
     "text": [
      "Similarity column 38121 (100.0%), 659.56 column/sec. Elapsed time 57.80 sec\n",
      "EvaluatorHoldout: Processed 35595 (100.0%) in 46.30 sec. Users per second: 769\n"
     ]
    },
    {
     "name": "stderr",
     "output_type": "stream",
     "text": [
      "[I 2024-12-17 12:48:57,682] Trial 421 finished with value: 0.01711525718120761 and parameters: {'similarity': 'cosine', 'topK': 300, 'shrink': 882, 'feature_weighting': 'BM25'}. Best is trial 192 with value: 0.01876248782043132.\n"
     ]
    },
    {
     "name": "stdout",
     "output_type": "stream",
     "text": [
      "Similarity column 38121 (100.0%), 659.75 column/sec. Elapsed time 57.78 sec\n",
      "EvaluatorHoldout: Processed 35595 (100.0%) in 36.09 sec. Users per second: 986\n"
     ]
    },
    {
     "name": "stderr",
     "output_type": "stream",
     "text": [
      "[I 2024-12-17 12:50:32,361] Trial 422 finished with value: 0.01828749133216059 and parameters: {'similarity': 'cosine', 'topK': 54, 'shrink': 853, 'feature_weighting': 'BM25'}. Best is trial 192 with value: 0.01876248782043132.\n"
     ]
    },
    {
     "name": "stdout",
     "output_type": "stream",
     "text": [
      "Similarity column 38121 (100.0%), 670.67 column/sec. Elapsed time 56.84 sec\n",
      "EvaluatorHoldout: Processed 35595 (100.0%) in 35.20 sec. Users per second: 1011\n"
     ]
    },
    {
     "name": "stderr",
     "output_type": "stream",
     "text": [
      "[I 2024-12-17 12:52:04,998] Trial 423 finished with value: 0.0183976771305049 and parameters: {'similarity': 'cosine', 'topK': 34, 'shrink': 905, 'feature_weighting': 'BM25'}. Best is trial 192 with value: 0.01876248782043132.\n"
     ]
    },
    {
     "name": "stdout",
     "output_type": "stream",
     "text": [
      "Similarity column 38121 (100.0%), 668.60 column/sec. Elapsed time 57.02 sec\n",
      "EvaluatorHoldout: Processed 35595 (100.0%) in 41.65 sec. Users per second: 855\n"
     ]
    },
    {
     "name": "stderr",
     "output_type": "stream",
     "text": [
      "[I 2024-12-17 12:53:44,499] Trial 424 finished with value: 0.01754108388684882 and parameters: {'similarity': 'cosine', 'topK': 159, 'shrink': 892, 'feature_weighting': 'BM25'}. Best is trial 192 with value: 0.01876248782043132.\n"
     ]
    },
    {
     "name": "stdout",
     "output_type": "stream",
     "text": [
      "Similarity column 38121 (100.0%), 939.94 column/sec. Elapsed time 40.56 sec\n",
      "EvaluatorHoldout: Processed 35595 (100.0%) in 25.06 sec. Users per second: 1420\n"
     ]
    },
    {
     "name": "stderr",
     "output_type": "stream",
     "text": [
      "[I 2024-12-17 12:54:50,664] Trial 425 finished with value: 0.00028209999175022335 and parameters: {'similarity': 'cosine', 'topK': 0, 'shrink': 941, 'feature_weighting': 'BM25'}. Best is trial 192 with value: 0.01876248782043132.\n"
     ]
    },
    {
     "name": "stdout",
     "output_type": "stream",
     "text": [
      "Similarity column 38121 (100.0%), 666.25 column/sec. Elapsed time 57.22 sec\n",
      "EvaluatorHoldout: Processed 35595 (100.0%) in 31.71 sec. Users per second: 1123\n"
     ]
    },
    {
     "name": "stderr",
     "output_type": "stream",
     "text": [
      "[I 2024-12-17 12:56:20,056] Trial 426 finished with value: 0.01205005161684506 and parameters: {'similarity': 'asymmetric', 'topK': 14, 'shrink': 927, 'feature_weighting': 'none', 'asymmetric_alpha': 1.8073009446776525}. Best is trial 192 with value: 0.01876248782043132.\n"
     ]
    },
    {
     "name": "stdout",
     "output_type": "stream",
     "text": [
      "Similarity column 38121 (100.0%), 677.63 column/sec. Elapsed time 56.26 sec\n",
      "EvaluatorHoldout: Processed 35595 (100.0%) in 34.58 sec. Users per second: 1029\n"
     ]
    },
    {
     "name": "stderr",
     "output_type": "stream",
     "text": [
      "[I 2024-12-17 12:57:51,453] Trial 427 finished with value: 0.018598193521918792 and parameters: {'similarity': 'cosine', 'topK': 24, 'shrink': 823, 'feature_weighting': 'BM25'}. Best is trial 192 with value: 0.01876248782043132.\n"
     ]
    },
    {
     "name": "stdout",
     "output_type": "stream",
     "text": [
      "Similarity column 38121 (100.0%), 674.36 column/sec. Elapsed time 56.53 sec\n",
      "EvaluatorHoldout: Processed 35595 (100.0%) in 35.64 sec. Users per second: 999\n"
     ]
    },
    {
     "name": "stderr",
     "output_type": "stream",
     "text": [
      "[I 2024-12-17 12:59:24,241] Trial 428 finished with value: 0.018202404921326173 and parameters: {'similarity': 'cosine', 'topK': 42, 'shrink': 690, 'feature_weighting': 'BM25'}. Best is trial 192 with value: 0.01876248782043132.\n"
     ]
    },
    {
     "name": "stdout",
     "output_type": "stream",
     "text": [
      "Similarity column 38121 (100.0%), 673.85 column/sec. Elapsed time 56.57 sec\n",
      "EvaluatorHoldout: Processed 35595 (100.0%) in 33.67 sec. Users per second: 1057\n"
     ]
    },
    {
     "name": "stderr",
     "output_type": "stream",
     "text": [
      "[I 2024-12-17 13:00:55,055] Trial 429 finished with value: 0.018626292929495622 and parameters: {'similarity': 'cosine', 'topK': 13, 'shrink': 911, 'feature_weighting': 'BM25'}. Best is trial 192 with value: 0.01876248782043132.\n"
     ]
    },
    {
     "name": "stdout",
     "output_type": "stream",
     "text": [
      "Similarity column 38121 (100.0%), 672.42 column/sec. Elapsed time 56.69 sec\n",
      "EvaluatorHoldout: Processed 35595 (100.0%) in 35.33 sec. Users per second: 1008\n"
     ]
    },
    {
     "name": "stderr",
     "output_type": "stream",
     "text": [
      "[I 2024-12-17 13:02:27,667] Trial 430 finished with value: 0.018548755064136467 and parameters: {'similarity': 'cosine', 'topK': 28, 'shrink': 951, 'feature_weighting': 'BM25'}. Best is trial 192 with value: 0.01876248782043132.\n"
     ]
    },
    {
     "name": "stdout",
     "output_type": "stream",
     "text": [
      "Similarity column 38121 (100.0%), 674.24 column/sec. Elapsed time 56.54 sec\n",
      "EvaluatorHoldout: Processed 35595 (100.0%) in 37.17 sec. Users per second: 958\n"
     ]
    },
    {
     "name": "stderr",
     "output_type": "stream",
     "text": [
      "[I 2024-12-17 13:04:02,399] Trial 431 finished with value: 0.011952188085985322 and parameters: {'similarity': 'jaccard', 'topK': 66, 'shrink': 935, 'feature_weighting': 'BM25'}. Best is trial 192 with value: 0.01876248782043132.\n"
     ]
    },
    {
     "name": "stdout",
     "output_type": "stream",
     "text": [
      "Similarity column 38121 (100.0%), 675.87 column/sec. Elapsed time 56.40 sec\n",
      "EvaluatorHoldout: Processed 35595 (100.0%) in 33.35 sec. Users per second: 1067\n"
     ]
    },
    {
     "name": "stderr",
     "output_type": "stream",
     "text": [
      "[I 2024-12-17 13:05:32,724] Trial 432 finished with value: 0.01862609225925702 and parameters: {'similarity': 'cosine', 'topK': 13, 'shrink': 884, 'feature_weighting': 'BM25'}. Best is trial 192 with value: 0.01876248782043132.\n"
     ]
    },
    {
     "name": "stdout",
     "output_type": "stream",
     "text": [
      "Similarity column 38121 (100.0%), 672.92 column/sec. Elapsed time 56.65 sec\n",
      "EvaluatorHoldout: Processed 35595 (100.0%) in 35.85 sec. Users per second: 993\n"
     ]
    },
    {
     "name": "stderr",
     "output_type": "stream",
     "text": [
      "[I 2024-12-17 13:07:05,842] Trial 433 finished with value: 0.01837735257983892 and parameters: {'similarity': 'cosine', 'topK': 45, 'shrink': 952, 'feature_weighting': 'BM25'}. Best is trial 192 with value: 0.01876248782043132.\n"
     ]
    },
    {
     "name": "stdout",
     "output_type": "stream",
     "text": [
      "Similarity column 38121 (100.0%), 672.62 column/sec. Elapsed time 56.68 sec\n",
      "EvaluatorHoldout: Processed 35595 (100.0%) in 34.04 sec. Users per second: 1046\n"
     ]
    },
    {
     "name": "stderr",
     "output_type": "stream",
     "text": [
      "[I 2024-12-17 13:08:37,143] Trial 434 finished with value: 0.018600732000437017 and parameters: {'similarity': 'cosine', 'topK': 24, 'shrink': 911, 'feature_weighting': 'BM25'}. Best is trial 192 with value: 0.01876248782043132.\n"
     ]
    },
    {
     "name": "stdout",
     "output_type": "stream",
     "text": [
      "Similarity column 38121 (100.0%), 942.57 column/sec. Elapsed time 40.44 sec\n",
      "EvaluatorHoldout: Processed 35595 (100.0%) in 25.85 sec. Users per second: 1377\n"
     ]
    },
    {
     "name": "stderr",
     "output_type": "stream",
     "text": [
      "[I 2024-12-17 13:09:44,032] Trial 435 finished with value: 0.00028209999175022335 and parameters: {'similarity': 'cosine', 'topK': 0, 'shrink': 974, 'feature_weighting': 'BM25'}. Best is trial 192 with value: 0.01876248782043132.\n"
     ]
    },
    {
     "name": "stdout",
     "output_type": "stream",
     "text": [
      "Similarity column 38121 (100.0%), 667.93 column/sec. Elapsed time 57.07 sec\n",
      "EvaluatorHoldout: Processed 35595 (100.0%) in 46.04 sec. Users per second: 773\n"
     ]
    },
    {
     "name": "stderr",
     "output_type": "stream",
     "text": [
      "[I 2024-12-17 13:11:28,473] Trial 436 finished with value: 0.010435670695679357 and parameters: {'similarity': 'dice', 'topK': 319, 'shrink': 940, 'feature_weighting': 'BM25'}. Best is trial 192 with value: 0.01876248782043132.\n"
     ]
    },
    {
     "name": "stdout",
     "output_type": "stream",
     "text": [
      "Similarity column 38121 (100.0%), 939.74 column/sec. Elapsed time 40.57 sec\n",
      "EvaluatorHoldout: Processed 35595 (100.0%) in 25.31 sec. Users per second: 1406\n"
     ]
    },
    {
     "name": "stderr",
     "output_type": "stream",
     "text": [
      "[I 2024-12-17 13:12:34,890] Trial 437 finished with value: 0.00028209999175022335 and parameters: {'similarity': 'cosine', 'topK': 0, 'shrink': 964, 'feature_weighting': 'BM25'}. Best is trial 192 with value: 0.01876248782043132.\n"
     ]
    },
    {
     "name": "stdout",
     "output_type": "stream",
     "text": [
      "Similarity column 38121 (100.0%), 676.60 column/sec. Elapsed time 56.34 sec\n",
      "EvaluatorHoldout: Processed 35595 (100.0%) in 35.21 sec. Users per second: 1011\n"
     ]
    },
    {
     "name": "stderr",
     "output_type": "stream",
     "text": [
      "[I 2024-12-17 13:14:07,050] Trial 438 finished with value: 0.018383729434087694 and parameters: {'similarity': 'cosine', 'topK': 36, 'shrink': 925, 'feature_weighting': 'BM25'}. Best is trial 192 with value: 0.01876248782043132.\n"
     ]
    },
    {
     "name": "stdout",
     "output_type": "stream",
     "text": [
      "Similarity column 38121 (100.0%), 671.14 column/sec. Elapsed time 56.80 sec\n",
      "EvaluatorHoldout: Processed 35595 (100.0%) in 38.65 sec. Users per second: 921\n"
     ]
    },
    {
     "name": "stderr",
     "output_type": "stream",
     "text": [
      "[I 2024-12-17 13:15:43,223] Trial 439 finished with value: 0.01795151361101646 and parameters: {'similarity': 'cosine', 'topK': 107, 'shrink': 858, 'feature_weighting': 'BM25'}. Best is trial 192 with value: 0.01876248782043132.\n"
     ]
    },
    {
     "name": "stdout",
     "output_type": "stream",
     "text": [
      "Similarity column 38121 (100.0%), 674.96 column/sec. Elapsed time 56.48 sec\n",
      "EvaluatorHoldout: Processed 35595 (100.0%) in 33.53 sec. Users per second: 1062\n"
     ]
    },
    {
     "name": "stderr",
     "output_type": "stream",
     "text": [
      "[I 2024-12-17 13:17:13,839] Trial 440 finished with value: 0.01847377462948471 and parameters: {'similarity': 'cosine', 'topK': 14, 'shrink': 978, 'feature_weighting': 'TF-IDF'}. Best is trial 192 with value: 0.01876248782043132.\n"
     ]
    },
    {
     "name": "stdout",
     "output_type": "stream",
     "text": [
      "Similarity column 38121 (100.0%), 673.35 column/sec. Elapsed time 56.61 sec\n",
      "EvaluatorHoldout: Processed 35595 (100.0%) in 37.10 sec. Users per second: 960\n"
     ]
    },
    {
     "name": "stderr",
     "output_type": "stream",
     "text": [
      "[I 2024-12-17 13:18:48,207] Trial 441 finished with value: 0.018305869381512054 and parameters: {'similarity': 'cosine', 'topK': 59, 'shrink': 893, 'feature_weighting': 'BM25'}. Best is trial 192 with value: 0.01876248782043132.\n"
     ]
    },
    {
     "name": "stdout",
     "output_type": "stream",
     "text": [
      "Similarity column 38121 (100.0%), 674.61 column/sec. Elapsed time 56.51 sec\n",
      "EvaluatorHoldout: Processed 35595 (100.0%) in 35.02 sec. Users per second: 1016\n"
     ]
    },
    {
     "name": "stderr",
     "output_type": "stream",
     "text": [
      "[I 2024-12-17 13:20:20,320] Trial 442 finished with value: 0.01851892654800374 and parameters: {'similarity': 'cosine', 'topK': 29, 'shrink': 954, 'feature_weighting': 'BM25'}. Best is trial 192 with value: 0.01876248782043132.\n"
     ]
    },
    {
     "name": "stdout",
     "output_type": "stream",
     "text": [
      "Similarity column 38121 (100.0%), 652.32 column/sec. Elapsed time 58.44 sec\n",
      "EvaluatorHoldout: Processed 35595 (100.0%) in 55.06 sec. Users per second: 646\n"
     ]
    },
    {
     "name": "stderr",
     "output_type": "stream",
     "text": [
      "[I 2024-12-17 13:22:15,386] Trial 443 finished with value: 0.016695529735985017 and parameters: {'similarity': 'cosine', 'topK': 481, 'shrink': 981, 'feature_weighting': 'BM25'}. Best is trial 192 with value: 0.01876248782043132.\n"
     ]
    },
    {
     "name": "stdout",
     "output_type": "stream",
     "text": [
      "Similarity column 38121 (100.0%), 659.65 column/sec. Elapsed time 57.79 sec\n",
      "EvaluatorHoldout: Processed 35595 (100.0%) in 38.58 sec. Users per second: 923\n"
     ]
    },
    {
     "name": "stderr",
     "output_type": "stream",
     "text": [
      "[I 2024-12-17 13:23:52,538] Trial 444 finished with value: 0.018361466185950047 and parameters: {'similarity': 'cosine', 'topK': 46, 'shrink': 924, 'feature_weighting': 'BM25'}. Best is trial 192 with value: 0.01876248782043132.\n"
     ]
    },
    {
     "name": "stdout",
     "output_type": "stream",
     "text": [
      "Similarity column 38121 (100.0%), 660.03 column/sec. Elapsed time 57.76 sec\n",
      "EvaluatorHoldout: Processed 35595 (100.0%) in 33.14 sec. Users per second: 1074\n"
     ]
    },
    {
     "name": "stderr",
     "output_type": "stream",
     "text": [
      "[I 2024-12-17 13:25:24,453] Trial 445 finished with value: 0.012813136988653565 and parameters: {'similarity': 'tversky', 'topK': 13, 'shrink': 944, 'feature_weighting': 'BM25', 'tversky_alpha': 0.29851164820102327, 'tversky_beta': 0.7906539636741885}. Best is trial 192 with value: 0.01876248782043132.\n"
     ]
    },
    {
     "name": "stdout",
     "output_type": "stream",
     "text": [
      "Similarity column 38121 (100.0%), 674.49 column/sec. Elapsed time 56.52 sec\n",
      "EvaluatorHoldout: Processed 35595 (100.0%) in 35.41 sec. Users per second: 1005\n"
     ]
    },
    {
     "name": "stderr",
     "output_type": "stream",
     "text": [
      "[I 2024-12-17 13:26:56,968] Trial 446 finished with value: 0.01858961598405348 and parameters: {'similarity': 'cosine', 'topK': 26, 'shrink': 964, 'feature_weighting': 'BM25'}. Best is trial 192 with value: 0.01876248782043132.\n"
     ]
    },
    {
     "name": "stdout",
     "output_type": "stream",
     "text": [
      "Similarity column 38121 (100.0%), 340.63 column/sec. Elapsed time 1.87 min\n",
      "EvaluatorHoldout: Processed 35595 (100.0%) in 31.79 sec. Users per second: 1120\n"
     ]
    },
    {
     "name": "stderr",
     "output_type": "stream",
     "text": [
      "[I 2024-12-17 13:29:21,002] Trial 447 finished with value: 0.009254317197216646 and parameters: {'similarity': 'euclidean', 'topK': 13, 'shrink': 983, 'feature_weighting': 'none', 'normalize_avg_row': True, 'similarity_from_distance_mode': 'exp', 'normalize': False}. Best is trial 192 with value: 0.01876248782043132.\n"
     ]
    },
    {
     "name": "stdout",
     "output_type": "stream",
     "text": [
      "Similarity column 38121 (100.0%), 662.94 column/sec. Elapsed time 57.50 sec\n",
      "EvaluatorHoldout: Processed 35595 (100.0%) in 36.13 sec. Users per second: 985\n"
     ]
    },
    {
     "name": "stderr",
     "output_type": "stream",
     "text": [
      "[I 2024-12-17 13:30:55,241] Trial 448 finished with value: 0.018408258026252174 and parameters: {'similarity': 'cosine', 'topK': 35, 'shrink': 945, 'feature_weighting': 'BM25'}. Best is trial 192 with value: 0.01876248782043132.\n"
     ]
    },
    {
     "name": "stdout",
     "output_type": "stream",
     "text": [
      "Similarity column 38121 (100.0%), 672.38 column/sec. Elapsed time 56.70 sec\n",
      "EvaluatorHoldout: Processed 35595 (100.0%) in 34.34 sec. Users per second: 1037\n"
     ]
    },
    {
     "name": "stderr",
     "output_type": "stream",
     "text": [
      "[I 2024-12-17 13:32:26,841] Trial 449 finished with value: 0.018648037779516975 and parameters: {'similarity': 'cosine', 'topK': 21, 'shrink': 907, 'feature_weighting': 'BM25'}. Best is trial 192 with value: 0.01876248782043132.\n"
     ]
    },
    {
     "name": "stdout",
     "output_type": "stream",
     "text": [
      "Similarity column 38121 (100.0%), 938.59 column/sec. Elapsed time 40.62 sec\n",
      "EvaluatorHoldout: Processed 35595 (100.0%) in 25.68 sec. Users per second: 1386\n"
     ]
    },
    {
     "name": "stderr",
     "output_type": "stream",
     "text": [
      "[I 2024-12-17 13:33:33,690] Trial 450 finished with value: 0.00028209999175022335 and parameters: {'similarity': 'cosine', 'topK': 0, 'shrink': 877, 'feature_weighting': 'BM25'}. Best is trial 192 with value: 0.01876248782043132.\n"
     ]
    },
    {
     "name": "stdout",
     "output_type": "stream",
     "text": [
      "Similarity column 38121 (100.0%), 670.13 column/sec. Elapsed time 56.89 sec\n",
      "EvaluatorHoldout: Processed 35595 (100.0%) in 36.50 sec. Users per second: 975\n"
     ]
    },
    {
     "name": "stderr",
     "output_type": "stream",
     "text": [
      "[I 2024-12-17 13:35:07,692] Trial 451 finished with value: 0.018362757164485027 and parameters: {'similarity': 'cosine', 'topK': 49, 'shrink': 830, 'feature_weighting': 'BM25'}. Best is trial 192 with value: 0.01876248782043132.\n"
     ]
    },
    {
     "name": "stdout",
     "output_type": "stream",
     "text": [
      "Similarity column 38121 (100.0%), 673.67 column/sec. Elapsed time 56.59 sec\n",
      "EvaluatorHoldout: Processed 35595 (100.0%) in 35.74 sec. Users per second: 996\n"
     ]
    },
    {
     "name": "stderr",
     "output_type": "stream",
     "text": [
      "[I 2024-12-17 13:36:40,636] Trial 452 finished with value: 0.018401659319906345 and parameters: {'similarity': 'cosine', 'topK': 36, 'shrink': 964, 'feature_weighting': 'BM25'}. Best is trial 192 with value: 0.01876248782043132.\n"
     ]
    },
    {
     "name": "stdout",
     "output_type": "stream",
     "text": [
      "Similarity column 38121 (100.0%), 675.62 column/sec. Elapsed time 56.42 sec\n",
      "EvaluatorHoldout: Processed 35595 (100.0%) in 34.28 sec. Users per second: 1038\n"
     ]
    },
    {
     "name": "stderr",
     "output_type": "stream",
     "text": [
      "[I 2024-12-17 13:38:11,937] Trial 453 finished with value: 0.015472061128614345 and parameters: {'similarity': 'asymmetric', 'topK': 19, 'shrink': 195, 'feature_weighting': 'BM25', 'asymmetric_alpha': 1.4245920315269855}. Best is trial 192 with value: 0.01876248782043132.\n"
     ]
    },
    {
     "name": "stdout",
     "output_type": "stream",
     "text": [
      "Similarity column 38121 (100.0%), 673.57 column/sec. Elapsed time 56.60 sec\n",
      "EvaluatorHoldout: Processed 35595 (100.0%) in 38.15 sec. Users per second: 933\n"
     ]
    },
    {
     "name": "stderr",
     "output_type": "stream",
     "text": [
      "[I 2024-12-17 13:39:47,330] Trial 454 finished with value: 0.015470067804244324 and parameters: {'similarity': 'cosine', 'topK': 76, 'shrink': 95, 'feature_weighting': 'BM25'}. Best is trial 192 with value: 0.01876248782043132.\n"
     ]
    },
    {
     "name": "stdout",
     "output_type": "stream",
     "text": [
      "Similarity column 38121 (100.0%), 659.67 column/sec. Elapsed time 57.79 sec\n",
      "EvaluatorHoldout: Processed 35595 (100.0%) in 46.00 sec. Users per second: 774\n"
     ]
    },
    {
     "name": "stderr",
     "output_type": "stream",
     "text": [
      "[I 2024-12-17 13:41:32,099] Trial 455 finished with value: 0.017212729405102028 and parameters: {'similarity': 'cosine', 'topK': 279, 'shrink': 924, 'feature_weighting': 'BM25'}. Best is trial 192 with value: 0.01876248782043132.\n"
     ]
    },
    {
     "name": "stdout",
     "output_type": "stream",
     "text": [
      "Similarity column 38121 (100.0%), 942.44 column/sec. Elapsed time 40.45 sec\n",
      "EvaluatorHoldout: Processed 35595 (100.0%) in 24.93 sec. Users per second: 1428\n"
     ]
    },
    {
     "name": "stderr",
     "output_type": "stream",
     "text": [
      "[I 2024-12-17 13:42:38,044] Trial 456 finished with value: 0.00028209999175022335 and parameters: {'similarity': 'cosine', 'topK': 0, 'shrink': 533, 'feature_weighting': 'BM25'}. Best is trial 192 with value: 0.01876248782043132.\n"
     ]
    },
    {
     "name": "stdout",
     "output_type": "stream",
     "text": [
      "Similarity column 38121 (100.0%), 674.30 column/sec. Elapsed time 56.53 sec\n",
      "EvaluatorHoldout: Processed 35595 (100.0%) in 36.86 sec. Users per second: 966\n"
     ]
    },
    {
     "name": "stderr",
     "output_type": "stream",
     "text": [
      "[I 2024-12-17 13:44:12,155] Trial 457 finished with value: 0.01834588414192298 and parameters: {'similarity': 'cosine', 'topK': 57, 'shrink': 985, 'feature_weighting': 'BM25'}. Best is trial 192 with value: 0.01876248782043132.\n"
     ]
    },
    {
     "name": "stdout",
     "output_type": "stream",
     "text": [
      "Similarity column 38121 (100.0%), 667.54 column/sec. Elapsed time 57.11 sec\n",
      "EvaluatorHoldout: Processed 35595 (100.0%) in 36.71 sec. Users per second: 970\n"
     ]
    },
    {
     "name": "stderr",
     "output_type": "stream",
     "text": [
      "[I 2024-12-17 13:45:46,578] Trial 458 finished with value: 0.018409925818901853 and parameters: {'similarity': 'cosine', 'topK': 36, 'shrink': 953, 'feature_weighting': 'BM25'}. Best is trial 192 with value: 0.01876248782043132.\n"
     ]
    },
    {
     "name": "stdout",
     "output_type": "stream",
     "text": [
      "Similarity column 38121 (100.0%), 669.77 column/sec. Elapsed time 56.92 sec\n",
      "EvaluatorHoldout: Processed 35595 (100.0%) in 36.53 sec. Users per second: 974\n"
     ]
    },
    {
     "name": "stderr",
     "output_type": "stream",
     "text": [
      "[I 2024-12-17 13:47:20,992] Trial 459 finished with value: 0.01303585308262971 and parameters: {'similarity': 'jaccard', 'topK': 16, 'shrink': 936, 'feature_weighting': 'BM25'}. Best is trial 192 with value: 0.01876248782043132.\n"
     ]
    },
    {
     "name": "stdout",
     "output_type": "stream",
     "text": [
      "Similarity column 38121 (100.0%), 652.38 column/sec. Elapsed time 58.43 sec\n",
      "EvaluatorHoldout: Processed 35595 (100.0%) in 55.71 sec. Users per second: 639\n"
     ]
    },
    {
     "name": "stderr",
     "output_type": "stream",
     "text": [
      "[I 2024-12-17 13:49:17,115] Trial 460 finished with value: 0.016411010553025157 and parameters: {'similarity': 'cosine', 'topK': 694, 'shrink': 968, 'feature_weighting': 'TF-IDF'}. Best is trial 192 with value: 0.01876248782043132.\n"
     ]
    },
    {
     "name": "stdout",
     "output_type": "stream",
     "text": [
      "Similarity column 38121 (100.0%), 673.51 column/sec. Elapsed time 56.60 sec\n",
      "EvaluatorHoldout: Processed 35595 (100.0%) in 35.19 sec. Users per second: 1012\n"
     ]
    },
    {
     "name": "stderr",
     "output_type": "stream",
     "text": [
      "[I 2024-12-17 13:50:49,506] Trial 461 finished with value: 0.01848036664682263 and parameters: {'similarity': 'cosine', 'topK': 27, 'shrink': 627, 'feature_weighting': 'BM25'}. Best is trial 192 with value: 0.01876248782043132.\n"
     ]
    },
    {
     "name": "stdout",
     "output_type": "stream",
     "text": [
      "Similarity column 38121 (100.0%), 674.33 column/sec. Elapsed time 56.53 sec\n",
      "EvaluatorHoldout: Processed 35595 (100.0%) in 33.70 sec. Users per second: 1056\n"
     ]
    },
    {
     "name": "stderr",
     "output_type": "stream",
     "text": [
      "[I 2024-12-17 13:52:20,355] Trial 462 finished with value: 0.018343331170554193 and parameters: {'similarity': 'cosine', 'topK': 14, 'shrink': 490, 'feature_weighting': 'BM25'}. Best is trial 192 with value: 0.01876248782043132.\n"
     ]
    },
    {
     "name": "stdout",
     "output_type": "stream",
     "text": [
      "Similarity column 38121 (100.0%), 675.40 column/sec. Elapsed time 56.44 sec\n",
      "EvaluatorHoldout: Processed 35595 (100.0%) in 36.46 sec. Users per second: 976\n"
     ]
    },
    {
     "name": "stderr",
     "output_type": "stream",
     "text": [
      "[I 2024-12-17 13:53:54,252] Trial 463 finished with value: 0.012214707121787119 and parameters: {'similarity': 'dice', 'topK': 49, 'shrink': 893, 'feature_weighting': 'BM25'}. Best is trial 192 with value: 0.01876248782043132.\n"
     ]
    },
    {
     "name": "stdout",
     "output_type": "stream",
     "text": [
      "Similarity column 38121 (100.0%), 672.05 column/sec. Elapsed time 56.72 sec\n",
      "EvaluatorHoldout: Processed 35595 (100.0%) in 35.52 sec. Users per second: 1002\n"
     ]
    },
    {
     "name": "stderr",
     "output_type": "stream",
     "text": [
      "[I 2024-12-17 13:55:27,087] Trial 464 finished with value: 0.018403109719797587 and parameters: {'similarity': 'cosine', 'topK': 34, 'shrink': 985, 'feature_weighting': 'BM25'}. Best is trial 192 with value: 0.01876248782043132.\n"
     ]
    },
    {
     "name": "stdout",
     "output_type": "stream",
     "text": [
      "Similarity column 38121 (100.0%), 674.54 column/sec. Elapsed time 56.51 sec\n",
      "EvaluatorHoldout: Processed 35595 (100.0%) in 32.56 sec. Users per second: 1093\n"
     ]
    },
    {
     "name": "stderr",
     "output_type": "stream",
     "text": [
      "[I 2024-12-17 13:56:56,812] Trial 465 finished with value: 0.018616852509604292 and parameters: {'similarity': 'cosine', 'topK': 12, 'shrink': 916, 'feature_weighting': 'BM25'}. Best is trial 192 with value: 0.01876248782043132.\n"
     ]
    },
    {
     "name": "stdout",
     "output_type": "stream",
     "text": [
      "Similarity column 38121 (100.0%), 676.07 column/sec. Elapsed time 56.39 sec\n",
      "EvaluatorHoldout: Processed 35595 (100.0%) in 34.94 sec. Users per second: 1019\n"
     ]
    },
    {
     "name": "stderr",
     "output_type": "stream",
     "text": [
      "[I 2024-12-17 13:58:28,727] Trial 466 finished with value: 0.018588938164580886 and parameters: {'similarity': 'cosine', 'topK': 24, 'shrink': 1000, 'feature_weighting': 'BM25'}. Best is trial 192 with value: 0.01876248782043132.\n"
     ]
    },
    {
     "name": "stdout",
     "output_type": "stream",
     "text": [
      "Similarity column 38121 (100.0%), 675.27 column/sec. Elapsed time 56.45 sec\n",
      "EvaluatorHoldout: Processed 35595 (100.0%) in 35.70 sec. Users per second: 997\n"
     ]
    },
    {
     "name": "stderr",
     "output_type": "stream",
     "text": [
      "[I 2024-12-17 14:00:01,493] Trial 467 finished with value: 0.018402828781463442 and parameters: {'similarity': 'cosine', 'topK': 43, 'shrink': 946, 'feature_weighting': 'BM25'}. Best is trial 192 with value: 0.01876248782043132.\n"
     ]
    },
    {
     "name": "stdout",
     "output_type": "stream",
     "text": [
      "Similarity column 38121 (100.0%), 871.42 column/sec. Elapsed time 43.75 sec\n",
      "EvaluatorHoldout: Processed 35595 (100.0%) in 28.95 sec. Users per second: 1229\n"
     ]
    },
    {
     "name": "stderr",
     "output_type": "stream",
     "text": [
      "[I 2024-12-17 14:01:14,888] Trial 468 finished with value: 0.016166576365059453 and parameters: {'similarity': 'cosine', 'topK': 1, 'shrink': 962, 'feature_weighting': 'BM25'}. Best is trial 192 with value: 0.01876248782043132.\n"
     ]
    },
    {
     "name": "stdout",
     "output_type": "stream",
     "text": [
      "Similarity column 38121 (100.0%), 667.85 column/sec. Elapsed time 57.08 sec\n",
      "EvaluatorHoldout: Processed 35595 (100.0%) in 36.36 sec. Users per second: 979\n"
     ]
    },
    {
     "name": "stderr",
     "output_type": "stream",
     "text": [
      "[I 2024-12-17 14:02:48,888] Trial 469 finished with value: 0.011596966088959666 and parameters: {'similarity': 'cosine', 'topK': 63, 'shrink': 933, 'feature_weighting': 'none'}. Best is trial 192 with value: 0.01876248782043132.\n"
     ]
    },
    {
     "name": "stdout",
     "output_type": "stream",
     "text": [
      "Similarity column 38121 (100.0%), 674.42 column/sec. Elapsed time 56.52 sec\n",
      "EvaluatorHoldout: Processed 35595 (100.0%) in 38.32 sec. Users per second: 929\n"
     ]
    },
    {
     "name": "stderr",
     "output_type": "stream",
     "text": [
      "[I 2024-12-17 14:04:24,340] Trial 470 finished with value: 0.018573585776493512 and parameters: {'similarity': 'cosine', 'topK': 25, 'shrink': 867, 'feature_weighting': 'BM25'}. Best is trial 192 with value: 0.01876248782043132.\n"
     ]
    },
    {
     "name": "stdout",
     "output_type": "stream",
     "text": [
      "Similarity column 38121 (100.0%), 662.20 column/sec. Elapsed time 57.57 sec\n",
      "EvaluatorHoldout: Processed 35595 (100.0%) in 36.42 sec. Users per second: 977\n"
     ]
    },
    {
     "name": "stderr",
     "output_type": "stream",
     "text": [
      "[I 2024-12-17 14:05:59,020] Trial 471 finished with value: 0.01865408687237598 and parameters: {'similarity': 'cosine', 'topK': 11, 'shrink': 974, 'feature_weighting': 'BM25'}. Best is trial 192 with value: 0.01876248782043132.\n"
     ]
    },
    {
     "name": "stdout",
     "output_type": "stream",
     "text": [
      "Similarity column 38121 (100.0%), 657.66 column/sec. Elapsed time 57.96 sec\n",
      "EvaluatorHoldout: Processed 35595 (100.0%) in 50.13 sec. Users per second: 710\n"
     ]
    },
    {
     "name": "stderr",
     "output_type": "stream",
     "text": [
      "[I 2024-12-17 14:07:48,623] Trial 472 finished with value: 0.016915534552070715 and parameters: {'similarity': 'cosine', 'topK': 381, 'shrink': 999, 'feature_weighting': 'BM25'}. Best is trial 192 with value: 0.01876248782043132.\n"
     ]
    },
    {
     "name": "stdout",
     "output_type": "stream",
     "text": [
      "Similarity column 38121 (100.0%), 913.70 column/sec. Elapsed time 41.72 sec\n",
      "EvaluatorHoldout: Processed 35595 (100.0%) in 27.00 sec. Users per second: 1318\n"
     ]
    },
    {
     "name": "stderr",
     "output_type": "stream",
     "text": [
      "[I 2024-12-17 14:08:58,418] Trial 473 finished with value: 0.00028209999175022335 and parameters: {'similarity': 'tversky', 'topK': 0, 'shrink': 980, 'feature_weighting': 'BM25', 'tversky_alpha': 1.721942154466484, 'tversky_beta': 1.6301185745550046}. Best is trial 192 with value: 0.01876248782043132.\n"
     ]
    },
    {
     "name": "stdout",
     "output_type": "stream",
     "text": [
      "Similarity column 38121 (100.0%), 669.66 column/sec. Elapsed time 56.93 sec\n",
      "EvaluatorHoldout: Processed 35595 (100.0%) in 33.79 sec. Users per second: 1053\n"
     ]
    },
    {
     "name": "stderr",
     "output_type": "stream",
     "text": [
      "[I 2024-12-17 14:10:29,702] Trial 474 finished with value: 0.018615192520797172 and parameters: {'similarity': 'cosine', 'topK': 10, 'shrink': 911, 'feature_weighting': 'BM25'}. Best is trial 192 with value: 0.01876248782043132.\n"
     ]
    },
    {
     "name": "stdout",
     "output_type": "stream",
     "text": [
      "Similarity column 38121 (100.0%), 943.70 column/sec. Elapsed time 40.40 sec\n",
      "EvaluatorHoldout: Processed 35595 (100.0%) in 26.02 sec. Users per second: 1368\n"
     ]
    },
    {
     "name": "stderr",
     "output_type": "stream",
     "text": [
      "[I 2024-12-17 14:11:36,665] Trial 475 finished with value: 0.00028209999175022335 and parameters: {'similarity': 'cosine', 'topK': 0, 'shrink': 957, 'feature_weighting': 'BM25'}. Best is trial 192 with value: 0.01876248782043132.\n"
     ]
    },
    {
     "name": "stdout",
     "output_type": "stream",
     "text": [
      "Similarity column 38121 (100.0%), 661.75 column/sec. Elapsed time 57.61 sec\n",
      "EvaluatorHoldout: Processed 35595 (100.0%) in 38.81 sec. Users per second: 917\n"
     ]
    },
    {
     "name": "stderr",
     "output_type": "stream",
     "text": [
      "[I 2024-12-17 14:13:13,773] Trial 476 finished with value: 0.01842562937990671 and parameters: {'similarity': 'cosine', 'topK': 37, 'shrink': 974, 'feature_weighting': 'BM25'}. Best is trial 192 with value: 0.01876248782043132.\n"
     ]
    },
    {
     "name": "stdout",
     "output_type": "stream",
     "text": [
      "Similarity column 38121 (100.0%), 175.74 column/sec. Elapsed time 3.62 min\n",
      "EvaluatorHoldout: Processed 35595 (100.0%) in 37.20 sec. Users per second: 957\n"
     ]
    },
    {
     "name": "stderr",
     "output_type": "stream",
     "text": [
      "[I 2024-12-17 14:17:28,425] Trial 477 finished with value: 0.01694372426125502 and parameters: {'similarity': 'euclidean', 'topK': 18, 'shrink': 935, 'feature_weighting': 'BM25', 'normalize_avg_row': False, 'similarity_from_distance_mode': 'lin', 'normalize': True}. Best is trial 192 with value: 0.01876248782043132.\n"
     ]
    },
    {
     "name": "stdout",
     "output_type": "stream",
     "text": [
      "Similarity column 38121 (100.0%), 657.75 column/sec. Elapsed time 57.96 sec\n",
      "EvaluatorHoldout: Processed 35595 (100.0%) in 37.98 sec. Users per second: 937\n"
     ]
    },
    {
     "name": "stderr",
     "output_type": "stream",
     "text": [
      "[I 2024-12-17 14:19:05,013] Trial 478 finished with value: 0.018519844056927963 and parameters: {'similarity': 'cosine', 'topK': 28, 'shrink': 891, 'feature_weighting': 'BM25'}. Best is trial 192 with value: 0.01876248782043132.\n"
     ]
    },
    {
     "name": "stdout",
     "output_type": "stream",
     "text": [
      "Similarity column 38121 (100.0%), 658.23 column/sec. Elapsed time 57.91 sec\n",
      "EvaluatorHoldout: Processed 35595 (100.0%) in 36.72 sec. Users per second: 969\n"
     ]
    },
    {
     "name": "stderr",
     "output_type": "stream",
     "text": [
      "[I 2024-12-17 14:20:40,269] Trial 479 finished with value: 0.018618240478754593 and parameters: {'similarity': 'cosine', 'topK': 13, 'shrink': 952, 'feature_weighting': 'BM25'}. Best is trial 192 with value: 0.01876248782043132.\n"
     ]
    },
    {
     "name": "stdout",
     "output_type": "stream",
     "text": [
      "Similarity column 38121 (100.0%), 660.38 column/sec. Elapsed time 57.73 sec\n",
      "EvaluatorHoldout: Processed 35595 (100.0%) in 39.23 sec. Users per second: 907\n"
     ]
    },
    {
     "name": "stderr",
     "output_type": "stream",
     "text": [
      "[I 2024-12-17 14:22:17,944] Trial 480 finished with value: 0.018407113091057494 and parameters: {'similarity': 'cosine', 'topK': 43, 'shrink': 986, 'feature_weighting': 'BM25'}. Best is trial 192 with value: 0.01876248782043132.\n"
     ]
    },
    {
     "name": "stdout",
     "output_type": "stream",
     "text": [
      "Similarity column 38121 (100.0%), 659.59 column/sec. Elapsed time 57.80 sec\n",
      "EvaluatorHoldout: Processed 35595 (100.0%) in 36.50 sec. Users per second: 975\n"
     ]
    },
    {
     "name": "stderr",
     "output_type": "stream",
     "text": [
      "[I 2024-12-17 14:23:52,967] Trial 481 finished with value: 0.018617039801827075 and parameters: {'similarity': 'cosine', 'topK': 11, 'shrink': 849, 'feature_weighting': 'BM25'}. Best is trial 192 with value: 0.01876248782043132.\n"
     ]
    },
    {
     "name": "stdout",
     "output_type": "stream",
     "text": [
      "Similarity column 38121 (100.0%), 658.41 column/sec. Elapsed time 57.90 sec\n",
      "EvaluatorHoldout: Processed 35595 (100.0%) in 40.53 sec. Users per second: 878\n"
     ]
    },
    {
     "name": "stderr",
     "output_type": "stream",
     "text": [
      "[I 2024-12-17 14:25:32,141] Trial 482 finished with value: 0.018345388040499743 and parameters: {'similarity': 'cosine', 'topK': 57, 'shrink': 921, 'feature_weighting': 'BM25'}. Best is trial 192 with value: 0.01876248782043132.\n"
     ]
    },
    {
     "name": "stdout",
     "output_type": "stream",
     "text": [
      "Similarity column 38121 (100.0%), 660.75 column/sec. Elapsed time 57.69 sec\n",
      "EvaluatorHoldout: Processed 35595 (100.0%) in 38.34 sec. Users per second: 928\n"
     ]
    },
    {
     "name": "stderr",
     "output_type": "stream",
     "text": [
      "[I 2024-12-17 14:27:08,951] Trial 483 finished with value: 0.018238098582599314 and parameters: {'similarity': 'asymmetric', 'topK': 28, 'shrink': 966, 'feature_weighting': 'BM25', 'asymmetric_alpha': 1.090150997524717}. Best is trial 192 with value: 0.01876248782043132.\n"
     ]
    },
    {
     "name": "stdout",
     "output_type": "stream",
     "text": [
      "Similarity column 38121 (100.0%), 909.57 column/sec. Elapsed time 41.91 sec\n",
      "EvaluatorHoldout: Processed 35595 (100.0%) in 28.43 sec. Users per second: 1252\n"
     ]
    },
    {
     "name": "stderr",
     "output_type": "stream",
     "text": [
      "[I 2024-12-17 14:28:19,933] Trial 484 finished with value: 0.00028209999175022335 and parameters: {'similarity': 'cosine', 'topK': 0, 'shrink': 1000, 'feature_weighting': 'TF-IDF'}. Best is trial 192 with value: 0.01876248782043132.\n"
     ]
    },
    {
     "name": "stdout",
     "output_type": "stream",
     "text": [
      "Similarity column 38121 (100.0%), 659.91 column/sec. Elapsed time 57.77 sec\n",
      "EvaluatorHoldout: Processed 35595 (100.0%) in 39.07 sec. Users per second: 911\n"
     ]
    },
    {
     "name": "stderr",
     "output_type": "stream",
     "text": [
      "[I 2024-12-17 14:29:57,520] Trial 485 finished with value: 0.018384338133811448 and parameters: {'similarity': 'cosine', 'topK': 34, 'shrink': 940, 'feature_weighting': 'BM25'}. Best is trial 192 with value: 0.01876248782043132.\n"
     ]
    },
    {
     "name": "stdout",
     "output_type": "stream",
     "text": [
      "Similarity column 38121 (100.0%), 659.21 column/sec. Elapsed time 57.83 sec\n",
      "EvaluatorHoldout: Processed 35595 (100.0%) in 37.41 sec. Users per second: 951\n"
     ]
    },
    {
     "name": "stderr",
     "output_type": "stream",
     "text": [
      "[I 2024-12-17 14:31:33,482] Trial 486 finished with value: 0.018546810792491403 and parameters: {'similarity': 'cosine', 'topK': 18, 'shrink': 972, 'feature_weighting': 'BM25'}. Best is trial 192 with value: 0.01876248782043132.\n"
     ]
    },
    {
     "name": "stdout",
     "output_type": "stream",
     "text": [
      "Similarity column 38121 (100.0%), 659.44 column/sec. Elapsed time 57.81 sec\n",
      "EvaluatorHoldout: Processed 35595 (100.0%) in 39.70 sec. Users per second: 897\n"
     ]
    },
    {
     "name": "stderr",
     "output_type": "stream",
     "text": [
      "[I 2024-12-17 14:33:12,114] Trial 487 finished with value: 0.012141586231346391 and parameters: {'similarity': 'jaccard', 'topK': 52, 'shrink': 904, 'feature_weighting': 'BM25'}. Best is trial 192 with value: 0.01876248782043132.\n"
     ]
    },
    {
     "name": "stdout",
     "output_type": "stream",
     "text": [
      "Similarity column 38121 (100.0%), 660.83 column/sec. Elapsed time 57.69 sec\n",
      "EvaluatorHoldout: Processed 35595 (100.0%) in 36.94 sec. Users per second: 964\n"
     ]
    },
    {
     "name": "stderr",
     "output_type": "stream",
     "text": [
      "[I 2024-12-17 14:34:47,443] Trial 488 finished with value: 0.01856297143570637 and parameters: {'similarity': 'cosine', 'topK': 15, 'shrink': 949, 'feature_weighting': 'BM25'}. Best is trial 192 with value: 0.01876248782043132.\n"
     ]
    },
    {
     "name": "stdout",
     "output_type": "stream",
     "text": [
      "Similarity column 38121 (100.0%), 658.50 column/sec. Elapsed time 57.89 sec\n",
      "EvaluatorHoldout: Processed 35595 (100.0%) in 38.90 sec. Users per second: 915\n"
     ]
    },
    {
     "name": "stderr",
     "output_type": "stream",
     "text": [
      "[I 2024-12-17 14:36:24,930] Trial 489 finished with value: 0.018358700281161374 and parameters: {'similarity': 'cosine', 'topK': 38, 'shrink': 803, 'feature_weighting': 'BM25'}. Best is trial 192 with value: 0.01876248782043132.\n"
     ]
    },
    {
     "name": "stdout",
     "output_type": "stream",
     "text": [
      "Similarity column 38121 (100.0%), 661.68 column/sec. Elapsed time 57.61 sec\n",
      "EvaluatorHoldout: Processed 35595 (100.0%) in 37.97 sec. Users per second: 937\n"
     ]
    },
    {
     "name": "stderr",
     "output_type": "stream",
     "text": [
      "[I 2024-12-17 14:38:01,153] Trial 490 finished with value: 0.0186423777639539 and parameters: {'similarity': 'cosine', 'topK': 26, 'shrink': 982, 'feature_weighting': 'BM25'}. Best is trial 192 with value: 0.01876248782043132.\n"
     ]
    },
    {
     "name": "stdout",
     "output_type": "stream",
     "text": [
      "Similarity column 38121 (100.0%), 656.08 column/sec. Elapsed time 58.10 sec\n",
      "EvaluatorHoldout: Processed 35595 (100.0%) in 35.04 sec. Users per second: 1016\n"
     ]
    },
    {
     "name": "stderr",
     "output_type": "stream",
     "text": [
      "[I 2024-12-17 14:39:34,762] Trial 491 finished with value: 0.012579417476594364 and parameters: {'similarity': 'cosine', 'topK': 12, 'shrink': 925, 'feature_weighting': 'none'}. Best is trial 192 with value: 0.01876248782043132.\n"
     ]
    },
    {
     "name": "stdout",
     "output_type": "stream",
     "text": [
      "Similarity column 38121 (100.0%), 659.24 column/sec. Elapsed time 57.83 sec\n",
      "EvaluatorHoldout: Processed 35595 (100.0%) in 39.49 sec. Users per second: 901\n"
     ]
    },
    {
     "name": "stderr",
     "output_type": "stream",
     "text": [
      "[I 2024-12-17 14:41:12,745] Trial 492 finished with value: 0.018354711402751907 and parameters: {'similarity': 'cosine', 'topK': 47, 'shrink': 960, 'feature_weighting': 'BM25'}. Best is trial 192 with value: 0.01876248782043132.\n"
     ]
    },
    {
     "name": "stdout",
     "output_type": "stream",
     "text": [
      "Similarity column 38121 (100.0%), 659.36 column/sec. Elapsed time 57.82 sec\n",
      "EvaluatorHoldout: Processed 35595 (100.0%) in 41.68 sec. Users per second: 854\n"
     ]
    },
    {
     "name": "stderr",
     "output_type": "stream",
     "text": [
      "[I 2024-12-17 14:42:53,338] Trial 493 finished with value: 0.011890004838382748 and parameters: {'similarity': 'dice', 'topK': 85, 'shrink': 938, 'feature_weighting': 'BM25'}. Best is trial 192 with value: 0.01876248782043132.\n"
     ]
    },
    {
     "name": "stdout",
     "output_type": "stream",
     "text": [
      "Similarity column 38121 (100.0%), 660.69 column/sec. Elapsed time 57.70 sec\n",
      "EvaluatorHoldout: Processed 35595 (100.0%) in 38.08 sec. Users per second: 935\n"
     ]
    },
    {
     "name": "stderr",
     "output_type": "stream",
     "text": [
      "[I 2024-12-17 14:44:29,741] Trial 494 finished with value: 0.01858459699841921 and parameters: {'similarity': 'cosine', 'topK': 25, 'shrink': 981, 'feature_weighting': 'BM25'}. Best is trial 192 with value: 0.01876248782043132.\n"
     ]
    },
    {
     "name": "stdout",
     "output_type": "stream",
     "text": [
      "Similarity column 38121 (100.0%), 659.06 column/sec. Elapsed time 57.84 sec\n",
      "EvaluatorHoldout: Processed 35595 (100.0%) in 36.54 sec. Users per second: 974\n"
     ]
    },
    {
     "name": "stderr",
     "output_type": "stream",
     "text": [
      "[I 2024-12-17 14:46:04,805] Trial 495 finished with value: 0.018614101097666234 and parameters: {'similarity': 'cosine', 'topK': 11, 'shrink': 888, 'feature_weighting': 'BM25'}. Best is trial 192 with value: 0.01876248782043132.\n"
     ]
    },
    {
     "name": "stdout",
     "output_type": "stream",
     "text": [
      "Similarity column 38121 (100.0%), 660.47 column/sec. Elapsed time 57.72 sec\n",
      "EvaluatorHoldout: Processed 35595 (100.0%) in 40.70 sec. Users per second: 875\n"
     ]
    },
    {
     "name": "stderr",
     "output_type": "stream",
     "text": [
      "[I 2024-12-17 14:47:43,915] Trial 496 finished with value: 0.018290326356698087 and parameters: {'similarity': 'cosine', 'topK': 64, 'shrink': 957, 'feature_weighting': 'BM25'}. Best is trial 192 with value: 0.01876248782043132.\n"
     ]
    },
    {
     "name": "stdout",
     "output_type": "stream",
     "text": [
      "Similarity column 38121 (100.0%), 658.63 column/sec. Elapsed time 57.88 sec\n",
      "EvaluatorHoldout: Processed 35595 (100.0%) in 39.31 sec. Users per second: 906\n"
     ]
    },
    {
     "name": "stderr",
     "output_type": "stream",
     "text": [
      "[I 2024-12-17 14:49:21,762] Trial 497 finished with value: 0.01840333380156394 and parameters: {'similarity': 'cosine', 'topK': 36, 'shrink': 913, 'feature_weighting': 'BM25'}. Best is trial 192 with value: 0.01876248782043132.\n"
     ]
    },
    {
     "name": "stdout",
     "output_type": "stream",
     "text": [
      "Similarity column 38121 (100.0%), 653.20 column/sec. Elapsed time 58.36 sec\n",
      "EvaluatorHoldout: Processed 35595 (100.0%) in 36.40 sec. Users per second: 978\n"
     ]
    },
    {
     "name": "stderr",
     "output_type": "stream",
     "text": [
      "[I 2024-12-17 14:50:57,233] Trial 498 finished with value: 0.018601556978084605 and parameters: {'similarity': 'cosine', 'topK': 11, 'shrink': 863, 'feature_weighting': 'BM25'}. Best is trial 192 with value: 0.01876248782043132.\n"
     ]
    },
    {
     "name": "stdout",
     "output_type": "stream",
     "text": [
      "Similarity column 38121 (100.0%), 660.33 column/sec. Elapsed time 57.73 sec\n",
      "EvaluatorHoldout: Processed 35595 (100.0%) in 38.34 sec. Users per second: 928\n"
     ]
    },
    {
     "name": "stderr",
     "output_type": "stream",
     "text": [
      "[I 2024-12-17 14:52:34,036] Trial 499 finished with value: 0.018516970013177404 and parameters: {'similarity': 'cosine', 'topK': 29, 'shrink': 974, 'feature_weighting': 'BM25'}. Best is trial 192 with value: 0.01876248782043132.\n"
     ]
    }
   ],
   "source": [
    "if config['tune_parameters']:\n",
    "    \n",
    "    optuna_study = optuna.create_study(direction='maximize', study_name=f'hyperparameters_tuning_{config[\"model\"]}_{config[\"metric\"]}',\n",
    "                                storage=f'sqlite:///{config[\"database_path\"]}', load_if_exists=True)\n",
    "\n",
    "    optuna_study.optimize(objective_function_ItemKNNCBF, n_trials=200)"
   ]
  },
  {
   "cell_type": "markdown",
   "id": "13b9925b",
   "metadata": {
    "papermill": {
     "duration": 0.044755,
     "end_time": "2024-12-17T14:52:34.134453",
     "exception": false,
     "start_time": "2024-12-17T14:52:34.089698",
     "status": "completed"
    },
    "tags": []
   },
   "source": [
    "## Some optuna visualizations on recommender parameters"
   ]
  },
  {
   "cell_type": "code",
   "execution_count": 14,
   "id": "e7818167",
   "metadata": {
    "execution": {
     "iopub.execute_input": "2024-12-17T14:52:34.226726Z",
     "iopub.status.busy": "2024-12-17T14:52:34.226046Z",
     "iopub.status.idle": "2024-12-17T14:52:37.254194Z",
     "shell.execute_reply": "2024-12-17T14:52:37.252668Z"
    },
    "papermill": {
     "duration": 3.077627,
     "end_time": "2024-12-17T14:52:37.257024",
     "exception": false,
     "start_time": "2024-12-17T14:52:34.179397",
     "status": "completed"
    },
    "tags": []
   },
   "outputs": [
    {
     "data": {
      "text/html": [
       "        <script type=\"text/javascript\">\n",
       "        window.PlotlyConfig = {MathJaxConfig: 'local'};\n",
       "        if (window.MathJax && window.MathJax.Hub && window.MathJax.Hub.Config) {window.MathJax.Hub.Config({SVG: {font: \"STIX-Web\"}});}\n",
       "        if (typeof require !== 'undefined') {\n",
       "        require.undef(\"plotly\");\n",
       "        requirejs.config({\n",
       "            paths: {\n",
       "                'plotly': ['https://cdn.plot.ly/plotly-2.32.0.min']\n",
       "            }\n",
       "        });\n",
       "        require(['plotly'], function(Plotly) {\n",
       "            window._Plotly = Plotly;\n",
       "        });\n",
       "        }\n",
       "        </script>\n",
       "        "
      ]
     },
     "metadata": {},
     "output_type": "display_data"
    },
    {
     "data": {
      "text/html": [
       "<div>                            <div id=\"f045fc95-9d63-42e7-82d9-60ce97656070\" class=\"plotly-graph-div\" style=\"height:525px; width:3000px;\"></div>            <script type=\"text/javascript\">                require([\"plotly\"], function(Plotly) {                    window.PLOTLYENV=window.PLOTLYENV || {};                                    if (document.getElementById(\"f045fc95-9d63-42e7-82d9-60ce97656070\")) {                    Plotly.newPlot(                        \"f045fc95-9d63-42e7-82d9-60ce97656070\",                        [{\"marker\":{\"color\":[3,10,11,12,13,14,15,19,20,21,22,23,24,25,30,31,32,33,34,42,166,207,253,281,309,337,367,396,426,453,483],\"colorbar\":{\"title\":{\"text\":\"Trial\"},\"x\":1.0,\"xpad\":40},\"colorscale\":[[0.0,\"rgb(247,251,255)\"],[0.125,\"rgb(222,235,247)\"],[0.25,\"rgb(198,219,239)\"],[0.375,\"rgb(158,202,225)\"],[0.5,\"rgb(107,174,214)\"],[0.625,\"rgb(66,146,198)\"],[0.75,\"rgb(33,113,181)\"],[0.875,\"rgb(8,81,156)\"],[1.0,\"rgb(8,48,107)\"]],\"line\":{\"color\":\"Grey\",\"width\":0.5},\"showscale\":true},\"mode\":\"markers\",\"name\":\"Feasible Trial\",\"showlegend\":false,\"x\":[0.7384351483028357,0.7054957801537116,0.6910169471785554,0.6595757110365282,0.12674712007225453,1.9716093481093797,1.1322737914916248,0.34072417040104763,1.2301825909966877,0.7097128870346371,0.5832427279726891,0.47842885785634887,0.39675612136393024,0.285384401899856,0.00007251188265844366,0.40444993179488176,0.3729299753876488,0.3593201324728328,0.9197960418417395,0.1713747336077018,1.522678467276071,1.959194486693359,1.6576247346421695,1.3865695604945303,1.7450935447857439,0.9659265729244032,0.8583399289679953,1.2255035333833053,1.8073009446776525,1.4245920315269855,1.090150997524717],\"y\":[0.016861733746268263,0.017454529238768716,0.017524767166781596,0.0182912750809927,0.017222222222222347,0.01170083411929207,0.015051444045334034,0.01734744936978407,0.006340968835911959,0.017428027389258048,0.01795399857747102,0.01826575428598194,0.018280307337618727,0.017638104602706497,0.014764806676522217,0.01834489416874586,0.01831893189921009,0.01839072725124141,0.016074999386841163,0.01770920541274532,0.01822639393351579,0.01787389770723117,0.017910767519069355,0.018299047708234477,0.00028209999175022335,0.018384717177595412,0.01809317119178064,0.0178213499755852,0.01205005161684506,0.015472061128614345,0.018238098582599314],\"type\":\"scatter\",\"xaxis\":\"x\",\"yaxis\":\"y\"},{\"marker\":{\"color\":[0,1,2,3,4,5,6,7,8,9,10,11,12,13,14,15,16,17,18,19,20,21,22,23,24,25,26,27,28,29,30,31,32,33,34,35,36,37,38,39,40,41,42,43,44,45,46,47,48,49,50,51,52,53,54,55,56,57,58,59,60,61,62,63,64,65,66,67,68,69,70,71,72,73,74,75,76,77,78,79,80,81,82,83,84,85,86,87,88,89,90,91,92,93,94,95,96,97,98,99,100,101,102,103,104,105,106,107,108,109,110,111,112,113,114,115,116,117,118,119,120,121,122,123,124,125,126,127,128,129,130,131,132,133,134,135,136,137,138,139,140,141,142,143,144,145,146,147,148,149,150,151,152,153,154,155,156,157,158,159,160,161,162,163,164,165,166,167,168,169,170,171,172,173,174,175,176,177,178,179,180,181,182,183,184,185,186,187,188,189,190,191,192,193,194,195,196,197,198,199,200,201,202,203,204,205,206,207,208,209,210,211,212,213,214,215,216,217,218,219,220,221,222,223,224,225,226,227,228,229,230,231,232,233,234,235,236,237,238,239,240,241,242,243,244,245,246,247,248,249,250,251,252,253,254,255,256,257,258,259,260,261,262,263,264,265,266,267,268,269,270,271,272,273,274,275,276,277,278,279,280,281,282,283,284,285,286,287,288,289,290,291,292,293,294,295,296,297,298,299,300,301,302,303,304,305,306,307,308,309,310,311,312,313,314,315,316,317,318,319,320,321,322,323,324,325,326,327,328,329,330,331,332,333,334,335,336,337,338,339,340,341,342,343,344,345,346,347,348,349,350,351,352,353,354,355,356,357,358,359,360,361,362,363,364,365,366,367,368,369,370,371,372,373,374,375,376,377,378,379,380,381,382,383,384,385,386,387,388,389,390,391,392,393,394,395,396,397,398,399,400,401,402,403,404,405,406,407,408,409,410,411,412,413,414,415,416,417,418,419,420,421,422,423,424,425,426,427,428,429,430,431,432,433,434,435,436,437,438,439,440,441,442,443,444,445,446,447,448,449,450,451,452,453,454,455,456,457,458,459,460,461,462,463,464,465,466,467,468,469,470,471,472,473,474,475,476,477,478,479,480,481,482,483,484,485,486,487,488,489,490,491,492,493,494,495,496,497,498,499],\"colorbar\":{\"title\":{\"text\":\"Trial\"},\"x\":1.0,\"xpad\":40},\"colorscale\":[[0.0,\"rgb(247,251,255)\"],[0.125,\"rgb(222,235,247)\"],[0.25,\"rgb(198,219,239)\"],[0.375,\"rgb(158,202,225)\"],[0.5,\"rgb(107,174,214)\"],[0.625,\"rgb(66,146,198)\"],[0.75,\"rgb(33,113,181)\"],[0.875,\"rgb(8,81,156)\"],[1.0,\"rgb(8,48,107)\"]],\"line\":{\"color\":\"Grey\",\"width\":0.5},\"showscale\":false},\"mode\":\"markers\",\"name\":\"Feasible Trial\",\"showlegend\":false,\"x\":[\"BM25\",\"none\",\"TF-IDF\",\"TF-IDF\",\"none\",\"none\",\"none\",\"BM25\",\"none\",\"none\",\"TF-IDF\",\"TF-IDF\",\"TF-IDF\",\"TF-IDF\",\"TF-IDF\",\"TF-IDF\",\"TF-IDF\",\"BM25\",\"TF-IDF\",\"TF-IDF\",\"TF-IDF\",\"TF-IDF\",\"TF-IDF\",\"TF-IDF\",\"TF-IDF\",\"BM25\",\"TF-IDF\",\"TF-IDF\",\"TF-IDF\",\"BM25\",\"TF-IDF\",\"TF-IDF\",\"TF-IDF\",\"TF-IDF\",\"TF-IDF\",\"TF-IDF\",\"BM25\",\"TF-IDF\",\"none\",\"TF-IDF\",\"none\",\"TF-IDF\",\"TF-IDF\",\"TF-IDF\",\"TF-IDF\",\"TF-IDF\",\"TF-IDF\",\"none\",\"TF-IDF\",\"BM25\",\"BM25\",\"BM25\",\"BM25\",\"BM25\",\"BM25\",\"BM25\",\"BM25\",\"BM25\",\"BM25\",\"BM25\",\"BM25\",\"BM25\",\"BM25\",\"BM25\",\"BM25\",\"BM25\",\"BM25\",\"BM25\",\"BM25\",\"BM25\",\"BM25\",\"BM25\",\"BM25\",\"BM25\",\"BM25\",\"BM25\",\"BM25\",\"BM25\",\"BM25\",\"BM25\",\"BM25\",\"BM25\",\"BM25\",\"BM25\",\"none\",\"BM25\",\"BM25\",\"BM25\",\"BM25\",\"BM25\",\"none\",\"BM25\",\"BM25\",\"BM25\",\"BM25\",\"BM25\",\"BM25\",\"BM25\",\"BM25\",\"BM25\",\"BM25\",\"BM25\",\"BM25\",\"BM25\",\"BM25\",\"BM25\",\"BM25\",\"none\",\"BM25\",\"BM25\",\"BM25\",\"BM25\",\"BM25\",\"BM25\",\"BM25\",\"BM25\",\"BM25\",\"BM25\",\"BM25\",\"BM25\",\"BM25\",\"BM25\",\"BM25\",\"BM25\",\"BM25\",\"BM25\",\"BM25\",\"none\",\"BM25\",\"BM25\",\"BM25\",\"BM25\",\"BM25\",\"BM25\",\"BM25\",\"BM25\",\"BM25\",\"BM25\",\"TF-IDF\",\"BM25\",\"BM25\",\"BM25\",\"BM25\",\"BM25\",\"BM25\",\"BM25\",\"BM25\",\"BM25\",\"BM25\",\"TF-IDF\",\"BM25\",\"BM25\",\"BM25\",\"BM25\",\"BM25\",\"BM25\",\"none\",\"BM25\",\"BM25\",\"BM25\",\"BM25\",\"BM25\",\"BM25\",\"BM25\",\"BM25\",\"BM25\",\"BM25\",\"TF-IDF\",\"BM25\",\"BM25\",\"BM25\",\"BM25\",\"BM25\",\"BM25\",\"BM25\",\"BM25\",\"BM25\",\"BM25\",\"BM25\",\"BM25\",\"BM25\",\"BM25\",\"BM25\",\"BM25\",\"BM25\",\"BM25\",\"TF-IDF\",\"BM25\",\"BM25\",\"none\",\"BM25\",\"BM25\",\"BM25\",\"BM25\",\"BM25\",\"BM25\",\"BM25\",\"BM25\",\"BM25\",\"BM25\",\"BM25\",\"BM25\",\"BM25\",\"BM25\",\"BM25\",\"BM25\",\"BM25\",\"BM25\",\"BM25\",\"BM25\",\"BM25\",\"BM25\",\"BM25\",\"BM25\",\"BM25\",\"BM25\",\"BM25\",\"BM25\",\"BM25\",\"BM25\",\"BM25\",\"BM25\",\"BM25\",\"BM25\",\"BM25\",\"BM25\",\"BM25\",\"BM25\",\"BM25\",\"BM25\",\"BM25\",\"BM25\",\"BM25\",\"BM25\",\"BM25\",\"BM25\",\"BM25\",\"BM25\",\"none\",\"BM25\",\"BM25\",\"BM25\",\"BM25\",\"BM25\",\"BM25\",\"BM25\",\"BM25\",\"BM25\",\"BM25\",\"BM25\",\"BM25\",\"BM25\",\"BM25\",\"BM25\",\"BM25\",\"BM25\",\"BM25\",\"BM25\",\"BM25\",\"BM25\",\"BM25\",\"BM25\",\"BM25\",\"BM25\",\"none\",\"BM25\",\"BM25\",\"BM25\",\"BM25\",\"BM25\",\"BM25\",\"BM25\",\"BM25\",\"BM25\",\"BM25\",\"BM25\",\"BM25\",\"BM25\",\"BM25\",\"BM25\",\"BM25\",\"BM25\",\"BM25\",\"BM25\",\"BM25\",\"BM25\",\"BM25\",\"BM25\",\"none\",\"BM25\",\"BM25\",\"BM25\",\"BM25\",\"BM25\",\"BM25\",\"BM25\",\"BM25\",\"BM25\",\"BM25\",\"BM25\",\"BM25\",\"BM25\",\"BM25\",\"TF-IDF\",\"BM25\",\"BM25\",\"BM25\",\"BM25\",\"BM25\",\"none\",\"BM25\",\"BM25\",\"BM25\",\"BM25\",\"BM25\",\"BM25\",\"BM25\",\"BM25\",\"BM25\",\"BM25\",\"BM25\",\"BM25\",\"BM25\",\"BM25\",\"TF-IDF\",\"BM25\",\"BM25\",\"BM25\",\"BM25\",\"BM25\",\"BM25\",\"none\",\"BM25\",\"BM25\",\"BM25\",\"BM25\",\"BM25\",\"BM25\",\"BM25\",\"BM25\",\"BM25\",\"BM25\",\"BM25\",\"BM25\",\"BM25\",\"BM25\",\"TF-IDF\",\"BM25\",\"BM25\",\"BM25\",\"BM25\",\"BM25\",\"BM25\",\"none\",\"BM25\",\"BM25\",\"BM25\",\"BM25\",\"BM25\",\"BM25\",\"BM25\",\"BM25\",\"BM25\",\"BM25\",\"BM25\",\"BM25\",\"BM25\",\"BM25\",\"BM25\",\"TF-IDF\",\"BM25\",\"BM25\",\"BM25\",\"BM25\",\"BM25\",\"BM25\",\"BM25\",\"none\",\"BM25\",\"BM25\",\"BM25\",\"BM25\",\"BM25\",\"BM25\",\"BM25\",\"BM25\",\"BM25\",\"BM25\",\"BM25\",\"BM25\",\"BM25\",\"BM25\",\"TF-IDF\",\"BM25\",\"BM25\",\"BM25\",\"BM25\",\"BM25\",\"BM25\",\"BM25\",\"BM25\",\"BM25\",\"BM25\",\"none\",\"BM25\",\"BM25\",\"BM25\",\"BM25\",\"BM25\",\"BM25\",\"BM25\",\"BM25\",\"BM25\",\"BM25\",\"BM25\",\"BM25\",\"TF-IDF\",\"BM25\",\"BM25\",\"BM25\",\"BM25\",\"BM25\",\"BM25\",\"BM25\",\"BM25\",\"BM25\",\"none\",\"BM25\",\"BM25\",\"BM25\",\"BM25\",\"BM25\",\"BM25\",\"BM25\",\"BM25\",\"BM25\",\"BM25\",\"BM25\",\"BM25\",\"BM25\",\"TF-IDF\",\"BM25\",\"BM25\",\"BM25\",\"BM25\",\"BM25\",\"BM25\",\"none\",\"BM25\",\"BM25\",\"BM25\",\"BM25\",\"BM25\",\"BM25\",\"BM25\",\"BM25\",\"BM25\",\"BM25\",\"BM25\",\"BM25\",\"TF-IDF\",\"BM25\",\"BM25\",\"BM25\",\"BM25\",\"BM25\",\"BM25\",\"BM25\",\"BM25\",\"none\",\"BM25\",\"BM25\",\"BM25\",\"BM25\",\"BM25\",\"BM25\",\"BM25\",\"BM25\",\"BM25\",\"BM25\",\"BM25\",\"BM25\",\"BM25\",\"BM25\",\"TF-IDF\",\"BM25\",\"BM25\",\"BM25\",\"BM25\",\"BM25\",\"BM25\",\"none\",\"BM25\",\"BM25\",\"BM25\",\"BM25\",\"BM25\",\"BM25\",\"BM25\",\"BM25\"],\"y\":[0.0038837963241671373,0.013134751180052855,0.016654051197667115,0.016861733746268263,0.009323988789222838,0.011212778457827238,0.005327726829833852,0.007688475062263625,0.004351864115033083,0.011182364653498549,0.017454529238768716,0.017524767166781596,0.0182912750809927,0.017222222222222347,0.01170083411929207,0.015051444045334034,0.013016715830875563,0.011175644430174853,0.012658296488048205,0.01734744936978407,0.006340968835911959,0.017428027389258048,0.01795399857747102,0.01826575428598194,0.018280307337618727,0.017638104602706497,0.011135151405695348,0.015294961839209979,0.012946704214298317,0.017061810892826722,0.014764806676522217,0.01834489416874586,0.01831893189921009,0.01839072725124141,0.016074999386841163,0.018365154059001534,0.016893070633694524,0.017678815019944498,0.009467206023674827,0.017612841334501854,0.010871702597787993,0.014114670778177288,0.01770920541274532,0.012321277511332634,0.01837229791949558,0.01861113006330036,0.018405992682225293,0.01130873004724699,0.017575405186656935,0.018385642490362297,0.017686404814302083,0.018350187403706218,0.01790225018227555,0.01843146665418055,0.018492231832097,0.018043722700486386,0.018491471514859657,0.015735290314093812,0.01819645504875179,0.017838222998147208,0.011756919221310622,0.01864415481040011,0.01608367057081781,0.01822740954789002,0.018599975027703705,0.018544316907359477,0.017913999424745294,0.01808255239165488,0.018556368270021866,0.012790848099318767,0.012000451508037179,0.018643353244280396,0.018572353884195387,0.00028209999175022335,0.016786845842893215,0.011863480692178886,0.018597801100118855,0.018561817581834436,0.013111353030232475,0.017962660842770404,0.01762487597464428,0.018568856647870582,0.01851598895867753,0.017091348437113456,0.011694945562623921,0.01779364633431222,0.012935868021414117,0.016479278568195758,0.009249853399242567,0.0164699117273919,0.011801514837334768,0.018497799316383404,0.018526941094366287,0.01818947729862189,0.018388248973794773,0.012200294539317171,0.016114792295154848,0.0180755947085488,0.008737703931130087,0.01831197310126939,0.018392340416992833,0.01866762765414265,0.018537161898518877,0.01858631161412454,0.018066302561667167,0.018411592496716908,0.01741427032956759,0.012528450580494732,0.011985917408589506,0.018295874888795288,0.017848641128034436,0.01855318764674016,0.018490441407634856,0.01848841017888642,0.012184654523887927,0.00028209999175022335,0.018466016495093707,0.01783525976762393,0.012214620164683748,0.01841975643092376,0.009224207742749827,0.018616154623107846,0.018411534525314653,0.01863493512777115,0.01855774397599095,0.016178671206273566,0.01831127855927696,0.01215747262523529,0.018659579662740237,0.018265978367748365,0.018623644082346208,0.01865487060114115,0.018365479590722003,0.018649567332668874,0.00028209999175022335,0.01835436357433832,0.010327221809733644,0.01837783864775018,0.013281635105697858,0.018480289723231177,0.018080449813488254,0.01856244969308607,0.016159471523778453,0.018414283707583384,0.018543164168322183,0.016742795381017205,0.01832266548048263,0.018226100732000563,0.011808745654932213,0.018561599074241295,0.018498519499573034,0.00028209999175022335,0.018670744731848876,0.01835389868828561,0.018532432769895944,0.015098720838712732,0.011624840299935437,0.01865678811675443,0.00028209999175022335,0.01638094457710995,0.018377990265263804,0.018553757327250824,0.01852010269856885,0.018317256302717827,0.01856750323859471,0.018411952588311725,0.01822639393351579,0.018153838264247057,0.01219404366138496,0.01862699861983472,0.018548359297832592,0.018750962659727904,0.016167093648341173,0.018640911756377387,0.018377471867147388,0.01849996209562164,0.01323840850663476,0.01836032905459797,0.0186188346856278,0.015396474223908198,0.00028209999175022335,0.017284805695467476,0.018611973993137125,0.018603579288155807,0.01851475818121422,0.018391288013074797,0.01856378415017273,0.01837763017366901,0.013374905517763077,0.012187768257090108,0.01831874795149135,0.018639060016009023,0.01876248782043132,0.018648477024372518,0.016176510656704675,0.018624428925946013,0.0186478761284914,0.01850662211787359,0.016176697948927364,0.016942010760384284,0.018636171479407916,0.018658140411195612,0.018356889789675312,0.00028209999175022335,0.018550078372876557,0.018376784014163,0.018626162493840578,0.01787389770723117,0.018641027699181963,0.018402174373518685,0.018528654595237,0.016175827263058787,0.01864184041364829,0.018569428558050657,0.00028209999175022335,0.018446079906889064,0.018542597832315485,0.012584413050700818,0.018473646423498982,0.018584989420219102,0.00028209999175022335,0.018595293836971078,0.018579072992684506,0.018598002885192113,0.018432104339605456,0.017542481889511047,0.016660149343251062,0.0127996296519267,0.00028209999175022335,0.01838026564280258,0.01856644414566882,0.018486798127969696,0.018588942623919462,0.018649694423820043,0.0186478761284914,0.018625731052827547,0.00028209999175022335,0.018411410778667467,0.012581624849218945,0.01835861555372735,0.008426679554155402,0.018606010742546787,0.01861883245595846,0.00028209999175022335,0.01862011005647757,0.01865373792912776,0.017212466304122594,0.0183746390722793,0.018712538768375316,0.01863608786680852,0.018436339596474494,0.01857665603114407,0.01833619622873734,0.017910767519069355,0.00028209999175022335,0.018373106174623333,0.018678044669195155,0.01834788527013566,0.012928123265038945,0.01840174293250579,0.00028209999175022335,0.018660103635029898,0.01837766250387413,0.012913523390346326,0.011995219588983082,0.018299161421369642,0.018641849332325558,0.01860468631897204,0.018609613888164254,0.012405008283221865,0.018502380171996718,0.00028209999175022335,0.01843972869383748,0.016503457102277366,0.01853790549323633,0.01862913352820647,0.01288747527854181,0.01843768520190774,0.018659479327620944,0.018524378089485604,0.00028209999175022335,0.018299047708234477,0.016303280735434383,0.018370174159470443,0.01852814957513652,0.00028209999175022335,0.01863089496696751,0.018353497347808383,0.01212024718114088,0.013091024020227937,0.018318473702165276,0.009645277448901746,0.018220631353164183,0.016555250090859314,0.018585362889829832,0.018510835078049633,0.01834998115929437,0.00028209999175022335,0.018085600349612298,0.018408603624996404,0.00028209999175022335,0.01856356787224888,0.018411837760341835,0.01852577943665178,0.0186443599399773,0.018398826525038107,0.009852861892052986,0.018414200094984026,0.01871702597787728,0.00028209999175022335,0.01701404691670196,0.01836784304019872,0.01826781004109287,0.018628220478620866,0.01859508759255921,0.014023690236501463,0.00028209999175022335,0.01841776422138837,0.018579148801441278,0.012600553626891942,0.01811382907800952,0.01832711813011013,0.018630752268131115,0.018403049518725914,0.00028209999175022335,0.018416768674038082,0.012675508420346504,0.01840369612282812,0.018381840904175554,0.016397320383414158,0.0068355262131073345,0.012543790705400808,0.018428660615344174,0.018306732263538038,0.018452280617261715,0.017405755222443045,0.00028209999175022335,0.018384717177595412,0.018625500282053165,0.00028209999175022335,0.018397764087608227,0.01821256217990319,0.018637998693413784,0.01858673302162563,0.013249184498447454,0.01834030327962067,0.01605746526732649,0.018481513811686685,0.010619864792852821,0.01840084660544002,0.018407825470404524,0.00028209999175022335,0.018594210217682636,0.012271270487874263,0.018441043083900287,0.01860253245841109,0.00028209999175022335,0.01843972869383748,0.017891004845071452,0.01832839015645598,0.018693229832083623,0.018285048729422954,0.018359230942458976,0.018207767276035347,0.018516868563223418,0.018682314485938625,0.01836465684274374,0.01809317119178064,0.01870737039489673,0.018374323574070782,0.00028209999175022335,0.018379341444870394,0.018628779010784906,0.01839026793936197,0.012936358548664014,0.00028209999175022335,0.01831945141216114,0.012375365944477103,0.01827198844139431,0.01861645785813508,0.017661944227051772,0.018403049518725914,0.012683011257600772,0.015249018388083306,0.018655930808901714,0.018553314737891236,0.01867696996858397,0.018663172774845728,0.016702139590677477,0.00028209999175022335,0.018645747909127625,0.018667668903024973,0.018318483735677165,0.018659396829856185,0.016152695558721824,0.0163111748796538,0.0178213499755852,0.018478446901540067,0.00028209999175022335,0.018717339246416418,0.017309640867163134,0.01812429068644832,0.012223166487178626,0.012251838919770129,0.018296033195316867,0.017524376974650986,0.012432231430756863,0.018650588521216472,0.018309268512387004,0.018704426116562662,0.018398629199303494,0.018533440580427545,0.018368441706410592,0.01859016671237492,0.0120616548159746,0.018664924180094904,0.018240542300171504,0.018561216685953327,0.018383918955979718,0.01780178797182591,0.018552949072123112,0.01711525718120761,0.01828749133216059,0.0183976771305049,0.01754108388684882,0.00028209999175022335,0.01205005161684506,0.018598193521918792,0.018202404921326173,0.018626292929495622,0.018548755064136467,0.011952188085985322,0.01862609225925702,0.01837735257983892,0.018600732000437017,0.00028209999175022335,0.010435670695679357,0.00028209999175022335,0.018383729434087694,0.01795151361101646,0.01847377462948471,0.018305869381512054,0.01851892654800374,0.016695529735985017,0.018361466185950047,0.012813136988653565,0.01858961598405348,0.009254317197216646,0.018408258026252174,0.018648037779516975,0.00028209999175022335,0.018362757164485027,0.018401659319906345,0.015472061128614345,0.015470067804244324,0.017212729405102028,0.00028209999175022335,0.01834588414192298,0.018409925818901853,0.01303585308262971,0.016411010553025157,0.01848036664682263,0.018343331170554193,0.012214707121787119,0.018403109719797587,0.018616852509604292,0.018588938164580886,0.018402828781463442,0.016166576365059453,0.011596966088959666,0.018573585776493512,0.01865408687237598,0.016915534552070715,0.00028209999175022335,0.018615192520797172,0.00028209999175022335,0.01842562937990671,0.01694372426125502,0.018519844056927963,0.018618240478754593,0.018407113091057494,0.018617039801827075,0.018345388040499743,0.018238098582599314,0.00028209999175022335,0.018384338133811448,0.018546810792491403,0.012141586231346391,0.01856297143570637,0.018358700281161374,0.0186423777639539,0.012579417476594364,0.018354711402751907,0.011890004838382748,0.01858459699841921,0.018614101097666234,0.018290326356698087,0.01840333380156394,0.018601556978084605,0.018516970013177404],\"type\":\"scatter\",\"xaxis\":\"x2\",\"yaxis\":\"y2\"},{\"marker\":{\"color\":[0,6,7,8,41,57,78,98,120,155,197,240,276,306,330,358,389,419,447,477],\"colorbar\":{\"title\":{\"text\":\"Trial\"},\"x\":1.0,\"xpad\":40},\"colorscale\":[[0.0,\"rgb(247,251,255)\"],[0.125,\"rgb(222,235,247)\"],[0.25,\"rgb(198,219,239)\"],[0.375,\"rgb(158,202,225)\"],[0.5,\"rgb(107,174,214)\"],[0.625,\"rgb(66,146,198)\"],[0.75,\"rgb(33,113,181)\"],[0.875,\"rgb(8,81,156)\"],[1.0,\"rgb(8,48,107)\"]],\"line\":{\"color\":\"Grey\",\"width\":0.5},\"showscale\":false},\"mode\":\"markers\",\"name\":\"Feasible Trial\",\"showlegend\":false,\"x\":[false,false,true,false,true,true,true,false,false,true,true,false,true,false,false,true,false,true,false,true],\"y\":[0.0038837963241671373,0.005327726829833852,0.007688475062263625,0.004351864115033083,0.014114670778177288,0.015735290314093812,0.013111353030232475,0.008737703931130087,0.009224207742749827,0.015098720838712732,0.01850662211787359,0.008426679554155402,0.01288747527854181,0.009852861892052986,0.0068355262131073345,0.017891004845071452,0.00028209999175022335,0.01780178797182591,0.009254317197216646,0.01694372426125502],\"type\":\"scatter\",\"xaxis\":\"x3\",\"yaxis\":\"y3\"},{\"marker\":{\"color\":[0,6,7,8,41,57,78,98,120,155,197,240,276,306,330,358,389,419,447,477],\"colorbar\":{\"title\":{\"text\":\"Trial\"},\"x\":1.0,\"xpad\":40},\"colorscale\":[[0.0,\"rgb(247,251,255)\"],[0.125,\"rgb(222,235,247)\"],[0.25,\"rgb(198,219,239)\"],[0.375,\"rgb(158,202,225)\"],[0.5,\"rgb(107,174,214)\"],[0.625,\"rgb(66,146,198)\"],[0.75,\"rgb(33,113,181)\"],[0.875,\"rgb(8,81,156)\"],[1.0,\"rgb(8,48,107)\"]],\"line\":{\"color\":\"Grey\",\"width\":0.5},\"showscale\":false},\"mode\":\"markers\",\"name\":\"Feasible Trial\",\"showlegend\":false,\"x\":[false,false,false,true,true,true,true,false,true,false,true,false,true,false,true,false,false,true,true,false],\"y\":[0.0038837963241671373,0.005327726829833852,0.007688475062263625,0.004351864115033083,0.014114670778177288,0.015735290314093812,0.013111353030232475,0.008737703931130087,0.009224207742749827,0.015098720838712732,0.01850662211787359,0.008426679554155402,0.01288747527854181,0.009852861892052986,0.0068355262131073345,0.017891004845071452,0.00028209999175022335,0.01780178797182591,0.009254317197216646,0.01694372426125502],\"type\":\"scatter\",\"xaxis\":\"x4\",\"yaxis\":\"y4\"},{\"marker\":{\"color\":[0,1,2,3,4,5,6,7,8,9,10,11,12,13,14,15,16,17,18,19,20,21,22,23,24,25,26,27,28,29,30,31,32,33,34,35,36,37,38,39,40,41,42,43,44,45,46,47,48,49,50,51,52,53,54,55,56,57,58,59,60,61,62,63,64,65,66,67,68,69,70,71,72,73,74,75,76,77,78,79,80,81,82,83,84,85,86,87,88,89,90,91,92,93,94,95,96,97,98,99,100,101,102,103,104,105,106,107,108,109,110,111,112,113,114,115,116,117,118,119,120,121,122,123,124,125,126,127,128,129,130,131,132,133,134,135,136,137,138,139,140,141,142,143,144,145,146,147,148,149,150,151,152,153,154,155,156,157,158,159,160,161,162,163,164,165,166,167,168,169,170,171,172,173,174,175,176,177,178,179,180,181,182,183,184,185,186,187,188,189,190,191,192,193,194,195,196,197,198,199,200,201,202,203,204,205,206,207,208,209,210,211,212,213,214,215,216,217,218,219,220,221,222,223,224,225,226,227,228,229,230,231,232,233,234,235,236,237,238,239,240,241,242,243,244,245,246,247,248,249,250,251,252,253,254,255,256,257,258,259,260,261,262,263,264,265,266,267,268,269,270,271,272,273,274,275,276,277,278,279,280,281,282,283,284,285,286,287,288,289,290,291,292,293,294,295,296,297,298,299,300,301,302,303,304,305,306,307,308,309,310,311,312,313,314,315,316,317,318,319,320,321,322,323,324,325,326,327,328,329,330,331,332,333,334,335,336,337,338,339,340,341,342,343,344,345,346,347,348,349,350,351,352,353,354,355,356,357,358,359,360,361,362,363,364,365,366,367,368,369,370,371,372,373,374,375,376,377,378,379,380,381,382,383,384,385,386,387,388,389,390,391,392,393,394,395,396,397,398,399,400,401,402,403,404,405,406,407,408,409,410,411,412,413,414,415,416,417,418,419,420,421,422,423,424,425,426,427,428,429,430,431,432,433,434,435,436,437,438,439,440,441,442,443,444,445,446,447,448,449,450,451,452,453,454,455,456,457,458,459,460,461,462,463,464,465,466,467,468,469,470,471,472,473,474,475,476,477,478,479,480,481,482,483,484,485,486,487,488,489,490,491,492,493,494,495,496,497,498,499],\"colorbar\":{\"title\":{\"text\":\"Trial\"},\"x\":1.0,\"xpad\":40},\"colorscale\":[[0.0,\"rgb(247,251,255)\"],[0.125,\"rgb(222,235,247)\"],[0.25,\"rgb(198,219,239)\"],[0.375,\"rgb(158,202,225)\"],[0.5,\"rgb(107,174,214)\"],[0.625,\"rgb(66,146,198)\"],[0.75,\"rgb(33,113,181)\"],[0.875,\"rgb(8,81,156)\"],[1.0,\"rgb(8,48,107)\"]],\"line\":{\"color\":\"Grey\",\"width\":0.5},\"showscale\":false},\"mode\":\"markers\",\"name\":\"Feasible Trial\",\"showlegend\":false,\"x\":[694,858,592,721,809,157,823,885,91,620,409,375,334,341,264,472,239,360,504,978,48,437,321,257,237,211,127,179,29,531,292,310,261,301,420,592,671,565,731,647,119,316,473,197,587,592,735,746,601,808,853,796,694,919,915,776,938,952,890,935,899,993,844,997,928,931,929,960,908,872,996,911,836,836,890,984,964,965,971,769,870,959,954,906,971,872,957,830,904,992,857,929,941,964,919,804,884,981,945,998,915,951,972,890,850,817,382,896,868,783,514,938,937,955,917,878,636,699,897,975,948,921,915,980,998,986,969,558,997,953,971,975,972,996,920,987,999,933,1000,945,889,974,954,959,933,906,976,474,1000,857,927,973,978,948,980,955,886,926,904,927,938,965,986,913,957,836,1000,940,875,978,977,954,974,920,924,952,1000,909,939,75,979,938,958,961,960,983,943,923,962,1000,943,965,979,978,979,977,981,984,985,970,999,985,999,981,964,999,948,982,962,958,944,978,970,1000,960,982,947,1000,970,931,956,978,966,983,951,968,931,986,999,942,968,945,919,969,981,983,999,956,980,962,984,981,1000,968,948,968,928,955,981,961,968,987,999,934,971,912,955,952,932,962,945,903,922,896,916,1000,896,900,888,937,911,947,970,1000,933,968,905,982,952,924,949,951,865,930,901,962,979,945,967,919,984,885,428,151,941,963,983,931,359,959,983,911,950,968,1000,997,999,985,939,976,947,964,935,1000,657,236,980,953,982,938,963,897,999,922,972,552,955,984,935,961,873,983,611,946,920,970,983,999,905,948,961,1000,931,969,395,947,19,722,980,458,917,890,965,935,982,952,999,970,937,749,908,878,903,913,867,850,894,858,837,924,820,854,775,983,1000,942,789,846,951,840,809,922,877,288,979,982,968,961,954,958,934,968,946,961,926,957,937,909,966,961,936,917,960,947,968,929,900,969,950,914,910,875,923,898,931,882,840,864,890,875,913,882,853,905,892,941,927,823,690,911,951,935,884,952,911,974,940,964,925,858,978,893,954,981,924,944,964,983,945,907,877,830,964,195,95,924,533,985,953,936,968,627,490,893,985,916,1000,946,962,933,867,974,999,980,911,957,974,935,891,952,986,849,921,966,1000,940,972,904,949,803,982,925,960,938,981,888,957,913,863,974],\"y\":[0.0038837963241671373,0.013134751180052855,0.016654051197667115,0.016861733746268263,0.009323988789222838,0.011212778457827238,0.005327726829833852,0.007688475062263625,0.004351864115033083,0.011182364653498549,0.017454529238768716,0.017524767166781596,0.0182912750809927,0.017222222222222347,0.01170083411929207,0.015051444045334034,0.013016715830875563,0.011175644430174853,0.012658296488048205,0.01734744936978407,0.006340968835911959,0.017428027389258048,0.01795399857747102,0.01826575428598194,0.018280307337618727,0.017638104602706497,0.011135151405695348,0.015294961839209979,0.012946704214298317,0.017061810892826722,0.014764806676522217,0.01834489416874586,0.01831893189921009,0.01839072725124141,0.016074999386841163,0.018365154059001534,0.016893070633694524,0.017678815019944498,0.009467206023674827,0.017612841334501854,0.010871702597787993,0.014114670778177288,0.01770920541274532,0.012321277511332634,0.01837229791949558,0.01861113006330036,0.018405992682225293,0.01130873004724699,0.017575405186656935,0.018385642490362297,0.017686404814302083,0.018350187403706218,0.01790225018227555,0.01843146665418055,0.018492231832097,0.018043722700486386,0.018491471514859657,0.015735290314093812,0.01819645504875179,0.017838222998147208,0.011756919221310622,0.01864415481040011,0.01608367057081781,0.01822740954789002,0.018599975027703705,0.018544316907359477,0.017913999424745294,0.01808255239165488,0.018556368270021866,0.012790848099318767,0.012000451508037179,0.018643353244280396,0.018572353884195387,0.00028209999175022335,0.016786845842893215,0.011863480692178886,0.018597801100118855,0.018561817581834436,0.013111353030232475,0.017962660842770404,0.01762487597464428,0.018568856647870582,0.01851598895867753,0.017091348437113456,0.011694945562623921,0.01779364633431222,0.012935868021414117,0.016479278568195758,0.009249853399242567,0.0164699117273919,0.011801514837334768,0.018497799316383404,0.018526941094366287,0.01818947729862189,0.018388248973794773,0.012200294539317171,0.016114792295154848,0.0180755947085488,0.008737703931130087,0.01831197310126939,0.018392340416992833,0.01866762765414265,0.018537161898518877,0.01858631161412454,0.018066302561667167,0.018411592496716908,0.01741427032956759,0.012528450580494732,0.011985917408589506,0.018295874888795288,0.017848641128034436,0.01855318764674016,0.018490441407634856,0.01848841017888642,0.012184654523887927,0.00028209999175022335,0.018466016495093707,0.01783525976762393,0.012214620164683748,0.01841975643092376,0.009224207742749827,0.018616154623107846,0.018411534525314653,0.01863493512777115,0.01855774397599095,0.016178671206273566,0.01831127855927696,0.01215747262523529,0.018659579662740237,0.018265978367748365,0.018623644082346208,0.01865487060114115,0.018365479590722003,0.018649567332668874,0.00028209999175022335,0.01835436357433832,0.010327221809733644,0.01837783864775018,0.013281635105697858,0.018480289723231177,0.018080449813488254,0.01856244969308607,0.016159471523778453,0.018414283707583384,0.018543164168322183,0.016742795381017205,0.01832266548048263,0.018226100732000563,0.011808745654932213,0.018561599074241295,0.018498519499573034,0.00028209999175022335,0.018670744731848876,0.01835389868828561,0.018532432769895944,0.015098720838712732,0.011624840299935437,0.01865678811675443,0.00028209999175022335,0.01638094457710995,0.018377990265263804,0.018553757327250824,0.01852010269856885,0.018317256302717827,0.01856750323859471,0.018411952588311725,0.01822639393351579,0.018153838264247057,0.01219404366138496,0.01862699861983472,0.018548359297832592,0.018750962659727904,0.016167093648341173,0.018640911756377387,0.018377471867147388,0.01849996209562164,0.01323840850663476,0.01836032905459797,0.0186188346856278,0.015396474223908198,0.00028209999175022335,0.017284805695467476,0.018611973993137125,0.018603579288155807,0.01851475818121422,0.018391288013074797,0.01856378415017273,0.01837763017366901,0.013374905517763077,0.012187768257090108,0.01831874795149135,0.018639060016009023,0.01876248782043132,0.018648477024372518,0.016176510656704675,0.018624428925946013,0.0186478761284914,0.01850662211787359,0.016176697948927364,0.016942010760384284,0.018636171479407916,0.018658140411195612,0.018356889789675312,0.00028209999175022335,0.018550078372876557,0.018376784014163,0.018626162493840578,0.01787389770723117,0.018641027699181963,0.018402174373518685,0.018528654595237,0.016175827263058787,0.01864184041364829,0.018569428558050657,0.00028209999175022335,0.018446079906889064,0.018542597832315485,0.012584413050700818,0.018473646423498982,0.018584989420219102,0.00028209999175022335,0.018595293836971078,0.018579072992684506,0.018598002885192113,0.018432104339605456,0.017542481889511047,0.016660149343251062,0.0127996296519267,0.00028209999175022335,0.01838026564280258,0.01856644414566882,0.018486798127969696,0.018588942623919462,0.018649694423820043,0.0186478761284914,0.018625731052827547,0.00028209999175022335,0.018411410778667467,0.012581624849218945,0.01835861555372735,0.008426679554155402,0.018606010742546787,0.01861883245595846,0.00028209999175022335,0.01862011005647757,0.01865373792912776,0.017212466304122594,0.0183746390722793,0.018712538768375316,0.01863608786680852,0.018436339596474494,0.01857665603114407,0.01833619622873734,0.017910767519069355,0.00028209999175022335,0.018373106174623333,0.018678044669195155,0.01834788527013566,0.012928123265038945,0.01840174293250579,0.00028209999175022335,0.018660103635029898,0.01837766250387413,0.012913523390346326,0.011995219588983082,0.018299161421369642,0.018641849332325558,0.01860468631897204,0.018609613888164254,0.012405008283221865,0.018502380171996718,0.00028209999175022335,0.01843972869383748,0.016503457102277366,0.01853790549323633,0.01862913352820647,0.01288747527854181,0.01843768520190774,0.018659479327620944,0.018524378089485604,0.00028209999175022335,0.018299047708234477,0.016303280735434383,0.018370174159470443,0.01852814957513652,0.00028209999175022335,0.01863089496696751,0.018353497347808383,0.01212024718114088,0.013091024020227937,0.018318473702165276,0.009645277448901746,0.018220631353164183,0.016555250090859314,0.018585362889829832,0.018510835078049633,0.01834998115929437,0.00028209999175022335,0.018085600349612298,0.018408603624996404,0.00028209999175022335,0.01856356787224888,0.018411837760341835,0.01852577943665178,0.0186443599399773,0.018398826525038107,0.009852861892052986,0.018414200094984026,0.01871702597787728,0.00028209999175022335,0.01701404691670196,0.01836784304019872,0.01826781004109287,0.018628220478620866,0.01859508759255921,0.014023690236501463,0.00028209999175022335,0.01841776422138837,0.018579148801441278,0.012600553626891942,0.01811382907800952,0.01832711813011013,0.018630752268131115,0.018403049518725914,0.00028209999175022335,0.018416768674038082,0.012675508420346504,0.01840369612282812,0.018381840904175554,0.016397320383414158,0.0068355262131073345,0.012543790705400808,0.018428660615344174,0.018306732263538038,0.018452280617261715,0.017405755222443045,0.00028209999175022335,0.018384717177595412,0.018625500282053165,0.00028209999175022335,0.018397764087608227,0.01821256217990319,0.018637998693413784,0.01858673302162563,0.013249184498447454,0.01834030327962067,0.01605746526732649,0.018481513811686685,0.010619864792852821,0.01840084660544002,0.018407825470404524,0.00028209999175022335,0.018594210217682636,0.012271270487874263,0.018441043083900287,0.01860253245841109,0.00028209999175022335,0.01843972869383748,0.017891004845071452,0.01832839015645598,0.018693229832083623,0.018285048729422954,0.018359230942458976,0.018207767276035347,0.018516868563223418,0.018682314485938625,0.01836465684274374,0.01809317119178064,0.01870737039489673,0.018374323574070782,0.00028209999175022335,0.018379341444870394,0.018628779010784906,0.01839026793936197,0.012936358548664014,0.00028209999175022335,0.01831945141216114,0.012375365944477103,0.01827198844139431,0.01861645785813508,0.017661944227051772,0.018403049518725914,0.012683011257600772,0.015249018388083306,0.018655930808901714,0.018553314737891236,0.01867696996858397,0.018663172774845728,0.016702139590677477,0.00028209999175022335,0.018645747909127625,0.018667668903024973,0.018318483735677165,0.018659396829856185,0.016152695558721824,0.0163111748796538,0.0178213499755852,0.018478446901540067,0.00028209999175022335,0.018717339246416418,0.017309640867163134,0.01812429068644832,0.012223166487178626,0.012251838919770129,0.018296033195316867,0.017524376974650986,0.012432231430756863,0.018650588521216472,0.018309268512387004,0.018704426116562662,0.018398629199303494,0.018533440580427545,0.018368441706410592,0.01859016671237492,0.0120616548159746,0.018664924180094904,0.018240542300171504,0.018561216685953327,0.018383918955979718,0.01780178797182591,0.018552949072123112,0.01711525718120761,0.01828749133216059,0.0183976771305049,0.01754108388684882,0.00028209999175022335,0.01205005161684506,0.018598193521918792,0.018202404921326173,0.018626292929495622,0.018548755064136467,0.011952188085985322,0.01862609225925702,0.01837735257983892,0.018600732000437017,0.00028209999175022335,0.010435670695679357,0.00028209999175022335,0.018383729434087694,0.01795151361101646,0.01847377462948471,0.018305869381512054,0.01851892654800374,0.016695529735985017,0.018361466185950047,0.012813136988653565,0.01858961598405348,0.009254317197216646,0.018408258026252174,0.018648037779516975,0.00028209999175022335,0.018362757164485027,0.018401659319906345,0.015472061128614345,0.015470067804244324,0.017212729405102028,0.00028209999175022335,0.01834588414192298,0.018409925818901853,0.01303585308262971,0.016411010553025157,0.01848036664682263,0.018343331170554193,0.012214707121787119,0.018403109719797587,0.018616852509604292,0.018588938164580886,0.018402828781463442,0.016166576365059453,0.011596966088959666,0.018573585776493512,0.01865408687237598,0.016915534552070715,0.00028209999175022335,0.018615192520797172,0.00028209999175022335,0.01842562937990671,0.01694372426125502,0.018519844056927963,0.018618240478754593,0.018407113091057494,0.018617039801827075,0.018345388040499743,0.018238098582599314,0.00028209999175022335,0.018384338133811448,0.018546810792491403,0.012141586231346391,0.01856297143570637,0.018358700281161374,0.0186423777639539,0.012579417476594364,0.018354711402751907,0.011890004838382748,0.01858459699841921,0.018614101097666234,0.018290326356698087,0.01840333380156394,0.018601556978084605,0.018516970013177404],\"type\":\"scatter\",\"xaxis\":\"x5\",\"yaxis\":\"y5\"},{\"marker\":{\"color\":[0,1,2,3,4,5,6,7,8,9,10,11,12,13,14,15,16,17,18,19,20,21,22,23,24,25,26,27,28,29,30,31,32,33,34,35,36,37,38,39,40,41,42,43,44,45,46,47,48,49,50,51,52,53,54,55,56,57,58,59,60,61,62,63,64,65,66,67,68,69,70,71,72,73,74,75,76,77,78,79,80,81,82,83,84,85,86,87,88,89,90,91,92,93,94,95,96,97,98,99,100,101,102,103,104,105,106,107,108,109,110,111,112,113,114,115,116,117,118,119,120,121,122,123,124,125,126,127,128,129,130,131,132,133,134,135,136,137,138,139,140,141,142,143,144,145,146,147,148,149,150,151,152,153,154,155,156,157,158,159,160,161,162,163,164,165,166,167,168,169,170,171,172,173,174,175,176,177,178,179,180,181,182,183,184,185,186,187,188,189,190,191,192,193,194,195,196,197,198,199,200,201,202,203,204,205,206,207,208,209,210,211,212,213,214,215,216,217,218,219,220,221,222,223,224,225,226,227,228,229,230,231,232,233,234,235,236,237,238,239,240,241,242,243,244,245,246,247,248,249,250,251,252,253,254,255,256,257,258,259,260,261,262,263,264,265,266,267,268,269,270,271,272,273,274,275,276,277,278,279,280,281,282,283,284,285,286,287,288,289,290,291,292,293,294,295,296,297,298,299,300,301,302,303,304,305,306,307,308,309,310,311,312,313,314,315,316,317,318,319,320,321,322,323,324,325,326,327,328,329,330,331,332,333,334,335,336,337,338,339,340,341,342,343,344,345,346,347,348,349,350,351,352,353,354,355,356,357,358,359,360,361,362,363,364,365,366,367,368,369,370,371,372,373,374,375,376,377,378,379,380,381,382,383,384,385,386,387,388,389,390,391,392,393,394,395,396,397,398,399,400,401,402,403,404,405,406,407,408,409,410,411,412,413,414,415,416,417,418,419,420,421,422,423,424,425,426,427,428,429,430,431,432,433,434,435,436,437,438,439,440,441,442,443,444,445,446,447,448,449,450,451,452,453,454,455,456,457,458,459,460,461,462,463,464,465,466,467,468,469,470,471,472,473,474,475,476,477,478,479,480,481,482,483,484,485,486,487,488,489,490,491,492,493,494,495,496,497,498,499],\"colorbar\":{\"title\":{\"text\":\"Trial\"},\"x\":1.0,\"xpad\":40},\"colorscale\":[[0.0,\"rgb(247,251,255)\"],[0.125,\"rgb(222,235,247)\"],[0.25,\"rgb(198,219,239)\"],[0.375,\"rgb(158,202,225)\"],[0.5,\"rgb(107,174,214)\"],[0.625,\"rgb(66,146,198)\"],[0.75,\"rgb(33,113,181)\"],[0.875,\"rgb(8,81,156)\"],[1.0,\"rgb(8,48,107)\"]],\"line\":{\"color\":\"Grey\",\"width\":0.5},\"showscale\":false},\"mode\":\"markers\",\"name\":\"Feasible Trial\",\"showlegend\":false,\"x\":[\"euclidean\",\"jaccard\",\"cosine\",\"asymmetric\",\"cosine\",\"dice\",\"euclidean\",\"euclidean\",\"euclidean\",\"tversky\",\"asymmetric\",\"asymmetric\",\"asymmetric\",\"asymmetric\",\"asymmetric\",\"asymmetric\",\"tversky\",\"dice\",\"jaccard\",\"asymmetric\",\"asymmetric\",\"asymmetric\",\"asymmetric\",\"asymmetric\",\"asymmetric\",\"asymmetric\",\"tversky\",\"dice\",\"jaccard\",\"cosine\",\"asymmetric\",\"asymmetric\",\"asymmetric\",\"asymmetric\",\"asymmetric\",\"cosine\",\"cosine\",\"cosine\",\"cosine\",\"cosine\",\"jaccard\",\"euclidean\",\"asymmetric\",\"dice\",\"cosine\",\"cosine\",\"cosine\",\"cosine\",\"cosine\",\"cosine\",\"cosine\",\"cosine\",\"cosine\",\"cosine\",\"cosine\",\"cosine\",\"cosine\",\"euclidean\",\"cosine\",\"cosine\",\"tversky\",\"cosine\",\"cosine\",\"cosine\",\"cosine\",\"cosine\",\"cosine\",\"cosine\",\"cosine\",\"jaccard\",\"dice\",\"cosine\",\"cosine\",\"cosine\",\"cosine\",\"tversky\",\"cosine\",\"cosine\",\"euclidean\",\"cosine\",\"cosine\",\"cosine\",\"cosine\",\"cosine\",\"cosine\",\"cosine\",\"jaccard\",\"cosine\",\"dice\",\"cosine\",\"cosine\",\"cosine\",\"cosine\",\"cosine\",\"cosine\",\"tversky\",\"cosine\",\"cosine\",\"euclidean\",\"cosine\",\"cosine\",\"cosine\",\"cosine\",\"cosine\",\"cosine\",\"cosine\",\"cosine\",\"cosine\",\"jaccard\",\"cosine\",\"cosine\",\"cosine\",\"cosine\",\"cosine\",\"dice\",\"cosine\",\"cosine\",\"cosine\",\"tversky\",\"cosine\",\"euclidean\",\"cosine\",\"cosine\",\"cosine\",\"cosine\",\"cosine\",\"cosine\",\"cosine\",\"cosine\",\"cosine\",\"cosine\",\"cosine\",\"cosine\",\"cosine\",\"cosine\",\"cosine\",\"jaccard\",\"cosine\",\"dice\",\"cosine\",\"cosine\",\"cosine\",\"cosine\",\"cosine\",\"cosine\",\"cosine\",\"cosine\",\"cosine\",\"tversky\",\"cosine\",\"cosine\",\"cosine\",\"cosine\",\"cosine\",\"cosine\",\"euclidean\",\"cosine\",\"cosine\",\"cosine\",\"cosine\",\"cosine\",\"cosine\",\"cosine\",\"cosine\",\"cosine\",\"cosine\",\"asymmetric\",\"cosine\",\"jaccard\",\"cosine\",\"cosine\",\"cosine\",\"cosine\",\"cosine\",\"cosine\",\"cosine\",\"dice\",\"cosine\",\"cosine\",\"cosine\",\"cosine\",\"cosine\",\"cosine\",\"cosine\",\"cosine\",\"cosine\",\"cosine\",\"cosine\",\"tversky\",\"cosine\",\"cosine\",\"cosine\",\"cosine\",\"cosine\",\"cosine\",\"cosine\",\"cosine\",\"euclidean\",\"cosine\",\"cosine\",\"cosine\",\"cosine\",\"cosine\",\"cosine\",\"cosine\",\"cosine\",\"cosine\",\"asymmetric\",\"cosine\",\"cosine\",\"cosine\",\"cosine\",\"cosine\",\"cosine\",\"cosine\",\"cosine\",\"cosine\",\"jaccard\",\"cosine\",\"cosine\",\"cosine\",\"cosine\",\"cosine\",\"cosine\",\"cosine\",\"cosine\",\"cosine\",\"dice\",\"cosine\",\"cosine\",\"cosine\",\"cosine\",\"cosine\",\"cosine\",\"cosine\",\"cosine\",\"cosine\",\"cosine\",\"tversky\",\"cosine\",\"euclidean\",\"cosine\",\"cosine\",\"cosine\",\"cosine\",\"cosine\",\"cosine\",\"cosine\",\"cosine\",\"cosine\",\"cosine\",\"cosine\",\"cosine\",\"asymmetric\",\"cosine\",\"cosine\",\"cosine\",\"cosine\",\"jaccard\",\"cosine\",\"cosine\",\"cosine\",\"cosine\",\"dice\",\"cosine\",\"cosine\",\"cosine\",\"cosine\",\"cosine\",\"tversky\",\"cosine\",\"cosine\",\"cosine\",\"cosine\",\"cosine\",\"cosine\",\"euclidean\",\"cosine\",\"cosine\",\"cosine\",\"cosine\",\"asymmetric\",\"cosine\",\"cosine\",\"cosine\",\"cosine\",\"cosine\",\"cosine\",\"cosine\",\"jaccard\",\"cosine\",\"dice\",\"cosine\",\"cosine\",\"cosine\",\"cosine\",\"cosine\",\"tversky\",\"cosine\",\"cosine\",\"cosine\",\"cosine\",\"cosine\",\"cosine\",\"cosine\",\"cosine\",\"euclidean\",\"cosine\",\"cosine\",\"asymmetric\",\"cosine\",\"cosine\",\"cosine\",\"cosine\",\"cosine\",\"jaccard\",\"cosine\",\"cosine\",\"cosine\",\"dice\",\"cosine\",\"cosine\",\"cosine\",\"cosine\",\"cosine\",\"cosine\",\"tversky\",\"cosine\",\"cosine\",\"cosine\",\"euclidean\",\"cosine\",\"cosine\",\"cosine\",\"cosine\",\"cosine\",\"cosine\",\"asymmetric\",\"cosine\",\"cosine\",\"cosine\",\"cosine\",\"cosine\",\"cosine\",\"jaccard\",\"cosine\",\"cosine\",\"cosine\",\"dice\",\"cosine\",\"cosine\",\"cosine\",\"cosine\",\"cosine\",\"cosine\",\"cosine\",\"tversky\",\"cosine\",\"euclidean\",\"cosine\",\"cosine\",\"cosine\",\"cosine\",\"cosine\",\"cosine\",\"cosine\",\"cosine\",\"asymmetric\",\"cosine\",\"cosine\",\"cosine\",\"cosine\",\"cosine\",\"cosine\",\"jaccard\",\"dice\",\"cosine\",\"cosine\",\"cosine\",\"cosine\",\"cosine\",\"cosine\",\"tversky\",\"cosine\",\"cosine\",\"cosine\",\"cosine\",\"cosine\",\"cosine\",\"euclidean\",\"cosine\",\"cosine\",\"cosine\",\"cosine\",\"cosine\",\"cosine\",\"asymmetric\",\"cosine\",\"cosine\",\"cosine\",\"cosine\",\"cosine\",\"jaccard\",\"cosine\",\"cosine\",\"cosine\",\"dice\",\"cosine\",\"cosine\",\"cosine\",\"cosine\",\"cosine\",\"cosine\",\"cosine\",\"tversky\",\"cosine\",\"cosine\",\"cosine\",\"cosine\",\"euclidean\",\"cosine\",\"cosine\",\"cosine\",\"cosine\",\"cosine\",\"cosine\",\"asymmetric\",\"cosine\",\"cosine\",\"cosine\",\"cosine\",\"jaccard\",\"cosine\",\"cosine\",\"cosine\",\"cosine\",\"dice\",\"cosine\",\"cosine\",\"cosine\",\"cosine\",\"cosine\",\"cosine\",\"cosine\",\"cosine\",\"tversky\",\"cosine\",\"euclidean\",\"cosine\",\"cosine\",\"cosine\",\"cosine\",\"cosine\",\"asymmetric\",\"cosine\",\"cosine\",\"cosine\",\"cosine\",\"cosine\",\"jaccard\",\"cosine\",\"cosine\",\"cosine\",\"dice\",\"cosine\",\"cosine\",\"cosine\",\"cosine\",\"cosine\",\"cosine\",\"cosine\",\"cosine\",\"cosine\",\"tversky\",\"cosine\",\"cosine\",\"cosine\",\"euclidean\",\"cosine\",\"cosine\",\"cosine\",\"cosine\",\"cosine\",\"asymmetric\",\"cosine\",\"cosine\",\"cosine\",\"jaccard\",\"cosine\",\"cosine\",\"cosine\",\"cosine\",\"cosine\",\"dice\",\"cosine\",\"cosine\",\"cosine\",\"cosine\",\"cosine\",\"cosine\"],\"y\":[0.0038837963241671373,0.013134751180052855,0.016654051197667115,0.016861733746268263,0.009323988789222838,0.011212778457827238,0.005327726829833852,0.007688475062263625,0.004351864115033083,0.011182364653498549,0.017454529238768716,0.017524767166781596,0.0182912750809927,0.017222222222222347,0.01170083411929207,0.015051444045334034,0.013016715830875563,0.011175644430174853,0.012658296488048205,0.01734744936978407,0.006340968835911959,0.017428027389258048,0.01795399857747102,0.01826575428598194,0.018280307337618727,0.017638104602706497,0.011135151405695348,0.015294961839209979,0.012946704214298317,0.017061810892826722,0.014764806676522217,0.01834489416874586,0.01831893189921009,0.01839072725124141,0.016074999386841163,0.018365154059001534,0.016893070633694524,0.017678815019944498,0.009467206023674827,0.017612841334501854,0.010871702597787993,0.014114670778177288,0.01770920541274532,0.012321277511332634,0.01837229791949558,0.01861113006330036,0.018405992682225293,0.01130873004724699,0.017575405186656935,0.018385642490362297,0.017686404814302083,0.018350187403706218,0.01790225018227555,0.01843146665418055,0.018492231832097,0.018043722700486386,0.018491471514859657,0.015735290314093812,0.01819645504875179,0.017838222998147208,0.011756919221310622,0.01864415481040011,0.01608367057081781,0.01822740954789002,0.018599975027703705,0.018544316907359477,0.017913999424745294,0.01808255239165488,0.018556368270021866,0.012790848099318767,0.012000451508037179,0.018643353244280396,0.018572353884195387,0.00028209999175022335,0.016786845842893215,0.011863480692178886,0.018597801100118855,0.018561817581834436,0.013111353030232475,0.017962660842770404,0.01762487597464428,0.018568856647870582,0.01851598895867753,0.017091348437113456,0.011694945562623921,0.01779364633431222,0.012935868021414117,0.016479278568195758,0.009249853399242567,0.0164699117273919,0.011801514837334768,0.018497799316383404,0.018526941094366287,0.01818947729862189,0.018388248973794773,0.012200294539317171,0.016114792295154848,0.0180755947085488,0.008737703931130087,0.01831197310126939,0.018392340416992833,0.01866762765414265,0.018537161898518877,0.01858631161412454,0.018066302561667167,0.018411592496716908,0.01741427032956759,0.012528450580494732,0.011985917408589506,0.018295874888795288,0.017848641128034436,0.01855318764674016,0.018490441407634856,0.01848841017888642,0.012184654523887927,0.00028209999175022335,0.018466016495093707,0.01783525976762393,0.012214620164683748,0.01841975643092376,0.009224207742749827,0.018616154623107846,0.018411534525314653,0.01863493512777115,0.01855774397599095,0.016178671206273566,0.01831127855927696,0.01215747262523529,0.018659579662740237,0.018265978367748365,0.018623644082346208,0.01865487060114115,0.018365479590722003,0.018649567332668874,0.00028209999175022335,0.01835436357433832,0.010327221809733644,0.01837783864775018,0.013281635105697858,0.018480289723231177,0.018080449813488254,0.01856244969308607,0.016159471523778453,0.018414283707583384,0.018543164168322183,0.016742795381017205,0.01832266548048263,0.018226100732000563,0.011808745654932213,0.018561599074241295,0.018498519499573034,0.00028209999175022335,0.018670744731848876,0.01835389868828561,0.018532432769895944,0.015098720838712732,0.011624840299935437,0.01865678811675443,0.00028209999175022335,0.01638094457710995,0.018377990265263804,0.018553757327250824,0.01852010269856885,0.018317256302717827,0.01856750323859471,0.018411952588311725,0.01822639393351579,0.018153838264247057,0.01219404366138496,0.01862699861983472,0.018548359297832592,0.018750962659727904,0.016167093648341173,0.018640911756377387,0.018377471867147388,0.01849996209562164,0.01323840850663476,0.01836032905459797,0.0186188346856278,0.015396474223908198,0.00028209999175022335,0.017284805695467476,0.018611973993137125,0.018603579288155807,0.01851475818121422,0.018391288013074797,0.01856378415017273,0.01837763017366901,0.013374905517763077,0.012187768257090108,0.01831874795149135,0.018639060016009023,0.01876248782043132,0.018648477024372518,0.016176510656704675,0.018624428925946013,0.0186478761284914,0.01850662211787359,0.016176697948927364,0.016942010760384284,0.018636171479407916,0.018658140411195612,0.018356889789675312,0.00028209999175022335,0.018550078372876557,0.018376784014163,0.018626162493840578,0.01787389770723117,0.018641027699181963,0.018402174373518685,0.018528654595237,0.016175827263058787,0.01864184041364829,0.018569428558050657,0.00028209999175022335,0.018446079906889064,0.018542597832315485,0.012584413050700818,0.018473646423498982,0.018584989420219102,0.00028209999175022335,0.018595293836971078,0.018579072992684506,0.018598002885192113,0.018432104339605456,0.017542481889511047,0.016660149343251062,0.0127996296519267,0.00028209999175022335,0.01838026564280258,0.01856644414566882,0.018486798127969696,0.018588942623919462,0.018649694423820043,0.0186478761284914,0.018625731052827547,0.00028209999175022335,0.018411410778667467,0.012581624849218945,0.01835861555372735,0.008426679554155402,0.018606010742546787,0.01861883245595846,0.00028209999175022335,0.01862011005647757,0.01865373792912776,0.017212466304122594,0.0183746390722793,0.018712538768375316,0.01863608786680852,0.018436339596474494,0.01857665603114407,0.01833619622873734,0.017910767519069355,0.00028209999175022335,0.018373106174623333,0.018678044669195155,0.01834788527013566,0.012928123265038945,0.01840174293250579,0.00028209999175022335,0.018660103635029898,0.01837766250387413,0.012913523390346326,0.011995219588983082,0.018299161421369642,0.018641849332325558,0.01860468631897204,0.018609613888164254,0.012405008283221865,0.018502380171996718,0.00028209999175022335,0.01843972869383748,0.016503457102277366,0.01853790549323633,0.01862913352820647,0.01288747527854181,0.01843768520190774,0.018659479327620944,0.018524378089485604,0.00028209999175022335,0.018299047708234477,0.016303280735434383,0.018370174159470443,0.01852814957513652,0.00028209999175022335,0.01863089496696751,0.018353497347808383,0.01212024718114088,0.013091024020227937,0.018318473702165276,0.009645277448901746,0.018220631353164183,0.016555250090859314,0.018585362889829832,0.018510835078049633,0.01834998115929437,0.00028209999175022335,0.018085600349612298,0.018408603624996404,0.00028209999175022335,0.01856356787224888,0.018411837760341835,0.01852577943665178,0.0186443599399773,0.018398826525038107,0.009852861892052986,0.018414200094984026,0.01871702597787728,0.00028209999175022335,0.01701404691670196,0.01836784304019872,0.01826781004109287,0.018628220478620866,0.01859508759255921,0.014023690236501463,0.00028209999175022335,0.01841776422138837,0.018579148801441278,0.012600553626891942,0.01811382907800952,0.01832711813011013,0.018630752268131115,0.018403049518725914,0.00028209999175022335,0.018416768674038082,0.012675508420346504,0.01840369612282812,0.018381840904175554,0.016397320383414158,0.0068355262131073345,0.012543790705400808,0.018428660615344174,0.018306732263538038,0.018452280617261715,0.017405755222443045,0.00028209999175022335,0.018384717177595412,0.018625500282053165,0.00028209999175022335,0.018397764087608227,0.01821256217990319,0.018637998693413784,0.01858673302162563,0.013249184498447454,0.01834030327962067,0.01605746526732649,0.018481513811686685,0.010619864792852821,0.01840084660544002,0.018407825470404524,0.00028209999175022335,0.018594210217682636,0.012271270487874263,0.018441043083900287,0.01860253245841109,0.00028209999175022335,0.01843972869383748,0.017891004845071452,0.01832839015645598,0.018693229832083623,0.018285048729422954,0.018359230942458976,0.018207767276035347,0.018516868563223418,0.018682314485938625,0.01836465684274374,0.01809317119178064,0.01870737039489673,0.018374323574070782,0.00028209999175022335,0.018379341444870394,0.018628779010784906,0.01839026793936197,0.012936358548664014,0.00028209999175022335,0.01831945141216114,0.012375365944477103,0.01827198844139431,0.01861645785813508,0.017661944227051772,0.018403049518725914,0.012683011257600772,0.015249018388083306,0.018655930808901714,0.018553314737891236,0.01867696996858397,0.018663172774845728,0.016702139590677477,0.00028209999175022335,0.018645747909127625,0.018667668903024973,0.018318483735677165,0.018659396829856185,0.016152695558721824,0.0163111748796538,0.0178213499755852,0.018478446901540067,0.00028209999175022335,0.018717339246416418,0.017309640867163134,0.01812429068644832,0.012223166487178626,0.012251838919770129,0.018296033195316867,0.017524376974650986,0.012432231430756863,0.018650588521216472,0.018309268512387004,0.018704426116562662,0.018398629199303494,0.018533440580427545,0.018368441706410592,0.01859016671237492,0.0120616548159746,0.018664924180094904,0.018240542300171504,0.018561216685953327,0.018383918955979718,0.01780178797182591,0.018552949072123112,0.01711525718120761,0.01828749133216059,0.0183976771305049,0.01754108388684882,0.00028209999175022335,0.01205005161684506,0.018598193521918792,0.018202404921326173,0.018626292929495622,0.018548755064136467,0.011952188085985322,0.01862609225925702,0.01837735257983892,0.018600732000437017,0.00028209999175022335,0.010435670695679357,0.00028209999175022335,0.018383729434087694,0.01795151361101646,0.01847377462948471,0.018305869381512054,0.01851892654800374,0.016695529735985017,0.018361466185950047,0.012813136988653565,0.01858961598405348,0.009254317197216646,0.018408258026252174,0.018648037779516975,0.00028209999175022335,0.018362757164485027,0.018401659319906345,0.015472061128614345,0.015470067804244324,0.017212729405102028,0.00028209999175022335,0.01834588414192298,0.018409925818901853,0.01303585308262971,0.016411010553025157,0.01848036664682263,0.018343331170554193,0.012214707121787119,0.018403109719797587,0.018616852509604292,0.018588938164580886,0.018402828781463442,0.016166576365059453,0.011596966088959666,0.018573585776493512,0.01865408687237598,0.016915534552070715,0.00028209999175022335,0.018615192520797172,0.00028209999175022335,0.01842562937990671,0.01694372426125502,0.018519844056927963,0.018618240478754593,0.018407113091057494,0.018617039801827075,0.018345388040499743,0.018238098582599314,0.00028209999175022335,0.018384338133811448,0.018546810792491403,0.012141586231346391,0.01856297143570637,0.018358700281161374,0.0186423777639539,0.012579417476594364,0.018354711402751907,0.011890004838382748,0.01858459699841921,0.018614101097666234,0.018290326356698087,0.01840333380156394,0.018601556978084605,0.018516970013177404],\"type\":\"scatter\",\"xaxis\":\"x6\",\"yaxis\":\"y6\"},{\"marker\":{\"color\":[0,6,7,8,41,57,78,98,120,155,197,240,276,306,330,358,389,419,447,477],\"colorbar\":{\"title\":{\"text\":\"Trial\"},\"x\":1.0,\"xpad\":40},\"colorscale\":[[0.0,\"rgb(247,251,255)\"],[0.125,\"rgb(222,235,247)\"],[0.25,\"rgb(198,219,239)\"],[0.375,\"rgb(158,202,225)\"],[0.5,\"rgb(107,174,214)\"],[0.625,\"rgb(66,146,198)\"],[0.75,\"rgb(33,113,181)\"],[0.875,\"rgb(8,81,156)\"],[1.0,\"rgb(8,48,107)\"]],\"line\":{\"color\":\"Grey\",\"width\":0.5},\"showscale\":false},\"mode\":\"markers\",\"name\":\"Feasible Trial\",\"showlegend\":false,\"x\":[\"exp\",\"log\",\"exp\",\"log\",\"lin\",\"lin\",\"exp\",\"log\",\"lin\",\"log\",\"exp\",\"lin\",\"exp\",\"lin\",\"log\",\"exp\",\"lin\",\"log\",\"exp\",\"lin\"],\"y\":[0.0038837963241671373,0.005327726829833852,0.007688475062263625,0.004351864115033083,0.014114670778177288,0.015735290314093812,0.013111353030232475,0.008737703931130087,0.009224207742749827,0.015098720838712732,0.01850662211787359,0.008426679554155402,0.01288747527854181,0.009852861892052986,0.0068355262131073345,0.017891004845071452,0.00028209999175022335,0.01780178797182591,0.009254317197216646,0.01694372426125502],\"type\":\"scatter\",\"xaxis\":\"x7\",\"yaxis\":\"y7\"},{\"marker\":{\"color\":[0,1,2,3,4,5,6,7,8,9,10,11,12,13,14,15,16,17,18,19,20,21,22,23,24,25,26,27,28,29,30,31,32,33,34,35,36,37,38,39,40,41,42,43,44,45,46,47,48,49,50,51,52,53,54,55,56,57,58,59,60,61,62,63,64,65,66,67,68,69,70,71,72,73,74,75,76,77,78,79,80,81,82,83,84,85,86,87,88,89,90,91,92,93,94,95,96,97,98,99,100,101,102,103,104,105,106,107,108,109,110,111,112,113,114,115,116,117,118,119,120,121,122,123,124,125,126,127,128,129,130,131,132,133,134,135,136,137,138,139,140,141,142,143,144,145,146,147,148,149,150,151,152,153,154,155,156,157,158,159,160,161,162,163,164,165,166,167,168,169,170,171,172,173,174,175,176,177,178,179,180,181,182,183,184,185,186,187,188,189,190,191,192,193,194,195,196,197,198,199,200,201,202,203,204,205,206,207,208,209,210,211,212,213,214,215,216,217,218,219,220,221,222,223,224,225,226,227,228,229,230,231,232,233,234,235,236,237,238,239,240,241,242,243,244,245,246,247,248,249,250,251,252,253,254,255,256,257,258,259,260,261,262,263,264,265,266,267,268,269,270,271,272,273,274,275,276,277,278,279,280,281,282,283,284,285,286,287,288,289,290,291,292,293,294,295,296,297,298,299,300,301,302,303,304,305,306,307,308,309,310,311,312,313,314,315,316,317,318,319,320,321,322,323,324,325,326,327,328,329,330,331,332,333,334,335,336,337,338,339,340,341,342,343,344,345,346,347,348,349,350,351,352,353,354,355,356,357,358,359,360,361,362,363,364,365,366,367,368,369,370,371,372,373,374,375,376,377,378,379,380,381,382,383,384,385,386,387,388,389,390,391,392,393,394,395,396,397,398,399,400,401,402,403,404,405,406,407,408,409,410,411,412,413,414,415,416,417,418,419,420,421,422,423,424,425,426,427,428,429,430,431,432,433,434,435,436,437,438,439,440,441,442,443,444,445,446,447,448,449,450,451,452,453,454,455,456,457,458,459,460,461,462,463,464,465,466,467,468,469,470,471,472,473,474,475,476,477,478,479,480,481,482,483,484,485,486,487,488,489,490,491,492,493,494,495,496,497,498,499],\"colorbar\":{\"title\":{\"text\":\"Trial\"},\"x\":1.0,\"xpad\":40},\"colorscale\":[[0.0,\"rgb(247,251,255)\"],[0.125,\"rgb(222,235,247)\"],[0.25,\"rgb(198,219,239)\"],[0.375,\"rgb(158,202,225)\"],[0.5,\"rgb(107,174,214)\"],[0.625,\"rgb(66,146,198)\"],[0.75,\"rgb(33,113,181)\"],[0.875,\"rgb(8,81,156)\"],[1.0,\"rgb(8,48,107)\"]],\"line\":{\"color\":\"Grey\",\"width\":0.5},\"showscale\":false},\"mode\":\"markers\",\"name\":\"Feasible Trial\",\"showlegend\":false,\"x\":[423,13,573,269,553,355,258,455,703,192,78,67,6,131,7,115,169,269,58,208,354,83,63,54,4,10,143,4,122,199,456,56,43,44,105,45,299,172,526,222,655,36,93,158,47,31,39,107,234,34,137,33,84,39,30,85,28,26,73,123,165,22,1,73,21,18,2,101,18,23,64,20,18,0,399,69,19,15,59,91,146,18,17,305,56,117,18,500,737,647,50,17,17,78,51,16,1,104,34,62,47,20,27,14,88,38,76,13,1,44,64,26,28,31,52,0,15,96,69,43,22,13,34,10,16,1,55,42,13,72,12,11,33,10,0,57,330,45,9,30,86,18,1,39,17,435,62,27,46,14,28,0,21,49,15,33,65,24,0,596,38,18,28,54,15,36,12,73,51,24,29,9,1,24,43,28,11,41,25,61,0,241,24,27,29,41,23,50,12,25,58,13,9,10,1,12,11,10,1,372,12,11,39,0,16,33,12,12,12,41,16,1,13,26,0,36,15,25,43,12,0,14,27,14,38,186,478,23,0,50,15,28,25,12,11,12,0,38,14,33,50,13,13,0,26,22,286,34,23,26,41,27,47,24,0,35,23,55,19,34,0,20,47,22,37,63,20,12,14,50,27,0,37,581,16,21,62,41,12,29,0,12,687,44,27,0,21,50,32,13,66,546,16,38,12,28,53,0,24,38,0,15,35,23,11,51,11,33,23,0,340,46,66,21,10,27,0,40,16,31,81,57,13,43,0,24,15,32,46,623,405,13,26,59,36,216,0,15,24,0,42,72,22,14,37,55,12,28,264,12,43,0,27,25,51,15,0,37,13,32,23,60,46,74,28,22,39,54,23,28,0,36,20,50,15,0,35,22,68,13,138,43,30,516,11,15,11,10,445,0,24,10,38,12,1,737,55,28,0,23,237,89,44,25,55,193,36,22,65,23,39,29,46,24,76,21,51,15,38,13,26,300,54,34,159,0,14,24,42,13,28,66,13,45,24,0,319,0,36,107,14,59,29,481,46,13,26,13,35,21,0,49,36,19,76,279,0,57,36,16,694,27,14,49,34,12,24,43,1,63,25,11,381,0,10,0,37,18,28,13,43,11,57,28,0,34,18,52,15,38,26,12,47,85,25,11,64,36,11,29],\"y\":[0.0038837963241671373,0.013134751180052855,0.016654051197667115,0.016861733746268263,0.009323988789222838,0.011212778457827238,0.005327726829833852,0.007688475062263625,0.004351864115033083,0.011182364653498549,0.017454529238768716,0.017524767166781596,0.0182912750809927,0.017222222222222347,0.01170083411929207,0.015051444045334034,0.013016715830875563,0.011175644430174853,0.012658296488048205,0.01734744936978407,0.006340968835911959,0.017428027389258048,0.01795399857747102,0.01826575428598194,0.018280307337618727,0.017638104602706497,0.011135151405695348,0.015294961839209979,0.012946704214298317,0.017061810892826722,0.014764806676522217,0.01834489416874586,0.01831893189921009,0.01839072725124141,0.016074999386841163,0.018365154059001534,0.016893070633694524,0.017678815019944498,0.009467206023674827,0.017612841334501854,0.010871702597787993,0.014114670778177288,0.01770920541274532,0.012321277511332634,0.01837229791949558,0.01861113006330036,0.018405992682225293,0.01130873004724699,0.017575405186656935,0.018385642490362297,0.017686404814302083,0.018350187403706218,0.01790225018227555,0.01843146665418055,0.018492231832097,0.018043722700486386,0.018491471514859657,0.015735290314093812,0.01819645504875179,0.017838222998147208,0.011756919221310622,0.01864415481040011,0.01608367057081781,0.01822740954789002,0.018599975027703705,0.018544316907359477,0.017913999424745294,0.01808255239165488,0.018556368270021866,0.012790848099318767,0.012000451508037179,0.018643353244280396,0.018572353884195387,0.00028209999175022335,0.016786845842893215,0.011863480692178886,0.018597801100118855,0.018561817581834436,0.013111353030232475,0.017962660842770404,0.01762487597464428,0.018568856647870582,0.01851598895867753,0.017091348437113456,0.011694945562623921,0.01779364633431222,0.012935868021414117,0.016479278568195758,0.009249853399242567,0.0164699117273919,0.011801514837334768,0.018497799316383404,0.018526941094366287,0.01818947729862189,0.018388248973794773,0.012200294539317171,0.016114792295154848,0.0180755947085488,0.008737703931130087,0.01831197310126939,0.018392340416992833,0.01866762765414265,0.018537161898518877,0.01858631161412454,0.018066302561667167,0.018411592496716908,0.01741427032956759,0.012528450580494732,0.011985917408589506,0.018295874888795288,0.017848641128034436,0.01855318764674016,0.018490441407634856,0.01848841017888642,0.012184654523887927,0.00028209999175022335,0.018466016495093707,0.01783525976762393,0.012214620164683748,0.01841975643092376,0.009224207742749827,0.018616154623107846,0.018411534525314653,0.01863493512777115,0.01855774397599095,0.016178671206273566,0.01831127855927696,0.01215747262523529,0.018659579662740237,0.018265978367748365,0.018623644082346208,0.01865487060114115,0.018365479590722003,0.018649567332668874,0.00028209999175022335,0.01835436357433832,0.010327221809733644,0.01837783864775018,0.013281635105697858,0.018480289723231177,0.018080449813488254,0.01856244969308607,0.016159471523778453,0.018414283707583384,0.018543164168322183,0.016742795381017205,0.01832266548048263,0.018226100732000563,0.011808745654932213,0.018561599074241295,0.018498519499573034,0.00028209999175022335,0.018670744731848876,0.01835389868828561,0.018532432769895944,0.015098720838712732,0.011624840299935437,0.01865678811675443,0.00028209999175022335,0.01638094457710995,0.018377990265263804,0.018553757327250824,0.01852010269856885,0.018317256302717827,0.01856750323859471,0.018411952588311725,0.01822639393351579,0.018153838264247057,0.01219404366138496,0.01862699861983472,0.018548359297832592,0.018750962659727904,0.016167093648341173,0.018640911756377387,0.018377471867147388,0.01849996209562164,0.01323840850663476,0.01836032905459797,0.0186188346856278,0.015396474223908198,0.00028209999175022335,0.017284805695467476,0.018611973993137125,0.018603579288155807,0.01851475818121422,0.018391288013074797,0.01856378415017273,0.01837763017366901,0.013374905517763077,0.012187768257090108,0.01831874795149135,0.018639060016009023,0.01876248782043132,0.018648477024372518,0.016176510656704675,0.018624428925946013,0.0186478761284914,0.01850662211787359,0.016176697948927364,0.016942010760384284,0.018636171479407916,0.018658140411195612,0.018356889789675312,0.00028209999175022335,0.018550078372876557,0.018376784014163,0.018626162493840578,0.01787389770723117,0.018641027699181963,0.018402174373518685,0.018528654595237,0.016175827263058787,0.01864184041364829,0.018569428558050657,0.00028209999175022335,0.018446079906889064,0.018542597832315485,0.012584413050700818,0.018473646423498982,0.018584989420219102,0.00028209999175022335,0.018595293836971078,0.018579072992684506,0.018598002885192113,0.018432104339605456,0.017542481889511047,0.016660149343251062,0.0127996296519267,0.00028209999175022335,0.01838026564280258,0.01856644414566882,0.018486798127969696,0.018588942623919462,0.018649694423820043,0.0186478761284914,0.018625731052827547,0.00028209999175022335,0.018411410778667467,0.012581624849218945,0.01835861555372735,0.008426679554155402,0.018606010742546787,0.01861883245595846,0.00028209999175022335,0.01862011005647757,0.01865373792912776,0.017212466304122594,0.0183746390722793,0.018712538768375316,0.01863608786680852,0.018436339596474494,0.01857665603114407,0.01833619622873734,0.017910767519069355,0.00028209999175022335,0.018373106174623333,0.018678044669195155,0.01834788527013566,0.012928123265038945,0.01840174293250579,0.00028209999175022335,0.018660103635029898,0.01837766250387413,0.012913523390346326,0.011995219588983082,0.018299161421369642,0.018641849332325558,0.01860468631897204,0.018609613888164254,0.012405008283221865,0.018502380171996718,0.00028209999175022335,0.01843972869383748,0.016503457102277366,0.01853790549323633,0.01862913352820647,0.01288747527854181,0.01843768520190774,0.018659479327620944,0.018524378089485604,0.00028209999175022335,0.018299047708234477,0.016303280735434383,0.018370174159470443,0.01852814957513652,0.00028209999175022335,0.01863089496696751,0.018353497347808383,0.01212024718114088,0.013091024020227937,0.018318473702165276,0.009645277448901746,0.018220631353164183,0.016555250090859314,0.018585362889829832,0.018510835078049633,0.01834998115929437,0.00028209999175022335,0.018085600349612298,0.018408603624996404,0.00028209999175022335,0.01856356787224888,0.018411837760341835,0.01852577943665178,0.0186443599399773,0.018398826525038107,0.009852861892052986,0.018414200094984026,0.01871702597787728,0.00028209999175022335,0.01701404691670196,0.01836784304019872,0.01826781004109287,0.018628220478620866,0.01859508759255921,0.014023690236501463,0.00028209999175022335,0.01841776422138837,0.018579148801441278,0.012600553626891942,0.01811382907800952,0.01832711813011013,0.018630752268131115,0.018403049518725914,0.00028209999175022335,0.018416768674038082,0.012675508420346504,0.01840369612282812,0.018381840904175554,0.016397320383414158,0.0068355262131073345,0.012543790705400808,0.018428660615344174,0.018306732263538038,0.018452280617261715,0.017405755222443045,0.00028209999175022335,0.018384717177595412,0.018625500282053165,0.00028209999175022335,0.018397764087608227,0.01821256217990319,0.018637998693413784,0.01858673302162563,0.013249184498447454,0.01834030327962067,0.01605746526732649,0.018481513811686685,0.010619864792852821,0.01840084660544002,0.018407825470404524,0.00028209999175022335,0.018594210217682636,0.012271270487874263,0.018441043083900287,0.01860253245841109,0.00028209999175022335,0.01843972869383748,0.017891004845071452,0.01832839015645598,0.018693229832083623,0.018285048729422954,0.018359230942458976,0.018207767276035347,0.018516868563223418,0.018682314485938625,0.01836465684274374,0.01809317119178064,0.01870737039489673,0.018374323574070782,0.00028209999175022335,0.018379341444870394,0.018628779010784906,0.01839026793936197,0.012936358548664014,0.00028209999175022335,0.01831945141216114,0.012375365944477103,0.01827198844139431,0.01861645785813508,0.017661944227051772,0.018403049518725914,0.012683011257600772,0.015249018388083306,0.018655930808901714,0.018553314737891236,0.01867696996858397,0.018663172774845728,0.016702139590677477,0.00028209999175022335,0.018645747909127625,0.018667668903024973,0.018318483735677165,0.018659396829856185,0.016152695558721824,0.0163111748796538,0.0178213499755852,0.018478446901540067,0.00028209999175022335,0.018717339246416418,0.017309640867163134,0.01812429068644832,0.012223166487178626,0.012251838919770129,0.018296033195316867,0.017524376974650986,0.012432231430756863,0.018650588521216472,0.018309268512387004,0.018704426116562662,0.018398629199303494,0.018533440580427545,0.018368441706410592,0.01859016671237492,0.0120616548159746,0.018664924180094904,0.018240542300171504,0.018561216685953327,0.018383918955979718,0.01780178797182591,0.018552949072123112,0.01711525718120761,0.01828749133216059,0.0183976771305049,0.01754108388684882,0.00028209999175022335,0.01205005161684506,0.018598193521918792,0.018202404921326173,0.018626292929495622,0.018548755064136467,0.011952188085985322,0.01862609225925702,0.01837735257983892,0.018600732000437017,0.00028209999175022335,0.010435670695679357,0.00028209999175022335,0.018383729434087694,0.01795151361101646,0.01847377462948471,0.018305869381512054,0.01851892654800374,0.016695529735985017,0.018361466185950047,0.012813136988653565,0.01858961598405348,0.009254317197216646,0.018408258026252174,0.018648037779516975,0.00028209999175022335,0.018362757164485027,0.018401659319906345,0.015472061128614345,0.015470067804244324,0.017212729405102028,0.00028209999175022335,0.01834588414192298,0.018409925818901853,0.01303585308262971,0.016411010553025157,0.01848036664682263,0.018343331170554193,0.012214707121787119,0.018403109719797587,0.018616852509604292,0.018588938164580886,0.018402828781463442,0.016166576365059453,0.011596966088959666,0.018573585776493512,0.01865408687237598,0.016915534552070715,0.00028209999175022335,0.018615192520797172,0.00028209999175022335,0.01842562937990671,0.01694372426125502,0.018519844056927963,0.018618240478754593,0.018407113091057494,0.018617039801827075,0.018345388040499743,0.018238098582599314,0.00028209999175022335,0.018384338133811448,0.018546810792491403,0.012141586231346391,0.01856297143570637,0.018358700281161374,0.0186423777639539,0.012579417476594364,0.018354711402751907,0.011890004838382748,0.01858459699841921,0.018614101097666234,0.018290326356698087,0.01840333380156394,0.018601556978084605,0.018516970013177404],\"type\":\"scatter\",\"xaxis\":\"x8\",\"yaxis\":\"y8\"},{\"marker\":{\"color\":[9,16,26,60,75,95,118,148,188,238,269,297,326,356,382,414,445,473],\"colorbar\":{\"title\":{\"text\":\"Trial\"},\"x\":1.0,\"xpad\":40},\"colorscale\":[[0.0,\"rgb(247,251,255)\"],[0.125,\"rgb(222,235,247)\"],[0.25,\"rgb(198,219,239)\"],[0.375,\"rgb(158,202,225)\"],[0.5,\"rgb(107,174,214)\"],[0.625,\"rgb(66,146,198)\"],[0.75,\"rgb(33,113,181)\"],[0.875,\"rgb(8,81,156)\"],[1.0,\"rgb(8,48,107)\"]],\"line\":{\"color\":\"Grey\",\"width\":0.5},\"showscale\":false},\"mode\":\"markers\",\"name\":\"Feasible Trial\",\"showlegend\":false,\"x\":[0.7992609260853731,1.9308958520833546,0.08588362570460317,1.9357720254333366,0.9965706266740588,0.052605976681216804,1.4479029036879523,0.514827015593531,1.3606751435843036,0.4988222324749081,1.425753187880734,0.4419299903517424,1.6695292729939624,0.9637220353466789,1.2210324499824967,0.759701533686814,0.29851164820102327,1.721942154466484],\"y\":[0.011182364653498549,0.013016715830875563,0.011135151405695348,0.011756919221310622,0.011863480692178886,0.012200294539317171,0.012214620164683748,0.011808745654932213,0.013374905517763077,0.012581624849218945,0.012405008283221865,0.00028209999175022335,0.012675508420346504,0.00028209999175022335,0.012683011257600772,0.0120616548159746,0.012813136988653565,0.00028209999175022335],\"type\":\"scatter\",\"xaxis\":\"x9\",\"yaxis\":\"y9\"},{\"marker\":{\"color\":[9,16,26,60,75,95,118,148,188,238,269,297,326,356,382,414,445,473],\"colorbar\":{\"title\":{\"text\":\"Trial\"},\"x\":1.0,\"xpad\":40},\"colorscale\":[[0.0,\"rgb(247,251,255)\"],[0.125,\"rgb(222,235,247)\"],[0.25,\"rgb(198,219,239)\"],[0.375,\"rgb(158,202,225)\"],[0.5,\"rgb(107,174,214)\"],[0.625,\"rgb(66,146,198)\"],[0.75,\"rgb(33,113,181)\"],[0.875,\"rgb(8,81,156)\"],[1.0,\"rgb(8,48,107)\"]],\"line\":{\"color\":\"Grey\",\"width\":0.5},\"showscale\":false},\"mode\":\"markers\",\"name\":\"Feasible Trial\",\"showlegend\":false,\"x\":[0.7542915302864257,1.900956572302966,0.10490879374888373,1.9479380898789105,1.0172931609569928,0.03408776106625466,1.2014993823652984,0.5422624240541908,1.4827781810368992,0.4716218794053182,1.4791727398250085,1.4738590030710323,0.34856462553179335,0.7531876342296511,1.1839399028132112,1.7520082075120018,0.7906539636741885,1.6301185745550046],\"y\":[0.011182364653498549,0.013016715830875563,0.011135151405695348,0.011756919221310622,0.011863480692178886,0.012200294539317171,0.012214620164683748,0.011808745654932213,0.013374905517763077,0.012581624849218945,0.012405008283221865,0.00028209999175022335,0.012675508420346504,0.00028209999175022335,0.012683011257600772,0.0120616548159746,0.012813136988653565,0.00028209999175022335],\"type\":\"scatter\",\"xaxis\":\"x10\",\"yaxis\":\"y10\"}],                        {\"template\":{\"data\":{\"histogram2dcontour\":[{\"type\":\"histogram2dcontour\",\"colorbar\":{\"outlinewidth\":0,\"ticks\":\"\"},\"colorscale\":[[0.0,\"#0d0887\"],[0.1111111111111111,\"#46039f\"],[0.2222222222222222,\"#7201a8\"],[0.3333333333333333,\"#9c179e\"],[0.4444444444444444,\"#bd3786\"],[0.5555555555555556,\"#d8576b\"],[0.6666666666666666,\"#ed7953\"],[0.7777777777777778,\"#fb9f3a\"],[0.8888888888888888,\"#fdca26\"],[1.0,\"#f0f921\"]]}],\"choropleth\":[{\"type\":\"choropleth\",\"colorbar\":{\"outlinewidth\":0,\"ticks\":\"\"}}],\"histogram2d\":[{\"type\":\"histogram2d\",\"colorbar\":{\"outlinewidth\":0,\"ticks\":\"\"},\"colorscale\":[[0.0,\"#0d0887\"],[0.1111111111111111,\"#46039f\"],[0.2222222222222222,\"#7201a8\"],[0.3333333333333333,\"#9c179e\"],[0.4444444444444444,\"#bd3786\"],[0.5555555555555556,\"#d8576b\"],[0.6666666666666666,\"#ed7953\"],[0.7777777777777778,\"#fb9f3a\"],[0.8888888888888888,\"#fdca26\"],[1.0,\"#f0f921\"]]}],\"heatmap\":[{\"type\":\"heatmap\",\"colorbar\":{\"outlinewidth\":0,\"ticks\":\"\"},\"colorscale\":[[0.0,\"#0d0887\"],[0.1111111111111111,\"#46039f\"],[0.2222222222222222,\"#7201a8\"],[0.3333333333333333,\"#9c179e\"],[0.4444444444444444,\"#bd3786\"],[0.5555555555555556,\"#d8576b\"],[0.6666666666666666,\"#ed7953\"],[0.7777777777777778,\"#fb9f3a\"],[0.8888888888888888,\"#fdca26\"],[1.0,\"#f0f921\"]]}],\"heatmapgl\":[{\"type\":\"heatmapgl\",\"colorbar\":{\"outlinewidth\":0,\"ticks\":\"\"},\"colorscale\":[[0.0,\"#0d0887\"],[0.1111111111111111,\"#46039f\"],[0.2222222222222222,\"#7201a8\"],[0.3333333333333333,\"#9c179e\"],[0.4444444444444444,\"#bd3786\"],[0.5555555555555556,\"#d8576b\"],[0.6666666666666666,\"#ed7953\"],[0.7777777777777778,\"#fb9f3a\"],[0.8888888888888888,\"#fdca26\"],[1.0,\"#f0f921\"]]}],\"contourcarpet\":[{\"type\":\"contourcarpet\",\"colorbar\":{\"outlinewidth\":0,\"ticks\":\"\"}}],\"contour\":[{\"type\":\"contour\",\"colorbar\":{\"outlinewidth\":0,\"ticks\":\"\"},\"colorscale\":[[0.0,\"#0d0887\"],[0.1111111111111111,\"#46039f\"],[0.2222222222222222,\"#7201a8\"],[0.3333333333333333,\"#9c179e\"],[0.4444444444444444,\"#bd3786\"],[0.5555555555555556,\"#d8576b\"],[0.6666666666666666,\"#ed7953\"],[0.7777777777777778,\"#fb9f3a\"],[0.8888888888888888,\"#fdca26\"],[1.0,\"#f0f921\"]]}],\"surface\":[{\"type\":\"surface\",\"colorbar\":{\"outlinewidth\":0,\"ticks\":\"\"},\"colorscale\":[[0.0,\"#0d0887\"],[0.1111111111111111,\"#46039f\"],[0.2222222222222222,\"#7201a8\"],[0.3333333333333333,\"#9c179e\"],[0.4444444444444444,\"#bd3786\"],[0.5555555555555556,\"#d8576b\"],[0.6666666666666666,\"#ed7953\"],[0.7777777777777778,\"#fb9f3a\"],[0.8888888888888888,\"#fdca26\"],[1.0,\"#f0f921\"]]}],\"mesh3d\":[{\"type\":\"mesh3d\",\"colorbar\":{\"outlinewidth\":0,\"ticks\":\"\"}}],\"scatter\":[{\"fillpattern\":{\"fillmode\":\"overlay\",\"size\":10,\"solidity\":0.2},\"type\":\"scatter\"}],\"parcoords\":[{\"type\":\"parcoords\",\"line\":{\"colorbar\":{\"outlinewidth\":0,\"ticks\":\"\"}}}],\"scatterpolargl\":[{\"type\":\"scatterpolargl\",\"marker\":{\"colorbar\":{\"outlinewidth\":0,\"ticks\":\"\"}}}],\"bar\":[{\"error_x\":{\"color\":\"#2a3f5f\"},\"error_y\":{\"color\":\"#2a3f5f\"},\"marker\":{\"line\":{\"color\":\"#E5ECF6\",\"width\":0.5},\"pattern\":{\"fillmode\":\"overlay\",\"size\":10,\"solidity\":0.2}},\"type\":\"bar\"}],\"scattergeo\":[{\"type\":\"scattergeo\",\"marker\":{\"colorbar\":{\"outlinewidth\":0,\"ticks\":\"\"}}}],\"scatterpolar\":[{\"type\":\"scatterpolar\",\"marker\":{\"colorbar\":{\"outlinewidth\":0,\"ticks\":\"\"}}}],\"histogram\":[{\"marker\":{\"pattern\":{\"fillmode\":\"overlay\",\"size\":10,\"solidity\":0.2}},\"type\":\"histogram\"}],\"scattergl\":[{\"type\":\"scattergl\",\"marker\":{\"colorbar\":{\"outlinewidth\":0,\"ticks\":\"\"}}}],\"scatter3d\":[{\"type\":\"scatter3d\",\"line\":{\"colorbar\":{\"outlinewidth\":0,\"ticks\":\"\"}},\"marker\":{\"colorbar\":{\"outlinewidth\":0,\"ticks\":\"\"}}}],\"scattermapbox\":[{\"type\":\"scattermapbox\",\"marker\":{\"colorbar\":{\"outlinewidth\":0,\"ticks\":\"\"}}}],\"scatterternary\":[{\"type\":\"scatterternary\",\"marker\":{\"colorbar\":{\"outlinewidth\":0,\"ticks\":\"\"}}}],\"scattercarpet\":[{\"type\":\"scattercarpet\",\"marker\":{\"colorbar\":{\"outlinewidth\":0,\"ticks\":\"\"}}}],\"carpet\":[{\"aaxis\":{\"endlinecolor\":\"#2a3f5f\",\"gridcolor\":\"white\",\"linecolor\":\"white\",\"minorgridcolor\":\"white\",\"startlinecolor\":\"#2a3f5f\"},\"baxis\":{\"endlinecolor\":\"#2a3f5f\",\"gridcolor\":\"white\",\"linecolor\":\"white\",\"minorgridcolor\":\"white\",\"startlinecolor\":\"#2a3f5f\"},\"type\":\"carpet\"}],\"table\":[{\"cells\":{\"fill\":{\"color\":\"#EBF0F8\"},\"line\":{\"color\":\"white\"}},\"header\":{\"fill\":{\"color\":\"#C8D4E3\"},\"line\":{\"color\":\"white\"}},\"type\":\"table\"}],\"barpolar\":[{\"marker\":{\"line\":{\"color\":\"#E5ECF6\",\"width\":0.5},\"pattern\":{\"fillmode\":\"overlay\",\"size\":10,\"solidity\":0.2}},\"type\":\"barpolar\"}],\"pie\":[{\"automargin\":true,\"type\":\"pie\"}]},\"layout\":{\"autotypenumbers\":\"strict\",\"colorway\":[\"#636efa\",\"#EF553B\",\"#00cc96\",\"#ab63fa\",\"#FFA15A\",\"#19d3f3\",\"#FF6692\",\"#B6E880\",\"#FF97FF\",\"#FECB52\"],\"font\":{\"color\":\"#2a3f5f\"},\"hovermode\":\"closest\",\"hoverlabel\":{\"align\":\"left\"},\"paper_bgcolor\":\"white\",\"plot_bgcolor\":\"#E5ECF6\",\"polar\":{\"bgcolor\":\"#E5ECF6\",\"angularaxis\":{\"gridcolor\":\"white\",\"linecolor\":\"white\",\"ticks\":\"\"},\"radialaxis\":{\"gridcolor\":\"white\",\"linecolor\":\"white\",\"ticks\":\"\"}},\"ternary\":{\"bgcolor\":\"#E5ECF6\",\"aaxis\":{\"gridcolor\":\"white\",\"linecolor\":\"white\",\"ticks\":\"\"},\"baxis\":{\"gridcolor\":\"white\",\"linecolor\":\"white\",\"ticks\":\"\"},\"caxis\":{\"gridcolor\":\"white\",\"linecolor\":\"white\",\"ticks\":\"\"}},\"coloraxis\":{\"colorbar\":{\"outlinewidth\":0,\"ticks\":\"\"}},\"colorscale\":{\"sequential\":[[0.0,\"#0d0887\"],[0.1111111111111111,\"#46039f\"],[0.2222222222222222,\"#7201a8\"],[0.3333333333333333,\"#9c179e\"],[0.4444444444444444,\"#bd3786\"],[0.5555555555555556,\"#d8576b\"],[0.6666666666666666,\"#ed7953\"],[0.7777777777777778,\"#fb9f3a\"],[0.8888888888888888,\"#fdca26\"],[1.0,\"#f0f921\"]],\"sequentialminus\":[[0.0,\"#0d0887\"],[0.1111111111111111,\"#46039f\"],[0.2222222222222222,\"#7201a8\"],[0.3333333333333333,\"#9c179e\"],[0.4444444444444444,\"#bd3786\"],[0.5555555555555556,\"#d8576b\"],[0.6666666666666666,\"#ed7953\"],[0.7777777777777778,\"#fb9f3a\"],[0.8888888888888888,\"#fdca26\"],[1.0,\"#f0f921\"]],\"diverging\":[[0,\"#8e0152\"],[0.1,\"#c51b7d\"],[0.2,\"#de77ae\"],[0.3,\"#f1b6da\"],[0.4,\"#fde0ef\"],[0.5,\"#f7f7f7\"],[0.6,\"#e6f5d0\"],[0.7,\"#b8e186\"],[0.8,\"#7fbc41\"],[0.9,\"#4d9221\"],[1,\"#276419\"]]},\"xaxis\":{\"gridcolor\":\"white\",\"linecolor\":\"white\",\"ticks\":\"\",\"title\":{\"standoff\":15},\"zerolinecolor\":\"white\",\"automargin\":true,\"zerolinewidth\":2},\"yaxis\":{\"gridcolor\":\"white\",\"linecolor\":\"white\",\"ticks\":\"\",\"title\":{\"standoff\":15},\"zerolinecolor\":\"white\",\"automargin\":true,\"zerolinewidth\":2},\"scene\":{\"xaxis\":{\"backgroundcolor\":\"#E5ECF6\",\"gridcolor\":\"white\",\"linecolor\":\"white\",\"showbackground\":true,\"ticks\":\"\",\"zerolinecolor\":\"white\",\"gridwidth\":2},\"yaxis\":{\"backgroundcolor\":\"#E5ECF6\",\"gridcolor\":\"white\",\"linecolor\":\"white\",\"showbackground\":true,\"ticks\":\"\",\"zerolinecolor\":\"white\",\"gridwidth\":2},\"zaxis\":{\"backgroundcolor\":\"#E5ECF6\",\"gridcolor\":\"white\",\"linecolor\":\"white\",\"showbackground\":true,\"ticks\":\"\",\"zerolinecolor\":\"white\",\"gridwidth\":2}},\"shapedefaults\":{\"line\":{\"color\":\"#2a3f5f\"}},\"annotationdefaults\":{\"arrowcolor\":\"#2a3f5f\",\"arrowhead\":0,\"arrowwidth\":1},\"geo\":{\"bgcolor\":\"white\",\"landcolor\":\"#E5ECF6\",\"subunitcolor\":\"white\",\"showland\":true,\"showlakes\":true,\"lakecolor\":\"white\"},\"title\":{\"x\":0.05},\"mapbox\":{\"style\":\"light\"}}},\"xaxis\":{\"anchor\":\"y\",\"domain\":[0.0,0.082],\"title\":{\"text\":\"asymmetric_alpha\"}},\"yaxis\":{\"anchor\":\"x\",\"domain\":[0.0,1.0],\"title\":{\"text\":\"Objective Value\"}},\"xaxis2\":{\"anchor\":\"y2\",\"domain\":[0.10200000000000001,0.184],\"title\":{\"text\":\"feature_weighting\"},\"type\":\"category\",\"categoryorder\":\"array\",\"categoryarray\":[\"BM25\",\"TF-IDF\",\"none\"]},\"yaxis2\":{\"anchor\":\"x2\",\"domain\":[0.0,1.0],\"matches\":\"y\",\"showticklabels\":false},\"xaxis3\":{\"anchor\":\"y3\",\"domain\":[0.20400000000000001,0.28600000000000003],\"title\":{\"text\":\"normalize\"},\"type\":\"category\",\"categoryorder\":\"array\",\"categoryarray\":[true,false]},\"yaxis3\":{\"anchor\":\"x3\",\"domain\":[0.0,1.0],\"matches\":\"y\",\"showticklabels\":false},\"xaxis4\":{\"anchor\":\"y4\",\"domain\":[0.306,0.388],\"title\":{\"text\":\"normalize_avg_row\"},\"type\":\"category\",\"categoryorder\":\"array\",\"categoryarray\":[true,false]},\"yaxis4\":{\"anchor\":\"x4\",\"domain\":[0.0,1.0],\"matches\":\"y\",\"showticklabels\":false},\"xaxis5\":{\"anchor\":\"y5\",\"domain\":[0.40800000000000003,0.49000000000000005],\"title\":{\"text\":\"shrink\"}},\"yaxis5\":{\"anchor\":\"x5\",\"domain\":[0.0,1.0],\"matches\":\"y\",\"showticklabels\":false},\"xaxis6\":{\"anchor\":\"y6\",\"domain\":[0.51,0.592],\"title\":{\"text\":\"similarity\"},\"type\":\"category\",\"categoryorder\":\"array\",\"categoryarray\":[\"cosine\",\"dice\",\"jaccard\",\"asymmetric\",\"tversky\",\"euclidean\"]},\"yaxis6\":{\"anchor\":\"x6\",\"domain\":[0.0,1.0],\"matches\":\"y\",\"showticklabels\":false},\"xaxis7\":{\"anchor\":\"y7\",\"domain\":[0.6120000000000001,0.6940000000000001],\"title\":{\"text\":\"similarity_from_distance_mode\"},\"type\":\"category\",\"categoryorder\":\"array\",\"categoryarray\":[\"lin\",\"log\",\"exp\"]},\"yaxis7\":{\"anchor\":\"x7\",\"domain\":[0.0,1.0],\"matches\":\"y\",\"showticklabels\":false},\"xaxis8\":{\"anchor\":\"y8\",\"domain\":[0.7140000000000001,0.796],\"title\":{\"text\":\"topK\"}},\"yaxis8\":{\"anchor\":\"x8\",\"domain\":[0.0,1.0],\"matches\":\"y\",\"showticklabels\":false},\"xaxis9\":{\"anchor\":\"y9\",\"domain\":[0.8160000000000001,0.898],\"title\":{\"text\":\"tversky_alpha\"}},\"yaxis9\":{\"anchor\":\"x9\",\"domain\":[0.0,1.0],\"matches\":\"y\",\"showticklabels\":false},\"xaxis10\":{\"anchor\":\"y10\",\"domain\":[0.9179999999999999,0.9999999999999999],\"title\":{\"text\":\"tversky_beta\"}},\"yaxis10\":{\"anchor\":\"x10\",\"domain\":[0.0,1.0],\"matches\":\"y\",\"showticklabels\":false},\"title\":{\"text\":\"Slice Plot\"},\"width\":3000},                        {\"responsive\": true}                    ).then(function(){\n",
       "                            \n",
       "var gd = document.getElementById('f045fc95-9d63-42e7-82d9-60ce97656070');\n",
       "var x = new MutationObserver(function (mutations, observer) {{\n",
       "        var display = window.getComputedStyle(gd).display;\n",
       "        if (!display || display === 'none') {{\n",
       "            console.log([gd, 'removed!']);\n",
       "            Plotly.purge(gd);\n",
       "            observer.disconnect();\n",
       "        }}\n",
       "}});\n",
       "\n",
       "// Listen for the removal of the full notebook cells\n",
       "var notebookContainer = gd.closest('#notebook-container');\n",
       "if (notebookContainer) {{\n",
       "    x.observe(notebookContainer, {childList: true});\n",
       "}}\n",
       "\n",
       "// Listen for the clearing of the current output cell\n",
       "var outputEl = gd.closest('.output');\n",
       "if (outputEl) {{\n",
       "    x.observe(outputEl, {childList: true});\n",
       "}}\n",
       "\n",
       "                        })                };                });            </script>        </div>"
      ]
     },
     "metadata": {},
     "output_type": "display_data"
    }
   ],
   "source": [
    "if not config['tune_parameters']:\n",
    "    optuna_study = optuna.load_study(study_name=f'hyperparameters_tuning_{config[\"model\"]}_{config[\"metric\"]}', storage=f'sqlite:///{config[\"database_path\"]}')\n",
    "    \n",
    "fig = optuna.visualization.plot_slice(optuna_study)\n",
    "fig.show()"
   ]
  },
  {
   "cell_type": "code",
   "execution_count": 15,
   "id": "7ae8d401",
   "metadata": {
    "execution": {
     "iopub.execute_input": "2024-12-17T14:52:37.356487Z",
     "iopub.status.busy": "2024-12-17T14:52:37.355487Z",
     "iopub.status.idle": "2024-12-17T14:52:47.401687Z",
     "shell.execute_reply": "2024-12-17T14:52:47.400368Z"
    },
    "papermill": {
     "duration": 10.098909,
     "end_time": "2024-12-17T14:52:47.404509",
     "exception": false,
     "start_time": "2024-12-17T14:52:37.305600",
     "status": "completed"
    },
    "tags": []
   },
   "outputs": [
    {
     "data": {
      "text/html": [
       "<div>                            <div id=\"b38c94b8-a191-4ca6-b3a2-3a8bd7b69d39\" class=\"plotly-graph-div\" style=\"height:525px; width:100%;\"></div>            <script type=\"text/javascript\">                require([\"plotly\"], function(Plotly) {                    window.PLOTLYENV=window.PLOTLYENV || {};                                    if (document.getElementById(\"b38c94b8-a191-4ca6-b3a2-3a8bd7b69d39\")) {                    Plotly.newPlot(                        \"b38c94b8-a191-4ca6-b3a2-3a8bd7b69d39\",                        [{\"cliponaxis\":false,\"hovertemplate\":[\"shrink (IntDistribution): 0.03227928273350967\\u003cextra\\u003e\\u003c\\u002fextra\\u003e\",\"topK (IntDistribution): 0.1463298445895013\\u003cextra\\u003e\\u003c\\u002fextra\\u003e\",\"feature_weighting (CategoricalDistribution): 0.33943472759148374\\u003cextra\\u003e\\u003c\\u002fextra\\u003e\",\"similarity (CategoricalDistribution): 0.48195614508550527\\u003cextra\\u003e\\u003c\\u002fextra\\u003e\"],\"name\":\"Objective Value\",\"orientation\":\"h\",\"text\":[\"0.03\",\"0.15\",\"0.34\",\"0.48\"],\"textposition\":\"outside\",\"x\":[0.03227928273350967,0.1463298445895013,0.33943472759148374,0.48195614508550527],\"y\":[\"shrink\",\"topK\",\"feature_weighting\",\"similarity\"],\"type\":\"bar\"}],                        {\"title\":{\"text\":\"Hyperparameter Importances\"},\"xaxis\":{\"title\":{\"text\":\"Hyperparameter Importance\"}},\"yaxis\":{\"title\":{\"text\":\"Hyperparameter\"}},\"template\":{\"data\":{\"histogram2dcontour\":[{\"type\":\"histogram2dcontour\",\"colorbar\":{\"outlinewidth\":0,\"ticks\":\"\"},\"colorscale\":[[0.0,\"#0d0887\"],[0.1111111111111111,\"#46039f\"],[0.2222222222222222,\"#7201a8\"],[0.3333333333333333,\"#9c179e\"],[0.4444444444444444,\"#bd3786\"],[0.5555555555555556,\"#d8576b\"],[0.6666666666666666,\"#ed7953\"],[0.7777777777777778,\"#fb9f3a\"],[0.8888888888888888,\"#fdca26\"],[1.0,\"#f0f921\"]]}],\"choropleth\":[{\"type\":\"choropleth\",\"colorbar\":{\"outlinewidth\":0,\"ticks\":\"\"}}],\"histogram2d\":[{\"type\":\"histogram2d\",\"colorbar\":{\"outlinewidth\":0,\"ticks\":\"\"},\"colorscale\":[[0.0,\"#0d0887\"],[0.1111111111111111,\"#46039f\"],[0.2222222222222222,\"#7201a8\"],[0.3333333333333333,\"#9c179e\"],[0.4444444444444444,\"#bd3786\"],[0.5555555555555556,\"#d8576b\"],[0.6666666666666666,\"#ed7953\"],[0.7777777777777778,\"#fb9f3a\"],[0.8888888888888888,\"#fdca26\"],[1.0,\"#f0f921\"]]}],\"heatmap\":[{\"type\":\"heatmap\",\"colorbar\":{\"outlinewidth\":0,\"ticks\":\"\"},\"colorscale\":[[0.0,\"#0d0887\"],[0.1111111111111111,\"#46039f\"],[0.2222222222222222,\"#7201a8\"],[0.3333333333333333,\"#9c179e\"],[0.4444444444444444,\"#bd3786\"],[0.5555555555555556,\"#d8576b\"],[0.6666666666666666,\"#ed7953\"],[0.7777777777777778,\"#fb9f3a\"],[0.8888888888888888,\"#fdca26\"],[1.0,\"#f0f921\"]]}],\"heatmapgl\":[{\"type\":\"heatmapgl\",\"colorbar\":{\"outlinewidth\":0,\"ticks\":\"\"},\"colorscale\":[[0.0,\"#0d0887\"],[0.1111111111111111,\"#46039f\"],[0.2222222222222222,\"#7201a8\"],[0.3333333333333333,\"#9c179e\"],[0.4444444444444444,\"#bd3786\"],[0.5555555555555556,\"#d8576b\"],[0.6666666666666666,\"#ed7953\"],[0.7777777777777778,\"#fb9f3a\"],[0.8888888888888888,\"#fdca26\"],[1.0,\"#f0f921\"]]}],\"contourcarpet\":[{\"type\":\"contourcarpet\",\"colorbar\":{\"outlinewidth\":0,\"ticks\":\"\"}}],\"contour\":[{\"type\":\"contour\",\"colorbar\":{\"outlinewidth\":0,\"ticks\":\"\"},\"colorscale\":[[0.0,\"#0d0887\"],[0.1111111111111111,\"#46039f\"],[0.2222222222222222,\"#7201a8\"],[0.3333333333333333,\"#9c179e\"],[0.4444444444444444,\"#bd3786\"],[0.5555555555555556,\"#d8576b\"],[0.6666666666666666,\"#ed7953\"],[0.7777777777777778,\"#fb9f3a\"],[0.8888888888888888,\"#fdca26\"],[1.0,\"#f0f921\"]]}],\"surface\":[{\"type\":\"surface\",\"colorbar\":{\"outlinewidth\":0,\"ticks\":\"\"},\"colorscale\":[[0.0,\"#0d0887\"],[0.1111111111111111,\"#46039f\"],[0.2222222222222222,\"#7201a8\"],[0.3333333333333333,\"#9c179e\"],[0.4444444444444444,\"#bd3786\"],[0.5555555555555556,\"#d8576b\"],[0.6666666666666666,\"#ed7953\"],[0.7777777777777778,\"#fb9f3a\"],[0.8888888888888888,\"#fdca26\"],[1.0,\"#f0f921\"]]}],\"mesh3d\":[{\"type\":\"mesh3d\",\"colorbar\":{\"outlinewidth\":0,\"ticks\":\"\"}}],\"scatter\":[{\"fillpattern\":{\"fillmode\":\"overlay\",\"size\":10,\"solidity\":0.2},\"type\":\"scatter\"}],\"parcoords\":[{\"type\":\"parcoords\",\"line\":{\"colorbar\":{\"outlinewidth\":0,\"ticks\":\"\"}}}],\"scatterpolargl\":[{\"type\":\"scatterpolargl\",\"marker\":{\"colorbar\":{\"outlinewidth\":0,\"ticks\":\"\"}}}],\"bar\":[{\"error_x\":{\"color\":\"#2a3f5f\"},\"error_y\":{\"color\":\"#2a3f5f\"},\"marker\":{\"line\":{\"color\":\"#E5ECF6\",\"width\":0.5},\"pattern\":{\"fillmode\":\"overlay\",\"size\":10,\"solidity\":0.2}},\"type\":\"bar\"}],\"scattergeo\":[{\"type\":\"scattergeo\",\"marker\":{\"colorbar\":{\"outlinewidth\":0,\"ticks\":\"\"}}}],\"scatterpolar\":[{\"type\":\"scatterpolar\",\"marker\":{\"colorbar\":{\"outlinewidth\":0,\"ticks\":\"\"}}}],\"histogram\":[{\"marker\":{\"pattern\":{\"fillmode\":\"overlay\",\"size\":10,\"solidity\":0.2}},\"type\":\"histogram\"}],\"scattergl\":[{\"type\":\"scattergl\",\"marker\":{\"colorbar\":{\"outlinewidth\":0,\"ticks\":\"\"}}}],\"scatter3d\":[{\"type\":\"scatter3d\",\"line\":{\"colorbar\":{\"outlinewidth\":0,\"ticks\":\"\"}},\"marker\":{\"colorbar\":{\"outlinewidth\":0,\"ticks\":\"\"}}}],\"scattermapbox\":[{\"type\":\"scattermapbox\",\"marker\":{\"colorbar\":{\"outlinewidth\":0,\"ticks\":\"\"}}}],\"scatterternary\":[{\"type\":\"scatterternary\",\"marker\":{\"colorbar\":{\"outlinewidth\":0,\"ticks\":\"\"}}}],\"scattercarpet\":[{\"type\":\"scattercarpet\",\"marker\":{\"colorbar\":{\"outlinewidth\":0,\"ticks\":\"\"}}}],\"carpet\":[{\"aaxis\":{\"endlinecolor\":\"#2a3f5f\",\"gridcolor\":\"white\",\"linecolor\":\"white\",\"minorgridcolor\":\"white\",\"startlinecolor\":\"#2a3f5f\"},\"baxis\":{\"endlinecolor\":\"#2a3f5f\",\"gridcolor\":\"white\",\"linecolor\":\"white\",\"minorgridcolor\":\"white\",\"startlinecolor\":\"#2a3f5f\"},\"type\":\"carpet\"}],\"table\":[{\"cells\":{\"fill\":{\"color\":\"#EBF0F8\"},\"line\":{\"color\":\"white\"}},\"header\":{\"fill\":{\"color\":\"#C8D4E3\"},\"line\":{\"color\":\"white\"}},\"type\":\"table\"}],\"barpolar\":[{\"marker\":{\"line\":{\"color\":\"#E5ECF6\",\"width\":0.5},\"pattern\":{\"fillmode\":\"overlay\",\"size\":10,\"solidity\":0.2}},\"type\":\"barpolar\"}],\"pie\":[{\"automargin\":true,\"type\":\"pie\"}]},\"layout\":{\"autotypenumbers\":\"strict\",\"colorway\":[\"#636efa\",\"#EF553B\",\"#00cc96\",\"#ab63fa\",\"#FFA15A\",\"#19d3f3\",\"#FF6692\",\"#B6E880\",\"#FF97FF\",\"#FECB52\"],\"font\":{\"color\":\"#2a3f5f\"},\"hovermode\":\"closest\",\"hoverlabel\":{\"align\":\"left\"},\"paper_bgcolor\":\"white\",\"plot_bgcolor\":\"#E5ECF6\",\"polar\":{\"bgcolor\":\"#E5ECF6\",\"angularaxis\":{\"gridcolor\":\"white\",\"linecolor\":\"white\",\"ticks\":\"\"},\"radialaxis\":{\"gridcolor\":\"white\",\"linecolor\":\"white\",\"ticks\":\"\"}},\"ternary\":{\"bgcolor\":\"#E5ECF6\",\"aaxis\":{\"gridcolor\":\"white\",\"linecolor\":\"white\",\"ticks\":\"\"},\"baxis\":{\"gridcolor\":\"white\",\"linecolor\":\"white\",\"ticks\":\"\"},\"caxis\":{\"gridcolor\":\"white\",\"linecolor\":\"white\",\"ticks\":\"\"}},\"coloraxis\":{\"colorbar\":{\"outlinewidth\":0,\"ticks\":\"\"}},\"colorscale\":{\"sequential\":[[0.0,\"#0d0887\"],[0.1111111111111111,\"#46039f\"],[0.2222222222222222,\"#7201a8\"],[0.3333333333333333,\"#9c179e\"],[0.4444444444444444,\"#bd3786\"],[0.5555555555555556,\"#d8576b\"],[0.6666666666666666,\"#ed7953\"],[0.7777777777777778,\"#fb9f3a\"],[0.8888888888888888,\"#fdca26\"],[1.0,\"#f0f921\"]],\"sequentialminus\":[[0.0,\"#0d0887\"],[0.1111111111111111,\"#46039f\"],[0.2222222222222222,\"#7201a8\"],[0.3333333333333333,\"#9c179e\"],[0.4444444444444444,\"#bd3786\"],[0.5555555555555556,\"#d8576b\"],[0.6666666666666666,\"#ed7953\"],[0.7777777777777778,\"#fb9f3a\"],[0.8888888888888888,\"#fdca26\"],[1.0,\"#f0f921\"]],\"diverging\":[[0,\"#8e0152\"],[0.1,\"#c51b7d\"],[0.2,\"#de77ae\"],[0.3,\"#f1b6da\"],[0.4,\"#fde0ef\"],[0.5,\"#f7f7f7\"],[0.6,\"#e6f5d0\"],[0.7,\"#b8e186\"],[0.8,\"#7fbc41\"],[0.9,\"#4d9221\"],[1,\"#276419\"]]},\"xaxis\":{\"gridcolor\":\"white\",\"linecolor\":\"white\",\"ticks\":\"\",\"title\":{\"standoff\":15},\"zerolinecolor\":\"white\",\"automargin\":true,\"zerolinewidth\":2},\"yaxis\":{\"gridcolor\":\"white\",\"linecolor\":\"white\",\"ticks\":\"\",\"title\":{\"standoff\":15},\"zerolinecolor\":\"white\",\"automargin\":true,\"zerolinewidth\":2},\"scene\":{\"xaxis\":{\"backgroundcolor\":\"#E5ECF6\",\"gridcolor\":\"white\",\"linecolor\":\"white\",\"showbackground\":true,\"ticks\":\"\",\"zerolinecolor\":\"white\",\"gridwidth\":2},\"yaxis\":{\"backgroundcolor\":\"#E5ECF6\",\"gridcolor\":\"white\",\"linecolor\":\"white\",\"showbackground\":true,\"ticks\":\"\",\"zerolinecolor\":\"white\",\"gridwidth\":2},\"zaxis\":{\"backgroundcolor\":\"#E5ECF6\",\"gridcolor\":\"white\",\"linecolor\":\"white\",\"showbackground\":true,\"ticks\":\"\",\"zerolinecolor\":\"white\",\"gridwidth\":2}},\"shapedefaults\":{\"line\":{\"color\":\"#2a3f5f\"}},\"annotationdefaults\":{\"arrowcolor\":\"#2a3f5f\",\"arrowhead\":0,\"arrowwidth\":1},\"geo\":{\"bgcolor\":\"white\",\"landcolor\":\"#E5ECF6\",\"subunitcolor\":\"white\",\"showland\":true,\"showlakes\":true,\"lakecolor\":\"white\"},\"title\":{\"x\":0.05},\"mapbox\":{\"style\":\"light\"}}}},                        {\"responsive\": true}                    ).then(function(){\n",
       "                            \n",
       "var gd = document.getElementById('b38c94b8-a191-4ca6-b3a2-3a8bd7b69d39');\n",
       "var x = new MutationObserver(function (mutations, observer) {{\n",
       "        var display = window.getComputedStyle(gd).display;\n",
       "        if (!display || display === 'none') {{\n",
       "            console.log([gd, 'removed!']);\n",
       "            Plotly.purge(gd);\n",
       "            observer.disconnect();\n",
       "        }}\n",
       "}});\n",
       "\n",
       "// Listen for the removal of the full notebook cells\n",
       "var notebookContainer = gd.closest('#notebook-container');\n",
       "if (notebookContainer) {{\n",
       "    x.observe(notebookContainer, {childList: true});\n",
       "}}\n",
       "\n",
       "// Listen for the clearing of the current output cell\n",
       "var outputEl = gd.closest('.output');\n",
       "if (outputEl) {{\n",
       "    x.observe(outputEl, {childList: true});\n",
       "}}\n",
       "\n",
       "                        })                };                });            </script>        </div>"
      ]
     },
     "metadata": {},
     "output_type": "display_data"
    }
   ],
   "source": [
    "if not config['tune_parameters']:\n",
    "    optuna_study = optuna.load_study(study_name=f'hyperparameters_tuning_{config[\"model\"]}_{config[\"metric\"]}', storage=f'sqlite:///{config[\"database_path\"]}')\n",
    "    \n",
    "fig = optuna.visualization.plot_param_importances(optuna_study)\n",
    "fig.show()"
   ]
  },
  {
   "cell_type": "markdown",
   "id": "d928e24a",
   "metadata": {
    "papermill": {
     "duration": 0.047148,
     "end_time": "2024-12-17T14:52:47.501813",
     "exception": false,
     "start_time": "2024-12-17T14:52:47.454665",
     "status": "completed"
    },
    "tags": []
   },
   "source": [
    "## Let's train the recommender with best parameter values"
   ]
  },
  {
   "cell_type": "code",
   "execution_count": 16,
   "id": "203e84c8",
   "metadata": {
    "execution": {
     "iopub.execute_input": "2024-12-17T14:52:47.597632Z",
     "iopub.status.busy": "2024-12-17T14:52:47.597168Z",
     "iopub.status.idle": "2024-12-17T14:53:46.075562Z",
     "shell.execute_reply": "2024-12-17T14:53:46.074010Z"
    },
    "papermill": {
     "duration": 58.563673,
     "end_time": "2024-12-17T14:53:46.111840",
     "exception": false,
     "start_time": "2024-12-17T14:52:47.548167",
     "status": "completed"
    },
    "tags": []
   },
   "outputs": [
    {
     "name": "stdout",
     "output_type": "stream",
     "text": [
      "Similarity column 38121 (100.0%), 657.11 column/sec. Elapsed time 58.01 sec\n"
     ]
    }
   ],
   "source": [
    "if config['tune_best_params']:\n",
    "\n",
    "    if config['tune_parameters']:\n",
    "        best_params = optuna_study.best_trial.params\n",
    "    else: \n",
    "        with open(f'{K_PATH}/{GH_PATH}/{config[\"model\"]}Recommender/Optimizing{config[\"metric\"]}/best_params_{config[\"model\"]}_{config[\"metric\"]}.json', 'r') as best_params_json:\n",
    "            best_params = json.load(best_params_json)\n",
    "\n",
    "    recommender_instance = ItemKNNCBFRecommender(URM_train + URM_validation, ICM_all)\n",
    "    recommender_instance.fit(**best_params)"
   ]
  },
  {
   "cell_type": "markdown",
   "id": "b5e52848",
   "metadata": {
    "papermill": {
     "duration": 0.049127,
     "end_time": "2024-12-17T14:53:46.209450",
     "exception": false,
     "start_time": "2024-12-17T14:53:46.160323",
     "status": "completed"
    },
    "tags": []
   },
   "source": [
    "# Testing"
   ]
  },
  {
   "cell_type": "markdown",
   "id": "02fcdc43",
   "metadata": {
    "papermill": {
     "duration": 0.04627,
     "end_time": "2024-12-17T14:53:46.303800",
     "exception": false,
     "start_time": "2024-12-17T14:53:46.257530",
     "status": "completed"
    },
    "tags": []
   },
   "source": [
    "Create the recommendations for the submission. "
   ]
  },
  {
   "cell_type": "code",
   "execution_count": 17,
   "id": "a3b60326",
   "metadata": {
    "execution": {
     "iopub.execute_input": "2024-12-17T14:53:46.405747Z",
     "iopub.status.busy": "2024-12-17T14:53:46.404638Z",
     "iopub.status.idle": "2024-12-17T14:54:10.944173Z",
     "shell.execute_reply": "2024-12-17T14:54:10.942639Z"
    },
    "papermill": {
     "duration": 24.593981,
     "end_time": "2024-12-17T14:54:10.947427",
     "exception": false,
     "start_time": "2024-12-17T14:53:46.353446",
     "status": "completed"
    },
    "tags": []
   },
   "outputs": [
    {
     "name": "stdout",
     "output_type": "stream",
     "text": [
      "Submission file saved as /kaggle/working/submission_ItemKNNCBF_MAP.csv\n"
     ]
    }
   ],
   "source": [
    "if config['tune_best_params']:\n",
    "\n",
    "    data_target_users_test = pd.read_csv('/kaggle/input/recommender-system-2024-challenge-polimi/data_target_users_test.csv')\n",
    "    create_submission(data_target_users_test, recommender_instance, f'/kaggle/working/submission_{config[\"model\"]}_{config[\"metric\"]}.csv')"
   ]
  },
  {
   "cell_type": "markdown",
   "id": "6d845350",
   "metadata": {
    "execution": {
     "iopub.execute_input": "2024-11-14T00:04:16.877791Z",
     "iopub.status.busy": "2024-11-14T00:04:16.877275Z",
     "iopub.status.idle": "2024-11-14T00:04:16.883170Z",
     "shell.execute_reply": "2024-11-14T00:04:16.881889Z",
     "shell.execute_reply.started": "2024-11-14T00:04:16.877743Z"
    },
    "papermill": {
     "duration": 0.047652,
     "end_time": "2024-12-17T14:54:11.042550",
     "exception": false,
     "start_time": "2024-12-17T14:54:10.994898",
     "status": "completed"
    },
    "tags": []
   },
   "source": [
    "# Save Version on GitHub "
   ]
  },
  {
   "cell_type": "markdown",
   "id": "e9b98dca",
   "metadata": {
    "papermill": {
     "duration": 0.050377,
     "end_time": "2024-12-17T14:54:11.141469",
     "exception": false,
     "start_time": "2024-12-17T14:54:11.091092",
     "status": "completed"
    },
    "tags": []
   },
   "source": [
    "Write or import a json file where best hyperparameters are saved. "
   ]
  },
  {
   "cell_type": "code",
   "execution_count": 18,
   "id": "17afc8a9",
   "metadata": {
    "execution": {
     "iopub.execute_input": "2024-12-17T14:54:11.243323Z",
     "iopub.status.busy": "2024-12-17T14:54:11.242851Z",
     "iopub.status.idle": "2024-12-17T14:54:12.228149Z",
     "shell.execute_reply": "2024-12-17T14:54:12.226857Z"
    },
    "papermill": {
     "duration": 1.040324,
     "end_time": "2024-12-17T14:54:12.230801",
     "exception": false,
     "start_time": "2024-12-17T14:54:11.190477",
     "status": "completed"
    },
    "tags": []
   },
   "outputs": [
    {
     "name": "stdout",
     "output_type": "stream",
     "text": [
      "File 'TrainedModels/WithoutKFCV/KNN/ItemKNNCBFRecommender/OptimizingMAP/best_params_ItemKNNCBF_MAP.json' updated successfully.\n"
     ]
    }
   ],
   "source": [
    "if config['tune_parameters']:\n",
    "    with open(f'/kaggle/working/best_params_{config[\"model\"]}_{config[\"metric\"]}.json', 'w') as params_file:\n",
    "        json.dump(optuna_study.best_params, params_file)\n",
    "        \n",
    "    if config['save_github']:\n",
    "        upload_file(\n",
    "            f'/kaggle/working/best_params_{config[\"model\"]}_{config[\"metric\"]}.json', \n",
    "            f'{GH_PATH}/{config[\"model\"]}Recommender/Optimizing{config[\"metric\"]}/best_params_{config[\"model\"]}_{config[\"metric\"]}.json', \n",
    "            f'{config[\"model\"]}_{config[\"metric\"]} tuning results (from kaggle notebook)',\n",
    "            repo\n",
    "        )\n",
    "elif config['copy_prev_best_params']:\n",
    "    shutil.copyfile(\n",
    "        f'{K_PATH}/{GH_PATH}/{config[\"model\"]}Recommender/Optimizing{config[\"metric\"]}/'\\\n",
    "        f'best_params_{config[\"model\"]}_{config[\"metric\"]}.json', \n",
    "        f'/kaggle/working/best_params_{config[\"model\"]}_{config[\"metric\"]}.json'\n",
    "    )"
   ]
  },
  {
   "cell_type": "markdown",
   "id": "f0736ab2",
   "metadata": {
    "papermill": {
     "duration": 0.046177,
     "end_time": "2024-12-17T14:54:12.323645",
     "exception": false,
     "start_time": "2024-12-17T14:54:12.277468",
     "status": "completed"
    },
    "tags": []
   },
   "source": [
    "Save the history of the tuned model."
   ]
  },
  {
   "cell_type": "code",
   "execution_count": 19,
   "id": "8d1299ca",
   "metadata": {
    "execution": {
     "iopub.execute_input": "2024-12-17T14:54:12.423442Z",
     "iopub.status.busy": "2024-12-17T14:54:12.422906Z",
     "iopub.status.idle": "2024-12-17T14:54:13.909644Z",
     "shell.execute_reply": "2024-12-17T14:54:13.908333Z"
    },
    "papermill": {
     "duration": 1.538577,
     "end_time": "2024-12-17T14:54:13.912026",
     "exception": false,
     "start_time": "2024-12-17T14:54:12.373449",
     "status": "completed"
    },
    "tags": []
   },
   "outputs": [
    {
     "name": "stdout",
     "output_type": "stream",
     "text": [
      "File 'TrainedModels/WithoutKFCV/KNN/ItemKNNCBFRecommender/OptimizingMAP/history_ItemKNNCBF_MAP.db' updated successfully.\n"
     ]
    }
   ],
   "source": [
    "if config['save_github'] and config['tune_parameters']:\n",
    "    upload_file(\n",
    "        config['database_path'], \n",
    "        f'{GH_PATH}/{config[\"model\"]}Recommender/Optimizing{config[\"metric\"]}/history_{config[\"model\"]}_{config[\"metric\"]}.db',\n",
    "        f'Tuning {config[\"model\"]}_{config[\"metric\"]} db updated results (from kaggle notebook)',\n",
    "        repo\n",
    "    )"
   ]
  },
  {
   "cell_type": "markdown",
   "id": "a2315c2f",
   "metadata": {
    "execution": {
     "iopub.execute_input": "2024-11-14T00:41:34.294243Z",
     "iopub.status.busy": "2024-11-14T00:41:34.293739Z",
     "iopub.status.idle": "2024-11-14T00:41:34.301478Z",
     "shell.execute_reply": "2024-11-14T00:41:34.299869Z",
     "shell.execute_reply.started": "2024-11-14T00:41:34.294186Z"
    },
    "papermill": {
     "duration": 0.051956,
     "end_time": "2024-12-17T14:54:14.013355",
     "exception": false,
     "start_time": "2024-12-17T14:54:13.961399",
     "status": "completed"
    },
    "tags": []
   },
   "source": [
    "Save the best trained model and its submission."
   ]
  },
  {
   "cell_type": "code",
   "execution_count": 20,
   "id": "5eecb294",
   "metadata": {
    "execution": {
     "iopub.execute_input": "2024-12-17T14:54:14.118958Z",
     "iopub.status.busy": "2024-12-17T14:54:14.117368Z",
     "iopub.status.idle": "2024-12-17T14:54:15.909951Z",
     "shell.execute_reply": "2024-12-17T14:54:15.908372Z"
    },
    "papermill": {
     "duration": 1.847336,
     "end_time": "2024-12-17T14:54:15.912529",
     "exception": false,
     "start_time": "2024-12-17T14:54:14.065193",
     "status": "completed"
    },
    "tags": []
   },
   "outputs": [
    {
     "name": "stdout",
     "output_type": "stream",
     "text": [
      "File 'TrainedModels/WithoutKFCV/KNN/ItemKNNCBFRecommender/OptimizingMAP/Submission/submission_ItemKNNCBF_MAP.csv' updated successfully.\n"
     ]
    }
   ],
   "source": [
    "if config['save_github'] and config['tune_best_params']: \n",
    "    upload_file(\n",
    "                f'/kaggle/working/submission_{config[\"model\"]}_{config[\"metric\"]}.csv', \n",
    "                f'{GH_PATH}/{config[\"model\"]}Recommender/Optimizing{config[\"metric\"]}/Submission/submission_{config[\"model\"]}_{config[\"metric\"]}.csv', \n",
    "                f'New {config[\"model\"]}_{config[\"metric\"]} submission (from kaggle notebook)',\n",
    "                repo\n",
    "            )"
   ]
  }
 ],
 "metadata": {
  "kaggle": {
   "accelerator": "none",
   "dataSources": [
    {
     "databundleVersionId": 9982103,
     "sourceId": 87439,
     "sourceType": "competition"
    }
   ],
   "isGpuEnabled": false,
   "isInternetEnabled": true,
   "language": "python",
   "sourceType": "notebook"
  },
  "kernelspec": {
   "display_name": "Python 3",
   "language": "python",
   "name": "python3"
  },
  "language_info": {
   "codemirror_mode": {
    "name": "ipython",
    "version": 3
   },
   "file_extension": ".py",
   "mimetype": "text/x-python",
   "name": "python",
   "nbconvert_exporter": "python",
   "pygments_lexer": "ipython3",
   "version": "3.10.14"
  },
  "papermill": {
   "default_parameters": {},
   "duration": 19803.897864,
   "end_time": "2024-12-17T14:54:17.695345",
   "environment_variables": {},
   "exception": null,
   "input_path": "__notebook__.ipynb",
   "output_path": "__notebook__.ipynb",
   "parameters": {},
   "start_time": "2024-12-17T09:24:13.797481",
   "version": "2.6.0"
  }
 },
 "nbformat": 4,
 "nbformat_minor": 5
}
