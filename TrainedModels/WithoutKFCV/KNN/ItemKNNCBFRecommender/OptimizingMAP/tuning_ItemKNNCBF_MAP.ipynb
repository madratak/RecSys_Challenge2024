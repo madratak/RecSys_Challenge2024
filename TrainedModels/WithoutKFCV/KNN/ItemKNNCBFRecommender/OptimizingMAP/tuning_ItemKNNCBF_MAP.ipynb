{
 "cells": [
  {
   "cell_type": "markdown",
   "id": "e39c31d5",
   "metadata": {
    "papermill": {
     "duration": 0.005938,
     "end_time": "2024-12-16T12:30:35.458724",
     "exception": false,
     "start_time": "2024-12-16T12:30:35.452786",
     "status": "completed"
    },
    "tags": []
   },
   "source": [
    "# Set connection with GitHub"
   ]
  },
  {
   "cell_type": "code",
   "execution_count": 1,
   "id": "8c7ad5e1",
   "metadata": {
    "execution": {
     "iopub.execute_input": "2024-12-16T12:30:35.471096Z",
     "iopub.status.busy": "2024-12-16T12:30:35.470663Z",
     "iopub.status.idle": "2024-12-16T12:30:35.476134Z",
     "shell.execute_reply": "2024-12-16T12:30:35.475177Z"
    },
    "papermill": {
     "duration": 0.014132,
     "end_time": "2024-12-16T12:30:35.478262",
     "exception": false,
     "start_time": "2024-12-16T12:30:35.464130",
     "status": "completed"
    },
    "tags": []
   },
   "outputs": [],
   "source": [
    "# ! cd /kaggle/working && rm -rf RECsys_Challenge2024"
   ]
  },
  {
   "cell_type": "code",
   "execution_count": 2,
   "id": "2353c036",
   "metadata": {
    "_cell_guid": "b1076dfc-b9ad-4769-8c92-a6c4dae69d19",
    "_uuid": "8f2839f25d086af736a60e9eeb907d3b93b6e0e5",
    "execution": {
     "iopub.execute_input": "2024-12-16T12:30:35.491501Z",
     "iopub.status.busy": "2024-12-16T12:30:35.491118Z",
     "iopub.status.idle": "2024-12-16T12:30:46.208270Z",
     "shell.execute_reply": "2024-12-16T12:30:46.206533Z"
    },
    "papermill": {
     "duration": 10.7276,
     "end_time": "2024-12-16T12:30:46.211149",
     "exception": false,
     "start_time": "2024-12-16T12:30:35.483549",
     "status": "completed"
    },
    "tags": []
   },
   "outputs": [
    {
     "name": "stdout",
     "output_type": "stream",
     "text": [
      "Cloning into 'RECsys_Challenge2024'...\r\n",
      "remote: Enumerating objects: 4251, done.\u001b[K\r\n",
      "remote: Counting objects: 100% (1724/1724), done.\u001b[K\r\n",
      "remote: Compressing objects: 100% (637/637), done.\u001b[K\r\n",
      "remote: Total 4251 (delta 918), reused 1560 (delta 841), pack-reused 2527 (from 1)\u001b[K\r\n",
      "Receiving objects: 100% (4251/4251), 171.96 MiB | 29.69 MiB/s, done.\r\n",
      "Resolving deltas: 100% (2437/2437), done.\r\n",
      "Updating files: 100% (395/395), done.\r\n"
     ]
    }
   ],
   "source": [
    "from kaggle_secrets import UserSecretsClient\n",
    "\n",
    "token = UserSecretsClient().get_secret(\"Token\")\n",
    "\n",
    "! git clone https://{token}@github.com/madratak/RECsys_Challenge2024.git"
   ]
  },
  {
   "cell_type": "code",
   "execution_count": 3,
   "id": "ffeaabff",
   "metadata": {
    "execution": {
     "iopub.execute_input": "2024-12-16T12:30:46.231226Z",
     "iopub.status.busy": "2024-12-16T12:30:46.230579Z",
     "iopub.status.idle": "2024-12-16T12:30:59.348452Z",
     "shell.execute_reply": "2024-12-16T12:30:59.347125Z"
    },
    "papermill": {
     "duration": 13.131104,
     "end_time": "2024-12-16T12:30:59.351177",
     "exception": false,
     "start_time": "2024-12-16T12:30:46.220073",
     "status": "completed"
    },
    "tags": []
   },
   "outputs": [
    {
     "name": "stdout",
     "output_type": "stream",
     "text": [
      "Collecting PyGithub\r\n",
      "  Downloading PyGithub-2.5.0-py3-none-any.whl.metadata (3.9 kB)\r\n",
      "Requirement already satisfied: requests in /opt/conda/lib/python3.10/site-packages (2.32.3)\r\n",
      "Collecting pynacl>=1.4.0 (from PyGithub)\r\n",
      "  Downloading PyNaCl-1.5.0-cp36-abi3-manylinux_2_17_x86_64.manylinux2014_x86_64.manylinux_2_24_x86_64.whl.metadata (8.6 kB)\r\n",
      "Requirement already satisfied: pyjwt>=2.4.0 in /opt/conda/lib/python3.10/site-packages (from pyjwt[crypto]>=2.4.0->PyGithub) (2.8.0)\r\n",
      "Requirement already satisfied: typing-extensions>=4.0.0 in /opt/conda/lib/python3.10/site-packages (from PyGithub) (4.12.2)\r\n",
      "Requirement already satisfied: urllib3>=1.26.0 in /opt/conda/lib/python3.10/site-packages (from PyGithub) (1.26.18)\r\n",
      "Requirement already satisfied: Deprecated in /opt/conda/lib/python3.10/site-packages (from PyGithub) (1.2.14)\r\n",
      "Requirement already satisfied: charset-normalizer<4,>=2 in /opt/conda/lib/python3.10/site-packages (from requests) (3.3.2)\r\n",
      "Requirement already satisfied: idna<4,>=2.5 in /opt/conda/lib/python3.10/site-packages (from requests) (3.7)\r\n",
      "Requirement already satisfied: certifi>=2017.4.17 in /opt/conda/lib/python3.10/site-packages (from requests) (2024.6.2)\r\n",
      "Requirement already satisfied: cryptography>=3.4.0 in /opt/conda/lib/python3.10/site-packages (from pyjwt[crypto]>=2.4.0->PyGithub) (42.0.8)\r\n",
      "Requirement already satisfied: cffi>=1.4.1 in /opt/conda/lib/python3.10/site-packages (from pynacl>=1.4.0->PyGithub) (1.16.0)\r\n",
      "Requirement already satisfied: wrapt<2,>=1.10 in /opt/conda/lib/python3.10/site-packages (from Deprecated->PyGithub) (1.16.0)\r\n",
      "Requirement already satisfied: pycparser in /opt/conda/lib/python3.10/site-packages (from cffi>=1.4.1->pynacl>=1.4.0->PyGithub) (2.22)\r\n",
      "Downloading PyGithub-2.5.0-py3-none-any.whl (375 kB)\r\n",
      "\u001b[2K   \u001b[90m━━━━━━━━━━━━━━━━━━━━━━━━━━━━━━━━━━━━━━━━\u001b[0m \u001b[32m375.9/375.9 kB\u001b[0m \u001b[31m8.0 MB/s\u001b[0m eta \u001b[36m0:00:00\u001b[0m\r\n",
      "\u001b[?25hDownloading PyNaCl-1.5.0-cp36-abi3-manylinux_2_17_x86_64.manylinux2014_x86_64.manylinux_2_24_x86_64.whl (856 kB)\r\n",
      "\u001b[2K   \u001b[90m━━━━━━━━━━━━━━━━━━━━━━━━━━━━━━━━━━━━━━━━\u001b[0m \u001b[32m856.7/856.7 kB\u001b[0m \u001b[31m31.2 MB/s\u001b[0m eta \u001b[36m0:00:00\u001b[0m\r\n",
      "\u001b[?25hInstalling collected packages: pynacl, PyGithub\r\n",
      "Successfully installed PyGithub-2.5.0 pynacl-1.5.0\r\n"
     ]
    }
   ],
   "source": [
    "! pip install PyGithub requests"
   ]
  },
  {
   "cell_type": "code",
   "execution_count": 4,
   "id": "ca3f10ff",
   "metadata": {
    "_kg_hide-input": false,
    "execution": {
     "iopub.execute_input": "2024-12-16T12:30:59.373052Z",
     "iopub.status.busy": "2024-12-16T12:30:59.372585Z",
     "iopub.status.idle": "2024-12-16T12:33:38.388468Z",
     "shell.execute_reply": "2024-12-16T12:33:38.387073Z"
    },
    "papermill": {
     "duration": 159.030397,
     "end_time": "2024-12-16T12:33:38.391164",
     "exception": false,
     "start_time": "2024-12-16T12:30:59.360767",
     "status": "completed"
    },
    "tags": []
   },
   "outputs": [
    {
     "name": "stdout",
     "output_type": "stream",
     "text": [
      "/kaggle/working/RECsys_Challenge2024\n",
      "run_compile_all_cython: Found 11 Cython files in 5 folders...\r\n",
      "run_compile_all_cython: All files will be compiled using your current python environment: '/opt/conda/bin/python'\r\n",
      "Compiling [1/11]: MatrixFactorizationImpressions_Cython_Epoch.pyx... \r\n",
      "In file included from \u001b[01m\u001b[K/opt/conda/lib/python3.10/site-packages/numpy/core/include/numpy/ndarraytypes.h:1929\u001b[m\u001b[K,\r\n",
      "                 from \u001b[01m\u001b[K/opt/conda/lib/python3.10/site-packages/numpy/core/include/numpy/ndarrayobject.h:12\u001b[m\u001b[K,\r\n",
      "                 from \u001b[01m\u001b[K/opt/conda/lib/python3.10/site-packages/numpy/core/include/numpy/arrayobject.h:5\u001b[m\u001b[K,\r\n",
      "                 from \u001b[01m\u001b[KMatrixFactorizationImpressions_Cython_Epoch.c:1252\u001b[m\u001b[K:\r\n",
      "\u001b[01m\u001b[K/opt/conda/lib/python3.10/site-packages/numpy/core/include/numpy/npy_1_7_deprecated_api.h:17:2:\u001b[m\u001b[K \u001b[01;35m\u001b[Kwarning: \u001b[m\u001b[K#warning \"Using deprecated NumPy API, disable it with \" \"#define NPY_NO_DEPRECATED_API NPY_1_7_API_VERSION\" [\u001b[01;35m\u001b[K-Wcpp\u001b[m\u001b[K]\r\n",
      "   17 | #\u001b[01;35m\u001b[Kwarning\u001b[m\u001b[K \"Using deprecated NumPy API, disable it with \" \\\r\n",
      "      |  \u001b[01;35m\u001b[K^~~~~~~\u001b[m\u001b[K\r\n",
      "\u001b[01m\u001b[KMatrixFactorizationImpressions_Cython_Epoch.c:\u001b[m\u001b[K In function '\u001b[01m\u001b[K__pyx_f_43MatrixFactorizationImpressions_Cython_Epoch_32MatrixFactorization_Cython_Epoch_sampleBPR_Cython\u001b[m\u001b[K':\r\n",
      "\u001b[01m\u001b[KMatrixFactorizationImpressions_Cython_Epoch.c:30351:17:\u001b[m\u001b[K \u001b[01;35m\u001b[Kwarning: \u001b[m\u001b[K'\u001b[01m\u001b[K__pyx_v_start_pos_impression_items\u001b[m\u001b[K' may be used uninitialized in this function [\u001b[01;35m\u001b[K-Wmaybe-uninitialized\u001b[m\u001b[K]\r\n",
      "30351 |       \u001b[01;35m\u001b[K__pyx_t_4 = (__pyx_v_start_pos_impression_items + __pyx_v_index)\u001b[m\u001b[K;\r\n",
      "      |       \u001b[01;35m\u001b[K~~~~~~~~~~^~~~~~~~~~~~~~~~~~~~~~~~~~~~~~~~~~~~~~~~~~~~~~~~~~~~~~\u001b[m\u001b[K\r\n",
      "\u001b[01m\u001b[KMatrixFactorizationImpressions_Cython_Epoch.c:\u001b[m\u001b[K In function '\u001b[01m\u001b[K__pyx_pf_43MatrixFactorizationImpressions_Cython_Epoch_32MatrixFactorization_Cython_Epoch_10epochIteration_Cython_ASY_SVD_SGD\u001b[m\u001b[K':\r\n",
      "\u001b[01m\u001b[KMatrixFactorizationImpressions_Cython_Epoch.c:26111:7:\u001b[m\u001b[K \u001b[01;35m\u001b[Kwarning: \u001b[m\u001b[K'\u001b[01m\u001b[K__pyx_v_end_pos_seen_items\u001b[m\u001b[K' may be used uninitialized in this function [\u001b[01;35m\u001b[K-Wmaybe-uninitialized\u001b[m\u001b[K]\r\n",
      "26111 |       \u001b[01;35m\u001b[Kfor\u001b[m\u001b[K (__pyx_t_21 = __pyx_v_start_pos_seen_items; __pyx_t_21 < __pyx_t_20; __pyx_t_21+=1) {\r\n",
      "      |       \u001b[01;35m\u001b[K^~~\u001b[m\u001b[K\r\n",
      "\u001b[01m\u001b[KMatrixFactorizationImpressions_Cython_Epoch.c:26111:7:\u001b[m\u001b[K \u001b[01;35m\u001b[Kwarning: \u001b[m\u001b[K'\u001b[01m\u001b[K__pyx_v_start_pos_seen_items\u001b[m\u001b[K' may be used uninitialized in this function [\u001b[01;35m\u001b[K-Wmaybe-uninitialized\u001b[m\u001b[K]\r\n",
      "/opt/conda/lib/python3.10/site-packages/Cython/Compiler/Main.py:381: FutureWarning: Cython directive 'language_level' not set, using '3str' for now (Py3). This has changed from earlier releases! File: /kaggle/working/RECsys_Challenge2024/Recommenders/MatrixFactorization/Cython/MatrixFactorizationImpressions_Cython_Epoch.pyx\r\n",
      "  tree = Parsing.p_module(s, pxd, full_module_name)\r\n",
      "Compiling [1/11]: MatrixFactorizationImpressions_Cython_Epoch.pyx... PASS\r\n",
      "\r\n",
      "Compiling [2/11]: MatrixFactorization_Cython_Epoch.pyx... \r\n",
      "In file included from \u001b[01m\u001b[K/opt/conda/lib/python3.10/site-packages/numpy/core/include/numpy/ndarraytypes.h:1929\u001b[m\u001b[K,\r\n",
      "                 from \u001b[01m\u001b[K/opt/conda/lib/python3.10/site-packages/numpy/core/include/numpy/ndarrayobject.h:12\u001b[m\u001b[K,\r\n",
      "                 from \u001b[01m\u001b[K/opt/conda/lib/python3.10/site-packages/numpy/core/include/numpy/arrayobject.h:5\u001b[m\u001b[K,\r\n",
      "                 from \u001b[01m\u001b[KMatrixFactorization_Cython_Epoch.c:1252\u001b[m\u001b[K:\r\n",
      "\u001b[01m\u001b[K/opt/conda/lib/python3.10/site-packages/numpy/core/include/numpy/npy_1_7_deprecated_api.h:17:2:\u001b[m\u001b[K \u001b[01;35m\u001b[Kwarning: \u001b[m\u001b[K#warning \"Using deprecated NumPy API, disable it with \" \"#define NPY_NO_DEPRECATED_API NPY_1_7_API_VERSION\" [\u001b[01;35m\u001b[K-Wcpp\u001b[m\u001b[K]\r\n",
      "   17 | #\u001b[01;35m\u001b[Kwarning\u001b[m\u001b[K \"Using deprecated NumPy API, disable it with \" \\\r\n",
      "      |  \u001b[01;35m\u001b[K^~~~~~~\u001b[m\u001b[K\r\n",
      "\u001b[01m\u001b[KMatrixFactorization_Cython_Epoch.c:\u001b[m\u001b[K In function '\u001b[01m\u001b[K__pyx_pf_32MatrixFactorization_Cython_Epoch_32MatrixFactorization_Cython_Epoch_10epochIteration_Cython_ASY_SVD_SGD\u001b[m\u001b[K':\r\n",
      "\u001b[01m\u001b[KMatrixFactorization_Cython_Epoch.c:26255:9:\u001b[m\u001b[K \u001b[01;35m\u001b[Kwarning: \u001b[m\u001b[K'\u001b[01m\u001b[K__pyx_v_end_pos_seen_items\u001b[m\u001b[K' may be used uninitialized in this function [\u001b[01;35m\u001b[K-Wmaybe-uninitialized\u001b[m\u001b[K]\r\n",
      "26255 |         \u001b[01;35m\u001b[Kfor\u001b[m\u001b[K (__pyx_t_21 = __pyx_v_start_pos_seen_items; __pyx_t_21 < __pyx_t_20; __pyx_t_21+=1) {\r\n",
      "      |         \u001b[01;35m\u001b[K^~~\u001b[m\u001b[K\r\n",
      "\u001b[01m\u001b[KMatrixFactorization_Cython_Epoch.c:26255:9:\u001b[m\u001b[K \u001b[01;35m\u001b[Kwarning: \u001b[m\u001b[K'\u001b[01m\u001b[K__pyx_v_start_pos_seen_items\u001b[m\u001b[K' may be used uninitialized in this function [\u001b[01;35m\u001b[K-Wmaybe-uninitialized\u001b[m\u001b[K]\r\n",
      "/opt/conda/lib/python3.10/site-packages/Cython/Compiler/Main.py:381: FutureWarning: Cython directive 'language_level' not set, using '3str' for now (Py3). This has changed from earlier releases! File: /kaggle/working/RECsys_Challenge2024/Recommenders/MatrixFactorization/Cython/MatrixFactorization_Cython_Epoch.pyx\r\n",
      "  tree = Parsing.p_module(s, pxd, full_module_name)\r\n",
      "Compiling [2/11]: MatrixFactorization_Cython_Epoch.pyx... PASS\r\n",
      "\r\n",
      "Compiling [3/11]: Compute_Similarity_Cython.pyx... \r\n",
      "warning: Compute_Similarity_Cython.pyx:21:0: The 'IF' statement is deprecated and will be removed in a future Cython version. Consider using runtime conditions or C macros instead. See https://github.com/cython/cython/issues/4310\r\n",
      "In file included from \u001b[01m\u001b[K/opt/conda/lib/python3.10/site-packages/numpy/core/include/numpy/ndarraytypes.h:1929\u001b[m\u001b[K,\r\n",
      "                 from \u001b[01m\u001b[K/opt/conda/lib/python3.10/site-packages/numpy/core/include/numpy/ndarrayobject.h:12\u001b[m\u001b[K,\r\n",
      "                 from \u001b[01m\u001b[K/opt/conda/lib/python3.10/site-packages/numpy/core/include/numpy/arrayobject.h:5\u001b[m\u001b[K,\r\n",
      "                 from \u001b[01m\u001b[KCompute_Similarity_Cython.c:1252\u001b[m\u001b[K:\r\n",
      "\u001b[01m\u001b[K/opt/conda/lib/python3.10/site-packages/numpy/core/include/numpy/npy_1_7_deprecated_api.h:17:2:\u001b[m\u001b[K \u001b[01;35m\u001b[Kwarning: \u001b[m\u001b[K#warning \"Using deprecated NumPy API, disable it with \" \"#define NPY_NO_DEPRECATED_API NPY_1_7_API_VERSION\" [\u001b[01;35m\u001b[K-Wcpp\u001b[m\u001b[K]\r\n",
      "   17 | #\u001b[01;35m\u001b[Kwarning\u001b[m\u001b[K \"Using deprecated NumPy API, disable it with \" \\\r\n",
      "      |  \u001b[01;35m\u001b[K^~~~~~~\u001b[m\u001b[K\r\n",
      "/opt/conda/lib/python3.10/site-packages/Cython/Compiler/Main.py:381: FutureWarning: Cython directive 'language_level' not set, using '3str' for now (Py3). This has changed from earlier releases! File: /kaggle/working/RECsys_Challenge2024/Recommenders/Similarity/Cython/Compute_Similarity_Cython.pyx\r\n",
      "  tree = Parsing.p_module(s, pxd, full_module_name)\r\n",
      "warning: Compute_Similarity_Cython.pyx:21:0: The 'IF' statement is deprecated and will be removed in a future Cython version. Consider using runtime conditions or C macros instead. See https://github.com/cython/cython/issues/4310\r\n",
      "Compiling [3/11]: Compute_Similarity_Cython.pyx... PASS\r\n",
      "\r\n",
      "Compiling [4/11]: SLIM_BPR_Cython_Epoch.pyx... \r\n",
      "warning: SLIM_BPR_Cython_Epoch.pyx:24:0: The 'IF' statement is deprecated and will be removed in a future Cython version. Consider using runtime conditions or C macros instead. See https://github.com/cython/cython/issues/4310\r\n",
      "warning: SLIM_BPR_Cython_Epoch.pyx:632:34: Non-trivial type declarators in shared declaration (e.g. mix of pointers and values). Each pointer declaration should be on its own line.\r\n",
      "warning: SLIM_BPR_Cython_Epoch.pyx:632:66: Non-trivial type declarators in shared declaration (e.g. mix of pointers and values). Each pointer declaration should be on its own line.\r\n",
      "warning: SLIM_BPR_Cython_Epoch.pyx:817:35: Non-trivial type declarators in shared declaration (e.g. mix of pointers and values). Each pointer declaration should be on its own line.\r\n",
      "warning: SLIM_BPR_Cython_Epoch.pyx:817:52: Non-trivial type declarators in shared declaration (e.g. mix of pointers and values). Each pointer declaration should be on its own line.\r\n",
      "warning: SLIM_BPR_Cython_Epoch.pyx:916:35: Non-trivial type declarators in shared declaration (e.g. mix of pointers and values). Each pointer declaration should be on its own line.\r\n",
      "warning: SLIM_BPR_Cython_Epoch.pyx:916:53: Non-trivial type declarators in shared declaration (e.g. mix of pointers and values). Each pointer declaration should be on its own line.\r\n",
      "warning: SLIM_BPR_Cython_Epoch.pyx:916:69: Non-trivial type declarators in shared declaration (e.g. mix of pointers and values). Each pointer declaration should be on its own line.\r\n",
      "warning: SLIM_BPR_Cython_Epoch.pyx:1051:35: Non-trivial type declarators in shared declaration (e.g. mix of pointers and values). Each pointer declaration should be on its own line.\r\n",
      "warning: SLIM_BPR_Cython_Epoch.pyx:1051:42: Non-trivial type declarators in shared declaration (e.g. mix of pointers and values). Each pointer declaration should be on its own line.\r\n",
      "warning: SLIM_BPR_Cython_Epoch.pyx:1052:35: Non-trivial type declarators in shared declaration (e.g. mix of pointers and values). Each pointer declaration should be on its own line.\r\n",
      "warning: SLIM_BPR_Cython_Epoch.pyx:1052:53: Non-trivial type declarators in shared declaration (e.g. mix of pointers and values). Each pointer declaration should be on its own line.\r\n",
      "\r\n",
      "Error compiling Cython file:\r\n",
      "------------------------------------------------------------\r\n",
      "...\r\n",
      "            vector_pointer_to_list_elements[index].head = current_element\r\n",
      "            current_element = current_element.higher\r\n",
      "\r\n",
      "\r\n",
      "        # Sort array elements on their data field\r\n",
      "        qsort(vector_pointer_to_list_elements, list_length, sizeof(head_pointer_tree_s), compare_struct_on_data)\r\n",
      "                                                                                         ^\r\n",
      "------------------------------------------------------------\r\n",
      "\r\n",
      "SLIM_BPR_Cython_Epoch.pyx:990:89: Cannot assign type 'int (const void *, const void *) except? -1' to 'int (*)(const_void *, const_void *) noexcept'. Exception values are incompatible. Suggest adding 'noexcept' to the type of 'compare_struct_on_data'.\r\n",
      "\r\n",
      "Error compiling Cython file:\r\n",
      "------------------------------------------------------------\r\n",
      "...\r\n",
      "        # Sort array elements on their data field\r\n",
      "        qsort(vector_pointer_to_list_elements, list_length, sizeof(head_pointer_tree_s), compare_struct_on_data)\r\n",
      "\r\n",
      "        # Sort only the TopK according to their column field\r\n",
      "        # Sort is from lower to higher, therefore the elements to be considered are from len-topK to len\r\n",
      "        qsort(&vector_pointer_to_list_elements[list_length-TopK], TopK, sizeof(head_pointer_tree_s), compare_struct_on_column)\r\n",
      "                                                                                                     ^\r\n",
      "------------------------------------------------------------\r\n",
      "\r\n",
      "SLIM_BPR_Cython_Epoch.pyx:994:101: Cannot assign type 'int (const void *, const void *) except? -1' to 'int (*)(const_void *, const_void *) noexcept'. Exception values are incompatible. Suggest adding 'noexcept' to the type of 'compare_struct_on_column'.\r\n",
      "Traceback (most recent call last):\r\n",
      "  File \"/kaggle/working/RECsys_Challenge2024/CythonCompiler/compile_script.py\", line 48, in <module>\r\n",
      "    setup(\r\n",
      "  File \"/opt/conda/lib/python3.10/site-packages/setuptools/__init__.py\", line 103, in setup\r\n",
      "    return distutils.core.setup(**attrs)\r\n",
      "  File \"/opt/conda/lib/python3.10/site-packages/setuptools/_distutils/core.py\", line 184, in setup\r\n",
      "    return run_commands(dist)\r\n",
      "  File \"/opt/conda/lib/python3.10/site-packages/setuptools/_distutils/core.py\", line 200, in run_commands\r\n",
      "    dist.run_commands()\r\n",
      "  File \"/opt/conda/lib/python3.10/site-packages/setuptools/_distutils/dist.py\", line 969, in run_commands\r\n",
      "    self.run_command(cmd)\r\n",
      "  File \"/opt/conda/lib/python3.10/site-packages/setuptools/dist.py\", line 968, in run_command\r\n",
      "    super().run_command(command)\r\n",
      "  File \"/opt/conda/lib/python3.10/site-packages/setuptools/_distutils/dist.py\", line 988, in run_command\r\n",
      "    cmd_obj.run()\r\n",
      "  File \"/opt/conda/lib/python3.10/site-packages/setuptools/_distutils/command/build_ext.py\", line 359, in run\r\n",
      "    self.build_extensions()\r\n",
      "  File \"/opt/conda/lib/python3.10/site-packages/setuptools/_distutils/command/build_ext.py\", line 479, in build_extensions\r\n",
      "    self._build_extensions_serial()\r\n",
      "  File \"/opt/conda/lib/python3.10/site-packages/setuptools/_distutils/command/build_ext.py\", line 505, in _build_extensions_serial\r\n",
      "    self.build_extension(ext)\r\n",
      "  File \"/opt/conda/lib/python3.10/site-packages/Cython/Distutils/build_ext.py\", line 130, in build_extension\r\n",
      "    new_ext = cythonize(\r\n",
      "  File \"/opt/conda/lib/python3.10/site-packages/Cython/Build/Dependencies.py\", line 1154, in cythonize\r\n",
      "    cythonize_one(*args)\r\n",
      "  File \"/opt/conda/lib/python3.10/site-packages/Cython/Build/Dependencies.py\", line 1321, in cythonize_one\r\n",
      "    raise CompileError(None, pyx_file)\r\n",
      "Cython.Compiler.Errors.CompileError: SLIM_BPR_Cython_Epoch.pyx\r\n",
      "Traceback (most recent call last):\r\n",
      "  File \"/kaggle/working/RECsys_Challenge2024/run_compile_all_cython.py\", line 60, in <module>\r\n",
      "    run_compile_subprocess(file_path, [file_name])\r\n",
      "  File \"/kaggle/working/RECsys_Challenge2024/CythonCompiler/run_compile_subprocess.py\", line 51, in run_compile_subprocess\r\n",
      "    raise exc\r\n",
      "  File \"/kaggle/working/RECsys_Challenge2024/CythonCompiler/run_compile_subprocess.py\", line 32, in run_compile_subprocess\r\n",
      "    output = subprocess.check_output(' '.join(command),\r\n",
      "  File \"/opt/conda/lib/python3.10/subprocess.py\", line 421, in check_output\r\n",
      "    return run(*popenargs, stdout=PIPE, timeout=timeout, check=True,\r\n",
      "  File \"/opt/conda/lib/python3.10/subprocess.py\", line 526, in run\r\n",
      "    raise CalledProcessError(retcode, process.args,\r\n",
      "subprocess.CalledProcessError: Command '/opt/conda/bin/python /kaggle/working/RECsys_Challenge2024/CythonCompiler/compile_script.py SLIM_BPR_Cython_Epoch.pyx build_ext --inplace' returned non-zero exit status 1.\r\n",
      "Compiling [4/11]: SLIM_BPR_Cython_Epoch.pyx... FAIL: Command '/opt/conda/bin/python /kaggle/working/RECsys_Challenge2024/CythonCompiler/compile_script.py SLIM_BPR_Cython_Epoch.pyx build_ext --inplace' returned non-zero exit status 1.\r\n",
      "\r\n",
      "Compiling [5/11]: Sparse_Matrix_Tree_CSR.pyx... \r\n",
      "warning: Sparse_Matrix_Tree_CSR.pyx:132:34: Non-trivial type declarators in shared declaration (e.g. mix of pointers and values). Each pointer declaration should be on its own line.\r\n",
      "warning: Sparse_Matrix_Tree_CSR.pyx:132:66: Non-trivial type declarators in shared declaration (e.g. mix of pointers and values). Each pointer declaration should be on its own line.\r\n",
      "warning: Sparse_Matrix_Tree_CSR.pyx:343:35: Non-trivial type declarators in shared declaration (e.g. mix of pointers and values). Each pointer declaration should be on its own line.\r\n",
      "warning: Sparse_Matrix_Tree_CSR.pyx:343:52: Non-trivial type declarators in shared declaration (e.g. mix of pointers and values). Each pointer declaration should be on its own line.\r\n",
      "warning: Sparse_Matrix_Tree_CSR.pyx:442:35: Non-trivial type declarators in shared declaration (e.g. mix of pointers and values). Each pointer declaration should be on its own line.\r\n",
      "warning: Sparse_Matrix_Tree_CSR.pyx:442:53: Non-trivial type declarators in shared declaration (e.g. mix of pointers and values). Each pointer declaration should be on its own line.\r\n",
      "warning: Sparse_Matrix_Tree_CSR.pyx:442:69: Non-trivial type declarators in shared declaration (e.g. mix of pointers and values). Each pointer declaration should be on its own line.\r\n",
      "warning: Sparse_Matrix_Tree_CSR.pyx:577:35: Non-trivial type declarators in shared declaration (e.g. mix of pointers and values). Each pointer declaration should be on its own line.\r\n",
      "warning: Sparse_Matrix_Tree_CSR.pyx:577:42: Non-trivial type declarators in shared declaration (e.g. mix of pointers and values). Each pointer declaration should be on its own line.\r\n",
      "warning: Sparse_Matrix_Tree_CSR.pyx:578:35: Non-trivial type declarators in shared declaration (e.g. mix of pointers and values). Each pointer declaration should be on its own line.\r\n",
      "warning: Sparse_Matrix_Tree_CSR.pyx:578:53: Non-trivial type declarators in shared declaration (e.g. mix of pointers and values). Each pointer declaration should be on its own line.\r\n",
      "\r\n",
      "Error compiling Cython file:\r\n",
      "------------------------------------------------------------\r\n",
      "...\r\n",
      "            vector_pointer_to_list_elements[index].head = current_element\r\n",
      "            current_element = current_element.higher\r\n",
      "\r\n",
      "\r\n",
      "        # Sort array elements on their data field\r\n",
      "        qsort(vector_pointer_to_list_elements, list_length, sizeof(head_pointer_tree_s), compare_struct_on_data)\r\n",
      "                                                                                         ^\r\n",
      "------------------------------------------------------------\r\n",
      "\r\n",
      "Sparse_Matrix_Tree_CSR.pyx:516:89: Cannot assign type 'int (const void *, const void *) except? -1' to 'int (*)(const_void *, const_void *) noexcept'. Exception values are incompatible. Suggest adding 'noexcept' to the type of 'compare_struct_on_data'.\r\n",
      "\r\n",
      "Error compiling Cython file:\r\n",
      "------------------------------------------------------------\r\n",
      "...\r\n",
      "        # Sort array elements on their data field\r\n",
      "        qsort(vector_pointer_to_list_elements, list_length, sizeof(head_pointer_tree_s), compare_struct_on_data)\r\n",
      "\r\n",
      "        # Sort only the TopK according to their column field\r\n",
      "        # Sort is from lower to higher, therefore the elements to be considered are from len-topK to len\r\n",
      "        qsort(&vector_pointer_to_list_elements[list_length-TopK], TopK, sizeof(head_pointer_tree_s), compare_struct_on_column)\r\n",
      "                                                                                                     ^\r\n",
      "------------------------------------------------------------\r\n",
      "\r\n",
      "Sparse_Matrix_Tree_CSR.pyx:520:101: Cannot assign type 'int (const void *, const void *) except? -1' to 'int (*)(const_void *, const_void *) noexcept'. Exception values are incompatible. Suggest adding 'noexcept' to the type of 'compare_struct_on_column'.\r\n",
      "Traceback (most recent call last):\r\n",
      "  File \"/kaggle/working/RECsys_Challenge2024/CythonCompiler/compile_script.py\", line 48, in <module>\r\n",
      "    setup(\r\n",
      "  File \"/opt/conda/lib/python3.10/site-packages/setuptools/__init__.py\", line 103, in setup\r\n",
      "    return distutils.core.setup(**attrs)\r\n",
      "  File \"/opt/conda/lib/python3.10/site-packages/setuptools/_distutils/core.py\", line 184, in setup\r\n",
      "    return run_commands(dist)\r\n",
      "  File \"/opt/conda/lib/python3.10/site-packages/setuptools/_distutils/core.py\", line 200, in run_commands\r\n",
      "    dist.run_commands()\r\n",
      "  File \"/opt/conda/lib/python3.10/site-packages/setuptools/_distutils/dist.py\", line 969, in run_commands\r\n",
      "    self.run_command(cmd)\r\n",
      "  File \"/opt/conda/lib/python3.10/site-packages/setuptools/dist.py\", line 968, in run_command\r\n",
      "    super().run_command(command)\r\n",
      "  File \"/opt/conda/lib/python3.10/site-packages/setuptools/_distutils/dist.py\", line 988, in run_command\r\n",
      "    cmd_obj.run()\r\n",
      "  File \"/opt/conda/lib/python3.10/site-packages/setuptools/_distutils/command/build_ext.py\", line 359, in run\r\n",
      "    self.build_extensions()\r\n",
      "  File \"/opt/conda/lib/python3.10/site-packages/setuptools/_distutils/command/build_ext.py\", line 479, in build_extensions\r\n",
      "    self._build_extensions_serial()\r\n",
      "  File \"/opt/conda/lib/python3.10/site-packages/setuptools/_distutils/command/build_ext.py\", line 505, in _build_extensions_serial\r\n",
      "    self.build_extension(ext)\r\n",
      "  File \"/opt/conda/lib/python3.10/site-packages/Cython/Distutils/build_ext.py\", line 130, in build_extension\r\n",
      "    new_ext = cythonize(\r\n",
      "  File \"/opt/conda/lib/python3.10/site-packages/Cython/Build/Dependencies.py\", line 1154, in cythonize\r\n",
      "    cythonize_one(*args)\r\n",
      "  File \"/opt/conda/lib/python3.10/site-packages/Cython/Build/Dependencies.py\", line 1321, in cythonize_one\r\n",
      "    raise CompileError(None, pyx_file)\r\n",
      "Cython.Compiler.Errors.CompileError: Sparse_Matrix_Tree_CSR.pyx\r\n",
      "Traceback (most recent call last):\r\n",
      "  File \"/kaggle/working/RECsys_Challenge2024/run_compile_all_cython.py\", line 60, in <module>\r\n",
      "    run_compile_subprocess(file_path, [file_name])\r\n",
      "  File \"/kaggle/working/RECsys_Challenge2024/CythonCompiler/run_compile_subprocess.py\", line 51, in run_compile_subprocess\r\n",
      "    raise exc\r\n",
      "  File \"/kaggle/working/RECsys_Challenge2024/CythonCompiler/run_compile_subprocess.py\", line 32, in run_compile_subprocess\r\n",
      "    output = subprocess.check_output(' '.join(command),\r\n",
      "  File \"/opt/conda/lib/python3.10/subprocess.py\", line 421, in check_output\r\n",
      "    return run(*popenargs, stdout=PIPE, timeout=timeout, check=True,\r\n",
      "  File \"/opt/conda/lib/python3.10/subprocess.py\", line 526, in run\r\n",
      "    raise CalledProcessError(retcode, process.args,\r\n",
      "subprocess.CalledProcessError: Command '/opt/conda/bin/python /kaggle/working/RECsys_Challenge2024/CythonCompiler/compile_script.py Sparse_Matrix_Tree_CSR.pyx build_ext --inplace' returned non-zero exit status 1.\r\n",
      "Compiling [5/11]: Sparse_Matrix_Tree_CSR.pyx... FAIL: Command '/opt/conda/bin/python /kaggle/working/RECsys_Challenge2024/CythonCompiler/compile_script.py Sparse_Matrix_Tree_CSR.pyx build_ext --inplace' returned non-zero exit status 1.\r\n",
      "\r\n",
      "Compiling [6/11]: Triangular_Matrix.pyx... \r\n",
      "warning: Triangular_Matrix.pyx:22:0: The 'IF' statement is deprecated and will be removed in a future Cython version. Consider using runtime conditions or C macros instead. See https://github.com/cython/cython/issues/4310\r\n",
      "In file included from \u001b[01m\u001b[K/opt/conda/lib/python3.10/site-packages/numpy/core/include/numpy/ndarraytypes.h:1929\u001b[m\u001b[K,\r\n",
      "                 from \u001b[01m\u001b[K/opt/conda/lib/python3.10/site-packages/numpy/core/include/numpy/ndarrayobject.h:12\u001b[m\u001b[K,\r\n",
      "                 from \u001b[01m\u001b[K/opt/conda/lib/python3.10/site-packages/numpy/core/include/numpy/arrayobject.h:5\u001b[m\u001b[K,\r\n",
      "                 from \u001b[01m\u001b[KTriangular_Matrix.c:1252\u001b[m\u001b[K:\r\n",
      "\u001b[01m\u001b[K/opt/conda/lib/python3.10/site-packages/numpy/core/include/numpy/npy_1_7_deprecated_api.h:17:2:\u001b[m\u001b[K \u001b[01;35m\u001b[Kwarning: \u001b[m\u001b[K#warning \"Using deprecated NumPy API, disable it with \" \"#define NPY_NO_DEPRECATED_API NPY_1_7_API_VERSION\" [\u001b[01;35m\u001b[K-Wcpp\u001b[m\u001b[K]\r\n",
      "   17 | #\u001b[01;35m\u001b[Kwarning\u001b[m\u001b[K \"Using deprecated NumPy API, disable it with \" \\\r\n",
      "      |  \u001b[01;35m\u001b[K^~~~~~~\u001b[m\u001b[K\r\n",
      "/opt/conda/lib/python3.10/site-packages/Cython/Compiler/Main.py:381: FutureWarning: Cython directive 'language_level' not set, using '3str' for now (Py3). This has changed from earlier releases! File: /kaggle/working/RECsys_Challenge2024/Recommenders/SLIM/Cython/Triangular_Matrix.pyx\r\n",
      "  tree = Parsing.p_module(s, pxd, full_module_name)\r\n",
      "warning: Triangular_Matrix.pyx:22:0: The 'IF' statement is deprecated and will be removed in a future Cython version. Consider using runtime conditions or C macros instead. See https://github.com/cython/cython/issues/4310\r\n",
      "Compiling [6/11]: Triangular_Matrix.pyx... PASS\r\n",
      "\r\n",
      "Compiling [7/11]: CFW_D_Similarity_Cython_SGD.pyx... \r\n",
      "In file included from \u001b[01m\u001b[K/opt/conda/lib/python3.10/site-packages/numpy/core/include/numpy/ndarraytypes.h:1929\u001b[m\u001b[K,\r\n",
      "                 from \u001b[01m\u001b[K/opt/conda/lib/python3.10/site-packages/numpy/core/include/numpy/ndarrayobject.h:12\u001b[m\u001b[K,\r\n",
      "                 from \u001b[01m\u001b[K/opt/conda/lib/python3.10/site-packages/numpy/core/include/numpy/arrayobject.h:5\u001b[m\u001b[K,\r\n",
      "                 from \u001b[01m\u001b[KCFW_D_Similarity_Cython_SGD.c:1252\u001b[m\u001b[K:\r\n",
      "\u001b[01m\u001b[K/opt/conda/lib/python3.10/site-packages/numpy/core/include/numpy/npy_1_7_deprecated_api.h:17:2:\u001b[m\u001b[K \u001b[01;35m\u001b[Kwarning: \u001b[m\u001b[K#warning \"Using deprecated NumPy API, disable it with \" \"#define NPY_NO_DEPRECATED_API NPY_1_7_API_VERSION\" [\u001b[01;35m\u001b[K-Wcpp\u001b[m\u001b[K]\r\n",
      "   17 | #\u001b[01;35m\u001b[Kwarning\u001b[m\u001b[K \"Using deprecated NumPy API, disable it with \" \\\r\n",
      "      |  \u001b[01;35m\u001b[K^~~~~~~\u001b[m\u001b[K\r\n",
      "\u001b[01m\u001b[KCFW_D_Similarity_Cython_SGD.c:\u001b[m\u001b[K In function '\u001b[01m\u001b[K__pyx_pf_27CFW_D_Similarity_Cython_SGD_27CFW_D_Similarity_Cython_SGD_6fit\u001b[m\u001b[K':\r\n",
      "\u001b[01m\u001b[KCFW_D_Similarity_Cython_SGD.c:23373:55:\u001b[m\u001b[K \u001b[01;35m\u001b[Kwarning: \u001b[m\u001b[K'\u001b[01m\u001b[K__pyx_v_sample_num\u001b[m\u001b[K' may be used uninitialized in this function [\u001b[01;35m\u001b[K-Wmaybe-uninitialized\u001b[m\u001b[K]\r\n",
      "23373 |   __pyx_t_3 = PyFloat_FromDouble((__pyx_v_cum_loss / \u001b[01;35m\u001b[K((double)__pyx_v_sample_num)\u001b[m\u001b[K)); if (unlikely(!__pyx_t_3)) __PYX_ERR(0, 290, __pyx_L1_error)\r\n",
      "      |                                                      \u001b[01;35m\u001b[K~^~~~~~~~~~~~~~~~~~~~~~~~~~~\u001b[m\u001b[K\r\n",
      "/opt/conda/lib/python3.10/site-packages/Cython/Compiler/Main.py:381: FutureWarning: Cython directive 'language_level' not set, using '3str' for now (Py3). This has changed from earlier releases! File: /kaggle/working/RECsys_Challenge2024/Recommenders/FeatureWeighting/Cython/CFW_D_Similarity_Cython_SGD.pyx\r\n",
      "  tree = Parsing.p_module(s, pxd, full_module_name)\r\n",
      "Compiling [7/11]: CFW_D_Similarity_Cython_SGD.pyx... PASS\r\n",
      "\r\n",
      "Compiling [8/11]: CFW_DVV_Similarity_Cython_SGD.pyx... \r\n",
      "In file included from \u001b[01m\u001b[K/opt/conda/lib/python3.10/site-packages/numpy/core/include/numpy/ndarraytypes.h:1929\u001b[m\u001b[K,\r\n",
      "                 from \u001b[01m\u001b[K/opt/conda/lib/python3.10/site-packages/numpy/core/include/numpy/ndarrayobject.h:12\u001b[m\u001b[K,\r\n",
      "                 from \u001b[01m\u001b[K/opt/conda/lib/python3.10/site-packages/numpy/core/include/numpy/arrayobject.h:5\u001b[m\u001b[K,\r\n",
      "                 from \u001b[01m\u001b[KCFW_DVV_Similarity_Cython_SGD.c:1252\u001b[m\u001b[K:\r\n",
      "\u001b[01m\u001b[K/opt/conda/lib/python3.10/site-packages/numpy/core/include/numpy/npy_1_7_deprecated_api.h:17:2:\u001b[m\u001b[K \u001b[01;35m\u001b[Kwarning: \u001b[m\u001b[K#warning \"Using deprecated NumPy API, disable it with \" \"#define NPY_NO_DEPRECATED_API NPY_1_7_API_VERSION\" [\u001b[01;35m\u001b[K-Wcpp\u001b[m\u001b[K]\r\n",
      "   17 | #\u001b[01;35m\u001b[Kwarning\u001b[m\u001b[K \"Using deprecated NumPy API, disable it with \" \\\r\n",
      "      |  \u001b[01;35m\u001b[K^~~~~~~\u001b[m\u001b[K\r\n",
      "/opt/conda/lib/python3.10/site-packages/Cython/Compiler/Main.py:381: FutureWarning: Cython directive 'language_level' not set, using '3str' for now (Py3). This has changed from earlier releases! File: /kaggle/working/RECsys_Challenge2024/Recommenders/FeatureWeighting/Cython/CFW_DVV_Similarity_Cython_SGD.pyx\r\n",
      "  tree = Parsing.p_module(s, pxd, full_module_name)\r\n",
      "Compiling [8/11]: CFW_DVV_Similarity_Cython_SGD.pyx... PASS\r\n",
      "\r\n",
      "Compiling [9/11]: HP3_Similarity_Cython_SGD.pyx... \r\n",
      "performance hint: HP3_Similarity_Cython_SGD.pyx:113:40: Index should be typed for more efficient access\r\n",
      "performance hint: HP3_Similarity_Cython_SGD.pyx:114:40: Index should be typed for more efficient access\r\n",
      "In file included from \u001b[01m\u001b[K/opt/conda/lib/python3.10/site-packages/numpy/core/include/numpy/ndarraytypes.h:1929\u001b[m\u001b[K,\r\n",
      "                 from \u001b[01m\u001b[K/opt/conda/lib/python3.10/site-packages/numpy/core/include/numpy/ndarrayobject.h:12\u001b[m\u001b[K,\r\n",
      "                 from \u001b[01m\u001b[K/opt/conda/lib/python3.10/site-packages/numpy/core/include/numpy/arrayobject.h:5\u001b[m\u001b[K,\r\n",
      "                 from \u001b[01m\u001b[KHP3_Similarity_Cython_SGD.c:1252\u001b[m\u001b[K:\r\n",
      "\u001b[01m\u001b[K/opt/conda/lib/python3.10/site-packages/numpy/core/include/numpy/npy_1_7_deprecated_api.h:17:2:\u001b[m\u001b[K \u001b[01;35m\u001b[Kwarning: \u001b[m\u001b[K#warning \"Using deprecated NumPy API, disable it with \" \"#define NPY_NO_DEPRECATED_API NPY_1_7_API_VERSION\" [\u001b[01;35m\u001b[K-Wcpp\u001b[m\u001b[K]\r\n",
      "   17 | #\u001b[01;35m\u001b[Kwarning\u001b[m\u001b[K \"Using deprecated NumPy API, disable it with \" \\\r\n",
      "      |  \u001b[01;35m\u001b[K^~~~~~~\u001b[m\u001b[K\r\n",
      "\u001b[01m\u001b[KHP3_Similarity_Cython_SGD.c:\u001b[m\u001b[K In function '\u001b[01m\u001b[K__pyx_pf_25HP3_Similarity_Cython_SGD_25HP3_Similarity_Cython_SGD_4fit\u001b[m\u001b[K':\r\n",
      "\u001b[01m\u001b[KHP3_Similarity_Cython_SGD.c:23631:55:\u001b[m\u001b[K \u001b[01;35m\u001b[Kwarning: \u001b[m\u001b[K'\u001b[01m\u001b[K__pyx_v_sample_num\u001b[m\u001b[K' may be used uninitialized in this function [\u001b[01;35m\u001b[K-Wmaybe-uninitialized\u001b[m\u001b[K]\r\n",
      "23631 |   __pyx_t_1 = PyFloat_FromDouble((__pyx_v_cum_loss / \u001b[01;35m\u001b[K((double)__pyx_v_sample_num)\u001b[m\u001b[K)); if (unlikely(!__pyx_t_1)) __PYX_ERR(0, 291, __pyx_L1_error)\r\n",
      "      |                                                      \u001b[01;35m\u001b[K~^~~~~~~~~~~~~~~~~~~~~~~~~~~\u001b[m\u001b[K\r\n",
      "/opt/conda/lib/python3.10/site-packages/Cython/Compiler/Main.py:381: FutureWarning: Cython directive 'language_level' not set, using '3str' for now (Py3). This has changed from earlier releases! File: /kaggle/working/RECsys_Challenge2024/Recommenders/FeatureWeighting/Cython/HP3_Similarity_Cython_SGD.pyx\r\n",
      "  tree = Parsing.p_module(s, pxd, full_module_name)\r\n",
      "performance hint: HP3_Similarity_Cython_SGD.pyx:113:40: Index should be typed for more efficient access\r\n",
      "performance hint: HP3_Similarity_Cython_SGD.pyx:114:40: Index should be typed for more efficient access\r\n",
      "Compiling [9/11]: HP3_Similarity_Cython_SGD.pyx... PASS\r\n",
      "\r\n",
      "Compiling [10/11]: FBSM_Rating_Cython_SGD.pyx... \r\n",
      "In file included from \u001b[01m\u001b[K/opt/conda/lib/python3.10/site-packages/numpy/core/include/numpy/ndarraytypes.h:1929\u001b[m\u001b[K,\r\n",
      "                 from \u001b[01m\u001b[K/opt/conda/lib/python3.10/site-packages/numpy/core/include/numpy/ndarrayobject.h:12\u001b[m\u001b[K,\r\n",
      "                 from \u001b[01m\u001b[K/opt/conda/lib/python3.10/site-packages/numpy/core/include/numpy/arrayobject.h:5\u001b[m\u001b[K,\r\n",
      "                 from \u001b[01m\u001b[KFBSM_Rating_Cython_SGD.c:1252\u001b[m\u001b[K:\r\n",
      "\u001b[01m\u001b[K/opt/conda/lib/python3.10/site-packages/numpy/core/include/numpy/npy_1_7_deprecated_api.h:17:2:\u001b[m\u001b[K \u001b[01;35m\u001b[Kwarning: \u001b[m\u001b[K#warning \"Using deprecated NumPy API, disable it with \" \"#define NPY_NO_DEPRECATED_API NPY_1_7_API_VERSION\" [\u001b[01;35m\u001b[K-Wcpp\u001b[m\u001b[K]\r\n",
      "   17 | #\u001b[01;35m\u001b[Kwarning\u001b[m\u001b[K \"Using deprecated NumPy API, disable it with \" \\\r\n",
      "      |  \u001b[01;35m\u001b[K^~~~~~~\u001b[m\u001b[K\r\n",
      "\u001b[01m\u001b[KFBSM_Rating_Cython_SGD.c:\u001b[m\u001b[K In function '\u001b[01m\u001b[K__pyx_pf_22FBSM_Rating_Cython_SGD_22FBSM_Rating_Cython_SGD_2fit\u001b[m\u001b[K':\r\n",
      "\u001b[01m\u001b[KFBSM_Rating_Cython_SGD.c:26607:55:\u001b[m\u001b[K \u001b[01;35m\u001b[Kwarning: \u001b[m\u001b[K'\u001b[01m\u001b[K__pyx_v_num_sample\u001b[m\u001b[K' may be used uninitialized in this function [\u001b[01;35m\u001b[K-Wmaybe-uninitialized\u001b[m\u001b[K]\r\n",
      "26607 |   __pyx_t_5 = PyFloat_FromDouble((__pyx_v_cum_loss / \u001b[01;35m\u001b[K((double)__pyx_v_num_sample)\u001b[m\u001b[K)); if (unlikely(!__pyx_t_5)) __PYX_ERR(0, 551, __pyx_L1_error)\r\n",
      "      |                                                      \u001b[01;35m\u001b[K~^~~~~~~~~~~~~~~~~~~~~~~~~~~\u001b[m\u001b[K\r\n",
      "/opt/conda/lib/python3.10/site-packages/Cython/Compiler/Main.py:381: FutureWarning: Cython directive 'language_level' not set, using '3str' for now (Py3). This has changed from earlier releases! File: /kaggle/working/RECsys_Challenge2024/Recommenders/FeatureWeighting/Cython/FBSM_Rating_Cython_SGD.pyx\r\n",
      "  tree = Parsing.p_module(s, pxd, full_module_name)\r\n",
      "Compiling [10/11]: FBSM_Rating_Cython_SGD.pyx... PASS\r\n",
      "\r\n",
      "Compiling [11/11]: DataIterator.pyx... \r\n",
      "In file included from \u001b[01m\u001b[K/opt/conda/lib/python3.10/site-packages/numpy/core/include/numpy/ndarraytypes.h:1929\u001b[m\u001b[K,\r\n",
      "                 from \u001b[01m\u001b[K/opt/conda/lib/python3.10/site-packages/numpy/core/include/numpy/ndarrayobject.h:12\u001b[m\u001b[K,\r\n",
      "                 from \u001b[01m\u001b[K/opt/conda/lib/python3.10/site-packages/numpy/core/include/numpy/arrayobject.h:5\u001b[m\u001b[K,\r\n",
      "                 from \u001b[01m\u001b[KDataIterator.c:1252\u001b[m\u001b[K:\r\n",
      "\u001b[01m\u001b[K/opt/conda/lib/python3.10/site-packages/numpy/core/include/numpy/npy_1_7_deprecated_api.h:17:2:\u001b[m\u001b[K \u001b[01;35m\u001b[Kwarning: \u001b[m\u001b[K#warning \"Using deprecated NumPy API, disable it with \" \"#define NPY_NO_DEPRECATED_API NPY_1_7_API_VERSION\" [\u001b[01;35m\u001b[K-Wcpp\u001b[m\u001b[K]\r\n",
      "   17 | #\u001b[01;35m\u001b[Kwarning\u001b[m\u001b[K \"Using deprecated NumPy API, disable it with \" \\\r\n",
      "      |  \u001b[01;35m\u001b[K^~~~~~~\u001b[m\u001b[K\r\n",
      "\u001b[01m\u001b[KDataIterator.c:\u001b[m\u001b[K In function '\u001b[01m\u001b[K__pyx_pf_12DataIterator_30InteractionAndNegativeIterator_6__next__\u001b[m\u001b[K':\r\n",
      "\u001b[01m\u001b[KDataIterator.c:25495:22:\u001b[m\u001b[K \u001b[01;35m\u001b[Kwarning: \u001b[m\u001b[K'\u001b[01m\u001b[K__pyx_v_i_batch\u001b[m\u001b[K' may be used uninitialized in this function [\u001b[01;35m\u001b[K-Wmaybe-uninitialized\u001b[m\u001b[K]\r\n",
      "25495 |     (__pyx_v_i_batch \u001b[01;35m\u001b[K+\u001b[m\u001b[K 1),\r\n",
      "      |                      \u001b[01;35m\u001b[K^\u001b[m\u001b[K\r\n",
      "\u001b[01m\u001b[KDataIterator.c:\u001b[m\u001b[K In function '\u001b[01m\u001b[K__pyx_pf_12DataIterator_11BPRIterator_6__next__\u001b[m\u001b[K':\r\n",
      "\u001b[01m\u001b[KDataIterator.c:23054:22:\u001b[m\u001b[K \u001b[01;35m\u001b[Kwarning: \u001b[m\u001b[K'\u001b[01m\u001b[K__pyx_v_i_batch\u001b[m\u001b[K' may be used uninitialized in this function [\u001b[01;35m\u001b[K-Wmaybe-uninitialized\u001b[m\u001b[K]\r\n",
      "23054 |     (__pyx_v_i_batch \u001b[01;35m\u001b[K+\u001b[m\u001b[K 1),\r\n",
      "      |                      \u001b[01;35m\u001b[K^\u001b[m\u001b[K\r\n",
      "\u001b[01m\u001b[KDataIterator.c:\u001b[m\u001b[K In function '\u001b[01m\u001b[K__pyx_pf_12DataIterator_19InteractionIterator_6__next__\u001b[m\u001b[K':\r\n",
      "\u001b[01m\u001b[KDataIterator.c:20937:22:\u001b[m\u001b[K \u001b[01;35m\u001b[Kwarning: \u001b[m\u001b[K'\u001b[01m\u001b[K__pyx_v_i_batch\u001b[m\u001b[K' may be used uninitialized in this function [\u001b[01;35m\u001b[K-Wmaybe-uninitialized\u001b[m\u001b[K]\r\n",
      "20937 |     (__pyx_v_i_batch \u001b[01;35m\u001b[K+\u001b[m\u001b[K 1),\r\n",
      "      |                      \u001b[01;35m\u001b[K^\u001b[m\u001b[K\r\n",
      "/opt/conda/lib/python3.10/site-packages/Cython/Compiler/Main.py:381: FutureWarning: Cython directive 'language_level' not set, using '3str' for now (Py3). This has changed from earlier releases! File: /kaggle/working/RECsys_Challenge2024/Utils/PyTorch/Cython/DataIterator.pyx\r\n",
      "  tree = Parsing.p_module(s, pxd, full_module_name)\r\n",
      "Compiling [11/11]: DataIterator.pyx... PASS\r\n",
      "\r\n",
      "run_compile_all_cython: Compilation finished. FAILS 2/11.\r\n",
      "Compilation log can be found here: './result_experiments/run_compile_all_cython.txt'\r\n"
     ]
    }
   ],
   "source": [
    "%cd /kaggle/working/RECsys_Challenge2024 \n",
    "! python run_compile_all_cython.py"
   ]
  },
  {
   "cell_type": "code",
   "execution_count": 5,
   "id": "ca332d41",
   "metadata": {
    "execution": {
     "iopub.execute_input": "2024-12-16T12:33:38.418641Z",
     "iopub.status.busy": "2024-12-16T12:33:38.418206Z",
     "iopub.status.idle": "2024-12-16T12:33:40.390860Z",
     "shell.execute_reply": "2024-12-16T12:33:40.389229Z"
    },
    "papermill": {
     "duration": 1.989817,
     "end_time": "2024-12-16T12:33:40.393821",
     "exception": false,
     "start_time": "2024-12-16T12:33:38.404004",
     "status": "completed"
    },
    "tags": []
   },
   "outputs": [],
   "source": [
    "from Utils.notebookFunctions import *\n",
    "import numpy as np\n",
    "import pandas as pd\n",
    "import scipy.sparse as sps\n",
    "import time\n",
    "import shutil\n",
    "import optuna\n",
    "import json\n",
    "import os\n",
    "from Utils.seconds_to_biggest_unit import seconds_to_biggest_unit\n",
    "\n",
    "\n",
    "K_PATH = '/kaggle/working/RECsys_Challenge2024'\n",
    "GH_PATH = 'TrainedModels/WithoutKFCV/KNN'\n",
    "\n",
    "np.random.seed(42)"
   ]
  },
  {
   "cell_type": "markdown",
   "id": "89b1d23e",
   "metadata": {
    "papermill": {
     "duration": 0.014596,
     "end_time": "2024-12-16T12:33:40.425154",
     "exception": false,
     "start_time": "2024-12-16T12:33:40.410558",
     "status": "completed"
    },
    "tags": []
   },
   "source": [
    "## Import the repository **RECsys_Challenge2024**"
   ]
  },
  {
   "cell_type": "code",
   "execution_count": 6,
   "id": "062bfc06",
   "metadata": {
    "execution": {
     "iopub.execute_input": "2024-12-16T12:33:40.456011Z",
     "iopub.status.busy": "2024-12-16T12:33:40.455419Z",
     "iopub.status.idle": "2024-12-16T12:33:40.719248Z",
     "shell.execute_reply": "2024-12-16T12:33:40.717867Z"
    },
    "papermill": {
     "duration": 0.282338,
     "end_time": "2024-12-16T12:33:40.721616",
     "exception": false,
     "start_time": "2024-12-16T12:33:40.439278",
     "status": "completed"
    },
    "tags": []
   },
   "outputs": [
    {
     "name": "stdout",
     "output_type": "stream",
     "text": [
      "Repository 'RECsys_Challenge2024' found.\n"
     ]
    }
   ],
   "source": [
    "repo = get_repo_from_github(token)"
   ]
  },
  {
   "cell_type": "code",
   "execution_count": 7,
   "id": "80468460",
   "metadata": {
    "execution": {
     "iopub.execute_input": "2024-12-16T12:33:40.753013Z",
     "iopub.status.busy": "2024-12-16T12:33:40.752587Z",
     "iopub.status.idle": "2024-12-16T12:33:40.758251Z",
     "shell.execute_reply": "2024-12-16T12:33:40.757007Z"
    },
    "papermill": {
     "duration": 0.023021,
     "end_time": "2024-12-16T12:33:40.760510",
     "exception": false,
     "start_time": "2024-12-16T12:33:40.737489",
     "status": "completed"
    },
    "tags": []
   },
   "outputs": [],
   "source": [
    "config = {\n",
    "    'model': 'ItemKNNCBF',\n",
    "    'metric': 'MAP',\n",
    "    'tune_parameters': True,\n",
    "    'database_path': '/kaggle/working/history_ItemKNNCBF_MAP.db',\n",
    "    'copy_prev_best_params': False,\n",
    "    'tune_best_params': True,\n",
    "    'save_github': True\n",
    "}"
   ]
  },
  {
   "cell_type": "markdown",
   "id": "7cc42162",
   "metadata": {
    "papermill": {
     "duration": 0.012317,
     "end_time": "2024-12-16T12:33:40.785552",
     "exception": false,
     "start_time": "2024-12-16T12:33:40.773235",
     "status": "completed"
    },
    "tags": []
   },
   "source": [
    "Import the database where previous tuning trials have been saved."
   ]
  },
  {
   "cell_type": "code",
   "execution_count": 8,
   "id": "63cf057c",
   "metadata": {
    "execution": {
     "iopub.execute_input": "2024-12-16T12:33:40.813659Z",
     "iopub.status.busy": "2024-12-16T12:33:40.812675Z",
     "iopub.status.idle": "2024-12-16T12:33:40.818869Z",
     "shell.execute_reply": "2024-12-16T12:33:40.817267Z"
    },
    "papermill": {
     "duration": 0.022889,
     "end_time": "2024-12-16T12:33:40.821682",
     "exception": false,
     "start_time": "2024-12-16T12:33:40.798793",
     "status": "completed"
    },
    "tags": []
   },
   "outputs": [],
   "source": [
    "try:\n",
    "    shutil.copyfile(\n",
    "        f'{K_PATH}/{GH_PATH}/{config[\"model\"]}Recommender/Optimizing{config[\"metric\"]}/history_{config[\"model\"]}_{config[\"metric\"]}.db', \n",
    "        config['database_path']\n",
    "    )\n",
    "except FileNotFoundError:\n",
    "    pass # if not present optuna will create it"
   ]
  },
  {
   "cell_type": "markdown",
   "id": "52cd5500",
   "metadata": {
    "papermill": {
     "duration": 0.012477,
     "end_time": "2024-12-16T12:33:40.847058",
     "exception": false,
     "start_time": "2024-12-16T12:33:40.834581",
     "status": "completed"
    },
    "tags": []
   },
   "source": [
    "# Construction of URM and ICM matrices"
   ]
  },
  {
   "cell_type": "code",
   "execution_count": 9,
   "id": "254cdedd",
   "metadata": {
    "execution": {
     "iopub.execute_input": "2024-12-16T12:33:40.875145Z",
     "iopub.status.busy": "2024-12-16T12:33:40.874749Z",
     "iopub.status.idle": "2024-12-16T12:33:41.814119Z",
     "shell.execute_reply": "2024-12-16T12:33:41.812504Z"
    },
    "papermill": {
     "duration": 0.957076,
     "end_time": "2024-12-16T12:33:41.816862",
     "exception": false,
     "start_time": "2024-12-16T12:33:40.859786",
     "status": "completed"
    },
    "tags": []
   },
   "outputs": [
    {
     "data": {
      "text/plain": [
       "<Compressed Sparse Row sparse matrix of dtype 'float64'\n",
       "\twith 1764607 stored elements and shape (35736, 38121)>"
      ]
     },
     "execution_count": 9,
     "metadata": {},
     "output_type": "execute_result"
    }
   ],
   "source": [
    "URM_all_dataframe = pd.read_csv(\"/kaggle/input/recommender-system-2024-challenge-polimi/data_train.csv\")\n",
    "\n",
    "n_users = len(URM_all_dataframe[\"user_id\"].unique())\n",
    "n_items = len(URM_all_dataframe[\"item_id\"].unique())\n",
    "\n",
    "URM_all = sps.csr_matrix((URM_all_dataframe[\"data\"].values, \n",
    "                          (URM_all_dataframe[\"user_id\"].values, URM_all_dataframe[\"item_id\"].values)),\n",
    "                        shape = (n_users, n_items))\n",
    "\n",
    "URM_all"
   ]
  },
  {
   "cell_type": "code",
   "execution_count": 10,
   "id": "3fdaf8be",
   "metadata": {
    "execution": {
     "iopub.execute_input": "2024-12-16T12:33:41.845620Z",
     "iopub.status.busy": "2024-12-16T12:33:41.845214Z",
     "iopub.status.idle": "2024-12-16T12:33:43.176040Z",
     "shell.execute_reply": "2024-12-16T12:33:43.174747Z"
    },
    "papermill": {
     "duration": 1.348115,
     "end_time": "2024-12-16T12:33:43.178726",
     "exception": false,
     "start_time": "2024-12-16T12:33:41.830611",
     "status": "completed"
    },
    "tags": []
   },
   "outputs": [
    {
     "data": {
      "text/plain": [
       "<Compressed Sparse Row sparse matrix of dtype 'float64'\n",
       "\twith 2940040 stored elements and shape (38121, 94331)>"
      ]
     },
     "execution_count": 10,
     "metadata": {},
     "output_type": "execute_result"
    }
   ],
   "source": [
    "ICM_dataframe = pd.read_csv(\"/kaggle/input/recommender-system-2024-challenge-polimi/data_ICM_metadata.csv\")\n",
    "\n",
    "n_items = len(ICM_dataframe[\"item_id\"].unique())\n",
    "n_features = len(ICM_dataframe[\"feature_id\"].unique())\n",
    "\n",
    "ICM_all = sps.csr_matrix((ICM_dataframe[\"data\"].values, \n",
    "                          (ICM_dataframe[\"item_id\"].values, ICM_dataframe[\"feature_id\"].values)),\n",
    "                        shape = (n_items, n_features))\n",
    "\n",
    "ICM_all"
   ]
  },
  {
   "cell_type": "markdown",
   "id": "3c9d2e24",
   "metadata": {
    "papermill": {
     "duration": 0.013148,
     "end_time": "2024-12-16T12:33:43.205627",
     "exception": false,
     "start_time": "2024-12-16T12:33:43.192479",
     "status": "completed"
    },
    "tags": []
   },
   "source": [
    "# Training"
   ]
  },
  {
   "cell_type": "code",
   "execution_count": 11,
   "id": "0a66b1f4",
   "metadata": {
    "execution": {
     "iopub.execute_input": "2024-12-16T12:33:43.236011Z",
     "iopub.status.busy": "2024-12-16T12:33:43.235550Z",
     "iopub.status.idle": "2024-12-16T12:33:46.403074Z",
     "shell.execute_reply": "2024-12-16T12:33:46.401916Z"
    },
    "papermill": {
     "duration": 3.185047,
     "end_time": "2024-12-16T12:33:46.405382",
     "exception": false,
     "start_time": "2024-12-16T12:33:43.220335",
     "status": "completed"
    },
    "tags": []
   },
   "outputs": [
    {
     "name": "stdout",
     "output_type": "stream",
     "text": [
      "Warning: 141 (0.39 %) of 35736 users have no sampled items\n",
      "EvaluatorHoldout: Ignoring 141 ( 0.4%) Users that have less than 1 test interactions\n"
     ]
    }
   ],
   "source": [
    "from Evaluation.Evaluator import EvaluatorHoldout\n",
    "from Data_manager.split_functions.split_train_validation_random_holdout import split_train_in_two_percentage_global_sample\n",
    "\n",
    "URM_train, URM_validation = split_train_in_two_percentage_global_sample(URM_all, train_percentage = 0.80)\n",
    "\n",
    "evaluator_validation = EvaluatorHoldout(URM_validation, cutoff_list=[10])"
   ]
  },
  {
   "cell_type": "code",
   "execution_count": 12,
   "id": "33e8f4b1",
   "metadata": {
    "execution": {
     "iopub.execute_input": "2024-12-16T12:33:46.435273Z",
     "iopub.status.busy": "2024-12-16T12:33:46.434879Z",
     "iopub.status.idle": "2024-12-16T12:33:46.455899Z",
     "shell.execute_reply": "2024-12-16T12:33:46.454865Z"
    },
    "papermill": {
     "duration": 0.03943,
     "end_time": "2024-12-16T12:33:46.458519",
     "exception": false,
     "start_time": "2024-12-16T12:33:46.419089",
     "status": "completed"
    },
    "tags": []
   },
   "outputs": [],
   "source": [
    "from Recommenders.KNN.ItemKNNCBFRecommender import ItemKNNCBFRecommender\n",
    "\n",
    "def objective_function_ItemKNNCBF(optuna_trial):\n",
    "    \n",
    "    recommender_instance = ItemKNNCBFRecommender(URM_train, ICM_all)\n",
    "    similarity = optuna_trial.suggest_categorical(\"similarity\", ['cosine', 'dice', 'jaccard', 'asymmetric', 'tversky', 'euclidean'])\n",
    "    \n",
    "    full_hyperp = {\"similarity\": similarity,\n",
    "                   \"topK\": optuna_trial.suggest_int(\"topK\", 0, 750),\n",
    "                   \"shrink\": optuna_trial.suggest_int(\"shrink\", 0, 1000),\n",
    "                   'feature_weighting': optuna_trial.suggest_categorical('feature_weighting', [\"BM25\", \"TF-IDF\", \"none\"])\n",
    "                  }\n",
    "    \n",
    "    if similarity == \"asymmetric\":\n",
    "        full_hyperp[\"asymmetric_alpha\"] = optuna_trial.suggest_float(\"asymmetric_alpha\", 0, 2, log=False)\n",
    "        full_hyperp[\"normalize\"] = True     \n",
    "\n",
    "    elif similarity == \"tversky\":\n",
    "        full_hyperp[\"tversky_alpha\"] = optuna_trial.suggest_float(\"tversky_alpha\", 0, 2, log=False)\n",
    "        full_hyperp[\"tversky_beta\"] = optuna_trial.suggest_float(\"tversky_beta\", 0, 2, log=False)\n",
    "        full_hyperp[\"normalize\"] = True \n",
    "\n",
    "    elif similarity == \"euclidean\":\n",
    "        full_hyperp[\"normalize_avg_row\"] = optuna_trial.suggest_categorical(\"normalize_avg_row\", [True, False])\n",
    "        full_hyperp[\"similarity_from_distance_mode\"] = optuna_trial.suggest_categorical(\"similarity_from_distance_mode\", [\"lin\", \"log\", \"exp\"])\n",
    "        full_hyperp[\"normalize\"] = optuna_trial.suggest_categorical(\"normalize\", [True, False])\n",
    "        \n",
    "    \n",
    "    recommender_instance.fit(**full_hyperp)\n",
    "    \n",
    "    result_df, _ = evaluator_validation.evaluateRecommender(recommender_instance)\n",
    "    \n",
    "    return result_df.loc[10][\"MAP\"]"
   ]
  },
  {
   "cell_type": "code",
   "execution_count": 13,
   "id": "7e6981f7",
   "metadata": {
    "_kg_hide-output": true,
    "execution": {
     "iopub.execute_input": "2024-12-16T12:33:46.486746Z",
     "iopub.status.busy": "2024-12-16T12:33:46.486348Z",
     "iopub.status.idle": "2024-12-16T20:47:56.865965Z",
     "shell.execute_reply": "2024-12-16T20:47:56.864725Z"
    },
    "papermill": {
     "duration": 29650.41754,
     "end_time": "2024-12-16T20:47:56.889666",
     "exception": false,
     "start_time": "2024-12-16T12:33:46.472126",
     "status": "completed"
    },
    "tags": []
   },
   "outputs": [
    {
     "name": "stderr",
     "output_type": "stream",
     "text": [
      "[I 2024-12-16 12:33:48,566] A new study created in RDB with name: hyperparameters_tuning_ItemKNNCBF_MAP\n"
     ]
    },
    {
     "name": "stdout",
     "output_type": "stream",
     "text": [
      "Similarity column 38121 (100.0%), 171.88 column/sec. Elapsed time 3.70 min\n",
      "EvaluatorHoldout: Processed 35595 (100.0%) in 40.18 sec. Users per second: 886\n"
     ]
    },
    {
     "name": "stderr",
     "output_type": "stream",
     "text": [
      "[I 2024-12-16 12:38:11,417] Trial 0 finished with value: 0.0038837963241671373 and parameters: {'similarity': 'euclidean', 'topK': 423, 'shrink': 694, 'feature_weighting': 'BM25', 'normalize_avg_row': False, 'similarity_from_distance_mode': 'exp', 'normalize': False}. Best is trial 0 with value: 0.0038837963241671373.\n"
     ]
    },
    {
     "name": "stdout",
     "output_type": "stream",
     "text": [
      "Similarity column 38121 (100.0%), 668.30 column/sec. Elapsed time 57.04 sec\n",
      "EvaluatorHoldout: Processed 35595 (100.0%) in 33.42 sec. Users per second: 1065\n"
     ]
    },
    {
     "name": "stderr",
     "output_type": "stream",
     "text": [
      "[I 2024-12-16 12:39:42,654] Trial 1 finished with value: 0.013134751180052855 and parameters: {'similarity': 'jaccard', 'topK': 13, 'shrink': 858, 'feature_weighting': 'none'}. Best is trial 1 with value: 0.013134751180052855.\n"
     ]
    },
    {
     "name": "stdout",
     "output_type": "stream",
     "text": [
      "Similarity column 38121 (100.0%), 651.41 column/sec. Elapsed time 58.52 sec\n",
      "EvaluatorHoldout: Processed 35595 (100.0%) in 52.08 sec. Users per second: 683\n"
     ]
    },
    {
     "name": "stderr",
     "output_type": "stream",
     "text": [
      "[I 2024-12-16 12:41:34,665] Trial 2 finished with value: 0.016654051197667115 and parameters: {'similarity': 'cosine', 'topK': 573, 'shrink': 592, 'feature_weighting': 'TF-IDF'}. Best is trial 2 with value: 0.016654051197667115.\n"
     ]
    },
    {
     "name": "stdout",
     "output_type": "stream",
     "text": [
      "Similarity column 38121 (100.0%), 653.40 column/sec. Elapsed time 58.34 sec\n",
      "EvaluatorHoldout: Processed 35595 (100.0%) in 43.67 sec. Users per second: 815\n"
     ]
    },
    {
     "name": "stderr",
     "output_type": "stream",
     "text": [
      "[I 2024-12-16 12:43:17,519] Trial 3 finished with value: 0.016861733746268263 and parameters: {'similarity': 'asymmetric', 'topK': 269, 'shrink': 721, 'feature_weighting': 'TF-IDF', 'asymmetric_alpha': 0.7384351483028357}. Best is trial 3 with value: 0.016861733746268263.\n"
     ]
    },
    {
     "name": "stdout",
     "output_type": "stream",
     "text": [
      "Similarity column 38121 (100.0%), 651.63 column/sec. Elapsed time 58.50 sec\n",
      "EvaluatorHoldout: Processed 35595 (100.0%) in 49.61 sec. Users per second: 717\n"
     ]
    },
    {
     "name": "stderr",
     "output_type": "stream",
     "text": [
      "[I 2024-12-16 12:45:06,742] Trial 4 finished with value: 0.009323988789222838 and parameters: {'similarity': 'cosine', 'topK': 553, 'shrink': 809, 'feature_weighting': 'none'}. Best is trial 3 with value: 0.016861733746268263.\n"
     ]
    },
    {
     "name": "stdout",
     "output_type": "stream",
     "text": [
      "Similarity column 38121 (100.0%), 661.70 column/sec. Elapsed time 57.61 sec\n",
      "EvaluatorHoldout: Processed 35595 (100.0%) in 47.05 sec. Users per second: 756\n"
     ]
    },
    {
     "name": "stderr",
     "output_type": "stream",
     "text": [
      "[I 2024-12-16 12:46:52,841] Trial 5 finished with value: 0.011212778457827238 and parameters: {'similarity': 'dice', 'topK': 355, 'shrink': 157, 'feature_weighting': 'none'}. Best is trial 3 with value: 0.016861733746268263.\n"
     ]
    },
    {
     "name": "stdout",
     "output_type": "stream",
     "text": [
      "Similarity column 38121 (100.0%), 315.09 column/sec. Elapsed time 2.02 min\n",
      "EvaluatorHoldout: Processed 35595 (100.0%) in 41.38 sec. Users per second: 860\n"
     ]
    },
    {
     "name": "stderr",
     "output_type": "stream",
     "text": [
      "[I 2024-12-16 12:49:35,737] Trial 6 finished with value: 0.005327726829833852 and parameters: {'similarity': 'euclidean', 'topK': 258, 'shrink': 823, 'feature_weighting': 'none', 'normalize_avg_row': False, 'similarity_from_distance_mode': 'log', 'normalize': False}. Best is trial 3 with value: 0.016861733746268263.\n",
      "/kaggle/working/RECsys_Challenge2024/Recommenders/Similarity/Compute_Similarity_Euclidean.py:167: RuntimeWarning: overflow encountered in exp\n",
      "  item_similarity = 1/(np.exp(item_distance) + self.shrink + 1e-9)\n"
     ]
    },
    {
     "name": "stdout",
     "output_type": "stream",
     "text": [
      "Similarity column 38121 (100.0%), 162.33 column/sec. Elapsed time 3.91 min\n",
      "EvaluatorHoldout: Processed 35595 (100.0%) in 49.03 sec. Users per second: 726\n"
     ]
    },
    {
     "name": "stderr",
     "output_type": "stream",
     "text": [
      "[I 2024-12-16 12:54:20,606] Trial 7 finished with value: 0.007688475062263625 and parameters: {'similarity': 'euclidean', 'topK': 455, 'shrink': 885, 'feature_weighting': 'BM25', 'normalize_avg_row': False, 'similarity_from_distance_mode': 'exp', 'normalize': True}. Best is trial 3 with value: 0.016861733746268263.\n"
     ]
    },
    {
     "name": "stdout",
     "output_type": "stream",
     "text": [
      "Similarity column 38121 (100.0%), 255.58 column/sec. Elapsed time 2.49 min\n",
      "EvaluatorHoldout: Processed 35595 (100.0%) in 49.15 sec. Users per second: 724\n"
     ]
    },
    {
     "name": "stderr",
     "output_type": "stream",
     "text": [
      "[I 2024-12-16 12:57:39,881] Trial 8 finished with value: 0.004351864115033083 and parameters: {'similarity': 'euclidean', 'topK': 703, 'shrink': 91, 'feature_weighting': 'none', 'normalize_avg_row': True, 'similarity_from_distance_mode': 'log', 'normalize': False}. Best is trial 3 with value: 0.016861733746268263.\n"
     ]
    },
    {
     "name": "stdout",
     "output_type": "stream",
     "text": [
      "Similarity column 38121 (100.0%), 648.57 column/sec. Elapsed time 58.78 sec\n",
      "EvaluatorHoldout: Processed 35595 (100.0%) in 41.79 sec. Users per second: 852\n"
     ]
    },
    {
     "name": "stderr",
     "output_type": "stream",
     "text": [
      "[I 2024-12-16 12:59:21,505] Trial 9 finished with value: 0.011182364653498549 and parameters: {'similarity': 'tversky', 'topK': 192, 'shrink': 620, 'feature_weighting': 'none', 'tversky_alpha': 0.7992609260853731, 'tversky_beta': 0.7542915302864257}. Best is trial 3 with value: 0.016861733746268263.\n"
     ]
    },
    {
     "name": "stdout",
     "output_type": "stream",
     "text": [
      "Similarity column 38121 (100.0%), 658.69 column/sec. Elapsed time 57.87 sec\n",
      "EvaluatorHoldout: Processed 35595 (100.0%) in 37.63 sec. Users per second: 946\n"
     ]
    },
    {
     "name": "stderr",
     "output_type": "stream",
     "text": [
      "[I 2024-12-16 13:00:57,638] Trial 10 finished with value: 0.017454529238768716 and parameters: {'similarity': 'asymmetric', 'topK': 78, 'shrink': 409, 'feature_weighting': 'TF-IDF', 'asymmetric_alpha': 0.7054957801537116}. Best is trial 10 with value: 0.017454529238768716.\n"
     ]
    },
    {
     "name": "stdout",
     "output_type": "stream",
     "text": [
      "Similarity column 38121 (100.0%), 661.87 column/sec. Elapsed time 57.60 sec\n",
      "EvaluatorHoldout: Processed 35595 (100.0%) in 37.20 sec. Users per second: 957\n"
     ]
    },
    {
     "name": "stderr",
     "output_type": "stream",
     "text": [
      "[I 2024-12-16 13:02:33,067] Trial 11 finished with value: 0.017524767166781596 and parameters: {'similarity': 'asymmetric', 'topK': 67, 'shrink': 375, 'feature_weighting': 'TF-IDF', 'asymmetric_alpha': 0.6910169471785554}. Best is trial 11 with value: 0.017524767166781596.\n"
     ]
    },
    {
     "name": "stdout",
     "output_type": "stream",
     "text": [
      "Similarity column 38121 (100.0%), 658.15 column/sec. Elapsed time 57.92 sec\n",
      "EvaluatorHoldout: Processed 35595 (100.0%) in 31.56 sec. Users per second: 1128\n"
     ]
    },
    {
     "name": "stderr",
     "output_type": "stream",
     "text": [
      "[I 2024-12-16 13:04:03,072] Trial 12 finished with value: 0.0182912750809927 and parameters: {'similarity': 'asymmetric', 'topK': 6, 'shrink': 334, 'feature_weighting': 'TF-IDF', 'asymmetric_alpha': 0.6595757110365282}. Best is trial 12 with value: 0.0182912750809927.\n"
     ]
    },
    {
     "name": "stdout",
     "output_type": "stream",
     "text": [
      "Similarity column 38121 (100.0%), 654.34 column/sec. Elapsed time 58.26 sec\n",
      "EvaluatorHoldout: Processed 35595 (100.0%) in 41.28 sec. Users per second: 862\n"
     ]
    },
    {
     "name": "stderr",
     "output_type": "stream",
     "text": [
      "[I 2024-12-16 13:05:43,319] Trial 13 finished with value: 0.017222222222222347 and parameters: {'similarity': 'asymmetric', 'topK': 131, 'shrink': 341, 'feature_weighting': 'TF-IDF', 'asymmetric_alpha': 0.12674712007225453}. Best is trial 12 with value: 0.0182912750809927.\n"
     ]
    },
    {
     "name": "stdout",
     "output_type": "stream",
     "text": [
      "Similarity column 38121 (100.0%), 664.78 column/sec. Elapsed time 57.34 sec\n",
      "EvaluatorHoldout: Processed 35595 (100.0%) in 29.98 sec. Users per second: 1187\n"
     ]
    },
    {
     "name": "stderr",
     "output_type": "stream",
     "text": [
      "[I 2024-12-16 13:07:11,201] Trial 14 finished with value: 0.01170083411929207 and parameters: {'similarity': 'asymmetric', 'topK': 7, 'shrink': 264, 'feature_weighting': 'TF-IDF', 'asymmetric_alpha': 1.9716093481093797}. Best is trial 12 with value: 0.0182912750809927.\n"
     ]
    },
    {
     "name": "stdout",
     "output_type": "stream",
     "text": [
      "Similarity column 38121 (100.0%), 657.02 column/sec. Elapsed time 58.02 sec\n",
      "EvaluatorHoldout: Processed 35595 (100.0%) in 38.39 sec. Users per second: 927\n"
     ]
    },
    {
     "name": "stderr",
     "output_type": "stream",
     "text": [
      "[I 2024-12-16 13:08:48,375] Trial 15 finished with value: 0.015051444045334034 and parameters: {'similarity': 'asymmetric', 'topK': 115, 'shrink': 472, 'feature_weighting': 'TF-IDF', 'asymmetric_alpha': 1.1322737914916248}. Best is trial 12 with value: 0.0182912750809927.\n"
     ]
    },
    {
     "name": "stdout",
     "output_type": "stream",
     "text": [
      "Similarity column 38121 (100.0%), 651.26 column/sec. Elapsed time 58.53 sec\n",
      "EvaluatorHoldout: Processed 35595 (100.0%) in 41.24 sec. Users per second: 863\n"
     ]
    },
    {
     "name": "stderr",
     "output_type": "stream",
     "text": [
      "[I 2024-12-16 13:10:29,257] Trial 16 finished with value: 0.013016715830875563 and parameters: {'similarity': 'tversky', 'topK': 169, 'shrink': 239, 'feature_weighting': 'TF-IDF', 'tversky_alpha': 1.9308958520833546, 'tversky_beta': 1.900956572302966}. Best is trial 12 with value: 0.0182912750809927.\n"
     ]
    },
    {
     "name": "stdout",
     "output_type": "stream",
     "text": [
      "Similarity column 38121 (100.0%), 661.65 column/sec. Elapsed time 57.62 sec\n",
      "EvaluatorHoldout: Processed 35595 (100.0%) in 44.05 sec. Users per second: 808\n"
     ]
    },
    {
     "name": "stderr",
     "output_type": "stream",
     "text": [
      "[I 2024-12-16 13:12:12,197] Trial 17 finished with value: 0.011175644430174853 and parameters: {'similarity': 'dice', 'topK': 269, 'shrink': 360, 'feature_weighting': 'BM25'}. Best is trial 12 with value: 0.0182912750809927.\n"
     ]
    },
    {
     "name": "stdout",
     "output_type": "stream",
     "text": [
      "Similarity column 38121 (100.0%), 664.19 column/sec. Elapsed time 57.39 sec\n",
      "EvaluatorHoldout: Processed 35595 (100.0%) in 36.73 sec. Users per second: 969\n"
     ]
    },
    {
     "name": "stderr",
     "output_type": "stream",
     "text": [
      "[I 2024-12-16 13:13:47,334] Trial 18 finished with value: 0.012658296488048205 and parameters: {'similarity': 'jaccard', 'topK': 58, 'shrink': 504, 'feature_weighting': 'TF-IDF'}. Best is trial 12 with value: 0.0182912750809927.\n"
     ]
    },
    {
     "name": "stdout",
     "output_type": "stream",
     "text": [
      "Similarity column 38121 (100.0%), 657.36 column/sec. Elapsed time 57.99 sec\n",
      "EvaluatorHoldout: Processed 35595 (100.0%) in 42.44 sec. Users per second: 839\n"
     ]
    },
    {
     "name": "stderr",
     "output_type": "stream",
     "text": [
      "[I 2024-12-16 13:15:28,589] Trial 19 finished with value: 0.01734744936978407 and parameters: {'similarity': 'asymmetric', 'topK': 208, 'shrink': 978, 'feature_weighting': 'TF-IDF', 'asymmetric_alpha': 0.34072417040104763}. Best is trial 12 with value: 0.0182912750809927.\n"
     ]
    },
    {
     "name": "stdout",
     "output_type": "stream",
     "text": [
      "Similarity column 38121 (100.0%), 654.56 column/sec. Elapsed time 58.24 sec\n",
      "EvaluatorHoldout: Processed 35595 (100.0%) in 44.01 sec. Users per second: 809\n"
     ]
    },
    {
     "name": "stderr",
     "output_type": "stream",
     "text": [
      "[I 2024-12-16 13:17:11,800] Trial 20 finished with value: 0.006340968835911959 and parameters: {'similarity': 'asymmetric', 'topK': 354, 'shrink': 48, 'feature_weighting': 'TF-IDF', 'asymmetric_alpha': 1.2301825909966877}. Best is trial 12 with value: 0.0182912750809927.\n"
     ]
    },
    {
     "name": "stdout",
     "output_type": "stream",
     "text": [
      "Similarity column 38121 (100.0%), 661.04 column/sec. Elapsed time 57.67 sec\n",
      "EvaluatorHoldout: Processed 35595 (100.0%) in 37.80 sec. Users per second: 942\n"
     ]
    },
    {
     "name": "stderr",
     "output_type": "stream",
     "text": [
      "[I 2024-12-16 13:18:47,905] Trial 21 finished with value: 0.017428027389258048 and parameters: {'similarity': 'asymmetric', 'topK': 83, 'shrink': 437, 'feature_weighting': 'TF-IDF', 'asymmetric_alpha': 0.7097128870346371}. Best is trial 12 with value: 0.0182912750809927.\n"
     ]
    },
    {
     "name": "stdout",
     "output_type": "stream",
     "text": [
      "Similarity column 38121 (100.0%), 663.95 column/sec. Elapsed time 57.42 sec\n",
      "EvaluatorHoldout: Processed 35595 (100.0%) in 36.53 sec. Users per second: 974\n"
     ]
    },
    {
     "name": "stderr",
     "output_type": "stream",
     "text": [
      "[I 2024-12-16 13:20:22,445] Trial 22 finished with value: 0.01795399857747102 and parameters: {'similarity': 'asymmetric', 'topK': 63, 'shrink': 321, 'feature_weighting': 'TF-IDF', 'asymmetric_alpha': 0.5832427279726891}. Best is trial 12 with value: 0.0182912750809927.\n"
     ]
    },
    {
     "name": "stdout",
     "output_type": "stream",
     "text": [
      "Similarity column 38121 (100.0%), 668.61 column/sec. Elapsed time 57.01 sec\n",
      "EvaluatorHoldout: Processed 35595 (100.0%) in 35.94 sec. Users per second: 990\n"
     ]
    },
    {
     "name": "stderr",
     "output_type": "stream",
     "text": [
      "[I 2024-12-16 13:21:55,999] Trial 23 finished with value: 0.01826575428598194 and parameters: {'similarity': 'asymmetric', 'topK': 54, 'shrink': 257, 'feature_weighting': 'TF-IDF', 'asymmetric_alpha': 0.47842885785634887}. Best is trial 12 with value: 0.0182912750809927.\n"
     ]
    },
    {
     "name": "stdout",
     "output_type": "stream",
     "text": [
      "Similarity column 38121 (100.0%), 664.81 column/sec. Elapsed time 57.34 sec\n",
      "EvaluatorHoldout: Processed 35595 (100.0%) in 31.14 sec. Users per second: 1143\n"
     ]
    },
    {
     "name": "stderr",
     "output_type": "stream",
     "text": [
      "[I 2024-12-16 13:23:25,003] Trial 24 finished with value: 0.018280307337618727 and parameters: {'similarity': 'asymmetric', 'topK': 4, 'shrink': 237, 'feature_weighting': 'TF-IDF', 'asymmetric_alpha': 0.39675612136393024}. Best is trial 12 with value: 0.0182912750809927.\n"
     ]
    },
    {
     "name": "stdout",
     "output_type": "stream",
     "text": [
      "Similarity column 38121 (100.0%), 659.77 column/sec. Elapsed time 57.78 sec\n",
      "EvaluatorHoldout: Processed 35595 (100.0%) in 32.73 sec. Users per second: 1088\n"
     ]
    },
    {
     "name": "stderr",
     "output_type": "stream",
     "text": [
      "[I 2024-12-16 13:24:56,083] Trial 25 finished with value: 0.017638104602706497 and parameters: {'similarity': 'asymmetric', 'topK': 10, 'shrink': 211, 'feature_weighting': 'BM25', 'asymmetric_alpha': 0.285384401899856}. Best is trial 12 with value: 0.0182912750809927.\n"
     ]
    },
    {
     "name": "stdout",
     "output_type": "stream",
     "text": [
      "Similarity column 38121 (100.0%), 637.00 column/sec. Elapsed time 59.84 sec\n",
      "EvaluatorHoldout: Processed 35595 (100.0%) in 40.67 sec. Users per second: 875\n"
     ]
    },
    {
     "name": "stderr",
     "output_type": "stream",
     "text": [
      "[I 2024-12-16 13:26:37,704] Trial 26 finished with value: 0.011135151405695348 and parameters: {'similarity': 'tversky', 'topK': 143, 'shrink': 127, 'feature_weighting': 'TF-IDF', 'tversky_alpha': 0.08588362570460317, 'tversky_beta': 0.10490879374888373}. Best is trial 12 with value: 0.0182912750809927.\n"
     ]
    },
    {
     "name": "stdout",
     "output_type": "stream",
     "text": [
      "Similarity column 38121 (100.0%), 661.73 column/sec. Elapsed time 57.61 sec\n",
      "EvaluatorHoldout: Processed 35595 (100.0%) in 30.92 sec. Users per second: 1151\n"
     ]
    },
    {
     "name": "stderr",
     "output_type": "stream",
     "text": [
      "[I 2024-12-16 13:28:07,164] Trial 27 finished with value: 0.015294961839209979 and parameters: {'similarity': 'dice', 'topK': 4, 'shrink': 179, 'feature_weighting': 'TF-IDF'}. Best is trial 12 with value: 0.0182912750809927.\n"
     ]
    },
    {
     "name": "stdout",
     "output_type": "stream",
     "text": [
      "Similarity column 38121 (100.0%), 662.96 column/sec. Elapsed time 57.50 sec\n",
      "EvaluatorHoldout: Processed 35595 (100.0%) in 39.01 sec. Users per second: 913\n"
     ]
    },
    {
     "name": "stderr",
     "output_type": "stream",
     "text": [
      "[I 2024-12-16 13:29:44,703] Trial 28 finished with value: 0.012946704214298317 and parameters: {'similarity': 'jaccard', 'topK': 122, 'shrink': 29, 'feature_weighting': 'TF-IDF'}. Best is trial 12 with value: 0.0182912750809927.\n"
     ]
    },
    {
     "name": "stdout",
     "output_type": "stream",
     "text": [
      "Similarity column 38121 (100.0%), 661.25 column/sec. Elapsed time 57.65 sec\n",
      "EvaluatorHoldout: Processed 35595 (100.0%) in 42.42 sec. Users per second: 839\n"
     ]
    },
    {
     "name": "stderr",
     "output_type": "stream",
     "text": [
      "[I 2024-12-16 13:31:25,621] Trial 29 finished with value: 0.017061810892826722 and parameters: {'similarity': 'cosine', 'topK': 199, 'shrink': 531, 'feature_weighting': 'BM25'}. Best is trial 12 with value: 0.0182912750809927.\n"
     ]
    },
    {
     "name": "stdout",
     "output_type": "stream",
     "text": [
      "Similarity column 38121 (100.0%), 655.09 column/sec. Elapsed time 58.19 sec\n",
      "EvaluatorHoldout: Processed 35595 (100.0%) in 49.39 sec. Users per second: 721\n"
     ]
    },
    {
     "name": "stderr",
     "output_type": "stream",
     "text": [
      "[I 2024-12-16 13:33:14,771] Trial 30 finished with value: 0.014764806676522217 and parameters: {'similarity': 'asymmetric', 'topK': 456, 'shrink': 292, 'feature_weighting': 'TF-IDF', 'asymmetric_alpha': 7.251188265844366e-05}. Best is trial 12 with value: 0.0182912750809927.\n"
     ]
    },
    {
     "name": "stdout",
     "output_type": "stream",
     "text": [
      "Similarity column 38121 (100.0%), 666.87 column/sec. Elapsed time 57.16 sec\n",
      "EvaluatorHoldout: Processed 35595 (100.0%) in 35.98 sec. Users per second: 989\n"
     ]
    },
    {
     "name": "stderr",
     "output_type": "stream",
     "text": [
      "[I 2024-12-16 13:34:48,544] Trial 31 finished with value: 0.01834489416874586 and parameters: {'similarity': 'asymmetric', 'topK': 56, 'shrink': 310, 'feature_weighting': 'TF-IDF', 'asymmetric_alpha': 0.40444993179488176}. Best is trial 31 with value: 0.01834489416874586.\n"
     ]
    },
    {
     "name": "stdout",
     "output_type": "stream",
     "text": [
      "Similarity column 38121 (100.0%), 666.97 column/sec. Elapsed time 57.16 sec\n",
      "EvaluatorHoldout: Processed 35595 (100.0%) in 35.96 sec. Users per second: 990\n"
     ]
    },
    {
     "name": "stderr",
     "output_type": "stream",
     "text": [
      "[I 2024-12-16 13:36:22,232] Trial 32 finished with value: 0.01831893189921009 and parameters: {'similarity': 'asymmetric', 'topK': 43, 'shrink': 261, 'feature_weighting': 'TF-IDF', 'asymmetric_alpha': 0.3729299753876488}. Best is trial 31 with value: 0.01834489416874586.\n"
     ]
    },
    {
     "name": "stdout",
     "output_type": "stream",
     "text": [
      "Similarity column 38121 (100.0%), 669.00 column/sec. Elapsed time 56.98 sec\n",
      "EvaluatorHoldout: Processed 35595 (100.0%) in 34.97 sec. Users per second: 1018\n"
     ]
    },
    {
     "name": "stderr",
     "output_type": "stream",
     "text": [
      "[I 2024-12-16 13:37:54,779] Trial 33 finished with value: 0.01839072725124141 and parameters: {'similarity': 'asymmetric', 'topK': 44, 'shrink': 301, 'feature_weighting': 'TF-IDF', 'asymmetric_alpha': 0.3593201324728328}. Best is trial 33 with value: 0.01839072725124141.\n"
     ]
    },
    {
     "name": "stdout",
     "output_type": "stream",
     "text": [
      "Similarity column 38121 (100.0%), 663.12 column/sec. Elapsed time 57.49 sec\n",
      "EvaluatorHoldout: Processed 35595 (100.0%) in 37.66 sec. Users per second: 945\n"
     ]
    },
    {
     "name": "stderr",
     "output_type": "stream",
     "text": [
      "[I 2024-12-16 13:39:30,572] Trial 34 finished with value: 0.016074999386841163 and parameters: {'similarity': 'asymmetric', 'topK': 105, 'shrink': 420, 'feature_weighting': 'TF-IDF', 'asymmetric_alpha': 0.9197960418417395}. Best is trial 33 with value: 0.01839072725124141.\n"
     ]
    },
    {
     "name": "stdout",
     "output_type": "stream",
     "text": [
      "Similarity column 38121 (100.0%), 668.42 column/sec. Elapsed time 57.03 sec\n",
      "EvaluatorHoldout: Processed 35595 (100.0%) in 35.02 sec. Users per second: 1016\n"
     ]
    },
    {
     "name": "stderr",
     "output_type": "stream",
     "text": [
      "[I 2024-12-16 13:41:03,165] Trial 35 finished with value: 0.018365154059001534 and parameters: {'similarity': 'cosine', 'topK': 45, 'shrink': 592, 'feature_weighting': 'TF-IDF'}. Best is trial 33 with value: 0.01839072725124141.\n"
     ]
    },
    {
     "name": "stdout",
     "output_type": "stream",
     "text": [
      "Similarity column 38121 (100.0%), 662.20 column/sec. Elapsed time 57.57 sec\n",
      "EvaluatorHoldout: Processed 35595 (100.0%) in 44.98 sec. Users per second: 791\n"
     ]
    },
    {
     "name": "stderr",
     "output_type": "stream",
     "text": [
      "[I 2024-12-16 13:42:46,694] Trial 36 finished with value: 0.016893070633694524 and parameters: {'similarity': 'cosine', 'topK': 299, 'shrink': 671, 'feature_weighting': 'BM25'}. Best is trial 33 with value: 0.01839072725124141.\n"
     ]
    },
    {
     "name": "stdout",
     "output_type": "stream",
     "text": [
      "Similarity column 38121 (100.0%), 661.85 column/sec. Elapsed time 57.60 sec\n",
      "EvaluatorHoldout: Processed 35595 (100.0%) in 40.96 sec. Users per second: 869\n"
     ]
    },
    {
     "name": "stderr",
     "output_type": "stream",
     "text": [
      "[I 2024-12-16 13:44:26,010] Trial 37 finished with value: 0.017678815019944498 and parameters: {'similarity': 'cosine', 'topK': 172, 'shrink': 565, 'feature_weighting': 'TF-IDF'}. Best is trial 33 with value: 0.01839072725124141.\n"
     ]
    },
    {
     "name": "stdout",
     "output_type": "stream",
     "text": [
      "Similarity column 38121 (100.0%), 656.50 column/sec. Elapsed time 58.07 sec\n",
      "EvaluatorHoldout: Processed 35595 (100.0%) in 49.29 sec. Users per second: 722\n"
     ]
    },
    {
     "name": "stderr",
     "output_type": "stream",
     "text": [
      "[I 2024-12-16 13:46:14,424] Trial 38 finished with value: 0.009467206023674827 and parameters: {'similarity': 'cosine', 'topK': 526, 'shrink': 731, 'feature_weighting': 'none'}. Best is trial 33 with value: 0.01839072725124141.\n"
     ]
    },
    {
     "name": "stdout",
     "output_type": "stream",
     "text": [
      "Similarity column 38121 (100.0%), 664.51 column/sec. Elapsed time 57.37 sec\n",
      "EvaluatorHoldout: Processed 35595 (100.0%) in 43.12 sec. Users per second: 826\n"
     ]
    },
    {
     "name": "stderr",
     "output_type": "stream",
     "text": [
      "[I 2024-12-16 13:47:55,759] Trial 39 finished with value: 0.017612841334501854 and parameters: {'similarity': 'cosine', 'topK': 222, 'shrink': 647, 'feature_weighting': 'TF-IDF'}. Best is trial 33 with value: 0.01839072725124141.\n"
     ]
    },
    {
     "name": "stdout",
     "output_type": "stream",
     "text": [
      "Similarity column 38121 (100.0%), 646.45 column/sec. Elapsed time 58.97 sec\n",
      "EvaluatorHoldout: Processed 35595 (100.0%) in 54.48 sec. Users per second: 653\n"
     ]
    },
    {
     "name": "stderr",
     "output_type": "stream",
     "text": [
      "[I 2024-12-16 13:49:50,859] Trial 40 finished with value: 0.010871702597787993 and parameters: {'similarity': 'jaccard', 'topK': 655, 'shrink': 119, 'feature_weighting': 'none'}. Best is trial 33 with value: 0.01839072725124141.\n"
     ]
    },
    {
     "name": "stdout",
     "output_type": "stream",
     "text": [
      "Similarity column 38121 (100.0%), 197.66 column/sec. Elapsed time 3.21 min\n",
      "EvaluatorHoldout: Processed 35595 (100.0%) in 36.33 sec. Users per second: 980\n"
     ]
    },
    {
     "name": "stderr",
     "output_type": "stream",
     "text": [
      "[I 2024-12-16 13:53:40,484] Trial 41 finished with value: 0.014114670778177288 and parameters: {'similarity': 'euclidean', 'topK': 36, 'shrink': 316, 'feature_weighting': 'TF-IDF', 'normalize_avg_row': True, 'similarity_from_distance_mode': 'lin', 'normalize': True}. Best is trial 33 with value: 0.01839072725124141.\n"
     ]
    },
    {
     "name": "stdout",
     "output_type": "stream",
     "text": [
      "Similarity column 38121 (100.0%), 659.42 column/sec. Elapsed time 57.81 sec\n",
      "EvaluatorHoldout: Processed 35595 (100.0%) in 37.76 sec. Users per second: 943\n"
     ]
    },
    {
     "name": "stderr",
     "output_type": "stream",
     "text": [
      "[I 2024-12-16 13:55:16,773] Trial 42 finished with value: 0.01770920541274532 and parameters: {'similarity': 'asymmetric', 'topK': 93, 'shrink': 473, 'feature_weighting': 'TF-IDF', 'asymmetric_alpha': 0.1713747336077018}. Best is trial 33 with value: 0.01839072725124141.\n"
     ]
    },
    {
     "name": "stdout",
     "output_type": "stream",
     "text": [
      "Similarity column 38121 (100.0%), 666.45 column/sec. Elapsed time 57.20 sec\n",
      "EvaluatorHoldout: Processed 35595 (100.0%) in 40.62 sec. Users per second: 876\n"
     ]
    },
    {
     "name": "stderr",
     "output_type": "stream",
     "text": [
      "[I 2024-12-16 13:56:55,674] Trial 43 finished with value: 0.012321277511332634 and parameters: {'similarity': 'dice', 'topK': 158, 'shrink': 197, 'feature_weighting': 'TF-IDF'}. Best is trial 33 with value: 0.01839072725124141.\n"
     ]
    },
    {
     "name": "stdout",
     "output_type": "stream",
     "text": [
      "Similarity column 38121 (100.0%), 668.41 column/sec. Elapsed time 57.03 sec\n",
      "EvaluatorHoldout: Processed 35595 (100.0%) in 35.49 sec. Users per second: 1003\n"
     ]
    },
    {
     "name": "stderr",
     "output_type": "stream",
     "text": [
      "[I 2024-12-16 13:58:28,757] Trial 44 finished with value: 0.01837229791949558 and parameters: {'similarity': 'cosine', 'topK': 47, 'shrink': 587, 'feature_weighting': 'TF-IDF'}. Best is trial 33 with value: 0.01839072725124141.\n"
     ]
    },
    {
     "name": "stdout",
     "output_type": "stream",
     "text": [
      "Similarity column 38121 (100.0%), 663.86 column/sec. Elapsed time 57.42 sec\n",
      "EvaluatorHoldout: Processed 35595 (100.0%) in 34.26 sec. Users per second: 1039\n"
     ]
    },
    {
     "name": "stderr",
     "output_type": "stream",
     "text": [
      "[I 2024-12-16 14:00:00,985] Trial 45 finished with value: 0.01861113006330036 and parameters: {'similarity': 'cosine', 'topK': 31, 'shrink': 592, 'feature_weighting': 'TF-IDF'}. Best is trial 45 with value: 0.01861113006330036.\n"
     ]
    },
    {
     "name": "stdout",
     "output_type": "stream",
     "text": [
      "Similarity column 38121 (100.0%), 662.36 column/sec. Elapsed time 57.55 sec\n",
      "EvaluatorHoldout: Processed 35595 (100.0%) in 34.82 sec. Users per second: 1022\n"
     ]
    },
    {
     "name": "stderr",
     "output_type": "stream",
     "text": [
      "[I 2024-12-16 14:01:33,939] Trial 46 finished with value: 0.018405992682225293 and parameters: {'similarity': 'cosine', 'topK': 39, 'shrink': 735, 'feature_weighting': 'TF-IDF'}. Best is trial 45 with value: 0.01861113006330036.\n"
     ]
    },
    {
     "name": "stdout",
     "output_type": "stream",
     "text": [
      "Similarity column 38121 (100.0%), 660.33 column/sec. Elapsed time 57.73 sec\n",
      "EvaluatorHoldout: Processed 35595 (100.0%) in 39.06 sec. Users per second: 911\n"
     ]
    },
    {
     "name": "stderr",
     "output_type": "stream",
     "text": [
      "[I 2024-12-16 14:03:11,240] Trial 47 finished with value: 0.01130873004724699 and parameters: {'similarity': 'cosine', 'topK': 107, 'shrink': 746, 'feature_weighting': 'none'}. Best is trial 45 with value: 0.01861113006330036.\n"
     ]
    },
    {
     "name": "stdout",
     "output_type": "stream",
     "text": [
      "Similarity column 38121 (100.0%), 657.94 column/sec. Elapsed time 57.94 sec\n",
      "EvaluatorHoldout: Processed 35595 (100.0%) in 43.23 sec. Users per second: 823\n"
     ]
    },
    {
     "name": "stderr",
     "output_type": "stream",
     "text": [
      "[I 2024-12-16 14:04:53,297] Trial 48 finished with value: 0.017575405186656935 and parameters: {'similarity': 'cosine', 'topK': 234, 'shrink': 601, 'feature_weighting': 'TF-IDF'}. Best is trial 45 with value: 0.01861113006330036.\n"
     ]
    },
    {
     "name": "stdout",
     "output_type": "stream",
     "text": [
      "Similarity column 38121 (100.0%), 667.85 column/sec. Elapsed time 57.08 sec\n",
      "EvaluatorHoldout: Processed 35595 (100.0%) in 34.66 sec. Users per second: 1027\n"
     ]
    },
    {
     "name": "stderr",
     "output_type": "stream",
     "text": [
      "[I 2024-12-16 14:06:25,623] Trial 49 finished with value: 0.018385642490362297 and parameters: {'similarity': 'cosine', 'topK': 34, 'shrink': 808, 'feature_weighting': 'BM25'}. Best is trial 45 with value: 0.01861113006330036.\n"
     ]
    },
    {
     "name": "stdout",
     "output_type": "stream",
     "text": [
      "Similarity column 38121 (100.0%), 660.51 column/sec. Elapsed time 57.71 sec\n",
      "EvaluatorHoldout: Processed 35595 (100.0%) in 39.55 sec. Users per second: 900\n"
     ]
    },
    {
     "name": "stderr",
     "output_type": "stream",
     "text": [
      "[I 2024-12-16 14:08:03,602] Trial 50 finished with value: 0.017686404814302083 and parameters: {'similarity': 'cosine', 'topK': 137, 'shrink': 853, 'feature_weighting': 'BM25'}. Best is trial 45 with value: 0.01861113006330036.\n"
     ]
    },
    {
     "name": "stdout",
     "output_type": "stream",
     "text": [
      "Similarity column 38121 (100.0%), 663.80 column/sec. Elapsed time 57.43 sec\n",
      "EvaluatorHoldout: Processed 35595 (100.0%) in 35.18 sec. Users per second: 1012\n"
     ]
    },
    {
     "name": "stderr",
     "output_type": "stream",
     "text": [
      "[I 2024-12-16 14:09:36,791] Trial 51 finished with value: 0.018350187403706218 and parameters: {'similarity': 'cosine', 'topK': 33, 'shrink': 796, 'feature_weighting': 'BM25'}. Best is trial 45 with value: 0.01861113006330036.\n"
     ]
    },
    {
     "name": "stdout",
     "output_type": "stream",
     "text": [
      "Similarity column 38121 (100.0%), 662.36 column/sec. Elapsed time 57.55 sec\n",
      "EvaluatorHoldout: Processed 35595 (100.0%) in 37.15 sec. Users per second: 958\n"
     ]
    },
    {
     "name": "stderr",
     "output_type": "stream",
     "text": [
      "[I 2024-12-16 14:11:12,143] Trial 52 finished with value: 0.01790225018227555 and parameters: {'similarity': 'cosine', 'topK': 84, 'shrink': 694, 'feature_weighting': 'BM25'}. Best is trial 45 with value: 0.01861113006330036.\n"
     ]
    },
    {
     "name": "stdout",
     "output_type": "stream",
     "text": [
      "Similarity column 38121 (100.0%), 669.22 column/sec. Elapsed time 56.96 sec\n",
      "EvaluatorHoldout: Processed 35595 (100.0%) in 34.75 sec. Users per second: 1024\n"
     ]
    },
    {
     "name": "stderr",
     "output_type": "stream",
     "text": [
      "[I 2024-12-16 14:12:44,473] Trial 53 finished with value: 0.01843146665418055 and parameters: {'similarity': 'cosine', 'topK': 39, 'shrink': 919, 'feature_weighting': 'BM25'}. Best is trial 45 with value: 0.01861113006330036.\n"
     ]
    },
    {
     "name": "stdout",
     "output_type": "stream",
     "text": [
      "Similarity column 38121 (100.0%), 670.64 column/sec. Elapsed time 56.84 sec\n",
      "EvaluatorHoldout: Processed 35595 (100.0%) in 34.21 sec. Users per second: 1041\n"
     ]
    },
    {
     "name": "stderr",
     "output_type": "stream",
     "text": [
      "[I 2024-12-16 14:14:16,102] Trial 54 finished with value: 0.018492231832097 and parameters: {'similarity': 'cosine', 'topK': 30, 'shrink': 915, 'feature_weighting': 'BM25'}. Best is trial 45 with value: 0.01861113006330036.\n"
     ]
    },
    {
     "name": "stdout",
     "output_type": "stream",
     "text": [
      "Similarity column 38121 (100.0%), 667.06 column/sec. Elapsed time 57.15 sec\n",
      "EvaluatorHoldout: Processed 35595 (100.0%) in 37.20 sec. Users per second: 957\n"
     ]
    },
    {
     "name": "stderr",
     "output_type": "stream",
     "text": [
      "[I 2024-12-16 14:15:51,115] Trial 55 finished with value: 0.018043722700486386 and parameters: {'similarity': 'cosine', 'topK': 85, 'shrink': 776, 'feature_weighting': 'BM25'}. Best is trial 45 with value: 0.01861113006330036.\n"
     ]
    },
    {
     "name": "stdout",
     "output_type": "stream",
     "text": [
      "Similarity column 38121 (100.0%), 663.55 column/sec. Elapsed time 57.45 sec\n",
      "EvaluatorHoldout: Processed 35595 (100.0%) in 33.97 sec. Users per second: 1048\n"
     ]
    },
    {
     "name": "stderr",
     "output_type": "stream",
     "text": [
      "[I 2024-12-16 14:17:23,132] Trial 56 finished with value: 0.018491471514859657 and parameters: {'similarity': 'cosine', 'topK': 28, 'shrink': 938, 'feature_weighting': 'BM25'}. Best is trial 45 with value: 0.01861113006330036.\n"
     ]
    },
    {
     "name": "stdout",
     "output_type": "stream",
     "text": [
      "Similarity column 38121 (100.0%), 192.41 column/sec. Elapsed time 3.30 min\n",
      "EvaluatorHoldout: Processed 35595 (100.0%) in 34.31 sec. Users per second: 1037\n"
     ]
    },
    {
     "name": "stderr",
     "output_type": "stream",
     "text": [
      "[I 2024-12-16 14:21:16,023] Trial 57 finished with value: 0.015735290314093812 and parameters: {'similarity': 'euclidean', 'topK': 26, 'shrink': 952, 'feature_weighting': 'BM25', 'normalize_avg_row': True, 'similarity_from_distance_mode': 'lin', 'normalize': True}. Best is trial 45 with value: 0.01861113006330036.\n"
     ]
    },
    {
     "name": "stdout",
     "output_type": "stream",
     "text": [
      "Similarity column 38121 (100.0%), 661.39 column/sec. Elapsed time 57.64 sec\n",
      "EvaluatorHoldout: Processed 35595 (100.0%) in 36.89 sec. Users per second: 965\n"
     ]
    },
    {
     "name": "stderr",
     "output_type": "stream",
     "text": [
      "[I 2024-12-16 14:22:51,223] Trial 58 finished with value: 0.01819645504875179 and parameters: {'similarity': 'cosine', 'topK': 73, 'shrink': 890, 'feature_weighting': 'BM25'}. Best is trial 45 with value: 0.01861113006330036.\n"
     ]
    },
    {
     "name": "stdout",
     "output_type": "stream",
     "text": [
      "Similarity column 38121 (100.0%), 658.35 column/sec. Elapsed time 57.90 sec\n",
      "EvaluatorHoldout: Processed 35595 (100.0%) in 39.43 sec. Users per second: 903\n"
     ]
    },
    {
     "name": "stderr",
     "output_type": "stream",
     "text": [
      "[I 2024-12-16 14:24:29,285] Trial 59 finished with value: 0.017838222998147208 and parameters: {'similarity': 'cosine', 'topK': 123, 'shrink': 935, 'feature_weighting': 'BM25'}. Best is trial 45 with value: 0.01861113006330036.\n"
     ]
    },
    {
     "name": "stdout",
     "output_type": "stream",
     "text": [
      "Similarity column 38121 (100.0%), 648.09 column/sec. Elapsed time 58.82 sec\n",
      "EvaluatorHoldout: Processed 35595 (100.0%) in 40.78 sec. Users per second: 873\n"
     ]
    },
    {
     "name": "stderr",
     "output_type": "stream",
     "text": [
      "[I 2024-12-16 14:26:10,039] Trial 60 finished with value: 0.011756919221310622 and parameters: {'similarity': 'tversky', 'topK': 165, 'shrink': 899, 'feature_weighting': 'BM25', 'tversky_alpha': 1.9357720254333366, 'tversky_beta': 1.9479380898789105}. Best is trial 45 with value: 0.01861113006330036.\n"
     ]
    },
    {
     "name": "stdout",
     "output_type": "stream",
     "text": [
      "Similarity column 38121 (100.0%), 668.05 column/sec. Elapsed time 57.06 sec\n",
      "EvaluatorHoldout: Processed 35595 (100.0%) in 33.59 sec. Users per second: 1060\n"
     ]
    },
    {
     "name": "stderr",
     "output_type": "stream",
     "text": [
      "[I 2024-12-16 14:27:41,291] Trial 61 finished with value: 0.01864415481040011 and parameters: {'similarity': 'cosine', 'topK': 22, 'shrink': 993, 'feature_weighting': 'BM25'}. Best is trial 61 with value: 0.01864415481040011.\n"
     ]
    },
    {
     "name": "stdout",
     "output_type": "stream",
     "text": [
      "Similarity column 38121 (100.0%), 865.68 column/sec. Elapsed time 44.04 sec\n",
      "EvaluatorHoldout: Processed 35595 (100.0%) in 28.32 sec. Users per second: 1257\n"
     ]
    },
    {
     "name": "stderr",
     "output_type": "stream",
     "text": [
      "[I 2024-12-16 14:28:54,261] Trial 62 finished with value: 0.01608367057081781 and parameters: {'similarity': 'cosine', 'topK': 1, 'shrink': 844, 'feature_weighting': 'BM25'}. Best is trial 61 with value: 0.01864415481040011.\n"
     ]
    },
    {
     "name": "stdout",
     "output_type": "stream",
     "text": [
      "Similarity column 38121 (100.0%), 665.68 column/sec. Elapsed time 57.27 sec\n",
      "EvaluatorHoldout: Processed 35595 (100.0%) in 36.95 sec. Users per second: 963\n"
     ]
    },
    {
     "name": "stderr",
     "output_type": "stream",
     "text": [
      "[I 2024-12-16 14:30:29,108] Trial 63 finished with value: 0.01822740954789002 and parameters: {'similarity': 'cosine', 'topK': 73, 'shrink': 997, 'feature_weighting': 'BM25'}. Best is trial 61 with value: 0.01864415481040011.\n"
     ]
    },
    {
     "name": "stdout",
     "output_type": "stream",
     "text": [
      "Similarity column 38121 (100.0%), 665.75 column/sec. Elapsed time 57.26 sec\n",
      "EvaluatorHoldout: Processed 35595 (100.0%) in 33.52 sec. Users per second: 1062\n"
     ]
    },
    {
     "name": "stderr",
     "output_type": "stream",
     "text": [
      "[I 2024-12-16 14:32:00,447] Trial 64 finished with value: 0.018599975027703705 and parameters: {'similarity': 'cosine', 'topK': 21, 'shrink': 928, 'feature_weighting': 'BM25'}. Best is trial 61 with value: 0.01864415481040011.\n"
     ]
    },
    {
     "name": "stdout",
     "output_type": "stream",
     "text": [
      "Similarity column 38121 (100.0%), 670.40 column/sec. Elapsed time 56.86 sec\n",
      "EvaluatorHoldout: Processed 35595 (100.0%) in 33.17 sec. Users per second: 1073\n"
     ]
    },
    {
     "name": "stderr",
     "output_type": "stream",
     "text": [
      "[I 2024-12-16 14:33:31,028] Trial 65 finished with value: 0.018544316907359477 and parameters: {'similarity': 'cosine', 'topK': 18, 'shrink': 931, 'feature_weighting': 'BM25'}. Best is trial 61 with value: 0.01864415481040011.\n"
     ]
    },
    {
     "name": "stdout",
     "output_type": "stream",
     "text": [
      "Similarity column 38121 (100.0%), 778.19 column/sec. Elapsed time 48.99 sec\n",
      "EvaluatorHoldout: Processed 35595 (100.0%) in 31.14 sec. Users per second: 1143\n"
     ]
    },
    {
     "name": "stderr",
     "output_type": "stream",
     "text": [
      "[I 2024-12-16 14:34:51,718] Trial 66 finished with value: 0.017913999424745294 and parameters: {'similarity': 'cosine', 'topK': 2, 'shrink': 929, 'feature_weighting': 'BM25'}. Best is trial 61 with value: 0.01864415481040011.\n"
     ]
    },
    {
     "name": "stdout",
     "output_type": "stream",
     "text": [
      "Similarity column 38121 (100.0%), 656.98 column/sec. Elapsed time 58.03 sec\n",
      "EvaluatorHoldout: Processed 35595 (100.0%) in 38.19 sec. Users per second: 932\n"
     ]
    },
    {
     "name": "stderr",
     "output_type": "stream",
     "text": [
      "[I 2024-12-16 14:36:28,630] Trial 67 finished with value: 0.01808255239165488 and parameters: {'similarity': 'cosine', 'topK': 101, 'shrink': 960, 'feature_weighting': 'BM25'}. Best is trial 61 with value: 0.01864415481040011.\n"
     ]
    },
    {
     "name": "stdout",
     "output_type": "stream",
     "text": [
      "Similarity column 38121 (100.0%), 664.00 column/sec. Elapsed time 57.41 sec\n",
      "EvaluatorHoldout: Processed 35595 (100.0%) in 33.71 sec. Users per second: 1056\n"
     ]
    },
    {
     "name": "stderr",
     "output_type": "stream",
     "text": [
      "[I 2024-12-16 14:38:00,300] Trial 68 finished with value: 0.018556368270021866 and parameters: {'similarity': 'cosine', 'topK': 18, 'shrink': 908, 'feature_weighting': 'BM25'}. Best is trial 61 with value: 0.01864415481040011.\n"
     ]
    },
    {
     "name": "stdout",
     "output_type": "stream",
     "text": [
      "Similarity column 38121 (100.0%), 664.84 column/sec. Elapsed time 57.34 sec\n",
      "EvaluatorHoldout: Processed 35595 (100.0%) in 33.36 sec. Users per second: 1067\n"
     ]
    },
    {
     "name": "stderr",
     "output_type": "stream",
     "text": [
      "[I 2024-12-16 14:39:31,903] Trial 69 finished with value: 0.012790848099318767 and parameters: {'similarity': 'jaccard', 'topK': 23, 'shrink': 872, 'feature_weighting': 'BM25'}. Best is trial 61 with value: 0.01864415481040011.\n"
     ]
    },
    {
     "name": "stdout",
     "output_type": "stream",
     "text": [
      "Similarity column 38121 (100.0%), 664.57 column/sec. Elapsed time 57.36 sec\n",
      "EvaluatorHoldout: Processed 35595 (100.0%) in 36.15 sec. Users per second: 985\n"
     ]
    },
    {
     "name": "stderr",
     "output_type": "stream",
     "text": [
      "[I 2024-12-16 14:41:06,386] Trial 70 finished with value: 0.012000451508037179 and parameters: {'similarity': 'dice', 'topK': 64, 'shrink': 996, 'feature_weighting': 'BM25'}. Best is trial 61 with value: 0.01864415481040011.\n"
     ]
    },
    {
     "name": "stdout",
     "output_type": "stream",
     "text": [
      "Similarity column 38121 (100.0%), 666.93 column/sec. Elapsed time 57.16 sec\n",
      "EvaluatorHoldout: Processed 35595 (100.0%) in 33.57 sec. Users per second: 1060\n"
     ]
    },
    {
     "name": "stderr",
     "output_type": "stream",
     "text": [
      "[I 2024-12-16 14:42:37,667] Trial 71 finished with value: 0.018643353244280396 and parameters: {'similarity': 'cosine', 'topK': 20, 'shrink': 911, 'feature_weighting': 'BM25'}. Best is trial 61 with value: 0.01864415481040011.\n"
     ]
    },
    {
     "name": "stdout",
     "output_type": "stream",
     "text": [
      "Similarity column 38121 (100.0%), 664.70 column/sec. Elapsed time 57.35 sec\n",
      "EvaluatorHoldout: Processed 35595 (100.0%) in 33.27 sec. Users per second: 1070\n"
     ]
    },
    {
     "name": "stderr",
     "output_type": "stream",
     "text": [
      "[I 2024-12-16 14:44:08,859] Trial 72 finished with value: 0.018572353884195387 and parameters: {'similarity': 'cosine', 'topK': 18, 'shrink': 836, 'feature_weighting': 'BM25'}. Best is trial 61 with value: 0.01864415481040011.\n"
     ]
    },
    {
     "name": "stdout",
     "output_type": "stream",
     "text": [
      "Similarity column 38121 (100.0%), 924.81 column/sec. Elapsed time 41.22 sec\n",
      "EvaluatorHoldout: Processed 35595 (100.0%) in 24.87 sec. Users per second: 1431\n"
     ]
    },
    {
     "name": "stderr",
     "output_type": "stream",
     "text": [
      "[I 2024-12-16 14:45:15,502] Trial 73 finished with value: 0.00028209999175022335 and parameters: {'similarity': 'cosine', 'topK': 0, 'shrink': 836, 'feature_weighting': 'BM25'}. Best is trial 61 with value: 0.01864415481040011.\n"
     ]
    },
    {
     "name": "stdout",
     "output_type": "stream",
     "text": [
      "Similarity column 38121 (100.0%), 654.16 column/sec. Elapsed time 58.27 sec\n",
      "EvaluatorHoldout: Processed 35595 (100.0%) in 49.12 sec. Users per second: 725\n"
     ]
    },
    {
     "name": "stderr",
     "output_type": "stream",
     "text": [
      "[I 2024-12-16 14:47:04,053] Trial 74 finished with value: 0.016786845842893215 and parameters: {'similarity': 'cosine', 'topK': 399, 'shrink': 890, 'feature_weighting': 'BM25'}. Best is trial 61 with value: 0.01864415481040011.\n"
     ]
    },
    {
     "name": "stdout",
     "output_type": "stream",
     "text": [
      "Similarity column 38121 (100.0%), 647.61 column/sec. Elapsed time 58.86 sec\n",
      "EvaluatorHoldout: Processed 35595 (100.0%) in 36.89 sec. Users per second: 965\n"
     ]
    },
    {
     "name": "stderr",
     "output_type": "stream",
     "text": [
      "[I 2024-12-16 14:48:40,822] Trial 75 finished with value: 0.011863480692178886 and parameters: {'similarity': 'tversky', 'topK': 69, 'shrink': 984, 'feature_weighting': 'BM25', 'tversky_alpha': 0.9965706266740588, 'tversky_beta': 1.0172931609569928}. Best is trial 61 with value: 0.01864415481040011.\n"
     ]
    },
    {
     "name": "stdout",
     "output_type": "stream",
     "text": [
      "Similarity column 38121 (100.0%), 661.41 column/sec. Elapsed time 57.64 sec\n",
      "EvaluatorHoldout: Processed 35595 (100.0%) in 33.74 sec. Users per second: 1055\n"
     ]
    },
    {
     "name": "stderr",
     "output_type": "stream",
     "text": [
      "[I 2024-12-16 14:50:12,835] Trial 76 finished with value: 0.018597801100118855 and parameters: {'similarity': 'cosine', 'topK': 19, 'shrink': 964, 'feature_weighting': 'BM25'}. Best is trial 61 with value: 0.01864415481040011.\n"
     ]
    },
    {
     "name": "stdout",
     "output_type": "stream",
     "text": [
      "Similarity column 38121 (100.0%), 666.18 column/sec. Elapsed time 57.22 sec\n",
      "EvaluatorHoldout: Processed 35595 (100.0%) in 33.09 sec. Users per second: 1076\n"
     ]
    },
    {
     "name": "stderr",
     "output_type": "stream",
     "text": [
      "[I 2024-12-16 14:51:43,737] Trial 77 finished with value: 0.018561817581834436 and parameters: {'similarity': 'cosine', 'topK': 15, 'shrink': 965, 'feature_weighting': 'BM25'}. Best is trial 61 with value: 0.01864415481040011.\n"
     ]
    },
    {
     "name": "stdout",
     "output_type": "stream",
     "text": [
      "Similarity column 38121 (100.0%), 176.34 column/sec. Elapsed time 3.60 min\n",
      "EvaluatorHoldout: Processed 35595 (100.0%) in 36.36 sec. Users per second: 979\n"
     ]
    },
    {
     "name": "stderr",
     "output_type": "stream",
     "text": [
      "[I 2024-12-16 14:55:56,797] Trial 78 finished with value: 0.013111353030232475 and parameters: {'similarity': 'euclidean', 'topK': 59, 'shrink': 971, 'feature_weighting': 'BM25', 'normalize_avg_row': True, 'similarity_from_distance_mode': 'exp', 'normalize': True}. Best is trial 61 with value: 0.01864415481040011.\n"
     ]
    },
    {
     "name": "stdout",
     "output_type": "stream",
     "text": [
      "Similarity column 38121 (100.0%), 661.51 column/sec. Elapsed time 57.63 sec\n",
      "EvaluatorHoldout: Processed 35595 (100.0%) in 37.64 sec. Users per second: 946\n"
     ]
    },
    {
     "name": "stderr",
     "output_type": "stream",
     "text": [
      "[I 2024-12-16 14:57:32,730] Trial 79 finished with value: 0.017962660842770404 and parameters: {'similarity': 'cosine', 'topK': 91, 'shrink': 769, 'feature_weighting': 'BM25'}. Best is trial 61 with value: 0.01864415481040011.\n"
     ]
    },
    {
     "name": "stdout",
     "output_type": "stream",
     "text": [
      "Similarity column 38121 (100.0%), 654.49 column/sec. Elapsed time 58.24 sec\n",
      "EvaluatorHoldout: Processed 35595 (100.0%) in 39.91 sec. Users per second: 892\n"
     ]
    },
    {
     "name": "stderr",
     "output_type": "stream",
     "text": [
      "[I 2024-12-16 14:59:11,631] Trial 80 finished with value: 0.01762487597464428 and parameters: {'similarity': 'cosine', 'topK': 146, 'shrink': 870, 'feature_weighting': 'BM25'}. Best is trial 61 with value: 0.01864415481040011.\n"
     ]
    },
    {
     "name": "stdout",
     "output_type": "stream",
     "text": [
      "Similarity column 38121 (100.0%), 661.92 column/sec. Elapsed time 57.59 sec\n",
      "EvaluatorHoldout: Processed 35595 (100.0%) in 33.85 sec. Users per second: 1052\n"
     ]
    },
    {
     "name": "stderr",
     "output_type": "stream",
     "text": [
      "[I 2024-12-16 15:00:43,674] Trial 81 finished with value: 0.018568856647870582 and parameters: {'similarity': 'cosine', 'topK': 18, 'shrink': 959, 'feature_weighting': 'BM25'}. Best is trial 61 with value: 0.01864415481040011.\n"
     ]
    },
    {
     "name": "stdout",
     "output_type": "stream",
     "text": [
      "Similarity column 38121 (100.0%), 653.43 column/sec. Elapsed time 58.34 sec\n",
      "EvaluatorHoldout: Processed 35595 (100.0%) in 33.20 sec. Users per second: 1072\n"
     ]
    },
    {
     "name": "stderr",
     "output_type": "stream",
     "text": [
      "[I 2024-12-16 15:02:15,877] Trial 82 finished with value: 0.01851598895867753 and parameters: {'similarity': 'cosine', 'topK': 17, 'shrink': 954, 'feature_weighting': 'BM25'}. Best is trial 61 with value: 0.01864415481040011.\n"
     ]
    },
    {
     "name": "stdout",
     "output_type": "stream",
     "text": [
      "Similarity column 38121 (100.0%), 649.15 column/sec. Elapsed time 58.72 sec\n",
      "EvaluatorHoldout: Processed 35595 (100.0%) in 45.71 sec. Users per second: 779\n"
     ]
    },
    {
     "name": "stderr",
     "output_type": "stream",
     "text": [
      "[I 2024-12-16 15:04:01,388] Trial 83 finished with value: 0.017091348437113456 and parameters: {'similarity': 'cosine', 'topK': 305, 'shrink': 906, 'feature_weighting': 'BM25'}. Best is trial 61 with value: 0.01864415481040011.\n"
     ]
    },
    {
     "name": "stdout",
     "output_type": "stream",
     "text": [
      "Similarity column 38121 (100.0%), 656.11 column/sec. Elapsed time 58.10 sec\n",
      "EvaluatorHoldout: Processed 35595 (100.0%) in 35.83 sec. Users per second: 994\n"
     ]
    },
    {
     "name": "stderr",
     "output_type": "stream",
     "text": [
      "[I 2024-12-16 15:05:35,848] Trial 84 finished with value: 0.011694945562623921 and parameters: {'similarity': 'cosine', 'topK': 56, 'shrink': 971, 'feature_weighting': 'none'}. Best is trial 61 with value: 0.01864415481040011.\n"
     ]
    },
    {
     "name": "stdout",
     "output_type": "stream",
     "text": [
      "Similarity column 38121 (100.0%), 662.89 column/sec. Elapsed time 57.51 sec\n",
      "EvaluatorHoldout: Processed 35595 (100.0%) in 38.86 sec. Users per second: 916\n"
     ]
    },
    {
     "name": "stderr",
     "output_type": "stream",
     "text": [
      "[I 2024-12-16 15:07:12,927] Trial 85 finished with value: 0.01779364633431222 and parameters: {'similarity': 'cosine', 'topK': 117, 'shrink': 872, 'feature_weighting': 'BM25'}. Best is trial 61 with value: 0.01864415481040011.\n"
     ]
    },
    {
     "name": "stdout",
     "output_type": "stream",
     "text": [
      "Similarity column 38121 (100.0%), 668.69 column/sec. Elapsed time 57.01 sec\n",
      "EvaluatorHoldout: Processed 35595 (100.0%) in 35.45 sec. Users per second: 1004\n"
     ]
    },
    {
     "name": "stderr",
     "output_type": "stream",
     "text": [
      "[I 2024-12-16 15:08:46,374] Trial 86 finished with value: 0.012935868021414117 and parameters: {'similarity': 'jaccard', 'topK': 18, 'shrink': 957, 'feature_weighting': 'BM25'}. Best is trial 61 with value: 0.01864415481040011.\n"
     ]
    },
    {
     "name": "stdout",
     "output_type": "stream",
     "text": [
      "Similarity column 38121 (100.0%), 652.82 column/sec. Elapsed time 58.39 sec\n",
      "EvaluatorHoldout: Processed 35595 (100.0%) in 50.51 sec. Users per second: 705\n"
     ]
    },
    {
     "name": "stderr",
     "output_type": "stream",
     "text": [
      "[I 2024-12-16 15:10:36,552] Trial 87 finished with value: 0.016479278568195758 and parameters: {'similarity': 'cosine', 'topK': 500, 'shrink': 830, 'feature_weighting': 'BM25'}. Best is trial 61 with value: 0.01864415481040011.\n"
     ]
    },
    {
     "name": "stdout",
     "output_type": "stream",
     "text": [
      "Similarity column 38121 (100.0%), 649.03 column/sec. Elapsed time 58.74 sec\n",
      "EvaluatorHoldout: Processed 35595 (100.0%) in 55.73 sec. Users per second: 639\n"
     ]
    },
    {
     "name": "stderr",
     "output_type": "stream",
     "text": [
      "[I 2024-12-16 15:12:32,884] Trial 88 finished with value: 0.009249853399242567 and parameters: {'similarity': 'dice', 'topK': 737, 'shrink': 904, 'feature_weighting': 'BM25'}. Best is trial 61 with value: 0.01864415481040011.\n"
     ]
    },
    {
     "name": "stdout",
     "output_type": "stream",
     "text": [
      "Similarity column 38121 (100.0%), 652.76 column/sec. Elapsed time 58.40 sec\n",
      "EvaluatorHoldout: Processed 35595 (100.0%) in 54.05 sec. Users per second: 659\n"
     ]
    },
    {
     "name": "stderr",
     "output_type": "stream",
     "text": [
      "[I 2024-12-16 15:14:26,773] Trial 89 finished with value: 0.0164699117273919 and parameters: {'similarity': 'cosine', 'topK': 647, 'shrink': 992, 'feature_weighting': 'BM25'}. Best is trial 61 with value: 0.01864415481040011.\n"
     ]
    },
    {
     "name": "stdout",
     "output_type": "stream",
     "text": [
      "Similarity column 38121 (100.0%), 662.51 column/sec. Elapsed time 57.54 sec\n",
      "EvaluatorHoldout: Processed 35595 (100.0%) in 35.12 sec. Users per second: 1014\n"
     ]
    },
    {
     "name": "stderr",
     "output_type": "stream",
     "text": [
      "[I 2024-12-16 15:15:59,904] Trial 90 finished with value: 0.011801514837334768 and parameters: {'similarity': 'cosine', 'topK': 50, 'shrink': 857, 'feature_weighting': 'none'}. Best is trial 61 with value: 0.01864415481040011.\n"
     ]
    },
    {
     "name": "stdout",
     "output_type": "stream",
     "text": [
      "Similarity column 38121 (100.0%), 665.85 column/sec. Elapsed time 57.25 sec\n",
      "EvaluatorHoldout: Processed 35595 (100.0%) in 33.07 sec. Users per second: 1076\n"
     ]
    },
    {
     "name": "stderr",
     "output_type": "stream",
     "text": [
      "[I 2024-12-16 15:17:30,784] Trial 91 finished with value: 0.018497799316383404 and parameters: {'similarity': 'cosine', 'topK': 17, 'shrink': 929, 'feature_weighting': 'BM25'}. Best is trial 61 with value: 0.01864415481040011.\n"
     ]
    },
    {
     "name": "stdout",
     "output_type": "stream",
     "text": [
      "Similarity column 38121 (100.0%), 663.74 column/sec. Elapsed time 57.43 sec\n",
      "EvaluatorHoldout: Processed 35595 (100.0%) in 33.12 sec. Users per second: 1075\n"
     ]
    },
    {
     "name": "stderr",
     "output_type": "stream",
     "text": [
      "[I 2024-12-16 15:19:01,909] Trial 92 finished with value: 0.018526941094366287 and parameters: {'similarity': 'cosine', 'topK': 17, 'shrink': 941, 'feature_weighting': 'BM25'}. Best is trial 61 with value: 0.01864415481040011.\n"
     ]
    },
    {
     "name": "stdout",
     "output_type": "stream",
     "text": [
      "Similarity column 38121 (100.0%), 663.33 column/sec. Elapsed time 57.47 sec\n",
      "EvaluatorHoldout: Processed 35595 (100.0%) in 38.10 sec. Users per second: 934\n"
     ]
    },
    {
     "name": "stderr",
     "output_type": "stream",
     "text": [
      "[I 2024-12-16 15:20:38,142] Trial 93 finished with value: 0.01818947729862189 and parameters: {'similarity': 'cosine', 'topK': 78, 'shrink': 964, 'feature_weighting': 'BM25'}. Best is trial 61 with value: 0.01864415481040011.\n"
     ]
    },
    {
     "name": "stdout",
     "output_type": "stream",
     "text": [
      "Similarity column 38121 (100.0%), 665.54 column/sec. Elapsed time 57.28 sec\n",
      "EvaluatorHoldout: Processed 35595 (100.0%) in 35.73 sec. Users per second: 996\n"
     ]
    },
    {
     "name": "stderr",
     "output_type": "stream",
     "text": [
      "[I 2024-12-16 15:22:11,773] Trial 94 finished with value: 0.018388248973794773 and parameters: {'similarity': 'cosine', 'topK': 51, 'shrink': 919, 'feature_weighting': 'BM25'}. Best is trial 61 with value: 0.01864415481040011.\n"
     ]
    },
    {
     "name": "stdout",
     "output_type": "stream",
     "text": [
      "Similarity column 38121 (100.0%), 653.02 column/sec. Elapsed time 58.38 sec\n",
      "EvaluatorHoldout: Processed 35595 (100.0%) in 32.33 sec. Users per second: 1101\n"
     ]
    },
    {
     "name": "stderr",
     "output_type": "stream",
     "text": [
      "[I 2024-12-16 15:23:43,497] Trial 95 finished with value: 0.012200294539317171 and parameters: {'similarity': 'tversky', 'topK': 16, 'shrink': 804, 'feature_weighting': 'BM25', 'tversky_alpha': 0.052605976681216804, 'tversky_beta': 0.03408776106625466}. Best is trial 61 with value: 0.01864415481040011.\n"
     ]
    },
    {
     "name": "stdout",
     "output_type": "stream",
     "text": [
      "Similarity column 38121 (100.0%), 863.31 column/sec. Elapsed time 44.16 sec\n",
      "EvaluatorHoldout: Processed 35595 (100.0%) in 28.46 sec. Users per second: 1251\n"
     ]
    },
    {
     "name": "stderr",
     "output_type": "stream",
     "text": [
      "[I 2024-12-16 15:24:56,690] Trial 96 finished with value: 0.016114792295154848 and parameters: {'similarity': 'cosine', 'topK': 1, 'shrink': 884, 'feature_weighting': 'BM25'}. Best is trial 61 with value: 0.01864415481040011.\n"
     ]
    },
    {
     "name": "stdout",
     "output_type": "stream",
     "text": [
      "Similarity column 38121 (100.0%), 664.70 column/sec. Elapsed time 57.35 sec\n",
      "EvaluatorHoldout: Processed 35595 (100.0%) in 38.09 sec. Users per second: 934\n"
     ]
    },
    {
     "name": "stderr",
     "output_type": "stream",
     "text": [
      "[I 2024-12-16 15:26:32,822] Trial 97 finished with value: 0.0180755947085488 and parameters: {'similarity': 'cosine', 'topK': 104, 'shrink': 981, 'feature_weighting': 'BM25'}. Best is trial 61 with value: 0.01864415481040011.\n"
     ]
    },
    {
     "name": "stdout",
     "output_type": "stream",
     "text": [
      "Similarity column 38121 (100.0%), 191.63 column/sec. Elapsed time 3.32 min\n",
      "EvaluatorHoldout: Processed 35595 (100.0%) in 30.90 sec. Users per second: 1152\n"
     ]
    },
    {
     "name": "stderr",
     "output_type": "stream",
     "text": [
      "[I 2024-12-16 15:30:23,106] Trial 98 finished with value: 0.008737703931130087 and parameters: {'similarity': 'euclidean', 'topK': 34, 'shrink': 945, 'feature_weighting': 'BM25', 'normalize_avg_row': False, 'similarity_from_distance_mode': 'log', 'normalize': False}. Best is trial 61 with value: 0.01864415481040011.\n"
     ]
    },
    {
     "name": "stdout",
     "output_type": "stream",
     "text": [
      "Similarity column 38121 (100.0%), 670.24 column/sec. Elapsed time 56.88 sec\n",
      "EvaluatorHoldout: Processed 35595 (100.0%) in 36.17 sec. Users per second: 984\n"
     ]
    },
    {
     "name": "stderr",
     "output_type": "stream",
     "text": [
      "[I 2024-12-16 15:31:56,774] Trial 99 finished with value: 0.01831197310126939 and parameters: {'similarity': 'cosine', 'topK': 62, 'shrink': 998, 'feature_weighting': 'BM25'}. Best is trial 61 with value: 0.01864415481040011.\n"
     ]
    },
    {
     "name": "stdout",
     "output_type": "stream",
     "text": [
      "Similarity column 38121 (100.0%), 666.14 column/sec. Elapsed time 57.23 sec\n",
      "EvaluatorHoldout: Processed 35595 (100.0%) in 35.39 sec. Users per second: 1006\n"
     ]
    },
    {
     "name": "stderr",
     "output_type": "stream",
     "text": [
      "[I 2024-12-16 15:33:29,980] Trial 100 finished with value: 0.018392340416992833 and parameters: {'similarity': 'cosine', 'topK': 47, 'shrink': 915, 'feature_weighting': 'BM25'}. Best is trial 61 with value: 0.01864415481040011.\n"
     ]
    },
    {
     "name": "stdout",
     "output_type": "stream",
     "text": [
      "Similarity column 38121 (100.0%), 667.31 column/sec. Elapsed time 57.13 sec\n",
      "EvaluatorHoldout: Processed 35595 (100.0%) in 33.31 sec. Users per second: 1069\n"
     ]
    },
    {
     "name": "stderr",
     "output_type": "stream",
     "text": [
      "[I 2024-12-16 15:35:00,964] Trial 101 finished with value: 0.01866762765414265 and parameters: {'similarity': 'cosine', 'topK': 20, 'shrink': 951, 'feature_weighting': 'BM25'}. Best is trial 101 with value: 0.01866762765414265.\n"
     ]
    },
    {
     "name": "stdout",
     "output_type": "stream",
     "text": [
      "Similarity column 38121 (100.0%), 669.65 column/sec. Elapsed time 56.93 sec\n",
      "EvaluatorHoldout: Processed 35595 (100.0%) in 33.94 sec. Users per second: 1049\n"
     ]
    },
    {
     "name": "stderr",
     "output_type": "stream",
     "text": [
      "[I 2024-12-16 15:36:32,411] Trial 102 finished with value: 0.018537161898518877 and parameters: {'similarity': 'cosine', 'topK': 27, 'shrink': 972, 'feature_weighting': 'BM25'}. Best is trial 101 with value: 0.01866762765414265.\n"
     ]
    },
    {
     "name": "stdout",
     "output_type": "stream",
     "text": [
      "Similarity column 38121 (100.0%), 667.36 column/sec. Elapsed time 57.12 sec\n",
      "EvaluatorHoldout: Processed 35595 (100.0%) in 32.97 sec. Users per second: 1080\n"
     ]
    },
    {
     "name": "stderr",
     "output_type": "stream",
     "text": [
      "[I 2024-12-16 15:38:03,051] Trial 103 finished with value: 0.01858631161412454 and parameters: {'similarity': 'cosine', 'topK': 14, 'shrink': 890, 'feature_weighting': 'BM25'}. Best is trial 101 with value: 0.01866762765414265.\n"
     ]
    },
    {
     "name": "stdout",
     "output_type": "stream",
     "text": [
      "Similarity column 38121 (100.0%), 665.13 column/sec. Elapsed time 57.31 sec\n",
      "EvaluatorHoldout: Processed 35595 (100.0%) in 37.14 sec. Users per second: 958\n"
     ]
    },
    {
     "name": "stderr",
     "output_type": "stream",
     "text": [
      "[I 2024-12-16 15:39:38,157] Trial 104 finished with value: 0.018066302561667167 and parameters: {'similarity': 'cosine', 'topK': 88, 'shrink': 850, 'feature_weighting': 'BM25'}. Best is trial 101 with value: 0.01866762765414265.\n"
     ]
    },
    {
     "name": "stdout",
     "output_type": "stream",
     "text": [
      "Similarity column 38121 (100.0%), 668.81 column/sec. Elapsed time 57.00 sec\n",
      "EvaluatorHoldout: Processed 35595 (100.0%) in 36.57 sec. Users per second: 973\n"
     ]
    },
    {
     "name": "stderr",
     "output_type": "stream",
     "text": [
      "[I 2024-12-16 15:41:12,312] Trial 105 finished with value: 0.018411592496716908 and parameters: {'similarity': 'cosine', 'topK': 38, 'shrink': 817, 'feature_weighting': 'BM25'}. Best is trial 101 with value: 0.01866762765414265.\n"
     ]
    },
    {
     "name": "stdout",
     "output_type": "stream",
     "text": [
      "Similarity column 38121 (100.0%), 665.81 column/sec. Elapsed time 57.25 sec\n",
      "EvaluatorHoldout: Processed 35595 (100.0%) in 36.79 sec. Users per second: 968\n"
     ]
    },
    {
     "name": "stderr",
     "output_type": "stream",
     "text": [
      "[I 2024-12-16 15:42:47,030] Trial 106 finished with value: 0.01741427032956759 and parameters: {'similarity': 'cosine', 'topK': 76, 'shrink': 382, 'feature_weighting': 'BM25'}. Best is trial 101 with value: 0.01866762765414265.\n"
     ]
    },
    {
     "name": "stdout",
     "output_type": "stream",
     "text": [
      "Similarity column 38121 (100.0%), 664.76 column/sec. Elapsed time 57.35 sec\n",
      "EvaluatorHoldout: Processed 35595 (100.0%) in 31.67 sec. Users per second: 1124\n"
     ]
    },
    {
     "name": "stderr",
     "output_type": "stream",
     "text": [
      "[I 2024-12-16 15:44:16,484] Trial 107 finished with value: 0.012528450580494732 and parameters: {'similarity': 'cosine', 'topK': 13, 'shrink': 896, 'feature_weighting': 'none'}. Best is trial 101 with value: 0.01866762765414265.\n"
     ]
    },
    {
     "name": "stdout",
     "output_type": "stream",
     "text": [
      "Similarity column 38121 (100.0%), 841.06 column/sec. Elapsed time 45.32 sec\n",
      "EvaluatorHoldout: Processed 35595 (100.0%) in 28.58 sec. Users per second: 1245\n"
     ]
    },
    {
     "name": "stderr",
     "output_type": "stream",
     "text": [
      "[I 2024-12-16 15:45:31,286] Trial 108 finished with value: 0.011985917408589506 and parameters: {'similarity': 'jaccard', 'topK': 1, 'shrink': 868, 'feature_weighting': 'BM25'}. Best is trial 101 with value: 0.01866762765414265.\n"
     ]
    },
    {
     "name": "stdout",
     "output_type": "stream",
     "text": [
      "Similarity column 38121 (100.0%), 657.81 column/sec. Elapsed time 57.95 sec\n",
      "EvaluatorHoldout: Processed 35595 (100.0%) in 35.83 sec. Users per second: 993\n"
     ]
    },
    {
     "name": "stderr",
     "output_type": "stream",
     "text": [
      "[I 2024-12-16 15:47:05,706] Trial 109 finished with value: 0.018295874888795288 and parameters: {'similarity': 'cosine', 'topK': 44, 'shrink': 783, 'feature_weighting': 'BM25'}. Best is trial 101 with value: 0.01866762765414265.\n"
     ]
    },
    {
     "name": "stdout",
     "output_type": "stream",
     "text": [
      "Similarity column 38121 (100.0%), 668.81 column/sec. Elapsed time 57.00 sec\n",
      "EvaluatorHoldout: Processed 35595 (100.0%) in 36.17 sec. Users per second: 984\n"
     ]
    },
    {
     "name": "stderr",
     "output_type": "stream",
     "text": [
      "[I 2024-12-16 15:48:39,501] Trial 110 finished with value: 0.017848641128034436 and parameters: {'similarity': 'cosine', 'topK': 64, 'shrink': 514, 'feature_weighting': 'BM25'}. Best is trial 101 with value: 0.01866762765414265.\n"
     ]
    },
    {
     "name": "stdout",
     "output_type": "stream",
     "text": [
      "Similarity column 38121 (100.0%), 647.67 column/sec. Elapsed time 58.86 sec\n",
      "EvaluatorHoldout: Processed 35595 (100.0%) in 35.51 sec. Users per second: 1002\n"
     ]
    },
    {
     "name": "stderr",
     "output_type": "stream",
     "text": [
      "[I 2024-12-16 15:50:14,521] Trial 111 finished with value: 0.01855318764674016 and parameters: {'similarity': 'cosine', 'topK': 26, 'shrink': 938, 'feature_weighting': 'BM25'}. Best is trial 101 with value: 0.01866762765414265.\n"
     ]
    },
    {
     "name": "stdout",
     "output_type": "stream",
     "text": [
      "Similarity column 38121 (100.0%), 655.78 column/sec. Elapsed time 58.13 sec\n",
      "EvaluatorHoldout: Processed 35595 (100.0%) in 34.03 sec. Users per second: 1046\n"
     ]
    },
    {
     "name": "stderr",
     "output_type": "stream",
     "text": [
      "[I 2024-12-16 15:51:47,338] Trial 112 finished with value: 0.018490441407634856 and parameters: {'similarity': 'cosine', 'topK': 28, 'shrink': 937, 'feature_weighting': 'BM25'}. Best is trial 101 with value: 0.01866762765414265.\n"
     ]
    },
    {
     "name": "stdout",
     "output_type": "stream",
     "text": [
      "Similarity column 38121 (100.0%), 669.06 column/sec. Elapsed time 56.98 sec\n",
      "EvaluatorHoldout: Processed 35595 (100.0%) in 34.10 sec. Users per second: 1044\n"
     ]
    },
    {
     "name": "stderr",
     "output_type": "stream",
     "text": [
      "[I 2024-12-16 15:53:19,011] Trial 113 finished with value: 0.01848841017888642 and parameters: {'similarity': 'cosine', 'topK': 31, 'shrink': 955, 'feature_weighting': 'BM25'}. Best is trial 101 with value: 0.01866762765414265.\n"
     ]
    },
    {
     "name": "stdout",
     "output_type": "stream",
     "text": [
      "Similarity column 38121 (100.0%), 657.55 column/sec. Elapsed time 57.97 sec\n",
      "EvaluatorHoldout: Processed 35595 (100.0%) in 36.32 sec. Users per second: 980\n"
     ]
    },
    {
     "name": "stderr",
     "output_type": "stream",
     "text": [
      "[I 2024-12-16 15:54:54,305] Trial 114 finished with value: 0.012184654523887927 and parameters: {'similarity': 'dice', 'topK': 52, 'shrink': 917, 'feature_weighting': 'BM25'}. Best is trial 101 with value: 0.01866762765414265.\n"
     ]
    },
    {
     "name": "stdout",
     "output_type": "stream",
     "text": [
      "Similarity column 38121 (100.0%), 920.82 column/sec. Elapsed time 41.40 sec\n",
      "EvaluatorHoldout: Processed 35595 (100.0%) in 25.45 sec. Users per second: 1399\n"
     ]
    },
    {
     "name": "stderr",
     "output_type": "stream",
     "text": [
      "[I 2024-12-16 15:56:01,707] Trial 115 finished with value: 0.00028209999175022335 and parameters: {'similarity': 'cosine', 'topK': 0, 'shrink': 878, 'feature_weighting': 'BM25'}. Best is trial 101 with value: 0.01866762765414265.\n"
     ]
    },
    {
     "name": "stdout",
     "output_type": "stream",
     "text": [
      "Similarity column 38121 (100.0%), 658.28 column/sec. Elapsed time 57.91 sec\n",
      "EvaluatorHoldout: Processed 35595 (100.0%) in 33.25 sec. Users per second: 1070\n"
     ]
    },
    {
     "name": "stderr",
     "output_type": "stream",
     "text": [
      "[I 2024-12-16 15:57:33,456] Trial 116 finished with value: 0.018466016495093707 and parameters: {'similarity': 'cosine', 'topK': 15, 'shrink': 636, 'feature_weighting': 'BM25'}. Best is trial 101 with value: 0.01866762765414265.\n"
     ]
    },
    {
     "name": "stdout",
     "output_type": "stream",
     "text": [
      "Similarity column 38121 (100.0%), 652.43 column/sec. Elapsed time 58.43 sec\n",
      "EvaluatorHoldout: Processed 35595 (100.0%) in 40.77 sec. Users per second: 873\n"
     ]
    },
    {
     "name": "stderr",
     "output_type": "stream",
     "text": [
      "[I 2024-12-16 15:59:13,366] Trial 117 finished with value: 0.01783525976762393 and parameters: {'similarity': 'cosine', 'topK': 96, 'shrink': 699, 'feature_weighting': 'BM25'}. Best is trial 101 with value: 0.01866762765414265.\n"
     ]
    },
    {
     "name": "stdout",
     "output_type": "stream",
     "text": [
      "Similarity column 38121 (100.0%), 641.59 column/sec. Elapsed time 59.42 sec\n",
      "EvaluatorHoldout: Processed 35595 (100.0%) in 38.03 sec. Users per second: 936\n"
     ]
    },
    {
     "name": "stderr",
     "output_type": "stream",
     "text": [
      "[I 2024-12-16 16:00:51,911] Trial 118 finished with value: 0.012214620164683748 and parameters: {'similarity': 'tversky', 'topK': 69, 'shrink': 897, 'feature_weighting': 'BM25', 'tversky_alpha': 1.4479029036879523, 'tversky_beta': 1.2014993823652984}. Best is trial 101 with value: 0.01866762765414265.\n"
     ]
    },
    {
     "name": "stdout",
     "output_type": "stream",
     "text": [
      "Similarity column 38121 (100.0%), 653.23 column/sec. Elapsed time 58.36 sec\n",
      "EvaluatorHoldout: Processed 35595 (100.0%) in 36.40 sec. Users per second: 978\n"
     ]
    },
    {
     "name": "stderr",
     "output_type": "stream",
     "text": [
      "[I 2024-12-16 16:02:27,315] Trial 119 finished with value: 0.01841975643092376 and parameters: {'similarity': 'cosine', 'topK': 43, 'shrink': 975, 'feature_weighting': 'BM25'}. Best is trial 101 with value: 0.01866762765414265.\n"
     ]
    },
    {
     "name": "stdout",
     "output_type": "stream",
     "text": [
      "Similarity column 38121 (100.0%), 199.13 column/sec. Elapsed time 3.19 min\n",
      "EvaluatorHoldout: Processed 35595 (100.0%) in 31.71 sec. Users per second: 1122\n"
     ]
    },
    {
     "name": "stderr",
     "output_type": "stream",
     "text": [
      "[I 2024-12-16 16:06:10,933] Trial 120 finished with value: 0.009224207742749827 and parameters: {'similarity': 'euclidean', 'topK': 22, 'shrink': 948, 'feature_weighting': 'BM25', 'normalize_avg_row': True, 'similarity_from_distance_mode': 'lin', 'normalize': False}. Best is trial 101 with value: 0.01866762765414265.\n"
     ]
    },
    {
     "name": "stdout",
     "output_type": "stream",
     "text": [
      "Similarity column 38121 (100.0%), 655.57 column/sec. Elapsed time 58.15 sec\n",
      "EvaluatorHoldout: Processed 35595 (100.0%) in 33.76 sec. Users per second: 1054\n"
     ]
    },
    {
     "name": "stderr",
     "output_type": "stream",
     "text": [
      "[I 2024-12-16 16:07:43,512] Trial 121 finished with value: 0.018616154623107846 and parameters: {'similarity': 'cosine', 'topK': 13, 'shrink': 921, 'feature_weighting': 'BM25'}. Best is trial 101 with value: 0.01866762765414265.\n"
     ]
    },
    {
     "name": "stdout",
     "output_type": "stream",
     "text": [
      "Similarity column 38121 (100.0%), 655.74 column/sec. Elapsed time 58.13 sec\n",
      "EvaluatorHoldout: Processed 35595 (100.0%) in 35.96 sec. Users per second: 990\n"
     ]
    },
    {
     "name": "stderr",
     "output_type": "stream",
     "text": [
      "[I 2024-12-16 16:09:18,285] Trial 122 finished with value: 0.018411534525314653 and parameters: {'similarity': 'cosine', 'topK': 34, 'shrink': 915, 'feature_weighting': 'BM25'}. Best is trial 101 with value: 0.01866762765414265.\n"
     ]
    },
    {
     "name": "stdout",
     "output_type": "stream",
     "text": [
      "Similarity column 38121 (100.0%), 655.19 column/sec. Elapsed time 58.18 sec\n",
      "EvaluatorHoldout: Processed 35595 (100.0%) in 33.12 sec. Users per second: 1075\n"
     ]
    },
    {
     "name": "stderr",
     "output_type": "stream",
     "text": [
      "[I 2024-12-16 16:10:50,214] Trial 123 finished with value: 0.01863493512777115 and parameters: {'similarity': 'cosine', 'topK': 10, 'shrink': 980, 'feature_weighting': 'BM25'}. Best is trial 101 with value: 0.01866762765414265.\n"
     ]
    },
    {
     "name": "stdout",
     "output_type": "stream",
     "text": [
      "Similarity column 38121 (100.0%), 659.59 column/sec. Elapsed time 57.79 sec\n",
      "EvaluatorHoldout: Processed 35595 (100.0%) in 33.72 sec. Users per second: 1056\n"
     ]
    },
    {
     "name": "stderr",
     "output_type": "stream",
     "text": [
      "[I 2024-12-16 16:12:22,316] Trial 124 finished with value: 0.01855774397599095 and parameters: {'similarity': 'cosine', 'topK': 16, 'shrink': 998, 'feature_weighting': 'BM25'}. Best is trial 101 with value: 0.01866762765414265.\n"
     ]
    },
    {
     "name": "stdout",
     "output_type": "stream",
     "text": [
      "Similarity column 38121 (100.0%), 855.17 column/sec. Elapsed time 44.58 sec\n",
      "EvaluatorHoldout: Processed 35595 (100.0%) in 28.89 sec. Users per second: 1232\n"
     ]
    },
    {
     "name": "stderr",
     "output_type": "stream",
     "text": [
      "[I 2024-12-16 16:13:36,317] Trial 125 finished with value: 0.016178671206273566 and parameters: {'similarity': 'cosine', 'topK': 1, 'shrink': 986, 'feature_weighting': 'BM25'}. Best is trial 101 with value: 0.01866762765414265.\n"
     ]
    },
    {
     "name": "stdout",
     "output_type": "stream",
     "text": [
      "Similarity column 38121 (100.0%), 652.38 column/sec. Elapsed time 58.43 sec\n",
      "EvaluatorHoldout: Processed 35595 (100.0%) in 36.38 sec. Users per second: 978\n"
     ]
    },
    {
     "name": "stderr",
     "output_type": "stream",
     "text": [
      "[I 2024-12-16 16:15:11,774] Trial 126 finished with value: 0.01831127855927696 and parameters: {'similarity': 'cosine', 'topK': 55, 'shrink': 969, 'feature_weighting': 'BM25'}. Best is trial 101 with value: 0.01866762765414265.\n"
     ]
    },
    {
     "name": "stdout",
     "output_type": "stream",
     "text": [
      "Similarity column 38121 (100.0%), 656.33 column/sec. Elapsed time 58.08 sec\n",
      "EvaluatorHoldout: Processed 35595 (100.0%) in 35.83 sec. Users per second: 993\n"
     ]
    },
    {
     "name": "stderr",
     "output_type": "stream",
     "text": [
      "[I 2024-12-16 16:16:46,226] Trial 127 finished with value: 0.01215747262523529 and parameters: {'similarity': 'cosine', 'topK': 42, 'shrink': 558, 'feature_weighting': 'none'}. Best is trial 101 with value: 0.01866762765414265.\n"
     ]
    },
    {
     "name": "stdout",
     "output_type": "stream",
     "text": [
      "Similarity column 38121 (100.0%), 658.03 column/sec. Elapsed time 57.93 sec\n",
      "EvaluatorHoldout: Processed 35595 (100.0%) in 33.31 sec. Users per second: 1069\n"
     ]
    },
    {
     "name": "stderr",
     "output_type": "stream",
     "text": [
      "[I 2024-12-16 16:18:18,086] Trial 128 finished with value: 0.018659579662740237 and parameters: {'similarity': 'cosine', 'topK': 13, 'shrink': 997, 'feature_weighting': 'BM25'}. Best is trial 101 with value: 0.01866762765414265.\n"
     ]
    },
    {
     "name": "stdout",
     "output_type": "stream",
     "text": [
      "Similarity column 38121 (100.0%), 652.94 column/sec. Elapsed time 58.38 sec\n",
      "EvaluatorHoldout: Processed 35595 (100.0%) in 37.85 sec. Users per second: 941\n"
     ]
    },
    {
     "name": "stderr",
     "output_type": "stream",
     "text": [
      "[I 2024-12-16 16:19:55,016] Trial 129 finished with value: 0.018265978367748365 and parameters: {'similarity': 'cosine', 'topK': 72, 'shrink': 953, 'feature_weighting': 'BM25'}. Best is trial 101 with value: 0.01866762765414265.\n"
     ]
    },
    {
     "name": "stdout",
     "output_type": "stream",
     "text": [
      "Similarity column 38121 (100.0%), 653.70 column/sec. Elapsed time 58.32 sec\n",
      "EvaluatorHoldout: Processed 35595 (100.0%) in 33.23 sec. Users per second: 1071\n"
     ]
    },
    {
     "name": "stderr",
     "output_type": "stream",
     "text": [
      "[I 2024-12-16 16:21:27,144] Trial 130 finished with value: 0.018623644082346208 and parameters: {'similarity': 'cosine', 'topK': 12, 'shrink': 971, 'feature_weighting': 'BM25'}. Best is trial 101 with value: 0.01866762765414265.\n"
     ]
    },
    {
     "name": "stdout",
     "output_type": "stream",
     "text": [
      "Similarity column 38121 (100.0%), 655.32 column/sec. Elapsed time 58.17 sec\n",
      "EvaluatorHoldout: Processed 35595 (100.0%) in 33.34 sec. Users per second: 1067\n"
     ]
    },
    {
     "name": "stderr",
     "output_type": "stream",
     "text": [
      "[I 2024-12-16 16:22:59,247] Trial 131 finished with value: 0.01865487060114115 and parameters: {'similarity': 'cosine', 'topK': 11, 'shrink': 975, 'feature_weighting': 'BM25'}. Best is trial 101 with value: 0.01866762765414265.\n"
     ]
    },
    {
     "name": "stdout",
     "output_type": "stream",
     "text": [
      "Similarity column 38121 (100.0%), 654.51 column/sec. Elapsed time 58.24 sec\n",
      "EvaluatorHoldout: Processed 35595 (100.0%) in 35.15 sec. Users per second: 1013\n"
     ]
    },
    {
     "name": "stderr",
     "output_type": "stream",
     "text": [
      "[I 2024-12-16 16:24:33,255] Trial 132 finished with value: 0.018365479590722003 and parameters: {'similarity': 'cosine', 'topK': 33, 'shrink': 972, 'feature_weighting': 'BM25'}. Best is trial 101 with value: 0.01866762765414265.\n"
     ]
    },
    {
     "name": "stdout",
     "output_type": "stream",
     "text": [
      "Similarity column 38121 (100.0%), 658.96 column/sec. Elapsed time 57.85 sec\n",
      "EvaluatorHoldout: Processed 35595 (100.0%) in 32.60 sec. Users per second: 1092\n"
     ]
    },
    {
     "name": "stderr",
     "output_type": "stream",
     "text": [
      "[I 2024-12-16 16:26:04,317] Trial 133 finished with value: 0.018649567332668874 and parameters: {'similarity': 'cosine', 'topK': 10, 'shrink': 996, 'feature_weighting': 'BM25'}. Best is trial 101 with value: 0.01866762765414265.\n"
     ]
    },
    {
     "name": "stdout",
     "output_type": "stream",
     "text": [
      "Similarity column 38121 (100.0%), 907.53 column/sec. Elapsed time 42.01 sec\n",
      "EvaluatorHoldout: Processed 35595 (100.0%) in 27.11 sec. Users per second: 1313\n"
     ]
    },
    {
     "name": "stderr",
     "output_type": "stream",
     "text": [
      "[I 2024-12-16 16:27:13,987] Trial 134 finished with value: 0.00028209999175022335 and parameters: {'similarity': 'cosine', 'topK': 0, 'shrink': 920, 'feature_weighting': 'BM25'}. Best is trial 101 with value: 0.01866762765414265.\n"
     ]
    },
    {
     "name": "stdout",
     "output_type": "stream",
     "text": [
      "Similarity column 38121 (100.0%), 649.24 column/sec. Elapsed time 58.72 sec\n",
      "EvaluatorHoldout: Processed 35595 (100.0%) in 36.81 sec. Users per second: 967\n"
     ]
    },
    {
     "name": "stderr",
     "output_type": "stream",
     "text": [
      "[I 2024-12-16 16:28:50,232] Trial 135 finished with value: 0.01835436357433832 and parameters: {'similarity': 'cosine', 'topK': 57, 'shrink': 987, 'feature_weighting': 'BM25'}. Best is trial 101 with value: 0.01866762765414265.\n"
     ]
    },
    {
     "name": "stdout",
     "output_type": "stream",
     "text": [
      "Similarity column 38121 (100.0%), 642.47 column/sec. Elapsed time 59.33 sec\n",
      "EvaluatorHoldout: Processed 35595 (100.0%) in 46.26 sec. Users per second: 770\n"
     ]
    },
    {
     "name": "stderr",
     "output_type": "stream",
     "text": [
      "[I 2024-12-16 16:30:37,226] Trial 136 finished with value: 0.010327221809733644 and parameters: {'similarity': 'jaccard', 'topK': 330, 'shrink': 999, 'feature_weighting': 'BM25'}. Best is trial 101 with value: 0.01866762765414265.\n"
     ]
    },
    {
     "name": "stdout",
     "output_type": "stream",
     "text": [
      "Similarity column 38121 (100.0%), 663.45 column/sec. Elapsed time 57.46 sec\n",
      "EvaluatorHoldout: Processed 35595 (100.0%) in 35.72 sec. Users per second: 997\n"
     ]
    },
    {
     "name": "stderr",
     "output_type": "stream",
     "text": [
      "[I 2024-12-16 16:32:11,028] Trial 137 finished with value: 0.01837783864775018 and parameters: {'similarity': 'cosine', 'topK': 45, 'shrink': 933, 'feature_weighting': 'BM25'}. Best is trial 101 with value: 0.01866762765414265.\n"
     ]
    },
    {
     "name": "stdout",
     "output_type": "stream",
     "text": [
      "Similarity column 38121 (100.0%), 660.01 column/sec. Elapsed time 57.76 sec\n",
      "EvaluatorHoldout: Processed 35595 (100.0%) in 32.40 sec. Users per second: 1099\n"
     ]
    },
    {
     "name": "stderr",
     "output_type": "stream",
     "text": [
      "[I 2024-12-16 16:33:42,147] Trial 138 finished with value: 0.013281635105697858 and parameters: {'similarity': 'dice', 'topK': 9, 'shrink': 1000, 'feature_weighting': 'TF-IDF'}. Best is trial 101 with value: 0.01866762765414265.\n"
     ]
    },
    {
     "name": "stdout",
     "output_type": "stream",
     "text": [
      "Similarity column 38121 (100.0%), 655.56 column/sec. Elapsed time 58.15 sec\n",
      "EvaluatorHoldout: Processed 35595 (100.0%) in 35.17 sec. Users per second: 1012\n"
     ]
    },
    {
     "name": "stderr",
     "output_type": "stream",
     "text": [
      "[I 2024-12-16 16:35:16,214] Trial 139 finished with value: 0.018480289723231177 and parameters: {'similarity': 'cosine', 'topK': 30, 'shrink': 945, 'feature_weighting': 'BM25'}. Best is trial 101 with value: 0.01866762765414265.\n"
     ]
    },
    {
     "name": "stdout",
     "output_type": "stream",
     "text": [
      "Similarity column 38121 (100.0%), 652.84 column/sec. Elapsed time 58.39 sec\n",
      "EvaluatorHoldout: Processed 35595 (100.0%) in 38.63 sec. Users per second: 921\n"
     ]
    },
    {
     "name": "stderr",
     "output_type": "stream",
     "text": [
      "[I 2024-12-16 16:36:53,958] Trial 140 finished with value: 0.018080449813488254 and parameters: {'similarity': 'cosine', 'topK': 86, 'shrink': 889, 'feature_weighting': 'BM25'}. Best is trial 101 with value: 0.01866762765414265.\n"
     ]
    },
    {
     "name": "stdout",
     "output_type": "stream",
     "text": [
      "Similarity column 38121 (100.0%), 654.18 column/sec. Elapsed time 58.27 sec\n",
      "EvaluatorHoldout: Processed 35595 (100.0%) in 34.10 sec. Users per second: 1044\n"
     ]
    },
    {
     "name": "stderr",
     "output_type": "stream",
     "text": [
      "[I 2024-12-16 16:38:26,916] Trial 141 finished with value: 0.01856244969308607 and parameters: {'similarity': 'cosine', 'topK': 18, 'shrink': 974, 'feature_weighting': 'BM25'}. Best is trial 101 with value: 0.01866762765414265.\n"
     ]
    },
    {
     "name": "stdout",
     "output_type": "stream",
     "text": [
      "Similarity column 38121 (100.0%), 848.66 column/sec. Elapsed time 44.92 sec\n",
      "EvaluatorHoldout: Processed 35595 (100.0%) in 29.08 sec. Users per second: 1224\n"
     ]
    },
    {
     "name": "stderr",
     "output_type": "stream",
     "text": [
      "[I 2024-12-16 16:39:41,480] Trial 142 finished with value: 0.016159471523778453 and parameters: {'similarity': 'cosine', 'topK': 1, 'shrink': 954, 'feature_weighting': 'BM25'}. Best is trial 101 with value: 0.01866762765414265.\n"
     ]
    },
    {
     "name": "stdout",
     "output_type": "stream",
     "text": [
      "Similarity column 38121 (100.0%), 650.63 column/sec. Elapsed time 58.59 sec\n",
      "EvaluatorHoldout: Processed 35595 (100.0%) in 35.89 sec. Users per second: 992\n"
     ]
    },
    {
     "name": "stderr",
     "output_type": "stream",
     "text": [
      "[I 2024-12-16 16:41:16,664] Trial 143 finished with value: 0.018414283707583384 and parameters: {'similarity': 'cosine', 'topK': 39, 'shrink': 959, 'feature_weighting': 'BM25'}. Best is trial 101 with value: 0.01866762765414265.\n"
     ]
    },
    {
     "name": "stdout",
     "output_type": "stream",
     "text": [
      "Similarity column 38121 (100.0%), 660.19 column/sec. Elapsed time 57.74 sec\n",
      "EvaluatorHoldout: Processed 35595 (100.0%) in 33.67 sec. Users per second: 1057\n"
     ]
    },
    {
     "name": "stderr",
     "output_type": "stream",
     "text": [
      "[I 2024-12-16 16:42:48,675] Trial 144 finished with value: 0.018543164168322183 and parameters: {'similarity': 'cosine', 'topK': 17, 'shrink': 933, 'feature_weighting': 'BM25'}. Best is trial 101 with value: 0.01866762765414265.\n"
     ]
    },
    {
     "name": "stdout",
     "output_type": "stream",
     "text": [
      "Similarity column 38121 (100.0%), 641.43 column/sec. Elapsed time 59.43 sec\n",
      "EvaluatorHoldout: Processed 35595 (100.0%) in 50.88 sec. Users per second: 700\n"
     ]
    },
    {
     "name": "stderr",
     "output_type": "stream",
     "text": [
      "[I 2024-12-16 16:44:40,369] Trial 145 finished with value: 0.016742795381017205 and parameters: {'similarity': 'cosine', 'topK': 435, 'shrink': 906, 'feature_weighting': 'BM25'}. Best is trial 101 with value: 0.01866762765414265.\n"
     ]
    },
    {
     "name": "stdout",
     "output_type": "stream",
     "text": [
      "Similarity column 38121 (100.0%), 649.77 column/sec. Elapsed time 58.67 sec\n",
      "EvaluatorHoldout: Processed 35595 (100.0%) in 37.84 sec. Users per second: 941\n"
     ]
    },
    {
     "name": "stderr",
     "output_type": "stream",
     "text": [
      "[I 2024-12-16 16:46:17,651] Trial 146 finished with value: 0.01832266548048263 and parameters: {'similarity': 'cosine', 'topK': 62, 'shrink': 976, 'feature_weighting': 'BM25'}. Best is trial 101 with value: 0.01866762765414265.\n"
     ]
    },
    {
     "name": "stdout",
     "output_type": "stream",
     "text": [
      "Similarity column 38121 (100.0%), 650.86 column/sec. Elapsed time 58.57 sec\n",
      "EvaluatorHoldout: Processed 35595 (100.0%) in 34.70 sec. Users per second: 1026\n"
     ]
    },
    {
     "name": "stderr",
     "output_type": "stream",
     "text": [
      "[I 2024-12-16 16:47:51,577] Trial 147 finished with value: 0.018226100732000563 and parameters: {'similarity': 'cosine', 'topK': 27, 'shrink': 474, 'feature_weighting': 'BM25'}. Best is trial 101 with value: 0.01866762765414265.\n"
     ]
    },
    {
     "name": "stdout",
     "output_type": "stream",
     "text": [
      "Similarity column 38121 (100.0%), 641.12 column/sec. Elapsed time 59.46 sec\n",
      "EvaluatorHoldout: Processed 35595 (100.0%) in 35.44 sec. Users per second: 1004\n"
     ]
    },
    {
     "name": "stderr",
     "output_type": "stream",
     "text": [
      "[I 2024-12-16 16:49:27,524] Trial 148 finished with value: 0.011808745654932213 and parameters: {'similarity': 'tversky', 'topK': 46, 'shrink': 1000, 'feature_weighting': 'BM25', 'tversky_alpha': 0.514827015593531, 'tversky_beta': 0.5422624240541908}. Best is trial 101 with value: 0.01866762765414265.\n"
     ]
    },
    {
     "name": "stdout",
     "output_type": "stream",
     "text": [
      "Similarity column 38121 (100.0%), 648.52 column/sec. Elapsed time 58.78 sec\n",
      "EvaluatorHoldout: Processed 35595 (100.0%) in 34.08 sec. Users per second: 1044\n"
     ]
    },
    {
     "name": "stderr",
     "output_type": "stream",
     "text": [
      "[I 2024-12-16 16:51:00,932] Trial 149 finished with value: 0.018561599074241295 and parameters: {'similarity': 'cosine', 'topK': 14, 'shrink': 857, 'feature_weighting': 'TF-IDF'}. Best is trial 101 with value: 0.01866762765414265.\n"
     ]
    },
    {
     "name": "stdout",
     "output_type": "stream",
     "text": [
      "Similarity column 38121 (100.0%), 660.93 column/sec. Elapsed time 57.68 sec\n",
      "EvaluatorHoldout: Processed 35595 (100.0%) in 35.40 sec. Users per second: 1006\n"
     ]
    },
    {
     "name": "stderr",
     "output_type": "stream",
     "text": [
      "[I 2024-12-16 16:52:34,637] Trial 150 finished with value: 0.018498519499573034 and parameters: {'similarity': 'cosine', 'topK': 28, 'shrink': 927, 'feature_weighting': 'BM25'}. Best is trial 101 with value: 0.01866762765414265.\n"
     ]
    },
    {
     "name": "stdout",
     "output_type": "stream",
     "text": [
      "Similarity column 38121 (100.0%), 909.36 column/sec. Elapsed time 41.92 sec\n",
      "EvaluatorHoldout: Processed 35595 (100.0%) in 25.99 sec. Users per second: 1369\n"
     ]
    },
    {
     "name": "stderr",
     "output_type": "stream",
     "text": [
      "[I 2024-12-16 16:53:43,091] Trial 151 finished with value: 0.00028209999175022335 and parameters: {'similarity': 'cosine', 'topK': 0, 'shrink': 973, 'feature_weighting': 'BM25'}. Best is trial 101 with value: 0.01866762765414265.\n"
     ]
    },
    {
     "name": "stdout",
     "output_type": "stream",
     "text": [
      "Similarity column 38121 (100.0%), 654.25 column/sec. Elapsed time 58.27 sec\n",
      "EvaluatorHoldout: Processed 35595 (100.0%) in 34.42 sec. Users per second: 1034\n"
     ]
    },
    {
     "name": "stderr",
     "output_type": "stream",
     "text": [
      "[I 2024-12-16 16:55:16,455] Trial 152 finished with value: 0.018670744731848876 and parameters: {'similarity': 'cosine', 'topK': 21, 'shrink': 978, 'feature_weighting': 'BM25'}. Best is trial 152 with value: 0.018670744731848876.\n"
     ]
    },
    {
     "name": "stdout",
     "output_type": "stream",
     "text": [
      "Similarity column 38121 (100.0%), 653.00 column/sec. Elapsed time 58.38 sec\n",
      "EvaluatorHoldout: Processed 35595 (100.0%) in 36.76 sec. Users per second: 968\n"
     ]
    },
    {
     "name": "stderr",
     "output_type": "stream",
     "text": [
      "[I 2024-12-16 16:56:52,258] Trial 153 finished with value: 0.01835389868828561 and parameters: {'similarity': 'cosine', 'topK': 49, 'shrink': 948, 'feature_weighting': 'BM25'}. Best is trial 152 with value: 0.018670744731848876.\n"
     ]
    },
    {
     "name": "stdout",
     "output_type": "stream",
     "text": [
      "Similarity column 38121 (100.0%), 655.63 column/sec. Elapsed time 58.14 sec\n",
      "EvaluatorHoldout: Processed 35595 (100.0%) in 34.86 sec. Users per second: 1021\n"
     ]
    },
    {
     "name": "stderr",
     "output_type": "stream",
     "text": [
      "[I 2024-12-16 16:58:25,892] Trial 154 finished with value: 0.018532432769895944 and parameters: {'similarity': 'cosine', 'topK': 15, 'shrink': 980, 'feature_weighting': 'BM25'}. Best is trial 152 with value: 0.018670744731848876.\n"
     ]
    },
    {
     "name": "stdout",
     "output_type": "stream",
     "text": [
      "Similarity column 38121 (100.0%), 178.71 column/sec. Elapsed time 3.56 min\n",
      "EvaluatorHoldout: Processed 35595 (100.0%) in 34.72 sec. Users per second: 1025\n"
     ]
    },
    {
     "name": "stderr",
     "output_type": "stream",
     "text": [
      "[I 2024-12-16 17:02:34,419] Trial 155 finished with value: 0.015098720838712732 and parameters: {'similarity': 'euclidean', 'topK': 33, 'shrink': 955, 'feature_weighting': 'BM25', 'normalize_avg_row': False, 'similarity_from_distance_mode': 'log', 'normalize': True}. Best is trial 152 with value: 0.018670744731848876.\n"
     ]
    },
    {
     "name": "stdout",
     "output_type": "stream",
     "text": [
      "Similarity column 38121 (100.0%), 658.14 column/sec. Elapsed time 57.92 sec\n",
      "EvaluatorHoldout: Processed 35595 (100.0%) in 36.10 sec. Users per second: 986\n"
     ]
    },
    {
     "name": "stderr",
     "output_type": "stream",
     "text": [
      "[I 2024-12-16 17:04:08,957] Trial 156 finished with value: 0.011624840299935437 and parameters: {'similarity': 'cosine', 'topK': 65, 'shrink': 886, 'feature_weighting': 'none'}. Best is trial 152 with value: 0.018670744731848876.\n"
     ]
    },
    {
     "name": "stdout",
     "output_type": "stream",
     "text": [
      "Similarity column 38121 (100.0%), 666.06 column/sec. Elapsed time 57.23 sec\n",
      "EvaluatorHoldout: Processed 35595 (100.0%) in 36.37 sec. Users per second: 979\n"
     ]
    },
    {
     "name": "stderr",
     "output_type": "stream",
     "text": [
      "[I 2024-12-16 17:05:43,172] Trial 157 finished with value: 0.01865678811675443 and parameters: {'similarity': 'cosine', 'topK': 24, 'shrink': 926, 'feature_weighting': 'BM25'}. Best is trial 152 with value: 0.018670744731848876.\n"
     ]
    },
    {
     "name": "stdout",
     "output_type": "stream",
     "text": [
      "Similarity column 38121 (100.0%), 929.65 column/sec. Elapsed time 41.01 sec\n",
      "EvaluatorHoldout: Processed 35595 (100.0%) in 25.41 sec. Users per second: 1401\n"
     ]
    },
    {
     "name": "stderr",
     "output_type": "stream",
     "text": [
      "[I 2024-12-16 17:06:50,177] Trial 158 finished with value: 0.00028209999175022335 and parameters: {'similarity': 'cosine', 'topK': 0, 'shrink': 904, 'feature_weighting': 'BM25'}. Best is trial 152 with value: 0.018670744731848876.\n"
     ]
    },
    {
     "name": "stdout",
     "output_type": "stream",
     "text": [
      "Similarity column 38121 (100.0%), 656.92 column/sec. Elapsed time 58.03 sec\n",
      "EvaluatorHoldout: Processed 35595 (100.0%) in 53.20 sec. Users per second: 669\n"
     ]
    },
    {
     "name": "stderr",
     "output_type": "stream",
     "text": [
      "[I 2024-12-16 17:08:43,040] Trial 159 finished with value: 0.01638094457710995 and parameters: {'similarity': 'cosine', 'topK': 596, 'shrink': 927, 'feature_weighting': 'BM25'}. Best is trial 152 with value: 0.018670744731848876.\n"
     ]
    },
    {
     "name": "stdout",
     "output_type": "stream",
     "text": [
      "Similarity column 38121 (100.0%), 668.40 column/sec. Elapsed time 57.03 sec\n",
      "EvaluatorHoldout: Processed 35595 (100.0%) in 34.99 sec. Users per second: 1017\n"
     ]
    },
    {
     "name": "stderr",
     "output_type": "stream",
     "text": [
      "[I 2024-12-16 17:10:15,709] Trial 160 finished with value: 0.018377990265263804 and parameters: {'similarity': 'cosine', 'topK': 38, 'shrink': 938, 'feature_weighting': 'BM25'}. Best is trial 152 with value: 0.018670744731848876.\n"
     ]
    },
    {
     "name": "stdout",
     "output_type": "stream",
     "text": [
      "Similarity column 38121 (100.0%), 666.02 column/sec. Elapsed time 57.24 sec\n",
      "EvaluatorHoldout: Processed 35595 (100.0%) in 33.56 sec. Users per second: 1061\n"
     ]
    },
    {
     "name": "stderr",
     "output_type": "stream",
     "text": [
      "[I 2024-12-16 17:11:47,122] Trial 161 finished with value: 0.018553757327250824 and parameters: {'similarity': 'cosine', 'topK': 18, 'shrink': 965, 'feature_weighting': 'BM25'}. Best is trial 152 with value: 0.018670744731848876.\n"
     ]
    },
    {
     "name": "stdout",
     "output_type": "stream",
     "text": [
      "Similarity column 38121 (100.0%), 649.46 column/sec. Elapsed time 58.70 sec\n",
      "EvaluatorHoldout: Processed 35595 (100.0%) in 35.82 sec. Users per second: 994\n"
     ]
    },
    {
     "name": "stderr",
     "output_type": "stream",
     "text": [
      "[I 2024-12-16 17:13:22,259] Trial 162 finished with value: 0.01852010269856885 and parameters: {'similarity': 'cosine', 'topK': 28, 'shrink': 986, 'feature_weighting': 'BM25'}. Best is trial 152 with value: 0.018670744731848876.\n"
     ]
    },
    {
     "name": "stdout",
     "output_type": "stream",
     "text": [
      "Similarity column 38121 (100.0%), 629.96 column/sec. Elapsed time 1.01 min\n",
      "EvaluatorHoldout: Processed 35595 (100.0%) in 38.87 sec. Users per second: 916\n"
     ]
    },
    {
     "name": "stderr",
     "output_type": "stream",
     "text": [
      "[I 2024-12-16 17:15:02,317] Trial 163 finished with value: 0.018317256302717827 and parameters: {'similarity': 'cosine', 'topK': 54, 'shrink': 913, 'feature_weighting': 'BM25'}. Best is trial 152 with value: 0.018670744731848876.\n"
     ]
    },
    {
     "name": "stdout",
     "output_type": "stream",
     "text": [
      "Similarity column 38121 (100.0%), 625.81 column/sec. Elapsed time 1.02 min\n",
      "EvaluatorHoldout: Processed 35595 (100.0%) in 34.98 sec. Users per second: 1018\n"
     ]
    },
    {
     "name": "stderr",
     "output_type": "stream",
     "text": [
      "[I 2024-12-16 17:16:38,880] Trial 164 finished with value: 0.01856750323859471 and parameters: {'similarity': 'cosine', 'topK': 15, 'shrink': 957, 'feature_weighting': 'BM25'}. Best is trial 152 with value: 0.018670744731848876.\n"
     ]
    },
    {
     "name": "stdout",
     "output_type": "stream",
     "text": [
      "Similarity column 38121 (100.0%), 629.61 column/sec. Elapsed time 1.01 min\n",
      "EvaluatorHoldout: Processed 35595 (100.0%) in 37.41 sec. Users per second: 952\n"
     ]
    },
    {
     "name": "stderr",
     "output_type": "stream",
     "text": [
      "[I 2024-12-16 17:18:17,653] Trial 165 finished with value: 0.018411952588311725 and parameters: {'similarity': 'cosine', 'topK': 36, 'shrink': 836, 'feature_weighting': 'BM25'}. Best is trial 152 with value: 0.018670744731848876.\n"
     ]
    },
    {
     "name": "stdout",
     "output_type": "stream",
     "text": [
      "Similarity column 38121 (100.0%), 643.54 column/sec. Elapsed time 59.24 sec\n",
      "EvaluatorHoldout: Processed 35595 (100.0%) in 34.16 sec. Users per second: 1042\n"
     ]
    },
    {
     "name": "stderr",
     "output_type": "stream",
     "text": [
      "[I 2024-12-16 17:19:51,797] Trial 166 finished with value: 0.01822639393351579 and parameters: {'similarity': 'asymmetric', 'topK': 12, 'shrink': 1000, 'feature_weighting': 'BM25', 'asymmetric_alpha': 1.522678467276071}. Best is trial 152 with value: 0.018670744731848876.\n"
     ]
    },
    {
     "name": "stdout",
     "output_type": "stream",
     "text": [
      "Similarity column 38121 (100.0%), 647.21 column/sec. Elapsed time 58.90 sec\n",
      "EvaluatorHoldout: Processed 35595 (100.0%) in 38.34 sec. Users per second: 928\n"
     ]
    },
    {
     "name": "stderr",
     "output_type": "stream",
     "text": [
      "[I 2024-12-16 17:21:29,691] Trial 167 finished with value: 0.018153838264247057 and parameters: {'similarity': 'cosine', 'topK': 73, 'shrink': 940, 'feature_weighting': 'TF-IDF'}. Best is trial 152 with value: 0.018670744731848876.\n"
     ]
    },
    {
     "name": "stdout",
     "output_type": "stream",
     "text": [
      "Similarity column 38121 (100.0%), 660.21 column/sec. Elapsed time 57.74 sec\n",
      "EvaluatorHoldout: Processed 35595 (100.0%) in 35.90 sec. Users per second: 992\n"
     ]
    },
    {
     "name": "stderr",
     "output_type": "stream",
     "text": [
      "[I 2024-12-16 17:23:04,297] Trial 168 finished with value: 0.01219404366138496 and parameters: {'similarity': 'jaccard', 'topK': 51, 'shrink': 875, 'feature_weighting': 'BM25'}. Best is trial 152 with value: 0.018670744731848876.\n"
     ]
    },
    {
     "name": "stdout",
     "output_type": "stream",
     "text": [
      "Similarity column 38121 (100.0%), 663.40 column/sec. Elapsed time 57.46 sec\n",
      "EvaluatorHoldout: Processed 35595 (100.0%) in 33.92 sec. Users per second: 1049\n"
     ]
    },
    {
     "name": "stderr",
     "output_type": "stream",
     "text": [
      "[I 2024-12-16 17:24:36,258] Trial 169 finished with value: 0.01862699861983472 and parameters: {'similarity': 'cosine', 'topK': 24, 'shrink': 978, 'feature_weighting': 'BM25'}. Best is trial 152 with value: 0.018670744731848876.\n"
     ]
    },
    {
     "name": "stdout",
     "output_type": "stream",
     "text": [
      "Similarity column 38121 (100.0%), 666.05 column/sec. Elapsed time 57.23 sec\n",
      "EvaluatorHoldout: Processed 35595 (100.0%) in 34.35 sec. Users per second: 1036\n"
     ]
    },
    {
     "name": "stderr",
     "output_type": "stream",
     "text": [
      "[I 2024-12-16 17:26:08,408] Trial 170 finished with value: 0.018548359297832592 and parameters: {'similarity': 'cosine', 'topK': 29, 'shrink': 977, 'feature_weighting': 'BM25'}. Best is trial 152 with value: 0.018670744731848876.\n"
     ]
    },
    {
     "name": "stdout",
     "output_type": "stream",
     "text": [
      "Similarity column 38121 (100.0%), 669.00 column/sec. Elapsed time 56.98 sec\n",
      "EvaluatorHoldout: Processed 35595 (100.0%) in 32.42 sec. Users per second: 1098\n"
     ]
    },
    {
     "name": "stderr",
     "output_type": "stream",
     "text": [
      "[I 2024-12-16 17:27:38,377] Trial 171 finished with value: 0.018750962659727904 and parameters: {'similarity': 'cosine', 'topK': 9, 'shrink': 954, 'feature_weighting': 'BM25'}. Best is trial 171 with value: 0.018750962659727904.\n"
     ]
    },
    {
     "name": "stdout",
     "output_type": "stream",
     "text": [
      "Similarity column 38121 (100.0%), 858.12 column/sec. Elapsed time 44.42 sec\n",
      "EvaluatorHoldout: Processed 35595 (100.0%) in 28.52 sec. Users per second: 1248\n"
     ]
    },
    {
     "name": "stderr",
     "output_type": "stream",
     "text": [
      "[I 2024-12-16 17:28:51,902] Trial 172 finished with value: 0.016167093648341173 and parameters: {'similarity': 'cosine', 'topK': 1, 'shrink': 974, 'feature_weighting': 'BM25'}. Best is trial 171 with value: 0.018750962659727904.\n"
     ]
    },
    {
     "name": "stdout",
     "output_type": "stream",
     "text": [
      "Similarity column 38121 (100.0%), 665.60 column/sec. Elapsed time 57.27 sec\n",
      "EvaluatorHoldout: Processed 35595 (100.0%) in 33.97 sec. Users per second: 1048\n"
     ]
    },
    {
     "name": "stderr",
     "output_type": "stream",
     "text": [
      "[I 2024-12-16 17:30:23,733] Trial 173 finished with value: 0.018640911756377387 and parameters: {'similarity': 'cosine', 'topK': 24, 'shrink': 920, 'feature_weighting': 'BM25'}. Best is trial 171 with value: 0.018750962659727904.\n"
     ]
    },
    {
     "name": "stdout",
     "output_type": "stream",
     "text": [
      "Similarity column 38121 (100.0%), 666.44 column/sec. Elapsed time 57.20 sec\n",
      "EvaluatorHoldout: Processed 35595 (100.0%) in 34.97 sec. Users per second: 1018\n"
     ]
    },
    {
     "name": "stderr",
     "output_type": "stream",
     "text": [
      "[I 2024-12-16 17:31:56,504] Trial 174 finished with value: 0.018377471867147388 and parameters: {'similarity': 'cosine', 'topK': 43, 'shrink': 924, 'feature_weighting': 'BM25'}. Best is trial 171 with value: 0.018750962659727904.\n"
     ]
    },
    {
     "name": "stdout",
     "output_type": "stream",
     "text": [
      "Similarity column 38121 (100.0%), 666.63 column/sec. Elapsed time 57.18 sec\n",
      "EvaluatorHoldout: Processed 35595 (100.0%) in 34.25 sec. Users per second: 1039\n"
     ]
    },
    {
     "name": "stderr",
     "output_type": "stream",
     "text": [
      "[I 2024-12-16 17:33:28,507] Trial 175 finished with value: 0.01849996209562164 and parameters: {'similarity': 'cosine', 'topK': 28, 'shrink': 952, 'feature_weighting': 'BM25'}. Best is trial 171 with value: 0.018750962659727904.\n"
     ]
    },
    {
     "name": "stdout",
     "output_type": "stream",
     "text": [
      "Similarity column 38121 (100.0%), 662.91 column/sec. Elapsed time 57.51 sec\n",
      "EvaluatorHoldout: Processed 35595 (100.0%) in 32.49 sec. Users per second: 1096\n"
     ]
    },
    {
     "name": "stderr",
     "output_type": "stream",
     "text": [
      "[I 2024-12-16 17:34:59,434] Trial 176 finished with value: 0.01323840850663476 and parameters: {'similarity': 'dice', 'topK': 11, 'shrink': 1000, 'feature_weighting': 'BM25'}. Best is trial 171 with value: 0.018750962659727904.\n"
     ]
    },
    {
     "name": "stdout",
     "output_type": "stream",
     "text": [
      "Similarity column 38121 (100.0%), 666.20 column/sec. Elapsed time 57.22 sec\n",
      "EvaluatorHoldout: Processed 35595 (100.0%) in 35.15 sec. Users per second: 1013\n"
     ]
    },
    {
     "name": "stderr",
     "output_type": "stream",
     "text": [
      "[I 2024-12-16 17:36:32,403] Trial 177 finished with value: 0.01836032905459797 and parameters: {'similarity': 'cosine', 'topK': 41, 'shrink': 909, 'feature_weighting': 'BM25'}. Best is trial 171 with value: 0.018750962659727904.\n"
     ]
    },
    {
     "name": "stdout",
     "output_type": "stream",
     "text": [
      "Similarity column 38121 (100.0%), 664.94 column/sec. Elapsed time 57.33 sec\n",
      "EvaluatorHoldout: Processed 35595 (100.0%) in 34.19 sec. Users per second: 1041\n"
     ]
    },
    {
     "name": "stderr",
     "output_type": "stream",
     "text": [
      "[I 2024-12-16 17:38:04,489] Trial 178 finished with value: 0.0186188346856278 and parameters: {'similarity': 'cosine', 'topK': 25, 'shrink': 939, 'feature_weighting': 'BM25'}. Best is trial 171 with value: 0.018750962659727904.\n"
     ]
    },
    {
     "name": "stdout",
     "output_type": "stream",
     "text": [
      "Similarity column 38121 (100.0%), 663.82 column/sec. Elapsed time 57.43 sec\n",
      "EvaluatorHoldout: Processed 35595 (100.0%) in 36.17 sec. Users per second: 984\n"
     ]
    },
    {
     "name": "stderr",
     "output_type": "stream",
     "text": [
      "[I 2024-12-16 17:39:38,741] Trial 179 finished with value: 0.015396474223908198 and parameters: {'similarity': 'cosine', 'topK': 61, 'shrink': 75, 'feature_weighting': 'BM25'}. Best is trial 171 with value: 0.018750962659727904.\n"
     ]
    },
    {
     "name": "stdout",
     "output_type": "stream",
     "text": [
      "Similarity column 38121 (100.0%), 920.79 column/sec. Elapsed time 41.40 sec\n",
      "EvaluatorHoldout: Processed 35595 (100.0%) in 25.76 sec. Users per second: 1382\n"
     ]
    },
    {
     "name": "stderr",
     "output_type": "stream",
     "text": [
      "[I 2024-12-16 17:40:46,484] Trial 180 finished with value: 0.00028209999175022335 and parameters: {'similarity': 'cosine', 'topK': 0, 'shrink': 979, 'feature_weighting': 'BM25'}. Best is trial 171 with value: 0.018750962659727904.\n"
     ]
    },
    {
     "name": "stdout",
     "output_type": "stream",
     "text": [
      "Similarity column 38121 (100.0%), 660.02 column/sec. Elapsed time 57.76 sec\n",
      "EvaluatorHoldout: Processed 35595 (100.0%) in 44.16 sec. Users per second: 806\n"
     ]
    },
    {
     "name": "stderr",
     "output_type": "stream",
     "text": [
      "[I 2024-12-16 17:42:29,405] Trial 181 finished with value: 0.017284805695467476 and parameters: {'similarity': 'cosine', 'topK': 241, 'shrink': 938, 'feature_weighting': 'BM25'}. Best is trial 171 with value: 0.018750962659727904.\n"
     ]
    },
    {
     "name": "stdout",
     "output_type": "stream",
     "text": [
      "Similarity column 38121 (100.0%), 664.17 column/sec. Elapsed time 57.40 sec\n",
      "EvaluatorHoldout: Processed 35595 (100.0%) in 34.04 sec. Users per second: 1046\n"
     ]
    },
    {
     "name": "stderr",
     "output_type": "stream",
     "text": [
      "[I 2024-12-16 17:44:01,435] Trial 182 finished with value: 0.018611973993137125 and parameters: {'similarity': 'cosine', 'topK': 24, 'shrink': 958, 'feature_weighting': 'BM25'}. Best is trial 171 with value: 0.018750962659727904.\n"
     ]
    },
    {
     "name": "stdout",
     "output_type": "stream",
     "text": [
      "Similarity column 38121 (100.0%), 663.96 column/sec. Elapsed time 57.41 sec\n",
      "EvaluatorHoldout: Processed 35595 (100.0%) in 34.48 sec. Users per second: 1032\n"
     ]
    },
    {
     "name": "stderr",
     "output_type": "stream",
     "text": [
      "[I 2024-12-16 17:45:33,927] Trial 183 finished with value: 0.018603579288155807 and parameters: {'similarity': 'cosine', 'topK': 27, 'shrink': 961, 'feature_weighting': 'BM25'}. Best is trial 171 with value: 0.018750962659727904.\n"
     ]
    },
    {
     "name": "stdout",
     "output_type": "stream",
     "text": [
      "Similarity column 38121 (100.0%), 667.70 column/sec. Elapsed time 57.09 sec\n",
      "EvaluatorHoldout: Processed 35595 (100.0%) in 34.35 sec. Users per second: 1036\n"
     ]
    },
    {
     "name": "stderr",
     "output_type": "stream",
     "text": [
      "[I 2024-12-16 17:47:05,942] Trial 184 finished with value: 0.01851475818121422 and parameters: {'similarity': 'cosine', 'topK': 29, 'shrink': 960, 'feature_weighting': 'BM25'}. Best is trial 171 with value: 0.018750962659727904.\n"
     ]
    },
    {
     "name": "stdout",
     "output_type": "stream",
     "text": [
      "Similarity column 38121 (100.0%), 667.13 column/sec. Elapsed time 57.14 sec\n",
      "EvaluatorHoldout: Processed 35595 (100.0%) in 35.50 sec. Users per second: 1003\n"
     ]
    },
    {
     "name": "stderr",
     "output_type": "stream",
     "text": [
      "[I 2024-12-16 17:48:39,179] Trial 185 finished with value: 0.018391288013074797 and parameters: {'similarity': 'cosine', 'topK': 41, 'shrink': 983, 'feature_weighting': 'BM25'}. Best is trial 171 with value: 0.018750962659727904.\n"
     ]
    },
    {
     "name": "stdout",
     "output_type": "stream",
     "text": [
      "Similarity column 38121 (100.0%), 664.04 column/sec. Elapsed time 57.41 sec\n",
      "EvaluatorHoldout: Processed 35595 (100.0%) in 34.33 sec. Users per second: 1037\n"
     ]
    },
    {
     "name": "stderr",
     "output_type": "stream",
     "text": [
      "[I 2024-12-16 17:50:11,478] Trial 186 finished with value: 0.01856378415017273 and parameters: {'similarity': 'cosine', 'topK': 23, 'shrink': 943, 'feature_weighting': 'TF-IDF'}. Best is trial 171 with value: 0.018750962659727904.\n"
     ]
    },
    {
     "name": "stdout",
     "output_type": "stream",
     "text": [
      "Similarity column 38121 (100.0%), 664.01 column/sec. Elapsed time 57.41 sec\n",
      "EvaluatorHoldout: Processed 35595 (100.0%) in 35.69 sec. Users per second: 997\n"
     ]
    },
    {
     "name": "stderr",
     "output_type": "stream",
     "text": [
      "[I 2024-12-16 17:51:45,238] Trial 187 finished with value: 0.01837763017366901 and parameters: {'similarity': 'cosine', 'topK': 50, 'shrink': 923, 'feature_weighting': 'BM25'}. Best is trial 171 with value: 0.018750962659727904.\n"
     ]
    },
    {
     "name": "stdout",
     "output_type": "stream",
     "text": [
      "Similarity column 38121 (100.0%), 653.69 column/sec. Elapsed time 58.32 sec\n",
      "EvaluatorHoldout: Processed 35595 (100.0%) in 32.38 sec. Users per second: 1099\n"
     ]
    },
    {
     "name": "stderr",
     "output_type": "stream",
     "text": [
      "[I 2024-12-16 17:53:16,916] Trial 188 finished with value: 0.013374905517763077 and parameters: {'similarity': 'tversky', 'topK': 12, 'shrink': 962, 'feature_weighting': 'BM25', 'tversky_alpha': 1.3606751435843036, 'tversky_beta': 1.4827781810368992}. Best is trial 171 with value: 0.018750962659727904.\n"
     ]
    },
    {
     "name": "stdout",
     "output_type": "stream",
     "text": [
      "Similarity column 38121 (100.0%), 654.95 column/sec. Elapsed time 58.20 sec\n",
      "EvaluatorHoldout: Processed 35595 (100.0%) in 33.70 sec. Users per second: 1056\n"
     ]
    },
    {
     "name": "stderr",
     "output_type": "stream",
     "text": [
      "[I 2024-12-16 17:54:49,338] Trial 189 finished with value: 0.012187768257090108 and parameters: {'similarity': 'cosine', 'topK': 25, 'shrink': 1000, 'feature_weighting': 'none'}. Best is trial 171 with value: 0.018750962659727904.\n"
     ]
    },
    {
     "name": "stdout",
     "output_type": "stream",
     "text": [
      "Similarity column 38121 (100.0%), 659.05 column/sec. Elapsed time 57.84 sec\n",
      "EvaluatorHoldout: Processed 35595 (100.0%) in 37.02 sec. Users per second: 961\n"
     ]
    },
    {
     "name": "stderr",
     "output_type": "stream",
     "text": [
      "[I 2024-12-16 17:56:24,873] Trial 190 finished with value: 0.01831874795149135 and parameters: {'similarity': 'cosine', 'topK': 58, 'shrink': 943, 'feature_weighting': 'BM25'}. Best is trial 171 with value: 0.018750962659727904.\n"
     ]
    },
    {
     "name": "stdout",
     "output_type": "stream",
     "text": [
      "Similarity column 38121 (100.0%), 660.21 column/sec. Elapsed time 57.74 sec\n",
      "EvaluatorHoldout: Processed 35595 (100.0%) in 33.28 sec. Users per second: 1070\n"
     ]
    },
    {
     "name": "stderr",
     "output_type": "stream",
     "text": [
      "[I 2024-12-16 17:57:56,465] Trial 191 finished with value: 0.018639060016009023 and parameters: {'similarity': 'cosine', 'topK': 13, 'shrink': 965, 'feature_weighting': 'BM25'}. Best is trial 171 with value: 0.018750962659727904.\n"
     ]
    },
    {
     "name": "stdout",
     "output_type": "stream",
     "text": [
      "Similarity column 38121 (100.0%), 659.60 column/sec. Elapsed time 57.79 sec\n",
      "EvaluatorHoldout: Processed 35595 (100.0%) in 34.75 sec. Users per second: 1024\n"
     ]
    },
    {
     "name": "stderr",
     "output_type": "stream",
     "text": [
      "[I 2024-12-16 17:59:29,557] Trial 192 finished with value: 0.01876248782043132 and parameters: {'similarity': 'cosine', 'topK': 9, 'shrink': 979, 'feature_weighting': 'BM25'}. Best is trial 192 with value: 0.01876248782043132.\n"
     ]
    },
    {
     "name": "stdout",
     "output_type": "stream",
     "text": [
      "Similarity column 38121 (100.0%), 659.55 column/sec. Elapsed time 57.80 sec\n",
      "EvaluatorHoldout: Processed 35595 (100.0%) in 33.22 sec. Users per second: 1071\n"
     ]
    },
    {
     "name": "stderr",
     "output_type": "stream",
     "text": [
      "[I 2024-12-16 18:01:01,154] Trial 193 finished with value: 0.018648477024372518 and parameters: {'similarity': 'cosine', 'topK': 10, 'shrink': 978, 'feature_weighting': 'BM25'}. Best is trial 192 with value: 0.01876248782043132.\n"
     ]
    },
    {
     "name": "stdout",
     "output_type": "stream",
     "text": [
      "Similarity column 38121 (100.0%), 850.01 column/sec. Elapsed time 44.85 sec\n",
      "EvaluatorHoldout: Processed 35595 (100.0%) in 28.90 sec. Users per second: 1232\n"
     ]
    },
    {
     "name": "stderr",
     "output_type": "stream",
     "text": [
      "[I 2024-12-16 18:02:15,484] Trial 194 finished with value: 0.016176510656704675 and parameters: {'similarity': 'cosine', 'topK': 1, 'shrink': 979, 'feature_weighting': 'BM25'}. Best is trial 192 with value: 0.01876248782043132.\n"
     ]
    },
    {
     "name": "stdout",
     "output_type": "stream",
     "text": [
      "Similarity column 38121 (100.0%), 653.83 column/sec. Elapsed time 58.30 sec\n",
      "EvaluatorHoldout: Processed 35595 (100.0%) in 33.20 sec. Users per second: 1072\n"
     ]
    },
    {
     "name": "stderr",
     "output_type": "stream",
     "text": [
      "[I 2024-12-16 18:03:47,599] Trial 195 finished with value: 0.018624428925946013 and parameters: {'similarity': 'cosine', 'topK': 12, 'shrink': 977, 'feature_weighting': 'BM25'}. Best is trial 192 with value: 0.01876248782043132.\n"
     ]
    },
    {
     "name": "stdout",
     "output_type": "stream",
     "text": [
      "Similarity column 38121 (100.0%), 656.81 column/sec. Elapsed time 58.04 sec\n",
      "EvaluatorHoldout: Processed 35595 (100.0%) in 34.77 sec. Users per second: 1024\n"
     ]
    },
    {
     "name": "stderr",
     "output_type": "stream",
     "text": [
      "[I 2024-12-16 18:05:20,991] Trial 196 finished with value: 0.0186478761284914 and parameters: {'similarity': 'cosine', 'topK': 11, 'shrink': 981, 'feature_weighting': 'BM25'}. Best is trial 192 with value: 0.01876248782043132.\n"
     ]
    },
    {
     "name": "stdout",
     "output_type": "stream",
     "text": [
      "Similarity column 38121 (100.0%), 174.70 column/sec. Elapsed time 3.64 min\n",
      "EvaluatorHoldout: Processed 35595 (100.0%) in 33.43 sec. Users per second: 1065\n"
     ]
    },
    {
     "name": "stderr",
     "output_type": "stream",
     "text": [
      "[I 2024-12-16 18:09:33,089] Trial 197 finished with value: 0.01850662211787359 and parameters: {'similarity': 'euclidean', 'topK': 10, 'shrink': 984, 'feature_weighting': 'BM25', 'normalize_avg_row': True, 'similarity_from_distance_mode': 'exp', 'normalize': True}. Best is trial 192 with value: 0.01876248782043132.\n"
     ]
    },
    {
     "name": "stdout",
     "output_type": "stream",
     "text": [
      "Similarity column 38121 (100.0%), 833.48 column/sec. Elapsed time 45.74 sec\n",
      "EvaluatorHoldout: Processed 35595 (100.0%) in 29.58 sec. Users per second: 1203\n"
     ]
    },
    {
     "name": "stderr",
     "output_type": "stream",
     "text": [
      "[I 2024-12-16 18:10:48,971] Trial 198 finished with value: 0.016176697948927364 and parameters: {'similarity': 'cosine', 'topK': 1, 'shrink': 985, 'feature_weighting': 'BM25'}. Best is trial 192 with value: 0.01876248782043132.\n"
     ]
    },
    {
     "name": "stdout",
     "output_type": "stream",
     "text": [
      "Similarity column 38121 (100.0%), 657.33 column/sec. Elapsed time 57.99 sec\n",
      "EvaluatorHoldout: Processed 35595 (100.0%) in 47.52 sec. Users per second: 749\n"
     ]
    },
    {
     "name": "stderr",
     "output_type": "stream",
     "text": [
      "[I 2024-12-16 18:12:35,719] Trial 199 finished with value: 0.016942010760384284 and parameters: {'similarity': 'cosine', 'topK': 372, 'shrink': 970, 'feature_weighting': 'BM25'}. Best is trial 192 with value: 0.01876248782043132.\n"
     ]
    },
    {
     "name": "stdout",
     "output_type": "stream",
     "text": [
      "Similarity column 38121 (100.0%), 667.41 column/sec. Elapsed time 57.12 sec\n",
      "EvaluatorHoldout: Processed 35595 (100.0%) in 33.22 sec. Users per second: 1071\n"
     ]
    },
    {
     "name": "stderr",
     "output_type": "stream",
     "text": [
      "[I 2024-12-16 18:14:06,611] Trial 200 finished with value: 0.018636171479407916 and parameters: {'similarity': 'cosine', 'topK': 12, 'shrink': 999, 'feature_weighting': 'BM25'}. Best is trial 192 with value: 0.01876248782043132.\n"
     ]
    },
    {
     "name": "stdout",
     "output_type": "stream",
     "text": [
      "Similarity column 38121 (100.0%), 665.13 column/sec. Elapsed time 57.31 sec\n",
      "EvaluatorHoldout: Processed 35595 (100.0%) in 32.70 sec. Users per second: 1088\n"
     ]
    },
    {
     "name": "stderr",
     "output_type": "stream",
     "text": [
      "[I 2024-12-16 18:15:37,187] Trial 201 finished with value: 0.018658140411195612 and parameters: {'similarity': 'cosine', 'topK': 11, 'shrink': 985, 'feature_weighting': 'BM25'}. Best is trial 192 with value: 0.01876248782043132.\n"
     ]
    },
    {
     "name": "stdout",
     "output_type": "stream",
     "text": [
      "Similarity column 38121 (100.0%), 664.20 column/sec. Elapsed time 57.39 sec\n",
      "EvaluatorHoldout: Processed 35595 (100.0%) in 34.69 sec. Users per second: 1026\n"
     ]
    },
    {
     "name": "stderr",
     "output_type": "stream",
     "text": [
      "[I 2024-12-16 18:17:09,872] Trial 202 finished with value: 0.018356889789675312 and parameters: {'similarity': 'cosine', 'topK': 39, 'shrink': 999, 'feature_weighting': 'BM25'}. Best is trial 192 with value: 0.01876248782043132.\n"
     ]
    },
    {
     "name": "stdout",
     "output_type": "stream",
     "text": [
      "Similarity column 38121 (100.0%), 924.05 column/sec. Elapsed time 41.25 sec\n",
      "EvaluatorHoldout: Processed 35595 (100.0%) in 26.34 sec. Users per second: 1351\n"
     ]
    },
    {
     "name": "stderr",
     "output_type": "stream",
     "text": [
      "[I 2024-12-16 18:18:18,019] Trial 203 finished with value: 0.00028209999175022335 and parameters: {'similarity': 'cosine', 'topK': 0, 'shrink': 981, 'feature_weighting': 'BM25'}. Best is trial 192 with value: 0.01876248782043132.\n"
     ]
    },
    {
     "name": "stdout",
     "output_type": "stream",
     "text": [
      "Similarity column 38121 (100.0%), 669.12 column/sec. Elapsed time 56.97 sec\n",
      "EvaluatorHoldout: Processed 35595 (100.0%) in 33.22 sec. Users per second: 1071\n"
     ]
    },
    {
     "name": "stderr",
     "output_type": "stream",
     "text": [
      "[I 2024-12-16 18:19:48,790] Trial 204 finished with value: 0.018550078372876557 and parameters: {'similarity': 'cosine', 'topK': 16, 'shrink': 964, 'feature_weighting': 'BM25'}. Best is trial 192 with value: 0.01876248782043132.\n"
     ]
    },
    {
     "name": "stdout",
     "output_type": "stream",
     "text": [
      "Similarity column 38121 (100.0%), 659.83 column/sec. Elapsed time 57.77 sec\n",
      "EvaluatorHoldout: Processed 35595 (100.0%) in 34.92 sec. Users per second: 1019\n"
     ]
    },
    {
     "name": "stderr",
     "output_type": "stream",
     "text": [
      "[I 2024-12-16 18:21:22,151] Trial 205 finished with value: 0.018376784014163 and parameters: {'similarity': 'cosine', 'topK': 33, 'shrink': 999, 'feature_weighting': 'BM25'}. Best is trial 192 with value: 0.01876248782043132.\n"
     ]
    },
    {
     "name": "stdout",
     "output_type": "stream",
     "text": [
      "Similarity column 38121 (100.0%), 661.12 column/sec. Elapsed time 57.66 sec\n",
      "EvaluatorHoldout: Processed 35595 (100.0%) in 32.44 sec. Users per second: 1097\n"
     ]
    },
    {
     "name": "stderr",
     "output_type": "stream",
     "text": [
      "[I 2024-12-16 18:22:52,808] Trial 206 finished with value: 0.018626162493840578 and parameters: {'similarity': 'cosine', 'topK': 12, 'shrink': 948, 'feature_weighting': 'BM25'}. Best is trial 192 with value: 0.01876248782043132.\n"
     ]
    },
    {
     "name": "stdout",
     "output_type": "stream",
     "text": [
      "Similarity column 38121 (100.0%), 669.43 column/sec. Elapsed time 56.95 sec\n",
      "EvaluatorHoldout: Processed 35595 (100.0%) in 32.58 sec. Users per second: 1093\n"
     ]
    },
    {
     "name": "stderr",
     "output_type": "stream",
     "text": [
      "[I 2024-12-16 18:24:22,909] Trial 207 finished with value: 0.01787389770723117 and parameters: {'similarity': 'asymmetric', 'topK': 12, 'shrink': 982, 'feature_weighting': 'BM25', 'asymmetric_alpha': 1.959194486693359}. Best is trial 192 with value: 0.01876248782043132.\n"
     ]
    },
    {
     "name": "stdout",
     "output_type": "stream",
     "text": [
      "Similarity column 38121 (100.0%), 665.58 column/sec. Elapsed time 57.27 sec\n",
      "EvaluatorHoldout: Processed 35595 (100.0%) in 32.98 sec. Users per second: 1079\n"
     ]
    },
    {
     "name": "stderr",
     "output_type": "stream",
     "text": [
      "[I 2024-12-16 18:25:53,723] Trial 208 finished with value: 0.018641027699181963 and parameters: {'similarity': 'cosine', 'topK': 12, 'shrink': 962, 'feature_weighting': 'BM25'}. Best is trial 192 with value: 0.01876248782043132.\n"
     ]
    },
    {
     "name": "stdout",
     "output_type": "stream",
     "text": [
      "Similarity column 38121 (100.0%), 663.83 column/sec. Elapsed time 57.43 sec\n",
      "EvaluatorHoldout: Processed 35595 (100.0%) in 34.90 sec. Users per second: 1020\n"
     ]
    },
    {
     "name": "stderr",
     "output_type": "stream",
     "text": [
      "[I 2024-12-16 18:27:26,666] Trial 209 finished with value: 0.018402174373518685 and parameters: {'similarity': 'cosine', 'topK': 41, 'shrink': 958, 'feature_weighting': 'BM25'}. Best is trial 192 with value: 0.01876248782043132.\n"
     ]
    },
    {
     "name": "stdout",
     "output_type": "stream",
     "text": [
      "Similarity column 38121 (100.0%), 670.83 column/sec. Elapsed time 56.83 sec\n",
      "EvaluatorHoldout: Processed 35595 (100.0%) in 32.99 sec. Users per second: 1079\n"
     ]
    },
    {
     "name": "stderr",
     "output_type": "stream",
     "text": [
      "[I 2024-12-16 18:28:57,020] Trial 210 finished with value: 0.018528654595237 and parameters: {'similarity': 'cosine', 'topK': 16, 'shrink': 944, 'feature_weighting': 'BM25'}. Best is trial 192 with value: 0.01876248782043132.\n"
     ]
    },
    {
     "name": "stdout",
     "output_type": "stream",
     "text": [
      "Similarity column 38121 (100.0%), 864.81 column/sec. Elapsed time 44.08 sec\n",
      "EvaluatorHoldout: Processed 35595 (100.0%) in 28.33 sec. Users per second: 1256\n"
     ]
    },
    {
     "name": "stderr",
     "output_type": "stream",
     "text": [
      "[I 2024-12-16 18:30:10,000] Trial 211 finished with value: 0.016175827263058787 and parameters: {'similarity': 'cosine', 'topK': 1, 'shrink': 978, 'feature_weighting': 'BM25'}. Best is trial 192 with value: 0.01876248782043132.\n"
     ]
    },
    {
     "name": "stdout",
     "output_type": "stream",
     "text": [
      "Similarity column 38121 (100.0%), 666.62 column/sec. Elapsed time 57.19 sec\n",
      "EvaluatorHoldout: Processed 35595 (100.0%) in 33.18 sec. Users per second: 1073\n"
     ]
    },
    {
     "name": "stderr",
     "output_type": "stream",
     "text": [
      "[I 2024-12-16 18:31:40,965] Trial 212 finished with value: 0.01864184041364829 and parameters: {'similarity': 'cosine', 'topK': 13, 'shrink': 970, 'feature_weighting': 'BM25'}. Best is trial 192 with value: 0.01876248782043132.\n"
     ]
    },
    {
     "name": "stdout",
     "output_type": "stream",
     "text": [
      "Similarity column 38121 (100.0%), 658.90 column/sec. Elapsed time 57.86 sec\n",
      "EvaluatorHoldout: Processed 35595 (100.0%) in 34.34 sec. Users per second: 1037\n"
     ]
    },
    {
     "name": "stderr",
     "output_type": "stream",
     "text": [
      "[I 2024-12-16 18:33:13,811] Trial 213 finished with value: 0.018569428558050657 and parameters: {'similarity': 'cosine', 'topK': 26, 'shrink': 1000, 'feature_weighting': 'BM25'}. Best is trial 192 with value: 0.01876248782043132.\n"
     ]
    },
    {
     "name": "stdout",
     "output_type": "stream",
     "text": [
      "Similarity column 38121 (100.0%), 928.54 column/sec. Elapsed time 41.05 sec\n",
      "EvaluatorHoldout: Processed 35595 (100.0%) in 25.15 sec. Users per second: 1415\n"
     ]
    },
    {
     "name": "stderr",
     "output_type": "stream",
     "text": [
      "[I 2024-12-16 18:34:20,601] Trial 214 finished with value: 0.00028209999175022335 and parameters: {'similarity': 'cosine', 'topK': 0, 'shrink': 960, 'feature_weighting': 'BM25'}. Best is trial 192 with value: 0.01876248782043132.\n"
     ]
    },
    {
     "name": "stdout",
     "output_type": "stream",
     "text": [
      "Similarity column 38121 (100.0%), 667.89 column/sec. Elapsed time 57.08 sec\n",
      "EvaluatorHoldout: Processed 35595 (100.0%) in 34.61 sec. Users per second: 1028\n"
     ]
    },
    {
     "name": "stderr",
     "output_type": "stream",
     "text": [
      "[I 2024-12-16 18:35:52,905] Trial 215 finished with value: 0.018446079906889064 and parameters: {'similarity': 'cosine', 'topK': 36, 'shrink': 982, 'feature_weighting': 'BM25'}. Best is trial 192 with value: 0.01876248782043132.\n"
     ]
    },
    {
     "name": "stdout",
     "output_type": "stream",
     "text": [
      "Similarity column 38121 (100.0%), 668.97 column/sec. Elapsed time 56.98 sec\n",
      "EvaluatorHoldout: Processed 35595 (100.0%) in 32.95 sec. Users per second: 1080\n"
     ]
    },
    {
     "name": "stderr",
     "output_type": "stream",
     "text": [
      "[I 2024-12-16 18:37:23,412] Trial 216 finished with value: 0.018542597832315485 and parameters: {'similarity': 'cosine', 'topK': 15, 'shrink': 947, 'feature_weighting': 'BM25'}. Best is trial 192 with value: 0.01876248782043132.\n"
     ]
    },
    {
     "name": "stdout",
     "output_type": "stream",
     "text": [
      "Similarity column 38121 (100.0%), 666.70 column/sec. Elapsed time 57.18 sec\n",
      "EvaluatorHoldout: Processed 35595 (100.0%) in 33.36 sec. Users per second: 1067\n"
     ]
    },
    {
     "name": "stderr",
     "output_type": "stream",
     "text": [
      "[I 2024-12-16 18:38:54,879] Trial 217 finished with value: 0.012584413050700818 and parameters: {'similarity': 'jaccard', 'topK': 25, 'shrink': 1000, 'feature_weighting': 'BM25'}. Best is trial 192 with value: 0.01876248782043132.\n"
     ]
    },
    {
     "name": "stdout",
     "output_type": "stream",
     "text": [
      "Similarity column 38121 (100.0%), 668.14 column/sec. Elapsed time 57.06 sec\n",
      "EvaluatorHoldout: Processed 35595 (100.0%) in 35.02 sec. Users per second: 1017\n"
     ]
    },
    {
     "name": "stderr",
     "output_type": "stream",
     "text": [
      "[I 2024-12-16 18:40:27,545] Trial 218 finished with value: 0.018473646423498982 and parameters: {'similarity': 'cosine', 'topK': 43, 'shrink': 970, 'feature_weighting': 'BM25'}. Best is trial 192 with value: 0.01876248782043132.\n"
     ]
    },
    {
     "name": "stdout",
     "output_type": "stream",
     "text": [
      "Similarity column 38121 (100.0%), 664.71 column/sec. Elapsed time 57.35 sec\n",
      "EvaluatorHoldout: Processed 35595 (100.0%) in 32.92 sec. Users per second: 1081\n"
     ]
    },
    {
     "name": "stderr",
     "output_type": "stream",
     "text": [
      "[I 2024-12-16 18:41:58,368] Trial 219 finished with value: 0.018584989420219102 and parameters: {'similarity': 'cosine', 'topK': 12, 'shrink': 931, 'feature_weighting': 'BM25'}. Best is trial 192 with value: 0.01876248782043132.\n"
     ]
    },
    {
     "name": "stdout",
     "output_type": "stream",
     "text": [
      "Similarity column 38121 (100.0%), 928.45 column/sec. Elapsed time 41.06 sec\n",
      "EvaluatorHoldout: Processed 35595 (100.0%) in 25.00 sec. Users per second: 1424\n"
     ]
    },
    {
     "name": "stderr",
     "output_type": "stream",
     "text": [
      "[I 2024-12-16 18:43:04,962] Trial 220 finished with value: 0.00028209999175022335 and parameters: {'similarity': 'cosine', 'topK': 0, 'shrink': 956, 'feature_weighting': 'BM25'}. Best is trial 192 with value: 0.01876248782043132.\n"
     ]
    },
    {
     "name": "stdout",
     "output_type": "stream",
     "text": [
      "Similarity column 38121 (100.0%), 665.72 column/sec. Elapsed time 57.26 sec\n",
      "EvaluatorHoldout: Processed 35595 (100.0%) in 33.40 sec. Users per second: 1066\n"
     ]
    },
    {
     "name": "stderr",
     "output_type": "stream",
     "text": [
      "[I 2024-12-16 18:44:36,174] Trial 221 finished with value: 0.018595293836971078 and parameters: {'similarity': 'cosine', 'topK': 14, 'shrink': 978, 'feature_weighting': 'BM25'}. Best is trial 192 with value: 0.01876248782043132.\n"
     ]
    },
    {
     "name": "stdout",
     "output_type": "stream",
     "text": [
      "Similarity column 38121 (100.0%), 659.23 column/sec. Elapsed time 57.83 sec\n",
      "EvaluatorHoldout: Processed 35595 (100.0%) in 34.18 sec. Users per second: 1041\n"
     ]
    },
    {
     "name": "stderr",
     "output_type": "stream",
     "text": [
      "[I 2024-12-16 18:46:08,770] Trial 222 finished with value: 0.018579072992684506 and parameters: {'similarity': 'cosine', 'topK': 27, 'shrink': 966, 'feature_weighting': 'BM25'}. Best is trial 192 with value: 0.01876248782043132.\n"
     ]
    },
    {
     "name": "stdout",
     "output_type": "stream",
     "text": [
      "Similarity column 38121 (100.0%), 666.02 column/sec. Elapsed time 57.24 sec\n",
      "EvaluatorHoldout: Processed 35595 (100.0%) in 32.94 sec. Users per second: 1081\n"
     ]
    },
    {
     "name": "stderr",
     "output_type": "stream",
     "text": [
      "[I 2024-12-16 18:47:39,516] Trial 223 finished with value: 0.018598002885192113 and parameters: {'similarity': 'cosine', 'topK': 14, 'shrink': 983, 'feature_weighting': 'BM25'}. Best is trial 192 with value: 0.01876248782043132.\n"
     ]
    },
    {
     "name": "stdout",
     "output_type": "stream",
     "text": [
      "Similarity column 38121 (100.0%), 670.02 column/sec. Elapsed time 56.90 sec\n",
      "EvaluatorHoldout: Processed 35595 (100.0%) in 34.79 sec. Users per second: 1023\n"
     ]
    },
    {
     "name": "stderr",
     "output_type": "stream",
     "text": [
      "[I 2024-12-16 18:49:11,840] Trial 224 finished with value: 0.018432104339605456 and parameters: {'similarity': 'cosine', 'topK': 38, 'shrink': 951, 'feature_weighting': 'BM25'}. Best is trial 192 with value: 0.01876248782043132.\n"
     ]
    },
    {
     "name": "stdout",
     "output_type": "stream",
     "text": [
      "Similarity column 38121 (100.0%), 660.84 column/sec. Elapsed time 57.69 sec\n",
      "EvaluatorHoldout: Processed 35595 (100.0%) in 41.66 sec. Users per second: 854\n"
     ]
    },
    {
     "name": "stderr",
     "output_type": "stream",
     "text": [
      "[I 2024-12-16 18:50:52,024] Trial 225 finished with value: 0.017542481889511047 and parameters: {'similarity': 'cosine', 'topK': 186, 'shrink': 968, 'feature_weighting': 'BM25'}. Best is trial 192 with value: 0.01876248782043132.\n"
     ]
    },
    {
     "name": "stdout",
     "output_type": "stream",
     "text": [
      "Similarity column 38121 (100.0%), 656.83 column/sec. Elapsed time 58.04 sec\n",
      "EvaluatorHoldout: Processed 35595 (100.0%) in 49.92 sec. Users per second: 713\n"
     ]
    },
    {
     "name": "stderr",
     "output_type": "stream",
     "text": [
      "[I 2024-12-16 18:52:41,228] Trial 226 finished with value: 0.016660149343251062 and parameters: {'similarity': 'cosine', 'topK': 478, 'shrink': 931, 'feature_weighting': 'BM25'}. Best is trial 192 with value: 0.01876248782043132.\n"
     ]
    },
    {
     "name": "stdout",
     "output_type": "stream",
     "text": [
      "Similarity column 38121 (100.0%), 671.52 column/sec. Elapsed time 56.77 sec\n",
      "EvaluatorHoldout: Processed 35595 (100.0%) in 34.74 sec. Users per second: 1025\n"
     ]
    },
    {
     "name": "stderr",
     "output_type": "stream",
     "text": [
      "[I 2024-12-16 18:54:13,726] Trial 227 finished with value: 0.0127996296519267 and parameters: {'similarity': 'dice', 'topK': 23, 'shrink': 986, 'feature_weighting': 'BM25'}. Best is trial 192 with value: 0.01876248782043132.\n"
     ]
    },
    {
     "name": "stdout",
     "output_type": "stream",
     "text": [
      "Similarity column 38121 (100.0%), 921.43 column/sec. Elapsed time 41.37 sec\n",
      "EvaluatorHoldout: Processed 35595 (100.0%) in 25.00 sec. Users per second: 1424\n"
     ]
    },
    {
     "name": "stderr",
     "output_type": "stream",
     "text": [
      "[I 2024-12-16 18:55:20,687] Trial 228 finished with value: 0.00028209999175022335 and parameters: {'similarity': 'cosine', 'topK': 0, 'shrink': 999, 'feature_weighting': 'BM25'}. Best is trial 192 with value: 0.01876248782043132.\n"
     ]
    },
    {
     "name": "stdout",
     "output_type": "stream",
     "text": [
      "Similarity column 38121 (100.0%), 650.45 column/sec. Elapsed time 58.61 sec\n",
      "EvaluatorHoldout: Processed 35595 (100.0%) in 35.55 sec. Users per second: 1001\n"
     ]
    },
    {
     "name": "stderr",
     "output_type": "stream",
     "text": [
      "[I 2024-12-16 18:56:55,540] Trial 229 finished with value: 0.01838026564280258 and parameters: {'similarity': 'cosine', 'topK': 50, 'shrink': 942, 'feature_weighting': 'BM25'}. Best is trial 192 with value: 0.01876248782043132.\n"
     ]
    },
    {
     "name": "stdout",
     "output_type": "stream",
     "text": [
      "Similarity column 38121 (100.0%), 670.80 column/sec. Elapsed time 56.83 sec\n",
      "EvaluatorHoldout: Processed 35595 (100.0%) in 32.94 sec. Users per second: 1081\n"
     ]
    },
    {
     "name": "stderr",
     "output_type": "stream",
     "text": [
      "[I 2024-12-16 18:58:25,870] Trial 230 finished with value: 0.01856644414566882 and parameters: {'similarity': 'cosine', 'topK': 15, 'shrink': 968, 'feature_weighting': 'BM25'}. Best is trial 192 with value: 0.01876248782043132.\n"
     ]
    },
    {
     "name": "stdout",
     "output_type": "stream",
     "text": [
      "Similarity column 38121 (100.0%), 665.26 column/sec. Elapsed time 57.30 sec\n",
      "EvaluatorHoldout: Processed 35595 (100.0%) in 34.20 sec. Users per second: 1041\n"
     ]
    },
    {
     "name": "stderr",
     "output_type": "stream",
     "text": [
      "[I 2024-12-16 18:59:57,956] Trial 231 finished with value: 0.018486798127969696 and parameters: {'similarity': 'cosine', 'topK': 28, 'shrink': 945, 'feature_weighting': 'BM25'}. Best is trial 192 with value: 0.01876248782043132.\n"
     ]
    },
    {
     "name": "stdout",
     "output_type": "stream",
     "text": [
      "Similarity column 38121 (100.0%), 620.43 column/sec. Elapsed time 1.02 min\n",
      "EvaluatorHoldout: Processed 35595 (100.0%) in 33.65 sec. Users per second: 1058\n"
     ]
    },
    {
     "name": "stderr",
     "output_type": "stream",
     "text": [
      "[I 2024-12-16 19:01:33,629] Trial 232 finished with value: 0.018588942623919462 and parameters: {'similarity': 'cosine', 'topK': 25, 'shrink': 919, 'feature_weighting': 'BM25'}. Best is trial 192 with value: 0.01876248782043132.\n"
     ]
    },
    {
     "name": "stdout",
     "output_type": "stream",
     "text": [
      "Similarity column 38121 (100.0%), 669.31 column/sec. Elapsed time 56.96 sec\n",
      "EvaluatorHoldout: Processed 35595 (100.0%) in 32.63 sec. Users per second: 1091\n"
     ]
    },
    {
     "name": "stderr",
     "output_type": "stream",
     "text": [
      "[I 2024-12-16 19:03:03,783] Trial 233 finished with value: 0.018649694423820043 and parameters: {'similarity': 'cosine', 'topK': 12, 'shrink': 969, 'feature_weighting': 'BM25'}. Best is trial 192 with value: 0.01876248782043132.\n"
     ]
    },
    {
     "name": "stdout",
     "output_type": "stream",
     "text": [
      "Similarity column 38121 (100.0%), 666.10 column/sec. Elapsed time 57.23 sec\n",
      "EvaluatorHoldout: Processed 35595 (100.0%) in 34.02 sec. Users per second: 1046\n"
     ]
    },
    {
     "name": "stderr",
     "output_type": "stream",
     "text": [
      "[I 2024-12-16 19:04:35,590] Trial 234 finished with value: 0.0186478761284914 and parameters: {'similarity': 'cosine', 'topK': 11, 'shrink': 981, 'feature_weighting': 'BM25'}. Best is trial 192 with value: 0.01876248782043132.\n"
     ]
    },
    {
     "name": "stdout",
     "output_type": "stream",
     "text": [
      "Similarity column 38121 (100.0%), 659.90 column/sec. Elapsed time 57.77 sec\n",
      "EvaluatorHoldout: Processed 35595 (100.0%) in 33.24 sec. Users per second: 1071\n"
     ]
    },
    {
     "name": "stderr",
     "output_type": "stream",
     "text": [
      "[I 2024-12-16 19:06:07,182] Trial 235 finished with value: 0.018625731052827547 and parameters: {'similarity': 'cosine', 'topK': 12, 'shrink': 983, 'feature_weighting': 'BM25'}. Best is trial 192 with value: 0.01876248782043132.\n"
     ]
    },
    {
     "name": "stdout",
     "output_type": "stream",
     "text": [
      "Similarity column 38121 (100.0%), 926.43 column/sec. Elapsed time 41.15 sec\n",
      "EvaluatorHoldout: Processed 35595 (100.0%) in 24.76 sec. Users per second: 1437\n"
     ]
    },
    {
     "name": "stderr",
     "output_type": "stream",
     "text": [
      "[I 2024-12-16 19:07:13,635] Trial 236 finished with value: 0.00028209999175022335 and parameters: {'similarity': 'cosine', 'topK': 0, 'shrink': 999, 'feature_weighting': 'BM25'}. Best is trial 192 with value: 0.01876248782043132.\n"
     ]
    },
    {
     "name": "stdout",
     "output_type": "stream",
     "text": [
      "Similarity column 38121 (100.0%), 666.89 column/sec. Elapsed time 57.16 sec\n",
      "EvaluatorHoldout: Processed 35595 (100.0%) in 35.03 sec. Users per second: 1016\n"
     ]
    },
    {
     "name": "stderr",
     "output_type": "stream",
     "text": [
      "[I 2024-12-16 19:08:46,439] Trial 237 finished with value: 0.018411410778667467 and parameters: {'similarity': 'cosine', 'topK': 38, 'shrink': 956, 'feature_weighting': 'BM25'}. Best is trial 192 with value: 0.01876248782043132.\n"
     ]
    },
    {
     "name": "stdout",
     "output_type": "stream",
     "text": [
      "Similarity column 38121 (100.0%), 649.92 column/sec. Elapsed time 58.65 sec\n",
      "EvaluatorHoldout: Processed 35595 (100.0%) in 32.60 sec. Users per second: 1092\n"
     ]
    },
    {
     "name": "stderr",
     "output_type": "stream",
     "text": [
      "[I 2024-12-16 19:10:18,526] Trial 238 finished with value: 0.012581624849218945 and parameters: {'similarity': 'tversky', 'topK': 14, 'shrink': 980, 'feature_weighting': 'none', 'tversky_alpha': 0.4988222324749081, 'tversky_beta': 0.4716218794053182}. Best is trial 192 with value: 0.01876248782043132.\n"
     ]
    },
    {
     "name": "stdout",
     "output_type": "stream",
     "text": [
      "Similarity column 38121 (100.0%), 660.10 column/sec. Elapsed time 57.75 sec\n",
      "EvaluatorHoldout: Processed 35595 (100.0%) in 35.38 sec. Users per second: 1006\n"
     ]
    },
    {
     "name": "stderr",
     "output_type": "stream",
     "text": [
      "[I 2024-12-16 19:11:52,271] Trial 239 finished with value: 0.01835861555372735 and parameters: {'similarity': 'cosine', 'topK': 33, 'shrink': 962, 'feature_weighting': 'BM25'}. Best is trial 192 with value: 0.01876248782043132.\n"
     ]
    },
    {
     "name": "stdout",
     "output_type": "stream",
     "text": [
      "Similarity column 38121 (100.0%), 201.75 column/sec. Elapsed time 3.15 min\n",
      "EvaluatorHoldout: Processed 35595 (100.0%) in 31.56 sec. Users per second: 1128\n"
     ]
    },
    {
     "name": "stderr",
     "output_type": "stream",
     "text": [
      "[I 2024-12-16 19:15:33,288] Trial 240 finished with value: 0.008426679554155402 and parameters: {'similarity': 'euclidean', 'topK': 50, 'shrink': 984, 'feature_weighting': 'BM25', 'normalize_avg_row': False, 'similarity_from_distance_mode': 'lin', 'normalize': False}. Best is trial 192 with value: 0.01876248782043132.\n"
     ]
    },
    {
     "name": "stdout",
     "output_type": "stream",
     "text": [
      "Similarity column 38121 (100.0%), 661.60 column/sec. Elapsed time 57.62 sec\n",
      "EvaluatorHoldout: Processed 35595 (100.0%) in 33.82 sec. Users per second: 1053\n"
     ]
    },
    {
     "name": "stderr",
     "output_type": "stream",
     "text": [
      "[I 2024-12-16 19:17:05,295] Trial 241 finished with value: 0.018606010742546787 and parameters: {'similarity': 'cosine', 'topK': 13, 'shrink': 981, 'feature_weighting': 'BM25'}. Best is trial 192 with value: 0.01876248782043132.\n"
     ]
    },
    {
     "name": "stdout",
     "output_type": "stream",
     "text": [
      "Similarity column 38121 (100.0%), 666.06 column/sec. Elapsed time 57.23 sec\n",
      "EvaluatorHoldout: Processed 35595 (100.0%) in 33.27 sec. Users per second: 1070\n"
     ]
    },
    {
     "name": "stderr",
     "output_type": "stream",
     "text": [
      "[I 2024-12-16 19:18:36,361] Trial 242 finished with value: 0.01861883245595846 and parameters: {'similarity': 'cosine', 'topK': 13, 'shrink': 1000, 'feature_weighting': 'BM25'}. Best is trial 192 with value: 0.01876248782043132.\n"
     ]
    },
    {
     "name": "stdout",
     "output_type": "stream",
     "text": [
      "Similarity column 38121 (100.0%), 909.15 column/sec. Elapsed time 41.93 sec\n",
      "EvaluatorHoldout: Processed 35595 (100.0%) in 25.39 sec. Users per second: 1402\n"
     ]
    },
    {
     "name": "stderr",
     "output_type": "stream",
     "text": [
      "[I 2024-12-16 19:19:44,222] Trial 243 finished with value: 0.00028209999175022335 and parameters: {'similarity': 'cosine', 'topK': 0, 'shrink': 968, 'feature_weighting': 'BM25'}. Best is trial 192 with value: 0.01876248782043132.\n"
     ]
    },
    {
     "name": "stdout",
     "output_type": "stream",
     "text": [
      "Similarity column 38121 (100.0%), 656.31 column/sec. Elapsed time 58.08 sec\n",
      "EvaluatorHoldout: Processed 35595 (100.0%) in 35.11 sec. Users per second: 1014\n"
     ]
    },
    {
     "name": "stderr",
     "output_type": "stream",
     "text": [
      "[I 2024-12-16 19:21:18,032] Trial 244 finished with value: 0.01862011005647757 and parameters: {'similarity': 'cosine', 'topK': 26, 'shrink': 948, 'feature_weighting': 'BM25'}. Best is trial 192 with value: 0.01876248782043132.\n"
     ]
    },
    {
     "name": "stdout",
     "output_type": "stream",
     "text": [
      "Similarity column 38121 (100.0%), 655.58 column/sec. Elapsed time 58.15 sec\n",
      "EvaluatorHoldout: Processed 35595 (100.0%) in 34.39 sec. Users per second: 1035\n"
     ]
    },
    {
     "name": "stderr",
     "output_type": "stream",
     "text": [
      "[I 2024-12-16 19:22:51,174] Trial 245 finished with value: 0.01865373792912776 and parameters: {'similarity': 'cosine', 'topK': 22, 'shrink': 968, 'feature_weighting': 'BM25'}. Best is trial 192 with value: 0.01876248782043132.\n"
     ]
    },
    {
     "name": "stdout",
     "output_type": "stream",
     "text": [
      "Similarity column 38121 (100.0%), 650.54 column/sec. Elapsed time 58.60 sec\n",
      "EvaluatorHoldout: Processed 35595 (100.0%) in 45.35 sec. Users per second: 785\n"
     ]
    },
    {
     "name": "stderr",
     "output_type": "stream",
     "text": [
      "[I 2024-12-16 19:24:36,130] Trial 246 finished with value: 0.017212466304122594 and parameters: {'similarity': 'cosine', 'topK': 286, 'shrink': 928, 'feature_weighting': 'BM25'}. Best is trial 192 with value: 0.01876248782043132.\n"
     ]
    },
    {
     "name": "stdout",
     "output_type": "stream",
     "text": [
      "Similarity column 38121 (100.0%), 661.27 column/sec. Elapsed time 57.65 sec\n",
      "EvaluatorHoldout: Processed 35595 (100.0%) in 34.72 sec. Users per second: 1025\n"
     ]
    },
    {
     "name": "stderr",
     "output_type": "stream",
     "text": [
      "[I 2024-12-16 19:26:09,101] Trial 247 finished with value: 0.0183746390722793 and parameters: {'similarity': 'cosine', 'topK': 34, 'shrink': 955, 'feature_weighting': 'BM25'}. Best is trial 192 with value: 0.01876248782043132.\n"
     ]
    },
    {
     "name": "stdout",
     "output_type": "stream",
     "text": [
      "Similarity column 38121 (100.0%), 662.75 column/sec. Elapsed time 57.52 sec\n",
      "EvaluatorHoldout: Processed 35595 (100.0%) in 34.08 sec. Users per second: 1044\n"
     ]
    },
    {
     "name": "stderr",
     "output_type": "stream",
     "text": [
      "[I 2024-12-16 19:27:41,337] Trial 248 finished with value: 0.018712538768375316 and parameters: {'similarity': 'cosine', 'topK': 23, 'shrink': 981, 'feature_weighting': 'BM25'}. Best is trial 192 with value: 0.01876248782043132.\n"
     ]
    },
    {
     "name": "stdout",
     "output_type": "stream",
     "text": [
      "Similarity column 38121 (100.0%), 660.25 column/sec. Elapsed time 57.74 sec\n",
      "EvaluatorHoldout: Processed 35595 (100.0%) in 35.37 sec. Users per second: 1006\n"
     ]
    },
    {
     "name": "stderr",
     "output_type": "stream",
     "text": [
      "[I 2024-12-16 19:29:15,097] Trial 249 finished with value: 0.01863608786680852 and parameters: {'similarity': 'cosine', 'topK': 26, 'shrink': 961, 'feature_weighting': 'BM25'}. Best is trial 192 with value: 0.01876248782043132.\n"
     ]
    },
    {
     "name": "stdout",
     "output_type": "stream",
     "text": [
      "Similarity column 38121 (100.0%), 659.74 column/sec. Elapsed time 57.78 sec\n",
      "EvaluatorHoldout: Processed 35595 (100.0%) in 36.11 sec. Users per second: 986\n"
     ]
    },
    {
     "name": "stderr",
     "output_type": "stream",
     "text": [
      "[I 2024-12-16 19:30:49,673] Trial 250 finished with value: 0.018436339596474494 and parameters: {'similarity': 'cosine', 'topK': 41, 'shrink': 968, 'feature_weighting': 'BM25'}. Best is trial 192 with value: 0.01876248782043132.\n"
     ]
    },
    {
     "name": "stdout",
     "output_type": "stream",
     "text": [
      "Similarity column 38121 (100.0%), 664.71 column/sec. Elapsed time 57.35 sec\n",
      "EvaluatorHoldout: Processed 35595 (100.0%) in 34.33 sec. Users per second: 1037\n"
     ]
    },
    {
     "name": "stderr",
     "output_type": "stream",
     "text": [
      "[I 2024-12-16 19:32:21,943] Trial 251 finished with value: 0.01857665603114407 and parameters: {'similarity': 'cosine', 'topK': 27, 'shrink': 987, 'feature_weighting': 'BM25'}. Best is trial 192 with value: 0.01876248782043132.\n"
     ]
    },
    {
     "name": "stdout",
     "output_type": "stream",
     "text": [
      "Similarity column 38121 (100.0%), 664.17 column/sec. Elapsed time 57.40 sec\n",
      "EvaluatorHoldout: Processed 35595 (100.0%) in 35.96 sec. Users per second: 990\n"
     ]
    },
    {
     "name": "stderr",
     "output_type": "stream",
     "text": [
      "[I 2024-12-16 19:33:55,936] Trial 252 finished with value: 0.01833619622873734 and parameters: {'similarity': 'cosine', 'topK': 47, 'shrink': 999, 'feature_weighting': 'BM25'}. Best is trial 192 with value: 0.01876248782043132.\n"
     ]
    },
    {
     "name": "stdout",
     "output_type": "stream",
     "text": [
      "Similarity column 38121 (100.0%), 660.74 column/sec. Elapsed time 57.69 sec\n",
      "EvaluatorHoldout: Processed 35595 (100.0%) in 34.55 sec. Users per second: 1030\n"
     ]
    },
    {
     "name": "stderr",
     "output_type": "stream",
     "text": [
      "[I 2024-12-16 19:35:28,803] Trial 253 finished with value: 0.017910767519069355 and parameters: {'similarity': 'asymmetric', 'topK': 24, 'shrink': 934, 'feature_weighting': 'BM25', 'asymmetric_alpha': 1.6576247346421695}. Best is trial 192 with value: 0.01876248782043132.\n"
     ]
    },
    {
     "name": "stdout",
     "output_type": "stream",
     "text": [
      "Similarity column 38121 (100.0%), 917.57 column/sec. Elapsed time 41.55 sec\n",
      "EvaluatorHoldout: Processed 35595 (100.0%) in 25.61 sec. Users per second: 1390\n"
     ]
    },
    {
     "name": "stderr",
     "output_type": "stream",
     "text": [
      "[I 2024-12-16 19:36:36,517] Trial 254 finished with value: 0.00028209999175022335 and parameters: {'similarity': 'cosine', 'topK': 0, 'shrink': 971, 'feature_weighting': 'BM25'}. Best is trial 192 with value: 0.01876248782043132.\n"
     ]
    },
    {
     "name": "stdout",
     "output_type": "stream",
     "text": [
      "Similarity column 38121 (100.0%), 662.38 column/sec. Elapsed time 57.55 sec\n",
      "EvaluatorHoldout: Processed 35595 (100.0%) in 34.86 sec. Users per second: 1021\n"
     ]
    },
    {
     "name": "stderr",
     "output_type": "stream",
     "text": [
      "[I 2024-12-16 19:38:09,519] Trial 255 finished with value: 0.018373106174623333 and parameters: {'similarity': 'cosine', 'topK': 35, 'shrink': 912, 'feature_weighting': 'BM25'}. Best is trial 192 with value: 0.01876248782043132.\n"
     ]
    },
    {
     "name": "stdout",
     "output_type": "stream",
     "text": [
      "Similarity column 38121 (100.0%), 663.02 column/sec. Elapsed time 57.50 sec\n",
      "EvaluatorHoldout: Processed 35595 (100.0%) in 34.12 sec. Users per second: 1043\n"
     ]
    },
    {
     "name": "stderr",
     "output_type": "stream",
     "text": [
      "[I 2024-12-16 19:39:41,810] Trial 256 finished with value: 0.018678044669195155 and parameters: {'similarity': 'cosine', 'topK': 23, 'shrink': 955, 'feature_weighting': 'BM25'}. Best is trial 192 with value: 0.01876248782043132.\n"
     ]
    },
    {
     "name": "stdout",
     "output_type": "stream",
     "text": [
      "Similarity column 38121 (100.0%), 655.72 column/sec. Elapsed time 58.14 sec\n",
      "EvaluatorHoldout: Processed 35595 (100.0%) in 37.26 sec. Users per second: 955\n"
     ]
    },
    {
     "name": "stderr",
     "output_type": "stream",
     "text": [
      "[I 2024-12-16 19:41:17,938] Trial 257 finished with value: 0.01834788527013566 and parameters: {'similarity': 'cosine', 'topK': 55, 'shrink': 952, 'feature_weighting': 'BM25'}. Best is trial 192 with value: 0.01876248782043132.\n"
     ]
    },
    {
     "name": "stdout",
     "output_type": "stream",
     "text": [
      "Similarity column 38121 (100.0%), 661.04 column/sec. Elapsed time 57.67 sec\n",
      "EvaluatorHoldout: Processed 35595 (100.0%) in 33.63 sec. Users per second: 1059\n"
     ]
    },
    {
     "name": "stderr",
     "output_type": "stream",
     "text": [
      "[I 2024-12-16 19:42:50,210] Trial 258 finished with value: 0.012928123265038945 and parameters: {'similarity': 'jaccard', 'topK': 19, 'shrink': 932, 'feature_weighting': 'BM25'}. Best is trial 192 with value: 0.01876248782043132.\n"
     ]
    },
    {
     "name": "stdout",
     "output_type": "stream",
     "text": [
      "Similarity column 38121 (100.0%), 655.44 column/sec. Elapsed time 58.16 sec\n",
      "EvaluatorHoldout: Processed 35595 (100.0%) in 35.05 sec. Users per second: 1015\n"
     ]
    },
    {
     "name": "stderr",
     "output_type": "stream",
     "text": [
      "[I 2024-12-16 19:44:24,040] Trial 259 finished with value: 0.01840174293250579 and parameters: {'similarity': 'cosine', 'topK': 34, 'shrink': 962, 'feature_weighting': 'BM25'}. Best is trial 192 with value: 0.01876248782043132.\n"
     ]
    },
    {
     "name": "stdout",
     "output_type": "stream",
     "text": [
      "Similarity column 38121 (100.0%), 929.30 column/sec. Elapsed time 41.02 sec\n",
      "EvaluatorHoldout: Processed 35595 (100.0%) in 25.61 sec. Users per second: 1390\n"
     ]
    },
    {
     "name": "stderr",
     "output_type": "stream",
     "text": [
      "[I 2024-12-16 19:45:31,227] Trial 260 finished with value: 0.00028209999175022335 and parameters: {'similarity': 'cosine', 'topK': 0, 'shrink': 945, 'feature_weighting': 'BM25'}. Best is trial 192 with value: 0.01876248782043132.\n"
     ]
    },
    {
     "name": "stdout",
     "output_type": "stream",
     "text": [
      "Similarity column 38121 (100.0%), 662.19 column/sec. Elapsed time 57.57 sec\n",
      "EvaluatorHoldout: Processed 35595 (100.0%) in 33.56 sec. Users per second: 1061\n"
     ]
    },
    {
     "name": "stderr",
     "output_type": "stream",
     "text": [
      "[I 2024-12-16 19:47:02,949] Trial 261 finished with value: 0.018660103635029898 and parameters: {'similarity': 'cosine', 'topK': 20, 'shrink': 903, 'feature_weighting': 'BM25'}. Best is trial 192 with value: 0.01876248782043132.\n"
     ]
    },
    {
     "name": "stdout",
     "output_type": "stream",
     "text": [
      "Similarity column 38121 (100.0%), 659.92 column/sec. Elapsed time 57.77 sec\n",
      "EvaluatorHoldout: Processed 35595 (100.0%) in 35.50 sec. Users per second: 1003\n"
     ]
    },
    {
     "name": "stderr",
     "output_type": "stream",
     "text": [
      "[I 2024-12-16 19:48:36,838] Trial 262 finished with value: 0.01837766250387413 and parameters: {'similarity': 'cosine', 'topK': 47, 'shrink': 922, 'feature_weighting': 'BM25'}. Best is trial 192 with value: 0.01876248782043132.\n"
     ]
    },
    {
     "name": "stdout",
     "output_type": "stream",
     "text": [
      "Similarity column 38121 (100.0%), 669.00 column/sec. Elapsed time 56.98 sec\n",
      "EvaluatorHoldout: Processed 35595 (100.0%) in 33.37 sec. Users per second: 1067\n"
     ]
    },
    {
     "name": "stderr",
     "output_type": "stream",
     "text": [
      "[I 2024-12-16 19:50:08,125] Trial 263 finished with value: 0.012913523390346326 and parameters: {'similarity': 'dice', 'topK': 22, 'shrink': 896, 'feature_weighting': 'BM25'}. Best is trial 192 with value: 0.01876248782043132.\n"
     ]
    },
    {
     "name": "stdout",
     "output_type": "stream",
     "text": [
      "Similarity column 38121 (100.0%), 659.89 column/sec. Elapsed time 57.77 sec\n",
      "EvaluatorHoldout: Processed 35595 (100.0%) in 34.38 sec. Users per second: 1035\n"
     ]
    },
    {
     "name": "stderr",
     "output_type": "stream",
     "text": [
      "[I 2024-12-16 19:51:40,753] Trial 264 finished with value: 0.011995219588983082 and parameters: {'similarity': 'cosine', 'topK': 37, 'shrink': 916, 'feature_weighting': 'none'}. Best is trial 192 with value: 0.01876248782043132.\n"
     ]
    },
    {
     "name": "stdout",
     "output_type": "stream",
     "text": [
      "Similarity column 38121 (100.0%), 665.96 column/sec. Elapsed time 57.24 sec\n",
      "EvaluatorHoldout: Processed 35595 (100.0%) in 36.34 sec. Users per second: 980\n"
     ]
    },
    {
     "name": "stderr",
     "output_type": "stream",
     "text": [
      "[I 2024-12-16 19:53:15,030] Trial 265 finished with value: 0.018299161421369642 and parameters: {'similarity': 'cosine', 'topK': 63, 'shrink': 1000, 'feature_weighting': 'BM25'}. Best is trial 192 with value: 0.01876248782043132.\n"
     ]
    },
    {
     "name": "stdout",
     "output_type": "stream",
     "text": [
      "Similarity column 38121 (100.0%), 663.36 column/sec. Elapsed time 57.47 sec\n",
      "EvaluatorHoldout: Processed 35595 (100.0%) in 34.06 sec. Users per second: 1045\n"
     ]
    },
    {
     "name": "stderr",
     "output_type": "stream",
     "text": [
      "[I 2024-12-16 19:54:47,168] Trial 266 finished with value: 0.018641849332325558 and parameters: {'similarity': 'cosine', 'topK': 20, 'shrink': 896, 'feature_weighting': 'BM25'}. Best is trial 192 with value: 0.01876248782043132.\n"
     ]
    },
    {
     "name": "stdout",
     "output_type": "stream",
     "text": [
      "Similarity column 38121 (100.0%), 656.97 column/sec. Elapsed time 58.03 sec\n",
      "EvaluatorHoldout: Processed 35595 (100.0%) in 35.20 sec. Users per second: 1011\n"
     ]
    },
    {
     "name": "stderr",
     "output_type": "stream",
     "text": [
      "[I 2024-12-16 19:56:21,017] Trial 267 finished with value: 0.01860468631897204 and parameters: {'similarity': 'cosine', 'topK': 12, 'shrink': 900, 'feature_weighting': 'BM25'}. Best is trial 192 with value: 0.01876248782043132.\n"
     ]
    },
    {
     "name": "stdout",
     "output_type": "stream",
     "text": [
      "Similarity column 38121 (100.0%), 657.22 column/sec. Elapsed time 58.00 sec\n",
      "EvaluatorHoldout: Processed 35595 (100.0%) in 33.86 sec. Users per second: 1051\n"
     ]
    },
    {
     "name": "stderr",
     "output_type": "stream",
     "text": [
      "[I 2024-12-16 19:57:53,523] Trial 268 finished with value: 0.018609613888164254 and parameters: {'similarity': 'cosine', 'topK': 14, 'shrink': 888, 'feature_weighting': 'BM25'}. Best is trial 192 with value: 0.01876248782043132.\n"
     ]
    },
    {
     "name": "stdout",
     "output_type": "stream",
     "text": [
      "Similarity column 38121 (100.0%), 645.79 column/sec. Elapsed time 59.03 sec\n",
      "EvaluatorHoldout: Processed 35595 (100.0%) in 35.37 sec. Users per second: 1006\n"
     ]
    },
    {
     "name": "stderr",
     "output_type": "stream",
     "text": [
      "[I 2024-12-16 19:59:28,928] Trial 269 finished with value: 0.012405008283221865 and parameters: {'similarity': 'tversky', 'topK': 50, 'shrink': 937, 'feature_weighting': 'BM25', 'tversky_alpha': 1.425753187880734, 'tversky_beta': 1.4791727398250085}. Best is trial 192 with value: 0.01876248782043132.\n"
     ]
    },
    {
     "name": "stdout",
     "output_type": "stream",
     "text": [
      "Similarity column 38121 (100.0%), 666.66 column/sec. Elapsed time 57.18 sec\n",
      "EvaluatorHoldout: Processed 35595 (100.0%) in 34.36 sec. Users per second: 1036\n"
     ]
    },
    {
     "name": "stderr",
     "output_type": "stream",
     "text": [
      "[I 2024-12-16 20:01:01,066] Trial 270 finished with value: 0.018502380171996718 and parameters: {'similarity': 'cosine', 'topK': 27, 'shrink': 911, 'feature_weighting': 'BM25'}. Best is trial 192 with value: 0.01876248782043132.\n"
     ]
    },
    {
     "name": "stdout",
     "output_type": "stream",
     "text": [
      "Similarity column 38121 (100.0%), 917.70 column/sec. Elapsed time 41.54 sec\n",
      "EvaluatorHoldout: Processed 35595 (100.0%) in 25.24 sec. Users per second: 1410\n"
     ]
    },
    {
     "name": "stderr",
     "output_type": "stream",
     "text": [
      "[I 2024-12-16 20:02:08,447] Trial 271 finished with value: 0.00028209999175022335 and parameters: {'similarity': 'cosine', 'topK': 0, 'shrink': 947, 'feature_weighting': 'BM25'}. Best is trial 192 with value: 0.01876248782043132.\n"
     ]
    },
    {
     "name": "stdout",
     "output_type": "stream",
     "text": [
      "Similarity column 38121 (100.0%), 657.69 column/sec. Elapsed time 57.96 sec\n",
      "EvaluatorHoldout: Processed 35595 (100.0%) in 35.14 sec. Users per second: 1013\n"
     ]
    },
    {
     "name": "stderr",
     "output_type": "stream",
     "text": [
      "[I 2024-12-16 20:03:42,209] Trial 272 finished with value: 0.01843972869383748 and parameters: {'similarity': 'cosine', 'topK': 37, 'shrink': 970, 'feature_weighting': 'BM25'}. Best is trial 192 with value: 0.01876248782043132.\n"
     ]
    },
    {
     "name": "stdout",
     "output_type": "stream",
     "text": [
      "Similarity column 38121 (100.0%), 640.86 column/sec. Elapsed time 59.48 sec\n",
      "EvaluatorHoldout: Processed 35595 (100.0%) in 53.66 sec. Users per second: 663\n"
     ]
    },
    {
     "name": "stderr",
     "output_type": "stream",
     "text": [
      "[I 2024-12-16 20:05:37,028] Trial 273 finished with value: 0.016503457102277366 and parameters: {'similarity': 'cosine', 'topK': 581, 'shrink': 1000, 'feature_weighting': 'BM25'}. Best is trial 192 with value: 0.01876248782043132.\n"
     ]
    },
    {
     "name": "stdout",
     "output_type": "stream",
     "text": [
      "Similarity column 38121 (100.0%), 659.15 column/sec. Elapsed time 57.83 sec\n",
      "EvaluatorHoldout: Processed 35595 (100.0%) in 33.58 sec. Users per second: 1060\n"
     ]
    },
    {
     "name": "stderr",
     "output_type": "stream",
     "text": [
      "[I 2024-12-16 20:07:09,004] Trial 274 finished with value: 0.01853790549323633 and parameters: {'similarity': 'cosine', 'topK': 16, 'shrink': 933, 'feature_weighting': 'BM25'}. Best is trial 192 with value: 0.01876248782043132.\n"
     ]
    },
    {
     "name": "stdout",
     "output_type": "stream",
     "text": [
      "Similarity column 38121 (100.0%), 660.60 column/sec. Elapsed time 57.71 sec\n",
      "EvaluatorHoldout: Processed 35595 (100.0%) in 34.18 sec. Users per second: 1041\n"
     ]
    },
    {
     "name": "stderr",
     "output_type": "stream",
     "text": [
      "[I 2024-12-16 20:08:41,524] Trial 275 finished with value: 0.01862913352820647 and parameters: {'similarity': 'cosine', 'topK': 21, 'shrink': 968, 'feature_weighting': 'BM25'}. Best is trial 192 with value: 0.01876248782043132.\n"
     ]
    },
    {
     "name": "stdout",
     "output_type": "stream",
     "text": [
      "Similarity column 38121 (100.0%), 172.15 column/sec. Elapsed time 3.69 min\n",
      "EvaluatorHoldout: Processed 35595 (100.0%) in 37.80 sec. Users per second: 942\n"
     ]
    },
    {
     "name": "stderr",
     "output_type": "stream",
     "text": [
      "[I 2024-12-16 20:13:01,331] Trial 276 finished with value: 0.01288747527854181 and parameters: {'similarity': 'euclidean', 'topK': 62, 'shrink': 905, 'feature_weighting': 'BM25', 'normalize_avg_row': True, 'similarity_from_distance_mode': 'exp', 'normalize': True}. Best is trial 192 with value: 0.01876248782043132.\n"
     ]
    },
    {
     "name": "stdout",
     "output_type": "stream",
     "text": [
      "Similarity column 38121 (100.0%), 665.37 column/sec. Elapsed time 57.29 sec\n",
      "EvaluatorHoldout: Processed 35595 (100.0%) in 35.44 sec. Users per second: 1004\n"
     ]
    },
    {
     "name": "stderr",
     "output_type": "stream",
     "text": [
      "[I 2024-12-16 20:14:34,677] Trial 277 finished with value: 0.01843768520190774 and parameters: {'similarity': 'cosine', 'topK': 41, 'shrink': 982, 'feature_weighting': 'BM25'}. Best is trial 192 with value: 0.01876248782043132.\n"
     ]
    },
    {
     "name": "stdout",
     "output_type": "stream",
     "text": [
      "Similarity column 38121 (100.0%), 663.20 column/sec. Elapsed time 57.48 sec\n",
      "EvaluatorHoldout: Processed 35595 (100.0%) in 32.76 sec. Users per second: 1087\n"
     ]
    },
    {
     "name": "stderr",
     "output_type": "stream",
     "text": [
      "[I 2024-12-16 20:16:05,467] Trial 278 finished with value: 0.018659479327620944 and parameters: {'similarity': 'cosine', 'topK': 12, 'shrink': 952, 'feature_weighting': 'BM25'}. Best is trial 192 with value: 0.01876248782043132.\n"
     ]
    },
    {
     "name": "stdout",
     "output_type": "stream",
     "text": [
      "Similarity column 38121 (100.0%), 665.19 column/sec. Elapsed time 57.31 sec\n",
      "EvaluatorHoldout: Processed 35595 (100.0%) in 34.45 sec. Users per second: 1033\n"
     ]
    },
    {
     "name": "stderr",
     "output_type": "stream",
     "text": [
      "[I 2024-12-16 20:17:37,811] Trial 279 finished with value: 0.018524378089485604 and parameters: {'similarity': 'cosine', 'topK': 29, 'shrink': 924, 'feature_weighting': 'BM25'}. Best is trial 192 with value: 0.01876248782043132.\n"
     ]
    },
    {
     "name": "stdout",
     "output_type": "stream",
     "text": [
      "Similarity column 38121 (100.0%), 919.24 column/sec. Elapsed time 41.47 sec\n",
      "EvaluatorHoldout: Processed 35595 (100.0%) in 25.37 sec. Users per second: 1403\n"
     ]
    },
    {
     "name": "stderr",
     "output_type": "stream",
     "text": [
      "[I 2024-12-16 20:18:45,246] Trial 280 finished with value: 0.00028209999175022335 and parameters: {'similarity': 'cosine', 'topK': 0, 'shrink': 949, 'feature_weighting': 'BM25'}. Best is trial 192 with value: 0.01876248782043132.\n"
     ]
    },
    {
     "name": "stdout",
     "output_type": "stream",
     "text": [
      "Similarity column 38121 (100.0%), 667.93 column/sec. Elapsed time 57.07 sec\n",
      "EvaluatorHoldout: Processed 35595 (100.0%) in 32.93 sec. Users per second: 1081\n"
     ]
    },
    {
     "name": "stderr",
     "output_type": "stream",
     "text": [
      "[I 2024-12-16 20:20:15,875] Trial 281 finished with value: 0.018299047708234477 and parameters: {'similarity': 'asymmetric', 'topK': 12, 'shrink': 951, 'feature_weighting': 'BM25', 'asymmetric_alpha': 1.3865695604945303}. Best is trial 192 with value: 0.01876248782043132.\n"
     ]
    },
    {
     "name": "stdout",
     "output_type": "stream",
     "text": [
      "Similarity column 38121 (100.0%), 651.24 column/sec. Elapsed time 58.54 sec\n",
      "EvaluatorHoldout: Processed 35595 (100.0%) in 55.74 sec. Users per second: 639\n"
     ]
    },
    {
     "name": "stderr",
     "output_type": "stream",
     "text": [
      "[I 2024-12-16 20:22:11,877] Trial 282 finished with value: 0.016303280735434383 and parameters: {'similarity': 'cosine', 'topK': 687, 'shrink': 865, 'feature_weighting': 'BM25'}. Best is trial 192 with value: 0.01876248782043132.\n"
     ]
    },
    {
     "name": "stdout",
     "output_type": "stream",
     "text": [
      "Similarity column 38121 (100.0%), 666.36 column/sec. Elapsed time 57.21 sec\n",
      "EvaluatorHoldout: Processed 35595 (100.0%) in 35.86 sec. Users per second: 993\n"
     ]
    },
    {
     "name": "stderr",
     "output_type": "stream",
     "text": [
      "[I 2024-12-16 20:23:45,602] Trial 283 finished with value: 0.018370174159470443 and parameters: {'similarity': 'cosine', 'topK': 44, 'shrink': 930, 'feature_weighting': 'BM25'}. Best is trial 192 with value: 0.01876248782043132.\n"
     ]
    },
    {
     "name": "stdout",
     "output_type": "stream",
     "text": [
      "Similarity column 38121 (100.0%), 663.95 column/sec. Elapsed time 57.42 sec\n",
      "EvaluatorHoldout: Processed 35595 (100.0%) in 34.83 sec. Users per second: 1022\n"
     ]
    },
    {
     "name": "stderr",
     "output_type": "stream",
     "text": [
      "[I 2024-12-16 20:25:18,473] Trial 284 finished with value: 0.01852814957513652 and parameters: {'similarity': 'cosine', 'topK': 27, 'shrink': 901, 'feature_weighting': 'BM25'}. Best is trial 192 with value: 0.01876248782043132.\n"
     ]
    },
    {
     "name": "stdout",
     "output_type": "stream",
     "text": [
      "Similarity column 38121 (100.0%), 923.48 column/sec. Elapsed time 41.28 sec\n",
      "EvaluatorHoldout: Processed 35595 (100.0%) in 25.17 sec. Users per second: 1414\n"
     ]
    },
    {
     "name": "stderr",
     "output_type": "stream",
     "text": [
      "[I 2024-12-16 20:26:25,508] Trial 285 finished with value: 0.00028209999175022335 and parameters: {'similarity': 'cosine', 'topK': 0, 'shrink': 962, 'feature_weighting': 'BM25'}. Best is trial 192 with value: 0.01876248782043132.\n"
     ]
    },
    {
     "name": "stdout",
     "output_type": "stream",
     "text": [
      "Similarity column 38121 (100.0%), 667.49 column/sec. Elapsed time 57.11 sec\n",
      "EvaluatorHoldout: Processed 35595 (100.0%) in 33.75 sec. Users per second: 1055\n"
     ]
    },
    {
     "name": "stderr",
     "output_type": "stream",
     "text": [
      "[I 2024-12-16 20:27:56,947] Trial 286 finished with value: 0.01863089496696751 and parameters: {'similarity': 'cosine', 'topK': 21, 'shrink': 979, 'feature_weighting': 'BM25'}. Best is trial 192 with value: 0.01876248782043132.\n"
     ]
    },
    {
     "name": "stdout",
     "output_type": "stream",
     "text": [
      "Similarity column 38121 (100.0%), 667.08 column/sec. Elapsed time 57.15 sec\n",
      "EvaluatorHoldout: Processed 35595 (100.0%) in 35.65 sec. Users per second: 998\n"
     ]
    },
    {
     "name": "stderr",
     "output_type": "stream",
     "text": [
      "[I 2024-12-16 20:29:30,340] Trial 287 finished with value: 0.018353497347808383 and parameters: {'similarity': 'cosine', 'topK': 50, 'shrink': 945, 'feature_weighting': 'BM25'}. Best is trial 192 with value: 0.01876248782043132.\n"
     ]
    },
    {
     "name": "stdout",
     "output_type": "stream",
     "text": [
      "Similarity column 38121 (100.0%), 658.43 column/sec. Elapsed time 57.90 sec\n",
      "EvaluatorHoldout: Processed 35595 (100.0%) in 34.16 sec. Users per second: 1042\n"
     ]
    },
    {
     "name": "stderr",
     "output_type": "stream",
     "text": [
      "[I 2024-12-16 20:31:02,848] Trial 288 finished with value: 0.01212024718114088 and parameters: {'similarity': 'cosine', 'topK': 32, 'shrink': 967, 'feature_weighting': 'none'}. Best is trial 192 with value: 0.01876248782043132.\n"
     ]
    },
    {
     "name": "stdout",
     "output_type": "stream",
     "text": [
      "Similarity column 38121 (100.0%), 666.04 column/sec. Elapsed time 57.23 sec\n",
      "EvaluatorHoldout: Processed 35595 (100.0%) in 32.74 sec. Users per second: 1087\n"
     ]
    },
    {
     "name": "stderr",
     "output_type": "stream",
     "text": [
      "[I 2024-12-16 20:32:33,715] Trial 289 finished with value: 0.013091024020227937 and parameters: {'similarity': 'jaccard', 'topK': 13, 'shrink': 919, 'feature_weighting': 'BM25'}. Best is trial 192 with value: 0.01876248782043132.\n"
     ]
    },
    {
     "name": "stdout",
     "output_type": "stream",
     "text": [
      "Similarity column 38121 (100.0%), 666.36 column/sec. Elapsed time 57.21 sec\n",
      "EvaluatorHoldout: Processed 35595 (100.0%) in 36.50 sec. Users per second: 975\n"
     ]
    },
    {
     "name": "stderr",
     "output_type": "stream",
     "text": [
      "[I 2024-12-16 20:34:08,046] Trial 290 finished with value: 0.018318473702165276 and parameters: {'similarity': 'cosine', 'topK': 66, 'shrink': 984, 'feature_weighting': 'BM25'}. Best is trial 192 with value: 0.01876248782043132.\n"
     ]
    },
    {
     "name": "stdout",
     "output_type": "stream",
     "text": [
      "Similarity column 38121 (100.0%), 653.15 column/sec. Elapsed time 58.36 sec\n",
      "EvaluatorHoldout: Processed 35595 (100.0%) in 51.39 sec. Users per second: 693\n"
     ]
    },
    {
     "name": "stderr",
     "output_type": "stream",
     "text": [
      "[I 2024-12-16 20:35:59,473] Trial 291 finished with value: 0.009645277448901746 and parameters: {'similarity': 'dice', 'topK': 546, 'shrink': 885, 'feature_weighting': 'BM25'}. Best is trial 192 with value: 0.01876248782043132.\n"
     ]
    },
    {
     "name": "stdout",
     "output_type": "stream",
     "text": [
      "Similarity column 38121 (100.0%), 661.32 column/sec. Elapsed time 57.64 sec\n",
      "EvaluatorHoldout: Processed 35595 (100.0%) in 33.27 sec. Users per second: 1070\n"
     ]
    },
    {
     "name": "stderr",
     "output_type": "stream",
     "text": [
      "[I 2024-12-16 20:37:30,955] Trial 292 finished with value: 0.018220631353164183 and parameters: {'similarity': 'cosine', 'topK': 16, 'shrink': 428, 'feature_weighting': 'BM25'}. Best is trial 192 with value: 0.01876248782043132.\n"
     ]
    },
    {
     "name": "stdout",
     "output_type": "stream",
     "text": [
      "Similarity column 38121 (100.0%), 662.61 column/sec. Elapsed time 57.53 sec\n",
      "EvaluatorHoldout: Processed 35595 (100.0%) in 35.06 sec. Users per second: 1015\n"
     ]
    },
    {
     "name": "stderr",
     "output_type": "stream",
     "text": [
      "[I 2024-12-16 20:39:04,161] Trial 293 finished with value: 0.016555250090859314 and parameters: {'similarity': 'cosine', 'topK': 38, 'shrink': 151, 'feature_weighting': 'BM25'}. Best is trial 192 with value: 0.01876248782043132.\n"
     ]
    },
    {
     "name": "stdout",
     "output_type": "stream",
     "text": [
      "Similarity column 38121 (100.0%), 664.89 column/sec. Elapsed time 57.33 sec\n",
      "EvaluatorHoldout: Processed 35595 (100.0%) in 33.07 sec. Users per second: 1076\n"
     ]
    },
    {
     "name": "stderr",
     "output_type": "stream",
     "text": [
      "[I 2024-12-16 20:40:35,143] Trial 294 finished with value: 0.018585362889829832 and parameters: {'similarity': 'cosine', 'topK': 12, 'shrink': 941, 'feature_weighting': 'BM25'}. Best is trial 192 with value: 0.01876248782043132.\n"
     ]
    },
    {
     "name": "stdout",
     "output_type": "stream",
     "text": [
      "Similarity column 38121 (100.0%), 663.51 column/sec. Elapsed time 57.45 sec\n",
      "EvaluatorHoldout: Processed 35595 (100.0%) in 34.57 sec. Users per second: 1030\n"
     ]
    },
    {
     "name": "stderr",
     "output_type": "stream",
     "text": [
      "[I 2024-12-16 20:42:07,759] Trial 295 finished with value: 0.018510835078049633 and parameters: {'similarity': 'cosine', 'topK': 28, 'shrink': 963, 'feature_weighting': 'BM25'}. Best is trial 192 with value: 0.01876248782043132.\n"
     ]
    },
    {
     "name": "stdout",
     "output_type": "stream",
     "text": [
      "Similarity column 38121 (100.0%), 658.24 column/sec. Elapsed time 57.91 sec\n",
      "EvaluatorHoldout: Processed 35595 (100.0%) in 35.98 sec. Users per second: 989\n"
     ]
    },
    {
     "name": "stderr",
     "output_type": "stream",
     "text": [
      "[I 2024-12-16 20:43:42,303] Trial 296 finished with value: 0.01834998115929437 and parameters: {'similarity': 'cosine', 'topK': 53, 'shrink': 983, 'feature_weighting': 'BM25'}. Best is trial 192 with value: 0.01876248782043132.\n"
     ]
    },
    {
     "name": "stdout",
     "output_type": "stream",
     "text": [
      "Similarity column 38121 (100.0%), 904.37 column/sec. Elapsed time 42.15 sec\n",
      "EvaluatorHoldout: Processed 35595 (100.0%) in 25.19 sec. Users per second: 1413\n"
     ]
    },
    {
     "name": "stderr",
     "output_type": "stream",
     "text": [
      "[I 2024-12-16 20:44:50,640] Trial 297 finished with value: 0.00028209999175022335 and parameters: {'similarity': 'tversky', 'topK': 0, 'shrink': 931, 'feature_weighting': 'BM25', 'tversky_alpha': 0.4419299903517424, 'tversky_beta': 1.4738590030710323}. Best is trial 192 with value: 0.01876248782043132.\n"
     ]
    },
    {
     "name": "stdout",
     "output_type": "stream",
     "text": [
      "Similarity column 38121 (100.0%), 665.30 column/sec. Elapsed time 57.30 sec\n",
      "EvaluatorHoldout: Processed 35595 (100.0%) in 35.24 sec. Users per second: 1010\n"
     ]
    },
    {
     "name": "stderr",
     "output_type": "stream",
     "text": [
      "[I 2024-12-16 20:46:23,768] Trial 298 finished with value: 0.018085600349612298 and parameters: {'similarity': 'cosine', 'topK': 24, 'shrink': 359, 'feature_weighting': 'BM25'}. Best is trial 192 with value: 0.01876248782043132.\n"
     ]
    },
    {
     "name": "stdout",
     "output_type": "stream",
     "text": [
      "Similarity column 38121 (100.0%), 662.10 column/sec. Elapsed time 57.58 sec\n",
      "EvaluatorHoldout: Processed 35595 (100.0%) in 34.90 sec. Users per second: 1020\n"
     ]
    },
    {
     "name": "stderr",
     "output_type": "stream",
     "text": [
      "[I 2024-12-16 20:47:56,861] Trial 299 finished with value: 0.018408603624996404 and parameters: {'similarity': 'cosine', 'topK': 38, 'shrink': 959, 'feature_weighting': 'BM25'}. Best is trial 192 with value: 0.01876248782043132.\n"
     ]
    }
   ],
   "source": [
    "if config['tune_parameters']:\n",
    "    \n",
    "    optuna_study = optuna.create_study(direction='maximize', study_name=f'hyperparameters_tuning_{config[\"model\"]}_{config[\"metric\"]}',\n",
    "                                storage=f'sqlite:///{config[\"database_path\"]}', load_if_exists=True)\n",
    "\n",
    "    optuna_study.optimize(objective_function_ItemKNNCBF, n_trials=300)"
   ]
  },
  {
   "cell_type": "markdown",
   "id": "588d7b77",
   "metadata": {
    "papermill": {
     "duration": 0.06317,
     "end_time": "2024-12-16T20:47:57.016331",
     "exception": false,
     "start_time": "2024-12-16T20:47:56.953161",
     "status": "completed"
    },
    "tags": []
   },
   "source": [
    "## Some optuna visualizations on recommender parameters"
   ]
  },
  {
   "cell_type": "code",
   "execution_count": 14,
   "id": "69cf451c",
   "metadata": {
    "execution": {
     "iopub.execute_input": "2024-12-16T20:47:57.149099Z",
     "iopub.status.busy": "2024-12-16T20:47:57.148521Z",
     "iopub.status.idle": "2024-12-16T20:48:00.435754Z",
     "shell.execute_reply": "2024-12-16T20:48:00.434491Z"
    },
    "papermill": {
     "duration": 3.353536,
     "end_time": "2024-12-16T20:48:00.438267",
     "exception": false,
     "start_time": "2024-12-16T20:47:57.084731",
     "status": "completed"
    },
    "tags": []
   },
   "outputs": [
    {
     "data": {
      "text/html": [
       "        <script type=\"text/javascript\">\n",
       "        window.PlotlyConfig = {MathJaxConfig: 'local'};\n",
       "        if (window.MathJax && window.MathJax.Hub && window.MathJax.Hub.Config) {window.MathJax.Hub.Config({SVG: {font: \"STIX-Web\"}});}\n",
       "        if (typeof require !== 'undefined') {\n",
       "        require.undef(\"plotly\");\n",
       "        requirejs.config({\n",
       "            paths: {\n",
       "                'plotly': ['https://cdn.plot.ly/plotly-2.32.0.min']\n",
       "            }\n",
       "        });\n",
       "        require(['plotly'], function(Plotly) {\n",
       "            window._Plotly = Plotly;\n",
       "        });\n",
       "        }\n",
       "        </script>\n",
       "        "
      ]
     },
     "metadata": {},
     "output_type": "display_data"
    },
    {
     "data": {
      "text/html": [
       "<div>                            <div id=\"4bac4ca3-0235-4ce7-81dc-34f051c7b44d\" class=\"plotly-graph-div\" style=\"height:525px; width:3000px;\"></div>            <script type=\"text/javascript\">                require([\"plotly\"], function(Plotly) {                    window.PLOTLYENV=window.PLOTLYENV || {};                                    if (document.getElementById(\"4bac4ca3-0235-4ce7-81dc-34f051c7b44d\")) {                    Plotly.newPlot(                        \"4bac4ca3-0235-4ce7-81dc-34f051c7b44d\",                        [{\"marker\":{\"color\":[3,10,11,12,13,14,15,19,20,21,22,23,24,25,30,31,32,33,34,42,166,207,253,281],\"colorbar\":{\"title\":{\"text\":\"Trial\"},\"x\":1.0,\"xpad\":40},\"colorscale\":[[0.0,\"rgb(247,251,255)\"],[0.125,\"rgb(222,235,247)\"],[0.25,\"rgb(198,219,239)\"],[0.375,\"rgb(158,202,225)\"],[0.5,\"rgb(107,174,214)\"],[0.625,\"rgb(66,146,198)\"],[0.75,\"rgb(33,113,181)\"],[0.875,\"rgb(8,81,156)\"],[1.0,\"rgb(8,48,107)\"]],\"line\":{\"color\":\"Grey\",\"width\":0.5},\"showscale\":true},\"mode\":\"markers\",\"name\":\"Feasible Trial\",\"showlegend\":false,\"x\":[0.7384351483028357,0.7054957801537116,0.6910169471785554,0.6595757110365282,0.12674712007225453,1.9716093481093797,1.1322737914916248,0.34072417040104763,1.2301825909966877,0.7097128870346371,0.5832427279726891,0.47842885785634887,0.39675612136393024,0.285384401899856,0.00007251188265844366,0.40444993179488176,0.3729299753876488,0.3593201324728328,0.9197960418417395,0.1713747336077018,1.522678467276071,1.959194486693359,1.6576247346421695,1.3865695604945303],\"y\":[0.016861733746268263,0.017454529238768716,0.017524767166781596,0.0182912750809927,0.017222222222222347,0.01170083411929207,0.015051444045334034,0.01734744936978407,0.006340968835911959,0.017428027389258048,0.01795399857747102,0.01826575428598194,0.018280307337618727,0.017638104602706497,0.014764806676522217,0.01834489416874586,0.01831893189921009,0.01839072725124141,0.016074999386841163,0.01770920541274532,0.01822639393351579,0.01787389770723117,0.017910767519069355,0.018299047708234477],\"type\":\"scatter\",\"xaxis\":\"x\",\"yaxis\":\"y\"},{\"marker\":{\"color\":[0,1,2,3,4,5,6,7,8,9,10,11,12,13,14,15,16,17,18,19,20,21,22,23,24,25,26,27,28,29,30,31,32,33,34,35,36,37,38,39,40,41,42,43,44,45,46,47,48,49,50,51,52,53,54,55,56,57,58,59,60,61,62,63,64,65,66,67,68,69,70,71,72,73,74,75,76,77,78,79,80,81,82,83,84,85,86,87,88,89,90,91,92,93,94,95,96,97,98,99,100,101,102,103,104,105,106,107,108,109,110,111,112,113,114,115,116,117,118,119,120,121,122,123,124,125,126,127,128,129,130,131,132,133,134,135,136,137,138,139,140,141,142,143,144,145,146,147,148,149,150,151,152,153,154,155,156,157,158,159,160,161,162,163,164,165,166,167,168,169,170,171,172,173,174,175,176,177,178,179,180,181,182,183,184,185,186,187,188,189,190,191,192,193,194,195,196,197,198,199,200,201,202,203,204,205,206,207,208,209,210,211,212,213,214,215,216,217,218,219,220,221,222,223,224,225,226,227,228,229,230,231,232,233,234,235,236,237,238,239,240,241,242,243,244,245,246,247,248,249,250,251,252,253,254,255,256,257,258,259,260,261,262,263,264,265,266,267,268,269,270,271,272,273,274,275,276,277,278,279,280,281,282,283,284,285,286,287,288,289,290,291,292,293,294,295,296,297,298,299],\"colorbar\":{\"title\":{\"text\":\"Trial\"},\"x\":1.0,\"xpad\":40},\"colorscale\":[[0.0,\"rgb(247,251,255)\"],[0.125,\"rgb(222,235,247)\"],[0.25,\"rgb(198,219,239)\"],[0.375,\"rgb(158,202,225)\"],[0.5,\"rgb(107,174,214)\"],[0.625,\"rgb(66,146,198)\"],[0.75,\"rgb(33,113,181)\"],[0.875,\"rgb(8,81,156)\"],[1.0,\"rgb(8,48,107)\"]],\"line\":{\"color\":\"Grey\",\"width\":0.5},\"showscale\":false},\"mode\":\"markers\",\"name\":\"Feasible Trial\",\"showlegend\":false,\"x\":[\"BM25\",\"none\",\"TF-IDF\",\"TF-IDF\",\"none\",\"none\",\"none\",\"BM25\",\"none\",\"none\",\"TF-IDF\",\"TF-IDF\",\"TF-IDF\",\"TF-IDF\",\"TF-IDF\",\"TF-IDF\",\"TF-IDF\",\"BM25\",\"TF-IDF\",\"TF-IDF\",\"TF-IDF\",\"TF-IDF\",\"TF-IDF\",\"TF-IDF\",\"TF-IDF\",\"BM25\",\"TF-IDF\",\"TF-IDF\",\"TF-IDF\",\"BM25\",\"TF-IDF\",\"TF-IDF\",\"TF-IDF\",\"TF-IDF\",\"TF-IDF\",\"TF-IDF\",\"BM25\",\"TF-IDF\",\"none\",\"TF-IDF\",\"none\",\"TF-IDF\",\"TF-IDF\",\"TF-IDF\",\"TF-IDF\",\"TF-IDF\",\"TF-IDF\",\"none\",\"TF-IDF\",\"BM25\",\"BM25\",\"BM25\",\"BM25\",\"BM25\",\"BM25\",\"BM25\",\"BM25\",\"BM25\",\"BM25\",\"BM25\",\"BM25\",\"BM25\",\"BM25\",\"BM25\",\"BM25\",\"BM25\",\"BM25\",\"BM25\",\"BM25\",\"BM25\",\"BM25\",\"BM25\",\"BM25\",\"BM25\",\"BM25\",\"BM25\",\"BM25\",\"BM25\",\"BM25\",\"BM25\",\"BM25\",\"BM25\",\"BM25\",\"BM25\",\"none\",\"BM25\",\"BM25\",\"BM25\",\"BM25\",\"BM25\",\"none\",\"BM25\",\"BM25\",\"BM25\",\"BM25\",\"BM25\",\"BM25\",\"BM25\",\"BM25\",\"BM25\",\"BM25\",\"BM25\",\"BM25\",\"BM25\",\"BM25\",\"BM25\",\"BM25\",\"none\",\"BM25\",\"BM25\",\"BM25\",\"BM25\",\"BM25\",\"BM25\",\"BM25\",\"BM25\",\"BM25\",\"BM25\",\"BM25\",\"BM25\",\"BM25\",\"BM25\",\"BM25\",\"BM25\",\"BM25\",\"BM25\",\"BM25\",\"none\",\"BM25\",\"BM25\",\"BM25\",\"BM25\",\"BM25\",\"BM25\",\"BM25\",\"BM25\",\"BM25\",\"BM25\",\"TF-IDF\",\"BM25\",\"BM25\",\"BM25\",\"BM25\",\"BM25\",\"BM25\",\"BM25\",\"BM25\",\"BM25\",\"BM25\",\"TF-IDF\",\"BM25\",\"BM25\",\"BM25\",\"BM25\",\"BM25\",\"BM25\",\"none\",\"BM25\",\"BM25\",\"BM25\",\"BM25\",\"BM25\",\"BM25\",\"BM25\",\"BM25\",\"BM25\",\"BM25\",\"TF-IDF\",\"BM25\",\"BM25\",\"BM25\",\"BM25\",\"BM25\",\"BM25\",\"BM25\",\"BM25\",\"BM25\",\"BM25\",\"BM25\",\"BM25\",\"BM25\",\"BM25\",\"BM25\",\"BM25\",\"BM25\",\"BM25\",\"TF-IDF\",\"BM25\",\"BM25\",\"none\",\"BM25\",\"BM25\",\"BM25\",\"BM25\",\"BM25\",\"BM25\",\"BM25\",\"BM25\",\"BM25\",\"BM25\",\"BM25\",\"BM25\",\"BM25\",\"BM25\",\"BM25\",\"BM25\",\"BM25\",\"BM25\",\"BM25\",\"BM25\",\"BM25\",\"BM25\",\"BM25\",\"BM25\",\"BM25\",\"BM25\",\"BM25\",\"BM25\",\"BM25\",\"BM25\",\"BM25\",\"BM25\",\"BM25\",\"BM25\",\"BM25\",\"BM25\",\"BM25\",\"BM25\",\"BM25\",\"BM25\",\"BM25\",\"BM25\",\"BM25\",\"BM25\",\"BM25\",\"BM25\",\"BM25\",\"BM25\",\"none\",\"BM25\",\"BM25\",\"BM25\",\"BM25\",\"BM25\",\"BM25\",\"BM25\",\"BM25\",\"BM25\",\"BM25\",\"BM25\",\"BM25\",\"BM25\",\"BM25\",\"BM25\",\"BM25\",\"BM25\",\"BM25\",\"BM25\",\"BM25\",\"BM25\",\"BM25\",\"BM25\",\"BM25\",\"BM25\",\"none\",\"BM25\",\"BM25\",\"BM25\",\"BM25\",\"BM25\",\"BM25\",\"BM25\",\"BM25\",\"BM25\",\"BM25\",\"BM25\",\"BM25\",\"BM25\",\"BM25\",\"BM25\",\"BM25\",\"BM25\",\"BM25\",\"BM25\",\"BM25\",\"BM25\",\"BM25\",\"BM25\",\"none\",\"BM25\",\"BM25\",\"BM25\",\"BM25\",\"BM25\",\"BM25\",\"BM25\",\"BM25\",\"BM25\",\"BM25\",\"BM25\"],\"y\":[0.0038837963241671373,0.013134751180052855,0.016654051197667115,0.016861733746268263,0.009323988789222838,0.011212778457827238,0.005327726829833852,0.007688475062263625,0.004351864115033083,0.011182364653498549,0.017454529238768716,0.017524767166781596,0.0182912750809927,0.017222222222222347,0.01170083411929207,0.015051444045334034,0.013016715830875563,0.011175644430174853,0.012658296488048205,0.01734744936978407,0.006340968835911959,0.017428027389258048,0.01795399857747102,0.01826575428598194,0.018280307337618727,0.017638104602706497,0.011135151405695348,0.015294961839209979,0.012946704214298317,0.017061810892826722,0.014764806676522217,0.01834489416874586,0.01831893189921009,0.01839072725124141,0.016074999386841163,0.018365154059001534,0.016893070633694524,0.017678815019944498,0.009467206023674827,0.017612841334501854,0.010871702597787993,0.014114670778177288,0.01770920541274532,0.012321277511332634,0.01837229791949558,0.01861113006330036,0.018405992682225293,0.01130873004724699,0.017575405186656935,0.018385642490362297,0.017686404814302083,0.018350187403706218,0.01790225018227555,0.01843146665418055,0.018492231832097,0.018043722700486386,0.018491471514859657,0.015735290314093812,0.01819645504875179,0.017838222998147208,0.011756919221310622,0.01864415481040011,0.01608367057081781,0.01822740954789002,0.018599975027703705,0.018544316907359477,0.017913999424745294,0.01808255239165488,0.018556368270021866,0.012790848099318767,0.012000451508037179,0.018643353244280396,0.018572353884195387,0.00028209999175022335,0.016786845842893215,0.011863480692178886,0.018597801100118855,0.018561817581834436,0.013111353030232475,0.017962660842770404,0.01762487597464428,0.018568856647870582,0.01851598895867753,0.017091348437113456,0.011694945562623921,0.01779364633431222,0.012935868021414117,0.016479278568195758,0.009249853399242567,0.0164699117273919,0.011801514837334768,0.018497799316383404,0.018526941094366287,0.01818947729862189,0.018388248973794773,0.012200294539317171,0.016114792295154848,0.0180755947085488,0.008737703931130087,0.01831197310126939,0.018392340416992833,0.01866762765414265,0.018537161898518877,0.01858631161412454,0.018066302561667167,0.018411592496716908,0.01741427032956759,0.012528450580494732,0.011985917408589506,0.018295874888795288,0.017848641128034436,0.01855318764674016,0.018490441407634856,0.01848841017888642,0.012184654523887927,0.00028209999175022335,0.018466016495093707,0.01783525976762393,0.012214620164683748,0.01841975643092376,0.009224207742749827,0.018616154623107846,0.018411534525314653,0.01863493512777115,0.01855774397599095,0.016178671206273566,0.01831127855927696,0.01215747262523529,0.018659579662740237,0.018265978367748365,0.018623644082346208,0.01865487060114115,0.018365479590722003,0.018649567332668874,0.00028209999175022335,0.01835436357433832,0.010327221809733644,0.01837783864775018,0.013281635105697858,0.018480289723231177,0.018080449813488254,0.01856244969308607,0.016159471523778453,0.018414283707583384,0.018543164168322183,0.016742795381017205,0.01832266548048263,0.018226100732000563,0.011808745654932213,0.018561599074241295,0.018498519499573034,0.00028209999175022335,0.018670744731848876,0.01835389868828561,0.018532432769895944,0.015098720838712732,0.011624840299935437,0.01865678811675443,0.00028209999175022335,0.01638094457710995,0.018377990265263804,0.018553757327250824,0.01852010269856885,0.018317256302717827,0.01856750323859471,0.018411952588311725,0.01822639393351579,0.018153838264247057,0.01219404366138496,0.01862699861983472,0.018548359297832592,0.018750962659727904,0.016167093648341173,0.018640911756377387,0.018377471867147388,0.01849996209562164,0.01323840850663476,0.01836032905459797,0.0186188346856278,0.015396474223908198,0.00028209999175022335,0.017284805695467476,0.018611973993137125,0.018603579288155807,0.01851475818121422,0.018391288013074797,0.01856378415017273,0.01837763017366901,0.013374905517763077,0.012187768257090108,0.01831874795149135,0.018639060016009023,0.01876248782043132,0.018648477024372518,0.016176510656704675,0.018624428925946013,0.0186478761284914,0.01850662211787359,0.016176697948927364,0.016942010760384284,0.018636171479407916,0.018658140411195612,0.018356889789675312,0.00028209999175022335,0.018550078372876557,0.018376784014163,0.018626162493840578,0.01787389770723117,0.018641027699181963,0.018402174373518685,0.018528654595237,0.016175827263058787,0.01864184041364829,0.018569428558050657,0.00028209999175022335,0.018446079906889064,0.018542597832315485,0.012584413050700818,0.018473646423498982,0.018584989420219102,0.00028209999175022335,0.018595293836971078,0.018579072992684506,0.018598002885192113,0.018432104339605456,0.017542481889511047,0.016660149343251062,0.0127996296519267,0.00028209999175022335,0.01838026564280258,0.01856644414566882,0.018486798127969696,0.018588942623919462,0.018649694423820043,0.0186478761284914,0.018625731052827547,0.00028209999175022335,0.018411410778667467,0.012581624849218945,0.01835861555372735,0.008426679554155402,0.018606010742546787,0.01861883245595846,0.00028209999175022335,0.01862011005647757,0.01865373792912776,0.017212466304122594,0.0183746390722793,0.018712538768375316,0.01863608786680852,0.018436339596474494,0.01857665603114407,0.01833619622873734,0.017910767519069355,0.00028209999175022335,0.018373106174623333,0.018678044669195155,0.01834788527013566,0.012928123265038945,0.01840174293250579,0.00028209999175022335,0.018660103635029898,0.01837766250387413,0.012913523390346326,0.011995219588983082,0.018299161421369642,0.018641849332325558,0.01860468631897204,0.018609613888164254,0.012405008283221865,0.018502380171996718,0.00028209999175022335,0.01843972869383748,0.016503457102277366,0.01853790549323633,0.01862913352820647,0.01288747527854181,0.01843768520190774,0.018659479327620944,0.018524378089485604,0.00028209999175022335,0.018299047708234477,0.016303280735434383,0.018370174159470443,0.01852814957513652,0.00028209999175022335,0.01863089496696751,0.018353497347808383,0.01212024718114088,0.013091024020227937,0.018318473702165276,0.009645277448901746,0.018220631353164183,0.016555250090859314,0.018585362889829832,0.018510835078049633,0.01834998115929437,0.00028209999175022335,0.018085600349612298,0.018408603624996404],\"type\":\"scatter\",\"xaxis\":\"x2\",\"yaxis\":\"y2\"},{\"marker\":{\"color\":[0,6,7,8,41,57,78,98,120,155,197,240,276],\"colorbar\":{\"title\":{\"text\":\"Trial\"},\"x\":1.0,\"xpad\":40},\"colorscale\":[[0.0,\"rgb(247,251,255)\"],[0.125,\"rgb(222,235,247)\"],[0.25,\"rgb(198,219,239)\"],[0.375,\"rgb(158,202,225)\"],[0.5,\"rgb(107,174,214)\"],[0.625,\"rgb(66,146,198)\"],[0.75,\"rgb(33,113,181)\"],[0.875,\"rgb(8,81,156)\"],[1.0,\"rgb(8,48,107)\"]],\"line\":{\"color\":\"Grey\",\"width\":0.5},\"showscale\":false},\"mode\":\"markers\",\"name\":\"Feasible Trial\",\"showlegend\":false,\"x\":[false,false,true,false,true,true,true,false,false,true,true,false,true],\"y\":[0.0038837963241671373,0.005327726829833852,0.007688475062263625,0.004351864115033083,0.014114670778177288,0.015735290314093812,0.013111353030232475,0.008737703931130087,0.009224207742749827,0.015098720838712732,0.01850662211787359,0.008426679554155402,0.01288747527854181],\"type\":\"scatter\",\"xaxis\":\"x3\",\"yaxis\":\"y3\"},{\"marker\":{\"color\":[0,6,7,8,41,57,78,98,120,155,197,240,276],\"colorbar\":{\"title\":{\"text\":\"Trial\"},\"x\":1.0,\"xpad\":40},\"colorscale\":[[0.0,\"rgb(247,251,255)\"],[0.125,\"rgb(222,235,247)\"],[0.25,\"rgb(198,219,239)\"],[0.375,\"rgb(158,202,225)\"],[0.5,\"rgb(107,174,214)\"],[0.625,\"rgb(66,146,198)\"],[0.75,\"rgb(33,113,181)\"],[0.875,\"rgb(8,81,156)\"],[1.0,\"rgb(8,48,107)\"]],\"line\":{\"color\":\"Grey\",\"width\":0.5},\"showscale\":false},\"mode\":\"markers\",\"name\":\"Feasible Trial\",\"showlegend\":false,\"x\":[false,false,false,true,true,true,true,false,true,false,true,false,true],\"y\":[0.0038837963241671373,0.005327726829833852,0.007688475062263625,0.004351864115033083,0.014114670778177288,0.015735290314093812,0.013111353030232475,0.008737703931130087,0.009224207742749827,0.015098720838712732,0.01850662211787359,0.008426679554155402,0.01288747527854181],\"type\":\"scatter\",\"xaxis\":\"x4\",\"yaxis\":\"y4\"},{\"marker\":{\"color\":[0,1,2,3,4,5,6,7,8,9,10,11,12,13,14,15,16,17,18,19,20,21,22,23,24,25,26,27,28,29,30,31,32,33,34,35,36,37,38,39,40,41,42,43,44,45,46,47,48,49,50,51,52,53,54,55,56,57,58,59,60,61,62,63,64,65,66,67,68,69,70,71,72,73,74,75,76,77,78,79,80,81,82,83,84,85,86,87,88,89,90,91,92,93,94,95,96,97,98,99,100,101,102,103,104,105,106,107,108,109,110,111,112,113,114,115,116,117,118,119,120,121,122,123,124,125,126,127,128,129,130,131,132,133,134,135,136,137,138,139,140,141,142,143,144,145,146,147,148,149,150,151,152,153,154,155,156,157,158,159,160,161,162,163,164,165,166,167,168,169,170,171,172,173,174,175,176,177,178,179,180,181,182,183,184,185,186,187,188,189,190,191,192,193,194,195,196,197,198,199,200,201,202,203,204,205,206,207,208,209,210,211,212,213,214,215,216,217,218,219,220,221,222,223,224,225,226,227,228,229,230,231,232,233,234,235,236,237,238,239,240,241,242,243,244,245,246,247,248,249,250,251,252,253,254,255,256,257,258,259,260,261,262,263,264,265,266,267,268,269,270,271,272,273,274,275,276,277,278,279,280,281,282,283,284,285,286,287,288,289,290,291,292,293,294,295,296,297,298,299],\"colorbar\":{\"title\":{\"text\":\"Trial\"},\"x\":1.0,\"xpad\":40},\"colorscale\":[[0.0,\"rgb(247,251,255)\"],[0.125,\"rgb(222,235,247)\"],[0.25,\"rgb(198,219,239)\"],[0.375,\"rgb(158,202,225)\"],[0.5,\"rgb(107,174,214)\"],[0.625,\"rgb(66,146,198)\"],[0.75,\"rgb(33,113,181)\"],[0.875,\"rgb(8,81,156)\"],[1.0,\"rgb(8,48,107)\"]],\"line\":{\"color\":\"Grey\",\"width\":0.5},\"showscale\":false},\"mode\":\"markers\",\"name\":\"Feasible Trial\",\"showlegend\":false,\"x\":[694,858,592,721,809,157,823,885,91,620,409,375,334,341,264,472,239,360,504,978,48,437,321,257,237,211,127,179,29,531,292,310,261,301,420,592,671,565,731,647,119,316,473,197,587,592,735,746,601,808,853,796,694,919,915,776,938,952,890,935,899,993,844,997,928,931,929,960,908,872,996,911,836,836,890,984,964,965,971,769,870,959,954,906,971,872,957,830,904,992,857,929,941,964,919,804,884,981,945,998,915,951,972,890,850,817,382,896,868,783,514,938,937,955,917,878,636,699,897,975,948,921,915,980,998,986,969,558,997,953,971,975,972,996,920,987,999,933,1000,945,889,974,954,959,933,906,976,474,1000,857,927,973,978,948,980,955,886,926,904,927,938,965,986,913,957,836,1000,940,875,978,977,954,974,920,924,952,1000,909,939,75,979,938,958,961,960,983,943,923,962,1000,943,965,979,978,979,977,981,984,985,970,999,985,999,981,964,999,948,982,962,958,944,978,970,1000,960,982,947,1000,970,931,956,978,966,983,951,968,931,986,999,942,968,945,919,969,981,983,999,956,980,962,984,981,1000,968,948,968,928,955,981,961,968,987,999,934,971,912,955,952,932,962,945,903,922,896,916,1000,896,900,888,937,911,947,970,1000,933,968,905,982,952,924,949,951,865,930,901,962,979,945,967,919,984,885,428,151,941,963,983,931,359,959],\"y\":[0.0038837963241671373,0.013134751180052855,0.016654051197667115,0.016861733746268263,0.009323988789222838,0.011212778457827238,0.005327726829833852,0.007688475062263625,0.004351864115033083,0.011182364653498549,0.017454529238768716,0.017524767166781596,0.0182912750809927,0.017222222222222347,0.01170083411929207,0.015051444045334034,0.013016715830875563,0.011175644430174853,0.012658296488048205,0.01734744936978407,0.006340968835911959,0.017428027389258048,0.01795399857747102,0.01826575428598194,0.018280307337618727,0.017638104602706497,0.011135151405695348,0.015294961839209979,0.012946704214298317,0.017061810892826722,0.014764806676522217,0.01834489416874586,0.01831893189921009,0.01839072725124141,0.016074999386841163,0.018365154059001534,0.016893070633694524,0.017678815019944498,0.009467206023674827,0.017612841334501854,0.010871702597787993,0.014114670778177288,0.01770920541274532,0.012321277511332634,0.01837229791949558,0.01861113006330036,0.018405992682225293,0.01130873004724699,0.017575405186656935,0.018385642490362297,0.017686404814302083,0.018350187403706218,0.01790225018227555,0.01843146665418055,0.018492231832097,0.018043722700486386,0.018491471514859657,0.015735290314093812,0.01819645504875179,0.017838222998147208,0.011756919221310622,0.01864415481040011,0.01608367057081781,0.01822740954789002,0.018599975027703705,0.018544316907359477,0.017913999424745294,0.01808255239165488,0.018556368270021866,0.012790848099318767,0.012000451508037179,0.018643353244280396,0.018572353884195387,0.00028209999175022335,0.016786845842893215,0.011863480692178886,0.018597801100118855,0.018561817581834436,0.013111353030232475,0.017962660842770404,0.01762487597464428,0.018568856647870582,0.01851598895867753,0.017091348437113456,0.011694945562623921,0.01779364633431222,0.012935868021414117,0.016479278568195758,0.009249853399242567,0.0164699117273919,0.011801514837334768,0.018497799316383404,0.018526941094366287,0.01818947729862189,0.018388248973794773,0.012200294539317171,0.016114792295154848,0.0180755947085488,0.008737703931130087,0.01831197310126939,0.018392340416992833,0.01866762765414265,0.018537161898518877,0.01858631161412454,0.018066302561667167,0.018411592496716908,0.01741427032956759,0.012528450580494732,0.011985917408589506,0.018295874888795288,0.017848641128034436,0.01855318764674016,0.018490441407634856,0.01848841017888642,0.012184654523887927,0.00028209999175022335,0.018466016495093707,0.01783525976762393,0.012214620164683748,0.01841975643092376,0.009224207742749827,0.018616154623107846,0.018411534525314653,0.01863493512777115,0.01855774397599095,0.016178671206273566,0.01831127855927696,0.01215747262523529,0.018659579662740237,0.018265978367748365,0.018623644082346208,0.01865487060114115,0.018365479590722003,0.018649567332668874,0.00028209999175022335,0.01835436357433832,0.010327221809733644,0.01837783864775018,0.013281635105697858,0.018480289723231177,0.018080449813488254,0.01856244969308607,0.016159471523778453,0.018414283707583384,0.018543164168322183,0.016742795381017205,0.01832266548048263,0.018226100732000563,0.011808745654932213,0.018561599074241295,0.018498519499573034,0.00028209999175022335,0.018670744731848876,0.01835389868828561,0.018532432769895944,0.015098720838712732,0.011624840299935437,0.01865678811675443,0.00028209999175022335,0.01638094457710995,0.018377990265263804,0.018553757327250824,0.01852010269856885,0.018317256302717827,0.01856750323859471,0.018411952588311725,0.01822639393351579,0.018153838264247057,0.01219404366138496,0.01862699861983472,0.018548359297832592,0.018750962659727904,0.016167093648341173,0.018640911756377387,0.018377471867147388,0.01849996209562164,0.01323840850663476,0.01836032905459797,0.0186188346856278,0.015396474223908198,0.00028209999175022335,0.017284805695467476,0.018611973993137125,0.018603579288155807,0.01851475818121422,0.018391288013074797,0.01856378415017273,0.01837763017366901,0.013374905517763077,0.012187768257090108,0.01831874795149135,0.018639060016009023,0.01876248782043132,0.018648477024372518,0.016176510656704675,0.018624428925946013,0.0186478761284914,0.01850662211787359,0.016176697948927364,0.016942010760384284,0.018636171479407916,0.018658140411195612,0.018356889789675312,0.00028209999175022335,0.018550078372876557,0.018376784014163,0.018626162493840578,0.01787389770723117,0.018641027699181963,0.018402174373518685,0.018528654595237,0.016175827263058787,0.01864184041364829,0.018569428558050657,0.00028209999175022335,0.018446079906889064,0.018542597832315485,0.012584413050700818,0.018473646423498982,0.018584989420219102,0.00028209999175022335,0.018595293836971078,0.018579072992684506,0.018598002885192113,0.018432104339605456,0.017542481889511047,0.016660149343251062,0.0127996296519267,0.00028209999175022335,0.01838026564280258,0.01856644414566882,0.018486798127969696,0.018588942623919462,0.018649694423820043,0.0186478761284914,0.018625731052827547,0.00028209999175022335,0.018411410778667467,0.012581624849218945,0.01835861555372735,0.008426679554155402,0.018606010742546787,0.01861883245595846,0.00028209999175022335,0.01862011005647757,0.01865373792912776,0.017212466304122594,0.0183746390722793,0.018712538768375316,0.01863608786680852,0.018436339596474494,0.01857665603114407,0.01833619622873734,0.017910767519069355,0.00028209999175022335,0.018373106174623333,0.018678044669195155,0.01834788527013566,0.012928123265038945,0.01840174293250579,0.00028209999175022335,0.018660103635029898,0.01837766250387413,0.012913523390346326,0.011995219588983082,0.018299161421369642,0.018641849332325558,0.01860468631897204,0.018609613888164254,0.012405008283221865,0.018502380171996718,0.00028209999175022335,0.01843972869383748,0.016503457102277366,0.01853790549323633,0.01862913352820647,0.01288747527854181,0.01843768520190774,0.018659479327620944,0.018524378089485604,0.00028209999175022335,0.018299047708234477,0.016303280735434383,0.018370174159470443,0.01852814957513652,0.00028209999175022335,0.01863089496696751,0.018353497347808383,0.01212024718114088,0.013091024020227937,0.018318473702165276,0.009645277448901746,0.018220631353164183,0.016555250090859314,0.018585362889829832,0.018510835078049633,0.01834998115929437,0.00028209999175022335,0.018085600349612298,0.018408603624996404],\"type\":\"scatter\",\"xaxis\":\"x5\",\"yaxis\":\"y5\"},{\"marker\":{\"color\":[0,1,2,3,4,5,6,7,8,9,10,11,12,13,14,15,16,17,18,19,20,21,22,23,24,25,26,27,28,29,30,31,32,33,34,35,36,37,38,39,40,41,42,43,44,45,46,47,48,49,50,51,52,53,54,55,56,57,58,59,60,61,62,63,64,65,66,67,68,69,70,71,72,73,74,75,76,77,78,79,80,81,82,83,84,85,86,87,88,89,90,91,92,93,94,95,96,97,98,99,100,101,102,103,104,105,106,107,108,109,110,111,112,113,114,115,116,117,118,119,120,121,122,123,124,125,126,127,128,129,130,131,132,133,134,135,136,137,138,139,140,141,142,143,144,145,146,147,148,149,150,151,152,153,154,155,156,157,158,159,160,161,162,163,164,165,166,167,168,169,170,171,172,173,174,175,176,177,178,179,180,181,182,183,184,185,186,187,188,189,190,191,192,193,194,195,196,197,198,199,200,201,202,203,204,205,206,207,208,209,210,211,212,213,214,215,216,217,218,219,220,221,222,223,224,225,226,227,228,229,230,231,232,233,234,235,236,237,238,239,240,241,242,243,244,245,246,247,248,249,250,251,252,253,254,255,256,257,258,259,260,261,262,263,264,265,266,267,268,269,270,271,272,273,274,275,276,277,278,279,280,281,282,283,284,285,286,287,288,289,290,291,292,293,294,295,296,297,298,299],\"colorbar\":{\"title\":{\"text\":\"Trial\"},\"x\":1.0,\"xpad\":40},\"colorscale\":[[0.0,\"rgb(247,251,255)\"],[0.125,\"rgb(222,235,247)\"],[0.25,\"rgb(198,219,239)\"],[0.375,\"rgb(158,202,225)\"],[0.5,\"rgb(107,174,214)\"],[0.625,\"rgb(66,146,198)\"],[0.75,\"rgb(33,113,181)\"],[0.875,\"rgb(8,81,156)\"],[1.0,\"rgb(8,48,107)\"]],\"line\":{\"color\":\"Grey\",\"width\":0.5},\"showscale\":false},\"mode\":\"markers\",\"name\":\"Feasible Trial\",\"showlegend\":false,\"x\":[\"euclidean\",\"jaccard\",\"cosine\",\"asymmetric\",\"cosine\",\"dice\",\"euclidean\",\"euclidean\",\"euclidean\",\"tversky\",\"asymmetric\",\"asymmetric\",\"asymmetric\",\"asymmetric\",\"asymmetric\",\"asymmetric\",\"tversky\",\"dice\",\"jaccard\",\"asymmetric\",\"asymmetric\",\"asymmetric\",\"asymmetric\",\"asymmetric\",\"asymmetric\",\"asymmetric\",\"tversky\",\"dice\",\"jaccard\",\"cosine\",\"asymmetric\",\"asymmetric\",\"asymmetric\",\"asymmetric\",\"asymmetric\",\"cosine\",\"cosine\",\"cosine\",\"cosine\",\"cosine\",\"jaccard\",\"euclidean\",\"asymmetric\",\"dice\",\"cosine\",\"cosine\",\"cosine\",\"cosine\",\"cosine\",\"cosine\",\"cosine\",\"cosine\",\"cosine\",\"cosine\",\"cosine\",\"cosine\",\"cosine\",\"euclidean\",\"cosine\",\"cosine\",\"tversky\",\"cosine\",\"cosine\",\"cosine\",\"cosine\",\"cosine\",\"cosine\",\"cosine\",\"cosine\",\"jaccard\",\"dice\",\"cosine\",\"cosine\",\"cosine\",\"cosine\",\"tversky\",\"cosine\",\"cosine\",\"euclidean\",\"cosine\",\"cosine\",\"cosine\",\"cosine\",\"cosine\",\"cosine\",\"cosine\",\"jaccard\",\"cosine\",\"dice\",\"cosine\",\"cosine\",\"cosine\",\"cosine\",\"cosine\",\"cosine\",\"tversky\",\"cosine\",\"cosine\",\"euclidean\",\"cosine\",\"cosine\",\"cosine\",\"cosine\",\"cosine\",\"cosine\",\"cosine\",\"cosine\",\"cosine\",\"jaccard\",\"cosine\",\"cosine\",\"cosine\",\"cosine\",\"cosine\",\"dice\",\"cosine\",\"cosine\",\"cosine\",\"tversky\",\"cosine\",\"euclidean\",\"cosine\",\"cosine\",\"cosine\",\"cosine\",\"cosine\",\"cosine\",\"cosine\",\"cosine\",\"cosine\",\"cosine\",\"cosine\",\"cosine\",\"cosine\",\"cosine\",\"cosine\",\"jaccard\",\"cosine\",\"dice\",\"cosine\",\"cosine\",\"cosine\",\"cosine\",\"cosine\",\"cosine\",\"cosine\",\"cosine\",\"cosine\",\"tversky\",\"cosine\",\"cosine\",\"cosine\",\"cosine\",\"cosine\",\"cosine\",\"euclidean\",\"cosine\",\"cosine\",\"cosine\",\"cosine\",\"cosine\",\"cosine\",\"cosine\",\"cosine\",\"cosine\",\"cosine\",\"asymmetric\",\"cosine\",\"jaccard\",\"cosine\",\"cosine\",\"cosine\",\"cosine\",\"cosine\",\"cosine\",\"cosine\",\"dice\",\"cosine\",\"cosine\",\"cosine\",\"cosine\",\"cosine\",\"cosine\",\"cosine\",\"cosine\",\"cosine\",\"cosine\",\"cosine\",\"tversky\",\"cosine\",\"cosine\",\"cosine\",\"cosine\",\"cosine\",\"cosine\",\"cosine\",\"cosine\",\"euclidean\",\"cosine\",\"cosine\",\"cosine\",\"cosine\",\"cosine\",\"cosine\",\"cosine\",\"cosine\",\"cosine\",\"asymmetric\",\"cosine\",\"cosine\",\"cosine\",\"cosine\",\"cosine\",\"cosine\",\"cosine\",\"cosine\",\"cosine\",\"jaccard\",\"cosine\",\"cosine\",\"cosine\",\"cosine\",\"cosine\",\"cosine\",\"cosine\",\"cosine\",\"cosine\",\"dice\",\"cosine\",\"cosine\",\"cosine\",\"cosine\",\"cosine\",\"cosine\",\"cosine\",\"cosine\",\"cosine\",\"cosine\",\"tversky\",\"cosine\",\"euclidean\",\"cosine\",\"cosine\",\"cosine\",\"cosine\",\"cosine\",\"cosine\",\"cosine\",\"cosine\",\"cosine\",\"cosine\",\"cosine\",\"cosine\",\"asymmetric\",\"cosine\",\"cosine\",\"cosine\",\"cosine\",\"jaccard\",\"cosine\",\"cosine\",\"cosine\",\"cosine\",\"dice\",\"cosine\",\"cosine\",\"cosine\",\"cosine\",\"cosine\",\"tversky\",\"cosine\",\"cosine\",\"cosine\",\"cosine\",\"cosine\",\"cosine\",\"euclidean\",\"cosine\",\"cosine\",\"cosine\",\"cosine\",\"asymmetric\",\"cosine\",\"cosine\",\"cosine\",\"cosine\",\"cosine\",\"cosine\",\"cosine\",\"jaccard\",\"cosine\",\"dice\",\"cosine\",\"cosine\",\"cosine\",\"cosine\",\"cosine\",\"tversky\",\"cosine\",\"cosine\"],\"y\":[0.0038837963241671373,0.013134751180052855,0.016654051197667115,0.016861733746268263,0.009323988789222838,0.011212778457827238,0.005327726829833852,0.007688475062263625,0.004351864115033083,0.011182364653498549,0.017454529238768716,0.017524767166781596,0.0182912750809927,0.017222222222222347,0.01170083411929207,0.015051444045334034,0.013016715830875563,0.011175644430174853,0.012658296488048205,0.01734744936978407,0.006340968835911959,0.017428027389258048,0.01795399857747102,0.01826575428598194,0.018280307337618727,0.017638104602706497,0.011135151405695348,0.015294961839209979,0.012946704214298317,0.017061810892826722,0.014764806676522217,0.01834489416874586,0.01831893189921009,0.01839072725124141,0.016074999386841163,0.018365154059001534,0.016893070633694524,0.017678815019944498,0.009467206023674827,0.017612841334501854,0.010871702597787993,0.014114670778177288,0.01770920541274532,0.012321277511332634,0.01837229791949558,0.01861113006330036,0.018405992682225293,0.01130873004724699,0.017575405186656935,0.018385642490362297,0.017686404814302083,0.018350187403706218,0.01790225018227555,0.01843146665418055,0.018492231832097,0.018043722700486386,0.018491471514859657,0.015735290314093812,0.01819645504875179,0.017838222998147208,0.011756919221310622,0.01864415481040011,0.01608367057081781,0.01822740954789002,0.018599975027703705,0.018544316907359477,0.017913999424745294,0.01808255239165488,0.018556368270021866,0.012790848099318767,0.012000451508037179,0.018643353244280396,0.018572353884195387,0.00028209999175022335,0.016786845842893215,0.011863480692178886,0.018597801100118855,0.018561817581834436,0.013111353030232475,0.017962660842770404,0.01762487597464428,0.018568856647870582,0.01851598895867753,0.017091348437113456,0.011694945562623921,0.01779364633431222,0.012935868021414117,0.016479278568195758,0.009249853399242567,0.0164699117273919,0.011801514837334768,0.018497799316383404,0.018526941094366287,0.01818947729862189,0.018388248973794773,0.012200294539317171,0.016114792295154848,0.0180755947085488,0.008737703931130087,0.01831197310126939,0.018392340416992833,0.01866762765414265,0.018537161898518877,0.01858631161412454,0.018066302561667167,0.018411592496716908,0.01741427032956759,0.012528450580494732,0.011985917408589506,0.018295874888795288,0.017848641128034436,0.01855318764674016,0.018490441407634856,0.01848841017888642,0.012184654523887927,0.00028209999175022335,0.018466016495093707,0.01783525976762393,0.012214620164683748,0.01841975643092376,0.009224207742749827,0.018616154623107846,0.018411534525314653,0.01863493512777115,0.01855774397599095,0.016178671206273566,0.01831127855927696,0.01215747262523529,0.018659579662740237,0.018265978367748365,0.018623644082346208,0.01865487060114115,0.018365479590722003,0.018649567332668874,0.00028209999175022335,0.01835436357433832,0.010327221809733644,0.01837783864775018,0.013281635105697858,0.018480289723231177,0.018080449813488254,0.01856244969308607,0.016159471523778453,0.018414283707583384,0.018543164168322183,0.016742795381017205,0.01832266548048263,0.018226100732000563,0.011808745654932213,0.018561599074241295,0.018498519499573034,0.00028209999175022335,0.018670744731848876,0.01835389868828561,0.018532432769895944,0.015098720838712732,0.011624840299935437,0.01865678811675443,0.00028209999175022335,0.01638094457710995,0.018377990265263804,0.018553757327250824,0.01852010269856885,0.018317256302717827,0.01856750323859471,0.018411952588311725,0.01822639393351579,0.018153838264247057,0.01219404366138496,0.01862699861983472,0.018548359297832592,0.018750962659727904,0.016167093648341173,0.018640911756377387,0.018377471867147388,0.01849996209562164,0.01323840850663476,0.01836032905459797,0.0186188346856278,0.015396474223908198,0.00028209999175022335,0.017284805695467476,0.018611973993137125,0.018603579288155807,0.01851475818121422,0.018391288013074797,0.01856378415017273,0.01837763017366901,0.013374905517763077,0.012187768257090108,0.01831874795149135,0.018639060016009023,0.01876248782043132,0.018648477024372518,0.016176510656704675,0.018624428925946013,0.0186478761284914,0.01850662211787359,0.016176697948927364,0.016942010760384284,0.018636171479407916,0.018658140411195612,0.018356889789675312,0.00028209999175022335,0.018550078372876557,0.018376784014163,0.018626162493840578,0.01787389770723117,0.018641027699181963,0.018402174373518685,0.018528654595237,0.016175827263058787,0.01864184041364829,0.018569428558050657,0.00028209999175022335,0.018446079906889064,0.018542597832315485,0.012584413050700818,0.018473646423498982,0.018584989420219102,0.00028209999175022335,0.018595293836971078,0.018579072992684506,0.018598002885192113,0.018432104339605456,0.017542481889511047,0.016660149343251062,0.0127996296519267,0.00028209999175022335,0.01838026564280258,0.01856644414566882,0.018486798127969696,0.018588942623919462,0.018649694423820043,0.0186478761284914,0.018625731052827547,0.00028209999175022335,0.018411410778667467,0.012581624849218945,0.01835861555372735,0.008426679554155402,0.018606010742546787,0.01861883245595846,0.00028209999175022335,0.01862011005647757,0.01865373792912776,0.017212466304122594,0.0183746390722793,0.018712538768375316,0.01863608786680852,0.018436339596474494,0.01857665603114407,0.01833619622873734,0.017910767519069355,0.00028209999175022335,0.018373106174623333,0.018678044669195155,0.01834788527013566,0.012928123265038945,0.01840174293250579,0.00028209999175022335,0.018660103635029898,0.01837766250387413,0.012913523390346326,0.011995219588983082,0.018299161421369642,0.018641849332325558,0.01860468631897204,0.018609613888164254,0.012405008283221865,0.018502380171996718,0.00028209999175022335,0.01843972869383748,0.016503457102277366,0.01853790549323633,0.01862913352820647,0.01288747527854181,0.01843768520190774,0.018659479327620944,0.018524378089485604,0.00028209999175022335,0.018299047708234477,0.016303280735434383,0.018370174159470443,0.01852814957513652,0.00028209999175022335,0.01863089496696751,0.018353497347808383,0.01212024718114088,0.013091024020227937,0.018318473702165276,0.009645277448901746,0.018220631353164183,0.016555250090859314,0.018585362889829832,0.018510835078049633,0.01834998115929437,0.00028209999175022335,0.018085600349612298,0.018408603624996404],\"type\":\"scatter\",\"xaxis\":\"x6\",\"yaxis\":\"y6\"},{\"marker\":{\"color\":[0,6,7,8,41,57,78,98,120,155,197,240,276],\"colorbar\":{\"title\":{\"text\":\"Trial\"},\"x\":1.0,\"xpad\":40},\"colorscale\":[[0.0,\"rgb(247,251,255)\"],[0.125,\"rgb(222,235,247)\"],[0.25,\"rgb(198,219,239)\"],[0.375,\"rgb(158,202,225)\"],[0.5,\"rgb(107,174,214)\"],[0.625,\"rgb(66,146,198)\"],[0.75,\"rgb(33,113,181)\"],[0.875,\"rgb(8,81,156)\"],[1.0,\"rgb(8,48,107)\"]],\"line\":{\"color\":\"Grey\",\"width\":0.5},\"showscale\":false},\"mode\":\"markers\",\"name\":\"Feasible Trial\",\"showlegend\":false,\"x\":[\"exp\",\"log\",\"exp\",\"log\",\"lin\",\"lin\",\"exp\",\"log\",\"lin\",\"log\",\"exp\",\"lin\",\"exp\"],\"y\":[0.0038837963241671373,0.005327726829833852,0.007688475062263625,0.004351864115033083,0.014114670778177288,0.015735290314093812,0.013111353030232475,0.008737703931130087,0.009224207742749827,0.015098720838712732,0.01850662211787359,0.008426679554155402,0.01288747527854181],\"type\":\"scatter\",\"xaxis\":\"x7\",\"yaxis\":\"y7\"},{\"marker\":{\"color\":[0,1,2,3,4,5,6,7,8,9,10,11,12,13,14,15,16,17,18,19,20,21,22,23,24,25,26,27,28,29,30,31,32,33,34,35,36,37,38,39,40,41,42,43,44,45,46,47,48,49,50,51,52,53,54,55,56,57,58,59,60,61,62,63,64,65,66,67,68,69,70,71,72,73,74,75,76,77,78,79,80,81,82,83,84,85,86,87,88,89,90,91,92,93,94,95,96,97,98,99,100,101,102,103,104,105,106,107,108,109,110,111,112,113,114,115,116,117,118,119,120,121,122,123,124,125,126,127,128,129,130,131,132,133,134,135,136,137,138,139,140,141,142,143,144,145,146,147,148,149,150,151,152,153,154,155,156,157,158,159,160,161,162,163,164,165,166,167,168,169,170,171,172,173,174,175,176,177,178,179,180,181,182,183,184,185,186,187,188,189,190,191,192,193,194,195,196,197,198,199,200,201,202,203,204,205,206,207,208,209,210,211,212,213,214,215,216,217,218,219,220,221,222,223,224,225,226,227,228,229,230,231,232,233,234,235,236,237,238,239,240,241,242,243,244,245,246,247,248,249,250,251,252,253,254,255,256,257,258,259,260,261,262,263,264,265,266,267,268,269,270,271,272,273,274,275,276,277,278,279,280,281,282,283,284,285,286,287,288,289,290,291,292,293,294,295,296,297,298,299],\"colorbar\":{\"title\":{\"text\":\"Trial\"},\"x\":1.0,\"xpad\":40},\"colorscale\":[[0.0,\"rgb(247,251,255)\"],[0.125,\"rgb(222,235,247)\"],[0.25,\"rgb(198,219,239)\"],[0.375,\"rgb(158,202,225)\"],[0.5,\"rgb(107,174,214)\"],[0.625,\"rgb(66,146,198)\"],[0.75,\"rgb(33,113,181)\"],[0.875,\"rgb(8,81,156)\"],[1.0,\"rgb(8,48,107)\"]],\"line\":{\"color\":\"Grey\",\"width\":0.5},\"showscale\":false},\"mode\":\"markers\",\"name\":\"Feasible Trial\",\"showlegend\":false,\"x\":[423,13,573,269,553,355,258,455,703,192,78,67,6,131,7,115,169,269,58,208,354,83,63,54,4,10,143,4,122,199,456,56,43,44,105,45,299,172,526,222,655,36,93,158,47,31,39,107,234,34,137,33,84,39,30,85,28,26,73,123,165,22,1,73,21,18,2,101,18,23,64,20,18,0,399,69,19,15,59,91,146,18,17,305,56,117,18,500,737,647,50,17,17,78,51,16,1,104,34,62,47,20,27,14,88,38,76,13,1,44,64,26,28,31,52,0,15,96,69,43,22,13,34,10,16,1,55,42,13,72,12,11,33,10,0,57,330,45,9,30,86,18,1,39,17,435,62,27,46,14,28,0,21,49,15,33,65,24,0,596,38,18,28,54,15,36,12,73,51,24,29,9,1,24,43,28,11,41,25,61,0,241,24,27,29,41,23,50,12,25,58,13,9,10,1,12,11,10,1,372,12,11,39,0,16,33,12,12,12,41,16,1,13,26,0,36,15,25,43,12,0,14,27,14,38,186,478,23,0,50,15,28,25,12,11,12,0,38,14,33,50,13,13,0,26,22,286,34,23,26,41,27,47,24,0,35,23,55,19,34,0,20,47,22,37,63,20,12,14,50,27,0,37,581,16,21,62,41,12,29,0,12,687,44,27,0,21,50,32,13,66,546,16,38,12,28,53,0,24,38],\"y\":[0.0038837963241671373,0.013134751180052855,0.016654051197667115,0.016861733746268263,0.009323988789222838,0.011212778457827238,0.005327726829833852,0.007688475062263625,0.004351864115033083,0.011182364653498549,0.017454529238768716,0.017524767166781596,0.0182912750809927,0.017222222222222347,0.01170083411929207,0.015051444045334034,0.013016715830875563,0.011175644430174853,0.012658296488048205,0.01734744936978407,0.006340968835911959,0.017428027389258048,0.01795399857747102,0.01826575428598194,0.018280307337618727,0.017638104602706497,0.011135151405695348,0.015294961839209979,0.012946704214298317,0.017061810892826722,0.014764806676522217,0.01834489416874586,0.01831893189921009,0.01839072725124141,0.016074999386841163,0.018365154059001534,0.016893070633694524,0.017678815019944498,0.009467206023674827,0.017612841334501854,0.010871702597787993,0.014114670778177288,0.01770920541274532,0.012321277511332634,0.01837229791949558,0.01861113006330036,0.018405992682225293,0.01130873004724699,0.017575405186656935,0.018385642490362297,0.017686404814302083,0.018350187403706218,0.01790225018227555,0.01843146665418055,0.018492231832097,0.018043722700486386,0.018491471514859657,0.015735290314093812,0.01819645504875179,0.017838222998147208,0.011756919221310622,0.01864415481040011,0.01608367057081781,0.01822740954789002,0.018599975027703705,0.018544316907359477,0.017913999424745294,0.01808255239165488,0.018556368270021866,0.012790848099318767,0.012000451508037179,0.018643353244280396,0.018572353884195387,0.00028209999175022335,0.016786845842893215,0.011863480692178886,0.018597801100118855,0.018561817581834436,0.013111353030232475,0.017962660842770404,0.01762487597464428,0.018568856647870582,0.01851598895867753,0.017091348437113456,0.011694945562623921,0.01779364633431222,0.012935868021414117,0.016479278568195758,0.009249853399242567,0.0164699117273919,0.011801514837334768,0.018497799316383404,0.018526941094366287,0.01818947729862189,0.018388248973794773,0.012200294539317171,0.016114792295154848,0.0180755947085488,0.008737703931130087,0.01831197310126939,0.018392340416992833,0.01866762765414265,0.018537161898518877,0.01858631161412454,0.018066302561667167,0.018411592496716908,0.01741427032956759,0.012528450580494732,0.011985917408589506,0.018295874888795288,0.017848641128034436,0.01855318764674016,0.018490441407634856,0.01848841017888642,0.012184654523887927,0.00028209999175022335,0.018466016495093707,0.01783525976762393,0.012214620164683748,0.01841975643092376,0.009224207742749827,0.018616154623107846,0.018411534525314653,0.01863493512777115,0.01855774397599095,0.016178671206273566,0.01831127855927696,0.01215747262523529,0.018659579662740237,0.018265978367748365,0.018623644082346208,0.01865487060114115,0.018365479590722003,0.018649567332668874,0.00028209999175022335,0.01835436357433832,0.010327221809733644,0.01837783864775018,0.013281635105697858,0.018480289723231177,0.018080449813488254,0.01856244969308607,0.016159471523778453,0.018414283707583384,0.018543164168322183,0.016742795381017205,0.01832266548048263,0.018226100732000563,0.011808745654932213,0.018561599074241295,0.018498519499573034,0.00028209999175022335,0.018670744731848876,0.01835389868828561,0.018532432769895944,0.015098720838712732,0.011624840299935437,0.01865678811675443,0.00028209999175022335,0.01638094457710995,0.018377990265263804,0.018553757327250824,0.01852010269856885,0.018317256302717827,0.01856750323859471,0.018411952588311725,0.01822639393351579,0.018153838264247057,0.01219404366138496,0.01862699861983472,0.018548359297832592,0.018750962659727904,0.016167093648341173,0.018640911756377387,0.018377471867147388,0.01849996209562164,0.01323840850663476,0.01836032905459797,0.0186188346856278,0.015396474223908198,0.00028209999175022335,0.017284805695467476,0.018611973993137125,0.018603579288155807,0.01851475818121422,0.018391288013074797,0.01856378415017273,0.01837763017366901,0.013374905517763077,0.012187768257090108,0.01831874795149135,0.018639060016009023,0.01876248782043132,0.018648477024372518,0.016176510656704675,0.018624428925946013,0.0186478761284914,0.01850662211787359,0.016176697948927364,0.016942010760384284,0.018636171479407916,0.018658140411195612,0.018356889789675312,0.00028209999175022335,0.018550078372876557,0.018376784014163,0.018626162493840578,0.01787389770723117,0.018641027699181963,0.018402174373518685,0.018528654595237,0.016175827263058787,0.01864184041364829,0.018569428558050657,0.00028209999175022335,0.018446079906889064,0.018542597832315485,0.012584413050700818,0.018473646423498982,0.018584989420219102,0.00028209999175022335,0.018595293836971078,0.018579072992684506,0.018598002885192113,0.018432104339605456,0.017542481889511047,0.016660149343251062,0.0127996296519267,0.00028209999175022335,0.01838026564280258,0.01856644414566882,0.018486798127969696,0.018588942623919462,0.018649694423820043,0.0186478761284914,0.018625731052827547,0.00028209999175022335,0.018411410778667467,0.012581624849218945,0.01835861555372735,0.008426679554155402,0.018606010742546787,0.01861883245595846,0.00028209999175022335,0.01862011005647757,0.01865373792912776,0.017212466304122594,0.0183746390722793,0.018712538768375316,0.01863608786680852,0.018436339596474494,0.01857665603114407,0.01833619622873734,0.017910767519069355,0.00028209999175022335,0.018373106174623333,0.018678044669195155,0.01834788527013566,0.012928123265038945,0.01840174293250579,0.00028209999175022335,0.018660103635029898,0.01837766250387413,0.012913523390346326,0.011995219588983082,0.018299161421369642,0.018641849332325558,0.01860468631897204,0.018609613888164254,0.012405008283221865,0.018502380171996718,0.00028209999175022335,0.01843972869383748,0.016503457102277366,0.01853790549323633,0.01862913352820647,0.01288747527854181,0.01843768520190774,0.018659479327620944,0.018524378089485604,0.00028209999175022335,0.018299047708234477,0.016303280735434383,0.018370174159470443,0.01852814957513652,0.00028209999175022335,0.01863089496696751,0.018353497347808383,0.01212024718114088,0.013091024020227937,0.018318473702165276,0.009645277448901746,0.018220631353164183,0.016555250090859314,0.018585362889829832,0.018510835078049633,0.01834998115929437,0.00028209999175022335,0.018085600349612298,0.018408603624996404],\"type\":\"scatter\",\"xaxis\":\"x8\",\"yaxis\":\"y8\"},{\"marker\":{\"color\":[9,16,26,60,75,95,118,148,188,238,269,297],\"colorbar\":{\"title\":{\"text\":\"Trial\"},\"x\":1.0,\"xpad\":40},\"colorscale\":[[0.0,\"rgb(247,251,255)\"],[0.125,\"rgb(222,235,247)\"],[0.25,\"rgb(198,219,239)\"],[0.375,\"rgb(158,202,225)\"],[0.5,\"rgb(107,174,214)\"],[0.625,\"rgb(66,146,198)\"],[0.75,\"rgb(33,113,181)\"],[0.875,\"rgb(8,81,156)\"],[1.0,\"rgb(8,48,107)\"]],\"line\":{\"color\":\"Grey\",\"width\":0.5},\"showscale\":false},\"mode\":\"markers\",\"name\":\"Feasible Trial\",\"showlegend\":false,\"x\":[0.7992609260853731,1.9308958520833546,0.08588362570460317,1.9357720254333366,0.9965706266740588,0.052605976681216804,1.4479029036879523,0.514827015593531,1.3606751435843036,0.4988222324749081,1.425753187880734,0.4419299903517424],\"y\":[0.011182364653498549,0.013016715830875563,0.011135151405695348,0.011756919221310622,0.011863480692178886,0.012200294539317171,0.012214620164683748,0.011808745654932213,0.013374905517763077,0.012581624849218945,0.012405008283221865,0.00028209999175022335],\"type\":\"scatter\",\"xaxis\":\"x9\",\"yaxis\":\"y9\"},{\"marker\":{\"color\":[9,16,26,60,75,95,118,148,188,238,269,297],\"colorbar\":{\"title\":{\"text\":\"Trial\"},\"x\":1.0,\"xpad\":40},\"colorscale\":[[0.0,\"rgb(247,251,255)\"],[0.125,\"rgb(222,235,247)\"],[0.25,\"rgb(198,219,239)\"],[0.375,\"rgb(158,202,225)\"],[0.5,\"rgb(107,174,214)\"],[0.625,\"rgb(66,146,198)\"],[0.75,\"rgb(33,113,181)\"],[0.875,\"rgb(8,81,156)\"],[1.0,\"rgb(8,48,107)\"]],\"line\":{\"color\":\"Grey\",\"width\":0.5},\"showscale\":false},\"mode\":\"markers\",\"name\":\"Feasible Trial\",\"showlegend\":false,\"x\":[0.7542915302864257,1.900956572302966,0.10490879374888373,1.9479380898789105,1.0172931609569928,0.03408776106625466,1.2014993823652984,0.5422624240541908,1.4827781810368992,0.4716218794053182,1.4791727398250085,1.4738590030710323],\"y\":[0.011182364653498549,0.013016715830875563,0.011135151405695348,0.011756919221310622,0.011863480692178886,0.012200294539317171,0.012214620164683748,0.011808745654932213,0.013374905517763077,0.012581624849218945,0.012405008283221865,0.00028209999175022335],\"type\":\"scatter\",\"xaxis\":\"x10\",\"yaxis\":\"y10\"}],                        {\"template\":{\"data\":{\"histogram2dcontour\":[{\"type\":\"histogram2dcontour\",\"colorbar\":{\"outlinewidth\":0,\"ticks\":\"\"},\"colorscale\":[[0.0,\"#0d0887\"],[0.1111111111111111,\"#46039f\"],[0.2222222222222222,\"#7201a8\"],[0.3333333333333333,\"#9c179e\"],[0.4444444444444444,\"#bd3786\"],[0.5555555555555556,\"#d8576b\"],[0.6666666666666666,\"#ed7953\"],[0.7777777777777778,\"#fb9f3a\"],[0.8888888888888888,\"#fdca26\"],[1.0,\"#f0f921\"]]}],\"choropleth\":[{\"type\":\"choropleth\",\"colorbar\":{\"outlinewidth\":0,\"ticks\":\"\"}}],\"histogram2d\":[{\"type\":\"histogram2d\",\"colorbar\":{\"outlinewidth\":0,\"ticks\":\"\"},\"colorscale\":[[0.0,\"#0d0887\"],[0.1111111111111111,\"#46039f\"],[0.2222222222222222,\"#7201a8\"],[0.3333333333333333,\"#9c179e\"],[0.4444444444444444,\"#bd3786\"],[0.5555555555555556,\"#d8576b\"],[0.6666666666666666,\"#ed7953\"],[0.7777777777777778,\"#fb9f3a\"],[0.8888888888888888,\"#fdca26\"],[1.0,\"#f0f921\"]]}],\"heatmap\":[{\"type\":\"heatmap\",\"colorbar\":{\"outlinewidth\":0,\"ticks\":\"\"},\"colorscale\":[[0.0,\"#0d0887\"],[0.1111111111111111,\"#46039f\"],[0.2222222222222222,\"#7201a8\"],[0.3333333333333333,\"#9c179e\"],[0.4444444444444444,\"#bd3786\"],[0.5555555555555556,\"#d8576b\"],[0.6666666666666666,\"#ed7953\"],[0.7777777777777778,\"#fb9f3a\"],[0.8888888888888888,\"#fdca26\"],[1.0,\"#f0f921\"]]}],\"heatmapgl\":[{\"type\":\"heatmapgl\",\"colorbar\":{\"outlinewidth\":0,\"ticks\":\"\"},\"colorscale\":[[0.0,\"#0d0887\"],[0.1111111111111111,\"#46039f\"],[0.2222222222222222,\"#7201a8\"],[0.3333333333333333,\"#9c179e\"],[0.4444444444444444,\"#bd3786\"],[0.5555555555555556,\"#d8576b\"],[0.6666666666666666,\"#ed7953\"],[0.7777777777777778,\"#fb9f3a\"],[0.8888888888888888,\"#fdca26\"],[1.0,\"#f0f921\"]]}],\"contourcarpet\":[{\"type\":\"contourcarpet\",\"colorbar\":{\"outlinewidth\":0,\"ticks\":\"\"}}],\"contour\":[{\"type\":\"contour\",\"colorbar\":{\"outlinewidth\":0,\"ticks\":\"\"},\"colorscale\":[[0.0,\"#0d0887\"],[0.1111111111111111,\"#46039f\"],[0.2222222222222222,\"#7201a8\"],[0.3333333333333333,\"#9c179e\"],[0.4444444444444444,\"#bd3786\"],[0.5555555555555556,\"#d8576b\"],[0.6666666666666666,\"#ed7953\"],[0.7777777777777778,\"#fb9f3a\"],[0.8888888888888888,\"#fdca26\"],[1.0,\"#f0f921\"]]}],\"surface\":[{\"type\":\"surface\",\"colorbar\":{\"outlinewidth\":0,\"ticks\":\"\"},\"colorscale\":[[0.0,\"#0d0887\"],[0.1111111111111111,\"#46039f\"],[0.2222222222222222,\"#7201a8\"],[0.3333333333333333,\"#9c179e\"],[0.4444444444444444,\"#bd3786\"],[0.5555555555555556,\"#d8576b\"],[0.6666666666666666,\"#ed7953\"],[0.7777777777777778,\"#fb9f3a\"],[0.8888888888888888,\"#fdca26\"],[1.0,\"#f0f921\"]]}],\"mesh3d\":[{\"type\":\"mesh3d\",\"colorbar\":{\"outlinewidth\":0,\"ticks\":\"\"}}],\"scatter\":[{\"fillpattern\":{\"fillmode\":\"overlay\",\"size\":10,\"solidity\":0.2},\"type\":\"scatter\"}],\"parcoords\":[{\"type\":\"parcoords\",\"line\":{\"colorbar\":{\"outlinewidth\":0,\"ticks\":\"\"}}}],\"scatterpolargl\":[{\"type\":\"scatterpolargl\",\"marker\":{\"colorbar\":{\"outlinewidth\":0,\"ticks\":\"\"}}}],\"bar\":[{\"error_x\":{\"color\":\"#2a3f5f\"},\"error_y\":{\"color\":\"#2a3f5f\"},\"marker\":{\"line\":{\"color\":\"#E5ECF6\",\"width\":0.5},\"pattern\":{\"fillmode\":\"overlay\",\"size\":10,\"solidity\":0.2}},\"type\":\"bar\"}],\"scattergeo\":[{\"type\":\"scattergeo\",\"marker\":{\"colorbar\":{\"outlinewidth\":0,\"ticks\":\"\"}}}],\"scatterpolar\":[{\"type\":\"scatterpolar\",\"marker\":{\"colorbar\":{\"outlinewidth\":0,\"ticks\":\"\"}}}],\"histogram\":[{\"marker\":{\"pattern\":{\"fillmode\":\"overlay\",\"size\":10,\"solidity\":0.2}},\"type\":\"histogram\"}],\"scattergl\":[{\"type\":\"scattergl\",\"marker\":{\"colorbar\":{\"outlinewidth\":0,\"ticks\":\"\"}}}],\"scatter3d\":[{\"type\":\"scatter3d\",\"line\":{\"colorbar\":{\"outlinewidth\":0,\"ticks\":\"\"}},\"marker\":{\"colorbar\":{\"outlinewidth\":0,\"ticks\":\"\"}}}],\"scattermapbox\":[{\"type\":\"scattermapbox\",\"marker\":{\"colorbar\":{\"outlinewidth\":0,\"ticks\":\"\"}}}],\"scatterternary\":[{\"type\":\"scatterternary\",\"marker\":{\"colorbar\":{\"outlinewidth\":0,\"ticks\":\"\"}}}],\"scattercarpet\":[{\"type\":\"scattercarpet\",\"marker\":{\"colorbar\":{\"outlinewidth\":0,\"ticks\":\"\"}}}],\"carpet\":[{\"aaxis\":{\"endlinecolor\":\"#2a3f5f\",\"gridcolor\":\"white\",\"linecolor\":\"white\",\"minorgridcolor\":\"white\",\"startlinecolor\":\"#2a3f5f\"},\"baxis\":{\"endlinecolor\":\"#2a3f5f\",\"gridcolor\":\"white\",\"linecolor\":\"white\",\"minorgridcolor\":\"white\",\"startlinecolor\":\"#2a3f5f\"},\"type\":\"carpet\"}],\"table\":[{\"cells\":{\"fill\":{\"color\":\"#EBF0F8\"},\"line\":{\"color\":\"white\"}},\"header\":{\"fill\":{\"color\":\"#C8D4E3\"},\"line\":{\"color\":\"white\"}},\"type\":\"table\"}],\"barpolar\":[{\"marker\":{\"line\":{\"color\":\"#E5ECF6\",\"width\":0.5},\"pattern\":{\"fillmode\":\"overlay\",\"size\":10,\"solidity\":0.2}},\"type\":\"barpolar\"}],\"pie\":[{\"automargin\":true,\"type\":\"pie\"}]},\"layout\":{\"autotypenumbers\":\"strict\",\"colorway\":[\"#636efa\",\"#EF553B\",\"#00cc96\",\"#ab63fa\",\"#FFA15A\",\"#19d3f3\",\"#FF6692\",\"#B6E880\",\"#FF97FF\",\"#FECB52\"],\"font\":{\"color\":\"#2a3f5f\"},\"hovermode\":\"closest\",\"hoverlabel\":{\"align\":\"left\"},\"paper_bgcolor\":\"white\",\"plot_bgcolor\":\"#E5ECF6\",\"polar\":{\"bgcolor\":\"#E5ECF6\",\"angularaxis\":{\"gridcolor\":\"white\",\"linecolor\":\"white\",\"ticks\":\"\"},\"radialaxis\":{\"gridcolor\":\"white\",\"linecolor\":\"white\",\"ticks\":\"\"}},\"ternary\":{\"bgcolor\":\"#E5ECF6\",\"aaxis\":{\"gridcolor\":\"white\",\"linecolor\":\"white\",\"ticks\":\"\"},\"baxis\":{\"gridcolor\":\"white\",\"linecolor\":\"white\",\"ticks\":\"\"},\"caxis\":{\"gridcolor\":\"white\",\"linecolor\":\"white\",\"ticks\":\"\"}},\"coloraxis\":{\"colorbar\":{\"outlinewidth\":0,\"ticks\":\"\"}},\"colorscale\":{\"sequential\":[[0.0,\"#0d0887\"],[0.1111111111111111,\"#46039f\"],[0.2222222222222222,\"#7201a8\"],[0.3333333333333333,\"#9c179e\"],[0.4444444444444444,\"#bd3786\"],[0.5555555555555556,\"#d8576b\"],[0.6666666666666666,\"#ed7953\"],[0.7777777777777778,\"#fb9f3a\"],[0.8888888888888888,\"#fdca26\"],[1.0,\"#f0f921\"]],\"sequentialminus\":[[0.0,\"#0d0887\"],[0.1111111111111111,\"#46039f\"],[0.2222222222222222,\"#7201a8\"],[0.3333333333333333,\"#9c179e\"],[0.4444444444444444,\"#bd3786\"],[0.5555555555555556,\"#d8576b\"],[0.6666666666666666,\"#ed7953\"],[0.7777777777777778,\"#fb9f3a\"],[0.8888888888888888,\"#fdca26\"],[1.0,\"#f0f921\"]],\"diverging\":[[0,\"#8e0152\"],[0.1,\"#c51b7d\"],[0.2,\"#de77ae\"],[0.3,\"#f1b6da\"],[0.4,\"#fde0ef\"],[0.5,\"#f7f7f7\"],[0.6,\"#e6f5d0\"],[0.7,\"#b8e186\"],[0.8,\"#7fbc41\"],[0.9,\"#4d9221\"],[1,\"#276419\"]]},\"xaxis\":{\"gridcolor\":\"white\",\"linecolor\":\"white\",\"ticks\":\"\",\"title\":{\"standoff\":15},\"zerolinecolor\":\"white\",\"automargin\":true,\"zerolinewidth\":2},\"yaxis\":{\"gridcolor\":\"white\",\"linecolor\":\"white\",\"ticks\":\"\",\"title\":{\"standoff\":15},\"zerolinecolor\":\"white\",\"automargin\":true,\"zerolinewidth\":2},\"scene\":{\"xaxis\":{\"backgroundcolor\":\"#E5ECF6\",\"gridcolor\":\"white\",\"linecolor\":\"white\",\"showbackground\":true,\"ticks\":\"\",\"zerolinecolor\":\"white\",\"gridwidth\":2},\"yaxis\":{\"backgroundcolor\":\"#E5ECF6\",\"gridcolor\":\"white\",\"linecolor\":\"white\",\"showbackground\":true,\"ticks\":\"\",\"zerolinecolor\":\"white\",\"gridwidth\":2},\"zaxis\":{\"backgroundcolor\":\"#E5ECF6\",\"gridcolor\":\"white\",\"linecolor\":\"white\",\"showbackground\":true,\"ticks\":\"\",\"zerolinecolor\":\"white\",\"gridwidth\":2}},\"shapedefaults\":{\"line\":{\"color\":\"#2a3f5f\"}},\"annotationdefaults\":{\"arrowcolor\":\"#2a3f5f\",\"arrowhead\":0,\"arrowwidth\":1},\"geo\":{\"bgcolor\":\"white\",\"landcolor\":\"#E5ECF6\",\"subunitcolor\":\"white\",\"showland\":true,\"showlakes\":true,\"lakecolor\":\"white\"},\"title\":{\"x\":0.05},\"mapbox\":{\"style\":\"light\"}}},\"xaxis\":{\"anchor\":\"y\",\"domain\":[0.0,0.082],\"title\":{\"text\":\"asymmetric_alpha\"}},\"yaxis\":{\"anchor\":\"x\",\"domain\":[0.0,1.0],\"title\":{\"text\":\"Objective Value\"}},\"xaxis2\":{\"anchor\":\"y2\",\"domain\":[0.10200000000000001,0.184],\"title\":{\"text\":\"feature_weighting\"},\"type\":\"category\",\"categoryorder\":\"array\",\"categoryarray\":[\"BM25\",\"TF-IDF\",\"none\"]},\"yaxis2\":{\"anchor\":\"x2\",\"domain\":[0.0,1.0],\"matches\":\"y\",\"showticklabels\":false},\"xaxis3\":{\"anchor\":\"y3\",\"domain\":[0.20400000000000001,0.28600000000000003],\"title\":{\"text\":\"normalize\"},\"type\":\"category\",\"categoryorder\":\"array\",\"categoryarray\":[true,false]},\"yaxis3\":{\"anchor\":\"x3\",\"domain\":[0.0,1.0],\"matches\":\"y\",\"showticklabels\":false},\"xaxis4\":{\"anchor\":\"y4\",\"domain\":[0.306,0.388],\"title\":{\"text\":\"normalize_avg_row\"},\"type\":\"category\",\"categoryorder\":\"array\",\"categoryarray\":[true,false]},\"yaxis4\":{\"anchor\":\"x4\",\"domain\":[0.0,1.0],\"matches\":\"y\",\"showticklabels\":false},\"xaxis5\":{\"anchor\":\"y5\",\"domain\":[0.40800000000000003,0.49000000000000005],\"title\":{\"text\":\"shrink\"}},\"yaxis5\":{\"anchor\":\"x5\",\"domain\":[0.0,1.0],\"matches\":\"y\",\"showticklabels\":false},\"xaxis6\":{\"anchor\":\"y6\",\"domain\":[0.51,0.592],\"title\":{\"text\":\"similarity\"},\"type\":\"category\",\"categoryorder\":\"array\",\"categoryarray\":[\"cosine\",\"dice\",\"jaccard\",\"asymmetric\",\"tversky\",\"euclidean\"]},\"yaxis6\":{\"anchor\":\"x6\",\"domain\":[0.0,1.0],\"matches\":\"y\",\"showticklabels\":false},\"xaxis7\":{\"anchor\":\"y7\",\"domain\":[0.6120000000000001,0.6940000000000001],\"title\":{\"text\":\"similarity_from_distance_mode\"},\"type\":\"category\",\"categoryorder\":\"array\",\"categoryarray\":[\"lin\",\"log\",\"exp\"]},\"yaxis7\":{\"anchor\":\"x7\",\"domain\":[0.0,1.0],\"matches\":\"y\",\"showticklabels\":false},\"xaxis8\":{\"anchor\":\"y8\",\"domain\":[0.7140000000000001,0.796],\"title\":{\"text\":\"topK\"}},\"yaxis8\":{\"anchor\":\"x8\",\"domain\":[0.0,1.0],\"matches\":\"y\",\"showticklabels\":false},\"xaxis9\":{\"anchor\":\"y9\",\"domain\":[0.8160000000000001,0.898],\"title\":{\"text\":\"tversky_alpha\"}},\"yaxis9\":{\"anchor\":\"x9\",\"domain\":[0.0,1.0],\"matches\":\"y\",\"showticklabels\":false},\"xaxis10\":{\"anchor\":\"y10\",\"domain\":[0.9179999999999999,0.9999999999999999],\"title\":{\"text\":\"tversky_beta\"}},\"yaxis10\":{\"anchor\":\"x10\",\"domain\":[0.0,1.0],\"matches\":\"y\",\"showticklabels\":false},\"title\":{\"text\":\"Slice Plot\"},\"width\":3000},                        {\"responsive\": true}                    ).then(function(){\n",
       "                            \n",
       "var gd = document.getElementById('4bac4ca3-0235-4ce7-81dc-34f051c7b44d');\n",
       "var x = new MutationObserver(function (mutations, observer) {{\n",
       "        var display = window.getComputedStyle(gd).display;\n",
       "        if (!display || display === 'none') {{\n",
       "            console.log([gd, 'removed!']);\n",
       "            Plotly.purge(gd);\n",
       "            observer.disconnect();\n",
       "        }}\n",
       "}});\n",
       "\n",
       "// Listen for the removal of the full notebook cells\n",
       "var notebookContainer = gd.closest('#notebook-container');\n",
       "if (notebookContainer) {{\n",
       "    x.observe(notebookContainer, {childList: true});\n",
       "}}\n",
       "\n",
       "// Listen for the clearing of the current output cell\n",
       "var outputEl = gd.closest('.output');\n",
       "if (outputEl) {{\n",
       "    x.observe(outputEl, {childList: true});\n",
       "}}\n",
       "\n",
       "                        })                };                });            </script>        </div>"
      ]
     },
     "metadata": {},
     "output_type": "display_data"
    }
   ],
   "source": [
    "if not config['tune_parameters']:\n",
    "    optuna_study = optuna.load_study(study_name=f'hyperparameters_tuning_{config[\"model\"]}_{config[\"metric\"]}', storage=f'sqlite:///{config[\"database_path\"]}')\n",
    "    \n",
    "fig = optuna.visualization.plot_slice(optuna_study)\n",
    "fig.show()"
   ]
  },
  {
   "cell_type": "code",
   "execution_count": 15,
   "id": "4a315762",
   "metadata": {
    "execution": {
     "iopub.execute_input": "2024-12-16T20:48:00.563338Z",
     "iopub.status.busy": "2024-12-16T20:48:00.562932Z",
     "iopub.status.idle": "2024-12-16T20:48:05.648732Z",
     "shell.execute_reply": "2024-12-16T20:48:05.647669Z"
    },
    "papermill": {
     "duration": 5.151042,
     "end_time": "2024-12-16T20:48:05.651184",
     "exception": false,
     "start_time": "2024-12-16T20:48:00.500142",
     "status": "completed"
    },
    "tags": []
   },
   "outputs": [
    {
     "data": {
      "text/html": [
       "<div>                            <div id=\"f77a3e2f-977b-496d-9994-af608e6b6bf5\" class=\"plotly-graph-div\" style=\"height:525px; width:100%;\"></div>            <script type=\"text/javascript\">                require([\"plotly\"], function(Plotly) {                    window.PLOTLYENV=window.PLOTLYENV || {};                                    if (document.getElementById(\"f77a3e2f-977b-496d-9994-af608e6b6bf5\")) {                    Plotly.newPlot(                        \"f77a3e2f-977b-496d-9994-af608e6b6bf5\",                        [{\"cliponaxis\":false,\"hovertemplate\":[\"shrink (IntDistribution): 0.032986658169989594\\u003cextra\\u003e\\u003c\\u002fextra\\u003e\",\"topK (IntDistribution): 0.1585549715185134\\u003cextra\\u003e\\u003c\\u002fextra\\u003e\",\"feature_weighting (CategoricalDistribution): 0.28858716234871723\\u003cextra\\u003e\\u003c\\u002fextra\\u003e\",\"similarity (CategoricalDistribution): 0.5198712079627799\\u003cextra\\u003e\\u003c\\u002fextra\\u003e\"],\"name\":\"Objective Value\",\"orientation\":\"h\",\"text\":[\"0.03\",\"0.16\",\"0.29\",\"0.52\"],\"textposition\":\"outside\",\"x\":[0.032986658169989594,0.1585549715185134,0.28858716234871723,0.5198712079627799],\"y\":[\"shrink\",\"topK\",\"feature_weighting\",\"similarity\"],\"type\":\"bar\"}],                        {\"title\":{\"text\":\"Hyperparameter Importances\"},\"xaxis\":{\"title\":{\"text\":\"Hyperparameter Importance\"}},\"yaxis\":{\"title\":{\"text\":\"Hyperparameter\"}},\"template\":{\"data\":{\"histogram2dcontour\":[{\"type\":\"histogram2dcontour\",\"colorbar\":{\"outlinewidth\":0,\"ticks\":\"\"},\"colorscale\":[[0.0,\"#0d0887\"],[0.1111111111111111,\"#46039f\"],[0.2222222222222222,\"#7201a8\"],[0.3333333333333333,\"#9c179e\"],[0.4444444444444444,\"#bd3786\"],[0.5555555555555556,\"#d8576b\"],[0.6666666666666666,\"#ed7953\"],[0.7777777777777778,\"#fb9f3a\"],[0.8888888888888888,\"#fdca26\"],[1.0,\"#f0f921\"]]}],\"choropleth\":[{\"type\":\"choropleth\",\"colorbar\":{\"outlinewidth\":0,\"ticks\":\"\"}}],\"histogram2d\":[{\"type\":\"histogram2d\",\"colorbar\":{\"outlinewidth\":0,\"ticks\":\"\"},\"colorscale\":[[0.0,\"#0d0887\"],[0.1111111111111111,\"#46039f\"],[0.2222222222222222,\"#7201a8\"],[0.3333333333333333,\"#9c179e\"],[0.4444444444444444,\"#bd3786\"],[0.5555555555555556,\"#d8576b\"],[0.6666666666666666,\"#ed7953\"],[0.7777777777777778,\"#fb9f3a\"],[0.8888888888888888,\"#fdca26\"],[1.0,\"#f0f921\"]]}],\"heatmap\":[{\"type\":\"heatmap\",\"colorbar\":{\"outlinewidth\":0,\"ticks\":\"\"},\"colorscale\":[[0.0,\"#0d0887\"],[0.1111111111111111,\"#46039f\"],[0.2222222222222222,\"#7201a8\"],[0.3333333333333333,\"#9c179e\"],[0.4444444444444444,\"#bd3786\"],[0.5555555555555556,\"#d8576b\"],[0.6666666666666666,\"#ed7953\"],[0.7777777777777778,\"#fb9f3a\"],[0.8888888888888888,\"#fdca26\"],[1.0,\"#f0f921\"]]}],\"heatmapgl\":[{\"type\":\"heatmapgl\",\"colorbar\":{\"outlinewidth\":0,\"ticks\":\"\"},\"colorscale\":[[0.0,\"#0d0887\"],[0.1111111111111111,\"#46039f\"],[0.2222222222222222,\"#7201a8\"],[0.3333333333333333,\"#9c179e\"],[0.4444444444444444,\"#bd3786\"],[0.5555555555555556,\"#d8576b\"],[0.6666666666666666,\"#ed7953\"],[0.7777777777777778,\"#fb9f3a\"],[0.8888888888888888,\"#fdca26\"],[1.0,\"#f0f921\"]]}],\"contourcarpet\":[{\"type\":\"contourcarpet\",\"colorbar\":{\"outlinewidth\":0,\"ticks\":\"\"}}],\"contour\":[{\"type\":\"contour\",\"colorbar\":{\"outlinewidth\":0,\"ticks\":\"\"},\"colorscale\":[[0.0,\"#0d0887\"],[0.1111111111111111,\"#46039f\"],[0.2222222222222222,\"#7201a8\"],[0.3333333333333333,\"#9c179e\"],[0.4444444444444444,\"#bd3786\"],[0.5555555555555556,\"#d8576b\"],[0.6666666666666666,\"#ed7953\"],[0.7777777777777778,\"#fb9f3a\"],[0.8888888888888888,\"#fdca26\"],[1.0,\"#f0f921\"]]}],\"surface\":[{\"type\":\"surface\",\"colorbar\":{\"outlinewidth\":0,\"ticks\":\"\"},\"colorscale\":[[0.0,\"#0d0887\"],[0.1111111111111111,\"#46039f\"],[0.2222222222222222,\"#7201a8\"],[0.3333333333333333,\"#9c179e\"],[0.4444444444444444,\"#bd3786\"],[0.5555555555555556,\"#d8576b\"],[0.6666666666666666,\"#ed7953\"],[0.7777777777777778,\"#fb9f3a\"],[0.8888888888888888,\"#fdca26\"],[1.0,\"#f0f921\"]]}],\"mesh3d\":[{\"type\":\"mesh3d\",\"colorbar\":{\"outlinewidth\":0,\"ticks\":\"\"}}],\"scatter\":[{\"fillpattern\":{\"fillmode\":\"overlay\",\"size\":10,\"solidity\":0.2},\"type\":\"scatter\"}],\"parcoords\":[{\"type\":\"parcoords\",\"line\":{\"colorbar\":{\"outlinewidth\":0,\"ticks\":\"\"}}}],\"scatterpolargl\":[{\"type\":\"scatterpolargl\",\"marker\":{\"colorbar\":{\"outlinewidth\":0,\"ticks\":\"\"}}}],\"bar\":[{\"error_x\":{\"color\":\"#2a3f5f\"},\"error_y\":{\"color\":\"#2a3f5f\"},\"marker\":{\"line\":{\"color\":\"#E5ECF6\",\"width\":0.5},\"pattern\":{\"fillmode\":\"overlay\",\"size\":10,\"solidity\":0.2}},\"type\":\"bar\"}],\"scattergeo\":[{\"type\":\"scattergeo\",\"marker\":{\"colorbar\":{\"outlinewidth\":0,\"ticks\":\"\"}}}],\"scatterpolar\":[{\"type\":\"scatterpolar\",\"marker\":{\"colorbar\":{\"outlinewidth\":0,\"ticks\":\"\"}}}],\"histogram\":[{\"marker\":{\"pattern\":{\"fillmode\":\"overlay\",\"size\":10,\"solidity\":0.2}},\"type\":\"histogram\"}],\"scattergl\":[{\"type\":\"scattergl\",\"marker\":{\"colorbar\":{\"outlinewidth\":0,\"ticks\":\"\"}}}],\"scatter3d\":[{\"type\":\"scatter3d\",\"line\":{\"colorbar\":{\"outlinewidth\":0,\"ticks\":\"\"}},\"marker\":{\"colorbar\":{\"outlinewidth\":0,\"ticks\":\"\"}}}],\"scattermapbox\":[{\"type\":\"scattermapbox\",\"marker\":{\"colorbar\":{\"outlinewidth\":0,\"ticks\":\"\"}}}],\"scatterternary\":[{\"type\":\"scatterternary\",\"marker\":{\"colorbar\":{\"outlinewidth\":0,\"ticks\":\"\"}}}],\"scattercarpet\":[{\"type\":\"scattercarpet\",\"marker\":{\"colorbar\":{\"outlinewidth\":0,\"ticks\":\"\"}}}],\"carpet\":[{\"aaxis\":{\"endlinecolor\":\"#2a3f5f\",\"gridcolor\":\"white\",\"linecolor\":\"white\",\"minorgridcolor\":\"white\",\"startlinecolor\":\"#2a3f5f\"},\"baxis\":{\"endlinecolor\":\"#2a3f5f\",\"gridcolor\":\"white\",\"linecolor\":\"white\",\"minorgridcolor\":\"white\",\"startlinecolor\":\"#2a3f5f\"},\"type\":\"carpet\"}],\"table\":[{\"cells\":{\"fill\":{\"color\":\"#EBF0F8\"},\"line\":{\"color\":\"white\"}},\"header\":{\"fill\":{\"color\":\"#C8D4E3\"},\"line\":{\"color\":\"white\"}},\"type\":\"table\"}],\"barpolar\":[{\"marker\":{\"line\":{\"color\":\"#E5ECF6\",\"width\":0.5},\"pattern\":{\"fillmode\":\"overlay\",\"size\":10,\"solidity\":0.2}},\"type\":\"barpolar\"}],\"pie\":[{\"automargin\":true,\"type\":\"pie\"}]},\"layout\":{\"autotypenumbers\":\"strict\",\"colorway\":[\"#636efa\",\"#EF553B\",\"#00cc96\",\"#ab63fa\",\"#FFA15A\",\"#19d3f3\",\"#FF6692\",\"#B6E880\",\"#FF97FF\",\"#FECB52\"],\"font\":{\"color\":\"#2a3f5f\"},\"hovermode\":\"closest\",\"hoverlabel\":{\"align\":\"left\"},\"paper_bgcolor\":\"white\",\"plot_bgcolor\":\"#E5ECF6\",\"polar\":{\"bgcolor\":\"#E5ECF6\",\"angularaxis\":{\"gridcolor\":\"white\",\"linecolor\":\"white\",\"ticks\":\"\"},\"radialaxis\":{\"gridcolor\":\"white\",\"linecolor\":\"white\",\"ticks\":\"\"}},\"ternary\":{\"bgcolor\":\"#E5ECF6\",\"aaxis\":{\"gridcolor\":\"white\",\"linecolor\":\"white\",\"ticks\":\"\"},\"baxis\":{\"gridcolor\":\"white\",\"linecolor\":\"white\",\"ticks\":\"\"},\"caxis\":{\"gridcolor\":\"white\",\"linecolor\":\"white\",\"ticks\":\"\"}},\"coloraxis\":{\"colorbar\":{\"outlinewidth\":0,\"ticks\":\"\"}},\"colorscale\":{\"sequential\":[[0.0,\"#0d0887\"],[0.1111111111111111,\"#46039f\"],[0.2222222222222222,\"#7201a8\"],[0.3333333333333333,\"#9c179e\"],[0.4444444444444444,\"#bd3786\"],[0.5555555555555556,\"#d8576b\"],[0.6666666666666666,\"#ed7953\"],[0.7777777777777778,\"#fb9f3a\"],[0.8888888888888888,\"#fdca26\"],[1.0,\"#f0f921\"]],\"sequentialminus\":[[0.0,\"#0d0887\"],[0.1111111111111111,\"#46039f\"],[0.2222222222222222,\"#7201a8\"],[0.3333333333333333,\"#9c179e\"],[0.4444444444444444,\"#bd3786\"],[0.5555555555555556,\"#d8576b\"],[0.6666666666666666,\"#ed7953\"],[0.7777777777777778,\"#fb9f3a\"],[0.8888888888888888,\"#fdca26\"],[1.0,\"#f0f921\"]],\"diverging\":[[0,\"#8e0152\"],[0.1,\"#c51b7d\"],[0.2,\"#de77ae\"],[0.3,\"#f1b6da\"],[0.4,\"#fde0ef\"],[0.5,\"#f7f7f7\"],[0.6,\"#e6f5d0\"],[0.7,\"#b8e186\"],[0.8,\"#7fbc41\"],[0.9,\"#4d9221\"],[1,\"#276419\"]]},\"xaxis\":{\"gridcolor\":\"white\",\"linecolor\":\"white\",\"ticks\":\"\",\"title\":{\"standoff\":15},\"zerolinecolor\":\"white\",\"automargin\":true,\"zerolinewidth\":2},\"yaxis\":{\"gridcolor\":\"white\",\"linecolor\":\"white\",\"ticks\":\"\",\"title\":{\"standoff\":15},\"zerolinecolor\":\"white\",\"automargin\":true,\"zerolinewidth\":2},\"scene\":{\"xaxis\":{\"backgroundcolor\":\"#E5ECF6\",\"gridcolor\":\"white\",\"linecolor\":\"white\",\"showbackground\":true,\"ticks\":\"\",\"zerolinecolor\":\"white\",\"gridwidth\":2},\"yaxis\":{\"backgroundcolor\":\"#E5ECF6\",\"gridcolor\":\"white\",\"linecolor\":\"white\",\"showbackground\":true,\"ticks\":\"\",\"zerolinecolor\":\"white\",\"gridwidth\":2},\"zaxis\":{\"backgroundcolor\":\"#E5ECF6\",\"gridcolor\":\"white\",\"linecolor\":\"white\",\"showbackground\":true,\"ticks\":\"\",\"zerolinecolor\":\"white\",\"gridwidth\":2}},\"shapedefaults\":{\"line\":{\"color\":\"#2a3f5f\"}},\"annotationdefaults\":{\"arrowcolor\":\"#2a3f5f\",\"arrowhead\":0,\"arrowwidth\":1},\"geo\":{\"bgcolor\":\"white\",\"landcolor\":\"#E5ECF6\",\"subunitcolor\":\"white\",\"showland\":true,\"showlakes\":true,\"lakecolor\":\"white\"},\"title\":{\"x\":0.05},\"mapbox\":{\"style\":\"light\"}}}},                        {\"responsive\": true}                    ).then(function(){\n",
       "                            \n",
       "var gd = document.getElementById('f77a3e2f-977b-496d-9994-af608e6b6bf5');\n",
       "var x = new MutationObserver(function (mutations, observer) {{\n",
       "        var display = window.getComputedStyle(gd).display;\n",
       "        if (!display || display === 'none') {{\n",
       "            console.log([gd, 'removed!']);\n",
       "            Plotly.purge(gd);\n",
       "            observer.disconnect();\n",
       "        }}\n",
       "}});\n",
       "\n",
       "// Listen for the removal of the full notebook cells\n",
       "var notebookContainer = gd.closest('#notebook-container');\n",
       "if (notebookContainer) {{\n",
       "    x.observe(notebookContainer, {childList: true});\n",
       "}}\n",
       "\n",
       "// Listen for the clearing of the current output cell\n",
       "var outputEl = gd.closest('.output');\n",
       "if (outputEl) {{\n",
       "    x.observe(outputEl, {childList: true});\n",
       "}}\n",
       "\n",
       "                        })                };                });            </script>        </div>"
      ]
     },
     "metadata": {},
     "output_type": "display_data"
    }
   ],
   "source": [
    "if not config['tune_parameters']:\n",
    "    optuna_study = optuna.load_study(study_name=f'hyperparameters_tuning_{config[\"model\"]}_{config[\"metric\"]}', storage=f'sqlite:///{config[\"database_path\"]}')\n",
    "    \n",
    "fig = optuna.visualization.plot_param_importances(optuna_study)\n",
    "fig.show()"
   ]
  },
  {
   "cell_type": "markdown",
   "id": "d32115dc",
   "metadata": {
    "papermill": {
     "duration": 0.062968,
     "end_time": "2024-12-16T20:48:05.775996",
     "exception": false,
     "start_time": "2024-12-16T20:48:05.713028",
     "status": "completed"
    },
    "tags": []
   },
   "source": [
    "## Let's train the recommender with best parameter values"
   ]
  },
  {
   "cell_type": "code",
   "execution_count": 16,
   "id": "59d0c23d",
   "metadata": {
    "execution": {
     "iopub.execute_input": "2024-12-16T20:48:05.903528Z",
     "iopub.status.busy": "2024-12-16T20:48:05.903153Z",
     "iopub.status.idle": "2024-12-16T20:49:03.773291Z",
     "shell.execute_reply": "2024-12-16T20:49:03.771693Z"
    },
    "papermill": {
     "duration": 57.991958,
     "end_time": "2024-12-16T20:49:03.830953",
     "exception": false,
     "start_time": "2024-12-16T20:48:05.838995",
     "status": "completed"
    },
    "tags": []
   },
   "outputs": [
    {
     "name": "stdout",
     "output_type": "stream",
     "text": [
      "Similarity column 38121 (100.0%), 663.47 column/sec. Elapsed time 57.46 sec\n"
     ]
    }
   ],
   "source": [
    "if config['tune_best_params']:\n",
    "\n",
    "    if config['tune_parameters']:\n",
    "        best_params = optuna_study.best_trial.params\n",
    "    else: \n",
    "        with open(f'{K_PATH}/{GH_PATH}/{config[\"model\"]}Recommender/Optimizing{config[\"metric\"]}/best_params_{config[\"model\"]}_{config[\"metric\"]}.json', 'r') as best_params_json:\n",
    "            best_params = json.load(best_params_json)\n",
    "\n",
    "    recommender_instance = ItemKNNCBFRecommender(URM_train + URM_validation, ICM_all)\n",
    "    recommender_instance.fit(**best_params)"
   ]
  },
  {
   "cell_type": "markdown",
   "id": "927da978",
   "metadata": {
    "papermill": {
     "duration": 0.062232,
     "end_time": "2024-12-16T20:49:03.955683",
     "exception": false,
     "start_time": "2024-12-16T20:49:03.893451",
     "status": "completed"
    },
    "tags": []
   },
   "source": [
    "# Testing"
   ]
  },
  {
   "cell_type": "markdown",
   "id": "7571efb6",
   "metadata": {
    "papermill": {
     "duration": 0.065843,
     "end_time": "2024-12-16T20:49:04.086500",
     "exception": false,
     "start_time": "2024-12-16T20:49:04.020657",
     "status": "completed"
    },
    "tags": []
   },
   "source": [
    "Create the recommendations for the submission. "
   ]
  },
  {
   "cell_type": "code",
   "execution_count": 17,
   "id": "1990fe12",
   "metadata": {
    "execution": {
     "iopub.execute_input": "2024-12-16T20:49:04.218009Z",
     "iopub.status.busy": "2024-12-16T20:49:04.217433Z",
     "iopub.status.idle": "2024-12-16T20:49:30.447040Z",
     "shell.execute_reply": "2024-12-16T20:49:30.442356Z"
    },
    "papermill": {
     "duration": 26.304632,
     "end_time": "2024-12-16T20:49:30.455481",
     "exception": false,
     "start_time": "2024-12-16T20:49:04.150849",
     "status": "completed"
    },
    "tags": []
   },
   "outputs": [
    {
     "name": "stdout",
     "output_type": "stream",
     "text": [
      "Submission file saved as /kaggle/working/submission_ItemKNNCBF_MAP.csv\n"
     ]
    }
   ],
   "source": [
    "if config['tune_best_params']:\n",
    "\n",
    "    data_target_users_test = pd.read_csv('/kaggle/input/recommender-system-2024-challenge-polimi/data_target_users_test.csv')\n",
    "    create_submission(data_target_users_test, recommender_instance, f'/kaggle/working/submission_{config[\"model\"]}_{config[\"metric\"]}.csv')"
   ]
  },
  {
   "cell_type": "markdown",
   "id": "a3316174",
   "metadata": {
    "execution": {
     "iopub.execute_input": "2024-11-14T00:04:16.877791Z",
     "iopub.status.busy": "2024-11-14T00:04:16.877275Z",
     "iopub.status.idle": "2024-11-14T00:04:16.883170Z",
     "shell.execute_reply": "2024-11-14T00:04:16.881889Z",
     "shell.execute_reply.started": "2024-11-14T00:04:16.877743Z"
    },
    "papermill": {
     "duration": 0.248678,
     "end_time": "2024-12-16T20:49:30.930083",
     "exception": false,
     "start_time": "2024-12-16T20:49:30.681405",
     "status": "completed"
    },
    "tags": []
   },
   "source": [
    "# Save Version on GitHub "
   ]
  },
  {
   "cell_type": "markdown",
   "id": "9b27998e",
   "metadata": {
    "papermill": {
     "duration": 0.219323,
     "end_time": "2024-12-16T20:49:31.356227",
     "exception": false,
     "start_time": "2024-12-16T20:49:31.136904",
     "status": "completed"
    },
    "tags": []
   },
   "source": [
    "Write or import a json file where best hyperparameters are saved. "
   ]
  },
  {
   "cell_type": "code",
   "execution_count": 18,
   "id": "23b661c3",
   "metadata": {
    "execution": {
     "iopub.execute_input": "2024-12-16T20:49:31.785013Z",
     "iopub.status.busy": "2024-12-16T20:49:31.783855Z",
     "iopub.status.idle": "2024-12-16T20:49:33.078696Z",
     "shell.execute_reply": "2024-12-16T20:49:33.074768Z"
    },
    "papermill": {
     "duration": 1.541692,
     "end_time": "2024-12-16T20:49:33.086674",
     "exception": false,
     "start_time": "2024-12-16T20:49:31.544982",
     "status": "completed"
    },
    "tags": []
   },
   "outputs": [
    {
     "name": "stdout",
     "output_type": "stream",
     "text": [
      "File 'TrainedModels/WithoutKFCV/KNN/ItemKNNCBFRecommender/OptimizingMAP/best_params_ItemKNNCBF_MAP.json' created successfully.\n"
     ]
    }
   ],
   "source": [
    "if config['tune_parameters']:\n",
    "    with open(f'/kaggle/working/best_params_{config[\"model\"]}_{config[\"metric\"]}.json', 'w') as params_file:\n",
    "        json.dump(optuna_study.best_params, params_file)\n",
    "        \n",
    "    if config['save_github']:\n",
    "        upload_file(\n",
    "            f'/kaggle/working/best_params_{config[\"model\"]}_{config[\"metric\"]}.json', \n",
    "            f'{GH_PATH}/{config[\"model\"]}Recommender/Optimizing{config[\"metric\"]}/best_params_{config[\"model\"]}_{config[\"metric\"]}.json', \n",
    "            f'{config[\"model\"]}_{config[\"metric\"]} tuning results (from kaggle notebook)',\n",
    "            repo\n",
    "        )\n",
    "elif config['copy_prev_best_params']:\n",
    "    shutil.copyfile(\n",
    "        f'{K_PATH}/{GH_PATH}/{config[\"model\"]}Recommender/Optimizing{config[\"metric\"]}/'\\\n",
    "        f'best_params_{config[\"model\"]}_{config[\"metric\"]}.json', \n",
    "        f'/kaggle/working/best_params_{config[\"model\"]}_{config[\"metric\"]}.json'\n",
    "    )"
   ]
  },
  {
   "cell_type": "markdown",
   "id": "e4ca8d0b",
   "metadata": {
    "papermill": {
     "duration": 0.233353,
     "end_time": "2024-12-16T20:49:33.539356",
     "exception": false,
     "start_time": "2024-12-16T20:49:33.306003",
     "status": "completed"
    },
    "tags": []
   },
   "source": [
    "Save the history of the tuned model."
   ]
  },
  {
   "cell_type": "code",
   "execution_count": 19,
   "id": "b7b7a7fe",
   "metadata": {
    "execution": {
     "iopub.execute_input": "2024-12-16T20:49:34.076437Z",
     "iopub.status.busy": "2024-12-16T20:49:34.075365Z",
     "iopub.status.idle": "2024-12-16T20:49:35.746140Z",
     "shell.execute_reply": "2024-12-16T20:49:35.744878Z"
    },
    "papermill": {
     "duration": 1.948042,
     "end_time": "2024-12-16T20:49:35.749152",
     "exception": false,
     "start_time": "2024-12-16T20:49:33.801110",
     "status": "completed"
    },
    "tags": []
   },
   "outputs": [
    {
     "name": "stdout",
     "output_type": "stream",
     "text": [
      "File 'TrainedModels/WithoutKFCV/KNN/ItemKNNCBFRecommender/OptimizingMAP/history_ItemKNNCBF_MAP.db' created successfully.\n"
     ]
    }
   ],
   "source": [
    "if config['save_github'] and config['tune_parameters']:\n",
    "    upload_file(\n",
    "        config['database_path'], \n",
    "        f'{GH_PATH}/{config[\"model\"]}Recommender/Optimizing{config[\"metric\"]}/history_{config[\"model\"]}_{config[\"metric\"]}.db',\n",
    "        f'Tuning {config[\"model\"]}_{config[\"metric\"]} db updated results (from kaggle notebook)',\n",
    "        repo\n",
    "    )"
   ]
  },
  {
   "cell_type": "markdown",
   "id": "c3632698",
   "metadata": {
    "execution": {
     "iopub.execute_input": "2024-11-14T00:41:34.294243Z",
     "iopub.status.busy": "2024-11-14T00:41:34.293739Z",
     "iopub.status.idle": "2024-11-14T00:41:34.301478Z",
     "shell.execute_reply": "2024-11-14T00:41:34.299869Z",
     "shell.execute_reply.started": "2024-11-14T00:41:34.294186Z"
    },
    "papermill": {
     "duration": 0.064982,
     "end_time": "2024-12-16T20:49:35.887650",
     "exception": false,
     "start_time": "2024-12-16T20:49:35.822668",
     "status": "completed"
    },
    "tags": []
   },
   "source": [
    "Save the best trained model and its submission."
   ]
  },
  {
   "cell_type": "code",
   "execution_count": 20,
   "id": "333dbf23",
   "metadata": {
    "execution": {
     "iopub.execute_input": "2024-12-16T20:49:36.015458Z",
     "iopub.status.busy": "2024-12-16T20:49:36.015044Z",
     "iopub.status.idle": "2024-12-16T20:49:37.973724Z",
     "shell.execute_reply": "2024-12-16T20:49:37.972466Z"
    },
    "papermill": {
     "duration": 2.026141,
     "end_time": "2024-12-16T20:49:37.977261",
     "exception": false,
     "start_time": "2024-12-16T20:49:35.951120",
     "status": "completed"
    },
    "tags": []
   },
   "outputs": [
    {
     "name": "stdout",
     "output_type": "stream",
     "text": [
      "File 'TrainedModels/WithoutKFCV/KNN/ItemKNNCBFRecommender/OptimizingMAP/Submission/submission_ItemKNNCBF_MAP.csv' created successfully.\n"
     ]
    }
   ],
   "source": [
    "if config['save_github'] and config['tune_best_params']: \n",
    "    upload_file(\n",
    "                f'/kaggle/working/submission_{config[\"model\"]}_{config[\"metric\"]}.csv', \n",
    "                f'{GH_PATH}/{config[\"model\"]}Recommender/Optimizing{config[\"metric\"]}/Submission/submission_{config[\"model\"]}_{config[\"metric\"]}.csv', \n",
    "                f'New {config[\"model\"]}_{config[\"metric\"]} submission (from kaggle notebook)',\n",
    "                repo\n",
    "            )"
   ]
  }
 ],
 "metadata": {
  "kaggle": {
   "accelerator": "none",
   "dataSources": [
    {
     "databundleVersionId": 9982103,
     "sourceId": 87439,
     "sourceType": "competition"
    }
   ],
   "isGpuEnabled": false,
   "isInternetEnabled": true,
   "language": "python",
   "sourceType": "notebook"
  },
  "kernelspec": {
   "display_name": "Python 3",
   "language": "python",
   "name": "python3"
  },
  "language_info": {
   "codemirror_mode": {
    "name": "ipython",
    "version": 3
   },
   "file_extension": ".py",
   "mimetype": "text/x-python",
   "name": "python",
   "nbconvert_exporter": "python",
   "pygments_lexer": "ipython3",
   "version": "3.10.14"
  },
  "papermill": {
   "default_parameters": {},
   "duration": 29946.761905,
   "end_time": "2024-12-16T20:49:39.388186",
   "environment_variables": {},
   "exception": null,
   "input_path": "__notebook__.ipynb",
   "output_path": "__notebook__.ipynb",
   "parameters": {},
   "start_time": "2024-12-16T12:30:32.626281",
   "version": "2.6.0"
  }
 },
 "nbformat": 4,
 "nbformat_minor": 5
}
